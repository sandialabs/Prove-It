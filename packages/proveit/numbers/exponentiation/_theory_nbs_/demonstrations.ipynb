{
 "cells": [
  {
   "cell_type": "markdown",
   "metadata": {},
   "source": [
    "Demonstrations for the theory of <a class=\"ProveItLink\" href=\"theory.ipynb\">proveit.numbers.exponentiation</a>\n",
    "========"
   ]
  },
  {
   "cell_type": "code",
   "execution_count": 1,
   "metadata": {},
   "outputs": [],
   "source": [
    "import proveit\n",
    "from proveit import Literal, used_vars, free_vars\n",
    "from proveit import a, b, c, d, f, n, x, y\n",
    "from proveit.logic import And, Boolean, InSet, Equals, NotEquals\n",
    "from proveit.numbers import zero, one, two, three, four, five, six, frac, num\n",
    "from proveit.numbers import (Integer, Natural, NaturalPos,\n",
    "                             Rational, RationalNonZero, RationalPos, Real,\n",
    "                             RealNonNeg, RealNonPos, RealPos, Complex, ComplexNonZero)\n",
    "from proveit.numbers import Add, Neg, Div, Exp, greater, greater_eq, Mult, sqrt, subtract\n",
    "from proveit.numbers.exponentiation import sqrt_of_prod\n",
    "%begin demonstrations"
   ]
  },
  {
   "cell_type": "markdown",
   "metadata": {},
   "source": [
    "# Exponentiation (Exp) $x^{y}$"
   ]
  },
  {
   "cell_type": "markdown",
   "metadata": {},
   "source": [
    "<div style=\"line-height:1.4; font-size:14pt\">\n",
    "\n",
    "<a href='#introduction'>Introduction</a><br>\n",
    "<a href='#simple_expressions'>Simple Expressions involving Exponentiation $x^y$</a><br>\n",
    "<a href='#common_attributes'>Common Attributes of the Exp $x^y$ Expression</a><br>\n",
    "<a href='#axioms'>Axioms</a><br>\n",
    "<a href='#theorems'>Theorems</a><br>\n",
    "<a href='#further_demonstrations'>Further Demonstrations</a><br>\n",
    "    <ol>\n",
    "        <li><a href='#demo01'>TBA</a></li>\n",
    "        <li><a href='#demo02'>TBA</a></li>\n",
    "        <li><a href='#demo03'>TBA</a></li>\n",
    "    </ol>\n",
    "\n",
    "</div>\n"
   ]
  },
  {
   "cell_type": "markdown",
   "metadata": {},
   "source": [
    "## Introduction <a id='introduction'></a>"
   ]
  },
  {
   "cell_type": "markdown",
   "metadata": {},
   "source": [
    "<font size=4>The `Exp` class allows us to represent exponentiation expressions such as $2^3$, $x^y$, or $(x-3)^2$. This ``_demonstrations_`` notebook explores the `Exp` (exponentiation) class, its axioms and common theorems, and related methods.</font>"
   ]
  },
  {
   "cell_type": "markdown",
   "metadata": {},
   "source": [
    "## Simple Expressions Involving Exponentiation $x^y$<a id='simple_expressions'></a>"
   ]
  },
  {
   "cell_type": "markdown",
   "metadata": {},
   "source": [
    "<font size=4>It is straightforward to construct expressions involving exponentiation. Here are some basic examples of such expressions:</font>"
   ]
  },
  {
   "cell_type": "code",
   "execution_count": 2,
   "metadata": {},
   "outputs": [
    {
     "data": {
      "text/html": [
       "<a class=\"ProveItLink\" href=\"../__pv_it/demonstrations/b5e08413b9b59527a933ba3c0d66b0a3bb6965700/expr.ipynb\"><img src=\"data:image/png;base64,iVBORw0KGgoAAAANSUhEUgAAABUAAAAQBAMAAAAL9CkWAAAAMFBMVEX///8AAAAAAAAAAAAAAAAA\n",
       "AAAAAAAAAAAAAAAAAAAAAAAAAAAAAAAAAAAAAAAAAAAv3aB7AAAAD3RSTlMAEHarMolUmd1mIs3v\n",
       "RLtmgJDEAAAACXBIWXMAAA7EAAAOxAGVKw4bAAAAd0lEQVQI12NgAANeZQZmBigQ4hfwgbEXZjDo\n",
       "wdgMpgxGcHYvwxE4u4X3A5ydPm8DyAhlkdAExgV8E4DsAiYj9gZmhdtAJucCzo/ME3gnBQDZLAzs\n",
       "G+C6GHgUEOz7CxgFICy5CzYMrFDRfMcahmtQtrgSW2UChAkAFTwVISr5CG8AAAAASUVORK5CYII=\n",
       "\" style=\"display:inline;vertical-align:middle;\" /></a>"
      ],
      "text/plain": [
       "x^{y}"
      ]
     },
     "metadata": {},
     "output_type": "display_data"
    }
   ],
   "source": [
    "# basic expression with exponent\n",
    "Exp(x, y)"
   ]
  },
  {
   "cell_type": "code",
   "execution_count": 3,
   "metadata": {},
   "outputs": [
    {
     "data": {
      "text/html": [
       "<strong id=\"example1\">example1:</strong> <a class=\"ProveItLink\" href=\"../__pv_it/demonstrations/82407e6e66369dd078a8b533a1f7e5a4e064e24e0/expr.ipynb\"><img src=\"data:image/png;base64,iVBORw0KGgoAAAANSUhEUgAAABQAAAATBAMAAABiojCGAAAAMFBMVEX///8AAAAAAAAAAAAAAAAA\n",
       "AAAAAAAAAAAAAAAAAAAAAAAAAAAAAAAAAAAAAAAAAAAv3aB7AAAAD3RSTlMAEHarMolUmd1mIs3v\n",
       "RLtmgJDEAAAACXBIWXMAAA7EAAAOxAGVKw4bAAAAd0lEQVQI12NgAAPGUGMBCIuBnYG9Acrkv8D1\n",
       "BcrkFIAzGRhYG+BMD5g2Bq6HcMHlDKtggk9cCqFMnv//PzAwCCmLhCZABAqYjKA2cS7g/Mg8Acxk\n",
       "YWDfADeHRwHOvL+AEWKT3AUbBlaIWL5jDcM1CFNcia0SYiwAjqgW8QovdywAAAAASUVORK5CYII=\n",
       "\" style=\"display:inline;vertical-align:middle;\" /></a><br>"
      ],
      "text/plain": [
       "<IPython.core.display.HTML object>"
      ]
     },
     "metadata": {},
     "output_type": "display_data"
    },
    {
     "data": {
      "text/html": [
       "<strong id=\"example2\">example2:</strong> <a class=\"ProveItLink\" href=\"../__pv_it/demonstrations/ca958b3bf75de4d8fcb9ef08edad511a2c27700e0/expr.ipynb\"><img src=\"data:image/png;base64,iVBORw0KGgoAAAANSUhEUgAAABEAAAATBAMAAACEi/vCAAAAMFBMVEX///8AAAAAAAAAAAAAAAAA\n",
       "AAAAAAAAAAAAAAAAAAAAAAAAAAAAAAAAAAAAAAAAAAAv3aB7AAAAD3RSTlMAIpnNuzKJRKvvEN12\n",
       "ZlQ4bmvwAAAACXBIWXMAAA7EAAAOxAGVKw4bAAAAfUlEQVQI12NgAAHZN60MENDGcBLKCmXIZoCB\n",
       "vTDG4QMMDIxKJgEMDFw+DAwiDGzfgYLxAQyNDAwzuaYyyF9gmL+AoV9gF8PNBQzdDAz9AWFnGsEa\n",
       "98NMYP0DY3E3wFgqMAYvXOgZA6MARH0CA88CMEtaSUkbIrn////PYAYAUykbnwlOVPIAAAAASUVO\n",
       "RK5CYII=\n",
       "\" style=\"display:inline;vertical-align:middle;\" /></a><br>"
      ],
      "text/plain": [
       "<IPython.core.display.HTML object>"
      ]
     },
     "metadata": {},
     "output_type": "display_data"
    },
    {
     "data": {
      "text/html": [
       "<strong id=\"example3\">example3:</strong> <a class=\"ProveItLink\" href=\"../__pv_it/demonstrations/2b1a4e9f0821437e5694daa75c40cf5cb282afa20/expr.ipynb\"><img src=\"data:image/png;base64,iVBORw0KGgoAAAANSUhEUgAAADUAAAATBAMAAADCPVhoAAAAMFBMVEX///8AAAAAAAAAAAAAAAAA\n",
       "AAAAAAAAAAAAAAAAAAAAAAAAAAAAAAAAAAAAAAAAAAAv3aB7AAAAD3RSTlMAMt0Qq5nNdoki72ZE\n",
       "u1S8GQohAAAACXBIWXMAAA7EAAAOxAGVKw4bAAAAmUlEQVQoz2NgwA4sWpwZcIEAhiCccn8Y5gvg\n",
       "ktuMR46BoQmIGZWxSoGETcI+Y5WbawAk2LHKcQZwTsAlN1dQ1ACX3Pr//7GZyelRWQBlYsidmsD7\n",
       "GYcc82oGVgUUOeYkJRAAhgXrBwamBhz6uC4w2B/AIWdfwLCfAZfcAwY3vgkQNsdPVDneAj5VVgiT\n",
       "xeubN6o73RunFIJZAPpYJ3UvaIKkAAAAAElFTkSuQmCC\n",
       "\" style=\"display:inline;vertical-align:middle;\" /></a><br>"
      ],
      "text/plain": [
       "<IPython.core.display.HTML object>"
      ]
     },
     "metadata": {},
     "output_type": "display_data"
    }
   ],
   "source": [
    "# exponentials involving variables and numbers\n",
    "example1, example2, example3 = Exp(x, two), Exp(two, three), subtract(one, Exp(a, two))"
   ]
  },
  {
   "cell_type": "code",
   "execution_count": 4,
   "metadata": {},
   "outputs": [
    {
     "data": {
      "text/html": [
       "<a class=\"ProveItLink\" href=\"../__pv_it/demonstrations/d52acb685eb88130426ba05ab36ed970406b9fa30/expr.ipynb\"><img src=\"data:image/png;base64,iVBORw0KGgoAAAANSUhEUgAAAFMAAAAZBAMAAAC/Xw85AAAAMFBMVEX///8AAAAAAAAAAAAAAAAA\n",
       "AAAAAAAAAAAAAAAAAAAAAAAAAAAAAAAAAAAAAAAAAAAv3aB7AAAAD3RSTlMAqzK7Is1EmVQQid12\n",
       "Zu9LO9+JAAAACXBIWXMAAA7EAAAOxAGVKw4bAAABmElEQVQ4y2NggAH5//jBB7hKJgEGYgGzAtFK\n",
       "lYlWySAExCw4ZR2Q2CwBQOIETqU5SGzGBAYGjgXYVLGUBysw8FxACLgC8VSsBjozcH1jYIhECFQA\n",
       "cS2KEjaoQSIMDO8YGK7DxTlBTn2AopTjAIR+P4FB3oGBbwJMnKsBKBeAVak0MCIVGFjhjp0NxOxA\n",
       "X3GekdRagaoUCPYDzQJF5kwQ5ywQgzSyMxw8UI2ulOkPAwMv0Eqm5yDeBiDmBjriCsP9CbLoSrmB\n",
       "JnIAPdJhD+TwgIT5gEGrwFAKlmXfvXvf6927IUmoGGQyKGHlA+3lZoAqZWB4g+4tBl6QBjZQ8HAD\n",
       "Lb/FAHUAA9sXiOORlHYxsDgwcICcyAuMi53gZHiAgdOM8QHDAlSlTAsYeCYw8BqA2J+hkQ8MD45P\n",
       "0x+wNaAq9S4vr4aEJANDvQMrOCqYNjBw1hxov4Hm1v3//38Fug7sEf+CdIjgJqyxBTUbklU+hEC4\n",
       "17EmFwiAJCW2j9AcyOyAM2mzGEBdA1XCaYA7k0KVXIQJ+OBUegSIAQtTeeothy4qAAAAAElFTkSu\n",
       "QmCC\n",
       "\" style=\"display:inline;vertical-align:middle;\" /></a>"
      ],
      "text/plain": [
       "sqrt((x + 2))"
      ]
     },
     "metadata": {},
     "output_type": "display_data"
    }
   ],
   "source": [
    "# A sqrt portrayed with a radical is produced using the special sqrt() call,\n",
    "# which invokes the Exp() class behind the scenes with special formatting\n",
    "sqrt(Add(x, two))"
   ]
  },
  {
   "cell_type": "markdown",
   "metadata": {},
   "source": [
    "## Common Attributes of a Subset expression <a id='common_attributes'></a>"
   ]
  },
  {
   "cell_type": "markdown",
   "metadata": {},
   "source": [
    "<font size=4>Let's define a simple example exponential expression, $(x-y)^2$, and look at some of its attributes.</font>"
   ]
  },
  {
   "cell_type": "code",
   "execution_count": 5,
   "metadata": {},
   "outputs": [
    {
     "data": {
      "text/html": [
       "<strong id=\"x_minus_y_quantity_squared\">x_minus_y_quantity_squared:</strong> <a class=\"ProveItLink\" href=\"../__pv_it/demonstrations/cd3165cf78384145de1f9fb53eb60ed0226944bd0/expr.ipynb\"><img src=\"data:image/png;base64,iVBORw0KGgoAAAANSUhEUgAAAEYAAAAaBAMAAAD4TDc7AAAAMFBMVEX///8AAAAAAAAAAAAAAAAA\n",
       "AAAAAAAAAAAAAAAAAAAAAAAAAAAAAAAAAAAAAAAAAAAv3aB7AAAAD3RSTlMAInZUiRDNmWbv3US7\n",
       "qzJazP2FAAAACXBIWXMAAA7EAAAOxAGVKw4bAAABP0lEQVQoz2NgwA9YXe4GEFDCwM7AvoCQGv4N\n",
       "jP8IqeEIIKyGgYEFZJcALllGMPkK6GYmA1xquBVACo8CCRPc1mgAsTiDIANrAm41bAEMjOfelTKw\n",
       "N+DxVAED5///Hxg48flpKoQyw6cmA0KVAHGQbpwLqu+CKhhYLzAw+CKUFjBdQosVB0sGjg8MDG0Q\n",
       "3mKg0wQ4vvKiOJ3PoIqB9wADgyWEOxsowsAODgDWrFUg8ADIYpjEwAkMwfdwNQxgPmoQf2V4D1S7\n",
       "E24XA8N+AVbUlAQ0WBNIWUF4hxgYYjbcZGBBNYfnAsNZINUD4QG9Z/+0kmEzWvK7wP0DGjCgqGdg\n",
       "CFdirkCLfNYr6h+B1GoIj+sBjqQF9CrjAni8YQFuDJFAk+HxfRCbmkUMV4CkDIwbg02NhfoGZO2M\n",
       "CrhinQma0gGQ7kIOFcQs9gAAAABJRU5ErkJggg==\n",
       "\" style=\"display:inline;vertical-align:middle;\" /></a><br>"
      ],
      "text/plain": [
       "<IPython.core.display.HTML object>"
      ]
     },
     "metadata": {},
     "output_type": "display_data"
    }
   ],
   "source": [
    "x_minus_y_quantity_squared = Exp(subtract(x,y), two)"
   ]
  },
  {
   "cell_type": "code",
   "execution_count": 6,
   "metadata": {},
   "outputs": [
    {
     "data": {
      "text/html": [
       "<table><tr><th>&nbsp;</th><th>core type</th><th>sub-expressions</th><th>expression</th></tr>\n",
       "<tr><td>0</td><td>Operation</td><td>operator:&nbsp;1<br>operands:&nbsp;2<br></td><td><a class=\"ProveItLink\" href=\"../__pv_it/demonstrations/cd3165cf78384145de1f9fb53eb60ed0226944bd0/expr.ipynb\"><img src=\"data:image/png;base64,iVBORw0KGgoAAAANSUhEUgAAAEYAAAAaBAMAAAD4TDc7AAAAMFBMVEX///8AAAAAAAAAAAAAAAAA\n",
       "AAAAAAAAAAAAAAAAAAAAAAAAAAAAAAAAAAAAAAAAAAAv3aB7AAAAD3RSTlMAInZUiRDNmWbv3US7\n",
       "qzJazP2FAAAACXBIWXMAAA7EAAAOxAGVKw4bAAABP0lEQVQoz2NgwA9YXe4GEFDCwM7AvoCQGv4N\n",
       "jP8IqeEIIKyGgYEFZJcALllGMPkK6GYmA1xquBVACo8CCRPc1mgAsTiDIANrAm41bAEMjOfelTKw\n",
       "N+DxVAED5///Hxg48flpKoQyw6cmA0KVAHGQbpwLqu+CKhhYLzAw+CKUFjBdQosVB0sGjg8MDG0Q\n",
       "3mKg0wQ4vvKiOJ3PoIqB9wADgyWEOxsowsAODgDWrFUg8ADIYpjEwAkMwfdwNQxgPmoQf2V4D1S7\n",
       "E24XA8N+AVbUlAQ0WBNIWUF4hxgYYjbcZGBBNYfnAsNZINUD4QG9Z/+0kmEzWvK7wP0DGjCgqGdg\n",
       "CFdirkCLfNYr6h+B1GoIj+sBjqQF9CrjAni8YQFuDJFAk+HxfRCbmkUMV4CkDIwbg02NhfoGZO2M\n",
       "CrhinQma0gGQ7kIOFcQs9gAAAABJRU5ErkJggg==\n",
       "\" style=\"display:inline;vertical-align:middle;\" /></a></td></tr>\n",
       "<tr><td>1</td><td>Literal</td><td></td><td><a class=\"ProveItLink\" href=\"../__pv_it/common/0ac37aca1e54c35c5cda09672df32d4f69f1f3020/expr.ipynb\"><img src=\"data:image/png;base64,iVBORw0KGgoAAAANSUhEUgAAACgAAAASBAMAAADbMYGVAAAAMFBMVEX///8AAAAAAAAAAAAAAAAA\n",
       "AAAAAAAAAAAAAAAAAAAAAAAAAAAAAAAAAAAAAAAAAAAv3aB7AAAAD3RSTlMAdrvvq93NRIkQmTJm\n",
       "IlTMv30WAAAACXBIWXMAAA7EAAAOxAGVKw4bAAAA60lEQVQY02NgYBAyVnFRNWJAA9+AWAhNjP0H\n",
       "kJiFJsjxHUhMRBNk+8DAyMCNJsivwFADpDgFPXf0MWz03NgyAcirD3H6C6S4GEQEljI0uD3gUADy\n",
       "+jfwBgCpswznJ/hwP0hh4PkA5OUzMDQwTGDYwLAMaAbDPwbGn0DBTwwMFzgFgAxDkPt+MjAZAKmP\n",
       "QDYj0HD2vwwzGTgCGPgXAJ35Gyh4hYFTncUAaAzbAobDQAWsQHPZzRn4fs8yYH/AMF+BN5qBYUr+\n",
       "Fxcn+wQGzoUCr84xMLzfKHEBPWxALsAEEVjEOP9hEXz27QCQBACxdDkdPZBodAAAAABJRU5ErkJg\n",
       "gg==\n",
       "\" style=\"display:inline;vertical-align:middle;\" /></a></td></tr>\n",
       "<tr><td>2</td><td>ExprTuple</td><td>3, 4</td><td><a class=\"ProveItLink\" href=\"../__pv_it/demonstrations/66513cdd7d8394021cc5cf7117a3891589a6a1690/expr.ipynb\"><img src=\"data:image/png;base64,iVBORw0KGgoAAAANSUhEUgAAAE8AAAAVBAMAAAD1D64kAAAAMFBMVEX///8AAAAAAAAAAAAAAAAA\n",
       "AAAAAAAAAAAAAAAAAAAAAAAAAAAAAAAAAAAAAAAAAAAv3aB7AAAAD3RSTlMAInZUiRDNmWbv3US7\n",
       "qzJazP2FAAAACXBIWXMAAA7EAAAOxAGVKw4bAAABZUlEQVQoz4WTvUvDQBTAf20Sk36SuThUl+Ig\n",
       "dCiikx3ETQhdRCjSRRBx6CC0FodursVNHCy6ubToH2B1F6J00aVZXFysQkVwqHe1H0RC8+Ae7x2/\n",
       "e193B5j4ygAJpv3Ba6ky05lAad8hWAWtMB2cRf2BHdCr08FHOIVjCPmUd27RMQlZLPmAL9BxmKly\n",
       "IJzc4vaau/dcGc0eOQ1QbXaFVQw+6XUXmF3B6A7t+CcYBS6FNo1ezNVTPF0h1ho6YRFaqXEmttEH\n",
       "M9L2rqQ4wuKEUHIIHsmTXQky2RxJpMe782castZITaaGW1OzXKBIsTA0MwRMlDr3kG8+o7ojRm0e\n",
       "QB6OZwlaGC02YPX1kBs3qNuRb7QvYSVKpYrws7zB5rxS/veEtHbqA65EyEa/L/hwk7DjfSOqGIQy\n",
       "Ljwhmip6YetsiRyTwsti3XmBF7TlRY4fpRx+3gtcTjWFHk83Kv9CIOn/FebgF9OgTDnnU9/eAAAA\n",
       "AElFTkSuQmCC\n",
       "\" style=\"display:inline;vertical-align:middle;\" /></a></td></tr>\n",
       "<tr><td>3</td><td>Operation</td><td>operator:&nbsp;5<br>operands:&nbsp;6<br></td><td><a class=\"ProveItLink\" href=\"../__pv_it/demonstrations/d53880254fcf8f27e725a455efc285f171faad850/expr.ipynb\"><img src=\"data:image/png;base64,iVBORw0KGgoAAAANSUhEUgAAADAAAAANBAMAAAAdyPDHAAAAMFBMVEX///8AAAAAAAAAAAAAAAAA\n",
       "AAAAAAAAAAAAAAAAAAAAAAAAAAAAAAAAAAAAAAAAAAAv3aB7AAAAD3RSTlMAEHarMolUmd1mIs3v\n",
       "RLtmgJDEAAAACXBIWXMAAA7EAAAOxAGVKw4bAAAAnUlEQVQY02NgEFIWCU1gQAZClQyMBgwMBUxG\n",
       "7A0oEgE5DJwfGDgXcH5knoAszpJQwcD8gIGFgX0DiMu4owMEHIAshkMMPApAITCBDHg/MvgDFTDc\n",
       "X8AogCIBNEKHgUHugg0DK6oOPgOGxwwM+Y41DNdQJdgNeH8yMIgrsVWieoOB0VT9FwN2wLoBq3A0\n",
       "g0wCVokmBlPsBmWqX2BgAABESR2om+2w9QAAAABJRU5ErkJggg==\n",
       "\" style=\"display:inline;vertical-align:middle;\" /></a></td></tr>\n",
       "<tr><td>4</td><td>Literal</td><td></td><td><a class=\"ProveItLink\" href=\"../../numerals/__pv_it/common/af4aab8a07465db063742696e006d04670f30cf10/expr.ipynb\"><img src=\"data:image/png;base64,iVBORw0KGgoAAAANSUhEUgAAAAkAAAAOBAMAAAAPuiubAAAAMFBMVEX///8AAAAAAAAAAAAAAAAA\n",
       "AAAAAAAAAAAAAAAAAAAAAAAAAAAAAAAAAAAAAAAAAAAv3aB7AAAAD3RSTlMAIpnNuzKJRKvvEN12\n",
       "ZlQ4bmvwAAAACXBIWXMAAA7EAAAOxAGVKw4bAAAATklEQVQI12NgVDIJYGAQYWD7zsDQyMAwk4Fh\n",
       "/gKGfgGGbgaGfqAEA8N+EMH6B0RyN4BIFRDBC2Y+Y2AUYGBNYOBZwCCtpKQNVPz//2cGAEeID1mi\n",
       "/zO7AAAAAElFTkSuQmCC\n",
       "\" style=\"display:inline;vertical-align:middle;\" /></a></td></tr>\n",
       "<tr><td>5</td><td>Literal</td><td></td><td><a class=\"ProveItLink\" href=\"../../addition/__pv_it/common/4b7effaab3619a1c2c38fe2dee8601df8ec714590/expr.ipynb\"><img src=\"data:image/png;base64,iVBORw0KGgoAAAANSUhEUgAAAA4AAAAOBAMAAADtZjDiAAAAHlBMVEX///8AAAAAAAAAAAAAAAAA\n",
       "AAAAAAAAAAAAAAAAAACGjDitAAAACXRSTlMARGZUdpnd76sKo+zpAAAACXBIWXMAAA7EAAAOxAGV\n",
       "Kw4bAAAAH0lEQVQI12NgYGAQYoAAE2LosLS08rS0DKLVI9EgewAshQUueejZFAAAAABJRU5ErkJg\n",
       "gg==\n",
       "\" style=\"display:inline;vertical-align:middle;\" /></a></td></tr>\n",
       "<tr><td>6</td><td>ExprTuple</td><td>7, 8</td><td><a class=\"ProveItLink\" href=\"../__pv_it/demonstrations/2b2b8ed3e540d542604db8f9dfc894166db266d70/expr.ipynb\"><img src=\"data:image/png;base64,iVBORw0KGgoAAAANSUhEUgAAADwAAAAVBAMAAADocZC/AAAAMFBMVEX///8AAAAAAAAAAAAAAAAA\n",
       "AAAAAAAAAAAAAAAAAAAAAAAAAAAAAAAAAAAAAAAAAAAv3aB7AAAAD3RSTlMAInZUiRDNmWbv3US7\n",
       "qzJazP2FAAAACXBIWXMAAA7EAAAOxAGVKw4bAAABHUlEQVQoz2NgYBBgwAEYQQSTAS5pbgUgYcKA\n",
       "E2gwMLAm4JZmC2Bgb8AtzVHAwMmAB0xlMMMnncFQAiSDdONcUN0fVMHAeoGBwReogIGhgOkS+wIU\n",
       "aQdLBo4PDAxtDIuBLhDg+MqL4kI+gyoG3gMMDJYMs4EcBnaY78JWgcA6VoZJDJzAQHkPkmYAM1ED\n",
       "7CvD+wcMDDtBhjMw7BdgDUCRBhqnCaSsGA4xMMRsuMnAwsCArIDnAsNZINUDdDuD/dNKhs0MrN+Q\n",
       "dV/g/gGkShheMTCEKzFXAL29Ckk76xX1j0BqNQPXA5gQM4r1LEDPMC4ABTtMAEnSjSESaB4oug7C\n",
       "AxJJehHDFSApA8QxMCFkv1uob2CA6GRUwBVfTAIMAHc8N6O/pd18AAAAAElFTkSuQmCC\n",
       "\" style=\"display:inline;vertical-align:middle;\" /></a></td></tr>\n",
       "<tr><td>7</td><td>Variable</td><td></td><td><a class=\"ProveItLink\" href=\"../../../__pv_it/common/a0d9d672aa5e272d907247690c152cc2c6daafb70/expr.ipynb\"><img src=\"data:image/png;base64,iVBORw0KGgoAAAANSUhEUgAAAAsAAAAJBAMAAAAWSsseAAAAMFBMVEX///8AAAAAAAAAAAAAAAAA\n",
       "AAAAAAAAAAAAAAAAAAAAAAAAAAAAAAAAAAAAAAAAAAAv3aB7AAAAD3RSTlMAEHarMolUmd1mIs3v\n",
       "RLtmgJDEAAAACXBIWXMAAA7EAAAOxAGVKw4bAAAAQklEQVQI12NgEFIWCU1gYChgMmJvYOBcwPmR\n",
       "eQIDCwP7BgYQ4FEAU/cXMAowyF2wYWBlYMh3rGG4xsAgrsRWmcAAAFEjCyBvD0T9AAAAAElFTkSu\n",
       "QmCC\n",
       "\" style=\"display:inline;vertical-align:middle;\" /></a></td></tr>\n",
       "<tr><td>8</td><td>Operation</td><td>operator:&nbsp;9<br>operand:&nbsp;11<br></td><td><a class=\"ProveItLink\" href=\"../__pv_it/demonstrations/0a7cbf2fc5de552bc7ef54920ebff976c4d732640/expr.ipynb\"><img src=\"data:image/png;base64,iVBORw0KGgoAAAANSUhEUgAAABoAAAANBAMAAABFt2PeAAAAMFBMVEX///8AAAAAAAAAAAAAAAAA\n",
       "AAAAAAAAAAAAAAAAAAAAAAAAAAAAAAAAAAAAAAAAAAAv3aB7AAAAD3RSTlMAEM3dMnaZZquJVO+7\n",
       "RCKVzGW2AAAACXBIWXMAAA7EAAAOxAGVKw4bAAAAYklEQVQI12NggALRdAbGBhiHYcJqBvYPMA7L\n",
       "gmQGjgMMQsYgYMLIsJWBOwCukvcjg78DnMemwBAN5zDwNDCcQPDYGni/I3iMnWH/GJAApwKCPYlB\n",
       "egGCZ8rQiaRuedgFBgYAtR8SIKU/axwAAAAASUVORK5CYII=\n",
       "\" style=\"display:inline;vertical-align:middle;\" /></a></td></tr>\n",
       "<tr><td>9</td><td>Literal</td><td></td><td><a class=\"ProveItLink\" href=\"../../negation/__pv_it/common/221b3c4d1770ee9051b7c044c3f9ec61196fc34b0/expr.ipynb\"><img src=\"data:image/png;base64,iVBORw0KGgoAAAANSUhEUgAAAA4AAAABBAMAAAAcMII3AAAAElBMVEX///8AAAAAAAAAAAAAAAAA\n",
       "AABknMCaAAAABXRSTlMAEM3dMvdEvu8AAAAJcEhZcwAADsQAAA7EAZUrDhsAAAANSURBVAjXYxAy\n",
       "BgETAAS2AUbzwGpmAAAAAElFTkSuQmCC\n",
       "\" style=\"display:inline;vertical-align:middle;\" /></a></td></tr>\n",
       "<tr><td>10</td><td>ExprTuple</td><td>11</td><td><a class=\"ProveItLink\" href=\"../__pv_it/demonstrations/c60c4da4d0e362e1aae93eaa5e9af5fbed84db960/expr.ipynb\"><img src=\"data:image/png;base64,iVBORw0KGgoAAAANSUhEUgAAABcAAAAVBAMAAABfzGiYAAAAMFBMVEX///8AAAAAAAAAAAAAAAAA\n",
       "AAAAAAAAAAAAAAAAAAAAAAAAAAAAAAAAAAAAAAAAAAAv3aB7AAAAD3RSTlMAInZUiRDNmWbv3US7\n",
       "qzJazP2FAAAACXBIWXMAAA7EAAAOxAGVKw4bAAAAyElEQVQY0z2PvQ7BYBSGH62qVonZVJPVIGYx\n",
       "2CS9AJIuEqNBRCKisRg1jBaJGxA30LJLXIBBYjO5AnE+xZecn+fLe/6AIp/3CVo1gYNytSRHC8Dw\n",
       "v0APzOAHC7B+OZZH/Q+ZgKGUVQK6kL7QF6+HLCHrs4O7ueUK8rUBz3JZQeGpgMgrvCAXKhkjtFBk\n",
       "W04CZ5yLNIhpC0yJZA+zwUOg25zJAfYe+6amt8RKohyQ9o21wFjsiO3mG5CKBTro84lER92dcpOl\n",
       "y/AG0sAkFSf5QrsAAAAASUVORK5CYII=\n",
       "\" style=\"display:inline;vertical-align:middle;\" /></a></td></tr>\n",
       "<tr><td>11</td><td>Variable</td><td></td><td><a class=\"ProveItLink\" href=\"../../../__pv_it/common/ff7dba4ef0bbe791ab573bf2d9c220a304399ac80/expr.ipynb\"><img src=\"data:image/png;base64,iVBORw0KGgoAAAANSUhEUgAAAAsAAAANBAMAAACN24kIAAAAMFBMVEX///8AAAAAAAAAAAAAAAAA\n",
       "AAAAAAAAAAAAAAAAAAAAAAAAAAAAAAAAAAAAAAAAAAAv3aB7AAAAD3RSTlMAEHaZZquJVO8y3btE\n",
       "zSKD2s2pAAAACXBIWXMAAA7EAAAOxAGVKw4bAAAAVklEQVQI12NgVHZgEGVgYGNvYPBnYJjOvIAh\n",
       "moFBgEOBoYmBgeG8AOdPIGXLwNQApLYycAcAKVOG8w5ASjTJ/gEDCOQCMdsFxnYgxaXAmgCk2J1s\n",
       "gCQAaFoNDtFIIdEAAAAASUVORK5CYII=\n",
       "\" style=\"display:inline;vertical-align:middle;\" /></a></td></tr>\n",
       "</table>\n"
      ],
      "text/plain": [
       "0. (x - y)^{2}\n",
       "   core type: Operation\n",
       "   operator: 1\n",
       "   operands: 2\n",
       "1. Exp\n",
       "   core type: Literal\n",
       "   sub-expressions: \n",
       "2. (x - y, 2)\n",
       "   core type: ExprTuple\n",
       "   sub-expressions: 3, 4\n",
       "3. x - y\n",
       "   core type: Operation\n",
       "   operator: 5\n",
       "   operands: 6\n",
       "4. 2\n",
       "   core type: Literal\n",
       "   sub-expressions: \n",
       "5. +\n",
       "   core type: Literal\n",
       "   sub-expressions: \n",
       "6. (x, -y)\n",
       "   core type: ExprTuple\n",
       "   sub-expressions: 7, 8\n",
       "7. x\n",
       "   core type: Variable\n",
       "   sub-expressions: \n",
       "8. -y\n",
       "   core type: Operation\n",
       "   operator: 9\n",
       "   operand: 11\n",
       "9. -\n",
       "   core type: Literal\n",
       "   sub-expressions: \n",
       "10. (y)\n",
       "    core type: ExprTuple\n",
       "    sub-expressions: 11\n",
       "11. y\n",
       "    core type: Variable\n",
       "    sub-expressions: "
      ]
     },
     "metadata": {},
     "output_type": "display_data"
    }
   ],
   "source": [
    "x_minus_y_quantity_squared.expr_info()"
   ]
  },
  {
   "cell_type": "markdown",
   "metadata": {},
   "source": [
    "<font size=4>We can access the base and exponent separately, and identify the `Exp` operator as the outermost operation:</font>"
   ]
  },
  {
   "cell_type": "code",
   "execution_count": 7,
   "metadata": {},
   "outputs": [
    {
     "data": {
      "text/html": [
       "<a class=\"ProveItLink\" href=\"../__pv_it/demonstrations/d53880254fcf8f27e725a455efc285f171faad850/expr.ipynb\"><img src=\"data:image/png;base64,iVBORw0KGgoAAAANSUhEUgAAADAAAAANBAMAAAAdyPDHAAAAMFBMVEX///8AAAAAAAAAAAAAAAAA\n",
       "AAAAAAAAAAAAAAAAAAAAAAAAAAAAAAAAAAAAAAAAAAAv3aB7AAAAD3RSTlMAEHarMolUmd1mIs3v\n",
       "RLtmgJDEAAAACXBIWXMAAA7EAAAOxAGVKw4bAAAAnUlEQVQY02NgEFIWCU1gQAZClQyMBgwMBUxG\n",
       "7A0oEgE5DJwfGDgXcH5knoAszpJQwcD8gIGFgX0DiMu4owMEHIAshkMMPApAITCBDHg/MvgDFTDc\n",
       "X8AogCIBNEKHgUHugg0DK6oOPgOGxwwM+Y41DNdQJdgNeH8yMIgrsVWieoOB0VT9FwN2wLoBq3A0\n",
       "g0wCVokmBlPsBmWqX2BgAABESR2om+2w9QAAAABJRU5ErkJggg==\n",
       "\" style=\"display:inline;vertical-align:middle;\" /></a>"
      ],
      "text/plain": [
       "x - y"
      ]
     },
     "metadata": {},
     "output_type": "display_data"
    }
   ],
   "source": [
    "x_minus_y_quantity_squared.base"
   ]
  },
  {
   "cell_type": "code",
   "execution_count": 8,
   "metadata": {},
   "outputs": [
    {
     "data": {
      "text/html": [
       "<a class=\"ProveItLink\" href=\"../../numerals/__pv_it/common/af4aab8a07465db063742696e006d04670f30cf10/expr.ipynb\"><img src=\"data:image/png;base64,iVBORw0KGgoAAAANSUhEUgAAAAkAAAAOBAMAAAAPuiubAAAAMFBMVEX///8AAAAAAAAAAAAAAAAA\n",
       "AAAAAAAAAAAAAAAAAAAAAAAAAAAAAAAAAAAAAAAAAAAv3aB7AAAAD3RSTlMAIpnNuzKJRKvvEN12\n",
       "ZlQ4bmvwAAAACXBIWXMAAA7EAAAOxAGVKw4bAAAATklEQVQI12NgVDIJYGAQYWD7zsDQyMAwk4Fh\n",
       "/gKGfgGGbgaGfqAEA8N+EMH6B0RyN4BIFRDBC2Y+Y2AUYGBNYOBZwCCtpKQNVPz//2cGAEeID1mi\n",
       "/zO7AAAAAElFTkSuQmCC\n",
       "\" style=\"display:inline;vertical-align:middle;\" /></a>"
      ],
      "text/plain": [
       "2"
      ]
     },
     "metadata": {},
     "output_type": "display_data"
    }
   ],
   "source": [
    "x_minus_y_quantity_squared.exponent"
   ]
  },
  {
   "cell_type": "code",
   "execution_count": 9,
   "metadata": {},
   "outputs": [
    {
     "data": {
      "text/html": [
       "<a class=\"ProveItLink\" href=\"../__pv_it/common/0ac37aca1e54c35c5cda09672df32d4f69f1f3020/expr.ipynb\"><img src=\"data:image/png;base64,iVBORw0KGgoAAAANSUhEUgAAACgAAAASBAMAAADbMYGVAAAAMFBMVEX///8AAAAAAAAAAAAAAAAA\n",
       "AAAAAAAAAAAAAAAAAAAAAAAAAAAAAAAAAAAAAAAAAAAv3aB7AAAAD3RSTlMAdrvvq93NRIkQmTJm\n",
       "IlTMv30WAAAACXBIWXMAAA7EAAAOxAGVKw4bAAAA60lEQVQY02NgYBAyVnFRNWJAA9+AWAhNjP0H\n",
       "kJiFJsjxHUhMRBNk+8DAyMCNJsivwFADpDgFPXf0MWz03NgyAcirD3H6C6S4GEQEljI0uD3gUADy\n",
       "+jfwBgCpswznJ/hwP0hh4PkA5OUzMDQwTGDYwLAMaAbDPwbGn0DBTwwMFzgFgAxDkPt+MjAZAKmP\n",
       "QDYj0HD2vwwzGTgCGPgXAJ35Gyh4hYFTncUAaAzbAobDQAWsQHPZzRn4fs8yYH/AMF+BN5qBYUr+\n",
       "Fxcn+wQGzoUCr84xMLzfKHEBPWxALsAEEVjEOP9hEXz27QCQBACxdDkdPZBodAAAAABJRU5ErkJg\n",
       "gg==\n",
       "\" style=\"display:inline;vertical-align:middle;\" /></a>"
      ],
      "text/plain": [
       "Exp"
      ]
     },
     "metadata": {},
     "output_type": "display_data"
    }
   ],
   "source": [
    "x_minus_y_quantity_squared.operator"
   ]
  },
  {
   "cell_type": "markdown",
   "metadata": {},
   "source": [
    "<font size=4>We can grab all the components (base and exponent) of the expression simultaneously as a tuple of expressions. We can also get a list of the variables and a separate list of the *free* variables in the expression (of course, in this expression, all the variables are also free variables):</font>"
   ]
  },
  {
   "cell_type": "code",
   "execution_count": 10,
   "metadata": {},
   "outputs": [
    {
     "data": {
      "text/html": [
       "<a class=\"ProveItLink\" href=\"../__pv_it/demonstrations/66513cdd7d8394021cc5cf7117a3891589a6a1690/expr.ipynb\"><img src=\"data:image/png;base64,iVBORw0KGgoAAAANSUhEUgAAAE8AAAAVBAMAAAD1D64kAAAAMFBMVEX///8AAAAAAAAAAAAAAAAA\n",
       "AAAAAAAAAAAAAAAAAAAAAAAAAAAAAAAAAAAAAAAAAAAv3aB7AAAAD3RSTlMAInZUiRDNmWbv3US7\n",
       "qzJazP2FAAAACXBIWXMAAA7EAAAOxAGVKw4bAAABZUlEQVQoz4WTvUvDQBTAf20Sk36SuThUl+Ig\n",
       "dCiikx3ETQhdRCjSRRBx6CC0FodursVNHCy6ubToH2B1F6J00aVZXFysQkVwqHe1H0RC8+Ae7x2/\n",
       "e193B5j4ygAJpv3Ba6ky05lAad8hWAWtMB2cRf2BHdCr08FHOIVjCPmUd27RMQlZLPmAL9BxmKly\n",
       "IJzc4vaau/dcGc0eOQ1QbXaFVQw+6XUXmF3B6A7t+CcYBS6FNo1ezNVTPF0h1ho6YRFaqXEmttEH\n",
       "M9L2rqQ4wuKEUHIIHsmTXQky2RxJpMe782castZITaaGW1OzXKBIsTA0MwRMlDr3kG8+o7ojRm0e\n",
       "QB6OZwlaGC02YPX1kBs3qNuRb7QvYSVKpYrws7zB5rxS/veEtHbqA65EyEa/L/hwk7DjfSOqGIQy\n",
       "Ljwhmip6YetsiRyTwsti3XmBF7TlRY4fpRx+3gtcTjWFHk83Kv9CIOn/FebgF9OgTDnnU9/eAAAA\n",
       "AElFTkSuQmCC\n",
       "\" style=\"display:inline;vertical-align:middle;\" /></a>"
      ],
      "text/plain": [
       "(x - y, 2)"
      ]
     },
     "metadata": {},
     "output_type": "display_data"
    }
   ],
   "source": [
    "x_minus_y_quantity_squared.operands"
   ]
  },
  {
   "cell_type": "code",
   "execution_count": 11,
   "metadata": {},
   "outputs": [
    {
     "data": {
      "text/html": [
       "<a class=\"ProveItLink\" href=\"../../../__pv_it/common/70b6dfe187a2382408546cc714e0c3bc5c3a48c90/expr.ipynb\"><img src=\"data:image/png;base64,iVBORw0KGgoAAAANSUhEUgAAACwAAAAVBAMAAADP3xFXAAAAMFBMVEX///8AAAAAAAAAAAAAAAAA\n",
       "AAAAAAAAAAAAAAAAAAAAAAAAAAAAAAAAAAAAAAAAAAAv3aB7AAAAD3RSTlMAInZUiRDNmWbv3US7\n",
       "qzJazP2FAAAACXBIWXMAAA7EAAAOxAGVKw4bAAABFElEQVQY022QIU8DQRBG31273JVScj8A0WAK\n",
       "gqSCEIoBQXAkzRlC0hAksqKioFAoFAkK04AD0wSFguJJLqQGV4PBFEQJkm/veuauk+zM7tvZ2W8G\n",
       "CMiYY51bz+JyVW6dnK2AOc7juSbeeR77bUrMsGs2ZuETOvLh2tFuoifsYiLY1wW03XevF+OdBv43\n",
       "XHCnHwJ/Uol/XqyfUXmBBjc64E1VGq4oqZmxxcTbpMEJ4xE82SLwHJhmjPVsVWGLV2j1PyiCvViI\n",
       "eFO4lBa2P095xPza7Kj8p9DhCw6WC13Jvle6GdZ+hB+YH6WtFeLyRYlyenYsU1N59jjUOzu+QYpD\n",
       "rVuG8ktarRRb7Zu1PkmmU83Ozw34B0+VM03mG9eBAAAAAElFTkSuQmCC\n",
       "\" style=\"display:inline;vertical-align:middle;\" /></a>"
      ],
      "text/plain": [
       "(x, y)"
      ]
     },
     "metadata": {},
     "output_type": "display_data"
    }
   ],
   "source": [
    "used_vars(x_minus_y_quantity_squared)"
   ]
  },
  {
   "cell_type": "code",
   "execution_count": 12,
   "metadata": {},
   "outputs": [
    {
     "data": {
      "text/html": [
       "<a class=\"ProveItLink\" href=\"../../../__pv_it/common/70b6dfe187a2382408546cc714e0c3bc5c3a48c90/expr.ipynb\"><img src=\"data:image/png;base64,iVBORw0KGgoAAAANSUhEUgAAACwAAAAVBAMAAADP3xFXAAAAMFBMVEX///8AAAAAAAAAAAAAAAAA\n",
       "AAAAAAAAAAAAAAAAAAAAAAAAAAAAAAAAAAAAAAAAAAAv3aB7AAAAD3RSTlMAInZUiRDNmWbv3US7\n",
       "qzJazP2FAAAACXBIWXMAAA7EAAAOxAGVKw4bAAABFElEQVQY022QIU8DQRBG31273JVScj8A0WAK\n",
       "gqSCEIoBQXAkzRlC0hAksqKioFAoFAkK04AD0wSFguJJLqQGV4PBFEQJkm/veuauk+zM7tvZ2W8G\n",
       "CMiYY51bz+JyVW6dnK2AOc7juSbeeR77bUrMsGs2ZuETOvLh2tFuoifsYiLY1wW03XevF+OdBv43\n",
       "XHCnHwJ/Uol/XqyfUXmBBjc64E1VGq4oqZmxxcTbpMEJ4xE82SLwHJhmjPVsVWGLV2j1PyiCvViI\n",
       "eFO4lBa2P095xPza7Kj8p9DhCw6WC13Jvle6GdZ+hB+YH6WtFeLyRYlyenYsU1N59jjUOzu+QYpD\n",
       "rVuG8ktarRRb7Zu1PkmmU83Ozw34B0+VM03mG9eBAAAAAElFTkSuQmCC\n",
       "\" style=\"display:inline;vertical-align:middle;\" /></a>"
      ],
      "text/plain": [
       "(x, y)"
      ]
     },
     "metadata": {},
     "output_type": "display_data"
    }
   ],
   "source": [
    "free_vars(x_minus_y_quantity_squared)"
   ]
  },
  {
   "cell_type": "markdown",
   "metadata": {},
   "source": [
    "## Axioms <a id='axioms'></a>"
   ]
  },
  {
   "cell_type": "markdown",
   "metadata": {},
   "source": [
    "<font size=4>The ``axioms`` for the exponentiation theory establish the basic definitions of exponentiation … Actually, right now we have no separate axioms for the exponentiation theory.</font>"
   ]
  },
  {
   "cell_type": "markdown",
   "metadata": {},
   "source": [
    "## Theorems <a id='theorems'></a>"
   ]
  },
  {
   "cell_type": "markdown",
   "metadata": {},
   "source": [
    "<font size=4>The ``theorems`` for the exponentiation theory establish many of the basic laws of exponentiation as well as some closure principles.</font>"
   ]
  },
  {
   "cell_type": "markdown",
   "metadata": {},
   "source": [
    "## Demonstrations (TBA) <a id='further_demonstrations'></a>"
   ]
  },
  {
   "cell_type": "markdown",
   "metadata": {},
   "source": [
    "<a id='demo01'></a><font size=4>1. TBA.<br><br>\n",
    "We begin with something simple …</font>"
   ]
  },
  {
   "cell_type": "markdown",
   "metadata": {},
   "source": [
    "<a id='demo02'></a><font size=4><br>2. TBA.<br><br>\n",
    "Something else relatively simple …</font>"
   ]
  },
  {
   "cell_type": "markdown",
   "metadata": {},
   "source": [
    "<a id='demo03'></a><font size=4><br>3. TBA.<br><br>\n",
    "Something more complex …</font>"
   ]
  },
  {
   "cell_type": "markdown",
   "metadata": {},
   "source": [
    "## Misc To Be Integrated Into the Demonstration Page"
   ]
  },
  {
   "cell_type": "code",
   "execution_count": 13,
   "metadata": {},
   "outputs": [
    {
     "data": {
      "text/html": [
       "<strong id=\"exp_test_01\">exp_test_01:</strong> <a class=\"ProveItLink\" href=\"../__pv_it/demonstrations/b5e08413b9b59527a933ba3c0d66b0a3bb6965700/expr.ipynb\"><img src=\"data:image/png;base64,iVBORw0KGgoAAAANSUhEUgAAABUAAAAQBAMAAAAL9CkWAAAAMFBMVEX///8AAAAAAAAAAAAAAAAA\n",
       "AAAAAAAAAAAAAAAAAAAAAAAAAAAAAAAAAAAAAAAAAAAv3aB7AAAAD3RSTlMAEHarMolUmd1mIs3v\n",
       "RLtmgJDEAAAACXBIWXMAAA7EAAAOxAGVKw4bAAAAd0lEQVQI12NgAANeZQZmBigQ4hfwgbEXZjDo\n",
       "wdgMpgxGcHYvwxE4u4X3A5ydPm8DyAhlkdAExgV8E4DsAiYj9gZmhdtAJucCzo/ME3gnBQDZLAzs\n",
       "G+C6GHgUEOz7CxgFICy5CzYMrFDRfMcahmtQtrgSW2UChAkAFTwVISr5CG8AAAAASUVORK5CYII=\n",
       "\" style=\"display:inline;vertical-align:middle;\" /></a><br>"
      ],
      "text/plain": [
       "<IPython.core.display.HTML object>"
      ]
     },
     "metadata": {},
     "output_type": "display_data"
    },
    {
     "data": {
      "text/html": [
       "<strong id=\"exp_test_02\">exp_test_02:</strong> <a class=\"ProveItLink\" href=\"../__pv_it/demonstrations/ca958b3bf75de4d8fcb9ef08edad511a2c27700e0/expr.ipynb\"><img src=\"data:image/png;base64,iVBORw0KGgoAAAANSUhEUgAAABEAAAATBAMAAACEi/vCAAAAMFBMVEX///8AAAAAAAAAAAAAAAAA\n",
       "AAAAAAAAAAAAAAAAAAAAAAAAAAAAAAAAAAAAAAAAAAAv3aB7AAAAD3RSTlMAIpnNuzKJRKvvEN12\n",
       "ZlQ4bmvwAAAACXBIWXMAAA7EAAAOxAGVKw4bAAAAfUlEQVQI12NgAAHZN60MENDGcBLKCmXIZoCB\n",
       "vTDG4QMMDIxKJgEMDFw+DAwiDGzfgYLxAQyNDAwzuaYyyF9gmL+AoV9gF8PNBQzdDAz9AWFnGsEa\n",
       "98NMYP0DY3E3wFgqMAYvXOgZA6MARH0CA88CMEtaSUkbIrn////PYAYAUykbnwlOVPIAAAAASUVO\n",
       "RK5CYII=\n",
       "\" style=\"display:inline;vertical-align:middle;\" /></a><br>"
      ],
      "text/plain": [
       "<IPython.core.display.HTML object>"
      ]
     },
     "metadata": {},
     "output_type": "display_data"
    },
    {
     "data": {
      "text/html": [
       "<strong id=\"exp_test_03\">exp_test_03:</strong> <a class=\"ProveItLink\" href=\"../__pv_it/demonstrations/7fae72758e117db14c9596e62821503a83e4892f0/expr.ipynb\"><img src=\"data:image/png;base64,iVBORw0KGgoAAAANSUhEUgAAABsAAAAVBAMAAABF8IgWAAAAMFBMVEX///8AAAAAAAAAAAAAAAAA\n",
       "AAAAAAAAAAAAAAAAAAAAAAAAAAAAAAAAAAAAAAAAAAAv3aB7AAAAD3RSTlMAMom7q0QizZkQVN1m\n",
       "du8ilFydAAAACXBIWXMAAA7EAAAOxAGVKw4bAAAAsklEQVQY02NggADG/yDwAcpjYBZgQAbCKDwG\n",
       "VxQeWwEKlyMAhTudgSGj3RDO7WJgM2DQhynh3MDAksDA9wDKZTrAwPeTgeUbkLkUiLkZGFiACj4y\n",
       "MPA+B3LvgtVwA90oqQ903gYwV/4CkJjvwMBzAczdAnbBNwbuCWCGAdh9PxgWgSWPQGyxn1AJorgU\n",
       "GNJAdPytBhAlxMBwE0SzP08A6dnR0QG2gOsL2FJg2EB8WYbwGQBvoynegwW/+wAAAABJRU5ErkJg\n",
       "gg==\n",
       "\" style=\"display:inline;vertical-align:middle;\" /></a><br>"
      ],
      "text/plain": [
       "<IPython.core.display.HTML object>"
      ]
     },
     "metadata": {},
     "output_type": "display_data"
    }
   ],
   "source": [
    "# Some example test expressions involving Exp or sqrt()\n",
    "exp_test_01, exp_test_02, exp_test_03 = Exp(x, y), Exp(two, three), sqrt(two)"
   ]
  },
  {
   "cell_type": "markdown",
   "metadata": {},
   "source": [
    "### Evaluations"
   ]
  },
  {
   "cell_type": "code",
   "execution_count": 14,
   "metadata": {},
   "outputs": [
    {
     "data": {
      "text/html": [
       "<span style=\"font-size:20px;\"> <a class=\"ProveItLink\" href=\"../__pv_it/demonstrations/a9b57b2ad38494d38b5d915ae1bae36530f01eab0/proof.ipynb\" style=\"text-decoration: none\">&nbsp;&#x22A2;&nbsp;&nbsp;</a><a class=\"ProveItLink\" href=\"../__pv_it/demonstrations/9634a9765527d33d34c9c9e61f4564d9a82e0cad0/expr.ipynb\"><img src=\"data:image/png;base64,iVBORw0KGgoAAAANSUhEUgAAAEQAAAATBAMAAADbtrbOAAAAMFBMVEX///8AAAAAAAAAAAAAAAAA\n",
       "AAAAAAAAAAAAAAAAAAAAAAAAAAAAAAAAAAAAAAAAAAAv3aB7AAAAD3RSTlMAIomZu0QQVHbN72bd\n",
       "Mqv0UZE7AAAACXBIWXMAAA7EAAAOxAGVKw4bAAABDElEQVQoz2NgAAHG7X0XGPADPgWOBQSU8F5g\n",
       "OsBACPBsIKSCYwZWYekEMCWk7AokUxrQZBmNp1xgqP////8CBjYDhvoCoGv+oikRYWD6yqBibGxT\n",
       "wMDxnSF/QtYFxt9oSh4yMKxiUGBgEGZgYF3KwD+BJ4F7GZqS9QkM7wWAxj8A8+o38Gr0CaApecPA\n",
       "8B4YnEzgIGU9jcOb58FOAgVb31u4oM0ZEDgHDc8fQOIphA3yEbbQBDqDERovXN+wKjEBYqYJ4Ohh\n",
       "YPmOTQU3yC88DkCC/xuSEmS3FDEwCjDkg9RxPcBuEa8CA0cCQ7wByLwNwHDBokQGGPZAnyiA2MHG\n",
       "rlgD5f//nwwMUkDPAgB8Ukje8Ei28AAAAABJRU5ErkJggg==\n",
       "\" style=\"display:inline;vertical-align:middle;\" /></a></span>"
      ],
      "text/plain": [
       "|- 3^{3} = 27"
      ]
     },
     "metadata": {},
     "output_type": "display_data"
    }
   ],
   "source": [
    "Exp(three, three).evaluation()"
   ]
  },
  {
   "cell_type": "markdown",
   "metadata": {},
   "source": [
    "Some testing of closure theorems."
   ]
  },
  {
   "cell_type": "code",
   "execution_count": 15,
   "metadata": {},
   "outputs": [
    {
     "data": {
      "text/html": [
       "<span style=\"font-size:20px;\"><a class=\"ProveItLink\" href=\"../__pv_it/demonstrations/b7153c0033e407b6f25af7375428bbdcf12a6b600/expr.ipynb\"><img src=\"data:image/png;base64,iVBORw0KGgoAAAANSUhEUgAAADQAAAAQBAMAAACra0H4AAAAMFBMVEX///8AAAAAAAAAAAAAAAAA\n",
       "AAAAAAAAAAAAAAAAAAAAAAAAAAAAAAAAAAAAAAAAAAAv3aB7AAAAD3RSTlMAEHarMolUmd1mIs3v\n",
       "RLtmgJDEAAAACXBIWXMAAA7EAAAOxAGVKw4bAAAA3klEQVQY02NgwACM/e82MrCeP8uABfAlXGZg\n",
       "kMcmw8DcxTqBgQe7VB7DLgYOFCG9jo4NYKmVCqtRpW4rwnQtMGEKAEkJKYuEJgBpro1wAxfwMbwF\n",
       "SRUwGbE3AGnuBQgplgIJCQYGzgWcH5kngKQQzljAMI3tDQMDCwM72G4Gnw4geACVYhawAbF4FMBS\n",
       "csi6GA0kQKz7CxgFgBQHshSDEx9Q8QUbBlaQAJMCPKAcgDw/BoZ8xxqGa2CRbTApbpBfqhkYxJXY\n",
       "KhPAIsJvBcA0y/5zQFIaJaCuvoAEFBQAAFKNLSS7ExREAAAAAElFTkSuQmCC\n",
       "\" style=\"display:inline;vertical-align:middle;\" /></a>, <a class=\"ProveItLink\" href=\"../__pv_it/demonstrations/17c23827fca080b752568c5794e0898dfd342a790/expr.ipynb\"><img src=\"data:image/png;base64,iVBORw0KGgoAAAANSUhEUgAAADMAAAATBAMAAADPIygvAAAAMFBMVEX///8AAAAAAAAAAAAAAAAA\n",
       "AAAAAAAAAAAAAAAAAAAAAAAAAAAAAAAAAAAAAAAAAAAv3aB7AAAAD3RSTlMAEHaZZquJVO8y3btE\n",
       "zSKD2s2pAAAACXBIWXMAAA7EAAAOxAGVKw4bAAAA8UlEQVQoz2NgwABSv/cKMGT8OMCABWznCWBg\n",
       "/IBNhiHqQQoDQwNWqfANvA8YFqAIaa9adQFExznxXUCVOqsIZcSxTlADSTEqOzCIggT4LsLUxDFs\n",
       "4D4AlGJjb2DwBwkAzYdLTWZcCJSazryAIRosxYCQYimoBrpQgEOBoQkkMGMVEGyASDEEsoIcf16A\n",
       "8ydIQBpJF4MoI8iFtgxMYO9xIUtxKoD0b2XgDgAJMCnApHYCsSZIypThvANY5DpMCsRgBnleNMke\n",
       "4mzRPQJgeu4PoA5GcLgw5EJVH9sFCSgYYLvA2M6AHXApsCbgkGJ3ssEhAwDKnjnm77si5wAAAABJ\n",
       "RU5ErkJggg==\n",
       "\" style=\"display:inline;vertical-align:middle;\" /></a> <a class=\"ProveItLink\" href=\"../__pv_it/demonstrations/95ea14280afa364be5b0d4e31cdaa572fb1d0ff50/proof.ipynb\" style=\"text-decoration: none\">&nbsp;&#x22A2;&nbsp;&nbsp;</a><a class=\"ProveItLink\" href=\"../__pv_it/demonstrations/29d8fb21e46af30a9d0aac02541b3827e74f6b420/expr.ipynb\"><img src=\"data:image/png;base64,iVBORw0KGgoAAAANSUhEUgAAAEoAAAATBAMAAADFf4Z9AAAAMFBMVEX///8AAAAAAAAAAAAAAAAA\n",
       "AAAAAAAAAAAAAAAAAAAAAAAAAAAAAAAAAAAAAAAAAAAv3aB7AAAAD3RSTlMAEHarMolUmd1mIs3v\n",
       "RLtmgJDEAAAACXBIWXMAAA7EAAAOxAGVKw4bAAABH0lEQVQoz2NgIAgKGIgBD+AsXmUGZsKqhPgF\n",
       "fFCkGPvfbWRgPX8WRdXCDAY9VBP4Ei4zMMijmsVgymCEqoq5i3UCAw8D+7t35969hAn2MhxBU5XH\n",
       "sIuBA82sFt4PEIZeR8cGsKqVCqsxVKXPA8sx3FaEmbXAhCkAoUpIWSQ0gXEB3wQQh2sj3MYFfAxv\n",
       "EaoKmIzYG5gVboPluBcgVLEUSEjAwp5zAedH5gm8kwIgqhCuX8Awje0NjMfCwL4B4TyfDiB4AFXF\n",
       "LGCDkOFRQLDlkM1iNJBAyNxfwCgAY3Mgq2Jw4oPrvmDDwAqXY4Kby+cA5PnBePmONQzXEAZvgzG4\n",
       "E4BENYwnrsRWmYBQJfwWYjvL/nNAUhpXarr6omMDhiAAX19DjfR6XNYAAAAASUVORK5CYII=\n",
       "\" style=\"display:inline;vertical-align:middle;\" /></a></span>"
      ],
      "text/plain": [
       "{x in Natural, y in Natural} |- x^{y} in NaturalPos"
      ]
     },
     "metadata": {},
     "output_type": "display_data"
    }
   ],
   "source": [
    "InSet(exp_test_01, NaturalPos).prove(assumptions=[InSet(x, Natural), InSet(y, Natural)])"
   ]
  },
  {
   "cell_type": "code",
   "execution_count": 16,
   "metadata": {},
   "outputs": [
    {
     "data": {
      "text/html": [
       "<span style=\"font-size:20px;\"><a class=\"ProveItLink\" href=\"../__pv_it/demonstrations/b7153c0033e407b6f25af7375428bbdcf12a6b600/expr.ipynb\"><img src=\"data:image/png;base64,iVBORw0KGgoAAAANSUhEUgAAADQAAAAQBAMAAACra0H4AAAAMFBMVEX///8AAAAAAAAAAAAAAAAA\n",
       "AAAAAAAAAAAAAAAAAAAAAAAAAAAAAAAAAAAAAAAAAAAv3aB7AAAAD3RSTlMAEHarMolUmd1mIs3v\n",
       "RLtmgJDEAAAACXBIWXMAAA7EAAAOxAGVKw4bAAAA3klEQVQY02NgwACM/e82MrCeP8uABfAlXGZg\n",
       "kMcmw8DcxTqBgQe7VB7DLgYOFCG9jo4NYKmVCqtRpW4rwnQtMGEKAEkJKYuEJgBpro1wAxfwMbwF\n",
       "SRUwGbE3AGnuBQgplgIJCQYGzgWcH5kngKQQzljAMI3tDQMDCwM72G4Gnw4geACVYhawAbF4FMBS\n",
       "csi6GA0kQKz7CxgFgBQHshSDEx9Q8QUbBlaQAJMCPKAcgDw/BoZ8xxqGa2CRbTApbpBfqhkYxJXY\n",
       "KhPAIsJvBcA0y/5zQFIaJaCuvoAEFBQAAFKNLSS7ExREAAAAAElFTkSuQmCC\n",
       "\" style=\"display:inline;vertical-align:middle;\" /></a>, <a class=\"ProveItLink\" href=\"../__pv_it/demonstrations/17c23827fca080b752568c5794e0898dfd342a790/expr.ipynb\"><img src=\"data:image/png;base64,iVBORw0KGgoAAAANSUhEUgAAADMAAAATBAMAAADPIygvAAAAMFBMVEX///8AAAAAAAAAAAAAAAAA\n",
       "AAAAAAAAAAAAAAAAAAAAAAAAAAAAAAAAAAAAAAAAAAAv3aB7AAAAD3RSTlMAEHaZZquJVO8y3btE\n",
       "zSKD2s2pAAAACXBIWXMAAA7EAAAOxAGVKw4bAAAA8UlEQVQoz2NgwABSv/cKMGT8OMCABWznCWBg\n",
       "/IBNhiHqQQoDQwNWqfANvA8YFqAIaa9adQFExznxXUCVOqsIZcSxTlADSTEqOzCIggT4LsLUxDFs\n",
       "4D4AlGJjb2DwBwkAzYdLTWZcCJSazryAIRosxYCQYimoBrpQgEOBoQkkMGMVEGyASDEEsoIcf16A\n",
       "8ydIQBpJF4MoI8iFtgxMYO9xIUtxKoD0b2XgDgAJMCnApHYCsSZIypThvANY5DpMCsRgBnleNMke\n",
       "4mzRPQJgeu4PoA5GcLgw5EJVH9sFCSgYYLvA2M6AHXApsCbgkGJ3ssEhAwDKnjnm77si5wAAAABJ\n",
       "RU5ErkJggg==\n",
       "\" style=\"display:inline;vertical-align:middle;\" /></a> <a class=\"ProveItLink\" href=\"../__pv_it/demonstrations/dbd9f06a7f88457d647766519fc02516ce262bd30/proof.ipynb\" style=\"text-decoration: none\">&nbsp;&#x22A2;&nbsp;&nbsp;</a><a class=\"ProveItLink\" href=\"../__pv_it/demonstrations/a43532bce577c232717f1dd9bdee4740605f3a3e0/expr.ipynb\"><img src=\"data:image/png;base64,iVBORw0KGgoAAAANSUhEUgAAAD4AAAARBAMAAAB3FQKUAAAAMFBMVEX///8AAAAAAAAAAAAAAAAA\n",
       "AAAAAAAAAAAAAAAAAAAAAAAAAAAAAAAAAAAAAAAAAAAv3aB7AAAAD3RSTlMAEHarMolUmd1mIs3v\n",
       "RLtmgJDEAAAACXBIWXMAAA7EAAAOxAGVKw4bAAABDUlEQVQoz2NgAANeZQZmBjxAiF/AB0WAsf/d\n",
       "RgbW82eh3IUZDHqoOvgSLjMwyMO5pgxGqPLMXawTGHjg3F6GI2jyeQy7GDjg3BbeDxCGXkfHBrD8\n",
       "SoXVSPLp88CiDLcVYfoXmDAFgOSFlEVCExgX8E0AiXJthJu/gI/hLUi+gMmIvYFZ4TZYlHsBQp6l\n",
       "QEKCgYFzAedH5gm8kwIg8gj3LWCYxvaGgYGFgX0DwtU+HUDwACrPLGADYvEoIOTlkPUzGkiAWPcX\n",
       "MArARDmQ5Rmc+IA6LtgwsMJFmeBm8TkAeX4MDPmONQzXEBZsgzG4E4BENQODuBJbZQJCXvgtxC6W\n",
       "/eeApDRmTF990YHkHwYAFEk3JXbdvvcAAAAASUVORK5CYII=\n",
       "\" style=\"display:inline;vertical-align:middle;\" /></a></span>"
      ],
      "text/plain": [
       "{x in Natural, y in Natural} |- x^{y} in Natural"
      ]
     },
     "metadata": {},
     "output_type": "display_data"
    }
   ],
   "source": [
    "InSet(exp_test_01, Natural).prove(assumptions=[InSet(x, Natural), InSet(y, Natural)])"
   ]
  },
  {
   "cell_type": "code",
   "execution_count": 17,
   "metadata": {},
   "outputs": [
    {
     "data": {
      "text/html": [
       "<span style=\"font-size:20px;\"><a class=\"ProveItLink\" href=\"../__pv_it/demonstrations/e7ea3ade6561bbbb858c02aa3be91f7305b5ebb50/expr.ipynb\"><img src=\"data:image/png;base64,iVBORw0KGgoAAAANSUhEUgAAADMAAAAQBAMAAABJt1qBAAAAMFBMVEX///8AAAAAAAAAAAAAAAAA\n",
       "AAAAAAAAAAAAAAAAAAAAAAAAAAAAAAAAAAAAAAAAAAAv3aB7AAAAD3RSTlMAEHarMolUmd1mIs3v\n",
       "RLtmgJDEAAAACXBIWXMAAA7EAAAOxAGVKw4bAAAA3UlEQVQY02NgwATZ50+/6DvJgA3omTBwM2zA\n",
       "KlXOwKDJmoBVyoqB8YEcqhDTi45uEC3AwO5ggiLDu0kAxnRmKQBRQsoioWCDV8NlGB7ygdkFTEbs\n",
       "DSDGLrgMW8AkEMW5gPMj8wQQC+FcqNNZGNghYiwnOjo6+sBMNdYLDIwgBo8CmM/4AKaJ8cE6Bgbm\n",
       "BUDW/QWMYEsbYFLMDlYMDPIMDHIXbBhYwSJKMCl3XqDTLRgY8h1rGK5BLIeFzUNuAYZ1eQwM4kps\n",
       "lRAxRruLEK+f2/PuzZ+nqMERBwkoKAAA5a8vMuYfrScAAAAASUVORK5CYII=\n",
       "\" style=\"display:inline;vertical-align:middle;\" /></a>, <a class=\"ProveItLink\" href=\"../__pv_it/demonstrations/17c23827fca080b752568c5794e0898dfd342a790/expr.ipynb\"><img src=\"data:image/png;base64,iVBORw0KGgoAAAANSUhEUgAAADMAAAATBAMAAADPIygvAAAAMFBMVEX///8AAAAAAAAAAAAAAAAA\n",
       "AAAAAAAAAAAAAAAAAAAAAAAAAAAAAAAAAAAAAAAAAAAv3aB7AAAAD3RSTlMAEHaZZquJVO8y3btE\n",
       "zSKD2s2pAAAACXBIWXMAAA7EAAAOxAGVKw4bAAAA8UlEQVQoz2NgwABSv/cKMGT8OMCABWznCWBg\n",
       "/IBNhiHqQQoDQwNWqfANvA8YFqAIaa9adQFExznxXUCVOqsIZcSxTlADSTEqOzCIggT4LsLUxDFs\n",
       "4D4AlGJjb2DwBwkAzYdLTWZcCJSazryAIRosxYCQYimoBrpQgEOBoQkkMGMVEGyASDEEsoIcf16A\n",
       "8ydIQBpJF4MoI8iFtgxMYO9xIUtxKoD0b2XgDgAJMCnApHYCsSZIypThvANY5DpMCsRgBnleNMke\n",
       "4mzRPQJgeu4PoA5GcLgw5EJVH9sFCSgYYLvA2M6AHXApsCbgkGJ3ssEhAwDKnjnm77si5wAAAABJ\n",
       "RU5ErkJggg==\n",
       "\" style=\"display:inline;vertical-align:middle;\" /></a> <a class=\"ProveItLink\" href=\"../__pv_it/demonstrations/eaa5f82d8b41e8becea5a813daa7f93342ac76270/proof.ipynb\" style=\"text-decoration: none\">&nbsp;&#x22A2;&nbsp;&nbsp;</a><a class=\"ProveItLink\" href=\"../__pv_it/demonstrations/5db16553d612aed634ebd7d28b1960c1feaff7290/expr.ipynb\"><img src=\"data:image/png;base64,iVBORw0KGgoAAAANSUhEUgAAAD0AAAARBAMAAACcIrmXAAAAMFBMVEX///8AAAAAAAAAAAAAAAAA\n",
       "AAAAAAAAAAAAAAAAAAAAAAAAAAAAAAAAAAAAAAAAAAAv3aB7AAAAD3RSTlMAEHarMolUmd1mIs3v\n",
       "RLtmgJDEAAAACXBIWXMAAA7EAAAOxAGVKw4bAAABDUlEQVQoz2NgAANeZQZmBjxAiF/AB1Uk+/zp\n",
       "F30nYbyFGQx6qPJ6JgzcDBvgXFMGI1T5cgYGTdYEOLeX4QiqvBUD4wM5BLeF9wOEwfSioxtECzCw\n",
       "O5gg5NPnQezi3SQAE3JmKQA7XVkkNIFxAd8EsOBquDTDQz4wu4DJiL2BWeE2RHAXXJotYBKI4lzA\n",
       "+ZF5Au+kAIgowkdQ37EwsCPEGFhOdHR09IGZaqwXGBhBDB4FhDzjAwRrHQMD8wIg6/4CRoSjGmAM\n",
       "ZgcrBgZ5Bga5CzYMrAgDlGAMd16g7ywYGPIdaxiuIeS5YUH6kFuAYV0eA4O4EltlApID7C5Cwunc\n",
       "nndv/jzFjGneOEj4QgEAY4I5MxFZBy0AAAAASUVORK5CYII=\n",
       "\" style=\"display:inline;vertical-align:middle;\" /></a></span>"
      ],
      "text/plain": [
       "{x in Integer, y in Natural} |- x^{y} in Integer"
      ]
     },
     "metadata": {},
     "output_type": "display_data"
    }
   ],
   "source": [
    "InSet(exp_test_01, Integer).prove(assumptions=[InSet(x, Integer), InSet(y, Natural)])"
   ]
  },
  {
   "cell_type": "code",
   "execution_count": 18,
   "metadata": {},
   "outputs": [
    {
     "data": {
      "text/html": [
       "<span style=\"font-size:20px;\"><a class=\"ProveItLink\" href=\"../__pv_it/demonstrations/d9b6cd7c261d9b88103128035ae0c4bfd7352aed0/expr.ipynb\"><img src=\"data:image/png;base64,iVBORw0KGgoAAAANSUhEUgAAADUAAAASBAMAAAAJYYvNAAAAMFBMVEX///8AAAAAAAAAAAAAAAAA\n",
       "AAAAAAAAAAAAAAAAAAAAAAAAAAAAAAAAAAAAAAAAAAAv3aB7AAAAD3RSTlMAEHarMolUmd1mIs3v\n",
       "RLtmgJDEAAAACXBIWXMAAA7EAAAOxAGVKw4bAAAA9klEQVQY02NgwAIY4949X8CAHSgfYVhhil2K\n",
       "deoEBt7aB1jlXLmBxINJKGJMLzq6QfRDYSARwo0sxbtJAOKSB05AMo3dgYFBSFkkNAEkthoixcAS\n",
       "cBNI3uQEChYwGbE3gMR2wfQrTAOSTmwTGDgXcH5kngAS2wCV4wrIBOljusDAwsAOEWQ50dHR0Qdi\n",
       "Qe0DWcGjAHUCzFEPF8PdeX8BI9gVDTC5q2D/AS2Vu2DDwAoWUoLJsYPCxRZoTL5jDcM1sBB3Akwy\n",
       "GBie5kBaXImtEiLIaHcR5tL63d8dUMORNw4SZgwMzA6TGHACIyYzX1xybHZ7XjIAAL7gOhw4RPej\n",
       "AAAAAElFTkSuQmCC\n",
       "\" style=\"display:inline;vertical-align:middle;\" /></a>, <a class=\"ProveItLink\" href=\"../__pv_it/demonstrations/17c23827fca080b752568c5794e0898dfd342a790/expr.ipynb\"><img src=\"data:image/png;base64,iVBORw0KGgoAAAANSUhEUgAAADMAAAATBAMAAADPIygvAAAAMFBMVEX///8AAAAAAAAAAAAAAAAA\n",
       "AAAAAAAAAAAAAAAAAAAAAAAAAAAAAAAAAAAAAAAAAAAv3aB7AAAAD3RSTlMAEHaZZquJVO8y3btE\n",
       "zSKD2s2pAAAACXBIWXMAAA7EAAAOxAGVKw4bAAAA8UlEQVQoz2NgwABSv/cKMGT8OMCABWznCWBg\n",
       "/IBNhiHqQQoDQwNWqfANvA8YFqAIaa9adQFExznxXUCVOqsIZcSxTlADSTEqOzCIggT4LsLUxDFs\n",
       "4D4AlGJjb2DwBwkAzYdLTWZcCJSazryAIRosxYCQYimoBrpQgEOBoQkkMGMVEGyASDEEsoIcf16A\n",
       "8ydIQBpJF4MoI8iFtgxMYO9xIUtxKoD0b2XgDgAJMCnApHYCsSZIypThvANY5DpMCsRgBnleNMke\n",
       "4mzRPQJgeu4PoA5GcLgw5EJVH9sFCSgYYLvA2M6AHXApsCbgkGJ3ssEhAwDKnjnm77si5wAAAABJ\n",
       "RU5ErkJggg==\n",
       "\" style=\"display:inline;vertical-align:middle;\" /></a> <a class=\"ProveItLink\" href=\"../__pv_it/demonstrations/4251819185c2cb980a84c4b23f0c252ad52fbd9d0/proof.ipynb\" style=\"text-decoration: none\">&nbsp;&#x22A2;&nbsp;&nbsp;</a><a class=\"ProveItLink\" href=\"../__pv_it/demonstrations/9b1d52cd17b51ee1d7ac334a7bacff52b9163c040/expr.ipynb\"><img src=\"data:image/png;base64,iVBORw0KGgoAAAANSUhEUgAAAD8AAAATBAMAAADVH8ihAAAAMFBMVEX///8AAAAAAAAAAAAAAAAA\n",
       "AAAAAAAAAAAAAAAAAAAAAAAAAAAAAAAAAAAAAAAAAAAv3aB7AAAAD3RSTlMAEHarMolUmd1mIs3v\n",
       "RLtmgJDEAAAACXBIWXMAAA7EAAAOxAGVKw4bAAABKklEQVQoz2NgAANeZQZmBnxAiF/AB02IMe7d\n",
       "8wVw3sIMBj00BcpHGFaYIrimDEao8qxTJzDw1j6A83sZjqAqcOUGEg8mwfktvB8gDKYXHd0g+qEw\n",
       "kAjhhitIn7cB4p1NAhAnPnACkmnsDkAPKIuEJjAu4JsAllgNkWdgCbgJJG9yJjAwFDAZsTcwK9yG\n",
       "SOyCmsirMA1IOrFNYOBcwPmReQLvpACIxAaoAq6ATJAJTBcYWBjYNyDcznKio6OjD8SCugFkI48C\n",
       "UvDBPf5wMdwX9xcwCsBVNMAYV8HhAHSI3AUbBlaEEUowBjsoJG2BBuY71jBcQyjgToCxgoFxYQ6k\n",
       "xZXYKhOQHGF3EeaP+t3fHbBEPG8cJKgZGJgdJjHgB0ZMZr54FbDZ7XnJAADpf0QddElc9QAAAABJ\n",
       "RU5ErkJggg==\n",
       "\" style=\"display:inline;vertical-align:middle;\" /></a></span>"
      ],
      "text/plain": [
       "{x in Rational, y in Natural} |- x^{y} in Rational"
      ]
     },
     "metadata": {},
     "output_type": "display_data"
    }
   ],
   "source": [
    "InSet(exp_test_01, Rational).prove(assumptions=[InSet(x, Rational), InSet(y, Natural)])"
   ]
  },
  {
   "cell_type": "code",
   "execution_count": 19,
   "metadata": {},
   "outputs": [
    {
     "data": {
      "text/html": [
       "<span style=\"font-size:20px;\"><a class=\"ProveItLink\" href=\"../__pv_it/demonstrations/84c2e366269d6004a225d36e609b4ffa702d4c5f0/expr.ipynb\"><img src=\"data:image/png;base64,iVBORw0KGgoAAAANSUhEUgAAAEoAAAAXCAMAAACbHilqAAAAOVBMVEX///8AAAAAAAAAAAAAAAAA\n",
       "AAAAAAAAAAAAAAAAAAAAAAAAAAAAAAAAAAAAAAAAAAAAAAAAAAAAAAACXHtMAAAAEnRSTlMAEHar\n",
       "MolUmd1mIs3vRLvt5cmVldCcAAAACXBIWXMAAA7EAAAOxAGVKw4bAAABVUlEQVQ4y61UiXLFIAgU\n",
       "UIkaaZv//9iK5j7avEmYiTEZWVxYMOaZgXnLXK6rQ/cUKZKuAY3J8hCKoq69LcsQHyHlSisOmrDe\n",
       "f5BgJ8W4BWfdy1d5grEVqgu3kZCUR+xoSTA27wbV4+1SBVcdM88JhnHTCA53CVpnUttJLZgS/P6R\n",
       "SvC/tKN0xdL0KQA0Xs+OoJbmsyoGuipNwo2MCxc75sJ7w7ahL+wdcv0CRALr3EI2Jjjwy2OFyjvo\n",
       "SX+WZtbyoOFu/pP2vDM2f0VF4xU1nSCF4hdKEWgRxuFYdM2/3QpL4/l8Vhy92MbZ9t1oc2Ntc/XX\n",
       "ONjqC46tKRD3FbwomIoClljdWbcturoSI0g21Gu4laiO1eFJ7XQ9TvxggQtUXsdKx8Bu6kG+bngu\n",
       "d/C8vTWQ5H1uIw8pDU2eH44iWTdOG3S29t8rVoSM5G1+A8uTpF4uhtwvpckJ2MfsZZkAAAAASUVO\n",
       "RK5CYII=\n",
       "\" style=\"display:inline;vertical-align:middle;\" /></a>, <a class=\"ProveItLink\" href=\"../__pv_it/demonstrations/1a5270d7d3401e3ec902ebbf86bec5c78898bba20/expr.ipynb\"><img src=\"data:image/png;base64,iVBORw0KGgoAAAANSUhEUgAAADIAAAATBAMAAAAg4UMRAAAAMFBMVEX///8AAAAAAAAAAAAAAAAA\n",
       "AAAAAAAAAAAAAAAAAAAAAAAAAAAAAAAAAAAAAAAAAAAv3aB7AAAAD3RSTlMAEHaZZquJVO8y3btE\n",
       "zSKD2s2pAAAACXBIWXMAAA7EAAAOxAGVKw4bAAAA8klEQVQY02NgwADsN37cXrXDAVOCgWnrBIYL\n",
       "vFgkGJgNGJgc0rHJsD5gkGbcgGLKrlVrQTQjA4Ml6wQkCZ5LAjAmZ8BkkAplBwZREPctXIKBW2Aj\n",
       "kGRjb2DwB3HvIbSXsSgAyenMCxiiQdwLCBmImwU4FBiaQGZ3rVq1ajXEKQU5QHEGhvMCnD9B9iHc\n",
       "Kc0HZMcxMNgyMDWA+AvgMpFAHzF+YGDYysAdAOIrwd1scBjoXaBCU4bz4NDjLYC7+SID33aggaJJ\n",
       "9g/AXo8+CJE5sbd7d393AoiZCw2EbEjowADbBcZ2BqyAS4E1AbsMu5MNdgkA2cc0b5s0PBoAAAAA\n",
       "SUVORK5CYII=\n",
       "\" style=\"display:inline;vertical-align:middle;\" /></a> <a class=\"ProveItLink\" href=\"../__pv_it/demonstrations/57e5e53afedb1b037c1332e89e667e2a722761bc0/proof.ipynb\" style=\"text-decoration: none\">&nbsp;&#x22A2;&nbsp;&nbsp;</a><a class=\"ProveItLink\" href=\"../__pv_it/demonstrations/9b1d52cd17b51ee1d7ac334a7bacff52b9163c040/expr.ipynb\"><img src=\"data:image/png;base64,iVBORw0KGgoAAAANSUhEUgAAAD8AAAATBAMAAADVH8ihAAAAMFBMVEX///8AAAAAAAAAAAAAAAAA\n",
       "AAAAAAAAAAAAAAAAAAAAAAAAAAAAAAAAAAAAAAAAAAAv3aB7AAAAD3RSTlMAEHarMolUmd1mIs3v\n",
       "RLtmgJDEAAAACXBIWXMAAA7EAAAOxAGVKw4bAAABKklEQVQoz2NgAANeZQZmBnxAiF/AB02IMe7d\n",
       "8wVw3sIMBj00BcpHGFaYIrimDEao8qxTJzDw1j6A83sZjqAqcOUGEg8mwfktvB8gDKYXHd0g+qEw\n",
       "kAjhhitIn7cB4p1NAhAnPnACkmnsDkAPKIuEJjAu4JsAllgNkWdgCbgJJG9yJjAwFDAZsTcwK9yG\n",
       "SOyCmsirMA1IOrFNYOBcwPmReQLvpACIxAaoAq6ATJAJTBcYWBjYNyDcznKio6OjD8SCugFkI48C\n",
       "UvDBPf5wMdwX9xcwCsBVNMAYV8HhAHSI3AUbBlaEEUowBjsoJG2BBuY71jBcQyjgToCxgoFxYQ6k\n",
       "xZXYKhOQHGF3EeaP+t3fHbBEPG8cJKgZGJgdJjHgB0ZMZr54FbDZ7XnJAADpf0QddElc9QAAAABJ\n",
       "RU5ErkJggg==\n",
       "\" style=\"display:inline;vertical-align:middle;\" /></a></span>"
      ],
      "text/plain": [
       "{x in RationalNonZero, y in Integer} |- x^{y} in Rational"
      ]
     },
     "metadata": {},
     "output_type": "display_data"
    }
   ],
   "source": [
    "InSet(exp_test_01, Rational).prove(assumptions=[InSet(x, RationalNonZero), InSet(y, Integer)])"
   ]
  },
  {
   "cell_type": "code",
   "execution_count": 20,
   "metadata": {},
   "outputs": [
    {
     "data": {
      "text/html": [
       "<span style=\"font-size:20px;\"><a class=\"ProveItLink\" href=\"../__pv_it/demonstrations/84c2e366269d6004a225d36e609b4ffa702d4c5f0/expr.ipynb\"><img src=\"data:image/png;base64,iVBORw0KGgoAAAANSUhEUgAAAEoAAAAXCAMAAACbHilqAAAAOVBMVEX///8AAAAAAAAAAAAAAAAA\n",
       "AAAAAAAAAAAAAAAAAAAAAAAAAAAAAAAAAAAAAAAAAAAAAAAAAAAAAAACXHtMAAAAEnRSTlMAEHar\n",
       "MolUmd1mIs3vRLvt5cmVldCcAAAACXBIWXMAAA7EAAAOxAGVKw4bAAABVUlEQVQ4y61UiXLFIAgU\n",
       "UIkaaZv//9iK5j7avEmYiTEZWVxYMOaZgXnLXK6rQ/cUKZKuAY3J8hCKoq69LcsQHyHlSisOmrDe\n",
       "f5BgJ8W4BWfdy1d5grEVqgu3kZCUR+xoSTA27wbV4+1SBVcdM88JhnHTCA53CVpnUttJLZgS/P6R\n",
       "SvC/tKN0xdL0KQA0Xs+OoJbmsyoGuipNwo2MCxc75sJ7w7ahL+wdcv0CRALr3EI2Jjjwy2OFyjvo\n",
       "SX+WZtbyoOFu/pP2vDM2f0VF4xU1nSCF4hdKEWgRxuFYdM2/3QpL4/l8Vhy92MbZ9t1oc2Ntc/XX\n",
       "ONjqC46tKRD3FbwomIoClljdWbcturoSI0g21Gu4laiO1eFJ7XQ9TvxggQtUXsdKx8Bu6kG+bngu\n",
       "d/C8vTWQ5H1uIw8pDU2eH44iWTdOG3S29t8rVoSM5G1+A8uTpF4uhtwvpckJ2MfsZZkAAAAASUVO\n",
       "RK5CYII=\n",
       "\" style=\"display:inline;vertical-align:middle;\" /></a>, <a class=\"ProveItLink\" href=\"../__pv_it/demonstrations/1a5270d7d3401e3ec902ebbf86bec5c78898bba20/expr.ipynb\"><img src=\"data:image/png;base64,iVBORw0KGgoAAAANSUhEUgAAADIAAAATBAMAAAAg4UMRAAAAMFBMVEX///8AAAAAAAAAAAAAAAAA\n",
       "AAAAAAAAAAAAAAAAAAAAAAAAAAAAAAAAAAAAAAAAAAAv3aB7AAAAD3RSTlMAEHaZZquJVO8y3btE\n",
       "zSKD2s2pAAAACXBIWXMAAA7EAAAOxAGVKw4bAAAA8klEQVQY02NgwADsN37cXrXDAVOCgWnrBIYL\n",
       "vFgkGJgNGJgc0rHJsD5gkGbcgGLKrlVrQTQjA4Ml6wQkCZ5LAjAmZ8BkkAplBwZREPctXIKBW2Aj\n",
       "kGRjb2DwB3HvIbSXsSgAyenMCxiiQdwLCBmImwU4FBiaQGZ3rVq1ajXEKQU5QHEGhvMCnD9B9iHc\n",
       "Kc0HZMcxMNgyMDWA+AvgMpFAHzF+YGDYysAdAOIrwd1scBjoXaBCU4bz4NDjLYC7+SID33aggaJJ\n",
       "9g/AXo8+CJE5sbd7d393AoiZCw2EbEjowADbBcZ2BqyAS4E1AbsMu5MNdgkA2cc0b5s0PBoAAAAA\n",
       "SUVORK5CYII=\n",
       "\" style=\"display:inline;vertical-align:middle;\" /></a> <a class=\"ProveItLink\" href=\"../__pv_it/demonstrations/708e652b613dde0866d35b413dcd921c978d88e60/proof.ipynb\" style=\"text-decoration: none\">&nbsp;&#x22A2;&nbsp;&nbsp;</a><a class=\"ProveItLink\" href=\"../__pv_it/demonstrations/681d898629f95ed3b34a66c156db26b2af0bd7530/expr.ipynb\"><img src=\"data:image/png;base64,iVBORw0KGgoAAAANSUhEUgAAAFQAAAAXCAMAAACieZgxAAAAOVBMVEX///8AAAAAAAAAAAAAAAAA\n",
       "AAAAAAAAAAAAAAAAAAAAAAAAAAAAAAAAAAAAAAAAAAAAAAAAAAAAAAACXHtMAAAAEnRSTlMAEHar\n",
       "MolUmd1mIs3vRLvt5cmVldCcAAAACXBIWXMAAA7EAAAOxAGVKw4bAAABh0lEQVQ4y61Ui5KDIAwM\n",
       "4Q0md+f/f+wloG1VaOfmzEzRqizJbjYAd4WB+8NTWz36+zCL1TUjAPFtoLboujhZ1nJ8RagH2r9j\n",
       "Uiu6rErsEo5cI8hjt3ySxLNE7AlFvecv+WVwDTTlIzEmJAD8QAparbIk+5QEO04HXfBMjXxo8b3M\n",
       "2TcIig9JzHbTy1/DaUeije1pOA+133ETW8v//uFW/lgoSA5oPVXLSaLuf9mYTUjvNnj3UBa1pS46\n",
       "h5i5HmSteLCKVOo2ekKA6Po5T248RtM1R2uc90KFkcz5VbxSzaV62j6Qa1b6wkiDqIIixNQ0okOi\n",
       "9cwPYUdSfISg+HWAmWVfFtls1sNP1r1sKL4j9UxRdA00klOTrROpl7TFo3ePnL4bTcukNc3VB2zK\n",
       "Wf2Jc7W1zOjUNHL5s0/DzMhMYNXtwzmI1xLi7ig7H3JhdSYKKI1PrdfHfvd+nI+cKNlIz08qMZbp\n",
       "zEuJa61rdP8Yv+T51aZ97rjm+5tDXII2OLoXNViuC+fxy1/dSAsklkIB9wAAAABJRU5ErkJggg==\n",
       "\" style=\"display:inline;vertical-align:middle;\" /></a></span>"
      ],
      "text/plain": [
       "{x in RationalNonZero, y in Integer} |- x^{y} in RationalNonZero"
      ]
     },
     "metadata": {},
     "output_type": "display_data"
    }
   ],
   "source": [
    "InSet(exp_test_01, RationalNonZero).prove(assumptions=[InSet(x, RationalNonZero), InSet(y, Integer)])"
   ]
  },
  {
   "cell_type": "code",
   "execution_count": 21,
   "metadata": {},
   "outputs": [
    {
     "data": {
      "text/html": [
       "<span style=\"font-size:20px;\"><a class=\"ProveItLink\" href=\"../__pv_it/demonstrations/424ed11a9cb5fd62720aac4bebe5862a84d747210/expr.ipynb\"><img src=\"data:image/png;base64,iVBORw0KGgoAAAANSUhEUgAAAEEAAAAVBAMAAADrxp6XAAAAMFBMVEX///8AAAAAAAAAAAAAAAAA\n",
       "AAAAAAAAAAAAAAAAAAAAAAAAAAAAAAAAAAAAAAAAAAAv3aB7AAAAD3RSTlMAEHarMolUmd1mIs3v\n",
       "RLtmgJDEAAAACXBIWXMAAA7EAAAOxAGVKw4bAAABC0lEQVQoz2NgwAfYGQgBPvJVMMa9e74Arwrl\n",
       "IwwrTPGpYJ06gYG39gFD3bs3795NwKbClRtIPJiExQymFx3dIPqhMJAI4cZUwbtJAOLOB05AMo3d\n",
       "AaZCSFkkNAHEWA1RwMAScBNI3uRMgKkoYDJibwAxdsHMUpgGJJ3YJkDDlHMB50dmsIM3QFVwBWSC\n",
       "zGC6AOWzMLBDpFhOdHR09IFYUHcIwF3IowB1IEzg4WKYX6Dg/gJGsPIGmMBVcHhMg3HlLtgwsIJZ\n",
       "SvA4B4WpLdzIfMcahmtgFncCTCwYGC/mcDvEldgqIVKMdhdhvqnf/d0BW3zwxkFCnYGB2WESoaRj\n",
       "xGTmi18Fm92el1AmABTuP14VuRdIAAAAAElFTkSuQmCC\n",
       "\" style=\"display:inline;vertical-align:middle;\" /></a>, <a class=\"ProveItLink\" href=\"../__pv_it/demonstrations/1a5270d7d3401e3ec902ebbf86bec5c78898bba20/expr.ipynb\"><img src=\"data:image/png;base64,iVBORw0KGgoAAAANSUhEUgAAADIAAAATBAMAAAAg4UMRAAAAMFBMVEX///8AAAAAAAAAAAAAAAAA\n",
       "AAAAAAAAAAAAAAAAAAAAAAAAAAAAAAAAAAAAAAAAAAAv3aB7AAAAD3RSTlMAEHaZZquJVO8y3btE\n",
       "zSKD2s2pAAAACXBIWXMAAA7EAAAOxAGVKw4bAAAA8klEQVQY02NgwADsN37cXrXDAVOCgWnrBIYL\n",
       "vFgkGJgNGJgc0rHJsD5gkGbcgGLKrlVrQTQjA4Ml6wQkCZ5LAjAmZ8BkkAplBwZREPctXIKBW2Aj\n",
       "kGRjb2DwB3HvIbSXsSgAyenMCxiiQdwLCBmImwU4FBiaQGZ3rVq1ajXEKQU5QHEGhvMCnD9B9iHc\n",
       "Kc0HZMcxMNgyMDWA+AvgMpFAHzF+YGDYysAdAOIrwd1scBjoXaBCU4bz4NDjLYC7+SID33aggaJJ\n",
       "9g/AXo8+CJE5sbd7d393AoiZCw2EbEjowADbBcZ2BqyAS4E1AbsMu5MNdgkA2cc0b5s0PBoAAAAA\n",
       "SUVORK5CYII=\n",
       "\" style=\"display:inline;vertical-align:middle;\" /></a> <a class=\"ProveItLink\" href=\"../__pv_it/demonstrations/a4cd58efd6df6f8d9acaf7c2f2236b83326f51760/proof.ipynb\" style=\"text-decoration: none\">&nbsp;&#x22A2;&nbsp;&nbsp;</a><a class=\"ProveItLink\" href=\"../__pv_it/demonstrations/4bba7fca7aa28a41bb79daf3b96b27210a62cf6b0/expr.ipynb\"><img src=\"data:image/png;base64,iVBORw0KGgoAAAANSUhEUgAAAEsAAAAVBAMAAAD85A5eAAAAMFBMVEX///8AAAAAAAAAAAAAAAAA\n",
       "AAAAAAAAAAAAAAAAAAAAAAAAAAAAAAAAAAAAAAAAAAAv3aB7AAAAD3RSTlMAEHarMolUmd1mIs3v\n",
       "RLtmgJDEAAAACXBIWXMAAA7EAAAOxAGVKw4bAAABP0lEQVQoz2NgIAjYGYgCfAgmrzIDMxHKhPgF\n",
       "fNBkGePePV+ApmxhBoMemjLlIwwrTNGUMZgyGKGqYp06gYG39gFD3bs3795NgIn2MhxBVebKDSQe\n",
       "TEIzrYX3A4TB9KKjG0Q/FAYSIdxoytLnbYB4eZMAxAMPnIBkGrsDTJmQskhoAuMCPoj9qyGqGFgC\n",
       "bgLJm5wJMGUFTEbsDcwKtyHSu2ABqTANSDqxTYDGAucCzo/ME3gnBUCkN0CVcQVkgkxjugDlszCw\n",
       "b0A4keVER0dHH4gFdZsAXIpHASnoH8BYDxfDfAoF9xcwIvQ0wBhXweE2DcaVu2DDwIrQowRPPqBY\n",
       "sIUbnu9Yw3ANoYw7AcYKBsapOVxcXImtMgHJcXYXYX6t3/3dAWci5I2DRBYDA7PDJKKSrRGTmS8R\n",
       "ytjs9ryEMgEFRElf4q/HkgAAAABJRU5ErkJggg==\n",
       "\" style=\"display:inline;vertical-align:middle;\" /></a></span>"
      ],
      "text/plain": [
       "{x in RationalPos, y in Integer} |- x^{y} in RationalPos"
      ]
     },
     "metadata": {},
     "output_type": "display_data"
    }
   ],
   "source": [
    "InSet(exp_test_01, RationalPos).prove(assumptions=[InSet(x, RationalPos), InSet(y, Integer)])"
   ]
  },
  {
   "cell_type": "code",
   "execution_count": 22,
   "metadata": {},
   "outputs": [
    {
     "data": {
      "text/html": [
       "<span style=\"font-size:20px;\"><a class=\"ProveItLink\" href=\"../../ordering/__pv_it/theorems/d1323f34847310a404e8089c2c268d3c2eb89dbf0/expr.ipynb\"><img src=\"data:image/png;base64,iVBORw0KGgoAAAANSUhEUgAAADQAAAAQBAMAAACra0H4AAAAMFBMVEX///8AAAAAAAAAAAAAAAAA\n",
       "AAAAAAAAAAAAAAAAAAAAAAAAAAAAAAAAAAAAAAAAAAAv3aB7AAAAD3RSTlMAEHarMolUmd1mIs3v\n",
       "RLtmgJDEAAAACXBIWXMAAA7EAAAOxAGVKw4bAAAAyklEQVQY02NgwACce9797nnJgBXwcRnwWj7E\n",
       "IRXA8MAZp1QVN4qQXkfHBrgUH7LMbUUkXYbCQIaQskhoApDm2ohkIMuzXUBGAZMRewOQ5l6AkDrd\n",
       "3yQA9MUCzo/ME0BSSM6InAiylIWBHWw3g08HEDyAGvhwJliMRwFMySE73p1PAMS6v4ARRHMgS7F7\n",
       "AfXLXbBhYAUJMCkgSTE+0GRgyHesYbgGFtmGkCpgmMl3gUFcia0yASwi/FYAFvL/FvC9/oYcHFdf\n",
       "QAIKCgBACzQrtGfvLgAAAABJRU5ErkJggg==\n",
       "\" style=\"display:inline;vertical-align:middle;\" /></a>, <a class=\"ProveItLink\" href=\"../__pv_it/demonstrations/17c23827fca080b752568c5794e0898dfd342a790/expr.ipynb\"><img src=\"data:image/png;base64,iVBORw0KGgoAAAANSUhEUgAAADMAAAATBAMAAADPIygvAAAAMFBMVEX///8AAAAAAAAAAAAAAAAA\n",
       "AAAAAAAAAAAAAAAAAAAAAAAAAAAAAAAAAAAAAAAAAAAv3aB7AAAAD3RSTlMAEHaZZquJVO8y3btE\n",
       "zSKD2s2pAAAACXBIWXMAAA7EAAAOxAGVKw4bAAAA8UlEQVQoz2NgwABSv/cKMGT8OMCABWznCWBg\n",
       "/IBNhiHqQQoDQwNWqfANvA8YFqAIaa9adQFExznxXUCVOqsIZcSxTlADSTEqOzCIggT4LsLUxDFs\n",
       "4D4AlGJjb2DwBwkAzYdLTWZcCJSazryAIRosxYCQYimoBrpQgEOBoQkkMGMVEGyASDEEsoIcf16A\n",
       "8ydIQBpJF4MoI8iFtgxMYO9xIUtxKoD0b2XgDgAJMCnApHYCsSZIypThvANY5DpMCsRgBnleNMke\n",
       "4mzRPQJgeu4PoA5GcLgw5EJVH9sFCSgYYLvA2M6AHXApsCbgkGJ3ssEhAwDKnjnm77si5wAAAABJ\n",
       "RU5ErkJggg==\n",
       "\" style=\"display:inline;vertical-align:middle;\" /></a> <a class=\"ProveItLink\" href=\"../__pv_it/demonstrations/e97ff9ab0deb4e769bda2ad1c747f77817b0ac7f0/proof.ipynb\" style=\"text-decoration: none\">&nbsp;&#x22A2;&nbsp;&nbsp;</a><a class=\"ProveItLink\" href=\"../__pv_it/demonstrations/2ea64c60a7ab9e244ed6bd916286676aa184129a0/expr.ipynb\"><img src=\"data:image/png;base64,iVBORw0KGgoAAAANSUhEUgAAAD4AAAARBAMAAAB3FQKUAAAAMFBMVEX///8AAAAAAAAAAAAAAAAA\n",
       "AAAAAAAAAAAAAAAAAAAAAAAAAAAAAAAAAAAAAAAAAAAv3aB7AAAAD3RSTlMAEHarMolUmd1mIs3v\n",
       "RLtmgJDEAAAACXBIWXMAAA7EAAAOxAGVKw4bAAAA/ElEQVQoz2NgAANeZQZmBjxAiF/AB0WAc8+7\n",
       "3z0v4dyFGQx6qDr4uAx4LR/CuaYMRujyAQwPnOHcXoYjmPJV3HBuC+8HCEOvo2MDXJ4PLp8+DyzK\n",
       "cFsRSb+hMMjpyiKhCYwL+CaARLk2IpnP8mwXkFHAZMTewKxwGyzKvQAhf7q/SQDo0QWcH5kn8E4K\n",
       "gMgjuS9yIshKFgb2DQhX+3QAwQOo+Q9ngsV4FBDycsj+c+cTALHuL2AUgIlyIMuzewFNkrtgw8AK\n",
       "F2VSQJJnfKDJwJDvWMNwDWHBNoR8AcNMvgsM4kpslQkIeeG3ArD4+7eA7/U3jJi++qIDyT8MAFr6\n",
       "PizAzZVwAAAAAElFTkSuQmCC\n",
       "\" style=\"display:inline;vertical-align:middle;\" /></a></span>"
      ],
      "text/plain": [
       "{x in Real, y in Natural} |- x^{y} in Real"
      ]
     },
     "metadata": {},
     "output_type": "display_data"
    }
   ],
   "source": [
    "InSet(exp_test_01, Real).prove(assumptions=[InSet(x, Real), InSet(y, Natural)])"
   ]
  },
  {
   "cell_type": "code",
   "execution_count": 23,
   "metadata": {},
   "outputs": [
    {
     "data": {
      "text/html": [
       "<span style=\"font-size:20px;\"><a class=\"ProveItLink\" href=\"../../number_sets/real_numbers/__pv_it/theorems/7697fc34c81296f04a039eeb9dd22e91165d63b70/expr.ipynb\"><img src=\"data:image/png;base64,iVBORw0KGgoAAAANSUhEUgAAAEAAAAATBAMAAADSXRa0AAAAMFBMVEX///8AAAAAAAAAAAAAAAAA\n",
       "AAAAAAAAAAAAAAAAAAAAAAAAAAAAAAAAAAAAAAAAAAAv3aB7AAAAD3RSTlMAEHarMolUmd1mIs3v\n",
       "RLtmgJDEAAAACXBIWXMAAA7EAAAOxAGVKw4bAAAA3UlEQVQoz2NgwAcKGAiAB+Qp4Nzz7nfPS3wm\n",
       "8HEZ8Fo+xKsggOGBMwP7u3fn3r3EpaCKG4sJeh0dG+AK+DAV3FZEMsFQGK5ASFkkNAFIc21EsoLl\n",
       "2S64ggImI/YGIM29AKHgdH+TACwkORdwfmSeAFKA5MjIiRvgPBYGdgjHpwMIHkCteDgTyXE8CmBK\n",
       "Dtmb7nwCCAX3FzCCeBzICti94D6Uu2DDwApiMCkgKWB8oAnj5TvWMFwDs7YhFBQwzOS7AOWJK7FV\n",
       "JoBZwm8FYLH5bwHf62+YcXD1RccGDEEANpdAkzJdUSAAAAAASUVORK5CYII=\n",
       "\" style=\"display:inline;vertical-align:middle;\" /></a>, <a class=\"ProveItLink\" href=\"../__pv_it/demonstrations/1a5270d7d3401e3ec902ebbf86bec5c78898bba20/expr.ipynb\"><img src=\"data:image/png;base64,iVBORw0KGgoAAAANSUhEUgAAADIAAAATBAMAAAAg4UMRAAAAMFBMVEX///8AAAAAAAAAAAAAAAAA\n",
       "AAAAAAAAAAAAAAAAAAAAAAAAAAAAAAAAAAAAAAAAAAAv3aB7AAAAD3RSTlMAEHaZZquJVO8y3btE\n",
       "zSKD2s2pAAAACXBIWXMAAA7EAAAOxAGVKw4bAAAA8klEQVQY02NgwADsN37cXrXDAVOCgWnrBIYL\n",
       "vFgkGJgNGJgc0rHJsD5gkGbcgGLKrlVrQTQjA4Ml6wQkCZ5LAjAmZ8BkkAplBwZREPctXIKBW2Aj\n",
       "kGRjb2DwB3HvIbSXsSgAyenMCxiiQdwLCBmImwU4FBiaQGZ3rVq1ajXEKQU5QHEGhvMCnD9B9iHc\n",
       "Kc0HZMcxMNgyMDWA+AvgMpFAHzF+YGDYysAdAOIrwd1scBjoXaBCU4bz4NDjLYC7+SID33aggaJJ\n",
       "9g/AXo8+CJE5sbd7d393AoiZCw2EbEjowADbBcZ2BqyAS4E1AbsMu5MNdgkA2cc0b5s0PBoAAAAA\n",
       "SUVORK5CYII=\n",
       "\" style=\"display:inline;vertical-align:middle;\" /></a> <a class=\"ProveItLink\" href=\"../__pv_it/demonstrations/f8c9dc075ddd92e96eaf3dceadbee0f20c7e2b060/proof.ipynb\" style=\"text-decoration: none\">&nbsp;&#x22A2;&nbsp;&nbsp;</a><a class=\"ProveItLink\" href=\"../__pv_it/demonstrations/2ea64c60a7ab9e244ed6bd916286676aa184129a0/expr.ipynb\"><img src=\"data:image/png;base64,iVBORw0KGgoAAAANSUhEUgAAAD4AAAARBAMAAAB3FQKUAAAAMFBMVEX///8AAAAAAAAAAAAAAAAA\n",
       "AAAAAAAAAAAAAAAAAAAAAAAAAAAAAAAAAAAAAAAAAAAv3aB7AAAAD3RSTlMAEHarMolUmd1mIs3v\n",
       "RLtmgJDEAAAACXBIWXMAAA7EAAAOxAGVKw4bAAAA/ElEQVQoz2NgAANeZQZmBjxAiF/AB0WAc8+7\n",
       "3z0v4dyFGQx6qDr4uAx4LR/CuaYMRujyAQwPnOHcXoYjmPJV3HBuC+8HCEOvo2MDXJ4PLp8+DyzK\n",
       "cFsRSb+hMMjpyiKhCYwL+CaARLk2IpnP8mwXkFHAZMTewKxwGyzKvQAhf7q/SQDo0QWcH5kn8E4K\n",
       "gMgjuS9yIshKFgb2DQhX+3QAwQOo+Q9ngsV4FBDycsj+c+cTALHuL2AUgIlyIMuzewFNkrtgw8AK\n",
       "F2VSQJJnfKDJwJDvWMNwDWHBNoR8AcNMvgsM4kpslQkIeeG3ArD4+7eA7/U3jJi++qIDyT8MAFr6\n",
       "PizAzZVwAAAAAElFTkSuQmCC\n",
       "\" style=\"display:inline;vertical-align:middle;\" /></a></span>"
      ],
      "text/plain": [
       "{x in RealPos, y in Integer} |- x^{y} in Real"
      ]
     },
     "metadata": {},
     "output_type": "display_data"
    }
   ],
   "source": [
    "InSet(exp_test_01, Real).prove(assumptions=[InSet(x, RealPos), InSet(y, Integer)])"
   ]
  },
  {
   "cell_type": "code",
   "execution_count": 24,
   "metadata": {},
   "outputs": [
    {
     "data": {
      "text/html": [
       "<span style=\"font-size:20px;\"><a class=\"ProveItLink\" href=\"../../number_sets/real_numbers/__pv_it/theorems/7697fc34c81296f04a039eeb9dd22e91165d63b70/expr.ipynb\"><img src=\"data:image/png;base64,iVBORw0KGgoAAAANSUhEUgAAAEAAAAATBAMAAADSXRa0AAAAMFBMVEX///8AAAAAAAAAAAAAAAAA\n",
       "AAAAAAAAAAAAAAAAAAAAAAAAAAAAAAAAAAAAAAAAAAAv3aB7AAAAD3RSTlMAEHarMolUmd1mIs3v\n",
       "RLtmgJDEAAAACXBIWXMAAA7EAAAOxAGVKw4bAAAA3UlEQVQoz2NgwAcKGAiAB+Qp4Nzz7nfPS3wm\n",
       "8HEZ8Fo+xKsggOGBMwP7u3fn3r3EpaCKG4sJeh0dG+AK+DAV3FZEMsFQGK5ASFkkNAFIc21EsoLl\n",
       "2S64ggImI/YGIM29AKHgdH+TACwkORdwfmSeAFKA5MjIiRvgPBYGdgjHpwMIHkCteDgTyXE8CmBK\n",
       "Dtmb7nwCCAX3FzCCeBzICti94D6Uu2DDwApiMCkgKWB8oAnj5TvWMFwDs7YhFBQwzOS7AOWJK7FV\n",
       "JoBZwm8FYLH5bwHf62+YcXD1RccGDEEANpdAkzJdUSAAAAAASUVORK5CYII=\n",
       "\" style=\"display:inline;vertical-align:middle;\" /></a>, <a class=\"ProveItLink\" href=\"../__pv_it/demonstrations/1a5270d7d3401e3ec902ebbf86bec5c78898bba20/expr.ipynb\"><img src=\"data:image/png;base64,iVBORw0KGgoAAAANSUhEUgAAADIAAAATBAMAAAAg4UMRAAAAMFBMVEX///8AAAAAAAAAAAAAAAAA\n",
       "AAAAAAAAAAAAAAAAAAAAAAAAAAAAAAAAAAAAAAAAAAAv3aB7AAAAD3RSTlMAEHaZZquJVO8y3btE\n",
       "zSKD2s2pAAAACXBIWXMAAA7EAAAOxAGVKw4bAAAA8klEQVQY02NgwADsN37cXrXDAVOCgWnrBIYL\n",
       "vFgkGJgNGJgc0rHJsD5gkGbcgGLKrlVrQTQjA4Ml6wQkCZ5LAjAmZ8BkkAplBwZREPctXIKBW2Aj\n",
       "kGRjb2DwB3HvIbSXsSgAyenMCxiiQdwLCBmImwU4FBiaQGZ3rVq1ajXEKQU5QHEGhvMCnD9B9iHc\n",
       "Kc0HZMcxMNgyMDWA+AvgMpFAHzF+YGDYysAdAOIrwd1scBjoXaBCU4bz4NDjLYC7+SID33aggaJJ\n",
       "9g/AXo8+CJE5sbd7d393AoiZCw2EbEjowADbBcZ2BqyAS4E1AbsMu5MNdgkA2cc0b5s0PBoAAAAA\n",
       "SUVORK5CYII=\n",
       "\" style=\"display:inline;vertical-align:middle;\" /></a> <a class=\"ProveItLink\" href=\"../__pv_it/demonstrations/c69825bc6f3660873e1d838a44412f6f8d1342920/proof.ipynb\" style=\"text-decoration: none\">&nbsp;&#x22A2;&nbsp;&nbsp;</a><a class=\"ProveItLink\" href=\"../__pv_it/demonstrations/d745f16c8f76e09320d1c09d0dfbee8d7eb96da30/expr.ipynb\"><img src=\"data:image/png;base64,iVBORw0KGgoAAAANSUhEUgAAAEoAAAATBAMAAADFf4Z9AAAAMFBMVEX///8AAAAAAAAAAAAAAAAA\n",
       "AAAAAAAAAAAAAAAAAAAAAAAAAAAAAAAAAAAAAAAAAAAv3aB7AAAAD3RSTlMAEHarMolUmd1mIs3v\n",
       "RLtmgJDEAAAACXBIWXMAAA7EAAAOxAGVKw4bAAABEUlEQVQoz2NgIAgKGIgBD+AsXmUGZsKqhPgF\n",
       "fFCkOPe8+93zEk3VwgwGPVQT+LgMeC0foqpiMGUwQlcVwPDAmYH93btz717CBHsZjmCqquJGM6uF\n",
       "9wOEodfRsQGuig9NVfo8sBzDbUUkswyF4aqElEVCExgX8E0Acbg2ItnI8mwXXFUBkxF7A7PCbbAc\n",
       "9wKEqtP9TQKwsOdcwPmReQLvpACIKiTXR07cAOexMLAjOAw+HUDwAGrjw5lIfuZRQLDlkEPCnU8A\n",
       "IXN/ASOcx4Gsit0LHghyF2wYWOFyTApIqhgfaMJ4+Y41DNcQBm9DqCpgmMl3AcoTV2KrTECoEn4r\n",
       "AEsT/xbwvf6GIzVdfdGxAUMQADtTSpRFsOt2AAAAAElFTkSuQmCC\n",
       "\" style=\"display:inline;vertical-align:middle;\" /></a></span>"
      ],
      "text/plain": [
       "{x in RealPos, y in Integer} |- x^{y} in RealPos"
      ]
     },
     "metadata": {},
     "output_type": "display_data"
    }
   ],
   "source": [
    "InSet(exp_test_01, RealPos).prove(assumptions=[InSet(x, RealPos), InSet(y, Integer)])"
   ]
  },
  {
   "cell_type": "code",
   "execution_count": 25,
   "metadata": {},
   "outputs": [
    {
     "data": {
      "text/html": [
       "<span style=\"font-size:20px;\"><a class=\"ProveItLink\" href=\"../../number_sets/real_numbers/__pv_it/theorems/c34caf191836023a2e00a70eca44f5973ba282830/expr.ipynb\"><img src=\"data:image/png;base64,iVBORw0KGgoAAAANSUhEUgAAAEoAAAAUBAMAAADYerbFAAAAMFBMVEX///8AAAAAAAAAAAAAAAAA\n",
       "AAAAAAAAAAAAAAAAAAAAAAAAAAAAAAAAAAAAAAAAAAAv3aB7AAAAD3RSTlMAEHarMolUmd1mIs3v\n",
       "RLtmgJDEAAAACXBIWXMAAA7EAAAOxAGVKw4bAAABL0lEQVQoz2NgwA38LoCpUFUGfIAxLgFIcirw\n",
       "PsCrjEFvAgMDjwPDL/yqGOYpMKwXYDiGTWr2ufc7zk2AsOcs8Bdg6MRqwoPFDJfnCYBYom8ZgKoO\n",
       "YVe1lIGPxQDIWG7CALLxGy5V7As2MDAsBirCcD3Ti45uhKoHDMJVYFEFXgMkRbybBBBmMQsaMAhC\n",
       "eKHqQHEhZZFQUOgxrBZAstEvewGKIwqYjNgbQIxdCHet2fFDEUUR5wLOj8zgwNmA5PqZ0qB4fAcE\n",
       "ECNZGNgh0iwnOjo6+qCq+CQnoPmbRwEStw+QzGIpeIim6v4CRrC7G5DDq2Qdihq5CzYMrGCWErIq\n",
       "OSYUK/MdaxiugVncCXBVyxk4J7xFViWuxFYJkWa0uwhPE68Y3u1PwJ6YeOOgMYQBAHwnWgIrvHIs\n",
       "AAAAAElFTkSuQmCC\n",
       "\" style=\"display:inline;vertical-align:middle;\" /></a>, <a class=\"ProveItLink\" href=\"../__pv_it/demonstrations/1a5270d7d3401e3ec902ebbf86bec5c78898bba20/expr.ipynb\"><img src=\"data:image/png;base64,iVBORw0KGgoAAAANSUhEUgAAADIAAAATBAMAAAAg4UMRAAAAMFBMVEX///8AAAAAAAAAAAAAAAAA\n",
       "AAAAAAAAAAAAAAAAAAAAAAAAAAAAAAAAAAAAAAAAAAAv3aB7AAAAD3RSTlMAEHaZZquJVO8y3btE\n",
       "zSKD2s2pAAAACXBIWXMAAA7EAAAOxAGVKw4bAAAA8klEQVQY02NgwADsN37cXrXDAVOCgWnrBIYL\n",
       "vFgkGJgNGJgc0rHJsD5gkGbcgGLKrlVrQTQjA4Ml6wQkCZ5LAjAmZ8BkkAplBwZREPctXIKBW2Aj\n",
       "kGRjb2DwB3HvIbSXsSgAyenMCxiiQdwLCBmImwU4FBiaQGZ3rVq1ajXEKQU5QHEGhvMCnD9B9iHc\n",
       "Kc0HZMcxMNgyMDWA+AvgMpFAHzF+YGDYysAdAOIrwd1scBjoXaBCU4bz4NDjLYC7+SID33aggaJJ\n",
       "9g/AXo8+CJE5sbd7d393AoiZCw2EbEjowADbBcZ2BqyAS4E1AbsMu5MNdgkA2cc0b5s0PBoAAAAA\n",
       "SUVORK5CYII=\n",
       "\" style=\"display:inline;vertical-align:middle;\" /></a> <a class=\"ProveItLink\" href=\"../__pv_it/demonstrations/fd567b2f8ce3c5f8befd06b84d6abbf30d30b2350/proof.ipynb\" style=\"text-decoration: none\">&nbsp;&#x22A2;&nbsp;&nbsp;</a><a class=\"ProveItLink\" href=\"../__pv_it/demonstrations/8b276b1cba29e9c475d8a227a6059cf0ebc65ef50/expr.ipynb\"><img src=\"data:image/png;base64,iVBORw0KGgoAAAANSUhEUgAAAFQAAAAUBAMAAADhHQeeAAAAMFBMVEX///8AAAAAAAAAAAAAAAAA\n",
       "AAAAAAAAAAAAAAAAAAAAAAAAAAAAAAAAAAAAAAAAAAAv3aB7AAAAD3RSTlMAEHarMolUmd1mIs3v\n",
       "RLtmgJDEAAAACXBIWXMAAA7EAAAOxAGVKw4bAAABYUlEQVQoz2NgIAD8LoCpUFUGgoAxLgFIcirw\n",
       "PiCslkFvAgMDjwPDLyiXV5mBGafaeQoM6wUYjkF5QvwCPqjys8+933FuAoQ9Z4G/AEMnVGJhBoMe\n",
       "mlkPFjNcnicAYom+ZQAqPQSTMGUwQle6lIGPxQDIWG7CAHLAN5hEL8MRTKXsCzYwMCwGqkT2FkML\n",
       "7wcIg+lFRzdC6QMG4SqwqAKvAUxp+rwNkKDYJIAwlVnQgEEQwgtVB4oLKYuEJjAu4IP4drUAkgP8\n",
       "sheguKmAyYi9gVnhNoS3C+HWNTt+KKKo5FzA+ZF5Au+kAAh3A5K3ZkqD0sA7IIAYzsLAjpBmYDnR\n",
       "0dHRB1XKJzkBLVR4FJASxwMkU1kKHqIpvb+AEe4XhgbkcC1Zh6JQ7oINAyuCq4SsVI4JxQX5jjUM\n",
       "1xBc7gS40uUMnBPeIisVV2KrTEByrN1FeMp6xfBufwKehMwbB41YDAAAQLJkA3yrEfgAAAAASUVO\n",
       "RK5CYII=\n",
       "\" style=\"display:inline;vertical-align:middle;\" /></a></span>"
      ],
      "text/plain": [
       "{x in RealNonNeg, y in Integer} |- x^{y} in RealNonNeg"
      ]
     },
     "metadata": {},
     "output_type": "display_data"
    }
   ],
   "source": [
    "InSet(exp_test_01, RealNonNeg).prove(assumptions=[InSet(x, RealNonNeg), InSet(y, Integer)])"
   ]
  },
  {
   "cell_type": "code",
   "execution_count": 26,
   "metadata": {},
   "outputs": [
    {
     "data": {
      "text/html": [
       "<span style=\"font-size:20px;\"><a class=\"ProveItLink\" href=\"../../number_sets/real_numbers/__pv_it/theorems/c34caf191836023a2e00a70eca44f5973ba282830/expr.ipynb\"><img src=\"data:image/png;base64,iVBORw0KGgoAAAANSUhEUgAAAEoAAAAUBAMAAADYerbFAAAAMFBMVEX///8AAAAAAAAAAAAAAAAA\n",
       "AAAAAAAAAAAAAAAAAAAAAAAAAAAAAAAAAAAAAAAAAAAv3aB7AAAAD3RSTlMAEHarMolUmd1mIs3v\n",
       "RLtmgJDEAAAACXBIWXMAAA7EAAAOxAGVKw4bAAABL0lEQVQoz2NgwA38LoCpUFUGfIAxLgFIcirw\n",
       "PsCrjEFvAgMDjwPDL/yqGOYpMKwXYDiGTWr2ufc7zk2AsOcs8Bdg6MRqwoPFDJfnCYBYom8ZgKoO\n",
       "YVe1lIGPxQDIWG7CALLxGy5V7As2MDAsBirCcD3Ti45uhKoHDMJVYFEFXgMkRbybBBBmMQsaMAhC\n",
       "eKHqQHEhZZFQUOgxrBZAstEvewGKIwqYjNgbQIxdCHet2fFDEUUR5wLOj8zgwNmA5PqZ0qB4fAcE\n",
       "ECNZGNgh0iwnOjo6+qCq+CQnoPmbRwEStw+QzGIpeIim6v4CRrC7G5DDq2Qdihq5CzYMrGCWErIq\n",
       "OSYUK/MdaxiugVncCXBVyxk4J7xFViWuxFYJkWa0uwhPE68Y3u1PwJ6YeOOgMYQBAHwnWgIrvHIs\n",
       "AAAAAElFTkSuQmCC\n",
       "\" style=\"display:inline;vertical-align:middle;\" /></a> <a class=\"ProveItLink\" href=\"../__pv_it/demonstrations/c34ec3e31329c0a3dfe726d7fd69158ba0ca7af60/proof.ipynb\" style=\"text-decoration: none\">&nbsp;&#x22A2;&nbsp;&nbsp;</a><a class=\"ProveItLink\" href=\"../__pv_it/demonstrations/28277781404a72ae7a0e66d86f9b5b01990b8e930/expr.ipynb\"><img src=\"data:image/png;base64,iVBORw0KGgoAAAANSUhEUgAAAFkAAAAXBAMAAACSd/6AAAAAMFBMVEX///8AAAAAAAAAAAAAAAAA\n",
       "AAAAAAAAAAAAAAAAAAAAAAAAAAAAAAAAAAAAAAAAAAAv3aB7AAAAD3RSTlMAMom7q0QizZkQVN1m\n",
       "du8ilFydAAAACXBIWXMAAA7EAAAOxAGVKw4bAAABhElEQVQ4y2NgIAgYTcEUk64CAzFgkhWIPMsQ\n",
       "jDDgPxhgV85rAyQeMvAnwASYBfCZzmPLwPaTgW8BjC+MRUmd8fd9NlD2M8afDNwHYFKuWExkZnNg\n",
       "9bEEsTiVA4Cq+S5AJdgKsKpWYDAQAcm2CIBcwg9zCUcADtVt7EDFLgKovpyOEgTWu7fDVTMzcHqA\n",
       "Vd1lCIEp6EJSzFo7AWG25xQGzgnQ2OmEKuDcwMAw98pEJbDD0icgXMJoVYbpQiZg2DTw+nJsAHHK\n",
       "EO5+vn/vBFSVS4GYGxiiCTw/WcABWoBQrXMSyGE0BgIzqJeeg33AwMjAAVHG+Hr37t2boS6xPINq\n",
       "tKQ+MHjALoAGPqcBUghKMKO5ZL4DAw9YXXwCxPcbkFRziBmgqub4xsANVDU5wI+BiQESsAjVnAZ3\n",
       "UFWz/WBYBKTWS/YxRIEF2BfAVTcwnGFGi2X7CZVAcsZdrh6IMk7nSFga/JzAbP4LVXX8rQZUAVZl\n",
       "SMxjBezPExiIB1xfGEgBZUSrBAAqU1t0P4Of5gAAAABJRU5ErkJggg==\n",
       "\" style=\"display:inline;vertical-align:middle;\" /></a></span>"
      ],
      "text/plain": [
       "{x in RealNonNeg} |- sqrt(x) in RealNonNeg"
      ]
     },
     "metadata": {},
     "output_type": "display_data"
    }
   ],
   "source": [
    "InSet(Exp(x, frac(one, two)), RealNonNeg).prove(assumptions=[InSet(x, RealNonNeg)])"
   ]
  },
  {
   "cell_type": "code",
   "execution_count": 27,
   "metadata": {},
   "outputs": [
    {
     "data": {
      "text/html": [
       "<span style=\"font-size:20px;\"><a class=\"ProveItLink\" href=\"../__pv_it/theorems/6bf1a18c2e3498be826f1c5ef7caab578b7ee8c80/expr.ipynb\"><img src=\"data:image/png;base64,iVBORw0KGgoAAAANSUhEUgAAADQAAAAQBAMAAACra0H4AAAAMFBMVEX///8AAAAAAAAAAAAAAAAA\n",
       "AAAAAAAAAAAAAAAAAAAAAAAAAAAAAAAAAAAAAAAAAAAv3aB7AAAAD3RSTlMAEHarMolUmd1mIs3v\n",
       "RLtmgJDEAAAACXBIWXMAAA7EAAAOxAGVKw4bAAAA0klEQVQY02NgwAIY47o3LQnAJsOgfJJB/F8B\n",
       "Nhl2XaCOeVil3PkEGBiYUaT0Ojo2gGhDPpB9E5BkbitCGQ+WQxlCyiKhCUCaayNUgMvAFcoqYDJi\n",
       "bwDS3AugAiwBNyEMzgWcH5lB5nLDDOYquARVw8AOtpvBpwMIHoDtWgpTxaMApuTg7nnIB2PdX8AI\n",
       "9AcDB1zqOshfDBcY5C7YMLCCBJgUEKFhwACyJt+xhuEaWGQbwu/bF4i1MzCIK7FVJoAFhN8KwEP+\n",
       "fPsClLC7+gISUFAAAPAALk9BTu5+AAAAAElFTkSuQmCC\n",
       "\" style=\"display:inline;vertical-align:middle;\" /></a>, <a class=\"ProveItLink\" href=\"../__pv_it/demonstrations/e7a733f6071838c624bab1a2ecdcd3efaa06f4b40/expr.ipynb\"><img src=\"data:image/png;base64,iVBORw0KGgoAAAANSUhEUgAAADMAAAATBAMAAADPIygvAAAAMFBMVEX///8AAAAAAAAAAAAAAAAA\n",
       "AAAAAAAAAAAAAAAAAAAAAAAAAAAAAAAAAAAAAAAAAAAv3aB7AAAAD3RSTlMAEHaZZquJVO8y3btE\n",
       "zSKD2s2pAAAACXBIWXMAAA7EAAAOxAGVKw4bAAAA5UlEQVQoz2NgwALEdt3Vm4ZNgoEpwoHRfjNW\n",
       "KaNjDAwsWKU4DTYCyWAUMe1Vqy4AKVaBDUBSBFnmrCKE5uYzgDAYlR0YREEMvotQJU85EyAMNvYG\n",
       "Bn8Qg/cBVGoajwOEMZ15AUM0WApm8GMeBQhDgEOBoQnEmLEKCDaA7YIayHBegPMniJaG6eIGuxAE\n",
       "bBmYGkA0F0yKB+wvHiDeysAdAA4eBXhoHAXrYGAwZTgPcdF1eBjutWOsAvlNNMke4mzRPQKwkN/x\n",
       "yw7CyoWKHNsFDig4YLvA2M6AHXApsCbgkGJ3ssEhAwCM+y13eiDJfgAAAABJRU5ErkJggg==\n",
       "\" style=\"display:inline;vertical-align:middle;\" /></a> <a class=\"ProveItLink\" href=\"../__pv_it/demonstrations/8eacab24c2169e817618efd714b189720c1222ef0/proof.ipynb\" style=\"text-decoration: none\">&nbsp;&#x22A2;&nbsp;&nbsp;</a><a class=\"ProveItLink\" href=\"../__pv_it/demonstrations/9913731738d4b05051933ec924afce91b86138ef0/expr.ipynb\"><img src=\"data:image/png;base64,iVBORw0KGgoAAAANSUhEUgAAAD4AAAARBAMAAAB3FQKUAAAAMFBMVEX///8AAAAAAAAAAAAAAAAA\n",
       "AAAAAAAAAAAAAAAAAAAAAAAAAAAAAAAAAAAAAAAAAAAv3aB7AAAAD3RSTlMAEHarMolUmd1mIs3v\n",
       "RLtmgJDEAAAACXBIWXMAAA7EAAAOxAGVKw4bAAABAUlEQVQoz2NgAANeZQZmBjxAiF/AB02IMa57\n",
       "05IAKGdhBoMemrzySQbxfwUwnimDEao0uy5Q7zy4fC/DEVR5dz4BBgZmuHwL7wcIQ6+jYwOINuQD\n",
       "uWECTD59HliU4bYiVODBcpjTlUVCExgX8IGVcm2EinIZuEJZBUxG7A3MCrfBHO4FUFGWgJsQBucC\n",
       "zo/ME3gnQXzKDbOPq+ASVCED+waEq306gOAB2P6lMDEeBYS8HJz1kA/Gur+AUQDG5oDLXwf5n+EC\n",
       "g9wFGwZWuCiTAiL8DBhAVuc71jBcQ1iwDc7S275ArJ2BQVyJrTIBIS/8VgAef+fbF2DG9NUXHUj+\n",
       "YQAAcGI4UNXawcoAAAAASUVORK5CYII=\n",
       "\" style=\"display:inline;vertical-align:middle;\" /></a></span>"
      ],
      "text/plain": [
       "{x in Complex, y in Complex} |- x^{y} in Complex"
      ]
     },
     "metadata": {},
     "output_type": "display_data"
    }
   ],
   "source": [
    "InSet(exp_test_01, Complex).prove(assumptions=[InSet(x, Complex), InSet(y, Complex)])"
   ]
  },
  {
   "cell_type": "code",
   "execution_count": 28,
   "metadata": {},
   "outputs": [
    {
     "data": {
      "text/html": [
       "<span style=\"font-size:20px;\"><a class=\"ProveItLink\" href=\"../../number_sets/complex_numbers/__pv_it/theorems/577412f0cc17bcff3fbe7f20aeda2716326d2f200/expr.ipynb\"><img src=\"data:image/png;base64,iVBORw0KGgoAAAANSUhEUgAAAEkAAAAVCAMAAAA94TNiAAAAOVBMVEX///8AAAAAAAAAAAAAAAAA\n",
       "AAAAAAAAAAAAAAAAAAAAAAAAAAAAAAAAAAAAAAAAAAAAAAAAAAAAAAACXHtMAAAAEnRSTlMAEHar\n",
       "MolUmd1mIs3vRLvt5cmVldCcAAAACXBIWXMAAA7EAAAOxAGVKw4bAAABMUlEQVQ4y61UCW7EMAgE\n",
       "fOCTbf3/xxbn2CS7TptVihSkWDDyDIMBbgXCP4WrU3bkbgIl03MkgCr3kEzquVhNLd0BqhOn1LpY\n",
       "xX8grpOQMyWr/Sw9HvpFsBNSiJeByBQtRm7C68ncPCMVugrENHOBuCLhIvLMrl1lZxlk8Y7hmd3X\n",
       "t0zs/lCcJGjkbUoI65xxIWWetd0F5mQomV7MK5D45WSrUGfy9IdEBq1zT6Yp47sF7dHGfqQw98EQ\n",
       "cFgP8htnhanHMecBUNS+qPqbeF6l1OrhEr6OxtKvtW+2JSwhe52uLenBVzjYRtlm9/sCdTfgU+Yw\n",
       "qNj8BPVsnaSCKX2WsDfIwOOLZTifIPlmkRWp7uye/cirmROgD3y64qxX8Bz3zWik4uAtKC1w+vjp\n",
       "kcO2XIgf+gQIl8gs3A8AAAAASUVORK5CYII=\n",
       "\" style=\"display:inline;vertical-align:middle;\" /></a>, <a class=\"ProveItLink\" href=\"../__pv_it/demonstrations/e7a733f6071838c624bab1a2ecdcd3efaa06f4b40/expr.ipynb\"><img src=\"data:image/png;base64,iVBORw0KGgoAAAANSUhEUgAAADMAAAATBAMAAADPIygvAAAAMFBMVEX///8AAAAAAAAAAAAAAAAA\n",
       "AAAAAAAAAAAAAAAAAAAAAAAAAAAAAAAAAAAAAAAAAAAv3aB7AAAAD3RSTlMAEHaZZquJVO8y3btE\n",
       "zSKD2s2pAAAACXBIWXMAAA7EAAAOxAGVKw4bAAAA5UlEQVQoz2NgwALEdt3Vm4ZNgoEpwoHRfjNW\n",
       "KaNjDAwsWKU4DTYCyWAUMe1Vqy4AKVaBDUBSBFnmrCKE5uYzgDAYlR0YREEMvotQJU85EyAMNvYG\n",
       "Bn8Qg/cBVGoajwOEMZ15AUM0WApm8GMeBQhDgEOBoQnEmLEKCDaA7YIayHBegPMniJaG6eIGuxAE\n",
       "bBmYGkA0F0yKB+wvHiDeysAdAA4eBXhoHAXrYGAwZTgPcdF1eBjutWOsAvlNNMke4mzRPQKwkN/x\n",
       "yw7CyoWKHNsFDig4YLvA2M6AHXApsCbgkGJ3ssEhAwCM+y13eiDJfgAAAABJRU5ErkJggg==\n",
       "\" style=\"display:inline;vertical-align:middle;\" /></a> <a class=\"ProveItLink\" href=\"../__pv_it/demonstrations/e970d43341277294926673028e569ac19f1645fc0/proof.ipynb\" style=\"text-decoration: none\">&nbsp;&#x22A2;&nbsp;&nbsp;</a><a class=\"ProveItLink\" href=\"../__pv_it/demonstrations/4b13d1ac74faf745947f47b1200edd3f2f5f1b1c0/expr.ipynb\"><img src=\"data:image/png;base64,iVBORw0KGgoAAAANSUhEUgAAAFMAAAAVCAMAAAANbSJDAAAAOVBMVEX///8AAAAAAAAAAAAAAAAA\n",
       "AAAAAAAAAAAAAAAAAAAAAAAAAAAAAAAAAAAAAAAAAAAAAAAAAAAAAAACXHtMAAAAEnRSTlMAEHar\n",
       "MolUmd1mIs3vRLvt5cmVldCcAAAACXBIWXMAAA7EAAAOxAGVKw4bAAABZ0lEQVQ4y61U2XKDMAyU\n",
       "5UO+pLT8/8dWBlIwmCTtoBn84GORdlcCuCkM3B6e59Wjvw0y27YmBGC5C9Pmtlany5T7I8b2P/tn\n",
       "SJ4rzlMjtYaeZwTddvWdHF5iKZidIpG0eOiXwM2YMfWsmBAB8A0jaKs+MzQJPXcWmAWz4pEX/bXF\n",
       "l5CES6WQnphmTWKpfQqHB5FXpi/DEcjqRUtL7V/fMtc+1giiA576SiVqlK0SA09uzFryr6bYvHRS\n",
       "OFCSshe04KFBBDIddrYb6nkyi9pojfNeeTCat+x0y8Wcze36Vgkj+qlJiUBxlof3aZZ8otMD92Yp\n",
       "A8ik75IqZvUqp75fz/e1cO4SCzwSsqVaxhrXuIbs+fxsTNSxJc3A/bLp/rpdm6fMYALGwd3Nn8BX\n",
       "zSsMtnX4qCLEYR+tFrxgTDmenCHF5DA6LYNdlEIZdDTQ5ZAhTUatHsanVtgM5lKdIuV/T1v20vXm\n",
       "B/EDTmkJ4zJ/p28AAAAASUVORK5CYII=\n",
       "\" style=\"display:inline;vertical-align:middle;\" /></a></span>"
      ],
      "text/plain": [
       "{x in ComplexNonZero, y in Complex} |- x^{y} in ComplexNonZero"
      ]
     },
     "metadata": {},
     "output_type": "display_data"
    }
   ],
   "source": [
    "InSet(exp_test_01, ComplexNonZero).prove(assumptions=[InSet(x, ComplexNonZero), InSet(y, Complex)])"
   ]
  },
  {
   "cell_type": "code",
   "execution_count": 29,
   "metadata": {},
   "outputs": [
    {
     "data": {
      "text/html": [
       "<span style=\"font-size:20px;\"> <a class=\"ProveItLink\" href=\"../__pv_it/demonstrations/c65fd69b56fc9a0d6e1ee440846565a4a9978b830/proof.ipynb\" style=\"text-decoration: none\">&nbsp;&#x22A2;&nbsp;&nbsp;</a><a class=\"ProveItLink\" href=\"../__pv_it/demonstrations/f130265c34d5a0feb952172c2ae8ae94ffdc9ade0/expr.ipynb\"><img src=\"data:image/png;base64,iVBORw0KGgoAAAANSUhEUgAAAEgAAAAUBAMAAADcj2b4AAAAMFBMVEX///8AAAAAAAAAAAAAAAAA\n",
       "AAAAAAAAAAAAAAAAAAAAAAAAAAAAAAAAAAAAAAAAAAAv3aB7AAAAD3RSTlMAIomZu0QQVHbN72bd\n",
       "Mqv0UZE7AAAACXBIWXMAAA7EAAAOxAGVKw4bAAABHUlEQVQoz2NgAAE2pXcJDIQAMwPzAVxyBjAG\n",
       "fwDjX1yKHGAM7gQiFDEwMKFaxz3L5ecpb4QiIWVXIHkHzeEsjA9YX7vBFLEZMNQXMDC6MaArUmBw\n",
       "uMfA7OKyxMWbgeM7Q/4EBmEGQUxFhpwwk1iXMvBPYPS9awaRbDlzZgJcEQuSw+s3cP3//wHMjGxD\n",
       "MulZHkIR62m4JYzTkKzjdZ8IV8Tb9xauiFMAoWjl+RMJSCEO9B1MEZLDtbdNQPYJ1zcY69YZIHCA\n",
       "Wue2G66C9wIDy3cYJwU5CC6zwAOY/xuSIh5kRcwX4dHG9QDJOo4GJEVsDt3wqNwADCe4AdMRigwY\n",
       "drMEwLjBxq4IP+S5JsBSwRcBFs/v2FNPkM+ZCRiCALFARrKJhcfzAAAAAElFTkSuQmCC\n",
       "\" style=\"display:inline;vertical-align:middle;\" /></a></span>"
      ],
      "text/plain": [
       "|- 3^{2} in RealPos"
      ]
     },
     "metadata": {},
     "output_type": "display_data"
    }
   ],
   "source": [
    "InSet(Exp(three, two), RealPos).prove()"
   ]
  },
  {
   "cell_type": "code",
   "execution_count": 30,
   "metadata": {},
   "outputs": [
    {
     "data": {
      "text/html": [
       "<a class=\"ProveItLink\" href=\"../__pv_it/demonstrations/7fae72758e117db14c9596e62821503a83e4892f0/expr.ipynb\"><img src=\"data:image/png;base64,iVBORw0KGgoAAAANSUhEUgAAABsAAAAVBAMAAABF8IgWAAAAMFBMVEX///8AAAAAAAAAAAAAAAAA\n",
       "AAAAAAAAAAAAAAAAAAAAAAAAAAAAAAAAAAAAAAAAAAAv3aB7AAAAD3RSTlMAMom7q0QizZkQVN1m\n",
       "du8ilFydAAAACXBIWXMAAA7EAAAOxAGVKw4bAAAAsklEQVQY02NggADG/yDwAcpjYBZgQAbCKDwG\n",
       "VxQeWwEKlyMAhTudgSGj3RDO7WJgM2DQhynh3MDAksDA9wDKZTrAwPeTgeUbkLkUiLkZGFiACj4y\n",
       "MPA+B3LvgtVwA90oqQ903gYwV/4CkJjvwMBzAczdAnbBNwbuCWCGAdh9PxgWgSWPQGyxn1AJorgU\n",
       "GNJAdPytBhAlxMBwE0SzP08A6dnR0QG2gOsL2FJg2EB8WYbwGQBvoynegwW/+wAAAABJRU5ErkJg\n",
       "gg==\n",
       "\" style=\"display:inline;vertical-align:middle;\" /></a>"
      ],
      "text/plain": [
       "sqrt(2)"
      ]
     },
     "metadata": {},
     "output_type": "display_data"
    }
   ],
   "source": [
    "exp_test_03"
   ]
  },
  {
   "cell_type": "code",
   "execution_count": 31,
   "metadata": {},
   "outputs": [
    {
     "data": {
      "text/html": [
       "<span style=\"font-size:20px;\"> <a class=\"ProveItLink\" href=\"../__pv_it/demonstrations/335cbf12299ab0a3e5a6575823838c0b352458c90/proof.ipynb\" style=\"text-decoration: none\">&nbsp;&#x22A2;&nbsp;&nbsp;</a><a class=\"ProveItLink\" href=\"../__pv_it/demonstrations/bed4d05f6489583b22dbc462ab80bfad6c68943a0/expr.ipynb\"><img src=\"data:image/png;base64,iVBORw0KGgoAAAANSUhEUgAAAE8AAAAVBAMAAAD1D64kAAAAMFBMVEX///8AAAAAAAAAAAAAAAAA\n",
       "AAAAAAAAAAAAAAAAAAAAAAAAAAAAAAAAAAAAAAAAAAAv3aB7AAAAD3RSTlMAMom7q0QizZkQVN1m\n",
       "du8ilFydAAAACXBIWXMAAA7EAAAOxAGVKw4bAAABUElEQVQoz2NggADG/yDwgYEgYBZgIA4I45Pk\n",
       "QGK74rUOwWQrIFIhRwCm9PHH9tWPD6ApnM7AkNFuiKbSIIUh5PAEVIVdDGwGDPpoxhokMTAzOjA0\n",
       "G9sZGx+ACHFuYGBJYOB7gKGQI6EAxUSmAwx8PxlYvoE5vNa7tyMUGsAVLgVibgYGFqChH0F81toJ\n",
       "CBNZZjrAFPI+BxJ3wRLc4BhMn4BktfDyBJhCSX1g5G0AS8hfAJFlCDfmVf++iYiZ+Q4MPGAVDFvA\n",
       "ZAGSZ85MR47IbwzcYNs4DMDJ6PXu3bs3QxUyzzmAFHs/GBaBGUcgIWWAZCJjgyWSkfYTKkEUlwJD\n",
       "GojegByOjclICuNvNYAoIQYGsMvvIiuczItkN/tzUBCw7ejoABvGvgCuMIOB54ApQiHXF3AgAnMC\n",
       "2MOczpHw1GPGYFy/AKGyDDWKWZWhUYgCALuaVp1U/63PAAAAAElFTkSuQmCC\n",
       "\" style=\"display:inline;vertical-align:middle;\" /></a></span>"
      ],
      "text/plain": [
       "|- sqrt(2) in RealPos"
      ]
     },
     "metadata": {},
     "output_type": "display_data"
    }
   ],
   "source": [
    "InSet(exp_test_03, RealPos).prove()"
   ]
  },
  {
   "cell_type": "code",
   "execution_count": 32,
   "metadata": {},
   "outputs": [
    {
     "data": {
      "text/html": [
       "<span style=\"font-size:20px;\"> <a class=\"ProveItLink\" href=\"../__pv_it/demonstrations/42f91ef100dc18edcea029c1c6243b712aa36ca10/proof.ipynb\" style=\"text-decoration: none\">&nbsp;&#x22A2;&nbsp;&nbsp;</a><a class=\"ProveItLink\" href=\"../__pv_it/demonstrations/9bbb96d1e015674e4da1c462903db3e95a69bb7f0/expr.ipynb\"><img src=\"data:image/png;base64,iVBORw0KGgoAAAANSUhEUgAAAD4AAAATBAMAAAA63aOfAAAAMFBMVEX///8AAAAAAAAAAAAAAAAA\n",
       "AAAAAAAAAAAAAAAAAAAAAAAAAAAAAAAAAAAAAAAAAAAv3aB7AAAAD3RSTlMAIpnNuzKJRKvvEN12\n",
       "ZlQ4bmvwAAAACXBIWXMAAA7EAAAOxAGVKw4bAAAA6UlEQVQoz2NgwAMUGPADB3LkeS1dPu/0hcsz\n",
       "KpkEoCpgYWxg7/WCyYswsH1Hl09gcIhgYHJxmeLiy9DIwDATU16RGaZ//gKGfgGwOI/37s1weRaY\n",
       "fDcDQz/YAew2CxD6u1YguX8/mBRegDCf1c8QIc/6B0wZIuyfvH/PAkT4cTeAKQOEfO4tAyT3qkBM\n",
       "mb179+4tUPO97iKFF0Q7lwOS/4JYFsDlnzEwgv23AUmeKRCumjWBgQes+AySPJfDWRhPWklJG8xg\n",
       "fgCXV2C4y1IA5e3///8zxAEtVbD4+yLA4vwPI2LZUyDhiwIAtwE2XG0ZVc0AAAAASUVORK5CYII=\n",
       "\" style=\"display:inline;vertical-align:middle;\" /></a></span>"
      ],
      "text/plain": [
       "|- 2 in RealPos"
      ]
     },
     "metadata": {},
     "output_type": "display_data"
    }
   ],
   "source": [
    "InSet(two, RealPos).prove()"
   ]
  },
  {
   "cell_type": "code",
   "execution_count": 33,
   "metadata": {},
   "outputs": [
    {
     "data": {
      "text/html": [
       "<strong id=\"two_in_real_k_t\">two_in_real_k_t:</strong> <span style=\"font-size:20px;\"> <a class=\"ProveItLink\" href=\"../__pv_it/demonstrations/0d855b34ee0212d43f05abe2f7d3ebf4f9bd31340/proof.ipynb\" style=\"text-decoration: none\">&nbsp;&#x22A2;&nbsp;&nbsp;</a><a class=\"ProveItLink\" href=\"../__pv_it/demonstrations/371d48b3894e95e20b50c9d70ca5e18a2adb54990/expr.ipynb\"><img src=\"data:image/png;base64,iVBORw0KGgoAAAANSUhEUgAAADIAAAAQBAMAAACmdTG/AAAAMFBMVEX///8AAAAAAAAAAAAAAAAA\n",
       "AAAAAAAAAAAAAAAAAAAAAAAAAAAAAAAAAAAAAAAAAAAv3aB7AAAAD3RSTlMAIpnNuzKJRKvvEN12\n",
       "ZlQ4bmvwAAAACXBIWXMAAA7EAAAOxAGVKw4bAAAA2ElEQVQY02NgQAe8li6fd/oCGYxKJgGoUiyM\n",
       "Dey9XgwMIgxs39FlEhgcIhgYGhkYZmLKKDIzMMxfwNAvABY5snu3AVyGhYGhm4GhH2xR8SkkPV0r\n",
       "wMz9IILRCsk0Vj9DEIv1D4hkFkDITN6/ZwGIxd0AlkFyQe4tsIUMKmAycjcQOEBN87oL9jNYC8MS\n",
       "ZFcHsYBMe8bACLKCG1mGKRComzWBgQekgOcAkgyXw1kGBmklJW2wgB1CRoHhLksBw/7//z+DBVa4\n",
       "L4CF9RcBFud/SOFV5g0JHSgAAFzjMhP8qnJ+AAAAAElFTkSuQmCC\n",
       "\" style=\"display:inline;vertical-align:middle;\" /></a></span><br>"
      ],
      "text/plain": [
       "<IPython.core.display.HTML object>"
      ]
     },
     "metadata": {},
     "output_type": "display_data"
    }
   ],
   "source": [
    "two_in_real_k_t = InSet(two, Real).prove()"
   ]
  },
  {
   "cell_type": "code",
   "execution_count": 34,
   "metadata": {},
   "outputs": [
    {
     "data": {
      "text/html": [
       "<table><tr><th>&nbsp;</th><th>step type</th><th>requirements</th><th>statement</th></tr>\n",
       "<tr><td><a name=\"0x223863d90cd9cde6_step0\">0</a></td><td>instantiation</td><td><a href=\"#0x223863d90cd9cde6_step1\">1</a>, <a href=\"#0x223863d90cd9cde6_step2\">2</a>, <a href=\"#0x223863d90cd9cde6_step3\">3</a></td><td><span style=\"font-size:20px;\"> <a class=\"ProveItLink\" href=\"../__pv_it/demonstrations/0d855b34ee0212d43f05abe2f7d3ebf4f9bd31340/proof.ipynb\" style=\"text-decoration: none\">&nbsp;&#x22A2;&nbsp;&nbsp;</a><a class=\"ProveItLink\" href=\"../__pv_it/demonstrations/371d48b3894e95e20b50c9d70ca5e18a2adb54990/expr.ipynb\"><img src=\"data:image/png;base64,iVBORw0KGgoAAAANSUhEUgAAADIAAAAQBAMAAACmdTG/AAAAMFBMVEX///8AAAAAAAAAAAAAAAAA\n",
       "AAAAAAAAAAAAAAAAAAAAAAAAAAAAAAAAAAAAAAAAAAAv3aB7AAAAD3RSTlMAIpnNuzKJRKvvEN12\n",
       "ZlQ4bmvwAAAACXBIWXMAAA7EAAAOxAGVKw4bAAAA2ElEQVQY02NgQAe8li6fd/oCGYxKJgGoUiyM\n",
       "Dey9XgwMIgxs39FlEhgcIhgYGhkYZmLKKDIzMMxfwNAvABY5snu3AVyGhYGhm4GhH2xR8SkkPV0r\n",
       "wMz9IILRCsk0Vj9DEIv1D4hkFkDITN6/ZwGIxd0AlkFyQe4tsIUMKmAycjcQOEBN87oL9jNYC8MS\n",
       "ZFcHsYBMe8bACLKCG1mGKRComzWBgQekgOcAkgyXw1kGBmklJW2wgB1CRoHhLksBw/7//z+DBVa4\n",
       "L4CF9RcBFud/SOFV5g0JHSgAAFzjMhP8qnJ+AAAAAElFTkSuQmCC\n",
       "\" style=\"display:inline;vertical-align:middle;\" /></a></span></td></tr>\n",
       "<tr><td>&nbsp;</td><td colspan=4 style=\"text-align:left\"><span style=\"font-size:20px;\"><a class=\"ProveItLink\" href=\"../../../__pv_it/common/09585084922504426caf1db2ff588a23a0932a960/expr.ipynb\"><img src=\"data:image/png;base64,iVBORw0KGgoAAAANSUhEUgAAAA8AAAAPBAMAAADJ+Ih5AAAAMFBMVEX///8AAAAAAAAAAAAAAAAA\n",
       "AAAAAAAAAAAAAAAAAAAAAAAAAAAAAAAAAAAAAAAAAAAv3aB7AAAAD3RSTlMAIs1UmauJMnZmRLsQ\n",
       "3e++988cAAAACXBIWXMAAA7EAAAOxAGVKw4bAAAAXklEQVQI12NgAAEhBijQh9LM/6EMlngBCCMx\n",
       "vwBMMzb0G0BkGOwngBmLGeoTwAwHBvkAEM2xxSV+A4hxgoGB/wJEhoH3AZDmAupg+gBkyAEx90cG\n",
       "htP/dRiY939KAABt3hLO6mcEjQAAAABJRU5ErkJggg==\n",
       "\" style=\"display:inline;vertical-align:middle;\" /></a> : <a class=\"ProveItLink\" href=\"../../number_sets/rational_numbers/__pv_it/common/3de3e316334b6ece430a3f1aee01ae68b192ecb30/expr.ipynb\"><img src=\"data:image/png;base64,iVBORw0KGgoAAAANSUhEUgAAABAAAAASBAMAAACgFUNZAAAAMFBMVEX///8AAAAAAAAAAAAAAAAA\n",
       "AAAAAAAAAAAAAAAAAAAAAAAAAAAAAAAAAAAAAAAAAAAv3aB7AAAAD3RSTlMAEIm7mSJ2q+8y3WZE\n",
       "zVRISQrpAAAACXBIWXMAAA7EAAAOxAGVKw4bAAAAh0lEQVQI12NgYBAyNnZlAAK2igmsyxWADG1t\n",
       "BoYjhxkYOBUuMDAwcycwMAsWMDAwTbjAIMyZwMDA98CTYRLPBgYGng37GI5xPwAqTHjNEMQHFslh\n",
       "YIaocWRgFoXq4oGYA1ToDTT5ONBkBiaQXQ4gW0P+3vdkAINKoE1gwJ6Q/vIAmPXctnkDAHEUIwom\n",
       "ORJuAAAAAElFTkSuQmCC\n",
       "\" style=\"display:inline;vertical-align:middle;\" /></a>, <a class=\"ProveItLink\" href=\"../../../__pv_it/common/a9162d1c3cc0470c02e5daf414500903a7a419230/expr.ipynb\"><img src=\"data:image/png;base64,iVBORw0KGgoAAAANSUhEUgAAABAAAAAOBAMAAADUAYG5AAAAMFBMVEX///8AAAAAAAAAAAAAAAAA\n",
       "AAAAAAAAAAAAAAAAAAAAAAAAAAAAAAAAAAAAAAAAAAAv3aB7AAAAD3RSTlMAZrurzTLvInZEmRDd\n",
       "VIkafcLnAAAACXBIWXMAAA7EAAAOxAGVKw4bAAAAb0lEQVQI12NgYBD6b2zsFMAABEkMDMxfgTT7\n",
       "DwYGzl9ABiOQxwjkMDB/YGBgSQcy2BQYuG1AiuM1OkwEQJr6Cxh4E0EMNSB+D5L6DMTyDQwMrB+B\n",
       "DPsJDAwc34GcL0AOSwIDwzRvoHH6n41NdBkYAF/iFeJ4bEa2AAAAAElFTkSuQmCC\n",
       "\" style=\"display:inline;vertical-align:middle;\" /></a> : <a class=\"ProveItLink\" href=\"../../number_sets/real_numbers/__pv_it/common/93cac87a1a47e613f7a83b23ef7891599a1a4cca0/expr.ipynb\"><img src=\"data:image/png;base64,iVBORw0KGgoAAAANSUhEUgAAAA8AAAAPBAMAAADJ+Ih5AAAAMFBMVEX///8AAAAAAAAAAAAAAAAA\n",
       "AAAAAAAAAAAAAAAAAAAAAAAAAAAAAAAAAAAAAAAAAAAv3aB7AAAAD3RSTlMAZs3vu90iq0QQiTKZ\n",
       "VHZ+Ip2vAAAACXBIWXMAAA7EAAAOxAGVKw4bAAAAX0lEQVQI12MQMvFXNRFgAAKHdIZ2kQkgRhYD\n",
       "C3cBhMGToABjOEAY7DOhUlsuJYAYyapfX4K1ZwlOYoAwWCZCDMziPuAJYTCcToEypvCB5BxyGBgF\n",
       "PBgYgLa7MbjoXwAAK2IYKL6KYFkAAAAASUVORK5CYII=\n",
       "\" style=\"display:inline;vertical-align:middle;\" /></a>, <a class=\"ProveItLink\" href=\"../../../__pv_it/common/a0d9d672aa5e272d907247690c152cc2c6daafb70/expr.ipynb\"><img src=\"data:image/png;base64,iVBORw0KGgoAAAANSUhEUgAAAAsAAAAJBAMAAAAWSsseAAAAMFBMVEX///8AAAAAAAAAAAAAAAAA\n",
       "AAAAAAAAAAAAAAAAAAAAAAAAAAAAAAAAAAAAAAAAAAAv3aB7AAAAD3RSTlMAEHarMolUmd1mIs3v\n",
       "RLtmgJDEAAAACXBIWXMAAA7EAAAOxAGVKw4bAAAAQklEQVQI12NgEFIWCU1gYChgMmJvYOBcwPmR\n",
       "eQIDCwP7BgYQ4FEAU/cXMAowyF2wYWBlYMh3rGG4xsAgrsRWmcAAAFEjCyBvD0T9AAAAAElFTkSu\n",
       "QmCC\n",
       "\" style=\"display:inline;vertical-align:middle;\" /></a> : <a class=\"ProveItLink\" href=\"../../numerals/__pv_it/common/af4aab8a07465db063742696e006d04670f30cf10/expr.ipynb\"><img src=\"data:image/png;base64,iVBORw0KGgoAAAANSUhEUgAAAAkAAAAOBAMAAAAPuiubAAAAMFBMVEX///8AAAAAAAAAAAAAAAAA\n",
       "AAAAAAAAAAAAAAAAAAAAAAAAAAAAAAAAAAAAAAAAAAAv3aB7AAAAD3RSTlMAIpnNuzKJRKvvEN12\n",
       "ZlQ4bmvwAAAACXBIWXMAAA7EAAAOxAGVKw4bAAAATklEQVQI12NgVDIJYGAQYWD7zsDQyMAwk4Fh\n",
       "/gKGfgGGbgaGfqAEA8N+EMH6B0RyN4BIFRDBC2Y+Y2AUYGBNYOBZwCCtpKQNVPz//2cGAEeID1mi\n",
       "/zO7AAAAAElFTkSuQmCC\n",
       "\" style=\"display:inline;vertical-align:middle;\" /></a></span></td></tr><tr><td><a name=\"0x223863d90cd9cde6_step1\">1</a></td><td><i>reference</i></td><td><a href=\"#0x223863d90cd9cde6_step6\">6</a></td><td><span style=\"font-size:20px;\"> <a class=\"ProveItLink\" href=\"../../../logic/sets/inclusion/_theory_nbs_/proofs/superset_membership_from_proper_subset/thm_proof.ipynb\" style=\"text-decoration: none\">&nbsp;&#x22A2;&nbsp;&nbsp;</a><a class=\"ProveItLink\" href=\"../../../logic/sets/inclusion/__pv_it/theorems/8c2c4c3c91efdbf0b7e86e4a2d99545aea54db000/expr.ipynb\"><img src=\"data:image/png;base64,iVBORw0KGgoAAAANSUhEUgAAAPcAAAAXBAMAAAAl5sTiAAAAMFBMVEX///8AAAAAAAAAAAAAAAAA\n",
       "AAAAAAAAAAAAAAAAAAAAAAAAAAAAAAAAAAAAAAAAAAAv3aB7AAAAD3RSTlMAq1RmmUTNIjK7EInv\n",
       "3XZ/CtNrAAAACXBIWXMAAA7EAAAOxAGVKw4bAAADd0lEQVRIx7WWX0gUQRzHv/d37/bsPEmkgvCo\n",
       "6DGOlKIH80IqxTIhCMmoS4jQl85HqXR7jKQO4aCTyhMkKBJOsSDuodMeKqIQ6qEHF7YMpAhTMz0M\n",
       "qtmZ2925013lwIG7nZ3fb+cz8/s3AxTZ/LJkrSBYCaMbmMCi+ZrXUfhiJTzPZgio/d3FwG3qwx4y\n",
       "kdtTaw4f+ldW1i7BH6Lwo+rQ5WLgTnXv7qiJ/KHJ+BvAlgU6KPyG6p5YMXCParQuM3mdSST8BVyL\n",
       "QDWFu5PkESzK52T1GDWTZ/LevslyhHYcZNcOsoCSpDqDg1jfXVzAVZFHxMzleYIz37WebY7gXpFf\n",
       "iIbsO1l+Wxy8RJanUiZiJxGIsztuUcsIHfp4SQziTpJjvgCF1wP9dDxZ8LnWEc3gTgnego90XbIz\n",
       "MsNn5STyo/LOg9kKNUEcEQrvhEDTTXxNpTcX0w00+72a/hO9GHgGGsfuGnDyXWfBknTdLSSMDqI2\n",
       "uZXCDYWfUdhfqm7JULg3yeqFb4FFxCT8mTz4CzKPZySRIMuvAX5wRaYfTzWl29vjmi4zLxFLOMZe\n",
       "emXSWEbdU5XICj1zdAa7whbW8p5FRBiOOR7u6lWARrajcqCWg+/T481Zb+jqcIBNiUfGzufJr5Yo\n",
       "udjOETlMh5WL7KsghkM83O8O6Lk4AfEDB3c7yDT+r93HMW3oGmaHaxmP6YvO9vwif5XqlicZfJTG\n",
       "oj9no57p6m3g4YozgkGtQlQdkTi4by+JtxlbrE2MGbqseRWIcVsGNBv8in4cLZMFLKnejTH4Nbra\n",
       "lpw3ayCW83CXRELgNLR4GAxzcGGcdEJeRXKFDN2cOAB7dijjYiZr05OAyM91sFSkcBvdTGO6Mplz\n",
       "a08zB3emR1awC1o8CL/5U43aqDQKR3si0ZfTzdl3EmKTsmc/exuMs5S0DcyXVfRRTzRz56KfMCXm\n",
       "VlzgU02BkMVVaPHgyq46UnsR9aQM3Vz7lJeCrffl/Fp4nZ+BGLY0KKYgrED8yJldNegCvKxK9CQx\n",
       "HC6AC5lnCLMyxXRzrdq6QNZxcOc4xFOXPBM48CfdEOTgJwIYWmoWaWlxXEmP9a26TDS1zibRJem6\n",
       "WsRFLa85sdXXETvX9+YV0wQtMqY3GfF5Il5QaC2PaXVphfCzZvA1avt6V7BuK+EMibKpAnho4/DN\n",
       "bcLmI/4DAvPgMMgumckAAAAASUVORK5CYII=\n",
       "\" style=\"display:inline;vertical-align:middle;\" /></a></span></td></tr>\n",
       "<tr><td><a name=\"0x223863d90cd9cde6_step2\">2</a></td><td>conjecture</td><td></td><td><span style=\"font-size:20px;\"> <a class=\"ProveItLink\" href=\"../../number_sets/real_numbers/_theory_nbs_/proofs/rational_within_real/thm_proof.ipynb\" style=\"text-decoration: none\">&nbsp;&#x22A2;&nbsp;&nbsp;</a><a class=\"ProveItLink\" href=\"../../number_sets/real_numbers/__pv_it/theorems/e682cd49905f8b52fcd025dd4d0c53b5fa6a75840/expr.ipynb\"><img src=\"data:image/png;base64,iVBORw0KGgoAAAANSUhEUgAAADsAAAASBAMAAAAXqLt+AAAAMFBMVEX///8AAAAAAAAAAAAAAAAA\n",
       "AAAAAAAAAAAAAAAAAAAAAAAAAAAAAAAAAAAAAAAAAAAv3aB7AAAAD3RSTlMAEIm7mSJ2q+8y3WZE\n",
       "zVRISQrpAAAACXBIWXMAAA7EAAAOxAGVKw4bAAABDUlEQVQoz2NgYBAyNnZlQAN7m+1vNW8Asdgq\n",
       "JrAuV0CXNwhnOL5ZAMjQ1mZgOHIYQzqIgZmzgIGBU+ECAwMzdwKmNEsASEYQqIZpwgWwIJvVqlWr\n",
       "JsClDRgYhDmBGvkeeILEOC8FIOlmB2mcxAN0IM+GfSAxqQBkwye/BXKPcT8Aakt4DRKrQbI74tav\n",
       "RCAdxAfWnQMSu4DstN2yIJoZYrcjyOoCZGlmaVCwMIvCXc6KIs3pYAikeSD+fgASW4Dib89gEMMb\n",
       "GGrHIaHmjSItzAYynQkU5g5gMd4DCOkQBu4NNiBWyN/7nhAxRvODiBgzZTC+D7ayEh7iPMqwQEUC\n",
       "7AnpLw8w4AbPbSFRjwkApNtJpbpIiBIAAAAASUVORK5CYII=\n",
       "\" style=\"display:inline;vertical-align:middle;\" /></a></span></td></tr>\n",
       "<tr><td>&nbsp;</td><td colspan=4 style-\"text-align:left\"><a class=\"ProveItLink\" href=\"../../number_sets/real_numbers/_theory_nbs_/proofs/rational_within_real/thm_proof.ipynb\">proveit.numbers.number_sets.real_numbers.rational_within_real</a></td></tr><tr><td><a name=\"0x223863d90cd9cde6_step3\">3</a></td><td>instantiation</td><td><a href=\"#0x223863d90cd9cde6_step6\">6</a>, <a href=\"#0x223863d90cd9cde6_step4\">4</a>, <a href=\"#0x223863d90cd9cde6_step5\">5</a></td><td><span style=\"font-size:20px;\"> <a class=\"ProveItLink\" href=\"../__pv_it/demonstrations/65b3940948d41d20a3439fa181e29998369e49ad0/proof.ipynb\" style=\"text-decoration: none\">&nbsp;&#x22A2;&nbsp;&nbsp;</a><a class=\"ProveItLink\" href=\"../__pv_it/demonstrations/9fcd7e1f9f79a43396482feffbef8cf6ef083bbd0/expr.ipynb\"><img src=\"data:image/png;base64,iVBORw0KGgoAAAANSUhEUgAAADMAAAASBAMAAAAEf/uKAAAAMFBMVEX///8AAAAAAAAAAAAAAAAA\n",
       "AAAAAAAAAAAAAAAAAAAAAAAAAAAAAAAAAAAAAAAAAAAv3aB7AAAAD3RSTlMAIpnNuzKJRKvvEN12\n",
       "ZlQ4bmvwAAAACXBIWXMAAA7EAAAOxAGVKw4bAAABAklEQVQY02NgwARcKS5OAkCaUckkAE3qxFQG\n",
       "6TYgLcLA9h1Vhu3aBQZ2dQcGhkYGhpmoUmHMQMLhDgPD/AUM/QJgoSO7dxuAaK8VQCIVKN/NwNAP\n",
       "tqz4FNQRDjFA8h0TWHA/iGC0gprHmlALJGt5H4DYf0AizAJQKfYD94BkDN8FIMndAJaCuYIx4S1I\n",
       "F08BkFQBi0TuBgIHEAtq1wIGBl6wJoYlcMd7SUBdyPCMgRFkDTdcqgzsr3sgBzHwAPUy8ByASTGB\n",
       "QqMdaLa0kpI2WMQOri0DGIZNIE/9//8ZLLDCfQHMjfrGn1CDvMwbElAMDBwBdxhwgR6evnAcUnwt\n",
       "lr4MAECIOxjlwmF1AAAAAElFTkSuQmCC\n",
       "\" style=\"display:inline;vertical-align:middle;\" /></a></span></td></tr>\n",
       "<tr><td>&nbsp;</td><td colspan=4 style=\"text-align:left\"><span style=\"font-size:20px;\"><a class=\"ProveItLink\" href=\"../../../__pv_it/common/09585084922504426caf1db2ff588a23a0932a960/expr.ipynb\"><img src=\"data:image/png;base64,iVBORw0KGgoAAAANSUhEUgAAAA8AAAAPBAMAAADJ+Ih5AAAAMFBMVEX///8AAAAAAAAAAAAAAAAA\n",
       "AAAAAAAAAAAAAAAAAAAAAAAAAAAAAAAAAAAAAAAAAAAv3aB7AAAAD3RSTlMAIs1UmauJMnZmRLsQ\n",
       "3e++988cAAAACXBIWXMAAA7EAAAOxAGVKw4bAAAAXklEQVQI12NgAAEhBijQh9LM/6EMlngBCCMx\n",
       "vwBMMzb0G0BkGOwngBmLGeoTwAwHBvkAEM2xxSV+A4hxgoGB/wJEhoH3AZDmAupg+gBkyAEx90cG\n",
       "htP/dRiY939KAABt3hLO6mcEjQAAAABJRU5ErkJggg==\n",
       "\" style=\"display:inline;vertical-align:middle;\" /></a> : <a class=\"ProveItLink\" href=\"../../number_sets/integers/__pv_it/common/e6b4e90f9467053e055a4fd2f735c0bb79cb79300/expr.ipynb\"><img src=\"data:image/png;base64,iVBORw0KGgoAAAANSUhEUgAAAA4AAAAPBAMAAAAmOuNHAAAAMFBMVEX///8AAAAAAAAAAAAAAAAA\n",
       "AAAAAAAAAAAAAAAAAAAAAAAAAAAAAAAAAAAAAAAAAAAv3aB7AAAAD3RSTlMAVM3vu91mdqsymYki\n",
       "EESqKsraAAAACXBIWXMAAA7EAAAOxAGVKw4bAAAAcElEQVQI12NgVP6sEuqcwMDuMYFBgYmBgWsB\n",
       "A3vCRgYGjgMMV3gdGBh4GRhWckxgAALOhlkgioHlgi+YlmYrANMgXUDALrCPgeECA8MVHqCuHgaG\n",
       "TqAJvB8YOBe8AhoWANSly8Dj6MDw2MnExd5kAwAL3Bb91imKgQAAAABJRU5ErkJggg==\n",
       "\" style=\"display:inline;vertical-align:middle;\" /></a>, <a class=\"ProveItLink\" href=\"../../../__pv_it/common/a9162d1c3cc0470c02e5daf414500903a7a419230/expr.ipynb\"><img src=\"data:image/png;base64,iVBORw0KGgoAAAANSUhEUgAAABAAAAAOBAMAAADUAYG5AAAAMFBMVEX///8AAAAAAAAAAAAAAAAA\n",
       "AAAAAAAAAAAAAAAAAAAAAAAAAAAAAAAAAAAAAAAAAAAv3aB7AAAAD3RSTlMAZrurzTLvInZEmRDd\n",
       "VIkafcLnAAAACXBIWXMAAA7EAAAOxAGVKw4bAAAAb0lEQVQI12NgYBD6b2zsFMAABEkMDMxfgTT7\n",
       "DwYGzl9ABiOQxwjkMDB/YGBgSQcy2BQYuG1AiuM1OkwEQJr6Cxh4E0EMNSB+D5L6DMTyDQwMrB+B\n",
       "DPsJDAwc34GcL0AOSwIDwzRvoHH6n41NdBkYAF/iFeJ4bEa2AAAAAElFTkSuQmCC\n",
       "\" style=\"display:inline;vertical-align:middle;\" /></a> : <a class=\"ProveItLink\" href=\"../../number_sets/rational_numbers/__pv_it/common/3de3e316334b6ece430a3f1aee01ae68b192ecb30/expr.ipynb\"><img src=\"data:image/png;base64,iVBORw0KGgoAAAANSUhEUgAAABAAAAASBAMAAACgFUNZAAAAMFBMVEX///8AAAAAAAAAAAAAAAAA\n",
       "AAAAAAAAAAAAAAAAAAAAAAAAAAAAAAAAAAAAAAAAAAAv3aB7AAAAD3RSTlMAEIm7mSJ2q+8y3WZE\n",
       "zVRISQrpAAAACXBIWXMAAA7EAAAOxAGVKw4bAAAAh0lEQVQI12NgYBAyNnZlAAK2igmsyxWADG1t\n",
       "BoYjhxkYOBUuMDAwcycwMAsWMDAwTbjAIMyZwMDA98CTYRLPBgYGng37GI5xPwAqTHjNEMQHFslh\n",
       "YIaocWRgFoXq4oGYA1ToDTT5ONBkBiaQXQ4gW0P+3vdkAINKoE1gwJ6Q/vIAmPXctnkDAHEUIwom\n",
       "ORJuAAAAAElFTkSuQmCC\n",
       "\" style=\"display:inline;vertical-align:middle;\" /></a>, <a class=\"ProveItLink\" href=\"../../../__pv_it/common/a0d9d672aa5e272d907247690c152cc2c6daafb70/expr.ipynb\"><img src=\"data:image/png;base64,iVBORw0KGgoAAAANSUhEUgAAAAsAAAAJBAMAAAAWSsseAAAAMFBMVEX///8AAAAAAAAAAAAAAAAA\n",
       "AAAAAAAAAAAAAAAAAAAAAAAAAAAAAAAAAAAAAAAAAAAv3aB7AAAAD3RSTlMAEHarMolUmd1mIs3v\n",
       "RLtmgJDEAAAACXBIWXMAAA7EAAAOxAGVKw4bAAAAQklEQVQI12NgEFIWCU1gYChgMmJvYOBcwPmR\n",
       "eQIDCwP7BgYQ4FEAU/cXMAowyF2wYWBlYMh3rGG4xsAgrsRWmcAAAFEjCyBvD0T9AAAAAElFTkSu\n",
       "QmCC\n",
       "\" style=\"display:inline;vertical-align:middle;\" /></a> : <a class=\"ProveItLink\" href=\"../../numerals/__pv_it/common/af4aab8a07465db063742696e006d04670f30cf10/expr.ipynb\"><img src=\"data:image/png;base64,iVBORw0KGgoAAAANSUhEUgAAAAkAAAAOBAMAAAAPuiubAAAAMFBMVEX///8AAAAAAAAAAAAAAAAA\n",
       "AAAAAAAAAAAAAAAAAAAAAAAAAAAAAAAAAAAAAAAAAAAv3aB7AAAAD3RSTlMAIpnNuzKJRKvvEN12\n",
       "ZlQ4bmvwAAAACXBIWXMAAA7EAAAOxAGVKw4bAAAATklEQVQI12NgVDIJYGAQYWD7zsDQyMAwk4Fh\n",
       "/gKGfgGGbgaGfqAEA8N+EMH6B0RyN4BIFRDBC2Y+Y2AUYGBNYOBZwCCtpKQNVPz//2cGAEeID1mi\n",
       "/zO7AAAAAElFTkSuQmCC\n",
       "\" style=\"display:inline;vertical-align:middle;\" /></a></span></td></tr><tr><td><a name=\"0x223863d90cd9cde6_step4\">4</a></td><td>conjecture</td><td></td><td><span style=\"font-size:20px;\"> <a class=\"ProveItLink\" href=\"../../number_sets/rational_numbers/_theory_nbs_/proofs/int_within_rational/thm_proof.ipynb\" style=\"text-decoration: none\">&nbsp;&#x22A2;&nbsp;&nbsp;</a><a class=\"ProveItLink\" href=\"../../number_sets/rational_numbers/__pv_it/theorems/f82654afbc103bcf8089d3e3a9860276c55562410/expr.ipynb\"><img src=\"data:image/png;base64,iVBORw0KGgoAAAANSUhEUgAAADkAAAASBAMAAAATXWtDAAAAMFBMVEX///8AAAAAAAAAAAAAAAAA\n",
       "AAAAAAAAAAAAAAAAAAAAAAAAAAAAAAAAAAAAAAAAAAAv3aB7AAAAD3RSTlMAVM3vu91mdqsymYki\n",
       "EESqKsraAAAACXBIWXMAAA7EAAAOxAGVKw4bAAABHUlEQVQoz2NgVP6sEuqcwIAKeLe4eB0A0uwe\n",
       "ExgUmNAkGSosGY52A2muBQzsCRvRJLmzExj41jkwMHAcYLjC64AmOxtkmEM60AYGhpUcEyCCJaGh\n",
       "oZEghu8NILETbB9nwyyI5KQ9MDc5TAeSglwgTSwXfCFiMTCDOTc8A5LP2ASApDRbAViM4wFMlq8g\n",
       "EUhOZwT5E+YfhLd4NoiB9LIDlbML7GNguADkzUC4GWovUPQKD9A/PUDeCYSs7wmYmzuBPub9AGSw\n",
       "ImRfg/0LtJxzwSuggwJAoYYIbC5QWPU5gPyjy8DjCA4sPYTmHcBw7gLSj51MXOxNNoCErvRdgLt6\n",
       "vdKvCWjB+9oVGpJAuyakM+AB7eyN83DLMrYouzEAAFryQoQ5NsiXAAAAAElFTkSuQmCC\n",
       "\" style=\"display:inline;vertical-align:middle;\" /></a></span></td></tr>\n",
       "<tr><td>&nbsp;</td><td colspan=4 style-\"text-align:left\"><a class=\"ProveItLink\" href=\"../../number_sets/rational_numbers/_theory_nbs_/proofs/int_within_rational/thm_proof.ipynb\">proveit.numbers.number_sets.rational_numbers.int_within_rational</a></td></tr><tr><td><a name=\"0x223863d90cd9cde6_step5\">5</a></td><td>instantiation</td><td><a href=\"#0x223863d90cd9cde6_step6\">6</a>, <a href=\"#0x223863d90cd9cde6_step7\">7</a>, <a href=\"#0x223863d90cd9cde6_step8\">8</a></td><td><span style=\"font-size:20px;\"> <a class=\"ProveItLink\" href=\"../__pv_it/demonstrations/288cb3dc7727810780b63ee223c41777e904a1d30/proof.ipynb\" style=\"text-decoration: none\">&nbsp;&#x22A2;&nbsp;&nbsp;</a><a class=\"ProveItLink\" href=\"../__pv_it/demonstrations/bac10758646a1685ada3fe39e190d9fb360007460/expr.ipynb\"><img src=\"data:image/png;base64,iVBORw0KGgoAAAANSUhEUgAAADEAAAAQBAMAAABNQoq8AAAAMFBMVEX///8AAAAAAAAAAAAAAAAA\n",
       "AAAAAAAAAAAAAAAAAAAAAAAAAAAAAAAAAAAAAAAAAAAv3aB7AAAAD3RSTlMAIpnNuzKJRKvvEN12\n",
       "ZlQ4bmvwAAAACXBIWXMAAA7EAAAOxAGVKw4bAAAA6ElEQVQY02NgwACP50/23jKXgYFRySQAVeZI\n",
       "KwMzgwEDgwgD23dUGSUGhrNsDxgYGhkYZqLKNDJwOSwB0vMXMPQLQEzZvdsARC9gYApoBdLdDAz9\n",
       "YIuKT8F1RbAqQBj7QQSjFcI8L5YFYJr1D4hkFoBL8CXcgTC4G8AyCC1gN4OACpiM3A0EDmDmObYC\n",
       "Bi4gzQvWwrAEroXLQYSBgQNo+DMGRpAV3HAZjgCgH9cD7U9g4AG5hOcATCaIXQHsGWklJW2wgB3c\n",
       "zcwLGESeAD3z//9nsMAKd4gn2KdYunj+dEMOrzLv3QZIXAD9XDFvtfFLvQAAAABJRU5ErkJggg==\n",
       "\" style=\"display:inline;vertical-align:middle;\" /></a></span></td></tr>\n",
       "<tr><td>&nbsp;</td><td colspan=4 style=\"text-align:left\"><span style=\"font-size:20px;\"><a class=\"ProveItLink\" href=\"../../../__pv_it/common/09585084922504426caf1db2ff588a23a0932a960/expr.ipynb\"><img src=\"data:image/png;base64,iVBORw0KGgoAAAANSUhEUgAAAA8AAAAPBAMAAADJ+Ih5AAAAMFBMVEX///8AAAAAAAAAAAAAAAAA\n",
       "AAAAAAAAAAAAAAAAAAAAAAAAAAAAAAAAAAAAAAAAAAAv3aB7AAAAD3RSTlMAIs1UmauJMnZmRLsQ\n",
       "3e++988cAAAACXBIWXMAAA7EAAAOxAGVKw4bAAAAXklEQVQI12NgAAEhBijQh9LM/6EMlngBCCMx\n",
       "vwBMMzb0G0BkGOwngBmLGeoTwAwHBvkAEM2xxSV+A4hxgoGB/wJEhoH3AZDmAupg+gBkyAEx90cG\n",
       "htP/dRiY939KAABt3hLO6mcEjQAAAABJRU5ErkJggg==\n",
       "\" style=\"display:inline;vertical-align:middle;\" /></a> : <a class=\"ProveItLink\" href=\"../../number_sets/natural_numbers/__pv_it/common/8b7c321957f52ed3b05b36af612eeae4fa4783bc0/expr.ipynb\"><img src=\"data:image/png;base64,iVBORw0KGgoAAAANSUhEUgAAAA8AAAAPBAMAAADJ+Ih5AAAAMFBMVEX///8AAAAAAAAAAAAAAAAA\n",
       "AAAAAAAAAAAAAAAAAAAAAAAAAAAAAAAAAAAAAAAAAAAv3aB7AAAAD3RSTlMAEN27zYnvRFSrImZ2\n",
       "MpmnAiL6AAAACXBIWXMAAA7EAAAOxAGVKw4bAAAAaUlEQVQI12MQ+mwiwBD2rYCBwYJ9AgPjBwYG\n",
       "hkkLohkYEoCMGQYsCxgUgIxZe7gcIAzOC0chDAYD5gII4x6jIoTB3dCcAGYwTOSEMiQZIVIMvAcM\n",
       "gAxbID4LYngAMZ8DA8OVb0AeowMDAHMQGYAvWUcMAAAAAElFTkSuQmCC\n",
       "\" style=\"display:inline;vertical-align:middle;\" /></a>, <a class=\"ProveItLink\" href=\"../../../__pv_it/common/a9162d1c3cc0470c02e5daf414500903a7a419230/expr.ipynb\"><img src=\"data:image/png;base64,iVBORw0KGgoAAAANSUhEUgAAABAAAAAOBAMAAADUAYG5AAAAMFBMVEX///8AAAAAAAAAAAAAAAAA\n",
       "AAAAAAAAAAAAAAAAAAAAAAAAAAAAAAAAAAAAAAAAAAAv3aB7AAAAD3RSTlMAZrurzTLvInZEmRDd\n",
       "VIkafcLnAAAACXBIWXMAAA7EAAAOxAGVKw4bAAAAb0lEQVQI12NgYBD6b2zsFMAABEkMDMxfgTT7\n",
       "DwYGzl9ABiOQxwjkMDB/YGBgSQcy2BQYuG1AiuM1OkwEQJr6Cxh4E0EMNSB+D5L6DMTyDQwMrB+B\n",
       "DPsJDAwc34GcL0AOSwIDwzRvoHH6n41NdBkYAF/iFeJ4bEa2AAAAAElFTkSuQmCC\n",
       "\" style=\"display:inline;vertical-align:middle;\" /></a> : <a class=\"ProveItLink\" href=\"../../number_sets/integers/__pv_it/common/e6b4e90f9467053e055a4fd2f735c0bb79cb79300/expr.ipynb\"><img src=\"data:image/png;base64,iVBORw0KGgoAAAANSUhEUgAAAA4AAAAPBAMAAAAmOuNHAAAAMFBMVEX///8AAAAAAAAAAAAAAAAA\n",
       "AAAAAAAAAAAAAAAAAAAAAAAAAAAAAAAAAAAAAAAAAAAv3aB7AAAAD3RSTlMAVM3vu91mdqsymYki\n",
       "EESqKsraAAAACXBIWXMAAA7EAAAOxAGVKw4bAAAAcElEQVQI12NgVP6sEuqcwMDuMYFBgYmBgWsB\n",
       "A3vCRgYGjgMMV3gdGBh4GRhWckxgAALOhlkgioHlgi+YlmYrANMgXUDALrCPgeECA8MVHqCuHgaG\n",
       "TqAJvB8YOBe8AhoWANSly8Dj6MDw2MnExd5kAwAL3Bb91imKgQAAAABJRU5ErkJggg==\n",
       "\" style=\"display:inline;vertical-align:middle;\" /></a>, <a class=\"ProveItLink\" href=\"../../../__pv_it/common/a0d9d672aa5e272d907247690c152cc2c6daafb70/expr.ipynb\"><img src=\"data:image/png;base64,iVBORw0KGgoAAAANSUhEUgAAAAsAAAAJBAMAAAAWSsseAAAAMFBMVEX///8AAAAAAAAAAAAAAAAA\n",
       "AAAAAAAAAAAAAAAAAAAAAAAAAAAAAAAAAAAAAAAAAAAv3aB7AAAAD3RSTlMAEHarMolUmd1mIs3v\n",
       "RLtmgJDEAAAACXBIWXMAAA7EAAAOxAGVKw4bAAAAQklEQVQI12NgEFIWCU1gYChgMmJvYOBcwPmR\n",
       "eQIDCwP7BgYQ4FEAU/cXMAowyF2wYWBlYMh3rGG4xsAgrsRWmcAAAFEjCyBvD0T9AAAAAElFTkSu\n",
       "QmCC\n",
       "\" style=\"display:inline;vertical-align:middle;\" /></a> : <a class=\"ProveItLink\" href=\"../../numerals/__pv_it/common/af4aab8a07465db063742696e006d04670f30cf10/expr.ipynb\"><img src=\"data:image/png;base64,iVBORw0KGgoAAAANSUhEUgAAAAkAAAAOBAMAAAAPuiubAAAAMFBMVEX///8AAAAAAAAAAAAAAAAA\n",
       "AAAAAAAAAAAAAAAAAAAAAAAAAAAAAAAAAAAAAAAAAAAv3aB7AAAAD3RSTlMAIpnNuzKJRKvvEN12\n",
       "ZlQ4bmvwAAAACXBIWXMAAA7EAAAOxAGVKw4bAAAATklEQVQI12NgVDIJYGAQYWD7zsDQyMAwk4Fh\n",
       "/gKGfgGGbgaGfqAEA8N+EMH6B0RyN4BIFRDBC2Y+Y2AUYGBNYOBZwCCtpKQNVPz//2cGAEeID1mi\n",
       "/zO7AAAAAElFTkSuQmCC\n",
       "\" style=\"display:inline;vertical-align:middle;\" /></a></span></td></tr><tr><td><a name=\"0x223863d90cd9cde6_step6\">6</a></td><td>theorem</td><td></td><td><span style=\"font-size:20px;\"> <a class=\"ProveItLink\" href=\"../../../logic/sets/inclusion/_theory_nbs_/proofs/superset_membership_from_proper_subset/thm_proof.ipynb\" style=\"text-decoration: none\">&nbsp;&#x22A2;&nbsp;&nbsp;</a><a class=\"ProveItLink\" href=\"../../../logic/sets/inclusion/__pv_it/theorems/8c2c4c3c91efdbf0b7e86e4a2d99545aea54db000/expr.ipynb\"><img src=\"data:image/png;base64,iVBORw0KGgoAAAANSUhEUgAAAPcAAAAXBAMAAAAl5sTiAAAAMFBMVEX///8AAAAAAAAAAAAAAAAA\n",
       "AAAAAAAAAAAAAAAAAAAAAAAAAAAAAAAAAAAAAAAAAAAv3aB7AAAAD3RSTlMAq1RmmUTNIjK7EInv\n",
       "3XZ/CtNrAAAACXBIWXMAAA7EAAAOxAGVKw4bAAADd0lEQVRIx7WWX0gUQRzHv/d37/bsPEmkgvCo\n",
       "6DGOlKIH80IqxTIhCMmoS4jQl85HqXR7jKQO4aCTyhMkKBJOsSDuodMeKqIQ6qEHF7YMpAhTMz0M\n",
       "qtmZ2925013lwIG7nZ3fb+cz8/s3AxTZ/LJkrSBYCaMbmMCi+ZrXUfhiJTzPZgio/d3FwG3qwx4y\n",
       "kdtTaw4f+ldW1i7BH6Lwo+rQ5WLgTnXv7qiJ/KHJ+BvAlgU6KPyG6p5YMXCParQuM3mdSST8BVyL\n",
       "QDWFu5PkESzK52T1GDWTZ/LevslyhHYcZNcOsoCSpDqDg1jfXVzAVZFHxMzleYIz37WebY7gXpFf\n",
       "iIbsO1l+Wxy8RJanUiZiJxGIsztuUcsIHfp4SQziTpJjvgCF1wP9dDxZ8LnWEc3gTgnego90XbIz\n",
       "MsNn5STyo/LOg9kKNUEcEQrvhEDTTXxNpTcX0w00+72a/hO9GHgGGsfuGnDyXWfBknTdLSSMDqI2\n",
       "uZXCDYWfUdhfqm7JULg3yeqFb4FFxCT8mTz4CzKPZySRIMuvAX5wRaYfTzWl29vjmi4zLxFLOMZe\n",
       "emXSWEbdU5XICj1zdAa7whbW8p5FRBiOOR7u6lWARrajcqCWg+/T481Zb+jqcIBNiUfGzufJr5Yo\n",
       "udjOETlMh5WL7KsghkM83O8O6Lk4AfEDB3c7yDT+r93HMW3oGmaHaxmP6YvO9vwif5XqlicZfJTG\n",
       "oj9no57p6m3g4YozgkGtQlQdkTi4by+JtxlbrE2MGbqseRWIcVsGNBv8in4cLZMFLKnejTH4Nbra\n",
       "lpw3ayCW83CXRELgNLR4GAxzcGGcdEJeRXKFDN2cOAB7dijjYiZr05OAyM91sFSkcBvdTGO6Mplz\n",
       "a08zB3emR1awC1o8CL/5U43aqDQKR3si0ZfTzdl3EmKTsmc/exuMs5S0DcyXVfRRTzRz56KfMCXm\n",
       "VlzgU02BkMVVaPHgyq46UnsR9aQM3Vz7lJeCrffl/Fp4nZ+BGLY0KKYgrED8yJldNegCvKxK9CQx\n",
       "HC6AC5lnCLMyxXRzrdq6QNZxcOc4xFOXPBM48CfdEOTgJwIYWmoWaWlxXEmP9a26TDS1zibRJem6\n",
       "WsRFLa85sdXXETvX9+YV0wQtMqY3GfF5Il5QaC2PaXVphfCzZvA1avt6V7BuK+EMibKpAnho4/DN\n",
       "bcLmI/4DAvPgMMgumckAAAAASUVORK5CYII=\n",
       "\" style=\"display:inline;vertical-align:middle;\" /></a></span></td></tr>\n",
       "<tr><td>&nbsp;</td><td colspan=4 style-\"text-align:left\"><a class=\"ProveItLink\" href=\"../../../logic/sets/inclusion/_theory_nbs_/proofs/superset_membership_from_proper_subset/thm_proof.ipynb\">proveit.logic.sets.inclusion.superset_membership_from_proper_subset</a></td></tr><tr><td><a name=\"0x223863d90cd9cde6_step7\">7</a></td><td>conjecture</td><td></td><td><span style=\"font-size:20px;\"> <a class=\"ProveItLink\" href=\"../../number_sets/integers/_theory_nbs_/proofs/nat_within_int/thm_proof.ipynb\" style=\"text-decoration: none\">&nbsp;&#x22A2;&nbsp;&nbsp;</a><a class=\"ProveItLink\" href=\"../../number_sets/integers/__pv_it/theorems/1cd0ce5701331e1608ae0251ff814274d551a8fa0/expr.ipynb\"><img src=\"data:image/png;base64,iVBORw0KGgoAAAANSUhEUgAAADkAAAAQBAMAAABelcpIAAAAMFBMVEX///8AAAAAAAAAAAAAAAAA\n",
       "AAAAAAAAAAAAAAAAAAAAAAAAAAAAAAAAAAAAAAAAAAAv3aB7AAAAD3RSTlMAEN27zYnvRFSrImZ2\n",
       "MpmnAiL6AAAACXBIWXMAAA7EAAAOxAGVKw4bAAAA/klEQVQY02MQ+mwiwBD2rYABBbTkpxgpZwMZ\n",
       "FuwTGBg/oEoyHJ7LwMLgAGRMWhDNwJCAJvuOgeE0awOQMcOAZQGDAprsLAZGA2EwYw+XA0z2sJKS\n",
       "ki6IIcDAd2EuWJbzwlGo7JUohO6bvA8ghhgwF4BlGbWQzDZkFoDI3mNUBMtyInmLI2AP1AHcDc1g\n",
       "N7MgaYX4ByTLMJETLHsTSfYEawEDI0RWkhFs8kqEJKPBYqBNC8CyvAcMQEJMCFnOC0BheSDDFojP\n",
       "gmX5NsBl77ED/TMJyPAAiUOc4I7wD4sAw+JmYAh8A+pjhMgKTxeASLInuxmbfTNFC95SI2hIQgEA\n",
       "ReU3Hj/DorcAAAAASUVORK5CYII=\n",
       "\" style=\"display:inline;vertical-align:middle;\" /></a></span></td></tr>\n",
       "<tr><td>&nbsp;</td><td colspan=4 style-\"text-align:left\"><a class=\"ProveItLink\" href=\"../../number_sets/integers/_theory_nbs_/proofs/nat_within_int/thm_proof.ipynb\">proveit.numbers.number_sets.integers.nat_within_int</a></td></tr><tr><td><a name=\"0x223863d90cd9cde6_step8\">8</a></td><td>conjecture</td><td></td><td><span style=\"font-size:20px;\"> <a class=\"ProveItLink\" href=\"../../numerals/decimals/_theory_nbs_/proofs/nat2/thm_proof.ipynb\" style=\"text-decoration: none\">&nbsp;&#x22A2;&nbsp;&nbsp;</a><a class=\"ProveItLink\" href=\"../../numerals/decimals/__pv_it/theorems/c5da86d5508e181a625c8aa785bd1ba0345b9e710/expr.ipynb\"><img src=\"data:image/png;base64,iVBORw0KGgoAAAANSUhEUgAAADIAAAAQBAMAAACmdTG/AAAAMFBMVEX///8AAAAAAAAAAAAAAAAA\n",
       "AAAAAAAAAAAAAAAAAAAAAAAAAAAAAAAAAAAAAAAAAAAv3aB7AAAAD3RSTlMAIpnNuzKJRKvvEN12\n",
       "ZlQ4bmvwAAAACXBIWXMAAA7EAAAOxAGVKw4bAAAA6UlEQVQY02NgQAdc+12sGNjmT2dgVDIJQJVi\n",
       "eVDBwLCegUGEge07qgzHRrYLDJwMDI0MDDPRZJ4wGDJwMzDMX8DQLwAWObJ7twFYRvaAMEimm4Gh\n",
       "H2xR8SmYHoFWngRuMHM/iGC0gpsmwMLgDpZh/QMimQUQMqwKq1eDWNwNYBmECwQY7vF5glgqYH7k\n",
       "biBwgMpwLOgEMnjBWhiWIOvhagCZ9oyBEWQFN7IMQwwL0P4EBp4FQD7PAXjoAD3BE8LAIK2kpA0W\n",
       "sIPJMD8AEspAz/z//xkssMJ9AZhmtZ8CJBcjh1eZNyR0oAAAgjkuwI39QLgAAAAASUVORK5CYII=\n",
       "\" style=\"display:inline;vertical-align:middle;\" /></a></span></td></tr>\n",
       "<tr><td>&nbsp;</td><td colspan=4 style-\"text-align:left\"><a class=\"ProveItLink\" href=\"../../numerals/decimals/_theory_nbs_/proofs/nat2/thm_proof.ipynb\">proveit.numbers.numerals.decimals.nat2</a></td></tr></table>"
      ],
      "text/plain": [
       "\tstep type\trequirements\tstatement\n",
       "0\tinstantiation\t5, 1, 2\t|- 2 in Real\n",
       "\tA : Rational, B : Real, x : 2\n",
       "1\tconjecture\t\t|- Rational proper_subset Real\n",
       "\tproveit.numbers.number_sets.real_numbers.rational_within_real\n",
       "2\tinstantiation\t5, 3, 4\t|- 2 in Rational\n",
       "\tA : Integer, B : Rational, x : 2\n",
       "3\tconjecture\t\t|- Integer proper_subset Rational\n",
       "\tproveit.numbers.number_sets.rational_numbers.int_within_rational\n",
       "4\tinstantiation\t5, 6, 7\t|- 2 in Integer\n",
       "\tA : Natural, B : Integer, x : 2\n",
       "5\ttheorem\t\t|- forall_{A, B | A proper_subset B} [forall_{x in A} (x in B)]\n",
       "\tproveit.logic.sets.inclusion.superset_membership_from_proper_subset\n",
       "6\tconjecture\t\t|- Natural proper_subset Integer\n",
       "\tproveit.numbers.number_sets.integers.nat_within_int\n",
       "7\tconjecture\t\t|- 2 in Natural\n",
       "\tproveit.numbers.numerals.decimals.nat2"
      ]
     },
     "metadata": {},
     "output_type": "display_data"
    }
   ],
   "source": [
    "two_in_real_k_t.proof()"
   ]
  },
  {
   "cell_type": "code",
   "execution_count": 35,
   "metadata": {},
   "outputs": [
    {
     "data": {
      "text/html": [
       "<strong id=\"sqrt2_is_complex\">sqrt2_is_complex:</strong> <span style=\"font-size:20px;\"> <a class=\"ProveItLink\" href=\"../__pv_it/demonstrations/762a04cae3861ef4a4e11cb0101ca4e71f1e3df80/proof.ipynb\" style=\"text-decoration: none\">&nbsp;&#x22A2;&nbsp;&nbsp;</a><a class=\"ProveItLink\" href=\"../__pv_it/demonstrations/0603519f4e7d3f84563119069919828662409f320/expr.ipynb\"><img src=\"data:image/png;base64,iVBORw0KGgoAAAANSUhEUgAAAEMAAAAVBAMAAADvM06qAAAAMFBMVEX///8AAAAAAAAAAAAAAAAA\n",
       "AAAAAAAAAAAAAAAAAAAAAAAAAAAAAAAAAAAAAAAAAAAv3aB7AAAAD3RSTlMAMom7q0QizZkQVN1m\n",
       "du8ilFydAAAACXBIWXMAAA7EAAAOxAGVKw4bAAABPUlEQVQoz2NggADG/yDwgQEPYBZgIASECapg\n",
       "cCWogq2AoBKOAGyik6zLrwnBONMZGDLaDdFU8Pod4Oy3gPG6GNgMGPTRjOoNYmDggSnh3MDAksDA\n",
       "9wBFBWODJZD0gPKYDjDw/WRg+QYx33r3dhDNMsEASM4B4qVAzA0UABr0ESTDWjsBGppsDVA3PQcS\n",
       "d8FMbnD4p0NVMKQwKkAYkvrAoN8AZspfAJFlMLcIsR6AsuY7MPCA5Ri2gEl4IGawXoCF2jcGbrDZ\n",
       "HAZgf7zevXv3ZohbFGBh/4NhEZhxBOJ/A3jkT4Az7SdUgiguBYY0EL0BJs4KDhdWEDP+FthzwMi4\n",
       "yQD3HTh0Q4BEO4jF/jwBZN+Ojg6wAewL4HFk3sa5Gqyd6ws4UIDpEuwZTudIeEzb/W6DsMpQY49V\n",
       "GRIBMAAArwZJJ6GmAr4AAAAASUVORK5CYII=\n",
       "\" style=\"display:inline;vertical-align:middle;\" /></a></span><br>"
      ],
      "text/plain": [
       "<IPython.core.display.HTML object>"
      ]
     },
     "metadata": {},
     "output_type": "display_data"
    }
   ],
   "source": [
    "sqrt2_is_complex = InSet(exp_test_03, Complex).prove()"
   ]
  },
  {
   "cell_type": "code",
   "execution_count": 36,
   "metadata": {},
   "outputs": [
    {
     "data": {
      "text/html": [
       "<strong id=\"two_to_power_t\">two_to_power_t:</strong> <a class=\"ProveItLink\" href=\"../__pv_it/demonstrations/baa34792da6732e40fc0ee4478d66b0325ab42ef0/expr.ipynb\"><img src=\"data:image/png;base64,iVBORw0KGgoAAAANSUhEUgAAAA8AAAATBAMAAAC97EqZAAAAMFBMVEX///8AAAAAAAAAAAAAAAAA\n",
       "AAAAAAAAAAAAAAAAAAAAAAAAAAAAAAAAAAAAAAAAAAAv3aB7AAAAD3RSTlMAIpnNuzKJRKvvEN12\n",
       "ZlQ4bmvwAAAACXBIWXMAAA7EAAAOxAGVKw4bAAAAc0lEQVQI12NgAANDCMXA9QHK4DOA0IzZZgEQ\n",
       "FvMDIE/JJICBfwEDgwgD23eGSqBoIwPDTIYTXAEM8xcw9AvosC1g6GZg6A8IugrWsx9qGusfKIO7\n",
       "AcpQgdK8MIFnDIwCYKUJDDwLQAxpJSVtiCH//38G0QDzxhbahjP2rQAAAABJRU5ErkJggg==\n",
       "\" style=\"display:inline;vertical-align:middle;\" /></a><br>"
      ],
      "text/plain": [
       "<IPython.core.display.HTML object>"
      ]
     },
     "metadata": {},
     "output_type": "display_data"
    }
   ],
   "source": [
    "t_ = Literal('t')\n",
    "two_to_power_t = Exp(two, t_)"
   ]
  },
  {
   "cell_type": "code",
   "execution_count": 37,
   "metadata": {},
   "outputs": [
    {
     "data": {
      "text/html": [
       "<span style=\"font-size:20px;\"><a class=\"ProveItLink\" href=\"../__pv_it/demonstrations/0e1c0c06f8ae709b2e1573f04752a7a15d217b500/expr.ipynb\"><img src=\"data:image/png;base64,iVBORw0KGgoAAAANSUhEUgAAADwAAAATBAMAAAA+KHOiAAAAMFBMVEX///8AAAAAAAAAAAAAAAAA\n",
       "AAAAAAAAAAAAAAAAAAAAAAAAAAAAAAAAAAAAAAAAAAAv3aB7AAAAD3RSTlMAEN0iVJmJRKu7ds0y\n",
       "Zu8qwvqBAAAACXBIWXMAAA7EAAAOxAGVKw4bAAAA5klEQVQoz2NgwA0CGPCCCaRLM+rP3MjA9v45\n",
       "Lt2cDhUMDPJw3YzKqNIcymwXGPgYWGfOfDlzLgMDy0c0aU+GzQxMcN2sChDhlUpKG8DStguskaSZ\n",
       "EsCy1Qthug16uBLg0hXzZywAUswb4YYbcDJMR+j2BwtyGyCkeQKEhOChFg2RRjjNgOEKyzw4Vw1M\n",
       "nlMCgglQaQ6BPngofQdTksi6GRuEYDyWDwwCIPcjSzOc4oTxWDewHABSXAvggQrkcp2EK26QAtNb\n",
       "YALcDnD3gjw89wKYlpguAKZ59r8EktIYMVU2CRKoKAAARP0vCk79Y/oAAAAASUVORK5CYII=\n",
       "\" style=\"display:inline;vertical-align:middle;\" /></a> <a class=\"ProveItLink\" href=\"../__pv_it/demonstrations/55524daf0afacb03f835cf0ca9139f165ff932b20/proof.ipynb\" style=\"text-decoration: none\">&nbsp;&#x22A2;&nbsp;&nbsp;</a><a class=\"ProveItLink\" href=\"../__pv_it/demonstrations/447cfb0765e188e329ae9637783239f0ecd30b0d0/expr.ipynb\"><img src=\"data:image/png;base64,iVBORw0KGgoAAAANSUhEUgAAAEUAAAAUBAMAAAApce1IAAAAMFBMVEX///8AAAAAAAAAAAAAAAAA\n",
       "AAAAAAAAAAAAAAAAAAAAAAAAAAAAAAAAAAAAAAAAAAAv3aB7AAAAD3RSTlMAIpnNuzKJRKvvEN12\n",
       "ZlQ4bmvwAAAACXBIWXMAAA7EAAAOxAGVKw4bAAABH0lEQVQoz2NgAANDBoKA6wMuGSY4i88AlxoW\n",
       "GIMx2yyAkBoG5geoMqu/OC9gyPxZAFXDqGQSwMC/AE27H3sDxJFgNSIMbN8ZKtGt6BbIZWCYwKDi\n",
       "4unicoGhkYFhJsMJLjT39DkwCzBsgJkzfwFDv4AOG8QyHu/dm8GMxjuMBgg13QwM/QFBV8Ey7DYw\n",
       "dzVyBBxDqAGC/TAbhOFOb2RwYClAUsP6ByaDiJFGhiCuXRsQ4czdAJMxQFLD++DJBIQfVGAM1tm7\n",
       "d+/eAlXD0MWBUMMLN4bLAckchhVcG+DcZwyMAlDmBmQ1rAfgWlgTGHhg3jkDV+MKxEfhaqSVlLQx\n",
       "o9YO5CW4F/b///8Z7qCWKggj+CfQDC7siYo9BRoXKAAAO4pDRXkqRM0AAAAASUVORK5CYII=\n",
       "\" style=\"display:inline;vertical-align:middle;\" /></a></span>"
      ],
      "text/plain": [
       "{t in NaturalPos} |- 2^{t} in NaturalPos"
      ]
     },
     "metadata": {},
     "output_type": "display_data"
    }
   ],
   "source": [
    "InSet(two_to_power_t, NaturalPos).prove(assumptions=[InSet(t_, NaturalPos)])"
   ]
  },
  {
   "cell_type": "markdown",
   "metadata": {},
   "source": [
    "Testing the formatting of some Exp() and sqrt() outputs"
   ]
  },
  {
   "cell_type": "code",
   "execution_count": 38,
   "metadata": {},
   "outputs": [
    {
     "data": {
      "text/html": [
       "<span style=\"font-size:20px;\"> <a class=\"ProveItLink\" href=\"../__pv_it/demonstrations/335cbf12299ab0a3e5a6575823838c0b352458c90/proof.ipynb\" style=\"text-decoration: none\">&nbsp;&#x22A2;&nbsp;&nbsp;</a><a class=\"ProveItLink\" href=\"../__pv_it/demonstrations/bed4d05f6489583b22dbc462ab80bfad6c68943a0/expr.ipynb\"><img src=\"data:image/png;base64,iVBORw0KGgoAAAANSUhEUgAAAE8AAAAVBAMAAAD1D64kAAAAMFBMVEX///8AAAAAAAAAAAAAAAAA\n",
       "AAAAAAAAAAAAAAAAAAAAAAAAAAAAAAAAAAAAAAAAAAAv3aB7AAAAD3RSTlMAMom7q0QizZkQVN1m\n",
       "du8ilFydAAAACXBIWXMAAA7EAAAOxAGVKw4bAAABUElEQVQoz2NggADG/yDwgYEgYBZgIA4I45Pk\n",
       "QGK74rUOwWQrIFIhRwCm9PHH9tWPD6ApnM7AkNFuiKbSIIUh5PAEVIVdDGwGDPpoxhokMTAzOjA0\n",
       "G9sZGx+ACHFuYGBJYOB7gKGQI6EAxUSmAwx8PxlYvoE5vNa7tyMUGsAVLgVibgYGFqChH0F81toJ\n",
       "CBNZZjrAFPI+BxJ3wRLc4BhMn4BktfDyBJhCSX1g5G0AS8hfAJFlCDfmVf++iYiZ+Q4MPGAVDFvA\n",
       "ZAGSZ85MR47IbwzcYNs4DMDJ6PXu3bs3QxUyzzmAFHs/GBaBGUcgIWWAZCJjgyWSkfYTKkEUlwJD\n",
       "GojegByOjclICuNvNYAoIQYGsMvvIiuczItkN/tzUBCw7ejoABvGvgCuMIOB54ApQiHXF3AgAnMC\n",
       "2MOczpHw1GPGYFy/AKGyDDWKWZWhUYgCALuaVp1U/63PAAAAAElFTkSuQmCC\n",
       "\" style=\"display:inline;vertical-align:middle;\" /></a></span>"
      ],
      "text/plain": [
       "|- sqrt(2) in RealPos"
      ]
     },
     "metadata": {},
     "output_type": "display_data"
    }
   ],
   "source": [
    "InSet(exp_test_03, RealPos).prove()"
   ]
  },
  {
   "cell_type": "code",
   "execution_count": 39,
   "metadata": {},
   "outputs": [
    {
     "data": {
      "text/html": [
       "<a class=\"ProveItLink\" href=\"../__pv_it/demonstrations/b148a9eebd79956146eb004457e83b69f15211950/expr.ipynb\"><img src=\"data:image/png;base64,iVBORw0KGgoAAAANSUhEUgAAABwAAAAVBAMAAACnLJNvAAAAMFBMVEX///8AAAAAAAAAAAAAAAAA\n",
       "AAAAAAAAAAAAAAAAAAAAAAAAAAAAAAAAAAAAAAAAAAAv3aB7AAAAD3RSTlMAMom7q0QizZkQVN1m\n",
       "du8ilFydAAAACXBIWXMAAA7EAAAOxAGVKw4bAAAApUlEQVQY02NggADG/2AA5TEwCzAgA2EUHoMr\n",
       "Co+tAIXLEYDCnY6qtQuFx7mBgWHulYlKCyBcpgMMDA28vhxA0aVALjcDA08Cz0+WAwy8z4Hcu0BX\n",
       "MnCALJPUBzpvA0gH3wUQOd+BgQfMiE/gnAB0wTcGbiA1OcCPgQnkvh8Mi4DUesk+hiiQIvsJlUBy\n",
       "xl2uHrC18bcakJ3E/jwBmcv1BdX9ZQgmAHzGJtkqY9TDAAAAAElFTkSuQmCC\n",
       "\" style=\"display:inline;vertical-align:middle;\" /></a>"
      ],
      "text/plain": [
       "sqrt(x)"
      ]
     },
     "metadata": {},
     "output_type": "display_data"
    }
   ],
   "source": [
    "Exp(x, frac(one, two))"
   ]
  },
  {
   "cell_type": "code",
   "execution_count": 40,
   "metadata": {},
   "outputs": [
    {
     "data": {
      "text/html": [
       "<strong id=\"sqrt_test\">sqrt_test:</strong> <a class=\"ProveItLink\" href=\"../__pv_it/demonstrations/4a480875c5b29afce34b8641be83125e5351951d0/expr.ipynb\"><img src=\"data:image/png;base64,iVBORw0KGgoAAAANSUhEUgAAAGAAAAAyBAMAAABR8MP3AAAAMFBMVEX///8AAAAAAAAAAAAAAAAA\n",
       "AAAAAAAAAAAAAAAAAAAAAAAAAAAAAAAAAAAAAAAAAAAv3aB7AAAAD3RSTlMAq90iZnYyELtUiZlE\n",
       "ze/zpXZHAAAACXBIWXMAAA7EAAAOxAGVKw4bAAACcElEQVRIx5WVv2/TQBTHXxon19hOHYlWYgIU\n",
       "BqQOFQywVck/QCkSExLi104cxNAFUgkYSodGdIOBLEwtKDBTNf9BvKBKMFClAsEWKWlLKFXxPd9d\n",
       "fOkd7nl4ztnvE9+9977vAfDr7NGJLuEP58DsShcMAWveEEjdMQTGDP1hwRR4ZQp8QuvUtQ5kS14H\n",
       "aD8ofS+9vRzae77EI2AFKn93B1ZCZ0vKlNuk9oGvAp6U4SO9L8Uf2rj5L8odbQJMIxj/uzxd5PaV\n",
       "wE8gfzEihdG8jTWU4dkFq4vl1os9vUtNRXkEMoBUsEp/vYg9vUHNaXUGnsPLJsZkLvbwKTV9NVC9\n",
       "eX8KS7NUl+WTxT1mL+gLtCnLB49W3djXAk4gyyeF6wwH3PIokOnK8pkoSEDumAZze3IavEYCkB3I\n",
       "8vHKCQDpy/KJovYfAHapuSLkU0kE/lDzWcin3RoCTrE40ykWR5rVAQ3obwFovuANWyQFHs0I+VRO\n",
       "dIb6ps/lU0qKUlRs10LncazrGnrYPS2QxjyUGrztTdCNpc4cTmoTh8LzAiYfyC/KhXC8NHC3+S6T\n",
       "DzjbcncRxbfQYZ0CZ4gdVtSpqGS1hf01uo1jWnJ9Pn3IQAewF1GxkQNIs80va/xd9un2Rbx1xPSZ\n",
       "0wA2m3/v2PgEh02fWksN5KeuY2Z/RcvbLT597EAN1LYIzWaGRbE9/5i/+aEG3vjwnSaWdRlvUUyf\n",
       "q2pgI1LCLa7n7XWx2bISmAY3DGx6h3ebnhhG5LwmDU4Y2Ie871n94Vlnle14j84UeCaK9jDWAZXj\n",
       "fZKmlAxjflRPmLDVNfls33zDEf3edKa/NnH+B5t7xDaomX3WAAAAAElFTkSuQmCC\n",
       "\" style=\"display:inline;vertical-align:middle;\" /></a><br>"
      ],
      "text/plain": [
       "<IPython.core.display.HTML object>"
      ]
     },
     "metadata": {},
     "output_type": "display_data"
    }
   ],
   "source": [
    "sqrt_test = sqrt(Add(one, frac(a, b)))"
   ]
  },
  {
   "cell_type": "code",
   "execution_count": 41,
   "metadata": {},
   "outputs": [
    {
     "data": {
      "text/html": [
       "<a class=\"ProveItLink\" href=\"../__pv_it/demonstrations/4a480875c5b29afce34b8641be83125e5351951d0/expr.ipynb\"><img src=\"data:image/png;base64,iVBORw0KGgoAAAANSUhEUgAAAGAAAAAyBAMAAABR8MP3AAAAMFBMVEX///8AAAAAAAAAAAAAAAAA\n",
       "AAAAAAAAAAAAAAAAAAAAAAAAAAAAAAAAAAAAAAAAAAAv3aB7AAAAD3RSTlMAq90iZnYyELtUiZlE\n",
       "ze/zpXZHAAAACXBIWXMAAA7EAAAOxAGVKw4bAAACcElEQVRIx5WVv2/TQBTHXxon19hOHYlWYgIU\n",
       "BqQOFQywVck/QCkSExLi104cxNAFUgkYSodGdIOBLEwtKDBTNf9BvKBKMFClAsEWKWlLKFXxPd9d\n",
       "fOkd7nl4ztnvE9+9977vAfDr7NGJLuEP58DsShcMAWveEEjdMQTGDP1hwRR4ZQp8QuvUtQ5kS14H\n",
       "aD8ofS+9vRzae77EI2AFKn93B1ZCZ0vKlNuk9oGvAp6U4SO9L8Uf2rj5L8odbQJMIxj/uzxd5PaV\n",
       "wE8gfzEihdG8jTWU4dkFq4vl1os9vUtNRXkEMoBUsEp/vYg9vUHNaXUGnsPLJsZkLvbwKTV9NVC9\n",
       "eX8KS7NUl+WTxT1mL+gLtCnLB49W3djXAk4gyyeF6wwH3PIokOnK8pkoSEDumAZze3IavEYCkB3I\n",
       "8vHKCQDpy/KJovYfAHapuSLkU0kE/lDzWcin3RoCTrE40ykWR5rVAQ3obwFovuANWyQFHs0I+VRO\n",
       "dIb6ps/lU0qKUlRs10LncazrGnrYPS2QxjyUGrztTdCNpc4cTmoTh8LzAiYfyC/KhXC8NHC3+S6T\n",
       "DzjbcncRxbfQYZ0CZ4gdVtSpqGS1hf01uo1jWnJ9Pn3IQAewF1GxkQNIs80va/xd9un2Rbx1xPSZ\n",
       "0wA2m3/v2PgEh02fWksN5KeuY2Z/RcvbLT597EAN1LYIzWaGRbE9/5i/+aEG3vjwnSaWdRlvUUyf\n",
       "q2pgI1LCLa7n7XWx2bISmAY3DGx6h3ebnhhG5LwmDU4Y2Ie871n94Vlnle14j84UeCaK9jDWAZXj\n",
       "fZKmlAxjflRPmLDVNfls33zDEf3edKa/NnH+B5t7xDaomX3WAAAAAElFTkSuQmCC\n",
       "\" style=\"display:inline;vertical-align:middle;\" /></a>"
      ],
      "text/plain": [
       "sqrt((1 + (a / b)))"
      ]
     },
     "metadata": {},
     "output_type": "display_data"
    }
   ],
   "source": [
    "sqrt_test"
   ]
  },
  {
   "cell_type": "code",
   "execution_count": 42,
   "metadata": {},
   "outputs": [
    {
     "data": {
      "text/html": [
       "<a class=\"ProveItLink\" href=\"../__pv_it/demonstrations/addcdab2f5cb1253c60a5683cae4da6a5a4c93a90/expr.ipynb\"><img src=\"data:image/png;base64,iVBORw0KGgoAAAANSUhEUgAAAIUAAAAyBAMAAACAOwXCAAAAMFBMVEX///8AAAAAAAAAAAAAAAAA\n",
       "AAAAAAAAAAAAAAAAAAAAAAAAAAAAAAAAAAAAAAAAAAAv3aB7AAAAD3RSTlMAIpnNuzKJRKvvEN12\n",
       "ZlQ4bmvwAAAACXBIWXMAAA7EAAAOxAGVKw4bAAAC30lEQVRIx62WT2gTQRTGX9LdbLP5CypUPCRE\n",
       "BaWgofQgAWnwJJ5y99CieBJs8eZBqBZFsNLgybZqAxVUPKT0UKwLNh4EPXXBi6CQnjwJiVQbCG1i\n",
       "3szuxk3m7USSPcxM2Jlfdma+970HQD/DzZ6eqgcCQtD/MzIAxvcBMO4NgLHWP0LP9s+ITvXP8M+w\n",
       "7gw9Y7UgYwxx0qzone/+hxKA+k7GWGXtF+G7W3Gl3uq+yhg3sVGXhMf9DPx4a8qOhHGDbUh4sP4q\n",
       "hPCFviRhZLCpCI8tmIUiO/FTvUhsQ/iqWIIyGyTinggVL0Stixk7MBfF5Yq3hsImWohYq0opuu7H\n",
       "QSTvyVDwf2KmOAzmr418ZDppsDY1nqMdaJLt9zKtx3VsDkOgRjsQnpx+d4JmHMfmDsAi/6mZ3Q40\n",
       "x4bbNuN2F2Mbm5UCLPALipa6HeiJm/Gzi1HBg3gIsJATMZg89mSMSUvtWyBgcAc6kDGK/ADUfRGD\n",
       "ORC/Oi9GjC8KzXYwfDnbgVQ5gwv1BItEw9hcNgyGGyrZDqTV/mGMGsaiYbztYCSZXG2jcr6jnLUZ\n",
       "1He0cyRn/ACf+271b3nHgXo7D3UKwgUXI+qv2w7kk94LC6hjqdRox14i+O+X2CfxK5uOk4wE6mOr\n",
       "2dztvJc9J8k9xubByjmT1NiMOyc5+ti1HAhg3L1CoHV3OLZjbsJyIIDT7hVOzL1YtgbXqYCezsEw\n",
       "P4IyFfVjVn+RYlRMuwYqUgmkYfUHFKOYbFkTN8SkeIZmebX2i2IE1+waiPLcgFWbBNJkQViFk5Zm\n",
       "a0Q+n//Edhkkk2W45tRAV4ndZnS2i8+k0Wr7uv2NQbHpt2TxFPvndG757dRAkTRl5yjmcJpmbAYc\n",
       "CZ8XTtgADW/3qEe6PXvI0dabuFgeGNz6e488WW5XP76MaMIfeN0KBsX0YCTG2uMjogmP4EKrfemV\n",
       "r2MNSW3y6oopLQnr/ZemgfwASuTk/8z+C/hS7omXmi4YAAAAAElFTkSuQmCC\n",
       "\" style=\"display:inline;vertical-align:middle;\" /></a>"
      ],
      "text/plain": [
       "2 + sqrt((1 + (a / b)))"
      ]
     },
     "metadata": {},
     "output_type": "display_data"
    }
   ],
   "source": [
    "Add(two, sqrt_test)"
   ]
  },
  {
   "cell_type": "markdown",
   "metadata": {},
   "source": [
    "Testing the Mult.combining_exponents() method (after eliminating Sqrt class)"
   ]
  },
  {
   "cell_type": "code",
   "execution_count": 43,
   "metadata": {},
   "outputs": [
    {
     "data": {
      "text/html": [
       "<strong id=\"mult_of_exps_test_01\">mult_of_exps_test_01:</strong> <a class=\"ProveItLink\" href=\"../__pv_it/demonstrations/c58ef3d0237e586c71356c6a59baa11427c8f3ca0/expr.ipynb\"><img src=\"data:image/png;base64,iVBORw0KGgoAAAANSUhEUgAAADUAAAATBAMAAADCPVhoAAAAMFBMVEX///8AAAAAAAAAAAAAAAAA\n",
       "AAAAAAAAAAAAAAAAAAAAAAAAAAAAAAAAAAAAAAAAAAAv3aB7AAAAD3RSTlMAIquJdkTvuxBmmd1U\n",
       "zTKBpmoTAAAACXBIWXMAAA7EAAAOxAGVKw4bAAAAq0lEQVQoz2NgAIO3BQw4AZMBbjm2B7jl3rto\n",
       "oImYTIGxvBu8UKW4A57BmJUMc1HlljP0wZh5DItQ5VIRzA8MOahyHxHMHZxoHrzKwAxjvnJBc6bU\n",
       "TA8gyajs6IAijCQQJsD+A0UOIcCRycC1AVkKSYDrAwM3LDA5/qIKsBUw9AfA9OxCFeh3YJiPYh2S\n",
       "QP8BBl0eAWQ5hAC7A88uLmR9SAIcKnZCfijuhAsAAGy8KDkGW28zAAAAAElFTkSuQmCC\n",
       "\" style=\"display:inline;vertical-align:middle;\" /></a><br>"
      ],
      "text/plain": [
       "<IPython.core.display.HTML object>"
      ]
     },
     "metadata": {},
     "output_type": "display_data"
    }
   ],
   "source": [
    "mult_of_exps_test_01 = Mult(Exp(a, b), Exp(a, c))"
   ]
  },
  {
   "cell_type": "code",
   "execution_count": 44,
   "metadata": {},
   "outputs": [
    {
     "data": {
      "text/html": [
       "<strong id=\"mult_of_exps_test_02\">mult_of_exps_test_02:</strong> <a class=\"ProveItLink\" href=\"../__pv_it/demonstrations/19cc5b49acdd8447a7754670249cfbed87a65c180/expr.ipynb\"><img src=\"data:image/png;base64,iVBORw0KGgoAAAANSUhEUgAAAEUAAAAVBAMAAADiLT7tAAAAMFBMVEX///8AAAAAAAAAAAAAAAAA\n",
       "AAAAAAAAAAAAAAAAAAAAAAAAAAAAAAAAAAAAAAAAAAAv3aB7AAAAD3RSTlMAMom7q0QizZkQVN1m\n",
       "du8ilFydAAAACXBIWXMAAA7EAAAOxAGVKw4bAAAA5UlEQVQoz2NggADG/yDwgQEFoAkyCzBgAjRB\n",
       "YSxK0AVdsalBFWQrwKIETZAjAIsaNMHpDAwZ7YZoatAEuxjYDBj00QxDFeTcwMCSwMD3AEUJmiDT\n",
       "AQa+nwws31DUIAkuBWJuBgYWoK6PcHlUQd7nQO5dsAQ3PNTRBCX1gQG+AcyVvwBTgy4434GBByK5\n",
       "BeEWNEGObwzcE8AMA7BsARZBth8Mi8A6jkDsb8AiyGA/oRJEcSkwpCEsQxOMvwXWKsTAcBOhBk2Q\n",
       "/XkCyPQdHR0bEGrQBLm+gN0BTJVIaQFdsAxb+kISBACYwFVVZyTusgAAAABJRU5ErkJggg==\n",
       "\" style=\"display:inline;vertical-align:middle;\" /></a><br>"
      ],
      "text/plain": [
       "<IPython.core.display.HTML object>"
      ]
     },
     "metadata": {},
     "output_type": "display_data"
    }
   ],
   "source": [
    "mult_of_exps_test_02 = Mult(sqrt(two), sqrt(two))"
   ]
  },
  {
   "cell_type": "code",
   "execution_count": 45,
   "metadata": {},
   "outputs": [
    {
     "data": {
      "text/html": [
       "<strong id=\"mult_of_exps_test_03\">mult_of_exps_test_03:</strong> <a class=\"ProveItLink\" href=\"../__pv_it/demonstrations/98b4e968f9b92717eb549b3467836891f264d9d40/expr.ipynb\"><img src=\"data:image/png;base64,iVBORw0KGgoAAAANSUhEUgAAAD0AAAAVBAMAAAAHs/uBAAAAMFBMVEX///8AAAAAAAAAAAAAAAAA\n",
       "AAAAAAAAAAAAAAAAAAAAAAAAAAAAAAAAAAAAAAAAAAAv3aB7AAAAD3RSTlMAIpnNuzKJRKvvEN12\n",
       "ZlQ4bmvwAAAACXBIWXMAAA7EAAAOxAGVKw4bAAABKElEQVQoz2NgwAFY/4PABwgn2AFDniUAicOR\n",
       "gCEfgszhDMCQb0fmxJ/pQpNmNEDmnV5wCE2eqQCmUMkkgMGX4TKa/GIGBiFlVyBDhIHtO8NUBg00\n",
       "eT0GRgeGfKAhjQwMMxk+MMxDlebawMAhwMA5gYFh/gKGfoFdvGgBwHaBgfMXA8dHBoZuBob+gKAz\n",
       "SHLPgZgbGCZAI76CBfajaOWZDCQg6rnBwcv6B0U+Kh8YWBsgwXIArKoB1e71DQy8YAmGHWBSBe7o\n",
       "z5Cg+cjAvQDMADuaF6F9EyTEPjE8AzNugMlnDIwCqBb4L7ACUXwJDIJA1yUw8CxAla8/pwCiwhgY\n",
       "TjEwSCspaaOFLfNkkIGMm5SUgN7Y////ZzR5vh9gbwGTlwH2tGeIYAIAHsxEY3h6cPMAAAAASUVO\n",
       "RK5CYII=\n",
       "\" style=\"display:inline;vertical-align:middle;\" /></a><br>"
      ],
      "text/plain": [
       "<IPython.core.display.HTML object>"
      ]
     },
     "metadata": {},
     "output_type": "display_data"
    }
   ],
   "source": [
    "mult_of_exps_test_03 = Mult(Exp(two, b), sqrt(two))"
   ]
  },
  {
   "cell_type": "code",
   "execution_count": 46,
   "metadata": {},
   "outputs": [
    {
     "data": {
      "text/html": [
       "<span style=\"font-size:20px;\"><a class=\"ProveItLink\" href=\"../__pv_it/theorems/5a0c211ed8c0f89e15d717d80d4627baae693acb0/expr.ipynb\"><img src=\"data:image/png;base64,iVBORw0KGgoAAAANSUhEUgAAAD8AAAATBAMAAADVH8ihAAAAMFBMVEX///8AAAAAAAAAAAAAAAAA\n",
       "AAAAAAAAAAAAAAAAAAAAAAAAAAAAAAAAAAAAAAAAAAAv3aB7AAAAD3RSTlMAIquJdkTvuxBmmd1U\n",
       "zTKBpmoTAAAACXBIWXMAAA7EAAAOxAGVKw4bAAAA3UlEQVQoz2NgwAO4GAgAdjIVzE2vv50+AZ8J\n",
       "BUIMQdMb8CkQZmDnU2BYXl5WXj4BhwIugQtYTHDfvfsCXEEBpoJYD4QJTB0KcAWMyo4OYPoGkhXP\n",
       "zwrAFYQJsP8A0bwCcAVit397wEOSI5OBawNYAZIjZ/YihfcHBm4DEOPZbiAogChg70R4j62AoT8A\n",
       "xGhHMoFvQQWc1+/AMB/M4EYOh3XiCAUHGHR5QO5jcUBS0M4Ct4PdgWcXJN7vwBVIMXBOKIXxOFTs\n",
       "hPzArKbSBlhsFjKU3z+AGQfB1ZCgRgEAfyQ4BfovW/4AAAAASUVORK5CYII=\n",
       "\" style=\"display:inline;vertical-align:middle;\" /></a>, <a class=\"ProveItLink\" href=\"../__pv_it/theorems/a259ec76dfb0a5be60b7c83d797520fa82c1dba60/expr.ipynb\"><img src=\"data:image/png;base64,iVBORw0KGgoAAAANSUhEUgAAADEAAAAQBAMAAABNQoq8AAAAMFBMVEX///8AAAAAAAAAAAAAAAAA\n",
       "AAAAAAAAAAAAAAAAAAAAAAAAAAAAAAAAAAAAAAAAAAAv3aB7AAAAD3RSTlMAELvv3c2ZVESJq3Yi\n",
       "MmZ3LnoBAAAACXBIWXMAAA7EAAAOxAGVKw4bAAAA2UlEQVQY02NgwASSKqF7bjIwMCo7oElwL37A\n",
       "mK8GZLAmoMlkdzIw8IFk+AtQJXgTFIHkMiDuF4AKbXJxCQBSXAIKQFIOiKdAJVo3QmgmHpjxUbuX\n",
       "gyieQCj/FO8ECIPxq4D8AZBDDkBlbnI8gDDYPzIwbwDJwFxwjGMDhMEWwMAP0n7ZBQgUwPZATWOZ\n",
       "wNAPcrcQTA8T2G0Q7+SD3M0Ck+EA+4cDKHOB0Q4cJhvgYdAFJFKBHnvABHF/ODzcVHMYS4BijCvz\n",
       "IAJSGrDAkFT+koMSYJ0q4NCBAQD6uylQEVfDpgAAAABJRU5ErkJggg==\n",
       "\" style=\"display:inline;vertical-align:middle;\" /></a>, <a class=\"ProveItLink\" href=\"../__pv_it/theorems/b66b5547fa9b0b910f79351152926c658c2718190/expr.ipynb\"><img src=\"data:image/png;base64,iVBORw0KGgoAAAANSUhEUgAAADEAAAAQBAMAAABNQoq8AAAAMFBMVEX///8AAAAAAAAAAAAAAAAA\n",
       "AAAAAAAAAAAAAAAAAAAAAAAAAAAAAAAAAAAAAAAAAAAv3aB7AAAAD3RSTlMAiXZmMiLdVJm77xBE\n",
       "zatgdeJyAAAACXBIWXMAAA7EAAAOxAGVKw4bAAAAw0lEQVQY02NgwAQbp91VdcQizsD0yoC7fwY2\n",
       "maaDDAzM2GRYGmYDyRfIQpppaReAFN+GCUByM5LEWW0IzcnaABMSUnYAkqy3odw4FgEoK6yAA6Sd\n",
       "NwDKd+QxgLISGbgUQDIwIyJ4FCAMjt8Q2isNCCaA7YGaxjUBQu+E6eHcABXZD9XLBpPhAfuHh4GB\n",
       "H2jfAVCYKMDD4ByQ6AXaM4GBEeRqhuvwcJvbyl0G8pOgMcSL++ZsgIX1rG+tKAF2cBo4dGAAAHWD\n",
       "KgtwTxl0AAAAAElFTkSuQmCC\n",
       "\" style=\"display:inline;vertical-align:middle;\" /></a> <a class=\"ProveItLink\" href=\"../__pv_it/demonstrations/bd6deba89e568b457789ada602b606e16aaadcbb0/proof.ipynb\" style=\"text-decoration: none\">&nbsp;&#x22A2;&nbsp;&nbsp;</a><a class=\"ProveItLink\" href=\"../__pv_it/theorems/59b709c3a163c380eb74e98aaf4267f16d77d5700/expr.ipynb\"><img src=\"data:image/png;base64,iVBORw0KGgoAAAANSUhEUgAAAIgAAAAaBAMAAACeOgkpAAAAMFBMVEX///8AAAAAAAAAAAAAAAAA\n",
       "AAAAAAAAAAAAAAAAAAAAAAAAAAAAAAAAAAAAAAAAAAAv3aB7AAAAD3RSTlMAZkRUmRDNuyLviTJ2\n",
       "3asqG0tJAAAACXBIWXMAAA7EAAAOxAGVKw4bAAAB50lEQVQ4y2NggIFtBQzEA+50NAEhCMW3AIti\n",
       "FlymvEKVZXaA0JwbsKjlwOW82SCCHc4Ng9L7zzxFU8h18ACDDA7v/DkXADUEpIqhECp+NuAImspL\n",
       "3BMYeAOwGsJzlccBaghIFccEqHghgxhaeBSwbmDgeYDVEHYBxgSIIWBVLAvgvvRDVcipACRYv2I1\n",
       "hHMDywP38srycgGwKn4FqPgHhsmoCvkbQGQiVkP4GTgNIC4Bq9oP8/RVRrSYYFNgALrSHashvAHi\n",
       "0NgBqzoLE99yBj16HWWAFpzEHjs+B6CGgFU9AzFenTiAqqhvTQ+UpY8RPQg5eDopB2LNBnbU8GOa\n",
       "wVAP1bwfnAZ974LAPTQ5eIrNA8bARAaWCyiGRAow+EKZ/QpoDkGSg4MrQAM/MPDCIpr1G4j0Z2C4\n",
       "BRWIRzcESY4BySWcBUhKr4CI6Qysn2AuQc9SSHLIhsQfYJBHEWP9w8D4AZalGlDDBFkODp4DDTFg\n",
       "eMbcgGzIZwa+BAvssYMsBwfAdMB+gPkKasFRw2DrAC0hJNFtRZKDA6BNrG9W951GEYw7teMNNCz8\n",
       "0A1BkkPNZnhAIjGlJcsCvNI4cjF6LpiAV5rxAVEF92O8srwNRBkShldWhrgqhBlfoHAQWxkJ4Qv2\n",
       "AGJMAADcEXs+kj/Y3AAAAABJRU5ErkJggg==\n",
       "\" style=\"display:inline;vertical-align:middle;\" /></a></span>"
      ],
      "text/plain": [
       "{a in RealPos, b in Complex, c in Complex} |- (a^{b} * a^{c}) = a^{b + c}"
      ]
     },
     "metadata": {},
     "output_type": "display_data"
    }
   ],
   "source": [
    "mult_of_exps_test_01.combining_exponents(assumptions=[InSet(a, RealPos), InSet(b, Complex), InSet(c, Complex), NotEquals(a, zero)])"
   ]
  },
  {
   "cell_type": "code",
   "execution_count": 47,
   "metadata": {},
   "outputs": [
    {
     "data": {
      "text/html": [
       "<table><tr><th>&nbsp;</th><th>core type</th><th>sub-expressions</th><th>expression</th></tr>\n",
       "<tr><td>0</td><td>Operation</td><td>operator:&nbsp;1<br>operands:&nbsp;2<br></td><td><a class=\"ProveItLink\" href=\"../__pv_it/demonstrations/19cc5b49acdd8447a7754670249cfbed87a65c180/expr.ipynb\"><img src=\"data:image/png;base64,iVBORw0KGgoAAAANSUhEUgAAAEUAAAAVBAMAAADiLT7tAAAAMFBMVEX///8AAAAAAAAAAAAAAAAA\n",
       "AAAAAAAAAAAAAAAAAAAAAAAAAAAAAAAAAAAAAAAAAAAv3aB7AAAAD3RSTlMAMom7q0QizZkQVN1m\n",
       "du8ilFydAAAACXBIWXMAAA7EAAAOxAGVKw4bAAAA5UlEQVQoz2NggADG/yDwgQEFoAkyCzBgAjRB\n",
       "YSxK0AVdsalBFWQrwKIETZAjAIsaNMHpDAwZ7YZoatAEuxjYDBj00QxDFeTcwMCSwMD3AEUJmiDT\n",
       "AQa+nwws31DUIAkuBWJuBgYWoK6PcHlUQd7nQO5dsAQ3PNTRBCX1gQG+AcyVvwBTgy4434GBByK5\n",
       "BeEWNEGObwzcE8AMA7BsARZBth8Mi8A6jkDsb8AiyGA/oRJEcSkwpCEsQxOMvwXWKsTAcBOhBk2Q\n",
       "/XkCyPQdHR0bEGrQBLm+gN0BTJVIaQFdsAxb+kISBACYwFVVZyTusgAAAABJRU5ErkJggg==\n",
       "\" style=\"display:inline;vertical-align:middle;\" /></a></td></tr>\n",
       "<tr><td>1</td><td>Literal</td><td></td><td><a class=\"ProveItLink\" href=\"../../multiplication/__pv_it/common/ed719cef37831779c16481533a4d380a2f95ab270/expr.ipynb\"><img src=\"data:image/png;base64,iVBORw0KGgoAAAANSUhEUgAAAAMAAAADBAMAAACkBqiMAAAAElBMVEX///8AAAAAAAAAAAAAAAAA\n",
       "AABknMCaAAAABXRSTlMAEM3dmbZAxI8AAAAJcEhZcwAADsQAAA7EAZUrDhsAAAARSURBVAjXY2Bg\n",
       "YBBVYGB2AAABOAB5TiANUQAAAABJRU5ErkJggg==\n",
       "\" style=\"display:inline;vertical-align:middle;\" /></a></td></tr>\n",
       "<tr><td>2</td><td>ExprTuple</td><td>3, 3</td><td><a class=\"ProveItLink\" href=\"../__pv_it/demonstrations/c47bf9dbda4f0f8d512f14feed9d24091331514c0/expr.ipynb\"><img src=\"data:image/png;base64,iVBORw0KGgoAAAANSUhEUgAAAFMAAAAmBAMAAABKc7pBAAAAMFBMVEX///8AAAAAAAAAAAAAAAAA\n",
       "AAAAAAAAAAAAAAAAAAAAAAAAAAAAAAAAAAAAAAAAAAAv3aB7AAAAD3RSTlMAmVSrZs0y7xCJ3bsi\n",
       "RHYwvcNTAAAACXBIWXMAAA7EAAAOxAGVKw4bAAACP0lEQVQ4y41UPW8TQRB95w98Pl/OPlAaEMJ0\n",
       "pEBOHYJyEkJ0iA4QKdxBlCIRUoCOayhAiuyCKo0TaCiQCEKi5SgQEiDZ/yAWTaggJBC5CDEzO/cl\n",
       "naW9lby7nn078+bN7AGA0YRmPPHDzSkdEideyVq6oYXiiix3fT20JhxvJ3F6Yx5pzJKy7JmP+E9h\n",
       "lNxtZ9y9T+djdWP7cjaf7XDTD2haSahezkCLgyggO7wU2+2sFJ+iTWmVpj+x3RhkoGdjN/vE5iip\n",
       "CVncO+nUTIrzcVqltkWe9+KDk8BXVP+loFRyexs9jjZNxGOC5iYwDzxMQZ/ReYAK8/wFVGYje9UD\n",
       "HvtYCBLoczofocgcW23UlawXWWD6zQELQrbAUSlOcRPFQ9a0iTr5grNG00/x9EaWXSLmDNXW4nQ6\n",
       "HvrcCPd6beWC63Msy9NDicMO+UZ9yI75zixKoYuQu3kAXJftS56I6I7S3TiCJQU+E6V0LoA0tKH6\n",
       "oN4Ivdq/MSMFjAXpNwrdVFvHUHzwb6l1BnYoVm1UVnHowjfh2vfUwc73hsqmC8c3lWXq+Lw0N/CD\n",
       "oR46kk15TTn74rqn0ZEC3lxU1LZcl7UhpSoNUfxARB2P/8KSdFqKtkXvha+uDFAO+3wxVfoLEihI\n",
       "t2PLh7GafZ/dCW92g9QZZazmcAL0Hdn3M1Zn0peAH8tb5BlT3IjXckGrrEJnkAdaaUZ47dhV84M8\n",
       "0PtqvpoD6UjosqeHfpbKma+1SPNF9GHSfotrUWC7rYOu8/QfEkWH/PZQt1wAAAAASUVORK5CYII=\n",
       "\" style=\"display:inline;vertical-align:middle;\" /></a></td></tr>\n",
       "<tr><td>3</td><td>Operation</td><td>operator:&nbsp;4<br>operands:&nbsp;5<br></td><td><a class=\"ProveItLink\" href=\"../__pv_it/demonstrations/7fae72758e117db14c9596e62821503a83e4892f0/expr.ipynb\"><img src=\"data:image/png;base64,iVBORw0KGgoAAAANSUhEUgAAABsAAAAVBAMAAABF8IgWAAAAMFBMVEX///8AAAAAAAAAAAAAAAAA\n",
       "AAAAAAAAAAAAAAAAAAAAAAAAAAAAAAAAAAAAAAAAAAAv3aB7AAAAD3RSTlMAMom7q0QizZkQVN1m\n",
       "du8ilFydAAAACXBIWXMAAA7EAAAOxAGVKw4bAAAAsklEQVQY02NggADG/yDwAcpjYBZgQAbCKDwG\n",
       "VxQeWwEKlyMAhTudgSGj3RDO7WJgM2DQhynh3MDAksDA9wDKZTrAwPeTgeUbkLkUiLkZGFiACj4y\n",
       "MPA+B3LvgtVwA90oqQ903gYwV/4CkJjvwMBzAczdAnbBNwbuCWCGAdh9PxgWgSWPQGyxn1AJorgU\n",
       "GNJAdPytBhAlxMBwE0SzP08A6dnR0QG2gOsL2FJg2EB8WYbwGQBvoynegwW/+wAAAABJRU5ErkJg\n",
       "gg==\n",
       "\" style=\"display:inline;vertical-align:middle;\" /></a></td></tr>\n",
       "<tr><td>4</td><td>Literal</td><td></td><td><a class=\"ProveItLink\" href=\"../__pv_it/common/0ac37aca1e54c35c5cda09672df32d4f69f1f3020/expr.ipynb\"><img src=\"data:image/png;base64,iVBORw0KGgoAAAANSUhEUgAAACgAAAASBAMAAADbMYGVAAAAMFBMVEX///8AAAAAAAAAAAAAAAAA\n",
       "AAAAAAAAAAAAAAAAAAAAAAAAAAAAAAAAAAAAAAAAAAAv3aB7AAAAD3RSTlMAdrvvq93NRIkQmTJm\n",
       "IlTMv30WAAAACXBIWXMAAA7EAAAOxAGVKw4bAAAA60lEQVQY02NgYBAyVnFRNWJAA9+AWAhNjP0H\n",
       "kJiFJsjxHUhMRBNk+8DAyMCNJsivwFADpDgFPXf0MWz03NgyAcirD3H6C6S4GEQEljI0uD3gUADy\n",
       "+jfwBgCpswznJ/hwP0hh4PkA5OUzMDQwTGDYwLAMaAbDPwbGn0DBTwwMFzgFgAxDkPt+MjAZAKmP\n",
       "QDYj0HD2vwwzGTgCGPgXAJ35Gyh4hYFTncUAaAzbAobDQAWsQHPZzRn4fs8yYH/AMF+BN5qBYUr+\n",
       "Fxcn+wQGzoUCr84xMLzfKHEBPWxALsAEEVjEOP9hEXz27QCQBACxdDkdPZBodAAAAABJRU5ErkJg\n",
       "gg==\n",
       "\" style=\"display:inline;vertical-align:middle;\" /></a></td></tr>\n",
       "<tr><td>5</td><td>ExprTuple</td><td>10, 6</td><td><a class=\"ProveItLink\" href=\"../__pv_it/demonstrations/f7dc62b874cca876d6a7e3a33b83cf6c3ca456f90/expr.ipynb\"><img src=\"data:image/png;base64,iVBORw0KGgoAAAANSUhEUgAAADkAAAAyBAMAAAAU8W51AAAAMFBMVEX///8AAAAAAAAAAAAAAAAA\n",
       "AAAAAAAAAAAAAAAAAAAAAAAAAAAAAAAAAAAAAAAAAAAv3aB7AAAAD3RSTlMAuzKrZonNIu/ddhCZ\n",
       "VERetuGgAAAACXBIWXMAAA7EAAAOxAGVKw4bAAABxklEQVQ4y3WUPU8CQRCGX+74uiMRWjv+AVeY\n",
       "iBVWxo77B2AsjQmWdhhjsJNEO2LQXwDGxBZsjCYk2phoLKCypTGQQBT38+B296a4nd0nOzs7794A\n",
       "xGJ5qHbXDdwNDcJqSc/2DeBTTndC8P5pToeEx6epRjioyyiu+My5MdIPntcujDTZZ8OZma5NVyYa\n",
       "xT471ougQ3pwIR9BezTbIiJorEk+p1E0TtKyfqJohhB3qtKEXCFRY3UF2sWJ0GwdSOdYrQd7usYV\n",
       "kjcr2BESfxotj1BgGmwC5xolaPhGnYsuSjWVkrBldt4WUNIOznroyC1tLXI2h4p4fNZMo+kqXgXV\n",
       "pCJLTZSE+yjDLahxWpc0rm+lVER+R6pmiFxhi5YPt5vRs+qwax4PBi/oVRXqiWq0F4sJnJZy3z6G\n",
       "o+X0KyxXz0dhe0n9sFxEhWw/gBlFLiKQs0zFRVguIoGtvpylXKRQ8bleJCHXCanDr94VuFypmem1\n",
       "S7noa8ezRoVcNv1TxiMFSrmy9IJOX6FSrjJVT02ayUWdS1NnYHIFnYFHWLkslYv+vvz4pA+Tjfkm\n",
       "q2Gk12K8NUHZCdUuyu078A4NHfggcA3d+4Hl9A8Mj4SKdelFugAAAABJRU5ErkJggg==\n",
       "\" style=\"display:inline;vertical-align:middle;\" /></a></td></tr>\n",
       "<tr><td>6</td><td>Operation</td><td>operator:&nbsp;7<br>operands:&nbsp;8<br></td><td><a class=\"ProveItLink\" href=\"../__pv_it/theorems/41c7e8d55de04e24c56503fbffe6ac0318a53f990/expr.ipynb\"><img src=\"data:image/png;base64,iVBORw0KGgoAAAANSUhEUgAAAAsAAAAqBAMAAACXcryGAAAAMFBMVEX///8AAAAAAAAAAAAAAAAA\n",
       "AAAAAAAAAAAAAAAAAAAAAAAAAAAAAAAAAAAAAAAAAAAv3aB7AAAAD3RSTlMAMt0Qq5nNdoki72a7\n",
       "RFSRpcO+AAAACXBIWXMAAA7EAAAOxAGVKw4bAAAAcUlEQVQY02NgYBAyYGBgYHbNB1EMDPVUofon\n",
       "gEiX9SkbGMgG/0HgA1FKp4YdBJKcBxj6LzAwsExg4FrAwMD1mYHlJ5CnwMDyEayICWKWfAGYUgGT\n",
       "rAfA1BYwydfAMBNISTAwFAMNUw0NVQBqArohgQEA3l8iXbXOc5oAAAAASUVORK5CYII=\n",
       "\" style=\"display:inline;vertical-align:middle;\" /></a></td></tr>\n",
       "<tr><td>7</td><td>Literal</td><td></td><td><a class=\"ProveItLink\" href=\"../../division/__pv_it/common/a2a633e1e3c749fb1f2692466b287b6348c5de840/expr.ipynb\"><img src=\"data:image/png;base64,iVBORw0KGgoAAAANSUhEUgAAAA4AAAAMBAMAAACgrpHpAAAAJFBMVEX///8AAAAAAAAAAAAAAAAA\n",
       "AAAAAAAAAAAAAAAAAAAAAAAAAADHJj5lAAAAC3RSTlMAu80QIkRmdpndq8GgXCoAAAAJcEhZcwAA\n",
       "DsQAAA7EAZUrDhsAAAAkSURBVAjXY2BgYBAyYAABlt0BYJohnQEL6JwJArMY8ABs5gAAeHQHkckd\n",
       "QZIAAAAASUVORK5CYII=\n",
       "\" style=\"display:inline;vertical-align:middle;\" /></a></td></tr>\n",
       "<tr><td>8</td><td>ExprTuple</td><td>9, 10</td><td><a class=\"ProveItLink\" href=\"../../numerals/decimals/__pv_it/theorems/df23a04353373623cccbfda09b61e0f594aa791a0/expr.ipynb\"><img src=\"data:image/png;base64,iVBORw0KGgoAAAANSUhEUgAAACkAAAAVBAMAAAAp9toTAAAAMFBMVEX///8AAAAAAAAAAAAAAAAA\n",
       "AAAAAAAAAAAAAAAAAAAAAAAAAAAAAAAAAAAAAAAAAAAv3aB7AAAAD3RSTlMAInZUiRDNmWbv3US7\n",
       "qzJazP2FAAAACXBIWXMAAA7EAAAOxAGVKw4bAAAA9klEQVQY012Ru2oCURBAz76SdRNka0lhvkAL\n",
       "sfYHQhbrFDaBFEpSCBvEYjtb25BCwS6NIV9g8gVaBQRxayuxSGOhc+Nd2d2BeZ0Z5t5hAJ+s/Odm\n",
       "NUe/lKmJboITMMJ2jBmB08L5fdb0BnsPj3ApFSqaLuANBlAgRUcBa59CQD1Nl7COuYjopqnIFOw5\n",
       "T1la3IHbYpKl3hysIe9Z2lf92xx1pZWrYW5CDcPHGvOTUFUoNjAD3Bl3it77OH/iS2HYk3UbbCRZ\n",
       "jToRH9I8PRyk6H3ixXqkdf5HSV590bF9Xu9V9FvHzQQaMzEPOikn9FqdyCjnLnQLR0sPNE5EhvO3\n",
       "AAAAAElFTkSuQmCC\n",
       "\" style=\"display:inline;vertical-align:middle;\" /></a></td></tr>\n",
       "<tr><td>9</td><td>Literal</td><td></td><td><a class=\"ProveItLink\" href=\"../../numerals/__pv_it/common/682157d4892d216d9e5626ed533aff9b56b9506e0/expr.ipynb\"><img src=\"data:image/png;base64,iVBORw0KGgoAAAANSUhEUgAAAAgAAAAOBAMAAADgeEClAAAAJ1BMVEX///8AAAAAAAAAAAAAAAAA\n",
       "AAAAAAAAAAAAAAAAAAAAAAAAAAAAAAAilU6eAAAADHRSTlMAMt0Qq5nNdoki72YJhDyyAAAACXBI\n",
       "WXMAAA7EAAAOxAGVKw4bAAAAH0lEQVQI12NgYFRmYDAJO8zAwMBOMsFxkoGBxeuYNwB0KguGAVQB\n",
       "OAAAAABJRU5ErkJggg==\n",
       "\" style=\"display:inline;vertical-align:middle;\" /></a></td></tr>\n",
       "<tr><td>10</td><td>Literal</td><td></td><td><a class=\"ProveItLink\" href=\"../../numerals/__pv_it/common/af4aab8a07465db063742696e006d04670f30cf10/expr.ipynb\"><img src=\"data:image/png;base64,iVBORw0KGgoAAAANSUhEUgAAAAkAAAAOBAMAAAAPuiubAAAAMFBMVEX///8AAAAAAAAAAAAAAAAA\n",
       "AAAAAAAAAAAAAAAAAAAAAAAAAAAAAAAAAAAAAAAAAAAv3aB7AAAAD3RSTlMAIpnNuzKJRKvvEN12\n",
       "ZlQ4bmvwAAAACXBIWXMAAA7EAAAOxAGVKw4bAAAATklEQVQI12NgVDIJYGAQYWD7zsDQyMAwk4Fh\n",
       "/gKGfgGGbgaGfqAEA8N+EMH6B0RyN4BIFRDBC2Y+Y2AUYGBNYOBZwCCtpKQNVPz//2cGAEeID1mi\n",
       "/zO7AAAAAElFTkSuQmCC\n",
       "\" style=\"display:inline;vertical-align:middle;\" /></a></td></tr>\n",
       "</table>\n"
      ],
      "text/plain": [
       "0. sqrt(2) * sqrt(2)\n",
       "   core type: Operation\n",
       "   operator: 1\n",
       "   operands: 2\n",
       "1. *\n",
       "   core type: Literal\n",
       "   sub-expressions: \n",
       "2. (sqrt(2), sqrt(2))\n",
       "   core type: ExprTuple\n",
       "   sub-expressions: 3, 3\n",
       "3. sqrt(2)\n",
       "   core type: Operation\n",
       "   operator: 4\n",
       "   operands: 5\n",
       "4. Exp\n",
       "   core type: Literal\n",
       "   sub-expressions: \n",
       "5. (2, 1 / 2)\n",
       "   core type: ExprTuple\n",
       "   sub-expressions: 10, 6\n",
       "6. 1 / 2\n",
       "   core type: Operation\n",
       "   operator: 7\n",
       "   operands: 8\n",
       "7. /\n",
       "   core type: Literal\n",
       "   sub-expressions: \n",
       "8. (1, 2)\n",
       "   core type: ExprTuple\n",
       "   sub-expressions: 9, 10\n",
       "9. 1\n",
       "   core type: Literal\n",
       "   sub-expressions: \n",
       "10. 2\n",
       "    core type: Literal\n",
       "    sub-expressions: "
      ]
     },
     "metadata": {},
     "output_type": "display_data"
    }
   ],
   "source": [
    "mult_of_exps_test_02.expr_info()"
   ]
  },
  {
   "cell_type": "code",
   "execution_count": 48,
   "metadata": {},
   "outputs": [
    {
     "data": {
      "text/html": [
       "<span style=\"font-size:20px;\"> <a class=\"ProveItLink\" href=\"../__pv_it/demonstrations/5c217a87601b9251bffd0098ac157dddc0a0e3920/proof.ipynb\" style=\"text-decoration: none\">&nbsp;&#x22A2;&nbsp;&nbsp;</a><a class=\"ProveItLink\" href=\"../__pv_it/demonstrations/5c0b93345d0309039e013b6e99f2d6578e4aeeb50/expr.ipynb\"><img src=\"data:image/png;base64,iVBORw0KGgoAAAANSUhEUgAAAKYAAAAmBAMAAAC8Fv2cAAAAMFBMVEX///8AAAAAAAAAAAAAAAAA\n",
       "AAAAAAAAAAAAAAAAAAAAAAAAAAAAAAAAAAAAAAAAAAAv3aB7AAAAD3RSTlMAmVSrZs0y7xCJ3bsi\n",
       "RHYwvcNTAAAACXBIWXMAAA7EAAAOxAGVKw4bAAACxklEQVRIx61Wz2sTQRh9ySbZTbL5hdSDIsaj\n",
       "HkzPKjQg4k1yE1GweCm9mODBH3gwFw8VJEU8iBcTvYgIjShFCEI8FMEKCf4D1lO8GWorQWrjzOzu\n",
       "zO5m034LzmHZvPd9b2befN9sACBSxP7jfh1hxgFKUOJlGMlYhRR2NozmAm1X6akOme9dP9aF2iUF\n",
       "VMd8+FIWBTg0bk/TvOayJXGCa0ZHClkNSlnd13a31SmumVpWk7SDDscBe929NfNKs6rs1PoBCRJM\n",
       "L++t2VaapxW3FpQgwViNrLmluCNBCRI0N6dIXr9TlJqJwSP22JGcUYFZuDzvTWAgPs6Ic2pNqNkE\n",
       "XOsUOxrKV9aj60j+9aYx0GzjGTd1ZqIwBZHjlRbpdO523gGiFjXVRQ+AM8Atbx4DtS507uXPieOz\n",
       "Cf869Vn5+hi4V8ect2QYqI+gcYdKPlsc4uv3vtTMnGT+50SFRDnaBE4BczLTAbUmtN+86vzdaRM1\n",
       "Yyg1dTSYZpm/DpgD2Q0RuCJTXGCKZzXKk2fOiW6iJjVNLLDu4JMnlth0KattdmUDKRBVLp0T+pFX\n",
       "Ysy6iHRf9RE+OBsyfgEXrImVvwrEC/7IBTSSIA6664RZ981qvaNduxsOC7VtLxgR+8rlJyQFkaxv\n",
       "KORJVhrfy0fFKmLWMlse0L6PAzQFcXXclEB8/EdqpkdxcZcch6lqyQGZ8pdAP23CP3rWYWZ2j4lz\n",
       "WUZW3VM2iEXgB5wS8VzXFuEfDduLi1f483OhcMhFWqDZKhT47nr++nQI/9Btk0piMyvj8baLtMAU\n",
       "62HewVX/9eoQ/hG32zQedIt7wRL1Ex+pkT+wT8lf9xFZ8y010Ngka26RI99QAzM7ZM3z1MBkhazZ\n",
       "6BMD9SL++/SDEP/BbhLjboTQPEcLy1ZCaMbLpLBP3RCaxmtS1PNQ/73XKH2cLofSNOcJQQ/pev8A\n",
       "qXnN89rPr0YAAAAASUVORK5CYII=\n",
       "\" style=\"display:inline;vertical-align:middle;\" /></a></span>"
      ],
      "text/plain": [
       "|- (sqrt(2) * sqrt(2)) = 2^{(1 / 2) + (1 / 2)}"
      ]
     },
     "metadata": {},
     "output_type": "display_data"
    }
   ],
   "source": [
    "mult_of_exps_test_02.combining_exponents(auto_simplify=False)"
   ]
  },
  {
   "cell_type": "code",
   "execution_count": 49,
   "metadata": {},
   "outputs": [
    {
     "data": {
      "text/html": [
       "<span style=\"font-size:20px;\"> <a class=\"ProveItLink\" href=\"../__pv_it/demonstrations/5266100c5690b4aa464e6b75ceada0297d406cb80/proof.ipynb\" style=\"text-decoration: none\">&nbsp;&#x22A2;&nbsp;&nbsp;</a><a class=\"ProveItLink\" href=\"../__pv_it/demonstrations/9427616d3b5e64a11153a34e3f6166936f24b77d0/expr.ipynb\"><img src=\"data:image/png;base64,iVBORw0KGgoAAAANSUhEUgAAAIIAAAAmBAMAAAD6oF42AAAAMFBMVEX///8AAAAAAAAAAAAAAAAA\n",
       "AAAAAAAAAAAAAAAAAAAAAAAAAAAAAAAAAAAAAAAAAAAv3aB7AAAAD3RSTlMAmVSrZs0y7xCJ3bsi\n",
       "RHYwvcNTAAAACXBIWXMAAA7EAAAOxAGVKw4bAAACLklEQVRIx5VWMW/TQBT+Eie127hxLdQFhChj\n",
       "p3QulRqpqthQNoRg6IaYHDEAG1k6gISSoVMXkrKgqlJTIWUOQ4QESM4/oFvZqEpbZQgN9tnc2ed7\n",
       "6XFD9Px9z5/vvvf8HADILeH6td2YQt7QEMDMR5or1HQUsEFTTxtaCiX6rI9E6E3CJfExaL2iBPIj\n",
       "EfdUCb3r7JprCbe6Kgv/gX6fUPCEDcZQwXOw1CIU7olwoOI5WKgTCucivK3iOWifEZ0y5qFVg+0+\n",
       "3krzCbCTufnzYmBz4ZRfB939DbN/0kkJcFEWsLt4P4QhOvItsAa8TGclwF8Zk/sw6zBXOLADvG5g\n",
       "PV20BFiRDghzBGMMh9UoH5asDawC6zxPBj25r402jEs41TA+Cc5SPmbwIU+QwWZV0Y+n8EPhmTeX\n",
       "wUVUmyteJRl0mFpun6348N5xvDXrN/AgEhW+yKCjaMoPwI+oae/0EY2QW+zeCwUIZyEjkOtye/yF\n",
       "PHtCIdpCRwUqFDaEwaVRkb1hy7BFNSUw60PwgO/wI4Pnr+4yy1ooi3dVAp1MLZ4BP9GMyoWHT8Lf\n",
       "r657M5GRBn25H+yO67ZhxoersG0dTiYXiZQ06MnjYy6YfjUU4xFUVE2gNFhRj+RcHbprl/hajLQV\n",
       "Pqlh60xb4ZzAj3QF5scEcV9XYZb6OjaHmgrm0v9Ky+uEZF5oKjwnmU09gTK912JVS+FLn6SsAx0B\n",
       "a28KOdD5C1KatlN7S0PhHUX8BfTyna3RzIVZAAAAAElFTkSuQmCC\n",
       "\" style=\"display:inline;vertical-align:middle;\" /></a></span>"
      ],
      "text/plain": [
       "|- (sqrt(2) * sqrt(2)) = 2"
      ]
     },
     "metadata": {},
     "output_type": "display_data"
    }
   ],
   "source": [
    "mult_of_exps_test_02.combining_exponents()"
   ]
  },
  {
   "cell_type": "code",
   "execution_count": 50,
   "metadata": {},
   "outputs": [
    {
     "data": {
      "text/html": [
       "<span style=\"font-size:20px;\"><a class=\"ProveItLink\" href=\"../__pv_it/theorems/a259ec76dfb0a5be60b7c83d797520fa82c1dba60/expr.ipynb\"><img src=\"data:image/png;base64,iVBORw0KGgoAAAANSUhEUgAAADEAAAAQBAMAAABNQoq8AAAAMFBMVEX///8AAAAAAAAAAAAAAAAA\n",
       "AAAAAAAAAAAAAAAAAAAAAAAAAAAAAAAAAAAAAAAAAAAv3aB7AAAAD3RSTlMAELvv3c2ZVESJq3Yi\n",
       "MmZ3LnoBAAAACXBIWXMAAA7EAAAOxAGVKw4bAAAA2UlEQVQY02NgwASSKqF7bjIwMCo7oElwL37A\n",
       "mK8GZLAmoMlkdzIw8IFk+AtQJXgTFIHkMiDuF4AKbXJxCQBSXAIKQFIOiKdAJVo3QmgmHpjxUbuX\n",
       "gyieQCj/FO8ECIPxq4D8AZBDDkBlbnI8gDDYPzIwbwDJwFxwjGMDhMEWwMAP0n7ZBQgUwPZATWOZ\n",
       "wNAPcrcQTA8T2G0Q7+SD3M0Ck+EA+4cDKHOB0Q4cJhvgYdAFJFKBHnvABHF/ODzcVHMYS4BijCvz\n",
       "IAJSGrDAkFT+koMSYJ0q4NCBAQD6uylQEVfDpgAAAABJRU5ErkJggg==\n",
       "\" style=\"display:inline;vertical-align:middle;\" /></a>, <a class=\"ProveItLink\" href=\"../__pv_it/demonstrations/0510fe7cdafcfb8225e2dfc21350c5d3adc9d5d40/expr.ipynb\"><img src=\"data:image/png;base64,iVBORw0KGgoAAAANSUhEUgAAADYAAAAqBAMAAAAKf7UOAAAAMFBMVEX///8AAAAAAAAAAAAAAAAA\n",
       "AAAAAAAAAAAAAAAAAAAAAAAAAAAAAAAAAAAAAAAAAAAv3aB7AAAAD3RSTlMAMt0Qq5nNdoki72a7\n",
       "RFSRpcO+AAAACXBIWXMAAA7EAAAOxAGVKw4bAAABAklEQVQ4y2NgYBAyYMABmF3zccoxMNSPymEF\n",
       "/RNwSrmsT9mAEcg9aukTG7CrL1nNYPonAKsUay1Qzx7scqI8QOexoMrVKCklgGhnHpCdKK64Vgxl\n",
       "HJiKbhJnMozhIIEuxwbzJ2PDbQw5uAEB1yGM/yDwAcSSUgKCA2D7ZqDrs4GzDvOgyzHBWVdB/mO4\n",
       "gCTHXoAIFwcgkYCsMQ8RCKkT7FRRDDU5awCPh/WqIB9NDTsIk7xxSAnFIM4DDP0XcEQtywQGrgU4\n",
       "5Lg+M7D8xKVPgYHlI+7ExPQBt5x8AW45FdxSrAdwy23BLcXXwDATlxwwbRTjkOJUDQ1VwOU5YJJI\n",
       "wC4FAKWNQVo9VJL1AAAAAElFTkSuQmCC\n",
       "\" style=\"display:inline;vertical-align:middle;\" /></a> <a class=\"ProveItLink\" href=\"../__pv_it/demonstrations/31247254dac38d6bfb025ffcf7c6ecc64fd3dbc40/proof.ipynb\" style=\"text-decoration: none\">&nbsp;&#x22A2;&nbsp;&nbsp;</a><a class=\"ProveItLink\" href=\"../__pv_it/demonstrations/c14a405df6b54312722e666aa0dfac10d93674eb0/expr.ipynb\"><img src=\"data:image/png;base64,iVBORw0KGgoAAAANSUhEUgAAAJgAAAAmBAMAAADKLE8XAAAAMFBMVEX///8AAAAAAAAAAAAAAAAA\n",
       "AAAAAAAAAAAAAAAAAAAAAAAAAAAAAAAAAAAAAAAAAAAv3aB7AAAAD3RSTlMAmVSrZs0y7xCJ3bsi\n",
       "RHYwvcNTAAAACXBIWXMAAA7EAAAOxAGVKw4bAAACpklEQVRIx5WWzWsTQRjGn83HbpKOsVG8tAi9\n",
       "VlB6FK20IKXXHhU9xIPUj0NDoXpQMJcieEkoCN4a8SIiNEoQJIjx4EUF8x9EBVE8lLRWidIa5yOb\n",
       "7M5snNc57Ofz/Obded+ZWQBwJvDPljoDejtoE1wpklmJBatiigxbtPf7lIB5KzFnhwvcrmht3Lb3\n",
       "5x4Rmlind3uxaihG8ursDPnOoCUjYJly7y5eNsRXe2e2Gw1TltEBbMn/BC9viE/5F8+jYcpSHcBO\n",
       "+m+WNo9rWtbP83w0TFkCsB3/zbfiR03rNP2r99F1rSwS5n5Z4wcxHCx3Lo8a5jTtKvDq0DPZ7ajO\n",
       "CVgGWUi0RY0gvYdrxlQ4AFbFugjPMQrbtzj1+o16DRA1hLiQTQPX0cayNicriDfgFfhltq3DApZB\n",
       "ZJ4ooVtFzDQeJrRCS8/C6yAuxiH2U4cFLNK279hhYL8olRPATP7CZkB7VAwULyQenOC42zosYJEw\n",
       "DyUOm1UvN0LS7Ao/KHhGfGFqJyKXvkXCGBb7SXf/hHSX1nk5VlQtfRBH9XrskWgPELb0Mv2CaxUs\n",
       "o82+0hQSkgJl/WUGplkc3n1LFeb4ACOrwNlVJQ1HZWXLhI2Hb+9l/cgCy5+qT7aFSXl7GkNg2oqZ\n",
       "7P72YZNgjbD2ZVGu/LEy3kWPmWnhCRDZdMvIautf65OM8DLwFcEZ3F8MTQsfIjHMb3K5Me15ckX0\n",
       "y+7nciKpzKizCAsvNhHARrf7Q3se+y4HkM84kRB3zygy08IjqA5Z1M+H0B3S3uQUKKp0hbZrkvoc\n",
       "oe2cqW2Kyp/BtvaEImo1aLB5iugu8e+g1CSIlomw9IJdky0QYXxXsDZvggqbs0s+k3+pkta0s5tk\n",
       "WOqxTXGH/JXAa9vfV+0//mlZ3hJ6kwj6Cz7JtlW2qLuHAAAAAElFTkSuQmCC\n",
       "\" style=\"display:inline;vertical-align:middle;\" /></a></span>"
      ],
      "text/plain": [
       "{b in Complex, (1 / 2) in Complex} |- (2^{b} * sqrt(2)) = 2^{b + (1 / 2)}"
      ]
     },
     "metadata": {},
     "output_type": "display_data"
    }
   ],
   "source": [
    "mult_of_exps_test_03.combining_exponents(assumptions=[InSet(b, Complex), InSet(frac(one, two), Complex), NotEquals(two, zero)])"
   ]
  },
  {
   "cell_type": "markdown",
   "metadata": {},
   "source": [
    "## Testing Exp.exponent_separation()"
   ]
  },
  {
   "cell_type": "code",
   "execution_count": 51,
   "metadata": {},
   "outputs": [
    {
     "data": {
      "text/html": [
       "<strong id=\"expr_01\">expr_01:</strong> <a class=\"ProveItLink\" href=\"../__pv_it/theorems/30a87e0fd349eb957cda18d62242a4c55ae3e4ad0/expr.ipynb\"><img src=\"data:image/png;base64,iVBORw0KGgoAAAANSUhEUgAAABIAAAATBAMAAABvvEDBAAAAMFBMVEX///8AAAAAAAAAAAAAAAAA\n",
       "AAAAAAAAAAAAAAAAAAAAAAAAAAAAAAAAAAAAAAAAAAAv3aB7AAAAD3RSTlMAIquJdkTvuxBmmd1U\n",
       "zTKBpmoTAAAACXBIWXMAAA7EAAAOxAGVKw4bAAAAcklEQVQI12NgAIO3BQxQwGQAY7E9gLHeu2hA\n",
       "Wd4NXlBWJcNcKCuPYRGU9YEhB8rawQkz8JULkGBUdnSAcMME2H+AGRyZDFwbwCyuDwzcEEvZChj6\n",
       "A8CsfgeG+RAN/QcYdHkEQCx2B55dXBC9KnZCfiAGAJFSFW2QqYUbAAAAAElFTkSuQmCC\n",
       "\" style=\"display:inline;vertical-align:middle;\" /></a><br>"
      ],
      "text/plain": [
       "<IPython.core.display.HTML object>"
      ]
     },
     "metadata": {},
     "output_type": "display_data"
    },
    {
     "data": {
      "text/html": [
       "<strong id=\"expr_02\">expr_02:</strong> <a class=\"ProveItLink\" href=\"../__pv_it/theorems/0b8e3d12e43e509315ac3ab53d5642bcfc1791190/expr.ipynb\"><img src=\"data:image/png;base64,iVBORw0KGgoAAAANSUhEUgAAACcAAAATBAMAAADhZgm9AAAAMFBMVEX///8AAAAAAAAAAAAAAAAA\n",
       "AAAAAAAAAAAAAAAAAAAAAAAAAAAAAAAAAAAAAAAAAAAv3aB7AAAAD3RSTlMAIquJdkTvuxBmmd1U\n",
       "zTKBpmoTAAAACXBIWXMAAA7EAAAOxAGVKw4bAAAApUlEQVQY02NgAIO3BQyYgMkARC5AFWR7ACLR\n",
       "lL930YAJmkyBCXo3eEEFuQOewQQrGeZCBZcz9MEE8xgWcZWXp5dXMqQizPzAkANV+REhuIOzACp4\n",
       "lYEZJvjKBeYkqZkeQJJR2dEBKoVwZ5gA+w8oE+4jjkwGrg3ovub6wMBtgC7IVsDQH4Au2O/AMB8j\n",
       "0PoPMOjyCKAJsjvw7OJCV8mhYifkhyYGAP0JIuM3cHhuAAAAAElFTkSuQmCC\n",
       "\" style=\"display:inline;vertical-align:middle;\" /></a><br>"
      ],
      "text/plain": [
       "<IPython.core.display.HTML object>"
      ]
     },
     "metadata": {},
     "output_type": "display_data"
    },
    {
     "data": {
      "text/html": [
       "<strong id=\"expr_03\">expr_03:</strong> <a class=\"ProveItLink\" href=\"../__pv_it/demonstrations/29b750c1b8ef1b5da2489fea7b7309b9c4c4a5bf0/expr.ipynb\"><img src=\"data:image/png;base64,iVBORw0KGgoAAAANSUhEUgAAADwAAAATBAMAAAA+KHOiAAAAMFBMVEX///8AAAAAAAAAAAAAAAAA\n",
       "AAAAAAAAAAAAAAAAAAAAAAAAAAAAAAAAAAAAAAAAAAAv3aB7AAAAD3RSTlMAIquJdkTvuxBmmd1U\n",
       "zTKBpmoTAAAACXBIWXMAAA7EAAAOxAGVKw4bAAAA3UlEQVQoz2NgAIO3BQxYAPM/KIPJAEQugEtA\n",
       "WIwfoFy2ByASYQSExQITeO+iARM0mQJlcVj6OkClvRu8oILcAc+grG6B9w+g0pUMc6GCyxn6oKxV\n",
       "DO9hduUxLOIqL08vr2RIZWCAs9xh0h8YcqB6PsKcxvGRoaQDKr2DswAqfZWBGcpK5Ps3Ayr9ygXm\n",
       "HamZHlBW1BznCUC/Kzs6oPgWlRUmwP4DJaxQWByZDFwbGHACrg8M3Aa4pdkKGPoDcEv3OzDMZ8Aj\n",
       "fYBBl0cApzS7A88uLty6OVTshPxwygIAhRk3mEbdBkMAAAAASUVORK5CYII=\n",
       "\" style=\"display:inline;vertical-align:middle;\" /></a><br>"
      ],
      "text/plain": [
       "<IPython.core.display.HTML object>"
      ]
     },
     "metadata": {},
     "output_type": "display_data"
    },
    {
     "data": {
      "text/html": [
       "<strong id=\"expr_04\">expr_04:</strong> <a class=\"ProveItLink\" href=\"../__pv_it/demonstrations/603bd5da0825af1c3a2d3f7b32a2b70eed7e496b0/expr.ipynb\"><img src=\"data:image/png;base64,iVBORw0KGgoAAAANSUhEUgAAADsAAAATBAMAAADc9GjbAAAAMFBMVEX///8AAAAAAAAAAAAAAAAA\n",
       "AAAAAAAAAAAAAAAAAAAAAAAAAAAAAAAAAAAAAAAAAAAv3aB7AAAAD3RSTlMAIpnNuzKJRKvvEN12\n",
       "ZlQ4bmvwAAAACXBIWXMAAA7EAAAOxAGVKw4bAAAA3ElEQVQoz2NgAAGuywxQwJXWsYABHcScBpFM\n",
       "YMy0AUgpoMq/BhEsQMxfwPgVSDngkOZdgJDOuYMhzcDAtgEqzV0QycDAqGQSgCIdvQAqrcKwlIFB\n",
       "hIHtO1haxcXTxeUCA6MXA5OLyxQXX4bpIMWNDAwzkXULMQhCdX8EcecvYOgXQEgzuoZqQaXNGdgY\n",
       "GLoZGPoDxOxzoNKc//9/gEoL3T0Fdsx+qPNZEB5F8jfrHyiDCSGGFGrcDQz4gApeWV78mp8xMArg\n",
       "lmVNYOBZgFtaWklJG4/Z+////4xbFgDclDBJ9Q3pzAAAAABJRU5ErkJggg==\n",
       "\" style=\"display:inline;vertical-align:middle;\" /></a><br>"
      ],
      "text/plain": [
       "<IPython.core.display.HTML object>"
      ]
     },
     "metadata": {},
     "output_type": "display_data"
    }
   ],
   "source": [
    "expr_01, expr_02, expr_03, expr_04 = (\n",
    "    Exp(a, b), Exp(a, Add(b, c)), Exp(a, Add(b, c, d)), Exp(two, Add(one, two, c)))"
   ]
  },
  {
   "cell_type": "code",
   "execution_count": 52,
   "metadata": {},
   "outputs": [
    {
     "data": {
      "text/html": [
       "<strong id=\"temp_assumptions\">temp_assumptions:</strong> <a class=\"ProveItLink\" href=\"../__pv_it/demonstrations/29471d1812aac9c3578eb25d138901ef4e5f4fb70/expr.ipynb\"><img src=\"data:image/png;base64,iVBORw0KGgoAAAANSUhEUgAAASoAAAAZBAMAAAB0jX6rAAAAMFBMVEX///8AAAAAAAAAAAAAAAAA\n",
       "AAAAAAAAAAAAAAAAAAAAAAAAAAAAAAAAAAAAAAAAAAAv3aB7AAAAD3RSTlMAZkRUmRDNuyLviTJ2\n",
       "3asqG0tJAAAACXBIWXMAAA7EAAAOxAGVKw4bAAAC7UlEQVRIx82WTWgTQRiG3yS72TRb221BPSja\n",
       "iwcvmpN4EXPRCiJdD1oEaXKo0ILVrRpXQWkOYlGkxIvxYCEFwUMVPAj2pPHgQVtLwfpXDKZIW5Ae\n",
       "akNrsQrOTNpkZ5vO7MXQgexkkiff++b75g9AI0QtCnnzwijwCrFoAXFMy0MwL4wGr1AvfZzEBnPl\n",
       "y5JHd4VvfZ324pdusaIXBlvSPV1pQ+LKDX0AQqmKpkN5/2SCU2ztlzMV0tiHPVtNlyu9MyqCRskE\n",
       "y1R2lYH1Aoptp+3VZLZ7YNa6ug1Nz6PZvmrbRunT+ogIipmob1rP1ZEgn4eCB6aSKyUZd1dwrymC\n",
       "ggZeckDt9dzHkqLGKfoX5MyaOEVBy+3qiRBSLLxz0v6zZjkPU22cYnhMzqyJQwXrTuTdrtqFUG0K\n",
       "07Tve3yHjW+a5eroFzs4xeDsaETGIDyyjWOo4PN9Sc5V6MdwQQiRqti0u48ehnSU58y9b19Nbt+O\n",
       "nVGXZEzoPZo5Btatrr+v+b19d1JbEEL6Ms6R7pSBY2wcLysObI7zVTlo4oGM2ZRxMSQNDa5tWr0L\n",
       "JS6EQvMYJ10LMMFM9udyuU8r1Uk08NEOA79lTEuxKGWGCGrHDf6sm6PmRZA6z3KVpm/o0HKs+mca\n",
       "v3wn4C/ImPRKWMuRBj2a4JgaC7EmIRRiFVT/wDfHxmMORWWIX1oFKAsShgQCH4dO5KO9XJxYFjvF\n",
       "kL6EGRKsgLr4fjoecSiq1qsSRzOyTKefhPlJVg7HUMHWWsPJxCKYDiQFEF2Db0h3DQeibB0FIyXF\n",
       "KBq01W1fXSSPSVyCjCELcJBjYN2Az7jgZLRsYFwRQOTcT7HNv+3t0OxT9rOZXav3gV9J7XLpjMlR\n",
       "6GHx34iY8MB208nQ68AV2OcjDkadHewbFkFQ8qjhzkH/o5VDgG8B8z8w60H0HKx8Z3C1cBUZdmfQ\n",
       "Ux6401VkgB3k9d0Dl60iA3yW39ur39i9PZDZYK6K+2njBnN1CPgHhV8iWJj/fXEAAAAASUVORK5C\n",
       "YII=\n",
       "\" style=\"display:inline;vertical-align:middle;\" /></a><br>"
      ],
      "text/plain": [
       "<IPython.core.display.HTML object>"
      ]
     },
     "metadata": {},
     "output_type": "display_data"
    }
   ],
   "source": [
    "# some general assumptions\n",
    "temp_assumptions = [InSet(a, RealPos), InSet(b, RealPos),\n",
    "                    InSet(c, RealPos), InSet(d, RealPos)]"
   ]
  },
  {
   "cell_type": "code",
   "execution_count": 53,
   "metadata": {},
   "outputs": [
    {
     "name": "stdout",
     "output_type": "stream",
     "text": [
      "Error: 'Exp.exponent_separation()' implemented only for cases in which the exponent appears as a sum (i.e. in the Add class). The exponent in this case is b.\n"
     ]
    }
   ],
   "source": [
    "# nothing to do if the exponent is not a sum:\n",
    "try:\n",
    "    expr_01.exponent_separation()\n",
    "except Exception as the_exception:\n",
    "    print(\"Error: {}\".format(the_exception))"
   ]
  },
  {
   "cell_type": "code",
   "execution_count": 54,
   "metadata": {},
   "outputs": [
    {
     "data": {
      "text/html": [
       "<span style=\"font-size:20px;\"><a class=\"ProveItLink\" href=\"../__pv_it/theorems/5a0c211ed8c0f89e15d717d80d4627baae693acb0/expr.ipynb\"><img src=\"data:image/png;base64,iVBORw0KGgoAAAANSUhEUgAAAD8AAAATBAMAAADVH8ihAAAAMFBMVEX///8AAAAAAAAAAAAAAAAA\n",
       "AAAAAAAAAAAAAAAAAAAAAAAAAAAAAAAAAAAAAAAAAAAv3aB7AAAAD3RSTlMAIquJdkTvuxBmmd1U\n",
       "zTKBpmoTAAAACXBIWXMAAA7EAAAOxAGVKw4bAAAA3UlEQVQoz2NgwAO4GAgAdjIVzE2vv50+AZ8J\n",
       "BUIMQdMb8CkQZmDnU2BYXl5WXj4BhwIugQtYTHDfvfsCXEEBpoJYD4QJTB0KcAWMyo4OYPoGkhXP\n",
       "zwrAFYQJsP8A0bwCcAVit397wEOSI5OBawNYAZIjZ/YihfcHBm4DEOPZbiAogChg70R4j62AoT8A\n",
       "xGhHMoFvQQWc1+/AMB/M4EYOh3XiCAUHGHR5QO5jcUBS0M4Ct4PdgWcXJN7vwBVIMXBOKIXxOFTs\n",
       "hPzArKbSBlhsFjKU3z+AGQfB1ZCgRgEAfyQ4BfovW/4AAAAASUVORK5CYII=\n",
       "\" style=\"display:inline;vertical-align:middle;\" /></a>, <a class=\"ProveItLink\" href=\"../__pv_it/theorems/b9cae19a628b9412bdeba3850806ec1015c9b6ae0/expr.ipynb\"><img src=\"data:image/png;base64,iVBORw0KGgoAAAANSUhEUgAAAD0AAAATBAMAAADR6hicAAAAMFBMVEX///8AAAAAAAAAAAAAAAAA\n",
       "AAAAAAAAAAAAAAAAAAAAAAAAAAAAAAAAAAAAAAAAAAAv3aB7AAAAD3RSTlMAELvv3c2ZVESJq3Yi\n",
       "MmZ3LnoBAAAACXBIWXMAAA7EAAAOxAGVKw4bAAAA6ElEQVQoz2NgwA3YGPADJrLknxrphxg9gMsz\n",
       "KjugKVA4xdD1SACunzUBXf4kAxPvAoYkJWUlJaA5/AWY8mwHAuD6+wWg4ptcXALg8gpw+SlQ6daN\n",
       "CP1cggvg8lG7l4MonkAk8y+VHoC7/6uAPIjDegAufzjky0Z4+LF/ZGDeAJJHct87UaRADmDgnwCk\n",
       "L7sAgQJEnknuAVyeZQJDP8iHQkj6eRMU4Tyg9/NBPmRB9n/uIYT8BUY7EM29AUleiBtuAdcDJkgA\n",
       "h8PljzHwPdCA8RhX5kEYUhoCsPjTYVCKL8CI2E4VSPiiAAC5IjjtCVE78gAAAABJRU5ErkJggg==\n",
       "\" style=\"display:inline;vertical-align:middle;\" /></a>, <a class=\"ProveItLink\" href=\"../__pv_it/theorems/8c5864665d603ebc7e84fdb786d604e60f56fcc70/expr.ipynb\"><img src=\"data:image/png;base64,iVBORw0KGgoAAAANSUhEUgAAAD0AAAATBAMAAADR6hicAAAAMFBMVEX///8AAAAAAAAAAAAAAAAA\n",
       "AAAAAAAAAAAAAAAAAAAAAAAAAAAAAAAAAAAAAAAAAAAv3aB7AAAAD3RSTlMAiXZmMiLdVJm77xBE\n",
       "zatgdeJyAAAACXBIWXMAAA7EAAAOxAGVKw4bAAAA0ElEQVQoz2NgwA04GPADTrLkbVfOv7bSAI/+\n",
       "CXEM5yw34JEPZOBkecDQOXPWzJkG2OU5Ai5g6tdMS7sAl5+AIX9WG6Gfb/cDhLyQsgOQZL2NZL5n\n",
       "bQBcPqyAA2QYbwBcPuraN21E+CUycCmA5JHcZ7wXKZB/Q2ivNCCYAJHn3IzwF9cECL0TST9Lw2w4\n",
       "b78ChGZD9n9LJJzHDzTqAJBmUkCS38kEtwDoeEaQ/xiuw+UjGJgN5sANEDSGBMy+ORtg8TeVYeb9\n",
       "AoxwPzgNEr4oAABdmzkc2vbi6QAAAABJRU5ErkJggg==\n",
       "\" style=\"display:inline;vertical-align:middle;\" /></a> <a class=\"ProveItLink\" href=\"../__pv_it/demonstrations/fd32d4731ac5b1bca24e45ad826f340cc839e4630/proof.ipynb\" style=\"text-decoration: none\">&nbsp;&#x22A2;&nbsp;&nbsp;</a><a class=\"ProveItLink\" href=\"../__pv_it/demonstrations/d12ac05f4d8f9cd814bd35a2c14e8e8ee1667b0a0/expr.ipynb\"><img src=\"data:image/png;base64,iVBORw0KGgoAAAANSUhEUgAAAIkAAAAaBAMAAABx+GIXAAAAMFBMVEX///8AAAAAAAAAAAAAAAAA\n",
       "AAAAAAAAAAAAAAAAAAAAAAAAAAAAAAAAAAAAAAAAAAAv3aB7AAAAD3RSTlMAIquJdkTvuxBmmd1U\n",
       "zTKBpmoTAAAACXBIWXMAAA7EAAAOxAGVKw4bAAAB1ElEQVQ4y2NgAIO3BQxEAEKqmAxA5AJc0lOR\n",
       "VaEBLgST7QGIxGUVzwJkVWiAEaHrvYsGzBSTKRgKe1FUIQNmTwcGhHrvBi+oKdwBzzBMqURRhQy2\n",
       "8iUwcDcg1M2FmrKcoQ/DzQkoqpDDpIDjAQOLAoybx7CIq7w8vbySIRVL+BkgVKHKsAUACY4fMO4H\n",
       "hhyoWz5imsIfgKIKWUYARN6EcXdwFkBNucrAjG7K+wYUVUiAN4DBABQIUPDKBRbTUjM90E3xRlWF\n",
       "HGIrpwBtcAOxlB0doII40osuqiooEDIRgbLigSaFCbDDggcp7a7eDQKbwOxyBhRVEMCayFAP9en7\n",
       "BwwcmQxcG/Bnj0sMWFS1TWBYDWXKBzBwfWDgNsBvyi4GFFUcf0HkegaGzVCB/gAGtgIQScgtKKp2\n",
       "gYh0Bo6vMLc8YOh3YJiPRSdyuABNwVDF8YWB8wMsJQgw9B9g0OURwOsWdQZMVRx/GJguHITHEbsD\n",
       "zy4u/D4CpgdMVSUMpxdA43Qa0FAVOyE//KYA7cJU1eT8UAVa3CwippyE5Dk84CZRpnDhTwkcP4gy\n",
       "hS8BrzSnAlGmMOjgleUWIM6UXryyU4gzhIEHX8AwFhBpCqw+wh72wJwNANbHdsbyKwIwAAAAAElF\n",
       "TkSuQmCC\n",
       "\" style=\"display:inline;vertical-align:middle;\" /></a></span>"
      ],
      "text/plain": [
       "{a in RealPos, b in RealPos, c in RealPos} |- a^{b + c} = (a^{b} * a^{c})"
      ]
     },
     "metadata": {},
     "output_type": "display_data"
    }
   ],
   "source": [
    "# a 2-addend exponent\n",
    "expr_02.exponent_separation(assumptions=temp_assumptions)"
   ]
  },
  {
   "cell_type": "code",
   "execution_count": 55,
   "metadata": {},
   "outputs": [
    {
     "data": {
      "text/html": [
       "<span style=\"font-size:20px;\"><a class=\"ProveItLink\" href=\"../__pv_it/theorems/5a0c211ed8c0f89e15d717d80d4627baae693acb0/expr.ipynb\"><img src=\"data:image/png;base64,iVBORw0KGgoAAAANSUhEUgAAAD8AAAATBAMAAADVH8ihAAAAMFBMVEX///8AAAAAAAAAAAAAAAAA\n",
       "AAAAAAAAAAAAAAAAAAAAAAAAAAAAAAAAAAAAAAAAAAAv3aB7AAAAD3RSTlMAIquJdkTvuxBmmd1U\n",
       "zTKBpmoTAAAACXBIWXMAAA7EAAAOxAGVKw4bAAAA3UlEQVQoz2NgwAO4GAgAdjIVzE2vv50+AZ8J\n",
       "BUIMQdMb8CkQZmDnU2BYXl5WXj4BhwIugQtYTHDfvfsCXEEBpoJYD4QJTB0KcAWMyo4OYPoGkhXP\n",
       "zwrAFYQJsP8A0bwCcAVit397wEOSI5OBawNYAZIjZ/YihfcHBm4DEOPZbiAogChg70R4j62AoT8A\n",
       "xGhHMoFvQQWc1+/AMB/M4EYOh3XiCAUHGHR5QO5jcUBS0M4Ct4PdgWcXJN7vwBVIMXBOKIXxOFTs\n",
       "hPzArKbSBlhsFjKU3z+AGQfB1ZCgRgEAfyQ4BfovW/4AAAAASUVORK5CYII=\n",
       "\" style=\"display:inline;vertical-align:middle;\" /></a>, <a class=\"ProveItLink\" href=\"../__pv_it/theorems/b9cae19a628b9412bdeba3850806ec1015c9b6ae0/expr.ipynb\"><img src=\"data:image/png;base64,iVBORw0KGgoAAAANSUhEUgAAAD0AAAATBAMAAADR6hicAAAAMFBMVEX///8AAAAAAAAAAAAAAAAA\n",
       "AAAAAAAAAAAAAAAAAAAAAAAAAAAAAAAAAAAAAAAAAAAv3aB7AAAAD3RSTlMAELvv3c2ZVESJq3Yi\n",
       "MmZ3LnoBAAAACXBIWXMAAA7EAAAOxAGVKw4bAAAA6ElEQVQoz2NgwA3YGPADJrLknxrphxg9gMsz\n",
       "KjugKVA4xdD1SACunzUBXf4kAxPvAoYkJWUlJaA5/AWY8mwHAuD6+wWg4ptcXALg8gpw+SlQ6daN\n",
       "CP1cggvg8lG7l4MonkAk8y+VHoC7/6uAPIjDegAufzjky0Z4+LF/ZGDeAJJHct87UaRADmDgnwCk\n",
       "L7sAgQJEnknuAVyeZQJDP8iHQkj6eRMU4Tyg9/NBPmRB9n/uIYT8BUY7EM29AUleiBtuAdcDJkgA\n",
       "h8PljzHwPdCA8RhX5kEYUhoCsPjTYVCKL8CI2E4VSPiiAAC5IjjtCVE78gAAAABJRU5ErkJggg==\n",
       "\" style=\"display:inline;vertical-align:middle;\" /></a>, <a class=\"ProveItLink\" href=\"../__pv_it/theorems/8c5864665d603ebc7e84fdb786d604e60f56fcc70/expr.ipynb\"><img src=\"data:image/png;base64,iVBORw0KGgoAAAANSUhEUgAAAD0AAAATBAMAAADR6hicAAAAMFBMVEX///8AAAAAAAAAAAAAAAAA\n",
       "AAAAAAAAAAAAAAAAAAAAAAAAAAAAAAAAAAAAAAAAAAAv3aB7AAAAD3RSTlMAiXZmMiLdVJm77xBE\n",
       "zatgdeJyAAAACXBIWXMAAA7EAAAOxAGVKw4bAAAA0ElEQVQoz2NgwA04GPADTrLkbVfOv7bSAI/+\n",
       "CXEM5yw34JEPZOBkecDQOXPWzJkG2OU5Ai5g6tdMS7sAl5+AIX9WG6Gfb/cDhLyQsgOQZL2NZL5n\n",
       "bQBcPqyAA2QYbwBcPuraN21E+CUycCmA5JHcZ7wXKZB/Q2ivNCCYAJHn3IzwF9cECL0TST9Lw2w4\n",
       "b78ChGZD9n9LJJzHDzTqAJBmUkCS38kEtwDoeEaQ/xiuw+UjGJgN5sANEDSGBMy+ORtg8TeVYeb9\n",
       "AoxwPzgNEr4oAABdmzkc2vbi6QAAAABJRU5ErkJggg==\n",
       "\" style=\"display:inline;vertical-align:middle;\" /></a>, <a class=\"ProveItLink\" href=\"../__pv_it/demonstrations/47bc8cc554bef16e22bc6aac513e386b62872e270/expr.ipynb\"><img src=\"data:image/png;base64,iVBORw0KGgoAAAANSUhEUgAAAD8AAAATBAMAAADVH8ihAAAAMFBMVEX///8AAAAAAAAAAAAAAAAA\n",
       "AAAAAAAAAAAAAAAAAAAAAAAAAAAAAAAAAAAAAAAAAAAv3aB7AAAAD3RSTlMAMs3vmVREEIndIqt2\n",
       "u2aBbGR5AAAACXBIWXMAAA7EAAAOxAGVKw4bAAAA80lEQVQoz2NgwANYGAgAXjIVPLK9r2n7AFkB\n",
       "o7IDiooLqxmy3xYgm8AfgKpgBQMv4wYG37uX794Fm8SQX4CugGWBArIJnRDq7MyZCnAFF5AVqIDJ\n",
       "pOMIE7jLN8AVcO04+BVMqyNZIRu0AK4geQHvdxDNtACuYLHmz+PwkGS3Y2AB28yE5Mh3RUjh/YGB\n",
       "swHEEJ4JBBcgCnjrHsAVMF9gqE8AMWqRTGB0uA7n1R9geA9mcCKHg+NahIIAhk2sIPfxHEBSUMsD\n",
       "t4P3AOsUSLyrwhUsYeB7cA3GY9/TuPogmFV9rQAWm7cY7uoHYMZzxk1IUKMAALvkT+IOeAJ3AAAA\n",
       "AElFTkSuQmCC\n",
       "\" style=\"display:inline;vertical-align:middle;\" /></a> <a class=\"ProveItLink\" href=\"../__pv_it/demonstrations/3e9e583d949e042fbd6b1643850507233407663b0/proof.ipynb\" style=\"text-decoration: none\">&nbsp;&#x22A2;&nbsp;&nbsp;</a><a class=\"ProveItLink\" href=\"../__pv_it/demonstrations/6ce1c12c47c009de372ec5b1b680959cc4a062a40/expr.ipynb\"><img src=\"data:image/png;base64,iVBORw0KGgoAAAANSUhEUgAAAMMAAAAaBAMAAAD4YPV+AAAAMFBMVEX///8AAAAAAAAAAAAAAAAA\n",
       "AAAAAAAAAAAAAAAAAAAAAAAAAAAAAAAAAAAAAAAAAAAv3aB7AAAAD3RSTlMAIquJdkTvuxBmmd1U\n",
       "zTKBpmoTAAAACXBIWXMAAA7EAAAOxAGVKw4bAAACUUlEQVRIx5VWPWgUQRT+Lol7c7vnuQQrmwsY\n",
       "0MLAFWnS6EmCiQZlKwsbk0KCILJF4EjloiCCxEuxioLikkZiCv8Q5GwU7GyCaJHubAQF2QsoXKHB\n",
       "2cvs3b6ZW2/nK+beezPf+97Oe3t3QAc/XfTB8C7S0J8g4UQz4QxVojXo+ntWrqXS7iYJA1CG2XOM\n",
       "jl6vsj1rRC21GCQJAzCLXC9DOHM0TjzpC4tNna0qrFVCILd6Wjp9w/8M+F133jsjElvON2HdtkO1\n",
       "1BVCSOJ1aYH47EWJt9LyesxHIvET3BHWU4SKQm6BEBIwXUYLMoMSb+XIWOxfxbpZqy3VVnCJb8bW\n",
       "rCJhVnoEumM4kANRK1k79lu4ImrfidvNdrB8S5Y44BBCcseWjtbt/By/pe3Yf1NwhcQXDAtrsbR7\n",
       "X5YIPUJIYL8DOseGHX73oosX+DETj+qhB3PCuvBwek2WmKeEZJc2fI8E9m18mOIfp6K9wyer5G2g\n",
       "FsUEJQiMTh5MDVzkwuftfJu809QCNt9GeNmxayAEUe8irnlpAT747DLM58iKT+hDuLmGzdRA2YHZ\n",
       "glXJLNEAIbC/0foMeNWdoy054MBwo1XjKQihES1LYL/jgBVIgXIT9Soe/z9tshdcQiGwXyi0UgOh\n",
       "jfo7TBTtrE9xBCqB/cHQ1vu0AJ+ofLXYMDNfFJ9ylbCMj0GQFrjHJcePj57LLMFrUgnXp7+ON9MC\n",
       "69CE4egytnUJZkWTwNq6EtLPzmAUxnQlcEzzvGVrS6xqnve1FVDUa0bO1ZeI/0dlHQ/+hfsPiBGq\n",
       "rscQtGEAAAAASUVORK5CYII=\n",
       "\" style=\"display:inline;vertical-align:middle;\" /></a></span>"
      ],
      "text/plain": [
       "{a in RealPos, b in RealPos, c in RealPos, d in RealPos} |- a^{b + c + d} = (a^{b} * a^{c} * a^{d})"
      ]
     },
     "metadata": {},
     "output_type": "display_data"
    }
   ],
   "source": [
    "# a 3-addend exponent\n",
    "expr_03.exponent_separation(assumptions=temp_assumptions)"
   ]
  },
  {
   "cell_type": "code",
   "execution_count": 56,
   "metadata": {},
   "outputs": [
    {
     "data": {
      "text/html": [
       "<span style=\"font-size:20px;\"><a class=\"ProveItLink\" href=\"../__pv_it/theorems/8c5864665d603ebc7e84fdb786d604e60f56fcc70/expr.ipynb\"><img src=\"data:image/png;base64,iVBORw0KGgoAAAANSUhEUgAAAD0AAAATBAMAAADR6hicAAAAMFBMVEX///8AAAAAAAAAAAAAAAAA\n",
       "AAAAAAAAAAAAAAAAAAAAAAAAAAAAAAAAAAAAAAAAAAAv3aB7AAAAD3RSTlMAiXZmMiLdVJm77xBE\n",
       "zatgdeJyAAAACXBIWXMAAA7EAAAOxAGVKw4bAAAA0ElEQVQoz2NgwA04GPADTrLkbVfOv7bSAI/+\n",
       "CXEM5yw34JEPZOBkecDQOXPWzJkG2OU5Ai5g6tdMS7sAl5+AIX9WG6Gfb/cDhLyQsgOQZL2NZL5n\n",
       "bQBcPqyAA2QYbwBcPuraN21E+CUycCmA5JHcZ7wXKZB/Q2ivNCCYAJHn3IzwF9cECL0TST9Lw2w4\n",
       "b78ChGZD9n9LJJzHDzTqAJBmUkCS38kEtwDoeEaQ/xiuw+UjGJgN5sANEDSGBMy+ORtg8TeVYeb9\n",
       "AoxwPzgNEr4oAABdmzkc2vbi6QAAAABJRU5ErkJggg==\n",
       "\" style=\"display:inline;vertical-align:middle;\" /></a> <a class=\"ProveItLink\" href=\"../__pv_it/demonstrations/5a7f54998a40201ec113912de44f6cca8105ccb30/proof.ipynb\" style=\"text-decoration: none\">&nbsp;&#x22A2;&nbsp;&nbsp;</a><a class=\"ProveItLink\" href=\"../__pv_it/demonstrations/1f17594905b2387f40d5714f6dfd225354549c460/expr.ipynb\"><img src=\"data:image/png;base64,iVBORw0KGgoAAAANSUhEUgAAALcAAAAaBAMAAAAHwtCcAAAAMFBMVEX///8AAAAAAAAAAAAAAAAA\n",
       "AAAAAAAAAAAAAAAAAAAAAAAAAAAAAAAAAAAAAAAAAAAv3aB7AAAAD3RSTlMAIpnNuzKJRKvvEN12\n",
       "ZlQ4bmvwAAAACXBIWXMAAA7EAAAOxAGVKw4bAAACZ0lEQVRIx5VWMWsUQRT+dpM993bvzHocgljk\n",
       "WEMQg2ARsApesSkUhEOIEBTuKhEMZP+BZyexSAohpMo12uawUbRIWhUhYKNygliksYlICITAOjM7\n",
       "uzPuzMnsg9m9ed9737x5897sAVS8z+DiPXg6QEl5+XDtf/D9j/Rps2EPyas1zrIeq7oW5lSlLX7+\n",
       "oo9JMqZi64i82uPIf2p0x5juKEqrrZLXB4J8ZaS4eNc05N8U8sqnPYxUcgIMObkfLys8k/va/Twq\n",
       "zF87G/DJ2VnhfOcf8nsDTj6DFwrLBTIalxbF5pm381ZYUNRuex3U+kATlWNGPhPdjKJ9WLdgR9Hz\n",
       "6DY2NSHOsmSu5qeaejcHcqpX4yrFvRPgCbAlR97AOR75b+3ZwQ1Q3cjmzNtqWUGmYOgUmy4A2wOs\n",
       "B4LcWly6wsmvo1Lkdkg01RO4+brMu7l0Jw+doRMxejSteAasd87fWOHk1SQ55OSN7x+K5DVy2O4Q\n",
       "7lGmYN7bSZJbMNS6OiKrvWeK3awUBMuYOnfTSvQPJd1u0ShDH9PtOKdqU0kdar9j0mfLp4t296RM\n",
       "nRbJM7RLi9/vG98iE6npGzlOxTtDp2NWz8bisx3ZLP6dNEXCmyvsLKU7hLxuHjiP/Iu0kOSdKjhK\n",
       "IydpOYCoUp3IOWfkZ3usFVJRvAXaDeD0UDO+wV265btAXqOqt0BJtVwMwznjtNRIa1qvwnCYKRRv\n",
       "Cf1KyjRJ/hiTnyEd6idJkl+8ireEXi77RdssYbtQlnzW3JTeiuVk2dy0TInzcvlh3nBBWXLtN1Qv\n",
       "I5SWA1NDq12eXPe/Rd/YpLf+ApWrmSeFu0s6AAAAAElFTkSuQmCC\n",
       "\" style=\"display:inline;vertical-align:middle;\" /></a></span>"
      ],
      "text/plain": [
       "{c in RealPos} |- 2^{1 + 2 + c} = (2 * 2^{2} * 2^{c})"
      ]
     },
     "metadata": {},
     "output_type": "display_data"
    }
   ],
   "source": [
    "# a 3-addend exponent\n",
    "expr_04.exponent_separation(assumptions=temp_assumptions)"
   ]
  },
  {
   "cell_type": "markdown",
   "metadata": {},
   "source": [
    "### Testing Exp.factorization()"
   ]
  },
  {
   "cell_type": "code",
   "execution_count": 57,
   "metadata": {},
   "outputs": [
    {
     "data": {
      "text/html": [
       "<strong id=\"factorization_assumptions\">factorization_assumptions:</strong> <a class=\"ProveItLink\" href=\"../__pv_it/demonstrations/577f014ee906f4c628085ada1720112a5e53e3440/expr.ipynb\"><img src=\"data:image/png;base64,iVBORw0KGgoAAAANSUhEUgAAAHoAAAAVBAMAAAB71edYAAAAMFBMVEX///8AAAAAAAAAAAAAAAAA\n",
       "AAAAAAAAAAAAAAAAAAAAAAAAAAAAAAAAAAAAAAAAAAAv3aB7AAAAD3RSTlMAInZUiRDNmWbv3US7\n",
       "qzJazP2FAAAACXBIWXMAAA7EAAAOxAGVKw4bAAACA0lEQVQ4y52UP0jcUBzHv8mRi3c+zwxCERRi\n",
       "QeggkkEP7HSjFJQslQ7KnRShCmIEh06aRblB6GQp1EGUUjwHHaTgIMbKif9AsSod7VQURUF0KA7+\n",
       "XhKveXdnBt8Qfu998sl77/d7LwA0PK9J/CEbpWBien9g2n7Cqujfu5vfAip16rSUe8Opx+qk6YbK\n",
       "9kwRZNJB5e888IpgpqxdA5Y48OKoVWKn4FwSMKHaT9iq5n+32ihjD0dpCxZiAmjK5TIF2/HG1swi\n",
       "6NqMgikkg/KPxv9zV731V/6mGHL7uIeCDxjhuT9q0N0a9AVWfpH0Szn48pcIyU5s9FLQQT6worFb\n",
       "Nz+F0ju1A//8qZQ7M60JkEmfF2f5diYwR/wLVLcq0UDWsl1+GLlFTBcgk9rH3QS04SugXiOe4r2z\n",
       "HDXHs9k7vxhqBtUpAdLK81keXHE75iC9xHvdgbkTVt4L6cNrhgDJ/sv4ylf4ytM6PnkvBus9Wlco\n",
       "95gpQLLVP3wVr/GTbAMnEZ4TWQ/Y3bINhdunlBcBkq04dEwxSVkH0yPfVXf8fcF+gQp7F2lKTpXN\n",
       "LBEyyUKW0V5HcE45P+ysb3bHe3bNxzu2jr0hI/6N6NFHCJDu2L3GNm+ABcRPg4dteScn3JrWMCjN\n",
       "8KMe0lJhkF+w9RCu6GF2nVDH0iaH/pr4vJL+zP+arOEBd0+EW1wcYv8AAAAASUVORK5CYII=\n",
       "\" style=\"display:inline;vertical-align:middle;\" /></a><br>"
      ],
      "text/plain": [
       "<IPython.core.display.HTML object>"
      ]
     },
     "metadata": {},
     "output_type": "display_data"
    }
   ],
   "source": [
    "factorization_assumptions = [InSet(a, Real), InSet(b, Real)]"
   ]
  },
  {
   "cell_type": "code",
   "execution_count": 58,
   "metadata": {},
   "outputs": [
    {
     "data": {
      "text/html": [
       "<strong id=\"exp_a_b\">exp_a_b:</strong> <a class=\"ProveItLink\" href=\"../__pv_it/theorems/30a87e0fd349eb957cda18d62242a4c55ae3e4ad0/expr.ipynb\"><img src=\"data:image/png;base64,iVBORw0KGgoAAAANSUhEUgAAABIAAAATBAMAAABvvEDBAAAAMFBMVEX///8AAAAAAAAAAAAAAAAA\n",
       "AAAAAAAAAAAAAAAAAAAAAAAAAAAAAAAAAAAAAAAAAAAv3aB7AAAAD3RSTlMAIquJdkTvuxBmmd1U\n",
       "zTKBpmoTAAAACXBIWXMAAA7EAAAOxAGVKw4bAAAAcklEQVQI12NgAIO3BQxQwGQAY7E9gLHeu2hA\n",
       "Wd4NXlBWJcNcKCuPYRGU9YEhB8rawQkz8JULkGBUdnSAcMME2H+AGRyZDFwbwCyuDwzcEEvZChj6\n",
       "A8CsfgeG+RAN/QcYdHkEQCx2B55dXBC9KnZCfiAGAJFSFW2QqYUbAAAAAElFTkSuQmCC\n",
       "\" style=\"display:inline;vertical-align:middle;\" /></a><br>"
      ],
      "text/plain": [
       "<IPython.core.display.HTML object>"
      ]
     },
     "metadata": {},
     "output_type": "display_data"
    }
   ],
   "source": [
    "exp_a_b = Exp(a, b)"
   ]
  },
  {
   "cell_type": "code",
   "execution_count": 59,
   "metadata": {},
   "outputs": [
    {
     "data": {
      "text/html": [
       "<span style=\"font-size:20px;\"> <a class=\"ProveItLink\" href=\"../__pv_it/demonstrations/45723413862bd081b575a5b179dad768507ffc060/proof.ipynb\" style=\"text-decoration: none\">&nbsp;&#x22A2;&nbsp;&nbsp;</a><a class=\"ProveItLink\" href=\"../__pv_it/demonstrations/8df1427344b8a9f4d07a1d2626b28764206b2d950/expr.ipynb\"><img src=\"data:image/png;base64,iVBORw0KGgoAAAANSUhEUgAAAEEAAAATBAMAAAA9n32KAAAAMFBMVEX///8AAAAAAAAAAAAAAAAA\n",
       "AAAAAAAAAAAAAAAAAAAAAAAAAAAAAAAAAAAAAAAAAAAv3aB7AAAAD3RSTlMAIquJdkTvuxBmmd1U\n",
       "zTKBpmoTAAAACXBIWXMAAA7EAAAOxAGVKw4bAAAA6klEQVQoz2NgAIO3BQzYAN91OJPJAKsKBmU4\n",
       "i+0BdhV5cNZ7Fw2stnxxaoAyvRu8sKlg2cGyAMqsZJiLTQX7BM4LcPsWYVPB9oBLAcr8wJCDTQU/\n",
       "A9sBKHMHJ9YA4W6YDmO+csEeYkscgCSjsqMDNlkhExEoK0yA/QdMdPVuENgEYrImMtRDwoIjk4Fr\n",
       "AxYj2iYwrIawuD4wcGOLlPUMDJuhXi5g6A/AoiKdgeMrhNXvwDCfAdMdHF8YOD9AVRxg0OURwDCC\n",
       "4w8D04WDkKB34NnFhcWWEobTCyCxxqFiJ+SHRUWT80MVcKIBAKzMOXMnVLEkAAAAAElFTkSuQmCC\n",
       "\" style=\"display:inline;vertical-align:middle;\" /></a></span>"
      ],
      "text/plain": [
       "|- a^{b} = a^{b}"
      ]
     },
     "metadata": {},
     "output_type": "display_data"
    }
   ],
   "source": [
    "# when the desired factor supplied is just the expression itself\n",
    "exp_a_b.factorization(Exp(a, b), assumptions = factorization_assumptions)"
   ]
  },
  {
   "cell_type": "code",
   "execution_count": 60,
   "metadata": {},
   "outputs": [
    {
     "data": {
      "text/html": [
       "<span style=\"font-size:20px;\"><a class=\"ProveItLink\" href=\"../../ordering/__pv_it/theorems/4aa8d696b1f407d6126de9f51a052e8d90e0848c0/expr.ipynb\"><img src=\"data:image/png;base64,iVBORw0KGgoAAAANSUhEUgAAADMAAAAQBAMAAABJt1qBAAAAMFBMVEX///8AAAAAAAAAAAAAAAAA\n",
       "AAAAAAAAAAAAAAAAAAAAAAAAAAAAAAAAAAAAAAAAAAAv3aB7AAAAD3RSTlMAIquJdkTvuxBmmd1U\n",
       "zTKBpmoTAAAACXBIWXMAAA7EAAAOxAGVKw4bAAAAzElEQVQY02NgwABz0+tvp09gwAoKhBiCpjdg\n",
       "lxJmYOdTwCXFJXABRch99+4LcKkCZJlYD4Qupg6QgYzKjg4gAcYbSAY+PysAZIQJsP8ACfAKwKXE\n",
       "bv8GmcCRycC1ASyF5IyZvSCa6wMDtwGI8Ww3EBRApNg7QV5mK2DoDwAJtCPp4ltQAaT7HRjmgwW4\n",
       "kf21ThwkdYBBlwfkAhYHJKl2FqCJ7A48u7jAInfgUlIMnBNKgS5UsRPyA4s0lTbAQr6Qofz+AeTg\n",
       "CK7ejRxyAISENKeL/c93AAAAAElFTkSuQmCC\n",
       "\" style=\"display:inline;vertical-align:middle;\" /></a>, <a class=\"ProveItLink\" href=\"../__pv_it/theorems/035e0ae7bd8c0fe127ee5d2062443d6c874adcdd0/expr.ipynb\"><img src=\"data:image/png;base64,iVBORw0KGgoAAAANSUhEUgAAADAAAAAQBAMAAACigOGCAAAAMFBMVEX///8AAAAAAAAAAAAAAAAA\n",
       "AAAAAAAAAAAAAAAAAAAAAAAAAAAAAAAAAAAAAAAAAAAv3aB7AAAAD3RSTlMAELvv3c2ZVESJq3Yi\n",
       "MmZ3LnoBAAAACXBIWXMAAA7EAAAOxAGVKw4bAAAA50lEQVQY02NgQAfswZ+DXJQfMDAqO6BKcGtd\n",
       "YAhgBTJYE1Al2BIYuB9MBzL4C1AluA4wCDEqABn9AlAjVFxcQTQjA0Mu1wUgYwpEnCNaAKaHd8E1\n",
       "EBW1ezmIOgoXZ2ASUATp/CogfwBIxyBsqeTbAHL2RwZmEB2AkAA7loEtgIF/AtBcExcXFyeIKwpm\n",
       "MDAIMLBMYOgHOhjsQAgQ4gGy14C8kQ+yF+H/tUCfMH5g4L/AaAfi7oY7NqEN6EsHBq4HTOAwYS2A\n",
       "OzaQgUddgYFxZR6Yz7ioESLRrGqkZG80AeFIjkmQIIECANNVKrcrbsjPAAAAAElFTkSuQmCC\n",
       "\" style=\"display:inline;vertical-align:middle;\" /></a>, <a class=\"ProveItLink\" href=\"../../number_sets/integers/__pv_it/theorems/1759e791f6052d2463eefaaf9e2fa309cc3375160/expr.ipynb\"><img src=\"data:image/png;base64,iVBORw0KGgoAAAANSUhEUgAAADEAAAAUCAMAAAATIyWrAAAAPFBMVEX///8AAAAAAAAAAAAAAAAA\n",
       "AAAAAAAAAAAAAAAAAAAAAAAAAAAAAAAAAAAAAAAAAAAAAAAAAAAAAAAAAAAo1xBWAAAAE3RSTlMA\n",
       "IquJdkTvuxBmmd1UzTLn9enzF+Xi+wAAAAlwSFlzAAAOxAAADsQBlSsOGwAAANlJREFUKM+VktkS\n",
       "wyAIRVGMCy5d/P9/rZBJY5qWTniIIfFyvAiAFhThWrQwZ4iOzB9FaFNSC0DMuqTZKUlZOEFHzAWD\n",
       "yEvXnC0zAjoJthdejEVn3ElRZ0TcFIlr+fEr7DjKErc7PzeO6bgqRuXok2xTEbtiLNT5NeOnCzqk\n",
       "cVUszPBBPiwqYnNehvPIKkh9Gg0+/+O5unn3K8hNpGE3Sr9shXIoWj/7nrxUqywejJIJDucudGp2\n",
       "5inxPDfROmzGuqYixj5CZ9uv6y54ccq/IfRIlxH5KgKa9vMF/x0G2+xofVIAAAAASUVORK5CYII=\n",
       "\" style=\"display:inline;vertical-align:middle;\" /></a> <a class=\"ProveItLink\" href=\"../__pv_it/demonstrations/5382765e9210db1fcdf2fee33d527fa431d8e27e0/proof.ipynb\" style=\"text-decoration: none\">&nbsp;&#x22A2;&nbsp;&nbsp;</a><a class=\"ProveItLink\" href=\"../__pv_it/demonstrations/a0f41520aa54f963da2b493636eb6be5f5c56c8a0/expr.ipynb\"><img src=\"data:image/png;base64,iVBORw0KGgoAAAANSUhEUgAAAIIAAAAaBAMAAACJGJngAAAAMFBMVEX///8AAAAAAAAAAAAAAAAA\n",
       "AAAAAAAAAAAAAAAAAAAAAAAAAAAAAAAAAAAAAAAAAAAv3aB7AAAAD3RSTlMAIquJdkTvuxBmmd1U\n",
       "zTKBpmoTAAAACXBIWXMAAA7EAAAOxAGVKw4bAAAByUlEQVQ4y2NgAIO3BQzEAb7rcGbnBWQJJgMs\n",
       "qqdiM0IZbpbLBgaGBXBxtgeYankWYDMhDyEPNEEcznvvooGhtherL744NSCZwOkAk/Bu8MJQXInN\n",
       "BJYdLAuQTGDYgVA9F10tYwI2E9gncF5ANsEJ4btF6Gq5sAUuMMC4FJ6XA4EAxIR+mJ8+MOSgq+UP\n",
       "wGYCPwPbAWQ38E6A8nZwYiSI9w3YTOBumI4cFwxcMH2vXDDUemNPUUtgoc9o+xnIZAGGFqOyowM2\n",
       "tbogQshEBCGCwoEC1h8MDGEC7D/gobcbDBRA7HKQfCJDPdwzKBy4m/4xcGQycG3A5oZLQNw2gWE1\n",
       "XACFA4/zrwxcHxi4scbbLiBez8CwGcTuv4DEQQEcXxnYChj6A3C5IR2kAhQDC5A4qG74x9DvwDCf\n",
       "AVs4AE3g+MLA+QFuGzIHEQ4fGfoPMOjyCGBxgzpQ0x8GpgsHYSYgc5Djgt2BZxcXNl+4AXEJw+kF\n",
       "8DyOwoEBzgQGDhU7IT9sJsQDY67J+aEKvORA4cD9rYC7PGMLIKbUg+cLLAB73kQH/Q14ytQEYkyY\n",
       "hE9ShxgTNuKT7CXCAE4HfLI8RASEOH7pqYRNWMHAAADx9nLzijDSGAAAAABJRU5ErkJggg==\n",
       "\" style=\"display:inline;vertical-align:middle;\" /></a></span>"
      ],
      "text/plain": [
       "{a in Real, b in Integer, a != 0} |- a^{b} = (a * a^{b - 1})"
      ]
     },
     "metadata": {},
     "output_type": "display_data"
    }
   ],
   "source": [
    "# when the desired factor supplied is just the base itself\n",
    "# and the base is known to be a non-zero Real\n",
    "exp_a_b.factorization(\n",
    "        a,\n",
    "        assumptions = [InSet(a, Real), InSet(b, Integer), NotEquals(a, zero)])"
   ]
  },
  {
   "cell_type": "code",
   "execution_count": 61,
   "metadata": {},
   "outputs": [
    {
     "data": {
      "text/html": [
       "<span style=\"font-size:20px;\"><a class=\"ProveItLink\" href=\"../__pv_it/theorems/5a0c211ed8c0f89e15d717d80d4627baae693acb0/expr.ipynb\"><img src=\"data:image/png;base64,iVBORw0KGgoAAAANSUhEUgAAAD8AAAATBAMAAADVH8ihAAAAMFBMVEX///8AAAAAAAAAAAAAAAAA\n",
       "AAAAAAAAAAAAAAAAAAAAAAAAAAAAAAAAAAAAAAAAAAAv3aB7AAAAD3RSTlMAIquJdkTvuxBmmd1U\n",
       "zTKBpmoTAAAACXBIWXMAAA7EAAAOxAGVKw4bAAAA3UlEQVQoz2NgwAO4GAgAdjIVzE2vv50+AZ8J\n",
       "BUIMQdMb8CkQZmDnU2BYXl5WXj4BhwIugQtYTHDfvfsCXEEBpoJYD4QJTB0KcAWMyo4OYPoGkhXP\n",
       "zwrAFYQJsP8A0bwCcAVit397wEOSI5OBawNYAZIjZ/YihfcHBm4DEOPZbiAogChg70R4j62AoT8A\n",
       "xGhHMoFvQQWc1+/AMB/M4EYOh3XiCAUHGHR5QO5jcUBS0M4Ct4PdgWcXJN7vwBVIMXBOKIXxOFTs\n",
       "hPzArKbSBlhsFjKU3z+AGQfB1ZCgRgEAfyQ4BfovW/4AAAAASUVORK5CYII=\n",
       "\" style=\"display:inline;vertical-align:middle;\" /></a>, <a class=\"ProveItLink\" href=\"../__pv_it/theorems/035e0ae7bd8c0fe127ee5d2062443d6c874adcdd0/expr.ipynb\"><img src=\"data:image/png;base64,iVBORw0KGgoAAAANSUhEUgAAADAAAAAQBAMAAACigOGCAAAAMFBMVEX///8AAAAAAAAAAAAAAAAA\n",
       "AAAAAAAAAAAAAAAAAAAAAAAAAAAAAAAAAAAAAAAAAAAv3aB7AAAAD3RSTlMAELvv3c2ZVESJq3Yi\n",
       "MmZ3LnoBAAAACXBIWXMAAA7EAAAOxAGVKw4bAAAA50lEQVQY02NgQAfswZ+DXJQfMDAqO6BKcGtd\n",
       "YAhgBTJYE1Al2BIYuB9MBzL4C1AluA4wCDEqABn9AlAjVFxcQTQjA0Mu1wUgYwpEnCNaAKaHd8E1\n",
       "EBW1ezmIOgoXZ2ASUATp/CogfwBIxyBsqeTbAHL2RwZmEB2AkAA7loEtgIF/AtBcExcXFyeIKwpm\n",
       "MDAIMLBMYOgHOhjsQAgQ4gGy14C8kQ+yF+H/tUCfMH5g4L/AaAfi7oY7NqEN6EsHBq4HTOAwYS2A\n",
       "OzaQgUddgYFxZR6Yz7ioESLRrGqkZG80AeFIjkmQIIECANNVKrcrbsjPAAAAAElFTkSuQmCC\n",
       "\" style=\"display:inline;vertical-align:middle;\" /></a> <a class=\"ProveItLink\" href=\"../__pv_it/demonstrations/a18a8c496ab61a10168462d7888f685fc0b18b5c0/proof.ipynb\" style=\"text-decoration: none\">&nbsp;&#x22A2;&nbsp;&nbsp;</a><a class=\"ProveItLink\" href=\"../__pv_it/demonstrations/a0f41520aa54f963da2b493636eb6be5f5c56c8a0/expr.ipynb\"><img src=\"data:image/png;base64,iVBORw0KGgoAAAANSUhEUgAAAIIAAAAaBAMAAACJGJngAAAAMFBMVEX///8AAAAAAAAAAAAAAAAA\n",
       "AAAAAAAAAAAAAAAAAAAAAAAAAAAAAAAAAAAAAAAAAAAv3aB7AAAAD3RSTlMAIquJdkTvuxBmmd1U\n",
       "zTKBpmoTAAAACXBIWXMAAA7EAAAOxAGVKw4bAAAByUlEQVQ4y2NgAIO3BQzEAb7rcGbnBWQJJgMs\n",
       "qqdiM0IZbpbLBgaGBXBxtgeYankWYDMhDyEPNEEcznvvooGhtherL744NSCZwOkAk/Bu8MJQXInN\n",
       "BJYdLAuQTGDYgVA9F10tYwI2E9gncF5ANsEJ4btF6Gq5sAUuMMC4FJ6XA4EAxIR+mJ8+MOSgq+UP\n",
       "wGYCPwPbAWQ38E6A8nZwYiSI9w3YTOBumI4cFwxcMH2vXDDUemNPUUtgoc9o+xnIZAGGFqOyowM2\n",
       "tbogQshEBCGCwoEC1h8MDGEC7D/gobcbDBRA7HKQfCJDPdwzKBy4m/4xcGQycG3A5oZLQNw2gWE1\n",
       "XACFA4/zrwxcHxi4scbbLiBez8CwGcTuv4DEQQEcXxnYChj6A3C5IR2kAhQDC5A4qG74x9DvwDCf\n",
       "AVs4AE3g+MLA+QFuGzIHEQ4fGfoPMOjyCGBxgzpQ0x8GpgsHYSYgc5Djgt2BZxcXNl+4AXEJw+kF\n",
       "8DyOwoEBzgQGDhU7IT9sJsQDY67J+aEKvORA4cD9rYC7PGMLIKbUg+cLLAB73kQH/Q14ytQEYkyY\n",
       "hE9ShxgTNuKT7CXCAE4HfLI8RASEOH7pqYRNWMHAAADx9nLzijDSGAAAAABJRU5ErkJggg==\n",
       "\" style=\"display:inline;vertical-align:middle;\" /></a></span>"
      ],
      "text/plain": [
       "{a in RealPos, b in Integer} |- a^{b} = (a * a^{b - 1})"
      ]
     },
     "metadata": {},
     "output_type": "display_data"
    }
   ],
   "source": [
    "# when the desired factor supplied is just the base itself\n",
    "# and the base is known to be in RealPos\n",
    "exp_a_b.factorization(\n",
    "        a,\n",
    "        assumptions = [InSet(a, RealPos), InSet(b, Integer)])"
   ]
  },
  {
   "cell_type": "code",
   "execution_count": 62,
   "metadata": {},
   "outputs": [
    {
     "data": {
      "text/html": [
       "<span style=\"font-size:20px;\"><a class=\"ProveItLink\" href=\"../__pv_it/theorems/5a0c211ed8c0f89e15d717d80d4627baae693acb0/expr.ipynb\"><img src=\"data:image/png;base64,iVBORw0KGgoAAAANSUhEUgAAAD8AAAATBAMAAADVH8ihAAAAMFBMVEX///8AAAAAAAAAAAAAAAAA\n",
       "AAAAAAAAAAAAAAAAAAAAAAAAAAAAAAAAAAAAAAAAAAAv3aB7AAAAD3RSTlMAIquJdkTvuxBmmd1U\n",
       "zTKBpmoTAAAACXBIWXMAAA7EAAAOxAGVKw4bAAAA3UlEQVQoz2NgwAO4GAgAdjIVzE2vv50+AZ8J\n",
       "BUIMQdMb8CkQZmDnU2BYXl5WXj4BhwIugQtYTHDfvfsCXEEBpoJYD4QJTB0KcAWMyo4OYPoGkhXP\n",
       "zwrAFYQJsP8A0bwCcAVit397wEOSI5OBawNYAZIjZ/YihfcHBm4DEOPZbiAogChg70R4j62AoT8A\n",
       "xGhHMoFvQQWc1+/AMB/M4EYOh3XiCAUHGHR5QO5jcUBS0M4Ct4PdgWcXJN7vwBVIMXBOKIXxOFTs\n",
       "hPzArKbSBlhsFjKU3z+AGQfB1ZCgRgEAfyQ4BfovW/4AAAAASUVORK5CYII=\n",
       "\" style=\"display:inline;vertical-align:middle;\" /></a> <a class=\"ProveItLink\" href=\"../__pv_it/demonstrations/6a0eba1593fbfeb8d2497b46effba9c6342413bb0/proof.ipynb\" style=\"text-decoration: none\">&nbsp;&#x22A2;&nbsp;&nbsp;</a><a class=\"ProveItLink\" href=\"../__pv_it/demonstrations/9b4309f3ec65f0b084841fa9262503862fec241b0/expr.ipynb\"><img src=\"data:image/png;base64,iVBORw0KGgoAAAANSUhEUgAAAIQAAAAaBAMAAACEBumnAAAAMFBMVEX///8AAAAAAAAAAAAAAAAA\n",
       "AAAAAAAAAAAAAAAAAAAAAAAAAAAAAAAAAAAAAAAAAAAv3aB7AAAAD3RSTlMAIquJdkTvuxBmmd1U\n",
       "zTKBpmoTAAAACXBIWXMAAA7EAAAOxAGVKw4bAAABgklEQVQ4y42Vv0/CQBiG35Iq1wKGOMhKoquJ\n",
       "iZuJphoHJ8Pk5MDi4Mbm6upUwj+gCYuJCzoZXCBuTv4VsmIICTGReK3tlaNvy30Tx/vw8N19/QFE\n",
       "9QnTUuSd/ht7nGadBjMocuO0BzwkwSVRfNAmErIsFTX1vThLKwTd2wIZKBxPdSfSimKb7kNoCrzG\n",
       "qyFRbNF9DJcUJ9HCahNFlxlCcnQjq/qv8G+jw90/mAyW6SlTLJKhoqK2a81S8IxfFgkZKtxWvOz8\n",
       "LHdh97hCkdbhRI7DbspP28ceQwvBTLWQkmuyqYtqMWn56S2ol3CmQYdaqC3UfucQ13Bpy5U69JCT\n",
       "1hTuGKU9pijJyz8OxS+QQYop1lvwG1ldqLAPZJDWHL6He7CzCBRaqJPqLL7hD7BbrrKJyOPUQk7K\n",
       "iRS9ct+l95McuBZy0mlC7BxtnjNFMHAt5KRbz3nAXRk9BivtnLBrpIjvVFpfRopOXlgYmCie80Jh\n",
       "8l5wvNz43UBRW/EPjdWKR+APIkJycAML6usAAAAASUVORK5CYII=\n",
       "\" style=\"display:inline;vertical-align:middle;\" /></a></span>"
      ],
      "text/plain": [
       "{a in RealPos} |- a^{4} = (a * a^{4 - 1})"
      ]
     },
     "metadata": {},
     "output_type": "display_data"
    }
   ],
   "source": [
    "# and a more concrete case, illustrating the simplification\n",
    "# of the resulting exponent(s) in the factors. Yay!\n",
    "Exp(a, four).factorization(\n",
    "        a,\n",
    "        assumptions = [InSet(a, RealPos)])"
   ]
  },
  {
   "cell_type": "code",
   "execution_count": 63,
   "metadata": {},
   "outputs": [
    {
     "data": {
      "text/html": [
       "<span style=\"font-size:20px;\"><a class=\"ProveItLink\" href=\"../__pv_it/demonstrations/cfaa7545133d818137f55a75a04dc88dd9eed9460/expr.ipynb\"><img src=\"data:image/png;base64,iVBORw0KGgoAAAANSUhEUgAAADwAAAATBAMAAAA+KHOiAAAAMFBMVEX///8AAAAAAAAAAAAAAAAA\n",
       "AAAAAAAAAAAAAAAAAAAAAAAAAAAAAAAAAAAAAAAAAAAv3aB7AAAAD3RSTlMAEN0iVJmJRKu7ds0y\n",
       "Zu8qwvqBAAAACXBIWXMAAA7EAAAOxAGVKw4bAAAA5klEQVQoz2NgwA0CGPCCCaRLM+rP3MjA9v45\n",
       "Lt2cDhUMDPJw3YzKqNIcymwXGPgYWGfOfDlzLgMDy0c0aU+GzQxMcN2sChDhlUpKG8DStguskaSZ\n",
       "EsCy1Qthug16uBLg0hXzZywAUswb4YYbcDJMR+j2BwtyGyCkeQKEhOChFg2RRjjNgOEKyzw4Vw1M\n",
       "nlMCgglQaQ6BPngofQdTksi6GRuEYDyWDwwCIPcjSzOc4oTxWDewHABSXAvggQrkcp2EK26QAtNb\n",
       "YALcDnD3gjw89wKYlpguAKZ59r8EktIYMVU2CRKoKAAARP0vCk79Y/oAAAAASUVORK5CYII=\n",
       "\" style=\"display:inline;vertical-align:middle;\" /></a> <a class=\"ProveItLink\" href=\"../__pv_it/demonstrations/f2b49bc2547062c3a08d7d6e7f807816c7c62ff70/proof.ipynb\" style=\"text-decoration: none\">&nbsp;&#x22A2;&nbsp;&nbsp;</a><a class=\"ProveItLink\" href=\"../__pv_it/demonstrations/acd75622bafcb5b80599075d10ad3a1623ac3f7e0/expr.ipynb\"><img src=\"data:image/png;base64,iVBORw0KGgoAAAANSUhEUgAAAH4AAAAaBAMAAACDaPX3AAAAMFBMVEX///8AAAAAAAAAAAAAAAAA\n",
       "AAAAAAAAAAAAAAAAAAAAAAAAAAAAAAAAAAAAAAAAAAAv3aB7AAAAD3RSTlMAIpnNuzKJRKvvEN12\n",
       "ZlQ4bmvwAAAACXBIWXMAAA7EAAAOxAGVKw4bAAAB2UlEQVQ4y41UO0jDQBj+Uom2SV+KdHGR6OQD\n",
       "FEScfICOQnFwEuziooJdnazoJtisTgaKc30sRQcz+lgKInYUBBcXi0hBhHiX5NLEuzb9IT/33f9/\n",
       "+R93/wG2TKIz6Uq7C+XJv618CnxfBHtltlh7JGqQoeQE75ocFPDfvNUH+frdtbQ1neVcSwJ65mrD\n",
       "z0+YrKxX3ndZVP9sID6uSWxtKouUwXlKOtA3tNTcsMFPkH9Ha+huYJePFMlBmsdO3vsfBT065EUi\n",
       "Cy6/bGAfOMGdwtWfyiOaRkxn2AbxwlkgflcVpwaK6bFuroB1A7EfROsM2yBibgb4kXkcAcXsyjOX\n",
       "Pznf6Dmi3158CuRxlmdmbpvouJ3erajTB7ZW/RdL5W5ZD+2n/Mvg6A2Vir1edKow/SWZ//kyTU8t\n",
       "iOLP2Lri36rwh9wgalg4KZduf+gpObfbAQFRCD8hDO/Erzl1O5NQ450kkv87pLSgfspP5tDbnCc/\n",
       "YPXXIecQNwTxD8m3Cjx4GwHQ7P+Apo2K8r8n2V1q2rmXqh8wSei4tawvEX/PgGpZlvcwBIA3JIWW\n",
       "L1Us38lzVm1pIvMXLmWjpUnWO+DX2tiOO+BftLGVwukJs40xGd6A/rbWl1D+CPAHBrpzqvS6LW4A\n",
       "AAAASUVORK5CYII=\n",
       "\" style=\"display:inline;vertical-align:middle;\" /></a></span>"
      ],
      "text/plain": [
       "{t in NaturalPos} |- 2^{t} = (2 * 2^{t - 1})"
      ]
     },
     "metadata": {},
     "output_type": "display_data"
    }
   ],
   "source": [
    "# and a case like we encounter in the QPE package. Yay!\n",
    "from proveit.physics.quantum.QPE import _t\n",
    "Exp(two, _t).factorization(two, assumptions = [InSet(_t, NaturalPos)])"
   ]
  },
  {
   "cell_type": "code",
   "execution_count": 64,
   "metadata": {},
   "outputs": [
    {
     "data": {
      "text/html": [
       "<span style=\"font-size:20px;\"><a class=\"ProveItLink\" href=\"../__pv_it/demonstrations/cfaa7545133d818137f55a75a04dc88dd9eed9460/expr.ipynb\"><img src=\"data:image/png;base64,iVBORw0KGgoAAAANSUhEUgAAADwAAAATBAMAAAA+KHOiAAAAMFBMVEX///8AAAAAAAAAAAAAAAAA\n",
       "AAAAAAAAAAAAAAAAAAAAAAAAAAAAAAAAAAAAAAAAAAAv3aB7AAAAD3RSTlMAEN0iVJmJRKu7ds0y\n",
       "Zu8qwvqBAAAACXBIWXMAAA7EAAAOxAGVKw4bAAAA5klEQVQoz2NgwA0CGPCCCaRLM+rP3MjA9v45\n",
       "Lt2cDhUMDPJw3YzKqNIcymwXGPgYWGfOfDlzLgMDy0c0aU+GzQxMcN2sChDhlUpKG8DStguskaSZ\n",
       "EsCy1Qthug16uBLg0hXzZywAUswb4YYbcDJMR+j2BwtyGyCkeQKEhOChFg2RRjjNgOEKyzw4Vw1M\n",
       "nlMCgglQaQ6BPngofQdTksi6GRuEYDyWDwwCIPcjSzOc4oTxWDewHABSXAvggQrkcp2EK26QAtNb\n",
       "YALcDnD3gjw89wKYlpguAKZ59r8EktIYMVU2CRKoKAAARP0vCk79Y/oAAAAASUVORK5CYII=\n",
       "\" style=\"display:inline;vertical-align:middle;\" /></a> <a class=\"ProveItLink\" href=\"../__pv_it/demonstrations/8218353c614010e6c8f2c30c5aafc56e91472de50/proof.ipynb\" style=\"text-decoration: none\">&nbsp;&#x22A2;&nbsp;&nbsp;</a><a class=\"ProveItLink\" href=\"../__pv_it/demonstrations/2c855783c35ca1fbffa873d1ffde204924e8cfd70/expr.ipynb\"><img src=\"data:image/png;base64,iVBORw0KGgoAAAANSUhEUgAAAFMAAAAuBAMAAACmIDgsAAAAMFBMVEX///8AAAAAAAAAAAAAAAAA\n",
       "AAAAAAAAAAAAAAAAAAAAAAAAAAAAAAAAAAAAAAAAAAAv3aB7AAAAD3RSTlMAIpnNuzKJRKvvEN12\n",
       "ZlQ4bmvwAAAACXBIWXMAAA7EAAAOxAGVKw4bAAABPUlEQVQ4y2NgAANmAQZiwXqiVTI8JkqVkLIr\n",
       "g9jmVCJUMjow5Bcw2BFjKIcAA+cEhl/EKOX8xcDxkX0CUaZuYOD4ytOwlDjvc39gOpBFnNL4A6y6\n",
       "AcQp3UF08DM5EK30BtEq+RIYBHFKGsIYaw2ARBgDwylcKrk+QBmsZzYAI3aTktIGnDYawFlANdz/\n",
       "//83wJU+ss0CkJTiTEZKJgEMzA8YiFAqwsD2nYF/ATFKGxkYZjJUMjCEuACBAF6l8xcw9Auc4CLG\n",
       "rd0MDP0BOmwLiFAKBPsZgq7CPJn87QBactgNBg2QYP9DdIxzNxCtVAVd4D8MoEvw4jcU2a3PGBiJ\n",
       "LJ1YExh4FhCnVFpJSZtIT+3///8zAwUAnNyIA+DkRhwAJzfiADi5EacUnNyI9tl+olXSKbnhBLzE\n",
       "GzpUkhsA/0Rb9qR8vUQAAAAASUVORK5CYII=\n",
       "\" style=\"display:inline;vertical-align:middle;\" /></a></span>"
      ],
      "text/plain": [
       "{t in NaturalPos} |- (2^{t} / 2) = 2^{t - 1}"
      ]
     },
     "metadata": {},
     "output_type": "display_data"
    }
   ],
   "source": [
    "# now we can do some simple Div.cancelation() involving Exp class\n",
    "Div(Exp(two, _t), two).cancelation(two, assumptions = [InSet(_t, NaturalPos)])"
   ]
  },
  {
   "cell_type": "code",
   "execution_count": 65,
   "metadata": {},
   "outputs": [
    {
     "data": {
      "text/html": [
       "<span style=\"font-size:20px;\"> <a class=\"ProveItLink\" href=\"../__pv_it/demonstrations/da3f1e71cb74f8cbdf36e6faf3b4d151e98c04a60/proof.ipynb\" style=\"text-decoration: none\">&nbsp;&#x22A2;&nbsp;&nbsp;</a><a class=\"ProveItLink\" href=\"../__pv_it/demonstrations/d16c2136417e26d7aeb74d8e9d23f859b35c69590/expr.ipynb\"><img src=\"data:image/png;base64,iVBORw0KGgoAAAANSUhEUgAAADgAAAATBAMAAAA3w9PYAAAAMFBMVEX///8AAAAAAAAAAAAAAAAA\n",
       "AAAAAAAAAAAAAAAAAAAAAAAAAAAAAAAAAAAAAAAAAAAv3aB7AAAAD3RSTlMAIpnNuzKJRKvvEN12\n",
       "ZlQ4bmvwAAAACXBIWXMAAA7EAAAOxAGVKw4bAAAAsklEQVQoz2NgAAGuywy4QcxpPJIMr6ktyahk\n",
       "EoBNUkjZlYFBhIHtOxZJRgeG/AKGRgaGmVgkOQQYOCcwzF/A0C+AKcn5i4HjI0M3A0N/gJh9DrrO\n",
       "DQwcX0GM/didyv0BSLD+gXGZdoNBA4QXfwCkogG7zh0gQgW7HJMDkODFofEGiHjGwCiAxU6+BAZB\n",
       "BtYEBp4FWDSGMTCcYpBWUtLGFuSblJQ2MOz///8zNk/+///fAABbNDK5WHDSjwAAAABJRU5ErkJg\n",
       "gg==\n",
       "\" style=\"display:inline;vertical-align:middle;\" /></a></span>"
      ],
      "text/plain": [
       "|- 2^{1} = 2"
      ]
     },
     "metadata": {},
     "output_type": "display_data"
    }
   ],
   "source": [
    "# and a special case\n",
    "Exp(two, one).factorization(two)"
   ]
  },
  {
   "cell_type": "code",
   "execution_count": 66,
   "metadata": {},
   "outputs": [
    {
     "data": {
      "text/html": [
       "<span style=\"font-size:20px;\"><a class=\"ProveItLink\" href=\"../__pv_it/theorems/5a0c211ed8c0f89e15d717d80d4627baae693acb0/expr.ipynb\"><img src=\"data:image/png;base64,iVBORw0KGgoAAAANSUhEUgAAAD8AAAATBAMAAADVH8ihAAAAMFBMVEX///8AAAAAAAAAAAAAAAAA\n",
       "AAAAAAAAAAAAAAAAAAAAAAAAAAAAAAAAAAAAAAAAAAAv3aB7AAAAD3RSTlMAIquJdkTvuxBmmd1U\n",
       "zTKBpmoTAAAACXBIWXMAAA7EAAAOxAGVKw4bAAAA3UlEQVQoz2NgwAO4GAgAdjIVzE2vv50+AZ8J\n",
       "BUIMQdMb8CkQZmDnU2BYXl5WXj4BhwIugQtYTHDfvfsCXEEBpoJYD4QJTB0KcAWMyo4OYPoGkhXP\n",
       "zwrAFYQJsP8A0bwCcAVit397wEOSI5OBawNYAZIjZ/YihfcHBm4DEOPZbiAogChg70R4j62AoT8A\n",
       "xGhHMoFvQQWc1+/AMB/M4EYOh3XiCAUHGHR5QO5jcUBS0M4Ct4PdgWcXJN7vwBVIMXBOKIXxOFTs\n",
       "hPzArKbSBlhsFjKU3z+AGQfB1ZCgRgEAfyQ4BfovW/4AAAAASUVORK5CYII=\n",
       "\" style=\"display:inline;vertical-align:middle;\" /></a>, <a class=\"ProveItLink\" href=\"../__pv_it/theorems/035e0ae7bd8c0fe127ee5d2062443d6c874adcdd0/expr.ipynb\"><img src=\"data:image/png;base64,iVBORw0KGgoAAAANSUhEUgAAADAAAAAQBAMAAACigOGCAAAAMFBMVEX///8AAAAAAAAAAAAAAAAA\n",
       "AAAAAAAAAAAAAAAAAAAAAAAAAAAAAAAAAAAAAAAAAAAv3aB7AAAAD3RSTlMAELvv3c2ZVESJq3Yi\n",
       "MmZ3LnoBAAAACXBIWXMAAA7EAAAOxAGVKw4bAAAA50lEQVQY02NgQAfswZ+DXJQfMDAqO6BKcGtd\n",
       "YAhgBTJYE1Al2BIYuB9MBzL4C1AluA4wCDEqABn9AlAjVFxcQTQjA0Mu1wUgYwpEnCNaAKaHd8E1\n",
       "EBW1ezmIOgoXZ2ASUATp/CogfwBIxyBsqeTbAHL2RwZmEB2AkAA7loEtgIF/AtBcExcXFyeIKwpm\n",
       "MDAIMLBMYOgHOhjsQAgQ4gGy14C8kQ+yF+H/tUCfMH5g4L/AaAfi7oY7NqEN6EsHBq4HTOAwYS2A\n",
       "OzaQgUddgYFxZR6Yz7ioESLRrGqkZG80AeFIjkmQIIECANNVKrcrbsjPAAAAAElFTkSuQmCC\n",
       "\" style=\"display:inline;vertical-align:middle;\" /></a>, <a class=\"ProveItLink\" href=\"../../addition/__pv_it/theorems/ab9efd361cdf04a40e51b5b0d3fd587cd7505e5a0/expr.ipynb\"><img src=\"data:image/png;base64,iVBORw0KGgoAAAANSUhEUgAAADAAAAAQBAMAAACigOGCAAAAMFBMVEX///8AAAAAAAAAAAAAAAAA\n",
       "AAAAAAAAAAAAAAAAAAAAAAAAAAAAAAAAAAAAAAAAAAAv3aB7AAAAD3RSTlMAiXZmMiLdVJm77xBE\n",
       "zatgdeJyAAAACXBIWXMAAA7EAAAOxAGVKw4bAAAAzElEQVQY02NgQAfst37dTJtlgCHOwDTPgeEC\n",
       "L6Y4A0cDA5OBOBYJvgCGndwTkI2YlpYLorkZGFr4HBDiPJc2wJgsDzzAtJAySD4WLs7AuWE2iAor\n",
       "4ACZeBWhuZBZAUQlMnCB6AsICYhjOX5DzF2WlpaWCXFFgQwDwwYGLojLkBy4kxXIfsqwXwHCTYBL\n",
       "PAH6hPsDAz8wVA4AuUpwxzacAPoygQHoJEaQc3kL4I69zcA6HWiaoLE22JKXpyESp+aunLl+pQCS\n",
       "1yUhQQIFAA/aLo4ZZrU0AAAAAElFTkSuQmCC\n",
       "\" style=\"display:inline;vertical-align:middle;\" /></a> <a class=\"ProveItLink\" href=\"../__pv_it/demonstrations/f7cb052146b6e1acd940cd0cbf560828734a6ef90/proof.ipynb\" style=\"text-decoration: none\">&nbsp;&#x22A2;&nbsp;&nbsp;</a><a class=\"ProveItLink\" href=\"../__pv_it/demonstrations/d3ff7a96efef2e7cec0803ddd64ce0d34752fcac0/expr.ipynb\"><img src=\"data:image/png;base64,iVBORw0KGgoAAAANSUhEUgAAAIkAAAAaBAMAAABx+GIXAAAAMFBMVEX///8AAAAAAAAAAAAAAAAA\n",
       "AAAAAAAAAAAAAAAAAAAAAAAAAAAAAAAAAAAAAAAAAAAv3aB7AAAAD3RSTlMAIquJdkTvuxBmmd1U\n",
       "zTKBpmoTAAAACXBIWXMAAA7EAAAOxAGVKw4bAAAB30lEQVQ4y2NgAIO3BQzEA77rOCSYDLAITsVl\n",
       "jDIyhwvBZHuAqZZnAS5T8pA5jAhvvHfRwFDbC2OYTEHz0RenBiiT2dOBASHr3eCFYUollOYOeIYq\n",
       "wbKDBebMrXwJDNwNCB1z0Q1hTIAyljP0ocqwT+C8AA2TAo4HDCwKCJ8uQjeFCxbgqegybA+4FJ6X\n",
       "A4EAWwCQy/EDJvGBIQddLX8AlPERQ4aB7QCUJQAib8IkdnBiJJj3MO9eZWBGleFumA5l8QYwGIC8\n",
       "DAWvXDAC1xvGkJrpgRZHSxxgYbdyCtAuNxBL2dEBW6LQxSonZCKCoTIeaFKYADs8eFbvBoFNYHY5\n",
       "A6ocGLAmMtQ3YPj9AQNHJgPXBmxuucSARa5tAsNqDJXyAQxcHxi4sWUihl0MKHIcf0HkegaGzRgq\n",
       "+wMY2ApAJHa3oMjtAhHpDBxfMd3ygKHfgWE+A7ZwAZqCIgd20BcGzg8YprwXYOg/wKDLI4DFLeoM\n",
       "mHIcfxiYLhzEEkfsDjy7uLD5CJgKMOVKGE4vwCgwpgGNV7ET8sNmCtAGTLkm54cqGEXRIjzlIlsA\n",
       "sSXoTTxyXAZEGsLxA18ZnUCkKZwK+GR1iDSFWwCfbC+RpkzBK8tDXMAwEqjKphJlChcwjwMAM0Nx\n",
       "x957dxIAAAAASUVORK5CYII=\n",
       "\" style=\"display:inline;vertical-align:middle;\" /></a></span>"
      ],
      "text/plain": [
       "{a in RealPos, b in Integer, c in Integer} |- a^{b} = (a^{c} * a^{b - c})"
      ]
     },
     "metadata": {},
     "output_type": "display_data"
    }
   ],
   "source": [
    "# more generally, factor out a^c from a^b\n",
    "Exp(a, b).factorization(\n",
    "        Exp(a, c),\n",
    "        assumptions = [InSet(a, RealPos), InSet(b, Integer), InSet(c, Integer)])"
   ]
  },
  {
   "cell_type": "code",
   "execution_count": 67,
   "metadata": {},
   "outputs": [
    {
     "data": {
      "text/html": [
       "<span style=\"font-size:20px;\"><a class=\"ProveItLink\" href=\"../__pv_it/theorems/5a0c211ed8c0f89e15d717d80d4627baae693acb0/expr.ipynb\"><img src=\"data:image/png;base64,iVBORw0KGgoAAAANSUhEUgAAAD8AAAATBAMAAADVH8ihAAAAMFBMVEX///8AAAAAAAAAAAAAAAAA\n",
       "AAAAAAAAAAAAAAAAAAAAAAAAAAAAAAAAAAAAAAAAAAAv3aB7AAAAD3RSTlMAIquJdkTvuxBmmd1U\n",
       "zTKBpmoTAAAACXBIWXMAAA7EAAAOxAGVKw4bAAAA3UlEQVQoz2NgwAO4GAgAdjIVzE2vv50+AZ8J\n",
       "BUIMQdMb8CkQZmDnU2BYXl5WXj4BhwIugQtYTHDfvfsCXEEBpoJYD4QJTB0KcAWMyo4OYPoGkhXP\n",
       "zwrAFYQJsP8A0bwCcAVit397wEOSI5OBawNYAZIjZ/YihfcHBm4DEOPZbiAogChg70R4j62AoT8A\n",
       "xGhHMoFvQQWc1+/AMB/M4EYOh3XiCAUHGHR5QO5jcUBS0M4Ct4PdgWcXJN7vwBVIMXBOKIXxOFTs\n",
       "hPzArKbSBlhsFjKU3z+AGQfB1ZCgRgEAfyQ4BfovW/4AAAAASUVORK5CYII=\n",
       "\" style=\"display:inline;vertical-align:middle;\" /></a>, <a class=\"ProveItLink\" href=\"../__pv_it/theorems/035e0ae7bd8c0fe127ee5d2062443d6c874adcdd0/expr.ipynb\"><img src=\"data:image/png;base64,iVBORw0KGgoAAAANSUhEUgAAADAAAAAQBAMAAACigOGCAAAAMFBMVEX///8AAAAAAAAAAAAAAAAA\n",
       "AAAAAAAAAAAAAAAAAAAAAAAAAAAAAAAAAAAAAAAAAAAv3aB7AAAAD3RSTlMAELvv3c2ZVESJq3Yi\n",
       "MmZ3LnoBAAAACXBIWXMAAA7EAAAOxAGVKw4bAAAA50lEQVQY02NgQAfswZ+DXJQfMDAqO6BKcGtd\n",
       "YAhgBTJYE1Al2BIYuB9MBzL4C1AluA4wCDEqABn9AlAjVFxcQTQjA0Mu1wUgYwpEnCNaAKaHd8E1\n",
       "EBW1ezmIOgoXZ2ASUATp/CogfwBIxyBsqeTbAHL2RwZmEB2AkAA7loEtgIF/AtBcExcXFyeIKwpm\n",
       "MDAIMLBMYOgHOhjsQAgQ4gGy14C8kQ+yF+H/tUCfMH5g4L/AaAfi7oY7NqEN6EsHBq4HTOAwYS2A\n",
       "OzaQgUddgYFxZR6Yz7ioESLRrGqkZG80AeFIjkmQIIECANNVKrcrbsjPAAAAAElFTkSuQmCC\n",
       "\" style=\"display:inline;vertical-align:middle;\" /></a>, <a class=\"ProveItLink\" href=\"../__pv_it/theorems/8c5864665d603ebc7e84fdb786d604e60f56fcc70/expr.ipynb\"><img src=\"data:image/png;base64,iVBORw0KGgoAAAANSUhEUgAAAD0AAAATBAMAAADR6hicAAAAMFBMVEX///8AAAAAAAAAAAAAAAAA\n",
       "AAAAAAAAAAAAAAAAAAAAAAAAAAAAAAAAAAAAAAAAAAAv3aB7AAAAD3RSTlMAiXZmMiLdVJm77xBE\n",
       "zatgdeJyAAAACXBIWXMAAA7EAAAOxAGVKw4bAAAA0ElEQVQoz2NgwA04GPADTrLkbVfOv7bSAI/+\n",
       "CXEM5yw34JEPZOBkecDQOXPWzJkG2OU5Ai5g6tdMS7sAl5+AIX9WG6Gfb/cDhLyQsgOQZL2NZL5n\n",
       "bQBcPqyAA2QYbwBcPuraN21E+CUycCmA5JHcZ7wXKZB/Q2ivNCCYAJHn3IzwF9cECL0TST9Lw2w4\n",
       "b78ChGZD9n9LJJzHDzTqAJBmUkCS38kEtwDoeEaQ/xiuw+UjGJgN5sANEDSGBMy+ORtg8TeVYeb9\n",
       "AoxwPzgNEr4oAABdmzkc2vbi6QAAAABJRU5ErkJggg==\n",
       "\" style=\"display:inline;vertical-align:middle;\" /></a> <a class=\"ProveItLink\" href=\"../__pv_it/demonstrations/c2073191c2ec0208918a9af17c5c9a6631ea50cc0/proof.ipynb\" style=\"text-decoration: none\">&nbsp;&#x22A2;&nbsp;&nbsp;</a><a class=\"ProveItLink\" href=\"../__pv_it/demonstrations/3b2b069e90ca4c9e69fd7c6255bd36c37f702a5f0/expr.ipynb\"><img src=\"data:image/png;base64,iVBORw0KGgoAAAANSUhEUgAAAMkAAAAaBAMAAADvQmW3AAAAMFBMVEX///8AAAAAAAAAAAAAAAAA\n",
       "AAAAAAAAAAAAAAAAAAAAAAAAAAAAAAAAAAAAAAAAAAAv3aB7AAAAD3RSTlMAInZUiRDNmWbv3US7\n",
       "qzJazP2FAAAACXBIWXMAAA7EAAAOxAGVKw4bAAAClElEQVRIx61VPWhTURT+ktc0P02Th4sgFF+L\n",
       "gjpIBHFwCh0cBCVTUVCTRRCkkMEhlEpCFpUOxk3QQVAoKEJwc2p0UihY2tLJIY6K0PoTFxfPPS/v\n",
       "Nvfd81ISPPCSd8695/vu/e655wH/065URk6Zb9qxlaEZublndjA5NCXT/mrFnOrwhTkCS6zDf649\n",
       "okLLuGHFF0TsiRNeFIvSgyWJF+y8N/Q8EfA+iCyvcq0IFtYjU6K3s+ZA4iPNjDeAH8LmWxJJspPo\n",
       "2iyMw3rEN8gLl8Wk0v4mcBsTFl5RYkm3ge/rZK6xF4XDeiR6lNkIJeWVgveAw/ePh/HybYkl74qn\n",
       "r3B8PW7RSsJJa0rGdEnC2xWjk20UBRaF4+uxDJwLJ13kzIaEd0o8/Fit2WePXfjtGTi+HieBO2p0\n",
       "e3Z/dHFui4pzQ8LbUT8z84f2I4ZjGuMEuyLR8NbN9nRt/CmVXaR0TSy9VPaa39fpmXqET1o4wwnV\n",
       "KuP4QnfxnAKPkdSCOj2kPThizS7Sc7WBJR0wnFAbYBy2o21VbMk9ZIpMr6q1gnwRuT0pc5WeOvAi\n",
       "mBs41jY0DluZWdId9dJHIb61AqYi9/IUib/BXO0Iq/Fx/L2wYmUPDwfLvF4aKMnBcyGWxE+k9D4N\n",
       "x7529f6R7bp4TywF7DjB1cp36ZiQ6kiZnwn4F6YrZwKWQSfMwjhBjV0Csp6zqr8C041sNaqXUOHT\n",
       "qs5Xdf83HNN8HLYHwDda0ublmdNahe0aN1MpU13n68e+bAbN0XRCJcA4bHcJT5x1BFF9cQyjK5kS\n",
       "d1wTp8s6HmSqJ+MdIr+i1ne9NQ5LSnWra8JA1pUTtsZhySiwmGcPzEYkLIzD0hw1wRnjYCLUH2Yr\n",
       "o7Mkqfz/AXalpfmLXmctAAAAAElFTkSuQmCC\n",
       "\" style=\"display:inline;vertical-align:middle;\" /></a></span>"
      ],
      "text/plain": [
       "{a in RealPos, b in Integer, c in RealPos} |- (a * b)^{c} = (a * a^{c - 1} * b^{c})"
      ]
     },
     "metadata": {},
     "output_type": "display_data"
    }
   ],
   "source": [
    "# Even more generally, factor out a^d from (a*b)^c\n",
    "Exp(Mult(a, b), c).factorization(\n",
    "        a, pull='left',\n",
    "        assumptions = [InSet(a, RealPos), InSet(b, Integer), \n",
    "                       InSet(c, RealPos)])"
   ]
  },
  {
   "cell_type": "code",
   "execution_count": 68,
   "metadata": {},
   "outputs": [
    {
     "data": {
      "text/html": [
       "<span style=\"font-size:20px;\"><a class=\"ProveItLink\" href=\"../__pv_it/theorems/5a0c211ed8c0f89e15d717d80d4627baae693acb0/expr.ipynb\"><img src=\"data:image/png;base64,iVBORw0KGgoAAAANSUhEUgAAAD8AAAATBAMAAADVH8ihAAAAMFBMVEX///8AAAAAAAAAAAAAAAAA\n",
       "AAAAAAAAAAAAAAAAAAAAAAAAAAAAAAAAAAAAAAAAAAAv3aB7AAAAD3RSTlMAIquJdkTvuxBmmd1U\n",
       "zTKBpmoTAAAACXBIWXMAAA7EAAAOxAGVKw4bAAAA3UlEQVQoz2NgwAO4GAgAdjIVzE2vv50+AZ8J\n",
       "BUIMQdMb8CkQZmDnU2BYXl5WXj4BhwIugQtYTHDfvfsCXEEBpoJYD4QJTB0KcAWMyo4OYPoGkhXP\n",
       "zwrAFYQJsP8A0bwCcAVit397wEOSI5OBawNYAZIjZ/YihfcHBm4DEOPZbiAogChg70R4j62AoT8A\n",
       "xGhHMoFvQQWc1+/AMB/M4EYOh3XiCAUHGHR5QO5jcUBS0M4Ct4PdgWcXJN7vwBVIMXBOKIXxOFTs\n",
       "hPzArKbSBlhsFjKU3z+AGQfB1ZCgRgEAfyQ4BfovW/4AAAAASUVORK5CYII=\n",
       "\" style=\"display:inline;vertical-align:middle;\" /></a>, <a class=\"ProveItLink\" href=\"../__pv_it/theorems/8c5864665d603ebc7e84fdb786d604e60f56fcc70/expr.ipynb\"><img src=\"data:image/png;base64,iVBORw0KGgoAAAANSUhEUgAAAD0AAAATBAMAAADR6hicAAAAMFBMVEX///8AAAAAAAAAAAAAAAAA\n",
       "AAAAAAAAAAAAAAAAAAAAAAAAAAAAAAAAAAAAAAAAAAAv3aB7AAAAD3RSTlMAiXZmMiLdVJm77xBE\n",
       "zatgdeJyAAAACXBIWXMAAA7EAAAOxAGVKw4bAAAA0ElEQVQoz2NgwA04GPADTrLkbVfOv7bSAI/+\n",
       "CXEM5yw34JEPZOBkecDQOXPWzJkG2OU5Ai5g6tdMS7sAl5+AIX9WG6Gfb/cDhLyQsgOQZL2NZL5n\n",
       "bQBcPqyAA2QYbwBcPuraN21E+CUycCmA5JHcZ7wXKZB/Q2ivNCCYAJHn3IzwF9cECL0TST9Lw2w4\n",
       "b78ChGZD9n9LJJzHDzTqAJBmUkCS38kEtwDoeEaQ/xiuw+UjGJgN5sANEDSGBMy+ORtg8TeVYeb9\n",
       "AoxwPzgNEr4oAABdmzkc2vbi6QAAAABJRU5ErkJggg==\n",
       "\" style=\"display:inline;vertical-align:middle;\" /></a> <a class=\"ProveItLink\" href=\"../__pv_it/demonstrations/32a14930a4462b37577e859b55c21c624edb43960/proof.ipynb\" style=\"text-decoration: none\">&nbsp;&#x22A2;&nbsp;&nbsp;</a><a class=\"ProveItLink\" href=\"../__pv_it/demonstrations/ea3a327461923f34defc8e0174f056a6704479300/expr.ipynb\"><img src=\"data:image/png;base64,iVBORw0KGgoAAAANSUhEUgAAAIMAAAAaBAMAAABm2vLeAAAAMFBMVEX///8AAAAAAAAAAAAAAAAA\n",
       "AAAAAAAAAAAAAAAAAAAAAAAAAAAAAAAAAAAAAAAAAAAv3aB7AAAAD3RSTlMAIquJdkTvuxBmmd1U\n",
       "zTKBpmoTAAAACXBIWXMAAA7EAAAOxAGVKw4bAAABpElEQVQ4y2NgIAV0XmAgDUxFF+Bz2YAmwoXf\n",
       "BJ4FmELoRjAWINgmUzDU98IYzJ4OuIxgQGjjDniGYUQljLGVLwGnEdwNMNZyhj50SUaYPq4Cjgc4\n",
       "jWBRgLFSMYOCywDKYAtgYHheDgQCWIzg+AFjfcQ0gj8AxhDAHZwMDDdhjKsMzOhy72G+5A1gMMBt\n",
       "xHIYQ2qmB7qcNzxQVk6BmsZo+9kBXZkbSFzZ0QFbstAFEUImIjjTDUQuHmh8mAA7PEi4doMBOJTL\n",
       "gZg1kaG+AYcJULn3Dxg4Mhm4NmBTcgmI2yYwrMblCKicfAAD1wcGbgNsSnYB8XoGhs2YMhx/GRBy\n",
       "/QEMbAUgEocr0hk4vuIwHSYn/4Ch34FhPgO2sAAawfGFgfMDDn/A5N4LMPQfYNDlEcCiRh2o7A8D\n",
       "04WDOIyAygFjhN2BZxfWXA+K8BKG0wsW4HAGVG4a0DQVOyE/bEpAEd7k/FDlAQ4joHKL8JQ4bAFE\n",
       "FW038chxGRBjAiKnYgHwcgYv4FTAJ6tDjBHcAvhke4kxYgr+EpyIwEAuwYmqR7CEOTDmAXIgalNQ\n",
       "BEZPAAAAAElFTkSuQmCC\n",
       "\" style=\"display:inline;vertical-align:middle;\" /></a></span>"
      ],
      "text/plain": [
       "{a in RealPos, c in RealPos} |- a^{c} = (a^{c - 1} * a)"
      ]
     },
     "metadata": {},
     "output_type": "display_data"
    }
   ],
   "source": [
    "# Pull to the right\n",
    "Exp(a, c).factorization(\n",
    "        a, pull='right', group_remainder=True,\n",
    "        assumptions = [InSet(a, RealPos), InSet(b, Integer), \n",
    "                       InSet(c, RealPos)])"
   ]
  },
  {
   "cell_type": "code",
   "execution_count": 69,
   "metadata": {},
   "outputs": [
    {
     "data": {
      "text/html": [
       "<span style=\"font-size:20px;\"><a class=\"ProveItLink\" href=\"../__pv_it/theorems/5a0c211ed8c0f89e15d717d80d4627baae693acb0/expr.ipynb\"><img src=\"data:image/png;base64,iVBORw0KGgoAAAANSUhEUgAAAD8AAAATBAMAAADVH8ihAAAAMFBMVEX///8AAAAAAAAAAAAAAAAA\n",
       "AAAAAAAAAAAAAAAAAAAAAAAAAAAAAAAAAAAAAAAAAAAv3aB7AAAAD3RSTlMAIquJdkTvuxBmmd1U\n",
       "zTKBpmoTAAAACXBIWXMAAA7EAAAOxAGVKw4bAAAA3UlEQVQoz2NgwAO4GAgAdjIVzE2vv50+AZ8J\n",
       "BUIMQdMb8CkQZmDnU2BYXl5WXj4BhwIugQtYTHDfvfsCXEEBpoJYD4QJTB0KcAWMyo4OYPoGkhXP\n",
       "zwrAFYQJsP8A0bwCcAVit397wEOSI5OBawNYAZIjZ/YihfcHBm4DEOPZbiAogChg70R4j62AoT8A\n",
       "xGhHMoFvQQWc1+/AMB/M4EYOh3XiCAUHGHR5QO5jcUBS0M4Ct4PdgWcXJN7vwBVIMXBOKIXxOFTs\n",
       "hPzArKbSBlhsFjKU3z+AGQfB1ZCgRgEAfyQ4BfovW/4AAAAASUVORK5CYII=\n",
       "\" style=\"display:inline;vertical-align:middle;\" /></a>, <a class=\"ProveItLink\" href=\"../__pv_it/theorems/035e0ae7bd8c0fe127ee5d2062443d6c874adcdd0/expr.ipynb\"><img src=\"data:image/png;base64,iVBORw0KGgoAAAANSUhEUgAAADAAAAAQBAMAAACigOGCAAAAMFBMVEX///8AAAAAAAAAAAAAAAAA\n",
       "AAAAAAAAAAAAAAAAAAAAAAAAAAAAAAAAAAAAAAAAAAAv3aB7AAAAD3RSTlMAELvv3c2ZVESJq3Yi\n",
       "MmZ3LnoBAAAACXBIWXMAAA7EAAAOxAGVKw4bAAAA50lEQVQY02NgQAfswZ+DXJQfMDAqO6BKcGtd\n",
       "YAhgBTJYE1Al2BIYuB9MBzL4C1AluA4wCDEqABn9AlAjVFxcQTQjA0Mu1wUgYwpEnCNaAKaHd8E1\n",
       "EBW1ezmIOgoXZ2ASUATp/CogfwBIxyBsqeTbAHL2RwZmEB2AkAA7loEtgIF/AtBcExcXFyeIKwpm\n",
       "MDAIMLBMYOgHOhjsQAgQ4gGy14C8kQ+yF+H/tUCfMH5g4L/AaAfi7oY7NqEN6EsHBq4HTOAwYS2A\n",
       "OzaQgUddgYFxZR6Yz7ioESLRrGqkZG80AeFIjkmQIIECANNVKrcrbsjPAAAAAElFTkSuQmCC\n",
       "\" style=\"display:inline;vertical-align:middle;\" /></a>, <a class=\"ProveItLink\" href=\"../__pv_it/theorems/8c5864665d603ebc7e84fdb786d604e60f56fcc70/expr.ipynb\"><img src=\"data:image/png;base64,iVBORw0KGgoAAAANSUhEUgAAAD0AAAATBAMAAADR6hicAAAAMFBMVEX///8AAAAAAAAAAAAAAAAA\n",
       "AAAAAAAAAAAAAAAAAAAAAAAAAAAAAAAAAAAAAAAAAAAv3aB7AAAAD3RSTlMAiXZmMiLdVJm77xBE\n",
       "zatgdeJyAAAACXBIWXMAAA7EAAAOxAGVKw4bAAAA0ElEQVQoz2NgwA04GPADTrLkbVfOv7bSAI/+\n",
       "CXEM5yw34JEPZOBkecDQOXPWzJkG2OU5Ai5g6tdMS7sAl5+AIX9WG6Gfb/cDhLyQsgOQZL2NZL5n\n",
       "bQBcPqyAA2QYbwBcPuraN21E+CUycCmA5JHcZ7wXKZB/Q2ivNCCYAJHn3IzwF9cECL0TST9Lw2w4\n",
       "b78ChGZD9n9LJJzHDzTqAJBmUkCS38kEtwDoeEaQ/xiuw+UjGJgN5sANEDSGBMy+ORtg8TeVYeb9\n",
       "AoxwPzgNEr4oAABdmzkc2vbi6QAAAABJRU5ErkJggg==\n",
       "\" style=\"display:inline;vertical-align:middle;\" /></a> <a class=\"ProveItLink\" href=\"../__pv_it/demonstrations/e2f57bec2847df1f3797cdafd9ed1a799e4743d30/proof.ipynb\" style=\"text-decoration: none\">&nbsp;&#x22A2;&nbsp;&nbsp;</a><a class=\"ProveItLink\" href=\"../__pv_it/demonstrations/fa2ad9c01c98937ae7e0d8dea8eae59fa96b51680/expr.ipynb\"><img src=\"data:image/png;base64,iVBORw0KGgoAAAANSUhEUgAAANsAAAAaBAMAAADMGTRiAAAAMFBMVEX///8AAAAAAAAAAAAAAAAA\n",
       "AAAAAAAAAAAAAAAAAAAAAAAAAAAAAAAAAAAAAAAAAAAv3aB7AAAAD3RSTlMAInZUiRDNmWbv3US7\n",
       "qzJazP2FAAAACXBIWXMAAA7EAAAOxAGVKw4bAAAC80lEQVRIx7VWTWgTQRT+0m2aTZsmQQRRWpqK\n",
       "HhSUCKLQU+lRUHISBDW5CIIUc1AopaXBgz+IWG+CHiIqBUEI3jx125NCwVJLTx6it3pJq8RLQXxv\n",
       "9mcmM7NtFHwwm+Xlm+/Ne++bmQX+gyXv/sOkiTum7yENt7HXzG/H6VHVvald5/Q3Ng2fwxxn917p\n",
       "GI0h3ZnwxE/ehLNrBlcN/0WuVCUue+ngcG5Bny3+7ima4d7ReGZZ9QcamVpM9oqDw+G1Ua8SPU5r\n",
       "bf5YpyUQ5bYZLTFPj4MBxshecYhwJ/TpPatKbULr4/5cA26g12j2OD1uBRgje3JkV8iWgnDlki7Y\n",
       "NlHUNGeOi3sPOHD/qE6YY03uBBgj++1OqaBPZ8Z1IK37FnlR6ZJNcC3yZtsBxshecYhwKU+fPwOc\n",
       "0X3n7Ctj4+3UUw8wRvbSsf/mBCPn9fnH/FYk1kelaicPfwZ6V23hNmgMVkKMqiGVILSBtnwfntjn\n",
       "F4Xqiff5TPRX8lepnIcbCWj6Ddtb8b7C+8ALMYqpBJFlf8vIT/CJ6t9q4iXNfopUPTo42kgX4Mzb\n",
       "spvkMq+GGEVyKoFMeSd6vVTDNP2MNFi+qS30s8TLnFKqgtw4slu2cAu8V6shJigGJIGmexFOkM4B\n",
       "r/hdhEt7/OIz8bzFIgZ2zc7HyCWEBFp2opiC9Lkfe0QUs1zAY3XbzZXg1G29C8P5GGkdBLJ30UZM\n",
       "/oDL5WrlsUzoIjacsPW5JnUCrmfL7gsr0wsxSjiVwKLM5E8S9CmhzPMktoKzEF1Gg7VMNTiuYNk3\n",
       "Yjf5GGkdBJG5siHLGKvSjAfAdwq+dmH4ZLSS9SlxutvC8WHCa/YxiihUAnnCyr175cjXtSYwS8RN\n",
       "G/Eh662ZbsRcTFaznplu1QadshJEN0JXZr0RsGRBJqxKQZa7sdltuEdGM7m6ly3ITN7OwCflYLHL\n",
       "cC+M25xZE+bhitEYho5vlT0s5lvlb8wZN7824myoyw7tZt19Zwq7bQiNpPMHNj69Y8pqlOIAAAAA\n",
       "SUVORK5CYII=\n",
       "\" style=\"display:inline;vertical-align:middle;\" /></a></span>"
      ],
      "text/plain": [
       "{a in RealPos, b in Integer, c in RealPos} |- (a * b)^{c} = ((b^{c} * a^{c - 1}) * a)"
      ]
     },
     "metadata": {},
     "output_type": "display_data"
    }
   ],
   "source": [
    "Exp(Mult(a, b), c).factorization(\n",
    "        a, pull='right', group_remainder=True,\n",
    "        assumptions = [InSet(a, RealPos), InSet(b, Integer), \n",
    "                       InSet(c, RealPos)])"
   ]
  },
  {
   "cell_type": "code",
   "execution_count": 70,
   "metadata": {},
   "outputs": [
    {
     "data": {
      "text/html": [
       "<span style=\"font-size:20px;\"><a class=\"ProveItLink\" href=\"../__pv_it/theorems/5a0c211ed8c0f89e15d717d80d4627baae693acb0/expr.ipynb\"><img src=\"data:image/png;base64,iVBORw0KGgoAAAANSUhEUgAAAD8AAAATBAMAAADVH8ihAAAAMFBMVEX///8AAAAAAAAAAAAAAAAA\n",
       "AAAAAAAAAAAAAAAAAAAAAAAAAAAAAAAAAAAAAAAAAAAv3aB7AAAAD3RSTlMAIquJdkTvuxBmmd1U\n",
       "zTKBpmoTAAAACXBIWXMAAA7EAAAOxAGVKw4bAAAA3UlEQVQoz2NgwAO4GAgAdjIVzE2vv50+AZ8J\n",
       "BUIMQdMb8CkQZmDnU2BYXl5WXj4BhwIugQtYTHDfvfsCXEEBpoJYD4QJTB0KcAWMyo4OYPoGkhXP\n",
       "zwrAFYQJsP8A0bwCcAVit397wEOSI5OBawNYAZIjZ/YihfcHBm4DEOPZbiAogChg70R4j62AoT8A\n",
       "xGhHMoFvQQWc1+/AMB/M4EYOh3XiCAUHGHR5QO5jcUBS0M4Ct4PdgWcXJN7vwBVIMXBOKIXxOFTs\n",
       "hPzArKbSBlhsFjKU3z+AGQfB1ZCgRgEAfyQ4BfovW/4AAAAASUVORK5CYII=\n",
       "\" style=\"display:inline;vertical-align:middle;\" /></a>, <a class=\"ProveItLink\" href=\"../__pv_it/theorems/035e0ae7bd8c0fe127ee5d2062443d6c874adcdd0/expr.ipynb\"><img src=\"data:image/png;base64,iVBORw0KGgoAAAANSUhEUgAAADAAAAAQBAMAAACigOGCAAAAMFBMVEX///8AAAAAAAAAAAAAAAAA\n",
       "AAAAAAAAAAAAAAAAAAAAAAAAAAAAAAAAAAAAAAAAAAAv3aB7AAAAD3RSTlMAELvv3c2ZVESJq3Yi\n",
       "MmZ3LnoBAAAACXBIWXMAAA7EAAAOxAGVKw4bAAAA50lEQVQY02NgQAfswZ+DXJQfMDAqO6BKcGtd\n",
       "YAhgBTJYE1Al2BIYuB9MBzL4C1AluA4wCDEqABn9AlAjVFxcQTQjA0Mu1wUgYwpEnCNaAKaHd8E1\n",
       "EBW1ezmIOgoXZ2ASUATp/CogfwBIxyBsqeTbAHL2RwZmEB2AkAA7loEtgIF/AtBcExcXFyeIKwpm\n",
       "MDAIMLBMYOgHOhjsQAgQ4gGy14C8kQ+yF+H/tUCfMH5g4L/AaAfi7oY7NqEN6EsHBq4HTOAwYS2A\n",
       "OzaQgUddgYFxZR6Yz7ioESLRrGqkZG80AeFIjkmQIIECANNVKrcrbsjPAAAAAElFTkSuQmCC\n",
       "\" style=\"display:inline;vertical-align:middle;\" /></a>, <a class=\"ProveItLink\" href=\"../__pv_it/theorems/8c5864665d603ebc7e84fdb786d604e60f56fcc70/expr.ipynb\"><img src=\"data:image/png;base64,iVBORw0KGgoAAAANSUhEUgAAAD0AAAATBAMAAADR6hicAAAAMFBMVEX///8AAAAAAAAAAAAAAAAA\n",
       "AAAAAAAAAAAAAAAAAAAAAAAAAAAAAAAAAAAAAAAAAAAv3aB7AAAAD3RSTlMAiXZmMiLdVJm77xBE\n",
       "zatgdeJyAAAACXBIWXMAAA7EAAAOxAGVKw4bAAAA0ElEQVQoz2NgwA04GPADTrLkbVfOv7bSAI/+\n",
       "CXEM5yw34JEPZOBkecDQOXPWzJkG2OU5Ai5g6tdMS7sAl5+AIX9WG6Gfb/cDhLyQsgOQZL2NZL5n\n",
       "bQBcPqyAA2QYbwBcPuraN21E+CUycCmA5JHcZ7wXKZB/Q2ivNCCYAJHn3IzwF9cECL0TST9Lw2w4\n",
       "b78ChGZD9n9LJJzHDzTqAJBmUkCS38kEtwDoeEaQ/xiuw+UjGJgN5sANEDSGBMy+ORtg8TeVYeb9\n",
       "AoxwPzgNEr4oAABdmzkc2vbi6QAAAABJRU5ErkJggg==\n",
       "\" style=\"display:inline;vertical-align:middle;\" /></a> <a class=\"ProveItLink\" href=\"../__pv_it/demonstrations/034fa92b8c8f0e4168986ac35c8b9dc434bfa01b0/proof.ipynb\" style=\"text-decoration: none\">&nbsp;&#x22A2;&nbsp;&nbsp;</a><a class=\"ProveItLink\" href=\"../__pv_it/theorems/62ad9f478d6d39ae7bb2fe2ca90b256eb0a4115c0/expr.ipynb\"><img src=\"data:image/png;base64,iVBORw0KGgoAAAANSUhEUgAAAJcAAAAXBAMAAAD0AcCSAAAAMFBMVEX///8AAAAAAAAAAAAAAAAA\n",
       "AAAAAAAAAAAAAAAAAAAAAAAAAAAAAAAAAAAAAAAAAAAv3aB7AAAAD3RSTlMAInZUiRDNmWbv3US7\n",
       "qzJazP2FAAAACXBIWXMAAA7EAAAOxAGVKw4bAAACKElEQVQ4y61UPWgUQRT+zs1m7y6XuyWNIAQ2\n",
       "/oCVnCAWVktKIbKVEFDvGkEQYQuLJQi3pImdl07Q4kAhoCiHXaqs6awS4mF9llqdSmxsfO/d7pqZ\n",
       "nVtEfHA3uzPf9818770dYGasbuK/RX345R9YrnnqEe4U5ivpOHfRK7gQmVPtotg7+j0z7HsuHV83\n",
       "+wUXzMEVFW9/GNAGMfCtqGX509FJ7LGCZxfMsbsaYz6kv7vAfczpYjfTsTbU8OKCOE6sMVpsews4\n",
       "/fiCLhZlEFfDiwvi1HTGXsB7B6ZSZYmaH8JX8OKCOFd1xnWBxwYtK8tIJdoMFLy4IM5DXhyt/Cn1\n",
       "g7MfqfaHBjGHj7O8uqTOCl765RD3aNh1G8d5dX4GHRfVvCwbrzjeZMdd2MaBkoIpnoM4L+j9KZxB\n",
       "7uUYNQ9W3/RNUKrXY2yo3gUvT32uqjNB3ZdN2EsXLR/NiUGMO6IHvMzeO90cz0EcEqsl6Ejn7PD2\n",
       "PvbaWOjPEHsO+1d+0jDHcxCHbHY8PDnZNr0A1sCQM7Jpf0d1ordlb5pE4uyTWBufrKwPW2NKIaqJ\n",
       "4WQND/YPLHYvK2KClwIkWGOQteNki4txI0y7QA/ul31cC8OTk1N82jlfKfFHN5Yv5aUeRXINGMSa\n",
       "5P32+c9HY6U1RlF+daA+Nn04Z4w339vSe5E41dC0EBnhW6VizHlvmK8kRnjDLdESzq2/Z9lJiZhw\n",
       "Kl5xYWUGYalEjDi/AXcSfUxHiaxFAAAAAElFTkSuQmCC\n",
       "\" style=\"display:inline;vertical-align:middle;\" /></a></span>"
      ],
      "text/plain": [
       "{a in RealPos, b in Integer, c in RealPos} |- (a * b)^{c} = (a^{c} * b^{c})"
      ]
     },
     "metadata": {},
     "output_type": "display_data"
    }
   ],
   "source": [
    "Exp(Mult(a, b), c).factorization(\n",
    "        Exp(a, c),\n",
    "        assumptions = [InSet(a, RealPos), InSet(b, Integer), \n",
    "                       InSet(c, RealPos), InSet(d, Integer)])"
   ]
  },
  {
   "cell_type": "code",
   "execution_count": 71,
   "metadata": {},
   "outputs": [
    {
     "data": {
      "text/html": [
       "<span style=\"font-size:20px;\"><a class=\"ProveItLink\" href=\"../__pv_it/theorems/5a0c211ed8c0f89e15d717d80d4627baae693acb0/expr.ipynb\"><img src=\"data:image/png;base64,iVBORw0KGgoAAAANSUhEUgAAAD8AAAATBAMAAADVH8ihAAAAMFBMVEX///8AAAAAAAAAAAAAAAAA\n",
       "AAAAAAAAAAAAAAAAAAAAAAAAAAAAAAAAAAAAAAAAAAAv3aB7AAAAD3RSTlMAIquJdkTvuxBmmd1U\n",
       "zTKBpmoTAAAACXBIWXMAAA7EAAAOxAGVKw4bAAAA3UlEQVQoz2NgwAO4GAgAdjIVzE2vv50+AZ8J\n",
       "BUIMQdMb8CkQZmDnU2BYXl5WXj4BhwIugQtYTHDfvfsCXEEBpoJYD4QJTB0KcAWMyo4OYPoGkhXP\n",
       "zwrAFYQJsP8A0bwCcAVit397wEOSI5OBawNYAZIjZ/YihfcHBm4DEOPZbiAogChg70R4j62AoT8A\n",
       "xGhHMoFvQQWc1+/AMB/M4EYOh3XiCAUHGHR5QO5jcUBS0M4Ct4PdgWcXJN7vwBVIMXBOKIXxOFTs\n",
       "hPzArKbSBlhsFjKU3z+AGQfB1ZCgRgEAfyQ4BfovW/4AAAAASUVORK5CYII=\n",
       "\" style=\"display:inline;vertical-align:middle;\" /></a>, <a class=\"ProveItLink\" href=\"../__pv_it/theorems/035e0ae7bd8c0fe127ee5d2062443d6c874adcdd0/expr.ipynb\"><img src=\"data:image/png;base64,iVBORw0KGgoAAAANSUhEUgAAADAAAAAQBAMAAACigOGCAAAAMFBMVEX///8AAAAAAAAAAAAAAAAA\n",
       "AAAAAAAAAAAAAAAAAAAAAAAAAAAAAAAAAAAAAAAAAAAv3aB7AAAAD3RSTlMAELvv3c2ZVESJq3Yi\n",
       "MmZ3LnoBAAAACXBIWXMAAA7EAAAOxAGVKw4bAAAA50lEQVQY02NgQAfswZ+DXJQfMDAqO6BKcGtd\n",
       "YAhgBTJYE1Al2BIYuB9MBzL4C1AluA4wCDEqABn9AlAjVFxcQTQjA0Mu1wUgYwpEnCNaAKaHd8E1\n",
       "EBW1ezmIOgoXZ2ASUATp/CogfwBIxyBsqeTbAHL2RwZmEB2AkAA7loEtgIF/AtBcExcXFyeIKwpm\n",
       "MDAIMLBMYOgHOhjsQAgQ4gGy14C8kQ+yF+H/tUCfMH5g4L/AaAfi7oY7NqEN6EsHBq4HTOAwYS2A\n",
       "OzaQgUddgYFxZR6Yz7ioESLRrGqkZG80AeFIjkmQIIECANNVKrcrbsjPAAAAAElFTkSuQmCC\n",
       "\" style=\"display:inline;vertical-align:middle;\" /></a>, <a class=\"ProveItLink\" href=\"../__pv_it/theorems/8c5864665d603ebc7e84fdb786d604e60f56fcc70/expr.ipynb\"><img src=\"data:image/png;base64,iVBORw0KGgoAAAANSUhEUgAAAD0AAAATBAMAAADR6hicAAAAMFBMVEX///8AAAAAAAAAAAAAAAAA\n",
       "AAAAAAAAAAAAAAAAAAAAAAAAAAAAAAAAAAAAAAAAAAAv3aB7AAAAD3RSTlMAiXZmMiLdVJm77xBE\n",
       "zatgdeJyAAAACXBIWXMAAA7EAAAOxAGVKw4bAAAA0ElEQVQoz2NgwA04GPADTrLkbVfOv7bSAI/+\n",
       "CXEM5yw34JEPZOBkecDQOXPWzJkG2OU5Ai5g6tdMS7sAl5+AIX9WG6Gfb/cDhLyQsgOQZL2NZL5n\n",
       "bQBcPqyAA2QYbwBcPuraN21E+CUycCmA5JHcZ7wXKZB/Q2ivNCCYAJHn3IzwF9cECL0TST9Lw2w4\n",
       "b78ChGZD9n9LJJzHDzTqAJBmUkCS38kEtwDoeEaQ/xiuw+UjGJgN5sANEDSGBMy+ORtg8TeVYeb9\n",
       "AoxwPzgNEr4oAABdmzkc2vbi6QAAAABJRU5ErkJggg==\n",
       "\" style=\"display:inline;vertical-align:middle;\" /></a> <a class=\"ProveItLink\" href=\"../__pv_it/demonstrations/243ed37ebae2a3b448f41112c495f55e34d9c92e0/proof.ipynb\" style=\"text-decoration: none\">&nbsp;&#x22A2;&nbsp;&nbsp;</a><a class=\"ProveItLink\" href=\"../__pv_it/demonstrations/36eca99e61d93283c66f5c80299c900ffcaba6f50/expr.ipynb\"><img src=\"data:image/png;base64,iVBORw0KGgoAAAANSUhEUgAAAJcAAAAXBAMAAAD0AcCSAAAAMFBMVEX///8AAAAAAAAAAAAAAAAA\n",
       "AAAAAAAAAAAAAAAAAAAAAAAAAAAAAAAAAAAAAAAAAAAv3aB7AAAAD3RSTlMAInZUiRDNmWbv3US7\n",
       "qzJazP2FAAAACXBIWXMAAA7EAAAOxAGVKw4bAAACIklEQVQ4y62UQWjTUBjH/12apWm7tngRBoPO\n",
       "IXhRehheF3YRBEdOgjCXXYaDIfQwpIhg2WXeLJ5kuxQ2GChK2c3T4i7iTbYhO/aqp0ntjmP/97qk\n",
       "yctrkOGDJOR97/d/3/99XwKMHPMb+G8j3/l1Daqin3qFpcR8ZvDI3qkmXUiZsVpSbJ/XtmbfmcHj\n",
       "Y6mVdCEYzMbnze9tbtAE/iS1DAeLW4Dlm914QLgQjLmsEON13laANWRVsce8ngF2Rw1IF2SsphIo\n",
       "C9ubwM03t1WmwavHFYlTli7I2GrgwOXNdnWl4kkV+sy9AycekC7I3FeJh9JrU6Nl8ESyPNFMY0PZ\n",
       "S7ogsy4qfjI9rPXzW8dkfmjELOYzfnQ3Xv0hS2aVjy+VYj+s5rnrVZALy/LygxifgnS9FTNe5iFL\n",
       "Zof8e1jt0EsfdhVGS/dNMKc5F+9inTRkybCq1hnyjkxKeFlG2UHpTCMmWuIF8Pfq1RPZBywHGYrZ\n",
       "PjzZOntiewcHNRRaI8R2UegFiYqGDFkIhja9Kt5G2+y1C6OtOTNhswerH90gwpI55EQNP42gEctd\n",
       "HgNyviazIst2gSexromwZB6JRcaeFUQnmsX6oAsSQ/TLKb4pG4Qsmd88+KOFqXtheU4a8jegESvR\n",
       "+9MH8XaOsGTyXd2HM6n9831O/S+SydV1gYZ2+WaqmGC+auYzvnZ5sZKiJZnFf6dMP0VMMplqMjA9\n",
       "AriRIkbmEn15fab4m0PIAAAAAElFTkSuQmCC\n",
       "\" style=\"display:inline;vertical-align:middle;\" /></a></span>"
      ],
      "text/plain": [
       "{a in RealPos, b in Integer, c in RealPos} |- (a * b)^{c} = (b^{c} * a^{c})"
      ]
     },
     "metadata": {},
     "output_type": "display_data"
    }
   ],
   "source": [
    "Exp(Mult(a, b), c).factorization(\n",
    "        Exp(a, c), pull='right', group_remainder=True,\n",
    "        assumptions = [InSet(a, RealPos), InSet(b, Integer), \n",
    "                       InSet(c, RealPos), InSet(d, Integer)])"
   ]
  },
  {
   "cell_type": "code",
   "execution_count": 72,
   "metadata": {},
   "outputs": [
    {
     "data": {
      "text/html": [
       "<span style=\"font-size:20px;\"><a class=\"ProveItLink\" href=\"../__pv_it/theorems/5a0c211ed8c0f89e15d717d80d4627baae693acb0/expr.ipynb\"><img src=\"data:image/png;base64,iVBORw0KGgoAAAANSUhEUgAAAD8AAAATBAMAAADVH8ihAAAAMFBMVEX///8AAAAAAAAAAAAAAAAA\n",
       "AAAAAAAAAAAAAAAAAAAAAAAAAAAAAAAAAAAAAAAAAAAv3aB7AAAAD3RSTlMAIquJdkTvuxBmmd1U\n",
       "zTKBpmoTAAAACXBIWXMAAA7EAAAOxAGVKw4bAAAA3UlEQVQoz2NgwAO4GAgAdjIVzE2vv50+AZ8J\n",
       "BUIMQdMb8CkQZmDnU2BYXl5WXj4BhwIugQtYTHDfvfsCXEEBpoJYD4QJTB0KcAWMyo4OYPoGkhXP\n",
       "zwrAFYQJsP8A0bwCcAVit397wEOSI5OBawNYAZIjZ/YihfcHBm4DEOPZbiAogChg70R4j62AoT8A\n",
       "xGhHMoFvQQWc1+/AMB/M4EYOh3XiCAUHGHR5QO5jcUBS0M4Ct4PdgWcXJN7vwBVIMXBOKIXxOFTs\n",
       "hPzArKbSBlhsFjKU3z+AGQfB1ZCgRgEAfyQ4BfovW/4AAAAASUVORK5CYII=\n",
       "\" style=\"display:inline;vertical-align:middle;\" /></a>, <a class=\"ProveItLink\" href=\"../__pv_it/theorems/035e0ae7bd8c0fe127ee5d2062443d6c874adcdd0/expr.ipynb\"><img src=\"data:image/png;base64,iVBORw0KGgoAAAANSUhEUgAAADAAAAAQBAMAAACigOGCAAAAMFBMVEX///8AAAAAAAAAAAAAAAAA\n",
       "AAAAAAAAAAAAAAAAAAAAAAAAAAAAAAAAAAAAAAAAAAAv3aB7AAAAD3RSTlMAELvv3c2ZVESJq3Yi\n",
       "MmZ3LnoBAAAACXBIWXMAAA7EAAAOxAGVKw4bAAAA50lEQVQY02NgQAfswZ+DXJQfMDAqO6BKcGtd\n",
       "YAhgBTJYE1Al2BIYuB9MBzL4C1AluA4wCDEqABn9AlAjVFxcQTQjA0Mu1wUgYwpEnCNaAKaHd8E1\n",
       "EBW1ezmIOgoXZ2ASUATp/CogfwBIxyBsqeTbAHL2RwZmEB2AkAA7loEtgIF/AtBcExcXFyeIKwpm\n",
       "MDAIMLBMYOgHOhjsQAgQ4gGy14C8kQ+yF+H/tUCfMH5g4L/AaAfi7oY7NqEN6EsHBq4HTOAwYS2A\n",
       "OzaQgUddgYFxZR6Yz7ioESLRrGqkZG80AeFIjkmQIIECANNVKrcrbsjPAAAAAElFTkSuQmCC\n",
       "\" style=\"display:inline;vertical-align:middle;\" /></a>, <a class=\"ProveItLink\" href=\"../__pv_it/theorems/8c5864665d603ebc7e84fdb786d604e60f56fcc70/expr.ipynb\"><img src=\"data:image/png;base64,iVBORw0KGgoAAAANSUhEUgAAAD0AAAATBAMAAADR6hicAAAAMFBMVEX///8AAAAAAAAAAAAAAAAA\n",
       "AAAAAAAAAAAAAAAAAAAAAAAAAAAAAAAAAAAAAAAAAAAv3aB7AAAAD3RSTlMAiXZmMiLdVJm77xBE\n",
       "zatgdeJyAAAACXBIWXMAAA7EAAAOxAGVKw4bAAAA0ElEQVQoz2NgwA04GPADTrLkbVfOv7bSAI/+\n",
       "CXEM5yw34JEPZOBkecDQOXPWzJkG2OU5Ai5g6tdMS7sAl5+AIX9WG6Gfb/cDhLyQsgOQZL2NZL5n\n",
       "bQBcPqyAA2QYbwBcPuraN21E+CUycCmA5JHcZ7wXKZB/Q2ivNCCYAJHn3IzwF9cECL0TST9Lw2w4\n",
       "b78ChGZD9n9LJJzHDzTqAJBmUkCS38kEtwDoeEaQ/xiuw+UjGJgN5sANEDSGBMy+ORtg8TeVYeb9\n",
       "AoxwPzgNEr4oAABdmzkc2vbi6QAAAABJRU5ErkJggg==\n",
       "\" style=\"display:inline;vertical-align:middle;\" /></a>, <a class=\"ProveItLink\" href=\"../../addition/__pv_it/theorems/281ba5ce706314e3783f416248e235040ec067e70/expr.ipynb\"><img src=\"data:image/png;base64,iVBORw0KGgoAAAANSUhEUgAAADIAAAAQBAMAAACmdTG/AAAAMFBMVEX///8AAAAAAAAAAAAAAAAA\n",
       "AAAAAAAAAAAAAAAAAAAAAAAAAAAAAAAAAAAAAAAAAAAv3aB7AAAAD3RSTlMAMs3vmVREEIndIqt2\n",
       "u2aBbGR5AAAACXBIWXMAAA7EAAAOxAGVKw4bAAAA70lEQVQY02NgwACsyp91Z15+AGIyKjsgy/Dc\n",
       "FmBQYIKw+QOQZVgcGHgetELY+QXIMtwLGGrZL0DYnRBTbs6cBKLZGRgcuQUgMioggk0HrpNxgwiI\n",
       "4tpx8CuIXoQwkrfgOohKXsD7HURrIWyK4DsAMtWOgUUBxFVAyEDczPKBgbMBZLblzJkz50KcEtDG\n",
       "wFDAwHyBoT4BpPcCXEstF5C9i6H+AMN7MH8CXGYj0EfsHxjqAxg2sS4A8s/A3eyQAvTuBAbeA6xT\n",
       "WEACTAFwN6szcF29wMC+p3H1QbDX96ZDZJIv2d61t21ACi+2XkjoQAEAkGM3rHcIm38AAAAASUVO\n",
       "RK5CYII=\n",
       "\" style=\"display:inline;vertical-align:middle;\" /></a> <a class=\"ProveItLink\" href=\"../__pv_it/demonstrations/7e6b2e44fdd77690fc238665b5e9af3aa28e6d550/proof.ipynb\" style=\"text-decoration: none\">&nbsp;&#x22A2;&nbsp;&nbsp;</a><a class=\"ProveItLink\" href=\"../__pv_it/demonstrations/31d5f9afd413ca7ff8ea7d6fa9c6acb6b54844560/expr.ipynb\"><img src=\"data:image/png;base64,iVBORw0KGgoAAAANSUhEUgAAANMAAAAaBAMAAADfznSWAAAAMFBMVEX///8AAAAAAAAAAAAAAAAA\n",
       "AAAAAAAAAAAAAAAAAAAAAAAAAAAAAAAAAAAAAAAAAAAv3aB7AAAAD3RSTlMAInZUiRDNmWbv3US7\n",
       "qzJazP2FAAAACXBIWXMAAA7EAAAOxAGVKw4bAAAC0UlEQVRIx61WTWgTQRh9yTbdbJImixdBKEnF\n",
       "gopKFPHgxdCLIqh7kILQmiAUBQnkIBJKpSEXlR6MnkQ9RCwUFCF489TYiwoFS1qKBw/xpiIkGuNF\n",
       "KP1ms9nszM7WGByY7PLefN+b+X5mA/z3caH+d0QYE0U3ttCHVFyCqDtahCpfXZiS60PqkATxVc0X\n",
       "3b2aQXO47MInrefQ/gRP9ICLxSuCkYmYEfIn3VKvaD6WbPid9XwRLfGEDQSeRrd4qoOEDHo9LjDv\n",
       "yyRfAH64lXzkb+oRoFYDfKJ7gJqLNnmjDuJfI9cZwd8wy8cMcB1DopSaop+rgFYRCAZ8X6WhaxV/\n",
       "VeQYEmiTeUEwi7GA3gZ23xkXpWJMokVPMb09IK1Hxg2Os5BrJCr6W2YrNUNWWw1Cw7S94QpSfCRs\n",
       "QNMbX3hbC5kDToj+zpq2BZnUQVZrlEpfvsi76wHh/LEzvJGFHABusJUbY73ize5dJ4drMqlNtona\n",
       "Yb5kRyd2ebaYg6NgUQzxWo+07Qr8baR1BO1imX3OxkvzfZWFfibA1Wb4Pj4YHkpOrlHHM/L+EGrZ\n",
       "vhDa0BJQSjLTLM1TBh44sUsFzHodysnFK6xT1SZCKfNArKAziKUgNkdnLNG8Cfzq1hY7+jywKFnq\n",
       "4tKmlFZlL5YrEl1OIux5qkWEW91bknXgEwT+yG5QkYubAUwncM/ZVvMGlLIsV1mzrdS283L5iWDT\n",
       "I34c19CxQlJJbCrdJozVKXUIVmW2n2husQw43LUwkjnqIeXkqALPAZGEsmR/UEYKkZx1BbkG9QY+\n",
       "4i2HreBkzuvT4uTuAt9IvXZ+9Ii9lY28+bGSmbKLZPo0393T+z7XvD6yTu4WOZWu2yM11SqD/w2g\n",
       "/g1KT5+XLpeHta/Bbna8kRA+aVUgWhpYKshuuikJEdHlBusDS4WYR1/CTYx5GEwOLFX8VwNl0GR5\n",
       "ZGSnsTCglEptsg0xd7goXRpd1gAAAABJRU5ErkJggg==\n",
       "\" style=\"display:inline;vertical-align:middle;\" /></a></span>"
      ],
      "text/plain": [
       "{a in RealPos, b in Integer, c in RealPos, d in Integer} |- (a * b)^{c} = (b^{c} * a^{c - d} * a^{d})"
      ]
     },
     "metadata": {},
     "output_type": "display_data"
    }
   ],
   "source": [
    "Exp(Mult(a, b), c).factorization(\n",
    "        Exp(a, d), pull='right',\n",
    "        assumptions = [InSet(a, RealPos), InSet(b, Integer), \n",
    "                       InSet(c, RealPos), InSet(d, Integer)])"
   ]
  },
  {
   "cell_type": "code",
   "execution_count": 73,
   "metadata": {},
   "outputs": [
    {
     "data": {
      "text/html": [
       "<span style=\"font-size:20px;\"><a class=\"ProveItLink\" href=\"../__pv_it/theorems/5a0c211ed8c0f89e15d717d80d4627baae693acb0/expr.ipynb\"><img src=\"data:image/png;base64,iVBORw0KGgoAAAANSUhEUgAAAD8AAAATBAMAAADVH8ihAAAAMFBMVEX///8AAAAAAAAAAAAAAAAA\n",
       "AAAAAAAAAAAAAAAAAAAAAAAAAAAAAAAAAAAAAAAAAAAv3aB7AAAAD3RSTlMAIquJdkTvuxBmmd1U\n",
       "zTKBpmoTAAAACXBIWXMAAA7EAAAOxAGVKw4bAAAA3UlEQVQoz2NgwAO4GAgAdjIVzE2vv50+AZ8J\n",
       "BUIMQdMb8CkQZmDnU2BYXl5WXj4BhwIugQtYTHDfvfsCXEEBpoJYD4QJTB0KcAWMyo4OYPoGkhXP\n",
       "zwrAFYQJsP8A0bwCcAVit397wEOSI5OBawNYAZIjZ/YihfcHBm4DEOPZbiAogChg70R4j62AoT8A\n",
       "xGhHMoFvQQWc1+/AMB/M4EYOh3XiCAUHGHR5QO5jcUBS0M4Ct4PdgWcXJN7vwBVIMXBOKIXxOFTs\n",
       "hPzArKbSBlhsFjKU3z+AGQfB1ZCgRgEAfyQ4BfovW/4AAAAASUVORK5CYII=\n",
       "\" style=\"display:inline;vertical-align:middle;\" /></a>, <a class=\"ProveItLink\" href=\"../__pv_it/theorems/035e0ae7bd8c0fe127ee5d2062443d6c874adcdd0/expr.ipynb\"><img src=\"data:image/png;base64,iVBORw0KGgoAAAANSUhEUgAAADAAAAAQBAMAAACigOGCAAAAMFBMVEX///8AAAAAAAAAAAAAAAAA\n",
       "AAAAAAAAAAAAAAAAAAAAAAAAAAAAAAAAAAAAAAAAAAAv3aB7AAAAD3RSTlMAELvv3c2ZVESJq3Yi\n",
       "MmZ3LnoBAAAACXBIWXMAAA7EAAAOxAGVKw4bAAAA50lEQVQY02NgQAfswZ+DXJQfMDAqO6BKcGtd\n",
       "YAhgBTJYE1Al2BIYuB9MBzL4C1AluA4wCDEqABn9AlAjVFxcQTQjA0Mu1wUgYwpEnCNaAKaHd8E1\n",
       "EBW1ezmIOgoXZ2ASUATp/CogfwBIxyBsqeTbAHL2RwZmEB2AkAA7loEtgIF/AtBcExcXFyeIKwpm\n",
       "MDAIMLBMYOgHOhjsQAgQ4gGy14C8kQ+yF+H/tUCfMH5g4L/AaAfi7oY7NqEN6EsHBq4HTOAwYS2A\n",
       "OzaQgUddgYFxZR6Yz7ioESLRrGqkZG80AeFIjkmQIIECANNVKrcrbsjPAAAAAElFTkSuQmCC\n",
       "\" style=\"display:inline;vertical-align:middle;\" /></a>, <a class=\"ProveItLink\" href=\"../__pv_it/theorems/8c5864665d603ebc7e84fdb786d604e60f56fcc70/expr.ipynb\"><img src=\"data:image/png;base64,iVBORw0KGgoAAAANSUhEUgAAAD0AAAATBAMAAADR6hicAAAAMFBMVEX///8AAAAAAAAAAAAAAAAA\n",
       "AAAAAAAAAAAAAAAAAAAAAAAAAAAAAAAAAAAAAAAAAAAv3aB7AAAAD3RSTlMAiXZmMiLdVJm77xBE\n",
       "zatgdeJyAAAACXBIWXMAAA7EAAAOxAGVKw4bAAAA0ElEQVQoz2NgwA04GPADTrLkbVfOv7bSAI/+\n",
       "CXEM5yw34JEPZOBkecDQOXPWzJkG2OU5Ai5g6tdMS7sAl5+AIX9WG6Gfb/cDhLyQsgOQZL2NZL5n\n",
       "bQBcPqyAA2QYbwBcPuraN21E+CUycCmA5JHcZ7wXKZB/Q2ivNCCYAJHn3IzwF9cECL0TST9Lw2w4\n",
       "b78ChGZD9n9LJJzHDzTqAJBmUkCS38kEtwDoeEaQ/xiuw+UjGJgN5sANEDSGBMy+ORtg8TeVYeb9\n",
       "AoxwPzgNEr4oAABdmzkc2vbi6QAAAABJRU5ErkJggg==\n",
       "\" style=\"display:inline;vertical-align:middle;\" /></a>, <a class=\"ProveItLink\" href=\"../../addition/__pv_it/theorems/281ba5ce706314e3783f416248e235040ec067e70/expr.ipynb\"><img src=\"data:image/png;base64,iVBORw0KGgoAAAANSUhEUgAAADIAAAAQBAMAAACmdTG/AAAAMFBMVEX///8AAAAAAAAAAAAAAAAA\n",
       "AAAAAAAAAAAAAAAAAAAAAAAAAAAAAAAAAAAAAAAAAAAv3aB7AAAAD3RSTlMAMs3vmVREEIndIqt2\n",
       "u2aBbGR5AAAACXBIWXMAAA7EAAAOxAGVKw4bAAAA70lEQVQY02NgwACsyp91Z15+AGIyKjsgy/Dc\n",
       "FmBQYIKw+QOQZVgcGHgetELY+QXIMtwLGGrZL0DYnRBTbs6cBKLZGRgcuQUgMioggk0HrpNxgwiI\n",
       "4tpx8CuIXoQwkrfgOohKXsD7HURrIWyK4DsAMtWOgUUBxFVAyEDczPKBgbMBZLblzJkz50KcEtDG\n",
       "wFDAwHyBoT4BpPcCXEstF5C9i6H+AMN7MH8CXGYj0EfsHxjqAxg2sS4A8s/A3eyQAvTuBAbeA6xT\n",
       "WEACTAFwN6szcF29wMC+p3H1QbDX96ZDZJIv2d61t21ACi+2XkjoQAEAkGM3rHcIm38AAAAASUVO\n",
       "RK5CYII=\n",
       "\" style=\"display:inline;vertical-align:middle;\" /></a> <a class=\"ProveItLink\" href=\"../__pv_it/demonstrations/e1027f00931f92000c402670561eafaf2fd9be9f0/proof.ipynb\" style=\"text-decoration: none\">&nbsp;&#x22A2;&nbsp;&nbsp;</a><a class=\"ProveItLink\" href=\"../__pv_it/demonstrations/05cd68f7438829df8a34b369afd1176ec7085c390/expr.ipynb\"><img src=\"data:image/png;base64,iVBORw0KGgoAAAANSUhEUgAAAOUAAAAaBAMAAAC6I4bpAAAAMFBMVEX///8AAAAAAAAAAAAAAAAA\n",
       "AAAAAAAAAAAAAAAAAAAAAAAAAAAAAAAAAAAAAAAAAAAv3aB7AAAAD3RSTlMAInZUiRDNmWbv3US7\n",
       "qzJazP2FAAAACXBIWXMAAA7EAAAOxAGVKw4bAAADYUlEQVRIx51WT0gUURj/dtdxdtx1dugSheIa\n",
       "GhkZW0hBl8RLElRzKKHQRgIpCGEP/VmkcDGiQiLtFNlhJUMogqVLdHLzUoGQqEiHDnbLCHZt2y7B\n",
       "0vtm35uZnflGNz/QeXz///y+9xZge1RX3kLhzNp23PaMeXnj4hAoOLjhrFezxctKsj9505AN2XUP\n",
       "L5QUp2DOwT5KmB/wspow14qd5pUi6xZc9PD7+Ffq3Ru3udKgaPg+wT07dsk1CyYKo9RsXjDhjfmG\n",
       "/U0RyX/k3wta3jGuaJofXqkTPItp1TVvU/QC26ezf13VQulThuXBvGx4Qwa4S7gJeQd7F//KOYln\n",
       "IidVe979T4WoE0tcdDRGUD3ObAjgKtS5Y8rd/DBVNa5r/KswKP1cYKQpWee8L1dEAAarUSoxP2mX\n",
       "4xj2+h7Azvvt7pgxjk9pA+bP2ey/Qmwhw9Ci7bolLwpRPca6wjJwO55DZUWnoJwX3Em1fNfiqiXR\n",
       "oSzwRiha/rvlIVISIjlnYhOOuB2ftDLy0H5xeHunzVYIZsS4U2M8UCR1uNeGbEaIgoiHjsowAiut\n",
       "NvSH9ywzvUUq5qpb16RGRERzzw6/Ra9f6kzYFWMfWXvhnRYtWbj9oxsahC1kjbxEem2eF1y6fFVY\n",
       "xyKT8Fn3iWkMSXwHzAViW/achXkCcsa6akqgxCE0QVkPu3R5Hawn59Mw4lfncR0e8+Yj2lqyuPpy\n",
       "ARpw+AYWJw9CrBvUAmU9a+vynpiXJFuuUYAZqkT0eAPgN9fHmIYZU8nhoWKMHucSEPGrU+haSVTq\n",
       "fFbx57mz0eMMRIq8Tuxti9lbIw6PnOs5qkMoQ81z2KVr9Vb6BeGCX2+LIHMEqDjXvAbzzE8CVkNi\n",
       "n2NrbGQQzlHWX126HLc5kIoMvYd8YpZx2lW4PcWAFw/NWu9aYzqadNxyVdTh0uX7yeYwD8eSSZ+Y\n",
       "X+CDeGdxYg8AfrDRLp1uPmjhYiVlPp6UNUuxStfOfqDt25LfD4OBE+L+kHHrbzPvpOpu0lohMyFf\n",
       "Pfp24PdtmGxJirShO269K1uSeFfgPSEMkBACldwgWK815kOcKfa3nxBGNdpomeQ2JmqMOY1IQdeB\n",
       "uFfY6mPUR3I9z74P2b+H/odC9EC7arNu8p/aZjROF5Ctyfg6wpDB6B+Z8daLbUJ/1wAAAABJRU5E\n",
       "rkJggg==\n",
       "\" style=\"display:inline;vertical-align:middle;\" /></a></span>"
      ],
      "text/plain": [
       "{a in RealPos, b in Integer, c in RealPos, d in Integer} |- (a * b)^{c} = (a^{d} * (a^{c - d} * b^{c}))"
      ]
     },
     "metadata": {},
     "output_type": "display_data"
    }
   ],
   "source": [
    "Exp(Mult(a, b), c).factorization(\n",
    "        Exp(a, d), group_remainder=True,\n",
    "        assumptions = [InSet(a, RealPos), InSet(b, Integer), \n",
    "                       InSet(c, RealPos), InSet(d, Integer)])"
   ]
  },
  {
   "cell_type": "markdown",
   "metadata": {},
   "source": [
    "### Testing Exp.distribution()"
   ]
  },
  {
   "cell_type": "code",
   "execution_count": 74,
   "metadata": {},
   "outputs": [
    {
     "data": {
      "text/html": [
       "<strong id=\"expr_mult_02\">expr_mult_02:</strong> <a class=\"ProveItLink\" href=\"../__pv_it/demonstrations/a6861355d1f8fe2407e08038b87aa9e234a207650/expr.ipynb\"><img src=\"data:image/png;base64,iVBORw0KGgoAAAANSUhEUgAAADoAAAAaBAMAAAAUOVItAAAAMFBMVEX///8AAAAAAAAAAAAAAAAA\n",
       "AAAAAAAAAAAAAAAAAAAAAAAAAAAAAAAAAAAAAAAAAAAv3aB7AAAAD3RSTlMAInZUiRDNmWbv3US7\n",
       "qzJazP2FAAAACXBIWXMAAA7EAAAOxAGVKw4bAAABNUlEQVQoz2NgwA3CK/BIMpzYh0/2Kz5J2ykG\n",
       "eGQ5DoBIAUwJsBB7AZBgwqJ/E4jgaQASJqgSrCcXAHWAJDgfAHkJaPrYQAamAnF8AND0BjRZfpBN\n",
       "7UD8EqQf3c79ASDRAIgKM3RZL7DxDQyH7wHpEiBmvKKoAJfNVbrMwMBygcEJJJQBxDsFeOChxvot\n",
       "IF6AgQPq1sVAgRkM7AtgssxfGTgVGJgnQHizgc7+wMDlAPICSAN7AgO/AwPfB7gs5wGG+A1AJhfI\n",
       "p0B1+w0YuCfATY5XYOhH9m59AAMz1KZDQFkDhmvMsLjgfwB0BjR+GBh8gcGtwLycHaaXt4EHaAG7\n",
       "A4T3CujmS36yenAfXQGlJq4NEB7XA2wxLwVLAQXYZOGp8SAWScYDMFYMFlkeeGpiVMCUVYTSAGiT\n",
       "OwxRyu5UAAAAAElFTkSuQmCC\n",
       "\" style=\"display:inline;vertical-align:middle;\" /></a><br>"
      ],
      "text/plain": [
       "<IPython.core.display.HTML object>"
      ]
     },
     "metadata": {},
     "output_type": "display_data"
    },
    {
     "data": {
      "text/html": [
       "<strong id=\"expr_mult_03\">expr_mult_03:</strong> <a class=\"ProveItLink\" href=\"../__pv_it/demonstrations/cd2553ee70fd7ea3b742ab7c7c654a7fd5807e210/expr.ipynb\"><img src=\"data:image/png;base64,iVBORw0KGgoAAAANSUhEUgAAAFIAAAAaBAMAAADWCRapAAAAMFBMVEX///8AAAAAAAAAAAAAAAAA\n",
       "AAAAAAAAAAAAAAAAAAAAAAAAAAAAAAAAAAAAAAAAAAAv3aB7AAAAD3RSTlMAInZUiRDNmWbv3US7\n",
       "qzJazP2FAAAACXBIWXMAAA7EAAAOxAGVKw4bAAABY0lEQVQ4y2NgIA6EVxCpkOHEPmJVfiVWoe0U\n",
       "AyJVchwAkQL4FYGl2QuABBMBczeBCJ4GIGGCKsF6cgGqABNIEecDoEwCmhlsBWgCqUAcHwB0QQOa\n",
       "BD+6a9qB+CXIXHR37Q9AE+AMgKg2Q1fphS7A1sBw+B6QLgFixiuKCnCJXKXLCFVOGg8YWC4wOIGk\n",
       "M4B4pwAPPLZYvwXEw0NYyoD9AAMH1M+LgZIzGNjhQcP8lYETbsESEJt5AoQzG+j9DwxcDqCgAGlm\n",
       "T2Dgd4CxwTbxfYCr5DzAEL8ByOQChSRQz34DKJsTHNvcE+C2xysw9CMHZz0snOLBzmCGuuwQUMCA\n",
       "4RozzBf8D4DOhrGBsbIBmo4YGHyB0a/AvJwdJsvbwAOPTqDHWR4wsDtAeK+Afr/kJ6sHD6UrSDnG\n",
       "pUMV6OQNEA7XA0KpWAqWmgsIqYTbcZCAQsYDMFYMAZU88LhlVMCvUhFKAwAwSEWMh+6WNAAAAABJ\n",
       "RU5ErkJggg==\n",
       "\" style=\"display:inline;vertical-align:middle;\" /></a><br>"
      ],
      "text/plain": [
       "<IPython.core.display.HTML object>"
      ]
     },
     "metadata": {},
     "output_type": "display_data"
    }
   ],
   "source": [
    "expr_mult_02, expr_mult_03 = (\n",
    "    Exp(Mult(a, b), f),\n",
    "    Exp(Mult(a, b, c), f))"
   ]
  },
  {
   "cell_type": "code",
   "execution_count": 75,
   "metadata": {},
   "outputs": [
    {
     "data": {
      "text/html": [
       "<strong id=\"temp_assumptions\">temp_assumptions:</strong> <a class=\"ProveItLink\" href=\"../__pv_it/demonstrations/764bdddba9e8a886eebd7a07d3d7aa02eb5ae0930/expr.ipynb\"><img src=\"data:image/png;base64,iVBORw0KGgoAAAANSUhEUgAAAhIAAAAZCAMAAABTuzdnAAAAPFBMVEX///8AAAAAAAAAAAAAAAAA\n",
       "AAAAAAAAAAAAAAAAAAAAAAAAAAAAAAAAAAAAAAAAAAAAAAAAAAAAAAAAAAAo1xBWAAAAE3RSTlMA\n",
       "ZkRUmRDNuyLviTJ23avn9enzmrWLfwAAAAlwSFlzAAAOxAAADsQBlSsOGwAABQNJREFUaN7tW+ea\n",
       "5CgMxOS8e+f3f9cl2N3YJhmz983MNT8mVyEVQhLYA4AbCwTDA4M546vxzKX6HuPtMHriO5tkzlfj\n",
       "mUv1PQbfPSYUfELiExKhXOjN86UXQAVjKzUiRQzoRszKGCXuKylWAYd5Ztkzlyp4KJmhVHMle1M2\n",
       "GUz1g7gS0IQfc3Fn33ALALQLI2XdCBOmxYMcSfjb9ZH+XfbEoajAk6gAlrK6FNoKF1kEr6yzJKvD\n",
       "VFJqzLskbeFuT6ht9O/WEsjwSXkoZm4I/+GUZ2hLCWs4kAEkajyz7IljRZOopFWixoU1jJouvSHB\n",
       "VKoe8omU90jaxt2ckKw+1ld4ewlcSNHaVqqL70MCORj1RpinWaLHnjDgSiZRCQRZhUthsP/a9oVE\n",
       "iMJXDQuSSNYhaQfu7oTUbQFVUUoz4wbN6cYqul3Ev/BY7hoZTm+HxJmoz55tb5sJrvW4Z8kLSfrS\n",
       "Hku3NgvLhY6T5OO5jbs9IXam62Ldh1ST/FayhNiKbkfxczyWA6uAlvdC4krUZ8819Q671uOeY7p3\n",
       "qof2kA8CWB3TgjRjuNsTalfJ7R7d3ErNdXJIpaSQXRVDlFd0o1Zri2o8LiQ8kMFGSEitF1Uh6rMn\n",
       "uJZqNe6aS7NWmLQeXLhcl1o8aJw13vRK9yzZV2gpS9qPO0nYBvp0xDbHofDLlKQdyrMFV1CzmmRf\n",
       "XDcEWZ1KZOUVHh8SruQSQ0zlqpAbFDNZkajLnomuxV2li/IGbSWAhXpxMgSbMH799h/3jctXGVdI\n",
       "FyXtx50k7ACqVbn4i5P6Y5PDJL4WerBladxtxaokdIXHhwRYEECsdgI2MuXJEXXZs7lGJ7gWJTxs\n",
       "ugvAVQ2oa4aY2p59r5AsS9qNO0vYBnJ32jBxL+D1xbAFuzDbYKfsyshS7Zqi+LtpWZ4QEr4Ps5WQ\n",
       "wMdOKUfUZ8881+LyNKzaupIOQ2LqwKccK2MC10VJb+ByzWYVSFxIbFlCsO379+1I6aSWHLLKmxvu\n",
       "pTvLE0PCNXKkcqkl2Om6ZtCeia5dO70MFyOFxvRiSLbyxNKODm3iUdJ+nMgZUgXyV+EgIUaWdAOY\n",
       "4uEdK147HwTud3yaYkgApSsHDbKe8p0Zs2ema+8zW4ULJnEFa4aE0v7PvzHJvM85wYDlsL+Pknbj\n",
       "zhJ2AJVrWCyLYD+pO32gVwhpXdLN7Qydya+7Lb7WxrJZ5tnKsVaswrMcVc0Q9dgzwbVD4jhV5gwX\n",
       "1vspLyR8AoqG+D17zkqLuCDPkvbjlktgVoHxxKFjNWfOM+T6Cny857zq5v/AFVwGMweNLQU4O1id\n",
       "5/UjTEGRJzbKUlWIuux57NqLae+/8r6kd1cUc0BQ6NPe6IwhuRcT/CGBCJUiz5L24i4S1oFbfGz3\n",
       "YsRqqbjVCZpYBg8RFR8X+psvxuj1SsTEx2gOJ3Ea0BceRde9yOU6/J0HSHcESK+BzkTd9jx17WXR\n",
       "pbvMcYHwJFSsZnuU9EJnDAGZGxKCpbbqhDxK2ou7SNgAuiDy+U2Un3FAyY63vo1enPxlnptEqNIp\n",
       "DjNhe5urYgeSYx6M4lrA8Izj1pPQRi/+Q3neTMjm6sQDOygZQ47iWsD4JFSJSboR/TN5EibDBl5B\n",
       "q9ixyDHkKK4FBEvMgRbNEW7WCnw1noRp6X5Hpc8OQ8aQo7gWEGyvWzx79/IzHgz1H+NawP3dy2bL\n",
       "8Rn/k5Fc0z35P47P+DkjvqP7B7LCPzMbYYnZAAAAAElFTkSuQmCC\n",
       "\" style=\"display:inline;vertical-align:middle;\" /></a><br>"
      ],
      "text/plain": [
       "<IPython.core.display.HTML object>"
      ]
     },
     "metadata": {},
     "output_type": "display_data"
    }
   ],
   "source": [
    "# some general assumptions\n",
    "temp_assumptions = [InSet(a, RealPos), InSet(b, NaturalPos), InSet(c, RealPos),\n",
    "                    InSet(d, RealPos), InSet(f, Complex),\n",
    "                    NotEquals(a, zero), NotEquals(b, zero), NotEquals(c, zero)]"
   ]
  },
  {
   "cell_type": "code",
   "execution_count": 76,
   "metadata": {},
   "outputs": [
    {
     "data": {
      "text/html": [
       "<span style=\"font-size:20px;\"><a class=\"ProveItLink\" href=\"../__pv_it/theorems/5a0c211ed8c0f89e15d717d80d4627baae693acb0/expr.ipynb\"><img src=\"data:image/png;base64,iVBORw0KGgoAAAANSUhEUgAAAD8AAAATBAMAAADVH8ihAAAAMFBMVEX///8AAAAAAAAAAAAAAAAA\n",
       "AAAAAAAAAAAAAAAAAAAAAAAAAAAAAAAAAAAAAAAAAAAv3aB7AAAAD3RSTlMAIquJdkTvuxBmmd1U\n",
       "zTKBpmoTAAAACXBIWXMAAA7EAAAOxAGVKw4bAAAA3UlEQVQoz2NgwAO4GAgAdjIVzE2vv50+AZ8J\n",
       "BUIMQdMb8CkQZmDnU2BYXl5WXj4BhwIugQtYTHDfvfsCXEEBpoJYD4QJTB0KcAWMyo4OYPoGkhXP\n",
       "zwrAFYQJsP8A0bwCcAVit397wEOSI5OBawNYAZIjZ/YihfcHBm4DEOPZbiAogChg70R4j62AoT8A\n",
       "xGhHMoFvQQWc1+/AMB/M4EYOh3XiCAUHGHR5QO5jcUBS0M4Ct4PdgWcXJN7vwBVIMXBOKIXxOFTs\n",
       "hPzArKbSBlhsFjKU3z+AGQfB1ZCgRgEAfyQ4BfovW/4AAAAASUVORK5CYII=\n",
       "\" style=\"display:inline;vertical-align:middle;\" /></a>, <a class=\"ProveItLink\" href=\"../__pv_it/demonstrations/338bea1169aca2a51c9e3cdb908726f9096b30730/expr.ipynb\"><img src=\"data:image/png;base64,iVBORw0KGgoAAAANSUhEUgAAAD0AAAATBAMAAADR6hicAAAAMFBMVEX///8AAAAAAAAAAAAAAAAA\n",
       "AAAAAAAAAAAAAAAAAAAAAAAAAAAAAAAAAAAAAAAAAAAv3aB7AAAAD3RSTlMAELvv3c2ZVESJq3Yi\n",
       "MmZ3LnoBAAAACXBIWXMAAA7EAAAOxAGVKw4bAAAA+ElEQVQoz2NgwA3YGPADJrLkRT6pCjBM/twA\n",
       "lWdUdkBToM6xgIHxA1w/awKa/JID8xgYDBiSlJSVlB4wMPAXoMkvV2A9wOAA198vABXf5OISAKLX\n",
       "vOYJQJKfApVu3QhlrOG6sBNJPmr3chDFEwgzfw2DAlMDXJ7xq4D8AZAzDyDkrzE6OsDCj/0jA/MG\n",
       "kDwDQp6voMgAHsgBDPwTgPRlFyBQgMgzLOSCy7NMYOgH+VAIST+DFCM80IDezwf5kAVZnneDAlz+\n",
       "AqMdiObeABPRBeK9cHmuB0yQAA6HiYRDXAUFjCvzIAwpDUhAXv0M1MsYgBmxnSoumKIAyg80ctEW\n",
       "W0oAAAAASUVORK5CYII=\n",
       "\" style=\"display:inline;vertical-align:middle;\" /></a>, <a class=\"ProveItLink\" href=\"../__pv_it/demonstrations/5877c4f18966fce44fcf8f5d9907fbb188f1751d0/expr.ipynb\"><img src=\"data:image/png;base64,iVBORw0KGgoAAAANSUhEUgAAADQAAAATBAMAAAAt/zNWAAAAMFBMVEX///8AAAAAAAAAAAAAAAAA\n",
       "AAAAAAAAAAAAAAAAAAAAAAAAAAAAAAAAAAAAAAAAAAAv3aB7AAAAD3RSTlMAmYkQqzLvVES73WZ2\n",
       "Is1wFLxSAAAACXBIWXMAAA7EAAAOxAGVKw4bAAAA3klEQVQoz2NgwAKYNde9uaoAYjEqGaBKHclm\n",
       "MPwpAGKphBWgyDCeAOrYCZZK70TVFcgJ5LOApDg+Q4VOrlr1AEQ7c4Ls2wAkmBZAZPoOQ5VMuAhl\n",
       "cLstARvL+xgqwOsQBDOa/wCY4rsA5bMqdMOk7gdApGB8XoEeGLMeQoWtAoIJYLsuwaS0IJQl3PGT\n",
       "OWGsKRCKCy7VCPIXQwMQ50AEeA4gQsMBSAC9yPsDKvIcru3kwwvmC4E0+weogMkMA3jI5y8EeYXR\n",
       "Aaa4aRYkoGCghK+AAQdYaYdLhmGPLC4ZAK4oMzLOcnldAAAAAElFTkSuQmCC\n",
       "\" style=\"display:inline;vertical-align:middle;\" /></a> <a class=\"ProveItLink\" href=\"../__pv_it/demonstrations/34def9a57431959a53a555f3eb27adf442ac7ec30/proof.ipynb\" style=\"text-decoration: none\">&nbsp;&#x22A2;&nbsp;&nbsp;</a><a class=\"ProveItLink\" href=\"../__pv_it/demonstrations/8e2ea206705b3ad9857c13a504f59d656957e9870/expr.ipynb\"><img src=\"data:image/png;base64,iVBORw0KGgoAAAANSUhEUgAAAKEAAAAcBAMAAAD7K8IuAAAAMFBMVEX///8AAAAAAAAAAAAAAAAA\n",
       "AAAAAAAAAAAAAAAAAAAAAAAAAAAAAAAAAAAAAAAAAAAv3aB7AAAAD3RSTlMAInZUiRDNmWbv3US7\n",
       "qzJazP2FAAAACXBIWXMAAA7EAAAOxAGVKw4bAAACbUlEQVRIx61VMWgUURCdu81m9/b2coudQsgm\n",
       "2NjICUEhEDhiJyjbiaDcNUIaIUUgIsotaYJEMIJFICIHCgGrw87GnLHRyiMGwUbWMjY5lLOxcf7/\n",
       "t3/3/p/dI5CBheEP7+28mfnzAbLt5n04Zfv0/rQZB3lBcy08saTF5zX90O4MHXcz0iVZ+Yx2lzi8\n",
       "EjvVgJBUEBBPx/Eja4XQ2hw6xverlKR15hUJbW+5rlAPJGdPSEkOy3xeyeJzG//CgKVIZzwrvTUF\n",
       "IiQVeykdsU2yyF38GoHOuJr0QYXw9E0spqVqq7IqbOB3RDTmn/ReqhAhaRkdFbTHUisFglWxKTmi\n",
       "5kCFCEkPAS6rqGtcRwgff+iMxbbk3lIhQtIFUZnC4awvw/fmvgJM9GDJ1xkrrOjTS2ews+nR4pCN\n",
       "OF0UDu88N5HzN2h4YCf9st5w6/HhwQkpP4MvgbuYGgQOGUo6juAVnmyDJeUYAyj5YGyR12gSeW+F\n",
       "8AAm5lKnHDKUNNOBHcyiD06d/4ul1IRqHab6JKODWlsAr1PpSYiwBmcsdZmDtstAddirQTk7xxdg\n",
       "JjOUggib4aobPjxNz1YrAKNN1hEZzd9g97UJbsW34diDfWSswTcj3hfVCMtK7x3sdRfMP9jxS6OM\n",
       "HCJH8zp20Dd25WarhC4Wy6qTjEUsxj4srIxuJQER9hjgF5b34Mb0RVnrQ7aKnQ7JWMYhu3P+58Ho\n",
       "DhEQYY8QG1HQcxlbeGfc4l9Whl9a1pOxOoaQX/cPRKDQzUAcjWG02UjcJgKul4Go1PIZHQYsEBth\n",
       "NlNVM59x/eRv+HxuNLNaeYXq5EUtvDr/ASCgmUcEUO39AAAAAElFTkSuQmCC\n",
       "\" style=\"display:inline;vertical-align:middle;\" /></a></span>"
      ],
      "text/plain": [
       "{a in RealPos, b in NaturalPos, f in Complex} |- (a * b)^{f} = (a^{f} * b^{f})"
      ]
     },
     "metadata": {},
     "output_type": "display_data"
    }
   ],
   "source": [
    "expr_mult_02.distribution(assumptions=temp_assumptions)"
   ]
  },
  {
   "cell_type": "code",
   "execution_count": 77,
   "metadata": {},
   "outputs": [
    {
     "data": {
      "text/html": [
       "<span style=\"font-size:20px;\"><a class=\"ProveItLink\" href=\"../__pv_it/theorems/5a0c211ed8c0f89e15d717d80d4627baae693acb0/expr.ipynb\"><img src=\"data:image/png;base64,iVBORw0KGgoAAAANSUhEUgAAAD8AAAATBAMAAADVH8ihAAAAMFBMVEX///8AAAAAAAAAAAAAAAAA\n",
       "AAAAAAAAAAAAAAAAAAAAAAAAAAAAAAAAAAAAAAAAAAAv3aB7AAAAD3RSTlMAIquJdkTvuxBmmd1U\n",
       "zTKBpmoTAAAACXBIWXMAAA7EAAAOxAGVKw4bAAAA3UlEQVQoz2NgwAO4GAgAdjIVzE2vv50+AZ8J\n",
       "BUIMQdMb8CkQZmDnU2BYXl5WXj4BhwIugQtYTHDfvfsCXEEBpoJYD4QJTB0KcAWMyo4OYPoGkhXP\n",
       "zwrAFYQJsP8A0bwCcAVit397wEOSI5OBawNYAZIjZ/YihfcHBm4DEOPZbiAogChg70R4j62AoT8A\n",
       "xGhHMoFvQQWc1+/AMB/M4EYOh3XiCAUHGHR5QO5jcUBS0M4Ct4PdgWcXJN7vwBVIMXBOKIXxOFTs\n",
       "hPzArKbSBlhsFjKU3z+AGQfB1ZCgRgEAfyQ4BfovW/4AAAAASUVORK5CYII=\n",
       "\" style=\"display:inline;vertical-align:middle;\" /></a>, <a class=\"ProveItLink\" href=\"../__pv_it/demonstrations/338bea1169aca2a51c9e3cdb908726f9096b30730/expr.ipynb\"><img src=\"data:image/png;base64,iVBORw0KGgoAAAANSUhEUgAAAD0AAAATBAMAAADR6hicAAAAMFBMVEX///8AAAAAAAAAAAAAAAAA\n",
       "AAAAAAAAAAAAAAAAAAAAAAAAAAAAAAAAAAAAAAAAAAAv3aB7AAAAD3RSTlMAELvv3c2ZVESJq3Yi\n",
       "MmZ3LnoBAAAACXBIWXMAAA7EAAAOxAGVKw4bAAAA+ElEQVQoz2NgwA3YGPADJrLkRT6pCjBM/twA\n",
       "lWdUdkBToM6xgIHxA1w/awKa/JID8xgYDBiSlJSVlB4wMPAXoMkvV2A9wOAA198vABXf5OISAKLX\n",
       "vOYJQJKfApVu3QhlrOG6sBNJPmr3chDFEwgzfw2DAlMDXJ7xq4D8AZAzDyDkrzE6OsDCj/0jA/MG\n",
       "kDwDQp6voMgAHsgBDPwTgPRlFyBQgMgzLOSCy7NMYOgH+VAIST+DFCM80IDezwf5kAVZnneDAlz+\n",
       "AqMdiObeABPRBeK9cHmuB0yQAA6HiYRDXAUFjCvzIAwpDUhAXv0M1MsYgBmxnSoumKIAyg80ctEW\n",
       "W0oAAAAASUVORK5CYII=\n",
       "\" style=\"display:inline;vertical-align:middle;\" /></a>, <a class=\"ProveItLink\" href=\"../__pv_it/theorems/8c5864665d603ebc7e84fdb786d604e60f56fcc70/expr.ipynb\"><img src=\"data:image/png;base64,iVBORw0KGgoAAAANSUhEUgAAAD0AAAATBAMAAADR6hicAAAAMFBMVEX///8AAAAAAAAAAAAAAAAA\n",
       "AAAAAAAAAAAAAAAAAAAAAAAAAAAAAAAAAAAAAAAAAAAv3aB7AAAAD3RSTlMAiXZmMiLdVJm77xBE\n",
       "zatgdeJyAAAACXBIWXMAAA7EAAAOxAGVKw4bAAAA0ElEQVQoz2NgwA04GPADTrLkbVfOv7bSAI/+\n",
       "CXEM5yw34JEPZOBkecDQOXPWzJkG2OU5Ai5g6tdMS7sAl5+AIX9WG6Gfb/cDhLyQsgOQZL2NZL5n\n",
       "bQBcPqyAA2QYbwBcPuraN21E+CUycCmA5JHcZ7wXKZB/Q2ivNCCYAJHn3IzwF9cECL0TST9Lw2w4\n",
       "b78ChGZD9n9LJJzHDzTqAJBmUkCS38kEtwDoeEaQ/xiuw+UjGJgN5sANEDSGBMy+ORtg8TeVYeb9\n",
       "AoxwPzgNEr4oAABdmzkc2vbi6QAAAABJRU5ErkJggg==\n",
       "\" style=\"display:inline;vertical-align:middle;\" /></a>, <a class=\"ProveItLink\" href=\"../__pv_it/demonstrations/5877c4f18966fce44fcf8f5d9907fbb188f1751d0/expr.ipynb\"><img src=\"data:image/png;base64,iVBORw0KGgoAAAANSUhEUgAAADQAAAATBAMAAAAt/zNWAAAAMFBMVEX///8AAAAAAAAAAAAAAAAA\n",
       "AAAAAAAAAAAAAAAAAAAAAAAAAAAAAAAAAAAAAAAAAAAv3aB7AAAAD3RSTlMAmYkQqzLvVES73WZ2\n",
       "Is1wFLxSAAAACXBIWXMAAA7EAAAOxAGVKw4bAAAA3klEQVQoz2NgwAKYNde9uaoAYjEqGaBKHclm\n",
       "MPwpAGKphBWgyDCeAOrYCZZK70TVFcgJ5LOApDg+Q4VOrlr1AEQ7c4Ls2wAkmBZAZPoOQ5VMuAhl\n",
       "cLstARvL+xgqwOsQBDOa/wCY4rsA5bMqdMOk7gdApGB8XoEeGLMeQoWtAoIJYLsuwaS0IJQl3PGT\n",
       "OWGsKRCKCy7VCPIXQwMQ50AEeA4gQsMBSAC9yPsDKvIcru3kwwvmC4E0+weogMkMA3jI5y8EeYXR\n",
       "Aaa4aRYkoGCghK+AAQdYaYdLhmGPLC4ZAK4oMzLOcnldAAAAAElFTkSuQmCC\n",
       "\" style=\"display:inline;vertical-align:middle;\" /></a> <a class=\"ProveItLink\" href=\"../__pv_it/demonstrations/c60b0ae4a2528387afe9dca2f6fef0f378736bbc0/proof.ipynb\" style=\"text-decoration: none\">&nbsp;&#x22A2;&nbsp;&nbsp;</a><a class=\"ProveItLink\" href=\"../__pv_it/demonstrations/aaf96109772bc41845ac4152275d0d29821ce0eb0/expr.ipynb\"><img src=\"data:image/png;base64,iVBORw0KGgoAAAANSUhEUgAAANsAAAAcBAMAAAAaQNd/AAAAMFBMVEX///8AAAAAAAAAAAAAAAAA\n",
       "AAAAAAAAAAAAAAAAAAAAAAAAAAAAAAAAAAAAAAAAAAAv3aB7AAAAD3RSTlMAInZUiRDNmWbv3US7\n",
       "qzJazP2FAAAACXBIWXMAAA7EAAAOxAGVKw4bAAAC3klEQVRIx71WQWgTQRT9yWa72TRtgsdC6bYo\n",
       "qAeJIB6EQomeBCWniqBsLkIvhRyESlESeqkSwQgeBEUKFgqCsHjzYqNeFARLWwqCyHrUS4ISL178\n",
       "M7s7Ozszm80i9MOEnz/z/9t5/8+fARhNrtyCw5QPbw4VbjBsUl9pJZGRjp35RxXZ2A6UYttNIgMN\n",
       "xuhw+a5s0xqBVqolkoGGjBejPByJThsNeWKR4X45n0QGNawRLVsZDveK0tVSVA/T7ieSQQ0FQsIZ\n",
       "Ie0fN6KGLEEyXQkt02HqiugukUEN2R2crwszY+LSGzhsKTtgLCj26btLZFCDjgk0xJmSSO46jh8y\n",
       "lyWHqc9Ed4kMz7CEihhmW9yIWfMgBemxdfpAdJfI8Ay3Ac6KYS6KhrEWvP8mw51k2mRHdJfI8Awn\n",
       "AG6SrO/PWmxmeW4vXFY97kJuB6qWDHdAfqarR7Ds+GxT9wgZJMZ6sHPkE16Xi4wP/U/NZidxqmJ0\n",
       "IR8W0+oLIi+p/gnH+EP4XCvOc5mi7hEySAzf0HPhOS55DAarfm0AJtvLJtG1jvI8LuO42oJVyM3x\n",
       "rYa4R8jYDA0zDjzB4uxDYYF+GanvOpTwj022ZNA9T/aVcFs4miQaK4d66O7vlMXwV1A4s0sUPwIC\n",
       "b2MtF0g+TNocxuN39xT0v8xAXXz38ItMrsHMUDJtCx7w56YZlLFNOdA2lLlDOP0X5PvSqW1GToHN\n",
       "Edsrwzu0VOBAC8qj5GIqAx1bgKO8DVC+ItxvmKifjsJx7lwMdiYvYYextC12GU20iqyusSxzLt+t\n",
       "eMFDhN96rhHtebw7F8OTewA/8SN3L0+fYpW8z927F+4ew3Q4SjjSPq4f/b4b7VcR9zCGJ3cwmJt0\n",
       "tU6pzaaT+gWyJLQEpcS8MmI4HvakIWfibcKijLpSop1ytBcI3ndwLWFRMe5xsZcWrkAiZazhi2bj\n",
       "JhbTwq3919NTS5m8uKyMKu10yw08Of8AH+i34hLp/LwAAAAASUVORK5CYII=\n",
       "\" style=\"display:inline;vertical-align:middle;\" /></a></span>"
      ],
      "text/plain": [
       "{a in RealPos, b in NaturalPos, c in RealPos, f in Complex} |- (a * b * c)^{f} = (a^{f} * b^{f} * c^{f})"
      ]
     },
     "metadata": {},
     "output_type": "display_data"
    }
   ],
   "source": [
    "expr_mult_03.distribution(assumptions=temp_assumptions)"
   ]
  },
  {
   "cell_type": "code",
   "execution_count": 78,
   "metadata": {},
   "outputs": [
    {
     "data": {
      "text/html": [
       "<strong id=\"expr_div_02\">expr_div_02:</strong> <a class=\"ProveItLink\" href=\"../__pv_it/demonstrations/cc52a52e69dc949c8068689be4e1a4fc4b284a3e0/expr.ipynb\"><img src=\"data:image/png;base64,iVBORw0KGgoAAAANSUhEUgAAAC8AAAArBAMAAAAamMyJAAAAMFBMVEX///8AAAAAAAAAAAAAAAAA\n",
       "AAAAAAAAAAAAAAAAAAAAAAAAAAAAAAAAAAAAAAAAAAAv3aB7AAAAD3RSTlMAmVSrZs0y7xCJ3bsi\n",
       "RHYwvcNTAAAACXBIWXMAAA7EAAAOxAGVKw4bAAABp0lEQVQ4y2NgwAY4BB2wijNw+yZgl+BvwC7O\n",
       "ZD4JuwSDN4RiVIDZGQFlCEIoYSDmsXzzgIEhC2r2FjDJEgAkrh/g/gFkGkAkysBkOlAZRwkD4wIg\n",
       "exPEyB9gKhJkzQcGrglAuh1sFlsB2G0gafYNDP0XQArAZrEIgEiwyv4HDP4gDs8fkL+Vwf7OB+nu\n",
       "V2AwZToAZOwEYs53YCuswYHzgGkhI4jhjvDlF7A77KYdfgZinId5loHtD0pgcAnAWCwfUCQYA2As\n",
       "5gAUCT64OnYD1BD/Bo+TCSgSbJ/gEqixy/EFxkK4DwL+wRj5aBI/YYz7oLBj+A8CYAd9xKUDpwTc\n",
       "jvNoaQ7uKmBMIAMeuD/YBVA9+BfGYt0AprqroEHyAx6cBRA6EEJxLoAHO1QJ1GxueJhyQER4f2AE\n",
       "3UYUI+4fgEtAop/V7jHYp1MRDgQnNIb+CA5w5BchJDjBcavfwFAHitkCJD+Bk7YoJMDZkUPOFUSs\n",
       "ZOAFOe8pciiwOoC9wQh0ME8NSjSvARLfGNqB8l2ocXAUmKxNwP7ZghoFPMBU3zwRqIHjAkIQAMFp\n",
       "Y0yvQp/zAAAAAElFTkSuQmCC\n",
       "\" style=\"display:inline;vertical-align:middle;\" /></a><br>"
      ],
      "text/plain": [
       "<IPython.core.display.HTML object>"
      ]
     },
     "metadata": {},
     "output_type": "display_data"
    }
   ],
   "source": [
    "expr_div_02 = Exp(Div(a, b), f)"
   ]
  },
  {
   "cell_type": "code",
   "execution_count": 79,
   "metadata": {},
   "outputs": [
    {
     "data": {
      "text/html": [
       "<span style=\"font-size:20px;\"><a class=\"ProveItLink\" href=\"../__pv_it/theorems/5a0c211ed8c0f89e15d717d80d4627baae693acb0/expr.ipynb\"><img src=\"data:image/png;base64,iVBORw0KGgoAAAANSUhEUgAAAD8AAAATBAMAAADVH8ihAAAAMFBMVEX///8AAAAAAAAAAAAAAAAA\n",
       "AAAAAAAAAAAAAAAAAAAAAAAAAAAAAAAAAAAAAAAAAAAv3aB7AAAAD3RSTlMAIquJdkTvuxBmmd1U\n",
       "zTKBpmoTAAAACXBIWXMAAA7EAAAOxAGVKw4bAAAA3UlEQVQoz2NgwAO4GAgAdjIVzE2vv50+AZ8J\n",
       "BUIMQdMb8CkQZmDnU2BYXl5WXj4BhwIugQtYTHDfvfsCXEEBpoJYD4QJTB0KcAWMyo4OYPoGkhXP\n",
       "zwrAFYQJsP8A0bwCcAVit397wEOSI5OBawNYAZIjZ/YihfcHBm4DEOPZbiAogChg70R4j62AoT8A\n",
       "xGhHMoFvQQWc1+/AMB/M4EYOh3XiCAUHGHR5QO5jcUBS0M4Ct4PdgWcXJN7vwBVIMXBOKIXxOFTs\n",
       "hPzArKbSBlhsFjKU3z+AGQfB1ZCgRgEAfyQ4BfovW/4AAAAASUVORK5CYII=\n",
       "\" style=\"display:inline;vertical-align:middle;\" /></a>, <a class=\"ProveItLink\" href=\"../__pv_it/demonstrations/338bea1169aca2a51c9e3cdb908726f9096b30730/expr.ipynb\"><img src=\"data:image/png;base64,iVBORw0KGgoAAAANSUhEUgAAAD0AAAATBAMAAADR6hicAAAAMFBMVEX///8AAAAAAAAAAAAAAAAA\n",
       "AAAAAAAAAAAAAAAAAAAAAAAAAAAAAAAAAAAAAAAAAAAv3aB7AAAAD3RSTlMAELvv3c2ZVESJq3Yi\n",
       "MmZ3LnoBAAAACXBIWXMAAA7EAAAOxAGVKw4bAAAA+ElEQVQoz2NgwA3YGPADJrLkRT6pCjBM/twA\n",
       "lWdUdkBToM6xgIHxA1w/awKa/JID8xgYDBiSlJSVlB4wMPAXoMkvV2A9wOAA198vABXf5OISAKLX\n",
       "vOYJQJKfApVu3QhlrOG6sBNJPmr3chDFEwgzfw2DAlMDXJ7xq4D8AZAzDyDkrzE6OsDCj/0jA/MG\n",
       "kDwDQp6voMgAHsgBDPwTgPRlFyBQgMgzLOSCy7NMYOgH+VAIST+DFCM80IDezwf5kAVZnneDAlz+\n",
       "AqMdiObeABPRBeK9cHmuB0yQAA6HiYRDXAUFjCvzIAwpDUhAXv0M1MsYgBmxnSoumKIAyg80ctEW\n",
       "W0oAAAAASUVORK5CYII=\n",
       "\" style=\"display:inline;vertical-align:middle;\" /></a>, <a class=\"ProveItLink\" href=\"../__pv_it/demonstrations/5877c4f18966fce44fcf8f5d9907fbb188f1751d0/expr.ipynb\"><img src=\"data:image/png;base64,iVBORw0KGgoAAAANSUhEUgAAADQAAAATBAMAAAAt/zNWAAAAMFBMVEX///8AAAAAAAAAAAAAAAAA\n",
       "AAAAAAAAAAAAAAAAAAAAAAAAAAAAAAAAAAAAAAAAAAAv3aB7AAAAD3RSTlMAmYkQqzLvVES73WZ2\n",
       "Is1wFLxSAAAACXBIWXMAAA7EAAAOxAGVKw4bAAAA3klEQVQoz2NgwAKYNde9uaoAYjEqGaBKHclm\n",
       "MPwpAGKphBWgyDCeAOrYCZZK70TVFcgJ5LOApDg+Q4VOrlr1AEQ7c4Ls2wAkmBZAZPoOQ5VMuAhl\n",
       "cLstARvL+xgqwOsQBDOa/wCY4rsA5bMqdMOk7gdApGB8XoEeGLMeQoWtAoIJYLsuwaS0IJQl3PGT\n",
       "OWGsKRCKCy7VCPIXQwMQ50AEeA4gQsMBSAC9yPsDKvIcru3kwwvmC4E0+weogMkMA3jI5y8EeYXR\n",
       "Aaa4aRYkoGCghK+AAQdYaYdLhmGPLC4ZAK4oMzLOcnldAAAAAElFTkSuQmCC\n",
       "\" style=\"display:inline;vertical-align:middle;\" /></a> <a class=\"ProveItLink\" href=\"../__pv_it/demonstrations/c69dceafe189f05777d70c04fe20698132c31dec0/proof.ipynb\" style=\"text-decoration: none\">&nbsp;&#x22A2;&nbsp;&nbsp;</a><a class=\"ProveItLink\" href=\"../__pv_it/demonstrations/800852c360c67e0fc56a1ef19e052f6b94be6e160/expr.ipynb\"><img src=\"data:image/png;base64,iVBORw0KGgoAAAANSUhEUgAAAGQAAAAuBAMAAAAsD6FtAAAAMFBMVEX///8AAAAAAAAAAAAAAAAA\n",
       "AAAAAAAAAAAAAAAAAAAAAAAAAAAAAAAAAAAAAAAAAAAv3aB7AAAAD3RSTlMAmVSrZs0y7xCJ3bsi\n",
       "RHYwvcNTAAAACXBIWXMAAA7EAAAOxAGVKw4bAAACSElEQVRIx5VVvUsjQRSfjZtk4nfw7AX/gEuh\n",
       "HseBxOKwEFE77ewEG+UQQRFRrhC0WBW0FC3vuCKKjV1ArE11li6IVx2SCyIe+DXvvdldJ7svmzzI\n",
       "Zibv99v3NfOLEI3Z+gfRqJ3+bpjyyDlkNh/t6F3qYSgto9PRDrvARelYYxxWJ+NIfNrlwuuELS8/\n",
       "OakXI1z4tE64S31aP/91hZjVCWXDYAI4BLDH1eOq2KL6Z+d098MUAszQZkYx5YKwDtX6hH5aDLed\n",
       "AEO0m4JyyqJ5W31vYGAZHhgBTgaoPeBPF4RTAg9mlpoP142AAxc3+HbHFWNY5BNWF+6+B0Cbg1yc\n",
       "HtGfKKrFGTS/Nzx7HwD2BUfkJo4sWAyrT+YuYoYeAOweCx7cP/8Di0vm2PkAKPXJcDV3xl8Au2w2\n",
       "czye0mRi2svxlHTOPMQP8ZSObWObqtRBMa+svI+nVHf15V0rfqLlqilzVZT/8VGuS+b+XzyForyC\n",
       "lWtQXgMLJVZHLZdVIldHxxzXVIU65pI2z2HquSYalTdpSmbisSYFldeie761TL9lDhkwAVB5bf3a\n",
       "Cf2aHBdgwldeqeutRB65d1YJlPcYn2062HWRYRCAlHfYqGGPC0IAUl6UPJEcvMFj8I2jEICUN4M3\n",
       "2ZmUoBvt8+zIAeApLzI/rolVGCz3V0gAT3m/wqObbsotO0QEeMqbhL7+EG2qi60rLAUAvvLKX9h1\n",
       "S+W5yeaFgEB5L9QpeBAb+ch/L88I4B94Fa4PRipLPKVPzzyw7zv52pckALwB9tuozqwbKW4AAAAA\n",
       "SUVORK5CYII=\n",
       "\" style=\"display:inline;vertical-align:middle;\" /></a></span>"
      ],
      "text/plain": [
       "{a in RealPos, b in NaturalPos, f in Complex} |- (a / b)^{f} = (a^{f} / b^{f})"
      ]
     },
     "metadata": {},
     "output_type": "display_data"
    }
   ],
   "source": [
    "expr_div_02.distribution(assumptions=temp_assumptions)"
   ]
  },
  {
   "cell_type": "code",
   "execution_count": 80,
   "metadata": {},
   "outputs": [
    {
     "data": {
      "text/html": [
       "<strong id=\"expr_exp_02\">expr_exp_02:</strong> <a class=\"ProveItLink\" href=\"../__pv_it/demonstrations/850979affa42332219c87e4d572da2e495ead6e30/expr.ipynb\"><img src=\"data:image/png;base64,iVBORw0KGgoAAAANSUhEUgAAACoAAAAYBAMAAAB+X3LOAAAAMFBMVEX///8AAAAAAAAAAAAAAAAA\n",
       "AAAAAAAAAAAAAAAAAAAAAAAAAAAAAAAAAAAAAAAAAAAv3aB7AAAAD3RSTlMAInZUiRDNmWbv3US7\n",
       "qzJazP2FAAAACXBIWXMAAA7EAAAOxAGVKw4bAAABFklEQVQoz2NggIFnB2Cs8Aq4IAOvA4x1Yh9C\n",
       "lPMBjPUVRAhA2O+VrkKYtlMMGBiYDCCiWgHqDJtADA6QBSYw0xjaGJgagAz2AgYG1gSo6DyGWgaG\n",
       "VCCDByjF3gAV/cAwmYGhHWotJ8zmpSDzOAMYGOKB2Awm+lwJSLABdb4E0iVAzHhFUQEixXIBYkoG\n",
       "EO8U4PkKEeVIYDh8D0gvBjpjBgP7Aogo8wQGJ5C22UBnfGDgggYC3wcIDRTlPMAQvwHC454AoYEm\n",
       "xCsw9EMdwgw16RBQ1IDhGjMkjDiggewL9KIC83J2CI8dav4roBsu+cnqQXhcUPO5HjAgASkozVGA\n",
       "LAqPsYNIgozwGI1BEuURgMsrIEQVoTQAJrY2/L9/aRQAAAAASUVORK5CYII=\n",
       "\" style=\"display:inline;vertical-align:middle;\" /></a><br>"
      ],
      "text/plain": [
       "<IPython.core.display.HTML object>"
      ]
     },
     "metadata": {},
     "output_type": "display_data"
    }
   ],
   "source": [
    "expr_exp_02 = Exp(Exp(a, b), f)"
   ]
  },
  {
   "cell_type": "code",
   "execution_count": 81,
   "metadata": {},
   "outputs": [
    {
     "data": {
      "text/html": [
       "<span style=\"font-size:20px;\"> <a class=\"ProveItLink\" href=\"../__pv_it/demonstrations/637d318a7b748ea74e9c63cd0df588d3444f442c0/proof.ipynb\" style=\"text-decoration: none\">&nbsp;&#x22A2;&nbsp;&nbsp;</a><a class=\"ProveItLink\" href=\"../__pv_it/demonstrations/de705d515fe84fe862818b299efdd23ce8d48d610/expr.ipynb\"><img src=\"data:image/png;base64,iVBORw0KGgoAAAANSUhEUgAAAHQAAAAYBAMAAADZgsQ1AAAAMFBMVEX///8AAAAAAAAAAAAAAAAA\n",
       "AAAAAAAAAAAAAAAAAAAAAAAAAAAAAAAAAAAAAAAAAAAv3aB7AAAAD3RSTlMAInZUiRDNmWbv3US7\n",
       "qzJazP2FAAAACXBIWXMAAA7EAAAOxAGVKw4bAAABZklEQVQ4y2NggIFnB2Cs8AoGXAC7Il4HGOvE\n",
       "PpxasSvifABjfcWpE12RAIT9XukqhGk7xQBTD1ZFTFCFWgHqDJtADI4DmDqxKzKBOZ6hjYGpAchg\n",
       "L8DUilURawJUdB5DLQNDKpDB04ChE7sidpjCDwyTGRjaUYICDrAr4oRJLwU5nzOAgSE+ADNgsSoy\n",
       "g4k+VwISbEDjX2J6FbuiEiBmvKKoAJFiuQBxDxrArigDiHcK8ECTAUcCw+F7UP+tAoMLDDgVLQaG\n",
       "3wwG9gUQUeYJDE4KmLZiVzQbaP4HBi5o2uT7gDX9YVcEFOU8wBC/AcLjnoBLKxZFQLfEKzD0Q9Uw\n",
       "L0DEJZJfsSs6BBQ1YLjGDEnf2NIvTkW+wESlwLycHWqVA1at2BW9AgbeJT9ZPQiPawNWrdgVcaGk\n",
       "WCnsORy7Ig6ULIajVMKh6CCSIOMBHAULdkUxSKI8Aji0YlfEiJTwFHEVZ9gUAQDsWned+yI75QAA\n",
       "AABJRU5ErkJggg==\n",
       "\" style=\"display:inline;vertical-align:middle;\" /></a></span>"
      ],
      "text/plain": [
       "|- (a^{b})^{f} = (a^{b})^{f}"
      ]
     },
     "metadata": {},
     "output_type": "display_data"
    }
   ],
   "source": [
    "expr_exp_02.distribution(assumptions=temp_assumptions)"
   ]
  },
  {
   "cell_type": "markdown",
   "metadata": {},
   "source": [
    "### Testing `Exp.bound_via_operand_bound()` for $x^a$ where we know a relation for base $x$"
   ]
  },
  {
   "cell_type": "code",
   "execution_count": 82,
   "metadata": {},
   "outputs": [
    {
     "data": {
      "text/html": [
       "<strong id=\"defaults.assumptions\">defaults.assumptions:</strong> <a class=\"ProveItLink\" href=\"../__pv_it/demonstrations/ba434cc72c18ad073a7bebcee5d37d73048235b10/expr.ipynb\"><img src=\"data:image/png;base64,iVBORw0KGgoAAAANSUhEUgAAA/0AAAAaBAMAAAAXuCH0AAAAMFBMVEX///8AAAAAAAAAAAAAAAAA\n",
       "AAAAAAAAAAAAAAAAAAAAAAAAAAAAAAAAAAAAAAAAAAAv3aB7AAAAD3RSTlMAZkRUmRDNuyLviTJ2\n",
       "3asqG0tJAAAACXBIWXMAAA7EAAAOxAGVKw4bAAAIDElEQVRo3u1ae2wURRz+3WN719tre9UoGptQ\n",
       "Y9TgH/QSRcXEUEys+ADXpNCApS0CESLgUcQjBPBMUKNReoaEGgWzjUKTUsxFMIiJekQatFQsATUC\n",
       "F9vIIyIhmKZIABNn9jE7szezu95dlEAn4Ur3++b7Peaxv5krQLFNbtd+RHpVKFF7IAU9/TDW/qN2\n",
       "gyNa79p/zgr8WQN3l2r4s+DL+hPXToLrr1K/gtpnwNk9D+MQXY4+PoCqVEm8GhcDKM/AxWtn/K/W\n",
       "qRzWHJvFQXyLkxd+We7sPMXxrYHwKJTH+cSbO19Z2hlz8YWQ9mOVDgU2ujI9yRXBKgb1lsL/u9Xg\n",
       "j+U8JBQe8g+vZJxv2iLkgO89eRQqRNlIbICJ4xR72bC4nkfao02irxU4JF5OPLmCSC6sYlBuCkvc\n",
       "Ir3TihOoQO6H03znVUh8xTq/QMiRumvR+JdnRZl6C0LykP1pVZxHCqxW9PHfLB40rlwhJBdWMSg/\n",
       "hf+iBRa5UubD3FRRulHkflAVOT+tDILJZGfS3CBG+Bw0hWZk8P5fFRdnKphqg91J1CyH6xQeCfx4\n",
       "AqD9f8Rp0DhyhZCI0dKj/BR6b74jrpuXbxAiiaJ0pVG0DGtpeH8u10acDzGT1z8q4ITPZbj1X3Rt\n",
       "7icrU3me7hCQ5BMpbv3nImdzzpHkIuWs4WbBFOek0PsKjx4VDL80z5pgaLccFYHedOdpW63V7uqj\n",
       "Ju/JFsb5yCCfI53Qxn0AJrKm/EsUa6VUzszbKReISOFzSjTrt/Pd5GzOOZFcpJw13CwQcU4KPa/w\n",
       "Occ9QFX1II947sfFHwP4Hmf8zLfauzu8kNq85BWLGOfLzh6M8ziSYhQjj5oTZeA2/ON1hdopd9/P\n",
       "bg7hMwdGhKQwQM8+A2ieCnDSTU7qj8FhNgCOzeaDz/bEhVLSvhi0iDXkXOZVIYrt74KHFUack0IS\n",
       "DLUSm7ugIm5DG63it3dvRjcxcPKLj9gl3IrG/0/Wd2p9k2iprpTul8fCqFz/DuAU+mVCKqRtJGUp\n",
       "a2w3/XpcYZxvXShdFHDYoT2MpxWAtbsl3lz6dx9LMi06knBTJ4PvvBszEkjDh2wAHLn66NngoFAK\n",
       "a4wXa8zqXz0kRHHf01BXy4hzUkiCoVYielY+xKIt84mD78SDCeOu5mB2OrtxdKggX2F9p3YVEq3V\n",
       "ldKVlnR/otdgSfTLu6BTy6jipeumNvbyaopek/M47KFC1Wv3NqpSqrZdMmCLbW4kbdnFp0OlK3Mn\n",
       "EnuIDSCf5Ev5RitjQqmdKAWnxRqvQUQRorjvZmNqtIlTaAUD6w+RZw0QUFm00hqno+ap6hYYrwyb\n",
       "hcOClDn+l1jfLdCK1upK6YYV2IrPWRlYhibIeTxoqO3JoZYwNq+V1Wz+GgAu8TgyLrFXWbyn9Qko\n",
       "b0G8n41MhZ5h7wZMi/kkW8EuobxqGXCUUxBlJxtAPkk2ppxACmtsdtCQtoIQRX3ly/p1qiWen0IS\n",
       "DDUS+JkcZ1FrdgRJfZfB+Sc1xjKc41YV/FdY3y2QREt3XU9dqszBrI5aOAJQnoBWbe9qog8vu0Ls\n",
       "3n4U/CNuHNw6jcAS1EqR61cyHNOiI8k8dXRkXJlob8qyAfDkjOwKpOoUNIZijbeNWzAuOkWJpiHK\n",
       "inPSYwZDr0RUwkdtqPV2KKdKR+pCxP+8otd/gRHWdwsE+jpmc379F9ZQNAho/bdmjbdHBT22wc/Z\n",
       "unVEn42OHJyAK8Z/BumT8pNvMCRi0Ymkr4BB+MGdiV5vKhsAT64updeqfKkGiKbFGv4YKGK0AR/G\n",
       "PmX95KSHBEOtRPQsYkdJHddqjaH/Isw0p8wybYMMJcA3yvpugVa0TFdSH96O9hvA8w2PfxxOBXCv\n",
       "aJZyXkrstTYp1C7D7JgDR9+I0D9Ukvr1AyGVqaZojBYjFkUkYhXlNelTXORgHWhqlHP5pKba341M\n",
       "50kZGqEhroaG3gvggK7DrzOVFbelR6GDoVYievZgHmrWcVUoglpsQWqvTBsGEKSPsC+N93iF9t0C\n",
       "jWgVtiupDwNxqMTv/xSuG0LZwJGgcaNInK+H6pB5NdSKXyXD8JITR0vzBf1MuV2rlMh1YGI9+GLt\n",
       "QIkRiyISsRockt+PuMnBNnN7ni8mTfnscbgDuFKaxgyoi3E1MCqvXrMjI0ShGyYM+WtZcTY9WmpI\n",
       "MPh8ZhydIm1oK85D0Qi9gB8lIJLBFgKXG9P+uO2IdxhmZ7Selu8E1KPFKNWV6MLu7v5jev2PjoDS\n",
       "2e0bDmhgS7tifnn1Vyr0snm7UPEjxj6OOXG0lkNQpKtGI0in7yTflK2C5ItxSoxYFJGIVenMN85M\n",
       "jRUcNpa66RyH1DgQmGociO1Seny9T6e4GhiNwOTnQIhC8Im+E13AiNvTg1NDgtEIxlDNqOahRuup\n",
       "7tMT9lT2vhuNeUPAxt4/9J7Edws0okWo1ZU+Vgc24Zl5q/0a/p61Od6V9iQPHG1y0WL+buOW1UlM\n",
       "RMojepPzFEC+lA5vE2g4W5hkr1j5fgbyKmXfIidUYEE6xNfdxgWddfG+AeW1Hr41UL1+IwklFPNI\n",
       "VEtAUvE+LG0sqLNaitRECrYQASffXQZknuj7P1tNn/U4Ys1QQjFvRE8sFxKGK7KVaiGdvYbT7B2d\n",
       "i+8Ycse8WcA9xb476erf/8lpd9+jXlesl1x4FouWjhV1hwM1jxTUOVqS1GQLtpB19N3Zqg8fGn6D\n",
       "sXadtgpcNM4ay8P12rS//wuoY4m4Ppv+978uf/8/1q7ZFkSHw38AgBmmq/J5n2gAAAAASUVORK5C\n",
       "YII=\n",
       "\" style=\"display:inline;vertical-align:middle;\" /></a><br>"
      ],
      "text/plain": [
       "<IPython.core.display.HTML object>"
      ]
     },
     "metadata": {},
     "output_type": "display_data"
    }
   ],
   "source": [
    "from proveit import a, b, c, d, u, v, w, x, y, z, defaults\n",
    "from proveit.numbers import greater, greater_eq, Less, LessEq, RealNeg, RealNonNeg\n",
    "defaults.assumptions = [InSet(a, RealPos), InSet(b, RealNonNeg), InSet(c, RealNeg),\n",
    "                        InSet(d, RealNonPos), InSet(u, RealNeg), InSet(v, RealNeg),\n",
    "                        InSet(x, Real), InSet(y, Real), InSet(z, Real),\n",
    "                        InSet(w, RealPos), Less(u, v), LessEq(u, c),\n",
    "                        greater(x, zero), greater(y, x), LessEq(x, z)]"
   ]
  },
  {
   "cell_type": "code",
   "execution_count": 83,
   "metadata": {},
   "outputs": [
    {
     "data": {
      "text/html": [
       "<strong id=\"exp_x_a\">exp_x_a:</strong> <a class=\"ProveItLink\" href=\"../__pv_it/demonstrations/8e1117a7d81547dad7972e4eaddae00dc2c32dc80/expr.ipynb\"><img src=\"data:image/png;base64,iVBORw0KGgoAAAANSUhEUgAAABUAAAAQBAMAAAAL9CkWAAAAMFBMVEX///8AAAAAAAAAAAAAAAAA\n",
       "AAAAAAAAAAAAAAAAAAAAAAAAAAAAAAAAAAAAAAAAAAAv3aB7AAAAD3RSTlMAEHarMolUmd1mIs3v\n",
       "RLtmgJDEAAAACXBIWXMAAA7EAAAOxAGVKw4bAAAAbklEQVQI12NggADRSVFQFgNjF8svGJu9gOUA\n",
       "jM1zgckAxpZfwDdRACa+wP8mjM1bmRQJpISURUIToEIFTEbsDRAm5wLOj8wTIGwWBvYNDHDAo4Bg\n",
       "31/ACDVO7oINAytUNN+xhuEalC2uxFYJNR4AsRAUhtr3+/AAAAAASUVORK5CYII=\n",
       "\" style=\"display:inline;vertical-align:middle;\" /></a><br>"
      ],
      "text/plain": [
       "<IPython.core.display.HTML object>"
      ]
     },
     "metadata": {},
     "output_type": "display_data"
    },
    {
     "data": {
      "text/html": [
       "<strong id=\"exp_x_b\">exp_x_b:</strong> <a class=\"ProveItLink\" href=\"../__pv_it/demonstrations/d8df57f76409f1639b9c6d678b4376d89dd5b9b50/expr.ipynb\"><img src=\"data:image/png;base64,iVBORw0KGgoAAAANSUhEUgAAABMAAAATBAMAAACAfiv/AAAAMFBMVEX///8AAAAAAAAAAAAAAAAA\n",
       "AAAAAAAAAAAAAAAAAAAAAAAAAAAAAAAAAAAAAAAAAAAv3aB7AAAAD3RSTlMAEHarMolUmd1mIs3v\n",
       "RLtmgJDEAAAACXBIWXMAAA7EAAAOxAGVKw4bAAAAc0lEQVQI12NgAAOWfQxwYIpgHoGzWD4pC0CZ\n",
       "TI1MBVAm3wTODVAmjwO7AZTJz8CTAGVyCMyDm1CkACSFlEVCoZIFTEbsDWAW5wLOj8wTIKoY2DfA\n",
       "LeVRgDPvL2CE2C93wYaBFSKW71jDcA3CFFdiq4QYCwCXmhKazeWzIQAAAABJRU5ErkJggg==\n",
       "\" style=\"display:inline;vertical-align:middle;\" /></a><br>"
      ],
      "text/plain": [
       "<IPython.core.display.HTML object>"
      ]
     },
     "metadata": {},
     "output_type": "display_data"
    },
    {
     "data": {
      "text/html": [
       "<strong id=\"exp_x_c\">exp_x_c:</strong> <a class=\"ProveItLink\" href=\"../__pv_it/demonstrations/4aeaa41e97e7eb1b3587f51fb7f097df57216cab0/expr.ipynb\"><img src=\"data:image/png;base64,iVBORw0KGgoAAAANSUhEUgAAABQAAAAQBAMAAADkNkIoAAAAMFBMVEX///8AAAAAAAAAAAAAAAAA\n",
       "AAAAAAAAAAAAAAAAAAAAAAAAAAAAAAAAAAAAAAAAAAAv3aB7AAAAD3RSTlMAEHarMolUmd1mIs3v\n",
       "RLtmgJDEAAAACXBIWXMAAA7EAAAOxAGVKw4bAAAAa0lEQVQI12NggABWTQUoi6GX5QCUxf6A0QHK\n",
       "5LkAk2bgXwBncl9gCIAyuSonCTAwCCmLhCZABAqYjNgbwCzOBZwfmSeAmSwM7BvgunngVjLcX8Ao\n",
       "AGbIXbBhYIWI5TvWMFyDMMWV2CohxgIAkhERwk0D0V4AAAAASUVORK5CYII=\n",
       "\" style=\"display:inline;vertical-align:middle;\" /></a><br>"
      ],
      "text/plain": [
       "<IPython.core.display.HTML object>"
      ]
     },
     "metadata": {},
     "output_type": "display_data"
    },
    {
     "data": {
      "text/html": [
       "<strong id=\"exp_x_d\">exp_x_d:</strong> <a class=\"ProveItLink\" href=\"../__pv_it/demonstrations/1e13da4282a915cb61ae36c0e2c8ecf61d7f25f90/expr.ipynb\"><img src=\"data:image/png;base64,iVBORw0KGgoAAAANSUhEUgAAABUAAAATBAMAAACNYFu4AAAAMFBMVEX///8AAAAAAAAAAAAAAAAA\n",
       "AAAAAAAAAAAAAAAAAAAAAAAAAAAAAAAAAAAAAAAAAAAv3aB7AAAAD3RSTlMAEHarMolUmd1mIs3v\n",
       "RLtmgJDEAAAACXBIWXMAAA7EAAAOxAGVKw4bAAAAeElEQVQI12NggIF4BziTYT2CyaAHZ4lO2gRj\n",
       "MnaxfIGx2QtYPsDYPBeYHsDY8gv4FAVg4gv8PWFs3sqkSCAlpCwSmgAVKmAyYm+AMDkXcH5kngBh\n",
       "szCwb0A4hEcBwb6/gBFqnNwFGwZWqGi+Yw3DNShbXImtEmo8ACV6FjS6wUpcAAAAAElFTkSuQmCC\n",
       "\" style=\"display:inline;vertical-align:middle;\" /></a><br>"
      ],
      "text/plain": [
       "<IPython.core.display.HTML object>"
      ]
     },
     "metadata": {},
     "output_type": "display_data"
    },
    {
     "data": {
      "text/html": [
       "<strong id=\"exp_u_2\">exp_u_2:</strong> <a class=\"ProveItLink\" href=\"../__pv_it/demonstrations/36466228468f5729fcb2794ab9278a958cb66e6b0/expr.ipynb\"><img src=\"data:image/png;base64,iVBORw0KGgoAAAANSUhEUgAAABQAAAATBAMAAABiojCGAAAAMFBMVEX///8AAAAAAAAAAAAAAAAA\n",
       "AAAAAAAAAAAAAAAAAAAAAAAAAAAAAAAAAAAAAAAAAAAv3aB7AAAAD3RSTlMAEHaZZquJVO8y3c1E\n",
       "Irudu/YqAAAACXBIWXMAAA7EAAAOxAGVKw4bAAAAeElEQVQI12NgAAPGtFABCIuBmYF5AZTJf4D3\n",
       "J5TJIgBnMjCwLYAzZ8G0MfA+hAteZrgLE3w50xDK5Pj//wMDo7IDAytECxt7A4M/RGo60MZoCFOA\n",
       "Q4GhCarjPMJOKwamD1DmUwa+B44QpinDjIQECFM0qTZoAogBACTPGTKaTREZAAAAAElFTkSuQmCC\n",
       "\" style=\"display:inline;vertical-align:middle;\" /></a><br>"
      ],
      "text/plain": [
       "<IPython.core.display.HTML object>"
      ]
     },
     "metadata": {},
     "output_type": "display_data"
    }
   ],
   "source": [
    "exp_x_a, exp_x_b, exp_x_c, exp_x_d, exp_u_2 = Exp(x, a), Exp(x, b), Exp(x, c), Exp(x, d), Exp(u, two)"
   ]
  },
  {
   "cell_type": "code",
   "execution_count": 84,
   "metadata": {},
   "outputs": [
    {
     "data": {
      "text/html": [
       "<span style=\"font-size:20px;\"><a class=\"ProveItLink\" href=\"../__pv_it/theorems/5a0c211ed8c0f89e15d717d80d4627baae693acb0/expr.ipynb\"><img src=\"data:image/png;base64,iVBORw0KGgoAAAANSUhEUgAAAD8AAAATBAMAAADVH8ihAAAAMFBMVEX///8AAAAAAAAAAAAAAAAA\n",
       "AAAAAAAAAAAAAAAAAAAAAAAAAAAAAAAAAAAAAAAAAAAv3aB7AAAAD3RSTlMAIquJdkTvuxBmmd1U\n",
       "zTKBpmoTAAAACXBIWXMAAA7EAAAOxAGVKw4bAAAA3UlEQVQoz2NgwAO4GAgAdjIVzE2vv50+AZ8J\n",
       "BUIMQdMb8CkQZmDnU2BYXl5WXj4BhwIugQtYTHDfvfsCXEEBpoJYD4QJTB0KcAWMyo4OYPoGkhXP\n",
       "zwrAFYQJsP8A0bwCcAVit397wEOSI5OBawNYAZIjZ/YihfcHBm4DEOPZbiAogChg70R4j62AoT8A\n",
       "xGhHMoFvQQWc1+/AMB/M4EYOh3XiCAUHGHR5QO5jcUBS0M4Ct4PdgWcXJN7vwBVIMXBOKIXxOFTs\n",
       "hPzArKbSBlhsFjKU3z+AGQfB1ZCgRgEAfyQ4BfovW/4AAAAASUVORK5CYII=\n",
       "\" style=\"display:inline;vertical-align:middle;\" /></a>, <a class=\"ProveItLink\" href=\"../../ordering/__pv_it/theorems/d1323f34847310a404e8089c2c268d3c2eb89dbf0/expr.ipynb\"><img src=\"data:image/png;base64,iVBORw0KGgoAAAANSUhEUgAAADQAAAAQBAMAAACra0H4AAAAMFBMVEX///8AAAAAAAAAAAAAAAAA\n",
       "AAAAAAAAAAAAAAAAAAAAAAAAAAAAAAAAAAAAAAAAAAAv3aB7AAAAD3RSTlMAEHarMolUmd1mIs3v\n",
       "RLtmgJDEAAAACXBIWXMAAA7EAAAOxAGVKw4bAAAAyklEQVQY02NgwACce9797nnJgBXwcRnwWj7E\n",
       "IRXA8MAZp1QVN4qQXkfHBrgUH7LMbUUkXYbCQIaQskhoApDm2ohkIMuzXUBGAZMRewOQ5l6AkDrd\n",
       "3yQA9MUCzo/ME0BSSM6InAiylIWBHWw3g08HEDyAGvhwJliMRwFMySE73p1PAMS6v4ARRHMgS7F7\n",
       "AfXLXbBhYAUJMCkgSTE+0GRgyHesYbgGFtmGkCpgmMl3gUFcia0yASwi/FYAFvL/FvC9/oYcHFdf\n",
       "QAIKCgBACzQrtGfvLgAAAABJRU5ErkJggg==\n",
       "\" style=\"display:inline;vertical-align:middle;\" /></a>, <a class=\"ProveItLink\" href=\"../../ordering/__pv_it/theorems/5d76fdd975252a644e3e1cb067a357f9a9c8486a0/expr.ipynb\"><img src=\"data:image/png;base64,iVBORw0KGgoAAAANSUhEUgAAADMAAAATBAMAAADPIygvAAAAMFBMVEX///8AAAAAAAAAAAAAAAAA\n",
       "AAAAAAAAAAAAAAAAAAAAAAAAAAAAAAAAAAAAAAAAAAAv3aB7AAAAD3RSTlMAEHaZZquJVO8y3btE\n",
       "zSKD2s2pAAAACXBIWXMAAA7EAAAOxAGVKw4bAAAA4ElEQVQoz2NgwAC+3ftvdTswYAUbnjIc9RbA\n",
       "LvWMgZszAJcU84MLKELaq1ZdgEttQJY5q4jQxSoINJBR2YFBFCTAdxHJwNm1DxgY2NgbGPxBArwP\n",
       "4FIvbv0CmTCdeQFDNFgKyRkusiBagEOBoQnEmLEKCDZApLhFwF4+L8D5E0RLI+niNNgIYtgyMDWA\n",
       "aC5kf1m+BjG2MnCDfc6kgCQlzQQy0ZThPCQsr8OlHjOwOOwBMkST7CHOFt0jAAv5fQy77xeA2LlQ\n",
       "1cd2rUIJObYLjO3Y44aBS4E1AYcUu5MNDhkADGJEjCMFBEsAAAAASUVORK5CYII=\n",
       "\" style=\"display:inline;vertical-align:middle;\" /></a>, <a class=\"ProveItLink\" href=\"../../number_sets/real_numbers/__pv_it/theorems/0c04c146b0f7b92967ed28917fb83981f8ee0b1b0/expr.ipynb\"><img src=\"data:image/png;base64,iVBORw0KGgoAAAANSUhEUgAAADEAAAAQBAMAAABNQoq8AAAAMFBMVEX///8AAAAAAAAAAAAAAAAA\n",
       "AAAAAAAAAAAAAAAAAAAAAAAAAAAAAAAAAAAAAAAAAAAv3aB7AAAAD3RSTlMAEHarMolUmd1mIs3v\n",
       "RLtmgJDEAAAACXBIWXMAAA7EAAAOxAGVKw4bAAAAv0lEQVQY02NgwAZC1RdgFWfgTmDswi4zg4Eh\n",
       "DokrPQHOfMzAkC+AkGGMUIAxvzMw+CcwMAgpi4QmgAU0AqFqQDJAEwqYjNgboOYXgimur0AZBQbO\n",
       "BZwfmWFWZFfBZQIYWBjYNyAsu20IMg0ocx9kKY8CksxDqAvyQVbfX8AIc2K2FZh6x8AwX4BB7oIN\n",
       "AyvMh1UQeg4DQzVQm2MNwzUGFFczcCQwHmFgEFdiqwR7h1EDbh9jqbIDUuhITGAgEgAAPjAn/CdE\n",
       "pSIAAAAASUVORK5CYII=\n",
       "\" style=\"display:inline;vertical-align:middle;\" /></a>, <a class=\"ProveItLink\" href=\"../__pv_it/demonstrations/0f3bf2f52b0a42ebbfba310f312a43f9efc42b9e0/expr.ipynb\"><img src=\"data:image/png;base64,iVBORw0KGgoAAAANSUhEUgAAADIAAAAQBAMAAACmdTG/AAAAMFBMVEX///8AAAAAAAAAAAAAAAAA\n",
       "AAAAAAAAAAAAAAAAAAAAAAAAAAAAAAAAAAAAAAAAAAAv3aB7AAAAD3RSTlMAEHaZZquJVO8y3btE\n",
       "zSKD2s2pAAAACXBIWXMAAA7EAAAOxAGVKw4bAAAAtklEQVQY02NgIAxkHXDJMGYpoAkoOzCIQpha\n",
       "iTAxpcBp6Qxs7A0M/lARL0MIzcygqmDFMJ15AUM0zIBaOzDlx+AvEMIgwKHA0AQ3+2wgiJzAYAui\n",
       "zgtw/kTIbITQYLW2DEwNcNPiIDTPPwZBBoatDNwBMBdArGHcw9rAkMDAYMpw3gHV1ew/hRt4ChgY\n",
       "RJPsH4BVasF8ymikUOwOZuWCSSn00GG7wNiOPbi4FFgTsMuwO9lglwAAgekfAvUfBD4AAAAASUVO\n",
       "RK5CYII=\n",
       "\" style=\"display:inline;vertical-align:middle;\" /></a> <a class=\"ProveItLink\" href=\"../__pv_it/demonstrations/02cdd9fe52592c116ee792d2e63a156a0ce601600/proof.ipynb\" style=\"text-decoration: none\">&nbsp;&#x22A2;&nbsp;&nbsp;</a><a class=\"ProveItLink\" href=\"../__pv_it/theorems/d4350c2b3bccfb618b3fd889cfa5fcd040a385470/expr.ipynb\"><img src=\"data:image/png;base64,iVBORw0KGgoAAAANSUhEUgAAAEYAAAAUBAMAAADCRlZLAAAAMFBMVEX///8AAAAAAAAAAAAAAAAA\n",
       "AAAAAAAAAAAAAAAAAAAAAAAAAAAAAAAAAAAAAAAAAAAv3aB7AAAAD3RSTlMAEHarMolUmd1mIs3v\n",
       "RLtmgJDEAAAACXBIWXMAAA7EAAAOxAGVKw4bAAABDElEQVQoz2NggADRSVEM2ABjpOoCGLOL5RdW\n",
       "NRIL/GFq2AtYDmBVU87gA2PyXGAywKrmLIMyjCm/gG+iADbn/GJ4KQgzZ4H/TYSa7AVw5imWvxOh\n",
       "TN7KpEi4+IxChEHXp6lOYGAQUhYJTUA2XyMQYo36BAZhqFABkxF7A5ILIhQgDFa2AwzzIUzOBZwf\n",
       "mSfAlXBVwNhuQJ12ECYLA/sGJIus4dYK8CgwHIKHjQJWNQz3BVi+wNkLGAWw2MVQzcAEDXu5CzYM\n",
       "rAxY3MzwmIEPGvb5jjUM11CCVkMRwihmuA81U1yJrTIBNQJmQAJIOKh+AQNOMBsqF81AALBuYDxG\n",
       "SA2HAnMAITVsk2qhLAAMWjgJraq8uwAAAABJRU5ErkJggg==\n",
       "\" style=\"display:inline;vertical-align:middle;\" /></a></span>"
      ],
      "text/plain": [
       "{a in RealPos, x in Real, y in Real, x > 0, y > x} |- x^{a} < y^{a}"
      ]
     },
     "metadata": {},
     "output_type": "display_data"
    }
   ],
   "source": [
    "# Case (1): pos exponent, Less relation\n",
    "exp_x_a.bound_via_operand_bound(Less(x, y))"
   ]
  },
  {
   "cell_type": "code",
   "execution_count": 85,
   "metadata": {},
   "outputs": [
    {
     "data": {
      "text/html": [
       "<span style=\"font-size:20px;\"><a class=\"ProveItLink\" href=\"../__pv_it/theorems/5a0c211ed8c0f89e15d717d80d4627baae693acb0/expr.ipynb\"><img src=\"data:image/png;base64,iVBORw0KGgoAAAANSUhEUgAAAD8AAAATBAMAAADVH8ihAAAAMFBMVEX///8AAAAAAAAAAAAAAAAA\n",
       "AAAAAAAAAAAAAAAAAAAAAAAAAAAAAAAAAAAAAAAAAAAv3aB7AAAAD3RSTlMAIquJdkTvuxBmmd1U\n",
       "zTKBpmoTAAAACXBIWXMAAA7EAAAOxAGVKw4bAAAA3UlEQVQoz2NgwAO4GAgAdjIVzE2vv50+AZ8J\n",
       "BUIMQdMb8CkQZmDnU2BYXl5WXj4BhwIugQtYTHDfvfsCXEEBpoJYD4QJTB0KcAWMyo4OYPoGkhXP\n",
       "zwrAFYQJsP8A0bwCcAVit397wEOSI5OBawNYAZIjZ/YihfcHBm4DEOPZbiAogChg70R4j62AoT8A\n",
       "xGhHMoFvQQWc1+/AMB/M4EYOh3XiCAUHGHR5QO5jcUBS0M4Ct4PdgWcXJN7vwBVIMXBOKIXxOFTs\n",
       "hPzArKbSBlhsFjKU3z+AGQfB1ZCgRgEAfyQ4BfovW/4AAAAASUVORK5CYII=\n",
       "\" style=\"display:inline;vertical-align:middle;\" /></a>, <a class=\"ProveItLink\" href=\"../../ordering/__pv_it/theorems/d1323f34847310a404e8089c2c268d3c2eb89dbf0/expr.ipynb\"><img src=\"data:image/png;base64,iVBORw0KGgoAAAANSUhEUgAAADQAAAAQBAMAAACra0H4AAAAMFBMVEX///8AAAAAAAAAAAAAAAAA\n",
       "AAAAAAAAAAAAAAAAAAAAAAAAAAAAAAAAAAAAAAAAAAAv3aB7AAAAD3RSTlMAEHarMolUmd1mIs3v\n",
       "RLtmgJDEAAAACXBIWXMAAA7EAAAOxAGVKw4bAAAAyklEQVQY02NgwACce9797nnJgBXwcRnwWj7E\n",
       "IRXA8MAZp1QVN4qQXkfHBrgUH7LMbUUkXYbCQIaQskhoApDm2ohkIMuzXUBGAZMRewOQ5l6AkDrd\n",
       "3yQA9MUCzo/ME0BSSM6InAiylIWBHWw3g08HEDyAGvhwJliMRwFMySE73p1PAMS6v4ARRHMgS7F7\n",
       "AfXLXbBhYAUJMCkgSTE+0GRgyHesYbgGFtmGkCpgmMl3gUFcia0yASwi/FYAFvL/FvC9/oYcHFdf\n",
       "QAIKCgBACzQrtGfvLgAAAABJRU5ErkJggg==\n",
       "\" style=\"display:inline;vertical-align:middle;\" /></a>, <a class=\"ProveItLink\" href=\"../__pv_it/demonstrations/4c5fb6064ed81f83132c10d4b7f508806e4b6da20/expr.ipynb\"><img src=\"data:image/png;base64,iVBORw0KGgoAAAANSUhEUgAAADMAAAAQBAMAAABJt1qBAAAAMFBMVEX///8AAAAAAAAAAAAAAAAA\n",
       "AAAAAAAAAAAAAAAAAAAAAAAAAAAAAAAAAAAAAAAAAAAv3aB7AAAAD3RSTlMAMt0iZhDNdom7q0RU\n",
       "75mOI7qcAAAACXBIWXMAAA7EAAAOxAGVKw4bAAAAwklEQVQY02NgwABuN+cn3XRgwAomWDHs8gzA\n",
       "LmXBwMm4AJcUn0ECilClklICXGoCssy2UoQurlCQgYxKAiYgAeZUJAMljxkAGWEVM8BWshnApWyT\n",
       "PoFNMGXgADuUDckZLmEQFmsrmJJVAoIJECnOEIiXzSEqIpF0MT6YCmJwOzCADWRC9tdDSxDjDAMD\n",
       "2BnsBUhSkexAExlnTG8SAIvkwKXsGFgcZjMwcDCczYaIRM0OgIX8ZIaZ+QeQg2PHJCXkkAMALWov\n",
       "QlCuddsAAAAASUVORK5CYII=\n",
       "\" style=\"display:inline;vertical-align:middle;\" /></a>, <a class=\"ProveItLink\" href=\"../../number_sets/real_numbers/__pv_it/theorems/0c04c146b0f7b92967ed28917fb83981f8ee0b1b0/expr.ipynb\"><img src=\"data:image/png;base64,iVBORw0KGgoAAAANSUhEUgAAADEAAAAQBAMAAABNQoq8AAAAMFBMVEX///8AAAAAAAAAAAAAAAAA\n",
       "AAAAAAAAAAAAAAAAAAAAAAAAAAAAAAAAAAAAAAAAAAAv3aB7AAAAD3RSTlMAEHarMolUmd1mIs3v\n",
       "RLtmgJDEAAAACXBIWXMAAA7EAAAOxAGVKw4bAAAAv0lEQVQY02NgwAZC1RdgFWfgTmDswi4zg4Eh\n",
       "DokrPQHOfMzAkC+AkGGMUIAxvzMw+CcwMAgpi4QmgAU0AqFqQDJAEwqYjNgboOYXgimur0AZBQbO\n",
       "BZwfmWFWZFfBZQIYWBjYNyAsu20IMg0ocx9kKY8CksxDqAvyQVbfX8AIc2K2FZh6x8AwX4BB7oIN\n",
       "AyvMh1UQeg4DQzVQm2MNwzUGFFczcCQwHmFgEFdiqwR7h1EDbh9jqbIDUuhITGAgEgAAPjAn/CdE\n",
       "pSIAAAAASUVORK5CYII=\n",
       "\" style=\"display:inline;vertical-align:middle;\" /></a>, <a class=\"ProveItLink\" href=\"../__pv_it/demonstrations/50829647483a75a463faf4f86a138ea19ac5a80e0/expr.ipynb\"><img src=\"data:image/png;base64,iVBORw0KGgoAAAANSUhEUgAAADEAAAAQBAMAAABNQoq8AAAAMFBMVEX///8AAAAAAAAAAAAAAAAA\n",
       "AAAAAAAAAAAAAAAAAAAAAAAAAAAAAAAAAAAAAAAAAAAv3aB7AAAAD3RSTlMAEHarMolUmd1mIs3v\n",
       "RLtmgJDEAAAACXBIWXMAAA7EAAAOxAGVKw4bAAAAoElEQVQY02NgQAFsuxiwA852AewSTK04JESb\n",
       "UPlCyiKhCSCGeCdczKOFawIDQwGTEXsDkCe8DS7BuCkuGGjpAs6PzEAFDMwIGS4BhkAGBhYG9g0Q\n",
       "/vJOJCvBTuFRwHABF0To/gJGATRX32RgZGCQu2DDwIrmU7YEBmYGhnzHGoZriNDZAiL94lRbgL5Q\n",
       "YqtMQPNyANvpCwyUAYkOEGiB8wHiVh7ZGrlkHgAAAABJRU5ErkJggg==\n",
       "\" style=\"display:inline;vertical-align:middle;\" /></a> <a class=\"ProveItLink\" href=\"../__pv_it/demonstrations/1aa0917ff6fbf00f50fbfa79c478d9b37db69d190/proof.ipynb\" style=\"text-decoration: none\">&nbsp;&#x22A2;&nbsp;&nbsp;</a><a class=\"ProveItLink\" href=\"../__pv_it/demonstrations/1a39a68684a50c5cb752894504bb497d29cc94180/expr.ipynb\"><img src=\"data:image/png;base64,iVBORw0KGgoAAAANSUhEUgAAAEUAAAATBAMAAAA0dN3wAAAAMFBMVEX///8AAAAAAAAAAAAAAAAA\n",
       "AAAAAAAAAAAAAAAAAAAAAAAAAAAAAAAAAAAAAAAAAAAv3aB7AAAAD3RSTlMAEHarMolUmd1mIs3v\n",
       "RLtmgJDEAAAACXBIWXMAAA7EAAAOxAGVKw4bAAAA4ElEQVQoz2NggADRSVEM2ACSOGMXyy9sSpDF\n",
       "2QtYDmBTgyzOc4HJAC7BtosBm7j8Ar6JAlA2Z7sAAzZxngX+N6FsplaEEmRxBt7KpEioR5qQ3QMV\n",
       "F1IWCU2AC4p3wpkeLVwToMwCJiP2Bpi48DaEtzfFBcNcuIDzIzNMPQMzQg2XAEMglMnCwL4ByQHL\n",
       "O5HCGOF4HgWUwIe7mQtJ/P4CRiTfIvx+k4ERKiR3wYaBFSX8oWHIlsDADBXJd6xhuIYaSWxbQKRf\n",
       "nGoLLECU2CoTsEVnANvpCwy0BBIdINCCKggAKpMxpep/znUAAAAASUVORK5CYII=\n",
       "\" style=\"display:inline;vertical-align:middle;\" /></a></span>"
      ],
      "text/plain": [
       "{a in RealPos, x in Real, z in Real, x > 0, x <= z} |- x^{a} <= z^{a}"
      ]
     },
     "metadata": {},
     "output_type": "display_data"
    }
   ],
   "source": [
    "# Case (2): pos exponent, LessEq relation\n",
    "exp_x_a.bound_via_operand_bound(LessEq(x, z))"
   ]
  },
  {
   "cell_type": "code",
   "execution_count": 86,
   "metadata": {},
   "outputs": [
    {
     "data": {
      "text/html": [
       "<span style=\"font-size:20px;\"><a class=\"ProveItLink\" href=\"../__pv_it/demonstrations/5a49c1d91f28aca05c3a7748e24771596ea841e40/expr.ipynb\"><img src=\"data:image/png;base64,iVBORw0KGgoAAAANSUhEUgAAAEYAAAAUBAMAAADCRlZLAAAAMFBMVEX///8AAAAAAAAAAAAAAAAA\n",
       "AAAAAAAAAAAAAAAAAAAAAAAAAAAAAAAAAAAAAAAAAAAv3aB7AAAAD3RSTlMAELvv3c2ZVESJq3Yi\n",
       "MmZ3LnoBAAAACXBIWXMAAA7EAAAOxAGVKw4bAAABNklEQVQoz2NgwAUuNYCpmTsZcAPGSQVAkm8D\n",
       "hwIeRQybHjAwMF9g+INPDcOjDQznBRjMMSWeGumHGD2AsB8fuC/A4MfAqOyApkjhFEPXIwEQS1KD\n",
       "AajGmoGBNQFdzUkGJt4FQMaxtQwgu74zMPAXYKphOxDAwHAKqATq5n4BmDdcXALgahQYpHJAHO4N\n",
       "HEAjp0CVtG5EmMMluIBBEMKbuQ1oRtTu5SA2TyCSXZdKD6AE51cBeZAAK1xU4XDIl40oLmT/yMC8\n",
       "AaQGyc3vREHxpQQEEI1sAQz8E4D0ZRcgUICoYZJ7gGIOywSGfpDvhZDM4U1QRFEDDJ58kO9ZkMMn\n",
       "9xCqmguMdpCAQFIjxI1iGdcDJkhkhMPVHGPge6CB4veVeRCGlIYALN51GJTiC7Cmlk4VSFxgAAC+\n",
       "YVHp3c6+3AAAAABJRU5ErkJggg==\n",
       "\" style=\"display:inline;vertical-align:middle;\" /></a>, <a class=\"ProveItLink\" href=\"../../ordering/__pv_it/theorems/d1323f34847310a404e8089c2c268d3c2eb89dbf0/expr.ipynb\"><img src=\"data:image/png;base64,iVBORw0KGgoAAAANSUhEUgAAADQAAAAQBAMAAACra0H4AAAAMFBMVEX///8AAAAAAAAAAAAAAAAA\n",
       "AAAAAAAAAAAAAAAAAAAAAAAAAAAAAAAAAAAAAAAAAAAv3aB7AAAAD3RSTlMAEHarMolUmd1mIs3v\n",
       "RLtmgJDEAAAACXBIWXMAAA7EAAAOxAGVKw4bAAAAyklEQVQY02NgwACce9797nnJgBXwcRnwWj7E\n",
       "IRXA8MAZp1QVN4qQXkfHBrgUH7LMbUUkXYbCQIaQskhoApDm2ohkIMuzXUBGAZMRewOQ5l6AkDrd\n",
       "3yQA9MUCzo/ME0BSSM6InAiylIWBHWw3g08HEDyAGvhwJliMRwFMySE73p1PAMS6v4ARRHMgS7F7\n",
       "AfXLXbBhYAUJMCkgSTE+0GRgyHesYbgGFtmGkCpgmMl3gUFcia0yASwi/FYAFvL/FvC9/oYcHFdf\n",
       "QAIKCgBACzQrtGfvLgAAAABJRU5ErkJggg==\n",
       "\" style=\"display:inline;vertical-align:middle;\" /></a>, <a class=\"ProveItLink\" href=\"../../ordering/__pv_it/theorems/5d76fdd975252a644e3e1cb067a357f9a9c8486a0/expr.ipynb\"><img src=\"data:image/png;base64,iVBORw0KGgoAAAANSUhEUgAAADMAAAATBAMAAADPIygvAAAAMFBMVEX///8AAAAAAAAAAAAAAAAA\n",
       "AAAAAAAAAAAAAAAAAAAAAAAAAAAAAAAAAAAAAAAAAAAv3aB7AAAAD3RSTlMAEHaZZquJVO8y3btE\n",
       "zSKD2s2pAAAACXBIWXMAAA7EAAAOxAGVKw4bAAAA4ElEQVQoz2NgwAC+3ftvdTswYAUbnjIc9RbA\n",
       "LvWMgZszAJcU84MLKELaq1ZdgEttQJY5q4jQxSoINJBR2YFBFCTAdxHJwNm1DxgY2NgbGPxBArwP\n",
       "4FIvbv0CmTCdeQFDNFgKyRkusiBagEOBoQnEmLEKCDZApLhFwF4+L8D5E0RLI+niNNgIYtgyMDWA\n",
       "aC5kf1m+BjG2MnCDfc6kgCQlzQQy0ZThPCQsr8OlHjOwOOwBMkST7CHOFt0jAAv5fQy77xeA2LlQ\n",
       "1cd2rUIJObYLjO3Y44aBS4E1AYcUu5MNDhkADGJEjCMFBEsAAAAASUVORK5CYII=\n",
       "\" style=\"display:inline;vertical-align:middle;\" /></a>, <a class=\"ProveItLink\" href=\"../../number_sets/real_numbers/__pv_it/theorems/0c04c146b0f7b92967ed28917fb83981f8ee0b1b0/expr.ipynb\"><img src=\"data:image/png;base64,iVBORw0KGgoAAAANSUhEUgAAADEAAAAQBAMAAABNQoq8AAAAMFBMVEX///8AAAAAAAAAAAAAAAAA\n",
       "AAAAAAAAAAAAAAAAAAAAAAAAAAAAAAAAAAAAAAAAAAAv3aB7AAAAD3RSTlMAEHarMolUmd1mIs3v\n",
       "RLtmgJDEAAAACXBIWXMAAA7EAAAOxAGVKw4bAAAAv0lEQVQY02NgwAZC1RdgFWfgTmDswi4zg4Eh\n",
       "DokrPQHOfMzAkC+AkGGMUIAxvzMw+CcwMAgpi4QmgAU0AqFqQDJAEwqYjNgboOYXgimur0AZBQbO\n",
       "BZwfmWFWZFfBZQIYWBjYNyAsu20IMg0ocx9kKY8CksxDqAvyQVbfX8AIc2K2FZh6x8AwX4BB7oIN\n",
       "AyvMh1UQeg4DQzVQm2MNwzUGFFczcCQwHmFgEFdiqwR7h1EDbh9jqbIDUuhITGAgEgAAPjAn/CdE\n",
       "pSIAAAAASUVORK5CYII=\n",
       "\" style=\"display:inline;vertical-align:middle;\" /></a>, <a class=\"ProveItLink\" href=\"../__pv_it/demonstrations/0f3bf2f52b0a42ebbfba310f312a43f9efc42b9e0/expr.ipynb\"><img src=\"data:image/png;base64,iVBORw0KGgoAAAANSUhEUgAAADIAAAAQBAMAAACmdTG/AAAAMFBMVEX///8AAAAAAAAAAAAAAAAA\n",
       "AAAAAAAAAAAAAAAAAAAAAAAAAAAAAAAAAAAAAAAAAAAv3aB7AAAAD3RSTlMAEHaZZquJVO8y3btE\n",
       "zSKD2s2pAAAACXBIWXMAAA7EAAAOxAGVKw4bAAAAtklEQVQY02NgIAxkHXDJMGYpoAkoOzCIQpha\n",
       "iTAxpcBp6Qxs7A0M/lARL0MIzcygqmDFMJ15AUM0zIBaOzDlx+AvEMIgwKHA0AQ3+2wgiJzAYAui\n",
       "zgtw/kTIbITQYLW2DEwNcNPiIDTPPwZBBoatDNwBMBdArGHcw9rAkMDAYMpw3gHV1ew/hRt4ChgY\n",
       "RJPsH4BVasF8ymikUOwOZuWCSSn00GG7wNiOPbi4FFgTsMuwO9lglwAAgekfAvUfBD4AAAAASUVO\n",
       "RK5CYII=\n",
       "\" style=\"display:inline;vertical-align:middle;\" /></a> <a class=\"ProveItLink\" href=\"../__pv_it/demonstrations/788b4388d04a820ccf3f8aabf02c8a8e908fbad30/proof.ipynb\" style=\"text-decoration: none\">&nbsp;&#x22A2;&nbsp;&nbsp;</a><a class=\"ProveItLink\" href=\"../__pv_it/demonstrations/b619c7382f847e9225722424e1b3924b68f0bb790/expr.ipynb\"><img src=\"data:image/png;base64,iVBORw0KGgoAAAANSUhEUgAAAEIAAAAXBAMAAABNOYSfAAAAMFBMVEX///8AAAAAAAAAAAAAAAAA\n",
       "AAAAAAAAAAAAAAAAAAAAAAAAAAAAAAAAAAAAAAAAAAAv3aB7AAAAD3RSTlMAEHarMolUmd1mIs3v\n",
       "RLtmgJDEAAAACXBIWXMAAA7EAAAOxAGVKw4bAAABG0lEQVQoz2NgAAOWfQxYgfcDONMUuwrmADjz\n",
       "CHYVPA4wFssnZQFsKvyVDKEspkamAmwqNATUoSy+CZwbsKl4yTAbbh+7AVw4ewGS84qhLH4GngSY\n",
       "6IxChBkfGI5BWRwC8+BWByLZ0sgJCxCWIgUIgzFCAdkd7kpAQkhZJBRuA2PFBBhLfQKDMIRZwGTE\n",
       "3gATtoarZWU7wDAfzOJcwPmRGaaRAaHCDajNDuICBnakkOCC2yLAo8BwCBYWyG5DuPS+AMsXGHMB\n",
       "I3KcwHxbzcB0AMyQu2DDwIoS0tAQe8zABwnmfMcahmuokZENjvJihvsQN4krsVUmYIs04aD6BQwE\n",
       "QDR+adYNjMewCDN2gAHIHRwKSGkUK2CbVAthAACZPzdoCdSPhwAAAABJRU5ErkJggg==\n",
       "\" style=\"display:inline;vertical-align:middle;\" /></a></span>"
      ],
      "text/plain": [
       "{b in RealNonNeg, x in Real, y in Real, x > 0, y > x} |- x^{b} <= y^{b}"
      ]
     },
     "metadata": {},
     "output_type": "display_data"
    }
   ],
   "source": [
    "# Case (3): non-neg exponent, Less relation\n",
    "exp_x_b.bound_via_operand_bound(Less(x, y))"
   ]
  },
  {
   "cell_type": "code",
   "execution_count": 87,
   "metadata": {},
   "outputs": [
    {
     "data": {
      "text/html": [
       "<span style=\"font-size:20px;\"><a class=\"ProveItLink\" href=\"../__pv_it/demonstrations/5a49c1d91f28aca05c3a7748e24771596ea841e40/expr.ipynb\"><img src=\"data:image/png;base64,iVBORw0KGgoAAAANSUhEUgAAAEYAAAAUBAMAAADCRlZLAAAAMFBMVEX///8AAAAAAAAAAAAAAAAA\n",
       "AAAAAAAAAAAAAAAAAAAAAAAAAAAAAAAAAAAAAAAAAAAv3aB7AAAAD3RSTlMAELvv3c2ZVESJq3Yi\n",
       "MmZ3LnoBAAAACXBIWXMAAA7EAAAOxAGVKw4bAAABNklEQVQoz2NgwAUuNYCpmTsZcAPGSQVAkm8D\n",
       "hwIeRQybHjAwMF9g+INPDcOjDQznBRjMMSWeGumHGD2AsB8fuC/A4MfAqOyApkjhFEPXIwEQS1KD\n",
       "AajGmoGBNQFdzUkGJt4FQMaxtQwgu74zMPAXYKphOxDAwHAKqATq5n4BmDdcXALgahQYpHJAHO4N\n",
       "HEAjp0CVtG5EmMMluIBBEMKbuQ1oRtTu5SA2TyCSXZdKD6AE51cBeZAAK1xU4XDIl40oLmT/yMC8\n",
       "AaQGyc3vREHxpQQEEI1sAQz8E4D0ZRcgUICoYZJ7gGIOywSGfpDvhZDM4U1QRFEDDJ58kO9ZkMMn\n",
       "9xCqmguMdpCAQFIjxI1iGdcDJkhkhMPVHGPge6CB4veVeRCGlIYALN51GJTiC7Cmlk4VSFxgAAC+\n",
       "YVHp3c6+3AAAAABJRU5ErkJggg==\n",
       "\" style=\"display:inline;vertical-align:middle;\" /></a>, <a class=\"ProveItLink\" href=\"../../ordering/__pv_it/theorems/d1323f34847310a404e8089c2c268d3c2eb89dbf0/expr.ipynb\"><img src=\"data:image/png;base64,iVBORw0KGgoAAAANSUhEUgAAADQAAAAQBAMAAACra0H4AAAAMFBMVEX///8AAAAAAAAAAAAAAAAA\n",
       "AAAAAAAAAAAAAAAAAAAAAAAAAAAAAAAAAAAAAAAAAAAv3aB7AAAAD3RSTlMAEHarMolUmd1mIs3v\n",
       "RLtmgJDEAAAACXBIWXMAAA7EAAAOxAGVKw4bAAAAyklEQVQY02NgwACce9797nnJgBXwcRnwWj7E\n",
       "IRXA8MAZp1QVN4qQXkfHBrgUH7LMbUUkXYbCQIaQskhoApDm2ohkIMuzXUBGAZMRewOQ5l6AkDrd\n",
       "3yQA9MUCzo/ME0BSSM6InAiylIWBHWw3g08HEDyAGvhwJliMRwFMySE73p1PAMS6v4ARRHMgS7F7\n",
       "AfXLXbBhYAUJMCkgSTE+0GRgyHesYbgGFtmGkCpgmMl3gUFcia0yASwi/FYAFvL/FvC9/oYcHFdf\n",
       "QAIKCgBACzQrtGfvLgAAAABJRU5ErkJggg==\n",
       "\" style=\"display:inline;vertical-align:middle;\" /></a>, <a class=\"ProveItLink\" href=\"../__pv_it/demonstrations/4c5fb6064ed81f83132c10d4b7f508806e4b6da20/expr.ipynb\"><img src=\"data:image/png;base64,iVBORw0KGgoAAAANSUhEUgAAADMAAAAQBAMAAABJt1qBAAAAMFBMVEX///8AAAAAAAAAAAAAAAAA\n",
       "AAAAAAAAAAAAAAAAAAAAAAAAAAAAAAAAAAAAAAAAAAAv3aB7AAAAD3RSTlMAMt0iZhDNdom7q0RU\n",
       "75mOI7qcAAAACXBIWXMAAA7EAAAOxAGVKw4bAAAAwklEQVQY02NgwABuN+cn3XRgwAomWDHs8gzA\n",
       "LmXBwMm4AJcUn0ECilClklICXGoCssy2UoQurlCQgYxKAiYgAeZUJAMljxkAGWEVM8BWshnApWyT\n",
       "PoFNMGXgADuUDckZLmEQFmsrmJJVAoIJECnOEIiXzSEqIpF0MT6YCmJwOzCADWRC9tdDSxDjDAMD\n",
       "2BnsBUhSkexAExlnTG8SAIvkwKXsGFgcZjMwcDCczYaIRM0OgIX8ZIaZ+QeQg2PHJCXkkAMALWov\n",
       "QlCuddsAAAAASUVORK5CYII=\n",
       "\" style=\"display:inline;vertical-align:middle;\" /></a>, <a class=\"ProveItLink\" href=\"../../number_sets/real_numbers/__pv_it/theorems/0c04c146b0f7b92967ed28917fb83981f8ee0b1b0/expr.ipynb\"><img src=\"data:image/png;base64,iVBORw0KGgoAAAANSUhEUgAAADEAAAAQBAMAAABNQoq8AAAAMFBMVEX///8AAAAAAAAAAAAAAAAA\n",
       "AAAAAAAAAAAAAAAAAAAAAAAAAAAAAAAAAAAAAAAAAAAv3aB7AAAAD3RSTlMAEHarMolUmd1mIs3v\n",
       "RLtmgJDEAAAACXBIWXMAAA7EAAAOxAGVKw4bAAAAv0lEQVQY02NgwAZC1RdgFWfgTmDswi4zg4Eh\n",
       "DokrPQHOfMzAkC+AkGGMUIAxvzMw+CcwMAgpi4QmgAU0AqFqQDJAEwqYjNgboOYXgimur0AZBQbO\n",
       "BZwfmWFWZFfBZQIYWBjYNyAsu20IMg0ocx9kKY8CksxDqAvyQVbfX8AIc2K2FZh6x8AwX4BB7oIN\n",
       "AyvMh1UQeg4DQzVQm2MNwzUGFFczcCQwHmFgEFdiqwR7h1EDbh9jqbIDUuhITGAgEgAAPjAn/CdE\n",
       "pSIAAAAASUVORK5CYII=\n",
       "\" style=\"display:inline;vertical-align:middle;\" /></a>, <a class=\"ProveItLink\" href=\"../__pv_it/demonstrations/50829647483a75a463faf4f86a138ea19ac5a80e0/expr.ipynb\"><img src=\"data:image/png;base64,iVBORw0KGgoAAAANSUhEUgAAADEAAAAQBAMAAABNQoq8AAAAMFBMVEX///8AAAAAAAAAAAAAAAAA\n",
       "AAAAAAAAAAAAAAAAAAAAAAAAAAAAAAAAAAAAAAAAAAAv3aB7AAAAD3RSTlMAEHarMolUmd1mIs3v\n",
       "RLtmgJDEAAAACXBIWXMAAA7EAAAOxAGVKw4bAAAAoElEQVQY02NgQAFsuxiwA852AewSTK04JESb\n",
       "UPlCyiKhCSCGeCdczKOFawIDQwGTEXsDkCe8DS7BuCkuGGjpAs6PzEAFDMwIGS4BhkAGBhYG9g0Q\n",
       "/vJOJCvBTuFRwHABF0To/gJGATRX32RgZGCQu2DDwIrmU7YEBmYGhnzHGoZriNDZAiL94lRbgL5Q\n",
       "YqtMQPNyANvpCwyUAYkOEGiB8wHiVh7ZGrlkHgAAAABJRU5ErkJggg==\n",
       "\" style=\"display:inline;vertical-align:middle;\" /></a> <a class=\"ProveItLink\" href=\"../__pv_it/demonstrations/7141c421ad2534754f7b4fa374a69453ac2b84500/proof.ipynb\" style=\"text-decoration: none\">&nbsp;&#x22A2;&nbsp;&nbsp;</a><a class=\"ProveItLink\" href=\"../__pv_it/demonstrations/95f00a851b4bcc1e45364374bc9b8254441b5b1f0/expr.ipynb\"><img src=\"data:image/png;base64,iVBORw0KGgoAAAANSUhEUgAAAEIAAAAWBAMAAACGZVc6AAAAMFBMVEX///8AAAAAAAAAAAAAAAAA\n",
       "AAAAAAAAAAAAAAAAAAAAAAAAAAAAAAAAAAAAAAAAAAAv3aB7AAAAD3RSTlMAEHarMolUmd1mIs3v\n",
       "RLtmgJDEAAAACXBIWXMAAA7EAAAOxAGVKw4bAAABAUlEQVQoz2NgAAOWfQxYgfcDONMUuwrmADjz\n",
       "CHYVPA4wFssnZQFsKvyVDKEspkamAmwqNATUoSy+CZwbsKl4yTAbbh+7AVw4ewGS84qhLH4GngSY\n",
       "6IxChBkfGI5BWRwC8+BWByLZ0sgJCxCWIgUIgzFCAdkd7kpAQkhZJBRuA2PFBHgAdDishLAKmIzY\n",
       "G2AKrOFqGaRVn0Icz7mA8yMzXCOSioUMrJBAZGFgRwoJLoQtDIxwJ/Mguw3JpYvggvcXMCLHCcy3\n",
       "vBMYIMJyF2wYWFFCGhpiaQwMEJfmO9YwXEONjGxQlLM8fRQBiXpxJbbKBCxxxsqQs5eBNoCxAwwc\n",
       "kMUA1ekxYKWpPzsAAAAASUVORK5CYII=\n",
       "\" style=\"display:inline;vertical-align:middle;\" /></a></span>"
      ],
      "text/plain": [
       "{b in RealNonNeg, x in Real, z in Real, x > 0, x <= z} |- x^{b} <= z^{b}"
      ]
     },
     "metadata": {},
     "output_type": "display_data"
    }
   ],
   "source": [
    "# Case (4): non-neg exponent, LessEq relation\n",
    "exp_x_b.bound_via_operand_bound(LessEq(x, z))"
   ]
  },
  {
   "cell_type": "code",
   "execution_count": 88,
   "metadata": {},
   "outputs": [
    {
     "data": {
      "text/html": [
       "<span style=\"font-size:20px;\"><a class=\"ProveItLink\" href=\"../__pv_it/demonstrations/d37b797075f3cbfcbe6c89399c71a9fea96cf4f90/expr.ipynb\"><img src=\"data:image/png;base64,iVBORw0KGgoAAAANSUhEUgAAAD0AAAAQBAMAAABXfmoyAAAAMFBMVEX///8AAAAAAAAAAAAAAAAA\n",
       "AAAAAAAAAAAAAAAAAAAAAAAAAAAAAAAAAAAAAAAAAAAv3aB7AAAAD3RSTlMAiXZmMiLdVJm77xBE\n",
       "zatgdeJyAAAACXBIWXMAAA7EAAAOxAGVKw4bAAAAxklEQVQY02NgQAe2K+dfW2nAgBtMiGM4Z7kB\n",
       "j3wgAyfLAwbPmUAQgF2eI+ACprhmWtoFuPwEDOmz2gj9fLsfICSElB2AJOttJPM9axEWhxVwgAzj\n",
       "hYtMiLr2TRuhPZGBSwEkj+Q+470IaY7fENorDQgmQOQ5NyPChwvq0p1I+lkaZsN5+xUgNBuy/1si\n",
       "4Tx+oFEHgDSTApL8Tia4BUDHM4L8x3AdLh/BwGwwB26AoDHEM/vmbIDF31SGmfcLMALw4LQ0zFAH\n",
       "AJXIOKPMSpzvAAAAAElFTkSuQmCC\n",
       "\" style=\"display:inline;vertical-align:middle;\" /></a>, <a class=\"ProveItLink\" href=\"../../ordering/__pv_it/theorems/d1323f34847310a404e8089c2c268d3c2eb89dbf0/expr.ipynb\"><img src=\"data:image/png;base64,iVBORw0KGgoAAAANSUhEUgAAADQAAAAQBAMAAACra0H4AAAAMFBMVEX///8AAAAAAAAAAAAAAAAA\n",
       "AAAAAAAAAAAAAAAAAAAAAAAAAAAAAAAAAAAAAAAAAAAv3aB7AAAAD3RSTlMAEHarMolUmd1mIs3v\n",
       "RLtmgJDEAAAACXBIWXMAAA7EAAAOxAGVKw4bAAAAyklEQVQY02NgwACce9797nnJgBXwcRnwWj7E\n",
       "IRXA8MAZp1QVN4qQXkfHBrgUH7LMbUUkXYbCQIaQskhoApDm2ohkIMuzXUBGAZMRewOQ5l6AkDrd\n",
       "3yQA9MUCzo/ME0BSSM6InAiylIWBHWw3g08HEDyAGvhwJliMRwFMySE73p1PAMS6v4ARRHMgS7F7\n",
       "AfXLXbBhYAUJMCkgSTE+0GRgyHesYbgGFtmGkCpgmMl3gUFcia0yASwi/FYAFvL/FvC9/oYcHFdf\n",
       "QAIKCgBACzQrtGfvLgAAAABJRU5ErkJggg==\n",
       "\" style=\"display:inline;vertical-align:middle;\" /></a>, <a class=\"ProveItLink\" href=\"../../ordering/__pv_it/theorems/5d76fdd975252a644e3e1cb067a357f9a9c8486a0/expr.ipynb\"><img src=\"data:image/png;base64,iVBORw0KGgoAAAANSUhEUgAAADMAAAATBAMAAADPIygvAAAAMFBMVEX///8AAAAAAAAAAAAAAAAA\n",
       "AAAAAAAAAAAAAAAAAAAAAAAAAAAAAAAAAAAAAAAAAAAv3aB7AAAAD3RSTlMAEHaZZquJVO8y3btE\n",
       "zSKD2s2pAAAACXBIWXMAAA7EAAAOxAGVKw4bAAAA4ElEQVQoz2NgwAC+3ftvdTswYAUbnjIc9RbA\n",
       "LvWMgZszAJcU84MLKELaq1ZdgEttQJY5q4jQxSoINJBR2YFBFCTAdxHJwNm1DxgY2NgbGPxBArwP\n",
       "4FIvbv0CmTCdeQFDNFgKyRkusiBagEOBoQnEmLEKCDZApLhFwF4+L8D5E0RLI+niNNgIYtgyMDWA\n",
       "aC5kf1m+BjG2MnCDfc6kgCQlzQQy0ZThPCQsr8OlHjOwOOwBMkST7CHOFt0jAAv5fQy77xeA2LlQ\n",
       "1cd2rUIJObYLjO3Y44aBS4E1AYcUu5MNDhkADGJEjCMFBEsAAAAASUVORK5CYII=\n",
       "\" style=\"display:inline;vertical-align:middle;\" /></a>, <a class=\"ProveItLink\" href=\"../../number_sets/real_numbers/__pv_it/theorems/0c04c146b0f7b92967ed28917fb83981f8ee0b1b0/expr.ipynb\"><img src=\"data:image/png;base64,iVBORw0KGgoAAAANSUhEUgAAADEAAAAQBAMAAABNQoq8AAAAMFBMVEX///8AAAAAAAAAAAAAAAAA\n",
       "AAAAAAAAAAAAAAAAAAAAAAAAAAAAAAAAAAAAAAAAAAAv3aB7AAAAD3RSTlMAEHarMolUmd1mIs3v\n",
       "RLtmgJDEAAAACXBIWXMAAA7EAAAOxAGVKw4bAAAAv0lEQVQY02NgwAZC1RdgFWfgTmDswi4zg4Eh\n",
       "DokrPQHOfMzAkC+AkGGMUIAxvzMw+CcwMAgpi4QmgAU0AqFqQDJAEwqYjNgboOYXgimur0AZBQbO\n",
       "BZwfmWFWZFfBZQIYWBjYNyAsu20IMg0ocx9kKY8CksxDqAvyQVbfX8AIc2K2FZh6x8AwX4BB7oIN\n",
       "AyvMh1UQeg4DQzVQm2MNwzUGFFczcCQwHmFgEFdiqwR7h1EDbh9jqbIDUuhITGAgEgAAPjAn/CdE\n",
       "pSIAAAAASUVORK5CYII=\n",
       "\" style=\"display:inline;vertical-align:middle;\" /></a>, <a class=\"ProveItLink\" href=\"../__pv_it/demonstrations/0f3bf2f52b0a42ebbfba310f312a43f9efc42b9e0/expr.ipynb\"><img src=\"data:image/png;base64,iVBORw0KGgoAAAANSUhEUgAAADIAAAAQBAMAAACmdTG/AAAAMFBMVEX///8AAAAAAAAAAAAAAAAA\n",
       "AAAAAAAAAAAAAAAAAAAAAAAAAAAAAAAAAAAAAAAAAAAv3aB7AAAAD3RSTlMAEHaZZquJVO8y3btE\n",
       "zSKD2s2pAAAACXBIWXMAAA7EAAAOxAGVKw4bAAAAtklEQVQY02NgIAxkHXDJMGYpoAkoOzCIQpha\n",
       "iTAxpcBp6Qxs7A0M/lARL0MIzcygqmDFMJ15AUM0zIBaOzDlx+AvEMIgwKHA0AQ3+2wgiJzAYAui\n",
       "zgtw/kTIbITQYLW2DEwNcNPiIDTPPwZBBoatDNwBMBdArGHcw9rAkMDAYMpw3gHV1ew/hRt4ChgY\n",
       "RJPsH4BVasF8ymikUOwOZuWCSSn00GG7wNiOPbi4FFgTsMuwO9lglwAAgekfAvUfBD4AAAAASUVO\n",
       "RK5CYII=\n",
       "\" style=\"display:inline;vertical-align:middle;\" /></a> <a class=\"ProveItLink\" href=\"../__pv_it/demonstrations/7840295b06822684a5412d92e1d3b123507ce7240/proof.ipynb\" style=\"text-decoration: none\">&nbsp;&#x22A2;&nbsp;&nbsp;</a><a class=\"ProveItLink\" href=\"../__pv_it/demonstrations/a31fa44aca6cad52768e5f8b0663745f1901c1ee0/expr.ipynb\"><img src=\"data:image/png;base64,iVBORw0KGgoAAAANSUhEUgAAAEMAAAAUBAMAAAAkb50PAAAAMFBMVEX///8AAAAAAAAAAAAAAAAA\n",
       "AAAAAAAAAAAAAAAAAAAAAAAAAAAAAAAAAAAAAAAAAAAv3aB7AAAAD3RSTlMAEHarMolUmd1mIs3v\n",
       "RLtmgJDEAAAACXBIWXMAAA7EAAAOxAGVKw4bAAABBElEQVQoz2NggABWTQUGbCBoEpzZy3IAmwqO\n",
       "Cz4wJvsDRgdsSuoYRGBMngtYrWE4i2DyL8Cu5BeCyX2BIQBIMe5EU7KXgRXG5KqcJACiRZtQlSyf\n",
       "qQgkhZRFQhPgYkytAhAGo/oEBmGoYAGTEXsDQh9nO0QNK9sBhvlQoQWcH5knIJnNth3sdDegPjuI\n",
       "CAsD+wZU+3k3g8wR4FFgOAQPE7Sg590Htuq+AMsXmND9BYwCyBZthoRRNQMTNE7kLtgg/A52LjQU\n",
       "HzPwGUBY+Y41DNcYMD3NUMxwH+oLcSW2SkSwCCGCTjioHlusMHYi86IZ8APWDYzHCCjhUGAOIKCE\n",
       "bVItlAUA6aAxZBQwpgMAAAAASUVORK5CYII=\n",
       "\" style=\"display:inline;vertical-align:middle;\" /></a></span>"
      ],
      "text/plain": [
       "{c in RealNeg, x in Real, y in Real, x > 0, y > x} |- x^{c} > y^{c}"
      ]
     },
     "metadata": {},
     "output_type": "display_data"
    }
   ],
   "source": [
    "# Case (5): neg exponent, Less relation\n",
    "exp_x_c.bound_via_operand_bound(Less(x, y))"
   ]
  },
  {
   "cell_type": "code",
   "execution_count": 89,
   "metadata": {},
   "outputs": [
    {
     "data": {
      "text/html": [
       "<span style=\"font-size:20px;\"><a class=\"ProveItLink\" href=\"../__pv_it/demonstrations/d37b797075f3cbfcbe6c89399c71a9fea96cf4f90/expr.ipynb\"><img src=\"data:image/png;base64,iVBORw0KGgoAAAANSUhEUgAAAD0AAAAQBAMAAABXfmoyAAAAMFBMVEX///8AAAAAAAAAAAAAAAAA\n",
       "AAAAAAAAAAAAAAAAAAAAAAAAAAAAAAAAAAAAAAAAAAAv3aB7AAAAD3RSTlMAiXZmMiLdVJm77xBE\n",
       "zatgdeJyAAAACXBIWXMAAA7EAAAOxAGVKw4bAAAAxklEQVQY02NgQAe2K+dfW2nAgBtMiGM4Z7kB\n",
       "j3wgAyfLAwbPmUAQgF2eI+ACprhmWtoFuPwEDOmz2gj9fLsfICSElB2AJOttJPM9axEWhxVwgAzj\n",
       "hYtMiLr2TRuhPZGBSwEkj+Q+470IaY7fENorDQgmQOQ5NyPChwvq0p1I+lkaZsN5+xUgNBuy/1si\n",
       "4Tx+oFEHgDSTApL8Tia4BUDHM4L8x3AdLh/BwGwwB26AoDHEM/vmbIDF31SGmfcLMALw4LQ0zFAH\n",
       "AJXIOKPMSpzvAAAAAElFTkSuQmCC\n",
       "\" style=\"display:inline;vertical-align:middle;\" /></a>, <a class=\"ProveItLink\" href=\"../../ordering/__pv_it/theorems/d1323f34847310a404e8089c2c268d3c2eb89dbf0/expr.ipynb\"><img src=\"data:image/png;base64,iVBORw0KGgoAAAANSUhEUgAAADQAAAAQBAMAAACra0H4AAAAMFBMVEX///8AAAAAAAAAAAAAAAAA\n",
       "AAAAAAAAAAAAAAAAAAAAAAAAAAAAAAAAAAAAAAAAAAAv3aB7AAAAD3RSTlMAEHarMolUmd1mIs3v\n",
       "RLtmgJDEAAAACXBIWXMAAA7EAAAOxAGVKw4bAAAAyklEQVQY02NgwACce9797nnJgBXwcRnwWj7E\n",
       "IRXA8MAZp1QVN4qQXkfHBrgUH7LMbUUkXYbCQIaQskhoApDm2ohkIMuzXUBGAZMRewOQ5l6AkDrd\n",
       "3yQA9MUCzo/ME0BSSM6InAiylIWBHWw3g08HEDyAGvhwJliMRwFMySE73p1PAMS6v4ARRHMgS7F7\n",
       "AfXLXbBhYAUJMCkgSTE+0GRgyHesYbgGFtmGkCpgmMl3gUFcia0yASwi/FYAFvL/FvC9/oYcHFdf\n",
       "QAIKCgBACzQrtGfvLgAAAABJRU5ErkJggg==\n",
       "\" style=\"display:inline;vertical-align:middle;\" /></a>, <a class=\"ProveItLink\" href=\"../__pv_it/demonstrations/4c5fb6064ed81f83132c10d4b7f508806e4b6da20/expr.ipynb\"><img src=\"data:image/png;base64,iVBORw0KGgoAAAANSUhEUgAAADMAAAAQBAMAAABJt1qBAAAAMFBMVEX///8AAAAAAAAAAAAAAAAA\n",
       "AAAAAAAAAAAAAAAAAAAAAAAAAAAAAAAAAAAAAAAAAAAv3aB7AAAAD3RSTlMAMt0iZhDNdom7q0RU\n",
       "75mOI7qcAAAACXBIWXMAAA7EAAAOxAGVKw4bAAAAwklEQVQY02NgwABuN+cn3XRgwAomWDHs8gzA\n",
       "LmXBwMm4AJcUn0ECilClklICXGoCssy2UoQurlCQgYxKAiYgAeZUJAMljxkAGWEVM8BWshnApWyT\n",
       "PoFNMGXgADuUDckZLmEQFmsrmJJVAoIJECnOEIiXzSEqIpF0MT6YCmJwOzCADWRC9tdDSxDjDAMD\n",
       "2BnsBUhSkexAExlnTG8SAIvkwKXsGFgcZjMwcDCczYaIRM0OgIX8ZIaZ+QeQg2PHJCXkkAMALWov\n",
       "QlCuddsAAAAASUVORK5CYII=\n",
       "\" style=\"display:inline;vertical-align:middle;\" /></a>, <a class=\"ProveItLink\" href=\"../../number_sets/real_numbers/__pv_it/theorems/0c04c146b0f7b92967ed28917fb83981f8ee0b1b0/expr.ipynb\"><img src=\"data:image/png;base64,iVBORw0KGgoAAAANSUhEUgAAADEAAAAQBAMAAABNQoq8AAAAMFBMVEX///8AAAAAAAAAAAAAAAAA\n",
       "AAAAAAAAAAAAAAAAAAAAAAAAAAAAAAAAAAAAAAAAAAAv3aB7AAAAD3RSTlMAEHarMolUmd1mIs3v\n",
       "RLtmgJDEAAAACXBIWXMAAA7EAAAOxAGVKw4bAAAAv0lEQVQY02NgwAZC1RdgFWfgTmDswi4zg4Eh\n",
       "DokrPQHOfMzAkC+AkGGMUIAxvzMw+CcwMAgpi4QmgAU0AqFqQDJAEwqYjNgboOYXgimur0AZBQbO\n",
       "BZwfmWFWZFfBZQIYWBjYNyAsu20IMg0ocx9kKY8CksxDqAvyQVbfX8AIc2K2FZh6x8AwX4BB7oIN\n",
       "AyvMh1UQeg4DQzVQm2MNwzUGFFczcCQwHmFgEFdiqwR7h1EDbh9jqbIDUuhITGAgEgAAPjAn/CdE\n",
       "pSIAAAAASUVORK5CYII=\n",
       "\" style=\"display:inline;vertical-align:middle;\" /></a>, <a class=\"ProveItLink\" href=\"../__pv_it/demonstrations/50829647483a75a463faf4f86a138ea19ac5a80e0/expr.ipynb\"><img src=\"data:image/png;base64,iVBORw0KGgoAAAANSUhEUgAAADEAAAAQBAMAAABNQoq8AAAAMFBMVEX///8AAAAAAAAAAAAAAAAA\n",
       "AAAAAAAAAAAAAAAAAAAAAAAAAAAAAAAAAAAAAAAAAAAv3aB7AAAAD3RSTlMAEHarMolUmd1mIs3v\n",
       "RLtmgJDEAAAACXBIWXMAAA7EAAAOxAGVKw4bAAAAoElEQVQY02NgQAFsuxiwA852AewSTK04JESb\n",
       "UPlCyiKhCSCGeCdczKOFawIDQwGTEXsDkCe8DS7BuCkuGGjpAs6PzEAFDMwIGS4BhkAGBhYG9g0Q\n",
       "/vJOJCvBTuFRwHABF0To/gJGATRX32RgZGCQu2DDwIrmU7YEBmYGhnzHGoZriNDZAiL94lRbgL5Q\n",
       "YqtMQPNyANvpCwyUAYkOEGiB8wHiVh7ZGrlkHgAAAABJRU5ErkJggg==\n",
       "\" style=\"display:inline;vertical-align:middle;\" /></a> <a class=\"ProveItLink\" href=\"../__pv_it/demonstrations/411062223282f8f9a85ee9f1ad74e810f07f2dbd0/proof.ipynb\" style=\"text-decoration: none\">&nbsp;&#x22A2;&nbsp;&nbsp;</a><a class=\"ProveItLink\" href=\"../__pv_it/demonstrations/41690b6ad6769c039c728f0045de2e34fe258fdf0/expr.ipynb\"><img src=\"data:image/png;base64,iVBORw0KGgoAAAANSUhEUgAAAEMAAAATBAMAAAA5aq23AAAAMFBMVEX///8AAAAAAAAAAAAAAAAA\n",
       "AAAAAAAAAAAAAAAAAAAAAAAAAAAAAAAAAAAAAAAAAAAv3aB7AAAAD3RSTlMAEHarMolUmd1mIs3v\n",
       "RLtmgJDEAAAACXBIWXMAAA7EAAAOxAGVKw4bAAAA6ElEQVQoz2NggABWTQUGbCBoEpzZy3IAmwqO\n",
       "Cz4wJvsDRgdsSuoYRGBMngtginEnmpKzCCb/Aggt2oSq5BeCyX2BIQDMYGoVQFayl4EVxuSqnASV\n",
       "4kRRs3ymIpAUUhYJTUASZdsOsZSlw2ElVKiAyYi9Adlw3s1gc6RVnxpADV7A+ZF5AoqSfWAlCxlY\n",
       "oVayMLBvQPEE22ao7xgD4WI8KEHP2Q5z7iKE4P0FjAhPIDzNO4EBypS7YIPwO3LQpTEwQJ2b71jD\n",
       "cA0mjBQBLE8fRUCjTVyJrTIBSwSyMuTsZaAZYOwAA9SkAwAebC5uz8BgHwAAAABJRU5ErkJggg==\n",
       "\" style=\"display:inline;vertical-align:middle;\" /></a></span>"
      ],
      "text/plain": [
       "{c in RealNeg, x in Real, z in Real, x > 0, x <= z} |- x^{c} >= z^{c}"
      ]
     },
     "metadata": {},
     "output_type": "display_data"
    }
   ],
   "source": [
    "# Case (6): neg exponent, LessEq relation\n",
    "exp_x_c.bound_via_operand_bound(LessEq(x, z))"
   ]
  },
  {
   "cell_type": "code",
   "execution_count": 90,
   "metadata": {},
   "outputs": [
    {
     "data": {
      "text/html": [
       "<span style=\"font-size:20px;\"><a class=\"ProveItLink\" href=\"../__pv_it/demonstrations/c11edfb8c3790213d064d89b83469fb287a4937b0/expr.ipynb\"><img src=\"data:image/png;base64,iVBORw0KGgoAAAANSUhEUgAAAEgAAAAUBAMAAADcj2b4AAAAMFBMVEX///8AAAAAAAAAAAAAAAAA\n",
       "AAAAAAAAAAAAAAAAAAAAAAAAAAAAAAAAAAAAAAAAAAAv3aB7AAAAD3RSTlMAMs3vmVREEIndIqt2\n",
       "u2aBbGR5AAAACXBIWXMAAA7EAAAOxAGVKw4bAAABO0lEQVQoz2NgwAtiFzB0nGAgoOYAA98Btgt4\n",
       "1bx9wMDALMDwC5+aswFAYn0BgykWuUe29zVtgWYIg9QwyBcwzAPRjMoOKKourGbIflvAwHqjAKLI\n",
       "BizKH4CqaAUDL+MGBgY2kCqgdV/BovkF6IpYFiiArNiyAOHwTqhDZ85UgCsC+5trdwHPAbYNYFkV\n",
       "MJl0HGESdzlEhouBoeMI0B6uHQfBlnKpI1knG7QAxQXJC3i/g2gmuPCFxZo/j6OoYbdjYAG7hAnJ\n",
       "4e+KgJTsXSCA6GT5wMDZAGIIzwSCCxBFvHUPUExivsBQnwBi1CKZxOhwHUVR/QGG92AGJ3I4Oa5F\n",
       "VRTAsIkVZDPPASRFtTwo9vEeYJ3CAmapwhUtYeB7cA3Fd3saVx8Es6qvFcBSwS2Gu/oB2NNPxk1I\n",
       "tGAAAFleZ072o4hEAAAAAElFTkSuQmCC\n",
       "\" style=\"display:inline;vertical-align:middle;\" /></a>, <a class=\"ProveItLink\" href=\"../../ordering/__pv_it/theorems/d1323f34847310a404e8089c2c268d3c2eb89dbf0/expr.ipynb\"><img src=\"data:image/png;base64,iVBORw0KGgoAAAANSUhEUgAAADQAAAAQBAMAAACra0H4AAAAMFBMVEX///8AAAAAAAAAAAAAAAAA\n",
       "AAAAAAAAAAAAAAAAAAAAAAAAAAAAAAAAAAAAAAAAAAAv3aB7AAAAD3RSTlMAEHarMolUmd1mIs3v\n",
       "RLtmgJDEAAAACXBIWXMAAA7EAAAOxAGVKw4bAAAAyklEQVQY02NgwACce9797nnJgBXwcRnwWj7E\n",
       "IRXA8MAZp1QVN4qQXkfHBrgUH7LMbUUkXYbCQIaQskhoApDm2ohkIMuzXUBGAZMRewOQ5l6AkDrd\n",
       "3yQA9MUCzo/ME0BSSM6InAiylIWBHWw3g08HEDyAGvhwJliMRwFMySE73p1PAMS6v4ARRHMgS7F7\n",
       "AfXLXbBhYAUJMCkgSTE+0GRgyHesYbgGFtmGkCpgmMl3gUFcia0yASwi/FYAFvL/FvC9/oYcHFdf\n",
       "QAIKCgBACzQrtGfvLgAAAABJRU5ErkJggg==\n",
       "\" style=\"display:inline;vertical-align:middle;\" /></a>, <a class=\"ProveItLink\" href=\"../../ordering/__pv_it/theorems/5d76fdd975252a644e3e1cb067a357f9a9c8486a0/expr.ipynb\"><img src=\"data:image/png;base64,iVBORw0KGgoAAAANSUhEUgAAADMAAAATBAMAAADPIygvAAAAMFBMVEX///8AAAAAAAAAAAAAAAAA\n",
       "AAAAAAAAAAAAAAAAAAAAAAAAAAAAAAAAAAAAAAAAAAAv3aB7AAAAD3RSTlMAEHaZZquJVO8y3btE\n",
       "zSKD2s2pAAAACXBIWXMAAA7EAAAOxAGVKw4bAAAA4ElEQVQoz2NgwAC+3ftvdTswYAUbnjIc9RbA\n",
       "LvWMgZszAJcU84MLKELaq1ZdgEttQJY5q4jQxSoINJBR2YFBFCTAdxHJwNm1DxgY2NgbGPxBArwP\n",
       "4FIvbv0CmTCdeQFDNFgKyRkusiBagEOBoQnEmLEKCDZApLhFwF4+L8D5E0RLI+niNNgIYtgyMDWA\n",
       "aC5kf1m+BjG2MnCDfc6kgCQlzQQy0ZThPCQsr8OlHjOwOOwBMkST7CHOFt0jAAv5fQy77xeA2LlQ\n",
       "1cd2rUIJObYLjO3Y44aBS4E1AYcUu5MNDhkADGJEjCMFBEsAAAAASUVORK5CYII=\n",
       "\" style=\"display:inline;vertical-align:middle;\" /></a>, <a class=\"ProveItLink\" href=\"../../number_sets/real_numbers/__pv_it/theorems/0c04c146b0f7b92967ed28917fb83981f8ee0b1b0/expr.ipynb\"><img src=\"data:image/png;base64,iVBORw0KGgoAAAANSUhEUgAAADEAAAAQBAMAAABNQoq8AAAAMFBMVEX///8AAAAAAAAAAAAAAAAA\n",
       "AAAAAAAAAAAAAAAAAAAAAAAAAAAAAAAAAAAAAAAAAAAv3aB7AAAAD3RSTlMAEHarMolUmd1mIs3v\n",
       "RLtmgJDEAAAACXBIWXMAAA7EAAAOxAGVKw4bAAAAv0lEQVQY02NgwAZC1RdgFWfgTmDswi4zg4Eh\n",
       "DokrPQHOfMzAkC+AkGGMUIAxvzMw+CcwMAgpi4QmgAU0AqFqQDJAEwqYjNgboOYXgimur0AZBQbO\n",
       "BZwfmWFWZFfBZQIYWBjYNyAsu20IMg0ocx9kKY8CksxDqAvyQVbfX8AIc2K2FZh6x8AwX4BB7oIN\n",
       "AyvMh1UQeg4DQzVQm2MNwzUGFFczcCQwHmFgEFdiqwR7h1EDbh9jqbIDUuhITGAgEgAAPjAn/CdE\n",
       "pSIAAAAASUVORK5CYII=\n",
       "\" style=\"display:inline;vertical-align:middle;\" /></a>, <a class=\"ProveItLink\" href=\"../__pv_it/demonstrations/0f3bf2f52b0a42ebbfba310f312a43f9efc42b9e0/expr.ipynb\"><img src=\"data:image/png;base64,iVBORw0KGgoAAAANSUhEUgAAADIAAAAQBAMAAACmdTG/AAAAMFBMVEX///8AAAAAAAAAAAAAAAAA\n",
       "AAAAAAAAAAAAAAAAAAAAAAAAAAAAAAAAAAAAAAAAAAAv3aB7AAAAD3RSTlMAEHaZZquJVO8y3btE\n",
       "zSKD2s2pAAAACXBIWXMAAA7EAAAOxAGVKw4bAAAAtklEQVQY02NgIAxkHXDJMGYpoAkoOzCIQpha\n",
       "iTAxpcBp6Qxs7A0M/lARL0MIzcygqmDFMJ15AUM0zIBaOzDlx+AvEMIgwKHA0AQ3+2wgiJzAYAui\n",
       "zgtw/kTIbITQYLW2DEwNcNPiIDTPPwZBBoatDNwBMBdArGHcw9rAkMDAYMpw3gHV1ew/hRt4ChgY\n",
       "RJPsH4BVasF8ymikUOwOZuWCSSn00GG7wNiOPbi4FFgTsMuwO9lglwAAgekfAvUfBD4AAAAASUVO\n",
       "RK5CYII=\n",
       "\" style=\"display:inline;vertical-align:middle;\" /></a> <a class=\"ProveItLink\" href=\"../__pv_it/demonstrations/39b03e21c9f677b14a9a4d7ef7086249d5275c600/proof.ipynb\" style=\"text-decoration: none\">&nbsp;&#x22A2;&nbsp;&nbsp;</a><a class=\"ProveItLink\" href=\"../__pv_it/demonstrations/b0ae0b0af1c0566fd826c54a0e9a037c29abd50c0/expr.ipynb\"><img src=\"data:image/png;base64,iVBORw0KGgoAAAANSUhEUgAAAEUAAAAXBAMAAACv5Z/mAAAAMFBMVEX///8AAAAAAAAAAAAAAAAA\n",
       "AAAAAAAAAAAAAAAAAAAAAAAAAAAAAAAAAAAAAAAAAAAv3aB7AAAAD3RSTlMAEHarMolUmd1mIs3v\n",
       "RLtmgJDEAAAACXBIWXMAAA7EAAAOxAGVKw4bAAABE0lEQVQoz2NggIF4BwasAFl8PXYlKOJ6ONQg\n",
       "xEUnbcKqAkmcsYvlCzYlyOLsBSwfsKlBFue5wPQAREtPQFUDEwcB+QV8igIgsyMUUNTAxMHqF/h7\n",
       "QtgagSjmwMUZGHgrkyKhzBnIiqDiQsoioQnIerOrwJRQJQOjAVSogMmIvQHFEbcNQWRADgMn1E+c\n",
       "Czg/MqP65vZDIMGSUMHADPUTCwP7BlT/ZluBQ4/hEAMP3JM8qN6dUQh17kcGf3iU31/AKIBQAvc7\n",
       "0HgdKFPugg0DKyJ+EGHIZ8DwGMrMd6xhuAZXgxQX7Aa8P6FMcSW2ygSsUW6q/ouBIGDdQEhFNIMM\n",
       "VvMZJDpAoAXEbGIwJWhTpvoFKAsAerk88UqvN3AAAAAASUVORK5CYII=\n",
       "\" style=\"display:inline;vertical-align:middle;\" /></a></span>"
      ],
      "text/plain": [
       "{d in RealNonPos, x in Real, y in Real, x > 0, y > x} |- x^{d} >= y^{d}"
      ]
     },
     "metadata": {},
     "output_type": "display_data"
    }
   ],
   "source": [
    "# Case (7): non-pos exponent, Less relation\n",
    "exp_x_d.bound_via_operand_bound(Less(x, y))"
   ]
  },
  {
   "cell_type": "code",
   "execution_count": 91,
   "metadata": {},
   "outputs": [
    {
     "data": {
      "text/html": [
       "<span style=\"font-size:20px;\"><a class=\"ProveItLink\" href=\"../__pv_it/demonstrations/c11edfb8c3790213d064d89b83469fb287a4937b0/expr.ipynb\"><img src=\"data:image/png;base64,iVBORw0KGgoAAAANSUhEUgAAAEgAAAAUBAMAAADcj2b4AAAAMFBMVEX///8AAAAAAAAAAAAAAAAA\n",
       "AAAAAAAAAAAAAAAAAAAAAAAAAAAAAAAAAAAAAAAAAAAv3aB7AAAAD3RSTlMAMs3vmVREEIndIqt2\n",
       "u2aBbGR5AAAACXBIWXMAAA7EAAAOxAGVKw4bAAABO0lEQVQoz2NgwAtiFzB0nGAgoOYAA98Btgt4\n",
       "1bx9wMDALMDwC5+aswFAYn0BgykWuUe29zVtgWYIg9QwyBcwzAPRjMoOKKourGbIflvAwHqjAKLI\n",
       "BizKH4CqaAUDL+MGBgY2kCqgdV/BovkF6IpYFiiArNiyAOHwTqhDZ85UgCsC+5trdwHPAbYNYFkV\n",
       "MJl0HGESdzlEhouBoeMI0B6uHQfBlnKpI1knG7QAxQXJC3i/g2gmuPCFxZo/j6OoYbdjYAG7hAnJ\n",
       "4e+KgJTsXSCA6GT5wMDZAGIIzwSCCxBFvHUPUExivsBQnwBi1CKZxOhwHUVR/QGG92AGJ3I4Oa5F\n",
       "VRTAsIkVZDPPASRFtTwo9vEeYJ3CAmapwhUtYeB7cA3Fd3saVx8Es6qvFcBSwS2Gu/oB2NNPxk1I\n",
       "tGAAAFleZ072o4hEAAAAAElFTkSuQmCC\n",
       "\" style=\"display:inline;vertical-align:middle;\" /></a>, <a class=\"ProveItLink\" href=\"../../ordering/__pv_it/theorems/d1323f34847310a404e8089c2c268d3c2eb89dbf0/expr.ipynb\"><img src=\"data:image/png;base64,iVBORw0KGgoAAAANSUhEUgAAADQAAAAQBAMAAACra0H4AAAAMFBMVEX///8AAAAAAAAAAAAAAAAA\n",
       "AAAAAAAAAAAAAAAAAAAAAAAAAAAAAAAAAAAAAAAAAAAv3aB7AAAAD3RSTlMAEHarMolUmd1mIs3v\n",
       "RLtmgJDEAAAACXBIWXMAAA7EAAAOxAGVKw4bAAAAyklEQVQY02NgwACce9797nnJgBXwcRnwWj7E\n",
       "IRXA8MAZp1QVN4qQXkfHBrgUH7LMbUUkXYbCQIaQskhoApDm2ohkIMuzXUBGAZMRewOQ5l6AkDrd\n",
       "3yQA9MUCzo/ME0BSSM6InAiylIWBHWw3g08HEDyAGvhwJliMRwFMySE73p1PAMS6v4ARRHMgS7F7\n",
       "AfXLXbBhYAUJMCkgSTE+0GRgyHesYbgGFtmGkCpgmMl3gUFcia0yASwi/FYAFvL/FvC9/oYcHFdf\n",
       "QAIKCgBACzQrtGfvLgAAAABJRU5ErkJggg==\n",
       "\" style=\"display:inline;vertical-align:middle;\" /></a>, <a class=\"ProveItLink\" href=\"../__pv_it/demonstrations/4c5fb6064ed81f83132c10d4b7f508806e4b6da20/expr.ipynb\"><img src=\"data:image/png;base64,iVBORw0KGgoAAAANSUhEUgAAADMAAAAQBAMAAABJt1qBAAAAMFBMVEX///8AAAAAAAAAAAAAAAAA\n",
       "AAAAAAAAAAAAAAAAAAAAAAAAAAAAAAAAAAAAAAAAAAAv3aB7AAAAD3RSTlMAMt0iZhDNdom7q0RU\n",
       "75mOI7qcAAAACXBIWXMAAA7EAAAOxAGVKw4bAAAAwklEQVQY02NgwABuN+cn3XRgwAomWDHs8gzA\n",
       "LmXBwMm4AJcUn0ECilClklICXGoCssy2UoQurlCQgYxKAiYgAeZUJAMljxkAGWEVM8BWshnApWyT\n",
       "PoFNMGXgADuUDckZLmEQFmsrmJJVAoIJECnOEIiXzSEqIpF0MT6YCmJwOzCADWRC9tdDSxDjDAMD\n",
       "2BnsBUhSkexAExlnTG8SAIvkwKXsGFgcZjMwcDCczYaIRM0OgIX8ZIaZ+QeQg2PHJCXkkAMALWov\n",
       "QlCuddsAAAAASUVORK5CYII=\n",
       "\" style=\"display:inline;vertical-align:middle;\" /></a>, <a class=\"ProveItLink\" href=\"../../number_sets/real_numbers/__pv_it/theorems/0c04c146b0f7b92967ed28917fb83981f8ee0b1b0/expr.ipynb\"><img src=\"data:image/png;base64,iVBORw0KGgoAAAANSUhEUgAAADEAAAAQBAMAAABNQoq8AAAAMFBMVEX///8AAAAAAAAAAAAAAAAA\n",
       "AAAAAAAAAAAAAAAAAAAAAAAAAAAAAAAAAAAAAAAAAAAv3aB7AAAAD3RSTlMAEHarMolUmd1mIs3v\n",
       "RLtmgJDEAAAACXBIWXMAAA7EAAAOxAGVKw4bAAAAv0lEQVQY02NgwAZC1RdgFWfgTmDswi4zg4Eh\n",
       "DokrPQHOfMzAkC+AkGGMUIAxvzMw+CcwMAgpi4QmgAU0AqFqQDJAEwqYjNgboOYXgimur0AZBQbO\n",
       "BZwfmWFWZFfBZQIYWBjYNyAsu20IMg0ocx9kKY8CksxDqAvyQVbfX8AIc2K2FZh6x8AwX4BB7oIN\n",
       "AyvMh1UQeg4DQzVQm2MNwzUGFFczcCQwHmFgEFdiqwR7h1EDbh9jqbIDUuhITGAgEgAAPjAn/CdE\n",
       "pSIAAAAASUVORK5CYII=\n",
       "\" style=\"display:inline;vertical-align:middle;\" /></a>, <a class=\"ProveItLink\" href=\"../__pv_it/demonstrations/50829647483a75a463faf4f86a138ea19ac5a80e0/expr.ipynb\"><img src=\"data:image/png;base64,iVBORw0KGgoAAAANSUhEUgAAADEAAAAQBAMAAABNQoq8AAAAMFBMVEX///8AAAAAAAAAAAAAAAAA\n",
       "AAAAAAAAAAAAAAAAAAAAAAAAAAAAAAAAAAAAAAAAAAAv3aB7AAAAD3RSTlMAEHarMolUmd1mIs3v\n",
       "RLtmgJDEAAAACXBIWXMAAA7EAAAOxAGVKw4bAAAAoElEQVQY02NgQAFsuxiwA852AewSTK04JESb\n",
       "UPlCyiKhCSCGeCdczKOFawIDQwGTEXsDkCe8DS7BuCkuGGjpAs6PzEAFDMwIGS4BhkAGBhYG9g0Q\n",
       "/vJOJCvBTuFRwHABF0To/gJGATRX32RgZGCQu2DDwIrmU7YEBmYGhnzHGoZriNDZAiL94lRbgL5Q\n",
       "YqtMQPNyANvpCwyUAYkOEGiB8wHiVh7ZGrlkHgAAAABJRU5ErkJggg==\n",
       "\" style=\"display:inline;vertical-align:middle;\" /></a> <a class=\"ProveItLink\" href=\"../__pv_it/demonstrations/efc92481a434c99433bdb4733ad16dd120c6db020/proof.ipynb\" style=\"text-decoration: none\">&nbsp;&#x22A2;&nbsp;&nbsp;</a><a class=\"ProveItLink\" href=\"../__pv_it/demonstrations/90e7d1af5add4c216fcf1fdeb31abd9928159bea0/expr.ipynb\"><img src=\"data:image/png;base64,iVBORw0KGgoAAAANSUhEUgAAAEUAAAAWBAMAAABkuUxDAAAAMFBMVEX///8AAAAAAAAAAAAAAAAA\n",
       "AAAAAAAAAAAAAAAAAAAAAAAAAAAAAAAAAAAAAAAAAAAv3aB7AAAAD3RSTlMAEHarMolUmd1mIs3v\n",
       "RLtmgJDEAAAACXBIWXMAAA7EAAAOxAGVKw4bAAAA80lEQVQoz2NggIF4BwasAFl8PXYlKOJ6ONQg\n",
       "xEUnbcKqAkmcsYvlCzYlyOLsBSwfsKlBFue5wPQAREtPQFUDEwcB+QV8igIgsyMUUNTAxMHqF/h7\n",
       "QtgagSjmwMUZGHgrkyKhzBnIiqDiQsoioQnIerOrILRHCxfMdQVMRuwNKI64bQj29qa4YKgA5wLO\n",
       "j8yovrn9EERyCTDAbGVhYN+A6t9sK1gYCyDcjurdGYVQBheS+P0FjAgNSH6/ycAIZcldsGFgRcQP\n",
       "IgzZEhiYocx8xxqGa3A1SHHhF6faAmWKK7FVJmCLzgC20xcYaAkkOkCgBVUQAP5ONhcXyjxTAAAA\n",
       "AElFTkSuQmCC\n",
       "\" style=\"display:inline;vertical-align:middle;\" /></a></span>"
      ],
      "text/plain": [
       "{d in RealNonPos, x in Real, z in Real, x > 0, x <= z} |- x^{d} >= z^{d}"
      ]
     },
     "metadata": {},
     "output_type": "display_data"
    }
   ],
   "source": [
    "# Case (8): non-pos exponent, LessEq relation\n",
    "exp_x_d.bound_via_operand_bound(LessEq(x, z))"
   ]
  },
  {
   "cell_type": "code",
   "execution_count": 92,
   "metadata": {},
   "outputs": [
    {
     "data": {
      "text/html": [
       "<span style=\"font-size:20px;\"><a class=\"ProveItLink\" href=\"../__pv_it/demonstrations/73586126c0d9ccc72d664cd083067455b00bb2fb0/expr.ipynb\"><img src=\"data:image/png;base64,iVBORw0KGgoAAAANSUhEUgAAAEAAAAAQBAMAAABUyWQaAAAAMFBMVEX///8AAAAAAAAAAAAAAAAA\n",
       "AAAAAAAAAAAAAAAAAAAAAAAAAAAAAAAAAAAAAAAAAAAv3aB7AAAAD3RSTlMAEHaZZquJVO8y3c1E\n",
       "Irudu/YqAAAACXBIWXMAAA7EAAAOxAGVKw4bAAAA2UlEQVQoz2NgwAAsO979XvGEAQ/g4w3gCXmI\n",
       "V0ECw4OpDJzvgOAtLgW23Fgk9Fat2gBXwIcpf1oRyYRAUZgwo7IDA6sAkMG7EckKzud7YTw29gYG\n",
       "fxCD+wJCQff6RQIw3nTmBQzRYAVIjkxx3ADnCXAoMDSBGDNWAcEDqBUPXRBuOy/A+xNEyyF7czIf\n",
       "3AoGKwamDyCaC1kB89wHcO5TBr4HjkCaSQFJAeMDFbgCU4YZCQkgxnaEAgMGF74DMK5oUm3QBDDj\n",
       "jQAsNv9d4Hv9HTMoj71atQFDEABMhTu7VB5k+QAAAABJRU5ErkJggg==\n",
       "\" style=\"display:inline;vertical-align:middle;\" /></a>, <a class=\"ProveItLink\" href=\"../__pv_it/demonstrations/6047dafbc38478dd08f74d0ff64bf4cd5e49db030/expr.ipynb\"><img src=\"data:image/png;base64,iVBORw0KGgoAAAANSUhEUgAAAD8AAAAQBAMAAABTi7oPAAAAMFBMVEX///8AAAAAAAAAAAAAAAAA\n",
       "AAAAAAAAAAAAAAAAAAAAAAAAAAAAAAAAAAAAAAAAAAAv3aB7AAAAD3RSTlMAEHaJZt1U76symc27\n",
       "IkSKjfYVAAAACXBIWXMAAA7EAAAOxAGVKw4bAAAA0klEQVQoz2NgwADeNee31jgw4AEHbjC88BHA\n",
       "p+AyAw9nA8OcM0BwAYcCrgsbsEjohIZugCs4gCn/WhFhAodgA0yYUdmBIQzE4N2IZMWcbLjlzGwF\n",
       "DBUgBjdc6MD1rV8V4QZP49rAkAxWgORIF2mEzQLsCgzTQIzpoUBwAKKARwQpoPIFGBRAtAySCZwL\n",
       "DiIULGVgMADRrMjhsPIOQsEJBjaw85gUkBTIMCHssGa4BGFsgyu4xcDicA6ugKsFqljinAAsNs8y\n",
       "nNmfgBmUj4+GYsYAACyiQ2S5jmNbAAAAAElFTkSuQmCC\n",
       "\" style=\"display:inline;vertical-align:middle;\" /></a>, <a class=\"ProveItLink\" href=\"../__pv_it/demonstrations/0c63194c87f26ca64603ef5a984a91e27b902bef0/expr.ipynb\"><img src=\"data:image/png;base64,iVBORw0KGgoAAAANSUhEUgAAADEAAAAOBAMAAAB0nulXAAAAMFBMVEX///8AAAAAAAAAAAAAAAAA\n",
       "AAAAAAAAAAAAAAAAAAAAAAAAAAAAAAAAAAAAAAAAAAAv3aB7AAAAD3RSTlMAEHaZZquJVO8y3c1E\n",
       "Irudu/YqAAAACXBIWXMAAA7EAAAOxAGVKw4bAAAAo0lEQVQY02NgIBKw78UhwbJYAMFhVHZgYIXy\n",
       "mZZBGEIpDFwFDGzsDQz+EAmxRVDVCRUMHAEM05kXMESD+ZeXQCU4C6wZ2BMYBDgUGJpAfNbtcAuA\n",
       "ApwFDAznBXh/osowsH9kYAJSVgxMH1BNYwBawAaknjLwPXBEdQFfAEMtkDJlmJGQABERWgRxNdsG\n",
       "XgUgJZpUGzQB5lOoh0xdMANhLxFBCAA+ER6GeYv9lAAAAABJRU5ErkJggg==\n",
       "\" style=\"display:inline;vertical-align:middle;\" /></a> <a class=\"ProveItLink\" href=\"../__pv_it/demonstrations/721966161f2702218dde90e2fce176a8d423da390/proof.ipynb\" style=\"text-decoration: none\">&nbsp;&#x22A2;&nbsp;&nbsp;</a><a class=\"ProveItLink\" href=\"../__pv_it/demonstrations/9a6c437165d9f39cdaa87af591fac44215611cd80/expr.ipynb\"><img src=\"data:image/png;base64,iVBORw0KGgoAAAANSUhEUgAAAEQAAAAVBAMAAAAN71XTAAAAMFBMVEX///8AAAAAAAAAAAAAAAAA\n",
       "AAAAAAAAAAAAAAAAAAAAAAAAAAAAAAAAAAAAAAAAAAAv3aB7AAAAD3RSTlMAEHaZZquJVO8y3c1E\n",
       "Irudu/YqAAAACXBIWXMAAA7EAAAOxAGVKw4bAAAA80lEQVQoz2NgAAPGtFABBiwASZyZgXkBNiVI\n",
       "4vwHeH9iU4IkziKAXQmKOBtWi1DEZwlgV4IQ532IXQWS+GWGu1iVIMR5X840BNHSDmiGQMWBgOP/\n",
       "/w/goMpSQFECFmdUdmBgRXKqViKUIZTCwFUA8RR7A4M/skYvqMkJFQwcAWDWdGAIR6MYXm0LIjkL\n",
       "rBnYE8ACAhwKDE2objwdCHIVUJQTYhHDeYywPw0OC/aPDExQASsGpg+oFsVCInkBAxtU5CkD3wNH\n",
       "ZOfaQmi+AIZaqJApw4yEBCyeZtvACwsj0aTaoAnwVKaFCDpTF6xRIuXAQA4AAFQkNkOOzWAcAAAA\n",
       "AElFTkSuQmCC\n",
       "\" style=\"display:inline;vertical-align:middle;\" /></a></span>"
      ],
      "text/plain": [
       "{u in RealNeg, v in RealNeg, u < v} |- u^{2} > v^{2}"
      ]
     },
     "metadata": {},
     "output_type": "display_data"
    }
   ],
   "source": [
    "# Case (9): exponent = 2, Less relation, negative base\n",
    "exp_u_2.bound_via_operand_bound(Less(u, v))"
   ]
  },
  {
   "cell_type": "code",
   "execution_count": 93,
   "metadata": {},
   "outputs": [
    {
     "data": {
      "text/html": [
       "<span style=\"font-size:20px;\"><a class=\"ProveItLink\" href=\"../__pv_it/demonstrations/73586126c0d9ccc72d664cd083067455b00bb2fb0/expr.ipynb\"><img src=\"data:image/png;base64,iVBORw0KGgoAAAANSUhEUgAAAEAAAAAQBAMAAABUyWQaAAAAMFBMVEX///8AAAAAAAAAAAAAAAAA\n",
       "AAAAAAAAAAAAAAAAAAAAAAAAAAAAAAAAAAAAAAAAAAAv3aB7AAAAD3RSTlMAEHaZZquJVO8y3c1E\n",
       "Irudu/YqAAAACXBIWXMAAA7EAAAOxAGVKw4bAAAA2UlEQVQoz2NgwAAsO979XvGEAQ/g4w3gCXmI\n",
       "V0ECw4OpDJzvgOAtLgW23Fgk9Fat2gBXwIcpf1oRyYRAUZgwo7IDA6sAkMG7EckKzud7YTw29gYG\n",
       "fxCD+wJCQff6RQIw3nTmBQzRYAVIjkxx3ADnCXAoMDSBGDNWAcEDqBUPXRBuOy/A+xNEyyF7czIf\n",
       "3AoGKwamDyCaC1kB89wHcO5TBr4HjkCaSQFJAeMDFbgCU4YZCQkgxnaEAgMGF74DMK5oUm3QBDDj\n",
       "jQAsNv9d4Hv9HTMoj71atQFDEABMhTu7VB5k+QAAAABJRU5ErkJggg==\n",
       "\" style=\"display:inline;vertical-align:middle;\" /></a>, <a class=\"ProveItLink\" href=\"../__pv_it/demonstrations/d37b797075f3cbfcbe6c89399c71a9fea96cf4f90/expr.ipynb\"><img src=\"data:image/png;base64,iVBORw0KGgoAAAANSUhEUgAAAD0AAAAQBAMAAABXfmoyAAAAMFBMVEX///8AAAAAAAAAAAAAAAAA\n",
       "AAAAAAAAAAAAAAAAAAAAAAAAAAAAAAAAAAAAAAAAAAAv3aB7AAAAD3RSTlMAiXZmMiLdVJm77xBE\n",
       "zatgdeJyAAAACXBIWXMAAA7EAAAOxAGVKw4bAAAAxklEQVQY02NgQAe2K+dfW2nAgBtMiGM4Z7kB\n",
       "j3wgAyfLAwbPmUAQgF2eI+ACprhmWtoFuPwEDOmz2gj9fLsfICSElB2AJOttJPM9axEWhxVwgAzj\n",
       "hYtMiLr2TRuhPZGBSwEkj+Q+470IaY7fENorDQgmQOQ5NyPChwvq0p1I+lkaZsN5+xUgNBuy/1si\n",
       "4Tx+oFEHgDSTApL8Tia4BUDHM4L8x3AdLh/BwGwwB26AoDHEM/vmbIDF31SGmfcLMALw4LQ0zFAH\n",
       "AJXIOKPMSpzvAAAAAElFTkSuQmCC\n",
       "\" style=\"display:inline;vertical-align:middle;\" /></a>, <a class=\"ProveItLink\" href=\"../__pv_it/demonstrations/d3bff5c4cf69c187ada1d861dcab5bac9a56602b0/expr.ipynb\"><img src=\"data:image/png;base64,iVBORw0KGgoAAAANSUhEUgAAADEAAAAQBAMAAABNQoq8AAAAMFBMVEX///8AAAAAAAAAAAAAAAAA\n",
       "AAAAAAAAAAAAAAAAAAAAAAAAAAAAAAAAAAAAAAAAAAAv3aB7AAAAD3RSTlMAEHaZZquJVO8y3c1E\n",
       "Irudu/YqAAAACXBIWXMAAA7EAAAOxAGVKw4bAAAAm0lEQVQY02NgQAXVFxiwAy9DHBJaidjFGbMU\n",
       "ULjKDgysAmCWlQNcNEllAgMbewODP1giugAucauA+QHDdOYFDNFgLpLMMgYOBQYBIG4Cc3nhpjF/\n",
       "BFPnBXh/ormA4wGYsmJg+oDmanmIiqcMfA8cUX3KDzT2AAODKcOMhARE6EwA2fOAgQ1IiybVBk1A\n",
       "83OaiyIDZYBxFRjADQYAhYwiSqbuHDkAAAAASUVORK5CYII=\n",
       "\" style=\"display:inline;vertical-align:middle;\" /></a> <a class=\"ProveItLink\" href=\"../__pv_it/demonstrations/878e9b142c9e09c6d12e8fd44db2efe882c0de6f0/proof.ipynb\" style=\"text-decoration: none\">&nbsp;&#x22A2;&nbsp;&nbsp;</a><a class=\"ProveItLink\" href=\"../__pv_it/demonstrations/7f470f2b41a8d10fd84c0ada8a056f67746e76060/expr.ipynb\"><img src=\"data:image/png;base64,iVBORw0KGgoAAAANSUhEUgAAAEIAAAAWBAMAAACGZVc6AAAAMFBMVEX///8AAAAAAAAAAAAAAAAA\n",
       "AAAAAAAAAAAAAAAAAAAAAAAAAAAAAAAAAAAAAAAAAAAv3aB7AAAAD3RSTlMAEHaZZquJVO8y3c1E\n",
       "Irudu/YqAAAACXBIWXMAAA7EAAAOxAGVKw4bAAAA6klEQVQoz2NgAAPGtFABBkyAJMzMwLwAiwok\n",
       "Yf4DvD+xqEASZhHAqgJFmA2bLSjCswSwqkAI8z4EU9IOqAqgwiBwmeEu2HtZCigqoMIgtS9nGkJY\n",
       "WonIRsCFGTj+//8AZXohKQELMyo7MLCiuLLaFuoNJU8Izd7A4I/qvNOBYBuWM9iBudOB4RqNpgLs\n",
       "Aa4EhiYwV4BDAcqC2xILpuzhVp9HC3AvqOv74CJWDEwfkBTAfMv4CS70lIHvgSM8QSBC7AsDAw+E\n",
       "ZcowIyEBJowU6kCPZEJYokm1QROwxWqKE/bIpBxIrQKBlchCAPd3OS7P5WPCAAAAAElFTkSuQmCC\n",
       "\" style=\"display:inline;vertical-align:middle;\" /></a></span>"
      ],
      "text/plain": [
       "{u in RealNeg, c in RealNeg, u <= c} |- u^{2} >= c^{2}"
      ]
     },
     "metadata": {},
     "output_type": "display_data"
    }
   ],
   "source": [
    "# Case (10): exponent = 2, LessEq relation, negative base\n",
    "exp_u_2.bound_via_operand_bound(LessEq(u, c))"
   ]
  },
  {
   "cell_type": "code",
   "execution_count": 94,
   "metadata": {},
   "outputs": [
    {
     "data": {
      "text/html": [
       "<span style=\"font-size:20px;\"><a class=\"ProveItLink\" href=\"../__pv_it/demonstrations/ce2475b1f782f81129a4767b565e241c04ec25260/expr.ipynb\"><img src=\"data:image/png;base64,iVBORw0KGgoAAAANSUhEUgAAAEQAAAATBAMAAADbtrbOAAAAMFBMVEX///8AAAAAAAAAAAAAAAAA\n",
       "AAAAAAAAAAAAAAAAAAAAAAAAAAAAAAAAAAAAAAAAAAAv3aB7AAAAD3RSTlMAEHaJZjKZVN3vq7tE\n",
       "zSL5cm/iAAAACXBIWXMAAA7EAAAOxAGVKw4bAAAA8UlEQVQoz2NgwA8SGAiCDeQrYbm5+2/nFvym\n",
       "cPMt4FmykYASA4YNUQxsu3fP3r0Ft5I8XqymaHd0XIAr4cam5KwikikLpWBKGJUdGMIYKgSATL6L\n",
       "SBaxbr8HU8LMPoFhNcP5A0Am7wOEkrn9TQKw0A1na2CYBJHlRXKuieMFOE+AU4H1KwMbiBnZAQQb\n",
       "oBZtdEG4sV6AaQIDE4gljezpMG4BODeXgXsBQwyIxYGshC0O4d9dDBwGDAYgFpMCkhLGDSpwJdYM\n",
       "JxfwHAAzryOUJDC4cB+AcdmSFZeZQJhSewRgMf37Affe79ji5vCOjgsYggAt8z/dudsZkQAAAABJ\n",
       "RU5ErkJggg==\n",
       "\" style=\"display:inline;vertical-align:middle;\" /></a>, <a class=\"ProveItLink\" href=\"../__pv_it/demonstrations/c5724215ccb37f821d3906d1bc82f6b8b74153c40/expr.ipynb\"><img src=\"data:image/png;base64,iVBORw0KGgoAAAANSUhEUgAAADUAAAARBAMAAACP9fljAAAAMFBMVEX///8AAAAAAAAAAAAAAAAA\n",
       "AAAAAAAAAAAAAAAAAAAAAAAAAAAAAAAAAAAAAAAAAAAv3aB7AAAAD3RSTlMAEHaJZjKZVN3vq7tE\n",
       "zSL5cm/iAAAACXBIWXMAAA7EAAAOxAGVKw4bAAAAz0lEQVQY02NgwAr40m4HYIqy3wORrxmY/2BI\n",
       "sbQJgKh1DAwz0aWYmsFSDPMFGNY/QJUSboIyVjAwrA9gYFR2YAhjqAArF2tBUtfPwMDMPoFhNcP5\n",
       "A0Ce1HUkKdZPDAzhbA0Mkxh4QYZzIctxLGBgEOBUYP3KwAbmP0MyMxtE1AswTWBgQnMLA8sCEJnL\n",
       "wL2AIQbNDwzFDHxAa3YxcBgwGKD5ndWAgQnIsGY4uYDnACLMroLIF2lpGUCKLVlxmQl6+PT///+X\n",
       "gRpAogMEWuF8ADrILt3AQwDPAAAAAElFTkSuQmCC\n",
       "\" style=\"display:inline;vertical-align:middle;\" /></a> <a class=\"ProveItLink\" href=\"../__pv_it/demonstrations/92c074f25676880e642db059b059fe785a85b8b50/proof.ipynb\" style=\"text-decoration: none\">&nbsp;&#x22A2;&nbsp;&nbsp;</a><a class=\"ProveItLink\" href=\"../__pv_it/demonstrations/4d648c855d28cebe6766f0282f439b78bfef6ba30/expr.ipynb\"><img src=\"data:image/png;base64,iVBORw0KGgoAAAANSUhEUgAAAD8AAAAWBAMAAACF0lkSAAAAMFBMVEX///8AAAAAAAAAAAAAAAAA\n",
       "AAAAAAAAAAAAAAAAAAAAAAAAAAAAAAAAAAAAAAAAAAAv3aB7AAAAD3RSTlMAEHaJZjKZVN3vq7tE\n",
       "zSL5cm/iAAAACXBIWXMAAA7EAAAOxAGVKw4bAAAA+klEQVQoz2NggAJG41UCDPgAGwNbA14F/Af4\n",
       "vuJVwCJAQAEDA3MDAQURmI5kTUDi8G1EsNnvQWiOBUgKnjG8g7unDWqYBpICvq2hiVAmUzNUntUX\n",
       "SQHn//8fICzhJrizeYEKGJUdGMIYKhAOFGuBM/VACpjZJzCsZjh/ACYodR1hqwNIQTgwhCcx8D6A\n",
       "iXIhFDAzgBQIcCqwfgXGBMI3cCv8wAoY6gWYJjAwIfkX5kg+BYiCXAbuBQwxyOEH9SbPqlXrZxkw\n",
       "MOxi4DBgMECNOFhAcYJMsGY4uYDnAGocsF+FpoENoJSSrLjMBEci2v9LgYH6QKIDBFrhfABBwzXh\n",
       "dpbQrgAAAABJRU5ErkJggg==\n",
       "\" style=\"display:inline;vertical-align:middle;\" /></a></span>"
      ],
      "text/plain": [
       "{w in RealPos, w <= 2} |- w^{2} <= 4"
      ]
     },
     "metadata": {},
     "output_type": "display_data"
    }
   ],
   "source": [
    "# more concrete case\n",
    "Exp(w, two).bound_via_operand_bound(LessEq(w, two),\n",
    "            assumptions = defaults.assumptions + (LessEq(w, two),))"
   ]
  },
  {
   "cell_type": "code",
   "execution_count": 95,
   "metadata": {},
   "outputs": [
    {
     "data": {
      "text/html": [
       "<span style=\"font-size:20px;\"><a class=\"ProveItLink\" href=\"../__pv_it/demonstrations/ce2475b1f782f81129a4767b565e241c04ec25260/expr.ipynb\"><img src=\"data:image/png;base64,iVBORw0KGgoAAAANSUhEUgAAAEQAAAATBAMAAADbtrbOAAAAMFBMVEX///8AAAAAAAAAAAAAAAAA\n",
       "AAAAAAAAAAAAAAAAAAAAAAAAAAAAAAAAAAAAAAAAAAAv3aB7AAAAD3RSTlMAEHaJZjKZVN3vq7tE\n",
       "zSL5cm/iAAAACXBIWXMAAA7EAAAOxAGVKw4bAAAA8UlEQVQoz2NgwA8SGAiCDeQrYbm5+2/nFvym\n",
       "cPMt4FmykYASA4YNUQxsu3fP3r0Ft5I8XqymaHd0XIAr4cam5KwikikLpWBKGJUdGMIYKgSATL6L\n",
       "SBaxbr8HU8LMPoFhNcP5A0Am7wOEkrn9TQKw0A1na2CYBJHlRXKuieMFOE+AU4H1KwMbiBnZAQQb\n",
       "oBZtdEG4sV6AaQIDE4gljezpMG4BODeXgXsBQwyIxYGshC0O4d9dDBwGDAYgFpMCkhLGDSpwJdYM\n",
       "JxfwHAAzryOUJDC4cB+AcdmSFZeZQJhSewRgMf37Affe79ji5vCOjgsYggAt8z/dudsZkQAAAABJ\n",
       "RU5ErkJggg==\n",
       "\" style=\"display:inline;vertical-align:middle;\" /></a>, <a class=\"ProveItLink\" href=\"../__pv_it/demonstrations/82d21f46e6d08f37247f324e4fb5392c9e34fbd90/expr.ipynb\"><img src=\"data:image/png;base64,iVBORw0KGgoAAAANSUhEUgAAADUAAAARBAMAAACP9fljAAAAMFBMVEX///8AAAAAAAAAAAAAAAAA\n",
       "AAAAAAAAAAAAAAAAAAAAAAAAAAAAAAAAAAAAAAAAAAAv3aB7AAAAD3RSTlMAEHaJZjKZVN3vq7tE\n",
       "zSL5cm/iAAAACXBIWXMAAA7EAAAOxAGVKw4bAAAAv0lEQVQY02NgwAFYEzDF2O9BaI4FGFIsbQIQ\n",
       "hgaGHFMzVIrVF11OuAnGYuYFyjEqOzCEMVSAlYu1wFXpgeSY2ScwrGY4fwDIl7oOl+JzAMmFszUw\n",
       "TGLgfQAU4ELIMTOA5AQ4FVi/MrCBRZ7BzfQDyzHUCzBNYGBCdQufAkQul4F7AUMMqh94Vq1aP8uA\n",
       "gWEXA4cBgwGG3zlB+qwZTi7gOYAIs6sQmn8DkGBLVlxmghF2bPt/KTBQAUh0gEArnA8AJ1UpkMbI\n",
       "4QUAAAAASUVORK5CYII=\n",
       "\" style=\"display:inline;vertical-align:middle;\" /></a>, <a class=\"ProveItLink\" href=\"../__pv_it/demonstrations/b81f23cbc19214bc0d12c5782815f1e5a21c4f410/expr.ipynb\"><img src=\"data:image/png;base64,iVBORw0KGgoAAAANSUhEUgAAADMAAAAqBAMAAADsVn5KAAAAMFBMVEX///8AAAAAAAAAAAAAAAAA\n",
       "AAAAAAAAAAAAAAAAAAAAAAAAAAAAAAAAAAAAAAAAAAAv3aB7AAAAD3RSTlMAMt0Qq5nNdoki72a7\n",
       "RFSRpcO+AAAACXBIWXMAAA7EAAAOxAGVKw4bAAAA90lEQVQ4y2NgYBAyYMAOmF3zcUkxMNSPSiGB\n",
       "/gm4ZFzWp2xgIAF0lOIyiu0BsyYOqU0MDD3IfDOElUcYGN4ju5u5qQDG/MrAIP8AxZyiZqgikBSa\n",
       "szcFgynOH0CpAjT7n0XCpRoY/oPAB7jcNWeQgUCp++i6GK4dhjrj/QN0Az3B1BkGhv1ogb4pEkLv\n",
       "YmAIY8DqeAamB8wLUdJxEdxm5ogSASA1NewghG+EHjecBxj6L2APZJYJDFwLsEtxfWZg+YlDlwID\n",
       "y0ecsc30AacURiAjgApOGdYDOKW24JTha2CYiUNKgoGhGLsMp2poqAIOTwHjPwGrDADQWEYCgtEj\n",
       "JwAAAABJRU5ErkJggg==\n",
       "\" style=\"display:inline;vertical-align:middle;\" /></a> <a class=\"ProveItLink\" href=\"../__pv_it/demonstrations/0014464e814321a9dcaacf4cb8a3cb8f3bc493ca0/proof.ipynb\" style=\"text-decoration: none\">&nbsp;&#x22A2;&nbsp;&nbsp;</a><a class=\"ProveItLink\" href=\"../__pv_it/demonstrations/63011b6a98e7c5e18c2966948ea8c3163bd735ca0/expr.ipynb\"><img src=\"data:image/png;base64,iVBORw0KGgoAAAANSUhEUgAAAFcAAAAYBAMAAAB96HzmAAAAMFBMVEX///8AAAAAAAAAAAAAAAAA\n",
       "AAAAAAAAAAAAAAAAAAAAAAAAAAAAAAAAAAAAAAAAAAAv3aB7AAAAD3RSTlMAMom7q0QizZkQVN1m\n",
       "du8ilFydAAAACXBIWXMAAA7EAAAOxAGVKw4bAAABSElEQVQ4y2NgIAYw/geBD0SpZWAWYCAeCGOz\n",
       "CAiwKnYlwSK2ArwWoQKOALwWoYLpIEICp0UMDFxlCHYXiNiC0yIGnh0T4GzODUCCdwuqRUiAdxNC\n",
       "LQPTASAhU4JqEQJM2gtjLQVibhBDoQTJIs5LB4B+WA02cMYeuA3PgcRdECOhBMkiJq4HDM4M8SC3\n",
       "T6mCWyGpDwx/kJNzGEqQLJLi2MDwloE9AchjQShmmO/AwHMB5AqwYphFE/guMH5k4ACryNiDCKZv\n",
       "DNxAp/EkgBXDLVo/gfcBAy+6B9l+MCwCUrkMEGfALGpnYHZgEMUIOvsJlUAyxMXlnxPCIgYTBm4F\n",
       "oNPQIyX+VgOE8QTJIgZlhjgHVkREchVCaPbnCRDGZySLGDiabnroYCYiri8Quvm/L4pF2EEZCg9u\n",
       "ETEAZhEczN4NAhuJsQgPAACaJGBNM8wuxwAAAABJRU5ErkJggg==\n",
       "\" style=\"display:inline;vertical-align:middle;\" /></a></span>"
      ],
      "text/plain": [
       "{w in RealPos, w <= 4, (1 / 2) > 0} |- sqrt(w) <= sqrt(4)"
      ]
     },
     "metadata": {},
     "output_type": "display_data"
    }
   ],
   "source": [
    "# more concrete case\n",
    "from proveit.numbers import four\n",
    "Exp(w, frac(one, two)).bound_via_operand_bound(LessEq(w, four),\n",
    "            assumptions = defaults.assumptions + \n",
    "                (LessEq(w, four), greater(frac(one, two), zero)))"
   ]
  },
  {
   "cell_type": "code",
   "execution_count": 96,
   "metadata": {},
   "outputs": [
    {
     "data": {
      "text/html": [
       "<span style=\"font-size:20px;\"><a class=\"ProveItLink\" href=\"../__pv_it/demonstrations/ce2475b1f782f81129a4767b565e241c04ec25260/expr.ipynb\"><img src=\"data:image/png;base64,iVBORw0KGgoAAAANSUhEUgAAAEQAAAATBAMAAADbtrbOAAAAMFBMVEX///8AAAAAAAAAAAAAAAAA\n",
       "AAAAAAAAAAAAAAAAAAAAAAAAAAAAAAAAAAAAAAAAAAAv3aB7AAAAD3RSTlMAEHaJZjKZVN3vq7tE\n",
       "zSL5cm/iAAAACXBIWXMAAA7EAAAOxAGVKw4bAAAA8UlEQVQoz2NgwA8SGAiCDeQrYbm5+2/nFvym\n",
       "cPMt4FmykYASA4YNUQxsu3fP3r0Ft5I8XqymaHd0XIAr4cam5KwikikLpWBKGJUdGMIYKgSATL6L\n",
       "SBaxbr8HU8LMPoFhNcP5A0Am7wOEkrn9TQKw0A1na2CYBJHlRXKuieMFOE+AU4H1KwMbiBnZAQQb\n",
       "oBZtdEG4sV6AaQIDE4gljezpMG4BODeXgXsBQwyIxYGshC0O4d9dDBwGDAYgFpMCkhLGDSpwJdYM\n",
       "JxfwHAAzryOUJDC4cB+AcdmSFZeZQJhSewRgMf37Affe79ji5vCOjgsYggAt8z/dudsZkQAAAABJ\n",
       "RU5ErkJggg==\n",
       "\" style=\"display:inline;vertical-align:middle;\" /></a>, <a class=\"ProveItLink\" href=\"../__pv_it/demonstrations/72b0ed1b9b4758dee42a17a3ffbe756b7551b2950/expr.ipynb\"><img src=\"data:image/png;base64,iVBORw0KGgoAAAANSUhEUgAAADUAAAAQBAMAAABEqSrGAAAAMFBMVEX///8AAAAAAAAAAAAAAAAA\n",
       "AAAAAAAAAAAAAAAAAAAAAAAAAAAAAAAAAAAAAAAAAAAv3aB7AAAAD3RSTlMAEHaJZjKZVN3vq7tE\n",
       "zSL5cm/iAAAACXBIWXMAAA7EAAAOxAGVKw4bAAAAwUlEQVQY02NgwAFYExhwAo4FuOU0UOVkHZCM\n",
       "9EWVY7RQgLOZeYFyjMoODGEMFQIQgwxhcnogOWb2CQyrGc4fgAh5JEJoPgeQXDhbA8MkBt4HUPW1\n",
       "eRAjGUByApwKrF8Z2OAWnV0IIv3Acgz1AkwTGJgQchtBRipA5HIZuBcwxMCkateBSJ5Vq9bPMmBg\n",
       "2MXAYcBgAJXyyIMp4gTps2Y4uYAH6kyEHxj4NwAJtmTFZSYQv2sg/M62/5cCcrhIODAQDQBWeCWW\n",
       "YhSnVAAAAABJRU5ErkJggg==\n",
       "\" style=\"display:inline;vertical-align:middle;\" /></a> <a class=\"ProveItLink\" href=\"../__pv_it/demonstrations/f369640c6dc26d319aa53b5110cbc955c416cb050/proof.ipynb\" style=\"text-decoration: none\">&nbsp;&#x22A2;&nbsp;&nbsp;</a><a class=\"ProveItLink\" href=\"../__pv_it/demonstrations/226a98196e3c24da544089997b3b6757a0f91be60/expr.ipynb\"><img src=\"data:image/png;base64,iVBORw0KGgoAAAANSUhEUgAAAEYAAAAVBAMAAAAJGoXuAAAAMFBMVEX///8AAAAAAAAAAAAAAAAA\n",
       "AAAAAAAAAAAAAAAAAAAAAAAAAAAAAAAAAAAAAAAAAAAv3aB7AAAAD3RSTlMAEHaJZjKZVN3vq7tE\n",
       "zSL5cm/iAAAACXBIWXMAAA7EAAAOxAGVKw4bAAABIElEQVQoz2NggIInRUsZsAA+d60AOGcxgyY2\n",
       "NVwGTBPgnFAGC2xqWAOYG5C4LQxYAYcDgq2rgFUJ0yUkDuMmTAVhQCyNrDc+AENNF8hFX+GmTGV4\n",
       "74BhTxeDZADfFzi/kcFTAKT2CpKakFsMHAIsE+H8YKV1YFq4CaHG4BYDq5HWAwZGZQeg0yoEEBY0\n",
       "w9hMD25BGMzsExhWM5w/gNDN0gZV9IQBqiacrYFhEgPvAyRnsF+D8AxgagQ4FYC+Y0PxD88tkEks\n",
       "D2BqGOoFgLHGhKrmNkjNIwa4mlwG7gUMMchK2G+B7Tq1atXPxRCRXQwcBkCrkd0Md9wsKG3NcHIB\n",
       "D5K3EH5nYPgNpdmSFZeZIJQIIYVh9v9F2JICI45URAgAABxGPrgz3eHGAAAAAElFTkSuQmCC\n",
       "\" style=\"display:inline;vertical-align:middle;\" /></a></span>"
      ],
      "text/plain": [
       "{w in RealPos, w > 4} |- w^{3} > 4^{3}"
      ]
     },
     "metadata": {},
     "output_type": "display_data"
    }
   ],
   "source": [
    "# more concrete case\n",
    "from proveit.numbers import four\n",
    "Exp(w, three).bound_via_operand_bound(greater(w, four),\n",
    "            assumptions = defaults.assumptions + \n",
    "                (greater(w, four),))"
   ]
  },
  {
   "cell_type": "markdown",
   "metadata": {},
   "source": [
    "### Testing `Exp.bound_via_operand_bound()` for $a^x$ where we know a relation for exponent $x$"
   ]
  },
  {
   "cell_type": "code",
   "execution_count": 97,
   "metadata": {},
   "outputs": [
    {
     "data": {
      "text/html": [
       "<strong id=\"defaults.assumptions\">defaults.assumptions:</strong> <a class=\"ProveItLink\" href=\"../__pv_it/demonstrations/c15eae79f1b079d24bf8b62e9a80bd01029402d90/expr.ipynb\"><img src=\"data:image/png;base64,iVBORw0KGgoAAAANSUhEUgAABDkAAAAVBAMAAAC+gSh5AAAAMFBMVEX///8AAAAAAAAAAAAAAAAA\n",
       "AAAAAAAAAAAAAAAAAAAAAAAAAAAAAAAAAAAAAAAAAAAv3aB7AAAAD3RSTlMAInZUiRDNmWbv3US7\n",
       "qzJazP2FAAAACXBIWXMAAA7EAAAOxAGVKw4bAAAHhUlEQVRo3u2ZXWwUVRTHz35Md9vdbjfESCQS\n",
       "l0oDEoE1waq8sEFEQqpOiICQ1i4QghAri0GCPMgaozbGhEoMMYixQRTcGNz4QeTBdNHUDz7CWlsp\n",
       "CSZL0BARI1jbGDXEe2fmzty5M2fudDcQH3ofutv97fmfc+45c+feWQBIwsSYGM6h9UUw/X8IJbrx\n",
       "5Nj731QD4aV9pzfty1dHazOWBCbBtdAbMT6if+a5s0uq/qp82+tgiXdxTY4lNub8G8YD5dhwv/6+\n",
       "fa8HdI7SVPj8VRXzaqcS4/FRWWASXAu9ASNILgsl60aUM5vZnNSJJYaObaOopI01pf0bxgMZKP1m\n",
       "/LPBCzpLeBPEE2XMq0AlxuOissAkuBaKj9CaalpBecL52XqACLJwzlWREtOuGvXoOI71qf4N6WRs\n",
       "qTP+GfGCbiWMJLOYV4FKjMdFZYFJcC0Uv5sdVKtaKR7d7/joZYB6pH/M7jAme0UeLzLGlsoMybiz\n",
       "UMiakxHXP4uxrwWPF94ToSVmQL2EJbtXS1igEmPwYywJzD0pv1QiLVkdggfUcawO3pb1KrQi/WN2\n",
       "hzHZytIUWmSMbZAZAhxp4S6VoQ79fdjY6sTWqk7IhglpCRuXl+1eLWGBSozBh7EkMCQpn1QiLVkd\n",
       "XFYAX0zTFdujLg9byUtgcFpK7B+zO7qav9ffzHrAWeSFMysYCwzOGcENpy6cpH1pPbeQJr40Loq6\n",
       "gdna7exm1QUypyakJbzcmrR7tYR5umw7wBBgxsr0PLyDGlN6EearaGBK89BP9+NJEd9KGaVw6XAg\n",
       "L5fmasT0eLrykHWqMPRg2ezHF6Xt1TUT5SlZkzYkbYmGy0DXm6PJ+KjYl6w7lDG105jbV54Rizwl\n",
       "HSlhzBJ1gbHX4DR1UJe0pmrPh/sNn53rlav0dY0bZE6t5bV0y6a/WwSvljBPM/dB9ApgxuFQD7yF\n",
       "GlN6DvqKaGARmJ3aAWhSzLc7Vda2PQRyaW4FMHOxaMc6azlnepALDkR67dU1E7VRUpUulU80mqU9\n",
       "pLwB5jeM/rG6IzQK9ezW0LpFKPIBnFFRczvnMFyVB30iuU3YkhfZ9xeosJu+Zt0gc5rlto7dK0Dw\n",
       "WudGE+kd0JgFzPgCMZ2HGl8gc7TbqK1rYM/DLnUYTUrzXUJTDqigr7De0jD5EAh6HG20usPUiyaj\n",
       "o415e3XNRO0UYk+qfKKkS94kvXcFGjL2/rG6gwg1mfDIkK3IEX4bITJeVISwkxaZjF8KZJSMhbS/\n",
       "26DbAP6kE7CXwA9EaDi1IClh/LG84NUS5qhCstY6y91YJewCakxo4hq5TtHAKjRuNCnTt3vKZFFQ\n",
       "fUhb9Tf1OGr1jqkHCe4iZdU1E7XTUFfSlmjiCu2O+hJ0Fu39Y3UHmew+80x7pN9W5Hp+N+9klqgI\n",
       "YR8o/2jPvfgD3MW4ylaHGN08KCU3aDi1IClhItcveG13o/QwdFsFNaZrVgo3XqAGeyAIaGCgL3hY\n",
       "UsT37xWUQiAFPqS51YHpcZTfeQbMs0B9iusOvbosURs1dxUs0VgPvbN0pmCX0D9WdzSlYSeLsfU7\n",
       "+w2ik/PrwnahUPnDuGc28FMVOV9ijzv0BaLXDTKnvfxDieduFbw2uFF6A52LG9ObXQY33gbxMvwK\n",
       "aGAQuwrL8aTIRXoHTuEzshrIpbnVgenxlNt5Mj2AvqSiCtVlifLUOpGwREO98AWZ0jT8EEoa/ZPk\n",
       "dqX0600Vci83NpdbuM0l9d1EFt0iwjhRJ1RGyP3/LvpBipsMpTRT93mN7kvIaHaDzGkzX8L2YN7u\n",
       "1RLmKM36ZFTFjOEU6BG7G5+i66g+qW6BKScae3TsnhTxfQqnoTQ0+pDmVgddT6DmCqDp0bDbi2ch\n",
       "bDKjIFqidsqdd1mi0RKQnW08FToYEU+0jxDzMbqW5eM58WAaJieKTnK/ImeHcAVhlqgLJD05P6fJ\n",
       "rrMmIwfd8aLmcxi+1k+2aRfInJoQSpMhmj8heF3nQiFSTrweBswYFsMkwI3b4Gg5VkQDC11b2RNL\n",
       "A5pUpBz7C6eX26Yf9iNNzqDGQUbTc1Dy71PA9GjYC35+Fj4Wn3dpidoo/6yMJRrJwCVCBh6eOkd3\n",
       "bH7jx7e78lCgnTm4Xb8ZzDJ7vvHs2DA00B/UFnW3YMwUdTXsmH5+QOurjhMq+0ny32T8qxHNZ8eD\n",
       "+k5QOfepE5pODUh/SD0GJzenbV5NYZ6SZG43gnIzhsiwsQN1NY5sbTmzBNDAlKdT97xgN7fFrQzO\n",
       "uIrTTGhP0Y+09dRK13NQdt6lejTslc2h7WkQqqslaqfcYIk2EIWKdUY+JD6y5R6erRZ/j7nbH/OG\n",
       "AJ8cL2QxnxBrM553+4ESYTutyVgSGJZUOOsjZZk0bQ/jmQjVC3n+qsKH7aiuIylxTCGucjgOe9lm\n",
       "qmTe0NunJ5QIe9PajCWBaXgxrEpXY4xRXe86zgjQm8YxHC/z+sk3VR3zht4+vaG3sMRtTcaSwHS8\n",
       "HwarMsaormejq+mjlMLhapJSNNNChfsoULKdvx3DSzxYJfOG3j69obewxG1NxpLAdHzvjGJVxhjV\n",
       "9a7fjEA8aXtsMjEmBjemAfwHzN2aP6rs2ksAAAAASUVORK5CYII=\n",
       "\" style=\"display:inline;vertical-align:middle;\" /></a><br>"
      ],
      "text/plain": [
       "<IPython.core.display.HTML object>"
      ]
     },
     "metadata": {},
     "output_type": "display_data"
    }
   ],
   "source": [
    "from proveit import a, b, c, d, u, v, w, x, y, z, defaults\n",
    "from proveit.numbers import greater, greater_eq, Less, LessEq, RealNeg, RealNonNeg\n",
    "defaults.assumptions = [greater(a, one), greater(b, one), greater(c, one), greater(d, one),\n",
    "                        InSet(a, Real), InSet(b, Real), InSet(c, Real),\n",
    "                        InSet(d, Real), InSet(u, Real), InSet(v, Real), InSet(w, Real),\n",
    "                        InSet(x, Real), InSet(y, Real), InSet(z, Real),\n",
    "                        Less(x, y), LessEq(x, z), greater(x, v), greater_eq(x, w)]"
   ]
  },
  {
   "cell_type": "code",
   "execution_count": 98,
   "metadata": {},
   "outputs": [
    {
     "data": {
      "text/html": [
       "<strong id=\"exp_a_x\">exp_a_x:</strong> <a class=\"ProveItLink\" href=\"../__pv_it/demonstrations/c0bfa9a2bea475825dfd225c79a8a1dd1ed67c870/expr.ipynb\"><img src=\"data:image/png;base64,iVBORw0KGgoAAAANSUhEUgAAABQAAAAQBAMAAADkNkIoAAAAMFBMVEX///8AAAAAAAAAAAAAAAAA\n",
       "AAAAAAAAAAAAAAAAAAAAAAAAAAAAAAAAAAAAAAAAAAAv3aB7AAAAD3RSTlMAIquJdkTvuxBmmd1U\n",
       "zTKBpmoTAAAACXBIWXMAAA7EAAAOxAGVKw4bAAAAbklEQVQI12NgAAMWL5GFEBaDI1PBHShzArvD\n",
       "AyiTgV8AxmJ4xgBlMybYMiyACi4JdmkAiig7OkAFwgTYf0BYHJkMXBsgTK4PDNwGECZbAUN/AITZ\n",
       "78AwH6qr/wCDLg/EeHYHnl1cUBNU7IT8wCwAd3gS/r0ECNMAAAAASUVORK5CYII=\n",
       "\" style=\"display:inline;vertical-align:middle;\" /></a><br>"
      ],
      "text/plain": [
       "<IPython.core.display.HTML object>"
      ]
     },
     "metadata": {},
     "output_type": "display_data"
    },
    {
     "data": {
      "text/html": [
       "<strong id=\"exp_b_x\">exp_b_x:</strong> <a class=\"ProveItLink\" href=\"../__pv_it/demonstrations/9c3a73819c4adb701884e3a6b43929d2becc5d0c0/expr.ipynb\"><img src=\"data:image/png;base64,iVBORw0KGgoAAAANSUhEUgAAABIAAAAQBAMAAADpKDJvAAAAMFBMVEX///8AAAAAAAAAAAAAAAAA\n",
       "AAAAAAAAAAAAAAAAAAAAAAAAAAAAAAAAAAAAAAAAAAAv3aB7AAAAD3RSTlMAELvv3c2ZVESJq3Yi\n",
       "MmZ3LnoBAAAACXBIWXMAAA7EAAAOxAGVKw4bAAAAhUlEQVQI12NgAIHuBQwLwAzGDR95DRgYlR0Y\n",
       "eMQduBUYGFgTGBi4JnBtYGDgL2BgYGlgvsDA0C8AZF3oByqfAsTseapAMmr3cgYZBj2gCV8F5A+s\n",
       "5ggASnxkYN7QtxMoyRbAwD8BbD7LBIb+AjALaFy+AIR1gdEOzGDgesCUAGExrsyDMACvXxpE1XEb\n",
       "4gAAAABJRU5ErkJggg==\n",
       "\" style=\"display:inline;vertical-align:middle;\" /></a><br>"
      ],
      "text/plain": [
       "<IPython.core.display.HTML object>"
      ]
     },
     "metadata": {},
     "output_type": "display_data"
    },
    {
     "data": {
      "text/html": [
       "<strong id=\"exp_c_x\">exp_c_x:</strong> <a class=\"ProveItLink\" href=\"../__pv_it/demonstrations/a4ab0d3722eb59c3b2bb1932e3773e3f99a4354e0/expr.ipynb\"><img src=\"data:image/png;base64,iVBORw0KGgoAAAANSUhEUgAAABEAAAAQBAMAAAACH4lsAAAALVBMVEX///8AAAAAAAAAAAAAAAAA\n",
       "AAAAAAAAAAAAAAAAAAAAAAAAAAAAAAAAAAAAAADAOrOgAAAADnRSTlMAiXZmMiLdVJm77xBEzcoG\n",
       "1xIAAAAJcEhZcwAADsQAAA7EAZUrDhsAAABZSURBVAjXY2AAAZbcmANgBgOHjwQDFLAKwFhOMAaP\n",
       "AesGCCu25CRUrNvqKogSUnaA8MMKOCZAWIkMXAoQQ1/DDOCaAGPtU4Cx+AwYGCC2AzUyQk0RNNYG\n",
       "0wBKIQ2FHZ4qgAAAAABJRU5ErkJggg==\n",
       "\" style=\"display:inline;vertical-align:middle;\" /></a><br>"
      ],
      "text/plain": [
       "<IPython.core.display.HTML object>"
      ]
     },
     "metadata": {},
     "output_type": "display_data"
    },
    {
     "data": {
      "text/html": [
       "<strong id=\"exp_d_x\">exp_d_x:</strong> <a class=\"ProveItLink\" href=\"../__pv_it/demonstrations/e7fd8fcbd20ac5dfffa05e714ca71163a8aec36c0/expr.ipynb\"><img src=\"data:image/png;base64,iVBORw0KGgoAAAANSUhEUgAAABQAAAAQBAMAAADkNkIoAAAAMFBMVEX///8AAAAAAAAAAAAAAAAA\n",
       "AAAAAAAAAAAAAAAAAAAAAAAAAAAAAAAAAAAAAAAAAAAv3aB7AAAAD3RSTlMAMs3vmVREEIndIqt2\n",
       "u2aBbGR5AAAACXBIWXMAAA7EAAAOxAGVKw4bAAAAe0lEQVQI12NgAAOeI2u8ICyGU9wXVEE0o7LD\n",
       "A94DAmAx/gAG/gUQ6fwCBmEGCLuTy6CJwQHMVGHwyThTwMDAtePgV6g5yQt4v0NY7HYMLAoQJssH\n",
       "Bs4GCJP5AkN9AoRZf4DhPVRXfQDDJlaI8bwHWKewQE3Y07j6IJgFAH4JHHC81+z6AAAAAElFTkSu\n",
       "QmCC\n",
       "\" style=\"display:inline;vertical-align:middle;\" /></a><br>"
      ],
      "text/plain": [
       "<IPython.core.display.HTML object>"
      ]
     },
     "metadata": {},
     "output_type": "display_data"
    },
    {
     "data": {
      "text/html": [
       "<strong id=\"exp_2_u\">exp_2_u:</strong> <a class=\"ProveItLink\" href=\"../__pv_it/demonstrations/511ba8985c2e7d196caf688a5e9143a033697dae0/expr.ipynb\"><img src=\"data:image/png;base64,iVBORw0KGgoAAAANSUhEUgAAABMAAAAQBAMAAAAG6llRAAAAMFBMVEX///8AAAAAAAAAAAAAAAAA\n",
       "AAAAAAAAAAAAAAAAAAAAAAAAAAAAAAAAAAAAAAAAAAAv3aB7AAAAD3RSTlMAIpnNuzKJRKvvEN12\n",
       "ZlQ4bmvwAAAACXBIWXMAAA7EAAAOxAGVKw4bAAAAe0lEQVQI12NgAIGaBoYGMIOB68Av1gkMDIxK\n",
       "JgGM6zbwODAwiDCwfWfgOMBxgIGhkYFhJgNnAWcoA8P8BQz9ApwC9WsYGLoZGPoD+HReHAcbsJ8B\n",
       "Blj/wJncDXCmCpzFixB8xsAoANWUwMCzAMKUVlLShsrv////M4QFAEMZGm3XSz05AAAAAElFTkSu\n",
       "QmCC\n",
       "\" style=\"display:inline;vertical-align:middle;\" /></a><br>"
      ],
      "text/plain": [
       "<IPython.core.display.HTML object>"
      ]
     },
     "metadata": {},
     "output_type": "display_data"
    }
   ],
   "source": [
    "exp_a_x, exp_b_x, exp_c_x, exp_d_x, exp_2_u = Exp(a, x), Exp(b, y), Exp(c, z), Exp(d, x), Exp(two, u)"
   ]
  },
  {
   "cell_type": "code",
   "execution_count": 99,
   "metadata": {},
   "outputs": [
    {
     "data": {
      "text/html": [
       "<span style=\"font-size:20px;\"><a class=\"ProveItLink\" href=\"../../ordering/__pv_it/theorems/4aa8d696b1f407d6126de9f51a052e8d90e0848c0/expr.ipynb\"><img src=\"data:image/png;base64,iVBORw0KGgoAAAANSUhEUgAAADMAAAAQBAMAAABJt1qBAAAAMFBMVEX///8AAAAAAAAAAAAAAAAA\n",
       "AAAAAAAAAAAAAAAAAAAAAAAAAAAAAAAAAAAAAAAAAAAv3aB7AAAAD3RSTlMAIquJdkTvuxBmmd1U\n",
       "zTKBpmoTAAAACXBIWXMAAA7EAAAOxAGVKw4bAAAAzElEQVQY02NgwABz0+tvp09gwAoKhBiCpjdg\n",
       "lxJmYOdTwCXFJXABRch99+4LcKkCZJlYD4Qupg6QgYzKjg4gAcYbSAY+PysAZIQJsP8ACfAKwKXE\n",
       "bv8GmcCRycC1ASyF5IyZvSCa6wMDtwGI8Ww3EBRApNg7QV5mK2DoDwAJtCPp4ltQAaT7HRjmgwW4\n",
       "kf21ThwkdYBBlwfkAhYHJKl2FqCJ7A48u7jAInfgUlIMnBNKgS5UsRPyA4s0lTbAQr6Qofz+AeTg\n",
       "CK7ejRxyAISENKeL/c93AAAAAElFTkSuQmCC\n",
       "\" style=\"display:inline;vertical-align:middle;\" /></a>, <a class=\"ProveItLink\" href=\"../../ordering/__pv_it/theorems/d1323f34847310a404e8089c2c268d3c2eb89dbf0/expr.ipynb\"><img src=\"data:image/png;base64,iVBORw0KGgoAAAANSUhEUgAAADQAAAAQBAMAAACra0H4AAAAMFBMVEX///8AAAAAAAAAAAAAAAAA\n",
       "AAAAAAAAAAAAAAAAAAAAAAAAAAAAAAAAAAAAAAAAAAAv3aB7AAAAD3RSTlMAEHarMolUmd1mIs3v\n",
       "RLtmgJDEAAAACXBIWXMAAA7EAAAOxAGVKw4bAAAAyklEQVQY02NgwACce9797nnJgBXwcRnwWj7E\n",
       "IRXA8MAZp1QVN4qQXkfHBrgUH7LMbUUkXYbCQIaQskhoApDm2ohkIMuzXUBGAZMRewOQ5l6AkDrd\n",
       "3yQA9MUCzo/ME0BSSM6InAiylIWBHWw3g08HEDyAGvhwJliMRwFMySE73p1PAMS6v4ARRHMgS7F7\n",
       "AfXLXbBhYAUJMCkgSTE+0GRgyHesYbgGFtmGkCpgmMl3gUFcia0yASwi/FYAFvL/FvC9/oYcHFdf\n",
       "QAIKCgBACzQrtGfvLgAAAABJRU5ErkJggg==\n",
       "\" style=\"display:inline;vertical-align:middle;\" /></a>, <a class=\"ProveItLink\" href=\"../../ordering/__pv_it/theorems/5d76fdd975252a644e3e1cb067a357f9a9c8486a0/expr.ipynb\"><img src=\"data:image/png;base64,iVBORw0KGgoAAAANSUhEUgAAADMAAAATBAMAAADPIygvAAAAMFBMVEX///8AAAAAAAAAAAAAAAAA\n",
       "AAAAAAAAAAAAAAAAAAAAAAAAAAAAAAAAAAAAAAAAAAAv3aB7AAAAD3RSTlMAEHaZZquJVO8y3btE\n",
       "zSKD2s2pAAAACXBIWXMAAA7EAAAOxAGVKw4bAAAA4ElEQVQoz2NgwAC+3ftvdTswYAUbnjIc9RbA\n",
       "LvWMgZszAJcU84MLKELaq1ZdgEttQJY5q4jQxSoINJBR2YFBFCTAdxHJwNm1DxgY2NgbGPxBArwP\n",
       "4FIvbv0CmTCdeQFDNFgKyRkusiBagEOBoQnEmLEKCDZApLhFwF4+L8D5E0RLI+niNNgIYtgyMDWA\n",
       "aC5kf1m+BjG2MnCDfc6kgCQlzQQy0ZThPCQsr8OlHjOwOOwBMkST7CHOFt0jAAv5fQy77xeA2LlQ\n",
       "1cd2rUIJObYLjO3Y44aBS4E1AYcUu5MNDhkADGJEjCMFBEsAAAAASUVORK5CYII=\n",
       "\" style=\"display:inline;vertical-align:middle;\" /></a>, <a class=\"ProveItLink\" href=\"../__pv_it/demonstrations/e6ed1880d8a5adc965bd31595086d71670c4cffd0/expr.ipynb\"><img src=\"data:image/png;base64,iVBORw0KGgoAAAANSUhEUgAAADAAAAAQBAMAAACigOGCAAAAMFBMVEX///8AAAAAAAAAAAAAAAAA\n",
       "AAAAAAAAAAAAAAAAAAAAAAAAAAAAAAAAAAAAAAAAAAAv3aB7AAAAD3RSTlMAIquJdkTvuxBmmd1U\n",
       "zTKBpmoTAAAACXBIWXMAAA7EAAAOxAGVKw4bAAAAjElEQVQY02NgwAb4dmAVZmha+wO7BAMLskTv\n",
       "BBwSHNYOqBKMyo5QEW8LFIkwAXaYxtkrkCQ4Mhm4NsBUnl2IkOD6wMBtADc8VgMuwVbA0B+AkKiA\n",
       "S/Q7MMyHi59VRBjVf4BBl0cAavlCJMvZHXh2caE7l/kj0FUqdkJ+YA96wz3IpPZXE+Hz7gkMRAEA\n",
       "Nu0kN+QdTTgAAAAASUVORK5CYII=\n",
       "\" style=\"display:inline;vertical-align:middle;\" /></a>, <a class=\"ProveItLink\" href=\"../../ordering/__pv_it/theorems/44d10bba886cb9c03d8c1d01224b9827d41c27660/expr.ipynb\"><img src=\"data:image/png;base64,iVBORw0KGgoAAAANSUhEUgAAADMAAAAQBAMAAABJt1qBAAAAMFBMVEX///8AAAAAAAAAAAAAAAAA\n",
       "AAAAAAAAAAAAAAAAAAAAAAAAAAAAAAAAAAAAAAAAAAAv3aB7AAAAD3RSTlMAEHarMolUmd1mIs3v\n",
       "RLtmgJDEAAAACXBIWXMAAA7EAAAOxAGVKw4bAAAAuklEQVQY02NgIBpkL8AlM6MQmSekLBKaAGVr\n",
       "BIIpRvUJDMJAuoDJiL0BIhKhAFHBynaAYT4DA+cCzo/ME0ACXBUToJrdgGrtGBhYGNg3QASsYcYy\n",
       "CPAoMBwCMXgU0KUY7guwfAHTCxgFUA1kqGZgOsDAIHfBhoGVAdUZDI8Z+AwYGPIdaxiuQUUYNRQh\n",
       "jGKG+0ATxJXYKhGWzIB4TDioHjNUZkOFonEEF+sGxmM4pDgUmANwSLFNqgWSAET3I7cK1lG8AAAA\n",
       "AElFTkSuQmCC\n",
       "\" style=\"display:inline;vertical-align:middle;\" /></a> <a class=\"ProveItLink\" href=\"../__pv_it/demonstrations/8535199b5893d1b8d9f676fc5a0ed08f7ba3d9510/proof.ipynb\" style=\"text-decoration: none\">&nbsp;&#x22A2;&nbsp;&nbsp;</a><a class=\"ProveItLink\" href=\"../__pv_it/theorems/359b222f800f1fdfd11cec9714b219902e6212180/expr.ipynb\"><img src=\"data:image/png;base64,iVBORw0KGgoAAAANSUhEUgAAAEUAAAASBAMAAAD/KA5VAAAAMFBMVEX///8AAAAAAAAAAAAAAAAA\n",
       "AAAAAAAAAAAAAAAAAAAAAAAAAAAAAAAAAAAAAAAAAAAv3aB7AAAAD3RSTlMAIquJdkTvuxBmmd1U\n",
       "zTKBpmoTAAAACXBIWXMAAA7EAAAOxAGVKw4bAAABBUlEQVQoz2NgAAMWL5GFDFgAqxMDE4ztyFRw\n",
       "B5uaFv6GZzD2BHaHB9jUSJxmcIdz+AUYsAJlBhU4+xkDdkVbGfKgLMYEW4YFcHGeiwg1+1g/wJhL\n",
       "gl0aYGzOXQ0INaemXwCZoezogGw6y2aoEiETEQYOAfYJQGaYAPsPJCXNW2BBk8hQ38DkEAtkcmQy\n",
       "cG1AKJHaCWO1TWBYzcA6xQDI5PrAwG0AV8KECMn1DAyboUy2Aob+AGxq0hk4vkKZ/Q4M8xmw2MXx\n",
       "hYET5u3+Awy6PAKYbub4w8B04SCEze7As4sLJRq3QPxewnB6ATRcOVTshPxQgp8TEkBNzg9VHjDg\n",
       "ApwXGUgGABdzOr+C+pmHAAAAAElFTkSuQmCC\n",
       "\" style=\"display:inline;vertical-align:middle;\" /></a></span>"
      ],
      "text/plain": [
       "{a in Real, x in Real, y in Real, a > 1, x < y} |- a^{x} < a^{y}"
      ]
     },
     "metadata": {},
     "output_type": "display_data"
    }
   ],
   "source": [
    "# Case (1): base > 1, Less relation\n",
    "exp_a_x.bound_via_operand_bound(Less(x, y))"
   ]
  },
  {
   "cell_type": "code",
   "execution_count": 100,
   "metadata": {},
   "outputs": [
    {
     "data": {
      "text/html": [
       "<span style=\"font-size:20px;\"><a class=\"ProveItLink\" href=\"../../ordering/__pv_it/theorems/4aa8d696b1f407d6126de9f51a052e8d90e0848c0/expr.ipynb\"><img src=\"data:image/png;base64,iVBORw0KGgoAAAANSUhEUgAAADMAAAAQBAMAAABJt1qBAAAAMFBMVEX///8AAAAAAAAAAAAAAAAA\n",
       "AAAAAAAAAAAAAAAAAAAAAAAAAAAAAAAAAAAAAAAAAAAv3aB7AAAAD3RSTlMAIquJdkTvuxBmmd1U\n",
       "zTKBpmoTAAAACXBIWXMAAA7EAAAOxAGVKw4bAAAAzElEQVQY02NgwABz0+tvp09gwAoKhBiCpjdg\n",
       "lxJmYOdTwCXFJXABRch99+4LcKkCZJlYD4Qupg6QgYzKjg4gAcYbSAY+PysAZIQJsP8ACfAKwKXE\n",
       "bv8GmcCRycC1ASyF5IyZvSCa6wMDtwGI8Ww3EBRApNg7QV5mK2DoDwAJtCPp4ltQAaT7HRjmgwW4\n",
       "kf21ThwkdYBBlwfkAhYHJKl2FqCJ7A48u7jAInfgUlIMnBNKgS5UsRPyA4s0lTbAQr6Qofz+AeTg\n",
       "CK7ejRxyAISENKeL/c93AAAAAElFTkSuQmCC\n",
       "\" style=\"display:inline;vertical-align:middle;\" /></a>, <a class=\"ProveItLink\" href=\"../../ordering/__pv_it/theorems/d1323f34847310a404e8089c2c268d3c2eb89dbf0/expr.ipynb\"><img src=\"data:image/png;base64,iVBORw0KGgoAAAANSUhEUgAAADQAAAAQBAMAAACra0H4AAAAMFBMVEX///8AAAAAAAAAAAAAAAAA\n",
       "AAAAAAAAAAAAAAAAAAAAAAAAAAAAAAAAAAAAAAAAAAAv3aB7AAAAD3RSTlMAEHarMolUmd1mIs3v\n",
       "RLtmgJDEAAAACXBIWXMAAA7EAAAOxAGVKw4bAAAAyklEQVQY02NgwACce9797nnJgBXwcRnwWj7E\n",
       "IRXA8MAZp1QVN4qQXkfHBrgUH7LMbUUkXYbCQIaQskhoApDm2ohkIMuzXUBGAZMRewOQ5l6AkDrd\n",
       "3yQA9MUCzo/ME0BSSM6InAiylIWBHWw3g08HEDyAGvhwJliMRwFMySE73p1PAMS6v4ARRHMgS7F7\n",
       "AfXLXbBhYAUJMCkgSTE+0GRgyHesYbgGFtmGkCpgmMl3gUFcia0yASwi/FYAFvL/FvC9/oYcHFdf\n",
       "QAIKCgBACzQrtGfvLgAAAABJRU5ErkJggg==\n",
       "\" style=\"display:inline;vertical-align:middle;\" /></a>, <a class=\"ProveItLink\" href=\"../__pv_it/demonstrations/4c5fb6064ed81f83132c10d4b7f508806e4b6da20/expr.ipynb\"><img src=\"data:image/png;base64,iVBORw0KGgoAAAANSUhEUgAAADMAAAAQBAMAAABJt1qBAAAAMFBMVEX///8AAAAAAAAAAAAAAAAA\n",
       "AAAAAAAAAAAAAAAAAAAAAAAAAAAAAAAAAAAAAAAAAAAv3aB7AAAAD3RSTlMAMt0iZhDNdom7q0RU\n",
       "75mOI7qcAAAACXBIWXMAAA7EAAAOxAGVKw4bAAAAwklEQVQY02NgwABuN+cn3XRgwAomWDHs8gzA\n",
       "LmXBwMm4AJcUn0ECilClklICXGoCssy2UoQurlCQgYxKAiYgAeZUJAMljxkAGWEVM8BWshnApWyT\n",
       "PoFNMGXgADuUDckZLmEQFmsrmJJVAoIJECnOEIiXzSEqIpF0MT6YCmJwOzCADWRC9tdDSxDjDAMD\n",
       "2BnsBUhSkexAExlnTG8SAIvkwKXsGFgcZjMwcDCczYaIRM0OgIX8ZIaZ+QeQg2PHJCXkkAMALWov\n",
       "QlCuddsAAAAASUVORK5CYII=\n",
       "\" style=\"display:inline;vertical-align:middle;\" /></a>, <a class=\"ProveItLink\" href=\"../__pv_it/demonstrations/e6ed1880d8a5adc965bd31595086d71670c4cffd0/expr.ipynb\"><img src=\"data:image/png;base64,iVBORw0KGgoAAAANSUhEUgAAADAAAAAQBAMAAACigOGCAAAAMFBMVEX///8AAAAAAAAAAAAAAAAA\n",
       "AAAAAAAAAAAAAAAAAAAAAAAAAAAAAAAAAAAAAAAAAAAv3aB7AAAAD3RSTlMAIquJdkTvuxBmmd1U\n",
       "zTKBpmoTAAAACXBIWXMAAA7EAAAOxAGVKw4bAAAAjElEQVQY02NgwAb4dmAVZmha+wO7BAMLskTv\n",
       "BBwSHNYOqBKMyo5QEW8LFIkwAXaYxtkrkCQ4Mhm4NsBUnl2IkOD6wMBtADc8VgMuwVbA0B+AkKiA\n",
       "S/Q7MMyHi59VRBjVf4BBl0cAavlCJMvZHXh2caE7l/kj0FUqdkJ+YA96wz3IpPZXE+Hz7gkMRAEA\n",
       "Nu0kN+QdTTgAAAAASUVORK5CYII=\n",
       "\" style=\"display:inline;vertical-align:middle;\" /></a>, <a class=\"ProveItLink\" href=\"../__pv_it/demonstrations/50829647483a75a463faf4f86a138ea19ac5a80e0/expr.ipynb\"><img src=\"data:image/png;base64,iVBORw0KGgoAAAANSUhEUgAAADEAAAAQBAMAAABNQoq8AAAAMFBMVEX///8AAAAAAAAAAAAAAAAA\n",
       "AAAAAAAAAAAAAAAAAAAAAAAAAAAAAAAAAAAAAAAAAAAv3aB7AAAAD3RSTlMAEHarMolUmd1mIs3v\n",
       "RLtmgJDEAAAACXBIWXMAAA7EAAAOxAGVKw4bAAAAoElEQVQY02NgQAFsuxiwA852AewSTK04JESb\n",
       "UPlCyiKhCSCGeCdczKOFawIDQwGTEXsDkCe8DS7BuCkuGGjpAs6PzEAFDMwIGS4BhkAGBhYG9g0Q\n",
       "/vJOJCvBTuFRwHABF0To/gJGATRX32RgZGCQu2DDwIrmU7YEBmYGhnzHGoZriNDZAiL94lRbgL5Q\n",
       "YqtMQPNyANvpCwyUAYkOEGiB8wHiVh7ZGrlkHgAAAABJRU5ErkJggg==\n",
       "\" style=\"display:inline;vertical-align:middle;\" /></a> <a class=\"ProveItLink\" href=\"../__pv_it/demonstrations/20ca00e669911aac0ad40f24418671d37feeb99a0/proof.ipynb\" style=\"text-decoration: none\">&nbsp;&#x22A2;&nbsp;&nbsp;</a><a class=\"ProveItLink\" href=\"../__pv_it/demonstrations/f9e2a61b50991dbd2b295782f33439480ca756880/expr.ipynb\"><img src=\"data:image/png;base64,iVBORw0KGgoAAAANSUhEUgAAAEQAAAATBAMAAADbtrbOAAAAMFBMVEX///8AAAAAAAAAAAAAAAAA\n",
       "AAAAAAAAAAAAAAAAAAAAAAAAAAAAAAAAAAAAAAAAAAAv3aB7AAAAD3RSTlMAIquJdkTvuxBmmd1U\n",
       "zTKBpmoTAAAACXBIWXMAAA7EAAAOxAGVKw4bAAAA/klEQVQoz2NgAAMWL5GFDNjA64uhUJYjU8Ed\n",
       "rErWBS+AsiawOzzAqoRBGM7iF0CI8lxEsPkc4MxnDHA1nLsaEEoiGSQgDMYEWwaYnSybkVQw3nla\n",
       "AGUuCXaBSjRvQXYJV2cu0HRGZUeEfQxdO+FMIRMRKCtMgP0HXLgJ4XXWRIZ6iMkcmQxcG+DiTAgl\n",
       "bRMYVkNt+8DAbYCwSApu0XoGhs0QFlsBQ38AkgPhzk1n4PgKYfU7MMxHCU6opzm+MHB+gCo5wKDL\n",
       "I4CsBhJ0HH8YmC4cBAuwO/Ds4kKNFp57ILKE4fQCSHByqNgJ+WGLvybnhyo4opYKoHs3COxDEQMA\n",
       "AfA9Ki7uE28AAAAASUVORK5CYII=\n",
       "\" style=\"display:inline;vertical-align:middle;\" /></a></span>"
      ],
      "text/plain": [
       "{a in Real, x in Real, z in Real, a > 1, x <= z} |- a^{x} <= a^{z}"
      ]
     },
     "metadata": {},
     "output_type": "display_data"
    }
   ],
   "source": [
    "# Case (2): base > 1, LessEq relation\n",
    "exp_a_x.bound_via_operand_bound(LessEq(x, z))"
   ]
  },
  {
   "cell_type": "code",
   "execution_count": 101,
   "metadata": {},
   "outputs": [
    {
     "data": {
      "text/html": [
       "<span style=\"font-size:20px;\"><a class=\"ProveItLink\" href=\"../../ordering/__pv_it/theorems/4aa8d696b1f407d6126de9f51a052e8d90e0848c0/expr.ipynb\"><img src=\"data:image/png;base64,iVBORw0KGgoAAAANSUhEUgAAADMAAAAQBAMAAABJt1qBAAAAMFBMVEX///8AAAAAAAAAAAAAAAAA\n",
       "AAAAAAAAAAAAAAAAAAAAAAAAAAAAAAAAAAAAAAAAAAAv3aB7AAAAD3RSTlMAIquJdkTvuxBmmd1U\n",
       "zTKBpmoTAAAACXBIWXMAAA7EAAAOxAGVKw4bAAAAzElEQVQY02NgwABz0+tvp09gwAoKhBiCpjdg\n",
       "lxJmYOdTwCXFJXABRch99+4LcKkCZJlYD4Qupg6QgYzKjg4gAcYbSAY+PysAZIQJsP8ACfAKwKXE\n",
       "bv8GmcCRycC1ASyF5IyZvSCa6wMDtwGI8Ww3EBRApNg7QV5mK2DoDwAJtCPp4ltQAaT7HRjmgwW4\n",
       "kf21ThwkdYBBlwfkAhYHJKl2FqCJ7A48u7jAInfgUlIMnBNKgS5UsRPyA4s0lTbAQr6Qofz+AeTg\n",
       "CK7ejRxyAISENKeL/c93AAAAAElFTkSuQmCC\n",
       "\" style=\"display:inline;vertical-align:middle;\" /></a>, <a class=\"ProveItLink\" href=\"../__pv_it/demonstrations/566226ba560b7bc90e74143ac9386548ed114a360/expr.ipynb\"><img src=\"data:image/png;base64,iVBORw0KGgoAAAANSUhEUgAAADMAAAAQBAMAAABJt1qBAAAAMFBMVEX///8AAAAAAAAAAAAAAAAA\n",
       "AAAAAAAAAAAAAAAAAAAAAAAAAAAAAAAAAAAAAAAAAAAv3aB7AAAAD3RSTlMAEHaJZt1U76symc27\n",
       "IkSKjfYVAAAACXBIWXMAAA7EAAAOxAGVKw4bAAAAyUlEQVQY02NgwADeNee31jgwYAUHbjC88BHA\n",
       "LnWZgYezAZcU14UNKEI6oaEb4FIHkGVeKyJ0cQgCDWRUdmAIAwnwbkQycE72BQYGZrYChgqQAPcF\n",
       "uNT1rV9BJkzj2sCQDJZCcoaLNIgWYFdgmAZiTA8FggMQKR4RsJfzBRgUQLQMki7OBQdBjKUMDAYg\n",
       "mhXZXyvvgBgnGNjADmBSQJKSYQKZaM1wCSKyDS51i4HF4RyQwdUCDWWJcwKwkD/LcGZ/AnJwPD4a\n",
       "ihxyAKCSPshOeLwhAAAAAElFTkSuQmCC\n",
       "\" style=\"display:inline;vertical-align:middle;\" /></a>, <a class=\"ProveItLink\" href=\"../../ordering/__pv_it/theorems/d1323f34847310a404e8089c2c268d3c2eb89dbf0/expr.ipynb\"><img src=\"data:image/png;base64,iVBORw0KGgoAAAANSUhEUgAAADQAAAAQBAMAAACra0H4AAAAMFBMVEX///8AAAAAAAAAAAAAAAAA\n",
       "AAAAAAAAAAAAAAAAAAAAAAAAAAAAAAAAAAAAAAAAAAAv3aB7AAAAD3RSTlMAEHarMolUmd1mIs3v\n",
       "RLtmgJDEAAAACXBIWXMAAA7EAAAOxAGVKw4bAAAAyklEQVQY02NgwACce9797nnJgBXwcRnwWj7E\n",
       "IRXA8MAZp1QVN4qQXkfHBrgUH7LMbUUkXYbCQIaQskhoApDm2ohkIMuzXUBGAZMRewOQ5l6AkDrd\n",
       "3yQA9MUCzo/ME0BSSM6InAiylIWBHWw3g08HEDyAGvhwJliMRwFMySE73p1PAMS6v4ARRHMgS7F7\n",
       "AfXLXbBhYAUJMCkgSTE+0GRgyHesYbgGFtmGkCpgmMl3gUFcia0yASwi/FYAFvL/FvC9/oYcHFdf\n",
       "QAIKCgBACzQrtGfvLgAAAABJRU5ErkJggg==\n",
       "\" style=\"display:inline;vertical-align:middle;\" /></a>, <a class=\"ProveItLink\" href=\"../__pv_it/demonstrations/e6ed1880d8a5adc965bd31595086d71670c4cffd0/expr.ipynb\"><img src=\"data:image/png;base64,iVBORw0KGgoAAAANSUhEUgAAADAAAAAQBAMAAACigOGCAAAAMFBMVEX///8AAAAAAAAAAAAAAAAA\n",
       "AAAAAAAAAAAAAAAAAAAAAAAAAAAAAAAAAAAAAAAAAAAv3aB7AAAAD3RSTlMAIquJdkTvuxBmmd1U\n",
       "zTKBpmoTAAAACXBIWXMAAA7EAAAOxAGVKw4bAAAAjElEQVQY02NgwAb4dmAVZmha+wO7BAMLskTv\n",
       "BBwSHNYOqBKMyo5QEW8LFIkwAXaYxtkrkCQ4Mhm4NsBUnl2IkOD6wMBtADc8VgMuwVbA0B+AkKiA\n",
       "S/Q7MMyHi59VRBjVf4BBl0cAavlCJMvZHXh2caE7l/kj0FUqdkJ+YA96wz3IpPZXE+Hz7gkMRAEA\n",
       "Nu0kN+QdTTgAAAAASUVORK5CYII=\n",
       "\" style=\"display:inline;vertical-align:middle;\" /></a>, <a class=\"ProveItLink\" href=\"../__pv_it/demonstrations/7f050f03935fc21cb34ff6fdce6d36336271128c0/expr.ipynb\"><img src=\"data:image/png;base64,iVBORw0KGgoAAAANSUhEUgAAADEAAAAOBAMAAAB0nulXAAAAMFBMVEX///8AAAAAAAAAAAAAAAAA\n",
       "AAAAAAAAAAAAAAAAAAAAAAAAAAAAAAAAAAAAAAAAAAAv3aB7AAAAD3RSTlMAEHarMolUmd1mIs3v\n",
       "RLtmgJDEAAAACXBIWXMAAA7EAAAOxAGVKw4bAAAAo0lEQVQY02NgIAykJ+CSYYxQQBMRUhYJTQCz\n",
       "NAJhQpEMHEChAiYj9gaIyIxCCB2Qw8BjwMC5gPMjM8yK7CoQyZJQzcAWwMDCwL4BYfRtQ5CNDIeA\n",
       "skAGD5LNtx+CSLaPDEwg+v4CRgGYaVZgCmgvKwOD3AUbEAVxQRWE5jNgyGJgyHesYbjGgOpq1g1c\n",
       "QBvEldgqwd5h1EDYVzwT2ccSExiIBACechzTIKClVQAAAABJRU5ErkJggg==\n",
       "\" style=\"display:inline;vertical-align:middle;\" /></a> <a class=\"ProveItLink\" href=\"../__pv_it/demonstrations/453e7bf0bc9dd5b63032e2ce67066fb79b2e71400/proof.ipynb\" style=\"text-decoration: none\">&nbsp;&#x22A2;&nbsp;&nbsp;</a><a class=\"ProveItLink\" href=\"../__pv_it/demonstrations/625c7bd7934853c9057039527625e1f27e0309e50/expr.ipynb\"><img src=\"data:image/png;base64,iVBORw0KGgoAAAANSUhEUgAAAEQAAAASBAMAAAAQ6mVrAAAAMFBMVEX///8AAAAAAAAAAAAAAAAA\n",
       "AAAAAAAAAAAAAAAAAAAAAAAAAAAAAAAAAAAAAAAAAAAv3aB7AAAAD3RSTlMAIquJdkTvuxBmmd1U\n",
       "zTKBpmoTAAAACXBIWXMAAA7EAAAOxAGVKw4bAAAA+klEQVQoz2NgAAMWL5GFDFgAqxODMZTpyFRw\n",
       "B5uSFv6GQ1DmBHaHB9iUSJxmYIax+QUYsAJlhqcw5jMG7GpSGRwgDMYEW4YFIEbvBDQl+xgDoKwl\n",
       "wS4NIJrD2gFVSfBMkAnKjsjC3hYwlpCJCJQVJsD+A1nf7BXQIElkqAebzMCRycC1AcXss5BAbJvA\n",
       "sBoiwPWBgdsA1f5YDRC5noFhM4TPVsDQH4CmpAJEpjNwfIXw+x0Y5qOqOKsIdsAXBs4PUCUHGHR5\n",
       "kINtNsQpHH8YmC4cBDPZHXh2cWHzdAnD6QULIKpV7IT84Ao4vOFh1OT8UAVb1HZPYCAHAACX+TRf\n",
       "UvlnLAAAAABJRU5ErkJggg==\n",
       "\" style=\"display:inline;vertical-align:middle;\" /></a></span>"
      ],
      "text/plain": [
       "{a in Real, v in Real, x in Real, a > 1, x > v} |- a^{x} > a^{v}"
      ]
     },
     "metadata": {},
     "output_type": "display_data"
    }
   ],
   "source": [
    "# Case (3): base > 1, greater relation\n",
    "exp_a_x.bound_via_operand_bound(greater(x, v))"
   ]
  },
  {
   "cell_type": "code",
   "execution_count": 102,
   "metadata": {},
   "outputs": [
    {
     "data": {
      "text/html": [
       "<span style=\"font-size:20px;\"><a class=\"ProveItLink\" href=\"../../ordering/__pv_it/theorems/4aa8d696b1f407d6126de9f51a052e8d90e0848c0/expr.ipynb\"><img src=\"data:image/png;base64,iVBORw0KGgoAAAANSUhEUgAAADMAAAAQBAMAAABJt1qBAAAAMFBMVEX///8AAAAAAAAAAAAAAAAA\n",
       "AAAAAAAAAAAAAAAAAAAAAAAAAAAAAAAAAAAAAAAAAAAv3aB7AAAAD3RSTlMAIquJdkTvuxBmmd1U\n",
       "zTKBpmoTAAAACXBIWXMAAA7EAAAOxAGVKw4bAAAAzElEQVQY02NgwABz0+tvp09gwAoKhBiCpjdg\n",
       "lxJmYOdTwCXFJXABRch99+4LcKkCZJlYD4Qupg6QgYzKjg4gAcYbSAY+PysAZIQJsP8ACfAKwKXE\n",
       "bv8GmcCRycC1ASyF5IyZvSCa6wMDtwGI8Ww3EBRApNg7QV5mK2DoDwAJtCPp4ltQAaT7HRjmgwW4\n",
       "kf21ThwkdYBBlwfkAhYHJKl2FqCJ7A48u7jAInfgUlIMnBNKgS5UsRPyA4s0lTbAQr6Qofz+AeTg\n",
       "CK7ejRxyAISENKeL/c93AAAAAElFTkSuQmCC\n",
       "\" style=\"display:inline;vertical-align:middle;\" /></a>, <a class=\"ProveItLink\" href=\"../__pv_it/demonstrations/a7c8ff0c12601535056faf6cbd3f54f388d751000/expr.ipynb\"><img src=\"data:image/png;base64,iVBORw0KGgoAAAANSUhEUgAAADgAAAAQBAMAAACxV6F2AAAAMFBMVEX///8AAAAAAAAAAAAAAAAA\n",
       "AAAAAAAAAAAAAAAAAAAAAAAAAAAAAAAAAAAAAAAAAAAv3aB7AAAAD3RSTlMAEHaJZjKZVN3vq7tE\n",
       "zSL5cm/iAAAACXBIWXMAAA7EAAAOxAGVKw4bAAAA3UlEQVQY02NgwAJYbu7+27mFAQfg5lvAs2Qj\n",
       "TkkDhg1ReCTzeNEEtTs6LsAluVHlzioi6VwoxcDAqOzAEMZQIQAU4ruIZCzr9nsMDMzsExhWM5w/\n",
       "ABTifYCQnNvfBFQfztbAMAkizovkIBNHkOUCnAqsXxnYQEKRHUCwAWrsRhcQo16AaQIDE4gljeyV\n",
       "MG6QM3IZuBcwxICEOJAl2eJAZuxi4DBgMAAJMSkgSTJuUAEyrBlOLuA5ABa7jpBMYHDhBgqyJSsu\n",
       "M4GISe0RgMXK7wfce7+jBtHhHZDggwIANvc2F0leF2MAAAAASUVORK5CYII=\n",
       "\" style=\"display:inline;vertical-align:middle;\" /></a>, <a class=\"ProveItLink\" href=\"../../ordering/__pv_it/theorems/d1323f34847310a404e8089c2c268d3c2eb89dbf0/expr.ipynb\"><img src=\"data:image/png;base64,iVBORw0KGgoAAAANSUhEUgAAADQAAAAQBAMAAACra0H4AAAAMFBMVEX///8AAAAAAAAAAAAAAAAA\n",
       "AAAAAAAAAAAAAAAAAAAAAAAAAAAAAAAAAAAAAAAAAAAv3aB7AAAAD3RSTlMAEHarMolUmd1mIs3v\n",
       "RLtmgJDEAAAACXBIWXMAAA7EAAAOxAGVKw4bAAAAyklEQVQY02NgwACce9797nnJgBXwcRnwWj7E\n",
       "IRXA8MAZp1QVN4qQXkfHBrgUH7LMbUUkXYbCQIaQskhoApDm2ohkIMuzXUBGAZMRewOQ5l6AkDrd\n",
       "3yQA9MUCzo/ME0BSSM6InAiylIWBHWw3g08HEDyAGvhwJliMRwFMySE73p1PAMS6v4ARRHMgS7F7\n",
       "AfXLXbBhYAUJMCkgSTE+0GRgyHesYbgGFtmGkCpgmMl3gUFcia0yASwi/FYAFvL/FvC9/oYcHFdf\n",
       "QAIKCgBACzQrtGfvLgAAAABJRU5ErkJggg==\n",
       "\" style=\"display:inline;vertical-align:middle;\" /></a>, <a class=\"ProveItLink\" href=\"../__pv_it/demonstrations/e6ed1880d8a5adc965bd31595086d71670c4cffd0/expr.ipynb\"><img src=\"data:image/png;base64,iVBORw0KGgoAAAANSUhEUgAAADAAAAAQBAMAAACigOGCAAAAMFBMVEX///8AAAAAAAAAAAAAAAAA\n",
       "AAAAAAAAAAAAAAAAAAAAAAAAAAAAAAAAAAAAAAAAAAAv3aB7AAAAD3RSTlMAIquJdkTvuxBmmd1U\n",
       "zTKBpmoTAAAACXBIWXMAAA7EAAAOxAGVKw4bAAAAjElEQVQY02NgwAb4dmAVZmha+wO7BAMLskTv\n",
       "BBwSHNYOqBKMyo5QEW8LFIkwAXaYxtkrkCQ4Mhm4NsBUnl2IkOD6wMBtADc8VgMuwVbA0B+AkKiA\n",
       "S/Q7MMyHi59VRBjVf4BBl0cAavlCJMvZHXh2caE7l/kj0FUqdkJ+YA96wz3IpPZXE+Hz7gkMRAEA\n",
       "Nu0kN+QdTTgAAAAASUVORK5CYII=\n",
       "\" style=\"display:inline;vertical-align:middle;\" /></a>, <a class=\"ProveItLink\" href=\"../__pv_it/demonstrations/0ef74d541c646f7e6988bc61b8d81d12faca31ad0/expr.ipynb\"><img src=\"data:image/png;base64,iVBORw0KGgoAAAANSUhEUgAAADcAAAAQBAMAAABAXPr7AAAAMFBMVEX///8AAAAAAAAAAAAAAAAA\n",
       "AAAAAAAAAAAAAAAAAAAAAAAAAAAAAAAAAAAAAAAAAAAv3aB7AAAAD3RSTlMAEHarMolUmd1mIs3v\n",
       "RLtmgJDEAAAACXBIWXMAAA7EAAAOxAGVKw4bAAAAv0lEQVQY02NggAHGnQx4gGgTPlmmVgE8spwY\n",
       "skLKIqEJUDbb9gVg61UnMLgzZABVFjAZsTfAVPJuBullZTvAYMdw/wID5wLOj8wT4JL7QJJuQNWH\n",
       "GLgXMLAwsG+AW8G2GWysAI8CyxcGdhCTRwHuoHaog/IFmA4wMIFY9xcwCqB5pZqBz4DBl4FB7oIN\n",
       "Ayt6IDxm4AhgCACa4FjDcA09+OIY7hjwXmBgEFdiq0xADw32UkXzSAaqAMYOMHBAEgIALzgm6pEu\n",
       "oM4AAAAASUVORK5CYII=\n",
       "\" style=\"display:inline;vertical-align:middle;\" /></a> <a class=\"ProveItLink\" href=\"../__pv_it/demonstrations/0c503f998bc176adf99ff0f0dee43c3673b03a970/proof.ipynb\" style=\"text-decoration: none\">&nbsp;&#x22A2;&nbsp;&nbsp;</a><a class=\"ProveItLink\" href=\"../__pv_it/demonstrations/0c6c999dd45c70342728acc637bddf9deaf7f0560/expr.ipynb\"><img src=\"data:image/png;base64,iVBORw0KGgoAAAANSUhEUgAAAEgAAAATBAMAAADBilZAAAAAMFBMVEX///8AAAAAAAAAAAAAAAAA\n",
       "AAAAAAAAAAAAAAAAAAAAAAAAAAAAAAAAAAAAAAAAAAAv3aB7AAAAD3RSTlMAIquJdkTvuxBmmd1U\n",
       "zTKBpmoTAAAACXBIWXMAAA7EAAAOxAGVKw4bAAABDElEQVQoz2NgAAMWL5GFDFgAqxNDF0cilOPI\n",
       "VHAHm6IW/obpDFehnAnsDg+wKZI4zaDC4Ajj8QuAqd4JaKqUGVIZHGCcZwxgVRzWDqiKtnJ8YIBq\n",
       "ZEywZVgAYXpboCi6x/qBUwDKXhLs0gBlzkZRFeQ5eSrIFGVHVCvOQgNDyEQELhYmwP4D1R2xGuAg\n",
       "SmSoh5nOkcnAtQFNUQWIbJvAsBomwvWBgdsA1TpFMLWegWEzTIitgKE/AFnN7BUQOp2B4ytMrN+B\n",
       "YT6yGlgQcHxh4PwAV3SAQZcHFhJIgcnxh4HpwkEoh92BZxcX3BykaClhOL1gAUyHip2QH7a4bXJ+\n",
       "qII10qkIuneDwD40UQDGnz2wNn+uNwAAAABJRU5ErkJggg==\n",
       "\" style=\"display:inline;vertical-align:middle;\" /></a></span>"
      ],
      "text/plain": [
       "{a in Real, w in Real, x in Real, a > 1, x >= w} |- a^{x} >= a^{w}"
      ]
     },
     "metadata": {},
     "output_type": "display_data"
    }
   ],
   "source": [
    "# Case (4): base > 1, greater_eq relation\n",
    "exp_a_x.bound_via_operand_bound(greater_eq(x, w))"
   ]
  },
  {
   "cell_type": "markdown",
   "metadata": {},
   "source": [
    "### Testing `Exp.power_of_log_reduction()`"
   ]
  },
  {
   "cell_type": "code",
   "execution_count": 103,
   "metadata": {},
   "outputs": [
    {
     "data": {
      "text/html": [
       "<span style=\"font-size:20px;\"><a class=\"ProveItLink\" href=\"../__pv_it/theorems/5a0c211ed8c0f89e15d717d80d4627baae693acb0/expr.ipynb\"><img src=\"data:image/png;base64,iVBORw0KGgoAAAANSUhEUgAAAD8AAAATBAMAAADVH8ihAAAAMFBMVEX///8AAAAAAAAAAAAAAAAA\n",
       "AAAAAAAAAAAAAAAAAAAAAAAAAAAAAAAAAAAAAAAAAAAv3aB7AAAAD3RSTlMAIquJdkTvuxBmmd1U\n",
       "zTKBpmoTAAAACXBIWXMAAA7EAAAOxAGVKw4bAAAA3UlEQVQoz2NgwAO4GAgAdjIVzE2vv50+AZ8J\n",
       "BUIMQdMb8CkQZmDnU2BYXl5WXj4BhwIugQtYTHDfvfsCXEEBpoJYD4QJTB0KcAWMyo4OYPoGkhXP\n",
       "zwrAFYQJsP8A0bwCcAVit397wEOSI5OBawNYAZIjZ/YihfcHBm4DEOPZbiAogChg70R4j62AoT8A\n",
       "xGhHMoFvQQWc1+/AMB/M4EYOh3XiCAUHGHR5QO5jcUBS0M4Ct4PdgWcXJN7vwBVIMXBOKIXxOFTs\n",
       "hPzArKbSBlhsFjKU3z+AGQfB1ZCgRgEAfyQ4BfovW/4AAAAASUVORK5CYII=\n",
       "\" style=\"display:inline;vertical-align:middle;\" /></a>, <a class=\"ProveItLink\" href=\"../../number_sets/real_numbers/__pv_it/theorems/7697fc34c81296f04a039eeb9dd22e91165d63b70/expr.ipynb\"><img src=\"data:image/png;base64,iVBORw0KGgoAAAANSUhEUgAAAEAAAAATBAMAAADSXRa0AAAAMFBMVEX///8AAAAAAAAAAAAAAAAA\n",
       "AAAAAAAAAAAAAAAAAAAAAAAAAAAAAAAAAAAAAAAAAAAv3aB7AAAAD3RSTlMAEHarMolUmd1mIs3v\n",
       "RLtmgJDEAAAACXBIWXMAAA7EAAAOxAGVKw4bAAAA3UlEQVQoz2NgwAcKGAiAB+Qp4Nzz7nfPS3wm\n",
       "8HEZ8Fo+xKsggOGBMwP7u3fn3r3EpaCKG4sJeh0dG+AK+DAV3FZEMsFQGK5ASFkkNAFIc21EsoLl\n",
       "2S64ggImI/YGIM29AKHgdH+TACwkORdwfmSeAFKA5MjIiRvgPBYGdgjHpwMIHkCteDgTyXE8CmBK\n",
       "Dtmb7nwCCAX3FzCCeBzICti94D6Uu2DDwApiMCkgKWB8oAnj5TvWMFwDs7YhFBQwzOS7AOWJK7FV\n",
       "JoBZwm8FYLH5bwHf62+YcXD1RccGDEEANpdAkzJdUSAAAAAASUVORK5CYII=\n",
       "\" style=\"display:inline;vertical-align:middle;\" /></a>, <a class=\"ProveItLink\" href=\"../__pv_it/theorems/0253dbed1258e1c128ba9f6ec6b2a0640e2a18320/expr.ipynb\"><img src=\"data:image/png;base64,iVBORw0KGgoAAAANSUhEUgAAADAAAAAUCAMAAAD84U6VAAAAPFBMVEX///8AAAAAAAAAAAAAAAAA\n",
       "AAAAAAAAAAAAAAAAAAAAAAAAAAAAAAAAAAAAAAAAAAAAAAAAAAAAAAAAAAAo1xBWAAAAE3RSTlMA\n",
       "IquJdkTvuxBmmd1UzTLn9enzF+Xi+wAAAAlwSFlzAAAOxAAADsQBlSsOGwAAALFJREFUKM+VktkS\n",
       "wyAIRRF3XNKW///XxiQda2LiyAMjg8cLAsCTkYMpy7YNw4i3uZ4dUuIBkLGN1QiwYg7QJ4EKCJRK\n",
       "qAuQxA2gzZqxVY7CZsureLwCzvjt1lDgBxAXH+S5A4IbwJTpONZDgQNwXNr1/LcPpfb3Z+8EO0Bc\n",
       "PSaIzZOp8+VHSXZViIGgqTlSZzCSxb4kSmaBKg8EEA0n9P0hRzm31t0OnszPCoRJAcgPuS++iAXk\n",
       "5DVTgAAAAABJRU5ErkJggg==\n",
       "\" style=\"display:inline;vertical-align:middle;\" /></a> <a class=\"ProveItLink\" href=\"../__pv_it/demonstrations/8b6a4d1242a8f72879ac15319111394350b09fe20/proof.ipynb\" style=\"text-decoration: none\">&nbsp;&#x22A2;&nbsp;&nbsp;</a><a class=\"ProveItLink\" href=\"../__pv_it/theorems/2a2a89886e990daa493e7a25c960be802d5599bf0/expr.ipynb\"><img src=\"data:image/png;base64,iVBORw0KGgoAAAANSUhEUgAAAGcAAAAUBAMAAABi2T6lAAAAMFBMVEX///8AAAAAAAAAAAAAAAAA\n",
       "AAAAAAAAAAAAAAAAAAAAAAAAAAAAAAAAAAAAAAAAAAAv3aB7AAAAD3RSTlMAIquJdkTvuxBmmd1U\n",
       "zTKBpmoTAAAACXBIWXMAAA7EAAAOxAGVKw4bAAABdUlEQVQ4y41SO0jDUBQ9adPm2/YhgjiIQouI\n",
       "IBR0VEltFjNIsKCLoKNuGdzNIBQcTEEUnExpEZzsrEtwcdTB0aGTuukk3fQlL0JtS5IL9x3u5Z37\n",
       "B0aKSvyXR5SIRwOOcwZuJGt6IMgMw1okyflvyibDnB1DWq/aYrv1GJgK7ccYbyLtRZMEU+wIXoGF\n",
       "ngIqKesVqhtN+gQOFbMQTA3bQEPQushY0aQLYF6aY9XhgarPz1uxmV74yXAA71TfQGLLy3ncvtwN\n",
       "TQXc3grdEq9FLffWxZJBMj/fLi6rgEDQrum2j6OFK1b+4k3YXFEqZ4FMmTnqQ7+P104X6R62iNAL\n",
       "PZvAWY74DTWZg4F8H0hwJS5fkjsQD0Df8ExbhqbYOo2UDvYlmYOJJCL1Ug3IX1DK/fe9bDQoBCRx\n",
       "qLo85GcKWQuOieSS9QfgaLiK+dffE3aJaMPxsKCSpHnq5izSdCWaeicnLu7p4xo7tNnS6thGYtKJ\n",
       "rt54+AUiG1ObtBiVeAAAAABJRU5ErkJggg==\n",
       "\" style=\"display:inline;vertical-align:middle;\" /></a></span>"
      ],
      "text/plain": [
       "{a in RealPos, x in RealPos, a != 1} |- a^{log_a(x)} = x"
      ]
     },
     "metadata": {},
     "output_type": "display_data"
    }
   ],
   "source": [
    "from proveit.numbers import Log\n",
    "Exp(a, Log(a,x)).power_of_log_reduction(assumptions=[InSet(a, RealPos), InSet(x, RealPos), NotEquals(a, one)])"
   ]
  },
  {
   "cell_type": "code",
   "execution_count": 104,
   "metadata": {},
   "outputs": [
    {
     "data": {
      "text/html": [
       "<span style=\"font-size:20px;\"><a class=\"ProveItLink\" href=\"../../ordering/__pv_it/theorems/d1323f34847310a404e8089c2c268d3c2eb89dbf0/expr.ipynb\"><img src=\"data:image/png;base64,iVBORw0KGgoAAAANSUhEUgAAADQAAAAQBAMAAACra0H4AAAAMFBMVEX///8AAAAAAAAAAAAAAAAA\n",
       "AAAAAAAAAAAAAAAAAAAAAAAAAAAAAAAAAAAAAAAAAAAv3aB7AAAAD3RSTlMAEHarMolUmd1mIs3v\n",
       "RLtmgJDEAAAACXBIWXMAAA7EAAAOxAGVKw4bAAAAyklEQVQY02NgwACce9797nnJgBXwcRnwWj7E\n",
       "IRXA8MAZp1QVN4qQXkfHBrgUH7LMbUUkXYbCQIaQskhoApDm2ohkIMuzXUBGAZMRewOQ5l6AkDrd\n",
       "3yQA9MUCzo/ME0BSSM6InAiylIWBHWw3g08HEDyAGvhwJliMRwFMySE73p1PAMS6v4ARRHMgS7F7\n",
       "AfXLXbBhYAUJMCkgSTE+0GRgyHesYbgGFtmGkCpgmMl3gUFcia0yASwi/FYAFvL/FvC9/oYcHFdf\n",
       "QAIKCgBACzQrtGfvLgAAAABJRU5ErkJggg==\n",
       "\" style=\"display:inline;vertical-align:middle;\" /></a>, <a class=\"ProveItLink\" href=\"../__pv_it/demonstrations/13db975f635067b172b131ca74d290e59a310a260/expr.ipynb\"><img src=\"data:image/png;base64,iVBORw0KGgoAAAANSUhEUgAAADEAAAAQBAMAAABNQoq8AAAAMFBMVEX///8AAAAAAAAAAAAAAAAA\n",
       "AAAAAAAAAAAAAAAAAAAAAAAAAAAAAAAAAAAAAAAAAAAv3aB7AAAAD3RSTlMAEHarMolUmd1mIs3v\n",
       "RLtmgJDEAAAACXBIWXMAAA7EAAAOxAGVKw4bAAAAuUlEQVQY02NgwAK4yvc5MGAF6xhY/2KXsWJg\n",
       "OIPElZ4AZ54XYLBfgJBhjFCAMS0YGOyBFgkpi4QmgAU0AhHq+oG4gMmIvQHCnVEIk2D5xMDAuYDz\n",
       "IzPMiuwqKIPDACjLwL4BYchtQwhdByZ5FJBkHoIpTgMwdX8BowDMNCsIncrAtYBB7oINAytUYgbU\n",
       "GpYABiYBhnzHGoZrDKiuXlFeXsHAIK7EVgn2DqMG3L7+//9/I4WOxAQGIgEAqwQkvU0PovMAAAAA\n",
       "SUVORK5CYII=\n",
       "\" style=\"display:inline;vertical-align:middle;\" /></a> <a class=\"ProveItLink\" href=\"../__pv_it/demonstrations/d13561ea11cc37592a131205f85c02e104f175d10/proof.ipynb\" style=\"text-decoration: none\">&nbsp;&#x22A2;&nbsp;&nbsp;</a><a class=\"ProveItLink\" href=\"../__pv_it/demonstrations/c523e34e1a0cc4652185d350a719e3c6e3b59a9c0/expr.ipynb\"><img src=\"data:image/png;base64,iVBORw0KGgoAAAANSUhEUgAAAKwAAAAZBAMAAABeGNgtAAAAMFBMVEX///8AAAAAAAAAAAAAAAAA\n",
       "AAAAAAAAAAAAAAAAAAAAAAAAAAAAAAAAAAAAAAAAAAAv3aB7AAAAD3RSTlMAIpnNuzKJRKvvEN12\n",
       "ZlQ4bmvwAAAACXBIWXMAAA7EAAAOxAGVKw4bAAACkElEQVRIx6WUS2gTQRjH/7vZJJvNo6vmZqVp\n",
       "qrkkogdP4iOFiBfFIFrQSwNeCkrNQUQPSvTgISLdg5cWoYuCBy8Ngih66JqDiESJD3wdNBQRRQ8t\n",
       "UooirN/sQ7Objcg4MLvzfTv7m/meQNBIqT6FAY6h7PMpXnUL1yfqEHmwGPIdU3NXGWvmEa3wYOe8\n",
       "olh1V0WaKxgqYysn9vEDXSnkPlhiHEg0B4cd7FuGnez9SehHE/5gparSkDoDuiWuAe7LxR0OFjgK\n",
       "LPT+/aQfNkoBFrJbyoQdB/bEqwN2BpwA2pJRdrHhu5bKny2B7l49sossB9KIrBD2DXA+Wbd9gE80\n",
       "6QSxVLpc2ktbyIYDPYBrgfYXcbyKkI5zwLR9222JdRSqs82qxTgE1bmtkBHUACds9Ehn7JesIqYh\n",
       "mcGsjil1DqGOMCMyszVlkUImaEes5GLY9MH9Olo9WM0jfbVfsR+Ql4AZXASmDm/K4FhTjZrfM1DD\n",
       "GiQVhZMt3cHOmiYw2uPazUFYuQF5GdjO1vPOp7QuXADlRFfyF90CKfqxIu1RWvWxSQ+WZeciMMEC\n",
       "/dNRnAJeAhtoNdxdZRbETpH8PTbusGWoTVo8NPJ+7Dil13OGd0s1lWsaiOikjuh/axL2pTrAU7zX\n",
       "L/mx7NDPNNd7tu80G/T0Y/UebIyypowR14hpxwiIzF2UV8kaV3eKWX3jii9kwGv2OA18hKD+K6vL\n",
       "t8wJiC7hhhdLtbcK+IJwBQmd47aSAWW3rKHixY4Bj4AXWJvN5nmcEKkhtXxVi3Y8WOFmNkuxyWHe\n",
       "NL/xYMMNKAVj4Z3Xt3HTNKlOboN73AqqMufODX7ss6BW4xRPmx8r9c+fND81oE38HqP/gcVgvw8J\n",
       "Fb8AFUCkIg56GMEAAAAASUVORK5CYII=\n",
       "\" style=\"display:inline;vertical-align:middle;\" /></a></span>"
      ],
      "text/plain": [
       "{x in Real, x > 2} |- 2^{log_2(x + 2)} = (x + 2)"
      ]
     },
     "metadata": {},
     "output_type": "display_data"
    }
   ],
   "source": [
    "Exp(two, Log(two, Add(x, two))).power_of_log_reduction(\n",
    "    assumptions=[InSet(x, Real), greater(x, two)])"
   ]
  },
  {
   "cell_type": "markdown",
   "metadata": {},
   "source": [
    "### Testing `Exp.shallow_simplification()`"
   ]
  },
  {
   "cell_type": "code",
   "execution_count": 105,
   "metadata": {},
   "outputs": [
    {
     "data": {
      "text/html": [
       "<a class=\"ProveItLink\" href=\"../__pv_it/demonstrations/f6cf1eab6e0102c533282e1c2b9173af382ad8eb0/expr.ipynb\"><img src=\"data:image/png;base64,iVBORw0KGgoAAAANSUhEUgAAAEUAAAAqBAMAAAAXAYuVAAAAMFBMVEX///8AAAAAAAAAAAAAAAAA\n",
       "AAAAAAAAAAAAAAAAAAAAAAAAAAAAAAAAAAAAAAAAAAAv3aB7AAAAD3RSTlMAMt0Qq5nNdoki72ZE\n",
       "u1S8GQohAAAACXBIWXMAAA7EAAAOxAGVKw4bAAABJElEQVQ4y2NgYBAyYCAAmF3zCaphYKgfVUMz\n",
       "NaxI7P4J2NXwIpgu61M2oMmWR5ZOgKjhKWFgwdA8NewiA/sEX7YHEDXm/AZS6Eo4LzD0H+BmuM4I\n",
       "tWvyI4ZadDUsExi4FjAw/GRgiL176+7dDQweDO7oarg+M7D8ZGBcwAlzsw7DQgxzFBhYPs7iSGCF\n",
       "qVHk+YDFy0wfWGvai2Fqnu5NwKJGvgApfJgn8G7AokYFOZxZCo4Byf8gALLTHmIo6wVkDTzbG1Dc\n",
       "EQCmthCOYL4GhpmE1EgwMBQTUMKpGhqqQEANE9AD2AKEQZSwMxEhghuwE6FGOoWwmgbCatgnEFYz\n",
       "m4GwmgbCargnEFYznYGwmiMuLr88CHt+CRFx8Zewktj/7vgVAADI0UjEJu98NAAAAABJRU5ErkJg\n",
       "gg==\n",
       "\" style=\"display:inline;vertical-align:middle;\" /></a>"
      ],
      "text/plain": [
       "(1 / 4) * 2^{x + y}"
      ]
     },
     "metadata": {},
     "output_type": "display_data"
    }
   ],
   "source": [
    "Exp(two, Add(x, y, Neg(two))).canonical_form()"
   ]
  },
  {
   "cell_type": "code",
   "execution_count": 106,
   "metadata": {},
   "outputs": [
    {
     "data": {
      "text/html": [
       "<span style=\"font-size:20px;\"> <a class=\"ProveItLink\" href=\"../__pv_it/demonstrations/4386866d06c6193e402c83747b5f3af0423cd8480/proof.ipynb\" style=\"text-decoration: none\">&nbsp;&#x22A2;&nbsp;&nbsp;</a><a class=\"ProveItLink\" href=\"../__pv_it/demonstrations/782ce7df1d7db171a260614972ce9001544125150/expr.ipynb\"><img src=\"data:image/png;base64,iVBORw0KGgoAAAANSUhEUgAAAJkAAAATBAMAAABxWbI3AAAAMFBMVEX///8AAAAAAAAAAAAAAAAA\n",
       "AAAAAAAAAAAAAAAAAAAAAAAAAAAAAAAAAAAAAAAAAAAv3aB7AAAAD3RSTlMAIpnNuzKJRKvvEN12\n",
       "ZlQ4bmvwAAAACXBIWXMAAA7EAAAOxAGVKw4bAAABXElEQVQ4y2NgwA240joWMBANlmV0oQoooHKZ\n",
       "GJg24NGugM7VRhVwQOXyFzB+xWMamurvDPIBEBbPIRlFqHxNA0MDVJ53AXbTsKu+BTftIIeDHUSe\n",
       "68Av1glwfWxYfYpLdTYDA6OSSQDDBZYDARB5xnUbeBBeiEaPBXyqWXcxMIgwsH0HBpEAA5OLyxQX\n",
       "XwaOBI4DDCEuQCDAwOiF7ixsqllBih2BckCrGxkYZjIwRDIIQEOCu4AzAKZXiEEQzTQ8qhkVGAUY\n",
       "5i9g6BeckAyOb7B8QD3cW66hWmim4VEtEhq0gKGbgaE/QKfszAKoPJ+uM0ye8///D2im4VE9//9/\n",
       "ML0fOQUtZPDFn+YJqGb9g5y6e9gN0PVr7waBHcSp5m5A5tUew+80QqpVGEgBBFTzNpBiGCHVzxgY\n",
       "BfCrQA43AqpZExh4iC/FCKmWVlLSJt6jhFTv////M/GmEVANAIfxb6ZETLAaAAAAAElFTkSuQmCC\n",
       "\" style=\"display:inline;vertical-align:middle;\" /></a></span>"
      ],
      "text/plain": [
       "|- 2^{x + y - 2} = 2^{x + y - 2}"
      ]
     },
     "metadata": {},
     "output_type": "display_data"
    }
   ],
   "source": [
    "Exp(two, Add(x, y, Neg(two))).shallow_simplification(assumptions=[InSet(x, Complex), InSet(y, Complex)])"
   ]
  },
  {
   "cell_type": "code",
   "execution_count": 107,
   "metadata": {},
   "outputs": [
    {
     "data": {
      "text/html": [
       "<span style=\"font-size:20px;\"><a class=\"ProveItLink\" href=\"../__pv_it/theorems/5a0c211ed8c0f89e15d717d80d4627baae693acb0/expr.ipynb\"><img src=\"data:image/png;base64,iVBORw0KGgoAAAANSUhEUgAAAD8AAAATBAMAAADVH8ihAAAAMFBMVEX///8AAAAAAAAAAAAAAAAA\n",
       "AAAAAAAAAAAAAAAAAAAAAAAAAAAAAAAAAAAAAAAAAAAv3aB7AAAAD3RSTlMAIquJdkTvuxBmmd1U\n",
       "zTKBpmoTAAAACXBIWXMAAA7EAAAOxAGVKw4bAAAA3UlEQVQoz2NgwAO4GAgAdjIVzE2vv50+AZ8J\n",
       "BUIMQdMb8CkQZmDnU2BYXl5WXj4BhwIugQtYTHDfvfsCXEEBpoJYD4QJTB0KcAWMyo4OYPoGkhXP\n",
       "zwrAFYQJsP8A0bwCcAVit397wEOSI5OBawNYAZIjZ/YihfcHBm4DEOPZbiAogChg70R4j62AoT8A\n",
       "xGhHMoFvQQWc1+/AMB/M4EYOh3XiCAUHGHR5QO5jcUBS0M4Ct4PdgWcXJN7vwBVIMXBOKIXxOFTs\n",
       "hPzArKbSBlhsFjKU3z+AGQfB1ZCgRgEAfyQ4BfovW/4AAAAASUVORK5CYII=\n",
       "\" style=\"display:inline;vertical-align:middle;\" /></a>, <a class=\"ProveItLink\" href=\"../../number_sets/real_numbers/__pv_it/theorems/7697fc34c81296f04a039eeb9dd22e91165d63b70/expr.ipynb\"><img src=\"data:image/png;base64,iVBORw0KGgoAAAANSUhEUgAAAEAAAAATBAMAAADSXRa0AAAAMFBMVEX///8AAAAAAAAAAAAAAAAA\n",
       "AAAAAAAAAAAAAAAAAAAAAAAAAAAAAAAAAAAAAAAAAAAv3aB7AAAAD3RSTlMAEHarMolUmd1mIs3v\n",
       "RLtmgJDEAAAACXBIWXMAAA7EAAAOxAGVKw4bAAAA3UlEQVQoz2NgwAcKGAiAB+Qp4Nzz7nfPS3wm\n",
       "8HEZ8Fo+xKsggOGBMwP7u3fn3r3EpaCKG4sJeh0dG+AK+DAV3FZEMsFQGK5ASFkkNAFIc21EsoLl\n",
       "2S64ggImI/YGIM29AKHgdH+TACwkORdwfmSeAFKA5MjIiRvgPBYGdgjHpwMIHkCteDgTyXE8CmBK\n",
       "Dtmb7nwCCAX3FzCCeBzICti94D6Uu2DDwApiMCkgKWB8oAnj5TvWMFwDs7YhFBQwzOS7AOWJK7FV\n",
       "JoBZwm8FYLH5bwHf62+YcXD1RccGDEEANpdAkzJdUSAAAAAASUVORK5CYII=\n",
       "\" style=\"display:inline;vertical-align:middle;\" /></a>, <a class=\"ProveItLink\" href=\"../__pv_it/theorems/0253dbed1258e1c128ba9f6ec6b2a0640e2a18320/expr.ipynb\"><img src=\"data:image/png;base64,iVBORw0KGgoAAAANSUhEUgAAADAAAAAUCAMAAAD84U6VAAAAPFBMVEX///8AAAAAAAAAAAAAAAAA\n",
       "AAAAAAAAAAAAAAAAAAAAAAAAAAAAAAAAAAAAAAAAAAAAAAAAAAAAAAAAAAAo1xBWAAAAE3RSTlMA\n",
       "IquJdkTvuxBmmd1UzTLn9enzF+Xi+wAAAAlwSFlzAAAOxAAADsQBlSsOGwAAALFJREFUKM+VktkS\n",
       "wyAIRRF3XNKW///XxiQda2LiyAMjg8cLAsCTkYMpy7YNw4i3uZ4dUuIBkLGN1QiwYg7QJ4EKCJRK\n",
       "qAuQxA2gzZqxVY7CZsureLwCzvjt1lDgBxAXH+S5A4IbwJTpONZDgQNwXNr1/LcPpfb3Z+8EO0Bc\n",
       "PSaIzZOp8+VHSXZViIGgqTlSZzCSxb4kSmaBKg8EEA0n9P0hRzm31t0OnszPCoRJAcgPuS++iAXk\n",
       "5DVTgAAAAABJRU5ErkJggg==\n",
       "\" style=\"display:inline;vertical-align:middle;\" /></a> <a class=\"ProveItLink\" href=\"../__pv_it/demonstrations/8b6a4d1242a8f72879ac15319111394350b09fe20/proof.ipynb\" style=\"text-decoration: none\">&nbsp;&#x22A2;&nbsp;&nbsp;</a><a class=\"ProveItLink\" href=\"../__pv_it/theorems/2a2a89886e990daa493e7a25c960be802d5599bf0/expr.ipynb\"><img src=\"data:image/png;base64,iVBORw0KGgoAAAANSUhEUgAAAGcAAAAUBAMAAABi2T6lAAAAMFBMVEX///8AAAAAAAAAAAAAAAAA\n",
       "AAAAAAAAAAAAAAAAAAAAAAAAAAAAAAAAAAAAAAAAAAAv3aB7AAAAD3RSTlMAIquJdkTvuxBmmd1U\n",
       "zTKBpmoTAAAACXBIWXMAAA7EAAAOxAGVKw4bAAABdUlEQVQ4y41SO0jDUBQ9adPm2/YhgjiIQouI\n",
       "IBR0VEltFjNIsKCLoKNuGdzNIBQcTEEUnExpEZzsrEtwcdTB0aGTuukk3fQlL0JtS5IL9x3u5Z37\n",
       "B0aKSvyXR5SIRwOOcwZuJGt6IMgMw1okyflvyibDnB1DWq/aYrv1GJgK7ccYbyLtRZMEU+wIXoGF\n",
       "ngIqKesVqhtN+gQOFbMQTA3bQEPQushY0aQLYF6aY9XhgarPz1uxmV74yXAA71TfQGLLy3ncvtwN\n",
       "TQXc3grdEq9FLffWxZJBMj/fLi6rgEDQrum2j6OFK1b+4k3YXFEqZ4FMmTnqQ7+P104X6R62iNAL\n",
       "PZvAWY74DTWZg4F8H0hwJS5fkjsQD0Df8ExbhqbYOo2UDvYlmYOJJCL1Ug3IX1DK/fe9bDQoBCRx\n",
       "qLo85GcKWQuOieSS9QfgaLiK+dffE3aJaMPxsKCSpHnq5izSdCWaeicnLu7p4xo7tNnS6thGYtKJ\n",
       "rt54+AUiG1ObtBiVeAAAAABJRU5ErkJggg==\n",
       "\" style=\"display:inline;vertical-align:middle;\" /></a></span>"
      ],
      "text/plain": [
       "{a in RealPos, x in RealPos, a != 1} |- a^{log_a(x)} = x"
      ]
     },
     "metadata": {},
     "output_type": "display_data"
    }
   ],
   "source": [
    "Exp(a, Log(a,x)).shallow_simplification(assumptions=[InSet(a, RealPos), InSet(x, RealPos), NotEquals(a, one)])"
   ]
  },
  {
   "cell_type": "code",
   "execution_count": 108,
   "metadata": {},
   "outputs": [
    {
     "data": {
      "text/html": [
       "<span style=\"font-size:20px;\"><a class=\"ProveItLink\" href=\"../../ordering/__pv_it/theorems/d1323f34847310a404e8089c2c268d3c2eb89dbf0/expr.ipynb\"><img src=\"data:image/png;base64,iVBORw0KGgoAAAANSUhEUgAAADQAAAAQBAMAAACra0H4AAAAMFBMVEX///8AAAAAAAAAAAAAAAAA\n",
       "AAAAAAAAAAAAAAAAAAAAAAAAAAAAAAAAAAAAAAAAAAAv3aB7AAAAD3RSTlMAEHarMolUmd1mIs3v\n",
       "RLtmgJDEAAAACXBIWXMAAA7EAAAOxAGVKw4bAAAAyklEQVQY02NgwACce9797nnJgBXwcRnwWj7E\n",
       "IRXA8MAZp1QVN4qQXkfHBrgUH7LMbUUkXYbCQIaQskhoApDm2ohkIMuzXUBGAZMRewOQ5l6AkDrd\n",
       "3yQA9MUCzo/ME0BSSM6InAiylIWBHWw3g08HEDyAGvhwJliMRwFMySE73p1PAMS6v4ARRHMgS7F7\n",
       "AfXLXbBhYAUJMCkgSTE+0GRgyHesYbgGFtmGkCpgmMl3gUFcia0yASwi/FYAFvL/FvC9/oYcHFdf\n",
       "QAIKCgBACzQrtGfvLgAAAABJRU5ErkJggg==\n",
       "\" style=\"display:inline;vertical-align:middle;\" /></a>, <a class=\"ProveItLink\" href=\"../__pv_it/demonstrations/13db975f635067b172b131ca74d290e59a310a260/expr.ipynb\"><img src=\"data:image/png;base64,iVBORw0KGgoAAAANSUhEUgAAADEAAAAQBAMAAABNQoq8AAAAMFBMVEX///8AAAAAAAAAAAAAAAAA\n",
       "AAAAAAAAAAAAAAAAAAAAAAAAAAAAAAAAAAAAAAAAAAAv3aB7AAAAD3RSTlMAEHarMolUmd1mIs3v\n",
       "RLtmgJDEAAAACXBIWXMAAA7EAAAOxAGVKw4bAAAAuUlEQVQY02NgwAK4yvc5MGAF6xhY/2KXsWJg\n",
       "OIPElZ4AZ54XYLBfgJBhjFCAMS0YGOyBFgkpi4QmgAU0AhHq+oG4gMmIvQHCnVEIk2D5xMDAuYDz\n",
       "IzPMiuwqKIPDACjLwL4BYchtQwhdByZ5FJBkHoIpTgMwdX8BowDMNCsIncrAtYBB7oINAytUYgbU\n",
       "GpYABiYBhnzHGoZrDKiuXlFeXsHAIK7EVgn2DqMG3L7+//9/I4WOxAQGIgEAqwQkvU0PovMAAAAA\n",
       "SUVORK5CYII=\n",
       "\" style=\"display:inline;vertical-align:middle;\" /></a> <a class=\"ProveItLink\" href=\"../__pv_it/demonstrations/d13561ea11cc37592a131205f85c02e104f175d10/proof.ipynb\" style=\"text-decoration: none\">&nbsp;&#x22A2;&nbsp;&nbsp;</a><a class=\"ProveItLink\" href=\"../__pv_it/demonstrations/c523e34e1a0cc4652185d350a719e3c6e3b59a9c0/expr.ipynb\"><img src=\"data:image/png;base64,iVBORw0KGgoAAAANSUhEUgAAAKwAAAAZBAMAAABeGNgtAAAAMFBMVEX///8AAAAAAAAAAAAAAAAA\n",
       "AAAAAAAAAAAAAAAAAAAAAAAAAAAAAAAAAAAAAAAAAAAv3aB7AAAAD3RSTlMAIpnNuzKJRKvvEN12\n",
       "ZlQ4bmvwAAAACXBIWXMAAA7EAAAOxAGVKw4bAAACkElEQVRIx6WUS2gTQRjH/7vZJJvNo6vmZqVp\n",
       "qrkkogdP4iOFiBfFIFrQSwNeCkrNQUQPSvTgISLdg5cWoYuCBy8Ngih66JqDiESJD3wdNBQRRQ8t\n",
       "UooirN/sQ7Objcg4MLvzfTv7m/meQNBIqT6FAY6h7PMpXnUL1yfqEHmwGPIdU3NXGWvmEa3wYOe8\n",
       "olh1V0WaKxgqYysn9vEDXSnkPlhiHEg0B4cd7FuGnez9SehHE/5gparSkDoDuiWuAe7LxR0OFjgK\n",
       "LPT+/aQfNkoBFrJbyoQdB/bEqwN2BpwA2pJRdrHhu5bKny2B7l49sossB9KIrBD2DXA+Wbd9gE80\n",
       "6QSxVLpc2ktbyIYDPYBrgfYXcbyKkI5zwLR9222JdRSqs82qxTgE1bmtkBHUACds9Ehn7JesIqYh\n",
       "mcGsjil1DqGOMCMyszVlkUImaEes5GLY9MH9Olo9WM0jfbVfsR+Ql4AZXASmDm/K4FhTjZrfM1DD\n",
       "GiQVhZMt3cHOmiYw2uPazUFYuQF5GdjO1vPOp7QuXADlRFfyF90CKfqxIu1RWvWxSQ+WZeciMMEC\n",
       "/dNRnAJeAhtoNdxdZRbETpH8PTbusGWoTVo8NPJ+7Dil13OGd0s1lWsaiOikjuh/axL2pTrAU7zX\n",
       "L/mx7NDPNNd7tu80G/T0Y/UebIyypowR14hpxwiIzF2UV8kaV3eKWX3jii9kwGv2OA18hKD+K6vL\n",
       "t8wJiC7hhhdLtbcK+IJwBQmd47aSAWW3rKHixY4Bj4AXWJvN5nmcEKkhtXxVi3Y8WOFmNkuxyWHe\n",
       "NL/xYMMNKAVj4Z3Xt3HTNKlOboN73AqqMufODX7ss6BW4xRPmx8r9c+fND81oE38HqP/gcVgvw8J\n",
       "Fb8AFUCkIg56GMEAAAAASUVORK5CYII=\n",
       "\" style=\"display:inline;vertical-align:middle;\" /></a></span>"
      ],
      "text/plain": [
       "{x in Real, x > 2} |- 2^{log_2(x + 2)} = (x + 2)"
      ]
     },
     "metadata": {},
     "output_type": "display_data"
    }
   ],
   "source": [
    "Exp(two, Log(two, Add(x, two))).shallow_simplification(\n",
    "    assumptions=[InSet(x, Real), greater(x, two)])"
   ]
  },
  {
   "cell_type": "markdown",
   "metadata": {},
   "source": [
    "### Even power exponentiation is an even function which is exploited in canonical forms"
   ]
  },
  {
   "cell_type": "code",
   "execution_count": 109,
   "metadata": {},
   "outputs": [
    {
     "data": {
      "text/plain": [
       "True"
      ]
     },
     "metadata": {},
     "output_type": "display_data"
    }
   ],
   "source": [
    "Exp(Add(a, Neg(b), Neg(c)), four).canonical_form() == Exp(Add(b, c, Neg(a)), four).canonical_form() "
   ]
  },
  {
   "cell_type": "code",
   "execution_count": 110,
   "metadata": {},
   "outputs": [
    {
     "data": {
      "text/html": [
       "<span style=\"font-size:20px;\"><a class=\"ProveItLink\" href=\"../__pv_it/theorems/e9f87a0977d5044ea8daf1040d2f219396bb3d5b0/expr.ipynb\"><img src=\"data:image/png;base64,iVBORw0KGgoAAAANSUhEUgAAADMAAAAQBAMAAABJt1qBAAAAMFBMVEX///8AAAAAAAAAAAAAAAAA\n",
       "AAAAAAAAAAAAAAAAAAAAAAAAAAAAAAAAAAAAAAAAAAAv3aB7AAAAD3RSTlMAIquJdkTvuxBmmd1U\n",
       "zTKBpmoTAAAACXBIWXMAAA7EAAAOxAGVKw4bAAAA0ElEQVQY02NgwAKaq+86PsYmwcCiNoFjfRVW\n",
       "qSXBDAycWKX4FlQASS0UMffduy8AKaaGAiDZiSwT6wGh2RkXQEUYlR0dwPQNqIAQnwGUFSbA/gNE\n",
       "8wpABR6zToAwODIZuDaApWAGS7E6QBhcHxi4wQY82w0EBWC7oAayFTD0B4AY7TBd7GAXAkG/A8N8\n",
       "MIMbJsUK9hcrUOoAgy4PyAUsDvDQCAISa4HaHXh2cYFF7sDDsHYhx2mg3zhU7IT8wCJNpQ2wkC/7\n",
       "vRA18IKrwQEFAwCqvi28/xxvKQAAAABJRU5ErkJggg==\n",
       "\" style=\"display:inline;vertical-align:middle;\" /></a>, <a class=\"ProveItLink\" href=\"../__pv_it/theorems/a259ec76dfb0a5be60b7c83d797520fa82c1dba60/expr.ipynb\"><img src=\"data:image/png;base64,iVBORw0KGgoAAAANSUhEUgAAADEAAAAQBAMAAABNQoq8AAAAMFBMVEX///8AAAAAAAAAAAAAAAAA\n",
       "AAAAAAAAAAAAAAAAAAAAAAAAAAAAAAAAAAAAAAAAAAAv3aB7AAAAD3RSTlMAELvv3c2ZVESJq3Yi\n",
       "MmZ3LnoBAAAACXBIWXMAAA7EAAAOxAGVKw4bAAAA2UlEQVQY02NgwASSKqF7bjIwMCo7oElwL37A\n",
       "mK8GZLAmoMlkdzIw8IFk+AtQJXgTFIHkMiDuF4AKbXJxCQBSXAIKQFIOiKdAJVo3QmgmHpjxUbuX\n",
       "gyieQCj/FO8ECIPxq4D8AZBDDkBlbnI8gDDYPzIwbwDJwFxwjGMDhMEWwMAP0n7ZBQgUwPZATWOZ\n",
       "wNAPcrcQTA8T2G0Q7+SD3M0Ck+EA+4cDKHOB0Q4cJhvgYdAFJFKBHnvABHF/ODzcVHMYS4BijCvz\n",
       "IAJSGrDAkFT+koMSYJ0q4NCBAQD6uylQEVfDpgAAAABJRU5ErkJggg==\n",
       "\" style=\"display:inline;vertical-align:middle;\" /></a>, <a class=\"ProveItLink\" href=\"../__pv_it/theorems/b66b5547fa9b0b910f79351152926c658c2718190/expr.ipynb\"><img src=\"data:image/png;base64,iVBORw0KGgoAAAANSUhEUgAAADEAAAAQBAMAAABNQoq8AAAAMFBMVEX///8AAAAAAAAAAAAAAAAA\n",
       "AAAAAAAAAAAAAAAAAAAAAAAAAAAAAAAAAAAAAAAAAAAv3aB7AAAAD3RSTlMAiXZmMiLdVJm77xBE\n",
       "zatgdeJyAAAACXBIWXMAAA7EAAAOxAGVKw4bAAAAw0lEQVQY02NgwAQbp91VdcQizsD0yoC7fwY2\n",
       "maaDDAzM2GRYGmYDyRfIQpppaReAFN+GCUByM5LEWW0IzcnaABMSUnYAkqy3odw4FgEoK6yAA6Sd\n",
       "NwDKd+QxgLISGbgUQDIwIyJ4FCAMjt8Q2isNCCaA7YGaxjUBQu+E6eHcABXZD9XLBpPhAfuHh4GB\n",
       "H2jfAVCYKMDD4ByQ6AXaM4GBEeRqhuvwcJvbyl0G8pOgMcSL++ZsgIX1rG+tKAF2cBo4dGAAAHWD\n",
       "KgtwTxl0AAAAAElFTkSuQmCC\n",
       "\" style=\"display:inline;vertical-align:middle;\" /></a> <a class=\"ProveItLink\" href=\"../__pv_it/demonstrations/8de2253260b54af0ac04ce17d6016abce7a5b7e30/proof.ipynb\" style=\"text-decoration: none\">&nbsp;&#x22A2;&nbsp;&nbsp;</a><a class=\"ProveItLink\" href=\"../__pv_it/demonstrations/0863010bf05dbfdf42d3987caa904aee9ae4a9600/expr.ipynb\"><img src=\"data:image/png;base64,iVBORw0KGgoAAAANSUhEUgAAAOoAAAAaBAMAAABLKN1kAAAAMFBMVEX///8AAAAAAAAAAAAAAAAA\n",
       "AAAAAAAAAAAAAAAAAAAAAAAAAAAAAAAAAAAAAAAAAAAv3aB7AAAAD3RSTlMAInZUiRDNmWbv3US7\n",
       "qzJazP2FAAAACXBIWXMAAA7EAAAOxAGVKw4bAAACjElEQVRIx6WVT2gTURDGv3SzbpKmJvTkweJa\n",
       "PXhRI4hgLw0qKELL4kEQWjYXUQQhoJRShCwe9CL+A0FqDoUWxBVLrz219iKelFjEmxE8ebEaI4Ig\n",
       "zu4mm/e2k/I2GdgNmTfv9+3Mm9kF4tou9Gu9EI72rdoDYXC8X9FeCBfsflV7IZh9qwaEvGp4gi4t\n",
       "b/MLMQkDBeUDMYE9YFQPxCccZ1b1twvcpkPA1zOV01G3VsTUvJpsm6CX2JEqs16LbvusqPsiXVcU\n",
       "R7VFMBxuNceWPUXPkvp8I+qepavRrqGzo2qbkGZX1yzW/YT1PiSxZrva5s7Jtggn2MXz/J6rnFOj\n",
       "M0ouKKq2CDe9ht7cHwm+PvohEp4cvQ9McCCjSOdVO1yQVf140UZODSMkeOKr+WxT7uHfli2PcWIR\n",
       "t4A74f8517NXfofQUdqX9R+SahAvDs0jvLNCwiJpPIUhT4rWRFrOPlPEY+Akl2uGshy3vGVBNYgX\n",
       "7JKDOYSEZ1SiLS+IJsB//mWvaCXkyKNf8z118lT89vrOqaZXgBngF21z3Rfzrvs+jBcBwFKHQKrp\n",
       "ddgr0czW5Nmp+vfVbqpLGGxIuVajUVXofzsEqrBt4sG2ca1Is6P/9H/GuHP1KtyA0RRVW/ESILXV\n",
       "IWyQagEfNal5cnU6a8n+UD8A97hcsyT0zzs3MdcgXlBtYKh0LCRMeNu054YEGnKykVciNeRkMGbb\n",
       "LEnn+Alv5HkN4gXbwFi5HBK+0XPUJkeOyPXYnI2iz92mkr/kVHdT/0+fdWTVIF6w6YNfavWQkKmr\n",
       "f48T7JcIy+LMmUqEVFldlf9S4K74MnDUCK/VVffy7mw+PmFKXbXLA+rr8QkJU3XLQLechuMS/gNU\n",
       "W5lN1t20GgAAAABJRU5ErkJggg==\n",
       "\" style=\"display:inline;vertical-align:middle;\" /></a></span>"
      ],
      "text/plain": [
       "{a in Complex, b in Complex, c in Complex} |- (a - b - c)^{4} = (b + c - a)^{4}"
      ]
     },
     "metadata": {},
     "output_type": "display_data"
    }
   ],
   "source": [
    "Equals(Exp(Add(a, Neg(b), Neg(c)), four), Exp(Add(b, c, Neg(a)), four)).prove(\n",
    "    assumptions=[InSet(a, Complex), InSet(b, Complex), InSet(c, Complex)])"
   ]
  },
  {
   "cell_type": "code",
   "execution_count": 111,
   "metadata": {},
   "outputs": [],
   "source": [
    "%end demonstrations"
   ]
  },
  {
   "cell_type": "code",
   "execution_count": null,
   "metadata": {},
   "outputs": [],
   "source": []
  }
 ],
 "metadata": {
  "kernelspec": {
   "display_name": "Python 3",
   "language": "python",
   "name": "python3"
  }
 },
 "nbformat": 4,
 "nbformat_minor": 0
}