{
 "cells": [
  {
   "cell_type": "markdown",
   "metadata": {},
   "source": [
    "Theorems (or conjectures) for the theory of <a class=\"ProveItLink\" href=\"theory.ipynb\">proveit.numbers.exponentiation</a>\n",
    "========"
   ]
  },
  {
   "cell_type": "code",
   "execution_count": 1,
   "metadata": {},
   "outputs": [],
   "source": [
    "import proveit\n",
    "# Prepare this notebook for defining the theorems of a theory:\n",
    "%theorems_notebook # Keep this at the top following 'import proveit'.\n",
    "from proveit import IndexedVar, ExprRange\n",
    "from proveit import a, b, c, d, k, m, n, r, x, y, z\n",
    "from proveit.core_expr_types import a_1_to_m, a_1_to_n, b_1_to_m, k_1_to_m\n",
    "from proveit.logic import And, Forall, Equals, InSet, NotInSet, NotEquals, Or\n",
    "from proveit.numbers import (Abs, Add, Exp, frac,  greater, greater_eq, Less,\n",
    "                            LessEq, Log, number_ordering, Mult, Neg, sqrt, subtract)\n",
    "from proveit.numbers import (zero, one, two, three, e, i, ZeroSet, Natural, NaturalPos, Integer,\n",
    "                            Rational, RationalPos, RationalNonZero, \n",
    "                             Real, RealNonNeg, RealPos, Complex, ComplexNonZero)\n",
    "from proveit.numbers.exponentiation import (\n",
    "    prod_a_raise_ki__1_to_m, prod_a_raise_bi__1_to_m, \n",
    "    prod_ai_raise_n__1_to_m, prod_ai_raise_b__1_to_m, nonzero_a_1_to_m)"
   ]
  },
  {
   "cell_type": "code",
   "execution_count": 2,
   "metadata": {},
   "outputs": [
    {
     "name": "stdout",
     "output_type": "stream",
     "text": [
      "Defining theorems for theory 'proveit.numbers.exponentiation'\n",
      "Subsequent end-of-cell assignments will define theorems\n",
      "'%end theorems' will finalize the definitions\n"
     ]
    }
   ],
   "source": [
    "%begin theorems"
   ]
  },
  {
   "cell_type": "code",
   "execution_count": 3,
   "metadata": {},
   "outputs": [
    {
     "data": {
      "text/html": [
       "<strong id=\"exp_nat_pos_expansion\"><a class=\"ProveItLink\" href=\"proofs/exp_nat_pos_expansion/thm_proof.ipynb\">exp_nat_pos_expansion</a> (conjecture without proof):<br></strong> <a class=\"ProveItLink\" href=\"../__pv_it/theorems/df6449c99121a73bced922e58114d934536ad3ca0/theorem_expr.ipynb\"><img src=\"data:image/png;base64,iVBORw0KGgoAAAANSUhEUgAAAZoAAAAVBAMAAACNuTXpAAAAMFBMVEX///8AAAAAAAAAAAAAAAAA\n",
       "AAAAAAAAAAAAAAAAAAAAAAAAAAAAAAAAAAAAAAAAAAAv3aB7AAAAD3RSTlMAq1RmmUTNIjK7EInv\n",
       "3XZ/CtNrAAAACXBIWXMAAA7EAAAOxAGVKw4bAAAEZElEQVRYw51XW2hcRRj+9pazu2ezWSioFQkr\n",
       "ahto6wbRaqvoQlYtxMpSWygYcKEPUp+OL0K0jeuDKBbbKA31KJTFlmoMNGnJeRAx5CUgLS1pTSUv\n",
       "gV1bBZUGqWBLnpzLuc05s7ODw/67c2a++fb/5vLPf4Ce5faqut/iP6mR47finQa0itWtQ2e84Vov\n",
       "R1lx1N3FMv89MzZciDv1q5YYjyNeMu3eoymG4RyU6PMjajVKzDb3993fMdCKdibntNRsk7a+Nz8F\n",
       "3NQYftM1By/SxzfValSYfMOrDWIs1ntOS0zAIbRWUSmjr9V7PMVQc/AB3XSTajUqTHrYq/2EWjba\n",
       "O6KlJuAQtt8dzDaQqvYeTzHUHKbJLKvVqDAF/yz+jdWhaO+ilpqC/DgsYYAs2iUNgkvcHKTIvPT1\n",
       "iAIqzBb/z0v4KzrHyYaWmi3dOiqE8BCr3U9svCvBIW4kXl1ZW7vcK6YpMKPEzne+/UG6dGkSBPLr\n",
       "Dx676LdIoYQj0/lm4XRsdX4mXxdY9WgThiQAu3QXOI54ugf4UuLIXFhNF4w3LdXiYHrZb9m7Rss1\n",
       "djzJ3KbRae/1O0VowGHmBjEbCfDZzgPkeyffx6tUUKy4dDs5jnj6NoySxMtqWE0UUzw5OOFWr5MD\n",
       "aKU2EtKD3E/m7Wm80Nrkn1cplHAc6J/E+zF3SUzDdl49+pFkaTw6itnOPM21zHr4Yl1x8FwpoiaE\n",
       "yXbsev4zK/mV+7xEmpDucj4KZFQTL/GA+y8CKHvwC+FozdZRocH4HFtZ1/PCBnDC9WtN1CrQneBG\n",
       "PE22gwN+fPMUHjZb6VZETQhTI6TmeeDZwBPyr+3uaoCr/GEFIehKRA0qwH2RjdZE7g68SyyqRqAb\n",
       "40azlsbz/qHdQ+/8dtXEfG2lVg9lNgyz/vItq0i3yZkPgwTqOv16w8q3ZOeG7jRk7uK7wAkBGuIg\n",
       "Uv7JC60DG0zNDsVO8+goZgf39OJbXsrIsoihxybM6LlhmKK1ua88TVu2bg3oSCCarj8EU7o2uTby\n",
       "U4nFIKTIoTSYXUZyQ+wplNhO26WIAh7dLm7U0yMlN2XMs+t+yPz69ZgaiknhdBav0ZbduwNCEhgr\n",
       "n7yCfVI1ZgnJe2cXM35MFqHkqp9tcA7jHoqNZ8QjPszum1ExQntjBLpRbtTTRNNNGTMs2Ayh+kdM\n",
       "TYLNy10SB23bLn98MPjPT4Gz68kReaaQXUb+1fajT/gNIrS/Sj+MI0OQmyIk+2sk68QNVqex+p3w\n",
       "GIHuBjcnnDKmDtv250TNTF/0vnF9WzRwjE05iQLeHu9vqm5enTcONYexrPGCs8zNCaeM2Tm+NpnH\n",
       "pe83R8xGmsRqOnrewkIo4+tentRSo+KQZ6RxDDVHSBnZff8U0JGqSf+28CeML2h15vBJfzpPqf4n\n",
       "Z2nJUXCMawwfd80RUsZx4mL2FwsJxbvnjG3XxbiifHOZ1FIz/b+ECphTMU/z39tTceyP6s1vKN91\n",
       "J7TUdOcoaiwuxVC7vfQfTxJD5Y5iRHgAAAAASUVORK5CYII=\n",
       "\" style=\"display:inline;vertical-align:middle;\" /></a><br>"
      ],
      "text/plain": [
       "<IPython.core.display.HTML object>"
      ]
     },
     "metadata": {},
     "output_type": "display_data"
    }
   ],
   "source": [
    "exp_nat_pos_expansion = Forall(n, Forall(x, Equals(Exp(x, n), Mult(ExprRange(k, x, one, n))),\n",
    "                                         domain=Complex),\n",
    "                               domain=NaturalPos)"
   ]
  },
  {
   "cell_type": "code",
   "execution_count": 4,
   "metadata": {},
   "outputs": [
    {
     "data": {
      "text/html": [
       "<strong id=\"exp_nat_pos_rev\"><a class=\"ProveItLink\" href=\"proofs/exp_nat_pos_rev/thm_proof.ipynb\">exp_nat_pos_rev</a> (conjecture without proof):<br></strong> <a class=\"ProveItLink\" href=\"../__pv_it/theorems/8e37deefe1da5bbd27949e1585331eb1b794713f0/theorem_expr.ipynb\"><img src=\"data:image/png;base64,iVBORw0KGgoAAAANSUhEUgAAAZoAAAAVBAMAAACNuTXpAAAAMFBMVEX///8AAAAAAAAAAAAAAAAA\n",
       "AAAAAAAAAAAAAAAAAAAAAAAAAAAAAAAAAAAAAAAAAAAv3aB7AAAAD3RSTlMAq1RmmUTNIjK7EInv\n",
       "3XZ/CtNrAAAACXBIWXMAAA7EAAAOxAGVKw4bAAAEb0lEQVRYw51Xb4hUVRQ/8/7Mm31vZtzokyLL\n",
       "RJYLWQ6mlhr1YEczzHjlF8E/DfQhDILXR8tdpyAQxXUNF3sF9swl2hbW0fRDSDIhUhjZFltsHxbe\n",
       "lhkmrkvRKvul7r3nzbz/9z07cJg39/7uub9z7znn3guQKrem+P2mq+micG2kSRJm9ZOzOjOdRpTJ\n",
       "eX53uYKaQX5N7NmdYXQCRl1zCb4G2WFMu2nLg3xvuJhHXE0XoRm7YReeM6BcTR+egFHG67AA8Btj\n",
       "upG2vMr3hodR66gZ5JPY1hEQ/gJ4LcP4BEzOkVsAeZsyfZu6N8T3hoeRqqgZpC+29XZFnSfBn2F8\n",
       "AqbYkPQGiDplSn3SKnxveJiiqxmkFdu60wDiTdFOH5+A2Q+ldxoAVyhTkaxrPqUK8DAPu5ohbZLi\n",
       "UfibmGfbmzN5gZKPD4EXofw5+XmF1avvpqe/TatpHMwWV8dnPr3Q2T51dsmhs5GYJEVg95K3bjjh\n",
       "jl2EpcYqjUJqbH8jmptoDjHRdpQzjOlmgA9iWDb93iRgAJeEqV7ukSY6xGHG2Rq3tM2jjnon1D54\n",
       "H+Ev4sb1N5SYQ8M1h5it01R+iEyzljF9A5TuGJa635swpnysZ8D9/BFVNMWFXCcSnoBn7PvDFksV\n",
       "kI1fQLkbiTRS0wRMKmUqZmva5oRWfDvKCsa0y9YMf/mePA9PdYe88WEKM5ahHjWFD93/l1ELIOHq\n",
       "nqY/DdiEoTDvT2IDVPUfEBZox+tshV3m39tQmMPP/tDW+M21MR1pT8PkCGMqOF6CDy4ehgc0W7JD\n",
       "3vgwNcJAGwfYEPSGkMV8KOHAq9g7GfQGhDnIhYrBAYCPyK614r3xm5OjRfGqrzbiraX+dCc+N9Mz\n",
       "39E1OFebrBm+mw3DzD57zWQH8ql3vTuXG2kAL5uqV0HlO/BZTKRRVxZVg4X2X5t6I0xwIs01hxhf\n",
       "3gSmeRSZniVnrNg3eA1vB9D70IAWzhuGKZuL85VR2rJ8uTfRCdRRYylonVoznGtB5BrTRTav2ISV\n",
       "drDnKxZp4lByFWibE4fi21HWIdN9JEtO7awWTZWhe7WPd0S8oRgRThRgG21Zv94zeQZ15cHn4aVO\n",
       "Wt8dacleuZ7H/KEFdn8DrovB1X+cnTdSM1ihSb6crofMSaEFCk6zBZnmyPA3r8MiW2Y1qRf0GxFv\n",
       "cmwKUlvXWpZVObDdM3kYdWRW6PP4v+AsW+VBJjF/CiRQdgGcXBWKohq5dUKJxTWdRqm7+VLSQ+ZK\n",
       "RmhvAtP85Lvt95AsEvdY1nvEm7F8+Lxxy1lLgUP0g1YBtZ0NDdQMwnt+9GcYz8UoEz6m30CtUGji\n",
       "3siPxb5v9ml1idRqOvKcCRfdVnrbE/VM3qy+5xvpPWDozbfNVJmDqV4879cAzMR6I/1+8U9Q3qef\n",
       "Y3uOdbbjuKvp0pX8wuTf4rNg9vqYyt1wswp7CcXCzybkOG/PMcsKhu+oq+miDv0fRzNijkeYql9Y\n",
       "w1Hcl/zntuKgZpCBxJ4/MozmYsrE1VuX/wP7slGqLAEE4wAAAABJRU5ErkJggg==\n",
       "\" style=\"display:inline;vertical-align:middle;\" /></a><br>"
      ],
      "text/plain": [
       "<IPython.core.display.HTML object>"
      ]
     },
     "metadata": {},
     "output_type": "display_data"
    }
   ],
   "source": [
    "exp_nat_pos_rev = Forall(n, Forall(x, Equals(Mult(ExprRange(k, x, one, n)), Exp(x, n)),\n",
    "                                   domain=Complex),\n",
    "                         domain=NaturalPos)"
   ]
  },
  {
   "cell_type": "markdown",
   "metadata": {},
   "source": [
    "### Basic Operation Theorems"
   ]
  },
  {
   "cell_type": "code",
   "execution_count": 5,
   "metadata": {},
   "outputs": [
    {
     "data": {
      "text/html": [
       "<strong id=\"exponentiated_one\"><a class=\"ProveItLink\" href=\"proofs/exponentiated_one/thm_proof.ipynb\">exponentiated_one</a> (conjecture without proof):<br></strong> <a class=\"ProveItLink\" href=\"../__pv_it/theorems/71ee0ac2b18ddb819ddc75585aaf236ec5c1b6ac0/theorem_expr.ipynb\"><img src=\"data:image/png;base64,iVBORw0KGgoAAAANSUhEUgAAAH8AAAAVBAMAAACd/CwcAAAAMFBMVEX///8AAAAAAAAAAAAAAAAA\n",
       "AAAAAAAAAAAAAAAAAAAAAAAAAAAAAAAAAAAAAAAAAAAv3aB7AAAAD3RSTlMAq1RmmUTNIjK7EInv\n",
       "3XZ/CtNrAAAACXBIWXMAAA7EAAAOxAGVKw4bAAABrklEQVQ4y2NgwAsKINQ79ycFeKRxAz4FCFUg\n",
       "yaaATT4OiAVADGUcBmgDce8CBmaGeRwYchy3gCYbMDC4gjjp2PVzJTBwieQvALK+Y8gtdPsFJLMY\n",
       "GBqBFPsE7AawAC1geA80gOMAO6b3QAaYMDCwAeW5FbAbwMMAMaCGO4EFuwE8QP8BbWHDEQRqUANY\n",
       "nu57hd0ANqDus3fvnsZhgDfUAOwxBDKAGxgHHgwMs3AYkIxugO9dELiIMIA5gYGhkIFdAMXkKXJ1\n",
       "UOYlgi5gOsDAwLmAOwAWtQ9nBnBNLGCaDeUfJWgAxwegIQ/gYejSAPTVOgYGa6INYAW6gCHBDpra\n",
       "QemKYXErMF3g8gJGGDBdABKbsqCpfSVIXF0doX4eQRcwg5JgDTAMwak9GCRuZYVQsxFE7MeR5bhB\n",
       "yZtlA5BgbGCApHazmTNnKnREINT0ArHg+UQDbPoZZb4JMzDwBsDzFjC1d4MNBgYiF1SQt4FQfq+F\n",
       "McCpnRPkW/YtBQz7oKLMDoQMcIbnO1BqZ58BYq7OnAK3eDoB/ejZePXMmQEoAisJGMBJqExjf4Bf\n",
       "/jkDAwCLm3fq3mYYyAAAAABJRU5ErkJggg==\n",
       "\" style=\"display:inline;vertical-align:middle;\" /></a><br>"
      ],
      "text/plain": [
       "<IPython.core.display.HTML object>"
      ]
     },
     "metadata": {},
     "output_type": "display_data"
    }
   ],
   "source": [
    "exponentiated_one = Forall([x], Equals(Exp(one, x), one), domain=Complex)"
   ]
  },
  {
   "cell_type": "code",
   "execution_count": 6,
   "metadata": {},
   "outputs": [
    {
     "data": {
      "text/html": [
       "<strong id=\"exp_zero_eq_one\"><a class=\"ProveItLink\" href=\"proofs/exp_zero_eq_one/thm_proof.ipynb\">exp_zero_eq_one</a> (conjecture without proof):<br></strong> <a class=\"ProveItLink\" href=\"../__pv_it/theorems/b3a986b3e4f162cab34800460a9a2a283910f6c20/theorem_expr.ipynb\"><img src=\"data:image/png;base64,iVBORw0KGgoAAAANSUhEUgAAAIAAAAAaBAMAAACN7UndAAAAMFBMVEX///8AAAAAAAAAAAAAAAAA\n",
       "AAAAAAAAAAAAAAAAAAAAAAAAAAAAAAAAAAAAAAAAAAAv3aB7AAAAD3RSTlMAq1RmmUTNIjK7EInv\n",
       "3XZ/CtNrAAAACXBIWXMAAA7EAAAOxAGVKw4bAAAB+UlEQVQ4y51VTShEURT+GO+9mTe8pmylKWoW\n",
       "orGxGKUpP4nklY2lnViNpRJjIYoyysKjeLLSyBTKQmlSkkRkoWhqlJ2NlJ8s5Fzjvfnp3nmTs7jn\n",
       "3XvO/c7vPQ8oiY6e8T9y6RmWlmI8cdgRoD7DKqP44InHne6rQxk+ZeKE62DaAcATzPBFE7dchXvA\n",
       "x3idAGACNsBVocxNl/EIdLLNsACgF3YIrwWiza4vWhMmpokpMQHAG8RJ1BiAHIRsAl4//777y1JO\n",
       "Sz4uQEUMLsqTLHBAu7Yb6cnkAmhJ4DKVuhAAlLEqjh1P8tEZgERLN7AqqiLlRjrDhm29L8XoJgvg\n",
       "/iQLUPLi05ZrLZMyCXaC6BN7oFCaPaZXt5L2aOjqUqR87W9fRb3eDzyIAVQCKE/bOeyIUkV2gdYc\n",
       "D85/lYQeUAgYaqMl3nYIjTXu1gwdZwHUb7heIM4Ba4+9UXLljj632XkgkFOFGNRXqkWgaBUwQY5W\n",
       "hN1JDLDzUChHh6q8jsYw99l7mXFXktmhyCt1zYcWwzD8c4NZHYa/+TxbG+X1SM17NRm2CpiIeELm\n",
       "/C8wJVG1tE6dBoYctF5LZHHA9LCGUQ4iOC58jUJKWD0mtTftQ1lhn/GRZdvlBSeA5vxt3DD0/ED9\n",
       "DgB3Jc5E4dB2moloKC4eL/W/IKIe4AfvZYRPLMfUzAAAAABJRU5ErkJggg==\n",
       "\" style=\"display:inline;vertical-align:middle;\" /></a><br>"
      ],
      "text/plain": [
       "<IPython.core.display.HTML object>"
      ]
     },
     "metadata": {},
     "output_type": "display_data"
    }
   ],
   "source": [
    "exp_zero_eq_one = Forall([a], Equals(Exp(a, zero), one), domain=Complex)"
   ]
  },
  {
   "cell_type": "code",
   "execution_count": 7,
   "metadata": {},
   "outputs": [
    {
     "data": {
      "text/html": [
       "<strong id=\"exponentiated_zero\"><a class=\"ProveItLink\" href=\"proofs/exponentiated_zero/thm_proof.ipynb\">exponentiated_zero</a> (conjecture without proof):<br></strong> <a class=\"ProveItLink\" href=\"../__pv_it/theorems/45443179606fdbb84532e2512e8acb3558631a150/theorem_expr.ipynb\"><img src=\"data:image/png;base64,iVBORw0KGgoAAAANSUhEUgAAAIsAAAAVBAMAAACEWwD/AAAAMFBMVEX///8AAAAAAAAAAAAAAAAA\n",
       "AAAAAAAAAAAAAAAAAAAAAAAAAAAAAAAAAAAAAAAAAAAv3aB7AAAAD3RSTlMAq1RmmUTNIjK7EInv\n",
       "3XZ/CtNrAAAACXBIWXMAAA7EAAAOxAGVKw4bAAACGUlEQVQ4y42UQUjbUBjH/0vSJu2zscftFhh4\n",
       "GWIPssNwW8faKohQJuwy0LIdBh6kuztWzzJWT5oNSg5eZBuLO0zcoPQiCCK4XTwVIugGHkScICjI\n",
       "vveqrUkfyR6EfMn/yy/f+7/3PeA/Rrl1OxzeK4fIUcO0Wrfyrbgl0yfoSvPgdijmDsDqw1BRM7q0\n",
       "H1SgmQHy/OFlGCVZAp7jM5V+2qXFreQOMAXM0oNeDcNoGajbYFUYDT2o3QfWgEHiOVSyFYbpARJp\n",
       "KGczrKQFtXlgwEGPA5UmFg+1pg/ozcI41vbrB0HtBHhnIU6MrWZzMxQzCnwhzF+ZbRyTAaN1GgHe\n",
       "dyewTvgCeOPCuGi/GGvy8ZObek4YDyotwivoaYmvnfBXC3MuqUZgXCgNss9hxWtK/7dH037MOk3K\n",
       "RexCNinCTHowjgDFazts7NpFk2HVDWLIYuVY5ht5M2AhRtWg9ODqZa5CW97EPY/lxnL5a5NKVKGe\n",
       "SbyBDTx0oGxT+HXqsu34puaYg6yvmhqgNqCVZNUMAQWS+fadSV+23bJoQKbXMj7MiqjoU0WGSVnJ\n",
       "DUomF3CDEkTbjQuM9qHqt/gtXUv1m/J+G92lr1OdNaK2u2vbtmWa7Il/36QqUSfJ63bE225OVGPG\n",
       "njm+JDUbhXl8FYi2SzjCG3wPfLcQQekcEKLt9EWKnv52lwr+tOUITCJwin607aLsb1445g/wDzWQ\n",
       "g2RLsi5UAAAAAElFTkSuQmCC\n",
       "\" style=\"display:inline;vertical-align:middle;\" /></a><br>"
      ],
      "text/plain": [
       "<IPython.core.display.HTML object>"
      ]
     },
     "metadata": {},
     "output_type": "display_data"
    }
   ],
   "source": [
    "exponentiated_zero = Forall([x], Equals(Exp(zero, x), zero), domain=RealPos)"
   ]
  },
  {
   "cell_type": "code",
   "execution_count": 8,
   "metadata": {},
   "outputs": [
    {
     "data": {
      "text/html": [
       "<strong id=\"exp_in_zero_set\"><a class=\"ProveItLink\" href=\"proofs/exp_in_zero_set/thm_proof.ipynb\">exp_in_zero_set</a> (conjecture without proof):<br></strong> <a class=\"ProveItLink\" href=\"../__pv_it/theorems/8aec011e6b51613889bbf862844055c79ea100ad0/theorem_expr.ipynb\"><img src=\"data:image/png;base64,iVBORw0KGgoAAAANSUhEUgAAAM8AAAAbBAMAAAApAMZVAAAAMFBMVEX///8AAAAAAAAAAAAAAAAA\n",
       "AAAAAAAAAAAAAAAAAAAAAAAAAAAAAAAAAAAAAAAAAAAv3aB7AAAAD3RSTlMAq1RmmUTNIjK7EInv\n",
       "3XZ/CtNrAAAACXBIWXMAAA7EAAAOxAGVKw4bAAADaUlEQVRIx7WWb0gUQRTAn3e3t3u7d9PVB6GE\n",
       "WCj6EqWfhMz0JJVCiiPBLwYeRkR9kLOvCXeB9CXhLiLojGKE+hAGd1RoJYEkgRCFUCAIBytIf8xE\n",
       "ohAMojezs7u3p3fKaQO3M/ve3vzmvXnvzQDsQLuRhv/bvFGzr8qV/863XdBB0QeT5b+Tt2mxGhOD\n",
       "1PK+Yt0jYezVOHs2bQ8UqBODH3ShSEUuUnOg7GWDED7C7PVARaABa3Ab6otUtWz6iQU0J8AABB9t\n",
       "TH6pIlCHNZiGliLVa/z5dXUWQJthTl4DuF75Zv22BivwZgPQCYCXAgQXkItGanolHGXNGs15xUq/\n",
       "5fMxG3SLe9AEncZcwB31V2QQmbFGg8tm37VYaNEvDEddgJbw9z6ff1cRqIotXq75YtjpcqXQdSoD\n",
       "1QlQD/rtFMDw1mfXCqKb+et8PGB70B+3de2I/YMgA8gkzzRM6X6Qw665jvP0UJ7TTaqJH/+mToHP\n",
       "9qCzA/KUAOVA/skECczfANWirj3GJUx8x7VzvHJZiI+MtfS5QaEIvq5AyC50Q3lszEy5GmdUEdSD\n",
       "bh3pRUkWBR7DXokyn4mCJwZeQ0qznrUaIScajOfWWRRM8znM9thWDQ6bwVCL4TzG9AlWDWN2JWpl\n",
       "rwjAIrlqgaaFnBBoMLTWM61thaCsAc2Oic4iMLQhA9BMwcO3MMW27ykLltGmcSB8cxCQoJiBJkj5\n",
       "O0+5HEGLEZdFVeilrA7VHisGiOFK2EYeE9qkFXUwwDZ1VlkVpntjkKLwESS+yWSORLicaPKDOheI\n",
       "xVPA8HxyRL0uUEhXp63K0MhXho7xRTAGOs3jMslAHwD6KK/Q3hiXE9+9tDsYJHSKuv9F/1dbMnKH\n",
       "FoDUjvmkBbJrYTCKBbY+k8noym7KXIdBecjgZ5ovzOWEaOfceQRv1wV/9/2CEiQSz6p1ZsvGAw30\n",
       "pumRsBkMMnfuLgjqXE6I1E1LVO/1rQik2kkdjKc6aYCKYCCGFObBMIpH1jHgcgzvVxH3bEOlQUtO\n",
       "hjMTvXZJkE4efQbyXQHCI4vyfkhXzhqmvOtz7mF7UbErXfQTtuoJC9lQ3K0ezZgJCxYQdEde5s6w\n",
       "wXWkRZCu7Sl5Z5BmHJBEy1bYw1usxCUO1j5xK8Q1ebd2r9us+TZer8KtlpM7e9n8B/tI4c6V6BrV\n",
       "AAAAAElFTkSuQmCC\n",
       "\" style=\"display:inline;vertical-align:middle;\" /></a><br>"
      ],
      "text/plain": [
       "<IPython.core.display.HTML object>"
      ]
     },
     "metadata": {},
     "output_type": "display_data"
    }
   ],
   "source": [
    "exp_in_zero_set = Forall((a, b), InSet(Exp(a, b), ZeroSet), domains=(ZeroSet, RealPos))"
   ]
  },
  {
   "cell_type": "code",
   "execution_count": 9,
   "metadata": {},
   "outputs": [
    {
     "data": {
      "text/html": [
       "<strong id=\"exp_rational_non_zero__not_zero\"><a class=\"ProveItLink\" href=\"proofs/exp_rational_non_zero__not_zero/thm_proof.ipynb\">exp_rational_non_zero__not_zero</a> (conjecture without proof):<br></strong> <a class=\"ProveItLink\" href=\"../__pv_it/theorems/28b210638a18769606b6a3c372c76c3a862ea59f0/theorem_expr.ipynb\"><img src=\"data:image/png;base64,iVBORw0KGgoAAAANSUhEUgAAAJ8AAAAaCAMAAACeuH65AAAASFBMVEX///8AAAAAAAAAAAAAAAAA\n",
       "AAAAAAAAAAAAAAAAAAAAAAAAAAAAAAAAAAAAAAAAAAAAAAAAAAAAAAAAAAAAAAAAAAAAAAAAAACC\n",
       "gUnDAAAAF3RSTlMAq1RmmUTNIjK7EInv3Xah18O15/Xp87zmPDoAAAAJcEhZcwAADsQAAA7EAZUr\n",
       "DhsAAAKySURBVFjDzVfZtpswDMSWvMm2upf//9N6ZXUCtzfpKQ9JIMEZz4w0Ypr+3WG1m/6rA9T+\n",
       "XPgP3IxvhyePfxHsB+427yab9FHfmVnQffb5vfgcHC5wpIlHsuEYdMyXxSoHvBSeCSPAoAd1s1PS\n",
       "e0ZT95Ox4eJhbV6KD0/FkO2HYkD01pZaJmfEAoXmRKAVb/LjrE5XMkZ5pm8LGWLhsGLRWVHdxPfy\n",
       "tc1upoGfYECC2+rmClhZb8b8a2i206+lj+MZMvKgJNVO8Rnr5gpZXCwcYj6Cfy0+sezXCM/mca/Y\n",
       "2Z46vkKaKjRisaejF3eXrqQKCYA7q42FlvjjZ35dimD2rVPWN1v211/+ogfn5QxLPtW+bgtSgALm\n",
       "Fn0rPl/PVKfOq1t5Tt6hEGYfkrnCTu6NrRHjXM4euUft+zVVYKryRxWf5AfVseS5ZeFc+q3x+YoH\n",
       "uR0AKLs40AP+glv/6JK+Xh+y1oeZbSvdcdb1PEdsH7zJ9xGAmTwifvmKqb2brF20Y3xUmIB50L+z\n",
       "7379ri4Ue9tCtaudTWt9vQmSB/bmkOfcg89aWb7jiTcjUOXvaEDhGj5Zi1kO00kfaYfSUrDKqVpV\n",
       "mdDNnIKlg17ynBYXAlWkGV/i79t3zPwVb5z8wS1+XdqKTGbEWxNYEiLnWxMOeoSLRchEUjjkuVrm\n",
       "hs5bQpc30xdP9QsndvreSbC3RrC9RV9e1fMC59hUgmpTwzbPQbtyyEnt9MXnHTOo6wH2IhP0YaKi\n",
       "LK0Dol2e23WVTX2chvfr+eUOfXs4x+9Dtp8Cqn235/kaLbaQ629NijZcDsgXOwBx7pYg2UNeXK55\n",
       "btYBjXxELe49RoirgSheRGp8NpDKfWq40p+LxPbmnE1XE5H9xPOHerg3lICs7gCUnxqJns/LTziy\n",
       "DDefE0F9Al9tD38ADqwWD6pzP1oAAAAASUVORK5CYII=\n",
       "\" style=\"display:inline;vertical-align:middle;\" /></a><br>"
      ],
      "text/plain": [
       "<IPython.core.display.HTML object>"
      ]
     },
     "metadata": {},
     "output_type": "display_data"
    }
   ],
   "source": [
    "exp_rational_non_zero__not_zero = Forall(\n",
    "    [a, b],\n",
    "    NotEquals(Exp(a,b), zero),\n",
    "    domain=RationalNonZero)"
   ]
  },
  {
   "cell_type": "code",
   "execution_count": 10,
   "metadata": {},
   "outputs": [
    {
     "data": {
      "text/html": [
       "<strong id=\"exp_not_eq_zero\"><a class=\"ProveItLink\" href=\"proofs/exp_not_eq_zero/thm_proof.ipynb\">exp_not_eq_zero</a> (conjecture without proof):<br></strong> <a class=\"ProveItLink\" href=\"../__pv_it/theorems/a5f21a12c8f2fe340ff4f865c3da04ca2d4c99ad0/theorem_expr.ipynb\"><img src=\"data:image/png;base64,iVBORw0KGgoAAAANSUhEUgAAALwAAAAaCAMAAAA60sZqAAAARVBMVEX///8AAAAAAAAAAAAAAAAA\n",
       "AAAAAAAAAAAAAAAAAAAAAAAAAAAAAAAAAAAAAAAAAAAAAAAAAAAAAAAAAAAAAAAAAAAAAAAeYafp\n",
       "AAAAFnRSTlMAq1RmmUTNIjK7EInv3Xbt5cnn9enzas/lfgAAAAlwSFlzAAAOxAAADsQBlSsOGwAA\n",
       "AudJREFUWMPVV4uSpCAMFAICAdl7+v+fekBABXFkZ69m7qzamdUyQ6fTCc00/SOXns30H10gq1tm\n",
       "PxEr3oydNwCc/kSwem+ZcG5ks3rPcLxs/p3gDdT3fsHJ99Qg+hkt8THb6wgvxK5cJxmYO41cCcRa\n",
       "LxQlG4GLrW1m9ULwom3PKHnBOhU6tsLMg96WhBPXQL1mb+mBVbYPYgL8TPwxH1gS+wR0jkKZs6Ys\n",
       "f+VUX/GsYejQZ45yMCkTTrEivg1Z6vMriffLKR3hOwNEVkJaBSWeaPapa9wSL2dfCZ4VqhSzXl2P\n",
       "vaoPsYBPdMtUAJFawuCTnfdoll8PyqwQ6QI6c9LQJBKhy4+f8XPrytXmHYG+dEq+fAzYDW8Eq6h6\n",
       "0OZW5ul2LupMy6GDhHSI+B28pTtZSLeyV9yyqvbMmPAGGhZ+jhs7Ap74iFuhPL20UMHEmm6uFCvr\n",
       "siKhlsQ8EnjuL9q12A0h8j8WUxwMgWdq+41V9Zl3ZkdxS3xpWE4Nq1adB02xCmjBW9XYDV+2XgRN\n",
       "66gu+Cp4krm42BvgBB4Th7B2Oilq/ddvUj6rOwWoRXRmxPI87OPupTeast3ADR9X/LQL7+C3YGHi\n",
       "9RH+IA/0pXUezBB4TpOHdzf3ue1jSNNRkEpkbnPlWNFHyMg1dkNuKwMCXoOvg3O5CLxrhyEN6cmE\n",
       "5zzoX4x45khCtAdZzFCWYlnTTmbHc7QbMCcmDZ+0lvoafBVcykWyWVvZZNqQeasV83qI+PC+sL5g\n",
       "bY0QxqIbQKzsht7bMzfscYCbc3CUzbfvJsnmomFTpjeHlZtdc26l6KJqZdAG2oPd2PcvZZMhtd05\n",
       "vwVXfipu+pLdu8oR4mui8TRYgXsLUbt8txtqt6Vog4aE7spmC67362jBzzi0uzsq3WQH7FHVjlna\n",
       "qIF+obtznt8f0tiNiV1u7Mry4PQhR61OF/yAQ8Wbd/QXzrDDR8IeeC4HAvlXbOxfOjk9f3YE+fyq\n",
       "1EV/AOJzGNRk1+99AAAAAElFTkSuQmCC\n",
       "\" style=\"display:inline;vertical-align:middle;\" /></a><br>"
      ],
      "text/plain": [
       "<IPython.core.display.HTML object>"
      ]
     },
     "metadata": {},
     "output_type": "display_data"
    }
   ],
   "source": [
    "exp_not_eq_zero = Forall(\n",
    "    [a, b],\n",
    "    NotEquals(Exp(a,b), zero),\n",
    "    domain=Complex,\n",
    "    conditions=[NotEquals(a, zero)])"
   ]
  },
  {
   "cell_type": "code",
   "execution_count": 11,
   "metadata": {},
   "outputs": [
    {
     "data": {
      "text/html": [
       "<strong id=\"nat_x_to_first_power_is_x\"><a class=\"ProveItLink\" href=\"proofs/nat_x_to_first_power_is_x/thm_proof.ipynb\">nat_x_to_first_power_is_x</a> (conjecture without proof):<br></strong> <a class=\"ProveItLink\" href=\"../__pv_it/theorems/b1640999ad53b79c9db71acbb3f2bc1fb3cfd4970/theorem_expr.ipynb\"><img src=\"data:image/png;base64,iVBORw0KGgoAAAANSUhEUgAAAIUAAAAaBAMAAABrxIKZAAAAMFBMVEX///8AAAAAAAAAAAAAAAAA\n",
       "AAAAAAAAAAAAAAAAAAAAAAAAAAAAAAAAAAAAAAAAAAAv3aB7AAAAD3RSTlMAq1RmmUTNIjK7EInv\n",
       "3XZ/CtNrAAAACXBIWXMAAA7EAAAOxAGVKw4bAAAB5klEQVQ4y52Vv0tCURTHv/kjXz41KQhapIjA\n",
       "KV2ChgijgtpcmhIyGqImG4tI+wdUigYb4lFQQ0MRFLREYxCBg0SLYBRB9IOgJWrp3Kf3pXVvVzrw\n",
       "eNf7vX4893vPPQL1xXYc/47e8kt7yYt1hxphi/CBhOHKKhk7UDAwoGSsKRleA/CzQZdkgetMyfAR\n",
       "YIQNZiQLHAdKhvsDWPnLmOaokoFpoJH2o3dI9IyhZowB9jBxZPqzZczxZ0my5omey2LxQsZoA5w3\n",
       "u6ebIo0Lk5TrKLAhY+Ron00B7Ccsk4tmsMPkQiYFzMPlrz7OwhH6+cQUMO7NIpkS8LmQJN+bDN1y\n",
       "P92+jk7dcHArC4CxH0XIEDC4QC/YSpaljlFWb6WIju88EDJtEURFMJOMU8nbh9J3wC2Tgt3LNQxa\n",
       "9+YW+MGFDDPrcI7aQyzsSbjNUgvqWxP8K+30XMD2oYvyqAjsXLBE1MV7NBvOsMlA5KHq7F3v8MX7\n",
       "RHepIvSzDw1sQwHEYJ/N5VaJsWcZRL/hzMPdKqpjLgxaM+cY1rSDch7OHj7riarb1LSV2Cuug+Va\n",
       "o+538/veSoPd20pifjyGsUC70q4SaODT2pmSYff/YJ7k1mtnWpQMb6LufioNdT+1qQypo6/z/xdp\n",
       "sKv1Bf2Zeywl/7VOAAAAAElFTkSuQmCC\n",
       "\" style=\"display:inline;vertical-align:middle;\" /></a><br>"
      ],
      "text/plain": [
       "<IPython.core.display.HTML object>"
      ]
     },
     "metadata": {},
     "output_type": "display_data"
    }
   ],
   "source": [
    "nat_x_to_first_power_is_x = Forall(\n",
    "        n,\n",
    "        Equals(Exp(n, one), n),\n",
    "        domain=Natural)"
   ]
  },
  {
   "cell_type": "code",
   "execution_count": 12,
   "metadata": {},
   "outputs": [
    {
     "data": {
      "text/html": [
       "<strong id=\"real_x_to_first_power_is_x\"><a class=\"ProveItLink\" href=\"proofs/real_x_to_first_power_is_x/thm_proof.ipynb\">real_x_to_first_power_is_x</a> (conjecture without proof):<br></strong> <a class=\"ProveItLink\" href=\"../__pv_it/theorems/d50f7b2395b80c5d317d29e075a91f6c1c9748d90/theorem_expr.ipynb\"><img src=\"data:image/png;base64,iVBORw0KGgoAAAANSUhEUgAAAIMAAAAaBAMAAABm2vLeAAAAMFBMVEX///8AAAAAAAAAAAAAAAAA\n",
       "AAAAAAAAAAAAAAAAAAAAAAAAAAAAAAAAAAAAAAAAAAAv3aB7AAAAD3RSTlMAq1RmmUTNIjK7EInv\n",
       "3XZ/CtNrAAAACXBIWXMAAA7EAAAOxAGVKw4bAAACBUlEQVQ4y51Vv0sjURD+kmyyuns+AlaKSEC7\n",
       "Q04sFEQ0oucP/MHigY2FAQvBwltrA2qromkEV0FSpDgVNFgoKEgaK1H8BwIJqIVoOlFSOft09yK+\n",
       "9YkPwk4yM9/O++abCfClozXjuydgvD5XHsR+RQ5R7xgNYr+akNYfk0CgXQZR3iiDqEgCYduo8wiI\n",
       "QwbBKP+3bUx6BAxIIbQisPAZKY9SCEwAIbqMHhG7y4pyiH7qPDEW8rrolWPN/j31iLmnz0U2e+7h\n",
       "9lFPtUL10oHIuZf/d0LVj9Mt+oANr54mbP3lc0OuGLP88C5GWa1CVa7OAzNQwyVpDYed044dIkcL\n",
       "OpKVIumbgaKPSJijEShP6oZDX94ymI6jtKObKDCPHjHVULh09ynZn3PZ7KaiGENrrqQK4NLjmj94\n",
       "2BzlIGbrvNB7bTJbzgRxFy2FCD5hR8QFxk2NqFw1yTyYokSzKhTZ5o3U1S1nMnwJaGu+DNKCGraN\n",
       "Guh47QjiBBrAVhn+cAhl09Uqy8D/nMoERcr7tTiIEXq28XfZt8ET0GxZVoQxfcQJCxahDefqm0RM\n",
       "pAr+Lhu68z/BGRVL/M0sOJZ0fj2TL6UJd6r1mELt5VzgOPpxUvHJpL5RfXN6B3WdrNHbdMpVwrJ8\n",
       "uYbff9+1LOP9kERkEBXml3cnvrs78VPil29w93/E6yjUgRe6cnJL9IRLbgAAAABJRU5ErkJggg==\n",
       "\" style=\"display:inline;vertical-align:middle;\" /></a><br>"
      ],
      "text/plain": [
       "<IPython.core.display.HTML object>"
      ]
     },
     "metadata": {},
     "output_type": "display_data"
    }
   ],
   "source": [
    "real_x_to_first_power_is_x = Forall(\n",
    "        x,\n",
    "        Equals(Exp(x, one), x),\n",
    "        domain=Real)"
   ]
  },
  {
   "cell_type": "code",
   "execution_count": 13,
   "metadata": {},
   "outputs": [
    {
     "data": {
      "text/html": [
       "<strong id=\"complex_x_to_first_power_is_x\"><a class=\"ProveItLink\" href=\"proofs/complex_x_to_first_power_is_x/thm_proof.ipynb\">complex_x_to_first_power_is_x</a> (conjecture without proof):<br></strong> <a class=\"ProveItLink\" href=\"../__pv_it/theorems/5707f44a310e7195856f785ff13d2add641e40ff0/theorem_expr.ipynb\"><img src=\"data:image/png;base64,iVBORw0KGgoAAAANSUhEUgAAAIMAAAAaBAMAAABm2vLeAAAAMFBMVEX///8AAAAAAAAAAAAAAAAA\n",
       "AAAAAAAAAAAAAAAAAAAAAAAAAAAAAAAAAAAAAAAAAAAv3aB7AAAAD3RSTlMAq1RmmUTNIjK7EInv\n",
       "3XZ/CtNrAAAACXBIWXMAAA7EAAAOxAGVKw4bAAACAElEQVQ4y51VS0sCURT+1FFzpkRoVYQIBS0i\n",
       "ihYFFj3oTQ+G2rRTaBG1aVoXZYsgKsqgoCkIoRY9oCLaBeKmVRT9AUGhNlHuonDVudaY0h1vdGGc\n",
       "45x7vznnO985A/xpyY3477KpX/f1V75fEkNUGUYt3+8MC+MPCiDQKoJw1YsgSiKAhxmVJhvmIIJw\n",
       "0/luZkyYbBgQQshpYLEQKW9CCIwDDkpG8fHdRWkxRD9VnhhzmCX6YFiz01GTPS903cXjtyZuC9VU\n",
       "TpWvXvKcZ8mja4o+QFn0AbtmNQ0z/SUTQ1kxxjMrU8V2t1eiKDdCwAycnrzot7zz36aDHE1oi5Ty\n",
       "pK/Z0hYiYYFawBVRVIO+pK7Km5p1z9BNOxBCD59qSBnpntNhayLLZhcFpZwBzTlRAPcmaRYn2O8C\n",
       "nUGQ6TzV+6i5mZwPlkgnuRD2d5zwuEBAk4nKDY3MyykiQCtz+I6Zo7o6pyJhyNuWGC44MRyrFVDw\n",
       "VRHMEagN+0UYZS6/P4fZGKwfhzE7T3l1K4MYoXtL5l0sG7wDjbqu+5bHfrbZ05CHE1UNPCYOU9ZO\n",
       "Bt3xQ3DMiVVmMDpl4+mNeCiNZ7taCUpUXtZyVxqivzsVBTr1m+qn6DOcO8w8ndwKGY/XxMPVk///\n",
       "VNfV/CbxiSBKtD/PTvx3dqJG4BdP8Ox3xGxJVIFPTGRwk+/gxqQAAAAASUVORK5CYII=\n",
       "\" style=\"display:inline;vertical-align:middle;\" /></a><br>"
      ],
      "text/plain": [
       "<IPython.core.display.HTML object>"
      ]
     },
     "metadata": {},
     "output_type": "display_data"
    }
   ],
   "source": [
    "complex_x_to_first_power_is_x = Forall([x],\n",
    "               Equals(Exp(x,one),\n",
    "                      x),\n",
    "               domain = Complex)"
   ]
  },
  {
   "cell_type": "code",
   "execution_count": 14,
   "metadata": {},
   "outputs": [
    {
     "data": {
      "text/html": [
       "<strong id=\"exponent_log_with_same_base\"><a class=\"ProveItLink\" href=\"proofs/exponent_log_with_same_base/thm_proof.ipynb\">exponent_log_with_same_base</a> (conjecture without proof):<br></strong> <a class=\"ProveItLink\" href=\"../__pv_it/theorems/abc23e2bb4c16f043f123098b31740553e18ee210/theorem_expr.ipynb\"><img src=\"data:image/png;base64,iVBORw0KGgoAAAANSUhEUgAAAP4AAAAmCAMAAADTJdYhAAAAOVBMVEX///8AAAAAAAAAAAAAAAAA\n",
       "AAAAAAAAAAAAAAAAAAAAAAAAAAAAAAAAAAAAAAAAAAAAAAAAAAAAAAACXHtMAAAAEnRSTlMAq1Rm\n",
       "mUTNIjK7EInv3Xbt5cmRiLwgAAAACXBIWXMAAA7EAAAOxAGVKw4bAAAD00lEQVRo3tVaiZbbIAzE\n",
       "IC6B1Zb//9gKfGHHR7xNbJe3yYsTBxhpRgdZIR4zQF62FBoUDxvQXLiYax+GX5lrl2sehd7Fi93h\n",
       "5ZPgm3D6K9JWF3Ra/vFB9JdpuRn06YC+eh46Hh1rDkb76ny7Dx8Xu9dn6WOTfYzy0ysTcR8+6KV8\n",
       "zpLZh6fAb7zYgE+KAuNCIAiyvqvtNU9g+Y9fhbOxTMWnwE9qA75nH2PbxekZQ2yXJ8lm05mMXMJp\n",
       "9vPXJglJdR/37Tp8VxjgSbRshtlNumOCKp+66p0zAQdqDZnbQoFak3mG3/GzAa5ScEZ9IUe3DVZx\n",
       "p+EDM8gN81h/n/SN2PO+ISb5Is+NYB1bqBjgNPkFpSpihvvKoNhswC+qtlyggHthbnFZFMH0OZ9O\n",
       "Vz4y8ayql7y5MfKtpCCElFEFKnFdp5RivlacCbq0VVwOpPkOnN44F3Kyx2ObR7wxC9aB3zaB7NKR\n",
       "1mP5RCjeZVwtc/BYu0jUoAsjzbGs2xHL/6QE/ozJSgYaInpkJ/plFaSLOhg7h+dB9TD3dn0JbTWa\n",
       "ui6mhvjT0exU7D08ne/RD67nxt8nYd+IFIe0LzKFQMCb5TadqL874HYHsJpfbM4xKBo1F112fNDv\n",
       "RYs2GGgMbcDdI2C3Aq709TqNi0Pa6ACG9YMkUCv2fIO7rs91lejK/iUdBz5Hjc8lGGXCBxtOw+/o\n",
       "5YjaPe9HXzSpvxVlIr3CZ+zqIGvAkHkod9YK+SkAQMsP/R78xg782YGPRY0q/eu52br2M894F4gz\n",
       "7eeUPyR/DJxYxiAy9hOkpmMF/gohHHt/PtUYqFfg2zHyYzEEV0Hy8xUoMnmbOIvX/bp2qDuwtVUB\n",
       "PvYTVVLJ5Ld+MMcO/HEq8Hn84ofagI9p5B4X8HwHnD+8eKvIQWD4Wr5knMYNHO+qSDHvJ7Sq4IMP\n",
       "XhyHvvlUE31W4IsI0yEGBWcbcp+Hzz0zcQZRshLdIsbEHNxqsXRMUKZ4MHedmfxhNGDYhj+bqqLP\n",
       "GnxzT7uxPGHDjNarKTb0/YQLota+1mEjz/iVqTL5f//xO+QXcM/BQ1huJWa9aoUct2b9xFQSdokP\n",
       "4Qj+NJWousoN+Crdcurql6WeZmlQUNntsu4nrO/FqA2ZwDICcwR/nGpmPRtMCvQa+27pNtPO+c58\n",
       "Qxgyew+rkXUNy8NW1MMN6PXOUa/+ER3X4R+30recOoadff3s3G8VvjwuYb9Y5u4UwB9XnP2GJ740\n",
       "6DHn3NkV7v93/j8MdbX7yYgnDXPtrww22kfBzy3Slas96uf97I8r/9/GK/G0Ya+Lfjjk2b+NRx6h\n",
       "NlazFQAAAABJRU5ErkJggg==\n",
       "\" style=\"display:inline;vertical-align:middle;\" /></a><br>"
      ],
      "text/plain": [
       "<IPython.core.display.HTML object>"
      ]
     },
     "metadata": {},
     "output_type": "display_data"
    }
   ],
   "source": [
    "exponent_log_with_same_base = (\n",
    "        Forall((a,x),\n",
    "               Equals(Exp(a, Log(a, x)), x),\n",
    "               domain=RealPos,\n",
    "               condition=NotEquals(a, one)))"
   ]
  },
  {
   "cell_type": "markdown",
   "metadata": {},
   "source": [
    "### Closure Theorems for General Exponentials\n",
    "\n",
    "Note, we use the common convention to define $0^0 = 1$ for convenience, but it is important to note that $0^0$ is an indeterminant form with no well-defined limit for $f(t)^{g(t)}$ approaching $0^0$ (i.e. as $t \\rightarrow 0$)."
   ]
  },
  {
   "cell_type": "code",
   "execution_count": 15,
   "metadata": {},
   "outputs": [
    {
     "data": {
      "text/html": [
       "<strong id=\"exp_natpos_closure\"><a class=\"ProveItLink\" href=\"proofs/exp_natpos_closure/thm_proof.ipynb\">exp_natpos_closure</a> (conjecture without proof):<br></strong> <a class=\"ProveItLink\" href=\"../__pv_it/theorems/fe1193367b5e5b6cb27d7b957f884baa433022fd0/theorem_expr.ipynb\"><img src=\"data:image/png;base64,iVBORw0KGgoAAAANSUhEUgAAAJsAAAAaBAMAAABSozPCAAAAMFBMVEX///8AAAAAAAAAAAAAAAAA\n",
       "AAAAAAAAAAAAAAAAAAAAAAAAAAAAAAAAAAAAAAAAAAAv3aB7AAAAD3RSTlMAq1RmmUTNIjK7EInv\n",
       "3XZ/CtNrAAAACXBIWXMAAA7EAAAOxAGVKw4bAAACpElEQVRIx62VTYjTQBTHX5u0SbNtLXuwrKIE\n",
       "RMSDkouCIqWigquowT0IXqzuYdGDxIsnP6KIHlRaFMQRP7IXQapY3IO4iNSTigg9iOJKIXsTVmUR\n",
       "RJRl8U0yM0kqTXNwYDIvmclv3rw3/xmA5EU9Cv+lbGDt8r4jZFaTlHSVGa/7DslhVRrJcPf5Yhdn\n",
       "nRgcVJLhrrO2OFOsRjoe/b7hwPMFk+EKOFmJGqviaEqbu2BItWjXtUwJtHnuXRFZO6gxEYeTW8zI\n",
       "23Ip2rXCmgJowyi5TYgB2h+AcwODuMTkBuT1aNdwI2tBh3sH4wBZXPCQHoer8/gXnE0siHe6Hzyj\n",
       "XFFqIdwogGQgMjYT38Q23ut6beY4n6CcsudCuK9Y33W7b2NxS+njxIsz4sNJsV3K0MiZAe4QduwE\n",
       "uBWLI9ShV3BPQILEleGCNtMRiqjbOC8opX9UeXq3Kb1k9mGsDw3YIyC1EE7S17bF61m6A50hU3yg\n",
       "qlRniZkuTcMu9u091n0An8WcGJ7uJ4aDZakA9xhBaTeUCarK7ehyuiJDK+TdG9B+8jFaI+QdTGqd\n",
       "wDub+k611qw8ZaosGlT15w+4IZy2CNK8+KsTxqluQK9b+HhyDMd/VH8xVT7wDhF7ejXHjWD3D0jV\n",
       "1vC/vov/b2L9EuBoZuEUZkKuqm2myjEfJxf5MLqb7sK6qpB/Vuz6IzSpQWa20EcKV5w3qX49VW4k\n",
       "hOhpW2vVQnNOzl1aaYvgjRz0jYsLOKUW4LaKnFi5zY6vysu+d7Df5co3e3di5hkTWU8Z50beqo85\n",
       "TU+VORoAyfSOm+iJMqjQE4XNt239FFzRqSoVGt+rE+wkpOluJ8RJPceXH+ImIdHlDSfEFaxoSJz4\n",
       "u2JQ6bkrpH43WbLgJb3JxD0bX2Rc3F/bkZ2AZUUu3QAAAABJRU5ErkJggg==\n",
       "\" style=\"display:inline;vertical-align:middle;\" /></a><br>"
      ],
      "text/plain": [
       "<IPython.core.display.HTML object>"
      ]
     },
     "metadata": {},
     "output_type": "display_data"
    }
   ],
   "source": [
    "exp_natpos_closure = Forall(\n",
    "    (a, b), \n",
    "    InSet(Exp(a, b), NaturalPos),\n",
    "    domain=Natural)"
   ]
  },
  {
   "cell_type": "code",
   "execution_count": 16,
   "metadata": {},
   "outputs": [
    {
     "data": {
      "text/html": [
       "<strong id=\"exp_int_closure\"><a class=\"ProveItLink\" href=\"proofs/exp_int_closure/thm_proof.ipynb\">exp_int_closure</a> (conjecture without proof):<br></strong> <a class=\"ProveItLink\" href=\"../__pv_it/theorems/a4bcf1ad41e75a9838abf8ebf61c3f5b1c3189c20/theorem_expr.ipynb\"><img src=\"data:image/png;base64,iVBORw0KGgoAAAANSUhEUgAAAKEAAAAaBAMAAAAtciEzAAAAMFBMVEX///8AAAAAAAAAAAAAAAAA\n",
       "AAAAAAAAAAAAAAAAAAAAAAAAAAAAAAAAAAAAAAAAAAAv3aB7AAAAD3RSTlMAq1RmmUTNIjK7EInv\n",
       "3XZ/CtNrAAAACXBIWXMAAA7EAAAOxAGVKw4bAAAC1klEQVRIx61VTWgTQRR+STbZzW42rBd/QSIq\n",
       "BAolHuxBSl1RIeIlUPFgCwZ7kBYPWz0JRaMUL4qplRS3KqzeYqAJ1aL2VCqCQcQcioKwkKKg9afk\n",
       "IkLx4JvdnUmWds1GHAjzMm/2e2/e+74ZgH8a1ybgP41Qxp4DlQ3dXOeIe5w5ltvQzXecuph1jPzq\n",
       "9g039HWKGE05xg/jk8sRPPd72LyXAtkAUMjCbp+IY9S4DT0uR/xWDrIRnBHuKFk46xPxODVewSF3\n",
       "S1SIp2axLGsAVzop6E9qNGDR5QhoUBQJyhBABE8uJfwBCmvU+hByklgxTdItESAdIP0/hgzDYkd8\n",
       "phivUWt81Z5PfmXRlHEyfcffG9N87RMxQNLhd3yuM/6NNGlgTJPpNB45DTDtlzzkqINalB0+ojFf\n",
       "V8iKk8ejjwKvtOZRfXJXbVEuvzQHvc6GCM7iC+DY4VvKlbXtyxmSrpShtVjWM7ImzRhUuTe3FWCX\n",
       "ZHCG7ZcxFNcAmYn6honDCh1PzAHgtjJiBess0hFMOQRXL1DlcmnC/roqQTPH2IT1lT2KLMUiYeAW\n",
       "zJE0PEvEWOp7ihy1nKpKlfuRGMm9l1oRy3U4yHBkZm1FRooN/IxUdhYbJr4XfjkRQ+dzjnItykJS\n",
       "ejhAa4wL5QRsDtKGxGnXBfUEumt2r2FMISoSFqDfcs5IVLlhK+ckqCsUYAHLXg8uNa/BM4w7I8BP\n",
       "YsBeKzLmFMugxnt0XU9AZR4e2coNDev6JCKWaKHDSBtx57PRLwzxQcFu2uBUVX9bxY4xuZe16AHj\n",
       "uvVVMgXztnKFip1juJtue7mOogP3zWzr/yFqxLR8vxEl8SQOwjWxYinXYv5+gOV1d4/nlczIHz7c\n",
       "/Rj4O2jt2/RtShEWLeVexHoI7zQIMP61fYcU9/+SrjtUC9oRn+sFt7DbXVKy5uU51ead8Rre70zK\n",
       "Y73r74Cdv4XsvfYY5AL4AwYMsRRFwNreAAAAAElFTkSuQmCC\n",
       "\" style=\"display:inline;vertical-align:middle;\" /></a><br>"
      ],
      "text/plain": [
       "<IPython.core.display.HTML object>"
      ]
     },
     "metadata": {},
     "output_type": "display_data"
    }
   ],
   "source": [
    "exp_int_closure = Forall(\n",
    "    (a, b), \n",
    "    InSet(Exp(a, b), Integer),\n",
    "    domains=(Integer, Natural))"
   ]
  },
  {
   "cell_type": "code",
   "execution_count": 17,
   "metadata": {},
   "outputs": [
    {
     "data": {
      "text/html": [
       "<strong id=\"exp_rational_closure_nat_power\"><a class=\"ProveItLink\" href=\"proofs/exp_rational_closure_nat_power/thm_proof.ipynb\">exp_rational_closure_nat_power</a> (conjecture without proof):<br></strong> <a class=\"ProveItLink\" href=\"../__pv_it/theorems/161f05f4b388c9a9c02efe29f0e5276074725d9d0/theorem_expr.ipynb\"><img src=\"data:image/png;base64,iVBORw0KGgoAAAANSUhEUgAAAKUAAAAaBAMAAAAkmYFJAAAAMFBMVEX///8AAAAAAAAAAAAAAAAA\n",
       "AAAAAAAAAAAAAAAAAAAAAAAAAAAAAAAAAAAAAAAAAAAv3aB7AAAAD3RSTlMAq1RmmUTNIjK7EInv\n",
       "3XZ/CtNrAAAACXBIWXMAAA7EAAAOxAGVKw4bAAAC8ElEQVRIx61VTWgTQRR+3U2a7G6yxpugSCRK\n",
       "BVFCBdEiIVLFarGuRvyhoNEeil5cxZvVrnpQSDU9qBhB3Z6kRmgwh0IFqQfRIoKCICiBzcGDPwcR\n",
       "qtBD8c3szDRps20SnMt7+97sN2/efN8MQFMjeBr+35AN1670yPuawFzL7BuPfGC4YUg1zfY+W7Zr\n",
       "z0g0jKnEXat/1pPzUvlcbjeaMK4VId+xejEHBLacrs7oq6zAhwJaBNxFAv31YnYzG7J8kepMsQhw\n",
       "6Bh2ZwbgSkONnWZ2GYSi1eQqYN2K7AD0AbTi/rVovbScYU7Y3sa8b6US6YLyBOvWLHT3IOGw6631\n",
       "lqm/5+A9jusc/u7a0SAGpGgXwE/8elcqva0Xs4WUdO7F5Tk6nmFOxo+1+ePtACdw4wh9v24qYeP9\n",
       "r+GR4GaryZzjMvYv6CCBshYuC4GqI8zfXm5WKvpStyG/5BA482kc9onJomsXJVrnV4BBVK9iawbv\n",
       "UjlnBJ6D1s4VTQJSZAL28qNBou8H+CIwh0o4CGsUt584cQzRJEcsthPL1s6DutlkiiYBKeGDQkWd\n",
       "U6BOC8xR0ZXH/NwH8R9IE4nmE+OgE+HdaANwHFfRNCBdPeJUYKqzIP8SmGHu+F1+YlOzpKBneHbq\n",
       "p+Bfd9GOuItJFE0DkjWxjmO2DIP6G0+/TZDL4V4n6ugA6oieOwxg1b5kcBJSJEfwSF1E0SkX06dz\n",
       "nemTAA9hY3Lu/jjFHY3oncS308WxASEDtb8ll8tFj7K9E0XTgGSpBX5f+FFHIz+ur7YE5sgdzqsL\n",
       "f852EbuDp8ZMpcPO0PXYGRFFZ9w64aDY4asFlO19UGIrrpDptD6eCZnZlK3YlD6gxSBPFU0D+Fro\n",
       "kfn3Uk2ROeX1Br2X2KY6NxUhcI9y/uNJC4aiRNE0cLOfXbKUj4upbM3dqTjIkQVXNRJ2/Bq60YpA\n",
       "ZS1L3mBhs+bTF+sx/Pbi75H38HiPbm0F2euXDUtANvFuivfda/hwg/8AMSW6UI3saY8AAAAASUVO\n",
       "RK5CYII=\n",
       "\" style=\"display:inline;vertical-align:middle;\" /></a><br>"
      ],
      "text/plain": [
       "<IPython.core.display.HTML object>"
      ]
     },
     "metadata": {},
     "output_type": "display_data"
    }
   ],
   "source": [
    "exp_rational_closure_nat_power = Forall(\n",
    "    (a, b), InSet(Exp(a, b), Rational),\n",
    "    domains=(Rational, Natural))"
   ]
  },
  {
   "cell_type": "code",
   "execution_count": 18,
   "metadata": {},
   "outputs": [
    {
     "data": {
      "text/html": [
       "<strong id=\"exp_rational_nonzero_closure\"><a class=\"ProveItLink\" href=\"proofs/exp_rational_nonzero_closure/thm_proof.ipynb\">exp_rational_nonzero_closure</a> (conjecture without proof):<br></strong> <a class=\"ProveItLink\" href=\"../__pv_it/theorems/caf99281ad644e74a812805bc69c14b2cb23fb980/theorem_expr.ipynb\"><img src=\"data:image/png;base64,iVBORw0KGgoAAAANSUhEUgAAAM0AAAAbCAMAAADoBftpAAAARVBMVEX///8AAAAAAAAAAAAAAAAA\n",
       "AAAAAAAAAAAAAAAAAAAAAAAAAAAAAAAAAAAAAAAAAAAAAAAAAAAAAAAAAAAAAAAAAAAAAAAeYafp\n",
       "AAAAFnRSTlMAq1RmmUTNIjK7EInv3Xah18O17eXJ8+7nKwAAAAlwSFlzAAAOxAAADsQBlSsOGwAA\n",
       "A39JREFUWMPVWIeypDgMxEHO1mb+/1PPcsADNkyonXl71AtAOSi0Wm2W5X97uX/PJKPsizM95L8e\n",
       "/VfaL2D3yF40RrO8GC4LUDzk1zjDD/sG89o6TG+z13Sr7ZeAXR2QtiKyFyoAckr1SlMDr1n6+GXF\n",
       "/hmjW/AeTJy36ZI5G4uke/sr/YoUC/Im5jUj3bKOAfF+Z3SYeCfU9SRkBCgdb0oMRc1szg2WUeTq\n",
       "VpRKv98beax5slOya/ISPtsOElpxuHpTkLby/I7uTVvqI3W0wvFFw/05h/ul5s7m4iCk/f5jM9I6\n",
       "C1A2yGdVa9DzD3SX9VjwCe1iH0a0MV0dfNa5GnBvql9bBhYkhq5PktYRtVzUB1KDcfBP4o6MQOHe\n",
       "4QQqU0dwvkhTHOww9CjrE+aaDBSLGD7RUpnaep9HPeFUrdwINKjxTv8FAYjPyRhy4gd/38jPFVQQ\n",
       "EtTtOm45MhFgcYEcw8K76gzGpmkEzR5vgJRFjRyf50BVdnGBjJJxMmDMlt9aR8oNJhbhcML+hWIo\n",
       "LR6uepdkrJueex0hQp0qRxasl+nnuFQsb+SaH0Zsm4L6dPUV93VzgSBXvCEcjkExyKwFCo7PpM9v\n",
       "VaOjigvuqBzbnJh89w7dSW6C7ZsfS35Ep9NHTjvLjan5HVWOlFUOek1+OCH04qWU377L1HA1oSSa\n",
       "g3Lc5iRoGK7FCdLcSruJdWJRnCqy3m/4Jf3r2moalTgv0OsuHdKYZFbmvwU7zmpu9F454q35cibS\n",
       "mS3e8MJvfKg8nNCVbFqAwWWDh8oqOtRcugSR7GJPuXDFRvIm5ebHT0m5yeFSe+W4g4nQfCL1S0tY\n",
       "bLKZx6m/ahJ933TatToVTQOyDSpUiYU+mgE1J8kXcrctmDhN6L1yhJvUuDL8JHyOoTea4cRfxywM\n",
       "5ablqtQq75yEBrkXoGpRobLutnyBHdKmnFKVY5+TwplIIJk2jA7wwMnF7pRNC/fdA4wSR46jpiaS\n",
       "EaZH9oYFjqfgvXK8mQPc0NLe3dXQD6uIFE3GDVwR9HG3QGUDwt1KA5OT5eenn9xJm3Lsc3wuCYiT\n",
       "hvLyCZxZFezFEUwM/R+k4JgZRFvTLY5SsTloDan5phy3OYKxVBlWTfQFe5tSj/ru6RUq2MxpUPjJ\n",
       "nAe/C/y9T0GPfxeQXEicWgnPilX+Hq3+1FnToJhD7flvCQLe4U0h2/8AMvgcAlRQSaMAAAAASUVO\n",
       "RK5CYII=\n",
       "\" style=\"display:inline;vertical-align:middle;\" /></a><br>"
      ],
      "text/plain": [
       "<IPython.core.display.HTML object>"
      ]
     },
     "metadata": {},
     "output_type": "display_data"
    }
   ],
   "source": [
    "exp_rational_nonzero_closure = Forall(\n",
    "    (a, b), InSet(Exp(a, b), RationalNonZero),\n",
    "    domains=(RationalNonZero, Integer))"
   ]
  },
  {
   "cell_type": "code",
   "execution_count": 19,
   "metadata": {},
   "outputs": [
    {
     "data": {
      "text/html": [
       "<strong id=\"exp_rational_pos_closure\"><a class=\"ProveItLink\" href=\"proofs/exp_rational_pos_closure/thm_proof.ipynb\">exp_rational_pos_closure</a> (conjecture without proof):<br></strong> <a class=\"ProveItLink\" href=\"../__pv_it/theorems/90bc2b27c3c43835f62f13f5c8b277ed220d19190/theorem_expr.ipynb\"><img src=\"data:image/png;base64,iVBORw0KGgoAAAANSUhEUgAAAL8AAAAaBAMAAAAUFZBoAAAAMFBMVEX///8AAAAAAAAAAAAAAAAA\n",
       "AAAAAAAAAAAAAAAAAAAAAAAAAAAAAAAAAAAAAAAAAAAv3aB7AAAAD3RSTlMAq1RmmUTNIjK7EInv\n",
       "3XZ/CtNrAAAACXBIWXMAAA7EAAAOxAGVKw4bAAADIElEQVRIx7VWQWgTQRT96e4m2d1mbW9KRSIV\n",
       "WhAlVhAtUiKtWBVrpB6sB430IHrQWMWLRaMeFFpMQSmuoq4naSs12EKxgvQiGkRQKIpKYHvwVBER\n",
       "qtBD8c/szs+mJk0TcWCZ2T+z/83/8/6bBfiHFjwB/6lJMaevK74kio9cMcA6t39dfMkAPoGBCv1r\n",
       "cTdFCzPWUgDQUiGAGnF647MRXTQ1Ypq7cgAhxK9hg/ryAHoJSIrnzxirk4H3aQIw0PtONjheHsBe\n",
       "t69OyjX5M2NjAAe7QDbNjHkTczkPcLmCw5hz+xVQHc7nbRojUiVbRADdAH5Mkx4uj/7z7iBkbXMz\n",
       "cy/7gedsGCPSk3EC2I2UxgPzlxeA8U4gddi8V065ZBoKoqEq3E4A3/B5m82+KQ/Ax3Z45sVFMpwX\n",
       "ZO1TcLtKpIkAjuIMwt0p4CW9BEvxY+UVPKAaII4ckTDZQbverWSAVBK3AoGaIqVepPlx/eMI7CMD\n",
       "cfVCFY/gK81cQk1RLT2WVyq3ahMEQHLmy4zfFZghHOwH+EKHjlnOfuKxOWewh5w9QddVNp1xcMaM\n",
       "BZ6D3pSLoM41hxL6qOWJIAPaHCkHsVx9RCxyI0iyAEkx2vBV7wFtc2K8bbotJuSMmSW4ctaTIm0B\n",
       "pB/kRrAKFKcOcqxPsWQ8PckS0zIBBpOY6w0Atk0pQjkzHOWJ0qn4BkD7iVxqEIbv5LAVK/lAVy7f\n",
       "jEXQi2FpH4O/YYiZmiNeACZnQ84V0JOkOpgCuA8bcoh+2rLOtMjDj+18Q/ilHA1OQSd7Y87ttABg\n",
       "csbNMKrTVwpW8sPZa2sIUVt1WAzP/Trd7mHMDjGojqHwbTFNM3zITVGa5IybIT0Jw2L1y8XEVZ45\n",
       "UoFtpWR7JrqJTgm12erjQfJDBo+ccbPSGIHJxWpasMztmUaivTZPESRSnZZqcU6CLq6HES5n3KzL\n",
       "oBBZ+pcSkrWDmQjd3VTCSuvGMQjc5l6nj4nk9oeZnHHzptrZQVrtW676hhJ/3XcY3cRVMoQ95gJ3\n",
       "cslW+E6W6ztcf0qxK3398vwXu8hubBUpLPVfVKLJuME/3QjF1elG/NQAAAAASUVORK5CYII=\n",
       "\" style=\"display:inline;vertical-align:middle;\" /></a><br>"
      ],
      "text/plain": [
       "<IPython.core.display.HTML object>"
      ]
     },
     "metadata": {},
     "output_type": "display_data"
    }
   ],
   "source": [
    "exp_rational_pos_closure = Forall(\n",
    "    (a, b), InSet(Exp(a, b), RationalPos),\n",
    "    domains=(RationalPos, Integer))"
   ]
  },
  {
   "cell_type": "code",
   "execution_count": 20,
   "metadata": {},
   "outputs": [
    {
     "data": {
      "text/html": [
       "<strong id=\"exp_real_closure_nat_power\"><a class=\"ProveItLink\" href=\"proofs/exp_real_closure_nat_power/thm_proof.ipynb\">exp_real_closure_nat_power</a> (conjecture without proof):<br></strong> <a class=\"ProveItLink\" href=\"../__pv_it/theorems/c7ed69624dda0fc4e06af948ef999c61b0102e480/theorem_expr.ipynb\"><img src=\"data:image/png;base64,iVBORw0KGgoAAAANSUhEUgAAAKMAAAAaBAMAAAAph/EOAAAAMFBMVEX///8AAAAAAAAAAAAAAAAA\n",
       "AAAAAAAAAAAAAAAAAAAAAAAAAAAAAAAAAAAAAAAAAAAv3aB7AAAAD3RSTlMAq1RmmUTNIjK7EInv\n",
       "3XZ/CtNrAAAACXBIWXMAAA7EAAAOxAGVKw4bAAAC6klEQVRIx61VTWgTURCeJJvsbjZZg4KQChIR\n",
       "sZeWQLFgKGWDf/WgBgse2oORHkpFSrwIgrQpFHsQTKhU3Ih1KyJIhAaLlnqQ0IM/iOChVKxGEyqC\n",
       "Py2loKKH4rzdfS+bNiFJ8cHum503+83vmwHY1BL64L+tfea+o/wxVz+iXTGJF+XP+WTdkPeo42sF\n",
       "raxAe92Q18xdXpAVK99xTv31gRx6UZOPcHbXiMhnTUIMOqIlJyLvc25LoS7EO0QYvTVCchmT8MQ5\n",
       "3zrIDCSHANx/AYbqCeqWCCXAE9gAecSFRA+AC52XAjVCJmhOvNp+M6i3cvMMUkTiKAY2iLC1ZmeJ\n",
       "lfrxvL47+7WilQ0TSPzA53Uu96pWyO3kdf7pAGNc0IqOC6MkJaeR0wGQqhVSJYY9h9usJnuLsXz2\n",
       "6SNhJ+KoFHhr8poeh/vJftlMGT/3CNqowBl8HgThGJOOFiGnQvrHIGZQ1CSaR6GgRmQJpkmp2Mjr\n",
       "qn8MdkkaR62aw+cEwHsWUoxa7p3peKqFEJMIZs+z7BxEo2UZQnm98rAMO8g1yCsSWKx8Ce6f9Nud\n",
       "tBTRsEg0D8aJ8eReptunQQ6CDvmN3LXEcgMsEuHGPQNWSPcaOFaY428skNwIUZCI4evhWRR8K/yG\n",
       "+3qhSfw4gV7SPhs2NEp3uumPfpRcBVt0L2UsWyDdyUUz43AJg88pQhY6dUjuZtJoEK3OoA4Jylf6\n",
       "Iym6cWhSWMtwBRikAi0ixrGNfNnQe08E73urqqoBWZZOGg0x7OhT1VGETLNgExMmvo/sjLNg+rto\n",
       "J/oTE6+vAoTp0WRMDGlXdCtlZzexfQVmhYxhpbOZinki6yvVOWNcSLZ6mGws0anpGcMieqK4M7Dg\n",
       "SBpXAEdDYUMnqrhIJzKVHWieAv4GUqe+ZO4eFmZhGCN/ER0U5mNgY3WYrQbpKO15kFZV0zO7oXJG\n",
       "HSuV2FoN0hurdNJVZfZUXJVnT7DShKwSzE1MSDbHK00SzPA/upOx7QHt6CMAAAAASUVORK5CYII=\n",
       "\" style=\"display:inline;vertical-align:middle;\" /></a><br>"
      ],
      "text/plain": [
       "<IPython.core.display.HTML object>"
      ]
     },
     "metadata": {},
     "output_type": "display_data"
    }
   ],
   "source": [
    "exp_real_closure_nat_power = Forall(\n",
    "    (a, b), InSet(Exp(a, b), Real),\n",
    "    domains=(Real, Natural))"
   ]
  },
  {
   "cell_type": "code",
   "execution_count": 21,
   "metadata": {},
   "outputs": [
    {
     "data": {
      "text/html": [
       "<strong id=\"exp_real_pos_closure\"><a class=\"ProveItLink\" href=\"proofs/exp_real_pos_closure/thm_proof.ipynb\">exp_real_pos_closure</a> (conjecture without proof):<br></strong> <a class=\"ProveItLink\" href=\"../__pv_it/theorems/debbf5c6811a59c6b86a51a3366f0e0186ec2a510/theorem_expr.ipynb\"><img src=\"data:image/png;base64,iVBORw0KGgoAAAANSUhEUgAAAL0AAAAaBAMAAAAQ4EBVAAAAMFBMVEX///8AAAAAAAAAAAAAAAAA\n",
       "AAAAAAAAAAAAAAAAAAAAAAAAAAAAAAAAAAAAAAAAAAAv3aB7AAAAD3RSTlMAq1RmmUTNIjK7EInv\n",
       "3XZ/CtNrAAAACXBIWXMAAA7EAAAOxAGVKw4bAAADDklEQVRIx7WWXUgUURTHjzu77nzotBQIGsRC\n",
       "Dz0ZA5KQhIy0Vj5YS1IP9tCGgVgh20sgRa4g+RC0g2J0jWwECcKoISnRhxAfSomghyjStkaMHipF\n",
       "hIp6kM7Mztw768d+GF24M2fu3PnNmXP+99wB+IfGt8H/afuc885NZ6jY/VvF+1THmN50ioY9qG2R\n",
       "f8+Nz+q8noUPtVvk9zlneVZWvePcBfLzQx/jl+LbQ5axuyB8cNIxBIWLZdwRgqHAjgHKlxFebxmt\n",
       "BfH9hmOUJPyhNXwDtC7wEzJD8DvEPwBdhSdiW9Q1oCS8jn+4mPoPLQDFGCMpXBA/6Sa1VN/vJOJO\n",
       "6i3lC4zfgDlR8B2FpXeRrq+jpn0OtOvM/4ohxv+O/VUq9bIwfpl1uPjsKh24pLP48L2tjH8abxwB\n",
       "GFjPkLLwieXyC7hLtd/K4v/800fdXb8YyQQ6AsHQBhrJwj+D/YECjXQgxvijNV7FdqISBF2KeoYq\n",
       "n9a1M/41R1m+ubNlpjvlDfZjAHM0DRji1HsnPgNVHtgjJPtMml5+nkRlCcYMyi+ypH6jvB9MQ7rs\n",
       "9X8GxB/utah59NkteEpGZ8L6OlomIngpy1BjSpHGSH16BeGrMENgmtxDD19cBW6ZYl57+P4ez2JK\n",
       "xvHw+BweRmrHQFbA5n9Vqf/JpQpYAJsvD7tPlSN/BYpie9yBJQ9f1BYY39IPXMH0iu/4X3DfXipS\n",
       "cFCh/EX9c/rrTaODPmepehAqVVrbisOUr0KVwNJ5wI6xFQOVn4Qmm++/rbH89kF1QLH5DeMZXg19\n",
       "69mVoAkob3br5++4cHOFzqxzjZIo1rpqQkhYlqXjTP/TUMe1EdKL8XkSZpPXKjYwnq4Pa1sLFVJc\n",
       "qNGv2/7LgVNMAcswxRvp+J+YWFc/czWrfjouxZNNuq0s1OeEE1jRgFlOS69u1CfNLz+ZJ5+jCzdw\n",
       "cO8oBG+hdfKLMXzI4UxBN0qjI2FVsPNihK7M7XnyS+OZ1yOEZITWl/6McdK/8f6bq+Xaf5s3+3/I\n",
       "LwE5ty0l1/9Pjn0U8/kX1k3HDvkIBewAAAAASUVORK5CYII=\n",
       "\" style=\"display:inline;vertical-align:middle;\" /></a><br>"
      ],
      "text/plain": [
       "<IPython.core.display.HTML object>"
      ]
     },
     "metadata": {},
     "output_type": "display_data"
    }
   ],
   "source": [
    "exp_real_pos_closure = Forall(\n",
    "    (a, b),\n",
    "    InSet(Exp(a, b), RealPos),\n",
    "    domains=(RealPos, Real))"
   ]
  },
  {
   "cell_type": "code",
   "execution_count": 22,
   "metadata": {},
   "outputs": [
    {
     "data": {
      "text/html": [
       "<strong id=\"exp_real_non_neg_closure\"><a class=\"ProveItLink\" href=\"proofs/exp_real_non_neg_closure/thm_proof.ipynb\">exp_real_non_neg_closure</a> (conjecture without proof):<br></strong> <a class=\"ProveItLink\" href=\"../__pv_it/theorems/8ddcd9d89191092b1b1943e99a184785823629060/theorem_expr.ipynb\"><img src=\"data:image/png;base64,iVBORw0KGgoAAAANSUhEUgAAAM0AAAAaBAMAAADmqcXNAAAAMFBMVEX///8AAAAAAAAAAAAAAAAA\n",
       "AAAAAAAAAAAAAAAAAAAAAAAAAAAAAAAAAAAAAAAAAAAv3aB7AAAAD3RSTlMAq1RmmUTNIjK7EInv\n",
       "3XZ/CtNrAAAACXBIWXMAAA7EAAAOxAGVKw4bAAADMElEQVRIx6VWXUgUURQ+7c46Pzs7bhpCCjHg\n",
       "c7IgCUnYSmt/QkwJQRhk+RBJxPgeuoHUQ8IOitUayQghhA9KRlYPsRSkFIEPRiFtjST9SIr0ULQP\n",
       "0bnztzOzu7TTHph779xz53znnvPdcwegQrmqFJ9nxvQu/HS2QoA9RretlJ3pEdK2wSmgKoEJxI2e\n",
       "T5ZaIYxiswjVMq1UgDNl9qnN+lJLghNA54AXcVP/L6Nmv6GuuY1fTP98byqDC0wOIjGIqABRMtHo\n",
       "G4bO2Hgtbg1LR0O142TEPZYQh9dAQJAOMnPeNw5lpX8R2r04s6BcIa60J0ncqkXgcgD6jP9EVUvm\n",
       "YAueFeIcqkKj25MmDwB6AaowdmHRN05KNQcrQdPJb9lsj43DArdDJm+bcBzbI5irGGL5p8GGNRja\n",
       "NPqT64791E8Cp5rn9Ci23/F5nc2+8o9TR8Ld8EWzedHniBsz4kn4GQQ9DDDuHyeNz2mZzVnvVXIe\n",
       "58XHD6onypiqfqCjXitcJ1k40CSXxDmLi54DtWTjOHgw14qJYtIoN825QWQNq4Ylh4HdD9svYRge\n",
       "IEQfkMQyF1waU5aR2lsQsYvbcBZFMeM23uzxagYRAprtC7OaloQwzOPX3JrEZeAlmW1wa+z98Ir+\n",
       "vSH3nLweYj1xGyQU77HLTwJfBQFaSXbpN/QSvDNOoltj4cxosN+2FHHiUNc8BzJFEnCfUGW6bR6E\n",
       "GOjW1rEUM50q7meBbOXPqurUGLITcUSoC1gZFDQHDqd8KuQbXEYacG+ZX8behTA9EYNQLdmonh9h\n",
       "RYg7NKbgiWC1wHL+ajmXx4lDMyu5cPbpNxXGhIozGejSrVG3FeBqyHCgkXjLxoI9eY3DQ27Xo/6v\n",
       "9sTkmGrV698ye+OHC8cugbyENbUFmSgKQviEaw2fpKKFGl7yMr37jlF3ikmvTTyZbVWv614LoW6V\n",
       "TiQSHVbFxJsqrymo1+UIZx9nXk51qTobkb1P4o5bHi+pvVCoYTI+cIJ2IQgdaJoD+haph59n7x7M\n",
       "LxkWmWNaMU2ND5yIp65Mp9MFYRdLaKZ84JTxfxBSS/3vlJ+gcq7R4L/+38q549HXv13d21BS8l+/\n",
       "AAAAAElFTkSuQmCC\n",
       "\" style=\"display:inline;vertical-align:middle;\" /></a><br>"
      ],
      "text/plain": [
       "<IPython.core.display.HTML object>"
      ]
     },
     "metadata": {},
     "output_type": "display_data"
    }
   ],
   "source": [
    "exp_real_non_neg_closure = Forall(\n",
    "    (a, b),\n",
    "    InSet(Exp(a, b), RealNonNeg),\n",
    "    domains=(RealNonNeg, Real))"
   ]
  },
  {
   "cell_type": "code",
   "execution_count": 23,
   "metadata": {},
   "outputs": [
    {
     "data": {
      "text/html": [
       "<strong id=\"exp_complex_closure\"><a class=\"ProveItLink\" href=\"proofs/exp_complex_closure/thm_proof.ipynb\">exp_complex_closure</a> (conjecture without proof):<br></strong> <a class=\"ProveItLink\" href=\"../__pv_it/theorems/1c66acb54ed1794a27f62365a6d0148cdc9175f90/theorem_expr.ipynb\"><img src=\"data:image/png;base64,iVBORw0KGgoAAAANSUhEUgAAAI4AAAAaBAMAAACTJHluAAAAMFBMVEX///8AAAAAAAAAAAAAAAAA\n",
       "AAAAAAAAAAAAAAAAAAAAAAAAAAAAAAAAAAAAAAAAAAAv3aB7AAAAD3RSTlMAq1RmmUTNIjK7EInv\n",
       "3XZ/CtNrAAAACXBIWXMAAA7EAAAOxAGVKw4bAAACjElEQVQ4y6VVTWgTQRR+yf5vkjUH8WClLCj0\n",
       "IEq8FIxQI/5UFGKkIEI9BA9KPW3Bi1BEQUVIoBGjuNXCSE8ScEUFPUlRhIIIHoRCYCEBoSpYehFF\n",
       "UHyzmRl3bbKJOLA7782b+d7/DMA/jGs1+K8hlTpz4lF3eWFAnG1sTl/qLr8wGIxZZsTs6ubu9rYG\n",
       "wjFyjPhCPvwlasyfWakANAGylN0aizPDiZswGpVYW3LmsTpAG+Ag5c/G4hzlxBLsi0qKk+gU4ngE\n",
       "LiOrxefzKyfW4GVEoBfm8L8RQM2BSgBSdhyM/oNTTYkp/OT7NPYJQvkFALkGEgZRjTXHesepK6ud\n",
       "+cRnlgCNVY61CPDW99/E4iSoam1oRSRXO8eIaZ0VpoImHwaYi087Nf6UYwj3VIcRFYVVhP4dQUHL\n",
       "ilBMCWfqwxf5MRSbr0AW7okwnFeYjRqmwiCpktA9RMHabsm84STvsrUMBkFeg4xorqqPoxbEh62Z\n",
       "iJNshcK8hN8B7KLUQ4A9IXvSNfCEtgfCY8Lyp6FfUB6jBT72jJryq00s6vPCVRSGcLwW7BXKMpxQ\n",
       "gvpR8Nw3nB9j+M3lgLSaViHQNjISyhcq9WzYlOThtUTmisfxd6iTL5hBfXJBXww6UipP0A35fKh+\n",
       "UGK0ku9lsXJaiG6PmzswfBI9nMB4pEtWNrhg5Oyo67r29ZN/cKgyc/j59Eexcv8W4f1+7+c4TjLP\n",
       "uOcYeZRtgLRdoTyNs8mPvV5XUpPzfjnMq/xmSTuzE6QBGbIbk0AT8NSBF+v6vefwuH3K/p1PoGrr\n",
       "xRZodwKDp+riEq32xdkVZTtt33DdUrTB7H44yxFOIX3u557vSfR+lnrt294HZ8D3QrxfvcYRgN+/\n",
       "l5RbTU4AugAAAABJRU5ErkJggg==\n",
       "\" style=\"display:inline;vertical-align:middle;\" /></a><br>"
      ],
      "text/plain": [
       "<IPython.core.display.HTML object>"
      ]
     },
     "metadata": {},
     "output_type": "display_data"
    }
   ],
   "source": [
    "exp_complex_closure = Forall(\n",
    "    (a, b),\n",
    "    InSet(Exp(a, b), Complex),\n",
    "    domain=Complex)"
   ]
  },
  {
   "cell_type": "code",
   "execution_count": 24,
   "metadata": {},
   "outputs": [
    {
     "data": {
      "text/html": [
       "<strong id=\"exp_complex_nonzero_closure\"><a class=\"ProveItLink\" href=\"proofs/exp_complex_nonzero_closure/thm_proof.ipynb\">exp_complex_nonzero_closure</a> (conjecture without proof):<br></strong> <a class=\"ProveItLink\" href=\"../__pv_it/theorems/7a90dd8932f9de7a10133945b0bc2a6cedba1b0e0/theorem_expr.ipynb\"><img src=\"data:image/png;base64,iVBORw0KGgoAAAANSUhEUgAAAM0AAAAbCAMAAADoBftpAAAARVBMVEX///8AAAAAAAAAAAAAAAAA\n",
       "AAAAAAAAAAAAAAAAAAAAAAAAAAAAAAAAAAAAAAAAAAAAAAAAAAAAAAAAAAAAAAAAAAAAAAAeYafp\n",
       "AAAAFnRSTlMAq1RmmUTNIjK7EInv3Xah18O17eXJ8+7nKwAAAAlwSFlzAAAOxAAADsQBlSsOGwAA\n",
       "AyRJREFUWMPVWImypCAM5L7J3v7/py5BkBHQOWqct2vVe6UOgYR0Oo2E/LeX+wd9Msq+Zuhl/u/B\n",
       "f6X7XO6f6WveaJonA0Ikbof4mmBYv24wL81D9Wa8pFttvwTsqkfaAkCfLwGZM6oXtAysZOnjl+Xd\n",
       "C4iOwD2cOG+jUqBNikFYvH6lP562AqOJec6It7RhgF8fjA6z8Lg6twIa0ignFlvDBl4Sm3MD6yAs\n",
       "n60olb4+GjGUPCJf0HMjWHFFeI3GlSpZkbaw/A7vTZ3pI3W0yOFNBf4xhwtiS2FRsSLt9x+bkdZY\n",
       "ALOB+VJlpGcfaC7LUO8J7ny/j2Bjuhr4EkfUAa4AbMslIEOXJ4GjeCkX9YHUQJzsPOzYSCroIrZE\n",
       "dyxh24jUPUV5glyTAbcihk+0VKpa8/OgJ6SqlRvbpNn7xuZkLHPihenivZCfK2RkSFi3I+4mVJRC\n",
       "kXu2VUcwNlUjaPpw/8ON0sDgBQpUZRWHjEtEnIwYsyWI3CWDyQP2XykG0+LlCdqtoA0WGcOIB3Um\n",
       "HPc2W8mXAhBLfhrBbVbYp8ve1s1DVeDWaBCH454YoNZK5HaURMz6G9HosOCCG4Tjgc2Qm2Db6nuP\n",
       "Jm3CNk4778yLKekdVY4QRQ16l3/jnnghxLfvIvVbjRiJpheOE5tpNG7Bn/kycWkCPtn6DZGn9K9L\n",
       "q6lM4jwHr5t0QIo36xS64azkRnfC8cjmhtNsiYatBMeG2gOYaoHaUs7aiCykokOtzqjXEFvGmd6W\n",
       "TLn58VNgbjIwVSccpzadr0Wm2eQzS0U0UZuKzQpXCU0ci6fqlFcNSDeoYCFinBsncscbj7o6XeI0\n",
       "rjvheGAz2z5HwRtNYXK0cdRKN9HQYYninEUHtRdk0aJcZd1tGTFGtjXF1MkiHA9shgXuH13sTtk8\n",
       "TP+85zjsady52+5bKho/KvC5L0U4zm3uaej3nQOHXhywbCTCpEkD7XOGPRy20iocH7Ax4brvDXQk\n",
       "Q87A83w+MM3jBCExh45BMV+F4yM29DKlHvX54dXmTnjvq8VzNu4qqf6W7wLyWbHKrqmc95w1n/+W\n",
       "wOUV0axs+xdfehqwpUcHyQAAAABJRU5ErkJggg==\n",
       "\" style=\"display:inline;vertical-align:middle;\" /></a><br>"
      ],
      "text/plain": [
       "<IPython.core.display.HTML object>"
      ]
     },
     "metadata": {},
     "output_type": "display_data"
    }
   ],
   "source": [
    "exp_complex_nonzero_closure = Forall(\n",
    "    (a, b),\n",
    "    InSet(Exp(a, b), ComplexNonZero),\n",
    "    domains=(ComplexNonZero, Complex))"
   ]
  },
  {
   "cell_type": "markdown",
   "metadata": {},
   "source": [
    "### Closure theorems for sqrt and sqrd"
   ]
  },
  {
   "cell_type": "code",
   "execution_count": 25,
   "metadata": {},
   "outputs": [
    {
     "data": {
      "text/html": [
       "<strong id=\"sqrt_real_closure\"><a class=\"ProveItLink\" href=\"proofs/sqrt_real_closure/thm_proof.ipynb\">sqrt_real_closure</a> (conjecture without proof):<br></strong> <a class=\"ProveItLink\" href=\"../__pv_it/theorems/ec93eb13788fa2d9c7843cc98fa631a1a503152d0/theorem_expr.ipynb\"><img src=\"data:image/png;base64,iVBORw0KGgoAAAANSUhEUgAAALsAAAAZBAMAAACbakK8AAAAMFBMVEX///8AAAAAAAAAAAAAAAAA\n",
       "AAAAAAAAAAAAAAAAAAAAAAAAAAAAAAAAAAAAAAAAAAAv3aB7AAAAD3RSTlMAq1RmmUTNIjK7EInv\n",
       "3XZ/CtNrAAAACXBIWXMAAA7EAAAOxAGVKw4bAAADDElEQVRIx6VWTWgTQRR++dvd2STbiF70IAEL\n",
       "HqQaLHgIUhJs/UUarQjqwUIPgpSyXjwVm4LQg0JCiz8bMW7Bi8bSYMBSD6UXjSJCT4o/0RTBgxHR\n",
       "Qq3mUH0z2czu1jRt4sKSN7Nvvnnzfe+9CUBTjyu2to8bmn5auZX4Q59aPmKyWXS5l5s3V/fqaBae\n",
       "hKqW9G+Irn7t5/sxNPw6QIDObGsQfpBbjhoiEDHg2ZgCUBC7i06caxD+CLcu1jqbmIXkMFJYBhhu\n",
       "RoRFbnWtAn9AQKMPQECCvMHG0KVyDY2RjNuFVxyeoHEIhUCVhAaDV+Z4blsC8wzoZvRbxtH4iu/L\n",
       "QuFFg/AOHvMEvhdmLlVk0E1ypFEq51mcOQiQarDoCNcqh0Hn4Y5uyw8iPv34gU4l4rg5iAHL0rZH\n",
       "0YGKk0n1NfbjnckaEwJd4KQpiSw9CMFRNttrwufCbDCELkT3VnNXmtdiihemsnZ4yIxWivCUMfZH\n",
       "KLGIoBQBugHescXIcuGNQU6qnRqTCOwscmU78TCKAuHiCnhQaBE+gxbVjF7K/MJ9cPAcZJanctKS\n",
       "mJcJJWcoTg9Fe0OmYwoUWuoI/yViwsu5EsV0pUEsgy9oIUf+wbqKvAyu72x2zgLvHqGbJejSh+fR\n",
       "6bW0BPdYoF4xHTLhJ1TmA648JrvfaDUOFmi3Cm9x5QIm0nY6/maBl5OfjMyBQYzFHZFmoYfBu28l\n",
       "LdJ2wlV2iOkYwvuKBlezTLiIk4qUhrYIO64Q5PARaCfI+14WCzLki2H/2aNpWlBRvMct8E9gnnaN\n",
       "aJyS02IAeFjVkjKteBgvjWyNsxA2n652zN8qub4AEK2eZ1IlYf0Ki0zxnNE5vLwEY/dB3BC3SYub\n",
       "0k2WW+3l4JmuNAX+9FUNn5ro0ZnamJiPLdLmpcWwvEmtcHvM3jH712i0Mm9Nnn07cyDSm+fk5+zd\n",
       "/Sb8id2lkKwbZXW46s70gF2BNS7kFd8zmmbeDqRe02EiCGp9eH+972R9dy00eddaeg5mlHbD9nHH\n",
       "OtDrX1Lif//PQcn+Ap87vj4z0Vu0AAAAAElFTkSuQmCC\n",
       "\" style=\"display:inline;vertical-align:middle;\" /></a><br>"
      ],
      "text/plain": [
       "<IPython.core.display.HTML object>"
      ]
     },
     "metadata": {},
     "output_type": "display_data"
    }
   ],
   "source": [
    "sqrt_real_closure = Forall(\n",
    "    (a),\n",
    "    InSet(sqrt(a), Real),\n",
    "    domain=Real,\n",
    "    conditions=[greater_eq(a, zero)])"
   ]
  },
  {
   "cell_type": "code",
   "execution_count": 26,
   "metadata": {},
   "outputs": [
    {
     "data": {
      "text/html": [
       "<strong id=\"sqrt_real_pos_closure\"><a class=\"ProveItLink\" href=\"proofs/sqrt_real_pos_closure/thm_proof.ipynb\">sqrt_real_pos_closure</a> (conjecture without proof):<br></strong> <a class=\"ProveItLink\" href=\"../__pv_it/theorems/cd74a8eec346533bda25f89d4d6a47751c0659750/theorem_expr.ipynb\"><img src=\"data:image/png;base64,iVBORw0KGgoAAAANSUhEUgAAAKUAAAAZBAMAAACiDfPnAAAAMFBMVEX///8AAAAAAAAAAAAAAAAA\n",
       "AAAAAAAAAAAAAAAAAAAAAAAAAAAAAAAAAAAAAAAAAAAv3aB7AAAAD3RSTlMAq1RmmUTNIjK7EInv\n",
       "3XZ/CtNrAAAACXBIWXMAAA7EAAAOxAGVKw4bAAACrklEQVRIx42VTWgTQRTHX5PNfiZDQPSgIAH1\n",
       "JEqh4CFITTX1AxGCBS8VDHooiMj2XtCCIGohi6K4EXULIkgPCRaseLEgBkQED4IXV1cFP4pIFbXY\n",
       "i76ZdHZn03Q7AxteZmd/+3+fCyCx0hWZU1DCSwHJtZkb+j+65lc45uClOXJIs8ot42zSOYbrl2Ma\n",
       "vdy60CUup9w/b65EzJwHkKfGpkTmWGit7fZGLZ9ZUw+ZBIGD1BhJZB7khlbtymyCMw6K6z5zUa+5\n",
       "CDC+emB/c0OprMDcp4Y64QSAiv5bhSSkvsitu+L2V9+vhkwjYh7AGGMC1ESZ5CW3dgu7R+YEnesn\n",
       "I+Y3vF74/vNEZg+PoolwbcPngIX2pOC7fnkkYh5Dx/cD1JeDLCFgPNoWunTUNlgoVDtitt699Xgf\n",
       "AdSwhkdByy9nCj2m0ttbaOmh1CegsFCoQo6mi2I9nMFEGp4lpnPbg4HTcWYO309aaHzH7XnINenm\n",
       "hI/LWfK93icAGkhLBeE79fduhVgw01ym8+Jj9AgFZh32DMA9sZbOGZ6gk/ZvNWzRMv4lBIqBVT5U\n",
       "Hoz53shDGpPTCGBXW7zIVM4LBV6jkb5PUzjVPwOE9jUy50oxnT30AWWBdXKjAOtS9CESCEzT+Rgd\n",
       "p3mHMdRhvtYX2v4QS7vVG2OSWVo7v2ArBQSpV+1bxyNmCfqMKCU7mQ70WCnpszDECMoNJ56jDCue\n",
       "2x51x9z4cPQL25286vG59Nc2rv0Mjw9wI1vBebLDdd0CIdbheH3CU+bSh1K82oZv+t1GCu33pQKw\n",
       "jaJ3iekkmWGvy1xSW7bcAA+nQ9auDXmsIrCWHnUomqA/qR9yAzwdNlBmz/Zp0K7T2fCpeWdvR8MX\n",
       "Vp+xUYd0uDPlupXE75HEkvwesSqSXLLfTdnvO5s9mJP/cBumHaS6n+kAAAAASUVORK5CYII=\n",
       "\" style=\"display:inline;vertical-align:middle;\" /></a><br>"
      ],
      "text/plain": [
       "<IPython.core.display.HTML object>"
      ]
     },
     "metadata": {},
     "output_type": "display_data"
    }
   ],
   "source": [
    "sqrt_real_pos_closure = Forall(\n",
    "    (a),\n",
    "    InSet(sqrt(a), RealPos),\n",
    "    domain=RealPos)"
   ]
  },
  {
   "cell_type": "code",
   "execution_count": 27,
   "metadata": {},
   "outputs": [
    {
     "data": {
      "text/html": [
       "<strong id=\"sqrt_real_non_neg_closure\"><a class=\"ProveItLink\" href=\"proofs/sqrt_real_non_neg_closure/thm_proof.ipynb\">sqrt_real_non_neg_closure</a> (conjecture without proof):<br></strong> <a class=\"ProveItLink\" href=\"../__pv_it/theorems/5c88c3fffdc5faadb88061f2ef44a65f7cce7ad40/theorem_expr.ipynb\"><img src=\"data:image/png;base64,iVBORw0KGgoAAAANSUhEUgAAALUAAAAaBAMAAAADNwChAAAAMFBMVEX///8AAAAAAAAAAAAAAAAA\n",
       "AAAAAAAAAAAAAAAAAAAAAAAAAAAAAAAAAAAAAAAAAAAv3aB7AAAAD3RSTlMAq1RmmUTNIjK7EInv\n",
       "3XZ/CtNrAAAACXBIWXMAAA7EAAAOxAGVKw4bAAADGklEQVRIx61WXUgUURQ+rrs7P7s7LUVSBLEg\n",
       "9RLJQiQoYmutZfgyJfRi4JYPgWDNgi+RqD1agQMhtUU5UgTqg1KRlQ9JgWFRCBn1sjCF9LNZWASC\n",
       "EHXOXfbu7M7WzEIX9s6ZO+d+95zznXPuAvzHMaiyx8yXMvftdqEjP4jgXGn6dPCWAe2J5STxN42V\n",
       "0mqfowDBAVgFQXePfYtL0sC/9OpM6DfgMUCje+yL+aDaP9bOj3TPR7NygzZkwCuAkAEQpoVqJ2hh\n",
       "losbS3zWk3CoziBpYhgQ+yWAgsDNtHLCCds7xU9JlMI+A5JIVvZsAorJD+R1DeAs6TsGfp3KT1FL\n",
       "Y3s1PDSJ0FkuAToB/OhKIOKEPWTYSaW0SKcTHFuH0QP0opg+cuEgZiNy4Hek8iuX9lpWj2TydleM\n",
       "h2E8+zazRJYs4+9FOv3cEbuKl8cChnDLR5OFvssSk8HtWuGWDjygBeCKI3YqJwTQzaOatEayn6Pp\n",
       "vd2/MsVhxDpIghC2FW8redVXwzcfo2kb/kL48Ql4Fxi2hctdxMNgCkduTz+SLhkBK/U77zWdRHfv\n",
       "okoX8HxbJI7mcPqGmbICIZaSF9I49Cy2dCNaZN8konpMfr74LqUqAZjGnfKSKs/CM6vd5x6hl2hw\n",
       "UGf7AMYsdoux4sD2U29I8NKP46uiQD0xJbwWFuBtQUwmw9jj8GHCHrYYsuZ3y+nieFNwbhPdE43T\n",
       "oJBbiJ3Bnie2Gmj305ziZlY2q6xLTEagyqOxRLZgjylRe55AL1IpvxFXsz4qAeF6FHwbyKF8vJdZ\n",
       "zv2EHdQITc9itj0f59g9WCfDhdgNNFVgJLwxcRbaGLb3qg7yehL7qrUCI2DEIBflrfeTn9jq6LCR\n",
       "64OXIHWqsLqbckJQxb5VixkUUZTAYXt+Bxl5He9jhcvt19KJv5VEJ08YTao3zjO7FV+7IcTj8WZ7\n",
       "H/TPaa4bvrzG7dKG2gzJYPGGhzGbpsj6t+e7+8ukkhekb1/NHRAuU//5MHVzv12VEeDc5/MjVOTi\n",
       "RCqlOt6XLkcZ96Vnqjzocu55V/9PrOQjd38ARmzPLHfsABEAAAAASUVORK5CYII=\n",
       "\" style=\"display:inline;vertical-align:middle;\" /></a><br>"
      ],
      "text/plain": [
       "<IPython.core.display.HTML object>"
      ]
     },
     "metadata": {},
     "output_type": "display_data"
    }
   ],
   "source": [
    "sqrt_real_non_neg_closure = Forall(\n",
    "    (a),\n",
    "    InSet(sqrt(a), RealNonNeg),\n",
    "    domain=RealNonNeg)"
   ]
  },
  {
   "cell_type": "code",
   "execution_count": 28,
   "metadata": {},
   "outputs": [
    {
     "data": {
      "text/html": [
       "<strong id=\"sqrt_complex_closure\"><a class=\"ProveItLink\" href=\"proofs/sqrt_complex_closure/thm_proof.ipynb\">sqrt_complex_closure</a> (conjecture without proof):<br></strong> <a class=\"ProveItLink\" href=\"../__pv_it/theorems/bc38e711c9a3f68083ce453055faa85b0032d0af0/theorem_expr.ipynb\"><img src=\"data:image/png;base64,iVBORw0KGgoAAAANSUhEUgAAAIsAAAAZBAMAAADzmcCEAAAAMFBMVEX///8AAAAAAAAAAAAAAAAA\n",
       "AAAAAAAAAAAAAAAAAAAAAAAAAAAAAAAAAAAAAAAAAAAv3aB7AAAAD3RSTlMAq1RmmUTNIjK7EInv\n",
       "3XZ/CtNrAAAACXBIWXMAAA7EAAAOxAGVKw4bAAAChElEQVQ4y41VS2gTURQ9+WcmTcjGjYsSUOlC\n",
       "lK4Eo5TxB4qIgYoIggYriC5kCi4ES1VQ/BUSoYJT0U5VBImYoIK4aQtiRUR0UXQhA6ngwg+iohS7\n",
       "UO99mTeZgZlML7yZ8z5z373nfgboKLESQiUefmS5BOmpfyx+Z1LVMC1qWSLlVPCpvjA1Sq9EF3xv\n",
       "efL26PEGsiaQ5/myADVDDlritz33FLf/aMiRji08PxSgZrvjf9mP248NYK0GdQE43Ymk384XfhE7\n",
       "o5A3EQ0YAJIEMwV/LekFie64lz9ZljBuqcL8EH3bKDPolQwwJvdGoo2u1d2fbVA9ZoOvNF5Z1ssA\n",
       "NRHJiMr6BieHBU1HJF/5SzbaTx5tBcaC4i05y5DJiecYp+NI6tLlRr+NKpRUg6TW48lo97ANk7yx\n",
       "gkaWxr1e7BCLTvS0fTY6SQFQzIwMQ3rOKKmX9eg1e56lKORmCHyjsRN4z4sjFokws3rCPlcnBdGm\n",
       "o38zGZe5D6xzWXNxihaZmhdQRfzvOnaPKdIarpQy10St7zFynPq3zpK5bqfqecSaxPJfxL7DdrAl\n",
       "uzhvQJZUmK4HRL36Lj3fuqenxxUptj0+L4pG/UmB471cs53FdE283IoUhniipachiC8WXWxPM5O/\n",
       "sJInN7BK0xgcaOfhQf3mLL3XizvJs64S1dcawzAK5/e01SREFo+bIlMmvpzrFt1i4orpVPjrWfZn\n",
       "g/ygritFU2QTU6zK5WciuT5o3nTae93yVuqABF16pd8UjKUe6Zj0VHhyRg9pbk7pJTatfojUVYa1\n",
       "w6NOpxvhR/RHSHOL5b3zmmF4G0Kk0KkbScnqi+7FnSS0F7dCHSLhf4bF/acoMv8Bp0aWGQOnDhkA\n",
       "AAAASUVORK5CYII=\n",
       "\" style=\"display:inline;vertical-align:middle;\" /></a><br>"
      ],
      "text/plain": [
       "<IPython.core.display.HTML object>"
      ]
     },
     "metadata": {},
     "output_type": "display_data"
    }
   ],
   "source": [
    "sqrt_complex_closure = Forall(\n",
    "    (a),\n",
    "    InSet(sqrt(a), Complex),\n",
    "    domain=Complex)"
   ]
  },
  {
   "cell_type": "code",
   "execution_count": 29,
   "metadata": {},
   "outputs": [
    {
     "data": {
      "text/html": [
       "<strong id=\"sqrd_pos_closure\"><a class=\"ProveItLink\" href=\"proofs/sqrd_pos_closure/thm_proof.ipynb\">sqrd_pos_closure</a> (conjecture without proof):<br></strong> <a class=\"ProveItLink\" href=\"../__pv_it/theorems/1eeb6becb70c3f00131cd72b7f50863144a70adb0/theorem_expr.ipynb\"><img src=\"data:image/png;base64,iVBORw0KGgoAAAANSUhEUgAAAMEAAAAaCAMAAAA5ZchCAAAAOVBMVEX///8AAAAAAAAAAAAAAAAA\n",
       "AAAAAAAAAAAAAAAAAAAAAAAAAAAAAAAAAAAAAAAAAAAAAAAAAAAAAAACXHtMAAAAEnRSTlMAq1Rm\n",
       "mUTNIjK7EInv3Xbt5cmRiLwgAAAACXBIWXMAAA7EAAAOxAGVKw4bAAAC5UlEQVRYw9VYCXYaMQwd\n",
       "75Zkq63vf9h6GWbVACGQvjovBIw11pe+tkzTP1xIpBRO/9MybvfRtt/81YfY05ufW/pwZ6mAQolf\n",
       "fArc3gT4cdL4o0vwWwgmwz+MAIywSfdYZHwCKD6nrejG8rkFkVp9bD4LICRhM2Z8YPBQNXTKAAoI\n",
       "uGlvl+Dy4bMILAmoAB9RJlD/E7uyUFdqL8PaWKp4VD8VF8WdAdTQDuEJBDZMXvDB5BsSP1uB9GcB\n",
       "xIJnD8QY7W6bIdflBQQgIbDtg5np7z/sAj6HbCptbTacZxR9oBCVhIB7bKWGOif6MAK1mCgo4iAl\n",
       "wuBRZlEEvUbpFoHrjrU9IcPz1f1uLbx8DNxudqkqA0U4KOSSiiD5XPLGN3ZHzdhNcnsR62gmb5Vn\n",
       "saQI6b2HKxGfXOrnGzCZq2bCy5FsDF5RPIz00MxPp0QRWQHUXZ6qMhToKQTDEK1WuuOpPNvOduJn\n",
       "gbRx8Lku2LMI0FzUKhwINAvwrZ2rPdefWv/5KQSq8yA10RJkHyRYbz6oAxfZNNorkt96Er90GEiG\n",
       "qV3NC+iOgNHKCBaBQXEaj23XJS0iwNKuMkXSJ1/VAxsvqlWc7UR6TgKYw9jcmKOxKADLjcki0Ksl\n",
       "/OrVcmT+fHC8ghmBHolJn8OW+QJBVYdFHrk5IYSkbtRpbGzfmA0CCwRyc7gKjKNmU7vSQR2ejwG3\n",
       "9GDFjOa1gMCOogVOav1ud6uZ88nN3ZLx3aagB4vIaRnBIrDl8WBR0bK5UDHFoFhqqlGBw1NvCi37\n",
       "gi9C02DVMbLbWYM4RZq2ceAcoYRgFWgs+v1n7rnESO5oHy5HsOsqHix/5FZqrHZt8Fhjf2TTi0he\n",
       "BTY9YuezU8/0pt+dmU510VmjmcxoupZWxdOE1noJwSqwq+q1olk8p/v3z93q7v8RGiXc/TFvV7wf\n",
       "jnzq7d1vfnGkkRE85i6+u/19eU4WEegn4lS/NxJen8len0aNeyeCEWp/AeWeGHSwYL0IAAAAAElF\n",
       "TkSuQmCC\n",
       "\" style=\"display:inline;vertical-align:middle;\" /></a><br>"
      ],
      "text/plain": [
       "<IPython.core.display.HTML object>"
      ]
     },
     "metadata": {},
     "output_type": "display_data"
    }
   ],
   "source": [
    "sqrd_pos_closure = Forall(\n",
    "    a,\n",
    "    InSet(Exp(a, two), RealPos), \n",
    "    domain=Real,\n",
    "    conditions=[NotEquals(a, zero)])"
   ]
  },
  {
   "cell_type": "code",
   "execution_count": 30,
   "metadata": {},
   "outputs": [
    {
     "data": {
      "text/html": [
       "<strong id=\"sqrd_non_neg_closure\"><a class=\"ProveItLink\" href=\"proofs/sqrd_non_neg_closure/thm_proof.ipynb\">sqrd_non_neg_closure</a> (conjecture without proof):<br></strong> <a class=\"ProveItLink\" href=\"../__pv_it/theorems/cdadf319f55bca74f0244bfc6561de7abe738e8c0/theorem_expr.ipynb\"><img src=\"data:image/png;base64,iVBORw0KGgoAAAANSUhEUgAAAJkAAAAaBAMAAABWVuP/AAAAMFBMVEX///8AAAAAAAAAAAAAAAAA\n",
       "AAAAAAAAAAAAAAAAAAAAAAAAAAAAAAAAAAAAAAAAAAAv3aB7AAAAD3RSTlMAq1RmmUTNIjK7EInv\n",
       "3XZ/CtNrAAAACXBIWXMAAA7EAAAOxAGVKw4bAAACuUlEQVQ4y5VVTWgTURCemE32L3lJ0ZMHCSh4\n",
       "kEqg4CFI2eC/Iq4WBOnBYA+CiGxB8FJsBKGCSkJL1USMG/AiFQwWLCqUXrSKCN486GpEEFpFSsG/\n",
       "HKzzNvteN5ss2Q5k3+T9fG9mvpk3AEFEedZjdlyQJu1Bna0FgQnr9iCA8Lbzhqlx+u2HE7inq2xp\n",
       "Dgld/OOzg0zg5yUkDLHY1cOcY6LpiwbhCogNiKXQwC4ip5mmtnoaPlv69WHC0eelBsTTEMfQJunE\n",
       "Zh+0Ea5d97Agi8nI+rJt/xMd0WJ1IAi1h86c9kE7xBSx7LVarEHxEl3J5qmniRQoDQB7xi+AP5ly\n",
       "Hi60o+2L4tGevMMCwBBAFF1QU53B0APHtFtXDja1BcvKcTQZlA0G/fcDjuL3AMYQAx31Y5+FPray\n",
       "smQrxxddtm2sgmI62Usv+46/N5b12gctRM0Ynr3IJ8QzLk+lcU+4TyL0foCyX4JgPCPzcJfzGTVW\n",
       "0V58+ujhuYAhHAYx6ZrqfZw9xw/jwoM0HOaLURcL0xm0XCqh3HTmRrEMZVPVWdQ/l3Siwgwr4bgG\n",
       "cATgPce4ZqEUHU/LfR5XHiLOujq/cTeaSghk6i7bXoHC8wTuuzPksuzxdJQmS44W2FT/DBBaR4i2\n",
       "qK2iKf8gvMT3x91owpgnTQs0qo+QKOWd9Lt5M1HFCqvOUBGUZWR2K0+ZugtNKX5p5xRG0B9Bk+Zg\n",
       "wD4g3OZXkjmACvRqGj9wahVNgz5Zb0HbaVuA7sZ0rNkdyE+KEPUYW45gLVS/jW3K8wPVSZO9IX8N\n",
       "+cZyC1qW02HIGfOqbQ+JDPLoPm9LwcE7Vs7v/RpiSswoDJg2R5ghT7W2NyRQ82hwn3Ztn8bappX4\n",
       "tXZvL8+vtaCFk56WUSq1xjWUWgNa3AjYFwJJ174A24KDde9ZrJ8GEQE5/A+bm6fzdFrwrAAAAABJ\n",
       "RU5ErkJggg==\n",
       "\" style=\"display:inline;vertical-align:middle;\" /></a><br>"
      ],
      "text/plain": [
       "<IPython.core.display.HTML object>"
      ]
     },
     "metadata": {},
     "output_type": "display_data"
    }
   ],
   "source": [
    "sqrd_non_neg_closure = Forall(\n",
    "    a,\n",
    "    InSet(Exp(a, two), RealNonNeg),\n",
    "    domain=Real)"
   ]
  },
  {
   "cell_type": "markdown",
   "metadata": {},
   "source": [
    "### Theorems for number relations"
   ]
  },
  {
   "cell_type": "code",
   "execution_count": 31,
   "metadata": {},
   "outputs": [
    {
     "data": {
      "text/html": [
       "<strong id=\"exp_eq_nat\"><a class=\"ProveItLink\" href=\"proofs/exp_eq_nat/thm_proof.ipynb\">exp_eq_nat</a> (conjecture without proof):<br></strong> <a class=\"ProveItLink\" href=\"../__pv_it/theorems/126c76f85b8f616a54aeb7742f64dfd050b418bf0/theorem_expr.ipynb\"><img src=\"data:image/png;base64,iVBORw0KGgoAAAANSUhEUgAAANgAAAAXBAMAAACbsJy/AAAAMFBMVEX///8AAAAAAAAAAAAAAAAA\n",
       "AAAAAAAAAAAAAAAAAAAAAAAAAAAAAAAAAAAAAAAAAAAv3aB7AAAAD3RSTlMAq1RmmUTNIjK7EInv\n",
       "3XZ/CtNrAAAACXBIWXMAAA7EAAAOxAGVKw4bAAAC50lEQVRIx7VWT0gUURj/jTuzOzuj60AnE2RD\n",
       "Aw8qi/QHJWxhK4VQBKOLUUsdok7T0RDZzi2tJRbbIQaJArdsUzK6xF6iKAqD/l2MsTbCDBEiNjz1\n",
       "ze5766y9VWHtg7fvm/e9937z/fvNAtsgPjZrM0umcEOq63FxU6Xyhc33zYQQTPuo5qDYgOE8NVaE\n",
       "VZVmyiHEhRvksJoBvgKHnaezFYHd4cozLAg3VPcHyCevhUtOzEcrAovwaOUwNina8MD0d1rwhB08\n",
       "6MGKwDJcea7+7hR6ZiYGCOYlPCFysLKURbl2rH0pJNqhRNpmaDoDvJ6ff1URmEz1oS3vvDwtMk5F\n",
       "oBlMfwj0ADe3cGN5kzfkmBfs3uJK77wjbx013QLPClveB1yAzyjbre8e4UDe6i8PVkMZ34+D1g6B\n",
       "TQ32QuLl10LXWHq/8JIrdePYpVuytQlYNR2P4YjQpuENqm32kKD82uL6kHucbrfDOrYABrpUKMoq\n",
       "EjGmn6AR7WLsRbLcnSXCURYgOQ0PNO8ecYMFsiPd7ORJA8ZaGKHkMCnKmRzFT77cSmP6PGMvusys\n",
       "89LRqVorruUj3axPDLrAvkujp+UkyZhmr6qsv/w2tHEpg7TIM7+Bq1zvoDFscPaCB7dUmi62YlHJ\n",
       "d0wzwosusJDfZjHxTcwFWOJ1A1V/bmcUITPIhvKL60dpSDHOXiS5/G89GjznkslrBJbyunNWW2R1\n",
       "KS2xxKtz0PrspnZxhdRnc1x/X8JedDDjKyy/UNMFz5Q2N1gcZiGMqOmv5on/tGGH6pxgfHNu9kph\n",
       "WI/KSNFxZaXQ6XvBiDwP5svMIsy7K3aKX7dnA6hZ3OPhlUNu9ooH5W9Pf9CEpo4ohujF1Q8m1eWa\n",
       "Z32DyxZnxMj1YhGY5cE+U0qYDJVa2DsENdMfgvYkOe6qqvW33MVYMS8bfKEas0XGuFHagBabJPv4\n",
       "PyW8fqFBKZI9RrbC14FS/z18UrrSm4INLOG/ybb8N/oLJke39KjoNXEAAAAASUVORK5CYII=\n",
       "\" style=\"display:inline;vertical-align:middle;\" /></a><br>"
      ],
      "text/plain": [
       "<IPython.core.display.HTML object>"
      ]
     },
     "metadata": {},
     "output_type": "display_data"
    }
   ],
   "source": [
    "exp_eq_nat = Forall((a, x, y), Equals(Exp(x, a), Exp(y, a)), condition=Equals(x, y), domain=Natural)"
   ]
  },
  {
   "cell_type": "code",
   "execution_count": 32,
   "metadata": {},
   "outputs": [
    {
     "data": {
      "text/html": [
       "<strong id=\"exp_eq_int\"><a class=\"ProveItLink\" href=\"proofs/exp_eq_int/thm_proof.ipynb\">exp_eq_int</a> (conjecture without proof):<br></strong> <a class=\"ProveItLink\" href=\"../__pv_it/theorems/fdc861141a806a79f69b95c6ac7ab1a44603cece0/theorem_expr.ipynb\"><img src=\"data:image/png;base64,iVBORw0KGgoAAAANSUhEUgAAANcAAAAXBAMAAABqu8cyAAAAMFBMVEX///8AAAAAAAAAAAAAAAAA\n",
       "AAAAAAAAAAAAAAAAAAAAAAAAAAAAAAAAAAAAAAAAAAAv3aB7AAAAD3RSTlMAq1RmmUTNIjK7EInv\n",
       "3XZ/CtNrAAAACXBIWXMAAA7EAAAOxAGVKw4bAAACxUlEQVRIx61WTWgTQRT+kuwmm90mVjxVQQL2\n",
       "4EWJpSj2kFba+nOoFioebW6Cp9XepErstYUqohgF2YIINhhDKwo9lCCIiijxIHoJbKQiWii9SHr0\n",
       "zezMpg2zbSF5kJ03771538z7mQnQBoqJ0VxctVV6LrfRHvopxhf2rNIll18mppPNDrWEFS4JZggz\n",
       "SgMuT6aBYTa70hLYM8m8Q01p4MmvArdZzO+0BDYoU1PHvXlVyjx5LxB1ACvVElhZMu+Nf30qA0/e\n",
       "4SBCoYy2lrKs5C72rKZVFp48Sr/P1eqnlsA0qg9zbf/0giqCK2nMCd6iWjwLPNrZ40Cwiu1YQ80d\n",
       "8SUjVUZfGUC4jH4hjVAEriHWGego9PHVY46zTQklKOMn0O/sU+imtAq6ZLgpt3HHGlU6MWr50YRt\n",
       "FZ0dwDpoeQ6nlTqnw8UX6W+dAN2A+hjK0dExNYFdgMF32UTjjrEhWJ1VbTZDn0LmDROsnVmhC0ev\n",
       "IcQ7niVrYBOYp+YrmUkjjNDrmFfkjA6clJ0RrtBngVrb/G7UiU3aXVFaWtzjzOC5l9XruQYYV5/L\n",
       "E6W5iUdxF+b9UBkl1cnuIi4rIsJ8TNJMGzDYBiJ4YtBw4wj+YIxbFC00wIQa0sQv6fDG07KuvBlO\n",
       "YTy9qUUQyrG4J70N1Pn3AA7iOB0ghdKSFx6Rs7rvhZmIxFdgnne7e5Q5m1u+IB+ChKzDl3a8j1Wd\n",
       "UeZv0zd8wDRPzeE0lhpgTO2FkZsI+rFth76WzE2/ouzZMaeASSuroUDL9XVqCRYiDXrFB+NqiUAm\n",
       "gnqDkays+bb5voY+eHQRMynt1/JfGtB9MovYQ5If27v6oNMH42pBzERWSPAjnHBDsm6anxaR4pRp\n",
       "xymrhXy+0e3NfeaZCD64CcOZ4YAt6Y4YQu6l5lXN/raY3NrNff176zQiBz1T2glMYdI+ast/o//W\n",
       "bMJNjS55WgAAAABJRU5ErkJggg==\n",
       "\" style=\"display:inline;vertical-align:middle;\" /></a><br>"
      ],
      "text/plain": [
       "<IPython.core.display.HTML object>"
      ]
     },
     "metadata": {},
     "output_type": "display_data"
    }
   ],
   "source": [
    "exp_eq_int = Forall((a, x, y), Equals(Exp(x, a), Exp(y, a)), condition=Equals(x, y), domain=Integer)"
   ]
  },
  {
   "cell_type": "code",
   "execution_count": 33,
   "metadata": {},
   "outputs": [
    {
     "data": {
      "text/html": [
       "<strong id=\"exp_eq_rational\"><a class=\"ProveItLink\" href=\"proofs/exp_eq_rational/thm_proof.ipynb\">exp_eq_rational</a> (conjecture without proof):<br></strong> <a class=\"ProveItLink\" href=\"../__pv_it/theorems/e7bcdb9de46f2717099ad7af5d9697ea2e836d9e0/theorem_expr.ipynb\"><img src=\"data:image/png;base64,iVBORw0KGgoAAAANSUhEUgAAANkAAAAXBAMAAAB0cveBAAAAMFBMVEX///8AAAAAAAAAAAAAAAAA\n",
       "AAAAAAAAAAAAAAAAAAAAAAAAAAAAAAAAAAAAAAAAAAAv3aB7AAAAD3RSTlMAq1RmmUTNIjK7EInv\n",
       "3XZ/CtNrAAAACXBIWXMAAA7EAAAOxAGVKw4bAAACyUlEQVRIx61WTWgTQRT+8rPJZreJFU9VkEAK\n",
       "npRQiz85pJW2/hysgYp4svEkeNp6lCpRL0KDVVQwHmQLItighhbsQShBEAVRclD0UthIRbRQepH0\n",
       "6JvZmfwxWwvJg+y8ee/N+2bez0yAblBYjMbimqXSc7mFLtEPMb6wZpU+ufwCMb1slugMzF8SzCjy\n",
       "SgMujyWBMTa71BnaM8m8Q1Vp4MovAzdY2O92hjYi01PD/XlV2lz5IBCyATPeGVpZMu/1vymVgSvv\n",
       "sRGgaIY6TFtWcmcH1pIqC1ceot+nlZWPnaEFqUiM9d0zC6ogriYxJ3iTKvIk8HgbLoe9VWzPQVSd\n",
       "03X4FU6s3E1/GUNCHKAYTCHc6+2p+GCn20FbFFKU0n4YQ/Yuhe5msII+GXHKb8Q2M0onerWQCb+B\n",
       "OfA/tB5an8Nxpc7ucfBZOtwgRMejSEZzFIgrMA5a20BD3WcbTdr6pmA1VrvZNItYeokJ1k+skm+t\n",
       "Ch9vfdzeBzhOA83V86XMphFJaDXMK/JGR47JBvFX6LNAPW5802vExqy+EC19ucPO4zkzSCVb0Lj+\n",
       "VIEoyW1cijgwHvrKKKnOdg8RWRYB5mOaZsFhne0ggCc6DVf34zcmmAFDckp1NKGHtKlXtn/zaVlT\n",
       "3hHHMJls6hT4ciz0MXcHNf7dg704RCeIn2+LpNBLG5H9Coxxp39Ambe55TPyWYjKanxlRVI2W1jm\n",
       "T9VXfMAM33ZblTC9G0luI+j7lp36WjLX6mVlzU7YRUyb2SCKtFzboM7gXQAz0egArpcQZCNo0BvK\n",
       "zBpv2y9vaCMHFpGPB38u/6EB/UezCD/i3f3lYq6BxvWCmI0sE+9nOer4ZPG0vzQizXHDilBmi4UC\n",
       "BXrpFpTd7doI3rsZ/ekxjz1pthh8zrnGlZsYz6jQmm1wfTuX96/WaUAOWrqpde4cUZ6txabr1JV/\n",
       "TP8APxPKM6ZGD2IAAAAASUVORK5CYII=\n",
       "\" style=\"display:inline;vertical-align:middle;\" /></a><br>"
      ],
      "text/plain": [
       "<IPython.core.display.HTML object>"
      ]
     },
     "metadata": {},
     "output_type": "display_data"
    }
   ],
   "source": [
    "exp_eq_rational = Forall((a, x, y), Equals(Exp(x, a), Exp(y, a)), condition=Equals(x, y), domain=Rational)"
   ]
  },
  {
   "cell_type": "code",
   "execution_count": 34,
   "metadata": {},
   "outputs": [
    {
     "data": {
      "text/html": [
       "<strong id=\"exp_eq_real\"><a class=\"ProveItLink\" href=\"proofs/exp_eq_real/thm_proof.ipynb\">exp_eq_real</a> (conjecture without proof):<br></strong> <a class=\"ProveItLink\" href=\"../__pv_it/theorems/588068a3570d9b2d74dd427a867b3be3cf0cd0a20/theorem_expr.ipynb\"><img src=\"data:image/png;base64,iVBORw0KGgoAAAANSUhEUgAAANgAAAAXBAMAAACbsJy/AAAAMFBMVEX///8AAAAAAAAAAAAAAAAA\n",
       "AAAAAAAAAAAAAAAAAAAAAAAAAAAAAAAAAAAAAAAAAAAv3aB7AAAAD3RSTlMAq1RmmUTNIjK7EInv\n",
       "3XZ/CtNrAAAACXBIWXMAAA7EAAAOxAGVKw4bAAAC5UlEQVRIx7VWX0hTURj/XXevu7ub80IQmCAD\n",
       "fdQYEoU+mDDLIhTB6qWoUUFUELdHS2Q9N5olFushRkiBlt2UDHuIvURRFPYQBWEccxFliBCx8Knv\n",
       "bufMOztTYfbB2ffd8+f73fP9+d0BmyBero3JBUu6YaztSWFTufKF6wdWQgpmfNCz0BhgOk/1ZWFV\n",
       "2NzoQFy6QW3X08A8sMd5Ol0W2F1hPMecdEOgJ0h3qkzhshPzwbLAIiJaWQyNyjY8tHytKXjaHTz4\n",
       "Q2WBpYXxQv/dKr2ZleglmFfwhOmC5aUsKqyDzQth2Q4tsn2S1Engzezs67LAVKoPY3HblQnZ4ngE\n",
       "hsntR8A+4NYGPJZeqgw7y3OsqzDTNevIO8e0G+FZ4tM7gQvwmiUj9OnUVpazfKXBqijju7A7tUWy\n",
       "poe6oIjyayQ3KX+P1MnVmmEw239pPbAAHY9hr3TNwFsEGH9I0NszeX2oFF8w5hnfCBjIqVS0ZSRi\n",
       "3D5KI9rG2YtksTNDhKPNQXEa3gELjrjAgpmBTn7ymAlzJYzQshiV5UyN4qeYbqIxcZazFzmzairp\n",
       "6Hh1Km7kIs3svnkX2Ddl8ISaJBky2LLO+8vHYAwradiym/lMXBN2C41+U7AXPLitk7rYhO9armPY\n",
       "/mm4wMI+xmPivTMT5In3m6j4M5LWpMygmtovYR+gocQEe5Fkc7+1qPOcSSavUxgfh9w5qy6wumIr\n",
       "PPH6DIxu1tAsr5DaTFbY74vYiw6mvfnpl7qdz9mhp26wOKx8GFHVExCJ/7hmh/oFwXhn3Ow1hn5/\n",
       "VMUYHdeW8p1Ope8qEG96Cu2iu2LHhbsda0BN4b4Irxp2s1c8pH599oMUGlqi6KMX186fMzqiKzfr\n",
       "PrKYEv0euVEoAqs02GdKCZe+4hX+DiHD8oVhTCeHXVW12ss9DBXyssYXqj5TYIybxQ2Y4kphh/8p\n",
       "4dUTdVqB7DGwEb4OFt/fI5TWZq8L1ruA/yab8t/oLwJ2w5cCdY3KAAAAAElFTkSuQmCC\n",
       "\" style=\"display:inline;vertical-align:middle;\" /></a><br>"
      ],
      "text/plain": [
       "<IPython.core.display.HTML object>"
      ]
     },
     "metadata": {},
     "output_type": "display_data"
    }
   ],
   "source": [
    "exp_eq_real = Forall((a, x, y), Equals(Exp(x, a), Exp(y, a)), condition=Equals(x, y), domain=Real)"
   ]
  },
  {
   "cell_type": "code",
   "execution_count": 35,
   "metadata": {},
   "outputs": [
    {
     "data": {
      "text/html": [
       "<strong id=\"exp_eq\"><a class=\"ProveItLink\" href=\"proofs/exp_eq/thm_proof.ipynb\">exp_eq</a> (established theorem):<br></strong> <a class=\"ProveItLink\" href=\"../__pv_it/theorems/7ff6b12eabd6bf047e6710fd7c6ba434728617280/theorem_expr.ipynb\"><img src=\"data:image/png;base64,iVBORw0KGgoAAAANSUhEUgAAANgAAAAXBAMAAACbsJy/AAAAMFBMVEX///8AAAAAAAAAAAAAAAAA\n",
       "AAAAAAAAAAAAAAAAAAAAAAAAAAAAAAAAAAAAAAAAAAAv3aB7AAAAD3RSTlMAq1RmmUTNIjK7EInv\n",
       "3XZ/CtNrAAAACXBIWXMAAA7EAAAOxAGVKw4bAAAC50lEQVRIx7VWT0gUURj/zc6MOzu7rgMdwgRZ\n",
       "0EugsUhUejBjK4VQBKNLUUsdwk5TN0tkO3RqaS2x2A4xVBRp2aZg1CH2EkVR2CHqYoy1IWaIELHh\n",
       "qW/c98Zde6vC2Advv2/en+837/vzmwU2QfxM6xPzpnDDaOtTd5NX+cr0IzMlBNM/aXmoNmA4T3We\n",
       "sHwZZuxHUrhBadOywDfggPN02hPYPW68xIxwQ6g7THeqsHDRifmgJ7AYj1YeQyOiDY/NQIsFuc3B\n",
       "QzDiCSzLjVfa7xbhzcxUD8G8gRylC3pLWZxbh5vmo6IdamzHBKlTwLvp6beewBSqD31h2+Vx0eJY\n",
       "DLrB7CdAB3BzAx7LL1VEneUZu9Od6Zx25INjZhogL7LpXcBZ+I3ynub2zdqODpTfUkkZ34291hbB\n",
       "mhbphMTLr4HcWMFuoZMr1cN4sBXbM+uAheh4AgeFazreI2SzhxTl1xbXh0LxxXMb8kbAQE6Foi4h\n",
       "lWD2MRrxVsZeJAvtOSIcdQaS0/DQ95AjcwUsnBtoZyePGzBWwgg1jxFRzpQ4fvLpRhrjZxh7kTOz\n",
       "uoKOjlVZSd2JtO8c57oC2Kw0eFJJkwzp9pLG+itgQx+WssiIbhYwcJXbzTT6Dc5ekHFLI3W+EXOq\n",
       "0zHyHasELBqwWUz8t6fCLPFBA74/d7OqkBkUQ/3F7UM0pARnL5L88m8NauXedPqadilRAoYql9Wl\n",
       "jMQSr01B77Lrm8QVUpPLc/tjCXvRway/MP1aW44KFQisIrAkzEIYUdkd4i/yec0ODXKC8U8Vs9co\n",
       "+oNxBaN0XF0sdPqFdgRX+syfnUQb767ECe5u5xpQk3jIw6tEi9krGVG+v/hBCvXNcfQ5L65PpjuK\n",
       "wth1dIEn0Re77haBWR7sC6WESV/pCnuHiG4GotCfpYeLqmq1l/sYcvOyxheqLucyxo3SBrSYkuwj\n",
       "/5Tw6ola1SV7DGyEr8Ol95e5Ulsz64L1zOO/yab8N/oLw9i9AibcO7cAAAAASUVORK5CYII=\n",
       "\" style=\"display:inline;vertical-align:middle;\" /></a><br>"
      ],
      "text/plain": [
       "<IPython.core.display.HTML object>"
      ]
     },
     "metadata": {},
     "output_type": "display_data"
    }
   ],
   "source": [
    "# Note: does allow 0^0 = 0^0 where both sides are undefined.  That's okay -- \"same\" nonsense is\n",
    "# equal in Prove-It.\n",
    "exp_eq = Forall((a, x, y), Equals(Exp(x, a), Exp(y, a)), condition=Equals(x, y), domain=Complex)"
   ]
  },
  {
   "cell_type": "code",
   "execution_count": 36,
   "metadata": {},
   "outputs": [
    {
     "data": {
      "text/html": [
       "<strong id=\"exp_eq_for_eq_base_and_exp\"><a class=\"ProveItLink\" href=\"proofs/exp_eq_for_eq_base_and_exp/thm_proof.ipynb\">exp_eq_for_eq_base_and_exp</a> (conjecture without proof):<br></strong> <a class=\"ProveItLink\" href=\"../__pv_it/theorems/152accceac05c960add176e11bf5777caf4c49b80/theorem_expr.ipynb\"><img src=\"data:image/png;base64,iVBORw0KGgoAAAANSUhEUgAAANgAAAAXBAMAAACbsJy/AAAAMFBMVEX///8AAAAAAAAAAAAAAAAA\n",
       "AAAAAAAAAAAAAAAAAAAAAAAAAAAAAAAAAAAAAAAAAAAv3aB7AAAAD3RSTlMAq1RmmUTNIjK7EInv\n",
       "3XZ/CtNrAAAACXBIWXMAAA7EAAAOxAGVKw4bAAACz0lEQVRIx7VWTWgTQRT+Ntl0s5uf5iRIIQQU\n",
       "ejGSgxQaoQaiVJBqICCCRYMeRE/bo6WEeBAFA420qFGoq4Iikab+oJ5KwIN/CBUUCxLYaqVqoQRB\n",
       "Cj2IM8nMJrETXdj6YHbe7Hv7vvl575sFNkAU1gcXs4Miu2cBkuXkVD6xfkkqHBPZp7uNPDwmEKKj\n",
       "LY6wXDNMialmTuQwGsU34DOwh45OOAK7bWndutijB2Ggy8AZuucFR2BJS8tDjPYeLwB3guLBF3EE\n",
       "VuF5UnmMhNBj3lMjz1dwx8gCnR1Zhmv7D68YQpet/dTnOPCmWn3tCEym+aH0LJlC68hsFpqukiXh\n",
       "PrAXuGojYmdTFw00rKtr1puhKpW39RJ7juuGZB6keh+BhhLqHCk4Gc7SXu3sEiAnrj2DPCcy3oth\n",
       "CJ6BenFsI2EMX0oYxLtQTGkXdde1f4D5yedyDYEZkfEA8JHr4+R8zQ75sZsUqG8a2GkDzF9AWTjl\n",
       "l9B+cn2YtMwAeZQGntDxyuCizrgsSI/i1lnGfOqf5HckhFBzG8smdkFwZtovuGv8dZS0B6fIyw/e\n",
       "VRpM39wVYVx2l9p7e5mjapGfXCQyoZlrXlZfKknDcgSbXIKC1n5AyvAY/aSNkRnKifqnbkx5OZel\n",
       "qT0ebwNrkp9ycy7IeMcXooCud8KEnUI0wQt9H2lSju57sLEpqxaX9ZEFRM4fagNrIT9pRmKF5SVp\n",
       "qIWfjnwVgd1YPhfOWaTVkLKuxmnxeysK57IL9VmTBNFawAj5NbYRgZSfB5m3eevx2vDr42mjhDFf\n",
       "RkapwWUqBVce6Zi1wFrJL5A7yqPssMk0MX6XJrc/RD4if5n9Tro6lylXqKF0cjLXXFkL+bmSl3gU\n",
       "VbcFdrp9yMg/0uCyUrHYLJ11dXYHE1bK2buhLrf/KhisY1zWKuvAwh6L7JG1gxVsX7+bd4zL/gqW\n",
       "XsZ/kw35N/oN5xq27i77CbMAAAAASUVORK5CYII=\n",
       "\" style=\"display:inline;vertical-align:middle;\" /></a><br>"
      ],
      "text/plain": [
       "<IPython.core.display.HTML object>"
      ]
     },
     "metadata": {},
     "output_type": "display_data"
    }
   ],
   "source": [
    "exp_eq_for_eq_base_and_exp = (\n",
    "    Forall((a, x, y),\n",
    "           Equals(Exp(a, x), Exp(a, y)), condition=Equals(x, y), domain=Complex))"
   ]
  },
  {
   "cell_type": "code",
   "execution_count": 37,
   "metadata": {},
   "outputs": [],
   "source": [
    "# Note: this does not necessarily extend to the complex domain where\n",
    "# exponentiation can have periodicity (e.g., exp(2 pi i )).\n",
    "# ACTUALLY, this is a problem even for reals. For example, \n",
    "# (-1)≠1 but (-1)^2 = 1^2, so this needs more careful thought — HC 9/28/20\n",
    "#exp_neq = Forall((a, x, y), NotEquals(Exp(x, a), Exp(y, a)), \n",
    "#                 conditions=[NotEquals(x, y), NotEquals(a, zero)], domain=Real)"
   ]
  },
  {
   "cell_type": "code",
   "execution_count": 38,
   "metadata": {},
   "outputs": [
    {
     "data": {
      "text/html": [
       "<strong id=\"exp_pos_less\"><a class=\"ProveItLink\" href=\"proofs/exp_pos_less/thm_proof.ipynb\">exp_pos_less</a> (conjecture without proof):<br></strong> <a class=\"ProveItLink\" href=\"../__pv_it/theorems/d5dd723a38847e13f5d294a2f741a082b561f7e90/theorem_expr.ipynb\"><img src=\"data:image/png;base64,iVBORw0KGgoAAAANSUhEUgAAAREAAAAXBAMAAADelGYUAAAAMFBMVEX///8AAAAAAAAAAAAAAAAA\n",
       "AAAAAAAAAAAAAAAAAAAAAAAAAAAAAAAAAAAAAAAAAAAv3aB7AAAAD3RSTlMAq1RmmUTNIjK7EInv\n",
       "3XZ/CtNrAAAACXBIWXMAAA7EAAAOxAGVKw4bAAADgklEQVRIx71WXUgUURT+9mfc2dl1VIrAglhI\n",
       "Ah+MRcRQcFX8qQTLMoQKcqGHoIeYXsPCegsFzQraBBlBglyqRUFJSBYhDKLwJeolmA0rVBRfYsWn\n",
       "7s/cnVmdKQnWgd175sw3935zz3fOuUChr4A5KtNrmtNz5tewD9d3c3ypDTmux/xXiVFK744Vjog3\n",
       "ZRqtGHQEML8aBdro3fXCMXkujHfIOAK4/wZwj4ZyuHBMWoQcsng06SQT7q8BinQgFCkck7QwFuXf\n",
       "9TnvcUsy3B/W4SMRKiqgTOLCuli9FhV2Q4eF4P4i8vv47duHwjHxE8EqG4cHpuzO9TkemOUoxk1X\n",
       "iGTOaeDZHqZs+j8m9Fv9yBidNmW8NczVvWk0mk4f2btbCJS6TlQ103yTW0zUoXmek5X/qEQCBxQT\n",
       "CZ5Eo37AqnSdIkj3/UsoF1EkegrqoS7H6eRMoksNYTZlMYnhEiNi2L4wPxN02HDkCpO5+9FugxzK\n",
       "pYceNvBJLLZJ2Bgugm3tJxVHRb1hMXmPErIbdVFbLW/W80r7Y83CCSbIrZfPBL26vGWaEs2xeIz8\n",
       "JWOz1LFxaplMIWXgYWWPMlltyjEJbCMcwUrEQsplGkeLBkIdJi4XHUhZTDpEh2yVKpLcu0T+pkh9\n",
       "U77IWbqwVl5EXn1Vog/iBQWoocBYNMdE3kZxdJCtwZES3QKGzjWWQHM/x/EVggaUJ540Ug6KxUME\n",
       "hUR9dP4+cudvkik7H8ZkMtyuwgq62YL+0WHYmYQN76gukBIzGdpqLMqZLobLZad3ayIt2Wunsr7K\n",
       "jWb0Rm3ZDk8/DafK2WXZ/xEcRW0ikYioaugC7NEpiZjrUyTfHoa2NRbfIsdxJS5BOWtUVOdLsIEX\n",
       "lPH5cyIJi0XWvNaC9XR+Oc2OE5+J5gbYnqjSFX2nYuWDGkcqbyICbTUW75hdsfjqmA215uMZ4bgj\n",
       "jLA21K0n0ReK+5Ekr0ubJLuZTjBnKRYbOM9EV6YzJLBCd5eilZTZQHzXLBy9av5SdeLKws5GCanl\n",
       "xDTZbP+P+VW65xV1cQSeEn/Pz9REu72ydZjnMIYEz2iKlhd4A1FH7DgqWfciWGx4hJB3ngbM2EYU\n",
       "LUgWSCYStpLndnCo1Djay2Uxsqvru584vLE2F76Sbg4eo2fXa+4TcvRlt8d399KefuXf+sQgxVLu\n",
       "TB6QnErYP4Gjo9ivq+Cn7z+6v/1Kve3ZSgAAAABJRU5ErkJggg==\n",
       "\" style=\"display:inline;vertical-align:middle;\" /></a><br>"
      ],
      "text/plain": [
       "<IPython.core.display.HTML object>"
      ]
     },
     "metadata": {},
     "output_type": "display_data"
    }
   ],
   "source": [
    "exp_pos_less = Forall((a, x, y), Less(Exp(x, a), Exp(y, a)), \n",
    "                             conditions=[number_ordering(LessEq(zero, x), Less(x, y)),\n",
    "                                         greater(a, zero)], domain=Real)"
   ]
  },
  {
   "cell_type": "code",
   "execution_count": 39,
   "metadata": {},
   "outputs": [
    {
     "data": {
      "text/html": [
       "<strong id=\"exp_nonneg_less\"><a class=\"ProveItLink\" href=\"proofs/exp_nonneg_less/thm_proof.ipynb\">exp_nonneg_less</a> (conjecture without proof):<br></strong> <a class=\"ProveItLink\" href=\"../__pv_it/theorems/5811f0daa7b968f4cb64a3776a26e5a6b01a2e420/theorem_expr.ipynb\"><img src=\"data:image/png;base64,iVBORw0KGgoAAAANSUhEUgAAAREAAAAXBAMAAADelGYUAAAAMFBMVEX///8AAAAAAAAAAAAAAAAA\n",
       "AAAAAAAAAAAAAAAAAAAAAAAAAAAAAAAAAAAAAAAAAAAv3aB7AAAAD3RSTlMAq1RmmUTNIjK7EInv\n",
       "3XZ/CtNrAAAACXBIWXMAAA7EAAAOxAGVKw4bAAADfklEQVRIx71WX0gUQRz+3Z+93du921OKwII4\n",
       "SIQejEWkUOj08E8RWJYhVJD3FvQQ22tYXL0qaJnUJcgKEuRRHQqKQnIIYRCFL1Evwl5YoZL4Eic+\n",
       "NX93965bsWAbuJ1vf/ftzDcz329mALwuIqvlmU290v8krsN/KF9Z/VIfqtgfiV9HoAq/HfNOiD/H\n",
       "QDsMViSQuKoBdOC3G94pec7BWyjY0Tp7emj8JsB9vJTD3ilp43YowsgUD54+Z9uExhsBQgaAEvdO\n",
       "SZ6DZelXM4M/FxwEGo8YEEArFPLQJimOLjdsanQW3phOBo2H0O/D6up775QEkWHlrcMD0/ZydGkc\n",
       "rWkwwbCCMucswLN9NNn6b0rwWINQMLssIYcsKyj+PLQwHEBzdxvEKteG6meTtygiplYWc3t3LI1C\n",
       "KS+K+j0FLcYBi2IreRBcgRq+ishPYUPprtxqIdOtKjCXs5Uk4AodmGOLLP0o+8jJQ05Ebaeh07nn\n",
       "WqtjREz4yDvbRmpMF8O2p9GOo0KzaSt5BzG8EYhJw2rXhrSoIzaPKQGrvzLH9hnSDoMCzrFUAo8l\n",
       "MYcDW2fWUBNCAXxk28NKNlotJeIuRNDcStU6Z2JI2PbBEhjnPL46IBRhyqmFZ3EnqDzJ/SvoMY32\n",
       "N/mzVMQd6zUh9OmrmDEIL8gIFXFcs5RIuxDVQHiscyaBhO04WALLlEdK2AR51JeHUn+xne0hhLlF\n",
       "A7j9fvQWbJWwugCMS6i6Uw/r0EOUBMeGwakkYgpjBmdSSNj2wSLPdxOelZ3+ncm8ULZ31qXxMwl9\n",
       "miPbwZfGy6lSdUXyPAJH4WQmk4mrqnIJnKsTiw+yRhGTQcy2DhAxmaY85sQVkM+btQ0VnTixeIGf\n",
       "P1GeNa/1cDMen5Qn14lPyHMDZE5U4ZpR6lh5nnSCmQxiNj9AxOp0iWPhy55ZP8vBXQ4i+lCPkYV+\n",
       "JRWELPpc2EbZTXwCC7ZjYQsuouc6mlLCpJCw5Rw5QOSDus0jpdFdhpKSl8oPShDaTsygyQ5+W9zA\n",
       "c17blALxKYr3fs9Ndjp3NmK1Jg0Ik0LClpbIASIb4OARy5Zdj+RVUvDMRU0fN3L5bYCtbVzWw6iD\n",
       "bCbj2PJKqMd1B6Rsv8vAZfcbhz/R4aJXMFjlM3v/+My9Qcq+6vb3vf0cTz9KXwO8EhK5v1BC2TQd\n",
       "JZRwmSfeXow9v33/Bne/At70Y1D1AAAAAElFTkSuQmCC\n",
       "\" style=\"display:inline;vertical-align:middle;\" /></a><br>"
      ],
      "text/plain": [
       "<IPython.core.display.HTML object>"
      ]
     },
     "metadata": {},
     "output_type": "display_data"
    }
   ],
   "source": [
    "exp_nonneg_less = Forall((a, x, y), LessEq(Exp(x, a), Exp(y, a)), \n",
    "                         conditions=[number_ordering(Less(zero, x), Less(x, y)), \n",
    "                                     greater_eq(a, zero)], domain=Real)"
   ]
  },
  {
   "cell_type": "code",
   "execution_count": 40,
   "metadata": {},
   "outputs": [
    {
     "data": {
      "text/html": [
       "<strong id=\"exp_neg_less\"><a class=\"ProveItLink\" href=\"proofs/exp_neg_less/thm_proof.ipynb\">exp_neg_less</a> (conjecture without proof):<br></strong> <a class=\"ProveItLink\" href=\"../__pv_it/theorems/f3743476f0cbb03d156f8c56fe03aea704ec6f090/theorem_expr.ipynb\"><img src=\"data:image/png;base64,iVBORw0KGgoAAAANSUhEUgAAAREAAAAXBAMAAADelGYUAAAAMFBMVEX///8AAAAAAAAAAAAAAAAA\n",
       "AAAAAAAAAAAAAAAAAAAAAAAAAAAAAAAAAAAAAAAAAAAv3aB7AAAAD3RSTlMAq1RmmUTNIjK7EInv\n",
       "3XZ/CtNrAAAACXBIWXMAAA7EAAAOxAGVKw4bAAADcklEQVRIx71WXUgUURg9+zPu7Mw6bvQQKcSA\n",
       "vgQZi0ShD6ZoGoGxZQgWxNJL4ENM0FNY2LMLWha1CTIPEuSWLQpKPsgSREEUQUVBJGtYoYYIEYZP\n",
       "fffO3JlZd0UL1gs795u5Z+6c/b5z77lAqVvI7tON00XHlcllAwZ2oH21P/hRXis6/tgYMHCegii7\n",
       "qy4dEX/G6oNNcrYooBVJQIsBx9jdxdIxeWD3kbgWLQp4jnm69gA3WCkHS8ekxe6fGOEGs5hM1jA0\n",
       "BhwCymhY1UvHRJQkYgx0Okz8niK8kH830LCJAFWorIQySdiB1HJwUjwMvPdk50zdMqNAv9dfvrwq\n",
       "HZMgCXa8BYpXI9pni4iyUtk/YT9TCXAcuL+NKZv+jwn7r5kDCKy6j9JzgiXmcx0iTZS7ywhFN52o\n",
       "dqr5khVxUauzmW1938WV65D1DvjcNXHlnYiO4Ki5W1SR9BQ21XjR6eT5VFxTMZ1xmTSi28qrR/uF\n",
       "L5oOji1eQrxBJCcGfRccXB/a3I9R0vy5TQTb2kcl1dCQc5m8RAXbl0PNjuI8ofOnKwXOYgJpHQN9\n",
       "RZiAKIomsTWWaHRdYaV9gaaQ5uHj2x5jstTkMAmtI0ILXt5lCCQLOVoYCG1QewTOrg6CCfxEkepA\n",
       "WsOYqM5bukz0OK6gGXvL6NXxCjOJh1zmamgk5jCR11Eeg3TbEEgecrQwEHS3CxxvYcpoOIqbKFSs\n",
       "cseXhdBTgM3fG3VcIYARmbqrtVhEJ2cSHB6El0kkJw2bAmmFHC0MpHtG4NzVGYxKv7zlG5/jFfX/\n",
       "Gc1Kume1w9fncQXLL6uwD4dTqZSuaeppeKtToSftlwlphwxtG4j8DAJnK5GyrlQt5NtwgG8oyslc\n",
       "TZ14VB7f4Apylh8nPpDm+nlONOmcma9Y5Sn/CEPaIUMLA0nf8iibtU88M4l8UQcKLPcavK6QRq+a\n",
       "CCJNr0urtLq5TjDjKhYrOEXXRdIAR1ohRysZ20C0IQfHG1nbFB7p2zVKyxWSevDb7BLLeU19AqF7\n",
       "9Lzre2a0zbuznWBdfQwcaYUcTWWxDASBIQfHJWtgjuq31cFuw2nAZq4rRpjmTKdSni0vD7rf8IQW\n",
       "2u+a3t081x9E9UJ8Kybh/OOjZNqdL9dVgN38CGOhz242fH079vBjg45EJzVm/oGJhY5hp1rJT99/\n",
       "AZsW+p1se6YHAAAAAElFTkSuQmCC\n",
       "\" style=\"display:inline;vertical-align:middle;\" /></a><br>"
      ],
      "text/plain": [
       "<IPython.core.display.HTML object>"
      ]
     },
     "metadata": {},
     "output_type": "display_data"
    }
   ],
   "source": [
    "exp_neg_less = Forall((a, x, y), Less(Exp(y, a), Exp(x, a)), \n",
    "                      conditions=[number_ordering(Less(zero, x), Less(x, y)),\n",
    "                                  Less(a, zero)], domain=Real)"
   ]
  },
  {
   "cell_type": "code",
   "execution_count": 41,
   "metadata": {},
   "outputs": [
    {
     "data": {
      "text/html": [
       "<strong id=\"exp_nonpos_less\"><a class=\"ProveItLink\" href=\"proofs/exp_nonpos_less/thm_proof.ipynb\">exp_nonpos_less</a> (conjecture without proof):<br></strong> <a class=\"ProveItLink\" href=\"../__pv_it/theorems/6f53a4e56bd8bdc8ec75a732ad07cd7ee6d911f20/theorem_expr.ipynb\"><img src=\"data:image/png;base64,iVBORw0KGgoAAAANSUhEUgAAAREAAAAXBAMAAADelGYUAAAAMFBMVEX///8AAAAAAAAAAAAAAAAA\n",
       "AAAAAAAAAAAAAAAAAAAAAAAAAAAAAAAAAAAAAAAAAAAv3aB7AAAAD3RSTlMAq1RmmUTNIjK7EInv\n",
       "3XZ/CtNrAAAACXBIWXMAAA7EAAAOxAGVKw4bAAADfElEQVRIx71WXUgUURT+1t1xZ2fXcaOnFGJA\n",
       "X4QMkSj0wRRNIzC2DMGCWHopfIgJegoLfVbQsrBNkAkkSMsWBSUfRIIoiCSoSAhlDSvUECHC8Klz\n",
       "79z52XUXt2C6sHPPzP3uvd+e8517LuB1C4p+vG4m67gytaFDx39oX8SGn+TtrONP9X4dF8mIsrcy\n",
       "74gUJM0+UC/PZwU0oQ9Qq4AT7O2yd0weiT4SU6MOPdeGL7FCz06gh4VywDsmjaJ/podqDWH7PxiO\n",
       "TLYxOAYcAQrpY1jzjokVkoje3yb2Vz8bLsAr+VctDRvwU4QKPZRJXBhS4+EpkUTLaYhz1RuMAv3e\n",
       "Li298Y5JgAQ70QjF0cjoezswmyW9k8IOE+Ak8CCPJev/jQn7r8lD8G9ZHx5eclhiJdVqSYd8dw3B\n",
       "aM6FKqcbrpoWF3V4LplHQIZcuCINstYKn50TPofJMRw39luTSE8hIxzLuqK8koipYcwkHSZ16DD9\n",
       "6joidxEZcXAseQmxgEjKHr9uR6cbzc5m5LSCVA7BNnWTzFXUphwmr1HMzuVggy1+lyncPOjgTCaQ\n",
       "dtDf7SBcil2wLYnlWLzOqQqbLau0hLQCHz/2GJP1eptJcAcRSnh5n24hmcnRVgFR7zg4ER0E4vjh\n",
       "JmtnsbSNMcuT7+gx2WlXBVU/UEhTJ4qNPjzmk8LBkSqbibyDoipId3ULyU2OFgVEfgEbx1uIPBqK\n",
       "4na63/jJptzzzcPSk5+t3xW1q4IfIzJ1NyqxhjbOJDA8ADeTSEoaNiykaXK0VUAqZi2ck52BqPQz\n",
       "Q0tX2OP36LykubIdvm5XVTDrZSkO4mgikdBUNXwW7ugUa31iMiGFydB2AemYFTihRPK6UrqarQwr\n",
       "p1Pl1dZLUSyjKsjz/DrxkTTXy32iSheMdMUqz/kmDClMhrYLCHpa3IrFIvdMfK/Uvwl3VRhHVzge\n",
       "wDhNl7You7lOMOsoFps4Q8810gBHmiZHK0lRQOiAKhE43qi0TeOJlm+hNKtCnxb4OrfOfF5eE0fw\n",
       "Pn1v/5YcbXafbKdYV1MFjjRNjiapmgWEmm7huGR1LFP8nIvREmuLmRe7jNuAYK4peojWHE8kXEde\n",
       "GrRCd5kmuiDHn1UGULYa28slofTro2SIzpdq34XNfYUx0edzDd/Kpzx9zzgerU6qS/4FExNtBkam\n",
       "hEsMeXsx9vz2/QcqDgNNhciX0QAAAABJRU5ErkJggg==\n",
       "\" style=\"display:inline;vertical-align:middle;\" /></a><br>"
      ],
      "text/plain": [
       "<IPython.core.display.HTML object>"
      ]
     },
     "metadata": {},
     "output_type": "display_data"
    }
   ],
   "source": [
    "exp_nonpos_less = Forall((a, x, y), LessEq(Exp(y, a), Exp(x, a)), \n",
    "                         conditions=[number_ordering(Less(zero, x), Less(x, y)),\n",
    "                                     LessEq(a, zero)], domain=Real)"
   ]
  },
  {
   "cell_type": "code",
   "execution_count": 42,
   "metadata": {},
   "outputs": [
    {
     "data": {
      "text/html": [
       "<strong id=\"exp_pos_lesseq\"><a class=\"ProveItLink\" href=\"proofs/exp_pos_lesseq/thm_proof.ipynb\">exp_pos_lesseq</a> (conjecture without proof):<br></strong> <a class=\"ProveItLink\" href=\"../__pv_it/theorems/da9e16a407d2bb0c4fc17cb1b4bf8bf330caecbe0/theorem_expr.ipynb\"><img src=\"data:image/png;base64,iVBORw0KGgoAAAANSUhEUgAAAREAAAAXBAMAAADelGYUAAAAMFBMVEX///8AAAAAAAAAAAAAAAAA\n",
       "AAAAAAAAAAAAAAAAAAAAAAAAAAAAAAAAAAAAAAAAAAAv3aB7AAAAD3RSTlMAq1RmmUTNIjK7EInv\n",
       "3XZ/CtNrAAAACXBIWXMAAA7EAAAOxAGVKw4bAAADgElEQVRIx71WXUgUURT+9mfc2Zl1VIrAglhI\n",
       "BB+KQaRQaFX8qQTLMoQKcqGHoIeYXsNi6y0UNCtoE2QECVKqRUFBSBYhDKLwJepFGMMKlcSXUHzq\n",
       "/sydGdedkGC9sHPPnPvNPd/e+51zL1DoFrF7ZXLNyDfO/Ab2oX23+9dGf954zH+dGKX07VjhiAQz\n",
       "ttGMvrwA5td0oIW+3Swck5fCeI8l11vpLg/33wIe0K0cKByTJiGHTTwZE87Tba5MuL8GKDIBNV44\n",
       "JllhzMt/6mzz94wHwP0xEyGyQ0UFlElSWJer13S+Cu8sL4L7i8jv0+Lix8IxCRPBKuuHeyfc7WjX\n",
       "hbWsY8S2VZI5Z4EXe5iy4f+Y0P8axpLV7hA55EhBDWZRb9shsnZ3ECn1nej4VONtbjFRq7M8J6tc\n",
       "6VflKxICBxSTuKdQbx5wxlwmD8MLKBe7SPQUNdWOvCzkpXSHpmI64zJJ4AqL7m50lbWzYJrw4EiL\n",
       "kblTaPXWXGd3zJiFzyLYBmFj+Qi2OUUqjoY6y2XyASVkCWp1B+MxeZinhosTTODEy1Fstylv2aZE\n",
       "cyyZII/xxDR1rJ9ZJlNISwiwskeZrDY4TCLbiMWxEneQzGRocYDIZYbAObsDaRNjXi4ii1uhiSQP\n",
       "LpDHBKlvyld5kwY2yovIp29KzD68ogBNjQzrDhN5G8V6H4vBkNxkaOdgiTSmOI5HiFpQngWyyOxY\n",
       "OruyPUZUSDRE5+8hb+EGmbILYVgm3d3jWEEnCxgeGoCXScwKDpkCyU2Gdg8W5VwHwznZGdwazUo5\n",
       "tbMyRZ+N6NY92Y5Aim6nxtltsucRHMXJdDod1zT1Ery7UxKHxOIzJDcp2nOwhOY5jitxAcp5q6I6\n",
       "rxJHZi+IzCsWWfPWiNbRSeUsu058IZrrZWuiSdfMXMXKBw2BZCZFuwdLcNirWHz7Z7mZEsY9YcSM\n",
       "/k5zHD1qMoxx8rm0QbKb6QQzrmKxjossQ8pMhuQmQysZ+wAJ3XBxtNX401CTylzuQQmp6cQk+uLh\n",
       "H7OrpENFbRKR58Tf9TMz2uqtbG32PYwh7SsZRctz/ADRBr04KtmcyqcsskZ1UmwFhJBzbwP23sYV\n",
       "I0qUNJ5Oe0qe/8WBo4NcFoO7Rv0/DCZafPhKpt0FrK5dn/lPyNFX/Ybv7+V4+rXzNSQ6KZHxZ/KI\n",
       "5FTa8JgcrWO/WsFv338BE/AF6yfDMdYAAAAASUVORK5CYII=\n",
       "\" style=\"display:inline;vertical-align:middle;\" /></a><br>"
      ],
      "text/plain": [
       "<IPython.core.display.HTML object>"
      ]
     },
     "metadata": {},
     "output_type": "display_data"
    }
   ],
   "source": [
    "exp_pos_lesseq = Forall((a, x, y), LessEq(Exp(x, a), Exp(y, a)), \n",
    "                             conditions=[number_ordering(LessEq(zero, x), LessEq(x, y)),\n",
    "                                         greater(a, zero)], domain=Real)"
   ]
  },
  {
   "cell_type": "code",
   "execution_count": 43,
   "metadata": {},
   "outputs": [
    {
     "data": {
      "text/html": [
       "<strong id=\"exp_nonneg_lesseq\"><a class=\"ProveItLink\" href=\"proofs/exp_nonneg_lesseq/thm_proof.ipynb\">exp_nonneg_lesseq</a> (conjecture without proof):<br></strong> <a class=\"ProveItLink\" href=\"../__pv_it/theorems/6668da8e32b09697a06230da826673f6391e64e80/theorem_expr.ipynb\"><img src=\"data:image/png;base64,iVBORw0KGgoAAAANSUhEUgAAAREAAAAXBAMAAADelGYUAAAAMFBMVEX///8AAAAAAAAAAAAAAAAA\n",
       "AAAAAAAAAAAAAAAAAAAAAAAAAAAAAAAAAAAAAAAAAAAv3aB7AAAAD3RSTlMAq1RmmUTNIjK7EInv\n",
       "3XZ/CtNrAAAACXBIWXMAAA7EAAAOxAGVKw4bAAADi0lEQVRIx71WXUgUURQ++zM7szO7o5IEFsRC\n",
       "IvRQDCKFQquLP4VgWYZQQe5b0ENMr2Gx9RYuaJnUJsgIEuRSLQqKQrIIYRCFL1EvwmxYoZL4Eis+\n",
       "dX9nZredkGC6sHPPnP3m3u+e+51zL4DXTWS9PLulV/qf+HX4D+0r61/qwxXnI/5ryKjGb0e9I+LP\n",
       "MaMD0hUBxK9qAJ347bp3TJ5z4y0UbG+DHR7qvwFwD2/liHdM2rkcijA6zZ2nu22ZUH8TQMgAUGLe\n",
       "MclzY0X61cLMn4sOAPVHDAigHQp5KJMkty41bmk0Cm9MJ4L6Q+j3YW3tvXdMgkiw8vahoRl7O3o0\n",
       "bq1rMMlsBWXOWYBn+xiy7d+Y4LUGoWD2WEQOWlJQ/HloZXYAxe4WiNWuAx2fS9ykFhG1spQrRxwr\n",
       "KRLSGJTiomjeU9BqHLAgNpP7wVWo47uI9BQ2lN6KLKRCpldVYD5nM4nDZbowm4hZ+lH2kROHlIjG\n",
       "TkGXs+Zau2NETPjIJ9tBbEwXwXakUMVRocW0mbyDKhwCMWEwTLNW/pU6auMYE7DmK1PsgCHtMlPA\n",
       "OZaM47XE57Fj+8w6GkIogI+UPcxks81iIu5BBMVWqtEZcgNHmqDtgyUwwXF8d0AowrSTC8/iLlB5\n",
       "kvtX0WMG1Tf5s1TEE+t1IfTpqyojDS/IChVxQrOYSHsQ1UB4rDNkmkxH0I6DJbBCcaSFTZDHfHko\n",
       "1RerbA8hzCUawOMPordgm4TZBWBCQt3t47ABfYRJcHwEnEwipjBucKSfmARtHyzyQi/BWdnp353K\n",
       "C2W1syGFnwkY0BzZDr4U3k6VsiuS52E4AiczmUxMVZWL4NydKhYIiqSsMNo6QMREiuKYEldBPmfW\n",
       "N1ZU4uTSeZ55UZ41r/VwCx5UypPrxCekuSESE1W4apQqVl4gk1CkVKtTND9AxJpUiWLhy1/LzRw3\n",
       "7nAjog/3GVkYVJJByKLPhR2U3UQnsGgrFrbhAnpuoJASJA5BjUHQco4cIHKtbuNIa3KnoSTl5fKD\n",
       "EoT2E7OQjgW/LW2iDuqbkyA+Rf7+77mpLmdl62a5S5DsSobR0jI5QGQDHDgi2bLrkbxGGo5c1PRx\n",
       "IZffBtjexmQ9jJadzWQcJW/EtbBStN9l4bL7jcMf73ThKxis85n9f3zmPiBFX3H7++5+jqcfpa8B\n",
       "3gnx3L6YPEDpldEpmqajhD1PvL0Ye377/g0hRwZVkZbqyQAAAABJRU5ErkJggg==\n",
       "\" style=\"display:inline;vertical-align:middle;\" /></a><br>"
      ],
      "text/plain": [
       "<IPython.core.display.HTML object>"
      ]
     },
     "metadata": {},
     "output_type": "display_data"
    }
   ],
   "source": [
    "exp_nonneg_lesseq = Forall((a, x, y), LessEq(Exp(x, a), Exp(y, a)), \n",
    "                           conditions=[number_ordering(Less(zero, x), LessEq(x, y)),\n",
    "                                       greater_eq(a, zero)], domain=Real)"
   ]
  },
  {
   "cell_type": "code",
   "execution_count": 44,
   "metadata": {},
   "outputs": [
    {
     "data": {
      "text/html": [
       "<strong id=\"exp_neg_lesseq\"><a class=\"ProveItLink\" href=\"proofs/exp_neg_lesseq/thm_proof.ipynb\">exp_neg_lesseq</a> (conjecture without proof):<br></strong> <a class=\"ProveItLink\" href=\"../__pv_it/theorems/6db15d53a53f8154631513c8c8f167db2f2aae290/theorem_expr.ipynb\"><img src=\"data:image/png;base64,iVBORw0KGgoAAAANSUhEUgAAAREAAAAXBAMAAADelGYUAAAAMFBMVEX///8AAAAAAAAAAAAAAAAA\n",
       "AAAAAAAAAAAAAAAAAAAAAAAAAAAAAAAAAAAAAAAAAAAv3aB7AAAAD3RSTlMAq1RmmUTNIjK7EInv\n",
       "3XZ/CtNrAAAACXBIWXMAAA7EAAAOxAGVKw4bAAADh0lEQVRIx71WTWgTQRT+0mSbzU+3EQXRggTa\n",
       "i2AliCj2UCv1D6ESrRSqIMGL4kFW8CQq9SgNNFpFoyArFMFGa2ihxR5KEURBLIKKBWlJpCpVKYJI\n",
       "pSffzM7sbNKEBiEdyM7szjczX9773nsDVLv5RZ9pHSs5Hxz5YcLEKrTP4sCP+mLJ+Sdmn4mTNIiw\n",
       "t8bqEanJ2r2vTZ8sCdiLJGDEgH3s7XT1mDwUfThuRBQ914EvkKfnWeAqc2WqekzaRf/UDLRYYux9\n",
       "bymZLKJ/ENgO1NLHULR6TKRLwmZfpzjf+GS5AC/1Py00bcFLHqqtokwSYqC1bx0RQTRbgDi27Qej\n",
       "QL83MzOvq8fER4IdakdQaWTgneOYhY29w2IcIsBB4G4FW7b9HxP2X7Nb4P0lPzw4pVgin+uQ0iHb\n",
       "nYc/Unaj5tE95+wRF3VoIluM2FwqKSlcXRR6tAMeJyY8islO7LbWSi+SngJWKF6ShZ5Px40QxrKK\n",
       "SSu6bbsqIrnlCy0Hx4KXwFMIK9gFxzs92K8OI6PV5MoIdm8PydxAS04xeYV6ZgL/Hin+XbHl6y5s\n",
       "lDibCbQl9PWoeZdip5yRxmIs0aqqwsKBOdpCy8PD0x5j8r3NYeJfQpgCXl9jCuQ8C3+OlgWEEtR6\n",
       "iRPegS+Bn26qThRrixiU3nlLj+GzTlUwzA21tHSo3kriEV8U8t+POUz0JdTFoN00BTLJj+NoWUDQ\n",
       "fUDieAuQRQMRXC+wmp3Zgrc8k5B68rL9L0WcquDFfZ26i82YRydn4ruXgptJOKfdsySyhg85WhaQ\n",
       "7nGJU9Hpi2i/i7LMGfb4OzCpRV3RDk+PqyrY9bIBm7AjnU5HDSN0FG7v1AtD2EibFUOLAqI/h8QJ\n",
       "JZLVgw1zpcpw8HCuaZt8qYsXVQV9kl8nPpDmerlNDO2EVajY4DN+iI3U15k2WhaQzA2Xslmb5pZJ\n",
       "rJR3LsNdFTK4FEr4kKHl2i+Kbq4TjCvFYgFH6DlPGuBI9vfXWBwdzIoCYvQ7ON6otI3icbTSQmlX\n",
       "hWTU92XiO3Vo2pWA/w597/qaHdjvzmyHROxypLiSMTS5xS4g8PY7OC5ZE7PkP3UxmmFtuvhiV3Qb\n",
       "EMyjQTNAe2bSaVfKS5VNrDa6RsnxdoEaUmici69kkkBhptYs0XlyXcuw5a8wNvp4uekrlZSnb4Wv\n",
       "XtlprdmKmFyj8EqbNjqG1WpVv33/AwUQBB91wAFZAAAAAElFTkSuQmCC\n",
       "\" style=\"display:inline;vertical-align:middle;\" /></a><br>"
      ],
      "text/plain": [
       "<IPython.core.display.HTML object>"
      ]
     },
     "metadata": {},
     "output_type": "display_data"
    }
   ],
   "source": [
    "exp_neg_lesseq = Forall((a, x, y), LessEq(Exp(y, a), Exp(x, a)), \n",
    "                      conditions=[number_ordering(Less(zero, x), LessEq(x, y)),\n",
    "                                  Less(a, zero)], domain=Real)"
   ]
  },
  {
   "cell_type": "code",
   "execution_count": 45,
   "metadata": {},
   "outputs": [
    {
     "data": {
      "text/html": [
       "<strong id=\"exp_nonpos_lesseq\"><a class=\"ProveItLink\" href=\"proofs/exp_nonpos_lesseq/thm_proof.ipynb\">exp_nonpos_lesseq</a> (conjecture without proof):<br></strong> <a class=\"ProveItLink\" href=\"../__pv_it/theorems/9ae0ae4d4cbd719664ba2e8c4400580861a6501a0/theorem_expr.ipynb\"><img src=\"data:image/png;base64,iVBORw0KGgoAAAANSUhEUgAAAREAAAAXBAMAAADelGYUAAAAMFBMVEX///8AAAAAAAAAAAAAAAAA\n",
       "AAAAAAAAAAAAAAAAAAAAAAAAAAAAAAAAAAAAAAAAAAAv3aB7AAAAD3RSTlMAq1RmmUTNIjK7EInv\n",
       "3XZ/CtNrAAAACXBIWXMAAA7EAAAOxAGVKw4bAAADiUlEQVRIx71WXUgUURg9+zPu7Mw6rtRLCTFg\n",
       "L0HGElHogylWRlBsGUEFsfRS9BAT9BQV62MoaH/YFsgEEpT9LApGPsgSREEUQUVCGGtYYYYIEYZP\n",
       "fffOnbmz6y5JMF3YuXdmzp179rvn+84Fgm4x0Q+3Pq74Xhuds2DhP7TPYsEP6mLF9w+sPgvHaJBk\n",
       "d43BEQnnnT7aphYqAnagFzBSwE52dyI4JndEn0gbSUnPt+AzTNP1FNDNtrI/OCYdon9kxVtsMY68\n",
       "s6VMFnH1HrAFqKGHuhkcE3dLElZfl1jf+Gj7AM/VXy302kaEdqgmQJlkxEDp2DQqkuhTCeLg5jlG\n",
       "gX6vpqZeBsckSoJ92AFNamTorbcx82t7RsRYJ8Bu4OYKPtn2b0zYf81vRGTBfXD7uGSJ6eJeVzoU\n",
       "uzOIJat+qGms/bQz4qLWJ/LliA3LilJ4wIerNaGaexHyciIkmWzDdnuVO4n0FLf1dEUW6nQubeh4\n",
       "nJdMWnHYiaskUlxGZFDiWPIS+DUSEnbW250sdsnFKGjhYhXB7siSzA20FCWTF6hjIYi1u+JvTpXP\n",
       "ilyVOIcJlCX0ZSXCp9jX3khhOZZpla4w3zlDn1CmEeJljzH53uYxiS0hQQmv1lsCOcvSn6NdAzGu\n",
       "SJzYHUQz+OEn62Wxsoh7biTf0GXklOcKhrWmhqY+rLN7cZdP0mODKY+JuoTaFJRrlkD28uU4WhiI\n",
       "+hQejrc4RTSexOXSuPHKpl0PFeDqKcK+fz7puUIEgyp155owiy7OJHqrH34miaJyy3aRYT7kaNdA\n",
       "Noy7OJmd0aTys0xLJ9nl91BBMX3ZjlDW5wqOXzZgHbbmcjnTMPQD8O9OnQiEg3RYMbRnIIfHBU4o\n",
       "kaKuNcxUsmFtX3H9ZvemNl3mCmqBHyfek+Z6eEwM5ahdqljtCV/EQaqrLQftGQi6O/2KxSSPTOZv\n",
       "decC/K4wjPN6Jophmq4sUHZznWBcKhbz2E/XWdIAR7Iw1dscreWFgVCBWitwvJG1jeG+uVKjdFyh\n",
       "14x+mfhOHdY3ZxC7Qc8Pfc0P7fJXtj0idzlSHMkYmqTqGAg1y8VxyVr4RPsnD0ZTrE2WH+zKTgOC\n",
       "ualZcfrmcC7nK3n9VQurgw5X+bNaPxpn0n8LSby0Uiu26ELFQ8uw1Y8wDvpItdcXV2JP38rKo9sp\n",
       "rfkVMblE6ZWzHLSzMSp7MhDswTjw0/cf04cGxLeEaTEAAAAASUVORK5CYII=\n",
       "\" style=\"display:inline;vertical-align:middle;\" /></a><br>"
      ],
      "text/plain": [
       "<IPython.core.display.HTML object>"
      ]
     },
     "metadata": {},
     "output_type": "display_data"
    }
   ],
   "source": [
    "exp_nonpos_lesseq = Forall((a, x, y), LessEq(Exp(y, a), Exp(x, a)), \n",
    "                           conditions=[number_ordering(Less(zero, x), LessEq(x, y)),\n",
    "                                       LessEq(a, zero)], domain=Real)"
   ]
  },
  {
   "cell_type": "code",
   "execution_count": 46,
   "metadata": {},
   "outputs": [
    {
     "data": {
      "text/html": [
       "<strong id=\"exp_even_neg_base_less\"><a class=\"ProveItLink\" href=\"proofs/exp_even_neg_base_less/thm_proof.ipynb\">exp_even_neg_base_less</a> (conjecture without proof):<br></strong> <a class=\"ProveItLink\" href=\"../__pv_it/theorems/a4c9867b79e739474c7c75a9ca5d60844ea795c70/theorem_expr.ipynb\"><img src=\"data:image/png;base64,iVBORw0KGgoAAAANSUhEUgAAAREAAAAXBAMAAADelGYUAAAAMFBMVEX///8AAAAAAAAAAAAAAAAA\n",
       "AAAAAAAAAAAAAAAAAAAAAAAAAAAAAAAAAAAAAAAAAAAv3aB7AAAAD3RSTlMAq1RmmUTNIjK7EInv\n",
       "3XZ/CtNrAAAACXBIWXMAAA7EAAAOxAGVKw4bAAADtUlEQVRIx71WXUgUURT+9md2ZmfXaaOHyCCE\n",
       "IogwlohCH3TFn4KwJCOoQJd6CHqICXwx+lmjhyDDLfuzQKYQopZqNTAqikWIgsikH4oiGcEKE0QC\n",
       "UXqpc+dvZ8cxJZgGZu+599w957vnfPecAbx+ZH0Q74/LrnpNIcP7RyrRxztyh7s7TdFEQozNVnqH\n",
       "ZK0x1qDdfYOmkOJALZsd8AyImDSEZxhx36ErDgJtNPBpz5AE4waiaXTedoWqKzYAIQWIlHiGJGoK\n",
       "z4WpcmvVb0uCrogqCBDokHc0WW0KO9ePx0058E7J79AVIXpfffny0jskWyn+o3FcL7hOn3Ug4kTx\n",
       "mT5jLUI3ZwtwdQEmE/+GZD858edQaVvKDJscwohab4aJmH0YfGxOQ6X9VYd06W+kfjzuWMj0FhvS\n",
       "G+BkcAjL8rqWt6a0CZXKEpM5OSCsRBpc7QsjXQ1SBA+yLkhseRYRULm0M4D11h2FElUxaKl8+ywx\n",
       "hbq8s0lCo85B2JoUpVRCuTobSUuxJfJVSjSF6cK/TuFEykKCZkWYcUMCG0COYoJkBYtnxQO2MLF5\n",
       "lGoyNwKfVvYYkh+JPBJp9PhmGtqWAk0xrTwLi2WcUDBQ2FnKLSSUHTq5lHPLDrhpmDXGP0Q/fVTf\n",
       "xA8CO5YkLwtRbbm7SGnHLc11hO+O55F896XpSLsJjaj+Esg8d4Gcdyh4azSQYBc9nTR5Ynjopvcc\n",
       "wjEXxooXfTlkTcYy+0dpWzDB7CKAboGGI6UYQ6OGJHgtbWNsPKymsPsRS8qNISkN7hojDCEZdHQW\n",
       "4ZMh9NJbhea4PXd3hzWa+Wd6cpxZU4MMko8CGW2QdNh6wpdjBTbS6UokKbLDfncWyRAG9HxnfSra\n",
       "NUOUnZ+OztJqUvosvdefbi9swwGtoIjb1FXrzaUi89bck8PlTCvkeDZ9jxc4o8VE4vYqNiTt9CWR\n",
       "Oa//lYgqPmRQdMZqDcTIDp/gDd9FGl/6HZchMKvlHrPag9zRqGRwNJIMIgN85Cbpdms8waM8Y/lc\n",
       "P6twUqfmopktj1HcJZWLiVl7Z2k9fcoISiCBSFIcmLcCVlssrl53n2Id/Pr0Bwv5qrIk+Cu0vutb\n",
       "tqcuH5NteyeYhwBB8Vdf0tbLCMrjUYVyZussr3//Ni1fRpHqy84HxPk1YNCnRJTDZDPT1WUreQVb\n",
       "/ZdxE526vEbPg38OH7fgr6idNyThQiJxijH41F2z9jqr/QouWTDfM9dp1YW0p+8OHpkDV5GdF0mj\n",
       "o9fE8b8ez7++/wA2DARX23NAgwAAAABJRU5ErkJggg==\n",
       "\" style=\"display:inline;vertical-align:middle;\" /></a><br>"
      ],
      "text/plain": [
       "<IPython.core.display.HTML object>"
      ]
     },
     "metadata": {},
     "output_type": "display_data"
    }
   ],
   "source": [
    "# named and written for eventual even exponent,\n",
    "# but exponent specified as 2 for now\n",
    "exp_even_neg_base_less = Forall((a, x, y), Less(Exp(y, a), Exp(x, a)), \n",
    "                           conditions=[number_ordering(Less(x, y), Less(y, zero)),\n",
    "                                       Equals(a, two)], domain=Real)"
   ]
  },
  {
   "cell_type": "code",
   "execution_count": 47,
   "metadata": {},
   "outputs": [
    {
     "data": {
      "text/html": [
       "<strong id=\"exp_even_neg_base_lesseq\"><a class=\"ProveItLink\" href=\"proofs/exp_even_neg_base_lesseq/thm_proof.ipynb\">exp_even_neg_base_lesseq</a> (conjecture without proof):<br></strong> <a class=\"ProveItLink\" href=\"../__pv_it/theorems/0a21487ad39c80144d9bae5484e98a5e7d31b6580/theorem_expr.ipynb\"><img src=\"data:image/png;base64,iVBORw0KGgoAAAANSUhEUgAAAREAAAAXBAMAAADelGYUAAAAMFBMVEX///8AAAAAAAAAAAAAAAAA\n",
       "AAAAAAAAAAAAAAAAAAAAAAAAAAAAAAAAAAAAAAAAAAAv3aB7AAAAD3RSTlMAq1RmmUTNIjK7EInv\n",
       "3XZ/CtNrAAAACXBIWXMAAA7EAAAOxAGVKw4bAAADwElEQVRIx71WXUgUURT+ZnbHmZ1dJ6OnDEIo\n",
       "gohiiSj0wVasDKKSjKCCXOqh6CFG6MXoZ4seAg23X7NAphCilmorMEqKRYiCqCSLpDBGsEIFiSCM\n",
       "Xurc+Z9pFyWYLuzec++599xvzvnuORcIu6lmJ9+fUIvqDYWK8JtSZfa31I7ixxmKXSRUsNGC8JAs\n",
       "sfo1aC++wFAoSWAtG+0NDYictoSnGHFnec+BpmI/cJw6MRsakmjSQjSFczftychbzYVqKlYAZTQZ\n",
       "rwoNScIWnkk/amzqfNQ8K0xFQkOEQJeFR5NFtrB1+YTlntwn3wpTUUa/l8PDL8JDsoH8P5rEVXem\n",
       "Z9AJzGRl2z1LjtPNWQ9cnoHJ1L8h2UOH8AWsdiau7nY5hBF9o00dYnYLxIqShpb21h0wJR+p+U7f\n",
       "qr6JwLbc3UpLegOciA5grqPiXCSrsFqbY1ssADEt3lgUhTTS1ajE8SD/FxK+23tPEdGFbNCBG507\n",
       "Ci2h45WrO+hEJ4N17mHfyKxegrBrMkRzBTV6EEnknGeVWKclMpjyb/2BYxkHCZo16afXYS5jXYAC\n",
       "+QTpWqaufcAmJhtGKScLI+CMtMeQjKdcJMro0QYoZ5m4q8JIz9JsFcc09PsrS42DhKJDX64UfAXA\n",
       "vsXCFOwcww/Q3z3Kb/J7iX2Wos4to9xye5bWjhvGprjYnXSRfOWyu6V+Iyb6L4nMC+fp8A4Ng1YB\n",
       "iXZRYy57bJ3A4ngGMT8TzcwmX+AKyNtTzP5hWhZNMbuIoFui7tBSjKHJQBK9kvUwNhnTM1j8iAXl\n",
       "2oCShXCFmSQkrwKVRfpgCXfpV4fmpD96/D7297OnINg5NcogceTIRKNiwjYDPg/zsZK+rkpR4lu8\n",
       "d2cW8/92BoXLczraDUMUne+BytJqZ9HT7OI+2VysDMub9IXL7UG5fWvuqLEatlkqiGz4Ds/RZvhE\n",
       "EXZqHiTtxkvieAPbSkSVHzIoJmONAmJFR0yJ1tnlBl96p807R5zyoHY0aTkcjqejyAFDwje63QZP\n",
       "8MhlrFjoNTNcSyUd0cykMfK7ogsVct5bWVpPnbScEkkhnpb7p0VS71yi+mX3ydfRz0/GmcsXVqch\n",
       "XqL5bV/yPetcn2zaOalZDzG+/qIhVROUvlGNeOxWFrz+/du23Ilynct7HkbDrA0FgARfAxZ9qmQ1\n",
       "RjZzXV2elBd8OFyHlVUWm3HgS3zsDfC1a6d1ScxPJEGzOk7f9tfaIJL5Qto33lHiDFGfSXn66h9G\n",
       "7E6ozZdGIjFSdqIpUGuS+F8t9Nf3HxG1DPgrVtK0AAAAAElFTkSuQmCC\n",
       "\" style=\"display:inline;vertical-align:middle;\" /></a><br>"
      ],
      "text/plain": [
       "<IPython.core.display.HTML object>"
      ]
     },
     "metadata": {},
     "output_type": "display_data"
    }
   ],
   "source": [
    "# named and written for eventual even exponent,\n",
    "# but exponent specified as 2 for now\n",
    "exp_even_neg_base_lesseq = Forall((a, x, y), LessEq(Exp(y, a), Exp(x, a)), \n",
    "                           conditions=[number_ordering(LessEq(x, y), Less(y, zero)),\n",
    "                                       Equals(a, two)], domain=Real)"
   ]
  },
  {
   "cell_type": "code",
   "execution_count": 48,
   "metadata": {},
   "outputs": [
    {
     "data": {
      "text/html": [
       "<strong id=\"exp_monotonicity_large_base_less\"><a class=\"ProveItLink\" href=\"proofs/exp_monotonicity_large_base_less/thm_proof.ipynb\">exp_monotonicity_large_base_less</a> (conjecture without proof):<br></strong> <a class=\"ProveItLink\" href=\"../__pv_it/theorems/b1cb746f74b46c1b78dedb8c5c41b1a7cbf9986f0/theorem_expr.ipynb\"><img src=\"data:image/png;base64,iVBORw0KGgoAAAANSUhEUgAAAPsAAAAXBAMAAAA/2iRsAAAAMFBMVEX///8AAAAAAAAAAAAAAAAA\n",
       "AAAAAAAAAAAAAAAAAAAAAAAAAAAAAAAAAAAAAAAAAAAv3aB7AAAAD3RSTlMAq1RmmUTNIjK7EInv\n",
       "3XZ/CtNrAAAACXBIWXMAAA7EAAAOxAGVKw4bAAADTUlEQVRIx7VWTWgTQRh9aXaTzSZZ46UghRBQ\n",
       "FA+RIKXQQmtK6y8Ug5VelBrwIHjQ7VVriScPFhtaEWMhriKKRm2wYLVgCYhUEaEHRUEKW1FrGypB\n",
       "KIUexJn932QLKazfYWZ2sm/ezHzvexvgv4Rf638f/C46/d4fQQQi/ld8UztB3OaLOfzMy+tcCf1k\n",
       "FKGP211mbyiqvRd5zvFy7s4JWQgJYD99POMy/X1jtOb8gqfokYGzwGW6mazL9F36gCv5HV8Ip0IZ\n",
       "oBnwSUAw5jJ9SesHg2nGnN1pai2cOUXakAQvSYDP7dSntQHzY2bZmG0/Ynmj6wZpfYT7w/z8e5fp\n",
       "Gaq8gZkh2+TKtCa7pkUZDzBGhkGi+0PArTpW3Aw9PRU7i9uSpdReydropBhYR5SlF+QlzQD8kQ0X\n",
       "ij/vPKcMAjWl27IxfZho6XECPZZK60nouNdg5tBbVlJANBKQginHRbiFXEoIYqpop+fVM11bse/G\n",
       "+hAiCx4FvpozjYa4mQrCRZ2hQrYgb6C8blIagoA22U7vv64KOG7zkU6piv4d+FUn+lAWE/pxWVoh\n",
       "6Q7SFDqmTI9mF+BRPInSLydNen6yLILbKpr0KoBOKSDj8vm/8FacLn9Cxj5D/3OkeUbMh//MrZke\n",
       "/XSLNIyHimkH/fmESf9EHBHpUTM6vQpg6YUoIDUCMvg/8KR3OUhvIobGBs0AvNTuBonymCRXMj36\n",
       "QhxL6FWWZ8azFul1Q2HgD6c0egXAjks6SA1aUHnEk0mrOFaWta01fGSsBerJ0GwJEYtHNyGKllwu\n",
       "FxOE4DEL/RssqNueNXJPAMMxA6RJilzqnfKVaMampXal8Pnoi4FfhvXqGREDbZLp0Z/wFleV0wvs\n",
       "Ccmg59cw9ojmLG/kngL4lzEdpMUXRy23VH/gLxl6FEd6pYLq0QUCZyukIJXcY9oivVlutY2c/bQm\n",
       "vYJu6ktUHxSkRfMmv0xs155JcomKR5O73NGahv8mme/7Wbx3wKQ/vrecgDBKhxfPz+gAEq2En4J0\n",
       "7dX1R6b6Q6sVZ4wXA2S5Qi5n+pFZ99xoDYDEblEFaTqr6wtetUlW0jqP3FfzqhOetXqNDTRUD/2i\n",
       "/dGrd2xHsS56r20vtSD3/7q6HP8AvHHSHznT0FEAAAAASUVORK5CYII=\n",
       "\" style=\"display:inline;vertical-align:middle;\" /></a><br>"
      ],
      "text/plain": [
       "<IPython.core.display.HTML object>"
      ]
     },
     "metadata": {},
     "output_type": "display_data"
    }
   ],
   "source": [
    "exp_monotonicity_large_base_less = Forall(\n",
    "    (a, x, y),\n",
    "    Less(Exp(a, x), Exp(a, y)),\n",
    "    domain=Real,\n",
    "    conditions=[greater(a, one), Less(x, y)])"
   ]
  },
  {
   "cell_type": "code",
   "execution_count": 49,
   "metadata": {},
   "outputs": [
    {
     "data": {
      "text/html": [
       "<strong id=\"exp_monotonicity_large_base_less_eq\"><a class=\"ProveItLink\" href=\"proofs/exp_monotonicity_large_base_less_eq/thm_proof.ipynb\">exp_monotonicity_large_base_less_eq</a> (conjecture without proof):<br></strong> <a class=\"ProveItLink\" href=\"../__pv_it/theorems/b0617d853bdf847156da796fefe4d45a5900e8ea0/theorem_expr.ipynb\"><img src=\"data:image/png;base64,iVBORw0KGgoAAAANSUhEUgAAAPsAAAAXBAMAAAA/2iRsAAAAMFBMVEX///8AAAAAAAAAAAAAAAAA\n",
       "AAAAAAAAAAAAAAAAAAAAAAAAAAAAAAAAAAAAAAAAAAAv3aB7AAAAD3RSTlMAq1RmmUTNIjK7EInv\n",
       "3XZ/CtNrAAAACXBIWXMAAA7EAAAOxAGVKw4bAAADXUlEQVRIx7VWX2jTQBz+tU2aNG1jBzKQQSko\n",
       "Ex8qRcZgA2fH5l8YFid7UWbBB8EHzV51jvok4nBlE7EOahRRtGqLAycDR0Fkigh7UBRkkIk6tzIp\n",
       "whjsQby7XHJJl0EH8R7uX+7Ld3e/7/clAP+lCLT9ffC74vS8PwIRUOB/lW96Iyvb/DGHx5K2Jpah\n",
       "H/UieLjdZXZvSW99kBcdL+ferJwFOQGwHw/PuEz/wOytWmab2W17Sh4N4CzAZbyZrMv0XUZHLAvm\n",
       "5N4jbEE4FcoAtAD4VYBgzGX6Mm0Hg2nOmFuesiwIZ06hOqSCDwXA73bo07TD/ZheomJ7pdlWdN1E\n",
       "tR9xf5ibe+8yPYeVNzA9ZJF6T8KUXdOCBg9hDHWDSPeHAG7X8cbN0ONT8TNwRzXZG1l4TyqBNYjy\n",
       "+IJ8qBoAIbLhi+IvOs+RTmBd6rbahrusHhJGZE8S0MNmGL30GrhZ6K2QECCNBNRgypFanM+l5CBM\n",
       "luz0kn6m68s2dltkQ+iFRwG+WhLdvHyuCuGSwVBFW9A2UF43Sg1ZhnbNTi/c0A8atyxtS0At/TuQ\n",
       "VqyXZUgvlIWicVweZ0i6A1WFjknm0fw8eIgnYfqlJKOXJioKiA0KoyeARXy1BGRevvQXfFXbnmji\n",
       "FTXYZ+p/FlXPkflIn8VV5tHPtqjD8IiYdlDIJxj9U2UEUQudGYOeAIZJYAlILwENpD/gSe+08eu2\n",
       "U4xBo5cKxYftbhApj0uKZebRF+KwCL3k9dx41iK9biAM0uEUpScA77hqgPSCEyoP8WTSHs3mDNma\n",
       "9yNnTVBPBkdLjlg8ugmi0JrL5WKyHDxmoX8D8/q2Z8zYYwBP+DGISgpd6t3KlWjG6WMXfTnwy7Re\n",
       "2ikqgXaVefQneAvXyOll/oRq0kurMPYYxyxvxl4HiFsVHUTLl/r84ZKpVWWkVy3oHl1AcL6KEpLE\n",
       "HqYs0psRV9rR2U9T6RVMUxcaVAKipWWTXya+a/cEDMeIRyMl7WhLg3ALzff9LN0/wOiP76kkQB7F\n",
       "3Yvnpw0A/b3BIEN7NT8y0hwpNcGo/dBSa4pJSgDJvZDLMT9ieS+OrgPoFARE+3V9wWs2yau08Wh9\n",
       "65Y64XnVMrCBhuqhX7APfUbDd5TqoqeAqyhHcooDyP1fV5fLP3TO2rFsBGhGAAAAAElFTkSuQmCC\n",
       "\" style=\"display:inline;vertical-align:middle;\" /></a><br>"
      ],
      "text/plain": [
       "<IPython.core.display.HTML object>"
      ]
     },
     "metadata": {},
     "output_type": "display_data"
    }
   ],
   "source": [
    "exp_monotonicity_large_base_less_eq = Forall(\n",
    "    (a, x, y),\n",
    "    LessEq(Exp(a, x), Exp(a, y)),\n",
    "    domain=Real,\n",
    "    conditions=[greater(a, one), LessEq(x, y)])"
   ]
  },
  {
   "cell_type": "markdown",
   "metadata": {},
   "source": [
    "### Even power exponentiation is a even function"
   ]
  },
  {
   "cell_type": "code",
   "execution_count": 50,
   "metadata": {},
   "outputs": [
    {
     "data": {
      "text/html": [
       "<strong id=\"even_pow_is_even_fn\"><a class=\"ProveItLink\" href=\"proofs/even_pow_is_even_fn/thm_proof.ipynb\">even_pow_is_even_fn</a> (conjecture without proof):<br></strong> <a class=\"ProveItLink\" href=\"../__pv_it/theorems/392aa7defdf011f13cb34bfd5b925b3cb9e024980/theorem_expr.ipynb\"><img src=\"data:image/png;base64,iVBORw0KGgoAAAANSUhEUgAAARoAAAAmBAMAAADpUknrAAAAMFBMVEX///8AAAAAAAAAAAAAAAAA\n",
       "AAAAAAAAAAAAAAAAAAAAAAAAAAAAAAAAAAAAAAAAAAAv3aB7AAAAD3RSTlMAq1RmmUTNIjK7EInv\n",
       "3XZ/CtNrAAAACXBIWXMAAA7EAAAOxAGVKw4bAAAD9ElEQVRYw62YS2gTQRiA/+a1m02sBUGwh5Ki\n",
       "0pxsFB9QxUZbHwcfAS+CRQIepJ7Wm0ptIygUKjaVFlwFCVYFLWoVFTy0RPEgFeuDIkUppFoVH6go\n",
       "paJgnMduO5ntTjZ2fshsMv/s5tt//tcugEhq8z+hiGyEucvlDB535n+Ll1UXvZCvQgKN+ooeh+ZK\n",
       "sxpkyHI5NKrjBfpuVrqnCUak0AT6nTRx2O6eRhuSQlObcdJMQltKdGah7TZIoXntqKkjNN6GUxNu\n",
       "bNemS6BRRTE5gD69TbGw7sJ2wX4JNGVpclC4ad0M2z448h7mZ1zYzpuVQDM/Rg5vuOm9eDicgZM6\n",
       "VEGTG9spPygNyV6LnWmE+k5iBQ8fWOUIUokrWPkIGlXHlMfYboTSbMKH/c40Qn09Tey2+QPINO3H\n",
       "0d8o32E0Ovu5hbbbTGmOYTulnWmE+oVkbLDNrwR4ms+jL/4K+Byb9VTOdt8oTQDdQSjiTCPU3ydj\n",
       "1jYfzhRNeJztalOExovQAwIvFur/ELdJ2lN0rCgNZ7vOCI2pJ2Njj0UxJdKTfsPHOLH2tbLjFjKm\n",
       "qLKbawrlRozSbAU4K6IR6GlcsobwwXgO5VivzVzbx7A8Z9ZwuSJHaQ6CUnAn5d1VrSwNp1dG7sA6\n",
       "c0IlNPMYr1oD9ZkFaPOyAtuYaziafkoTzIQSVgoYNxJal+45x9Iweji1qAeqQxmf6aT+SeKySH2Z\n",
       "3PoopGioqt8FNOYajiZOaTy5aSdtRI4dug6wlqVh9L6tOBPm4iFgbRNOsJcdJphZoQcPO9NAcj0a\n",
       "vm6Z0HEKhd4TTN0hlQHraT15i39Gl7YW0rA7Bf4puIru4JnAb8w1s/sN3EKZs1xfFIhcwdM1NXyd\n",
       "wnpSTzSSBKOhC3ssHyIxFczNhEtPWRaQB3jTgpAy18xS8TBNC/JJL5xXYReprXU8DdaTeuInwROF\n",
       "+Efrwn/xyISz59fFrD9SGPS8WGsKpc3MN1BG+owp1HEbhhFp383TED2uJ95mwziNaPqmHekh2a+Z\n",
       "bdF25JaswJuXENjGXMPV3wTbUahZBTrInSIv1uwdBa4naj+1jX+ZNdtMxlHbtY+W/NRAWlqLpiWU\n",
       "9KFYxr5wW4dBGw2tJyQLrgIYt6a3WTWSk4aSaQbYbsv3bvATKGdI+9zcnbLR0HpyGCnUlzqUTXcU\n",
       "JPEE+V5TSZdM02Xv/foMIyHq/bR7Rk9hdSHeqPF/HtRLpvkpoRMNxsmhlZv+UDIMSkFzp/FmQY6E\n",
       "khJotElJNOGIjKe7u5Jovkh51gyn5NA8kEJjb6v+S8qTct7f7JNC06LLobmmS4DRXrh6m1T8vZ9y\n",
       "QAJNMObqvZ8LOSSB5pL15R8+OylD5Kn0gwAAAABJRU5ErkJggg==\n",
       "\" style=\"display:inline;vertical-align:middle;\" /></a><br>"
      ],
      "text/plain": [
       "<IPython.core.display.HTML object>"
      ]
     },
     "metadata": {},
     "output_type": "display_data"
    }
   ],
   "source": [
    "even_pow_is_even_fn = Forall(\n",
    "    x, Forall(n, Equals(Exp(Neg(x), Mult(two, n)), Exp(x, Mult(two, n))),\n",
    "              domain=Natural),\n",
    "    domain=Complex)"
   ]
  },
  {
   "cell_type": "code",
   "execution_count": 51,
   "metadata": {},
   "outputs": [
    {
     "data": {
      "text/html": [
       "<strong id=\"even_pow_is_even_fn_rev\"><a class=\"ProveItLink\" href=\"proofs/even_pow_is_even_fn_rev/thm_proof.ipynb\">even_pow_is_even_fn_rev</a> (conjecture without proof):<br></strong> <a class=\"ProveItLink\" href=\"../__pv_it/theorems/4932f24c9c69ca0123b73bf558923fc7e862123d0/theorem_expr.ipynb\"><img src=\"data:image/png;base64,iVBORw0KGgoAAAANSUhEUgAAARoAAAAmBAMAAADpUknrAAAAMFBMVEX///8AAAAAAAAAAAAAAAAA\n",
       "AAAAAAAAAAAAAAAAAAAAAAAAAAAAAAAAAAAAAAAAAAAv3aB7AAAAD3RSTlMAq1RmmUTNIjK7EInv\n",
       "3XZ/CtNrAAAACXBIWXMAAA7EAAAOxAGVKw4bAAAD8UlEQVRYw62YXUgUURSAz/45szOrKwSBPshG\n",
       "hT7lFlZgUdu/D1kLvQRFLPQQ9jS9ZZhuUCAYZqHQFMTSj1BSmVTQg7JFD2H0S4QUwlpW9INJIYZB\n",
       "du+dGffO3J27g94DOzv3njPLd+4995yzA8CT2tnfUEQ2w8KlN4Ovu2dn+GZLiv5QsFwAjfzO+B5e\n",
       "KM0aECErxdDIw/MF6LtTmR+EY0JoSvrnS5OAxvxAGRZCU5sp6KsHmYK2dH60SQjN+8K+epB6QhPY\n",
       "0jmOR22aABp5xsVXLzKIPlf2xyMYJNwvgMbX5eKrXSTHWDOPdR8c+wxRvNmBrACaaNzFV7t8cIwP\n",
       "4EtzBk5rUAX7Ce8vg4Zkr6XuNFz9Gc2WwvK+2sTvPHhlyAkpIeGHn8BWGU+9MWi24a9D7jRc/Ubq\n",
       "3uarPfEzM4eReftJhC1NwkgNntlu0JzA69TlTsPVL6Ziw+4rLVuY5+oAXszOoptQOXwnu/3ToClB\n",
       "hGrMnYarf0gtjd1XWrLMcxFmN2vThCaA0Eo4UczV/83fOnylwybFpvA4E4Ex40w9Gx19yjtTPD3p\n",
       "N5SJyo4BXpmngti0VZnKfztu0DQAXODRcPTGuQzCWI7Jw42jWF45F8K0DTDLFc0ZNEdAspGWdVe1\n",
       "0jQOvfTmHqw3J2RCsxY2ZhZx1qaUijrT1s+EUrTfoAln1KSVMsb0pHJW81+kaSg9dFb0wBI1EzSD\n",
       "MDSFr2njeLpKBD3eS5ZqxLKVJxmahEHjz80F6VYU2OotgHU0DaUPNuBMmEuoQK8NwPOiNHkhtqGs\n",
       "Gw2kNqDLxI5xDadIuHKKqiukMmC9UX8+4mHN8lYHTWgabnDiht4p09b/0i1uYABlxjKtoiR2HU9X\n",
       "VzvrFNaT+qOQJFijXt5nxRA+U0qPLwu8piucyx8p0zbQVbDiYZoWFJMBuCTDHlKL6500WE/qT4gc\n",
       "jhpIfLV+/B/eyT9Xs6EYh4Y6zpZtkKFvM/MN+EhfMo06bl3XY+17nTREj+tPoEnXzyGavrlAeoyR\n",
       "duWWreI2QfltsWxLk0z2S9IdhZyVoIN4gqJYYTsKXH/kfmNtQius2SZPbdUIM3O8cEtr0bSoqSA6\n",
       "yzgW7mowxNAY9YdkwdUAY9b0Tk80dVC8jg7S3Vbw09A3kM6TdrupO83QGPWnGSnktxr45jqKjBea\n",
       "sLP/KtATnGV7vz5dT/J6P+WB3mOvLjEvNEpXMTyz4i2wEw0nPG1Vq2P8hbFAaWjhNIEsiBE1JYBG\n",
       "mRJEE4mJ+Hd3XxDNDyH/NSNpMTSPhNCwbdO8pCwl5v3NQSE0LZoYmpuaABjltae3ScXf+0mHBdCE\n",
       "457e+3mQowJorlk3/wEcyylDPCHK9gAAAABJRU5ErkJggg==\n",
       "\" style=\"display:inline;vertical-align:middle;\" /></a><br>"
      ],
      "text/plain": [
       "<IPython.core.display.HTML object>"
      ]
     },
     "metadata": {},
     "output_type": "display_data"
    }
   ],
   "source": [
    "even_pow_is_even_fn_rev = Forall(\n",
    "    x, Forall(n, Equals(Exp(x, Mult(two, n)), Exp(Neg(x), Mult(two, n))),\n",
    "              domain=Natural),\n",
    "    domain=Complex)"
   ]
  },
  {
   "cell_type": "markdown",
   "metadata": {},
   "source": [
    "## Exponentiation laws for positive whole number exponents"
   ]
  },
  {
   "cell_type": "code",
   "execution_count": 52,
   "metadata": {},
   "outputs": [
    {
     "data": {
      "text/html": [
       "<strong id=\"product_of_posnat_powers\"><a class=\"ProveItLink\" href=\"proofs/product_of_posnat_powers/thm_proof.ipynb\">product_of_posnat_powers</a> (conjecture without proof):<br></strong> <a class=\"ProveItLink\" href=\"../__pv_it/theorems/34143a5edc9b4407b10f7d37ea28798d4a63243c0/theorem_expr.ipynb\"><img src=\"data:image/png;base64,iVBORw0KGgoAAAANSUhEUgAAAUkAAAAZBAMAAABOXcHYAAAAMFBMVEX///8AAAAAAAAAAAAAAAAA\n",
       "AAAAAAAAAAAAAAAAAAAAAAAAAAAAAAAAAAAAAAAAAAAv3aB7AAAAD3RSTlMAq1RmmUTNIjK7EInv\n",
       "3XZ/CtNrAAAACXBIWXMAAA7EAAAOxAGVKw4bAAAD+0lEQVRYw71XTWgTQRR+TTbZzeanwUOhCCEi\n",
       "0l6UHFqxtdSVVKiIGPEiWjTiQfS0PSraRkEULG38A1dBVwuCRDT4g3qRqgcVEUSKClLYWrHWVgmC\n",
       "P/QgvtnMbnY2mx9h68AmM++9mfnmzfsbALdbuzvLSEaHgwVoHsmddbJGh88uAMqr+srFvjc5PBnp\n",
       "yLACbau+4UFk59nIjE6dM1AWRbsXAOVp8vOh2B/tS4SikSjDF9ufwFOAHY6TCfMRTFKUVDSsAuhr\n",
       "LHUNJD9Gbj1fHBz4BI0ZLs8K3EjDPEAk4Tgbmb9hA0VpiCLEdYS0xzWUOqarxigGQxCOsxINmo+c\n",
       "ZJ/j9AZNGIPXwCnKc+U0FRUR6WF3DbQxhT9JY/QMZmBQYCVCGU5CU21znB7KRLJ8IUPtkoruBvDj\n",
       "rQfjrqEcweVgzLjAAmqzwxZKBiF8BLcOqU7TB1F/3qxEUVLR9eiHaCB+95znKzHLNB34omhL/V9Y\n",
       "ic0QuY1/fkfD3Ax+mY+pFCUVncPv5cTEC/dQNhm22f9woNw5Fk9rRj8YrcK0xkuAnYi6F+B8nRDy\n",
       "tekKVZPvKVwqu9M+OTBv9L1E4dyE3qJ2pjX3oBXhrfcDH/3XrFWZvgs/4tXXE7CxLBo+Ae6VmaPG\n",
       "qjBtxooeGVCDKSstciZmvyt+/C50RctROtDHiWviepsA3lsx/CSaK0DYVLtQsIUwK5NtN3E9j2Y6\n",
       "jzCppMSTsueCVWa4+SwsCaqcakPpTN9FUT4H8YdVWkef1TeknmXTJcO06ZJEprSZKHtwGLwBsNp6\n",
       "xl6SmzQpCHd6xntStej0xsU/4C2U6USDNaWq5BVrlwzTFt1I0r9F0kCu+14xa40eLRYLRt6fInKt\n",
       "ywaCpv1hDfHRia63ZvwCGojfoSHdYkcZhyaPUWZ4s1WYbCM+DgfxKOJb4RdcI6SWFibvi/pircEr\n",
       "2000pIaQHeh6m6NB5iIsl+xmHNA84xyTSisx2dal5068Z07C/LmFjDo7mbzv04NvK0gzJhpSQ6gO\n",
       "dPPcAl7m5dljsYzdx2P3+z8bg3CqCpNta03bTWHlsVJRlPjxrUze9+5VlFOIJucvxcUY9DnSgXoO\n",
       "vKsjqh2qP1PsNq1CDnSqJ/ScgN4jlvK+kC/qzLeiNOsZ9AhOdPMi2+rYOlk3SNEM9iF5ZIsaIFbK\n",
       "35HhoZg38/55+paZpJI5UkO8ay2jG8GMBJiAXLsOrb8M85pJx5dccRt4vZTP7T2TER6beX8/Wpfw\n",
       "RoYGKjkUxxpiNlFGN9oicvraEOo4iGnBNtGcolCb9pT0/UA5ywjFK9Ct756BmltP12+Wld892ypy\n",
       "fGqNN2Te5YdUFdtIVLaS//QeL/kjquUv4rcomPs+ctAAAAAASUVORK5CYII=\n",
       "\" style=\"display:inline;vertical-align:middle;\" /></a><br>"
      ],
      "text/plain": [
       "<IPython.core.display.HTML object>"
      ]
     },
     "metadata": {},
     "output_type": "display_data"
    }
   ],
   "source": [
    "product_of_posnat_powers = Forall((a, m, n), Equals(Mult(Exp(a, m), Exp(a, n)), Exp(a, Add(m, n))),\n",
    "                                  domains=(Complex, NaturalPos, NaturalPos))"
   ]
  },
  {
   "cell_type": "code",
   "execution_count": 53,
   "metadata": {},
   "outputs": [
    {
     "data": {
      "text/html": [
       "<strong id=\"products_of_posnat_powers\"><a class=\"ProveItLink\" href=\"proofs/products_of_posnat_powers/thm_proof.ipynb\">products_of_posnat_powers</a> (conjecture without proof):<br></strong> <a class=\"ProveItLink\" href=\"../__pv_it/theorems/ce0d9cd8fed2b28970a28dd74870918a85e61e900/theorem_expr.ipynb\"><img src=\"data:image/png;base64,iVBORw0KGgoAAAANSUhEUgAAAssAAAAaBAMAAACz2wxLAAAAMFBMVEX///8AAAAAAAAAAAAAAAAA\n",
       "AAAAAAAAAAAAAAAAAAAAAAAAAAAAAAAAAAAAAAAAAAAv3aB7AAAAD3RSTlMAq1RmmUTNIjK7EInv\n",
       "3XZ/CtNrAAAACXBIWXMAAA7EAAAOxAGVKw4bAAAG3klEQVRo3t1ab4hUVRQ/O/Nm5s2b3XEosCRa\n",
       "JtTaWlym1NAwW22XTJEGC6I02vCDJASzfrNMJyFCWvWRiI4fakwQbI0ZtgzbD2HFsokUEywF5sTb\n",
       "orZtVSQyZaE/97z7/tz77p15b3CMqQP7Zt65v3feeb8599x7zluA/4GEvw+ulcnDRqOYuraD35iX\n",
       "O6u5lqN2KT5P1joZk0LGgtpqzzpfe/0xvbxt/grPoIKHS9V0IDcGWi+AQ/g8C6yT2BUZRK6VyS73\n",
       "63Z/jM7b1jmYZzBmjoYz/1Waj5M/zfYrrO8sS+auVCuT5bEZ5yLDF6PztkWa2RuvtGhO4ed8P5rb\n",
       "zAjKtA7NB8hf3Panbeq+cREi18qkc9tJJyue98XovG2RZvbGHUVKcz+ebPGjWcHMFG2dDB07Qw47\n",
       "nLz5A+Rhe9GbTYk20tMfwNpXadX5PlkHEztiM8nYFmk23bEkmaI0v+ZkkHo0q6l6eevfFwVn5Ton\n",
       "b/blQV3kpRm17VAK8Jv9vsY9KRVrY3afB6VQOFs44Ni2Tm2v3EFbtFlKc5SYTaR9c/NW8jHSOjTP\n",
       "wdl11cmbkUqOTk8umxJtDIYC7Af152KwZP6SDadxymZqY2hG0XnbYjTjYHj14v5uZHszpRlXwaj/\n",
       "Eri4tVbC/YRTddbJm2qlLNJsauGgv7E2Y28CevT2bDdGpF4b49LM2MbTYdDK5MAMhqZhLIRT7nFr\n",
       "p/FltXrOn+b2avVCuXVovoRpr4KT+Y4pAw7BrXmOZler5OsbGvxkJ8Rzbcsgnj8Oq9HqmdoYl2bG\n",
       "Np4O5dRxcmAHD2sDCiaJixbNJOcc8aeZmIwXW4fmuRhgOLs25eKzzJpuiasdTda1ExmHd+h1HdAN\n",
       "FUJHhF64voryNY9xaWZsi0nDlEqo3BEmn88XKc2DEEtJXUiwNBPMoBR1j9x/jHwjKMLXmuWMCy/g\n",
       "fo48kvY5KBVTo150lw5XG/37z7o0n8zAevrtKPwEnSQe1eu1MfvOpZmyz7ItqQLRhVQy2zaF6S1P\n",
       "aY4XE1ne7qvrsuFPrULRKU+OwCkONL1qyqD1LlfCxyZOwYoUvR014I9gFpqs0BBgnXHhL+BjEiPK\n",
       "FejgclkJfZVredH+wOMTAN95thRXvUgR04jsylKaQwa7AqqThWwoNQprvTT3uCvgvnkH4cRtcG/Z\n",
       "DAKmhMeBuxJFpUhJjJQhEMKVo3wnwuuMC5/AaU4stOtQ4oIElTW0HkETcBY0D62aQPNZiS64lCya\n",
       "YWAlo8UtX2ilglOapznqlKEK7jJHDQjjQ/czJbw5MN/oTdiTB3eBARCu9POdCMGZrd5oLhnwiOTR\n",
       "pFqJaH9B2NP5iF335GYJpqFotpIGjBDnw4/um0wuz0MSFaHdTxvlRN/6vn6G5sTdJAK1D2Zy8CPe\n",
       "exn5kXBlrTAlPA5A18KdCfiwb6Iva220/RGuVLiGgOjMiEBzGuaGhOJUrpXR/BtZSPn1QL3mj2lo\n",
       "65mzaN5B3D22KdOeIoXhCbN3kR9dKERzjCRIeD+3P6fhYhraRp8iNuCW8OYAdCXe3WjH6oJACCaS\n",
       "BriGgOiMA5+HOw1iLW6EJhTh0eRaMxtjlqZp2ZS3YVEvn1Ais97rREwjYu80oI2E9cs/w5w8qWCf\n",
       "pE+mJHUvzXA7zmJS+ETwmvAxusWJ6G5HwRyALuidtkl8hkFgB0COYB5R5xoCojMO/KK1w9U6Tw/+\n",
       "IhIq1ToJnaZluhjMvNHJ76zDwr5ZxDQiK7hGaCchsCMNDxYKhXQor5UHBJppv3oSwi8WCm+pr9Mb\n",
       "h1JuR8EcICQOR20S9zAI7ADIEUwT2cJaIjqzh40RMe6a0i1JNdfeKo7mL2AadqnwJg0g2GB49s00\n",
       "Sq7BgfdUM3WSJRCw4NXdjgId6IJIj7UrNue4jcAOgBzB5EWdawiIzjhw813G2M2gOdrkbu9mlmay\n",
       "vnfCcoVWemT3mkxJ2/rj6tWHaM34ymOQMIbNRcvpKJgDS5le4mVgENgBkCDMZoB5cLFWQ0B05rK8\n",
       "Q9dMKTW31rU7dFZWTMEWGPwVYofJyd4tAHKan3pgJgPbcVZrHxXWwFCa1O9uRwEH1G9y9B0AmMU9\n",
       "g8AOgAShfmZ3BBgsbQiIzhxy4h4z6NDNoPn+5poLp0D2kmq4UMjKehrsD/RxwW57pWEj85aAGQB7\n",
       "Y+EisAMgQ4ScMxdrNQS8zmhu/+AWXLvTN4Hmb5trriMHN/wuMFIEJSd0FNzVJMcgpN0FHHtWtOY0\n",
       "BCRwS7h3gc2MPqO59ux3gTdCM3agRmtftjQIAjIBrVlwe1OCybm7+TQ3+Q1RQ2+2X6rzfxpa7cuK\n",
       "QRGBrHng3P9pNE/WNnl7iC5fupD5BxSNV2BLycAwAAAAAElFTkSuQmCC\n",
       "\" style=\"display:inline;vertical-align:middle;\" /></a><br>"
      ],
      "text/plain": [
       "<IPython.core.display.HTML object>"
      ]
     },
     "metadata": {},
     "output_type": "display_data"
    }
   ],
   "source": [
    "products_of_posnat_powers = Forall(m, Forall((a, k_1_to_m), Equals(prod_a_raise_ki__1_to_m, Exp(a, Add(k_1_to_m))),\n",
    "                                             domains=(Complex, NaturalPos)),\n",
    "                                   domain=NaturalPos)"
   ]
  },
  {
   "cell_type": "code",
   "execution_count": 54,
   "metadata": {},
   "outputs": [
    {
     "data": {
      "text/html": [
       "<strong id=\"quotient_of_posnat_powers\"><a class=\"ProveItLink\" href=\"proofs/quotient_of_posnat_powers/thm_proof.ipynb\">quotient_of_posnat_powers</a> (conjecture without proof):<br></strong> <a class=\"ProveItLink\" href=\"../__pv_it/theorems/b0bcb1698d0fde61fe350d682df0cd3866cedadc0/theorem_expr.ipynb\"><img src=\"data:image/png;base64,iVBORw0KGgoAAAANSUhEUgAAAVMAAAAyCAMAAADWSsgNAAAAOVBMVEX///8AAAAAAAAAAAAAAAAA\n",
       "AAAAAAAAAAAAAAAAAAAAAAAAAAAAAAAAAAAAAAAAAAAAAAAAAAAAAAACXHtMAAAAEnRSTlMAq1Rm\n",
       "mUTNIjK7EInv3Xbt5cmRiLwgAAAACXBIWXMAAA7EAAAOxAGVKw4bAAAElUlEQVR42t1ciXKkIBBF\n",
       "DrnJLv//sQuoiIroOGq2mqpJJdCj8OzzgUEIapPi1dspqRD01pF1D6FEONchRx6BW1jooHZ6o0iE\n",
       "mYCz6RAKwD7QsIUNKek3XVy52OmDjlL9yE11BxlSbnhNd12wUBN+sfiZ21oCGFPrar0mqKiTAXGP\n",
       "nolf2MB1qcRUldePukokos/cuKdgMTWlv+SddjzqLYvuruexxz2kT8xzoJA6X0DGomuV/iWj7KGG\n",
       "KVssTMX8CdG30hzsYXpU4YsIRH1CWb90b+UdzHS/jFBGppWy1ypimIm/6dZ6Q/x7KQfIKCU8KTGN\n",
       "6X3XI8zfMn6Ieb9baIp0sRCn3ySkLe5lGKM7VgKmyUXCrzqnRUhIrxdOLe5lGuNLhzqLYRham6LS\n",
       "ndxBg3uZxooESgffTXNI7EF4V+Vvrw+X3IuQU+PjGDOLIMWQmBSVSxBqKu7PEFvcSxyjtOhP9+9H\n",
       "xdUYBKbY372OFveSxqzAYmknZHSjPYwQRfzdPF6Le0ljTpeRyMcuY2MzGgam7q6kO/NZHzYffShN\n",
       "DxbKtp/+mMWgtmg5DbrMZ5k+PZDpx61r+1K+Gb0bK6X3MEPX+SxrJxXVDZbBSdodmwG3NF6EjIXE\n",
       "YUZzIN/KQobJau0qD65b1PZ+vx0o72U+y6bMCrtahBKuk5LFwwBdsAIsdy8/CeIO6fB0qDrA9Jy8\n",
       "bHm6FIxiZigPMP2ucrjEZw2YBkDJRgspHeOnVmmM7GGaBXG4CM1GvIvpSfkGph2fMkO0DUj0Fn/6\n",
       "BZ812H5ITackVWnidJynI7mkFcPD4nVGIQsiLDALHiJgpCmlNnxYhWo4Jb/CNM9qiB56yAzjlA3e\n",
       "xqg74v4XfJYZTJ5PZIqyPBQCPBp8XjlfXHbNKMyCAaOg05hV9K6gGk7JrzDNs6KpJPwJHxI6Iqbb\n",
       "HXV3T356nc+asOzEZJdjZcvyXIkiqsEozIIRozAFJ7cYFVTDKfkVpnlWqFD0AVPjHsr5r/NZa77B\n",
       "sFH9SD/QBBgJwUSDUZgFE0ZKT9GObr6UqIaT8gtM86xQYRiD7W8LUfzePsmO19Crv2OeS5RCYh4Y\n",
       "Y1TOCZeMQiGYil6GXS3fzFTDSfkS03lW0fb//JXJ9vdilGgQ7VsG+QUOx0THxaKxz2UV1zROXLuo\n",
       "VFtGYRYkSUHWvO38pYFqOJKv6WmeFZppNOTcWG4f2F7Vrb/I4TBK8MAI8HmfQOlgrzEBEjHKrhmF\n",
       "LCjsQMCuljl/aXXhHfkKpvOsFiV0yPlpJW+yu2RQhUF+l29QOtrYyjfhs4KNLx3Kt/JTfExqdKYx\n",
       "tmaQ72+f1hzsyhNm19SijukJQpJs9HBmmDYM8v3t062bSxtWF3e5qlPDJ2K62Di0zDBtGeTbG/+f\n",
       "D6JcDySr3eCCYaowyHc3mGcmEDU3MUyX3CnMsz1smfW/e2IK6Bk0ZBdcw6snpgjQs5LLhb17YsqC\n",
       "ffVksV95w4mpD9wO1LPnK0X9+sTUBwkg4Dek+t/ZWGce8OuRwvyKDVqMADf3G4e/YL8bWXuH93nL\n",
       "7xHw1r9th6KH/wL/2/8TYYb0H5KiLRLeOc4MAAAAAElFTkSuQmCC\n",
       "\" style=\"display:inline;vertical-align:middle;\" /></a><br>"
      ],
      "text/plain": [
       "<IPython.core.display.HTML object>"
      ]
     },
     "metadata": {},
     "output_type": "display_data"
    }
   ],
   "source": [
    "quotient_of_posnat_powers = Forall((a, m, n), Equals(frac(Exp(a, m), Exp(a, n)), Exp(a, subtract(m, n))),\n",
    "                                   domains=(Complex, NaturalPos, NaturalPos),\n",
    "                                   condition=NotEquals(a, zero))"
   ]
  },
  {
   "cell_type": "code",
   "execution_count": 55,
   "metadata": {},
   "outputs": [
    {
     "data": {
      "text/html": [
       "<strong id=\"posnat_power_of_product\"><a class=\"ProveItLink\" href=\"proofs/posnat_power_of_product/thm_proof.ipynb\">posnat_power_of_product</a> (conjecture without proof):<br></strong> <a class=\"ProveItLink\" href=\"../__pv_it/theorems/6cf774ef96d965050b133387fbd779362647afe10/theorem_expr.ipynb\"><img src=\"data:image/png;base64,iVBORw0KGgoAAAANSUhEUgAAAToAAAAZBAMAAABTI/9DAAAAMFBMVEX///8AAAAAAAAAAAAAAAAA\n",
       "AAAAAAAAAAAAAAAAAAAAAAAAAAAAAAAAAAAAAAAAAAAv3aB7AAAAD3RSTlMAq1RmmUTNIjK7EInv\n",
       "3XZ/CtNrAAAACXBIWXMAAA7EAAAOxAGVKw4bAAAEG0lEQVRIx81XXWgUVxT+srOTmZ3ZJItCSyuE\n",
       "FWndYmv3QYNNi13ZWIVSusWX0gaNKBR9GvvWP7tKLYWqsW1Ex5Yymqdli7tW+wtKUERRlFBiWyqB\n",
       "CZWqlIbgQy364v2b2dybuym4ih742N0z55v57rnnnjML3HdbsmyygIfVnKWncOYBa/AEZrqtwwO4\n",
       "pSfoEmsUd1/hV617Jq4zy6HaWoK20BzRErSJHe7Ppz3GM0MgQ10LWlW3SGD6jn41SkTkgXQ5WSjr\n",
       "CFATW7kAvPsXugLGw5/ASup+q9XaGuCQrJ1u2WbgQ3RsL2sIzOTEbiToRj/noT3ANrqCPS2qS+Y5\n",
       "JOuim7cEeA2dR3UEZnJibxCcRZ/NeDAKVCDcbIvq0gKSrQuoN2hKYCYl1iSbbE3h95zgnYNBVtHe\n",
       "atk9KSDZcba9+aYEZlJiXVKpZgZ/5wVvA3BhfPx8q+peFrDmXQ1j5/rJOeSBmaYEKZhXavdEtIuM\n",
       "dwRYDRy4K0lu4+sGgX4vFZ9A59+g5sFonJXkOLMMNMHcapudm1Hbo7weYAuszN0dhcbXXzicU0iO\n",
       "Rr7ELaRDJEa0XDWY27MBLkZsynsaSAVuSeqTQ91bycfH8Tm+vkLeAWvsO7yQkdSd5khOoaPO0kbF\n",
       "D6CrDntKq25asEgbzdVLwG3xm/EGicowPhT2hF9yPvMSX9JGRJm7H9uLyqN4qnEX6pnvBslApy69\n",
       "BzW20jEC8uh1WZgjzdTFwcw6aHO8DPNGdHwpjza+geVRSB852+5h4HnWiMjzSU3i5xBGrI55FoQF\n",
       "F27fK30rlZ2thXhxert7NUBiVFt3anDU7pJRJTLeMwTf0r5cXf4DHx/DO/j8HZx8nI4SOMtKbCjz\n",
       "6Uw9yD2x1ZXr7muOWhaPJKJ3ga4yqSwY+kavBnP7D99EDYjxniN4n6zG+c2+iQp1L1zIL/8TXHFo\n",
       "ROJtrzGdmQc599CbsrojHKkwMRZ72/IpslvJuladGsxtLobiRNdF32mje1iwR7CGunt7+eUv0GPS\n",
       "hRjDvNuz6cw8yKFwXVa3i8Pp/nHLtbijzCvSeipp1anB3A4ei3s3412KJkupM4Me3/ezn7zOPWex\n",
       "wtjk+5/bO8SgodOZeYi6arvc7zrKHDPtA3030gcrPCuq2ZqX6g0+ZT2WnAqHfE7hpM12hZwKBGI6\n",
       "c08O5mL5XmReM8y0ov7hxv+9yxelVwVvcE2QoiKsYx5OOHX8QeqSzZD3VsENq2I6M89SYEK52T4B\n",
       "1Zq+/eybXRzjvRO/HRQXH4W1n36tbhoq2yfx0SS5TPPvfO+vxs4sn87UY//qoU25W0VAtZTX5PGV\n",
       "2dUxnrKCqu+LIk7wwv7J3ysuiek8zSOvNeRQ7WrT5ISzqqO8zmYrwxvKbzN4mP7mqW9lxoORcQc6\n",
       "cSWgPjo8PwAAAABJRU5ErkJggg==\n",
       "\" style=\"display:inline;vertical-align:middle;\" /></a><br>"
      ],
      "text/plain": [
       "<IPython.core.display.HTML object>"
      ]
     },
     "metadata": {},
     "output_type": "display_data"
    }
   ],
   "source": [
    "posnat_power_of_product = Forall((a, b, n), Equals(Exp(Mult(a, b), n), Mult(Exp(a, n), Exp(b, n))),\n",
    "                                  domains=(Complex, Complex, NaturalPos))"
   ]
  },
  {
   "cell_type": "code",
   "execution_count": 56,
   "metadata": {},
   "outputs": [
    {
     "data": {
      "text/html": [
       "<strong id=\"posnat_power_of_products\"><a class=\"ProveItLink\" href=\"proofs/posnat_power_of_products/thm_proof.ipynb\">posnat_power_of_products</a> (conjecture without proof):<br></strong> <a class=\"ProveItLink\" href=\"../__pv_it/theorems/562288307b5e1a4a197ea3baa6cf4f817f4363b80/theorem_expr.ipynb\"><img src=\"data:image/png;base64,iVBORw0KGgoAAAANSUhEUgAAAp4AAAAYBAMAAAChLuBMAAAAMFBMVEX///8AAAAAAAAAAAAAAAAA\n",
       "AAAAAAAAAAAAAAAAAAAAAAAAAAAAAAAAAAAAAAAAAAAv3aB7AAAAD3RSTlMAq1RmmUTNIjK7EInv\n",
       "3XZ/CtNrAAAACXBIWXMAAA7EAAAOxAGVKw4bAAAGIklEQVRYw+VZXWhbZRh+89ecnDQxV4oKJSJq\n",
       "Ze0I2pW2yIy2w0IZZuqVFgnsYrgbT72LP20cil7UtihjqxczOhBm1SbWzh+YVEfp3BDj6LRUCpkd\n",
       "1lpWglAnE6zfz/n5vnO+k/PF5kb2wru8O3nf5/nOk++/AP9zC/SOXZHL7OjaTDcEaOdVul1daoQC\n",
       "Yd0bg3RyMNWseXKgDHXPWVgA/pk3kANVSG/Q1SnQbENU+EX3nVuoAvD8r3BTwZPjafS+H2fhOvMo\n",
       "npQBcqAK6XGEHSmUwN/cKatnPdku5i9Sb4StIm+BQW+OeArAVwnNMY92yQA5UF3oV3WfhX34i0Oy\n",
       "etaT7WLv694Ia0Id6hz0Kd4chwGa88F03nygZmWAHKgu9DjCPgsv46E/IatnPdku1qt7QxajNISr\n",
       "sNTqzdEBMAKxI5aewZQMkAPVhR5FxGeJqtGkrJ71ZLvYnO4NsfMQSsBGypujuQAHID7DPJACcqC6\n",
       "VZ2nPgsB9L8m6fWonmyXSShLvTF2UJajyS7V3TJADlRX+oPU0Yr93crKBfn1vY5ssQWL1GHoq2Hb\n",
       "9uP2tYp3PV9WkuWIJmw5AzxjSa7ltkaWuKhEFOoHeFtezzqyXZaQFPXQArzDb08Gtch17y0SX9Zp\n",
       "hftXsP3gwhHICroWw9gp13JbIzu5qJMoNAThRE2cIqunZ7aXxZLUP0zBfu4L9SwEy57ltrI2WQ6/\n",
       "ffK7yDO2ybXc1sg2LmojCkUK0Yz4NLA4Cw8g8dKsnq7ZtW39IWOYNGeoPwrwMzpekG6j/omHUxVi\n",
       "RZgq3YafTAtmWPKMlpk2LmQTcChVHgfmeUYLiDRGRI0RaYmAfpw6UshfES0wY7cehTuihWDBpqc4\n",
       "u5ZhpFO3wL1F/l2/BXULlE36Yy/iLyZgOoPISI+KCU7a5BkpY+aImnoyHMxWnmLP84wM0KILNUEl\n",
       "JQL6Qer4BJndK5h7+/E5qJKOgk1PYXbNWRwjfVmBQJEbi+o/EEBdxm8NnukKPAiwBSP5Gmh6mWnt\n",
       "wvlTwOEvO8c7y9guN95piYC+nTpW6JPD5Jrkcrw7b16Y4LMTtN41HIVP+xb7MoyeOBum9n5mADGh\n",
       "9dYzGxp7JlO7Mub1Q6RCXP0DfNl7OD2TcLNf6/HQk5RZre0WZgk4AvZDyAmesdtbT4xKSzq6NhOr\n",
       "xzn6bupYoRcT9JokEU8YFyYqYW+NvveUo3/ibPUn5ZrxglZo2UfauKEnQfI/Z13c4I0L9hPQnk6z\n",
       "ekYq/sUg+jzDz2R46mKmNFJmtXZA+OYCjqD97F3iGW1AJjUzk2NEUoJvqr6Gy1zVAHWskC9Pr0ny\n",
       "hJNcmITI7rcV0usOPXF2MK3MQZjsm0j42BV+jeqDUXN/g5ECJ60tjlKm/u7Gay15Vk+15fOh39B3\n",
       "y/xMRqYua0ojZVZrLwn1FHDE7KvoGzyjHciktmZyjEhK8E3VX0RBq+oSdfMGrgVJEEuCfmESeGZy\n",
       "8k2k51STQ08636POcWTZDOfUKteYefLj0X0fRlJeZcbwku50G+PYIeUKEpOy0dqwywbLyfGSYzbM\n",
       "s4zhsgSrieiroE50ka3CEXZTz3OwDiMKjfoUpUj7Z2i3ff9Jpzot0lOAZTPUFG53p16Dtz4IPHz/\n",
       "vl15oEhoPYKCdTNBXKxnOB3WvN/MaG3Q5cDt5BDdZTCMwZTMBb+5f8jHJ8LVPFOFI+yGQuEq+s27\n",
       "gzClX5iQsbwHrH7G909t/HGi55QeRjIoVIvkH/SxoGz1+NdhHl8YEqQXHoGocUyLaNTFeuZef8W7\n",
       "gxqthZzb0mHnENyJHWMZczJbFRNxBPXQwESaqcrpbigUSsAhGPodRpP0wiSHRoPyowY+oZ6h3t0z\n",
       "gPVE6STsx6GyAKOasqB8A0/chyCOq9kgGpIYCdTTk/3ArFCq/nrh03/bjuzfb29L3MvrrTU1cWwD\n",
       "7BwRZ6c/xTIek9HTQIQD0KSFWwpM1THdHX/B0O/i1C8mjzoBz3B/Hlk206OFilmJ+gP9KPuLsYAI\n",
       "aVj3nVvcdWqwc6wJOnlFBsiBKqTHEfar8/ZfviD9MmMXkkb6s9tlpvJJ+osk4hnfGtzgFvjP6VaY\n",
       "upEF/BeLHjioNv3cKgAAAABJRU5ErkJggg==\n",
       "\" style=\"display:inline;vertical-align:middle;\" /></a><br>"
      ],
      "text/plain": [
       "<IPython.core.display.HTML object>"
      ]
     },
     "metadata": {},
     "output_type": "display_data"
    }
   ],
   "source": [
    "posnat_power_of_products = Forall((m, n), Forall(a_1_to_m, Equals(Exp(Mult(a_1_to_m), n), \n",
    "                                                                  prod_ai_raise_n__1_to_m),\n",
    "                                                 domain=Complex),\n",
    "                                  domain=NaturalPos)"
   ]
  },
  {
   "cell_type": "code",
   "execution_count": 57,
   "metadata": {},
   "outputs": [
    {
     "data": {
      "text/html": [
       "<strong id=\"posnat_power_of_quotient\"><a class=\"ProveItLink\" href=\"proofs/posnat_power_of_quotient/thm_proof.ipynb\">posnat_power_of_quotient</a> (conjecture without proof):<br></strong> <a class=\"ProveItLink\" href=\"../__pv_it/theorems/81cca366d19517c68d8823cc5b21ad528d4a355c0/theorem_expr.ipynb\"><img src=\"data:image/png;base64,iVBORw0KGgoAAAANSUhEUgAAAT0AAAAyCAMAAAAZZPzOAAAAOVBMVEX///8AAAAAAAAAAAAAAAAA\n",
       "AAAAAAAAAAAAAAAAAAAAAAAAAAAAAAAAAAAAAAAAAAAAAAAAAAAAAAACXHtMAAAAEnRSTlMAq1Rm\n",
       "mUTNIjK7EInv3Xbt5cmRiLwgAAAACXBIWXMAAA7EAAAOxAGVKw4bAAAFaElEQVRo3t1bi5KsKAzl\n",
       "KU+5u/z/xy6ovKJi6zh9V6maqbI7FZpDThISROgNQ8kvTqaVRm8amP7yBJRR6RxbnuT4Jviw+W1r\n",
       "o9yGDbJieSbje8Cjw2/PILSLc/hscga/BTyRTeIKCz81b4cQt+V5pC9Bb3Q/YuFnw4awxBjKwYnY\n",
       "d7g+asEHjKwAG3SHhR/Zt4/bJEkJ7QN7BXoWhAyWXJLAxgm3ESQhCzugJRU8KnWmoiv34gXgOWBE\n",
       "OYTwyE21fEtxh4W7o1EBx/CGwDG2i5DJH+no3BBLqYUiHRbuechWBRjEP9/zSd+CMCQeMz9hazIS\n",
       "ea1rFu4MoAJi693j0cN2xyCsmlbIV+7whEcFKuDp8Pkps21BKbY2WQb1FV/PevmVChjsHx83pKft\n",
       "o85Lj44OD4ikJSpzGj2oAn7/9IzZtfuPVeGVi8dRhthuXnhcuIEq+nb/vKFaSCpr0NgZKbCThbrk\n",
       "rPFBFRuOrwBInmeJVrXE7Xmi8e7TgQkukeWYMjzOC2rPWj/eTUDuLsXQEI5lPtmoBwaNJufCQ99H\n",
       "/sbs6QhtyOPQI60v67tx4uUvWD5d3N3wOPACdxpAvOmbyt3m4eNu2TEOa56HHkhY+gnY/fmZj76O\n",
       "TRv4xEaRaU7qRznJ3sGUjdU4k8PZSFeB07/vLXu1go7N9M7x+gQ1/d3sGsdkdoZ3CKIYToVGJAfV\n",
       "F9gcYmRxBro49hVYlU4wwfzDjHEba8dNGOXVgd6XUT47l/D57VGjN+XqxG3FDOmwUjw2f3HwLiSf\n",
       "E3P/b09gUwvByIRNYvoQvbbBOHOCxnKwOkDv0PbuTpdn9AJ0dGU4jC3xzOjpO5rWZOWBwKYWEmZg\n",
       "mbJd9GwdSLHIH61PEieZe7ffm5kbUr2U9GlDnYm/0qUApamcCSFyjuiw7gjUHb8shIgkPHA7oGcY\n",
       "Y2P443vMXSaY2WjmeBCfLVlHDdFEjX5QvT3m2pmwIuWZehTzaVHn5RDRVmjcqFHAZleg7vgVoYBe\n",
       "sFHCP7C9ZQKm4vgT/uhSeVr3UF2T7x1Ue8Xt+V5CDWc2xtZA3PP8S6mmTdQLi4mtl12BuuNXhCJ6\n",
       "ATOnjtFbJqhtd0bPuoNs2bJ+tszvzvfAfDZM4CKidJi2XhEkJW9/opzK3PsCVcevCE3oaZOCUw+9\n",
       "ZQJU2e7M3LXtkBaQJlhrZUcgfDajXamA6bcBz7EFR7VGsnyxBIWUd/nZA+0LVB2/SmhqYXHidvK9\n",
       "at3LBJG5//yrJubuRQ1QWmZttQ80rM2FPsSiYvvyhoSewka3xyMTy9FDGBZ/tnHRdoL30Ygq1BGo\n",
       "O35FiE5W4vZCWoVemgCV8g9ybumFdblDW+sCtqounAdmFTuXNwgkA2eUzM06US4UahMIGDMPGaOe\n",
       "ZM6hnkDd8ctCcpyrhx+glyZoDo8hW2YbxBuHljqkSZ71T0PuomLn8obrFGO1iawBjpacEdgV6qNX\n",
       "dB03TEFDUrF9pl65OpFVbF7ewCcLhlz/VOAMeh+UzABXm87PgEPeWHbTXKjAZRWblzfsyXIy/bHA\n",
       "CfTIBwkGOF7UrWvtwwlAF4Oz57O9rGLz8ob4/1wmuNpSAeXkysBImyM6e155VrF5eeP53XCYpFRn\n",
       "5LkJlFOyC6YHVUC39/ybGBwcIMod5ulSBk/Mdlf6Dq2KT4sOTxqwSzvQOlVLRZizd5s3VBwErGcO\n",
       "uIhY55iXLtMNvPjhpQJBrWK9ba+4Ng+7WWIptsU3YFL+p67lArWKtct4w83bNYPEHDg0NmwBTV8s\n",
       "rlQq1inWS97YGP5GK5X7l7xsJe1f4NBI0EuG+/4FnPe8afWFt/xWvB3Qi8bwXR7J4V0v6H737eYC\n",
       "3n96LzLoIX2KugAAAABJRU5ErkJggg==\n",
       "\" style=\"display:inline;vertical-align:middle;\" /></a><br>"
      ],
      "text/plain": [
       "<IPython.core.display.HTML object>"
      ]
     },
     "metadata": {},
     "output_type": "display_data"
    }
   ],
   "source": [
    "posnat_power_of_quotient = Forall((a, b, n), Equals(Exp(frac(a, b), n), frac(Exp(a, n), Exp(b, n))),\n",
    "                                  domains=(Complex, Complex, NaturalPos),\n",
    "                                  condition=NotEquals(b, zero))"
   ]
  },
  {
   "cell_type": "code",
   "execution_count": 58,
   "metadata": {},
   "outputs": [
    {
     "data": {
      "text/html": [
       "<strong id=\"posnat_power_of_posnat_power\"><a class=\"ProveItLink\" href=\"proofs/posnat_power_of_posnat_power/thm_proof.ipynb\">posnat_power_of_posnat_power</a> (conjecture without proof):<br></strong> <a class=\"ProveItLink\" href=\"../__pv_it/theorems/91d8f07bb1aac30a5f9bf8d288e44c16e70440c90/theorem_expr.ipynb\"><img src=\"data:image/png;base64,iVBORw0KGgoAAAANSUhEUgAAASUAAAAXBAMAAAC/jERWAAAAMFBMVEX///8AAAAAAAAAAAAAAAAA\n",
       "AAAAAAAAAAAAAAAAAAAAAAAAAAAAAAAAAAAAAAAAAAAv3aB7AAAAD3RSTlMAq1RmmUTNIjK7EInv\n",
       "3XZ/CtNrAAAACXBIWXMAAA7EAAAOxAGVKw4bAAADX0lEQVRIx8VWTWgTURCeNH+b3Rpz9RIiIs3B\n",
       "lhzaYquUhUYoSDHSi2iRgAepp+2xUtt4EAVLG6XFroKuFgSJ1KgV8VKqHvxDqFK1IIXUilILEgTR\n",
       "kzjvL9lsX2gDKw5MmJ39Xmb2zfdmHoDLEuSK4u0cXQ63Zegj2p+leAESEAPcl09cUaZ6E/WRcAT8\n",
       "BWZLwwmQgBxFizzBDtdSqsszJXLyC2zN+PBhhdmWbIEA5TgknADYR14cdy2nm1ypRGEEtsQAAhax\n",
       "e+UrOGjE4JATAKdJ/bOu5dTJlcpzWIVhBZmiEzupSFcIkIA0s2/QYq7lNMeV0r2In97mQ+slsRfj\n",
       "0jNRAnFIvQVerF/APTqlmVLxR5AU/d/QOkbstYRsRRnEIQHU10tLr1zLiTCaKPTPDtncd+XoShAX\n",
       "DU9dF8DlTUbMb+gP8A/1P4NrtmPWWja7l4i8oVtUCRINC7e5H4KRTeakb+gnp4zo7QR02wC7pMsc\n",
       "IFF+pGPI0lJ2X3g86tzR4MID2BtZn9N6f32K6QGAjzbgmDQnB4iLUsS8CiWKK8tmSr1g1F2xY0a3\n",
       "TcB2zfJZjpykfpHTC1B/2rDy1uQACdKTY5vuEI9JHDvaNMAeO2u7SJ8v6BrMJBeSqQ38vHbqH/AW\n",
       "bX/SKOOTEyRqN48/97BzQq7jIW3rMHWGzdDm3d8jK5N0LgDEdw5pJd6wWbneTyRUoKr+AE+6oRyn\n",
       "TbZNTpDgOGngg8gI9YPyC24RVwNDqS1P4TEsg0pbfFy7caQUm85KiV8cZKJXoVG3VXq/tHYOkK2d\n",
       "gAcr5tOVOeghrvZ2Rt/pNPzG//LTRhcHfbUUm85KiZ8ycp7p9bWz0Uw5zjtpTg6QKH+qxE28LrSa\n",
       "phk7d4h5PAXM8i14+0zzIsbOBcp9iMxKmZ/IItfK8zlfQ9s9JYw7RqjdOk93Hzmukiwz4WywmFHy\n",
       "bD/8TfapmVRkfiLNXCvLkahxirN9MsZ6rBBpqsEZA2bVPAzjTnmzOuvxLYDUYpLjs9LpFyQ3mFbI\n",
       "QC331NIdxd/ZdB+CkzRo33hGeQIHIWAEoxYMYMWV9wZ4OHIkxmal0y8OUxb4ubDJpRpycn5QzjQ5\n",
       "werKQR6ZExWgWBU/lyGu9slQyx37a9U3h6u+8Vvwn6Q6Kb3/PvhfTSQB7n14AzgAAAAASUVORK5C\n",
       "YII=\n",
       "\" style=\"display:inline;vertical-align:middle;\" /></a><br>"
      ],
      "text/plain": [
       "<IPython.core.display.HTML object>"
      ]
     },
     "metadata": {},
     "output_type": "display_data"
    }
   ],
   "source": [
    "posnat_power_of_posnat_power = Forall((a, m, n), Equals(Exp(Exp(a, m), n), Exp(a, Mult(m, n))),\n",
    "                               domains=(Complex, NaturalPos, NaturalPos))"
   ]
  },
  {
   "cell_type": "markdown",
   "metadata": {},
   "source": [
    "## Exponentiation laws for negative whole number exponents"
   ]
  },
  {
   "cell_type": "code",
   "execution_count": 59,
   "metadata": {},
   "outputs": [
    {
     "data": {
      "text/html": [
       "<strong id=\"neg_power_as_div\"><a class=\"ProveItLink\" href=\"proofs/neg_power_as_div/thm_proof.ipynb\">neg_power_as_div</a> (conjecture without proof):<br></strong> <a class=\"ProveItLink\" href=\"../__pv_it/theorems/ff836228e8dd5ed7e2316f14bfedb4f85e69da3e0/theorem_expr.ipynb\"><img src=\"data:image/png;base64,iVBORw0KGgoAAAANSUhEUgAAAO0AAAAyCAMAAACH+6xHAAAAPFBMVEX///8AAAAAAAAAAAAAAAAA\n",
       "AAAAAAAAAAAAAAAAAAAAAAAAAAAAAAAAAAAAAAAAAAAAAAAAAAAAAAAAAAAo1xBWAAAAE3RSTlMA\n",
       "q1RmmUTNIjK7EInv3Xah18O1XjQ+CwAAAAlwSFlzAAAOxAAADsQBlSsOGwAAA6lJREFUaN7NWtmS\n",
       "4yAM5BD3sQf//68LvmBjgpMJOPAwVVMzYBq1pJYAoSmGkuPW1kqjqQamI1eXbiq42IxFR9xEYCnv\n",
       "yVsMPDza0uBpwAor+i7oT2iRo7OgdR4NR0vsJK5LLRqPFnGYA601d6BlQcwAtra1EUvyKQKVw/cc\n",
       "IAkTeK4M8h60Ovjvo8X2LudQE0gMi+9CS78fp2Sgd6HV4esKw18fOAUqvX8nXZr6ovbrUVlduq2m\n",
       "zEajvK4uMbaB14qq5LgZMPmCpa26VNHap6KhQ/4wASFgR/6934t1qDJUqn2kLeGYOliH0E0DQ3I3\n",
       "rlD3m1a+kgRtzMgASHb5GN84Ysj9aEm4/qgISXFJIrsQiW7uyu8HG8l1jYEl8nnTIaiEtJJ1afQv\n",
       "Rd5OQAIbLwbqu5B8FZbz/UpjzpShlqUso66DL7hivJNDLV+OdP/xGv0TCYQn/p0Q/oQ4UGDTKa1G\n",
       "KAPLLbeb1bAG3xTgTLElZ6TQ1nR04SAtSTcB80QK4VAiX3b0c4cK9VGgXdIY8bWtS4+VYqn5jKMV\n",
       "idq2Qdlih0SMKuf2aQQjE/8B9KtoF6GhAxtoW7uFY3oKDgBbuDR6+Rs1yADAr98Q9YhwS1aocXOf\n",
       "RuKScFAYLpm81p80XG/6x367Mjmm2j3pakO9SQ7p6aFT5Xrcotj2altx1u3HNEQkYZH9EW06JAcA\n",
       "rKnf9ZJ6MUdkmKSzK4HFXh5oJ6LkEIm+x67F8fm47T9/123zIkEXuj1Pi2gjKwhr29YX+Vb51NQH\n",
       "NK45uKPEcudhdLxkN3bYiGpaxM19KzEmU3HW7XlaQhs37lUTbakuNPZGCuzH3X89inIbzebTCVC+\n",
       "qnKCpGT5+1BPhoduz9MWtDFZ8SZaMjIonZWjefg95XeqNZL5D1uUQnqLxy3dXkxbdC0jvplv5ah+\n",
       "Qq0FcCpBbHJblqibpZUwkDhr/HOpkXV7nraejMfvkauXGWstgFMJwoCSVYCLfH+sTeQn1N1JWvKf\n",
       "bj+mSbeWyxdo3ZhapNoCaHWFtEkOeO1W5GfTdo+3g5y00gLA4eNV2WfFBO3bwc9VVKUFYD9vV3wY\n",
       "ZWTo2UPIVVSlBSAmuCzo2fYsqqhKC2CC7jmCjo7brqLwBDcjrKO+aFdRM9x6Idct47arKDrDjWbH\n",
       "XbSrKDfHs5p+7b9WFTXJS4Sexm1UUWqWF1P8ht4uC7M8/pN2PMkcQbMMP/wGaqKXf91fdZ55zNFM\n",
       "gw8lmuSTPVAe+ho7g/0HrqohoRtCG5IAAAAASUVORK5CYII=\n",
       "\" style=\"display:inline;vertical-align:middle;\" /></a><br>"
      ],
      "text/plain": [
       "<IPython.core.display.HTML object>"
      ]
     },
     "metadata": {},
     "output_type": "display_data"
    }
   ],
   "source": [
    "neg_power_as_div = Forall((a, n), Equals(Exp(a, Neg(n)),\n",
    "                                         frac(one, Exp(a, n))),\n",
    "                          domains=(ComplexNonZero, NaturalPos))"
   ]
  },
  {
   "cell_type": "code",
   "execution_count": 60,
   "metadata": {},
   "outputs": [
    {
     "data": {
      "text/html": [
       "<strong id=\"neg_power_of_quotient\"><a class=\"ProveItLink\" href=\"proofs/neg_power_of_quotient/thm_proof.ipynb\">neg_power_of_quotient</a> (conjecture without proof):<br></strong> <a class=\"ProveItLink\" href=\"../__pv_it/theorems/b058d9cb1f5a33ca0f5a0de912b44185aa58255a0/theorem_expr.ipynb\"><img src=\"data:image/png;base64,iVBORw0KGgoAAAANSUhEUgAAAT8AAAAyCAMAAAAdkSzzAAAAPFBMVEX///8AAAAAAAAAAAAAAAAA\n",
       "AAAAAAAAAAAAAAAAAAAAAAAAAAAAAAAAAAAAAAAAAAAAAAAAAAAAAAAAAAAo1xBWAAAAE3RSTlMA\n",
       "q1RmmUTNIjK7EInv3Xah18O1XjQ+CwAAAAlwSFlzAAAOxAAADsQBlSsOGwAABTZJREFUaN7dW2uX\n",
       "pCgM5RHkzeyO//+/DqACIlLtWFYtmw/dp6s6B7nkJiGJCA0rUnxrZSUVGl4w/eRqFKhwDta/hB0e\n",
       "QKw/Y2nGxt+UGX9ehq+fEzs4fHT60EJTtDmuXFhwTman8dDw8WQJt7n4Qmay2rtDiJn8uaUj42fd\n",
       "DU5WXOwK20zO+GgFgFLMImZgF0hN/QmQA0zTyQYPXOyJXh0dn8OpCSIqYo8ppg4esLojjrXj7hgk\n",
       "hdyEN7jYc3/YOezPhoUFnKalZfJR4XO17WzRhAVSyu1beubjay52uD57K1ZtpKZhQ4itnlysvkgF\n",
       "v4Yg5RaStAl84OKpkHgWxp1/N6CIudr5tNIZ5ohuIrdq+/gjF08FomHPum2bbkz8sDkxBCPjttjB\n",
       "Lf69pevo6dp2LAdNog1ubDIZBJ1Lpt708RE5OCEqHTOCiJlWf6sNv7BbPCGS9iVv3vKCp1i8apPA\n",
       "Q+bQrjp2LBNaLtxMAUEnUbxepJDwUyKMIbLCJFuBwk4Ljp0oCEzu1Q+whnMjCw4wQ0gGsUYjK/r2\n",
       "vJB98pagvauFFK2mMbyhmqHy4q8TkKeukT7Ui80AuRwlfOzTLjz1neXTj7JdszUZAz9SubS+Eyez\n",
       "eJgKdHV70xjwedLsEZl130SeNIs5nJ2xQYweBL86feknYc/maHPweRDPc5iWkt7fBl5lKD+5pIIt\n",
       "5EpOZwJpOd5+/Iz0wVC5I+5CuP4bHXRCiOo29Yqg85O8snYzPc06jJGAU1VySe5D0EkOU0zysk5L\n",
       "uIXwGHSNCCeZG95HVJbLBXOWAr8bCeDclgK/mMoT19qYcFhKFlp42FsN2W6SlMXCUDDeZAepl3hB\n",
       "p7UUwUj7fwB1Ab+X9vdkAr3g58GjBy8BsIY5reJ3VCMNAL/+AZ9x82C3NsVBI67rtJYi/jEgERfe\n",
       "w98n/d/CX5/6bUmg0tTp4KTcFrYUFQtBeLGpxZZ4TiMdVtd0ih5iUkNEEOY57/ELsFsAYK34wffx\n",
       "ox9gH42/ZqEt33JQZflyn1TJoxGeqkF+U//+XjY1lQmjswp5KK7oFD3ErObx85ZLWN/+3D7/e1EF\n",
       "5o/mfxtuOBEwNBOCV06nRhXNfFHbnnwspbnIRmMH54pO0UPMagE/j5qTXfzq/NlAP39mT+Z/1drG\n",
       "L+YCpnRaun0ECcHy80LT/cd2Fr6mk3uIWS3i51OdqYsfqRApg/82rlL+94N5raqSo9iok1QpJPIX\n",
       "ayxAao2jjVMIGJJrOrmHWKjFjhgjrpv/1eVn2JUD6662flePojX0UZcygj/yBh/Il68jXENgnXan\n",
       "ibF3f1SiazpFDzGrLVg7fIk0dGdhtbuTbyoRN4c+6lIGYkDJ0tjjeTpRac8waJcxhLc7JMA5dFGn\n",
       "6CEmNWGXEuSLLdupIg0ps2n1TPhtDn24TulW6eCUXjtfclPngtrmOav6fdmfqOn6xiGLxtAHvl9c\n",
       "ZOozOqeE3feItnGVhOfdqlweqGkMfZj7JWf6IZ3OjaNomB/GVczN7C8P1DSGPvigAwh1xTkbWT2u\n",
       "4m62L4uBmsbQx6D98ypjKe7fh3GVu+ZXD9RUHnHQ+Q1W3ynSMHQ1ruLuer/DQM3l0sR/Ug5N3YkW\n",
       "2V8q0Nwaks5367MGKR11fu345KHuEfErx1WUvVs6aAzUlKc47gj+odnFlwLcblxF3k+djwM1j6SW\n",
       "3zdAxGMIKcdV1BsKL8eBmvffDL8i09e7rWwe+RUuYb5NHkvQyOK+PK0z+Ptbn3p/8JS9Expdpi8S\n",
       "SEz/gxeAv/j+dIbvDwqLMm9yxXwVAAAAAElFTkSuQmCC\n",
       "\" style=\"display:inline;vertical-align:middle;\" /></a><br>"
      ],
      "text/plain": [
       "<IPython.core.display.HTML object>"
      ]
     },
     "metadata": {},
     "output_type": "display_data"
    }
   ],
   "source": [
    "neg_power_of_quotient = Forall((a, b, n), Equals(Exp(frac(a, b), Neg(n)),\n",
    "                                                     frac(Exp(b, n), Exp(a, n))),\n",
    "                                  domains=(ComplexNonZero, ComplexNonZero, NaturalPos))"
   ]
  },
  {
   "cell_type": "markdown",
   "metadata": {},
   "source": [
    "## Exponentiation laws for positive, real exponents\n",
    "These can be understood via $a = r \\cdot e^{i \\theta}$ for general $a \\in \\mathbb{C}$.  Then $a^b = r^b \\cdot e^{i b \\theta}$ for $b \\in \\mathbb{R}$ and $b \\neq 0$, and $e^{i b} \\cdot e^{i c} = e^{i (b + c)}$."
   ]
  },
  {
   "cell_type": "code",
   "execution_count": 61,
   "metadata": {},
   "outputs": [
    {
     "data": {
      "text/html": [
       "<strong id=\"product_of_pos_powers\"><a class=\"ProveItLink\" href=\"proofs/product_of_pos_powers/thm_proof.ipynb\">product_of_pos_powers</a> (conjecture without proof):<br></strong> <a class=\"ProveItLink\" href=\"../__pv_it/theorems/f85c792f33886c4aa9d5e5172bcf4c9f2d26ec140/theorem_expr.ipynb\"><img src=\"data:image/png;base64,iVBORw0KGgoAAAANSUhEUgAAAS0AAAAaBAMAAAAQxRd8AAAAMFBMVEX///8AAAAAAAAAAAAAAAAA\n",
       "AAAAAAAAAAAAAAAAAAAAAAAAAAAAAAAAAAAAAAAAAAAv3aB7AAAAD3RSTlMAq1RmmUTNIjK7EInv\n",
       "3XZ/CtNrAAAACXBIWXMAAA7EAAAOxAGVKw4bAAAD6klEQVRIx7VXXUgUURQ+7YzO7uyP0oNggiwU\n",
       "+BDFRiRkYRsaZGEtSBARZFiEBbFCL5KoQX+QpJVCY1EbSRSGLmWUPYgYURGBgSEowohBUSkSmOKD\n",
       "dM7s/OzM3NEVxgt7nfPdv+/ee+75jgBrVK62raKztxbWsuzAHxdLfa9LMjpEnUYWUMWrBu8yLQ8t\n",
       "u0k1As2MHvVOQz9S5VMNoc1dXk/wJ1arRuvMBkvzQClwssM9Lk0mVF7+KRlK3eV1h/YcUY3pxHdz\n",
       "azDWAjDGHhkaC0VVXt+8gxBEkrlkbHSDljCIVYNBstjcXAFPASbZQ30RrjrFi28TmyGEpPYRfsYN\n",
       "Xjx5+kHDY/aam99T1ZtgDg0087kV0n1JigTo2YiLAJdcc7QcmnJOs2ZhyNw8T1V2hD0UAuHUeeXE\n",
       "ya7BnrgDf9gNXq04k3dRs8Y4y2ZPg5+uiTk0mNipvsfsGCTpzoHDHWS74vbT5MDDmnV5xtJ8Yfsv\n",
       "bB9kv8dDsspLKCvF7f3Bry8TE59d4ZVH0ZTChFDwwxwPDCBr0TasbqBR834dO4Hc9gN0ZrBqckVY\n",
       "oqnpno7HfeblDcC7oPypnKDyVWH6AR4mrHG+FYNyHQi5GfCKrgifJPfAqcR3wA+n90kDhDnrBM8j\n",
       "UGmbtQmfkC/hj5liXHthY5ruesZP5cl2Xgx4hBwYbX4Wgtoxiv/ABIg2XocBxm28epGRR9bd3jsp\n",
       "xcRbcc89TXdv5neAnPRftPBiw9p5BdqUeQ2yaYCwYKXwicEVmkhcq3U5KkfT3wOwS9VdHn0PZJnr\n",
       "gb7ykXJ9LQdY49Urwx7z7g3AO2/xL3EJuFl7yKEo9uIsVt2lryFEQe/xFdyVqrtToBAIdaUdDKov\n",
       "C8aST6eMt98bhjxPPJ2XAdjeo/gX33CRlRe9R2ggXx3FnTwjqKhI111RcTE5WT9lEED1ZcFUKOhQ\n",
       "fPLJnhFTCpUGcLb49QC2RG1vareSwdGNRVHGq8gqKdF1N0sRDbmiP+3hofqyYG2TdB5i4Zu6n6Yz\n",
       "MQDe9vQf/b5WaEvVdGkNxFDDiyVJCl8/qusuVytJt/HCXoWNQIXqy4JTc2jq7Fwc9NFaanQXiPtK\n",
       "EjeUvAz9XkzprjeZcqQjb03qy4Lt+QS7OOQTVqfTvTAQb61K+GiQ0BeHATGp6G5nypH8XVr/pKK+\n",
       "Vlh7a+Q7LcuvuC2j4+L0284q2/oShLv02V3b3uwdUnS3Hi8+6/w5sVxNjhEm9bXCWllPzrp8ajKa\n",
       "Ea9g3Gx3S5IajTyp8+mXOsxRng2z8nv2QcgZ8XLO74+tCtZYk4NtXq5HfWYJuXOaGlkVzPr/kVkO\n",
       "ZJaQo5//ByJRLEd1+rwzAAAAAElFTkSuQmCC\n",
       "\" style=\"display:inline;vertical-align:middle;\" /></a><br>"
      ],
      "text/plain": [
       "<IPython.core.display.HTML object>"
      ]
     },
     "metadata": {},
     "output_type": "display_data"
    }
   ],
   "source": [
    "product_of_pos_powers = Forall((a, b, c), Equals(Mult(Exp(a, b), Exp(a, c)), Exp(a, Add(b, c))),\n",
    "                               domains=(Complex, RealPos, RealPos))"
   ]
  },
  {
   "cell_type": "code",
   "execution_count": 62,
   "metadata": {},
   "outputs": [
    {
     "data": {
      "text/html": [
       "<strong id=\"products_of_pos_powers\"><a class=\"ProveItLink\" href=\"proofs/products_of_pos_powers/thm_proof.ipynb\">products_of_pos_powers</a> (conjecture without proof):<br></strong> <a class=\"ProveItLink\" href=\"../__pv_it/theorems/9e873718b73ebf3ffa835253b55b7d62d7ca75ab0/theorem_expr.ipynb\"><img src=\"data:image/png;base64,iVBORw0KGgoAAAANSUhEUgAAAsAAAAAaBAMAAABLO/e8AAAAMFBMVEX///8AAAAAAAAAAAAAAAAA\n",
       "AAAAAAAAAAAAAAAAAAAAAAAAAAAAAAAAAAAAAAAAAAAv3aB7AAAAD3RSTlMAq1RmmUTNIjK7EInv\n",
       "3XZ/CtNrAAAACXBIWXMAAA7EAAAOxAGVKw4bAAAGt0lEQVRo3tVaf4gUVRz/OjN7uzu7Nw79IZhw\n",
       "bGTcH6JsLB54gZ15V6kUi9IPU2iDQCyw9Z/gymqLiqLL21LR0YgRjyAOvMVM8/6IS5GMCI44ODAO\n",
       "5lA0ReX+sUQoe9838+bXe7M7ecOiX7jZfd/5vO+8+cyb7/t+3h7A/W8f1+M64e6AQUhm+7yCCW3B\n",
       "zPQ9RupK8ieXndE1RENuxL03D9jXEqLgYUmgFegdCqbN/B5vEB332qSVcPhLnUa+JkAIndAcONgS\n",
       "ksXDuUDLtbooWOk+Jfgb8qdWnMbwjQd5hNApMh9QtlpBkNLMv7NmFMFcsBLo+PFwa4Jj4dpme/D2\n",
       "ik7junmRRwidIvMDz7eCIKXaea0vimAuWAkG8GNba4Jj4dpl6Qly2OWx3QODJvcIelIrBmI9qx73\n",
       "+2w0xL5Alj5YubLxYllIMBesBO/jeOutCY6Fa5cpuJZsYK1zsCazPEwwceZhLEYsAnS/j5lREHqB\n",
       "dcZXhlHM1xR9Qp1zWmxEhvGLsYcPVoIO8pErtCY4Fq5dthDnz03WmoPT0BmmhjjTMBQjFgHKT5QG\n",
       "luHy1FGMgjgXwDm7EPKFamZCOIO5YCWQizHWMAKIhWuXDZO7zdx2k51c5wlGJ+yLEYsApStwVsKX\n",
       "QqlHQXwEd5qryBeWItQGjOLBJpgLRqqI32Zmfo1TRcTBtcuu41oziUlryWULPrwBAYJdp9KiVHOB\n",
       "B9SKgm+nNhEJ8QjOPEvqg6fd1s8wVCUHm2AuWIlCD8YhOA6uXbYIa3qs0rZWs/ZE9hPsOse15mFc\n",
       "4KTU6JTJZ4o2lRlqOvAXYEkhZ1rCFMEFIwTvhLQuvHwuSHAUTqpGdWa31y0Mj28RV3d2R3ERRBt4\n",
       "d+SG1DOgTFL5eu2Ye9J1dtz5pym/LlDVtfKCyxjmVhTEuQDTbm/cmRQqOS4YIThr5srBqO9sKMs/\n",
       "BbojwWGctrfrXVu0BgT48hNrdrBr25eUywH1Lv3x6iLLOamE7oeI35CaF6NfwTGRx63MQadfEqt/\n",
       "QYQzTJwISBLCzXC5wkH+Ry150yZYsvxrV2bWKEv6OKznCPbhEKR+UZUO0QfmCXD0azk42XA6b6He\n",
       "wz71vnvxPrAaubcdylKhwR8O7iFEoqfwnSWufB3GAk8dTwidYRMCQQ0TzEPim+oQDJXVPm8/WRek\n",
       "1Qo0OIJ9OATljgI8hs+47Alw9Gsa9FpO5w6atwY89a7g2mBZ8lE2vV8LjmkgoOaj0WwGj1nwOHdj\n",
       "QqfIeGD6VigHx44lmsFOioBjZNzy2t2z2qoaaFi7SR+8QOZN/zP9AwGCEQejq0/aoCMfkRA4kTwB\n",
       "Tv2E4Kt9Tme7bp701PsFoJRpI3C8f6qfTI1jwTFNBtR8NNoluACLuDVA6BQSzAEzf99tLIHRYEjw\n",
       "LjLSI1uLeV3T4Vua92rjjwhmMOLUadKNgrqd9ehNT4BTv5ZLf110OtM9r3TFVe8qza9WY/ACm5NL\n",
       "g8+84lfzTdCLsYogp7OWNBXO42InjFWczDtWiQambseKFc9YFQELyEv51iVYWCMCdJNNsKLVeYIR\n",
       "p/QRCUNBvb32qc2eVKd+TTlUZwtSqm4fmHpPUaFkrTvlroCbg0Oq+9V8E/Q1p8xUu37Y+SeX+0RO\n",
       "mrLd3B0FlCdixYpn8oR/u7KLyMrOAvQYhlGQamqjwhNMk36ZTHMK+uRF2/OQJ9WpX9NyGxnBGSRY\n",
       "0oGpd3m7YXxJXvrvC4yyT4Mlg+7fGmiCftkUzLYk9jj0pIOVvP2MK/BeBj6zZzBstLg62H7Rqtle\n",
       "k4JwkVPtm2ZSnfo1LbXFdDrTFEFYZuo907Cz6nPjTmUbShH4QDw13wSdx5X9bPIER+xFzCMYIzg9\n",
       "R+bwKoUUu3Y1quniDfd8dXiTSUHp41X4kWjwTk+qUz8p08bZS6hZRKeTlctV7wftrJobYfFu2ELe\n",
       "OeAi51PzArRwNy05i9hNm0cwRnBKh22w8yqkD5DG59uc/XWe4NTaFd/ZIBjdvreWOQ3ZqivVqf/5\n",
       "S42RJ9kSUYWhAuz31PsgSeOpHa+r/Wyh2U8ATM1TqF/NC9BsqmN6G0qe4EcTD8b9ZDRqGGXxXoQQ\n",
       "JLHqn0r1cGcsKwqO3KDqXT1lBDa4sFDwtkAZlKl5EdqxB3DRTX7zdDrxYPP9Te4lgKfCewGekVMp\n",
       "E5Sqp97D60AVAeztYFBXzfNoZoHf5BKzqN/k5hFsvgQXcWpGXoJMZ9xWGo+Mu9IGOPCmUBvt1hv4\n",
       "3ixLmuDB5IPFJbjZ/0VEEqyGPmN0VZuNwgyRLZcTJnh90sG0mTP/AXorVPaoScp1AAAAAElFTkSu\n",
       "QmCC\n",
       "\" style=\"display:inline;vertical-align:middle;\" /></a><br>"
      ],
      "text/plain": [
       "<IPython.core.display.HTML object>"
      ]
     },
     "metadata": {},
     "output_type": "display_data"
    }
   ],
   "source": [
    "products_of_pos_powers = Forall(m, Forall((a, b_1_to_m), Equals(prod_a_raise_bi__1_to_m, Exp(a, Add(b_1_to_m))),\n",
    "                                             domains=(Complex, RealPos)),\n",
    "                                   domain=NaturalPos)"
   ]
  },
  {
   "cell_type": "code",
   "execution_count": 63,
   "metadata": {},
   "outputs": [
    {
     "data": {
      "text/html": [
       "<strong id=\"quotient_of_pos_powers\"><a class=\"ProveItLink\" href=\"proofs/quotient_of_pos_powers/thm_proof.ipynb\">quotient_of_pos_powers</a> (conjecture without proof):<br></strong> <a class=\"ProveItLink\" href=\"../__pv_it/theorems/d6b21df7bf613f715479be1659c62a5af701dec60/theorem_expr.ipynb\"><img src=\"data:image/png;base64,iVBORw0KGgoAAAANSUhEUgAAATcAAAAzCAMAAADFGr+iAAAAOVBMVEX///8AAAAAAAAAAAAAAAAA\n",
       "AAAAAAAAAAAAAAAAAAAAAAAAAAAAAAAAAAAAAAAAAAAAAAAAAAAAAAACXHtMAAAAEnRSTlMAq1Rm\n",
       "mUTNIjK7EInv3Xbt5cmRiLwgAAAACXBIWXMAAA7EAAAOxAGVKw4bAAAEe0lEQVRo3u1biZKcIBDl\n",
       "vukk/P/HBvBW1FFxK0OFrU3VOp0RHn28fiJCbQ8lNPo/TodW6yvY1vt2o02bsGG6ueRUTe/1TQJX\n",
       "8C0VAHC9xRLfIGxUbK9B9BBg9e5hcXOwSScLCY+W8bw9PG0NNw+Fiym9sZo+QlxjKY660tWQsCM1\n",
       "7yNYW7i5eVGQ2IJM/hfTG63L4HiQLcEGYRY/PKU6na4oBlD5TqKp0uBnqzEuJW/2EmcgoaEMp8KM\n",
       "37KQkbTv3MoEaAc3PK8KTufl8beauYbIr8Nrh6DhLSWAtlMZVKBz3BLxwAKRW+s7VQJMaIb7wsIF\n",
       "NKROkqF7TOtcCXDNVFS9IL0Gg1USg7rnuiUlwAKFRYKboCNf7H2uHrctKgGeIzVtjY2pk41VR3xv\n",
       "tjOhXvNTUgJY3BajZoUhwjg4nPxiQVlVpFS9EqD0MKI7Ob69nehj2ZLvxY2EepMvKQEr4pHdm/Zp\n",
       "TXwvbDFw6qnhJSVAJH+b0ZOQgtT5NJz9YtzgORMdFZSSEiAZpTCrsSEBy/JeffWjGvt5q838bOCC\n",
       "gvJRDhQZ6eGfKkt4ZH1YFvcXxZ5KFBcVFO8HV7MHTTBohjsfLrVvxFvBsIBPVr423lgf1fRuitbC\n",
       "dmtweLjbFxUUn7kcgVJVUIC15ulhK44uTLRdt2+DASSvsdIe4lY2voJbFxGJtXN9jFsojE948+cK\n",
       "SodbBI1uUiFjfYmyJn9G7ap9Gw0g/iBq4Ai3HeMruGE53n1TBdjD/HZVQeniNFK3gcQZS8GmWcHQ\n",
       "dBmqul2Qy/ZtNOigABMhsIwxH3/5uq8rGZesF7iNc+kSd943mQHaPGixD+vpVQXFdeEphwbfeBmB\n",
       "kSk4x4wkl9/Vt2+TQQ49qQdoWKGv2zU+8rdxLiyz9l/xl8YLCbfNM0x4yt8uKigDXniMPdT1r3yc\n",
       "GTXUFNq3ySBCwbTVxUzf93W7xke4jXPp/h/tvT37G9TmvRcVlHU7nPowSFhS0fVmBCnFVaF9mwxy\n",
       "6FlOSkj0fd2u8RFu41zyuvoPujjddFXkNU18J6zt6u9E/qgxSE0f9HVhYE99+zYzSFBwbk2BkfVp\n",
       "Z9d4w990YS4pTn//0TlOd+qC+lkFdiMjuJRSeArMqX2Qlsmc4GOinrVvk0FHLczKdbLx0NedGRf9\n",
       "bZwLmkQblHogjk8DZ09xfElG4IwSsDSrSmpCIIZZ4hEq1bGhfRsNuABhkWFsSQGz8dDXnRmXcJvm\n",
       "smgCI+9lW9Lhd1WJpeL4fjtsbIqMVdogZwa3jQ/5Gzl1GLwHzUpxrDOutifcvGV8jNu5xEX3iK97\n",
       "o2BcVeXpa8aHuJHztatVxhlVoTcedcp/74H97VUuH81NqtBacayjkrZzIom5siq0VhyrpLeGzjnw\n",
       "OfN991wNaulcDfLstip0OUxbOqk6W82zczXnO9TWkfLpwdLDczWnGaGpc6pzh3t2ruaMKrX2BoOw\n",
       "N1Whi+7W2qtGyv1EAHmCWhvwAydcGnzPqO47kztRKlCLQ7wcREo0+gKqVm9+u5lg+wuLVisU/qXX\n",
       "PAAAAABJRU5ErkJggg==\n",
       "\" style=\"display:inline;vertical-align:middle;\" /></a><br>"
      ],
      "text/plain": [
       "<IPython.core.display.HTML object>"
      ]
     },
     "metadata": {},
     "output_type": "display_data"
    }
   ],
   "source": [
    "quotient_of_pos_powers = Forall((a, b, c), Equals(frac(Exp(a, b), Exp(a, c)), Exp(a, subtract(b, c))),\n",
    "                                domains=(Complex, RealPos, RealPos),\n",
    "                                condition=NotEquals(a, zero))"
   ]
  },
  {
   "cell_type": "code",
   "execution_count": 64,
   "metadata": {},
   "outputs": [
    {
     "data": {
      "text/html": [
       "<strong id=\"pos_power_of_product\"><a class=\"ProveItLink\" href=\"proofs/pos_power_of_product/thm_proof.ipynb\">pos_power_of_product</a> (conjecture without proof):<br></strong> <a class=\"ProveItLink\" href=\"../__pv_it/theorems/c89fbee97071aa855b4c58f16cdd00fd0daa30cc0/theorem_expr.ipynb\"><img src=\"data:image/png;base64,iVBORw0KGgoAAAANSUhEUgAAAS8AAAAZBAMAAACSpLXvAAAAMFBMVEX///8AAAAAAAAAAAAAAAAA\n",
       "AAAAAAAAAAAAAAAAAAAAAAAAAAAAAAAAAAAAAAAAAAAv3aB7AAAAD3RSTlMAq1RmmUTNIjK7EInv\n",
       "3XZ/CtNrAAAACXBIWXMAAA7EAAAOxAGVKw4bAAAEH0lEQVRIx81WfWgURxT/Zfcudzd7SY4WlFYI\n",
       "B4VKkbYHDVIipCcXW6UED0QQKZpSSzGCXIr/iFVOqFWwaloj7drSriilIcU7vz+g4bBIW4olLUpL\n",
       "Q2A1hfQDQwj4QQrivJ3Zzc7e5iw5RB/8bnd+N2/nzbyPecBDl6EOPJbSlP/wEa5ekAihV+DrKj4m\n",
       "n8aYrfA0nuVTc5PmtEBQ1nFcDpl/Qz6vxSsKT+N1Ui9FxDN1GrZIwifs82FubAa4Uz1dK4tnpI8V\n",
       "XW7gihyTDmEZse/UZxfrFlCkMct/eoC3YQTnfyWfybyP3OCOewR2ksv76jMskhFQpIVc2wZseemf\n",
       "4PycO8UfS1PuuE2g0eIxl67PsKSEIustYq2w+W5gNeZRdrnotDsmHQ6d77SxzhB7VkKRb52lMyHT\n",
       "NdfrsVyHZ7gx7I5Jh3BldPSnOg17XSK2YHwm/d+ceIIvlwrzPB1T79AONSRbr0u/kQ5hOXB4Ltb4\n",
       "QvotiTcKiWkvIW5bpQJ0LyW6Rkl+cY8x+j2+VNxc6mEyf0mH0ItYak4RP/P6qwD7DpFhz1/TSNrQ\n",
       "KmF3AT+abzLoUsgXLfwsNSsCCcvIK8Wyv5UO+QMvU/9eOu6vz9rIhnm2athlgcgkmshLJTqmSDda\n",
       "yohPhuUKX28lMOIdFs1/FfhPDEmHoNle7Mevm3n2UUH7jL830BL7nzqEgfl4zssdIuyysS3UsGQf\n",
       "SrTHJqpg3MT1aUQrsxj2I9gt7wRp/giiUzI/KwLo9m7/Tl6HjePAEtLm7xEef7hoQ3cNcwjb1o/D\n",
       "6OzqXBZwZcnGK/4yttKCNhwSY9yV7B509TCnEJHxSTqO3kkqtYMd55yLAEd3iTv2wMTTGKMgfjkv\n",
       "L1XevhDBDWs+pp7YFwKlNOZpbs1sKfKQgx5WuhM22BQauhf6ybsUdiL4+6Teezz22W/xOxggeqGc\n",
       "ftP6k9G/2rsFr31xCO7KrWOqYScEErZ21WMbMomsrAxV+ZyifTyfzfrJJ9HvqyaOXgM5Lcvv9VVE\n",
       "t7eLvw9icZS2oB+VWc3bF4eAveJCICv3CbDW871/eeViQc7ZTYhhce6nI//ubi36ySOnM14D59NL\n",
       "5ptTWGyaZnrPGsH8gKX6RtP8OL6r6EW4Q3BXnkmrdaypKFAt20Mrze8169B2v16pkGi39jrnzIOf\n",
       "8eckLsUdP/DgBx0aL3+CsO3VF9VP6VmBasmFLt1W07CcXy9ZOLDKStD6sdMFDLEy/uDx59wI216D\n",
       "YXOC2pfDIsaMY4FvfSJR1amGty2JWh0q6czoRXMvnELsU3od3NhfjF/C+xPAVnIPO2suByeofSEi\n",
       "unkT6ww0XwMS/9MCVqvNIp2g3qBpyqDTxAcumIcwC6Hu0hYIyvgsi++oYdh4DT1g7QOJRySZBxIP\n",
       "W+4DuMcjEaXPzvIAAAAASUVORK5CYII=\n",
       "\" style=\"display:inline;vertical-align:middle;\" /></a><br>"
      ],
      "text/plain": [
       "<IPython.core.display.HTML object>"
      ]
     },
     "metadata": {},
     "output_type": "display_data"
    }
   ],
   "source": [
    "pos_power_of_product = Forall((a, b, c), Equals(Exp(Mult(a, b), c), Mult(Exp(a, c), Exp(b, c))),\n",
    "                              domains=(Complex, Complex, RealPos))"
   ]
  },
  {
   "cell_type": "code",
   "execution_count": 65,
   "metadata": {},
   "outputs": [
    {
     "data": {
      "text/html": [
       "<strong id=\"pos_power_of_products\"><a class=\"ProveItLink\" href=\"proofs/pos_power_of_products/thm_proof.ipynb\">pos_power_of_products</a> (conjecture without proof):<br></strong> <a class=\"ProveItLink\" href=\"../__pv_it/theorems/a3736f5496d3b6691f0a652a66baeac30d3a51620/theorem_expr.ipynb\"><img src=\"data:image/png;base64,iVBORw0KGgoAAAANSUhEUgAAAxcAAAAmBAMAAABEwHuaAAAAMFBMVEX///8AAAAAAAAAAAAAAAAA\n",
       "AAAAAAAAAAAAAAAAAAAAAAAAAAAAAAAAAAAAAAAAAAAv3aB7AAAAD3RSTlMAq1RmmUTNIjK7EInv\n",
       "3XZ/CtNrAAAACXBIWXMAAA7EAAAOxAGVKw4bAAAJNUlEQVRo3tVbfYwTxxV/t7u+tdc+n/sPVRrp\n",
       "5KofqEpIrRZQoIgcuTslDU3rNqn6kSixRCUEkVpTVWlpCrhR0yYqcG4AgYOUbEQUiRI456O0uUjo\n",
       "QoKgiSqdoqsSESEtIQqliJMFvQQVlevMm/2a2dn1EtkrPNI92zNv329mfjNv5j37AGKUr85fguui\n",
       "aMUEQG5PbDjGek9q8/NmrIc+D9dJWZUE4YXkxrPN9CTkeosMtZIAyNIkB1TwZK+RsdXsPkb6rSRH\n",
       "9KRP9hgZD3V43tdJKvubMtXf16MMRbdGgb9gerK3yFD+22GDN8ouK9Ip6WtG2YlujQJnBxSTvUXG\n",
       "QLPDBk9I6t6XauZqUXaiW6PA9U882VtkjHf4yEhfPR2wmJbvvvHZz0V1LLI1Enwvftjbe2TcwF6q\n",
       "nbClk7/8yfxwwOPU3WanULwL5odCTXhrCJocfAVWrOg9Mljkme9I4JeyADKl4F15sIQvH/iqHiB/\n",
       "O/w3Xq4HgVZZ+SAUfAvaQknIwLPjC23JiKPW7Usnela4qTPWzlBXHwzwxnHVK/7TKV+iDt4Xb3I9\n",
       "CLTKbh7NUPAB3JsoCRlj9MPatmTEUet2hNTC5EGHAr9+EwYhF9hlt6F8nqtbD9CCo14SoxLVKivP\n",
       "h4NraAwlIeO31IfV25IRR63LpY/1u9QhaodhwFwWqF6AcoSrWwxwUvXGLvRAaJWVkXDwfMuVhAxC\n",
       "EmSLbcmIo9blkmO38U6ZewvS37YCta+jnOKBTfjdrO8jRLXKylQ4uHLZlcSQSnjub3+Ax1HrchlE\n",
       "z/vlTplbI629gnPDO6J+fisIPehvu1WVSjh4+qIr6W3qH6dOvR3jNhVDrdtk4KhXU39541lhTW84\n",
       "sjnGdZZ77MXwG5vW5Exm+WN+NUS1SgqaCwE3LrmSknEnwFMxyIih1uXCboF0Td1fzfCxWeo4PNP+\n",
       "ls4/5t5GtVNYcE71i85i95kULsBrIKpVdlcohYPDVVdSMjaALuc2y5Fhqy2UKOad7SgLxwJuWQkJ\n",
       "2ixpre9SOI5kvEPW0RugTXNaL5Tg7rZcCI/dLL0+IxkDRc6kwvv8dyCqVZbGKUaAX3ElJSNjZsv8\n",
       "w5tWl1VykGkcGUxNLYtE7BzaDHYcu0TsxblVZy1NrFwi6a6n6CRAlfd/soDS4wuRH0TsY6RjLZqm\n",
       "MtjqmqAL8zs0p2S89hm6WI2Pg/ZRiT3mcSuNBefwTC7bJmEffTDdcuj82O6BH1BolQBTc6Hg/3El\n",
       "JUOx/Adz+nSjrBQm4S6RDKb2rKBq/Kmq7IX7WGf8G2z7Dbtg/2fhK82UEPAYwjYUFDEBSuusZvYR\n",
       "ngy2M8hU5OowUYbtF8CNl/4OxhzpL1t7M5K1iUEVPuY5rfCdQWcPTaZnqcWUu/ZnHDJ8gEKrDLgc\n",
       "Ac6TAZWVvqdHa2TeV2rUPfBkMLUxQTV7COAbeO8l+j4wjRwxMGmB2oT1wmnG7y1RkSZAsc6y1EMy\n",
       "MoiTmLAwNlvkEXyVRoSDZf1ylLewH3PKItmZ4bopZhIUSoYyLbopP6DQGuKmwsCFMwNeIrOgjmw/\n",
       "nV9Ww+AelEd/QNbl6N2jY34yqBoQ4AMr/+rmAWDfYzTtxQKQAdLJl89XnXgfjFvLNI/2ktAzn5ZE\n",
       "kSZAz+ARYuWfg1dGZ0Zd8rbgbeppMrAiLCAnj4+MiyQiXKiabcjAxxbfOls4s4d8XCa9cOHlJmPZ\n",
       "JtlMCyHd0zyg2jYUJubCwS+5Esn4DVkT++4v5Qr5AuxHf12b/FJwZ1A1vQLGu3aOCFUX4oGu4Pp9\n",
       "GOBgleV2DNpB5ef4/ot8z3xaMsUL5odYR9zUxjP8zpiw7EthxlJmNP/qIvOzaJhoZt1Fiv4bxUTF\n",
       "mxPymLHkDRLYnXZuqIFD/qpzW2UmkQyN97Qv8oB8q4fpAVNzYeDs+qY7cQb0Ec/w649gsEbM3sPI\n",
       "0PL1ABlULVUHbTg9BTq55aLq8uV47OH0/Yh4LtgKqVvGIEUXsbrPtKv9xdZyDkxRcQcsxTqwvvkq\n",
       "8GTk8P02MuChv234F0fGs+f/MFRzf2bh+u8ZNxOH80Qf0w9V4DLOxT+lq/hNdFbTjkkkY4D3rNt4\n",
       "QKHVxfSAqbkw8PScK70U+hCZIOLbljYajaJSM5qVABlIU4GcRmQDPXoSmOrjP0RbdVvrGKE9BxOg\n",
       "rms0nkw/VqPVTwRilmO4ONglXVQ8AauwjripvxR5MvoRZaAW9LvOKosTCPVZZDERt6/LXT37Wvw9\n",
       "d8BUa5PgaGsc4Kb2mO+Fg7OvklF6ZJyAc7AlDX9kOwO+Z4lxBtizPlHNLDeBkIGq9AA3bDf1BBif\n",
       "wI4/64TWNG5dci6DKbopW0u9/etjN9WCii04yuos6/uTfJyhTdk5tjAyfgG/jJHhquXreqsWlnD8\n",
       "lpP885ExEsjy+QFH2mMuDgdnnhWlS4beIntjmUaiCcBgIl8QI3BWpiFXHb8HyUBV/ZUqHIE8OfCa\n",
       "9Gg+np4jfmuXHaw/cgdkLZilbQdcYWsp5+AYTfOLijQB+hQ7M7LPCZPAItjdYWToex6/K0YcT5an\n",
       "Wh+GjfLm23BGMlUfGYFk9W4/YJxUtmsuCJ4puNIlI1WAtbDh38Q+dYpr7S+TgmTshtTILS8DJQNV\n",
       "4cC6nTUKlj5K5b1fO18CjWzjjXQrG4cbd9JHSNvWavo4FZ7WHqNCf6wpKtIEKK1L/fQhY5RPNBgX\n",
       "vYsDZfBnR4Q1Pz/faj8x34X+qj5kepwGrlzOvYJO9+ErljeVTtnvB8zE+BbYMScBZwk3lMGvXQ80\n",
       "GmVpboqV++zXk5wq7Z0CTng3mSfwrzZ2eR1RvFyIqzWtNAdUuaJXx5edbIKsTiS68iFzmGE+yJ92\n",
       "PBs4m6yoVlnZHAr+YNWV1/wduMbMbH+b+2rjDvL3Y/ZCztn5/3FRXRXb7OJqGYV8ue9suKKsrEgg\n",
       "G6lOQaLlsCev/QcJk7IB0A1CNlpWZm0Ja7NLmFZAUepCyt2fHGMuWTKOevLayTBkA3DeyKyZMWqi\n",
       "qv1p5EpiSzWpkp/yZI/91vZEAhif6teBnx6t6JO9RUYSv9ZXK0mO6COf7DEy+ksJgKxJcED6cU/2\n",
       "GhnGuwmAHKwmN6CDRU/GJeO6+Z++h80EVuv65Mazw5Ox/6fvuil6Eqfrr5Lb6WVP0vJ/01T5ZWBe\n",
       "wZIAAAAASUVORK5CYII=\n",
       "\" style=\"display:inline;vertical-align:middle;\" /></a><br>"
      ],
      "text/plain": [
       "<IPython.core.display.HTML object>"
      ]
     },
     "metadata": {},
     "output_type": "display_data"
    }
   ],
   "source": [
    "pos_power_of_products = Forall(m, Forall((a_1_to_m, b), Equals(Exp(Mult(a_1_to_m), b), \n",
    "                                                               prod_ai_raise_b__1_to_m),\n",
    "                                         domains=(Complex, RealPos)),\n",
    "                                  domain=NaturalPos)"
   ]
  },
  {
   "cell_type": "code",
   "execution_count": 66,
   "metadata": {},
   "outputs": [
    {
     "data": {
      "text/html": [
       "<strong id=\"pos_power_of_quotient\"><a class=\"ProveItLink\" href=\"proofs/pos_power_of_quotient/thm_proof.ipynb\">pos_power_of_quotient</a> (conjecture without proof):<br></strong> <a class=\"ProveItLink\" href=\"../__pv_it/theorems/e8b1984b5708b2ae417e21d9f2dc26d085e171ba0/theorem_expr.ipynb\"><img src=\"data:image/png;base64,iVBORw0KGgoAAAANSUhEUgAAATQAAAAyCAMAAADlcdcEAAAAOVBMVEX///8AAAAAAAAAAAAAAAAA\n",
       "AAAAAAAAAAAAAAAAAAAAAAAAAAAAAAAAAAAAAAAAAAAAAAAAAAAAAAACXHtMAAAAEnRSTlMAq1Rm\n",
       "mUTNIjK7EInv3Xbt5cmRiLwgAAAACXBIWXMAAA7EAAAOxAGVKw4bAAAFTElEQVRo3t1biXbjIAzk\n",
       "vs3u8v8fu8YYzBEfJG5eMX3taxqqmLFGGiQMwOhDiu98jpIKPGVA/MMfoC22yy9iegpqUP/wB0wU\n",
       "CBN+RdMzMMPshz+AyJmYMQBo+ATMuOHvku3iMLRwO/wA0Cb7PtmuDVfcFWTGD2u4Xj9BbdJjaods\n",
       "lwbznrbFTUaGB81UWYDEmMOhtnz1wjzplWQ74n00wAnGdjNAHR8cM+vU66xAfaiT8V0Md8i2P0oD\n",
       "heeNngumcgEiBhxlfLwmSSBItEO2XR1bGcijmhs7qglXRicW0SBugVRvGMSFVmTb1RmVgRxPZ4cG\n",
       "DZodHzByWR1tY93VWFkbyHdtYytcU0KRHCM4A3ZZWO8L362BPHAOnQqEw+VLldbsYxhkAKXlSd0H\n",
       "WmMgf3NkgWvLWw7lxiDr94kEkH1Bd1I4aQzsO/hYQ5ZAZA6goNWCQysyfqIuV2sMVEFtww2N5XdG\n",
       "luw8DDXTfUpez7GOpBzBhopwypEyPh+LiPuqIXjOqiJtPeRgeaAQTJCdBMB7PzhuaDUaCjRUhqmT\n",
       "8IycuNXF8RrK2FCYzSwpYHD6xD3ucwnn74+Z/DB6LNAqxXGinu5UV87HMbLcstF6LbrYOZ9qildb\n",
       "RjJl47r6Mp6THMYfX1pufe0HDnK0qVY99HP3EWmaopPpg/KclQRuNT0mjye0QXjSjEBm90DK7FXG\n",
       "w0VpbV+sGBb5kGa7a7eNDLQOoeZejBy0RVUj+yoNCAulpL5JCufogdL2LTXN9iY0Fqx3Ls31OWhl\n",
       "Ry54v2+EUHkC2rmn3aduA2gzYm2LhpA1O2m1vIfjcow4mdBYsPMXwMpeAM3kKRHy9KdW7/fS876Y\n",
       "Fug5S7Qo1pTGVvsLtDHbKCyC5/Ok7SxUBxNimyxNCKBZ5cHShJBp/qY79FyNB8rpEOL9a4PaRMCL\n",
       "RHCSHW/MniawkkdpqCYednEqrQTxskBiJwUsOZiwtsm2CQs9uUwgHnjaapxIP/7M33gt+bQNR1vo\n",
       "tLOCKr9Rp0WwYKIcCH1Bmi4SK1zksHkdvoOxP2Ftk20TZtCI1BJcSASr8fBfOKuTGXsibg05Ebf0\n",
       "NtDq8OhbXNYDidlysyUCQtDy6sRSPj6YEC5vm7DQU1N0AbTV+OI7MvqIB611FFTCUKRdJc1Uz+6S\n",
       "oa2B3Kl19dp3rrBSQGxvrHE+aiYXIszBhEDWbIIHjVKtdnRattzVuKfn339yoedeIqgKt6SsrtVN\n",
       "Xd1b2U8GmnMMoo4Exoc06um2bRC4Jnz55zlL+OiiAJbgYEJsk20TguRQewTKQIvGwVZ8AdZLDnjG\n",
       "Ely6Uu2Zsle7RwPtOQZU26YEI6vxUihKnFN6ZpqXD8LnMEGsBUcTYpssTaDMMg0U2atp5dlzNV7s\n",
       "6mZxS16Qa2IlSVChddVnyTMaeHGOwR6UO5X29KjCJ/p4wjFom53z7mLVwZPkgI3dpwmigRfnGGBn\n",
       "aY6qTydcBe1CnaoiZNE7YXDWe9kN1L11r2jgBdims1iLP55wETR0QSBUm4C8t6vcLNZVtmDTqdKS\n",
       "gfYcA/8dLfZ3WxNVsTbzJlRpO2s6TScD7TmGsZvFtcrI9q0h5Wx6qtfRGgN5SBv7WAKtVP52/nY5\n",
       "oUATfW13Jb8ycLbzH2nUzUyGc5GVyiD9B3MrAwfpZ7xRL8CXG8KaRTxjtvy1f69eGChv1PAHvOtm\n",
       "EF8rXP6BjKTb5BspvTDwkeD7/a4GeMgFCmqSyn3vlDdyA59tx37hYF/uO1L3gCd9hPkuWyYEHjDs\n",
       "Vw+gPOMxny88UJaTk4GHDPY1xgj2nAc+v/aQ7IbZf306MZ2uaXGHAAAAAElFTkSuQmCC\n",
       "\" style=\"display:inline;vertical-align:middle;\" /></a><br>"
      ],
      "text/plain": [
       "<IPython.core.display.HTML object>"
      ]
     },
     "metadata": {},
     "output_type": "display_data"
    }
   ],
   "source": [
    "pos_power_of_quotient = Forall((a, b, c), Equals(Exp(frac(a, b), c), frac(Exp(a, c), Exp(b, c))),\n",
    "                               domains=(Complex, Complex, RealPos),\n",
    "                               condition=NotEquals(b, zero))"
   ]
  },
  {
   "cell_type": "code",
   "execution_count": 67,
   "metadata": {},
   "outputs": [
    {
     "data": {
      "text/html": [
       "<strong id=\"pos_power_of_pos_power\"><a class=\"ProveItLink\" href=\"proofs/pos_power_of_pos_power/thm_proof.ipynb\">pos_power_of_pos_power</a> (conjecture without proof):<br></strong> <a class=\"ProveItLink\" href=\"../__pv_it/theorems/d59fa717aaad6026a77cd1d8eff3e531fbaf5c860/theorem_expr.ipynb\"><img src=\"data:image/png;base64,iVBORw0KGgoAAAANSUhEUgAAAQkAAAAaBAMAAABWc7TWAAAAMFBMVEX///8AAAAAAAAAAAAAAAAA\n",
       "AAAAAAAAAAAAAAAAAAAAAAAAAAAAAAAAAAAAAAAAAAAv3aB7AAAAD3RSTlMAq1RmmUTNIjK7EInv\n",
       "3XZ/CtNrAAAACXBIWXMAAA7EAAAOxAGVKw4bAAADo0lEQVRIx7VXX0gUQRz+uXvn7e3endKDYIIc\n",
       "9OBLxkElaHGdeEES1YEEEUInFmFBnNCLFGbQPyjSSqk1qI0kCkO3MsoeJIzQisAHpVCEtQuKSpEg\n",
       "BB+k3+zNrrvXqGusAzc3+93Mzjcz3+/3zQGsTREalv/9QhusVdlqaRct3zVHNVoel0lwMcvD8PJ9\n",
       "Ay1Gy+fyrjzQX0pPZGFK0ZtSWmP1bZ1ZT74GogBRd1ncINWXTDs0Hop5yfxjwmtW32nlK9bBxBWs\n",
       "FIB8gm1wg4SPTMfR8/ZH+CSk8dTbxBY24zJRhWp4iISRwk6CHXWDhUc1TkU/d08+5CoQSLA7D0Ol\n",
       "MARvSVOcBzjrmkDyyIRVxgMEwsDHIC/F7jwLg1jP6e16IHxBCrvBohXfBIYIgko51u8hNwEqq/M4\n",
       "T1Z+BCSsqwH4CDJxRZzTRBZJI2vt1fRV+qqiCqvzuRlSn9z8A+tf+Pk4OfnBFRYFhjYaB5op9ISp\n",
       "4qJv9uA9hDx3AXQ6mENdEZbxk4s76x2Cu3T9ZaZyJ/WiB2Rtyj9vP0qMokbw5TtgEVsRriNyQIU9\n",
       "jsAeCm1kjBDfgGfEhpxBWfsVyRZNofbiZovdcBOHC7R/WTDgURKg+Kp9ABPGKlkBPQtB+8b24iBO\n",
       "M8UpTMkJ8VqKu23YzdXCDtBU6VQWCzZcR1m8A/EPhWpZDtKmT2vdC5LXkmYij+Oj1AOwjdqNBzUD\n",
       "msb3QF98NG4OXQKmJyIuAD9LoVKGLno12JEV4iSnPD2GVXf0BYRQWnD/fMaRiN2kQZ8u1GVZNPoP\n",
       "C8ZSSBK3BuJvyEmWZKByxl70hqGAS2XHCJxGhuInYQ4eEaikxLQbUZeGpjalF6dD/2HBQMNewnfd\n",
       "gdIYhXczWPg1btR+p9iuXzjI3sfQ+mrIU0WFaTfeiD5ddb8lGNB/WLCxJAHVf+/nxWLqYGOsGCl+\n",
       "2fjdhlSakkmgs5XJshy+dMC0G75Blq/j1j8PLyYG9B8WDFSZ8NmWn0Ycpbt687BS/grlsn4rQXWK\n",
       "GbsR1IwA9r9aHIH+w4JNT91iQyJOSIhmDgukWmsUP1GJry8FA2j9xG46MwKQuoz+qu4/2bAR58TJ\n",
       "/FbdNTnaCt5Mmt6qTc/Ad4s0uxvaW4RB3W6a8Hi9J46LcepRCBP/yYaNso4QtV4SbjpiEcwy/25Z\n",
       "ptHPZdbeL3fYMyYbtt47my1ZOOWIxdL3zoOrgg2O6n9dFJe+YkVWBbP+jzi/KKIa/wK7nQ9IFkqK\n",
       "DwAAAABJRU5ErkJggg==\n",
       "\" style=\"display:inline;vertical-align:middle;\" /></a><br>"
      ],
      "text/plain": [
       "<IPython.core.display.HTML object>"
      ]
     },
     "metadata": {},
     "output_type": "display_data"
    }
   ],
   "source": [
    "pos_power_of_pos_power = Forall((a, b, c), Equals(Exp(Exp(a, b), c), Exp(a, Mult(b, c))),\n",
    "                            domains=(Complex, RealPos, RealPos))"
   ]
  },
  {
   "cell_type": "markdown",
   "metadata": {},
   "source": [
    "## Exponentiation laws for real exponents\n",
    "\n",
    "Similar to the laws for positive exponents, but we need other means of avoiding $0^0$ which is undefined."
   ]
  },
  {
   "cell_type": "code",
   "execution_count": 68,
   "metadata": {},
   "outputs": [
    {
     "data": {
      "text/html": [
       "<strong id=\"product_of_real_powers\"><a class=\"ProveItLink\" href=\"proofs/product_of_real_powers/thm_proof.ipynb\">product_of_real_powers</a> (conjecture without proof):<br></strong> <a class=\"ProveItLink\" href=\"../__pv_it/theorems/9901dd29765857108e170069b66b24e29fc700040/theorem_expr.ipynb\"><img src=\"data:image/png;base64,iVBORw0KGgoAAAANSUhEUgAAAUcAAAAaCAMAAAAT8G7EAAAAOVBMVEX///8AAAAAAAAAAAAAAAAA\n",
       "AAAAAAAAAAAAAAAAAAAAAAAAAAAAAAAAAAAAAAAAAAAAAAAAAAAAAAACXHtMAAAAEnRSTlMAq1Rm\n",
       "mUTNIjK7EInv3Xbt5cmRiLwgAAAACXBIWXMAAA7EAAAOxAGVKw4bAAAD1klEQVRo3t1Zi7KbIBCV\n",
       "l8CCtPX/P7YCCoRFlMZpk3JnMnszx4Me90mm6X9ZatZfSP3vFhPYCouYuxR8dM+Cmr9N9hmLcmzF\n",
       "ZdVdDjnqXgW1fpvsIxbM2NqDb3WOwMXlxjHnPdmNxXVBrWuuUbLPWJphKy63wOQugmwRk7LBgJFN\n",
       "S2qNuCIZyRHDPl9GabFV6Mrmfl7cRIAQoo6MvryDWiOuSMZTsp7l5+vIDbaKHMb78tj0rLCOOORO\n",
       "zfW2rP9gJVckU+Sb8uUqsHV84R+Y9q/OnjKPBF9JrTFXJJv3N2PoF/SIyY0UcqgtS7ELV5i99iaF\n",
       "5e1VUmvMFcnY/mbmL3BHt2AraczdVeGUnDEX9Xd25PUV1Bpz7WR28cuaL9CRzMiSxDjZF7AFETcS\n",
       "ZJO65ceRjIeqo+GvKtJtUE5vRevaEnbLU7orShOi1txa86VYpH9d88YjmSTHx1k0aU7Si0GzJl3M\n",
       "zMnccYkWopeeTCghxjgUIjOpLLAsCNF7KU2IRHXq3nVtx41k3hUNolWOaL19C5ps74VqU8+aB8D5\n",
       "dGtkIy90ELoXTseUIGrUwiuLr+EftDesKQO0IXCp4xl1S/JIRl2jynC+O76BOP2YatZMALf9TQyw\n",
       "Q/YQHR2JTNus8sIfrT7RJCvehsj1aho/pW75o9pL9TEjgmHO+Jt3R38FTEUq+TprJkBUyQGvB88O\n",
       "4lXHtGlMSybeGjT6wVpHWMO0vHZ9pQlRxStq5scb1IjM0L2JhEXGLyE9J5VUNmbNDAhRK3VWbR88\n",
       "O4hXHdOmYV7QP8K8EPvDpeqWiX61YKWxdlN5rmMTclmvb1AjMmnJEYlTHL5FegAGDBqzZgZsKnFt\n",
       "NBpizxGVjmnTiGVFn22rZJG7vt3Szpcx3iv/bQi77B9vUCMyovIAGqZuNgff0HRSSqjGrJkBIWqN\n",
       "oPUQe46odEybBjfQR8rxOq70rOvbLSDOKElcJ9m1IfzyoOIG9RkZ+OjSDGBSuUztdeZo6vZZswB4\n",
       "lYQwUA2e54hXHfOmPq5//jrOAVp1pjgdsHcKQGdEfPJwC5FZn6mED+TclkvDZSgeWz0oZs0MiF2N\n",
       "ryIBkAbPFqLpj2nT4tRk8pOYIAPnPWPHweuDYwcmE5xRZ1g4/VG5nG4R6lsY5cvnMWsmgJjdbCbg\n",
       "fI6ANHi2EC0d86YvU9XWh3P0sDmPKvvOozPyoDt2ycD4AKuCh44A2ohu/0gvj+gJxdYfrOXJs9Zh\n",
       "MgHvAi50vD5zOv99ZsiDnvxJZZyMvQ3o60hv1A5qsDW6Hj2y/rfn338eV6e/Xw8cNj15thXJfgOs\n",
       "nSckhygr3QAAAABJRU5ErkJggg==\n",
       "\" style=\"display:inline;vertical-align:middle;\" /></a><br>"
      ],
      "text/plain": [
       "<IPython.core.display.HTML object>"
      ]
     },
     "metadata": {},
     "output_type": "display_data"
    }
   ],
   "source": [
    "product_of_real_powers = Forall((a, b, c), Equals(Mult(Exp(a, b), Exp(a, c)), Exp(a, Add(b, c))),\n",
    "                                domains=(Complex, Real, Real), condition=NotEquals(a, zero))"
   ]
  },
  {
   "cell_type": "code",
   "execution_count": 69,
   "metadata": {},
   "outputs": [
    {
     "data": {
      "text/html": [
       "<strong id=\"products_of_real_powers\"><a class=\"ProveItLink\" href=\"proofs/products_of_real_powers/thm_proof.ipynb\">products_of_real_powers</a> (conjecture without proof):<br></strong> <a class=\"ProveItLink\" href=\"../__pv_it/theorems/55b670d8df082592096929eecd0e7b28a33741680/theorem_expr.ipynb\"><img src=\"data:image/png;base64,iVBORw0KGgoAAAANSUhEUgAAAssAAAAaCAMAAAB2K+FKAAAAOVBMVEX///8AAAAAAAAAAAAAAAAA\n",
       "AAAAAAAAAAAAAAAAAAAAAAAAAAAAAAAAAAAAAAAAAAAAAAAAAAAAAAACXHtMAAAAEnRSTlMAq1Rm\n",
       "mUTNIjK7EInv3Xbt5cmRiLwgAAAACXBIWXMAAA7EAAAOxAGVKw4bAAAGp0lEQVR42u1ci5KlKAyV\n",
       "lwgou+v/f+zyUAREyFV62ulqquYWXSbHgMckEJxh+G3vatMouksOfxSxhnL3Dv3HWmloWRb+y0R4\n",
       "Iyzv7DOpwHOuuj/FEiLtgEJrd6jcgMIs04Z9uNssjL/s/Khhmnf2Nk9QDLjkI0QunqOI2h0q+AJs\n",
       "GSG/XP6eJse8E6LpqjWSoLgLlgRH8jIi0Y9RRO0OAC63LTNcRoenII+53Avs5zdB8s4RLuWgQWEd\n",
       "LgltV4iLfIoiancAcLltmeEyDdnayB9zuRfYj298zjsJy8lo46cEvA9GkmFNWb83jBQirEZ3UOIR\n",
       "iJrNAC63LTNcntDdrKjA5V5gP75RlXeSZJOiYcJNZ7hJmrdBrv3SZVrgrVzl5yj7CKgwbbY/5Gxz\n",
       "cjGbo4JexTKbL4/bHwo/53IvsB/fVpZ3jkuWDRgS2DdJEwGnuZNZHpFQTAhlWIX11kg+R0lGIGo2\n",
       "A/xy2zLL5X3993DxNiaLyd+VYGN1JLNOkgESAUpSg+QgOuUYGyLW5mdmA1aHj/wcpcjlos37RamS\n",
       "n4JexTJHvXmxbVY9uNwJ7Kc3veSdgSOluV2VT1Tr6oLrLEkf7s2dEMXk9ldoiK56voFS4nLR5nBx\n",
       "5vFPSe/aMsdljypkFy73AfvpDY15h9mHJxIvfcHls6QyS/wn1pwRzRtmPd8y7AGcRVfpEjVUQSlx\n",
       "uWgzZH+5aZnjMkf7D7ipSy5/DIaBGx66i9oTC4p4tS2x6xdaiKwjZ+dVligN0XNx0XGWHNd1XR5Q\n",
       "+YwozfPTJgVAmoekaPoYJRlBNk+pzZC6X9Myn95aL6rqGRdfqJUgM7q6+e5gWmBaUORDkbfAil4W\n",
       "2/GiRopGfbrnTbVSs1CNan8Fr6LnZ0EpfX7zR5R1qFvUL5epmVz3+YVL1ql3iLUQ3fNfWxk5BOUr\n",
       "WrDMcxnr68XapJGwWTpGNiwMVLa4XAbbYaRA5oXCQkXv2VAotu/y2oYAxe1lptLX84Za8aGiIhIU\n",
       "T1TSRzfDZjrYSWihWWcWjl/XhAkacMnGAi2INRHbl4EoX9FkymXDvasqJd1TdGwkaEguKlwuggUY\n",
       "Jd01ErZXWdiRLMprG9SJVxqjlO2eWnGErIQExrvmMuIBeOUNvyxXC01WyKODSsLJAEDkUY5RzJf7\n",
       "2wX2y0mOMSi8PSBCyaQ1GjQRTkKHbUU8Yca9e6KULuYfu+ByABukIlrxGEaSyavxI5UfzsX247aO\n",
       "RFpSDxyvAO6oFf1TCQmOF3E5DNevSZSfablvtta5jP1CsJm7wyXhXAYgTiv/03aBtzd5wmW+pcGS\n",
       "MJvB279cbVAeTwpPxqdiBvDLO9ggF+7vdMBgng6Vj9vOVFJsj25r3x4uPKmOA2U31Yqv9VhA+gDv\n",
       "kAnDdfUq8Y+rV/n94yWvNCCRdYS2WTkFHK+ESx458bnzKSJrFv4+sKtrS/cx7JR6P82ltmO1XtvV\n",
       "VhmJuWzM1KLN5R3MROituHPAEEmSOdkyyayAH93WJDZCiUT4pLbX9ptqxakQsQHpJQieiBKSuJa1\n",
       "+XTP5TlPusKm6N6RSKuJI93eKIZLFtLyYjINQSRzT7t6NpLsLycOQ28PxJ1sJqNzMQJ7LksVdpFr\n",
       "XA6rAba59wNmmlgyVoxC3hsV8KPb2uCumA/Rkyir7bX9plpxiwJFSNksQfDEebixT/c5xoqvnAlb\n",
       "/46deIpeb9mJy/ahWufL18H0JpX4ZesBW/vLcYSze+dEyhhmW/vtW68bL7ICfiRvScSYkmlwT9X2\n",
       "2n5TrZhuiQgprfaD8MR5uDbH+Pe/6EzMee3niJ923t1G8nrLci7zdfPNRDjfe9Tv/Ic8lbN/Bb9s\n",
       "80dmk4oDhitqn6vSW8XdL+LyAv4h71ebftHliphFta2231Ir/XiocrW/glfyy2G40XlBJ83Os1Y5\n",
       "J/fGJl8bPtJzcknss7Nujx6bxMfKcLGlBNPiDyR/wmVGCdaKxDCWQCZy262uyTli4VDzAn6QZ6Me\n",
       "1SApHXfZotq2ddZSy8r9EVS52l/BK3D5GG5Sw1dK0zMRQmLd64TbFyel6P2WNb+RksrGSkgcHD+G\n",
       "wcOp8rDIa/k9BT2rhdp+S+2ULOdQWbW/hlfbX8btyjnCeefN7b1fJR+Wfef3fswf1I5m6eoIwhaN\n",
       "+YVa/TxCotaw4Fztv8SrchkwF9ff+73R+em/wLLv5DIJThUmznqoPbEgwatxGUPiWDiBi1+fMb/3\n",
       "I6Gv+g777v+PIe+JyX7o8oG194Pv5f+P8b5tL/l6y/SyzOR/FZVJ4G5O7yUAAAAASUVORK5CYII=\n",
       "\" style=\"display:inline;vertical-align:middle;\" /></a><br>"
      ],
      "text/plain": [
       "<IPython.core.display.HTML object>"
      ]
     },
     "metadata": {},
     "output_type": "display_data"
    }
   ],
   "source": [
    "products_of_real_powers = Forall(m, Forall((a, b_1_to_m), Equals(prod_a_raise_bi__1_to_m, Exp(a, Add(b_1_to_m))),\n",
    "                                           domains=(Complex, Real), condition=NotEquals(a, zero)),\n",
    "                                   domain=NaturalPos)"
   ]
  },
  {
   "cell_type": "code",
   "execution_count": 70,
   "metadata": {},
   "outputs": [
    {
     "data": {
      "text/html": [
       "<strong id=\"quotient_of_real_powers\"><a class=\"ProveItLink\" href=\"proofs/quotient_of_real_powers/thm_proof.ipynb\">quotient_of_real_powers</a> (conjecture without proof):<br></strong> <a class=\"ProveItLink\" href=\"../__pv_it/theorems/815fbe528c8e09cbc6a03c1ea92928c8defdc81c0/theorem_expr.ipynb\"><img src=\"data:image/png;base64,iVBORw0KGgoAAAANSUhEUgAAASEAAAAzCAMAAADvqk4NAAAAOVBMVEX///8AAAAAAAAAAAAAAAAA\n",
       "AAAAAAAAAAAAAAAAAAAAAAAAAAAAAAAAAAAAAAAAAAAAAAAAAAAAAAACXHtMAAAAEnRSTlMAq1Rm\n",
       "mUTNIjK7EInv3Xbt5cmRiLwgAAAACXBIWXMAAA7EAAAOxAGVKw4bAAAEXklEQVRo3u1bi5KkKgzl\n",
       "/Za9l///2AVUREVbW5ytbC1TM1VjpwQPyUlOpBH6W4YSGv0b1dBqewXbfnc32kAHCNPdJad6euQA\n",
       "HKKGv6jgPe73WGQADRAV+2s+7rpn/eawGDBA0skGMdE2cl+PgcJFaPCNi4mGWM99Jw4sFVHXuhoS\n",
       "SqTnPIJBRcjVNC2x9TL5VKQh2rci4kHCBMiHyvt5oiSdrijmfeeZBFCyHqp1G5folL2UmUkAyUQq\n",
       "VJUhCxkz+85UJniICOGap53OD8LfkjYgy0aHt5tMw1tSl0LkahVojVBK71gg8s2TfJa6JgCsGv1q\n",
       "W7VPCoqhryqXC1LXAcxmelUuGuytktirr7yxJXWtp35NRAtIBIRHuW5VYVPqDhypag9spDhW8oCA\n",
       "wEomdJMCLanLIv5G1VQdEZudSIJoYqp+JcokdZWeR/QQxxvTiSkULYGAEAndltmSutvsnl2WTvQj\n",
       "IAAU3b5br7UldUXyoboICCnE3JCGsyAQ8o9ruNIMaEldySj1dX4LCUOWdwVIc99eFpNsqAZuNAOu\n",
       "kZXIoM5/fnCcZqST5bOHcvtuM2AYZvexJ+LPa4ZHx2ypGTJYwbA4STEti7PEOa7FWt8IfBwe7szN\n",
       "ZsCQiyPiWzytPNaap5drOPol0XarZmYDn6jNysakJxb6jCgyJcdFcX2OUGiMKwXnjWbAiFCEh+5c\n",
       "gLEpaViTP6N2o2aKgY8/iJq9E51ZnCCEZZlmT8vsGQ/dbgaMURZLobkoMpZ6m5blZwliqBoBl2s1\n",
       "UwzG5/eGbaXNicUaoTLpSKV5K2RGYt+Zt89y2e1mgBuDS84S1gwyQiBTaBUSkeubTWpmMcgxJPWC\n",
       "xyRtTizWCJVJWa5sf8VfGi8khPavrPzDeuhuM2BGBpfIQaNw42Vp1FDTUDOLQXx+pq3eSZtjiw1C\n",
       "ZdLRlk6umn3I964Y7zYDtjIwyRKfUKNilCoEKcVVQ80sBjmGLCf1PdDqFluLDUJl0vwE0wdjlO0l\n",
       "Bnmt43oQlXbzf6qmqDFILR9MTD0XKZOaqQzS83NuzUbaHFusEVomTVH23/86R9kRU6uf7frthLJL\n",
       "jMBTWC0ltrRMZvqNjFqpmcVgzOWJh7NBkTYti6YPlUnR0mlASRFw/Nntj3pfLwllzijxluZeiFpS\n",
       "TYyXlLhVSi2zmikGXHhhkWFMjAZF2rQsWggtk660T6wYWSOzD0cKe9P7el8GGpvcfRP05I5B2+K0\n",
       "HiKfnQAfoLDtffUZd0t4bp4afEDoQgeGHpSM7hUGv9vzpY8NzhEi/Ap3kmYv45U3W/IPvnT9/nlW\n",
       "L2iWXsau99WnXwfx9AdzzV7GrvfVhYZAvpXmVc347sGGGLogTzaggX3dy7gdZDDP6S3rfnSw4cpe\n",
       "QD0OW146PDvYcCGegZ7Sq5zo0cGGzxUJ3BPVwn7Zy7jpQnC/uKDcT7j/QBDc4X/gjAHoby30/abU\n",
       "QYwJBHuIl0NACfBfMNPqzbubBaDfz/0qTpDpibcAAAAASUVORK5CYII=\n",
       "\" style=\"display:inline;vertical-align:middle;\" /></a><br>"
      ],
      "text/plain": [
       "<IPython.core.display.HTML object>"
      ]
     },
     "metadata": {},
     "output_type": "display_data"
    }
   ],
   "source": [
    "quotient_of_real_powers = Forall((a, b, c), Equals(frac(Exp(a, b), Exp(a, c)), Exp(a, subtract(b, c))),\n",
    "                                 domains=(Complex, Real, Real), condition=NotEquals(a, zero))"
   ]
  },
  {
   "cell_type": "code",
   "execution_count": 71,
   "metadata": {},
   "outputs": [
    {
     "data": {
      "text/html": [
       "<strong id=\"real_power_of_product\"><a class=\"ProveItLink\" href=\"proofs/real_power_of_product/thm_proof.ipynb\">real_power_of_product</a> (conjecture without proof):<br></strong> <a class=\"ProveItLink\" href=\"../__pv_it/theorems/578570da9672a005646b581280e32797abbbd54c0/theorem_expr.ipynb\"><img src=\"data:image/png;base64,iVBORw0KGgoAAAANSUhEUgAAAXUAAAAZCAMAAAD5Yk5vAAAAOVBMVEX///8AAAAAAAAAAAAAAAAA\n",
       "AAAAAAAAAAAAAAAAAAAAAAAAAAAAAAAAAAAAAAAAAAAAAAAAAAAAAAACXHtMAAAAEnRSTlMAq1Rm\n",
       "mUTNIjK7EInv3Xbt5cmRiLwgAAAACXBIWXMAAA7EAAAOxAGVKw4bAAAELUlEQVRo3u1aiZLdKAzk\n",
       "NKfJrv//Y8N92GBgJpWqfTtKZTQ1r6dlNyAJJQD8WDRlsPlR4S/bSQHXPzJ81djNr6GJAEDyjV9Y\n",
       "PiIBsPdU/zkzqPUTo1EyTffol49IBKQ4wcP8McKfIDpSrR+YFPqMMobXvtgWPZgckcyfATFO8CSv\n",
       "8fEJm18erR/bQdI30n91OqhV+mzjIxL5CyDECZ6nzc7EJ2x1gls/tiulCuzlYQRjI1fpCwub8BcA\n",
       "JpVPS6DQJ6iub36cz68ssZbb9GVHj45I4q8AKY7zOC7f8Qmio6P1L53FWZTDu/RVRzM6Iom/AqQ4\n",
       "3uvTmVYfkWBU6wGDyrBeZ3dAY2A43gru0o9pe/x5IWDliS/BQv5deV5r1rSoDd8Vt55qm1bF9cTL\n",
       "y2ZWGZIufh4MclYGH/RD2i5/TuxH5RlMX0YtqiAwryw/xDugcy5PdRB4NJ+/lW7ly75SJh+/W9An\n",
       "IDfHqPFS+zbt7DyTl0z7Z0LLV9IpbZc//0zX3m1z9eiAuIFCUNd5QrtiSKQ3hGoCeFIYV04UU2uq\n",
       "hw3g7nM0o6CaAG6NXPTk8lqpagemzey/ufwn/Foupn3aJ33Dn+W4ao9Mp5YSEnt/Jf2C4USg+QTw\n",
       "pDD2D8DSrKkOWQ6TT6jmE0BfdS28FmVHnSmzeclo6O6o3lT9Qfugb/hzW6Mbf4A0SpAKG8WqmxSQ\n",
       "mNN6gMAvWyXkCyBPJjIiqG4kGaieg4Zn8qvHwglFbdAhoJ9h5OWeA1+jbpqEzIzO1bw+pe3yl0zb\n",
       "eIVi0y5PZt+QuayRoQw1+8mcEhjyAkiDh4LwGYYJg/uq56BEOPtl/2L7A/dEJ26CjgGZ1tRe+neH\n",
       "B0CPu8zFU3q2+i3fD6e0Xf5cTUXjmYYpJ4Awy6EZjyVuFsy+sCvCY0AaPBSEVZ0I1b6aqBMRqAZI\n",
       "cW14U41i0DGg25wFlZA99s+OCVoWQW794NSmtF3+UVsLeclbBvrmxm8rgQDntBnuuHRK4BuApv4o\n",
       "IXyGURQNVM9Bw9QoVkwvasqLMegYkAvW2XgJjeIMmud4SkKVb/cnXVV9StvlB7c4t3i+vxRYSsDL\n",
       "8sdimXrkK2TTF0AqAArUeZ1SJbuql6Augfzzr/AJpC2WMegYUN6Mt37B2Ll+zdigHcZ5xNMuw1KX\n",
       "McqliSnCfIm0Vc/FlSEvDQF58FAQoXMcVdMStJrFAeMaQwjaoD1Aa82IaW9gtmIbtOuDOUowMgr7\n",
       "CSQvLYbNFa4J5K5j4MQY8AbIg4eMoIc5FJCEHF3VS9DmhmwvQUTegvYA94LHWj/fgluzVvHlcXiK\n",
       "8xpPKneSbxkP7QD6iNd+HfXut2gGaJ9btP4P6yi/PA/f3g55V8rvAiaqHzPOhcFomkywtX/wN5si\n",
       "sC/+P4IUx2wfFvxtwLvqiE44EQU/9g1j/+u3/w3v8SuqToXLbwAAAABJRU5ErkJggg==\n",
       "\" style=\"display:inline;vertical-align:middle;\" /></a><br>"
      ],
      "text/plain": [
       "<IPython.core.display.HTML object>"
      ]
     },
     "metadata": {},
     "output_type": "display_data"
    }
   ],
   "source": [
    "real_power_of_product =(\n",
    "        Forall((a, b, c),\n",
    "               Equals(Exp(Mult(a, b), c), Mult(Exp(a, c), Exp(b, c))),\n",
    "               domains=(Complex, Complex, Real),\n",
    "               conditions = [NotEquals(a, zero), NotEquals(b, zero)]))"
   ]
  },
  {
   "cell_type": "code",
   "execution_count": 72,
   "metadata": {},
   "outputs": [
    {
     "data": {
      "text/html": [
       "<strong id=\"real_power_of_products\"><a class=\"ProveItLink\" href=\"proofs/real_power_of_products/thm_proof.ipynb\">real_power_of_products</a> (conjecture without proof):<br></strong> <a class=\"ProveItLink\" href=\"../__pv_it/theorems/2f837dafde9bf909fb2fadab41c42932eadc372e0/theorem_expr.ipynb\"><img src=\"data:image/png;base64,iVBORw0KGgoAAAANSUhEUgAAA9sAAAAmCAMAAADjs3i0AAAAOVBMVEX///8AAAAAAAAAAAAAAAAA\n",
       "AAAAAAAAAAAAAAAAAAAAAAAAAAAAAAAAAAAAAAAAAAAAAAAAAAAAAAACXHtMAAAAEnRSTlMAq1Rm\n",
       "mUTNIjK7EInv3Xbt5cmRiLwgAAAACXBIWXMAAA7EAAAOxAGVKw4bAAAJQElEQVR42u1dibKsqg5V\n",
       "BkFQ7nv+/8dewYGoDNGma3u7SNXZ1exDVlg2IWFyN00hIdMstKnyW8JIJfJaUZ0KF5h1RlXMDmmr\n",
       "I/yga7eVyItFjipSaJqh+naVhNCuEnk3rzZWqL5dJRkWCvaPSuQr0pNYofp2lYR0+t0e2/XlieBB\n",
       "S6o+tqSgCx8K1berJL7S6eXRrtVfINLqr7enJPPDQgIsVN+uEpdRv7yBg/wCESxoWdXHlsQk/K9h\n",
       "ofp2lXji9/awLSdjWlWYCBa0rOoHlno4cIFC9e0q8bwPzh7Fixq2tcWMqjGsEBEMqCjTHgw3vCU6\n",
       "gAqgUH27SlTgSSTzppMf3KxBiuI2t1BEEKAx3bvtSUjmOYcsiYnApJwA3/YuSejnvl0KrcoLMl4f\n",
       "Q8i7Zt6G7pNOxJkUJJEsaFz3XntSTqQfMB9hquALs28zvhU68blvl0Kr8udCp/2jetvJj+V4pW3g\n",
       "QIoRyYCmdG+1Jy6I5xywxKCWL8y+LTf3F59tzi2+XQqtyt9Pt32XYW/LwaiLTvOkk/bliGRAU7q3\n",
       "2hMXxHMOWDITDOwTnG9vR8w1KeDbpdCq/LkMPrsc3tc4280kM6YkkTToUKo9CZRHzMkEtt58wVak\n",
       "62DxYd61+nYhtCp/LtM+9yPv+zI7+gUiSdC0blcis0E956slCRfTfMENAsNoZdBFfLsQWpW/9+29\n",
       "E7HtyxStNiITmjB1cJJC0u0XiCRB07q6xC4R6jlfLSm4D+ALzreZi+K9KuPbZdCq/LWA3ZQtVPBB\n",
       "zN9s+iAIpg5OkkiBrSY2AmmfEEnuX6V1i9wzQz3ngKXJhArOt0W7/UCLjvv2EY1gV8vPo9RjxdCw\n",
       "c2/J/nbQYTesqaihp3oPGecAQaY3Lp/UQJ0LJVERdXCSRiL4JQA8kSRoWpeUWJJAPeeApUmHCsvZ\n",
       "FRtkNU+P4iOzNei6LsHivn1AozzrSD1rXf5xhHysGBrpONKnA4iXqz1k1B1ru4M39Hhry4PR2ujz\n",
       "Y3yq95BxFpBPO8iwfGJuCXY5m61g+FDTXgB1lNatP4EJ6iQ9eq8GrYUcFh//0USuoKDVV11IMKmK\n",
       "ZBxqHor5xEKFxbeJia99SdP2PXeuq+fKTGV9G6CpNoOq+naOMMSeguWQy2PF0MNLZyQZxP3CzVbP\n",
       "2KRFCx3x7bS1JZ+h8xPiVgkYeqr3gDEOEIS7tc8NveuK3D0MA8MKODDh67Bj8BlxhzH3agApmLA/\n",
       "idsZIgFQwIynCCZVkYwDJnDMU749uyKN5HmMrUvqZK7B9mQ85dsAjfEMqlauJrWw8N1PjxVDOskg\n",
       "lkPcLtzs9YzNYKkyEd9OW2vFjukOS3lDT/XuM0YCXlJZ5WZy20EQMoaDkK9jO6eYnt6MOlq79rYR\n",
       "Pd/GEyFjNmGOESQFZiHB5mGYJ+bbdjN6/W4po/NI1jaG9q7NZl+BI5JwscQsxtg4/+Mx397RmqUZ\n",
       "SlOj4QRwR1VULiiiOe6IP1YMPbEwFg5xu3DjH4TzbaNYxLeT1pbwKNwqiTtW5A091bvNGAso/Opr\n",
       "b5Y+Z+u03TKZj/m2r0PVZ74NkE690nZU/BkRPJEk6FUXEqQljmoFTKCYH15Belwnn1u4TqMV5XYe\n",
       "b0vG/kZ5HCLnyEY4Jm5vaI1wqbkaxeFIL0AlAiz6EA/6WDH01YaxkIjrhRvwIOz4JnpDw74ds8Z6\n",
       "K//M/+h65XCk0NBTvduM0YDKR4N128V2PTJnkCwRqA51Zs0xMcG8fggjnXulo6FvjBJYIknQkK4n\n",
       "mFRFMr6awDGPXBbZ7oG1y6gglLE27VjkIDiFvj0bMz3Ctze0ZSo3Z7P2fVUOftkZ86hUUZ8L8v70\n",
       "cVfkxLgsIa8YClGnRhz/M4e4XrgBD2KemvT6aLGPWxNwM3AdEBaXGgw0FGGc1bvNGA847F+yXBOB\n",
       "1mgpWiMTvn2oc37z5nmCef0QRDr3SqfB8eEQTSQJGtL1BNPtwTG+msAxl3Bq7guXO56tWXuEy/1p\n",
       "50Z5+4o169tKb4tkad8+/squELhRR5LlSXhUKbnP2WQfUxzsQIdSbJpcI04LyjnE9cINeBA2J9ec\n",
       "RHw7QvmQJCypsBtfd0MRxlm924zxgGCHYJSYad81gSh1yuHYK922zQ1tLJEMaEB3JyjGIjyvJjDM\n",
       "D2+M8oWLb9u+bIOzmJr5k9SHuG3DyZo9oHxbLgt+diOeKpf+OXMAdV3AcputIC08KYqVX14xNBge\n",
       "sSgjlDJOtEQ1Zb1wA+pZ3+Zcq7BvRyi7VPh//+9dKgyWsHZDEcZZvduM8YDMB33Knvi2mLVEkduA\n",
       "x17Z3Ly8giWSAb3qeoKFLtNcTWCYHyY+vnD2bTGtY8U8Y7d2/MC7bJmaNhMtAos6g533cQo6ukcV\n",
       "mrm1K+tWy+l3pUOKTc8zikpHfpywiH1Sc0xbb8rmELcLN77esp6YXku7Um7AFTkHz9vtU5JxTu8+\n",
       "4zjguaOBcNCL+74teiklKxG5z73y5iVDJJEs6FnXEyx26fFiAsO8b4OFs2+7L9revJ7T/aXRcpsK\n",
       "LPex7/m2aypnlBjthpu1o++otjPO2e56TNUZkG7Z9qy4bkAlFJ2eHMTxRwBrhrDXZNc/IZNFXC/c\n",
       "7PV4ZzrdKAYvzfZ5yofhwR4ZWTp9LzKMc3r3GccBgyvV5zXHbSDsJp05HjfYv1szlejx514Zam12\n",
       "yT1LJAt61vUE+1LvKjibQDEPL5Pn36mktE3fMAsXId8+H4nYOnoIdadFropzBmyyiqFtoQDWuLzd\n",
       "YmzoLcTUg+gRlBtiol9linFO7z7jBOCJFshNytz+KCTmpiuhiCBAY7qm3GtIMs85ZInDzRBQ+Pb7\n",
       "0hhsizRDYl92q8rVRbGbh8cxp8gDVAJY9syW4TbREU8Qs74dpdxFDaUZ5/RuM+5y39Oey77v2vbD\n",
       "aeyvEAmK7sKFr78LUWMN7Eeg6UPF0GrGXaw8Yt63I9YIjxqin+ndZJwAvOSy/Dd6/88QCc99SLjw\n",
       "/fecYg2oYoofNOJJ7eby3ln10JAq2MAijPWvvGBD//CbQswQKdR3GFdJhQRZifxXw3b17SrJ2Un9\n",
       "E72vD9tdrFB9u0pKOlqJvFrEICKF6ttV0hPxUVQir6ZFIoWyvm038uvfEvm1uNCpSuS90tNwgVln\n",
       "rK8srJL2CVmJvDds81jByb8gUHBkvYZe1AAAAABJRU5ErkJggg==\n",
       "\" style=\"display:inline;vertical-align:middle;\" /></a><br>"
      ],
      "text/plain": [
       "<IPython.core.display.HTML object>"
      ]
     },
     "metadata": {},
     "output_type": "display_data"
    }
   ],
   "source": [
    "real_power_of_products = (\n",
    "        Forall(m,\n",
    "               Forall((a_1_to_m, b),\n",
    "                      Equals(Exp(Mult(a_1_to_m), b), \n",
    "                             prod_ai_raise_b__1_to_m),\n",
    "                      domains=(Complex, Real),\n",
    "                      conditions=nonzero_a_1_to_m),\n",
    "               domain=NaturalPos))"
   ]
  },
  {
   "cell_type": "code",
   "execution_count": 73,
   "metadata": {},
   "outputs": [
    {
     "data": {
      "text/html": [
       "<strong id=\"real_power_of_quotient\"><a class=\"ProveItLink\" href=\"proofs/real_power_of_quotient/thm_proof.ipynb\">real_power_of_quotient</a> (conjecture without proof):<br></strong> <a class=\"ProveItLink\" href=\"../__pv_it/theorems/8aa6bc7662c3a2eb40b938ad1642d9e1462021cf0/theorem_expr.ipynb\"><img src=\"data:image/png;base64,iVBORw0KGgoAAAANSUhEUgAAAUsAAAAyCAMAAADiMwkRAAAAOVBMVEX///8AAAAAAAAAAAAAAAAA\n",
       "AAAAAAAAAAAAAAAAAAAAAAAAAAAAAAAAAAAAAAAAAAAAAAAAAAAAAAACXHtMAAAAEnRSTlMAq1Rm\n",
       "mUTNIjK7EInv3Xbt5cmRiLwgAAAACXBIWXMAAA7EAAAOxAGVKw4bAAAFcElEQVR42t1biZKkKBDl\n",
       "vmV2/f+PXVE5EgXLKqs2BiJmorvNBH3m8chEhEYdWv1kGaMNGn1g+t35rad+/UFNo4OJ7XfnnzhS\n",
       "bvuRTGNDScV352d68e4YRCweGUrp5Lsu+9pwHBgpHRjLyb/vsi+NGbwr4sYNmbSGhZFD+hWm5bKv\n",
       "DBHsModkwYbF0lWJh8WAJrH18iT9QpftxI6oLxmlPk/AZzkolH4254mIhzCq96sUt1y2OYA+tNNR\n",
       "088EH0zFaGZcyBEsUhhNWi7bouVQH0TMecyIqWYY+UQEic0r0jZBk56/ctkWEYL6AObZD4kldg2T\n",
       "cXp9an4Io6+G4Uof7FjHJOwOQpTtcLUdOudMci9jHPRBTB4y+6iZwl9NwiIESCwQiY+t7T0sa31w\n",
       "cUS+7qGFYJ390IfNM0OsyUP746Df8YYxhoYAFfZisLdKYq+yk5Nbhlnr1wEzw0nGsFKnoYv34tj0\n",
       "3H7FLnGUpbQkhoieZmYwJ3RZznPlJLrkd5X2V3qQ1AOYHhb92PrsunGTb8kQWBIYA/spgczqUX+g\n",
       "e5gUQ0C5+BqAZ7Z9Y3rOgObw1twUhrNjYFlRoj7te5IVziFGsvVFjtJOs6DKcMV6TrfRbCrGy7TR\n",
       "BceWOP73w9ElI5ev1fQKEOaGE8/PeeM0RZO0nWqo1wzHEipSQvcFTiL8ZAXDAlzvkYbtXqz16UGr\n",
       "RY8CReIGqZkXlYg5j/y3GwRzPhkllusegfizzKM81pqHZjpeIhBJe9fULW0JHGZAPtQGrbSvYbm5\n",
       "SGhl8SQFWrRnAg0sL+3yObK+YbkAeWzCMbbnQ2vWazQ+jVMXAocZFiwXCWr8a1himZZJecSpC4F3\n",
       "ffy5eLn5+EItI8k0lnob7s/HBGeo2txEJk7qsekIxP6ozylyxdIb1sAyLbq5pd2SRrgjR+CiTYEy\n",
       "90iQe/qJ+sE87jbXlpHRmkluO1iTnpVIWGLyk0GedQT2/qgp0Ao+LrWn51imRZkO48/yj+6lsth4\n",
       "3hdtC5ScSAHS0613ywf5ZcQQJ79FW5+Yp3ukhoKsuTxGaEa1Bfb+KKcllkxb6NW6jAWoaE7viG9Q\n",
       "OQ8WbQs0ubpjfa7OH8OyDr2ht+kDvlSsJqAJUorDm1Nrcb8jsN1eFth83HLSwDItuhqSjhYToIpm\n",
       "sy/aFii3hQAeQACMdlMlfItVH/SBB9jq99CzpMYglS/sqSVyunmLUh2BzeMLgRVLzq05xTIvGlz4\n",
       "n3/16sIwteyLtgVKUwNuz2A1szoUYO92aZL+4cyMqqOJC5GLB5/N2yBpmVyVlxwRIpRBVKOOQOyP\n",
       "FhupjRO1ck9eFOWqFfKB8mAEFz0T6PsahZZX2bG+u0OJ+sczM6R2Ec4o8ZauFTiV0+ziroHfqJA1\n",
       "FfMe9QRifzQLcOGFRYaV1UJ9tih4AQsVZ6Za9EzgwE0EdDUCqLv5KI1H/ZMzM75TdDY2+FIVmsnH\n",
       "An1+Sc6yLrkSqOgptBfN2j59++hK1D85M4NvlkK5+VTgAktxNecLhcHKq0F/TOCFp+Z3Y+/WGaP+\n",
       "yTtwN0vp9GOBPpaEX8xJXqAw1VanPBtg5mVPYjIQ7ia7TPrHMzPyfzy48cXeUlVKL4yPQE7q3c2Z\n",
       "k/7xzMyYZw1qGlTs5bfkl4jgXbOs9UG4HPMMDK82M/ns+nochscY4G93ZaD+dZFkgFF3vQUt2WEs\n",
       "JN0/0w71ewlvnFE/WCiebFioeIgy/PF+WaPUr17fsJ9S1H1AuZcUw/dTkW/qN6ptpf5nRPXvNUwk\n",
       "t/RjsGU7hOadAlGhjz7bi/5FQ/y2Qc3ngT/jU+6nPjcRNPDwvzwcNfY3fN//trT0cIEGH+JXfqfE\n",
       "+B+Q/+pb/Azlf8ZhNgoq/GhWAAAAAElFTkSuQmCC\n",
       "\" style=\"display:inline;vertical-align:middle;\" /></a><br>"
      ],
      "text/plain": [
       "<IPython.core.display.HTML object>"
      ]
     },
     "metadata": {},
     "output_type": "display_data"
    }
   ],
   "source": [
    "real_power_of_quotient = Forall((a, b, c), Equals(Exp(frac(a, b), c), frac(Exp(a, c), Exp(b, c))),\n",
    "                                domains=(Complex, Complex, Real),\n",
    "                                conditions = [NotEquals(a, zero), NotEquals(b, zero)])"
   ]
  },
  {
   "cell_type": "code",
   "execution_count": 74,
   "metadata": {},
   "outputs": [
    {
     "data": {
      "text/html": [
       "<strong id=\"real_power_of_real_power\"><a class=\"ProveItLink\" href=\"proofs/real_power_of_real_power/thm_proof.ipynb\">real_power_of_real_power</a> (conjecture without proof):<br></strong> <a class=\"ProveItLink\" href=\"../__pv_it/theorems/04ee50a9bdaa9138547b743cee0f83a83a869f3d0/theorem_expr.ipynb\"><img src=\"data:image/png;base64,iVBORw0KGgoAAAANSUhEUgAAASIAAAAaCAMAAAAkPqHwAAAAOVBMVEX///8AAAAAAAAAAAAAAAAA\n",
       "AAAAAAAAAAAAAAAAAAAAAAAAAAAAAAAAAAAAAAAAAAAAAAAAAAAAAAACXHtMAAAAEnRSTlMAq1Rm\n",
       "mUTNIjK7EInv3Xbt5cmRiLwgAAAACXBIWXMAAA7EAAAOxAGVKw4bAAADx0lEQVRYw91YiXLdIAw0\n",
       "92XU1v//seU+DOb5Td4kdckkk2EkA4u00rJt/8mQXP2o/z81CJtOI/O1z0786UMRwhcb3+XXvjvx\n",
       "F88MLM3LAfpEOQCQ7qYNELifaNm/dX3D/x8aiqR/AHfzYPUGPsBYPpZlm9xvf7f4d67Wg4ZqBJMH\n",
       "ICTyobEZoSMhwiCeg7os0fIt6J2/Np0reHhoIT8uHgARNed8a6iExvvmIV929jYVOX+5i9ZVH+5b\n",
       "Ej2Km460e3oO+cMfM+YeCflyvHfjjX/ryknB3DEUfkL3c6TdDiTjWIPkS969Efdg3m8EWv/G1efc\n",
       "RtJ98CcEEdjERMNuJQXorl5QQkDfB7/xb1wh3MVu/djNEyBCvKekTSAD4lyaDbpP/zP/ZrAQtjRw\n",
       "t9LfetZl43q9FaWaOPEn8OyqjpMDGTOC2mZUBOf+XWbLAGT+cxXdiqIC9aBlsDWcIr64iZnFqjaY\n",
       "QMnGwBjYPG3TRuLUOwnHPy94tx268G+jLNYHH0BmKJESkFJuVivkkMbKnLVMNgDPbEZMEnVhoVax\n",
       "v6XGlg1WNkVfKsv0CJNmuPq7sTz3b0GMEGGYkDWlqe0yOlw/MSctUwzA/WxEj2G0slhAhERZZijc\n",
       "OYoSRLuqp2gJ5G4UXfh3USRTMctiRBsCRtQW1c0QyVpJlLVMMYgAgG7YJSqclUUHUVk0ns/Eremm\n",
       "UblINH0EIXWMmX2Pi678u4AUqSVKzZG2Ik7qcgQssJhomWoQ0kioCkhSOCuLDqKyKFV+/HK/JDVA\n",
       "9twgouSnIB4RxyrXb7E2OK+o6MJ/qGhe+KCcGlvUb6zsjWiiJ1qmGjgAqDLNppLCWVj0EJVFt0Zh\n",
       "RYj2c/bC3pV1jxR2/ETnKuW1MJv7t2jnjSFZUzwoN8LDjSq8ScnkRMtUg5BGhtWUSDyxsOghKouG\n",
       "i1WZAzxEB764VBlTSSMwUiA4qVV7V55d+Ldoo3Pg+S6BaL3Jeg+JrnOzkrRMY+ABYMyUWEvZu7Do\n",
       "IKqL+kT7/UeFRLug66Iw7ULDC/u5/o2fU333rMB8ZtVOUhgqAgXHh4KsZapBLOmBjINFVjhTi1kU\n",
       "lUUbUb15OcDQpdIni96Tfu5VRw9dJaMEgwkKR8lacFzK+PotfYHJWqYYMA7cbJpSniyywplaTCCq\n",
       "i3Y9vmsd6dj1FtJSlwz7yScLspIy2viIPyU1fmVww2LVF+HXD6EI96Q1+fQH373su99i+usWS4hu\n",
       "vDaUt7Qr8QkfROj9t2vyAYsVRPhOJcLf9yTxs6+MX7hqwr5rk5EL/wJwDyNso06O4wAAAABJRU5E\n",
       "rkJggg==\n",
       "\" style=\"display:inline;vertical-align:middle;\" /></a><br>"
      ],
      "text/plain": [
       "<IPython.core.display.HTML object>"
      ]
     },
     "metadata": {},
     "output_type": "display_data"
    }
   ],
   "source": [
    "real_power_of_real_power = Forall((a, b, c), Equals(Exp(Exp(a, b), c), Exp(a, Mult(b, c))),\n",
    "                             domains=(Complex, Real, Real),\n",
    "                             condition = NotEquals(a, zero))"
   ]
  },
  {
   "cell_type": "code",
   "execution_count": 75,
   "metadata": {},
   "outputs": [
    {
     "data": {
      "text/html": [
       "<strong id=\"negated_real_power_of_real_power\"><a class=\"ProveItLink\" href=\"proofs/negated_real_power_of_real_power/thm_proof.ipynb\">negated_real_power_of_real_power</a> (conjecture without proof):<br></strong> <a class=\"ProveItLink\" href=\"../__pv_it/theorems/6ed05888ee207ae73f075d4383e9d5a985c8d6fd0/theorem_expr.ipynb\"><img src=\"data:image/png;base64,iVBORw0KGgoAAAANSUhEUgAAAU4AAAAmCAMAAACcXYLYAAAAOVBMVEX///8AAAAAAAAAAAAAAAAA\n",
       "AAAAAAAAAAAAAAAAAAAAAAAAAAAAAAAAAAAAAAAAAAAAAAAAAAAAAAACXHtMAAAAEnRSTlMAq1Rm\n",
       "mUTNIjK7EInv3Xbt5cmRiLwgAAAACXBIWXMAAA7EAAAOxAGVKw4bAAAEhUlEQVRo3uVa2ZKsKBAV\n",
       "SGQ1Z4b//9gRVDaR6rKjbklcIrof7OwEj7mckzpNAy6gDzuQnvU07ALyuCPJZVg82fzEQ5FB0ZT2\n",
       "kYGg6JhwzuYbu1LRvIypfNoh0526y2PLWX0sl/mFf3hyRf/BWjrBST4VuJpc+efxknBiwMrpOjll\n",
       "5ae4BL/0nyiSMuPBSYp8ExXUiETXV+MyyPBuShT+C3cmtiBmx4PTsbwRlN0UV/KHazHjTdQWvpKC\n",
       "e5uKufBfuKOQsn09TiqglI2Q61no0Sq7FNtJKTbuBNaw1jeLAVe5f21ydzylywKxLPgqMEApZS5X\n",
       "do3SufXXraBJdaz1zix/77nl/0tJ7l/a3J1McMJ6IHmEp1AD5DrJIIQ6Bj3UNuQ/g3OV+EWw7JAl\n",
       "/5m7lOwTuqw1mRFovc3I3akQrqWN7TFx5tSzD6e7vXep/Sd3iBklXsOX7Q95HgDNySVA6OnAEuK9\n",
       "zafqKYAxvCtclKj8J3dKZIXdR6Rd/LJDsKasscNxYEEMiqqZm5sSpeWrIOsngp+VSB1OB6HfqT8r\n",
       "OaErQi7v1qWKdAQg951BVez+1dQJlmwl6Ju+gv1V5S3+4DA8kePXxUIFJD6zk3Cli5mBzB2G3LLo\n",
       "9T0TuqYxaM48KcG50H30EEJiqba8xTDbvrYz6WstX5UiH5jmxCMkEqW4D2fiuUKUUFG4HgboS7IR\n",
       "jXzoWKhewoWDYsHp9uhx6Zg7VQHXUvLS3UoZdz0V0D/IIxdyjmKjEQHI47mEsGKmEsbRAP2Yiulz\n",
       "ePYsOnASEbep2U0enTucVoWqVUUDvxWdbV9vVHbYm/qhZrVhaEQuLDSTPNfHh3BNyiOAhRpqcdyx\n",
       "KOGMm2ZlX4QCZumrZNehXjF3qi83aueFrzfgxJ1y7uRTL2LTcalhUVFOTnfhmnU0n8pCJfB2Ndux\n",
       "KOGMm0JQIf+sP2yfHC2sbkXpgsINArqx+/KU7I4mufD1Nu8QBzsGmDZhz+OxmWa6IYyTwQoWKKNO\n",
       "4vjaooIzbrrZsmwQZ7G+Yay5kEeVrmq5pApwi/a1ff2cZR25Q2SqR0gC0dgEK52k5LIhjJNBSGXD\n",
       "aVXTOhYVnHHTnMdtye5qpWbTncotnzVBIwVBWY+P7oRn09cb8xlePXxPu5jWkzQZRcC8ie3CNTPw\n",
       "YHEemcTRPq4tSjjTpj7Z//1PhWRvt6IpZ2nL9V2L5Rsa4/Texfoqxn12J1YvTKCqBrfJ1CFck8FG\n",
       "g3yjCQZRzbYsmtEZN80GMkEL8xMZhqxjs+uchK/MGk39EDkwioaF+ZJMjXdNW895pG+0h3CNBnzG\n",
       "2UwaYN4MopptWbTgTJsW2myl8aDPAzpdK+lWcH5nOKY6Ukgbn3VVCaLvGLQturyTvnr7oPNqqlV3\n",
       "YvHNgcLPptL6twYv4Hw91VJ5hos2+vgdNPm7I1X2a4M+nPR1P37w+y3zxRHn3QD6hQT89LIjflZj\n",
       "njrmxgHfC08f/DbhbwzOh36PuAbnPI255id+DyCsGBROP4F63pkG/bzTR8LzvkRXbBp3iad1I32w\n",
       "t/8B/aUolsAEficAAAAASUVORK5CYII=\n",
       "\" style=\"display:inline;vertical-align:middle;\" /></a><br>"
      ],
      "text/plain": [
       "<IPython.core.display.HTML object>"
      ]
     },
     "metadata": {},
     "output_type": "display_data"
    }
   ],
   "source": [
    "negated_real_power_of_real_power = Forall((a, b, c), Equals(Exp(Exp(a, b), Neg(c)), Exp(a, Neg(Mult(b, c)))),\n",
    "                                     domains=(Complex, Real, Real),\n",
    "                                     condition = NotEquals(a, zero))"
   ]
  },
  {
   "cell_type": "code",
   "execution_count": 76,
   "metadata": {},
   "outputs": [
    {
     "data": {
      "text/html": [
       "<strong id=\"real_power_of_negated_real_power\"><a class=\"ProveItLink\" href=\"proofs/real_power_of_negated_real_power/thm_proof.ipynb\">real_power_of_negated_real_power</a> (conjecture without proof):<br></strong> <a class=\"ProveItLink\" href=\"../__pv_it/theorems/758965f709ade0ade207c20bca757d3e57227b6e0/theorem_expr.ipynb\"><img src=\"data:image/png;base64,iVBORw0KGgoAAAANSUhEUgAAAU4AAAAmCAMAAACcXYLYAAAAOVBMVEX///8AAAAAAAAAAAAAAAAA\n",
       "AAAAAAAAAAAAAAAAAAAAAAAAAAAAAAAAAAAAAAAAAAAAAAAAAAAAAAACXHtMAAAAEnRSTlMAq1Rm\n",
       "mUTNIjK7EInv3Xbt5cmRiLwgAAAACXBIWXMAAA7EAAAOxAGVKw4bAAAEiElEQVRo3uVa25KcIBAV\n",
       "aORqJ/H/PzaACMgow8xuZqVC1e6D09XgsS/ntE7TgAvozQ6kZz0Nu4Dc7khyGRZPNt/xUGRQNKW9\n",
       "ZSAoOiacs/mJXak4vYy5fNoh052ufceWs/rOXOYXLuHOFb1jLb3BSb4xijW5csnTJbGKASvn2ptT\n",
       "Vn4jl+CXLjNFUmY8OMkh30QLd0SiSxODDN9NiYPLgzuTWhCz48G5srIRNLopOiaIrrLxHcKFO1Lw\n",
       "3qZiPrg8uKOQs90dJxdQykbI9SIgaSu7FIsMFbfbAhfW+s3856p0qU3pjud0WSCVBV8FBiilbC2V\n",
       "XY212pfY6tzWbLfqZvlrz630RUkqnc6ltKJwJzOc4A4k9/AUaoBcJwWE0Mwmj7sNxYCFdPxK342Q\n",
       "ZZeFu5zsE65FazIj0HpbkLt2IXR1jsUACQR79uH0bu9dapfZHWJBiV34sviQ5wHQnNYMCG0fWEK6\n",
       "0dnfoQDG8F3hokTlMrtToijsPiLt4pcdgjUVjR32AwtiULQokOnXKxe++CU4uiiROpwOQr9Tn5Wc\n",
       "0BQhl3e75oo0R2S57wyqxe5PRlCwFCujfekLrirv4YcVwxPZ/11ROAUkPbMH4UoXMwOZG+FxZtHq\n",
       "eyZ0TWPQPPKkDOdC4+ghhMTSkvm9dLPhy+hrLV+VIh+Y5oFHSCRKcR/OxHOFJKGScN0N0JdkI07y\n",
       "oWGhWgkXDooHThejZ83HjFQF1qdKXq69KdPwpTvyaA05R/GkEQHI/bmEsGKm0sLJAP2YiunH8GxZ\n",
       "NOAkIm1Ts5syOiOcVoWq1WKVvDc6O3y1KzvEpr6rWW0YGpG1hLvCJC/18S5ck8EGFmqoxXHD4ghn\n",
       "2rQo+yIUMEufJbsO9Yo1448ufbWzx1cbToyUM5JPvYhNx+WGRcVxchqFa9HRfCoLlcGLarZhcYQz\n",
       "bQpBhfxyfyxOjhZWt6J8QeEGAd3YPb2m6axToPT46uEdYmfHANMm7Hk6NtNMn2jhbODAAmUKqRXV\n",
       "7LVFBWfadLNlxSDOYn3DWNMfjyp1arlBFaCXA3b4arKsPXeIzPUISeAWm2Clk5Rc1mNEJ1yzQUhl\n",
       "w2lV0xoWFZxp05LHbcm+1krN5juVWwprgkYKgo3pxtJbDDt8teczvHr4nnYxrSdpCoqAZROLwrUw\n",
       "8GBxnpjE3j6uLY5w5k19sv/+o0Kyn7eiqWRpS+ddi+VDXPrhvYv1VYz77M6sXphAVQ1uk6lduGaD\n",
       "jQb5RhMMkpo9sziNzrRpMZAJWpg/kGEomjTrzEn41ODR1M+NA6NogsRVMjdel7ae80jfaHfhmgz4\n",
       "jLOZNMC8GSQ1e2ZxBmfe9KDNHI0H/Tig07WSfhqcH5uUqYYU0sZnXVV16CsG5xZN3kmfvX3QZTXV\n",
       "XUCpj41x1xfTgOuvGjyB8/lUS5UZLjre/eDH0OSvjlTZlw3acNLnLfjG77fMD444342ZL0jAf73s\n",
       "iJ/VmLuOuXHA98LT936O8N8H502/R3TBOU9jrvmO3wMIKwaF00+g7nemQT/v9JFwvy/RFZvGXeJu\n",
       "3Ujv7O0v4v4olsuZKXsAAAAASUVORK5CYII=\n",
       "\" style=\"display:inline;vertical-align:middle;\" /></a><br>"
      ],
      "text/plain": [
       "<IPython.core.display.HTML object>"
      ]
     },
     "metadata": {},
     "output_type": "display_data"
    }
   ],
   "source": [
    "real_power_of_negated_real_power = Forall((a, b, c), Equals(Exp(Exp(a, Neg(b)), c), Exp(a, Neg(Mult(b, c)))),\n",
    "                                          domains=(Complex, Real, Real),\n",
    "                                          condition = NotEquals(a, zero))"
   ]
  },
  {
   "cell_type": "code",
   "execution_count": 77,
   "metadata": {},
   "outputs": [
    {
     "data": {
      "text/html": [
       "<strong id=\"negated_real_power_of_negated_real_power\"><a class=\"ProveItLink\" href=\"proofs/negated_real_power_of_negated_real_power/thm_proof.ipynb\">negated_real_power_of_negated_real_power</a> (conjecture without proof):<br></strong> <a class=\"ProveItLink\" href=\"../__pv_it/theorems/6996a39106bd8027aaf04e1c4124372cd15e6ff30/theorem_expr.ipynb\"><img src=\"data:image/png;base64,iVBORw0KGgoAAAANSUhEUgAAATwAAAAaCAMAAAAdWRCrAAAAOVBMVEX///8AAAAAAAAAAAAAAAAA\n",
       "AAAAAAAAAAAAAAAAAAAAAAAAAAAAAAAAAAAAAAAAAAAAAAAAAAAAAAACXHtMAAAAEnRSTlMAq1Rm\n",
       "mUTNIjK7EInv3Xbt5cmRiLwgAAAACXBIWXMAAA7EAAAOxAGVKw4bAAAD0ElEQVRo3t1ZiXLkKAw1\n",
       "lwHJMLP+/49dc4MPTHfSm3idSirlFgKezqeepv/jo2b9S5X99MPEvQzBb9zwRBl/KHZ05OCL+sYd\n",
       "T5TJZzojzPkCnUhbrSVwLYOW2fGwTcrqpS+s/0WPZvEfS6+FrIHJOg8Vp3c0YlLL8I5ZWbPUODhJ\n",
       "iQf2AOxkujTFG4SZd1F7cim+xRyol8y1KQNslloHHM/pd5YPAI/jPnpTcOn0yJCleHCLGY6fipe2\n",
       "jMrU0iyFdVOsyKNy4BpPz7thsro7h7Bmx/qyvuYllbJ66cyyabZMSJ/QwK3xtP2UtSUklnxhgf2n\n",
       "szPAeC9TK6uWugieWLTh/ATHsyZmvP5pFbe28ZA2b3LGLIwbrFJWLbXefotxz4JPAI/MbeqbJEEr\n",
       "u20DkjdL041m4YOA++qh4T9FodvpXh9F69adhMvieu2dnd2EFDfVU4C+1axW5SFOf65iRXOSjXBg\n",
       "etTgzMncsdGZRK86oS8KiPYYDHM8pgkJGhbmr99lJMs7xr3XLEPtck6Hh/KtLNF6ewuabDagGvdM\n",
       "LwlYl0FRnoR9R0L34mWKLbw4SJnosbFl4Kt/if0a81Zk3GqGAB61J+WC89hGIniXYbhjelnAbj8T\n",
       "g6Pr9SQ64BGZtzk0FcnzIniLLre4zE1ved69ZrmqWGgTVQNkFmXdmQNToqaSiemV1t1DY4HvqWNP\n",
       "ogEvbxoui+FoULVXF2ELq6eZfdei5o2cN6BZRcsijc0eGBleQr4clVSeML0i4INS6ooHBf7Xk2jA\n",
       "y5tyTwH+bL8sNnRm32aQuE7bcEUaKjDttL3sneZ/QLOIxUQuJAXaFHivyKdmwOCE6RWBDRquUR+o\n",
       "Y0eiBS9vOlVkNIC37HOBXZr+w2FItzzIBwjdi/OHW80sHZmokko842VzYIJ0UkqoE6ZXBHxQoigB\n",
       "FvNRR6IFL2/qTa5TRnHgrfTC3CrEIhCLShLbY/lGvAPevWZO9s7qehsGMKlirlgwUvMVmV4l4KAR\n",
       "AmFHHTsSDXhlUxe2f//RPmwvCkZm5mZ0KiLNhzrVA3NZXPYRLk5LzyyRS18EwlAmMb0iEBoRXw68\n",
       "ROJ/pxJnnpc3rcYUk6NEglwGIRsdhPMPDdrg0D8LzqhF5mcsqhTDLQBd16Fc8UtMLwuI2c44Aedz\n",
       "lEj871TiBLyyacNztiaZH/v7nBz12GjkY7Mi1mN9gC5+dvmC3gkMSPT6PHo/3Ca0TY53if9TQ0rz\n",
       "qmIBX5fogjcw2clTUDnyLYL9FHavf4fBvkGiBx4dKYz0N4x/fnZy/AWPYOLnwQvZ+F9AiSQs5g7d\n",
       "PwAAAABJRU5ErkJggg==\n",
       "\" style=\"display:inline;vertical-align:middle;\" /></a><br>"
      ],
      "text/plain": [
       "<IPython.core.display.HTML object>"
      ]
     },
     "metadata": {},
     "output_type": "display_data"
    }
   ],
   "source": [
    "negated_real_power_of_negated_real_power = Forall((a, b, c), Equals(Exp(Exp(a, Neg(b)), Neg(c)), Exp(a, Mult(b, c))),\n",
    "                                                  domains=(Complex, Real, Real),\n",
    "                                                  condition = NotEquals(a, zero))"
   ]
  },
  {
   "cell_type": "code",
   "execution_count": 78,
   "metadata": {},
   "outputs": [
    {
     "data": {
      "text/html": [
       "<strong id=\"exp_factored_real\"><a class=\"ProveItLink\" href=\"proofs/exp_factored_real/thm_proof.ipynb\">exp_factored_real</a> (conjecture without proof):<br></strong> <a class=\"ProveItLink\" href=\"../__pv_it/theorems/8e3fc6e1af2232a6ed4b0b126bb3a1c374dbde400/theorem_expr.ipynb\"><img src=\"data:image/png;base64,iVBORw0KGgoAAAANSUhEUgAAAYMAAAAbBAMAAABsCP67AAAAMFBMVEX///8AAAAAAAAAAAAAAAAA\n",
       "AAAAAAAAAAAAAAAAAAAAAAAAAAAAAAAAAAAAAAAAAAAv3aB7AAAAD3RSTlMAq1RmmUTNIjK7EInv\n",
       "3XZ/CtNrAAAACXBIWXMAAA7EAAAOxAGVKw4bAAAEm0lEQVRYw81Yb2gURxR/udvL3e7l1sMPASvI\n",
       "gkI+FOUoNNAg8YIXMYToYbRQLXhiQWwhbD4GRa9YlNLQGypit0pcIQgaNYvSqvlQgyIqpZAPSkEJ\n",
       "bEix1agcghjyQZzZndk/c3Or0j+XgXs3N++93febfe/Nbw9gcYzU3vezT8/Dohkf0+/lAl28WNct\n",
       "WZXIl7QIEMTydHJHoFxV309FSUSQoMZDOMMS6fWMyeuUEsuaWZvTXH5kQyeZdTYewlG2qw/UPK+T\n",
       "c3RyPzUZ1lzQK2XIEMxEZMnSykYhSE564cZLvHI//ZaQUg5rClDBqEnoRHSTpT2NgiBZdNJSlrK8\n",
       "spfpaqr6FjzG2bQArvi6oUWxhEW3BFo0XvmS6XS+SF7ByDmA3WSORTNOprTWKAgVVsMZ85Oao2KB\n",
       "TpqLYIVVt1PzHQA9ZIpFHNdMc8Oq+ZkX7ya7pm9OsYJZ38l1q60fzeGwn5IpEb9PT//WMAitRAz+\n",
       "ekCkayqJdMnlfzGwO00qNgL8JDjA/x8IBv4kbsMptsvStDOcypZRWOeOz3WZJVilTMUgJLOCVvEP\n",
       "4qpp8G3cbz9nduHP+Rz0iS7TnBXolJsgsQQ7WKRCNtPBprX6l64BH8Jh2qtiD79oDSUrNSPjeplb\n",
       "QRxv46jO9bK/P/fwZzPAQxGETD6sGyeJJVUhw2p7vEhFzPaqOTVjFNU0XLE8CE3E/Ptlx8C20vsE\n",
       "Zs5m8CuI422nw0/2ICSs4FO4C8rLek8hqCOQoAW5kTsXKjNR8nhGAf9UVeiw04W+Qrd74uA7byTP\n",
       "3o5frDFzfz7mVxDH27rZCezZfxmAoLyGeBUEtYAhhHTuztuwzuvIOhOXyAXHOq+ASjgJjuRJ3tux\n",
       "yvMPYNZJX1sdpYwraEYcByC8QhPJ521TlKjJzB4usSiWYQgvcO9pE3UkJNCNa9Aa07mOBPsxZuWP\n",
       "1Cs463TjdHIk50F4Zv6pOBHZ1tAsZVxBM+I4H3JkEAhv6zHwyCVLlKjJzN5n0aSrj8DqfF7EpycF\n",
       "OtmO3WOltNYTTSRZ8vge/Y6jdAL5eXsU2hNOXHbPNca4gmbEsRpyZBB83pZAlKjJzB4+g0BrPz13\n",
       "ZEVZACGxINApK64O/k3nXZ5wmRSmfO14zzRVTW/xz4U70BXfaxg/4ET6WaOMK2hGHFF4hULweVss\n",
       "67j1GCfxI3Hs4Vuoy+BCZC567PaEk2K63GF+52ymmtjhHyZVuJGy3FrYNkEZV8gMOz7hHRHjbW4i\n",
       "pRAlajKz9xNJsiJC7I1G4DFVuht6pd+UTSelYYJmn2LBgzhyz27cVEdhzGFcAbMx4niId0Qcb5ui\n",
       "RE12b3TIhOdef56MiHE4GkI8y4Sbd+vXXIbkj3j26SNrdAO9/g34Bt9sCCdjYuArpVAa1gjjCpgN\n",
       "ayJHxPG245SoyexGeIWNpRExNkUT6IzORGCMGUYoN2Puw7hmHKMLGm+miRz5t48d4XMBXxHVvDsL\n",
       "M6UUCeGd3p238z3CfNuCEIKkc7xL8rcuFlUMH0a+s77TPxg5PvvgbQtCCDBR578jfv4e/yPhfTCZ\n",
       "+A+GXpMR3O9/975vAEradZ40gZJBAAAAAElFTkSuQmCC\n",
       "\" style=\"display:inline;vertical-align:middle;\" /></a><br>"
      ],
      "text/plain": [
       "<IPython.core.display.HTML object>"
      ]
     },
     "metadata": {},
     "output_type": "display_data"
    }
   ],
   "source": [
    "# if we don't know the exponents 'b' and 'c' are integers\n",
    "# we need to constraint the real base a > 0\n",
    "exp_factored_real = (\n",
    "    Forall(\n",
    "    (a, b, c, d),\n",
    "    Equals(\n",
    "        Exp(a, b),\n",
    "        Mult(Exp(a, c), Exp(a, d))),\n",
    "    domains=[RealPos, Real, Real, Real],\n",
    "    condition=Equals(b, Add(c, d))))"
   ]
  },
  {
   "cell_type": "code",
   "execution_count": 79,
   "metadata": {},
   "outputs": [
    {
     "data": {
      "text/html": [
       "<strong id=\"exp_factored_int\"><a class=\"ProveItLink\" href=\"proofs/exp_factored_int/thm_proof.ipynb\">exp_factored_int</a> (conjecture without proof):<br></strong> <a class=\"ProveItLink\" href=\"../__pv_it/theorems/4d04f8b910673291fdd001535a098a72e1dd8f2b0/theorem_expr.ipynb\"><img src=\"data:image/png;base64,iVBORw0KGgoAAAANSUhEUgAAAZcAAAAaCAMAAABM4eGNAAAAOVBMVEX///8AAAAAAAAAAAAAAAAA\n",
       "AAAAAAAAAAAAAAAAAAAAAAAAAAAAAAAAAAAAAAAAAAAAAAAAAAAAAAACXHtMAAAAEnRSTlMAq1Rm\n",
       "mUTNIjK7EInv3Xbt5cmRiLwgAAAACXBIWXMAAA7EAAAOxAGVKw4bAAAEnUlEQVRo3u1aB27dMAzV\n",
       "ljWstL7/YattWcvjJ0CLWmgCJv9RoUlx6LkAvOtsLUz86P5qW14nX1qYHn6E6pnexcU3+42kn8jr\n",
       "/tFClW/08kzv4jIuHXnKSS7eAPSXZFUd24yB8r6eK1EGm7mOwoZ5SAaeaPy/S+DqPK8SGHJfD4CV\n",
       "gkVPw7JyG/aQjmsKvRfgnoX4DYkvJLrjb8zu6wFiS5Kc1kBCXDrG8KdQeIHkVsX4GxPvq7rLu/ZC\n",
       "4H09oE/HAIcwsaHITRbCAt9+c1xb7U13njW6rwe2s5MuHUIYGQLCUsHyAotRUugNSejydYu39R6L\n",
       "B3qAuUhNZ2zt2wuWueztAo5RYm9IYpdvPE6MeaIHOMHYTAc5SjAyKkbApAYVBL26pdUbknCJTAeU\n",
       "Q2W4ua93QbGPoCnjgkD8xCDk3+We2Vx61VR0Vt97zhOxmlDtan9bnMhaLNjqDRWLAPQRaWCOAofp\n",
       "W/fZVsUIZPkJWrIIaqGI/Tc+SR1AxQm1kElBV77BKmXU2KhzVsRb0DGaBU9IjX0QLh+kqHdBcYTg\n",
       "aXKIgksV1TzDYqAQboxznUtx1ZBFCWCvRkDJTh2dAfh2AhGTIpBuxVTMGCwJpznoLaCt3hpQxBu4\n",
       "Xq/uUW+oKLdU6MYIehCQ6XR9QpaU6/ZjLE1NFmWADf6COAbDHXqAMLRPIOO4QJ7NyINoj8EizVET\n",
       "rQVMDs69FqWnbuTLUDEFbojgqYYkgWVOxtE1yj2swXsNtp8ZSSqyyODDQSQNKTQGZE5oskfpw2xU\n",
       "KM4qmC6LW0WXwVobjkq0rFR7Owj+lZv7GG+dcA/6S6p/Q8U9LQaIJR2zJCgUj02ga+wvpSh6o7J3\n",
       "zuzCSBbJ8uxhjpaaFBoDMic02aOMSzaKCLe+7BeOt4UVH4wKAOEBgLOGoxItK9VSwFAE56EwY6Gr\n",
       "LEjQu6A4RFTzmGN2YEHXuIeguIiLbciiJosKAJCmvDxFUmgCSJzQGHKISzYqmIOLW5w2YwYrNp+S\n",
       "oxItK0WbehlvEcK4mYdcfx2Sbh/niiME1rUAl4KucTHCLJw7FOqYoqgiiwqAdaiyTopkQiKF5gBf\n",
       "3MeQQ1yyUT5+IpVgB93QmMFCsDTHp5KOqVSwUosY3CIkNGrh0Fx+lZgO+bniCJGfoH6UQNdg651F\n",
       "gbK/UKrkkSwqABQt7gwnRKyNQ8DOCY33OPSCbJTz7a/fybdl349GHepY9HjJUYmWleq8ytKPXjo+\n",
       "19s7FK6FA11DHV2zXzPDnOz6vlQFWbQDlE9IukZAIoWGgJ0T6kE6+ZKNKlhW4KgRCiujOn2/5KhE\n",
       "y0p1GBbykPkgHzImRz55QNdwEbOMMsMUkIQwW+TRThZlAIbQ5qVw44gHJFJoCOj8kQLSxqXkkApW\n",
       "wt4riQRHo45lnNcclWh3FG13nr/JmhCX+rO4YFgL3egpVw+q1ETfChhAJvcX1CNORjx4e2ds95S9\n",
       "PwMfMuvwM0Z+5bVwubXJHwfM48JubUn4KedGei6QD6l1+REl/8H7ffzzgGlcEL23pTo7BQMGDT3s\n",
       "FOiDDvOv/H+Yb3mpLR9+jh+OVvj5SEbkQfgDqloxIpbr0ToAAAAASUVORK5CYII=\n",
       "\" style=\"display:inline;vertical-align:middle;\" /></a><br>"
      ],
      "text/plain": [
       "<IPython.core.display.HTML object>"
      ]
     },
     "metadata": {},
     "output_type": "display_data"
    }
   ],
   "source": [
    "# if we know the exponents are integers, we can relax\n",
    "# the constraint on the base 'a' to include neg reals\n",
    "exp_factored_int = Forall(\n",
    "    (a, b, c, d),\n",
    "    Equals(\n",
    "        Exp(a, b),\n",
    "        Mult(Exp(a, c), Exp(a, d))),\n",
    "    domains=[Real, Integer, Integer, Integer],\n",
    "    conditions=[NotEquals(a, zero), Equals(b, Add(c, d))])"
   ]
  },
  {
   "cell_type": "markdown",
   "metadata": {},
   "source": [
    "## Complex exponentiation"
   ]
  },
  {
   "cell_type": "markdown",
   "metadata": {},
   "source": [
    "***Note (to be added):***"
   ]
  },
  {
   "cell_type": "markdown",
   "metadata": {},
   "source": [
    "$e^{a + b i} = e^a \\cdot e^{bi}$"
   ]
  },
  {
   "cell_type": "markdown",
   "metadata": {},
   "source": [
    "$a^{b + i c}$ = $e^{ln(a) \\cdot (b + i c)}$ if $a \\in \\mathbb{R}^+$"
   ]
  },
  {
   "cell_type": "markdown",
   "metadata": {},
   "source": [
    "$(a + i b)^{c + i d} = (a^2 + b^2)^{(c + i d)/2} \\cdot e^{i (c + i d) arg(a + i b)}$"
   ]
  },
  {
   "cell_type": "markdown",
   "metadata": {},
   "source": [
    "## Exponentiation laws for complex  exponents and positive, real base\n",
    "\n",
    "### Use $a^{b + i c}$ = $e^{ln(a) \\cdot (b + i c)}$ if $a > 0$."
   ]
  },
  {
   "cell_type": "markdown",
   "metadata": {},
   "source": [
    "$a^b \\cdot a^c = e^{ln(a) b} \\cdot e^{ln(a) c} = e^{ln(a) (b + c)} = a^{b+c}$ if $a > 0$."
   ]
  },
  {
   "cell_type": "code",
   "execution_count": 80,
   "metadata": {},
   "outputs": [
    {
     "data": {
      "text/html": [
       "<strong id=\"product_of_complex_powers\"><a class=\"ProveItLink\" href=\"proofs/product_of_complex_powers/thm_proof.ipynb\">product_of_complex_powers</a> (conjecture without proof):<br></strong> <a class=\"ProveItLink\" href=\"../__pv_it/theorems/c647d12ff7f47d56ad1acfc42f0c3d58d43316e90/theorem_expr.ipynb\"><img src=\"data:image/png;base64,iVBORw0KGgoAAAANSUhEUgAAASEAAAAaBAMAAAAK+ffyAAAAMFBMVEX///8AAAAAAAAAAAAAAAAA\n",
       "AAAAAAAAAAAAAAAAAAAAAAAAAAAAAAAAAAAAAAAAAAAv3aB7AAAAD3RSTlMAq1RmmUTNIjK7EInv\n",
       "3XZ/CtNrAAAACXBIWXMAAA7EAAAOxAGVKw4bAAAEAUlEQVRIx7VXW2gTQRS9ZjdNspuuwY+KCiWg\n",
       "UESUgCgapSbYaotUgwURFayISP2QrfgjFq3gCywmaguulbpSEUvFBpVW+1FKRVREUFCESmGL4qM+\n",
       "KEIV/BDnzm72Mdm0CakDGXbunJm5c+fMPROAGS+nUwWA/Y3wf8oK8uMS+vestAuAzzVygb2XnzGH\n",
       "PDFSLTIawRYXhC9X4J5iFZgOVXC5SX5Cg9FI/pjPdA9WAlTmOLW/Y6rhkfhey4UqvFzCfUaMxnf1\n",
       "g7O3NNFKKtV1pDQixQyP3viHKCqEjYXFOeQbIlWz5d5KZ3ct3CJLh1yHBiJcg+4RnxJaKKoa7fuL\n",
       "84hHLm+ymBF3dj/GSvjjOjTYwodqlauKEgkmDNSJGSDUbJxsMtOagGFn929a73UfCsGwHqPZsoEq\n",
       "IScnhovzKEnm8JsxGOGYDe4DkZ6dWylVVxt3rSQBaYriCCFLiiT2d6Toy0zr5A+m+/DycVJ/c79r\n",
       "mzXDI9/6SlVHvRgdfV6kR2WYF/Hy+xZ80pyctwy7sy5b0+CxDL9NG6JqAK5kLyIW4pGCk+JR7ZID\n",
       "TgLbDEmaOOtGsbzCT+8TuKayuRpRTeALFZD13coepAGZRHgE/Et7h91wPMGMuh2BuqypEBVQRTt2\n",
       "aV/8oOWRpZpf4s4DkdrKMzGH10hRkuj4CSjNiJrwC5yGXtajLQDvsjxClEczie0fUxKSCP1p0yOq\n",
       "mufntUP3XFictsGEC7Kng41RMGVbF920G46zcvcMhMnsGCGqwRSTKtKUJIhqYlVdVXVGNXnCNBjQ\n",
       "gEvbYOIdgDWsR70arHPu2GZIyk4eCX+Bm8hOJIi6e4BUPZX9IKEyEY/GY2aMUDXf4/BVZKuyLocU\n",
       "1nWKXKTMNPMwmuR8e8NQ5pHtHtkM7F0TfpL7WcF6RFHNyMm3/t/QTfkh+jojpkdENQWkkueQMS+R\n",
       "QwqrsM+FSUQi2hbQPK8dV8JuWMsu3glLYzHWSFGz8GRiRHjrqUd8R8piNlFNL4aE69J3iHJIYdEo\n",
       "szEvueVC+YOmz4442AxxdvHrX8+UZz2lTFQwQVR3paIoYUkSt1r5iKgm16goF/2nWgwc6LCz2+1y\n",
       "mcjo6RRlb16JxET1yoGoeo7GSPLutE6cqKafEpowG1RdDikMmS24a797yaH9OVFBOVmvBlTKIxgw\n",
       "TldIU9WkGf3oRhC1HiqHFOa7L8OgmTXwfdQ69VpcKB+PLJR3/bJ74LtMvrZ9TN/YYCw0TFXzCB6Y\n",
       "0KfUQGsY5ZDCoKexzSLBHKTj1A+IUjkfj1hUj6I4EqtHD9VDpd0whF1hzDvbveT3gp4OtYNpe9Vc\n",
       "/0WQSEumfPjm9SicFhVhTzmv/2vuD181r+cxQf0DPBsQr/lfD0AAAAAASUVORK5CYII=\n",
       "\" style=\"display:inline;vertical-align:middle;\" /></a><br>"
      ],
      "text/plain": [
       "<IPython.core.display.HTML object>"
      ]
     },
     "metadata": {},
     "output_type": "display_data"
    }
   ],
   "source": [
    "product_of_complex_powers = Forall((a, b, c), Equals(Mult(Exp(a, b), Exp(a, c)), Exp(a, Add(b, c))),\n",
    "                                   domains=(RealPos, Complex, Complex))"
   ]
  },
  {
   "cell_type": "code",
   "execution_count": 81,
   "metadata": {},
   "outputs": [
    {
     "data": {
      "text/html": [
       "<strong id=\"products_of_complex_powers\"><a class=\"ProveItLink\" href=\"proofs/products_of_complex_powers/thm_proof.ipynb\">products_of_complex_powers</a> (conjecture without proof):<br></strong> <a class=\"ProveItLink\" href=\"../__pv_it/theorems/bccd67c0dc2a0ab585d368659da1164b98dbf4600/theorem_expr.ipynb\"><img src=\"data:image/png;base64,iVBORw0KGgoAAAANSUhEUgAAAqgAAAAaBAMAAACJC7M4AAAAMFBMVEX///8AAAAAAAAAAAAAAAAA\n",
       "AAAAAAAAAAAAAAAAAAAAAAAAAAAAAAAAAAAAAAAAAAAv3aB7AAAAD3RSTlMAq1RmmUTNIjK7EInv\n",
       "3XZ/CtNrAAAACXBIWXMAAA7EAAAOxAGVKw4bAAAGrklEQVRo3tVZbYgUZRz/38ysuzt7Oy59MEw4\n",
       "NiyOEGVjVfICO18uy7CWE3pTaPsk9qH2+hBcL7ZJVtKlWyk6GjaHIchFt1yhdh/kUsJCgisEwTiY\n",
       "I9M0lSMwpQ/W8zzzvMzM89zumLOg/w//3Wfm9//tzG+ft98MwJ0Z79UUB1Mbb6W6EVcj5si/Goq2\n",
       "idO3gZCLeEJXVFch5kS9H1HdPR2GcxlyC9TnCJk18Uu0i5hxO3ROrZslFO1VFeSHiFS+6v7pMJwr\n",
       "LbdAfY6SFe8gUQ/whGL7lXsUA/HGpBOJyletu9MMas6VllpBUX2/6pEVIYc/5jYXNRKupfEpTygu\n",
       "O2dlhHXG6o5E5a8+o4YIrrTUCorq/9Uznqg9+GNDc1Ej4VoZyTGWPHEXQ3+4W6YLern3bCnK/7OY\n",
       "f59UQzBXcg8TTjDLouJzAbIivIMvtdZc1Ei4VoZRZ8mbx5al5jvSVGnkxsyp5lyomn8fdqaZdo3c\n",
       "ZtTxHrc/s+0CY/ZaDCPOBciKMAN9ZPLNRY2Ea2XMLLGEYwqOQTYsx0xoz1dSY825ULW+vNgzD69X\n",
       "Mwrqn0Nc3mhOB5jlnorPLZy7sPcIIyuCXoiwDiFAJFwrY7vDEpm89JosatZZgu4zwvBH1doF+F4j\n",
       "nV89/AgXF1Uw45ZZhyGcxLkFtfbSPEaGVv+fJiZORln9o+BaGZdZSs4578K7VyAoat/RTZB6Eq2+\n",
       "jzWZmln1brNs4JFnyT2bc3FRBTNpnYCBCkriXLp6AJYzsiKB7okiahRcK2MWS+sr6X9oZxJnEyfg\n",
       "c9LMOG5DGl49rtWzOq70mmsmcPwc4BKiCmbFPhVfCsyD8QIlQ6L2QTKn/PlMUFQ1joE6FQT07rSK\n",
       "YsMiHelUayAUsmkyj4MxTnaSl0YE7ssCrCFfXvl3vJGmvNrMWaW285jmehjDubadzPs8lMescFQo\n",
       "BuF36KhQMiRq2smEZqG3nijp3wXKsagh3PxDy14WrHop5KcvLDvvGsxdBt2xtaNjk+QOJYIgB4oX\n",
       "aTKmIOv3qObfOD8F8Ku/drgs64mB4Wo0H1wNA8NcN7Pvu+qJqrn+9Sc1aZe03CislkT14TDIysDh\n",
       "OgcN+vz0ttk74eDd8EA9Ufe6hHDHuND8uKLthXWhqxkM2vkQB45TNLXXYDjQC8iJH8EMiJNVuAAM\n",
       "lKpDdSqumwiTigrlpb6jK9EuQ1tqQF0S1YfDIMuCLpeDeoSfNvB8PuqCXoeXSLsk3DEuzHwF8DDZ\n",
       "ofmjJ2DIwxz+njrswiPyzdwAfSrKXcvVyeuhOTUyl6qn0uEPI+i69RXbJq0lVbDwPkvb/Ixbz6xc\n",
       "s7InICrGwdDSwx4IiXqxm4PGhZ/+DV/XQ0jJCox4czh3x6Rw/xb029KWdzxgyMMcAVHzMEuaps2/\n",
       "oK3cGUVUqTp17f9yqZ4YXKOivonG5/71hfaclYODZGWpjt6v6KkYZ55GZQRkZZL7CgyULHM/beKZ\n",
       "UXuVXPd9OL0m3DEp7OwE39Mm9g+X/YZc4sAxm6a0q50ypLvZB/O7pRGPJ1Yyk4oZVq6mq38zrmjB\n",
       "Vn9oQ8Pu9XMws4o84FpPVMOqyaJinNGNbAUBWcbeGl+oEjXuxhO4N+r7Sc98jibmnElhVxer8F9M\n",
       "zW/IJQ4cl2gyO470/SHdzeCf73dITwPJxHoqMMPK1fpYJK5ooY/5H/11wABk87DYtu28VjXrZVlU\n",
       "4ohLqDsTkGVlermoWo67cX2jbX+S2kIuaitO9wpPTgo/eJaMk6ColIBdWpgDxwsOSzE/U8jFTVYU\n",
       "jxguwNsp+NDrqdDrSvtUb0BV0l0OAVlWYp3DQFgi6sZTZLlGiww43tDdKpwzKcQLlRke/pSAGnKJ\n",
       "w/s/WYo3pvH+t0DGRE1Oob66xECbUW/PaOXUD6nbK9vXOgSEtlSjVJghss4wN05s1xurIOPCFWyQ\n",
       "s8I5k8LkNxU4Cpbr2WeaKAEz5AEO5VOq+GLYiZuMiZrIwQbouwjJ3ajx0Qb6TFoWNbFiwdce6Olz\n",
       "9S8e9Q4O5GEXcDfej0etechGu6JdkDoG6Qp3zqQQhjbuqOKjA3nmoQUBNeQBDtaZx1iKNx6MnUx6\n",
       "nTJk2yW1928AyrO9PBbV/NbeKRZxDej2nThnUXiQlEkE1JAHOWjcxVOscTp2sljeUSUcMCqSGwdy\n",
       "8HmAVSpPvoqUhQm4IQ9w0Ai8o4otdDd2slhExc96RhXH8dvkAu6jipKSV9aYAPgbabJ+1lmKM/rj\n",
       "J4sqatP3/qbimBP6bAg31bxOWOBFMYu6Om4ya+L4f/nFMP6Wr898AAAAAElFTkSuQmCC\n",
       "\" style=\"display:inline;vertical-align:middle;\" /></a><br>"
      ],
      "text/plain": [
       "<IPython.core.display.HTML object>"
      ]
     },
     "metadata": {},
     "output_type": "display_data"
    }
   ],
   "source": [
    "products_of_complex_powers = Forall(m, Forall((a, b_1_to_m), Equals(prod_a_raise_bi__1_to_m, Exp(a, Add(b_1_to_m))),\n",
    "                                           domains=(RealPos, Complex)),\n",
    "                                 domain=NaturalPos)"
   ]
  },
  {
   "cell_type": "code",
   "execution_count": 82,
   "metadata": {},
   "outputs": [
    {
     "data": {
      "text/html": [
       "<strong id=\"quotient_of_complex_powers\"><a class=\"ProveItLink\" href=\"proofs/quotient_of_complex_powers/thm_proof.ipynb\">quotient_of_complex_powers</a> (conjecture without proof):<br></strong> <a class=\"ProveItLink\" href=\"../__pv_it/theorems/34b8374b1e47af82356850070889d46b644a3a7b0/theorem_expr.ipynb\"><img src=\"data:image/png;base64,iVBORw0KGgoAAAANSUhEUgAAAPsAAAAzBAMAAACj52NMAAAAMFBMVEX///8AAAAAAAAAAAAAAAAA\n",
       "AAAAAAAAAAAAAAAAAAAAAAAAAAAAAAAAAAAAAAAAAAAv3aB7AAAAD3RSTlMAq1RmmUTNIjK7EInv\n",
       "3XZ/CtNrAAAACXBIWXMAAA7EAAAOxAGVKw4bAAAEN0lEQVRYw8VZXUgUURQ+6+zP7Mw661v0gy30\n",
       "IEHWPkkZ6IpWvlhLQUQ9ZE9hQYy9RSIG2Q9JWim02c9EEYiRS4VRD2a+VETQf2AYK0ZRkYklig/W\n",
       "vXdm7ozrjnvHvdF52Lm7e+799t773fOdcxeAt4l18D/svNlYyuTepXFF90TN1hO2RRrkCk/nLM4M\n",
       "M02smCe6UGu2lEElxtJDLuAI36CarWDU+inz2muO8B9pK9TkZZvXKn7kE/ppMwyhCFMff4wbfChJ\n",
       "HvV9jZCvrWPr45vkBv+TLKTvMVzRxM0pxk57uMG/JK83o1DjotMaXpsvTpHHFoAPLnr1pDjBe3Tm\n",
       "PQVpwkWv4AtezCNHTZoBYcyFFgm8uNdKAr40Dp7aIoa4bJj0ixfx9Zh3GYpj8xzmOVr0iBP8Rf1x\n",
       "9fvxwibnxbe0SB4hrLsEQHZtRY7wT1mcbFr0ViRcfQiwAT/35oYu/WYiOtUib5tEFqk8DkfQI9CW\n",
       "47GfYToeSItOJpCpobjB2BT40X7Ikdzg88ZZvCwtChvq3BMDAZ0Zf656N8XiZWmRPw5EosKIeM+H\n",
       "hp7lCK9kjR9YCi0tClSWkTMQRpteDXAhR3h5OtOnNUPYXlIpzMAGRMV6CGTITmQ38N7pLA4OUpiP\n",
       "gn5Qk+P2BLS34gAeUX93jJ6JrxVfZgmU0l7YSBVnLAu8gxTmo9Ofl6LME4cTcUWGe0kK78EUOb24\n",
       "A7oWwcqkzU06o+Z1psGH/5g2NicsZZRCDA+1ZebbKhQMFAVKUxQ+hD7xInbAgxQISZubfAtg/fyL\n",
       "b+29kxTixYfb+9BLd9k9ULBuIfhvMbmqpoqEw9bRJTCCB1iLNkjVozVxu9aMCEyJkoX5TlKIqQcN\n",
       "iHnSe3ESusieyoHLUTr7H9onCW9/3kGVRmviVmQfTcl27h2kkKQJHrzAMSQC28hQ3s42i3rnoMSH\n",
       "Jytc02i0Jm6lpW7CjoMUhs2fFIorBVCC4nFEUeStFvwTqBDqEomzYnOT4Qe624kd9qA7sbB40WOy\n",
       "qUcNlmqnyOwV3y6NnvsxGBCJD6IeaHq0Jm6YehI9MQtMW1rNoxxSW7dpQY3sPTww1kRKwqDQpsfE\n",
       "w5tATnWTaE3cAndV6KPjzBJcI5dgybRNqfNVrr4DAXxDsP1z8vpGY1IDcHQU4BBed6k3UQ0tERyt\n",
       "iRt017Vbu/nOPqiRS7DnaKZ1JxLxWUKqL8L9RIfxQSSjG8AyewQ2cgkGWz7/1zvTqzKnsqTc9kUo\n",
       "zitHi6bruiOHIpauhlVW9MAM8DG9zNB11cwlGLIUXmWGt9/SVTOXYCjNeBVZvomFlJhhXiUmvFlI\n",
       "iVnO7XaFjJSlxHS4FOB2uZKtxPx3lyvCNEOJmV71cLzY25+9xEy33fwu1qBFdd3lFcdrRcV1mcj1\n",
       "UpXxGt1m23mig99lmSru4wpv/Z3AZjcI8f4CqiApuoXhDioAAAAASUVORK5CYII=\n",
       "\" style=\"display:inline;vertical-align:middle;\" /></a><br>"
      ],
      "text/plain": [
       "<IPython.core.display.HTML object>"
      ]
     },
     "metadata": {},
     "output_type": "display_data"
    }
   ],
   "source": [
    "quotient_of_complex_powers = Forall((a, b, c), Equals(frac(Exp(a, b), Exp(a, c)), Exp(a, subtract(b, c))),\n",
    "                                    domains=(RealPos, Complex, Complex))"
   ]
  },
  {
   "cell_type": "markdown",
   "metadata": {},
   "source": [
    "$(a \\cdot b)^c = e^{ln(a \\cdot b) c} = e^{(ln(a) + ln(b)) c} = e^{ln(a) c} e^{ln(b) c} = a^c \\cdot b^c$ if $a > 0$ and $b > 0$."
   ]
  },
  {
   "cell_type": "code",
   "execution_count": 83,
   "metadata": {},
   "outputs": [
    {
     "data": {
      "text/html": [
       "<strong id=\"complex_power_of_product\"><a class=\"ProveItLink\" href=\"proofs/complex_power_of_product/thm_proof.ipynb\">complex_power_of_product</a> (conjecture without proof):<br></strong> <a class=\"ProveItLink\" href=\"../__pv_it/theorems/12fc088e202f050a39a132c6717dd351d11be96f0/theorem_expr.ipynb\"><img src=\"data:image/png;base64,iVBORw0KGgoAAAANSUhEUgAAAToAAAAZBAMAAABTI/9DAAAAMFBMVEX///8AAAAAAAAAAAAAAAAA\n",
       "AAAAAAAAAAAAAAAAAAAAAAAAAAAAAAAAAAAAAAAAAAAv3aB7AAAAD3RSTlMAq1RmmUTNIjK7EInv\n",
       "3XZ/CtNrAAAACXBIWXMAAA7EAAAOxAGVKw4bAAAEQUlEQVRIx81Xf2gcRRR+uZ+53cvmUChoISwI\n",
       "5g8be6AEGiFeyVksUnpYFNFAT1qRVigb8J+glAj+Aqs5NaWulbjFIIZIb6PR2oKhVMRaaTlKQosh\n",
       "sDWiUjGEglYiiO/NzM7u3s0dgkftg2935t17u9/OfPNmDuDGmL7iwc1ri52n/2cGaQGFO1HRxhp+\n",
       "sMR9fjDqx36TR/0X+0GgzpI4p9lSo98w+b2rdCjipz7lEHLkuKMd5GIuR9imz+NlBaDbaoy/S9y3\n",
       "w0e+S3uvJvorPO8B8j7dDnYfCkRsLyLlQKoEdbxBK4vG1yFnqiD6mEN4gWa40g52QwIRu4aIFyA9\n",
       "NOjU/ZLIi8b1kLPbFH3MIRBJ3WwHu9MCEc2t0/WcKjzrN54CXTp3O37/HEMcPyHVFtmVOaJlrkbX\n",
       "Par4O/3Gs/dclc4vZX8Px/nl5e/awS7hcsDI/MFARz1XcF5mVfEPkaQ2/hwt0k+u3iJasxwPAryr\n",
       "qO1qCm5zdqk8R/IbeF9qrLpfQxn1yy9YZpbzB3TYyqxHVsofTlWs7n6OEUjnFCOhplBozq7L5Pg4\n",
       "Dzukc7MDFwA2qeIvIpmvIFGLqGMdsmIwN3FkHD1cKvs+33ogYPeyWM2xpb0bPAU7Y6LHn0YquISd\n",
       "AEtsGMi5DeAvgHEVOywciTXocuWw0VvL0C0c4xwxTy6Kzit2ydDhhCvZdVDsG7cdBs/Vn4uyo2Dt\n",
       "TSt2tI7dt6D9Tv0FuixBEmvKcBN22QpU5chQPHLdLerHsEBZbnNF3AsNAwY8vbijyMp0Fj0JVCZ4\n",
       "Xvw4zBUXiqVwsH4c4L7ozGp/Q3wtVO4SKKw+le5wZqse3B9hjOVup9Bsn8An+/EyM3gCDKqPyO5q\n",
       "QY7d+OrtbFNBdsZUMHZ4HmLBH7wUbNYZj0G7Bh3lXv91f5IMYYtq7CaRnQkbYuE9rnsMpchti8Dz\n",
       "+Cnapc7rMM2UpKcn85Ldb86PGpOe546uBOzwPMSCe3tDqzzHMQl9BSmAW2FCFI8Gm6WPiS1Ell9H\n",
       "PlMIFRxCB81eAc9fuxi7xNFKsCrehv4k23G87SeDNUvnIRY8MBDSYY3j2K+v9MjT0rE5yl5UsXsd\n",
       "x6Tni5FfIhVlo9wKF0N52ZKRg37btk3D0B8O6t1Z2BrfZ9tv4cx+Zsp6R+Jnwa8+Fnr0ZYHGA15N\n",
       "WYHGWp4Va6G8qpUZcF5jY2cknwg27DU40+ly3T1yKpAHaoUF06rQfO+9Ao21M6/yxgstd558KC9r\n",
       "je9yMg7THZwSeZoL38crfCfBijIlYmfYeYgFp+csmPcfmLE4GmxUTeBIK3aj4bzk0N2fQvodbD36\n",
       "kzu1TSjpDLy4ikE4BckDz2hFscUfMuk8xIJhZt+EnCBaPlrl39OYbsXuSGPejG1HTtgx/taT9uFI\n",
       "mKkMBjgoUL+fWE2k1eJfGuU0y/PtcaU36dwcf/OUaob4jSPwD4qzI5fxanhnAAAAAElFTkSuQmCC\n",
       "\" style=\"display:inline;vertical-align:middle;\" /></a><br>"
      ],
      "text/plain": [
       "<IPython.core.display.HTML object>"
      ]
     },
     "metadata": {},
     "output_type": "display_data"
    }
   ],
   "source": [
    "complex_power_of_product = Forall((a, b, c), Equals(Exp(Mult(a, b), c), Mult(Exp(a, c), Exp(b, c))),\n",
    "                                  domains=(RealPos, RealPos, Complex))"
   ]
  },
  {
   "cell_type": "code",
   "execution_count": 84,
   "metadata": {},
   "outputs": [
    {
     "data": {
      "text/html": [
       "<strong id=\"complex_power_of_products\"><a class=\"ProveItLink\" href=\"proofs/complex_power_of_products/thm_proof.ipynb\">complex_power_of_products</a> (conjecture without proof):<br></strong> <a class=\"ProveItLink\" href=\"../__pv_it/theorems/90968de5d280d07390be37796acd73e0b85011fc0/theorem_expr.ipynb\"><img src=\"data:image/png;base64,iVBORw0KGgoAAAANSUhEUgAAAy8AAAAmBAMAAAA/5LlWAAAAMFBMVEX///8AAAAAAAAAAAAAAAAA\n",
       "AAAAAAAAAAAAAAAAAAAAAAAAAAAAAAAAAAAAAAAAAAAv3aB7AAAAD3RSTlMAq1RmmUTNIjK7EInv\n",
       "3XZ/CtNrAAAACXBIWXMAAA7EAAAOxAGVKw4bAAAI0klEQVRo3tVba4gcRRCu7ONmd3Zvbn8FNBBW\n",
       "jOZHPF1fgZwSN+YuqPGxGN8JuBAhREE3f8TzkVvFJ565UxPiKsQNiYKe8TY+oh4knNGQqIhBTpRI\n",
       "YKPiKxpDJAYUPburZ7qne3pu5mAzZPtHHTv9TVV3f91V1bV7ACHaeZN/winXEvkIjFwe2XRerQuZ\n",
       "mJysh3rpDDgF26IoyM9FNp3UASEBsu1LTLwcgZH5EU7ofJdsZ2IG6xHs4k8jnFA6L2Q7E3NXizlY\n",
       "rXnY0dBBHx+erp5Qxk3cBUy2MTGxv1uscJYu6dEuz4zGdPWEM77IFTrbl5jORosV7tM8+1aLzFan\n",
       "qyec8YGKkO1LzFCLQ0zqv0MejSn9qRw6cvr09IQ0nsa9xmT7EnMaSqMluqgW64BV9PgsFkwqMhJ+\n",
       "r//gAlWC9XitaY3HxzHbHG9vYtiN97uW6Eo2yUYtePPvrgKVVl5GwvPuLFrt1emR23d+xo1jSNQx\n",
       "mxi8Qp0ZSEwYWIQtdQIzgBYFmu9p4PBeJofwNMxTkCQguO6280LokbOWhq/xCfw8YRPTR/+uCiQm\n",
       "DCzK6+VRLGC0SFtHHbogm1cfX4b5a1lBwlHYzT97enV65NKLv/El+HmJTczD9PgMBxITBhZhm4EL\n",
       "srhVNBehs77A83gmVmUKChIOxMU6eHp1eqS22N/4H8AlIYbugUw+kJgwsAhbFv3FeKvUfQqpa5ue\n",
       "px+iJRUJjx5xjSOMHqmN+xs/r8olISZOOO8IDv5hYBG2LuqpY+VWqVupffoPFWdPiTw7jB4pxJT9\n",
       "jQ/luaRZ2ecHD34WIisLAYuSGOpCEpSdNbvWKvnnrJ+awQrk17b7Z35LZZUKcupeTdOMmb80WuCS\n",
       "EnMFwIshiAkBi7AN0G3VQaaQ3Asvyzn/iko6uFyjvMbz38RBbDmRuK6UVc737nb/Xl2eUfA33tXk\n",
       "khKzBgx9gpeRiLFhc/2h9rbRI6AhEKLN9Z2AFu7KZCkxnUS8UYBrpB7zI0jsD1wf5bVztCk5EvOl\n",
       "rFJBTt2rKyXl/Y2jf2aSEpOuZ0ryyw8tLcVJ4EtIxDBYXIF271h0N9hQhlcRsW/vmElXuAhujaDF\n",
       "6uCiXGutn809wO30zSwR12FFawt6bvMv+tJRWkcb2Y5lk1FNFMJn18mFsCHtqTpO5R5HpTlfQqIx\n",
       "0csMDklG5MZeEGP2Gu8qckmJiTXdQT11qFaK5cbgKpUYBtusQK0MvNewoUkk3I2AdadtgGYj84C9\n",
       "0knlcrVZGbsWPss2ZT5bib0knRg6yU/APA6pI/v53Sw7DKMl8jruyU5NeQSf4Wsu9+d/YvY4Ktf9\n",
       "LiMnpF5mcIVkRGkT4B6zxrhCDJQXulC9JFmLLUxAQyWGwfoUqGVBT9OB3gkKInEFdUjN+Jv2SjOE\n",
       "aH1KYNTC99mmMuTxJaorM//Du2ZMOK/RJr0YHoeB6hQOxX5NHHxdjOGujKlkoG6PK3Mb7A7jynyN\n",
       "KzEG3iLzjy9ed8haUAWLpgSxR24m+7b3mt4+NzEUBmQBRha+xzwLhRJifi060LeAIcy3D1d4AYOs\n",
       "tLUV3umd6C3ZCNHcWD84rbyiqS2PuQqAA/RJugnmMXLXnCsRk4eZsUpPADH4mjNpAO2l0MCsbJOj\n",
       "ki2ggtwkG1wQSAwfs8Y4q811OVkZPEj2x5YVhWzOysFr6OerY2d5TwyFGWUwv2Z1Kga1MsamggOd\n",
       "A4iAbRVWZTLxhtxs9H/vHIE58sxdWF84rbyiqbnuTGGUbqtMjq5Md7HoJibdjE3Q4eyUnTt1+szL\n",
       "2wtKXnMmzbJe3bFiyaytshu8yO2ywaXeqKIY5mPWGMdUk0kkZgah7f4foatKcuxljJiENewhhsKS\n",
       "w5AopsbBIJkzQq3ES8M8qt8KiIBeGITkuX2QxB3QvPIDcFb6Vjm62ljnoxZOK69oqqfHffOn/SlC\n",
       "x+bDT8yuuokxZ7+/5mfxcxPHuaPTnxDRjb7mTBrgK+3u/piKZ7hKJEZBPiMb/MobVRTDfMwa40Ml\n",
       "LkXZfzZZIOL/5tdqtXysajbKHmKQshyJXoTmR8goEGpZmes5MU8xBImIhyALoxBfXas9R3zTu3ln\n",
       "pZ+SMzAb6+RoWjitvKKpJ29xXwfwdH3DNXkS5P56iNuQPWkw9Pk15oOdVXcsUJGilxo0gvN0MWav\n",
       "cfZNNkpBzD74BQZS8DQ7MXB9U73HML5JBlJJ99SBEINQy0ourzvQOQxhnoDnXzeI2VSDBY0bx+yL\n",
       "ieLKHGz88gv75lV94LTyiqZo8Dd5kMaS00W+xBhFoxK8SPaklVIkb1c7ZUtBjIrkvWjQR4/ULvI3\n",
       "vlNIToxxlDC4IEFuK+x6YeXUm78TrrOVoWVIDEJJujzGR34ERjCg700dJ25ng10qIHnEVoEwScrP\n",
       "hMDGfoE99GsKDXwEK69oyninArv4guBdO13xI6b/yUeDj4wzaejX91+GKja6ifEgN7oN9oc4pc6Y\n",
       "NcafFZITk8zBKljzKxgvUMe5yv5izEvMRkguPvdtoMQg9KYfG1uXiM7BPB3pDRccLkCCHPJ+Gpbu\n",
       "vsvsLXNEajcMVlJ7iXBhXzDL9AevGvhgnlZe0RSMrF5fdaVVPF0gQ9nxj1Il+GJyMniNnEmLtVeu\n",
       "onme5JD2wD27NMjX3AY3hiDGGbPG+J9Cer9aHqnVStpaGWvL7b8HNFBqMs8RYxZ58kFtg4qI8U8C\n",
       "uz/W6Izr4XmfUa1HubYlhTfLx+ul0RcYzamQU/fq2lo/48kTQk77O/8EU7PuM81XM6QvWXcQHZP/\n",
       "ahFwGx8Hx5o5qzTjJz+F+nZpBJXS+DhE2TJlIaf/Y4wxf9TFZCqBCOChLgArFOrdTOnkr5RUODn5\n",
       "jX0nbctpE2P6o+phEaG06eCe7XWS245IifnNJdv4t8v7otjD1ShntNsl25iYKP5DIl6OcEJWWch2\n",
       "JqajEIGRlRFO6MGKkO1MjPl1BEa2VaKbz5dChibmlPwfzHvrJ9+GcWdk00kXhAz9P5inZDOiiMz3\n",
       "RTadV1yStv8Bf/Xz0pyG+r4AAAAASUVORK5CYII=\n",
       "\" style=\"display:inline;vertical-align:middle;\" /></a><br>"
      ],
      "text/plain": [
       "<IPython.core.display.HTML object>"
      ]
     },
     "metadata": {},
     "output_type": "display_data"
    }
   ],
   "source": [
    "complex_power_of_products = Forall(m, Forall((a_1_to_m, b), Equals(Exp(Mult(a_1_to_m), b), \n",
    "                                                                   prod_ai_raise_b__1_to_m),\n",
    "                                             domains=(RealPos, Complex)),\n",
    "                                   domain=NaturalPos)"
   ]
  },
  {
   "cell_type": "code",
   "execution_count": 85,
   "metadata": {},
   "outputs": [
    {
     "data": {
      "text/html": [
       "<strong id=\"complex_power_of_quotient\"><a class=\"ProveItLink\" href=\"proofs/complex_power_of_quotient/thm_proof.ipynb\">complex_power_of_quotient</a> (conjecture without proof):<br></strong> <a class=\"ProveItLink\" href=\"../__pv_it/theorems/6056754fdc287769b7491ac12ce484844c27fb6b0/theorem_expr.ipynb\"><img src=\"data:image/png;base64,iVBORw0KGgoAAAANSUhEUgAAAREAAAAyBAMAAACJ9fKRAAAAMFBMVEX///8AAAAAAAAAAAAAAAAA\n",
       "AAAAAAAAAAAAAAAAAAAAAAAAAAAAAAAAAAAAAAAAAAAv3aB7AAAAD3RSTlMAq1RmmUTNIjK7EInv\n",
       "3XZ/CtNrAAAACXBIWXMAAA7EAAAOxAGVKw4bAAAFW0lEQVRYw7VZb2gcRRR/d7v3b/ayFxQqNRIP\n",
       "/CCCsQdCkCLJhZy1/VB6WOwHFe4KldIEykVEKC32BP98MHpHteDZWrcYxNDqLVpTG7DGFGmLVKJG\n",
       "Cw2RLZFWK8YjpiZUSJ2Znf132Y17x9yD25l5t7vzuze/9+a9OQC+8k4Tz4wqwF8CqQYfONsDEL3S\n",
       "AiQdDd7flh3G1y7+QIR8gw9sgY/wVWrnjuRAYY1FcJNv9OZH7kh+WXMRXGRJbx7kzVlhgnXEJOug\n",
       "AdsiuMizIJEmnOaMJK6yTh/+DJ19EV/fUGyL4JBIx3UNnn/4BumHljgj+UuxiBs6D+/jodBuWwSH\n",
       "PFOI3TIHOzkj+Z61wxjCyRRsJf1DtkWwCzoH4pQ52sCXKNFl1hnEn20AM6R/kszBFsEuYg3aVHNU\n",
       "1fgGWEbYILH6RUA36YwesSJehmrWHMWm+BKWTUp+K1oBoUaJ6UFGbIVem9fxpWyJbTolvCBoAQL5\n",
       "+8noiAeSJKwLmoEQ/c3XddiL15PLMehK0yjxqPvNMS04LVrDr7kiOcpa+vuO//FaZ5F0DiZdb0ad\n",
       "Xwz9Zg3fA6Brex8XJBeZCznXvM1X/PwK4DHS7uYBBC0y9tWc7uprf+7NwkuE32Uu4WSFObNzarnm\n",
       "i+0ahDHRpSQPJMEFpzMb6mU/D1fTIGDXC/PZidmUCdVpqgU/Dycw/Euzs99yQSIzpiacuay/UJHA\n",
       "BNkM8C4XJBLbWuvddsUi7ywVt/gfx+QagojLV5L7bOoaSESGpFSH5F9fqTXeeGKKlLWpusb69pLX\n",
       "6qNXmVcFZ3atI9vlqtjwe991YxsNMCfJkdclbhOh40XXqW+boiPBu2dQMwkbvVrJyhKcVk0kAWKE\n",
       "N9cfBk2V9tchIerRu+ABtQ5JvU0WfdmE7ON5M+/O4PAsy7BRM5HEsUbETAJNEz5xIqHqcQ0E9X9W\n",
       "xxdPyOrApyTrPdFzGmRCeozkRlrKbM3Q4FuavxvmgCKRR+BUZjqTNaoGokaP4KGxoUrMdw7W1YG+\n",
       "fIcwFg5gjOgy3i1GqS9KkWMp0yZ/Kr8iShVN3Tdn2QRXDVQdfM5W4MjLrvlXxFc8oeEwQFYgHZ2A\n",
       "7fR94pGyxdi3oDtEf6K25QxYSHDVQNXCB8rqyBZ30jp601c8MR6KZ+V26K5UKklZlp6wkFyAPmFP\n",
       "pXIIr87nSQsJrhqoOvpK0RbW2ZRhakR0dMqWS7qdEFxyRHuDbdVCbKPyOrWJHHpaMeNJDSajqs6T\n",
       "J8eteIIZoasxY8EwS5QRQtTTWaOakrxS1F3kyznN3AGZTQql7UpMoTyBcfYOpMIVoaxHYOzFI2Cq\n",
       "SdVA1fsfB0mrc1dBN0KCuVDMq/wm/PkpyrLwDYbDhfof+gwi5BhmxzV1ZBP7kZPw8jzAPrwCob2D\n",
       "KJM31aRqIGpAY5XN5qt/Zkh1iuYU123IlBAGLJZR0Zl5MjlRqWQdG7r+5jOVw+BDDfew9m16/ZKN\n",
       "ch7nB2TV4uZ0965N6KcaUkMvs4KeQ++cv4O2Yx53hzuvJhOFuszTS1INqc3gSisq9I9SpfNMeuVG\n",
       "A2gpnGU+EFlpSeUl5XXnjRMuyxMed+NS+LtIf4/SispLNCa9oCfSNHmLe2Wmm+z5QoBvNRoyomm3\n",
       "XpLmCIhrXnfPQMjaBxJ8K3SYNsiYouFkG7Z85Dx4hhPx1iqy8xLjfegyRlJE53D3Y8+yYZkcsdSf\n",
       "vHA/3XpBgUAqlqZbqJfcyeJOS063BMPckSKgjn5inaznzcdPWSaJcT+QHWzyuRzvU1AYLjT33A+8\n",
       "gYDcXIHdgtPyhv9B0GUHfyAQbqbWjw60AElT/zR9SPn6HxUAdkttq1GYAAAAAElFTkSuQmCC\n",
       "\" style=\"display:inline;vertical-align:middle;\" /></a><br>"
      ],
      "text/plain": [
       "<IPython.core.display.HTML object>"
      ]
     },
     "metadata": {},
     "output_type": "display_data"
    }
   ],
   "source": [
    "complex_power_of_quotient = Forall((a, b, c), Equals(Exp(frac(a, b), c), frac(Exp(a, c), Exp(b, c))),\n",
    "                                   domains=(RealPos, RealPos, Complex))"
   ]
  },
  {
   "cell_type": "markdown",
   "metadata": {},
   "source": [
    "$(a^b)^c = (e^{ln(a) \\cdot b})^c = e^{ln(a) \\cdot b \\cdot c} = a^{b \\cdot c}$ if $a > 0$."
   ]
  },
  {
   "cell_type": "code",
   "execution_count": 86,
   "metadata": {},
   "outputs": [
    {
     "data": {
      "text/html": [
       "<strong id=\"complex_power_of_complex_power\"><a class=\"ProveItLink\" href=\"proofs/complex_power_of_complex_power/thm_proof.ipynb\">complex_power_of_complex_power</a> (conjecture without proof):<br></strong> <a class=\"ProveItLink\" href=\"../__pv_it/theorems/0c0e461177c6aa42f008693f288e6b2d818e23c60/theorem_expr.ipynb\"><img src=\"data:image/png;base64,iVBORw0KGgoAAAANSUhEUgAAAP0AAAAaBAMAAACOWkf1AAAAMFBMVEX///8AAAAAAAAAAAAAAAAA\n",
       "AAAAAAAAAAAAAAAAAAAAAAAAAAAAAAAAAAAAAAAAAAAv3aB7AAAAD3RSTlMAq1RmmUTNIjK7EInv\n",
       "3XZ/CtNrAAAACXBIWXMAAA7EAAAOxAGVKw4bAAAD1klEQVRIx61WUWgUVxQ97uxmd2c2Y+hHigph\n",
       "oR9BaGTBNtQo6YbEGilpFwNSaqARKSV+yKT0R1o0BbWFiomaUKcBOyWlNKyYqYq2fgRJKVqlkI+I\n",
       "YglMmqJt2kgQRPBDvPftzOzM9jVZ3V3YlzcvZ+e8++659zyg2p9E3/L/PzKE6n9eDczXLQ9dZXuz\n",
       "aNXoI9nAw7XlsakBbxav2kl8J17nnv+TOUtMtXlHhh28v5b/TLYCrdXiP8nDH4W5fkfPxpj5ZuKK\n",
       "DLto/Uljbe4oDRZQx2svVUYfZ6KIm9dkRunFPGV3SB2Q77VZtbEd39NWiXwrr31QGX/U9nIg8hut\n",
       "Q42FVE4Ovoa2xFX8wlP1MfBpFYSwmqnavQek0lCyWG3IwUuYovGRmO8B7xRaujL+QXoHvGTXWpto\n",
       "vI6aHGwZ+I7C0b4PjcbtgJKhPVQov0VOf6/Xf95yRGTx9lZLBj50n8ePNi7Q+C99f5udvVEhf72n\n",
       "gf7JA+7SD1KdrrsXLsn3aIedwFf/hWrPwm/St4bOMXYVX7sxN/vanBUfUWY9RvJxOHFUIf2I10kk\n",
       "/Sz8uzntpKEzGXS5Sy9LYOrPiE6HVg6ScJOWFqyUpott+4r8RbP4uy18dvpwg3fWmOGyo5e8Dfzu\n",
       "RSYr0yXUhiU5QT+KOL78EnNmTtdwyfb5hVkcWzOC8Rex3g7A1ONGZDQYP/P/CvWhu9Qj6/xDgjAY\n",
       "P3eoXr8Nd9CjrqPF0Tq6OrZ6ZhElheCyA8UOwLSzwOaS81efQFnyjlGS/wkHr5cULveIc3tpyLde\n",
       "gp6B4F/I+vGzWcxz6l6jjRsFUxGwscO+4QBruO06UB9gVW9jYWmTJP6JNOojRqn+8QntTb2VeIRx\n",
       "kVctfjrj85NZqCyByIfu78hUBKyxMfAaLmON3nIaTVnXid+U8CedyExY11tEjvmMs2RW3YI/OjpU\n",
       "1B+ZRYzDVcYKdcWmImAtLSVhJEjZ3/zzWYPrOTdl+m/4sf+v0EqbL40ceVGzaZppXdd2FOufzELp\n",
       "M80TicMDLg4F2OfvBIXFqrod6jTTZRXuHj81RrLF+kLEr8d2WUGzSAjZkf5Ay2wqAsb6U0P+90qo\n",
       "1DLl0Kt+N0oZg91W0hL5x2U3h2TTbBaiO368DZqTF6YiYPELBib9umXvSQaVtb+s8BW/8cXaN5xH\n",
       "/BTNdt61v33Dfe2UMIv9fPTqRbMTR9NsKgKGfN9w8XrxAiOCJv5lWfy1JRadN81Qf4gUjuEnc8Rd\n",
       "SEth7t3jQKA5GmXxr3T/e7fkOWb93/3Xfq5r20rXnlIRKWXd/8u/tlE4TwF0Q/ba7BbVcAAAAABJ\n",
       "RU5ErkJggg==\n",
       "\" style=\"display:inline;vertical-align:middle;\" /></a><br>"
      ],
      "text/plain": [
       "<IPython.core.display.HTML object>"
      ]
     },
     "metadata": {},
     "output_type": "display_data"
    }
   ],
   "source": [
    "complex_power_of_complex_power = Forall((a, b, c), Equals(Exp(Exp(a, b), c), Exp(a, Mult(b, c))),\n",
    "                                        domains=(RealPos, Complex, Complex))"
   ]
  },
  {
   "cell_type": "code",
   "execution_count": 87,
   "metadata": {},
   "outputs": [],
   "source": [
    "from proveit import theta\n",
    "from proveit.numbers import pi"
   ]
  },
  {
   "cell_type": "code",
   "execution_count": 88,
   "metadata": {},
   "outputs": [],
   "source": [
    "# complex_power_not_one = Forall(\n",
    "#        theta,\n",
    "#        Equals(\n",
    "#        NotEquals(Exp(e, Mult(i, theta)), one),\n",
    "#        NotInSet(frac(theta, Mult(two, pi)), Integer)),\n",
    "#        domain=Real)"
   ]
  },
  {
   "cell_type": "code",
   "execution_count": 89,
   "metadata": {},
   "outputs": [
    {
     "data": {
      "text/html": [
       "<strong id=\"unit_complex_polar_num_eq_one\"><a class=\"ProveItLink\" href=\"proofs/unit_complex_polar_num_eq_one/thm_proof.ipynb\">unit_complex_polar_num_eq_one</a> (conjecture without proof):<br></strong> <a class=\"ProveItLink\" href=\"../__pv_it/theorems/0f2bfbd8453fcf726967d4c367268e80e88327920/theorem_expr.ipynb\"><img src=\"data:image/png;base64,iVBORw0KGgoAAAANSUhEUgAAAMgAAAAeBAMAAACbEUyfAAAAMFBMVEX///8AAAAAAAAAAAAAAAAA\n",
       "AAAAAAAAAAAAAAAAAAAAAAAAAAAAAAAAAAAAAAAAAAAv3aB7AAAAD3RSTlMAq1RmmUTNIjK7EInv\n",
       "3XZ/CtNrAAAACXBIWXMAAA7EAAAOxAGVKw4bAAAC0UlEQVRIx72WTWjTYBjH/236kSZbWxUGgyGF\n",
       "HSbioR6KnkYRlU5QwkBv4qaCOGHW0ygKKl7VlY0dul0iiCCCi6Jg56VednAUKgiDaTFST+JgFz/Y\n",
       "pb5v0nz4mo+SOp9DkuZ9+v7yPv/n/SfAv4jD+A+xRg/xU+oOTZ+zLh/LU04Z+Z4ZYdsU85hzSin1\n",
       "DHmkny7Qam3hvFMK13MR5y1IpIxfjjkbQJqehwMy4jUD8gT9S8+22HGeAPAZOEZ/XAoIiSgG5G4x\n",
       "VYywGj84vk2OyzJu0wcqB4SkJKtcKfQV2fEkhcSyiMmAmAkImZUtSEw+AkcIEYvLkvGgum/SmtTz\n",
       "GiT6OuMMSRLh6s3mWlDIACDUh9+4jmuQKDkUgEWfuZKjLgMVINTATdl+72STxjsLwpPOvoZ42gfy\n",
       "KuQyMEn0ziKR9VxJ/DuQkEXJsT2t3VAO3XKe5D3Rvt1uK54QgUDCasxmoeEPFwf0q4SZKhbu2Qoy\n",
       "tDT2wraS2ZGZGdl7JdQIJkYNC70/uABVEa8zkETuQOeKJqxj5au9XKw1/a3JT3J4PtWx0AjpAagq\n",
       "95SB9KMjvJaQ5UdMDQbJvbdA0be7cCPdsdAWNEjyIbsSo/1aOspS6xup+MfcpqvPinQRHDU4qiq1\n",
       "UEEzF1UptRgI39IfVU/AoX3myDmiRuTTtBsjNPRjD0kwmpdaaFSrgjpWBQMxQk8QVKuZ+qQudmzM\n",
       "qC61UO5ypTJHyvUyY4Ok2mZATxBFWZAZF/aMZSObWiiv6JqcXnFZiZ4wfgei8Te+1gXkoLkkaqGL\n",
       "uibiH8KPf7FKoiUoeZw17+zuArJulptaaIl0QHT6inB0wgapCdb7jiZwu/ZWJ9l3vFcw73ihWlmA\n",
       "rXG1KGolObO6mmcTNIPwF8Xza8XQJCGRzSYpiu93l0uc6AZSQLwBQQn6hvb5EulsWpnWVJQ2dvIz\n",
       "92q7QWuP/T3M8Rtbg890my/yqgAAAABJRU5ErkJggg==\n",
       "\" style=\"display:inline;vertical-align:middle;\" /></a><br>"
      ],
      "text/plain": [
       "<IPython.core.display.HTML object>"
      ]
     },
     "metadata": {},
     "output_type": "display_data"
    }
   ],
   "source": [
    "unit_complex_polar_num_eq_one = Forall(\n",
    "    theta,\n",
    "    Equals(Exp(e, Mult(i, theta)), one),\n",
    "    domain=Real,\n",
    "    condition=InSet(frac(theta, Mult(two, pi)), Integer))"
   ]
  },
  {
   "cell_type": "code",
   "execution_count": 90,
   "metadata": {},
   "outputs": [
    {
     "data": {
      "text/html": [
       "<strong id=\"complex_polar_num_eq_one\"><a class=\"ProveItLink\" href=\"proofs/complex_polar_num_eq_one/thm_proof.ipynb\">complex_polar_num_eq_one</a> (conjecture without proof):<br></strong> <a class=\"ProveItLink\" href=\"../__pv_it/theorems/69e8686cc0e8c100480079ff334f24baf07774dd0/theorem_expr.ipynb\"><img src=\"data:image/png;base64,iVBORw0KGgoAAAANSUhEUgAAAQAAAAAeBAMAAAAx990KAAAAMFBMVEX///8AAAAAAAAAAAAAAAAA\n",
       "AAAAAAAAAAAAAAAAAAAAAAAAAAAAAAAAAAAAAAAAAAAv3aB7AAAAD3RSTlMAq1RmmUTNIjK7EInv\n",
       "3XZ/CtNrAAAACXBIWXMAAA7EAAAOxAGVKw4bAAADmklEQVRIx8VXW0gUURj+dWd2dh133HoIgi4L\n",
       "vfRQsT7oQ4isomWZsRT0YhezIBCLLQUpCrdegjRcutEqxDxEYJZOdl97CCIkIpAQosJQgh7KYklK\n",
       "KWo758ycM2fHGd3Ytf6Hb5idc+Z88//ff1mABTRXFP6vFWoYW78s/EklDGZbQbdbFRz2hXJ0fn6I\n",
       "go15g96AFLN/djRHBK4xSDd3EEE7uANQ7iCS8dwQOM/AhsAmKIqCT7Xf+QbAj6+rsjpfekxhFoEC\n",
       "DV4PrQRQ/PZbJwCq8fVAVgQEjcIsAp5hmIYqpMQf9lsHVDiJ2ceyIlAUpmAXgiQMI9xnvxWtcKPo\n",
       "yIGsCHSpFOwINAkBogR758XAhRa5s9PgZwZ8+i8b1QnUD+LbSfutClLOi7Gx59kRWGKA56FUG6Q/\n",
       "3nhZxgtvj9VBHbHW2wAi0kYNQHdG5ygOyQxxA2RvrcxyYTlIvPC6SFsQxohhZtoF7RHiPANwGCR/\n",
       "RgQe5Dk82GtAi3vEzIWp9MrQbtGoFDwItejyDZVKVQ7PkWLmllieQ3MbNeBMkR6AgQb0aalU6ief\n",
       "b5YzPOoUUQoikD9ualDaatTGtfcqDumVnD2Ta85yccx7dqcnZPEADbQPPfB8bWs7xnvASl4kAZJQ\n",
       "CKDBjG2v2oT2TsTDigz3tXQC3pI1lD1a4IvI/aqVQB13wG9LqkYsGhBGyKumEQw2cUX9HEAVIqso\n",
       "sH48nYCPdRS8wAWnWuiTpRTeciduUUGaKwt8GvPDcUQov7J8I3JIEhpBwYFEBD6GLB6gyaLokQ6x\n",
       "9jtpAFYUs5tPdr/jbsuswtFV6cJZg7Xl2hlsJHVpBnrJIbJ0JZhOwPM+YsRJ76RHomlfh0Ac4U+o\n",
       "+8732gorgV26xmkCni4F9D5fz60kbCcEhJ6YRYTMyALol83JK0zB2Zx7gWErSFeJCCEojcfjAUWR\n",
       "t/EEUsyS+gLQEnB9vm7IFWbnbmjYU0IACiPQQTygiPWqgwfIAnF1EBI0OI8pOM/HDrWumBWAJEAf\n",
       "6oyVuDARDUCCF6G4rtpUI14gC1zIFzNwMl/E/vdXTGGIYWdAHEKdU7qM7nd80K5u4AgUwoBZrfCC\n",
       "4kWfLvnnmwlNy2wmNKaCvng8zCWffih0Yj80N++3LiBTsUbBaWjLaCoW7QZHpoGLiIQoy3//v4DI\n",
       "1GEm3ZzuD5iDgBCFE+jbvf/83xUtpwkF412n8XrBzZ36RVSSn3MCfwBE/ujez3PgbQAAAABJRU5E\n",
       "rkJggg==\n",
       "\" style=\"display:inline;vertical-align:middle;\" /></a><br>"
      ],
      "text/plain": [
       "<IPython.core.display.HTML object>"
      ]
     },
     "metadata": {},
     "output_type": "display_data"
    }
   ],
   "source": [
    "complex_polar_num_eq_one = Forall(\n",
    "    (r, theta),\n",
    "    Equals(Mult(r, Exp(e, Mult(i, theta))), r),\n",
    "    domain=Real,\n",
    "    condition=InSet(frac(theta, Mult(two, pi)), Integer))"
   ]
  },
  {
   "cell_type": "code",
   "execution_count": 91,
   "metadata": {},
   "outputs": [
    {
     "data": {
      "text/html": [
       "<strong id=\"unit_complex_polar_num_neq_one\"><a class=\"ProveItLink\" href=\"proofs/unit_complex_polar_num_neq_one/thm_proof.ipynb\">unit_complex_polar_num_neq_one</a> (conjecture without proof):<br></strong> <a class=\"ProveItLink\" href=\"../__pv_it/theorems/f273600d8f2655f8eb00ba35ed3abf7cc8ceae580/theorem_expr.ipynb\"><img src=\"data:image/png;base64,iVBORw0KGgoAAAANSUhEUgAAAMgAAAAeCAMAAABe4aGeAAAASFBMVEX///8AAAAAAAAAAAAAAAAA\n",
       "AAAAAAAAAAAAAAAAAAAAAAAAAAAAAAAAAAAAAAAAAAAAAAAAAAAAAAAAAAAAAAAAAAAAAAAAAACC\n",
       "gUnDAAAAF3RSTlMAq1RmmUTNIjK7EInv3XbP4duh5/Xp88jRr28AAAAJcEhZcwAADsQAAA7EAZUr\n",
       "DhsAAAMVSURBVFjD3ViHttsgDEVsxHivk///0zKMJy72SZukJePYjpF1JV1xCSFvM5gm/8dwdj5U\n",
       "PIR/y3kmelfRIJF41QZ/Axy074Rh6UOvGlHm5ThQrs8ka57FfEavp/XlZWhYFwjPIY496vN+vfl8\n",
       "GZY8syfjUI7sgWAmvDfWQuxM0Nsi0n7CFTIIPtNNqicD4fYARLvkREwf3mOPWWUJgcs4AcF8oOFl\n",
       "nImCdEsrJ8N1oqphex4akDq19TlLn4xDR+wDSR7xnjNGnQEprGLTfPnshATfisR5vgYibDeoAsgZ\n",
       "kFDY5nwezj4bCNTQofOUORjff+DwAkSUI14oZPDRAN9t56aSEnxZOs4fz0ug/bfv+Ru6QHRp1gra\n",
       "1yPDanLThKz3R3ZcUi4lZAVE1b6Rk2HFjbZ5ohNA31K0hRgpmHWMKlscn7oAwQqEhoXqe91JvZUc\n",
       "5OZar09bruf1aX8rOGN5enczoiNVeeDthGwyoqeG1ep70Z06gDEJZyApVlbZARDDBHW79hrg4zNH\n",
       "yicfLAY8Ka0RtQpHfvysTDnjiJqWkLaYzLqT86koQnoRhmEAxB+0W7YAxWxesak6kACqHe7KTQNZ\n",
       "0VP1+66VRQ/sdGeYH1uABOSjjOz7XraAsNCqU+I1g+gdE8GH+3rfxoaetWJoNG26Exdfc2kpE9gA\n",
       "iA5MbfdGeW7rIEzRI+tbGFPtRBluJwTARQnVL75vmE13CrYCknhqyIjsBy/Z6kYsRDvubS93Sjro\n",
       "aXJft013MmnKoLW0rKBnQGJvkGrh44up+zybuJ7g4O/V702GrNN/WE6b7tSWrDkihMWbGckWYJok\n",
       "qM4Rs/unaXd1CzhAzKCDvOrOhbi1/Z6TXdDAeyVicKa6LUwX/ljmFwW3Hywy/tDyZt2p2h5GyCAt\n",
       "Qc7lCRCXM9td6r/qFi+AYI2EwZ79N+l9YM+ONnOkz8YNELUqESFdek3Jw89zC1dJ/Jf/RdlPLN7m\n",
       "7IpM61t/ATDxOBCOfwhI0QDK1zwuPwKSdx9baqVmNNdo0tAzMd8fx67RpXVj7kepU9AXAfgFDCMb\n",
       "9JWo1ioAAAAASUVORK5CYII=\n",
       "\" style=\"display:inline;vertical-align:middle;\" /></a><br>"
      ],
      "text/plain": [
       "<IPython.core.display.HTML object>"
      ]
     },
     "metadata": {},
     "output_type": "display_data"
    }
   ],
   "source": [
    "unit_complex_polar_num_neq_one = Forall(\n",
    "    theta,\n",
    "    NotEquals(Exp(e, Mult(i, theta)), one),\n",
    "    condition=NotInSet(frac(theta, Mult(two, pi)), Integer),\n",
    "    domain=Real)"
   ]
  },
  {
   "cell_type": "code",
   "execution_count": 92,
   "metadata": {},
   "outputs": [
    {
     "data": {
      "text/html": [
       "<strong id=\"complex_polar_num_neq_mag\"><a class=\"ProveItLink\" href=\"proofs/complex_polar_num_neq_mag/thm_proof.ipynb\">complex_polar_num_neq_mag</a> (conjecture without proof):<br></strong> <a class=\"ProveItLink\" href=\"../__pv_it/theorems/3f9b45606384637479b3dfc9456bad5b2b6586330/theorem_expr.ipynb\"><img src=\"data:image/png;base64,iVBORw0KGgoAAAANSUhEUgAAASMAAAAeCAMAAABQbYjYAAAASFBMVEX///8AAAAAAAAAAAAAAAAA\n",
       "AAAAAAAAAAAAAAAAAAAAAAAAAAAAAAAAAAAAAAAAAAAAAAAAAAAAAAAAAAAAAAAAAAAAAAAAAACC\n",
       "gUnDAAAAF3RSTlMAq1RmmUTNIjK7EInv3XbP4duh5/Xp88jRr28AAAAJcEhZcwAADsQAAA7EAZUr\n",
       "DhsAAAPgSURBVGje7VmJdtsgEBSw3EfSU///pwUkYXGsLLmvrtOUxHkbZ4zEaHbYJdP07w6mpv/j\n",
       "znC2hBJC+ByLZryPTg2jzSTMNMHFC8KHo4hCH50bmsUXjXLS1z53Ff/XhxF9dDgE25Y6p99o0t/F\n",
       "jGMfLEM166NzHEGSw5wd3BssrcZ/yHhykzJ7aYqk66P7HJnk215bS+b8XiBjrEKyKuOhuJ+QL80R\n",
       "2D66z5FycVVzfMFiYWYe60UjdULGK/JB/GnmfXQy15KEnGzerGVEDicRK7GWvjRFqghAzeYiR3GJ\n",
       "QPfe1MsIzaGMZ+tM4rVlFHwfYRsgcR72HHF7E0AYmRkn+HUz3vk0nH1tjohoImV1LJ9tnzrGecoc\n",
       "tmo+UmFtxdXMCx6yXWnzXFlcrTy0biI76WjetpcF8bkkMljO7twZsjz8t+/pZ2G1mnnBS7L9eN6w\n",
       "arp4QUHqSLJJ+OEeN7OjGkoOHL+WUT3zik8Ssuf2igcSEpAan6hLnbqHOlJmJaNs0mITyjIstpl3\n",
       "K+X1LdYzr3gacMem3gogIowX3LXTDTw/gRHVoNSo4k1Y4rSF+H1HR52zbCSqmco0DKYjdSyjZuYN\n",
       "LwZ9iQpE60hhSNqx0o442tppFI5xpBmnrr/g23ucwcc7tiaYuxwBsr/N4biGkI0f/fi5uBLZvd3j\n",
       "LRXtLQGsdIf4NTETRhxt7TQKxzjyfbeYZiDpLlJxTGXnJkS3kUeyCVxejDy7r3Vrr2be8HLbKSlQ\n",
       "FkCmbadsQGnRwUBKEAAfX3zq2ukR/FBH3T6aZjCkZDQgdcoukli5bbxjPHhETcyhJy5DWy/4zT8Z\n",
       "dyyt2twWlpJH6o0E6ErQlK4oHONIBSabrE2fXW+NSaoOnv8acbyUBD8LLOGA3JVRNXOLV5JF7473\n",
       "x9lu0dFA9XCTKu00Csc46hlgN6QJw+3T8T56YLT9GrXX8FFQC/1M6DzokjyW0xFHpZ1G4R1H82is\n",
       "M7x9yTNEgmx8tMb8dt+P9vHHMjrGl0ek7LQ3GM6tGdRHpZ1G4ad1lGYgy4c4VenR2fbelOuj64M1\n",
       "qcPsNfzqwnVnsmzmpjG2fHR1a6eP4DVHnAYYpYo2m2PbLNaB2xDaR5eHl4Nzxgv46jBpdU0ugrCT\n",
       "ARDNQ6X7dvoIXnPkknyHlfdXtT44QoLVom9VLp9nj2TRWrm6iK+FkgzmwBzpWXjNkdylChcufq2S\n",
       "M+93Lri3V/qgIz33/yL89DFBd5lMRJIwT/Zcln3iNP3h/68Vtzd/Ft/c7vQoR7kil351tVv1/Nyz\n",
       "mdcajenF/arkuOU3z/zMFLUlWayH/M7T6Afg5hfvtySkGUyHoQAAAABJRU5ErkJggg==\n",
       "\" style=\"display:inline;vertical-align:middle;\" /></a><br>"
      ],
      "text/plain": [
       "<IPython.core.display.HTML object>"
      ]
     },
     "metadata": {},
     "output_type": "display_data"
    }
   ],
   "source": [
    "complex_polar_num_neq_mag = Forall(\n",
    "    (r, theta),\n",
    "    NotEquals(Mult(r, Exp(e, Mult(i, theta))), r),\n",
    "    condition=NotInSet(frac(theta, Mult(two, pi)), Integer),\n",
    "    domains=(RealPos, Real))"
   ]
  },
  {
   "cell_type": "markdown",
   "metadata": {},
   "source": [
    "### Other Misc Theorems"
   ]
  },
  {
   "cell_type": "code",
   "execution_count": 93,
   "metadata": {},
   "outputs": [
    {
     "data": {
      "text/html": [
       "<strong id=\"nat_pos_to_nat_pos_lower_bound\"><a class=\"ProveItLink\" href=\"proofs/nat_pos_to_nat_pos_lower_bound/thm_proof.ipynb\">nat_pos_to_nat_pos_lower_bound</a> (conjecture without proof):<br></strong> <a class=\"ProveItLink\" href=\"../__pv_it/theorems/aa538510c29760fceb9267c521d2f36c3dfb92c70/theorem_expr.ipynb\"><img src=\"data:image/png;base64,iVBORw0KGgoAAAANSUhEUgAAAJgAAAAaBAMAAAC5lIjBAAAAMFBMVEX///8AAAAAAAAAAAAAAAAA\n",
       "AAAAAAAAAAAAAAAAAAAAAAAAAAAAAAAAAAAAAAAAAAAv3aB7AAAAD3RSTlMAq1RmmUTNIjK7EInv\n",
       "3XZ/CtNrAAAACXBIWXMAAA7EAAAOxAGVKw4bAAACbklEQVQ4y2NgIBm0TWCgHDAHQGjGDVilHUgy\n",
       "TAVK8zRgla4kxSyuBCij/50UVoc/IMEwTgMo4+2CJ1gV3GJgEADRykQYVgNjTGYww6rgIQODK4hO\n",
       "J8IwbxjjBIMjiFpmgKZg/QKGRiDFTkxkf4UxPjAcAofhXrRAYjNgYFvAwMCtQNgsjl/wsGGG2v12\n",
       "F4oKlgkMzEDXshHhML4LMFbLOxjLFsU0vgMMDGfv3j1NhGGMoJTBLv0cxW9q7mAKIswKdLsHA8Ms\n",
       "XCZwI6UMkN9iCjh/oSgIAyc5iDDHDwaGQgZ2AVyGsSAFL1AR12EGlguohoHcARVmB0YR5wLuAHgo\n",
       "Z0IZtd4BzAdRDOMF5j2WDwy8KBlTTRxsJUSYC2gY0wOk8JcGmfhwZgCTwC4GLwyX8UxgWB+AZJat\n",
       "FySzQoTZgd5kSLBDSJ8AYhdgRmayY2HYwO3i6+KKbNj6Bwz2SGbBkgZUmOM7kNiUBSRW220H8f89\n",
       "XMAHStlMTeEPNqC4jBEYAesVGMSYCmAZH55oocKg2GSoAQXtdbC5fLf4HFaC5JkadqmiGgZKRZwP\n",
       "mK7AhRDZCSrMfABkJ9BbLA4cB8AlA3NCMMQwFr4JKIaB7OWS21H4AkvhBBFmgSUKngA+AXC5xyJg\n",
       "NnPmTAWmBq4NCSjpjOEooWTNBnPq+gJOK2Am5WfgUeiGuIwh6AGOUgMXAJYaUJcV9AcvWM3Au8AS\n",
       "mO4g5T0fWlLuQdO79i4I3EAIGMJDxFlvM0OPAoffAwb2GUB+bzq02ESKTkJFy3VULkT56pkzA/DV\n",
       "AbgqL9RgYV2AV7U2fsPQaidm4upNHACYtQDYSpZj1fRLCgAAAABJRU5ErkJggg==\n",
       "\" style=\"display:inline;vertical-align:middle;\" /></a><br>"
      ],
      "text/plain": [
       "<IPython.core.display.HTML object>"
      ]
     },
     "metadata": {},
     "output_type": "display_data"
    }
   ],
   "source": [
    "# lower bound for exponentials with natural positive base and natural positive exp\n",
    "nat_pos_to_nat_pos_lower_bound = Forall(\n",
    "    (a, b),\n",
    "    greater_eq(Exp(a, b), a),\n",
    "    domain = NaturalPos)"
   ]
  },
  {
   "cell_type": "code",
   "execution_count": 94,
   "metadata": {},
   "outputs": [
    {
     "data": {
      "text/html": [
       "<strong id=\"square_abs_rational_simp\"><a class=\"ProveItLink\" href=\"proofs/square_abs_rational_simp/thm_proof.ipynb\">square_abs_rational_simp</a> (conjecture without proof):<br></strong> <a class=\"ProveItLink\" href=\"../__pv_it/theorems/2120af913fa6389e8096e284c852b1b5d441946e0/theorem_expr.ipynb\"><img src=\"data:image/png;base64,iVBORw0KGgoAAAANSUhEUgAAAJwAAAAmBAMAAADDx+9tAAAAMFBMVEX///8AAAAAAAAAAAAAAAAA\n",
       "AAAAAAAAAAAAAAAAAAAAAAAAAAAAAAAAAAAAAAAAAAAv3aB7AAAAD3RSTlMAq1RmmUTNIjK7EInv\n",
       "3XZ/CtNrAAAACXBIWXMAAA7EAAAOxAGVKw4bAAACpElEQVRIx5WWTWjUQBSAn910s5tNt9ujF1no\n",
       "oSclKBQpUiIqiFAN9OKt8SToJYroReyKBwvaH7QHo6DxKK1sUbSHgixeqoigIPQgC/EigpdlVVoq\n",
       "tM5f0iTOdCYPFjJ5L9++35kBkIhWBzUxLqhYHQVVmQ7kNgVXGVeoyW3upv7SWBnYxYV7ctzFdCJB\n",
       "+yS2XZRG27OZWvY7+ga3DMRrTRpt31I6PQEfR73W12W42az/FW6wzOtHMtxe9NOjhSfsBub1ERnu\n",
       "F3bIYYtXCP1QYEi8nqwDSd+gwKi0nsFdgWu79HCfDSfw4ryoMztpnP5g6hTXkHqtuXATL+YEuD1u\n",
       "Gmdub3e4htTrageKyMuKaMzNWiZYgTCvezagYAEURWb9S2o45nWpC/Cx3f4gxFkMd+nNDRGOqNhw\n",
       "oEY4CSCqPq48wfWuwpMggRtrY/mMH6mKyRaig56atYX5AS8eCoZbtGBM4B1VMfkLUA7i5JS++Y6+\n",
       "ApWDkXrCobgzAF8FOKpi8huVI4wrcbyBPr4MxiEv4917MP4IcFS1gwN3FIc4ugxVnPipIYAwTOOM\n",
       "LdLQvNwx1U7u4AU6M4w1NE/P8JsRK4GbpJU1uqihh7jeMVVixK+jSmh2qQXj+A1GhdEu1wxpsI9h\n",
       "v23zg6Uq1s1dPEkoY6ZTrcGw7/v1s8lgTZvinv68va/Bx1EVK2WUxaZXHgnukJ0mWYrinNpUZI8C\n",
       "05sdD8oBaRaoxPuV1sqFi7fq3mMHXqJBJm385Vwj3qA2c+HK6bNnwffRp8u3knXLgyMj/t+xNHg6\n",
       "AsA83sUiZ3/IcBMe7+3M4fhRepik5LXMoOnkwb2V1srNQau2pCbvcuBM+VVwOAfuu9ykaCnT9FWF\n",
       "K+qaMu65yrX3aqCKu68UQkP1qo176h+tWcR9fpN6nwAAAABJRU5ErkJggg==\n",
       "\" style=\"display:inline;vertical-align:middle;\" /></a><br>"
      ],
      "text/plain": [
       "<IPython.core.display.HTML object>"
      ]
     },
     "metadata": {},
     "output_type": "display_data"
    }
   ],
   "source": [
    "square_abs_rational_simp = Forall(\n",
    "    a,\n",
    "    Equals(Exp(Abs(a),two),Exp(a,two)),\n",
    "    domain = Rational)"
   ]
  },
  {
   "cell_type": "code",
   "execution_count": 95,
   "metadata": {},
   "outputs": [
    {
     "data": {
      "text/html": [
       "<strong id=\"square_abs_real_simp\"><a class=\"ProveItLink\" href=\"proofs/square_abs_real_simp/thm_proof.ipynb\">square_abs_real_simp</a> (conjecture without proof):<br></strong> <a class=\"ProveItLink\" href=\"../__pv_it/theorems/88b42d6ae12cf865a0a3bc1a2f6fb49702d9a48b0/theorem_expr.ipynb\"><img src=\"data:image/png;base64,iVBORw0KGgoAAAANSUhEUgAAAJoAAAAmBAMAAADO2Z8qAAAAMFBMVEX///8AAAAAAAAAAAAAAAAA\n",
       "AAAAAAAAAAAAAAAAAAAAAAAAAAAAAAAAAAAAAAAAAAAv3aB7AAAAD3RSTlMAq1RmmUTNIjK7EInv\n",
       "3XZ/CtNrAAAACXBIWXMAAA7EAAAOxAGVKw4bAAACnUlEQVRIx5WWTWjUQBTHn93sZjdJs+vRiyx4\n",
       "8FTJqYciJcUPRCgGC148NDdBQSKIXsSuJwWVFvVgLNQIXqSVXRRbUJDFSxUR9NSDLKyXUvSyrEpL\n",
       "hdaZzCTdhJnM5B1md/Y9fvuf95EMQLYpdZAz7aJE0ATI2v1AGFJwpWmFmjDkXuIPtXf7MwQ8ENIu\n",
       "JZMIyld+7JLoqEPbiW3VUbeYFQg1K6KjDreSqQnYNKJZ3RTQZtPideZJqeZ5Ae0AXjy68bhtQDUf\n",
       "FdB+4+UN3aBP9QknMNQ8U4cwdYfYMeXNFO0qXM9o3WEbTuDNBU5D9pI09fGd08xAollx4RbezLFp\n",
       "+9wkzdjd7TEDiWazByWkUeeMtlFLnZRjVPPQFhQsgBInqtqSo1HN5T7Al07nM49mUcqV9zd5tNBF\n",
       "RwK1wCkAXt1n6oRWXIWnwQBtsoPtG/5KXNR2EBzUwQEbWZ64HI8CpS1ZMMnRRlzU/gFUAt2J+uuH\n",
       "75g6rETTOe0Q2hmA7xwacVH7gyrRjYtwvIHKbMJYN6XtE2h/OTTi2qOBO46WxfEVMHHSEe2nnaRp\n",
       "O2Efs/JGXXt5g1fo/aCtoSl6gX8xdXXBiqpAaqr1UR8fZmqjroGxvoGKoNjlNkyFNGU+noxml5x0\n",
       "AUZsm31S4qJN3Mfzg7JlOGYNRn3fr5umfjbuSpvQnv26fbDBphEXLWKUwaZXGQvuhtrM4vmogUpz\n",
       "crOQfu4b3uxUUAnCvMHbSLrSzkWLH8zFY0deo+FF386tt56fjJ5I27loleRrZtH3nVTF8tCqVrb/\n",
       "EV426GZDRJv2sv2i90bSlgX+ppOH9kFUJTcHzGyLIj7moBnCq95oDtq6MKJkScPUVfH9c02a9lLi\n",
       "TnstkKU9lNHfkL1F42b6DyNow67UPt3PAAAAAElFTkSuQmCC\n",
       "\" style=\"display:inline;vertical-align:middle;\" /></a><br>"
      ],
      "text/plain": [
       "<IPython.core.display.HTML object>"
      ]
     },
     "metadata": {},
     "output_type": "display_data"
    }
   ],
   "source": [
    "square_abs_real_simp = Forall(\n",
    "    a,\n",
    "    Equals(Exp(Abs(a),two),Exp(a,two)),\n",
    "    domain = Real)"
   ]
  },
  {
   "cell_type": "code",
   "execution_count": 96,
   "metadata": {},
   "outputs": [
    {
     "data": {
      "text/html": [
       "<strong id=\"square_abs_ineq\"><a class=\"ProveItLink\" href=\"proofs/square_abs_ineq/thm_proof.ipynb\">square_abs_ineq</a> (conjecture without proof):<br></strong> <a class=\"ProveItLink\" href=\"../__pv_it/theorems/f199446dccd7371a4541a668e41819cd02a92c3e0/theorem_expr.ipynb\"><img src=\"data:image/png;base64,iVBORw0KGgoAAAANSUhEUgAAAN4AAAAmBAMAAABZiDjwAAAAMFBMVEX///8AAAAAAAAAAAAAAAAA\n",
       "AAAAAAAAAAAAAAAAAAAAAAAAAAAAAAAAAAAAAAAAAAAv3aB7AAAAD3RSTlMAq1RmmUTNIjK7EInv\n",
       "3XZ/CtNrAAAACXBIWXMAAA7EAAAOxAGVKw4bAAADm0lEQVRYw62Xb0gTYRzHf24373abt0WvMpCD\n",
       "XkQvrL0SkpBJZRFUIyGIXjgiqAxigtSbyAlRQcYkA5uCneAbUXH0R8EgxDcaYQQFhmJMCJEiGStR\n",
       "DLTnee6e2z3Hrd22e2DP8/y23+5zv9/z/T33HEDZjZPt+Ymt4EhrtOv4RHEC547a9gw6weti7lp8\n",
       "uyd/FE+d4N1kFxO4T3ldRx1IqGubMQMRfstKKyRszoGEVqXYNVIseWrY/Gb5vIQ5Rz6rfGph95fP\n",
       "24e7mGbE8qleC/tY+bzfuHujGWjk+6z9SNgdMpAlPFAyTtg08drhjslleF4v9qownMTGtdKrPcPy\n",
       "+OePzuS0q173KtCwuSh0YqO7ZF5FlOX5d3cz+r18UZcyCzRsKQOV6DufXDLPHzTlM9ekJRXnQRWq\n",
       "he3aAncIoLJ0uQRS+Xgj3wxK0cIWUKjzy8sfyuCFNE7bu3sMb+gznVXWrND8iUjNpwH6/vNwM/R0\n",
       "MLYOWeV5ZuGFYuANXtGn462ivq/soBsDXt/WhBvapHai8RaZeA29Nrh64YEusITGGw3BWWN8FTne\n",
       "EQU+0vlfdBHFF9F/24+hK8mI5IPJlDXPNYCupm+aLRGVdx5giclnu57PJoJR2x/0/7RBLnPocyKO\n",
       "tCVBfdqS5+7Bqoyb43sP4kYevSyBJ2vgQbQB/9owiUPbWVEkrADE+xFmeNgBDRJ5ZibWq1meuEMq\n",
       "37IessBtG9YPXqJzjLhANiZpUQoPE18fPxAy8oiDF4QZYv9SvlO9qPoUs6jyD7I8Wu9beHENu+1d\n",
       "JBcuLEzj64bc0WbC4/q7Gb0QB2QcmsJ2D9RR8aXVfA5AbThs4oHrOu73wjP6BY8TW4EWwx+RgmRd\n",
       "uGBdMpmUJcl3geERB2xcmiLLTA9l/rDKG/z5sCZu5mml8VoPT9igtxnz1qPgA+CXH5P4JM9lxcgj\n",
       "DsToPAWQgRlazN1597P/HT78sUSzMgJVylFUH2T9YIrRC3FQjbZqWHTTAuSmi+Hpz37P8cOvoEsW\n",
       "zqXR1orsi6upoSYjjzh46VP8/rquiW1r3tgybl9NPC97YFK3uZFkMrcBWOwv7MErW0x8gZDR8lic\n",
       "PArxVO2tacZaAV5LjKkXKMgTkHiTvUaHoo5AEwU9eENPB6aNR4rgzZR/PvNF7ftK0w68P8wVcfiQ\n",
       "HeDV2XdddeL9qDJk15OfdYInLtj1HHMinQC37b7V9Tjz/s7HbSYCV84/Vx79Cz5PibEAAAAASUVO\n",
       "RK5CYII=\n",
       "\" style=\"display:inline;vertical-align:middle;\" /></a><br>"
      ],
      "text/plain": [
       "<IPython.core.display.HTML object>"
      ]
     },
     "metadata": {},
     "output_type": "display_data"
    }
   ],
   "source": [
    "# Note: if |a| <= b then b >= 0 and |b| = b.\n",
    "square_abs_ineq = Forall(\n",
    "    (a,b),\n",
    "    LessEq(Exp(Abs(a),two),Exp(b,two)),\n",
    "    domain = Real,\n",
    "    conditions = (LessEq(Abs(a),b),))"
   ]
  },
  {
   "cell_type": "code",
   "execution_count": 97,
   "metadata": {},
   "outputs": [],
   "source": [
    "# covered by product_of_complex_powers\n",
    "# # not true for general a in C, but true for a in R\n",
    "# # except a = 0 \n",
    "# # noting $a^{b + i c}$ = $e^{ln(a) \\cdot (b + i c)}$.\n",
    "# sum_in_exp = Forall([a,b,c],\n",
    "#     Equals(Mult(Exp(a,b),Exp(a,c)), Exp(a,Add(b,c))),\n",
    "#     domains = (Real, Complex, Complex),\n",
    "#     conditions=[NotEquals(a, zero)])"
   ]
  },
  {
   "cell_type": "code",
   "execution_count": 98,
   "metadata": {},
   "outputs": [
    {
     "data": {
      "text/html": [
       "<strong id=\"add_one_right_in_exp\"><a class=\"ProveItLink\" href=\"proofs/add_one_right_in_exp/thm_proof.ipynb\">add_one_right_in_exp</a> (conjecture without proof):<br></strong> <a class=\"ProveItLink\" href=\"../__pv_it/theorems/2be1cc1bd4487c8deb620b66bc87fa3638aefbfd0/theorem_expr.ipynb\"><img src=\"data:image/png;base64,iVBORw0KGgoAAAANSUhEUgAAAQcAAAAaCAMAAACNSmlkAAAAOVBMVEX///8AAAAAAAAAAAAAAAAA\n",
       "AAAAAAAAAAAAAAAAAAAAAAAAAAAAAAAAAAAAAAAAAAAAAAAAAAAAAAACXHtMAAAAEnRSTlMAq1Rm\n",
       "mUTNIjK7EInv3Xbt5cmRiLwgAAAACXBIWXMAAA7EAAAOxAGVKw4bAAADRElEQVRYw81ZWbKkIBCU\n",
       "TVZ5M9z/sCOLCIIsjmE8PjqqO4pUkloSell+22Ar/wRSoPVXrBeR0nIDyN5UPPusBPKYy7TenoG9\n",
       "OyAuLT8U682lsxGTQJ5T4fYM7NUh1tIKG2W0BqITS3ouLxLIgodZsHcHR6Xlh97EonvBuomZh6WQ\n",
       "JQ8eDJy/o+9ooKq0El66JUyDWdIPyAoPDgzHIrXS73jAsrSSXMa9ZQojJsvDDon5PpT9QBkPDoyB\n",
       "p8Xnf4YhpXX8YF8c9gDWmeBNISvx4MHWwKyE39HA4nayYmP3bEX9LcEzu5ZC1nhwYCgw+6Wq0Ftp\n",
       "RY6wHijgWs3QnkAePFC5GqlTMLXZoeSHPIC1sCiQmrYJSF3IQIGoQtbiyINhJzK4eFbwmtXstoDz\n",
       "q0XUXqV5c3GZCzOnNMJbMkDdv/nCHoyC42NAlmuOQUpyK02lK4FS6iLUVnCxhEJuQS1SMxda1Ne2\n",
       "fztwPJgNBUlaspxpwPnuITjYOYZcjvDgqbVqjVy9NnyxsHFfZNkfYwblLqLLwx1ktQs7MKhvquQh\n",
       "yzEOhhQuEtAQD4BGDEM78aD4zdpOxnIXanqnkFvIWjyw0CoOjS0k0pJeZLlG8ajKPCyt8pBNXoj0\n",
       "jxAVPXDlQRj7fGSae5a5sITaan0YgEzqAw3SIYgIsdHkCUGWi7hWSCG9L79xstNt/MfpNq8Ptovq\n",
       "ATy3hIG+d0B6z0Pm0u0XA5CXfmE1PjgSYCdHXWQ5iYtAAol7HvLJIYg8D0rfdf9gcW11DW61n9wF\n",
       "dfXDAGRc1wEGQrIpkh5hgixHq9tfDhfGCLvnIZt8BJHPCwPrGxAtAbRkFOhG0ucu3RPICGTcQXCN\n",
       "JdtxkRCZLGdnVQx1MhEGvDLZ5sWfv+E8U62TjrOrNTXWNw/HBZiyGU724BcykeWnxKIS2xXJqn6I\n",
       "k5fk9LZYRUvAxHlz7BrHiPdoKMEIRlBLZPMcnrKccna2hD1JMKvmRZycq9NdR+Hipc86wtSTV0fg\n",
       "xXBogsGsIdogrwZwXT/A7kkJwNKaOUG+eVfSAiODcVfnoX92vb+fHNrBN68Um2CjZajKAxyofVCW\n",
       "1vCt3ptXRu+APY/P2/8vBvrci0UygP0DT70et2oaUQEAAAAASUVORK5CYII=\n",
       "\" style=\"display:inline;vertical-align:middle;\" /></a><br>"
      ],
      "text/plain": [
       "<IPython.core.display.HTML object>"
      ]
     },
     "metadata": {},
     "output_type": "display_data"
    }
   ],
   "source": [
    "# true even for complex a = r exp(i theta),\n",
    "# but exclude a = 0 to avoid 0^0 which is undefined.\n",
    "add_one_right_in_exp = Forall(\n",
    "    [a,b],\n",
    "    Equals(Mult(Exp(a,b),a), Exp(a,Add(b,one))),\n",
    "    domain = Complex,\n",
    "    conditions=[NotEquals(a, zero)])"
   ]
  },
  {
   "cell_type": "code",
   "execution_count": 99,
   "metadata": {},
   "outputs": [
    {
     "data": {
      "text/html": [
       "<strong id=\"add_one_left_in_exp\"><a class=\"ProveItLink\" href=\"proofs/add_one_left_in_exp/thm_proof.ipynb\">add_one_left_in_exp</a> (conjecture without proof):<br></strong> <a class=\"ProveItLink\" href=\"../__pv_it/theorems/39fd3c641d6f166621f67903d3ac77b47a36a0ca0/theorem_expr.ipynb\"><img src=\"data:image/png;base64,iVBORw0KGgoAAAANSUhEUgAAAQcAAAAaCAMAAACNSmlkAAAAOVBMVEX///8AAAAAAAAAAAAAAAAA\n",
       "AAAAAAAAAAAAAAAAAAAAAAAAAAAAAAAAAAAAAAAAAAAAAAAAAAAAAAACXHtMAAAAEnRSTlMAq1Rm\n",
       "mUTNIjK7EInv3Xbt5cmRiLwgAAAACXBIWXMAAA7EAAAOxAGVKw4bAAADO0lEQVRYw9VZ2bajIBCU\n",
       "TaBB7oz//7Eji4AsosaTe4aHpHOQUoqmujDT9P80McuHI4HML6K92wiro0FDyn/TuwQas8QftECj\n",
       "v0sDpnU0alr4b357JXHiQRZo/FfTAuY6Gi7ragwCl0Hmcx4i2m2wN5skdTRqZoHJ+ORZ4GMeEpoD\n",
       "Q+la8j0auK6jS9wFwTPoYx4SmgOjUaRm/j0eqKqjS/JAPQGwwgMeqNyath8kR3NgYmf2q3qxsjoa\n",
       "D7Jc4LBo5NN8yNAc2ByYVfiLTiAup7ixsNs+JvssqPyUhwzNgZHA7PzFdEjlPCvsY/aoidJu9B01\n",
       "UvOqTFkvEpoH04ttWn2RBzRXEUfK8GYFa/awC3nUhmwkkgejzk9IeCZ4pyahq/yyjJjeVFq2Jtfu\n",
       "EatIz7BkDQ0Gtp7Yg3G0f1xw4EZSlJN8tk2Vk0ClTJVqMyoi0MRNqMFlu4cP9bUPWSeOB7OpoNiJ\n",
       "n98MOpJyuwIk2jjGUl3hwVNr3Rorr1poEdHV/Yi4sO77peyJF4x46AxsUubBsOmo5O7nKQ2BApcJ\n",
       "5BIPiEeMlQ/yQctibpGpqmdfQjFyG/ISXTnYHD02KGIULxy4IfH4Kjwsb/JwGDwx5W8BWdXv8QCr\n",
       "vT9ZW0vV7hEZtU196EO29IEH6xBMBCw8u0Nw4BDnijnmffWNg51tkz/Otnl/sBSuB8ljBCv2taPC\n",
       "7/UM60UfslcvrMdH+wbYyNGFn2dxEgQI9Hk4Dg5J5HnQRfVK1T9E0livQxti3ukhQ//Qh6xfhexg\n",
       "KGw2zfIjTHDgZHbrK/EkBBN9Hg6D9yTy+2LFveofIkBGCY5Mvek7PXR40OpD1pKKylyyFZcAHBy4\n",
       "SKoYdDIzBrIx2O6LP3+z40ylk46zMrrV5jcPxxWYtjucbckPKnPgyWJxRe2MVNM/xMFTdnqbrHll\n",
       "6JXz5mHF4D0aajBGCTaK2H2OkwPnUqSSsG0SKpr7Ig4+utPNR9HqoZOOCP3k0Ql6MR1OwfChINok\n",
       "byZw2z/g4asuhOvoRlvefFdyBsYu5l2bh/HZ9cn7yWwF33yleAp2VYaaPOAL2odVHV0+R7/5yugd\n",
       "sOf5+eD/i6itL4pkAPsHOEgetzGaRjgAAAAASUVORK5CYII=\n",
       "\" style=\"display:inline;vertical-align:middle;\" /></a><br>"
      ],
      "text/plain": [
       "<IPython.core.display.HTML object>"
      ]
     },
     "metadata": {},
     "output_type": "display_data"
    }
   ],
   "source": [
    "# true even for complex a = r exp(i theta)\n",
    "# but exclude a = 0 to avoid 0^0 which is undefined.\n",
    "add_one_left_in_exp = Forall(\n",
    "    [a,b],\n",
    "    Equals(Mult(a, Exp(a,b)), Exp(a,Add(one, b))),\n",
    "    domain = Complex,\n",
    "    conditions=[NotEquals(a, zero)])"
   ]
  },
  {
   "cell_type": "code",
   "execution_count": 100,
   "metadata": {},
   "outputs": [
    {
     "data": {
      "text/html": [
       "<strong id=\"add_one_left_in_exp_poss_zero_base\"><a class=\"ProveItLink\" href=\"proofs/add_one_left_in_exp_poss_zero_base/thm_proof.ipynb\">add_one_left_in_exp_poss_zero_base</a> (conjecture without proof):<br></strong> <a class=\"ProveItLink\" href=\"../__pv_it/theorems/847f4f70a3ea6db9d76c8f97806abed2afa39a220/theorem_expr.ipynb\"><img src=\"data:image/png;base64,iVBORw0KGgoAAAANSUhEUgAAAUEAAAAaCAMAAAAe7h6DAAAAOVBMVEX///8AAAAAAAAAAAAAAAAA\n",
       "AAAAAAAAAAAAAAAAAAAAAAAAAAAAAAAAAAAAAAAAAAAAAAAAAAAAAAACXHtMAAAAEnRSTlMAq1Rm\n",
       "mUTNIjK7EInv3Xbt5cmRiLwgAAAACXBIWXMAAA7EAAAOxAGVKw4bAAADrElEQVRo3uVZ2xajKBCU\n",
       "OzTI7Pr/HzuCiAQa0cSH5AwPSSe0FS2KvpBp+heGlubNK4HJB9G+ZTDRWoNBbHzjt6n3fs4f+Kdo\n",
       "3zIob63RcDq+qfvioQeD5nO0rxggW2sopcV7AkG0/gEGP0D7imFYa42Gn2HyUbAzfM5ghUYOX/YL\n",
       "BCrXWpdY31KCJ58zWKHxHIyl+gUGuW2tS2GQR+5ggXcY5GYdLrywBk3vi/IjcXERrTW+KLBIN52w\n",
       "jzVYo8m0KJb+RGWXNaRvqGmNVyw9PzcfM1ijsbQo8ickeJRnRaE25p37PW16d+fnlJWL9XUurtHc\n",
       "HIazP8EgkY2liPUKrSuwGXFFujgkot4Njcf60MBbT3RS0w4BkwPtZTCMFWNqS7j1eoPxgs7oRRd3\n",
       "PxeDnF+IPuuGpsj+cqH/84aTcnlM193GQG+tt6cOWGe2N6PILUtSWeBYpAJZIHRGjRNQH7IV64YW\n",
       "5GdFv5sM7SExZvUAQ9bVocaiyib2ZSNMqWoX5sRhAtJvRkUbWWZeWXyJH7InLPvurmf2+SGD+IU4\n",
       "2Rsa9Z08kvq/ifNkWIjqYziDTpd0qvzVovoORT2KJEAJQw06U9GSOW5mkmr0sHo015gu0GTu8MAy\n",
       "b1XV/3mWd5feYBW6i/d28ZCPirEk1U6Yw/rAZyVEW2HVDMIS7pwtmDzQGb2oQRzsQ2JxUKUbTYsN\n",
       "syp+IvV/kFmiqon6pmk+Y/lu/sTyfavZZtZ1mJQ8Y7A9fCHm1YKFbnm5ubPOzDgX9yF7uTh0mGTf\n",
       "riutruomRa7iGTDoM3i0i1m2G4POdx2KIIkx2M4e5VyyjA/uHMk6+Awb14N9yPaockcjKTY4Ufbe\n",
       "qf9jMorG0ElrofsMHu1ilu22ixfadZjo9lmbfaiSQW16i54tIN5qRXwb3fAZPj5a6EO2SYfU+g11\n",
       "EAN46f/0kTdSJilKPdM0n2GT/vd/0YTnTII5aHNvF8dFrq07Qz56AtWguRAGxbpVwRb931FsK8sD\n",
       "GxatB492MZ9WTKH9EWR6xSsdzjOJ98+czZQigQcJbNEEZ9TbII2QP/f+T5msZ7DrluYa3cVHu1j0\n",
       "N2tFzaHCe3Ew6qQZRSaPMK3dG8/MyJMSPEUr6wiwYc+hmwbbhNQP8EoHcaIkwNAJba3rY370EPQM\n",
       "TVwUO/aMcoT34sD7d4FOvfM/ySGaR//ZOEW7Gm8RBqkY4FUOtrdYnf8yqW2tq4dVj54iP4P2xKaA\n",
       "m9+/8X/xLuon00hC+wte6CRRLRi+CgAAAABJRU5ErkJggg==\n",
       "\" style=\"display:inline;vertical-align:middle;\" /></a><br>"
      ],
      "text/plain": [
       "<IPython.core.display.HTML object>"
      ]
     },
     "metadata": {},
     "output_type": "display_data"
    }
   ],
   "source": [
    "# here we allow for a 0 base but a non-zero exponent\n",
    "add_one_left_in_exp_poss_zero_base = Forall(\n",
    "    [a,b],\n",
    "    Equals(Mult(a, Exp(a,b)), Exp(a,Add(one, b))),\n",
    "    domain = Complex,\n",
    "    conditions=[NotEquals(b, zero), NotEquals(b, Neg(one))])"
   ]
  },
  {
   "cell_type": "code",
   "execution_count": 101,
   "metadata": {},
   "outputs": [],
   "source": [
    "# Redundant.  Handled by sum_in_exp.\n",
    "# diff_in_exp = Forall(\n",
    "#     [a,b,c],\n",
    "#     Equals(Mult(Exp(a,b),Exp(a,Neg(c))), Exp(a,subtract(b,c))),\n",
    "#     domains = [Real, Complex, Complex],\n",
    "#     conditions=[NotEquals(a, zero)])"
   ]
  },
  {
   "cell_type": "code",
   "execution_count": 102,
   "metadata": {},
   "outputs": [],
   "source": [
    "# diff_frac_in_exp = Forall(\n",
    "#     [a,b,c,d],\n",
    "#     Equals(Mult(Exp(a,b),Exp(a,frac(Neg(c), d))),\n",
    "#            Exp(a, subtract(b,frac(c, d)))),\n",
    "#     domain = Real,\n",
    "#     conditions=[NotEquals(a, zero), NotEquals(d, zero)])"
   ]
  },
  {
   "cell_type": "code",
   "execution_count": 103,
   "metadata": {},
   "outputs": [],
   "source": [
    "# same as complex_power_of_product\n",
    "# exp_of_positives_prod = Forall(\n",
    "#     c,\n",
    "#     Forall((a, b),\n",
    "#            Equals(Exp(Mult(a,b),c), Mult(Exp(a,c),Exp(b,c))),\n",
    "#            domain=RealPos),\n",
    "#     domain=Complex)"
   ]
  },
  {
   "cell_type": "code",
   "execution_count": 104,
   "metadata": {},
   "outputs": [],
   "source": [
    "# covered by real_power_of_product\n",
    "# int_exp_of_prod = Forall(\n",
    "#     n,\n",
    "#     Forall((a, b),\n",
    "#            Equals(Exp(Mult(a,b),n), Mult(Exp(a,n),Exp(b,n))),\n",
    "#            domain=Complex,\n",
    "#            conditions=[NotEquals(a, zero), NotEquals(b, zero)]),\n",
    "#     domain=Integer)"
   ]
  },
  {
   "cell_type": "code",
   "execution_count": 105,
   "metadata": {},
   "outputs": [],
   "source": [
    "# same posnat_power_of_product\n",
    "# nats_pos_exp_of_prod = Forall(\n",
    "#     n,\n",
    "#     Forall((a, b),\n",
    "#            Equals(Exp(Mult(a,b),n), Mult(Exp(a,n),Exp(b,n))),\n",
    "#            domain=Complex),\n",
    "#     domain=NaturalPos)"
   ]
  },
  {
   "cell_type": "code",
   "execution_count": 106,
   "metadata": {},
   "outputs": [],
   "source": [
    "# Not true in general\n",
    "# same_exp_distribute = Forall(\n",
    "#     [x,y,z],\n",
    "#     Equals(Mult(Exp(x,y),Exp(z,y)), Exp(Mult(x,z),y)),\n",
    "#     domain = Complex)"
   ]
  },
  {
   "cell_type": "code",
   "execution_count": 107,
   "metadata": {},
   "outputs": [
    {
     "data": {
      "text/html": [
       "<strong id=\"int_exp_of_exp\"><a class=\"ProveItLink\" href=\"proofs/int_exp_of_exp/thm_proof.ipynb\">int_exp_of_exp</a> (conjecture without proof):<br></strong> <a class=\"ProveItLink\" href=\"../__pv_it/theorems/d2ffb301cfe51925d0adef220da6ececfd9677700/theorem_expr.ipynb\"><img src=\"data:image/png;base64,iVBORw0KGgoAAAANSUhEUgAAATYAAAAaCAMAAAAKe4BiAAAAOVBMVEX///8AAAAAAAAAAAAAAAAA\n",
       "AAAAAAAAAAAAAAAAAAAAAAAAAAAAAAAAAAAAAAAAAAAAAAAAAAAAAAACXHtMAAAAEnRSTlMAq1Rm\n",
       "mUTNIjK7EInv3Xbt5cmRiLwgAAAACXBIWXMAAA7EAAAOxAGVKw4bAAAEHElEQVRYw91ZiZacIBAU\n",
       "GuQmif//sQGVG2ZEZ3dfwtvj7axdStFXtcvyfy2+ih9HeL2QMYb9GD9AB0+lHu+rj0DO39ZtGz+A\n",
       "X3/SqzAZ/EPzp9ADBJacEOAfpU2mm5cOzzdrkUyfAgFuLZkJ0hOhsQb7z9Mm4oPbMmCskYvfJz32\n",
       "KIFqd6meSCYBobU2MtGGkt/DPG33rR8tpuNtVcsn+Cez+/Mwaf0fm5w7EYcgVWNtUaKNxNS6snna\n",
       "7ls/WkS1wZoSE9m3tx6bRc7tqJ5MbQ6B7z5WWMvAn6ONozblXaftvvWjtYXTIrWPb37j+MhLiQWy\n",
       "XC8UCaGxXiHltvNUFoXv5Lbb1o9aqxh0jRu5/APnCWp/EfMsGI6v05Yh1NZEJNpCWZjO8GteVL61\n",
       "PlgTMltzW05sKHi7b1AfDlZNJN4Moba2Oquk2vil1S3abls/akjXOscxpCyz5VUKTVWZDkK96Onl\n",
       "O21kd0Eh79F217psvfvN2bDYiaVMNtTnb1HVS+hGADHZSsR2EdrkwBNtDIUfg7PVQhH31adtaN3T\n",
       "dlYQVJzpq0Ki9ryvlG08eQ23O1WO1Pvxm0pITNTPPkLjkWcpOjKTdxXVSjxukRDuYy88lbRy0O4O\n",
       "rDNtF4CkQA4KC3WJtuMofGtO66tMOEJ93Jds+6eq9o0Jr+8iNOQWtGHbS+mEnPXDXcMxg5FK6Ftn\n",
       "2i4COe53vGu0IRZBNjbwtpM2LbI9ZXE30ax1EVpv47m4WoPeyjSYhSIFkbG4itauswarWKXtIpAE\n",
       "TmsVmdNWWC9UHQ8q8zaqH6Ry8/eH2rmwuZzbBghtbmM5bQof7VemwWS+IWC9vifQFqwX6cKZR884\n",
       "tV0Cwgw3SiK7S7Qmwq9f7hvODs1Uro6CmbDHpvFRXkt8uN6BDxBeVlIv8Q7aMw1Gsyd1saVeSPlg\n",
       "7dtpp0kqbZeAQIJ8QVtpffroQZuuGoPQP4Uew7OHTR0SZKIp6iM0Mz5dTkBQcKaowWDdz1z4U1Au\n",
       "Kzny5GgCEqx9polyN2i7BMQ55S9oK6yDjx5BuuH+qS/8iEOJrOIM2RLe0IlK2kVoAhwNBkdRg/F0\n",
       "VBRz2BP6m8GR9BEmINB7arsM6CwJeT8mOtY+SH//EXuQ9ktCKAVe+Izzt/l4m51r0rJURA2WGli1\n",
       "uy41b+dt2icn6iLRD12itktATBG/f9Xv26J1PiFYvNChaDgBgXFUkY9PsvIJSOn9SYMxEfoPhJwH\n",
       "ixW9pY0SwLsx96UvaLsI5Guli1jC+0EarUvR4dpd0qTELIOOcvgXjGQAXZjuSuXjhN6b7uKLQP29\n",
       "YftWleIqCbbIn5//xRdOXzUUp1clqpg+kHo8OZDf9vOsff27hMuwXdrwhRKIv3XkUkX9M9o+8J70\n",
       "vj3Qb6YtZFhrjIa/96Ej5CJStWsAAAAASUVORK5CYII=\n",
       "\" style=\"display:inline;vertical-align:middle;\" /></a><br>"
      ],
      "text/plain": [
       "<IPython.core.display.HTML object>"
      ]
     },
     "metadata": {},
     "output_type": "display_data"
    }
   ],
   "source": [
    "# Works for integers powers through repetition of a^b (or a^{-b}) and adding exponents.\n",
    "# Does not work for fractional powers.  Consider sqrt[(-1)^2] = 1 not (-1)^{2*(1/2)} = -1.\n",
    "int_exp_of_exp = Forall(\n",
    "    n,\n",
    "    Forall((a, b),\n",
    "           Equals(Exp(Exp(a, b), n), Exp(a, Mult(b, n))), \n",
    "           domain=Complex, conditions=[NotEquals(a, zero)]),\n",
    "    domain=Integer)"
   ]
  },
  {
   "cell_type": "code",
   "execution_count": 108,
   "metadata": {},
   "outputs": [
    {
     "data": {
      "text/html": [
       "<strong id=\"int_exp_of_neg_exp\"><a class=\"ProveItLink\" href=\"proofs/int_exp_of_neg_exp/thm_proof.ipynb\">int_exp_of_neg_exp</a> (conjecture without proof):<br></strong> <a class=\"ProveItLink\" href=\"../__pv_it/theorems/5543c13871f5118b9f97e9c9d9e1792f1354363f0/theorem_expr.ipynb\"><img src=\"data:image/png;base64,iVBORw0KGgoAAAANSUhEUgAAAWUAAAAmCAMAAAAr4Hr/AAAAOVBMVEX///8AAAAAAAAAAAAAAAAA\n",
       "AAAAAAAAAAAAAAAAAAAAAAAAAAAAAAAAAAAAAAAAAAAAAAAAAAAAAAACXHtMAAAAEnRSTlMAq1Rm\n",
       "mUTNIjK7EInv3Xbt5cmRiLwgAAAACXBIWXMAAA7EAAAOxAGVKw4bAAAE90lEQVRo3t1bi7ajKBCU\n",
       "l7yU3fX/P3YBFRoVRMxNTDgz98wk6VLLprqr4+265oUnu0j3yUVx98ClehXP0JGkboBh9OnLoah7\n",
       "5BJjwuvw1SyTvnvoIuhnWBa3zv5vl8S/wnKvP3RgzDNvmCjNkNlvZhnXFRXRy1fLAcui0sOS8c0s\n",
       "j5WpjF6c8grlUVl4lU/8F1gWtf3RIF7c2LACauzhpP4FlhHcsrx0N4xBKn6EUCKMoTf2EETdIupQ\n",
       "9cjwCyxDP2QK5sTY3tVRwObSpAgbbOTAW4/Le4i6RcQ0SgYGLEeqMGlhuT3+pmBEnnBJeSVZGmvj\n",
       "T48r4/7TbseYBKhKbxBZ3GEjBSzPMuM1hbew3B5/r9BPwNBu74BcF58FdC74i2Yim9RsuHRHId58\n",
       "1Quq8BkMEEVkmfaAZbEmI5dNitEef0+WI7W0uIfc3RjwrJ+hGlLatdbEmceImiJGxejMBHV5LYsa\n",
       "N7HcHn9rDVGpynlpBZRIUIW4u/hR4ObOY9ygJojGgH5eAJbJkgqXhwILy83x94pf0GJcPrCg4cp7\n",
       "d6bMnbXR7TXEyQZETRAlB5UDwx5jGN0adCPLzfEvajHoemCOtOGmEKOvNUUZPFa4UAVUU4VT9CxT\n",
       "n9lStbLcGr/xpEcnnWcg9kn9cjHMVSJZah4yMzw6ghVvRBaP5qt88tZkIMscrT8yhWaQmto/OZaz\n",
       "8Udm30iKYIaUSqb27YvWRh80coHlES/zGeIZK6XFlc6igKdVYcJxIGqzK3FpqNn+SgyS0r48cgds\n",
       "VNaVZOKB2V+hlESuGQLuU5Z2rD9zk3Sha6JN4XjD/C86nQ43xHRlkxXwVNXem2jCMjZHtYvSpUba\n",
       "eyowJ3nvdxwPzH6AsjfLI1axjHjAmHg+lxeWB+m1kJUMxZVcrsA7Kx0py5YiYraW3JBEPWnJYYd4\n",
       "a4aI0XwzQghQigi2mTtAlpPgpcpwL4wDPlMM5VWQFLMVj/W6XIN3xrJJWdZ4bnqBJYfVsiP8qL2M\n",
       "LK/xnbLqEr3vYvYjFOa7ATgsymsw9T7rH/uXLKO3keyqX3hFmpkVPHsVnK9N5IJvqsGrbYMWlvnS\n",
       "4wNLzsB12W2ui9OiNd45IOs6NyOECEUUUXmW0+BlA8wsD2ZHgtn0Z45sPNJS00KvNJsVeCeNYNov\n",
       "u3u2pmqw5KSfnbv7pPZVVan8TG6NdxppEJRla/YjlBBM5FlOgtcNMCvGtPOVQ7h6MeuAQkYLjkzB\n",
       "041XRLYC72yexXKTz2DJRbzvDAty1L/sJ5/K7XdJ1vuxmH0AtVQ/UIzlQbBTjH//k14xMtWvA03i\n",
       "WEkEH9/qm+I3ZluWgSWPLkP7XcPGivny4JSVWVlwI8Fg9iMU175v14f9cgiGMyg/GWD7I9HYL5DK\n",
       "TU3f+4SOHrsMy8CSc7k2cgjZzSN7VMEyowT7cOG6gtXsByjXRlj5oOJQMUJw6iStK6HqYPKp0snC\n",
       "eSq/dWZozwrlWE62v3Z7lp077My7dVDHl45NXQ+wnx6cTHk+Mmn5u2+kWCXyMUEV8z0JdIKb88+b\n",
       "N5PMYi35O5ZrNfCQZVzRDJChe/TSMVM+/+1qc4bdMr9vWMCufvNTL7p/MskGbLWvfk7u1Y+z/FUq\n",
       "fzfL5MHJbOC5fffzyz15Ksk8earmu1l2Q7xHLjUmc5d7LH/890p4/8znxGVk5fbvlTxhZz6yAKpd\n",
       "j/k/ClYr2vLiImAAAAAASUVORK5CYII=\n",
       "\" style=\"display:inline;vertical-align:middle;\" /></a><br>"
      ],
      "text/plain": [
       "<IPython.core.display.HTML object>"
      ]
     },
     "metadata": {},
     "output_type": "display_data"
    }
   ],
   "source": [
    "int_exp_of_neg_exp = Forall(\n",
    "    n,\n",
    "    Forall((a, b),\n",
    "           Equals(Exp(Exp(a, Neg(b)), n), Exp(a, Neg(Mult(b, n)))),\n",
    "           domain=Complex, conditions=[NotEquals(a, zero)]),\n",
    "    domain=Integer)"
   ]
  },
  {
   "cell_type": "code",
   "execution_count": 109,
   "metadata": {},
   "outputs": [
    {
     "data": {
      "text/html": [
       "<strong id=\"neg_int_exp_of_exp\"><a class=\"ProveItLink\" href=\"proofs/neg_int_exp_of_exp/thm_proof.ipynb\">neg_int_exp_of_exp</a> (conjecture without proof):<br></strong> <a class=\"ProveItLink\" href=\"../__pv_it/theorems/cbacb8b00650559b8518054fe2a6e1762cf59c0d0/theorem_expr.ipynb\"><img src=\"data:image/png;base64,iVBORw0KGgoAAAANSUhEUgAAAWUAAAAmCAMAAAAr4Hr/AAAAOVBMVEX///8AAAAAAAAAAAAAAAAA\n",
       "AAAAAAAAAAAAAAAAAAAAAAAAAAAAAAAAAAAAAAAAAAAAAAAAAAAAAAACXHtMAAAAEnRSTlMAq1Rm\n",
       "mUTNIjK7EInv3Xbt5cmRiLwgAAAACXBIWXMAAA7EAAAOxAGVKw4bAAAE9klEQVRo3t1bi5ajKhCU\n",
       "lzxl7/X/P3YBBRqErMHNaoYzM2eOSTdYNNVdHTNNwwOvbpDpzkHx9MChZpVX6EFSF5xhdPftUDQ9\n",
       "coilwNV8Ncpknh46CPoxKItLq//skPinoDzrmybGvPOCzdQMkf1mlHE3qYhZfpQOWHcK2kwZ34zy\n",
       "0g9l9MkoV6g/BUtX+cp/AsriRX1kxCcLG/ZiilzDSf0TUEbwyPJqA6xF6nA5HnhKhLV0/AwVU1QO\n",
       "dcp6xPwElKEesqU4sa5cDXfNbOPAE2acqeGD8/K5mKJyiGmmDAxQzlBhMoLyuP1Fwsgw4YojJYm1\n",
       "tD0uiSvrXxrWY0yCKZSuHLJ8whYKUN5oJnAKH0F53P5aol+BoG3Q8p7jN54UMg6/ROQinJl3dhSa\n",
       "b3e9TyFM5VBklOkMUBYxGLkcYoxx+2u0nKGldcD6DTB458x2bqR0GsyQG45gisJhZozJrpCXY1rU\n",
       "eAjlcftLw2SmOoSl40wiu5mH+7tfBB6tQ5Z6CujQWlDPC7AGsofC202BHeVh+2vJL3ExPkwsaL7Z\n",
       "+cDMzC/b6uEkElgHTgEdSg4yB4Y7bRY/jB5Eedj+L5UYNE7Mkba8rir0eCHU9AeVR6OAAayp0hID\n",
       "yjREtlSjKI/aV5q0teg+ArlOitHKfCaSde1wom9HFzDyprT9+ff3s3zx0mohyhzFP51EY6Sm7qeH\n",
       "cte+JfatpAhGyKuUqUP5orXVjUIuobzgvT9DAmL1Is1gJHf8hRWpFx2OBqltucGHoWbHO7FISnd5\n",
       "4d6xVV1V0rEHYj+6UhL5YgioT/nqxIaV26IKjYG2pvnM9h9dm80NsY4K6bXfLFGnzt5KC5SxbeUu\n",
       "Svcc6fZUYE762q9tD8R+cuU2K3g8hTLiycfK+7G8o2xk4MJ6s9loLHf8vZM6SpQdRMTWkryQTbTF\n",
       "n1lhJ3snhojVvOonJFeKCFb1HSDKhfGeZXggRoP/xBgqsCA5RC5exni55+8dlG2JssZb0QskOcyW\n",
       "E+Gt6jKjHO0n5dgla99d7GdXmB8a4DApR2MadNYv90v21ttCDtkvXZF2QwVvWqWagQxqpZ6/kTJo\n",
       "R5nvNT6Q5Azclzvm+mW3KNp7BeRUZ9VPyK6IIqqPcmm8H4ANZWMPINiqVvNg4+Vw6Ohogdnx90Yh\n",
       "WNbLfs9iqCZJTuZNuft36pBVler35KK950iLqn5CdiUEE32UC+N4ADbGWA+60qS7FxsnKGS14MhW\n",
       "EyyjxNrx904/i/X0Z5LkIscAw4K06pdj51P58y5J3I9d7ANXe/YDyVg2jD1j/Pe/DIzRyX4TKBKX\n",
       "F0DwZbpr5E/MapSBJM8qQ4dTw5YT/WXjmZU5WvAtwST2syuuQ92um/VyMoY9qNAZYMeZaK4dyItD\n",
       "Te97KkcvUwdlIMm5jIUcQu7wyBmdQJlRgoO58FVBFPvJlS8jHH1Q0WSMZFwqSadKqGp0PlXZWWiH\n",
       "srwN5EmiqduxgnWVP7Pszwq78+o5V20YsD1XAxy7B43Ozk0jV0Gf+0SKnfTcBuhEf08CnuCdTbE3\n",
       "gsxyLvkcymf5sIkyPlEYEDM9eugcKfd/ujocbZfE7z8YQK5+81Mven4yyBYcta9+Tu6jz7b8xVD+\n",
       "bpTJg4PZwrV99/PLM3kqyLx4qOa7UfZNvEcOtRR9l2so3/69Ej4/8zlxmVG5/L2SJ5zMRyZAdagx\n",
       "fwMiHSva/tdQJwAAAABJRU5ErkJggg==\n",
       "\" style=\"display:inline;vertical-align:middle;\" /></a><br>"
      ],
      "text/plain": [
       "<IPython.core.display.HTML object>"
      ]
     },
     "metadata": {},
     "output_type": "display_data"
    }
   ],
   "source": [
    "neg_int_exp_of_exp = Forall(\n",
    "    n,\n",
    "    Forall((a, b),\n",
    "           Equals(Exp(Exp(a, b), Neg(n)), Exp(a, Neg(Mult(b, n)))),\n",
    "           domain=Complex, conditions=[NotEquals(a, zero)]),\n",
    "    domain=Integer)"
   ]
  },
  {
   "cell_type": "code",
   "execution_count": 110,
   "metadata": {},
   "outputs": [
    {
     "data": {
      "text/html": [
       "<strong id=\"neg_int_exp_of_neg_exp\"><a class=\"ProveItLink\" href=\"proofs/neg_int_exp_of_neg_exp/thm_proof.ipynb\">neg_int_exp_of_neg_exp</a> (conjecture without proof):<br></strong> <a class=\"ProveItLink\" href=\"../__pv_it/theorems/be7a04289ce10cfb5ebd757b918fc18add79abe70/theorem_expr.ipynb\"><img src=\"data:image/png;base64,iVBORw0KGgoAAAANSUhEUgAAAVAAAAAaCAMAAADWgvRVAAAAOVBMVEX///8AAAAAAAAAAAAAAAAA\n",
       "AAAAAAAAAAAAAAAAAAAAAAAAAAAAAAAAAAAAAAAAAAAAAAAAAAAAAAACXHtMAAAAEnRSTlMAq1Rm\n",
       "mUTNIjK7EInv3Xbt5cmRiLwgAAAACXBIWXMAAA7EAAAOxAGVKw4bAAAEJUlEQVRo3t1ZiZajIBCU\n",
       "S25m1///2KVVEBEQyWSO5c31JulCir6qM03/8RKz/MFwl4WstfzbyCKs5xH15564CEfDH84Tgl+A\n",
       "n7/T+TDteZcRn7ppGY4nfkvILyVUHZs3gkQsziFVeQuhRDhHn4T8DpdbE/f7CZXxwV0jyJxVExya\n",
       "ucKVEGY8iHmQtALcxdqqhFB0RBF5Tui49UuLm7itvqGdwGO668Nx5eCVRT27RQ+ndG7tUEIojcl9\n",
       "5s8JHbd+aVF9Df09LGVYfMt5dD3srC4vTsj7LTMPU6iHEya3VvFaPKECFXJrN6Hj1i+tJdwjbcbF\n",
       "AizgLeVV+KFTf9064HLrmSQ5dN7Z1XiA0HHrlxrC6BFtB/O5jewXbS6hzYEfK3A/oQlcZk1lQmgo\n",
       "TI9rzJyWtS+tUM6GDNreVlAXytF8cWUGweX0g9SfwGXWzqRV3lhYRg8ROmz9UoM957mUI+24a5ho\n",
       "NF4B77A9vSFkVkLp6rZSjRE6ap2pjGKzWS23MvM7BnVCtio2uQ8hapN18H+PDTlIJIRyFH5U/MFI\n",
       "Tf1XmdCqdUn5OknR6bZbpUyvlUdrd/H+OWy3Kz1lVsewLWVlBv2zAxsyKksbe3AvfZXGwiEp/b9B\n",
       "sGvlVKWxr1gnyjcAKYk8FJa6i9DtkkCFsPxdNlyu2faly/pf3fSh0Q7tHhv6phOh2JWKCqXBjf3j\n",
       "YE5qSqlsnSjfCORvZcXrIxTxCLLwiofuhBqZHqqc5UY9tAMbPFScpOcc5GiiUE/igpaS3Rx/BzGr\n",
       "NHGaZ8o3AikiWK6+U0JP1hPT25OqtPkrh7xaYH/S9EFsx3JoDzaclZ8I1XhrJxOFqtKjEl7q1gKh\n",
       "wXpSPjlE6KB8DyDM8UVNJbtEa7pqmQ//TfaO02bhgYKZdNuh8Vb6cV2tkUHh0YOdV3mQxijXtyw5\n",
       "g49U3RiOBGsQDl6XZcr3ACKKqAahZ+vdrzdCTda0xLZvb4aAV2xpq2ego31dB7Y/msmmTSg4YFSo\n",
       "ZN5EL9yP9tnP06pq06ZgDRntmBPsyvcAEoKJBqEn6+DXW8gvuOIQYgtkhZwWHLmG6LFskNAO7DAw\n",
       "KI3vokIVx40yLMhaUm7GdwriVZJA/K58E6C9KKX9pSxYQ8j/+SvXkC8XpVCMQPx1Nud2euc6afmK\n",
       "vj1adb26O7O381ADSZD5uIYBV1S+BxDXFJjR5T40WqczlwnEHkPVACadA2L61uHiadpU07dchk4A\n",
       "Ie/1cka3hDJK8GosoCwH5RuBoI77+KeiHPLR+iy8fGNPL6k3ydRdU8M3z8JIOg+t064h6tid9Kx0\n",
       "KZ1A5YNid6vmcZZsbyrLe4e1x2eV7/oIhPVKe/n4qvLBMnf3u7j38vkFnyl1wxYJxR0VGX/peKs7\n",
       "n7xG6Cd8Lj9uT9hPITSmeGetIf8A2I8kpGGHOEwAAAAASUVORK5CYII=\n",
       "\" style=\"display:inline;vertical-align:middle;\" /></a><br>"
      ],
      "text/plain": [
       "<IPython.core.display.HTML object>"
      ]
     },
     "metadata": {},
     "output_type": "display_data"
    }
   ],
   "source": [
    "neg_int_exp_of_neg_exp = Forall(\n",
    "    n,\n",
    "    Forall((a, b),\n",
    "           Equals(Exp(Exp(a, Neg(b)), Neg(n)), Exp(a, Mult(b, n))),\n",
    "           domain=Complex, conditions=[NotEquals(a, zero)]),\n",
    "    domain=Integer)"
   ]
  },
  {
   "cell_type": "code",
   "execution_count": 111,
   "metadata": {},
   "outputs": [
    {
     "data": {
      "text/html": [
       "<strong id=\"diff_square_comm\"><a class=\"ProveItLink\" href=\"proofs/diff_square_comm/thm_proof.ipynb\">diff_square_comm</a> (conjecture without proof):<br></strong> <a class=\"ProveItLink\" href=\"../__pv_it/theorems/fb5e9e10be3edb9cee778bc49ee28d08b32d313b0/theorem_expr.ipynb\"><img src=\"data:image/png;base64,iVBORw0KGgoAAAANSUhEUgAAAQAAAAAmBAMAAADZ3ljKAAAAMFBMVEX///8AAAAAAAAAAAAAAAAA\n",
       "AAAAAAAAAAAAAAAAAAAAAAAAAAAAAAAAAAAAAAAAAAAv3aB7AAAAD3RSTlMAq1RmmUTNIjK7EInv\n",
       "3XZ/CtNrAAAACXBIWXMAAA7EAAAOxAGVKw4bAAAD7UlEQVRYw7VYXUgUURQ+7o+zOzu7GoEPCctA\n",
       "oA9q7ZOghQ79EZm14EsPQgsKoRCsEJQQukGRUKGVUGtgEz2J2mZJBZHYj9gP9iNFYAgrQQW9iLUo\n",
       "BW733t2Z7uz87N1oDnhd55xz57vnnO+cuwIwyQ6wQfhOZlNXqR0A4ILMallry/vByXouz8t8FqMT\n",
       "mwoM/8MN6PiXGK2Lb+ezkKC5MAAucL0FGGPMwda8dinojRUEoCTMrbHX1qe8FvWFAnDKGAC3ylYC\n",
       "vxiMHhVagT6UArjGZFo0QH5FTdQcAbmgV1g6ZDi4nS1fIbwGRBO1O4mWbn2ZWDtwQ/hjrwikDDZb\n",
       "AugnR6kyUo3MoeUz2k7idOetyqr1ghzgGBxHq1+C3fjJEUsAjYS4EUNdO2apDN19p3NDQBzajWkt\n",
       "A3e1bx9mYwRO4XAMWAIoI8QNGepWcEVL8Cad1jE9lFUbUEACIZ1exmlaxmjAJ1oCeIwXwTidhCCG\n",
       "jVJQ1XpRHRxr4ERAi62L8DdeKsy5BG1GqgpVrRfVwYNCNLe4+MoawA+8NOFUlX9N5mQzuISiN2Hk\n",
       "1aSqaema6gHKgUd77wUYsnw/t6KAbo16c2Ka6ORX6WHZvIjlneKQUdMpm4XrMu2wjjABp3ZkT4dK\n",
       "4sFgDxUmgHkE9ymZIDlT4jVAtRHueVVNyViITK1qOr1e2RdW/y7HL1yKh/mLUYfSJt0pvM6gul4G\n",
       "P56L/FFyTtz895At+o0AzKhqyv5gZrD8dfiJCjFJ1eBz9LMLWfpuAWzTRADtJwxAIpw7ptxI22oG\n",
       "IKOm5AXw+DitNACINOAbRcN9/K71JTmA+XvzjNKyqRQkkpmepGkDLlQVNUY1MK+qqea0Dk5M/xq6\n",
       "BuAOuhvyHz24WgILAWkEP6+spIqQsGAYARChzKHtuGs4q1BnFIFhVU0BWIGiSCXtgPc+iWrQJXmm\n",
       "0UdvyBlpIfO9XgM7wxxv0vHepX3LRhjMMk4nE6pag6pGkigHwrAilHMhHMBUEGKu0tp4PC72HaK8\n",
       "npHpiZAEH3R90254YxKf8IPhlVdV0/bfzwZjlIMnpfA56q1H/CwBQTxHOhwqQl6xItz0m994OMN+\n",
       "x+TgUEpEiPa3yKPgl+sQLbHJZBSmFKv92QFiesEMmUyc/A5qr3bv3HIXzoueA0k0KMk9u2NQPUEj\n",
       "mbRXTPfrNn7M4uDV3kozfXs0HteyPUGej5juZ/ImFocSTfDcJrdvLwkmlzTZLmBy92NxOKzxdZpd\n",
       "oafBLrnH9jUqZRuAJ/8T5z9IgDG2QswmAILI+D0qYhOAL6yGbfa8n5tltRyP2gJgXGSG2mkLgMvs\n",
       "pids+ScVbrh/AGndCP3G8NhuAAAAAElFTkSuQmCC\n",
       "\" style=\"display:inline;vertical-align:middle;\" /></a><br>"
      ],
      "text/plain": [
       "<IPython.core.display.HTML object>"
      ]
     },
     "metadata": {},
     "output_type": "display_data"
    }
   ],
   "source": [
    "diff_square_comm = Forall(\n",
    "    [a,b],\n",
    "    Equals(Exp(subtract(a,b),two),Exp(subtract(b,a),two)),\n",
    "    domain = Complex)"
   ]
  },
  {
   "cell_type": "code",
   "execution_count": 112,
   "metadata": {},
   "outputs": [
    {
     "data": {
      "text/html": [
       "<strong id=\"sqrt_of_prod\"><a class=\"ProveItLink\" href=\"proofs/sqrt_of_prod/thm_proof.ipynb\">sqrt_of_prod</a> (conjecture without proof):<br></strong> <a class=\"ProveItLink\" href=\"../__pv_it/theorems/1c4bc084bc4b976d3e83427a60419813f7157cc70/theorem_expr.ipynb\"><img src=\"data:image/png;base64,iVBORw0KGgoAAAANSUhEUgAAArsAAAAmBAMAAAA2Kk4FAAAAMFBMVEX///8AAAAAAAAAAAAAAAAA\n",
       "AAAAAAAAAAAAAAAAAAAAAAAAAAAAAAAAAAAAAAAAAAAv3aB7AAAAD3RSTlMAq1RmmUTNIjK7EInv\n",
       "3XZ/CtNrAAAACXBIWXMAAA7EAAAOxAGVKw4bAAAIgElEQVRo3sVba2wUVRQ+3Udndna3XX5IJCZ1\n",
       "1SgYKBQFokhwkWqISFiFH0aJ3cQfBPzBkBgU5bGaGCEWWl6RhQQGiSTyauWlxkgqYIoak9pUIWjj\n",
       "IgQ0IFaggpBQ72tm75253dl2t7M36ezO9Jt7zvnm3HPPOdMCuA9fX18dlGA8Bd6MQBzKNXYZ+Kgt\n",
       "JGr09RmF3OOLlcbqmEc2Tisbu6CeIR9rKK8RL+md5JGJ/lT56IXxVIWY5/Sq33lkYaNRRnpDNDCt\n",
       "95zeylaPLHytjOyCRp1or+E1veN4WRV9JRs9dm1v8WfueIB7naBCDKqQKjON22e8pPcX/uSdofOf\n",
       "KL9K1AJUVwdpntyGlTo+Kjc8plcVnGrz0NHbxNsUShcQLtODEyS3IUSf7laP6a1o5rnGJ3rxkyqS\n",
       "ayP4k9U2OTKZq20TFaiXwwY6h7+NfEzxmN5qvjKpQA5TVYLkP5h1XrvGn9xtk/OKZBKEgd9dMDJ/\n",
       "sdtAlVGu0hgRp/QS6h5wo7eCfBZTuzXxD3oJ+hldikhwzulUN3iHStnkVDlNwBhfa36MbDhtoMp0\n",
       "0R0gQel9Gp/Md6M3kMSpVTHL+Un+5C6UwZQk+a90LD8/nxlUJO1yFjq9EJm2ywUjG04bqDLP0NQh\n",
       "RenF+5/S7EYv2V2XFkPEcJvDBErSxvAnHGylRA+zyZkg9cLpLhhZ2HfaQJX5my6BHkovpjwcd429\n",
       "+IkeKIaIr209l0hp8gRHKRiJiU0kmxznboMbTW0umH76RhGZMuNIIuK7SSfyoydQ6b61PYo+i1rO\n",
       "t/m+Evp5qDT0vurYQrkwihevTU6lfdFgjC+VHyMbMhuIMk3EV9Wr7Dn90N39vTu9ke7uX4uqavkN\n",
       "HS+DmXiB3XPRtvUvPrrCfSoe9Gm+DAWvypniHWF7FoQxgdb8GNmQ2UCUaSEKaNcYvTMAtrjTG0hD\n",
       "qJhWCctXqMN0sCc9Tw/dEhOtdtjuKkUAkTbcrG48fsxlRGzsY3K4OxzttH3MXfNhZL0FmQ1EmWrK\n",
       "9h1G72JQZE+rVaQXYRYXVbRRejXDzHw60clxCHQIqL11MMt1KgE0xpEAUnp3m5lSp3iHjwuzFiYa\n",
       "7xcjY7ZfG8Zw0ek2ozdkhJO8m3UdhimIz4StrNgChwfMadXGGnPBBXtpsxBPG8XfvkErogc3CDTy\n",
       "zLV/8XE2bk1oXw4zrCviaEmZIItNO6SBGKOewMcOKofdsRPfrPZYU+cwkaQgmsNIxMts4JWppsxd\n",
       "Z/T6srmdbe2ITXBf2AgYTnrHDmxnU89mkto63bdV8F7fw1jzK0y1SDO0JGHtX7ls/FvQeiHA/KFL\n",
       "0q5JmCBzzJN77/3b8dPNMnrJHeoVPGuwzZo6h8H0cqI5jES8zAZeGRu9kJpqJRszcAWXTYTBSW+l\n",
       "PzsQeutRehLeD/CEGByC15jD4IXVkiXFRm1u2d3BVUF1UrmZb23e4UuHWnvsZcGhoY55WKd1hw/L\n",
       "9XHRyMKg4MCL9nXkj/0SGzhlbLEXDqCc1j997XlW1Y16cEUYDtV31ScFesMPIax28JJZue2Z+plT\n",
       "snWRhKad7+V6JQrLHLqRLLKYtiHV4jDcp/P0XkVVwUi/kZ9eCiIKAzzuaAjSzCHawR7tNvMOypqf\n",
       "q6AsTCgriPbnr7IkNkx47ErCVIalLmbmAMsQezvn1UV0jUw7KvzRyxLvVXBdsE83WwfaKaG4t1/8\n",
       "BB9GjhR8jtbGSYgaLIkJZX1dAd57kb61CSQ4bLkPiYAk5LWkBBBRmOVGYnykzuNH8eOMmSzRaQm9\n",
       "AW7LtjA4E+NE5zAy8RIbtInHod1UhqYuipn3ktbPWxeg2ggS3kdB4k8JvaSxVA+NqDbGNwUSahu8\n",
       "cD4pVjL4Ihlz8GHyZO53J1ha2sz6IGuQ8jWfL/5DoHfHpfdr0taLVjMCkpAXTQggojA6+clRtTHc\n",
       "f6xPs8aaltAb5TU2MWqHIJrDSMRLbFD2p+CWqUwT3Vt7hfKvBsVl/4JMZj2id0+ljF4ay8+CWmuQ\n",
       "3aAqBm2a+GaFXKQZYCaTia96kfvdAvYEbrCOSTQtRCwhR95SQHCvIRuJ4giTlWxlz9ZphyUnh9C7\n",
       "nMeaGDgtiF7uVg87bKjI4u2QKkNfepFXUjl6T0K9qrZS7w2Odea9dK3cgA276cJo0UOTDV0VM0Ry\n",
       "ccIc9Gg/IGsObW2a+bvnmP7XgwlbM8ZB7+vwhju9WGFZYyjAVFqZmGuTQ+gVmjcmJtfEIaKnu5VI\n",
       "Dhsi6UAizZT5ilZ+HTy9Sg+cHkWrt4mAXLSfdnq72jsZ07sHInrTHANCSfRVazUP5OLY5ijQCk85\n",
       "pMNRK2AxUdvNtuaH/dGrbF71rHsVSBSWNPH8rIYK9cy3ycH0ir1BCxPSOdEu/UOZDSsh+m6aKbOO\n",
       "zhjj6Q3G4FIdLEXOrv6s0+a5jN65jyAUorcxHpw+9iApqBvjajs06vhAL1akl2A9SSKxYKO1NFtY\n",
       "sdowDLjdD423Fx21RU/Z21xHdkQUznHHJxYU8E9MlKMcuZ21eLRhtGZOdMi1re2w4XmoOmgqcy3X\n",
       "+rC13rQvMpv66TnwyTW6iXIVNrLmVzzotyicewkxm8mI216ILaSomXAoA8qj+ykLJUxsZJ+/6RI5\n",
       "F0WsiYEV/WMkQ24DVSZIf9egw+DetamXD0CQ3reor8P8iiem33bAaFlDj73iM/8+aOjGFPY5vgDs\n",
       "+MGJyGdDmGZwRwAG/yrTL/vqz98I6QVvRksSyjkidA0fK4bewYwjHtkXTpWV3ss0ULR5TW8k7ZGB\n",
       "J8tK7zHOh72k1++VV00qJ7tV1MoL4DW9ztdiQzQq68pI7zL6J2bt3tO7T/fGQu1U+djVOqmp8YHQ\n",
       "W5r/rVAWemTjEqNs9IYoURtIeV7g/1aUarzpkRwlXTZ6P6Y+bOWG/wOc7v79wKrm8QAAAABJRU5E\n",
       "rkJggg==\n",
       "\" style=\"display:inline;vertical-align:middle;\" /></a><br>"
      ],
      "text/plain": [
       "<IPython.core.display.HTML object>"
      ]
     },
     "metadata": {},
     "output_type": "display_data"
    }
   ],
   "source": [
    "sqrt_of_prod = Forall(\n",
    "    n,\n",
    "    Forall(ExprRange(k, IndexedVar(a, k), one, n),\n",
    "           Equals(sqrt(Mult(a_1_to_n)), \n",
    "                  Mult(ExprRange(k, sqrt(IndexedVar(a, k)), one, n))),\n",
    "           domain = Complex),\n",
    "    domain = NaturalPos)"
   ]
  },
  {
   "cell_type": "code",
   "execution_count": 113,
   "metadata": {},
   "outputs": [
    {
     "data": {
      "text/html": [
       "<strong id=\"sqrt_times_itself\"><a class=\"ProveItLink\" href=\"proofs/sqrt_times_itself/thm_proof.ipynb\">sqrt_times_itself</a> (conjecture without proof):<br></strong> <a class=\"ProveItLink\" href=\"../__pv_it/theorems/e0556c616bcc490bc3658205868a3c9e18a17d940/theorem_expr.ipynb\"><img src=\"data:image/png;base64,iVBORw0KGgoAAAANSUhEUgAAAPwAAAAZBAMAAADnDF5lAAAAMFBMVEX///8AAAAAAAAAAAAAAAAA\n",
       "AAAAAAAAAAAAAAAAAAAAAAAAAAAAAAAAAAAAAAAAAAAv3aB7AAAAD3RSTlMAq1RmmUTNIjK7EInv\n",
       "3XZ/CtNrAAAACXBIWXMAAA7EAAAOxAGVKw4bAAADEUlEQVRIx61WTWgTQRR++d3NbrqJPwj1FLBX\n",
       "MQoqeKgp2FYKrVFBkB6sXgSREi9CoWg8V2hQiq5C2EMRNIihQkUPJTcFURSEghBIoCqUGvSgDTmo\n",
       "M5PMzM5mdsMG3+Hb5Xtv3zcz++bNAPRnhxn0tIxvR08LZigQW/yL7YcjqMPOuSWZ61v+EQNi96VB\n",
       "HTZUc0ni6uhpdxlgUwuyGMZ+dsuCHEn83OdTXalQIBbIyoIYW3dLgxyj+HnZp3y4TIHYdWkQY59Z\n",
       "LmmQ4xaeR8GnfCJLgdioNIix0bRLGuSIoqHpKZ/yixYFbNqMLIazYbfZIUcIDS3qt/K+MyBZpKPn\n",
       "rFFxSYMd76rVt37l9zDA9hRNtbF3YUWM4Wyk1bUy3HES4IF09B7yJgNsz3FwvTYpxnBWbRJisort\n",
       "Yzs3c1wDJWn7av/qyCx5ifENvEQe+hor9YsUgrj8PgAchePWLt4TRVb55Ry+zRGzdFrCat3MGjq8\n",
       "KIvyULqDcRjOU+IThS1UXwZqXnkYa6/qb+hmtS55myNYY5V3Io8+M+BYzSEPBm5wbyCRc8xeLaHl\n",
       "GyDUez4wJ6s0u38fd8wMI2iMb+QMvD+R/GaGyxsbN8Zxey6C0oJ4yrn42k+8Ksgi2/CEV5bIqtvO\n",
       "f293rFxBKrnBaOox0dOVYprLfwsULpHj4bXaggHaPwYZnMrhzq0tBSpQ5nMT2a7KFxzzqPJCUFTh\n",
       "LJEPPyzYSi8dq+XxBy+zSD5Oj6gtBjczQZQn2FyuRGy7X2RDzn0vOAI4P6B1OGKaZsow9DP2yif/\n",
       "WxnJ48VPUIULFoVYC7dNbao2dMiWX2TDSefsuxxqRYEFMnsjMm3Z5G9DDpQdebH04lkKkT9Dkr4g\n",
       "sl49v23z+kwYbUHy7+EVLz2lsgoZbTeRbcBpyYl3VXpaCqzXidfJ92VtExR8PTn3tbw8xmc/Nd2w\n",
       "NKvTdib4WlGAA0lZYoE96NY8HY6SafKLQ8yr6e9kEM1Jl9XOrrtlWfdQiPm463laf3c9W89HO8K8\n",
       "J26dMoXe1t9NV/lf9/wJD8c/mOH5BJBMWFsAAAAASUVORK5CYII=\n",
       "\" style=\"display:inline;vertical-align:middle;\" /></a><br>"
      ],
      "text/plain": [
       "<IPython.core.display.HTML object>"
      ]
     },
     "metadata": {},
     "output_type": "display_data"
    }
   ],
   "source": [
    "sqrt_times_itself = Forall(\n",
    "    x,\n",
    "    Equals(Mult(sqrt(x), sqrt(x)), x),\n",
    "    domain=Real,\n",
    "    conditions=[greater_eq(x, zero)])"
   ]
  },
  {
   "cell_type": "code",
   "execution_count": 114,
   "metadata": {},
   "outputs": [
    {
     "data": {
      "text/html": [
       "<strong id=\"nth_power_of_nth_root\"><a class=\"ProveItLink\" href=\"proofs/nth_power_of_nth_root/thm_proof.ipynb\">nth_power_of_nth_root</a> (conjecture without proof):<br></strong> <a class=\"ProveItLink\" href=\"../__pv_it/theorems/3b165fa6ec43d712182744e5247145c4178d8f530/theorem_expr.ipynb\"><img src=\"data:image/png;base64,iVBORw0KGgoAAAANSUhEUgAAARgAAAAZBAMAAAAYiyyuAAAAMFBMVEX///8AAAAAAAAAAAAAAAAA\n",
       "AAAAAAAAAAAAAAAAAAAAAAAAAAAAAAAAAAAAAAAAAAAv3aB7AAAAD3RSTlMAq1RmmUTNIjK7EInv\n",
       "3XZ/CtNrAAAACXBIWXMAAA7EAAAOxAGVKw4bAAAEGklEQVRIx7WXX2gcRRjAv7vdu/13dzmtiBUb\n",
       "IrYhEIiHSdGHEi8ktfVfPetTm2BS8yAVC5uXQkWbtY9qm5AS6vlQVg2iBmtsbaEI5SSUBEpLKEFE\n",
       "erAhwSDaIz4Z7qH1mz+3O5fdu9vY+MHMzczN7Pzmm2+++QagsewomrAJ2Q2bFhlTqng7TNehTX04\n",
       "mnWLXW+0A4zdJ7JWd4wyTvLOrYf5imRMlR3jSYBPWTNp6XqulA0e1P0/wZwlKm+hxYh1HNRx1vwm\n",
       "gL57FuaCByVtCpMm5acawESo/jNhWJQCZu18Clg+HMmxcioDyoUhKAePSqUpzF5SfrsBjEy+GA9l\n",
       "xvIMqoDr8nNozxyv/PEOasqJFYJH6WUK86FrP3VgVAJ+ItQuNSG3LOhwr2vNAAlLzlrBw4YpTBx3\n",
       "y2hpZDO4LLgYCmYMv5cQluwaXMKGUUieqgHzIoWRcBXxhgbcGdqO72JqFXbNXWc8A69D6lKNYX+x\n",
       "03SzWLzRECZRLN6ZCQXzKKaXvep3qJzS4x+jVo10YP8LS1//hMCDNoXZD/BZQKeZKhjZAs2ucpi1\n",
       "JM8NgMsl0nvJeRVA8jQrF6lQumyqWV7A3bUozAgoQczZKhjsMuI1aG5JnaQ/xjWX/Qgm5tej5Aji\n",
       "PM/C8/Y2rAYeJMmUyhG0lNEchdFsIyf6icXLsCe9EQaVdzkIBqYnmAM9VGlYxHSdmQGOSzkAFrxA\n",
       "uQNvBBVkqrHvGUzU8ez3zPZJeNKwZdsH0yHarya6K+Jx56HJFDRDYdTpdeL2iNwiWS0Xk3BIPmrx\n",
       "U9Lt7uV+4o2drAE/9i325USYuIRjUisn93kwvCadB6UMiRbfNul/8zsn9g98i4teCLQZGDR1XPuY\n",
       "yWAuohORes+sACyTP9t2nTR8NgNGK45YjYy/5cFUatKcWoZkxc9tx3SeFV8z4TdkmowUyHGQAj3r\n",
       "N7kngEzHTxO8j4RfDmQSpk67txlf9PthlJ8xy2iO5cHwmn41hzBM2dxh/MCKo9koQkTXpwqxFnZP\n",
       "+OXpj16Bg/i7h9/aEfzke79Dkx2jq2uD7B9+GHiM+npTtBlaU3ossk1NlW0iSzzNTatM3Lt+wNn5\n",
       "DLk1c0EwU6VoLxnaI4YQzTAA0tF8fgJhpuM+P8PlExaoaF5NeciqNuAEzplkPj92b6cw7Qd1feWw\n",
       "CDMPfao6wzQT6wiOZ5TCFaYwza3pj1CIEnp64daWuFrfFaOB3nos/Nbm86zBr23ME2MIu1QjuDrQ\n",
       "X7I9zZCabnOn95LrOMgJPscNIr0xsqwlUlqAiaXhzwycQPWqv5gslqoT6Wn1vvswOSP8bhQiIK1u\n",
       "NJQ0fWGnfjU/GSbs1BrFwIrja16tazIPEAMLd1Me5Vz16yDc7f5fXwfHNr6blC1/N9nk3TT7LxH/\n",
       "/sJUiYsGAAAAAElFTkSuQmCC\n",
       "\" style=\"display:inline;vertical-align:middle;\" /></a><br>"
      ],
      "text/plain": [
       "<IPython.core.display.HTML object>"
      ]
     },
     "metadata": {},
     "output_type": "display_data"
    }
   ],
   "source": [
    "nth_power_of_nth_root = Forall(\n",
    "    n, Forall(x, Equals(Exp(Exp(x, frac(one, n)), n), x),\n",
    "              condition=greater_eq(x, zero)),\n",
    "    domain=NaturalPos)"
   ]
  },
  {
   "cell_type": "code",
   "execution_count": 115,
   "metadata": {},
   "outputs": [
    {
     "data": {
      "text/html": [
       "<strong id=\"nth_root_of_nth_power\"><a class=\"ProveItLink\" href=\"proofs/nth_root_of_nth_power/thm_proof.ipynb\">nth_root_of_nth_power</a> (conjecture without proof):<br></strong> <a class=\"ProveItLink\" href=\"../__pv_it/theorems/1edba545a9f6128ff551398200c213782cf702630/theorem_expr.ipynb\"><img src=\"data:image/png;base64,iVBORw0KGgoAAAANSUhEUgAAASQAAAAmBAMAAACfaPtgAAAAMFBMVEX///8AAAAAAAAAAAAAAAAA\n",
       "AAAAAAAAAAAAAAAAAAAAAAAAAAAAAAAAAAAAAAAAAAAv3aB7AAAAD3RSTlMAq1RmmUTNIjK7EInv\n",
       "3XZ/CtNrAAAACXBIWXMAAA7EAAAOxAGVKw4bAAAEi0lEQVRYw7WYf4gUZRjHn92Z2Z2d2ds7CCJF\n",
       "bO0H3B/qbeKVknRjd6aQ5Sr+p+CCf4T+NYKExuFt/aeCZ8IR1x85lUUl6qYVyFGsP0A5URY9Q4qj\n",
       "ubqEyzhPQ64u6Hp/zDsz7+zOzuzIPLA777vzvLOfed/v87zPDECwdc3/BS3ZqxDBPjfw96b5uTDO\n",
       "S1q8uNgRBUn+iR5H40B6ESLZC/EhyaPRkDL52JBSFa779Hy9zTQap4zGhtRlcHMWXlhrY0P62ToK\n",
       "61ag+cqUQw8c0GNCklkUJ6egBnCwBTFVYkJKHGWtp9Il9IUaaff5tO9IoRoTUnuBtWq5bgNTwa/u\n",
       "85LpNzL9kCIR9T0bhBTCi9mgziKoI3kOEkW0gnwI/uY7dIwircOHt4KQQngx6+F6b+OtgnVWrprW\n",
       "UJIw/Ia+RpHexTN2NAgphBezJ+u2u142bd2X4AqSjOY39D5FwsxqPggphBezC1z6w1KqMq2cLsFc\n",
       "MwF3lclZAakxFSjvEF7M/nV38G0kS3YwmhLG2+krwzwFvj4+fi044oK9mHGFzClcGCB1K9MLD5+F\n",
       "bFnU0ER87R1yeuKLEUxzpkCRNgB82ODKFR6J99L8iWgkI/uKRVcK/ZEIE+YbMABt75WtSkEcJ0ZC\n",
       "WcstFms4f5gUaQ+kG21DGo/EezlCP1gkh5F7dvK2kOTLJDWhTxuagJegx3gCNkPuHPphqTdF6sJc\n",
       "Ak9Qe4UiZQy16L7LsW9hTUcdEu/lICnn8YwLpsR+kh7R4zPH0VcO33YWDSzTALck492CQKRya9co\n",
       "UtJ0dHtkwRAsUQ3RqENye7mRAKbQ/WXLMOuZJdiBfm8DCwnghjNie92SZE0OCUqv2BXqBpyjTU2F\n",
       "b/rG+orchkK8ptdP6g6S1VttwoABF71IbWjRXgZr4UCapeLCtsyrJdihK4ZLS3B2N5r53iOTVqrv\n",
       "fP6AWq8l4pXTF6TyNpLdW6MPGnCLLTyLOAGtICmnMyYoQ4mqEzCrPXP0ZXERqPb2iJH6Eemn2wtZ\n",
       "XSH/1Kl+sq0BEvYS4CPZWTjWOzkECIktjPIfG/aPtbmpHZD8+0RVsjPt694MeWgjbCEFk5WXIIHi\n",
       "8p270G5IZA/vBG2qAVKClGKznJZIby8qP9DCsfWCy6yxSae7mVwD5U3zuRX29W57kE5MJ3sJ72DR\n",
       "ndsXI9EJu4aHjyGkk6n6vGQJpZp2IZHeHlwQueQNu+wiUdtKG3c8mavWtES2ka5CnyxX6CxJy33q\n",
       "pX61JDpIpPfxeiIrU7Kz1ka7SJyxSoeVnse8gh/S9+4SLj0Ddzppfu4GmPBBEn//4Q8HifSsMBqZ\n",
       "tCuOHtaSHliYGZ273H7fzP++Gwnd5L0C7Ed6kX/UIRFUVTYrU87YMv7FQlF49w+ab498naCcHx4K\n",
       "Veg2Q8ponsdXgAPu8zndb6Q0+xi1t2uPG0am1xf1UUwtPQaS3sRbeRQVKZuP69Hyu6hIf8b2tJst\n",
       "R0S6GBuSUIpGlCvF935pZzSkfj0+pFN6FCLlZguvvFp9V5neHemNV6GFd5Ut274ogz5jjf8BqMFF\n",
       "YuSftT4AAAAASUVORK5CYII=\n",
       "\" style=\"display:inline;vertical-align:middle;\" /></a><br>"
      ],
      "text/plain": [
       "<IPython.core.display.HTML object>"
      ]
     },
     "metadata": {},
     "output_type": "display_data"
    }
   ],
   "source": [
    "nth_root_of_nth_power = Forall(\n",
    "    n, Forall(x, Equals(Exp(Exp(x, n), frac(one, n)), x),\n",
    "              condition=greater_eq(x, zero)),\n",
    "    domain=NaturalPos)"
   ]
  },
  {
   "cell_type": "code",
   "execution_count": 116,
   "metadata": {},
   "outputs": [
    {
     "data": {
      "text/html": [
       "<strong id=\"sqrt_of_square\"><a class=\"ProveItLink\" href=\"proofs/sqrt_of_square/thm_proof.ipynb\">sqrt_of_square</a> (conjecture without proof):<br></strong> <a class=\"ProveItLink\" href=\"../__pv_it/theorems/9076a7dbea5e5188c7ddaf89e840536e08b8adfa0/theorem_expr.ipynb\"><img src=\"data:image/png;base64,iVBORw0KGgoAAAANSUhEUgAAAK4AAAAmBAMAAACvwb1oAAAAMFBMVEX///8AAAAAAAAAAAAAAAAA\n",
       "AAAAAAAAAAAAAAAAAAAAAAAAAAAAAAAAAAAAAAAAAAAv3aB7AAAAD3RSTlMAq1RmmUTNIjK7EInv\n",
       "3XZ/CtNrAAAACXBIWXMAAA7EAAAOxAGVKw4bAAADTUlEQVRIx51XXWjTUBQ+bdKkS9rMIT5MRAqK\n",
       "ICIOkQkirmM6RZ2ECb4IruCDoCARZL5MVt/EbTj8wXWD2Ychzr/VPUxwIEUQBVGqLz4VOtAJeyhl\n",
       "TjYmOM/NX5Os15v0wk1PmnO/e36+c24CwBh8AgIO6aIfrXYIPIaybB0uFRyX28DWGcwGx4U7bJVL\n",
       "Djm0tn7UXPSMaUx41XFzw6+9PDMQ8ZzjZsQvrrjM0rjt8Cg67DvAYyyFZmd403jRTI7ONmUtucY4\n",
       "yML95ZB7cSpmlfDAF+AcdVl/AvQQb6M8jzoDtQnnLlNuVMUVUFqoaUnCEfJ7gcbwiiMZWCGSVSVc\n",
       "FnGBWrB8SiePSMtIKOVuFHzVQrkAsI+Gq1RAwIzLtN4ScxDxEbl3N4EYjf/hFeDQBIG2b6ODvtM4\n",
       "d1SjMooXgRbg6CLAp2LxIxW3ulBCv+EEzhdzj2cTcBWuoZ/eupLKmwfI/hLy6BjA6H/4QrSIu3ry\n",
       "z+NMKlv5gjhy87jV7LqKZHwx6DdX6iLCX4ArIDq33T3TfrlabjruYJJQh0hfEUvjVkMtsbU1pEo4\n",
       "77FjP7RlNxLhD0BDVlatsMxlVEWGV3ZUe8iT8E7CtjK5f4c6hESWfsWDm4ZOQ1jCZSU7bYexUhUF\n",
       "DpTc9kZI1RVMXGSB/TiSXxe5zzYupA4Rc45+1/QQIu5C0o0LRXQ/Z8YBndAkk1/hgie+EFmGJ2Z8\n",
       "YRrLRtGahcSkTmlZHLdZ0G9IbSrEdahxgEl1C8hW1XnqSbofykPO6it9mDYOxqNwWsflx6raU4bL\n",
       "jcNmY3gJsOfWSei2SjDnLYeJfIS4KC5a/Q+ww7RmMpmEosjd1XozIsIvm61gCGCiHO6wyjOueuw9\n",
       "Vdq+V0/obzu1eREGdHuVyFm7PAXDdHEpYmwQT7twrjOPrz45xSPj9PjCaztvvJnwh4LRw7mka3kH\n",
       "DVcuWAA/3iyASA6wM/O5iU67T5r79jSZfzxwHWPUg6nBXeBPMxl3xKRFM5BWf590rdZ89JXa457n\n",
       "DUYsOR7+pC7r0Ri4zAOw9phhKUypdeG+ZSnIqXpglTxT5UM9uDH2O3NrPbjzbBWhJTis+N7HS/23\n",
       "4LjP/Xw69AZ/sb7ry6l04O8Wws1/2ujRH9BPD1UAAAAASUVORK5CYII=\n",
       "\" style=\"display:inline;vertical-align:middle;\" /></a><br>"
      ],
      "text/plain": [
       "<IPython.core.display.HTML object>"
      ]
     },
     "metadata": {},
     "output_type": "display_data"
    }
   ],
   "source": [
    "sqrt_of_square = Forall(\n",
    "    x, Equals(sqrt(Exp(x, two)), x),\n",
    "    domain=Real)"
   ]
  },
  {
   "cell_type": "code",
   "execution_count": null,
   "metadata": {},
   "outputs": [],
   "source": []
  },
  {
   "cell_type": "markdown",
   "metadata": {},
   "source": [
    "### Expansion Theorems"
   ]
  },
  {
   "cell_type": "code",
   "execution_count": 117,
   "metadata": {},
   "outputs": [
    {
     "data": {
      "text/html": [
       "<strong id=\"square_expansion\"><a class=\"ProveItLink\" href=\"proofs/square_expansion/thm_proof.ipynb\">square_expansion</a> (conjecture without proof):<br></strong> <a class=\"ProveItLink\" href=\"../__pv_it/theorems/40bdcac255804c45e1ed4fa594182a4641e358070/theorem_expr.ipynb\"><img src=\"data:image/png;base64,iVBORw0KGgoAAAANSUhEUgAAAK8AAAAaBAMAAAAzuxGAAAAAMFBMVEX///8AAAAAAAAAAAAAAAAA\n",
       "AAAAAAAAAAAAAAAAAAAAAAAAAAAAAAAAAAAAAAAAAAAv3aB7AAAAD3RSTlMAq1RmmUTNIjK7EInv\n",
       "3XZ/CtNrAAAACXBIWXMAAA7EAAAOxAGVKw4bAAACrUlEQVRIx2NgIApw7RZcwEBNwBwAoVkYWC4Q\n",
       "r4uFsBIVKM0fwP6DeIPZJxAMgQSYyxdgMZgdq6Egwo6QwZwGcCY3ZlA8wqaF9QGQ4AVGiACIp4zD\n",
       "4BoEsxcj8pg2YNXzGIj5gKa6gjjpOAz2RvhwFobkMux62IAu4PrFwNCIL7C/wlklDOXoks44EpID\n",
       "kEiGWMCtgF0Nxy+4g2d0eKHLHsDhmlNA7Am0ABg/bDiU8MEjjOf//w/oQZyAQxfQtQxvgPjs3bun\n",
       "cShhBOld93DFbmw+YgHGHdc7qe5NcBGoyo1AZjwwHDwYGGbhSm2gsHfgk0PkOt+7IHARHEkGoCz2\n",
       "8IEvXDlUpRmQ2d/AwFDIwC6A4v8pcnWwCAZKMBcw/2I0wGIrL9Bx5gz2C4ThsQZVqQNk1wOLAs4F\n",
       "3AGwyHo4M4BrYgHTbJheYARzMLBgD0weoK4GBjcwez1ICUxlP0gAKMn0AB53LkAPcK9jYLBGcjHQ\n",
       "hAc4DWZgOAd3AVxlDMjFQJMYEkA5+537kwI+kI8XtyIKAYjB8QVcC7CEMSgoGFi/M6xC2AVRqQty\n",
       "dQGQ2JQFDNgCSTaFlSBJdXWkVAGMvJUBMgzcWGP2AQPXVMYDDPCMDVNpCU0VDDWgKGKYx8EQDJK2\n",
       "skKKR2Ae0O/yYQjCZjC3AAPTjyUHWOFJEaYSVA7YgN0FCg+G78B0MnPmTIWOCKSSCpjzlrxjcsaa\n",
       "MTkuMHD5PVAxggvAVF4FYkeEsgPsDN1ghwAjjwsmehRfmXoDRyl/AZr7IOUjdwILMOGBxLcUMOzD\n",
       "LN2wABMc9ZIBpHSD8p7uewUsaUDM1ZlTGmDCPXhrgQKswpWgvCKAKrZ65swA1MJCAV+9hb2wnQ5K\n",
       "igXE1nlYQR3WErGAmDqPQZusRgPhWhreriANsABTAQCmJJxHX4bmmgAAAABJRU5ErkJggg==\n",
       "\" style=\"display:inline;vertical-align:middle;\" /></a><br>"
      ],
      "text/plain": [
       "<IPython.core.display.HTML object>"
      ]
     },
     "metadata": {},
     "output_type": "display_data"
    }
   ],
   "source": [
    "# until we have the more general \"exp_expansion\"\n",
    "square_expansion = Forall(\n",
    "    x,\n",
    "    Equals(Exp(x, two), Mult(x, x)),\n",
    "    domain=Complex)"
   ]
  },
  {
   "cell_type": "code",
   "execution_count": 118,
   "metadata": {},
   "outputs": [
    {
     "data": {
      "text/html": [
       "<strong id=\"cube_expansion\"><a class=\"ProveItLink\" href=\"proofs/cube_expansion/thm_proof.ipynb\">cube_expansion</a> (conjecture without proof):<br></strong> <a class=\"ProveItLink\" href=\"../__pv_it/theorems/c6d074ac2add1091fe62a04b991398197747540d0/theorem_expr.ipynb\"><img src=\"data:image/png;base64,iVBORw0KGgoAAAANSUhEUgAAAMkAAAAaBAMAAADvQmW3AAAAMFBMVEX///8AAAAAAAAAAAAAAAAA\n",
       "AAAAAAAAAAAAAAAAAAAAAAAAAAAAAAAAAAAAAAAAAAAv3aB7AAAAD3RSTlMAq1RmmUTNIjK7EInv\n",
       "3XZ/CtNrAAAACXBIWXMAAA7EAAAOxAGVKw4bAAACt0lEQVRIx2NgIAoU60kw0A4wB0BoaYY35BrB\n",
       "QliJCpTuYNhLri3sEwip4EqAMy9jyhYQtgFE2BFSxWkAYz17gCHJp0DQFlaQLt4FDAwCIJ4yDlU1\n",
       "CF/Nw5DUJiK4HoNcA7TCFcRJx6HIG8Hsb8AdmrgBG9AfXL8YGBrxRdBXmIknGOoN0NOOATFp1AFI\n",
       "JENs48YRwhy/YKxbDDYL0CR5iEphp4DYE2gb0ElsOJTwXYCxut+Jo0uqEWUL0B/grHb27t3TOJQw\n",
       "AoOe651U9yZccbbu4Yrd8HBAVQmV2ghkxgODwYOBYRauhDwBlHUfPvCFx8VdMBCAudKBT47lAiKT\n",
       "I6mESZlBE04hA7sASjBNkauDpRCghDmD/QJhbE64BAztAuZfjPBEgKISJqUDZNcDiynOBdwBsNh+\n",
       "ODOAa2IB02wonxeYQhoY3LB79ChQPQMLJDmvB1EwlVzfGBBS/SBZoPlMD+CR7wL0Gvc6BgZrJL8w\n",
       "MJzDaQswoT2AOweh8goDQioG5BdQVksAFTTv3J8U8IE8v7gVWvzAbGH9zrAKW7xcAhHxBVyIFI6s\n",
       "EialC/IPqMDblAWMjAJJNoWVIEl1daQ0NoGBayrjAYYN2PwCLHJWBsgwcMOTGIpKmJQlNI0x1ACd\n",
       "xswwj4MhGCRtZYWUEA4wMP1YcoAVa6YFplH9Lh+GIBgfVSVMCpTebcAuBpdQ34GpbubMmQodEUhF\n",
       "6i8GLr8HKkZY46WXgWHJOyZnRHZBUQmTugrEjojC5AA7QzeIAYp9LpQYxgF4G4ipwi5AcxakiOdO\n",
       "YAGmaZD4lgKGfVjKZOwFIcHq2ABSJkN5T/e9YmCfAWKuzpwCd2UPPhOmE2FLJcg5Aqhiq2fODEAt\n",
       "yPBVhyuJsAXkEl5CNTfemor9AUFL+AqIqfeJqnUpbsPA22MUABZgmgIATr6rovRos6YAAAAASUVO\n",
       "RK5CYII=\n",
       "\" style=\"display:inline;vertical-align:middle;\" /></a><br>"
      ],
      "text/plain": [
       "<IPython.core.display.HTML object>"
      ]
     },
     "metadata": {},
     "output_type": "display_data"
    }
   ],
   "source": [
    "# until we have the more general \"exp_expansion\"\n",
    "cube_expansion = Forall(\n",
    "    x,\n",
    "    Equals(Exp(x, three), Mult(x, x, x)),\n",
    "    domain=Complex)"
   ]
  },
  {
   "cell_type": "markdown",
   "metadata": {},
   "source": [
    "*Note: Could eventually include generalizations to “even power closure,” etc, but need to define and implement an Evens set to do this*"
   ]
  },
  {
   "cell_type": "markdown",
   "metadata": {},
   "source": [
    "### Sqrt(2) is not rational"
   ]
  },
  {
   "cell_type": "code",
   "execution_count": 119,
   "metadata": {},
   "outputs": [
    {
     "data": {
      "text/html": [
       "<strong id=\"sqrt2_is_not_rational\"><a class=\"ProveItLink\" href=\"proofs/sqrt2_is_not_rational/thm_proof.ipynb\">sqrt2_is_not_rational</a> (conjecture with conjecture-based proof):<br></strong> <a class=\"ProveItLink\" href=\"../__pv_it/theorems/e94751def7d13f9efa254c4f90001431f82253b00/theorem_expr.ipynb\"><img src=\"data:image/png;base64,iVBORw0KGgoAAAANSUhEUgAAAEQAAAAZCAMAAAC/3XipAAAAP1BMVEX///8AAAAAAAAAAAAAAAAA\n",
       "AAAAAAAAAAAAAAAAAAAAAAAAAAAAAAAAAAAAAAAAAAAAAAAAAAAAAAAAAAAAAADFBd4eAAAAFHRS\n",
       "TlMAMom7q0QizZkQVN1mdu/p8+P3nfw3GDcAAAAJcEhZcwAADsQAAA7EAZUrDhsAAAF4SURBVDjL\n",
       "pVRbcsMgDOQtCQFtU+5/1gJ2bEFSN9PoIxkwrFarRUrNoesZ6r9htXo7tH0fQzn/PkaAy6+vgeAl\n",
       "ESCxIGNb4CMwDSIBEZ7pq51YZFfakcDOPBCJHaNra6q/pGmSSf3fo19aQTy0HQxLeQBhQcqoXT2r\n",
       "Up5ObeCl9tJdnarNlj8++ZDdEu21Gb3BRT+lchufKlTxkEm5c4Os0nv+GBW2D7nsCbLkxVU2nu6i\n",
       "H9X4tOMnlaLSZPakPD0hgQi9Mlm6z/3mdjCr2PGojvomgVi2E1aTBLPd3JjkIQcOEVmcQtk3XZj5\n",
       "69Z+jt1Zk3ExVGwr4Zrkps4P48TprVNYutP2WlcF3YEXwmQQnszgpU92eF9zRKl979UJ2trmcXHv\n",
       "3bHudCwUOBIHxh4yNUS3viVzfzsneqxOOGSEHArkbp7WuYAVoKIEh+tZkb6Nbd2Zp01jt7yb6wB6\n",
       "OgZzmwhRvzgMwy+TNzoLxabXQGaT/Hd8//H9BwnZC4JZKZ7ZAAAAAElFTkSuQmCC\n",
       "\" style=\"display:inline;vertical-align:middle;\" /></a><br>"
      ],
      "text/plain": [
       "<IPython.core.display.HTML object>"
      ]
     },
     "metadata": {},
     "output_type": "display_data"
    }
   ],
   "source": [
    "sqrt2_is_not_rational = NotInSet(sqrt(two), Rational)"
   ]
  },
  {
   "cell_type": "code",
   "execution_count": 120,
   "metadata": {},
   "outputs": [
    {
     "name": "stdout",
     "output_type": "stream",
     "text": [
      "These theorems may now be imported from the theory package: proveit.numbers.exponentiation\n"
     ]
    }
   ],
   "source": [
    "%end theorems"
   ]
  },
  {
   "cell_type": "code",
   "execution_count": null,
   "metadata": {},
   "outputs": [],
   "source": []
  }
 ],
 "metadata": {
  "kernelspec": {
   "display_name": "Python 3",
   "language": "python",
   "name": "python3"
  }
 },
 "nbformat": 4,
 "nbformat_minor": 0
}