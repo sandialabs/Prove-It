{
 "cells": [
  {
   "cell_type": "markdown",
   "metadata": {},
   "source": [
    "Proof of <a class=\"ProveItLink\" href=\"../../../../../_theory_nbs_/theory.ipynb\">proveit</a>.<a class=\"ProveItLink\" href=\"../../../../_theory_nbs_/theory.ipynb\">numbers</a>.<a class=\"ProveItLink\" href=\"../../theory.ipynb\">exponentiation</a>.<a class=\"ProveItLink\" href=\"../../theorems.ipynb#cube_expansion\">cube_expansion</a> theorem\n",
    "========"
   ]
  },
  {
   "cell_type": "code",
   "execution_count": 1,
   "metadata": {},
   "outputs": [],
   "source": [
    "import proveit\n",
    "theory = proveit.Theory() # the theorem's theory"
   ]
  },
  {
   "cell_type": "code",
   "execution_count": 2,
   "metadata": {},
   "outputs": [
    {
     "data": {
      "text/html": [
       "With these <a href=\"allowed_presumptions.txt\">allowed</a>/<a href=\"disallowed_presumptions.txt\">disallowed</a> theorem/theory presumptions (e.g., to avoid circular dependencies), we begin our proof of<br><strong id=\"cube_expansion\">cube_expansion:</strong> <a class=\"ProveItLink\" href=\"../../../__pv_it/theorems/4eb10225ec5cfe51bbe424941d19180abbaabade0/expr.ipynb\"><img src=\"data:image/png;base64,iVBORw0KGgoAAAANSUhEUgAAAMkAAAAaBAMAAADvQmW3AAAAMFBMVEX///8AAAAAAAAAAAAAAAAA\n",
       "AAAAAAAAAAAAAAAAAAAAAAAAAAAAAAAAAAAAAAAAAAAv3aB7AAAAD3RSTlMAq1RmmUTNIjK7EInv\n",
       "3XZ/CtNrAAAACXBIWXMAAA7EAAAOxAGVKw4bAAACt0lEQVRIx2NgIAoU60kw0A4wB0BoaYY35BrB\n",
       "QliJCpTuYNhLri3sEwip4EqAMy9jyhYQtgFE2BFSxWkAYz17gCHJp0DQFlaQLt4FDAwCIJ4yDlU1\n",
       "CF/Nw5DUJiK4HoNcA7TCFcRJx6HIG8Hsb8AdmrgBG9AfXL8YGBrxRdBXmIknGOoN0NOOATFp1AFI\n",
       "JENs48YRwhy/YKxbDDYL0CR5iEphp4DYE2gb0ElsOJTwXYCxut+Jo0uqEWUL0B/grHb27t3TOJQw\n",
       "AoOe651U9yZccbbu4Yrd8HBAVQmV2ghkxgODwYOBYRauhDwBlHUfPvCFx8VdMBCAudKBT47lAiKT\n",
       "I6mESZlBE04hA7sASjBNkauDpRCghDmD/QJhbE64BAztAuZfjPBEgKISJqUDZNcDiynOBdwBsNh+\n",
       "ODOAa2IB02wonxeYQhoY3LB79ChQPQMLJDmvB1EwlVzfGBBS/SBZoPlMD+CR7wL0Gvc6BgZrJL8w\n",
       "MJzDaQswoT2AOweh8goDQioG5BdQVksAFTTv3J8U8IE8v7gVWvzAbGH9zrAKW7xcAhHxBVyIFI6s\n",
       "EialC/IPqMDblAWMjAJJNoWVIEl1daQ0NoGBayrjAYYN2PwCLHJWBsgwcMOTGIpKmJQlNI0x1ACd\n",
       "xswwj4MhGCRtZYWUEA4wMP1YcoAVa6YFplH9Lh+GIBgfVSVMCpTebcAuBpdQ34GpbubMmQodEUhF\n",
       "6i8GLr8HKkZY46WXgWHJOyZnRHZBUQmTugrEjojC5AA7QzeIAYp9LpQYxgF4G4ipwi5AcxakiOdO\n",
       "YAGmaZD4lgKGfVjKZOwFIcHq2ABSJkN5T/e9YmCfAWKuzpwCd2UPPhOmE2FLJcg5Aqhiq2fODEAt\n",
       "yPBVhyuJsAXkEl5CNTfemor9AUFL+AqIqfeJqnUpbsPA22MUABZgmgIATr6rovRos6YAAAAASUVO\n",
       "RK5CYII=\n",
       "\" style=\"display:inline;vertical-align:middle;\" /></a><br>(see <a class=\"ProveItLink\" href=\"../../../__pv_it/theorems/c6d074ac2add1091fe62a04b991398197747540d0/dependencies.ipynb\">dependencies</a>)<br>"
      ],
      "text/plain": [
       "<IPython.core.display.HTML object>"
      ]
     },
     "metadata": {},
     "output_type": "display_data"
    },
    {
     "name": "stdout",
     "output_type": "stream",
     "text": [
      "cube_expansion may now be readily provable (assuming required theorems are usable).  Simply execute \"%qed\".\n"
     ]
    }
   ],
   "source": [
    "%proving cube_expansion"
   ]
  },
  {
   "cell_type": "code",
   "execution_count": null,
   "metadata": {},
   "outputs": [],
   "source": []
  }
 ],
 "metadata": {
  "kernelspec": {
   "display_name": "Python 3",
   "language": "python",
   "name": "python3"
  }
 },
 "nbformat": 4,
 "nbformat_minor": 0
}