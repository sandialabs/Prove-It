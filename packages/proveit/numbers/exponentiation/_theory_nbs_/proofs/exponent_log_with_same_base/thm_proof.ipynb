{
 "cells": [
  {
   "cell_type": "markdown",
   "metadata": {},
   "source": [
    "Proof of <a class=\"ProveItLink\" href=\"../../../../../_theory_nbs_/theory.ipynb\">proveit</a>.<a class=\"ProveItLink\" href=\"../../../../_theory_nbs_/theory.ipynb\">numbers</a>.<a class=\"ProveItLink\" href=\"../../theory.ipynb\">exponentiation</a>.<a class=\"ProveItLink\" href=\"../../theorems.ipynb#exponent_log_with_same_base\">exponent_log_with_same_base</a> theorem\n",
    "========"
   ]
  },
  {
   "cell_type": "code",
   "execution_count": 1,
   "metadata": {},
   "outputs": [],
   "source": [
    "import proveit\n",
    "theory = proveit.Theory() # the theorem's theory"
   ]
  },
  {
   "cell_type": "code",
   "execution_count": 2,
   "metadata": {},
   "outputs": [
    {
     "data": {
      "text/html": [
       "With these <a href=\"allowed_presumptions.txt\">allowed</a>/<a href=\"disallowed_presumptions.txt\">disallowed</a> theorem/theory presumptions (e.g., to avoid circular dependencies), we begin our proof of<br><strong id=\"exponent_log_with_same_base\">exponent_log_with_same_base:</strong> <a class=\"ProveItLink\" href=\"../../../__pv_it/theorems/f1b6f47ec2b200365d0ff1f68aab42826ec461000/expr.ipynb\"><img src=\"data:image/png;base64,iVBORw0KGgoAAAANSUhEUgAAAP4AAAAmCAMAAADTJdYhAAAAOVBMVEX///8AAAAAAAAAAAAAAAAA\n",
       "AAAAAAAAAAAAAAAAAAAAAAAAAAAAAAAAAAAAAAAAAAAAAAAAAAAAAAACXHtMAAAAEnRSTlMAq1Rm\n",
       "mUTNIjK7EInv3Xbt5cmRiLwgAAAACXBIWXMAAA7EAAAOxAGVKw4bAAAD00lEQVRo3tVaiZbbIAzE\n",
       "IC6B1Zb//9gKfGHHR7xNbJe3yYsTBxhpRgdZIR4zQF62FBoUDxvQXLiYax+GX5lrl2sehd7Fi93h\n",
       "5ZPgm3D6K9JWF3Ra/vFB9JdpuRn06YC+eh46Hh1rDkb76ny7Dx8Xu9dn6WOTfYzy0ysTcR8+6KV8\n",
       "zpLZh6fAb7zYgE+KAuNCIAiyvqvtNU9g+Y9fhbOxTMWnwE9qA75nH2PbxekZQ2yXJ8lm05mMXMJp\n",
       "9vPXJglJdR/37Tp8VxjgSbRshtlNumOCKp+66p0zAQdqDZnbQoFak3mG3/GzAa5ScEZ9IUe3DVZx\n",
       "p+EDM8gN81h/n/SN2PO+ISb5Is+NYB1bqBjgNPkFpSpihvvKoNhswC+qtlyggHthbnFZFMH0OZ9O\n",
       "Vz4y8ayql7y5MfKtpCCElFEFKnFdp5RivlacCbq0VVwOpPkOnN44F3Kyx2ObR7wxC9aB3zaB7NKR\n",
       "1mP5RCjeZVwtc/BYu0jUoAsjzbGs2xHL/6QE/ozJSgYaInpkJ/plFaSLOhg7h+dB9TD3dn0JbTWa\n",
       "ui6mhvjT0exU7D08ne/RD67nxt8nYd+IFIe0LzKFQMCb5TadqL874HYHsJpfbM4xKBo1F112fNDv\n",
       "RYs2GGgMbcDdI2C3Aq709TqNi0Pa6ACG9YMkUCv2fIO7rs91lejK/iUdBz5Hjc8lGGXCBxtOw+/o\n",
       "5YjaPe9HXzSpvxVlIr3CZ+zqIGvAkHkod9YK+SkAQMsP/R78xg782YGPRY0q/eu52br2M894F4gz\n",
       "7eeUPyR/DJxYxiAy9hOkpmMF/gohHHt/PtUYqFfg2zHyYzEEV0Hy8xUoMnmbOIvX/bp2qDuwtVUB\n",
       "PvYTVVLJ5Ld+MMcO/HEq8Hn84ofagI9p5B4X8HwHnD+8eKvIQWD4Wr5knMYNHO+qSDHvJ7Sq4IMP\n",
       "XhyHvvlUE31W4IsI0yEGBWcbcp+Hzz0zcQZRshLdIsbEHNxqsXRMUKZ4MHedmfxhNGDYhj+bqqLP\n",
       "GnxzT7uxPGHDjNarKTb0/YQLota+1mEjz/iVqTL5f//xO+QXcM/BQ1huJWa9aoUct2b9xFQSdokP\n",
       "4Qj+NJWousoN+Crdcurql6WeZmlQUNntsu4nrO/FqA2ZwDICcwR/nGpmPRtMCvQa+27pNtPO+c58\n",
       "Qxgyew+rkXUNy8NW1MMN6PXOUa/+ER3X4R+30recOoadff3s3G8VvjwuYb9Y5u4UwB9XnP2GJ740\n",
       "6DHn3NkV7v93/j8MdbX7yYgnDXPtrww22kfBzy3Slas96uf97I8r/9/GK/G0Ya+Lfjjk2b+NRx6h\n",
       "NlazFQAAAABJRU5ErkJggg==\n",
       "\" style=\"display:inline;vertical-align:middle;\" /></a><br>(see <a class=\"ProveItLink\" href=\"../../../__pv_it/theorems/abc23e2bb4c16f043f123098b31740553e18ee210/dependencies.ipynb\">dependencies</a>)<br>"
      ],
      "text/plain": [
       "<IPython.core.display.HTML object>"
      ]
     },
     "metadata": {},
     "output_type": "display_data"
    }
   ],
   "source": [
    "%proving exponent_log_with_same_base"
   ]
  },
  {
   "cell_type": "code",
   "execution_count": null,
   "metadata": {},
   "outputs": [],
   "source": []
  }
 ],
 "metadata": {
  "kernelspec": {
   "display_name": "Python 3",
   "language": "python",
   "name": "python3"
  }
 },
 "nbformat": 4,
 "nbformat_minor": 0
}