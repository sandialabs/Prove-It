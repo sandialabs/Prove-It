{
 "cells": [
  {
   "cell_type": "markdown",
   "metadata": {},
   "source": [
    "Proof of <a class=\"ProveItLink\" href=\"../../../../../_theory_nbs_/theory.ipynb\">proveit</a>.<a class=\"ProveItLink\" href=\"../../../../_theory_nbs_/theory.ipynb\">numbers</a>.<a class=\"ProveItLink\" href=\"../../theory.ipynb\">exponentiation</a>.<a class=\"ProveItLink\" href=\"../../theorems.ipynb#negated_real_power_of_real_power\">negated_real_power_of_real_power</a> theorem\n",
    "========"
   ]
  },
  {
   "cell_type": "code",
   "execution_count": 1,
   "metadata": {},
   "outputs": [],
   "source": [
    "import proveit\n",
    "theory = proveit.Theory() # the theorem's theory"
   ]
  },
  {
   "cell_type": "code",
   "execution_count": 2,
   "metadata": {},
   "outputs": [
    {
     "data": {
      "text/html": [
       "With these <a href=\"allowed_presumptions.txt\">allowed</a>/<a href=\"disallowed_presumptions.txt\">disallowed</a> theorem/theory presumptions (e.g., to avoid circular dependencies), we begin our proof of<br><strong id=\"negated_real_power_of_real_power\">negated_real_power_of_real_power:</strong> <a class=\"ProveItLink\" href=\"../../../__pv_it/theorems/bcfc45e3b16f477b8b56d245504d85a7aa84ef350/expr.ipynb\"><img src=\"data:image/png;base64,iVBORw0KGgoAAAANSUhEUgAAAU4AAAAmCAMAAACcXYLYAAAAOVBMVEX///8AAAAAAAAAAAAAAAAA\n",
       "AAAAAAAAAAAAAAAAAAAAAAAAAAAAAAAAAAAAAAAAAAAAAAAAAAAAAAACXHtMAAAAEnRSTlMAq1Rm\n",
       "mUTNIjK7EInv3Xbt5cmRiLwgAAAACXBIWXMAAA7EAAAOxAGVKw4bAAAEhUlEQVRo3uVa2ZKsKBAV\n",
       "SGQ1Z4b//9gRVDaR6rKjbklcIrof7OwEj7mckzpNAy6gDzuQnvU07ALyuCPJZVg82fzEQ5FB0ZT2\n",
       "kYGg6JhwzuYbu1LRvIypfNoh0526y2PLWX0sl/mFf3hyRf/BWjrBST4VuJpc+efxknBiwMrpOjll\n",
       "5ae4BL/0nyiSMuPBSYp8ExXUiETXV+MyyPBuShT+C3cmtiBmx4PTsbwRlN0UV/KHazHjTdQWvpKC\n",
       "e5uKufBfuKOQsn09TiqglI2Q61no0Sq7FNtJKTbuBNaw1jeLAVe5f21ydzylywKxLPgqMEApZS5X\n",
       "do3SufXXraBJdaz1zix/77nl/0tJ7l/a3J1McMJ6IHmEp1AD5DrJIIQ6Bj3UNuQ/g3OV+EWw7JAl\n",
       "/5m7lOwTuqw1mRFovc3I3akQrqWN7TFx5tSzD6e7vXep/Sd3iBklXsOX7Q95HgDNySVA6OnAEuK9\n",
       "zafqKYAxvCtclKj8J3dKZIXdR6Rd/LJDsKasscNxYEEMiqqZm5sSpeWrIOsngp+VSB1OB6HfqT8r\n",
       "OaErQi7v1qWKdAQg951BVez+1dQJlmwl6Ju+gv1V5S3+4DA8kePXxUIFJD6zk3Cli5mBzB2G3LLo\n",
       "9T0TuqYxaM48KcG50H30EEJiqba8xTDbvrYz6WstX5UiH5jmxCMkEqW4D2fiuUKUUFG4HgboS7IR\n",
       "jXzoWKhewoWDYsHp9uhx6Zg7VQHXUvLS3UoZdz0V0D/IIxdyjmKjEQHI47mEsGKmEsbRAP2Yiulz\n",
       "ePYsOnASEbep2U0enTucVoWqVUUDvxWdbV9vVHbYm/qhZrVhaEQuLDSTPNfHh3BNyiOAhRpqcdyx\n",
       "KOGMm2ZlX4QCZumrZNehXjF3qi83aueFrzfgxJ1y7uRTL2LTcalhUVFOTnfhmnU0n8pCJfB2Ndux\n",
       "KOGMm0JQIf+sP2yfHC2sbkXpgsINArqx+/KU7I4mufD1Nu8QBzsGmDZhz+OxmWa6IYyTwQoWKKNO\n",
       "4vjaooIzbrrZsmwQZ7G+Yay5kEeVrmq5pApwi/a1ff2cZR25Q2SqR0gC0dgEK52k5LIhjJNBSGXD\n",
       "aVXTOhYVnHHTnMdtye5qpWbTncotnzVBIwVBWY+P7oRn09cb8xlePXxPu5jWkzQZRcC8ie3CNTPw\n",
       "YHEemcTRPq4tSjjTpj7Z//1PhWRvt6IpZ2nL9V2L5Rsa4/Texfoqxn12J1YvTKCqBrfJ1CFck8FG\n",
       "g3yjCQZRzbYsmtEZN80GMkEL8xMZhqxjs+uchK/MGk39EDkwioaF+ZJMjXdNW895pG+0h3CNBnzG\n",
       "2UwaYN4MopptWbTgTJsW2myl8aDPAzpdK+lWcH5nOKY6Ukgbn3VVCaLvGLQturyTvnr7oPNqqlV3\n",
       "YvHNgcLPptL6twYv4Hw91VJ5hos2+vgdNPm7I1X2a4M+nPR1P37w+y3zxRHn3QD6hQT89LIjflZj\n",
       "njrmxgHfC08f/DbhbwzOh36PuAbnPI255id+DyCsGBROP4F63pkG/bzTR8LzvkRXbBp3iad1I32w\n",
       "t/8B/aUolsAEficAAAAASUVORK5CYII=\n",
       "\" style=\"display:inline;vertical-align:middle;\" /></a><br>(see <a class=\"ProveItLink\" href=\"../../../__pv_it/theorems/6ed05888ee207ae73f075d4383e9d5a985c8d6fd0/dependencies.ipynb\">dependencies</a>)<br>"
      ],
      "text/plain": [
       "<IPython.core.display.HTML object>"
      ]
     },
     "metadata": {},
     "output_type": "display_data"
    }
   ],
   "source": [
    "%proving negated_real_power_of_real_power"
   ]
  },
  {
   "cell_type": "code",
   "execution_count": null,
   "metadata": {},
   "outputs": [],
   "source": []
  }
 ],
 "metadata": {
  "kernelspec": {
   "display_name": "Python 3",
   "language": "python",
   "name": "python3"
  }
 },
 "nbformat": 4,
 "nbformat_minor": 0
}