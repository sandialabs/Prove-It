{
 "cells": [
  {
   "cell_type": "markdown",
   "metadata": {},
   "source": [
    "Proof of <a class=\"ProveItLink\" href=\"../../../../../_theory_nbs_/theory.ipynb\">proveit</a>.<a class=\"ProveItLink\" href=\"../../../../_theory_nbs_/theory.ipynb\">numbers</a>.<a class=\"ProveItLink\" href=\"../../theory.ipynb\">exponentiation</a>.<a class=\"ProveItLink\" href=\"../../theorems.ipynb#pos_power_of_products\">pos_power_of_products</a> theorem\n",
    "========"
   ]
  },
  {
   "cell_type": "code",
   "execution_count": 1,
   "metadata": {},
   "outputs": [],
   "source": [
    "import proveit\n",
    "theory = proveit.Theory() # the theorem's theory"
   ]
  },
  {
   "cell_type": "code",
   "execution_count": 2,
   "metadata": {},
   "outputs": [
    {
     "data": {
      "text/html": [
       "With these <a href=\"allowed_presumptions.txt\">allowed</a>/<a href=\"disallowed_presumptions.txt\">disallowed</a> theorem/theory presumptions (e.g., to avoid circular dependencies), we begin our proof of<br><strong id=\"pos_power_of_products\">pos_power_of_products:</strong> <a class=\"ProveItLink\" href=\"../../../__pv_it/theorems/6103ad89e36f2c4f6ed59f7df2f70415fcd503db0/expr.ipynb\"><img src=\"data:image/png;base64,iVBORw0KGgoAAAANSUhEUgAAAxcAAAAmBAMAAABEwHuaAAAAMFBMVEX///8AAAAAAAAAAAAAAAAA\n",
       "AAAAAAAAAAAAAAAAAAAAAAAAAAAAAAAAAAAAAAAAAAAv3aB7AAAAD3RSTlMAq1RmmUTNIjK7EInv\n",
       "3XZ/CtNrAAAACXBIWXMAAA7EAAAOxAGVKw4bAAAJNUlEQVRo3tVbfYwTxxV/t7u+tdc+n/sPVRrp\n",
       "5KofqEpIrRZQoIgcuTslDU3rNqn6kSixRCUEkVpTVWlpCrhR0yYqcG4AgYOUbEQUiRI456O0uUjo\n",
       "QoKgiSqdoqsSESEtIQqliJMFvQQVlevMm/2a2dn1EtkrPNI92zNv329mfjNv5j37AGKUr85fguui\n",
       "aMUEQG5PbDjGek9q8/NmrIc+D9dJWZUE4YXkxrPN9CTkeosMtZIAyNIkB1TwZK+RsdXsPkb6rSRH\n",
       "9KRP9hgZD3V43tdJKvubMtXf16MMRbdGgb9gerK3yFD+22GDN8ouK9Ip6WtG2YlujQJnBxSTvUXG\n",
       "QLPDBk9I6t6XauZqUXaiW6PA9U882VtkjHf4yEhfPR2wmJbvvvHZz0V1LLI1Enwvftjbe2TcwF6q\n",
       "nbClk7/8yfxwwOPU3WanULwL5odCTXhrCJocfAVWrOg9Mljkme9I4JeyADKl4F15sIQvH/iqHiB/\n",
       "O/w3Xq4HgVZZ+SAUfAvaQknIwLPjC23JiKPW7Usnela4qTPWzlBXHwzwxnHVK/7TKV+iDt4Xb3I9\n",
       "CLTKbh7NUPAB3JsoCRlj9MPatmTEUet2hNTC5EGHAr9+EwYhF9hlt6F8nqtbD9CCo14SoxLVKivP\n",
       "h4NraAwlIeO31IfV25IRR63LpY/1u9QhaodhwFwWqF6AcoSrWwxwUvXGLvRAaJWVkXDwfMuVhAxC\n",
       "EmSLbcmIo9blkmO38U6ZewvS37YCta+jnOKBTfjdrO8jRLXKylQ4uHLZlcSQSnjub3+Ax1HrchlE\n",
       "z/vlTplbI629gnPDO6J+fisIPehvu1WVSjh4+qIr6W3qH6dOvR3jNhVDrdtk4KhXU39541lhTW84\n",
       "sjnGdZZ77MXwG5vW5Exm+WN+NUS1SgqaCwE3LrmSknEnwFMxyIih1uXCboF0Td1fzfCxWeo4PNP+\n",
       "ls4/5t5GtVNYcE71i85i95kULsBrIKpVdlcohYPDVVdSMjaALuc2y5Fhqy2UKOad7SgLxwJuWQkJ\n",
       "2ixpre9SOI5kvEPW0RugTXNaL5Tg7rZcCI/dLL0+IxkDRc6kwvv8dyCqVZbGKUaAX3ElJSNjZsv8\n",
       "w5tWl1VykGkcGUxNLYtE7BzaDHYcu0TsxblVZy1NrFwi6a6n6CRAlfd/soDS4wuRH0TsY6RjLZqm\n",
       "MtjqmqAL8zs0p2S89hm6WI2Pg/ZRiT3mcSuNBefwTC7bJmEffTDdcuj82O6BH1BolQBTc6Hg/3El\n",
       "JUOx/Adz+nSjrBQm4S6RDKb2rKBq/Kmq7IX7WGf8G2z7Dbtg/2fhK82UEPAYwjYUFDEBSuusZvYR\n",
       "ngy2M8hU5OowUYbtF8CNl/4OxhzpL1t7M5K1iUEVPuY5rfCdQWcPTaZnqcWUu/ZnHDJ8gEKrDLgc\n",
       "Ac6TAZWVvqdHa2TeV2rUPfBkMLUxQTV7COAbeO8l+j4wjRwxMGmB2oT1wmnG7y1RkSZAsc6y1EMy\n",
       "MoiTmLAwNlvkEXyVRoSDZf1ylLewH3PKItmZ4bopZhIUSoYyLbopP6DQGuKmwsCFMwNeIrOgjmw/\n",
       "nV9Ww+AelEd/QNbl6N2jY34yqBoQ4AMr/+rmAWDfYzTtxQKQAdLJl89XnXgfjFvLNI/2ktAzn5ZE\n",
       "kSZAz+ARYuWfg1dGZ0Zd8rbgbeppMrAiLCAnj4+MiyQiXKiabcjAxxbfOls4s4d8XCa9cOHlJmPZ\n",
       "JtlMCyHd0zyg2jYUJubCwS+5Esn4DVkT++4v5Qr5AuxHf12b/FJwZ1A1vQLGu3aOCFUX4oGu4Pp9\n",
       "GOBgleV2DNpB5ef4/ot8z3xaMsUL5odYR9zUxjP8zpiw7EthxlJmNP/qIvOzaJhoZt1Fiv4bxUTF\n",
       "mxPymLHkDRLYnXZuqIFD/qpzW2UmkQyN97Qv8oB8q4fpAVNzYeDs+qY7cQb0Ec/w649gsEbM3sPI\n",
       "0PL1ABlULVUHbTg9BTq55aLq8uV47OH0/Yh4LtgKqVvGIEUXsbrPtKv9xdZyDkxRcQcsxTqwvvkq\n",
       "8GTk8P02MuChv234F0fGs+f/MFRzf2bh+u8ZNxOH80Qf0w9V4DLOxT+lq/hNdFbTjkkkY4D3rNt4\n",
       "QKHVxfSAqbkw8PScK70U+hCZIOLbljYajaJSM5qVABlIU4GcRmQDPXoSmOrjP0RbdVvrGKE9BxOg\n",
       "rms0nkw/VqPVTwRilmO4ONglXVQ8AauwjripvxR5MvoRZaAW9LvOKosTCPVZZDERt6/LXT37Wvw9\n",
       "d8BUa5PgaGsc4Kb2mO+Fg7OvklF6ZJyAc7AlDX9kOwO+Z4lxBtizPlHNLDeBkIGq9AA3bDf1BBif\n",
       "wI4/64TWNG5dci6DKbopW0u9/etjN9WCii04yuos6/uTfJyhTdk5tjAyfgG/jJHhquXreqsWlnD8\n",
       "lpP885ExEsjy+QFH2mMuDgdnnhWlS4beIntjmUaiCcBgIl8QI3BWpiFXHb8HyUBV/ZUqHIE8OfCa\n",
       "9Gg+np4jfmuXHaw/cgdkLZilbQdcYWsp5+AYTfOLijQB+hQ7M7LPCZPAItjdYWToex6/K0YcT5an\n",
       "Wh+GjfLm23BGMlUfGYFk9W4/YJxUtmsuCJ4puNIlI1WAtbDh38Q+dYpr7S+TgmTshtTILS8DJQNV\n",
       "4cC6nTUKlj5K5b1fO18CjWzjjXQrG4cbd9JHSNvWavo4FZ7WHqNCf6wpKtIEKK1L/fQhY5RPNBgX\n",
       "vYsDZfBnR4Q1Pz/faj8x34X+qj5kepwGrlzOvYJO9+ErljeVTtnvB8zE+BbYMScBZwk3lMGvXQ80\n",
       "GmVpboqV++zXk5wq7Z0CTng3mSfwrzZ2eR1RvFyIqzWtNAdUuaJXx5edbIKsTiS68iFzmGE+yJ92\n",
       "PBs4m6yoVlnZHAr+YNWV1/wduMbMbH+b+2rjDvL3Y/ZCztn5/3FRXRXb7OJqGYV8ue9suKKsrEgg\n",
       "G6lOQaLlsCev/QcJk7IB0A1CNlpWZm0Ja7NLmFZAUepCyt2fHGMuWTKOevLayTBkA3DeyKyZMWqi\n",
       "qv1p5EpiSzWpkp/yZI/91vZEAhif6teBnx6t6JO9RUYSv9ZXK0mO6COf7DEy+ksJgKxJcED6cU/2\n",
       "GhnGuwmAHKwmN6CDRU/GJeO6+Z++h80EVuv65Mazw5Ox/6fvuil6Eqfrr5Lb6WVP0vJ/01T5ZWBe\n",
       "wZIAAAAASUVORK5CYII=\n",
       "\" style=\"display:inline;vertical-align:middle;\" /></a><br>(see <a class=\"ProveItLink\" href=\"../../../__pv_it/theorems/a3736f5496d3b6691f0a652a66baeac30d3a51620/dependencies.ipynb\">dependencies</a>)<br>"
      ],
      "text/plain": [
       "<IPython.core.display.HTML object>"
      ]
     },
     "metadata": {},
     "output_type": "display_data"
    },
    {
     "name": "stdout",
     "output_type": "stream",
     "text": [
      "pos_power_of_products may now be readily provable (assuming required theorems are usable).  Simply execute \"%qed\".\n"
     ]
    }
   ],
   "source": [
    "%proving pos_power_of_products"
   ]
  },
  {
   "cell_type": "code",
   "execution_count": null,
   "metadata": {},
   "outputs": [],
   "source": []
  }
 ],
 "metadata": {
  "kernelspec": {
   "display_name": "Python 3",
   "language": "python",
   "name": "python3"
  }
 },
 "nbformat": 4,
 "nbformat_minor": 0
}