{
 "cells": [
  {
   "cell_type": "markdown",
   "metadata": {},
   "source": [
    "Proof of <a class=\"ProveItLink\" href=\"../../../../../_theory_nbs_/theory.ipynb\">proveit</a>.<a class=\"ProveItLink\" href=\"../../../../_theory_nbs_/theory.ipynb\">numbers</a>.<a class=\"ProveItLink\" href=\"../../theory.ipynb\">exponentiation</a>.<a class=\"ProveItLink\" href=\"../../theorems.ipynb#sqrt_times_itself\">sqrt_times_itself</a> theorem\n",
    "========"
   ]
  },
  {
   "cell_type": "code",
   "execution_count": 1,
   "metadata": {},
   "outputs": [],
   "source": [
    "import proveit\n",
    "theory = proveit.Theory() # the theorem's theory"
   ]
  },
  {
   "cell_type": "code",
   "execution_count": 2,
   "metadata": {},
   "outputs": [
    {
     "data": {
      "text/html": [
       "With these <a href=\"allowed_presumptions.txt\">allowed</a>/<a href=\"disallowed_presumptions.txt\">disallowed</a> theorem/theory presumptions (e.g., to avoid circular dependencies), we begin our proof of<br><strong id=\"sqrt_times_itself\">sqrt_times_itself:</strong> <a class=\"ProveItLink\" href=\"../../../__pv_it/theorems/14ce42e2443fdbeba1f11ed71c30e93a65989e7c0/expr.ipynb\"><img src=\"data:image/png;base64,iVBORw0KGgoAAAANSUhEUgAAAPwAAAAZBAMAAADnDF5lAAAAMFBMVEX///8AAAAAAAAAAAAAAAAA\n",
       "AAAAAAAAAAAAAAAAAAAAAAAAAAAAAAAAAAAAAAAAAAAv3aB7AAAAD3RSTlMAq1RmmUTNIjK7EInv\n",
       "3XZ/CtNrAAAACXBIWXMAAA7EAAAOxAGVKw4bAAADEUlEQVRIx61WTWgTQRR++d3NbrqJPwj1FLBX\n",
       "MQoqeKgp2FYKrVFBkB6sXgSREi9CoWg8V2hQiq5C2EMRNIihQkUPJTcFURSEghBIoCqUGvSgDTmo\n",
       "M5PMzM5mdsMG3+Hb5Xtv3zcz++bNAPRnhxn0tIxvR08LZigQW/yL7YcjqMPOuSWZ61v+EQNi96VB\n",
       "HTZUc0ni6uhpdxlgUwuyGMZ+dsuCHEn83OdTXalQIBbIyoIYW3dLgxyj+HnZp3y4TIHYdWkQY59Z\n",
       "LmmQ4xaeR8GnfCJLgdioNIix0bRLGuSIoqHpKZ/yixYFbNqMLIazYbfZIUcIDS3qt/K+MyBZpKPn\n",
       "rFFxSYMd76rVt37l9zDA9hRNtbF3YUWM4Wyk1bUy3HES4IF09B7yJgNsz3FwvTYpxnBWbRJisort\n",
       "Yzs3c1wDJWn7av/qyCx5ifENvEQe+hor9YsUgrj8PgAchePWLt4TRVb55Ry+zRGzdFrCat3MGjq8\n",
       "KIvyULqDcRjOU+IThS1UXwZqXnkYa6/qb+hmtS55myNYY5V3Io8+M+BYzSEPBm5wbyCRc8xeLaHl\n",
       "GyDUez4wJ6s0u38fd8wMI2iMb+QMvD+R/GaGyxsbN8Zxey6C0oJ4yrn42k+8Ksgi2/CEV5bIqtvO\n",
       "f293rFxBKrnBaOox0dOVYprLfwsULpHj4bXaggHaPwYZnMrhzq0tBSpQ5nMT2a7KFxzzqPJCUFTh\n",
       "LJEPPyzYSi8dq+XxBy+zSD5Oj6gtBjczQZQn2FyuRGy7X2RDzn0vOAI4P6B1OGKaZsow9DP2yif/\n",
       "WxnJ48VPUIULFoVYC7dNbao2dMiWX2TDSefsuxxqRYEFMnsjMm3Z5G9DDpQdebH04lkKkT9Dkr4g\n",
       "sl49v23z+kwYbUHy7+EVLz2lsgoZbTeRbcBpyYl3VXpaCqzXidfJ92VtExR8PTn3tbw8xmc/Nd2w\n",
       "NKvTdib4WlGAA0lZYoE96NY8HY6SafKLQ8yr6e9kEM1Jl9XOrrtlWfdQiPm463laf3c9W89HO8K8\n",
       "J26dMoXe1t9NV/lf9/wJD8c/mOH5BJBMWFsAAAAASUVORK5CYII=\n",
       "\" style=\"display:inline;vertical-align:middle;\" /></a><br>(see <a class=\"ProveItLink\" href=\"../../../__pv_it/theorems/e0556c616bcc490bc3658205868a3c9e18a17d940/dependencies.ipynb\">dependencies</a>)<br>"
      ],
      "text/plain": [
       "<IPython.core.display.HTML object>"
      ]
     },
     "metadata": {},
     "output_type": "display_data"
    },
    {
     "name": "stdout",
     "output_type": "stream",
     "text": [
      "sqrt_times_itself may now be readily provable (assuming required theorems are usable).  Simply execute \"%qed\".\n"
     ]
    }
   ],
   "source": [
    "%proving sqrt_times_itself"
   ]
  },
  {
   "cell_type": "code",
   "execution_count": null,
   "metadata": {},
   "outputs": [],
   "source": []
  }
 ],
 "metadata": {
  "kernelspec": {
   "display_name": "Python 3",
   "language": "python",
   "name": "python3"
  }
 },
 "nbformat": 4,
 "nbformat_minor": 0
}