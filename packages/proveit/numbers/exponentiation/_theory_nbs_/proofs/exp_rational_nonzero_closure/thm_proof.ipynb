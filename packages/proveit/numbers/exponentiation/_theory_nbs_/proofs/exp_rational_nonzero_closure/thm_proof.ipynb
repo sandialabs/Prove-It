{
 "cells": [
  {
   "cell_type": "markdown",
   "metadata": {},
   "source": [
    "Proof of <a class=\"ProveItLink\" href=\"../../../../../_theory_nbs_/theory.ipynb\">proveit</a>.<a class=\"ProveItLink\" href=\"../../../../_theory_nbs_/theory.ipynb\">numbers</a>.<a class=\"ProveItLink\" href=\"../../theory.ipynb\">exponentiation</a>.<a class=\"ProveItLink\" href=\"../../theorems.ipynb#exp_rational_nonzero_closure\">exp_rational_nonzero_closure</a> theorem\n",
    "========"
   ]
  },
  {
   "cell_type": "code",
   "execution_count": 1,
   "metadata": {},
   "outputs": [],
   "source": [
    "import proveit\n",
    "theory = proveit.Theory() # the theorem's theory"
   ]
  },
  {
   "cell_type": "code",
   "execution_count": 2,
   "metadata": {},
   "outputs": [
    {
     "data": {
      "text/html": [
       "With these <a href=\"allowed_presumptions.txt\">allowed</a>/<a href=\"disallowed_presumptions.txt\">disallowed</a> theorem/theory presumptions (e.g., to avoid circular dependencies), we begin our proof of<br><strong id=\"exp_rational_nonzero_closure\">exp_rational_nonzero_closure:</strong> <a class=\"ProveItLink\" href=\"../../../__pv_it/theorems/8d8f2adc958de03f0d5ef9813a1926b1496b14a40/expr.ipynb\"><img src=\"data:image/png;base64,iVBORw0KGgoAAAANSUhEUgAAAM0AAAAbCAMAAADoBftpAAAARVBMVEX///8AAAAAAAAAAAAAAAAA\n",
       "AAAAAAAAAAAAAAAAAAAAAAAAAAAAAAAAAAAAAAAAAAAAAAAAAAAAAAAAAAAAAAAAAAAAAAAeYafp\n",
       "AAAAFnRSTlMAq1RmmUTNIjK7EInv3Xah18O17eXJ8+7nKwAAAAlwSFlzAAAOxAAADsQBlSsOGwAA\n",
       "A39JREFUWMPVWIeypDgMxEHO1mb+/1PPcsADNkyonXl71AtAOSi0Wm2W5X97uX/PJKPsizM95L8e\n",
       "/VfaL2D3yF40RrO8GC4LUDzk1zjDD/sG89o6TG+z13Sr7ZeAXR2QtiKyFyoAckr1SlMDr1n6+GXF\n",
       "/hmjW/AeTJy36ZI5G4uke/sr/YoUC/Im5jUj3bKOAfF+Z3SYeCfU9SRkBCgdb0oMRc1szg2WUeTq\n",
       "VpRKv98beax5slOya/ISPtsOElpxuHpTkLby/I7uTVvqI3W0wvFFw/05h/ul5s7m4iCk/f5jM9I6\n",
       "C1A2yGdVa9DzD3SX9VjwCe1iH0a0MV0dfNa5GnBvql9bBhYkhq5PktYRtVzUB1KDcfBP4o6MQOHe\n",
       "4QQqU0dwvkhTHOww9CjrE+aaDBSLGD7RUpnaep9HPeFUrdwINKjxTv8FAYjPyRhy4gd/38jPFVQQ\n",
       "EtTtOm45MhFgcYEcw8K76gzGpmkEzR5vgJRFjRyf50BVdnGBjJJxMmDMlt9aR8oNJhbhcML+hWIo\n",
       "LR6uepdkrJueex0hQp0qRxasl+nnuFQsb+SaH0Zsm4L6dPUV93VzgSBXvCEcjkExyKwFCo7PpM9v\n",
       "VaOjigvuqBzbnJh89w7dSW6C7ZsfS35Ep9NHTjvLjan5HVWOlFUOek1+OCH04qWU377L1HA1oSSa\n",
       "g3Lc5iRoGK7FCdLcSruJdWJRnCqy3m/4Jf3r2moalTgv0OsuHdKYZFbmvwU7zmpu9F454q35cibS\n",
       "mS3e8MJvfKg8nNCVbFqAwWWDh8oqOtRcugSR7GJPuXDFRvIm5ebHT0m5yeFSe+W4g4nQfCL1S0tY\n",
       "bLKZx6m/ahJ933TatToVTQOyDSpUiYU+mgE1J8kXcrctmDhN6L1yhJvUuDL8JHyOoTea4cRfxywM\n",
       "5ablqtQq75yEBrkXoGpRobLutnyBHdKmnFKVY5+TwplIIJk2jA7wwMnF7pRNC/fdA4wSR46jpiaS\n",
       "EaZH9oYFjqfgvXK8mQPc0NLe3dXQD6uIFE3GDVwR9HG3QGUDwt1KA5OT5eenn9xJm3Lsc3wuCYiT\n",
       "hvLyCZxZFezFEUwM/R+k4JgZRFvTLY5SsTloDan5phy3OYKxVBlWTfQFe5tSj/ru6RUq2MxpUPjJ\n",
       "nAe/C/y9T0GPfxeQXEicWgnPilX+Hq3+1FnToJhD7flvCQLe4U0h2/8AMvgcAlRQSaMAAAAASUVO\n",
       "RK5CYII=\n",
       "\" style=\"display:inline;vertical-align:middle;\" /></a><br>(see <a class=\"ProveItLink\" href=\"../../../__pv_it/theorems/caf99281ad644e74a812805bc69c14b2cb23fb980/dependencies.ipynb\">dependencies</a>)<br>"
      ],
      "text/plain": [
       "<IPython.core.display.HTML object>"
      ]
     },
     "metadata": {},
     "output_type": "display_data"
    },
    {
     "name": "stdout",
     "output_type": "stream",
     "text": [
      "exp_rational_nonzero_closure may now be readily provable (assuming required theorems are usable).  Simply execute \"%qed\".\n"
     ]
    }
   ],
   "source": [
    "%proving exp_rational_nonzero_closure"
   ]
  },
  {
   "cell_type": "code",
   "execution_count": null,
   "metadata": {},
   "outputs": [],
   "source": []
  }
 ],
 "metadata": {
  "kernelspec": {
   "display_name": "Python 3",
   "language": "python",
   "name": "python3"
  }
 },
 "nbformat": 4,
 "nbformat_minor": 0
}