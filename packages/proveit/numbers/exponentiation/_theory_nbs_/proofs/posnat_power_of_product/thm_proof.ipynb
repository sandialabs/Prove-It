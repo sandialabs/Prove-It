{
 "cells": [
  {
   "cell_type": "markdown",
   "metadata": {},
   "source": [
    "Proof of <a class=\"ProveItLink\" href=\"../../../../../_theory_nbs_/theory.ipynb\">proveit</a>.<a class=\"ProveItLink\" href=\"../../../../_theory_nbs_/theory.ipynb\">numbers</a>.<a class=\"ProveItLink\" href=\"../../theory.ipynb\">exponentiation</a>.<a class=\"ProveItLink\" href=\"../../theorems.ipynb#posnat_power_of_product\">posnat_power_of_product</a> theorem\n",
    "========"
   ]
  },
  {
   "cell_type": "code",
   "execution_count": 1,
   "metadata": {},
   "outputs": [],
   "source": [
    "import proveit\n",
    "theory = proveit.Theory() # the theorem's theory"
   ]
  },
  {
   "cell_type": "code",
   "execution_count": 2,
   "metadata": {},
   "outputs": [
    {
     "data": {
      "text/html": [
       "With these <a href=\"allowed_presumptions.txt\">allowed</a>/<a href=\"disallowed_presumptions.txt\">disallowed</a> theorem/theory presumptions (e.g., to avoid circular dependencies), we begin our proof of<br><strong id=\"posnat_power_of_product\">posnat_power_of_product:</strong> <a class=\"ProveItLink\" href=\"../../../__pv_it/theorems/7a30a082bb6036650adc7b34880723666f0bd7a40/expr.ipynb\"><img src=\"data:image/png;base64,iVBORw0KGgoAAAANSUhEUgAAAToAAAAZBAMAAABTI/9DAAAAMFBMVEX///8AAAAAAAAAAAAAAAAA\n",
       "AAAAAAAAAAAAAAAAAAAAAAAAAAAAAAAAAAAAAAAAAAAv3aB7AAAAD3RSTlMAq1RmmUTNIjK7EInv\n",
       "3XZ/CtNrAAAACXBIWXMAAA7EAAAOxAGVKw4bAAAEG0lEQVRIx81XXWgUVxT+srOTmZ3ZJItCSyuE\n",
       "FWndYmv3QYNNi13ZWIVSusWX0gaNKBR9GvvWP7tKLYWqsW1Ex5Yymqdli7tW+wtKUERRlFBiWyqB\n",
       "CZWqlIbgQy364v2b2dybuym4ih742N0z55v57rnnnjML3HdbsmyygIfVnKWncOYBa/AEZrqtwwO4\n",
       "pSfoEmsUd1/hV617Jq4zy6HaWoK20BzRErSJHe7Ppz3GM0MgQ10LWlW3SGD6jn41SkTkgXQ5WSjr\n",
       "CFATW7kAvPsXugLGw5/ASup+q9XaGuCQrJ1u2WbgQ3RsL2sIzOTEbiToRj/noT3ANrqCPS2qS+Y5\n",
       "JOuim7cEeA2dR3UEZnJibxCcRZ/NeDAKVCDcbIvq0gKSrQuoN2hKYCYl1iSbbE3h95zgnYNBVtHe\n",
       "atk9KSDZcba9+aYEZlJiXVKpZgZ/5wVvA3BhfPx8q+peFrDmXQ1j5/rJOeSBmaYEKZhXavdEtIuM\n",
       "dwRYDRy4K0lu4+sGgX4vFZ9A59+g5sFonJXkOLMMNMHcapudm1Hbo7weYAuszN0dhcbXXzicU0iO\n",
       "Rr7ELaRDJEa0XDWY27MBLkZsynsaSAVuSeqTQ91bycfH8Tm+vkLeAWvsO7yQkdSd5khOoaPO0kbF\n",
       "D6CrDntKq25asEgbzdVLwG3xm/EGicowPhT2hF9yPvMSX9JGRJm7H9uLyqN4qnEX6pnvBslApy69\n",
       "BzW20jEC8uh1WZgjzdTFwcw6aHO8DPNGdHwpjza+geVRSB852+5h4HnWiMjzSU3i5xBGrI55FoQF\n",
       "F27fK30rlZ2thXhxert7NUBiVFt3anDU7pJRJTLeMwTf0r5cXf4DHx/DO/j8HZx8nI4SOMtKbCjz\n",
       "6Uw9yD2x1ZXr7muOWhaPJKJ3ga4yqSwY+kavBnP7D99EDYjxniN4n6zG+c2+iQp1L1zIL/8TXHFo\n",
       "ROJtrzGdmQc599CbsrojHKkwMRZ72/IpslvJuladGsxtLobiRNdF32mje1iwR7CGunt7+eUv0GPS\n",
       "hRjDvNuz6cw8yKFwXVa3i8Pp/nHLtbijzCvSeipp1anB3A4ei3s3412KJkupM4Me3/ezn7zOPWex\n",
       "wtjk+5/bO8SgodOZeYi6arvc7zrKHDPtA3030gcrPCuq2ZqX6g0+ZT2WnAqHfE7hpM12hZwKBGI6\n",
       "c08O5mL5XmReM8y0ov7hxv+9yxelVwVvcE2QoiKsYx5OOHX8QeqSzZD3VsENq2I6M89SYEK52T4B\n",
       "1Zq+/eybXRzjvRO/HRQXH4W1n36tbhoq2yfx0SS5TPPvfO+vxs4sn87UY//qoU25W0VAtZTX5PGV\n",
       "2dUxnrKCqu+LIk7wwv7J3ysuiek8zSOvNeRQ7WrT5ISzqqO8zmYrwxvKbzN4mP7mqW9lxoORcQc6\n",
       "cSWgPjo8PwAAAABJRU5ErkJggg==\n",
       "\" style=\"display:inline;vertical-align:middle;\" /></a><br>(see <a class=\"ProveItLink\" href=\"../../../__pv_it/theorems/6cf774ef96d965050b133387fbd779362647afe10/dependencies.ipynb\">dependencies</a>)<br>"
      ],
      "text/plain": [
       "<IPython.core.display.HTML object>"
      ]
     },
     "metadata": {},
     "output_type": "display_data"
    },
    {
     "name": "stdout",
     "output_type": "stream",
     "text": [
      "posnat_power_of_product may now be readily provable (assuming required theorems are usable).  Simply execute \"%qed\".\n"
     ]
    }
   ],
   "source": [
    "%proving posnat_power_of_product"
   ]
  },
  {
   "cell_type": "code",
   "execution_count": null,
   "metadata": {},
   "outputs": [],
   "source": []
  }
 ],
 "metadata": {
  "kernelspec": {
   "display_name": "Python 3",
   "language": "python",
   "name": "python3"
  }
 },
 "nbformat": 4,
 "nbformat_minor": 0
}