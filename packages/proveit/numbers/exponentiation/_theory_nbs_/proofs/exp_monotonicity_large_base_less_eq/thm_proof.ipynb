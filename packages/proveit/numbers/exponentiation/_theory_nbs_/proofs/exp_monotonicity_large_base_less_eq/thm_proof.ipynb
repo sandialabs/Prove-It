{
 "cells": [
  {
   "cell_type": "markdown",
   "metadata": {},
   "source": [
    "Proof of <a class=\"ProveItLink\" href=\"../../../../../_theory_nbs_/theory.ipynb\">proveit</a>.<a class=\"ProveItLink\" href=\"../../../../_theory_nbs_/theory.ipynb\">numbers</a>.<a class=\"ProveItLink\" href=\"../../theory.ipynb\">exponentiation</a>.<a class=\"ProveItLink\" href=\"../../theorems.ipynb#exp_monotonicity_large_base_less_eq\">exp_monotonicity_large_base_less_eq</a> theorem\n",
    "========"
   ]
  },
  {
   "cell_type": "code",
   "execution_count": 1,
   "metadata": {},
   "outputs": [],
   "source": [
    "import proveit\n",
    "theory = proveit.Theory() # the theorem's theory"
   ]
  },
  {
   "cell_type": "code",
   "execution_count": 2,
   "metadata": {},
   "outputs": [
    {
     "data": {
      "text/html": [
       "With these <a href=\"allowed_presumptions.txt\">allowed</a>/<a href=\"disallowed_presumptions.txt\">disallowed</a> theorem/theory presumptions (e.g., to avoid circular dependencies), we begin our proof of<br><strong id=\"exp_monotonicity_large_base_less_eq\">exp_monotonicity_large_base_less_eq:</strong> <a class=\"ProveItLink\" href=\"../../../__pv_it/theorems/307da27098e6db97152d3012d4eb0161c179ddc50/expr.ipynb\"><img src=\"data:image/png;base64,iVBORw0KGgoAAAANSUhEUgAAAPsAAAAXBAMAAAA/2iRsAAAAMFBMVEX///8AAAAAAAAAAAAAAAAA\n",
       "AAAAAAAAAAAAAAAAAAAAAAAAAAAAAAAAAAAAAAAAAAAv3aB7AAAAD3RSTlMAq1RmmUTNIjK7EInv\n",
       "3XZ/CtNrAAAACXBIWXMAAA7EAAAOxAGVKw4bAAADXUlEQVRIx7VWX2jTQBz+tU2aNG1jBzKQQSko\n",
       "Ex8qRcZgA2fH5l8YFid7UWbBB8EHzV51jvok4nBlE7EOahRRtGqLAycDR0Fkigh7UBRkkIk6tzIp\n",
       "whjsQby7XHJJl0EH8R7uX+7Ld3e/7/clAP+lCLT9ffC74vS8PwIRUOB/lW96Iyvb/DGHx5K2Jpah\n",
       "H/UieLjdZXZvSW99kBcdL+ferJwFOQGwHw/PuEz/wOytWmab2W17Sh4N4CzAZbyZrMv0XUZHLAvm\n",
       "5N4jbEE4FcoAtAD4VYBgzGX6Mm0Hg2nOmFuesiwIZ06hOqSCDwXA73bo07TD/ZheomJ7pdlWdN1E\n",
       "tR9xf5ibe+8yPYeVNzA9ZJF6T8KUXdOCBg9hDHWDSPeHAG7X8cbN0ONT8TNwRzXZG1l4TyqBNYjy\n",
       "+IJ8qBoAIbLhi+IvOs+RTmBd6rbahrusHhJGZE8S0MNmGL30GrhZ6K2QECCNBNRgypFanM+l5CBM\n",
       "luz0kn6m68s2dltkQ+iFRwG+WhLdvHyuCuGSwVBFW9A2UF43Sg1ZhnbNTi/c0A8atyxtS0At/TuQ\n",
       "VqyXZUgvlIWicVweZ0i6A1WFjknm0fw8eIgnYfqlJKOXJioKiA0KoyeARXy1BGRevvQXfFXbnmji\n",
       "FTXYZ+p/FlXPkflIn8VV5tHPtqjD8IiYdlDIJxj9U2UEUQudGYOeAIZJYAlILwENpD/gSe+08eu2\n",
       "U4xBo5cKxYftbhApj0uKZebRF+KwCL3k9dx41iK9biAM0uEUpScA77hqgPSCEyoP8WTSHs3mDNma\n",
       "9yNnTVBPBkdLjlg8ugmi0JrL5WKyHDxmoX8D8/q2Z8zYYwBP+DGISgpd6t3KlWjG6WMXfTnwy7Re\n",
       "2ikqgXaVefQneAvXyOll/oRq0kurMPYYxyxvxl4HiFsVHUTLl/r84ZKpVWWkVy3oHl1AcL6KEpLE\n",
       "HqYs0psRV9rR2U9T6RVMUxcaVAKipWWTXya+a/cEDMeIRyMl7WhLg3ALzff9LN0/wOiP76kkQB7F\n",
       "3Yvnpw0A/b3BIEN7NT8y0hwpNcGo/dBSa4pJSgDJvZDLMT9ieS+OrgPoFARE+3V9wWs2yau08Wh9\n",
       "65Y64XnVMrCBhuqhX7APfUbDd5TqoqeAqyhHcooDyP1fV5fLP3TO2rFsBGhGAAAAAElFTkSuQmCC\n",
       "\" style=\"display:inline;vertical-align:middle;\" /></a><br>(see <a class=\"ProveItLink\" href=\"../../../__pv_it/theorems/b0617d853bdf847156da796fefe4d45a5900e8ea0/dependencies.ipynb\">dependencies</a>)<br>"
      ],
      "text/plain": [
       "<IPython.core.display.HTML object>"
      ]
     },
     "metadata": {},
     "output_type": "display_data"
    }
   ],
   "source": [
    "%proving exp_monotonicity_large_base_less_eq"
   ]
  },
  {
   "cell_type": "code",
   "execution_count": null,
   "metadata": {},
   "outputs": [],
   "source": []
  }
 ],
 "metadata": {
  "kernelspec": {
   "display_name": "Python 3",
   "language": "python",
   "name": "python3"
  }
 },
 "nbformat": 4,
 "nbformat_minor": 0
}