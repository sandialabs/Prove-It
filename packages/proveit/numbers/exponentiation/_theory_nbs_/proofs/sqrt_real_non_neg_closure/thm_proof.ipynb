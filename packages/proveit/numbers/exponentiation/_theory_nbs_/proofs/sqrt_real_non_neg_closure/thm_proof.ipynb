{
 "cells": [
  {
   "cell_type": "markdown",
   "metadata": {},
   "source": [
    "Proof of <a class=\"ProveItLink\" href=\"../../../../../_theory_nbs_/theory.ipynb\">proveit</a>.<a class=\"ProveItLink\" href=\"../../../../_theory_nbs_/theory.ipynb\">numbers</a>.<a class=\"ProveItLink\" href=\"../../theory.ipynb\">exponentiation</a>.<a class=\"ProveItLink\" href=\"../../theorems.ipynb#sqrt_real_non_neg_closure\">sqrt_real_non_neg_closure</a> theorem\n",
    "========"
   ]
  },
  {
   "cell_type": "code",
   "execution_count": 1,
   "metadata": {},
   "outputs": [],
   "source": [
    "import proveit\n",
    "theory = proveit.Theory() # the theorem's theory"
   ]
  },
  {
   "cell_type": "code",
   "execution_count": 2,
   "metadata": {},
   "outputs": [
    {
     "data": {
      "text/html": [
       "With these <a href=\"allowed_presumptions.txt\">allowed</a>/<a href=\"disallowed_presumptions.txt\">disallowed</a> theorem/theory presumptions (e.g., to avoid circular dependencies), we begin our proof of<br><strong id=\"sqrt_real_non_neg_closure\">sqrt_real_non_neg_closure:</strong> <a class=\"ProveItLink\" href=\"../../../__pv_it/theorems/aba71f310a9c06785fec48de1424f4db3c4ccf490/expr.ipynb\"><img src=\"data:image/png;base64,iVBORw0KGgoAAAANSUhEUgAAALUAAAAaBAMAAAADNwChAAAAMFBMVEX///8AAAAAAAAAAAAAAAAA\n",
       "AAAAAAAAAAAAAAAAAAAAAAAAAAAAAAAAAAAAAAAAAAAv3aB7AAAAD3RSTlMAq1RmmUTNIjK7EInv\n",
       "3XZ/CtNrAAAACXBIWXMAAA7EAAAOxAGVKw4bAAADGklEQVRIx61WXUgUURQ+rrs7P7s7LUVSBLEg\n",
       "9RLJQiQoYmutZfgyJfRi4JYPgWDNgi+RqD1agQMhtUU5UgTqg1KRlQ9JgWFRCBn1sjCF9LNZWASC\n",
       "EHXOXfbu7M7WzEIX9s6ZO+d+95zznXPuAvzHMaiyx8yXMvftdqEjP4jgXGn6dPCWAe2J5STxN42V\n",
       "0mqfowDBAVgFQXePfYtL0sC/9OpM6DfgMUCje+yL+aDaP9bOj3TPR7NygzZkwCuAkAEQpoVqJ2hh\n",
       "losbS3zWk3CoziBpYhgQ+yWAgsDNtHLCCds7xU9JlMI+A5JIVvZsAorJD+R1DeAs6TsGfp3KT1FL\n",
       "Y3s1PDSJ0FkuAToB/OhKIOKEPWTYSaW0SKcTHFuH0QP0opg+cuEgZiNy4Hek8iuX9lpWj2TydleM\n",
       "h2E8+zazRJYs4+9FOv3cEbuKl8cChnDLR5OFvssSk8HtWuGWDjygBeCKI3YqJwTQzaOatEayn6Pp\n",
       "vd2/MsVhxDpIghC2FW8redVXwzcfo2kb/kL48Ql4Fxi2hctdxMNgCkduTz+SLhkBK/U77zWdRHfv\n",
       "okoX8HxbJI7mcPqGmbICIZaSF9I49Cy2dCNaZN8konpMfr74LqUqAZjGnfKSKs/CM6vd5x6hl2hw\n",
       "UGf7AMYsdoux4sD2U29I8NKP46uiQD0xJbwWFuBtQUwmw9jj8GHCHrYYsuZ3y+nieFNwbhPdE43T\n",
       "oJBbiJ3Bnie2Gmj305ziZlY2q6xLTEagyqOxRLZgjylRe55AL1IpvxFXsz4qAeF6FHwbyKF8vJdZ\n",
       "zv2EHdQITc9itj0f59g9WCfDhdgNNFVgJLwxcRbaGLb3qg7yehL7qrUCI2DEIBflrfeTn9jq6LCR\n",
       "64OXIHWqsLqbckJQxb5VixkUUZTAYXt+Bxl5He9jhcvt19KJv5VEJ08YTao3zjO7FV+7IcTj8WZ7\n",
       "H/TPaa4bvrzG7dKG2gzJYPGGhzGbpsj6t+e7+8ukkhekb1/NHRAuU//5MHVzv12VEeDc5/MjVOTi\n",
       "RCqlOt6XLkcZ96Vnqjzocu55V/9PrOQjd38ARmzPLHfsABEAAAAASUVORK5CYII=\n",
       "\" style=\"display:inline;vertical-align:middle;\" /></a><br>(see <a class=\"ProveItLink\" href=\"../../../__pv_it/theorems/5c88c3fffdc5faadb88061f2ef44a65f7cce7ad40/dependencies.ipynb\">dependencies</a>)<br>"
      ],
      "text/plain": [
       "<IPython.core.display.HTML object>"
      ]
     },
     "metadata": {},
     "output_type": "display_data"
    },
    {
     "name": "stdout",
     "output_type": "stream",
     "text": [
      "sqrt_real_non_neg_closure may now be readily provable (assuming required theorems are usable).  Simply execute \"%qed\".\n"
     ]
    }
   ],
   "source": [
    "%proving sqrt_real_non_neg_closure"
   ]
  },
  {
   "cell_type": "code",
   "execution_count": null,
   "metadata": {},
   "outputs": [],
   "source": []
  }
 ],
 "metadata": {
  "kernelspec": {
   "display_name": "Python 3",
   "language": "python",
   "name": "python3"
  }
 },
 "nbformat": 4,
 "nbformat_minor": 0
}