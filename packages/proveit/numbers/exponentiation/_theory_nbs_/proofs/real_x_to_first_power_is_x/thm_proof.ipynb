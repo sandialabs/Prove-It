{
 "cells": [
  {
   "cell_type": "markdown",
   "metadata": {},
   "source": [
    "Proof of <a class=\"ProveItLink\" href=\"../../../../../_theory_nbs_/theory.ipynb\">proveit</a>.<a class=\"ProveItLink\" href=\"../../../../_theory_nbs_/theory.ipynb\">numbers</a>.<a class=\"ProveItLink\" href=\"../../theory.ipynb\">exponentiation</a>.<a class=\"ProveItLink\" href=\"../../theorems.ipynb#real_x_to_first_power_is_x\">real_x_to_first_power_is_x</a> theorem\n",
    "========"
   ]
  },
  {
   "cell_type": "code",
   "execution_count": 1,
   "metadata": {},
   "outputs": [],
   "source": [
    "import proveit\n",
    "theory = proveit.Theory() # the theorem's theory"
   ]
  },
  {
   "cell_type": "code",
   "execution_count": 2,
   "metadata": {},
   "outputs": [
    {
     "data": {
      "text/html": [
       "With these <a href=\"allowed_presumptions.txt\">allowed</a>/<a href=\"disallowed_presumptions.txt\">disallowed</a> theorem/theory presumptions (e.g., to avoid circular dependencies), we begin our proof of<br><strong id=\"real_x_to_first_power_is_x\">real_x_to_first_power_is_x:</strong> <a class=\"ProveItLink\" href=\"../../../__pv_it/theorems/fb36d6f9e6d5a046878b845d829fc7eca5b465630/expr.ipynb\"><img src=\"data:image/png;base64,iVBORw0KGgoAAAANSUhEUgAAAIMAAAAaBAMAAABm2vLeAAAAMFBMVEX///8AAAAAAAAAAAAAAAAA\n",
       "AAAAAAAAAAAAAAAAAAAAAAAAAAAAAAAAAAAAAAAAAAAv3aB7AAAAD3RSTlMAq1RmmUTNIjK7EInv\n",
       "3XZ/CtNrAAAACXBIWXMAAA7EAAAOxAGVKw4bAAACBUlEQVQ4y51Vv0sjURD+kmyyuns+AlaKSEC7\n",
       "Q04sFEQ0oucP/MHigY2FAQvBwltrA2qromkEV0FSpDgVNFgoKEgaK1H8BwIJqIVoOlFSOft09yK+\n",
       "9YkPwk4yM9/O++abCfClozXjuydgvD5XHsR+RQ5R7xgNYr+akNYfk0CgXQZR3iiDqEgCYduo8wiI\n",
       "QwbBKP+3bUx6BAxIIbQisPAZKY9SCEwAIbqMHhG7y4pyiH7qPDEW8rrolWPN/j31iLmnz0U2e+7h\n",
       "9lFPtUL10oHIuZf/d0LVj9Mt+oANr54mbP3lc0OuGLP88C5GWa1CVa7OAzNQwyVpDYed044dIkcL\n",
       "OpKVIumbgaKPSJijEShP6oZDX94ymI6jtKObKDCPHjHVULh09ynZn3PZ7KaiGENrrqQK4NLjmj94\n",
       "2BzlIGbrvNB7bTJbzgRxFy2FCD5hR8QFxk2NqFw1yTyYokSzKhTZ5o3U1S1nMnwJaGu+DNKCGraN\n",
       "Guh47QjiBBrAVhn+cAhl09Uqy8D/nMoERcr7tTiIEXq28XfZt8ET0GxZVoQxfcQJCxahDefqm0RM\n",
       "pAr+Lhu68z/BGRVL/M0sOJZ0fj2TL6UJd6r1mELt5VzgOPpxUvHJpL5RfXN6B3WdrNHbdMpVwrJ8\n",
       "uYbff9+1LOP9kERkEBXml3cnvrs78VPil29w93/E6yjUgRe6cnJL9IRLbgAAAABJRU5ErkJggg==\n",
       "\" style=\"display:inline;vertical-align:middle;\" /></a><br>(see <a class=\"ProveItLink\" href=\"../../../__pv_it/theorems/d50f7b2395b80c5d317d29e075a91f6c1c9748d90/dependencies.ipynb\">dependencies</a>)<br>"
      ],
      "text/plain": [
       "<IPython.core.display.HTML object>"
      ]
     },
     "metadata": {},
     "output_type": "display_data"
    },
    {
     "name": "stdout",
     "output_type": "stream",
     "text": [
      "real_x_to_first_power_is_x may now be readily provable (assuming required theorems are usable).  Simply execute \"%qed\".\n"
     ]
    }
   ],
   "source": [
    "%proving real_x_to_first_power_is_x"
   ]
  },
  {
   "cell_type": "code",
   "execution_count": null,
   "metadata": {},
   "outputs": [],
   "source": []
  }
 ],
 "metadata": {
  "kernelspec": {
   "display_name": "Python 3",
   "language": "python",
   "name": "python3"
  }
 },
 "nbformat": 4,
 "nbformat_minor": 0
}