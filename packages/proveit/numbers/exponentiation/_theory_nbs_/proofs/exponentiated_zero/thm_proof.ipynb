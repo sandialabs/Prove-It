{
 "cells": [
  {
   "cell_type": "markdown",
   "metadata": {},
   "source": [
    "Proof of <a class=\"ProveItLink\" href=\"../../../../../_theory_nbs_/theory.ipynb\">proveit</a>.<a class=\"ProveItLink\" href=\"../../../../_theory_nbs_/theory.ipynb\">numbers</a>.<a class=\"ProveItLink\" href=\"../../theory.ipynb\">exponentiation</a>.<a class=\"ProveItLink\" href=\"../../theorems.ipynb#exponentiated_zero\">exponentiated_zero</a> theorem\n",
    "========"
   ]
  },
  {
   "cell_type": "code",
   "execution_count": 1,
   "metadata": {},
   "outputs": [],
   "source": [
    "import proveit\n",
    "theory = proveit.Theory() # the theorem's theory"
   ]
  },
  {
   "cell_type": "code",
   "execution_count": 2,
   "metadata": {},
   "outputs": [
    {
     "data": {
      "text/html": [
       "With these <a href=\"allowed_presumptions.txt\">allowed</a>/<a href=\"disallowed_presumptions.txt\">disallowed</a> theorem/theory presumptions (e.g., to avoid circular dependencies), we begin our proof of<br><strong id=\"exponentiated_zero\">exponentiated_zero:</strong> <a class=\"ProveItLink\" href=\"../../../__pv_it/theorems/7c3db93a68126855fdae52cb049cb7cfd3cb96ab0/expr.ipynb\"><img src=\"data:image/png;base64,iVBORw0KGgoAAAANSUhEUgAAAIsAAAAVBAMAAACEWwD/AAAAMFBMVEX///8AAAAAAAAAAAAAAAAA\n",
       "AAAAAAAAAAAAAAAAAAAAAAAAAAAAAAAAAAAAAAAAAAAv3aB7AAAAD3RSTlMAq1RmmUTNIjK7EInv\n",
       "3XZ/CtNrAAAACXBIWXMAAA7EAAAOxAGVKw4bAAACGUlEQVQ4y42UQUjbUBjH/0vSJu2zscftFhh4\n",
       "GWIPssNwW8faKohQJuwy0LIdBh6kuztWzzJWT5oNSg5eZBuLO0zcoPQiCCK4XTwVIugGHkScICjI\n",
       "vveqrUkfyR6EfMn/yy/f+7/3PeA/Rrl1OxzeK4fIUcO0Wrfyrbgl0yfoSvPgdijmDsDqw1BRM7q0\n",
       "H1SgmQHy/OFlGCVZAp7jM5V+2qXFreQOMAXM0oNeDcNoGajbYFUYDT2o3QfWgEHiOVSyFYbpARJp\n",
       "KGczrKQFtXlgwEGPA5UmFg+1pg/ozcI41vbrB0HtBHhnIU6MrWZzMxQzCnwhzF+ZbRyTAaN1GgHe\n",
       "dyewTvgCeOPCuGi/GGvy8ZObek4YDyotwivoaYmvnfBXC3MuqUZgXCgNss9hxWtK/7dH037MOk3K\n",
       "RexCNinCTHowjgDFazts7NpFk2HVDWLIYuVY5ht5M2AhRtWg9ODqZa5CW97EPY/lxnL5a5NKVKGe\n",
       "SbyBDTx0oGxT+HXqsu34puaYg6yvmhqgNqCVZNUMAQWS+fadSV+23bJoQKbXMj7MiqjoU0WGSVnJ\n",
       "DUomF3CDEkTbjQuM9qHqt/gtXUv1m/J+G92lr1OdNaK2u2vbtmWa7Il/36QqUSfJ63bE225OVGPG\n",
       "njm+JDUbhXl8FYi2SzjCG3wPfLcQQekcEKLt9EWKnv52lwr+tOUITCJwin607aLsb1445g/wDzWQ\n",
       "g2RLsi5UAAAAAElFTkSuQmCC\n",
       "\" style=\"display:inline;vertical-align:middle;\" /></a><br>(see <a class=\"ProveItLink\" href=\"../../../__pv_it/theorems/45443179606fdbb84532e2512e8acb3558631a150/dependencies.ipynb\">dependencies</a>)<br>"
      ],
      "text/plain": [
       "<IPython.core.display.HTML object>"
      ]
     },
     "metadata": {},
     "output_type": "display_data"
    }
   ],
   "source": [
    "%proving exponentiated_zero"
   ]
  },
  {
   "cell_type": "code",
   "execution_count": null,
   "metadata": {},
   "outputs": [],
   "source": []
  }
 ],
 "metadata": {
  "kernelspec": {
   "display_name": "Python 3",
   "language": "python",
   "name": "python3"
  }
 },
 "nbformat": 4,
 "nbformat_minor": 0
}