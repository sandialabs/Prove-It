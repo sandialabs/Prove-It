{
 "cells": [
  {
   "cell_type": "markdown",
   "metadata": {},
   "source": [
    "Proof of <a class=\"ProveItLink\" href=\"../../../../../_theory_nbs_/theory.ipynb\">proveit</a>.<a class=\"ProveItLink\" href=\"../../../../_theory_nbs_/theory.ipynb\">numbers</a>.<a class=\"ProveItLink\" href=\"../../theory.ipynb\">exponentiation</a>.<a class=\"ProveItLink\" href=\"../../theorems.ipynb#quotient_of_real_powers\">quotient_of_real_powers</a> theorem\n",
    "========"
   ]
  },
  {
   "cell_type": "code",
   "execution_count": 1,
   "metadata": {},
   "outputs": [],
   "source": [
    "import proveit\n",
    "theory = proveit.Theory() # the theorem's theory"
   ]
  },
  {
   "cell_type": "code",
   "execution_count": 2,
   "metadata": {},
   "outputs": [
    {
     "data": {
      "text/html": [
       "With these <a href=\"allowed_presumptions.txt\">allowed</a>/<a href=\"disallowed_presumptions.txt\">disallowed</a> theorem/theory presumptions (e.g., to avoid circular dependencies), we begin our proof of<br><strong id=\"quotient_of_real_powers\">quotient_of_real_powers:</strong> <a class=\"ProveItLink\" href=\"../../../__pv_it/theorems/af126d5632ccf2a79df4ee09e51187c6265be3350/expr.ipynb\"><img src=\"data:image/png;base64,iVBORw0KGgoAAAANSUhEUgAAASEAAAAzCAMAAADvqk4NAAAAOVBMVEX///8AAAAAAAAAAAAAAAAA\n",
       "AAAAAAAAAAAAAAAAAAAAAAAAAAAAAAAAAAAAAAAAAAAAAAAAAAAAAAACXHtMAAAAEnRSTlMAq1Rm\n",
       "mUTNIjK7EInv3Xbt5cmRiLwgAAAACXBIWXMAAA7EAAAOxAGVKw4bAAAEXklEQVRo3u1bi5KkKgzl\n",
       "/Za9l///2AVUREVbW5ytbC1TM1VjpwQPyUlOpBH6W4YSGv0b1dBqewXbfnc32kAHCNPdJad6euQA\n",
       "HKKGv6jgPe73WGQADRAV+2s+7rpn/eawGDBA0skGMdE2cl+PgcJFaPCNi4mGWM99Jw4sFVHXuhoS\n",
       "SqTnPIJBRcjVNC2x9TL5VKQh2rci4kHCBMiHyvt5oiSdrijmfeeZBFCyHqp1G5folL2UmUkAyUQq\n",
       "VJUhCxkz+85UJniICOGap53OD8LfkjYgy0aHt5tMw1tSl0LkahVojVBK71gg8s2TfJa6JgCsGv1q\n",
       "W7VPCoqhryqXC1LXAcxmelUuGuytktirr7yxJXWtp35NRAtIBIRHuW5VYVPqDhypag9spDhW8oCA\n",
       "wEomdJMCLanLIv5G1VQdEZudSIJoYqp+JcokdZWeR/QQxxvTiSkULYGAEAndltmSutvsnl2WTvQj\n",
       "IAAU3b5br7UldUXyoboICCnE3JCGsyAQ8o9ruNIMaEldySj1dX4LCUOWdwVIc99eFpNsqAZuNAOu\n",
       "kZXIoM5/fnCcZqST5bOHcvtuM2AYZvexJ+LPa4ZHx2ypGTJYwbA4STEti7PEOa7FWt8IfBwe7szN\n",
       "ZsCQiyPiWzytPNaap5drOPol0XarZmYDn6jNysakJxb6jCgyJcdFcX2OUGiMKwXnjWbAiFCEh+5c\n",
       "gLEpaViTP6N2o2aKgY8/iJq9E51ZnCCEZZlmT8vsGQ/dbgaMURZLobkoMpZ6m5blZwliqBoBl2s1\n",
       "UwzG5/eGbaXNicUaoTLpSKV5K2RGYt+Zt89y2e1mgBuDS84S1gwyQiBTaBUSkeubTWpmMcgxJPWC\n",
       "xyRtTizWCJVJWa5sf8VfGi8khPavrPzDeuhuM2BGBpfIQaNw42Vp1FDTUDOLQXx+pq3eSZtjiw1C\n",
       "ZdLRlk6umn3I964Y7zYDtjIwyRKfUKNilCoEKcVVQ80sBjmGLCf1PdDqFluLDUJl0vwE0wdjlO0l\n",
       "Bnmt43oQlXbzf6qmqDFILR9MTD0XKZOaqQzS83NuzUbaHFusEVomTVH23/86R9kRU6uf7frthLJL\n",
       "jMBTWC0ltrRMZvqNjFqpmcVgzOWJh7NBkTYti6YPlUnR0mlASRFw/Nntj3pfLwllzijxluZeiFpS\n",
       "TYyXlLhVSi2zmikGXHhhkWFMjAZF2rQsWggtk660T6wYWSOzD0cKe9P7el8GGpvcfRP05I5B2+K0\n",
       "HiKfnQAfoLDtffUZd0t4bp4afEDoQgeGHpSM7hUGv9vzpY8NzhEi/Ap3kmYv45U3W/IPvnT9/nlW\n",
       "L2iWXsau99WnXwfx9AdzzV7GrvfVhYZAvpXmVc347sGGGLogTzaggX3dy7gdZDDP6S3rfnSw4cpe\n",
       "QD0OW146PDvYcCGegZ7Sq5zo0cGGzxUJ3BPVwn7Zy7jpQnC/uKDcT7j/QBDc4X/gjAHoby30/abU\n",
       "QYwJBHuIl0NACfBfMNPqzbubBaDfz/0qTpDpibcAAAAASUVORK5CYII=\n",
       "\" style=\"display:inline;vertical-align:middle;\" /></a><br>(see <a class=\"ProveItLink\" href=\"../../../__pv_it/theorems/815fbe528c8e09cbc6a03c1ea92928c8defdc81c0/dependencies.ipynb\">dependencies</a>)<br>"
      ],
      "text/plain": [
       "<IPython.core.display.HTML object>"
      ]
     },
     "metadata": {},
     "output_type": "display_data"
    },
    {
     "name": "stdout",
     "output_type": "stream",
     "text": [
      "quotient_of_real_powers may now be readily provable (assuming required theorems are usable).  Simply execute \"%qed\".\n"
     ]
    }
   ],
   "source": [
    "%proving quotient_of_real_powers"
   ]
  },
  {
   "cell_type": "code",
   "execution_count": null,
   "metadata": {},
   "outputs": [],
   "source": []
  }
 ],
 "metadata": {
  "kernelspec": {
   "display_name": "Python 3",
   "language": "python",
   "name": "python3"
  }
 },
 "nbformat": 4,
 "nbformat_minor": 0
}