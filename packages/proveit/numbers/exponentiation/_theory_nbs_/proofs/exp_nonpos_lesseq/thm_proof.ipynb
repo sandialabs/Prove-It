{
 "cells": [
  {
   "cell_type": "markdown",
   "metadata": {},
   "source": [
    "Proof of <a class=\"ProveItLink\" href=\"../../../../../_theory_nbs_/theory.ipynb\">proveit</a>.<a class=\"ProveItLink\" href=\"../../../../_theory_nbs_/theory.ipynb\">numbers</a>.<a class=\"ProveItLink\" href=\"../../theory.ipynb\">exponentiation</a>.<a class=\"ProveItLink\" href=\"../../theorems.ipynb#exp_nonpos_lesseq\">exp_nonpos_lesseq</a> theorem\n",
    "========"
   ]
  },
  {
   "cell_type": "code",
   "execution_count": 1,
   "metadata": {},
   "outputs": [],
   "source": [
    "import proveit\n",
    "theory = proveit.Theory() # the theorem's theory"
   ]
  },
  {
   "cell_type": "code",
   "execution_count": 2,
   "metadata": {},
   "outputs": [
    {
     "data": {
      "text/html": [
       "With these <a href=\"allowed_presumptions.txt\">allowed</a>/<a href=\"disallowed_presumptions.txt\">disallowed</a> theorem/theory presumptions (e.g., to avoid circular dependencies), we begin our proof of<br><strong id=\"exp_nonpos_lesseq\">exp_nonpos_lesseq:</strong> <a class=\"ProveItLink\" href=\"../../../__pv_it/theorems/76dc8fa716bd8357caa4e43dd7980cf20eb0612f0/expr.ipynb\"><img src=\"data:image/png;base64,iVBORw0KGgoAAAANSUhEUgAAAREAAAAXBAMAAADelGYUAAAAMFBMVEX///8AAAAAAAAAAAAAAAAA\n",
       "AAAAAAAAAAAAAAAAAAAAAAAAAAAAAAAAAAAAAAAAAAAv3aB7AAAAD3RSTlMAq1RmmUTNIjK7EInv\n",
       "3XZ/CtNrAAAACXBIWXMAAA7EAAAOxAGVKw4bAAADiUlEQVRIx71WXUgUURg9+zPu7Mw6rtRLCTFg\n",
       "L0HGElHogylWRlBsGUEFsfRS9BAT9BQV62MoaH/YFsgEEpT9LApGPsgSREEUQUVCGGtYYYYIEYZP\n",
       "fffOnbmz6y5JMF3YuXdmzp179rvn+84Fgm4x0Q+3Pq74Xhuds2DhP7TPYsEP6mLF9w+sPgvHaJBk\n",
       "d43BEQnnnT7aphYqAnagFzBSwE52dyI4JndEn0gbSUnPt+AzTNP1FNDNtrI/OCYdon9kxVtsMY68\n",
       "s6VMFnH1HrAFqKGHuhkcE3dLElZfl1jf+Gj7AM/VXy302kaEdqgmQJlkxEDp2DQqkuhTCeLg5jlG\n",
       "gX6vpqZeBsckSoJ92AFNamTorbcx82t7RsRYJ8Bu4OYKPtn2b0zYf81vRGTBfXD7uGSJ6eJeVzoU\n",
       "uzOIJat+qGms/bQz4qLWJ/LliA3LilJ4wIerNaGaexHyciIkmWzDdnuVO4n0FLf1dEUW6nQubeh4\n",
       "nJdMWnHYiaskUlxGZFDiWPIS+DUSEnbW250sdsnFKGjhYhXB7siSzA20FCWTF6hjIYi1u+JvTpXP\n",
       "ilyVOIcJlCX0ZSXCp9jX3khhOZZpla4w3zlDn1CmEeJljzH53uYxiS0hQQmv1lsCOcvSn6NdAzGu\n",
       "SJzYHUQz+OEn62Wxsoh7biTf0GXklOcKhrWmhqY+rLN7cZdP0mODKY+JuoTaFJRrlkD28uU4WhiI\n",
       "+hQejrc4RTSexOXSuPHKpl0PFeDqKcK+fz7puUIEgyp155owiy7OJHqrH34miaJyy3aRYT7kaNdA\n",
       "Noy7OJmd0aTys0xLJ9nl91BBMX3ZjlDW5wqOXzZgHbbmcjnTMPQD8O9OnQiEg3RYMbRnIIfHBU4o\n",
       "kaKuNcxUsmFtX3H9ZvemNl3mCmqBHyfek+Z6eEwM5ahdqljtCV/EQaqrLQftGQi6O/2KxSSPTOZv\n",
       "decC/K4wjPN6Jophmq4sUHZznWBcKhbz2E/XWdIAR7Iw1dscreWFgVCBWitwvJG1jeG+uVKjdFyh\n",
       "14x+mfhOHdY3ZxC7Qc8Pfc0P7fJXtj0idzlSHMkYmqTqGAg1y8VxyVr4RPsnD0ZTrE2WH+zKTgOC\n",
       "ualZcfrmcC7nK3n9VQurgw5X+bNaPxpn0n8LSby0Uiu26ELFQ8uw1Y8wDvpItdcXV2JP38rKo9sp\n",
       "rfkVMblE6ZWzHLSzMSp7MhDswTjw0/cf04cGxLeEaTEAAAAASUVORK5CYII=\n",
       "\" style=\"display:inline;vertical-align:middle;\" /></a><br>(see <a class=\"ProveItLink\" href=\"../../../__pv_it/theorems/9ae0ae4d4cbd719664ba2e8c4400580861a6501a0/dependencies.ipynb\">dependencies</a>)<br>"
      ],
      "text/plain": [
       "<IPython.core.display.HTML object>"
      ]
     },
     "metadata": {},
     "output_type": "display_data"
    }
   ],
   "source": [
    "%proving exp_nonpos_lesseq"
   ]
  },
  {
   "cell_type": "code",
   "execution_count": null,
   "metadata": {},
   "outputs": [],
   "source": []
  }
 ],
 "metadata": {
  "kernelspec": {
   "display_name": "Python 3",
   "language": "python",
   "name": "python3"
  }
 },
 "nbformat": 4,
 "nbformat_minor": 0
}