{
 "cells": [
  {
   "cell_type": "markdown",
   "metadata": {},
   "source": [
    "Proof of <a class=\"ProveItLink\" href=\"../../../../../_theory_nbs_/theory.ipynb\">proveit</a>.<a class=\"ProveItLink\" href=\"../../../../_theory_nbs_/theory.ipynb\">numbers</a>.<a class=\"ProveItLink\" href=\"../../theory.ipynb\">exponentiation</a>.<a class=\"ProveItLink\" href=\"../../theorems.ipynb#exp_complex_nonzero_closure\">exp_complex_nonzero_closure</a> theorem\n",
    "========"
   ]
  },
  {
   "cell_type": "code",
   "execution_count": 1,
   "metadata": {},
   "outputs": [],
   "source": [
    "import proveit\n",
    "theory = proveit.Theory() # the theorem's theory"
   ]
  },
  {
   "cell_type": "code",
   "execution_count": 2,
   "metadata": {},
   "outputs": [
    {
     "data": {
      "text/html": [
       "With these <a href=\"allowed_presumptions.txt\">allowed</a>/<a href=\"disallowed_presumptions.txt\">disallowed</a> theorem/theory presumptions (e.g., to avoid circular dependencies), we begin our proof of<br><strong id=\"exp_complex_nonzero_closure\">exp_complex_nonzero_closure:</strong> <a class=\"ProveItLink\" href=\"../../../__pv_it/theorems/8daf0244df418a4f26737ea341ffadf65827b3ea0/expr.ipynb\"><img src=\"data:image/png;base64,iVBORw0KGgoAAAANSUhEUgAAAM0AAAAbCAMAAADoBftpAAAARVBMVEX///8AAAAAAAAAAAAAAAAA\n",
       "AAAAAAAAAAAAAAAAAAAAAAAAAAAAAAAAAAAAAAAAAAAAAAAAAAAAAAAAAAAAAAAAAAAAAAAeYafp\n",
       "AAAAFnRSTlMAq1RmmUTNIjK7EInv3Xah18O17eXJ8+7nKwAAAAlwSFlzAAAOxAAADsQBlSsOGwAA\n",
       "AyRJREFUWMPVWImypCAM5L7J3v7/py5BkBHQOWqct2vVe6UOgYR0Oo2E/LeX+wd9Msq+Zuhl/u/B\n",
       "f6X7XO6f6WveaJonA0Ikbof4mmBYv24wL81D9Wa8pFttvwTsqkfaAkCfLwGZM6oXtAysZOnjl+Xd\n",
       "C4iOwD2cOG+jUqBNikFYvH6lP562AqOJec6It7RhgF8fjA6z8Lg6twIa0ignFlvDBl4Sm3MD6yAs\n",
       "n60olb4+GjGUPCJf0HMjWHFFeI3GlSpZkbaw/A7vTZ3pI3W0yOFNBf4xhwtiS2FRsSLt9x+bkdZY\n",
       "ALOB+VJlpGcfaC7LUO8J7ny/j2Bjuhr4EkfUAa4AbMslIEOXJ4GjeCkX9YHUQJzsPOzYSCroIrZE\n",
       "dyxh24jUPUV5glyTAbcihk+0VKpa8/OgJ6SqlRvbpNn7xuZkLHPihenivZCfK2RkSFi3I+4mVJRC\n",
       "kXu2VUcwNlUjaPpw/8ON0sDgBQpUZRWHjEtEnIwYsyWI3CWDyQP2XykG0+LlCdqtoA0WGcOIB3Um\n",
       "HPc2W8mXAhBLfhrBbVbYp8ve1s1DVeDWaBCH454YoNZK5HaURMz6G9HosOCCG4Tjgc2Qm2Db6nuP\n",
       "Jm3CNk4778yLKekdVY4QRQ16l3/jnnghxLfvIvVbjRiJpheOE5tpNG7Bn/kycWkCPtn6DZGn9K9L\n",
       "q6lM4jwHr5t0QIo36xS64azkRnfC8cjmhtNsiYatBMeG2gOYaoHaUs7aiCykokOtzqjXEFvGmd6W\n",
       "TLn58VNgbjIwVSccpzadr0Wm2eQzS0U0UZuKzQpXCU0ci6fqlFcNSDeoYCFinBsncscbj7o6XeI0\n",
       "rjvheGAz2z5HwRtNYXK0cdRKN9HQYYninEUHtRdk0aJcZd1tGTFGtjXF1MkiHA9shgXuH13sTtk8\n",
       "TP+85zjsady52+5bKho/KvC5L0U4zm3uaej3nQOHXhywbCTCpEkD7XOGPRy20iocH7Ax4brvDXQk\n",
       "Q87A83w+MM3jBCExh45BMV+F4yM29DKlHvX54dXmTnjvq8VzNu4qqf6W7wLyWbHKrqmc95w1n/+W\n",
       "wOUV0axs+xdfehqwpUcHyQAAAABJRU5ErkJggg==\n",
       "\" style=\"display:inline;vertical-align:middle;\" /></a><br>(see <a class=\"ProveItLink\" href=\"../../../__pv_it/theorems/7a90dd8932f9de7a10133945b0bc2a6cedba1b0e0/dependencies.ipynb\">dependencies</a>)<br>"
      ],
      "text/plain": [
       "<IPython.core.display.HTML object>"
      ]
     },
     "metadata": {},
     "output_type": "display_data"
    },
    {
     "name": "stdout",
     "output_type": "stream",
     "text": [
      "exp_complex_nonzero_closure may now be readily provable (assuming required theorems are usable).  Simply execute \"%qed\".\n"
     ]
    }
   ],
   "source": [
    "%proving exp_complex_nonzero_closure"
   ]
  },
  {
   "cell_type": "code",
   "execution_count": null,
   "metadata": {},
   "outputs": [],
   "source": []
  }
 ],
 "metadata": {
  "kernelspec": {
   "display_name": "Python 3",
   "language": "python",
   "name": "python3"
  }
 },
 "nbformat": 4,
 "nbformat_minor": 0
}