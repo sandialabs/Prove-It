{
 "cells": [
  {
   "cell_type": "markdown",
   "metadata": {},
   "source": [
    "Proof of <a class=\"ProveItLink\" href=\"../../../../../_theory_nbs_/theory.ipynb\">proveit</a>.<a class=\"ProveItLink\" href=\"../../../../_theory_nbs_/theory.ipynb\">numbers</a>.<a class=\"ProveItLink\" href=\"../../theory.ipynb\">exponentiation</a>.<a class=\"ProveItLink\" href=\"../../theorems.ipynb#posnat_power_of_products\">posnat_power_of_products</a> theorem\n",
    "========"
   ]
  },
  {
   "cell_type": "code",
   "execution_count": 1,
   "metadata": {},
   "outputs": [],
   "source": [
    "import proveit\n",
    "theory = proveit.Theory() # the theorem's theory"
   ]
  },
  {
   "cell_type": "code",
   "execution_count": 2,
   "metadata": {},
   "outputs": [
    {
     "data": {
      "text/html": [
       "With these <a href=\"allowed_presumptions.txt\">allowed</a>/<a href=\"disallowed_presumptions.txt\">disallowed</a> theorem/theory presumptions (e.g., to avoid circular dependencies), we begin our proof of<br><strong id=\"posnat_power_of_products\">posnat_power_of_products:</strong> <a class=\"ProveItLink\" href=\"../../../__pv_it/theorems/8dab1e350c8aeb6befb13ef4a375487fe8a0affb0/expr.ipynb\"><img src=\"data:image/png;base64,iVBORw0KGgoAAAANSUhEUgAAAp4AAAAYBAMAAAChLuBMAAAAMFBMVEX///8AAAAAAAAAAAAAAAAA\n",
       "AAAAAAAAAAAAAAAAAAAAAAAAAAAAAAAAAAAAAAAAAAAv3aB7AAAAD3RSTlMAq1RmmUTNIjK7EInv\n",
       "3XZ/CtNrAAAACXBIWXMAAA7EAAAOxAGVKw4bAAAGIklEQVRYw+VZXWhbZRh+89ecnDQxV4oKJSJq\n",
       "Ze0I2pW2yIy2w0IZZuqVFgnsYrgbT72LP20cil7UtihjqxczOhBm1SbWzh+YVEfp3BDj6LRUCpkd\n",
       "1lpWglAnE6zfz/n5vnO+k/PF5kb2wru8O3nf5/nOk++/AP9zC/SOXZHL7OjaTDcEaOdVul1daoQC\n",
       "Yd0bg3RyMNWseXKgDHXPWVgA/pk3kANVSG/Q1SnQbENU+EX3nVuoAvD8r3BTwZPjafS+H2fhOvMo\n",
       "npQBcqAK6XGEHSmUwN/cKatnPdku5i9Sb4StIm+BQW+OeArAVwnNMY92yQA5UF3oV3WfhX34i0Oy\n",
       "etaT7WLv694Ia0Id6hz0Kd4chwGa88F03nygZmWAHKgu9DjCPgsv46E/IatnPdku1qt7QxajNISr\n",
       "sNTqzdEBMAKxI5aewZQMkAPVhR5FxGeJqtGkrJ71ZLvYnO4NsfMQSsBGypujuQAHID7DPJACcqC6\n",
       "VZ2nPgsB9L8m6fWonmyXSShLvTF2UJajyS7V3TJADlRX+oPU0Yr93crKBfn1vY5ssQWL1GHoq2Hb\n",
       "9uP2tYp3PV9WkuWIJmw5AzxjSa7ltkaWuKhEFOoHeFtezzqyXZaQFPXQArzDb08Gtch17y0SX9Zp\n",
       "hftXsP3gwhHICroWw9gp13JbIzu5qJMoNAThRE2cIqunZ7aXxZLUP0zBfu4L9SwEy57ltrI2WQ6/\n",
       "ffK7yDO2ybXc1sg2LmojCkUK0Yz4NLA4Cw8g8dKsnq7ZtW39IWOYNGeoPwrwMzpekG6j/omHUxVi\n",
       "RZgq3YafTAtmWPKMlpk2LmQTcChVHgfmeUYLiDRGRI0RaYmAfpw6UshfES0wY7cehTuihWDBpqc4\n",
       "u5ZhpFO3wL1F/l2/BXULlE36Yy/iLyZgOoPISI+KCU7a5BkpY+aImnoyHMxWnmLP84wM0KILNUEl\n",
       "JQL6Qer4BJndK5h7+/E5qJKOgk1PYXbNWRwjfVmBQJEbi+o/EEBdxm8NnukKPAiwBSP5Gmh6mWnt\n",
       "wvlTwOEvO8c7y9guN95piYC+nTpW6JPD5Jrkcrw7b16Y4LMTtN41HIVP+xb7MoyeOBum9n5mADGh\n",
       "9dYzGxp7JlO7Mub1Q6RCXP0DfNl7OD2TcLNf6/HQk5RZre0WZgk4AvZDyAmesdtbT4xKSzq6NhOr\n",
       "xzn6bupYoRcT9JokEU8YFyYqYW+NvveUo3/ibPUn5ZrxglZo2UfauKEnQfI/Z13c4I0L9hPQnk6z\n",
       "ekYq/sUg+jzDz2R46mKmNFJmtXZA+OYCjqD97F3iGW1AJjUzk2NEUoJvqr6Gy1zVAHWskC9Pr0ny\n",
       "hJNcmITI7rcV0usOPXF2MK3MQZjsm0j42BV+jeqDUXN/g5ECJ60tjlKm/u7Gay15Vk+15fOh39B3\n",
       "y/xMRqYua0ojZVZrLwn1FHDE7KvoGzyjHciktmZyjEhK8E3VX0RBq+oSdfMGrgVJEEuCfmESeGZy\n",
       "8k2k51STQ08636POcWTZDOfUKteYefLj0X0fRlJeZcbwku50G+PYIeUKEpOy0dqwywbLyfGSYzbM\n",
       "s4zhsgSrieiroE50ka3CEXZTz3OwDiMKjfoUpUj7Z2i3ff9Jpzot0lOAZTPUFG53p16Dtz4IPHz/\n",
       "vl15oEhoPYKCdTNBXKxnOB3WvN/MaG3Q5cDt5BDdZTCMwZTMBb+5f8jHJ8LVPFOFI+yGQuEq+s27\n",
       "gzClX5iQsbwHrH7G909t/HGi55QeRjIoVIvkH/SxoGz1+NdhHl8YEqQXHoGocUyLaNTFeuZef8W7\n",
       "gxqthZzb0mHnENyJHWMZczJbFRNxBPXQwESaqcrpbigUSsAhGPodRpP0wiSHRoPyowY+oZ6h3t0z\n",
       "gPVE6STsx6GyAKOasqB8A0/chyCOq9kgGpIYCdTTk/3ArFCq/nrh03/bjuzfb29L3MvrrTU1cWwD\n",
       "7BwRZ6c/xTIek9HTQIQD0KSFWwpM1THdHX/B0O/i1C8mjzoBz3B/Hlk206OFilmJ+gP9KPuLsYAI\n",
       "aVj3nVvcdWqwc6wJOnlFBsiBKqTHEfar8/ZfviD9MmMXkkb6s9tlpvJJ+osk4hnfGtzgFvjP6VaY\n",
       "upEF/BeLHjioNv3cKgAAAABJRU5ErkJggg==\n",
       "\" style=\"display:inline;vertical-align:middle;\" /></a><br>(see <a class=\"ProveItLink\" href=\"../../../__pv_it/theorems/562288307b5e1a4a197ea3baa6cf4f817f4363b80/dependencies.ipynb\">dependencies</a>)<br>"
      ],
      "text/plain": [
       "<IPython.core.display.HTML object>"
      ]
     },
     "metadata": {},
     "output_type": "display_data"
    },
    {
     "name": "stdout",
     "output_type": "stream",
     "text": [
      "posnat_power_of_products may now be readily provable (assuming required theorems are usable).  Simply execute \"%qed\".\n"
     ]
    }
   ],
   "source": [
    "%proving posnat_power_of_products"
   ]
  },
  {
   "cell_type": "code",
   "execution_count": null,
   "metadata": {},
   "outputs": [],
   "source": []
  }
 ],
 "metadata": {
  "kernelspec": {
   "display_name": "Python 3",
   "language": "python",
   "name": "python3"
  }
 },
 "nbformat": 4,
 "nbformat_minor": 0
}