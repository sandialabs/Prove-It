{
 "cells": [
  {
   "cell_type": "markdown",
   "metadata": {},
   "source": [
    "Proof of <a class=\"ProveItLink\" href=\"../../../../../_theory_nbs_/theory.ipynb\">proveit</a>.<a class=\"ProveItLink\" href=\"../../../../_theory_nbs_/theory.ipynb\">numbers</a>.<a class=\"ProveItLink\" href=\"../../theory.ipynb\">exponentiation</a>.<a class=\"ProveItLink\" href=\"../../theorems.ipynb#add_one_left_in_exp\">add_one_left_in_exp</a> theorem\n",
    "========"
   ]
  },
  {
   "cell_type": "code",
   "execution_count": 1,
   "metadata": {},
   "outputs": [],
   "source": [
    "import proveit\n",
    "theory = proveit.Theory() # the theorem's theory"
   ]
  },
  {
   "cell_type": "code",
   "execution_count": 2,
   "metadata": {},
   "outputs": [
    {
     "data": {
      "text/html": [
       "With these <a href=\"allowed_presumptions.txt\">allowed</a>/<a href=\"disallowed_presumptions.txt\">disallowed</a> theorem/theory presumptions (e.g., to avoid circular dependencies), we begin our proof of<br><strong id=\"add_one_left_in_exp\">add_one_left_in_exp:</strong> <a class=\"ProveItLink\" href=\"../../../__pv_it/theorems/33b1f095122c2667d9fddd8255c8baa93304641b0/expr.ipynb\"><img src=\"data:image/png;base64,iVBORw0KGgoAAAANSUhEUgAAAQcAAAAaCAMAAACNSmlkAAAAOVBMVEX///8AAAAAAAAAAAAAAAAA\n",
       "AAAAAAAAAAAAAAAAAAAAAAAAAAAAAAAAAAAAAAAAAAAAAAAAAAAAAAACXHtMAAAAEnRSTlMAq1Rm\n",
       "mUTNIjK7EInv3Xbt5cmRiLwgAAAACXBIWXMAAA7EAAAOxAGVKw4bAAADO0lEQVRYw9VZ2bajIBCU\n",
       "TaBB7oz//7Eji4AsosaTe4aHpHOQUoqmujDT9P80McuHI4HML6K92wiro0FDyn/TuwQas8QftECj\n",
       "v0sDpnU0alr4b357JXHiQRZo/FfTAuY6Gi7ragwCl0Hmcx4i2m2wN5skdTRqZoHJ+ORZ4GMeEpoD\n",
       "Q+la8j0auK6jS9wFwTPoYx4SmgOjUaRm/j0eqKqjS/JAPQGwwgMeqNyath8kR3NgYmf2q3qxsjoa\n",
       "D7Jc4LBo5NN8yNAc2ByYVfiLTiAup7ixsNs+JvssqPyUhwzNgZHA7PzFdEjlPCvsY/aoidJu9B01\n",
       "UvOqTFkvEpoH04ttWn2RBzRXEUfK8GYFa/awC3nUhmwkkgejzk9IeCZ4pyahq/yyjJjeVFq2Jtfu\n",
       "EatIz7BkDQ0Gtp7Yg3G0f1xw4EZSlJN8tk2Vk0ClTJVqMyoi0MRNqMFlu4cP9bUPWSeOB7OpoNiJ\n",
       "n98MOpJyuwIk2jjGUl3hwVNr3Rorr1poEdHV/Yi4sO77peyJF4x46AxsUubBsOmo5O7nKQ2BApcJ\n",
       "5BIPiEeMlQ/yQctibpGpqmdfQjFyG/ISXTnYHD02KGIULxy4IfH4Kjwsb/JwGDwx5W8BWdXv8QCr\n",
       "vT9ZW0vV7hEZtU196EO29IEH6xBMBCw8u0Nw4BDnijnmffWNg51tkz/Otnl/sBSuB8ljBCv2taPC\n",
       "7/UM60UfslcvrMdH+wbYyNGFn2dxEgQI9Hk4Dg5J5HnQRfVK1T9E0livQxti3ukhQ//Qh6xfhexg\n",
       "KGw2zfIjTHDgZHbrK/EkBBN9Hg6D9yTy+2LFveofIkBGCY5Mvek7PXR40OpD1pKKylyyFZcAHBy4\n",
       "SKoYdDIzBrIx2O6LP3+z40ylk46zMrrV5jcPxxWYtjucbckPKnPgyWJxRe2MVNM/xMFTdnqbrHll\n",
       "6JXz5mHF4D0aajBGCTaK2H2OkwPnUqSSsG0SKpr7Ig4+utPNR9HqoZOOCP3k0Ql6MR1OwfChINok\n",
       "byZw2z/g4asuhOvoRlvefFdyBsYu5l2bh/HZ9cn7yWwF33yleAp2VYaaPOAL2odVHV0+R7/5yugd\n",
       "sOf5+eD/i6itL4pkAPsHOEgetzGaRjgAAAAASUVORK5CYII=\n",
       "\" style=\"display:inline;vertical-align:middle;\" /></a><br>(see <a class=\"ProveItLink\" href=\"../../../__pv_it/theorems/39fd3c641d6f166621f67903d3ac77b47a36a0ca0/dependencies.ipynb\">dependencies</a>)<br>"
      ],
      "text/plain": [
       "<IPython.core.display.HTML object>"
      ]
     },
     "metadata": {},
     "output_type": "display_data"
    },
    {
     "name": "stdout",
     "output_type": "stream",
     "text": [
      "add_one_left_in_exp may now be readily provable (assuming required theorems are usable).  Simply execute \"%qed\".\n"
     ]
    }
   ],
   "source": [
    "%proving add_one_left_in_exp"
   ]
  },
  {
   "cell_type": "code",
   "execution_count": null,
   "metadata": {},
   "outputs": [],
   "source": []
  }
 ],
 "metadata": {
  "kernelspec": {
   "display_name": "Python 3",
   "language": "python",
   "name": "python3"
  }
 },
 "nbformat": 4,
 "nbformat_minor": 0
}