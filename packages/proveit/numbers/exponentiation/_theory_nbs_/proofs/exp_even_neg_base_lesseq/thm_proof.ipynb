{
 "cells": [
  {
   "cell_type": "markdown",
   "metadata": {},
   "source": [
    "Proof of <a class=\"ProveItLink\" href=\"../../../../../_theory_nbs_/theory.ipynb\">proveit</a>.<a class=\"ProveItLink\" href=\"../../../../_theory_nbs_/theory.ipynb\">numbers</a>.<a class=\"ProveItLink\" href=\"../../theory.ipynb\">exponentiation</a>.<a class=\"ProveItLink\" href=\"../../theorems.ipynb#exp_even_neg_base_lesseq\">exp_even_neg_base_lesseq</a> theorem\n",
    "========"
   ]
  },
  {
   "cell_type": "code",
   "execution_count": 1,
   "metadata": {},
   "outputs": [],
   "source": [
    "import proveit\n",
    "theory = proveit.Theory() # the theorem's theory"
   ]
  },
  {
   "cell_type": "code",
   "execution_count": 2,
   "metadata": {},
   "outputs": [
    {
     "data": {
      "text/html": [
       "With these <a href=\"allowed_presumptions.txt\">allowed</a>/<a href=\"disallowed_presumptions.txt\">disallowed</a> theorem/theory presumptions (e.g., to avoid circular dependencies), we begin our proof of<br><strong id=\"exp_even_neg_base_lesseq\">exp_even_neg_base_lesseq:</strong> <a class=\"ProveItLink\" href=\"../../../__pv_it/theorems/b52158f92464e9205729a13d577a53f92f8436590/expr.ipynb\"><img src=\"data:image/png;base64,iVBORw0KGgoAAAANSUhEUgAAAREAAAAXBAMAAADelGYUAAAAMFBMVEX///8AAAAAAAAAAAAAAAAA\n",
       "AAAAAAAAAAAAAAAAAAAAAAAAAAAAAAAAAAAAAAAAAAAv3aB7AAAAD3RSTlMAq1RmmUTNIjK7EInv\n",
       "3XZ/CtNrAAAACXBIWXMAAA7EAAAOxAGVKw4bAAADwElEQVRIx71WXUgUURT+ZnbHmZ1dJ6OnDEIo\n",
       "gohiiSj0wVasDKKSjKCCXOqh6CFG6MXoZ4seAg23X7NAphCilmorMEqKRYiCqCSLpDBGsEIFiSCM\n",
       "Xurc+Z9pFyWYLuzec++599xvzvnuORcIu6lmJ9+fUIvqDYWK8JtSZfa31I7ixxmKXSRUsNGC8JAs\n",
       "sfo1aC++wFAoSWAtG+0NDYictoSnGHFnec+BpmI/cJw6MRsakmjSQjSFczftychbzYVqKlYAZTQZ\n",
       "rwoNScIWnkk/amzqfNQ8K0xFQkOEQJeFR5NFtrB1+YTlntwn3wpTUUa/l8PDL8JDsoH8P5rEVXem\n",
       "Z9AJzGRl2z1LjtPNWQ9cnoHJ1L8h2UOH8AWsdiau7nY5hBF9o00dYnYLxIqShpb21h0wJR+p+U7f\n",
       "qr6JwLbc3UpLegOciA5grqPiXCSrsFqbY1ssADEt3lgUhTTS1ajE8SD/FxK+23tPEdGFbNCBG507\n",
       "Ci2h45WrO+hEJ4N17mHfyKxegrBrMkRzBTV6EEnknGeVWKclMpjyb/2BYxkHCZo16afXYS5jXYAC\n",
       "+QTpWqaufcAmJhtGKScLI+CMtMeQjKdcJMro0QYoZ5m4q8JIz9JsFcc09PsrS42DhKJDX64UfAXA\n",
       "vsXCFOwcww/Q3z3Kb/J7iX2Wos4to9xye5bWjhvGprjYnXSRfOWyu6V+Iyb6L4nMC+fp8A4Ng1YB\n",
       "iXZRYy57bJ3A4ngGMT8TzcwmX+AKyNtTzP5hWhZNMbuIoFui7tBSjKHJQBK9kvUwNhnTM1j8iAXl\n",
       "2oCShXCFmSQkrwKVRfpgCXfpV4fmpD96/D7297OnINg5NcogceTIRKNiwjYDPg/zsZK+rkpR4lu8\n",
       "d2cW8/92BoXLczraDUMUne+BytJqZ9HT7OI+2VysDMub9IXL7UG5fWvuqLEatlkqiGz4Ds/RZvhE\n",
       "EXZqHiTtxkvieAPbSkSVHzIoJmONAmJFR0yJ1tnlBl96p807R5zyoHY0aTkcjqejyAFDwje63QZP\n",
       "8MhlrFjoNTNcSyUd0cykMfK7ogsVct5bWVpPnbScEkkhnpb7p0VS71yi+mX3ydfRz0/GmcsXVqch\n",
       "XqL5bV/yPetcn2zaOalZDzG+/qIhVROUvlGNeOxWFrz+/du23Ilynct7HkbDrA0FgARfAxZ9qmQ1\n",
       "RjZzXV2elBd8OFyHlVUWm3HgS3zsDfC1a6d1ScxPJEGzOk7f9tfaIJL5Qto33lHiDFGfSXn66h9G\n",
       "7E6ozZdGIjFSdqIpUGuS+F8t9Nf3HxG1DPgrVtK0AAAAAElFTkSuQmCC\n",
       "\" style=\"display:inline;vertical-align:middle;\" /></a><br>(see <a class=\"ProveItLink\" href=\"../../../__pv_it/theorems/0a21487ad39c80144d9bae5484e98a5e7d31b6580/dependencies.ipynb\">dependencies</a>)<br>"
      ],
      "text/plain": [
       "<IPython.core.display.HTML object>"
      ]
     },
     "metadata": {},
     "output_type": "display_data"
    }
   ],
   "source": [
    "%proving exp_even_neg_base_lesseq"
   ]
  },
  {
   "cell_type": "code",
   "execution_count": null,
   "metadata": {},
   "outputs": [],
   "source": []
  }
 ],
 "metadata": {
  "kernelspec": {
   "display_name": "Python 3",
   "language": "python",
   "name": "python3"
  }
 },
 "nbformat": 4,
 "nbformat_minor": 0
}