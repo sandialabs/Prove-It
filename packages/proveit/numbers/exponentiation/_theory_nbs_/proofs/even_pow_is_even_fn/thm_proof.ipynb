{
 "cells": [
  {
   "cell_type": "markdown",
   "metadata": {},
   "source": [
    "Proof of <a class=\"ProveItLink\" href=\"../../../../../_theory_nbs_/theory.ipynb\">proveit</a>.<a class=\"ProveItLink\" href=\"../../../../_theory_nbs_/theory.ipynb\">numbers</a>.<a class=\"ProveItLink\" href=\"../../theory.ipynb\">exponentiation</a>.<a class=\"ProveItLink\" href=\"../../theorems.ipynb#even_pow_is_even_fn\">even_pow_is_even_fn</a> theorem\n",
    "========"
   ]
  },
  {
   "cell_type": "code",
   "execution_count": 1,
   "metadata": {},
   "outputs": [],
   "source": [
    "import proveit\n",
    "theory = proveit.Theory() # the theorem's theory"
   ]
  },
  {
   "cell_type": "code",
   "execution_count": 2,
   "metadata": {},
   "outputs": [
    {
     "data": {
      "text/html": [
       "With these <a href=\"allowed_presumptions.txt\">allowed</a>/<a href=\"disallowed_presumptions.txt\">disallowed</a> theorem/theory presumptions (e.g., to avoid circular dependencies), we begin our proof of<br><strong id=\"even_pow_is_even_fn\">even_pow_is_even_fn:</strong> <a class=\"ProveItLink\" href=\"../../../__pv_it/theorems/d35602df5ebe719148e93b4d62ccc27626f0b38f0/expr.ipynb\"><img src=\"data:image/png;base64,iVBORw0KGgoAAAANSUhEUgAAARoAAAAmBAMAAADpUknrAAAAMFBMVEX///8AAAAAAAAAAAAAAAAA\n",
       "AAAAAAAAAAAAAAAAAAAAAAAAAAAAAAAAAAAAAAAAAAAv3aB7AAAAD3RSTlMAq1RmmUTNIjK7EInv\n",
       "3XZ/CtNrAAAACXBIWXMAAA7EAAAOxAGVKw4bAAAD9ElEQVRYw62YS2gTQRiA/+a1m02sBUGwh5Ki\n",
       "0pxsFB9QxUZbHwcfAS+CRQIepJ7Wm0ptIygUKjaVFlwFCVYFLWoVFTy0RPEgFeuDIkUppFoVH6go\n",
       "paJgnMduO5ntTjZ2fshsMv/s5tt//tcugEhq8z+hiGyEucvlDB535n+Ll1UXvZCvQgKN+ooeh+ZK\n",
       "sxpkyHI5NKrjBfpuVrqnCUak0AT6nTRx2O6eRhuSQlObcdJMQltKdGah7TZIoXntqKkjNN6GUxNu\n",
       "bNemS6BRRTE5gD69TbGw7sJ2wX4JNGVpclC4ad0M2z448h7mZ1zYzpuVQDM/Rg5vuOm9eDicgZM6\n",
       "VEGTG9spPygNyV6LnWmE+k5iBQ8fWOUIUokrWPkIGlXHlMfYboTSbMKH/c40Qn09Tey2+QPINO3H\n",
       "0d8o32E0Ovu5hbbbTGmOYTulnWmE+oVkbLDNrwR4ms+jL/4K+Byb9VTOdt8oTQDdQSjiTCPU3ydj\n",
       "1jYfzhRNeJztalOExovQAwIvFur/ELdJ2lN0rCgNZ7vOCI2pJ2Njj0UxJdKTfsPHOLH2tbLjFjKm\n",
       "qLKbawrlRozSbAU4K6IR6GlcsobwwXgO5VivzVzbx7A8Z9ZwuSJHaQ6CUnAn5d1VrSwNp1dG7sA6\n",
       "c0IlNPMYr1oD9ZkFaPOyAtuYaziafkoTzIQSVgoYNxJal+45x9Iweji1qAeqQxmf6aT+SeKySH2Z\n",
       "3PoopGioqt8FNOYajiZOaTy5aSdtRI4dug6wlqVh9L6tOBPm4iFgbRNOsJcdJphZoQcPO9NAcj0a\n",
       "vm6Z0HEKhd4TTN0hlQHraT15i39Gl7YW0rA7Bf4puIru4JnAb8w1s/sN3EKZs1xfFIhcwdM1NXyd\n",
       "wnpSTzSSBKOhC3ssHyIxFczNhEtPWRaQB3jTgpAy18xS8TBNC/JJL5xXYReprXU8DdaTeuInwROF\n",
       "+Efrwn/xyISz59fFrD9SGPS8WGsKpc3MN1BG+owp1HEbhhFp383TED2uJ95mwziNaPqmHekh2a+Z\n",
       "bdF25JaswJuXENjGXMPV3wTbUahZBTrInSIv1uwdBa4naj+1jX+ZNdtMxlHbtY+W/NRAWlqLpiWU\n",
       "9KFYxr5wW4dBGw2tJyQLrgIYt6a3WTWSk4aSaQbYbsv3bvATKGdI+9zcnbLR0HpyGCnUlzqUTXcU\n",
       "JPEE+V5TSZdM02Xv/foMIyHq/bR7Rk9hdSHeqPF/HtRLpvkpoRMNxsmhlZv+UDIMSkFzp/FmQY6E\n",
       "khJotElJNOGIjKe7u5Jovkh51gyn5NA8kEJjb6v+S8qTct7f7JNC06LLobmmS4DRXrh6m1T8vZ9y\n",
       "QAJNMObqvZ8LOSSB5pL15R8+OylD5Kn0gwAAAABJRU5ErkJggg==\n",
       "\" style=\"display:inline;vertical-align:middle;\" /></a><br>(see <a class=\"ProveItLink\" href=\"../../../__pv_it/theorems/392aa7defdf011f13cb34bfd5b925b3cb9e024980/dependencies.ipynb\">dependencies</a>)<br>"
      ],
      "text/plain": [
       "<IPython.core.display.HTML object>"
      ]
     },
     "metadata": {},
     "output_type": "display_data"
    }
   ],
   "source": [
    "%proving even_pow_is_even_fn"
   ]
  },
  {
   "cell_type": "code",
   "execution_count": null,
   "metadata": {},
   "outputs": [],
   "source": []
  }
 ],
 "metadata": {
  "kernelspec": {
   "display_name": "Python 3",
   "language": "python",
   "name": "python3"
  }
 },
 "nbformat": 4,
 "nbformat_minor": 0
}