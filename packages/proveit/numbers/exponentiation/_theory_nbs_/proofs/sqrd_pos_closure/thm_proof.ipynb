{
 "cells": [
  {
   "cell_type": "markdown",
   "metadata": {},
   "source": [
    "Proof of <a class=\"ProveItLink\" href=\"../../../../../_theory_nbs_/theory.ipynb\">proveit</a>.<a class=\"ProveItLink\" href=\"../../../../_theory_nbs_/theory.ipynb\">numbers</a>.<a class=\"ProveItLink\" href=\"../../theory.ipynb\">exponentiation</a>.<a class=\"ProveItLink\" href=\"../../theorems.ipynb#sqrd_pos_closure\">sqrd_pos_closure</a> theorem\n",
    "========"
   ]
  },
  {
   "cell_type": "code",
   "execution_count": 1,
   "metadata": {},
   "outputs": [],
   "source": [
    "import proveit\n",
    "theory = proveit.Theory() # the theorem's theory"
   ]
  },
  {
   "cell_type": "code",
   "execution_count": 2,
   "metadata": {},
   "outputs": [
    {
     "data": {
      "text/html": [
       "With these <a href=\"allowed_presumptions.txt\">allowed</a>/<a href=\"disallowed_presumptions.txt\">disallowed</a> theorem/theory presumptions (e.g., to avoid circular dependencies), we begin our proof of<br><strong id=\"sqrd_pos_closure\">sqrd_pos_closure:</strong> <a class=\"ProveItLink\" href=\"../../../__pv_it/theorems/e2f9573186316e9cee3f1ae89ff424e8036145d90/expr.ipynb\"><img src=\"data:image/png;base64,iVBORw0KGgoAAAANSUhEUgAAAMEAAAAaCAMAAAA5ZchCAAAAOVBMVEX///8AAAAAAAAAAAAAAAAA\n",
       "AAAAAAAAAAAAAAAAAAAAAAAAAAAAAAAAAAAAAAAAAAAAAAAAAAAAAAACXHtMAAAAEnRSTlMAq1Rm\n",
       "mUTNIjK7EInv3Xbt5cmRiLwgAAAACXBIWXMAAA7EAAAOxAGVKw4bAAAC5UlEQVRYw9VYCXYaMQwd\n",
       "75Zkq63vf9h6GWbVACGQvjovBIw11pe+tkzTP1xIpBRO/9MybvfRtt/81YfY05ufW/pwZ6mAQolf\n",
       "fArc3gT4cdL4o0vwWwgmwz+MAIywSfdYZHwCKD6nrejG8rkFkVp9bD4LICRhM2Z8YPBQNXTKAAoI\n",
       "uGlvl+Dy4bMILAmoAB9RJlD/E7uyUFdqL8PaWKp4VD8VF8WdAdTQDuEJBDZMXvDB5BsSP1uB9GcB\n",
       "xIJnD8QY7W6bIdflBQQgIbDtg5np7z/sAj6HbCptbTacZxR9oBCVhIB7bKWGOif6MAK1mCgo4iAl\n",
       "wuBRZlEEvUbpFoHrjrU9IcPz1f1uLbx8DNxudqkqA0U4KOSSiiD5XPLGN3ZHzdhNcnsR62gmb5Vn\n",
       "saQI6b2HKxGfXOrnGzCZq2bCy5FsDF5RPIz00MxPp0QRWQHUXZ6qMhToKQTDEK1WuuOpPNvOduJn\n",
       "gbRx8Lku2LMI0FzUKhwINAvwrZ2rPdefWv/5KQSq8yA10RJkHyRYbz6oAxfZNNorkt96Er90GEiG\n",
       "qV3NC+iOgNHKCBaBQXEaj23XJS0iwNKuMkXSJ1/VAxsvqlWc7UR6TgKYw9jcmKOxKADLjcki0Ksl\n",
       "/OrVcmT+fHC8ghmBHolJn8OW+QJBVYdFHrk5IYSkbtRpbGzfmA0CCwRyc7gKjKNmU7vSQR2ejwG3\n",
       "9GDFjOa1gMCOogVOav1ud6uZ88nN3ZLx3aagB4vIaRnBIrDl8WBR0bK5UDHFoFhqqlGBw1NvCi37\n",
       "gi9C02DVMbLbWYM4RZq2ceAcoYRgFWgs+v1n7rnESO5oHy5HsOsqHix/5FZqrHZt8Fhjf2TTi0he\n",
       "BTY9YuezU8/0pt+dmU510VmjmcxoupZWxdOE1noJwSqwq+q1olk8p/v3z93q7v8RGiXc/TFvV7wf\n",
       "jnzq7d1vfnGkkRE85i6+u/19eU4WEegn4lS/NxJen8len0aNeyeCEWp/AeWeGHSwYL0IAAAAAElF\n",
       "TkSuQmCC\n",
       "\" style=\"display:inline;vertical-align:middle;\" /></a><br>(see <a class=\"ProveItLink\" href=\"../../../__pv_it/theorems/1eeb6becb70c3f00131cd72b7f50863144a70adb0/dependencies.ipynb\">dependencies</a>)<br>"
      ],
      "text/plain": [
       "<IPython.core.display.HTML object>"
      ]
     },
     "metadata": {},
     "output_type": "display_data"
    },
    {
     "name": "stdout",
     "output_type": "stream",
     "text": [
      "sqrd_pos_closure may now be readily provable (assuming required theorems are usable).  Simply execute \"%qed\".\n"
     ]
    }
   ],
   "source": [
    "%proving sqrd_pos_closure"
   ]
  },
  {
   "cell_type": "code",
   "execution_count": null,
   "metadata": {},
   "outputs": [],
   "source": []
  }
 ],
 "metadata": {
  "kernelspec": {
   "display_name": "Python 3",
   "language": "python",
   "name": "python3"
  }
 },
 "nbformat": 4,
 "nbformat_minor": 0
}