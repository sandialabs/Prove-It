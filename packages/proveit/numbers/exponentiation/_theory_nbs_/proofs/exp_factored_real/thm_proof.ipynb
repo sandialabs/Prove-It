{
 "cells": [
  {
   "cell_type": "markdown",
   "metadata": {},
   "source": [
    "Proof of <a class=\"ProveItLink\" href=\"../../../../../_theory_nbs_/theory.ipynb\">proveit</a>.<a class=\"ProveItLink\" href=\"../../../../_theory_nbs_/theory.ipynb\">numbers</a>.<a class=\"ProveItLink\" href=\"../../theory.ipynb\">exponentiation</a>.<a class=\"ProveItLink\" href=\"../../theorems.ipynb#exp_factored_real\">exp_factored_real</a> theorem\n",
    "========"
   ]
  },
  {
   "cell_type": "code",
   "execution_count": 1,
   "metadata": {},
   "outputs": [],
   "source": [
    "import proveit\n",
    "theory = proveit.Theory() # the theorem's theory"
   ]
  },
  {
   "cell_type": "code",
   "execution_count": 2,
   "metadata": {},
   "outputs": [
    {
     "data": {
      "text/html": [
       "With these <a href=\"allowed_presumptions.txt\">allowed</a>/<a href=\"disallowed_presumptions.txt\">disallowed</a> theorem/theory presumptions (e.g., to avoid circular dependencies), we begin our proof of<br><strong id=\"exp_factored_real\">exp_factored_real:</strong> <a class=\"ProveItLink\" href=\"../../../__pv_it/theorems/e48dd0fc5d4587c3e213a22b1fbc111b7e5f790a0/expr.ipynb\"><img src=\"data:image/png;base64,iVBORw0KGgoAAAANSUhEUgAAAYMAAAAbBAMAAABsCP67AAAAMFBMVEX///8AAAAAAAAAAAAAAAAA\n",
       "AAAAAAAAAAAAAAAAAAAAAAAAAAAAAAAAAAAAAAAAAAAv3aB7AAAAD3RSTlMAq1RmmUTNIjK7EInv\n",
       "3XZ/CtNrAAAACXBIWXMAAA7EAAAOxAGVKw4bAAAEm0lEQVRYw81Yb2gURxR/udvL3e7l1sMPASvI\n",
       "gkI+FOUoNNAg8YIXMYToYbRQLXhiQWwhbD4GRa9YlNLQGypit0pcIQgaNYvSqvlQgyIqpZAPSkEJ\n",
       "bEix1agcghjyQZzZndk/c3Or0j+XgXs3N++93febfe/Nbw9gcYzU3vezT8/Dohkf0+/lAl28WNct\n",
       "WZXIl7QIEMTydHJHoFxV309FSUSQoMZDOMMS6fWMyeuUEsuaWZvTXH5kQyeZdTYewlG2qw/UPK+T\n",
       "c3RyPzUZ1lzQK2XIEMxEZMnSykYhSE564cZLvHI//ZaQUg5rClDBqEnoRHSTpT2NgiBZdNJSlrK8\n",
       "spfpaqr6FjzG2bQArvi6oUWxhEW3BFo0XvmS6XS+SF7ByDmA3WSORTNOprTWKAgVVsMZ85Oao2KB\n",
       "TpqLYIVVt1PzHQA9ZIpFHNdMc8Oq+ZkX7ya7pm9OsYJZ38l1q60fzeGwn5IpEb9PT//WMAitRAz+\n",
       "ekCkayqJdMnlfzGwO00qNgL8JDjA/x8IBv4kbsMptsvStDOcypZRWOeOz3WZJVilTMUgJLOCVvEP\n",
       "4qpp8G3cbz9nduHP+Rz0iS7TnBXolJsgsQQ7WKRCNtPBprX6l64BH8Jh2qtiD79oDSUrNSPjeplb\n",
       "QRxv46jO9bK/P/fwZzPAQxGETD6sGyeJJVUhw2p7vEhFzPaqOTVjFNU0XLE8CE3E/Ptlx8C20vsE\n",
       "Zs5m8CuI422nw0/2ICSs4FO4C8rLek8hqCOQoAW5kTsXKjNR8nhGAf9UVeiw04W+Qrd74uA7byTP\n",
       "3o5frDFzfz7mVxDH27rZCezZfxmAoLyGeBUEtYAhhHTuztuwzuvIOhOXyAXHOq+ASjgJjuRJ3tux\n",
       "yvMPYNZJX1sdpYwraEYcByC8QhPJ521TlKjJzB4usSiWYQgvcO9pE3UkJNCNa9Aa07mOBPsxZuWP\n",
       "1Cs463TjdHIk50F4Zv6pOBHZ1tAsZVxBM+I4H3JkEAhv6zHwyCVLlKjJzN5n0aSrj8DqfF7EpycF\n",
       "OtmO3WOltNYTTSRZ8vge/Y6jdAL5eXsU2hNOXHbPNca4gmbEsRpyZBB83pZAlKjJzB4+g0BrPz13\n",
       "ZEVZACGxINApK64O/k3nXZ5wmRSmfO14zzRVTW/xz4U70BXfaxg/4ET6WaOMK2hGHFF4hULweVss\n",
       "67j1GCfxI3Hs4Vuoy+BCZC567PaEk2K63GF+52ymmtjhHyZVuJGy3FrYNkEZV8gMOz7hHRHjbW4i\n",
       "pRAlajKz9xNJsiJC7I1G4DFVuht6pd+UTSelYYJmn2LBgzhyz27cVEdhzGFcAbMx4niId0Qcb5ui\n",
       "RE12b3TIhOdef56MiHE4GkI8y4Sbd+vXXIbkj3j26SNrdAO9/g34Bt9sCCdjYuArpVAa1gjjCpgN\n",
       "ayJHxPG245SoyexGeIWNpRExNkUT6IzORGCMGUYoN2Puw7hmHKMLGm+miRz5t48d4XMBXxHVvDsL\n",
       "M6UUCeGd3p238z3CfNuCEIKkc7xL8rcuFlUMH0a+s77TPxg5PvvgbQtCCDBR578jfv4e/yPhfTCZ\n",
       "+A+GXpMR3O9/975vAEradZ40gZJBAAAAAElFTkSuQmCC\n",
       "\" style=\"display:inline;vertical-align:middle;\" /></a><br>(see <a class=\"ProveItLink\" href=\"../../../__pv_it/theorems/8e3fc6e1af2232a6ed4b0b126bb3a1c374dbde400/dependencies.ipynb\">dependencies</a>)<br>"
      ],
      "text/plain": [
       "<IPython.core.display.HTML object>"
      ]
     },
     "metadata": {},
     "output_type": "display_data"
    }
   ],
   "source": [
    "%proving exp_factored_real"
   ]
  },
  {
   "cell_type": "code",
   "execution_count": null,
   "metadata": {},
   "outputs": [],
   "source": []
  }
 ],
 "metadata": {
  "kernelspec": {
   "display_name": "Python 3",
   "language": "python",
   "name": "python3"
  }
 },
 "nbformat": 4,
 "nbformat_minor": 0
}