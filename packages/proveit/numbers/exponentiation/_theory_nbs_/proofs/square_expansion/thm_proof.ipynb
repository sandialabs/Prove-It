{
 "cells": [
  {
   "cell_type": "markdown",
   "metadata": {},
   "source": [
    "Proof of <a class=\"ProveItLink\" href=\"../../../../../_theory_nbs_/theory.ipynb\">proveit</a>.<a class=\"ProveItLink\" href=\"../../../../_theory_nbs_/theory.ipynb\">numbers</a>.<a class=\"ProveItLink\" href=\"../../theory.ipynb\">exponentiation</a>.<a class=\"ProveItLink\" href=\"../../theorems.ipynb#square_expansion\">square_expansion</a> theorem\n",
    "========"
   ]
  },
  {
   "cell_type": "code",
   "execution_count": 1,
   "metadata": {},
   "outputs": [],
   "source": [
    "import proveit\n",
    "theory = proveit.Theory() # the theorem's theory"
   ]
  },
  {
   "cell_type": "code",
   "execution_count": 2,
   "metadata": {},
   "outputs": [
    {
     "data": {
      "text/html": [
       "With these <a href=\"allowed_presumptions.txt\">allowed</a>/<a href=\"disallowed_presumptions.txt\">disallowed</a> theorem/theory presumptions (e.g., to avoid circular dependencies), we begin our proof of<br><strong id=\"square_expansion\">square_expansion:</strong> <a class=\"ProveItLink\" href=\"../../../__pv_it/theorems/a340272ade9c3b1c9d605d60295cdebab63752ff0/expr.ipynb\"><img src=\"data:image/png;base64,iVBORw0KGgoAAAANSUhEUgAAAK8AAAAaBAMAAAAzuxGAAAAAMFBMVEX///8AAAAAAAAAAAAAAAAA\n",
       "AAAAAAAAAAAAAAAAAAAAAAAAAAAAAAAAAAAAAAAAAAAv3aB7AAAAD3RSTlMAq1RmmUTNIjK7EInv\n",
       "3XZ/CtNrAAAACXBIWXMAAA7EAAAOxAGVKw4bAAACrUlEQVRIx2NgIApw7RZcwEBNwBwAoVkYWC4Q\n",
       "r4uFsBIVKM0fwP6DeIPZJxAMgQSYyxdgMZgdq6Egwo6QwZwGcCY3ZlA8wqaF9QGQ4AVGiACIp4zD\n",
       "4BoEsxcj8pg2YNXzGIj5gKa6gjjpOAz2RvhwFobkMux62IAu4PrFwNCIL7C/wlklDOXoks44EpID\n",
       "kEiGWMCtgF0Nxy+4g2d0eKHLHsDhmlNA7Am0ABg/bDiU8MEjjOf//w/oQZyAQxfQtQxvgPjs3bun\n",
       "cShhBOld93DFbmw+YgHGHdc7qe5NcBGoyo1AZjwwHDwYGGbhSm2gsHfgk0PkOt+7IHARHEkGoCz2\n",
       "8IEvXDlUpRmQ2d/AwFDIwC6A4v8pcnWwCAZKMBcw/2I0wGIrL9Bx5gz2C4ThsQZVqQNk1wOLAs4F\n",
       "3AGwyHo4M4BrYgHTbJheYARzMLBgD0weoK4GBjcwez1ICUxlP0gAKMn0AB53LkAPcK9jYLBGcjHQ\n",
       "hAc4DWZgOAd3AVxlDMjFQJMYEkA5+537kwI+kI8XtyIKAYjB8QVcC7CEMSgoGFi/M6xC2AVRqQty\n",
       "dQGQ2JQFDNgCSTaFlSBJdXWkVAGMvJUBMgzcWGP2AQPXVMYDDPCMDVNpCU0VDDWgKGKYx8EQDJK2\n",
       "skKKR2Ae0O/yYQjCZjC3AAPTjyUHWOFJEaYSVA7YgN0FCg+G78B0MnPmTIWOCKSSCpjzlrxjcsaa\n",
       "MTkuMHD5PVAxggvAVF4FYkeEsgPsDN1ghwAjjwsmehRfmXoDRyl/AZr7IOUjdwILMOGBxLcUMOzD\n",
       "LN2wABMc9ZIBpHSD8p7uewUsaUDM1ZlTGmDCPXhrgQKswpWgvCKAKrZ65swA1MJCAV+9hb2wnQ5K\n",
       "igXE1nlYQR3WErGAmDqPQZusRgPhWhreriANsABTAQCmJJxHX4bmmgAAAABJRU5ErkJggg==\n",
       "\" style=\"display:inline;vertical-align:middle;\" /></a><br>(see <a class=\"ProveItLink\" href=\"../../../__pv_it/theorems/40bdcac255804c45e1ed4fa594182a4641e358070/dependencies.ipynb\">dependencies</a>)<br>"
      ],
      "text/plain": [
       "<IPython.core.display.HTML object>"
      ]
     },
     "metadata": {},
     "output_type": "display_data"
    },
    {
     "name": "stdout",
     "output_type": "stream",
     "text": [
      "square_expansion may now be readily provable (assuming required theorems are usable).  Simply execute \"%qed\".\n"
     ]
    }
   ],
   "source": [
    "%proving square_expansion"
   ]
  },
  {
   "cell_type": "code",
   "execution_count": null,
   "metadata": {},
   "outputs": [],
   "source": []
  }
 ],
 "metadata": {
  "kernelspec": {
   "display_name": "Python 3",
   "language": "python",
   "name": "python3"
  }
 },
 "nbformat": 4,
 "nbformat_minor": 0
}