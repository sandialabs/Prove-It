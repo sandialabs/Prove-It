{
 "cells": [
  {
   "cell_type": "markdown",
   "metadata": {},
   "source": [
    "Proof of <a class=\"ProveItLink\" href=\"../../../../../_theory_nbs_/theory.ipynb\">proveit</a>.<a class=\"ProveItLink\" href=\"../../../../_theory_nbs_/theory.ipynb\">numbers</a>.<a class=\"ProveItLink\" href=\"../../theory.ipynb\">exponentiation</a>.<a class=\"ProveItLink\" href=\"../../theorems.ipynb#complex_x_to_first_power_is_x\">complex_x_to_first_power_is_x</a> theorem\n",
    "========"
   ]
  },
  {
   "cell_type": "code",
   "execution_count": 1,
   "metadata": {},
   "outputs": [],
   "source": [
    "import proveit\n",
    "theory = proveit.Theory() # the theorem's theory"
   ]
  },
  {
   "cell_type": "code",
   "execution_count": 2,
   "metadata": {},
   "outputs": [
    {
     "data": {
      "text/html": [
       "With these <a href=\"allowed_presumptions.txt\">allowed</a>/<a href=\"disallowed_presumptions.txt\">disallowed</a> theorem/theory presumptions (e.g., to avoid circular dependencies), we begin our proof of<br><strong id=\"complex_x_to_first_power_is_x\">complex_x_to_first_power_is_x:</strong> <a class=\"ProveItLink\" href=\"../../../__pv_it/theorems/0745069ee9c9256bc3bd81a115a89dec186eecf40/expr.ipynb\"><img src=\"data:image/png;base64,iVBORw0KGgoAAAANSUhEUgAAAIMAAAAaBAMAAABm2vLeAAAAMFBMVEX///8AAAAAAAAAAAAAAAAA\n",
       "AAAAAAAAAAAAAAAAAAAAAAAAAAAAAAAAAAAAAAAAAAAv3aB7AAAAD3RSTlMAq1RmmUTNIjK7EInv\n",
       "3XZ/CtNrAAAACXBIWXMAAA7EAAAOxAGVKw4bAAACAElEQVQ4y51VS0sCURT+1FFzpkRoVYQIBS0i\n",
       "ihYFFj3oTQ+G2rRTaBG1aVoXZYsgKsqgoCkIoRY9oCLaBeKmVRT9AUGhNlHuonDVudaY0h1vdGGc\n",
       "45x7vznnO985A/xpyY3477KpX/f1V75fEkNUGUYt3+8MC+MPCiDQKoJw1YsgSiKAhxmVJhvmIIJw\n",
       "0/luZkyYbBgQQshpYLEQKW9CCIwDDkpG8fHdRWkxRD9VnhhzmCX6YFiz01GTPS903cXjtyZuC9VU\n",
       "TpWvXvKcZ8mja4o+QFn0AbtmNQ0z/SUTQ1kxxjMrU8V2t1eiKDdCwAycnrzot7zz36aDHE1oi5Ty\n",
       "pK/Z0hYiYYFawBVRVIO+pK7Km5p1z9BNOxBCD59qSBnpntNhayLLZhcFpZwBzTlRAPcmaRYn2O8C\n",
       "nUGQ6TzV+6i5mZwPlkgnuRD2d5zwuEBAk4nKDY3MyykiQCtz+I6Zo7o6pyJhyNuWGC44MRyrFVDw\n",
       "VRHMEagN+0UYZS6/P4fZGKwfhzE7T3l1K4MYoXtL5l0sG7wDjbqu+5bHfrbZ05CHE1UNPCYOU9ZO\n",
       "Bt3xQ3DMiVVmMDpl4+mNeCiNZ7taCUpUXtZyVxqivzsVBTr1m+qn6DOcO8w8ndwKGY/XxMPVk///\n",
       "VNfV/CbxiSBKtD/PTvx3dqJG4BdP8Ox3xGxJVIFPTGRwk+/gxqQAAAAASUVORK5CYII=\n",
       "\" style=\"display:inline;vertical-align:middle;\" /></a><br>(see <a class=\"ProveItLink\" href=\"../../../__pv_it/theorems/5707f44a310e7195856f785ff13d2add641e40ff0/dependencies.ipynb\">dependencies</a>)<br>"
      ],
      "text/plain": [
       "<IPython.core.display.HTML object>"
      ]
     },
     "metadata": {},
     "output_type": "display_data"
    },
    {
     "name": "stdout",
     "output_type": "stream",
     "text": [
      "complex_x_to_first_power_is_x may now be readily provable (assuming required theorems are usable).  Simply execute \"%qed\".\n"
     ]
    }
   ],
   "source": [
    "%proving complex_x_to_first_power_is_x"
   ]
  },
  {
   "cell_type": "code",
   "execution_count": null,
   "metadata": {},
   "outputs": [],
   "source": []
  }
 ],
 "metadata": {
  "kernelspec": {
   "display_name": "Python 3",
   "language": "python",
   "name": "python3"
  }
 },
 "nbformat": 4,
 "nbformat_minor": 0
}