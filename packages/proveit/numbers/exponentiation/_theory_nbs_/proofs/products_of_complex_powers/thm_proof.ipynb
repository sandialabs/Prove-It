{
 "cells": [
  {
   "cell_type": "markdown",
   "metadata": {},
   "source": [
    "Proof of <a class=\"ProveItLink\" href=\"../../../../../_theory_nbs_/theory.ipynb\">proveit</a>.<a class=\"ProveItLink\" href=\"../../../../_theory_nbs_/theory.ipynb\">numbers</a>.<a class=\"ProveItLink\" href=\"../../theory.ipynb\">exponentiation</a>.<a class=\"ProveItLink\" href=\"../../theorems.ipynb#products_of_complex_powers\">products_of_complex_powers</a> theorem\n",
    "========"
   ]
  },
  {
   "cell_type": "code",
   "execution_count": 1,
   "metadata": {},
   "outputs": [],
   "source": [
    "import proveit\n",
    "theory = proveit.Theory() # the theorem's theory"
   ]
  },
  {
   "cell_type": "code",
   "execution_count": 2,
   "metadata": {},
   "outputs": [
    {
     "data": {
      "text/html": [
       "With these <a href=\"allowed_presumptions.txt\">allowed</a>/<a href=\"disallowed_presumptions.txt\">disallowed</a> theorem/theory presumptions (e.g., to avoid circular dependencies), we begin our proof of<br><strong id=\"products_of_complex_powers\">products_of_complex_powers:</strong> <a class=\"ProveItLink\" href=\"../../../__pv_it/theorems/889204c5a7265ae24bf7fd08904f9bf2d634ede40/expr.ipynb\"><img src=\"data:image/png;base64,iVBORw0KGgoAAAANSUhEUgAAAqgAAAAaBAMAAACJC7M4AAAAMFBMVEX///8AAAAAAAAAAAAAAAAA\n",
       "AAAAAAAAAAAAAAAAAAAAAAAAAAAAAAAAAAAAAAAAAAAv3aB7AAAAD3RSTlMAq1RmmUTNIjK7EInv\n",
       "3XZ/CtNrAAAACXBIWXMAAA7EAAAOxAGVKw4bAAAGrklEQVRo3tVZbYgUZRz/38ysuzt7Oy59MEw4\n",
       "NiyOEGVjVfICO18uy7CWE3pTaPsk9qH2+hBcL7ZJVtKlWyk6GjaHIchFt1yhdh/kUsJCgisEwTiY\n",
       "I9M0lSMwpQ/W8zzzvMzM89zumLOg/w//3Wfm9//tzG+ft98MwJ0Z79UUB1Mbb6W6EVcj5si/Goq2\n",
       "idO3gZCLeEJXVFch5kS9H1HdPR2GcxlyC9TnCJk18Uu0i5hxO3ROrZslFO1VFeSHiFS+6v7pMJwr\n",
       "LbdAfY6SFe8gUQ/whGL7lXsUA/HGpBOJyletu9MMas6VllpBUX2/6pEVIYc/5jYXNRKupfEpTygu\n",
       "O2dlhHXG6o5E5a8+o4YIrrTUCorq/9Uznqg9+GNDc1Ej4VoZyTGWPHEXQ3+4W6YLern3bCnK/7OY\n",
       "f59UQzBXcg8TTjDLouJzAbIivIMvtdZc1Ei4VoZRZ8mbx5al5jvSVGnkxsyp5lyomn8fdqaZdo3c\n",
       "ZtTxHrc/s+0CY/ZaDCPOBciKMAN9ZPLNRY2Ea2XMLLGEYwqOQTYsx0xoz1dSY825ULW+vNgzD69X\n",
       "Mwrqn0Nc3mhOB5jlnorPLZy7sPcIIyuCXoiwDiFAJFwrY7vDEpm89JosatZZgu4zwvBH1doF+F4j\n",
       "nV89/AgXF1Uw45ZZhyGcxLkFtfbSPEaGVv+fJiZORln9o+BaGZdZSs4578K7VyAoat/RTZB6Eq2+\n",
       "jzWZmln1brNs4JFnyT2bc3FRBTNpnYCBCkriXLp6AJYzsiKB7okiahRcK2MWS+sr6X9oZxJnEyfg\n",
       "c9LMOG5DGl49rtWzOq70mmsmcPwc4BKiCmbFPhVfCsyD8QIlQ6L2QTKn/PlMUFQ1joE6FQT07rSK\n",
       "YsMiHelUayAUsmkyj4MxTnaSl0YE7ssCrCFfXvl3vJGmvNrMWaW285jmehjDubadzPs8lMescFQo\n",
       "BuF36KhQMiRq2smEZqG3nijp3wXKsagh3PxDy14WrHop5KcvLDvvGsxdBt2xtaNjk+QOJYIgB4oX\n",
       "aTKmIOv3qObfOD8F8Ku/drgs64mB4Wo0H1wNA8NcN7Pvu+qJqrn+9Sc1aZe03CislkT14TDIysDh\n",
       "OgcN+vz0ttk74eDd8EA9Ufe6hHDHuND8uKLthXWhqxkM2vkQB45TNLXXYDjQC8iJH8EMiJNVuAAM\n",
       "lKpDdSqumwiTigrlpb6jK9EuQ1tqQF0S1YfDIMuCLpeDeoSfNvB8PuqCXoeXSLsk3DEuzHwF8DDZ\n",
       "ofmjJ2DIwxz+njrswiPyzdwAfSrKXcvVyeuhOTUyl6qn0uEPI+i69RXbJq0lVbDwPkvb/Ixbz6xc\n",
       "s7InICrGwdDSwx4IiXqxm4PGhZ/+DV/XQ0jJCox4czh3x6Rw/xb029KWdzxgyMMcAVHzMEuaps2/\n",
       "oK3cGUVUqTp17f9yqZ4YXKOivonG5/71hfaclYODZGWpjt6v6KkYZ55GZQRkZZL7CgyULHM/beKZ\n",
       "UXuVXPd9OL0m3DEp7OwE39Mm9g+X/YZc4sAxm6a0q50ypLvZB/O7pRGPJ1Yyk4oZVq6mq38zrmjB\n",
       "Vn9oQ8Pu9XMws4o84FpPVMOqyaJinNGNbAUBWcbeGl+oEjXuxhO4N+r7Sc98jibmnElhVxer8F9M\n",
       "zW/IJQ4cl2gyO470/SHdzeCf73dITwPJxHoqMMPK1fpYJK5ooY/5H/11wABk87DYtu28VjXrZVlU\n",
       "4ohLqDsTkGVlermoWo67cX2jbX+S2kIuaitO9wpPTgo/eJaMk6ColIBdWpgDxwsOSzE/U8jFTVYU\n",
       "jxguwNsp+NDrqdDrSvtUb0BV0l0OAVlWYp3DQFgi6sZTZLlGiww43tDdKpwzKcQLlRke/pSAGnKJ\n",
       "w/s/WYo3pvH+t0DGRE1Oob66xECbUW/PaOXUD6nbK9vXOgSEtlSjVJghss4wN05s1xurIOPCFWyQ\n",
       "s8I5k8LkNxU4Cpbr2WeaKAEz5AEO5VOq+GLYiZuMiZrIwQbouwjJ3ajx0Qb6TFoWNbFiwdce6Olz\n",
       "9S8e9Q4O5GEXcDfej0etechGu6JdkDoG6Qp3zqQQhjbuqOKjA3nmoQUBNeQBDtaZx1iKNx6MnUx6\n",
       "nTJk2yW1928AyrO9PBbV/NbeKRZxDej2nThnUXiQlEkE1JAHOWjcxVOscTp2sljeUSUcMCqSGwdy\n",
       "8HmAVSpPvoqUhQm4IQ9w0Ai8o4otdDd2slhExc96RhXH8dvkAu6jipKSV9aYAPgbabJ+1lmKM/rj\n",
       "J4sqatP3/qbimBP6bAg31bxOWOBFMYu6Om4ya+L4f/nFMP6Wr898AAAAAElFTkSuQmCC\n",
       "\" style=\"display:inline;vertical-align:middle;\" /></a><br>(see <a class=\"ProveItLink\" href=\"../../../__pv_it/theorems/bccd67c0dc2a0ab585d368659da1164b98dbf4600/dependencies.ipynb\">dependencies</a>)<br>"
      ],
      "text/plain": [
       "<IPython.core.display.HTML object>"
      ]
     },
     "metadata": {},
     "output_type": "display_data"
    }
   ],
   "source": [
    "%proving products_of_complex_powers"
   ]
  },
  {
   "cell_type": "code",
   "execution_count": null,
   "metadata": {},
   "outputs": [],
   "source": []
  }
 ],
 "metadata": {
  "kernelspec": {
   "display_name": "Python 3",
   "language": "python",
   "name": "python3"
  }
 },
 "nbformat": 4,
 "nbformat_minor": 0
}