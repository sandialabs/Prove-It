{
 "cells": [
  {
   "cell_type": "markdown",
   "metadata": {},
   "source": [
    "Proof of <a class=\"ProveItLink\" href=\"../../../../../_theory_nbs_/theory.ipynb\">proveit</a>.<a class=\"ProveItLink\" href=\"../../../../_theory_nbs_/theory.ipynb\">numbers</a>.<a class=\"ProveItLink\" href=\"../../theory.ipynb\">exponentiation</a>.<a class=\"ProveItLink\" href=\"../../theorems.ipynb#sqrt2_is_not_rational\">sqrt2_is_not_rational</a> theorem\n",
    "========"
   ]
  },
  {
   "cell_type": "code",
   "execution_count": null,
   "metadata": {},
   "outputs": [],
   "source": [
    "import proveit\n",
    "from proveit import defaults, Variable\n",
    "from proveit import p, a_star, b_star\n",
    "from proveit.logic import InSet, Equals\n",
    "from proveit.numbers import (zero, two, NaturalPos, \n",
    "                             Rational, RationalNonZero, RationalPos, \n",
    "                             Abs, greater, Mult, frac, Divides, GCD, Exp, sqrt)"
   ]
  },
  {
   "cell_type": "code",
   "execution_count": null,
   "metadata": {},
   "outputs": [],
   "source": [
    "%proving sqrt2_is_not_rational"
   ]
  },
  {
   "cell_type": "markdown",
   "metadata": {},
   "source": [
    "### Setting up a contradiction proof by first assuming $\\sqrt{2} \\in \\mathbb{Q}$"
   ]
  },
  {
   "cell_type": "code",
   "execution_count": null,
   "metadata": {},
   "outputs": [],
   "source": [
    "sqrt_2_is_rational = InSet(sqrt(two), Rational)"
   ]
  },
  {
   "cell_type": "code",
   "execution_count": null,
   "metadata": {},
   "outputs": [],
   "source": [
    "defaults.assumptions = [sqrt_2_is_rational]"
   ]
  },
  {
   "cell_type": "markdown",
   "metadata": {},
   "source": [
    "### If $\\sqrt{2}$ is in $\\mathbb{Q}$, then $\\left|\\sqrt{2}\\right|$ is in $\\mathbb{Q^+}$\n",
    "***($\\sqrt{2} \\in \\mathbb{Q^+}$ as well by convention, but this proof is really about showing that no squared rational number is equal to $2$.)***"
   ]
  },
  {
   "cell_type": "markdown",
   "metadata": {},
   "source": [
    "#### We know that a non-zero rational raised to a rational power is non-zero."
   ]
  },
  {
   "cell_type": "code",
   "execution_count": null,
   "metadata": {},
   "outputs": [],
   "source": [
    "sqrt(two).deduce_not_zero()"
   ]
  },
  {
   "cell_type": "markdown",
   "metadata": {},
   "source": [
    "#### The absolute value of a non-zero rational is a positive rational."
   ]
  },
  {
   "cell_type": "code",
   "execution_count": null,
   "metadata": {},
   "outputs": [],
   "source": [
    "abs_sqrt_2_is_rational_pos = InSet(Abs(sqrt(two)), RationalPos).prove()"
   ]
  },
  {
   "cell_type": "markdown",
   "metadata": {},
   "source": [
    "### Choose relatively prime $a^*$ and $b^*$ such $\\left| \\sqrt{2} \\right| = a^* / b^*$ assuming $\\sqrt{2} \\in \\mathbb{Q}$\n",
    "#### (Relatively prime means there are no nontrivial common divisors; that is, $gcd(a^*, b^*) = 1$ where $gcd$ is the \"greatest common divisor\")"
   ]
  },
  {
   "cell_type": "code",
   "execution_count": null,
   "metadata": {},
   "outputs": [],
   "source": [
    "abs_sqrt_2_is_rational_pos.choose_reduced_rational_fraction(a_star, b_star)"
   ]
  },
  {
   "cell_type": "markdown",
   "metadata": {},
   "source": [
    "### From $\\sqrt{2} = a^* / b^*$, derive $2 \\cdot (b^*)^2 = (a^*)^2$"
   ]
  },
  {
   "cell_type": "code",
   "execution_count": null,
   "metadata": {},
   "outputs": [],
   "source": [
    "sqrt_2_equation = Equals(Abs(sqrt(two)), frac(a_star, b_star)).prove()"
   ]
  },
  {
   "cell_type": "code",
   "execution_count": null,
   "metadata": {},
   "outputs": [],
   "source": [
    "sqrt_2_equation = sqrt_2_equation.right_mult_both_sides(b_star)"
   ]
  },
  {
   "cell_type": "code",
   "execution_count": null,
   "metadata": {},
   "outputs": [],
   "source": [
    "sqrt_2_equation = sqrt_2_equation.square_both_sides()"
   ]
  },
  {
   "cell_type": "code",
   "execution_count": null,
   "metadata": {},
   "outputs": [],
   "source": [
    "two_bStar_sqrd__eq__a_star_sqrd = sqrt_2_equation.inner_expr().lhs.distribute()"
   ]
  },
  {
   "cell_type": "markdown",
   "metadata": {},
   "source": [
    "### Now prove that $2~|~a^*$ via $2 \\cdot (b^*)^2 = (a^*)^2$"
   ]
  },
  {
   "cell_type": "code",
   "execution_count": null,
   "metadata": {},
   "outputs": [],
   "source": [
    "InSet(Exp(b_star, two), NaturalPos).prove()"
   ]
  },
  {
   "cell_type": "markdown",
   "metadata": {},
   "source": [
    "#### Proving $2~|~(2 \\cdot (b^*)^2)$ is trivial knowing $(b^*)^2 \\in \\mathbb{N^+}$"
   ]
  },
  {
   "cell_type": "code",
   "execution_count": null,
   "metadata": {},
   "outputs": [],
   "source": [
    "two_divides_two_bStar_sqrd = Divides(two, Mult(two, Exp(b_star, two))).prove()"
   ]
  },
  {
   "cell_type": "code",
   "execution_count": null,
   "metadata": {},
   "outputs": [],
   "source": [
    "two_bStar_sqrd__eq__a_star_sqrd.sub_right_side_into(two_divides_two_bStar_sqrd)"
   ]
  },
  {
   "cell_type": "markdown",
   "metadata": {},
   "source": [
    "#### $2~|~(a^*)$ was proven as a side-effect of  $2~|~(a^*)^2$ since any integer is even if its square is even"
   ]
  },
  {
   "cell_type": "code",
   "execution_count": null,
   "metadata": {},
   "outputs": [],
   "source": [
    "two_divides_a_star = Divides(two, a_star).prove()"
   ]
  },
  {
   "cell_type": "markdown",
   "metadata": {},
   "source": [
    "### Next derive $2~|~b^*$ from $2 \\cdot (b^*)^2 = (a^*)^2$ and $2~|~(a^*)$ in a few steps\n",
    "#### Derive $2^{2}~|~(a^{*})^{2}$ from $2~|~(a^{*})$"
   ]
  },
  {
   "cell_type": "code",
   "execution_count": null,
   "metadata": {},
   "outputs": [],
   "source": [
    "two_sqrd__divides__a_star_sqrd = \\\n",
    "    two_divides_a_star.introduce_common_exponent(two)"
   ]
  },
  {
   "cell_type": "markdown",
   "metadata": {},
   "source": [
    "#### Derive $2^{2}~|~2 \\cdot (b^{*})^2$ from $2^{2}~|~(a^{*})^2$"
   ]
  },
  {
   "cell_type": "code",
   "execution_count": null,
   "metadata": {},
   "outputs": [],
   "source": [
    "two_sqrd__divides__two_bStar_sqrd = \\\n",
    "    two_bStar_sqrd__eq__a_star_sqrd.sub_left_side_into(\n",
    "        two_sqrd__divides__a_star_sqrd)"
   ]
  },
  {
   "cell_type": "markdown",
   "metadata": {},
   "source": [
    "#### Derive $2~|~(b^*)^2$ from $2^{2}~|~2 \\cdot (b^{*})^2$"
   ]
  },
  {
   "cell_type": "code",
   "execution_count": null,
   "metadata": {},
   "outputs": [],
   "source": [
    "two_sqrd__eq__two_times_two = Exp(two, two).expansion(auto_simplify=False)"
   ]
  },
  {
   "cell_type": "code",
   "execution_count": null,
   "metadata": {},
   "outputs": [],
   "source": [
    "two_sqrd__eq__two_times_two.sub_right_side_into(\n",
    "    two_sqrd__divides__two_bStar_sqrd)"
   ]
  },
  {
   "cell_type": "code",
   "execution_count": null,
   "metadata": {},
   "outputs": [],
   "source": [
    "Divides(two, Exp(b_star, two)).prove()"
   ]
  },
  {
   "cell_type": "markdown",
   "metadata": {},
   "source": [
    "#### Finally, derive $2~|~(b^*)$ from $2~|~(b^*)^2$"
   ]
  },
  {
   "cell_type": "code",
   "execution_count": null,
   "metadata": {},
   "outputs": [],
   "source": [
    "two_divides_bStar = Divides(two, b_star).prove()"
   ]
  },
  {
   "cell_type": "markdown",
   "metadata": {},
   "source": [
    "### Prove a contradiction given that $2~|~(a^*)$, $2~|~(b^*)$, and $a^*$ and $b^*$ were chosen to be relatively prime"
   ]
  },
  {
   "cell_type": "code",
   "execution_count": null,
   "metadata": {},
   "outputs": [],
   "source": [
    "a_star_bStar_relatively_prime = GCD(a_star, b_star).deduce_relatively_prime()"
   ]
  },
  {
   "cell_type": "code",
   "execution_count": null,
   "metadata": {},
   "outputs": [],
   "source": [
    "two_does_not_divide_both = a_star_bStar_relatively_prime.instantiate({p:two})"
   ]
  },
  {
   "cell_type": "code",
   "execution_count": null,
   "metadata": {},
   "outputs": [],
   "source": [
    "contradiction_with_choices = two_does_not_divide_both.derive_contradiction()"
   ]
  },
  {
   "cell_type": "markdown",
   "metadata": {},
   "source": [
    "### Use the existence of $a^*$ and $b^*$, assuming $\\sqrt{2} \\in \\mathbb{Q}$, to eliminate extra assumptions (effective Skolemization)"
   ]
  },
  {
   "cell_type": "code",
   "execution_count": null,
   "metadata": {},
   "outputs": [],
   "source": [
    "contradiction = contradiction_with_choices.eliminate(a_star, b_star)"
   ]
  },
  {
   "cell_type": "markdown",
   "metadata": {},
   "source": [
    "### Prove $\\sqrt{2} \\notin \\mathbb{Q}$ via contradiction"
   ]
  },
  {
   "cell_type": "code",
   "execution_count": null,
   "metadata": {},
   "outputs": [],
   "source": [
    "sqrt2_impl_F = contradiction.as_implication(hypothesis=sqrt_2_is_rational)"
   ]
  },
  {
   "cell_type": "code",
   "execution_count": null,
   "metadata": {},
   "outputs": [],
   "source": [
    "sqrt2_impl_F.deny_antecedent(assumptions=[])"
   ]
  },
  {
   "cell_type": "code",
   "execution_count": null,
   "metadata": {},
   "outputs": [],
   "source": [
    "%qed"
   ]
  },
  {
   "cell_type": "code",
   "execution_count": null,
   "metadata": {},
   "outputs": [],
   "source": []
  }
 ],
 "metadata": {
  "kernelspec": {
   "display_name": "Python 3",
   "language": "python",
   "name": "python3"
  }
 },
 "nbformat": 4,
 "nbformat_minor": 0
}
