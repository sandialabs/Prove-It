{
 "cells": [
  {
   "cell_type": "markdown",
   "metadata": {},
   "source": [
    "Proof of <a class=\"ProveItLink\" href=\"../../../../../_theory_nbs_/theory.ipynb\">proveit</a>.<a class=\"ProveItLink\" href=\"../../../../_theory_nbs_/theory.ipynb\">numbers</a>.<a class=\"ProveItLink\" href=\"../../theory.ipynb\">exponentiation</a>.<a class=\"ProveItLink\" href=\"../../theorems.ipynb#square_abs_real_simp\">square_abs_real_simp</a> theorem\n",
    "========"
   ]
  },
  {
   "cell_type": "code",
   "execution_count": 1,
   "metadata": {},
   "outputs": [],
   "source": [
    "import proveit\n",
    "theory = proveit.Theory() # the theorem's theory"
   ]
  },
  {
   "cell_type": "code",
   "execution_count": 2,
   "metadata": {},
   "outputs": [
    {
     "data": {
      "text/html": [
       "With these <a href=\"allowed_presumptions.txt\">allowed</a>/<a href=\"disallowed_presumptions.txt\">disallowed</a> theorem/theory presumptions (e.g., to avoid circular dependencies), we begin our proof of<br><strong id=\"square_abs_real_simp\">square_abs_real_simp:</strong> <a class=\"ProveItLink\" href=\"../../../__pv_it/theorems/ab67408b1339d16d432ea46a27fff650158c146e0/expr.ipynb\"><img src=\"data:image/png;base64,iVBORw0KGgoAAAANSUhEUgAAAJoAAAAmBAMAAADO2Z8qAAAAMFBMVEX///8AAAAAAAAAAAAAAAAA\n",
       "AAAAAAAAAAAAAAAAAAAAAAAAAAAAAAAAAAAAAAAAAAAv3aB7AAAAD3RSTlMAq1RmmUTNIjK7EInv\n",
       "3XZ/CtNrAAAACXBIWXMAAA7EAAAOxAGVKw4bAAACnUlEQVRIx5WWTWjUQBTHn93sZjdJs+vRiyx4\n",
       "8FTJqYciJcUPRCgGC148NDdBQSKIXsSuJwWVFvVgLNQIXqSVXRRbUJDFSxUR9NSDLKyXUvSyrEpL\n",
       "hdaZzCTdhJnM5B1md/Y9fvuf95EMQLYpdZAz7aJE0ATI2v1AGFJwpWmFmjDkXuIPtXf7MwQ8ENIu\n",
       "JZMIyld+7JLoqEPbiW3VUbeYFQg1K6KjDreSqQnYNKJZ3RTQZtPideZJqeZ5Ae0AXjy68bhtQDUf\n",
       "FdB+4+UN3aBP9QknMNQ8U4cwdYfYMeXNFO0qXM9o3WEbTuDNBU5D9pI09fGd08xAollx4RbezLFp\n",
       "+9wkzdjd7TEDiWazByWkUeeMtlFLnZRjVPPQFhQsgBInqtqSo1HN5T7Al07nM49mUcqV9zd5tNBF\n",
       "RwK1wCkAXt1n6oRWXIWnwQBtsoPtG/5KXNR2EBzUwQEbWZ64HI8CpS1ZMMnRRlzU/gFUAt2J+uuH\n",
       "75g6rETTOe0Q2hmA7xwacVH7gyrRjYtwvIHKbMJYN6XtE2h/OTTi2qOBO46WxfEVMHHSEe2nnaRp\n",
       "O2Efs/JGXXt5g1fo/aCtoSl6gX8xdXXBiqpAaqr1UR8fZmqjroGxvoGKoNjlNkyFNGU+noxml5x0\n",
       "AUZsm31S4qJN3Mfzg7JlOGYNRn3fr5umfjbuSpvQnv26fbDBphEXLWKUwaZXGQvuhtrM4vmogUpz\n",
       "crOQfu4b3uxUUAnCvMHbSLrSzkWLH8zFY0deo+FF386tt56fjJ5I27loleRrZtH3nVTF8tCqVrb/\n",
       "EV426GZDRJv2sv2i90bSlgX+ppOH9kFUJTcHzGyLIj7moBnCq95oDtq6MKJkScPUVfH9c02a9lLi\n",
       "TnstkKU9lNHfkL1F42b6DyNow67UPt3PAAAAAElFTkSuQmCC\n",
       "\" style=\"display:inline;vertical-align:middle;\" /></a><br>(see <a class=\"ProveItLink\" href=\"../../../__pv_it/theorems/88b42d6ae12cf865a0a3bc1a2f6fb49702d9a48b0/dependencies.ipynb\">dependencies</a>)<br>"
      ],
      "text/plain": [
       "<IPython.core.display.HTML object>"
      ]
     },
     "metadata": {},
     "output_type": "display_data"
    }
   ],
   "source": [
    "%proving square_abs_real_simp"
   ]
  },
  {
   "cell_type": "code",
   "execution_count": null,
   "metadata": {},
   "outputs": [],
   "source": []
  }
 ],
 "metadata": {
  "kernelspec": {
   "display_name": "Python 3",
   "language": "python",
   "name": "python3"
  }
 },
 "nbformat": 4,
 "nbformat_minor": 0
}