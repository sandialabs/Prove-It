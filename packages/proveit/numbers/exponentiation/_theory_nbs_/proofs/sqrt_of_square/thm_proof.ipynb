{
 "cells": [
  {
   "cell_type": "markdown",
   "metadata": {},
   "source": [
    "Proof of <a class=\"ProveItLink\" href=\"../../../../../_theory_nbs_/theory.ipynb\">proveit</a>.<a class=\"ProveItLink\" href=\"../../../../_theory_nbs_/theory.ipynb\">numbers</a>.<a class=\"ProveItLink\" href=\"../../theory.ipynb\">exponentiation</a>.<a class=\"ProveItLink\" href=\"../../theorems.ipynb#sqrt_of_square\">sqrt_of_square</a> theorem\n",
    "========"
   ]
  },
  {
   "cell_type": "code",
   "execution_count": 1,
   "metadata": {},
   "outputs": [],
   "source": [
    "import proveit\n",
    "theory = proveit.Theory() # the theorem's theory"
   ]
  },
  {
   "cell_type": "code",
   "execution_count": 2,
   "metadata": {},
   "outputs": [
    {
     "data": {
      "text/html": [
       "With these <a href=\"allowed_presumptions.txt\">allowed</a>/<a href=\"disallowed_presumptions.txt\">disallowed</a> theorem/theory presumptions (e.g., to avoid circular dependencies), we begin our proof of<br><strong id=\"sqrt_of_square\">sqrt_of_square:</strong> <a class=\"ProveItLink\" href=\"../../../__pv_it/theorems/753fb86739a0885765c4db690a5e5ae2851173180/expr.ipynb\"><img src=\"data:image/png;base64,iVBORw0KGgoAAAANSUhEUgAAAK4AAAAmBAMAAACvwb1oAAAAMFBMVEX///8AAAAAAAAAAAAAAAAA\n",
       "AAAAAAAAAAAAAAAAAAAAAAAAAAAAAAAAAAAAAAAAAAAv3aB7AAAAD3RSTlMAq1RmmUTNIjK7EInv\n",
       "3XZ/CtNrAAAACXBIWXMAAA7EAAAOxAGVKw4bAAADTUlEQVRIx51XXWjTUBQ+bdKkS9rMIT5MRAqK\n",
       "ICIOkQkirmM6RZ2ECb4IruCDoCARZL5MVt/EbTj8wXWD2Ychzr/VPUxwIEUQBVGqLz4VOtAJeyhl\n",
       "TjYmOM/NX5Os15v0wk1PmnO/e36+c24CwBh8AgIO6aIfrXYIPIaybB0uFRyX28DWGcwGx4U7bJVL\n",
       "Djm0tn7UXPSMaUx41XFzw6+9PDMQ8ZzjZsQvrrjM0rjt8Cg67DvAYyyFZmd403jRTI7ONmUtucY4\n",
       "yML95ZB7cSpmlfDAF+AcdVl/AvQQb6M8jzoDtQnnLlNuVMUVUFqoaUnCEfJ7gcbwiiMZWCGSVSVc\n",
       "FnGBWrB8SiePSMtIKOVuFHzVQrkAsI+Gq1RAwIzLtN4ScxDxEbl3N4EYjf/hFeDQBIG2b6ODvtM4\n",
       "d1SjMooXgRbg6CLAp2LxIxW3ulBCv+EEzhdzj2cTcBWuoZ/eupLKmwfI/hLy6BjA6H/4QrSIu3ry\n",
       "z+NMKlv5gjhy87jV7LqKZHwx6DdX6iLCX4ArIDq33T3TfrlabjruYJJQh0hfEUvjVkMtsbU1pEo4\n",
       "77FjP7RlNxLhD0BDVlatsMxlVEWGV3ZUe8iT8E7CtjK5f4c6hESWfsWDm4ZOQ1jCZSU7bYexUhUF\n",
       "DpTc9kZI1RVMXGSB/TiSXxe5zzYupA4Rc45+1/QQIu5C0o0LRXQ/Z8YBndAkk1/hgie+EFmGJ2Z8\n",
       "YRrLRtGahcSkTmlZHLdZ0G9IbSrEdahxgEl1C8hW1XnqSbofykPO6it9mDYOxqNwWsflx6raU4bL\n",
       "jcNmY3gJsOfWSei2SjDnLYeJfIS4KC5a/Q+ww7RmMpmEosjd1XozIsIvm61gCGCiHO6wyjOueuw9\n",
       "Vdq+V0/obzu1eREGdHuVyFm7PAXDdHEpYmwQT7twrjOPrz45xSPj9PjCaztvvJnwh4LRw7mka3kH\n",
       "DVcuWAA/3iyASA6wM/O5iU67T5r79jSZfzxwHWPUg6nBXeBPMxl3xKRFM5BWf590rdZ89JXa457n\n",
       "DUYsOR7+pC7r0Ri4zAOw9phhKUypdeG+ZSnIqXpglTxT5UM9uDH2O3NrPbjzbBWhJTis+N7HS/23\n",
       "4LjP/Xw69AZ/sb7ry6l04O8Wws1/2ujRH9BPD1UAAAAASUVORK5CYII=\n",
       "\" style=\"display:inline;vertical-align:middle;\" /></a><br>(see <a class=\"ProveItLink\" href=\"../../../__pv_it/theorems/9076a7dbea5e5188c7ddaf89e840536e08b8adfa0/dependencies.ipynb\">dependencies</a>)<br>"
      ],
      "text/plain": [
       "<IPython.core.display.HTML object>"
      ]
     },
     "metadata": {},
     "output_type": "display_data"
    }
   ],
   "source": [
    "%proving sqrt_of_square"
   ]
  },
  {
   "cell_type": "code",
   "execution_count": null,
   "metadata": {},
   "outputs": [],
   "source": []
  }
 ],
 "metadata": {
  "kernelspec": {
   "display_name": "Python 3",
   "language": "python",
   "name": "python3"
  }
 },
 "nbformat": 4,
 "nbformat_minor": 0
}