{
 "cells": [
  {
   "cell_type": "markdown",
   "metadata": {},
   "source": [
    "Proof of <a class=\"ProveItLink\" href=\"../../../../../_theory_nbs_/theory.ipynb\">proveit</a>.<a class=\"ProveItLink\" href=\"../../../../_theory_nbs_/theory.ipynb\">numbers</a>.<a class=\"ProveItLink\" href=\"../../theory.ipynb\">exponentiation</a>.<a class=\"ProveItLink\" href=\"../../theorems.ipynb#complex_polar_num_eq_one\">complex_polar_num_eq_one</a> theorem\n",
    "========"
   ]
  },
  {
   "cell_type": "code",
   "execution_count": 1,
   "metadata": {},
   "outputs": [],
   "source": [
    "import proveit\n",
    "theory = proveit.Theory() # the theorem's theory"
   ]
  },
  {
   "cell_type": "code",
   "execution_count": 2,
   "metadata": {},
   "outputs": [
    {
     "data": {
      "text/html": [
       "With these <a href=\"allowed_presumptions.txt\">allowed</a>/<a href=\"disallowed_presumptions.txt\">disallowed</a> theorem/theory presumptions (e.g., to avoid circular dependencies), we begin our proof of<br><strong id=\"complex_polar_num_eq_one\">complex_polar_num_eq_one:</strong> <a class=\"ProveItLink\" href=\"../../../__pv_it/theorems/d99c1c9d816ec7b22c8aa003ad2bb3ed0d546c030/expr.ipynb\"><img src=\"data:image/png;base64,iVBORw0KGgoAAAANSUhEUgAAAQAAAAAeBAMAAAAx990KAAAAMFBMVEX///8AAAAAAAAAAAAAAAAA\n",
       "AAAAAAAAAAAAAAAAAAAAAAAAAAAAAAAAAAAAAAAAAAAv3aB7AAAAD3RSTlMAq1RmmUTNIjK7EInv\n",
       "3XZ/CtNrAAAACXBIWXMAAA7EAAAOxAGVKw4bAAADmklEQVRIx8VXW0gUURj+dWd2dh133HoIgi4L\n",
       "vfRQsT7oQ4isomWZsRT0YhezIBCLLQUpCrdegjRcutEqxDxEYJZOdl97CCIkIpAQosJQgh7KYklK\n",
       "KWo758ycM2fHGd3Ytf6Hb5idc+Z88//ff1mABTRXFP6vFWoYW78s/EklDGZbQbdbFRz2hXJ0fn6I\n",
       "go15g96AFLN/djRHBK4xSDd3EEE7uANQ7iCS8dwQOM/AhsAmKIqCT7Xf+QbAj6+rsjpfekxhFoEC\n",
       "DV4PrQRQ/PZbJwCq8fVAVgQEjcIsAp5hmIYqpMQf9lsHVDiJ2ceyIlAUpmAXgiQMI9xnvxWtcKPo\n",
       "yIGsCHSpFOwINAkBogR758XAhRa5s9PgZwZ8+i8b1QnUD+LbSfutClLOi7Gx59kRWGKA56FUG6Q/\n",
       "3nhZxgtvj9VBHbHW2wAi0kYNQHdG5ygOyQxxA2RvrcxyYTlIvPC6SFsQxohhZtoF7RHiPANwGCR/\n",
       "RgQe5Dk82GtAi3vEzIWp9MrQbtGoFDwItejyDZVKVQ7PkWLmllieQ3MbNeBMkR6AgQb0aalU6ief\n",
       "b5YzPOoUUQoikD9ualDaatTGtfcqDumVnD2Ta85yccx7dqcnZPEADbQPPfB8bWs7xnvASl4kAZJQ\n",
       "CKDBjG2v2oT2TsTDigz3tXQC3pI1lD1a4IvI/aqVQB13wG9LqkYsGhBGyKumEQw2cUX9HEAVIqso\n",
       "sH48nYCPdRS8wAWnWuiTpRTeciduUUGaKwt8GvPDcUQov7J8I3JIEhpBwYFEBD6GLB6gyaLokQ6x\n",
       "9jtpAFYUs5tPdr/jbsuswtFV6cJZg7Xl2hlsJHVpBnrJIbJ0JZhOwPM+YsRJ76RHomlfh0Ac4U+o\n",
       "+8732gorgV26xmkCni4F9D5fz60kbCcEhJ6YRYTMyALol83JK0zB2Zx7gWErSFeJCCEojcfjAUWR\n",
       "t/EEUsyS+gLQEnB9vm7IFWbnbmjYU0IACiPQQTygiPWqgwfIAnF1EBI0OI8pOM/HDrWumBWAJEAf\n",
       "6oyVuDARDUCCF6G4rtpUI14gC1zIFzNwMl/E/vdXTGGIYWdAHEKdU7qM7nd80K5u4AgUwoBZrfCC\n",
       "4kWfLvnnmwlNy2wmNKaCvng8zCWffih0Yj80N++3LiBTsUbBaWjLaCoW7QZHpoGLiIQoy3//v4DI\n",
       "1GEm3ZzuD5iDgBCFE+jbvf/83xUtpwkF412n8XrBzZ36RVSSn3MCfwBE/ujez3PgbQAAAABJRU5E\n",
       "rkJggg==\n",
       "\" style=\"display:inline;vertical-align:middle;\" /></a><br>(see <a class=\"ProveItLink\" href=\"../../../__pv_it/theorems/69e8686cc0e8c100480079ff334f24baf07774dd0/dependencies.ipynb\">dependencies</a>)<br>"
      ],
      "text/plain": [
       "<IPython.core.display.HTML object>"
      ]
     },
     "metadata": {},
     "output_type": "display_data"
    }
   ],
   "source": [
    "%proving complex_polar_num_eq_one"
   ]
  },
  {
   "cell_type": "code",
   "execution_count": null,
   "metadata": {},
   "outputs": [],
   "source": []
  }
 ],
 "metadata": {
  "kernelspec": {
   "display_name": "Python 3",
   "language": "python",
   "name": "python3"
  }
 },
 "nbformat": 4,
 "nbformat_minor": 0
}