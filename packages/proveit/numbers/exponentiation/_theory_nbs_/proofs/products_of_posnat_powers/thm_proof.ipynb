{
 "cells": [
  {
   "cell_type": "markdown",
   "metadata": {},
   "source": [
    "Proof of <a class=\"ProveItLink\" href=\"../../../../../_theory_nbs_/theory.ipynb\">proveit</a>.<a class=\"ProveItLink\" href=\"../../../../_theory_nbs_/theory.ipynb\">numbers</a>.<a class=\"ProveItLink\" href=\"../../theory.ipynb\">exponentiation</a>.<a class=\"ProveItLink\" href=\"../../theorems.ipynb#products_of_posnat_powers\">products_of_posnat_powers</a> theorem\n",
    "========"
   ]
  },
  {
   "cell_type": "code",
   "execution_count": 1,
   "metadata": {},
   "outputs": [],
   "source": [
    "import proveit\n",
    "theory = proveit.Theory() # the theorem's theory"
   ]
  },
  {
   "cell_type": "code",
   "execution_count": 2,
   "metadata": {},
   "outputs": [
    {
     "data": {
      "text/html": [
       "With these <a href=\"allowed_presumptions.txt\">allowed</a>/<a href=\"disallowed_presumptions.txt\">disallowed</a> theorem/theory presumptions (e.g., to avoid circular dependencies), we begin our proof of<br><strong id=\"products_of_posnat_powers\">products_of_posnat_powers:</strong> <a class=\"ProveItLink\" href=\"../../../__pv_it/theorems/ac57c9fc4239307434193c163412a0e7015439810/expr.ipynb\"><img src=\"data:image/png;base64,iVBORw0KGgoAAAANSUhEUgAAAssAAAAaBAMAAACz2wxLAAAAMFBMVEX///8AAAAAAAAAAAAAAAAA\n",
       "AAAAAAAAAAAAAAAAAAAAAAAAAAAAAAAAAAAAAAAAAAAv3aB7AAAAD3RSTlMAq1RmmUTNIjK7EInv\n",
       "3XZ/CtNrAAAACXBIWXMAAA7EAAAOxAGVKw4bAAAG3klEQVRo3t1ab4hUVRQ/O/Nm5s2b3XEosCRa\n",
       "JtTaWlym1NAwW22XTJEGC6I02vCDJASzfrNMJyFCWvWRiI4fakwQbI0ZtgzbD2HFsokUEywF5sTb\n",
       "orZtVSQyZaE/97z7/tz77p15b3CMqQP7Zt65v3feeb8599x7zluA/4GEvw+ulcnDRqOYuraD35iX\n",
       "O6u5lqN2KT5P1joZk0LGgtpqzzpfe/0xvbxt/grPoIKHS9V0IDcGWi+AQ/g8C6yT2BUZRK6VyS73\n",
       "63Z/jM7b1jmYZzBmjoYz/1Waj5M/zfYrrO8sS+auVCuT5bEZ5yLDF6PztkWa2RuvtGhO4ed8P5rb\n",
       "zAjKtA7NB8hf3Panbeq+cREi18qkc9tJJyue98XovG2RZvbGHUVKcz+ebPGjWcHMFG2dDB07Qw47\n",
       "nLz5A+Rhe9GbTYk20tMfwNpXadX5PlkHEztiM8nYFmk23bEkmaI0v+ZkkHo0q6l6eevfFwVn5Ton\n",
       "b/blQV3kpRm17VAK8Jv9vsY9KRVrY3afB6VQOFs44Ni2Tm2v3EFbtFlKc5SYTaR9c/NW8jHSOjTP\n",
       "wdl11cmbkUqOTk8umxJtDIYC7Af152KwZP6SDadxymZqY2hG0XnbYjTjYHj14v5uZHszpRlXwaj/\n",
       "Eri4tVbC/YRTddbJm2qlLNJsauGgv7E2Y28CevT2bDdGpF4b49LM2MbTYdDK5MAMhqZhLIRT7nFr\n",
       "p/FltXrOn+b2avVCuXVovoRpr4KT+Y4pAw7BrXmOZler5OsbGvxkJ8Rzbcsgnj8Oq9HqmdoYl2bG\n",
       "Np4O5dRxcmAHD2sDCiaJixbNJOcc8aeZmIwXW4fmuRhgOLs25eKzzJpuiasdTda1ExmHd+h1HdAN\n",
       "FUJHhF64voryNY9xaWZsi0nDlEqo3BEmn88XKc2DEEtJXUiwNBPMoBR1j9x/jHwjKMLXmuWMCy/g\n",
       "fo48kvY5KBVTo150lw5XG/37z7o0n8zAevrtKPwEnSQe1eu1MfvOpZmyz7ItqQLRhVQy2zaF6S1P\n",
       "aY4XE1ne7qvrsuFPrULRKU+OwCkONL1qyqD1LlfCxyZOwYoUvR014I9gFpqs0BBgnXHhL+BjEiPK\n",
       "FejgclkJfZVredH+wOMTAN95thRXvUgR04jsylKaQwa7AqqThWwoNQprvTT3uCvgvnkH4cRtcG/Z\n",
       "DAKmhMeBuxJFpUhJjJQhEMKVo3wnwuuMC5/AaU4stOtQ4oIElTW0HkETcBY0D62aQPNZiS64lCya\n",
       "YWAlo8UtX2ilglOapznqlKEK7jJHDQjjQ/czJbw5MN/oTdiTB3eBARCu9POdCMGZrd5oLhnwiOTR\n",
       "pFqJaH9B2NP5iF335GYJpqFotpIGjBDnw4/um0wuz0MSFaHdTxvlRN/6vn6G5sTdJAK1D2Zy8CPe\n",
       "exn5kXBlrTAlPA5A18KdCfiwb6Iva220/RGuVLiGgOjMiEBzGuaGhOJUrpXR/BtZSPn1QL3mj2lo\n",
       "65mzaN5B3D22KdOeIoXhCbN3kR9dKERzjCRIeD+3P6fhYhraRp8iNuCW8OYAdCXe3WjH6oJACCaS\n",
       "BriGgOiMA5+HOw1iLW6EJhTh0eRaMxtjlqZp2ZS3YVEvn1Ais97rREwjYu80oI2E9cs/w5w8qWCf\n",
       "pE+mJHUvzXA7zmJS+ETwmvAxusWJ6G5HwRyALuidtkl8hkFgB0COYB5R5xoCojMO/KK1w9U6Tw/+\n",
       "IhIq1ToJnaZluhjMvNHJ76zDwr5ZxDQiK7hGaCchsCMNDxYKhXQor5UHBJppv3oSwi8WCm+pr9Mb\n",
       "h1JuR8EcICQOR20S9zAI7ADIEUwT2cJaIjqzh40RMe6a0i1JNdfeKo7mL2AadqnwJg0g2GB49s00\n",
       "Sq7BgfdUM3WSJRCw4NXdjgId6IJIj7UrNue4jcAOgBzB5EWdawiIzjhw813G2M2gOdrkbu9mlmay\n",
       "vnfCcoVWemT3mkxJ2/rj6tWHaM34ymOQMIbNRcvpKJgDS5le4mVgENgBkCDMZoB5cLFWQ0B05rK8\n",
       "Q9dMKTW31rU7dFZWTMEWGPwVYofJyd4tAHKan3pgJgPbcVZrHxXWwFCa1O9uRwEH1G9y9B0AmMU9\n",
       "g8AOgAShfmZ3BBgsbQiIzhxy4h4z6NDNoPn+5poLp0D2kmq4UMjKehrsD/RxwW57pWEj85aAGQB7\n",
       "Y+EisAMgQ4ScMxdrNQS8zmhu/+AWXLvTN4Hmb5trriMHN/wuMFIEJSd0FNzVJMcgpN0FHHtWtOY0\n",
       "BCRwS7h3gc2MPqO59ux3gTdCM3agRmtftjQIAjIBrVlwe1OCybm7+TQ3+Q1RQ2+2X6rzfxpa7cuK\n",
       "QRGBrHng3P9pNE/WNnl7iC5fupD5BxSNV2BLycAwAAAAAElFTkSuQmCC\n",
       "\" style=\"display:inline;vertical-align:middle;\" /></a><br>(see <a class=\"ProveItLink\" href=\"../../../__pv_it/theorems/ce0d9cd8fed2b28970a28dd74870918a85e61e900/dependencies.ipynb\">dependencies</a>)<br>"
      ],
      "text/plain": [
       "<IPython.core.display.HTML object>"
      ]
     },
     "metadata": {},
     "output_type": "display_data"
    }
   ],
   "source": [
    "%proving products_of_posnat_powers"
   ]
  },
  {
   "cell_type": "code",
   "execution_count": null,
   "metadata": {},
   "outputs": [],
   "source": []
  }
 ],
 "metadata": {
  "kernelspec": {
   "display_name": "Python 3",
   "language": "python",
   "name": "python3"
  }
 },
 "nbformat": 4,
 "nbformat_minor": 0
}