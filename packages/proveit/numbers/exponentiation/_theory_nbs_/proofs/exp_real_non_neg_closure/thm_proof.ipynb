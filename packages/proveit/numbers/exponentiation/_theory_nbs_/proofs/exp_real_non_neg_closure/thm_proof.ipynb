{
 "cells": [
  {
   "cell_type": "markdown",
   "metadata": {},
   "source": [
    "Proof of <a class=\"ProveItLink\" href=\"../../../../../_theory_nbs_/theory.ipynb\">proveit</a>.<a class=\"ProveItLink\" href=\"../../../../_theory_nbs_/theory.ipynb\">numbers</a>.<a class=\"ProveItLink\" href=\"../../theory.ipynb\">exponentiation</a>.<a class=\"ProveItLink\" href=\"../../theorems.ipynb#exp_real_non_neg_closure\">exp_real_non_neg_closure</a> theorem\n",
    "========"
   ]
  },
  {
   "cell_type": "code",
   "execution_count": 1,
   "metadata": {},
   "outputs": [],
   "source": [
    "import proveit\n",
    "theory = proveit.Theory() # the theorem's theory"
   ]
  },
  {
   "cell_type": "code",
   "execution_count": 2,
   "metadata": {},
   "outputs": [
    {
     "data": {
      "text/html": [
       "With these <a href=\"allowed_presumptions.txt\">allowed</a>/<a href=\"disallowed_presumptions.txt\">disallowed</a> theorem/theory presumptions (e.g., to avoid circular dependencies), we begin our proof of<br><strong id=\"exp_real_non_neg_closure\">exp_real_non_neg_closure:</strong> <a class=\"ProveItLink\" href=\"../../../__pv_it/theorems/28c7376b77b96f3521f7a2da6b349916350b2ced0/expr.ipynb\"><img src=\"data:image/png;base64,iVBORw0KGgoAAAANSUhEUgAAAM0AAAAaBAMAAADmqcXNAAAAMFBMVEX///8AAAAAAAAAAAAAAAAA\n",
       "AAAAAAAAAAAAAAAAAAAAAAAAAAAAAAAAAAAAAAAAAAAv3aB7AAAAD3RSTlMAq1RmmUTNIjK7EInv\n",
       "3XZ/CtNrAAAACXBIWXMAAA7EAAAOxAGVKw4bAAADMElEQVRIx6VWXUgUURQ+7c46Pzs7bhpCCjHg\n",
       "c7IgCUnYSmt/QkwJQRhk+RBJxPgeuoHUQ8IOitUayQghhA9KRlYPsRSkFIEPRiFtjST9SIr0ULQP\n",
       "0bnztzOzu7TTHph779xz53znnvPdcwegQrmqFJ9nxvQu/HS2QoA9RretlJ3pEdK2wSmgKoEJxI2e\n",
       "T5ZaIYxiswjVMq1UgDNl9qnN+lJLghNA54AXcVP/L6Nmv6GuuY1fTP98byqDC0wOIjGIqABRMtHo\n",
       "G4bO2Hgtbg1LR0O142TEPZYQh9dAQJAOMnPeNw5lpX8R2r04s6BcIa60J0ncqkXgcgD6jP9EVUvm\n",
       "YAueFeIcqkKj25MmDwB6AaowdmHRN05KNQcrQdPJb9lsj43DArdDJm+bcBzbI5irGGL5p8GGNRja\n",
       "NPqT64791E8Cp5rn9Ci23/F5nc2+8o9TR8Ld8EWzedHniBsz4kn4GQQ9DDDuHyeNz2mZzVnvVXIe\n",
       "58XHD6onypiqfqCjXitcJ1k40CSXxDmLi54DtWTjOHgw14qJYtIoN825QWQNq4Ylh4HdD9svYRge\n",
       "IEQfkMQyF1waU5aR2lsQsYvbcBZFMeM23uzxagYRAprtC7OaloQwzOPX3JrEZeAlmW1wa+z98Ir+\n",
       "vSH3nLweYj1xGyQU77HLTwJfBQFaSXbpN/QSvDNOoltj4cxosN+2FHHiUNc8BzJFEnCfUGW6bR6E\n",
       "GOjW1rEUM50q7meBbOXPqurUGLITcUSoC1gZFDQHDqd8KuQbXEYacG+ZX8behTA9EYNQLdmonh9h\n",
       "RYg7NKbgiWC1wHL+ajmXx4lDMyu5cPbpNxXGhIozGejSrVG3FeBqyHCgkXjLxoI9eY3DQ27Xo/6v\n",
       "9sTkmGrV698ye+OHC8cugbyENbUFmSgKQviEaw2fpKKFGl7yMr37jlF3ikmvTTyZbVWv614LoW6V\n",
       "TiQSHVbFxJsqrymo1+UIZx9nXk51qTobkb1P4o5bHi+pvVCoYTI+cIJ2IQgdaJoD+haph59n7x7M\n",
       "LxkWmWNaMU2ND5yIp65Mp9MFYRdLaKZ84JTxfxBSS/3vlJ+gcq7R4L/+38q549HXv13d21BS8l+/\n",
       "AAAAAElFTkSuQmCC\n",
       "\" style=\"display:inline;vertical-align:middle;\" /></a><br>(see <a class=\"ProveItLink\" href=\"../../../__pv_it/theorems/8ddcd9d89191092b1b1943e99a184785823629060/dependencies.ipynb\">dependencies</a>)<br>"
      ],
      "text/plain": [
       "<IPython.core.display.HTML object>"
      ]
     },
     "metadata": {},
     "output_type": "display_data"
    },
    {
     "name": "stdout",
     "output_type": "stream",
     "text": [
      "exp_real_non_neg_closure may now be readily provable (assuming required theorems are usable).  Simply execute \"%qed\".\n"
     ]
    }
   ],
   "source": [
    "%proving exp_real_non_neg_closure"
   ]
  },
  {
   "cell_type": "code",
   "execution_count": null,
   "metadata": {},
   "outputs": [],
   "source": []
  }
 ],
 "metadata": {
  "kernelspec": {
   "display_name": "Python 3",
   "language": "python",
   "name": "python3"
  }
 },
 "nbformat": 4,
 "nbformat_minor": 0
}