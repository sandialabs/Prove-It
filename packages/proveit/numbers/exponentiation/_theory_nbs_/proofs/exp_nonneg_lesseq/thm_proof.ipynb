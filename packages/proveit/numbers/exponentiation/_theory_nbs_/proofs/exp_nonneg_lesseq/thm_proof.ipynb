{
 "cells": [
  {
   "cell_type": "markdown",
   "metadata": {},
   "source": [
    "Proof of <a class=\"ProveItLink\" href=\"../../../../../_theory_nbs_/theory.ipynb\">proveit</a>.<a class=\"ProveItLink\" href=\"../../../../_theory_nbs_/theory.ipynb\">numbers</a>.<a class=\"ProveItLink\" href=\"../../theory.ipynb\">exponentiation</a>.<a class=\"ProveItLink\" href=\"../../theorems.ipynb#exp_nonneg_lesseq\">exp_nonneg_lesseq</a> theorem\n",
    "========"
   ]
  },
  {
   "cell_type": "code",
   "execution_count": 1,
   "metadata": {},
   "outputs": [],
   "source": [
    "import proveit\n",
    "theory = proveit.Theory() # the theorem's theory"
   ]
  },
  {
   "cell_type": "code",
   "execution_count": 2,
   "metadata": {},
   "outputs": [
    {
     "data": {
      "text/html": [
       "With these <a href=\"allowed_presumptions.txt\">allowed</a>/<a href=\"disallowed_presumptions.txt\">disallowed</a> theorem/theory presumptions (e.g., to avoid circular dependencies), we begin our proof of<br><strong id=\"exp_nonneg_lesseq\">exp_nonneg_lesseq:</strong> <a class=\"ProveItLink\" href=\"../../../__pv_it/theorems/ded2b2d9f10945e2bd98a804e9efbd2930487d920/expr.ipynb\"><img src=\"data:image/png;base64,iVBORw0KGgoAAAANSUhEUgAAAREAAAAXBAMAAADelGYUAAAAMFBMVEX///8AAAAAAAAAAAAAAAAA\n",
       "AAAAAAAAAAAAAAAAAAAAAAAAAAAAAAAAAAAAAAAAAAAv3aB7AAAAD3RSTlMAq1RmmUTNIjK7EInv\n",
       "3XZ/CtNrAAAACXBIWXMAAA7EAAAOxAGVKw4bAAADi0lEQVRIx71WXUgUURQ++zM7szO7o5IEFsRC\n",
       "IvRQDCKFQquLP4VgWYZQQe5b0ENMr2Gx9RYuaJnUJsgIEuRSLQqKQrIIYRCFL1EvwmxYoZL4Eis+\n",
       "dX9nZredkGC6sHPPnP3m3u+e+51zL4DXTWS9PLulV/qf+HX4D+0r61/qwxXnI/5ryKjGb0e9I+LP\n",
       "MaMD0hUBxK9qAJ347bp3TJ5z4y0UbG+DHR7qvwFwD2/liHdM2rkcijA6zZ2nu22ZUH8TQMgAUGLe\n",
       "MclzY0X61cLMn4sOAPVHDAigHQp5KJMkty41bmk0Cm9MJ4L6Q+j3YW3tvXdMgkiw8vahoRl7O3o0\n",
       "bq1rMMlsBWXOWYBn+xiy7d+Y4LUGoWD2WEQOWlJQ/HloZXYAxe4WiNWuAx2fS9ykFhG1spQrRxwr\n",
       "KRLSGJTiomjeU9BqHLAgNpP7wVWo47uI9BQ2lN6KLKRCpldVYD5nM4nDZbowm4hZ+lH2kROHlIjG\n",
       "TkGXs+Zau2NETPjIJ9tBbEwXwXakUMVRocW0mbyDKhwCMWEwTLNW/pU6auMYE7DmK1PsgCHtMlPA\n",
       "OZaM47XE57Fj+8w6GkIogI+UPcxks81iIu5BBMVWqtEZcgNHmqDtgyUwwXF8d0AowrSTC8/iLlB5\n",
       "kvtX0WMG1Tf5s1TEE+t1IfTpqyojDS/IChVxQrOYSHsQ1UB4rDNkmkxH0I6DJbBCcaSFTZDHfHko\n",
       "1RerbA8hzCUawOMPordgm4TZBWBCQt3t47ABfYRJcHwEnEwipjBucKSfmARtHyzyQi/BWdnp353K\n",
       "C2W1syGFnwkY0BzZDr4U3k6VsiuS52E4AiczmUxMVZWL4NydKhYIiqSsMNo6QMREiuKYEldBPmfW\n",
       "N1ZU4uTSeZ55UZ41r/VwCx5UypPrxCekuSESE1W4apQqVl4gk1CkVKtTND9AxJpUiWLhy1/LzRw3\n",
       "7nAjog/3GVkYVJJByKLPhR2U3UQnsGgrFrbhAnpuoJASJA5BjUHQco4cIHKtbuNIa3KnoSTl5fKD\n",
       "EoT2E7OQjgW/LW2iDuqbkyA+Rf7+77mpLmdl62a5S5DsSobR0jI5QGQDHDgi2bLrkbxGGo5c1PRx\n",
       "IZffBtjexmQ9jJadzWQcJW/EtbBStN9l4bL7jcMf73ThKxis85n9f3zmPiBFX3H7++5+jqcfpa8B\n",
       "3gnx3L6YPEDpldEpmqajhD1PvL0Ye377/g0hRwZVkZbqyQAAAABJRU5ErkJggg==\n",
       "\" style=\"display:inline;vertical-align:middle;\" /></a><br>(see <a class=\"ProveItLink\" href=\"../../../__pv_it/theorems/6668da8e32b09697a06230da826673f6391e64e80/dependencies.ipynb\">dependencies</a>)<br>"
      ],
      "text/plain": [
       "<IPython.core.display.HTML object>"
      ]
     },
     "metadata": {},
     "output_type": "display_data"
    }
   ],
   "source": [
    "%proving exp_nonneg_lesseq"
   ]
  },
  {
   "cell_type": "code",
   "execution_count": null,
   "metadata": {},
   "outputs": [],
   "source": []
  }
 ],
 "metadata": {
  "kernelspec": {
   "display_name": "Python 3",
   "language": "python",
   "name": "python3"
  }
 },
 "nbformat": 4,
 "nbformat_minor": 0
}