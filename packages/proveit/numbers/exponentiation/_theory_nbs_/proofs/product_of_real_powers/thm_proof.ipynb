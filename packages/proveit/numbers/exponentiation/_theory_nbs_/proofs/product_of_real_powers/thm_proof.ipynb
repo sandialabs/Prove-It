{
 "cells": [
  {
   "cell_type": "markdown",
   "metadata": {},
   "source": [
    "Proof of <a class=\"ProveItLink\" href=\"../../../../../_theory_nbs_/theory.ipynb\">proveit</a>.<a class=\"ProveItLink\" href=\"../../../../_theory_nbs_/theory.ipynb\">numbers</a>.<a class=\"ProveItLink\" href=\"../../theory.ipynb\">exponentiation</a>.<a class=\"ProveItLink\" href=\"../../theorems.ipynb#product_of_real_powers\">product_of_real_powers</a> theorem\n",
    "========"
   ]
  },
  {
   "cell_type": "code",
   "execution_count": 1,
   "metadata": {},
   "outputs": [],
   "source": [
    "import proveit\n",
    "theory = proveit.Theory() # the theorem's theory"
   ]
  },
  {
   "cell_type": "code",
   "execution_count": 2,
   "metadata": {},
   "outputs": [
    {
     "data": {
      "text/html": [
       "With these <a href=\"allowed_presumptions.txt\">allowed</a>/<a href=\"disallowed_presumptions.txt\">disallowed</a> theorem/theory presumptions (e.g., to avoid circular dependencies), we begin our proof of<br><strong id=\"product_of_real_powers\">product_of_real_powers:</strong> <a class=\"ProveItLink\" href=\"../../../__pv_it/theorems/581833f351e28cae246c3c281615446e7a00496d0/expr.ipynb\"><img src=\"data:image/png;base64,iVBORw0KGgoAAAANSUhEUgAAAUcAAAAaCAMAAAAT8G7EAAAAOVBMVEX///8AAAAAAAAAAAAAAAAA\n",
       "AAAAAAAAAAAAAAAAAAAAAAAAAAAAAAAAAAAAAAAAAAAAAAAAAAAAAAACXHtMAAAAEnRSTlMAq1Rm\n",
       "mUTNIjK7EInv3Xbt5cmRiLwgAAAACXBIWXMAAA7EAAAOxAGVKw4bAAAD1klEQVRo3t1Zi7KbIBCV\n",
       "l8CCtPX/P7YCCoRFlMZpk3JnMnszx4Me90mm6X9ZatZfSP3vFhPYCouYuxR8dM+Cmr9N9hmLcmzF\n",
       "ZdVdDjnqXgW1fpvsIxbM2NqDb3WOwMXlxjHnPdmNxXVBrWuuUbLPWJphKy63wOQugmwRk7LBgJFN\n",
       "S2qNuCIZyRHDPl9GabFV6Mrmfl7cRIAQoo6MvryDWiOuSMZTsp7l5+vIDbaKHMb78tj0rLCOOORO\n",
       "zfW2rP9gJVckU+Sb8uUqsHV84R+Y9q/OnjKPBF9JrTFXJJv3N2PoF/SIyY0UcqgtS7ELV5i99iaF\n",
       "5e1VUmvMFcnY/mbmL3BHt2AraczdVeGUnDEX9Xd25PUV1Bpz7WR28cuaL9CRzMiSxDjZF7AFETcS\n",
       "ZJO65ceRjIeqo+GvKtJtUE5vRevaEnbLU7orShOi1txa86VYpH9d88YjmSTHx1k0aU7Si0GzJl3M\n",
       "zMnccYkWopeeTCghxjgUIjOpLLAsCNF7KU2IRHXq3nVtx41k3hUNolWOaL19C5ps74VqU8+aB8D5\n",
       "dGtkIy90ELoXTseUIGrUwiuLr+EftDesKQO0IXCp4xl1S/JIRl2jynC+O76BOP2YatZMALf9TQyw\n",
       "Q/YQHR2JTNus8sIfrT7RJCvehsj1aho/pW75o9pL9TEjgmHO+Jt3R38FTEUq+TprJkBUyQGvB88O\n",
       "4lXHtGlMSybeGjT6wVpHWMO0vHZ9pQlRxStq5scb1IjM0L2JhEXGLyE9J5VUNmbNDAhRK3VWbR88\n",
       "O4hXHdOmYV7QP8K8EPvDpeqWiX61YKWxdlN5rmMTclmvb1AjMmnJEYlTHL5FegAGDBqzZgZsKnFt\n",
       "NBpizxGVjmnTiGVFn22rZJG7vt3Szpcx3iv/bQi77B9vUCMyovIAGqZuNgff0HRSSqjGrJkBIWqN\n",
       "oPUQe46odEybBjfQR8rxOq70rOvbLSDOKElcJ9m1IfzyoOIG9RkZ+OjSDGBSuUztdeZo6vZZswB4\n",
       "lYQwUA2e54hXHfOmPq5//jrOAVp1pjgdsHcKQGdEfPJwC5FZn6mED+TclkvDZSgeWz0oZs0MiF2N\n",
       "ryIBkAbPFqLpj2nT4tRk8pOYIAPnPWPHweuDYwcmE5xRZ1g4/VG5nG4R6lsY5cvnMWsmgJjdbCbg\n",
       "fI6ANHi2EC0d86YvU9XWh3P0sDmPKvvOozPyoDt2ycD4AKuCh44A2ohu/0gvj+gJxdYfrOXJs9Zh\n",
       "MgHvAi50vD5zOv99ZsiDnvxJZZyMvQ3o60hv1A5qsDW6Hj2y/rfn338eV6e/Xw8cNj15thXJfgOs\n",
       "nSckhygr3QAAAABJRU5ErkJggg==\n",
       "\" style=\"display:inline;vertical-align:middle;\" /></a><br>(see <a class=\"ProveItLink\" href=\"../../../__pv_it/theorems/9901dd29765857108e170069b66b24e29fc700040/dependencies.ipynb\">dependencies</a>)<br>"
      ],
      "text/plain": [
       "<IPython.core.display.HTML object>"
      ]
     },
     "metadata": {},
     "output_type": "display_data"
    },
    {
     "name": "stdout",
     "output_type": "stream",
     "text": [
      "product_of_real_powers may now be readily provable (assuming required theorems are usable).  Simply execute \"%qed\".\n"
     ]
    }
   ],
   "source": [
    "%proving product_of_real_powers"
   ]
  },
  {
   "cell_type": "code",
   "execution_count": null,
   "metadata": {},
   "outputs": [],
   "source": []
  }
 ],
 "metadata": {
  "kernelspec": {
   "display_name": "Python 3",
   "language": "python",
   "name": "python3"
  }
 },
 "nbformat": 4,
 "nbformat_minor": 0
}