{
 "cells": [
  {
   "cell_type": "markdown",
   "metadata": {},
   "source": [
    "Proof of <a class=\"ProveItLink\" href=\"../../../../../_theory_nbs_/theory.ipynb\">proveit</a>.<a class=\"ProveItLink\" href=\"../../../../_theory_nbs_/theory.ipynb\">numbers</a>.<a class=\"ProveItLink\" href=\"../../theory.ipynb\">exponentiation</a>.<a class=\"ProveItLink\" href=\"../../theorems.ipynb#posnat_power_of_quotient\">posnat_power_of_quotient</a> theorem\n",
    "========"
   ]
  },
  {
   "cell_type": "code",
   "execution_count": 1,
   "metadata": {},
   "outputs": [],
   "source": [
    "import proveit\n",
    "theory = proveit.Theory() # the theorem's theory"
   ]
  },
  {
   "cell_type": "code",
   "execution_count": 2,
   "metadata": {},
   "outputs": [
    {
     "data": {
      "text/html": [
       "With these <a href=\"allowed_presumptions.txt\">allowed</a>/<a href=\"disallowed_presumptions.txt\">disallowed</a> theorem/theory presumptions (e.g., to avoid circular dependencies), we begin our proof of<br><strong id=\"posnat_power_of_quotient\">posnat_power_of_quotient:</strong> <a class=\"ProveItLink\" href=\"../../../__pv_it/theorems/d4b8a061d7a6598f9a7ed560ff95aa2f53bb2e040/expr.ipynb\"><img src=\"data:image/png;base64,iVBORw0KGgoAAAANSUhEUgAAAT0AAAAyCAMAAAAZZPzOAAAAOVBMVEX///8AAAAAAAAAAAAAAAAA\n",
       "AAAAAAAAAAAAAAAAAAAAAAAAAAAAAAAAAAAAAAAAAAAAAAAAAAAAAAACXHtMAAAAEnRSTlMAq1Rm\n",
       "mUTNIjK7EInv3Xbt5cmRiLwgAAAACXBIWXMAAA7EAAAOxAGVKw4bAAAFaElEQVRo3t1bi5KsKAzl\n",
       "KU+5u/z/xy6ovKJi6zh9V6maqbI7FZpDThISROgNQ8kvTqaVRm8amP7yBJRR6RxbnuT4Jviw+W1r\n",
       "o9yGDbJieSbje8Cjw2/PILSLc/hscga/BTyRTeIKCz81b4cQt+V5pC9Bb3Q/YuFnw4awxBjKwYnY\n",
       "d7g+asEHjKwAG3SHhR/Zt4/bJEkJ7QN7BXoWhAyWXJLAxgm3ESQhCzugJRU8KnWmoiv34gXgOWBE\n",
       "OYTwyE21fEtxh4W7o1EBx/CGwDG2i5DJH+no3BBLqYUiHRbuechWBRjEP9/zSd+CMCQeMz9hazIS\n",
       "ea1rFu4MoAJi693j0cN2xyCsmlbIV+7whEcFKuDp8Pkps21BKbY2WQb1FV/PevmVChjsHx83pKft\n",
       "o85Lj44OD4ikJSpzGj2oAn7/9IzZtfuPVeGVi8dRhthuXnhcuIEq+nb/vKFaSCpr0NgZKbCThbrk\n",
       "rPFBFRuOrwBInmeJVrXE7Xmi8e7TgQkukeWYMjzOC2rPWj/eTUDuLsXQEI5lPtmoBwaNJufCQ99H\n",
       "/sbs6QhtyOPQI60v67tx4uUvWD5d3N3wOPACdxpAvOmbyt3m4eNu2TEOa56HHkhY+gnY/fmZj76O\n",
       "TRv4xEaRaU7qRznJ3sGUjdU4k8PZSFeB07/vLXu1go7N9M7x+gQ1/d3sGsdkdoZ3CKIYToVGJAfV\n",
       "F9gcYmRxBro49hVYlU4wwfzDjHEba8dNGOXVgd6XUT47l/D57VGjN+XqxG3FDOmwUjw2f3HwLiSf\n",
       "E3P/b09gUwvByIRNYvoQvbbBOHOCxnKwOkDv0PbuTpdn9AJ0dGU4jC3xzOjpO5rWZOWBwKYWEmZg\n",
       "mbJd9GwdSLHIH61PEieZe7ffm5kbUr2U9GlDnYm/0qUApamcCSFyjuiw7gjUHb8shIgkPHA7oGcY\n",
       "Y2P443vMXSaY2WjmeBCfLVlHDdFEjX5QvT3m2pmwIuWZehTzaVHn5RDRVmjcqFHAZleg7vgVoYBe\n",
       "sFHCP7C9ZQKm4vgT/uhSeVr3UF2T7x1Ue8Xt+V5CDWc2xtZA3PP8S6mmTdQLi4mtl12BuuNXhCJ6\n",
       "ATOnjtFbJqhtd0bPuoNs2bJ+tszvzvfAfDZM4CKidJi2XhEkJW9/opzK3PsCVcevCE3oaZOCUw+9\n",
       "ZQJU2e7M3LXtkBaQJlhrZUcgfDajXamA6bcBz7EFR7VGsnyxBIWUd/nZA+0LVB2/SmhqYXHidvK9\n",
       "at3LBJG5//yrJubuRQ1QWmZttQ80rM2FPsSiYvvyhoSewka3xyMTy9FDGBZ/tnHRdoL30Ygq1BGo\n",
       "O35FiE5W4vZCWoVemgCV8g9ybumFdblDW+sCtqounAdmFTuXNwgkA2eUzM06US4UahMIGDMPGaOe\n",
       "ZM6hnkDd8ctCcpyrhx+glyZoDo8hW2YbxBuHljqkSZ71T0PuomLn8obrFGO1iawBjpacEdgV6qNX\n",
       "dB03TEFDUrF9pl65OpFVbF7ewCcLhlz/VOAMeh+UzABXm87PgEPeWHbTXKjAZRWblzfsyXIy/bHA\n",
       "CfTIBwkGOF7UrWvtwwlAF4Oz57O9rGLz8ob4/1wmuNpSAeXkysBImyM6e155VrF5eeP53XCYpFRn\n",
       "5LkJlFOyC6YHVUC39/ybGBwcIMod5ulSBk/Mdlf6Dq2KT4sOTxqwSzvQOlVLRZizd5s3VBwErGcO\n",
       "uIhY55iXLtMNvPjhpQJBrWK9ba+4Ng+7WWIptsU3YFL+p67lArWKtct4w83bNYPEHDg0NmwBTV8s\n",
       "rlQq1inWS97YGP5GK5X7l7xsJe1f4NBI0EuG+/4FnPe8afWFt/xWvB3Qi8bwXR7J4V0v6H737eYC\n",
       "3n96LzLoIX2KugAAAABJRU5ErkJggg==\n",
       "\" style=\"display:inline;vertical-align:middle;\" /></a><br>(see <a class=\"ProveItLink\" href=\"../../../__pv_it/theorems/81cca366d19517c68d8823cc5b21ad528d4a355c0/dependencies.ipynb\">dependencies</a>)<br>"
      ],
      "text/plain": [
       "<IPython.core.display.HTML object>"
      ]
     },
     "metadata": {},
     "output_type": "display_data"
    },
    {
     "name": "stdout",
     "output_type": "stream",
     "text": [
      "posnat_power_of_quotient may now be readily provable (assuming required theorems are usable).  Simply execute \"%qed\".\n"
     ]
    }
   ],
   "source": [
    "%proving posnat_power_of_quotient"
   ]
  },
  {
   "cell_type": "code",
   "execution_count": null,
   "metadata": {},
   "outputs": [],
   "source": []
  }
 ],
 "metadata": {
  "kernelspec": {
   "display_name": "Python 3",
   "language": "python",
   "name": "python3"
  }
 },
 "nbformat": 4,
 "nbformat_minor": 0
}