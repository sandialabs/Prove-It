{
 "cells": [
  {
   "cell_type": "markdown",
   "metadata": {},
   "source": [
    "Proof of <a class=\"ProveItLink\" href=\"../../../../../_theory_nbs_/theory.ipynb\">proveit</a>.<a class=\"ProveItLink\" href=\"../../../../_theory_nbs_/theory.ipynb\">numbers</a>.<a class=\"ProveItLink\" href=\"../../theory.ipynb\">exponentiation</a>.<a class=\"ProveItLink\" href=\"../../theorems.ipynb#exp_eq_nat\">exp_eq_nat</a> theorem\n",
    "========"
   ]
  },
  {
   "cell_type": "code",
   "execution_count": 1,
   "metadata": {},
   "outputs": [],
   "source": [
    "import proveit\n",
    "theory = proveit.Theory() # the theorem's theory"
   ]
  },
  {
   "cell_type": "code",
   "execution_count": 2,
   "metadata": {},
   "outputs": [
    {
     "data": {
      "text/html": [
       "With these <a href=\"allowed_presumptions.txt\">allowed</a>/<a href=\"disallowed_presumptions.txt\">disallowed</a> theorem/theory presumptions (e.g., to avoid circular dependencies), we begin our proof of<br><strong id=\"exp_eq_nat\">exp_eq_nat:</strong> <a class=\"ProveItLink\" href=\"../../../__pv_it/theorems/92cbe04a8d4125a0c7b7e044da555f53ef46b3d90/expr.ipynb\"><img src=\"data:image/png;base64,iVBORw0KGgoAAAANSUhEUgAAANgAAAAXBAMAAACbsJy/AAAAMFBMVEX///8AAAAAAAAAAAAAAAAA\n",
       "AAAAAAAAAAAAAAAAAAAAAAAAAAAAAAAAAAAAAAAAAAAv3aB7AAAAD3RSTlMAq1RmmUTNIjK7EInv\n",
       "3XZ/CtNrAAAACXBIWXMAAA7EAAAOxAGVKw4bAAAC50lEQVRIx7VWT0gUURj/jTuzOzuj60AnE2RD\n",
       "Aw8qi/QHJWxhK4VQBKOLUUsdok7T0RDZzi2tJRbbIQaJArdsUzK6xF6iKAqD/l2MsTbCDBEiNjz1\n",
       "ze5766y9VWHtg7fvm/e9937z/fvNAtsgPjZrM0umcEOq63FxU6Xyhc33zYQQTPuo5qDYgOE8NVaE\n",
       "VZVmyiHEhRvksJoBvgKHnaezFYHd4cozLAg3VPcHyCevhUtOzEcrAovwaOUwNina8MD0d1rwhB08\n",
       "6MGKwDJcea7+7hR6ZiYGCOYlPCFysLKURbl2rH0pJNqhRNpmaDoDvJ6ff1URmEz1oS3vvDwtMk5F\n",
       "oBlMfwj0ADe3cGN5kzfkmBfs3uJK77wjbx013QLPClveB1yAzyjbre8e4UDe6i8PVkMZ34+D1g6B\n",
       "TQ32QuLl10LXWHq/8JIrdePYpVuytQlYNR2P4YjQpuENqm32kKD82uL6kHucbrfDOrYABrpUKMoq\n",
       "EjGmn6AR7WLsRbLcnSXCURYgOQ0PNO8ecYMFsiPd7ORJA8ZaGKHkMCnKmRzFT77cSmP6PGMvusys\n",
       "89LRqVorruUj3axPDLrAvkujp+UkyZhmr6qsv/w2tHEpg7TIM7+Bq1zvoDFscPaCB7dUmi62YlHJ\n",
       "d0wzwosusJDfZjHxTcwFWOJ1A1V/bmcUITPIhvKL60dpSDHOXiS5/G89GjznkslrBJbyunNWW2R1\n",
       "KS2xxKtz0PrspnZxhdRnc1x/X8JedDDjKyy/UNMFz5Q2N1gcZiGMqOmv5on/tGGH6pxgfHNu9kph\n",
       "WI/KSNFxZaXQ6XvBiDwP5svMIsy7K3aKX7dnA6hZ3OPhlUNu9ooH5W9Pf9CEpo4ohujF1Q8m1eWa\n",
       "Z32DyxZnxMj1YhGY5cE+U0qYDJVa2DsENdMfgvYkOe6qqvW33MVYMS8bfKEas0XGuFHagBabJPv4\n",
       "PyW8fqFBKZI9RrbC14FS/z18UrrSm4INLOG/ybb8N/oLJke39KjoNXEAAAAASUVORK5CYII=\n",
       "\" style=\"display:inline;vertical-align:middle;\" /></a><br>(see <a class=\"ProveItLink\" href=\"../../../__pv_it/theorems/126c76f85b8f616a54aeb7742f64dfd050b418bf0/dependencies.ipynb\">dependencies</a>)<br>"
      ],
      "text/plain": [
       "<IPython.core.display.HTML object>"
      ]
     },
     "metadata": {},
     "output_type": "display_data"
    }
   ],
   "source": [
    "%proving exp_eq_nat"
   ]
  },
  {
   "cell_type": "code",
   "execution_count": null,
   "metadata": {},
   "outputs": [],
   "source": []
  }
 ],
 "metadata": {
  "kernelspec": {
   "display_name": "Python 3",
   "language": "python",
   "name": "python3"
  }
 },
 "nbformat": 4,
 "nbformat_minor": 0
}