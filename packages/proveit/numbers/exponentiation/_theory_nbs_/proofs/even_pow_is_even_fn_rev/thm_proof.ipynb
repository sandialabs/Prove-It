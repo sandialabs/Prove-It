{
 "cells": [
  {
   "cell_type": "markdown",
   "metadata": {},
   "source": [
    "Proof of <a class=\"ProveItLink\" href=\"../../../../../_theory_nbs_/theory.ipynb\">proveit</a>.<a class=\"ProveItLink\" href=\"../../../../_theory_nbs_/theory.ipynb\">numbers</a>.<a class=\"ProveItLink\" href=\"../../theory.ipynb\">exponentiation</a>.<a class=\"ProveItLink\" href=\"../../theorems.ipynb#even_pow_is_even_fn_rev\">even_pow_is_even_fn_rev</a> theorem\n",
    "========"
   ]
  },
  {
   "cell_type": "code",
   "execution_count": 1,
   "metadata": {},
   "outputs": [],
   "source": [
    "import proveit\n",
    "theory = proveit.Theory() # the theorem's theory"
   ]
  },
  {
   "cell_type": "code",
   "execution_count": 2,
   "metadata": {},
   "outputs": [
    {
     "data": {
      "text/html": [
       "With these <a href=\"allowed_presumptions.txt\">allowed</a>/<a href=\"disallowed_presumptions.txt\">disallowed</a> theorem/theory presumptions (e.g., to avoid circular dependencies), we begin our proof of<br><strong id=\"even_pow_is_even_fn_rev\">even_pow_is_even_fn_rev:</strong> <a class=\"ProveItLink\" href=\"../../../__pv_it/theorems/5814a86c60e2953b156301519c523a94cd1ae6520/expr.ipynb\"><img src=\"data:image/png;base64,iVBORw0KGgoAAAANSUhEUgAAARoAAAAmBAMAAADpUknrAAAAMFBMVEX///8AAAAAAAAAAAAAAAAA\n",
       "AAAAAAAAAAAAAAAAAAAAAAAAAAAAAAAAAAAAAAAAAAAv3aB7AAAAD3RSTlMAq1RmmUTNIjK7EInv\n",
       "3XZ/CtNrAAAACXBIWXMAAA7EAAAOxAGVKw4bAAAD8UlEQVRYw62YXUgUURSAz/45szOrKwSBPshG\n",
       "hT7lFlZgUdu/D1kLvQRFLPQQ9jS9ZZhuUCAYZqHQFMTSj1BSmVTQg7JFD2H0S4QUwlpW9INJIYZB\n",
       "du+dGffO3J27g94DOzv3njPLd+4995yzA8CT2tnfUEQ2w8KlN4Ovu2dn+GZLiv5QsFwAjfzO+B5e\n",
       "KM0aECErxdDIw/MF6LtTmR+EY0JoSvrnS5OAxvxAGRZCU5sp6KsHmYK2dH60SQjN+8K+epB6QhPY\n",
       "0jmOR22aABp5xsVXLzKIPlf2xyMYJNwvgMbX5eKrXSTHWDOPdR8c+wxRvNmBrACaaNzFV7t8cIwP\n",
       "4EtzBk5rUAX7Ce8vg4Zkr6XuNFz9Gc2WwvK+2sTvPHhlyAkpIeGHn8BWGU+9MWi24a9D7jRc/Ubq\n",
       "3uarPfEzM4eReftJhC1NwkgNntlu0JzA69TlTsPVL6Ziw+4rLVuY5+oAXszOoptQOXwnu/3ToClB\n",
       "hGrMnYarf0gtjd1XWrLMcxFmN2vThCaA0Eo4UczV/83fOnylwybFpvA4E4Ex40w9Gx19yjtTPD3p\n",
       "N5SJyo4BXpmngti0VZnKfztu0DQAXODRcPTGuQzCWI7Jw42jWF45F8K0DTDLFc0ZNEdAspGWdVe1\n",
       "0jQOvfTmHqw3J2RCsxY2ZhZx1qaUijrT1s+EUrTfoAln1KSVMsb0pHJW81+kaSg9dFb0wBI1EzSD\n",
       "MDSFr2njeLpKBD3eS5ZqxLKVJxmahEHjz80F6VYU2OotgHU0DaUPNuBMmEuoQK8NwPOiNHkhtqGs\n",
       "Gw2kNqDLxI5xDadIuHKKqiukMmC9UX8+4mHN8lYHTWgabnDiht4p09b/0i1uYABlxjKtoiR2HU9X\n",
       "VzvrFNaT+qOQJFijXt5nxRA+U0qPLwu8piucyx8p0zbQVbDiYZoWFJMBuCTDHlKL6500WE/qT4gc\n",
       "jhpIfLV+/B/eyT9Xs6EYh4Y6zpZtkKFvM/MN+EhfMo06bl3XY+17nTREj+tPoEnXzyGavrlAeoyR\n",
       "duWWreI2QfltsWxLk0z2S9IdhZyVoIN4gqJYYTsKXH/kfmNtQius2SZPbdUIM3O8cEtr0bSoqSA6\n",
       "yzgW7mowxNAY9YdkwdUAY9b0Tk80dVC8jg7S3Vbw09A3kM6TdrupO83QGPWnGSnktxr45jqKjBea\n",
       "sLP/KtATnGV7vz5dT/J6P+WB3mOvLjEvNEpXMTyz4i2wEw0nPG1Vq2P8hbFAaWjhNIEsiBE1JYBG\n",
       "mRJEE4mJ+Hd3XxDNDyH/NSNpMTSPhNCwbdO8pCwl5v3NQSE0LZoYmpuaABjltae3ScXf+0mHBdCE\n",
       "457e+3mQowJorlk3/wEcyylDPCHK9gAAAABJRU5ErkJggg==\n",
       "\" style=\"display:inline;vertical-align:middle;\" /></a><br>(see <a class=\"ProveItLink\" href=\"../../../__pv_it/theorems/4932f24c9c69ca0123b73bf558923fc7e862123d0/dependencies.ipynb\">dependencies</a>)<br>"
      ],
      "text/plain": [
       "<IPython.core.display.HTML object>"
      ]
     },
     "metadata": {},
     "output_type": "display_data"
    }
   ],
   "source": [
    "%proving even_pow_is_even_fn_rev"
   ]
  },
  {
   "cell_type": "code",
   "execution_count": null,
   "metadata": {},
   "outputs": [],
   "source": []
  }
 ],
 "metadata": {
  "kernelspec": {
   "display_name": "Python 3",
   "language": "python",
   "name": "python3"
  }
 },
 "nbformat": 4,
 "nbformat_minor": 0
}