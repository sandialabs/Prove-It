{
 "cells": [
  {
   "cell_type": "markdown",
   "metadata": {},
   "source": [
    "Proof of <a class=\"ProveItLink\" href=\"../../../../../_theory_nbs_/theory.ipynb\">proveit</a>.<a class=\"ProveItLink\" href=\"../../../../_theory_nbs_/theory.ipynb\">numbers</a>.<a class=\"ProveItLink\" href=\"../../theory.ipynb\">exponentiation</a>.<a class=\"ProveItLink\" href=\"../../theorems.ipynb#exp_zero_eq_one\">exp_zero_eq_one</a> theorem\n",
    "========"
   ]
  },
  {
   "cell_type": "code",
   "execution_count": 1,
   "metadata": {},
   "outputs": [],
   "source": [
    "import proveit\n",
    "theory = proveit.Theory() # the theorem's theory"
   ]
  },
  {
   "cell_type": "code",
   "execution_count": 2,
   "metadata": {},
   "outputs": [
    {
     "data": {
      "text/html": [
       "With these <a href=\"allowed_presumptions.txt\">allowed</a>/<a href=\"disallowed_presumptions.txt\">disallowed</a> theorem/theory presumptions (e.g., to avoid circular dependencies), we begin our proof of<br><strong id=\"exp_zero_eq_one\">exp_zero_eq_one:</strong> <a class=\"ProveItLink\" href=\"../../../__pv_it/theorems/f6c00027f1edc0c343ee2d34eb76237795c286a10/expr.ipynb\"><img src=\"data:image/png;base64,iVBORw0KGgoAAAANSUhEUgAAAIAAAAAaBAMAAACN7UndAAAAMFBMVEX///8AAAAAAAAAAAAAAAAA\n",
       "AAAAAAAAAAAAAAAAAAAAAAAAAAAAAAAAAAAAAAAAAAAv3aB7AAAAD3RSTlMAq1RmmUTNIjK7EInv\n",
       "3XZ/CtNrAAAACXBIWXMAAA7EAAAOxAGVKw4bAAAB+UlEQVQ4y51VTShEURT+GO+9mTe8pmylKWoW\n",
       "orGxGKUpP4nklY2lnViNpRJjIYoyysKjeLLSyBTKQmlSkkRkoWhqlJ2NlJ8s5Fzjvfnp3nmTs7jn\n",
       "3XvO/c7vPQ8oiY6e8T9y6RmWlmI8cdgRoD7DKqP44InHne6rQxk+ZeKE62DaAcATzPBFE7dchXvA\n",
       "x3idAGACNsBVocxNl/EIdLLNsACgF3YIrwWiza4vWhMmpokpMQHAG8RJ1BiAHIRsAl4//777y1JO\n",
       "Sz4uQEUMLsqTLHBAu7Yb6cnkAmhJ4DKVuhAAlLEqjh1P8tEZgERLN7AqqiLlRjrDhm29L8XoJgvg\n",
       "/iQLUPLi05ZrLZMyCXaC6BN7oFCaPaZXt5L2aOjqUqR87W9fRb3eDzyIAVQCKE/bOeyIUkV2gdYc\n",
       "D85/lYQeUAgYaqMl3nYIjTXu1gwdZwHUb7heIM4Ba4+9UXLljj632XkgkFOFGNRXqkWgaBUwQY5W\n",
       "hN1JDLDzUChHh6q8jsYw99l7mXFXktmhyCt1zYcWwzD8c4NZHYa/+TxbG+X1SM17NRm2CpiIeELm\n",
       "/C8wJVG1tE6dBoYctF5LZHHA9LCGUQ4iOC58jUJKWD0mtTftQ1lhn/GRZdvlBSeA5vxt3DD0/ED9\n",
       "DgB3Jc5E4dB2moloKC4eL/W/IKIe4AfvZYRPLMfUzAAAAABJRU5ErkJggg==\n",
       "\" style=\"display:inline;vertical-align:middle;\" /></a><br>(see <a class=\"ProveItLink\" href=\"../../../__pv_it/theorems/b3a986b3e4f162cab34800460a9a2a283910f6c20/dependencies.ipynb\">dependencies</a>)<br>"
      ],
      "text/plain": [
       "<IPython.core.display.HTML object>"
      ]
     },
     "metadata": {},
     "output_type": "display_data"
    },
    {
     "name": "stdout",
     "output_type": "stream",
     "text": [
      "exp_zero_eq_one may now be readily provable (assuming required theorems are usable).  Simply execute \"%qed\".\n"
     ]
    }
   ],
   "source": [
    "%proving exp_zero_eq_one"
   ]
  },
  {
   "cell_type": "code",
   "execution_count": null,
   "metadata": {},
   "outputs": [],
   "source": []
  }
 ],
 "metadata": {
  "kernelspec": {
   "display_name": "Python 3",
   "language": "python",
   "name": "python3"
  }
 },
 "nbformat": 4,
 "nbformat_minor": 0
}