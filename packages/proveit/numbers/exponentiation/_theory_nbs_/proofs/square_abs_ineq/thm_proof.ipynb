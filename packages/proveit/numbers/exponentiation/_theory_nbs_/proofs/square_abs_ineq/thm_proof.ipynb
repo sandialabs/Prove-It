{
 "cells": [
  {
   "cell_type": "markdown",
   "metadata": {},
   "source": [
    "Proof of <a class=\"ProveItLink\" href=\"../../../../../_theory_nbs_/theory.ipynb\">proveit</a>.<a class=\"ProveItLink\" href=\"../../../../_theory_nbs_/theory.ipynb\">numbers</a>.<a class=\"ProveItLink\" href=\"../../theory.ipynb\">exponentiation</a>.<a class=\"ProveItLink\" href=\"../../theorems.ipynb#square_abs_ineq\">square_abs_ineq</a> theorem\n",
    "========"
   ]
  },
  {
   "cell_type": "code",
   "execution_count": 1,
   "metadata": {},
   "outputs": [],
   "source": [
    "import proveit\n",
    "theory = proveit.Theory() # the theorem's theory"
   ]
  },
  {
   "cell_type": "code",
   "execution_count": 2,
   "metadata": {},
   "outputs": [
    {
     "data": {
      "text/html": [
       "With these <a href=\"allowed_presumptions.txt\">allowed</a>/<a href=\"disallowed_presumptions.txt\">disallowed</a> theorem/theory presumptions (e.g., to avoid circular dependencies), we begin our proof of<br><strong id=\"square_abs_ineq\">square_abs_ineq:</strong> <a class=\"ProveItLink\" href=\"../../../__pv_it/theorems/4cc50bcf767af04ed58de5302653c813657bc7d50/expr.ipynb\"><img src=\"data:image/png;base64,iVBORw0KGgoAAAANSUhEUgAAAN4AAAAmBAMAAABZiDjwAAAAMFBMVEX///8AAAAAAAAAAAAAAAAA\n",
       "AAAAAAAAAAAAAAAAAAAAAAAAAAAAAAAAAAAAAAAAAAAv3aB7AAAAD3RSTlMAq1RmmUTNIjK7EInv\n",
       "3XZ/CtNrAAAACXBIWXMAAA7EAAAOxAGVKw4bAAADm0lEQVRYw62Xb0gTYRzHf24373abt0WvMpCD\n",
       "XkQvrL0SkpBJZRFUIyGIXjgiqAxigtSbyAlRQcYkA5uCneAbUXH0R8EgxDcaYQQFhmJMCJEiGStR\n",
       "DLTnee6e2z3Hrd22e2DP8/y23+5zv9/z/T33HEDZjZPt+Ymt4EhrtOv4RHEC547a9gw6weti7lp8\n",
       "uyd/FE+d4N1kFxO4T3ldRx1IqGubMQMRfstKKyRszoGEVqXYNVIseWrY/Gb5vIQ5Rz6rfGph95fP\n",
       "24e7mGbE8qleC/tY+bzfuHujGWjk+6z9SNgdMpAlPFAyTtg08drhjslleF4v9qownMTGtdKrPcPy\n",
       "+OePzuS0q173KtCwuSh0YqO7ZF5FlOX5d3cz+r18UZcyCzRsKQOV6DufXDLPHzTlM9ekJRXnQRWq\n",
       "he3aAncIoLJ0uQRS+Xgj3wxK0cIWUKjzy8sfyuCFNE7bu3sMb+gznVXWrND8iUjNpwH6/vNwM/R0\n",
       "MLYOWeV5ZuGFYuANXtGn462ivq/soBsDXt/WhBvapHai8RaZeA29Nrh64YEusITGGw3BWWN8FTne\n",
       "EQU+0vlfdBHFF9F/24+hK8mI5IPJlDXPNYCupm+aLRGVdx5giclnu57PJoJR2x/0/7RBLnPocyKO\n",
       "tCVBfdqS5+7Bqoyb43sP4kYevSyBJ2vgQbQB/9owiUPbWVEkrADE+xFmeNgBDRJ5ZibWq1meuEMq\n",
       "37IessBtG9YPXqJzjLhANiZpUQoPE18fPxAy8oiDF4QZYv9SvlO9qPoUs6jyD7I8Wu9beHENu+1d\n",
       "JBcuLEzj64bc0WbC4/q7Gb0QB2QcmsJ2D9RR8aXVfA5AbThs4oHrOu73wjP6BY8TW4EWwx+RgmRd\n",
       "uGBdMpmUJcl3geERB2xcmiLLTA9l/rDKG/z5sCZu5mml8VoPT9igtxnz1qPgA+CXH5P4JM9lxcgj\n",
       "DsToPAWQgRlazN1597P/HT78sUSzMgJVylFUH2T9YIrRC3FQjbZqWHTTAuSmi+Hpz37P8cOvoEsW\n",
       "zqXR1orsi6upoSYjjzh46VP8/rquiW1r3tgybl9NPC97YFK3uZFkMrcBWOwv7MErW0x8gZDR8lic\n",
       "PArxVO2tacZaAV5LjKkXKMgTkHiTvUaHoo5AEwU9eENPB6aNR4rgzZR/PvNF7ftK0w68P8wVcfiQ\n",
       "HeDV2XdddeL9qDJk15OfdYInLtj1HHMinQC37b7V9Tjz/s7HbSYCV84/Vx79Cz5PibEAAAAASUVO\n",
       "RK5CYII=\n",
       "\" style=\"display:inline;vertical-align:middle;\" /></a><br>(see <a class=\"ProveItLink\" href=\"../../../__pv_it/theorems/f199446dccd7371a4541a668e41819cd02a92c3e0/dependencies.ipynb\">dependencies</a>)<br>"
      ],
      "text/plain": [
       "<IPython.core.display.HTML object>"
      ]
     },
     "metadata": {},
     "output_type": "display_data"
    }
   ],
   "source": [
    "%proving square_abs_ineq"
   ]
  },
  {
   "cell_type": "code",
   "execution_count": null,
   "metadata": {},
   "outputs": [],
   "source": []
  }
 ],
 "metadata": {
  "kernelspec": {
   "display_name": "Python 3",
   "language": "python",
   "name": "python3"
  }
 },
 "nbformat": 4,
 "nbformat_minor": 0
}