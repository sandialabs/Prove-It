{
 "cells": [
  {
   "cell_type": "markdown",
   "metadata": {},
   "source": [
    "Proof of <a class=\"ProveItLink\" href=\"../../../../../_theory_nbs_/theory.ipynb\">proveit</a>.<a class=\"ProveItLink\" href=\"../../../../_theory_nbs_/theory.ipynb\">numbers</a>.<a class=\"ProveItLink\" href=\"../../theory.ipynb\">exponentiation</a>.<a class=\"ProveItLink\" href=\"../../theorems.ipynb#neg_power_of_quotient\">neg_power_of_quotient</a> theorem\n",
    "========"
   ]
  },
  {
   "cell_type": "code",
   "execution_count": 1,
   "metadata": {},
   "outputs": [],
   "source": [
    "import proveit\n",
    "theory = proveit.Theory() # the theorem's theory"
   ]
  },
  {
   "cell_type": "code",
   "execution_count": 2,
   "metadata": {},
   "outputs": [
    {
     "data": {
      "text/html": [
       "With these <a href=\"allowed_presumptions.txt\">allowed</a>/<a href=\"disallowed_presumptions.txt\">disallowed</a> theorem/theory presumptions (e.g., to avoid circular dependencies), we begin our proof of<br><strong id=\"neg_power_of_quotient\">neg_power_of_quotient:</strong> <a class=\"ProveItLink\" href=\"../../../__pv_it/theorems/563866d60bbbc5317a47a3daf09211e7b0f1d2040/expr.ipynb\"><img src=\"data:image/png;base64,iVBORw0KGgoAAAANSUhEUgAAAT8AAAAyCAMAAAAdkSzzAAAAPFBMVEX///8AAAAAAAAAAAAAAAAA\n",
       "AAAAAAAAAAAAAAAAAAAAAAAAAAAAAAAAAAAAAAAAAAAAAAAAAAAAAAAAAAAo1xBWAAAAE3RSTlMA\n",
       "q1RmmUTNIjK7EInv3Xah18O1XjQ+CwAAAAlwSFlzAAAOxAAADsQBlSsOGwAABTZJREFUaN7dW2uX\n",
       "pCgM5RHkzeyO//+/DqACIlLtWFYtmw/dp6s6B7nkJiGJCA0rUnxrZSUVGl4w/eRqFKhwDta/hB0e\n",
       "QKw/Y2nGxt+UGX9ehq+fEzs4fHT60EJTtDmuXFhwTman8dDw8WQJt7n4Qmay2rtDiJn8uaUj42fd\n",
       "DU5WXOwK20zO+GgFgFLMImZgF0hN/QmQA0zTyQYPXOyJXh0dn8OpCSIqYo8ppg4esLojjrXj7hgk\n",
       "hdyEN7jYc3/YOezPhoUFnKalZfJR4XO17WzRhAVSyu1beubjay52uD57K1ZtpKZhQ4itnlysvkgF\n",
       "v4Yg5RaStAl84OKpkHgWxp1/N6CIudr5tNIZ5ohuIrdq+/gjF08FomHPum2bbkz8sDkxBCPjttjB\n",
       "Lf69pevo6dp2LAdNog1ubDIZBJ1Lpt708RE5OCEqHTOCiJlWf6sNv7BbPCGS9iVv3vKCp1i8apPA\n",
       "Q+bQrjp2LBNaLtxMAUEnUbxepJDwUyKMIbLCJFuBwk4Ljp0oCEzu1Q+whnMjCw4wQ0gGsUYjK/r2\n",
       "vJB98pagvauFFK2mMbyhmqHy4q8TkKeukT7Ui80AuRwlfOzTLjz1neXTj7JdszUZAz9SubS+Eyez\n",
       "eJgKdHV70xjwedLsEZl130SeNIs5nJ2xQYweBL86feknYc/maHPweRDPc5iWkt7fBl5lKD+5pIIt\n",
       "5EpOZwJpOd5+/Iz0wVC5I+5CuP4bHXRCiOo29Yqg85O8snYzPc06jJGAU1VySe5D0EkOU0zysk5L\n",
       "uIXwGHSNCCeZG95HVJbLBXOWAr8bCeDclgK/mMoT19qYcFhKFlp42FsN2W6SlMXCUDDeZAepl3hB\n",
       "p7UUwUj7fwB1Ab+X9vdkAr3g58GjBy8BsIY5reJ3VCMNAL/+AZ9x82C3NsVBI67rtJYi/jEgERfe\n",
       "w98n/d/CX5/6bUmg0tTp4KTcFrYUFQtBeLGpxZZ4TiMdVtd0ih5iUkNEEOY57/ELsFsAYK34wffx\n",
       "ox9gH42/ZqEt33JQZflyn1TJoxGeqkF+U//+XjY1lQmjswp5KK7oFD3ErObx85ZLWN/+3D7/e1EF\n",
       "5o/mfxtuOBEwNBOCV06nRhXNfFHbnnwspbnIRmMH54pO0UPMagE/j5qTXfzq/NlAP39mT+Z/1drG\n",
       "L+YCpnRaun0ECcHy80LT/cd2Fr6mk3uIWS3i51OdqYsfqRApg/82rlL+94N5raqSo9iok1QpJPIX\n",
       "ayxAao2jjVMIGJJrOrmHWKjFjhgjrpv/1eVn2JUD6662flePojX0UZcygj/yBh/Il68jXENgnXan\n",
       "ibF3f1SiazpFDzGrLVg7fIk0dGdhtbuTbyoRN4c+6lIGYkDJ0tjjeTpRac8waJcxhLc7JMA5dFGn\n",
       "6CEmNWGXEuSLLdupIg0ps2n1TPhtDn24TulW6eCUXjtfclPngtrmOav6fdmfqOn6xiGLxtAHvl9c\n",
       "ZOozOqeE3feItnGVhOfdqlweqGkMfZj7JWf6IZ3OjaNomB/GVczN7C8P1DSGPvigAwh1xTkbWT2u\n",
       "4m62L4uBmsbQx6D98ypjKe7fh3GVu+ZXD9RUHnHQ+Q1W3ynSMHQ1ruLuer/DQM3l0sR/Ug5N3YkW\n",
       "2V8q0Nwaks5367MGKR11fu345KHuEfErx1WUvVs6aAzUlKc47gj+odnFlwLcblxF3k+djwM1j6SW\n",
       "3zdAxGMIKcdV1BsKL8eBmvffDL8i09e7rWwe+RUuYb5NHkvQyOK+PK0z+Ptbn3p/8JS9Expdpi8S\n",
       "SEz/gxeAv/j+dIbvDwqLMm9yxXwVAAAAAElFTkSuQmCC\n",
       "\" style=\"display:inline;vertical-align:middle;\" /></a><br>(see <a class=\"ProveItLink\" href=\"../../../__pv_it/theorems/b058d9cb1f5a33ca0f5a0de912b44185aa58255a0/dependencies.ipynb\">dependencies</a>)<br>"
      ],
      "text/plain": [
       "<IPython.core.display.HTML object>"
      ]
     },
     "metadata": {},
     "output_type": "display_data"
    },
    {
     "name": "stdout",
     "output_type": "stream",
     "text": [
      "neg_power_of_quotient may now be readily provable (assuming required theorems are usable).  Simply execute \"%qed\".\n"
     ]
    }
   ],
   "source": [
    "%proving neg_power_of_quotient"
   ]
  },
  {
   "cell_type": "code",
   "execution_count": null,
   "metadata": {},
   "outputs": [],
   "source": []
  }
 ],
 "metadata": {
  "kernelspec": {
   "display_name": "Python 3",
   "language": "python",
   "name": "python3"
  }
 },
 "nbformat": 4,
 "nbformat_minor": 0
}