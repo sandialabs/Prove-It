{
 "cells": [
  {
   "cell_type": "markdown",
   "metadata": {},
   "source": [
    "Proof of <a class=\"ProveItLink\" href=\"../../../../../_theory_nbs_/theory.ipynb\">proveit</a>.<a class=\"ProveItLink\" href=\"../../../../_theory_nbs_/theory.ipynb\">numbers</a>.<a class=\"ProveItLink\" href=\"../../theory.ipynb\">exponentiation</a>.<a class=\"ProveItLink\" href=\"../../theorems.ipynb#int_exp_of_exp\">int_exp_of_exp</a> theorem\n",
    "========"
   ]
  },
  {
   "cell_type": "code",
   "execution_count": 1,
   "metadata": {},
   "outputs": [],
   "source": [
    "import proveit\n",
    "theory = proveit.Theory() # the theorem's theory"
   ]
  },
  {
   "cell_type": "code",
   "execution_count": 2,
   "metadata": {},
   "outputs": [
    {
     "data": {
      "text/html": [
       "With these <a href=\"allowed_presumptions.txt\">allowed</a>/<a href=\"disallowed_presumptions.txt\">disallowed</a> theorem/theory presumptions (e.g., to avoid circular dependencies), we begin our proof of<br><strong id=\"int_exp_of_exp\">int_exp_of_exp:</strong> <a class=\"ProveItLink\" href=\"../../../__pv_it/theorems/a60bbe5681944be9834cf62c9ce1c811600feca10/expr.ipynb\"><img src=\"data:image/png;base64,iVBORw0KGgoAAAANSUhEUgAAATYAAAAaCAMAAAAKe4BiAAAAOVBMVEX///8AAAAAAAAAAAAAAAAA\n",
       "AAAAAAAAAAAAAAAAAAAAAAAAAAAAAAAAAAAAAAAAAAAAAAAAAAAAAAACXHtMAAAAEnRSTlMAq1Rm\n",
       "mUTNIjK7EInv3Xbt5cmRiLwgAAAACXBIWXMAAA7EAAAOxAGVKw4bAAAEHElEQVRYw91ZiZacIBAU\n",
       "GuQmif//sQGVG2ZEZ3dfwtvj7axdStFXtcvyfy2+ih9HeL2QMYb9GD9AB0+lHu+rj0DO39ZtGz+A\n",
       "X3/SqzAZ/EPzp9ADBJacEOAfpU2mm5cOzzdrkUyfAgFuLZkJ0hOhsQb7z9Mm4oPbMmCskYvfJz32\n",
       "KIFqd6meSCYBobU2MtGGkt/DPG33rR8tpuNtVcsn+Cez+/Mwaf0fm5w7EYcgVWNtUaKNxNS6snna\n",
       "7ls/WkS1wZoSE9m3tx6bRc7tqJ5MbQ6B7z5WWMvAn6ONozblXaftvvWjtYXTIrWPb37j+MhLiQWy\n",
       "XC8UCaGxXiHltvNUFoXv5Lbb1o9aqxh0jRu5/APnCWp/EfMsGI6v05Yh1NZEJNpCWZjO8GteVL61\n",
       "PlgTMltzW05sKHi7b1AfDlZNJN4Moba2Oquk2vil1S3abls/akjXOscxpCyz5VUKTVWZDkK96Onl\n",
       "O21kd0Eh79F217psvfvN2bDYiaVMNtTnb1HVS+hGADHZSsR2EdrkwBNtDIUfg7PVQhH31adtaN3T\n",
       "dlYQVJzpq0Ki9ryvlG08eQ23O1WO1Pvxm0pITNTPPkLjkWcpOjKTdxXVSjxukRDuYy88lbRy0O4O\n",
       "rDNtF4CkQA4KC3WJtuMofGtO66tMOEJ93Jds+6eq9o0Jr+8iNOQWtGHbS+mEnPXDXcMxg5FK6Ftn\n",
       "2i4COe53vGu0IRZBNjbwtpM2LbI9ZXE30ax1EVpv47m4WoPeyjSYhSIFkbG4itauswarWKXtIpAE\n",
       "TmsVmdNWWC9UHQ8q8zaqH6Ry8/eH2rmwuZzbBghtbmM5bQof7VemwWS+IWC9vifQFqwX6cKZR884\n",
       "tV0Cwgw3SiK7S7Qmwq9f7hvODs1Uro6CmbDHpvFRXkt8uN6BDxBeVlIv8Q7aMw1Gsyd1saVeSPlg\n",
       "7dtpp0kqbZeAQIJ8QVtpffroQZuuGoPQP4Uew7OHTR0SZKIp6iM0Mz5dTkBQcKaowWDdz1z4U1Au\n",
       "Kzny5GgCEqx9polyN2i7BMQ55S9oK6yDjx5BuuH+qS/8iEOJrOIM2RLe0IlK2kVoAhwNBkdRg/F0\n",
       "VBRz2BP6m8GR9BEmINB7arsM6CwJeT8mOtY+SH//EXuQ9ktCKAVe+Izzt/l4m51r0rJURA2WGli1\n",
       "uy41b+dt2icn6iLRD12itktATBG/f9Xv26J1PiFYvNChaDgBgXFUkY9PsvIJSOn9SYMxEfoPhJwH\n",
       "ixW9pY0SwLsx96UvaLsI5Guli1jC+0EarUvR4dpd0qTELIOOcvgXjGQAXZjuSuXjhN6b7uKLQP29\n",
       "YftWleIqCbbIn5//xRdOXzUUp1clqpg+kHo8OZDf9vOsff27hMuwXdrwhRKIv3XkUkX9M9o+8J70\n",
       "vj3Qb6YtZFhrjIa/96Ej5CJStWsAAAAASUVORK5CYII=\n",
       "\" style=\"display:inline;vertical-align:middle;\" /></a><br>(see <a class=\"ProveItLink\" href=\"../../../__pv_it/theorems/d2ffb301cfe51925d0adef220da6ececfd9677700/dependencies.ipynb\">dependencies</a>)<br>"
      ],
      "text/plain": [
       "<IPython.core.display.HTML object>"
      ]
     },
     "metadata": {},
     "output_type": "display_data"
    },
    {
     "name": "stdout",
     "output_type": "stream",
     "text": [
      "int_exp_of_exp may now be readily provable (assuming required theorems are usable).  Simply execute \"%qed\".\n"
     ]
    }
   ],
   "source": [
    "%proving int_exp_of_exp"
   ]
  },
  {
   "cell_type": "code",
   "execution_count": null,
   "metadata": {},
   "outputs": [],
   "source": []
  }
 ],
 "metadata": {
  "kernelspec": {
   "display_name": "Python 3",
   "language": "python",
   "name": "python3"
  }
 },
 "nbformat": 4,
 "nbformat_minor": 0
}