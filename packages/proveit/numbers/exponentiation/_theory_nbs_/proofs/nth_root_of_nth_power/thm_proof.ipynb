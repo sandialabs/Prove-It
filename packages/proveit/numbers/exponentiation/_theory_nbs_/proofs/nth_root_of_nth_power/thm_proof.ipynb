{
 "cells": [
  {
   "cell_type": "markdown",
   "metadata": {},
   "source": [
    "Proof of <a class=\"ProveItLink\" href=\"../../../../../_theory_nbs_/theory.ipynb\">proveit</a>.<a class=\"ProveItLink\" href=\"../../../../_theory_nbs_/theory.ipynb\">numbers</a>.<a class=\"ProveItLink\" href=\"../../theory.ipynb\">exponentiation</a>.<a class=\"ProveItLink\" href=\"../../theorems.ipynb#nth_root_of_nth_power\">nth_root_of_nth_power</a> theorem\n",
    "========"
   ]
  },
  {
   "cell_type": "code",
   "execution_count": 1,
   "metadata": {},
   "outputs": [],
   "source": [
    "import proveit\n",
    "theory = proveit.Theory() # the theorem's theory"
   ]
  },
  {
   "cell_type": "code",
   "execution_count": 2,
   "metadata": {},
   "outputs": [
    {
     "data": {
      "text/html": [
       "With these <a href=\"allowed_presumptions.txt\">allowed</a>/<a href=\"disallowed_presumptions.txt\">disallowed</a> theorem/theory presumptions (e.g., to avoid circular dependencies), we begin our proof of<br><strong id=\"nth_root_of_nth_power\">nth_root_of_nth_power:</strong> <a class=\"ProveItLink\" href=\"../../../__pv_it/theorems/56c07940e923b16ee1f51fb1c484a322d8f951290/expr.ipynb\"><img src=\"data:image/png;base64,iVBORw0KGgoAAAANSUhEUgAAASQAAAAmBAMAAACfaPtgAAAAMFBMVEX///8AAAAAAAAAAAAAAAAA\n",
       "AAAAAAAAAAAAAAAAAAAAAAAAAAAAAAAAAAAAAAAAAAAv3aB7AAAAD3RSTlMAq1RmmUTNIjK7EInv\n",
       "3XZ/CtNrAAAACXBIWXMAAA7EAAAOxAGVKw4bAAAEi0lEQVRYw7WYf4gUZRjHn92Z2Z2d2ds7CCJF\n",
       "bO0H3B/qbeKVknRjd6aQ5Sr+p+CCf4T+NYKExuFt/aeCZ8IR1x85lUUl6qYVyFGsP0A5URY9Q4qj\n",
       "ubqEyzhPQ64u6Hp/zDsz7+zOzuzIPLA777vzvLOfed/v87zPDECwdc3/BS3ZqxDBPjfw96b5uTDO\n",
       "S1q8uNgRBUn+iR5H40B6ESLZC/EhyaPRkDL52JBSFa779Hy9zTQap4zGhtRlcHMWXlhrY0P62ToK\n",
       "61ag+cqUQw8c0GNCklkUJ6egBnCwBTFVYkJKHGWtp9Il9IUaaff5tO9IoRoTUnuBtWq5bgNTwa/u\n",
       "85LpNzL9kCIR9T0bhBTCi9mgziKoI3kOEkW0gnwI/uY7dIwircOHt4KQQngx6+F6b+OtgnVWrprW\n",
       "UJIw/Ia+RpHexTN2NAgphBezJ+u2u142bd2X4AqSjOY39D5FwsxqPggphBezC1z6w1KqMq2cLsFc\n",
       "MwF3lclZAakxFSjvEF7M/nV38G0kS3YwmhLG2+krwzwFvj4+fi044oK9mHGFzClcGCB1K9MLD5+F\n",
       "bFnU0ER87R1yeuKLEUxzpkCRNgB82ODKFR6J99L8iWgkI/uKRVcK/ZEIE+YbMABt75WtSkEcJ0ZC\n",
       "WcstFms4f5gUaQ+kG21DGo/EezlCP1gkh5F7dvK2kOTLJDWhTxuagJegx3gCNkPuHPphqTdF6sJc\n",
       "Ak9Qe4UiZQy16L7LsW9hTUcdEu/lICnn8YwLpsR+kh7R4zPH0VcO33YWDSzTALck492CQKRya9co\n",
       "UtJ0dHtkwRAsUQ3RqENye7mRAKbQ/WXLMOuZJdiBfm8DCwnghjNie92SZE0OCUqv2BXqBpyjTU2F\n",
       "b/rG+orchkK8ptdP6g6S1VttwoABF71IbWjRXgZr4UCapeLCtsyrJdihK4ZLS3B2N5r53iOTVqrv\n",
       "fP6AWq8l4pXTF6TyNpLdW6MPGnCLLTyLOAGtICmnMyYoQ4mqEzCrPXP0ZXERqPb2iJH6Eemn2wtZ\n",
       "XSH/1Kl+sq0BEvYS4CPZWTjWOzkECIktjPIfG/aPtbmpHZD8+0RVsjPt694MeWgjbCEFk5WXIIHi\n",
       "8p270G5IZA/vBG2qAVKClGKznJZIby8qP9DCsfWCy6yxSae7mVwD5U3zuRX29W57kE5MJ3sJ72DR\n",
       "ndsXI9EJu4aHjyGkk6n6vGQJpZp2IZHeHlwQueQNu+wiUdtKG3c8mavWtES2ka5CnyxX6CxJy33q\n",
       "pX61JDpIpPfxeiIrU7Kz1ka7SJyxSoeVnse8gh/S9+4SLj0Ddzppfu4GmPBBEn//4Q8HifSsMBqZ\n",
       "tCuOHtaSHliYGZ273H7fzP++Gwnd5L0C7Ed6kX/UIRFUVTYrU87YMv7FQlF49w+ab498naCcHx4K\n",
       "Veg2Q8ponsdXgAPu8zndb6Q0+xi1t2uPG0am1xf1UUwtPQaS3sRbeRQVKZuP69Hyu6hIf8b2tJst\n",
       "R0S6GBuSUIpGlCvF935pZzSkfj0+pFN6FCLlZguvvFp9V5neHemNV6GFd5Ut274ogz5jjf8BqMFF\n",
       "YuSftT4AAAAASUVORK5CYII=\n",
       "\" style=\"display:inline;vertical-align:middle;\" /></a><br>(see <a class=\"ProveItLink\" href=\"../../../__pv_it/theorems/1edba545a9f6128ff551398200c213782cf702630/dependencies.ipynb\">dependencies</a>)<br>"
      ],
      "text/plain": [
       "<IPython.core.display.HTML object>"
      ]
     },
     "metadata": {},
     "output_type": "display_data"
    },
    {
     "name": "stdout",
     "output_type": "stream",
     "text": [
      "nth_root_of_nth_power may now be readily provable (assuming required theorems are usable).  Simply execute \"%qed\".\n"
     ]
    }
   ],
   "source": [
    "%proving nth_root_of_nth_power"
   ]
  },
  {
   "cell_type": "code",
   "execution_count": null,
   "metadata": {},
   "outputs": [],
   "source": []
  }
 ],
 "metadata": {
  "kernelspec": {
   "display_name": "Python 3",
   "language": "python",
   "name": "python3"
  }
 },
 "nbformat": 4,
 "nbformat_minor": 0
}