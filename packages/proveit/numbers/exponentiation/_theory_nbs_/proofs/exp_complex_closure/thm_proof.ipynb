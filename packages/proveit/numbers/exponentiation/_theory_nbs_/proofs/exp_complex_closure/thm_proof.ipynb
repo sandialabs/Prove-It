{
 "cells": [
  {
   "cell_type": "markdown",
   "metadata": {},
   "source": [
    "Proof of <a class=\"ProveItLink\" href=\"../../../../../_theory_nbs_/theory.ipynb\">proveit</a>.<a class=\"ProveItLink\" href=\"../../../../_theory_nbs_/theory.ipynb\">numbers</a>.<a class=\"ProveItLink\" href=\"../../theory.ipynb\">exponentiation</a>.<a class=\"ProveItLink\" href=\"../../theorems.ipynb#exp_complex_closure\">exp_complex_closure</a> theorem\n",
    "========"
   ]
  },
  {
   "cell_type": "code",
   "execution_count": 1,
   "metadata": {},
   "outputs": [],
   "source": [
    "import proveit\n",
    "theory = proveit.Theory() # the theorem's theory"
   ]
  },
  {
   "cell_type": "code",
   "execution_count": 2,
   "metadata": {},
   "outputs": [
    {
     "data": {
      "text/html": [
       "With these <a href=\"allowed_presumptions.txt\">allowed</a>/<a href=\"disallowed_presumptions.txt\">disallowed</a> theorem/theory presumptions (e.g., to avoid circular dependencies), we begin our proof of<br><strong id=\"exp_complex_closure\">exp_complex_closure:</strong> <a class=\"ProveItLink\" href=\"../../../__pv_it/theorems/0d66d8cd09fbd10bfb7aa3243e32d3923ab2f7310/expr.ipynb\"><img src=\"data:image/png;base64,iVBORw0KGgoAAAANSUhEUgAAAI4AAAAaBAMAAACTJHluAAAAMFBMVEX///8AAAAAAAAAAAAAAAAA\n",
       "AAAAAAAAAAAAAAAAAAAAAAAAAAAAAAAAAAAAAAAAAAAv3aB7AAAAD3RSTlMAq1RmmUTNIjK7EInv\n",
       "3XZ/CtNrAAAACXBIWXMAAA7EAAAOxAGVKw4bAAACjElEQVQ4y6VVTWgTQRR+yf5vkjUH8WClLCj0\n",
       "IEq8FIxQI/5UFGKkIEI9BA9KPW3Bi1BEQUVIoBGjuNXCSE8ScEUFPUlRhIIIHoRCYCEBoSpYehFF\n",
       "UHyzmRl3bbKJOLA7782b+d7/DMA/jGs1+K8hlTpz4lF3eWFAnG1sTl/qLr8wGIxZZsTs6ubu9rYG\n",
       "wjFyjPhCPvwlasyfWakANAGylN0aizPDiZswGpVYW3LmsTpAG+Ag5c/G4hzlxBLsi0qKk+gU4ngE\n",
       "LiOrxefzKyfW4GVEoBfm8L8RQM2BSgBSdhyM/oNTTYkp/OT7NPYJQvkFALkGEgZRjTXHesepK6ud\n",
       "+cRnlgCNVY61CPDW99/E4iSoam1oRSRXO8eIaZ0VpoImHwaYi087Nf6UYwj3VIcRFYVVhP4dQUHL\n",
       "ilBMCWfqwxf5MRSbr0AW7okwnFeYjRqmwiCpktA9RMHabsm84STvsrUMBkFeg4xorqqPoxbEh62Z\n",
       "iJNshcK8hN8B7KLUQ4A9IXvSNfCEtgfCY8Lyp6FfUB6jBT72jJryq00s6vPCVRSGcLwW7BXKMpxQ\n",
       "gvpR8Nw3nB9j+M3lgLSaViHQNjISyhcq9WzYlOThtUTmisfxd6iTL5hBfXJBXww6UipP0A35fKh+\n",
       "UGK0ku9lsXJaiG6PmzswfBI9nMB4pEtWNrhg5Oyo67r29ZN/cKgyc/j59Eexcv8W4f1+7+c4TjLP\n",
       "uOcYeZRtgLRdoTyNs8mPvV5XUpPzfjnMq/xmSTuzE6QBGbIbk0AT8NSBF+v6vefwuH3K/p1PoGrr\n",
       "xRZodwKDp+riEq32xdkVZTtt33DdUrTB7H44yxFOIX3u557vSfR+lnrt294HZ8D3QrxfvcYRgN+/\n",
       "l5RbTU4AugAAAABJRU5ErkJggg==\n",
       "\" style=\"display:inline;vertical-align:middle;\" /></a><br>(see <a class=\"ProveItLink\" href=\"../../../__pv_it/theorems/1c66acb54ed1794a27f62365a6d0148cdc9175f90/dependencies.ipynb\">dependencies</a>)<br>"
      ],
      "text/plain": [
       "<IPython.core.display.HTML object>"
      ]
     },
     "metadata": {},
     "output_type": "display_data"
    },
    {
     "name": "stdout",
     "output_type": "stream",
     "text": [
      "exp_complex_closure may now be readily provable (assuming required theorems are usable).  Simply execute \"%qed\".\n"
     ]
    }
   ],
   "source": [
    "%proving exp_complex_closure"
   ]
  },
  {
   "cell_type": "code",
   "execution_count": null,
   "metadata": {},
   "outputs": [],
   "source": []
  }
 ],
 "metadata": {
  "kernelspec": {
   "display_name": "Python 3",
   "language": "python",
   "name": "python3"
  }
 },
 "nbformat": 4,
 "nbformat_minor": 0
}