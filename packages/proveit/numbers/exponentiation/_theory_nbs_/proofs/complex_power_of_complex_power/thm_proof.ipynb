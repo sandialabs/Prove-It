{
 "cells": [
  {
   "cell_type": "markdown",
   "metadata": {},
   "source": [
    "Proof of <a class=\"ProveItLink\" href=\"../../../../../_theory_nbs_/theory.ipynb\">proveit</a>.<a class=\"ProveItLink\" href=\"../../../../_theory_nbs_/theory.ipynb\">numbers</a>.<a class=\"ProveItLink\" href=\"../../theory.ipynb\">exponentiation</a>.<a class=\"ProveItLink\" href=\"../../theorems.ipynb#complex_power_of_complex_power\">complex_power_of_complex_power</a> theorem\n",
    "========"
   ]
  },
  {
   "cell_type": "code",
   "execution_count": 1,
   "metadata": {},
   "outputs": [],
   "source": [
    "import proveit\n",
    "theory = proveit.Theory() # the theorem's theory"
   ]
  },
  {
   "cell_type": "code",
   "execution_count": 2,
   "metadata": {},
   "outputs": [
    {
     "data": {
      "text/html": [
       "With these <a href=\"allowed_presumptions.txt\">allowed</a>/<a href=\"disallowed_presumptions.txt\">disallowed</a> theorem/theory presumptions (e.g., to avoid circular dependencies), we begin our proof of<br><strong id=\"complex_power_of_complex_power\">complex_power_of_complex_power:</strong> <a class=\"ProveItLink\" href=\"../../../__pv_it/theorems/6f0a1d4ede9b8f7b46635d1463876f19fbcbb66f0/expr.ipynb\"><img src=\"data:image/png;base64,iVBORw0KGgoAAAANSUhEUgAAAP0AAAAaBAMAAACOWkf1AAAAMFBMVEX///8AAAAAAAAAAAAAAAAA\n",
       "AAAAAAAAAAAAAAAAAAAAAAAAAAAAAAAAAAAAAAAAAAAv3aB7AAAAD3RSTlMAq1RmmUTNIjK7EInv\n",
       "3XZ/CtNrAAAACXBIWXMAAA7EAAAOxAGVKw4bAAAD1klEQVRIx61WUWgUVxQ97uxmd2c2Y+hHigph\n",
       "oR9BaGTBNtQo6YbEGilpFwNSaqARKSV+yKT0R1o0BbWFiomaUKcBOyWlNKyYqYq2fgRJKVqlkI+I\n",
       "YglMmqJt2kgQRPBDvPftzOzM9jVZ3V3YlzcvZ+e8++659zyg2p9E3/L/PzKE6n9eDczXLQ9dZXuz\n",
       "aNXoI9nAw7XlsakBbxav2kl8J17nnv+TOUtMtXlHhh28v5b/TLYCrdXiP8nDH4W5fkfPxpj5ZuKK\n",
       "DLto/Uljbe4oDRZQx2svVUYfZ6KIm9dkRunFPGV3SB2Q77VZtbEd39NWiXwrr31QGX/U9nIg8hut\n",
       "Q42FVE4Ovoa2xFX8wlP1MfBpFYSwmqnavQek0lCyWG3IwUuYovGRmO8B7xRaujL+QXoHvGTXWpto\n",
       "vI6aHGwZ+I7C0b4PjcbtgJKhPVQov0VOf6/Xf95yRGTx9lZLBj50n8ePNi7Q+C99f5udvVEhf72n\n",
       "gf7JA+7SD1KdrrsXLsn3aIedwFf/hWrPwm/St4bOMXYVX7sxN/vanBUfUWY9RvJxOHFUIf2I10kk\n",
       "/Sz8uzntpKEzGXS5Sy9LYOrPiE6HVg6ScJOWFqyUpott+4r8RbP4uy18dvpwg3fWmOGyo5e8Dfzu\n",
       "RSYr0yXUhiU5QT+KOL78EnNmTtdwyfb5hVkcWzOC8Rex3g7A1ONGZDQYP/P/CvWhu9Qj6/xDgjAY\n",
       "P3eoXr8Nd9CjrqPF0Tq6OrZ6ZhElheCyA8UOwLSzwOaS81efQFnyjlGS/wkHr5cULveIc3tpyLde\n",
       "gp6B4F/I+vGzWcxz6l6jjRsFUxGwscO+4QBruO06UB9gVW9jYWmTJP6JNOojRqn+8QntTb2VeIRx\n",
       "kVctfjrj85NZqCyByIfu78hUBKyxMfAaLmON3nIaTVnXid+U8CedyExY11tEjvmMs2RW3YI/OjpU\n",
       "1B+ZRYzDVcYKdcWmImAtLSVhJEjZ3/zzWYPrOTdl+m/4sf+v0EqbL40ceVGzaZppXdd2FOufzELp\n",
       "M80TicMDLg4F2OfvBIXFqrod6jTTZRXuHj81RrLF+kLEr8d2WUGzSAjZkf5Ay2wqAsb6U0P+90qo\n",
       "1DLl0Kt+N0oZg91W0hL5x2U3h2TTbBaiO368DZqTF6YiYPELBib9umXvSQaVtb+s8BW/8cXaN5xH\n",
       "/BTNdt61v33Dfe2UMIv9fPTqRbMTR9NsKgKGfN9w8XrxAiOCJv5lWfy1JRadN81Qf4gUjuEnc8Rd\n",
       "SEth7t3jQKA5GmXxr3T/e7fkOWb93/3Xfq5r20rXnlIRKWXd/8u/tlE4TwF0Q/ba7BbVcAAAAABJ\n",
       "RU5ErkJggg==\n",
       "\" style=\"display:inline;vertical-align:middle;\" /></a><br>(see <a class=\"ProveItLink\" href=\"../../../__pv_it/theorems/0c0e461177c6aa42f008693f288e6b2d818e23c60/dependencies.ipynb\">dependencies</a>)<br>"
      ],
      "text/plain": [
       "<IPython.core.display.HTML object>"
      ]
     },
     "metadata": {},
     "output_type": "display_data"
    },
    {
     "name": "stdout",
     "output_type": "stream",
     "text": [
      "complex_power_of_complex_power may now be readily provable (assuming required theorems are usable).  Simply execute \"%qed\".\n"
     ]
    }
   ],
   "source": [
    "%proving complex_power_of_complex_power"
   ]
  },
  {
   "cell_type": "code",
   "execution_count": null,
   "metadata": {},
   "outputs": [],
   "source": []
  }
 ],
 "metadata": {
  "kernelspec": {
   "display_name": "Python 3",
   "language": "python",
   "name": "python3"
  }
 },
 "nbformat": 4,
 "nbformat_minor": 0
}