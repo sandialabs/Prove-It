{
 "cells": [
  {
   "cell_type": "markdown",
   "metadata": {},
   "source": [
    "Proof of <a class=\"ProveItLink\" href=\"../../../../../_theory_nbs_/theory.ipynb\">proveit</a>.<a class=\"ProveItLink\" href=\"../../../../_theory_nbs_/theory.ipynb\">numbers</a>.<a class=\"ProveItLink\" href=\"../../theory.ipynb\">exponentiation</a>.<a class=\"ProveItLink\" href=\"../../theorems.ipynb#products_of_pos_powers\">products_of_pos_powers</a> theorem\n",
    "========"
   ]
  },
  {
   "cell_type": "code",
   "execution_count": 1,
   "metadata": {},
   "outputs": [],
   "source": [
    "import proveit\n",
    "theory = proveit.Theory() # the theorem's theory"
   ]
  },
  {
   "cell_type": "code",
   "execution_count": 2,
   "metadata": {},
   "outputs": [
    {
     "data": {
      "text/html": [
       "With these <a href=\"allowed_presumptions.txt\">allowed</a>/<a href=\"disallowed_presumptions.txt\">disallowed</a> theorem/theory presumptions (e.g., to avoid circular dependencies), we begin our proof of<br><strong id=\"products_of_pos_powers\">products_of_pos_powers:</strong> <a class=\"ProveItLink\" href=\"../../../__pv_it/theorems/5d85da77b5ff2191b73bf8f5e15a7e925df29ab60/expr.ipynb\"><img src=\"data:image/png;base64,iVBORw0KGgoAAAANSUhEUgAAAsAAAAAaBAMAAABLO/e8AAAAMFBMVEX///8AAAAAAAAAAAAAAAAA\n",
       "AAAAAAAAAAAAAAAAAAAAAAAAAAAAAAAAAAAAAAAAAAAv3aB7AAAAD3RSTlMAq1RmmUTNIjK7EInv\n",
       "3XZ/CtNrAAAACXBIWXMAAA7EAAAOxAGVKw4bAAAGt0lEQVRo3tVaf4gUVRz/OjN7uzu7Nw79IZhw\n",
       "bGTcH6JsLB54gZ15V6kUi9IPU2iDQCyw9Z/gymqLiqLL21LR0YgRjyAOvMVM8/6IS5GMCI44ODAO\n",
       "5lA0ReX+sUQoe9838+bXe7M7ecOiX7jZfd/5vO+8+cyb7/t+3h7A/W8f1+M64e6AQUhm+7yCCW3B\n",
       "zPQ9RupK8ieXndE1RENuxL03D9jXEqLgYUmgFegdCqbN/B5vEB332qSVcPhLnUa+JkAIndAcONgS\n",
       "ksXDuUDLtbooWOk+Jfgb8qdWnMbwjQd5hNApMh9QtlpBkNLMv7NmFMFcsBLo+PFwa4Jj4dpme/D2\n",
       "ik7junmRRwidIvMDz7eCIKXaea0vimAuWAkG8GNba4Jj4dpl6Qly2OWx3QODJvcIelIrBmI9qx73\n",
       "+2w0xL5Alj5YubLxYllIMBesBO/jeOutCY6Fa5cpuJZsYK1zsCazPEwwceZhLEYsAnS/j5lREHqB\n",
       "dcZXhlHM1xR9Qp1zWmxEhvGLsYcPVoIO8pErtCY4Fq5dthDnz03WmoPT0BmmhjjTMBQjFgHKT5QG\n",
       "luHy1FGMgjgXwDm7EPKFamZCOIO5YCWQizHWMAKIhWuXDZO7zdx2k51c5wlGJ+yLEYsApStwVsKX\n",
       "QqlHQXwEd5qryBeWItQGjOLBJpgLRqqI32Zmfo1TRcTBtcuu41oziUlryWULPrwBAYJdp9KiVHOB\n",
       "B9SKgm+nNhEJ8QjOPEvqg6fd1s8wVCUHm2AuWIlCD8YhOA6uXbYIa3qs0rZWs/ZE9hPsOse15mFc\n",
       "4KTU6JTJZ4o2lRlqOvAXYEkhZ1rCFMEFIwTvhLQuvHwuSHAUTqpGdWa31y0Mj28RV3d2R3ERRBt4\n",
       "d+SG1DOgTFL5eu2Ye9J1dtz5pym/LlDVtfKCyxjmVhTEuQDTbm/cmRQqOS4YIThr5srBqO9sKMs/\n",
       "BbojwWGctrfrXVu0BgT48hNrdrBr25eUywH1Lv3x6iLLOamE7oeI35CaF6NfwTGRx63MQadfEqt/\n",
       "QYQzTJwISBLCzXC5wkH+Ry150yZYsvxrV2bWKEv6OKznCPbhEKR+UZUO0QfmCXD0azk42XA6b6He\n",
       "wz71vnvxPrAaubcdylKhwR8O7iFEoqfwnSWufB3GAk8dTwidYRMCQQ0TzEPim+oQDJXVPm8/WRek\n",
       "1Qo0OIJ9OATljgI8hs+47Alw9Gsa9FpO5w6atwY89a7g2mBZ8lE2vV8LjmkgoOaj0WwGj1nwOHdj\n",
       "QqfIeGD6VigHx44lmsFOioBjZNzy2t2z2qoaaFi7SR+8QOZN/zP9AwGCEQejq0/aoCMfkRA4kTwB\n",
       "Tv2E4Kt9Tme7bp701PsFoJRpI3C8f6qfTI1jwTFNBtR8NNoluACLuDVA6BQSzAEzf99tLIHRYEjw\n",
       "LjLSI1uLeV3T4Vua92rjjwhmMOLUadKNgrqd9ehNT4BTv5ZLf110OtM9r3TFVe8qza9WY/ACm5NL\n",
       "g8+84lfzTdCLsYogp7OWNBXO42InjFWczDtWiQambseKFc9YFQELyEv51iVYWCMCdJNNsKLVeYIR\n",
       "p/QRCUNBvb32qc2eVKd+TTlUZwtSqm4fmHpPUaFkrTvlroCbg0Oq+9V8E/Q1p8xUu37Y+SeX+0RO\n",
       "mrLd3B0FlCdixYpn8oR/u7KLyMrOAvQYhlGQamqjwhNMk36ZTHMK+uRF2/OQJ9WpX9NyGxnBGSRY\n",
       "0oGpd3m7YXxJXvrvC4yyT4Mlg+7fGmiCftkUzLYk9jj0pIOVvP2MK/BeBj6zZzBstLg62H7Rqtle\n",
       "k4JwkVPtm2ZSnfo1LbXFdDrTFEFYZuo907Cz6nPjTmUbShH4QDw13wSdx5X9bPIER+xFzCMYIzg9\n",
       "R+bwKoUUu3Y1quniDfd8dXiTSUHp41X4kWjwTk+qUz8p08bZS6hZRKeTlctV7wftrJobYfFu2ELe\n",
       "OeAi51PzArRwNy05i9hNm0cwRnBKh22w8yqkD5DG59uc/XWe4NTaFd/ZIBjdvreWOQ3ZqivVqf/5\n",
       "S42RJ9kSUYWhAuz31PsgSeOpHa+r/Wyh2U8ATM1TqF/NC9BsqmN6G0qe4EcTD8b9ZDRqGGXxXoQQ\n",
       "JLHqn0r1cGcsKwqO3KDqXT1lBDa4sFDwtkAZlKl5EdqxB3DRTX7zdDrxYPP9Te4lgKfCewGekVMp\n",
       "E5Sqp97D60AVAeztYFBXzfNoZoHf5BKzqN/k5hFsvgQXcWpGXoJMZ9xWGo+Mu9IGOPCmUBvt1hv4\n",
       "3ixLmuDB5IPFJbjZ/0VEEqyGPmN0VZuNwgyRLZcTJnh90sG0mTP/AXorVPaoScp1AAAAAElFTkSu\n",
       "QmCC\n",
       "\" style=\"display:inline;vertical-align:middle;\" /></a><br>(see <a class=\"ProveItLink\" href=\"../../../__pv_it/theorems/9e873718b73ebf3ffa835253b55b7d62d7ca75ab0/dependencies.ipynb\">dependencies</a>)<br>"
      ],
      "text/plain": [
       "<IPython.core.display.HTML object>"
      ]
     },
     "metadata": {},
     "output_type": "display_data"
    }
   ],
   "source": [
    "%proving products_of_pos_powers"
   ]
  },
  {
   "cell_type": "code",
   "execution_count": null,
   "metadata": {},
   "outputs": [],
   "source": []
  }
 ],
 "metadata": {
  "kernelspec": {
   "display_name": "Python 3",
   "language": "python",
   "name": "python3"
  }
 },
 "nbformat": 4,
 "nbformat_minor": 0
}