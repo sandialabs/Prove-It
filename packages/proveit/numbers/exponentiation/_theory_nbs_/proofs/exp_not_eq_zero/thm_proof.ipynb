{
 "cells": [
  {
   "cell_type": "markdown",
   "metadata": {},
   "source": [
    "Proof of <a class=\"ProveItLink\" href=\"../../../../../_theory_nbs_/theory.ipynb\">proveit</a>.<a class=\"ProveItLink\" href=\"../../../../_theory_nbs_/theory.ipynb\">numbers</a>.<a class=\"ProveItLink\" href=\"../../theory.ipynb\">exponentiation</a>.<a class=\"ProveItLink\" href=\"../../theorems.ipynb#exp_not_eq_zero\">exp_not_eq_zero</a> theorem\n",
    "========"
   ]
  },
  {
   "cell_type": "code",
   "execution_count": 1,
   "metadata": {},
   "outputs": [],
   "source": [
    "import proveit\n",
    "theory = proveit.Theory() # the theorem's theory"
   ]
  },
  {
   "cell_type": "code",
   "execution_count": 2,
   "metadata": {},
   "outputs": [
    {
     "data": {
      "text/html": [
       "With these <a href=\"allowed_presumptions.txt\">allowed</a>/<a href=\"disallowed_presumptions.txt\">disallowed</a> theorem/theory presumptions (e.g., to avoid circular dependencies), we begin our proof of<br><strong id=\"exp_not_eq_zero\">exp_not_eq_zero:</strong> <a class=\"ProveItLink\" href=\"../../../__pv_it/theorems/c20e36f272a15f64ec49b10798933c85648f6cfe0/expr.ipynb\"><img src=\"data:image/png;base64,iVBORw0KGgoAAAANSUhEUgAAALwAAAAaCAMAAAA60sZqAAAARVBMVEX///8AAAAAAAAAAAAAAAAA\n",
       "AAAAAAAAAAAAAAAAAAAAAAAAAAAAAAAAAAAAAAAAAAAAAAAAAAAAAAAAAAAAAAAAAAAAAAAeYafp\n",
       "AAAAFnRSTlMAq1RmmUTNIjK7EInv3Xbt5cnn9enzas/lfgAAAAlwSFlzAAAOxAAADsQBlSsOGwAA\n",
       "AudJREFUWMPVV4uSpCAMFAICAdl7+v+fekBABXFkZ69m7qzamdUyQ6fTCc00/SOXns30H10gq1tm\n",
       "PxEr3oydNwCc/kSwem+ZcG5ks3rPcLxs/p3gDdT3fsHJ99Qg+hkt8THb6wgvxK5cJxmYO41cCcRa\n",
       "LxQlG4GLrW1m9ULwom3PKHnBOhU6tsLMg96WhBPXQL1mb+mBVbYPYgL8TPwxH1gS+wR0jkKZs6Ys\n",
       "f+VUX/GsYejQZ45yMCkTTrEivg1Z6vMriffLKR3hOwNEVkJaBSWeaPapa9wSL2dfCZ4VqhSzXl2P\n",
       "vaoPsYBPdMtUAJFawuCTnfdoll8PyqwQ6QI6c9LQJBKhy4+f8XPrytXmHYG+dEq+fAzYDW8Eq6h6\n",
       "0OZW5ul2LupMy6GDhHSI+B28pTtZSLeyV9yyqvbMmPAGGhZ+jhs7Ap74iFuhPL20UMHEmm6uFCvr\n",
       "siKhlsQ8EnjuL9q12A0h8j8WUxwMgWdq+41V9Zl3ZkdxS3xpWE4Nq1adB02xCmjBW9XYDV+2XgRN\n",
       "66gu+Cp4krm42BvgBB4Th7B2Oilq/ddvUj6rOwWoRXRmxPI87OPupTeast3ADR9X/LQL7+C3YGHi\n",
       "9RH+IA/0pXUezBB4TpOHdzf3ue1jSNNRkEpkbnPlWNFHyMg1dkNuKwMCXoOvg3O5CLxrhyEN6cmE\n",
       "5zzoX4x45khCtAdZzFCWYlnTTmbHc7QbMCcmDZ+0lvoafBVcykWyWVvZZNqQeasV83qI+PC+sL5g\n",
       "bY0QxqIbQKzsht7bMzfscYCbc3CUzbfvJsnmomFTpjeHlZtdc26l6KJqZdAG2oPd2PcvZZMhtd05\n",
       "vwVXfipu+pLdu8oR4mui8TRYgXsLUbt8txtqt6Vog4aE7spmC67362jBzzi0uzsq3WQH7FHVjlna\n",
       "qIF+obtznt8f0tiNiV1u7Mry4PQhR61OF/yAQ8Wbd/QXzrDDR8IeeC4HAvlXbOxfOjk9f3YE+fyq\n",
       "1EV/AOJzGNRk1+99AAAAAElFTkSuQmCC\n",
       "\" style=\"display:inline;vertical-align:middle;\" /></a><br>(see <a class=\"ProveItLink\" href=\"../../../__pv_it/theorems/a5f21a12c8f2fe340ff4f865c3da04ca2d4c99ad0/dependencies.ipynb\">dependencies</a>)<br>"
      ],
      "text/plain": [
       "<IPython.core.display.HTML object>"
      ]
     },
     "metadata": {},
     "output_type": "display_data"
    },
    {
     "name": "stdout",
     "output_type": "stream",
     "text": [
      "exp_not_eq_zero may now be readily provable (assuming required theorems are usable).  Simply execute \"%qed\".\n"
     ]
    }
   ],
   "source": [
    "%proving exp_not_eq_zero"
   ]
  },
  {
   "cell_type": "code",
   "execution_count": null,
   "metadata": {},
   "outputs": [],
   "source": []
  }
 ],
 "metadata": {
  "kernelspec": {
   "display_name": "Python 3",
   "language": "python",
   "name": "python3"
  }
 },
 "nbformat": 4,
 "nbformat_minor": 0
}