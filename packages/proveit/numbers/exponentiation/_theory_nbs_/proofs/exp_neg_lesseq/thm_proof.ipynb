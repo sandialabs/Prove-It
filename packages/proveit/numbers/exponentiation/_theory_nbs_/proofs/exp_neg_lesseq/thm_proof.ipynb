{
 "cells": [
  {
   "cell_type": "markdown",
   "metadata": {},
   "source": [
    "Proof of <a class=\"ProveItLink\" href=\"../../../../../_theory_nbs_/theory.ipynb\">proveit</a>.<a class=\"ProveItLink\" href=\"../../../../_theory_nbs_/theory.ipynb\">numbers</a>.<a class=\"ProveItLink\" href=\"../../theory.ipynb\">exponentiation</a>.<a class=\"ProveItLink\" href=\"../../theorems.ipynb#exp_neg_lesseq\">exp_neg_lesseq</a> theorem\n",
    "========"
   ]
  },
  {
   "cell_type": "code",
   "execution_count": 1,
   "metadata": {},
   "outputs": [],
   "source": [
    "import proveit\n",
    "theory = proveit.Theory() # the theorem's theory"
   ]
  },
  {
   "cell_type": "code",
   "execution_count": 2,
   "metadata": {},
   "outputs": [
    {
     "data": {
      "text/html": [
       "With these <a href=\"allowed_presumptions.txt\">allowed</a>/<a href=\"disallowed_presumptions.txt\">disallowed</a> theorem/theory presumptions (e.g., to avoid circular dependencies), we begin our proof of<br><strong id=\"exp_neg_lesseq\">exp_neg_lesseq:</strong> <a class=\"ProveItLink\" href=\"../../../__pv_it/theorems/3965e74972fa03027017e302cf8ffbd2c063f7950/expr.ipynb\"><img src=\"data:image/png;base64,iVBORw0KGgoAAAANSUhEUgAAAREAAAAXBAMAAADelGYUAAAAMFBMVEX///8AAAAAAAAAAAAAAAAA\n",
       "AAAAAAAAAAAAAAAAAAAAAAAAAAAAAAAAAAAAAAAAAAAv3aB7AAAAD3RSTlMAq1RmmUTNIjK7EInv\n",
       "3XZ/CtNrAAAACXBIWXMAAA7EAAAOxAGVKw4bAAADh0lEQVRIx71WTWgTQRT+0mSbzU+3EQXRggTa\n",
       "i2AliCj2UCv1D6ESrRSqIMGL4kFW8CQq9SgNNFpFoyArFMFGa2ihxR5KEURBLIKKBWlJpCpVKYJI\n",
       "pSffzM7sbNKEBiEdyM7szjczX9773nsDVLv5RZ9pHSs5Hxz5YcLEKrTP4sCP+mLJ+Sdmn4mTNIiw\n",
       "t8bqEanJ2r2vTZ8sCdiLJGDEgH3s7XT1mDwUfThuRBQ914EvkKfnWeAqc2WqekzaRf/UDLRYYux9\n",
       "bymZLKJ/ENgO1NLHULR6TKRLwmZfpzjf+GS5AC/1Py00bcFLHqqtokwSYqC1bx0RQTRbgDi27Qej\n",
       "QL83MzOvq8fER4IdakdQaWTgneOYhY29w2IcIsBB4G4FW7b9HxP2X7Nb4P0lPzw4pVgin+uQ0iHb\n",
       "nYc/Unaj5tE95+wRF3VoIluM2FwqKSlcXRR6tAMeJyY8islO7LbWSi+SngJWKF6ShZ5Px40QxrKK\n",
       "SSu6bbsqIrnlCy0Hx4KXwFMIK9gFxzs92K8OI6PV5MoIdm8PydxAS04xeYV6ZgL/Hin+XbHl6y5s\n",
       "lDibCbQl9PWoeZdip5yRxmIs0aqqwsKBOdpCy8PD0x5j8r3NYeJfQpgCXl9jCuQ8C3+OlgWEEtR6\n",
       "iRPegS+Bn26qThRrixiU3nlLj+GzTlUwzA21tHSo3kriEV8U8t+POUz0JdTFoN00BTLJj+NoWUDQ\n",
       "fUDieAuQRQMRXC+wmp3Zgrc8k5B68rL9L0WcquDFfZ26i82YRydn4ruXgptJOKfdsySyhg85WhaQ\n",
       "7nGJU9Hpi2i/i7LMGfb4OzCpRV3RDk+PqyrY9bIBm7AjnU5HDSN0FG7v1AtD2EibFUOLAqI/h8QJ\n",
       "JZLVgw1zpcpw8HCuaZt8qYsXVQV9kl8nPpDmerlNDO2EVajY4DN+iI3U15k2WhaQzA2Xslmb5pZJ\n",
       "rJR3LsNdFTK4FEr4kKHl2i+Kbq4TjCvFYgFH6DlPGuBI9vfXWBwdzIoCYvQ7ON6otI3icbTSQmlX\n",
       "hWTU92XiO3Vo2pWA/w597/qaHdjvzmyHROxypLiSMTS5xS4g8PY7OC5ZE7PkP3UxmmFtuvhiV3Qb\n",
       "EMyjQTNAe2bSaVfKS5VNrDa6RsnxdoEaUmici69kkkBhptYs0XlyXcuw5a8wNvp4uekrlZSnb4Wv\n",
       "XtlprdmKmFyj8EqbNjqG1WpVv33/AwUQBB91wAFZAAAAAElFTkSuQmCC\n",
       "\" style=\"display:inline;vertical-align:middle;\" /></a><br>(see <a class=\"ProveItLink\" href=\"../../../__pv_it/theorems/6db15d53a53f8154631513c8c8f167db2f2aae290/dependencies.ipynb\">dependencies</a>)<br>"
      ],
      "text/plain": [
       "<IPython.core.display.HTML object>"
      ]
     },
     "metadata": {},
     "output_type": "display_data"
    }
   ],
   "source": [
    "%proving exp_neg_lesseq"
   ]
  },
  {
   "cell_type": "code",
   "execution_count": null,
   "metadata": {},
   "outputs": [],
   "source": []
  }
 ],
 "metadata": {
  "kernelspec": {
   "display_name": "Python 3",
   "language": "python",
   "name": "python3"
  }
 },
 "nbformat": 4,
 "nbformat_minor": 0
}