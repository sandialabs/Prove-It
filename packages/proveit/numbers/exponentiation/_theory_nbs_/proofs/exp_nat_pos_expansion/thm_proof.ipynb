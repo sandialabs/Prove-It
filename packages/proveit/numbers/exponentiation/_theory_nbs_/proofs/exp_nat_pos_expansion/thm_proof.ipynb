{
 "cells": [
  {
   "cell_type": "markdown",
   "metadata": {},
   "source": [
    "Proof of <a class=\"ProveItLink\" href=\"../../../../../_theory_nbs_/theory.ipynb\">proveit</a>.<a class=\"ProveItLink\" href=\"../../../../_theory_nbs_/theory.ipynb\">numbers</a>.<a class=\"ProveItLink\" href=\"../../theory.ipynb\">exponentiation</a>.<a class=\"ProveItLink\" href=\"../../theorems.ipynb#exp_nat_pos_expansion\">exp_nat_pos_expansion</a> theorem\n",
    "========"
   ]
  },
  {
   "cell_type": "code",
   "execution_count": 1,
   "metadata": {},
   "outputs": [],
   "source": [
    "import proveit\n",
    "theory = proveit.Theory() # the theorem's theory"
   ]
  },
  {
   "cell_type": "code",
   "execution_count": 2,
   "metadata": {},
   "outputs": [
    {
     "data": {
      "text/html": [
       "With these <a href=\"allowed_presumptions.txt\">allowed</a>/<a href=\"disallowed_presumptions.txt\">disallowed</a> theorem/theory presumptions (e.g., to avoid circular dependencies), we begin our proof of<br><strong id=\"exp_nat_pos_expansion\">exp_nat_pos_expansion:</strong> <a class=\"ProveItLink\" href=\"../../../__pv_it/theorems/8f46a1458d2d60fdc0e0899ac95af0e1258dd1cb0/expr.ipynb\"><img src=\"data:image/png;base64,iVBORw0KGgoAAAANSUhEUgAAAZoAAAAVBAMAAACNuTXpAAAAMFBMVEX///8AAAAAAAAAAAAAAAAA\n",
       "AAAAAAAAAAAAAAAAAAAAAAAAAAAAAAAAAAAAAAAAAAAv3aB7AAAAD3RSTlMAq1RmmUTNIjK7EInv\n",
       "3XZ/CtNrAAAACXBIWXMAAA7EAAAOxAGVKw4bAAAEZElEQVRYw51XW2hcRRj+9pazu2ezWSioFQkr\n",
       "ahto6wbRaqvoQlYtxMpSWygYcKEPUp+OL0K0jeuDKBbbKA31KJTFlmoMNGnJeRAx5CUgLS1pTSUv\n",
       "gV1bBZUGqWBLnpzLuc05s7ODw/67c2a++fb/5vLPf4Ce5faqut/iP6mR47finQa0itWtQ2e84Vov\n",
       "R1lx1N3FMv89MzZciDv1q5YYjyNeMu3eoymG4RyU6PMjajVKzDb3993fMdCKdibntNRsk7a+Nz8F\n",
       "3NQYftM1By/SxzfValSYfMOrDWIs1ntOS0zAIbRWUSmjr9V7PMVQc/AB3XSTajUqTHrYq/2EWjba\n",
       "O6KlJuAQtt8dzDaQqvYeTzHUHKbJLKvVqDAF/yz+jdWhaO+ilpqC/DgsYYAs2iUNgkvcHKTIvPT1\n",
       "iAIqzBb/z0v4KzrHyYaWmi3dOiqE8BCr3U9svCvBIW4kXl1ZW7vcK6YpMKPEzne+/UG6dGkSBPLr\n",
       "Dx676LdIoYQj0/lm4XRsdX4mXxdY9WgThiQAu3QXOI54ugf4UuLIXFhNF4w3LdXiYHrZb9m7Rss1\n",
       "djzJ3KbRae/1O0VowGHmBjEbCfDZzgPkeyffx6tUUKy4dDs5jnj6NoySxMtqWE0UUzw5OOFWr5MD\n",
       "aKU2EtKD3E/m7Wm80Nrkn1cplHAc6J/E+zF3SUzDdl49+pFkaTw6itnOPM21zHr4Yl1x8FwpoiaE\n",
       "yXbsev4zK/mV+7xEmpDucj4KZFQTL/GA+y8CKHvwC+FozdZRocH4HFtZ1/PCBnDC9WtN1CrQneBG\n",
       "PE22gwN+fPMUHjZb6VZETQhTI6TmeeDZwBPyr+3uaoCr/GEFIehKRA0qwH2RjdZE7g68SyyqRqAb\n",
       "40azlsbz/qHdQ+/8dtXEfG2lVg9lNgyz/vItq0i3yZkPgwTqOv16w8q3ZOeG7jRk7uK7wAkBGuIg\n",
       "Uv7JC60DG0zNDsVO8+goZgf39OJbXsrIsoihxybM6LlhmKK1ua88TVu2bg3oSCCarj8EU7o2uTby\n",
       "U4nFIKTIoTSYXUZyQ+wplNhO26WIAh7dLm7U0yMlN2XMs+t+yPz69ZgaiknhdBav0ZbduwNCEhgr\n",
       "n7yCfVI1ZgnJe2cXM35MFqHkqp9tcA7jHoqNZ8QjPszum1ExQntjBLpRbtTTRNNNGTMs2Ayh+kdM\n",
       "TYLNy10SB23bLn98MPjPT4Gz68kReaaQXUb+1fajT/gNIrS/Sj+MI0OQmyIk+2sk68QNVqex+p3w\n",
       "GIHuBjcnnDKmDtv250TNTF/0vnF9WzRwjE05iQLeHu9vqm5enTcONYexrPGCs8zNCaeM2Tm+NpnH\n",
       "pe83R8xGmsRqOnrewkIo4+tentRSo+KQZ6RxDDVHSBnZff8U0JGqSf+28CeML2h15vBJfzpPqf4n\n",
       "Z2nJUXCMawwfd80RUsZx4mL2FwsJxbvnjG3XxbiifHOZ1FIz/b+ECphTMU/z39tTceyP6s1vKN91\n",
       "J7TUdOcoaiwuxVC7vfQfTxJD5Y5iRHgAAAAASUVORK5CYII=\n",
       "\" style=\"display:inline;vertical-align:middle;\" /></a><br>(see <a class=\"ProveItLink\" href=\"../../../__pv_it/theorems/df6449c99121a73bced922e58114d934536ad3ca0/dependencies.ipynb\">dependencies</a>)<br>"
      ],
      "text/plain": [
       "<IPython.core.display.HTML object>"
      ]
     },
     "metadata": {},
     "output_type": "display_data"
    }
   ],
   "source": [
    "%proving exp_nat_pos_expansion"
   ]
  },
  {
   "cell_type": "code",
   "execution_count": null,
   "metadata": {},
   "outputs": [],
   "source": []
  }
 ],
 "metadata": {
  "kernelspec": {
   "display_name": "Python 3",
   "language": "python",
   "name": "python3"
  }
 },
 "nbformat": 4,
 "nbformat_minor": 0
}