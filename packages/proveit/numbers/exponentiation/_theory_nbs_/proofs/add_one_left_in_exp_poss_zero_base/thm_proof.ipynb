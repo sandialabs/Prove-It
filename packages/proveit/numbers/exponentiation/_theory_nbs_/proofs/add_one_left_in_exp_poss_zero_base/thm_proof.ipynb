{
 "cells": [
  {
   "cell_type": "markdown",
   "metadata": {},
   "source": [
    "Proof of <a class=\"ProveItLink\" href=\"../../../../../_theory_nbs_/theory.ipynb\">proveit</a>.<a class=\"ProveItLink\" href=\"../../../../_theory_nbs_/theory.ipynb\">numbers</a>.<a class=\"ProveItLink\" href=\"../../theory.ipynb\">exponentiation</a>.<a class=\"ProveItLink\" href=\"../../theorems.ipynb#add_one_left_in_exp_poss_zero_base\">add_one_left_in_exp_poss_zero_base</a> theorem\n",
    "========"
   ]
  },
  {
   "cell_type": "code",
   "execution_count": 1,
   "metadata": {},
   "outputs": [],
   "source": [
    "import proveit\n",
    "theory = proveit.Theory() # the theorem's theory"
   ]
  },
  {
   "cell_type": "code",
   "execution_count": 2,
   "metadata": {},
   "outputs": [
    {
     "data": {
      "text/html": [
       "With these <a href=\"allowed_presumptions.txt\">allowed</a>/<a href=\"disallowed_presumptions.txt\">disallowed</a> theorem/theory presumptions (e.g., to avoid circular dependencies), we begin our proof of<br><strong id=\"add_one_left_in_exp_poss_zero_base\">add_one_left_in_exp_poss_zero_base:</strong> <a class=\"ProveItLink\" href=\"../../../__pv_it/theorems/85bba6b0f0742770d2fc1fe3fb2d9a6b32f658410/expr.ipynb\"><img src=\"data:image/png;base64,iVBORw0KGgoAAAANSUhEUgAAAUEAAAAaCAMAAAAe7h6DAAAAOVBMVEX///8AAAAAAAAAAAAAAAAA\n",
       "AAAAAAAAAAAAAAAAAAAAAAAAAAAAAAAAAAAAAAAAAAAAAAAAAAAAAAACXHtMAAAAEnRSTlMAq1Rm\n",
       "mUTNIjK7EInv3Xbt5cmRiLwgAAAACXBIWXMAAA7EAAAOxAGVKw4bAAADrElEQVRo3uVZ2xajKBCU\n",
       "OzTI7Pr/HzuCiAQa0cSH5AwPSSe0FS2KvpBp+heGlubNK4HJB9G+ZTDRWoNBbHzjt6n3fs4f+Kdo\n",
       "3zIob63RcDq+qfvioQeD5nO0rxggW2sopcV7AkG0/gEGP0D7imFYa42Gn2HyUbAzfM5ghUYOX/YL\n",
       "BCrXWpdY31KCJ58zWKHxHIyl+gUGuW2tS2GQR+5ggXcY5GYdLrywBk3vi/IjcXERrTW+KLBIN52w\n",
       "jzVYo8m0KJb+RGWXNaRvqGmNVyw9PzcfM1ijsbQo8ickeJRnRaE25p37PW16d+fnlJWL9XUurtHc\n",
       "HIazP8EgkY2liPUKrSuwGXFFujgkot4Njcf60MBbT3RS0w4BkwPtZTCMFWNqS7j1eoPxgs7oRRd3\n",
       "PxeDnF+IPuuGpsj+cqH/84aTcnlM193GQG+tt6cOWGe2N6PILUtSWeBYpAJZIHRGjRNQH7IV64YW\n",
       "5GdFv5sM7SExZvUAQ9bVocaiyib2ZSNMqWoX5sRhAtJvRkUbWWZeWXyJH7InLPvurmf2+SGD+IU4\n",
       "2Rsa9Z08kvq/ifNkWIjqYziDTpd0qvzVovoORT2KJEAJQw06U9GSOW5mkmr0sHo015gu0GTu8MAy\n",
       "b1XV/3mWd5feYBW6i/d28ZCPirEk1U6Yw/rAZyVEW2HVDMIS7pwtmDzQGb2oQRzsQ2JxUKUbTYsN\n",
       "syp+IvV/kFmiqon6pmk+Y/lu/sTyfavZZtZ1mJQ8Y7A9fCHm1YKFbnm5ubPOzDgX9yF7uTh0mGTf\n",
       "riutruomRa7iGTDoM3i0i1m2G4POdx2KIIkx2M4e5VyyjA/uHMk6+Awb14N9yPaockcjKTY4Ufbe\n",
       "qf9jMorG0ElrofsMHu1ilu22ixfadZjo9lmbfaiSQW16i54tIN5qRXwb3fAZPj5a6EO2SYfU+g11\n",
       "EAN46f/0kTdSJilKPdM0n2GT/vd/0YTnTII5aHNvF8dFrq07Qz56AtWguRAGxbpVwRb931FsK8sD\n",
       "GxatB492MZ9WTKH9EWR6xSsdzjOJ98+czZQigQcJbNEEZ9TbII2QP/f+T5msZ7DrluYa3cVHu1j0\n",
       "N2tFzaHCe3Ew6qQZRSaPMK3dG8/MyJMSPEUr6wiwYc+hmwbbhNQP8EoHcaIkwNAJba3rY370EPQM\n",
       "TVwUO/aMcoT34sD7d4FOvfM/ySGaR//ZOEW7Gm8RBqkY4FUOtrdYnf8yqW2tq4dVj54iP4P2xKaA\n",
       "m9+/8X/xLuon00hC+wte6CRRLRi+CgAAAABJRU5ErkJggg==\n",
       "\" style=\"display:inline;vertical-align:middle;\" /></a><br>(see <a class=\"ProveItLink\" href=\"../../../__pv_it/theorems/847f4f70a3ea6db9d76c8f97806abed2afa39a220/dependencies.ipynb\">dependencies</a>)<br>"
      ],
      "text/plain": [
       "<IPython.core.display.HTML object>"
      ]
     },
     "metadata": {},
     "output_type": "display_data"
    },
    {
     "name": "stdout",
     "output_type": "stream",
     "text": [
      "add_one_left_in_exp_poss_zero_base may now be readily provable (assuming required theorems are usable).  Simply execute \"%qed\".\n"
     ]
    }
   ],
   "source": [
    "%proving add_one_left_in_exp_poss_zero_base"
   ]
  },
  {
   "cell_type": "code",
   "execution_count": null,
   "metadata": {},
   "outputs": [],
   "source": []
  }
 ],
 "metadata": {
  "kernelspec": {
   "display_name": "Python 3",
   "language": "python",
   "name": "python3"
  }
 },
 "nbformat": 4,
 "nbformat_minor": 0
}