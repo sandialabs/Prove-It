{
 "cells": [
  {
   "cell_type": "markdown",
   "metadata": {},
   "source": [
    "Proof of <a class=\"ProveItLink\" href=\"../../../../../_theory_nbs_/theory.ipynb\">proveit</a>.<a class=\"ProveItLink\" href=\"../../../../_theory_nbs_/theory.ipynb\">numbers</a>.<a class=\"ProveItLink\" href=\"../../theory.ipynb\">exponentiation</a>.<a class=\"ProveItLink\" href=\"../../theorems.ipynb#diff_square_comm\">diff_square_comm</a> theorem\n",
    "========"
   ]
  },
  {
   "cell_type": "code",
   "execution_count": 1,
   "metadata": {},
   "outputs": [],
   "source": [
    "import proveit\n",
    "theory = proveit.Theory() # the theorem's theory"
   ]
  },
  {
   "cell_type": "code",
   "execution_count": 2,
   "metadata": {},
   "outputs": [
    {
     "data": {
      "text/html": [
       "With these <a href=\"allowed_presumptions.txt\">allowed</a>/<a href=\"disallowed_presumptions.txt\">disallowed</a> theorem/theory presumptions (e.g., to avoid circular dependencies), we begin our proof of<br><strong id=\"diff_square_comm\">diff_square_comm:</strong> <a class=\"ProveItLink\" href=\"../../../__pv_it/theorems/5f535f84537e0dd4753cb9bf7f5a22e8f654dfb20/expr.ipynb\"><img src=\"data:image/png;base64,iVBORw0KGgoAAAANSUhEUgAAAQAAAAAmBAMAAADZ3ljKAAAAMFBMVEX///8AAAAAAAAAAAAAAAAA\n",
       "AAAAAAAAAAAAAAAAAAAAAAAAAAAAAAAAAAAAAAAAAAAv3aB7AAAAD3RSTlMAq1RmmUTNIjK7EInv\n",
       "3XZ/CtNrAAAACXBIWXMAAA7EAAAOxAGVKw4bAAAD7UlEQVRYw7VYXUgUURQ+7o+zOzu7GoEPCctA\n",
       "oA9q7ZOghQ79EZm14EsPQgsKoRCsEJQQukGRUKGVUGtgEz2J2mZJBZHYj9gP9iNFYAgrQQW9iLUo\n",
       "BW733t2Z7uz87N1oDnhd55xz57vnnO+cuwIwyQ6wQfhOZlNXqR0A4ILMallry/vByXouz8t8FqMT\n",
       "mwoM/8MN6PiXGK2Lb+ezkKC5MAAucL0FGGPMwda8dinojRUEoCTMrbHX1qe8FvWFAnDKGAC3ylYC\n",
       "vxiMHhVagT6UArjGZFo0QH5FTdQcAbmgV1g6ZDi4nS1fIbwGRBO1O4mWbn2ZWDtwQ/hjrwikDDZb\n",
       "AugnR6kyUo3MoeUz2k7idOetyqr1ghzgGBxHq1+C3fjJEUsAjYS4EUNdO2apDN19p3NDQBzajWkt\n",
       "A3e1bx9mYwRO4XAMWAIoI8QNGepWcEVL8Cad1jE9lFUbUEACIZ1exmlaxmjAJ1oCeIwXwTidhCCG\n",
       "jVJQ1XpRHRxr4ERAi62L8DdeKsy5BG1GqgpVrRfVwYNCNLe4+MoawA+8NOFUlX9N5mQzuISiN2Hk\n",
       "1aSqaema6gHKgUd77wUYsnw/t6KAbo16c2Ka6ORX6WHZvIjlneKQUdMpm4XrMu2wjjABp3ZkT4dK\n",
       "4sFgDxUmgHkE9ymZIDlT4jVAtRHueVVNyViITK1qOr1e2RdW/y7HL1yKh/mLUYfSJt0pvM6gul4G\n",
       "P56L/FFyTtz895At+o0AzKhqyv5gZrD8dfiJCjFJ1eBz9LMLWfpuAWzTRADtJwxAIpw7ptxI22oG\n",
       "IKOm5AXw+DitNACINOAbRcN9/K71JTmA+XvzjNKyqRQkkpmepGkDLlQVNUY1MK+qqea0Dk5M/xq6\n",
       "BuAOuhvyHz24WgILAWkEP6+spIqQsGAYARChzKHtuGs4q1BnFIFhVU0BWIGiSCXtgPc+iWrQJXmm\n",
       "0UdvyBlpIfO9XgM7wxxv0vHepX3LRhjMMk4nE6pag6pGkigHwrAilHMhHMBUEGKu0tp4PC72HaK8\n",
       "npHpiZAEH3R90254YxKf8IPhlVdV0/bfzwZjlIMnpfA56q1H/CwBQTxHOhwqQl6xItz0m994OMN+\n",
       "x+TgUEpEiPa3yKPgl+sQLbHJZBSmFKv92QFiesEMmUyc/A5qr3bv3HIXzoueA0k0KMk9u2NQPUEj\n",
       "mbRXTPfrNn7M4uDV3kozfXs0HteyPUGej5juZ/ImFocSTfDcJrdvLwkmlzTZLmBy92NxOKzxdZpd\n",
       "oafBLrnH9jUqZRuAJ/8T5z9IgDG2QswmAILI+D0qYhOAL6yGbfa8n5tltRyP2gJgXGSG2mkLgMvs\n",
       "pids+ScVbrh/AGndCP3G8NhuAAAAAElFTkSuQmCC\n",
       "\" style=\"display:inline;vertical-align:middle;\" /></a><br>(see <a class=\"ProveItLink\" href=\"../../../__pv_it/theorems/fb5e9e10be3edb9cee778bc49ee28d08b32d313b0/dependencies.ipynb\">dependencies</a>)<br>"
      ],
      "text/plain": [
       "<IPython.core.display.HTML object>"
      ]
     },
     "metadata": {},
     "output_type": "display_data"
    },
    {
     "name": "stdout",
     "output_type": "stream",
     "text": [
      "diff_square_comm may now be readily provable (assuming required theorems are usable).  Simply execute \"%qed\".\n"
     ]
    }
   ],
   "source": [
    "%proving diff_square_comm"
   ]
  },
  {
   "cell_type": "code",
   "execution_count": null,
   "metadata": {},
   "outputs": [],
   "source": []
  }
 ],
 "metadata": {
  "kernelspec": {
   "display_name": "Python 3",
   "language": "python",
   "name": "python3"
  }
 },
 "nbformat": 4,
 "nbformat_minor": 0
}