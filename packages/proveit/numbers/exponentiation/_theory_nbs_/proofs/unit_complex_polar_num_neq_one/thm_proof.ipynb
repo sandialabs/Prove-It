{
 "cells": [
  {
   "cell_type": "markdown",
   "metadata": {},
   "source": [
    "Proof of <a class=\"ProveItLink\" href=\"../../../../../_theory_nbs_/theory.ipynb\">proveit</a>.<a class=\"ProveItLink\" href=\"../../../../_theory_nbs_/theory.ipynb\">numbers</a>.<a class=\"ProveItLink\" href=\"../../theory.ipynb\">exponentiation</a>.<a class=\"ProveItLink\" href=\"../../theorems.ipynb#unit_complex_polar_num_neq_one\">unit_complex_polar_num_neq_one</a> theorem\n",
    "========"
   ]
  },
  {
   "cell_type": "code",
   "execution_count": 1,
   "metadata": {},
   "outputs": [],
   "source": [
    "import proveit\n",
    "theory = proveit.Theory() # the theorem's theory"
   ]
  },
  {
   "cell_type": "code",
   "execution_count": 2,
   "metadata": {},
   "outputs": [
    {
     "data": {
      "text/html": [
       "With these <a href=\"allowed_presumptions.txt\">allowed</a>/<a href=\"disallowed_presumptions.txt\">disallowed</a> theorem/theory presumptions (e.g., to avoid circular dependencies), we begin our proof of<br><strong id=\"unit_complex_polar_num_neq_one\">unit_complex_polar_num_neq_one:</strong> <a class=\"ProveItLink\" href=\"../../../__pv_it/theorems/41bfc6d6f3531194d2cf6a20e5465521eb6ef8640/expr.ipynb\"><img src=\"data:image/png;base64,iVBORw0KGgoAAAANSUhEUgAAAMgAAAAeCAMAAABe4aGeAAAASFBMVEX///8AAAAAAAAAAAAAAAAA\n",
       "AAAAAAAAAAAAAAAAAAAAAAAAAAAAAAAAAAAAAAAAAAAAAAAAAAAAAAAAAAAAAAAAAAAAAAAAAACC\n",
       "gUnDAAAAF3RSTlMAq1RmmUTNIjK7EInv3XbP4duh5/Xp88jRr28AAAAJcEhZcwAADsQAAA7EAZUr\n",
       "DhsAAAMVSURBVFjD3ViHttsgDEVsxHivk///0zKMJy72SZukJePYjpF1JV1xCSFvM5gm/8dwdj5U\n",
       "PIR/y3kmelfRIJF41QZ/Axy074Rh6UOvGlHm5ThQrs8ka57FfEavp/XlZWhYFwjPIY496vN+vfl8\n",
       "GZY8syfjUI7sgWAmvDfWQuxM0Nsi0n7CFTIIPtNNqicD4fYARLvkREwf3mOPWWUJgcs4AcF8oOFl\n",
       "nImCdEsrJ8N1oqphex4akDq19TlLn4xDR+wDSR7xnjNGnQEprGLTfPnshATfisR5vgYibDeoAsgZ\n",
       "kFDY5nwezj4bCNTQofOUORjff+DwAkSUI14oZPDRAN9t56aSEnxZOs4fz0ug/bfv+Ru6QHRp1gra\n",
       "1yPDanLThKz3R3ZcUi4lZAVE1b6Rk2HFjbZ5ohNA31K0hRgpmHWMKlscn7oAwQqEhoXqe91JvZUc\n",
       "5OZar09bruf1aX8rOGN5enczoiNVeeDthGwyoqeG1ep70Z06gDEJZyApVlbZARDDBHW79hrg4zNH\n",
       "yicfLAY8Ka0RtQpHfvysTDnjiJqWkLaYzLqT86koQnoRhmEAxB+0W7YAxWxesak6kACqHe7KTQNZ\n",
       "0VP1+66VRQ/sdGeYH1uABOSjjOz7XraAsNCqU+I1g+gdE8GH+3rfxoaetWJoNG26Exdfc2kpE9gA\n",
       "iA5MbfdGeW7rIEzRI+tbGFPtRBluJwTARQnVL75vmE13CrYCknhqyIjsBy/Z6kYsRDvubS93Sjro\n",
       "aXJft013MmnKoLW0rKBnQGJvkGrh44up+zybuJ7g4O/V702GrNN/WE6b7tSWrDkihMWbGckWYJok\n",
       "qM4Rs/unaXd1CzhAzKCDvOrOhbi1/Z6TXdDAeyVicKa6LUwX/ljmFwW3Hywy/tDyZt2p2h5GyCAt\n",
       "Qc7lCRCXM9td6r/qFi+AYI2EwZ79N+l9YM+ONnOkz8YNELUqESFdek3Jw89zC1dJ/Jf/RdlPLN7m\n",
       "7IpM61t/ATDxOBCOfwhI0QDK1zwuPwKSdx9baqVmNNdo0tAzMd8fx67RpXVj7kepU9AXAfgFDCMb\n",
       "9JWo1ioAAAAASUVORK5CYII=\n",
       "\" style=\"display:inline;vertical-align:middle;\" /></a><br>(see <a class=\"ProveItLink\" href=\"../../../__pv_it/theorems/f273600d8f2655f8eb00ba35ed3abf7cc8ceae580/dependencies.ipynb\">dependencies</a>)<br>"
      ],
      "text/plain": [
       "<IPython.core.display.HTML object>"
      ]
     },
     "metadata": {},
     "output_type": "display_data"
    },
    {
     "name": "stdout",
     "output_type": "stream",
     "text": [
      "unit_complex_polar_num_neq_one may now be readily provable (assuming required theorems are usable).  Simply execute \"%qed\".\n"
     ]
    }
   ],
   "source": [
    "%proving unit_complex_polar_num_neq_one"
   ]
  },
  {
   "cell_type": "code",
   "execution_count": null,
   "metadata": {},
   "outputs": [],
   "source": []
  }
 ],
 "metadata": {
  "kernelspec": {
   "display_name": "Python 3",
   "language": "python",
   "name": "python3"
  }
 },
 "nbformat": 4,
 "nbformat_minor": 0
}