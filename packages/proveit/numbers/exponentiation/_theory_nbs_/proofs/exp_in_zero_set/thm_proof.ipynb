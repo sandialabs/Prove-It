{
 "cells": [
  {
   "cell_type": "markdown",
   "metadata": {},
   "source": [
    "Proof of <a class=\"ProveItLink\" href=\"../../../../../_theory_nbs_/theory.ipynb\">proveit</a>.<a class=\"ProveItLink\" href=\"../../../../_theory_nbs_/theory.ipynb\">numbers</a>.<a class=\"ProveItLink\" href=\"../../theory.ipynb\">exponentiation</a>.<a class=\"ProveItLink\" href=\"../../theorems.ipynb#exp_in_zero_set\">exp_in_zero_set</a> theorem\n",
    "========"
   ]
  },
  {
   "cell_type": "code",
   "execution_count": 1,
   "metadata": {},
   "outputs": [],
   "source": [
    "import proveit\n",
    "theory = proveit.Theory() # the theorem's theory"
   ]
  },
  {
   "cell_type": "code",
   "execution_count": 2,
   "metadata": {},
   "outputs": [
    {
     "data": {
      "text/html": [
       "With these <a href=\"allowed_presumptions.txt\">allowed</a>/<a href=\"disallowed_presumptions.txt\">disallowed</a> theorem/theory presumptions (e.g., to avoid circular dependencies), we begin our proof of<br><strong id=\"exp_in_zero_set\">exp_in_zero_set:</strong> <a class=\"ProveItLink\" href=\"../../../__pv_it/theorems/5b3e784df0c99d9e20d048fdb86a81a099873e680/expr.ipynb\"><img src=\"data:image/png;base64,iVBORw0KGgoAAAANSUhEUgAAAM8AAAAbBAMAAAApAMZVAAAAMFBMVEX///8AAAAAAAAAAAAAAAAA\n",
       "AAAAAAAAAAAAAAAAAAAAAAAAAAAAAAAAAAAAAAAAAAAv3aB7AAAAD3RSTlMAq1RmmUTNIjK7EInv\n",
       "3XZ/CtNrAAAACXBIWXMAAA7EAAAOxAGVKw4bAAADaUlEQVRIx7WWb0gUQRTAn3e3t3u7d9PVB6GE\n",
       "WCj6EqWfhMz0JJVCiiPBLwYeRkR9kLOvCXeB9CXhLiLojGKE+hAGd1RoJYEkgRCFUCAIBytIf8xE\n",
       "ohAMojezs7u3p3fKaQO3M/ve3vzmvXnvzQDsQLuRhv/bvFGzr8qV/863XdBB0QeT5b+Tt2mxGhOD\n",
       "1PK+Yt0jYezVOHs2bQ8UqBODH3ShSEUuUnOg7GWDED7C7PVARaABa3Ab6otUtWz6iQU0J8AABB9t\n",
       "TH6pIlCHNZiGliLVa/z5dXUWQJthTl4DuF75Zv22BivwZgPQCYCXAgQXkItGanolHGXNGs15xUq/\n",
       "5fMxG3SLe9AEncZcwB31V2QQmbFGg8tm37VYaNEvDEddgJbw9z6ff1cRqIotXq75YtjpcqXQdSoD\n",
       "1QlQD/rtFMDw1mfXCqKb+et8PGB70B+3de2I/YMgA8gkzzRM6X6Qw665jvP0UJ7TTaqJH/+mToHP\n",
       "9qCzA/KUAOVA/skECczfANWirj3GJUx8x7VzvHJZiI+MtfS5QaEIvq5AyC50Q3lszEy5GmdUEdSD\n",
       "bh3pRUkWBR7DXokyn4mCJwZeQ0qznrUaIScajOfWWRRM8znM9thWDQ6bwVCL4TzG9AlWDWN2JWpl\n",
       "rwjAIrlqgaaFnBBoMLTWM61thaCsAc2Oic4iMLQhA9BMwcO3MMW27ykLltGmcSB8cxCQoJiBJkj5\n",
       "O0+5HEGLEZdFVeilrA7VHisGiOFK2EYeE9qkFXUwwDZ1VlkVpntjkKLwESS+yWSORLicaPKDOheI\n",
       "xVPA8HxyRL0uUEhXp63K0MhXho7xRTAGOs3jMslAHwD6KK/Q3hiXE9+9tDsYJHSKuv9F/1dbMnKH\n",
       "FoDUjvmkBbJrYTCKBbY+k8noym7KXIdBecjgZ5ovzOWEaOfceQRv1wV/9/2CEiQSz6p1ZsvGAw30\n",
       "pumRsBkMMnfuLgjqXE6I1E1LVO/1rQik2kkdjKc6aYCKYCCGFObBMIpH1jHgcgzvVxH3bEOlQUtO\n",
       "hjMTvXZJkE4efQbyXQHCI4vyfkhXzhqmvOtz7mF7UbErXfQTtuoJC9lQ3K0ezZgJCxYQdEde5s6w\n",
       "wXWkRZCu7Sl5Z5BmHJBEy1bYw1usxCUO1j5xK8Q1ebd2r9us+TZer8KtlpM7e9n8B/tI4c6V6BrV\n",
       "AAAAAElFTkSuQmCC\n",
       "\" style=\"display:inline;vertical-align:middle;\" /></a><br>(see <a class=\"ProveItLink\" href=\"../../../__pv_it/theorems/8aec011e6b51613889bbf862844055c79ea100ad0/dependencies.ipynb\">dependencies</a>)<br>"
      ],
      "text/plain": [
       "<IPython.core.display.HTML object>"
      ]
     },
     "metadata": {},
     "output_type": "display_data"
    }
   ],
   "source": [
    "%proving exp_in_zero_set"
   ]
  },
  {
   "cell_type": "code",
   "execution_count": null,
   "metadata": {},
   "outputs": [],
   "source": []
  }
 ],
 "metadata": {
  "kernelspec": {
   "display_name": "Python 3",
   "language": "python",
   "name": "python3"
  }
 },
 "nbformat": 4,
 "nbformat_minor": 0
}