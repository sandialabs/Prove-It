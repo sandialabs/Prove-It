{
 "cells": [
  {
   "cell_type": "markdown",
   "metadata": {},
   "source": [
    "Proof of <a class=\"ProveItLink\" href=\"../../../../../_theory_nbs_/theory.ipynb\">proveit</a>.<a class=\"ProveItLink\" href=\"../../../../_theory_nbs_/theory.ipynb\">numbers</a>.<a class=\"ProveItLink\" href=\"../../theory.ipynb\">exponentiation</a>.<a class=\"ProveItLink\" href=\"../../theorems.ipynb#complex_polar_num_neq_mag\">complex_polar_num_neq_mag</a> theorem\n",
    "========"
   ]
  },
  {
   "cell_type": "code",
   "execution_count": 1,
   "metadata": {},
   "outputs": [],
   "source": [
    "import proveit\n",
    "theory = proveit.Theory() # the theorem's theory"
   ]
  },
  {
   "cell_type": "code",
   "execution_count": 2,
   "metadata": {},
   "outputs": [
    {
     "data": {
      "text/html": [
       "With these <a href=\"allowed_presumptions.txt\">allowed</a>/<a href=\"disallowed_presumptions.txt\">disallowed</a> theorem/theory presumptions (e.g., to avoid circular dependencies), we begin our proof of<br><strong id=\"complex_polar_num_neq_mag\">complex_polar_num_neq_mag:</strong> <a class=\"ProveItLink\" href=\"../../../__pv_it/theorems/69983d69ff7e79b215ab9d92d582baad008d500d0/expr.ipynb\"><img src=\"data:image/png;base64,iVBORw0KGgoAAAANSUhEUgAAASMAAAAeCAMAAABQbYjYAAAASFBMVEX///8AAAAAAAAAAAAAAAAA\n",
       "AAAAAAAAAAAAAAAAAAAAAAAAAAAAAAAAAAAAAAAAAAAAAAAAAAAAAAAAAAAAAAAAAAAAAAAAAACC\n",
       "gUnDAAAAF3RSTlMAq1RmmUTNIjK7EInv3XbP4duh5/Xp88jRr28AAAAJcEhZcwAADsQAAA7EAZUr\n",
       "DhsAAAPgSURBVGje7VmJdtsgEBSw3EfSU///pwUkYXGsLLmvrtOUxHkbZ4zEaHbYJdP07w6mpv/j\n",
       "znC2hBJC+ByLZryPTg2jzSTMNMHFC8KHo4hCH50bmsUXjXLS1z53Ff/XhxF9dDgE25Y6p99o0t/F\n",
       "jGMfLEM166NzHEGSw5wd3BssrcZ/yHhykzJ7aYqk66P7HJnk215bS+b8XiBjrEKyKuOhuJ+QL80R\n",
       "2D66z5FycVVzfMFiYWYe60UjdULGK/JB/GnmfXQy15KEnGzerGVEDicRK7GWvjRFqghAzeYiR3GJ\n",
       "QPfe1MsIzaGMZ+tM4rVlFHwfYRsgcR72HHF7E0AYmRkn+HUz3vk0nH1tjohoImV1LJ9tnzrGecoc\n",
       "tmo+UmFtxdXMCx6yXWnzXFlcrTy0biI76WjetpcF8bkkMljO7twZsjz8t+/pZ2G1mnnBS7L9eN6w\n",
       "arp4QUHqSLJJ+OEeN7OjGkoOHL+WUT3zik8Ssuf2igcSEpAan6hLnbqHOlJmJaNs0mITyjIstpl3\n",
       "K+X1LdYzr3gacMem3gogIowX3LXTDTw/gRHVoNSo4k1Y4rSF+H1HR52zbCSqmco0DKYjdSyjZuYN\n",
       "LwZ9iQpE60hhSNqx0o442tppFI5xpBmnrr/g23ucwcc7tiaYuxwBsr/N4biGkI0f/fi5uBLZvd3j\n",
       "LRXtLQGsdIf4NTETRhxt7TQKxzjyfbeYZiDpLlJxTGXnJkS3kUeyCVxejDy7r3Vrr2be8HLbKSlQ\n",
       "FkCmbadsQGnRwUBKEAAfX3zq2ukR/FBH3T6aZjCkZDQgdcoukli5bbxjPHhETcyhJy5DWy/4zT8Z\n",
       "dyyt2twWlpJH6o0E6ErQlK4oHONIBSabrE2fXW+NSaoOnv8acbyUBD8LLOGA3JVRNXOLV5JF7473\n",
       "x9lu0dFA9XCTKu00Csc46hlgN6QJw+3T8T56YLT9GrXX8FFQC/1M6DzokjyW0xFHpZ1G4R1H82is\n",
       "M7x9yTNEgmx8tMb8dt+P9vHHMjrGl0ek7LQ3GM6tGdRHpZ1G4ad1lGYgy4c4VenR2fbelOuj64M1\n",
       "qcPsNfzqwnVnsmzmpjG2fHR1a6eP4DVHnAYYpYo2m2PbLNaB2xDaR5eHl4Nzxgv46jBpdU0ugrCT\n",
       "ARDNQ6X7dvoIXnPkknyHlfdXtT44QoLVom9VLp9nj2TRWrm6iK+FkgzmwBzpWXjNkdylChcufq2S\n",
       "M+93Lri3V/qgIz33/yL89DFBd5lMRJIwT/Zcln3iNP3h/68Vtzd/Ft/c7vQoR7kil351tVv1/Nyz\n",
       "mdcajenF/arkuOU3z/zMFLUlWayH/M7T6Afg5hfvtySkGUyHoQAAAABJRU5ErkJggg==\n",
       "\" style=\"display:inline;vertical-align:middle;\" /></a><br>(see <a class=\"ProveItLink\" href=\"../../../__pv_it/theorems/3f9b45606384637479b3dfc9456bad5b2b6586330/dependencies.ipynb\">dependencies</a>)<br>"
      ],
      "text/plain": [
       "<IPython.core.display.HTML object>"
      ]
     },
     "metadata": {},
     "output_type": "display_data"
    }
   ],
   "source": [
    "%proving complex_polar_num_neq_mag"
   ]
  },
  {
   "cell_type": "code",
   "execution_count": null,
   "metadata": {},
   "outputs": [],
   "source": []
  }
 ],
 "metadata": {
  "kernelspec": {
   "display_name": "Python 3",
   "language": "python",
   "name": "python3"
  }
 },
 "nbformat": 4,
 "nbformat_minor": 0
}