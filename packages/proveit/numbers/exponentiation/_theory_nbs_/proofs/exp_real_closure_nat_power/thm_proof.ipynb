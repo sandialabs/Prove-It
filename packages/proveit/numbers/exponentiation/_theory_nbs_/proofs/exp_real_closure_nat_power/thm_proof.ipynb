{
 "cells": [
  {
   "cell_type": "markdown",
   "metadata": {},
   "source": [
    "Proof of <a class=\"ProveItLink\" href=\"../../../../../_theory_nbs_/theory.ipynb\">proveit</a>.<a class=\"ProveItLink\" href=\"../../../../_theory_nbs_/theory.ipynb\">numbers</a>.<a class=\"ProveItLink\" href=\"../../theory.ipynb\">exponentiation</a>.<a class=\"ProveItLink\" href=\"../../theorems.ipynb#exp_real_closure_nat_power\">exp_real_closure_nat_power</a> theorem\n",
    "========"
   ]
  },
  {
   "cell_type": "code",
   "execution_count": 1,
   "metadata": {},
   "outputs": [],
   "source": [
    "import proveit\n",
    "theory = proveit.Theory() # the theorem's theory"
   ]
  },
  {
   "cell_type": "code",
   "execution_count": 2,
   "metadata": {},
   "outputs": [
    {
     "data": {
      "text/html": [
       "With these <a href=\"allowed_presumptions.txt\">allowed</a>/<a href=\"disallowed_presumptions.txt\">disallowed</a> theorem/theory presumptions (e.g., to avoid circular dependencies), we begin our proof of<br><strong id=\"exp_real_closure_nat_power\">exp_real_closure_nat_power:</strong> <a class=\"ProveItLink\" href=\"../../../__pv_it/theorems/9a848a43107b1241505a0b44a5c2231d54417a8a0/expr.ipynb\"><img src=\"data:image/png;base64,iVBORw0KGgoAAAANSUhEUgAAAKMAAAAaBAMAAAAph/EOAAAAMFBMVEX///8AAAAAAAAAAAAAAAAA\n",
       "AAAAAAAAAAAAAAAAAAAAAAAAAAAAAAAAAAAAAAAAAAAv3aB7AAAAD3RSTlMAq1RmmUTNIjK7EInv\n",
       "3XZ/CtNrAAAACXBIWXMAAA7EAAAOxAGVKw4bAAAC6klEQVRIx61VTWgTURCeJJvsbjZZg4KQChIR\n",
       "sZeWQLFgKGWDf/WgBgse2oORHkpFSrwIgrQpFHsQTKhU3Ih1KyJIhAaLlnqQ0IM/iOChVKxGEyqC\n",
       "Py2loKKH4rzdfS+bNiFJ8cHum503+83vmwHY1BL64L+tfea+o/wxVz+iXTGJF+XP+WTdkPeo42sF\n",
       "raxAe92Q18xdXpAVK99xTv31gRx6UZOPcHbXiMhnTUIMOqIlJyLvc25LoS7EO0QYvTVCchmT8MQ5\n",
       "3zrIDCSHANx/AYbqCeqWCCXAE9gAecSFRA+AC52XAjVCJmhOvNp+M6i3cvMMUkTiKAY2iLC1ZmeJ\n",
       "lfrxvL47+7WilQ0TSPzA53Uu96pWyO3kdf7pAGNc0IqOC6MkJaeR0wGQqhVSJYY9h9usJnuLsXz2\n",
       "6SNhJ+KoFHhr8poeh/vJftlMGT/3CNqowBl8HgThGJOOFiGnQvrHIGZQ1CSaR6GgRmQJpkmp2Mjr\n",
       "qn8MdkkaR62aw+cEwHsWUoxa7p3peKqFEJMIZs+z7BxEo2UZQnm98rAMO8g1yCsSWKx8Ce6f9Nud\n",
       "tBTRsEg0D8aJ8eReptunQQ6CDvmN3LXEcgMsEuHGPQNWSPcaOFaY428skNwIUZCI4evhWRR8K/yG\n",
       "+3qhSfw4gV7SPhs2NEp3uumPfpRcBVt0L2UsWyDdyUUz43AJg88pQhY6dUjuZtJoEK3OoA4Jylf6\n",
       "Iym6cWhSWMtwBRikAi0ixrGNfNnQe08E73urqqoBWZZOGg0x7OhT1VGETLNgExMmvo/sjLNg+rto\n",
       "J/oTE6+vAoTp0WRMDGlXdCtlZzexfQVmhYxhpbOZinki6yvVOWNcSLZ6mGws0anpGcMieqK4M7Dg\n",
       "SBpXAEdDYUMnqrhIJzKVHWieAv4GUqe+ZO4eFmZhGCN/ER0U5mNgY3WYrQbpKO15kFZV0zO7oXJG\n",
       "HSuV2FoN0hurdNJVZfZUXJVnT7DShKwSzE1MSDbHK00SzPA/upOx7QHt6CMAAAAASUVORK5CYII=\n",
       "\" style=\"display:inline;vertical-align:middle;\" /></a><br>(see <a class=\"ProveItLink\" href=\"../../../__pv_it/theorems/c7ed69624dda0fc4e06af948ef999c61b0102e480/dependencies.ipynb\">dependencies</a>)<br>"
      ],
      "text/plain": [
       "<IPython.core.display.HTML object>"
      ]
     },
     "metadata": {},
     "output_type": "display_data"
    },
    {
     "name": "stdout",
     "output_type": "stream",
     "text": [
      "exp_real_closure_nat_power may now be readily provable (assuming required theorems are usable).  Simply execute \"%qed\".\n"
     ]
    }
   ],
   "source": [
    "%proving exp_real_closure_nat_power"
   ]
  },
  {
   "cell_type": "code",
   "execution_count": null,
   "metadata": {},
   "outputs": [],
   "source": []
  }
 ],
 "metadata": {
  "kernelspec": {
   "display_name": "Python 3",
   "language": "python",
   "name": "python3"
  }
 },
 "nbformat": 4,
 "nbformat_minor": 0
}