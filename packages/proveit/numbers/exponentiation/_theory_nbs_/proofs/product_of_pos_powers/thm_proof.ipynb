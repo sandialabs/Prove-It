{
 "cells": [
  {
   "cell_type": "markdown",
   "metadata": {},
   "source": [
    "Proof of <a class=\"ProveItLink\" href=\"../../../../../_theory_nbs_/theory.ipynb\">proveit</a>.<a class=\"ProveItLink\" href=\"../../../../_theory_nbs_/theory.ipynb\">numbers</a>.<a class=\"ProveItLink\" href=\"../../theory.ipynb\">exponentiation</a>.<a class=\"ProveItLink\" href=\"../../theorems.ipynb#product_of_pos_powers\">product_of_pos_powers</a> theorem\n",
    "========"
   ]
  },
  {
   "cell_type": "code",
   "execution_count": 1,
   "metadata": {},
   "outputs": [],
   "source": [
    "import proveit\n",
    "theory = proveit.Theory() # the theorem's theory"
   ]
  },
  {
   "cell_type": "code",
   "execution_count": 2,
   "metadata": {},
   "outputs": [
    {
     "data": {
      "text/html": [
       "With these <a href=\"allowed_presumptions.txt\">allowed</a>/<a href=\"disallowed_presumptions.txt\">disallowed</a> theorem/theory presumptions (e.g., to avoid circular dependencies), we begin our proof of<br><strong id=\"product_of_pos_powers\">product_of_pos_powers:</strong> <a class=\"ProveItLink\" href=\"../../../__pv_it/theorems/225dda149a90231e714675179d821d36945e40cb0/expr.ipynb\"><img src=\"data:image/png;base64,iVBORw0KGgoAAAANSUhEUgAAAS0AAAAaBAMAAAAQxRd8AAAAMFBMVEX///8AAAAAAAAAAAAAAAAA\n",
       "AAAAAAAAAAAAAAAAAAAAAAAAAAAAAAAAAAAAAAAAAAAv3aB7AAAAD3RSTlMAq1RmmUTNIjK7EInv\n",
       "3XZ/CtNrAAAACXBIWXMAAA7EAAAOxAGVKw4bAAAD6klEQVRIx7VXXUgUURQ+7YzO7uyP0oNggiwU\n",
       "+BDFRiRkYRsaZGEtSBARZFiEBbFCL5KoQX+QpJVCY1EbSRSGLmWUPYgYURGBgSEowohBUSkSmOKD\n",
       "dM7s/OzM3NEVxgt7nfPdv+/ee+75jgBrVK62raKztxbWsuzAHxdLfa9LMjpEnUYWUMWrBu8yLQ8t\n",
       "u0k1As2MHvVOQz9S5VMNoc1dXk/wJ1arRuvMBkvzQClwssM9Lk0mVF7+KRlK3eV1h/YcUY3pxHdz\n",
       "azDWAjDGHhkaC0VVXt+8gxBEkrlkbHSDljCIVYNBstjcXAFPASbZQ30RrjrFi28TmyGEpPYRfsYN\n",
       "Xjx5+kHDY/aam99T1ZtgDg0087kV0n1JigTo2YiLAJdcc7QcmnJOs2ZhyNw8T1V2hD0UAuHUeeXE\n",
       "ya7BnrgDf9gNXq04k3dRs8Y4y2ZPg5+uiTk0mNipvsfsGCTpzoHDHWS74vbT5MDDmnV5xtJ8Yfsv\n",
       "bB9kv8dDsspLKCvF7f3Bry8TE59d4ZVH0ZTChFDwwxwPDCBr0TasbqBR834dO4Hc9gN0ZrBqckVY\n",
       "oqnpno7HfeblDcC7oPypnKDyVWH6AR4mrHG+FYNyHQi5GfCKrgifJPfAqcR3wA+n90kDhDnrBM8j\n",
       "UGmbtQmfkC/hj5liXHthY5ruesZP5cl2Xgx4hBwYbX4Wgtoxiv/ABIg2XocBxm28epGRR9bd3jsp\n",
       "xcRbcc89TXdv5neAnPRftPBiw9p5BdqUeQ2yaYCwYKXwicEVmkhcq3U5KkfT3wOwS9VdHn0PZJnr\n",
       "gb7ykXJ9LQdY49Urwx7z7g3AO2/xL3EJuFl7yKEo9uIsVt2lryFEQe/xFdyVqrtToBAIdaUdDKov\n",
       "C8aST6eMt98bhjxPPJ2XAdjeo/gX33CRlRe9R2ggXx3FnTwjqKhI111RcTE5WT9lEED1ZcFUKOhQ\n",
       "fPLJnhFTCpUGcLb49QC2RG1vareSwdGNRVHGq8gqKdF1N0sRDbmiP+3hofqyYG2TdB5i4Zu6n6Yz\n",
       "MQDe9vQf/b5WaEvVdGkNxFDDiyVJCl8/qusuVytJt/HCXoWNQIXqy4JTc2jq7Fwc9NFaanQXiPtK\n",
       "EjeUvAz9XkzprjeZcqQjb03qy4Lt+QS7OOQTVqfTvTAQb61K+GiQ0BeHATGp6G5nypH8XVr/pKK+\n",
       "Vlh7a+Q7LcuvuC2j4+L0284q2/oShLv02V3b3uwdUnS3Hi8+6/w5sVxNjhEm9bXCWllPzrp8ajKa\n",
       "Ea9g3Gx3S5IajTyp8+mXOsxRng2z8nv2QcgZ8XLO74+tCtZYk4NtXq5HfWYJuXOaGlkVzPr/kVkO\n",
       "ZJaQo5//ByJRLEd1+rwzAAAAAElFTkSuQmCC\n",
       "\" style=\"display:inline;vertical-align:middle;\" /></a><br>(see <a class=\"ProveItLink\" href=\"../../../__pv_it/theorems/f85c792f33886c4aa9d5e5172bcf4c9f2d26ec140/dependencies.ipynb\">dependencies</a>)<br>"
      ],
      "text/plain": [
       "<IPython.core.display.HTML object>"
      ]
     },
     "metadata": {},
     "output_type": "display_data"
    },
    {
     "name": "stdout",
     "output_type": "stream",
     "text": [
      "product_of_pos_powers may now be readily provable (assuming required theorems are usable).  Simply execute \"%qed\".\n"
     ]
    }
   ],
   "source": [
    "%proving product_of_pos_powers"
   ]
  },
  {
   "cell_type": "code",
   "execution_count": null,
   "metadata": {},
   "outputs": [],
   "source": []
  }
 ],
 "metadata": {
  "kernelspec": {
   "display_name": "Python 3",
   "language": "python",
   "name": "python3"
  }
 },
 "nbformat": 4,
 "nbformat_minor": 0
}