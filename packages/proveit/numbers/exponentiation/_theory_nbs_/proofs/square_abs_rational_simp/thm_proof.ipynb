{
 "cells": [
  {
   "cell_type": "markdown",
   "metadata": {},
   "source": [
    "Proof of <a class=\"ProveItLink\" href=\"../../../../../_theory_nbs_/theory.ipynb\">proveit</a>.<a class=\"ProveItLink\" href=\"../../../../_theory_nbs_/theory.ipynb\">numbers</a>.<a class=\"ProveItLink\" href=\"../../theory.ipynb\">exponentiation</a>.<a class=\"ProveItLink\" href=\"../../theorems.ipynb#square_abs_rational_simp\">square_abs_rational_simp</a> theorem\n",
    "========"
   ]
  },
  {
   "cell_type": "code",
   "execution_count": 1,
   "metadata": {},
   "outputs": [],
   "source": [
    "import proveit\n",
    "theory = proveit.Theory() # the theorem's theory"
   ]
  },
  {
   "cell_type": "code",
   "execution_count": 2,
   "metadata": {},
   "outputs": [
    {
     "data": {
      "text/html": [
       "With these <a href=\"allowed_presumptions.txt\">allowed</a>/<a href=\"disallowed_presumptions.txt\">disallowed</a> theorem/theory presumptions (e.g., to avoid circular dependencies), we begin our proof of<br><strong id=\"square_abs_rational_simp\">square_abs_rational_simp:</strong> <a class=\"ProveItLink\" href=\"../../../__pv_it/theorems/0fd9186a0fb97d97505f7b1c769c33e7613d64b90/expr.ipynb\"><img src=\"data:image/png;base64,iVBORw0KGgoAAAANSUhEUgAAAJwAAAAmBAMAAADDx+9tAAAAMFBMVEX///8AAAAAAAAAAAAAAAAA\n",
       "AAAAAAAAAAAAAAAAAAAAAAAAAAAAAAAAAAAAAAAAAAAv3aB7AAAAD3RSTlMAq1RmmUTNIjK7EInv\n",
       "3XZ/CtNrAAAACXBIWXMAAA7EAAAOxAGVKw4bAAACpElEQVRIx5WWTWjUQBSAn910s5tNt9ujF1no\n",
       "oSclKBQpUiIqiFAN9OKt8SToJYroReyKBwvaH7QHo6DxKK1sUbSHgixeqoigIPQgC/EigpdlVVoq\n",
       "tM5f0iTOdCYPFjJ5L9++35kBkIhWBzUxLqhYHQVVmQ7kNgVXGVeoyW3upv7SWBnYxYV7ctzFdCJB\n",
       "+yS2XZRG27OZWvY7+ga3DMRrTRpt31I6PQEfR73W12W42az/FW6wzOtHMtxe9NOjhSfsBub1ERnu\n",
       "F3bIYYtXCP1QYEi8nqwDSd+gwKi0nsFdgWu79HCfDSfw4ryoMztpnP5g6hTXkHqtuXATL+YEuD1u\n",
       "Gmdub3e4htTrageKyMuKaMzNWiZYgTCvezagYAEURWb9S2o45nWpC/Cx3f4gxFkMd+nNDRGOqNhw\n",
       "oEY4CSCqPq48wfWuwpMggRtrY/mMH6mKyRaig56atYX5AS8eCoZbtGBM4B1VMfkLUA7i5JS++Y6+\n",
       "ApWDkXrCobgzAF8FOKpi8huVI4wrcbyBPr4MxiEv4917MP4IcFS1gwN3FIc4ugxVnPipIYAwTOOM\n",
       "LdLQvNwx1U7u4AU6M4w1NE/P8JsRK4GbpJU1uqihh7jeMVVixK+jSmh2qQXj+A1GhdEu1wxpsI9h\n",
       "v23zg6Uq1s1dPEkoY6ZTrcGw7/v1s8lgTZvinv68va/Bx1EVK2WUxaZXHgnukJ0mWYrinNpUZI8C\n",
       "05sdD8oBaRaoxPuV1sqFi7fq3mMHXqJBJm385Vwj3qA2c+HK6bNnwffRp8u3knXLgyMj/t+xNHg6\n",
       "AsA83sUiZ3/IcBMe7+3M4fhRepik5LXMoOnkwb2V1srNQau2pCbvcuBM+VVwOAfuu9ykaCnT9FWF\n",
       "K+qaMu65yrX3aqCKu68UQkP1qo176h+tWcR9fpN6nwAAAABJRU5ErkJggg==\n",
       "\" style=\"display:inline;vertical-align:middle;\" /></a><br>(see <a class=\"ProveItLink\" href=\"../../../__pv_it/theorems/2120af913fa6389e8096e284c852b1b5d441946e0/dependencies.ipynb\">dependencies</a>)<br>"
      ],
      "text/plain": [
       "<IPython.core.display.HTML object>"
      ]
     },
     "metadata": {},
     "output_type": "display_data"
    }
   ],
   "source": [
    "%proving square_abs_rational_simp"
   ]
  },
  {
   "cell_type": "code",
   "execution_count": null,
   "metadata": {},
   "outputs": [],
   "source": []
  }
 ],
 "metadata": {
  "kernelspec": {
   "display_name": "Python 3",
   "language": "python",
   "name": "python3"
  }
 },
 "nbformat": 4,
 "nbformat_minor": 0
}