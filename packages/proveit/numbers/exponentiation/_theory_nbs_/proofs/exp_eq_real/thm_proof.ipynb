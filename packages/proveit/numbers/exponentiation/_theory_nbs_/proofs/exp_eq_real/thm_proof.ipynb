{
 "cells": [
  {
   "cell_type": "markdown",
   "metadata": {},
   "source": [
    "Proof of <a class=\"ProveItLink\" href=\"../../../../../_theory_nbs_/theory.ipynb\">proveit</a>.<a class=\"ProveItLink\" href=\"../../../../_theory_nbs_/theory.ipynb\">numbers</a>.<a class=\"ProveItLink\" href=\"../../theory.ipynb\">exponentiation</a>.<a class=\"ProveItLink\" href=\"../../theorems.ipynb#exp_eq_real\">exp_eq_real</a> theorem\n",
    "========"
   ]
  },
  {
   "cell_type": "code",
   "execution_count": 1,
   "metadata": {},
   "outputs": [],
   "source": [
    "import proveit\n",
    "theory = proveit.Theory() # the theorem's theory"
   ]
  },
  {
   "cell_type": "code",
   "execution_count": 2,
   "metadata": {},
   "outputs": [
    {
     "data": {
      "text/html": [
       "With these <a href=\"allowed_presumptions.txt\">allowed</a>/<a href=\"disallowed_presumptions.txt\">disallowed</a> theorem/theory presumptions (e.g., to avoid circular dependencies), we begin our proof of<br><strong id=\"exp_eq_real\">exp_eq_real:</strong> <a class=\"ProveItLink\" href=\"../../../__pv_it/theorems/2cc22314a0d8220f8dff0ec1147431b017ac56e60/expr.ipynb\"><img src=\"data:image/png;base64,iVBORw0KGgoAAAANSUhEUgAAANgAAAAXBAMAAACbsJy/AAAAMFBMVEX///8AAAAAAAAAAAAAAAAA\n",
       "AAAAAAAAAAAAAAAAAAAAAAAAAAAAAAAAAAAAAAAAAAAv3aB7AAAAD3RSTlMAq1RmmUTNIjK7EInv\n",
       "3XZ/CtNrAAAACXBIWXMAAA7EAAAOxAGVKw4bAAAC5UlEQVRIx7VWX0hTURj/XXevu7ub80IQmCAD\n",
       "fdQYEoU+mDDLIhTB6qWoUUFUELdHS2Q9N5olFushRkiBlt2UDHuIvURRFPYQBWEccxFliBCx8Knv\n",
       "bufMOztTYfbB2ffd8+f73fP9+d0BmyBero3JBUu6YaztSWFTufKF6wdWQgpmfNCz0BhgOk/1ZWFV\n",
       "2NzoQFy6QW3X08A8sMd5Ol0W2F1hPMecdEOgJ0h3qkzhshPzwbLAIiJaWQyNyjY8tHytKXjaHTz4\n",
       "Q2WBpYXxQv/dKr2ZleglmFfwhOmC5aUsKqyDzQth2Q4tsn2S1Engzezs67LAVKoPY3HblQnZ4ngE\n",
       "hsntR8A+4NYGPJZeqgw7y3OsqzDTNevIO8e0G+FZ4tM7gQvwmiUj9OnUVpazfKXBqijju7A7tUWy\n",
       "poe6oIjyayQ3KX+P1MnVmmEw239pPbAAHY9hr3TNwFsEGH9I0NszeX2oFF8w5hnfCBjIqVS0ZSRi\n",
       "3D5KI9rG2YtksTNDhKPNQXEa3gELjrjAgpmBTn7ymAlzJYzQshiV5UyN4qeYbqIxcZazFzmzairp\n",
       "6Hh1Km7kIs3svnkX2Ddl8ISaJBky2LLO+8vHYAwradiym/lMXBN2C41+U7AXPLitk7rYhO9armPY\n",
       "/mm4wMI+xmPivTMT5In3m6j4M5LWpMygmtovYR+gocQEe5Fkc7+1qPOcSSavUxgfh9w5qy6wumIr\n",
       "PPH6DIxu1tAsr5DaTFbY74vYiw6mvfnpl7qdz9mhp26wOKx8GFHVExCJ/7hmh/oFwXhn3Ow1hn5/\n",
       "VMUYHdeW8p1Ope8qEG96Cu2iu2LHhbsda0BN4b4Irxp2s1c8pH599oMUGlqi6KMX186fMzqiKzfr\n",
       "PrKYEv0euVEoAqs02GdKCZe+4hX+DiHD8oVhTCeHXVW12ss9DBXyssYXqj5TYIybxQ2Y4kphh/8p\n",
       "4dUTdVqB7DGwEb4OFt/fI5TWZq8L1ruA/yab8t/oLwJ2w5cCdY3KAAAAAElFTkSuQmCC\n",
       "\" style=\"display:inline;vertical-align:middle;\" /></a><br>(see <a class=\"ProveItLink\" href=\"../../../__pv_it/theorems/588068a3570d9b2d74dd427a867b3be3cf0cd0a20/dependencies.ipynb\">dependencies</a>)<br>"
      ],
      "text/plain": [
       "<IPython.core.display.HTML object>"
      ]
     },
     "metadata": {},
     "output_type": "display_data"
    }
   ],
   "source": [
    "%proving exp_eq_real"
   ]
  },
  {
   "cell_type": "code",
   "execution_count": null,
   "metadata": {},
   "outputs": [],
   "source": []
  }
 ],
 "metadata": {
  "kernelspec": {
   "display_name": "Python 3",
   "language": "python",
   "name": "python3"
  }
 },
 "nbformat": 4,
 "nbformat_minor": 0
}