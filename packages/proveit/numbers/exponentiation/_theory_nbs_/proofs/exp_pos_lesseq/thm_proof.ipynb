{
 "cells": [
  {
   "cell_type": "markdown",
   "metadata": {},
   "source": [
    "Proof of <a class=\"ProveItLink\" href=\"../../../../../_theory_nbs_/theory.ipynb\">proveit</a>.<a class=\"ProveItLink\" href=\"../../../../_theory_nbs_/theory.ipynb\">numbers</a>.<a class=\"ProveItLink\" href=\"../../theory.ipynb\">exponentiation</a>.<a class=\"ProveItLink\" href=\"../../theorems.ipynb#exp_pos_lesseq\">exp_pos_lesseq</a> theorem\n",
    "========"
   ]
  },
  {
   "cell_type": "code",
   "execution_count": 1,
   "metadata": {},
   "outputs": [],
   "source": [
    "import proveit\n",
    "theory = proveit.Theory() # the theorem's theory"
   ]
  },
  {
   "cell_type": "code",
   "execution_count": 2,
   "metadata": {},
   "outputs": [
    {
     "data": {
      "text/html": [
       "With these <a href=\"allowed_presumptions.txt\">allowed</a>/<a href=\"disallowed_presumptions.txt\">disallowed</a> theorem/theory presumptions (e.g., to avoid circular dependencies), we begin our proof of<br><strong id=\"exp_pos_lesseq\">exp_pos_lesseq:</strong> <a class=\"ProveItLink\" href=\"../../../__pv_it/theorems/51972a92b218fa32750f1ea029e37d18038689820/expr.ipynb\"><img src=\"data:image/png;base64,iVBORw0KGgoAAAANSUhEUgAAAREAAAAXBAMAAADelGYUAAAAMFBMVEX///8AAAAAAAAAAAAAAAAA\n",
       "AAAAAAAAAAAAAAAAAAAAAAAAAAAAAAAAAAAAAAAAAAAv3aB7AAAAD3RSTlMAq1RmmUTNIjK7EInv\n",
       "3XZ/CtNrAAAACXBIWXMAAA7EAAAOxAGVKw4bAAADgElEQVRIx71WXUgUURT+9mfc2Zl1VIrAglhI\n",
       "BB+KQaRQaFX8qQTLMoQKcqGHoIeYXsNi6y0UNCtoE2QECVKqRUFBSBYhDKLwJepFGMMKlcSXUHzq\n",
       "/sydGdedkGC9sHPPnPvNPd/e+51zL1DoFrF7ZXLNyDfO/Ab2oX23+9dGf954zH+dGKX07VjhiAQz\n",
       "ttGMvrwA5td0oIW+3Swck5fCeI8l11vpLg/33wIe0K0cKByTJiGHTTwZE87Tba5MuL8GKDIBNV44\n",
       "JllhzMt/6mzz94wHwP0xEyGyQ0UFlElSWJer13S+Cu8sL4L7i8jv0+Lix8IxCRPBKuuHeyfc7WjX\n",
       "hbWsY8S2VZI5Z4EXe5iy4f+Y0P8axpLV7hA55EhBDWZRb9shsnZ3ECn1nej4VONtbjFRq7M8J6tc\n",
       "6VflKxICBxSTuKdQbx5wxlwmD8MLKBe7SPQUNdWOvCzkpXSHpmI64zJJ4AqL7m50lbWzYJrw4EiL\n",
       "kblTaPXWXGd3zJiFzyLYBmFj+Qi2OUUqjoY6y2XyASVkCWp1B+MxeZinhosTTODEy1Fstylv2aZE\n",
       "cyyZII/xxDR1rJ9ZJlNISwiwskeZrDY4TCLbiMWxEneQzGRocYDIZYbAObsDaRNjXi4ii1uhiSQP\n",
       "LpDHBKlvyld5kwY2yovIp29KzD68ogBNjQzrDhN5G8V6H4vBkNxkaOdgiTSmOI5HiFpQngWyyOxY\n",
       "OruyPUZUSDRE5+8hb+EGmbILYVgm3d3jWEEnCxgeGoCXScwKDpkCyU2Gdg8W5VwHwznZGdwazUo5\n",
       "tbMyRZ+N6NY92Y5Aim6nxtltsucRHMXJdDod1zT1Ery7UxKHxOIzJDcp2nOwhOY5jitxAcp5q6I6\n",
       "rxJHZi+IzCsWWfPWiNbRSeUsu058IZrrZWuiSdfMXMXKBw2BZCZFuwdLcNirWHz7Z7mZEsY9YcSM\n",
       "/k5zHD1qMoxx8rm0QbKb6QQzrmKxjossQ8pMhuQmQysZ+wAJ3XBxtNX401CTylzuQQmp6cQk+uLh\n",
       "H7OrpENFbRKR58Tf9TMz2uqtbG32PYwh7SsZRctz/ADRBr04KtmcyqcsskZ1UmwFhJBzbwP23sYV\n",
       "I0qUNJ5Oe0qe/8WBo4NcFoO7Rv0/DCZafPhKpt0FrK5dn/lPyNFX/Ybv7+V4+rXzNSQ6KZHxZ/KI\n",
       "5FTa8JgcrWO/WsFv338BE/AF6yfDMdYAAAAASUVORK5CYII=\n",
       "\" style=\"display:inline;vertical-align:middle;\" /></a><br>(see <a class=\"ProveItLink\" href=\"../../../__pv_it/theorems/da9e16a407d2bb0c4fc17cb1b4bf8bf330caecbe0/dependencies.ipynb\">dependencies</a>)<br>"
      ],
      "text/plain": [
       "<IPython.core.display.HTML object>"
      ]
     },
     "metadata": {},
     "output_type": "display_data"
    }
   ],
   "source": [
    "%proving exp_pos_lesseq"
   ]
  },
  {
   "cell_type": "code",
   "execution_count": null,
   "metadata": {},
   "outputs": [],
   "source": []
  }
 ],
 "metadata": {
  "kernelspec": {
   "display_name": "Python 3",
   "language": "python",
   "name": "python3"
  }
 },
 "nbformat": 4,
 "nbformat_minor": 0
}