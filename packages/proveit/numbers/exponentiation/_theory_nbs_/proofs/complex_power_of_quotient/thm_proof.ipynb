{
 "cells": [
  {
   "cell_type": "markdown",
   "metadata": {},
   "source": [
    "Proof of <a class=\"ProveItLink\" href=\"../../../../../_theory_nbs_/theory.ipynb\">proveit</a>.<a class=\"ProveItLink\" href=\"../../../../_theory_nbs_/theory.ipynb\">numbers</a>.<a class=\"ProveItLink\" href=\"../../theory.ipynb\">exponentiation</a>.<a class=\"ProveItLink\" href=\"../../theorems.ipynb#complex_power_of_quotient\">complex_power_of_quotient</a> theorem\n",
    "========"
   ]
  },
  {
   "cell_type": "code",
   "execution_count": 1,
   "metadata": {},
   "outputs": [],
   "source": [
    "import proveit\n",
    "theory = proveit.Theory() # the theorem's theory"
   ]
  },
  {
   "cell_type": "code",
   "execution_count": 2,
   "metadata": {},
   "outputs": [
    {
     "data": {
      "text/html": [
       "With these <a href=\"allowed_presumptions.txt\">allowed</a>/<a href=\"disallowed_presumptions.txt\">disallowed</a> theorem/theory presumptions (e.g., to avoid circular dependencies), we begin our proof of<br><strong id=\"complex_power_of_quotient\">complex_power_of_quotient:</strong> <a class=\"ProveItLink\" href=\"../../../__pv_it/theorems/9eab186bc37fc700741548679ad83113364cae1c0/expr.ipynb\"><img src=\"data:image/png;base64,iVBORw0KGgoAAAANSUhEUgAAAREAAAAyBAMAAACJ9fKRAAAAMFBMVEX///8AAAAAAAAAAAAAAAAA\n",
       "AAAAAAAAAAAAAAAAAAAAAAAAAAAAAAAAAAAAAAAAAAAv3aB7AAAAD3RSTlMAq1RmmUTNIjK7EInv\n",
       "3XZ/CtNrAAAACXBIWXMAAA7EAAAOxAGVKw4bAAAFW0lEQVRYw7VZb2gcRRR/d7v3b/ayFxQqNRIP\n",
       "/CCCsQdCkCLJhZy1/VB6WOwHFe4KldIEykVEKC32BP98MHpHteDZWrcYxNDqLVpTG7DGFGmLVKJG\n",
       "Cw2RLZFWK8YjpiZUSJ2Znf132Y17x9yD25l5t7vzuze/9+a9OQC+8k4Tz4wqwF8CqQYfONsDEL3S\n",
       "AiQdDd7flh3G1y7+QIR8gw9sgY/wVWrnjuRAYY1FcJNv9OZH7kh+WXMRXGRJbx7kzVlhgnXEJOug\n",
       "AdsiuMizIJEmnOaMJK6yTh/+DJ19EV/fUGyL4JBIx3UNnn/4BumHljgj+UuxiBs6D+/jodBuWwSH\n",
       "PFOI3TIHOzkj+Z61wxjCyRRsJf1DtkWwCzoH4pQ52sCXKNFl1hnEn20AM6R/kszBFsEuYg3aVHNU\n",
       "1fgGWEbYILH6RUA36YwesSJehmrWHMWm+BKWTUp+K1oBoUaJ6UFGbIVem9fxpWyJbTolvCBoAQL5\n",
       "+8noiAeSJKwLmoEQ/c3XddiL15PLMehK0yjxqPvNMS04LVrDr7kiOcpa+vuO//FaZ5F0DiZdb0ad\n",
       "Xwz9Zg3fA6Brex8XJBeZCznXvM1X/PwK4DHS7uYBBC0y9tWc7uprf+7NwkuE32Uu4WSFObNzarnm\n",
       "i+0ahDHRpSQPJMEFpzMb6mU/D1fTIGDXC/PZidmUCdVpqgU/Dycw/Euzs99yQSIzpiacuay/UJHA\n",
       "BNkM8C4XJBLbWuvddsUi7ywVt/gfx+QagojLV5L7bOoaSESGpFSH5F9fqTXeeGKKlLWpusb69pLX\n",
       "6qNXmVcFZ3atI9vlqtjwe991YxsNMCfJkdclbhOh40XXqW+boiPBu2dQMwkbvVrJyhKcVk0kAWKE\n",
       "N9cfBk2V9tchIerRu+ABtQ5JvU0WfdmE7ON5M+/O4PAsy7BRM5HEsUbETAJNEz5xIqHqcQ0E9X9W\n",
       "xxdPyOrApyTrPdFzGmRCeozkRlrKbM3Q4FuavxvmgCKRR+BUZjqTNaoGokaP4KGxoUrMdw7W1YG+\n",
       "fIcwFg5gjOgy3i1GqS9KkWMp0yZ/Kr8iShVN3Tdn2QRXDVQdfM5W4MjLrvlXxFc8oeEwQFYgHZ2A\n",
       "7fR94pGyxdi3oDtEf6K25QxYSHDVQNXCB8rqyBZ30jp601c8MR6KZ+V26K5UKklZlp6wkFyAPmFP\n",
       "pXIIr87nSQsJrhqoOvpK0RbW2ZRhakR0dMqWS7qdEFxyRHuDbdVCbKPyOrWJHHpaMeNJDSajqs6T\n",
       "J8eteIIZoasxY8EwS5QRQtTTWaOakrxS1F3kyznN3AGZTQql7UpMoTyBcfYOpMIVoaxHYOzFI2Cq\n",
       "SdVA1fsfB0mrc1dBN0KCuVDMq/wm/PkpyrLwDYbDhfof+gwi5BhmxzV1ZBP7kZPw8jzAPrwCob2D\n",
       "KJM31aRqIGpAY5XN5qt/Zkh1iuYU123IlBAGLJZR0Zl5MjlRqWQdG7r+5jOVw+BDDfew9m16/ZKN\n",
       "ch7nB2TV4uZ0965N6KcaUkMvs4KeQ++cv4O2Yx53hzuvJhOFuszTS1INqc3gSisq9I9SpfNMeuVG\n",
       "A2gpnGU+EFlpSeUl5XXnjRMuyxMed+NS+LtIf4/SispLNCa9oCfSNHmLe2Wmm+z5QoBvNRoyomm3\n",
       "XpLmCIhrXnfPQMjaBxJ8K3SYNsiYouFkG7Z85Dx4hhPx1iqy8xLjfegyRlJE53D3Y8+yYZkcsdSf\n",
       "vHA/3XpBgUAqlqZbqJfcyeJOS063BMPckSKgjn5inaznzcdPWSaJcT+QHWzyuRzvU1AYLjT33A+8\n",
       "gYDcXIHdgtPyhv9B0GUHfyAQbqbWjw60AElT/zR9SPn6HxUAdkttq1GYAAAAAElFTkSuQmCC\n",
       "\" style=\"display:inline;vertical-align:middle;\" /></a><br>(see <a class=\"ProveItLink\" href=\"../../../__pv_it/theorems/6056754fdc287769b7491ac12ce484844c27fb6b0/dependencies.ipynb\">dependencies</a>)<br>"
      ],
      "text/plain": [
       "<IPython.core.display.HTML object>"
      ]
     },
     "metadata": {},
     "output_type": "display_data"
    },
    {
     "name": "stdout",
     "output_type": "stream",
     "text": [
      "complex_power_of_quotient may now be readily provable (assuming required theorems are usable).  Simply execute \"%qed\".\n"
     ]
    }
   ],
   "source": [
    "%proving complex_power_of_quotient"
   ]
  },
  {
   "cell_type": "code",
   "execution_count": null,
   "metadata": {},
   "outputs": [],
   "source": []
  }
 ],
 "metadata": {
  "kernelspec": {
   "display_name": "Python 3",
   "language": "python",
   "name": "python3"
  }
 },
 "nbformat": 4,
 "nbformat_minor": 0
}