{
 "cells": [
  {
   "cell_type": "markdown",
   "metadata": {},
   "source": [
    "Proof of <a class=\"ProveItLink\" href=\"../../../../../_theory_nbs_/theory.ipynb\">proveit</a>.<a class=\"ProveItLink\" href=\"../../../../_theory_nbs_/theory.ipynb\">numbers</a>.<a class=\"ProveItLink\" href=\"../../theory.ipynb\">exponentiation</a>.<a class=\"ProveItLink\" href=\"../../theorems.ipynb#quotient_of_complex_powers\">quotient_of_complex_powers</a> theorem\n",
    "========"
   ]
  },
  {
   "cell_type": "code",
   "execution_count": 1,
   "metadata": {},
   "outputs": [],
   "source": [
    "import proveit\n",
    "theory = proveit.Theory() # the theorem's theory"
   ]
  },
  {
   "cell_type": "code",
   "execution_count": 2,
   "metadata": {},
   "outputs": [
    {
     "data": {
      "text/html": [
       "With these <a href=\"allowed_presumptions.txt\">allowed</a>/<a href=\"disallowed_presumptions.txt\">disallowed</a> theorem/theory presumptions (e.g., to avoid circular dependencies), we begin our proof of<br><strong id=\"quotient_of_complex_powers\">quotient_of_complex_powers:</strong> <a class=\"ProveItLink\" href=\"../../../__pv_it/theorems/3af6f3affa15541a0314865a36a1a528936fb7090/expr.ipynb\"><img src=\"data:image/png;base64,iVBORw0KGgoAAAANSUhEUgAAAPsAAAAzBAMAAACj52NMAAAAMFBMVEX///8AAAAAAAAAAAAAAAAA\n",
       "AAAAAAAAAAAAAAAAAAAAAAAAAAAAAAAAAAAAAAAAAAAv3aB7AAAAD3RSTlMAq1RmmUTNIjK7EInv\n",
       "3XZ/CtNrAAAACXBIWXMAAA7EAAAOxAGVKw4bAAAEN0lEQVRYw8VZXUgUURQ+6+zP7Mw661v0gy30\n",
       "IEHWPkkZ6IpWvlhLQUQ9ZE9hQYy9RSIG2Q9JWim02c9EEYiRS4VRD2a+VETQf2AYK0ZRkYklig/W\n",
       "vXdm7ozrjnvHvdF52Lm7e+799t773fOdcxeAt4l18D/svNlYyuTepXFF90TN1hO2RRrkCk/nLM4M\n",
       "M02smCe6UGu2lEElxtJDLuAI36CarWDU+inz2muO8B9pK9TkZZvXKn7kE/ppMwyhCFMff4wbfChJ\n",
       "HvV9jZCvrWPr45vkBv+TLKTvMVzRxM0pxk57uMG/JK83o1DjotMaXpsvTpHHFoAPLnr1pDjBe3Tm\n",
       "PQVpwkWv4AtezCNHTZoBYcyFFgm8uNdKAr40Dp7aIoa4bJj0ixfx9Zh3GYpj8xzmOVr0iBP8Rf1x\n",
       "9fvxwibnxbe0SB4hrLsEQHZtRY7wT1mcbFr0ViRcfQiwAT/35oYu/WYiOtUib5tEFqk8DkfQI9CW\n",
       "47GfYToeSItOJpCpobjB2BT40X7Ikdzg88ZZvCwtChvq3BMDAZ0Zf656N8XiZWmRPw5EosKIeM+H\n",
       "hp7lCK9kjR9YCi0tClSWkTMQRpteDXAhR3h5OtOnNUPYXlIpzMAGRMV6CGTITmQ38N7pLA4OUpiP\n",
       "gn5Qk+P2BLS34gAeUX93jJ6JrxVfZgmU0l7YSBVnLAu8gxTmo9Ofl6LME4cTcUWGe0kK78EUOb24\n",
       "A7oWwcqkzU06o+Z1psGH/5g2NicsZZRCDA+1ZebbKhQMFAVKUxQ+hD7xInbAgxQISZubfAtg/fyL\n",
       "b+29kxTixYfb+9BLd9k9ULBuIfhvMbmqpoqEw9bRJTCCB1iLNkjVozVxu9aMCEyJkoX5TlKIqQcN\n",
       "iHnSe3ESusieyoHLUTr7H9onCW9/3kGVRmviVmQfTcl27h2kkKQJHrzAMSQC28hQ3s42i3rnoMSH\n",
       "Jytc02i0Jm6lpW7CjoMUhs2fFIorBVCC4nFEUeStFvwTqBDqEomzYnOT4Qe624kd9qA7sbB40WOy\n",
       "qUcNlmqnyOwV3y6NnvsxGBCJD6IeaHq0Jm6YehI9MQtMW1rNoxxSW7dpQY3sPTww1kRKwqDQpsfE\n",
       "w5tATnWTaE3cAndV6KPjzBJcI5dgybRNqfNVrr4DAXxDsP1z8vpGY1IDcHQU4BBed6k3UQ0tERyt\n",
       "iRt017Vbu/nOPqiRS7DnaKZ1JxLxWUKqL8L9RIfxQSSjG8AyewQ2cgkGWz7/1zvTqzKnsqTc9kUo\n",
       "zitHi6bruiOHIpauhlVW9MAM8DG9zNB11cwlGLIUXmWGt9/SVTOXYCjNeBVZvomFlJhhXiUmvFlI\n",
       "iVnO7XaFjJSlxHS4FOB2uZKtxPx3lyvCNEOJmV71cLzY25+9xEy33fwu1qBFdd3lFcdrRcV1mcj1\n",
       "UpXxGt1m23mig99lmSru4wpv/Z3AZjcI8f4CqiApuoXhDioAAAAASUVORK5CYII=\n",
       "\" style=\"display:inline;vertical-align:middle;\" /></a><br>(see <a class=\"ProveItLink\" href=\"../../../__pv_it/theorems/34b8374b1e47af82356850070889d46b644a3a7b0/dependencies.ipynb\">dependencies</a>)<br>"
      ],
      "text/plain": [
       "<IPython.core.display.HTML object>"
      ]
     },
     "metadata": {},
     "output_type": "display_data"
    },
    {
     "name": "stdout",
     "output_type": "stream",
     "text": [
      "quotient_of_complex_powers may now be readily provable (assuming required theorems are usable).  Simply execute \"%qed\".\n"
     ]
    }
   ],
   "source": [
    "%proving quotient_of_complex_powers"
   ]
  },
  {
   "cell_type": "code",
   "execution_count": null,
   "metadata": {},
   "outputs": [],
   "source": []
  }
 ],
 "metadata": {
  "kernelspec": {
   "display_name": "Python 3",
   "language": "python",
   "name": "python3"
  }
 },
 "nbformat": 4,
 "nbformat_minor": 0
}