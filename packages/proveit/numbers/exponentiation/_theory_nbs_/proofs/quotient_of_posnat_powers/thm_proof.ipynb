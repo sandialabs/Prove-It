{
 "cells": [
  {
   "cell_type": "markdown",
   "metadata": {},
   "source": [
    "Proof of <a class=\"ProveItLink\" href=\"../../../../../_theory_nbs_/theory.ipynb\">proveit</a>.<a class=\"ProveItLink\" href=\"../../../../_theory_nbs_/theory.ipynb\">numbers</a>.<a class=\"ProveItLink\" href=\"../../theory.ipynb\">exponentiation</a>.<a class=\"ProveItLink\" href=\"../../theorems.ipynb#quotient_of_posnat_powers\">quotient_of_posnat_powers</a> theorem\n",
    "========"
   ]
  },
  {
   "cell_type": "code",
   "execution_count": 1,
   "metadata": {},
   "outputs": [],
   "source": [
    "import proveit\n",
    "theory = proveit.Theory() # the theorem's theory"
   ]
  },
  {
   "cell_type": "code",
   "execution_count": 2,
   "metadata": {},
   "outputs": [
    {
     "data": {
      "text/html": [
       "With these <a href=\"allowed_presumptions.txt\">allowed</a>/<a href=\"disallowed_presumptions.txt\">disallowed</a> theorem/theory presumptions (e.g., to avoid circular dependencies), we begin our proof of<br><strong id=\"quotient_of_posnat_powers\">quotient_of_posnat_powers:</strong> <a class=\"ProveItLink\" href=\"../../../__pv_it/theorems/e0d769607a93146326f966b47410bbf7f3c627360/expr.ipynb\"><img src=\"data:image/png;base64,iVBORw0KGgoAAAANSUhEUgAAAVMAAAAyCAMAAADWSsgNAAAAOVBMVEX///8AAAAAAAAAAAAAAAAA\n",
       "AAAAAAAAAAAAAAAAAAAAAAAAAAAAAAAAAAAAAAAAAAAAAAAAAAAAAAACXHtMAAAAEnRSTlMAq1Rm\n",
       "mUTNIjK7EInv3Xbt5cmRiLwgAAAACXBIWXMAAA7EAAAOxAGVKw4bAAAElUlEQVR42t1ciXKkIBBF\n",
       "DrnJLv//sQuoiIroOGq2mqpJJdCj8OzzgUEIapPi1dspqRD01pF1D6FEONchRx6BW1jooHZ6o0iE\n",
       "mYCz6RAKwD7QsIUNKek3XVy52OmDjlL9yE11BxlSbnhNd12wUBN+sfiZ21oCGFPrar0mqKiTAXGP\n",
       "nolf2MB1qcRUldePukokos/cuKdgMTWlv+SddjzqLYvuruexxz2kT8xzoJA6X0DGomuV/iWj7KGG\n",
       "KVssTMX8CdG30hzsYXpU4YsIRH1CWb90b+UdzHS/jFBGppWy1ypimIm/6dZ6Q/x7KQfIKCU8KTGN\n",
       "6X3XI8zfMn6Ieb9baIp0sRCn3ySkLe5lGKM7VgKmyUXCrzqnRUhIrxdOLe5lGuNLhzqLYRham6LS\n",
       "ndxBg3uZxooESgffTXNI7EF4V+Vvrw+X3IuQU+PjGDOLIMWQmBSVSxBqKu7PEFvcSxyjtOhP9+9H\n",
       "xdUYBKbY372OFveSxqzAYmknZHSjPYwQRfzdPF6Le0ljTpeRyMcuY2MzGgam7q6kO/NZHzYffShN\n",
       "DxbKtp/+mMWgtmg5DbrMZ5k+PZDpx61r+1K+Gb0bK6X3MEPX+SxrJxXVDZbBSdodmwG3NF6EjIXE\n",
       "YUZzIN/KQobJau0qD65b1PZ+vx0o72U+y6bMCrtahBKuk5LFwwBdsAIsdy8/CeIO6fB0qDrA9Jy8\n",
       "bHm6FIxiZigPMP2ucrjEZw2YBkDJRgspHeOnVmmM7GGaBXG4CM1GvIvpSfkGph2fMkO0DUj0Fn/6\n",
       "BZ812H5ITackVWnidJynI7mkFcPD4nVGIQsiLDALHiJgpCmlNnxYhWo4Jb/CNM9qiB56yAzjlA3e\n",
       "xqg74v4XfJYZTJ5PZIqyPBQCPBp8XjlfXHbNKMyCAaOg05hV9K6gGk7JrzDNs6KpJPwJHxI6Iqbb\n",
       "HXV3T356nc+asOzEZJdjZcvyXIkiqsEozIIRozAFJ7cYFVTDKfkVpnlWqFD0AVPjHsr5r/NZa77B\n",
       "sFH9SD/QBBgJwUSDUZgFE0ZKT9GObr6UqIaT8gtM86xQYRiD7W8LUfzePsmO19Crv2OeS5RCYh4Y\n",
       "Y1TOCZeMQiGYil6GXS3fzFTDSfkS03lW0fb//JXJ9vdilGgQ7VsG+QUOx0THxaKxz2UV1zROXLuo\n",
       "VFtGYRYkSUHWvO38pYFqOJKv6WmeFZppNOTcWG4f2F7Vrb/I4TBK8MAI8HmfQOlgrzEBEjHKrhmF\n",
       "LCjsQMCuljl/aXXhHfkKpvOsFiV0yPlpJW+yu2RQhUF+l29QOtrYyjfhs4KNLx3Kt/JTfExqdKYx\n",
       "tmaQ72+f1hzsyhNm19SijukJQpJs9HBmmDYM8v3t062bSxtWF3e5qlPDJ2K62Di0zDBtGeTbG/+f\n",
       "D6JcDySr3eCCYaowyHc3mGcmEDU3MUyX3CnMsz1smfW/e2IK6Bk0ZBdcw6snpgjQs5LLhb17YsqC\n",
       "ffVksV95w4mpD9wO1LPnK0X9+sTUBwkg4Dek+t/ZWGce8OuRwvyKDVqMADf3G4e/YL8bWXuH93nL\n",
       "7xHw1r9th6KH/wL/2/8TYYb0H5KiLRLeOc4MAAAAAElFTkSuQmCC\n",
       "\" style=\"display:inline;vertical-align:middle;\" /></a><br>(see <a class=\"ProveItLink\" href=\"../../../__pv_it/theorems/b0bcb1698d0fde61fe350d682df0cd3866cedadc0/dependencies.ipynb\">dependencies</a>)<br>"
      ],
      "text/plain": [
       "<IPython.core.display.HTML object>"
      ]
     },
     "metadata": {},
     "output_type": "display_data"
    },
    {
     "name": "stdout",
     "output_type": "stream",
     "text": [
      "quotient_of_posnat_powers may now be readily provable (assuming required theorems are usable).  Simply execute \"%qed\".\n"
     ]
    }
   ],
   "source": [
    "%proving quotient_of_posnat_powers"
   ]
  },
  {
   "cell_type": "code",
   "execution_count": null,
   "metadata": {},
   "outputs": [],
   "source": []
  }
 ],
 "metadata": {
  "kernelspec": {
   "display_name": "Python 3",
   "language": "python",
   "name": "python3"
  }
 },
 "nbformat": 4,
 "nbformat_minor": 0
}