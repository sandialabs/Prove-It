{
 "cells": [
  {
   "cell_type": "markdown",
   "metadata": {},
   "source": [
    "Proof of <a class=\"ProveItLink\" href=\"../../../../../_theory_nbs_/theory.ipynb\">proveit</a>.<a class=\"ProveItLink\" href=\"../../../../_theory_nbs_/theory.ipynb\">numbers</a>.<a class=\"ProveItLink\" href=\"../../theory.ipynb\">exponentiation</a>.<a class=\"ProveItLink\" href=\"../../theorems.ipynb#product_of_posnat_powers\">product_of_posnat_powers</a> theorem\n",
    "========"
   ]
  },
  {
   "cell_type": "code",
   "execution_count": 1,
   "metadata": {},
   "outputs": [],
   "source": [
    "import proveit\n",
    "theory = proveit.Theory() # the theorem's theory"
   ]
  },
  {
   "cell_type": "code",
   "execution_count": 2,
   "metadata": {},
   "outputs": [
    {
     "data": {
      "text/html": [
       "With these <a href=\"allowed_presumptions.txt\">allowed</a>/<a href=\"disallowed_presumptions.txt\">disallowed</a> theorem/theory presumptions (e.g., to avoid circular dependencies), we begin our proof of<br><strong id=\"product_of_posnat_powers\">product_of_posnat_powers:</strong> <a class=\"ProveItLink\" href=\"../../../__pv_it/theorems/e5ad4a5a745b7485b38ed7a44191f067f46f83ad0/expr.ipynb\"><img src=\"data:image/png;base64,iVBORw0KGgoAAAANSUhEUgAAAUkAAAAZBAMAAABOXcHYAAAAMFBMVEX///8AAAAAAAAAAAAAAAAA\n",
       "AAAAAAAAAAAAAAAAAAAAAAAAAAAAAAAAAAAAAAAAAAAv3aB7AAAAD3RSTlMAq1RmmUTNIjK7EInv\n",
       "3XZ/CtNrAAAACXBIWXMAAA7EAAAOxAGVKw4bAAAD+0lEQVRYw71XTWgTQRR+TTbZzeanwUOhCCEi\n",
       "0l6UHFqxtdSVVKiIGPEiWjTiQfS0PSraRkEULG38A1dBVwuCRDT4g3qRqgcVEUSKClLYWrHWVgmC\n",
       "P/QgvtnMbnY2mx9h68AmM++9mfnmzfsbALdbuzvLSEaHgwVoHsmddbJGh88uAMqr+srFvjc5PBnp\n",
       "yLACbau+4UFk59nIjE6dM1AWRbsXAOVp8vOh2B/tS4SikSjDF9ufwFOAHY6TCfMRTFKUVDSsAuhr\n",
       "LHUNJD9Gbj1fHBz4BI0ZLs8K3EjDPEAk4Tgbmb9hA0VpiCLEdYS0xzWUOqarxigGQxCOsxINmo+c\n",
       "ZJ/j9AZNGIPXwCnKc+U0FRUR6WF3DbQxhT9JY/QMZmBQYCVCGU5CU21znB7KRLJ8IUPtkoruBvDj\n",
       "rQfjrqEcweVgzLjAAmqzwxZKBiF8BLcOqU7TB1F/3qxEUVLR9eiHaCB+95znKzHLNB34omhL/V9Y\n",
       "ic0QuY1/fkfD3Ax+mY+pFCUVncPv5cTEC/dQNhm22f9woNw5Fk9rRj8YrcK0xkuAnYi6F+B8nRDy\n",
       "tekKVZPvKVwqu9M+OTBv9L1E4dyE3qJ2pjX3oBXhrfcDH/3XrFWZvgs/4tXXE7CxLBo+Ae6VmaPG\n",
       "qjBtxooeGVCDKSstciZmvyt+/C50RctROtDHiWviepsA3lsx/CSaK0DYVLtQsIUwK5NtN3E9j2Y6\n",
       "jzCppMSTsueCVWa4+SwsCaqcakPpTN9FUT4H8YdVWkef1TeknmXTJcO06ZJEprSZKHtwGLwBsNp6\n",
       "xl6SmzQpCHd6xntStej0xsU/4C2U6USDNaWq5BVrlwzTFt1I0r9F0kCu+14xa40eLRYLRt6fInKt\n",
       "ywaCpv1hDfHRia63ZvwCGojfoSHdYkcZhyaPUWZ4s1WYbCM+DgfxKOJb4RdcI6SWFibvi/pircEr\n",
       "2000pIaQHeh6m6NB5iIsl+xmHNA84xyTSisx2dal5068Z07C/LmFjDo7mbzv04NvK0gzJhpSQ6gO\n",
       "dPPcAl7m5dljsYzdx2P3+z8bg3CqCpNta03bTWHlsVJRlPjxrUze9+5VlFOIJucvxcUY9DnSgXoO\n",
       "vKsjqh2qP1PsNq1CDnSqJ/ScgN4jlvK+kC/qzLeiNOsZ9AhOdPMi2+rYOlk3SNEM9iF5ZIsaIFbK\n",
       "35HhoZg38/55+paZpJI5UkO8ay2jG8GMBJiAXLsOrb8M85pJx5dccRt4vZTP7T2TER6beX8/Wpfw\n",
       "RoYGKjkUxxpiNlFGN9oicvraEOo4iGnBNtGcolCb9pT0/UA5ywjFK9Ct756BmltP12+Wld892ypy\n",
       "fGqNN2Te5YdUFdtIVLaS//QeL/kjquUv4rcomPs+ctAAAAAASUVORK5CYII=\n",
       "\" style=\"display:inline;vertical-align:middle;\" /></a><br>(see <a class=\"ProveItLink\" href=\"../../../__pv_it/theorems/34143a5edc9b4407b10f7d37ea28798d4a63243c0/dependencies.ipynb\">dependencies</a>)<br>"
      ],
      "text/plain": [
       "<IPython.core.display.HTML object>"
      ]
     },
     "metadata": {},
     "output_type": "display_data"
    },
    {
     "name": "stdout",
     "output_type": "stream",
     "text": [
      "product_of_posnat_powers may now be readily provable (assuming required theorems are usable).  Simply execute \"%qed\".\n"
     ]
    }
   ],
   "source": [
    "%proving product_of_posnat_powers"
   ]
  },
  {
   "cell_type": "code",
   "execution_count": null,
   "metadata": {},
   "outputs": [],
   "source": []
  }
 ],
 "metadata": {
  "kernelspec": {
   "display_name": "Python 3",
   "language": "python",
   "name": "python3"
  }
 },
 "nbformat": 4,
 "nbformat_minor": 0
}