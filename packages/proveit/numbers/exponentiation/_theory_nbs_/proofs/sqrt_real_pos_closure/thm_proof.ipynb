{
 "cells": [
  {
   "cell_type": "markdown",
   "metadata": {},
   "source": [
    "Proof of <a class=\"ProveItLink\" href=\"../../../../../_theory_nbs_/theory.ipynb\">proveit</a>.<a class=\"ProveItLink\" href=\"../../../../_theory_nbs_/theory.ipynb\">numbers</a>.<a class=\"ProveItLink\" href=\"../../theory.ipynb\">exponentiation</a>.<a class=\"ProveItLink\" href=\"../../theorems.ipynb#sqrt_real_pos_closure\">sqrt_real_pos_closure</a> theorem\n",
    "========"
   ]
  },
  {
   "cell_type": "code",
   "execution_count": 1,
   "metadata": {},
   "outputs": [],
   "source": [
    "import proveit\n",
    "theory = proveit.Theory() # the theorem's theory"
   ]
  },
  {
   "cell_type": "code",
   "execution_count": 2,
   "metadata": {},
   "outputs": [
    {
     "data": {
      "text/html": [
       "With these <a href=\"allowed_presumptions.txt\">allowed</a>/<a href=\"disallowed_presumptions.txt\">disallowed</a> theorem/theory presumptions (e.g., to avoid circular dependencies), we begin our proof of<br><strong id=\"sqrt_real_pos_closure\">sqrt_real_pos_closure:</strong> <a class=\"ProveItLink\" href=\"../../../__pv_it/theorems/36f56bd2ed3a2ee963cc90641cb0e0c965d4cb2e0/expr.ipynb\"><img src=\"data:image/png;base64,iVBORw0KGgoAAAANSUhEUgAAAKUAAAAZBAMAAACiDfPnAAAAMFBMVEX///8AAAAAAAAAAAAAAAAA\n",
       "AAAAAAAAAAAAAAAAAAAAAAAAAAAAAAAAAAAAAAAAAAAv3aB7AAAAD3RSTlMAq1RmmUTNIjK7EInv\n",
       "3XZ/CtNrAAAACXBIWXMAAA7EAAAOxAGVKw4bAAACrklEQVRIx42VTWgTQRTHX5PNfiZDQPSgIAH1\n",
       "JEqh4CFITTX1AxGCBS8VDHooiMj2XtCCIGohi6K4EXULIkgPCRaseLEgBkQED4IXV1cFP4pIFbXY\n",
       "i76ZdHZn03Q7AxteZmd/+3+fCyCx0hWZU1DCSwHJtZkb+j+65lc45uClOXJIs8ot42zSOYbrl2Ma\n",
       "vdy60CUup9w/b65EzJwHkKfGpkTmWGit7fZGLZ9ZUw+ZBIGD1BhJZB7khlbtymyCMw6K6z5zUa+5\n",
       "CDC+emB/c0OprMDcp4Y64QSAiv5bhSSkvsitu+L2V9+vhkwjYh7AGGMC1ESZ5CW3dgu7R+YEnesn\n",
       "I+Y3vF74/vNEZg+PoolwbcPngIX2pOC7fnkkYh5Dx/cD1JeDLCFgPNoWunTUNlgoVDtitt699Xgf\n",
       "AdSwhkdByy9nCj2m0ttbaOmh1CegsFCoQo6mi2I9nMFEGp4lpnPbg4HTcWYO309aaHzH7XnINenm\n",
       "hI/LWfK93icAGkhLBeE79fduhVgw01ym8+Jj9AgFZh32DMA9sZbOGZ6gk/ZvNWzRMv4lBIqBVT5U\n",
       "Hoz53shDGpPTCGBXW7zIVM4LBV6jkb5PUzjVPwOE9jUy50oxnT30AWWBdXKjAOtS9CESCEzT+Rgd\n",
       "p3mHMdRhvtYX2v4QS7vVG2OSWVo7v2ArBQSpV+1bxyNmCfqMKCU7mQ70WCnpszDECMoNJ56jDCue\n",
       "2x51x9z4cPQL25286vG59Nc2rv0Mjw9wI1vBebLDdd0CIdbheH3CU+bSh1K82oZv+t1GCu33pQKw\n",
       "jaJ3iekkmWGvy1xSW7bcAA+nQ9auDXmsIrCWHnUomqA/qR9yAzwdNlBmz/Zp0K7T2fCpeWdvR8MX\n",
       "Vp+xUYd0uDPlupXE75HEkvwesSqSXLLfTdnvO5s9mJP/cBumHaS6n+kAAAAASUVORK5CYII=\n",
       "\" style=\"display:inline;vertical-align:middle;\" /></a><br>(see <a class=\"ProveItLink\" href=\"../../../__pv_it/theorems/cd74a8eec346533bda25f89d4d6a47751c0659750/dependencies.ipynb\">dependencies</a>)<br>"
      ],
      "text/plain": [
       "<IPython.core.display.HTML object>"
      ]
     },
     "metadata": {},
     "output_type": "display_data"
    },
    {
     "name": "stdout",
     "output_type": "stream",
     "text": [
      "sqrt_real_pos_closure may now be readily provable (assuming required theorems are usable).  Simply execute \"%qed\".\n"
     ]
    }
   ],
   "source": [
    "%proving sqrt_real_pos_closure"
   ]
  },
  {
   "cell_type": "code",
   "execution_count": null,
   "metadata": {},
   "outputs": [],
   "source": []
  }
 ],
 "metadata": {
  "kernelspec": {
   "display_name": "Python 3",
   "language": "python",
   "name": "python3"
  }
 },
 "nbformat": 4,
 "nbformat_minor": 0
}