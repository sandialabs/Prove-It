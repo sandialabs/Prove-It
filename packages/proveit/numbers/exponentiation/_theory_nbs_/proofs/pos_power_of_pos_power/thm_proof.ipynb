{
 "cells": [
  {
   "cell_type": "markdown",
   "metadata": {},
   "source": [
    "Proof of <a class=\"ProveItLink\" href=\"../../../../../_theory_nbs_/theory.ipynb\">proveit</a>.<a class=\"ProveItLink\" href=\"../../../../_theory_nbs_/theory.ipynb\">numbers</a>.<a class=\"ProveItLink\" href=\"../../theory.ipynb\">exponentiation</a>.<a class=\"ProveItLink\" href=\"../../theorems.ipynb#pos_power_of_pos_power\">pos_power_of_pos_power</a> theorem\n",
    "========"
   ]
  },
  {
   "cell_type": "code",
   "execution_count": 1,
   "metadata": {},
   "outputs": [],
   "source": [
    "import proveit\n",
    "theory = proveit.Theory() # the theorem's theory"
   ]
  },
  {
   "cell_type": "code",
   "execution_count": 2,
   "metadata": {},
   "outputs": [
    {
     "data": {
      "text/html": [
       "With these <a href=\"allowed_presumptions.txt\">allowed</a>/<a href=\"disallowed_presumptions.txt\">disallowed</a> theorem/theory presumptions (e.g., to avoid circular dependencies), we begin our proof of<br><strong id=\"pos_power_of_pos_power\">pos_power_of_pos_power:</strong> <a class=\"ProveItLink\" href=\"../../../__pv_it/theorems/d7ed41243b6f2dec295e25567cd53835a29fcce10/expr.ipynb\"><img src=\"data:image/png;base64,iVBORw0KGgoAAAANSUhEUgAAAQkAAAAaBAMAAABWc7TWAAAAMFBMVEX///8AAAAAAAAAAAAAAAAA\n",
       "AAAAAAAAAAAAAAAAAAAAAAAAAAAAAAAAAAAAAAAAAAAv3aB7AAAAD3RSTlMAq1RmmUTNIjK7EInv\n",
       "3XZ/CtNrAAAACXBIWXMAAA7EAAAOxAGVKw4bAAADo0lEQVRIx7VXX0gUQRz+uXvn7e3endKDYIIc\n",
       "9OBLxkElaHGdeEES1YEEEUInFmFBnNCLFGbQPyjSSqk1qI0kCkO3MsoeJIzQisAHpVCEtQuKSpEg\n",
       "BB+k3+zNrrvXqGusAzc3+93Mzjcz3+/3zQGsTREalv/9QhusVdlqaRct3zVHNVoel0lwMcvD8PJ9\n",
       "Ay1Gy+fyrjzQX0pPZGFK0ZtSWmP1bZ1ZT74GogBRd1ncINWXTDs0Hop5yfxjwmtW32nlK9bBxBWs\n",
       "FIB8gm1wg4SPTMfR8/ZH+CSk8dTbxBY24zJRhWp4iISRwk6CHXWDhUc1TkU/d08+5CoQSLA7D0Ol\n",
       "MARvSVOcBzjrmkDyyIRVxgMEwsDHIC/F7jwLg1jP6e16IHxBCrvBohXfBIYIgko51u8hNwEqq/M4\n",
       "T1Z+BCSsqwH4CDJxRZzTRBZJI2vt1fRV+qqiCqvzuRlSn9z8A+tf+Pk4OfnBFRYFhjYaB5op9ISp\n",
       "4qJv9uA9hDx3AXQ6mENdEZbxk4s76x2Cu3T9ZaZyJ/WiB2Rtyj9vP0qMokbw5TtgEVsRriNyQIU9\n",
       "jsAeCm1kjBDfgGfEhpxBWfsVyRZNofbiZovdcBOHC7R/WTDgURKg+Kp9ABPGKlkBPQtB+8b24iBO\n",
       "M8UpTMkJ8VqKu23YzdXCDtBU6VQWCzZcR1m8A/EPhWpZDtKmT2vdC5LXkmYij+Oj1AOwjdqNBzUD\n",
       "msb3QF98NG4OXQKmJyIuAD9LoVKGLno12JEV4iSnPD2GVXf0BYRQWnD/fMaRiN2kQZ8u1GVZNPoP\n",
       "C8ZSSBK3BuJvyEmWZKByxl70hqGAS2XHCJxGhuInYQ4eEaikxLQbUZeGpjalF6dD/2HBQMNewnfd\n",
       "gdIYhXczWPg1btR+p9iuXzjI3sfQ+mrIU0WFaTfeiD5ddb8lGNB/WLCxJAHVf+/nxWLqYGOsGCl+\n",
       "2fjdhlSakkmgs5XJshy+dMC0G75Blq/j1j8PLyYG9B8WDFSZ8NmWn0Ycpbt687BS/grlsn4rQXWK\n",
       "GbsR1IwA9r9aHIH+w4JNT91iQyJOSIhmDgukWmsUP1GJry8FA2j9xG46MwKQuoz+qu4/2bAR58TJ\n",
       "/FbdNTnaCt5Mmt6qTc/Ad4s0uxvaW4RB3W6a8Hi9J46LcepRCBP/yYaNso4QtV4SbjpiEcwy/25Z\n",
       "ptHPZdbeL3fYMyYbtt47my1ZOOWIxdL3zoOrgg2O6n9dFJe+YkVWBbP+jzi/KKIa/wK7nQ9IFkqK\n",
       "DwAAAABJRU5ErkJggg==\n",
       "\" style=\"display:inline;vertical-align:middle;\" /></a><br>(see <a class=\"ProveItLink\" href=\"../../../__pv_it/theorems/d59fa717aaad6026a77cd1d8eff3e531fbaf5c860/dependencies.ipynb\">dependencies</a>)<br>"
      ],
      "text/plain": [
       "<IPython.core.display.HTML object>"
      ]
     },
     "metadata": {},
     "output_type": "display_data"
    },
    {
     "name": "stdout",
     "output_type": "stream",
     "text": [
      "pos_power_of_pos_power may now be readily provable (assuming required theorems are usable).  Simply execute \"%qed\".\n"
     ]
    }
   ],
   "source": [
    "%proving pos_power_of_pos_power"
   ]
  },
  {
   "cell_type": "code",
   "execution_count": null,
   "metadata": {},
   "outputs": [],
   "source": []
  }
 ],
 "metadata": {
  "kernelspec": {
   "display_name": "Python 3",
   "language": "python",
   "name": "python3"
  }
 },
 "nbformat": 4,
 "nbformat_minor": 0
}