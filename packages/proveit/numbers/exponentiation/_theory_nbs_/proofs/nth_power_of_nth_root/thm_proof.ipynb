{
 "cells": [
  {
   "cell_type": "markdown",
   "metadata": {},
   "source": [
    "Proof of <a class=\"ProveItLink\" href=\"../../../../../_theory_nbs_/theory.ipynb\">proveit</a>.<a class=\"ProveItLink\" href=\"../../../../_theory_nbs_/theory.ipynb\">numbers</a>.<a class=\"ProveItLink\" href=\"../../theory.ipynb\">exponentiation</a>.<a class=\"ProveItLink\" href=\"../../theorems.ipynb#nth_power_of_nth_root\">nth_power_of_nth_root</a> theorem\n",
    "========"
   ]
  },
  {
   "cell_type": "code",
   "execution_count": 1,
   "metadata": {},
   "outputs": [],
   "source": [
    "import proveit\n",
    "theory = proveit.Theory() # the theorem's theory"
   ]
  },
  {
   "cell_type": "code",
   "execution_count": 2,
   "metadata": {},
   "outputs": [
    {
     "data": {
      "text/html": [
       "With these <a href=\"allowed_presumptions.txt\">allowed</a>/<a href=\"disallowed_presumptions.txt\">disallowed</a> theorem/theory presumptions (e.g., to avoid circular dependencies), we begin our proof of<br><strong id=\"nth_power_of_nth_root\">nth_power_of_nth_root:</strong> <a class=\"ProveItLink\" href=\"../../../__pv_it/theorems/318d2ea4f309c11b8e1b65756a4f9f038a28c6f60/expr.ipynb\"><img src=\"data:image/png;base64,iVBORw0KGgoAAAANSUhEUgAAARgAAAAZBAMAAAAYiyyuAAAAMFBMVEX///8AAAAAAAAAAAAAAAAA\n",
       "AAAAAAAAAAAAAAAAAAAAAAAAAAAAAAAAAAAAAAAAAAAv3aB7AAAAD3RSTlMAq1RmmUTNIjK7EInv\n",
       "3XZ/CtNrAAAACXBIWXMAAA7EAAAOxAGVKw4bAAAEGklEQVRIx7WXX2gcRRjAv7vdu/13dzmtiBUb\n",
       "IrYhEIiHSdGHEi8ktfVfPetTm2BS8yAVC5uXQkWbtY9qm5AS6vlQVg2iBmtsbaEI5SSUBEpLKEFE\n",
       "erAhwSDaIz4Z7qH1mz+3O5fdu9vY+MHMzczN7Pzmm2+++QagsewomrAJ2Q2bFhlTqng7TNehTX04\n",
       "mnWLXW+0A4zdJ7JWd4wyTvLOrYf5imRMlR3jSYBPWTNp6XqulA0e1P0/wZwlKm+hxYh1HNRx1vwm\n",
       "gL57FuaCByVtCpMm5acawESo/jNhWJQCZu18Clg+HMmxcioDyoUhKAePSqUpzF5SfrsBjEy+GA9l\n",
       "xvIMqoDr8nNozxyv/PEOasqJFYJH6WUK86FrP3VgVAJ+ItQuNSG3LOhwr2vNAAlLzlrBw4YpTBx3\n",
       "y2hpZDO4LLgYCmYMv5cQluwaXMKGUUieqgHzIoWRcBXxhgbcGdqO72JqFXbNXWc8A69D6lKNYX+x\n",
       "03SzWLzRECZRLN6ZCQXzKKaXvep3qJzS4x+jVo10YP8LS1//hMCDNoXZD/BZQKeZKhjZAs2ucpi1\n",
       "JM8NgMsl0nvJeRVA8jQrF6lQumyqWV7A3bUozAgoQczZKhjsMuI1aG5JnaQ/xjWX/Qgm5tej5Aji\n",
       "PM/C8/Y2rAYeJMmUyhG0lNEchdFsIyf6icXLsCe9EQaVdzkIBqYnmAM9VGlYxHSdmQGOSzkAFrxA\n",
       "uQNvBBVkqrHvGUzU8ez3zPZJeNKwZdsH0yHarya6K+Jx56HJFDRDYdTpdeL2iNwiWS0Xk3BIPmrx\n",
       "U9Lt7uV+4o2drAE/9i325USYuIRjUisn93kwvCadB6UMiRbfNul/8zsn9g98i4teCLQZGDR1XPuY\n",
       "yWAuohORes+sACyTP9t2nTR8NgNGK45YjYy/5cFUatKcWoZkxc9tx3SeFV8z4TdkmowUyHGQAj3r\n",
       "N7kngEzHTxO8j4RfDmQSpk67txlf9PthlJ8xy2iO5cHwmn41hzBM2dxh/MCKo9koQkTXpwqxFnZP\n",
       "+OXpj16Bg/i7h9/aEfzke79Dkx2jq2uD7B9+GHiM+npTtBlaU3ossk1NlW0iSzzNTatM3Lt+wNn5\n",
       "DLk1c0EwU6VoLxnaI4YQzTAA0tF8fgJhpuM+P8PlExaoaF5NeciqNuAEzplkPj92b6cw7Qd1feWw\n",
       "CDMPfao6wzQT6wiOZ5TCFaYwza3pj1CIEnp64daWuFrfFaOB3nos/Nbm86zBr23ME2MIu1QjuDrQ\n",
       "X7I9zZCabnOn95LrOMgJPscNIr0xsqwlUlqAiaXhzwycQPWqv5gslqoT6Wn1vvswOSP8bhQiIK1u\n",
       "NJQ0fWGnfjU/GSbs1BrFwIrja16tazIPEAMLd1Me5Vz16yDc7f5fXwfHNr6blC1/N9nk3TT7LxH/\n",
       "/sJUiYsGAAAAAElFTkSuQmCC\n",
       "\" style=\"display:inline;vertical-align:middle;\" /></a><br>(see <a class=\"ProveItLink\" href=\"../../../__pv_it/theorems/3b165fa6ec43d712182744e5247145c4178d8f530/dependencies.ipynb\">dependencies</a>)<br>"
      ],
      "text/plain": [
       "<IPython.core.display.HTML object>"
      ]
     },
     "metadata": {},
     "output_type": "display_data"
    },
    {
     "name": "stdout",
     "output_type": "stream",
     "text": [
      "nth_power_of_nth_root may now be readily provable (assuming required theorems are usable).  Simply execute \"%qed\".\n"
     ]
    }
   ],
   "source": [
    "%proving nth_power_of_nth_root"
   ]
  },
  {
   "cell_type": "code",
   "execution_count": null,
   "metadata": {},
   "outputs": [],
   "source": []
  }
 ],
 "metadata": {
  "kernelspec": {
   "display_name": "Python 3",
   "language": "python",
   "name": "python3"
  }
 },
 "nbformat": 4,
 "nbformat_minor": 0
}