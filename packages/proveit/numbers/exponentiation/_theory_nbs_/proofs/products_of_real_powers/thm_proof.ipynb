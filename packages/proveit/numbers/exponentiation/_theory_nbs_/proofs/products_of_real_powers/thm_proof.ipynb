{
 "cells": [
  {
   "cell_type": "markdown",
   "metadata": {},
   "source": [
    "Proof of <a class=\"ProveItLink\" href=\"../../../../../_theory_nbs_/theory.ipynb\">proveit</a>.<a class=\"ProveItLink\" href=\"../../../../_theory_nbs_/theory.ipynb\">numbers</a>.<a class=\"ProveItLink\" href=\"../../theory.ipynb\">exponentiation</a>.<a class=\"ProveItLink\" href=\"../../theorems.ipynb#products_of_real_powers\">products_of_real_powers</a> theorem\n",
    "========"
   ]
  },
  {
   "cell_type": "code",
   "execution_count": 1,
   "metadata": {},
   "outputs": [],
   "source": [
    "import proveit\n",
    "theory = proveit.Theory() # the theorem's theory"
   ]
  },
  {
   "cell_type": "code",
   "execution_count": 2,
   "metadata": {},
   "outputs": [
    {
     "data": {
      "text/html": [
       "With these <a href=\"allowed_presumptions.txt\">allowed</a>/<a href=\"disallowed_presumptions.txt\">disallowed</a> theorem/theory presumptions (e.g., to avoid circular dependencies), we begin our proof of<br><strong id=\"products_of_real_powers\">products_of_real_powers:</strong> <a class=\"ProveItLink\" href=\"../../../__pv_it/theorems/b017d5bf85e12a87bb8d94f269134aab70e0c07b0/expr.ipynb\"><img src=\"data:image/png;base64,iVBORw0KGgoAAAANSUhEUgAAAssAAAAaCAMAAAB2K+FKAAAAOVBMVEX///8AAAAAAAAAAAAAAAAA\n",
       "AAAAAAAAAAAAAAAAAAAAAAAAAAAAAAAAAAAAAAAAAAAAAAAAAAAAAAACXHtMAAAAEnRSTlMAq1Rm\n",
       "mUTNIjK7EInv3Xbt5cmRiLwgAAAACXBIWXMAAA7EAAAOxAGVKw4bAAAGp0lEQVR42u1ci5KlKAyV\n",
       "lwgou+v/f+zyUAREyFV62ulqquYWXSbHgMckEJxh+G3vatMouksOfxSxhnL3Dv3HWmloWRb+y0R4\n",
       "Iyzv7DOpwHOuuj/FEiLtgEJrd6jcgMIs04Z9uNssjL/s/Khhmnf2Nk9QDLjkI0QunqOI2h0q+AJs\n",
       "GSG/XP6eJse8E6LpqjWSoLgLlgRH8jIi0Y9RRO0OAC63LTNcRoenII+53Avs5zdB8s4RLuWgQWEd\n",
       "LgltV4iLfIoiancAcLltmeEyDdnayB9zuRfYj298zjsJy8lo46cEvA9GkmFNWb83jBQirEZ3UOIR\n",
       "iJrNAC63LTNcntDdrKjA5V5gP75RlXeSZJOiYcJNZ7hJmrdBrv3SZVrgrVzl5yj7CKgwbbY/5Gxz\n",
       "cjGbo4JexTKbL4/bHwo/53IvsB/fVpZ3jkuWDRgS2DdJEwGnuZNZHpFQTAhlWIX11kg+R0lGIGo2\n",
       "A/xy2zLL5X3993DxNiaLyd+VYGN1JLNOkgESAUpSg+QgOuUYGyLW5mdmA1aHj/wcpcjlos37RamS\n",
       "n4JexTJHvXmxbVY9uNwJ7Kc3veSdgSOluV2VT1Tr6oLrLEkf7s2dEMXk9ldoiK56voFS4nLR5nBx\n",
       "5vFPSe/aMsdljypkFy73AfvpDY15h9mHJxIvfcHls6QyS/wn1pwRzRtmPd8y7AGcRVfpEjVUQSlx\n",
       "uWgzZH+5aZnjMkf7D7ipSy5/DIaBGx66i9oTC4p4tS2x6xdaiKwjZ+dVligN0XNx0XGWHNd1XR5Q\n",
       "+YwozfPTJgVAmoekaPoYJRlBNk+pzZC6X9Myn95aL6rqGRdfqJUgM7q6+e5gWmBaUORDkbfAil4W\n",
       "2/GiRopGfbrnTbVSs1CNan8Fr6LnZ0EpfX7zR5R1qFvUL5epmVz3+YVL1ql3iLUQ3fNfWxk5BOUr\n",
       "WrDMcxnr68XapJGwWTpGNiwMVLa4XAbbYaRA5oXCQkXv2VAotu/y2oYAxe1lptLX84Za8aGiIhIU\n",
       "T1TSRzfDZjrYSWihWWcWjl/XhAkacMnGAi2INRHbl4EoX9FkymXDvasqJd1TdGwkaEguKlwuggUY\n",
       "Jd01ErZXWdiRLMprG9SJVxqjlO2eWnGErIQExrvmMuIBeOUNvyxXC01WyKODSsLJAEDkUY5RzJf7\n",
       "2wX2y0mOMSi8PSBCyaQ1GjQRTkKHbUU8Yca9e6KULuYfu+ByABukIlrxGEaSyavxI5UfzsX247aO\n",
       "RFpSDxyvAO6oFf1TCQmOF3E5DNevSZSfablvtta5jP1CsJm7wyXhXAYgTiv/03aBtzd5wmW+pcGS\n",
       "MJvB279cbVAeTwpPxqdiBvDLO9ggF+7vdMBgng6Vj9vOVFJsj25r3x4uPKmOA2U31Yqv9VhA+gDv\n",
       "kAnDdfUq8Y+rV/n94yWvNCCRdYS2WTkFHK+ESx458bnzKSJrFv4+sKtrS/cx7JR6P82ltmO1XtvV\n",
       "VhmJuWzM1KLN5R3MROituHPAEEmSOdkyyayAH93WJDZCiUT4pLbX9ptqxakQsQHpJQieiBKSuJa1\n",
       "+XTP5TlPusKm6N6RSKuJI93eKIZLFtLyYjINQSRzT7t6NpLsLycOQ28PxJ1sJqNzMQJ7LksVdpFr\n",
       "XA6rAba59wNmmlgyVoxC3hsV8KPb2uCumA/Rkyir7bX9plpxiwJFSNksQfDEebixT/c5xoqvnAlb\n",
       "/46deIpeb9mJy/ahWufL18H0JpX4ZesBW/vLcYSze+dEyhhmW/vtW68bL7ICfiRvScSYkmlwT9X2\n",
       "2n5TrZhuiQgprfaD8MR5uDbH+Pe/6EzMee3niJ923t1G8nrLci7zdfPNRDjfe9Tv/Ic8lbN/Bb9s\n",
       "80dmk4oDhitqn6vSW8XdL+LyAv4h71ebftHliphFta2231Ir/XiocrW/glfyy2G40XlBJ83Os1Y5\n",
       "J/fGJl8bPtJzcknss7Nujx6bxMfKcLGlBNPiDyR/wmVGCdaKxDCWQCZy262uyTli4VDzAn6QZ6Me\n",
       "1SApHXfZotq2ddZSy8r9EVS52l/BK3D5GG5Sw1dK0zMRQmLd64TbFyel6P2WNb+RksrGSkgcHD+G\n",
       "wcOp8rDIa/k9BT2rhdp+S+2ULOdQWbW/hlfbX8btyjnCeefN7b1fJR+Wfef3fswf1I5m6eoIwhaN\n",
       "+YVa/TxCotaw4Fztv8SrchkwF9ff+73R+em/wLLv5DIJThUmznqoPbEgwatxGUPiWDiBi1+fMb/3\n",
       "I6Gv+g777v+PIe+JyX7o8oG194Pv5f+P8b5tL/l6y/SyzOR/FZVJ4G5O7yUAAAAASUVORK5CYII=\n",
       "\" style=\"display:inline;vertical-align:middle;\" /></a><br>(see <a class=\"ProveItLink\" href=\"../../../__pv_it/theorems/55b670d8df082592096929eecd0e7b28a33741680/dependencies.ipynb\">dependencies</a>)<br>"
      ],
      "text/plain": [
       "<IPython.core.display.HTML object>"
      ]
     },
     "metadata": {},
     "output_type": "display_data"
    }
   ],
   "source": [
    "%proving products_of_real_powers"
   ]
  },
  {
   "cell_type": "code",
   "execution_count": null,
   "metadata": {},
   "outputs": [],
   "source": []
  }
 ],
 "metadata": {
  "kernelspec": {
   "display_name": "Python 3",
   "language": "python",
   "name": "python3"
  }
 },
 "nbformat": 4,
 "nbformat_minor": 0
}