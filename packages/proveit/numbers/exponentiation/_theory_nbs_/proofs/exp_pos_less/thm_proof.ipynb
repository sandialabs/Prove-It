{
 "cells": [
  {
   "cell_type": "markdown",
   "metadata": {},
   "source": [
    "Proof of <a class=\"ProveItLink\" href=\"../../../../../_theory_nbs_/theory.ipynb\">proveit</a>.<a class=\"ProveItLink\" href=\"../../../../_theory_nbs_/theory.ipynb\">numbers</a>.<a class=\"ProveItLink\" href=\"../../theory.ipynb\">exponentiation</a>.<a class=\"ProveItLink\" href=\"../../theorems.ipynb#exp_pos_less\">exp_pos_less</a> theorem\n",
    "========"
   ]
  },
  {
   "cell_type": "code",
   "execution_count": 1,
   "metadata": {},
   "outputs": [],
   "source": [
    "import proveit\n",
    "theory = proveit.Theory() # the theorem's theory"
   ]
  },
  {
   "cell_type": "code",
   "execution_count": 2,
   "metadata": {},
   "outputs": [
    {
     "data": {
      "text/html": [
       "With these <a href=\"allowed_presumptions.txt\">allowed</a>/<a href=\"disallowed_presumptions.txt\">disallowed</a> theorem/theory presumptions (e.g., to avoid circular dependencies), we begin our proof of<br><strong id=\"exp_pos_less\">exp_pos_less:</strong> <a class=\"ProveItLink\" href=\"../../../__pv_it/theorems/086dfe8255ebd78a1e04e33af5b7f381beaa23b40/expr.ipynb\"><img src=\"data:image/png;base64,iVBORw0KGgoAAAANSUhEUgAAAREAAAAXBAMAAADelGYUAAAAMFBMVEX///8AAAAAAAAAAAAAAAAA\n",
       "AAAAAAAAAAAAAAAAAAAAAAAAAAAAAAAAAAAAAAAAAAAv3aB7AAAAD3RSTlMAq1RmmUTNIjK7EInv\n",
       "3XZ/CtNrAAAACXBIWXMAAA7EAAAOxAGVKw4bAAADgklEQVRIx71WXUgUURT+9mfc2dl1VIrAglhI\n",
       "Ah+MRcRQcFX8qQTLMoQKcqGHoIeYXsPCegsFzQraBBlBglyqRUFJSBYhDKLwJeolmA0rVBRfYsWn\n",
       "7s/cnVmdKQnWgd175sw3935zz3fOuUChr4A5KtNrmtNz5tewD9d3c3ypDTmux/xXiVFK744Vjog3\n",
       "ZRqtGHQEML8aBdro3fXCMXkujHfIOAK4/wZwj4ZyuHBMWoQcsng06SQT7q8BinQgFCkck7QwFuXf\n",
       "9TnvcUsy3B/W4SMRKiqgTOLCuli9FhV2Q4eF4P4i8vv47duHwjHxE8EqG4cHpuzO9TkemOUoxk1X\n",
       "iGTOaeDZHqZs+j8m9Fv9yBidNmW8NczVvWk0mk4f2btbCJS6TlQ103yTW0zUoXmek5X/qEQCBxQT\n",
       "CZ5Eo37AqnSdIkj3/UsoF1EkegrqoS7H6eRMoksNYTZlMYnhEiNi2L4wPxN02HDkCpO5+9FugxzK\n",
       "pYceNvBJLLZJ2Bgugm3tJxVHRb1hMXmPErIbdVFbLW/W80r7Y83CCSbIrZfPBL26vGWaEs2xeIz8\n",
       "JWOz1LFxaplMIWXgYWWPMlltyjEJbCMcwUrEQsplGkeLBkIdJi4XHUhZTDpEh2yVKpLcu0T+pkh9\n",
       "U77IWbqwVl5EXn1Vog/iBQWoocBYNMdE3kZxdJCtwZES3QKGzjWWQHM/x/EVggaUJ540Ug6KxUME\n",
       "hUR9dP4+cudvkik7H8ZkMtyuwgq62YL+0WHYmYQN76gukBIzGdpqLMqZLobLZad3ayIt2Wunsr7K\n",
       "jWb0Rm3ZDk8/DafK2WXZ/xEcRW0ikYioaugC7NEpiZjrUyTfHoa2NRbfIsdxJS5BOWtUVOdLsIEX\n",
       "lPH5cyIJi0XWvNaC9XR+Oc2OE5+J5gbYnqjSFX2nYuWDGkcqbyICbTUW75hdsfjqmA215uMZ4bgj\n",
       "jLA21K0n0ReK+5Ekr0ubJLuZTjBnKRYbOM9EV6YzJLBCd5eilZTZQHzXLBy9av5SdeLKws5GCanl\n",
       "xDTZbP+P+VW65xV1cQSeEn/Pz9REu72ydZjnMIYEz2iKlhd4A1FH7DgqWfciWGx4hJB3ngbM2EYU\n",
       "LUgWSCYStpLndnCo1Djay2Uxsqvru584vLE2F76Sbg4eo2fXa+4TcvRlt8d399KefuXf+sQgxVLu\n",
       "TB6QnErYP4Gjo9ivq+Cn7z+6v/1Kve3ZSgAAAABJRU5ErkJggg==\n",
       "\" style=\"display:inline;vertical-align:middle;\" /></a><br>(see <a class=\"ProveItLink\" href=\"../../../__pv_it/theorems/d5dd723a38847e13f5d294a2f741a082b561f7e90/dependencies.ipynb\">dependencies</a>)<br>"
      ],
      "text/plain": [
       "<IPython.core.display.HTML object>"
      ]
     },
     "metadata": {},
     "output_type": "display_data"
    }
   ],
   "source": [
    "%proving exp_pos_less"
   ]
  },
  {
   "cell_type": "code",
   "execution_count": null,
   "metadata": {},
   "outputs": [],
   "source": []
  }
 ],
 "metadata": {
  "kernelspec": {
   "display_name": "Python 3",
   "language": "python",
   "name": "python3"
  }
 },
 "nbformat": 4,
 "nbformat_minor": 0
}