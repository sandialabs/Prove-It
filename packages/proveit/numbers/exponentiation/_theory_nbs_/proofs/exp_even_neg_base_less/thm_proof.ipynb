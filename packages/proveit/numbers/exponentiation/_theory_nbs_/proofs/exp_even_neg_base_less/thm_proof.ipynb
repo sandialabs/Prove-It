{
 "cells": [
  {
   "cell_type": "markdown",
   "metadata": {},
   "source": [
    "Proof of <a class=\"ProveItLink\" href=\"../../../../../_theory_nbs_/theory.ipynb\">proveit</a>.<a class=\"ProveItLink\" href=\"../../../../_theory_nbs_/theory.ipynb\">numbers</a>.<a class=\"ProveItLink\" href=\"../../theory.ipynb\">exponentiation</a>.<a class=\"ProveItLink\" href=\"../../theorems.ipynb#exp_even_neg_base_less\">exp_even_neg_base_less</a> theorem\n",
    "========"
   ]
  },
  {
   "cell_type": "code",
   "execution_count": 1,
   "metadata": {},
   "outputs": [],
   "source": [
    "import proveit\n",
    "theory = proveit.Theory() # the theorem's theory"
   ]
  },
  {
   "cell_type": "code",
   "execution_count": 2,
   "metadata": {},
   "outputs": [
    {
     "data": {
      "text/html": [
       "With these <a href=\"allowed_presumptions.txt\">allowed</a>/<a href=\"disallowed_presumptions.txt\">disallowed</a> theorem/theory presumptions (e.g., to avoid circular dependencies), we begin our proof of<br><strong id=\"exp_even_neg_base_less\">exp_even_neg_base_less:</strong> <a class=\"ProveItLink\" href=\"../../../__pv_it/theorems/daf8cbd14e4a8d2bb04538e60ce32c342e201b7e0/expr.ipynb\"><img src=\"data:image/png;base64,iVBORw0KGgoAAAANSUhEUgAAAREAAAAXBAMAAADelGYUAAAAMFBMVEX///8AAAAAAAAAAAAAAAAA\n",
       "AAAAAAAAAAAAAAAAAAAAAAAAAAAAAAAAAAAAAAAAAAAv3aB7AAAAD3RSTlMAq1RmmUTNIjK7EInv\n",
       "3XZ/CtNrAAAACXBIWXMAAA7EAAAOxAGVKw4bAAADtUlEQVRIx71WXUgUURT+9md2ZmfXaaOHyCCE\n",
       "IogwlohCH3TFn4KwJCOoQJd6CHqICXwx+lmjhyDDLfuzQKYQopZqNTAqikWIgsikH4oiGcEKE0QC\n",
       "UXqpc+dvZ8cxJZgGZu+599w957vnfPecAbx+ZH0Q74/LrnpNIcP7RyrRxztyh7s7TdFEQozNVnqH\n",
       "ZK0x1qDdfYOmkOJALZsd8AyImDSEZxhx36ErDgJtNPBpz5AE4waiaXTedoWqKzYAIQWIlHiGJGoK\n",
       "z4WpcmvVb0uCrogqCBDokHc0WW0KO9ePx0058E7J79AVIXpfffny0jskWyn+o3FcL7hOn3Ug4kTx\n",
       "mT5jLUI3ZwtwdQEmE/+GZD858edQaVvKDJscwohab4aJmH0YfGxOQ6X9VYd06W+kfjzuWMj0FhvS\n",
       "G+BkcAjL8rqWt6a0CZXKEpM5OSCsRBpc7QsjXQ1SBA+yLkhseRYRULm0M4D11h2FElUxaKl8+ywx\n",
       "hbq8s0lCo85B2JoUpVRCuTobSUuxJfJVSjSF6cK/TuFEykKCZkWYcUMCG0COYoJkBYtnxQO2MLF5\n",
       "lGoyNwKfVvYYkh+JPBJp9PhmGtqWAk0xrTwLi2WcUDBQ2FnKLSSUHTq5lHPLDrhpmDXGP0Q/fVTf\n",
       "xA8CO5YkLwtRbbm7SGnHLc11hO+O55F896XpSLsJjaj+Esg8d4Gcdyh4azSQYBc9nTR5Ynjopvcc\n",
       "wjEXxooXfTlkTcYy+0dpWzDB7CKAboGGI6UYQ6OGJHgtbWNsPKymsPsRS8qNISkN7hojDCEZdHQW\n",
       "4ZMh9NJbhea4PXd3hzWa+Wd6cpxZU4MMko8CGW2QdNh6wpdjBTbS6UokKbLDfncWyRAG9HxnfSra\n",
       "NUOUnZ+OztJqUvosvdefbi9swwGtoIjb1FXrzaUi89bck8PlTCvkeDZ9jxc4o8VE4vYqNiTt9CWR\n",
       "Oa//lYgqPmRQdMZqDcTIDp/gDd9FGl/6HZchMKvlHrPag9zRqGRwNJIMIgN85Cbpdms8waM8Y/lc\n",
       "P6twUqfmopktj1HcJZWLiVl7Z2k9fcoISiCBSFIcmLcCVlssrl53n2Id/Pr0Bwv5qrIk+Cu0vutb\n",
       "tqcuH5NteyeYhwBB8Vdf0tbLCMrjUYVyZussr3//Ni1fRpHqy84HxPk1YNCnRJTDZDPT1WUreQVb\n",
       "/ZdxE526vEbPg38OH7fgr6idNyThQiJxijH41F2z9jqr/QouWTDfM9dp1YW0p+8OHpkDV5GdF0mj\n",
       "o9fE8b8ez7++/wA2DARX23NAgwAAAABJRU5ErkJggg==\n",
       "\" style=\"display:inline;vertical-align:middle;\" /></a><br>(see <a class=\"ProveItLink\" href=\"../../../__pv_it/theorems/a4c9867b79e739474c7c75a9ca5d60844ea795c70/dependencies.ipynb\">dependencies</a>)<br>"
      ],
      "text/plain": [
       "<IPython.core.display.HTML object>"
      ]
     },
     "metadata": {},
     "output_type": "display_data"
    }
   ],
   "source": [
    "%proving exp_even_neg_base_less"
   ]
  },
  {
   "cell_type": "code",
   "execution_count": null,
   "metadata": {},
   "outputs": [],
   "source": []
  }
 ],
 "metadata": {
  "kernelspec": {
   "display_name": "Python 3",
   "language": "python",
   "name": "python3"
  }
 },
 "nbformat": 4,
 "nbformat_minor": 0
}