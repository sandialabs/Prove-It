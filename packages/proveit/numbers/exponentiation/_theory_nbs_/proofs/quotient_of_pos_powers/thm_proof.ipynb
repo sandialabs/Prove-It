{
 "cells": [
  {
   "cell_type": "markdown",
   "metadata": {},
   "source": [
    "Proof of <a class=\"ProveItLink\" href=\"../../../../../_theory_nbs_/theory.ipynb\">proveit</a>.<a class=\"ProveItLink\" href=\"../../../../_theory_nbs_/theory.ipynb\">numbers</a>.<a class=\"ProveItLink\" href=\"../../theory.ipynb\">exponentiation</a>.<a class=\"ProveItLink\" href=\"../../theorems.ipynb#quotient_of_pos_powers\">quotient_of_pos_powers</a> theorem\n",
    "========"
   ]
  },
  {
   "cell_type": "code",
   "execution_count": 1,
   "metadata": {},
   "outputs": [],
   "source": [
    "import proveit\n",
    "theory = proveit.Theory() # the theorem's theory"
   ]
  },
  {
   "cell_type": "code",
   "execution_count": 2,
   "metadata": {},
   "outputs": [
    {
     "data": {
      "text/html": [
       "With these <a href=\"allowed_presumptions.txt\">allowed</a>/<a href=\"disallowed_presumptions.txt\">disallowed</a> theorem/theory presumptions (e.g., to avoid circular dependencies), we begin our proof of<br><strong id=\"quotient_of_pos_powers\">quotient_of_pos_powers:</strong> <a class=\"ProveItLink\" href=\"../../../__pv_it/theorems/29628f13950841bd34576409477372b5d8ae75080/expr.ipynb\"><img src=\"data:image/png;base64,iVBORw0KGgoAAAANSUhEUgAAATcAAAAzCAMAAADFGr+iAAAAOVBMVEX///8AAAAAAAAAAAAAAAAA\n",
       "AAAAAAAAAAAAAAAAAAAAAAAAAAAAAAAAAAAAAAAAAAAAAAAAAAAAAAACXHtMAAAAEnRSTlMAq1Rm\n",
       "mUTNIjK7EInv3Xbt5cmRiLwgAAAACXBIWXMAAA7EAAAOxAGVKw4bAAAEe0lEQVRo3u1biZKcIBDl\n",
       "vukk/P/HBvBW1FFxK0OFrU3VOp0RHn28fiJCbQ8lNPo/TodW6yvY1vt2o02bsGG6ueRUTe/1TQJX\n",
       "8C0VAHC9xRLfIGxUbK9B9BBg9e5hcXOwSScLCY+W8bw9PG0NNw+Fiym9sZo+QlxjKY660tWQsCM1\n",
       "7yNYW7i5eVGQ2IJM/hfTG63L4HiQLcEGYRY/PKU6na4oBlD5TqKp0uBnqzEuJW/2EmcgoaEMp8KM\n",
       "37KQkbTv3MoEaAc3PK8KTufl8beauYbIr8Nrh6DhLSWAtlMZVKBz3BLxwAKRW+s7VQJMaIb7wsIF\n",
       "NKROkqF7TOtcCXDNVFS9IL0Gg1USg7rnuiUlwAKFRYKboCNf7H2uHrctKgGeIzVtjY2pk41VR3xv\n",
       "tjOhXvNTUgJY3BajZoUhwjg4nPxiQVlVpFS9EqD0MKI7Ob69nehj2ZLvxY2EepMvKQEr4pHdm/Zp\n",
       "TXwvbDFw6qnhJSVAJH+b0ZOQgtT5NJz9YtzgORMdFZSSEiAZpTCrsSEBy/JeffWjGvt5q838bOCC\n",
       "gvJRDhQZ6eGfKkt4ZH1YFvcXxZ5KFBcVFO8HV7MHTTBohjsfLrVvxFvBsIBPVr423lgf1fRuitbC\n",
       "dmtweLjbFxUUn7kcgVJVUIC15ulhK44uTLRdt2+DASSvsdIe4lY2voJbFxGJtXN9jFsojE948+cK\n",
       "SodbBI1uUiFjfYmyJn9G7ap9Gw0g/iBq4Ai3HeMruGE53n1TBdjD/HZVQeniNFK3gcQZS8GmWcHQ\n",
       "dBmqul2Qy/ZtNOigABMhsIwxH3/5uq8rGZesF7iNc+kSd943mQHaPGixD+vpVQXFdeEphwbfeBmB\n",
       "kSk4x4wkl9/Vt2+TQQ49qQdoWKGv2zU+8rdxLiyz9l/xl8YLCbfNM0x4yt8uKigDXniMPdT1r3yc\n",
       "GTXUFNq3ySBCwbTVxUzf93W7xke4jXPp/h/tvT37G9TmvRcVlHU7nPowSFhS0fVmBCnFVaF9mwxy\n",
       "6FlOSkj0fd2u8RFu41zyuvoPujjddFXkNU18J6zt6u9E/qgxSE0f9HVhYE99+zYzSFBwbk2BkfVp\n",
       "Z9d4w990YS4pTn//0TlOd+qC+lkFdiMjuJRSeArMqX2Qlsmc4GOinrVvk0FHLczKdbLx0NedGRf9\n",
       "bZwLmkQblHogjk8DZ09xfElG4IwSsDSrSmpCIIZZ4hEq1bGhfRsNuABhkWFsSQGz8dDXnRmXcJvm\n",
       "smgCI+9lW9Lhd1WJpeL4fjtsbIqMVdogZwa3jQ/5Gzl1GLwHzUpxrDOutifcvGV8jNu5xEX3iK97\n",
       "o2BcVeXpa8aHuJHztatVxhlVoTcedcp/74H97VUuH81NqtBacayjkrZzIom5siq0VhyrpLeGzjnw\n",
       "OfN991wNaulcDfLstip0OUxbOqk6W82zczXnO9TWkfLpwdLDczWnGaGpc6pzh3t2ruaMKrX2BoOw\n",
       "N1Whi+7W2qtGyv1EAHmCWhvwAydcGnzPqO47kztRKlCLQ7wcREo0+gKqVm9+u5lg+wuLVisU/qXX\n",
       "PAAAAABJRU5ErkJggg==\n",
       "\" style=\"display:inline;vertical-align:middle;\" /></a><br>(see <a class=\"ProveItLink\" href=\"../../../__pv_it/theorems/d6b21df7bf613f715479be1659c62a5af701dec60/dependencies.ipynb\">dependencies</a>)<br>"
      ],
      "text/plain": [
       "<IPython.core.display.HTML object>"
      ]
     },
     "metadata": {},
     "output_type": "display_data"
    },
    {
     "name": "stdout",
     "output_type": "stream",
     "text": [
      "quotient_of_pos_powers may now be readily provable (assuming required theorems are usable).  Simply execute \"%qed\".\n"
     ]
    }
   ],
   "source": [
    "%proving quotient_of_pos_powers"
   ]
  },
  {
   "cell_type": "code",
   "execution_count": null,
   "metadata": {},
   "outputs": [],
   "source": []
  }
 ],
 "metadata": {
  "kernelspec": {
   "display_name": "Python 3",
   "language": "python",
   "name": "python3"
  }
 },
 "nbformat": 4,
 "nbformat_minor": 0
}