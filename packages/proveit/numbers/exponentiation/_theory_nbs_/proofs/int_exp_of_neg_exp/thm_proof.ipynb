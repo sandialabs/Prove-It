{
 "cells": [
  {
   "cell_type": "markdown",
   "metadata": {},
   "source": [
    "Proof of <a class=\"ProveItLink\" href=\"../../../../../_theory_nbs_/theory.ipynb\">proveit</a>.<a class=\"ProveItLink\" href=\"../../../../_theory_nbs_/theory.ipynb\">numbers</a>.<a class=\"ProveItLink\" href=\"../../theory.ipynb\">exponentiation</a>.<a class=\"ProveItLink\" href=\"../../theorems.ipynb#int_exp_of_neg_exp\">int_exp_of_neg_exp</a> theorem\n",
    "========"
   ]
  },
  {
   "cell_type": "code",
   "execution_count": 1,
   "metadata": {},
   "outputs": [],
   "source": [
    "import proveit\n",
    "theory = proveit.Theory() # the theorem's theory"
   ]
  },
  {
   "cell_type": "code",
   "execution_count": 2,
   "metadata": {},
   "outputs": [
    {
     "data": {
      "text/html": [
       "With these <a href=\"allowed_presumptions.txt\">allowed</a>/<a href=\"disallowed_presumptions.txt\">disallowed</a> theorem/theory presumptions (e.g., to avoid circular dependencies), we begin our proof of<br><strong id=\"int_exp_of_neg_exp\">int_exp_of_neg_exp:</strong> <a class=\"ProveItLink\" href=\"../../../__pv_it/theorems/15f2f7952059d976f1ed649ef7a8fe160a30f47b0/expr.ipynb\"><img src=\"data:image/png;base64,iVBORw0KGgoAAAANSUhEUgAAAWUAAAAmCAMAAAAr4Hr/AAAAOVBMVEX///8AAAAAAAAAAAAAAAAA\n",
       "AAAAAAAAAAAAAAAAAAAAAAAAAAAAAAAAAAAAAAAAAAAAAAAAAAAAAAACXHtMAAAAEnRSTlMAq1Rm\n",
       "mUTNIjK7EInv3Xbt5cmRiLwgAAAACXBIWXMAAA7EAAAOxAGVKw4bAAAE90lEQVRo3t1bi7ajKBCU\n",
       "l7yU3fX/P3YBFRoVRMxNTDgz98wk6VLLprqr4+265oUnu0j3yUVx98ClehXP0JGkboBh9OnLoah7\n",
       "5BJjwuvw1SyTvnvoIuhnWBa3zv5vl8S/wnKvP3RgzDNvmCjNkNlvZhnXFRXRy1fLAcui0sOS8c0s\n",
       "j5WpjF6c8grlUVl4lU/8F1gWtf3RIF7c2LACauzhpP4FlhHcsrx0N4xBKn6EUCKMoTf2EETdIupQ\n",
       "9cjwCyxDP2QK5sTY3tVRwObSpAgbbOTAW4/Le4i6RcQ0SgYGLEeqMGlhuT3+pmBEnnBJeSVZGmvj\n",
       "T48r4/7TbseYBKhKbxBZ3GEjBSzPMuM1hbew3B5/r9BPwNBu74BcF58FdC74i2Yim9RsuHRHId58\n",
       "1Quq8BkMEEVkmfaAZbEmI5dNitEef0+WI7W0uIfc3RjwrJ+hGlLatdbEmceImiJGxejMBHV5LYsa\n",
       "N7HcHn9rDVGpynlpBZRIUIW4u/hR4ObOY9ygJojGgH5eAJbJkgqXhwILy83x94pf0GJcPrCg4cp7\n",
       "d6bMnbXR7TXEyQZETRAlB5UDwx5jGN0adCPLzfEvajHoemCOtOGmEKOvNUUZPFa4UAVUU4VT9CxT\n",
       "n9lStbLcGr/xpEcnnWcg9kn9cjHMVSJZah4yMzw6ghVvRBaP5qt88tZkIMscrT8yhWaQmto/OZaz\n",
       "8Udm30iKYIaUSqb27YvWRh80coHlES/zGeIZK6XFlc6igKdVYcJxIGqzK3FpqNn+SgyS0r48cgds\n",
       "VNaVZOKB2V+hlESuGQLuU5Z2rD9zk3Sha6JN4XjD/C86nQ43xHRlkxXwVNXem2jCMjZHtYvSpUba\n",
       "eyowJ3nvdxwPzH6AsjfLI1axjHjAmHg+lxeWB+m1kJUMxZVcrsA7Kx0py5YiYraW3JBEPWnJYYd4\n",
       "a4aI0XwzQghQigi2mTtAlpPgpcpwL4wDPlMM5VWQFLMVj/W6XIN3xrJJWdZ4bnqBJYfVsiP8qL2M\n",
       "LK/xnbLqEr3vYvYjFOa7ATgsymsw9T7rH/uXLKO3keyqX3hFmpkVPHsVnK9N5IJvqsGrbYMWlvnS\n",
       "4wNLzsB12W2ui9OiNd45IOs6NyOECEUUUXmW0+BlA8wsD2ZHgtn0Z45sPNJS00KvNJsVeCeNYNov\n",
       "u3u2pmqw5KSfnbv7pPZVVan8TG6NdxppEJRla/YjlBBM5FlOgtcNMCvGtPOVQ7h6MeuAQkYLjkzB\n",
       "041XRLYC72yexXKTz2DJRbzvDAty1L/sJ5/K7XdJ1vuxmH0AtVQ/UIzlQbBTjH//k14xMtWvA03i\n",
       "WEkEH9/qm+I3ZluWgSWPLkP7XcPGivny4JSVWVlwI8Fg9iMU175v14f9cgiGMyg/GWD7I9HYL5DK\n",
       "TU3f+4SOHrsMy8CSc7k2cgjZzSN7VMEyowT7cOG6gtXsByjXRlj5oOJQMUJw6iStK6HqYPKp0snC\n",
       "eSq/dWZozwrlWE62v3Z7lp077My7dVDHl45NXQ+wnx6cTHk+Mmn5u2+kWCXyMUEV8z0JdIKb88+b\n",
       "N5PMYi35O5ZrNfCQZVzRDJChe/TSMVM+/+1qc4bdMr9vWMCufvNTL7p/MskGbLWvfk7u1Y+z/FUq\n",
       "fzfL5MHJbOC5fffzyz15Ksk8earmu1l2Q7xHLjUmc5d7LH/890p4/8znxGVk5fbvlTxhZz6yAKpd\n",
       "j/k/ClYr2vLiImAAAAAASUVORK5CYII=\n",
       "\" style=\"display:inline;vertical-align:middle;\" /></a><br>(see <a class=\"ProveItLink\" href=\"../../../__pv_it/theorems/5543c13871f5118b9f97e9c9d9e1792f1354363f0/dependencies.ipynb\">dependencies</a>)<br>"
      ],
      "text/plain": [
       "<IPython.core.display.HTML object>"
      ]
     },
     "metadata": {},
     "output_type": "display_data"
    }
   ],
   "source": [
    "%proving int_exp_of_neg_exp"
   ]
  },
  {
   "cell_type": "code",
   "execution_count": null,
   "metadata": {},
   "outputs": [],
   "source": []
  }
 ],
 "metadata": {
  "kernelspec": {
   "display_name": "Python 3",
   "language": "python",
   "name": "python3"
  }
 },
 "nbformat": 4,
 "nbformat_minor": 0
}