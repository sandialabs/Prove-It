{
 "cells": [
  {
   "cell_type": "markdown",
   "metadata": {},
   "source": [
    "Proof of <a class=\"ProveItLink\" href=\"../../../../../_theory_nbs_/theory.ipynb\">proveit</a>.<a class=\"ProveItLink\" href=\"../../../../_theory_nbs_/theory.ipynb\">numbers</a>.<a class=\"ProveItLink\" href=\"../../theory.ipynb\">exponentiation</a>.<a class=\"ProveItLink\" href=\"../../theorems.ipynb#real_power_of_quotient\">real_power_of_quotient</a> theorem\n",
    "========"
   ]
  },
  {
   "cell_type": "code",
   "execution_count": 1,
   "metadata": {},
   "outputs": [],
   "source": [
    "import proveit\n",
    "theory = proveit.Theory() # the theorem's theory"
   ]
  },
  {
   "cell_type": "code",
   "execution_count": 2,
   "metadata": {},
   "outputs": [
    {
     "data": {
      "text/html": [
       "With these <a href=\"allowed_presumptions.txt\">allowed</a>/<a href=\"disallowed_presumptions.txt\">disallowed</a> theorem/theory presumptions (e.g., to avoid circular dependencies), we begin our proof of<br><strong id=\"real_power_of_quotient\">real_power_of_quotient:</strong> <a class=\"ProveItLink\" href=\"../../../__pv_it/theorems/f9ac1e6ffa3ba43b60c1de71e8d181992bdd4c170/expr.ipynb\"><img src=\"data:image/png;base64,iVBORw0KGgoAAAANSUhEUgAAAUsAAAAyCAMAAADiMwkRAAAAOVBMVEX///8AAAAAAAAAAAAAAAAA\n",
       "AAAAAAAAAAAAAAAAAAAAAAAAAAAAAAAAAAAAAAAAAAAAAAAAAAAAAAACXHtMAAAAEnRSTlMAq1Rm\n",
       "mUTNIjK7EInv3Xbt5cmRiLwgAAAACXBIWXMAAA7EAAAOxAGVKw4bAAAFcElEQVR42t1biZKkKBDl\n",
       "vmV2/f+PXVE5EgXLKqs2BiJmorvNBH3m8chEhEYdWv1kGaMNGn1g+t35rad+/UFNo4OJ7XfnnzhS\n",
       "bvuRTGNDScV352d68e4YRCweGUrp5Lsu+9pwHBgpHRjLyb/vsi+NGbwr4sYNmbSGhZFD+hWm5bKv\n",
       "DBHsModkwYbF0lWJh8WAJrH18iT9QpftxI6oLxmlPk/AZzkolH4254mIhzCq96sUt1y2OYA+tNNR\n",
       "088EH0zFaGZcyBEsUhhNWi7bouVQH0TMecyIqWYY+UQEic0r0jZBk56/ctkWEYL6AObZD4kldg2T\n",
       "cXp9an4Io6+G4Uof7FjHJOwOQpTtcLUdOudMci9jHPRBTB4y+6iZwl9NwiIESCwQiY+t7T0sa31w\n",
       "cUS+7qGFYJ390IfNM0OsyUP746Df8YYxhoYAFfZisLdKYq+yk5Nbhlnr1wEzw0nGsFKnoYv34tj0\n",
       "3H7FLnGUpbQkhoieZmYwJ3RZznPlJLrkd5X2V3qQ1AOYHhb92PrsunGTb8kQWBIYA/spgczqUX+g\n",
       "e5gUQ0C5+BqAZ7Z9Y3rOgObw1twUhrNjYFlRoj7te5IVziFGsvVFjtJOs6DKcMV6TrfRbCrGy7TR\n",
       "BceWOP73w9ElI5ev1fQKEOaGE8/PeeM0RZO0nWqo1wzHEipSQvcFTiL8ZAXDAlzvkYbtXqz16UGr\n",
       "RY8CReIGqZkXlYg5j/y3GwRzPhkllusegfizzKM81pqHZjpeIhBJe9fULW0JHGZAPtQGrbSvYbm5\n",
       "SGhl8SQFWrRnAg0sL+3yObK+YbkAeWzCMbbnQ2vWazQ+jVMXAocZFiwXCWr8a1himZZJecSpC4F3\n",
       "ffy5eLn5+EItI8k0lnob7s/HBGeo2txEJk7qsekIxP6ozylyxdIb1sAyLbq5pd2SRrgjR+CiTYEy\n",
       "90iQe/qJ+sE87jbXlpHRmkluO1iTnpVIWGLyk0GedQT2/qgp0Ao+LrWn51imRZkO48/yj+6lsth4\n",
       "3hdtC5ScSAHS0613ywf5ZcQQJ79FW5+Yp3ukhoKsuTxGaEa1Bfb+KKcllkxb6NW6jAWoaE7viG9Q\n",
       "OQ8WbQs0ubpjfa7OH8OyDr2ht+kDvlSsJqAJUorDm1Nrcb8jsN1eFth83HLSwDItuhqSjhYToIpm\n",
       "sy/aFii3hQAeQACMdlMlfItVH/SBB9jq99CzpMYglS/sqSVyunmLUh2BzeMLgRVLzq05xTIvGlz4\n",
       "n3/16sIwteyLtgVKUwNuz2A1szoUYO92aZL+4cyMqqOJC5GLB5/N2yBpmVyVlxwRIpRBVKOOQOyP\n",
       "FhupjRO1ck9eFOWqFfKB8mAEFz0T6PsahZZX2bG+u0OJ+sczM6R2Ec4o8ZauFTiV0+ziroHfqJA1\n",
       "FfMe9QRifzQLcOGFRYaV1UJ9tih4AQsVZ6Za9EzgwE0EdDUCqLv5KI1H/ZMzM75TdDY2+FIVmsnH\n",
       "An1+Sc6yLrkSqOgptBfN2j59++hK1D85M4NvlkK5+VTgAktxNecLhcHKq0F/TOCFp+Z3Y+/WGaP+\n",
       "yTtwN0vp9GOBPpaEX8xJXqAw1VanPBtg5mVPYjIQ7ia7TPrHMzPyfzy48cXeUlVKL4yPQE7q3c2Z\n",
       "k/7xzMyYZw1qGlTs5bfkl4jgXbOs9UG4HPMMDK82M/ns+nochscY4G93ZaD+dZFkgFF3vQUt2WEs\n",
       "JN0/0w71ewlvnFE/WCiebFioeIgy/PF+WaPUr17fsJ9S1H1AuZcUw/dTkW/qN6ptpf5nRPXvNUwk\n",
       "t/RjsGU7hOadAlGhjz7bi/5FQ/y2Qc3ngT/jU+6nPjcRNPDwvzwcNfY3fN//trT0cIEGH+JXfqfE\n",
       "+B+Q/+pb/Azlf8ZhNgoq/GhWAAAAAElFTkSuQmCC\n",
       "\" style=\"display:inline;vertical-align:middle;\" /></a><br>(see <a class=\"ProveItLink\" href=\"../../../__pv_it/theorems/8aa6bc7662c3a2eb40b938ad1642d9e1462021cf0/dependencies.ipynb\">dependencies</a>)<br>"
      ],
      "text/plain": [
       "<IPython.core.display.HTML object>"
      ]
     },
     "metadata": {},
     "output_type": "display_data"
    },
    {
     "name": "stdout",
     "output_type": "stream",
     "text": [
      "real_power_of_quotient may now be readily provable (assuming required theorems are usable).  Simply execute \"%qed\".\n"
     ]
    }
   ],
   "source": [
    "%proving real_power_of_quotient"
   ]
  },
  {
   "cell_type": "code",
   "execution_count": null,
   "metadata": {},
   "outputs": [],
   "source": []
  }
 ],
 "metadata": {
  "kernelspec": {
   "display_name": "Python 3",
   "language": "python",
   "name": "python3"
  }
 },
 "nbformat": 4,
 "nbformat_minor": 0
}