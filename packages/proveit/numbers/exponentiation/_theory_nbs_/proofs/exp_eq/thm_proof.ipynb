{
 "cells": [
  {
   "cell_type": "markdown",
   "metadata": {},
   "source": [
    "Proof of <a class=\"ProveItLink\" href=\"../../../../../_theory_nbs_/theory.ipynb\">proveit</a>.<a class=\"ProveItLink\" href=\"../../../../_theory_nbs_/theory.ipynb\">numbers</a>.<a class=\"ProveItLink\" href=\"../../theory.ipynb\">exponentiation</a>.<a class=\"ProveItLink\" href=\"../../theorems.ipynb#exp_eq\">exp_eq</a> theorem\n",
    "========"
   ]
  },
  {
   "cell_type": "code",
   "execution_count": 1,
   "metadata": {},
   "outputs": [],
   "source": [
    "import proveit\n",
    "from proveit import Lambda\n",
    "from proveit import x, a\n",
    "from proveit.numbers import Exp\n",
    "theory = proveit.Theory() # the theorem's theory"
   ]
  },
  {
   "cell_type": "code",
   "execution_count": 2,
   "metadata": {},
   "outputs": [
    {
     "data": {
      "text/html": [
       "With these <a href=\"allowed_presumptions.txt\">allowed</a>/<a href=\"disallowed_presumptions.txt\">disallowed</a> theorem/theory presumptions (e.g., to avoid circular dependencies), we begin our proof of<br><strong id=\"exp_eq\">exp_eq:</strong> <a class=\"ProveItLink\" href=\"../../../__pv_it/theorems/c8352e3874f7691c70ac47eae481a2e2e66315180/expr.ipynb\"><img src=\"data:image/png;base64,iVBORw0KGgoAAAANSUhEUgAAANgAAAAXBAMAAACbsJy/AAAAMFBMVEX///8AAAAAAAAAAAAAAAAA\n",
       "AAAAAAAAAAAAAAAAAAAAAAAAAAAAAAAAAAAAAAAAAAAv3aB7AAAAD3RSTlMAq1RmmUTNIjK7EInv\n",
       "3XZ/CtNrAAAACXBIWXMAAA7EAAAOxAGVKw4bAAAC50lEQVRIx7VWT0gUURj/zc6MOzu7rgMdwgRZ\n",
       "0EugsUhUejBjK4VQBKNLUUsdwk5TN0tkO3RqaS2x2A4xVBRp2aZg1CH2EkVR2CHqYoy1IWaIELHh\n",
       "qW/c98Zde6vC2Advv2/en+837/vzmwU2QfxM6xPzpnDDaOtTd5NX+cr0IzMlBNM/aXmoNmA4T3We\n",
       "sHwZZuxHUrhBadOywDfggPN02hPYPW68xIxwQ6g7THeqsHDRifmgJ7AYj1YeQyOiDY/NQIsFuc3B\n",
       "QzDiCSzLjVfa7xbhzcxUD8G8gRylC3pLWZxbh5vmo6IdamzHBKlTwLvp6beewBSqD31h2+Vx0eJY\n",
       "DLrB7CdAB3BzAx7LL1VEneUZu9Od6Zx25INjZhogL7LpXcBZ+I3ynub2zdqODpTfUkkZ34291hbB\n",
       "mhbphMTLr4HcWMFuoZMr1cN4sBXbM+uAheh4AgeFazreI2SzhxTl1xbXh0LxxXMb8kbAQE6Foi4h\n",
       "lWD2MRrxVsZeJAvtOSIcdQaS0/DQ95AjcwUsnBtoZyePGzBWwgg1jxFRzpQ4fvLpRhrjZxh7kTOz\n",
       "uoKOjlVZSd2JtO8c57oC2Kw0eFJJkwzp9pLG+itgQx+WssiIbhYwcJXbzTT6Dc5ekHFLI3W+EXOq\n",
       "0zHyHasELBqwWUz8t6fCLPFBA74/d7OqkBkUQ/3F7UM0pARnL5L88m8NauXedPqadilRAoYql9Wl\n",
       "jMQSr01B77Lrm8QVUpPLc/tjCXvRway/MP1aW44KFQisIrAkzEIYUdkd4i/yec0ODXKC8U8Vs9co\n",
       "+oNxBaN0XF0sdPqFdgRX+syfnUQb767ECe5u5xpQk3jIw6tEi9krGVG+v/hBCvXNcfQ5L65PpjuK\n",
       "wth1dIEn0Re77haBWR7sC6WESV/pCnuHiG4GotCfpYeLqmq1l/sYcvOyxheqLucyxo3SBrSYkuwj\n",
       "/5Tw6ola1SV7DGyEr8Ol95e5Ulsz64L1zOO/yab8N/oLw9i9AibcO7cAAAAASUVORK5CYII=\n",
       "\" style=\"display:inline;vertical-align:middle;\" /></a><br>(see <a class=\"ProveItLink\" href=\"../../../__pv_it/theorems/7ff6b12eabd6bf047e6710fd7c6ba434728617280/dependencies.ipynb\">dependencies</a>)<br>"
      ],
      "text/plain": [
       "<IPython.core.display.HTML object>"
      ]
     },
     "metadata": {},
     "output_type": "display_data"
    }
   ],
   "source": [
    "%proving exp_eq"
   ]
  },
  {
   "cell_type": "code",
   "execution_count": 3,
   "metadata": {},
   "outputs": [
    {
     "data": {
      "text/html": [
       "<strong id=\"x_eq_y\">x_eq_y:</strong> <a class=\"ProveItLink\" href=\"../../../../../logic/equality/__pv_it/theorems/8dc625ee9fbf5f96228c059ed58b16ec83d4e40d0/expr.ipynb\"><img src=\"data:image/png;base64,iVBORw0KGgoAAAANSUhEUgAAADMAAAANBAMAAAD2/0vEAAAAMFBMVEX///8AAAAAAAAAAAAAAAAA\n",
       "AAAAAAAAAAAAAAAAAAAAAAAAAAAAAAAAAAAAAAAAAAAv3aB7AAAAD3RSTlMAEHarMolUmd1mIs3v\n",
       "RLtmgJDEAAAACXBIWXMAAA7EAAAOxAGVKw4bAAAAmUlEQVQY02NgEFIWCU1gQAGM6hMYhIF0AZMR\n",
       "ewOQZu8AAwMgk5XtAMN8BgbOBZwfmSeg6nIDqrVjYGBhYN/AgAYEeBQYDoEYQBod3Bdg+QKmFzAK\n",
       "oNrFUM3AdICBQe6CDQMruq7HDHxAJfmONQzX0KWKGe4DXSauxFaZgC4lHFS/gAEXiMYhzrqB8RgO\n",
       "KQ4F5gAcUmyTaoEkAEh8IT7vWgQmAAAAAElFTkSuQmCC\n",
       "\" style=\"display:inline;vertical-align:middle;\" /></a><br>"
      ],
      "text/plain": [
       "<IPython.core.display.HTML object>"
      ]
     },
     "metadata": {},
     "output_type": "display_data"
    }
   ],
   "source": [
    "x_eq_y = exp_eq.conditions[-1]"
   ]
  },
  {
   "cell_type": "code",
   "execution_count": 4,
   "metadata": {},
   "outputs": [
    {
     "data": {
      "text/html": [
       "<span style=\"font-size:20px;\"><a class=\"ProveItLink\" href=\"../../../../../logic/equality/__pv_it/theorems/8dc625ee9fbf5f96228c059ed58b16ec83d4e40d0/expr.ipynb\"><img src=\"data:image/png;base64,iVBORw0KGgoAAAANSUhEUgAAADMAAAANBAMAAAD2/0vEAAAAMFBMVEX///8AAAAAAAAAAAAAAAAA\n",
       "AAAAAAAAAAAAAAAAAAAAAAAAAAAAAAAAAAAAAAAAAAAv3aB7AAAAD3RSTlMAEHarMolUmd1mIs3v\n",
       "RLtmgJDEAAAACXBIWXMAAA7EAAAOxAGVKw4bAAAAmUlEQVQY02NgEFIWCU1gQAGM6hMYhIF0AZMR\n",
       "ewOQZu8AAwMgk5XtAMN8BgbOBZwfmSeg6nIDqrVjYGBhYN/AgAYEeBQYDoEYQBod3Bdg+QKmFzAK\n",
       "oNrFUM3AdICBQe6CDQMruq7HDHxAJfmONQzX0KWKGe4DXSauxFaZgC4lHFS/gAEXiMYhzrqB8RgO\n",
       "KQ4F5gAcUmyTaoEkAEh8IT7vWgQmAAAAAElFTkSuQmCC\n",
       "\" style=\"display:inline;vertical-align:middle;\" /></a> <a class=\"ProveItLink\" href=\"../../../__pv_it/_proof_exp_eq/d2f9590bd8ef8caa0e3bfe07d14761f08f415c210/proof.ipynb\" style=\"text-decoration: none\">&nbsp;&#x22A2;&nbsp;&nbsp;</a><a class=\"ProveItLink\" href=\"../../../__pv_it/theorems/67a7875bc3b42853da0862dd2c132a983843e21b0/expr.ipynb\"><img src=\"data:image/png;base64,iVBORw0KGgoAAAANSUhEUgAAAEYAAAAUBAMAAADCRlZLAAAAMFBMVEX///8AAAAAAAAAAAAAAAAA\n",
       "AAAAAAAAAAAAAAAAAAAAAAAAAAAAAAAAAAAAAAAAAAAv3aB7AAAAD3RSTlMAEHarMolUmd1mIs3v\n",
       "RLtmgJDEAAAACXBIWXMAAA7EAAAOxAGVKw4bAAAA8ElEQVQoz2NggADRSVEM2ABjpOoCGLOL5RdW\n",
       "NRIL/GFq2AtYDmBVU87gA2PyXGAywKrmLIMyjCm/gG+iADbn/GJ4KQgzZ4H/TWxqGE6x/J0IZfJW\n",
       "JkVitev6NNUJDAxCyiKhCdisUZ/AIAxlFzAZsTfAJNg7wADkfla2AwzzIaKcCzg/Mk/AYo4bUKcd\n",
       "hMnCwL4Bq0sEeBQYDsHDRgGrGob7Aixf4OwFjAJY3MNQzcAEDXu5CzYMrFjNeczABw37fMcahmtY\n",
       "1RQz3If6RVyJrTIBqxrhoPoFDARBNCEFrBsYjxFSw6HAHEBIDdukWigLAGYjNZAYfky2AAAAAElF\n",
       "TkSuQmCC\n",
       "\" style=\"display:inline;vertical-align:middle;\" /></a></span>"
      ],
      "text/plain": [
       "{x = y} |- x^{a} = y^{a}"
      ]
     },
     "metadata": {},
     "output_type": "display_data"
    },
    {
     "name": "stdout",
     "output_type": "stream",
     "text": [
      "exp_eq may now be readily provable (assuming required theorems are usable).  Simply execute \"%qed\".\n"
     ]
    }
   ],
   "source": [
    "x_eq_y.substitution(Lambda(x, Exp(x, a)), assumptions=[x_eq_y])"
   ]
  },
  {
   "cell_type": "code",
   "execution_count": 5,
   "metadata": {},
   "outputs": [
    {
     "name": "stdout",
     "output_type": "stream",
     "text": [
      "proveit.numbers.exponentiation.exp_eq has been proven.\n"
     ]
    },
    {
     "data": {
      "text/html": [
       "<table><tr><th>&nbsp;</th><th>step type</th><th>requirements</th><th>statement</th></tr>\n",
       "<tr><td><a name=\"0x46ea3ad720b62dfd_step0\">0</a></td><td>generalization</td><td><a href=\"#0x46ea3ad720b62dfd_step1\">1</a></td><td><span style=\"font-size:20px;\"> <a class=\"ProveItLink\" href=\"../../../__pv_it/_proof_exp_eq/723364b196d6784774d121f8f5e300087c02fe110/proof.ipynb\" style=\"text-decoration: none\">&nbsp;&#x22A2;&nbsp;&nbsp;</a><a class=\"ProveItLink\" href=\"../../../__pv_it/theorems/c8352e3874f7691c70ac47eae481a2e2e66315180/expr.ipynb\"><img src=\"data:image/png;base64,iVBORw0KGgoAAAANSUhEUgAAANgAAAAXBAMAAACbsJy/AAAAMFBMVEX///8AAAAAAAAAAAAAAAAA\n",
       "AAAAAAAAAAAAAAAAAAAAAAAAAAAAAAAAAAAAAAAAAAAv3aB7AAAAD3RSTlMAq1RmmUTNIjK7EInv\n",
       "3XZ/CtNrAAAACXBIWXMAAA7EAAAOxAGVKw4bAAAC50lEQVRIx7VWT0gUURj/zc6MOzu7rgMdwgRZ\n",
       "0EugsUhUejBjK4VQBKNLUUsdwk5TN0tkO3RqaS2x2A4xVBRp2aZg1CH2EkVR2CHqYoy1IWaIELHh\n",
       "qW/c98Zde6vC2Advv2/en+837/vzmwU2QfxM6xPzpnDDaOtTd5NX+cr0IzMlBNM/aXmoNmA4T3We\n",
       "sHwZZuxHUrhBadOywDfggPN02hPYPW68xIxwQ6g7THeqsHDRifmgJ7AYj1YeQyOiDY/NQIsFuc3B\n",
       "QzDiCSzLjVfa7xbhzcxUD8G8gRylC3pLWZxbh5vmo6IdamzHBKlTwLvp6beewBSqD31h2+Vx0eJY\n",
       "DLrB7CdAB3BzAx7LL1VEneUZu9Od6Zx25INjZhogL7LpXcBZ+I3ynub2zdqODpTfUkkZ34291hbB\n",
       "mhbphMTLr4HcWMFuoZMr1cN4sBXbM+uAheh4AgeFazreI2SzhxTl1xbXh0LxxXMb8kbAQE6Foi4h\n",
       "lWD2MRrxVsZeJAvtOSIcdQaS0/DQ95AjcwUsnBtoZyePGzBWwgg1jxFRzpQ4fvLpRhrjZxh7kTOz\n",
       "uoKOjlVZSd2JtO8c57oC2Kw0eFJJkwzp9pLG+itgQx+WssiIbhYwcJXbzTT6Dc5ekHFLI3W+EXOq\n",
       "0zHyHasELBqwWUz8t6fCLPFBA74/d7OqkBkUQ/3F7UM0pARnL5L88m8NauXedPqadilRAoYql9Wl\n",
       "jMQSr01B77Lrm8QVUpPLc/tjCXvRway/MP1aW44KFQisIrAkzEIYUdkd4i/yec0ODXKC8U8Vs9co\n",
       "+oNxBaN0XF0sdPqFdgRX+syfnUQb767ECe5u5xpQk3jIw6tEi9krGVG+v/hBCvXNcfQ5L65PpjuK\n",
       "wth1dIEn0Re77haBWR7sC6WESV/pCnuHiG4GotCfpYeLqmq1l/sYcvOyxheqLucyxo3SBrSYkuwj\n",
       "/5Tw6ola1SV7DGyEr8Ol95e5Ulsz64L1zOO/yab8N/oLw9i9AibcO7cAAAAASUVORK5CYII=\n",
       "\" style=\"display:inline;vertical-align:middle;\" /></a></span></td></tr>\n",
       "<tr><td><a name=\"0x46ea3ad720b62dfd_step1\">1</a></td><td>instantiation</td><td><a href=\"#0x46ea3ad720b62dfd_step2\">2</a>, <a href=\"#0x46ea3ad720b62dfd_step3\">3</a></td><td><span style=\"font-size:20px;\"><a class=\"ProveItLink\" href=\"../../../../../logic/equality/__pv_it/theorems/8dc625ee9fbf5f96228c059ed58b16ec83d4e40d0/expr.ipynb\"><img src=\"data:image/png;base64,iVBORw0KGgoAAAANSUhEUgAAADMAAAANBAMAAAD2/0vEAAAAMFBMVEX///8AAAAAAAAAAAAAAAAA\n",
       "AAAAAAAAAAAAAAAAAAAAAAAAAAAAAAAAAAAAAAAAAAAv3aB7AAAAD3RSTlMAEHarMolUmd1mIs3v\n",
       "RLtmgJDEAAAACXBIWXMAAA7EAAAOxAGVKw4bAAAAmUlEQVQY02NgEFIWCU1gQAGM6hMYhIF0AZMR\n",
       "ewOQZu8AAwMgk5XtAMN8BgbOBZwfmSeg6nIDqrVjYGBhYN/AgAYEeBQYDoEYQBod3Bdg+QKmFzAK\n",
       "oNrFUM3AdICBQe6CDQMruq7HDHxAJfmONQzX0KWKGe4DXSauxFaZgC4lHFS/gAEXiMYhzrqB8RgO\n",
       "KQ4F5gAcUmyTaoEkAEh8IT7vWgQmAAAAAElFTkSuQmCC\n",
       "\" style=\"display:inline;vertical-align:middle;\" /></a> <a class=\"ProveItLink\" href=\"../../../__pv_it/_proof_exp_eq/d2f9590bd8ef8caa0e3bfe07d14761f08f415c210/proof.ipynb\" style=\"text-decoration: none\">&nbsp;&#x22A2;&nbsp;&nbsp;</a><a class=\"ProveItLink\" href=\"../../../__pv_it/theorems/67a7875bc3b42853da0862dd2c132a983843e21b0/expr.ipynb\"><img src=\"data:image/png;base64,iVBORw0KGgoAAAANSUhEUgAAAEYAAAAUBAMAAADCRlZLAAAAMFBMVEX///8AAAAAAAAAAAAAAAAA\n",
       "AAAAAAAAAAAAAAAAAAAAAAAAAAAAAAAAAAAAAAAAAAAv3aB7AAAAD3RSTlMAEHarMolUmd1mIs3v\n",
       "RLtmgJDEAAAACXBIWXMAAA7EAAAOxAGVKw4bAAAA8ElEQVQoz2NggADRSVEM2ABjpOoCGLOL5RdW\n",
       "NRIL/GFq2AtYDmBVU87gA2PyXGAywKrmLIMyjCm/gG+iADbn/GJ4KQgzZ4H/TWxqGE6x/J0IZfJW\n",
       "JkVitev6NNUJDAxCyiKhCdisUZ/AIAxlFzAZsTfAJNg7wADkfla2AwzzIaKcCzg/Mk/AYo4bUKcd\n",
       "hMnCwL4Bq0sEeBQYDsHDRgGrGob7Aixf4OwFjAJY3MNQzcAEDXu5CzYMrFjNeczABw37fMcahmtY\n",
       "1RQz3If6RVyJrTIBqxrhoPoFDARBNCEFrBsYjxFSw6HAHEBIDdukWigLAGYjNZAYfky2AAAAAElF\n",
       "TkSuQmCC\n",
       "\" style=\"display:inline;vertical-align:middle;\" /></a></span></td></tr>\n",
       "<tr><td>&nbsp;</td><td colspan=4 style=\"text-align:left\"><span style=\"font-size:20px;\"><a class=\"ProveItLink\" href=\"../../../../../__pv_it/common/6774f61458aed4cc9eb250f92b3634f1d09b19a40/expr.ipynb\"><img src=\"data:image/png;base64,iVBORw0KGgoAAAANSUhEUgAAACkAAAAVBAMAAAAp9toTAAAAMFBMVEX///8AAAAAAAAAAAAAAAAA\n",
       "AAAAAAAAAAAAAAAAAAAAAAAAAAAAAAAAAAAAAAAAAAAv3aB7AAAAD3RSTlMAmYkQqzLvVES73WZ2\n",
       "Is1wFLxSAAAACXBIWXMAAA7EAAAOxAGVKw4bAAAA/0lEQVQY02NggANeKH2BARkch9I9EIpRyQBI\n",
       "sitARXk2gCmVsAIgaQfX9BhMpneC1ErDRTeCCI7PYHYCXJQNpIhpAYjJ/gAuygc0mNttiQDISqBl\n",
       "zGecg9SByhyAfP4DMAWMDEcOSAHVgbTdDwCJcgHdsZdhv4E30DCQFfUQKxoYGAIY5EBM1g9AQgsu\n",
       "ysCQA3YUSO0UBpgJDBx/GYyBJiyAyTNwHmBgnsGSwAB0CvcEYFD9AIsCncP+1TCBowDiSPYPYFHW\n",
       "BQzMMgcKt4MMA1rB6ADx0VK4324xMJTwFSCFCRgAw2klLAQ5YXHAC7RsjyyUwzwBXRoM7kDpswwM\n",
       "AGRaMXIQBtPcAAAAAElFTkSuQmCC\n",
       "\" style=\"display:inline;vertical-align:middle;\" /></a> : <a class=\"ProveItLink\" href=\"../../../__pv_it/theorems/8e1117a7d81547dad7972e4eaddae00dc2c32dc80/expr.ipynb\"><img src=\"data:image/png;base64,iVBORw0KGgoAAAANSUhEUgAAABUAAAAQBAMAAAAL9CkWAAAAMFBMVEX///8AAAAAAAAAAAAAAAAA\n",
       "AAAAAAAAAAAAAAAAAAAAAAAAAAAAAAAAAAAAAAAAAAAv3aB7AAAAD3RSTlMAEHarMolUmd1mIs3v\n",
       "RLtmgJDEAAAACXBIWXMAAA7EAAAOxAGVKw4bAAAAbklEQVQI12NggADRSVFQFgNjF8svGJu9gOUA\n",
       "jM1zgckAxpZfwDdRACa+wP8mjM1bmRQJpISURUIToEIFTEbsDRAm5wLOj8wTIGwWBvYNDHDAo4Bg\n",
       "31/ACDVO7oINAytUNN+xhuEalC2uxFYJNR4AsRAUhtr3+/AAAAAASUVORK5CYII=\n",
       "\" style=\"display:inline;vertical-align:middle;\" /></a>, <a class=\"ProveItLink\" href=\"../../../../../__pv_it/common/a0d9d672aa5e272d907247690c152cc2c6daafb70/expr.ipynb\"><img src=\"data:image/png;base64,iVBORw0KGgoAAAANSUhEUgAAAAsAAAAJBAMAAAAWSsseAAAAMFBMVEX///8AAAAAAAAAAAAAAAAA\n",
       "AAAAAAAAAAAAAAAAAAAAAAAAAAAAAAAAAAAAAAAAAAAv3aB7AAAAD3RSTlMAEHarMolUmd1mIs3v\n",
       "RLtmgJDEAAAACXBIWXMAAA7EAAAOxAGVKw4bAAAAQklEQVQI12NgEFIWCU1gYChgMmJvYOBcwPmR\n",
       "eQIDCwP7BgYQ4FEAU/cXMAowyF2wYWBlYMh3rGG4xsAgrsRWmcAAAFEjCyBvD0T9AAAAAElFTkSu\n",
       "QmCC\n",
       "\" style=\"display:inline;vertical-align:middle;\" /></a> : <a class=\"ProveItLink\" href=\"../../../../../__pv_it/common/a0d9d672aa5e272d907247690c152cc2c6daafb70/expr.ipynb\"><img src=\"data:image/png;base64,iVBORw0KGgoAAAANSUhEUgAAAAsAAAAJBAMAAAAWSsseAAAAMFBMVEX///8AAAAAAAAAAAAAAAAA\n",
       "AAAAAAAAAAAAAAAAAAAAAAAAAAAAAAAAAAAAAAAAAAAv3aB7AAAAD3RSTlMAEHarMolUmd1mIs3v\n",
       "RLtmgJDEAAAACXBIWXMAAA7EAAAOxAGVKw4bAAAAQklEQVQI12NgEFIWCU1gYChgMmJvYOBcwPmR\n",
       "eQIDCwP7BgYQ4FEAU/cXMAowyF2wYWBlYMh3rGG4xsAgrsRWmcAAAFEjCyBvD0T9AAAAAElFTkSu\n",
       "QmCC\n",
       "\" style=\"display:inline;vertical-align:middle;\" /></a>, <a class=\"ProveItLink\" href=\"../../../../../__pv_it/common/ff7dba4ef0bbe791ab573bf2d9c220a304399ac80/expr.ipynb\"><img src=\"data:image/png;base64,iVBORw0KGgoAAAANSUhEUgAAAAsAAAANBAMAAACN24kIAAAAMFBMVEX///8AAAAAAAAAAAAAAAAA\n",
       "AAAAAAAAAAAAAAAAAAAAAAAAAAAAAAAAAAAAAAAAAAAv3aB7AAAAD3RSTlMAEHaZZquJVO8y3btE\n",
       "zSKD2s2pAAAACXBIWXMAAA7EAAAOxAGVKw4bAAAAVklEQVQI12NgVHZgEGVgYGNvYPBnYJjOvIAh\n",
       "moFBgEOBoYmBgeG8AOdPIGXLwNQApLYycAcAKVOG8w5ASjTJ/gEDCOQCMdsFxnYgxaXAmgCk2J1s\n",
       "gCQAaFoNDtFIIdEAAAAASUVORK5CYII=\n",
       "\" style=\"display:inline;vertical-align:middle;\" /></a> : <a class=\"ProveItLink\" href=\"../../../../../__pv_it/common/ff7dba4ef0bbe791ab573bf2d9c220a304399ac80/expr.ipynb\"><img src=\"data:image/png;base64,iVBORw0KGgoAAAANSUhEUgAAAAsAAAANBAMAAACN24kIAAAAMFBMVEX///8AAAAAAAAAAAAAAAAA\n",
       "AAAAAAAAAAAAAAAAAAAAAAAAAAAAAAAAAAAAAAAAAAAv3aB7AAAAD3RSTlMAEHaZZquJVO8y3btE\n",
       "zSKD2s2pAAAACXBIWXMAAA7EAAAOxAGVKw4bAAAAVklEQVQI12NgVHZgEGVgYGNvYPBnYJjOvIAh\n",
       "moFBgEOBoYmBgeG8AOdPIGXLwNQApLYycAcAKVOG8w5ASjTJ/gEDCOQCMdsFxnYgxaXAmgCk2J1s\n",
       "gCQAaFoNDtFIIdEAAAAASUVORK5CYII=\n",
       "\" style=\"display:inline;vertical-align:middle;\" /></a></span></td></tr><tr><td><a name=\"0x46ea3ad720b62dfd_step2\">2</a></td><td>axiom</td><td></td><td><span style=\"font-size:20px;\"> <a class=\"ProveItLink\" href=\"../../../../../logic/equality/_theory_nbs_/axioms.ipynb#substitution\" style=\"text-decoration: none\">&nbsp;&#x22A2;&nbsp;&nbsp;</a><a class=\"ProveItLink\" href=\"../../../../../logic/equality/__pv_it/axioms/b3647e5bced6c805148d96be1aa0946871a946d20/expr.ipynb\"><img src=\"data:image/png;base64,iVBORw0KGgoAAAANSUhEUgAAAO8AAAAXBAMAAAARnwX+AAAAMFBMVEX///8AAAAAAAAAAAAAAAAA\n",
       "AAAAAAAAAAAAAAAAAAAAAAAAAAAAAAAAAAAAAAAAAAAv3aB7AAAAD3RSTlMAq1RmmUTNIjK7EInv\n",
       "3XZ/CtNrAAAACXBIWXMAAA7EAAAOxAGVKw4bAAAC/UlEQVRIx7VWTWgTURCeJLtpkk3SHDxYLCXi\n",
       "z0VLV1Chl1pp/aOCwYMnMYseBE/rUalYPUrFigexh7IFDxah1B48KJYgCKJUglDwEkixInoovVV6\n",
       "EOfN+9vsS1sT6MDMfvvmy5t5+97MC0Db4pu44z/4fuSnLUu+aGK7vj3/itACe9nXRuBDZEfeaIzy\n",
       "vRmzkZN3uZ5iL9dbj5vxmHV2v1eYSTIwmVHODa732NZMtB7YcpnNHphUmEli0GRGOUe5shydYuuB\n",
       "s2TLgcYkn0xmlJMNSBOYSbKNLT5I9l0Ik1wzmVFO0uW6WKt9biPwCDNHFndJPLv84i1+uFcGUXMy\n",
       "Ky5M4/ctcD0LMLnZ7IObB+ZL+6vwYL7HqgIcp/2vkRSgkePEK3ACz4HH9SZ0MEZm2DVn3+LQfaWG\n",
       "8UfihJ/YiOEMhw2i5tzHzLoAMDxpOnBK6EgfG2sp8Adm4msSp8CienlkEDUnyNbhC1LXuMbrdLY6\n",
       "m1TgtoGdqsZZ6lqXzTLWnHKQwuXbFa7gDbC8uueZe/XMCvZRexliocB8kFqidIhPnS5oXPYzmHuv\n",
       "scchzmnIs89c5QrzrJVAP7UzvyuJR3O2MxjXgWnw3DMUVzkApvQqGZ4pdYMjp2kseMWBx5RFYoIr\n",
       "jFJKw9R4YCqFj9u98EsHFoMQdoi6uVuSuO/Bebgoq6xBNAdOQhnPnzXHFWJ0qp5w2jrZPdAT3uN1\n",
       "NYt0ADxkpk/h56vxIdb/lozAmgPTCxdwz3IlrkI+kk1V6EpdEq8TapB/auXAn47REjTmtVM1Ajdw\n",
       "XqPeESoumw2AlzDqeBY+4Ju9pgPToBDpoOsgXrgavRqsaDMIcxwvw+6pIaEgVgUwXrR+LPzGB+zv\n",
       "93RgGhQiHShPITfpKSzkVnS9YU6uHpvjV2HoOqSkxSVVzPhpt2kdKwfKDCRklSGOZqDmDXHiA+zy\n",
       "T/tcuaT34hbYvIfYQax+qXkDUQ62naG/ORLnt/gzJTk/hYr2skp1w5MEe2CueWDl2Gnxd27qf2UN\n",
       "1FvBvR7LAAAAAElFTkSuQmCC\n",
       "\" style=\"display:inline;vertical-align:middle;\" /></a></span></td></tr>\n",
       "<tr><td>&nbsp;</td><td colspan=4 style-\"text-align:left\"><a class=\"ProveItLink\" href=\"../../../../../logic/equality/_theory_nbs_/axioms.ipynb#substitution\">proveit.logic.equality.substitution</a></td></tr><tr><td><a name=\"0x46ea3ad720b62dfd_step3\">3</a></td><td>assumption</td><td></td><td><span style=\"font-size:20px;\"><a class=\"ProveItLink\" href=\"../../../../../logic/equality/__pv_it/theorems/8dc625ee9fbf5f96228c059ed58b16ec83d4e40d0/expr.ipynb\"><img src=\"data:image/png;base64,iVBORw0KGgoAAAANSUhEUgAAADMAAAANBAMAAAD2/0vEAAAAMFBMVEX///8AAAAAAAAAAAAAAAAA\n",
       "AAAAAAAAAAAAAAAAAAAAAAAAAAAAAAAAAAAAAAAAAAAv3aB7AAAAD3RSTlMAEHarMolUmd1mIs3v\n",
       "RLtmgJDEAAAACXBIWXMAAA7EAAAOxAGVKw4bAAAAmUlEQVQY02NgEFIWCU1gQAGM6hMYhIF0AZMR\n",
       "ewOQZu8AAwMgk5XtAMN8BgbOBZwfmSeg6nIDqrVjYGBhYN/AgAYEeBQYDoEYQBod3Bdg+QKmFzAK\n",
       "oNrFUM3AdICBQe6CDQMruq7HDHxAJfmONQzX0KWKGe4DXSauxFaZgC4lHFS/gAEXiMYhzrqB8RgO\n",
       "KQ4F5gAcUmyTaoEkAEh8IT7vWgQmAAAAAElFTkSuQmCC\n",
       "\" style=\"display:inline;vertical-align:middle;\" /></a> <a class=\"ProveItLink\" href=\"../../../__pv_it/_proof_exp_eq/276c4ebb34a4a5319cb0cc822d5c4c4923b4578f0/proof.ipynb\" style=\"text-decoration: none\">&nbsp;&#x22A2;&nbsp;&nbsp;</a><a class=\"ProveItLink\" href=\"../../../../../logic/equality/__pv_it/theorems/8dc625ee9fbf5f96228c059ed58b16ec83d4e40d0/expr.ipynb\"><img src=\"data:image/png;base64,iVBORw0KGgoAAAANSUhEUgAAADMAAAANBAMAAAD2/0vEAAAAMFBMVEX///8AAAAAAAAAAAAAAAAA\n",
       "AAAAAAAAAAAAAAAAAAAAAAAAAAAAAAAAAAAAAAAAAAAv3aB7AAAAD3RSTlMAEHarMolUmd1mIs3v\n",
       "RLtmgJDEAAAACXBIWXMAAA7EAAAOxAGVKw4bAAAAmUlEQVQY02NgEFIWCU1gQAGM6hMYhIF0AZMR\n",
       "ewOQZu8AAwMgk5XtAMN8BgbOBZwfmSeg6nIDqrVjYGBhYN/AgAYEeBQYDoEYQBod3Bdg+QKmFzAK\n",
       "oNrFUM3AdICBQe6CDQMruq7HDHxAJfmONQzX0KWKGe4DXSauxFaZgC4lHFS/gAEXiMYhzrqB8RgO\n",
       "KQ4F5gAcUmyTaoEkAEh8IT7vWgQmAAAAAElFTkSuQmCC\n",
       "\" style=\"display:inline;vertical-align:middle;\" /></a></span></td></tr>\n",
       "</table>"
      ],
      "text/plain": [
       "\tstep type\trequirements\tstatement\n",
       "0\tgeneralization\t1\t|- forall_{a, x, y in Complex | x = y} (x^{a} = y^{a})\n",
       "1\tinstantiation\t2, 3\t{x = y} |- x^{a} = y^{a}\n",
       "\tf(x) : x^{a}, x : x, y : y\n",
       "2\taxiom\t\t|- forall_{f, x, y | x = y} (f(x) = f(y))\n",
       "\tproveit.logic.equality.substitution\n",
       "3\tassumption\t\t{x = y} |- x = y"
      ]
     },
     "execution_count": 5,
     "metadata": {},
     "output_type": "execute_result"
    }
   ],
   "source": [
    "%qed"
   ]
  },
  {
   "cell_type": "code",
   "execution_count": null,
   "metadata": {},
   "outputs": [],
   "source": []
  }
 ],
 "metadata": {
  "kernelspec": {
   "display_name": "Python 3",
   "language": "python",
   "name": "python3"
  }
 },
 "nbformat": 4,
 "nbformat_minor": 0
}