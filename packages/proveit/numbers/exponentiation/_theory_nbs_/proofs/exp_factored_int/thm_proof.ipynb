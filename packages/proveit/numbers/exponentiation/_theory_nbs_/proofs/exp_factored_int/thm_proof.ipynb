{
 "cells": [
  {
   "cell_type": "markdown",
   "metadata": {},
   "source": [
    "Proof of <a class=\"ProveItLink\" href=\"../../../../../_theory_nbs_/theory.ipynb\">proveit</a>.<a class=\"ProveItLink\" href=\"../../../../_theory_nbs_/theory.ipynb\">numbers</a>.<a class=\"ProveItLink\" href=\"../../theory.ipynb\">exponentiation</a>.<a class=\"ProveItLink\" href=\"../../theorems.ipynb#exp_factored_int\">exp_factored_int</a> theorem\n",
    "========"
   ]
  },
  {
   "cell_type": "code",
   "execution_count": 1,
   "metadata": {},
   "outputs": [],
   "source": [
    "import proveit\n",
    "theory = proveit.Theory() # the theorem's theory"
   ]
  },
  {
   "cell_type": "code",
   "execution_count": 2,
   "metadata": {},
   "outputs": [
    {
     "data": {
      "text/html": [
       "With these <a href=\"allowed_presumptions.txt\">allowed</a>/<a href=\"disallowed_presumptions.txt\">disallowed</a> theorem/theory presumptions (e.g., to avoid circular dependencies), we begin our proof of<br><strong id=\"exp_factored_int\">exp_factored_int:</strong> <a class=\"ProveItLink\" href=\"../../../__pv_it/theorems/63a377d9476bf1d0a5e6a0e556aaf9c6ef9e8e8d0/expr.ipynb\"><img src=\"data:image/png;base64,iVBORw0KGgoAAAANSUhEUgAAAZcAAAAaCAMAAABM4eGNAAAAOVBMVEX///8AAAAAAAAAAAAAAAAA\n",
       "AAAAAAAAAAAAAAAAAAAAAAAAAAAAAAAAAAAAAAAAAAAAAAAAAAAAAAACXHtMAAAAEnRSTlMAq1Rm\n",
       "mUTNIjK7EInv3Xbt5cmRiLwgAAAACXBIWXMAAA7EAAAOxAGVKw4bAAAEnUlEQVRo3u1aB27dMAzV\n",
       "ljWstL7/YattWcvjJ0CLWmgCJv9RoUlx6LkAvOtsLUz86P5qW14nX1qYHn6E6pnexcU3+42kn8jr\n",
       "/tFClW/08kzv4jIuHXnKSS7eAPSXZFUd24yB8r6eK1EGm7mOwoZ5SAaeaPy/S+DqPK8SGHJfD4CV\n",
       "gkVPw7JyG/aQjmsKvRfgnoX4DYkvJLrjb8zu6wFiS5Kc1kBCXDrG8KdQeIHkVsX4GxPvq7rLu/ZC\n",
       "4H09oE/HAIcwsaHITRbCAt9+c1xb7U13njW6rwe2s5MuHUIYGQLCUsHyAotRUugNSejydYu39R6L\n",
       "B3qAuUhNZ2zt2wuWueztAo5RYm9IYpdvPE6MeaIHOMHYTAc5SjAyKkbApAYVBL26pdUbknCJTAeU\n",
       "Q2W4ua93QbGPoCnjgkD8xCDk3+We2Vx61VR0Vt97zhOxmlDtan9bnMhaLNjqDRWLAPQRaWCOAofp\n",
       "W/fZVsUIZPkJWrIIaqGI/Tc+SR1AxQm1kElBV77BKmXU2KhzVsRb0DGaBU9IjX0QLh+kqHdBcYTg\n",
       "aXKIgksV1TzDYqAQboxznUtx1ZBFCWCvRkDJTh2dAfh2AhGTIpBuxVTMGCwJpznoLaCt3hpQxBu4\n",
       "Xq/uUW+oKLdU6MYIehCQ6XR9QpaU6/ZjLE1NFmWADf6COAbDHXqAMLRPIOO4QJ7NyINoj8EizVET\n",
       "rQVMDs69FqWnbuTLUDEFbojgqYYkgWVOxtE1yj2swXsNtp8ZSSqyyODDQSQNKTQGZE5oskfpw2xU\n",
       "KM4qmC6LW0WXwVobjkq0rFR7Owj+lZv7GG+dcA/6S6p/Q8U9LQaIJR2zJCgUj02ga+wvpSh6o7J3\n",
       "zuzCSBbJ8uxhjpaaFBoDMic02aOMSzaKCLe+7BeOt4UVH4wKAOEBgLOGoxItK9VSwFAE56EwY6Gr\n",
       "LEjQu6A4RFTzmGN2YEHXuIeguIiLbciiJosKAJCmvDxFUmgCSJzQGHKISzYqmIOLW5w2YwYrNp+S\n",
       "oxItK0WbehlvEcK4mYdcfx2Sbh/niiME1rUAl4KucTHCLJw7FOqYoqgiiwqAdaiyTopkQiKF5gBf\n",
       "3MeQQ1yyUT5+IpVgB93QmMFCsDTHp5KOqVSwUosY3CIkNGrh0Fx+lZgO+bniCJGfoH6UQNdg651F\n",
       "gbK/UKrkkSwqABQt7gwnRKyNQ8DOCY33OPSCbJTz7a/fybdl349GHepY9HjJUYmWleq8ytKPXjo+\n",
       "19s7FK6FA11DHV2zXzPDnOz6vlQFWbQDlE9IukZAIoWGgJ0T6kE6+ZKNKlhW4KgRCiujOn2/5KhE\n",
       "y0p1GBbykPkgHzImRz55QNdwEbOMMsMUkIQwW+TRThZlAIbQ5qVw44gHJFJoCOj8kQLSxqXkkApW\n",
       "wt4riQRHo45lnNcclWh3FG13nr/JmhCX+rO4YFgL3egpVw+q1ETfChhAJvcX1CNORjx4e2ds95S9\n",
       "PwMfMuvwM0Z+5bVwubXJHwfM48JubUn4KedGei6QD6l1+REl/8H7ffzzgGlcEL23pTo7BQMGDT3s\n",
       "FOiDDvOv/H+Yb3mpLR9+jh+OVvj5SEbkQfgDqloxIpbr0ToAAAAASUVORK5CYII=\n",
       "\" style=\"display:inline;vertical-align:middle;\" /></a><br>(see <a class=\"ProveItLink\" href=\"../../../__pv_it/theorems/4d04f8b910673291fdd001535a098a72e1dd8f2b0/dependencies.ipynb\">dependencies</a>)<br>"
      ],
      "text/plain": [
       "<IPython.core.display.HTML object>"
      ]
     },
     "metadata": {},
     "output_type": "display_data"
    }
   ],
   "source": [
    "%proving exp_factored_int"
   ]
  },
  {
   "cell_type": "code",
   "execution_count": null,
   "metadata": {},
   "outputs": [],
   "source": []
  }
 ],
 "metadata": {
  "kernelspec": {
   "display_name": "Python 3",
   "language": "python",
   "name": "python3"
  }
 },
 "nbformat": 4,
 "nbformat_minor": 0
}