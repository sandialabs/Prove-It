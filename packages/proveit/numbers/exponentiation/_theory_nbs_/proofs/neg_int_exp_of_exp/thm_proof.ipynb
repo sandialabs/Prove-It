{
 "cells": [
  {
   "cell_type": "markdown",
   "metadata": {},
   "source": [
    "Proof of <a class=\"ProveItLink\" href=\"../../../../../_theory_nbs_/theory.ipynb\">proveit</a>.<a class=\"ProveItLink\" href=\"../../../../_theory_nbs_/theory.ipynb\">numbers</a>.<a class=\"ProveItLink\" href=\"../../theory.ipynb\">exponentiation</a>.<a class=\"ProveItLink\" href=\"../../theorems.ipynb#neg_int_exp_of_exp\">neg_int_exp_of_exp</a> theorem\n",
    "========"
   ]
  },
  {
   "cell_type": "code",
   "execution_count": 1,
   "metadata": {},
   "outputs": [],
   "source": [
    "import proveit\n",
    "theory = proveit.Theory() # the theorem's theory"
   ]
  },
  {
   "cell_type": "code",
   "execution_count": 2,
   "metadata": {},
   "outputs": [
    {
     "data": {
      "text/html": [
       "With these <a href=\"allowed_presumptions.txt\">allowed</a>/<a href=\"disallowed_presumptions.txt\">disallowed</a> theorem/theory presumptions (e.g., to avoid circular dependencies), we begin our proof of<br><strong id=\"neg_int_exp_of_exp\">neg_int_exp_of_exp:</strong> <a class=\"ProveItLink\" href=\"../../../__pv_it/theorems/7ab0b6e87de22a30f992c494e093532ab88a3b6b0/expr.ipynb\"><img src=\"data:image/png;base64,iVBORw0KGgoAAAANSUhEUgAAAWUAAAAmCAMAAAAr4Hr/AAAAOVBMVEX///8AAAAAAAAAAAAAAAAA\n",
       "AAAAAAAAAAAAAAAAAAAAAAAAAAAAAAAAAAAAAAAAAAAAAAAAAAAAAAACXHtMAAAAEnRSTlMAq1Rm\n",
       "mUTNIjK7EInv3Xbt5cmRiLwgAAAACXBIWXMAAA7EAAAOxAGVKw4bAAAE9klEQVRo3t1bi5ajKhCU\n",
       "lzxl7/X/P3YBBRqErMHNaoYzM2eOSTdYNNVdHTNNwwOvbpDpzkHx9MChZpVX6EFSF5xhdPftUDQ9\n",
       "coilwNV8Ncpknh46CPoxKItLq//skPinoDzrmybGvPOCzdQMkf1mlHE3qYhZfpQOWHcK2kwZ34zy\n",
       "0g9l9MkoV6g/BUtX+cp/AsriRX1kxCcLG/ZiilzDSf0TUEbwyPJqA6xF6nA5HnhKhLV0/AwVU1QO\n",
       "dcp6xPwElKEesqU4sa5cDXfNbOPAE2acqeGD8/K5mKJyiGmmDAxQzlBhMoLyuP1Fwsgw4YojJYm1\n",
       "tD0uiSvrXxrWY0yCKZSuHLJ8whYKUN5oJnAKH0F53P5aol+BoG3Q8p7jN54UMg6/ROQinJl3dhSa\n",
       "b3e9TyFM5VBklOkMUBYxGLkcYoxx+2u0nKGldcD6DTB458x2bqR0GsyQG45gisJhZozJrpCXY1rU\n",
       "eAjlcftLw2SmOoSl40wiu5mH+7tfBB6tQ5Z6CujQWlDPC7AGsofC202BHeVh+2vJL3ExPkwsaL7Z\n",
       "+cDMzC/b6uEkElgHTgEdSg4yB4Y7bRY/jB5Eedj+L5UYNE7Mkba8rir0eCHU9AeVR6OAAayp0hID\n",
       "yjREtlSjKI/aV5q0teg+ArlOitHKfCaSde1wom9HFzDyprT9+ff3s3zx0mohyhzFP51EY6Sm7qeH\n",
       "cte+JfatpAhGyKuUqUP5orXVjUIuobzgvT9DAmL1Is1gJHf8hRWpFx2OBqltucGHoWbHO7FISnd5\n",
       "4d6xVV1V0rEHYj+6UhL5YgioT/nqxIaV26IKjYG2pvnM9h9dm80NsY4K6bXfLFGnzt5KC5SxbeUu\n",
       "Svcc6fZUYE762q9tD8R+cuU2K3g8hTLiycfK+7G8o2xk4MJ6s9loLHf8vZM6SpQdRMTWkryQTbTF\n",
       "n1lhJ3snhojVvOonJFeKCFb1HSDKhfGeZXggRoP/xBgqsCA5RC5exni55+8dlG2JssZb0QskOcyW\n",
       "E+Gt6jKjHO0n5dgla99d7GdXmB8a4DApR2MadNYv90v21ttCDtkvXZF2QwVvWqWagQxqpZ6/kTJo\n",
       "R5nvNT6Q5Azclzvm+mW3KNp7BeRUZ9VPyK6IIqqPcmm8H4ANZWMPINiqVvNg4+Vw6Ohogdnx90Yh\n",
       "WNbLfs9iqCZJTuZNuft36pBVler35KK950iLqn5CdiUEE32UC+N4ADbGWA+60qS7FxsnKGS14MhW\n",
       "EyyjxNrx904/i/X0Z5LkIscAw4K06pdj51P58y5J3I9d7ANXe/YDyVg2jD1j/Pe/DIzRyX4TKBKX\n",
       "F0DwZbpr5E/MapSBJM8qQ4dTw5YT/WXjmZU5WvAtwST2syuuQ92um/VyMoY9qNAZYMeZaK4dyItD\n",
       "Te97KkcvUwdlIMm5jIUcQu7wyBmdQJlRgoO58FVBFPvJlS8jHH1Q0WSMZFwqSadKqGp0PlXZWWiH\n",
       "srwN5EmiqduxgnWVP7Pszwq78+o5V20YsD1XAxy7B43Ozk0jV0Gf+0SKnfTcBuhEf08CnuCdTbE3\n",
       "gsxyLvkcymf5sIkyPlEYEDM9eugcKfd/ujocbZfE7z8YQK5+81Mven4yyBYcta9+Tu6jz7b8xVD+\n",
       "bpTJg4PZwrV99/PLM3kqyLx4qOa7UfZNvEcOtRR9l2so3/69Ej4/8zlxmVG5/L2SJ5zMRyZAdagx\n",
       "fwMiHSva/tdQJwAAAABJRU5ErkJggg==\n",
       "\" style=\"display:inline;vertical-align:middle;\" /></a><br>(see <a class=\"ProveItLink\" href=\"../../../__pv_it/theorems/cbacb8b00650559b8518054fe2a6e1762cf59c0d0/dependencies.ipynb\">dependencies</a>)<br>"
      ],
      "text/plain": [
       "<IPython.core.display.HTML object>"
      ]
     },
     "metadata": {},
     "output_type": "display_data"
    }
   ],
   "source": [
    "%proving neg_int_exp_of_exp"
   ]
  },
  {
   "cell_type": "code",
   "execution_count": null,
   "metadata": {},
   "outputs": [],
   "source": []
  }
 ],
 "metadata": {
  "kernelspec": {
   "display_name": "Python 3",
   "language": "python",
   "name": "python3"
  }
 },
 "nbformat": 4,
 "nbformat_minor": 0
}