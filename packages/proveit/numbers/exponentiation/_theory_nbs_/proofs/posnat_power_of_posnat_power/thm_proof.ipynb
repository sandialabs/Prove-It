{
 "cells": [
  {
   "cell_type": "markdown",
   "metadata": {},
   "source": [
    "Proof of <a class=\"ProveItLink\" href=\"../../../../../_theory_nbs_/theory.ipynb\">proveit</a>.<a class=\"ProveItLink\" href=\"../../../../_theory_nbs_/theory.ipynb\">numbers</a>.<a class=\"ProveItLink\" href=\"../../theory.ipynb\">exponentiation</a>.<a class=\"ProveItLink\" href=\"../../theorems.ipynb#posnat_power_of_posnat_power\">posnat_power_of_posnat_power</a> theorem\n",
    "========"
   ]
  },
  {
   "cell_type": "code",
   "execution_count": 1,
   "metadata": {},
   "outputs": [],
   "source": [
    "import proveit\n",
    "theory = proveit.Theory() # the theorem's theory"
   ]
  },
  {
   "cell_type": "code",
   "execution_count": 2,
   "metadata": {},
   "outputs": [
    {
     "data": {
      "text/html": [
       "With these <a href=\"allowed_presumptions.txt\">allowed</a>/<a href=\"disallowed_presumptions.txt\">disallowed</a> theorem/theory presumptions (e.g., to avoid circular dependencies), we begin our proof of<br><strong id=\"posnat_power_of_posnat_power\">posnat_power_of_posnat_power:</strong> <a class=\"ProveItLink\" href=\"../../../__pv_it/theorems/dcad704e09957cc19a1a852c64467f4ac59069b20/expr.ipynb\"><img src=\"data:image/png;base64,iVBORw0KGgoAAAANSUhEUgAAASUAAAAXBAMAAAC/jERWAAAAMFBMVEX///8AAAAAAAAAAAAAAAAA\n",
       "AAAAAAAAAAAAAAAAAAAAAAAAAAAAAAAAAAAAAAAAAAAv3aB7AAAAD3RSTlMAq1RmmUTNIjK7EInv\n",
       "3XZ/CtNrAAAACXBIWXMAAA7EAAAOxAGVKw4bAAADX0lEQVRIx8VWTWgTURCeNH+b3Rpz9RIiIs3B\n",
       "lhzaYquUhUYoSDHSi2iRgAepp+2xUtt4EAVLG6XFroKuFgSJ1KgV8VKqHvxDqFK1IIXUilILEgTR\n",
       "kzjvL9lsX2gDKw5MmJ39Xmb2zfdmHoDLEuSK4u0cXQ63Zegj2p+leAESEAPcl09cUaZ6E/WRcAT8\n",
       "BWZLwwmQgBxFizzBDtdSqsszJXLyC2zN+PBhhdmWbIEA5TgknADYR14cdy2nm1ypRGEEtsQAAhax\n",
       "e+UrOGjE4JATAKdJ/bOu5dTJlcpzWIVhBZmiEzupSFcIkIA0s2/QYq7lNMeV0r2In97mQ+slsRfj\n",
       "0jNRAnFIvQVerF/APTqlmVLxR5AU/d/QOkbstYRsRRnEIQHU10tLr1zLiTCaKPTPDtncd+XoShAX\n",
       "DU9dF8DlTUbMb+gP8A/1P4NrtmPWWja7l4i8oVtUCRINC7e5H4KRTeakb+gnp4zo7QR02wC7pMsc\n",
       "IFF+pGPI0lJ2X3g86tzR4MID2BtZn9N6f32K6QGAjzbgmDQnB4iLUsS8CiWKK8tmSr1g1F2xY0a3\n",
       "TcB2zfJZjpykfpHTC1B/2rDy1uQACdKTY5vuEI9JHDvaNMAeO2u7SJ8v6BrMJBeSqQ38vHbqH/AW\n",
       "bX/SKOOTEyRqN48/97BzQq7jIW3rMHWGzdDm3d8jK5N0LgDEdw5pJd6wWbneTyRUoKr+AE+6oRyn\n",
       "TbZNTpDgOGngg8gI9YPyC24RVwNDqS1P4TEsg0pbfFy7caQUm85KiV8cZKJXoVG3VXq/tHYOkK2d\n",
       "gAcr5tOVOeghrvZ2Rt/pNPzG//LTRhcHfbUUm85KiZ8ycp7p9bWz0Uw5zjtpTg6QKH+qxE28LrSa\n",
       "phk7d4h5PAXM8i14+0zzIsbOBcp9iMxKmZ/IItfK8zlfQ9s9JYw7RqjdOk93Hzmukiwz4WywmFHy\n",
       "bD/8TfapmVRkfiLNXCvLkahxirN9MsZ6rBBpqsEZA2bVPAzjTnmzOuvxLYDUYpLjs9LpFyQ3mFbI\n",
       "QC331NIdxd/ZdB+CkzRo33hGeQIHIWAEoxYMYMWV9wZ4OHIkxmal0y8OUxb4ubDJpRpycn5QzjQ5\n",
       "werKQR6ZExWgWBU/lyGu9slQyx37a9U3h6u+8Vvwn6Q6Kb3/PvhfTSQB7n14AzgAAAAASUVORK5C\n",
       "YII=\n",
       "\" style=\"display:inline;vertical-align:middle;\" /></a><br>(see <a class=\"ProveItLink\" href=\"../../../__pv_it/theorems/91d8f07bb1aac30a5f9bf8d288e44c16e70440c90/dependencies.ipynb\">dependencies</a>)<br>"
      ],
      "text/plain": [
       "<IPython.core.display.HTML object>"
      ]
     },
     "metadata": {},
     "output_type": "display_data"
    },
    {
     "name": "stdout",
     "output_type": "stream",
     "text": [
      "posnat_power_of_posnat_power may now be readily provable (assuming required theorems are usable).  Simply execute \"%qed\".\n"
     ]
    }
   ],
   "source": [
    "%proving posnat_power_of_posnat_power"
   ]
  },
  {
   "cell_type": "code",
   "execution_count": null,
   "metadata": {},
   "outputs": [],
   "source": []
  }
 ],
 "metadata": {
  "kernelspec": {
   "display_name": "Python 3",
   "language": "python",
   "name": "python3"
  }
 },
 "nbformat": 4,
 "nbformat_minor": 0
}