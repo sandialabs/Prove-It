{
 "cells": [
  {
   "cell_type": "markdown",
   "metadata": {},
   "source": [
    "Proof of <a class=\"ProveItLink\" href=\"../../../../../_theory_nbs_/theory.ipynb\">proveit</a>.<a class=\"ProveItLink\" href=\"../../../../_theory_nbs_/theory.ipynb\">numbers</a>.<a class=\"ProveItLink\" href=\"../../theory.ipynb\">exponentiation</a>.<a class=\"ProveItLink\" href=\"../../theorems.ipynb#exp_nonpos_less\">exp_nonpos_less</a> theorem\n",
    "========"
   ]
  },
  {
   "cell_type": "code",
   "execution_count": 1,
   "metadata": {},
   "outputs": [],
   "source": [
    "import proveit\n",
    "theory = proveit.Theory() # the theorem's theory"
   ]
  },
  {
   "cell_type": "code",
   "execution_count": 2,
   "metadata": {},
   "outputs": [
    {
     "data": {
      "text/html": [
       "With these <a href=\"allowed_presumptions.txt\">allowed</a>/<a href=\"disallowed_presumptions.txt\">disallowed</a> theorem/theory presumptions (e.g., to avoid circular dependencies), we begin our proof of<br><strong id=\"exp_nonpos_less\">exp_nonpos_less:</strong> <a class=\"ProveItLink\" href=\"../../../__pv_it/theorems/e208a837f2ba41a5519d85fa8d33b8deac68be850/expr.ipynb\"><img src=\"data:image/png;base64,iVBORw0KGgoAAAANSUhEUgAAAREAAAAXBAMAAADelGYUAAAAMFBMVEX///8AAAAAAAAAAAAAAAAA\n",
       "AAAAAAAAAAAAAAAAAAAAAAAAAAAAAAAAAAAAAAAAAAAv3aB7AAAAD3RSTlMAq1RmmUTNIjK7EInv\n",
       "3XZ/CtNrAAAACXBIWXMAAA7EAAAOxAGVKw4bAAADfElEQVRIx71WXUgUURT+1t1xZ2fXcaOnFGJA\n",
       "X4QMkSj0wRRNIzC2DMGCWHopfIgJegoLfVbQsrBNkAkkSMsWBSUfRIIoiCSoSAhlDSvUECHC8Klz\n",
       "79z52XUXt2C6sHPPzP3uvd+e8517LuB1C4p+vG4m67gytaFDx39oX8SGn+TtrONP9X4dF8mIsrcy\n",
       "74gUJM0+UC/PZwU0oQ9Qq4AT7O2yd0weiT4SU6MOPdeGL7FCz06gh4VywDsmjaJ/podqDWH7PxiO\n",
       "TLYxOAYcAQrpY1jzjokVkoje3yb2Vz8bLsAr+VctDRvwU4QKPZRJXBhS4+EpkUTLaYhz1RuMAv3e\n",
       "Li298Y5JgAQ70QjF0cjoezswmyW9k8IOE+Ak8CCPJev/jQn7r8lD8G9ZHx5eclhiJdVqSYd8dw3B\n",
       "aM6FKqcbrpoWF3V4LplHQIZcuCINstYKn50TPofJMRw39luTSE8hIxzLuqK8koipYcwkHSZ16DD9\n",
       "6joidxEZcXAseQmxgEjKHr9uR6cbzc5m5LSCVA7BNnWTzFXUphwmr1HMzuVggy1+lyncPOjgTCaQ\n",
       "dtDf7SBcil2wLYnlWLzOqQqbLau0hLQCHz/2GJP1eptJcAcRSnh5n24hmcnRVgFR7zg4ER0E4vjh\n",
       "JmtnsbSNMcuT7+gx2WlXBVU/UEhTJ4qNPjzmk8LBkSqbibyDoipId3ULyU2OFgVEfgEbx1uIPBqK\n",
       "4na63/jJptzzzcPSk5+t3xW1q4IfIzJ1NyqxhjbOJDA8ADeTSEoaNiykaXK0VUAqZi2ck52BqPQz\n",
       "Q0tX2OP36LykubIdvm5XVTDrZSkO4mgikdBUNXwW7ugUa31iMiGFydB2AemYFTihRPK6UrqarQwr\n",
       "p1Pl1dZLUSyjKsjz/DrxkTTXy32iSheMdMUqz/kmDClMhrYLCHpa3IrFIvdMfK/Uvwl3VRhHVzge\n",
       "wDhNl7You7lOMOsoFps4Q8810gBHmiZHK0lRQOiAKhE43qi0TeOJlm+hNKtCnxb4OrfOfF5eE0fw\n",
       "Pn1v/5YcbXafbKdYV1MFjjRNjiapmgWEmm7huGR1LFP8nIvREmuLmRe7jNuAYK4peojWHE8kXEde\n",
       "GrRCd5kmuiDHn1UGULYa28slofTro2SIzpdq34XNfYUx0edzDd/Kpzx9zzgerU6qS/4FExNtBkam\n",
       "hEsMeXsx9vz2/QcqDgNNhciX0QAAAABJRU5ErkJggg==\n",
       "\" style=\"display:inline;vertical-align:middle;\" /></a><br>(see <a class=\"ProveItLink\" href=\"../../../__pv_it/theorems/6f53a4e56bd8bdc8ec75a732ad07cd7ee6d911f20/dependencies.ipynb\">dependencies</a>)<br>"
      ],
      "text/plain": [
       "<IPython.core.display.HTML object>"
      ]
     },
     "metadata": {},
     "output_type": "display_data"
    }
   ],
   "source": [
    "%proving exp_nonpos_less"
   ]
  },
  {
   "cell_type": "code",
   "execution_count": null,
   "metadata": {},
   "outputs": [],
   "source": []
  }
 ],
 "metadata": {
  "kernelspec": {
   "display_name": "Python 3",
   "language": "python",
   "name": "python3"
  }
 },
 "nbformat": 4,
 "nbformat_minor": 0
}