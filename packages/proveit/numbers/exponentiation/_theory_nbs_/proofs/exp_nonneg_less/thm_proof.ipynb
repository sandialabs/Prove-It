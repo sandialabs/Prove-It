{
 "cells": [
  {
   "cell_type": "markdown",
   "metadata": {},
   "source": [
    "Proof of <a class=\"ProveItLink\" href=\"../../../../../_theory_nbs_/theory.ipynb\">proveit</a>.<a class=\"ProveItLink\" href=\"../../../../_theory_nbs_/theory.ipynb\">numbers</a>.<a class=\"ProveItLink\" href=\"../../theory.ipynb\">exponentiation</a>.<a class=\"ProveItLink\" href=\"../../theorems.ipynb#exp_nonneg_less\">exp_nonneg_less</a> theorem\n",
    "========"
   ]
  },
  {
   "cell_type": "code",
   "execution_count": 1,
   "metadata": {},
   "outputs": [],
   "source": [
    "import proveit\n",
    "theory = proveit.Theory() # the theorem's theory"
   ]
  },
  {
   "cell_type": "code",
   "execution_count": 2,
   "metadata": {},
   "outputs": [
    {
     "data": {
      "text/html": [
       "With these <a href=\"allowed_presumptions.txt\">allowed</a>/<a href=\"disallowed_presumptions.txt\">disallowed</a> theorem/theory presumptions (e.g., to avoid circular dependencies), we begin our proof of<br><strong id=\"exp_nonneg_less\">exp_nonneg_less:</strong> <a class=\"ProveItLink\" href=\"../../../__pv_it/theorems/62c83a3fc33482d7309660c89f8cfa71eb3075e30/expr.ipynb\"><img src=\"data:image/png;base64,iVBORw0KGgoAAAANSUhEUgAAAREAAAAXBAMAAADelGYUAAAAMFBMVEX///8AAAAAAAAAAAAAAAAA\n",
       "AAAAAAAAAAAAAAAAAAAAAAAAAAAAAAAAAAAAAAAAAAAv3aB7AAAAD3RSTlMAq1RmmUTNIjK7EInv\n",
       "3XZ/CtNrAAAACXBIWXMAAA7EAAAOxAGVKw4bAAADfklEQVRIx71WX0gUQRz+3Z+93du921OKwII4\n",
       "SIQejEWkUOj08E8RWJYhVJD3FvQQ22tYXL0qaJnUJcgKEuRRHQqKQnIIYRCFL1Evwl5YoZL4Eic+\n",
       "NX93965bsWAbuJ1vf/ftzDcz329mALwuIqvlmU290v8krsN/KF9Z/VIfqtgfiV9HoAq/HfNOiD/H\n",
       "QDsMViSQuKoBdOC3G94pec7BWyjY0Tp7emj8JsB9vJTD3ilp43YowsgUD54+Z9uExhsBQgaAEvdO\n",
       "SZ6DZelXM4M/FxwEGo8YEEArFPLQJimOLjdsanQW3phOBo2H0O/D6up775QEkWHlrcMD0/ZydGkc\n",
       "rWkwwbCCMucswLN9NNn6b0rwWINQMLssIYcsKyj+PLQwHEBzdxvEKteG6meTtygiplYWc3t3LI1C\n",
       "KS+K+j0FLcYBi2IreRBcgRq+ishPYUPprtxqIdOtKjCXs5Uk4AodmGOLLP0o+8jJQ05Ebaeh07nn\n",
       "WqtjREz4yDvbRmpMF8O2p9GOo0KzaSt5BzG8EYhJw2rXhrSoIzaPKQGrvzLH9hnSDoMCzrFUAo8l\n",
       "MYcDW2fWUBNCAXxk28NKNlotJeIuRNDcStU6Z2JI2PbBEhjnPL46IBRhyqmFZ3EnqDzJ/SvoMY32\n",
       "N/mzVMQd6zUh9OmrmDEIL8gIFXFcs5RIuxDVQHiscyaBhO04WALLlEdK2AR51JeHUn+xne0hhLlF\n",
       "A7j9fvQWbJWwugCMS6i6Uw/r0EOUBMeGwakkYgpjBmdSSNj2wSLPdxOelZ3+ncm8ULZ31qXxMwl9\n",
       "miPbwZfGy6lSdUXyPAJH4WQmk4mrqnIJnKsTiw+yRhGTQcy2DhAxmaY85sQVkM+btQ0VnTixeIGf\n",
       "P1GeNa/1cDMen5Qn14lPyHMDZE5U4ZpR6lh5nnSCmQxiNj9AxOp0iWPhy55ZP8vBXQ4i+lCPkYV+\n",
       "JRWELPpc2EbZTXwCC7ZjYQsuouc6mlLCpJCw5Rw5QOSDus0jpdFdhpKSl8oPShDaTsygyQ5+W9zA\n",
       "c17blALxKYr3fs9Ndjp3NmK1Jg0Ik0LClpbIASIb4OARy5Zdj+RVUvDMRU0fN3L5bYCtbVzWw6iD\n",
       "bCbj2PJKqMd1B6Rsv8vAZfcbhz/R4aJXMFjlM3v/+My9Qcq+6vb3vf0cTz9KXwO8EhK5v1BC2TQd\n",
       "JZRwmSfeXow9v33/Bne/At70Y1D1AAAAAElFTkSuQmCC\n",
       "\" style=\"display:inline;vertical-align:middle;\" /></a><br>(see <a class=\"ProveItLink\" href=\"../../../__pv_it/theorems/5811f0daa7b968f4cb64a3776a26e5a6b01a2e420/dependencies.ipynb\">dependencies</a>)<br>"
      ],
      "text/plain": [
       "<IPython.core.display.HTML object>"
      ]
     },
     "metadata": {},
     "output_type": "display_data"
    }
   ],
   "source": [
    "%proving exp_nonneg_less"
   ]
  },
  {
   "cell_type": "code",
   "execution_count": null,
   "metadata": {},
   "outputs": [],
   "source": []
  }
 ],
 "metadata": {
  "kernelspec": {
   "display_name": "Python 3",
   "language": "python",
   "name": "python3"
  }
 },
 "nbformat": 4,
 "nbformat_minor": 0
}