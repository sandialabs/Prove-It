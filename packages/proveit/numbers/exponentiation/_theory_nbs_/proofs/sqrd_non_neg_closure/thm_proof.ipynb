{
 "cells": [
  {
   "cell_type": "markdown",
   "metadata": {},
   "source": [
    "Proof of <a class=\"ProveItLink\" href=\"../../../../../_theory_nbs_/theory.ipynb\">proveit</a>.<a class=\"ProveItLink\" href=\"../../../../_theory_nbs_/theory.ipynb\">numbers</a>.<a class=\"ProveItLink\" href=\"../../theory.ipynb\">exponentiation</a>.<a class=\"ProveItLink\" href=\"../../theorems.ipynb#sqrd_non_neg_closure\">sqrd_non_neg_closure</a> theorem\n",
    "========"
   ]
  },
  {
   "cell_type": "code",
   "execution_count": 1,
   "metadata": {},
   "outputs": [],
   "source": [
    "import proveit\n",
    "theory = proveit.Theory() # the theorem's theory"
   ]
  },
  {
   "cell_type": "code",
   "execution_count": 2,
   "metadata": {},
   "outputs": [
    {
     "data": {
      "text/html": [
       "With these <a href=\"allowed_presumptions.txt\">allowed</a>/<a href=\"disallowed_presumptions.txt\">disallowed</a> theorem/theory presumptions (e.g., to avoid circular dependencies), we begin our proof of<br><strong id=\"sqrd_non_neg_closure\">sqrd_non_neg_closure:</strong> <a class=\"ProveItLink\" href=\"../../../__pv_it/theorems/299bd9909e5be91c2bbba8e734366d4b14057bce0/expr.ipynb\"><img src=\"data:image/png;base64,iVBORw0KGgoAAAANSUhEUgAAAJkAAAAaBAMAAABWVuP/AAAAMFBMVEX///8AAAAAAAAAAAAAAAAA\n",
       "AAAAAAAAAAAAAAAAAAAAAAAAAAAAAAAAAAAAAAAAAAAv3aB7AAAAD3RSTlMAq1RmmUTNIjK7EInv\n",
       "3XZ/CtNrAAAACXBIWXMAAA7EAAAOxAGVKw4bAAACuUlEQVQ4y5VVTWgTURCemE32L3lJ0ZMHCSh4\n",
       "kEqg4CFI2eC/Iq4WBOnBYA+CiGxB8FJsBKGCSkJL1USMG/AiFQwWLCqUXrSKCN486GpEEFpFSsG/\n",
       "HKzzNvteN5ss2Q5k3+T9fG9mvpk3AEFEedZjdlyQJu1Bna0FgQnr9iCA8Lbzhqlx+u2HE7inq2xp\n",
       "Dgld/OOzg0zg5yUkDLHY1cOcY6LpiwbhCogNiKXQwC4ip5mmtnoaPlv69WHC0eelBsTTEMfQJunE\n",
       "Zh+0Ea5d97Agi8nI+rJt/xMd0WJ1IAi1h86c9kE7xBSx7LVarEHxEl3J5qmniRQoDQB7xi+AP5ly\n",
       "Hi60o+2L4tGevMMCwBBAFF1QU53B0APHtFtXDja1BcvKcTQZlA0G/fcDjuL3AMYQAx31Y5+FPray\n",
       "smQrxxddtm2sgmI62Usv+46/N5b12gctRM0Ynr3IJ8QzLk+lcU+4TyL0foCyX4JgPCPzcJfzGTVW\n",
       "0V58+ujhuYAhHAYx6ZrqfZw9xw/jwoM0HOaLURcL0xm0XCqh3HTmRrEMZVPVWdQ/l3Siwgwr4bgG\n",
       "cATgPce4ZqEUHU/LfR5XHiLOujq/cTeaSghk6i7bXoHC8wTuuzPksuzxdJQmS44W2FT/DBBaR4i2\n",
       "qK2iKf8gvMT3x91owpgnTQs0qo+QKOWd9Lt5M1HFCqvOUBGUZWR2K0+ZugtNKX5p5xRG0B9Bk+Zg\n",
       "wD4g3OZXkjmACvRqGj9wahVNgz5Zb0HbaVuA7sZ0rNkdyE+KEPUYW45gLVS/jW3K8wPVSZO9IX8N\n",
       "+cZyC1qW02HIGfOqbQ+JDPLoPm9LwcE7Vs7v/RpiSswoDJg2R5ghT7W2NyRQ82hwn3Ztn8bappX4\n",
       "tXZvL8+vtaCFk56WUSq1xjWUWgNa3AjYFwJJ174A24KDde9ZrJ8GEQE5/A+bm6fzdFrwrAAAAABJ\n",
       "RU5ErkJggg==\n",
       "\" style=\"display:inline;vertical-align:middle;\" /></a><br>(see <a class=\"ProveItLink\" href=\"../../../__pv_it/theorems/cdadf319f55bca74f0244bfc6561de7abe738e8c0/dependencies.ipynb\">dependencies</a>)<br>"
      ],
      "text/plain": [
       "<IPython.core.display.HTML object>"
      ]
     },
     "metadata": {},
     "output_type": "display_data"
    },
    {
     "name": "stdout",
     "output_type": "stream",
     "text": [
      "sqrd_non_neg_closure may now be readily provable (assuming required theorems are usable).  Simply execute \"%qed\".\n"
     ]
    }
   ],
   "source": [
    "%proving sqrd_non_neg_closure"
   ]
  },
  {
   "cell_type": "code",
   "execution_count": null,
   "metadata": {},
   "outputs": [],
   "source": []
  }
 ],
 "metadata": {
  "kernelspec": {
   "display_name": "Python 3",
   "language": "python",
   "name": "python3"
  }
 },
 "nbformat": 4,
 "nbformat_minor": 0
}