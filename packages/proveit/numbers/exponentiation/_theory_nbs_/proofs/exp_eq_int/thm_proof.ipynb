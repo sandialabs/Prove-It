{
 "cells": [
  {
   "cell_type": "markdown",
   "metadata": {},
   "source": [
    "Proof of <a class=\"ProveItLink\" href=\"../../../../../_theory_nbs_/theory.ipynb\">proveit</a>.<a class=\"ProveItLink\" href=\"../../../../_theory_nbs_/theory.ipynb\">numbers</a>.<a class=\"ProveItLink\" href=\"../../theory.ipynb\">exponentiation</a>.<a class=\"ProveItLink\" href=\"../../theorems.ipynb#exp_eq_int\">exp_eq_int</a> theorem\n",
    "========"
   ]
  },
  {
   "cell_type": "code",
   "execution_count": 1,
   "metadata": {},
   "outputs": [],
   "source": [
    "import proveit\n",
    "theory = proveit.Theory() # the theorem's theory"
   ]
  },
  {
   "cell_type": "code",
   "execution_count": 2,
   "metadata": {},
   "outputs": [
    {
     "data": {
      "text/html": [
       "With these <a href=\"allowed_presumptions.txt\">allowed</a>/<a href=\"disallowed_presumptions.txt\">disallowed</a> theorem/theory presumptions (e.g., to avoid circular dependencies), we begin our proof of<br><strong id=\"exp_eq_int\">exp_eq_int:</strong> <a class=\"ProveItLink\" href=\"../../../__pv_it/theorems/4be870b11a947b178bca3d3247831f7b90fe67cb0/expr.ipynb\"><img src=\"data:image/png;base64,iVBORw0KGgoAAAANSUhEUgAAANcAAAAXBAMAAABqu8cyAAAAMFBMVEX///8AAAAAAAAAAAAAAAAA\n",
       "AAAAAAAAAAAAAAAAAAAAAAAAAAAAAAAAAAAAAAAAAAAv3aB7AAAAD3RSTlMAq1RmmUTNIjK7EInv\n",
       "3XZ/CtNrAAAACXBIWXMAAA7EAAAOxAGVKw4bAAACxUlEQVRIx61WTWgTQRT+kuwmm90mVjxVQQL2\n",
       "4EWJpSj2kFba+nOoFioebW6Cp9XepErstYUqohgF2YIINhhDKwo9lCCIiijxIHoJbKQiWii9SHr0\n",
       "zezMpg2zbSF5kJ03771538z7mQnQBoqJ0VxctVV6LrfRHvopxhf2rNIll18mppPNDrWEFS4JZggz\n",
       "SgMuT6aBYTa70hLYM8m8Q01p4MmvArdZzO+0BDYoU1PHvXlVyjx5LxB1ACvVElhZMu+Nf30qA0/e\n",
       "4SBCoYy2lrKs5C72rKZVFp48Sr/P1eqnlsA0qg9zbf/0giqCK2nMCd6iWjwLPNrZ40Cwiu1YQ80d\n",
       "8SUjVUZfGUC4jH4hjVAEriHWGego9PHVY46zTQklKOMn0O/sU+imtAq6ZLgpt3HHGlU6MWr50YRt\n",
       "FZ0dwDpoeQ6nlTqnw8UX6W+dAN2A+hjK0dExNYFdgMF32UTjjrEhWJ1VbTZDn0LmDROsnVmhC0ev\n",
       "IcQ7niVrYBOYp+YrmUkjjNDrmFfkjA6clJ0RrtBngVrb/G7UiU3aXVFaWtzjzOC5l9XruQYYV5/L\n",
       "E6W5iUdxF+b9UBkl1cnuIi4rIsJ8TNJMGzDYBiJ4YtBw4wj+YIxbFC00wIQa0sQv6fDG07KuvBlO\n",
       "YTy9qUUQyrG4J70N1Pn3AA7iOB0ghdKSFx6Rs7rvhZmIxFdgnne7e5Q5m1u+IB+ChKzDl3a8j1Wd\n",
       "UeZv0zd8wDRPzeE0lhpgTO2FkZsI+rFth76WzE2/ouzZMaeASSuroUDL9XVqCRYiDXrFB+NqiUAm\n",
       "gnqDkays+bb5voY+eHQRMynt1/JfGtB9MovYQ5If27v6oNMH42pBzERWSPAjnHBDsm6anxaR4pRp\n",
       "xymrhXy+0e3NfeaZCD64CcOZ4YAt6Y4YQu6l5lXN/raY3NrNff176zQiBz1T2glMYdI+ast/o//W\n",
       "bMJNjS55WgAAAABJRU5ErkJggg==\n",
       "\" style=\"display:inline;vertical-align:middle;\" /></a><br>(see <a class=\"ProveItLink\" href=\"../../../__pv_it/theorems/fdc861141a806a79f69b95c6ac7ab1a44603cece0/dependencies.ipynb\">dependencies</a>)<br>"
      ],
      "text/plain": [
       "<IPython.core.display.HTML object>"
      ]
     },
     "metadata": {},
     "output_type": "display_data"
    }
   ],
   "source": [
    "%proving exp_eq_int"
   ]
  },
  {
   "cell_type": "code",
   "execution_count": null,
   "metadata": {},
   "outputs": [],
   "source": []
  }
 ],
 "metadata": {
  "kernelspec": {
   "display_name": "Python 3",
   "language": "python",
   "name": "python3"
  }
 },
 "nbformat": 4,
 "nbformat_minor": 0
}