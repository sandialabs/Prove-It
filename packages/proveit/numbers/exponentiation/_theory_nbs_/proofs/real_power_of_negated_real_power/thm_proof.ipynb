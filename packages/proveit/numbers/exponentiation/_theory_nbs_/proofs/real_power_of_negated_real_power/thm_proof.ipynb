{
 "cells": [
  {
   "cell_type": "markdown",
   "metadata": {},
   "source": [
    "Proof of <a class=\"ProveItLink\" href=\"../../../../../_theory_nbs_/theory.ipynb\">proveit</a>.<a class=\"ProveItLink\" href=\"../../../../_theory_nbs_/theory.ipynb\">numbers</a>.<a class=\"ProveItLink\" href=\"../../theory.ipynb\">exponentiation</a>.<a class=\"ProveItLink\" href=\"../../theorems.ipynb#real_power_of_negated_real_power\">real_power_of_negated_real_power</a> theorem\n",
    "========"
   ]
  },
  {
   "cell_type": "code",
   "execution_count": 1,
   "metadata": {},
   "outputs": [],
   "source": [
    "import proveit\n",
    "theory = proveit.Theory() # the theorem's theory"
   ]
  },
  {
   "cell_type": "code",
   "execution_count": 2,
   "metadata": {},
   "outputs": [
    {
     "data": {
      "text/html": [
       "With these <a href=\"allowed_presumptions.txt\">allowed</a>/<a href=\"disallowed_presumptions.txt\">disallowed</a> theorem/theory presumptions (e.g., to avoid circular dependencies), we begin our proof of<br><strong id=\"real_power_of_negated_real_power\">real_power_of_negated_real_power:</strong> <a class=\"ProveItLink\" href=\"../../../__pv_it/theorems/5ee86d7ef1a9f03c5f5bc7bd5879a3169687b2f30/expr.ipynb\"><img src=\"data:image/png;base64,iVBORw0KGgoAAAANSUhEUgAAAU4AAAAmCAMAAACcXYLYAAAAOVBMVEX///8AAAAAAAAAAAAAAAAA\n",
       "AAAAAAAAAAAAAAAAAAAAAAAAAAAAAAAAAAAAAAAAAAAAAAAAAAAAAAACXHtMAAAAEnRSTlMAq1Rm\n",
       "mUTNIjK7EInv3Xbt5cmRiLwgAAAACXBIWXMAAA7EAAAOxAGVKw4bAAAEiElEQVRo3uVa25KcIBAV\n",
       "aORqJ/H/PzaACMgow8xuZqVC1e6D09XgsS/ntE7TgAvozQ6kZz0Nu4Dc7khyGRZPNt/xUGRQNKW9\n",
       "ZSAoOiacs/mJXak4vYy5fNoh052ufceWs/rOXOYXLuHOFb1jLb3BSb4xijW5csnTJbGKASvn2ptT\n",
       "Vn4jl+CXLjNFUmY8OMkh30QLd0SiSxODDN9NiYPLgzuTWhCz48G5srIRNLopOiaIrrLxHcKFO1Lw\n",
       "3qZiPrg8uKOQs90dJxdQykbI9SIgaSu7FIsMFbfbAhfW+s3856p0qU3pjud0WSCVBV8FBiilbC2V\n",
       "XY212pfY6tzWbLfqZvlrz630RUkqnc6ltKJwJzOc4A4k9/AUaoBcJwWE0Mwmj7sNxYCFdPxK342Q\n",
       "ZZeFu5zsE65FazIj0HpbkLt2IXR1jsUACQR79uH0bu9dapfZHWJBiV34sviQ5wHQnNYMCG0fWEK6\n",
       "0dnfoQDG8F3hokTlMrtToijsPiLt4pcdgjUVjR32AwtiULQokOnXKxe++CU4uiiROpwOQr9Tn5Wc\n",
       "0BQhl3e75oo0R2S57wyqxe5PRlCwFCujfekLrirv4YcVwxPZ/11ROAUkPbMH4UoXMwOZG+FxZtHq\n",
       "eyZ0TWPQPPKkDOdC4+ghhMTSkvm9dLPhy+hrLV+VIh+Y5oFHSCRKcR/OxHOFJKGScN0N0JdkI07y\n",
       "oWGhWgkXDooHThejZ83HjFQF1qdKXq69KdPwpTvyaA05R/GkEQHI/bmEsGKm0sLJAP2YiunH8GxZ\n",
       "NOAkIm1Ts5syOiOcVoWq1WKVvDc6O3y1KzvEpr6rWW0YGpG1hLvCJC/18S5ck8EGFmqoxXHD4ghn\n",
       "2rQo+yIUMEufJbsO9Yo1448ufbWzx1cbToyUM5JPvYhNx+WGRcVxchqFa9HRfCoLlcGLarZhcYQz\n",
       "bQpBhfxyfyxOjhZWt6J8QeEGAd3YPb2m6axToPT46uEdYmfHANMm7Hk6NtNMn2jhbODAAmUKqRXV\n",
       "7LVFBWfadLNlxSDOYn3DWNMfjyp1arlBFaCXA3b4arKsPXeIzPUISeAWm2Clk5Rc1mNEJ1yzQUhl\n",
       "w2lV0xoWFZxp05LHbcm+1krN5juVWwprgkYKgo3pxtJbDDt8teczvHr4nnYxrSdpCoqAZROLwrUw\n",
       "8GBxnpjE3j6uLY5w5k19sv/+o0Kyn7eiqWRpS+ddi+VDXPrhvYv1VYz77M6sXphAVQ1uk6lduGaD\n",
       "jQb5RhMMkpo9sziNzrRpMZAJWpg/kGEomjTrzEn41ODR1M+NA6NogsRVMjdel7ae80jfaHfhmgz4\n",
       "jLOZNMC8GSQ1e2ZxBmfe9KDNHI0H/Tig07WSfhqcH5uUqYYU0sZnXVV16CsG5xZN3kmfvX3QZTXV\n",
       "XUCpj41x1xfTgOuvGjyB8/lUS5UZLjre/eDH0OSvjlTZlw3acNLnLfjG77fMD444342ZL0jAf73s\n",
       "iJ/VmLuOuXHA98LT936O8N8H502/R3TBOU9jrvmO3wMIKwaF00+g7nemQT/v9JFwvy/RFZvGXeJu\n",
       "3Ujv7O0v4v4olsuZKXsAAAAASUVORK5CYII=\n",
       "\" style=\"display:inline;vertical-align:middle;\" /></a><br>(see <a class=\"ProveItLink\" href=\"../../../__pv_it/theorems/758965f709ade0ade207c20bca757d3e57227b6e0/dependencies.ipynb\">dependencies</a>)<br>"
      ],
      "text/plain": [
       "<IPython.core.display.HTML object>"
      ]
     },
     "metadata": {},
     "output_type": "display_data"
    }
   ],
   "source": [
    "%proving real_power_of_negated_real_power"
   ]
  },
  {
   "cell_type": "code",
   "execution_count": null,
   "metadata": {},
   "outputs": [],
   "source": []
  }
 ],
 "metadata": {
  "kernelspec": {
   "display_name": "Python 3",
   "language": "python",
   "name": "python3"
  }
 },
 "nbformat": 4,
 "nbformat_minor": 0
}