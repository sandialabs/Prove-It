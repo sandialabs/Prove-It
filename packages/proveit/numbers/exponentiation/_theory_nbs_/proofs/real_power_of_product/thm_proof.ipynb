{
 "cells": [
  {
   "cell_type": "markdown",
   "metadata": {},
   "source": [
    "Proof of <a class=\"ProveItLink\" href=\"../../../../../_theory_nbs_/theory.ipynb\">proveit</a>.<a class=\"ProveItLink\" href=\"../../../../_theory_nbs_/theory.ipynb\">numbers</a>.<a class=\"ProveItLink\" href=\"../../theory.ipynb\">exponentiation</a>.<a class=\"ProveItLink\" href=\"../../theorems.ipynb#real_power_of_product\">real_power_of_product</a> theorem\n",
    "========"
   ]
  },
  {
   "cell_type": "code",
   "execution_count": 1,
   "metadata": {},
   "outputs": [],
   "source": [
    "import proveit\n",
    "theory = proveit.Theory() # the theorem's theory"
   ]
  },
  {
   "cell_type": "code",
   "execution_count": 2,
   "metadata": {},
   "outputs": [
    {
     "data": {
      "text/html": [
       "With these <a href=\"allowed_presumptions.txt\">allowed</a>/<a href=\"disallowed_presumptions.txt\">disallowed</a> theorem/theory presumptions (e.g., to avoid circular dependencies), we begin our proof of<br><strong id=\"real_power_of_product\">real_power_of_product:</strong> <a class=\"ProveItLink\" href=\"../../../__pv_it/theorems/4412a6ae1b593a062a9a3bb3d4da0041bab67f4f0/expr.ipynb\"><img src=\"data:image/png;base64,iVBORw0KGgoAAAANSUhEUgAAAXUAAAAZCAMAAAD5Yk5vAAAAOVBMVEX///8AAAAAAAAAAAAAAAAA\n",
       "AAAAAAAAAAAAAAAAAAAAAAAAAAAAAAAAAAAAAAAAAAAAAAAAAAAAAAACXHtMAAAAEnRSTlMAq1Rm\n",
       "mUTNIjK7EInv3Xbt5cmRiLwgAAAACXBIWXMAAA7EAAAOxAGVKw4bAAAELUlEQVRo3u1aiZLdKAzk\n",
       "NKfJrv//Y8N92GBgJpWqfTtKZTQ1r6dlNyAJJQD8WDRlsPlR4S/bSQHXPzJ81djNr6GJAEDyjV9Y\n",
       "PiIBsPdU/zkzqPUTo1EyTffol49IBKQ4wcP8McKfIDpSrR+YFPqMMobXvtgWPZgckcyfATFO8CSv\n",
       "8fEJm18erR/bQdI30n91OqhV+mzjIxL5CyDECZ6nzc7EJ2x1gls/tiulCuzlYQRjI1fpCwub8BcA\n",
       "JpVPS6DQJ6iub36cz68ssZbb9GVHj45I4q8AKY7zOC7f8Qmio6P1L53FWZTDu/RVRzM6Iom/AqQ4\n",
       "3uvTmVYfkWBU6wGDyrBeZ3dAY2A43gru0o9pe/x5IWDliS/BQv5deV5r1rSoDd8Vt55qm1bF9cTL\n",
       "y2ZWGZIufh4MclYGH/RD2i5/TuxH5RlMX0YtqiAwryw/xDugcy5PdRB4NJ+/lW7ly75SJh+/W9An\n",
       "IDfHqPFS+zbt7DyTl0z7Z0LLV9IpbZc//0zX3m1z9eiAuIFCUNd5QrtiSKQ3hGoCeFIYV04UU2uq\n",
       "hw3g7nM0o6CaAG6NXPTk8lqpagemzey/ufwn/Foupn3aJ33Dn+W4ao9Mp5YSEnt/Jf2C4USg+QTw\n",
       "pDD2D8DSrKkOWQ6TT6jmE0BfdS28FmVHnSmzeclo6O6o3lT9Qfugb/hzW6Mbf4A0SpAKG8WqmxSQ\n",
       "mNN6gMAvWyXkCyBPJjIiqG4kGaieg4Zn8qvHwglFbdAhoJ9h5OWeA1+jbpqEzIzO1bw+pe3yl0zb\n",
       "eIVi0y5PZt+QuayRoQw1+8mcEhjyAkiDh4LwGYYJg/uq56BEOPtl/2L7A/dEJ26CjgGZ1tRe+neH\n",
       "B0CPu8zFU3q2+i3fD6e0Xf5cTUXjmYYpJ4Awy6EZjyVuFsy+sCvCY0AaPBSEVZ0I1b6aqBMRqAZI\n",
       "cW14U41i0DGg25wFlZA99s+OCVoWQW794NSmtF3+UVsLeclbBvrmxm8rgQDntBnuuHRK4BuApv4o\n",
       "IXyGURQNVM9Bw9QoVkwvasqLMegYkAvW2XgJjeIMmud4SkKVb/cnXVV9StvlB7c4t3i+vxRYSsDL\n",
       "8sdimXrkK2TTF0AqAArUeZ1SJbuql6Augfzzr/AJpC2WMegYUN6Mt37B2Ll+zdigHcZ5xNMuw1KX\n",
       "McqliSnCfIm0Vc/FlSEvDQF58FAQoXMcVdMStJrFAeMaQwjaoD1Aa82IaW9gtmIbtOuDOUowMgr7\n",
       "CSQvLYbNFa4J5K5j4MQY8AbIg4eMoIc5FJCEHF3VS9DmhmwvQUTegvYA94LHWj/fgluzVvHlcXiK\n",
       "8xpPKneSbxkP7QD6iNd+HfXut2gGaJ9btP4P6yi/PA/f3g55V8rvAiaqHzPOhcFomkywtX/wN5si\n",
       "sC/+P4IUx2wfFvxtwLvqiE44EQU/9g1j/+u3/w3v8SuqToXLbwAAAABJRU5ErkJggg==\n",
       "\" style=\"display:inline;vertical-align:middle;\" /></a><br>(see <a class=\"ProveItLink\" href=\"../../../__pv_it/theorems/578570da9672a005646b581280e32797abbbd54c0/dependencies.ipynb\">dependencies</a>)<br>"
      ],
      "text/plain": [
       "<IPython.core.display.HTML object>"
      ]
     },
     "metadata": {},
     "output_type": "display_data"
    },
    {
     "name": "stdout",
     "output_type": "stream",
     "text": [
      "real_power_of_product may now be readily provable (assuming required theorems are usable).  Simply execute \"%qed\".\n"
     ]
    }
   ],
   "source": [
    "%proving real_power_of_product"
   ]
  },
  {
   "cell_type": "code",
   "execution_count": null,
   "metadata": {},
   "outputs": [],
   "source": []
  }
 ],
 "metadata": {
  "kernelspec": {
   "display_name": "Python 3",
   "language": "python",
   "name": "python3"
  }
 },
 "nbformat": 4,
 "nbformat_minor": 0
}