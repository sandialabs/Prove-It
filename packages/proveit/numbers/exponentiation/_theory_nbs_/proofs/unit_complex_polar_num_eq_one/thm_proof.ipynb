{
 "cells": [
  {
   "cell_type": "markdown",
   "metadata": {},
   "source": [
    "Proof of <a class=\"ProveItLink\" href=\"../../../../../_theory_nbs_/theory.ipynb\">proveit</a>.<a class=\"ProveItLink\" href=\"../../../../_theory_nbs_/theory.ipynb\">numbers</a>.<a class=\"ProveItLink\" href=\"../../theory.ipynb\">exponentiation</a>.<a class=\"ProveItLink\" href=\"../../theorems.ipynb#unit_complex_polar_num_eq_one\">unit_complex_polar_num_eq_one</a> theorem\n",
    "========"
   ]
  },
  {
   "cell_type": "code",
   "execution_count": 1,
   "metadata": {},
   "outputs": [],
   "source": [
    "import proveit\n",
    "theory = proveit.Theory() # the theorem's theory"
   ]
  },
  {
   "cell_type": "code",
   "execution_count": 2,
   "metadata": {},
   "outputs": [
    {
     "data": {
      "text/html": [
       "With these <a href=\"allowed_presumptions.txt\">allowed</a>/<a href=\"disallowed_presumptions.txt\">disallowed</a> theorem/theory presumptions (e.g., to avoid circular dependencies), we begin our proof of<br><strong id=\"unit_complex_polar_num_eq_one\">unit_complex_polar_num_eq_one:</strong> <a class=\"ProveItLink\" href=\"../../../__pv_it/theorems/153f32beb0d45a96b2d6834a57c83634046c70590/expr.ipynb\"><img src=\"data:image/png;base64,iVBORw0KGgoAAAANSUhEUgAAAMgAAAAeBAMAAACbEUyfAAAAMFBMVEX///8AAAAAAAAAAAAAAAAA\n",
       "AAAAAAAAAAAAAAAAAAAAAAAAAAAAAAAAAAAAAAAAAAAv3aB7AAAAD3RSTlMAq1RmmUTNIjK7EInv\n",
       "3XZ/CtNrAAAACXBIWXMAAA7EAAAOxAGVKw4bAAAC0UlEQVRIx72WTWjTYBjH/236kSZbWxUGgyGF\n",
       "HSbioR6KnkYRlU5QwkBv4qaCOGHW0ygKKl7VlY0dul0iiCCCi6Jg56VednAUKgiDaTFST+JgFz/Y\n",
       "pb5v0nz4mo+SOp9DkuZ9+v7yPv/n/SfAv4jD+A+xRg/xU+oOTZ+zLh/LU04Z+Z4ZYdsU85hzSin1\n",
       "DHmkny7Qam3hvFMK13MR5y1IpIxfjjkbQJqehwMy4jUD8gT9S8+22HGeAPAZOEZ/XAoIiSgG5G4x\n",
       "VYywGj84vk2OyzJu0wcqB4SkJKtcKfQV2fEkhcSyiMmAmAkImZUtSEw+AkcIEYvLkvGgum/SmtTz\n",
       "GiT6OuMMSRLh6s3mWlDIACDUh9+4jmuQKDkUgEWfuZKjLgMVINTATdl+72STxjsLwpPOvoZ42gfy\n",
       "KuQyMEn0ziKR9VxJ/DuQkEXJsT2t3VAO3XKe5D3Rvt1uK54QgUDCasxmoeEPFwf0q4SZKhbu2Qoy\n",
       "tDT2wraS2ZGZGdl7JdQIJkYNC70/uABVEa8zkETuQOeKJqxj5au9XKw1/a3JT3J4PtWx0AjpAagq\n",
       "95SB9KMjvJaQ5UdMDQbJvbdA0be7cCPdsdAWNEjyIbsSo/1aOspS6xup+MfcpqvPinQRHDU4qiq1\n",
       "UEEzF1UptRgI39IfVU/AoX3myDmiRuTTtBsjNPRjD0kwmpdaaFSrgjpWBQMxQk8QVKuZ+qQudmzM\n",
       "qC61UO5ypTJHyvUyY4Ok2mZATxBFWZAZF/aMZSObWiiv6JqcXnFZiZ4wfgei8Te+1gXkoLkkaqGL\n",
       "uibiH8KPf7FKoiUoeZw17+zuArJulptaaIl0QHT6inB0wgapCdb7jiZwu/ZWJ9l3vFcw73ihWlmA\n",
       "rXG1KGolObO6mmcTNIPwF8Xza8XQJCGRzSYpiu93l0uc6AZSQLwBQQn6hvb5EulsWpnWVJQ2dvIz\n",
       "92q7QWuP/T3M8Rtbg890my/yqgAAAABJRU5ErkJggg==\n",
       "\" style=\"display:inline;vertical-align:middle;\" /></a><br>(see <a class=\"ProveItLink\" href=\"../../../__pv_it/theorems/0f2bfbd8453fcf726967d4c367268e80e88327920/dependencies.ipynb\">dependencies</a>)<br>"
      ],
      "text/plain": [
       "<IPython.core.display.HTML object>"
      ]
     },
     "metadata": {},
     "output_type": "display_data"
    }
   ],
   "source": [
    "%proving unit_complex_polar_num_eq_one"
   ]
  },
  {
   "cell_type": "code",
   "execution_count": null,
   "metadata": {},
   "outputs": [],
   "source": []
  }
 ],
 "metadata": {
  "kernelspec": {
   "display_name": "Python 3",
   "language": "python",
   "name": "python3"
  }
 },
 "nbformat": 4,
 "nbformat_minor": 0
}