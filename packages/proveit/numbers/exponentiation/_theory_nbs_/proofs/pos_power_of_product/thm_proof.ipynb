{
 "cells": [
  {
   "cell_type": "markdown",
   "metadata": {},
   "source": [
    "Proof of <a class=\"ProveItLink\" href=\"../../../../../_theory_nbs_/theory.ipynb\">proveit</a>.<a class=\"ProveItLink\" href=\"../../../../_theory_nbs_/theory.ipynb\">numbers</a>.<a class=\"ProveItLink\" href=\"../../theory.ipynb\">exponentiation</a>.<a class=\"ProveItLink\" href=\"../../theorems.ipynb#pos_power_of_product\">pos_power_of_product</a> theorem\n",
    "========"
   ]
  },
  {
   "cell_type": "code",
   "execution_count": 1,
   "metadata": {},
   "outputs": [],
   "source": [
    "import proveit\n",
    "theory = proveit.Theory() # the theorem's theory"
   ]
  },
  {
   "cell_type": "code",
   "execution_count": 2,
   "metadata": {},
   "outputs": [
    {
     "data": {
      "text/html": [
       "With these <a href=\"allowed_presumptions.txt\">allowed</a>/<a href=\"disallowed_presumptions.txt\">disallowed</a> theorem/theory presumptions (e.g., to avoid circular dependencies), we begin our proof of<br><strong id=\"pos_power_of_product\">pos_power_of_product:</strong> <a class=\"ProveItLink\" href=\"../../../__pv_it/theorems/f412eb8662ce29f871c3a66282f6c977b21e288a0/expr.ipynb\"><img src=\"data:image/png;base64,iVBORw0KGgoAAAANSUhEUgAAAS8AAAAZBAMAAACSpLXvAAAAMFBMVEX///8AAAAAAAAAAAAAAAAA\n",
       "AAAAAAAAAAAAAAAAAAAAAAAAAAAAAAAAAAAAAAAAAAAv3aB7AAAAD3RSTlMAq1RmmUTNIjK7EInv\n",
       "3XZ/CtNrAAAACXBIWXMAAA7EAAAOxAGVKw4bAAAEH0lEQVRIx81WfWgURxT/Zfcudzd7SY4WlFYI\n",
       "B4VKkbYHDVIipCcXW6UED0QQKZpSSzGCXIr/iFVOqFWwaloj7drSriilIcU7vz+g4bBIW4olLUpL\n",
       "Q2A1hfQDQwj4QQrivJ3Zzc7e5iw5RB/8bnd+N2/nzbyPecBDl6EOPJbSlP/wEa5ekAihV+DrKj4m\n",
       "n8aYrfA0nuVTc5PmtEBQ1nFcDpl/Qz6vxSsKT+N1Ui9FxDN1GrZIwifs82FubAa4Uz1dK4tnpI8V\n",
       "XW7gihyTDmEZse/UZxfrFlCkMct/eoC3YQTnfyWfybyP3OCOewR2ksv76jMskhFQpIVc2wZseemf\n",
       "4PycO8UfS1PuuE2g0eIxl67PsKSEIustYq2w+W5gNeZRdrnotDsmHQ6d77SxzhB7VkKRb52lMyHT\n",
       "NdfrsVyHZ7gx7I5Jh3BldPSnOg17XSK2YHwm/d+ceIIvlwrzPB1T79AONSRbr0u/kQ5hOXB4Ltb4\n",
       "QvotiTcKiWkvIW5bpQJ0LyW6Rkl+cY8x+j2+VNxc6mEyf0mH0ItYak4RP/P6qwD7DpFhz1/TSNrQ\n",
       "KmF3AT+abzLoUsgXLfwsNSsCCcvIK8Wyv5UO+QMvU/9eOu6vz9rIhnm2athlgcgkmshLJTqmSDda\n",
       "yohPhuUKX28lMOIdFs1/FfhPDEmHoNle7Mevm3n2UUH7jL830BL7nzqEgfl4zssdIuyysS3UsGQf\n",
       "SrTHJqpg3MT1aUQrsxj2I9gt7wRp/giiUzI/KwLo9m7/Tl6HjePAEtLm7xEef7hoQ3cNcwjb1o/D\n",
       "6OzqXBZwZcnGK/4yttKCNhwSY9yV7B509TCnEJHxSTqO3kkqtYMd55yLAEd3iTv2wMTTGKMgfjkv\n",
       "L1XevhDBDWs+pp7YFwKlNOZpbs1sKfKQgx5WuhM22BQauhf6ybsUdiL4+6Teezz22W/xOxggeqGc\n",
       "ftP6k9G/2rsFr31xCO7KrWOqYScEErZ21WMbMomsrAxV+ZyifTyfzfrJJ9HvqyaOXgM5Lcvv9VVE\n",
       "t7eLvw9icZS2oB+VWc3bF4eAveJCICv3CbDW871/eeViQc7ZTYhhce6nI//ubi36ySOnM14D59NL\n",
       "5ptTWGyaZnrPGsH8gKX6RtP8OL6r6EW4Q3BXnkmrdaypKFAt20Mrze8169B2v16pkGi39jrnzIOf\n",
       "8eckLsUdP/DgBx0aL3+CsO3VF9VP6VmBasmFLt1W07CcXy9ZOLDKStD6sdMFDLEy/uDx59wI216D\n",
       "YXOC2pfDIsaMY4FvfSJR1amGty2JWh0q6czoRXMvnELsU3od3NhfjF/C+xPAVnIPO2suByeofSEi\n",
       "unkT6ww0XwMS/9MCVqvNIp2g3qBpyqDTxAcumIcwC6Hu0hYIyvgsi++oYdh4DT1g7QOJRySZBxIP\n",
       "W+4DuMcjEaXPzvIAAAAASUVORK5CYII=\n",
       "\" style=\"display:inline;vertical-align:middle;\" /></a><br>(see <a class=\"ProveItLink\" href=\"../../../__pv_it/theorems/c89fbee97071aa855b4c58f16cdd00fd0daa30cc0/dependencies.ipynb\">dependencies</a>)<br>"
      ],
      "text/plain": [
       "<IPython.core.display.HTML object>"
      ]
     },
     "metadata": {},
     "output_type": "display_data"
    },
    {
     "name": "stdout",
     "output_type": "stream",
     "text": [
      "pos_power_of_product may now be readily provable (assuming required theorems are usable).  Simply execute \"%qed\".\n"
     ]
    }
   ],
   "source": [
    "%proving pos_power_of_product"
   ]
  },
  {
   "cell_type": "code",
   "execution_count": null,
   "metadata": {},
   "outputs": [],
   "source": []
  }
 ],
 "metadata": {
  "kernelspec": {
   "display_name": "Python 3",
   "language": "python",
   "name": "python3"
  }
 },
 "nbformat": 4,
 "nbformat_minor": 0
}