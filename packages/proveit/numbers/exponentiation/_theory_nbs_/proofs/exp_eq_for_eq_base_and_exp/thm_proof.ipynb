{
 "cells": [
  {
   "cell_type": "markdown",
   "metadata": {},
   "source": [
    "Proof of <a class=\"ProveItLink\" href=\"../../../../../_theory_nbs_/theory.ipynb\">proveit</a>.<a class=\"ProveItLink\" href=\"../../../../_theory_nbs_/theory.ipynb\">numbers</a>.<a class=\"ProveItLink\" href=\"../../theory.ipynb\">exponentiation</a>.<a class=\"ProveItLink\" href=\"../../theorems.ipynb#exp_eq_for_eq_base_and_exp\">exp_eq_for_eq_base_and_exp</a> theorem\n",
    "========"
   ]
  },
  {
   "cell_type": "code",
   "execution_count": 1,
   "metadata": {},
   "outputs": [],
   "source": [
    "import proveit\n",
    "theory = proveit.Theory() # the theorem's theory"
   ]
  },
  {
   "cell_type": "code",
   "execution_count": 2,
   "metadata": {},
   "outputs": [
    {
     "data": {
      "text/html": [
       "With these <a href=\"allowed_presumptions.txt\">allowed</a>/<a href=\"disallowed_presumptions.txt\">disallowed</a> theorem/theory presumptions (e.g., to avoid circular dependencies), we begin our proof of<br><strong id=\"exp_eq_for_eq_base_and_exp\">exp_eq_for_eq_base_and_exp:</strong> <a class=\"ProveItLink\" href=\"../../../__pv_it/theorems/42779691ced1524378579b77ca72d7ab07a00b6d0/expr.ipynb\"><img src=\"data:image/png;base64,iVBORw0KGgoAAAANSUhEUgAAANgAAAAXBAMAAACbsJy/AAAAMFBMVEX///8AAAAAAAAAAAAAAAAA\n",
       "AAAAAAAAAAAAAAAAAAAAAAAAAAAAAAAAAAAAAAAAAAAv3aB7AAAAD3RSTlMAq1RmmUTNIjK7EInv\n",
       "3XZ/CtNrAAAACXBIWXMAAA7EAAAOxAGVKw4bAAACz0lEQVRIx7VWTWgTQRT+Ntl0s5uf5iRIIQQU\n",
       "ejGSgxQaoQaiVJBqICCCRYMeRE/bo6WEeBAFA420qFGoq4Iikab+oJ5KwIN/CBUUCxLYaqVqoQRB\n",
       "Cj2IM8nMJrETXdj6YHbe7Hv7vvl575sFNkAU1gcXs4Miu2cBkuXkVD6xfkkqHBPZp7uNPDwmEKKj\n",
       "LY6wXDNMialmTuQwGsU34DOwh45OOAK7bWndutijB2Ggy8AZuucFR2BJS8tDjPYeLwB3guLBF3EE\n",
       "VuF5UnmMhNBj3lMjz1dwx8gCnR1Zhmv7D68YQpet/dTnOPCmWn3tCEym+aH0LJlC68hsFpqukiXh\n",
       "PrAXuGojYmdTFw00rKtr1puhKpW39RJ7juuGZB6keh+BhhLqHCk4Gc7SXu3sEiAnrj2DPCcy3oth\n",
       "CJ6BenFsI2EMX0oYxLtQTGkXdde1f4D5yedyDYEZkfEA8JHr4+R8zQ75sZsUqG8a2GkDzF9AWTjl\n",
       "l9B+cn2YtMwAeZQGntDxyuCizrgsSI/i1lnGfOqf5HckhFBzG8smdkFwZtovuGv8dZS0B6fIyw/e\n",
       "VRpM39wVYVx2l9p7e5mjapGfXCQyoZlrXlZfKknDcgSbXIKC1n5AyvAY/aSNkRnKifqnbkx5OZel\n",
       "qT0ebwNrkp9ycy7IeMcXooCud8KEnUI0wQt9H2lSju57sLEpqxaX9ZEFRM4fagNrIT9pRmKF5SVp\n",
       "qIWfjnwVgd1YPhfOWaTVkLKuxmnxeysK57IL9VmTBNFawAj5NbYRgZSfB5m3eevx2vDr42mjhDFf\n",
       "RkapwWUqBVce6Zi1wFrJL5A7yqPssMk0MX6XJrc/RD4if5n9Tro6lylXqKF0cjLXXFkL+bmSl3gU\n",
       "VbcFdrp9yMg/0uCyUrHYLJ11dXYHE1bK2buhLrf/KhisY1zWKuvAwh6L7JG1gxVsX7+bd4zL/gqW\n",
       "XsZ/kw35N/oN5xq27i77CbMAAAAASUVORK5CYII=\n",
       "\" style=\"display:inline;vertical-align:middle;\" /></a><br>(see <a class=\"ProveItLink\" href=\"../../../__pv_it/theorems/152accceac05c960add176e11bf5777caf4c49b80/dependencies.ipynb\">dependencies</a>)<br>"
      ],
      "text/plain": [
       "<IPython.core.display.HTML object>"
      ]
     },
     "metadata": {},
     "output_type": "display_data"
    }
   ],
   "source": [
    "%proving exp_eq_for_eq_base_and_exp"
   ]
  },
  {
   "cell_type": "code",
   "execution_count": null,
   "metadata": {},
   "outputs": [],
   "source": []
  }
 ],
 "metadata": {
  "kernelspec": {
   "display_name": "Python 3",
   "language": "python",
   "name": "python3"
  }
 },
 "nbformat": 4,
 "nbformat_minor": 0
}