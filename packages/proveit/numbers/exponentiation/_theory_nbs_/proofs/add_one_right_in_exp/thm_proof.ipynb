{
 "cells": [
  {
   "cell_type": "markdown",
   "metadata": {},
   "source": [
    "Proof of <a class=\"ProveItLink\" href=\"../../../../../_theory_nbs_/theory.ipynb\">proveit</a>.<a class=\"ProveItLink\" href=\"../../../../_theory_nbs_/theory.ipynb\">numbers</a>.<a class=\"ProveItLink\" href=\"../../theory.ipynb\">exponentiation</a>.<a class=\"ProveItLink\" href=\"../../theorems.ipynb#add_one_right_in_exp\">add_one_right_in_exp</a> theorem\n",
    "========"
   ]
  },
  {
   "cell_type": "code",
   "execution_count": 1,
   "metadata": {},
   "outputs": [],
   "source": [
    "import proveit\n",
    "theory = proveit.Theory() # the theorem's theory"
   ]
  },
  {
   "cell_type": "code",
   "execution_count": 2,
   "metadata": {},
   "outputs": [
    {
     "data": {
      "text/html": [
       "With these <a href=\"allowed_presumptions.txt\">allowed</a>/<a href=\"disallowed_presumptions.txt\">disallowed</a> theorem/theory presumptions (e.g., to avoid circular dependencies), we begin our proof of<br><strong id=\"add_one_right_in_exp\">add_one_right_in_exp:</strong> <a class=\"ProveItLink\" href=\"../../../__pv_it/theorems/4ee22013bfc0b78f3fac2b9502afbf8f1dfa923a0/expr.ipynb\"><img src=\"data:image/png;base64,iVBORw0KGgoAAAANSUhEUgAAAQcAAAAaCAMAAACNSmlkAAAAOVBMVEX///8AAAAAAAAAAAAAAAAA\n",
       "AAAAAAAAAAAAAAAAAAAAAAAAAAAAAAAAAAAAAAAAAAAAAAAAAAAAAAACXHtMAAAAEnRSTlMAq1Rm\n",
       "mUTNIjK7EInv3Xbt5cmRiLwgAAAACXBIWXMAAA7EAAAOxAGVKw4bAAADRElEQVRYw81ZWbKkIBCU\n",
       "TVZ5M9z/sCOLCIIsjmE8PjqqO4pUkloSell+22Ar/wRSoPVXrBeR0nIDyN5UPPusBPKYy7TenoG9\n",
       "OyAuLT8U682lsxGTQJ5T4fYM7NUh1tIKG2W0BqITS3ouLxLIgodZsHcHR6Xlh97EonvBuomZh6WQ\n",
       "JQ8eDJy/o+9ooKq0El66JUyDWdIPyAoPDgzHIrXS73jAsrSSXMa9ZQojJsvDDon5PpT9QBkPDoyB\n",
       "p8Xnf4YhpXX8YF8c9gDWmeBNISvx4MHWwKyE39HA4nayYmP3bEX9LcEzu5ZC1nhwYCgw+6Wq0Ftp\n",
       "RY6wHijgWs3QnkAePFC5GqlTMLXZoeSHPIC1sCiQmrYJSF3IQIGoQtbiyINhJzK4eFbwmtXstoDz\n",
       "q0XUXqV5c3GZCzOnNMJbMkDdv/nCHoyC42NAlmuOQUpyK02lK4FS6iLUVnCxhEJuQS1SMxda1Ne2\n",
       "fztwPJgNBUlaspxpwPnuITjYOYZcjvDgqbVqjVy9NnyxsHFfZNkfYwblLqLLwx1ktQs7MKhvquQh\n",
       "yzEOhhQuEtAQD4BGDEM78aD4zdpOxnIXanqnkFvIWjyw0CoOjS0k0pJeZLlG8ajKPCyt8pBNXoj0\n",
       "jxAVPXDlQRj7fGSae5a5sITaan0YgEzqAw3SIYgIsdHkCUGWi7hWSCG9L79xstNt/MfpNq8Ptovq\n",
       "ATy3hIG+d0B6z0Pm0u0XA5CXfmE1PjgSYCdHXWQ5iYtAAol7HvLJIYg8D0rfdf9gcW11DW61n9wF\n",
       "dfXDAGRc1wEGQrIpkh5hgixHq9tfDhfGCLvnIZt8BJHPCwPrGxAtAbRkFOhG0ucu3RPICGTcQXCN\n",
       "JdtxkRCZLGdnVQx1MhEGvDLZ5sWfv+E8U62TjrOrNTXWNw/HBZiyGU724BcykeWnxKIS2xXJqn6I\n",
       "k5fk9LZYRUvAxHlz7BrHiPdoKMEIRlBLZPMcnrKccna2hD1JMKvmRZycq9NdR+Hipc86wtSTV0fg\n",
       "xXBogsGsIdogrwZwXT/A7kkJwNKaOUG+eVfSAiODcVfnoX92vb+fHNrBN68Um2CjZajKAxyofVCW\n",
       "1vCt3ptXRu+APY/P2/8vBvrci0UygP0DT70et2oaUQEAAAAASUVORK5CYII=\n",
       "\" style=\"display:inline;vertical-align:middle;\" /></a><br>(see <a class=\"ProveItLink\" href=\"../../../__pv_it/theorems/2be1cc1bd4487c8deb620b66bc87fa3638aefbfd0/dependencies.ipynb\">dependencies</a>)<br>"
      ],
      "text/plain": [
       "<IPython.core.display.HTML object>"
      ]
     },
     "metadata": {},
     "output_type": "display_data"
    },
    {
     "name": "stdout",
     "output_type": "stream",
     "text": [
      "add_one_right_in_exp may now be readily provable (assuming required theorems are usable).  Simply execute \"%qed\".\n"
     ]
    }
   ],
   "source": [
    "%proving add_one_right_in_exp"
   ]
  },
  {
   "cell_type": "code",
   "execution_count": null,
   "metadata": {},
   "outputs": [],
   "source": []
  }
 ],
 "metadata": {
  "kernelspec": {
   "display_name": "Python 3",
   "language": "python",
   "name": "python3"
  }
 },
 "nbformat": 4,
 "nbformat_minor": 0
}