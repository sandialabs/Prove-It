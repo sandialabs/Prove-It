{
 "cells": [
  {
   "cell_type": "markdown",
   "metadata": {},
   "source": [
    "Proof of <a class=\"ProveItLink\" href=\"../../../../../_theory_nbs_/theory.ipynb\">proveit</a>.<a class=\"ProveItLink\" href=\"../../../../_theory_nbs_/theory.ipynb\">numbers</a>.<a class=\"ProveItLink\" href=\"../../theory.ipynb\">exponentiation</a>.<a class=\"ProveItLink\" href=\"../../theorems.ipynb#exp_rational_closure_nat_power\">exp_rational_closure_nat_power</a> theorem\n",
    "========"
   ]
  },
  {
   "cell_type": "code",
   "execution_count": 1,
   "metadata": {},
   "outputs": [],
   "source": [
    "import proveit\n",
    "theory = proveit.Theory() # the theorem's theory"
   ]
  },
  {
   "cell_type": "code",
   "execution_count": 2,
   "metadata": {},
   "outputs": [
    {
     "data": {
      "text/html": [
       "With these <a href=\"allowed_presumptions.txt\">allowed</a>/<a href=\"disallowed_presumptions.txt\">disallowed</a> theorem/theory presumptions (e.g., to avoid circular dependencies), we begin our proof of<br><strong id=\"exp_rational_closure_nat_power\">exp_rational_closure_nat_power:</strong> <a class=\"ProveItLink\" href=\"../../../__pv_it/theorems/044819c1839f9a93785bd51b0f548c6137e305bb0/expr.ipynb\"><img src=\"data:image/png;base64,iVBORw0KGgoAAAANSUhEUgAAAKUAAAAaBAMAAAAkmYFJAAAAMFBMVEX///8AAAAAAAAAAAAAAAAA\n",
       "AAAAAAAAAAAAAAAAAAAAAAAAAAAAAAAAAAAAAAAAAAAv3aB7AAAAD3RSTlMAq1RmmUTNIjK7EInv\n",
       "3XZ/CtNrAAAACXBIWXMAAA7EAAAOxAGVKw4bAAAC8ElEQVRIx61VTWgTQRR+3U2a7G6yxpugSCRK\n",
       "BVFCBdEiIVLFarGuRvyhoNEeil5cxZvVrnpQSDU9qBhB3Z6kRmgwh0IFqQfRIoKCICiBzcGDPwcR\n",
       "qtBD8c3szDRps20SnMt7+97sN2/efN8MQFMjeBr+35AN1670yPuawFzL7BuPfGC4YUg1zfY+W7Zr\n",
       "z0g0jKnEXat/1pPzUvlcbjeaMK4VId+xejEHBLacrs7oq6zAhwJaBNxFAv31YnYzG7J8kepMsQhw\n",
       "6Bh2ZwbgSkONnWZ2GYSi1eQqYN2K7AD0AbTi/rVovbScYU7Y3sa8b6US6YLyBOvWLHT3IOGw6631\n",
       "lqm/5+A9jusc/u7a0SAGpGgXwE/8elcqva0Xs4WUdO7F5Tk6nmFOxo+1+ePtACdw4wh9v24qYeP9\n",
       "r+GR4GaryZzjMvYv6CCBshYuC4GqI8zfXm5WKvpStyG/5BA482kc9onJomsXJVrnV4BBVK9iawbv\n",
       "UjlnBJ6D1s4VTQJSZAL28qNBou8H+CIwh0o4CGsUt584cQzRJEcsthPL1s6DutlkiiYBKeGDQkWd\n",
       "U6BOC8xR0ZXH/NwH8R9IE4nmE+OgE+HdaANwHFfRNCBdPeJUYKqzIP8SmGHu+F1+YlOzpKBneHbq\n",
       "p+Bfd9GOuItJFE0DkjWxjmO2DIP6G0+/TZDL4V4n6ugA6oieOwxg1b5kcBJSJEfwSF1E0SkX06dz\n",
       "nemTAA9hY3Lu/jjFHY3oncS308WxASEDtb8ll8tFj7K9E0XTgGSpBX5f+FFHIz+ur7YE5sgdzqsL\n",
       "f852EbuDp8ZMpcPO0PXYGRFFZ9w64aDY4asFlO19UGIrrpDptD6eCZnZlK3YlD6gxSBPFU0D+Fro\n",
       "kfn3Uk2ROeX1Br2X2KY6NxUhcI9y/uNJC4aiRNE0cLOfXbKUj4upbM3dqTjIkQVXNRJ2/Bq60YpA\n",
       "ZS1L3mBhs+bTF+sx/Pbi75H38HiPbm0F2euXDUtANvFuivfda/hwg/8AMSW6UI3saY8AAAAASUVO\n",
       "RK5CYII=\n",
       "\" style=\"display:inline;vertical-align:middle;\" /></a><br>(see <a class=\"ProveItLink\" href=\"../../../__pv_it/theorems/161f05f4b388c9a9c02efe29f0e5276074725d9d0/dependencies.ipynb\">dependencies</a>)<br>"
      ],
      "text/plain": [
       "<IPython.core.display.HTML object>"
      ]
     },
     "metadata": {},
     "output_type": "display_data"
    },
    {
     "name": "stdout",
     "output_type": "stream",
     "text": [
      "exp_rational_closure_nat_power may now be readily provable (assuming required theorems are usable).  Simply execute \"%qed\".\n"
     ]
    }
   ],
   "source": [
    "%proving exp_rational_closure_nat_power"
   ]
  },
  {
   "cell_type": "code",
   "execution_count": null,
   "metadata": {},
   "outputs": [],
   "source": []
  }
 ],
 "metadata": {
  "kernelspec": {
   "display_name": "Python 3",
   "language": "python",
   "name": "python3"
  }
 },
 "nbformat": 4,
 "nbformat_minor": 0
}