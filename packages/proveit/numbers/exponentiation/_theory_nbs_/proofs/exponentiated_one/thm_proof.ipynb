{
 "cells": [
  {
   "cell_type": "markdown",
   "metadata": {},
   "source": [
    "Proof of <a class=\"ProveItLink\" href=\"../../../../../_theory_nbs_/theory.ipynb\">proveit</a>.<a class=\"ProveItLink\" href=\"../../../../_theory_nbs_/theory.ipynb\">numbers</a>.<a class=\"ProveItLink\" href=\"../../theory.ipynb\">exponentiation</a>.<a class=\"ProveItLink\" href=\"../../theorems.ipynb#exponentiated_one\">exponentiated_one</a> theorem\n",
    "========"
   ]
  },
  {
   "cell_type": "code",
   "execution_count": 1,
   "metadata": {},
   "outputs": [],
   "source": [
    "import proveit\n",
    "theory = proveit.Theory() # the theorem's theory"
   ]
  },
  {
   "cell_type": "code",
   "execution_count": 2,
   "metadata": {},
   "outputs": [
    {
     "data": {
      "text/html": [
       "With these <a href=\"allowed_presumptions.txt\">allowed</a>/<a href=\"disallowed_presumptions.txt\">disallowed</a> theorem/theory presumptions (e.g., to avoid circular dependencies), we begin our proof of<br><strong id=\"exponentiated_one\">exponentiated_one:</strong> <a class=\"ProveItLink\" href=\"../../../__pv_it/theorems/1d113665a1e68efa32fde6e9a606feb7c6630fac0/expr.ipynb\"><img src=\"data:image/png;base64,iVBORw0KGgoAAAANSUhEUgAAAH8AAAAVBAMAAACd/CwcAAAAMFBMVEX///8AAAAAAAAAAAAAAAAA\n",
       "AAAAAAAAAAAAAAAAAAAAAAAAAAAAAAAAAAAAAAAAAAAv3aB7AAAAD3RSTlMAq1RmmUTNIjK7EInv\n",
       "3XZ/CtNrAAAACXBIWXMAAA7EAAAOxAGVKw4bAAABrklEQVQ4y2NgwAsKINQ79ycFeKRxAz4FCFUg\n",
       "yaaATT4OiAVADGUcBmgDce8CBmaGeRwYchy3gCYbMDC4gjjp2PVzJTBwieQvALK+Y8gtdPsFJLMY\n",
       "GBqBFPsE7AawAC1geA80gOMAO6b3QAaYMDCwAeW5FbAbwMMAMaCGO4EFuwE8QP8BbWHDEQRqUANY\n",
       "nu57hd0ANqDus3fvnsZhgDfUAOwxBDKAGxgHHgwMs3AYkIxugO9dELiIMIA5gYGhkIFdAMXkKXJ1\n",
       "UOYlgi5gOsDAwLmAOwAWtQ9nBnBNLGCaDeUfJWgAxwegIQ/gYejSAPTVOgYGa6INYAW6gCHBDpra\n",
       "QemKYXErMF3g8gJGGDBdABKbsqCpfSVIXF0doX4eQRcwg5JgDTAMwak9GCRuZYVQsxFE7MeR5bhB\n",
       "yZtlA5BgbGCApHazmTNnKnREINT0ArHg+UQDbPoZZb4JMzDwBsDzFjC1d4MNBgYiF1SQt4FQfq+F\n",
       "McCpnRPkW/YtBQz7oKLMDoQMcIbnO1BqZ58BYq7OnAK3eDoB/ejZePXMmQEoAisJGMBJqExjf4Bf\n",
       "/jkDAwCLm3fq3mYYyAAAAABJRU5ErkJggg==\n",
       "\" style=\"display:inline;vertical-align:middle;\" /></a><br>(see <a class=\"ProveItLink\" href=\"../../../__pv_it/theorems/71ee0ac2b18ddb819ddc75585aaf236ec5c1b6ac0/dependencies.ipynb\">dependencies</a>)<br>"
      ],
      "text/plain": [
       "<IPython.core.display.HTML object>"
      ]
     },
     "metadata": {},
     "output_type": "display_data"
    }
   ],
   "source": [
    "%proving exponentiated_one"
   ]
  },
  {
   "cell_type": "code",
   "execution_count": null,
   "metadata": {},
   "outputs": [],
   "source": []
  }
 ],
 "metadata": {
  "kernelspec": {
   "display_name": "Python 3",
   "language": "python",
   "name": "python3"
  }
 },
 "nbformat": 4,
 "nbformat_minor": 0
}