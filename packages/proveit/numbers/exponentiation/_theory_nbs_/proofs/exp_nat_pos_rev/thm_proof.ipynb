{
 "cells": [
  {
   "cell_type": "markdown",
   "metadata": {},
   "source": [
    "Proof of <a class=\"ProveItLink\" href=\"../../../../../_theory_nbs_/theory.ipynb\">proveit</a>.<a class=\"ProveItLink\" href=\"../../../../_theory_nbs_/theory.ipynb\">numbers</a>.<a class=\"ProveItLink\" href=\"../../theory.ipynb\">exponentiation</a>.<a class=\"ProveItLink\" href=\"../../theorems.ipynb#exp_nat_pos_rev\">exp_nat_pos_rev</a> theorem\n",
    "========"
   ]
  },
  {
   "cell_type": "code",
   "execution_count": 1,
   "metadata": {},
   "outputs": [],
   "source": [
    "import proveit\n",
    "theory = proveit.Theory() # the theorem's theory"
   ]
  },
  {
   "cell_type": "code",
   "execution_count": 2,
   "metadata": {},
   "outputs": [
    {
     "data": {
      "text/html": [
       "With these <a href=\"allowed_presumptions.txt\">allowed</a>/<a href=\"disallowed_presumptions.txt\">disallowed</a> theorem/theory presumptions (e.g., to avoid circular dependencies), we begin our proof of<br><strong id=\"exp_nat_pos_rev\">exp_nat_pos_rev:</strong> <a class=\"ProveItLink\" href=\"../../../__pv_it/theorems/92950fd027bdd8ae98bc314d147fd412d63531310/expr.ipynb\"><img src=\"data:image/png;base64,iVBORw0KGgoAAAANSUhEUgAAAZoAAAAVBAMAAACNuTXpAAAAMFBMVEX///8AAAAAAAAAAAAAAAAA\n",
       "AAAAAAAAAAAAAAAAAAAAAAAAAAAAAAAAAAAAAAAAAAAv3aB7AAAAD3RSTlMAq1RmmUTNIjK7EInv\n",
       "3XZ/CtNrAAAACXBIWXMAAA7EAAAOxAGVKw4bAAAEb0lEQVRYw51Xb4hUVRQ/8/7Mm31vZtzokyLL\n",
       "RJYLWQ6mlhr1YEczzHjlF8E/DfQhDILXR8tdpyAQxXUNF3sF9swl2hbW0fRDSDIhUhjZFltsHxbe\n",
       "lhkmrkvRKvul7r3nzbz/9z07cJg39/7uub9z7znn3guQKrem+P2mq+micG2kSRJm9ZOzOjOdRpTJ\n",
       "eX53uYKaQX5N7NmdYXQCRl1zCb4G2WFMu2nLg3xvuJhHXE0XoRm7YReeM6BcTR+egFHG67AA8Btj\n",
       "upG2vMr3hodR66gZ5JPY1hEQ/gJ4LcP4BEzOkVsAeZsyfZu6N8T3hoeRqqgZpC+29XZFnSfBn2F8\n",
       "AqbYkPQGiDplSn3SKnxveJiiqxmkFdu60wDiTdFOH5+A2Q+ldxoAVyhTkaxrPqUK8DAPu5ohbZLi\n",
       "UfibmGfbmzN5gZKPD4EXofw5+XmF1avvpqe/TatpHMwWV8dnPr3Q2T51dsmhs5GYJEVg95K3bjjh\n",
       "jl2EpcYqjUJqbH8jmptoDjHRdpQzjOlmgA9iWDb93iRgAJeEqV7ukSY6xGHG2Rq3tM2jjnon1D54\n",
       "H+Ev4sb1N5SYQ8M1h5it01R+iEyzljF9A5TuGJa635swpnysZ8D9/BFVNMWFXCcSnoBn7PvDFksV\n",
       "kI1fQLkbiTRS0wRMKmUqZmva5oRWfDvKCsa0y9YMf/mePA9PdYe88WEKM5ahHjWFD93/l1ELIOHq\n",
       "nqY/DdiEoTDvT2IDVPUfEBZox+tshV3m39tQmMPP/tDW+M21MR1pT8PkCGMqOF6CDy4ehgc0W7JD\n",
       "3vgwNcJAGwfYEPSGkMV8KOHAq9g7GfQGhDnIhYrBAYCPyK614r3xm5OjRfGqrzbiraX+dCc+N9Mz\n",
       "39E1OFebrBm+mw3DzD57zWQH8ql3vTuXG2kAL5uqV0HlO/BZTKRRVxZVg4X2X5t6I0xwIs01hxhf\n",
       "3gSmeRSZniVnrNg3eA1vB9D70IAWzhuGKZuL85VR2rJ8uTfRCdRRYylonVoznGtB5BrTRTav2ISV\n",
       "drDnKxZp4lByFWibE4fi21HWIdN9JEtO7awWTZWhe7WPd0S8oRgRThRgG21Zv94zeQZ15cHn4aVO\n",
       "Wt8dacleuZ7H/KEFdn8DrovB1X+cnTdSM1ihSb6crofMSaEFCk6zBZnmyPA3r8MiW2Y1qRf0GxFv\n",
       "cmwKUlvXWpZVObDdM3kYdWRW6PP4v+AsW+VBJjF/CiRQdgGcXBWKohq5dUKJxTWdRqm7+VLSQ+ZK\n",
       "RmhvAtP85Lvt95AsEvdY1nvEm7F8+Lxxy1lLgUP0g1YBtZ0NDdQMwnt+9GcYz8UoEz6m30CtUGji\n",
       "3siPxb5v9ml1idRqOvKcCRfdVnrbE/VM3qy+5xvpPWDozbfNVJmDqV4879cAzMR6I/1+8U9Q3qef\n",
       "Y3uOdbbjuKvp0pX8wuTf4rNg9vqYyt1wswp7CcXCzybkOG/PMcsKhu+oq+miDv0fRzNijkeYql9Y\n",
       "w1Hcl/zntuKgZpCBxJ4/MozmYsrE1VuX/wP7slGqLAEE4wAAAABJRU5ErkJggg==\n",
       "\" style=\"display:inline;vertical-align:middle;\" /></a><br>(see <a class=\"ProveItLink\" href=\"../../../__pv_it/theorems/8e37deefe1da5bbd27949e1585331eb1b794713f0/dependencies.ipynb\">dependencies</a>)<br>"
      ],
      "text/plain": [
       "<IPython.core.display.HTML object>"
      ]
     },
     "metadata": {},
     "output_type": "display_data"
    }
   ],
   "source": [
    "%proving exp_nat_pos_rev"
   ]
  },
  {
   "cell_type": "code",
   "execution_count": null,
   "metadata": {},
   "outputs": [],
   "source": []
  }
 ],
 "metadata": {
  "kernelspec": {
   "display_name": "Python 3",
   "language": "python",
   "name": "python3"
  }
 },
 "nbformat": 4,
 "nbformat_minor": 0
}