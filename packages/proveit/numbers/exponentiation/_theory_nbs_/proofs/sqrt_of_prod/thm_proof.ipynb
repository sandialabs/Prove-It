{
 "cells": [
  {
   "cell_type": "markdown",
   "metadata": {},
   "source": [
    "Proof of <a class=\"ProveItLink\" href=\"../../../../../_theory_nbs_/theory.ipynb\">proveit</a>.<a class=\"ProveItLink\" href=\"../../../../_theory_nbs_/theory.ipynb\">numbers</a>.<a class=\"ProveItLink\" href=\"../../theory.ipynb\">exponentiation</a>.<a class=\"ProveItLink\" href=\"../../theorems.ipynb#sqrt_of_prod\">sqrt_of_prod</a> theorem\n",
    "========"
   ]
  },
  {
   "cell_type": "code",
   "execution_count": 1,
   "metadata": {},
   "outputs": [],
   "source": [
    "import proveit\n",
    "theory = proveit.Theory() # the theorem's theory"
   ]
  },
  {
   "cell_type": "code",
   "execution_count": 2,
   "metadata": {},
   "outputs": [
    {
     "data": {
      "text/html": [
       "With these <a href=\"allowed_presumptions.txt\">allowed</a>/<a href=\"disallowed_presumptions.txt\">disallowed</a> theorem/theory presumptions (e.g., to avoid circular dependencies), we begin our proof of<br><strong id=\"sqrt_of_prod\">sqrt_of_prod:</strong> <a class=\"ProveItLink\" href=\"../../../__pv_it/theorems/a373ce21d9f42786ed720f4102b4985d63ef7b740/expr.ipynb\"><img src=\"data:image/png;base64,iVBORw0KGgoAAAANSUhEUgAAArsAAAAmBAMAAAA2Kk4FAAAAMFBMVEX///8AAAAAAAAAAAAAAAAA\n",
       "AAAAAAAAAAAAAAAAAAAAAAAAAAAAAAAAAAAAAAAAAAAv3aB7AAAAD3RSTlMAq1RmmUTNIjK7EInv\n",
       "3XZ/CtNrAAAACXBIWXMAAA7EAAAOxAGVKw4bAAAIgElEQVRo3sVba2wUVRQ+3Udndna3XX5IJCZ1\n",
       "1SgYKBQFokhwkWqISFiFH0aJ3cQfBPzBkBgU5bGaGCEWWl6RhQQGiSTyauWlxkgqYIoak9pUIWjj\n",
       "IgQ0IFaggpBQ72tm75253dl2t7M36ezO9Jt7zvnm3HPPOdMCuA9fX18dlGA8Bd6MQBzKNXYZ+Kgt\n",
       "JGr09RmF3OOLlcbqmEc2Tisbu6CeIR9rKK8RL+md5JGJ/lT56IXxVIWY5/Sq33lkYaNRRnpDNDCt\n",
       "95zeylaPLHytjOyCRp1or+E1veN4WRV9JRs9dm1v8WfueIB7naBCDKqQKjON22e8pPcX/uSdofOf\n",
       "KL9K1AJUVwdpntyGlTo+Kjc8plcVnGrz0NHbxNsUShcQLtODEyS3IUSf7laP6a1o5rnGJ3rxkyqS\n",
       "ayP4k9U2OTKZq20TFaiXwwY6h7+NfEzxmN5qvjKpQA5TVYLkP5h1XrvGn9xtk/OKZBKEgd9dMDJ/\n",
       "sdtAlVGu0hgRp/QS6h5wo7eCfBZTuzXxD3oJ+hldikhwzulUN3iHStnkVDlNwBhfa36MbDhtoMp0\n",
       "0R0gQel9Gp/Md6M3kMSpVTHL+Un+5C6UwZQk+a90LD8/nxlUJO1yFjq9EJm2ywUjG04bqDLP0NQh\n",
       "RenF+5/S7EYv2V2XFkPEcJvDBErSxvAnHGylRA+zyZkg9cLpLhhZ2HfaQJX5my6BHkovpjwcd429\n",
       "+IkeKIaIr209l0hp8gRHKRiJiU0kmxznboMbTW0umH76RhGZMuNIIuK7SSfyoydQ6b61PYo+i1rO\n",
       "t/m+Evp5qDT0vurYQrkwihevTU6lfdFgjC+VHyMbMhuIMk3EV9Wr7Dn90N39vTu9ke7uX4uqavkN\n",
       "HS+DmXiB3XPRtvUvPrrCfSoe9Gm+DAWvypniHWF7FoQxgdb8GNmQ2UCUaSEKaNcYvTMAtrjTG0hD\n",
       "qJhWCctXqMN0sCc9Tw/dEhOtdtjuKkUAkTbcrG48fsxlRGzsY3K4OxzttH3MXfNhZL0FmQ1EmWrK\n",
       "9h1G72JQZE+rVaQXYRYXVbRRejXDzHw60clxCHQIqL11MMt1KgE0xpEAUnp3m5lSp3iHjwuzFiYa\n",
       "7xcjY7ZfG8Zw0ek2ozdkhJO8m3UdhimIz4StrNgChwfMadXGGnPBBXtpsxBPG8XfvkErogc3CDTy\n",
       "zLV/8XE2bk1oXw4zrCviaEmZIItNO6SBGKOewMcOKofdsRPfrPZYU+cwkaQgmsNIxMts4JWppsxd\n",
       "Z/T6srmdbe2ITXBf2AgYTnrHDmxnU89mkto63bdV8F7fw1jzK0y1SDO0JGHtX7ls/FvQeiHA/KFL\n",
       "0q5JmCBzzJN77/3b8dPNMnrJHeoVPGuwzZo6h8H0cqI5jES8zAZeGRu9kJpqJRszcAWXTYTBSW+l\n",
       "PzsQeutRehLeD/CEGByC15jD4IXVkiXFRm1u2d3BVUF1UrmZb23e4UuHWnvsZcGhoY55WKd1hw/L\n",
       "9XHRyMKg4MCL9nXkj/0SGzhlbLEXDqCc1j997XlW1Y16cEUYDtV31ScFesMPIax28JJZue2Z+plT\n",
       "snWRhKad7+V6JQrLHLqRLLKYtiHV4jDcp/P0XkVVwUi/kZ9eCiIKAzzuaAjSzCHawR7tNvMOypqf\n",
       "q6AsTCgriPbnr7IkNkx47ErCVIalLmbmAMsQezvn1UV0jUw7KvzRyxLvVXBdsE83WwfaKaG4t1/8\n",
       "BB9GjhR8jtbGSYgaLIkJZX1dAd57kb61CSQ4bLkPiYAk5LWkBBBRmOVGYnykzuNH8eOMmSzRaQm9\n",
       "AW7LtjA4E+NE5zAy8RIbtInHod1UhqYuipn3ktbPWxeg2ggS3kdB4k8JvaSxVA+NqDbGNwUSahu8\n",
       "cD4pVjL4Ihlz8GHyZO53J1ha2sz6IGuQ8jWfL/5DoHfHpfdr0taLVjMCkpAXTQggojA6+clRtTHc\n",
       "f6xPs8aaltAb5TU2MWqHIJrDSMRLbFD2p+CWqUwT3Vt7hfKvBsVl/4JMZj2id0+ljF4ay8+CWmuQ\n",
       "3aAqBm2a+GaFXKQZYCaTia96kfvdAvYEbrCOSTQtRCwhR95SQHCvIRuJ4giTlWxlz9ZphyUnh9C7\n",
       "nMeaGDgtiF7uVg87bKjI4u2QKkNfepFXUjl6T0K9qrZS7w2Odea9dK3cgA276cJo0UOTDV0VM0Ry\n",
       "ccIc9Gg/IGsObW2a+bvnmP7XgwlbM8ZB7+vwhju9WGFZYyjAVFqZmGuTQ+gVmjcmJtfEIaKnu5VI\n",
       "Dhsi6UAizZT5ilZ+HTy9Sg+cHkWrt4mAXLSfdnq72jsZ07sHInrTHANCSfRVazUP5OLY5ijQCk85\n",
       "pMNRK2AxUdvNtuaH/dGrbF71rHsVSBSWNPH8rIYK9cy3ycH0ir1BCxPSOdEu/UOZDSsh+m6aKbOO\n",
       "zhjj6Q3G4FIdLEXOrv6s0+a5jN65jyAUorcxHpw+9iApqBvjajs06vhAL1akl2A9SSKxYKO1NFtY\n",
       "sdowDLjdD423Fx21RU/Z21xHdkQUznHHJxYU8E9MlKMcuZ21eLRhtGZOdMi1re2w4XmoOmgqcy3X\n",
       "+rC13rQvMpv66TnwyTW6iXIVNrLmVzzotyicewkxm8mI216ILaSomXAoA8qj+ykLJUxsZJ+/6RI5\n",
       "F0WsiYEV/WMkQ24DVSZIf9egw+DetamXD0CQ3reor8P8iiem33bAaFlDj73iM/8+aOjGFPY5vgDs\n",
       "+MGJyGdDmGZwRwAG/yrTL/vqz98I6QVvRksSyjkidA0fK4bewYwjHtkXTpWV3ss0ULR5TW8k7ZGB\n",
       "J8tK7zHOh72k1++VV00qJ7tV1MoL4DW9ztdiQzQq68pI7zL6J2bt3tO7T/fGQu1U+djVOqmp8YHQ\n",
       "W5r/rVAWemTjEqNs9IYoURtIeV7g/1aUarzpkRwlXTZ6P6Y+bOWG/wOc7v79wKrm8QAAAABJRU5E\n",
       "rkJggg==\n",
       "\" style=\"display:inline;vertical-align:middle;\" /></a><br>(see <a class=\"ProveItLink\" href=\"../../../__pv_it/theorems/1c4bc084bc4b976d3e83427a60419813f7157cc70/dependencies.ipynb\">dependencies</a>)<br>"
      ],
      "text/plain": [
       "<IPython.core.display.HTML object>"
      ]
     },
     "metadata": {},
     "output_type": "display_data"
    },
    {
     "name": "stdout",
     "output_type": "stream",
     "text": [
      "sqrt_of_prod may now be readily provable (assuming required theorems are usable).  Simply execute \"%qed\".\n"
     ]
    }
   ],
   "source": [
    "%proving sqrt_of_prod"
   ]
  },
  {
   "cell_type": "code",
   "execution_count": null,
   "metadata": {},
   "outputs": [],
   "source": []
  }
 ],
 "metadata": {
  "kernelspec": {
   "display_name": "Python 3",
   "language": "python",
   "name": "python3"
  }
 },
 "nbformat": 4,
 "nbformat_minor": 0
}