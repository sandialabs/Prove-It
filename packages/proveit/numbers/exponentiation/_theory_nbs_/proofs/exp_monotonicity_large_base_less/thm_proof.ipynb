{
 "cells": [
  {
   "cell_type": "markdown",
   "metadata": {},
   "source": [
    "Proof of <a class=\"ProveItLink\" href=\"../../../../../_theory_nbs_/theory.ipynb\">proveit</a>.<a class=\"ProveItLink\" href=\"../../../../_theory_nbs_/theory.ipynb\">numbers</a>.<a class=\"ProveItLink\" href=\"../../theory.ipynb\">exponentiation</a>.<a class=\"ProveItLink\" href=\"../../theorems.ipynb#exp_monotonicity_large_base_less\">exp_monotonicity_large_base_less</a> theorem\n",
    "========"
   ]
  },
  {
   "cell_type": "code",
   "execution_count": 1,
   "metadata": {},
   "outputs": [],
   "source": [
    "import proveit\n",
    "theory = proveit.Theory() # the theorem's theory"
   ]
  },
  {
   "cell_type": "code",
   "execution_count": 2,
   "metadata": {},
   "outputs": [
    {
     "data": {
      "text/html": [
       "With these <a href=\"allowed_presumptions.txt\">allowed</a>/<a href=\"disallowed_presumptions.txt\">disallowed</a> theorem/theory presumptions (e.g., to avoid circular dependencies), we begin our proof of<br><strong id=\"exp_monotonicity_large_base_less\">exp_monotonicity_large_base_less:</strong> <a class=\"ProveItLink\" href=\"../../../__pv_it/theorems/c9e328bea1188261a428d13f89a6d4f0296c4f6b0/expr.ipynb\"><img src=\"data:image/png;base64,iVBORw0KGgoAAAANSUhEUgAAAPsAAAAXBAMAAAA/2iRsAAAAMFBMVEX///8AAAAAAAAAAAAAAAAA\n",
       "AAAAAAAAAAAAAAAAAAAAAAAAAAAAAAAAAAAAAAAAAAAv3aB7AAAAD3RSTlMAq1RmmUTNIjK7EInv\n",
       "3XZ/CtNrAAAACXBIWXMAAA7EAAAOxAGVKw4bAAADTUlEQVRIx7VWTWgTQRh9aXaTzSZZ46UghRBQ\n",
       "FA+RIKXQQmtK6y8Ug5VelBrwIHjQ7VVriScPFhtaEWMhriKKRm2wYLVgCYhUEaEHRUEKW1FrGypB\n",
       "KIUexJn932QLKazfYWZ2sm/ezHzvexvgv4Rf638f/C46/d4fQQQi/ld8UztB3OaLOfzMy+tcCf1k\n",
       "FKGP211mbyiqvRd5zvFy7s4JWQgJYD99POMy/X1jtOb8gqfokYGzwGW6mazL9F36gCv5HV8Ip0IZ\n",
       "oBnwSUAw5jJ9SesHg2nGnN1pai2cOUXakAQvSYDP7dSntQHzY2bZmG0/Ynmj6wZpfYT7w/z8e5fp\n",
       "Gaq8gZkh2+TKtCa7pkUZDzBGhkGi+0PArTpW3Aw9PRU7i9uSpdReydropBhYR5SlF+QlzQD8kQ0X\n",
       "ij/vPKcMAjWl27IxfZho6XECPZZK60nouNdg5tBbVlJANBKQginHRbiFXEoIYqpop+fVM11bse/G\n",
       "+hAiCx4FvpozjYa4mQrCRZ2hQrYgb6C8blIagoA22U7vv64KOG7zkU6piv4d+FUn+lAWE/pxWVoh\n",
       "6Q7SFDqmTI9mF+BRPInSLydNen6yLILbKpr0KoBOKSDj8vm/8FacLn9Cxj5D/3OkeUbMh//MrZke\n",
       "/XSLNIyHimkH/fmESf9EHBHpUTM6vQpg6YUoIDUCMvg/8KR3OUhvIobGBs0AvNTuBonymCRXMj36\n",
       "QhxL6FWWZ8azFul1Q2HgD6c0egXAjks6SA1aUHnEk0mrOFaWta01fGSsBerJ0GwJEYtHNyGKllwu\n",
       "FxOE4DEL/RssqNueNXJPAMMxA6RJilzqnfKVaMampXal8Pnoi4FfhvXqGREDbZLp0Z/wFleV0wvs\n",
       "Ccmg59cw9ojmLG/kngL4lzEdpMUXRy23VH/gLxl6FEd6pYLq0QUCZyukIJXcY9oivVlutY2c/bQm\n",
       "vYJu6ktUHxSkRfMmv0xs155JcomKR5O73NGahv8mme/7Wbx3wKQ/vrecgDBKhxfPz+gAEq2En4J0\n",
       "7dX1R6b6Q6sVZ4wXA2S5Qi5n+pFZ99xoDYDEblEFaTqr6wtetUlW0jqP3FfzqhOetXqNDTRUD/2i\n",
       "/dGrd2xHsS56r20vtSD3/7q6HP8AvHHSHznT0FEAAAAASUVORK5CYII=\n",
       "\" style=\"display:inline;vertical-align:middle;\" /></a><br>(see <a class=\"ProveItLink\" href=\"../../../__pv_it/theorems/b1cb746f74b46c1b78dedb8c5c41b1a7cbf9986f0/dependencies.ipynb\">dependencies</a>)<br>"
      ],
      "text/plain": [
       "<IPython.core.display.HTML object>"
      ]
     },
     "metadata": {},
     "output_type": "display_data"
    }
   ],
   "source": [
    "%proving exp_monotonicity_large_base_less"
   ]
  },
  {
   "cell_type": "code",
   "execution_count": null,
   "metadata": {},
   "outputs": [],
   "source": []
  }
 ],
 "metadata": {
  "kernelspec": {
   "display_name": "Python 3",
   "language": "python",
   "name": "python3"
  }
 },
 "nbformat": 4,
 "nbformat_minor": 0
}