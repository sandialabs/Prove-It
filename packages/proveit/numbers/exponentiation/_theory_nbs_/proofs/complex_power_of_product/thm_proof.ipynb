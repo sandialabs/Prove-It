{
 "cells": [
  {
   "cell_type": "markdown",
   "metadata": {},
   "source": [
    "Proof of <a class=\"ProveItLink\" href=\"../../../../../_theory_nbs_/theory.ipynb\">proveit</a>.<a class=\"ProveItLink\" href=\"../../../../_theory_nbs_/theory.ipynb\">numbers</a>.<a class=\"ProveItLink\" href=\"../../theory.ipynb\">exponentiation</a>.<a class=\"ProveItLink\" href=\"../../theorems.ipynb#complex_power_of_product\">complex_power_of_product</a> theorem\n",
    "========"
   ]
  },
  {
   "cell_type": "code",
   "execution_count": 1,
   "metadata": {},
   "outputs": [],
   "source": [
    "import proveit\n",
    "theory = proveit.Theory() # the theorem's theory"
   ]
  },
  {
   "cell_type": "code",
   "execution_count": 2,
   "metadata": {},
   "outputs": [
    {
     "data": {
      "text/html": [
       "With these <a href=\"allowed_presumptions.txt\">allowed</a>/<a href=\"disallowed_presumptions.txt\">disallowed</a> theorem/theory presumptions (e.g., to avoid circular dependencies), we begin our proof of<br><strong id=\"complex_power_of_product\">complex_power_of_product:</strong> <a class=\"ProveItLink\" href=\"../../../__pv_it/theorems/fad34c0185c5993f8e14171f46856c995d4dcc760/expr.ipynb\"><img src=\"data:image/png;base64,iVBORw0KGgoAAAANSUhEUgAAAToAAAAZBAMAAABTI/9DAAAAMFBMVEX///8AAAAAAAAAAAAAAAAA\n",
       "AAAAAAAAAAAAAAAAAAAAAAAAAAAAAAAAAAAAAAAAAAAv3aB7AAAAD3RSTlMAq1RmmUTNIjK7EInv\n",
       "3XZ/CtNrAAAACXBIWXMAAA7EAAAOxAGVKw4bAAAEQUlEQVRIx81Xf2gcRRR+uZ+53cvmUChoISwI\n",
       "5g8be6AEGiFeyVksUnpYFNFAT1qRVigb8J+glAj+Aqs5NaWulbjFIIZIb6PR2oKhVMRaaTlKQosh\n",
       "sDWiUjGEglYiiO/NzM7u3s0dgkftg2935t17u9/OfPNmDuDGmL7iwc1ri52n/2cGaQGFO1HRxhp+\n",
       "sMR9fjDqx36TR/0X+0GgzpI4p9lSo98w+b2rdCjipz7lEHLkuKMd5GIuR9imz+NlBaDbaoy/S9y3\n",
       "w0e+S3uvJvorPO8B8j7dDnYfCkRsLyLlQKoEdbxBK4vG1yFnqiD6mEN4gWa40g52QwIRu4aIFyA9\n",
       "NOjU/ZLIi8b1kLPbFH3MIRBJ3WwHu9MCEc2t0/WcKjzrN54CXTp3O37/HEMcPyHVFtmVOaJlrkbX\n",
       "Par4O/3Gs/dclc4vZX8Px/nl5e/awS7hcsDI/MFARz1XcF5mVfEPkaQ2/hwt0k+u3iJasxwPAryr\n",
       "qO1qCm5zdqk8R/IbeF9qrLpfQxn1yy9YZpbzB3TYyqxHVsofTlWs7n6OEUjnFCOhplBozq7L5Pg4\n",
       "Dzukc7MDFwA2qeIvIpmvIFGLqGMdsmIwN3FkHD1cKvs+33ogYPeyWM2xpb0bPAU7Y6LHn0YquISd\n",
       "AEtsGMi5DeAvgHEVOywciTXocuWw0VvL0C0c4xwxTy6Kzit2ydDhhCvZdVDsG7cdBs/Vn4uyo2Dt\n",
       "TSt2tI7dt6D9Tv0FuixBEmvKcBN22QpU5chQPHLdLerHsEBZbnNF3AsNAwY8vbijyMp0Fj0JVCZ4\n",
       "Xvw4zBUXiqVwsH4c4L7ozGp/Q3wtVO4SKKw+le5wZqse3B9hjOVup9Bsn8An+/EyM3gCDKqPyO5q\n",
       "QY7d+OrtbFNBdsZUMHZ4HmLBH7wUbNYZj0G7Bh3lXv91f5IMYYtq7CaRnQkbYuE9rnsMpchti8Dz\n",
       "+Cnapc7rMM2UpKcn85Ldb86PGpOe546uBOzwPMSCe3tDqzzHMQl9BSmAW2FCFI8Gm6WPiS1Ell9H\n",
       "PlMIFRxCB81eAc9fuxi7xNFKsCrehv4k23G87SeDNUvnIRY8MBDSYY3j2K+v9MjT0rE5yl5UsXsd\n",
       "x6Tni5FfIhVlo9wKF0N52ZKRg37btk3D0B8O6t1Z2BrfZ9tv4cx+Zsp6R+Jnwa8+Fnr0ZYHGA15N\n",
       "WYHGWp4Va6G8qpUZcF5jY2cknwg27DU40+ly3T1yKpAHaoUF06rQfO+9Ao21M6/yxgstd558KC9r\n",
       "je9yMg7THZwSeZoL38crfCfBijIlYmfYeYgFp+csmPcfmLE4GmxUTeBIK3aj4bzk0N2fQvodbD36\n",
       "kzu1TSjpDLy4ikE4BckDz2hFscUfMuk8xIJhZt+EnCBaPlrl39OYbsXuSGPejG1HTtgx/taT9uFI\n",
       "mKkMBjgoUL+fWE2k1eJfGuU0y/PtcaU36dwcf/OUaob4jSPwD4qzI5fxanhnAAAAAElFTkSuQmCC\n",
       "\" style=\"display:inline;vertical-align:middle;\" /></a><br>(see <a class=\"ProveItLink\" href=\"../../../__pv_it/theorems/12fc088e202f050a39a132c6717dd351d11be96f0/dependencies.ipynb\">dependencies</a>)<br>"
      ],
      "text/plain": [
       "<IPython.core.display.HTML object>"
      ]
     },
     "metadata": {},
     "output_type": "display_data"
    },
    {
     "name": "stdout",
     "output_type": "stream",
     "text": [
      "complex_power_of_product may now be readily provable (assuming required theorems are usable).  Simply execute \"%qed\".\n"
     ]
    }
   ],
   "source": [
    "%proving complex_power_of_product"
   ]
  },
  {
   "cell_type": "code",
   "execution_count": null,
   "metadata": {},
   "outputs": [],
   "source": []
  }
 ],
 "metadata": {
  "kernelspec": {
   "display_name": "Python 3",
   "language": "python",
   "name": "python3"
  }
 },
 "nbformat": 4,
 "nbformat_minor": 0
}