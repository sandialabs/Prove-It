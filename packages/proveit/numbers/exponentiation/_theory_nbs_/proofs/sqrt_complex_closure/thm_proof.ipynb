{
 "cells": [
  {
   "cell_type": "markdown",
   "metadata": {},
   "source": [
    "Proof of <a class=\"ProveItLink\" href=\"../../../../../_theory_nbs_/theory.ipynb\">proveit</a>.<a class=\"ProveItLink\" href=\"../../../../_theory_nbs_/theory.ipynb\">numbers</a>.<a class=\"ProveItLink\" href=\"../../theory.ipynb\">exponentiation</a>.<a class=\"ProveItLink\" href=\"../../theorems.ipynb#sqrt_complex_closure\">sqrt_complex_closure</a> theorem\n",
    "========"
   ]
  },
  {
   "cell_type": "code",
   "execution_count": 1,
   "metadata": {},
   "outputs": [],
   "source": [
    "import proveit\n",
    "theory = proveit.Theory() # the theorem's theory"
   ]
  },
  {
   "cell_type": "code",
   "execution_count": 2,
   "metadata": {},
   "outputs": [
    {
     "data": {
      "text/html": [
       "With these <a href=\"allowed_presumptions.txt\">allowed</a>/<a href=\"disallowed_presumptions.txt\">disallowed</a> theorem/theory presumptions (e.g., to avoid circular dependencies), we begin our proof of<br><strong id=\"sqrt_complex_closure\">sqrt_complex_closure:</strong> <a class=\"ProveItLink\" href=\"../../../__pv_it/theorems/c43a27cd38873f8f36ba1d34a36c2896699592aa0/expr.ipynb\"><img src=\"data:image/png;base64,iVBORw0KGgoAAAANSUhEUgAAAIsAAAAZBAMAAADzmcCEAAAAMFBMVEX///8AAAAAAAAAAAAAAAAA\n",
       "AAAAAAAAAAAAAAAAAAAAAAAAAAAAAAAAAAAAAAAAAAAv3aB7AAAAD3RSTlMAq1RmmUTNIjK7EInv\n",
       "3XZ/CtNrAAAACXBIWXMAAA7EAAAOxAGVKw4bAAAChElEQVQ4y41VS2gTURQ9+WcmTcjGjYsSUOlC\n",
       "lK4Eo5TxB4qIgYoIggYriC5kCi4ES1VQ/BUSoYJT0U5VBImYoIK4aQtiRUR0UXQhA6ngwg+iohS7\n",
       "UO99mTeZgZlML7yZ8z5z373nfgboKLESQiUefmS5BOmpfyx+Z1LVMC1qWSLlVPCpvjA1Sq9EF3xv\n",
       "efL26PEGsiaQ5/myADVDDlritz33FLf/aMiRji08PxSgZrvjf9mP248NYK0GdQE43Ymk384XfhE7\n",
       "o5A3EQ0YAJIEMwV/LekFie64lz9ZljBuqcL8EH3bKDPolQwwJvdGoo2u1d2fbVA9ZoOvNF5Z1ssA\n",
       "NRHJiMr6BieHBU1HJF/5SzbaTx5tBcaC4i05y5DJiecYp+NI6tLlRr+NKpRUg6TW48lo97ANk7yx\n",
       "gkaWxr1e7BCLTvS0fTY6SQFQzIwMQ3rOKKmX9eg1e56lKORmCHyjsRN4z4sjFokws3rCPlcnBdGm\n",
       "o38zGZe5D6xzWXNxihaZmhdQRfzvOnaPKdIarpQy10St7zFynPq3zpK5bqfqecSaxPJfxL7DdrAl\n",
       "uzhvQJZUmK4HRL36Lj3fuqenxxUptj0+L4pG/UmB471cs53FdE283IoUhniipachiC8WXWxPM5O/\n",
       "sJInN7BK0xgcaOfhQf3mLL3XizvJs64S1dcawzAK5/e01SREFo+bIlMmvpzrFt1i4orpVPjrWfZn\n",
       "g/ygritFU2QTU6zK5WciuT5o3nTae93yVuqABF16pd8UjKUe6Zj0VHhyRg9pbk7pJTatfojUVYa1\n",
       "w6NOpxvhR/RHSHOL5b3zmmF4G0Kk0KkbScnqi+7FnSS0F7dCHSLhf4bF/acoMv8Bp0aWGQOnDhkA\n",
       "AAAASUVORK5CYII=\n",
       "\" style=\"display:inline;vertical-align:middle;\" /></a><br>(see <a class=\"ProveItLink\" href=\"../../../__pv_it/theorems/bc38e711c9a3f68083ce453055faa85b0032d0af0/dependencies.ipynb\">dependencies</a>)<br>"
      ],
      "text/plain": [
       "<IPython.core.display.HTML object>"
      ]
     },
     "metadata": {},
     "output_type": "display_data"
    },
    {
     "name": "stdout",
     "output_type": "stream",
     "text": [
      "sqrt_complex_closure may now be readily provable (assuming required theorems are usable).  Simply execute \"%qed\".\n"
     ]
    }
   ],
   "source": [
    "%proving sqrt_complex_closure"
   ]
  },
  {
   "cell_type": "code",
   "execution_count": null,
   "metadata": {},
   "outputs": [],
   "source": []
  }
 ],
 "metadata": {
  "kernelspec": {
   "display_name": "Python 3",
   "language": "python",
   "name": "python3"
  }
 },
 "nbformat": 4,
 "nbformat_minor": 0
}