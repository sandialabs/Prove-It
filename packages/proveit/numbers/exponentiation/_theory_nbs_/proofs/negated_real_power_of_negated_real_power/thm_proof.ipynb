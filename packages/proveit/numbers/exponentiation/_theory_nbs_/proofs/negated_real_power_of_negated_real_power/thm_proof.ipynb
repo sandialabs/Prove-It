{
 "cells": [
  {
   "cell_type": "markdown",
   "metadata": {},
   "source": [
    "Proof of <a class=\"ProveItLink\" href=\"../../../../../_theory_nbs_/theory.ipynb\">proveit</a>.<a class=\"ProveItLink\" href=\"../../../../_theory_nbs_/theory.ipynb\">numbers</a>.<a class=\"ProveItLink\" href=\"../../theory.ipynb\">exponentiation</a>.<a class=\"ProveItLink\" href=\"../../theorems.ipynb#negated_real_power_of_negated_real_power\">negated_real_power_of_negated_real_power</a> theorem\n",
    "========"
   ]
  },
  {
   "cell_type": "code",
   "execution_count": 1,
   "metadata": {},
   "outputs": [],
   "source": [
    "import proveit\n",
    "theory = proveit.Theory() # the theorem's theory"
   ]
  },
  {
   "cell_type": "code",
   "execution_count": 2,
   "metadata": {},
   "outputs": [
    {
     "data": {
      "text/html": [
       "With these <a href=\"allowed_presumptions.txt\">allowed</a>/<a href=\"disallowed_presumptions.txt\">disallowed</a> theorem/theory presumptions (e.g., to avoid circular dependencies), we begin our proof of<br><strong id=\"negated_real_power_of_negated_real_power\">negated_real_power_of_negated_real_power:</strong> <a class=\"ProveItLink\" href=\"../../../__pv_it/theorems/f57f67b1790d97034a9ddcb1f144b52dd204dca50/expr.ipynb\"><img src=\"data:image/png;base64,iVBORw0KGgoAAAANSUhEUgAAATwAAAAaCAMAAAAdWRCrAAAAOVBMVEX///8AAAAAAAAAAAAAAAAA\n",
       "AAAAAAAAAAAAAAAAAAAAAAAAAAAAAAAAAAAAAAAAAAAAAAAAAAAAAAACXHtMAAAAEnRSTlMAq1Rm\n",
       "mUTNIjK7EInv3Xbt5cmRiLwgAAAACXBIWXMAAA7EAAAOxAGVKw4bAAAD0ElEQVRo3t1ZiXLkKAw1\n",
       "lwHJMLP+/49dc4MPTHfSm3idSirlFgKezqeepv/jo2b9S5X99MPEvQzBb9zwRBl/KHZ05OCL+sYd\n",
       "T5TJZzojzPkCnUhbrSVwLYOW2fGwTcrqpS+s/0WPZvEfS6+FrIHJOg8Vp3c0YlLL8I5ZWbPUODhJ\n",
       "iQf2AOxkujTFG4SZd1F7cim+xRyol8y1KQNslloHHM/pd5YPAI/jPnpTcOn0yJCleHCLGY6fipe2\n",
       "jMrU0iyFdVOsyKNy4BpPz7thsro7h7Bmx/qyvuYllbJ66cyyabZMSJ/QwK3xtP2UtSUklnxhgf2n\n",
       "szPAeC9TK6uWugieWLTh/ATHsyZmvP5pFbe28ZA2b3LGLIwbrFJWLbXefotxz4JPAI/MbeqbJEEr\n",
       "u20DkjdL041m4YOA++qh4T9FodvpXh9F69adhMvieu2dnd2EFDfVU4C+1axW5SFOf65iRXOSjXBg\n",
       "etTgzMncsdGZRK86oS8KiPYYDHM8pgkJGhbmr99lJMs7xr3XLEPtck6Hh/KtLNF6ewuabDagGvdM\n",
       "LwlYl0FRnoR9R0L34mWKLbw4SJnosbFl4Kt/if0a81Zk3GqGAB61J+WC89hGIniXYbhjelnAbj8T\n",
       "g6Pr9SQ64BGZtzk0FcnzIniLLre4zE1ved69ZrmqWGgTVQNkFmXdmQNToqaSiemV1t1DY4HvqWNP\n",
       "ogEvbxoui+FoULVXF2ELq6eZfdei5o2cN6BZRcsijc0eGBleQr4clVSeML0i4INS6ooHBf7Xk2jA\n",
       "y5tyTwH+bL8sNnRm32aQuE7bcEUaKjDttL3sneZ/QLOIxUQuJAXaFHivyKdmwOCE6RWBDRquUR+o\n",
       "Y0eiBS9vOlVkNIC37HOBXZr+w2FItzzIBwjdi/OHW80sHZmokko842VzYIJ0UkqoE6ZXBHxQoigB\n",
       "FvNRR6IFL2/qTa5TRnHgrfTC3CrEIhCLShLbY/lGvAPevWZO9s7qehsGMKlirlgwUvMVmV4l4KAR\n",
       "AmFHHTsSDXhlUxe2f//RPmwvCkZm5mZ0KiLNhzrVA3NZXPYRLk5LzyyRS18EwlAmMb0iEBoRXw68\n",
       "ROJ/pxJnnpc3rcYUk6NEglwGIRsdhPMPDdrg0D8LzqhF5mcsqhTDLQBd16Fc8UtMLwuI2c44Aedz\n",
       "lEj871TiBLyyacNztiaZH/v7nBz12GjkY7Mi1mN9gC5+dvmC3gkMSPT6PHo/3Ca0TY53if9TQ0rz\n",
       "qmIBX5fogjcw2clTUDnyLYL9FHavf4fBvkGiBx4dKYz0N4x/fnZy/AWPYOLnwQvZ+F9AiSQs5g7d\n",
       "PwAAAABJRU5ErkJggg==\n",
       "\" style=\"display:inline;vertical-align:middle;\" /></a><br>(see <a class=\"ProveItLink\" href=\"../../../__pv_it/theorems/6996a39106bd8027aaf04e1c4124372cd15e6ff30/dependencies.ipynb\">dependencies</a>)<br>"
      ],
      "text/plain": [
       "<IPython.core.display.HTML object>"
      ]
     },
     "metadata": {},
     "output_type": "display_data"
    },
    {
     "name": "stdout",
     "output_type": "stream",
     "text": [
      "negated_real_power_of_negated_real_power may now be readily provable (assuming required theorems are usable).  Simply execute \"%qed\".\n"
     ]
    }
   ],
   "source": [
    "%proving negated_real_power_of_negated_real_power"
   ]
  },
  {
   "cell_type": "code",
   "execution_count": null,
   "metadata": {},
   "outputs": [],
   "source": []
  }
 ],
 "metadata": {
  "kernelspec": {
   "display_name": "Python 3",
   "language": "python",
   "name": "python3"
  }
 },
 "nbformat": 4,
 "nbformat_minor": 0
}