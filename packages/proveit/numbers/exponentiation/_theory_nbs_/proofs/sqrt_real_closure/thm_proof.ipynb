{
 "cells": [
  {
   "cell_type": "markdown",
   "metadata": {},
   "source": [
    "Proof of <a class=\"ProveItLink\" href=\"../../../../../_theory_nbs_/theory.ipynb\">proveit</a>.<a class=\"ProveItLink\" href=\"../../../../_theory_nbs_/theory.ipynb\">numbers</a>.<a class=\"ProveItLink\" href=\"../../theory.ipynb\">exponentiation</a>.<a class=\"ProveItLink\" href=\"../../theorems.ipynb#sqrt_real_closure\">sqrt_real_closure</a> theorem\n",
    "========"
   ]
  },
  {
   "cell_type": "code",
   "execution_count": 1,
   "metadata": {},
   "outputs": [],
   "source": [
    "import proveit\n",
    "theory = proveit.Theory() # the theorem's theory"
   ]
  },
  {
   "cell_type": "code",
   "execution_count": 2,
   "metadata": {},
   "outputs": [
    {
     "data": {
      "text/html": [
       "With these <a href=\"allowed_presumptions.txt\">allowed</a>/<a href=\"disallowed_presumptions.txt\">disallowed</a> theorem/theory presumptions (e.g., to avoid circular dependencies), we begin our proof of<br><strong id=\"sqrt_real_closure\">sqrt_real_closure:</strong> <a class=\"ProveItLink\" href=\"../../../__pv_it/theorems/cf0ea95a4cd25e71b0e3cb3b335334dcf2b4a4430/expr.ipynb\"><img src=\"data:image/png;base64,iVBORw0KGgoAAAANSUhEUgAAALsAAAAZBAMAAACbakK8AAAAMFBMVEX///8AAAAAAAAAAAAAAAAA\n",
       "AAAAAAAAAAAAAAAAAAAAAAAAAAAAAAAAAAAAAAAAAAAv3aB7AAAAD3RSTlMAq1RmmUTNIjK7EInv\n",
       "3XZ/CtNrAAAACXBIWXMAAA7EAAAOxAGVKw4bAAADDElEQVRIx6VWTWgTQRR++dvd2STbiF70IAEL\n",
       "HqQaLHgIUhJs/UUarQjqwUIPgpSyXjwVm4LQg0JCiz8bMW7Bi8bSYMBSD6UXjSJCT4o/0RTBgxHR\n",
       "Qq3mUH0z2czu1jRt4sKSN7Nvvnnzfe+9CUBTjyu2to8bmn5auZX4Q59aPmKyWXS5l5s3V/fqaBae\n",
       "hKqW9G+Irn7t5/sxNPw6QIDObGsQfpBbjhoiEDHg2ZgCUBC7i06caxD+CLcu1jqbmIXkMFJYBhhu\n",
       "RoRFbnWtAn9AQKMPQECCvMHG0KVyDY2RjNuFVxyeoHEIhUCVhAaDV+Z4blsC8wzoZvRbxtH4iu/L\n",
       "QuFFg/AOHvMEvhdmLlVk0E1ypFEq51mcOQiQarDoCNcqh0Hn4Y5uyw8iPv34gU4l4rg5iAHL0rZH\n",
       "0YGKk0n1NfbjnckaEwJd4KQpiSw9CMFRNttrwufCbDCELkT3VnNXmtdiihemsnZ4yIxWivCUMfZH\n",
       "KLGIoBQBugHescXIcuGNQU6qnRqTCOwscmU78TCKAuHiCnhQaBE+gxbVjF7K/MJ9cPAcZJanctKS\n",
       "mJcJJWcoTg9Fe0OmYwoUWuoI/yViwsu5EsV0pUEsgy9oIUf+wbqKvAyu72x2zgLvHqGbJejSh+fR\n",
       "6bW0BPdYoF4xHTLhJ1TmA648JrvfaDUOFmi3Cm9x5QIm0nY6/maBl5OfjMyBQYzFHZFmoYfBu28l\n",
       "LdJ2wlV2iOkYwvuKBlezTLiIk4qUhrYIO64Q5PARaCfI+14WCzLki2H/2aNpWlBRvMct8E9gnnaN\n",
       "aJyS02IAeFjVkjKteBgvjWyNsxA2n652zN8qub4AEK2eZ1IlYf0Ki0zxnNE5vLwEY/dB3BC3SYub\n",
       "0k2WW+3l4JmuNAX+9FUNn5ro0ZnamJiPLdLmpcWwvEmtcHvM3jH712i0Mm9Nnn07cyDSm+fk5+zd\n",
       "/Sb8id2lkKwbZXW46s70gF2BNS7kFd8zmmbeDqRe02EiCGp9eH+972R9dy00eddaeg5mlHbD9nHH\n",
       "OtDrX1Lif//PQcn+Ap87vj4z0Vu0AAAAAElFTkSuQmCC\n",
       "\" style=\"display:inline;vertical-align:middle;\" /></a><br>(see <a class=\"ProveItLink\" href=\"../../../__pv_it/theorems/ec93eb13788fa2d9c7843cc98fa631a1a503152d0/dependencies.ipynb\">dependencies</a>)<br>"
      ],
      "text/plain": [
       "<IPython.core.display.HTML object>"
      ]
     },
     "metadata": {},
     "output_type": "display_data"
    },
    {
     "name": "stdout",
     "output_type": "stream",
     "text": [
      "sqrt_real_closure may now be readily provable (assuming required theorems are usable).  Simply execute \"%qed\".\n"
     ]
    }
   ],
   "source": [
    "%proving sqrt_real_closure"
   ]
  },
  {
   "cell_type": "code",
   "execution_count": null,
   "metadata": {},
   "outputs": [],
   "source": []
  }
 ],
 "metadata": {
  "kernelspec": {
   "display_name": "Python 3",
   "language": "python",
   "name": "python3"
  }
 },
 "nbformat": 4,
 "nbformat_minor": 0
}