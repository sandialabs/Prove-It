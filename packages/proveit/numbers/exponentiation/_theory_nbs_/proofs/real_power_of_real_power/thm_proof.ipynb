{
 "cells": [
  {
   "cell_type": "markdown",
   "metadata": {},
   "source": [
    "Proof of <a class=\"ProveItLink\" href=\"../../../../../_theory_nbs_/theory.ipynb\">proveit</a>.<a class=\"ProveItLink\" href=\"../../../../_theory_nbs_/theory.ipynb\">numbers</a>.<a class=\"ProveItLink\" href=\"../../theory.ipynb\">exponentiation</a>.<a class=\"ProveItLink\" href=\"../../theorems.ipynb#real_power_of_real_power\">real_power_of_real_power</a> theorem\n",
    "========"
   ]
  },
  {
   "cell_type": "code",
   "execution_count": 1,
   "metadata": {},
   "outputs": [],
   "source": [
    "import proveit\n",
    "theory = proveit.Theory() # the theorem's theory"
   ]
  },
  {
   "cell_type": "code",
   "execution_count": 2,
   "metadata": {},
   "outputs": [
    {
     "data": {
      "text/html": [
       "With these <a href=\"allowed_presumptions.txt\">allowed</a>/<a href=\"disallowed_presumptions.txt\">disallowed</a> theorem/theory presumptions (e.g., to avoid circular dependencies), we begin our proof of<br><strong id=\"real_power_of_real_power\">real_power_of_real_power:</strong> <a class=\"ProveItLink\" href=\"../../../__pv_it/theorems/5197b470a1fc943903d7e9ab79fd5cabcac12c190/expr.ipynb\"><img src=\"data:image/png;base64,iVBORw0KGgoAAAANSUhEUgAAASIAAAAaCAMAAAAkPqHwAAAAOVBMVEX///8AAAAAAAAAAAAAAAAA\n",
       "AAAAAAAAAAAAAAAAAAAAAAAAAAAAAAAAAAAAAAAAAAAAAAAAAAAAAAACXHtMAAAAEnRSTlMAq1Rm\n",
       "mUTNIjK7EInv3Xbt5cmRiLwgAAAACXBIWXMAAA7EAAAOxAGVKw4bAAADx0lEQVRYw91YiXLdIAw0\n",
       "92XU1v//seU+DOb5Td4kdckkk2EkA4u00rJt/8mQXP2o/z81CJtOI/O1z0786UMRwhcb3+XXvjvx\n",
       "F88MLM3LAfpEOQCQ7qYNELifaNm/dX3D/x8aiqR/AHfzYPUGPsBYPpZlm9xvf7f4d67Wg4ZqBJMH\n",
       "ICTyobEZoSMhwiCeg7os0fIt6J2/Np0reHhoIT8uHgARNed8a6iExvvmIV929jYVOX+5i9ZVH+5b\n",
       "Ej2Km460e3oO+cMfM+YeCflyvHfjjX/ryknB3DEUfkL3c6TdDiTjWIPkS969Efdg3m8EWv/G1efc\n",
       "RtJ98CcEEdjERMNuJQXorl5QQkDfB7/xb1wh3MVu/djNEyBCvKekTSAD4lyaDbpP/zP/ZrAQtjRw\n",
       "t9LfetZl43q9FaWaOPEn8OyqjpMDGTOC2mZUBOf+XWbLAGT+cxXdiqIC9aBlsDWcIr64iZnFqjaY\n",
       "QMnGwBjYPG3TRuLUOwnHPy94tx268G+jLNYHH0BmKJESkFJuVivkkMbKnLVMNgDPbEZMEnVhoVax\n",
       "v6XGlg1WNkVfKsv0CJNmuPq7sTz3b0GMEGGYkDWlqe0yOlw/MSctUwzA/WxEj2G0slhAhERZZijc\n",
       "OYoSRLuqp2gJ5G4UXfh3USRTMctiRBsCRtQW1c0QyVpJlLVMMYgAgG7YJSqclUUHUVk0ns/Eremm\n",
       "UblINH0EIXWMmX2Pi678u4AUqSVKzZG2Ik7qcgQssJhomWoQ0kioCkhSOCuLDqKyKFV+/HK/JDVA\n",
       "9twgouSnIB4RxyrXb7E2OK+o6MJ/qGhe+KCcGlvUb6zsjWiiJ1qmGjgAqDLNppLCWVj0EJVFt0Zh\n",
       "RYj2c/bC3pV1jxR2/ETnKuW1MJv7t2jnjSFZUzwoN8LDjSq8ScnkRMtUg5BGhtWUSDyxsOghKouG\n",
       "i1WZAzxEB764VBlTSSMwUiA4qVV7V55d+Ldoo3Pg+S6BaL3Jeg+JrnOzkrRMY+ABYMyUWEvZu7Do\n",
       "IKqL+kT7/UeFRLug66Iw7ULDC/u5/o2fU333rMB8ZtVOUhgqAgXHh4KsZapBLOmBjINFVjhTi1kU\n",
       "lUUbUb15OcDQpdIni96Tfu5VRw9dJaMEgwkKR8lacFzK+PotfYHJWqYYMA7cbJpSniyywplaTCCq\n",
       "i3Y9vmsd6dj1FtJSlwz7yScLspIy2viIPyU1fmVww2LVF+HXD6EI96Q1+fQH373su99i+usWS4hu\n",
       "vDaUt7Qr8QkfROj9t2vyAYsVRPhOJcLf9yTxs6+MX7hqwr5rk5EL/wJwDyNso06O4wAAAABJRU5E\n",
       "rkJggg==\n",
       "\" style=\"display:inline;vertical-align:middle;\" /></a><br>(see <a class=\"ProveItLink\" href=\"../../../__pv_it/theorems/04ee50a9bdaa9138547b743cee0f83a83a869f3d0/dependencies.ipynb\">dependencies</a>)<br>"
      ],
      "text/plain": [
       "<IPython.core.display.HTML object>"
      ]
     },
     "metadata": {},
     "output_type": "display_data"
    },
    {
     "name": "stdout",
     "output_type": "stream",
     "text": [
      "real_power_of_real_power may now be readily provable (assuming required theorems are usable).  Simply execute \"%qed\".\n"
     ]
    }
   ],
   "source": [
    "%proving real_power_of_real_power"
   ]
  },
  {
   "cell_type": "code",
   "execution_count": null,
   "metadata": {},
   "outputs": [],
   "source": []
  }
 ],
 "metadata": {
  "kernelspec": {
   "display_name": "Python 3",
   "language": "python",
   "name": "python3"
  }
 },
 "nbformat": 4,
 "nbformat_minor": 0
}