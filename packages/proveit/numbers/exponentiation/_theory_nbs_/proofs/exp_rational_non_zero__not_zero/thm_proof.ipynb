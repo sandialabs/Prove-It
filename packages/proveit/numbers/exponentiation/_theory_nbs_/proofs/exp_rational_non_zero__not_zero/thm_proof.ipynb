{
 "cells": [
  {
   "cell_type": "markdown",
   "metadata": {},
   "source": [
    "Proof of <a class=\"ProveItLink\" href=\"../../../../../_theory_nbs_/theory.ipynb\">proveit</a>.<a class=\"ProveItLink\" href=\"../../../../_theory_nbs_/theory.ipynb\">numbers</a>.<a class=\"ProveItLink\" href=\"../../theory.ipynb\">exponentiation</a>.<a class=\"ProveItLink\" href=\"../../theorems.ipynb#exp_rational_non_zero__not_zero\">exp_rational_non_zero__not_zero</a> theorem\n",
    "========"
   ]
  },
  {
   "cell_type": "code",
   "execution_count": 1,
   "metadata": {},
   "outputs": [],
   "source": [
    "import proveit\n",
    "theory = proveit.Theory() # the theorem's theory"
   ]
  },
  {
   "cell_type": "code",
   "execution_count": 2,
   "metadata": {},
   "outputs": [
    {
     "data": {
      "text/html": [
       "With these <a href=\"allowed_presumptions.txt\">allowed</a>/<a href=\"disallowed_presumptions.txt\">disallowed</a> theorem/theory presumptions (e.g., to avoid circular dependencies), we begin our proof of<br><strong id=\"exp_rational_non_zero__not_zero\">exp_rational_non_zero__not_zero:</strong> <a class=\"ProveItLink\" href=\"../../../__pv_it/theorems/6b0de578405529b6935b739e720417f186c7d9120/expr.ipynb\"><img src=\"data:image/png;base64,iVBORw0KGgoAAAANSUhEUgAAAJ8AAAAaCAMAAACeuH65AAAASFBMVEX///8AAAAAAAAAAAAAAAAA\n",
       "AAAAAAAAAAAAAAAAAAAAAAAAAAAAAAAAAAAAAAAAAAAAAAAAAAAAAAAAAAAAAAAAAAAAAAAAAACC\n",
       "gUnDAAAAF3RSTlMAq1RmmUTNIjK7EInv3Xah18O15/Xp87zmPDoAAAAJcEhZcwAADsQAAA7EAZUr\n",
       "DhsAAAKySURBVFjDzVfZtpswDMSWvMm2upf//9N6ZXUCtzfpKQ9JIMEZz4w0Ypr+3WG1m/6rA9T+\n",
       "XPgP3IxvhyePfxHsB+427yab9FHfmVnQffb5vfgcHC5wpIlHsuEYdMyXxSoHvBSeCSPAoAd1s1PS\n",
       "e0ZT95Ox4eJhbV6KD0/FkO2HYkD01pZaJmfEAoXmRKAVb/LjrE5XMkZ5pm8LGWLhsGLRWVHdxPfy\n",
       "tc1upoGfYECC2+rmClhZb8b8a2i206+lj+MZMvKgJNVO8Rnr5gpZXCwcYj6Cfy0+sezXCM/mca/Y\n",
       "2Z46vkKaKjRisaejF3eXrqQKCYA7q42FlvjjZ35dimD2rVPWN1v211/+ogfn5QxLPtW+bgtSgALm\n",
       "Fn0rPl/PVKfOq1t5Tt6hEGYfkrnCTu6NrRHjXM4euUft+zVVYKryRxWf5AfVseS5ZeFc+q3x+YoH\n",
       "uR0AKLs40AP+glv/6JK+Xh+y1oeZbSvdcdb1PEdsH7zJ9xGAmTwifvmKqb2brF20Y3xUmIB50L+z\n",
       "7379ri4Ue9tCtaudTWt9vQmSB/bmkOfcg89aWb7jiTcjUOXvaEDhGj5Zi1kO00kfaYfSUrDKqVpV\n",
       "mdDNnIKlg17ynBYXAlWkGV/i79t3zPwVb5z8wS1+XdqKTGbEWxNYEiLnWxMOeoSLRchEUjjkuVrm\n",
       "hs5bQpc30xdP9QsndvreSbC3RrC9RV9e1fMC59hUgmpTwzbPQbtyyEnt9MXnHTOo6wH2IhP0YaKi\n",
       "LK0Dol2e23WVTX2chvfr+eUOfXs4x+9Dtp8Cqn235/kaLbaQ629NijZcDsgXOwBx7pYg2UNeXK55\n",
       "btYBjXxELe49RoirgSheRGp8NpDKfWq40p+LxPbmnE1XE5H9xPOHerg3lICs7gCUnxqJns/LTziy\n",
       "DDefE0F9Al9tD38ADqwWD6pzP1oAAAAASUVORK5CYII=\n",
       "\" style=\"display:inline;vertical-align:middle;\" /></a><br>(see <a class=\"ProveItLink\" href=\"../../../__pv_it/theorems/28b210638a18769606b6a3c372c76c3a862ea59f0/dependencies.ipynb\">dependencies</a>)<br>"
      ],
      "text/plain": [
       "<IPython.core.display.HTML object>"
      ]
     },
     "metadata": {},
     "output_type": "display_data"
    }
   ],
   "source": [
    "%proving exp_rational_non_zero__not_zero"
   ]
  },
  {
   "cell_type": "markdown",
   "metadata": {},
   "source": [
    "Proof by contradiction.  Assume $a^b = 0$.  Since $(a^b)^{1/b} = a$ and $0^{1/b} = 0$ then $a = 0$.  But that contradicts our restriction on $a$ to be in $\\mathbb{Q}^{\\neq 0}$. "
   ]
  },
  {
   "cell_type": "code",
   "execution_count": null,
   "metadata": {},
   "outputs": [],
   "source": []
  }
 ],
 "metadata": {
  "kernelspec": {
   "display_name": "Python 3",
   "language": "python",
   "name": "python3"
  }
 },
 "nbformat": 4,
 "nbformat_minor": 0
}