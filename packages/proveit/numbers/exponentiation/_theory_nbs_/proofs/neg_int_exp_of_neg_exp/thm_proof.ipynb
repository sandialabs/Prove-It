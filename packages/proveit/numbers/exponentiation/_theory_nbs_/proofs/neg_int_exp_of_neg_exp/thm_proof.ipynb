{
 "cells": [
  {
   "cell_type": "markdown",
   "metadata": {},
   "source": [
    "Proof of <a class=\"ProveItLink\" href=\"../../../../../_theory_nbs_/theory.ipynb\">proveit</a>.<a class=\"ProveItLink\" href=\"../../../../_theory_nbs_/theory.ipynb\">numbers</a>.<a class=\"ProveItLink\" href=\"../../theory.ipynb\">exponentiation</a>.<a class=\"ProveItLink\" href=\"../../theorems.ipynb#neg_int_exp_of_neg_exp\">neg_int_exp_of_neg_exp</a> theorem\n",
    "========"
   ]
  },
  {
   "cell_type": "code",
   "execution_count": 1,
   "metadata": {},
   "outputs": [],
   "source": [
    "import proveit\n",
    "theory = proveit.Theory() # the theorem's theory"
   ]
  },
  {
   "cell_type": "code",
   "execution_count": 2,
   "metadata": {},
   "outputs": [
    {
     "data": {
      "text/html": [
       "With these <a href=\"allowed_presumptions.txt\">allowed</a>/<a href=\"disallowed_presumptions.txt\">disallowed</a> theorem/theory presumptions (e.g., to avoid circular dependencies), we begin our proof of<br><strong id=\"neg_int_exp_of_neg_exp\">neg_int_exp_of_neg_exp:</strong> <a class=\"ProveItLink\" href=\"../../../__pv_it/theorems/e2714c18709df660a2e9894c970032976f56f86d0/expr.ipynb\"><img src=\"data:image/png;base64,iVBORw0KGgoAAAANSUhEUgAAAVAAAAAaCAMAAADWgvRVAAAAOVBMVEX///8AAAAAAAAAAAAAAAAA\n",
       "AAAAAAAAAAAAAAAAAAAAAAAAAAAAAAAAAAAAAAAAAAAAAAAAAAAAAAACXHtMAAAAEnRSTlMAq1Rm\n",
       "mUTNIjK7EInv3Xbt5cmRiLwgAAAACXBIWXMAAA7EAAAOxAGVKw4bAAAEJUlEQVRo3t1ZiZajIBCU\n",
       "S25m1///2KVVEBEQyWSO5c31JulCir6qM03/8RKz/MFwl4WstfzbyCKs5xH15564CEfDH84Tgl+A\n",
       "n7/T+TDteZcRn7ppGY4nfkvILyVUHZs3gkQsziFVeQuhRDhHn4T8DpdbE/f7CZXxwV0jyJxVExya\n",
       "ucKVEGY8iHmQtALcxdqqhFB0RBF5Tui49UuLm7itvqGdwGO668Nx5eCVRT27RQ+ndG7tUEIojcl9\n",
       "5s8JHbd+aVF9Df09LGVYfMt5dD3srC4vTsj7LTMPU6iHEya3VvFaPKECFXJrN6Hj1i+tJdwjbcbF\n",
       "AizgLeVV+KFTf9064HLrmSQ5dN7Z1XiA0HHrlxrC6BFtB/O5jewXbS6hzYEfK3A/oQlcZk1lQmgo\n",
       "TI9rzJyWtS+tUM6GDNreVlAXytF8cWUGweX0g9SfwGXWzqRV3lhYRg8ROmz9UoM957mUI+24a5ho\n",
       "NF4B77A9vSFkVkLp6rZSjRE6ap2pjGKzWS23MvM7BnVCtio2uQ8hapN18H+PDTlIJIRyFH5U/MFI\n",
       "Tf1XmdCqdUn5OknR6bZbpUyvlUdrd/H+OWy3Kz1lVsewLWVlBv2zAxsyKksbe3AvfZXGwiEp/b9B\n",
       "sGvlVKWxr1gnyjcAKYk8FJa6i9DtkkCFsPxdNlyu2faly/pf3fSh0Q7tHhv6phOh2JWKCqXBjf3j\n",
       "YE5qSqlsnSjfCORvZcXrIxTxCLLwiofuhBqZHqqc5UY9tAMbPFScpOcc5GiiUE/igpaS3Rx/BzGr\n",
       "NHGaZ8o3AikiWK6+U0JP1hPT25OqtPkrh7xaYH/S9EFsx3JoDzaclZ8I1XhrJxOFqtKjEl7q1gKh\n",
       "wXpSPjlE6KB8DyDM8UVNJbtEa7pqmQ//TfaO02bhgYKZdNuh8Vb6cV2tkUHh0YOdV3mQxijXtyw5\n",
       "g49U3RiOBGsQDl6XZcr3ACKKqAahZ+vdrzdCTda0xLZvb4aAV2xpq2ego31dB7Y/msmmTSg4YFSo\n",
       "ZN5EL9yP9tnP06pq06ZgDRntmBPsyvcAEoKJBqEn6+DXW8gvuOIQYgtkhZwWHLmG6LFskNAO7DAw\n",
       "KI3vokIVx40yLMhaUm7GdwriVZJA/K58E6C9KKX9pSxYQ8j/+SvXkC8XpVCMQPx1Nud2euc6afmK\n",
       "vj1adb26O7O381ADSZD5uIYBV1S+BxDXFJjR5T40WqczlwnEHkPVACadA2L61uHiadpU07dchk4A\n",
       "Ie/1cka3hDJK8GosoCwH5RuBoI77+KeiHPLR+iy8fGNPL6k3ydRdU8M3z8JIOg+t064h6tid9Kx0\n",
       "KZ1A5YNid6vmcZZsbyrLe4e1x2eV7/oIhPVKe/n4qvLBMnf3u7j38vkFnyl1wxYJxR0VGX/peKs7\n",
       "n7xG6Cd8Lj9uT9hPITSmeGetIf8A2I8kpGGHOEwAAAAASUVORK5CYII=\n",
       "\" style=\"display:inline;vertical-align:middle;\" /></a><br>(see <a class=\"ProveItLink\" href=\"../../../__pv_it/theorems/be7a04289ce10cfb5ebd757b918fc18add79abe70/dependencies.ipynb\">dependencies</a>)<br>"
      ],
      "text/plain": [
       "<IPython.core.display.HTML object>"
      ]
     },
     "metadata": {},
     "output_type": "display_data"
    },
    {
     "name": "stdout",
     "output_type": "stream",
     "text": [
      "neg_int_exp_of_neg_exp may now be readily provable (assuming required theorems are usable).  Simply execute \"%qed\".\n"
     ]
    }
   ],
   "source": [
    "%proving neg_int_exp_of_neg_exp"
   ]
  },
  {
   "cell_type": "code",
   "execution_count": null,
   "metadata": {},
   "outputs": [],
   "source": []
  }
 ],
 "metadata": {
  "kernelspec": {
   "display_name": "Python 3",
   "language": "python",
   "name": "python3"
  }
 },
 "nbformat": 4,
 "nbformat_minor": 0
}