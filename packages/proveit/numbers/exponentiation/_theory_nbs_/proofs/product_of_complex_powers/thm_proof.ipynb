{
 "cells": [
  {
   "cell_type": "markdown",
   "metadata": {},
   "source": [
    "Proof of <a class=\"ProveItLink\" href=\"../../../../../_theory_nbs_/theory.ipynb\">proveit</a>.<a class=\"ProveItLink\" href=\"../../../../_theory_nbs_/theory.ipynb\">numbers</a>.<a class=\"ProveItLink\" href=\"../../theory.ipynb\">exponentiation</a>.<a class=\"ProveItLink\" href=\"../../theorems.ipynb#product_of_complex_powers\">product_of_complex_powers</a> theorem\n",
    "========"
   ]
  },
  {
   "cell_type": "code",
   "execution_count": 1,
   "metadata": {},
   "outputs": [],
   "source": [
    "import proveit\n",
    "theory = proveit.Theory() # the theorem's theory"
   ]
  },
  {
   "cell_type": "code",
   "execution_count": 2,
   "metadata": {},
   "outputs": [
    {
     "data": {
      "text/html": [
       "With these <a href=\"allowed_presumptions.txt\">allowed</a>/<a href=\"disallowed_presumptions.txt\">disallowed</a> theorem/theory presumptions (e.g., to avoid circular dependencies), we begin our proof of<br><strong id=\"product_of_complex_powers\">product_of_complex_powers:</strong> <a class=\"ProveItLink\" href=\"../../../__pv_it/theorems/f4e1820ce22932b18beaf01b519a4489b01e0c7e0/expr.ipynb\"><img src=\"data:image/png;base64,iVBORw0KGgoAAAANSUhEUgAAASEAAAAaBAMAAAAK+ffyAAAAMFBMVEX///8AAAAAAAAAAAAAAAAA\n",
       "AAAAAAAAAAAAAAAAAAAAAAAAAAAAAAAAAAAAAAAAAAAv3aB7AAAAD3RSTlMAq1RmmUTNIjK7EInv\n",
       "3XZ/CtNrAAAACXBIWXMAAA7EAAAOxAGVKw4bAAAEAUlEQVRIx7VXW2gTQRS9ZjdNspuuwY+KCiWg\n",
       "UESUgCgapSbYaotUgwURFayISP2QrfgjFq3gCywmaguulbpSEUvFBpVW+1FKRVREUFCESmGL4qM+\n",
       "KEIV/BDnzm72Mdm0CakDGXbunJm5c+fMPROAGS+nUwWA/Y3wf8oK8uMS+vestAuAzzVygb2XnzGH\n",
       "PDFSLTIawRYXhC9X4J5iFZgOVXC5SX5Cg9FI/pjPdA9WAlTmOLW/Y6rhkfhey4UqvFzCfUaMxnf1\n",
       "g7O3NNFKKtV1pDQixQyP3viHKCqEjYXFOeQbIlWz5d5KZ3ct3CJLh1yHBiJcg+4RnxJaKKoa7fuL\n",
       "84hHLm+ymBF3dj/GSvjjOjTYwodqlauKEgkmDNSJGSDUbJxsMtOagGFn929a73UfCsGwHqPZsoEq\n",
       "IScnhovzKEnm8JsxGOGYDe4DkZ6dWylVVxt3rSQBaYriCCFLiiT2d6Toy0zr5A+m+/DycVJ/c79r\n",
       "mzXDI9/6SlVHvRgdfV6kR2WYF/Hy+xZ80pyctwy7sy5b0+CxDL9NG6JqAK5kLyIW4pGCk+JR7ZID\n",
       "TgLbDEmaOOtGsbzCT+8TuKayuRpRTeALFZD13coepAGZRHgE/Et7h91wPMGMuh2BuqypEBVQRTt2\n",
       "aV/8oOWRpZpf4s4DkdrKMzGH10hRkuj4CSjNiJrwC5yGXtajLQDvsjxClEczie0fUxKSCP1p0yOq\n",
       "mufntUP3XFictsGEC7Kng41RMGVbF920G46zcvcMhMnsGCGqwRSTKtKUJIhqYlVdVXVGNXnCNBjQ\n",
       "gEvbYOIdgDWsR70arHPu2GZIyk4eCX+Bm8hOJIi6e4BUPZX9IKEyEY/GY2aMUDXf4/BVZKuyLocU\n",
       "1nWKXKTMNPMwmuR8e8NQ5pHtHtkM7F0TfpL7WcF6RFHNyMm3/t/QTfkh+jojpkdENQWkkueQMS+R\n",
       "QwqrsM+FSUQi2hbQPK8dV8JuWMsu3glLYzHWSFGz8GRiRHjrqUd8R8piNlFNL4aE69J3iHJIYdEo\n",
       "szEvueVC+YOmz4442AxxdvHrX8+UZz2lTFQwQVR3paIoYUkSt1r5iKgm16goF/2nWgwc6LCz2+1y\n",
       "mcjo6RRlb16JxET1yoGoeo7GSPLutE6cqKafEpowG1RdDikMmS24a797yaH9OVFBOVmvBlTKIxgw\n",
       "TldIU9WkGf3oRhC1HiqHFOa7L8OgmTXwfdQ69VpcKB+PLJR3/bJ74LtMvrZ9TN/YYCw0TFXzCB6Y\n",
       "0KfUQGsY5ZDCoKexzSLBHKTj1A+IUjkfj1hUj6I4EqtHD9VDpd0whF1hzDvbveT3gp4OtYNpe9Vc\n",
       "/0WQSEumfPjm9SicFhVhTzmv/2vuD181r+cxQf0DPBsQr/lfD0AAAAAASUVORK5CYII=\n",
       "\" style=\"display:inline;vertical-align:middle;\" /></a><br>(see <a class=\"ProveItLink\" href=\"../../../__pv_it/theorems/c647d12ff7f47d56ad1acfc42f0c3d58d43316e90/dependencies.ipynb\">dependencies</a>)<br>"
      ],
      "text/plain": [
       "<IPython.core.display.HTML object>"
      ]
     },
     "metadata": {},
     "output_type": "display_data"
    },
    {
     "name": "stdout",
     "output_type": "stream",
     "text": [
      "product_of_complex_powers may now be readily provable (assuming required theorems are usable).  Simply execute \"%qed\".\n"
     ]
    }
   ],
   "source": [
    "%proving product_of_complex_powers"
   ]
  },
  {
   "cell_type": "code",
   "execution_count": null,
   "metadata": {},
   "outputs": [],
   "source": []
  }
 ],
 "metadata": {
  "kernelspec": {
   "display_name": "Python 3",
   "language": "python",
   "name": "python3"
  }
 },
 "nbformat": 4,
 "nbformat_minor": 0
}