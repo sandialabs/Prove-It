{
 "cells": [
  {
   "cell_type": "markdown",
   "metadata": {},
   "source": [
    "Proof of <a class=\"ProveItLink\" href=\"../../../../../_theory_nbs_/theory.ipynb\">proveit</a>.<a class=\"ProveItLink\" href=\"../../../../_theory_nbs_/theory.ipynb\">numbers</a>.<a class=\"ProveItLink\" href=\"../../theory.ipynb\">exponentiation</a>.<a class=\"ProveItLink\" href=\"../../theorems.ipynb#nat_pos_to_nat_pos_lower_bound\">nat_pos_to_nat_pos_lower_bound</a> theorem\n",
    "========"
   ]
  },
  {
   "cell_type": "code",
   "execution_count": 1,
   "metadata": {},
   "outputs": [],
   "source": [
    "import proveit\n",
    "theory = proveit.Theory() # the theorem's theory"
   ]
  },
  {
   "cell_type": "code",
   "execution_count": 2,
   "metadata": {},
   "outputs": [
    {
     "data": {
      "text/html": [
       "With these <a href=\"allowed_presumptions.txt\">allowed</a>/<a href=\"disallowed_presumptions.txt\">disallowed</a> theorem/theory presumptions (e.g., to avoid circular dependencies), we begin our proof of<br><strong id=\"nat_pos_to_nat_pos_lower_bound\">nat_pos_to_nat_pos_lower_bound:</strong> <a class=\"ProveItLink\" href=\"../../../__pv_it/theorems/f3009caf2762e8033d1e3fddeb5d2cf1106aae040/expr.ipynb\"><img src=\"data:image/png;base64,iVBORw0KGgoAAAANSUhEUgAAAJgAAAAaBAMAAAC5lIjBAAAAMFBMVEX///8AAAAAAAAAAAAAAAAA\n",
       "AAAAAAAAAAAAAAAAAAAAAAAAAAAAAAAAAAAAAAAAAAAv3aB7AAAAD3RSTlMAq1RmmUTNIjK7EInv\n",
       "3XZ/CtNrAAAACXBIWXMAAA7EAAAOxAGVKw4bAAACbklEQVQ4y2NgIBm0TWCgHDAHQGjGDVilHUgy\n",
       "TAVK8zRgla4kxSyuBCij/50UVoc/IMEwTgMo4+2CJ1gV3GJgEADRykQYVgNjTGYww6rgIQODK4hO\n",
       "J8IwbxjjBIMjiFpmgKZg/QKGRiDFTkxkf4UxPjAcAofhXrRAYjNgYFvAwMCtQNgsjl/wsGGG2v12\n",
       "F4oKlgkMzEDXshHhML4LMFbLOxjLFsU0vgMMDGfv3j1NhGGMoJTBLv0cxW9q7mAKIswKdLsHA8Ms\n",
       "XCZwI6UMkN9iCjh/oSgIAyc5iDDHDwaGQgZ2AVyGsSAFL1AR12EGlguohoHcARVmB0YR5wLuAHgo\n",
       "Z0IZtd4BzAdRDOMF5j2WDwy8KBlTTRxsJUSYC2gY0wOk8JcGmfhwZgCTwC4GLwyX8UxgWB+AZJat\n",
       "FySzQoTZgd5kSLBDSJ8AYhdgRmayY2HYwO3i6+KKbNj6Bwz2SGbBkgZUmOM7kNiUBSRW220H8f89\n",
       "XMAHStlMTeEPNqC4jBEYAesVGMSYCmAZH55oocKg2GSoAQXtdbC5fLf4HFaC5JkadqmiGgZKRZwP\n",
       "mK7AhRDZCSrMfABkJ9BbLA4cB8AlA3NCMMQwFr4JKIaB7OWS21H4AkvhBBFmgSUKngA+AXC5xyJg\n",
       "NnPmTAWmBq4NCSjpjOEooWTNBnPq+gJOK2Am5WfgUeiGuIwh6AGOUgMXAJYaUJcV9AcvWM3Au8AS\n",
       "mO4g5T0fWlLuQdO79i4I3EAIGMJDxFlvM0OPAoffAwb2GUB+bzq02ESKTkJFy3VULkT56pkzA/DV\n",
       "AbgqL9RgYV2AV7U2fsPQaidm4upNHACYtQDYSpZj1fRLCgAAAABJRU5ErkJggg==\n",
       "\" style=\"display:inline;vertical-align:middle;\" /></a><br>(see <a class=\"ProveItLink\" href=\"../../../__pv_it/theorems/aa538510c29760fceb9267c521d2f36c3dfb92c70/dependencies.ipynb\">dependencies</a>)<br>"
      ],
      "text/plain": [
       "<IPython.core.display.HTML object>"
      ]
     },
     "metadata": {},
     "output_type": "display_data"
    }
   ],
   "source": [
    "%proving nat_pos_to_nat_pos_lower_bound"
   ]
  },
  {
   "cell_type": "code",
   "execution_count": null,
   "metadata": {},
   "outputs": [],
   "source": []
  }
 ],
 "metadata": {
  "kernelspec": {
   "display_name": "Python 3",
   "language": "python",
   "name": "python3"
  }
 },
 "nbformat": 4,
 "nbformat_minor": 0
}