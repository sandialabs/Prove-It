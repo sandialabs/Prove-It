{
 "cells": [
  {
   "cell_type": "markdown",
   "metadata": {},
   "source": [
    "Proof of <a class=\"ProveItLink\" href=\"../../../../../_theory_nbs_/theory.ipynb\">proveit</a>.<a class=\"ProveItLink\" href=\"../../../../_theory_nbs_/theory.ipynb\">numbers</a>.<a class=\"ProveItLink\" href=\"../../theory.ipynb\">exponentiation</a>.<a class=\"ProveItLink\" href=\"../../theorems.ipynb#exp_rational_pos_closure\">exp_rational_pos_closure</a> theorem\n",
    "========"
   ]
  },
  {
   "cell_type": "code",
   "execution_count": 1,
   "metadata": {},
   "outputs": [],
   "source": [
    "import proveit\n",
    "theory = proveit.Theory() # the theorem's theory"
   ]
  },
  {
   "cell_type": "code",
   "execution_count": 2,
   "metadata": {},
   "outputs": [
    {
     "data": {
      "text/html": [
       "With these <a href=\"allowed_presumptions.txt\">allowed</a>/<a href=\"disallowed_presumptions.txt\">disallowed</a> theorem/theory presumptions (e.g., to avoid circular dependencies), we begin our proof of<br><strong id=\"exp_rational_pos_closure\">exp_rational_pos_closure:</strong> <a class=\"ProveItLink\" href=\"../../../__pv_it/theorems/543e2808d90416a09124c132fdbeb589f3f367820/expr.ipynb\"><img src=\"data:image/png;base64,iVBORw0KGgoAAAANSUhEUgAAAL8AAAAaBAMAAAAUFZBoAAAAMFBMVEX///8AAAAAAAAAAAAAAAAA\n",
       "AAAAAAAAAAAAAAAAAAAAAAAAAAAAAAAAAAAAAAAAAAAv3aB7AAAAD3RSTlMAq1RmmUTNIjK7EInv\n",
       "3XZ/CtNrAAAACXBIWXMAAA7EAAAOxAGVKw4bAAADIElEQVRIx7VWQWgTQRT96e4m2d1mbW9KRSIV\n",
       "WhAlVhAtUiKtWBVrpB6sB430IHrQWMWLRaMeFFpMQSmuoq4naSs12EKxgvQiGkRQKIpKYHvwVBER\n",
       "qtBD8c/szs+mJk0TcWCZ2T+z/83/8/6bBfiHFjwB/6lJMaevK74kio9cMcA6t39dfMkAPoGBCv1r\n",
       "cTdFCzPWUgDQUiGAGnF647MRXTQ1Ypq7cgAhxK9hg/ryAHoJSIrnzxirk4H3aQIw0PtONjheHsBe\n",
       "t69OyjX5M2NjAAe7QDbNjHkTczkPcLmCw5hz+xVQHc7nbRojUiVbRADdAH5Mkx4uj/7z7iBkbXMz\n",
       "cy/7gedsGCPSk3EC2I2UxgPzlxeA8U4gddi8V065ZBoKoqEq3E4A3/B5m82+KQ/Ax3Z45sVFMpwX\n",
       "ZO1TcLtKpIkAjuIMwt0p4CW9BEvxY+UVPKAaII4ckTDZQbverWSAVBK3AoGaIqVepPlx/eMI7CMD\n",
       "cfVCFY/gK81cQk1RLT2WVyq3ahMEQHLmy4zfFZghHOwH+EKHjlnOfuKxOWewh5w9QddVNp1xcMaM\n",
       "BZ6D3pSLoM41hxL6qOWJIAPaHCkHsVx9RCxyI0iyAEkx2vBV7wFtc2K8bbotJuSMmSW4ctaTIm0B\n",
       "pB/kRrAKFKcOcqxPsWQ8PckS0zIBBpOY6w0Atk0pQjkzHOWJ0qn4BkD7iVxqEIbv5LAVK/lAVy7f\n",
       "jEXQi2FpH4O/YYiZmiNeACZnQ84V0JOkOpgCuA8bcoh+2rLOtMjDj+18Q/ilHA1OQSd7Y87ttABg\n",
       "csbNMKrTVwpW8sPZa2sIUVt1WAzP/Trd7mHMDjGojqHwbTFNM3zITVGa5IybIT0Jw2L1y8XEVZ45\n",
       "UoFtpWR7JrqJTgm12erjQfJDBo+ccbPSGIHJxWpasMztmUaivTZPESRSnZZqcU6CLq6HES5n3KzL\n",
       "oBBZ+pcSkrWDmQjd3VTCSuvGMQjc5l6nj4nk9oeZnHHzptrZQVrtW676hhJ/3XcY3cRVMoQ95gJ3\n",
       "cslW+E6W6ztcf0qxK3398vwXu8hubBUpLPVfVKLJuME/3QjF1elG/NQAAAAASUVORK5CYII=\n",
       "\" style=\"display:inline;vertical-align:middle;\" /></a><br>(see <a class=\"ProveItLink\" href=\"../../../__pv_it/theorems/90bc2b27c3c43835f62f13f5c8b277ed220d19190/dependencies.ipynb\">dependencies</a>)<br>"
      ],
      "text/plain": [
       "<IPython.core.display.HTML object>"
      ]
     },
     "metadata": {},
     "output_type": "display_data"
    },
    {
     "name": "stdout",
     "output_type": "stream",
     "text": [
      "exp_rational_pos_closure may now be readily provable (assuming required theorems are usable).  Simply execute \"%qed\".\n"
     ]
    }
   ],
   "source": [
    "%proving exp_rational_pos_closure"
   ]
  },
  {
   "cell_type": "code",
   "execution_count": null,
   "metadata": {},
   "outputs": [],
   "source": []
  }
 ],
 "metadata": {
  "kernelspec": {
   "display_name": "Python 3",
   "language": "python",
   "name": "python3"
  }
 },
 "nbformat": 4,
 "nbformat_minor": 0
}