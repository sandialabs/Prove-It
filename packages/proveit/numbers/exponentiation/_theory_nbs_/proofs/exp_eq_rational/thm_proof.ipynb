{
 "cells": [
  {
   "cell_type": "markdown",
   "metadata": {},
   "source": [
    "Proof of <a class=\"ProveItLink\" href=\"../../../../../_theory_nbs_/theory.ipynb\">proveit</a>.<a class=\"ProveItLink\" href=\"../../../../_theory_nbs_/theory.ipynb\">numbers</a>.<a class=\"ProveItLink\" href=\"../../theory.ipynb\">exponentiation</a>.<a class=\"ProveItLink\" href=\"../../theorems.ipynb#exp_eq_rational\">exp_eq_rational</a> theorem\n",
    "========"
   ]
  },
  {
   "cell_type": "code",
   "execution_count": 1,
   "metadata": {},
   "outputs": [],
   "source": [
    "import proveit\n",
    "theory = proveit.Theory() # the theorem's theory"
   ]
  },
  {
   "cell_type": "code",
   "execution_count": 2,
   "metadata": {},
   "outputs": [
    {
     "data": {
      "text/html": [
       "With these <a href=\"allowed_presumptions.txt\">allowed</a>/<a href=\"disallowed_presumptions.txt\">disallowed</a> theorem/theory presumptions (e.g., to avoid circular dependencies), we begin our proof of<br><strong id=\"exp_eq_rational\">exp_eq_rational:</strong> <a class=\"ProveItLink\" href=\"../../../__pv_it/theorems/f33df75b09a876b7d0fd730c536e8dd9b47d5ca40/expr.ipynb\"><img src=\"data:image/png;base64,iVBORw0KGgoAAAANSUhEUgAAANkAAAAXBAMAAAB0cveBAAAAMFBMVEX///8AAAAAAAAAAAAAAAAA\n",
       "AAAAAAAAAAAAAAAAAAAAAAAAAAAAAAAAAAAAAAAAAAAv3aB7AAAAD3RSTlMAq1RmmUTNIjK7EInv\n",
       "3XZ/CtNrAAAACXBIWXMAAA7EAAAOxAGVKw4bAAACyUlEQVRIx61WTWgTQRT+8rPJZreJFU9VkEAK\n",
       "npRQiz85pJW2/hysgYp4svEkeNp6lCpRL0KDVVQwHmQLItighhbsQShBEAVRclD0UthIRbRQepH0\n",
       "6JvZmfwxWwvJg+y8ee/N+2bez0yAblBYjMbimqXSc7mFLtEPMb6wZpU+ufwCMb1slugMzF8SzCjy\n",
       "SgMujyWBMTa71BnaM8m8Q1Vp4MovAzdY2O92hjYi01PD/XlV2lz5IBCyATPeGVpZMu/1vymVgSvv\n",
       "sRGgaIY6TFtWcmcH1pIqC1ceot+nlZWPnaEFqUiM9d0zC6ogriYxJ3iTKvIk8HgbLoe9VWzPQVSd\n",
       "03X4FU6s3E1/GUNCHKAYTCHc6+2p+GCn20FbFFKU0n4YQ/Yuhe5msII+GXHKb8Q2M0onerWQCb+B\n",
       "OfA/tB5an8Nxpc7ucfBZOtwgRMejSEZzFIgrMA5a20BD3WcbTdr6pmA1VrvZNItYeokJ1k+skm+t\n",
       "Ch9vfdzeBzhOA83V86XMphFJaDXMK/JGR47JBvFX6LNAPW5802vExqy+EC19ucPO4zkzSCVb0Lj+\n",
       "VIEoyW1cijgwHvrKKKnOdg8RWRYB5mOaZsFhne0ggCc6DVf34zcmmAFDckp1NKGHtKlXtn/zaVlT\n",
       "3hHHMJls6hT4ciz0MXcHNf7dg704RCeIn2+LpNBLG5H9Coxxp39Ambe55TPyWYjKanxlRVI2W1jm\n",
       "T9VXfMAM33ZblTC9G0luI+j7lp36WjLX6mVlzU7YRUyb2SCKtFzboM7gXQAz0egArpcQZCNo0BvK\n",
       "zBpv2y9vaCMHFpGPB38u/6EB/UezCD/i3f3lYq6BxvWCmI0sE+9nOer4ZPG0vzQizXHDilBmi4UC\n",
       "BXrpFpTd7doI3rsZ/ekxjz1pthh8zrnGlZsYz6jQmm1wfTuX96/WaUAOWrqpde4cUZ6txabr1JV/\n",
       "TP8APxPKM6ZGD2IAAAAASUVORK5CYII=\n",
       "\" style=\"display:inline;vertical-align:middle;\" /></a><br>(see <a class=\"ProveItLink\" href=\"../../../__pv_it/theorems/e7bcdb9de46f2717099ad7af5d9697ea2e836d9e0/dependencies.ipynb\">dependencies</a>)<br>"
      ],
      "text/plain": [
       "<IPython.core.display.HTML object>"
      ]
     },
     "metadata": {},
     "output_type": "display_data"
    }
   ],
   "source": [
    "%proving exp_eq_rational"
   ]
  },
  {
   "cell_type": "code",
   "execution_count": null,
   "metadata": {},
   "outputs": [],
   "source": []
  }
 ],
 "metadata": {
  "kernelspec": {
   "display_name": "Python 3",
   "language": "python",
   "name": "python3"
  }
 },
 "nbformat": 4,
 "nbformat_minor": 0
}