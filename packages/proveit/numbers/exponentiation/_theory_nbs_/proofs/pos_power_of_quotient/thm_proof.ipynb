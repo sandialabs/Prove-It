{
 "cells": [
  {
   "cell_type": "markdown",
   "metadata": {},
   "source": [
    "Proof of <a class=\"ProveItLink\" href=\"../../../../../_theory_nbs_/theory.ipynb\">proveit</a>.<a class=\"ProveItLink\" href=\"../../../../_theory_nbs_/theory.ipynb\">numbers</a>.<a class=\"ProveItLink\" href=\"../../theory.ipynb\">exponentiation</a>.<a class=\"ProveItLink\" href=\"../../theorems.ipynb#pos_power_of_quotient\">pos_power_of_quotient</a> theorem\n",
    "========"
   ]
  },
  {
   "cell_type": "code",
   "execution_count": 1,
   "metadata": {},
   "outputs": [],
   "source": [
    "import proveit\n",
    "theory = proveit.Theory() # the theorem's theory"
   ]
  },
  {
   "cell_type": "code",
   "execution_count": 2,
   "metadata": {},
   "outputs": [
    {
     "data": {
      "text/html": [
       "With these <a href=\"allowed_presumptions.txt\">allowed</a>/<a href=\"disallowed_presumptions.txt\">disallowed</a> theorem/theory presumptions (e.g., to avoid circular dependencies), we begin our proof of<br><strong id=\"pos_power_of_quotient\">pos_power_of_quotient:</strong> <a class=\"ProveItLink\" href=\"../../../__pv_it/theorems/35b7db35ee53de90f016bfb947391fdb67c5a8390/expr.ipynb\"><img src=\"data:image/png;base64,iVBORw0KGgoAAAANSUhEUgAAATQAAAAyCAMAAADlcdcEAAAAOVBMVEX///8AAAAAAAAAAAAAAAAA\n",
       "AAAAAAAAAAAAAAAAAAAAAAAAAAAAAAAAAAAAAAAAAAAAAAAAAAAAAAACXHtMAAAAEnRSTlMAq1Rm\n",
       "mUTNIjK7EInv3Xbt5cmRiLwgAAAACXBIWXMAAA7EAAAOxAGVKw4bAAAFTElEQVRo3t1biXbjIAzk\n",
       "vs3u8v8fu8YYzBEfJG5eMX3taxqqmLFGGiQMwOhDiu98jpIKPGVA/MMfoC22yy9iegpqUP/wB0wU\n",
       "CBN+RdMzMMPshz+AyJmYMQBo+ATMuOHvku3iMLRwO/wA0Cb7PtmuDVfcFWTGD2u4Xj9BbdJjaods\n",
       "lwbznrbFTUaGB81UWYDEmMOhtnz1wjzplWQ74n00wAnGdjNAHR8cM+vU66xAfaiT8V0Md8i2P0oD\n",
       "heeNngumcgEiBhxlfLwmSSBItEO2XR1bGcijmhs7qglXRicW0SBugVRvGMSFVmTb1RmVgRxPZ4cG\n",
       "DZodHzByWR1tY93VWFkbyHdtYytcU0KRHCM4A3ZZWO8L362BPHAOnQqEw+VLldbsYxhkAKXlSd0H\n",
       "WmMgf3NkgWvLWw7lxiDr94kEkH1Bd1I4aQzsO/hYQ5ZAZA6goNWCQysyfqIuV2sMVEFtww2N5XdG\n",
       "luw8DDXTfUpez7GOpBzBhopwypEyPh+LiPuqIXjOqiJtPeRgeaAQTJCdBMB7PzhuaDUaCjRUhqmT\n",
       "8IycuNXF8RrK2FCYzSwpYHD6xD3ucwnn74+Z/DB6LNAqxXGinu5UV87HMbLcstF6LbrYOZ9qildb\n",
       "RjJl47r6Mp6THMYfX1pufe0HDnK0qVY99HP3EWmaopPpg/KclQRuNT0mjye0QXjSjEBm90DK7FXG\n",
       "w0VpbV+sGBb5kGa7a7eNDLQOoeZejBy0RVUj+yoNCAulpL5JCufogdL2LTXN9iY0Fqx3Ls31OWhl\n",
       "Ry54v2+EUHkC2rmn3aduA2gzYm2LhpA1O2m1vIfjcow4mdBYsPMXwMpeAM3kKRHy9KdW7/fS876Y\n",
       "Fug5S7Qo1pTGVvsLtDHbKCyC5/Ok7SxUBxNimyxNCKBZ5cHShJBp/qY79FyNB8rpEOL9a4PaRMCL\n",
       "RHCSHW/MniawkkdpqCYednEqrQTxskBiJwUsOZiwtsm2CQs9uUwgHnjaapxIP/7M33gt+bQNR1vo\n",
       "tLOCKr9Rp0WwYKIcCH1Bmi4SK1zksHkdvoOxP2Ftk20TZtCI1BJcSASr8fBfOKuTGXsibg05Ebf0\n",
       "NtDq8OhbXNYDidlysyUCQtDy6sRSPj6YEC5vm7DQU1N0AbTV+OI7MvqIB611FFTCUKRdJc1Uz+6S\n",
       "oa2B3Kl19dp3rrBSQGxvrHE+aiYXIszBhEDWbIIHjVKtdnRattzVuKfn339yoedeIqgKt6SsrtVN\n",
       "Xd1b2U8GmnMMoo4Exoc06um2bRC4Jnz55zlL+OiiAJbgYEJsk20TguRQewTKQIvGwVZ8AdZLDnjG\n",
       "Ely6Uu2Zsle7RwPtOQZU26YEI6vxUihKnFN6ZpqXD8LnMEGsBUcTYpssTaDMMg0U2atp5dlzNV7s\n",
       "6mZxS16Qa2IlSVChddVnyTMaeHGOwR6UO5X29KjCJ/p4wjFom53z7mLVwZPkgI3dpwmigRfnGGBn\n",
       "aY6qTydcBe1CnaoiZNE7YXDWe9kN1L11r2jgBdims1iLP55wETR0QSBUm4C8t6vcLNZVtmDTqdKS\n",
       "gfYcA/8dLfZ3WxNVsTbzJlRpO2s6TScD7TmGsZvFtcrI9q0h5Wx6qtfRGgN5SBv7WAKtVP52/nY5\n",
       "oUATfW13Jb8ycLbzH2nUzUyGc5GVyiD9B3MrAwfpZ7xRL8CXG8KaRTxjtvy1f69eGChv1PAHvOtm\n",
       "EF8rXP6BjKTb5BspvTDwkeD7/a4GeMgFCmqSyn3vlDdyA59tx37hYF/uO1L3gCd9hPkuWyYEHjDs\n",
       "Vw+gPOMxny88UJaTk4GHDPY1xgj2nAc+v/aQ7IbZf306MZ2uaXGHAAAAAElFTkSuQmCC\n",
       "\" style=\"display:inline;vertical-align:middle;\" /></a><br>(see <a class=\"ProveItLink\" href=\"../../../__pv_it/theorems/e8b1984b5708b2ae417e21d9f2dc26d085e171ba0/dependencies.ipynb\">dependencies</a>)<br>"
      ],
      "text/plain": [
       "<IPython.core.display.HTML object>"
      ]
     },
     "metadata": {},
     "output_type": "display_data"
    },
    {
     "name": "stdout",
     "output_type": "stream",
     "text": [
      "pos_power_of_quotient may now be readily provable (assuming required theorems are usable).  Simply execute \"%qed\".\n"
     ]
    }
   ],
   "source": [
    "%proving pos_power_of_quotient"
   ]
  },
  {
   "cell_type": "code",
   "execution_count": null,
   "metadata": {},
   "outputs": [],
   "source": []
  }
 ],
 "metadata": {
  "kernelspec": {
   "display_name": "Python 3",
   "language": "python",
   "name": "python3"
  }
 },
 "nbformat": 4,
 "nbformat_minor": 0
}