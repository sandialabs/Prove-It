{
 "cells": [
  {
   "cell_type": "markdown",
   "metadata": {},
   "source": [
    "Proof of <a class=\"ProveItLink\" href=\"../../../../../_theory_nbs_/theory.ipynb\">proveit</a>.<a class=\"ProveItLink\" href=\"../../../../_theory_nbs_/theory.ipynb\">numbers</a>.<a class=\"ProveItLink\" href=\"../../theory.ipynb\">exponentiation</a>.<a class=\"ProveItLink\" href=\"../../theorems.ipynb#complex_power_of_products\">complex_power_of_products</a> theorem\n",
    "========"
   ]
  },
  {
   "cell_type": "code",
   "execution_count": 1,
   "metadata": {},
   "outputs": [],
   "source": [
    "import proveit\n",
    "theory = proveit.Theory() # the theorem's theory"
   ]
  },
  {
   "cell_type": "code",
   "execution_count": 2,
   "metadata": {},
   "outputs": [
    {
     "data": {
      "text/html": [
       "With these <a href=\"allowed_presumptions.txt\">allowed</a>/<a href=\"disallowed_presumptions.txt\">disallowed</a> theorem/theory presumptions (e.g., to avoid circular dependencies), we begin our proof of<br><strong id=\"complex_power_of_products\">complex_power_of_products:</strong> <a class=\"ProveItLink\" href=\"../../../__pv_it/theorems/d0ad2a6270864293b3a3c5f88aa73e4205b076fc0/expr.ipynb\"><img src=\"data:image/png;base64,iVBORw0KGgoAAAANSUhEUgAAAy8AAAAmBAMAAAA/5LlWAAAAMFBMVEX///8AAAAAAAAAAAAAAAAA\n",
       "AAAAAAAAAAAAAAAAAAAAAAAAAAAAAAAAAAAAAAAAAAAv3aB7AAAAD3RSTlMAq1RmmUTNIjK7EInv\n",
       "3XZ/CtNrAAAACXBIWXMAAA7EAAAOxAGVKw4bAAAI0klEQVRo3tVba4gcRRCu7ONmd3Zvbn8FNBBW\n",
       "jOZHPF1fgZwSN+YuqPGxGN8JuBAhREE3f8TzkVvFJ565UxPiKsQNiYKe8TY+oh4knNGQqIhBTpRI\n",
       "YKPiKxpDJAYUPburZ7qne3pu5mAzZPtHHTv9TVV3f91V1bV7ACHaeZN/winXEvkIjFwe2XRerQuZ\n",
       "mJysh3rpDDgF26IoyM9FNp3UASEBsu1LTLwcgZH5EU7ofJdsZ2IG6xHs4k8jnFA6L2Q7E3NXizlY\n",
       "rXnY0dBBHx+erp5Qxk3cBUy2MTGxv1uscJYu6dEuz4zGdPWEM77IFTrbl5jORosV7tM8+1aLzFan\n",
       "qyec8YGKkO1LzFCLQ0zqv0MejSn9qRw6cvr09IQ0nsa9xmT7EnMaSqMluqgW64BV9PgsFkwqMhJ+\n",
       "r//gAlWC9XitaY3HxzHbHG9vYtiN97uW6Eo2yUYtePPvrgKVVl5GwvPuLFrt1emR23d+xo1jSNQx\n",
       "mxi8Qp0ZSEwYWIQtdQIzgBYFmu9p4PBeJofwNMxTkCQguO6280LokbOWhq/xCfw8YRPTR/+uCiQm\n",
       "DCzK6+VRLGC0SFtHHbogm1cfX4b5a1lBwlHYzT97enV65NKLv/El+HmJTczD9PgMBxITBhZhm4EL\n",
       "srhVNBehs77A83gmVmUKChIOxMU6eHp1eqS22N/4H8AlIYbugUw+kJgwsAhbFv3FeKvUfQqpa5ue\n",
       "px+iJRUJjx5xjSOMHqmN+xs/r8olISZOOO8IDv5hYBG2LuqpY+VWqVupffoPFWdPiTw7jB4pxJT9\n",
       "jQ/luaRZ2ecHD34WIisLAYuSGOpCEpSdNbvWKvnnrJ+awQrk17b7Z35LZZUKcupeTdOMmb80WuCS\n",
       "EnMFwIshiAkBi7AN0G3VQaaQ3Asvyzn/iko6uFyjvMbz38RBbDmRuK6UVc737nb/Xl2eUfA33tXk\n",
       "khKzBgx9gpeRiLFhc/2h9rbRI6AhEKLN9Z2AFu7KZCkxnUS8UYBrpB7zI0jsD1wf5bVztCk5EvOl\n",
       "rFJBTt2rKyXl/Y2jf2aSEpOuZ0ryyw8tLcVJ4EtIxDBYXIF271h0N9hQhlcRsW/vmElXuAhujaDF\n",
       "6uCiXGutn809wO30zSwR12FFawt6bvMv+tJRWkcb2Y5lk1FNFMJn18mFsCHtqTpO5R5HpTlfQqIx\n",
       "0csMDklG5MZeEGP2Gu8qckmJiTXdQT11qFaK5cbgKpUYBtusQK0MvNewoUkk3I2AdadtgGYj84C9\n",
       "0knlcrVZGbsWPss2ZT5bib0knRg6yU/APA6pI/v53Sw7DKMl8jruyU5NeQSf4Wsu9+d/YvY4Ktf9\n",
       "LiMnpF5mcIVkRGkT4B6zxrhCDJQXulC9JFmLLUxAQyWGwfoUqGVBT9OB3gkKInEFdUjN+Jv2SjOE\n",
       "aH1KYNTC99mmMuTxJaorM//Du2ZMOK/RJr0YHoeB6hQOxX5NHHxdjOGujKlkoG6PK3Mb7A7jynyN\n",
       "KzEG3iLzjy9ed8haUAWLpgSxR24m+7b3mt4+NzEUBmQBRha+xzwLhRJifi060LeAIcy3D1d4AYOs\n",
       "tLUV3umd6C3ZCNHcWD84rbyiqS2PuQqAA/RJugnmMXLXnCsRk4eZsUpPADH4mjNpAO2l0MCsbJOj\n",
       "ki2ggtwkG1wQSAwfs8Y4q811OVkZPEj2x5YVhWzOysFr6OerY2d5TwyFGWUwv2Z1Kga1MsamggOd\n",
       "A4iAbRVWZTLxhtxs9H/vHIE58sxdWF84rbyiqbnuTGGUbqtMjq5Md7HoJibdjE3Q4eyUnTt1+szL\n",
       "2wtKXnMmzbJe3bFiyaytshu8yO2ywaXeqKIY5mPWGMdUk0kkZgah7f4foatKcuxljJiENewhhsKS\n",
       "w5AopsbBIJkzQq3ES8M8qt8KiIBeGITkuX2QxB3QvPIDcFb6Vjm62ljnoxZOK69oqqfHffOn/SlC\n",
       "x+bDT8yuuokxZ7+/5mfxcxPHuaPTnxDRjb7mTBrgK+3u/piKZ7hKJEZBPiMb/MobVRTDfMwa40Ml\n",
       "LkXZfzZZIOL/5tdqtXysajbKHmKQshyJXoTmR8goEGpZmes5MU8xBImIhyALoxBfXas9R3zTu3ln\n",
       "pZ+SMzAb6+RoWjitvKKpJ29xXwfwdH3DNXkS5P56iNuQPWkw9Pk15oOdVXcsUJGilxo0gvN0MWav\n",
       "cfZNNkpBzD74BQZS8DQ7MXB9U73HML5JBlJJ99SBEINQy0ourzvQOQxhnoDnXzeI2VSDBY0bx+yL\n",
       "ieLKHGz88gv75lV94LTyiqZo8Dd5kMaS00W+xBhFoxK8SPaklVIkb1c7ZUtBjIrkvWjQR4/ULvI3\n",
       "vlNIToxxlDC4IEFuK+x6YeXUm78TrrOVoWVIDEJJujzGR34ERjCg700dJ25ng10qIHnEVoEwScrP\n",
       "hMDGfoE99GsKDXwEK69oyninArv4guBdO13xI6b/yUeDj4wzaejX91+GKja6ifEgN7oN9oc4pc6Y\n",
       "NcafFZITk8zBKljzKxgvUMe5yv5izEvMRkguPvdtoMQg9KYfG1uXiM7BPB3pDRccLkCCHPJ+Gpbu\n",
       "vsvsLXNEajcMVlJ7iXBhXzDL9AevGvhgnlZe0RSMrF5fdaVVPF0gQ9nxj1Il+GJyMniNnEmLtVeu\n",
       "onme5JD2wD27NMjX3AY3hiDGGbPG+J9Cer9aHqnVStpaGWvL7b8HNFBqMs8RYxZ58kFtg4qI8U8C\n",
       "uz/W6Izr4XmfUa1HubYlhTfLx+ul0RcYzamQU/fq2lo/48kTQk77O/8EU7PuM81XM6QvWXcQHZP/\n",
       "ahFwGx8Hx5o5qzTjJz+F+nZpBJXS+DhE2TJlIaf/Y4wxf9TFZCqBCOChLgArFOrdTOnkr5RUODn5\n",
       "jX0nbctpE2P6o+phEaG06eCe7XWS245IifnNJdv4t8v7otjD1ShntNsl25iYKP5DIl6OcEJWWch2\n",
       "JqajEIGRlRFO6MGKkO1MjPl1BEa2VaKbz5dChibmlPwfzHvrJ9+GcWdk00kXhAz9P5inZDOiiMz3\n",
       "RTadV1yStv8Bf/Xz0pyG+r4AAAAASUVORK5CYII=\n",
       "\" style=\"display:inline;vertical-align:middle;\" /></a><br>(see <a class=\"ProveItLink\" href=\"../../../__pv_it/theorems/90968de5d280d07390be37796acd73e0b85011fc0/dependencies.ipynb\">dependencies</a>)<br>"
      ],
      "text/plain": [
       "<IPython.core.display.HTML object>"
      ]
     },
     "metadata": {},
     "output_type": "display_data"
    },
    {
     "name": "stdout",
     "output_type": "stream",
     "text": [
      "complex_power_of_products may now be readily provable (assuming required theorems are usable).  Simply execute \"%qed\".\n"
     ]
    }
   ],
   "source": [
    "%proving complex_power_of_products"
   ]
  },
  {
   "cell_type": "code",
   "execution_count": null,
   "metadata": {},
   "outputs": [],
   "source": []
  }
 ],
 "metadata": {
  "kernelspec": {
   "display_name": "Python 3",
   "language": "python",
   "name": "python3"
  }
 },
 "nbformat": 4,
 "nbformat_minor": 0
}