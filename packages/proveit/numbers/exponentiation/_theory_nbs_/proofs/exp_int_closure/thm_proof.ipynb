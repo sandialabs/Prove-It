{
 "cells": [
  {
   "cell_type": "markdown",
   "metadata": {},
   "source": [
    "Proof of <a class=\"ProveItLink\" href=\"../../../../../_theory_nbs_/theory.ipynb\">proveit</a>.<a class=\"ProveItLink\" href=\"../../../../_theory_nbs_/theory.ipynb\">numbers</a>.<a class=\"ProveItLink\" href=\"../../theory.ipynb\">exponentiation</a>.<a class=\"ProveItLink\" href=\"../../theorems.ipynb#exp_int_closure\">exp_int_closure</a> theorem\n",
    "========"
   ]
  },
  {
   "cell_type": "code",
   "execution_count": 1,
   "metadata": {},
   "outputs": [],
   "source": [
    "import proveit\n",
    "theory = proveit.Theory() # the theorem's theory"
   ]
  },
  {
   "cell_type": "code",
   "execution_count": 2,
   "metadata": {},
   "outputs": [
    {
     "data": {
      "text/html": [
       "With these <a href=\"allowed_presumptions.txt\">allowed</a>/<a href=\"disallowed_presumptions.txt\">disallowed</a> theorem/theory presumptions (e.g., to avoid circular dependencies), we begin our proof of<br><strong id=\"exp_int_closure\">exp_int_closure:</strong> <a class=\"ProveItLink\" href=\"../../../__pv_it/theorems/396682dd8de2485b9019e5a2c0c12dbb7cb4f7080/expr.ipynb\"><img src=\"data:image/png;base64,iVBORw0KGgoAAAANSUhEUgAAAKEAAAAaBAMAAAAtciEzAAAAMFBMVEX///8AAAAAAAAAAAAAAAAA\n",
       "AAAAAAAAAAAAAAAAAAAAAAAAAAAAAAAAAAAAAAAAAAAv3aB7AAAAD3RSTlMAq1RmmUTNIjK7EInv\n",
       "3XZ/CtNrAAAACXBIWXMAAA7EAAAOxAGVKw4bAAAC1klEQVRIx61VTWgTQRR+STbZzW42rBd/QSIq\n",
       "BAolHuxBSl1RIeIlUPFgCwZ7kBYPWz0JRaMUL4qplRS3KqzeYqAJ1aL2VCqCQcQcioKwkKKg9afk\n",
       "IkLx4JvdnUmWds1GHAjzMm/2e2/e+74ZgH8a1ybgP41Qxp4DlQ3dXOeIe5w5ltvQzXecuph1jPzq\n",
       "9g039HWKGE05xg/jk8sRPPd72LyXAtkAUMjCbp+IY9S4DT0uR/xWDrIRnBHuKFk46xPxODVewSF3\n",
       "S1SIp2axLGsAVzop6E9qNGDR5QhoUBQJyhBABE8uJfwBCmvU+hByklgxTdItESAdIP0/hgzDYkd8\n",
       "phivUWt81Z5PfmXRlHEyfcffG9N87RMxQNLhd3yuM/6NNGlgTJPpNB45DTDtlzzkqINalB0+ojFf\n",
       "V8iKk8ejjwKvtOZRfXJXbVEuvzQHvc6GCM7iC+DY4VvKlbXtyxmSrpShtVjWM7ImzRhUuTe3FWCX\n",
       "ZHCG7ZcxFNcAmYn6honDCh1PzAHgtjJiBess0hFMOQRXL1DlcmnC/roqQTPH2IT1lT2KLMUiYeAW\n",
       "zJE0PEvEWOp7ihy1nKpKlfuRGMm9l1oRy3U4yHBkZm1FRooN/IxUdhYbJr4XfjkRQ+dzjnItykJS\n",
       "ejhAa4wL5QRsDtKGxGnXBfUEumt2r2FMISoSFqDfcs5IVLlhK+ckqCsUYAHLXg8uNa/BM4w7I8BP\n",
       "YsBeKzLmFMugxnt0XU9AZR4e2coNDev6JCKWaKHDSBtx57PRLwzxQcFu2uBUVX9bxY4xuZe16AHj\n",
       "uvVVMgXztnKFip1juJtue7mOogP3zWzr/yFqxLR8vxEl8SQOwjWxYinXYv5+gOV1d4/nlczIHz7c\n",
       "/Rj4O2jt2/RtShEWLeVexHoI7zQIMP61fYcU9/+SrjtUC9oRn+sFt7DbXVKy5uU51ead8Rre70zK\n",
       "Y73r74Cdv4XsvfYY5AL4AwYMsRRFwNreAAAAAElFTkSuQmCC\n",
       "\" style=\"display:inline;vertical-align:middle;\" /></a><br>(see <a class=\"ProveItLink\" href=\"../../../__pv_it/theorems/a4bcf1ad41e75a9838abf8ebf61c3f5b1c3189c20/dependencies.ipynb\">dependencies</a>)<br>"
      ],
      "text/plain": [
       "<IPython.core.display.HTML object>"
      ]
     },
     "metadata": {},
     "output_type": "display_data"
    },
    {
     "name": "stdout",
     "output_type": "stream",
     "text": [
      "exp_int_closure may now be readily provable (assuming required theorems are usable).  Simply execute \"%qed\".\n"
     ]
    }
   ],
   "source": [
    "%proving exp_int_closure"
   ]
  },
  {
   "cell_type": "code",
   "execution_count": null,
   "metadata": {},
   "outputs": [],
   "source": []
  }
 ],
 "metadata": {
  "kernelspec": {
   "display_name": "Python 3",
   "language": "python",
   "name": "python3"
  }
 },
 "nbformat": 4,
 "nbformat_minor": 0
}