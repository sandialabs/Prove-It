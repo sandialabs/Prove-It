{
 "cells": [
  {
   "cell_type": "markdown",
   "metadata": {},
   "source": [
    "Proof of <a class=\"ProveItLink\" href=\"../../../../../_theory_nbs_/theory.ipynb\">proveit</a>.<a class=\"ProveItLink\" href=\"../../../../_theory_nbs_/theory.ipynb\">numbers</a>.<a class=\"ProveItLink\" href=\"../../theory.ipynb\">exponentiation</a>.<a class=\"ProveItLink\" href=\"../../theorems.ipynb#exp_real_pos_closure\">exp_real_pos_closure</a> theorem\n",
    "========"
   ]
  },
  {
   "cell_type": "code",
   "execution_count": 1,
   "metadata": {},
   "outputs": [],
   "source": [
    "import proveit\n",
    "theory = proveit.Theory() # the theorem's theory"
   ]
  },
  {
   "cell_type": "code",
   "execution_count": 2,
   "metadata": {},
   "outputs": [
    {
     "data": {
      "text/html": [
       "With these <a href=\"allowed_presumptions.txt\">allowed</a>/<a href=\"disallowed_presumptions.txt\">disallowed</a> theorem/theory presumptions (e.g., to avoid circular dependencies), we begin our proof of<br><strong id=\"exp_real_pos_closure\">exp_real_pos_closure:</strong> <a class=\"ProveItLink\" href=\"../../../__pv_it/theorems/7755c868483b1ba8afe28acc6c6e5afd52154b1c0/expr.ipynb\"><img src=\"data:image/png;base64,iVBORw0KGgoAAAANSUhEUgAAAL0AAAAaBAMAAAAQ4EBVAAAAMFBMVEX///8AAAAAAAAAAAAAAAAA\n",
       "AAAAAAAAAAAAAAAAAAAAAAAAAAAAAAAAAAAAAAAAAAAv3aB7AAAAD3RSTlMAq1RmmUTNIjK7EInv\n",
       "3XZ/CtNrAAAACXBIWXMAAA7EAAAOxAGVKw4bAAADDklEQVRIx7WWXUgUURTHjzu77nzotBQIGsRC\n",
       "Dz0ZA5KQhIy0Vj5YS1IP9tCGgVgh20sgRa4g+RC0g2J0jWwECcKoISnRhxAfSomghyjStkaMHipF\n",
       "hIp6kM7Mztw768d+GF24M2fu3PnNmXP+99wB+IfGt8H/afuc885NZ6jY/VvF+1THmN50ioY9qG2R\n",
       "f8+Nz+q8noUPtVvk9zlneVZWvePcBfLzQx/jl+LbQ5axuyB8cNIxBIWLZdwRgqHAjgHKlxFebxmt\n",
       "BfH9hmOUJPyhNXwDtC7wEzJD8DvEPwBdhSdiW9Q1oCS8jn+4mPoPLQDFGCMpXBA/6Sa1VN/vJOJO\n",
       "6i3lC4zfgDlR8B2FpXeRrq+jpn0OtOvM/4ohxv+O/VUq9bIwfpl1uPjsKh24pLP48L2tjH8abxwB\n",
       "GFjPkLLwieXyC7hLtd/K4v/800fdXb8YyQQ6AsHQBhrJwj+D/YECjXQgxvijNV7FdqISBF2KeoYq\n",
       "n9a1M/41R1m+ubNlpjvlDfZjAHM0DRji1HsnPgNVHtgjJPtMml5+nkRlCcYMyi+ypH6jvB9MQ7rs\n",
       "9X8GxB/utah59NkteEpGZ8L6OlomIngpy1BjSpHGSH16BeGrMENgmtxDD19cBW6ZYl57+P4ez2JK\n",
       "xvHw+BweRmrHQFbA5n9Vqf/JpQpYAJsvD7tPlSN/BYpie9yBJQ9f1BYY39IPXMH0iu/4X3DfXipS\n",
       "cFCh/EX9c/rrTaODPmepehAqVVrbisOUr0KVwNJ5wI6xFQOVn4Qmm++/rbH89kF1QLH5DeMZXg19\n",
       "69mVoAkob3br5++4cHOFzqxzjZIo1rpqQkhYlqXjTP/TUMe1EdKL8XkSZpPXKjYwnq4Pa1sLFVJc\n",
       "qNGv2/7LgVNMAcswxRvp+J+YWFc/czWrfjouxZNNuq0s1OeEE1jRgFlOS69u1CfNLz+ZJ5+jCzdw\n",
       "cO8oBG+hdfKLMXzI4UxBN0qjI2FVsPNihK7M7XnyS+OZ1yOEZITWl/6McdK/8f6bq+Xaf5s3+3/I\n",
       "LwE5ty0l1/9Pjn0U8/kX1k3HDvkIBewAAAAASUVORK5CYII=\n",
       "\" style=\"display:inline;vertical-align:middle;\" /></a><br>(see <a class=\"ProveItLink\" href=\"../../../__pv_it/theorems/debbf5c6811a59c6b86a51a3366f0e0186ec2a510/dependencies.ipynb\">dependencies</a>)<br>"
      ],
      "text/plain": [
       "<IPython.core.display.HTML object>"
      ]
     },
     "metadata": {},
     "output_type": "display_data"
    },
    {
     "name": "stdout",
     "output_type": "stream",
     "text": [
      "exp_real_pos_closure may now be readily provable (assuming required theorems are usable).  Simply execute \"%qed\".\n"
     ]
    }
   ],
   "source": [
    "%proving exp_real_pos_closure"
   ]
  },
  {
   "cell_type": "code",
   "execution_count": null,
   "metadata": {},
   "outputs": [],
   "source": []
  }
 ],
 "metadata": {
  "kernelspec": {
   "display_name": "Python 3",
   "language": "python",
   "name": "python3"
  }
 },
 "nbformat": 4,
 "nbformat_minor": 0
}