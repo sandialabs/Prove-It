{
 "cells": [
  {
   "cell_type": "markdown",
   "metadata": {},
   "source": [
    "Proof of <a class=\"ProveItLink\" href=\"../../../../../_theory_nbs_/theory.ipynb\">proveit</a>.<a class=\"ProveItLink\" href=\"../../../../_theory_nbs_/theory.ipynb\">numbers</a>.<a class=\"ProveItLink\" href=\"../../theory.ipynb\">exponentiation</a>.<a class=\"ProveItLink\" href=\"../../theorems.ipynb#neg_power_as_div\">neg_power_as_div</a> theorem\n",
    "========"
   ]
  },
  {
   "cell_type": "code",
   "execution_count": 1,
   "metadata": {},
   "outputs": [],
   "source": [
    "import proveit\n",
    "theory = proveit.Theory() # the theorem's theory"
   ]
  },
  {
   "cell_type": "code",
   "execution_count": 2,
   "metadata": {},
   "outputs": [
    {
     "data": {
      "text/html": [
       "With these <a href=\"allowed_presumptions.txt\">allowed</a>/<a href=\"disallowed_presumptions.txt\">disallowed</a> theorem/theory presumptions (e.g., to avoid circular dependencies), we begin our proof of<br><strong id=\"neg_power_as_div\">neg_power_as_div:</strong> <a class=\"ProveItLink\" href=\"../../../__pv_it/theorems/d9dcdcf55542c88480ce1550faaee0f6fc70fb9f0/expr.ipynb\"><img src=\"data:image/png;base64,iVBORw0KGgoAAAANSUhEUgAAAO0AAAAyCAMAAACH+6xHAAAAPFBMVEX///8AAAAAAAAAAAAAAAAA\n",
       "AAAAAAAAAAAAAAAAAAAAAAAAAAAAAAAAAAAAAAAAAAAAAAAAAAAAAAAAAAAo1xBWAAAAE3RSTlMA\n",
       "q1RmmUTNIjK7EInv3Xah18O1XjQ+CwAAAAlwSFlzAAAOxAAADsQBlSsOGwAAA6lJREFUaN7NWtmS\n",
       "4yAM5BD3sQf//68LvmBjgpMJOPAwVVMzYBq1pJYAoSmGkuPW1kqjqQamI1eXbiq42IxFR9xEYCnv\n",
       "yVsMPDza0uBpwAor+i7oT2iRo7OgdR4NR0vsJK5LLRqPFnGYA601d6BlQcwAtra1EUvyKQKVw/cc\n",
       "IAkTeK4M8h60Ovjvo8X2LudQE0gMi+9CS78fp2Sgd6HV4esKw18fOAUqvX8nXZr6ovbrUVlduq2m\n",
       "zEajvK4uMbaB14qq5LgZMPmCpa26VNHap6KhQ/4wASFgR/6934t1qDJUqn2kLeGYOliH0E0DQ3I3\n",
       "rlD3m1a+kgRtzMgASHb5GN84Ysj9aEm4/qgISXFJIrsQiW7uyu8HG8l1jYEl8nnTIaiEtJJ1afQv\n",
       "Rd5OQAIbLwbqu5B8FZbz/UpjzpShlqUso66DL7hivJNDLV+OdP/xGv0TCYQn/p0Q/oQ4UGDTKa1G\n",
       "KAPLLbeb1bAG3xTgTLElZ6TQ1nR04SAtSTcB80QK4VAiX3b0c4cK9VGgXdIY8bWtS4+VYqn5jKMV\n",
       "idq2Qdlih0SMKuf2aQQjE/8B9KtoF6GhAxtoW7uFY3oKDgBbuDR6+Rs1yADAr98Q9YhwS1aocXOf\n",
       "RuKScFAYLpm81p80XG/6x367Mjmm2j3pakO9SQ7p6aFT5Xrcotj2altx1u3HNEQkYZH9EW06JAcA\n",
       "rKnf9ZJ6MUdkmKSzK4HFXh5oJ6LkEIm+x67F8fm47T9/123zIkEXuj1Pi2gjKwhr29YX+Vb51NQH\n",
       "NK45uKPEcudhdLxkN3bYiGpaxM19KzEmU3HW7XlaQhs37lUTbakuNPZGCuzH3X89inIbzebTCVC+\n",
       "qnKCpGT5+1BPhoduz9MWtDFZ8SZaMjIonZWjefg95XeqNZL5D1uUQnqLxy3dXkxbdC0jvplv5ah+\n",
       "Qq0FcCpBbHJblqibpZUwkDhr/HOpkXV7nraejMfvkauXGWstgFMJwoCSVYCLfH+sTeQn1N1JWvKf\n",
       "bj+mSbeWyxdo3ZhapNoCaHWFtEkOeO1W5GfTdo+3g5y00gLA4eNV2WfFBO3bwc9VVKUFYD9vV3wY\n",
       "ZWTo2UPIVVSlBSAmuCzo2fYsqqhKC2CC7jmCjo7brqLwBDcjrKO+aFdRM9x6Idct47arKDrDjWbH\n",
       "XbSrKDfHs5p+7b9WFTXJS4Sexm1UUWqWF1P8ht4uC7M8/pN2PMkcQbMMP/wGaqKXf91fdZ55zNFM\n",
       "gw8lmuSTPVAe+ho7g/0HrqohoRtCG5IAAAAASUVORK5CYII=\n",
       "\" style=\"display:inline;vertical-align:middle;\" /></a><br>(see <a class=\"ProveItLink\" href=\"../../../__pv_it/theorems/ff836228e8dd5ed7e2316f14bfedb4f85e69da3e0/dependencies.ipynb\">dependencies</a>)<br>"
      ],
      "text/plain": [
       "<IPython.core.display.HTML object>"
      ]
     },
     "metadata": {},
     "output_type": "display_data"
    },
    {
     "name": "stdout",
     "output_type": "stream",
     "text": [
      "neg_power_as_div may now be readily provable (assuming required theorems are usable).  Simply execute \"%qed\".\n"
     ]
    }
   ],
   "source": [
    "%proving neg_power_as_div"
   ]
  },
  {
   "cell_type": "code",
   "execution_count": null,
   "metadata": {},
   "outputs": [],
   "source": []
  }
 ],
 "metadata": {
  "kernelspec": {
   "display_name": "Python 3",
   "language": "python",
   "name": "python3"
  }
 },
 "nbformat": 4,
 "nbformat_minor": 0
}