{
 "cells": [
  {
   "cell_type": "markdown",
   "metadata": {},
   "source": [
    "Proof of <a class=\"ProveItLink\" href=\"../../../../../_theory_nbs_/theory.ipynb\">proveit</a>.<a class=\"ProveItLink\" href=\"../../../../_theory_nbs_/theory.ipynb\">numbers</a>.<a class=\"ProveItLink\" href=\"../../theory.ipynb\">exponentiation</a>.<a class=\"ProveItLink\" href=\"../../theorems.ipynb#real_power_of_products\">real_power_of_products</a> theorem\n",
    "========"
   ]
  },
  {
   "cell_type": "code",
   "execution_count": 1,
   "metadata": {},
   "outputs": [],
   "source": [
    "import proveit\n",
    "theory = proveit.Theory() # the theorem's theory"
   ]
  },
  {
   "cell_type": "code",
   "execution_count": 2,
   "metadata": {},
   "outputs": [
    {
     "data": {
      "text/html": [
       "With these <a href=\"allowed_presumptions.txt\">allowed</a>/<a href=\"disallowed_presumptions.txt\">disallowed</a> theorem/theory presumptions (e.g., to avoid circular dependencies), we begin our proof of<br><strong id=\"real_power_of_products\">real_power_of_products:</strong> <a class=\"ProveItLink\" href=\"../../../__pv_it/theorems/84ceb047be7ca20dec248f6c7d57b4c486b83aba0/expr.ipynb\"><img src=\"data:image/png;base64,iVBORw0KGgoAAAANSUhEUgAAA9sAAAAmCAMAAADjs3i0AAAAOVBMVEX///8AAAAAAAAAAAAAAAAA\n",
       "AAAAAAAAAAAAAAAAAAAAAAAAAAAAAAAAAAAAAAAAAAAAAAAAAAAAAAACXHtMAAAAEnRSTlMAq1Rm\n",
       "mUTNIjK7EInv3Xbt5cmRiLwgAAAACXBIWXMAAA7EAAAOxAGVKw4bAAAJQElEQVR42u1dibKsqg5V\n",
       "BkFQ7nv+/8dewYGoDNGma3u7SNXZ1exDVlg2IWFyN00hIdMstKnyW8JIJfJaUZ0KF5h1RlXMDmmr\n",
       "I/yga7eVyItFjipSaJqh+naVhNCuEnk3rzZWqL5dJRkWCvaPSuQr0pNYofp2lYR0+t0e2/XlieBB\n",
       "S6o+tqSgCx8K1berJL7S6eXRrtVfINLqr7enJPPDQgIsVN+uEpdRv7yBg/wCESxoWdXHlsQk/K9h\n",
       "ofp2lXji9/awLSdjWlWYCBa0rOoHlno4cIFC9e0q8bwPzh7Fixq2tcWMqjGsEBEMqCjTHgw3vCU6\n",
       "gAqgUH27SlTgSSTzppMf3KxBiuI2t1BEEKAx3bvtSUjmOYcsiYnApJwA3/YuSejnvl0KrcoLMl4f\n",
       "Q8i7Zt6G7pNOxJkUJJEsaFz3XntSTqQfMB9hquALs28zvhU68blvl0Kr8udCp/2jetvJj+V4pW3g\n",
       "QIoRyYCmdG+1Jy6I5xywxKCWL8y+LTf3F59tzi2+XQqtyt9Pt32XYW/LwaiLTvOkk/bliGRAU7q3\n",
       "2hMXxHMOWDITDOwTnG9vR8w1KeDbpdCq/LkMPrsc3tc4280kM6YkkTToUKo9CZRHzMkEtt58wVak\n",
       "62DxYd61+nYhtCp/LtM+9yPv+zI7+gUiSdC0blcis0E956slCRfTfMENAsNoZdBFfLsQWpW/9+29\n",
       "E7HtyxStNiITmjB1cJJC0u0XiCRB07q6xC4R6jlfLSm4D+ALzreZi+K9KuPbZdCq/LWA3ZQtVPBB\n",
       "zN9s+iAIpg5OkkiBrSY2AmmfEEnuX6V1i9wzQz3ngKXJhArOt0W7/UCLjvv2EY1gV8vPo9RjxdCw\n",
       "c2/J/nbQYTesqaihp3oPGecAQaY3Lp/UQJ0LJVERdXCSRiL4JQA8kSRoWpeUWJJAPeeApUmHCsvZ\n",
       "FRtkNU+P4iOzNei6LsHivn1AozzrSD1rXf5xhHysGBrpONKnA4iXqz1k1B1ru4M39Hhry4PR2ujz\n",
       "Y3yq95BxFpBPO8iwfGJuCXY5m61g+FDTXgB1lNatP4EJ6iQ9eq8GrYUcFh//0USuoKDVV11IMKmK\n",
       "ZBxqHor5xEKFxbeJia99SdP2PXeuq+fKTGV9G6CpNoOq+naOMMSeguWQy2PF0MNLZyQZxP3CzVbP\n",
       "2KRFCx3x7bS1JZ+h8xPiVgkYeqr3gDEOEIS7tc8NveuK3D0MA8MKODDh67Bj8BlxhzH3agApmLA/\n",
       "idsZIgFQwIynCCZVkYwDJnDMU749uyKN5HmMrUvqZK7B9mQ85dsAjfEMqlauJrWw8N1PjxVDOskg\n",
       "lkPcLtzs9YzNYKkyEd9OW2vFjukOS3lDT/XuM0YCXlJZ5WZy20EQMoaDkK9jO6eYnt6MOlq79rYR\n",
       "Pd/GEyFjNmGOESQFZiHB5mGYJ+bbdjN6/W4po/NI1jaG9q7NZl+BI5JwscQsxtg4/+Mx397RmqUZ\n",
       "SlOj4QRwR1VULiiiOe6IP1YMPbEwFg5xu3DjH4TzbaNYxLeT1pbwKNwqiTtW5A091bvNGAso/Opr\n",
       "b5Y+Z+u03TKZj/m2r0PVZ74NkE690nZU/BkRPJEk6FUXEqQljmoFTKCYH15Belwnn1u4TqMV5XYe\n",
       "b0vG/kZ5HCLnyEY4Jm5vaI1wqbkaxeFIL0AlAiz6EA/6WDH01YaxkIjrhRvwIOz4JnpDw74ds8Z6\n",
       "K//M/+h65XCk0NBTvduM0YDKR4N128V2PTJnkCwRqA51Zs0xMcG8fggjnXulo6FvjBJYIknQkK4n\n",
       "mFRFMr6awDGPXBbZ7oG1y6gglLE27VjkIDiFvj0bMz3Ctze0ZSo3Z7P2fVUOftkZ86hUUZ8L8v70\n",
       "cVfkxLgsIa8YClGnRhz/M4e4XrgBD2KemvT6aLGPWxNwM3AdEBaXGgw0FGGc1bvNGA847F+yXBOB\n",
       "1mgpWiMTvn2oc37z5nmCef0QRDr3SqfB8eEQTSQJGtL1BNPtwTG+msAxl3Bq7guXO56tWXuEy/1p\n",
       "50Z5+4o169tKb4tkad8+/squELhRR5LlSXhUKbnP2WQfUxzsQIdSbJpcI04LyjnE9cINeBA2J9ec\n",
       "RHw7QvmQJCypsBtfd0MRxlm924zxgGCHYJSYad81gSh1yuHYK922zQ1tLJEMaEB3JyjGIjyvJjDM\n",
       "D2+M8oWLb9u+bIOzmJr5k9SHuG3DyZo9oHxbLgt+diOeKpf+OXMAdV3AcputIC08KYqVX14xNBge\n",
       "sSgjlDJOtEQ1Zb1wA+pZ3+Zcq7BvRyi7VPh//+9dKgyWsHZDEcZZvduM8YDMB33Knvi2mLVEkduA\n",
       "x17Z3Ly8giWSAb3qeoKFLtNcTWCYHyY+vnD2bTGtY8U8Y7d2/MC7bJmaNhMtAos6g533cQo6ukcV\n",
       "mrm1K+tWy+l3pUOKTc8zikpHfpywiH1Sc0xbb8rmELcLN77esp6YXku7Um7AFTkHz9vtU5JxTu8+\n",
       "4zjguaOBcNCL+74teiklKxG5z73y5iVDJJEs6FnXEyx26fFiAsO8b4OFs2+7L9revJ7T/aXRcpsK\n",
       "LPex7/m2aypnlBjthpu1o++otjPO2e56TNUZkG7Z9qy4bkAlFJ2eHMTxRwBrhrDXZNc/IZNFXC/c\n",
       "7PV4ZzrdKAYvzfZ5yofhwR4ZWTp9LzKMc3r3GccBgyvV5zXHbSDsJp05HjfYv1szlejx514Zam12\n",
       "yT1LJAt61vUE+1LvKjibQDEPL5Pn36mktE3fMAsXId8+H4nYOnoIdadFropzBmyyiqFtoQDWuLzd\n",
       "YmzoLcTUg+gRlBtiol9linFO7z7jBOCJFshNytz+KCTmpiuhiCBAY7qm3GtIMs85ZInDzRBQ+Pb7\n",
       "0hhsizRDYl92q8rVRbGbh8cxp8gDVAJY9syW4TbREU8Qs74dpdxFDaUZ5/RuM+5y39Oey77v2vbD\n",
       "aeyvEAmK7sKFr78LUWMN7Eeg6UPF0GrGXaw8Yt63I9YIjxqin+ndZJwAvOSy/Dd6/88QCc99SLjw\n",
       "/fecYg2oYoofNOJJ7eby3ln10JAq2MAijPWvvGBD//CbQswQKdR3GFdJhQRZifxXw3b17SrJ2Un9\n",
       "E72vD9tdrFB9u0pKOlqJvFrEICKF6ttV0hPxUVQir6ZFIoWyvm038uvfEvm1uNCpSuS90tNwgVln\n",
       "rK8srJL2CVmJvDds81jByb8gUHBkvYZe1AAAAABJRU5ErkJggg==\n",
       "\" style=\"display:inline;vertical-align:middle;\" /></a><br>(see <a class=\"ProveItLink\" href=\"../../../__pv_it/theorems/2f837dafde9bf909fb2fadab41c42932eadc372e0/dependencies.ipynb\">dependencies</a>)<br>"
      ],
      "text/plain": [
       "<IPython.core.display.HTML object>"
      ]
     },
     "metadata": {},
     "output_type": "display_data"
    },
    {
     "name": "stdout",
     "output_type": "stream",
     "text": [
      "real_power_of_products may now be readily provable (assuming required theorems are usable).  Simply execute \"%qed\".\n"
     ]
    }
   ],
   "source": [
    "%proving real_power_of_products"
   ]
  },
  {
   "cell_type": "code",
   "execution_count": null,
   "metadata": {},
   "outputs": [],
   "source": []
  }
 ],
 "metadata": {
  "kernelspec": {
   "display_name": "Python 3",
   "language": "python",
   "name": "python3"
  }
 },
 "nbformat": 4,
 "nbformat_minor": 0
}