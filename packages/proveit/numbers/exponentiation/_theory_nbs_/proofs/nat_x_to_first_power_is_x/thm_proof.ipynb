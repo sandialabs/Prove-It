{
 "cells": [
  {
   "cell_type": "markdown",
   "metadata": {},
   "source": [
    "Proof of <a class=\"ProveItLink\" href=\"../../../../../_theory_nbs_/theory.ipynb\">proveit</a>.<a class=\"ProveItLink\" href=\"../../../../_theory_nbs_/theory.ipynb\">numbers</a>.<a class=\"ProveItLink\" href=\"../../theory.ipynb\">exponentiation</a>.<a class=\"ProveItLink\" href=\"../../theorems.ipynb#nat_x_to_first_power_is_x\">nat_x_to_first_power_is_x</a> theorem\n",
    "========"
   ]
  },
  {
   "cell_type": "code",
   "execution_count": 1,
   "metadata": {},
   "outputs": [],
   "source": [
    "import proveit\n",
    "theory = proveit.Theory() # the theorem's theory"
   ]
  },
  {
   "cell_type": "code",
   "execution_count": 2,
   "metadata": {},
   "outputs": [
    {
     "data": {
      "text/html": [
       "With these <a href=\"allowed_presumptions.txt\">allowed</a>/<a href=\"disallowed_presumptions.txt\">disallowed</a> theorem/theory presumptions (e.g., to avoid circular dependencies), we begin our proof of<br><strong id=\"nat_x_to_first_power_is_x\">nat_x_to_first_power_is_x:</strong> <a class=\"ProveItLink\" href=\"../../../__pv_it/theorems/275aa558063267169840ee6e27c11c6b26c3ead40/expr.ipynb\"><img src=\"data:image/png;base64,iVBORw0KGgoAAAANSUhEUgAAAIUAAAAaBAMAAABrxIKZAAAAMFBMVEX///8AAAAAAAAAAAAAAAAA\n",
       "AAAAAAAAAAAAAAAAAAAAAAAAAAAAAAAAAAAAAAAAAAAv3aB7AAAAD3RSTlMAq1RmmUTNIjK7EInv\n",
       "3XZ/CtNrAAAACXBIWXMAAA7EAAAOxAGVKw4bAAAB5klEQVQ4y52Vv0tCURTHv/kjXz41KQhapIjA\n",
       "KV2ChgijgtpcmhIyGqImG4tI+wdUigYb4lFQQ0MRFLREYxCBg0SLYBRB9IOgJWrp3Kf3pXVvVzrw\n",
       "eNf7vX4893vPPQL1xXYc/47e8kt7yYt1hxphi/CBhOHKKhk7UDAwoGSsKRleA/CzQZdkgetMyfAR\n",
       "YIQNZiQLHAdKhvsDWPnLmOaokoFpoJH2o3dI9IyhZowB9jBxZPqzZczxZ0my5omey2LxQsZoA5w3\n",
       "u6ebIo0Lk5TrKLAhY+Ron00B7Ccsk4tmsMPkQiYFzMPlrz7OwhH6+cQUMO7NIpkS8LmQJN+bDN1y\n",
       "P92+jk7dcHArC4CxH0XIEDC4QC/YSpaljlFWb6WIju88EDJtEURFMJOMU8nbh9J3wC2Tgt3LNQxa\n",
       "9+YW+MGFDDPrcI7aQyzsSbjNUgvqWxP8K+30XMD2oYvyqAjsXLBE1MV7NBvOsMlA5KHq7F3v8MX7\n",
       "RHepIvSzDw1sQwHEYJ/N5VaJsWcZRL/hzMPdKqpjLgxaM+cY1rSDch7OHj7riarb1LSV2Cuug+Va\n",
       "o+538/veSoPd20pifjyGsUC70q4SaODT2pmSYff/YJ7k1mtnWpQMb6LufioNdT+1qQypo6/z/xdp\n",
       "sKv1Bf2Zeywl/7VOAAAAAElFTkSuQmCC\n",
       "\" style=\"display:inline;vertical-align:middle;\" /></a><br>(see <a class=\"ProveItLink\" href=\"../../../__pv_it/theorems/b1640999ad53b79c9db71acbb3f2bc1fb3cfd4970/dependencies.ipynb\">dependencies</a>)<br>"
      ],
      "text/plain": [
       "<IPython.core.display.HTML object>"
      ]
     },
     "metadata": {},
     "output_type": "display_data"
    },
    {
     "name": "stdout",
     "output_type": "stream",
     "text": [
      "nat_x_to_first_power_is_x may now be readily provable (assuming required theorems are usable).  Simply execute \"%qed\".\n"
     ]
    }
   ],
   "source": [
    "%proving nat_x_to_first_power_is_x"
   ]
  },
  {
   "cell_type": "code",
   "execution_count": null,
   "metadata": {},
   "outputs": [],
   "source": []
  }
 ],
 "metadata": {
  "kernelspec": {
   "display_name": "Python 3",
   "language": "python",
   "name": "python3"
  }
 },
 "nbformat": 4,
 "nbformat_minor": 0
}