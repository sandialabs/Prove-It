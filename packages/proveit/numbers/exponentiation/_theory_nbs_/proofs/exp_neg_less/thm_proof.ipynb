{
 "cells": [
  {
   "cell_type": "markdown",
   "metadata": {},
   "source": [
    "Proof of <a class=\"ProveItLink\" href=\"../../../../../_theory_nbs_/theory.ipynb\">proveit</a>.<a class=\"ProveItLink\" href=\"../../../../_theory_nbs_/theory.ipynb\">numbers</a>.<a class=\"ProveItLink\" href=\"../../theory.ipynb\">exponentiation</a>.<a class=\"ProveItLink\" href=\"../../theorems.ipynb#exp_neg_less\">exp_neg_less</a> theorem\n",
    "========"
   ]
  },
  {
   "cell_type": "code",
   "execution_count": 1,
   "metadata": {},
   "outputs": [],
   "source": [
    "import proveit\n",
    "theory = proveit.Theory() # the theorem's theory"
   ]
  },
  {
   "cell_type": "code",
   "execution_count": 2,
   "metadata": {},
   "outputs": [
    {
     "data": {
      "text/html": [
       "With these <a href=\"allowed_presumptions.txt\">allowed</a>/<a href=\"disallowed_presumptions.txt\">disallowed</a> theorem/theory presumptions (e.g., to avoid circular dependencies), we begin our proof of<br><strong id=\"exp_neg_less\">exp_neg_less:</strong> <a class=\"ProveItLink\" href=\"../../../__pv_it/theorems/74429913c5d4097b67390760aeffe1e66dff52650/expr.ipynb\"><img src=\"data:image/png;base64,iVBORw0KGgoAAAANSUhEUgAAAREAAAAXBAMAAADelGYUAAAAMFBMVEX///8AAAAAAAAAAAAAAAAA\n",
       "AAAAAAAAAAAAAAAAAAAAAAAAAAAAAAAAAAAAAAAAAAAv3aB7AAAAD3RSTlMAq1RmmUTNIjK7EInv\n",
       "3XZ/CtNrAAAACXBIWXMAAA7EAAAOxAGVKw4bAAADcklEQVRIx71WXUgUURg9+zPu7Mw6bvQQKcSA\n",
       "vgQZi0ShD6ZoGoGxZQgWxNJL4ENM0FNY2LMLWha1CTIPEuSWLQpKPsgSREEUQUVBJGtYoYYIEYZP\n",
       "fffO3JlZd0UL1gs795u5Z+6c/b5z77lAqVvI7tON00XHlcllAwZ2oH21P/hRXis6/tgYMHCegii7\n",
       "qy4dEX/G6oNNcrYooBVJQIsBx9jdxdIxeWD3kbgWLQp4jnm69gA3WCkHS8ekxe6fGOEGs5hM1jA0\n",
       "BhwCymhY1UvHRJQkYgx0Okz8niK8kH830LCJAFWorIQySdiB1HJwUjwMvPdk50zdMqNAv9dfvrwq\n",
       "HZMgCXa8BYpXI9pni4iyUtk/YT9TCXAcuL+NKZv+jwn7r5kDCKy6j9JzgiXmcx0iTZS7ywhFN52o\n",
       "dqr5khVxUauzmW1938WV65D1DvjcNXHlnYiO4Ki5W1SR9BQ21XjR6eT5VFxTMZ1xmTSi28qrR/uF\n",
       "L5oOji1eQrxBJCcGfRccXB/a3I9R0vy5TQTb2kcl1dCQc5m8RAXbl0PNjuI8ofOnKwXOYgJpHQN9\n",
       "RZiAKIomsTWWaHRdYaV9gaaQ5uHj2x5jstTkMAmtI0ILXt5lCCQLOVoYCG1QewTOrg6CCfxEkepA\n",
       "WsOYqM5bukz0OK6gGXvL6NXxCjOJh1zmamgk5jCR11Eeg3TbEEgecrQwEHS3CxxvYcpoOIqbKFSs\n",
       "cseXhdBTgM3fG3VcIYARmbqrtVhEJ2cSHB6El0kkJw2bAmmFHC0MpHtG4NzVGYxKv7zlG5/jFfX/\n",
       "Gc1Kume1w9fncQXLL6uwD4dTqZSuaeppeKtToSftlwlphwxtG4j8DAJnK5GyrlQt5NtwgG8oyslc\n",
       "TZ14VB7f4Apylh8nPpDm+nlONOmcma9Y5Sn/CEPaIUMLA0nf8iibtU88M4l8UQcKLPcavK6QRq+a\n",
       "CCJNr0urtLq5TjDjKhYrOEXXRdIAR1ohRysZ20C0IQfHG1nbFB7p2zVKyxWSevDb7BLLeU19AqF7\n",
       "9Lzre2a0zbuznWBdfQwcaYUcTWWxDASBIQfHJWtgjuq31cFuw2nAZq4rRpjmTKdSni0vD7rf8IQW\n",
       "2u+a3t081x9E9UJ8Kybh/OOjZNqdL9dVgN38CGOhz242fH079vBjg45EJzVm/oGJhY5hp1rJT99/\n",
       "AZsW+p1se6YHAAAAAElFTkSuQmCC\n",
       "\" style=\"display:inline;vertical-align:middle;\" /></a><br>(see <a class=\"ProveItLink\" href=\"../../../__pv_it/theorems/f3743476f0cbb03d156f8c56fe03aea704ec6f090/dependencies.ipynb\">dependencies</a>)<br>"
      ],
      "text/plain": [
       "<IPython.core.display.HTML object>"
      ]
     },
     "metadata": {},
     "output_type": "display_data"
    }
   ],
   "source": [
    "%proving exp_neg_less"
   ]
  },
  {
   "cell_type": "code",
   "execution_count": null,
   "metadata": {},
   "outputs": [],
   "source": []
  }
 ],
 "metadata": {
  "kernelspec": {
   "display_name": "Python 3",
   "language": "python",
   "name": "python3"
  }
 },
 "nbformat": 4,
 "nbformat_minor": 0
}