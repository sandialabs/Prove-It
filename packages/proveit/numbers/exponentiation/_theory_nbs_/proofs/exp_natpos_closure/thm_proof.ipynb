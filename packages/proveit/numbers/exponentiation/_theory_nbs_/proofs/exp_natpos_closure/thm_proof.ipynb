{
 "cells": [
  {
   "cell_type": "markdown",
   "metadata": {},
   "source": [
    "Proof of <a class=\"ProveItLink\" href=\"../../../../../_theory_nbs_/theory.ipynb\">proveit</a>.<a class=\"ProveItLink\" href=\"../../../../_theory_nbs_/theory.ipynb\">numbers</a>.<a class=\"ProveItLink\" href=\"../../theory.ipynb\">exponentiation</a>.<a class=\"ProveItLink\" href=\"../../theorems.ipynb#exp_natpos_closure\">exp_natpos_closure</a> theorem\n",
    "========"
   ]
  },
  {
   "cell_type": "code",
   "execution_count": 1,
   "metadata": {},
   "outputs": [],
   "source": [
    "import proveit\n",
    "theory = proveit.Theory() # the theorem's theory"
   ]
  },
  {
   "cell_type": "code",
   "execution_count": 2,
   "metadata": {},
   "outputs": [
    {
     "data": {
      "text/html": [
       "With these <a href=\"allowed_presumptions.txt\">allowed</a>/<a href=\"disallowed_presumptions.txt\">disallowed</a> theorem/theory presumptions (e.g., to avoid circular dependencies), we begin our proof of<br><strong id=\"exp_natpos_closure\">exp_natpos_closure:</strong> <a class=\"ProveItLink\" href=\"../../../__pv_it/theorems/c6b2906656deb094c57a1a1d1d504dc08d415e850/expr.ipynb\"><img src=\"data:image/png;base64,iVBORw0KGgoAAAANSUhEUgAAAJsAAAAaBAMAAABSozPCAAAAMFBMVEX///8AAAAAAAAAAAAAAAAA\n",
       "AAAAAAAAAAAAAAAAAAAAAAAAAAAAAAAAAAAAAAAAAAAv3aB7AAAAD3RSTlMAq1RmmUTNIjK7EInv\n",
       "3XZ/CtNrAAAACXBIWXMAAA7EAAAOxAGVKw4bAAACpElEQVRIx62VTYjTQBTHX5u0SbNtLXuwrKIE\n",
       "RMSDkouCIqWigquowT0IXqzuYdGDxIsnP6KIHlRaFMQRP7IXQapY3IO4iNSTigg9iOJKIXsTVmUR\n",
       "RJRl8U0yM0kqTXNwYDIvmclv3rw3/xmA5EU9Cv+lbGDt8r4jZFaTlHSVGa/7DslhVRrJcPf5Yhdn\n",
       "nRgcVJLhrrO2OFOsRjoe/b7hwPMFk+EKOFmJGqviaEqbu2BItWjXtUwJtHnuXRFZO6gxEYeTW8zI\n",
       "23Ip2rXCmgJowyi5TYgB2h+AcwODuMTkBuT1aNdwI2tBh3sH4wBZXPCQHoer8/gXnE0siHe6Hzyj\n",
       "XFFqIdwogGQgMjYT38Q23ut6beY4n6CcsudCuK9Y33W7b2NxS+njxIsz4sNJsV3K0MiZAe4QduwE\n",
       "uBWLI9ShV3BPQILEleGCNtMRiqjbOC8opX9UeXq3Kb1k9mGsDw3YIyC1EE7S17bF61m6A50hU3yg\n",
       "qlRniZkuTcMu9u091n0An8WcGJ7uJ4aDZakA9xhBaTeUCarK7ehyuiJDK+TdG9B+8jFaI+QdTGqd\n",
       "wDub+k611qw8ZaosGlT15w+4IZy2CNK8+KsTxqluQK9b+HhyDMd/VH8xVT7wDhF7ejXHjWD3D0jV\n",
       "1vC/vov/b2L9EuBoZuEUZkKuqm2myjEfJxf5MLqb7sK6qpB/Vuz6IzSpQWa20EcKV5w3qX49VW4k\n",
       "hOhpW2vVQnNOzl1aaYvgjRz0jYsLOKUW4LaKnFi5zY6vysu+d7Df5co3e3di5hkTWU8Z50beqo85\n",
       "TU+VORoAyfSOm+iJMqjQE4XNt239FFzRqSoVGt+rE+wkpOluJ8RJPceXH+ImIdHlDSfEFaxoSJz4\n",
       "u2JQ6bkrpH43WbLgJb3JxD0bX2Rc3F/bkZ2AZUUu3QAAAABJRU5ErkJggg==\n",
       "\" style=\"display:inline;vertical-align:middle;\" /></a><br>(see <a class=\"ProveItLink\" href=\"../../../__pv_it/theorems/fe1193367b5e5b6cb27d7b957f884baa433022fd0/dependencies.ipynb\">dependencies</a>)<br>"
      ],
      "text/plain": [
       "<IPython.core.display.HTML object>"
      ]
     },
     "metadata": {},
     "output_type": "display_data"
    },
    {
     "name": "stdout",
     "output_type": "stream",
     "text": [
      "exp_natpos_closure may now be readily provable (assuming required theorems are usable).  Simply execute \"%qed\".\n"
     ]
    }
   ],
   "source": [
    "%proving exp_natpos_closure"
   ]
  },
  {
   "cell_type": "code",
   "execution_count": null,
   "metadata": {},
   "outputs": [],
   "source": []
  }
 ],
 "metadata": {
  "kernelspec": {
   "display_name": "Python 3",
   "language": "python",
   "name": "python3"
  }
 },
 "nbformat": 4,
 "nbformat_minor": 0
}