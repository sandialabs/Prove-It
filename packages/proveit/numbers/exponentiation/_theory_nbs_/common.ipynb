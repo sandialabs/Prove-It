{
 "cells": [
  {
   "cell_type": "markdown",
   "metadata": {},
   "source": [
    "Common expressions for the theory of <a class=\"ProveItLink\" href=\"theory.ipynb\">proveit.numbers.exponentiation</a>\n",
    "========"
   ]
  },
  {
   "cell_type": "code",
   "execution_count": 1,
   "metadata": {},
   "outputs": [],
   "source": [
    "import proveit\n",
    "# Prepare this notebook for defining the common expressions of a theory:\n",
    "%common_expressions_notebook # Keep this at the top following 'import proveit'.\n",
    "from proveit import ExprTuple, ExprRange, IndexedVar\n",
    "from proveit.logic import NotEquals\n",
    "from proveit import a, b, i, k, m, n\n",
    "from proveit.numbers import Mult, Exp, one, zero"
   ]
  },
  {
   "cell_type": "code",
   "execution_count": 2,
   "metadata": {},
   "outputs": [
    {
     "name": "stdout",
     "output_type": "stream",
     "text": [
      "Defining common sub-expressions for theory 'proveit.numbers.exponentiation'\n",
      "Subsequent end-of-cell assignments will define common sub-expressions\n",
      "%end_common will finalize the definitions\n"
     ]
    }
   ],
   "source": [
    "%begin common"
   ]
  },
  {
   "cell_type": "code",
   "execution_count": 3,
   "metadata": {},
   "outputs": [
    {
     "data": {
      "text/html": [
       "<strong id=\"prod_a_raise_ki__1_to_m\">prod_a_raise_ki__1_to_m:</strong> <a class=\"ProveItLink\" href=\"../__pv_it/common/50bc4ef207deee5e982ccfe8e58e195b67b975300/common_expr.ipynb\"><img src=\"data:image/png;base64,iVBORw0KGgoAAAANSUhEUgAAAJ8AAAATBAMAAAB8R8JwAAAAMFBMVEX///8AAAAAAAAAAAAAAAAA\n",
       "AAAAAAAAAAAAAAAAAAAAAAAAAAAAAAAAAAAAAAAAAAAv3aB7AAAAD3RSTlMAIquJdkTvuxBmmd1U\n",
       "zTKBpmoTAAAACXBIWXMAAA7EAAAOxAGVKw4bAAABiElEQVQ4y42UPUvDUBSG30TbpmktoRRcBAez\n",
       "OAgdHBykpBSdRDq56FKwiFsEnS0dukm6CRXUxUVFAzp1qrSD0qU/IS4uLh0UxA/Upp/33tOm7xQe\n",
       "Tp7kvpwEcBO8BxGaUjkxeJIl57LjCv1pDkhNaoymVGaFw5mxOHFkklI5llIskJOPGXGMplT0mYLG\n",
       "drAGB9M5vpl/6qtdjCHcrkS4Di4dROq8sEX9sLx90ucN34HP1hDKEVTCi7cwaG5KKD2VthK9DiJ2\n",
       "XBS6FAfeQtl4nUDN9KerXbKHeUcUulR1vIUBTT5FwDnCdev8c8nOmg8K+3RpcrQsuhjr3I4q7CKw\n",
       "oQU+XBBZXe6P9ejU79dIny+Dw/aL5LECXYOyC9UWxmhKpVDEFQPUJkLM52A1hlIuLrsF7tjlNWEx\n",
       "X3bofCjl4rIdKO/sYwycEQ8nKRHlDUH2F2JVsBDWBCFJKeE35MYDs0JGuKyKi0VS5afTnHvRzj7q\n",
       "50wdip6Irou3khTlbnPlHsqnnvXB1f8Ds65kyWTDPyQAAAAASUVORK5CYII=\n",
       "\" style=\"display:inline;vertical-align:middle;\" /></a><br>"
      ],
      "text/plain": [
       "<IPython.core.display.HTML object>"
      ]
     },
     "metadata": {},
     "output_type": "display_data"
    }
   ],
   "source": [
    "prod_a_raise_ki__1_to_m = Mult(ExprRange(i, Exp(a, IndexedVar(k, i)), one, m))"
   ]
  },
  {
   "cell_type": "code",
   "execution_count": 4,
   "metadata": {},
   "outputs": [
    {
     "data": {
      "text/html": [
       "<a class=\"ProveItLink\" href=\"../__pv_it/common/1a4193f1deeaf7a4a6b6289328d46189ae6a257f0/expr.ipynb\"><img src=\"data:image/png;base64,iVBORw0KGgoAAAANSUhEUgAAAAwAAAAVBAMAAACAghKHAAAAMFBMVEX///8AAAAAAAAAAAAAAAAA\n",
       "AAAAAAAAAAAAAAAAAAAAAAAAAAAAAAAAAAAAAAAAAAAv3aB7AAAAD3RSTlMAInZUiRDNmWbv3US7\n",
       "qzJazP2FAAAACXBIWXMAAA7EAAAOxAGVKw4bAAAAcklEQVQI12NgYBBgZAACJgNuBSBlwsCgwcDA\n",
       "msDAwBbAwN7AwMBRwMAJkp/KYAaiMhhKQJQvkAEEbQyLQZQlw2wQ9R5C7YQIWjEcAlE9QLVAUMLw\n",
       "CkStZuB6wMDAuABkLNj4gwwMMkDxGDCLgVGBSYABAJpvEmISwLzKAAAAAElFTkSuQmCC\n",
       "\" style=\"display:inline;vertical-align:middle;\" /></a>"
      ],
      "text/plain": [
       "()"
      ]
     },
     "metadata": {},
     "output_type": "display_data"
    }
   ],
   "source": [
    "Exp(a, n).get_styles()"
   ]
  },
  {
   "cell_type": "code",
   "execution_count": 5,
   "metadata": {},
   "outputs": [
    {
     "data": {
      "text/html": [
       "<strong id=\"prod_a_raise_bi__1_to_m\">prod_a_raise_bi__1_to_m:</strong> <a class=\"ProveItLink\" href=\"../__pv_it/common/ea0c1c13e86b093d0417a95037977726b6d62d360/common_expr.ipynb\"><img src=\"data:image/png;base64,iVBORw0KGgoAAAANSUhEUgAAAJoAAAATBAMAAACabgk0AAAAMFBMVEX///8AAAAAAAAAAAAAAAAA\n",
       "AAAAAAAAAAAAAAAAAAAAAAAAAAAAAAAAAAAAAAAAAAAv3aB7AAAAD3RSTlMAIquJdkTvuxBmmd1U\n",
       "zTKBpmoTAAAACXBIWXMAAA7EAAAOxAGVKw4bAAABf0lEQVQ4y2NgAIO3BQyYgO86A3EAXTeTATZV\n",
       "ykSahq6b7QE2VXlEmoau+72LBhaffnFqIMo0dN3eDV6Yilh2sCwgyjR03ZUMcxnE0R3CPoHzQoxX\n",
       "AGHTQLpRQ2gR3+kGjODgUkjg+EDYNKBuFP4HhhwGbnTT+BnYDgjwJRA2Daibc83MpYdhkbGDswDT\n",
       "NO6G6UDvEuFToG4ed4ZUHlhCeeXCgGka3xIHBoZ1RMQCSHcdxwWuAwwMjMqODlCnICkQMhEB08wN\n",
       "DngNguvewGPAzcnAECbA/gPsEjcbhCLWRIZ6sOH3/2/AaxpMN4cCSwCTIwNHJgMXpoa2CQyriUlp\n",
       "6Lq5PjBwI2czjr8gcj0Dw2ZkXf0XMA36i0U3WwFDP0q07QIR6QwcX1GiF0um2IVFd78Dw3xMe78w\n",
       "cH4gxqfouvsPMOjyCKCb9oeB6cJBYkxD083uwLOLC0NVCcPpBRieAwUeOLQQoYium0PFTsgPw7Qm\n",
       "54cqGEUeOPB2oYQimm4Aak5kabqBZ2YAAAAASUVORK5CYII=\n",
       "\" style=\"display:inline;vertical-align:middle;\" /></a><br>"
      ],
      "text/plain": [
       "<IPython.core.display.HTML object>"
      ]
     },
     "metadata": {},
     "output_type": "display_data"
    }
   ],
   "source": [
    "prod_a_raise_bi__1_to_m = Mult(ExprRange(i, Exp(a, IndexedVar(b, i)), one, m))"
   ]
  },
  {
   "cell_type": "code",
   "execution_count": 6,
   "metadata": {},
   "outputs": [
    {
     "data": {
      "text/html": [
       "<strong id=\"prod_ai_raise_n__1_to_m\">prod_ai_raise_n__1_to_m:</strong> <a class=\"ProveItLink\" href=\"../__pv_it/common/01a644b344a83f02cbc46214c3159ac62df0ee960/common_expr.ipynb\"><img src=\"data:image/png;base64,iVBORw0KGgoAAAANSUhEUgAAANgAAAAXBAMAAACbsJy/AAAAMFBMVEX///8AAAAAAAAAAAAAAAAA\n",
       "AAAAAAAAAAAAAAAAAAAAAAAAAAAAAAAAAAAAAAAAAAAv3aB7AAAAD3RSTlMAInZUiRDNmWbv3US7\n",
       "qzJazP2FAAAACXBIWXMAAA7EAAAOxAGVKw4bAAACqElEQVRIx4VWTWgTQRT+duO62SRNY1AEMXRr\n",
       "6w+iUkEEe5BSPHhRFg9FQcl6ELyZQ8XgxT3Zg0Hbg1BQSkAhB6EEbzkIacGrhiDehBhP9qCLohfB\n",
       "OhNnd3ZnZrcf7M7O++bbN/PmzdsFJCw9PlRDMnagE5CtD48qzMajVawkq3agk3C141kl0pYiNvKs\n",
       "XXHxK2LS0mkVNLm77wjGHUCfidhfk2vMzi9HTFPptApT8W7eJrc+OuR+JmrXPcAamLVBaMnMpdIq\n",
       "xCQUx8i1hntFGG7MfguYQO4Lf9tCOq3CgmjY7UDzsX4ephfPNeAN9IvcUE+nVahLqVhDvodpD1bc\n",
       "bjnCwOV0WgV5S5+y9qywYk+Iv5tKK7fMlUy3WbtIc/PDpM26u3rxYSbd7Mp8OYFWQZBQXIo47ZQK\n",
       "wdHJuvJK8yt476hpFQQJxUPWviBFYRVmE8bIkhECniOn8JqH+zAufHJkWoVQwnGOtc/Iun3k5jA8\n",
       "TrtFPxxRpauw2sAD4CVMOiGJFhCXcHznzqwuqmTA7Oi086nnakz5HMYfjLe1vzItLiom4ejwMFZt\n",
       "PAFzlmlKMTF+IOsj61BnIp0QRiapD0/qjUHwaoJN4mwGHzOl/5ZsN64s2DB+Ysw9TTKxKdMqhBJa\n",
       "6Xs6zd8Gz8qCnWmZzL0p1DWa65uYrZH4bDkybfxmOzV6ECS00g9GikVGbZGB/cuVU8xZrh1/W5Es\n",
       "58b05/4A2lsFjVawUy2FpI+vo9zEqyDCYVEdOTsgBmU9eNiPPQpahVCyhhOYKJKi0eRFMupMKqJL\n",
       "wRfw3be7Clr54xBIfLK2BtkgXuw3WLv3zjzhpQQosA+5tb3tK2hlhjAJqfQ3UTkMHAyp66pxkRTo\n",
       "ptLK3xRxShv8D8GOmCdlaTmdVqEc7+rBFP8Bl1qpryVaT0cAAAAASUVORK5CYII=\n",
       "\" style=\"display:inline;vertical-align:middle;\" /></a><br>"
      ],
      "text/plain": [
       "<IPython.core.display.HTML object>"
      ]
     },
     "metadata": {},
     "output_type": "display_data"
    }
   ],
   "source": [
    "prod_ai_raise_n__1_to_m = Mult(ExprRange(i, Exp(IndexedVar(a, i), n), one, m))"
   ]
  },
  {
   "cell_type": "code",
   "execution_count": 7,
   "metadata": {},
   "outputs": [
    {
     "data": {
      "text/html": [
       "<strong id=\"prod_ai_raise_b__1_to_m\">prod_ai_raise_b__1_to_m:</strong> <a class=\"ProveItLink\" href=\"../__pv_it/common/b4ead9ad946dc97a1fb1851eac732c0b938608860/common_expr.ipynb\"><img src=\"data:image/png;base64,iVBORw0KGgoAAAANSUhEUgAAAM4AAAAaBAMAAAANnn7OAAAAMFBMVEX///8AAAAAAAAAAAAAAAAA\n",
       "AAAAAAAAAAAAAAAAAAAAAAAAAAAAAAAAAAAAAAAAAAAv3aB7AAAAD3RSTlMAInZUiRDNmWbv3US7\n",
       "qzJazP2FAAAACXBIWXMAAA7EAAAOxAGVKw4bAAACvElEQVRIx51WTWgTQRT+NnG7m5+mS9GLNDSt\n",
       "vxQrEUrBnEKPQmUPIgqVxIPgQXApPRRBzMX2ErAigqDEgIYcBCnecos9eTOE1nPswaIHDRW99FBn\n",
       "f2Z3Z2d2kH6QbOb79r038+bNmwBR5O5BArkag29dEbsttdk+QpzRsohtSG0aR4iTGogysz9rSvIm\n",
       "VWPwa3qHJxOthBVvIldjMGOeI99GQCjkk63pVZaJV0Uw+OEnrJEZFgMyU7CTqfUC5hRkqmjBRXb8\n",
       "wdnTh8BcmD0PjCEVvJosy1QR5qJxa8AQz6AyaRgxkTbrwfg6ZKoAKpfVO0BL70KrhUndQm65EIxX\n",
       "IVMFYN3ZWAf2pknCWfY5O9yQqqKjwjPuOZhn2bvMKFmVqSLMc8yIu8IVu2C3p2g2FtkslGWqCLY7\n",
       "5BfGA+ZYz59ix8j+8dg1fi6xqgi2u8xTfA6ahnfe3pAaeQGtCdVxcpmxShepem1xh1NFIO5ws4YH\n",
       "ody7e/ySZGeIdBm7M04ronLFnkZqk6qWY8qqkYr+67nDI+BtqCMOaZxUFxXisGQPO/5SLC+Oqx5g\n",
       "chBVI2jTOK+gHoS6yAZdaKWAJ/DilLi8uepjJ07pf/Km7kMfQl/dnU3UiU2y6QhbxFMRX5KG64Q9\n",
       "7dmCr+IKp4pA3Km/MVq9dKNTS/USpNb0Li3VbCHZ1rzJrjBWdk16aq7FqfYmObvibo1f+VsoWdaJ\n",
       "sxgb2OdCc1vkD/Ja/2r+ohfnHXurNX11wuRUZ5Pa/tZQd7h1+mt/gD6+O3lPb7ov+3eqHUdpsml4\n",
       "7989lmJwqgCBuwYuYDIHnPR7YyhOtA2u0x8TP/dMQZPk4LtThmRFdS1oxR+95/H7C8RdxCxLb8fX\n",
       "h4e8KgJ1l+nhNvJnoND/VEuit/zD15WpIizFzVQJXSgJI2o2DpkqgBK5n6bcxz+KYqQb06TJGwAA\n",
       "AABJRU5ErkJggg==\n",
       "\" style=\"display:inline;vertical-align:middle;\" /></a><br>"
      ],
      "text/plain": [
       "<IPython.core.display.HTML object>"
      ]
     },
     "metadata": {},
     "output_type": "display_data"
    }
   ],
   "source": [
    "prod_ai_raise_b__1_to_m = Mult(ExprRange(i, Exp(IndexedVar(a, i), b), one, m))"
   ]
  },
  {
   "cell_type": "code",
   "execution_count": 8,
   "metadata": {},
   "outputs": [
    {
     "data": {
      "text/html": [
       "<strong id=\"nonzero_a_1_to_m\">nonzero_a_1_to_m:</strong> <a class=\"ProveItLink\" href=\"../__pv_it/common/441b3efc78b1cc1e3b179f900791f3c2a0964c6f0/common_expr.ipynb\"><img src=\"data:image/png;base64,iVBORw0KGgoAAAANSUhEUgAAATAAAAAVCAMAAAD2M0LwAAAAPFBMVEX///8AAAAAAAAAAAAAAAAA\n",
       "AAAAAAAAAAAAAAAAAAAAAAAAAAAAAAAAAAAAAAAAAAAAAAAAAAAAAAAAAAAo1xBWAAAAE3RSTlMA\n",
       "InZUiRDNmWbv3US7qzLn9enz+YF6hwAAAAlwSFlzAAAOxAAADsQBlSsOGwAAAutJREFUWMO9WOua\n",
       "tCAIzgOZVn4H7/9eV1FndbXCelp+jDjjvLwBojRNXtgUJY+3hN345RHsb/y9gvgoXNTjpSjofLny\n",
       "g9UvwZKEbJvCICtC1uOl2K2cSckV+p4v3dUvwZKEbJvGICowx1ker2WzxWT2MQSDwHMvPi/BkoRu\n",
       "m8gAFZX8p6iRtHsxWQwGA0OzqF6WvwNL22FjyXnNABWdJpoch7KQbmhEOIyB7uTCS7Ak0YMJds3A\n",
       "KyKlraCm71rGYXLofOuwuM5tRF+CpVWwsR1JYeAVlepiHie2S85Ojqa5jANkXESUe7sr3oGl7Uiq\n",
       "bToDr2Tn5XHV/n+ba3eBMih//obPDMCcjLhIZ2lD+hIsSS5tjzPwikk3lTSCXhAD9R7TKg7fuDiI\n",
       "tmi0sCDlvsNDWJJ0HomaYEcMvKLXVM7iqByaCsss562RtT6yIAKuMRDWtXW3gVU99qOwtJrf2D6r\n",
       "YCQGXvnhML3h6jgR5iIOuTaKWBtXfUS6gA0fzNlnsCMOqx6JmGBHDLxSb0lAjy7JoZXDcKv/+x83\n",
       "/KcMb/GiEgtEx8Et7AKVw+7BDmzJyrZa/L7Z/ZW9uKOOMPDKlk6POAJ6dJ8nwbpMm1v3gr5Xsdgt\n",
       "n9bis6wH6w8b8xD29H5/aBuWNdQz7b3C91sMvJJPzDQGI8KoSXVDK1Q3jKBtfY6Dm6dj2MkaeAZ7\n",
       "opzZZsDDbyG9lbzFwCs2OSWNsHNp2c5t12Gdtg6U5HvKb/OpEya7pAfLNngKa/IDtsqp7d07z+rv\n",
       "E3SUQVBM/tK2V2Uz1PyzYrnIDFpY5h+NsYewpzf8Y9shY/gWiuhkbzBAJXeWnR5XmMtMOOp1Pwwa\n",
       "WLZZa6sXT3dgz+TEtktZ5muRusEgKrnn3H4crEzOTpYNxXIRh+JtEvB+SxuC7II8hj0p+se2sV0M\n",
       "Fwi/Q2GcQVIgzWG7OqaB3OwXD/YS7Mlb1gHbYwyykvvSq/7UnvM8en3+EixJGMnFRAaofAE5vyHx\n",
       "kQbBfgAAAABJRU5ErkJggg==\n",
       "\" style=\"display:inline;vertical-align:middle;\" /></a><br>"
      ],
      "text/plain": [
       "<IPython.core.display.HTML object>"
      ]
     },
     "metadata": {},
     "output_type": "display_data"
    }
   ],
   "source": [
    "nonzero_a_1_to_m = ExprTuple(ExprRange(i, NotEquals(IndexedVar(a, i), zero), one, m))"
   ]
  },
  {
   "cell_type": "code",
   "execution_count": 9,
   "metadata": {},
   "outputs": [
    {
     "name": "stdout",
     "output_type": "stream",
     "text": [
      "These common expressions may now be imported from the theory package: proveit.numbers.exponentiation\n"
     ]
    }
   ],
   "source": [
    "%end common"
   ]
  }
 ],
 "metadata": {
  "kernelspec": {
   "display_name": "Python 3",
   "language": "python",
   "name": "python3"
  }
 },
 "nbformat": 4,
 "nbformat_minor": 0
}