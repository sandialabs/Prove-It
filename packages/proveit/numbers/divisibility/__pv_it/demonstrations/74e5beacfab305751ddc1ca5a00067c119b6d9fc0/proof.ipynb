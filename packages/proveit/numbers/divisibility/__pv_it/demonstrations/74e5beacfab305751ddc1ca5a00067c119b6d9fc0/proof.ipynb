{
 "cells": [
  {
   "cell_type": "markdown",
   "metadata": {},
   "source": [
    "Show the Proof\n",
    "========"
   ]
  },
  {
   "cell_type": "code",
   "execution_count": 1,
   "metadata": {},
   "outputs": [
    {
     "data": {
      "text/html": [
       "<table><tr><th>&nbsp;</th><th>step type</th><th>requirements</th><th>statement</th></tr>\n",
       "<tr><td><a name=\"proveit.numbers.divisibility.demonstrations.74e5beacfab305751ddc1ca5a00067c119b6d9fc0_step0\">0</a></td><td>instantiation</td><td><a href=\"#proveit.numbers.divisibility.demonstrations.74e5beacfab305751ddc1ca5a00067c119b6d9fc0_step1\">1</a>, <a href=\"#proveit.numbers.divisibility.demonstrations.74e5beacfab305751ddc1ca5a00067c119b6d9fc0_step2\">2</a>, <a href=\"#proveit.numbers.divisibility.demonstrations.74e5beacfab305751ddc1ca5a00067c119b6d9fc0_step3\">3</a></td><td><span style=\"font-size:20px;\"><a class=\"ProveItLink\" href=\"../../theorems/6bf1a18c2e3498be826f1c5ef7caab578b7ee8c80/expr.ipynb\"><img src=\"../../theorems/6bf1a18c2e3498be826f1c5ef7caab578b7ee8c80/expr.png\" style=\"display:inline;vertical-align:middle;\" /></a>, <a class=\"ProveItLink\" href=\"../../../../number_sets/real_numbers/__pv_it/theorems/d2d428f1124ef55277523143f9436098e99f174d0/expr.ipynb\"><img src=\"../../../../number_sets/real_numbers/__pv_it/theorems/d2d428f1124ef55277523143f9436098e99f174d0/expr.png\" style=\"display:inline;vertical-align:middle;\" /></a> <a class=\"ProveItLink\" href=\"proof.ipynb\" style=\"text-decoration: none\">&nbsp;&#x22A2;&nbsp;&nbsp;</a><a class=\"ProveItLink\" href=\"../../theorems/85ee3af657a01a1edfbd8619545925b2f1a624d80/expr.ipynb\"><img src=\"../../theorems/85ee3af657a01a1edfbd8619545925b2f1a624d80/expr.png\" style=\"display:inline;vertical-align:middle;\" /></a></span></td></tr>\n",
       "<tr><td>&nbsp;</td><td colspan=4 style=\"text-align:left\"><span style=\"font-size:20px;\"><a class=\"ProveItLink\" href=\"../../../../../__pv_it/common/a0d9d672aa5e272d907247690c152cc2c6daafb70/expr.ipynb\"><img src=\"../../../../../__pv_it/common/a0d9d672aa5e272d907247690c152cc2c6daafb70/expr.png\" style=\"display:inline;vertical-align:middle;\" /></a> : <a class=\"ProveItLink\" href=\"../../../../../__pv_it/common/a0d9d672aa5e272d907247690c152cc2c6daafb70/expr.ipynb\"><img src=\"../../../../../__pv_it/common/a0d9d672aa5e272d907247690c152cc2c6daafb70/expr.png\" style=\"display:inline;vertical-align:middle;\" /></a></span></td></tr><tr><td><a name=\"proveit.numbers.divisibility.demonstrations.74e5beacfab305751ddc1ca5a00067c119b6d9fc0_step1\">1</a></td><td>theorem</td><td></td><td><span style=\"font-size:20px;\"> <a class=\"ProveItLink\" href=\"../../../_theory_nbs_/proofs/non_zero_divides_zero/thm_proof.ipynb\" style=\"text-decoration: none\">&nbsp;&#x22A2;&nbsp;&nbsp;</a><a class=\"ProveItLink\" href=\"../../theorems/0761264083e18e863c0f32dfc6fcb616fe71888f0/expr.ipynb\"><img src=\"../../theorems/0761264083e18e863c0f32dfc6fcb616fe71888f0/expr.png\" style=\"display:inline;vertical-align:middle;\" /></a></span></td></tr>\n",
       "<tr><td>&nbsp;</td><td colspan=4 style-\"text-align:left\"><a class=\"ProveItLink\" href=\"../../../_theory_nbs_/proofs/non_zero_divides_zero/thm_proof.ipynb\">proveit.numbers.divisibility.non_zero_divides_zero</a></td></tr><tr><td><a name=\"proveit.numbers.divisibility.demonstrations.74e5beacfab305751ddc1ca5a00067c119b6d9fc0_step2\">2</a></td><td>assumption</td><td></td><td><span style=\"font-size:20px;\"><a class=\"ProveItLink\" href=\"../../theorems/6bf1a18c2e3498be826f1c5ef7caab578b7ee8c80/expr.ipynb\"><img src=\"../../theorems/6bf1a18c2e3498be826f1c5ef7caab578b7ee8c80/expr.png\" style=\"display:inline;vertical-align:middle;\" /></a> <a class=\"ProveItLink\" href=\"../f8632966c8929956f1a37688c75884423e42a0a50/proof.ipynb\" style=\"text-decoration: none\">&nbsp;&#x22A2;&nbsp;&nbsp;</a><a class=\"ProveItLink\" href=\"../../theorems/6bf1a18c2e3498be826f1c5ef7caab578b7ee8c80/expr.ipynb\"><img src=\"../../theorems/6bf1a18c2e3498be826f1c5ef7caab578b7ee8c80/expr.png\" style=\"display:inline;vertical-align:middle;\" /></a></span></td></tr>\n",
       "<tr><td><a name=\"proveit.numbers.divisibility.demonstrations.74e5beacfab305751ddc1ca5a00067c119b6d9fc0_step3\">3</a></td><td>assumption</td><td></td><td><span style=\"font-size:20px;\"><a class=\"ProveItLink\" href=\"../../../../number_sets/real_numbers/__pv_it/theorems/d2d428f1124ef55277523143f9436098e99f174d0/expr.ipynb\"><img src=\"../../../../number_sets/real_numbers/__pv_it/theorems/d2d428f1124ef55277523143f9436098e99f174d0/expr.png\" style=\"display:inline;vertical-align:middle;\" /></a> <a class=\"ProveItLink\" href=\"../2a3b5712c37f8781f8b468a49f21a0ad440aa32e0/proof.ipynb\" style=\"text-decoration: none\">&nbsp;&#x22A2;&nbsp;&nbsp;</a><a class=\"ProveItLink\" href=\"../../../../number_sets/real_numbers/__pv_it/theorems/d2d428f1124ef55277523143f9436098e99f174d0/expr.ipynb\"><img src=\"../../../../number_sets/real_numbers/__pv_it/theorems/d2d428f1124ef55277523143f9436098e99f174d0/expr.png\" style=\"display:inline;vertical-align:middle;\" /></a></span></td></tr>\n",
       "</table>"
      ],
      "text/plain": [
       "<proveit._core_.proof._ShowProof at 0x7f0c7e50c400>"
      ]
     },
     "execution_count": 1,
     "metadata": {},
     "output_type": "execute_result"
    }
   ],
   "source": [
    "import proveit\n",
    "# Automation is not needed when only showing a stored proof:\n",
    "proveit.defaults.automation = False # This will speed things up.\n",
    "proveit.defaults.inline_pngs = False # Makes files smaller.\n",
    "%show_proof"
   ]
  },
  {
   "cell_type": "code",
   "execution_count": null,
   "metadata": {},
   "outputs": [],
   "source": []
  }
 ],
 "metadata": {
  "kernelspec": {
   "display_name": "Python 3",
   "language": "python",
   "name": "python3"
  }
 },
 "nbformat": 4,
 "nbformat_minor": 0
}