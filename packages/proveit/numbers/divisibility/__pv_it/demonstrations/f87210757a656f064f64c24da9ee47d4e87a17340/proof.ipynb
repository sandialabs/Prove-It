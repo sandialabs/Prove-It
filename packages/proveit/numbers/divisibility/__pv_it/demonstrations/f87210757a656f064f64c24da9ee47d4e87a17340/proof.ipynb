{
 "cells": [
  {
   "cell_type": "markdown",
   "metadata": {},
   "source": [
    "Show the Proof\n",
    "========"
   ]
  },
  {
   "cell_type": "code",
   "execution_count": 1,
   "metadata": {},
   "outputs": [
    {
     "data": {
      "text/html": [
       "<table><tr><th>&nbsp;</th><th>step type</th><th>requirements</th><th>statement</th></tr>\n",
       "<tr><td><a name=\"proveit.numbers.divisibility.demonstrations.f87210757a656f064f64c24da9ee47d4e87a17340_step0\">0</a></td><td>instantiation</td><td><a href=\"#proveit.numbers.divisibility.demonstrations.f87210757a656f064f64c24da9ee47d4e87a17340_step1\">1</a>, <a href=\"#proveit.numbers.divisibility.demonstrations.f87210757a656f064f64c24da9ee47d4e87a17340_step2\">2</a>, <a href=\"#proveit.numbers.divisibility.demonstrations.f87210757a656f064f64c24da9ee47d4e87a17340_step3\">3</a>, <a href=\"#proveit.numbers.divisibility.demonstrations.f87210757a656f064f64c24da9ee47d4e87a17340_step4\">4</a></td><td><span style=\"font-size:20px;\"><a class=\"ProveItLink\" href=\"../86864e4bc25973dc96fd9982130a63d33fdaaaea0/expr.ipynb\"><img src=\"../86864e4bc25973dc96fd9982130a63d33fdaaaea0/expr.png\" style=\"display:inline;vertical-align:middle;\" /></a>, <a class=\"ProveItLink\" href=\"../9097a2eb799004c684399d9badcf7c6599ef40530/expr.ipynb\"><img src=\"../9097a2eb799004c684399d9badcf7c6599ef40530/expr.png\" style=\"display:inline;vertical-align:middle;\" /></a>, <a class=\"ProveItLink\" href=\"../../theorems/a7c14b7c1229026320d513a4b7a95f7135ad09aa0/expr.ipynb\"><img src=\"../../theorems/a7c14b7c1229026320d513a4b7a95f7135ad09aa0/expr.png\" style=\"display:inline;vertical-align:middle;\" /></a> <a class=\"ProveItLink\" href=\"proof.ipynb\" style=\"text-decoration: none\">&nbsp;&#x22A2;&nbsp;&nbsp;</a><a class=\"ProveItLink\" href=\"../25fa39afee1e9acfc668cefdd3611bf941d8f2070/expr.ipynb\"><img src=\"../25fa39afee1e9acfc668cefdd3611bf941d8f2070/expr.png\" style=\"display:inline;vertical-align:middle;\" /></a></span></td></tr>\n",
       "<tr><td>&nbsp;</td><td colspan=4 style=\"text-align:left\"><span style=\"font-size:20px;\"><a class=\"ProveItLink\" href=\"../../../../../__pv_it/common/c06c606ec12678c58933ac85412ecadc2ae28be60/expr.ipynb\"><img src=\"../../../../../__pv_it/common/c06c606ec12678c58933ac85412ecadc2ae28be60/expr.png\" style=\"display:inline;vertical-align:middle;\" /></a> : <a class=\"ProveItLink\" href=\"../../../../../__pv_it/common/a0d9d672aa5e272d907247690c152cc2c6daafb70/expr.ipynb\"><img src=\"../../../../../__pv_it/common/a0d9d672aa5e272d907247690c152cc2c6daafb70/expr.png\" style=\"display:inline;vertical-align:middle;\" /></a>, <a class=\"ProveItLink\" href=\"../../../../../__pv_it/common/195236b98c6c564a75b5dbada74b173bc52d5c3e0/expr.ipynb\"><img src=\"../../../../../__pv_it/common/195236b98c6c564a75b5dbada74b173bc52d5c3e0/expr.png\" style=\"display:inline;vertical-align:middle;\" /></a> : <a class=\"ProveItLink\" href=\"../../../../../__pv_it/common/ff7dba4ef0bbe791ab573bf2d9c220a304399ac80/expr.ipynb\"><img src=\"../../../../../__pv_it/common/ff7dba4ef0bbe791ab573bf2d9c220a304399ac80/expr.png\" style=\"display:inline;vertical-align:middle;\" /></a></span></td></tr><tr><td><a name=\"proveit.numbers.divisibility.demonstrations.f87210757a656f064f64c24da9ee47d4e87a17340_step1\">1</a></td><td>theorem</td><td></td><td><span style=\"font-size:20px;\"> <a class=\"ProveItLink\" href=\"../../../_theory_nbs_/proofs/GCD_one_def/thm_proof.ipynb\" style=\"text-decoration: none\">&nbsp;&#x22A2;&nbsp;&nbsp;</a><a class=\"ProveItLink\" href=\"../../theorems/d536042891efcc7eea18c59fb1e4bc2328037fcc0/expr.ipynb\"><img src=\"../../theorems/d536042891efcc7eea18c59fb1e4bc2328037fcc0/expr.png\" style=\"display:inline;vertical-align:middle;\" /></a></span></td></tr>\n",
       "<tr><td>&nbsp;</td><td colspan=4 style-\"text-align:left\"><a class=\"ProveItLink\" href=\"../../../_theory_nbs_/proofs/GCD_one_def/thm_proof.ipynb\">proveit.numbers.divisibility.GCD_one_def</a></td></tr><tr><td><a name=\"proveit.numbers.divisibility.demonstrations.f87210757a656f064f64c24da9ee47d4e87a17340_step2\">2</a></td><td>assumption</td><td></td><td><span style=\"font-size:20px;\"><a class=\"ProveItLink\" href=\"../86864e4bc25973dc96fd9982130a63d33fdaaaea0/expr.ipynb\"><img src=\"../86864e4bc25973dc96fd9982130a63d33fdaaaea0/expr.png\" style=\"display:inline;vertical-align:middle;\" /></a> <a class=\"ProveItLink\" href=\"../b59db039d8463099d4d0ae82871c6300846779a40/proof.ipynb\" style=\"text-decoration: none\">&nbsp;&#x22A2;&nbsp;&nbsp;</a><a class=\"ProveItLink\" href=\"../86864e4bc25973dc96fd9982130a63d33fdaaaea0/expr.ipynb\"><img src=\"../86864e4bc25973dc96fd9982130a63d33fdaaaea0/expr.png\" style=\"display:inline;vertical-align:middle;\" /></a></span></td></tr>\n",
       "<tr><td><a name=\"proveit.numbers.divisibility.demonstrations.f87210757a656f064f64c24da9ee47d4e87a17340_step3\">3</a></td><td>assumption</td><td></td><td><span style=\"font-size:20px;\"><a class=\"ProveItLink\" href=\"../9097a2eb799004c684399d9badcf7c6599ef40530/expr.ipynb\"><img src=\"../9097a2eb799004c684399d9badcf7c6599ef40530/expr.png\" style=\"display:inline;vertical-align:middle;\" /></a> <a class=\"ProveItLink\" href=\"../7cd06b2c52bf806540ee77da579627998870cd460/proof.ipynb\" style=\"text-decoration: none\">&nbsp;&#x22A2;&nbsp;&nbsp;</a><a class=\"ProveItLink\" href=\"../9097a2eb799004c684399d9badcf7c6599ef40530/expr.ipynb\"><img src=\"../9097a2eb799004c684399d9badcf7c6599ef40530/expr.png\" style=\"display:inline;vertical-align:middle;\" /></a></span></td></tr>\n",
       "<tr><td><a name=\"proveit.numbers.divisibility.demonstrations.f87210757a656f064f64c24da9ee47d4e87a17340_step4\">4</a></td><td>assumption</td><td></td><td><span style=\"font-size:20px;\"><a class=\"ProveItLink\" href=\"../../theorems/a7c14b7c1229026320d513a4b7a95f7135ad09aa0/expr.ipynb\"><img src=\"../../theorems/a7c14b7c1229026320d513a4b7a95f7135ad09aa0/expr.png\" style=\"display:inline;vertical-align:middle;\" /></a> <a class=\"ProveItLink\" href=\"../82067769966623a959b95862c8dfa91bbb6437f10/proof.ipynb\" style=\"text-decoration: none\">&nbsp;&#x22A2;&nbsp;&nbsp;</a><a class=\"ProveItLink\" href=\"../../theorems/a7c14b7c1229026320d513a4b7a95f7135ad09aa0/expr.ipynb\"><img src=\"../../theorems/a7c14b7c1229026320d513a4b7a95f7135ad09aa0/expr.png\" style=\"display:inline;vertical-align:middle;\" /></a></span></td></tr>\n",
       "</table>"
      ],
      "text/plain": [
       "<proveit._core_.proof._ShowProof at 0x7f0c90a83da0>"
      ]
     },
     "execution_count": 1,
     "metadata": {},
     "output_type": "execute_result"
    }
   ],
   "source": [
    "import proveit\n",
    "# Automation is not needed when only showing a stored proof:\n",
    "proveit.defaults.automation = False # This will speed things up.\n",
    "proveit.defaults.inline_pngs = False # Makes files smaller.\n",
    "%show_proof"
   ]
  },
  {
   "cell_type": "code",
   "execution_count": null,
   "metadata": {},
   "outputs": [],
   "source": []
  }
 ],
 "metadata": {
  "kernelspec": {
   "display_name": "Python 3",
   "language": "python",
   "name": "python3"
  }
 },
 "nbformat": 4,
 "nbformat_minor": 0
}