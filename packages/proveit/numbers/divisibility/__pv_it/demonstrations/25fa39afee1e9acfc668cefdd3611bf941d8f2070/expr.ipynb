{
 "cells": [
  {
   "cell_type": "markdown",
   "metadata": {},
   "source": [
    "Expression of type <a class=\"ProveItLink\" href=\"../../../../../../../doc/html/api/proveit.logic.Forall.html\">Forall</a>\n",
    "=======================\n",
    "# from the theory of <a class=\"ProveItLink\" href=\"../../../_theory_nbs_/theory.ipynb\">proveit.numbers.divisibility</a>"
   ]
  },
  {
   "cell_type": "code",
   "execution_count": 1,
   "metadata": {},
   "outputs": [],
   "source": [
    "import proveit\n",
    "# Automation is not needed when building an expression:\n",
    "proveit.defaults.automation = False # This will speed things up.\n",
    "proveit.defaults.inline_pngs = False # Makes files smaller.\n",
    "%load_expr # Load the stored expression as 'stored_expr'\n",
    "# import Expression classes needed to build the expression\n",
    "from proveit import p, x, y\n",
    "from proveit.logic import And, Forall, Not\n",
    "from proveit.numbers import Divides, NaturalPos, greater, one"
   ]
  },
  {
   "cell_type": "code",
   "execution_count": 2,
   "metadata": {},
   "outputs": [
    {
     "data": {
      "text/html": [
       "<strong id=\"expr\">expr:</strong> <a class=\"ProveItLink\" href=\"expr.ipynb\"><img src=\"expr.png\" style=\"display:inline;vertical-align:middle;\" /></a><br>"
      ],
      "text/plain": [
       "<IPython.core.display.HTML object>"
      ]
     },
     "metadata": {},
     "output_type": "display_data"
    }
   ],
   "source": [
    "# build up the expression from sub-expressions\n",
    "expr = Forall(instance_param_or_params = [p], instance_expr = Not(And(Divides(p, x), Divides(p, y))), domain = NaturalPos, condition = greater(p, one))"
   ]
  },
  {
   "cell_type": "code",
   "execution_count": 3,
   "metadata": {},
   "outputs": [
    {
     "name": "stdout",
     "output_type": "stream",
     "text": [
      "Passed sanity check: expr matches stored_expr\n"
     ]
    }
   ],
   "source": [
    "# check that the built expression is the same as the stored expression\n",
    "assert expr == stored_expr\n",
    "assert expr._style_id == stored_expr._style_id\n",
    "print(\"Passed sanity check: expr matches stored_expr\")"
   ]
  },
  {
   "cell_type": "code",
   "execution_count": 4,
   "metadata": {},
   "outputs": [
    {
     "name": "stdout",
     "output_type": "stream",
     "text": [
      "\\forall_{p \\in \\mathbb{N}^+~|~p > 1}~(\\lnot \\left(\\left(p \\rvert x\\right) \\land \\left(p \\rvert y\\right)\\right))\n"
     ]
    }
   ],
   "source": [
    "# Show the LaTeX representation of the expression for convenience if you need it.\n",
    "print(stored_expr.latex())"
   ]
  },
  {
   "cell_type": "code",
   "execution_count": 5,
   "metadata": {},
   "outputs": [
    {
     "data": {
      "text/html": [
       "<table>\n",
       "<tr><th>name</th><th>description</th><th>default</th><th>current value</th><th>related methods</th></tr><tr><td>with_wrapping</td><td>If 'True', wrap the Expression after the parameters</td><td>None</td><td>None/False</td><td>('with_wrapping',)</td></tr>\n",
       "<tr><td>condition_wrapping</td><td>Wrap 'before' or 'after' the condition (or None).</td><td>None</td><td>None/False</td><td>('with_wrap_after_condition', 'with_wrap_before_condition')</td></tr>\n",
       "<tr><td>wrap_params</td><td>If 'True', wraps every two parameters AND wraps the Expression after the parameters</td><td>None</td><td>None/False</td><td>('with_params',)</td></tr>\n",
       "<tr><td>justification</td><td>justify to the 'left', 'center', or 'right' in the array cells</td><td>center</td><td>center</td><td>('with_justification',)</td></tr>\n",
       "</table>\n"
      ],
      "text/plain": [
       "style name: with_wrapping\n",
       "description: If 'True', wrap the Expression after the parameters\n",
       "default: None\n",
       "current value: None/False\n",
       "related methods: ('with_wrapping',)\n",
       "style name: condition_wrapping\n",
       "description: Wrap 'before' or 'after' the condition (or None).\n",
       "default: None\n",
       "current value: None/False\n",
       "related methods: ('with_wrap_after_condition', 'with_wrap_before_condition')\n",
       "style name: wrap_params\n",
       "description: If 'True', wraps every two parameters AND wraps the Expression after the parameters\n",
       "default: None\n",
       "current value: None/False\n",
       "related methods: ('with_params',)\n",
       "style name: justification\n",
       "description: justify to the 'left', 'center', or 'right' in the array cells\n",
       "default: center\n",
       "current value: center\n",
       "related methods: ('with_justification',)"
      ]
     },
     "metadata": {},
     "output_type": "display_data"
    }
   ],
   "source": [
    "stored_expr.style_options()"
   ]
  },
  {
   "cell_type": "code",
   "execution_count": 6,
   "metadata": {},
   "outputs": [
    {
     "data": {
      "text/html": [
       "<table><tr><th>&nbsp;</th><th>core type</th><th>sub-expressions</th><th>expression</th></tr>\n",
       "<tr><td>0</td><td>Operation</td><td>operator:&nbsp;1<br>operand:&nbsp;3<br></td><td><a class=\"ProveItLink\" href=\"expr.ipynb\"><img src=\"expr.png\" style=\"display:inline;vertical-align:middle;\" /></a></td></tr>\n",
       "<tr><td>1</td><td>Literal</td><td></td><td><a class=\"ProveItLink\" href=\"../../../../../logic/booleans/quantification/universality/__pv_it/common/083d2baa0b8ecab1d230f9ec29a15aa1355809fb0/expr.ipynb\"><img src=\"../../../../../logic/booleans/quantification/universality/__pv_it/common/083d2baa0b8ecab1d230f9ec29a15aa1355809fb0/expr.png\" style=\"display:inline;vertical-align:middle;\" /></a></td></tr>\n",
       "<tr><td>2</td><td>ExprTuple</td><td>3</td><td><a class=\"ProveItLink\" href=\"../e6088ac434331abd8561dbde375f7553dede80280/expr.ipynb\"><img src=\"../e6088ac434331abd8561dbde375f7553dede80280/expr.png\" style=\"display:inline;vertical-align:middle;\" /></a></td></tr>\n",
       "<tr><td>3</td><td>Lambda</td><td>parameter:&nbsp;28<br>body:&nbsp;5<br></td><td><a class=\"ProveItLink\" href=\"../ab9d1a8a1030baf1501508f51038effbf9f5e0b70/expr.ipynb\"><img src=\"../ab9d1a8a1030baf1501508f51038effbf9f5e0b70/expr.png\" style=\"display:inline;vertical-align:middle;\" /></a></td></tr>\n",
       "<tr><td>4</td><td>ExprTuple</td><td>28</td><td><a class=\"ProveItLink\" href=\"../../theorems/527c551ff60aa90c443f150751d409424a4630a80/expr.ipynb\"><img src=\"../../theorems/527c551ff60aa90c443f150751d409424a4630a80/expr.png\" style=\"display:inline;vertical-align:middle;\" /></a></td></tr>\n",
       "<tr><td>5</td><td>Conditional</td><td>value:&nbsp;6<br>condition:&nbsp;7<br></td><td><a class=\"ProveItLink\" href=\"../1f2e0774892489e605ef73f345783d5f773128d50/expr.ipynb\"><img src=\"../1f2e0774892489e605ef73f345783d5f773128d50/expr.png\" style=\"display:inline;vertical-align:middle;\" /></a></td></tr>\n",
       "<tr><td>6</td><td>Operation</td><td>operator:&nbsp;8<br>operand:&nbsp;11<br></td><td><a class=\"ProveItLink\" href=\"../5eed0f3a6dd0a7a22f539befe64311f8ff53c8c90/expr.ipynb\"><img src=\"../5eed0f3a6dd0a7a22f539befe64311f8ff53c8c90/expr.png\" style=\"display:inline;vertical-align:middle;\" /></a></td></tr>\n",
       "<tr><td>7</td><td>Operation</td><td>operator:&nbsp;14<br>operands:&nbsp;10<br></td><td><a class=\"ProveItLink\" href=\"../../theorems/5f5bdbd6086f3f6ccbdf4141406c34d0204af1ee0/expr.ipynb\"><img src=\"../../theorems/5f5bdbd6086f3f6ccbdf4141406c34d0204af1ee0/expr.png\" style=\"display:inline;vertical-align:middle;\" /></a></td></tr>\n",
       "<tr><td>8</td><td>Literal</td><td></td><td><a class=\"ProveItLink\" href=\"../../../../../logic/booleans/negation/__pv_it/common/1a811a997e5d75fdb50cdaf74f302daccad39af40/expr.ipynb\"><img src=\"../../../../../logic/booleans/negation/__pv_it/common/1a811a997e5d75fdb50cdaf74f302daccad39af40/expr.png\" style=\"display:inline;vertical-align:middle;\" /></a></td></tr>\n",
       "<tr><td>9</td><td>ExprTuple</td><td>11</td><td><a class=\"ProveItLink\" href=\"../9267a84bee3751a487bc9acf6803f23a345d11510/expr.ipynb\"><img src=\"../9267a84bee3751a487bc9acf6803f23a345d11510/expr.png\" style=\"display:inline;vertical-align:middle;\" /></a></td></tr>\n",
       "<tr><td>10</td><td>ExprTuple</td><td>12, 13</td><td><a class=\"ProveItLink\" href=\"../../theorems/75470a51d6ad772b00edeaba0737d8598947e0570/expr.ipynb\"><img src=\"../../theorems/75470a51d6ad772b00edeaba0737d8598947e0570/expr.png\" style=\"display:inline;vertical-align:middle;\" /></a></td></tr>\n",
       "<tr><td>11</td><td>Operation</td><td>operator:&nbsp;14<br>operands:&nbsp;15<br></td><td><a class=\"ProveItLink\" href=\"../eb75ea9217e70c8f2ef2c72b5305048eefe1f3dd0/expr.ipynb\"><img src=\"../eb75ea9217e70c8f2ef2c72b5305048eefe1f3dd0/expr.png\" style=\"display:inline;vertical-align:middle;\" /></a></td></tr>\n",
       "<tr><td>12</td><td>Operation</td><td>operator:&nbsp;16<br>operands:&nbsp;17<br></td><td><a class=\"ProveItLink\" href=\"../../theorems/cdc93dd9724b0819070cc7c8860912ef207f74970/expr.ipynb\"><img src=\"../../theorems/cdc93dd9724b0819070cc7c8860912ef207f74970/expr.png\" style=\"display:inline;vertical-align:middle;\" /></a></td></tr>\n",
       "<tr><td>13</td><td>Operation</td><td>operator:&nbsp;18<br>operands:&nbsp;19<br></td><td><a class=\"ProveItLink\" href=\"../../theorems/c06c35dc8df7d5e29348993081605f5e27adefdf0/expr.ipynb\"><img src=\"../../theorems/c06c35dc8df7d5e29348993081605f5e27adefdf0/expr.png\" style=\"display:inline;vertical-align:middle;\" /></a></td></tr>\n",
       "<tr><td>14</td><td>Literal</td><td></td><td><a class=\"ProveItLink\" href=\"../../../../../logic/booleans/conjunction/__pv_it/common/42118ff318bd65d98b1393f64ce7c2269feef76e0/expr.ipynb\"><img src=\"../../../../../logic/booleans/conjunction/__pv_it/common/42118ff318bd65d98b1393f64ce7c2269feef76e0/expr.png\" style=\"display:inline;vertical-align:middle;\" /></a></td></tr>\n",
       "<tr><td>15</td><td>ExprTuple</td><td>20, 21</td><td><a class=\"ProveItLink\" href=\"../8c287c7dab2cdc4808482309b228b70dbec4b3040/expr.ipynb\"><img src=\"../8c287c7dab2cdc4808482309b228b70dbec4b3040/expr.png\" style=\"display:inline;vertical-align:middle;\" /></a></td></tr>\n",
       "<tr><td>16</td><td>Literal</td><td></td><td><a class=\"ProveItLink\" href=\"../../../../../logic/sets/membership/__pv_it/common/477487d8796864d23d5810f83761435f25167f690/expr.ipynb\"><img src=\"../../../../../logic/sets/membership/__pv_it/common/477487d8796864d23d5810f83761435f25167f690/expr.png\" style=\"display:inline;vertical-align:middle;\" /></a></td></tr>\n",
       "<tr><td>17</td><td>ExprTuple</td><td>28, 22</td><td><a class=\"ProveItLink\" href=\"../../theorems/43ce819a9a18f8944556be3dee64153cacc723ac0/expr.ipynb\"><img src=\"../../theorems/43ce819a9a18f8944556be3dee64153cacc723ac0/expr.png\" style=\"display:inline;vertical-align:middle;\" /></a></td></tr>\n",
       "<tr><td>18</td><td>Literal</td><td></td><td><a class=\"ProveItLink\" href=\"../../../../ordering/__pv_it/common/fa503ed52033522c609eef1cf3e1b45796489da50/expr.ipynb\"><img src=\"../../../../ordering/__pv_it/common/fa503ed52033522c609eef1cf3e1b45796489da50/expr.png\" style=\"display:inline;vertical-align:middle;\" /></a></td></tr>\n",
       "<tr><td>19</td><td>ExprTuple</td><td>23, 28</td><td><a class=\"ProveItLink\" href=\"../../theorems/f3e0a405953a240ca67fc09c25dc965f76df845b0/expr.ipynb\"><img src=\"../../theorems/f3e0a405953a240ca67fc09c25dc965f76df845b0/expr.png\" style=\"display:inline;vertical-align:middle;\" /></a></td></tr>\n",
       "<tr><td>20</td><td>Operation</td><td>operator:&nbsp;25<br>operands:&nbsp;24<br></td><td><a class=\"ProveItLink\" href=\"../c8b6d1afe840e9f50c80925ba819a060df2449eb0/expr.ipynb\"><img src=\"../c8b6d1afe840e9f50c80925ba819a060df2449eb0/expr.png\" style=\"display:inline;vertical-align:middle;\" /></a></td></tr>\n",
       "<tr><td>21</td><td>Operation</td><td>operator:&nbsp;25<br>operands:&nbsp;26<br></td><td><a class=\"ProveItLink\" href=\"../d5b359614d2a648931d30431321c5302e3aac8190/expr.ipynb\"><img src=\"../d5b359614d2a648931d30431321c5302e3aac8190/expr.png\" style=\"display:inline;vertical-align:middle;\" /></a></td></tr>\n",
       "<tr><td>22</td><td>Literal</td><td></td><td><a class=\"ProveItLink\" href=\"../../../../number_sets/natural_numbers/__pv_it/common/6111329435c43892c831c4793de96afbf80bdb3e0/expr.ipynb\"><img src=\"../../../../number_sets/natural_numbers/__pv_it/common/6111329435c43892c831c4793de96afbf80bdb3e0/expr.png\" style=\"display:inline;vertical-align:middle;\" /></a></td></tr>\n",
       "<tr><td>23</td><td>Literal</td><td></td><td><a class=\"ProveItLink\" href=\"../../../../numerals/__pv_it/common/682157d4892d216d9e5626ed533aff9b56b9506e0/expr.ipynb\"><img src=\"../../../../numerals/__pv_it/common/682157d4892d216d9e5626ed533aff9b56b9506e0/expr.png\" style=\"display:inline;vertical-align:middle;\" /></a></td></tr>\n",
       "<tr><td>24</td><td>ExprTuple</td><td>28, 27</td><td><a class=\"ProveItLink\" href=\"../268251de1cc63c2f39bb534788a118f7851ef1c00/expr.ipynb\"><img src=\"../268251de1cc63c2f39bb534788a118f7851ef1c00/expr.png\" style=\"display:inline;vertical-align:middle;\" /></a></td></tr>\n",
       "<tr><td>25</td><td>Literal</td><td></td><td><a class=\"ProveItLink\" href=\"../../common/a65366842efe06ee8900f970dcf24400f165cec40/expr.ipynb\"><img src=\"../../common/a65366842efe06ee8900f970dcf24400f165cec40/expr.png\" style=\"display:inline;vertical-align:middle;\" /></a></td></tr>\n",
       "<tr><td>26</td><td>ExprTuple</td><td>28, 29</td><td><a class=\"ProveItLink\" href=\"../0a3069f5f9e4495d6d23bdd90e830390fd2f6ea60/expr.ipynb\"><img src=\"../0a3069f5f9e4495d6d23bdd90e830390fd2f6ea60/expr.png\" style=\"display:inline;vertical-align:middle;\" /></a></td></tr>\n",
       "<tr><td>27</td><td>Variable</td><td></td><td><a class=\"ProveItLink\" href=\"../../../../../__pv_it/common/a0d9d672aa5e272d907247690c152cc2c6daafb70/expr.ipynb\"><img src=\"../../../../../__pv_it/common/a0d9d672aa5e272d907247690c152cc2c6daafb70/expr.png\" style=\"display:inline;vertical-align:middle;\" /></a></td></tr>\n",
       "<tr><td>28</td><td>Variable</td><td></td><td><a class=\"ProveItLink\" href=\"../../../../../__pv_it/common/bbfd8ec921873eb340439a30c11dc66622cd75e90/expr.ipynb\"><img src=\"../../../../../__pv_it/common/bbfd8ec921873eb340439a30c11dc66622cd75e90/expr.png\" style=\"display:inline;vertical-align:middle;\" /></a></td></tr>\n",
       "<tr><td>29</td><td>Variable</td><td></td><td><a class=\"ProveItLink\" href=\"../../../../../__pv_it/common/ff7dba4ef0bbe791ab573bf2d9c220a304399ac80/expr.ipynb\"><img src=\"../../../../../__pv_it/common/ff7dba4ef0bbe791ab573bf2d9c220a304399ac80/expr.png\" style=\"display:inline;vertical-align:middle;\" /></a></td></tr>\n",
       "</table>\n"
      ],
      "text/plain": [
       "0. forall_{p in NaturalPos | p > 1} [not]((p | x) and (p | y))\n",
       "   core type: Operation\n",
       "   operator: 1\n",
       "   operand: 3\n",
       "1. forall\n",
       "   core type: Literal\n",
       "   sub-expressions: \n",
       "2. (p -> {[not]((p | x) and (p | y)) if p in NaturalPos ,  p > 1.)\n",
       "   core type: ExprTuple\n",
       "   sub-expressions: 3\n",
       "3. p -> {[not]((p | x) and (p | y)) if p in NaturalPos ,  p > 1.\n",
       "   core type: Lambda\n",
       "   parameter: 28\n",
       "   body: 5\n",
       "4. (p)\n",
       "   core type: ExprTuple\n",
       "   sub-expressions: 28\n",
       "5. {[not]((p | x) and (p | y)) if p in NaturalPos ,  p > 1.\n",
       "   core type: Conditional\n",
       "   value: 6\n",
       "   condition: 7\n",
       "6. [not]((p | x) and (p | y))\n",
       "   core type: Operation\n",
       "   operator: 8\n",
       "   operand: 11\n",
       "7. (p in NaturalPos) and (p > 1)\n",
       "   core type: Operation\n",
       "   operator: 14\n",
       "   operands: 10\n",
       "8. not\n",
       "   core type: Literal\n",
       "   sub-expressions: \n",
       "9. ((p | x) and (p | y))\n",
       "   core type: ExprTuple\n",
       "   sub-expressions: 11\n",
       "10. (p in NaturalPos, p > 1)\n",
       "    core type: ExprTuple\n",
       "    sub-expressions: 12, 13\n",
       "11. (p | x) and (p | y)\n",
       "    core type: Operation\n",
       "    operator: 14\n",
       "    operands: 15\n",
       "12. p in NaturalPos\n",
       "    core type: Operation\n",
       "    operator: 16\n",
       "    operands: 17\n",
       "13. p > 1\n",
       "    core type: Operation\n",
       "    operator: 18\n",
       "    operands: 19\n",
       "14. and\n",
       "    core type: Literal\n",
       "    sub-expressions: \n",
       "15. (p | x, p | y)\n",
       "    core type: ExprTuple\n",
       "    sub-expressions: 20, 21\n",
       "16. in\n",
       "    core type: Literal\n",
       "    sub-expressions: \n",
       "17. (p, NaturalPos)\n",
       "    core type: ExprTuple\n",
       "    sub-expressions: 28, 22\n",
       "18. <\n",
       "    core type: Literal\n",
       "    sub-expressions: \n",
       "19. (1, p)\n",
       "    core type: ExprTuple\n",
       "    sub-expressions: 23, 28\n",
       "20. p | x\n",
       "    core type: Operation\n",
       "    operator: 25\n",
       "    operands: 24\n",
       "21. p | y\n",
       "    core type: Operation\n",
       "    operator: 25\n",
       "    operands: 26\n",
       "22. NaturalPos\n",
       "    core type: Literal\n",
       "    sub-expressions: \n",
       "23. 1\n",
       "    core type: Literal\n",
       "    sub-expressions: \n",
       "24. (p, x)\n",
       "    core type: ExprTuple\n",
       "    sub-expressions: 28, 27\n",
       "25. |\n",
       "    core type: Literal\n",
       "    sub-expressions: \n",
       "26. (p, y)\n",
       "    core type: ExprTuple\n",
       "    sub-expressions: 28, 29\n",
       "27. x\n",
       "    core type: Variable\n",
       "    sub-expressions: \n",
       "28. p\n",
       "    core type: Variable\n",
       "    sub-expressions: \n",
       "29. y\n",
       "    core type: Variable\n",
       "    sub-expressions: "
      ]
     },
     "metadata": {},
     "output_type": "display_data"
    }
   ],
   "source": [
    "# display the expression information\n",
    "stored_expr.expr_info()"
   ]
  },
  {
   "cell_type": "code",
   "execution_count": null,
   "metadata": {},
   "outputs": [],
   "source": []
  }
 ],
 "metadata": {
  "kernelspec": {
   "display_name": "Python 3",
   "language": "python",
   "name": "python3"
  }
 },
 "nbformat": 4,
 "nbformat_minor": 0
}