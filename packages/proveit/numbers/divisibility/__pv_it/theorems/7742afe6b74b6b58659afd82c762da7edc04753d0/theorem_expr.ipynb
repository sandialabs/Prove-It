{
 "cells": [
  {
   "cell_type": "markdown",
   "metadata": {},
   "source": [
    "Theorem <a class=\"ProveItLink\" href=\"../../../_theorems_.ipynb#common_factor_elimination\">common_factor_elimination</a> of type <a class=\"ProveItLink\" href=\"../../../../../../../doc/html/api/proveit.logic.Forall.html\">Forall</a>\n",
    "=======================\n",
    "# from the theory of <a class=\"ProveItLink\" href=\"../../../_theory_nbs_/theory.ipynb\">proveit.numbers.divisibility</a>\n",
    "*** see <a class=\"ProveItLink\" href=\"dependencies.ipynb\">dependencies</a> ***"
   ]
  },
  {
   "cell_type": "code",
   "execution_count": 1,
   "metadata": {},
   "outputs": [],
   "source": [
    "import proveit\n",
    "# Automation is not needed when only building an expression:\n",
    "proveit.defaults.automation = False # This will speed things up.\n",
    "proveit.defaults.inline_pngs = False # Makes files smaller.\n",
    "%load_theorem_expr # Load the stored theorem expression as 'stored_expr'\n",
    "# import the special expression\n",
    "from proveit.numbers.divisibility import common_factor_elimination"
   ]
  },
  {
   "cell_type": "code",
   "execution_count": 2,
   "metadata": {},
   "outputs": [
    {
     "name": "stdout",
     "output_type": "stream",
     "text": [
      "Passed sanity check: common_factor_elimination matches stored_expr\n"
     ]
    }
   ],
   "source": [
    "# check that the built expression is the same as the stored expression\n",
    "assert common_factor_elimination.expr == stored_expr\n",
    "assert common_factor_elimination.expr._style_id == stored_expr._style_id\n",
    "print(\"Passed sanity check: common_factor_elimination matches stored_expr\")"
   ]
  },
  {
   "cell_type": "code",
   "execution_count": 3,
   "metadata": {},
   "outputs": [
    {
     "name": "stdout",
     "output_type": "stream",
     "text": [
      "\\forall_{a, b, k \\in \\mathbb{C}~|~\\left(k \\cdot a\\right) \\rvert \\left(k \\cdot b\\right), k \\neq 0}~\\left(a \\rvert b\\right)\n"
     ]
    }
   ],
   "source": [
    "# Show the LaTeX representation of the expression for convenience if you need it.\n",
    "print(stored_expr.latex())"
   ]
  },
  {
   "cell_type": "code",
   "execution_count": 4,
   "metadata": {},
   "outputs": [
    {
     "data": {
      "text/html": [
       "<table>\n",
       "<tr><th>name</th><th>description</th><th>default</th><th>current value</th><th>related methods</th></tr><tr><td>with_wrapping</td><td>If 'True', wrap the Expression after the parameters</td><td>None</td><td>None/False</td><td>('with_wrapping',)</td></tr>\n",
       "<tr><td>condition_wrapping</td><td>Wrap 'before' or 'after' the condition (or None).</td><td>None</td><td>None/False</td><td>('with_wrap_after_condition', 'with_wrap_before_condition')</td></tr>\n",
       "<tr><td>wrap_params</td><td>If 'True', wraps every two parameters AND wraps the Expression after the parameters</td><td>None</td><td>None/False</td><td>('with_params',)</td></tr>\n",
       "<tr><td>justification</td><td>justify to the 'left', 'center', or 'right' in the array cells</td><td>center</td><td>center</td><td>('with_justification',)</td></tr>\n",
       "</table>\n"
      ],
      "text/plain": [
       "style name: with_wrapping\n",
       "description: If 'True', wrap the Expression after the parameters\n",
       "default: None\n",
       "current value: None/False\n",
       "related methods: ('with_wrapping',)\n",
       "style name: condition_wrapping\n",
       "description: Wrap 'before' or 'after' the condition (or None).\n",
       "default: None\n",
       "current value: None/False\n",
       "related methods: ('with_wrap_after_condition', 'with_wrap_before_condition')\n",
       "style name: wrap_params\n",
       "description: If 'True', wraps every two parameters AND wraps the Expression after the parameters\n",
       "default: None\n",
       "current value: None/False\n",
       "related methods: ('with_params',)\n",
       "style name: justification\n",
       "description: justify to the 'left', 'center', or 'right' in the array cells\n",
       "default: center\n",
       "current value: center\n",
       "related methods: ('with_justification',)"
      ]
     },
     "metadata": {},
     "output_type": "display_data"
    }
   ],
   "source": [
    "stored_expr.style_options()"
   ]
  },
  {
   "cell_type": "code",
   "execution_count": 5,
   "metadata": {},
   "outputs": [
    {
     "data": {
      "text/html": [
       "<table><tr><th>&nbsp;</th><th>core type</th><th>sub-expressions</th><th>expression</th></tr>\n",
       "<tr><td>0</td><td>Operation</td><td>operator:&nbsp;1<br>operand:&nbsp;3<br></td><td><a class=\"ProveItLink\" href=\"../d17cf12f9618dcf8217981671bedce2ecfda43f40/expr.ipynb\"><img src=\"../d17cf12f9618dcf8217981671bedce2ecfda43f40/expr.png\" style=\"display:inline;vertical-align:middle;\" /></a></td></tr>\n",
       "<tr><td>1</td><td>Literal</td><td></td><td><a class=\"ProveItLink\" href=\"../../../../../logic/booleans/quantification/universality/__pv_it/common/083d2baa0b8ecab1d230f9ec29a15aa1355809fb0/expr.ipynb\"><img src=\"../../../../../logic/booleans/quantification/universality/__pv_it/common/083d2baa0b8ecab1d230f9ec29a15aa1355809fb0/expr.png\" style=\"display:inline;vertical-align:middle;\" /></a></td></tr>\n",
       "<tr><td>2</td><td>ExprTuple</td><td>3</td><td><a class=\"ProveItLink\" href=\"../b1d2d65b0c46f6213992b4d13e7eee794cea2ae00/expr.ipynb\"><img src=\"../b1d2d65b0c46f6213992b4d13e7eee794cea2ae00/expr.png\" style=\"display:inline;vertical-align:middle;\" /></a></td></tr>\n",
       "<tr><td>3</td><td>Lambda</td><td>parameters:&nbsp;4<br>body:&nbsp;5<br></td><td><a class=\"ProveItLink\" href=\"../40b9ecb043a4b125c87d39e956190934793c77560/expr.ipynb\"><img src=\"../40b9ecb043a4b125c87d39e956190934793c77560/expr.png\" style=\"display:inline;vertical-align:middle;\" /></a></td></tr>\n",
       "<tr><td>4</td><td>ExprTuple</td><td>31, 33, 32</td><td><a class=\"ProveItLink\" href=\"../b22da5a5d4f5d4d1b3461835f668c1ae21626e820/expr.ipynb\"><img src=\"../b22da5a5d4f5d4d1b3461835f668c1ae21626e820/expr.png\" style=\"display:inline;vertical-align:middle;\" /></a></td></tr>\n",
       "<tr><td>5</td><td>Conditional</td><td>value:&nbsp;6<br>condition:&nbsp;7<br></td><td><a class=\"ProveItLink\" href=\"../484970ec85e3c34c898d00a6069d23d1d86d663a0/expr.ipynb\"><img src=\"../484970ec85e3c34c898d00a6069d23d1d86d663a0/expr.png\" style=\"display:inline;vertical-align:middle;\" /></a></td></tr>\n",
       "<tr><td>6</td><td>Operation</td><td>operator:&nbsp;20<br>operands:&nbsp;8<br></td><td><a class=\"ProveItLink\" href=\"../38347a3277584f43fbe3990f845cb850f27134720/expr.ipynb\"><img src=\"../38347a3277584f43fbe3990f845cb850f27134720/expr.png\" style=\"display:inline;vertical-align:middle;\" /></a></td></tr>\n",
       "<tr><td>7</td><td>Operation</td><td>operator:&nbsp;9<br>operands:&nbsp;10<br></td><td><a class=\"ProveItLink\" href=\"../8d3f7600d7c23d0fc5357f3c7cc6d321cd065ddc0/expr.ipynb\"><img src=\"../8d3f7600d7c23d0fc5357f3c7cc6d321cd065ddc0/expr.png\" style=\"display:inline;vertical-align:middle;\" /></a></td></tr>\n",
       "<tr><td>8</td><td>ExprTuple</td><td>31, 33</td><td><a class=\"ProveItLink\" href=\"../3dcd5ceea6334d8cb48fe14fdae236293aa9a6050/expr.ipynb\"><img src=\"../3dcd5ceea6334d8cb48fe14fdae236293aa9a6050/expr.png\" style=\"display:inline;vertical-align:middle;\" /></a></td></tr>\n",
       "<tr><td>9</td><td>Literal</td><td></td><td><a class=\"ProveItLink\" href=\"../../../../../logic/booleans/conjunction/__pv_it/common/42118ff318bd65d98b1393f64ce7c2269feef76e0/expr.ipynb\"><img src=\"../../../../../logic/booleans/conjunction/__pv_it/common/42118ff318bd65d98b1393f64ce7c2269feef76e0/expr.png\" style=\"display:inline;vertical-align:middle;\" /></a></td></tr>\n",
       "<tr><td>10</td><td>ExprTuple</td><td>11, 12, 13, 14, 15</td><td><a class=\"ProveItLink\" href=\"../329dbe20d77227b2237fbda68c2d51a1bdc7aed90/expr.ipynb\"><img src=\"../329dbe20d77227b2237fbda68c2d51a1bdc7aed90/expr.png\" style=\"display:inline;vertical-align:middle;\" /></a></td></tr>\n",
       "<tr><td>11</td><td>Operation</td><td>operator:&nbsp;18<br>operands:&nbsp;16<br></td><td><a class=\"ProveItLink\" href=\"../e9f87a0977d5044ea8daf1040d2f219396bb3d5b0/expr.ipynb\"><img src=\"../e9f87a0977d5044ea8daf1040d2f219396bb3d5b0/expr.png\" style=\"display:inline;vertical-align:middle;\" /></a></td></tr>\n",
       "<tr><td>12</td><td>Operation</td><td>operator:&nbsp;18<br>operands:&nbsp;17<br></td><td><a class=\"ProveItLink\" href=\"../a259ec76dfb0a5be60b7c83d797520fa82c1dba60/expr.ipynb\"><img src=\"../a259ec76dfb0a5be60b7c83d797520fa82c1dba60/expr.png\" style=\"display:inline;vertical-align:middle;\" /></a></td></tr>\n",
       "<tr><td>13</td><td>Operation</td><td>operator:&nbsp;18<br>operands:&nbsp;19<br></td><td><a class=\"ProveItLink\" href=\"../46c3158a4c44e2c9c8918a936f71d8976a8cf8f70/expr.ipynb\"><img src=\"../46c3158a4c44e2c9c8918a936f71d8976a8cf8f70/expr.png\" style=\"display:inline;vertical-align:middle;\" /></a></td></tr>\n",
       "<tr><td>14</td><td>Operation</td><td>operator:&nbsp;20<br>operands:&nbsp;21<br></td><td><a class=\"ProveItLink\" href=\"../9a174c0ea0f697611719fd864c10b4d53f37904f0/expr.ipynb\"><img src=\"../9a174c0ea0f697611719fd864c10b4d53f37904f0/expr.png\" style=\"display:inline;vertical-align:middle;\" /></a></td></tr>\n",
       "<tr><td>15</td><td>Operation</td><td>operator:&nbsp;22<br>operands:&nbsp;23<br></td><td><a class=\"ProveItLink\" href=\"../32f32780aaa6bcd4a0765fe3d70d411fb229af940/expr.ipynb\"><img src=\"../32f32780aaa6bcd4a0765fe3d70d411fb229af940/expr.png\" style=\"display:inline;vertical-align:middle;\" /></a></td></tr>\n",
       "<tr><td>16</td><td>ExprTuple</td><td>31, 24</td><td><a class=\"ProveItLink\" href=\"../f95f1bd17fb8b13a3ef06d06b532b556f249a05f0/expr.ipynb\"><img src=\"../f95f1bd17fb8b13a3ef06d06b532b556f249a05f0/expr.png\" style=\"display:inline;vertical-align:middle;\" /></a></td></tr>\n",
       "<tr><td>17</td><td>ExprTuple</td><td>33, 24</td><td><a class=\"ProveItLink\" href=\"../4a72a986c458b001a667c5069838c28cc69c8d280/expr.ipynb\"><img src=\"../4a72a986c458b001a667c5069838c28cc69c8d280/expr.png\" style=\"display:inline;vertical-align:middle;\" /></a></td></tr>\n",
       "<tr><td>18</td><td>Literal</td><td></td><td><a class=\"ProveItLink\" href=\"../../../../../logic/sets/membership/__pv_it/common/477487d8796864d23d5810f83761435f25167f690/expr.ipynb\"><img src=\"../../../../../logic/sets/membership/__pv_it/common/477487d8796864d23d5810f83761435f25167f690/expr.png\" style=\"display:inline;vertical-align:middle;\" /></a></td></tr>\n",
       "<tr><td>19</td><td>ExprTuple</td><td>32, 24</td><td><a class=\"ProveItLink\" href=\"../c6ff12b65a32e411a6ca798715d88978a3e1a4740/expr.ipynb\"><img src=\"../c6ff12b65a32e411a6ca798715d88978a3e1a4740/expr.png\" style=\"display:inline;vertical-align:middle;\" /></a></td></tr>\n",
       "<tr><td>20</td><td>Literal</td><td></td><td><a class=\"ProveItLink\" href=\"../../common/a65366842efe06ee8900f970dcf24400f165cec40/expr.ipynb\"><img src=\"../../common/a65366842efe06ee8900f970dcf24400f165cec40/expr.png\" style=\"display:inline;vertical-align:middle;\" /></a></td></tr>\n",
       "<tr><td>21</td><td>ExprTuple</td><td>25, 26</td><td><a class=\"ProveItLink\" href=\"../248cfe0abdb9c5299f441932a963c38c6384a92f0/expr.ipynb\"><img src=\"../248cfe0abdb9c5299f441932a963c38c6384a92f0/expr.png\" style=\"display:inline;vertical-align:middle;\" /></a></td></tr>\n",
       "<tr><td>22</td><td>Literal</td><td></td><td><a class=\"ProveItLink\" href=\"../../../../../logic/equality/__pv_it/common/d96270bc9bb1bad54f773b1c04bfb343a739642c0/expr.ipynb\"><img src=\"../../../../../logic/equality/__pv_it/common/d96270bc9bb1bad54f773b1c04bfb343a739642c0/expr.png\" style=\"display:inline;vertical-align:middle;\" /></a></td></tr>\n",
       "<tr><td>23</td><td>ExprTuple</td><td>32, 27</td><td><a class=\"ProveItLink\" href=\"../cd8cdfbc41fea226ae9b469399ec80d0b4f650490/expr.ipynb\"><img src=\"../cd8cdfbc41fea226ae9b469399ec80d0b4f650490/expr.png\" style=\"display:inline;vertical-align:middle;\" /></a></td></tr>\n",
       "<tr><td>24</td><td>Literal</td><td></td><td><a class=\"ProveItLink\" href=\"../../../../number_sets/complex_numbers/__pv_it/common/d18a028138f659eda00de597c28a3447fe87eb100/expr.ipynb\"><img src=\"../../../../number_sets/complex_numbers/__pv_it/common/d18a028138f659eda00de597c28a3447fe87eb100/expr.png\" style=\"display:inline;vertical-align:middle;\" /></a></td></tr>\n",
       "<tr><td>25</td><td>Operation</td><td>operator:&nbsp;29<br>operands:&nbsp;28<br></td><td><a class=\"ProveItLink\" href=\"../c43e8860ba1372448614c808a540f591d27f4e220/expr.ipynb\"><img src=\"../c43e8860ba1372448614c808a540f591d27f4e220/expr.png\" style=\"display:inline;vertical-align:middle;\" /></a></td></tr>\n",
       "<tr><td>26</td><td>Operation</td><td>operator:&nbsp;29<br>operands:&nbsp;30<br></td><td><a class=\"ProveItLink\" href=\"../51c91caf3e010067e4c180de12fb1083d14375450/expr.ipynb\"><img src=\"../51c91caf3e010067e4c180de12fb1083d14375450/expr.png\" style=\"display:inline;vertical-align:middle;\" /></a></td></tr>\n",
       "<tr><td>27</td><td>Literal</td><td></td><td><a class=\"ProveItLink\" href=\"../../../../numerals/__pv_it/common/dd4e19e8b134dfb293470ea55fe3589b0ab9f8040/expr.ipynb\"><img src=\"../../../../numerals/__pv_it/common/dd4e19e8b134dfb293470ea55fe3589b0ab9f8040/expr.png\" style=\"display:inline;vertical-align:middle;\" /></a></td></tr>\n",
       "<tr><td>28</td><td>ExprTuple</td><td>32, 31</td><td><a class=\"ProveItLink\" href=\"../8e081d49459da84c4679d0fff2c44d11ef4613340/expr.ipynb\"><img src=\"../8e081d49459da84c4679d0fff2c44d11ef4613340/expr.png\" style=\"display:inline;vertical-align:middle;\" /></a></td></tr>\n",
       "<tr><td>29</td><td>Literal</td><td></td><td><a class=\"ProveItLink\" href=\"../../../../multiplication/__pv_it/common/ed719cef37831779c16481533a4d380a2f95ab270/expr.ipynb\"><img src=\"../../../../multiplication/__pv_it/common/ed719cef37831779c16481533a4d380a2f95ab270/expr.png\" style=\"display:inline;vertical-align:middle;\" /></a></td></tr>\n",
       "<tr><td>30</td><td>ExprTuple</td><td>32, 33</td><td><a class=\"ProveItLink\" href=\"../7635458b893ed4de382f06f60494d4790838c3260/expr.ipynb\"><img src=\"../7635458b893ed4de382f06f60494d4790838c3260/expr.png\" style=\"display:inline;vertical-align:middle;\" /></a></td></tr>\n",
       "<tr><td>31</td><td>Variable</td><td></td><td><a class=\"ProveItLink\" href=\"../../../../../__pv_it/common/c06c606ec12678c58933ac85412ecadc2ae28be60/expr.ipynb\"><img src=\"../../../../../__pv_it/common/c06c606ec12678c58933ac85412ecadc2ae28be60/expr.png\" style=\"display:inline;vertical-align:middle;\" /></a></td></tr>\n",
       "<tr><td>32</td><td>Variable</td><td></td><td><a class=\"ProveItLink\" href=\"../../../../../__pv_it/common/63b7c64bf9ec7a04ecc396c7a1670f3f12fb59490/expr.ipynb\"><img src=\"../../../../../__pv_it/common/63b7c64bf9ec7a04ecc396c7a1670f3f12fb59490/expr.png\" style=\"display:inline;vertical-align:middle;\" /></a></td></tr>\n",
       "<tr><td>33</td><td>Variable</td><td></td><td><a class=\"ProveItLink\" href=\"../../../../../__pv_it/common/195236b98c6c564a75b5dbada74b173bc52d5c3e0/expr.ipynb\"><img src=\"../../../../../__pv_it/common/195236b98c6c564a75b5dbada74b173bc52d5c3e0/expr.png\" style=\"display:inline;vertical-align:middle;\" /></a></td></tr>\n",
       "</table>\n"
      ],
      "text/plain": [
       "0. forall_{a, b, k in Complex | (k * a) | (k * b), k != 0} (a | b)\n",
       "   core type: Operation\n",
       "   operator: 1\n",
       "   operand: 3\n",
       "1. forall\n",
       "   core type: Literal\n",
       "   sub-expressions: \n",
       "2. ((a, b, k) -> {a | b if a in Complex ,  b in Complex ,  k in Complex ,  (k * a) | (k * b) ,  k != 0.)\n",
       "   core type: ExprTuple\n",
       "   sub-expressions: 3\n",
       "3. (a, b, k) -> {a | b if a in Complex ,  b in Complex ,  k in Complex ,  (k * a) | (k * b) ,  k != 0.\n",
       "   core type: Lambda\n",
       "   parameters: 4\\n   body: 5\n",
       "4. (a, b, k)\n",
       "   core type: ExprTuple\n",
       "   sub-expressions: 31, 33, 32\n",
       "5. {a | b if a in Complex ,  b in Complex ,  k in Complex ,  (k * a) | (k * b) ,  k != 0.\n",
       "   core type: Conditional\n",
       "   value: 6\n",
       "   condition: 7\n",
       "6. a | b\n",
       "   core type: Operation\n",
       "   operator: 20\n",
       "   operands: 8\n",
       "7. (a in Complex) and (b in Complex) and (k in Complex) and ((k * a) | (k * b)) and (k != 0)\n",
       "   core type: Operation\n",
       "   operator: 9\n",
       "   operands: 10\n",
       "8. (a, b)\n",
       "   core type: ExprTuple\n",
       "   sub-expressions: 31, 33\n",
       "9. and\n",
       "   core type: Literal\n",
       "   sub-expressions: \n",
       "10. (a in Complex, b in Complex, k in Complex, (k * a) | (k * b), k != 0)\n",
       "    core type: ExprTuple\n",
       "    sub-expressions: 11, 12, 13, 14, 15\n",
       "11. a in Complex\n",
       "    core type: Operation\n",
       "    operator: 18\n",
       "    operands: 16\n",
       "12. b in Complex\n",
       "    core type: Operation\n",
       "    operator: 18\n",
       "    operands: 17\n",
       "13. k in Complex\n",
       "    core type: Operation\n",
       "    operator: 18\n",
       "    operands: 19\n",
       "14. (k * a) | (k * b)\n",
       "    core type: Operation\n",
       "    operator: 20\n",
       "    operands: 21\n",
       "15. k != 0\n",
       "    core type: Operation\n",
       "    operator: 22\n",
       "    operands: 23\n",
       "16. (a, Complex)\n",
       "    core type: ExprTuple\n",
       "    sub-expressions: 31, 24\n",
       "17. (b, Complex)\n",
       "    core type: ExprTuple\n",
       "    sub-expressions: 33, 24\n",
       "18. in\n",
       "    core type: Literal\n",
       "    sub-expressions: \n",
       "19. (k, Complex)\n",
       "    core type: ExprTuple\n",
       "    sub-expressions: 32, 24\n",
       "20. |\n",
       "    core type: Literal\n",
       "    sub-expressions: \n",
       "21. (k * a, k * b)\n",
       "    core type: ExprTuple\n",
       "    sub-expressions: 25, 26\n",
       "22. !=\n",
       "    core type: Literal\n",
       "    sub-expressions: \n",
       "23. (k, 0)\n",
       "    core type: ExprTuple\n",
       "    sub-expressions: 32, 27\n",
       "24. Complex\n",
       "    core type: Literal\n",
       "    sub-expressions: \n",
       "25. k * a\n",
       "    core type: Operation\n",
       "    operator: 29\n",
       "    operands: 28\n",
       "26. k * b\n",
       "    core type: Operation\n",
       "    operator: 29\n",
       "    operands: 30\n",
       "27. 0\n",
       "    core type: Literal\n",
       "    sub-expressions: \n",
       "28. (k, a)\n",
       "    core type: ExprTuple\n",
       "    sub-expressions: 32, 31\n",
       "29. *\n",
       "    core type: Literal\n",
       "    sub-expressions: \n",
       "30. (k, b)\n",
       "    core type: ExprTuple\n",
       "    sub-expressions: 32, 33\n",
       "31. a\n",
       "    core type: Variable\n",
       "    sub-expressions: \n",
       "32. k\n",
       "    core type: Variable\n",
       "    sub-expressions: \n",
       "33. b\n",
       "    core type: Variable\n",
       "    sub-expressions: "
      ]
     },
     "metadata": {},
     "output_type": "display_data"
    }
   ],
   "source": [
    "# display the expression information\n",
    "stored_expr.expr_info()"
   ]
  },
  {
   "cell_type": "code",
   "execution_count": null,
   "metadata": {},
   "outputs": [],
   "source": []
  }
 ],
 "metadata": {
  "kernelspec": {
   "display_name": "Python 3",
   "language": "python",
   "name": "python3"
  }
 },
 "nbformat": 4,
 "nbformat_minor": 0
}