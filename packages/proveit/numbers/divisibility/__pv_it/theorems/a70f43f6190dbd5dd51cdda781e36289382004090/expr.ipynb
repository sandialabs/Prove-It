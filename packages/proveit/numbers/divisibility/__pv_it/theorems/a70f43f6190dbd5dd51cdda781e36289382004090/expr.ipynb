{
 "cells": [
  {
   "cell_type": "markdown",
   "metadata": {},
   "source": [
    "Expression of type <a class=\"ProveItLink\" href=\"../../../../../../../doc/html/api/proveit.ExprTuple.html\">ExprTuple</a>\n",
    "=======================\n",
    "# from the theory of <a class=\"ProveItLink\" href=\"../../../_theory_nbs_/theory.ipynb\">proveit.numbers.divisibility</a>"
   ]
  },
  {
   "cell_type": "code",
   "execution_count": 1,
   "metadata": {},
   "outputs": [],
   "source": [
    "import proveit\n",
    "# Automation is not needed when building an expression:\n",
    "proveit.defaults.automation = False # This will speed things up.\n",
    "proveit.defaults.inline_pngs = False # Makes files smaller.\n",
    "%load_expr # Load the stored expression as 'stored_expr'\n",
    "# import Expression classes needed to build the expression\n",
    "from proveit import Conditional, ExprTuple, Lambda, a, b, p\n",
    "from proveit.logic import And, Equals, Forall, InSet, Not\n",
    "from proveit.numbers import Divides, GCD, NaturalPos, greater, one"
   ]
  },
  {
   "cell_type": "code",
   "execution_count": 2,
   "metadata": {},
   "outputs": [
    {
     "data": {
      "text/html": [
       "<strong id=\"expr\">expr:</strong> <a class=\"ProveItLink\" href=\"expr.ipynb\"><img src=\"expr.png\" style=\"display:inline;vertical-align:middle;\" /></a><br>"
      ],
      "text/plain": [
       "<IPython.core.display.HTML object>"
      ]
     },
     "metadata": {},
     "output_type": "display_data"
    }
   ],
   "source": [
    "# build up the expression from sub-expressions\n",
    "expr = ExprTuple(Lambda([a, b], Conditional(Forall(instance_param_or_params = [p], instance_expr = Not(And(Divides(p, a), Divides(p, b))), domain = NaturalPos, condition = greater(p, one)), And(InSet(a, NaturalPos), InSet(b, NaturalPos), Equals(GCD(a, b), one)))))"
   ]
  },
  {
   "cell_type": "code",
   "execution_count": 3,
   "metadata": {},
   "outputs": [
    {
     "name": "stdout",
     "output_type": "stream",
     "text": [
      "Passed sanity check: expr matches stored_expr\n"
     ]
    }
   ],
   "source": [
    "# check that the built expression is the same as the stored expression\n",
    "assert expr == stored_expr\n",
    "assert expr._style_id == stored_expr._style_id\n",
    "print(\"Passed sanity check: expr matches stored_expr\")"
   ]
  },
  {
   "cell_type": "code",
   "execution_count": 4,
   "metadata": {},
   "outputs": [
    {
     "name": "stdout",
     "output_type": "stream",
     "text": [
      "\\left(\\left(a, b\\right) \\mapsto \\left\\{\\forall_{p \\in \\mathbb{N}^+~|~p > 1}~(\\lnot \\left(\\left(p \\rvert a\\right) \\land \\left(p \\rvert b\\right)\\right)) \\textrm{ if } a \\in \\mathbb{N}^+ ,  b \\in \\mathbb{N}^+ ,  gcd\\left(a, b\\right) = 1\\right..\\right)\n"
     ]
    }
   ],
   "source": [
    "# Show the LaTeX representation of the expression for convenience if you need it.\n",
    "print(stored_expr.latex())"
   ]
  },
  {
   "cell_type": "code",
   "execution_count": 5,
   "metadata": {},
   "outputs": [
    {
     "data": {
      "text/html": [
       "no style options"
      ],
      "text/plain": [
       "no style options"
      ]
     },
     "metadata": {},
     "output_type": "display_data"
    }
   ],
   "source": [
    "stored_expr.style_options()"
   ]
  },
  {
   "cell_type": "code",
   "execution_count": 6,
   "metadata": {},
   "outputs": [
    {
     "data": {
      "text/html": [
       "<table><tr><th>&nbsp;</th><th>core type</th><th>sub-expressions</th><th>expression</th></tr>\n",
       "<tr><td>0</td><td>ExprTuple</td><td>1</td><td><a class=\"ProveItLink\" href=\"expr.ipynb\"><img src=\"expr.png\" style=\"display:inline;vertical-align:middle;\" /></a></td></tr>\n",
       "<tr><td>1</td><td>Lambda</td><td>parameters:&nbsp;25<br>body:&nbsp;2<br></td><td><a class=\"ProveItLink\" href=\"../901c38d553b102825d58fe4075dba7432f40fa8d0/expr.ipynb\"><img src=\"../901c38d553b102825d58fe4075dba7432f40fa8d0/expr.png\" style=\"display:inline;vertical-align:middle;\" /></a></td></tr>\n",
       "<tr><td>2</td><td>Conditional</td><td>value:&nbsp;3<br>condition:&nbsp;4<br></td><td><a class=\"ProveItLink\" href=\"../e51d5167190664eaae5290ed3831345c24a6a14c0/expr.ipynb\"><img src=\"../e51d5167190664eaae5290ed3831345c24a6a14c0/expr.png\" style=\"display:inline;vertical-align:middle;\" /></a></td></tr>\n",
       "<tr><td>3</td><td>Operation</td><td>operator:&nbsp;5<br>operand:&nbsp;8<br></td><td><a class=\"ProveItLink\" href=\"../c3fa3dbf73a06a7b03bc4896a9223c5f826f6eb90/expr.ipynb\"><img src=\"../c3fa3dbf73a06a7b03bc4896a9223c5f826f6eb90/expr.png\" style=\"display:inline;vertical-align:middle;\" /></a></td></tr>\n",
       "<tr><td>4</td><td>Operation</td><td>operator:&nbsp;29<br>operands:&nbsp;7<br></td><td><a class=\"ProveItLink\" href=\"../cd0f62d61e55242963245d74f68b6c985cdb836d0/expr.ipynb\"><img src=\"../cd0f62d61e55242963245d74f68b6c985cdb836d0/expr.png\" style=\"display:inline;vertical-align:middle;\" /></a></td></tr>\n",
       "<tr><td>5</td><td>Literal</td><td></td><td><a class=\"ProveItLink\" href=\"../../../../../logic/booleans/quantification/universality/__pv_it/common/083d2baa0b8ecab1d230f9ec29a15aa1355809fb0/expr.ipynb\"><img src=\"../../../../../logic/booleans/quantification/universality/__pv_it/common/083d2baa0b8ecab1d230f9ec29a15aa1355809fb0/expr.png\" style=\"display:inline;vertical-align:middle;\" /></a></td></tr>\n",
       "<tr><td>6</td><td>ExprTuple</td><td>8</td><td><a class=\"ProveItLink\" href=\"../cf86433ae8124b6d3cba50e857e9d3adcb7369030/expr.ipynb\"><img src=\"../cf86433ae8124b6d3cba50e857e9d3adcb7369030/expr.png\" style=\"display:inline;vertical-align:middle;\" /></a></td></tr>\n",
       "<tr><td>7</td><td>ExprTuple</td><td>9, 10, 11</td><td><a class=\"ProveItLink\" href=\"../a8f6e941f093bdd00d03abe08f7935600c5cb9610/expr.ipynb\"><img src=\"../a8f6e941f093bdd00d03abe08f7935600c5cb9610/expr.png\" style=\"display:inline;vertical-align:middle;\" /></a></td></tr>\n",
       "<tr><td>8</td><td>Lambda</td><td>parameter:&nbsp;43<br>body:&nbsp;13<br></td><td><a class=\"ProveItLink\" href=\"../7c1daf9c300409874692cecbaa2976e9828a4cae0/expr.ipynb\"><img src=\"../7c1daf9c300409874692cecbaa2976e9828a4cae0/expr.png\" style=\"display:inline;vertical-align:middle;\" /></a></td></tr>\n",
       "<tr><td>9</td><td>Operation</td><td>operator:&nbsp;31<br>operands:&nbsp;14<br></td><td><a class=\"ProveItLink\" href=\"../3491a039698971b62ff4e02bff8d5580af19c47d0/expr.ipynb\"><img src=\"../3491a039698971b62ff4e02bff8d5580af19c47d0/expr.png\" style=\"display:inline;vertical-align:middle;\" /></a></td></tr>\n",
       "<tr><td>10</td><td>Operation</td><td>operator:&nbsp;31<br>operands:&nbsp;15<br></td><td><a class=\"ProveItLink\" href=\"../338bea1169aca2a51c9e3cdb908726f9096b30730/expr.ipynb\"><img src=\"../338bea1169aca2a51c9e3cdb908726f9096b30730/expr.png\" style=\"display:inline;vertical-align:middle;\" /></a></td></tr>\n",
       "<tr><td>11</td><td>Operation</td><td>operator:&nbsp;16<br>operands:&nbsp;17<br></td><td><a class=\"ProveItLink\" href=\"../b9e5ce2ba52a92652a86285971cb61851c8335310/expr.ipynb\"><img src=\"../b9e5ce2ba52a92652a86285971cb61851c8335310/expr.png\" style=\"display:inline;vertical-align:middle;\" /></a></td></tr>\n",
       "<tr><td>12</td><td>ExprTuple</td><td>43</td><td><a class=\"ProveItLink\" href=\"../527c551ff60aa90c443f150751d409424a4630a80/expr.ipynb\"><img src=\"../527c551ff60aa90c443f150751d409424a4630a80/expr.png\" style=\"display:inline;vertical-align:middle;\" /></a></td></tr>\n",
       "<tr><td>13</td><td>Conditional</td><td>value:&nbsp;18<br>condition:&nbsp;19<br></td><td><a class=\"ProveItLink\" href=\"../d56afbb11c95b740d627a6374a893b837d547b0d0/expr.ipynb\"><img src=\"../d56afbb11c95b740d627a6374a893b837d547b0d0/expr.png\" style=\"display:inline;vertical-align:middle;\" /></a></td></tr>\n",
       "<tr><td>14</td><td>ExprTuple</td><td>42, 37</td><td><a class=\"ProveItLink\" href=\"../c42803a503f13b318b4039a14899de0a33737b0f0/expr.ipynb\"><img src=\"../c42803a503f13b318b4039a14899de0a33737b0f0/expr.png\" style=\"display:inline;vertical-align:middle;\" /></a></td></tr>\n",
       "<tr><td>15</td><td>ExprTuple</td><td>44, 37</td><td><a class=\"ProveItLink\" href=\"../0e79c4ccd2b6288bf380be6a73bffb7678e470420/expr.ipynb\"><img src=\"../0e79c4ccd2b6288bf380be6a73bffb7678e470420/expr.png\" style=\"display:inline;vertical-align:middle;\" /></a></td></tr>\n",
       "<tr><td>16</td><td>Literal</td><td></td><td><a class=\"ProveItLink\" href=\"../../../../../logic/equality/__pv_it/common/fb96dc12b2aa8801dda64d0132b396c63d1502bb0/expr.ipynb\"><img src=\"../../../../../logic/equality/__pv_it/common/fb96dc12b2aa8801dda64d0132b396c63d1502bb0/expr.png\" style=\"display:inline;vertical-align:middle;\" /></a></td></tr>\n",
       "<tr><td>17</td><td>ExprTuple</td><td>20, 38</td><td><a class=\"ProveItLink\" href=\"../5d9347a73234db774a06de20742868af17d404300/expr.ipynb\"><img src=\"../5d9347a73234db774a06de20742868af17d404300/expr.png\" style=\"display:inline;vertical-align:middle;\" /></a></td></tr>\n",
       "<tr><td>18</td><td>Operation</td><td>operator:&nbsp;21<br>operand:&nbsp;26<br></td><td><a class=\"ProveItLink\" href=\"../c3105b1e71f30473f32084755872dd91b1a52e940/expr.ipynb\"><img src=\"../c3105b1e71f30473f32084755872dd91b1a52e940/expr.png\" style=\"display:inline;vertical-align:middle;\" /></a></td></tr>\n",
       "<tr><td>19</td><td>Operation</td><td>operator:&nbsp;29<br>operands:&nbsp;23<br></td><td><a class=\"ProveItLink\" href=\"../5f5bdbd6086f3f6ccbdf4141406c34d0204af1ee0/expr.ipynb\"><img src=\"../5f5bdbd6086f3f6ccbdf4141406c34d0204af1ee0/expr.png\" style=\"display:inline;vertical-align:middle;\" /></a></td></tr>\n",
       "<tr><td>20</td><td>Operation</td><td>operator:&nbsp;24<br>operands:&nbsp;25<br></td><td><a class=\"ProveItLink\" href=\"../fbe1198188b00c6c8e18edcd57465fd535f90ab20/expr.ipynb\"><img src=\"../fbe1198188b00c6c8e18edcd57465fd535f90ab20/expr.png\" style=\"display:inline;vertical-align:middle;\" /></a></td></tr>\n",
       "<tr><td>21</td><td>Literal</td><td></td><td><a class=\"ProveItLink\" href=\"../../../../../logic/booleans/negation/__pv_it/common/1a811a997e5d75fdb50cdaf74f302daccad39af40/expr.ipynb\"><img src=\"../../../../../logic/booleans/negation/__pv_it/common/1a811a997e5d75fdb50cdaf74f302daccad39af40/expr.png\" style=\"display:inline;vertical-align:middle;\" /></a></td></tr>\n",
       "<tr><td>22</td><td>ExprTuple</td><td>26</td><td><a class=\"ProveItLink\" href=\"../0367da84195b7eaf526a6b444909b37ce3a513810/expr.ipynb\"><img src=\"../0367da84195b7eaf526a6b444909b37ce3a513810/expr.png\" style=\"display:inline;vertical-align:middle;\" /></a></td></tr>\n",
       "<tr><td>23</td><td>ExprTuple</td><td>27, 28</td><td><a class=\"ProveItLink\" href=\"../75470a51d6ad772b00edeaba0737d8598947e0570/expr.ipynb\"><img src=\"../75470a51d6ad772b00edeaba0737d8598947e0570/expr.png\" style=\"display:inline;vertical-align:middle;\" /></a></td></tr>\n",
       "<tr><td>24</td><td>Literal</td><td></td><td><a class=\"ProveItLink\" href=\"../../common/4992ec160f5fadacbaffecc5cde14b74057220530/expr.ipynb\"><img src=\"../../common/4992ec160f5fadacbaffecc5cde14b74057220530/expr.png\" style=\"display:inline;vertical-align:middle;\" /></a></td></tr>\n",
       "<tr><td>25</td><td>ExprTuple</td><td>42, 44</td><td><a class=\"ProveItLink\" href=\"../3dcd5ceea6334d8cb48fe14fdae236293aa9a6050/expr.ipynb\"><img src=\"../3dcd5ceea6334d8cb48fe14fdae236293aa9a6050/expr.png\" style=\"display:inline;vertical-align:middle;\" /></a></td></tr>\n",
       "<tr><td>26</td><td>Operation</td><td>operator:&nbsp;29<br>operands:&nbsp;30<br></td><td><a class=\"ProveItLink\" href=\"../5128f37998f14b652a219efdb052e36169e6c9ce0/expr.ipynb\"><img src=\"../5128f37998f14b652a219efdb052e36169e6c9ce0/expr.png\" style=\"display:inline;vertical-align:middle;\" /></a></td></tr>\n",
       "<tr><td>27</td><td>Operation</td><td>operator:&nbsp;31<br>operands:&nbsp;32<br></td><td><a class=\"ProveItLink\" href=\"../cdc93dd9724b0819070cc7c8860912ef207f74970/expr.ipynb\"><img src=\"../cdc93dd9724b0819070cc7c8860912ef207f74970/expr.png\" style=\"display:inline;vertical-align:middle;\" /></a></td></tr>\n",
       "<tr><td>28</td><td>Operation</td><td>operator:&nbsp;33<br>operands:&nbsp;34<br></td><td><a class=\"ProveItLink\" href=\"../c06c35dc8df7d5e29348993081605f5e27adefdf0/expr.ipynb\"><img src=\"../c06c35dc8df7d5e29348993081605f5e27adefdf0/expr.png\" style=\"display:inline;vertical-align:middle;\" /></a></td></tr>\n",
       "<tr><td>29</td><td>Literal</td><td></td><td><a class=\"ProveItLink\" href=\"../../../../../logic/booleans/conjunction/__pv_it/common/42118ff318bd65d98b1393f64ce7c2269feef76e0/expr.ipynb\"><img src=\"../../../../../logic/booleans/conjunction/__pv_it/common/42118ff318bd65d98b1393f64ce7c2269feef76e0/expr.png\" style=\"display:inline;vertical-align:middle;\" /></a></td></tr>\n",
       "<tr><td>30</td><td>ExprTuple</td><td>35, 36</td><td><a class=\"ProveItLink\" href=\"../af025993588c0eefd2f4f7bc7281e42dfc8996e90/expr.ipynb\"><img src=\"../af025993588c0eefd2f4f7bc7281e42dfc8996e90/expr.png\" style=\"display:inline;vertical-align:middle;\" /></a></td></tr>\n",
       "<tr><td>31</td><td>Literal</td><td></td><td><a class=\"ProveItLink\" href=\"../../../../../logic/sets/membership/__pv_it/common/477487d8796864d23d5810f83761435f25167f690/expr.ipynb\"><img src=\"../../../../../logic/sets/membership/__pv_it/common/477487d8796864d23d5810f83761435f25167f690/expr.png\" style=\"display:inline;vertical-align:middle;\" /></a></td></tr>\n",
       "<tr><td>32</td><td>ExprTuple</td><td>43, 37</td><td><a class=\"ProveItLink\" href=\"../43ce819a9a18f8944556be3dee64153cacc723ac0/expr.ipynb\"><img src=\"../43ce819a9a18f8944556be3dee64153cacc723ac0/expr.png\" style=\"display:inline;vertical-align:middle;\" /></a></td></tr>\n",
       "<tr><td>33</td><td>Literal</td><td></td><td><a class=\"ProveItLink\" href=\"../../../../ordering/__pv_it/common/fa503ed52033522c609eef1cf3e1b45796489da50/expr.ipynb\"><img src=\"../../../../ordering/__pv_it/common/fa503ed52033522c609eef1cf3e1b45796489da50/expr.png\" style=\"display:inline;vertical-align:middle;\" /></a></td></tr>\n",
       "<tr><td>34</td><td>ExprTuple</td><td>38, 43</td><td><a class=\"ProveItLink\" href=\"../f3e0a405953a240ca67fc09c25dc965f76df845b0/expr.ipynb\"><img src=\"../f3e0a405953a240ca67fc09c25dc965f76df845b0/expr.png\" style=\"display:inline;vertical-align:middle;\" /></a></td></tr>\n",
       "<tr><td>35</td><td>Operation</td><td>operator:&nbsp;40<br>operands:&nbsp;39<br></td><td><a class=\"ProveItLink\" href=\"../7fefbc086ad68cd60d67bf07f7c8d85e4493f15b0/expr.ipynb\"><img src=\"../7fefbc086ad68cd60d67bf07f7c8d85e4493f15b0/expr.png\" style=\"display:inline;vertical-align:middle;\" /></a></td></tr>\n",
       "<tr><td>36</td><td>Operation</td><td>operator:&nbsp;40<br>operands:&nbsp;41<br></td><td><a class=\"ProveItLink\" href=\"../4c4f66a01d0a55c346d5812eaffbb94f5d42b2a60/expr.ipynb\"><img src=\"../4c4f66a01d0a55c346d5812eaffbb94f5d42b2a60/expr.png\" style=\"display:inline;vertical-align:middle;\" /></a></td></tr>\n",
       "<tr><td>37</td><td>Literal</td><td></td><td><a class=\"ProveItLink\" href=\"../../../../number_sets/natural_numbers/__pv_it/common/6111329435c43892c831c4793de96afbf80bdb3e0/expr.ipynb\"><img src=\"../../../../number_sets/natural_numbers/__pv_it/common/6111329435c43892c831c4793de96afbf80bdb3e0/expr.png\" style=\"display:inline;vertical-align:middle;\" /></a></td></tr>\n",
       "<tr><td>38</td><td>Literal</td><td></td><td><a class=\"ProveItLink\" href=\"../../../../numerals/__pv_it/common/682157d4892d216d9e5626ed533aff9b56b9506e0/expr.ipynb\"><img src=\"../../../../numerals/__pv_it/common/682157d4892d216d9e5626ed533aff9b56b9506e0/expr.png\" style=\"display:inline;vertical-align:middle;\" /></a></td></tr>\n",
       "<tr><td>39</td><td>ExprTuple</td><td>43, 42</td><td><a class=\"ProveItLink\" href=\"../63d4784e15dc4659ffa100076f49a913ec5fc5a60/expr.ipynb\"><img src=\"../63d4784e15dc4659ffa100076f49a913ec5fc5a60/expr.png\" style=\"display:inline;vertical-align:middle;\" /></a></td></tr>\n",
       "<tr><td>40</td><td>Literal</td><td></td><td><a class=\"ProveItLink\" href=\"../../common/a65366842efe06ee8900f970dcf24400f165cec40/expr.ipynb\"><img src=\"../../common/a65366842efe06ee8900f970dcf24400f165cec40/expr.png\" style=\"display:inline;vertical-align:middle;\" /></a></td></tr>\n",
       "<tr><td>41</td><td>ExprTuple</td><td>43, 44</td><td><a class=\"ProveItLink\" href=\"../5f3cd69ec0e41edc5777bd0e94eb35d3de15a3ed0/expr.ipynb\"><img src=\"../5f3cd69ec0e41edc5777bd0e94eb35d3de15a3ed0/expr.png\" style=\"display:inline;vertical-align:middle;\" /></a></td></tr>\n",
       "<tr><td>42</td><td>Variable</td><td></td><td><a class=\"ProveItLink\" href=\"../../../../../__pv_it/common/c06c606ec12678c58933ac85412ecadc2ae28be60/expr.ipynb\"><img src=\"../../../../../__pv_it/common/c06c606ec12678c58933ac85412ecadc2ae28be60/expr.png\" style=\"display:inline;vertical-align:middle;\" /></a></td></tr>\n",
       "<tr><td>43</td><td>Variable</td><td></td><td><a class=\"ProveItLink\" href=\"../../../../../__pv_it/common/bbfd8ec921873eb340439a30c11dc66622cd75e90/expr.ipynb\"><img src=\"../../../../../__pv_it/common/bbfd8ec921873eb340439a30c11dc66622cd75e90/expr.png\" style=\"display:inline;vertical-align:middle;\" /></a></td></tr>\n",
       "<tr><td>44</td><td>Variable</td><td></td><td><a class=\"ProveItLink\" href=\"../../../../../__pv_it/common/195236b98c6c564a75b5dbada74b173bc52d5c3e0/expr.ipynb\"><img src=\"../../../../../__pv_it/common/195236b98c6c564a75b5dbada74b173bc52d5c3e0/expr.png\" style=\"display:inline;vertical-align:middle;\" /></a></td></tr>\n",
       "</table>\n"
      ],
      "text/plain": [
       "0. ((a, b) -> {forall_{p in NaturalPos | p > 1} [not]((p | a) and (p | b)) if a in NaturalPos ,  b in NaturalPos ,  gcd(a, b) = 1.)\n",
       "   core type: ExprTuple\n",
       "   sub-expressions: 1\n",
       "1. (a, b) -> {forall_{p in NaturalPos | p > 1} [not]((p | a) and (p | b)) if a in NaturalPos ,  b in NaturalPos ,  gcd(a, b) = 1.\n",
       "   core type: Lambda\n",
       "   parameters: 25\\n   body: 2\n",
       "2. {forall_{p in NaturalPos | p > 1} [not]((p | a) and (p | b)) if a in NaturalPos ,  b in NaturalPos ,  gcd(a, b) = 1.\n",
       "   core type: Conditional\n",
       "   value: 3\n",
       "   condition: 4\n",
       "3. forall_{p in NaturalPos | p > 1} [not]((p | a) and (p | b))\n",
       "   core type: Operation\n",
       "   operator: 5\n",
       "   operand: 8\n",
       "4. (a in NaturalPos) and (b in NaturalPos) and (gcd(a, b) = 1)\n",
       "   core type: Operation\n",
       "   operator: 29\n",
       "   operands: 7\n",
       "5. forall\n",
       "   core type: Literal\n",
       "   sub-expressions: \n",
       "6. (p -> {[not]((p | a) and (p | b)) if p in NaturalPos ,  p > 1.)\n",
       "   core type: ExprTuple\n",
       "   sub-expressions: 8\n",
       "7. (a in NaturalPos, b in NaturalPos, gcd(a, b) = 1)\n",
       "   core type: ExprTuple\n",
       "   sub-expressions: 9, 10, 11\n",
       "8. p -> {[not]((p | a) and (p | b)) if p in NaturalPos ,  p > 1.\n",
       "   core type: Lambda\n",
       "   parameter: 43\n",
       "   body: 13\n",
       "9. a in NaturalPos\n",
       "   core type: Operation\n",
       "   operator: 31\n",
       "   operands: 14\n",
       "10. b in NaturalPos\n",
       "    core type: Operation\n",
       "    operator: 31\n",
       "    operands: 15\n",
       "11. gcd(a, b) = 1\n",
       "    core type: Operation\n",
       "    operator: 16\n",
       "    operands: 17\n",
       "12. (p)\n",
       "    core type: ExprTuple\n",
       "    sub-expressions: 43\n",
       "13. {[not]((p | a) and (p | b)) if p in NaturalPos ,  p > 1.\n",
       "    core type: Conditional\n",
       "    value: 18\n",
       "    condition: 19\n",
       "14. (a, NaturalPos)\n",
       "    core type: ExprTuple\n",
       "    sub-expressions: 42, 37\n",
       "15. (b, NaturalPos)\n",
       "    core type: ExprTuple\n",
       "    sub-expressions: 44, 37\n",
       "16. =\n",
       "    core type: Literal\n",
       "    sub-expressions: \n",
       "17. (gcd(a, b), 1)\n",
       "    core type: ExprTuple\n",
       "    sub-expressions: 20, 38\n",
       "18. [not]((p | a) and (p | b))\n",
       "    core type: Operation\n",
       "    operator: 21\n",
       "    operand: 26\n",
       "19. (p in NaturalPos) and (p > 1)\n",
       "    core type: Operation\n",
       "    operator: 29\n",
       "    operands: 23\n",
       "20. gcd(a, b)\n",
       "    core type: Operation\n",
       "    operator: 24\n",
       "    operands: 25\n",
       "21. not\n",
       "    core type: Literal\n",
       "    sub-expressions: \n",
       "22. ((p | a) and (p | b))\n",
       "    core type: ExprTuple\n",
       "    sub-expressions: 26\n",
       "23. (p in NaturalPos, p > 1)\n",
       "    core type: ExprTuple\n",
       "    sub-expressions: 27, 28\n",
       "24. gcd\n",
       "    core type: Literal\n",
       "    sub-expressions: \n",
       "25. (a, b)\n",
       "    core type: ExprTuple\n",
       "    sub-expressions: 42, 44\n",
       "26. (p | a) and (p | b)\n",
       "    core type: Operation\n",
       "    operator: 29\n",
       "    operands: 30\n",
       "27. p in NaturalPos\n",
       "    core type: Operation\n",
       "    operator: 31\n",
       "    operands: 32\n",
       "28. p > 1\n",
       "    core type: Operation\n",
       "    operator: 33\n",
       "    operands: 34\n",
       "29. and\n",
       "    core type: Literal\n",
       "    sub-expressions: \n",
       "30. (p | a, p | b)\n",
       "    core type: ExprTuple\n",
       "    sub-expressions: 35, 36\n",
       "31. in\n",
       "    core type: Literal\n",
       "    sub-expressions: \n",
       "32. (p, NaturalPos)\n",
       "    core type: ExprTuple\n",
       "    sub-expressions: 43, 37\n",
       "33. <\n",
       "    core type: Literal\n",
       "    sub-expressions: \n",
       "34. (1, p)\n",
       "    core type: ExprTuple\n",
       "    sub-expressions: 38, 43\n",
       "35. p | a\n",
       "    core type: Operation\n",
       "    operator: 40\n",
       "    operands: 39\n",
       "36. p | b\n",
       "    core type: Operation\n",
       "    operator: 40\n",
       "    operands: 41\n",
       "37. NaturalPos\n",
       "    core type: Literal\n",
       "    sub-expressions: \n",
       "38. 1\n",
       "    core type: Literal\n",
       "    sub-expressions: \n",
       "39. (p, a)\n",
       "    core type: ExprTuple\n",
       "    sub-expressions: 43, 42\n",
       "40. |\n",
       "    core type: Literal\n",
       "    sub-expressions: \n",
       "41. (p, b)\n",
       "    core type: ExprTuple\n",
       "    sub-expressions: 43, 44\n",
       "42. a\n",
       "    core type: Variable\n",
       "    sub-expressions: \n",
       "43. p\n",
       "    core type: Variable\n",
       "    sub-expressions: \n",
       "44. b\n",
       "    core type: Variable\n",
       "    sub-expressions: "
      ]
     },
     "metadata": {},
     "output_type": "display_data"
    }
   ],
   "source": [
    "# display the expression information\n",
    "stored_expr.expr_info()"
   ]
  },
  {
   "cell_type": "code",
   "execution_count": null,
   "metadata": {},
   "outputs": [],
   "source": []
  }
 ],
 "metadata": {
  "kernelspec": {
   "display_name": "Python 3",
   "language": "python",
   "name": "python3"
  }
 },
 "nbformat": 4,
 "nbformat_minor": 0
}