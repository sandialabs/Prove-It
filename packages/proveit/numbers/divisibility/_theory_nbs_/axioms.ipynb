{
 "cells": [
  {
   "cell_type": "markdown",
   "metadata": {},
   "source": [
    "Axioms for the theory of <a class=\"ProveItLink\" href=\"theory.ipynb\">proveit.numbers.divisibility</a>\n",
    "========"
   ]
  },
  {
   "cell_type": "code",
   "execution_count": 1,
   "metadata": {},
   "outputs": [],
   "source": [
    "import proveit\n",
    "# Prepare this notebook for defining the axioms of a theory:\n",
    "%axioms_notebook # Keep this at the top following 'import proveit'.\n",
    "from proveit import x, y\n",
    "from proveit.logic import Equals, Exists, Forall, InSet\n",
    "from proveit.numbers import Integer\n",
    "from proveit.numbers import Divides, frac"
   ]
  },
  {
   "cell_type": "code",
   "execution_count": 2,
   "metadata": {},
   "outputs": [
    {
     "name": "stdout",
     "output_type": "stream",
     "text": [
      "Defining axioms for theory 'proveit.numbers.divisibility'\n",
      "Subsequent end-of-cell assignments will define axioms\n",
      "%end_axioms will finalize the definitions\n"
     ]
    }
   ],
   "source": [
    "%begin axioms"
   ]
  },
  {
   "cell_type": "code",
   "execution_count": 3,
   "metadata": {},
   "outputs": [
    {
     "data": {
      "text/html": [
       "<strong id=\"divides_def\">divides_def:</strong> <a class=\"ProveItLink\" href=\"../__pv_it/axioms/163f638d06eb5acdb00c9a3889d4a6537f254fec0/axiom_expr.ipynb\"><img src=\"data:image/png;base64,iVBORw0KGgoAAAANSUhEUgAAANwAAAAmBAMAAABdfejNAAAAMFBMVEX///8AAAAAAAAAAAAAAAAA\n",
       "AAAAAAAAAAAAAAAAAAAAAAAAAAAAAAAAAAAAAAAAAAAv3aB7AAAAD3RSTlMAq1RmmUTNIjK7EInv\n",
       "3XZ/CtNrAAAACXBIWXMAAA7EAAAOxAGVKw4bAAAES0lEQVRYw41XX2gcRRj/bu/2bm/3cgkIbVNr\n",
       "ODAIRYpBpKUgadraKpho6EMffDAHeRBbketLMFLpVXxqI422RWybsIU+GDV/LKQgQjjbpn+xxkLV\n",
       "UA4uGlvrQwitpSEVdeabnZ3NzszefnC/nduZnd/M933z228BImwbxLVUIaLT3iMwao6m2HRbyXTz\n",
       "bXBa3fuxK1BvG2OzJYsAjlGBLZruJoFas67FphsgC/8wNQPNmv5PA6iz9ERsur3k5+ZqcEPT/7Ur\n",
       "UGfPuXHZjGWKPa61FJkF0blwO/bmGtAPOyFf0QzIPBKoC91ybLoj6IdPIKtd/skAqi0xiJeS9zd8\n",
       "DVqzdxh62nSTvRhAtTXis3l+fie965uKoQ8QT0+9Hl7LMz9eGpq9QBoHcBqCuP+nVR7CZ5+FEF1e\n",
       "3oHFY3Iu3HNvDaShSKPbAQx30OtbCjo8snYxTAeyFiUXKTpF+3y45yWA3x26sRTOQ/AgTZlBBd0q\n",
       "HNAm0b0gRxnnaqglpIO6GuzBEfTJoodpklWOSmC/p5ADiS4nHcccBsRo3+HfyQ9Vf6ZXF1LlNdi5\n",
       "5GGSrD+tSpXHGGuZLi0FrzG8K/Ndf0kHLYyadZ/jD9XqddCl26vkNzb3xXcFQudJvtOkzuGA9QkH\n",
       "nMhi237A8RVyTyUEuJ5e8uvItxD1neSSn8RIdVWp/QTgZ3nAROYZE+2s8S/HfZBRiQHb/k0yfSm5\n",
       "nGgjdJ7kG5JSHQnTFYXM8/ZjjlnX6VbQmQ8pThNelsWTXPKtxfDQHvp843/UsM8i8anOYtdvZG6b\n",
       "Nv4GD42aMlPY7qYx82osVZjkm3V3Zw+KVj85J6UgHRSpexdenid3zTlIhJ1JaEq2S+mY5Bsz4dhJ\n",
       "zpzxT2R5NcD4itjBWaIT+VJzmjw01ugO8FTBXBoGGOleBw7ujkl+UtKEA+HMXOCNj0xyDJ4Sskpx\n",
       "P50Dhi3SfH8D3ON+wPV8Q96yhzphF9IxyU9J2jFeC9cBfLsniIj0r/fzHDFRpk0ms09CC3/mIlZP\n",
       "AGcWjO0FpGOS3yAlVq4jXOk1v8HS7eo7n5/6h77lLEw8htiqZOjlFlzhd95GISyvUBUq+R/IRY3k\n",
       "XvNbJmKh8sLgb+z9TjEFXwH8avpp3oli3yHoPMnfLlcilbrve2dGIH3ij6m/YKAArZv9I7oF1ecz\n",
       "QcckX/H2SNYvM1hZESouCnYp62fZOMZ7RNAxyc/K1YN9vy4dk9WV4mq6idpusSD0Y4Zn3Z/e9a5i\n",
       "smN16XpKAn2ngNkusjxZPyIrCh97Ye3hs7oR59TFRdBFD2PTjdOzkYK5WpduxPkARq4ojjk0vzaR\n",
       "5HpCM4DVu/lIf+XKsfnoYS0TTdVOVRAY9RUV09in2Q1t/50Aaq03Nh3WL+Yj+FLziXBZoN5GS3Hp\n",
       "7F/APp6ogOYTbbQgUG+ZPbG31+caS2cqpmbCowGMsPdi02XK9mu11uc1e+/28X/YOCadZYDVZwAA\n",
       "AABJRU5ErkJggg==\n",
       "\" style=\"display:inline;vertical-align:middle;\" /></a><br>"
      ],
      "text/plain": [
       "<IPython.core.display.HTML object>"
      ]
     },
     "metadata": {},
     "output_type": "display_data"
    }
   ],
   "source": [
    "divides_def = Forall(\n",
    "        (x, y),\n",
    "        Equals(Divides(x, y), InSet(frac(y, x), Integer)))"
   ]
  },
  {
   "cell_type": "code",
   "execution_count": 4,
   "metadata": {},
   "outputs": [
    {
     "name": "stdout",
     "output_type": "stream",
     "text": [
      "These axioms may now be imported from the theory package: proveit.numbers.divisibility\n"
     ]
    }
   ],
   "source": [
    "%end axioms"
   ]
  }
 ],
 "metadata": {
  "kernelspec": {
   "display_name": "Python 3",
   "language": "python",
   "name": "python3"
  }
 },
 "nbformat": 4,
 "nbformat_minor": 0
}