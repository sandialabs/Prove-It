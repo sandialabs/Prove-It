{
 "cells": [
  {
   "cell_type": "markdown",
   "metadata": {},
   "source": [
    "Theorems (or conjectures) for the theory of <a class=\"ProveItLink\" href=\"theory.ipynb\">proveit.numbers.divisibility</a>\n",
    "========"
   ]
  },
  {
   "cell_type": "code",
   "execution_count": null,
   "metadata": {},
   "outputs": [],
   "source": [
    "import proveit\n",
    "# Prepare this notebook for defining the theorems of a theory:\n",
    "%theorems_notebook # Keep this at the top following 'import proveit'.\n",
    "from proveit import a, b, c, k, m, n, p, x, y, z\n",
    "from proveit.logic import And, Boolean, Equals, InSet, Forall, NotEquals, Not, Or\n",
    "from proveit.numbers import zero, one, two, Complex, Integer, NaturalPos\n",
    "from proveit.numbers import Add, Divides, Exp, GCD, greater, Mult, Neg, subtract"
   ]
  },
  {
   "cell_type": "code",
   "execution_count": null,
   "metadata": {},
   "outputs": [],
   "source": [
    "%begin theorems"
   ]
  },
  {
   "cell_type": "code",
   "execution_count": null,
   "metadata": {},
   "outputs": [],
   "source": [
    "def non_zero_conditions(non_zero_vars):\n",
    "    temp_list = [NotEquals(_i, zero) for _i in non_zero_vars]\n",
    "    return temp_list"
   ]
  },
  {
   "cell_type": "markdown",
   "metadata": {},
   "source": [
    "#### Fundamental InBool theorem: a Divides(m,n) claim is Boolean."
   ]
  },
  {
   "cell_type": "code",
   "execution_count": null,
   "metadata": {},
   "outputs": [],
   "source": [
    "# Proven\n",
    "divides_is_bool = Forall(\n",
    "        (x, y),\n",
    "        InSet(Divides(x, y), Boolean))"
   ]
  },
  {
   "cell_type": "markdown",
   "metadata": {},
   "source": [
    "#### Divides is Transitive"
   ]
  },
  {
   "cell_type": "code",
   "execution_count": null,
   "metadata": {},
   "outputs": [],
   "source": [
    "divides_transitivity = Forall(\n",
    "        (x, y, z),\n",
    "        Divides(x, z),\n",
    "        conditions=[Divides(x, y), Divides(y, z)])"
   ]
  },
  {
   "cell_type": "markdown",
   "metadata": {},
   "source": [
    "#### Divides is Reflexive"
   ]
  },
  {
   "cell_type": "code",
   "execution_count": null,
   "metadata": {},
   "outputs": [],
   "source": [
    "divides_reflexivity = Forall(\n",
    "        x,\n",
    "        Divides(x, x),\n",
    "        domain=Complex,\n",
    "        conditions=non_zero_conditions([x]))"
   ]
  },
  {
   "cell_type": "markdown",
   "metadata": {},
   "source": [
    "#### Divides is Disjunctive Anti-Symmetric"
   ]
  },
  {
   "cell_type": "code",
   "execution_count": null,
   "metadata": {},
   "outputs": [],
   "source": [
    "divides_anti_symmetry = Forall(\n",
    "        (x, y),\n",
    "        Or(Equals(x, y), Equals(x, Neg(y))),\n",
    "        conditions=[Divides(x, y), Divides(y, x)])"
   ]
  },
  {
   "cell_type": "markdown",
   "metadata": {},
   "source": [
    "#### If $a|b$ and $a|c$, then $a|(b±c)$"
   ]
  },
  {
   "cell_type": "code",
   "execution_count": null,
   "metadata": {},
   "outputs": [],
   "source": [
    "divides_sum = Forall(\n",
    "        (x, y, z),\n",
    "        Divides(x, Add(y, z)),\n",
    "        conditions=[Divides(x, y), Divides(x, z)])"
   ]
  },
  {
   "cell_type": "code",
   "execution_count": null,
   "metadata": {},
   "outputs": [],
   "source": [
    "divides_difference = Forall(\n",
    "        (x, y, z),\n",
    "        Divides(x, subtract(y, z)),\n",
    "        conditions=[Divides(x, y), Divides(x, z)])"
   ]
  },
  {
   "cell_type": "code",
   "execution_count": null,
   "metadata": {},
   "outputs": [],
   "source": [
    "# We need to constrain to the set of integer numbers in the case of Euclid's Lemma\n",
    "euclids_lemma = Forall(\n",
    "        (x, y, z),\n",
    "        Divides(x, z),\n",
    "        domain=Integer,\n",
    "        conditions=[Divides(x, Mult(y, z)), Equals(GCD(x, y), one)])"
   ]
  },
  {
   "cell_type": "code",
   "execution_count": null,
   "metadata": {},
   "outputs": [],
   "source": [
    "non_zero_divides_zero = Forall(\n",
    "        x,\n",
    "        Divides(x, zero),\n",
    "        domain=Complex,\n",
    "        conditions=non_zero_conditions([x]))"
   ]
  },
  {
   "cell_type": "code",
   "execution_count": null,
   "metadata": {},
   "outputs": [],
   "source": [
    "# Here the restriction of y to the set of Integer numbers is related to the axiomatic def of Divides\n",
    "# x|y = (y/x in Integer). Thus x|xy = (xy/x = y in Integer)\n",
    "left_factor_divisibility = Forall(\n",
    "    (x, y),\n",
    "    Divides(x, Mult(x, y)),\n",
    "    domains=(Complex, Integer),\n",
    "    condition=NotEquals(x, zero))"
   ]
  },
  {
   "cell_type": "code",
   "execution_count": null,
   "metadata": {},
   "outputs": [],
   "source": [
    "right_factor_divisibility = Forall(\n",
    "    (x, y),\n",
    "    Divides(y, Mult(x, y)),\n",
    "    domains=(Complex, Integer),\n",
    "    condition=NotEquals(x, zero))"
   ]
  },
  {
   "cell_type": "code",
   "execution_count": null,
   "metadata": {},
   "outputs": [],
   "source": [
    "# later generalize those binary versions to a1,..,ai, b, c1,…,cj ?"
   ]
  },
  {
   "cell_type": "code",
   "execution_count": null,
   "metadata": {},
   "outputs": [],
   "source": [
    "# This can be generalized to any prime number. \n",
    "even__if__power_is_even = Forall(\n",
    "    (a, n), Divides(two, a), domain=Integer,\n",
    "    conditions = [Divides(two, Exp(a, n))])"
   ]
  },
  {
   "cell_type": "code",
   "execution_count": null,
   "metadata": {},
   "outputs": [],
   "source": [
    "# might not need explicit restrictions here on k and a\n",
    "common_exponent_elimination = (\n",
    "    Forall(\n",
    "    (k, a, n),\n",
    "    Divides(k, a),\n",
    "    domains = [Integer, Integer, NaturalPos],\n",
    "    conditions = [Divides(Exp(k, n), Exp(a, n))]))"
   ]
  },
  {
   "cell_type": "code",
   "execution_count": null,
   "metadata": {},
   "outputs": [],
   "source": [
    "common_exponent_introduction = (\n",
    "    Forall(\n",
    "    (k, a, n),\n",
    "    Divides(Exp(k, n), Exp(a, n)),\n",
    "    domains = [Integer, Integer, NaturalPos],\n",
    "    conditions = [Divides(k, a)]))"
   ]
  },
  {
   "cell_type": "code",
   "execution_count": null,
   "metadata": {},
   "outputs": [],
   "source": [
    "common_factor_elimination = (\n",
    "       Forall((a, b, k),\n",
    "              Divides(a,b),\n",
    "              domain=Complex,\n",
    "              conditions=[Divides(Mult(k,a), Mult(k,b)), NotEquals(k, zero)]))"
   ]
  },
  {
   "cell_type": "markdown",
   "metadata": {},
   "source": [
    "### GCD Theorems"
   ]
  },
  {
   "cell_type": "code",
   "execution_count": null,
   "metadata": {},
   "outputs": [],
   "source": [
    "# Defining/interpreting GCD(a,b)=1.\n",
    "# Somewhat opaque because we are not explicitly restricting p <= a, p <= b\n",
    "# BUT if p > a then p|a will be FALSE (b/c a/p will not be an integer)\n",
    "GCD_one_def = Forall(\n",
    "    (a, b),\n",
    "    Forall(p,\n",
    "           Not(And(Divides(p, a), Divides(p, b))),\n",
    "           domain=NaturalPos,\n",
    "           condition=greater(p, one)),\n",
    "    domain=NaturalPos,\n",
    "    condition = Equals(GCD(a, b), one))"
   ]
  },
  {
   "cell_type": "code",
   "execution_count": null,
   "metadata": {},
   "outputs": [],
   "source": [
    "%end theorems"
   ]
  }
 ],
 "metadata": {
  "kernelspec": {
   "display_name": "Python 3",
   "language": "python",
   "name": "python3"
  }
 },
 "nbformat": 4,
 "nbformat_minor": 0
}
