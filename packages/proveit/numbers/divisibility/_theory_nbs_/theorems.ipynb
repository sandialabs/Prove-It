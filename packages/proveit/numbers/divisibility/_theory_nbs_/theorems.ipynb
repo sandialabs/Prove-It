{
 "cells": [
  {
   "cell_type": "markdown",
   "metadata": {},
   "source": [
    "Theorems (or conjectures) for the theory of <a class=\"ProveItLink\" href=\"theory.ipynb\">proveit.numbers.divisibility</a>\n",
    "========"
   ]
  },
  {
   "cell_type": "code",
   "execution_count": 1,
   "metadata": {},
   "outputs": [],
   "source": [
    "import proveit\n",
    "# Prepare this notebook for defining the theorems of a theory:\n",
    "%theorems_notebook # Keep this at the top following 'import proveit'.\n",
    "from proveit import a, b, c, k, m, n, p, x, y, z\n",
    "from proveit.logic import And, Boolean, Equals, InSet, Forall, NotEquals, Not, Or\n",
    "from proveit.numbers import zero, one, two, Complex, Integer, NaturalPos\n",
    "from proveit.numbers import Add, Divides, Exp, GCD, greater, Mult, Neg, subtract"
   ]
  },
  {
   "cell_type": "code",
   "execution_count": 2,
   "metadata": {},
   "outputs": [
    {
     "name": "stdout",
     "output_type": "stream",
     "text": [
      "Defining theorems for theory 'proveit.numbers.divisibility'\n",
      "Subsequent end-of-cell assignments will define theorems\n",
      "'%end theorems' will finalize the definitions\n"
     ]
    }
   ],
   "source": [
    "%begin theorems"
   ]
  },
  {
   "cell_type": "code",
   "execution_count": 3,
   "metadata": {},
   "outputs": [],
   "source": [
    "def non_zero_conditions(non_zero_vars):\n",
    "    temp_list = [NotEquals(_i, zero) for _i in non_zero_vars]\n",
    "    return temp_list"
   ]
  },
  {
   "cell_type": "markdown",
   "metadata": {},
   "source": [
    "#### Fundamental InBool theorem: a Divides(m,n) claim is Boolean."
   ]
  },
  {
   "cell_type": "code",
   "execution_count": 4,
   "metadata": {},
   "outputs": [
    {
     "data": {
      "text/html": [
       "<strong id=\"divides_is_bool\"><a class=\"ProveItLink\" href=\"proofs/divides_is_bool/thm_proof.ipynb\">divides_is_bool</a> (conjecture with conjecture-based proof):<br></strong> <a class=\"ProveItLink\" href=\"../__pv_it/theorems/6edd682b997fe21c191af0a902ed1e46b3a981b30/theorem_expr.ipynb\"><img src=\"data:image/png;base64,iVBORw0KGgoAAAANSUhEUgAAAJAAAAAWBAMAAADdgQhOAAAAMFBMVEX///8AAAAAAAAAAAAAAAAA\n",
       "AAAAAAAAAAAAAAAAAAAAAAAAAAAAAAAAAAAAAAAAAAAv3aB7AAAAD3RSTlMAq1RmmUTNIjK7EInv\n",
       "3XZ/CtNrAAAACXBIWXMAAA7EAAAOxAGVKw4bAAACc0lEQVQ4y52US2gTURSG/8lkkkzSxm5EglIG\n",
       "FDdaDC6EIsSKVEUFg0IXvjrQhVCKTjcFpYvqUiqOK0GwTsGFRQip+ECEEATBKkorVHQRmNIqWjC4\n",
       "UwTBO+fcJDOTiQsv/PP47+G7c8+cc4GOw5JC657sEJrEP0bWYNF4zDfNDQV9X7g4tlQkv8d73xoB\n",
       "2iHlB2E1HGWfS45uJH/Qez3fzkmbrCAo4YRBJ/FUJ/+Kt0W7HRTPs4IgdaAdtFsh31sjY7SDuqSC\n",
       "ILyWCbxT+9AEJchXxaqJiBRtlwqBRjjpF5zWF23ay/7bWu1NBOioVGnl/nNDgNJrecwC8zQ54bSS\n",
       "XVoqg/zDwO0I0IjUQLY3vihAmVgV+4A9CP4c++zYnyMgfxzJngjQe5Zqqb+VvABdFbgcsJMmTX+y\n",
       "V4cc8nUnU4wAvWSlEDcpR06Xi3fADW8uJdJR+9QA6VqZ/JgblesGSPw6l5M97KR+AWeoxmz/F+mw\n",
       "2TcL4lI/tCb6SVuBEtyaAFhpxwMdRLYK9NHkYhBksv9wVNSFlUuIYiptcKZlxAxrrrgFGfqim9BF\n",
       "Lvtpsh4AxVz2J8W8ipmUeLzch28yYp6169oxnCDQfgznuSJE4TUr2D6NyiNZKcqU5/wkfzN6ZcR1\n",
       "1r167IBBoNnKcbH5ZW7E3CmO+rJw1+v+hu/9iCqdKct4JY3uKZavsp+IrpTZ0Z7JFmkcSI2sTWbM\n",
       "OB4AH7UfvvZstagoSDP9wt/G7S3OD58r65g2sK2/WWu3pCSo21VEuVzqcAqGfCNt6c0l56QkKFYY\n",
       "9JNDI+hrjuIOtbbtsmh8laeH1eFYDvoqtEIZ/zn+ArWHp1BpUuAHAAAAAElFTkSuQmCC\n",
       "\" style=\"display:inline;vertical-align:middle;\" /></a><br>"
      ],
      "text/plain": [
       "<IPython.core.display.HTML object>"
      ]
     },
     "metadata": {},
     "output_type": "display_data"
    }
   ],
   "source": [
    "# Proven\n",
    "divides_is_bool = Forall(\n",
    "        (x, y),\n",
    "        InSet(Divides(x, y), Boolean))"
   ]
  },
  {
   "cell_type": "markdown",
   "metadata": {},
   "source": [
    "#### Divides is Transitive"
   ]
  },
  {
   "cell_type": "code",
   "execution_count": 5,
   "metadata": {},
   "outputs": [
    {
     "data": {
      "text/html": [
       "<strong id=\"divides_transitivity\"><a class=\"ProveItLink\" href=\"proofs/divides_transitivity/thm_proof.ipynb\">divides_transitivity</a> (conjecture without proof):<br></strong> <a class=\"ProveItLink\" href=\"../__pv_it/theorems/c0038f66e59b0762a81795dcc659d5622e49a1110/theorem_expr.ipynb\"><img src=\"data:image/png;base64,iVBORw0KGgoAAAANSUhEUgAAAKsAAAAXBAMAAACGzqIkAAAAMFBMVEX///8AAAAAAAAAAAAAAAAA\n",
       "AAAAAAAAAAAAAAAAAAAAAAAAAAAAAAAAAAAAAAAAAAAv3aB7AAAAD3RSTlMAq1RmmUTNIjK7EInv\n",
       "3XZ/CtNrAAAACXBIWXMAAA7EAAAOxAGVKw4bAAACjElEQVQ4y62VT2jTcBTHv2mT5k+7ruBJhRFw\n",
       "By9CEUEEmYOhG4JjUBR0MMsuAw8SD3qYc9TDDmInAdGDBwkqCg4kDhHmQYqHIYjSi9LLIJPJ0MHY\n",
       "beLJ935pkyZtUYyB7vv7JS+fvXx/7/d+QPJLjamF/3J9bWp2wtcp+hV4cCAJNeXGsPkicJIHM0mw\n",
       "TxHD4hJwk02xk2BHOrBHgIxDczMJttaBzTlIkxGZRNaWO7AZYn5cW/uQBCvTihnb+24vC+xiQy0i\n",
       "S3UwBjzo9UY4HI48aJ9xajLWvTOMNS6vvATS9AFXoBZ6YPVwGF3U9lkfLcxRnHD2MFZ18IZ8Ibt1\n",
       "J/Dkn7A5eruCUy1vl6gEtB1Cez1X7K+xwKcmVvVooHBxlIfoz/boBm1lZR0SBy3OnA2x+Y35UQJN\n",
       "FcSOFGJD+3J1IjQByi6eC2wJBmVap1vLtCny1t4MPX7R71Q5dGxyOMRuSvY0bMP7pVESvtiQF161\n",
       "PsmDcU+qwWVsyuS80vw1c5REGg81Gs4ewncRe73NhKLuVWCrj+p5ivaFB0EnKCD180lNMRl7a2Wr\n",
       "4dccpAo/3RUx+zHAonnt3vZb7KbkSnxXCGHvtLzV6jDGvcHDwls3tUpO9AU1oNVEt/yM9ywlzLZh\n",
       "q9RBbYrN8f8XYkMpUi35V6Njl91o3ZnLlmUsUYiyQ6JOL9gBVq29pvInbOUiDFcIza4dPI+wscSw\n",
       "QfORv739gaqJwWNlEvnxqhVmOz657RAoNXIf2jshNDt9PGimuhXDxhuiaVg6bUWza90+w10qHV8i\n",
       "7xl2DKtHTx3FkbxzLF2xAwrt9Au+RNOZb2q+4utmNNk0lCGXpSu2tMXF5kuith8cpR2n6R/P1t/0\n",
       "e6GoOgTeXgAAAABJRU5ErkJggg==\n",
       "\" style=\"display:inline;vertical-align:middle;\" /></a><br>"
      ],
      "text/plain": [
       "<IPython.core.display.HTML object>"
      ]
     },
     "metadata": {},
     "output_type": "display_data"
    }
   ],
   "source": [
    "divides_transitivity = Forall(\n",
    "        (x, y, z),\n",
    "        Divides(x, z),\n",
    "        conditions=[Divides(x, y), Divides(y, z)])"
   ]
  },
  {
   "cell_type": "markdown",
   "metadata": {},
   "source": [
    "#### Divides is Reflexive"
   ]
  },
  {
   "cell_type": "code",
   "execution_count": 6,
   "metadata": {},
   "outputs": [
    {
     "data": {
      "text/html": [
       "<strong id=\"divides_reflexivity\"><a class=\"ProveItLink\" href=\"proofs/divides_reflexivity/thm_proof.ipynb\">divides_reflexivity</a> (conjecture without proof):<br></strong> <a class=\"ProveItLink\" href=\"../__pv_it/theorems/d4b319791674a4f53b14e5177814bc54d35494730/theorem_expr.ipynb\"><img src=\"data:image/png;base64,iVBORw0KGgoAAAANSUhEUgAAAJQAAAAXCAMAAADaxpaQAAAAOVBMVEX///8AAAAAAAAAAAAAAAAA\n",
       "AAAAAAAAAAAAAAAAAAAAAAAAAAAAAAAAAAAAAAAAAAAAAAAAAAAAAAACXHtMAAAAEnRSTlMAq1Rm\n",
       "mUTNIjK7EInv3Xbt5cmRiLwgAAAACXBIWXMAAA7EAAAOxAGVKw4bAAACLklEQVRIx8VWiZKlIAwM\n",
       "92lm1///2AmHiMhTd6rcod6zpDXYpJsAwH9t5qZ/Bt5vyAcgqAFQmK6s9bl4mxMPcEcKMLGQDdZv\n",
       "p85ruCcF2gPYLVXGvZ0oKZ6QErIyy8/526QiPCEFkQiJyl+/7ij9jJROhOKSWgyvq1e/4BGZtyEr\n",
       "U0j1CGHJUNKmW+f/YfhLO396oEWLRoYgl0aqR0i6lFHDtsun6uIkQ4M7cLUkymdCwFPml5IIQYtc\n",
       "rB6Y2N4+ICRz3JJ0Ftcic45Q7xgFcRcekSqTEzQDNb4VyyeSLlL3Uzgg1F0zNZzYXBZVKc7nHIln\n",
       "pFgudjHFrmZKKt/iaPS4C6FiXXiiYojS0K8W1mwRYdW4K/WkWkQZMFM3azJW5FP50luJr/cdqR2h\n",
       "HC21RNVihQaYA81Js7aQDT9V+o5Ui5AutS/6CxIgDbcMtdLliXuyBEu5CFumjghpUoY3sdpc5FDK\n",
       "vWoDCi/8BakWsW9cUEl1iuxLHfhqvSQKim+kjsheOphtocUJQueJOw7WKntB6uCdLb9FvnWQz2ZZ\n",
       "vEQELgVvnjoilOHzmovZPXa3dTV6X3/cJCLJ9+evy/LNjQ6LfVLRzTL0IwRdauNeS03INg7TOtVF\n",
       "dHs7uZ/UYNOt9pbUaduWqAKiz2eGNi0fSEtp5/LtEYdNgYqnPJd2Z+5JXR5WfEhSqOmzeRzH2wOV\n",
       "uyflfnqqm5N6cMwwI28cbYY/PmlOSXEFv9rePjd/A2rQEXEfWRMGAAAAAElFTkSuQmCC\n",
       "\" style=\"display:inline;vertical-align:middle;\" /></a><br>"
      ],
      "text/plain": [
       "<IPython.core.display.HTML object>"
      ]
     },
     "metadata": {},
     "output_type": "display_data"
    }
   ],
   "source": [
    "divides_reflexivity = Forall(\n",
    "        x,\n",
    "        Divides(x, x),\n",
    "        domain=Complex,\n",
    "        conditions=non_zero_conditions([x]))"
   ]
  },
  {
   "cell_type": "markdown",
   "metadata": {},
   "source": [
    "#### Divides is Disjunctive Anti-Symmetric"
   ]
  },
  {
   "cell_type": "code",
   "execution_count": 7,
   "metadata": {},
   "outputs": [
    {
     "data": {
      "text/html": [
       "<strong id=\"divides_anti_symmetry\"><a class=\"ProveItLink\" href=\"proofs/divides_anti_symmetry/thm_proof.ipynb\">divides_anti_symmetry</a> (conjecture without proof):<br></strong> <a class=\"ProveItLink\" href=\"../__pv_it/theorems/f47b1dc73c976d6ec289d485abc5d9c2de5a6f860/theorem_expr.ipynb\"><img src=\"data:image/png;base64,iVBORw0KGgoAAAANSUhEUgAAAT8AAAAXBAMAAACPAFV3AAAAMFBMVEX///8AAAAAAAAAAAAAAAAA\n",
       "AAAAAAAAAAAAAAAAAAAAAAAAAAAAAAAAAAAAAAAAAAAv3aB7AAAAD3RSTlMAq1RmmUTNIjK7EInv\n",
       "3XZ/CtNrAAAACXBIWXMAAA7EAAAOxAGVKw4bAAADYUlEQVRIx81XT0gUURj/Zndm3TfrTkInK2Qh\n",
       "8SLRFkJ0UVO0wP5Ih4660EEQguniITS2jqVghxA6yAgSWSCrhy6BLEEQRLEIRRdhDEPqsHhTOvX+\n",
       "OjPvD9QI0Qe/93Z+7/vm/fa9730zA3AUa+EwmP8HjJb3YziSfeMw2JhMeCW9o8yPxdBGiNPp9GVq\n",
       "DCbzyhLRbXDs1gQKDBFiIp3A5xxGmySNFeAmH+LGrejdVH4ywgOSRvPpBA5yGK2HNFmiDVVxY5f1\n",
       "birfEyGH/1+hlE5gncNorWTxoIExRS9NbtpAjixWn0uZghUGs+Xo0qxjDJAfXQa3Lm2gwMetrQ/p\n",
       "BNo1Brd54vG6lFU7ZVjCW0OP4BRfRRjBWN1+8UbesBFtoMAVgGfK3P2RiqQm3d+0YTu8Rga3qBFR\n",
       "hUwd+nD60fW1quCRPITb5M5eh91IOlOeWyxQ4C60tCkCo1ODEnziqlhiuAB9wfFk/EMsoh0nAM3Q\n",
       "fBsUaTJu4hn97C9LPhOb2kABFBRG0wlsHWWowrAcH7SG8AlL2wNWxTpp/w4zYKtZi3n3Dl3QaixQ\n",
       "IBNqzshfCQRyS8nGg/wBgFPndXhCCMERoU6gJlAAKr24aV7ewQ8+ZxusmEBCIkHSDgnP+BaDsw8v\n",
       "pbQaBo/sUIM55uejrRz33UByjm1xLFAA1nG59vz2HJ5q9VgwGwmkJBIk7ZDwpMsZUrhPrTrID7wn\n",
       "gPDcWSbMO8eSaBFgZfQUFOQVXNQGCsA0IWAxj3/eOwM/IoGURIKkHRKe9MSxOpA5WK47cuW4BONl\n",
       "VoRI7fjCyDWAs4+uwk1Z4Jo2UIBUAWz7dPgkdMRzcJ9mHSdJhw49yelsULjXw87z8pxLGzdwIhT5\n",
       "8Rtg3RzAcjMzqDy35rSBAnyyOn2v+wzvYwIJiQ5J0qFDT2JfObT2GmMmSRWretckLwJn4jeYLlRs\n",
       "eIWnc/YigZREjORjiJHSI121QsV9q75JZPv1AmN8LDDxKmJ/3/gJsyXovFiJBFISCyQkH0OMFEXH\n",
       "Z9CsSWjVNG9JC4bVXtAECsSt5PqorNRBRrKxZFV05xk07xG9Q6ARv2IQuKIJ1Px7J7DCW2qhpiQf\n",
       "SwqE+xwG21W+YULDt02oBu6qN8iC01tTBVKSjyH4T8xPfLiB4epf2G+nkRDn1555EAAAAABJRU5E\n",
       "rkJggg==\n",
       "\" style=\"display:inline;vertical-align:middle;\" /></a><br>"
      ],
      "text/plain": [
       "<IPython.core.display.HTML object>"
      ]
     },
     "metadata": {},
     "output_type": "display_data"
    }
   ],
   "source": [
    "divides_anti_symmetry = Forall(\n",
    "        (x, y),\n",
    "        Or(Equals(x, y), Equals(x, Neg(y))),\n",
    "        conditions=[Divides(x, y), Divides(y, x)])"
   ]
  },
  {
   "cell_type": "markdown",
   "metadata": {},
   "source": [
    "#### If $a|b$ and $a|c$, then $a|(b±c)$"
   ]
  },
  {
   "cell_type": "code",
   "execution_count": 8,
   "metadata": {},
   "outputs": [
    {
     "data": {
      "text/html": [
       "<strong id=\"divides_sum\"><a class=\"ProveItLink\" href=\"proofs/divides_sum/thm_proof.ipynb\">divides_sum</a> (conjecture without proof):<br></strong> <a class=\"ProveItLink\" href=\"../__pv_it/theorems/74b4d7b224eac25ee0acfa72d8093938be3c8bef0/theorem_expr.ipynb\"><img src=\"data:image/png;base64,iVBORw0KGgoAAAANSUhEUgAAAOQAAAAXBAMAAADpf/4JAAAAMFBMVEX///8AAAAAAAAAAAAAAAAA\n",
       "AAAAAAAAAAAAAAAAAAAAAAAAAAAAAAAAAAAAAAAAAAAv3aB7AAAAD3RSTlMAq1RmmUTNIjK7EInv\n",
       "3XZ/CtNrAAAACXBIWXMAAA7EAAAOxAGVKw4bAAADLUlEQVRIx62WQWgTQRSG/012s5tNmgY8aaEs\n",
       "tAcPLQQRpSA1ELRFaSkUBa3UUA8FDxIPCtZa4qEHsdoVUcGDLCoVrJRYpFAPEjwUUZRcKj0YWTVS\n",
       "tFIKHio9+WY32d1pNmKNA5OZf+Ztvpn3Zt4uUH+R+VauZZf50+TWyudyG+njZFUZpCqZQJyJlnqI\n",
       "gRyHdGRViSXo5wtwgInhepBT4JBTtS1PUw0ZuMwcrNeDTPHIlHdOSnjVbqrBJKMiotWDzPPIPOd0\n",
       "06uixMJrBGkdobpCmeaQrqxGhtieTwFvi8U39SBFOi7q6o6rszaSyZkU1DiPvLYkJxBhg0+BbuBu\n",
       "rX9zu0luIrlp6SI+mT02kslcG4JrHFI9M0+oIPPAHuAs5HgNZNjt8gfMqxroIOzFfmObjSSpaD0Q\n",
       "dA4pG3hOisW5jf7XKF/hf0RG6eksDlZiSVLFO0SJJRaLHyhs9oam6egobOuTbCE1T89fI0EQFwlp\n",
       "A5NZPpYy60hslyeopjvpZ7WrRClQ+gTBCvbwERcZK411EWQwbmWqslLen+tzHQtpHY8dx0JM48em\n",
       "E9tPe0egQL12qrOUFGKZ7SGynWk0JphB90DSRS4L+hB01dxQ8o6COP6s4goT6i0hj5yNJIlwHDd4\n",
       "ZEBjewky73RQHaXFB3FPoe5IO75ZJhc9jk2EzSx0+X4hpjuKPOVk1jgCvx7mJc1GsosgxqWfPPLK\n",
       "/MqSfYFwmKpguX3dmmpCM2sU0xvLxgyLnpATTFfheiWWSgFqr9m6qxxLklCbSus8MhdYoMkGZrDo\n",
       "PJi33mSLeGV7fsSDnKA3nU720ayrpIRslB9d4hOeJSNpv+xziZ2jQlmMRtIipsleWqNGHhrXHaSc\n",
       "n6OrT8jsSai5ijq/85g3WXuQJOfwRPNL6yzji5UR8euL75jQ0NqRpkZ8sJBxd9k7sGoQJJC6DeVl\n",
       "RR3a57zwwhkOSfIjBcjv64Ht4wI/pqmZMC1C872Xj3CTHOVzS1WdQ5JsKfkmF2ttd7ghyRDMo6zx\n",
       "RTZLFJ/jfolhrPLWz3Kyqiwzmww3FITUmWONL7J/hV0RP+T/LDL/dVZLbbH8Bm121CYquaDfAAAA\n",
       "AElFTkSuQmCC\n",
       "\" style=\"display:inline;vertical-align:middle;\" /></a><br>"
      ],
      "text/plain": [
       "<IPython.core.display.HTML object>"
      ]
     },
     "metadata": {},
     "output_type": "display_data"
    }
   ],
   "source": [
    "divides_sum = Forall(\n",
    "        (x, y, z),\n",
    "        Divides(x, Add(y, z)),\n",
    "        conditions=[Divides(x, y), Divides(x, z)])"
   ]
  },
  {
   "cell_type": "code",
   "execution_count": 9,
   "metadata": {},
   "outputs": [
    {
     "data": {
      "text/html": [
       "<strong id=\"divides_difference\"><a class=\"ProveItLink\" href=\"proofs/divides_difference/thm_proof.ipynb\">divides_difference</a> (conjecture without proof):<br></strong> <a class=\"ProveItLink\" href=\"../__pv_it/theorems/4b159d86a580f49434331bed1eacb63d523bf8710/theorem_expr.ipynb\"><img src=\"data:image/png;base64,iVBORw0KGgoAAAANSUhEUgAAAOQAAAAXBAMAAADpf/4JAAAAMFBMVEX///8AAAAAAAAAAAAAAAAA\n",
       "AAAAAAAAAAAAAAAAAAAAAAAAAAAAAAAAAAAAAAAAAAAv3aB7AAAAD3RSTlMAq1RmmUTNIjK7EInv\n",
       "3XZ/CtNrAAAACXBIWXMAAA7EAAAOxAGVKw4bAAADJklEQVRIx62WQWjTUBjH/2mTJk27LuBJByOw\n",
       "HTxsUESUgcxC0Q1lYzAUdDLLPAwEpR4UnHPUww7idBFRwYMElQlORh0ymAcpHoYoSi+TXSZRK0Mn\n",
       "Y+BhspPfS9ukr03EWR+8vPyT7+X33ve9970A9ReZb2U/u/SfXm6tfC61kT5O1pRBqpIFaEy01EMM\n",
       "ZDmkI2tKLE6XL8ABJobrQU6BQ075W56mGjJxhTnYqAeZ5JFJf8vdVIMJRkVErweZ45E5f8sosfAG\n",
       "QXJwqK5QpjikK2tLiAXzFPBuefltPUiRlou6tuPabBHJ5EwSqsZbXV+S44iwh8+AbuCe39fc2wT3\n",
       "IlE1dBGfrJ4ikslsG4LrXAf17DyhgswDe4BzkDUfZNi95RdYpWqghbAX+81tRSRJRe+BwHeQTbwg\n",
       "p7M4t9F3zdIW/kdklHpncLAcS5Iq3iNKW149s8xKxjabpqWjsKlPEtryXT1/jQRBXCSkTUxmqpKi\n",
       "xVIPm+UJqqlOuqx1FSgFSp8g2MEePuIiY4WxLoIManamKinlw/k+17GQNvDEcSzEFH5Ujb6f5o5A\n",
       "nu7aqc5SUoilt4fIdqbRnGAG3QMJF7kiGEMwVGtTyTkK4vjzsissqLeFHLJFJEmENdys2kk6m0uQ\n",
       "eaeD6igNPoj7Ct2OtOObbXKpwrHxsJWBIT/IxwxHkaeczKoh8OtRTtKLSLYRRE36ySOvzq8uFTcQ\n",
       "DlMVbLdv2K+a0MwaxaqMZWOaRU/ICparcKP8NSUPtddq3VWKJUmoTYUNHpkNLNDLBmaw6HTM2SfZ\n",
       "Il4XPT9SgZygk84g+2jGVVJcNktdl/iEZ8uIZw66zNZRviRGIykR02QvrVMjD40bDlLOzdHWJ2Tm\n",
       "JNRsWV3YeawyWVcgSc7hqe53AIjxcp75+vI7JnS0dqSoER8upN1Z9g6smQQJJO9AeVVWh/Y5B144\n",
       "zSFJfqQAef09sHlc5J/pajpMg9A99+Vj3KKV57FLVYNDkmwpeCYXe2x3uUeSKVhHWeOJbJYoPse9\n",
       "EsNY+dTPcLKmrDCbNPcoCKkzyxpPZP8q2yJeyP9ZZP7vzE9tsfwGCYfKHRpT0lYAAAAASUVORK5C\n",
       "YII=\n",
       "\" style=\"display:inline;vertical-align:middle;\" /></a><br>"
      ],
      "text/plain": [
       "<IPython.core.display.HTML object>"
      ]
     },
     "metadata": {},
     "output_type": "display_data"
    }
   ],
   "source": [
    "divides_difference = Forall(\n",
    "        (x, y, z),\n",
    "        Divides(x, subtract(y, z)),\n",
    "        conditions=[Divides(x, y), Divides(x, z)])"
   ]
  },
  {
   "cell_type": "code",
   "execution_count": 10,
   "metadata": {},
   "outputs": [
    {
     "data": {
      "text/html": [
       "<strong id=\"euclids_lemma\"><a class=\"ProveItLink\" href=\"proofs/euclids_lemma/thm_proof.ipynb\">euclids_lemma</a> (conjecture without proof):<br></strong> <a class=\"ProveItLink\" href=\"../__pv_it/theorems/0dec8e13122a7357ebcdfe739825c3034ebe0a890/theorem_expr.ipynb\"><img src=\"data:image/png;base64,iVBORw0KGgoAAAANSUhEUgAAARYAAAAXBAMAAAA8SH1tAAAAMFBMVEX///8AAAAAAAAAAAAAAAAA\n",
       "AAAAAAAAAAAAAAAAAAAAAAAAAAAAAAAAAAAAAAAAAAAv3aB7AAAAD3RSTlMAq1RmmUTNIjK7EInv\n",
       "3XZ/CtNrAAAACXBIWXMAAA7EAAAOxAGVKw4bAAAD1UlEQVRIx8WWS2gTURSG/ySTZjLTpHEpSokP\n",
       "0IWPAV+IUgJFalUkKAr1GRUpupARH1CVGhEXStSqqNSCDCo+EDTWB6hYi6CIInSjdVMYtb4qBHdK\n",
       "3XjOnZlkJpPShRAvZObMvf+9+e45554Z4D+1iGPoZc//oX10jPvWLWwCCTYmVR0lmC9jwSdgEd9b\n",
       "q85yFeUsNQYOcaw6qs7S6GMJpRgHarLqLL0+FrxCSCP3VD9dMn6WLcCbgYHXVWeROHVvfbj+OMks\n",
       "8kB2F3AHWAxcGH1yym0FdfeQWWHbowlqNF4pXi/1McvVH110nOcCOxFJjIgwvqv5njBK2U3WHO8e\n",
       "y+Y8zY4ouOyEJkYZGtJDwwGNWfZBpaydBkQNNV2R48TYs+jHoyEfi+JlD+e98w6OKJALfbZVS38p\n",
       "Q8rY+aI8ostJ8qdZOXUlCh40eYrmY5HK2Ld7H7+PLAi6Wehq2izt/LSOfpkGuhSaBinG4Q8IMP+7\n",
       "PWmug0wkocQSH2xvIitWFOJ46yqgW5SHAi3T04CbDTtYIKTAhgQX9m4fS0xUkY26YjBLWAPFaDr1\n",
       "dBN2XB9bQ8O36owcAxy5B8XyxLypLpavgY7NZO0tCrF4LaXyZLYGcQqxdE7pl3+zQEihmMNyLwua\n",
       "O6lpJZYoeeRGejxU4ZeJ4lU0n/oP0D2EizKZ+6aTh7kQ55mVA2nmXSxa1MyS1WILb1LXfvq18Ixh\n",
       "qg/NuC6l5J/cIaSIXOqLd1gCr19U+s+Zx5ZhBbPIXRefkHgp9QeyPPpLaMahXqQt0W3r7DwNVTXI\n",
       "jcV8qdPZmmALczpkjvhRDlGGVnjOiRC3BHXiWAfyAdMSeFlkMq4Ugo1JZlExbSv1vXVUcq/4gHiL\n",
       "l5z4WsSQhUNWHBbHzWHJ0ddGh1jaEmIlnUcRIzVFwaD93NajQ8ZRW0p5ka7NVooR3vvqbsQZO6Bm\n",
       "JPb5+/BPJY+9U1vsAphPYX0xRpHeB1TpRO6ykHs2H6GBAs0MJgIJbIVaq588bMQsKa0Uy27kg+Hz\n",
       "C2b7WCTNMT73DCGXxOT5GfkZliykj4g22lBoTP3DTaV8Wb62YJAVpR2TkKddfkH2eZ65/IuJ3bOG\n",
       "wo0z7rKApbRSsPEcWGBv/cEfpwZH9XKWNm8dSCp6lBxpPSgPO8/CXW2LFtUuIbQbnziKe23WV9yC\n",
       "uIYzcI6kp5X6HJbz3vpoBMzVwJpKlc/zDmiCEDo+1WnmcXxxqZus2xrUhzNC4G/tjvHNusW9ohDC\n",
       "DbQjbVQW1RBCu83hmW0LlrjUVr7TSit/oPz19e9N91iGe8ioIB9VUKn9Bc5xEl0duzg1AAAAAElF\n",
       "TkSuQmCC\n",
       "\" style=\"display:inline;vertical-align:middle;\" /></a><br>"
      ],
      "text/plain": [
       "<IPython.core.display.HTML object>"
      ]
     },
     "metadata": {},
     "output_type": "display_data"
    }
   ],
   "source": [
    "# We need to constrain to the set of integer numbers in the case of Euclid's Lemma\n",
    "euclids_lemma = Forall(\n",
    "        (x, y, z),\n",
    "        Divides(x, z),\n",
    "        domain=Integer,\n",
    "        conditions=[Divides(x, Mult(y, z)), Equals(GCD(x, y), one)])"
   ]
  },
  {
   "cell_type": "code",
   "execution_count": 11,
   "metadata": {},
   "outputs": [
    {
     "data": {
      "text/html": [
       "<strong id=\"non_zero_divides_zero\"><a class=\"ProveItLink\" href=\"proofs/non_zero_divides_zero/thm_proof.ipynb\">non_zero_divides_zero</a> (conjecture with conjecture-based proof):<br></strong> <a class=\"ProveItLink\" href=\"../__pv_it/theorems/40e764bb69eed1747fe29f953615a60b3e3905700/theorem_expr.ipynb\"><img src=\"data:image/png;base64,iVBORw0KGgoAAAANSUhEUgAAAJEAAAAXCAMAAAA8713UAAAAOVBMVEX///8AAAAAAAAAAAAAAAAA\n",
       "AAAAAAAAAAAAAAAAAAAAAAAAAAAAAAAAAAAAAAAAAAAAAAAAAAAAAAACXHtMAAAAEnRSTlMAq1Rm\n",
       "mUTNIjK7EInv3Xbt5cmRiLwgAAAACXBIWXMAAA7EAAAOxAGVKw4bAAACVUlEQVRIx8WWi5KkIAxF\n",
       "gfAMmN31/z92SUC0Fbtnp8pZqsZR2+DxJrmg1E+O8P46qJ8eZE43snu5dMRHPa4NPAxkspoT5UxW\n",
       "9CFGsAPTPywaejUn8lU6XOTtHpWKm0ghPSyRhTkRLHIqrwfbseSWeZioqDlREk3MKhylHqGj+6er\n",
       "yN8QrayLiqso4pmmLDxKfjpp/QVIpDFmSQkT4UYkymQWzEY+TfgPk7+r37sfPIxg0qTs0onCmhuR\n",
       "tD6wkkFvhzsbSVZToP3Gmx5o3VPb+SL50uoUak9BrRkNZyL5Z8omz8mr+BHSKbGqSddJTMpfIWof\n",
       "BpXenR8q7Q2cEOsP/NhQXNMorsJFk7q2LZk1CpucXyLS4iqFQ9cwJZJTula2aZXtSm8z6M9QNU/x\n",
       "T9rMAyG686JzIBoBbRkQ7CCNXMw0ayJHfR5xdH9zotb9ZulW1E2JgtKJPRTHS00wFy/fiUaATTx+\n",
       "1T+oyvNsy8kQk3w01kLQrEPeHVJk6ZmENncova5BAqvmbkwHCHhPNALUWJZUJyp0qvluhBFtRXBm\n",
       "7wNWD0t88QgdR2BLP3j55mRUjC7eE73UyyZsy9p6ylqUfKAlUsaCOXQm2kwbwXLtsCIVE/c67pV9\n",
       "NJp0DeCs/f6TJGvzylZLvPGKY68up+uism8GuBtmyFK4eeZHh4DDml3LvablYnBgPxNdVmNLLhOh\n",
       "7ATGF2GuKbRxmrU94MX1ecNzNe8UPhG93X9g5hS46W/TOEMfN0jpE1H67hZtSvSFvUM4Q9NradG3\n",
       "94wzIuPUfxyPbn//AuP7EoUcjU/oAAAAAElFTkSuQmCC\n",
       "\" style=\"display:inline;vertical-align:middle;\" /></a><br>"
      ],
      "text/plain": [
       "<IPython.core.display.HTML object>"
      ]
     },
     "metadata": {},
     "output_type": "display_data"
    }
   ],
   "source": [
    "non_zero_divides_zero = Forall(\n",
    "        x,\n",
    "        Divides(x, zero),\n",
    "        domain=Complex,\n",
    "        conditions=non_zero_conditions([x]))"
   ]
  },
  {
   "cell_type": "code",
   "execution_count": 12,
   "metadata": {},
   "outputs": [
    {
     "data": {
      "text/html": [
       "<strong id=\"left_factor_divisibility\"><a class=\"ProveItLink\" href=\"proofs/left_factor_divisibility/thm_proof.ipynb\">left_factor_divisibility</a> (conjecture without proof):<br></strong> <a class=\"ProveItLink\" href=\"../__pv_it/theorems/47df16a0fee4c2442b8dcf2185fb1c9db584cfe80/theorem_expr.ipynb\"><img src=\"data:image/png;base64,iVBORw0KGgoAAAANSUhEUgAAAOMAAAAXCAMAAADOUwhxAAAAOVBMVEX///8AAAAAAAAAAAAAAAAA\n",
       "AAAAAAAAAAAAAAAAAAAAAAAAAAAAAAAAAAAAAAAAAAAAAAAAAAAAAAACXHtMAAAAEnRSTlMAq1Rm\n",
       "mUTNIjK7EInv3Xbt5cmRiLwgAAAACXBIWXMAAA7EAAAOxAGVKw4bAAADQElEQVRYw91YiY7jIAzl\n",
       "Pgzx7ub/P3bBHIGU0lZaaapFnXomBuJnPxs8jH3ZsLu/7ae7WPaFA8XtQdAb5dOhcZS8Pxfy5yGK\n",
       "wJ5jfFRufCUHqfoe5ucDC4Y9x7hQboaBS7oWSOt/PoxKbjCqj3gm1SAb4CB+HmNkG4zxw73gkrK6\n",
       "x3xBNpoNRvGhgUYOMh55xPAFVK02ACIHF4hZHeNKectmJDpDyb5Qk5CkcvlXD//U2m1leeX6tBo5\n",
       "MnWMGFfKW8iZyHyWZ0nEGneSlrevZ3XYK44WN1bz6INKn/5gV7+K1SHgA3OOEhtps6HAuBwxrpTT\n",
       "cKIA5+XlouZvkTmE41FblyD3Pj0Fz9O2wq+43OYcaUYAhHcwFm/K5DJ9nxWLEZlXytzzcaUkVpym\n",
       "0yPmQMQSDXeyQQpcVBxVKEy2k1ELjH2OzF60g2c3GDkdwzGvPO0SI7sMfcQ4KUuAO330mQ/Dsxil\n",
       "axyrNORWoiUqmz7XPYGBdHq8+mnk7XaEcsrAMQdHjH3Psp58ZbM1LIolV8naNB9gwdVJefd5jhQ2\n",
       "jh6TDKIekmgzm41IBO313Ao71S6WzHN5HxiBSCvcGmPfU/k8fqUfmZydX3jccsqTpyGxn0eqISPG\n",
       "lfI2PG9f2SI/SRt551zaKhmr+9slyNFjFrJfMK/TcoI+vXTA2Pcc75EFY7zVsVLuxelAJRhaTBhX\n",
       "ynsceQ6ynM+aJvkVg5Ij0pDTvWDOaTfnU1rDcZqTvRpg5M+cj1fetdgXrp43Qx3RChQiE0qKOR9X\n",
       "yvuhxAOq9rJDz3J4TaTMc1dUas3pp1peQxVjmKOFozq/xlj3zFz9/ccTV9c1hx1uc5dbKFcnU62e\n",
       "9phlJ2KkKWq6EthA9SIgg1BfpUtZvuYEWqOPBVeHPYcGIBWiNJ8/u0gvMUr1Bjxodazd4B9u8gp1\n",
       "QDrmrO9eg5BImU8JR+sTUbypnUo7OjjnGLzhq3y89pwuU+kOoB5Lo7eb/tG/aP4OLJk0dlHbbgpC\n",
       "ZtWNywkjpBd5uZmzOR8Fvmwg/QYjvOj+hMTeDTd/+E+bYg1UbvTrDmBtzRudw8OVEd1G+fz6aWf5\n",
       "Qd9JJwa+0aEsMQrN/qfxVf8P+wtGwRp7klaTxQAAAABJRU5ErkJggg==\n",
       "\" style=\"display:inline;vertical-align:middle;\" /></a><br>"
      ],
      "text/plain": [
       "<IPython.core.display.HTML object>"
      ]
     },
     "metadata": {},
     "output_type": "display_data"
    }
   ],
   "source": [
    "# Here the restriction of y to the set of Integer numbers is related to the axiomatic def of Divides\n",
    "# x|y = (y/x in Integer). Thus x|xy = (xy/x = y in Integer)\n",
    "left_factor_divisibility = Forall(\n",
    "    (x, y),\n",
    "    Divides(x, Mult(x, y)),\n",
    "    domains=(Complex, Integer),\n",
    "    condition=NotEquals(x, zero))"
   ]
  },
  {
   "cell_type": "code",
   "execution_count": 13,
   "metadata": {},
   "outputs": [
    {
     "data": {
      "text/html": [
       "<strong id=\"right_factor_divisibility\"><a class=\"ProveItLink\" href=\"proofs/right_factor_divisibility/thm_proof.ipynb\">right_factor_divisibility</a> (conjecture without proof):<br></strong> <a class=\"ProveItLink\" href=\"../__pv_it/theorems/129a295e3d561c8516e2326c0dc4fa4d6dd7b3ff0/theorem_expr.ipynb\"><img src=\"data:image/png;base64,iVBORw0KGgoAAAANSUhEUgAAAOIAAAAXCAMAAAAhkWNPAAAAOVBMVEX///8AAAAAAAAAAAAAAAAA\n",
       "AAAAAAAAAAAAAAAAAAAAAAAAAAAAAAAAAAAAAAAAAAAAAAAAAAAAAAACXHtMAAAAEnRSTlMAq1Rm\n",
       "mUTNIjK7EInv3Xbt5cmRiLwgAAAACXBIWXMAAA7EAAAOxAGVKw4bAAADVElEQVRYw91YiZLbIAzl\n",
       "vq22/v+PrTgMwsZOMtOZzZTJRpsgYZ70JEQY+7JhHz7aTxex7AsHiPlz1Pdz90MDlbx/L+TPIxSR\n",
       "3UK8zD15ShKp+hrm58MaDLuFeJ17GiYM6Y4wWv/zQVTyHqL6iGRSEXngjeLnISZ2DzF9uFQYUjbv\n",
       "mC/IRHMPUXy4PyOJTFseKX4BT+seAhRSBk4htjmcBB5cXHCOmqFhS8Ailcv/+vBPN/tYVF54PjKR\n",
       "WSl3CvGICq4MHJjargEnZiha1Iu0/Hi7q8BecbBwr8CTjwpf45un0lV3HSNceLOV0DhRAXBPIdY5\n",
       "Jm0GERi/FJ/JjFW4XeYA0iO2mQD3Hr8NnuOywi+IfKhsqBADhLcgVmdK9Jg+ayXdgpyyP8tb31ed\n",
       "Y5lxiqRl2M3gxjBDxZ0RKWBRbFTlb9l72dMVYleR2YeW+vUBIi/Hb8qmu11BROx7Ps12t4DIBogW\n",
       "3cEdYoYfWhSbNMWphZOgLL5Ge8CCdJr2exp464lATsk3pR+F2Nes9sVVNu+GJbEiagsTJLYgakGC\n",
       "a4VFQhMzjNs2ySja4Qg2U9kIZGcv5FbYqWwx3J1LjKiUFBHuBmJfU/k8fuGfRF/nB26nhPLN0Z4f\n",
       "bwNinQuYFzyV2nIdxAx35CdpE++Mw6Vws7o/XAZJHWZDdgt4qlKAz88kEPuatHmsENOphB2FXvEc\n",
       "KzlBrHNid0EhRL3qU4jZOGQOyUcIan5IU1zuBXNOuzmX0AarNlHJPo1hIs+ciyPnjtBXou6njbpG\n",
       "rsAjqGrUIda5oACYUHLZiREzZIieJXlKKlnnRlBauemnWbbJxYKoaOFk0VxDbGtmov7+4wtR1+WG\n",
       "bcOb0ZwauM29cyA3M2a3WXYWpqKipk7AxlIqIrAQ26P0PjcLsZjobUVUsibp+bEGoQFfN89ZP7RS\n",
       "NCBK9Qa6w6w37ZfmXYGOUM4367vTQkRK5vPBFXukiTeMqkjOOURv+DIXx5pTC4VHv7pWRZ+9uUFN\n",
       "h9N90b+47FGz49r0eH0KMVPqRGSEGPBBXt6rPJ2LAl5eGH25m0O/xRKI4cVtj5od7vCf3oF1KJVG\n",
       "v27617t547Jw7hPB3c89tJx2lh/cMzNMCW/cSZYQhWb/0fimn77+AiwHGt4pBNXHAAAAAElFTkSu\n",
       "QmCC\n",
       "\" style=\"display:inline;vertical-align:middle;\" /></a><br>"
      ],
      "text/plain": [
       "<IPython.core.display.HTML object>"
      ]
     },
     "metadata": {},
     "output_type": "display_data"
    }
   ],
   "source": [
    "right_factor_divisibility = Forall(\n",
    "    (x, y),\n",
    "    Divides(y, Mult(x, y)),\n",
    "    domains=(Complex, Integer),\n",
    "    condition=NotEquals(x, zero))"
   ]
  },
  {
   "cell_type": "code",
   "execution_count": 14,
   "metadata": {},
   "outputs": [],
   "source": [
    "# later generalize those binary versions to a1,..,ai, b, c1,…,cj ?"
   ]
  },
  {
   "cell_type": "code",
   "execution_count": 15,
   "metadata": {},
   "outputs": [
    {
     "data": {
      "text/html": [
       "<strong id=\"even__if__power_is_even\"><a class=\"ProveItLink\" href=\"proofs/even__if__power_is_even/thm_proof.ipynb\">even__if__power_is_even</a> (conjecture without proof):<br></strong> <a class=\"ProveItLink\" href=\"../__pv_it/theorems/90e2aa7989c0dcc0090e66ef3acd99b94962d7b60/theorem_expr.ipynb\"><img src=\"data:image/png;base64,iVBORw0KGgoAAAANSUhEUgAAAKEAAAAXBAMAAACR7DLtAAAAMFBMVEX///8AAAAAAAAAAAAAAAAA\n",
       "AAAAAAAAAAAAAAAAAAAAAAAAAAAAAAAAAAAAAAAAAAAv3aB7AAAAD3RSTlMAq1RmmUTNIjK7EInv\n",
       "3XZ/CtNrAAAACXBIWXMAAA7EAAAOxAGVKw4bAAACmklEQVQ4y6WVTWgTQRTH/9ndZDebTZpeRFFC\n",
       "QNCCIGtRhB5qIKn4cQnqMUrEg+hpCwVRFCpeBNsmKMWmgix40iKJRtHqwYIUBRGiFOqlsKLYj1xy\n",
       "kZRe4pvdJJtdQ9HtsDvz5us37817MwNsLWmOol16T5G4Vb5s1s/RH2XCbq/EfcDI0SmbGFGBISZc\n",
       "9AiUsxDzeJduE3EZuEkFtXpLggqfBmXOJh4EAjoQinskKvRtwFe3iYoOniwPeN3GPYCvAt+6TQwQ\n",
       "7vPS0ievxJNmHq4xorhz2SBzydPHgOnNZiW6SK10wcxzBiNmtOAGwGeBYYjRLqBdD46/MAXTa/Lb\n",
       "Xh1/+++rmX9h0SO/h1ABuDkgqIfSroETOyaxiDdrNlFgwy0iP9Rfag2cN/vyjCjUEKZ2qUZUw+0Y\n",
       "gTYCqrRXtYk9aXG9SeRWUXEQD5hnRsmjSJr5SUdkBymbGXzF1k9O/AR+WFwBNpHXTaJcrmrYLmY7\n",
       "reZKuELEooEjrMZWe05xLi9KdRIfZVRFky1dDvd1EMmJzOqnWk5DJXJIbxIf0n8HWGPEOLZxGng2\n",
       "/Do5RkhITN1rv9Cj+01rZaPkII4zz6QwBjnKlVs6PqOgWUilKkQMGtwCWSWwWb5RCvV0xHR4DBnw\n",
       "lwqFuwiFdFm3ieI0k+bx3bHj4xSMjUYjy3wdez28QtWWl4tacIDN/4iUJJnKnbqFUAdxhDYrL9dx\n",
       "70knMTwK522GG+3jqOVO6zMQa/jWZwV8KYGzttXi1O0TJH2Qfg90EvmEm5hsCf7k/jLG4v4oqiqu\n",
       "0sp8b2z2vE1UGo0aSWf6q6rD7PsuovsWa15B8mxh0m7Md5Ha6bGLGHQ+C36927nelCgaVrnSrC87\n",
       "u3n8N3Err90/P3R/AAYXsEMGKAg0AAAAAElFTkSuQmCC\n",
       "\" style=\"display:inline;vertical-align:middle;\" /></a><br>"
      ],
      "text/plain": [
       "<IPython.core.display.HTML object>"
      ]
     },
     "metadata": {},
     "output_type": "display_data"
    }
   ],
   "source": [
    "# This can be generalized to any prime number. \n",
    "even__if__power_is_even = Forall(\n",
    "    (a, n), Divides(two, a), domain=Integer,\n",
    "    conditions = [Divides(two, Exp(a, n))])"
   ]
  },
  {
   "cell_type": "code",
   "execution_count": 16,
   "metadata": {},
   "outputs": [
    {
     "data": {
      "text/html": [
       "<strong id=\"common_exponent_elimination\"><a class=\"ProveItLink\" href=\"proofs/common_exponent_elimination/thm_proof.ipynb\">common_exponent_elimination</a> (conjecture without proof):<br></strong> <a class=\"ProveItLink\" href=\"../__pv_it/theorems/fb059aa26b00ef5bf3555d8f4196c8226b3d91fd0/theorem_expr.ipynb\"><img src=\"data:image/png;base64,iVBORw0KGgoAAAANSUhEUgAAAPEAAAAYBAMAAADZrgZwAAAAMFBMVEX///8AAAAAAAAAAAAAAAAA\n",
       "AAAAAAAAAAAAAAAAAAAAAAAAAAAAAAAAAAAAAAAAAAAv3aB7AAAAD3RSTlMAq1RmmUTNIjK7EInv\n",
       "3XZ/CtNrAAAACXBIWXMAAA7EAAAOxAGVKw4bAAADbklEQVRIx72WTWgTURDH/8nmY7Pb1HgRRCkr\n",
       "IgYKJUr9Kn4EGqF6kNB6qq22IIie1gqCorXqUa1BUVz1sCoIWm2CVtTioVhERRQPRXspbFW02ktB\n",
       "peDJmd2XZLOxWIX0wb6ZzL6dX958vF1gTkZYSN0jKz8+CPlAyJ10xVhZWmGwPwfl6lsXuToBbGZl\n",
       "T4XJN+kKJV1k7AOOcxYyFSY30jVPc5Pr6a+YgKpVmDxE1y7TTa4yIVHEQ5VOcwdNT9wVhhBhX4+N\n",
       "vaowOZCjqRO1W5kcXvTFojBTZTcBl//PYW62C3mDynf/8mEmt+mRX4BEYdiPcOz/yEmPzO+wbGGU\n",
       "6sg/3SzvIbIyjAD1l59SHzHVNLDBEqt8LweulLpafGXLQOmBNPIA62NFotMZ7KG+pZYciuplXZQT\n",
       "AQLDPXaeA1OIUrDkKaJbIXET8riRjupqv1mA9C68gPcY/IYSyxLVDJheMnuoy0QLZFsvkqO7m2xy\n",
       "VQZZ+hnkcu/YSNMxXpGivyXhxIFi4Hh1Ql6eKLUstZIqBlIjqbSLzB58PQcLZFsvRjur7ephctbC\n",
       "Ji53PtHu0XmCdeFJ+0jjtNl7Ue5P6vjo0OzMSY29n+BY4su6VXj3zB6i+NjK5L6NDx3dGRFKxCYz\n",
       "q1lM1rDAr0Pih45wgdV03dFv2cukLk4I7upndcXxuSbO8422RJWwxNXrO8rI7OEaahNEVt7L07B1\n",
       "Z3ALLUC2J0fkiOUfCYhG8zHpjSajxV7Wr9oihdMI2o8qlt0+hz9jnulY4kh+LSOzB2eHCCTlIXdJ\n",
       "yhTac6jeZnJt1zzaP0EJSOfL9Qflb7VhGBpyg7hNlmcYh7TXMM5BVU2Fa64GbcISR1/I1c+ZggdB\n",
       "rkpXlzbqKDxvSRzNK1KmPYxTrAXjCQzSRqdx/rZs+24+CZXJL5CSHUscwTqX30zBgyBn9UiD6SbX\n",
       "l5Eb84rPOqNSZ3NOAgi+VXJ4Lv9scA63XBLt6EN4CqNxx7IKFBAP2faQ37N+tqWEHNE95OLbMaL7\n",
       "1iJ8ibQV8ycvxuSn2L5yMoFD3Gbzax534rQWjEFY5Hc6fF6y7UGQg41190uirWQ85Ijnc6jPMETi\n",
       "/eKJx8YFcU8rs5SSXRv8w0HbLeSEkF9mPJJbvYagOfP5PQvy7EfCa5AwR+R/Gvqfv3D/Mn4DiuTk\n",
       "d2rx4OYAAAAASUVORK5CYII=\n",
       "\" style=\"display:inline;vertical-align:middle;\" /></a><br>"
      ],
      "text/plain": [
       "<IPython.core.display.HTML object>"
      ]
     },
     "metadata": {},
     "output_type": "display_data"
    }
   ],
   "source": [
    "# might not need explicit restrictions here on k and a\n",
    "common_exponent_elimination = (\n",
    "    Forall(\n",
    "    (k, a, n),\n",
    "    Divides(k, a),\n",
    "    domains = [Integer, Integer, NaturalPos],\n",
    "    conditions = [Divides(Exp(k, n), Exp(a, n))]))"
   ]
  },
  {
   "cell_type": "code",
   "execution_count": 17,
   "metadata": {},
   "outputs": [
    {
     "data": {
      "text/html": [
       "<strong id=\"common_exponent_introduction\"><a class=\"ProveItLink\" href=\"proofs/common_exponent_introduction/thm_proof.ipynb\">common_exponent_introduction</a> (conjecture without proof):<br></strong> <a class=\"ProveItLink\" href=\"../__pv_it/theorems/cad6e86ef798a7f7bd32fdc415bb9e6980b92f1e0/theorem_expr.ipynb\"><img src=\"data:image/png;base64,iVBORw0KGgoAAAANSUhEUgAAAPMAAAAYBAMAAADdW9ZNAAAAMFBMVEX///8AAAAAAAAAAAAAAAAA\n",
       "AAAAAAAAAAAAAAAAAAAAAAAAAAAAAAAAAAAAAAAAAAAv3aB7AAAAD3RSTlMAq1RmmUTNIjK7EInv\n",
       "3XZ/CtNrAAAACXBIWXMAAA7EAAAOxAGVKw4bAAADdklEQVRIx72WXUgUURTH/+vu7M7HautjELIl\n",
       "5UJkU/RNyYIbFBVJ9lQaRkHU02j0UPQd1EOlUlhNgk315Ee6pRH6EBFERRQRYkEIK0WR+yJSKD1E\n",
       "586dj50RJRa2C3fuPf975/z23nvu2QEKWDTeBKubvwIR5FoaClpK4ry9X6dGNSg1udY+6sWYWV4Q\n",
       "9FKg8y21J75hnuGguVWiApuZeagQZLmBHgdZrwx1cNDcwhHgHDWR1kKgQ7QwTLLeK6REF21aWAWE\n",
       "DfpB8UKgo1SF32xlE/iUcNDcQtRAkH5buCBHvYSq8ozxY8iqDppbCFN9Ozr6piDobVTDsaIBg5sM\n",
       "3fj0tD2qUHxvAW7n5zs99/ABqn3qopOqgxZe4o5hX28KwkZEYvmhk76WIit3+APV5cfiFzUH3aNi\n",
       "hz1aREchGWwrNmUsKfB6oD3pISxo3zrgESLDj7Ex5iL5/WAepNxpL6huX+eYRNkJfLZNcYLwGRZl\n",
       "URYE4pheU6wpvYYzv3l+Gz5iaBweZaFihAw/mnmYgR5Jnc1Bv4b8yzYFFoANVfQ4w0w2L4jzR90N\n",
       "pECAKlaoXqU8k1QwkBpO1eSgmQfJt+HypDDtouU/CE44G/6eHo8osWB9JGsmN3Z05mrk/qyGLxwX\n",
       "ctO+qSQWn1bgXzXzQOjuqieW3EHv/JYnS1z0JAINFXaYsbdOsigra+rROrnWZO7RA61Fk7nTtQkn\n",
       "7XMlodzbOwPNPEiQP4pTlvyQAqdBnlbcDe/AsqT9UojdjwBDvYuLqDW1Xj43hSsQzG2QM2kn7XMl\n",
       "geSPGWjmQUIoKT6z5Kt0AHF8HXfRd7OXyuyzL7bzauQnneEaXdfjSA+hywySMQQP6/o1KIohG1ba\n",
       "50oC3eGce93qeJAo2Ersq1p81nMvnBzOyyk4O18fwWUz8hIqhmipU7jeJZrOd12AYlhpnysJCJU5\n",
       "XlodDxL6NGmDdUGCybnQ1XYnkLmq0A1nM0IQ3stpvBR/beBpLp1EPbqttG8qq0Fb4kNzD4hqLbX2\n",
       "3bw5B9r9s5S0wDpEblFvRWn2Rkx8jt0rKckfZ7ettGxwP67EedpnijiiIeBHmx4kCNWV/bbeOQda\n",
       "8n0hdeu6NV5k/dsP6m3WWHyG4kVzh96sl/F8LnmO/vus6XmPXxCM2XP5bOj8iuoXgvhf6Hy+eeF+\n",
       "8P5T+QuVmeijUZSCSgAAAABJRU5ErkJggg==\n",
       "\" style=\"display:inline;vertical-align:middle;\" /></a><br>"
      ],
      "text/plain": [
       "<IPython.core.display.HTML object>"
      ]
     },
     "metadata": {},
     "output_type": "display_data"
    }
   ],
   "source": [
    "common_exponent_introduction = (\n",
    "    Forall(\n",
    "    (k, a, n),\n",
    "    Divides(Exp(k, n), Exp(a, n)),\n",
    "    domains = [Integer, Integer, NaturalPos],\n",
    "    conditions = [Divides(k, a)]))"
   ]
  },
  {
   "cell_type": "code",
   "execution_count": 18,
   "metadata": {},
   "outputs": [
    {
     "data": {
      "text/html": [
       "<strong id=\"common_factor_elimination\"><a class=\"ProveItLink\" href=\"proofs/common_factor_elimination/thm_proof.ipynb\">common_factor_elimination</a> (conjecture without proof):<br></strong> <a class=\"ProveItLink\" href=\"../__pv_it/theorems/7742afe6b74b6b58659afd82c762da7edc04753d0/theorem_expr.ipynb\"><img src=\"data:image/png;base64,iVBORw0KGgoAAAANSUhEUgAAAPkAAAAXCAMAAAD+3xlQAAAAOVBMVEX///8AAAAAAAAAAAAAAAAA\n",
       "AAAAAAAAAAAAAAAAAAAAAAAAAAAAAAAAAAAAAAAAAAAAAAAAAAAAAAACXHtMAAAAEnRSTlMAq1Rm\n",
       "mUTNIjK7EInv3Xbt5cmRiLwgAAAACXBIWXMAAA7EAAAOxAGVKw4bAAADe0lEQVRYw91Yia7cIAzk\n",
       "DDdt8/8fWzDmXMiqUitVQXpPSRhsxowNLCHvbOrpVZH3tsjmdyfHNxnzf9reGX8NcebIhrk1PmBg\n",
       "MlXRonG9RgT2ImS75peoXC0hui66Mq9ZcsEPzO+aBFwgfehkr2HuyZ65vG2DpCeOAbrek+XXgbkL\n",
       "7cOVWfuQm3fvEXuloqiLKnbmF42RFmm7nORC50dj/4rTOfjHmhln/AkYnwvZ4fuFKpY+mTWg8FLb\n",
       "75TZ9gZf/ILI1H9L09dQ9HjYTCMaQTGqpU1VksvTuEbZHIDV9RjJ1RIq2MVVraEsq/Wwd4WGZRAE\n",
       "D1aYr8s9b/XY6GjTN4SO1BiZ90ea4seM2zO3dBk3HSZcx++A6FruZ0DaWvHEQy67EuLEDWFwjbmA\n",
       "/L/hg4ZOFg/1zevB0d2WS+BnZyF8/MC8nBT6uEWStuF3wOr6spsZlNiohrvVjrk3oHDZmEMQZNnZ\n",
       "pMeyzlFI1vHoqh19p4JQPXNDFOgq1s3Sci3XY/DIPMzjFvtlEzUHYHM97LWzpaIGVQTMNmq3d+bE\n",
       "754ZwFmUnY0F3MoxtDao5LQyicGSWDMt5TOzqWRY0+vXZ2EamKtrGrfaZ6Lid8DmmvVMrwBhcvuR\n",
       "/ngylice5pOLiYV5JkovKJ+Fua7JD2GESXpahZzC3c4ByXKpgaCdfAlIQ2Xzwi23D8wx++o462b7\n",
       "pdscgM31kMMV0E/eBJn7pfTRFgAWBFRJYE7TGCPmnY/qniGRjrkmaE0yTG9+QcgNI1pL/cCc0Wmc\n",
       "zss52NeN+RZYXWvT07wVGNKUV9R+z2rXAStsdFrRqNuuRl0714a57sJeZ7jFpbyHFErqkCFntO71\n",
       "DCvcuK8OzMuc27jVflf7Bthdd7U3QFb7z18G1L6tcCTow7m9p2JYi3lOQ5lEDJJLuZbTAZ5pzKF0\n",
       "05FHOZFduvhQ4fq4yX5a+jhXuBmIrhG2zGC4ZkG/XM8iXHxj/nGnkYKz6HiWXM4pAX7h2aicJxru\n",
       "dF1zLklf6L3aYcgwbrKPvQW/AaJr7FtmMB0400lGfJYb9cz88V7KDs+Zb1ba9nwyMZdPNwFMVPMF\n",
       "WPN5ngGL3y7o5pm5efgpQtr985c2eRQP9rHPfAFizzKD79dKtcQmTpkfn36D4YfnP2GeSuDRvJzw\n",
       "J2CFzTNg8v//ydN+u2apZ6D9h1P9DbNOHzmXrhh1AAAAAElFTkSuQmCC\n",
       "\" style=\"display:inline;vertical-align:middle;\" /></a><br>"
      ],
      "text/plain": [
       "<IPython.core.display.HTML object>"
      ]
     },
     "metadata": {},
     "output_type": "display_data"
    }
   ],
   "source": [
    "common_factor_elimination = (\n",
    "       Forall((a, b, k),\n",
    "              Divides(a,b),\n",
    "              domain=Complex,\n",
    "              conditions=[Divides(Mult(k,a), Mult(k,b)), NotEquals(k, zero)]))"
   ]
  },
  {
   "cell_type": "markdown",
   "metadata": {},
   "source": [
    "### GCD Theorems"
   ]
  },
  {
   "cell_type": "code",
   "execution_count": 19,
   "metadata": {},
   "outputs": [
    {
     "data": {
      "text/html": [
       "<strong id=\"GCD_one_def\"><a class=\"ProveItLink\" href=\"proofs/GCD_one_def/thm_proof.ipynb\">GCD_one_def</a> (conjecture without proof):<br></strong> <a class=\"ProveItLink\" href=\"../__pv_it/theorems/a5307368bde43c31d0916f3bb893e600557311e40/theorem_expr.ipynb\"><img src=\"data:image/png;base64,iVBORw0KGgoAAAANSUhEUgAAAckAAAAaBAMAAAAuzLp3AAAAMFBMVEX///8AAAAAAAAAAAAAAAAA\n",
       "AAAAAAAAAAAAAAAAAAAAAAAAAAAAAAAAAAAAAAAAAAAv3aB7AAAAD3RSTlMAq1RmmUTNIjK7EInv\n",
       "3XZ/CtNrAAAACXBIWXMAAA7EAAAOxAGVKw4bAAAFqklEQVRYw82YXWgcVRSAT3Znd2Znks0WUbRC\n",
       "2aKtebDpapNASwkr2ZZqiS5WEKkPKxWkedAJ+BK06eqLFGsypC1x+xCnPgg1xmzbFGkeSnyQ+EMl\n",
       "SGJD04WNAaGEhhDUhAjFc+be2b1zNxNtdCUXTu6ee865me/+nHtnAKpWago3YTOUu4V4FXsPwyYp\n",
       "wcQmpVRlRfW2q34RqjdE3dSUv8gKbzDSrA4VfSK4A9ldIcoYNT5WHcoaqgIbGMlAXlLcBpcS5nwi\n",
       "0OHiDW53BSkPkO2N6lAq9Exh8/5DP5MVt6FEGbZ5Q9wbQQ6vc7srSPkerV6rOpQaLZSuDYS2yUqb\n",
       "TBlMsnoo440ghyVuL0nCgTXiVdqXHVhd3kDomKyMyZTwPV+5D3oj0CG06tq5ICUloHC1ss8erDIb\n",
       "2JYZSSk1lCmPsWrilDcCHYwJ186FEG8UCj9Ui7K2ULidv/9IJS8pJD1bey7ZRNl5vRubL/Gkw7a9\n",
       "6BDeNhtndi5EeQjgvN+/M/4lpZKFiF1p+TvwcEJSSPIPxQ2LFuQ4fIJ9tjCjGUi6Tq7DcIe+zOxc\n",
       "iLIT1JjvoEq1WJ4Qfhd9KLHnzjUsSamWSx3ORXsByyRXULT4axBcRIgvEtCOzU86npg7b/GIksNu\n",
       "G35kdi5EGbHLi107zn+cOJwOfl2mi8hzvALBtBBTHgW9xXMrOA9XxfvJ5FXYHyvTyandDa51++7k\n",
       "CoqOqTO6io/6AsAMNvc6Dg8DLPCIksNBgD+ZnQtRBopC8nmUHns2lw7ERuE5f0p1ES6IMaHSGuy5\n",
       "66FsLCefnkfOwXbDVuw1KHXbE7wWJaXOyBhCfAf679j8qhOHvQ+5Ea7DDISWmJ2Lc8PLtJYf/1uU\n",
       "VBbRWxXIG6n21IE1KaMWu02UYjpK2i4PZTjoLmblEN2xikkDRlKTqbSXUj1risF1cYGSr1hKnfVJ\n",
       "I63fw3XputIRqMTB44BTqqwyOxeH8jI94mDrVzSN92btKLUF3n+5mK+Yy9a5IhhzRf3Kr0WYEGOE\n",
       "Q9FLaezEWWra81SWXckadnQbIM2lY9W2mEJwxB2at7lCEk7Cftxc+hLUZDAn7HWGg0YoAx4HWKGt\n",
       "69i5OJTv4k7Rb2rLNEe3osmLTobOju6ooIwmIzGY0saGzN4s9i3EwOOg5LCckSlV3Nx687I2oTtE\n",
       "DcanRyVKx4qOz2TLlIaYDkkhGbbUaToOB2BXEjs47Aw7/fkYvA4PwFlgdi4OZQ32ryQ1uj1EEsHM\n",
       "EUap4KqUKE/a4YRi6dkUbumQJcbAKz5zSelB/TKmLoacw6EBknckSsdKtM+mS8HahEBJCsnunnmT\n",
       "IC7Mf7ANn3iKbFud3QySwwj9r6mylN68atNRGr/arBJrwTmJB7J6PlM+LxllC9SbtM2/gTsQiIkx\n",
       "cMqPki3AwFjweC7Xh5SDYeG8tFyrczMdLwdPi0lgmslBz91HnfBmCtmB7K6UKIfNyD7cQfVQG/+Q\n",
       "zSW8KByCjHIETiMn4Jk78LlmiTG+K5YNYbYmqeXZXIYahUezXCv9xwFhiJpEgCYmMx5KRXqfkx3I\n",
       "7kp5Ls3eI/Yg1Nl72WUFT8NoTKbcDlsgnIb8uLayD7OPEMMOLb+5PGmesNn9qhlgVqZ0rBA8JgZH\n",
       "xLc1UiKmvuShlN90ZIcuQUqUobbGK3A6rj1fBJV280f4xllBqSy8CWpbq/3S0/MJ6BdjUOPlnbeu\n",
       "V1C2LODR24V7SfvZZG/WIqVjjfZ5gnXxvkCKbu38IyFS9ssXCsmhXxDpiwg7pgZzubQ8UsLRyMtR\n",
       "MUa31vsi4qRD/VrunOxhuVatT7J0ywpviGZ5XfFq7nUguysSZcj2u89GWLKLCm9EiinEKOZ6lD/5\n",
       "dWuta63SN7wgrEupnhkRh2FUiGle87bOv8cav9nrUPpb/7Pvsbf/4ZcndY02Xfi9wQc14X8qfwEE\n",
       "FqaXfuRADgAAAABJRU5ErkJggg==\n",
       "\" style=\"display:inline;vertical-align:middle;\" /></a><br>"
      ],
      "text/plain": [
       "<IPython.core.display.HTML object>"
      ]
     },
     "metadata": {},
     "output_type": "display_data"
    }
   ],
   "source": [
    "# Defining/interpreting GCD(a,b)=1.\n",
    "# Somewhat opaque because we are not explicitly restricting p <= a, p <= b\n",
    "# BUT if p > a then p|a will be FALSE (b/c a/p will not be an integer)\n",
    "GCD_one_def = Forall(\n",
    "    (a, b),\n",
    "    Forall(p,\n",
    "           Not(And(Divides(p, a), Divides(p, b))),\n",
    "           domain=NaturalPos,\n",
    "           condition=greater(p, one)),\n",
    "    domain=NaturalPos,\n",
    "    condition = Equals(GCD(a, b), one))"
   ]
  },
  {
   "cell_type": "code",
   "execution_count": 20,
   "metadata": {},
   "outputs": [
    {
     "name": "stdout",
     "output_type": "stream",
     "text": [
      "These theorems may now be imported from the theory package: proveit.numbers.divisibility\n"
     ]
    }
   ],
   "source": [
    "%end theorems"
   ]
  }
 ],
 "metadata": {
  "kernelspec": {
   "display_name": "Python 3",
   "language": "python",
   "name": "python3"
  }
 },
 "nbformat": 4,
 "nbformat_minor": 0
}