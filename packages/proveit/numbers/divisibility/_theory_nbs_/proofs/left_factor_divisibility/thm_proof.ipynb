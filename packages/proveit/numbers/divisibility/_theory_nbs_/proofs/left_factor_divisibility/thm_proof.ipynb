{
 "cells": [
  {
   "cell_type": "markdown",
   "metadata": {},
   "source": [
    "Proof of <a class=\"ProveItLink\" href=\"../../../../../_theory_nbs_/theory.ipynb\">proveit</a>.<a class=\"ProveItLink\" href=\"../../../../_theory_nbs_/theory.ipynb\">numbers</a>.<a class=\"ProveItLink\" href=\"../../theory.ipynb\">divisibility</a>.<a class=\"ProveItLink\" href=\"../../theorems.ipynb#left_factor_divisibility\">left_factor_divisibility</a> theorem\n",
    "========"
   ]
  },
  {
   "cell_type": "code",
   "execution_count": 1,
   "metadata": {},
   "outputs": [],
   "source": [
    "import proveit\n",
    "theory = proveit.Theory() # the theorem's theory"
   ]
  },
  {
   "cell_type": "code",
   "execution_count": 2,
   "metadata": {},
   "outputs": [
    {
     "data": {
      "text/html": [
       "With these <a href=\"allowed_presumptions.txt\">allowed</a>/<a href=\"disallowed_presumptions.txt\">disallowed</a> theorem/theory presumptions (e.g., to avoid circular dependencies), we begin our proof of<br><strong id=\"left_factor_divisibility\">left_factor_divisibility:</strong> <a class=\"ProveItLink\" href=\"../../../__pv_it/theorems/812b2eac9735d22a765c40a81343d254b6768c880/expr.ipynb\"><img src=\"data:image/png;base64,iVBORw0KGgoAAAANSUhEUgAAAOMAAAAXCAMAAADOUwhxAAAAOVBMVEX///8AAAAAAAAAAAAAAAAA\n",
       "AAAAAAAAAAAAAAAAAAAAAAAAAAAAAAAAAAAAAAAAAAAAAAAAAAAAAAACXHtMAAAAEnRSTlMAq1Rm\n",
       "mUTNIjK7EInv3Xbt5cmRiLwgAAAACXBIWXMAAA7EAAAOxAGVKw4bAAADQElEQVRYw91YiY7jIAzl\n",
       "Pgzx7ub/P3bBHIGU0lZaaapFnXomBuJnPxs8jH3ZsLu/7ae7WPaFA8XtQdAb5dOhcZS8Pxfy5yGK\n",
       "wJ5jfFRufCUHqfoe5ucDC4Y9x7hQboaBS7oWSOt/PoxKbjCqj3gm1SAb4CB+HmNkG4zxw73gkrK6\n",
       "x3xBNpoNRvGhgUYOMh55xPAFVK02ACIHF4hZHeNKectmJDpDyb5Qk5CkcvlXD//U2m1leeX6tBo5\n",
       "MnWMGFfKW8iZyHyWZ0nEGneSlrevZ3XYK44WN1bz6INKn/5gV7+K1SHgA3OOEhtps6HAuBwxrpTT\n",
       "cKIA5+XlouZvkTmE41FblyD3Pj0Fz9O2wq+43OYcaUYAhHcwFm/K5DJ9nxWLEZlXytzzcaUkVpym\n",
       "0yPmQMQSDXeyQQpcVBxVKEy2k1ELjH2OzF60g2c3GDkdwzGvPO0SI7sMfcQ4KUuAO330mQ/Dsxil\n",
       "axyrNORWoiUqmz7XPYGBdHq8+mnk7XaEcsrAMQdHjH3Psp58ZbM1LIolV8naNB9gwdVJefd5jhQ2\n",
       "jh6TDKIekmgzm41IBO313Ao71S6WzHN5HxiBSCvcGmPfU/k8fqUfmZydX3jccsqTpyGxn0eqISPG\n",
       "lfI2PG9f2SI/SRt551zaKhmr+9slyNFjFrJfMK/TcoI+vXTA2Pcc75EFY7zVsVLuxelAJRhaTBhX\n",
       "ynsceQ6ynM+aJvkVg5Ij0pDTvWDOaTfnU1rDcZqTvRpg5M+cj1fetdgXrp43Qx3RChQiE0qKOR9X\n",
       "yvuhxAOq9rJDz3J4TaTMc1dUas3pp1peQxVjmKOFozq/xlj3zFz9/ccTV9c1hx1uc5dbKFcnU62e\n",
       "9phlJ2KkKWq6EthA9SIgg1BfpUtZvuYEWqOPBVeHPYcGIBWiNJ8/u0gvMUr1Bjxodazd4B9u8gp1\n",
       "QDrmrO9eg5BImU8JR+sTUbypnUo7OjjnGLzhq3y89pwuU+kOoB5Lo7eb/tG/aP4OLJk0dlHbbgpC\n",
       "ZtWNywkjpBd5uZmzOR8Fvmwg/QYjvOj+hMTeDTd/+E+bYg1UbvTrDmBtzRudw8OVEd1G+fz6aWf5\n",
       "Qd9JJwa+0aEsMQrN/qfxVf8P+wtGwRp7klaTxQAAAABJRU5ErkJggg==\n",
       "\" style=\"display:inline;vertical-align:middle;\" /></a><br>(see <a class=\"ProveItLink\" href=\"../../../__pv_it/theorems/47df16a0fee4c2442b8dcf2185fb1c9db584cfe80/dependencies.ipynb\">dependencies</a>)<br>"
      ],
      "text/plain": [
       "<IPython.core.display.HTML object>"
      ]
     },
     "metadata": {},
     "output_type": "display_data"
    }
   ],
   "source": [
    "%proving left_factor_divisibility"
   ]
  },
  {
   "cell_type": "code",
   "execution_count": null,
   "metadata": {},
   "outputs": [],
   "source": []
  }
 ],
 "metadata": {
  "kernelspec": {
   "display_name": "Python 3",
   "language": "python",
   "name": "python3"
  }
 },
 "nbformat": 4,
 "nbformat_minor": 0
}