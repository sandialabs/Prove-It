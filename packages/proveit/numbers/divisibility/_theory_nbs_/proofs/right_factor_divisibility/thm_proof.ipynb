{
 "cells": [
  {
   "cell_type": "markdown",
   "metadata": {},
   "source": [
    "Proof of <a class=\"ProveItLink\" href=\"../../../../../_theory_nbs_/theory.ipynb\">proveit</a>.<a class=\"ProveItLink\" href=\"../../../../_theory_nbs_/theory.ipynb\">numbers</a>.<a class=\"ProveItLink\" href=\"../../theory.ipynb\">divisibility</a>.<a class=\"ProveItLink\" href=\"../../theorems.ipynb#right_factor_divisibility\">right_factor_divisibility</a> theorem\n",
    "========"
   ]
  },
  {
   "cell_type": "code",
   "execution_count": 1,
   "metadata": {},
   "outputs": [],
   "source": [
    "import proveit\n",
    "theory = proveit.Theory() # the theorem's theory"
   ]
  },
  {
   "cell_type": "code",
   "execution_count": 2,
   "metadata": {},
   "outputs": [
    {
     "data": {
      "text/html": [
       "With these <a href=\"allowed_presumptions.txt\">allowed</a>/<a href=\"disallowed_presumptions.txt\">disallowed</a> theorem/theory presumptions (e.g., to avoid circular dependencies), we begin our proof of<br><strong id=\"right_factor_divisibility\">right_factor_divisibility:</strong> <a class=\"ProveItLink\" href=\"../../../__pv_it/theorems/5c5a1f93b55f7d69e12d40ebb88173e7d01e71530/expr.ipynb\"><img src=\"data:image/png;base64,iVBORw0KGgoAAAANSUhEUgAAAOIAAAAXCAMAAAAhkWNPAAAAOVBMVEX///8AAAAAAAAAAAAAAAAA\n",
       "AAAAAAAAAAAAAAAAAAAAAAAAAAAAAAAAAAAAAAAAAAAAAAAAAAAAAAACXHtMAAAAEnRSTlMAq1Rm\n",
       "mUTNIjK7EInv3Xbt5cmRiLwgAAAACXBIWXMAAA7EAAAOxAGVKw4bAAADVElEQVRYw91YiZLbIAzl\n",
       "vq22/v+PrTgMwsZOMtOZzZTJRpsgYZ70JEQY+7JhHz7aTxex7AsHiPlz1Pdz90MDlbx/L+TPIxSR\n",
       "3UK8zD15ShKp+hrm58MaDLuFeJ17GiYM6Y4wWv/zQVTyHqL6iGRSEXngjeLnISZ2DzF9uFQYUjbv\n",
       "mC/IRHMPUXy4PyOJTFseKX4BT+seAhRSBk4htjmcBB5cXHCOmqFhS8Ailcv/+vBPN/tYVF54PjKR\n",
       "WSl3CvGICq4MHJjargEnZiha1Iu0/Hi7q8BecbBwr8CTjwpf45un0lV3HSNceLOV0DhRAXBPIdY5\n",
       "Jm0GERi/FJ/JjFW4XeYA0iO2mQD3Hr8NnuOywi+IfKhsqBADhLcgVmdK9Jg+ayXdgpyyP8tb31ed\n",
       "Y5lxiqRl2M3gxjBDxZ0RKWBRbFTlb9l72dMVYleR2YeW+vUBIi/Hb8qmu11BROx7Ps12t4DIBogW\n",
       "3cEdYoYfWhSbNMWphZOgLL5Ge8CCdJr2exp464lATsk3pR+F2Nes9sVVNu+GJbEiagsTJLYgakGC\n",
       "a4VFQhMzjNs2ySja4Qg2U9kIZGcv5FbYqWwx3J1LjKiUFBHuBmJfU/k8fuGfRF/nB26nhPLN0Z4f\n",
       "bwNinQuYFzyV2nIdxAx35CdpE++Mw6Vws7o/XAZJHWZDdgt4qlKAz88kEPuatHmsENOphB2FXvEc\n",
       "KzlBrHNid0EhRL3qU4jZOGQOyUcIan5IU1zuBXNOuzmX0AarNlHJPo1hIs+ciyPnjtBXou6njbpG\n",
       "rsAjqGrUIda5oACYUHLZiREzZIieJXlKKlnnRlBauemnWbbJxYKoaOFk0VxDbGtmov7+4wtR1+WG\n",
       "bcOb0ZwauM29cyA3M2a3WXYWpqKipk7AxlIqIrAQ26P0PjcLsZjobUVUsibp+bEGoQFfN89ZP7RS\n",
       "NCBK9Qa6w6w37ZfmXYGOUM4367vTQkRK5vPBFXukiTeMqkjOOURv+DIXx5pTC4VHv7pWRZ+9uUFN\n",
       "h9N90b+47FGz49r0eH0KMVPqRGSEGPBBXt6rPJ2LAl5eGH25m0O/xRKI4cVtj5od7vCf3oF1KJVG\n",
       "v27617t547Jw7hPB3c89tJx2lh/cMzNMCW/cSZYQhWb/0fimn77+AiwHGt4pBNXHAAAAAElFTkSu\n",
       "QmCC\n",
       "\" style=\"display:inline;vertical-align:middle;\" /></a><br>(see <a class=\"ProveItLink\" href=\"../../../__pv_it/theorems/129a295e3d561c8516e2326c0dc4fa4d6dd7b3ff0/dependencies.ipynb\">dependencies</a>)<br>"
      ],
      "text/plain": [
       "<IPython.core.display.HTML object>"
      ]
     },
     "metadata": {},
     "output_type": "display_data"
    }
   ],
   "source": [
    "%proving right_factor_divisibility"
   ]
  },
  {
   "cell_type": "code",
   "execution_count": null,
   "metadata": {},
   "outputs": [],
   "source": []
  }
 ],
 "metadata": {
  "kernelspec": {
   "display_name": "Python 3",
   "language": "python",
   "name": "python3"
  }
 },
 "nbformat": 4,
 "nbformat_minor": 0
}