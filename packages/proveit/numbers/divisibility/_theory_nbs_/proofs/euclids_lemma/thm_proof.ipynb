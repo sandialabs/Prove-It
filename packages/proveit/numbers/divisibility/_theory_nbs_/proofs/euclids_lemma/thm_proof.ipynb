{
 "cells": [
  {
   "cell_type": "markdown",
   "metadata": {},
   "source": [
    "Proof of <a class=\"ProveItLink\" href=\"../../../../../_theory_nbs_/theory.ipynb\">proveit</a>.<a class=\"ProveItLink\" href=\"../../../../_theory_nbs_/theory.ipynb\">numbers</a>.<a class=\"ProveItLink\" href=\"../../theory.ipynb\">divisibility</a>.<a class=\"ProveItLink\" href=\"../../theorems.ipynb#euclids_lemma\">euclids_lemma</a> theorem\n",
    "========"
   ]
  },
  {
   "cell_type": "code",
   "execution_count": 1,
   "metadata": {},
   "outputs": [],
   "source": [
    "import proveit\n",
    "theory = proveit.Theory() # the theorem's theory"
   ]
  },
  {
   "cell_type": "code",
   "execution_count": 2,
   "metadata": {},
   "outputs": [
    {
     "data": {
      "text/html": [
       "With these <a href=\"allowed_presumptions.txt\">allowed</a>/<a href=\"disallowed_presumptions.txt\">disallowed</a> theorem/theory presumptions (e.g., to avoid circular dependencies), we begin our proof of<br><strong id=\"euclids_lemma\">euclids_lemma:</strong> <a class=\"ProveItLink\" href=\"../../../__pv_it/theorems/1383c0db9fb9ba504ecf98232ea971f42efe86410/expr.ipynb\"><img src=\"data:image/png;base64,iVBORw0KGgoAAAANSUhEUgAAARYAAAAXBAMAAAA8SH1tAAAAMFBMVEX///8AAAAAAAAAAAAAAAAA\n",
       "AAAAAAAAAAAAAAAAAAAAAAAAAAAAAAAAAAAAAAAAAAAv3aB7AAAAD3RSTlMAq1RmmUTNIjK7EInv\n",
       "3XZ/CtNrAAAACXBIWXMAAA7EAAAOxAGVKw4bAAAD1UlEQVRIx8WWS2gTURSG/ySTZjLTpHEpSokP\n",
       "0IWPAV+IUgJFalUkKAr1GRUpupARH1CVGhEXStSqqNSCDCo+EDTWB6hYi6CIInSjdVMYtb4qBHdK\n",
       "3XjOnZlkJpPShRAvZObMvf+9+e45554Z4D+1iGPoZc//oX10jPvWLWwCCTYmVR0lmC9jwSdgEd9b\n",
       "q85yFeUsNQYOcaw6qs7S6GMJpRgHarLqLL0+FrxCSCP3VD9dMn6WLcCbgYHXVWeROHVvfbj+OMks\n",
       "8kB2F3AHWAxcGH1yym0FdfeQWWHbowlqNF4pXi/1McvVH110nOcCOxFJjIgwvqv5njBK2U3WHO8e\n",
       "y+Y8zY4ouOyEJkYZGtJDwwGNWfZBpaydBkQNNV2R48TYs+jHoyEfi+JlD+e98w6OKJALfbZVS38p\n",
       "Q8rY+aI8ostJ8qdZOXUlCh40eYrmY5HK2Ld7H7+PLAi6Wehq2izt/LSOfpkGuhSaBinG4Q8IMP+7\n",
       "PWmug0wkocQSH2xvIitWFOJ46yqgW5SHAi3T04CbDTtYIKTAhgQX9m4fS0xUkY26YjBLWAPFaDr1\n",
       "dBN2XB9bQ8O36owcAxy5B8XyxLypLpavgY7NZO0tCrF4LaXyZLYGcQqxdE7pl3+zQEihmMNyLwua\n",
       "O6lpJZYoeeRGejxU4ZeJ4lU0n/oP0D2EizKZ+6aTh7kQ55mVA2nmXSxa1MyS1WILb1LXfvq18Ixh\n",
       "qg/NuC6l5J/cIaSIXOqLd1gCr19U+s+Zx5ZhBbPIXRefkHgp9QeyPPpLaMahXqQt0W3r7DwNVTXI\n",
       "jcV8qdPZmmALczpkjvhRDlGGVnjOiRC3BHXiWAfyAdMSeFlkMq4Ugo1JZlExbSv1vXVUcq/4gHiL\n",
       "l5z4WsSQhUNWHBbHzWHJ0ddGh1jaEmIlnUcRIzVFwaD93NajQ8ZRW0p5ka7NVooR3vvqbsQZO6Bm\n",
       "JPb5+/BPJY+9U1vsAphPYX0xRpHeB1TpRO6ykHs2H6GBAs0MJgIJbIVaq588bMQsKa0Uy27kg+Hz\n",
       "C2b7WCTNMT73DCGXxOT5GfkZliykj4g22lBoTP3DTaV8Wb62YJAVpR2TkKddfkH2eZ65/IuJ3bOG\n",
       "wo0z7rKApbRSsPEcWGBv/cEfpwZH9XKWNm8dSCp6lBxpPSgPO8/CXW2LFtUuIbQbnziKe23WV9yC\n",
       "uIYzcI6kp5X6HJbz3vpoBMzVwJpKlc/zDmiCEDo+1WnmcXxxqZus2xrUhzNC4G/tjvHNusW9ohDC\n",
       "DbQjbVQW1RBCu83hmW0LlrjUVr7TSit/oPz19e9N91iGe8ioIB9VUKn9Bc5xEl0duzg1AAAAAElF\n",
       "TkSuQmCC\n",
       "\" style=\"display:inline;vertical-align:middle;\" /></a><br>(see <a class=\"ProveItLink\" href=\"../../../__pv_it/theorems/0dec8e13122a7357ebcdfe739825c3034ebe0a890/dependencies.ipynb\">dependencies</a>)<br>"
      ],
      "text/plain": [
       "<IPython.core.display.HTML object>"
      ]
     },
     "metadata": {},
     "output_type": "display_data"
    }
   ],
   "source": [
    "%proving euclids_lemma"
   ]
  },
  {
   "cell_type": "code",
   "execution_count": null,
   "metadata": {},
   "outputs": [],
   "source": []
  }
 ],
 "metadata": {
  "kernelspec": {
   "display_name": "Python 3",
   "language": "python",
   "name": "python3"
  }
 },
 "nbformat": 4,
 "nbformat_minor": 0
}