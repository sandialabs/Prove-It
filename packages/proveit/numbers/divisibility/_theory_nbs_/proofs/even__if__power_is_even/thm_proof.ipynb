{
 "cells": [
  {
   "cell_type": "markdown",
   "metadata": {},
   "source": [
    "Proof of <a class=\"ProveItLink\" href=\"../../../../../_theory_nbs_/theory.ipynb\">proveit</a>.<a class=\"ProveItLink\" href=\"../../../../_theory_nbs_/theory.ipynb\">numbers</a>.<a class=\"ProveItLink\" href=\"../../theory.ipynb\">divisibility</a>.<a class=\"ProveItLink\" href=\"../../theorems.ipynb#even__if__power_is_even\">even__if__power_is_even</a> theorem\n",
    "========"
   ]
  },
  {
   "cell_type": "code",
   "execution_count": 1,
   "metadata": {},
   "outputs": [],
   "source": [
    "import proveit\n",
    "theory = proveit.Theory() # the theorem's theory"
   ]
  },
  {
   "cell_type": "code",
   "execution_count": 2,
   "metadata": {},
   "outputs": [
    {
     "data": {
      "text/html": [
       "With these <a href=\"allowed_presumptions.txt\">allowed</a>/<a href=\"disallowed_presumptions.txt\">disallowed</a> theorem/theory presumptions (e.g., to avoid circular dependencies), we begin our proof of<br><strong id=\"even__if__power_is_even\">even__if__power_is_even:</strong> <a class=\"ProveItLink\" href=\"../../../__pv_it/theorems/ee1eddd91e498adf8979a3f6b0b5163fcf03c2d60/expr.ipynb\"><img src=\"data:image/png;base64,iVBORw0KGgoAAAANSUhEUgAAAKEAAAAXBAMAAACR7DLtAAAAMFBMVEX///8AAAAAAAAAAAAAAAAA\n",
       "AAAAAAAAAAAAAAAAAAAAAAAAAAAAAAAAAAAAAAAAAAAv3aB7AAAAD3RSTlMAq1RmmUTNIjK7EInv\n",
       "3XZ/CtNrAAAACXBIWXMAAA7EAAAOxAGVKw4bAAACmklEQVQ4y6WVTWgTQRTH/9ndZDebTZpeRFFC\n",
       "QNCCIGtRhB5qIKn4cQnqMUrEg+hpCwVRFCpeBNsmKMWmgix40iKJRtHqwYIUBRGiFOqlsKLYj1xy\n",
       "kZRe4pvdJJtdQ9HtsDvz5us37817MwNsLWmOol16T5G4Vb5s1s/RH2XCbq/EfcDI0SmbGFGBISZc\n",
       "9AiUsxDzeJduE3EZuEkFtXpLggqfBmXOJh4EAjoQinskKvRtwFe3iYoOniwPeN3GPYCvAt+6TQwQ\n",
       "7vPS0ievxJNmHq4xorhz2SBzydPHgOnNZiW6SK10wcxzBiNmtOAGwGeBYYjRLqBdD46/MAXTa/Lb\n",
       "Xh1/+++rmX9h0SO/h1ABuDkgqIfSroETOyaxiDdrNlFgwy0iP9Rfag2cN/vyjCjUEKZ2qUZUw+0Y\n",
       "gTYCqrRXtYk9aXG9SeRWUXEQD5hnRsmjSJr5SUdkBymbGXzF1k9O/AR+WFwBNpHXTaJcrmrYLmY7\n",
       "reZKuELEooEjrMZWe05xLi9KdRIfZVRFky1dDvd1EMmJzOqnWk5DJXJIbxIf0n8HWGPEOLZxGng2\n",
       "/Do5RkhITN1rv9Cj+01rZaPkII4zz6QwBjnKlVs6PqOgWUilKkQMGtwCWSWwWb5RCvV0xHR4DBnw\n",
       "lwqFuwiFdFm3ieI0k+bx3bHj4xSMjUYjy3wdez28QtWWl4tacIDN/4iUJJnKnbqFUAdxhDYrL9dx\n",
       "70knMTwK522GG+3jqOVO6zMQa/jWZwV8KYGzttXi1O0TJH2Qfg90EvmEm5hsCf7k/jLG4v4oqiqu\n",
       "0sp8b2z2vE1UGo0aSWf6q6rD7PsuovsWa15B8mxh0m7Md5Ha6bGLGHQ+C36927nelCgaVrnSrC87\n",
       "u3n8N3Err90/P3R/AAYXsEMGKAg0AAAAAElFTkSuQmCC\n",
       "\" style=\"display:inline;vertical-align:middle;\" /></a><br>(see <a class=\"ProveItLink\" href=\"../../../__pv_it/theorems/90e2aa7989c0dcc0090e66ef3acd99b94962d7b60/dependencies.ipynb\">dependencies</a>)<br>"
      ],
      "text/plain": [
       "<IPython.core.display.HTML object>"
      ]
     },
     "metadata": {},
     "output_type": "display_data"
    }
   ],
   "source": [
    "%proving even__if__power_is_even"
   ]
  },
  {
   "cell_type": "code",
   "execution_count": null,
   "metadata": {},
   "outputs": [],
   "source": []
  }
 ],
 "metadata": {
  "kernelspec": {
   "display_name": "Python 3",
   "language": "python",
   "name": "python3"
  }
 },
 "nbformat": 4,
 "nbformat_minor": 0
}