{
 "cells": [
  {
   "cell_type": "markdown",
   "metadata": {},
   "source": [
    "Proof of <a class=\"ProveItLink\" href=\"../../../../../_theory_nbs_/theory.ipynb\">proveit</a>.<a class=\"ProveItLink\" href=\"../../../../_theory_nbs_/theory.ipynb\">numbers</a>.<a class=\"ProveItLink\" href=\"../../theory.ipynb\">divisibility</a>.<a class=\"ProveItLink\" href=\"../../theorems.ipynb#common_factor_elimination\">common_factor_elimination</a> theorem\n",
    "========"
   ]
  },
  {
   "cell_type": "code",
   "execution_count": 1,
   "metadata": {},
   "outputs": [],
   "source": [
    "import proveit\n",
    "theory = proveit.Theory() # the theorem's theory"
   ]
  },
  {
   "cell_type": "code",
   "execution_count": 2,
   "metadata": {},
   "outputs": [
    {
     "data": {
      "text/html": [
       "With these <a href=\"allowed_presumptions.txt\">allowed</a>/<a href=\"disallowed_presumptions.txt\">disallowed</a> theorem/theory presumptions (e.g., to avoid circular dependencies), we begin our proof of<br><strong id=\"common_factor_elimination\">common_factor_elimination:</strong> <a class=\"ProveItLink\" href=\"../../../__pv_it/theorems/d17cf12f9618dcf8217981671bedce2ecfda43f40/expr.ipynb\"><img src=\"data:image/png;base64,iVBORw0KGgoAAAANSUhEUgAAAPkAAAAXCAMAAAD+3xlQAAAAOVBMVEX///8AAAAAAAAAAAAAAAAA\n",
       "AAAAAAAAAAAAAAAAAAAAAAAAAAAAAAAAAAAAAAAAAAAAAAAAAAAAAAACXHtMAAAAEnRSTlMAq1Rm\n",
       "mUTNIjK7EInv3Xbt5cmRiLwgAAAACXBIWXMAAA7EAAAOxAGVKw4bAAADe0lEQVRYw91Yia7cIAzk\n",
       "DDdt8/8fWzDmXMiqUitVQXpPSRhsxowNLCHvbOrpVZH3tsjmdyfHNxnzf9reGX8NcebIhrk1PmBg\n",
       "MlXRonG9RgT2ImS75peoXC0hui66Mq9ZcsEPzO+aBFwgfehkr2HuyZ65vG2DpCeOAbrek+XXgbkL\n",
       "7cOVWfuQm3fvEXuloqiLKnbmF42RFmm7nORC50dj/4rTOfjHmhln/AkYnwvZ4fuFKpY+mTWg8FLb\n",
       "75TZ9gZf/ILI1H9L09dQ9HjYTCMaQTGqpU1VksvTuEbZHIDV9RjJ1RIq2MVVraEsq/Wwd4WGZRAE\n",
       "D1aYr8s9b/XY6GjTN4SO1BiZ90ea4seM2zO3dBk3HSZcx++A6FruZ0DaWvHEQy67EuLEDWFwjbmA\n",
       "/L/hg4ZOFg/1zevB0d2WS+BnZyF8/MC8nBT6uEWStuF3wOr6spsZlNiohrvVjrk3oHDZmEMQZNnZ\n",
       "pMeyzlFI1vHoqh19p4JQPXNDFOgq1s3Sci3XY/DIPMzjFvtlEzUHYHM97LWzpaIGVQTMNmq3d+bE\n",
       "754ZwFmUnY0F3MoxtDao5LQyicGSWDMt5TOzqWRY0+vXZ2EamKtrGrfaZ6Lid8DmmvVMrwBhcvuR\n",
       "/ngylice5pOLiYV5JkovKJ+Fua7JD2GESXpahZzC3c4ByXKpgaCdfAlIQ2Xzwi23D8wx++o462b7\n",
       "pdscgM31kMMV0E/eBJn7pfTRFgAWBFRJYE7TGCPmnY/qniGRjrkmaE0yTG9+QcgNI1pL/cCc0Wmc\n",
       "zss52NeN+RZYXWvT07wVGNKUV9R+z2rXAStsdFrRqNuuRl0714a57sJeZ7jFpbyHFErqkCFntO71\n",
       "DCvcuK8OzMuc27jVflf7Bthdd7U3QFb7z18G1L6tcCTow7m9p2JYi3lOQ5lEDJJLuZbTAZ5pzKF0\n",
       "05FHOZFduvhQ4fq4yX5a+jhXuBmIrhG2zGC4ZkG/XM8iXHxj/nGnkYKz6HiWXM4pAX7h2aicJxru\n",
       "dF1zLklf6L3aYcgwbrKPvQW/AaJr7FtmMB0400lGfJYb9cz88V7KDs+Zb1ba9nwyMZdPNwFMVPMF\n",
       "WPN5ngGL3y7o5pm5efgpQtr985c2eRQP9rHPfAFizzKD79dKtcQmTpkfn36D4YfnP2GeSuDRvJzw\n",
       "J2CFzTNg8v//ydN+u2apZ6D9h1P9DbNOHzmXrhh1AAAAAElFTkSuQmCC\n",
       "\" style=\"display:inline;vertical-align:middle;\" /></a><br>(see <a class=\"ProveItLink\" href=\"../../../__pv_it/theorems/7742afe6b74b6b58659afd82c762da7edc04753d0/dependencies.ipynb\">dependencies</a>)<br>"
      ],
      "text/plain": [
       "<IPython.core.display.HTML object>"
      ]
     },
     "metadata": {},
     "output_type": "display_data"
    }
   ],
   "source": [
    "%proving common_factor_elimination"
   ]
  },
  {
   "cell_type": "code",
   "execution_count": null,
   "metadata": {},
   "outputs": [],
   "source": []
  }
 ],
 "metadata": {
  "kernelspec": {
   "display_name": "Python 3",
   "language": "python",
   "name": "python3"
  }
 },
 "nbformat": 4,
 "nbformat_minor": 0
}