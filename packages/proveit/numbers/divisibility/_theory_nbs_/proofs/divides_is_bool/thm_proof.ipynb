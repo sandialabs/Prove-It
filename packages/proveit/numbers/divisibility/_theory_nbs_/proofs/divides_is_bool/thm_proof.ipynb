{
 "cells": [
  {
   "cell_type": "markdown",
   "metadata": {},
   "source": [
    "Proof of <a class=\"ProveItLink\" href=\"../../../../../_theory_nbs_/theory.ipynb\">proveit</a>.<a class=\"ProveItLink\" href=\"../../../../_theory_nbs_/theory.ipynb\">numbers</a>.<a class=\"ProveItLink\" href=\"../../theory.ipynb\">divisibility</a>.<a class=\"ProveItLink\" href=\"../../theorems.ipynb#divides_is_bool\">divides_is_bool</a> theorem\n",
    "========"
   ]
  },
  {
   "cell_type": "code",
   "execution_count": 1,
   "metadata": {},
   "outputs": [],
   "source": [
    "import proveit\n",
    "from proveit import defaults\n",
    "# from proveit.core_expr_types import\n",
    "from proveit import a, b, x, y\n",
    "from proveit.numbers import frac\n",
    "from proveit.numbers.divisibility  import divides_def\n",
    "from proveit.numbers.number_sets.integers import int_membership_is_bool\n",
    "theory = proveit.Theory() # the theorem's theory"
   ]
  },
  {
   "cell_type": "code",
   "execution_count": 2,
   "metadata": {},
   "outputs": [
    {
     "data": {
      "text/html": [
       "With these <a href=\"allowed_presumptions.txt\">allowed</a>/<a href=\"disallowed_presumptions.txt\">disallowed</a> theorem/theory presumptions (e.g., to avoid circular dependencies), we begin our proof of<br><strong id=\"divides_is_bool\">divides_is_bool:</strong> <a class=\"ProveItLink\" href=\"../../../__pv_it/theorems/a37f530cbd600b6f92315381f7fad2360923d06c0/expr.ipynb\"><img src=\"data:image/png;base64,iVBORw0KGgoAAAANSUhEUgAAAJAAAAAWBAMAAADdgQhOAAAAMFBMVEX///8AAAAAAAAAAAAAAAAA\n",
       "AAAAAAAAAAAAAAAAAAAAAAAAAAAAAAAAAAAAAAAAAAAv3aB7AAAAD3RSTlMAq1RmmUTNIjK7EInv\n",
       "3XZ/CtNrAAAACXBIWXMAAA7EAAAOxAGVKw4bAAACc0lEQVQ4y52US2gTURSG/8lkkkzSxm5EglIG\n",
       "FDdaDC6EIsSKVEUFg0IXvjrQhVCKTjcFpYvqUiqOK0GwTsGFRQip+ECEEATBKkorVHQRmNIqWjC4\n",
       "UwTBO+fcJDOTiQsv/PP47+G7c8+cc4GOw5JC657sEJrEP0bWYNF4zDfNDQV9X7g4tlQkv8d73xoB\n",
       "2iHlB2E1HGWfS45uJH/Qez3fzkmbrCAo4YRBJ/FUJ/+Kt0W7HRTPs4IgdaAdtFsh31sjY7SDuqSC\n",
       "ILyWCbxT+9AEJchXxaqJiBRtlwqBRjjpF5zWF23ay/7bWu1NBOioVGnl/nNDgNJrecwC8zQ54bSS\n",
       "XVoqg/zDwO0I0IjUQLY3vihAmVgV+4A9CP4c++zYnyMgfxzJngjQe5Zqqb+VvABdFbgcsJMmTX+y\n",
       "V4cc8nUnU4wAvWSlEDcpR06Xi3fADW8uJdJR+9QA6VqZ/JgblesGSPw6l5M97KR+AWeoxmz/F+mw\n",
       "2TcL4lI/tCb6SVuBEtyaAFhpxwMdRLYK9NHkYhBksv9wVNSFlUuIYiptcKZlxAxrrrgFGfqim9BF\n",
       "Lvtpsh4AxVz2J8W8ipmUeLzch28yYp6169oxnCDQfgznuSJE4TUr2D6NyiNZKcqU5/wkfzN6ZcR1\n",
       "1r167IBBoNnKcbH5ZW7E3CmO+rJw1+v+hu/9iCqdKct4JY3uKZavsp+IrpTZ0Z7JFmkcSI2sTWbM\n",
       "OB4AH7UfvvZstagoSDP9wt/G7S3OD58r65g2sK2/WWu3pCSo21VEuVzqcAqGfCNt6c0l56QkKFYY\n",
       "9JNDI+hrjuIOtbbtsmh8laeH1eFYDvoqtEIZ/zn+ArWHp1BpUuAHAAAAAElFTkSuQmCC\n",
       "\" style=\"display:inline;vertical-align:middle;\" /></a><br>(see <a class=\"ProveItLink\" href=\"../../../__pv_it/theorems/6edd682b997fe21c191af0a902ed1e46b3a981b30/dependencies.ipynb\">dependencies</a>)<br>"
      ],
      "text/plain": [
       "<IPython.core.display.HTML object>"
      ]
     },
     "metadata": {},
     "output_type": "display_data"
    },
    {
     "name": "stdout",
     "output_type": "stream",
     "text": [
      "divides_is_bool may now be readily provable (assuming required theorems are usable).  Simply execute \"%qed\".\n"
     ]
    }
   ],
   "source": [
    "%proving divides_is_bool"
   ]
  },
  {
   "cell_type": "code",
   "execution_count": 3,
   "metadata": {},
   "outputs": [
    {
     "data": {
      "text/html": [
       "<strong id=\"defaults.assumptions\">defaults.assumptions:</strong> <a class=\"ProveItLink\" href=\"../../../__pv_it/_proof_divides_is_bool/1a4193f1deeaf7a4a6b6289328d46189ae6a257f0/expr.ipynb\"><img src=\"data:image/png;base64,iVBORw0KGgoAAAANSUhEUgAAAAwAAAAVBAMAAACAghKHAAAAMFBMVEX///8AAAAAAAAAAAAAAAAA\n",
       "AAAAAAAAAAAAAAAAAAAAAAAAAAAAAAAAAAAAAAAAAAAv3aB7AAAAD3RSTlMAInZUiRDNmWbv3US7\n",
       "qzJazP2FAAAACXBIWXMAAA7EAAAOxAGVKw4bAAAAcklEQVQI12NgYBBgZAACJgNuBSBlwsCgwcDA\n",
       "msDAwBbAwN7AwMBRwMAJkp/KYAaiMhhKQJQvkAEEbQyLQZQlw2wQ9R5C7YQIWjEcAlE9QLVAUMLw\n",
       "CkStZuB6wMDAuABkLNj4gwwMMkDxGDCLgVGBSYABAJpvEmISwLzKAAAAAElFTkSuQmCC\n",
       "\" style=\"display:inline;vertical-align:middle;\" /></a><br>"
      ],
      "text/plain": [
       "<IPython.core.display.HTML object>"
      ]
     },
     "metadata": {},
     "output_type": "display_data"
    }
   ],
   "source": [
    "defaults.assumptions = divides_is_bool.conditions"
   ]
  },
  {
   "cell_type": "code",
   "execution_count": 4,
   "metadata": {},
   "outputs": [
    {
     "data": {
      "text/html": [
       "<span style=\"font-size:20px;\"> <a class=\"ProveItLink\" href=\"../../axioms.ipynb#divides_def\" style=\"text-decoration: none\">&nbsp;&#x22A2;&nbsp;&nbsp;</a><a class=\"ProveItLink\" href=\"../../../__pv_it/axioms/4db0f292ce4a27734d1fb2121a85530bf79b23460/expr.ipynb\"><img src=\"data:image/png;base64,iVBORw0KGgoAAAANSUhEUgAAANwAAAAmBAMAAABdfejNAAAAMFBMVEX///8AAAAAAAAAAAAAAAAA\n",
       "AAAAAAAAAAAAAAAAAAAAAAAAAAAAAAAAAAAAAAAAAAAv3aB7AAAAD3RSTlMAq1RmmUTNIjK7EInv\n",
       "3XZ/CtNrAAAACXBIWXMAAA7EAAAOxAGVKw4bAAAES0lEQVRYw41XX2gcRRj/bu/2bm/3cgkIbVNr\n",
       "ODAIRYpBpKUgadraKpho6EMffDAHeRBbketLMFLpVXxqI422RWybsIU+GDV/LKQgQjjbpn+xxkLV\n",
       "UA4uGlvrQwitpSEVdeabnZ3NzszefnC/nduZnd/M933z228BImwbxLVUIaLT3iMwao6m2HRbyXTz\n",
       "bXBa3fuxK1BvG2OzJYsAjlGBLZruJoFas67FphsgC/8wNQPNmv5PA6iz9ERsur3k5+ZqcEPT/7Ur\n",
       "UGfPuXHZjGWKPa61FJkF0blwO/bmGtAPOyFf0QzIPBKoC91ybLoj6IdPIKtd/skAqi0xiJeS9zd8\n",
       "DVqzdxh62nSTvRhAtTXis3l+fie965uKoQ8QT0+9Hl7LMz9eGpq9QBoHcBqCuP+nVR7CZ5+FEF1e\n",
       "3oHFY3Iu3HNvDaShSKPbAQx30OtbCjo8snYxTAeyFiUXKTpF+3y45yWA3x26sRTOQ/AgTZlBBd0q\n",
       "HNAm0b0gRxnnaqglpIO6GuzBEfTJoodpklWOSmC/p5ADiS4nHcccBsRo3+HfyQ9Vf6ZXF1LlNdi5\n",
       "5GGSrD+tSpXHGGuZLi0FrzG8K/Ndf0kHLYyadZ/jD9XqddCl26vkNzb3xXcFQudJvtOkzuGA9QkH\n",
       "nMhi237A8RVyTyUEuJ5e8uvItxD1neSSn8RIdVWp/QTgZ3nAROYZE+2s8S/HfZBRiQHb/k0yfSm5\n",
       "nGgjdJ7kG5JSHQnTFYXM8/ZjjlnX6VbQmQ8pThNelsWTXPKtxfDQHvp843/UsM8i8anOYtdvZG6b\n",
       "Nv4GD42aMlPY7qYx82osVZjkm3V3Zw+KVj85J6UgHRSpexdenid3zTlIhJ1JaEq2S+mY5Bsz4dhJ\n",
       "zpzxT2R5NcD4itjBWaIT+VJzmjw01ugO8FTBXBoGGOleBw7ujkl+UtKEA+HMXOCNj0xyDJ4Sskpx\n",
       "P50Dhi3SfH8D3ON+wPV8Q96yhzphF9IxyU9J2jFeC9cBfLsniIj0r/fzHDFRpk0ms09CC3/mIlZP\n",
       "AGcWjO0FpGOS3yAlVq4jXOk1v8HS7eo7n5/6h77lLEw8htiqZOjlFlzhd95GISyvUBUq+R/IRY3k\n",
       "XvNbJmKh8sLgb+z9TjEFXwH8avpp3oli3yHoPMnfLlcilbrve2dGIH3ij6m/YKAArZv9I7oF1ecz\n",
       "QcckX/H2SNYvM1hZESouCnYp62fZOMZ7RNAxyc/K1YN9vy4dk9WV4mq6idpusSD0Y4Zn3Z/e9a5i\n",
       "smN16XpKAn2ngNkusjxZPyIrCh97Ye3hs7oR59TFRdBFD2PTjdOzkYK5WpduxPkARq4ojjk0vzaR\n",
       "5HpCM4DVu/lIf+XKsfnoYS0TTdVOVRAY9RUV09in2Q1t/50Aaq03Nh3WL+Yj+FLziXBZoN5GS3Hp\n",
       "7F/APp6ogOYTbbQgUG+ZPbG31+caS2cqpmbCowGMsPdi02XK9mu11uc1e+/28X/YOCadZYDVZwAA\n",
       "AABJRU5ErkJggg==\n",
       "\" style=\"display:inline;vertical-align:middle;\" /></a></span>"
      ],
      "text/plain": [
       "|- forall_{x, y} ((x | y) = ((y / x) in Integer))"
      ]
     },
     "metadata": {},
     "output_type": "display_data"
    }
   ],
   "source": [
    "divides_def"
   ]
  },
  {
   "cell_type": "code",
   "execution_count": 5,
   "metadata": {},
   "outputs": [
    {
     "data": {
      "text/html": [
       "<strong id=\"divides_def_inst\">divides_def_inst:</strong> <span style=\"font-size:20px;\"> <a class=\"ProveItLink\" href=\"../../../__pv_it/_proof_divides_is_bool/2da05daef7a4c4ca7ae11e724e4861cc5af6e1af0/proof.ipynb\" style=\"text-decoration: none\">&nbsp;&#x22A2;&nbsp;&nbsp;</a><a class=\"ProveItLink\" href=\"../../../__pv_it/axioms/45c4177c16975bc95fdeddabadf78e5f55d437d60/expr.ipynb\"><img src=\"data:image/png;base64,iVBORw0KGgoAAAANSUhEUgAAAJQAAAAmBAMAAADQEK+ZAAAAMFBMVEX///8AAAAAAAAAAAAAAAAA\n",
       "AAAAAAAAAAAAAAAAAAAAAAAAAAAAAAAAAAAAAAAAAAAv3aB7AAAAD3RSTlMAInZUiRDNmWbv3US7\n",
       "qzJazP2FAAAACXBIWXMAAA7EAAAOxAGVKw4bAAADBUlEQVRIx5VWTWgTQRR+ye5mN7/uWYquFX8O\n",
       "VvYg9SIYVHopwiJIURK7IEIFD8GKthUxVlA8GS3+gIqFegoKQcVr4h9oq9AKioqUgIpYEPtjsFKI\n",
       "zs+mm85kmnFgZ2bnvflm5r33vRkAydK7nFA7BPJFH0cTNmQh3Vg85chDnUOfquTgYmOxMS6NlLiC\n",
       "qs/6MHwSKDyVhgolUeWELbgsUNgnfcLtRLPoJKrL2FKu3CH1cQjmBAqBGVlTVUjzGmLCxZ/hyvR+\n",
       "2LauxEukOQXFrAjqAvqCtvfT6bX3eb0VFCG94zS7Tvvtq6N3r6POagSzBRioIL/yzxpCByvZNAkh\n",
       "cFEnkgHNZaGAZwENTNXVhljJCYCNKj6X7oKe5aDOc1DvSB2x4klWMgFaKUXOMg1h4KDCXLjdIrUy\n",
       "eNI/WD5PjuOAXp4kwiq081Ahzli/2IFH6xa7PxIZEi9zcAw1e9oO7LIRlEd9lQueeTYg68z5PEYO\n",
       "oc1DD2oywTeIqZ016htk6wN5XO6RmXMsJf2YUJKDtDMLI2iqaVTiWQTlUV9h2ZHgoOq7bs0IN5Am\n",
       "9iS2lUf9xDQzM7pA4vQvLkT2HW+YMmCtWgANd35jKOQzi5qdUj/adFcpPxWXWhCvTAI1QrKHqTkY\n",
       "ilJfGWZsxUFFfHaWJwC6qa2eoDUKH0Alu6LUN0qsw1gPBq1a71sUhcJH6uXdKK997YcHBIpSX2dj\n",
       "Wptlo+PgYiiEHGjZRr08BdDVqvTZBIpSP1JgZ15jB9JjlBHRm4dfvfyDc1ViASLlJdGOqb+S4+AR\n",
       "buThaN5dMqBUwMj4UB71+7iJ/c0TrYp89diHotQPlPgk0/w+wf5K+VCU+jE+I3fbTaFwog3UHLvZ\n",
       "a9c0WDLTFKpoyt04Bol/rfXtl50ilQ7Jy0sjJNShzRoQqQzJXqlkzTPI/O8FCsK7lithHH1lxFGh\n",
       "gi0LRbOh8PEBsF7+fdVDaDIDewVPhkvyUPtN0MbiOUgKxLY8FLoYlGpXLiqY8uI/3qKwCrSj1taz\n",
       "gmDBueQfrHK+fU+0hiIAAAAASUVORK5CYII=\n",
       "\" style=\"display:inline;vertical-align:middle;\" /></a></span><br>"
      ],
      "text/plain": [
       "<IPython.core.display.HTML object>"
      ]
     },
     "metadata": {},
     "output_type": "display_data"
    }
   ],
   "source": [
    "divides_def_inst = divides_def.instantiate(\n",
    "    {x:x, y:y})"
   ]
  },
  {
   "cell_type": "code",
   "execution_count": 6,
   "metadata": {},
   "outputs": [
    {
     "data": {
      "text/html": [
       "<span style=\"font-size:20px;\"> <a class=\"ProveItLink\" href=\"../../../../number_sets/integers/_theory_nbs_/proofs/int_membership_is_bool/thm_proof.ipynb\" style=\"text-decoration: none\">&nbsp;&#x22A2;&nbsp;&nbsp;</a><a class=\"ProveItLink\" href=\"../../../../number_sets/integers/__pv_it/theorems/774e1a59d5b5ceea98fb0111d92ceeb92ae23bce0/expr.ipynb\"><img src=\"data:image/png;base64,iVBORw0KGgoAAAANSUhEUgAAAJkAAAAVBAMAAACnAFEqAAAAMFBMVEX///8AAAAAAAAAAAAAAAAA\n",
       "AAAAAAAAAAAAAAAAAAAAAAAAAAAAAAAAAAAAAAAAAAAv3aB7AAAAD3RSTlMAq1RmmUTNIjK7EInv\n",
       "3XZ/CtNrAAAACXBIWXMAAA7EAAAOxAGVKw4bAAACaklEQVQ4y31UTWgTQRh9ye4m2d12CYho9RLQ\n",
       "mz8EqYoXDYhaECUHT1pkwYNYiqwIBaFKBG8eXAUrLSoRRKinGPDgRXKtUpuDFgUX1j+EisGT9eDB\n",
       "b2Y2k53srh+8zOybzJvvbwZIWjFChmUteen05wjDlp/+eyG4XzVClXY+zv1e3gicpXmZEduUTS2B\n",
       "hDm3G3ALwJch3jTCmUd1OFXgCPs+H198EiFheo12tIFCc1itans+MAVcZ5nw44uHIyQs52HRor9q\n",
       "tYSaVqEYx8VBdiW+2IkwiPBBsMpGC5jINWjySuW5mguMNKFRtAUlba6ANOOijKxUvsGGcypParnL\n",
       "lOgCSS0HwWslOy0Bq7flZpsRM4M0mc0FNjyDwpvG2s+tNNoU7QSwEFdjJzDo+BSeGCrRDo13xz4o\n",
       "vGmsrrwlaY0iuoRiOa42WhHYj0PNDYyIRe2KnOyEwlOkzl4qaL7DvLfrcbWRukADR0WuKBXBB5H2\n",
       "ynOAnLil8qQG/wwxv0gxVIog1YA3/NsatM8ia6VNwKTKczWTysI6wT1IP71jXz01UhjreMqIrlTb\n",
       "TB1nkQO7oPBcjVzKM6ZNITveWCFqOjPksO7mOuD3qyf7o3aKWpi2HIDCc7XdVAXm7SwVQcPDUrTG\n",
       "6kzI/3ncMfgB/WMow1Mo3qEtx6HyRsv+URN9Bd7eWJcedDmsk+H2PSJxY6fFyuTc0vzKEm15p/DO\n",
       "9Dx/QzAqq1nqyGfrfYTBZXghbpB84Lrp/NX+ZNZ29f58PEKm6dV0Xj4V+reXazKpnkCmXcl4k/00\n",
       "ljWS5f9H7V46neHBtQgZ5mT4/R34Bw4onG8N1xVLAAAAAElFTkSuQmCC\n",
       "\" style=\"display:inline;vertical-align:middle;\" /></a></span>"
      ],
      "text/plain": [
       "|- forall_{x} ((x in Integer) in BOOLEAN)"
      ]
     },
     "metadata": {},
     "output_type": "display_data"
    }
   ],
   "source": [
    "int_membership_is_bool"
   ]
  },
  {
   "cell_type": "code",
   "execution_count": 7,
   "metadata": {},
   "outputs": [
    {
     "data": {
      "text/html": [
       "<strong id=\"int_membership_is_bool_inst\">int_membership_is_bool_inst:</strong> <span style=\"font-size:20px;\"> <a class=\"ProveItLink\" href=\"../../../__pv_it/_proof_divides_is_bool/8be3a7297514d35af8e1793149ea0fa448c754980/proof.ipynb\" style=\"text-decoration: none\">&nbsp;&#x22A2;&nbsp;&nbsp;</a><a class=\"ProveItLink\" href=\"../../../__pv_it/_proof_divides_is_bool/d4f3d4b86b7a4a04bae62d10320052aa87bd3a6f0/expr.ipynb\"><img src=\"data:image/png;base64,iVBORw0KGgoAAAANSUhEUgAAAHQAAAAmBAMAAADn8qLoAAAAMFBMVEX///8AAAAAAAAAAAAAAAAA\n",
       "AAAAAAAAAAAAAAAAAAAAAAAAAAAAAAAAAAAAAAAAAAAv3aB7AAAAD3RSTlMAmVSrZs0y7xCJ3bsi\n",
       "RHYwvcNTAAAACXBIWXMAAA7EAAAOxAGVKw4bAAACmElEQVRIx4VWS2gTQRj+NptNdvPYRFQ8ib14\n",
       "ErSniqZKLuLJunhpBJGoB8VLQ9EeqtiVgIIFk0sPIkg8FGHrYX1hTRH2YE89NAiCPWV9QbVQavER\n",
       "wdfubDbbTvInA5n8k+//Zv7X/BMAEPpADznXBcRWR+FdFsXO6EWdZoY1QAkVcJyA+2nqeWfbs0IF\n",
       "GQJ/TFNPOh89auMagd8kLQ413LmuR34QCgJpcazsztuhFgiFxG+KOsLseYI4ufkLCsg0E1TPUhpH\n",
       "KeAbm4v3dlkcsHvicnXmkiMsciWjPnj2ffwQEPE9meL3XBmABM2NRppD4kl7vlhDeM1dKJo8ylO3\n",
       "AB8V90BBa6NmFcuEyH6P2WKZpw5CNieZgWvt1HBfP6IssKGhnYErVWPa/dYh5AcY6Gd8xTC0FlVD\n",
       "ij8tebpVPecizMvIurd8sxycKr4qI8XnZD6ou9k4k2UvCYlcYPDylwPtkcepoETLQ57wl82SFVCn\n",
       "J+7rGOGpQTglX/7VXG4Ik3osh3rNXfxjgzk2bhjGDNN4r9Qgu8JX73I6gGE2qTCX2k6VzUBaAESr\n",
       "RZ3ceCrMeLvBFV8Q84NAKfA1tpkqYZGP8KovnEk6qTkYlLlqb6LuRcnmqJJvxqykY2GPm5VmXk8E\n",
       "1LLyOY0oX9ty5q1XGleG557/dO9q5I+HFF96KVeH59jNkUy+dpN3vULkWpAzlqrGxpsgFNBrKBWi\n",
       "zTZ6UqnWI6/3pKao1vOoJ7VudW1atz/cuEO9WlPUniVWxGn1sEBEA6Nk/Nx4h61wQyRcUukcjLlZ\n",
       "b+9drRGln98jnoJN4Z/oAEpZL4xy5xctcbXLk//QuYu1/VA6w7e6/V1wGtm+CzvwujP6tFvKE3lc\n",
       "Xw1t67y7XKNo/wHw56bXhpdkWwAAAABJRU5ErkJggg==\n",
       "\" style=\"display:inline;vertical-align:middle;\" /></a></span><br>"
      ],
      "text/plain": [
       "<IPython.core.display.HTML object>"
      ]
     },
     "metadata": {},
     "output_type": "display_data"
    }
   ],
   "source": [
    "int_membership_is_bool_inst = int_membership_is_bool.instantiate({x:frac(y, x)})"
   ]
  },
  {
   "cell_type": "code",
   "execution_count": 8,
   "metadata": {},
   "outputs": [
    {
     "data": {
      "text/html": [
       "<span style=\"font-size:20px;\"> <a class=\"ProveItLink\" href=\"../../../__pv_it/_proof_divides_is_bool/9d5884df57420ad7947efc6fff12e1afe8fe8cbd0/proof.ipynb\" style=\"text-decoration: none\">&nbsp;&#x22A2;&nbsp;&nbsp;</a><a class=\"ProveItLink\" href=\"../../../__pv_it/theorems/d0ff289c9a3e3d25480bb1e25181d4406145da720/expr.ipynb\"><img src=\"data:image/png;base64,iVBORw0KGgoAAAANSUhEUgAAAFEAAAAVBAMAAADMaB9/AAAAMFBMVEX///8AAAAAAAAAAAAAAAAA\n",
       "AAAAAAAAAAAAAAAAAAAAAAAAAAAAAAAAAAAAAAAAAAAv3aB7AAAAD3RSTlMAInZUiRDNmWbv3US7\n",
       "qzJazP2FAAAACXBIWXMAAA7EAAAOxAGVKw4bAAABm0lEQVQoz3WTO0jDUBSG/zaNfaUlk5ND6KBF\n",
       "UDKIoIu1iA4qhC4urURBsJMdVBQRg4qTYFFctENBcIgWii/UpdVREB+b2EEQFxcnFwfx5iZtHrVn\n",
       "uZf8X07O4w8AHnoYpwuNwi0al2H9CAoOoD03ky4UyaULdhJRZ67yiWvqFWBlJ9kkOclL9HOAV3GS\n",
       "vkw9uRYC/HCS2DUauFMPa2QT0F1PTuudTUpmzqd1YJZcEx3jAyIh2TYFKWCU6s2S2VGiENMTZNzP\n",
       "3jwhPUwWW8AG1SfMOq/TP3PAAWmB932HFEK+E74C9FBdtnYUvZCwD4ThlWmdkl/ANvClyeE9VVWP\n",
       "qyQXjGkkGYCgd1SSwr/AlfaILVtzcihrXycEz0oaOQ93Fuilet5OyrgFksUXeGjOe3CPwCbVIzaS\n",
       "EbSR9H0s4pSSyygp+uDIUsUaeYb4EPAJjEWYBZGSqfgK8d4R1dnKuQ625h6olwJvth0NEoMaFQZH\n",
       "jG3W+YFMXmZ3rJ5xxI1JBoQQ2VpLI88nTZJZXbK+6gxX9W/oNMzG/8/9AbZrZG2X1uxsAAAAAElF\n",
       "TkSuQmCC\n",
       "\" style=\"display:inline;vertical-align:middle;\" /></a></span>"
      ],
      "text/plain": [
       "|- (x | y) in BOOLEAN"
      ]
     },
     "metadata": {},
     "output_type": "display_data"
    }
   ],
   "source": [
    "divides_def_inst.sub_left_side_into(int_membership_is_bool_inst)"
   ]
  },
  {
   "cell_type": "code",
   "execution_count": 9,
   "metadata": {},
   "outputs": [
    {
     "name": "stdout",
     "output_type": "stream",
     "text": [
      "proveit.numbers.divisibility.divides_is_bool has been proven.\n"
     ]
    },
    {
     "data": {
      "text/html": [
       "<table><tr><th>&nbsp;</th><th>step type</th><th>requirements</th><th>statement</th></tr>\n",
       "<tr><td><a name=\"0x4517c6c48c148eea_step0\">0</a></td><td>generalization</td><td><a href=\"#0x4517c6c48c148eea_step1\">1</a></td><td><span style=\"font-size:20px;\"> <a class=\"ProveItLink\" href=\"../../../__pv_it/_proof_divides_is_bool/f83628efaf087a992b9944b36488779d688af05a0/proof.ipynb\" style=\"text-decoration: none\">&nbsp;&#x22A2;&nbsp;&nbsp;</a><a class=\"ProveItLink\" href=\"../../../__pv_it/theorems/a37f530cbd600b6f92315381f7fad2360923d06c0/expr.ipynb\"><img src=\"data:image/png;base64,iVBORw0KGgoAAAANSUhEUgAAAJAAAAAWBAMAAADdgQhOAAAAMFBMVEX///8AAAAAAAAAAAAAAAAA\n",
       "AAAAAAAAAAAAAAAAAAAAAAAAAAAAAAAAAAAAAAAAAAAv3aB7AAAAD3RSTlMAq1RmmUTNIjK7EInv\n",
       "3XZ/CtNrAAAACXBIWXMAAA7EAAAOxAGVKw4bAAACc0lEQVQ4y52US2gTURSG/8lkkkzSxm5EglIG\n",
       "FDdaDC6EIsSKVEUFg0IXvjrQhVCKTjcFpYvqUiqOK0GwTsGFRQip+ECEEATBKkorVHQRmNIqWjC4\n",
       "UwTBO+fcJDOTiQsv/PP47+G7c8+cc4GOw5JC657sEJrEP0bWYNF4zDfNDQV9X7g4tlQkv8d73xoB\n",
       "2iHlB2E1HGWfS45uJH/Qez3fzkmbrCAo4YRBJ/FUJ/+Kt0W7HRTPs4IgdaAdtFsh31sjY7SDuqSC\n",
       "ILyWCbxT+9AEJchXxaqJiBRtlwqBRjjpF5zWF23ay/7bWu1NBOioVGnl/nNDgNJrecwC8zQ54bSS\n",
       "XVoqg/zDwO0I0IjUQLY3vihAmVgV+4A9CP4c++zYnyMgfxzJngjQe5Zqqb+VvABdFbgcsJMmTX+y\n",
       "V4cc8nUnU4wAvWSlEDcpR06Xi3fADW8uJdJR+9QA6VqZ/JgblesGSPw6l5M97KR+AWeoxmz/F+mw\n",
       "2TcL4lI/tCb6SVuBEtyaAFhpxwMdRLYK9NHkYhBksv9wVNSFlUuIYiptcKZlxAxrrrgFGfqim9BF\n",
       "Lvtpsh4AxVz2J8W8ipmUeLzch28yYp6169oxnCDQfgznuSJE4TUr2D6NyiNZKcqU5/wkfzN6ZcR1\n",
       "1r167IBBoNnKcbH5ZW7E3CmO+rJw1+v+hu/9iCqdKct4JY3uKZavsp+IrpTZ0Z7JFmkcSI2sTWbM\n",
       "OB4AH7UfvvZstagoSDP9wt/G7S3OD58r65g2sK2/WWu3pCSo21VEuVzqcAqGfCNt6c0l56QkKFYY\n",
       "9JNDI+hrjuIOtbbtsmh8laeH1eFYDvoqtEIZ/zn+ArWHp1BpUuAHAAAAAElFTkSuQmCC\n",
       "\" style=\"display:inline;vertical-align:middle;\" /></a></span></td></tr>\n",
       "<tr><td><a name=\"0x4517c6c48c148eea_step1\">1</a></td><td>instantiation</td><td><a href=\"#0x4517c6c48c148eea_step2\">2</a>, <a href=\"#0x4517c6c48c148eea_step3\">3</a>, <a href=\"#0x4517c6c48c148eea_step4\">4</a></td><td><span style=\"font-size:20px;\"> <a class=\"ProveItLink\" href=\"../../../__pv_it/_proof_divides_is_bool/9d5884df57420ad7947efc6fff12e1afe8fe8cbd0/proof.ipynb\" style=\"text-decoration: none\">&nbsp;&#x22A2;&nbsp;&nbsp;</a><a class=\"ProveItLink\" href=\"../../../__pv_it/theorems/d0ff289c9a3e3d25480bb1e25181d4406145da720/expr.ipynb\"><img src=\"data:image/png;base64,iVBORw0KGgoAAAANSUhEUgAAAFEAAAAVBAMAAADMaB9/AAAAMFBMVEX///8AAAAAAAAAAAAAAAAA\n",
       "AAAAAAAAAAAAAAAAAAAAAAAAAAAAAAAAAAAAAAAAAAAv3aB7AAAAD3RSTlMAInZUiRDNmWbv3US7\n",
       "qzJazP2FAAAACXBIWXMAAA7EAAAOxAGVKw4bAAABm0lEQVQoz3WTO0jDUBSG/zaNfaUlk5ND6KBF\n",
       "UDKIoIu1iA4qhC4urURBsJMdVBQRg4qTYFFctENBcIgWii/UpdVREB+b2EEQFxcnFwfx5iZtHrVn\n",
       "uZf8X07O4w8AHnoYpwuNwi0al2H9CAoOoD03ky4UyaULdhJRZ67yiWvqFWBlJ9kkOclL9HOAV3GS\n",
       "vkw9uRYC/HCS2DUauFMPa2QT0F1PTuudTUpmzqd1YJZcEx3jAyIh2TYFKWCU6s2S2VGiENMTZNzP\n",
       "3jwhPUwWW8AG1SfMOq/TP3PAAWmB932HFEK+E74C9FBdtnYUvZCwD4ThlWmdkl/ANvClyeE9VVWP\n",
       "qyQXjGkkGYCgd1SSwr/AlfaILVtzcihrXycEz0oaOQ93Fuilet5OyrgFksUXeGjOe3CPwCbVIzaS\n",
       "EbSR9H0s4pSSyygp+uDIUsUaeYb4EPAJjEWYBZGSqfgK8d4R1dnKuQ625h6olwJvth0NEoMaFQZH\n",
       "jG3W+YFMXmZ3rJ5xxI1JBoQQ2VpLI88nTZJZXbK+6gxX9W/oNMzG/8/9AbZrZG2X1uxsAAAAAElF\n",
       "TkSuQmCC\n",
       "\" style=\"display:inline;vertical-align:middle;\" /></a></span></td></tr>\n",
       "<tr><td>&nbsp;</td><td colspan=4 style=\"text-align:left\"><span style=\"font-size:20px;\"><a class=\"ProveItLink\" href=\"../../../__pv_it/_proof_divides_is_bool/1d99392da58b40374b949787020ddefb47f454cd0/expr.ipynb\"><img src=\"data:image/png;base64,iVBORw0KGgoAAAANSUhEUgAAADsAAAAVBAMAAAAKrYvGAAAAMFBMVEX///8AAAAAAAAAAAAAAAAA\n",
       "AAAAAAAAAAAAAAAAAAAAAAAAAAAAAAAAAAAAAAAAAAAv3aB7AAAAD3RSTlMAdrurzZkQ7zJUiSLd\n",
       "ZkQEbk8lAAAACXBIWXMAAA7EAAAOxAGVKw4bAAABHElEQVQoz2NgQAYb8PAYGBgnoHAfgkmh/8pG\n",
       "rgkg1iw01RfA1BcGBqYyIM3mgGaaG4jg+MjAwAnEDKwX0KSvgs34AcS/gAx2NFkGdpCVTB+AGKiE\n",
       "YQq6NAvIOH4FBoZ+ASAjCiHBbSUNFOEyYABL7ToJEvNFSD/fwPSNgYEX5FZ5q1X3wGIn4bJstQys\n",
       "B4AOLgCy9WGCdXBp1g8MPAuAfvoA8Ta6NLsCQ/4DBgY+oG6OXzBBhOH5Agz3gRQn0ALGfzBBRYT0\n",
       "BAYTzg0MvEA/sXyACS6GSzMJcB5lBTphAQOr/icBqGAP0CYlINBmYDNcsVmCgYHnAXIg8TSghdoe\n",
       "FB5vAJp0LCpXG5XLrYDKT0LlMqGlJm4BFK40AwMAeV42yYcqVGcAAAAASUVORK5CYII=\n",
       "\" style=\"display:inline;vertical-align:middle;\" /></a> : <a class=\"ProveItLink\" href=\"../../../__pv_it/_proof_divides_is_bool/a9dccdbfd19eb63cc286f129ddf925359cbc0e140/expr.ipynb\"><img src=\"data:image/png;base64,iVBORw0KGgoAAAANSUhEUgAAAD4AAAAQBAMAAAC8SdExAAAAMFBMVEX///8AAAAAAAAAAAAAAAAA\n",
       "AAAAAAAAAAAAAAAAAAAAAAAAAAAAAAAAAAAAAAAAAAAv3aB7AAAAD3RSTlMAMrsiq4l2RO8QZpnd\n",
       "VM2humBGAAAACXBIWXMAAA7EAAAOxAGVKw4bAAAAzElEQVQY02NgwAHYTuj963FnwA2Y2BPsphTg\n",
       "k1/AaqCAV57rggOmeNKZMw/g8g8wpOsyEfpZrALg4iZhZiCK+SXC/MwcV7g0ezOD/gQgzWeAkD/X\n",
       "f3oCjDdjAcMeEM2H7D625XDT9jMwHAXREmeAQAEqz6BQCpNvYuD8DqInIetnUGCCcji/MXB9ADF4\n",
       "UOVh1nH+ZWB5cBkU7Ako8tdgPDWGOxs2gBhvEfIBrKkbGISUgMCAYUqqsJsASHiKOsRPbC+UsMdf\n",
       "qc4ZpFAFAIbwN/uxrLzpAAAAAElFTkSuQmCC\n",
       "\" style=\"display:inline;vertical-align:middle;\" /></a>, <a class=\"ProveItLink\" href=\"../../../../../__pv_it/common/a0d9d672aa5e272d907247690c152cc2c6daafb70/expr.ipynb\"><img src=\"data:image/png;base64,iVBORw0KGgoAAAANSUhEUgAAAAsAAAAJBAMAAAAWSsseAAAAMFBMVEX///8AAAAAAAAAAAAAAAAA\n",
       "AAAAAAAAAAAAAAAAAAAAAAAAAAAAAAAAAAAAAAAAAAAv3aB7AAAAD3RSTlMAEHarMolUmd1mIs3v\n",
       "RLtmgJDEAAAACXBIWXMAAA7EAAAOxAGVKw4bAAAAQklEQVQI12NgEFIWCU1gYChgMmJvYOBcwPmR\n",
       "eQIDCwP7BgYQ4FEAU/cXMAowyF2wYWBlYMh3rGG4xsAgrsRWmcAAAFEjCyBvD0T9AAAAAElFTkSu\n",
       "QmCC\n",
       "\" style=\"display:inline;vertical-align:middle;\" /></a> : <a class=\"ProveItLink\" href=\"../../../__pv_it/axioms/5030b6ee29eff6a160af03dbd23eb366b96481650/expr.ipynb\"><img src=\"data:image/png;base64,iVBORw0KGgoAAAANSUhEUgAAAB0AAAAVBAMAAABI7vhRAAAAMFBMVEX///8AAAAAAAAAAAAAAAAA\n",
       "AAAAAAAAAAAAAAAAAAAAAAAAAAAAAAAAAAAAAAAAAAAv3aB7AAAAD3RSTlMAEHarMolUmd1mIs3v\n",
       "RLtmgJDEAAAACXBIWXMAAA7EAAAOxAGVKw4bAAAAnklEQVQY02NggIAFDKgglmZ8IWWR0AQgn1F9\n",
       "AoMwkF/AZMTeAOSzsh1gmM/AwLmA8yPzBCDfDShqx8DAwsC+AaxfgEeB4RDIACANNu++AMsXEP/+\n",
       "AkYBEL+agekAA4PcBRsGVrD8YwY+AwaGfMcahmtgfjHD/QkMDOJKbJUJYL5wUP0CVPdFI7uXdQPj\n",
       "MWQ+hwJzADKfbVItkv9UoDQAJC0iG7S7cQ8AAAAASUVORK5CYII=\n",
       "\" style=\"display:inline;vertical-align:middle;\" /></a>, <a class=\"ProveItLink\" href=\"../../../../../__pv_it/common/ff7dba4ef0bbe791ab573bf2d9c220a304399ac80/expr.ipynb\"><img src=\"data:image/png;base64,iVBORw0KGgoAAAANSUhEUgAAAAsAAAANBAMAAACN24kIAAAAMFBMVEX///8AAAAAAAAAAAAAAAAA\n",
       "AAAAAAAAAAAAAAAAAAAAAAAAAAAAAAAAAAAAAAAAAAAv3aB7AAAAD3RSTlMAEHaZZquJVO8y3btE\n",
       "zSKD2s2pAAAACXBIWXMAAA7EAAAOxAGVKw4bAAAAVklEQVQI12NgVHZgEGVgYGNvYPBnYJjOvIAh\n",
       "moFBgEOBoYmBgeG8AOdPIGXLwNQApLYycAcAKVOG8w5ASjTJ/gEDCOQCMdsFxnYgxaXAmgCk2J1s\n",
       "gCQAaFoNDtFIIdEAAAAASUVORK5CYII=\n",
       "\" style=\"display:inline;vertical-align:middle;\" /></a> : <a class=\"ProveItLink\" href=\"../../../__pv_it/axioms/6744a68a5439de682949954e9b865313c44e39d90/expr.ipynb\"><img src=\"data:image/png;base64,iVBORw0KGgoAAAANSUhEUgAAADYAAAAlBAMAAAD7KQfbAAAAMFBMVEX///8AAAAAAAAAAAAAAAAA\n",
       "AAAAAAAAAAAAAAAAAAAAAAAAAAAAAAAAAAAAAAAAAAAv3aB7AAAAD3RSTlMAEHaZZquJVO8y3btE\n",
       "zSKD2s2pAAAACXBIWXMAAA7EAAAOxAGVKw4bAAABN0lEQVQ4y2NgEDJhYAxgwA4SKhhYPmCX4iyw\n",
       "YmDdgF2OkaGJgUMBh5k8HxnmT8Ahx3yBQQOHFAN3AMNWXHLMATxfcMkxhin/QxNiv/Hj9qodDiAm\n",
       "2wU0OaatExgu8AIZuQwSBejWGDAwOaQDGYsYwtCtYX3AIM0ICo8S5QNws3atWgsJDwZLVlQ/81wS\n",
       "gIdkwGRUo94KIDwtsBFV7h6CWcaCFsRIXgH7gOE/GIDt6Fq1atVqiKMKchgYBJADCBGL0nxAdhyy\n",
       "mQvgrEigDxlREoMS3AcGh4EBsABZjrcA7oOLDHzbURIKY/RBCOPE3u7d/d0JqAGTDQmzAQNCqpJp\n",
       "BTjkDJiCmBdgl2J5wPKR1QFHXgElbJwAZ04BgvMPGAWwy0gfiGBgw6GrfqIFw3EccsJK7CY4vAcA\n",
       "XAZIRfal0/oAAAAASUVORK5CYII=\n",
       "\" style=\"display:inline;vertical-align:middle;\" /></a></span></td></tr><tr><td><a name=\"0x4517c6c48c148eea_step2\">2</a></td><td>theorem</td><td></td><td><span style=\"font-size:20px;\"> <a class=\"ProveItLink\" href=\"../../../../../logic/equality/_theory_nbs_/proofs/sub_left_side_into/thm_proof.ipynb\" style=\"text-decoration: none\">&nbsp;&#x22A2;&nbsp;&nbsp;</a><a class=\"ProveItLink\" href=\"../../../../../logic/equality/__pv_it/theorems/fa7b338ac0e02abe373a31648947826ee50d3a400/expr.ipynb\"><img src=\"data:image/png;base64,iVBORw0KGgoAAAANSUhEUgAAAMIAAAAXBAMAAACrPI2eAAAAMFBMVEX///8AAAAAAAAAAAAAAAAA\n",
       "AAAAAAAAAAAAAAAAAAAAAAAAAAAAAAAAAAAAAAAAAAAv3aB7AAAAD3RSTlMAq1RmmUTNIjK7EInv\n",
       "3XZ/CtNrAAAACXBIWXMAAA7EAAAOxAGVKw4bAAACs0lEQVRIx7VWS2gTURQ9k5l08uuYQkFEKQVB\n",
       "wQ9moyCoRIpUqEjQlVZsUEFwNV2KYutWlI4ULLowUQTNRqKIixahVNxUlFFwWRg/IEWIWfhNQL3v\n",
       "N3kxDIikF97c+w7nvfNy372PACtjrnA2VsqcQeHjAZBlwfru7Lv8++qaU2UWbVbQe2Af86e7dPRv\n",
       "QHKRfKqokJ4yLrJsed0RSPwCYjRg5RRk5pkI0oNdyv4PGk0KMi1sESbJ9XQpSck6DVLBhhZ2Enix\n",
       "tPS8SwqrKNtTVD0YoXH/7b05ys0DYD9wI2qJ1TbbKFIRrUC7n3stD468M2D5wA5gHDZVbLw0snd1\n",
       "588W7siXR30uzIKY5SMVPq+d284DkjFds2HQDWyhXcpptnQ38CRKwfSR9nFLgqORCiUVPKO6gsVL\n",
       "dorKK+AX3U9HiFIw8nDqonNEiUe3Q6hABcVuBMdoFPewaAF4RUn+cGGYJsezotelQmYQvVn4Eue1\n",
       "LYnQyEg0lQK/jDE3RWfZStHDM6zpGhinBH80vBPUkkEjMa8pTJTtfthFicfYRTCidZ1sOiTD+aoU\n",
       "bgKVwjqkKdxJ4zw7gfmytolcLhlMktxt3/E0hV21d2XEPYnHvZDIn09FRk9dKVCJbrt0AIdk4RqM\n",
       "amRlSfNn16gagabQxz6xrMQTXouok63Sz0BCV4A7tdgQS+cbRcvIl+Qyf9l7C5lJTeEpz7IncZ4l\n",
       "RhRZCsma9YaA7atogjZOVe35x8inqsQY02rJ/s6dD4E7gSSG2439XVRm2DPhG+iUZumUCzg4WiuT\n",
       "iw1d0xSWm7w+ZyDwpCuJcq0i6zajgrPteEy5u5jW+yHsNI5XQqIwRdat0iEl7KhyA/Fip4LlCnw4\n",
       "JApTZN1seeeO247nlDv8CZ0KmOU4e55yOqzI/2XtfxVS2vff7Q+ss7Q23lQ/yQAAAABJRU5ErkJg\n",
       "gg==\n",
       "\" style=\"display:inline;vertical-align:middle;\" /></a></span></td></tr>\n",
       "<tr><td>&nbsp;</td><td colspan=4 style-\"text-align:left\"><a class=\"ProveItLink\" href=\"../../../../../logic/equality/_theory_nbs_/proofs/sub_left_side_into/thm_proof.ipynb\">proveit.logic.equality.sub_left_side_into</a></td></tr><tr><td><a name=\"0x4517c6c48c148eea_step3\">3</a></td><td>instantiation</td><td><a href=\"#0x4517c6c48c148eea_step5\">5</a></td><td><span style=\"font-size:20px;\"> <a class=\"ProveItLink\" href=\"../../../__pv_it/_proof_divides_is_bool/8be3a7297514d35af8e1793149ea0fa448c754980/proof.ipynb\" style=\"text-decoration: none\">&nbsp;&#x22A2;&nbsp;&nbsp;</a><a class=\"ProveItLink\" href=\"../../../__pv_it/_proof_divides_is_bool/d4f3d4b86b7a4a04bae62d10320052aa87bd3a6f0/expr.ipynb\"><img src=\"data:image/png;base64,iVBORw0KGgoAAAANSUhEUgAAAHQAAAAmBAMAAADn8qLoAAAAMFBMVEX///8AAAAAAAAAAAAAAAAA\n",
       "AAAAAAAAAAAAAAAAAAAAAAAAAAAAAAAAAAAAAAAAAAAv3aB7AAAAD3RSTlMAmVSrZs0y7xCJ3bsi\n",
       "RHYwvcNTAAAACXBIWXMAAA7EAAAOxAGVKw4bAAACmElEQVRIx4VWS2gTQRj+NptNdvPYRFQ8ib14\n",
       "ErSniqZKLuLJunhpBJGoB8VLQ9EeqtiVgIIFk0sPIkg8FGHrYX1hTRH2YE89NAiCPWV9QbVQavER\n",
       "wdfubDbbTvInA5n8k+//Zv7X/BMAEPpADznXBcRWR+FdFsXO6EWdZoY1QAkVcJyA+2nqeWfbs0IF\n",
       "GQJ/TFNPOh89auMagd8kLQ413LmuR34QCgJpcazsztuhFgiFxG+KOsLseYI4ufkLCsg0E1TPUhpH\n",
       "KeAbm4v3dlkcsHvicnXmkiMsciWjPnj2ffwQEPE9meL3XBmABM2NRppD4kl7vlhDeM1dKJo8ylO3\n",
       "AB8V90BBa6NmFcuEyH6P2WKZpw5CNieZgWvt1HBfP6IssKGhnYErVWPa/dYh5AcY6Gd8xTC0FlVD\n",
       "ij8tebpVPecizMvIurd8sxycKr4qI8XnZD6ou9k4k2UvCYlcYPDylwPtkcepoETLQ57wl82SFVCn\n",
       "J+7rGOGpQTglX/7VXG4Ik3osh3rNXfxjgzk2bhjGDNN4r9Qgu8JX73I6gGE2qTCX2k6VzUBaAESr\n",
       "RZ3ceCrMeLvBFV8Q84NAKfA1tpkqYZGP8KovnEk6qTkYlLlqb6LuRcnmqJJvxqykY2GPm5VmXk8E\n",
       "1LLyOY0oX9ty5q1XGleG557/dO9q5I+HFF96KVeH59jNkUy+dpN3vULkWpAzlqrGxpsgFNBrKBWi\n",
       "zTZ6UqnWI6/3pKao1vOoJ7VudW1atz/cuEO9WlPUniVWxGn1sEBEA6Nk/Nx4h61wQyRcUukcjLlZ\n",
       "b+9drRGln98jnoJN4Z/oAEpZL4xy5xctcbXLk//QuYu1/VA6w7e6/V1wGtm+CzvwujP6tFvKE3lc\n",
       "Xw1t67y7XKNo/wHw56bXhpdkWwAAAABJRU5ErkJggg==\n",
       "\" style=\"display:inline;vertical-align:middle;\" /></a></span></td></tr>\n",
       "<tr><td>&nbsp;</td><td colspan=4 style=\"text-align:left\"><span style=\"font-size:20px;\"><a class=\"ProveItLink\" href=\"../../../../../__pv_it/common/a0d9d672aa5e272d907247690c152cc2c6daafb70/expr.ipynb\"><img src=\"data:image/png;base64,iVBORw0KGgoAAAANSUhEUgAAAAsAAAAJBAMAAAAWSsseAAAAMFBMVEX///8AAAAAAAAAAAAAAAAA\n",
       "AAAAAAAAAAAAAAAAAAAAAAAAAAAAAAAAAAAAAAAAAAAv3aB7AAAAD3RSTlMAEHarMolUmd1mIs3v\n",
       "RLtmgJDEAAAACXBIWXMAAA7EAAAOxAGVKw4bAAAAQklEQVQI12NgEFIWCU1gYChgMmJvYOBcwPmR\n",
       "eQIDCwP7BgYQ4FEAU/cXMAowyF2wYWBlYMh3rGG4xsAgrsRWmcAAAFEjCyBvD0T9AAAAAElFTkSu\n",
       "QmCC\n",
       "\" style=\"display:inline;vertical-align:middle;\" /></a> : <a class=\"ProveItLink\" href=\"../../../__pv_it/axioms/4cd8b2deb469a25c9ea89ff91870ec3f16b003b40/expr.ipynb\"><img src=\"data:image/png;base64,iVBORw0KGgoAAAANSUhEUgAAAAwAAAAlBAMAAACE+BUqAAAAMFBMVEX///8AAAAAAAAAAAAAAAAA\n",
       "AAAAAAAAAAAAAAAAAAAAAAAAAAAAAAAAAAAAAAAAAAAv3aB7AAAAD3RSTlMAEHaZZquJVO8y3btE\n",
       "zSKD2s2pAAAACXBIWXMAAA7EAAAOxAGVKw4bAAAAlElEQVQY02NgVHZgEGVgYGNvYPBnYJjOvIAh\n",
       "moFBgEOBoYmBgeG8AOdPIGXLwNQApLYycAcAKVOG8w5ASjTJ/gEDCOQCMdsFxnYgxaXAmgCk2J1s\n",
       "GAiA/2DAQCUgpCqZVsDAYMAUBHQ/ywOWj6wODJwMzBfAkkC/gMD5B4wCDNIHIhjYGBjqJ1owHGdg\n",
       "EFZiNylgAACJFR5fvAHzFwAAAABJRU5ErkJggg==\n",
       "\" style=\"display:inline;vertical-align:middle;\" /></a></span></td></tr><tr><td><a name=\"0x4517c6c48c148eea_step4\">4</a></td><td>instantiation</td><td><a href=\"#0x4517c6c48c148eea_step6\">6</a></td><td><span style=\"font-size:20px;\"> <a class=\"ProveItLink\" href=\"../../../__pv_it/_proof_divides_is_bool/2da05daef7a4c4ca7ae11e724e4861cc5af6e1af0/proof.ipynb\" style=\"text-decoration: none\">&nbsp;&#x22A2;&nbsp;&nbsp;</a><a class=\"ProveItLink\" href=\"../../../__pv_it/axioms/45c4177c16975bc95fdeddabadf78e5f55d437d60/expr.ipynb\"><img src=\"data:image/png;base64,iVBORw0KGgoAAAANSUhEUgAAAJQAAAAmBAMAAADQEK+ZAAAAMFBMVEX///8AAAAAAAAAAAAAAAAA\n",
       "AAAAAAAAAAAAAAAAAAAAAAAAAAAAAAAAAAAAAAAAAAAv3aB7AAAAD3RSTlMAInZUiRDNmWbv3US7\n",
       "qzJazP2FAAAACXBIWXMAAA7EAAAOxAGVKw4bAAADBUlEQVRIx5VWTWgTQRR+ye5mN7/uWYquFX8O\n",
       "VvYg9SIYVHopwiJIURK7IEIFD8GKthUxVlA8GS3+gIqFegoKQcVr4h9oq9AKioqUgIpYEPtjsFKI\n",
       "zs+mm85kmnFgZ2bnvflm5r33vRkAydK7nFA7BPJFH0cTNmQh3Vg85chDnUOfquTgYmOxMS6NlLiC\n",
       "qs/6MHwSKDyVhgolUeWELbgsUNgnfcLtRLPoJKrL2FKu3CH1cQjmBAqBGVlTVUjzGmLCxZ/hyvR+\n",
       "2LauxEukOQXFrAjqAvqCtvfT6bX3eb0VFCG94zS7Tvvtq6N3r6POagSzBRioIL/yzxpCByvZNAkh\n",
       "cFEnkgHNZaGAZwENTNXVhljJCYCNKj6X7oKe5aDOc1DvSB2x4klWMgFaKUXOMg1h4KDCXLjdIrUy\n",
       "eNI/WD5PjuOAXp4kwiq081Ahzli/2IFH6xa7PxIZEi9zcAw1e9oO7LIRlEd9lQueeTYg68z5PEYO\n",
       "oc1DD2oywTeIqZ016htk6wN5XO6RmXMsJf2YUJKDtDMLI2iqaVTiWQTlUV9h2ZHgoOq7bs0IN5Am\n",
       "9iS2lUf9xDQzM7pA4vQvLkT2HW+YMmCtWgANd35jKOQzi5qdUj/adFcpPxWXWhCvTAI1QrKHqTkY\n",
       "ilJfGWZsxUFFfHaWJwC6qa2eoDUKH0Alu6LUN0qsw1gPBq1a71sUhcJH6uXdKK997YcHBIpSX2dj\n",
       "Wptlo+PgYiiEHGjZRr08BdDVqvTZBIpSP1JgZ15jB9JjlBHRm4dfvfyDc1ViASLlJdGOqb+S4+AR\n",
       "buThaN5dMqBUwMj4UB71+7iJ/c0TrYp89diHotQPlPgk0/w+wf5K+VCU+jE+I3fbTaFwog3UHLvZ\n",
       "a9c0WDLTFKpoyt04Bol/rfXtl50ilQ7Jy0sjJNShzRoQqQzJXqlkzTPI/O8FCsK7lithHH1lxFGh\n",
       "gi0LRbOh8PEBsF7+fdVDaDIDewVPhkvyUPtN0MbiOUgKxLY8FLoYlGpXLiqY8uI/3qKwCrSj1taz\n",
       "gmDBueQfrHK+fU+0hiIAAAAASUVORK5CYII=\n",
       "\" style=\"display:inline;vertical-align:middle;\" /></a></span></td></tr>\n",
       "<tr><td>&nbsp;</td><td colspan=4 style=\"text-align:left\"><span style=\"font-size:20px;\"><a class=\"ProveItLink\" href=\"../../../../../__pv_it/common/a0d9d672aa5e272d907247690c152cc2c6daafb70/expr.ipynb\"><img src=\"data:image/png;base64,iVBORw0KGgoAAAANSUhEUgAAAAsAAAAJBAMAAAAWSsseAAAAMFBMVEX///8AAAAAAAAAAAAAAAAA\n",
       "AAAAAAAAAAAAAAAAAAAAAAAAAAAAAAAAAAAAAAAAAAAv3aB7AAAAD3RSTlMAEHarMolUmd1mIs3v\n",
       "RLtmgJDEAAAACXBIWXMAAA7EAAAOxAGVKw4bAAAAQklEQVQI12NgEFIWCU1gYChgMmJvYOBcwPmR\n",
       "eQIDCwP7BgYQ4FEAU/cXMAowyF2wYWBlYMh3rGG4xsAgrsRWmcAAAFEjCyBvD0T9AAAAAElFTkSu\n",
       "QmCC\n",
       "\" style=\"display:inline;vertical-align:middle;\" /></a> : <a class=\"ProveItLink\" href=\"../../../../../__pv_it/common/a0d9d672aa5e272d907247690c152cc2c6daafb70/expr.ipynb\"><img src=\"data:image/png;base64,iVBORw0KGgoAAAANSUhEUgAAAAsAAAAJBAMAAAAWSsseAAAAMFBMVEX///8AAAAAAAAAAAAAAAAA\n",
       "AAAAAAAAAAAAAAAAAAAAAAAAAAAAAAAAAAAAAAAAAAAv3aB7AAAAD3RSTlMAEHarMolUmd1mIs3v\n",
       "RLtmgJDEAAAACXBIWXMAAA7EAAAOxAGVKw4bAAAAQklEQVQI12NgEFIWCU1gYChgMmJvYOBcwPmR\n",
       "eQIDCwP7BgYQ4FEAU/cXMAowyF2wYWBlYMh3rGG4xsAgrsRWmcAAAFEjCyBvD0T9AAAAAElFTkSu\n",
       "QmCC\n",
       "\" style=\"display:inline;vertical-align:middle;\" /></a>, <a class=\"ProveItLink\" href=\"../../../../../__pv_it/common/ff7dba4ef0bbe791ab573bf2d9c220a304399ac80/expr.ipynb\"><img src=\"data:image/png;base64,iVBORw0KGgoAAAANSUhEUgAAAAsAAAANBAMAAACN24kIAAAAMFBMVEX///8AAAAAAAAAAAAAAAAA\n",
       "AAAAAAAAAAAAAAAAAAAAAAAAAAAAAAAAAAAAAAAAAAAv3aB7AAAAD3RSTlMAEHaZZquJVO8y3btE\n",
       "zSKD2s2pAAAACXBIWXMAAA7EAAAOxAGVKw4bAAAAVklEQVQI12NgVHZgEGVgYGNvYPBnYJjOvIAh\n",
       "moFBgEOBoYmBgeG8AOdPIGXLwNQApLYycAcAKVOG8w5ASjTJ/gEDCOQCMdsFxnYgxaXAmgCk2J1s\n",
       "gCQAaFoNDtFIIdEAAAAASUVORK5CYII=\n",
       "\" style=\"display:inline;vertical-align:middle;\" /></a> : <a class=\"ProveItLink\" href=\"../../../../../__pv_it/common/ff7dba4ef0bbe791ab573bf2d9c220a304399ac80/expr.ipynb\"><img src=\"data:image/png;base64,iVBORw0KGgoAAAANSUhEUgAAAAsAAAANBAMAAACN24kIAAAAMFBMVEX///8AAAAAAAAAAAAAAAAA\n",
       "AAAAAAAAAAAAAAAAAAAAAAAAAAAAAAAAAAAAAAAAAAAv3aB7AAAAD3RSTlMAEHaZZquJVO8y3btE\n",
       "zSKD2s2pAAAACXBIWXMAAA7EAAAOxAGVKw4bAAAAVklEQVQI12NgVHZgEGVgYGNvYPBnYJjOvIAh\n",
       "moFBgEOBoYmBgeG8AOdPIGXLwNQApLYycAcAKVOG8w5ASjTJ/gEDCOQCMdsFxnYgxaXAmgCk2J1s\n",
       "gCQAaFoNDtFIIdEAAAAASUVORK5CYII=\n",
       "\" style=\"display:inline;vertical-align:middle;\" /></a></span></td></tr><tr><td><a name=\"0x4517c6c48c148eea_step5\">5</a></td><td>conjecture</td><td></td><td><span style=\"font-size:20px;\"> <a class=\"ProveItLink\" href=\"../../../../number_sets/integers/_theory_nbs_/proofs/int_membership_is_bool/thm_proof.ipynb\" style=\"text-decoration: none\">&nbsp;&#x22A2;&nbsp;&nbsp;</a><a class=\"ProveItLink\" href=\"../../../../number_sets/integers/__pv_it/theorems/774e1a59d5b5ceea98fb0111d92ceeb92ae23bce0/expr.ipynb\"><img src=\"data:image/png;base64,iVBORw0KGgoAAAANSUhEUgAAAJkAAAAVBAMAAACnAFEqAAAAMFBMVEX///8AAAAAAAAAAAAAAAAA\n",
       "AAAAAAAAAAAAAAAAAAAAAAAAAAAAAAAAAAAAAAAAAAAv3aB7AAAAD3RSTlMAq1RmmUTNIjK7EInv\n",
       "3XZ/CtNrAAAACXBIWXMAAA7EAAAOxAGVKw4bAAACaklEQVQ4y31UTWgTQRh9ye4m2d12CYho9RLQ\n",
       "mz8EqYoXDYhaECUHT1pkwYNYiqwIBaFKBG8eXAUrLSoRRKinGPDgRXKtUpuDFgUX1j+EisGT9eDB\n",
       "b2Y2k53srh+8zOybzJvvbwZIWjFChmUteen05wjDlp/+eyG4XzVClXY+zv1e3gicpXmZEduUTS2B\n",
       "hDm3G3ALwJch3jTCmUd1OFXgCPs+H198EiFheo12tIFCc1itans+MAVcZ5nw44uHIyQs52HRor9q\n",
       "tYSaVqEYx8VBdiW+2IkwiPBBsMpGC5jINWjySuW5mguMNKFRtAUlba6ANOOijKxUvsGGcypParnL\n",
       "lOgCSS0HwWslOy0Bq7flZpsRM4M0mc0FNjyDwpvG2s+tNNoU7QSwEFdjJzDo+BSeGCrRDo13xz4o\n",
       "vGmsrrwlaY0iuoRiOa42WhHYj0PNDYyIRe2KnOyEwlOkzl4qaL7DvLfrcbWRukADR0WuKBXBB5H2\n",
       "ynOAnLil8qQG/wwxv0gxVIog1YA3/NsatM8ia6VNwKTKczWTysI6wT1IP71jXz01UhjreMqIrlTb\n",
       "TB1nkQO7oPBcjVzKM6ZNITveWCFqOjPksO7mOuD3qyf7o3aKWpi2HIDCc7XdVAXm7SwVQcPDUrTG\n",
       "6kzI/3ncMfgB/WMow1Mo3qEtx6HyRsv+URN9Bd7eWJcedDmsk+H2PSJxY6fFyuTc0vzKEm15p/DO\n",
       "9Dx/QzAqq1nqyGfrfYTBZXghbpB84Lrp/NX+ZNZ29f58PEKm6dV0Xj4V+reXazKpnkCmXcl4k/00\n",
       "ljWS5f9H7V46neHBtQgZ5mT4/R34Bw4onG8N1xVLAAAAAElFTkSuQmCC\n",
       "\" style=\"display:inline;vertical-align:middle;\" /></a></span></td></tr>\n",
       "<tr><td>&nbsp;</td><td colspan=4 style-\"text-align:left\"><a class=\"ProveItLink\" href=\"../../../../number_sets/integers/_theory_nbs_/proofs/int_membership_is_bool/thm_proof.ipynb\">proveit.numbers.number_sets.integers.int_membership_is_bool</a></td></tr><tr><td><a name=\"0x4517c6c48c148eea_step6\">6</a></td><td>axiom</td><td></td><td><span style=\"font-size:20px;\"> <a class=\"ProveItLink\" href=\"../../axioms.ipynb#divides_def\" style=\"text-decoration: none\">&nbsp;&#x22A2;&nbsp;&nbsp;</a><a class=\"ProveItLink\" href=\"../../../__pv_it/axioms/4db0f292ce4a27734d1fb2121a85530bf79b23460/expr.ipynb\"><img src=\"data:image/png;base64,iVBORw0KGgoAAAANSUhEUgAAANwAAAAmBAMAAABdfejNAAAAMFBMVEX///8AAAAAAAAAAAAAAAAA\n",
       "AAAAAAAAAAAAAAAAAAAAAAAAAAAAAAAAAAAAAAAAAAAv3aB7AAAAD3RSTlMAq1RmmUTNIjK7EInv\n",
       "3XZ/CtNrAAAACXBIWXMAAA7EAAAOxAGVKw4bAAAES0lEQVRYw41XX2gcRRj/bu/2bm/3cgkIbVNr\n",
       "ODAIRYpBpKUgadraKpho6EMffDAHeRBbketLMFLpVXxqI422RWybsIU+GDV/LKQgQjjbpn+xxkLV\n",
       "UA4uGlvrQwitpSEVdeabnZ3NzszefnC/nduZnd/M933z228BImwbxLVUIaLT3iMwao6m2HRbyXTz\n",
       "bXBa3fuxK1BvG2OzJYsAjlGBLZruJoFas67FphsgC/8wNQPNmv5PA6iz9ERsur3k5+ZqcEPT/7Ur\n",
       "UGfPuXHZjGWKPa61FJkF0blwO/bmGtAPOyFf0QzIPBKoC91ybLoj6IdPIKtd/skAqi0xiJeS9zd8\n",
       "DVqzdxh62nSTvRhAtTXis3l+fie965uKoQ8QT0+9Hl7LMz9eGpq9QBoHcBqCuP+nVR7CZ5+FEF1e\n",
       "3oHFY3Iu3HNvDaShSKPbAQx30OtbCjo8snYxTAeyFiUXKTpF+3y45yWA3x26sRTOQ/AgTZlBBd0q\n",
       "HNAm0b0gRxnnaqglpIO6GuzBEfTJoodpklWOSmC/p5ADiS4nHcccBsRo3+HfyQ9Vf6ZXF1LlNdi5\n",
       "5GGSrD+tSpXHGGuZLi0FrzG8K/Ndf0kHLYyadZ/jD9XqddCl26vkNzb3xXcFQudJvtOkzuGA9QkH\n",
       "nMhi237A8RVyTyUEuJ5e8uvItxD1neSSn8RIdVWp/QTgZ3nAROYZE+2s8S/HfZBRiQHb/k0yfSm5\n",
       "nGgjdJ7kG5JSHQnTFYXM8/ZjjlnX6VbQmQ8pThNelsWTXPKtxfDQHvp843/UsM8i8anOYtdvZG6b\n",
       "Nv4GD42aMlPY7qYx82osVZjkm3V3Zw+KVj85J6UgHRSpexdenid3zTlIhJ1JaEq2S+mY5Bsz4dhJ\n",
       "zpzxT2R5NcD4itjBWaIT+VJzmjw01ugO8FTBXBoGGOleBw7ujkl+UtKEA+HMXOCNj0xyDJ4Sskpx\n",
       "P50Dhi3SfH8D3ON+wPV8Q96yhzphF9IxyU9J2jFeC9cBfLsniIj0r/fzHDFRpk0ms09CC3/mIlZP\n",
       "AGcWjO0FpGOS3yAlVq4jXOk1v8HS7eo7n5/6h77lLEw8htiqZOjlFlzhd95GISyvUBUq+R/IRY3k\n",
       "XvNbJmKh8sLgb+z9TjEFXwH8avpp3oli3yHoPMnfLlcilbrve2dGIH3ij6m/YKAArZv9I7oF1ecz\n",
       "QcckX/H2SNYvM1hZESouCnYp62fZOMZ7RNAxyc/K1YN9vy4dk9WV4mq6idpusSD0Y4Zn3Z/e9a5i\n",
       "smN16XpKAn2ngNkusjxZPyIrCh97Ye3hs7oR59TFRdBFD2PTjdOzkYK5WpduxPkARq4ojjk0vzaR\n",
       "5HpCM4DVu/lIf+XKsfnoYS0TTdVOVRAY9RUV09in2Q1t/50Aaq03Nh3WL+Yj+FLziXBZoN5GS3Hp\n",
       "7F/APp6ogOYTbbQgUG+ZPbG31+caS2cqpmbCowGMsPdi02XK9mu11uc1e+/28X/YOCadZYDVZwAA\n",
       "AABJRU5ErkJggg==\n",
       "\" style=\"display:inline;vertical-align:middle;\" /></a></span></td></tr>\n",
       "<tr><td>&nbsp;</td><td colspan=4 style-\"text-align:left\"><a class=\"ProveItLink\" href=\"../../axioms.ipynb#divides_def\">proveit.numbers.divisibility.divides_def</a></td></tr></table>"
      ],
      "text/plain": [
       "\tstep type\trequirements\tstatement\n",
       "0\tgeneralization\t1\t|- forall_{x, y} ((x | y) in BOOLEAN)\n",
       "1\tinstantiation\t2, 3, 4\t|- (x | y) in BOOLEAN\n",
       "\tP(_a) : _a in BOOLEAN, x : x | y, y : (y / x) in Integer\n",
       "2\ttheorem\t\t|- forall_{P, x, y | P(y), x = y} P(x)\n",
       "\tproveit.logic.equality.sub_left_side_into\n",
       "3\tinstantiation\t5\t|- ((y / x) in Integer) in BOOLEAN\n",
       "\tx : y / x\n",
       "4\tinstantiation\t6\t|- (x | y) = ((y / x) in Integer)\n",
       "\tx : x, y : y\n",
       "5\tconjecture\t\t|- forall_{x} ((x in Integer) in BOOLEAN)\n",
       "\tproveit.numbers.number_sets.integers.int_membership_is_bool\n",
       "6\taxiom\t\t|- forall_{x, y} ((x | y) = ((y / x) in Integer))\n",
       "\tproveit.numbers.divisibility.divides_def"
      ]
     },
     "execution_count": 9,
     "metadata": {},
     "output_type": "execute_result"
    }
   ],
   "source": [
    "%qed"
   ]
  },
  {
   "cell_type": "code",
   "execution_count": null,
   "metadata": {},
   "outputs": [],
   "source": []
  }
 ],
 "metadata": {
  "kernelspec": {
   "display_name": "Python 3",
   "language": "python",
   "name": "python3"
  }
 },
 "nbformat": 4,
 "nbformat_minor": 0
}