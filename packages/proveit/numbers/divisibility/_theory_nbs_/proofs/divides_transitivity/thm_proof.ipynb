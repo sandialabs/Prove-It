{
 "cells": [
  {
   "cell_type": "markdown",
   "metadata": {},
   "source": [
    "Proof of <a class=\"ProveItLink\" href=\"../../../../../_theory_nbs_/theory.ipynb\">proveit</a>.<a class=\"ProveItLink\" href=\"../../../../_theory_nbs_/theory.ipynb\">numbers</a>.<a class=\"ProveItLink\" href=\"../../theory.ipynb\">divisibility</a>.<a class=\"ProveItLink\" href=\"../../theorems.ipynb#divides_transitivity\">divides_transitivity</a> theorem\n",
    "========"
   ]
  },
  {
   "cell_type": "code",
   "execution_count": 1,
   "metadata": {},
   "outputs": [],
   "source": [
    "import proveit\n",
    "theory = proveit.Theory() # the theorem's theory"
   ]
  },
  {
   "cell_type": "code",
   "execution_count": 2,
   "metadata": {},
   "outputs": [
    {
     "data": {
      "text/html": [
       "With these <a href=\"allowed_presumptions.txt\">allowed</a>/<a href=\"disallowed_presumptions.txt\">disallowed</a> theorem/theory presumptions (e.g., to avoid circular dependencies), we begin our proof of<br><strong id=\"divides_transitivity\">divides_transitivity:</strong> <a class=\"ProveItLink\" href=\"../../../__pv_it/theorems/ca39d4d0d9caa3c5e2512e1e8653cc0d3dde150f0/expr.ipynb\"><img src=\"data:image/png;base64,iVBORw0KGgoAAAANSUhEUgAAAKsAAAAXBAMAAACGzqIkAAAAMFBMVEX///8AAAAAAAAAAAAAAAAA\n",
       "AAAAAAAAAAAAAAAAAAAAAAAAAAAAAAAAAAAAAAAAAAAv3aB7AAAAD3RSTlMAq1RmmUTNIjK7EInv\n",
       "3XZ/CtNrAAAACXBIWXMAAA7EAAAOxAGVKw4bAAACjElEQVQ4y62VT2jTcBTHv2mT5k+7ruBJhRFw\n",
       "By9CEUEEmYOhG4JjUBR0MMsuAw8SD3qYc9TDDmInAdGDBwkqCg4kDhHmQYqHIYjSi9LLIJPJ0MHY\n",
       "beLJ935pkyZtUYyB7vv7JS+fvXx/7/d+QPJLjamF/3J9bWp2wtcp+hV4cCAJNeXGsPkicJIHM0mw\n",
       "TxHD4hJwk02xk2BHOrBHgIxDczMJttaBzTlIkxGZRNaWO7AZYn5cW/uQBCvTihnb+24vC+xiQy0i\n",
       "S3UwBjzo9UY4HI48aJ9xajLWvTOMNS6vvATS9AFXoBZ6YPVwGF3U9lkfLcxRnHD2MFZ18IZ8Ibt1\n",
       "J/Dkn7A5eruCUy1vl6gEtB1Cez1X7K+xwKcmVvVooHBxlIfoz/boBm1lZR0SBy3OnA2x+Y35UQJN\n",
       "FcSOFGJD+3J1IjQByi6eC2wJBmVap1vLtCny1t4MPX7R71Q5dGxyOMRuSvY0bMP7pVESvtiQF161\n",
       "PsmDcU+qwWVsyuS80vw1c5REGg81Gs4ewncRe73NhKLuVWCrj+p5ivaFB0EnKCD180lNMRl7a2Wr\n",
       "4dccpAo/3RUx+zHAonnt3vZb7KbkSnxXCGHvtLzV6jDGvcHDwls3tUpO9AU1oNVEt/yM9ywlzLZh\n",
       "q9RBbYrN8f8XYkMpUi35V6Njl91o3ZnLlmUsUYiyQ6JOL9gBVq29pvInbOUiDFcIza4dPI+wscSw\n",
       "QfORv739gaqJwWNlEvnxqhVmOz657RAoNXIf2jshNDt9PGimuhXDxhuiaVg6bUWza90+w10qHV8i\n",
       "7xl2DKtHTx3FkbxzLF2xAwrt9Au+RNOZb2q+4utmNNk0lCGXpSu2tMXF5kuith8cpR2n6R/P1t/0\n",
       "e6GoOgTeXgAAAABJRU5ErkJggg==\n",
       "\" style=\"display:inline;vertical-align:middle;\" /></a><br>(see <a class=\"ProveItLink\" href=\"../../../__pv_it/theorems/c0038f66e59b0762a81795dcc659d5622e49a1110/dependencies.ipynb\">dependencies</a>)<br>"
      ],
      "text/plain": [
       "<IPython.core.display.HTML object>"
      ]
     },
     "metadata": {},
     "output_type": "display_data"
    },
    {
     "name": "stdout",
     "output_type": "stream",
     "text": [
      "divides_transitivity may now be readily provable (assuming required theorems are usable).  Simply execute \"%qed\".\n"
     ]
    }
   ],
   "source": [
    "%proving divides_transitivity"
   ]
  },
  {
   "cell_type": "code",
   "execution_count": null,
   "metadata": {},
   "outputs": [],
   "source": []
  }
 ],
 "metadata": {
  "kernelspec": {
   "display_name": "Python 3",
   "language": "python",
   "name": "python3"
  }
 },
 "nbformat": 4,
 "nbformat_minor": 0
}