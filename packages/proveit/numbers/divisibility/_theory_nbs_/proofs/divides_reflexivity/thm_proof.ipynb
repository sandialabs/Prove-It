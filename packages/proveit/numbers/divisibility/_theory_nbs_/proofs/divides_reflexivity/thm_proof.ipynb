{
 "cells": [
  {
   "cell_type": "markdown",
   "metadata": {},
   "source": [
    "Proof of <a class=\"ProveItLink\" href=\"../../../../../_theory_nbs_/theory.ipynb\">proveit</a>.<a class=\"ProveItLink\" href=\"../../../../_theory_nbs_/theory.ipynb\">numbers</a>.<a class=\"ProveItLink\" href=\"../../theory.ipynb\">divisibility</a>.<a class=\"ProveItLink\" href=\"../../theorems.ipynb#divides_reflexivity\">divides_reflexivity</a> theorem\n",
    "========"
   ]
  },
  {
   "cell_type": "code",
   "execution_count": 1,
   "metadata": {},
   "outputs": [],
   "source": [
    "import proveit\n",
    "theory = proveit.Theory() # the theorem's theory"
   ]
  },
  {
   "cell_type": "code",
   "execution_count": 2,
   "metadata": {},
   "outputs": [
    {
     "data": {
      "text/html": [
       "With these <a href=\"allowed_presumptions.txt\">allowed</a>/<a href=\"disallowed_presumptions.txt\">disallowed</a> theorem/theory presumptions (e.g., to avoid circular dependencies), we begin our proof of<br><strong id=\"divides_reflexivity\">divides_reflexivity:</strong> <a class=\"ProveItLink\" href=\"../../../__pv_it/theorems/44c70e76a6c3ab3156ba12ebe489870545e51c0a0/expr.ipynb\"><img src=\"data:image/png;base64,iVBORw0KGgoAAAANSUhEUgAAAJQAAAAXCAMAAADaxpaQAAAAOVBMVEX///8AAAAAAAAAAAAAAAAA\n",
       "AAAAAAAAAAAAAAAAAAAAAAAAAAAAAAAAAAAAAAAAAAAAAAAAAAAAAAACXHtMAAAAEnRSTlMAq1Rm\n",
       "mUTNIjK7EInv3Xbt5cmRiLwgAAAACXBIWXMAAA7EAAAOxAGVKw4bAAACLklEQVRIx8VWiZKlIAwM\n",
       "92lm1///2AmHiMhTd6rcod6zpDXYpJsAwH9t5qZ/Bt5vyAcgqAFQmK6s9bl4mxMPcEcKMLGQDdZv\n",
       "p85ruCcF2gPYLVXGvZ0oKZ6QErIyy8/526QiPCEFkQiJyl+/7ij9jJROhOKSWgyvq1e/4BGZtyEr\n",
       "U0j1CGHJUNKmW+f/YfhLO396oEWLRoYgl0aqR0i6lFHDtsun6uIkQ4M7cLUkymdCwFPml5IIQYtc\n",
       "rB6Y2N4+ICRz3JJ0Ftcic45Q7xgFcRcekSqTEzQDNb4VyyeSLlL3Uzgg1F0zNZzYXBZVKc7nHIln\n",
       "pFgudjHFrmZKKt/iaPS4C6FiXXiiYojS0K8W1mwRYdW4K/WkWkQZMFM3azJW5FP50luJr/cdqR2h\n",
       "HC21RNVihQaYA81Js7aQDT9V+o5Ui5AutS/6CxIgDbcMtdLliXuyBEu5CFumjghpUoY3sdpc5FDK\n",
       "vWoDCi/8BakWsW9cUEl1iuxLHfhqvSQKim+kjsheOphtocUJQueJOw7WKntB6uCdLb9FvnWQz2ZZ\n",
       "vEQELgVvnjoilOHzmovZPXa3dTV6X3/cJCLJ9+evy/LNjQ6LfVLRzTL0IwRdauNeS03INg7TOtVF\n",
       "dHs7uZ/UYNOt9pbUaduWqAKiz2eGNi0fSEtp5/LtEYdNgYqnPJd2Z+5JXR5WfEhSqOmzeRzH2wOV\n",
       "uyflfnqqm5N6cMwwI28cbYY/PmlOSXEFv9rePjd/A2rQEXEfWRMGAAAAAElFTkSuQmCC\n",
       "\" style=\"display:inline;vertical-align:middle;\" /></a><br>(see <a class=\"ProveItLink\" href=\"../../../__pv_it/theorems/d4b319791674a4f53b14e5177814bc54d35494730/dependencies.ipynb\">dependencies</a>)<br>"
      ],
      "text/plain": [
       "<IPython.core.display.HTML object>"
      ]
     },
     "metadata": {},
     "output_type": "display_data"
    }
   ],
   "source": [
    "%proving divides_reflexivity"
   ]
  },
  {
   "cell_type": "code",
   "execution_count": null,
   "metadata": {},
   "outputs": [],
   "source": []
  }
 ],
 "metadata": {
  "kernelspec": {
   "display_name": "Python 3",
   "language": "python",
   "name": "python3"
  }
 },
 "nbformat": 4,
 "nbformat_minor": 0
}