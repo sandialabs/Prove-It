{
 "cells": [
  {
   "cell_type": "markdown",
   "metadata": {},
   "source": [
    "Proof of <a class=\"ProveItLink\" href=\"../../../../../_theory_nbs_/theory.ipynb\">proveit</a>.<a class=\"ProveItLink\" href=\"../../../../_theory_nbs_/theory.ipynb\">numbers</a>.<a class=\"ProveItLink\" href=\"../../theory.ipynb\">divisibility</a>.<a class=\"ProveItLink\" href=\"../../theorems.ipynb#divides_anti_symmetry\">divides_anti_symmetry</a> theorem\n",
    "========"
   ]
  },
  {
   "cell_type": "code",
   "execution_count": 1,
   "metadata": {},
   "outputs": [],
   "source": [
    "import proveit\n",
    "theory = proveit.Theory() # the theorem's theory"
   ]
  },
  {
   "cell_type": "code",
   "execution_count": 2,
   "metadata": {},
   "outputs": [
    {
     "data": {
      "text/html": [
       "With these <a href=\"allowed_presumptions.txt\">allowed</a>/<a href=\"disallowed_presumptions.txt\">disallowed</a> theorem/theory presumptions (e.g., to avoid circular dependencies), we begin our proof of<br><strong id=\"divides_anti_symmetry\">divides_anti_symmetry:</strong> <a class=\"ProveItLink\" href=\"../../../__pv_it/theorems/4ea54d9bff5cf73d901a794eb2ab335d7514cfb90/expr.ipynb\"><img src=\"data:image/png;base64,iVBORw0KGgoAAAANSUhEUgAAAT8AAAAXBAMAAACPAFV3AAAAMFBMVEX///8AAAAAAAAAAAAAAAAA\n",
       "AAAAAAAAAAAAAAAAAAAAAAAAAAAAAAAAAAAAAAAAAAAv3aB7AAAAD3RSTlMAq1RmmUTNIjK7EInv\n",
       "3XZ/CtNrAAAACXBIWXMAAA7EAAAOxAGVKw4bAAADYUlEQVRIx81XT0gUURj/Zndm3TfrTkInK2Qh\n",
       "8SLRFkJ0UVO0wP5Ih4660EEQguniITS2jqVghxA6yAgSWSCrhy6BLEEQRLEIRRdhDEPqsHhTOvX+\n",
       "OjPvD9QI0Qe/93Z+7/vm/fa9730zA3AUa+EwmP8HjJb3YziSfeMw2JhMeCW9o8yPxdBGiNPp9GVq\n",
       "DCbzyhLRbXDs1gQKDBFiIp3A5xxGmySNFeAmH+LGrejdVH4ywgOSRvPpBA5yGK2HNFmiDVVxY5f1\n",
       "birfEyGH/1+hlE5gncNorWTxoIExRS9NbtpAjixWn0uZghUGs+Xo0qxjDJAfXQa3Lm2gwMetrQ/p\n",
       "BNo1Brd54vG6lFU7ZVjCW0OP4BRfRRjBWN1+8UbesBFtoMAVgGfK3P2RiqQm3d+0YTu8Rga3qBFR\n",
       "hUwd+nD60fW1quCRPITb5M5eh91IOlOeWyxQ4C60tCkCo1ODEnziqlhiuAB9wfFk/EMsoh0nAM3Q\n",
       "fBsUaTJu4hn97C9LPhOb2kABFBRG0wlsHWWowrAcH7SG8AlL2wNWxTpp/w4zYKtZi3n3Dl3QaixQ\n",
       "IBNqzshfCQRyS8nGg/wBgFPndXhCCMERoU6gJlAAKr24aV7ewQ8+ZxusmEBCIkHSDgnP+BaDsw8v\n",
       "pbQaBo/sUIM55uejrRz33UByjm1xLFAA1nG59vz2HJ5q9VgwGwmkJBIk7ZDwpMsZUrhPrTrID7wn\n",
       "gPDcWSbMO8eSaBFgZfQUFOQVXNQGCsA0IWAxj3/eOwM/IoGURIKkHRKe9MSxOpA5WK47cuW4BONl\n",
       "VoRI7fjCyDWAs4+uwk1Z4Jo2UIBUAWz7dPgkdMRzcJ9mHSdJhw49yelsULjXw87z8pxLGzdwIhT5\n",
       "8Rtg3RzAcjMzqDy35rSBAnyyOn2v+wzvYwIJiQ5J0qFDT2JfObT2GmMmSRWretckLwJn4jeYLlRs\n",
       "eIWnc/YigZREjORjiJHSI121QsV9q75JZPv1AmN8LDDxKmJ/3/gJsyXovFiJBFISCyQkH0OMFEXH\n",
       "Z9CsSWjVNG9JC4bVXtAECsSt5PqorNRBRrKxZFV05xk07xG9Q6ARv2IQuKIJ1Px7J7DCW2qhpiQf\n",
       "SwqE+xwG21W+YULDt02oBu6qN8iC01tTBVKSjyH4T8xPfLiB4epf2G+nkRDn1555EAAAAABJRU5E\n",
       "rkJggg==\n",
       "\" style=\"display:inline;vertical-align:middle;\" /></a><br>(see <a class=\"ProveItLink\" href=\"../../../__pv_it/theorems/f47b1dc73c976d6ec289d485abc5d9c2de5a6f860/dependencies.ipynb\">dependencies</a>)<br>"
      ],
      "text/plain": [
       "<IPython.core.display.HTML object>"
      ]
     },
     "metadata": {},
     "output_type": "display_data"
    }
   ],
   "source": [
    "%proving divides_anti_symmetry"
   ]
  },
  {
   "cell_type": "code",
   "execution_count": null,
   "metadata": {},
   "outputs": [],
   "source": []
  }
 ],
 "metadata": {
  "kernelspec": {
   "display_name": "Python 3",
   "language": "python",
   "name": "python3"
  }
 },
 "nbformat": 4,
 "nbformat_minor": 0
}