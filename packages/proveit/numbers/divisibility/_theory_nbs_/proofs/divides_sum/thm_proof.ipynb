{
 "cells": [
  {
   "cell_type": "markdown",
   "metadata": {},
   "source": [
    "Proof of <a class=\"ProveItLink\" href=\"../../../../../_theory_nbs_/theory.ipynb\">proveit</a>.<a class=\"ProveItLink\" href=\"../../../../_theory_nbs_/theory.ipynb\">numbers</a>.<a class=\"ProveItLink\" href=\"../../theory.ipynb\">divisibility</a>.<a class=\"ProveItLink\" href=\"../../theorems.ipynb#divides_sum\">divides_sum</a> theorem\n",
    "========"
   ]
  },
  {
   "cell_type": "code",
   "execution_count": 1,
   "metadata": {},
   "outputs": [],
   "source": [
    "import proveit\n",
    "theory = proveit.Theory() # the theorem's theory"
   ]
  },
  {
   "cell_type": "code",
   "execution_count": 2,
   "metadata": {},
   "outputs": [
    {
     "data": {
      "text/html": [
       "With these <a href=\"allowed_presumptions.txt\">allowed</a>/<a href=\"disallowed_presumptions.txt\">disallowed</a> theorem/theory presumptions (e.g., to avoid circular dependencies), we begin our proof of<br><strong id=\"divides_sum\">divides_sum:</strong> <a class=\"ProveItLink\" href=\"../../../__pv_it/theorems/b8b1a2aa009e1ceb1f211ba207ac5317a4850a610/expr.ipynb\"><img src=\"data:image/png;base64,iVBORw0KGgoAAAANSUhEUgAAAOQAAAAXBAMAAADpf/4JAAAAMFBMVEX///8AAAAAAAAAAAAAAAAA\n",
       "AAAAAAAAAAAAAAAAAAAAAAAAAAAAAAAAAAAAAAAAAAAv3aB7AAAAD3RSTlMAq1RmmUTNIjK7EInv\n",
       "3XZ/CtNrAAAACXBIWXMAAA7EAAAOxAGVKw4bAAADLUlEQVRIx62WQWgTQRSG/012s5tNmgY8aaEs\n",
       "tAcPLQQRpSA1ELRFaSkUBa3UUA8FDxIPCtZa4qEHsdoVUcGDLCoVrJRYpFAPEjwUUZRcKj0YWTVS\n",
       "tFIKHio9+WY32d1pNmKNA5OZf+Ztvpn3Zt4uUH+R+VauZZf50+TWyudyG+njZFUZpCqZQJyJlnqI\n",
       "gRyHdGRViSXo5wtwgInhepBT4JBTtS1PUw0ZuMwcrNeDTPHIlHdOSnjVbqrBJKMiotWDzPPIPOd0\n",
       "06uixMJrBGkdobpCmeaQrqxGhtieTwFvi8U39SBFOi7q6o6rszaSyZkU1DiPvLYkJxBhg0+BbuBu\n",
       "rX9zu0luIrlp6SI+mT02kslcG4JrHFI9M0+oIPPAHuAs5HgNZNjt8gfMqxroIOzFfmObjSSpaD0Q\n",
       "dA4pG3hOisW5jf7XKF/hf0RG6eksDlZiSVLFO0SJJRaLHyhs9oam6egobOuTbCE1T89fI0EQFwlp\n",
       "A5NZPpYy60hslyeopjvpZ7WrRClQ+gTBCvbwERcZK411EWQwbmWqslLen+tzHQtpHY8dx0JM48em\n",
       "E9tPe0egQL12qrOUFGKZ7SGynWk0JphB90DSRS4L+hB01dxQ8o6COP6s4goT6i0hj5yNJIlwHDd4\n",
       "ZEBjewky73RQHaXFB3FPoe5IO75ZJhc9jk2EzSx0+X4hpjuKPOVk1jgCvx7mJc1GsosgxqWfPPLK\n",
       "/MqSfYFwmKpguX3dmmpCM2sU0xvLxgyLnpATTFfheiWWSgFqr9m6qxxLklCbSus8MhdYoMkGZrDo\n",
       "PJi33mSLeGV7fsSDnKA3nU720ayrpIRslB9d4hOeJSNpv+xziZ2jQlmMRtIipsleWqNGHhrXHaSc\n",
       "n6OrT8jsSai5ijq/85g3WXuQJOfwRPNL6yzji5UR8euL75jQ0NqRpkZ8sJBxd9k7sGoQJJC6DeVl\n",
       "RR3a57zwwhkOSfIjBcjv64Ht4wI/pqmZMC1C872Xj3CTHOVzS1WdQ5JsKfkmF2ttd7ghyRDMo6zx\n",
       "RTZLFJ/jfolhrPLWz3Kyqiwzmww3FITUmWONL7J/hV0RP+T/LDL/dVZLbbH8Bm121CYquaDfAAAA\n",
       "AElFTkSuQmCC\n",
       "\" style=\"display:inline;vertical-align:middle;\" /></a><br>(see <a class=\"ProveItLink\" href=\"../../../__pv_it/theorems/74b4d7b224eac25ee0acfa72d8093938be3c8bef0/dependencies.ipynb\">dependencies</a>)<br>"
      ],
      "text/plain": [
       "<IPython.core.display.HTML object>"
      ]
     },
     "metadata": {},
     "output_type": "display_data"
    }
   ],
   "source": [
    "%proving divides_sum"
   ]
  },
  {
   "cell_type": "code",
   "execution_count": null,
   "metadata": {},
   "outputs": [],
   "source": []
  }
 ],
 "metadata": {
  "kernelspec": {
   "display_name": "Python 3",
   "language": "python",
   "name": "python3"
  }
 },
 "nbformat": 4,
 "nbformat_minor": 0
}