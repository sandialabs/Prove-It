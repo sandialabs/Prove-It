{
 "cells": [
  {
   "cell_type": "markdown",
   "metadata": {},
   "source": [
    "Proof of <a class=\"ProveItLink\" href=\"../../../../../_theory_nbs_/theory.ipynb\">proveit</a>.<a class=\"ProveItLink\" href=\"../../../../_theory_nbs_/theory.ipynb\">numbers</a>.<a class=\"ProveItLink\" href=\"../../theory.ipynb\">divisibility</a>.<a class=\"ProveItLink\" href=\"../../theorems.ipynb#common_exponent_elimination\">common_exponent_elimination</a> theorem\n",
    "========"
   ]
  },
  {
   "cell_type": "code",
   "execution_count": 1,
   "metadata": {},
   "outputs": [],
   "source": [
    "import proveit\n",
    "theory = proveit.Theory() # the theorem's theory"
   ]
  },
  {
   "cell_type": "code",
   "execution_count": 2,
   "metadata": {},
   "outputs": [
    {
     "data": {
      "text/html": [
       "With these <a href=\"allowed_presumptions.txt\">allowed</a>/<a href=\"disallowed_presumptions.txt\">disallowed</a> theorem/theory presumptions (e.g., to avoid circular dependencies), we begin our proof of<br><strong id=\"common_exponent_elimination\">common_exponent_elimination:</strong> <a class=\"ProveItLink\" href=\"../../../__pv_it/theorems/38e799301971354a4838bf2d9bed866e26aa99df0/expr.ipynb\"><img src=\"data:image/png;base64,iVBORw0KGgoAAAANSUhEUgAAAPEAAAAYBAMAAADZrgZwAAAAMFBMVEX///8AAAAAAAAAAAAAAAAA\n",
       "AAAAAAAAAAAAAAAAAAAAAAAAAAAAAAAAAAAAAAAAAAAv3aB7AAAAD3RSTlMAq1RmmUTNIjK7EInv\n",
       "3XZ/CtNrAAAACXBIWXMAAA7EAAAOxAGVKw4bAAADbklEQVRIx72WTWgTURDH/8nmY7Pb1HgRRCkr\n",
       "IgYKJUr9Kn4EGqF6kNB6qq22IIie1gqCorXqUa1BUVz1sCoIWm2CVtTioVhERRQPRXspbFW02ktB\n",
       "peDJmd2XZLOxWIX0wb6ZzL6dX958vF1gTkZYSN0jKz8+CPlAyJ10xVhZWmGwPwfl6lsXuToBbGZl\n",
       "T4XJN+kKJV1k7AOOcxYyFSY30jVPc5Pr6a+YgKpVmDxE1y7TTa4yIVHEQ5VOcwdNT9wVhhBhX4+N\n",
       "vaowOZCjqRO1W5kcXvTFojBTZTcBl//PYW62C3mDynf/8mEmt+mRX4BEYdiPcOz/yEmPzO+wbGGU\n",
       "6sg/3SzvIbIyjAD1l59SHzHVNLDBEqt8LweulLpafGXLQOmBNPIA62NFotMZ7KG+pZYciuplXZQT\n",
       "AQLDPXaeA1OIUrDkKaJbIXET8riRjupqv1mA9C68gPcY/IYSyxLVDJheMnuoy0QLZFsvkqO7m2xy\n",
       "VQZZ+hnkcu/YSNMxXpGivyXhxIFi4Hh1Ql6eKLUstZIqBlIjqbSLzB58PQcLZFsvRjur7ephctbC\n",
       "Ji53PtHu0XmCdeFJ+0jjtNl7Ue5P6vjo0OzMSY29n+BY4su6VXj3zB6i+NjK5L6NDx3dGRFKxCYz\n",
       "q1lM1rDAr0Pih45wgdV03dFv2cukLk4I7upndcXxuSbO8422RJWwxNXrO8rI7OEaahNEVt7L07B1\n",
       "Z3ALLUC2J0fkiOUfCYhG8zHpjSajxV7Wr9oihdMI2o8qlt0+hz9jnulY4kh+LSOzB2eHCCTlIXdJ\n",
       "yhTac6jeZnJt1zzaP0EJSOfL9Qflb7VhGBpyg7hNlmcYh7TXMM5BVU2Fa64GbcISR1/I1c+ZggdB\n",
       "rkpXlzbqKDxvSRzNK1KmPYxTrAXjCQzSRqdx/rZs+24+CZXJL5CSHUscwTqX30zBgyBn9UiD6SbX\n",
       "l5Eb84rPOqNSZ3NOAgi+VXJ4Lv9scA63XBLt6EN4CqNxx7IKFBAP2faQ37N+tqWEHNE95OLbMaL7\n",
       "1iJ8ibQV8ycvxuSn2L5yMoFD3Gbzax534rQWjEFY5Hc6fF6y7UGQg41190uirWQ85Ijnc6jPMETi\n",
       "/eKJx8YFcU8rs5SSXRv8w0HbLeSEkF9mPJJbvYagOfP5PQvy7EfCa5AwR+R/Gvqfv3D/Mn4DiuTk\n",
       "d2rx4OYAAAAASUVORK5CYII=\n",
       "\" style=\"display:inline;vertical-align:middle;\" /></a><br>(see <a class=\"ProveItLink\" href=\"../../../__pv_it/theorems/fb059aa26b00ef5bf3555d8f4196c8226b3d91fd0/dependencies.ipynb\">dependencies</a>)<br>"
      ],
      "text/plain": [
       "<IPython.core.display.HTML object>"
      ]
     },
     "metadata": {},
     "output_type": "display_data"
    }
   ],
   "source": [
    "%proving common_exponent_elimination"
   ]
  },
  {
   "cell_type": "code",
   "execution_count": null,
   "metadata": {},
   "outputs": [],
   "source": []
  }
 ],
 "metadata": {
  "kernelspec": {
   "display_name": "Python 3",
   "language": "python",
   "name": "python3"
  }
 },
 "nbformat": 4,
 "nbformat_minor": 0
}