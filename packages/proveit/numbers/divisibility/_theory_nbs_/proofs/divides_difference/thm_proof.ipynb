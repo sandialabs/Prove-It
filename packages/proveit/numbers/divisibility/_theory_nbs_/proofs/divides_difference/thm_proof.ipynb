{
 "cells": [
  {
   "cell_type": "markdown",
   "metadata": {},
   "source": [
    "Proof of <a class=\"ProveItLink\" href=\"../../../../../_theory_nbs_/theory.ipynb\">proveit</a>.<a class=\"ProveItLink\" href=\"../../../../_theory_nbs_/theory.ipynb\">numbers</a>.<a class=\"ProveItLink\" href=\"../../theory.ipynb\">divisibility</a>.<a class=\"ProveItLink\" href=\"../../theorems.ipynb#divides_difference\">divides_difference</a> theorem\n",
    "========"
   ]
  },
  {
   "cell_type": "code",
   "execution_count": 1,
   "metadata": {},
   "outputs": [],
   "source": [
    "import proveit\n",
    "theory = proveit.Theory() # the theorem's theory"
   ]
  },
  {
   "cell_type": "code",
   "execution_count": 2,
   "metadata": {},
   "outputs": [
    {
     "data": {
      "text/html": [
       "With these <a href=\"allowed_presumptions.txt\">allowed</a>/<a href=\"disallowed_presumptions.txt\">disallowed</a> theorem/theory presumptions (e.g., to avoid circular dependencies), we begin our proof of<br><strong id=\"divides_difference\">divides_difference:</strong> <a class=\"ProveItLink\" href=\"../../../__pv_it/theorems/54e1bfc601d4e79ff05449c82f3550106e890ed90/expr.ipynb\"><img src=\"data:image/png;base64,iVBORw0KGgoAAAANSUhEUgAAAOQAAAAXBAMAAADpf/4JAAAAMFBMVEX///8AAAAAAAAAAAAAAAAA\n",
       "AAAAAAAAAAAAAAAAAAAAAAAAAAAAAAAAAAAAAAAAAAAv3aB7AAAAD3RSTlMAq1RmmUTNIjK7EInv\n",
       "3XZ/CtNrAAAACXBIWXMAAA7EAAAOxAGVKw4bAAADJklEQVRIx62WQWjTUBjH/2mTJk27LuBJByOw\n",
       "HTxsUESUgcxC0Q1lYzAUdDLLPAwEpR4UnHPUww7idBFRwYMElQlORh0ymAcpHoYoSi+TXSZRK0Mn\n",
       "Y+BhspPfS9ukr03EWR+8vPyT7+X33ve9970A9ReZb2U/u/SfXm6tfC61kT5O1pRBqpIFaEy01EMM\n",
       "ZDmkI2tKLE6XL8ABJobrQU6BQ075W56mGjJxhTnYqAeZ5JFJf8vdVIMJRkVErweZ45E5f8sosfAG\n",
       "QXJwqK5QpjikK2tLiAXzFPBuefltPUiRlou6tuPabBHJ5EwSqsZbXV+S44iwh8+AbuCe39fc2wT3\n",
       "IlE1dBGfrJ4ikslsG4LrXAf17DyhgswDe4BzkDUfZNi95RdYpWqghbAX+81tRSRJRe+BwHeQTbwg\n",
       "p7M4t9F3zdIW/kdklHpncLAcS5Iq3iNKW149s8xKxjabpqWjsKlPEtryXT1/jQRBXCSkTUxmqpKi\n",
       "xVIPm+UJqqlOuqx1FSgFSp8g2MEePuIiY4WxLoIManamKinlw/k+17GQNvDEcSzEFH5Ujb6f5o5A\n",
       "nu7aqc5SUoilt4fIdqbRnGAG3QMJF7kiGEMwVGtTyTkK4vjzsissqLeFHLJFJEmENdys2kk6m0uQ\n",
       "eaeD6igNPoj7Ct2OtOObbXKpwrHxsJWBIT/IxwxHkaeczKoh8OtRTtKLSLYRRE36ySOvzq8uFTcQ\n",
       "DlMVbLdv2K+a0MwaxaqMZWOaRU/ICparcKP8NSUPtddq3VWKJUmoTYUNHpkNLNDLBmaw6HTM2SfZ\n",
       "Il4XPT9SgZygk84g+2jGVVJcNktdl/iEZ8uIZw66zNZRviRGIykR02QvrVMjD40bDlLOzdHWJ2Tm\n",
       "JNRsWV3YeawyWVcgSc7hqe53AIjxcp75+vI7JnS0dqSoER8upN1Z9g6smQQJJO9AeVVWh/Y5B144\n",
       "zSFJfqQAef09sHlc5J/pajpMg9A99+Vj3KKV57FLVYNDkmwpeCYXe2x3uUeSKVhHWeOJbJYoPse9\n",
       "EsNY+dTPcLKmrDCbNPcoCKkzyxpPZP8q2yJeyP9ZZP7vzE9tsfwGCYfKHRpT0lYAAAAASUVORK5C\n",
       "YII=\n",
       "\" style=\"display:inline;vertical-align:middle;\" /></a><br>(see <a class=\"ProveItLink\" href=\"../../../__pv_it/theorems/4b159d86a580f49434331bed1eacb63d523bf8710/dependencies.ipynb\">dependencies</a>)<br>"
      ],
      "text/plain": [
       "<IPython.core.display.HTML object>"
      ]
     },
     "metadata": {},
     "output_type": "display_data"
    }
   ],
   "source": [
    "%proving divides_difference"
   ]
  },
  {
   "cell_type": "code",
   "execution_count": null,
   "metadata": {},
   "outputs": [],
   "source": []
  }
 ],
 "metadata": {
  "kernelspec": {
   "display_name": "Python 3",
   "language": "python",
   "name": "python3"
  }
 },
 "nbformat": 4,
 "nbformat_minor": 0
}