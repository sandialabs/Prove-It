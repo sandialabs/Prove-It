{
 "cells": [
  {
   "cell_type": "markdown",
   "metadata": {},
   "source": [
    "Proof of <a class=\"ProveItLink\" href=\"../../../../../_theory_nbs_/theory.ipynb\">proveit</a>.<a class=\"ProveItLink\" href=\"../../../../_theory_nbs_/theory.ipynb\">numbers</a>.<a class=\"ProveItLink\" href=\"../../theory.ipynb\">divisibility</a>.<a class=\"ProveItLink\" href=\"../../theorems.ipynb#GCD_one_def\">GCD_one_def</a> theorem\n",
    "========"
   ]
  },
  {
   "cell_type": "code",
   "execution_count": 1,
   "metadata": {},
   "outputs": [],
   "source": [
    "import proveit\n",
    "theory = proveit.Theory() # the theorem's theory"
   ]
  },
  {
   "cell_type": "code",
   "execution_count": 2,
   "metadata": {},
   "outputs": [
    {
     "data": {
      "text/html": [
       "With these <a href=\"allowed_presumptions.txt\">allowed</a>/<a href=\"disallowed_presumptions.txt\">disallowed</a> theorem/theory presumptions (e.g., to avoid circular dependencies), we begin our proof of<br><strong id=\"GCD_one_def\">GCD_one_def:</strong> <a class=\"ProveItLink\" href=\"../../../__pv_it/theorems/d536042891efcc7eea18c59fb1e4bc2328037fcc0/expr.ipynb\"><img src=\"data:image/png;base64,iVBORw0KGgoAAAANSUhEUgAAAckAAAAaBAMAAAAuzLp3AAAAMFBMVEX///8AAAAAAAAAAAAAAAAA\n",
       "AAAAAAAAAAAAAAAAAAAAAAAAAAAAAAAAAAAAAAAAAAAv3aB7AAAAD3RSTlMAq1RmmUTNIjK7EInv\n",
       "3XZ/CtNrAAAACXBIWXMAAA7EAAAOxAGVKw4bAAAFqklEQVRYw82YXWgcVRSAT3Znd2Znks0WUbRC\n",
       "2aKtebDpapNASwkr2ZZqiS5WEKkPKxWkedAJ+BK06eqLFGsypC1x+xCnPgg1xmzbFGkeSnyQ+EMl\n",
       "SGJD04WNAaGEhhDUhAjFc+be2b1zNxNtdCUXTu6ee865me/+nHtnAKpWago3YTOUu4V4FXsPwyYp\n",
       "wcQmpVRlRfW2q34RqjdE3dSUv8gKbzDSrA4VfSK4A9ldIcoYNT5WHcoaqgIbGMlAXlLcBpcS5nwi\n",
       "0OHiDW53BSkPkO2N6lAq9Exh8/5DP5MVt6FEGbZ5Q9wbQQ6vc7srSPkerV6rOpQaLZSuDYS2yUqb\n",
       "TBlMsnoo440ghyVuL0nCgTXiVdqXHVhd3kDomKyMyZTwPV+5D3oj0CG06tq5ICUloHC1ss8erDIb\n",
       "2JYZSSk1lCmPsWrilDcCHYwJ186FEG8UCj9Ui7K2ULidv/9IJS8pJD1bey7ZRNl5vRubL/Gkw7a9\n",
       "6BDeNhtndi5EeQjgvN+/M/4lpZKFiF1p+TvwcEJSSPIPxQ2LFuQ4fIJ9tjCjGUi6Tq7DcIe+zOxc\n",
       "iLIT1JjvoEq1WJ4Qfhd9KLHnzjUsSamWSx3ORXsByyRXULT4axBcRIgvEtCOzU86npg7b/GIksNu\n",
       "G35kdi5EGbHLi107zn+cOJwOfl2mi8hzvALBtBBTHgW9xXMrOA9XxfvJ5FXYHyvTyandDa51++7k\n",
       "CoqOqTO6io/6AsAMNvc6Dg8DLPCIksNBgD+ZnQtRBopC8nmUHns2lw7ERuE5f0p1ES6IMaHSGuy5\n",
       "66FsLCefnkfOwXbDVuw1KHXbE7wWJaXOyBhCfAf679j8qhOHvQ+5Ea7DDISWmJ2Lc8PLtJYf/1uU\n",
       "VBbRWxXIG6n21IE1KaMWu02UYjpK2i4PZTjoLmblEN2xikkDRlKTqbSXUj1risF1cYGSr1hKnfVJ\n",
       "I63fw3XputIRqMTB44BTqqwyOxeH8jI94mDrVzSN92btKLUF3n+5mK+Yy9a5IhhzRf3Kr0WYEGOE\n",
       "Q9FLaezEWWra81SWXckadnQbIM2lY9W2mEJwxB2at7lCEk7Cftxc+hLUZDAn7HWGg0YoAx4HWKGt\n",
       "69i5OJTv4k7Rb2rLNEe3osmLTobOju6ooIwmIzGY0saGzN4s9i3EwOOg5LCckSlV3Nx687I2oTtE\n",
       "DcanRyVKx4qOz2TLlIaYDkkhGbbUaToOB2BXEjs47Aw7/fkYvA4PwFlgdi4OZQ32ryQ1uj1EEsHM\n",
       "EUap4KqUKE/a4YRi6dkUbumQJcbAKz5zSelB/TKmLoacw6EBknckSsdKtM+mS8HahEBJCsnunnmT\n",
       "IC7Mf7ANn3iKbFud3QySwwj9r6mylN68atNRGr/arBJrwTmJB7J6PlM+LxllC9SbtM2/gTsQiIkx\n",
       "cMqPki3AwFjweC7Xh5SDYeG8tFyrczMdLwdPi0lgmslBz91HnfBmCtmB7K6UKIfNyD7cQfVQG/+Q\n",
       "zSW8KByCjHIETiMn4Jk78LlmiTG+K5YNYbYmqeXZXIYahUezXCv9xwFhiJpEgCYmMx5KRXqfkx3I\n",
       "7kp5Ls3eI/Yg1Nl72WUFT8NoTKbcDlsgnIb8uLayD7OPEMMOLb+5PGmesNn9qhlgVqZ0rBA8JgZH\n",
       "xLc1UiKmvuShlN90ZIcuQUqUobbGK3A6rj1fBJV280f4xllBqSy8CWpbq/3S0/MJ6BdjUOPlnbeu\n",
       "V1C2LODR24V7SfvZZG/WIqVjjfZ5gnXxvkCKbu38IyFS9ssXCsmhXxDpiwg7pgZzubQ8UsLRyMtR\n",
       "MUa31vsi4qRD/VrunOxhuVatT7J0ywpviGZ5XfFq7nUguysSZcj2u89GWLKLCm9EiinEKOZ6lD/5\n",
       "dWuta63SN7wgrEupnhkRh2FUiGle87bOv8cav9nrUPpb/7Pvsbf/4ZcndY02Xfi9wQc14X8qfwEE\n",
       "FqaXfuRADgAAAABJRU5ErkJggg==\n",
       "\" style=\"display:inline;vertical-align:middle;\" /></a><br>(see <a class=\"ProveItLink\" href=\"../../../__pv_it/theorems/a5307368bde43c31d0916f3bb893e600557311e40/dependencies.ipynb\">dependencies</a>)<br>"
      ],
      "text/plain": [
       "<IPython.core.display.HTML object>"
      ]
     },
     "metadata": {},
     "output_type": "display_data"
    }
   ],
   "source": [
    "%proving GCD_one_def"
   ]
  },
  {
   "cell_type": "code",
   "execution_count": null,
   "metadata": {},
   "outputs": [],
   "source": []
  }
 ],
 "metadata": {
  "kernelspec": {
   "display_name": "Python 3",
   "language": "python",
   "name": "python3"
  }
 },
 "nbformat": 4,
 "nbformat_minor": 0
}