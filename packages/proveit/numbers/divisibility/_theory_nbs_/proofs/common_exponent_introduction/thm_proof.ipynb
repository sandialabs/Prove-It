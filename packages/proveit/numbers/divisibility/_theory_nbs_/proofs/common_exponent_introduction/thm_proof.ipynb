{
 "cells": [
  {
   "cell_type": "markdown",
   "metadata": {},
   "source": [
    "Proof of <a class=\"ProveItLink\" href=\"../../../../../_theory_nbs_/theory.ipynb\">proveit</a>.<a class=\"ProveItLink\" href=\"../../../../_theory_nbs_/theory.ipynb\">numbers</a>.<a class=\"ProveItLink\" href=\"../../theory.ipynb\">divisibility</a>.<a class=\"ProveItLink\" href=\"../../theorems.ipynb#common_exponent_introduction\">common_exponent_introduction</a> theorem\n",
    "========"
   ]
  },
  {
   "cell_type": "code",
   "execution_count": 1,
   "metadata": {},
   "outputs": [],
   "source": [
    "import proveit\n",
    "theory = proveit.Theory() # the theorem's theory"
   ]
  },
  {
   "cell_type": "code",
   "execution_count": 2,
   "metadata": {},
   "outputs": [
    {
     "data": {
      "text/html": [
       "With these <a href=\"allowed_presumptions.txt\">allowed</a>/<a href=\"disallowed_presumptions.txt\">disallowed</a> theorem/theory presumptions (e.g., to avoid circular dependencies), we begin our proof of<br><strong id=\"common_exponent_introduction\">common_exponent_introduction:</strong> <a class=\"ProveItLink\" href=\"../../../__pv_it/theorems/494ec2913a9aa3291d75bf3f40d9c5b7374244d90/expr.ipynb\"><img src=\"data:image/png;base64,iVBORw0KGgoAAAANSUhEUgAAAPMAAAAYBAMAAADdW9ZNAAAAMFBMVEX///8AAAAAAAAAAAAAAAAA\n",
       "AAAAAAAAAAAAAAAAAAAAAAAAAAAAAAAAAAAAAAAAAAAv3aB7AAAAD3RSTlMAq1RmmUTNIjK7EInv\n",
       "3XZ/CtNrAAAACXBIWXMAAA7EAAAOxAGVKw4bAAADdklEQVRIx72WXUgUURTH/+vu7M7HautjELIl\n",
       "5UJkU/RNyYIbFBVJ9lQaRkHU02j0UPQd1EOlUlhNgk315Ee6pRH6EBFERRQRYkEIK0WR+yJSKD1E\n",
       "586dj50RJRa2C3fuPf975/z23nvu2QEKWDTeBKubvwIR5FoaClpK4ry9X6dGNSg1udY+6sWYWV4Q\n",
       "9FKg8y21J75hnuGguVWiApuZeagQZLmBHgdZrwx1cNDcwhHgHDWR1kKgQ7QwTLLeK6REF21aWAWE\n",
       "DfpB8UKgo1SF32xlE/iUcNDcQtRAkH5buCBHvYSq8ozxY8iqDppbCFN9Ozr6piDobVTDsaIBg5sM\n",
       "3fj0tD2qUHxvAW7n5zs99/ABqn3qopOqgxZe4o5hX28KwkZEYvmhk76WIit3+APV5cfiFzUH3aNi\n",
       "hz1aREchGWwrNmUsKfB6oD3pISxo3zrgESLDj7Ex5iL5/WAepNxpL6huX+eYRNkJfLZNcYLwGRZl\n",
       "URYE4pheU6wpvYYzv3l+Gz5iaBweZaFihAw/mnmYgR5Jnc1Bv4b8yzYFFoANVfQ4w0w2L4jzR90N\n",
       "pECAKlaoXqU8k1QwkBpO1eSgmQfJt+HypDDtouU/CE44G/6eHo8osWB9JGsmN3Z05mrk/qyGLxwX\n",
       "ctO+qSQWn1bgXzXzQOjuqieW3EHv/JYnS1z0JAINFXaYsbdOsigra+rROrnWZO7RA61Fk7nTtQkn\n",
       "7XMlodzbOwPNPEiQP4pTlvyQAqdBnlbcDe/AsqT9UojdjwBDvYuLqDW1Xj43hSsQzG2QM2kn7XMl\n",
       "geSPGWjmQUIoKT6z5Kt0AHF8HXfRd7OXyuyzL7bzauQnneEaXdfjSA+hywySMQQP6/o1KIohG1ba\n",
       "50oC3eGce93qeJAo2Ersq1p81nMvnBzOyyk4O18fwWUz8hIqhmipU7jeJZrOd12AYlhpnysJCJU5\n",
       "XlodDxL6NGmDdUGCybnQ1XYnkLmq0A1nM0IQ3stpvBR/beBpLp1EPbqttG8qq0Fb4kNzD4hqLbX2\n",
       "3bw5B9r9s5S0wDpEblFvRWn2Rkx8jt0rKckfZ7ettGxwP67EedpnijiiIeBHmx4kCNWV/bbeOQda\n",
       "8n0hdeu6NV5k/dsP6m3WWHyG4kVzh96sl/F8LnmO/vus6XmPXxCM2XP5bOj8iuoXgvhf6Hy+eeF+\n",
       "8P5T+QuVmeijUZSCSgAAAABJRU5ErkJggg==\n",
       "\" style=\"display:inline;vertical-align:middle;\" /></a><br>(see <a class=\"ProveItLink\" href=\"../../../__pv_it/theorems/cad6e86ef798a7f7bd32fdc415bb9e6980b92f1e0/dependencies.ipynb\">dependencies</a>)<br>"
      ],
      "text/plain": [
       "<IPython.core.display.HTML object>"
      ]
     },
     "metadata": {},
     "output_type": "display_data"
    }
   ],
   "source": [
    "%proving common_exponent_introduction"
   ]
  },
  {
   "cell_type": "code",
   "execution_count": null,
   "metadata": {},
   "outputs": [],
   "source": []
  }
 ],
 "metadata": {
  "kernelspec": {
   "display_name": "Python 3",
   "language": "python",
   "name": "python3"
  }
 },
 "nbformat": 4,
 "nbformat_minor": 0
}