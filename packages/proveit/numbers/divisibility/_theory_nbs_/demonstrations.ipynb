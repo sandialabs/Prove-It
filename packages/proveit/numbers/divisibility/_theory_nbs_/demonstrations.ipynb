{
 "cells": [
  {
   "cell_type": "markdown",
   "metadata": {},
   "source": [
    "Demonstrations for the theory of <a class=\"ProveItLink\" href=\"theory.ipynb\">proveit.numbers.divisibility</a>\n",
    "========"
   ]
  },
  {
   "cell_type": "code",
   "execution_count": 1,
   "metadata": {},
   "outputs": [],
   "source": [
    "import proveit\n",
    "from proveit import defaults, free_vars, used_vars, ProofFailure\n",
    "from proveit import a, b, c, n, x, y\n",
    "from proveit.logic import Equals, InSet, NotEquals\n",
    "from proveit.numbers import one, zero, two, three, four, five, six, Complex, Integer, NaturalPos\n",
    "from proveit.numbers import Add, Divides, DividesProper, Exp, GCD, Mult\n",
    "from proveit.numbers.divisibility  import divides_def\n",
    "from proveit.numbers.divisibility import divides_is_bool\n",
    "%begin demonstrations"
   ]
  },
  {
   "cell_type": "markdown",
   "metadata": {},
   "source": [
    "# Divisibility (Divides) $x\\rvert y$ and Greatest Common Divisor (GCD)"
   ]
  },
  {
   "cell_type": "markdown",
   "metadata": {},
   "source": [
    "<div style=\"line-height:1.4; font-size:14pt\">\n",
    "\n",
    "<a href='#introduction'>Introduction</a><br>\n",
    "<a href='#simple_expressions'>Simple Expressions involving Divides $(x \\rvert y)$ and GCD</a><br>\n",
    "<a href='#common_attributes'>Common Attributes of Divides $(x \\rvert y)$ and GCD Expressions</a><br>\n",
    "<a href='#axioms'>Axioms</a><br>\n",
    "<a href='#theorems_and_conjectures'>Theorems & Conjectures</a><br>\n",
    "<a href='#further_demonstrations'>Further Demonstrations</a><br>\n",
    "    <ol>\n",
    "        <li><a href='#demo01'>TBA</a></li>\n",
    "        <li><a href='#demo02'>TBA</a></li>\n",
    "        <li><a href='#demo03'>TBA</a></li>\n",
    "    </ol>\n",
    "<a href='#miscellaneous_testing'>Miscellaneous Testing</a><br>\n",
    "</div>\n"
   ]
  },
  {
   "cell_type": "markdown",
   "metadata": {},
   "source": [
    "## Introduction <a id='introduction'></a>"
   ]
  },
  {
   "cell_type": "markdown",
   "metadata": {},
   "source": [
    "<font size=3>Divisibility of one number by another is a common concern throughout various fields of mathematics $\\dots$ The notation $x\\rvert y$, read as “x divides y,” indicates that $x$ is a factor of $y$, or $y$ is a multiple of $x$, and is often defined as meaning there exists some integer $k$ such that $y=kx$. As we'll see further below in the section on axioms, in Prove-It we define $x\\rvert y$ as meaning that $\\frac{y}{x} \\in \\mathbb{Z}$. This ``_demonstrations_`` notebook explores $x\\rvert y$  expressions and related methods.</font>"
   ]
  },
  {
   "cell_type": "markdown",
   "metadata": {},
   "source": [
    "## Simple Expressions Involving the Divides Class $x\\rvert y$<a id='simple_expressions'></a>"
   ]
  },
  {
   "cell_type": "markdown",
   "metadata": {},
   "source": [
    "<font size=3>Expressions involving divisibility claims are easy to construct using the Divides() class. Here are some basic examples of such expressions:</font>"
   ]
  },
  {
   "cell_type": "code",
   "execution_count": 2,
   "metadata": {},
   "outputs": [
    {
     "data": {
      "text/html": [
       "<a class=\"ProveItLink\" href=\"../__pv_it/axioms/5030b6ee29eff6a160af03dbd23eb366b96481650/expr.ipynb\"><img src=\"data:image/png;base64,iVBORw0KGgoAAAANSUhEUgAAAB0AAAAVBAMAAABI7vhRAAAAMFBMVEX///8AAAAAAAAAAAAAAAAA\n",
       "AAAAAAAAAAAAAAAAAAAAAAAAAAAAAAAAAAAAAAAAAAAv3aB7AAAAD3RSTlMAEHarMolUmd1mIs3v\n",
       "RLtmgJDEAAAACXBIWXMAAA7EAAAOxAGVKw4bAAAAnklEQVQY02NggIAFDKgglmZ8IWWR0AQgn1F9\n",
       "AoMwkF/AZMTeAOSzsh1gmM/AwLmA8yPzBCDfDShqx8DAwsC+AaxfgEeB4RDIACANNu++AMsXEP/+\n",
       "AkYBEL+agekAA4PcBRsGVrD8YwY+AwaGfMcahmtgfjHD/QkMDOJKbJUJYL5wUP0CVPdFI7uXdQPj\n",
       "MWQ+hwJzADKfbVItkv9UoDQAJC0iG7S7cQ8AAAAASUVORK5CYII=\n",
       "\" style=\"display:inline;vertical-align:middle;\" /></a>"
      ],
      "text/plain": [
       "x | y"
      ]
     },
     "metadata": {},
     "output_type": "display_data"
    }
   ],
   "source": [
    "# a simple divisibility claim\n",
    "Divides(x, y)"
   ]
  },
  {
   "cell_type": "code",
   "execution_count": 3,
   "metadata": {},
   "outputs": [
    {
     "data": {
      "text/html": [
       "<strong id=\"example_1\">example_1:</strong> <a class=\"ProveItLink\" href=\"../__pv_it/demonstrations/ee4bf56f125acf75a0d5c8428f71c47a6790e3850/expr.ipynb\"><img src=\"data:image/png;base64,iVBORw0KGgoAAAANSUhEUgAAABkAAAAVBAMAAABBBVgrAAAAMFBMVEX///8AAAAAAAAAAAAAAAAA\n",
       "AAAAAAAAAAAAAAAAAAAAAAAAAAAAAAAAAAAAAAAAAAAv3aB7AAAAD3RSTlMAIpnNuzKJRKvvEN12\n",
       "ZlQ4bmvwAAAACXBIWXMAAA7EAAAOxAGVKw4bAAAAm0lEQVQY02NgAAFGBmTAVgBlMCqZBEB4rAoM\n",
       "DCIMbN8hPO4GBoZGBoaZEN5pIG/+AoZ+ARCP9TKQ183A0B8A4rExN4AN2g9WeRDCY/0D4jFegPCA\n",
       "ZgF5bAwQngrY9osQHm8DiMd4AMJ7xsAItIG9o6N/RgIDawIDzwKw7ZxAOWklJW2IW/gdgJb9//8Z\n",
       "zGPy/3EAzUck8ngCIDQAtjcnjHylpeYAAAAASUVORK5CYII=\n",
       "\" style=\"display:inline;vertical-align:middle;\" /></a><br>"
      ],
      "text/plain": [
       "<IPython.core.display.HTML object>"
      ]
     },
     "metadata": {},
     "output_type": "display_data"
    },
    {
     "data": {
      "text/html": [
       "<strong id=\"example_2\">example_2:</strong> <a class=\"ProveItLink\" href=\"../__pv_it/demonstrations/2f4ae7d0b61f05b826260065fbedd45f53b81b520/expr.ipynb\"><img src=\"data:image/png;base64,iVBORw0KGgoAAAANSUhEUgAAAB0AAAAVBAMAAABI7vhRAAAAMFBMVEX///8AAAAAAAAAAAAAAAAA\n",
       "AAAAAAAAAAAAAAAAAAAAAAAAAAAAAAAAAAAAAAAAAAAv3aB7AAAAD3RSTlMAEHarMolUmd1mIs3v\n",
       "RLtmgJDEAAAACXBIWXMAAA7EAAAOxAGVKw4bAAAAZ0lEQVQY02NggIAFDKgglmZ8IWWR0AQQH8Jg\n",
       "KGAyYm8A8SEMzgWcH5knAPlQBgsD+wawfiiDgYFHAWoemMHAcH8BowCYD2bIXbBhYAXJQxn5jjUM\n",
       "10B8KENcia0yAcSHMqjkPxUoDQBTRx3qPx3+/QAAAABJRU5ErkJggg==\n",
       "\" style=\"display:inline;vertical-align:middle;\" /></a><br>"
      ],
      "text/plain": [
       "<IPython.core.display.HTML object>"
      ]
     },
     "metadata": {},
     "output_type": "display_data"
    },
    {
     "data": {
      "text/html": [
       "<strong id=\"example_3\">example_3:</strong> <a class=\"ProveItLink\" href=\"../__pv_it/demonstrations/fafa2385b05b7779f7659d42c6c9c8fcb8b716830/expr.ipynb\"><img src=\"data:image/png;base64,iVBORw0KGgoAAAANSUhEUgAAAE0AAAAVBAMAAADx+n4ZAAAAMFBMVEX///8AAAAAAAAAAAAAAAAA\n",
       "AAAAAAAAAAAAAAAAAAAAAAAAAAAAAAAAAAAAAAAAAAAv3aB7AAAAD3RSTlMAIquJdkTvuxBmmd1U\n",
       "zTKBpmoTAAAACXBIWXMAAA7EAAAOxAGVKw4bAAABWElEQVQoz3XSPUjDQBQH8H9MzMc1NcG1i1BH\n",
       "haBugqTgoItkENd2cRCXCOKczTFZdbHg1MmC4GA6BJyF4qRbdpeOXQRfchrvyhm4HNz97t3duwfU\n",
       "n8Y7H8rvb1iPqr9RqN3xgnuBfTVWOCOTnD0F2kNVwHfJMVrm/W69nAnuVnImtX7yM+KGgjMT0b1S\n",
       "24XKtSm41u2F3N1Te9vfWHA7hyX0NeDEt+bcfdBVvpLUl1ynYDGcKewzsDF3E5qdwwwl91gNuAOw\n",
       "GVoBd6d05Sm8gLo8fzrPc9qNzSu8MoMZI40aR0v6hRiPpqskDZCGuEOzL6XvIRFdWnfuGGmBTdev\n",
       "3SW5ks4rOo8yEsGJYYXuM+PxtoClzBpKji6rl2AB7PW91SPuPikv3dFCnrdvDujYkfgerVJ4Auk9\n",
       "OtL7OmKtSHUwkuvvQl2m0GLZXf/jrKbwjfpoWqh2PeAb7rZJpUxtGCsAAAAASUVORK5CYII=\n",
       "\" style=\"display:inline;vertical-align:middle;\" /></a><br>"
      ],
      "text/plain": [
       "<IPython.core.display.HTML object>"
      ]
     },
     "metadata": {},
     "output_type": "display_data"
    },
    {
     "data": {
      "text/html": [
       "<strong id=\"example_4\">example_4:</strong> <a class=\"ProveItLink\" href=\"../__pv_it/demonstrations/0329bc368efd0865a45f6f79a9d13a0b5ef4af330/expr.ipynb\"><img src=\"data:image/png;base64,iVBORw0KGgoAAAANSUhEUgAAABoAAAAVBAMAAACqMuMoAAAAMFBMVEX///8AAAAAAAAAAAAAAAAA\n",
       "AAAAAAAAAAAAAAAAAAAAAAAAAAAAAAAAAAAAAAAAAAAv3aB7AAAAD3RSTlMAiTIizUSr3Xa7VBDv\n",
       "mWZb+y3UAAAACXBIWXMAAA7EAAAOxAGVKw4bAAAAp0lEQVQY02NgAAMDBmQgCmcJCiqAeIayU4Ec\n",
       "kwC2AiCP+wLD+gUMDB4MnBOAPI5fDPsdGLh+Q/SxHmXgd2DgPAA3Zf0DBh4niasQHmsdAwO/HwPP\n",
       "AhCPqS2JgWH/Bwbe01CVCxj2FzDwfYXweH6DDOL7B+QxKTBw/mLghMrx/wbxuID6DgB5PAkglQwT\n",
       "GfaAzOR7ALKPgfFuEti+2LtTMX1EGq8JQgEAE3spXzZhA30AAAAASUVORK5CYII=\n",
       "\" style=\"display:inline;vertical-align:middle;\" /></a><br>"
      ],
      "text/plain": [
       "<IPython.core.display.HTML object>"
      ]
     },
     "metadata": {},
     "output_type": "display_data"
    },
    {
     "data": {
      "text/html": [
       "<strong id=\"example_5\">example_5:</strong> <a class=\"ProveItLink\" href=\"../__pv_it/demonstrations/69d2fdb6a62956d3aa8dc18c4fa50bfca82e1d960/expr.ipynb\"><img src=\"data:image/png;base64,iVBORw0KGgoAAAANSUhEUgAAAEkAAAAVBAMAAAD4Ed5jAAAAMFBMVEX///8AAAAAAAAAAAAAAAAA\n",
       "AAAAAAAAAAAAAAAAAAAAAAAAAAAAAAAAAAAAAAAAAAAv3aB7AAAAD3RSTlMAEHarMolUmd1mIs3v\n",
       "RLtmgJDEAAAACXBIWXMAAA7EAAAOxAGVKw4bAAABWklEQVQoz23Sv0vDQBQH8O/lx6WpbYhW6CDI\n",
       "0YqCk7oJIjroLIIuImRzVHSxVLGD4BocLLg0ODnG/yA4OAcH1wacBYVOunh3sT+u3oM8Qu5zuffu\n",
       "DsgjkrkITUTD10OZ53XqdUzRHZ0yQlXNQBtPqmroVVtViV6V/FFFY72a4IVN1af3AqkcXjypLW/t\n",
       "94fJQogKYC8BJ8aK05JKzHFQZ+d9ZdMEHcCN4UbulxlKVQiAe3T81b7a5tPXeSUJLDjxX12lFNhA\n",
       "M1/shye/xPAMWJ9ikI0oiM8ibkTq+lYPKIveuxHxByui/I3JQXdNGFzQFmbTNdj5vzwG8mEmGJ7T\n",
       "Ozzen5vhePMCb7niHdNeNSkHA3WGbih3qFqjjSBXVgvklB3dDfezsnvF700hVU7o+v++H/DnUT3H\n",
       "9hixY/KiXAKpvEhVBWbyToqZqkimKnp7qc6dk/lBdyUWgV+OX0ZrZFTI4QAAAABJRU5ErkJggg==\n",
       "\" style=\"display:inline;vertical-align:middle;\" /></a><br>"
      ],
      "text/plain": [
       "<IPython.core.display.HTML object>"
      ]
     },
     "metadata": {},
     "output_type": "display_data"
    }
   ],
   "source": [
    "# some other examples, some true, some false, some indeterminant\n",
    "example_1, example_2, example_3, example_4, example_5 = (\n",
    "    Divides(two, four), Divides(x, x), Divides(a, Add(b, c)),\n",
    "    Divides(six, three), Divides(x, Mult(x,y)))"
   ]
  },
  {
   "cell_type": "markdown",
   "metadata": {},
   "source": [
    "## Common Attributes of a Subset expression <a id='common_attributes'></a>"
   ]
  },
  {
   "cell_type": "markdown",
   "metadata": {},
   "source": [
    "<font size=3>Consider ``example_5`` from above, $x\\rvert(xy)$, which is true for all $x\\ne 0$, and look at some of its attributes.</font>"
   ]
  },
  {
   "cell_type": "markdown",
   "metadata": {},
   "source": [
    "<font size=3>We can look at the construction of such an expression by calling <font style=\"font-family:courier\">expr_info()</font> to see the tabular representation of the expression's underlying directed acyclic graph (DAG) representation:</font>"
   ]
  },
  {
   "cell_type": "code",
   "execution_count": 4,
   "metadata": {},
   "outputs": [
    {
     "data": {
      "text/html": [
       "<table><tr><th>&nbsp;</th><th>core type</th><th>sub-expressions</th><th>expression</th></tr>\n",
       "<tr><td>0</td><td>Operation</td><td>operator:&nbsp;1<br>operands:&nbsp;2<br></td><td><a class=\"ProveItLink\" href=\"../__pv_it/demonstrations/69d2fdb6a62956d3aa8dc18c4fa50bfca82e1d960/expr.ipynb\"><img src=\"data:image/png;base64,iVBORw0KGgoAAAANSUhEUgAAAEkAAAAVBAMAAAD4Ed5jAAAAMFBMVEX///8AAAAAAAAAAAAAAAAA\n",
       "AAAAAAAAAAAAAAAAAAAAAAAAAAAAAAAAAAAAAAAAAAAv3aB7AAAAD3RSTlMAEHarMolUmd1mIs3v\n",
       "RLtmgJDEAAAACXBIWXMAAA7EAAAOxAGVKw4bAAABWklEQVQoz23Sv0vDQBQH8O/lx6WpbYhW6CDI\n",
       "0YqCk7oJIjroLIIuImRzVHSxVLGD4BocLLg0ODnG/yA4OAcH1wacBYVOunh3sT+u3oM8Qu5zuffu\n",
       "DsgjkrkITUTD10OZ53XqdUzRHZ0yQlXNQBtPqmroVVtViV6V/FFFY72a4IVN1af3AqkcXjypLW/t\n",
       "94fJQogKYC8BJ8aK05JKzHFQZ+d9ZdMEHcCN4UbulxlKVQiAe3T81b7a5tPXeSUJLDjxX12lFNhA\n",
       "M1/shye/xPAMWJ9ikI0oiM8ibkTq+lYPKIveuxHxByui/I3JQXdNGFzQFmbTNdj5vzwG8mEmGJ7T\n",
       "Ozzen5vhePMCb7niHdNeNSkHA3WGbih3qFqjjSBXVgvklB3dDfezsnvF700hVU7o+v++H/DnUT3H\n",
       "9hixY/KiXAKpvEhVBWbyToqZqkimKnp7qc6dk/lBdyUWgV+OX0ZrZFTI4QAAAABJRU5ErkJggg==\n",
       "\" style=\"display:inline;vertical-align:middle;\" /></a></td></tr>\n",
       "<tr><td>1</td><td>Literal</td><td></td><td><a class=\"ProveItLink\" href=\"../__pv_it/common/a65366842efe06ee8900f970dcf24400f165cec40/expr.ipynb\"><img src=\"data:image/png;base64,iVBORw0KGgoAAAANSUhEUgAAAAIAAAAVBAMAAACeSyI0AAAAFVBMVEX///8AAAAAAAAAAAAAAAAA\n",
       "AAAAAAA9huxxAAAABnRSTlMAIolEdjKD1yioAAAACXBIWXMAAA7EAAAOxAGVKw4bAAAAD0lEQVQI\n",
       "12MQYFAmCroCADmMAu+oWqIsAAAAAElFTkSuQmCC\n",
       "\" style=\"display:inline;vertical-align:middle;\" /></a></td></tr>\n",
       "<tr><td>2</td><td>ExprTuple</td><td>6, 3</td><td><a class=\"ProveItLink\" href=\"../__pv_it/demonstrations/123611a5acf7ae04cff610213bba150d723122210/expr.ipynb\"><img src=\"data:image/png;base64,iVBORw0KGgoAAAANSUhEUgAAAEcAAAAVBAMAAADm2O7QAAAAMFBMVEX///8AAAAAAAAAAAAAAAAA\n",
       "AAAAAAAAAAAAAAAAAAAAAAAAAAAAAAAAAAAAAAAAAAAv3aB7AAAAD3RSTlMAInZUiRDNmWbv3US7\n",
       "qzJazP2FAAAACXBIWXMAAA7EAAAOxAGVKw4bAAABW0lEQVQoz4WSvUvDUBDAf20S00/p7BS7OBUc\n",
       "REeLipsQCtKllS6CYxEpVRGjDo4NdXQpOAhORf+AVlcRiiAoOBTUxUkHHYuXhqRQIXnw7t67+73c\n",
       "Rw7IELiG7uhsMHTtiLlghqgFWiUEYhN0Kww6hXgYQ9xkPhSasNgRVchtrLg1atmn92XPq81YlEHt\n",
       "sSW3avRRbw3tOjljz4NUxaYBsQoXIjOxn7Sb/xEN89mD3uTlKwh6DpPoXh/61NxIvyLMuEFT3F8O\n",
       "JAUYfppNV106omNODiBpO+HkltFM15n8Zt1/UCNqS7gWd1Bqv6DK1yXKfdom70MPpHqScpc1WPzY\n",
       "5WaYhjIo2snRDz+gI/XoeT6hmFXq4rky0baNhZNRG8tLhzIoiTaJvmdSzP/dXpU9JRGrfu/GCbWi\n",
       "nYmqy771bIVxKGGkpYhIV44lz2aMQ8rxvsiUM78RI3gIpuEPamtCRVkPgtAAAAAASUVORK5CYII=\n",
       "\" style=\"display:inline;vertical-align:middle;\" /></a></td></tr>\n",
       "<tr><td>3</td><td>Operation</td><td>operator:&nbsp;4<br>operands:&nbsp;5<br></td><td><a class=\"ProveItLink\" href=\"../__pv_it/demonstrations/d823590ed2dbb050c594c903dcb4dd5f70fabe230/expr.ipynb\"><img src=\"data:image/png;base64,iVBORw0KGgoAAAANSUhEUgAAACYAAAANBAMAAAA3eAFoAAAAMFBMVEX///8AAAAAAAAAAAAAAAAA\n",
       "AAAAAAAAAAAAAAAAAAAAAAAAAAAAAAAAAAAAAAAAAAAv3aB7AAAAD3RSTlMAEHarMolUmd1mIs3v\n",
       "RLtmgJDEAAAACXBIWXMAAA7EAAAOxAGVKw4bAAAAm0lEQVQY02NgEFIWCU1ggAKhSgZGAwaGAiYj\n",
       "9gaYWEAOA+cHBs4FnB+ZJ0CFWBIqGJgfMLAwsG8AcRl/gwiGQww8CkAGmGBgaAcRvB8Z/B2A9P0F\n",
       "jAIw84B6dBgY5C7YMLDChBj4DBgeMzDkO9YwXIOLsRvw/mRgEFdiq4Q7j4HRVP0XAwZg3YAuEs0g\n",
       "k4Au1sRgiqEzU/0CAwMANG0bihm80YMAAAAASUVORK5CYII=\n",
       "\" style=\"display:inline;vertical-align:middle;\" /></a></td></tr>\n",
       "<tr><td>4</td><td>Literal</td><td></td><td><a class=\"ProveItLink\" href=\"../../multiplication/__pv_it/common/ed719cef37831779c16481533a4d380a2f95ab270/expr.ipynb\"><img src=\"data:image/png;base64,iVBORw0KGgoAAAANSUhEUgAAAAMAAAADBAMAAACkBqiMAAAAElBMVEX///8AAAAAAAAAAAAAAAAA\n",
       "AABknMCaAAAABXRSTlMAEM3dmbZAxI8AAAAJcEhZcwAADsQAAA7EAZUrDhsAAAARSURBVAjXY2Bg\n",
       "YBBVYGB2AAABOAB5TiANUQAAAABJRU5ErkJggg==\n",
       "\" style=\"display:inline;vertical-align:middle;\" /></a></td></tr>\n",
       "<tr><td>5</td><td>ExprTuple</td><td>6, 7</td><td><a class=\"ProveItLink\" href=\"../../../__pv_it/common/70b6dfe187a2382408546cc714e0c3bc5c3a48c90/expr.ipynb\"><img src=\"data:image/png;base64,iVBORw0KGgoAAAANSUhEUgAAACwAAAAVBAMAAADP3xFXAAAAMFBMVEX///8AAAAAAAAAAAAAAAAA\n",
       "AAAAAAAAAAAAAAAAAAAAAAAAAAAAAAAAAAAAAAAAAAAv3aB7AAAAD3RSTlMAInZUiRDNmWbv3US7\n",
       "qzJazP2FAAAACXBIWXMAAA7EAAAOxAGVKw4bAAABFElEQVQY022QIU8DQRBG31273JVScj8A0WAK\n",
       "gqSCEIoBQXAkzRlC0hAksqKioFAoFAkK04AD0wSFguJJLqQGV4PBFEQJkm/veuauk+zM7tvZ2W8G\n",
       "CMiYY51bz+JyVW6dnK2AOc7juSbeeR77bUrMsGs2ZuETOvLh2tFuoifsYiLY1wW03XevF+OdBv43\n",
       "XHCnHwJ/Uol/XqyfUXmBBjc64E1VGq4oqZmxxcTbpMEJ4xE82SLwHJhmjPVsVWGLV2j1PyiCvViI\n",
       "eFO4lBa2P095xPza7Kj8p9DhCw6WC13Jvle6GdZ+hB+YH6WtFeLyRYlyenYsU1N59jjUOzu+QYpD\n",
       "rVuG8ktarRRb7Zu1PkmmU83Ozw34B0+VM03mG9eBAAAAAElFTkSuQmCC\n",
       "\" style=\"display:inline;vertical-align:middle;\" /></a></td></tr>\n",
       "<tr><td>6</td><td>Variable</td><td></td><td><a class=\"ProveItLink\" href=\"../../../__pv_it/common/a0d9d672aa5e272d907247690c152cc2c6daafb70/expr.ipynb\"><img src=\"data:image/png;base64,iVBORw0KGgoAAAANSUhEUgAAAAsAAAAJBAMAAAAWSsseAAAAMFBMVEX///8AAAAAAAAAAAAAAAAA\n",
       "AAAAAAAAAAAAAAAAAAAAAAAAAAAAAAAAAAAAAAAAAAAv3aB7AAAAD3RSTlMAEHarMolUmd1mIs3v\n",
       "RLtmgJDEAAAACXBIWXMAAA7EAAAOxAGVKw4bAAAAQklEQVQI12NgEFIWCU1gYChgMmJvYOBcwPmR\n",
       "eQIDCwP7BgYQ4FEAU/cXMAowyF2wYWBlYMh3rGG4xsAgrsRWmcAAAFEjCyBvD0T9AAAAAElFTkSu\n",
       "QmCC\n",
       "\" style=\"display:inline;vertical-align:middle;\" /></a></td></tr>\n",
       "<tr><td>7</td><td>Variable</td><td></td><td><a class=\"ProveItLink\" href=\"../../../__pv_it/common/ff7dba4ef0bbe791ab573bf2d9c220a304399ac80/expr.ipynb\"><img src=\"data:image/png;base64,iVBORw0KGgoAAAANSUhEUgAAAAsAAAANBAMAAACN24kIAAAAMFBMVEX///8AAAAAAAAAAAAAAAAA\n",
       "AAAAAAAAAAAAAAAAAAAAAAAAAAAAAAAAAAAAAAAAAAAv3aB7AAAAD3RSTlMAEHaZZquJVO8y3btE\n",
       "zSKD2s2pAAAACXBIWXMAAA7EAAAOxAGVKw4bAAAAVklEQVQI12NgVHZgEGVgYGNvYPBnYJjOvIAh\n",
       "moFBgEOBoYmBgeG8AOdPIGXLwNQApLYycAcAKVOG8w5ASjTJ/gEDCOQCMdsFxnYgxaXAmgCk2J1s\n",
       "gCQAaFoNDtFIIdEAAAAASUVORK5CYII=\n",
       "\" style=\"display:inline;vertical-align:middle;\" /></a></td></tr>\n",
       "</table>\n"
      ],
      "text/plain": [
       "0. x | (x * y)\n",
       "   core type: Operation\n",
       "   operator: 1\n",
       "   operands: 2\n",
       "1. |\n",
       "   core type: Literal\n",
       "   sub-expressions: \n",
       "2. (x, x * y)\n",
       "   core type: ExprTuple\n",
       "   sub-expressions: 6, 3\n",
       "3. x * y\n",
       "   core type: Operation\n",
       "   operator: 4\n",
       "   operands: 5\n",
       "4. *\n",
       "   core type: Literal\n",
       "   sub-expressions: \n",
       "5. (x, y)\n",
       "   core type: ExprTuple\n",
       "   sub-expressions: 6, 7\n",
       "6. x\n",
       "   core type: Variable\n",
       "   sub-expressions: \n",
       "7. y\n",
       "   core type: Variable\n",
       "   sub-expressions: "
      ]
     },
     "metadata": {},
     "output_type": "display_data"
    }
   ],
   "source": [
    "example_5.expr_info()"
   ]
  },
  {
   "cell_type": "markdown",
   "metadata": {},
   "source": [
    "<font size=3>We can access the left-hand and right-hand sides of such expressions in terms of operands:</font>"
   ]
  },
  {
   "cell_type": "code",
   "execution_count": 5,
   "metadata": {},
   "outputs": [
    {
     "data": {
      "text/html": [
       "<a class=\"ProveItLink\" href=\"../__pv_it/demonstrations/123611a5acf7ae04cff610213bba150d723122210/expr.ipynb\"><img src=\"data:image/png;base64,iVBORw0KGgoAAAANSUhEUgAAAEcAAAAVBAMAAADm2O7QAAAAMFBMVEX///8AAAAAAAAAAAAAAAAA\n",
       "AAAAAAAAAAAAAAAAAAAAAAAAAAAAAAAAAAAAAAAAAAAv3aB7AAAAD3RSTlMAInZUiRDNmWbv3US7\n",
       "qzJazP2FAAAACXBIWXMAAA7EAAAOxAGVKw4bAAABW0lEQVQoz4WSvUvDUBDAf20S00/p7BS7OBUc\n",
       "REeLipsQCtKllS6CYxEpVRGjDo4NdXQpOAhORf+AVlcRiiAoOBTUxUkHHYuXhqRQIXnw7t67+73c\n",
       "Rw7IELiG7uhsMHTtiLlghqgFWiUEYhN0Kww6hXgYQ9xkPhSasNgRVchtrLg1atmn92XPq81YlEHt\n",
       "sSW3avRRbw3tOjljz4NUxaYBsQoXIjOxn7Sb/xEN89mD3uTlKwh6DpPoXh/61NxIvyLMuEFT3F8O\n",
       "JAUYfppNV106omNODiBpO+HkltFM15n8Zt1/UCNqS7gWd1Bqv6DK1yXKfdom70MPpHqScpc1WPzY\n",
       "5WaYhjIo2snRDz+gI/XoeT6hmFXq4rky0baNhZNRG8tLhzIoiTaJvmdSzP/dXpU9JRGrfu/GCbWi\n",
       "nYmqy771bIVxKGGkpYhIV44lz2aMQ8rxvsiUM78RI3gIpuEPamtCRVkPgtAAAAAASUVORK5CYII=\n",
       "\" style=\"display:inline;vertical-align:middle;\" /></a>"
      ],
      "text/plain": [
       "(x, x * y)"
      ]
     },
     "metadata": {},
     "output_type": "display_data"
    }
   ],
   "source": [
    "example_5.operands"
   ]
  },
  {
   "cell_type": "code",
   "execution_count": 6,
   "metadata": {},
   "outputs": [
    {
     "data": {
      "text/html": [
       "<a class=\"ProveItLink\" href=\"../../../__pv_it/common/a0d9d672aa5e272d907247690c152cc2c6daafb70/expr.ipynb\"><img src=\"data:image/png;base64,iVBORw0KGgoAAAANSUhEUgAAAAsAAAAJBAMAAAAWSsseAAAAMFBMVEX///8AAAAAAAAAAAAAAAAA\n",
       "AAAAAAAAAAAAAAAAAAAAAAAAAAAAAAAAAAAAAAAAAAAv3aB7AAAAD3RSTlMAEHarMolUmd1mIs3v\n",
       "RLtmgJDEAAAACXBIWXMAAA7EAAAOxAGVKw4bAAAAQklEQVQI12NgEFIWCU1gYChgMmJvYOBcwPmR\n",
       "eQIDCwP7BgYQ4FEAU/cXMAowyF2wYWBlYMh3rGG4xsAgrsRWmcAAAFEjCyBvD0T9AAAAAElFTkSu\n",
       "QmCC\n",
       "\" style=\"display:inline;vertical-align:middle;\" /></a>"
      ],
      "text/plain": [
       "x"
      ]
     },
     "metadata": {},
     "output_type": "display_data"
    }
   ],
   "source": [
    "example_5.operands[0]"
   ]
  },
  {
   "cell_type": "code",
   "execution_count": 7,
   "metadata": {},
   "outputs": [
    {
     "data": {
      "text/html": [
       "<a class=\"ProveItLink\" href=\"../__pv_it/demonstrations/d823590ed2dbb050c594c903dcb4dd5f70fabe230/expr.ipynb\"><img src=\"data:image/png;base64,iVBORw0KGgoAAAANSUhEUgAAACYAAAANBAMAAAA3eAFoAAAAMFBMVEX///8AAAAAAAAAAAAAAAAA\n",
       "AAAAAAAAAAAAAAAAAAAAAAAAAAAAAAAAAAAAAAAAAAAv3aB7AAAAD3RSTlMAEHarMolUmd1mIs3v\n",
       "RLtmgJDEAAAACXBIWXMAAA7EAAAOxAGVKw4bAAAAm0lEQVQY02NgEFIWCU1ggAKhSgZGAwaGAiYj\n",
       "9gaYWEAOA+cHBs4FnB+ZJ0CFWBIqGJgfMLAwsG8AcRl/gwiGQww8CkAGmGBgaAcRvB8Z/B2A9P0F\n",
       "jAIw84B6dBgY5C7YMLDChBj4DBgeMzDkO9YwXIOLsRvw/mRgEFdiq4Q7j4HRVP0XAwZg3YAuEs0g\n",
       "k4Au1sRgiqEzU/0CAwMANG0bihm80YMAAAAASUVORK5CYII=\n",
       "\" style=\"display:inline;vertical-align:middle;\" /></a>"
      ],
      "text/plain": [
       "x * y"
      ]
     },
     "metadata": {},
     "output_type": "display_data"
    }
   ],
   "source": [
    "example_5.operands[1]"
   ]
  },
  {
   "cell_type": "markdown",
   "metadata": {},
   "source": [
    "<font size=3>We can access the “divides” operator itself:</font>"
   ]
  },
  {
   "cell_type": "code",
   "execution_count": 8,
   "metadata": {},
   "outputs": [
    {
     "data": {
      "text/html": [
       "<a class=\"ProveItLink\" href=\"../__pv_it/common/a65366842efe06ee8900f970dcf24400f165cec40/expr.ipynb\"><img src=\"data:image/png;base64,iVBORw0KGgoAAAANSUhEUgAAAAIAAAAVBAMAAACeSyI0AAAAFVBMVEX///8AAAAAAAAAAAAAAAAA\n",
       "AAAAAAA9huxxAAAABnRSTlMAIolEdjKD1yioAAAACXBIWXMAAA7EAAAOxAGVKw4bAAAAD0lEQVQI\n",
       "12MQYFAmCroCADmMAu+oWqIsAAAAAElFTkSuQmCC\n",
       "\" style=\"display:inline;vertical-align:middle;\" /></a>"
      ],
      "text/plain": [
       "|"
      ]
     },
     "metadata": {},
     "output_type": "display_data"
    }
   ],
   "source": [
    "example_5.operator"
   ]
  },
  {
   "cell_type": "markdown",
   "metadata": {},
   "source": [
    "<font size=3>If and when needed, we can check for an expression being an instance of the Divides class:</font>"
   ]
  },
  {
   "cell_type": "code",
   "execution_count": 9,
   "metadata": {},
   "outputs": [
    {
     "data": {
      "text/plain": [
       "True"
      ]
     },
     "metadata": {},
     "output_type": "display_data"
    }
   ],
   "source": [
    "isinstance(example_5, Divides)"
   ]
  },
  {
   "cell_type": "markdown",
   "metadata": {},
   "source": [
    "<font size=3>We can also get a list of the variables and a separate list of the *free* variables in the expression (of course, in this expression, all the variables are also free variables):</font>"
   ]
  },
  {
   "cell_type": "code",
   "execution_count": 10,
   "metadata": {},
   "outputs": [
    {
     "data": {
      "text/html": [
       "<a class=\"ProveItLink\" href=\"../../../__pv_it/common/70b6dfe187a2382408546cc714e0c3bc5c3a48c90/expr.ipynb\"><img src=\"data:image/png;base64,iVBORw0KGgoAAAANSUhEUgAAACwAAAAVBAMAAADP3xFXAAAAMFBMVEX///8AAAAAAAAAAAAAAAAA\n",
       "AAAAAAAAAAAAAAAAAAAAAAAAAAAAAAAAAAAAAAAAAAAv3aB7AAAAD3RSTlMAInZUiRDNmWbv3US7\n",
       "qzJazP2FAAAACXBIWXMAAA7EAAAOxAGVKw4bAAABFElEQVQY022QIU8DQRBG31273JVScj8A0WAK\n",
       "gqSCEIoBQXAkzRlC0hAksqKioFAoFAkK04AD0wSFguJJLqQGV4PBFEQJkm/veuauk+zM7tvZ2W8G\n",
       "CMiYY51bz+JyVW6dnK2AOc7juSbeeR77bUrMsGs2ZuETOvLh2tFuoifsYiLY1wW03XevF+OdBv43\n",
       "XHCnHwJ/Uol/XqyfUXmBBjc64E1VGq4oqZmxxcTbpMEJ4xE82SLwHJhmjPVsVWGLV2j1PyiCvViI\n",
       "eFO4lBa2P095xPza7Kj8p9DhCw6WC13Jvle6GdZ+hB+YH6WtFeLyRYlyenYsU1N59jjUOzu+QYpD\n",
       "rVuG8ktarRRb7Zu1PkmmU83Ozw34B0+VM03mG9eBAAAAAElFTkSuQmCC\n",
       "\" style=\"display:inline;vertical-align:middle;\" /></a>"
      ],
      "text/plain": [
       "(x, y)"
      ]
     },
     "metadata": {},
     "output_type": "display_data"
    }
   ],
   "source": [
    "used_vars(example_5)"
   ]
  },
  {
   "cell_type": "code",
   "execution_count": 11,
   "metadata": {},
   "outputs": [
    {
     "data": {
      "text/html": [
       "<a class=\"ProveItLink\" href=\"../../../__pv_it/common/70b6dfe187a2382408546cc714e0c3bc5c3a48c90/expr.ipynb\"><img src=\"data:image/png;base64,iVBORw0KGgoAAAANSUhEUgAAACwAAAAVBAMAAADP3xFXAAAAMFBMVEX///8AAAAAAAAAAAAAAAAA\n",
       "AAAAAAAAAAAAAAAAAAAAAAAAAAAAAAAAAAAAAAAAAAAv3aB7AAAAD3RSTlMAInZUiRDNmWbv3US7\n",
       "qzJazP2FAAAACXBIWXMAAA7EAAAOxAGVKw4bAAABFElEQVQY022QIU8DQRBG31273JVScj8A0WAK\n",
       "gqSCEIoBQXAkzRlC0hAksqKioFAoFAkK04AD0wSFguJJLqQGV4PBFEQJkm/veuauk+zM7tvZ2W8G\n",
       "CMiYY51bz+JyVW6dnK2AOc7juSbeeR77bUrMsGs2ZuETOvLh2tFuoifsYiLY1wW03XevF+OdBv43\n",
       "XHCnHwJ/Uol/XqyfUXmBBjc64E1VGq4oqZmxxcTbpMEJ4xE82SLwHJhmjPVsVWGLV2j1PyiCvViI\n",
       "eFO4lBa2P095xPza7Kj8p9DhCw6WC13Jvle6GdZ+hB+YH6WtFeLyRYlyenYsU1N59jjUOzu+QYpD\n",
       "rVuG8ktarRRb7Zu1PkmmU83Ozw34B0+VM03mG9eBAAAAAElFTkSuQmCC\n",
       "\" style=\"display:inline;vertical-align:middle;\" /></a>"
      ],
      "text/plain": [
       "(x, y)"
      ]
     },
     "metadata": {},
     "output_type": "display_data"
    }
   ],
   "source": [
    "free_vars(example_5)"
   ]
  },
  {
   "cell_type": "markdown",
   "metadata": {},
   "source": [
    "## Axioms <a id='axioms'></a>"
   ]
  },
  {
   "cell_type": "markdown",
   "metadata": {},
   "source": [
    "<font size=3>Currently there is a single ``axiom`` for the divisibility theory, establishing the basic definition for $x\\rvert y$ (see [divisibility axioms](./_axioms_.ipynb) page.) for updates).</font>"
   ]
  },
  {
   "cell_type": "code",
   "execution_count": 12,
   "metadata": {},
   "outputs": [
    {
     "data": {
      "text/html": [
       "<span style=\"font-size:20px;\"> <a class=\"ProveItLink\" href=\"axioms.ipynb#divides_def\" style=\"text-decoration: none\">&nbsp;&#x22A2;&nbsp;&nbsp;</a><a class=\"ProveItLink\" href=\"../__pv_it/axioms/4db0f292ce4a27734d1fb2121a85530bf79b23460/expr.ipynb\"><img src=\"data:image/png;base64,iVBORw0KGgoAAAANSUhEUgAAANwAAAAmBAMAAABdfejNAAAAMFBMVEX///8AAAAAAAAAAAAAAAAA\n",
       "AAAAAAAAAAAAAAAAAAAAAAAAAAAAAAAAAAAAAAAAAAAv3aB7AAAAD3RSTlMAq1RmmUTNIjK7EInv\n",
       "3XZ/CtNrAAAACXBIWXMAAA7EAAAOxAGVKw4bAAAES0lEQVRYw41XX2gcRRj/bu/2bm/3cgkIbVNr\n",
       "ODAIRYpBpKUgadraKpho6EMffDAHeRBbketLMFLpVXxqI422RWybsIU+GDV/LKQgQjjbpn+xxkLV\n",
       "UA4uGlvrQwitpSEVdeabnZ3NzszefnC/nduZnd/M933z228BImwbxLVUIaLT3iMwao6m2HRbyXTz\n",
       "bXBa3fuxK1BvG2OzJYsAjlGBLZruJoFas67FphsgC/8wNQPNmv5PA6iz9ERsur3k5+ZqcEPT/7Ur\n",
       "UGfPuXHZjGWKPa61FJkF0blwO/bmGtAPOyFf0QzIPBKoC91ybLoj6IdPIKtd/skAqi0xiJeS9zd8\n",
       "DVqzdxh62nSTvRhAtTXis3l+fie965uKoQ8QT0+9Hl7LMz9eGpq9QBoHcBqCuP+nVR7CZ5+FEF1e\n",
       "3oHFY3Iu3HNvDaShSKPbAQx30OtbCjo8snYxTAeyFiUXKTpF+3y45yWA3x26sRTOQ/AgTZlBBd0q\n",
       "HNAm0b0gRxnnaqglpIO6GuzBEfTJoodpklWOSmC/p5ADiS4nHcccBsRo3+HfyQ9Vf6ZXF1LlNdi5\n",
       "5GGSrD+tSpXHGGuZLi0FrzG8K/Ndf0kHLYyadZ/jD9XqddCl26vkNzb3xXcFQudJvtOkzuGA9QkH\n",
       "nMhi237A8RVyTyUEuJ5e8uvItxD1neSSn8RIdVWp/QTgZ3nAROYZE+2s8S/HfZBRiQHb/k0yfSm5\n",
       "nGgjdJ7kG5JSHQnTFYXM8/ZjjlnX6VbQmQ8pThNelsWTXPKtxfDQHvp843/UsM8i8anOYtdvZG6b\n",
       "Nv4GD42aMlPY7qYx82osVZjkm3V3Zw+KVj85J6UgHRSpexdenid3zTlIhJ1JaEq2S+mY5Bsz4dhJ\n",
       "zpzxT2R5NcD4itjBWaIT+VJzmjw01ugO8FTBXBoGGOleBw7ujkl+UtKEA+HMXOCNj0xyDJ4Sskpx\n",
       "P50Dhi3SfH8D3ON+wPV8Q96yhzphF9IxyU9J2jFeC9cBfLsniIj0r/fzHDFRpk0ms09CC3/mIlZP\n",
       "AGcWjO0FpGOS3yAlVq4jXOk1v8HS7eo7n5/6h77lLEw8htiqZOjlFlzhd95GISyvUBUq+R/IRY3k\n",
       "XvNbJmKh8sLgb+z9TjEFXwH8avpp3oli3yHoPMnfLlcilbrve2dGIH3ij6m/YKAArZv9I7oF1ecz\n",
       "QcckX/H2SNYvM1hZESouCnYp62fZOMZ7RNAxyc/K1YN9vy4dk9WV4mq6idpusSD0Y4Zn3Z/e9a5i\n",
       "smN16XpKAn2ngNkusjxZPyIrCh97Ye3hs7oR59TFRdBFD2PTjdOzkYK5WpduxPkARq4ojjk0vzaR\n",
       "5HpCM4DVu/lIf+XKsfnoYS0TTdVOVRAY9RUV09in2Q1t/50Aaq03Nh3WL+Yj+FLziXBZoN5GS3Hp\n",
       "7F/APp6ogOYTbbQgUG+ZPbG31+caS2cqpmbCowGMsPdi02XK9mu11uc1e+/28X/YOCadZYDVZwAA\n",
       "AABJRU5ErkJggg==\n",
       "\" style=\"display:inline;vertical-align:middle;\" /></a></span>"
      ],
      "text/plain": [
       "|- forall_{x, y} ((x | y) = ((y / x) in Integer))"
      ]
     },
     "metadata": {},
     "output_type": "display_data"
    }
   ],
   "source": [
    "# def of x|y\n",
    "divides_def"
   ]
  },
  {
   "cell_type": "markdown",
   "metadata": {},
   "source": [
    "<font size=3>Divisibility $x\\rvert y$ involving non-zero integers $x$ and $y$ is often defined as  $(x\\rvert y) = \\exists_{k\\in\\mathbb{Z}}[y = kx]$. The axiomatic definition shown above is essentially the same, implicitly disallowing $x=0$ by the nature of the fraction $\\frac{y}{x}$, but also allowing $y=0$.</font>"
   ]
  },
  {
   "cell_type": "markdown",
   "metadata": {},
   "source": [
    "## Theorems & Conjectures<a id='theorems_and_conjectures'></a>"
   ]
  },
  {
   "cell_type": "markdown",
   "metadata": {},
   "source": [
    "<font size=3>The `number/divisbility` theory has a handful of related theorems and conjectures established, with a number of other possibilities still open for development. Some illustrative examples of the theorems are shown below, and the remainder can be found in the [divisibility theorems notebook](./\\_theorems\\_.ipynb).</font>"
   ]
  },
  {
   "cell_type": "code",
   "execution_count": 13,
   "metadata": {},
   "outputs": [],
   "source": [
    "from proveit.numbers.divisibility import (\n",
    "        divides_is_bool, divides_transitivity, divides_reflexivity,\n",
    "        divides_anti_symmetry, euclids_lemma, divides_sum, non_zero_divides_zero)"
   ]
  },
  {
   "cell_type": "code",
   "execution_count": 14,
   "metadata": {},
   "outputs": [
    {
     "data": {
      "text/html": [
       "<span style=\"font-size:20px;\"> <a class=\"ProveItLink\" href=\"proofs/divides_is_bool/thm_proof.ipynb\" style=\"text-decoration: none\">&nbsp;&#x22A2;&nbsp;&nbsp;</a><a class=\"ProveItLink\" href=\"../__pv_it/theorems/a37f530cbd600b6f92315381f7fad2360923d06c0/expr.ipynb\"><img src=\"data:image/png;base64,iVBORw0KGgoAAAANSUhEUgAAAJAAAAAWBAMAAADdgQhOAAAAMFBMVEX///8AAAAAAAAAAAAAAAAA\n",
       "AAAAAAAAAAAAAAAAAAAAAAAAAAAAAAAAAAAAAAAAAAAv3aB7AAAAD3RSTlMAq1RmmUTNIjK7EInv\n",
       "3XZ/CtNrAAAACXBIWXMAAA7EAAAOxAGVKw4bAAACc0lEQVQ4y52US2gTURSG/8lkkkzSxm5EglIG\n",
       "FDdaDC6EIsSKVEUFg0IXvjrQhVCKTjcFpYvqUiqOK0GwTsGFRQip+ECEEATBKkorVHQRmNIqWjC4\n",
       "UwTBO+fcJDOTiQsv/PP47+G7c8+cc4GOw5JC657sEJrEP0bWYNF4zDfNDQV9X7g4tlQkv8d73xoB\n",
       "2iHlB2E1HGWfS45uJH/Qez3fzkmbrCAo4YRBJ/FUJ/+Kt0W7HRTPs4IgdaAdtFsh31sjY7SDuqSC\n",
       "ILyWCbxT+9AEJchXxaqJiBRtlwqBRjjpF5zWF23ay/7bWu1NBOioVGnl/nNDgNJrecwC8zQ54bSS\n",
       "XVoqg/zDwO0I0IjUQLY3vihAmVgV+4A9CP4c++zYnyMgfxzJngjQe5Zqqb+VvABdFbgcsJMmTX+y\n",
       "V4cc8nUnU4wAvWSlEDcpR06Xi3fADW8uJdJR+9QA6VqZ/JgblesGSPw6l5M97KR+AWeoxmz/F+mw\n",
       "2TcL4lI/tCb6SVuBEtyaAFhpxwMdRLYK9NHkYhBksv9wVNSFlUuIYiptcKZlxAxrrrgFGfqim9BF\n",
       "Lvtpsh4AxVz2J8W8ipmUeLzch28yYp6169oxnCDQfgznuSJE4TUr2D6NyiNZKcqU5/wkfzN6ZcR1\n",
       "1r167IBBoNnKcbH5ZW7E3CmO+rJw1+v+hu/9iCqdKct4JY3uKZavsp+IrpTZ0Z7JFmkcSI2sTWbM\n",
       "OB4AH7UfvvZstagoSDP9wt/G7S3OD58r65g2sK2/WWu3pCSo21VEuVzqcAqGfCNt6c0l56QkKFYY\n",
       "9JNDI+hrjuIOtbbtsmh8laeH1eFYDvoqtEIZ/zn+ArWHp1BpUuAHAAAAAElFTkSuQmCC\n",
       "\" style=\"display:inline;vertical-align:middle;\" /></a></span>"
      ],
      "text/plain": [
       "|- forall_{x, y} ((x | y) in BOOLEAN)"
      ]
     },
     "metadata": {},
     "output_type": "display_data"
    }
   ],
   "source": [
    "# divisibility claims are Boolean\n",
    "divides_is_bool"
   ]
  },
  {
   "cell_type": "code",
   "execution_count": 15,
   "metadata": {},
   "outputs": [
    {
     "data": {
      "text/html": [
       "<span style=\"font-size:20px;\"> <a class=\"ProveItLink\" href=\"proofs/divides_transitivity/thm_proof.ipynb\" style=\"text-decoration: none\">&nbsp;&#x22A2;&nbsp;&nbsp;</a><a class=\"ProveItLink\" href=\"../__pv_it/theorems/ca39d4d0d9caa3c5e2512e1e8653cc0d3dde150f0/expr.ipynb\"><img src=\"data:image/png;base64,iVBORw0KGgoAAAANSUhEUgAAAKsAAAAXBAMAAACGzqIkAAAAMFBMVEX///8AAAAAAAAAAAAAAAAA\n",
       "AAAAAAAAAAAAAAAAAAAAAAAAAAAAAAAAAAAAAAAAAAAv3aB7AAAAD3RSTlMAq1RmmUTNIjK7EInv\n",
       "3XZ/CtNrAAAACXBIWXMAAA7EAAAOxAGVKw4bAAACjElEQVQ4y62VT2jTcBTHv2mT5k+7ruBJhRFw\n",
       "By9CEUEEmYOhG4JjUBR0MMsuAw8SD3qYc9TDDmInAdGDBwkqCg4kDhHmQYqHIYjSi9LLIJPJ0MHY\n",
       "beLJ935pkyZtUYyB7vv7JS+fvXx/7/d+QPJLjamF/3J9bWp2wtcp+hV4cCAJNeXGsPkicJIHM0mw\n",
       "TxHD4hJwk02xk2BHOrBHgIxDczMJttaBzTlIkxGZRNaWO7AZYn5cW/uQBCvTihnb+24vC+xiQy0i\n",
       "S3UwBjzo9UY4HI48aJ9xajLWvTOMNS6vvATS9AFXoBZ6YPVwGF3U9lkfLcxRnHD2MFZ18IZ8Ibt1\n",
       "J/Dkn7A5eruCUy1vl6gEtB1Cez1X7K+xwKcmVvVooHBxlIfoz/boBm1lZR0SBy3OnA2x+Y35UQJN\n",
       "FcSOFGJD+3J1IjQByi6eC2wJBmVap1vLtCny1t4MPX7R71Q5dGxyOMRuSvY0bMP7pVESvtiQF161\n",
       "PsmDcU+qwWVsyuS80vw1c5REGg81Gs4ewncRe73NhKLuVWCrj+p5ivaFB0EnKCD180lNMRl7a2Wr\n",
       "4dccpAo/3RUx+zHAonnt3vZb7KbkSnxXCGHvtLzV6jDGvcHDwls3tUpO9AU1oNVEt/yM9ywlzLZh\n",
       "q9RBbYrN8f8XYkMpUi35V6Njl91o3ZnLlmUsUYiyQ6JOL9gBVq29pvInbOUiDFcIza4dPI+wscSw\n",
       "QfORv739gaqJwWNlEvnxqhVmOz657RAoNXIf2jshNDt9PGimuhXDxhuiaVg6bUWza90+w10qHV8i\n",
       "7xl2DKtHTx3FkbxzLF2xAwrt9Au+RNOZb2q+4utmNNk0lCGXpSu2tMXF5kuith8cpR2n6R/P1t/0\n",
       "e6GoOgTeXgAAAABJRU5ErkJggg==\n",
       "\" style=\"display:inline;vertical-align:middle;\" /></a></span>"
      ],
      "text/plain": [
       "|- forall_{x, y, z | x | y, y | z} (x | z)"
      ]
     },
     "metadata": {},
     "output_type": "display_data"
    }
   ],
   "source": [
    "# divisbility is transitive\n",
    "divides_transitivity"
   ]
  },
  {
   "cell_type": "code",
   "execution_count": 16,
   "metadata": {},
   "outputs": [
    {
     "data": {
      "text/html": [
       "<span style=\"font-size:20px;\"> <a class=\"ProveItLink\" href=\"proofs/divides_reflexivity/thm_proof.ipynb\" style=\"text-decoration: none\">&nbsp;&#x22A2;&nbsp;&nbsp;</a><a class=\"ProveItLink\" href=\"../__pv_it/theorems/44c70e76a6c3ab3156ba12ebe489870545e51c0a0/expr.ipynb\"><img src=\"data:image/png;base64,iVBORw0KGgoAAAANSUhEUgAAAJQAAAAXCAMAAADaxpaQAAAAOVBMVEX///8AAAAAAAAAAAAAAAAA\n",
       "AAAAAAAAAAAAAAAAAAAAAAAAAAAAAAAAAAAAAAAAAAAAAAAAAAAAAAACXHtMAAAAEnRSTlMAq1Rm\n",
       "mUTNIjK7EInv3Xbt5cmRiLwgAAAACXBIWXMAAA7EAAAOxAGVKw4bAAACLklEQVRIx8VWiZKlIAwM\n",
       "92lm1///2AmHiMhTd6rcod6zpDXYpJsAwH9t5qZ/Bt5vyAcgqAFQmK6s9bl4mxMPcEcKMLGQDdZv\n",
       "p85ruCcF2gPYLVXGvZ0oKZ6QErIyy8/526QiPCEFkQiJyl+/7ij9jJROhOKSWgyvq1e/4BGZtyEr\n",
       "U0j1CGHJUNKmW+f/YfhLO396oEWLRoYgl0aqR0i6lFHDtsun6uIkQ4M7cLUkymdCwFPml5IIQYtc\n",
       "rB6Y2N4+ICRz3JJ0Ftcic45Q7xgFcRcekSqTEzQDNb4VyyeSLlL3Uzgg1F0zNZzYXBZVKc7nHIln\n",
       "pFgudjHFrmZKKt/iaPS4C6FiXXiiYojS0K8W1mwRYdW4K/WkWkQZMFM3azJW5FP50luJr/cdqR2h\n",
       "HC21RNVihQaYA81Js7aQDT9V+o5Ui5AutS/6CxIgDbcMtdLliXuyBEu5CFumjghpUoY3sdpc5FDK\n",
       "vWoDCi/8BakWsW9cUEl1iuxLHfhqvSQKim+kjsheOphtocUJQueJOw7WKntB6uCdLb9FvnWQz2ZZ\n",
       "vEQELgVvnjoilOHzmovZPXa3dTV6X3/cJCLJ9+evy/LNjQ6LfVLRzTL0IwRdauNeS03INg7TOtVF\n",
       "dHs7uZ/UYNOt9pbUaduWqAKiz2eGNi0fSEtp5/LtEYdNgYqnPJd2Z+5JXR5WfEhSqOmzeRzH2wOV\n",
       "uyflfnqqm5N6cMwwI28cbYY/PmlOSXEFv9rePjd/A2rQEXEfWRMGAAAAAElFTkSuQmCC\n",
       "\" style=\"display:inline;vertical-align:middle;\" /></a></span>"
      ],
      "text/plain": [
       "|- forall_{x in Complex | x != 0} (x | x)"
      ]
     },
     "metadata": {},
     "output_type": "display_data"
    }
   ],
   "source": [
    "# divisbility is reflexive\n",
    "divides_reflexivity"
   ]
  },
  {
   "cell_type": "code",
   "execution_count": 17,
   "metadata": {},
   "outputs": [
    {
     "data": {
      "text/html": [
       "<span style=\"font-size:20px;\"> <a class=\"ProveItLink\" href=\"proofs/divides_anti_symmetry/thm_proof.ipynb\" style=\"text-decoration: none\">&nbsp;&#x22A2;&nbsp;&nbsp;</a><a class=\"ProveItLink\" href=\"../__pv_it/theorems/4ea54d9bff5cf73d901a794eb2ab335d7514cfb90/expr.ipynb\"><img src=\"data:image/png;base64,iVBORw0KGgoAAAANSUhEUgAAAT8AAAAXBAMAAACPAFV3AAAAMFBMVEX///8AAAAAAAAAAAAAAAAA\n",
       "AAAAAAAAAAAAAAAAAAAAAAAAAAAAAAAAAAAAAAAAAAAv3aB7AAAAD3RSTlMAq1RmmUTNIjK7EInv\n",
       "3XZ/CtNrAAAACXBIWXMAAA7EAAAOxAGVKw4bAAADYUlEQVRIx81XT0gUURj/Zndm3TfrTkInK2Qh\n",
       "8SLRFkJ0UVO0wP5Ih4660EEQguniITS2jqVghxA6yAgSWSCrhy6BLEEQRLEIRRdhDEPqsHhTOvX+\n",
       "OjPvD9QI0Qe/93Z+7/vm/fa9730zA3AUa+EwmP8HjJb3YziSfeMw2JhMeCW9o8yPxdBGiNPp9GVq\n",
       "DCbzyhLRbXDs1gQKDBFiIp3A5xxGmySNFeAmH+LGrejdVH4ywgOSRvPpBA5yGK2HNFmiDVVxY5f1\n",
       "birfEyGH/1+hlE5gncNorWTxoIExRS9NbtpAjixWn0uZghUGs+Xo0qxjDJAfXQa3Lm2gwMetrQ/p\n",
       "BNo1Brd54vG6lFU7ZVjCW0OP4BRfRRjBWN1+8UbesBFtoMAVgGfK3P2RiqQm3d+0YTu8Rga3qBFR\n",
       "hUwd+nD60fW1quCRPITb5M5eh91IOlOeWyxQ4C60tCkCo1ODEnziqlhiuAB9wfFk/EMsoh0nAM3Q\n",
       "fBsUaTJu4hn97C9LPhOb2kABFBRG0wlsHWWowrAcH7SG8AlL2wNWxTpp/w4zYKtZi3n3Dl3QaixQ\n",
       "IBNqzshfCQRyS8nGg/wBgFPndXhCCMERoU6gJlAAKr24aV7ewQ8+ZxusmEBCIkHSDgnP+BaDsw8v\n",
       "pbQaBo/sUIM55uejrRz33UByjm1xLFAA1nG59vz2HJ5q9VgwGwmkJBIk7ZDwpMsZUrhPrTrID7wn\n",
       "gPDcWSbMO8eSaBFgZfQUFOQVXNQGCsA0IWAxj3/eOwM/IoGURIKkHRKe9MSxOpA5WK47cuW4BONl\n",
       "VoRI7fjCyDWAs4+uwk1Z4Jo2UIBUAWz7dPgkdMRzcJ9mHSdJhw49yelsULjXw87z8pxLGzdwIhT5\n",
       "8Rtg3RzAcjMzqDy35rSBAnyyOn2v+wzvYwIJiQ5J0qFDT2JfObT2GmMmSRWretckLwJn4jeYLlRs\n",
       "eIWnc/YigZREjORjiJHSI121QsV9q75JZPv1AmN8LDDxKmJ/3/gJsyXovFiJBFISCyQkH0OMFEXH\n",
       "Z9CsSWjVNG9JC4bVXtAECsSt5PqorNRBRrKxZFV05xk07xG9Q6ARv2IQuKIJ1Px7J7DCW2qhpiQf\n",
       "SwqE+xwG21W+YULDt02oBu6qN8iC01tTBVKSjyH4T8xPfLiB4epf2G+nkRDn1555EAAAAABJRU5E\n",
       "rkJggg==\n",
       "\" style=\"display:inline;vertical-align:middle;\" /></a></span>"
      ],
      "text/plain": [
       "|- forall_{x, y | x | y, y | x} ((x = y) or (x = (-y)))"
      ]
     },
     "metadata": {},
     "output_type": "display_data"
    }
   ],
   "source": [
    "# divisbility manifests a form of antisymmetry\n",
    "divides_anti_symmetry"
   ]
  },
  {
   "cell_type": "code",
   "execution_count": 18,
   "metadata": {},
   "outputs": [
    {
     "data": {
      "text/html": [
       "<span style=\"font-size:20px;\"> <a class=\"ProveItLink\" href=\"proofs/euclids_lemma/thm_proof.ipynb\" style=\"text-decoration: none\">&nbsp;&#x22A2;&nbsp;&nbsp;</a><a class=\"ProveItLink\" href=\"../__pv_it/theorems/1383c0db9fb9ba504ecf98232ea971f42efe86410/expr.ipynb\"><img src=\"data:image/png;base64,iVBORw0KGgoAAAANSUhEUgAAARYAAAAXBAMAAAA8SH1tAAAAMFBMVEX///8AAAAAAAAAAAAAAAAA\n",
       "AAAAAAAAAAAAAAAAAAAAAAAAAAAAAAAAAAAAAAAAAAAv3aB7AAAAD3RSTlMAq1RmmUTNIjK7EInv\n",
       "3XZ/CtNrAAAACXBIWXMAAA7EAAAOxAGVKw4bAAAD1UlEQVRIx8WWS2gTURSG/ySTZjLTpHEpSokP\n",
       "0IWPAV+IUgJFalUkKAr1GRUpupARH1CVGhEXStSqqNSCDCo+EDTWB6hYi6CIInSjdVMYtb4qBHdK\n",
       "3XjOnZlkJpPShRAvZObMvf+9+e45554Z4D+1iGPoZc//oX10jPvWLWwCCTYmVR0lmC9jwSdgEd9b\n",
       "q85yFeUsNQYOcaw6qs7S6GMJpRgHarLqLL0+FrxCSCP3VD9dMn6WLcCbgYHXVWeROHVvfbj+OMks\n",
       "8kB2F3AHWAxcGH1yym0FdfeQWWHbowlqNF4pXi/1McvVH110nOcCOxFJjIgwvqv5njBK2U3WHO8e\n",
       "y+Y8zY4ouOyEJkYZGtJDwwGNWfZBpaydBkQNNV2R48TYs+jHoyEfi+JlD+e98w6OKJALfbZVS38p\n",
       "Q8rY+aI8ostJ8qdZOXUlCh40eYrmY5HK2Ld7H7+PLAi6Wehq2izt/LSOfpkGuhSaBinG4Q8IMP+7\n",
       "PWmug0wkocQSH2xvIitWFOJ46yqgW5SHAi3T04CbDTtYIKTAhgQX9m4fS0xUkY26YjBLWAPFaDr1\n",
       "dBN2XB9bQ8O36owcAxy5B8XyxLypLpavgY7NZO0tCrF4LaXyZLYGcQqxdE7pl3+zQEihmMNyLwua\n",
       "O6lpJZYoeeRGejxU4ZeJ4lU0n/oP0D2EizKZ+6aTh7kQ55mVA2nmXSxa1MyS1WILb1LXfvq18Ixh\n",
       "qg/NuC6l5J/cIaSIXOqLd1gCr19U+s+Zx5ZhBbPIXRefkHgp9QeyPPpLaMahXqQt0W3r7DwNVTXI\n",
       "jcV8qdPZmmALczpkjvhRDlGGVnjOiRC3BHXiWAfyAdMSeFlkMq4Ugo1JZlExbSv1vXVUcq/4gHiL\n",
       "l5z4WsSQhUNWHBbHzWHJ0ddGh1jaEmIlnUcRIzVFwaD93NajQ8ZRW0p5ka7NVooR3vvqbsQZO6Bm\n",
       "JPb5+/BPJY+9U1vsAphPYX0xRpHeB1TpRO6ykHs2H6GBAs0MJgIJbIVaq588bMQsKa0Uy27kg+Hz\n",
       "C2b7WCTNMT73DCGXxOT5GfkZliykj4g22lBoTP3DTaV8Wb62YJAVpR2TkKddfkH2eZ65/IuJ3bOG\n",
       "wo0z7rKApbRSsPEcWGBv/cEfpwZH9XKWNm8dSCp6lBxpPSgPO8/CXW2LFtUuIbQbnziKe23WV9yC\n",
       "uIYzcI6kp5X6HJbz3vpoBMzVwJpKlc/zDmiCEDo+1WnmcXxxqZus2xrUhzNC4G/tjvHNusW9ohDC\n",
       "DbQjbVQW1RBCu83hmW0LlrjUVr7TSit/oPz19e9N91iGe8ioIB9VUKn9Bc5xEl0duzg1AAAAAElF\n",
       "TkSuQmCC\n",
       "\" style=\"display:inline;vertical-align:middle;\" /></a></span>"
      ],
      "text/plain": [
       "|- forall_{x, y, z in Integer | x | (y * z), gcd(x, y) = 1} (x | z)"
      ]
     },
     "metadata": {},
     "output_type": "display_data"
    }
   ],
   "source": [
    "# when dealing with integers, we can make some important claims\n",
    "euclids_lemma"
   ]
  },
  {
   "cell_type": "code",
   "execution_count": 19,
   "metadata": {},
   "outputs": [
    {
     "data": {
      "text/html": [
       "<span style=\"font-size:20px;\"> <a class=\"ProveItLink\" href=\"proofs/divides_sum/thm_proof.ipynb\" style=\"text-decoration: none\">&nbsp;&#x22A2;&nbsp;&nbsp;</a><a class=\"ProveItLink\" href=\"../__pv_it/theorems/b8b1a2aa009e1ceb1f211ba207ac5317a4850a610/expr.ipynb\"><img src=\"data:image/png;base64,iVBORw0KGgoAAAANSUhEUgAAAOQAAAAXBAMAAADpf/4JAAAAMFBMVEX///8AAAAAAAAAAAAAAAAA\n",
       "AAAAAAAAAAAAAAAAAAAAAAAAAAAAAAAAAAAAAAAAAAAv3aB7AAAAD3RSTlMAq1RmmUTNIjK7EInv\n",
       "3XZ/CtNrAAAACXBIWXMAAA7EAAAOxAGVKw4bAAADLUlEQVRIx62WQWgTQRSG/012s5tNmgY8aaEs\n",
       "tAcPLQQRpSA1ELRFaSkUBa3UUA8FDxIPCtZa4qEHsdoVUcGDLCoVrJRYpFAPEjwUUZRcKj0YWTVS\n",
       "tFIKHio9+WY32d1pNmKNA5OZf+Ztvpn3Zt4uUH+R+VauZZf50+TWyudyG+njZFUZpCqZQJyJlnqI\n",
       "gRyHdGRViSXo5wtwgInhepBT4JBTtS1PUw0ZuMwcrNeDTPHIlHdOSnjVbqrBJKMiotWDzPPIPOd0\n",
       "06uixMJrBGkdobpCmeaQrqxGhtieTwFvi8U39SBFOi7q6o6rszaSyZkU1DiPvLYkJxBhg0+BbuBu\n",
       "rX9zu0luIrlp6SI+mT02kslcG4JrHFI9M0+oIPPAHuAs5HgNZNjt8gfMqxroIOzFfmObjSSpaD0Q\n",
       "dA4pG3hOisW5jf7XKF/hf0RG6eksDlZiSVLFO0SJJRaLHyhs9oam6egobOuTbCE1T89fI0EQFwlp\n",
       "A5NZPpYy60hslyeopjvpZ7WrRClQ+gTBCvbwERcZK411EWQwbmWqslLen+tzHQtpHY8dx0JM48em\n",
       "E9tPe0egQL12qrOUFGKZ7SGynWk0JphB90DSRS4L+hB01dxQ8o6COP6s4goT6i0hj5yNJIlwHDd4\n",
       "ZEBjewky73RQHaXFB3FPoe5IO75ZJhc9jk2EzSx0+X4hpjuKPOVk1jgCvx7mJc1GsosgxqWfPPLK\n",
       "/MqSfYFwmKpguX3dmmpCM2sU0xvLxgyLnpATTFfheiWWSgFqr9m6qxxLklCbSus8MhdYoMkGZrDo\n",
       "PJi33mSLeGV7fsSDnKA3nU720ayrpIRslB9d4hOeJSNpv+xziZ2jQlmMRtIipsleWqNGHhrXHaSc\n",
       "n6OrT8jsSai5ijq/85g3WXuQJOfwRPNL6yzji5UR8euL75jQ0NqRpkZ8sJBxd9k7sGoQJJC6DeVl\n",
       "RR3a57zwwhkOSfIjBcjv64Ht4wI/pqmZMC1C872Xj3CTHOVzS1WdQ5JsKfkmF2ttd7ghyRDMo6zx\n",
       "RTZLFJ/jfolhrPLWz3Kyqiwzmww3FITUmWONL7J/hV0RP+T/LDL/dVZLbbH8Bm121CYquaDfAAAA\n",
       "AElFTkSuQmCC\n",
       "\" style=\"display:inline;vertical-align:middle;\" /></a></span>"
      ],
      "text/plain": [
       "|- forall_{x, y, z | x | y, x | z} (x | (y + z))"
      ]
     },
     "metadata": {},
     "output_type": "display_data"
    }
   ],
   "source": [
    "# divisibility across sums of divisible pieces\n",
    "divides_sum"
   ]
  },
  {
   "cell_type": "code",
   "execution_count": 20,
   "metadata": {},
   "outputs": [
    {
     "data": {
      "text/html": [
       "<span style=\"font-size:20px;\"> <a class=\"ProveItLink\" href=\"proofs/non_zero_divides_zero/thm_proof.ipynb\" style=\"text-decoration: none\">&nbsp;&#x22A2;&nbsp;&nbsp;</a><a class=\"ProveItLink\" href=\"../__pv_it/theorems/0761264083e18e863c0f32dfc6fcb616fe71888f0/expr.ipynb\"><img src=\"data:image/png;base64,iVBORw0KGgoAAAANSUhEUgAAAJEAAAAXCAMAAAA8713UAAAAOVBMVEX///8AAAAAAAAAAAAAAAAA\n",
       "AAAAAAAAAAAAAAAAAAAAAAAAAAAAAAAAAAAAAAAAAAAAAAAAAAAAAAACXHtMAAAAEnRSTlMAq1Rm\n",
       "mUTNIjK7EInv3Xbt5cmRiLwgAAAACXBIWXMAAA7EAAAOxAGVKw4bAAACVUlEQVRIx8WWi5KkIAxF\n",
       "gfAMmN31/z92SUC0Fbtnp8pZqsZR2+DxJrmg1E+O8P46qJ8eZE43snu5dMRHPa4NPAxkspoT5UxW\n",
       "9CFGsAPTPywaejUn8lU6XOTtHpWKm0ghPSyRhTkRLHIqrwfbseSWeZioqDlREk3MKhylHqGj+6er\n",
       "yN8QrayLiqso4pmmLDxKfjpp/QVIpDFmSQkT4UYkymQWzEY+TfgPk7+r37sfPIxg0qTs0onCmhuR\n",
       "tD6wkkFvhzsbSVZToP3Gmx5o3VPb+SL50uoUak9BrRkNZyL5Z8omz8mr+BHSKbGqSddJTMpfIWof\n",
       "BpXenR8q7Q2cEOsP/NhQXNMorsJFk7q2LZk1CpucXyLS4iqFQ9cwJZJTula2aZXtSm8z6M9QNU/x\n",
       "T9rMAyG686JzIBoBbRkQ7CCNXMw0ayJHfR5xdH9zotb9ZulW1E2JgtKJPRTHS00wFy/fiUaATTx+\n",
       "1T+oyvNsy8kQk3w01kLQrEPeHVJk6ZmENncova5BAqvmbkwHCHhPNALUWJZUJyp0qvluhBFtRXBm\n",
       "7wNWD0t88QgdR2BLP3j55mRUjC7eE73UyyZsy9p6ylqUfKAlUsaCOXQm2kwbwXLtsCIVE/c67pV9\n",
       "NJp0DeCs/f6TJGvzylZLvPGKY68up+uism8GuBtmyFK4eeZHh4DDml3LvablYnBgPxNdVmNLLhOh\n",
       "7ATGF2GuKbRxmrU94MX1ecNzNe8UPhG93X9g5hS46W/TOEMfN0jpE1H67hZtSvSFvUM4Q9NradG3\n",
       "94wzIuPUfxyPbn//AuP7EoUcjU/oAAAAAElFTkSuQmCC\n",
       "\" style=\"display:inline;vertical-align:middle;\" /></a></span>"
      ],
      "text/plain": [
       "|- forall_{x in Complex | x != 0} (x | 0)"
      ]
     },
     "metadata": {},
     "output_type": "display_data"
    }
   ],
   "source": [
    "# everything (non-zero) divides zero\n",
    "non_zero_divides_zero"
   ]
  },
  {
   "cell_type": "markdown",
   "metadata": {},
   "source": [
    "## Demonstrations <a id='further_demonstrations'></a>"
   ]
  },
  {
   "cell_type": "markdown",
   "metadata": {},
   "source": [
    "<div style=\"width: 90%; border: 5px solid green; padding: 10px; margin: 0px;\"><a id='demo01'></a><font size=4><font size=4><b>1.</b> TBA.</font></div><br>\n",
    "<font size=3>TBA</font>"
   ]
  },
  {
   "cell_type": "markdown",
   "metadata": {},
   "source": [
    "<div style=\"width: 90%; border: 5px solid green; padding: 10px; margin: 0px;\"><a id='demo02'></a><font size=4><font size=4><b>2.</b> TBA.</font></div><br>\n",
    "<font size=\"3\">TBA</font>"
   ]
  },
  {
   "cell_type": "markdown",
   "metadata": {},
   "source": [
    "<div style=\"width: 90%; border: 5px solid green; padding: 10px; margin: 0px;\"><a id='demo03'></a><font size=4><font size=4><b>3.</b> TBA.</font></div><br>\n",
    "<font size=\"3\">TBA</font>"
   ]
  },
  {
   "cell_type": "markdown",
   "metadata": {},
   "source": [
    "## Miscellaneous Testing\n",
    "<font size=3>The material below was developed to test various divisbility-related methods. Some of this material could be integrated into the `_demonstrations_` page eventually and/or deleted as development continues.</font>"
   ]
  },
  {
   "cell_type": "code",
   "execution_count": 21,
   "metadata": {},
   "outputs": [
    {
     "data": {
      "text/html": [
       "<span style=\"font-size:20px;\"> <a class=\"ProveItLink\" href=\"proofs/divides_is_bool/thm_proof.ipynb\" style=\"text-decoration: none\">&nbsp;&#x22A2;&nbsp;&nbsp;</a><a class=\"ProveItLink\" href=\"../__pv_it/theorems/a37f530cbd600b6f92315381f7fad2360923d06c0/expr.ipynb\"><img src=\"data:image/png;base64,iVBORw0KGgoAAAANSUhEUgAAAJAAAAAWBAMAAADdgQhOAAAAMFBMVEX///8AAAAAAAAAAAAAAAAA\n",
       "AAAAAAAAAAAAAAAAAAAAAAAAAAAAAAAAAAAAAAAAAAAv3aB7AAAAD3RSTlMAq1RmmUTNIjK7EInv\n",
       "3XZ/CtNrAAAACXBIWXMAAA7EAAAOxAGVKw4bAAACc0lEQVQ4y52US2gTURSG/8lkkkzSxm5EglIG\n",
       "FDdaDC6EIsSKVEUFg0IXvjrQhVCKTjcFpYvqUiqOK0GwTsGFRQip+ECEEATBKkorVHQRmNIqWjC4\n",
       "UwTBO+fcJDOTiQsv/PP47+G7c8+cc4GOw5JC657sEJrEP0bWYNF4zDfNDQV9X7g4tlQkv8d73xoB\n",
       "2iHlB2E1HGWfS45uJH/Qez3fzkmbrCAo4YRBJ/FUJ/+Kt0W7HRTPs4IgdaAdtFsh31sjY7SDuqSC\n",
       "ILyWCbxT+9AEJchXxaqJiBRtlwqBRjjpF5zWF23ay/7bWu1NBOioVGnl/nNDgNJrecwC8zQ54bSS\n",
       "XVoqg/zDwO0I0IjUQLY3vihAmVgV+4A9CP4c++zYnyMgfxzJngjQe5Zqqb+VvABdFbgcsJMmTX+y\n",
       "V4cc8nUnU4wAvWSlEDcpR06Xi3fADW8uJdJR+9QA6VqZ/JgblesGSPw6l5M97KR+AWeoxmz/F+mw\n",
       "2TcL4lI/tCb6SVuBEtyaAFhpxwMdRLYK9NHkYhBksv9wVNSFlUuIYiptcKZlxAxrrrgFGfqim9BF\n",
       "Lvtpsh4AxVz2J8W8ipmUeLzch28yYp6169oxnCDQfgznuSJE4TUr2D6NyiNZKcqU5/wkfzN6ZcR1\n",
       "1r167IBBoNnKcbH5ZW7E3CmO+rJw1+v+hu/9iCqdKct4JY3uKZavsp+IrpTZ0Z7JFmkcSI2sTWbM\n",
       "OB4AH7UfvvZstagoSDP9wt/G7S3OD58r65g2sK2/WWu3pCSo21VEuVzqcAqGfCNt6c0l56QkKFYY\n",
       "9JNDI+hrjuIOtbbtsmh8laeH1eFYDvoqtEIZ/zn+ArWHp1BpUuAHAAAAAElFTkSuQmCC\n",
       "\" style=\"display:inline;vertical-align:middle;\" /></a></span>"
      ],
      "text/plain": [
       "|- forall_{x, y} ((x | y) in BOOLEAN)"
      ]
     },
     "metadata": {},
     "output_type": "display_data"
    }
   ],
   "source": [
    "divides_is_bool"
   ]
  },
  {
   "cell_type": "code",
   "execution_count": 22,
   "metadata": {},
   "outputs": [
    {
     "data": {
      "text/html": [
       "<strong id=\"params_example\">params_example:</strong> <a class=\"ProveItLink\" href=\"../../../__pv_it/common/70b6dfe187a2382408546cc714e0c3bc5c3a48c90/expr.ipynb\"><img src=\"data:image/png;base64,iVBORw0KGgoAAAANSUhEUgAAACwAAAAVBAMAAADP3xFXAAAAMFBMVEX///8AAAAAAAAAAAAAAAAA\n",
       "AAAAAAAAAAAAAAAAAAAAAAAAAAAAAAAAAAAAAAAAAAAv3aB7AAAAD3RSTlMAInZUiRDNmWbv3US7\n",
       "qzJazP2FAAAACXBIWXMAAA7EAAAOxAGVKw4bAAABFElEQVQY022QIU8DQRBG31273JVScj8A0WAK\n",
       "gqSCEIoBQXAkzRlC0hAksqKioFAoFAkK04AD0wSFguJJLqQGV4PBFEQJkm/veuauk+zM7tvZ2W8G\n",
       "CMiYY51bz+JyVW6dnK2AOc7juSbeeR77bUrMsGs2ZuETOvLh2tFuoifsYiLY1wW03XevF+OdBv43\n",
       "XHCnHwJ/Uol/XqyfUXmBBjc64E1VGq4oqZmxxcTbpMEJ4xE82SLwHJhmjPVsVWGLV2j1PyiCvViI\n",
       "eFO4lBa2P095xPza7Kj8p9DhCw6WC13Jvle6GdZ+hB+YH6WtFeLyRYlyenYsU1N59jjUOzu+QYpD\n",
       "rVuG8ktarRRb7Zu1PkmmU83Ozw34B0+VM03mG9eBAAAAAElFTkSuQmCC\n",
       "\" style=\"display:inline;vertical-align:middle;\" /></a><br>"
      ],
      "text/plain": [
       "<IPython.core.display.HTML object>"
      ]
     },
     "metadata": {},
     "output_type": "display_data"
    },
    {
     "data": {
      "text/html": [
       "<strong id=\"vars_example\">vars_example:</strong> <a class=\"ProveItLink\" href=\"../../../__pv_it/common/70b6dfe187a2382408546cc714e0c3bc5c3a48c90/expr.ipynb\"><img src=\"data:image/png;base64,iVBORw0KGgoAAAANSUhEUgAAACwAAAAVBAMAAADP3xFXAAAAMFBMVEX///8AAAAAAAAAAAAAAAAA\n",
       "AAAAAAAAAAAAAAAAAAAAAAAAAAAAAAAAAAAAAAAAAAAv3aB7AAAAD3RSTlMAInZUiRDNmWbv3US7\n",
       "qzJazP2FAAAACXBIWXMAAA7EAAAOxAGVKw4bAAABFElEQVQY022QIU8DQRBG31273JVScj8A0WAK\n",
       "gqSCEIoBQXAkzRlC0hAksqKioFAoFAkK04AD0wSFguJJLqQGV4PBFEQJkm/veuauk+zM7tvZ2W8G\n",
       "CMiYY51bz+JyVW6dnK2AOc7juSbeeR77bUrMsGs2ZuETOvLh2tFuoifsYiLY1wW03XevF+OdBv43\n",
       "XHCnHwJ/Uol/XqyfUXmBBjc64E1VGq4oqZmxxcTbpMEJ4xE82SLwHJhmjPVsVWGLV2j1PyiCvViI\n",
       "eFO4lBa2P095xPza7Kj8p9DhCw6WC13Jvle6GdZ+hB+YH6WtFeLyRYlyenYsU1N59jjUOzu+QYpD\n",
       "rVuG8ktarRRb7Zu1PkmmU83Ozw34B0+VM03mG9eBAAAAAElFTkSuQmCC\n",
       "\" style=\"display:inline;vertical-align:middle;\" /></a><br>"
      ],
      "text/plain": [
       "<IPython.core.display.HTML object>"
      ]
     },
     "metadata": {},
     "output_type": "display_data"
    }
   ],
   "source": [
    "# notice that .instance_params and .instance_vars often appear to\n",
    "# provide the same information for the quantified params/vars:\n",
    "# really the correct thing\n",
    "params_example, vars_example = (\n",
    "    divides_is_bool.instance_params,\n",
    "    divides_is_bool.instance_vars)\n"
   ]
  },
  {
   "cell_type": "code",
   "execution_count": 23,
   "metadata": {},
   "outputs": [
    {
     "data": {
      "text/html": [
       "<strong id=\"example_forall\">example_forall:</strong> <a class=\"ProveItLink\" href=\"../__pv_it/demonstrations/6055d440f69534cdb5f02a17c33c7eeba054b9b90/expr.ipynb\"><img src=\"data:image/png;base64,iVBORw0KGgoAAAANSUhEUgAAAG4AAAAUBAMAAACezBVvAAAAMFBMVEX///8AAAAAAAAAAAAAAAAA\n",
       "AAAAAAAAAAAAAAAAAAAAAAAAAAAAAAAAAAAAAAAAAAAv3aB7AAAAD3RSTlMAq1RmmUTNIjK7EInv\n",
       "3XZ/CtNrAAAACXBIWXMAAA7EAAAOxAGVKw4bAAABQ0lEQVQ4y2MQYAACZQaSgSuISCddXyMQs08g\n",
       "XR/bAgYGbgXS9TEbAPUykAHO3r17miQNXO+kujcxMHgwMMwiSR8Lw8MHvgwMhQzsAiTpM2ewXyDM\n",
       "wMC5gDuAJH0NDG4giukBycFyDkwm2AGJ1XbbYaJITARAFmT9zrAKSG3KAobRdY7vsOBCMJHCEEl+\n",
       "KuMBhg1ARg0wWFgcOA4wsIPDFcwMeoLqZ7AgAzhZMf1YcoAVlFAYGxgYeAL4BBiaboHEwcwDXB9Q\n",
       "9IEFofb5PVAxgomvL+C0WsBwC84sABmPBMCC2g8w3M9T0B8M1rcayuQMADK5NsAIsKCSA4Y+Vme9\n",
       "zQwgfT0KEKYHiMlxnKGnAERABDkbcMQLyJ2QrMG94AGMyQAXXMuEXVvfaQUG1gVgZv7/CzAmyDUQ\n",
       "FucrPNkKG5MZUx0A0ohY4RnjdXwAAAAASUVORK5CYII=\n",
       "\" style=\"display:inline;vertical-align:middle;\" /></a><br>"
      ],
      "text/plain": [
       "<IPython.core.display.HTML object>"
      ]
     },
     "metadata": {},
     "output_type": "display_data"
    }
   ],
   "source": [
    "# But when we have ranges of params like A1 … An\n",
    "# instance_vars would give A (used more commonly for internal stuff)\n",
    "# while instance_params would give A1 … An, and is typically what we want\n",
    "from proveit.logic import Forall\n",
    "from proveit.core_expr_types import (a_1_to_i, a_1_to_m, b_1_to_j, b_1_to_n,\n",
    "                                              c_1_to_j, c_1_to_k, c_1_to_n,\n",
    "                                              d_1_to_k, y_1_to_n)\n",
    "example_forall = Forall(a_1_to_i, x)"
   ]
  },
  {
   "cell_type": "code",
   "execution_count": 24,
   "metadata": {},
   "outputs": [
    {
     "data": {
      "text/html": [
       "<strong id=\"params_example\">params_example:</strong> <a class=\"ProveItLink\" href=\"../__pv_it/demonstrations/2c196e25eb75441998cc38de7042eaf6940c703f0/expr.ipynb\"><img src=\"data:image/png;base64,iVBORw0KGgoAAAANSUhEUgAAAH4AAAAVBAMAAAByPkciAAAAMFBMVEX///8AAAAAAAAAAAAAAAAA\n",
       "AAAAAAAAAAAAAAAAAAAAAAAAAAAAAAAAAAAAAAAAAAAv3aB7AAAAD3RSTlMAInZUiRDNmWbv3US7\n",
       "qzJazP2FAAAACXBIWXMAAA7EAAAOxAGVKw4bAAABnklEQVQ4y6VTMUjDQBR9aRvT1opRFBcLV3AQ\n",
       "B6kgBTtJcVWiToI1Hd3sUBcXO3USxEEo6FBQKOhS3Ny04KpSxE2ojh20KLoI1n+XNE2rVUjecLn/\n",
       "7r1///LvAKhwCokPnqhjfy+jYRrOMQ7IKRf+Hg1K1oXfn0YAbrCPmCv/OjK8D3cRZiPDicF/+mbp\n",
       "5ykDcK6G3m1d2cON9qff0C/SLIcjakEeSgFyzlxdyWIL8txD1xyGHgmazuAAUOoIzuJpwlzeBo6h\n",
       "CMnvMPQCL9wfuIBeAuLm8iHkT/SXpK9uflMvTsLr1xl2YfnlV/jr8Gvd/Yb+7FZ4yhRHce9VhZ/O\n",
       "LL+hLzUF+Aoi7ABnhH6Y8V++Qx1AiHmLithf/iCujHg6DdQ0I9RT6JgIvbTM/08GNSIrC+FJo/4T\n",
       "yp8ce6xUIV2ZYZByoQhzwhlDH+JX4BTBarM07vdaFY9gwB420WL0NbpIBf4EbH6fdcWunzdtoYUW\n",
       "E6Mj88d3acZDG3QhlqweNRp1W2ihxSQjwCh9V+3LrF3NfvjbGb63xBy/Po+Kbw3oXVr8amO7AAAA\n",
       "AElFTkSuQmCC\n",
       "\" style=\"display:inline;vertical-align:middle;\" /></a><br>"
      ],
      "text/plain": [
       "<IPython.core.display.HTML object>"
      ]
     },
     "metadata": {},
     "output_type": "display_data"
    },
    {
     "data": {
      "text/html": [
       "<strong id=\"vars_example\">vars_example:</strong> <a class=\"ProveItLink\" href=\"../../number_sets/integers/__pv_it/theorems/034703c6972b772d60786b3024fb4de33deb9fd00/expr.ipynb\"><img src=\"data:image/png;base64,iVBORw0KGgoAAAANSUhEUgAAABcAAAAVBAMAAABfzGiYAAAAMFBMVEX///8AAAAAAAAAAAAAAAAA\n",
       "AAAAAAAAAAAAAAAAAAAAAAAAAAAAAAAAAAAAAAAAAAAv3aB7AAAAD3RSTlMAInZUiRDNmWbv3US7\n",
       "qzJazP2FAAAACXBIWXMAAA7EAAAOxAGVKw4bAAAAv0lEQVQY0z2PrwrCUBTGf9vUuTlkWRC2F5AF\n",
       "Me8FFB9A2IpgNBiMa0YXBYtgsA6bbfoEImI2m1bsnv3zwj3n+8H9vnMuYFOcoqleCee8DEuNGkEz\n",
       "rIA56FENGzBqjTFl9IdWxEqa8nQdaNxZCFxs6wvtkKME7tAPoMXsJTDD9KGb5WCkBAl04vxZ4LAV\n",
       "p3bgJuDx0mzaKWOwHO2ki9XnI2mPSX8AZoL5rjfoyahlDWu510orqZRZBVb+b8UpwYUf8dwgFnCe\n",
       "imQAAAAASUVORK5CYII=\n",
       "\" style=\"display:inline;vertical-align:middle;\" /></a><br>"
      ],
      "text/plain": [
       "<IPython.core.display.HTML object>"
      ]
     },
     "metadata": {},
     "output_type": "display_data"
    }
   ],
   "source": [
    "params_example, vars_example = (\n",
    "    example_forall.instance_params,\n",
    "    example_forall.instance_var_or_vars)"
   ]
  },
  {
   "cell_type": "code",
   "execution_count": 25,
   "metadata": {},
   "outputs": [
    {
     "data": {
      "text/html": [
       "<strong id=\"two_divides_four\">two_divides_four:</strong> <a class=\"ProveItLink\" href=\"../__pv_it/demonstrations/ee4bf56f125acf75a0d5c8428f71c47a6790e3850/expr.ipynb\"><img src=\"data:image/png;base64,iVBORw0KGgoAAAANSUhEUgAAABkAAAAVBAMAAABBBVgrAAAAMFBMVEX///8AAAAAAAAAAAAAAAAA\n",
       "AAAAAAAAAAAAAAAAAAAAAAAAAAAAAAAAAAAAAAAAAAAv3aB7AAAAD3RSTlMAIpnNuzKJRKvvEN12\n",
       "ZlQ4bmvwAAAACXBIWXMAAA7EAAAOxAGVKw4bAAAAm0lEQVQY02NgAAFGBmTAVgBlMCqZBEB4rAoM\n",
       "DCIMbN8hPO4GBoZGBoaZEN5pIG/+AoZ+ARCP9TKQ183A0B8A4rExN4AN2g9WeRDCY/0D4jFegPCA\n",
       "ZgF5bAwQngrY9osQHm8DiMd4AMJ7xsAItIG9o6N/RgIDawIDzwKw7ZxAOWklJW2IW/gdgJb9//8Z\n",
       "zGPy/3EAzUck8ngCIDQAtjcnjHylpeYAAAAASUVORK5CYII=\n",
       "\" style=\"display:inline;vertical-align:middle;\" /></a><br>"
      ],
      "text/plain": [
       "<IPython.core.display.HTML object>"
      ]
     },
     "metadata": {},
     "output_type": "display_data"
    }
   ],
   "source": [
    "two_divides_four = Divides(two, four)"
   ]
  },
  {
   "cell_type": "code",
   "execution_count": 26,
   "metadata": {},
   "outputs": [
    {
     "data": {
      "text/html": [
       "<a class=\"ProveItLink\" href=\"../__pv_it/demonstrations/4dcdc5026f80b9604cf319714818529aceda286b0/expr.ipynb\"><img src=\"data:image/png;base64,iVBORw0KGgoAAAANSUhEUgAAACkAAAAVBAMAAAAp9toTAAAAMFBMVEX///8AAAAAAAAAAAAAAAAA\n",
       "AAAAAAAAAAAAAAAAAAAAAAAAAAAAAAAAAAAAAAAAAAAv3aB7AAAAD3RSTlMAInZUiRDNmWbv3US7\n",
       "qzJazP2FAAAACXBIWXMAAA7EAAAOxAGVKw4bAAABEElEQVQY013QvUrDUBjG8X+atjGpqXESnNLB\n",
       "xclBnHMDYujskEXo2EGsY1x0ErKLEHAQBKF4BdEL0N5A0aGTS9tBN43nc6gv+Xp+nLzn5QARq6Vy\n",
       "Y++fPsnHPmydvVrqDmnk0MpwKo7GRoMJnICXE0b4hdFdoVfgi+uLcGkaXAr1Uw4gLAl/tTbbQts5\n",
       "p7rdQmtPanPCQKV5rF5OLnUt407FR9MAqW7BjUxepfVCaXeh9VqjEyvtFKqDm7AptTOdvt8muCUv\n",
       "Is1gh1Qt9+VuFYfix/vRqGx9K90QO3gJn2LYuq4zHuRi7+0nJhgTfJgTcFN7btuiyRA7q61zcT+b\n",
       "775FRw5/bEJsdT3So69WD/4AELg6vzi6XGgAAAAASUVORK5CYII=\n",
       "\" style=\"display:inline;vertical-align:middle;\" /></a>"
      ],
      "text/plain": [
       "(2, 4)"
      ]
     },
     "metadata": {},
     "output_type": "display_data"
    }
   ],
   "source": [
    "two_divides_four.operands"
   ]
  },
  {
   "cell_type": "code",
   "execution_count": 27,
   "metadata": {},
   "outputs": [
    {
     "data": {
      "text/html": [
       "<a class=\"ProveItLink\" href=\"../../numerals/__pv_it/common/af4aab8a07465db063742696e006d04670f30cf10/expr.ipynb\"><img src=\"data:image/png;base64,iVBORw0KGgoAAAANSUhEUgAAAAkAAAAOBAMAAAAPuiubAAAAMFBMVEX///8AAAAAAAAAAAAAAAAA\n",
       "AAAAAAAAAAAAAAAAAAAAAAAAAAAAAAAAAAAAAAAAAAAv3aB7AAAAD3RSTlMAIpnNuzKJRKvvEN12\n",
       "ZlQ4bmvwAAAACXBIWXMAAA7EAAAOxAGVKw4bAAAATklEQVQI12NgVDIJYGAQYWD7zsDQyMAwk4Fh\n",
       "/gKGfgGGbgaGfqAEA8N+EMH6B0RyN4BIFRDBC2Y+Y2AUYGBNYOBZwCCtpKQNVPz//2cGAEeID1mi\n",
       "/zO7AAAAAElFTkSuQmCC\n",
       "\" style=\"display:inline;vertical-align:middle;\" /></a>"
      ],
      "text/plain": [
       "2"
      ]
     },
     "metadata": {},
     "output_type": "display_data"
    }
   ],
   "source": [
    "two_divides_four.lhs"
   ]
  },
  {
   "cell_type": "code",
   "execution_count": 28,
   "metadata": {},
   "outputs": [
    {
     "data": {
      "text/html": [
       "<span style=\"font-size:20px;\"> <a class=\"ProveItLink\" href=\"../__pv_it/demonstrations/562009265cc4cf893c910b2d1262dda8670ce22f0/proof.ipynb\" style=\"text-decoration: none\">&nbsp;&#x22A2;&nbsp;&nbsp;</a><a class=\"ProveItLink\" href=\"../__pv_it/demonstrations/aa4a1fd5d9c4744c05ba98dafdd5fb012d4e674d0/expr.ipynb\"><img src=\"data:image/png;base64,iVBORw0KGgoAAAANSUhEUgAAAE8AAAAVBAMAAAD1D64kAAAAMFBMVEX///8AAAAAAAAAAAAAAAAA\n",
       "AAAAAAAAAAAAAAAAAAAAAAAAAAAAAAAAAAAAAAAAAAAv3aB7AAAAD3RSTlMAInZUiRDNmWbv3US7\n",
       "qzJazP2FAAAACXBIWXMAAA7EAAAOxAGVKw4bAAABk0lEQVQoz3XSTygEURwH8O/stmv/jYYDDg6b\n",
       "os1Be5DiNFwckM3ZYShlD+KAvTgocqJcXFi1pahhaxNCqVlHByI3thwUuSwHB5Lx3m/e7J+x+5qZ\n",
       "9+b3PvPm/fkBUEBFVBKqFVfUqgesKhh29Lcnp+PpDGt0Ao3z1wK+ABHnSMahNPEAeDRIBoYzFkwD\n",
       "3pgTnqI3BNQsQlbgXyfoYtA38x8uyYCfXZ+QPwi+TrHHhpj7lb5bgF6gC5BTkH8JqhxOWosajxVH\n",
       "vF0GZukl8M6hS+FwiCINseJiRtKq/X0+zGETOFyhyFhxjufx7zlgB2K1DKoEuymilS4mchLDFm/X\n",
       "GBz6FIJ5Hqnd1HX9wIahoGrBNTqZehA84xGPUTpiCAb92q2ijsGLXO7rHuih7lQ51HDJms9Aq3Uy\n",
       "2+xepe6WMugO882Q9hKJlAV/YG+YN1qAR+jrB97YJpqmqRFcMO+Afer2PB5bri15Q9kTeEJZmkES\n",
       "swsOiiMUpZADNmRZUrlkHbC5WoaPOmC2GpRE7neI7FIqsz/oJWoO0OS4vQAAAABJRU5ErkJggg==\n",
       "\" style=\"display:inline;vertical-align:middle;\" /></a></span>"
      ],
      "text/plain": [
       "|- (2 | 4) in BOOLEAN"
      ]
     },
     "metadata": {},
     "output_type": "display_data"
    }
   ],
   "source": [
    "two_divides_four.deduce_in_bool()"
   ]
  },
  {
   "cell_type": "code",
   "execution_count": 29,
   "metadata": {},
   "outputs": [
    {
     "data": {
      "text/html": [
       "<strong id=\"two_divides_four_proper\">two_divides_four_proper:</strong> <a class=\"ProveItLink\" href=\"../__pv_it/demonstrations/3b0bdf316b3cb05af6f14fa612bd5480e2ecb2040/expr.ipynb\"><img src=\"data:image/png;base64,iVBORw0KGgoAAAANSUhEUgAAACcAAAAVBAMAAAA3P+qgAAAAMFBMVEX///8AAAAAAAAAAAAAAAAA\n",
       "AAAAAAAAAAAAAAAAAAAAAAAAAAAAAAAAAAAAAAAAAAAv3aB7AAAAD3RSTlMAIpnNuzKJRKvvEN12\n",
       "ZlQ4bmvwAAAACXBIWXMAAA7EAAAOxAGVKw4bAAAA0UlEQVQY02NgAAFGBiyArQCVz6hkEoAiyKrA\n",
       "wCDCwPYdRZC7gYGhkYFhJorgaaDg/AUM/QJIgqyXgYLdDAz9AUiCbMwNYHo/svaDEEHWP0iCjBcg\n",
       "gkDrQIIln5I6BBjYGCCCKhDH825gYNvAcBEiyNsAEeRQYOD5wHgAIviMgRHsJM4HQIPYOzr6ZyQw\n",
       "sCYw8CwACcovYGwCmcYJVCmtpKQN1n7zzLkFIEF+B6Aj////DBbsgLiJyf/HAUTQzcUSnowfsQge\n",
       "+baAQMiDAU8AChcArJg2veKQpJMAAAAASUVORK5CYII=\n",
       "\" style=\"display:inline;vertical-align:middle;\" /></a><br>"
      ],
      "text/plain": [
       "<IPython.core.display.HTML object>"
      ]
     },
     "metadata": {},
     "output_type": "display_data"
    }
   ],
   "source": [
    "two_divides_four_proper = DividesProper(two, four)"
   ]
  },
  {
   "cell_type": "code",
   "execution_count": 30,
   "metadata": {},
   "outputs": [
    {
     "data": {
      "text/plain": [
       "True"
      ]
     },
     "metadata": {},
     "output_type": "display_data"
    }
   ],
   "source": [
    "InSet(x, Complex).proven(assumptions=[InSet(x, Complex)])"
   ]
  },
  {
   "cell_type": "code",
   "execution_count": 31,
   "metadata": {},
   "outputs": [
    {
     "data": {
      "text/html": [
       "<span style=\"font-size:20px;\"><a class=\"ProveItLink\" href=\"../__pv_it/theorems/6bf1a18c2e3498be826f1c5ef7caab578b7ee8c80/expr.ipynb\"><img src=\"data:image/png;base64,iVBORw0KGgoAAAANSUhEUgAAADQAAAAQBAMAAACra0H4AAAAMFBMVEX///8AAAAAAAAAAAAAAAAA\n",
       "AAAAAAAAAAAAAAAAAAAAAAAAAAAAAAAAAAAAAAAAAAAv3aB7AAAAD3RSTlMAEHarMolUmd1mIs3v\n",
       "RLtmgJDEAAAACXBIWXMAAA7EAAAOxAGVKw4bAAAA0klEQVQY02NgwAIY47o3LQnAJsOgfJJB/F8B\n",
       "Nhl2XaCOeVil3PkEGBiYUaT0Ojo2gGhDPpB9E5BkbitCGQ+WQxlCyiKhCUCaayNUgMvAFcoqYDJi\n",
       "bwDS3AugAiwBNyEMzgWcH5lB5nLDDOYquARVw8AOtpvBpwMIHoDtWgpTxaMApuTg7nnIB2PdX8AI\n",
       "9AcDB1zqOshfDBcY5C7YMLCCBJgUEKFhwACyJt+xhuEaWGQbwu/bF4i1MzCIK7FVJoAFhN8KwEP+\n",
       "fPsClLC7+gISUFAAAPAALk9BTu5+AAAAAElFTkSuQmCC\n",
       "\" style=\"display:inline;vertical-align:middle;\" /></a>, <a class=\"ProveItLink\" href=\"../../number_sets/real_numbers/__pv_it/theorems/d2d428f1124ef55277523143f9436098e99f174d0/expr.ipynb\"><img src=\"data:image/png;base64,iVBORw0KGgoAAAANSUhEUgAAADEAAAAUCAMAAAATIyWrAAAAPFBMVEX///8AAAAAAAAAAAAAAAAA\n",
       "AAAAAAAAAAAAAAAAAAAAAAAAAAAAAAAAAAAAAAAAAAAAAAAAAAAAAAAAAAAo1xBWAAAAE3RSTlMA\n",
       "EHarMolUmd1mIs3vRLvn9enz6YVhIgAAAAlwSFlzAAAOxAAADsQBlSsOGwAAANxJREFUKM+VktsS\n",
       "wiAMRJNwCdiCF/7/X03AKm0Vhzy0k4HlZBcARsUIc2Vz3zlHfPmjyLZrFg+AYSyxpmtiqJw8RvQH\n",
       "5ir3ZeQs9QgoXLFFZgMkMmid8wfF0iNwU0SNEIAMAYct0lDretPvxrkU1xQkluSoKOOZOEB8FPLT\n",
       "BHk5u+Bdi02RlKG10kmxHJJvPnxpblORZcTex/3R3LzzyvUmdHzMCcyql7NHHHOPK7zG98UiS5d2\n",
       "4Xo+jRn0laziGplINkQ/RuhGR8b+um7vJl/5N8S44jQizCLAjhafZdYF4iwDbD4AAAAASUVORK5C\n",
       "YII=\n",
       "\" style=\"display:inline;vertical-align:middle;\" /></a> <a class=\"ProveItLink\" href=\"../__pv_it/demonstrations/11c85948edec12ad0d91b0cdbafe68017b9de6d70/proof.ipynb\" style=\"text-decoration: none\">&nbsp;&#x22A2;&nbsp;&nbsp;</a><a class=\"ProveItLink\" href=\"../__pv_it/demonstrations/2f4ae7d0b61f05b826260065fbedd45f53b81b520/expr.ipynb\"><img src=\"data:image/png;base64,iVBORw0KGgoAAAANSUhEUgAAAB0AAAAVBAMAAABI7vhRAAAAMFBMVEX///8AAAAAAAAAAAAAAAAA\n",
       "AAAAAAAAAAAAAAAAAAAAAAAAAAAAAAAAAAAAAAAAAAAv3aB7AAAAD3RSTlMAEHarMolUmd1mIs3v\n",
       "RLtmgJDEAAAACXBIWXMAAA7EAAAOxAGVKw4bAAAAZ0lEQVQY02NggIAFDKgglmZ8IWWR0AQQH8Jg\n",
       "KGAyYm8A8SEMzgWcH5knAPlQBgsD+wawfiiDgYFHAWoemMHAcH8BowCYD2bIXbBhYAXJQxn5jjUM\n",
       "10B8KENcia0yAcSHMqjkPxUoDQBTRx3qPx3+/QAAAABJRU5ErkJggg==\n",
       "\" style=\"display:inline;vertical-align:middle;\" /></a></span>"
      ],
      "text/plain": [
       "{x in Complex, x != 0} |- x | x"
      ]
     },
     "metadata": {},
     "output_type": "display_data"
    }
   ],
   "source": [
    "Divides(x, x).conclude(assumptions=[InSet(x, Complex), NotEquals(x, zero)])"
   ]
  },
  {
   "cell_type": "code",
   "execution_count": 32,
   "metadata": {},
   "outputs": [],
   "source": [
    "try:\n",
    "    Divides(two, two).conclude()\n",
    "except ProofFailure as e:\n",
    "    print(\"Proof Failure: {}\".format(e))"
   ]
  },
  {
   "cell_type": "code",
   "execution_count": 33,
   "metadata": {},
   "outputs": [
    {
     "data": {
      "text/html": [
       "<span style=\"font-size:20px;\"> <a class=\"ProveItLink\" href=\"../__pv_it/demonstrations/aad2ff8ce4765e98e89cbc7d3607ca96dbd9edfe0/proof.ipynb\" style=\"text-decoration: none\">&nbsp;&#x22A2;&nbsp;&nbsp;</a><a class=\"ProveItLink\" href=\"../__pv_it/demonstrations/2c4bd2670ea1c897df5369ee136bb00ac765f0ee0/expr.ipynb\"><img src=\"data:image/png;base64,iVBORw0KGgoAAAANSUhEUgAAADIAAAAQBAMAAACmdTG/AAAAMFBMVEX///8AAAAAAAAAAAAAAAAA\n",
       "AAAAAAAAAAAAAAAAAAAAAAAAAAAAAAAAAAAAAAAAAAAv3aB7AAAAD3RSTlMAIpnNuzKJRKvvEN12\n",
       "ZlQ4bmvwAAAACXBIWXMAAA7EAAAOxAGVKw4bAAAA2klEQVQY02NgwARcKZttRBMYGJVMAtBkTsxl\n",
       "WPRFgUGEge07qgTT8QQGhisKDI0MDDNRZYJYFjAwcCgwzF/A0C8AFjmye7cBiO5iAdl1gaGbgaEf\n",
       "bFHxKageByG49v0ggtEKymNsCINJsP4BkcwCMG5CLUyGuwEsA+MyKtTAmCpgMnI3EDiA7RGDSvCC\n",
       "tTAsgVvrxQJlPGNgBFnBDZcpAvmHoQBoIQMPiMVzABEGQFOYDBiklZS0wQJ2cE1HjATWbQJ65v//\n",
       "z2D+CvcF8LCev0kAObzKvCGhAwUAiQ4v3OpNKIIAAAAASUVORK5CYII=\n",
       "\" style=\"display:inline;vertical-align:middle;\" /></a></span>"
      ],
      "text/plain": [
       "|- 2 in Complex"
      ]
     },
     "metadata": {},
     "output_type": "display_data"
    }
   ],
   "source": [
    "InSet(two, Complex).prove()"
   ]
  },
  {
   "cell_type": "code",
   "execution_count": 34,
   "metadata": {},
   "outputs": [
    {
     "data": {
      "text/html": [
       "<span style=\"font-size:20px;\"> <a class=\"ProveItLink\" href=\"../__pv_it/demonstrations/f9c4d6719e795e35dfc93cdb5a6a6a5b854058410/proof.ipynb\" style=\"text-decoration: none\">&nbsp;&#x22A2;&nbsp;&nbsp;</a><a class=\"ProveItLink\" href=\"../__pv_it/demonstrations/c987d9789e79f31d259b89f5380db89e528786640/expr.ipynb\"><img src=\"data:image/png;base64,iVBORw0KGgoAAAANSUhEUgAAADAAAAAUCAMAAAD84U6VAAAAPFBMVEX///8AAAAAAAAAAAAAAAAA\n",
       "AAAAAAAAAAAAAAAAAAAAAAAAAAAAAAAAAAAAAAAAAAAAAAAAAAAAAAAAAAAo1xBWAAAAE3RSTlMA\n",
       "IpnNuzKJRKvvEN12ZlTn9enzY3MwdAAAAAlwSFlzAAAOxAAADsQBlSsOGwAAAN5JREFUKM+VkusS\n",
       "hCAIhRUvqaR74f3fdYVqV7NtRn40g57DB4lSNwHp6lQDGOuubpxtM+9X0KznU0/LhaErY4pSCasj\n",
       "sEvFeAEITZJRKLV6JG40kB4B7ZEVd6niINZAwxRLC1AEAqWy50gDwLSAdBjy3i6tv3+JEo8nfw+K\n",
       "Jt/pMNwDfga/FbWDfoEuTZty2Qh5rH8CHEMXGbqwWetuhtd7m+RbykoTmd/ACWzt18actyjLy4Kp\n",
       "pRE4sLsuMPSIvBrR8QtImHtAFYNfg/uz1sWruTBpTp9nATgJUO7u8gNYDAbTyw2HeQAAAABJRU5E\n",
       "rkJggg==\n",
       "\" style=\"display:inline;vertical-align:middle;\" /></a></span>"
      ],
      "text/plain": [
       "|- 2 != 0"
      ]
     },
     "metadata": {},
     "output_type": "display_data"
    }
   ],
   "source": [
    "NotEquals(two, zero).prove()"
   ]
  },
  {
   "cell_type": "code",
   "execution_count": 35,
   "metadata": {},
   "outputs": [
    {
     "data": {
      "text/html": [
       "<span style=\"font-size:20px;\"> <a class=\"ProveItLink\" href=\"../__pv_it/demonstrations/2287aed0e798b7c658953f0dc8629bf6238c32b40/proof.ipynb\" style=\"text-decoration: none\">&nbsp;&#x22A2;&nbsp;&nbsp;</a><a class=\"ProveItLink\" href=\"../__pv_it/demonstrations/78f0b8fbd353accb57c718c6c905cea5d457bab70/expr.ipynb\"><img src=\"data:image/png;base64,iVBORw0KGgoAAAANSUhEUgAAABkAAAAVBAMAAABBBVgrAAAAMFBMVEX///8AAAAAAAAAAAAAAAAA\n",
       "AAAAAAAAAAAAAAAAAAAAAAAAAAAAAAAAAAAAAAAAAAAv3aB7AAAAD3RSTlMAIpnNuzKJRKvvEN12\n",
       "ZlQ4bmvwAAAACXBIWXMAAA7EAAAOxAGVKw4bAAAAiklEQVQY02NgAAFGBmTAVgBlMCqZBIB4YJpB\n",
       "hIHtO4gHphkaGRhmgnhgmmH+AoZ+ASAPTDN0MzD0BwB5YBpk0H6omftBBOsfCA9IAwF3A4QHpIFA\n",
       "BWq7CojD2wDh8YKlnjEwgmwA0wysCQw8C4A8MM0graSkDVIJphn2////GcQD02g+IpHHEwChARNy\n",
       "J9AejCIIAAAAAElFTkSuQmCC\n",
       "\" style=\"display:inline;vertical-align:middle;\" /></a></span>"
      ],
      "text/plain": [
       "|- 2 | 2"
      ]
     },
     "metadata": {},
     "output_type": "display_data"
    }
   ],
   "source": [
    "Divides(two, two).conclude()"
   ]
  },
  {
   "cell_type": "code",
   "execution_count": 36,
   "metadata": {},
   "outputs": [
    {
     "data": {
      "text/plain": [
       "True"
      ]
     },
     "metadata": {},
     "output_type": "display_data"
    }
   ],
   "source": [
    "Divides(two, two).proven()"
   ]
  },
  {
   "cell_type": "code",
   "execution_count": 37,
   "metadata": {},
   "outputs": [
    {
     "data": {
      "text/html": [
       "<strong id=\"two_divides_zero\">two_divides_zero:</strong> <a class=\"ProveItLink\" href=\"../__pv_it/demonstrations/4629d531bbe87c3aa4da0489aa20458305c63a4f0/expr.ipynb\"><img src=\"data:image/png;base64,iVBORw0KGgoAAAANSUhEUgAAABkAAAAVBAMAAABBBVgrAAAAMFBMVEX///8AAAAAAAAAAAAAAAAA\n",
       "AAAAAAAAAAAAAAAAAAAAAAAAAAAAAAAAAAAAAAAAAAAv3aB7AAAAD3RSTlMAIpnNuzKJRKvvEN12\n",
       "ZlQ4bmvwAAAACXBIWXMAAA7EAAAOxAGVKw4bAAAAs0lEQVQY02NgAAFGBmTAVgBlMCqZBIB5aYcE\n",
       "GBhEGNi+g3jMD7g2MjA0MjDMBPFuMzCkMDDMX8DQLwDkeTAwvF/A0M3A0B8A5H1iYIh/ADJoP1Al\n",
       "F4h3Achh/QPkMX4D8g4AedwNMF4CkKcCsp0LyKsHyvE2gN0C1PceaMozBkaQDS4MDPcXMLAmMPAs\n",
       "APJuMjAoMzBIKylpg1RyP+CaCrTs///PIB6X2okAdB+RyOOBGgAAmowxHe5Mdb0AAAAASUVORK5C\n",
       "YII=\n",
       "\" style=\"display:inline;vertical-align:middle;\" /></a><br>"
      ],
      "text/plain": [
       "<IPython.core.display.HTML object>"
      ]
     },
     "metadata": {},
     "output_type": "display_data"
    }
   ],
   "source": [
    "two_divides_zero = Divides(two, zero)"
   ]
  },
  {
   "cell_type": "code",
   "execution_count": 38,
   "metadata": {},
   "outputs": [
    {
     "data": {
      "text/html": [
       "<span style=\"font-size:20px;\"> <a class=\"ProveItLink\" href=\"../__pv_it/demonstrations/3e167d9fd3a7211fcf48c0fd8cf7a4c288ab911d0/proof.ipynb\" style=\"text-decoration: none\">&nbsp;&#x22A2;&nbsp;&nbsp;</a><a class=\"ProveItLink\" href=\"../__pv_it/demonstrations/4629d531bbe87c3aa4da0489aa20458305c63a4f0/expr.ipynb\"><img src=\"data:image/png;base64,iVBORw0KGgoAAAANSUhEUgAAABkAAAAVBAMAAABBBVgrAAAAMFBMVEX///8AAAAAAAAAAAAAAAAA\n",
       "AAAAAAAAAAAAAAAAAAAAAAAAAAAAAAAAAAAAAAAAAAAv3aB7AAAAD3RSTlMAIpnNuzKJRKvvEN12\n",
       "ZlQ4bmvwAAAACXBIWXMAAA7EAAAOxAGVKw4bAAAAs0lEQVQY02NgAAFGBmTAVgBlMCqZBIB5aYcE\n",
       "GBhEGNi+g3jMD7g2MjA0MjDMBPFuMzCkMDDMX8DQLwDkeTAwvF/A0M3A0B8A5H1iYIh/ADJoP1Al\n",
       "F4h3Achh/QPkMX4D8g4AedwNMF4CkKcCsp0LyKsHyvE2gN0C1PceaMozBkaQDS4MDPcXMLAmMPAs\n",
       "APJuMjAoMzBIKylpg1RyP+CaCrTs///PIB6X2okAdB+RyOOBGgAAmowxHe5Mdb0AAAAASUVORK5C\n",
       "YII=\n",
       "\" style=\"display:inline;vertical-align:middle;\" /></a></span>"
      ],
      "text/plain": [
       "|- 2 | 0"
      ]
     },
     "metadata": {},
     "output_type": "display_data"
    }
   ],
   "source": [
    "two_divides_zero.conclude()"
   ]
  },
  {
   "cell_type": "code",
   "execution_count": 39,
   "metadata": {},
   "outputs": [
    {
     "data": {
      "text/html": [
       "<span style=\"font-size:20px;\"><a class=\"ProveItLink\" href=\"../__pv_it/theorems/6bf1a18c2e3498be826f1c5ef7caab578b7ee8c80/expr.ipynb\"><img src=\"data:image/png;base64,iVBORw0KGgoAAAANSUhEUgAAADQAAAAQBAMAAACra0H4AAAAMFBMVEX///8AAAAAAAAAAAAAAAAA\n",
       "AAAAAAAAAAAAAAAAAAAAAAAAAAAAAAAAAAAAAAAAAAAv3aB7AAAAD3RSTlMAEHarMolUmd1mIs3v\n",
       "RLtmgJDEAAAACXBIWXMAAA7EAAAOxAGVKw4bAAAA0klEQVQY02NgwAIY47o3LQnAJsOgfJJB/F8B\n",
       "Nhl2XaCOeVil3PkEGBiYUaT0Ojo2gGhDPpB9E5BkbitCGQ+WQxlCyiKhCUCaayNUgMvAFcoqYDJi\n",
       "bwDS3AugAiwBNyEMzgWcH5lB5nLDDOYquARVw8AOtpvBpwMIHoDtWgpTxaMApuTg7nnIB2PdX8AI\n",
       "9AcDB1zqOshfDBcY5C7YMLCCBJgUEKFhwACyJt+xhuEaWGQbwu/bF4i1MzCIK7FVJoAFhN8KwEP+\n",
       "fPsClLC7+gISUFAAAPAALk9BTu5+AAAAAElFTkSuQmCC\n",
       "\" style=\"display:inline;vertical-align:middle;\" /></a>, <a class=\"ProveItLink\" href=\"../../number_sets/real_numbers/__pv_it/theorems/d2d428f1124ef55277523143f9436098e99f174d0/expr.ipynb\"><img src=\"data:image/png;base64,iVBORw0KGgoAAAANSUhEUgAAADEAAAAUCAMAAAATIyWrAAAAPFBMVEX///8AAAAAAAAAAAAAAAAA\n",
       "AAAAAAAAAAAAAAAAAAAAAAAAAAAAAAAAAAAAAAAAAAAAAAAAAAAAAAAAAAAo1xBWAAAAE3RSTlMA\n",
       "EHarMolUmd1mIs3vRLvn9enz6YVhIgAAAAlwSFlzAAAOxAAADsQBlSsOGwAAANxJREFUKM+VktsS\n",
       "wiAMRJNwCdiCF/7/X03AKm0Vhzy0k4HlZBcARsUIc2Vz3zlHfPmjyLZrFg+AYSyxpmtiqJw8RvQH\n",
       "5ir3ZeQs9QgoXLFFZgMkMmid8wfF0iNwU0SNEIAMAYct0lDretPvxrkU1xQkluSoKOOZOEB8FPLT\n",
       "BHk5u+Bdi02RlKG10kmxHJJvPnxpblORZcTex/3R3LzzyvUmdHzMCcyql7NHHHOPK7zG98UiS5d2\n",
       "4Xo+jRn0laziGplINkQ/RuhGR8b+um7vJl/5N8S44jQizCLAjhafZdYF4iwDbD4AAAAASUVORK5C\n",
       "YII=\n",
       "\" style=\"display:inline;vertical-align:middle;\" /></a> <a class=\"ProveItLink\" href=\"../__pv_it/demonstrations/74e5beacfab305751ddc1ca5a00067c119b6d9fc0/proof.ipynb\" style=\"text-decoration: none\">&nbsp;&#x22A2;&nbsp;&nbsp;</a><a class=\"ProveItLink\" href=\"../__pv_it/theorems/85ee3af657a01a1edfbd8619545925b2f1a624d80/expr.ipynb\"><img src=\"data:image/png;base64,iVBORw0KGgoAAAANSUhEUgAAABwAAAAVBAMAAACnLJNvAAAAMFBMVEX///8AAAAAAAAAAAAAAAAA\n",
       "AAAAAAAAAAAAAAAAAAAAAAAAAAAAAAAAAAAAAAAAAAAv3aB7AAAAD3RSTlMAEHarMolUmd1mIs3v\n",
       "RLtmgJDEAAAACXBIWXMAAA7EAAAOxAGVKw4bAAAAnklEQVQY02NggIAFDCggFoPLGlSFzN3GILEA\n",
       "weVsYGB9gODyGTCwfURw+QsYWL4xMAgpi4QmALnyQO5PBoYCJiP2BiB3fQADyycGzgWcH5knQLlf\n",
       "GVgY2DeA9coHMPB+ArJ4FGBGsQGNYri/gFEAZNEDBs6PDHIXbBhYwc44ANKW71jDcA3syDYGGQcG\n",
       "cSW2ygQwVzzIBI8HieeqQCgAxmsmb2cDm4YAAAAASUVORK5CYII=\n",
       "\" style=\"display:inline;vertical-align:middle;\" /></a></span>"
      ],
      "text/plain": [
       "{x in Complex, x != 0} |- x | 0"
      ]
     },
     "metadata": {},
     "output_type": "display_data"
    }
   ],
   "source": [
    "Divides(x, zero).conclude(assumptions=[InSet(x, Complex), NotEquals(x, zero)])"
   ]
  },
  {
   "cell_type": "markdown",
   "metadata": {},
   "source": [
    "#### Equality in Divides.conclude() (x|x)"
   ]
  },
  {
   "cell_type": "code",
   "execution_count": 40,
   "metadata": {},
   "outputs": [
    {
     "name": "stdout",
     "output_type": "stream",
     "text": [
      "Exception! Unable to prove x | x:\n",
      "In Divides.conclude() we tried:\n",
      "Case: lhs = rhs. Although lhs = rhs = x, either x is not known to be non-zero or x is not known to be in the complex numbers (or both). Try proving one or both of those claims first.\n",
      "Case: x|xy. This possible case returned the following error message: conclude_via_factor only applies for an explicit Mult expression on the rhs of the Divides, but received x on the right side. \n",
      "Case: (x^n) | (y^n). Does not appear applicable.\n",
      "Case: transitivity search. In attempting to use conclude_via_transitivity(), obtained the following error message: 'Divides' object has no attribute 'conclude_via_equality'.\n"
     ]
    }
   ],
   "source": [
    "# testing general Divide.conclude() method with x|x where we\n",
    "# have no information about x\n",
    "try:\n",
    "    Divides(x, x).conclude()\n",
    "except Exception as e:\n",
    "    print(\"Exception! {0}\".format(e))"
   ]
  },
  {
   "cell_type": "code",
   "execution_count": 41,
   "metadata": {},
   "outputs": [
    {
     "data": {
      "text/html": [
       "<span style=\"font-size:20px;\"><a class=\"ProveItLink\" href=\"../__pv_it/theorems/6bf1a18c2e3498be826f1c5ef7caab578b7ee8c80/expr.ipynb\"><img src=\"data:image/png;base64,iVBORw0KGgoAAAANSUhEUgAAADQAAAAQBAMAAACra0H4AAAAMFBMVEX///8AAAAAAAAAAAAAAAAA\n",
       "AAAAAAAAAAAAAAAAAAAAAAAAAAAAAAAAAAAAAAAAAAAv3aB7AAAAD3RSTlMAEHarMolUmd1mIs3v\n",
       "RLtmgJDEAAAACXBIWXMAAA7EAAAOxAGVKw4bAAAA0klEQVQY02NgwAIY47o3LQnAJsOgfJJB/F8B\n",
       "Nhl2XaCOeVil3PkEGBiYUaT0Ojo2gGhDPpB9E5BkbitCGQ+WQxlCyiKhCUCaayNUgMvAFcoqYDJi\n",
       "bwDS3AugAiwBNyEMzgWcH5lB5nLDDOYquARVw8AOtpvBpwMIHoDtWgpTxaMApuTg7nnIB2PdX8AI\n",
       "9AcDB1zqOshfDBcY5C7YMLCCBJgUEKFhwACyJt+xhuEaWGQbwu/bF4i1MzCIK7FVJoAFhN8KwEP+\n",
       "fPsClLC7+gISUFAAAPAALk9BTu5+AAAAAElFTkSuQmCC\n",
       "\" style=\"display:inline;vertical-align:middle;\" /></a>, <a class=\"ProveItLink\" href=\"../../number_sets/real_numbers/__pv_it/theorems/d2d428f1124ef55277523143f9436098e99f174d0/expr.ipynb\"><img src=\"data:image/png;base64,iVBORw0KGgoAAAANSUhEUgAAADEAAAAUCAMAAAATIyWrAAAAPFBMVEX///8AAAAAAAAAAAAAAAAA\n",
       "AAAAAAAAAAAAAAAAAAAAAAAAAAAAAAAAAAAAAAAAAAAAAAAAAAAAAAAAAAAo1xBWAAAAE3RSTlMA\n",
       "EHarMolUmd1mIs3vRLvn9enz6YVhIgAAAAlwSFlzAAAOxAAADsQBlSsOGwAAANxJREFUKM+VktsS\n",
       "wiAMRJNwCdiCF/7/X03AKm0Vhzy0k4HlZBcARsUIc2Vz3zlHfPmjyLZrFg+AYSyxpmtiqJw8RvQH\n",
       "5ir3ZeQs9QgoXLFFZgMkMmid8wfF0iNwU0SNEIAMAYct0lDretPvxrkU1xQkluSoKOOZOEB8FPLT\n",
       "BHk5u+Bdi02RlKG10kmxHJJvPnxpblORZcTex/3R3LzzyvUmdHzMCcyql7NHHHOPK7zG98UiS5d2\n",
       "4Xo+jRn0laziGplINkQ/RuhGR8b+um7vJl/5N8S44jQizCLAjhafZdYF4iwDbD4AAAAASUVORK5C\n",
       "YII=\n",
       "\" style=\"display:inline;vertical-align:middle;\" /></a> <a class=\"ProveItLink\" href=\"../__pv_it/demonstrations/11c85948edec12ad0d91b0cdbafe68017b9de6d70/proof.ipynb\" style=\"text-decoration: none\">&nbsp;&#x22A2;&nbsp;&nbsp;</a><a class=\"ProveItLink\" href=\"../__pv_it/demonstrations/2f4ae7d0b61f05b826260065fbedd45f53b81b520/expr.ipynb\"><img src=\"data:image/png;base64,iVBORw0KGgoAAAANSUhEUgAAAB0AAAAVBAMAAABI7vhRAAAAMFBMVEX///8AAAAAAAAAAAAAAAAA\n",
       "AAAAAAAAAAAAAAAAAAAAAAAAAAAAAAAAAAAAAAAAAAAv3aB7AAAAD3RSTlMAEHarMolUmd1mIs3v\n",
       "RLtmgJDEAAAACXBIWXMAAA7EAAAOxAGVKw4bAAAAZ0lEQVQY02NggIAFDKgglmZ8IWWR0AQQH8Jg\n",
       "KGAyYm8A8SEMzgWcH5knAPlQBgsD+wawfiiDgYFHAWoemMHAcH8BowCYD2bIXbBhYAXJQxn5jjUM\n",
       "10B8KENcia0yAcSHMqjkPxUoDQBTRx3qPx3+/QAAAABJRU5ErkJggg==\n",
       "\" style=\"display:inline;vertical-align:middle;\" /></a></span>"
      ],
      "text/plain": [
       "{x in Complex, x != 0} |- x | x"
      ]
     },
     "metadata": {},
     "output_type": "display_data"
    }
   ],
   "source": [
    "# testing general Divide.conclude() method with x|x where we\n",
    "# now have sufficient information about x\n",
    "Divides(x, x).conclude(assumptions=[NotEquals(x, zero), InSet(x, Complex)])"
   ]
  },
  {
   "cell_type": "markdown",
   "metadata": {},
   "source": [
    "#### x|xy in Divides.conclude_via_factor() (which is then used in the Divides.conclude() method"
   ]
  },
  {
   "cell_type": "code",
   "execution_count": 42,
   "metadata": {},
   "outputs": [],
   "source": [
    "# Divides(x, Mult(x, y)).conclude_via_factor(assumptions=[InSet(x, Integer), InSet(y, Integer), NotEquals(x, zero)])"
   ]
  },
  {
   "cell_type": "code",
   "execution_count": 43,
   "metadata": {},
   "outputs": [],
   "source": [
    "# Divides(x, Mult(y, x)).conclude_via_factor(assumptions=[InSet(x, Integer), InSet(y, Integer), NotEquals(x, zero)])"
   ]
  },
  {
   "cell_type": "code",
   "execution_count": 44,
   "metadata": {},
   "outputs": [
    {
     "data": {
      "text/html": [
       "<span style=\"font-size:20px;\"><a class=\"ProveItLink\" href=\"../__pv_it/theorems/e7ea3ade6561bbbb858c02aa3be91f7305b5ebb50/expr.ipynb\"><img src=\"data:image/png;base64,iVBORw0KGgoAAAANSUhEUgAAADMAAAAQBAMAAABJt1qBAAAAMFBMVEX///8AAAAAAAAAAAAAAAAA\n",
       "AAAAAAAAAAAAAAAAAAAAAAAAAAAAAAAAAAAAAAAAAAAv3aB7AAAAD3RSTlMAEHarMolUmd1mIs3v\n",
       "RLtmgJDEAAAACXBIWXMAAA7EAAAOxAGVKw4bAAAA3UlEQVQY02NgwATZ50+/6DvJgA3omTBwM2zA\n",
       "KlXOwKDJmoBVyoqB8YEcqhDTi45uEC3AwO5ggiLDu0kAxnRmKQBRQsoioWCDV8NlGB7ygdkFTEbs\n",
       "DSDGLrgMW8AkEMW5gPMj8wQQC+FcqNNZGNghYiwnOjo6+sBMNdYLDIwgBo8CmM/4AKaJ8cE6Bgbm\n",
       "BUDW/QWMYEsbYFLMDlYMDPIMDHIXbBhYwSJKMCl3XqDTLRgY8h1rGK5BLIeFzUNuAYZ1eQwM4kps\n",
       "lRAxRruLEK+f2/PuzZ+nqMERBwkoKAAA5a8vMuYfrScAAAAASUVORK5CYII=\n",
       "\" style=\"display:inline;vertical-align:middle;\" /></a>, <a class=\"ProveItLink\" href=\"../__pv_it/theorems/1a5270d7d3401e3ec902ebbf86bec5c78898bba20/expr.ipynb\"><img src=\"data:image/png;base64,iVBORw0KGgoAAAANSUhEUgAAADIAAAATBAMAAAAg4UMRAAAAMFBMVEX///8AAAAAAAAAAAAAAAAA\n",
       "AAAAAAAAAAAAAAAAAAAAAAAAAAAAAAAAAAAAAAAAAAAv3aB7AAAAD3RSTlMAEHaZZquJVO8y3btE\n",
       "zSKD2s2pAAAACXBIWXMAAA7EAAAOxAGVKw4bAAAA8klEQVQY02NgwADsN37cXrXDAVOCgWnrBIYL\n",
       "vFgkGJgNGJgc0rHJsD5gkGbcgGLKrlVrQTQjA4Ml6wQkCZ5LAjAmZ8BkkAplBwZREPctXIKBW2Aj\n",
       "kGRjb2DwB3HvIbSXsSgAyenMCxiiQdwLCBmImwU4FBiaQGZ3rVq1ajXEKQU5QHEGhvMCnD9B9iHc\n",
       "Kc0HZMcxMNgyMDWA+AvgMpFAHzF+YGDYysAdAOIrwd1scBjoXaBCU4bz4NDjLYC7+SID33aggaJJ\n",
       "9g/AXo8+CJE5sbd7d393AoiZCw2EbEjowADbBcZ2BqyAS4E1AbsMu5MNdgkA2cc0b5s0PBoAAAAA\n",
       "SUVORK5CYII=\n",
       "\" style=\"display:inline;vertical-align:middle;\" /></a>, <a class=\"ProveItLink\" href=\"../../number_sets/real_numbers/__pv_it/theorems/d2d428f1124ef55277523143f9436098e99f174d0/expr.ipynb\"><img src=\"data:image/png;base64,iVBORw0KGgoAAAANSUhEUgAAADEAAAAUCAMAAAATIyWrAAAAPFBMVEX///8AAAAAAAAAAAAAAAAA\n",
       "AAAAAAAAAAAAAAAAAAAAAAAAAAAAAAAAAAAAAAAAAAAAAAAAAAAAAAAAAAAo1xBWAAAAE3RSTlMA\n",
       "EHarMolUmd1mIs3vRLvn9enz6YVhIgAAAAlwSFlzAAAOxAAADsQBlSsOGwAAANxJREFUKM+VktsS\n",
       "wiAMRJNwCdiCF/7/X03AKm0Vhzy0k4HlZBcARsUIc2Vz3zlHfPmjyLZrFg+AYSyxpmtiqJw8RvQH\n",
       "5ir3ZeQs9QgoXLFFZgMkMmid8wfF0iNwU0SNEIAMAYct0lDretPvxrkU1xQkluSoKOOZOEB8FPLT\n",
       "BHk5u+Bdi02RlKG10kmxHJJvPnxpblORZcTex/3R3LzzyvUmdHzMCcyql7NHHHOPK7zG98UiS5d2\n",
       "4Xo+jRn0laziGplINkQ/RuhGR8b+um7vJl/5N8S44jQizCLAjhafZdYF4iwDbD4AAAAASUVORK5C\n",
       "YII=\n",
       "\" style=\"display:inline;vertical-align:middle;\" /></a> <a class=\"ProveItLink\" href=\"../__pv_it/demonstrations/ea0fdada3b4dc17fb0a422b4e8238f2470ecea9d0/proof.ipynb\" style=\"text-decoration: none\">&nbsp;&#x22A2;&nbsp;&nbsp;</a><a class=\"ProveItLink\" href=\"../__pv_it/demonstrations/69d2fdb6a62956d3aa8dc18c4fa50bfca82e1d960/expr.ipynb\"><img src=\"data:image/png;base64,iVBORw0KGgoAAAANSUhEUgAAAEkAAAAVBAMAAAD4Ed5jAAAAMFBMVEX///8AAAAAAAAAAAAAAAAA\n",
       "AAAAAAAAAAAAAAAAAAAAAAAAAAAAAAAAAAAAAAAAAAAv3aB7AAAAD3RSTlMAEHarMolUmd1mIs3v\n",
       "RLtmgJDEAAAACXBIWXMAAA7EAAAOxAGVKw4bAAABWklEQVQoz23Sv0vDQBQH8O/lx6WpbYhW6CDI\n",
       "0YqCk7oJIjroLIIuImRzVHSxVLGD4BocLLg0ODnG/yA4OAcH1wacBYVOunh3sT+u3oM8Qu5zuffu\n",
       "DsgjkrkITUTD10OZ53XqdUzRHZ0yQlXNQBtPqmroVVtViV6V/FFFY72a4IVN1af3AqkcXjypLW/t\n",
       "94fJQogKYC8BJ8aK05JKzHFQZ+d9ZdMEHcCN4UbulxlKVQiAe3T81b7a5tPXeSUJLDjxX12lFNhA\n",
       "M1/shye/xPAMWJ9ikI0oiM8ibkTq+lYPKIveuxHxByui/I3JQXdNGFzQFmbTNdj5vzwG8mEmGJ7T\n",
       "Ozzen5vhePMCb7niHdNeNSkHA3WGbih3qFqjjSBXVgvklB3dDfezsnvF700hVU7o+v++H/DnUT3H\n",
       "9hixY/KiXAKpvEhVBWbyToqZqkimKnp7qc6dk/lBdyUWgV+OX0ZrZFTI4QAAAABJRU5ErkJggg==\n",
       "\" style=\"display:inline;vertical-align:middle;\" /></a></span>"
      ],
      "text/plain": [
       "{x in Integer, y in Integer, x != 0} |- x | (x * y)"
      ]
     },
     "metadata": {},
     "output_type": "display_data"
    }
   ],
   "source": [
    "Divides(x, Mult(x, y)).conclude(assumptions=[InSet(x, Integer), InSet(y, Integer), NotEquals(x, zero)])"
   ]
  },
  {
   "cell_type": "markdown",
   "metadata": {},
   "source": [
    "#### Transitivity in Divides.conclude()"
   ]
  },
  {
   "cell_type": "markdown",
   "metadata": {},
   "source": [
    "Using Divides.conclude() to indirectly utilize transitivity, given the right assumptions:"
   ]
  },
  {
   "cell_type": "code",
   "execution_count": 45,
   "metadata": {},
   "outputs": [
    {
     "data": {
      "text/html": [
       "<span style=\"font-size:20px;\"><a class=\"ProveItLink\" href=\"../__pv_it/demonstrations/817f18ca522e8e2ae5c41e22b3f0d2fbf62d28730/expr.ipynb\"><img src=\"data:image/png;base64,iVBORw0KGgoAAAANSUhEUgAAAB0AAAAVBAMAAABI7vhRAAAAMFBMVEX///8AAAAAAAAAAAAAAAAA\n",
       "AAAAAAAAAAAAAAAAAAAAAAAAAAAAAAAAAAAAAAAAAAAv3aB7AAAAD3RSTlMAEHarMolUmd1mIs3v\n",
       "RLtmgJDEAAAACXBIWXMAAA7EAAAOxAGVKw4bAAAAi0lEQVQY02NggIAFDKgglmZ8IWWR0AQQn8tU\n",
       "SwHIL2AyYm8A8e8s4PvIwMC5gPMj8wQgn/EkA1CcgYWBfQNYP/sHBo4AkAE8CmA+zwMG+Qsg/v0F\n",
       "jAJAvrwCw3wgT+6CDQMrSF4+gcGabQFDvmMNwzUQn0+BrZ2dgUFcia0yAcRnNApZrEI1/8FMAgD7\n",
       "4x6Y7SEBLAAAAABJRU5ErkJggg==\n",
       "\" style=\"display:inline;vertical-align:middle;\" /></a>, <a class=\"ProveItLink\" href=\"../__pv_it/demonstrations/b674bec01ea3d419b0ce2ca4f862d17959245f9c0/expr.ipynb\"><img src=\"data:image/png;base64,iVBORw0KGgoAAAANSUhEUgAAABwAAAAVBAMAAACnLJNvAAAAMFBMVEX///8AAAAAAAAAAAAAAAAA\n",
       "AAAAAAAAAAAAAAAAAAAAAAAAAAAAAAAAAAAAAAAAAAAv3aB7AAAAD3RSTlMAIquJdkTvuxBmmd1U\n",
       "zTKBpmoTAAAACXBIWXMAAA7EAAAOxAGVKw4bAAAAoUlEQVQY02NgAANGBhTAHEADLqOyowOI27KS\n",
       "gUOBgSFMgP0HiGtwjIHzAwNHJgPXBiCX78BqBqYCBq4PDNwGQC4HQwoDmwMDWwFDfwBIMesPhvcP\n",
       "GPodGOaDTea6wODGwNB/gEGXRwDIZVdgKGJgYHfg2cUFllVg/cnAwKFiJ+QH4nIoe31EcRXzBSSu\n",
       "LUPbASTuFgZlZC+c9EL4iuUBhAYAz08jOQyhIvoAAAAASUVORK5CYII=\n",
       "\" style=\"display:inline;vertical-align:middle;\" /></a> <a class=\"ProveItLink\" href=\"../__pv_it/demonstrations/db6c0cc2e99ba2db1d1cc320810315c730a0d0450/proof.ipynb\" style=\"text-decoration: none\">&nbsp;&#x22A2;&nbsp;&nbsp;</a><a class=\"ProveItLink\" href=\"../__pv_it/axioms/5030b6ee29eff6a160af03dbd23eb366b96481650/expr.ipynb\"><img src=\"data:image/png;base64,iVBORw0KGgoAAAANSUhEUgAAAB0AAAAVBAMAAABI7vhRAAAAMFBMVEX///8AAAAAAAAAAAAAAAAA\n",
       "AAAAAAAAAAAAAAAAAAAAAAAAAAAAAAAAAAAAAAAAAAAv3aB7AAAAD3RSTlMAEHarMolUmd1mIs3v\n",
       "RLtmgJDEAAAACXBIWXMAAA7EAAAOxAGVKw4bAAAAnklEQVQY02NggIAFDKgglmZ8IWWR0AQgn1F9\n",
       "AoMwkF/AZMTeAOSzsh1gmM/AwLmA8yPzBCDfDShqx8DAwsC+AaxfgEeB4RDIACANNu++AMsXEP/+\n",
       "AkYBEL+agekAA4PcBRsGVrD8YwY+AwaGfMcahmtgfjHD/QkMDOJKbJUJYL5wUP0CVPdFI7uXdQPj\n",
       "MWQ+hwJzADKfbVItkv9UoDQAJC0iG7S7cQ8AAAAASUVORK5CYII=\n",
       "\" style=\"display:inline;vertical-align:middle;\" /></a></span>"
      ],
      "text/plain": [
       "{x | a, a | y} |- x | y"
      ]
     },
     "metadata": {},
     "output_type": "display_data"
    }
   ],
   "source": [
    "Divides(x, y).conclude(assumptions=[Divides(x, a), Divides(a, y)])"
   ]
  },
  {
   "cell_type": "code",
   "execution_count": 46,
   "metadata": {},
   "outputs": [
    {
     "data": {
      "text/html": [
       "<strong id=\"defaults.assumptions\">defaults.assumptions:</strong> <a class=\"ProveItLink\" href=\"../__pv_it/demonstrations/1ca1602073b0aa0cbf20ca716155906f1f3fef840/expr.ipynb\"><img src=\"data:image/png;base64,iVBORw0KGgoAAAANSUhEUgAAAE0AAAAVBAMAAADx+n4ZAAAAMFBMVEX///8AAAAAAAAAAAAAAAAA\n",
       "AAAAAAAAAAAAAAAAAAAAAAAAAAAAAAAAAAAAAAAAAAAv3aB7AAAAD3RSTlMAInZUiRDNmWbv3US7\n",
       "qzJazP2FAAAACXBIWXMAAA7EAAAOxAGVKw4bAAABfUlEQVQoz43SP0gCYRjH8a9393b+5+YgOFuk\n",
       "obihoqYcoiUKcYlA0iVodGiwJrfGoiloiSJaj5qasvZAQoK2lpaWbBAae15fJdNB38H3954f3+c5\n",
       "3xfwMKM3/41I/zdW0F2tDzknNPOt/phnpLNqoMqjHbvg1sZwRxBjDBfLsziOm6ixL1Nhdmc10C7S\n",
       "zPjdv0QncYUqqoHTYE8eVqwX90K7ey/ZNq6TxOWWibaIlrmCqBdtp2ri1Bni9TDJCdPBIak69gnn\n",
       "kMYtd/pzW8RzHWeSEypOifmkW9qho3axOiXTuklSN9Hm653Eia4LD57Kiyv5HJv2TBInlWbAvuAJ\n",
       "iuEbjt6vFPBqe0q7ThKXbPAsb1BnA1Y+DrjTLunbNy4ladYkvV8j8SPt5viErWm7GminXjan5ohf\n",
       "003iVDP7DfGQ+PvQeSz8Ow9Htp+U0pUhl+tza2xLqaosHged8vvcJU05xLosioPO6r8HS1mpndQX\n",
       "P9L7+dzQfbG6vWfgFx3rYCDGnSR8AAAAAElFTkSuQmCC\n",
       "\" style=\"display:inline;vertical-align:middle;\" /></a><br>"
      ],
      "text/plain": [
       "<IPython.core.display.HTML object>"
      ]
     },
     "metadata": {},
     "output_type": "display_data"
    }
   ],
   "source": [
    "defaults.assumptions = [Divides(x, a), Divides(a, y)]"
   ]
  },
  {
   "cell_type": "code",
   "execution_count": 47,
   "metadata": {},
   "outputs": [
    {
     "data": {
      "text/html": [
       "<span style=\"font-size:20px;\"><a class=\"ProveItLink\" href=\"../__pv_it/demonstrations/817f18ca522e8e2ae5c41e22b3f0d2fbf62d28730/expr.ipynb\"><img src=\"data:image/png;base64,iVBORw0KGgoAAAANSUhEUgAAAB0AAAAVBAMAAABI7vhRAAAAMFBMVEX///8AAAAAAAAAAAAAAAAA\n",
       "AAAAAAAAAAAAAAAAAAAAAAAAAAAAAAAAAAAAAAAAAAAv3aB7AAAAD3RSTlMAEHarMolUmd1mIs3v\n",
       "RLtmgJDEAAAACXBIWXMAAA7EAAAOxAGVKw4bAAAAi0lEQVQY02NggIAFDKgglmZ8IWWR0AQQn8tU\n",
       "SwHIL2AyYm8A8e8s4PvIwMC5gPMj8wQgn/EkA1CcgYWBfQNYP/sHBo4AkAE8CmA+zwMG+Qsg/v0F\n",
       "jAJAvrwCw3wgT+6CDQMrSF4+gcGabQFDvmMNwzUQn0+BrZ2dgUFcia0yAcRnNApZrEI1/8FMAgD7\n",
       "4x6Y7SEBLAAAAABJRU5ErkJggg==\n",
       "\" style=\"display:inline;vertical-align:middle;\" /></a>, <a class=\"ProveItLink\" href=\"../__pv_it/demonstrations/b674bec01ea3d419b0ce2ca4f862d17959245f9c0/expr.ipynb\"><img src=\"data:image/png;base64,iVBORw0KGgoAAAANSUhEUgAAABwAAAAVBAMAAACnLJNvAAAAMFBMVEX///8AAAAAAAAAAAAAAAAA\n",
       "AAAAAAAAAAAAAAAAAAAAAAAAAAAAAAAAAAAAAAAAAAAv3aB7AAAAD3RSTlMAIquJdkTvuxBmmd1U\n",
       "zTKBpmoTAAAACXBIWXMAAA7EAAAOxAGVKw4bAAAAoUlEQVQY02NgAANGBhTAHEADLqOyowOI27KS\n",
       "gUOBgSFMgP0HiGtwjIHzAwNHJgPXBiCX78BqBqYCBq4PDNwGQC4HQwoDmwMDWwFDfwBIMesPhvcP\n",
       "GPodGOaDTea6wODGwNB/gEGXRwDIZVdgKGJgYHfg2cUFllVg/cnAwKFiJ+QH4nIoe31EcRXzBSSu\n",
       "LUPbASTuFgZlZC+c9EL4iuUBhAYAz08jOQyhIvoAAAAASUVORK5CYII=\n",
       "\" style=\"display:inline;vertical-align:middle;\" /></a> <a class=\"ProveItLink\" href=\"../__pv_it/demonstrations/db6c0cc2e99ba2db1d1cc320810315c730a0d0450/proof.ipynb\" style=\"text-decoration: none\">&nbsp;&#x22A2;&nbsp;&nbsp;</a><a class=\"ProveItLink\" href=\"../__pv_it/axioms/5030b6ee29eff6a160af03dbd23eb366b96481650/expr.ipynb\"><img src=\"data:image/png;base64,iVBORw0KGgoAAAANSUhEUgAAAB0AAAAVBAMAAABI7vhRAAAAMFBMVEX///8AAAAAAAAAAAAAAAAA\n",
       "AAAAAAAAAAAAAAAAAAAAAAAAAAAAAAAAAAAAAAAAAAAv3aB7AAAAD3RSTlMAEHarMolUmd1mIs3v\n",
       "RLtmgJDEAAAACXBIWXMAAA7EAAAOxAGVKw4bAAAAnklEQVQY02NggIAFDKgglmZ8IWWR0AQgn1F9\n",
       "AoMwkF/AZMTeAOSzsh1gmM/AwLmA8yPzBCDfDShqx8DAwsC+AaxfgEeB4RDIACANNu++AMsXEP/+\n",
       "AkYBEL+agekAA4PcBRsGVrD8YwY+AwaGfMcahmtgfjHD/QkMDOJKbJUJYL5wUP0CVPdFI7uXdQPj\n",
       "MWQ+hwJzADKfbVItkv9UoDQAJC0iG7S7cQ8AAAAASUVORK5CYII=\n",
       "\" style=\"display:inline;vertical-align:middle;\" /></a></span>"
      ],
      "text/plain": [
       "{x | a, a | y} |- x | y"
      ]
     },
     "metadata": {},
     "output_type": "display_data"
    }
   ],
   "source": [
    "Divides(x, y).conclude()"
   ]
  },
  {
   "cell_type": "markdown",
   "metadata": {},
   "source": [
    "#### Divisibility called from the Mult class?"
   ]
  },
  {
   "cell_type": "code",
   "execution_count": 48,
   "metadata": {},
   "outputs": [
    {
     "data": {
      "text/html": [
       "<span style=\"font-size:20px;\"> <a class=\"ProveItLink\" href=\"../__pv_it/demonstrations/ffb9f2f7f240dbecc3e86bdb0898ef39eaf1850b0/proof.ipynb\" style=\"text-decoration: none\">&nbsp;&#x22A2;&nbsp;&nbsp;</a><a class=\"ProveItLink\" href=\"../__pv_it/demonstrations/f69712fcac675bf57bc0a9156340747555428aaa0/expr.ipynb\"><img src=\"data:image/png;base64,iVBORw0KGgoAAAANSUhEUgAAAEQAAAAVBAMAAAAN71XTAAAAMFBMVEX///8AAAAAAAAAAAAAAAAA\n",
       "AAAAAAAAAAAAAAAAAAAAAAAAAAAAAAAAAAAAAAAAAAAv3aB7AAAAD3RSTlMAIpnNuzKJRKvvEN12\n",
       "ZlQ4bmvwAAAACXBIWXMAAA7EAAAOxAGVKw4bAAABRklEQVQoz22SvUoDQRSFv012I/nZZItgo0VY\n",
       "go0IKWwFrWzzBgYrS7Gzi4WVRexEGwM+gEEQK4mljbJEHyCVIBYpUghBEmfnzpqR7IGZ2TN87JmZ\n",
       "eyGWg73Y+tvKHerldRFZelJYuNk0SLklLtHy/i68QJXct0FujDMq1BgNyXY5gUuDbCDOqDTltoFf\n",
       "47pLJxDkHHHJMS6oNOCKM+g0NVJWXrv5YUcRbMUffQnKtBA3v86jmg7U8H4EyUaIS+Q9n6r5TY1i\n",
       "W5DiEHFWkNr6VGvdPF1en7mu7zsWJD+BPfDbNuLLT+7inCbuFI7hAyeYB8XOpFQmGvnCa1HqasRV\n",
       "5dDOIPm2DnpnJQzXJSinMrQz8iP9Lmv0Z7OxIF4PcYmOQlVGHuxmuCdFTs9GBmlIJrIRN0hBqv+6\n",
       "rrCdguwkrSHVXV0kSgG/m9NTqQDTGogAAAAASUVORK5CYII=\n",
       "\" style=\"display:inline;vertical-align:middle;\" /></a></span>"
      ],
      "text/plain": [
       "|- 2 | (2 * 3)"
      ]
     },
     "metadata": {},
     "output_type": "display_data"
    }
   ],
   "source": [
    "Mult(two, three).deduce_divided_by(two, auto_simplify=False)"
   ]
  },
  {
   "cell_type": "code",
   "execution_count": 49,
   "metadata": {},
   "outputs": [
    {
     "data": {
      "text/html": [
       "<span style=\"font-size:20px;\"> <a class=\"ProveItLink\" href=\"../__pv_it/demonstrations/ffb9f2f7f240dbecc3e86bdb0898ef39eaf1850b0/proof.ipynb\" style=\"text-decoration: none\">&nbsp;&#x22A2;&nbsp;&nbsp;</a><a class=\"ProveItLink\" href=\"../__pv_it/demonstrations/f69712fcac675bf57bc0a9156340747555428aaa0/expr.ipynb\"><img src=\"data:image/png;base64,iVBORw0KGgoAAAANSUhEUgAAAEQAAAAVBAMAAAAN71XTAAAAMFBMVEX///8AAAAAAAAAAAAAAAAA\n",
       "AAAAAAAAAAAAAAAAAAAAAAAAAAAAAAAAAAAAAAAAAAAv3aB7AAAAD3RSTlMAIpnNuzKJRKvvEN12\n",
       "ZlQ4bmvwAAAACXBIWXMAAA7EAAAOxAGVKw4bAAABRklEQVQoz22SvUoDQRSFv012I/nZZItgo0VY\n",
       "go0IKWwFrWzzBgYrS7Gzi4WVRexEGwM+gEEQK4mljbJEHyCVIBYpUghBEmfnzpqR7IGZ2TN87JmZ\n",
       "eyGWg73Y+tvKHerldRFZelJYuNk0SLklLtHy/i68QJXct0FujDMq1BgNyXY5gUuDbCDOqDTltoFf\n",
       "47pLJxDkHHHJMS6oNOCKM+g0NVJWXrv5YUcRbMUffQnKtBA3v86jmg7U8H4EyUaIS+Q9n6r5TY1i\n",
       "W5DiEHFWkNr6VGvdPF1en7mu7zsWJD+BPfDbNuLLT+7inCbuFI7hAyeYB8XOpFQmGvnCa1HqasRV\n",
       "5dDOIPm2DnpnJQzXJSinMrQz8iP9Lmv0Z7OxIF4PcYmOQlVGHuxmuCdFTs9GBmlIJrIRN0hBqv+6\n",
       "rrCdguwkrSHVXV0kSgG/m9NTqQDTGogAAAAASUVORK5CYII=\n",
       "\" style=\"display:inline;vertical-align:middle;\" /></a></span>"
      ],
      "text/plain": [
       "|- 2 | (2 * 3)"
      ]
     },
     "metadata": {},
     "output_type": "display_data"
    }
   ],
   "source": [
    "Mult(two, three).deduce_divided_by(two)"
   ]
  },
  {
   "cell_type": "code",
   "execution_count": 50,
   "metadata": {},
   "outputs": [
    {
     "data": {
      "text/html": [
       "<span style=\"font-size:20px;\"> <a class=\"ProveItLink\" href=\"../__pv_it/demonstrations/790594699d4dbc475b3b0303c92d99f440d72f960/proof.ipynb\" style=\"text-decoration: none\">&nbsp;&#x22A2;&nbsp;&nbsp;</a><a class=\"ProveItLink\" href=\"../__pv_it/demonstrations/059c668aa3a7bb0bfa2679f331133a079f7b11840/expr.ipynb\"><img src=\"data:image/png;base64,iVBORw0KGgoAAAANSUhEUgAAAEUAAAAVBAMAAADiLT7tAAAAMFBMVEX///8AAAAAAAAAAAAAAAAA\n",
       "AAAAAAAAAAAAAAAAAAAAAAAAAAAAAAAAAAAAAAAAAAAv3aB7AAAAD3RSTlMAIomZu0QQVHbN72bd\n",
       "Mqv0UZE7AAAACXBIWXMAAA7EAAAOxAGVKw4bAAABaElEQVQoz22Su0vDUBTGv9imqXm16upQFFcN\n",
       "xkVc4iC4iAEXEYeA7g1uTq2Lm5rJxaVLVw04ChJwcBAkODko9h9Q6tIgIvHmJjcPmkNyEu75Jec7\n",
       "D4Bas/DIW3a0QH3dHmd2Izc9v8GYI2BmdSsNc3MrJuouUNPQsWOm5oAzsGQy5gBCAFyS/wdoOzFT\n",
       "caE2IfYYc2HXfoBbgO+jkTAiuUZQvxmzZ4IwohW9d9yYOQZUD+pfJlj4BSaJIPBPieZlei4PM2af\n",
       "xCcGgHL+mTBX9PyjmyKvXz4gOTRXUtcjDTznmhPVJdAaiFDK9GlxRuTbTgzdWFCGUHxUgxxzH4vS\n",
       "iHsHtm3wPTRGKRPlElqYYplCK2IED+IgzbVJ7hfglDHXNJdkQHLT/iySET3ouseYO9qfSgvY0dlM\n",
       "34iOMAwdxvA6mSlkM78bso8Smy3sj6SVMWvFHVsvQTijyByWMNV0Wc/ib7rjzAnwDyENUPXIlDfD\n",
       "AAAAAElFTkSuQmCC\n",
       "\" style=\"display:inline;vertical-align:middle;\" /></a></span>"
      ],
      "text/plain": [
       "|- 3 | (2 * 3)"
      ]
     },
     "metadata": {},
     "output_type": "display_data"
    }
   ],
   "source": [
    "Mult(two, three).deduce_divided_by(three, auto_simplify=False)"
   ]
  },
  {
   "cell_type": "code",
   "execution_count": 51,
   "metadata": {},
   "outputs": [
    {
     "data": {
      "text/html": [
       "<span style=\"font-size:20px;\"> <a class=\"ProveItLink\" href=\"../__pv_it/demonstrations/790594699d4dbc475b3b0303c92d99f440d72f960/proof.ipynb\" style=\"text-decoration: none\">&nbsp;&#x22A2;&nbsp;&nbsp;</a><a class=\"ProveItLink\" href=\"../__pv_it/demonstrations/059c668aa3a7bb0bfa2679f331133a079f7b11840/expr.ipynb\"><img src=\"data:image/png;base64,iVBORw0KGgoAAAANSUhEUgAAAEUAAAAVBAMAAADiLT7tAAAAMFBMVEX///8AAAAAAAAAAAAAAAAA\n",
       "AAAAAAAAAAAAAAAAAAAAAAAAAAAAAAAAAAAAAAAAAAAv3aB7AAAAD3RSTlMAIomZu0QQVHbN72bd\n",
       "Mqv0UZE7AAAACXBIWXMAAA7EAAAOxAGVKw4bAAABaElEQVQoz22Su0vDUBTGv9imqXm16upQFFcN\n",
       "xkVc4iC4iAEXEYeA7g1uTq2Lm5rJxaVLVw04ChJwcBAkODko9h9Q6tIgIvHmJjcPmkNyEu75Jec7\n",
       "D4Bas/DIW3a0QH3dHmd2Izc9v8GYI2BmdSsNc3MrJuouUNPQsWOm5oAzsGQy5gBCAFyS/wdoOzFT\n",
       "caE2IfYYc2HXfoBbgO+jkTAiuUZQvxmzZ4IwohW9d9yYOQZUD+pfJlj4BSaJIPBPieZlei4PM2af\n",
       "xCcGgHL+mTBX9PyjmyKvXz4gOTRXUtcjDTznmhPVJdAaiFDK9GlxRuTbTgzdWFCGUHxUgxxzH4vS\n",
       "iHsHtm3wPTRGKRPlElqYYplCK2IED+IgzbVJ7hfglDHXNJdkQHLT/iySET3ouseYO9qfSgvY0dlM\n",
       "34iOMAwdxvA6mSlkM78bso8Smy3sj6SVMWvFHVsvQTijyByWMNV0Wc/ib7rjzAnwDyENUPXIlDfD\n",
       "AAAAAElFTkSuQmCC\n",
       "\" style=\"display:inline;vertical-align:middle;\" /></a></span>"
      ],
      "text/plain": [
       "|- 3 | (2 * 3)"
      ]
     },
     "metadata": {},
     "output_type": "display_data"
    }
   ],
   "source": [
    "Mult(two, three).deduce_divided_by(three)"
   ]
  },
  {
   "cell_type": "code",
   "execution_count": 52,
   "metadata": {},
   "outputs": [
    {
     "name": "stdout",
     "output_type": "stream",
     "text": [
      "Exception! In Mult(2, 3).deduce_divided_by(4), the supplied divisor 4 does not appear to be equal to either of the multiplicands 2 or 3.\n"
     ]
    }
   ],
   "source": [
    "# Then a case where the divisibility is clearly not true:\n",
    "try:\n",
    "    Mult(two, three).deduce_divided_by(four)\n",
    "except Exception as e:\n",
    "    print(\"Exception! {0}\".format(e))"
   ]
  },
  {
   "cell_type": "markdown",
   "metadata": {},
   "source": [
    "### Testing Divides.eliminate_common_factor()"
   ]
  },
  {
   "cell_type": "code",
   "execution_count": 53,
   "metadata": {},
   "outputs": [
    {
     "data": {
      "text/html": [
       "<span style=\"font-size:20px;\"><a class=\"ProveItLink\" href=\"../__pv_it/demonstrations/d7f961e73e4b27cebc80747cad41ee584456fd940/expr.ipynb\"><img src=\"data:image/png;base64,iVBORw0KGgoAAAANSUhEUgAAAG0AAAAVBAMAAAC+p33JAAAAMFBMVEX///8AAAAAAAAAAAAAAAAA\n",
       "AAAAAAAAAAAAAAAAAAAAAAAAAAAAAAAAAAAAAAAAAAAv3aB7AAAAD3RSTlMAInZUiRDNmWbv3US7\n",
       "qzJazP2FAAAACXBIWXMAAA7EAAAOxAGVKw4bAAACGElEQVQ4y22TP0gcQRTGv1097269O1cJCGJx\n",
       "QQJpEiwkoI3XWYhk06QKZJtACCmuEDeEQI4UsTFwjYV/wAMVAyFRbCTdmSJFAuFSBVLELVLZaCJ3\n",
       "jeDmm5nd2b3cDstjdj9+b7957w0AGz3LEMGOt/8tqZiTvcJgmWFebie6lRJwD4diNwWMLn2LlWtz\n",
       "X4GbEddXgeE99bWa7zzZhVkDMi6MJu4eREKmitlJDDghdx8YR/+l5qytHUqPgGwNRRv5eiSYF3jo\n",
       "IlcNuWfAd2BNc0UZl/ljPm0U/+ijbWDIBVZDjvm2HJzY3VzewR3uGyheJc4+S/uPFdfHFD+BE7+b\n",
       "G6hhUdk+TxTzLcOC4rIV+Wk/9vlqgTn6WyIx11k5rvStX4yvFcfE4tNfrRYcg0XKudiWr++TPWI9\n",
       "Ma04SzbXaiXlL7Rfx4bYZpsiso7q1G0aUFxe9ueFbFAn5F7aKJ0r7o06ZFV48lG4AD4muJz63Z4I\n",
       "n8n5GKxLnxyK4cjFUFtyMwmfUzB0H9ZZXAINfOLLb+CGHqSW9LmiuALrVarAdCKZ9d2kg6YouLHn\n",
       "eY1IyNVk/xYVx4JjzPOe66KMwlyV7TmlmSAIXK0ceZxrvFNcifn2g6AT3zDvB/9tHcDyUy4YjEY4\n",
       "Zx/SVIxBTnDv4rQrbjmV47TjOE0Yj+5fwU5zI9r9II07jrhMM0WVyYxyr2AK4bbcjqRw14F/gcF0\n",
       "lzYRaYAAAAAASUVORK5CYII=\n",
       "\" style=\"display:inline;vertical-align:middle;\" /></a> <a class=\"ProveItLink\" href=\"../__pv_it/demonstrations/0438366cf04230044518cb8dcd33942598fe8f050/proof.ipynb\" style=\"text-decoration: none\">&nbsp;&#x22A2;&nbsp;&nbsp;</a><a class=\"ProveItLink\" href=\"../__pv_it/demonstrations/d7f961e73e4b27cebc80747cad41ee584456fd940/expr.ipynb\"><img src=\"data:image/png;base64,iVBORw0KGgoAAAANSUhEUgAAAG0AAAAVBAMAAAC+p33JAAAAMFBMVEX///8AAAAAAAAAAAAAAAAA\n",
       "AAAAAAAAAAAAAAAAAAAAAAAAAAAAAAAAAAAAAAAAAAAv3aB7AAAAD3RSTlMAInZUiRDNmWbv3US7\n",
       "qzJazP2FAAAACXBIWXMAAA7EAAAOxAGVKw4bAAACGElEQVQ4y22TP0gcQRTGv1097269O1cJCGJx\n",
       "QQJpEiwkoI3XWYhk06QKZJtACCmuEDeEQI4UsTFwjYV/wAMVAyFRbCTdmSJFAuFSBVLELVLZaCJ3\n",
       "jeDmm5nd2b3cDstjdj9+b7957w0AGz3LEMGOt/8tqZiTvcJgmWFebie6lRJwD4diNwWMLn2LlWtz\n",
       "X4GbEddXgeE99bWa7zzZhVkDMi6MJu4eREKmitlJDDghdx8YR/+l5qytHUqPgGwNRRv5eiSYF3jo\n",
       "IlcNuWfAd2BNc0UZl/ljPm0U/+ijbWDIBVZDjvm2HJzY3VzewR3uGyheJc4+S/uPFdfHFD+BE7+b\n",
       "G6hhUdk+TxTzLcOC4rIV+Wk/9vlqgTn6WyIx11k5rvStX4yvFcfE4tNfrRYcg0XKudiWr++TPWI9\n",
       "Ma04SzbXaiXlL7Rfx4bYZpsiso7q1G0aUFxe9ueFbFAn5F7aKJ0r7o06ZFV48lG4AD4muJz63Z4I\n",
       "n8n5GKxLnxyK4cjFUFtyMwmfUzB0H9ZZXAINfOLLb+CGHqSW9LmiuALrVarAdCKZ9d2kg6YouLHn\n",
       "eY1IyNVk/xYVx4JjzPOe66KMwlyV7TmlmSAIXK0ceZxrvFNcifn2g6AT3zDvB/9tHcDyUy4YjEY4\n",
       "Zx/SVIxBTnDv4rQrbjmV47TjOE0Yj+5fwU5zI9r9II07jrhMM0WVyYxyr2AK4bbcjqRw14F/gcF0\n",
       "lzYRaYAAAAAASUVORK5CYII=\n",
       "\" style=\"display:inline;vertical-align:middle;\" /></a></span>"
      ],
      "text/plain": [
       "{(2 * 3) | (2 * 5)} |- (2 * 3) | (2 * 5)"
      ]
     },
     "metadata": {},
     "output_type": "display_data"
    }
   ],
   "source": [
    "Divides(Mult(two, three), Mult(two, five)).prove(assumptions=[Divides(Mult(two, three), Mult(two, five))])"
   ]
  },
  {
   "cell_type": "code",
   "execution_count": 54,
   "metadata": {},
   "outputs": [
    {
     "data": {
      "text/html": [
       "<span style=\"font-size:20px;\"><a class=\"ProveItLink\" href=\"../__pv_it/demonstrations/d7f961e73e4b27cebc80747cad41ee584456fd940/expr.ipynb\"><img src=\"data:image/png;base64,iVBORw0KGgoAAAANSUhEUgAAAG0AAAAVBAMAAAC+p33JAAAAMFBMVEX///8AAAAAAAAAAAAAAAAA\n",
       "AAAAAAAAAAAAAAAAAAAAAAAAAAAAAAAAAAAAAAAAAAAv3aB7AAAAD3RSTlMAInZUiRDNmWbv3US7\n",
       "qzJazP2FAAAACXBIWXMAAA7EAAAOxAGVKw4bAAACGElEQVQ4y22TP0gcQRTGv1097269O1cJCGJx\n",
       "QQJpEiwkoI3XWYhk06QKZJtACCmuEDeEQI4UsTFwjYV/wAMVAyFRbCTdmSJFAuFSBVLELVLZaCJ3\n",
       "jeDmm5nd2b3cDstjdj9+b7957w0AGz3LEMGOt/8tqZiTvcJgmWFebie6lRJwD4diNwWMLn2LlWtz\n",
       "X4GbEddXgeE99bWa7zzZhVkDMi6MJu4eREKmitlJDDghdx8YR/+l5qytHUqPgGwNRRv5eiSYF3jo\n",
       "IlcNuWfAd2BNc0UZl/ljPm0U/+ijbWDIBVZDjvm2HJzY3VzewR3uGyheJc4+S/uPFdfHFD+BE7+b\n",
       "G6hhUdk+TxTzLcOC4rIV+Wk/9vlqgTn6WyIx11k5rvStX4yvFcfE4tNfrRYcg0XKudiWr++TPWI9\n",
       "Ma04SzbXaiXlL7Rfx4bYZpsiso7q1G0aUFxe9ueFbFAn5F7aKJ0r7o06ZFV48lG4AD4muJz63Z4I\n",
       "n8n5GKxLnxyK4cjFUFtyMwmfUzB0H9ZZXAINfOLLb+CGHqSW9LmiuALrVarAdCKZ9d2kg6YouLHn\n",
       "eY1IyNVk/xYVx4JjzPOe66KMwlyV7TmlmSAIXK0ceZxrvFNcifn2g6AT3zDvB/9tHcDyUy4YjEY4\n",
       "Zx/SVIxBTnDv4rQrbjmV47TjOE0Yj+5fwU5zI9r9II07jrhMM0WVyYxyr2AK4bbcjqRw14F/gcF0\n",
       "lzYRaYAAAAAASUVORK5CYII=\n",
       "\" style=\"display:inline;vertical-align:middle;\" /></a> <a class=\"ProveItLink\" href=\"../__pv_it/demonstrations/0eb55c781ec9313ec18fcc4b09619fecd0c1db340/proof.ipynb\" style=\"text-decoration: none\">&nbsp;&#x22A2;&nbsp;&nbsp;</a><a class=\"ProveItLink\" href=\"../__pv_it/demonstrations/666cde09561dc1ba0fa3a58b08c2665e01775af70/expr.ipynb\"><img src=\"data:image/png;base64,iVBORw0KGgoAAAANSUhEUgAAABoAAAAVBAMAAACqMuMoAAAAMFBMVEX///8AAAAAAAAAAAAAAAAA\n",
       "AAAAAAAAAAAAAAAAAAAAAAAAAAAAAAAAAAAAAAAAAAAv3aB7AAAAD3RSTlMAIomZu0QQVHbN72bd\n",
       "Mqv0UZE7AAAACXBIWXMAAA7EAAAOxAGVKw4bAAAAoklEQVQY02NgAAMBBmSgysBwgYENKCak7Arm\n",
       "rZ95JoGBzYChvgDEO/VHjYGB4ztD/gQQ7wFIB+tSBn4EDwjqNyDxWE+DTXnd9BbI4e17C+a5McgH\n",
       "gFWCzWRgYDkAIrm+QXjMHxl4LzCwfAfyWCYwMP9l4P8G4XEdYOD7wMD1AKKSCajDgYF7A8Q+RgOG\n",
       "rgQGhmBjiKuF7cyQfITqPyJ5vRAKAH2tKCc4WPF9AAAAAElFTkSuQmCC\n",
       "\" style=\"display:inline;vertical-align:middle;\" /></a></span>"
      ],
      "text/plain": [
       "{(2 * 3) | (2 * 5)} |- 3 | 5"
      ]
     },
     "metadata": {},
     "output_type": "display_data"
    }
   ],
   "source": [
    "Divides(Mult(two, three), Mult(two, five)).eliminate_common_factors(assumptions=[Divides(Mult(two, three), Mult(two, five))])"
   ]
  },
  {
   "cell_type": "code",
   "execution_count": 55,
   "metadata": {},
   "outputs": [
    {
     "data": {
      "text/html": [
       "<span style=\"font-size:20px;\"><a class=\"ProveItLink\" href=\"../__pv_it/demonstrations/1dd313a51d713e5616440c14403e877bf1fcdebc0/expr.ipynb\"><img src=\"data:image/png;base64,iVBORw0KGgoAAAANSUhEUgAAAJ8AAAAVBAMAAACqHiFtAAAAMFBMVEX///8AAAAAAAAAAAAAAAAA\n",
       "AAAAAAAAAAAAAAAAAAAAAAAAAAAAAAAAAAAAAAAAAAAv3aB7AAAAD3RSTlMAInZUiRDNmWbv3US7\n",
       "qzJazP2FAAAACXBIWXMAAA7EAAAOxAGVKw4bAAACIklEQVQ4y42UPWgUQRTH/3d7yX3lLqtNJNWl\n",
       "sLExRbDewjZ4VmkErxGCIFwhXoqAGwu1CVxjox45MJJKOOwMCKeFhYUJErBacoRAxCIfhARF4/pm\n",
       "3s7OOAfZfdwNb3i//bHzZnYAuDg/RD2j0yQU2ekE6i39c70ktArclChmgIkHX+JC5vpiz+SayPpK\n",
       "aKEUe3FWPL37WqIjDWT6uBFL5uAcG0+UNoE7kdBGKd5ocGW1LtG8j4qLYlsVrk6PnBpPXCHhk0ho\n",
       "o9QDLazIkdAi/U5QOVKFdz0YwupjEhbrLLRR4Ps9S0joNcq7qPzVlPNT57lREo76LBxGPVtI6H3u\n",
       "wKGm1n2dTwlhbpOFQ2jWNYSPZgcSnZfTg1pc2QkGest9ISw0WDiEXoIWjtUzvyX6ytotmLucgxA6\n",
       "bRYOoZ4hpPgs0RcizffFeLvBhRXaf97qJSmsHrLQRgsuC9VzD12BSmqZu9OkYR/YEB/EmlhxTQrL\n",
       "bUNooBfBQjn5RMKBQMU6HA8X1HuHdRaKKAfBdseD09VLNtH3QfBrS02eA9sQ6Eea7AKXVaHDS46/\n",
       "KLEpfRbaKNNxP/FSorO0srVWq6sKT/87hxinluU9FtooxZ84m0D2mUR/UA/CMGyoQrllXg75jbMa\n",
       "Sj0W2iiwGH6NT1jrGy2M0NIASTEZfcvp0EIzkVqIhOlQfEiC6MqK7sNUKG4lUWOuEqZCxek9P6bE\n",
       "NSDblwb9Bw3kpnzpo/MoAAAAAElFTkSuQmCC\n",
       "\" style=\"display:inline;vertical-align:middle;\" /></a> <a class=\"ProveItLink\" href=\"../__pv_it/demonstrations/41c54f03ac903a6a1908418e8bc263fe35d4be810/proof.ipynb\" style=\"text-decoration: none\">&nbsp;&#x22A2;&nbsp;&nbsp;</a><a class=\"ProveItLink\" href=\"../__pv_it/demonstrations/666cde09561dc1ba0fa3a58b08c2665e01775af70/expr.ipynb\"><img src=\"data:image/png;base64,iVBORw0KGgoAAAANSUhEUgAAABoAAAAVBAMAAACqMuMoAAAAMFBMVEX///8AAAAAAAAAAAAAAAAA\n",
       "AAAAAAAAAAAAAAAAAAAAAAAAAAAAAAAAAAAAAAAAAAAv3aB7AAAAD3RSTlMAIomZu0QQVHbN72bd\n",
       "Mqv0UZE7AAAACXBIWXMAAA7EAAAOxAGVKw4bAAAAoklEQVQY02NgAAMBBmSgysBwgYENKCak7Arm\n",
       "rZ95JoGBzYChvgDEO/VHjYGB4ztD/gQQ7wFIB+tSBn4EDwjqNyDxWE+DTXnd9BbI4e17C+a5McgH\n",
       "gFWCzWRgYDkAIrm+QXjMHxl4LzCwfAfyWCYwMP9l4P8G4XEdYOD7wMD1AKKSCajDgYF7A8Q+RgOG\n",
       "rgQGhmBjiKuF7cyQfITqPyJ5vRAKAH2tKCc4WPF9AAAAAElFTkSuQmCC\n",
       "\" style=\"display:inline;vertical-align:middle;\" /></a></span>"
      ],
      "text/plain": [
       "{(2 * 3 * 4) | (2 * 4 * 5)} |- 3 | 5"
      ]
     },
     "metadata": {},
     "output_type": "display_data"
    }
   ],
   "source": [
    "Divides(Mult(two, three, four), Mult(two, four, five)).eliminate_common_factors(\n",
    "    assumptions=[Divides(Mult(two, three, four), Mult(two, four, five))])"
   ]
  },
  {
   "cell_type": "markdown",
   "metadata": {},
   "source": [
    "### Testing Divides side_effects"
   ]
  },
  {
   "cell_type": "code",
   "execution_count": 56,
   "metadata": {},
   "outputs": [
    {
     "data": {
      "text/html": [
       "<span style=\"font-size:20px;\"><a class=\"ProveItLink\" href=\"../__pv_it/demonstrations/72ba01a4b8c8123efa4ed216bc5cb71895a66cd70/expr.ipynb\"><img src=\"data:image/png;base64,iVBORw0KGgoAAAANSUhEUgAAADoAAAAUBAMAAAAuMzNdAAAAMFBMVEX///8AAAAAAAAAAAAAAAAA\n",
       "AAAAAAAAAAAAAAAAAAAAAAAAAAAAAAAAAAAAAAAAAAAv3aB7AAAAD3RSTlMAIpnNuzKJRKvvEN12\n",
       "ZlQ4bmvwAAAACXBIWXMAAA7EAAAOxAGVKw4bAAABEElEQVQoz2NgAIFlGV0MuIECgzYe2e8M8gG4\n",
       "ZW/hlWVgyEbl8ln+NNnteYGBUckEqI11F6osj0cAgwEzA4MIA9t3ILkAVZZJgYHnQh4DQyMDw0wG\n",
       "RgVGARRZDgGGJVwODAzzFzD0C4iEBkE1H9m92wBIcTEwqHIAbexmYOgPmP//P0Sy+BRMN2tDEISx\n",
       "H24goxWcybLAC6LqD1yIGWH7M94DYJq7ASGLcJcBlK2CEIrcDQQOYA8/SGdgALqUF6GVYQmCxegA\n",
       "9u0zBoRfueGyrUAfc31gYE1g4IEHFM8BmH8UioBBsoFBWkkJKW7t4P6xYmD0c2DY////Z4TsCneI\n",
       "OZXOU1zmT0lAj8kyb3BIQgEA19k7+hEAF4MAAAAASUVORK5CYII=\n",
       "\" style=\"display:inline;vertical-align:middle;\" /></a> <a class=\"ProveItLink\" href=\"../__pv_it/demonstrations/24439fe74138446f26cfc79f9f5aa2587e709bbd0/proof.ipynb\" style=\"text-decoration: none\">&nbsp;&#x22A2;&nbsp;&nbsp;</a><a class=\"ProveItLink\" href=\"../__pv_it/demonstrations/ff9054a58c8a07a312446db31cc0153afee5ae920/expr.ipynb\"><img src=\"data:image/png;base64,iVBORw0KGgoAAAANSUhEUgAAAFAAAAAaBAMAAADS/MaUAAAAMFBMVEX///8AAAAAAAAAAAAAAAAA\n",
       "AAAAAAAAAAAAAAAAAAAAAAAAAAAAAAAAAAAAAAAAAAAv3aB7AAAAD3RSTlMAIpnNuzKJRKvvEN12\n",
       "ZlQ4bmvwAAAACXBIWXMAAA7EAAAOxAGVKw4bAAABlUlEQVQ4y42TvUvDQBjGn/RD06aRKFnEwRJL\n",
       "B7s4+Ad0cQ+CgpMdBQf9E+KqQ7uJUzO5tjqJSzuKU8fiJA6dLSKFIpx37300pQ16kI97n1/e5943\n",
       "d8Af4/7sejHoXi7GyqiJ2/z4WJJxgu0Qvp5ZdC/uLQHfBOj21WyFPHODpas859czTxbshwrc5NfG\n",
       "zoEhSEKeQ3gBt1+ZKLDKtTouTEUkwY/5ayfGFXCnQB61PRRaGiTJKlsekB2gHaPpEZifAoUp7LEG\n",
       "SfKPDnnKTB03QDMksNTlGbuwvzVIUpsxoZFNT1rbsjvOZ6LinnquToXljwRzdYqd9mccl9SLsHEi\n",
       "CWYjij0lEjqR7hQvFBXVcIf+aIbyduQyKvqLIgfdCMmMQ5mKPnIj03tuPYLlzcC1BtaNs5DUGsfI\n",
       "N1CKZdXC9Bh4NaUIyVS9FQQ1aS16ZT0GQVeDJKmd2kKPsS8Jil45jDGz2UiSIxMlt9lt+oHIDpJg\n",
       "NR3sxEnwJB0czu1w+z0VfFDPUph6ZmTR/fn5KA30/3GuaewCv5QHYyE2g7qwAAAAAElFTkSuQmCC\n",
       "\" style=\"display:inline;vertical-align:middle;\" /></a></span>"
      ],
      "text/plain": [
       "{2^{2} in Integer} |- 2 | (2 * 2^{2})"
      ]
     },
     "metadata": {},
     "output_type": "display_data"
    }
   ],
   "source": [
    "Divides(two, Mult(two, Exp(two, two))).conclude(assumptions=[InSet(Exp(two, two), Integer)])"
   ]
  },
  {
   "cell_type": "code",
   "execution_count": 57,
   "metadata": {},
   "outputs": [
    {
     "data": {
      "text/html": [
       "<span style=\"font-size:20px;\"><a class=\"ProveItLink\" href=\"../__pv_it/demonstrations/2a65e2f6da8457f72b3c5e8f4fede6ed61186cfc0/expr.ipynb\"><img src=\"data:image/png;base64,iVBORw0KGgoAAAANSUhEUgAAADIAAAAVBAMAAAD2uKAMAAAAMFBMVEX///8AAAAAAAAAAAAAAAAA\n",
       "AAAAAAAAAAAAAAAAAAAAAAAAAAAAAAAAAAAAAAAAAAAv3aB7AAAAD3RSTlMAEHarMolUmd1mIs3v\n",
       "RLtmgJDEAAAACXBIWXMAAA7EAAAOxAGVKw4bAAAA6klEQVQoz2NgAAPOSid1BgYuBmQeBEjemcCz\n",
       "gIH1AjIPAhZqM/ALwGUgPCgwYrjDAJeB8KDgCEM5C0IGzIMArg8MLSlwGQgPAngNGFQnwGUgPAYh\n",
       "ZZHQBIgIUEaokoHRAKq8gMmIvQEuE5DDwPkB6qsFnB+ZJ8BkWBIqGJgfQHgsDOwbYA5kvcDIcIiB\n",
       "RwHGR7CApvF+ZPB3gPHvL2AUgMsADdCBistdsGFgRejhM2B4DOXlO9YwXEPIsBvw/oTyxJXYKhMQ\n",
       "Moym6r8YMAE4DFg3YJeJZpBJwC7TxGDKgF0mU/0CNhkmByQOAN6tPHJHHjRlAAAAAElFTkSuQmCC\n",
       "\" style=\"display:inline;vertical-align:middle;\" /></a> <a class=\"ProveItLink\" href=\"../__pv_it/demonstrations/3dd5cecdd2b4e37c148467c794df2fca33b5b6f20/proof.ipynb\" style=\"text-decoration: none\">&nbsp;&#x22A2;&nbsp;&nbsp;</a><a class=\"ProveItLink\" href=\"../__pv_it/demonstrations/2a65e2f6da8457f72b3c5e8f4fede6ed61186cfc0/expr.ipynb\"><img src=\"data:image/png;base64,iVBORw0KGgoAAAANSUhEUgAAADIAAAAVBAMAAAD2uKAMAAAAMFBMVEX///8AAAAAAAAAAAAAAAAA\n",
       "AAAAAAAAAAAAAAAAAAAAAAAAAAAAAAAAAAAAAAAAAAAv3aB7AAAAD3RSTlMAEHarMolUmd1mIs3v\n",
       "RLtmgJDEAAAACXBIWXMAAA7EAAAOxAGVKw4bAAAA6klEQVQoz2NgAAPOSid1BgYuBmQeBEjemcCz\n",
       "gIH1AjIPAhZqM/ALwGUgPCgwYrjDAJeB8KDgCEM5C0IGzIMArg8MLSlwGQgPAngNGFQnwGUgPAYh\n",
       "ZZHQBIgIUEaokoHRAKq8gMmIvQEuE5DDwPkB6qsFnB+ZJ8BkWBIqGJgfQHgsDOwbYA5kvcDIcIiB\n",
       "RwHGR7CApvF+ZPB3gPHvL2AUgMsADdCBistdsGFgRejhM2B4DOXlO9YwXEPIsBvw/oTyxJXYKhMQ\n",
       "Moym6r8YMAE4DFg3YJeJZpBJwC7TxGDKgF0mU/0CNhkmByQOAN6tPHJHHjRlAAAAAElFTkSuQmCC\n",
       "\" style=\"display:inline;vertical-align:middle;\" /></a></span>"
      ],
      "text/plain": [
       "{x^{n} | y^{n}} |- x^{n} | y^{n}"
      ]
     },
     "metadata": {},
     "output_type": "display_data"
    }
   ],
   "source": [
    "Divides(Exp(x, n), Exp(y,n)).prove(\n",
    "    assumptions=[Divides(Exp(x, n), Exp(y,n)), InSet(x, Integer), InSet(y, Integer), InSet(n, NaturalPos)])"
   ]
  },
  {
   "cell_type": "code",
   "execution_count": 58,
   "metadata": {},
   "outputs": [
    {
     "data": {
      "text/html": [
       "<span style=\"font-size:20px;\"> <a class=\"ProveItLink\" href=\"proofs/common_factor_elimination/thm_proof.ipynb\" style=\"text-decoration: none\">&nbsp;&#x22A2;&nbsp;&nbsp;</a><a class=\"ProveItLink\" href=\"../__pv_it/theorems/d17cf12f9618dcf8217981671bedce2ecfda43f40/expr.ipynb\"><img src=\"data:image/png;base64,iVBORw0KGgoAAAANSUhEUgAAAPkAAAAXCAMAAAD+3xlQAAAAOVBMVEX///8AAAAAAAAAAAAAAAAA\n",
       "AAAAAAAAAAAAAAAAAAAAAAAAAAAAAAAAAAAAAAAAAAAAAAAAAAAAAAACXHtMAAAAEnRSTlMAq1Rm\n",
       "mUTNIjK7EInv3Xbt5cmRiLwgAAAACXBIWXMAAA7EAAAOxAGVKw4bAAADe0lEQVRYw91Yia7cIAzk\n",
       "DDdt8/8fWzDmXMiqUitVQXpPSRhsxowNLCHvbOrpVZH3tsjmdyfHNxnzf9reGX8NcebIhrk1PmBg\n",
       "MlXRonG9RgT2ImS75peoXC0hui66Mq9ZcsEPzO+aBFwgfehkr2HuyZ65vG2DpCeOAbrek+XXgbkL\n",
       "7cOVWfuQm3fvEXuloqiLKnbmF42RFmm7nORC50dj/4rTOfjHmhln/AkYnwvZ4fuFKpY+mTWg8FLb\n",
       "75TZ9gZf/ILI1H9L09dQ9HjYTCMaQTGqpU1VksvTuEbZHIDV9RjJ1RIq2MVVraEsq/Wwd4WGZRAE\n",
       "D1aYr8s9b/XY6GjTN4SO1BiZ90ea4seM2zO3dBk3HSZcx++A6FruZ0DaWvHEQy67EuLEDWFwjbmA\n",
       "/L/hg4ZOFg/1zevB0d2WS+BnZyF8/MC8nBT6uEWStuF3wOr6spsZlNiohrvVjrk3oHDZmEMQZNnZ\n",
       "pMeyzlFI1vHoqh19p4JQPXNDFOgq1s3Sci3XY/DIPMzjFvtlEzUHYHM97LWzpaIGVQTMNmq3d+bE\n",
       "754ZwFmUnY0F3MoxtDao5LQyicGSWDMt5TOzqWRY0+vXZ2EamKtrGrfaZ6Lid8DmmvVMrwBhcvuR\n",
       "/ngylice5pOLiYV5JkovKJ+Fua7JD2GESXpahZzC3c4ByXKpgaCdfAlIQ2Xzwi23D8wx++o462b7\n",
       "pdscgM31kMMV0E/eBJn7pfTRFgAWBFRJYE7TGCPmnY/qniGRjrkmaE0yTG9+QcgNI1pL/cCc0Wmc\n",
       "zss52NeN+RZYXWvT07wVGNKUV9R+z2rXAStsdFrRqNuuRl0714a57sJeZ7jFpbyHFErqkCFntO71\n",
       "DCvcuK8OzMuc27jVflf7Bthdd7U3QFb7z18G1L6tcCTow7m9p2JYi3lOQ5lEDJJLuZbTAZ5pzKF0\n",
       "05FHOZFduvhQ4fq4yX5a+jhXuBmIrhG2zGC4ZkG/XM8iXHxj/nGnkYKz6HiWXM4pAX7h2aicJxru\n",
       "dF1zLklf6L3aYcgwbrKPvQW/AaJr7FtmMB0400lGfJYb9cz88V7KDs+Zb1ba9nwyMZdPNwFMVPMF\n",
       "WPN5ngGL3y7o5pm5efgpQtr985c2eRQP9rHPfAFizzKD79dKtcQmTpkfn36D4YfnP2GeSuDRvJzw\n",
       "J2CFzTNg8v//ydN+u2apZ6D9h1P9DbNOHzmXrhh1AAAAAElFTkSuQmCC\n",
       "\" style=\"display:inline;vertical-align:middle;\" /></a></span>"
      ],
      "text/plain": [
       "|- forall_{a, b, k in Complex | (k * a) | (k * b), k != 0} (a | b)"
      ]
     },
     "metadata": {},
     "output_type": "display_data"
    }
   ],
   "source": [
    "from proveit.numbers.divisibility import common_factor_elimination\n",
    "common_factor_elimination"
   ]
  },
  {
   "cell_type": "code",
   "execution_count": 59,
   "metadata": {},
   "outputs": [
    {
     "data": {
      "text/html": [
       "<span style=\"font-size:20px;\"><a class=\"ProveItLink\" href=\"../__pv_it/theorems/e7ea3ade6561bbbb858c02aa3be91f7305b5ebb50/expr.ipynb\"><img src=\"data:image/png;base64,iVBORw0KGgoAAAANSUhEUgAAADMAAAAQBAMAAABJt1qBAAAAMFBMVEX///8AAAAAAAAAAAAAAAAA\n",
       "AAAAAAAAAAAAAAAAAAAAAAAAAAAAAAAAAAAAAAAAAAAv3aB7AAAAD3RSTlMAEHarMolUmd1mIs3v\n",
       "RLtmgJDEAAAACXBIWXMAAA7EAAAOxAGVKw4bAAAA3UlEQVQY02NgwATZ50+/6DvJgA3omTBwM2zA\n",
       "KlXOwKDJmoBVyoqB8YEcqhDTi45uEC3AwO5ggiLDu0kAxnRmKQBRQsoioWCDV8NlGB7ygdkFTEbs\n",
       "DSDGLrgMW8AkEMW5gPMj8wQQC+FcqNNZGNghYiwnOjo6+sBMNdYLDIwgBo8CmM/4AKaJ8cE6Bgbm\n",
       "BUDW/QWMYEsbYFLMDlYMDPIMDHIXbBhYwSJKMCl3XqDTLRgY8h1rGK5BLIeFzUNuAYZ1eQwM4kps\n",
       "lRAxRruLEK+f2/PuzZ+nqMERBwkoKAAA5a8vMuYfrScAAAAASUVORK5CYII=\n",
       "\" style=\"display:inline;vertical-align:middle;\" /></a>, <a class=\"ProveItLink\" href=\"../__pv_it/theorems/1a5270d7d3401e3ec902ebbf86bec5c78898bba20/expr.ipynb\"><img src=\"data:image/png;base64,iVBORw0KGgoAAAANSUhEUgAAADIAAAATBAMAAAAg4UMRAAAAMFBMVEX///8AAAAAAAAAAAAAAAAA\n",
       "AAAAAAAAAAAAAAAAAAAAAAAAAAAAAAAAAAAAAAAAAAAv3aB7AAAAD3RSTlMAEHaZZquJVO8y3btE\n",
       "zSKD2s2pAAAACXBIWXMAAA7EAAAOxAGVKw4bAAAA8klEQVQY02NgwADsN37cXrXDAVOCgWnrBIYL\n",
       "vFgkGJgNGJgc0rHJsD5gkGbcgGLKrlVrQTQjA4Ml6wQkCZ5LAjAmZ8BkkAplBwZREPctXIKBW2Aj\n",
       "kGRjb2DwB3HvIbSXsSgAyenMCxiiQdwLCBmImwU4FBiaQGZ3rVq1ajXEKQU5QHEGhvMCnD9B9iHc\n",
       "Kc0HZMcxMNgyMDWA+AvgMpFAHzF+YGDYysAdAOIrwd1scBjoXaBCU4bz4NDjLYC7+SID33aggaJJ\n",
       "9g/AXo8+CJE5sbd7d393AoiZCw2EbEjowADbBcZ2BqyAS4E1AbsMu5MNdgkA2cc0b5s0PBoAAAAA\n",
       "SUVORK5CYII=\n",
       "\" style=\"display:inline;vertical-align:middle;\" /></a>, <a class=\"ProveItLink\" href=\"../__pv_it/demonstrations/e48ddbf573f63e7aeedb2462582b9dbf6a12b0b30/expr.ipynb\"><img src=\"data:image/png;base64,iVBORw0KGgoAAAANSUhEUgAAAC4AAAAYBAMAAAB3tNK0AAAAMFBMVEX///8AAAAAAAAAAAAAAAAA\n",
       "AAAAAAAAAAAAAAAAAAAAAAAAAAAAAAAAAAAAAAAAAAAv3aB7AAAAD3RSTlMAEHarMolUmd1mIs3v\n",
       "RLtmgJDEAAAACXBIWXMAAA7EAAAOxAGVKw4bAAAA9ElEQVQoz2NgAAPGUGMBBhhA4rAzsDfAxZE4\n",
       "/Be4vsDFkTicAkAmFzIHBlgbGFgvIHFgwEMASdwD7giuhwwIcRAHCpYzrEKIgzhQFU9cCuHiYA4E\n",
       "8Pz//wEuDuYwCCmLhCZAXHGBQaiSgdEAIlvAZAT1HlA8IIeB8wPEEws4PzJPgIqzJFQwMD8Ac1gY\n",
       "2DfAfHOBkeEQA48CzE4FuDgD70cGfwco9/4CRgGYOFCvDkRU7oINAytcPZ8Bw2MIJ9+xhuEaXJzd\n",
       "gPcnhCOuxFaZABdnNFX/xYAOwP5l3YBNPJpBJgGbeBODKQM28Uz1C5jiTA4INgDK4EHEqs7ypgAA\n",
       "AABJRU5ErkJggg==\n",
       "\" style=\"display:inline;vertical-align:middle;\" /></a> <a class=\"ProveItLink\" href=\"../__pv_it/demonstrations/8896138dbbb464c77a83992bf1e589cf0a4069530/proof.ipynb\" style=\"text-decoration: none\">&nbsp;&#x22A2;&nbsp;&nbsp;</a><a class=\"ProveItLink\" href=\"../__pv_it/axioms/5030b6ee29eff6a160af03dbd23eb366b96481650/expr.ipynb\"><img src=\"data:image/png;base64,iVBORw0KGgoAAAANSUhEUgAAAB0AAAAVBAMAAABI7vhRAAAAMFBMVEX///8AAAAAAAAAAAAAAAAA\n",
       "AAAAAAAAAAAAAAAAAAAAAAAAAAAAAAAAAAAAAAAAAAAv3aB7AAAAD3RSTlMAEHarMolUmd1mIs3v\n",
       "RLtmgJDEAAAACXBIWXMAAA7EAAAOxAGVKw4bAAAAnklEQVQY02NggIAFDKgglmZ8IWWR0AQgn1F9\n",
       "AoMwkF/AZMTeAOSzsh1gmM/AwLmA8yPzBCDfDShqx8DAwsC+AaxfgEeB4RDIACANNu++AMsXEP/+\n",
       "AkYBEL+agekAA4PcBRsGVrD8YwY+AwaGfMcahmtgfjHD/QkMDOJKbJUJYL5wUP0CVPdFI7uXdQPj\n",
       "MWQ+hwJzADKfbVItkv9UoDQAJC0iG7S7cQ8AAAAASUVORK5CYII=\n",
       "\" style=\"display:inline;vertical-align:middle;\" /></a></span>"
      ],
      "text/plain": [
       "{x in Integer, y in Integer, x^{2} | y^{2}} |- x | y"
      ]
     },
     "metadata": {},
     "output_type": "display_data"
    }
   ],
   "source": [
    "Divides(x, y).prove(\n",
    "    assumptions=[Divides(Exp(x, two), Exp(y,two)), InSet(x, Integer), InSet(y, Integer)])"
   ]
  },
  {
   "cell_type": "code",
   "execution_count": 60,
   "metadata": {},
   "outputs": [
    {
     "data": {
      "text/html": [
       "<span style=\"font-size:20px;\"><a class=\"ProveItLink\" href=\"../__pv_it/demonstrations/7bcf6aad8976f904933c4206290dbdc9b6c177e10/expr.ipynb\"><img src=\"data:image/png;base64,iVBORw0KGgoAAAANSUhEUgAAAG8AAAAVBAMAAAC6Uq30AAAAMFBMVEX///8AAAAAAAAAAAAAAAAA\n",
       "AAAAAAAAAAAAAAAAAAAAAAAAAAAAAAAAAAAAAAAAAAAv3aB7AAAAD3RSTlMAInZUiRDNmWbv3US7\n",
       "qzJazP2FAAAACXBIWXMAAA7EAAAOxAGVKw4bAAACGklEQVQ4y22TPWgUQRTH//uVvd3cHhsbIaRY\n",
       "DRIbg0UQTJNDxEYki4U2+dhGSJHiipCNUXGxMI3iEbEQCxcsUojmSKpUd7FXol1ESEBtbPIBSSO4\n",
       "vpm52ctNdrh7OzP//b15895bAD5OD40ZvzNVBlf0ywVKb0DmJp8OFshrzIwAZ+e/qNJFCRpVaPHs\n",
       "breqJ4AVQWthvKGAPWEbvAMMwPyryPcAO4Hnw6krSqnWBheAr8BrRV4CHPodwTtQY33VBsnj2xA7\n",
       "SgadEFcAL4X3TwVnBGhEwHdgR7lkT4I5PnH3873bl6auU6JvCdCu8s1VqVpDCSYBc4t5prEX5GBN\n",
       "/2anwFMBkmsalUOpmkYdLygFEd7x9YdOVvzSkUdvXxWgy6vsbkn5Jzn9QTeo4w1b2i1mpyPmHHbE\n",
       "YxCgw+v0kEd5TCZ0AizTW/sCfC4uWhMZ42FvnABL4sAVZpphhRLZW+ehUnf0dTLW9C2q/uiJUEeg\n",
       "5eWYh04VMlJ8osUv4IIUJhrbMOn5TIBlOr5ShR5K/TPKdH6pxdKurcRxKoWx3/exTs85AVLe0R/H\n",
       "i3k8j9BMeJX+UDhZlkVSuHveWGDhvRdghTyuZtlxDk5ee0xhuw24uygaWtpuuY+npBv07xfdXDCo\n",
       "9wW41L1vRtZL0frYLAQH5PdY7m5vN/CoCTVW94lCcFOCVqtr33jyQHrTggJOZ8own54pkM8B/wGL\n",
       "3m9sRVCorAAAAABJRU5ErkJggg==\n",
       "\" style=\"display:inline;vertical-align:middle;\" /></a> <a class=\"ProveItLink\" href=\"../__pv_it/demonstrations/9157e432e8cc707b717a195539751ffe63e70a800/proof.ipynb\" style=\"text-decoration: none\">&nbsp;&#x22A2;&nbsp;&nbsp;</a><a class=\"ProveItLink\" href=\"../__pv_it/demonstrations/7bcf6aad8976f904933c4206290dbdc9b6c177e10/expr.ipynb\"><img src=\"data:image/png;base64,iVBORw0KGgoAAAANSUhEUgAAAG8AAAAVBAMAAAC6Uq30AAAAMFBMVEX///8AAAAAAAAAAAAAAAAA\n",
       "AAAAAAAAAAAAAAAAAAAAAAAAAAAAAAAAAAAAAAAAAAAv3aB7AAAAD3RSTlMAInZUiRDNmWbv3US7\n",
       "qzJazP2FAAAACXBIWXMAAA7EAAAOxAGVKw4bAAACGklEQVQ4y22TPWgUQRTH//uVvd3cHhsbIaRY\n",
       "DRIbg0UQTJNDxEYki4U2+dhGSJHiipCNUXGxMI3iEbEQCxcsUojmSKpUd7FXol1ESEBtbPIBSSO4\n",
       "vpm52ctNdrh7OzP//b15895bAD5OD40ZvzNVBlf0ywVKb0DmJp8OFshrzIwAZ+e/qNJFCRpVaPHs\n",
       "breqJ4AVQWthvKGAPWEbvAMMwPyryPcAO4Hnw6krSqnWBheAr8BrRV4CHPodwTtQY33VBsnj2xA7\n",
       "SgadEFcAL4X3TwVnBGhEwHdgR7lkT4I5PnH3873bl6auU6JvCdCu8s1VqVpDCSYBc4t5prEX5GBN\n",
       "/2anwFMBkmsalUOpmkYdLygFEd7x9YdOVvzSkUdvXxWgy6vsbkn5Jzn9QTeo4w1b2i1mpyPmHHbE\n",
       "YxCgw+v0kEd5TCZ0AizTW/sCfC4uWhMZ42FvnABL4sAVZpphhRLZW+ehUnf0dTLW9C2q/uiJUEeg\n",
       "5eWYh04VMlJ8osUv4IIUJhrbMOn5TIBlOr5ShR5K/TPKdH6pxdKurcRxKoWx3/exTs85AVLe0R/H\n",
       "i3k8j9BMeJX+UDhZlkVSuHveWGDhvRdghTyuZtlxDk5ee0xhuw24uygaWtpuuY+npBv07xfdXDCo\n",
       "9wW41L1vRtZL0frYLAQH5PdY7m5vN/CoCTVW94lCcFOCVqtr33jyQHrTggJOZ8own54pkM8B/wGL\n",
       "3m9sRVCorAAAAABJRU5ErkJggg==\n",
       "\" style=\"display:inline;vertical-align:middle;\" /></a></span>"
      ],
      "text/plain": [
       "{(2 * x) | (2 * y)} |- (2 * x) | (2 * y)"
      ]
     },
     "metadata": {},
     "output_type": "display_data"
    }
   ],
   "source": [
    "Divides(Mult(two, x), Mult(two, y)).prove(assumptions=[Divides(Mult(two, x), Mult(two, y))])"
   ]
  },
  {
   "cell_type": "code",
   "execution_count": 61,
   "metadata": {},
   "outputs": [
    {
     "data": {
      "text/html": [
       "<span style=\"font-size:20px;\"><a class=\"ProveItLink\" href=\"../__pv_it/demonstrations/817f18ca522e8e2ae5c41e22b3f0d2fbf62d28730/expr.ipynb\"><img src=\"data:image/png;base64,iVBORw0KGgoAAAANSUhEUgAAAB0AAAAVBAMAAABI7vhRAAAAMFBMVEX///8AAAAAAAAAAAAAAAAA\n",
       "AAAAAAAAAAAAAAAAAAAAAAAAAAAAAAAAAAAAAAAAAAAv3aB7AAAAD3RSTlMAEHarMolUmd1mIs3v\n",
       "RLtmgJDEAAAACXBIWXMAAA7EAAAOxAGVKw4bAAAAi0lEQVQY02NggIAFDKgglmZ8IWWR0AQQn8tU\n",
       "SwHIL2AyYm8A8e8s4PvIwMC5gPMj8wQgn/EkA1CcgYWBfQNYP/sHBo4AkAE8CmA+zwMG+Qsg/v0F\n",
       "jAJAvrwCw3wgT+6CDQMrSF4+gcGabQFDvmMNwzUQn0+BrZ2dgUFcia0yAcRnNApZrEI1/8FMAgD7\n",
       "4x6Y7SEBLAAAAABJRU5ErkJggg==\n",
       "\" style=\"display:inline;vertical-align:middle;\" /></a>, <a class=\"ProveItLink\" href=\"../__pv_it/demonstrations/b674bec01ea3d419b0ce2ca4f862d17959245f9c0/expr.ipynb\"><img src=\"data:image/png;base64,iVBORw0KGgoAAAANSUhEUgAAABwAAAAVBAMAAACnLJNvAAAAMFBMVEX///8AAAAAAAAAAAAAAAAA\n",
       "AAAAAAAAAAAAAAAAAAAAAAAAAAAAAAAAAAAAAAAAAAAv3aB7AAAAD3RSTlMAIquJdkTvuxBmmd1U\n",
       "zTKBpmoTAAAACXBIWXMAAA7EAAAOxAGVKw4bAAAAoUlEQVQY02NgAANGBhTAHEADLqOyowOI27KS\n",
       "gUOBgSFMgP0HiGtwjIHzAwNHJgPXBiCX78BqBqYCBq4PDNwGQC4HQwoDmwMDWwFDfwBIMesPhvcP\n",
       "GPodGOaDTea6wODGwNB/gEGXRwDIZVdgKGJgYHfg2cUFllVg/cnAwKFiJ+QH4nIoe31EcRXzBSSu\n",
       "LUPbASTuFgZlZC+c9EL4iuUBhAYAz08jOQyhIvoAAAAASUVORK5CYII=\n",
       "\" style=\"display:inline;vertical-align:middle;\" /></a> <a class=\"ProveItLink\" href=\"../__pv_it/demonstrations/db6c0cc2e99ba2db1d1cc320810315c730a0d0450/proof.ipynb\" style=\"text-decoration: none\">&nbsp;&#x22A2;&nbsp;&nbsp;</a><a class=\"ProveItLink\" href=\"../__pv_it/axioms/5030b6ee29eff6a160af03dbd23eb366b96481650/expr.ipynb\"><img src=\"data:image/png;base64,iVBORw0KGgoAAAANSUhEUgAAAB0AAAAVBAMAAABI7vhRAAAAMFBMVEX///8AAAAAAAAAAAAAAAAA\n",
       "AAAAAAAAAAAAAAAAAAAAAAAAAAAAAAAAAAAAAAAAAAAv3aB7AAAAD3RSTlMAEHarMolUmd1mIs3v\n",
       "RLtmgJDEAAAACXBIWXMAAA7EAAAOxAGVKw4bAAAAnklEQVQY02NggIAFDKgglmZ8IWWR0AQgn1F9\n",
       "AoMwkF/AZMTeAOSzsh1gmM/AwLmA8yPzBCDfDShqx8DAwsC+AaxfgEeB4RDIACANNu++AMsXEP/+\n",
       "AkYBEL+agekAA4PcBRsGVrD8YwY+AwaGfMcahmtgfjHD/QkMDOJKbJUJYL5wUP0CVPdFI7uXdQPj\n",
       "MWQ+hwJzADKfbVItkv9UoDQAJC0iG7S7cQ8AAAAASUVORK5CYII=\n",
       "\" style=\"display:inline;vertical-align:middle;\" /></a></span>"
      ],
      "text/plain": [
       "{x | a, a | y} |- x | y"
      ]
     },
     "metadata": {},
     "output_type": "display_data"
    }
   ],
   "source": [
    "Divides(x, y).prove()"
   ]
  },
  {
   "cell_type": "code",
   "execution_count": 62,
   "metadata": {},
   "outputs": [],
   "source": [
    "# Divides(x, y).prove(\n",
    "#     assumptions=[Divides(Mult(two, x), Mult(two, y)), InSet(x, Integer), InSet(y, Integer)])"
   ]
  },
  {
   "cell_type": "markdown",
   "metadata": {},
   "source": [
    "### GCD"
   ]
  },
  {
   "cell_type": "code",
   "execution_count": 63,
   "metadata": {},
   "outputs": [
    {
     "data": {
      "text/html": [
       "<a class=\"ProveItLink\" href=\"../__pv_it/theorems/c2890621ecdbc0528d0f5eb7a214b965b492eb190/expr.ipynb\"><img src=\"data:image/png;base64,iVBORw0KGgoAAAANSUhEUgAAAFAAAAAVBAMAAAAjqnRBAAAAMFBMVEX///8AAAAAAAAAAAAAAAAA\n",
       "AAAAAAAAAAAAAAAAAAAAAAAAAAAAAAAAAAAAAAAAAAAv3aB7AAAAD3RSTlMAVIl2ImbN77sQqzJE\n",
       "md23+iBgAAAACXBIWXMAAA7EAAAOxAGVKw4bAAABt0lEQVQoz3WTPUhbURTHf/kyuUmehmLrlhQF\n",
       "B6dgCGJByCJIB8nS0jGLoyC0Q1oUAjq5+CBggiIJOjiaQQQdmnSSdmko2C4ljbqW0mAUQjt47ksC\n",
       "5iVeuOfedz7/5//OhQErYVe4GbhcIbsmGLUpTta0fNIfG7crGrJVqt9xyLSVaIkwkv2Onmrvt7Mu\n",
       "wjsI93tbBR34bJDjksYem4eJeImXE2Xd7zfZ2Re74+3esxeoIkxJuZQ7zWLIyATfsWV2gquuA6Nu\n",
       "OT4fw/MXXkPE5IYrvNFcku/adCnYE56W3+opEKrhz8AYfCDQNHS3vxB/WatixuhwpHgrOaBMoIFr\n",
       "xSsxpFH/O45Yxi5j5RKc42niKxZErW4sMFZp+JpQbY4l9YwcYW0sJEcEz+cG/tSo6NYhXznECdrV\n",
       "V2RTjjeoJkemkcFZWidc1TwKE5HTH3xC3emMxeBtm7Mv0zUYfzXLzvTxgaDhI+zFHBdC4x9Jqfbn\n",
       "mqL8rWEs9/6E4VL35rBgOoUAd50zM/DvsQEQmEySC1mDcmhu26dyo3vJyr5mX+SChvjTPgD57kVn\n",
       "eDpXeRjb+0KifY8jwT0IQmg42T7htAAAAABJRU5ErkJggg==\n",
       "\" style=\"display:inline;vertical-align:middle;\" /></a>"
      ],
      "text/plain": [
       "gcd(x, y)"
      ]
     },
     "metadata": {},
     "output_type": "display_data"
    }
   ],
   "source": [
    "GCD(x, y)"
   ]
  },
  {
   "cell_type": "code",
   "execution_count": 64,
   "metadata": {},
   "outputs": [
    {
     "data": {
      "text/html": [
       "<a class=\"ProveItLink\" href=\"../../../__pv_it/common/70b6dfe187a2382408546cc714e0c3bc5c3a48c90/expr.ipynb\"><img src=\"data:image/png;base64,iVBORw0KGgoAAAANSUhEUgAAACwAAAAVBAMAAADP3xFXAAAAMFBMVEX///8AAAAAAAAAAAAAAAAA\n",
       "AAAAAAAAAAAAAAAAAAAAAAAAAAAAAAAAAAAAAAAAAAAv3aB7AAAAD3RSTlMAInZUiRDNmWbv3US7\n",
       "qzJazP2FAAAACXBIWXMAAA7EAAAOxAGVKw4bAAABFElEQVQY022QIU8DQRBG31273JVScj8A0WAK\n",
       "gqSCEIoBQXAkzRlC0hAksqKioFAoFAkK04AD0wSFguJJLqQGV4PBFEQJkm/veuauk+zM7tvZ2W8G\n",
       "CMiYY51bz+JyVW6dnK2AOc7juSbeeR77bUrMsGs2ZuETOvLh2tFuoifsYiLY1wW03XevF+OdBv43\n",
       "XHCnHwJ/Uol/XqyfUXmBBjc64E1VGq4oqZmxxcTbpMEJ4xE82SLwHJhmjPVsVWGLV2j1PyiCvViI\n",
       "eFO4lBa2P095xPza7Kj8p9DhCw6WC13Jvle6GdZ+hB+YH6WtFeLyRYlyenYsU1N59jjUOzu+QYpD\n",
       "rVuG8ktarRRb7Zu1PkmmU83Ozw34B0+VM03mG9eBAAAAAElFTkSuQmCC\n",
       "\" style=\"display:inline;vertical-align:middle;\" /></a>"
      ],
      "text/plain": [
       "(x, y)"
      ]
     },
     "metadata": {},
     "output_type": "display_data"
    }
   ],
   "source": [
    "GCD(x, y).operands"
   ]
  },
  {
   "cell_type": "markdown",
   "metadata": {},
   "source": [
    "### GCD.deduce_relatively_prime()"
   ]
  },
  {
   "cell_type": "code",
   "execution_count": 65,
   "metadata": {},
   "outputs": [
    {
     "name": "stdout",
     "output_type": "stream",
     "text": [
      "Exception! Proof step failed assuming {x | a, a | y}:\n",
      "Attempting to instantiate |- forall_{a, b in NaturalPos | gcd(a, b) = 1} [forall_{p in NaturalPos | p > 1} [not]((p | a) and (p | b))] with {a: x, b: y}:\n",
      "Unsatisfied condition: x in NaturalPos. For debugging purposes, this is accessible via Instantiation.unsatisfied_condition with applicable assumptions in Instantiation.condition_assumptions.\n"
     ]
    }
   ],
   "source": [
    "try:\n",
    "    GCD(x, y).deduce_relatively_prime()\n",
    "except Exception as e:\n",
    "    print(\"Exception! {0}\".format(e))"
   ]
  },
  {
   "cell_type": "code",
   "execution_count": 66,
   "metadata": {},
   "outputs": [
    {
     "data": {
      "text/html": [
       "<span style=\"font-size:20px;\"><a class=\"ProveItLink\" href=\"../__pv_it/demonstrations/86864e4bc25973dc96fd9982130a63d33fdaaaea0/expr.ipynb\"><img src=\"data:image/png;base64,iVBORw0KGgoAAAANSUhEUgAAAEAAAAATBAMAAADSXRa0AAAAMFBMVEX///8AAAAAAAAAAAAAAAAA\n",
       "AAAAAAAAAAAAAAAAAAAAAAAAAAAAAAAAAAAAAAAAAAAv3aB7AAAAD3RSTlMAEHarMolUmd1mIs3v\n",
       "RLtmgJDEAAAACXBIWXMAAA7EAAAOxAGVKw4bAAAA7klEQVQoz2NgwAcKGAiAB+QpYOx/t5GB9fxZ\n",
       "3CbwJVxmYJDHYwVzF+sEBh4G9nfvzr17iVVBHsMuBg4sJuh1dGwAK1ipsBqbgtuKMBMWmDAFIBQI\n",
       "KYuEJgBpro1wKxbwMbxFKChgMmJvANLcCxAKWAokJGAhybmA8yPzBJAChCMXMExjewPjsTCwg13G\n",
       "4NMBBA+gCpgFbBCO41EAU3LIJjAaSCAU3F/AKACkOJAVMDjxwXhyF2wYWEEMJgV4UDsAeX4wXr5j\n",
       "DcM1MGsbTIgb5OtqGE9cia0yAcwSfisAcfb+c0BSGkscXH0BCWoUAACz1jmMfap6cwAAAABJRU5E\n",
       "rkJggg==\n",
       "\" style=\"display:inline;vertical-align:middle;\" /></a>, <a class=\"ProveItLink\" href=\"../__pv_it/demonstrations/9097a2eb799004c684399d9badcf7c6599ef40530/expr.ipynb\"><img src=\"data:image/png;base64,iVBORw0KGgoAAAANSUhEUgAAAD8AAAAWBAMAAACF0lkSAAAAMFBMVEX///8AAAAAAAAAAAAAAAAA\n",
       "AAAAAAAAAAAAAAAAAAAAAAAAAAAAAAAAAAAAAAAAAAAv3aB7AAAAD3RSTlMAEHaZZquJVO8y3btE\n",
       "zSKD2s2pAAAACXBIWXMAAA7EAAAOxAGVKw4bAAABBUlEQVQoz2NgwAOYGQgAbjIVSP3eK8CQ8eMA\n",
       "bhO28wQwMH7AY0XUgxQGhgYG6907du92wKYgfAPvA4YFWEzQXrXqAoiOc+K7gE3BWUUoI451ghpC\n",
       "AaOyA4MoiMF3EaYyjmED9wG4Ajb2BgZ/EANoL1zBZMaFC2AhOZ15AUM0WAEDQgFLQXUDjCfAocDQ\n",
       "BGLMWAUEGyAKGAJZ4QoYzgtw/gTR0kgmMIgyLoBzbRmYwKq5kBVwKmyAc7cycAeAaCYFmMhOINZE\n",
       "KDBlOA8Jz+swERCD+QJcgWiSPcSDonsEwPTcH0DdjBeQgjAXSh/bteoCZsywXWBsx5tquBRYE/Aq\n",
       "YHeywSsPACBmPahw0BA1AAAAAElFTkSuQmCC\n",
       "\" style=\"display:inline;vertical-align:middle;\" /></a>, <a class=\"ProveItLink\" href=\"../__pv_it/theorems/a7c14b7c1229026320d513a4b7a95f7135ad09aa0/expr.ipynb\"><img src=\"data:image/png;base64,iVBORw0KGgoAAAANSUhEUgAAAHYAAAAVBAMAAABh6QfWAAAAMFBMVEX///8AAAAAAAAAAAAAAAAA\n",
       "AAAAAAAAAAAAAAAAAAAAAAAAAAAAAAAAAAAAAAAAAAAv3aB7AAAAD3RSTlMAVIl2ImbN77sQqzJE\n",
       "md23+iBgAAAACXBIWXMAAA7EAAAOxAGVKw4bAAAB4UlEQVQ4y41UTyiDYRj/+bbZ3n37WPLnZrJy\n",
       "cNK0RKldlBy0Cznu4qgUB0StOLn4aoUmWaQd7SDFweYkLpbCRTOcSLI2Shw877ctvN+reep936ff\n",
       "9/ye533+vB8gkYAIWPFfsbhFxNVRmbU3x/c68we/CVEfRCRHi4XM3GpdAKKX7+LdOKAFzVxb2pSY\n",
       "yFWytNll2UxX5FZz940y7qicW9fZB3j9CQx4k7zC57QiPWutxWpHLsBiQLuUq4SsUxh0a2HXJJb0\n",
       "Uoi0ZUvLGjYtTbC9AMNczzxzefzmenTkcQd7x0oQlxy9pdIEbO9Oo2SqOwNnGGiSxp2BWtC4cgNy\n",
       "QTJLDGilRjFMkFsgKeOqOVjG7eQZU2CfJS4M+3LbkgngWMa1FeCIbZAlyxuJGXcGzgKsOA50gS46\n",
       "mmX5kv1GsJZyO8nBGaondB5YTcWhAJztiGGRjhFZXFbAjq6FoSTm0Zzm/aV2ePavcAT2xuPGXK+l\n",
       "xv0eowJtp74M0DrUjahvd4sywyGw3ll1Qe19psBss5dbPQlUZ/xtm59jv+GaRFmrMlJWqOTWrGzY\n",
       "DnT146+5p5TRhhW3/H0AcX1ZfNgLZSVC6x6btPdLn/up71qEVssKd9rQm/rprpJYTX8YS0Bm9wV/\n",
       "e4WLkuxWmgAAAABJRU5ErkJggg==\n",
       "\" style=\"display:inline;vertical-align:middle;\" /></a> <a class=\"ProveItLink\" href=\"../__pv_it/demonstrations/f87210757a656f064f64c24da9ee47d4e87a17340/proof.ipynb\" style=\"text-decoration: none\">&nbsp;&#x22A2;&nbsp;&nbsp;</a><a class=\"ProveItLink\" href=\"../__pv_it/demonstrations/25fa39afee1e9acfc668cefdd3611bf941d8f2070/expr.ipynb\"><img src=\"data:image/png;base64,iVBORw0KGgoAAAANSUhEUgAAAQwAAAAYBAMAAAD9kt6ZAAAAMFBMVEX///8AAAAAAAAAAAAAAAAA\n",
       "AAAAAAAAAAAAAAAAAAAAAAAAAAAAAAAAAAAAAAAAAAAv3aB7AAAAD3RSTlMAq1RmmUTNIjK7EInv\n",
       "3XZ/CtNrAAAACXBIWXMAAA7EAAAOxAGVKw4bAAAD5klEQVRIx72WbYhMURjHn7l3dl7u3RlT5GU/\n",
       "3fJSQsZLpLSWfSHCxAdfZIdVWz4wSoosY79J1vVBayRdkSwfzKolCkMprWhSJNq6yxbaWpJYfPE8\n",
       "95x7z7l3De2SU/+5c16ee37nPM957gEYc8lJ/6Nc4uHv97XkAkZR+IuSNKTKay4seoa3balk0cPr\n",
       "VbZQihqmjgFjlvRfKTL5MJLpChYuBrwRaqR66+gptKxUucjlw4Ad/HktYOFhRCxPh8k55ugxwvJa\n",
       "67n8GAv59M8DFh6GWueJaHRj9BjVcqXE5ceotphz5mX8Fh4G9HpSkTEyhtCYIYdGlimAEWHLT8RM\n",
       "v4XAaBF63Nf3aAwYa2QHFZk6ajq6LcTQhmqOYkDoKR6Zra5FrP/SYA1iaANpOIdN3UKrAE6PnEX/\n",
       "E0aL9J+WTSpONHQTMcLQb69Fl7MNaoVproUe2gY3EUNXSrAMmxYJ7YZo6hcRyJ91lTCe4pg+Kjgi\n",
       "YTiKGVtB/YgYi2GZNR795IRLLAUJi1u0R1I4fQ+0h8swBZtmC8Ut4U0sbWsy6j2BMeIMnecx8MBN\n",
       "hbiG6owjDT5B8ju+LQ9NDsBH+g3lIWlzC2ucAR+sHrCqbXiCTceFFNuL0Fh/IaOkbsHqX2FcZkOG\n",
       "yhUxoOo7xEvOop44WbLEc4pWdi2aLThDIdpsxYaxullSttadqSGPVLVhKOoNaxsaAxj7VrJTUfac\n",
       "4mFwp4BehnF1hFH1lajZUEpeK1yL2wCfCaMJksQ4R9I1zHZq/YLJLPsq7ZvsYmA3nF44PEnGOOti\n",
       "YGzEbaZIHSxFF2snQyXAd6iOMY3f61psB7WXME5AnAJyiaQD2HC+OXcMupxp8remBzGcXoA9kyWM\n",
       "bvlYpZiumtEXmDeU4QulKoOdYVApLuJ5ZqF9g7Y8YSyH5jQ/9a4whmB/PxyCjQwjnDQDGE4vlgsn\n",
       "BcYxCSNWZprbMZhDDG2dPW0+5S2KkhCdkpjNLJThoRtO+jp3Zz197p9J4ns8GxYVCgVDyWvFrMgb\n",
       "ptdLZWnOw0jkJY4XTE3+LNrmP2NoEc56WfQ6ObQsxMpDmABH2W7ABlvYml4vlpm22A1VzigLmV75\n",
       "Mer9GGiRKDIMPavd5x87VyzQvkZfYgahwRlIpgIYTi/murQUG9ApzRDPkbRPPowR3+1OuGowjIQd\n",
       "IqB9khjpzgELoqfIg638KiSfFOqF9/SO6PUffK+65MuHSZrxJS1jxIO3wC5lVwvDUGob3ZV0yity\n",
       "ghquFAqZgKnp9R4J3AaikuvgIBd9192geRtMwK7FO/d6lhPi4VPpxmH+tvdfl7urf4dRsfe/ldz/\n",
       "meYnv0cYJQf3ecgAAAAASUVORK5CYII=\n",
       "\" style=\"display:inline;vertical-align:middle;\" /></a></span>"
      ],
      "text/plain": [
       "{x in NaturalPos, y in NaturalPos, gcd(x, y) = 1} |- forall_{p in NaturalPos | p > 1} [not]((p | x) and (p | y))"
      ]
     },
     "metadata": {},
     "output_type": "display_data"
    }
   ],
   "source": [
    "GCD(x, y).deduce_relatively_prime(\n",
    "    assumptions=[Equals(GCD(x,y), one), InSet(x, NaturalPos), InSet(y, NaturalPos)])"
   ]
  },
  {
   "cell_type": "code",
   "execution_count": 67,
   "metadata": {},
   "outputs": [],
   "source": [
    "%end demonstrations"
   ]
  }
 ],
 "metadata": {
  "kernelspec": {
   "display_name": "Python 3",
   "language": "python",
   "name": "python3"
  }
 },
 "nbformat": 4,
 "nbformat_minor": 0
}