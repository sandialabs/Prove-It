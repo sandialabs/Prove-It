{
 "cells": [
  {
   "cell_type": "markdown",
   "metadata": {},
   "source": [
    "Proof of <a class=\"ProveItLink\" href=\"../../../../../_theory_nbs_/theory.ipynb\">proveit</a>.<a class=\"ProveItLink\" href=\"../../../../_theory_nbs_/theory.ipynb\">numbers</a>.<a class=\"ProveItLink\" href=\"../../theory.ipynb\">logarithms</a>.<a class=\"ProveItLink\" href=\"../../theorems.ipynb#log_real_nonneg_from_geq_1\">log_real_nonneg_from_geq_1</a> theorem\n",
    "========"
   ]
  },
  {
   "cell_type": "code",
   "execution_count": 1,
   "metadata": {},
   "outputs": [],
   "source": [
    "import proveit\n",
    "theory = proveit.Theory() # the theorem's theory"
   ]
  },
  {
   "cell_type": "code",
   "execution_count": 2,
   "metadata": {},
   "outputs": [
    {
     "data": {
      "text/html": [
       "With these <a href=\"allowed_presumptions.txt\">allowed</a>/<a href=\"disallowed_presumptions.txt\">disallowed</a> theorem/theory presumptions (e.g., to avoid circular dependencies), we begin our proof of<br><strong id=\"log_real_nonneg_from_geq_1\">log_real_nonneg_from_geq_1:</strong> <a class=\"ProveItLink\" href=\"../../../__pv_it/theorems/24144b227297bfa1fc151485b5777085e1c91d660/expr.ipynb\"><img src=\"data:image/png;base64,iVBORw0KGgoAAAANSUhEUgAAAQ8AAAAbBAMAAACQMRc0AAAAMFBMVEX///8AAAAAAAAAAAAAAAAA\n",
       "AAAAAAAAAAAAAAAAAAAAAAAAAAAAAAAAAAAAAAAAAAAv3aB7AAAAD3RSTlMAq1RmmUTNIjK7EInv\n",
       "3XZ/CtNrAAAACXBIWXMAAA7EAAAOxAGVKw4bAAAEKklEQVRIx8WXWWgTQRiA/ybZZHeTbOqNihAQ\n",
       "fJFq8AKLlJTWGzUeCCLYVB88EF1F8EHFCKIPVhstHqkHK4igRUytWFQUpagFFYoKghhNERSvIuJZ\n",
       "8fhndrKZTDe2mooDM7v5dzbzzX/OAvyvJu+nF+/VZK/95fi/e61hHxnLYBG4eofDEf7LF7U6HFoh\n",
       "oHvivQJyMt8DnRttm/MYeDrBF0S19Eary7fhIL0sEVdfnfj0mL3jvCV3gj8EfgOgmAiGF8DhuQY7\n",
       "rts9GAnqkTbkCQlyxVMs9asnd+rFCIL40qAhxWQiWV4AiAu9vtpGrkYB3MR9VnUBSUJ8G9lCeYyY\n",
       "JhAEtROASgpxlkAEYK8dIGoiQKwzzgZkqhtX7RNjzgqwDKHRPN5gASC1hj2ID3uVQW4MU/AylYpa\n",
       "IAqo/akbd8BcHKejvyC4uxBffQs5IFaQjMB+hdy4TSdZ+IrTyJDjoBosoc3A8Q32u6nU7UJABpog\n",
       "JzrQ2+Y2lpVk5DOxV3f0xaVoPHhWcaaR9wleSVQ3DaA+3yLeHoAkKIj8EJQ0hkCLlJGj2dVPxlkd\n",
       "nNQgbj0LcvPpE0OwL7rLOvAU540I4WrXqimIPwnyl6I2GGbJ72HOpbHpuEZBOGdtKkU2OYHtIJNt\n",
       "RY9XDG/EKkQr2U3JhfI1HIAilip1giV5QEFq0d+/5YDcwNejEEDAd+RnTQpbnJmmfqywm7OI4Ehz\n",
       "vjqUrNWeiGheaE7agbBSteetoJHR+E9fpU64z4OgmqqCIFGNnOLDd7simGYrieQol+lbsVeiUNOg\n",
       "NO2tnFU5WQQxSxWUCCBEIx/U8sYQbxpMI3MMcLSRn34exLVTyFy1xIPOEX9uKGsmyvjRbtCUjCCv\n",
       "wqJG1KbXulmqeJDBFMQXBumjI8L9N84KxNQWnE8X1dIciBp/1jVqYDP6qvpQ/kxmP9LCVIea13Ms\n",
       "JIKc0Sk4lioe5I0ZNa3gTkorNhoWbyNAUUgJmzUA29IsSBjGKpEckElkKEJTuMIysaQSckbnUxDX\n",
       "4XgXZ62EGlaqeBDczLY7g2DD5QEAa39+T2d4d+PMoRXEKOaax/cbmer7VVcOvM8BKbfycYQUQPDF\n",
       "XMUTMKqCmuadx+URhblfOytVPIgvuzclqK5/kuH1x5h0C7suPmqmeLu2zAofXSlF4ACeUnZRjWjS\n",
       "Ys6xKYj6GepOs1LFgbiyZ85F2CcyXnBmDm4V3SdFUn3ZtvTa+UYDHlAmAo0sDN9LYQEEbskfS1mp\n",
       "4kCoTc12BhmXmrzYWLLqSWl3WilVqhjVBDVBeXYaPIdIhXqePDFFBFkw5nWIlapNa69aD/tmN3a5\n",
       "43yM8nKZQ9G7B/ELc8zTQEMiERGPEH9yZiW8VBVmwL7oQb0SzqySkW/ib0EcBX+YiNZzQvcgOaWq\n",
       "sO8arrYaPUb+9x9+vwD5/BLPIpXO7QAAAABJRU5ErkJggg==\n",
       "\" style=\"display:inline;vertical-align:middle;\" /></a><br>(see <a class=\"ProveItLink\" href=\"../../../__pv_it/theorems/96b37bc84dd41ec307e68cfcd672c2e614cfaf130/dependencies.ipynb\">dependencies</a>)<br>"
      ],
      "text/plain": [
       "<IPython.core.display.HTML object>"
      ]
     },
     "metadata": {},
     "output_type": "display_data"
    }
   ],
   "source": [
    "%proving log_real_nonneg_from_geq_1"
   ]
  },
  {
   "cell_type": "code",
   "execution_count": null,
   "metadata": {},
   "outputs": [],
   "source": []
  }
 ],
 "metadata": {
  "kernelspec": {
   "display_name": "Python 3",
   "language": "python",
   "name": "python3"
  }
 },
 "nbformat": 4,
 "nbformat_minor": 0
}