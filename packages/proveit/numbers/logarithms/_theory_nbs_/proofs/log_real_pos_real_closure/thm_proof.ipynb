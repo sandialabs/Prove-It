{
 "cells": [
  {
   "cell_type": "markdown",
   "metadata": {},
   "source": [
    "Proof of <a class=\"ProveItLink\" href=\"../../../../../_theory_nbs_/theory.ipynb\">proveit</a>.<a class=\"ProveItLink\" href=\"../../../../_theory_nbs_/theory.ipynb\">numbers</a>.<a class=\"ProveItLink\" href=\"../../theory.ipynb\">logarithms</a>.<a class=\"ProveItLink\" href=\"../../theorems.ipynb#log_real_pos_real_closure\">log_real_pos_real_closure</a> theorem\n",
    "========"
   ]
  },
  {
   "cell_type": "code",
   "execution_count": 1,
   "metadata": {},
   "outputs": [],
   "source": [
    "import proveit\n",
    "theory = proveit.Theory() # the theorem's theory"
   ]
  },
  {
   "cell_type": "code",
   "execution_count": 2,
   "metadata": {},
   "outputs": [
    {
     "data": {
      "text/html": [
       "With these <a href=\"allowed_presumptions.txt\">allowed</a>/<a href=\"disallowed_presumptions.txt\">disallowed</a> theorem/theory presumptions (e.g., to avoid circular dependencies), we begin our proof of<br><strong id=\"log_real_pos_real_closure\">log_real_pos_real_closure:</strong> <a class=\"ProveItLink\" href=\"../../../__pv_it/theorems/ee07d0e5e9de751db3b56e59662db10db8f53f7a0/expr.ipynb\"><img src=\"data:image/png;base64,iVBORw0KGgoAAAANSUhEUgAAAPYAAAAYCAMAAAD+gvAIAAAAOVBMVEX///8AAAAAAAAAAAAAAAAA\n",
       "AAAAAAAAAAAAAAAAAAAAAAAAAAAAAAAAAAAAAAAAAAAAAAAAAAAAAAACXHtMAAAAEnRSTlMAq1Rm\n",
       "mUTNIjK7EInv3Xbt5cmRiLwgAAAACXBIWXMAAA7EAAAOxAGVKw4bAAADiElEQVRYw91Yi3bbIAzl\n",
       "DZKAbf7/jx0PY+MY7LpdT7bRk7SNr4ArXUkQxv6CYb+At9+92LeNKL6A1/EGLY0HWEzwIDsDvj0X\n",
       "8j2sBTHmjOdP8AzBh9UJt9sGZtPkmkvAzUDp9tS8J/xo6ur8GZ4Z1faN97Sp/HJ8M3BtOQvvCbaq\n",
       "0QL+DM+WJnWpPkZbWWZ2g+YsEu+h7dkz2iteL1uQ/THcEUIaZkQbdgO5es+8KbPNFW07xVPYPjJ9\n",
       "dmsTcRxtjsg7A5+dEzy9SePU00YVY602mhOXUYQZ3vAYeRUodR6zg0yvtB2IVr2KgXLlGT7e8R9x\n",
       "VAtVoe1C3hikFuOyhr1keoLHJfHDxdYW1T22w9z2Jixhk0ExyNW9vj0N1M3/xwI8+TyIjnYonnSL\n",
       "YzyHmYcpXpTU9qUHC9/RnpQ0KXF/VA1yoEmf4c68FHcRyChu4oTmVSuo86M8bcvrnbZbq/NCc9or\n",
       "XpkVWNy0b7lmbBrwInJAuZWAaiDipKDxJmMXOUBaL2Zhk6XHtKuYXIzhirZY6j8L1EId5JR20YWu\n",
       "btJ7tBFmDcypPY9XA8Pk8Ijn3cpPrX/E9MMkpjdSSoX00h+jzW3Ty5XIt2irVNtySZsnRUGq2sT6\n",
       "ScO0byu3nUxWAxKt/iHJSHbTQiqW2B//Cu2I6j7ah4mYJjajDbHLba9qS9ZM6NnZo+JT+jP0dWOy\n",
       "WzjGGe0khEZkNbDtQIypkrql7TYGZFH1wskit9CsL2hvEynI40d6yTHt1n1qJS/6MpTbr7N2FIsV\n",
       "n5UA6tjTqnLFiHZGptwGfTDgm5rz0htcllqvZUdbAQG7L2nHiXa5nGm78onj3udEsIqIl72ZJY0Q\n",
       "T7GoeIac2imVhV4ZyEHj+QYGyR7A1CwK+lwvIu9TW/FkVyIGooqctJj0bZhM1MnlTJsFN9RyWgSt\n",
       "yLyPLjzj7cucmuB4OGU3BqX9g8TVW7nMe8EcsT63tSacHfnPE2WR//wFc5GPbxIa9iw8xuKMV08v\n",
       "zCcDn+WkZTr/ZKoptUvy7we42sBQ3dHeJ2LdHW9Mm8HgYIVrTFOmvsTihH98czwbaCVFJJlFlUTm\n",
       "VK2LFtx2zE/lBpUyd7S3iQ5es2QWOpXaYa9FohipNM7ehQM8PP2a4NJAHPaQVarvv8UYThRv3X+N\n",
       "6F14xsenrC8N9PObyYT2my60nxuf+V5tSFto9p8P++9s9Tde2x7Yft/rvQAAAABJRU5ErkJggg==\n",
       "\" style=\"display:inline;vertical-align:middle;\" /></a><br>(see <a class=\"ProveItLink\" href=\"../../../__pv_it/theorems/8d6f520d2decd28cb844bec9ca0239a91816f52c0/dependencies.ipynb\">dependencies</a>)<br>"
      ],
      "text/plain": [
       "<IPython.core.display.HTML object>"
      ]
     },
     "metadata": {},
     "output_type": "display_data"
    },
    {
     "name": "stdout",
     "output_type": "stream",
     "text": [
      "log_real_pos_real_closure may now be readily provable (assuming required theorems are usable).  Simply execute \"%qed\".\n"
     ]
    }
   ],
   "source": [
    "%proving log_real_pos_real_closure"
   ]
  },
  {
   "cell_type": "code",
   "execution_count": null,
   "metadata": {},
   "outputs": [],
   "source": []
  }
 ],
 "metadata": {
  "kernelspec": {
   "display_name": "Python 3",
   "language": "python",
   "name": "python3"
  }
 },
 "nbformat": 4,
 "nbformat_minor": 0
}