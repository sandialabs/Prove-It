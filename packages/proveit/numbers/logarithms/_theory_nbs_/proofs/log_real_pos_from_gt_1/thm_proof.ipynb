{
 "cells": [
  {
   "cell_type": "markdown",
   "metadata": {},
   "source": [
    "Proof of <a class=\"ProveItLink\" href=\"../../../../../_theory_nbs_/theory.ipynb\">proveit</a>.<a class=\"ProveItLink\" href=\"../../../../_theory_nbs_/theory.ipynb\">numbers</a>.<a class=\"ProveItLink\" href=\"../../theory.ipynb\">logarithms</a>.<a class=\"ProveItLink\" href=\"../../theorems.ipynb#log_real_pos_from_gt_1\">log_real_pos_from_gt_1</a> theorem\n",
    "========"
   ]
  },
  {
   "cell_type": "code",
   "execution_count": 1,
   "metadata": {},
   "outputs": [],
   "source": [
    "import proveit\n",
    "theory = proveit.Theory() # the theorem's theory"
   ]
  },
  {
   "cell_type": "code",
   "execution_count": 2,
   "metadata": {},
   "outputs": [
    {
     "data": {
      "text/html": [
       "With these <a href=\"allowed_presumptions.txt\">allowed</a>/<a href=\"disallowed_presumptions.txt\">disallowed</a> theorem/theory presumptions (e.g., to avoid circular dependencies), we begin our proof of<br><strong id=\"log_real_pos_from_gt_1\">log_real_pos_from_gt_1:</strong> <a class=\"ProveItLink\" href=\"../../../__pv_it/theorems/7ce9fd430ead55e75f632dd573a314b046a350200/expr.ipynb\"><img src=\"data:image/png;base64,iVBORw0KGgoAAAANSUhEUgAAAQcAAAAaBAMAAABIuoRlAAAAMFBMVEX///8AAAAAAAAAAAAAAAAA\n",
       "AAAAAAAAAAAAAAAAAAAAAAAAAAAAAAAAAAAAAAAAAAAv3aB7AAAAD3RSTlMAq1RmmUTNIjK7EInv\n",
       "3XZ/CtNrAAAACXBIWXMAAA7EAAAOxAGVKw4bAAAEAklEQVRIx7WXaWgTQRTHX5Ns9ki6rRUVFSEg\n",
       "+EWqwQssUra0XogaDwQRbGo/eCB2FcEPKqYg+sFqY+u1VcsKImgRUysKiqIUL1QoKghiNEVQtLaI\n",
       "eFY83sxek23SSlMHJjt5u5n9zXv/92YCkHubPtgfKth9MCTNowz2l3HsfHxIIM5ku6Eyn1khoHRI\n",
       "IBqz2OUQvax2mb0bta8vGh2IfB2gkAzG58DA34Q9tzLdmAjSiQ5kCbvsIl/IDW+yIWQkmE0Ga3OA\n",
       "8CUAqjLYpSiAn8hlQx+IBMRrwadp9zX0iNQLUJurOAoiAAczwaEHCkhEpmWAmOu3PQHVCIshCYRy\n",
       "gKjXM0MEsVfqZKAbhnfJZNSGEB2I+agTBPbnostuSIOwk2EC9utk4DdEseI944kxpxyID9gfJZMP\n",
       "coEYaUCc7kF1LWktLbbsC7BX9RShn6n2+Q1MOISGtQ4Ecdc8gKZsLwj8A4RGIYRnIKaEXmjnLDuG\n",
       "WvqqX1DBS4PgVx2IO69e6lbFxHjGADYDX5hV+a5rplZFIfITIHzP64Bxtv0x1tJeCKbAc5NCMMJs\n",
       "K4kyE+xCZYt6IGJ9F9abg+LLZZuYl4t98m+GPXxKIepR2z/TIG7jz6NQgHAfyde6JLa4GY6mqcxc\n",
       "F/D1nhSjy7GEpFOLyAG4ksgEIRlSP9Dt8sRknOkH1wtPWAh0T2UIOOqJs2yK7hZ1xhMYDogy1fse\n",
       "9go0yjKUpAIVCytmuyD4Q0Zsi10QxBOfpbLWMBsOLBOLdfB00OrMQvj2MpWpnsx4kei2pfQKccLv\n",
       "Tp2WWYR4r7g9IbV1qSAMU9MhRlOIoALcF0+E8XIzQsSkdiwCRnVOMRBS/LXzIC0mO1CX0jPhG3ny\n",
       "uaxQv8kBvjnshjivEmi+LJYG8cHIjnvgT3DrtukmK0ArQF5YVIy6jm2NA6HAVNHhnUU+8nBSnyKQ\n",
       "yIlhb3QZhfAdj/cRZgXUUYfMj7AQuJDah6Ng67URADV/fqVMVtiPT44tJ4Ew3nfqsG7toj9U8cgn\n",
       "e4Iyu8ZGyGYGwZivcIamaSFZDixl6oRoSq3TmOYuCxF01iSGpC0vLdb8mGndaV5XnUxGM+V4tZ0m\n",
       "qliCoAUQDO2jnpC5VYyAKYT0DRrPkZNUc1o4TG+TthL7TIvVax24yvsvdmQXNZej1i/TW/CAMRNo\n",
       "9mCKXlVcEHBX+FKCk1enC5PG0WjncfFrLFY4aubTAFu01y6VXPmkNqgLCYtSwB8ju82bxOk5bojl\n",
       "U7rCIDeQ4faaG/bNImdR13ouxUxWuzKIav8Q+a77xo7eomkR9xHAWXfDgGdMykpcYCTl2wH2HtcZ\n",
       "k9OzPSj2e9pO5LIJu6PlhUFBDP5/B9W1/s+48F/bX9KOAAvo4ZIYAAAAAElFTkSuQmCC\n",
       "\" style=\"display:inline;vertical-align:middle;\" /></a><br>(see <a class=\"ProveItLink\" href=\"../../../__pv_it/theorems/dfe4657c8d86242e4ff7ed333519431a22c3f84e0/dependencies.ipynb\">dependencies</a>)<br>"
      ],
      "text/plain": [
       "<IPython.core.display.HTML object>"
      ]
     },
     "metadata": {},
     "output_type": "display_data"
    }
   ],
   "source": [
    "%proving log_real_pos_from_gt_1"
   ]
  },
  {
   "cell_type": "code",
   "execution_count": null,
   "metadata": {},
   "outputs": [],
   "source": []
  }
 ],
 "metadata": {
  "kernelspec": {
   "display_name": "Python 3",
   "language": "python",
   "name": "python3"
  }
 },
 "nbformat": 4,
 "nbformat_minor": 0
}