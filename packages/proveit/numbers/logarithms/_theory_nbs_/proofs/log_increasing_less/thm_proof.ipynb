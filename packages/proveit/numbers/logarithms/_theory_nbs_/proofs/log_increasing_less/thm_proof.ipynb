{
 "cells": [
  {
   "cell_type": "markdown",
   "metadata": {},
   "source": [
    "Proof of <a class=\"ProveItLink\" href=\"../../../../../_theory_nbs_/theory.ipynb\">proveit</a>.<a class=\"ProveItLink\" href=\"../../../../_theory_nbs_/theory.ipynb\">numbers</a>.<a class=\"ProveItLink\" href=\"../../theory.ipynb\">logarithms</a>.<a class=\"ProveItLink\" href=\"../../theorems.ipynb#log_increasing_less\">log_increasing_less</a> theorem\n",
    "========"
   ]
  },
  {
   "cell_type": "code",
   "execution_count": 1,
   "metadata": {},
   "outputs": [],
   "source": [
    "import proveit\n",
    "theory = proveit.Theory() # the theorem's theory"
   ]
  },
  {
   "cell_type": "code",
   "execution_count": 2,
   "metadata": {},
   "outputs": [
    {
     "data": {
      "text/html": [
       "With these <a href=\"allowed_presumptions.txt\">allowed</a>/<a href=\"disallowed_presumptions.txt\">disallowed</a> theorem/theory presumptions (e.g., to avoid circular dependencies), we begin our proof of<br><strong id=\"log_increasing_less\">log_increasing_less:</strong> <a class=\"ProveItLink\" href=\"../../../__pv_it/theorems/589f57a6a66eb07fe01bf4632e1b7ba13d14a7c50/expr.ipynb\"><img src=\"data:image/png;base64,iVBORw0KGgoAAAANSUhEUgAAAWMAAAAYBAMAAADdfoFkAAAAMFBMVEX///8AAAAAAAAAAAAAAAAA\n",
       "AAAAAAAAAAAAAAAAAAAAAAAAAAAAAAAAAAAAAAAAAAAv3aB7AAAAD3RSTlMAq1RmmUTNIjK7EInv\n",
       "3XZ/CtNrAAAACXBIWXMAAA7EAAAOxAGVKw4bAAAE90lEQVRYw81XbWhbVRh+8nGTm5s0jRQZrm4E\n",
       "Nv2hVsMYk/VHbWn3IaMlWinUgY3bj4mKu0pBmHOkf/THOpN16oxCuUhxuLiabtLBBiXzgw38oDhl\n",
       "wli5HdXhqqWopbMi9T3nfuTcm8QWIbgDb869733OOc/7nvd9zwlQwxZcQa+uch611Kmobbu+gv6p\n",
       "1U0TjZfgTGLsZUNNGHsL8vOxinqLS8L15bULlea5X4Az2cZe9tWE8gdAIFZZb7Zn3Z+ergBXUiKc\n",
       "ZIDFVrYmlNuBUKyy3myb3Z+OVoD7EyKcJKAB4XhNKBerUC7aTxGtFC37qlGOOOAkPrIhUJtQTjko\n",
       "B0W92QK2A33faS7Kdm241wFn8vW1a1/WhLK/wCkrXTNJSI0N1ycFvTK39vBp2l7LouhVzQqMkTlK\n",
       "r8fGWpqseXaRjLZDiXE4k53AuyutHv4vlJk/iPIRFcPIaJFEUtD7Ma13km9Nh+en7FiWryCky0v4\n",
       "TLLm2UtSeAC+eQ5n8iKCsRUd5upX1erinPJVIJNeB8+kqH8Yj2gNFCNGWPdfLqVfXQHyLQKvs+f5\n",
       "FpDjnfBkOZxJSAsnqy7bNN72gkA1tDJRZYudLElGWf4NqC+IlJk+je3sUZ5nv549QsXIkEF/OSh/\n",
       "QZPiG0R0Dmfi1atknzydS0bDOFuoSllzcDXe3vjVSdm7QJSzfVpdQtSDOFCTimWUH6Kvf0pLuCxS\n",
       "BikyaQ7nQ1ItlSl3pCktomjWwx2dHdsqUO5f67g4vGnkeJMzMLiXW0caGxwBA2kRJ8ldk2WBwbz8\n",
       "h9I2lhADA/4UfjHgfMhpdqjkW86yz3M7ZmhhaRoe4zQlyjdb3V6OzhzaQd3AGjryY/zEV87MqpDv\n",
       "UB2UQzqP5c+BvuQ9gm2kV97yFEG758uWpV+kFdKCVwzVYfB5jhpwPuQgLapckRcZGfWuAFk5Wq8N\n",
       "4kPOLhwcTrgp3/BkaSt7ibaiL8lso06pGaIbbEuLlFk5oqUG03gOPa8fMA3jeu+tkaIUN+odb6NT\n",
       "VpGTLyFQkJ55WbPxY8zLMel3A86HeGghfytf2odhmboDTfgZ3Zyy/71sWfolQnoavedYMLw/GWXf\n",
       "OzDIw/nRpEBZnoR89wU1uGssicDy8pRpGNMrXfrGTSxGbG/6eGEe+GoN+s/fCexf/lu38EfYzI0z\n",
       "iwbcHhJJRo1Kt8h/G7EeW3K5XDwaDT8u1GUzluspCj7lT56CR+cZMm0sfFGgjB9KmzuEE026aZig\n",
       "f7WE8IlXs1BceWnKckRdmu9ZyoDbQz5WQ83MTLnIz9XvcQmHuZej0m6hLpiUB+k0zQ/x6ZIRmlBZ\n",
       "xLGT7CgeFgNDuPRIPAgtwzZXuCA5Wy/JVssRPkqmcXwUN+D2kIia6dbyOBhO+ZEnP0jzVK95LONc\n",
       "q4tysDgO0kWPcQ/0QSngorzQTHPvdaQfQvY1QSHHBu4zDSvpq94gT5Ef9liOwHFgijaew0tDpPYH\n",
       "z2Aw7v9x4iZ12Lg1heA7pO/5qTCy3e3lrt1zzBwfcfa2v81i5IlNswlEud9f2T9hEy0xyk/M7jQN\n",
       "E/Shan+LlPNzn6RtPBWCDTNJA+4eYt5B44oaojKRz+Xcx6KzLnuP4wQYbyPbhspWPuR85YaJ+hv/\n",
       "fpBa+KBegruGSJrZefSeypOUHdjrJcqKJ/G/NZ/VSS2FVVLunmVFD7dxC94OJP4B8gRV/i8VxP4A\n",
       "AAAASUVORK5CYII=\n",
       "\" style=\"display:inline;vertical-align:middle;\" /></a><br>(see <a class=\"ProveItLink\" href=\"../../../__pv_it/theorems/d4326ec35d997caafcd85ce86b67ab1b9487368c0/dependencies.ipynb\">dependencies</a>)<br>"
      ],
      "text/plain": [
       "<IPython.core.display.HTML object>"
      ]
     },
     "metadata": {},
     "output_type": "display_data"
    }
   ],
   "source": [
    "%proving log_increasing_less"
   ]
  },
  {
   "cell_type": "code",
   "execution_count": null,
   "metadata": {},
   "outputs": [],
   "source": []
  }
 ],
 "metadata": {
  "kernelspec": {
   "display_name": "Python 3",
   "language": "python",
   "name": "python3"
  }
 },
 "nbformat": 4,
 "nbformat_minor": 0
}