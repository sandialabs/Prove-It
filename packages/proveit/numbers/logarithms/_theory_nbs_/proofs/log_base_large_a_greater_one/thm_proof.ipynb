{
 "cells": [
  {
   "cell_type": "markdown",
   "metadata": {},
   "source": [
    "Proof of <a class=\"ProveItLink\" href=\"../../../../../_theory_nbs_/theory.ipynb\">proveit</a>.<a class=\"ProveItLink\" href=\"../../../../_theory_nbs_/theory.ipynb\">numbers</a>.<a class=\"ProveItLink\" href=\"../../theory.ipynb\">logarithms</a>.<a class=\"ProveItLink\" href=\"../../theorems.ipynb#log_base_large_a_greater_one\">log_base_large_a_greater_one</a> theorem\n",
    "========"
   ]
  },
  {
   "cell_type": "code",
   "execution_count": 1,
   "metadata": {},
   "outputs": [],
   "source": [
    "import proveit\n",
    "theory = proveit.Theory() # the theorem's theory"
   ]
  },
  {
   "cell_type": "code",
   "execution_count": 2,
   "metadata": {},
   "outputs": [
    {
     "data": {
      "text/html": [
       "With these <a href=\"allowed_presumptions.txt\">allowed</a>/<a href=\"disallowed_presumptions.txt\">disallowed</a> theorem/theory presumptions (e.g., to avoid circular dependencies), we begin our proof of<br><strong id=\"log_base_large_a_greater_one\">log_base_large_a_greater_one:</strong> <a class=\"ProveItLink\" href=\"../../../__pv_it/theorems/1d0f363079d69d5571d3f713042a549971d413cc0/expr.ipynb\"><img src=\"data:image/png;base64,iVBORw0KGgoAAAANSUhEUgAAAQcAAAAYBAMAAAAFciVuAAAAMFBMVEX///8AAAAAAAAAAAAAAAAA\n",
       "AAAAAAAAAAAAAAAAAAAAAAAAAAAAAAAAAAAAAAAAAAAv3aB7AAAAD3RSTlMAq1RmmUTNIjK7EInv\n",
       "3XZ/CtNrAAAACXBIWXMAAA7EAAAOxAGVKw4bAAADt0lEQVRIx82WbUgUQRiAX73bu73b8zT8EaTF\n",
       "QRT0YS0hgkJy4vlBkhwZ/ilSMIgsavvZJ9evfmTdUUKdgqwghZl4ZiQJSUGSFIYEUSjGaVGUCCGY\n",
       "YZC9M7O3O7fuRcUVDczuuzPzzj7zfswMQBqLkqLdyT1/WekPi9eXomOGPoW4ZecBrDlEWJ8WiC0g\n",
       "Hs2xaM+MQfcYvt+u6BEnEF0GqCAfh9LB4G4EcFhB3MB6EKtDNXV0Vi7hsxngPPFWJB0QdlySywqi\n",
       "HOs8Vpt/hQMJRCHDk3zpgPBACoiHGA/kb/CU2kU2QXhUsGGbIy0hsTEZQk+GTHSTNE6kJuq1B/Fk\n",
       "CAcSjE1NPUsLRA2DcNe+C4KQlzsznnBTDH+0bhqt3c8a5oaSICQErwZoSzWv9DsQTQzikgIdEFY9\n",
       "clBrJyvta3YvAhRpLTt38RA2tNQJcOakjDXT+6flBYOYBAiH1kJGwhCQhTbYrsJzgK2656o4iEyM\n",
       "GZcqBfW8PawJBffKjnE/d7EcLLL4ta4CIxRCxDzIjvEQHpy+EuAbwula9WsMCPEzgsS5uMwjjdPR\n",
       "oFeCwZgZ4vKctiFwewNT4SAyFxAi0qBmyTzEJAgIt9+AaDMgBLQENJYak45iDYSw1wslcSmwO1DB\n",
       "QUABC/syfdMh4miyO6gl/F15ucC7Yx7sSwl94o7VvDuIze7glgU9pYPECN+nVbKNEohPfrMl2CTi\n",
       "KkUfjiJRYb0dLCYeAzQEN3AOc2FKfoXbOG1xIjCrkgKTbJVnMC7dr8RF0jjh9XfTXsnZIVtCCK1K\n",
       "YjgViQrr7WcQLSE4AvUXTuGogVlFS8FcaNWSOClFpUUthSEDzW/3i8QzLtnWWEch7O0RsIIQ2sm6\n",
       "6XAmEhXWewlNk/9Icdb0B8GxvPwGepUwgRDR3J13iX1f0jCa0zerjPwv6LWsoB48XpKnnpA9pyga\n",
       "jfq8XmkPt08YEC0+fbgmoorm+5DhgitwsyAegBb68ToRQTRhemVTfp1NCH2KqwTXlQ0e30VqCa+w\n",
       "jzvzDAj3fV9iOBOJCuvlzichQlw9AtP0q5A74VKcb8wSSrhO7YEstRj3DRoTMOS3ggD4KGvDmUhU\n",
       "tHLNyFxcvGPzIly9RbW1y9NJ62uXfoQL5dsG0L5ibRyc10kev491VZohTh8fJq9imQ1nIlHRSreh\n",
       "0DM8Ww1PxIUSihQxQ/LFZbrfMbv2RKNB88Ckr02KlYhrMt3f9u6YZQ44x/LR+jb5IflTUFMdCy74\n",
       "Z8UG/wFE6uL8u9P/AMUH54oDDzjnAAAAAElFTkSuQmCC\n",
       "\" style=\"display:inline;vertical-align:middle;\" /></a><br>(see <a class=\"ProveItLink\" href=\"../../../__pv_it/theorems/6ac3bd6bee68e0aa4d8dc9b5cf881f35a19436be0/dependencies.ipynb\">dependencies</a>)<br>"
      ],
      "text/plain": [
       "<IPython.core.display.HTML object>"
      ]
     },
     "metadata": {},
     "output_type": "display_data"
    }
   ],
   "source": [
    "%proving log_base_large_a_greater_one"
   ]
  },
  {
   "cell_type": "code",
   "execution_count": null,
   "metadata": {},
   "outputs": [],
   "source": []
  }
 ],
 "metadata": {
  "kernelspec": {
   "display_name": "Python 3",
   "language": "python",
   "name": "python3"
  }
 },
 "nbformat": 4,
 "nbformat_minor": 0
}