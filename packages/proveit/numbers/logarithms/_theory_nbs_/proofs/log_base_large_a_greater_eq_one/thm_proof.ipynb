{
 "cells": [
  {
   "cell_type": "markdown",
   "metadata": {},
   "source": [
    "Proof of <a class=\"ProveItLink\" href=\"../../../../../_theory_nbs_/theory.ipynb\">proveit</a>.<a class=\"ProveItLink\" href=\"../../../../_theory_nbs_/theory.ipynb\">numbers</a>.<a class=\"ProveItLink\" href=\"../../theory.ipynb\">logarithms</a>.<a class=\"ProveItLink\" href=\"../../theorems.ipynb#log_base_large_a_greater_eq_one\">log_base_large_a_greater_eq_one</a> theorem\n",
    "========"
   ]
  },
  {
   "cell_type": "code",
   "execution_count": 1,
   "metadata": {},
   "outputs": [],
   "source": [
    "import proveit\n",
    "theory = proveit.Theory() # the theorem's theory"
   ]
  },
  {
   "cell_type": "code",
   "execution_count": 2,
   "metadata": {},
   "outputs": [
    {
     "data": {
      "text/html": [
       "With these <a href=\"allowed_presumptions.txt\">allowed</a>/<a href=\"disallowed_presumptions.txt\">disallowed</a> theorem/theory presumptions (e.g., to avoid circular dependencies), we begin our proof of<br><strong id=\"log_base_large_a_greater_eq_one\">log_base_large_a_greater_eq_one:</strong> <a class=\"ProveItLink\" href=\"../../../__pv_it/theorems/da0aedb7ef5c4ee502cdef5336082c0d79fa98b60/expr.ipynb\"><img src=\"data:image/png;base64,iVBORw0KGgoAAAANSUhEUgAAAQcAAAAYBAMAAAAFciVuAAAAMFBMVEX///8AAAAAAAAAAAAAAAAA\n",
       "AAAAAAAAAAAAAAAAAAAAAAAAAAAAAAAAAAAAAAAAAAAv3aB7AAAAD3RSTlMAq1RmmUTNIjK7EInv\n",
       "3XZ/CtNrAAAACXBIWXMAAA7EAAAOxAGVKw4bAAADwklEQVRIx72Wa0gUURSAj7s7u7M766gYBGmx\n",
       "EAU9rCVCUChWfCRJsmT4pyjBILKo6WdPtl8RaS4l1CrICFKYiWtGkpAUJEVRSBCJYqwWRYkQQhkF\n",
       "1bmPnbmOs5GxdeHOzL33nDvfnNcdgDQ2LcW8R7j+sdJfNjWQYmGKXqWE7eJe7NnkYWVaINaBfDjb\n",
       "Zt4Rh65neH+zYEUeQ/QgQDkZHEgHg68OwG0HcQ37fuxunY6CxkJHxTe8NgCcJd6KpgPChbt77SBK\n",
       "sc9id4Yo6z3TLSqB2MzwlEA6IPyQAuI+xgN5Gzxh45nBeRB+HZzI705LSKyeD2EkgwPdpIyQp3o+\n",
       "s2VQhHAjwbOJiadpgahiEL7qt2GQ8nKnRpJuiuOLVkyitfsM3m0ChILglQCtqfZVFgNRzyCaNGiH\n",
       "Zt0fDPN58qW9Db45gEJDtnaZCeFESx0DT3bKWLPcf9teMIhxgObIcshIGgIy0QYbdXgOsN6EaDUh\n",
       "HBgzXl0JG3l7kD8U3Ck5Irzcy3KwcMGL12iGCgxTCBnzICsuQvhx+wqA7whnuGOp4A75E4IkhLjM\n",
       "I5OTsbCqwEDcCnFxhhcEkyHBVAQIx2eEiO7TM4MixDhICLcnGZjbxcCU0BJQt9WEeIy9LIKrKhQn\n",
       "lLIdZeUCBBSwsC/RuXRRkKsI7qCWCHXm5YLojllwfUvqW1PUQWx2C0sWdG8dIEb4MamTMkogPoas\n",
       "lmCbyDkaF/8Q4CpstZ3FxEOAfeFVgsu8aK6vcBO3LbItVk5SKk9hXPpeyXNkckwNddFVxdMetIWQ\n",
       "WjQu3khLHFFhq30MojECh6D23AmU6p/WeArmQgtPYrFsgzLHUxgy0PyukEw84w0662ro1q62KNhB\n",
       "SG3ku6m4gz4SFbbahGbJf6B5qvrC4P758zX0aM0EQkZzd9wmr35pCeuM/C/otcywETwqyVN/xJVd\n",
       "GIvFAqqq7BTqhAnBPp+JUyCiwn0fMbe/BNcLEmXQSAejyRo6Ypvap5MPvZq3GHfMAn/gArWEKu3W\n",
       "BbcaEL67AVNcXqJRFbbqDBnyUpS4ehgm6WizcMKlON+YJbTmGr0bMvUirBs0JmAwZAeB4Rjk4uTb\n",
       "cnSiwtsV81THj3evnYPLN6g2/3k6Tq89E6SNmmeMcYRLpRv60dRydQI8V0lFexfvrLBCnDw6xBOT\n",
       "irNTiqjw1mUqdA9NV8Ij+XMxRYpaIcXmtfzfMbt2x2Jhq6ClTKb4lbT8v+3aNM0ccIblo73a+/lD\n",
       "SU91LHjhvzUnLAriPKZRTPt/eJ5/u/0ve9TxE1WqQa8AAAAASUVORK5CYII=\n",
       "\" style=\"display:inline;vertical-align:middle;\" /></a><br>(see <a class=\"ProveItLink\" href=\"../../../__pv_it/theorems/b75061545a602a6887cbbbb02aa9d9747da808840/dependencies.ipynb\">dependencies</a>)<br>"
      ],
      "text/plain": [
       "<IPython.core.display.HTML object>"
      ]
     },
     "metadata": {},
     "output_type": "display_data"
    }
   ],
   "source": [
    "%proving log_base_large_a_greater_eq_one"
   ]
  },
  {
   "cell_type": "code",
   "execution_count": null,
   "metadata": {},
   "outputs": [],
   "source": []
  }
 ],
 "metadata": {
  "kernelspec": {
   "display_name": "Python 3",
   "language": "python",
   "name": "python3"
  }
 },
 "nbformat": 4,
 "nbformat_minor": 0
}