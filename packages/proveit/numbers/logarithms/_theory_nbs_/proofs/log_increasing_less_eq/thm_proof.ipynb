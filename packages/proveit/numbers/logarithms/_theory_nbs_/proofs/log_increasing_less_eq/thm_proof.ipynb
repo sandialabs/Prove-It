{
 "cells": [
  {
   "cell_type": "markdown",
   "metadata": {},
   "source": [
    "Proof of <a class=\"ProveItLink\" href=\"../../../../../_theory_nbs_/theory.ipynb\">proveit</a>.<a class=\"ProveItLink\" href=\"../../../../_theory_nbs_/theory.ipynb\">numbers</a>.<a class=\"ProveItLink\" href=\"../../theory.ipynb\">logarithms</a>.<a class=\"ProveItLink\" href=\"../../theorems.ipynb#log_increasing_less_eq\">log_increasing_less_eq</a> theorem\n",
    "========"
   ]
  },
  {
   "cell_type": "code",
   "execution_count": 1,
   "metadata": {},
   "outputs": [],
   "source": [
    "import proveit\n",
    "theory = proveit.Theory() # the theorem's theory"
   ]
  },
  {
   "cell_type": "code",
   "execution_count": 2,
   "metadata": {},
   "outputs": [
    {
     "data": {
      "text/html": [
       "With these <a href=\"allowed_presumptions.txt\">allowed</a>/<a href=\"disallowed_presumptions.txt\">disallowed</a> theorem/theory presumptions (e.g., to avoid circular dependencies), we begin our proof of<br><strong id=\"log_increasing_less_eq\">log_increasing_less_eq:</strong> <a class=\"ProveItLink\" href=\"../../../__pv_it/theorems/4b55337a8ac3a1ef62b9edd78eb5b8f95a10208a0/expr.ipynb\"><img src=\"data:image/png;base64,iVBORw0KGgoAAAANSUhEUgAAAWMAAAAYBAMAAADdfoFkAAAAMFBMVEX///8AAAAAAAAAAAAAAAAA\n",
       "AAAAAAAAAAAAAAAAAAAAAAAAAAAAAAAAAAAAAAAAAAAv3aB7AAAAD3RSTlMAq1RmmUTNIjK7EInv\n",
       "3XZ/CtNrAAAACXBIWXMAAA7EAAAOxAGVKw4bAAAFAUlEQVRYw81XbWhbVRh+8nGTe2/SNFJEXN0I\n",
       "bAp+RMMYk/VHbWm3TkZLtFKYAxu7Hw4VdycDYc6R/tEf60zaqTMKJUpxuLiZbtLBBiXzgw38oDhl\n",
       "wmi5HdXhqqWopbMi9T3n3puce5PYIgR34PTcPPc55z7ve973PadADZt/BVxb5TpaadBQ23ZtBfyp\n",
       "1S0TipTorIfZj/U1UezOy8+HK+KWlpjjzasXKq1zv0BnfSv78UxNJH8A+MKVcbM9K9jBNTxdga4m\n",
       "RDr1fhZb6ZpIbgOUcGXcbJuKT57vsmwYrED3xkQ6dR9RA5GaSC5UkVwoPgWz1p5fNZ4qSQ7a6NQ9\n",
       "ZIOvNqGcsEn2i7jZfKYDc1MmMFhWJoB7bHTWv56c/LImkr15LlntmolDamy4NiHg6tyaw6dpew2L\n",
       "Ri6jJHlkjtLrsdHmqIXtoH6qDWqY01nfDryz0tcD/0Uy8wdJPqJhGKlsMBYXcC+m9U6KYO7w9/pQ\n",
       "kixfgaLLS/hMsrDd1PMPwDPP6azvgz+8osMc46paXYRLvgqkkmvhmhDxh/FItoFihIe1S5Rcl4d8\n",
       "k8hri9i3gBzphCvN6awr2UC86mejY60vCFIVe7Aeq1SSNheTJc4ky78B9XlRMsOT2MYe5XmO7BcC\n",
       "I0UG/WWT/AUtim8Q1DmddbdeJfvk6Uw8FMDZfBXJ7mG7ViPnX//VLtm9QJLTvdm6mIiDNFCTCmXp\n",
       "9xC9/VNawmVRMghIJTmdT0k0V5bcnqTiE0KTHmjvbN9aJtlz1HFxeMPI8ag9MLiXW0YaG2wBA2kR\n",
       "J8jqibIix7z8h9o6GhMDA94EfjHofMppdqjkms+y13MdM/RhaRou4zQlyTdanF4OzRzqQGiIH/th\n",
       "fuKrZ2Y1yLdpNsmKzmP5c6A3frdgG+Hqm64CaPc86bKjJNgCacEthirbTFpn0KDzKQfpo+oVeZGJ\n",
       "0e70kZWn6rMD+JCrC/iHY07J113pPvlTHgz6ksw26qSWIrn+1qQomZUj+tRAEs+h57UDpmEcd98c\n",
       "KUgRo95ZYbbHrBiX4MtLe17KFvmjzMth6XeDzqe46EPeFv5pD4ZlGg5E8TO6uWTvu+my9IspehL3\n",
       "nmPB8P5EiL1vxwC34NG4IFmegHzXBc2/YzQO3/LylGkYw9UufcNGFiOOxO//6g7sP387sHf5b93i\n",
       "H2ErN84sGvTilGA8ZFS6Rf63EeuwOZPJREKhwONCXTZjuZ6ttJNpduVdOs+QaWN7LwqS8UNJyxCO\n",
       "R3XTMAF/pUqhUiLqi1OWI+qSfM8SBr045WNNaWLBJBf4ufo9LuEw93JI2pUVljKGAX6a9ncwm4O0\n",
       "oLqIoyesGhKtcOmReBBahm2qcEGyt53Ut1iO8FAyjeGjiEEvTglqqe5sDgcDCS9y5Adpnuo1j2Wc\n",
       "a3FI9hfGwLF9a8gDvVDzuCgvNNHau23pB6V4TVDJsb77TMNKuHmDPDnJmrAnOEl+6LMcASr/U7Tx\n",
       "nF66dEptD57BQMT74/gNGrBhSwL+twnv+Sk/ss3p5a5dc1nz5uJuewuUiU9snI2ZNeTlveNFoaU7\n",
       "bW58drtpmIAr1f4tUs/PfZIs8qkQrJ+JG3TnFPMOGlE1hcpELpNxHouKc+3joOrsNrJtqOzLh+w/\n",
       "uWEifv3fT3yL79dLdMcUKWsOLr2nSlo4gXUSZcWT+N+axxqk5vxKkmWqJ5lj6J5lRQ+3cPPfCiL+\n",
       "ARqrXp8vROE7AAAAAElFTkSuQmCC\n",
       "\" style=\"display:inline;vertical-align:middle;\" /></a><br>(see <a class=\"ProveItLink\" href=\"../../../__pv_it/theorems/1e320c9dbcf919b5eec11a787df25d315dad64560/dependencies.ipynb\">dependencies</a>)<br>"
      ],
      "text/plain": [
       "<IPython.core.display.HTML object>"
      ]
     },
     "metadata": {},
     "output_type": "display_data"
    }
   ],
   "source": [
    "%proving log_increasing_less_eq"
   ]
  },
  {
   "cell_type": "code",
   "execution_count": null,
   "metadata": {},
   "outputs": [],
   "source": []
  }
 ],
 "metadata": {
  "kernelspec": {
   "display_name": "Python 3",
   "language": "python",
   "name": "python3"
  }
 },
 "nbformat": 4,
 "nbformat_minor": 0
}