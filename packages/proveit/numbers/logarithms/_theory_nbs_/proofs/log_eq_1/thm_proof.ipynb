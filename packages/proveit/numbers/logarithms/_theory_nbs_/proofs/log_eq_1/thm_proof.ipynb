{
 "cells": [
  {
   "cell_type": "markdown",
   "metadata": {},
   "source": [
    "Proof of <a class=\"ProveItLink\" href=\"../../../../../_theory_nbs_/theory.ipynb\">proveit</a>.<a class=\"ProveItLink\" href=\"../../../../_theory_nbs_/theory.ipynb\">numbers</a>.<a class=\"ProveItLink\" href=\"../../theory.ipynb\">logarithms</a>.<a class=\"ProveItLink\" href=\"../../theorems.ipynb#log_eq_1\">log_eq_1</a> theorem\n",
    "========"
   ]
  },
  {
   "cell_type": "code",
   "execution_count": 1,
   "metadata": {},
   "outputs": [],
   "source": [
    "import proveit\n",
    "theory = proveit.Theory() # the theorem's theory"
   ]
  },
  {
   "cell_type": "code",
   "execution_count": 2,
   "metadata": {},
   "outputs": [
    {
     "data": {
      "text/html": [
       "With these <a href=\"allowed_presumptions.txt\">allowed</a>/<a href=\"disallowed_presumptions.txt\">disallowed</a> theorem/theory presumptions (e.g., to avoid circular dependencies), we begin our proof of<br><strong id=\"log_eq_1\">log_eq_1:</strong> <a class=\"ProveItLink\" href=\"../../../__pv_it/theorems/361473e43964228c8a3109cddb65e4ce2783374c0/expr.ipynb\"><img src=\"data:image/png;base64,iVBORw0KGgoAAAANSUhEUgAAALkAAAAVBAMAAADoXVL6AAAAMFBMVEX///8AAAAAAAAAAAAAAAAA\n",
       "AAAAAAAAAAAAAAAAAAAAAAAAAAAAAAAAAAAAAAAAAAAv3aB7AAAAD3RSTlMAq1RmmUTNIjK7EInv\n",
       "3XZ/CtNrAAAACXBIWXMAAA7EAAAOxAGVKw4bAAACh0lEQVQ4y5WVTWgTQRTHX5LdZL+yBEQ9+EFA\n",
       "8CLVHESwh5jStAhSiBYEUaTqQfGg21LwohAvXkQaT7oKZYVeSpEkKlbspVIEQYX4AQUhsl6seCg9\n",
       "qNWI6JuZujuTTBYdCHn57ea3/7y3OwH4h+VEc+f/vtW27Gw0Py4/THCGFNsi7TvgyhM5X7tKruOQ\n",
       "9o7hAfLhdJTcGAE40YWzdbb90J3BFsOX8S1VibIrmOF6F87W7s6mtRhOegBmNspugdxuhZUntSNO\n",
       "YIJkZNu3i3aH52wlc1I7wS+bzeeR9gPMPrWMIzpYz/fwPLVpycffnpHaCd4PcKtTaYblKWrXFkH3\n",
       "tRYsqDw/5ujoSdD5DjXJehXaCR6FVEYysrB8Te3pGmjfYw3YwnNjAZQGQHxemp1g3TNLHO952HdO\n",
       "tD+l9gmc/E/BjlxZIVcFbUVqJzjuB0PVPrgl24TZmsS+CyP8UFvwhudWBarIVXl2ikfyf1mxjNyG\n",
       "Xt8sDhUHxM6Q7F+MvnqO70zVh32kBQ1p3ym+Rx61mfwse6LR/rkgZJ+kdqsA6tc430Pk1SxsiDuQ\n",
       "qEizU3wRh2osaqswTbmZmswJ9jq7Z55BsqaeueCxJIzrfvwtnqnUOm65VVjDMeyHUtDmYZjaldsV\n",
       "carXcLt4sRHG59YDnP/9y6dJGDe2Phr9BJAutcljm7+t47BVsjOwx3XdrG2bh8T7PV0OSj1rjL2n\n",
       "SQR+Sf4YBrjq6L3eVZrdVo+K20aiEJRH8LWXJhF4v9weYMuZGPZ0j/YdHhfEs24E1V2Me5Im4XmX\n",
       "LTbEav/O+5C6idXhj7WpQfG06XBLn1t+UKZJeK7L/+Pa8YzrlmQhfOEjTcLzJXljEP8BG0a4ygpS\n",
       "ioIAAAAASUVORK5CYII=\n",
       "\" style=\"display:inline;vertical-align:middle;\" /></a><br>(see <a class=\"ProveItLink\" href=\"../../../__pv_it/theorems/4f0fa27bb33ac9a8900db97fa104acbe935fb9eb0/dependencies.ipynb\">dependencies</a>)<br>"
      ],
      "text/plain": [
       "<IPython.core.display.HTML object>"
      ]
     },
     "metadata": {},
     "output_type": "display_data"
    }
   ],
   "source": [
    "%proving log_eq_1"
   ]
  },
  {
   "cell_type": "code",
   "execution_count": null,
   "metadata": {},
   "outputs": [],
   "source": []
  }
 ],
 "metadata": {
  "kernelspec": {
   "display_name": "Python 3",
   "language": "python",
   "name": "python3"
  }
 },
 "nbformat": 4,
 "nbformat_minor": 0
}