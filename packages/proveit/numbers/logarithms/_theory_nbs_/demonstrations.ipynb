{
 "cells": [
  {
   "cell_type": "markdown",
   "metadata": {},
   "source": [
    "Demonstrations for the theory of <a class=\"ProveItLink\" href=\"theory.ipynb\">proveit.numbers.logarithms</a>\n",
    "========"
   ]
  },
  {
   "cell_type": "code",
   "execution_count": 1,
   "metadata": {},
   "outputs": [],
   "source": [
    "import proveit\n",
    "from proveit import a, b\n",
    "from proveit.logic import InSet, NotEquals\n",
    "from proveit.numbers import (zero, one, two, five, greater, Less,\n",
    "                             LessEq, Log, Real, RealPos)\n",
    "\n",
    "%begin demonstrations"
   ]
  },
  {
   "cell_type": "code",
   "execution_count": null,
   "metadata": {},
   "outputs": [],
   "source": []
  },
  {
   "cell_type": "markdown",
   "metadata": {},
   "source": [
    "Generate a few Log expressions for testing and some assumptions:"
   ]
  },
  {
   "cell_type": "code",
   "execution_count": 2,
   "metadata": {},
   "outputs": [
    {
     "data": {
      "text/html": [
       "<strong id=\"log_2_of_5\">log_2_of_5:</strong> <a class=\"ProveItLink\" href=\"../__pv_it/demonstrations/cb9a32a236411c80c5fd7fd0ee2e4deaad56d5510/expr.ipynb\"><img src=\"data:image/png;base64,iVBORw0KGgoAAAANSUhEUgAAAD8AAAAVBAMAAAADRiu8AAAAMFBMVEX///8AAAAAAAAAAAAAAAAA\n",
       "AAAAAAAAAAAAAAAAAAAAAAAAAAAAAAAAAAAAAAAAAAAv3aB7AAAAD3RSTlMAMs3vq7siEJl2RN2J\n",
       "VGYzp+P2AAAACXBIWXMAAA7EAAAOxAGVKw4bAAABeElEQVQoz2NgwArYIFQCAy4wl4GRgaGMYSWQ\n",
       "KWSCRZ73AAPzJ+3tDJwPgBwVLAqKGBi47fcUMDCoAzkhWBT0MTCwgBkvcCgwgClgLkBRAHM0rwJM\n",
       "AdMDsIKKmV0MDEuOvLwNVcBxAKjg5REBBgYeB5ACxm0MrBMYvzPYcUEVgPSxFrD9YmDgUwAp4D7A\n",
       "wPiRZQODN8wq7gtgKhpomQFIgTyQ/wdZAfMCMNWfwMD4AaTgPpD/les7wz4G9jMuBVAFQUAFAgxc\n",
       "cBN+sLccecDAwcCxAWqFNQODP9CKDSAFzA0MXL94QcbyL2D7CKRYJzAwAD1iCnRkANgXhgxMB7gU\n",
       "0woY+ArACkCey2DgNAd7WMTYjSHjjBcDg/7/30CNPCArGIEEW4cH0DncC+ChyHqBPXcnA4M0yJEM\n",
       "G2Gi2YhgXgrETxnYwuFxBIs1GKgGBqwu0OY0sHHQWGELQChgPzPzhABboGA7mAOVYEVPc8z//38A\n",
       "MzIh/GkMDADF5lhTAsP5nwAAAABJRU5ErkJggg==\n",
       "\" style=\"display:inline;vertical-align:middle;\" /></a><br>"
      ],
      "text/plain": [
       "<IPython.core.display.HTML object>"
      ]
     },
     "metadata": {},
     "output_type": "display_data"
    },
    {
     "data": {
      "text/html": [
       "<strong id=\"log_a_of_b\">log_a_of_b:</strong> <a class=\"ProveItLink\" href=\"../__pv_it/demonstrations/852789ab9773b5dfaedb4c23b9d366de77fa67e90/expr.ipynb\"><img src=\"data:image/png;base64,iVBORw0KGgoAAAANSUhEUgAAAD8AAAAVBAMAAAADRiu8AAAAMFBMVEX///8AAAAAAAAAAAAAAAAA\n",
       "AAAAAAAAAAAAAAAAAAAAAAAAAAAAAAAAAAAAAAAAAAAv3aB7AAAAD3RSTlMAMs3vq7siEJl2RN2J\n",
       "VGYzp+P2AAAACXBIWXMAAA7EAAAOxAGVKw4bAAABdElEQVQoz2NgwA4SkEhsgPMCmFoJxEIm2BTc\n",
       "YWAP3gBU9wDIVsEiz67AwMDUAGSoA3EIFgUcQJ38IFte4FDADMTrC0CMAhQFcEdfAuLTIAbTA7CC\n",
       "ipldDAxLjry8DVPQA3LbTF8GBh4HkALGbQysExi/M9hxwRToAd35qaA+gYFPAaSA+wAD40eWDQze\n",
       "cLv2MjDwfmdgnsDAawBSIA907x8UBVZAjygw8AM1fgApuL+AgeEr13eGfcgKgMauv8DABTfhB3vL\n",
       "kQfIVgCDob+AgXcDSAFzAwPXL94FSOEQCVQgwG7HwMAXAPaFIQPTAS7FNGCgsJ+bAwqMIwwMLA9Y\n",
       "gWHNcYBBxNiNIeOMFwOD/v/fExiqE+RBCqSBSn36gAxuhLmsF9hzdzJ0MAiDONwCUNFshLVLgfgp\n",
       "0PlTQBy+BqhoH0JBNVCTLvs3hrhyEC8MIsgWgJQEzsw8IcBgxvjrOYhXCrUXI82teDsHHBpsE8Dc\n",
       "aQwMAOzeWqu3yuG/AAAAAElFTkSuQmCC\n",
       "\" style=\"display:inline;vertical-align:middle;\" /></a><br>"
      ],
      "text/plain": [
       "<IPython.core.display.HTML object>"
      ]
     },
     "metadata": {},
     "output_type": "display_data"
    }
   ],
   "source": [
    "log_2_of_5, log_a_of_b = Log(two, five), Log(a, b)"
   ]
  },
  {
   "cell_type": "code",
   "execution_count": 3,
   "metadata": {},
   "outputs": [
    {
     "data": {
      "text/html": [
       "<strong id=\"demo_assumptions\">demo_assumptions:</strong> <a class=\"ProveItLink\" href=\"../__pv_it/demonstrations/7b04181d875738513e0fd8c056e02613cd750d2a0/expr.ipynb\"><img src=\"data:image/png;base64,iVBORw0KGgoAAAANSUhEUgAAANEAAAAZCAMAAACYXzsEAAAAPFBMVEX///8AAAAAAAAAAAAAAAAA\n",
       "AAAAAAAAAAAAAAAAAAAAAAAAAAAAAAAAAAAAAAAAAAAAAAAAAAAAAAAAAAAo1xBWAAAAE3RSTlMA\n",
       "ZkRUmRDNuyLviTJ23avn9enzmrWLfwAAAAlwSFlzAAAOxAAADsQBlSsOGwAAAn9JREFUWMPdmOm6\n",
       "oyAMhgGBsObMHO7/Xg8iKpZF29p5ZiY/utjy9stCSCUkGmXkZePkJuM3EqZ3YHCXR++D1IoQkvwf\n",
       "HhHqMopeXSA1QJBelyteEfI+iIvmZZ8uK/1MHBUSwpCC6AsRoP0toL7Z45etzxSHyV3zlEcmPdl5\n",
       "KYdoen54yLLkN4G6y20RQOQyZI9EehHY0x5xReQotGG6CdRLER7fu9UjImNIbBD9pQ58NNkQAgMh\n",
       "rEI+ci6CuvFQPY94pLh+zTPpRDO0KAQOhBh/xrkI6ulC0vPIxaaAW+QUGqdc0d6laBeLhUmqgRCJ\n",
       "zuE04lwEPSpa+arr0VwesJKYjl+EomCqhUmIlj74IuZ1ExAhuiCCGnCugR4VcZ/s69f8iE2PbLAx\n",
       "oFmHpmlREYr2hqb05EieEl+7AecSqFbUi9DukYp9zufY8JCOqL2VW+2zwbFYQNBhk+VJZzADziVQ\n",
       "pShnrk7m7pGIHq050pAv7Adlp+laTmDQHxcNbOvgLc4lUKWoW8RljraqE2GuEhpKZb1jhFs1akzJ\n",
       "F76XvycvgWpFaR/9/l4S3ttHiiDk9bOO2PimLQTOdYTEqLtGuazUGKa8B7qcIWg7/ytFKUWNrB57\n",
       "nctjHcTfneKmKqpUTg0h8+ex/IE1WtzyAqNIKIu95oxAG6ehqPPPx2yNler9gBfojFXoDhMTMFGN\n",
       "zPOBDSDrScf7lWT4IfKPnBPQzqkUNVOEqIPE5Rf5XIx6MNcxA8fpZdy2xac5ZDoZqyV9cvYem/k8\n",
       "R4rhymX2tvomIcJ9nENPgkaXDojTPUpucmjE8eMUEa9uuM/wR81eu89wut3+FSuO63fu1/1FttxO\n",
       "+QEjexoTtzTYOQAAAABJRU5ErkJggg==\n",
       "\" style=\"display:inline;vertical-align:middle;\" /></a><br>"
      ],
      "text/plain": [
       "<IPython.core.display.HTML object>"
      ]
     },
     "metadata": {},
     "output_type": "display_data"
    }
   ],
   "source": [
    "demo_assumptions = [InSet(a, RealPos), InSet(b, RealPos), NotEquals(a, one)]"
   ]
  },
  {
   "cell_type": "markdown",
   "metadata": {},
   "source": [
    "#### Testing Log.deduce_in_number_set()"
   ]
  },
  {
   "cell_type": "code",
   "execution_count": 4,
   "metadata": {},
   "outputs": [
    {
     "data": {
      "text/html": [
       "<span style=\"font-size:20px;\"> <a class=\"ProveItLink\" href=\"../__pv_it/demonstrations/b5c91918addbd8965bf621f5a403e9af912969620/proof.ipynb\" style=\"text-decoration: none\">&nbsp;&#x22A2;&nbsp;&nbsp;</a><a class=\"ProveItLink\" href=\"../__pv_it/demonstrations/fd3e281455d99813a07a480de46af04159a0d82e0/expr.ipynb\"><img src=\"data:image/png;base64,iVBORw0KGgoAAAANSUhEUgAAAGoAAAAVBAMAAABce2awAAAAMFBMVEX///8AAAAAAAAAAAAAAAAA\n",
       "AAAAAAAAAAAAAAAAAAAAAAAAAAAAAAAAAAAAAAAAAAAv3aB7AAAAD3RSTlMAMs3vq7siEJl2RN2J\n",
       "VGYzp+P2AAAACXBIWXMAAA7EAAAOxAGVKw4bAAAB/klEQVQ4y2NgwArYIFQCA0lgLgMjA0MZw0o0\n",
       "YT7l0E+b44AMIRMsmngPMDB/0t7OwPkATYKVzYHLLxzIUMGiq4iBgdt+TwEDgzqGrgMMASJARggW\n",
       "XX0MDCxgxgssutqYcOgygOliLoAITN29WwGuixVVFyzIeBVgupggHls0Hcku9xKIroqZXQwMS468\n",
       "vA2V4zgA1PXyiAADA48DOB7UkVzIGKsG1sW4jYF1AuN3BjsuqBzIBtYCtl/AoAa7iykBocto/84C\n",
       "sC7uAwyMH1k2MHjD5LgvgKlooFsNwLqQQuPcc7BBIQzyQEV/kHUxLwBT/QkMjB9ADOHdQBAAdWH4\n",
       "O4iu+0BFX7m+M+xjYD/jUgDVFQTUJcDABbarFDnkJVgL4Hb9YG858oCBg4FjA9SF1gwM/kAXbgC7\n",
       "GFkXh1gAWBdzAwPXL16Qq/gXsH0EyU1gYAAGoykwNMDu4pyApIs9YB4kDA0ZmA5wKaYVMPAVgHWB\n",
       "wjuDgdMcEgdAoIvQ1cDwjnUBg4ixG0PGGS8GBv3/v4FG8oCcxAgk2Do8gO7nhoRLSVQBLM1/TWAN\n",
       "+otw8QX23J0MDNJg6Y0w0WwovSYakqLQwVIgfsrAFo6aaPsI5MNqAZDzMxjSwBZDEwNbAAFd7Gdm\n",
       "nhBgCxRsB3OgqlmJKgKY//8HJwaGTAh/Gg51AFfffeALc87SAAAAAElFTkSuQmCC\n",
       "\" style=\"display:inline;vertical-align:middle;\" /></a></span>"
      ],
      "text/plain": [
       "|- log_2(5) in Real"
      ]
     },
     "metadata": {},
     "output_type": "display_data"
    }
   ],
   "source": [
    "log_2_of_5.deduce_in_number_set(Real)"
   ]
  },
  {
   "cell_type": "code",
   "execution_count": 5,
   "metadata": {},
   "outputs": [
    {
     "data": {
      "text/html": [
       "<span style=\"font-size:20px;\"><a class=\"ProveItLink\" href=\"../__pv_it/demonstrations/5a0c211ed8c0f89e15d717d80d4627baae693acb0/expr.ipynb\"><img src=\"data:image/png;base64,iVBORw0KGgoAAAANSUhEUgAAAD8AAAATBAMAAADVH8ihAAAAMFBMVEX///8AAAAAAAAAAAAAAAAA\n",
       "AAAAAAAAAAAAAAAAAAAAAAAAAAAAAAAAAAAAAAAAAAAv3aB7AAAAD3RSTlMAIquJdkTvuxBmmd1U\n",
       "zTKBpmoTAAAACXBIWXMAAA7EAAAOxAGVKw4bAAAA3UlEQVQoz2NgwAO4GAgAdjIVzE2vv50+AZ8J\n",
       "BUIMQdMb8CkQZmDnU2BYXl5WXj4BhwIugQtYTHDfvfsCXEEBpoJYD4QJTB0KcAWMyo4OYPoGkhXP\n",
       "zwrAFYQJsP8A0bwCcAVit397wEOSI5OBawNYAZIjZ/YihfcHBm4DEOPZbiAogChg70R4j62AoT8A\n",
       "xGhHMoFvQQWc1+/AMB/M4EYOh3XiCAUHGHR5QO5jcUBS0M4Ct4PdgWcXJN7vwBVIMXBOKIXxOFTs\n",
       "hPzArKbSBlhsFjKU3z+AGQfB1ZCgRgEAfyQ4BfovW/4AAAAASUVORK5CYII=\n",
       "\" style=\"display:inline;vertical-align:middle;\" /></a>, <a class=\"ProveItLink\" href=\"../__pv_it/demonstrations/b9cae19a628b9412bdeba3850806ec1015c9b6ae0/expr.ipynb\"><img src=\"data:image/png;base64,iVBORw0KGgoAAAANSUhEUgAAAD0AAAATBAMAAADR6hicAAAAMFBMVEX///8AAAAAAAAAAAAAAAAA\n",
       "AAAAAAAAAAAAAAAAAAAAAAAAAAAAAAAAAAAAAAAAAAAv3aB7AAAAD3RSTlMAELvv3c2ZVESJq3Yi\n",
       "MmZ3LnoBAAAACXBIWXMAAA7EAAAOxAGVKw4bAAAA6ElEQVQoz2NgwA3YGPADJrLknxrphxg9gMsz\n",
       "KjugKVA4xdD1SACunzUBXf4kAxPvAoYkJWUlJaA5/AWY8mwHAuD6+wWg4ptcXALg8gpw+SlQ6daN\n",
       "CP1cggvg8lG7l4MonkAk8y+VHoC7/6uAPIjDegAufzjky0Z4+LF/ZGDeAJJHct87UaRADmDgnwCk\n",
       "L7sAgQJEnknuAVyeZQJDP8iHQkj6eRMU4Tyg9/NBPmRB9n/uIYT8BUY7EM29AUleiBtuAdcDJkgA\n",
       "h8PljzHwPdCA8RhX5kEYUhoCsPjTYVCKL8CI2E4VSPiiAAC5IjjtCVE78gAAAABJRU5ErkJggg==\n",
       "\" style=\"display:inline;vertical-align:middle;\" /></a>, <a class=\"ProveItLink\" href=\"../__pv_it/demonstrations/0253dbed1258e1c128ba9f6ec6b2a0640e2a18320/expr.ipynb\"><img src=\"data:image/png;base64,iVBORw0KGgoAAAANSUhEUgAAADAAAAAUCAMAAAD84U6VAAAAPFBMVEX///8AAAAAAAAAAAAAAAAA\n",
       "AAAAAAAAAAAAAAAAAAAAAAAAAAAAAAAAAAAAAAAAAAAAAAAAAAAAAAAAAAAo1xBWAAAAE3RSTlMA\n",
       "IquJdkTvuxBmmd1UzTLn9enzF+Xi+wAAAAlwSFlzAAAOxAAADsQBlSsOGwAAALFJREFUKM+VktkS\n",
       "wyAIRRF3XNKW///XxiQda2LiyAMjg8cLAsCTkYMpy7YNw4i3uZ4dUuIBkLGN1QiwYg7QJ4EKCJRK\n",
       "qAuQxA2gzZqxVY7CZsureLwCzvjt1lDgBxAXH+S5A4IbwJTpONZDgQNwXNr1/LcPpfb3Z+8EO0Bc\n",
       "PSaIzZOp8+VHSXZViIGgqTlSZzCSxb4kSmaBKg8EEA0n9P0hRzm31t0OnszPCoRJAcgPuS++iAXk\n",
       "5DVTgAAAAABJRU5ErkJggg==\n",
       "\" style=\"display:inline;vertical-align:middle;\" /></a> <a class=\"ProveItLink\" href=\"../__pv_it/demonstrations/1fde430ceffe4469c49c7361ecd9aa5679d6743a0/proof.ipynb\" style=\"text-decoration: none\">&nbsp;&#x22A2;&nbsp;&nbsp;</a><a class=\"ProveItLink\" href=\"../__pv_it/theorems/7180dc5788101123bbcbcc4197824687234814d20/expr.ipynb\"><img src=\"data:image/png;base64,iVBORw0KGgoAAAANSUhEUgAAAGkAAAAVBAMAAAC3TN2zAAAAMFBMVEX///8AAAAAAAAAAAAAAAAA\n",
       "AAAAAAAAAAAAAAAAAAAAAAAAAAAAAAAAAAAAAAAAAAAv3aB7AAAAD3RSTlMAMs3vq7siEJl2RN2J\n",
       "VGYzp+P2AAAACXBIWXMAAA7EAAAOxAGVKw4bAAACAklEQVQ4y2NgwA4SkEiiAecFMLUSTfiRaby2\n",
       "6QMgQ8gEm647DOzBG4CaH6CJB6QwLHlaAGSoYNHErsDAwNQAZKij68phYGV0ADJCsOjiANrBD3Lk\n",
       "C0xdHAkKOHQxA/F6kEOYCyACU3fvVoDrCkDVBQ+yS0B8GsRggnhs0XSEXSzlUBdWzOxiYFhy5OVt\n",
       "mK4ekH9n+jIw8IBUMLCpI7lQ9FICWBfjNgbWCYzfGey4YJJ6wAD5VFCfwMAHdhcT3BEBydq/wfaG\n",
       "MHAfYGD8yLKBwRvu1L0MDLzfGZgnMPAagHUhhca7IgaILnlgaP1B0WUFDEYFBn6gaR9AXOHdQBAA\n",
       "0cVa9wCi6/4CBoavXN8Z9iHrAjpg/QUGLrBdpUh2MTaEI+z6wd5y5AGyC4HR1V/AwLsBxOVGjq/G\n",
       "VIgu5gYGrl+8C5DiKxKoS4DdjoGBD+wuzglIukrByQwYhoYMTAe4FNOAMcp+bg4ovI4wMLA8YAUm\n",
       "KY4DYMW6cF0ZDHwPohgYRIzdGDLOeDEw6P//PYGhOkEepEsaqN+nD+Q2iAtKogpgaT6MIVT/AtxR\n",
       "rBfYc3cydDAIgz0iABXNhtJroiEpCh0sBeKnwMCbAuLwNUBF+wjkw2qg8brs3xjiykG8MIggWwAB\n",
       "XexnZp4QYDBj/PUcKYZYiSsCVrydA441NkhYT8OhDADko4QHrNALzwAAAABJRU5ErkJggg==\n",
       "\" style=\"display:inline;vertical-align:middle;\" /></a></span>"
      ],
      "text/plain": [
       "{a in RealPos, b in RealPos, a != 1} |- log_a(b) in Real"
      ]
     },
     "metadata": {},
     "output_type": "display_data"
    }
   ],
   "source": [
    "log_a_of_b.deduce_in_number_set(Real, assumptions=demo_assumptions)"
   ]
  },
  {
   "cell_type": "markdown",
   "metadata": {},
   "source": [
    "#### Testing `Log.bound_via_operand_bound()`"
   ]
  },
  {
   "cell_type": "code",
   "execution_count": 6,
   "metadata": {},
   "outputs": [
    {
     "data": {
      "text/html": [
       "<span style=\"font-size:20px;\"><a class=\"ProveItLink\" href=\"../__pv_it/demonstrations/5a0c211ed8c0f89e15d717d80d4627baae693acb0/expr.ipynb\"><img src=\"data:image/png;base64,iVBORw0KGgoAAAANSUhEUgAAAD8AAAATBAMAAADVH8ihAAAAMFBMVEX///8AAAAAAAAAAAAAAAAA\n",
       "AAAAAAAAAAAAAAAAAAAAAAAAAAAAAAAAAAAAAAAAAAAv3aB7AAAAD3RSTlMAIquJdkTvuxBmmd1U\n",
       "zTKBpmoTAAAACXBIWXMAAA7EAAAOxAGVKw4bAAAA3UlEQVQoz2NgwAO4GAgAdjIVzE2vv50+AZ8J\n",
       "BUIMQdMb8CkQZmDnU2BYXl5WXj4BhwIugQtYTHDfvfsCXEEBpoJYD4QJTB0KcAWMyo4OYPoGkhXP\n",
       "zwrAFYQJsP8A0bwCcAVit397wEOSI5OBawNYAZIjZ/YihfcHBm4DEOPZbiAogChg70R4j62AoT8A\n",
       "xGhHMoFvQQWc1+/AMB/M4EYOh3XiCAUHGHR5QO5jcUBS0M4Ct4PdgWcXJN7vwBVIMXBOKIXxOFTs\n",
       "hPzArKbSBlhsFjKU3z+AGQfB1ZCgRgEAfyQ4BfovW/4AAAAASUVORK5CYII=\n",
       "\" style=\"display:inline;vertical-align:middle;\" /></a>, <a class=\"ProveItLink\" href=\"../__pv_it/demonstrations/b9cae19a628b9412bdeba3850806ec1015c9b6ae0/expr.ipynb\"><img src=\"data:image/png;base64,iVBORw0KGgoAAAANSUhEUgAAAD0AAAATBAMAAADR6hicAAAAMFBMVEX///8AAAAAAAAAAAAAAAAA\n",
       "AAAAAAAAAAAAAAAAAAAAAAAAAAAAAAAAAAAAAAAAAAAv3aB7AAAAD3RSTlMAELvv3c2ZVESJq3Yi\n",
       "MmZ3LnoBAAAACXBIWXMAAA7EAAAOxAGVKw4bAAAA6ElEQVQoz2NgwA3YGPADJrLknxrphxg9gMsz\n",
       "KjugKVA4xdD1SACunzUBXf4kAxPvAoYkJWUlJaA5/AWY8mwHAuD6+wWg4ptcXALg8gpw+SlQ6daN\n",
       "CP1cggvg8lG7l4MonkAk8y+VHoC7/6uAPIjDegAufzjky0Z4+LF/ZGDeAJJHct87UaRADmDgnwCk\n",
       "L7sAgQJEnknuAVyeZQJDP8iHQkj6eRMU4Tyg9/NBPmRB9n/uIYT8BUY7EM29AUleiBtuAdcDJkgA\n",
       "h8PljzHwPdCA8RhX5kEYUhoCsPjTYVCKL8CI2E4VSPiiAAC5IjjtCVE78gAAAABJRU5ErkJggg==\n",
       "\" style=\"display:inline;vertical-align:middle;\" /></a>, <a class=\"ProveItLink\" href=\"../__pv_it/demonstrations/b372d56298d365996fddb9397e0959f1376fbb0e0/expr.ipynb\"><img src=\"data:image/png;base64,iVBORw0KGgoAAAANSUhEUgAAAC8AAAARBAMAAAC/eehCAAAAMFBMVEX///8AAAAAAAAAAAAAAAAA\n",
       "AAAAAAAAAAAAAAAAAAAAAAAAAAAAAAAAAAAAAAAAAAAv3aB7AAAAD3RSTlMAELvv3c2ZVESJq3Yi\n",
       "MmZ3LnoBAAAACXBIWXMAAA7EAAAOxAGVKw4bAAAAvElEQVQY02NgwAS8DAwyDAyMyg7oEsxfQxyB\n",
       "FGsCugSLvacAkOIvQJfgglD9Aggh9hgkiSkIcT43ASSJqN3LoeLcnhDNXK9nXQC66quA/AEwX9Ib\n",
       "qoBJgOcH0NiPDMwbQNxjfkj2qzAwsAUw8E8A6Q9Hdlj+AQaWCQz9BagSqkCJCyBv5AugGmXCwLAe\n",
       "6L8LjHYMqJYDTTYCGvGACRYm0t4Q5x5j4DYEOndlHsKDEI/wpC0TQAslvhgGggAAL6YhX+ajIRMA\n",
       "AAAASUVORK5CYII=\n",
       "\" style=\"display:inline;vertical-align:middle;\" /></a>, <a class=\"ProveItLink\" href=\"../__pv_it/theorems/e6ed1880d8a5adc965bd31595086d71670c4cffd0/expr.ipynb\"><img src=\"data:image/png;base64,iVBORw0KGgoAAAANSUhEUgAAADAAAAAQBAMAAACigOGCAAAAMFBMVEX///8AAAAAAAAAAAAAAAAA\n",
       "AAAAAAAAAAAAAAAAAAAAAAAAAAAAAAAAAAAAAAAAAAAv3aB7AAAAD3RSTlMAIquJdkTvuxBmmd1U\n",
       "zTKBpmoTAAAACXBIWXMAAA7EAAAOxAGVKw4bAAAAjElEQVQY02NgwAb4dmAVZmha+wO7BAMLskTv\n",
       "BBwSHNYOqBKMyo5QEW8LFIkwAXaYxtkrkCQ4Mhm4NsBUnl2IkOD6wMBtADc8VgMuwVbA0B+AkKiA\n",
       "S/Q7MMyHi59VRBjVf4BBl0cAavlCJMvZHXh2caE7l/kj0FUqdkJ+YA96wz3IpPZXE+Hz7gkMRAEA\n",
       "Nu0kN+QdTTgAAAAASUVORK5CYII=\n",
       "\" style=\"display:inline;vertical-align:middle;\" /></a> <a class=\"ProveItLink\" href=\"../__pv_it/demonstrations/282a7b4c8ede95ab049c74da27495044e2dc08320/proof.ipynb\" style=\"text-decoration: none\">&nbsp;&#x22A2;&nbsp;&nbsp;</a><a class=\"ProveItLink\" href=\"../__pv_it/demonstrations/8cc09869ebd8f3f69c284c06960c18f159355ed70/expr.ipynb\"><img src=\"data:image/png;base64,iVBORw0KGgoAAAANSUhEUgAAAJ0AAAAVBAMAAACu6/FQAAAAMFBMVEX///8AAAAAAAAAAAAAAAAA\n",
       "AAAAAAAAAAAAAAAAAAAAAAAAAAAAAAAAAAAAAAAAAAAv3aB7AAAAD3RSTlMAMs3vq7siEJl2RN2J\n",
       "VGYzp+P2AAAACXBIWXMAAA7EAAAOxAGVKw4bAAACtklEQVQ4y42UTWgTURSFz+RvzMQkgxU3XSSi\n",
       "1IVWI9YfFKogiNhagw5CEWVWGhFhEKyVFozgokppsxCxkEIQBV0lbtRALVlkoVgkuBGsYDZiuxC0\n",
       "oJWq1Pve5E2eycT64CVzZ745c8+9dwZwX6b0u/IKYAU8WOF/j/5TbxIKMMDxNV1uwHuoJwokW204\n",
       "r2w44EKHS/AubH5q4xtdADUOeNJ0sKnxisdN7xIQ2j9l2bjhAqyiB0WZ5bnGK343vTHAxw/mWuh5\n",
       "aectdmDVTXW01EsIPYYbjU2l9Yb2K27PKWDkmdWgF3CeFBd6DCe9wYlbwP3y/KwgRlldJ44Cq8Xt\n",
       "wSlL+FVv3s1B6+2bLIjqlEhvvqzbuAHlCfwZZRHdmtDbSi1ZsK6ZiMTtE8PFev3aTfQjZnmrOdEj\n",
       "yspvBZbAcQOhEpSvvgJ6HCvPycQivBmEEzxOTUv9mAJieg98Ij2E7GE9BY4biFH86y+9vWQijig9\n",
       "5wsLfZ1Sf5Xf1PuSrOe1Ex03OW7gA8XftEVMy3qUdL4CLdGkFyZf0WTeClVlveOkp3Pczu+HeqNc\n",
       "lf3S+I1bCBea/PL80oO9fZD97gOOgeMGvGloS+GcNFD9dIuudlOBk8392EOzmXsnz3gGoBbvtHHq\n",
       "73Z4Str6szQR6ussG8Iyeaz60/Yo8HW16MxLm44tuLfunEOzKUkhuJvja3ccQmrmCLBt+WcGQ2aM\n",
       "Ee3E9o4xK07WET6AysEuMzBazsGzvFwUtEIuAyOHLRmHv6JeLGIEbbwieu3shbqrSIf8ip3GwGym\n",
       "RuMxmvEHtD9SY2/ze9P1N911aUlWrBpd/2pI+BCl1Kl+x5krLDpZe0WTLfRUSsnzVtB+sxlXZyZe\n",
       "6NilLH1i0eVaEVp+wYdfZq87tJpshT/8nOVTGMjw8M6/P/OCxnkI/A/0GLnAEWbo0QAAAABJRU5E\n",
       "rkJggg==\n",
       "\" style=\"display:inline;vertical-align:middle;\" /></a></span>"
      ],
      "text/plain": [
       "{a in RealPos, b in RealPos, b < 5, a > 1} |- log_a(b) < log_a(5)"
      ]
     },
     "metadata": {},
     "output_type": "display_data"
    }
   ],
   "source": [
    "log_a_of_b.bound_via_operand_bound(Less(b, five),\n",
    "        assumptions=[InSet(a, RealPos), InSet(b, RealPos), greater(a, one), Less(b, five)])"
   ]
  },
  {
   "cell_type": "code",
   "execution_count": 7,
   "metadata": {},
   "outputs": [
    {
     "data": {
      "text/html": [
       "<span style=\"font-size:20px;\"><a class=\"ProveItLink\" href=\"../__pv_it/demonstrations/5a0c211ed8c0f89e15d717d80d4627baae693acb0/expr.ipynb\"><img src=\"data:image/png;base64,iVBORw0KGgoAAAANSUhEUgAAAD8AAAATBAMAAADVH8ihAAAAMFBMVEX///8AAAAAAAAAAAAAAAAA\n",
       "AAAAAAAAAAAAAAAAAAAAAAAAAAAAAAAAAAAAAAAAAAAv3aB7AAAAD3RSTlMAIquJdkTvuxBmmd1U\n",
       "zTKBpmoTAAAACXBIWXMAAA7EAAAOxAGVKw4bAAAA3UlEQVQoz2NgwAO4GAgAdjIVzE2vv50+AZ8J\n",
       "BUIMQdMb8CkQZmDnU2BYXl5WXj4BhwIugQtYTHDfvfsCXEEBpoJYD4QJTB0KcAWMyo4OYPoGkhXP\n",
       "zwrAFYQJsP8A0bwCcAVit397wEOSI5OBawNYAZIjZ/YihfcHBm4DEOPZbiAogChg70R4j62AoT8A\n",
       "xGhHMoFvQQWc1+/AMB/M4EYOh3XiCAUHGHR5QO5jcUBS0M4Ct4PdgWcXJN7vwBVIMXBOKIXxOFTs\n",
       "hPzArKbSBlhsFjKU3z+AGQfB1ZCgRgEAfyQ4BfovW/4AAAAASUVORK5CYII=\n",
       "\" style=\"display:inline;vertical-align:middle;\" /></a>, <a class=\"ProveItLink\" href=\"../__pv_it/demonstrations/b9cae19a628b9412bdeba3850806ec1015c9b6ae0/expr.ipynb\"><img src=\"data:image/png;base64,iVBORw0KGgoAAAANSUhEUgAAAD0AAAATBAMAAADR6hicAAAAMFBMVEX///8AAAAAAAAAAAAAAAAA\n",
       "AAAAAAAAAAAAAAAAAAAAAAAAAAAAAAAAAAAAAAAAAAAv3aB7AAAAD3RSTlMAELvv3c2ZVESJq3Yi\n",
       "MmZ3LnoBAAAACXBIWXMAAA7EAAAOxAGVKw4bAAAA6ElEQVQoz2NgwA3YGPADJrLknxrphxg9gMsz\n",
       "KjugKVA4xdD1SACunzUBXf4kAxPvAoYkJWUlJaA5/AWY8mwHAuD6+wWg4ptcXALg8gpw+SlQ6daN\n",
       "CP1cggvg8lG7l4MonkAk8y+VHoC7/6uAPIjDegAufzjky0Z4+LF/ZGDeAJJHct87UaRADmDgnwCk\n",
       "L7sAgQJEnknuAVyeZQJDP8iHQkj6eRMU4Tyg9/NBPmRB9n/uIYT8BUY7EM29AUleiBtuAdcDJkgA\n",
       "h8PljzHwPdCA8RhX5kEYUhoCsPjTYVCKL8CI2E4VSPiiAAC5IjjtCVE78gAAAABJRU5ErkJggg==\n",
       "\" style=\"display:inline;vertical-align:middle;\" /></a>, <a class=\"ProveItLink\" href=\"../__pv_it/demonstrations/62a2848b99aed1511a5511cae77a67a22b019fb10/expr.ipynb\"><img src=\"data:image/png;base64,iVBORw0KGgoAAAANSUhEUgAAAC8AAAARBAMAAAC/eehCAAAAMFBMVEX///8AAAAAAAAAAAAAAAAA\n",
       "AAAAAAAAAAAAAAAAAAAAAAAAAAAAAAAAAAAAAAAAAAAv3aB7AAAAD3RSTlMAELvv3c2ZVESJq3Yi\n",
       "MmZ3LnoBAAAACXBIWXMAAA7EAAAOxAGVKw4bAAAAwElEQVQY02NgwAS8DAwyDAyMyg7oEsxfQxyB\n",
       "FGsCugSLvacAkOIvQJfgglD9AmBK9AG6xBQIxThlA5pE1O7lEMaWiTCJ17MuAFV+FZA/ABF4kgih\n",
       "mQR4fjAwsH9kYIYZUpoDM02FgYEtgIF/AozfuhDKyD/AwDKBoR/u4FZFEKkKlLgA8ka+AMyoNWDK\n",
       "hIFhPdB/FxjtoOJPoFYATTYCuu0BUwKac48xcBsCnbsyD+LBLXAP8qQtE0AEkMgDBuIAADPCKLsx\n",
       "LXWdAAAAAElFTkSuQmCC\n",
       "\" style=\"display:inline;vertical-align:middle;\" /></a>, <a class=\"ProveItLink\" href=\"../__pv_it/theorems/e6ed1880d8a5adc965bd31595086d71670c4cffd0/expr.ipynb\"><img src=\"data:image/png;base64,iVBORw0KGgoAAAANSUhEUgAAADAAAAAQBAMAAACigOGCAAAAMFBMVEX///8AAAAAAAAAAAAAAAAA\n",
       "AAAAAAAAAAAAAAAAAAAAAAAAAAAAAAAAAAAAAAAAAAAv3aB7AAAAD3RSTlMAIquJdkTvuxBmmd1U\n",
       "zTKBpmoTAAAACXBIWXMAAA7EAAAOxAGVKw4bAAAAjElEQVQY02NgwAb4dmAVZmha+wO7BAMLskTv\n",
       "BBwSHNYOqBKMyo5QEW8LFIkwAXaYxtkrkCQ4Mhm4NsBUnl2IkOD6wMBtADc8VgMuwVbA0B+AkKiA\n",
       "S/Q7MMyHi59VRBjVf4BBl0cAavlCJMvZHXh2caE7l/kj0FUqdkJ+YA96wz3IpPZXE+Hz7gkMRAEA\n",
       "Nu0kN+QdTTgAAAAASUVORK5CYII=\n",
       "\" style=\"display:inline;vertical-align:middle;\" /></a> <a class=\"ProveItLink\" href=\"../__pv_it/demonstrations/87a22981bd2664965a9b516230fd42c50abf6c700/proof.ipynb\" style=\"text-decoration: none\">&nbsp;&#x22A2;&nbsp;&nbsp;</a><a class=\"ProveItLink\" href=\"../__pv_it/demonstrations/e5fc8fbffbf917c3fa6f17843b78bd0773d06f370/expr.ipynb\"><img src=\"data:image/png;base64,iVBORw0KGgoAAAANSUhEUgAAAJ0AAAAVBAMAAACu6/FQAAAAMFBMVEX///8AAAAAAAAAAAAAAAAA\n",
       "AAAAAAAAAAAAAAAAAAAAAAAAAAAAAAAAAAAAAAAAAAAv3aB7AAAAD3RSTlMAMs3vq7siEJl2RN2J\n",
       "VGYzp+P2AAAACXBIWXMAAA7EAAAOxAGVKw4bAAACu0lEQVQ4y42UW0gUURzGv9l19+Rsq0NGLz7s\n",
       "RkEP3YzsQoEFgUVuttRQSBTzVEYEQ5AJG7RBmIXoPkQkKixSUE+7vRSCxT4sVCghvgQZNC+REkEJ\n",
       "ZVhh/3Nmzuy4zmoH5nLO/OY7/8s3A/gPw3NeeYSxAl49IS5P/lNvCArQIfA1jX7AB7CTeZK1ytaV\n",
       "DQd96GgBwdnNz218ow/A4kAgTTebyp8E/PSuAJEDo6aN6z7AKtqolqc8Xf4k5KfXC1SJm+kKekE6\n",
       "cia/McX+1vJ6DVKP43p5U2lM0jEm0hNKbCzjoxd2yxeXehwnvc7+u8DD4syUJHp4XfuPAaud1wde\n",
       "lfTYnQdZqInWobysToH0ZoqajetQniGUUebQpEq9bRTTrHnDQE3cWfly29WrN9CGmBm0srJHFFXI\n",
       "DM9D4DoiBSjfq/JocVN5QUnMIZhBtMEtQZfUGwViWguqZHiI2GY9A4HriNH8zyK9fZREHLW0zzd3\n",
       "bfiwraf8pd4XvHpBO9A+Q+A6PtL8hzqHl149Cjo3AbWhpHfa1otSXrXJnBmxvHonSE8TuB3fL3ar\n",
       "aHnzJfv1mYi6QUw2wxNfujPRCm+++4HjELiOYBrqfDTrMVQbvaKxJipwUvajy+3HXvJm9r3X4+Qm\n",
       "avEuG6f+7kCgoK4/T2Zkbwe5CYtkACuUtq1Q7pc6DVswvO6CS3OXtKN6j8DX7mxG+/hRYPvC7wxS\n",
       "RowT9cQmenkqImo2IP2sHGo0wj3FLAILCyOSVijLcPcRU+L2xhPs8gi6UScqojmrl8Q5ZS35xM6i\n",
       "Yyrj0HiKRbgYj+j4RI29xyc16dKX7jvUJC+WQ5f+Gh48RSFtZT9x7hqfnXI+0WQFPUYhBd5JOmQs\n",
       "xdl4/2sNu5X5z3x21SlCxT/49TeDN12aJSvhj78OilqF7QbcX/43L2lchMT/AbZUvjQj0VzeAAAA\n",
       "AElFTkSuQmCC\n",
       "\" style=\"display:inline;vertical-align:middle;\" /></a></span>"
      ],
      "text/plain": [
       "{a in RealPos, b in RealPos, b > 5, a > 1} |- log_a(b) > log_a(5)"
      ]
     },
     "metadata": {},
     "output_type": "display_data"
    }
   ],
   "source": [
    "log_a_of_b.bound_via_operand_bound(greater(b, five),\n",
    "        assumptions=[InSet(a, RealPos), InSet(b, RealPos), greater(a, one), greater(b, five)])"
   ]
  },
  {
   "cell_type": "code",
   "execution_count": 8,
   "metadata": {},
   "outputs": [],
   "source": [
    "%end demonstrations"
   ]
  }
 ],
 "metadata": {
  "kernelspec": {
   "display_name": "Python 3",
   "language": "python",
   "name": "python3"
  }
 },
 "nbformat": 4,
 "nbformat_minor": 0
}