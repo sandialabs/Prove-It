{
 "cells": [
  {
   "cell_type": "markdown",
   "metadata": {},
   "source": [
    "Expression of type <a class=\"ProveItLink\" href=\"../../../../../../../doc/html/api/proveit.ExprTuple.html\">ExprTuple</a>\n",
    "=======================\n",
    "# from the theory of <a class=\"ProveItLink\" href=\"../../../_theory_nbs_/theory.ipynb\">proveit.numbers.logarithms</a>"
   ]
  },
  {
   "cell_type": "code",
   "execution_count": 1,
   "metadata": {},
   "outputs": [],
   "source": [
    "import proveit\n",
    "# Automation is not needed when building an expression:\n",
    "proveit.defaults.automation = False # This will speed things up.\n",
    "proveit.defaults.inline_pngs = False # Makes files smaller.\n",
    "%load_expr # Load the stored expression as 'stored_expr'\n",
    "# import Expression classes needed to build the expression\n",
    "from proveit import Conditional, ExprTuple, Lambda, a, x, y\n",
    "from proveit.logic import And, InSet\n",
    "from proveit.numbers import Less, Log, RealPos, greater, one"
   ]
  },
  {
   "cell_type": "code",
   "execution_count": 2,
   "metadata": {},
   "outputs": [
    {
     "data": {
      "text/html": [
       "<strong id=\"expr\">expr:</strong> <a class=\"ProveItLink\" href=\"expr.ipynb\"><img src=\"expr.png\" style=\"display:inline;vertical-align:middle;\" /></a><br>"
      ],
      "text/plain": [
       "<IPython.core.display.HTML object>"
      ]
     },
     "metadata": {},
     "output_type": "display_data"
    }
   ],
   "source": [
    "# build up the expression from sub-expressions\n",
    "expr = ExprTuple(Lambda([a, x, y], Conditional(Less(Log(a, x), Log(a, y)), And(InSet(a, RealPos), InSet(x, RealPos), InSet(y, RealPos), Less(x, y), greater(a, one)))))"
   ]
  },
  {
   "cell_type": "code",
   "execution_count": 3,
   "metadata": {},
   "outputs": [
    {
     "name": "stdout",
     "output_type": "stream",
     "text": [
      "Passed sanity check: expr matches stored_expr\n"
     ]
    }
   ],
   "source": [
    "# check that the built expression is the same as the stored expression\n",
    "assert expr == stored_expr\n",
    "assert expr._style_id == stored_expr._style_id\n",
    "print(\"Passed sanity check: expr matches stored_expr\")"
   ]
  },
  {
   "cell_type": "code",
   "execution_count": 4,
   "metadata": {},
   "outputs": [
    {
     "name": "stdout",
     "output_type": "stream",
     "text": [
      "\\left(\\left(a, x, y\\right) \\mapsto \\left\\{\\textrm{log}_a\\left(x\\right) < \\textrm{log}_a\\left(y\\right) \\textrm{ if } a \\in \\mathbb{R}^+ ,  x \\in \\mathbb{R}^+ ,  y \\in \\mathbb{R}^+ ,  x < y ,  a > 1\\right..\\right)\n"
     ]
    }
   ],
   "source": [
    "# Show the LaTeX representation of the expression for convenience if you need it.\n",
    "print(stored_expr.latex())"
   ]
  },
  {
   "cell_type": "code",
   "execution_count": 5,
   "metadata": {},
   "outputs": [
    {
     "data": {
      "text/html": [
       "no style options"
      ],
      "text/plain": [
       "no style options"
      ]
     },
     "metadata": {},
     "output_type": "display_data"
    }
   ],
   "source": [
    "stored_expr.style_options()"
   ]
  },
  {
   "cell_type": "code",
   "execution_count": 6,
   "metadata": {},
   "outputs": [
    {
     "data": {
      "text/html": [
       "<table><tr><th>&nbsp;</th><th>core type</th><th>sub-expressions</th><th>expression</th></tr>\n",
       "<tr><td>0</td><td>ExprTuple</td><td>1</td><td><a class=\"ProveItLink\" href=\"expr.ipynb\"><img src=\"expr.png\" style=\"display:inline;vertical-align:middle;\" /></a></td></tr>\n",
       "<tr><td>1</td><td>Lambda</td><td>parameters:&nbsp;2<br>body:&nbsp;3<br></td><td><a class=\"ProveItLink\" href=\"../cac8992a5397268e7f7e59b1f608b34a8fe9ceb30/expr.ipynb\"><img src=\"../cac8992a5397268e7f7e59b1f608b34a8fe9ceb30/expr.png\" style=\"display:inline;vertical-align:middle;\" /></a></td></tr>\n",
       "<tr><td>2</td><td>ExprTuple</td><td>30, 27, 28</td><td><a class=\"ProveItLink\" href=\"../30c1d214acb0a05da09968caa7ff905d11d7f4910/expr.ipynb\"><img src=\"../30c1d214acb0a05da09968caa7ff905d11d7f4910/expr.png\" style=\"display:inline;vertical-align:middle;\" /></a></td></tr>\n",
       "<tr><td>3</td><td>Conditional</td><td>value:&nbsp;4<br>condition:&nbsp;5<br></td><td><a class=\"ProveItLink\" href=\"../e413143ca6261f9235bcb4b830ef8dd144b3abd30/expr.ipynb\"><img src=\"../e413143ca6261f9235bcb4b830ef8dd144b3abd30/expr.png\" style=\"display:inline;vertical-align:middle;\" /></a></td></tr>\n",
       "<tr><td>4</td><td>Operation</td><td>operator:&nbsp;24<br>operands:&nbsp;6<br></td><td><a class=\"ProveItLink\" href=\"../12476fc4af952b2a6cfc5f9d629f4a8bc3af72100/expr.ipynb\"><img src=\"../12476fc4af952b2a6cfc5f9d629f4a8bc3af72100/expr.png\" style=\"display:inline;vertical-align:middle;\" /></a></td></tr>\n",
       "<tr><td>5</td><td>Operation</td><td>operator:&nbsp;7<br>operands:&nbsp;8<br></td><td><a class=\"ProveItLink\" href=\"../334515874f77ab41a845aba393723821ca4df5180/expr.ipynb\"><img src=\"../334515874f77ab41a845aba393723821ca4df5180/expr.png\" style=\"display:inline;vertical-align:middle;\" /></a></td></tr>\n",
       "<tr><td>6</td><td>ExprTuple</td><td>9, 10</td><td><a class=\"ProveItLink\" href=\"../70f890771d75f43be5a80cd41651bcf3c365538b0/expr.ipynb\"><img src=\"../70f890771d75f43be5a80cd41651bcf3c365538b0/expr.png\" style=\"display:inline;vertical-align:middle;\" /></a></td></tr>\n",
       "<tr><td>7</td><td>Literal</td><td></td><td><a class=\"ProveItLink\" href=\"../../../../../logic/booleans/conjunction/__pv_it/common/42118ff318bd65d98b1393f64ce7c2269feef76e0/expr.ipynb\"><img src=\"../../../../../logic/booleans/conjunction/__pv_it/common/42118ff318bd65d98b1393f64ce7c2269feef76e0/expr.png\" style=\"display:inline;vertical-align:middle;\" /></a></td></tr>\n",
       "<tr><td>8</td><td>ExprTuple</td><td>11, 12, 13, 14, 15</td><td><a class=\"ProveItLink\" href=\"../383c90e67ed102511f385bbee620ecd8af9dedc30/expr.ipynb\"><img src=\"../383c90e67ed102511f385bbee620ecd8af9dedc30/expr.png\" style=\"display:inline;vertical-align:middle;\" /></a></td></tr>\n",
       "<tr><td>9</td><td>Operation</td><td>operator:&nbsp;17<br>operands:&nbsp;16<br></td><td><a class=\"ProveItLink\" href=\"../721de3c423bacb0e3094574e2a791cc6d8ea6b780/expr.ipynb\"><img src=\"../721de3c423bacb0e3094574e2a791cc6d8ea6b780/expr.png\" style=\"display:inline;vertical-align:middle;\" /></a></td></tr>\n",
       "<tr><td>10</td><td>Operation</td><td>operator:&nbsp;17<br>operands:&nbsp;18<br></td><td><a class=\"ProveItLink\" href=\"../07802884279977771942018eece3f3a728f0cf490/expr.ipynb\"><img src=\"../07802884279977771942018eece3f3a728f0cf490/expr.png\" style=\"display:inline;vertical-align:middle;\" /></a></td></tr>\n",
       "<tr><td>11</td><td>Operation</td><td>operator:&nbsp;21<br>operands:&nbsp;19<br></td><td><a class=\"ProveItLink\" href=\"../5a0c211ed8c0f89e15d717d80d4627baae693acb0/expr.ipynb\"><img src=\"../5a0c211ed8c0f89e15d717d80d4627baae693acb0/expr.png\" style=\"display:inline;vertical-align:middle;\" /></a></td></tr>\n",
       "<tr><td>12</td><td>Operation</td><td>operator:&nbsp;21<br>operands:&nbsp;20<br></td><td><a class=\"ProveItLink\" href=\"../035b7dc808b6932bfddd867383528b54b30ff3c50/expr.ipynb\"><img src=\"../035b7dc808b6932bfddd867383528b54b30ff3c50/expr.png\" style=\"display:inline;vertical-align:middle;\" /></a></td></tr>\n",
       "<tr><td>13</td><td>Operation</td><td>operator:&nbsp;21<br>operands:&nbsp;22<br></td><td><a class=\"ProveItLink\" href=\"../f7520a13bd7584f005356ec359b6594d35c956560/expr.ipynb\"><img src=\"../f7520a13bd7584f005356ec359b6594d35c956560/expr.png\" style=\"display:inline;vertical-align:middle;\" /></a></td></tr>\n",
       "<tr><td>14</td><td>Operation</td><td>operator:&nbsp;24<br>operands:&nbsp;23<br></td><td><a class=\"ProveItLink\" href=\"../8846042a23bd4715f8e6849c9188a77fefec509b0/expr.ipynb\"><img src=\"../8846042a23bd4715f8e6849c9188a77fefec509b0/expr.png\" style=\"display:inline;vertical-align:middle;\" /></a></td></tr>\n",
       "<tr><td>15</td><td>Operation</td><td>operator:&nbsp;24<br>operands:&nbsp;25<br></td><td><a class=\"ProveItLink\" href=\"../e6ed1880d8a5adc965bd31595086d71670c4cffd0/expr.ipynb\"><img src=\"../e6ed1880d8a5adc965bd31595086d71670c4cffd0/expr.png\" style=\"display:inline;vertical-align:middle;\" /></a></td></tr>\n",
       "<tr><td>16</td><td>ExprTuple</td><td>30, 27</td><td><a class=\"ProveItLink\" href=\"../16542dff4296b36f053bf5d488afb46dffba9b230/expr.ipynb\"><img src=\"../16542dff4296b36f053bf5d488afb46dffba9b230/expr.png\" style=\"display:inline;vertical-align:middle;\" /></a></td></tr>\n",
       "<tr><td>17</td><td>Literal</td><td></td><td><a class=\"ProveItLink\" href=\"../../common/9f92107f896f42a4ffab3183789441dd36a0491b0/expr.ipynb\"><img src=\"../../common/9f92107f896f42a4ffab3183789441dd36a0491b0/expr.png\" style=\"display:inline;vertical-align:middle;\" /></a></td></tr>\n",
       "<tr><td>18</td><td>ExprTuple</td><td>30, 28</td><td><a class=\"ProveItLink\" href=\"../ef6376c7c6407225d32b6b693cda698fb64ddaa30/expr.ipynb\"><img src=\"../ef6376c7c6407225d32b6b693cda698fb64ddaa30/expr.png\" style=\"display:inline;vertical-align:middle;\" /></a></td></tr>\n",
       "<tr><td>19</td><td>ExprTuple</td><td>30, 26</td><td><a class=\"ProveItLink\" href=\"../caea83d54eb58dbad91ef10a83b3aa6f91eff2820/expr.ipynb\"><img src=\"../caea83d54eb58dbad91ef10a83b3aa6f91eff2820/expr.png\" style=\"display:inline;vertical-align:middle;\" /></a></td></tr>\n",
       "<tr><td>20</td><td>ExprTuple</td><td>27, 26</td><td><a class=\"ProveItLink\" href=\"../f51aa1be41cb959917c41325a60f4a9a24e23a6e0/expr.ipynb\"><img src=\"../f51aa1be41cb959917c41325a60f4a9a24e23a6e0/expr.png\" style=\"display:inline;vertical-align:middle;\" /></a></td></tr>\n",
       "<tr><td>21</td><td>Literal</td><td></td><td><a class=\"ProveItLink\" href=\"../../../../../logic/sets/membership/__pv_it/common/477487d8796864d23d5810f83761435f25167f690/expr.ipynb\"><img src=\"../../../../../logic/sets/membership/__pv_it/common/477487d8796864d23d5810f83761435f25167f690/expr.png\" style=\"display:inline;vertical-align:middle;\" /></a></td></tr>\n",
       "<tr><td>22</td><td>ExprTuple</td><td>28, 26</td><td><a class=\"ProveItLink\" href=\"../e3066864cb9809a9d0d90e8e424d5f5192ced3bf0/expr.ipynb\"><img src=\"../e3066864cb9809a9d0d90e8e424d5f5192ced3bf0/expr.png\" style=\"display:inline;vertical-align:middle;\" /></a></td></tr>\n",
       "<tr><td>23</td><td>ExprTuple</td><td>27, 28</td><td><a class=\"ProveItLink\" href=\"../bbaa48af4605eceb7fbc4af345a1eb6de480e1c50/expr.ipynb\"><img src=\"../bbaa48af4605eceb7fbc4af345a1eb6de480e1c50/expr.png\" style=\"display:inline;vertical-align:middle;\" /></a></td></tr>\n",
       "<tr><td>24</td><td>Literal</td><td></td><td><a class=\"ProveItLink\" href=\"../../../../ordering/__pv_it/common/fa503ed52033522c609eef1cf3e1b45796489da50/expr.ipynb\"><img src=\"../../../../ordering/__pv_it/common/fa503ed52033522c609eef1cf3e1b45796489da50/expr.png\" style=\"display:inline;vertical-align:middle;\" /></a></td></tr>\n",
       "<tr><td>25</td><td>ExprTuple</td><td>29, 30</td><td><a class=\"ProveItLink\" href=\"../c6d85f532ec5cb789b4fa75a0272e267fe9ddca70/expr.ipynb\"><img src=\"../c6d85f532ec5cb789b4fa75a0272e267fe9ddca70/expr.png\" style=\"display:inline;vertical-align:middle;\" /></a></td></tr>\n",
       "<tr><td>26</td><td>Literal</td><td></td><td><a class=\"ProveItLink\" href=\"../../../../number_sets/real_numbers/__pv_it/common/174917e13d50b91c585b7f765a2896383a3ae8010/expr.ipynb\"><img src=\"../../../../number_sets/real_numbers/__pv_it/common/174917e13d50b91c585b7f765a2896383a3ae8010/expr.png\" style=\"display:inline;vertical-align:middle;\" /></a></td></tr>\n",
       "<tr><td>27</td><td>Variable</td><td></td><td><a class=\"ProveItLink\" href=\"../../../../../__pv_it/common/a0d9d672aa5e272d907247690c152cc2c6daafb70/expr.ipynb\"><img src=\"../../../../../__pv_it/common/a0d9d672aa5e272d907247690c152cc2c6daafb70/expr.png\" style=\"display:inline;vertical-align:middle;\" /></a></td></tr>\n",
       "<tr><td>28</td><td>Variable</td><td></td><td><a class=\"ProveItLink\" href=\"../../../../../__pv_it/common/ff7dba4ef0bbe791ab573bf2d9c220a304399ac80/expr.ipynb\"><img src=\"../../../../../__pv_it/common/ff7dba4ef0bbe791ab573bf2d9c220a304399ac80/expr.png\" style=\"display:inline;vertical-align:middle;\" /></a></td></tr>\n",
       "<tr><td>29</td><td>Literal</td><td></td><td><a class=\"ProveItLink\" href=\"../../../../numerals/__pv_it/common/682157d4892d216d9e5626ed533aff9b56b9506e0/expr.ipynb\"><img src=\"../../../../numerals/__pv_it/common/682157d4892d216d9e5626ed533aff9b56b9506e0/expr.png\" style=\"display:inline;vertical-align:middle;\" /></a></td></tr>\n",
       "<tr><td>30</td><td>Variable</td><td></td><td><a class=\"ProveItLink\" href=\"../../../../../__pv_it/common/c06c606ec12678c58933ac85412ecadc2ae28be60/expr.ipynb\"><img src=\"../../../../../__pv_it/common/c06c606ec12678c58933ac85412ecadc2ae28be60/expr.png\" style=\"display:inline;vertical-align:middle;\" /></a></td></tr>\n",
       "</table>\n"
      ],
      "text/plain": [
       "0. ((a, x, y) -> {log_a(x) < log_a(y) if a in RealPos ,  x in RealPos ,  y in RealPos ,  x < y ,  a > 1.)\n",
       "   core type: ExprTuple\n",
       "   sub-expressions: 1\n",
       "1. (a, x, y) -> {log_a(x) < log_a(y) if a in RealPos ,  x in RealPos ,  y in RealPos ,  x < y ,  a > 1.\n",
       "   core type: Lambda\n",
       "   parameters: 2\\n   body: 3\n",
       "2. (a, x, y)\n",
       "   core type: ExprTuple\n",
       "   sub-expressions: 30, 27, 28\n",
       "3. {log_a(x) < log_a(y) if a in RealPos ,  x in RealPos ,  y in RealPos ,  x < y ,  a > 1.\n",
       "   core type: Conditional\n",
       "   value: 4\n",
       "   condition: 5\n",
       "4. log_a(x) < log_a(y)\n",
       "   core type: Operation\n",
       "   operator: 24\n",
       "   operands: 6\n",
       "5. (a in RealPos) and (x in RealPos) and (y in RealPos) and (x < y) and (a > 1)\n",
       "   core type: Operation\n",
       "   operator: 7\n",
       "   operands: 8\n",
       "6. (log_a(x), log_a(y))\n",
       "   core type: ExprTuple\n",
       "   sub-expressions: 9, 10\n",
       "7. and\n",
       "   core type: Literal\n",
       "   sub-expressions: \n",
       "8. (a in RealPos, x in RealPos, y in RealPos, x < y, a > 1)\n",
       "   core type: ExprTuple\n",
       "   sub-expressions: 11, 12, 13, 14, 15\n",
       "9. log_a(x)\n",
       "   core type: Operation\n",
       "   operator: 17\n",
       "   operands: 16\n",
       "10. log_a(y)\n",
       "    core type: Operation\n",
       "    operator: 17\n",
       "    operands: 18\n",
       "11. a in RealPos\n",
       "    core type: Operation\n",
       "    operator: 21\n",
       "    operands: 19\n",
       "12. x in RealPos\n",
       "    core type: Operation\n",
       "    operator: 21\n",
       "    operands: 20\n",
       "13. y in RealPos\n",
       "    core type: Operation\n",
       "    operator: 21\n",
       "    operands: 22\n",
       "14. x < y\n",
       "    core type: Operation\n",
       "    operator: 24\n",
       "    operands: 23\n",
       "15. a > 1\n",
       "    core type: Operation\n",
       "    operator: 24\n",
       "    operands: 25\n",
       "16. (a, x)\n",
       "    core type: ExprTuple\n",
       "    sub-expressions: 30, 27\n",
       "17. log\n",
       "    core type: Literal\n",
       "    sub-expressions: \n",
       "18. (a, y)\n",
       "    core type: ExprTuple\n",
       "    sub-expressions: 30, 28\n",
       "19. (a, RealPos)\n",
       "    core type: ExprTuple\n",
       "    sub-expressions: 30, 26\n",
       "20. (x, RealPos)\n",
       "    core type: ExprTuple\n",
       "    sub-expressions: 27, 26\n",
       "21. in\n",
       "    core type: Literal\n",
       "    sub-expressions: \n",
       "22. (y, RealPos)\n",
       "    core type: ExprTuple\n",
       "    sub-expressions: 28, 26\n",
       "23. (x, y)\n",
       "    core type: ExprTuple\n",
       "    sub-expressions: 27, 28\n",
       "24. <\n",
       "    core type: Literal\n",
       "    sub-expressions: \n",
       "25. (1, a)\n",
       "    core type: ExprTuple\n",
       "    sub-expressions: 29, 30\n",
       "26. RealPos\n",
       "    core type: Literal\n",
       "    sub-expressions: \n",
       "27. x\n",
       "    core type: Variable\n",
       "    sub-expressions: \n",
       "28. y\n",
       "    core type: Variable\n",
       "    sub-expressions: \n",
       "29. 1\n",
       "    core type: Literal\n",
       "    sub-expressions: \n",
       "30. a\n",
       "    core type: Variable\n",
       "    sub-expressions: "
      ]
     },
     "metadata": {},
     "output_type": "display_data"
    }
   ],
   "source": [
    "# display the expression information\n",
    "stored_expr.expr_info()"
   ]
  },
  {
   "cell_type": "code",
   "execution_count": null,
   "metadata": {},
   "outputs": [],
   "source": []
  }
 ],
 "metadata": {
  "kernelspec": {
   "display_name": "Python 3",
   "language": "python",
   "name": "python3"
  }
 },
 "nbformat": 4,
 "nbformat_minor": 0
}