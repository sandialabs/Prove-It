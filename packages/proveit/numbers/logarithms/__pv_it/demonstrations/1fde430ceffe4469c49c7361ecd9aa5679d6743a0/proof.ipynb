{
 "cells": [
  {
   "cell_type": "markdown",
   "metadata": {},
   "source": [
    "Show the Proof\n",
    "========"
   ]
  },
  {
   "cell_type": "code",
   "execution_count": 1,
   "metadata": {},
   "outputs": [
    {
     "data": {
      "text/html": [
       "<table><tr><th>&nbsp;</th><th>step type</th><th>requirements</th><th>statement</th></tr>\n",
       "<tr><td><a name=\"proveit.numbers.logarithms.demonstrations.1fde430ceffe4469c49c7361ecd9aa5679d6743a0_step0\">0</a></td><td>instantiation</td><td><a href=\"#proveit.numbers.logarithms.demonstrations.1fde430ceffe4469c49c7361ecd9aa5679d6743a0_step1\">1</a>, <a href=\"#proveit.numbers.logarithms.demonstrations.1fde430ceffe4469c49c7361ecd9aa5679d6743a0_step2\">2</a>, <a href=\"#proveit.numbers.logarithms.demonstrations.1fde430ceffe4469c49c7361ecd9aa5679d6743a0_step3\">3</a>, <a href=\"#proveit.numbers.logarithms.demonstrations.1fde430ceffe4469c49c7361ecd9aa5679d6743a0_step4\">4</a></td><td><span style=\"font-size:20px;\"><a class=\"ProveItLink\" href=\"../5a0c211ed8c0f89e15d717d80d4627baae693acb0/expr.ipynb\"><img src=\"../5a0c211ed8c0f89e15d717d80d4627baae693acb0/expr.png\" style=\"display:inline;vertical-align:middle;\" /></a>, <a class=\"ProveItLink\" href=\"../b9cae19a628b9412bdeba3850806ec1015c9b6ae0/expr.ipynb\"><img src=\"../b9cae19a628b9412bdeba3850806ec1015c9b6ae0/expr.png\" style=\"display:inline;vertical-align:middle;\" /></a>, <a class=\"ProveItLink\" href=\"../0253dbed1258e1c128ba9f6ec6b2a0640e2a18320/expr.ipynb\"><img src=\"../0253dbed1258e1c128ba9f6ec6b2a0640e2a18320/expr.png\" style=\"display:inline;vertical-align:middle;\" /></a> <a class=\"ProveItLink\" href=\"proof.ipynb\" style=\"text-decoration: none\">&nbsp;&#x22A2;&nbsp;&nbsp;</a><a class=\"ProveItLink\" href=\"../../theorems/7180dc5788101123bbcbcc4197824687234814d20/expr.ipynb\"><img src=\"../../theorems/7180dc5788101123bbcbcc4197824687234814d20/expr.png\" style=\"display:inline;vertical-align:middle;\" /></a></span></td></tr>\n",
       "<tr><td>&nbsp;</td><td colspan=4 style=\"text-align:left\"><span style=\"font-size:20px;\"><a class=\"ProveItLink\" href=\"../../../../../__pv_it/common/c06c606ec12678c58933ac85412ecadc2ae28be60/expr.ipynb\"><img src=\"../../../../../__pv_it/common/c06c606ec12678c58933ac85412ecadc2ae28be60/expr.png\" style=\"display:inline;vertical-align:middle;\" /></a> : <a class=\"ProveItLink\" href=\"../../../../../__pv_it/common/c06c606ec12678c58933ac85412ecadc2ae28be60/expr.ipynb\"><img src=\"../../../../../__pv_it/common/c06c606ec12678c58933ac85412ecadc2ae28be60/expr.png\" style=\"display:inline;vertical-align:middle;\" /></a>, <a class=\"ProveItLink\" href=\"../../../../../__pv_it/common/195236b98c6c564a75b5dbada74b173bc52d5c3e0/expr.ipynb\"><img src=\"../../../../../__pv_it/common/195236b98c6c564a75b5dbada74b173bc52d5c3e0/expr.png\" style=\"display:inline;vertical-align:middle;\" /></a> : <a class=\"ProveItLink\" href=\"../../../../../__pv_it/common/195236b98c6c564a75b5dbada74b173bc52d5c3e0/expr.ipynb\"><img src=\"../../../../../__pv_it/common/195236b98c6c564a75b5dbada74b173bc52d5c3e0/expr.png\" style=\"display:inline;vertical-align:middle;\" /></a></span></td></tr><tr><td><a name=\"proveit.numbers.logarithms.demonstrations.1fde430ceffe4469c49c7361ecd9aa5679d6743a0_step1\">1</a></td><td>theorem</td><td></td><td><span style=\"font-size:20px;\"> <a class=\"ProveItLink\" href=\"../../../_theory_nbs_/proofs/log_real_pos_real_closure/thm_proof.ipynb\" style=\"text-decoration: none\">&nbsp;&#x22A2;&nbsp;&nbsp;</a><a class=\"ProveItLink\" href=\"../../theorems/ee07d0e5e9de751db3b56e59662db10db8f53f7a0/expr.ipynb\"><img src=\"../../theorems/ee07d0e5e9de751db3b56e59662db10db8f53f7a0/expr.png\" style=\"display:inline;vertical-align:middle;\" /></a></span></td></tr>\n",
       "<tr><td>&nbsp;</td><td colspan=4 style-\"text-align:left\"><a class=\"ProveItLink\" href=\"../../../_theory_nbs_/proofs/log_real_pos_real_closure/thm_proof.ipynb\">proveit.numbers.logarithms.log_real_pos_real_closure</a></td></tr><tr><td><a name=\"proveit.numbers.logarithms.demonstrations.1fde430ceffe4469c49c7361ecd9aa5679d6743a0_step2\">2</a></td><td>assumption</td><td></td><td><span style=\"font-size:20px;\"><a class=\"ProveItLink\" href=\"../5a0c211ed8c0f89e15d717d80d4627baae693acb0/expr.ipynb\"><img src=\"../5a0c211ed8c0f89e15d717d80d4627baae693acb0/expr.png\" style=\"display:inline;vertical-align:middle;\" /></a> <a class=\"ProveItLink\" href=\"../8aa73fe7fdae46f8b1b04ad182cf0c599d16fa060/proof.ipynb\" style=\"text-decoration: none\">&nbsp;&#x22A2;&nbsp;&nbsp;</a><a class=\"ProveItLink\" href=\"../5a0c211ed8c0f89e15d717d80d4627baae693acb0/expr.ipynb\"><img src=\"../5a0c211ed8c0f89e15d717d80d4627baae693acb0/expr.png\" style=\"display:inline;vertical-align:middle;\" /></a></span></td></tr>\n",
       "<tr><td><a name=\"proveit.numbers.logarithms.demonstrations.1fde430ceffe4469c49c7361ecd9aa5679d6743a0_step3\">3</a></td><td>assumption</td><td></td><td><span style=\"font-size:20px;\"><a class=\"ProveItLink\" href=\"../b9cae19a628b9412bdeba3850806ec1015c9b6ae0/expr.ipynb\"><img src=\"../b9cae19a628b9412bdeba3850806ec1015c9b6ae0/expr.png\" style=\"display:inline;vertical-align:middle;\" /></a> <a class=\"ProveItLink\" href=\"../8216ebefc18c8f7e571909c19b4eb3c7eb90863a0/proof.ipynb\" style=\"text-decoration: none\">&nbsp;&#x22A2;&nbsp;&nbsp;</a><a class=\"ProveItLink\" href=\"../b9cae19a628b9412bdeba3850806ec1015c9b6ae0/expr.ipynb\"><img src=\"../b9cae19a628b9412bdeba3850806ec1015c9b6ae0/expr.png\" style=\"display:inline;vertical-align:middle;\" /></a></span></td></tr>\n",
       "<tr><td><a name=\"proveit.numbers.logarithms.demonstrations.1fde430ceffe4469c49c7361ecd9aa5679d6743a0_step4\">4</a></td><td>assumption</td><td></td><td><span style=\"font-size:20px;\"><a class=\"ProveItLink\" href=\"../0253dbed1258e1c128ba9f6ec6b2a0640e2a18320/expr.ipynb\"><img src=\"../0253dbed1258e1c128ba9f6ec6b2a0640e2a18320/expr.png\" style=\"display:inline;vertical-align:middle;\" /></a> <a class=\"ProveItLink\" href=\"../ac905d2be711492729293710ec5553b59d691b270/proof.ipynb\" style=\"text-decoration: none\">&nbsp;&#x22A2;&nbsp;&nbsp;</a><a class=\"ProveItLink\" href=\"../0253dbed1258e1c128ba9f6ec6b2a0640e2a18320/expr.ipynb\"><img src=\"../0253dbed1258e1c128ba9f6ec6b2a0640e2a18320/expr.png\" style=\"display:inline;vertical-align:middle;\" /></a></span></td></tr>\n",
       "</table>"
      ],
      "text/plain": [
       "<proveit._core_.proof._ShowProof at 0x7f6e7891c438>"
      ]
     },
     "execution_count": 1,
     "metadata": {},
     "output_type": "execute_result"
    }
   ],
   "source": [
    "import proveit\n",
    "# Automation is not needed when only showing a stored proof:\n",
    "proveit.defaults.automation = False # This will speed things up.\n",
    "proveit.defaults.inline_pngs = False # Makes files smaller.\n",
    "%show_proof"
   ]
  },
  {
   "cell_type": "code",
   "execution_count": null,
   "metadata": {},
   "outputs": [],
   "source": []
  }
 ],
 "metadata": {
  "kernelspec": {
   "display_name": "Python 3",
   "language": "python",
   "name": "python3"
  }
 },
 "nbformat": 4,
 "nbformat_minor": 0
}