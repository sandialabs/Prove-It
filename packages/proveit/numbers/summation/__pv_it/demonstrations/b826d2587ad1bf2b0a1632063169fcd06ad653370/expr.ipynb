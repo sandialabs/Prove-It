{
 "cells": [
  {
   "cell_type": "markdown",
   "metadata": {},
   "source": [
    "Expression of type <a class=\"ProveItLink\" href=\"../../../../../../../doc/html/api/proveit.ExprTuple.html\">ExprTuple</a>\n",
    "=======================\n",
    "# from the theory of <a class=\"ProveItLink\" href=\"../../../_theory_nbs_/theory.ipynb\">proveit.numbers.summation</a>"
   ]
  },
  {
   "cell_type": "code",
   "execution_count": 1,
   "metadata": {},
   "outputs": [],
   "source": [
    "import proveit\n",
    "# Automation is not needed when building an expression:\n",
    "proveit.defaults.automation = False # This will speed things up.\n",
    "proveit.defaults.inline_pngs = False # Makes files smaller.\n",
    "%load_expr # Load the stored expression as 'stored_expr'\n",
    "# import Expression classes needed to build the expression\n",
    "from proveit import ExprTuple, i\n",
    "from proveit.numbers import Add, Complex, Interval, Sum, six, two"
   ]
  },
  {
   "cell_type": "code",
   "execution_count": 2,
   "metadata": {},
   "outputs": [
    {
     "data": {
      "text/html": [
       "<strong id=\"expr\">expr:</strong> <a class=\"ProveItLink\" href=\"expr.ipynb\"><img src=\"expr.png\" style=\"display:inline;vertical-align:middle;\" /></a><br>"
      ],
      "text/plain": [
       "<IPython.core.display.HTML object>"
      ]
     },
     "metadata": {},
     "output_type": "display_data"
    }
   ],
   "source": [
    "# build up the expression from sub-expressions\n",
    "expr = ExprTuple(Sum(index_or_indices = [i], summand = Add(i, two), domain = Interval(two, six)), Complex)"
   ]
  },
  {
   "cell_type": "code",
   "execution_count": 3,
   "metadata": {},
   "outputs": [
    {
     "name": "stdout",
     "output_type": "stream",
     "text": [
      "Passed sanity check: expr matches stored_expr\n"
     ]
    }
   ],
   "source": [
    "# check that the built expression is the same as the stored expression\n",
    "assert expr == stored_expr\n",
    "assert expr._style_id == stored_expr._style_id\n",
    "print(\"Passed sanity check: expr matches stored_expr\")"
   ]
  },
  {
   "cell_type": "code",
   "execution_count": 4,
   "metadata": {},
   "outputs": [
    {
     "name": "stdout",
     "output_type": "stream",
     "text": [
      "\\left(\\sum_{i = 2}^{6} \\left(i + 2\\right), \\mathbb{C}\\right)\n"
     ]
    }
   ],
   "source": [
    "# Show the LaTeX representation of the expression for convenience if you need it.\n",
    "print(stored_expr.latex())"
   ]
  },
  {
   "cell_type": "code",
   "execution_count": 5,
   "metadata": {},
   "outputs": [
    {
     "data": {
      "text/html": [
       "<table>\n",
       "<tr><th>name</th><th>description</th><th>default</th><th>current value</th><th>related methods</th></tr><tr><td>wrap_positions</td><td>position(s) at which wrapping is to occur; 'n' is after the nth comma.</td><td>()</td><td>()</td><td>('with_wrapping_at',)</td></tr>\n",
       "<tr><td>justification</td><td>if any wrap positions are set, justify to the 'left', 'center', or 'right'</td><td>left</td><td>left</td><td>('with_justification',)</td></tr>\n",
       "</table>\n"
      ],
      "text/plain": [
       "style name: wrap_positions\n",
       "description: position(s) at which wrapping is to occur; 'n' is after the nth comma.\n",
       "default: ()\n",
       "current value: ()\n",
       "related methods: ('with_wrapping_at',)\n",
       "style name: justification\n",
       "description: if any wrap positions are set, justify to the 'left', 'center', or 'right'\n",
       "default: left\n",
       "current value: left\n",
       "related methods: ('with_justification',)"
      ]
     },
     "metadata": {},
     "output_type": "display_data"
    }
   ],
   "source": [
    "stored_expr.style_options()"
   ]
  },
  {
   "cell_type": "code",
   "execution_count": 6,
   "metadata": {},
   "outputs": [
    {
     "data": {
      "text/html": [
       "<table><tr><th>&nbsp;</th><th>core type</th><th>sub-expressions</th><th>expression</th></tr>\n",
       "<tr><td>0</td><td>ExprTuple</td><td>1, 2</td><td><a class=\"ProveItLink\" href=\"expr.ipynb\"><img src=\"expr.png\" style=\"display:inline;vertical-align:middle;\" /></a></td></tr>\n",
       "<tr><td>1</td><td>Operation</td><td>operator:&nbsp;3<br>operand:&nbsp;5<br></td><td><a class=\"ProveItLink\" href=\"../60f73a9fdcef0f946c010555490790086464ad5e0/expr.ipynb\"><img src=\"../60f73a9fdcef0f946c010555490790086464ad5e0/expr.png\" style=\"display:inline;vertical-align:middle;\" /></a></td></tr>\n",
       "<tr><td>2</td><td>Literal</td><td></td><td><a class=\"ProveItLink\" href=\"../../../../number_sets/complex_numbers/__pv_it/common/d18a028138f659eda00de597c28a3447fe87eb100/expr.ipynb\"><img src=\"../../../../number_sets/complex_numbers/__pv_it/common/d18a028138f659eda00de597c28a3447fe87eb100/expr.png\" style=\"display:inline;vertical-align:middle;\" /></a></td></tr>\n",
       "<tr><td>3</td><td>Literal</td><td></td><td><a class=\"ProveItLink\" href=\"../../common/14fe61cccc388f91dfd83d3ca31cf27448cc070a0/expr.ipynb\"><img src=\"../../common/14fe61cccc388f91dfd83d3ca31cf27448cc070a0/expr.png\" style=\"display:inline;vertical-align:middle;\" /></a></td></tr>\n",
       "<tr><td>4</td><td>ExprTuple</td><td>5</td><td><a class=\"ProveItLink\" href=\"../aa4b5c44144271c5d84e819f5ce7248b8a54890c0/expr.ipynb\"><img src=\"../aa4b5c44144271c5d84e819f5ce7248b8a54890c0/expr.png\" style=\"display:inline;vertical-align:middle;\" /></a></td></tr>\n",
       "<tr><td>5</td><td>Lambda</td><td>parameter:&nbsp;14<br>body:&nbsp;7<br></td><td><a class=\"ProveItLink\" href=\"../6cb54bbe3f62a304c77a2f4aaeb975438c11e8370/expr.ipynb\"><img src=\"../6cb54bbe3f62a304c77a2f4aaeb975438c11e8370/expr.png\" style=\"display:inline;vertical-align:middle;\" /></a></td></tr>\n",
       "<tr><td>6</td><td>ExprTuple</td><td>14</td><td><a class=\"ProveItLink\" href=\"../../../../../__pv_it/common/3b7d7ace2ced0a8261ea4d18d03aaf49e434d69d0/expr.ipynb\"><img src=\"../../../../../__pv_it/common/3b7d7ace2ced0a8261ea4d18d03aaf49e434d69d0/expr.png\" style=\"display:inline;vertical-align:middle;\" /></a></td></tr>\n",
       "<tr><td>7</td><td>Conditional</td><td>value:&nbsp;8<br>condition:&nbsp;9<br></td><td><a class=\"ProveItLink\" href=\"../fdbf6937dfb89783c36d29c2e67cd64351a8bb770/expr.ipynb\"><img src=\"../fdbf6937dfb89783c36d29c2e67cd64351a8bb770/expr.png\" style=\"display:inline;vertical-align:middle;\" /></a></td></tr>\n",
       "<tr><td>8</td><td>Operation</td><td>operator:&nbsp;10<br>operands:&nbsp;11<br></td><td><a class=\"ProveItLink\" href=\"../24128158ac3bbc68b8ee4a75afd24ed2fce98d980/expr.ipynb\"><img src=\"../24128158ac3bbc68b8ee4a75afd24ed2fce98d980/expr.png\" style=\"display:inline;vertical-align:middle;\" /></a></td></tr>\n",
       "<tr><td>9</td><td>Operation</td><td>operator:&nbsp;12<br>operands:&nbsp;13<br></td><td><a class=\"ProveItLink\" href=\"../b6c4837a75a338ac486da5549bbcbee0e1c3674f0/expr.ipynb\"><img src=\"../b6c4837a75a338ac486da5549bbcbee0e1c3674f0/expr.png\" style=\"display:inline;vertical-align:middle;\" /></a></td></tr>\n",
       "<tr><td>10</td><td>Literal</td><td></td><td><a class=\"ProveItLink\" href=\"../../../../addition/__pv_it/common/4b7effaab3619a1c2c38fe2dee8601df8ec714590/expr.ipynb\"><img src=\"../../../../addition/__pv_it/common/4b7effaab3619a1c2c38fe2dee8601df8ec714590/expr.png\" style=\"display:inline;vertical-align:middle;\" /></a></td></tr>\n",
       "<tr><td>11</td><td>ExprTuple</td><td>14, 18</td><td><a class=\"ProveItLink\" href=\"../f6b83eb3317523dc13986de5fc52ed67a403af7b0/expr.ipynb\"><img src=\"../f6b83eb3317523dc13986de5fc52ed67a403af7b0/expr.png\" style=\"display:inline;vertical-align:middle;\" /></a></td></tr>\n",
       "<tr><td>12</td><td>Literal</td><td></td><td><a class=\"ProveItLink\" href=\"../../../../../logic/sets/membership/__pv_it/common/477487d8796864d23d5810f83761435f25167f690/expr.ipynb\"><img src=\"../../../../../logic/sets/membership/__pv_it/common/477487d8796864d23d5810f83761435f25167f690/expr.png\" style=\"display:inline;vertical-align:middle;\" /></a></td></tr>\n",
       "<tr><td>13</td><td>ExprTuple</td><td>14, 15</td><td><a class=\"ProveItLink\" href=\"../6aff0bbd4673704a7f5abb541fbd7597f4c5d82e0/expr.ipynb\"><img src=\"../6aff0bbd4673704a7f5abb541fbd7597f4c5d82e0/expr.png\" style=\"display:inline;vertical-align:middle;\" /></a></td></tr>\n",
       "<tr><td>14</td><td>Variable</td><td></td><td><a class=\"ProveItLink\" href=\"../../../../../__pv_it/common/ae955345c83abf786c3aff8681cd5465beae262d0/expr.ipynb\"><img src=\"../../../../../__pv_it/common/ae955345c83abf786c3aff8681cd5465beae262d0/expr.png\" style=\"display:inline;vertical-align:middle;\" /></a></td></tr>\n",
       "<tr><td>15</td><td>Operation</td><td>operator:&nbsp;16<br>operands:&nbsp;17<br></td><td><a class=\"ProveItLink\" href=\"../2ce46cefff2e6d8b5e1b5418e3935115b76147a70/expr.ipynb\"><img src=\"../2ce46cefff2e6d8b5e1b5418e3935115b76147a70/expr.png\" style=\"display:inline;vertical-align:middle;\" /></a></td></tr>\n",
       "<tr><td>16</td><td>Literal</td><td></td><td><a class=\"ProveItLink\" href=\"../../../../number_sets/integers/__pv_it/common/92f3a0a77e3c3ea8e4a5c8674edadc54e4f57d550/expr.ipynb\"><img src=\"../../../../number_sets/integers/__pv_it/common/92f3a0a77e3c3ea8e4a5c8674edadc54e4f57d550/expr.png\" style=\"display:inline;vertical-align:middle;\" /></a></td></tr>\n",
       "<tr><td>17</td><td>ExprTuple</td><td>18, 19</td><td><a class=\"ProveItLink\" href=\"../e980b79c564c7e0c5c46bbebbb24f01c90e99a190/expr.ipynb\"><img src=\"../e980b79c564c7e0c5c46bbebbb24f01c90e99a190/expr.png\" style=\"display:inline;vertical-align:middle;\" /></a></td></tr>\n",
       "<tr><td>18</td><td>Literal</td><td></td><td><a class=\"ProveItLink\" href=\"../../../../numerals/__pv_it/common/af4aab8a07465db063742696e006d04670f30cf10/expr.ipynb\"><img src=\"../../../../numerals/__pv_it/common/af4aab8a07465db063742696e006d04670f30cf10/expr.png\" style=\"display:inline;vertical-align:middle;\" /></a></td></tr>\n",
       "<tr><td>19</td><td>Literal</td><td></td><td><a class=\"ProveItLink\" href=\"../../../../numerals/__pv_it/common/3376a962e50366e1ce3b003524f11b59146ac6970/expr.ipynb\"><img src=\"../../../../numerals/__pv_it/common/3376a962e50366e1ce3b003524f11b59146ac6970/expr.png\" style=\"display:inline;vertical-align:middle;\" /></a></td></tr>\n",
       "</table>\n"
      ],
      "text/plain": [
       "0. (Sum_{i = 2}^{6} (i + 2), Complex)\n",
       "   core type: ExprTuple\n",
       "   sub-expressions: 1, 2\n",
       "1. Sum_{i = 2}^{6} (i + 2)\n",
       "   core type: Operation\n",
       "   operator: 3\n",
       "   operand: 5\n",
       "2. Complex\n",
       "   core type: Literal\n",
       "   sub-expressions: \n",
       "3. Sum\n",
       "   core type: Literal\n",
       "   sub-expressions: \n",
       "4. (i -> {i + 2 if i in {2 .. 6}.)\n",
       "   core type: ExprTuple\n",
       "   sub-expressions: 5\n",
       "5. i -> {i + 2 if i in {2 .. 6}.\n",
       "   core type: Lambda\n",
       "   parameter: 14\n",
       "   body: 7\n",
       "6. (i)\n",
       "   core type: ExprTuple\n",
       "   sub-expressions: 14\n",
       "7. {i + 2 if i in {2 .. 6}.\n",
       "   core type: Conditional\n",
       "   value: 8\n",
       "   condition: 9\n",
       "8. i + 2\n",
       "   core type: Operation\n",
       "   operator: 10\n",
       "   operands: 11\n",
       "9. i in {2 .. 6}\n",
       "   core type: Operation\n",
       "   operator: 12\n",
       "   operands: 13\n",
       "10. +\n",
       "    core type: Literal\n",
       "    sub-expressions: \n",
       "11. (i, 2)\n",
       "    core type: ExprTuple\n",
       "    sub-expressions: 14, 18\n",
       "12. in\n",
       "    core type: Literal\n",
       "    sub-expressions: \n",
       "13. (i, {2 .. 6})\n",
       "    core type: ExprTuple\n",
       "    sub-expressions: 14, 15\n",
       "14. i\n",
       "    core type: Variable\n",
       "    sub-expressions: \n",
       "15. {2 .. 6}\n",
       "    core type: Operation\n",
       "    operator: 16\n",
       "    operands: 17\n",
       "16. Interval\n",
       "    core type: Literal\n",
       "    sub-expressions: \n",
       "17. (2, 6)\n",
       "    core type: ExprTuple\n",
       "    sub-expressions: 18, 19\n",
       "18. 2\n",
       "    core type: Literal\n",
       "    sub-expressions: \n",
       "19. 6\n",
       "    core type: Literal\n",
       "    sub-expressions: "
      ]
     },
     "metadata": {},
     "output_type": "display_data"
    }
   ],
   "source": [
    "# display the expression information\n",
    "stored_expr.expr_info()"
   ]
  },
  {
   "cell_type": "code",
   "execution_count": null,
   "metadata": {},
   "outputs": [],
   "source": []
  }
 ],
 "metadata": {
  "kernelspec": {
   "display_name": "Python 3",
   "language": "python",
   "name": "python3"
  }
 },
 "nbformat": 4,
 "nbformat_minor": 0
}