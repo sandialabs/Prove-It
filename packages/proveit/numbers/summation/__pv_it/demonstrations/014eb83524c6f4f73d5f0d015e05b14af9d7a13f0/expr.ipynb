{
 "cells": [
  {
   "cell_type": "markdown",
   "metadata": {},
   "source": [
    "Expression of type <a class=\"ProveItLink\" href=\"../../../../../../../doc/html/api/proveit.ExprTuple.html\">ExprTuple</a>\n",
    "=======================\n",
    "# from the theory of <a class=\"ProveItLink\" href=\"../../../_theory_nbs_/theory.ipynb\">proveit.numbers.summation</a>"
   ]
  },
  {
   "cell_type": "code",
   "execution_count": 1,
   "metadata": {},
   "outputs": [],
   "source": [
    "import proveit\n",
    "# Automation is not needed when building an expression:\n",
    "proveit.defaults.automation = False # This will speed things up.\n",
    "proveit.defaults.inline_pngs = False # Makes files smaller.\n",
    "%load_expr # Load the stored expression as 'stored_expr'\n",
    "# import Expression classes needed to build the expression\n",
    "from proveit import Conditional, ExprRange, ExprTuple, IndexedVar, Lambda, Variable, a, c, l\n",
    "from proveit.logic import And, Equals, InSet\n",
    "from proveit.numbers import Add, Complex, Integer, Mult, Sum, one, zero"
   ]
  },
  {
   "cell_type": "code",
   "execution_count": 2,
   "metadata": {},
   "outputs": [
    {
     "data": {
      "text/html": [
       "<strong id=\"expr\">expr:</strong> <a class=\"ProveItLink\" href=\"expr.ipynb\"><img src=\"expr.png\" style=\"display:inline;vertical-align:middle;\" /></a><br>"
      ],
      "text/plain": [
       "<IPython.core.display.HTML object>"
      ]
     },
     "metadata": {},
     "output_type": "display_data"
    }
   ],
   "source": [
    "# build up the expression from sub-expressions\n",
    "sub_expr1 = Variable(\"_a\", latex_format = r\"{_{-}a}\")\n",
    "sub_expr2 = [l]\n",
    "sub_expr3 = IndexedVar(a, one)\n",
    "sub_expr4 = IndexedVar(c, sub_expr1)\n",
    "sub_expr5 = Add(l, one)\n",
    "sub_expr6 = ExprRange(sub_expr1, sub_expr4, one, zero)\n",
    "expr = ExprTuple(Lambda([sub_expr3, sub_expr6], Conditional(Equals(Mult(sub_expr3, Sum(index_or_indices = sub_expr2, summand = sub_expr5, domain = Integer), sub_expr6), Sum(index_or_indices = sub_expr2, summand = Mult(sub_expr3, sub_expr5, sub_expr6), domain = Integer)).with_wrapping_at(2), And(InSet(sub_expr3, Complex), ExprRange(sub_expr1, InSet(sub_expr4, Complex), one, zero)))))"
   ]
  },
  {
   "cell_type": "code",
   "execution_count": 3,
   "metadata": {},
   "outputs": [
    {
     "name": "stdout",
     "output_type": "stream",
     "text": [
      "Passed sanity check: expr matches stored_expr\n"
     ]
    }
   ],
   "source": [
    "# check that the built expression is the same as the stored expression\n",
    "assert expr == stored_expr\n",
    "assert expr._style_id == stored_expr._style_id\n",
    "print(\"Passed sanity check: expr matches stored_expr\")"
   ]
  },
  {
   "cell_type": "code",
   "execution_count": 4,
   "metadata": {},
   "outputs": [
    {
     "name": "stdout",
     "output_type": "stream",
     "text": [
      "\\left(\\left(a_{1}, c_{1}, c_{2}, \\ldots, c_{0}\\right) \\mapsto \\left\\{\\begin{array}{c} \\begin{array}{l} \\left(a_{1} \\cdot \\left[\\sum_{l \\in \\mathbb{Z}}~\\left(l + 1\\right)\\right]\\cdot c_{1} \\cdot  c_{2} \\cdot  \\ldots \\cdot  c_{0}\\right) =  \\\\ \\left[\\sum_{l \\in \\mathbb{Z}}~\\left(a_{1} \\cdot \\left(l + 1\\right)\\cdot c_{1} \\cdot  c_{2} \\cdot  \\ldots \\cdot  c_{0}\\right)\\right] \\end{array} \\end{array} \\textrm{ if } a_{1} \\in \\mathbb{C}, \\left(c_{1} \\in \\mathbb{C}\\right) ,  \\left(c_{2} \\in \\mathbb{C}\\right) ,  \\ldots ,  \\left(c_{0} \\in \\mathbb{C}\\right)\\right..\\right)\n"
     ]
    }
   ],
   "source": [
    "# Show the LaTeX representation of the expression for convenience if you need it.\n",
    "print(stored_expr.latex())"
   ]
  },
  {
   "cell_type": "code",
   "execution_count": 5,
   "metadata": {},
   "outputs": [
    {
     "data": {
      "text/html": [
       "no style options"
      ],
      "text/plain": [
       "no style options"
      ]
     },
     "metadata": {},
     "output_type": "display_data"
    }
   ],
   "source": [
    "stored_expr.style_options()"
   ]
  },
  {
   "cell_type": "code",
   "execution_count": 6,
   "metadata": {},
   "outputs": [
    {
     "data": {
      "text/html": [
       "<table><tr><th>&nbsp;</th><th>core type</th><th>sub-expressions</th><th>expression</th></tr>\n",
       "<tr><td>0</td><td>ExprTuple</td><td>1</td><td><a class=\"ProveItLink\" href=\"expr.ipynb\"><img src=\"expr.png\" style=\"display:inline;vertical-align:middle;\" /></a></td></tr>\n",
       "<tr><td>1</td><td>Lambda</td><td>parameters:&nbsp;2<br>body:&nbsp;3<br></td><td><a class=\"ProveItLink\" href=\"../ca03af48a8e179681c0bb8da9c32d39c19e8c2e90/expr.ipynb\"><img src=\"../ca03af48a8e179681c0bb8da9c32d39c19e8c2e90/expr.png\" style=\"display:inline;vertical-align:middle;\" /></a></td></tr>\n",
       "<tr><td>2</td><td>ExprTuple</td><td>33, 35</td><td><a class=\"ProveItLink\" href=\"../0f9e2e14f3d3e7a5e8ad65db7a778a5d431820a30/expr.ipynb\"><img src=\"../0f9e2e14f3d3e7a5e8ad65db7a778a5d431820a30/expr.png\" style=\"display:inline;vertical-align:middle;\" /></a></td></tr>\n",
       "<tr><td>3</td><td>Conditional</td><td>value:&nbsp;4<br>condition:&nbsp;5<br></td><td><a class=\"ProveItLink\" href=\"../9b2c2104a2f5ea2b6faee8c3081695a0d9de81fe0/expr.ipynb\"><img src=\"../9b2c2104a2f5ea2b6faee8c3081695a0d9de81fe0/expr.png\" style=\"display:inline;vertical-align:middle;\" /></a></td></tr>\n",
       "<tr><td>4</td><td>Operation</td><td>operator:&nbsp;6<br>operands:&nbsp;7<br></td><td><a class=\"ProveItLink\" href=\"../b002aaad3cf3dec7d0fae7d0e167dbbdd44347610/expr.ipynb\"><img src=\"../b002aaad3cf3dec7d0fae7d0e167dbbdd44347610/expr.png\" style=\"display:inline;vertical-align:middle;\" /></a></td></tr>\n",
       "<tr><td>5</td><td>Operation</td><td>operator:&nbsp;8<br>operands:&nbsp;9<br></td><td><a class=\"ProveItLink\" href=\"../6bb1975b06a7019d64bd5f7620c20cdf275ab45c0/expr.ipynb\"><img src=\"../6bb1975b06a7019d64bd5f7620c20cdf275ab45c0/expr.png\" style=\"display:inline;vertical-align:middle;\" /></a></td></tr>\n",
       "<tr><td>6</td><td>Literal</td><td></td><td><a class=\"ProveItLink\" href=\"../../../../../logic/equality/__pv_it/common/fb96dc12b2aa8801dda64d0132b396c63d1502bb0/expr.ipynb\"><img src=\"../../../../../logic/equality/__pv_it/common/fb96dc12b2aa8801dda64d0132b396c63d1502bb0/expr.png\" style=\"display:inline;vertical-align:middle;\" /></a></td></tr>\n",
       "<tr><td>7</td><td>ExprTuple</td><td>10, 11</td><td><a class=\"ProveItLink\" href=\"../a28fc38ea60d83bfeea109d17075229b979b54900/expr.ipynb\"><img src=\"../a28fc38ea60d83bfeea109d17075229b979b54900/expr.png\" style=\"display:inline;vertical-align:middle;\" /></a></td></tr>\n",
       "<tr><td>8</td><td>Literal</td><td></td><td><a class=\"ProveItLink\" href=\"../../../../../logic/booleans/conjunction/__pv_it/common/42118ff318bd65d98b1393f64ce7c2269feef76e0/expr.ipynb\"><img src=\"../../../../../logic/booleans/conjunction/__pv_it/common/42118ff318bd65d98b1393f64ce7c2269feef76e0/expr.png\" style=\"display:inline;vertical-align:middle;\" /></a></td></tr>\n",
       "<tr><td>9</td><td>ExprTuple</td><td>12, 13</td><td><a class=\"ProveItLink\" href=\"../cee1908ecb1e91e3ed0824578a1d6f01940123650/expr.ipynb\"><img src=\"../cee1908ecb1e91e3ed0824578a1d6f01940123650/expr.png\" style=\"display:inline;vertical-align:middle;\" /></a></td></tr>\n",
       "<tr><td>10</td><td>Operation</td><td>operator:&nbsp;30<br>operands:&nbsp;14<br></td><td><a class=\"ProveItLink\" href=\"../1f4ae89d273226b569af46f6a8e6e1cd795cebda0/expr.ipynb\"><img src=\"../1f4ae89d273226b569af46f6a8e6e1cd795cebda0/expr.png\" style=\"display:inline;vertical-align:middle;\" /></a></td></tr>\n",
       "<tr><td>11</td><td>Operation</td><td>operator:&nbsp;21<br>operand:&nbsp;19<br></td><td><a class=\"ProveItLink\" href=\"../22d6471a5cf174c8f909b607d49d82b6b0b7e4160/expr.ipynb\"><img src=\"../22d6471a5cf174c8f909b607d49d82b6b0b7e4160/expr.png\" style=\"display:inline;vertical-align:middle;\" /></a></td></tr>\n",
       "<tr><td>12</td><td>Operation</td><td>operator:&nbsp;36<br>operands:&nbsp;16<br></td><td><a class=\"ProveItLink\" href=\"../badf56cac09390f8b1735af3fd33208f71a701d10/expr.ipynb\"><img src=\"../badf56cac09390f8b1735af3fd33208f71a701d10/expr.png\" style=\"display:inline;vertical-align:middle;\" /></a></td></tr>\n",
       "<tr><td>13</td><td>ExprRange</td><td>lambda_map:&nbsp;17<br>start_index:&nbsp;46<br>end_index:&nbsp;43<br></td><td><a class=\"ProveItLink\" href=\"../be48b74d69445d5adbe142dfd75e71ccbc0174990/expr.ipynb\"><img src=\"../be48b74d69445d5adbe142dfd75e71ccbc0174990/expr.png\" style=\"display:inline;vertical-align:middle;\" /></a></td></tr>\n",
       "<tr><td>14</td><td>ExprTuple</td><td>33, 18, 35</td><td><a class=\"ProveItLink\" href=\"../dcb8fa9bba98bacd3c4c5f7999624b957eb219b40/expr.ipynb\"><img src=\"../dcb8fa9bba98bacd3c4c5f7999624b957eb219b40/expr.png\" style=\"display:inline;vertical-align:middle;\" /></a></td></tr>\n",
       "<tr><td>15</td><td>ExprTuple</td><td>19</td><td><a class=\"ProveItLink\" href=\"../887bbaa3b2e24004fa69b6263aa8d04d90184da90/expr.ipynb\"><img src=\"../887bbaa3b2e24004fa69b6263aa8d04d90184da90/expr.png\" style=\"display:inline;vertical-align:middle;\" /></a></td></tr>\n",
       "<tr><td>16</td><td>ExprTuple</td><td>33, 27</td><td><a class=\"ProveItLink\" href=\"../8ea91df4fef01a06ba697830bf30e15b8610f4dc0/expr.ipynb\"><img src=\"../8ea91df4fef01a06ba697830bf30e15b8610f4dc0/expr.png\" style=\"display:inline;vertical-align:middle;\" /></a></td></tr>\n",
       "<tr><td>17</td><td>Lambda</td><td>parameter:&nbsp;50<br>body:&nbsp;20<br></td><td><a class=\"ProveItLink\" href=\"../../../../addition/__pv_it/theorems/11769ff4b60e8d0510fad7c63fa8ffa59b9075310/expr.ipynb\"><img src=\"../../../../addition/__pv_it/theorems/11769ff4b60e8d0510fad7c63fa8ffa59b9075310/expr.png\" style=\"display:inline;vertical-align:middle;\" /></a></td></tr>\n",
       "<tr><td>18</td><td>Operation</td><td>operator:&nbsp;21<br>operand:&nbsp;25<br></td><td><a class=\"ProveItLink\" href=\"../c5017af21cacb0bc2af3db932b86d4f43dff44f90/expr.ipynb\"><img src=\"../c5017af21cacb0bc2af3db932b86d4f43dff44f90/expr.png\" style=\"display:inline;vertical-align:middle;\" /></a></td></tr>\n",
       "<tr><td>19</td><td>Lambda</td><td>parameter:&nbsp;45<br>body:&nbsp;23<br></td><td><a class=\"ProveItLink\" href=\"../035605a4d69d3d0d1c0459de5dbd01d18e3a46fe0/expr.ipynb\"><img src=\"../035605a4d69d3d0d1c0459de5dbd01d18e3a46fe0/expr.png\" style=\"display:inline;vertical-align:middle;\" /></a></td></tr>\n",
       "<tr><td>20</td><td>Operation</td><td>operator:&nbsp;36<br>operands:&nbsp;24<br></td><td><a class=\"ProveItLink\" href=\"../../../../addition/__pv_it/theorems/9d50e77f5b4c4c8329ad6612f7e834bd2ea1b1ac0/expr.ipynb\"><img src=\"../../../../addition/__pv_it/theorems/9d50e77f5b4c4c8329ad6612f7e834bd2ea1b1ac0/expr.png\" style=\"display:inline;vertical-align:middle;\" /></a></td></tr>\n",
       "<tr><td>21</td><td>Literal</td><td></td><td><a class=\"ProveItLink\" href=\"../../common/14fe61cccc388f91dfd83d3ca31cf27448cc070a0/expr.ipynb\"><img src=\"../../common/14fe61cccc388f91dfd83d3ca31cf27448cc070a0/expr.png\" style=\"display:inline;vertical-align:middle;\" /></a></td></tr>\n",
       "<tr><td>22</td><td>ExprTuple</td><td>25</td><td><a class=\"ProveItLink\" href=\"../004f136fb7c74af0ec451bbb4629d3c86a75e3d80/expr.ipynb\"><img src=\"../004f136fb7c74af0ec451bbb4629d3c86a75e3d80/expr.png\" style=\"display:inline;vertical-align:middle;\" /></a></td></tr>\n",
       "<tr><td>23</td><td>Conditional</td><td>value:&nbsp;26<br>condition:&nbsp;32<br></td><td><a class=\"ProveItLink\" href=\"../282fa02982e6301c82320ee7bc607bca88b771ea0/expr.ipynb\"><img src=\"../282fa02982e6301c82320ee7bc607bca88b771ea0/expr.png\" style=\"display:inline;vertical-align:middle;\" /></a></td></tr>\n",
       "<tr><td>24</td><td>ExprTuple</td><td>47, 27</td><td><a class=\"ProveItLink\" href=\"../../../../addition/__pv_it/theorems/fce1cda8ada7efc19adda949cb59f381c00290830/expr.ipynb\"><img src=\"../../../../addition/__pv_it/theorems/fce1cda8ada7efc19adda949cb59f381c00290830/expr.png\" style=\"display:inline;vertical-align:middle;\" /></a></td></tr>\n",
       "<tr><td>25</td><td>Lambda</td><td>parameter:&nbsp;45<br>body:&nbsp;29<br></td><td><a class=\"ProveItLink\" href=\"../5e9b356f20127eaa46e8fb1edf0afb3624347e400/expr.ipynb\"><img src=\"../5e9b356f20127eaa46e8fb1edf0afb3624347e400/expr.png\" style=\"display:inline;vertical-align:middle;\" /></a></td></tr>\n",
       "<tr><td>26</td><td>Operation</td><td>operator:&nbsp;30<br>operands:&nbsp;31<br></td><td><a class=\"ProveItLink\" href=\"../7f3267b68a04060f02fcd3ffa5fc84c9e6a899f80/expr.ipynb\"><img src=\"../7f3267b68a04060f02fcd3ffa5fc84c9e6a899f80/expr.png\" style=\"display:inline;vertical-align:middle;\" /></a></td></tr>\n",
       "<tr><td>27</td><td>Literal</td><td></td><td><a class=\"ProveItLink\" href=\"../../../../number_sets/complex_numbers/__pv_it/common/d18a028138f659eda00de597c28a3447fe87eb100/expr.ipynb\"><img src=\"../../../../number_sets/complex_numbers/__pv_it/common/d18a028138f659eda00de597c28a3447fe87eb100/expr.png\" style=\"display:inline;vertical-align:middle;\" /></a></td></tr>\n",
       "<tr><td>28</td><td>ExprTuple</td><td>45</td><td><a class=\"ProveItLink\" href=\"../../common/039a14dbb9d0bf99f342285bcbd227a70d804d7f0/expr.ipynb\"><img src=\"../../common/039a14dbb9d0bf99f342285bcbd227a70d804d7f0/expr.png\" style=\"display:inline;vertical-align:middle;\" /></a></td></tr>\n",
       "<tr><td>29</td><td>Conditional</td><td>value:&nbsp;34<br>condition:&nbsp;32<br></td><td><a class=\"ProveItLink\" href=\"../51683edc1f81c8f01d6789eac71add428ea05aeb0/expr.ipynb\"><img src=\"../51683edc1f81c8f01d6789eac71add428ea05aeb0/expr.png\" style=\"display:inline;vertical-align:middle;\" /></a></td></tr>\n",
       "<tr><td>30</td><td>Literal</td><td></td><td><a class=\"ProveItLink\" href=\"../../../../multiplication/__pv_it/common/ed719cef37831779c16481533a4d380a2f95ab270/expr.ipynb\"><img src=\"../../../../multiplication/__pv_it/common/ed719cef37831779c16481533a4d380a2f95ab270/expr.png\" style=\"display:inline;vertical-align:middle;\" /></a></td></tr>\n",
       "<tr><td>31</td><td>ExprTuple</td><td>33, 34, 35</td><td><a class=\"ProveItLink\" href=\"../6ffab40de13a891e5abe0828500abfbab900fe9b0/expr.ipynb\"><img src=\"../6ffab40de13a891e5abe0828500abfbab900fe9b0/expr.png\" style=\"display:inline;vertical-align:middle;\" /></a></td></tr>\n",
       "<tr><td>32</td><td>Operation</td><td>operator:&nbsp;36<br>operands:&nbsp;37<br></td><td><a class=\"ProveItLink\" href=\"../7b8e14bfeec30fa2c83deb2740813fd8ea169a4c0/expr.ipynb\"><img src=\"../7b8e14bfeec30fa2c83deb2740813fd8ea169a4c0/expr.png\" style=\"display:inline;vertical-align:middle;\" /></a></td></tr>\n",
       "<tr><td>33</td><td>IndexedVar</td><td>variable:&nbsp;38<br>index:&nbsp;46<br></td><td><a class=\"ProveItLink\" href=\"../1f8322fcbca9fd1b6acf7574f143e4253bbb1c0f0/expr.ipynb\"><img src=\"../1f8322fcbca9fd1b6acf7574f143e4253bbb1c0f0/expr.png\" style=\"display:inline;vertical-align:middle;\" /></a></td></tr>\n",
       "<tr><td>34</td><td>Operation</td><td>operator:&nbsp;40<br>operands:&nbsp;41<br></td><td><a class=\"ProveItLink\" href=\"../2c379c09601b7278b55f311c88477de5c5c6fd9f0/expr.ipynb\"><img src=\"../2c379c09601b7278b55f311c88477de5c5c6fd9f0/expr.png\" style=\"display:inline;vertical-align:middle;\" /></a></td></tr>\n",
       "<tr><td>35</td><td>ExprRange</td><td>lambda_map:&nbsp;42<br>start_index:&nbsp;46<br>end_index:&nbsp;43<br></td><td><a class=\"ProveItLink\" href=\"../dba4d1c28b0d883d4fced56abac0e8cc7788808d0/expr.ipynb\"><img src=\"../dba4d1c28b0d883d4fced56abac0e8cc7788808d0/expr.png\" style=\"display:inline;vertical-align:middle;\" /></a></td></tr>\n",
       "<tr><td>36</td><td>Literal</td><td></td><td><a class=\"ProveItLink\" href=\"../../../../../logic/sets/membership/__pv_it/common/477487d8796864d23d5810f83761435f25167f690/expr.ipynb\"><img src=\"../../../../../logic/sets/membership/__pv_it/common/477487d8796864d23d5810f83761435f25167f690/expr.png\" style=\"display:inline;vertical-align:middle;\" /></a></td></tr>\n",
       "<tr><td>37</td><td>ExprTuple</td><td>45, 44</td><td><a class=\"ProveItLink\" href=\"../0498341f31b301178496a85b6309fccf2a9e24fc0/expr.ipynb\"><img src=\"../0498341f31b301178496a85b6309fccf2a9e24fc0/expr.png\" style=\"display:inline;vertical-align:middle;\" /></a></td></tr>\n",
       "<tr><td>38</td><td>Variable</td><td></td><td><a class=\"ProveItLink\" href=\"../../../../../__pv_it/common/c06c606ec12678c58933ac85412ecadc2ae28be60/expr.ipynb\"><img src=\"../../../../../__pv_it/common/c06c606ec12678c58933ac85412ecadc2ae28be60/expr.png\" style=\"display:inline;vertical-align:middle;\" /></a></td></tr>\n",
       "<tr><td>39</td><td>ExprTuple</td><td>46</td><td><a class=\"ProveItLink\" href=\"../../../../addition/subtraction/__pv_it/theorems/b9e4f0dffece176bbe2f36127440684a20e0468e0/expr.ipynb\"><img src=\"../../../../addition/subtraction/__pv_it/theorems/b9e4f0dffece176bbe2f36127440684a20e0468e0/expr.png\" style=\"display:inline;vertical-align:middle;\" /></a></td></tr>\n",
       "<tr><td>40</td><td>Literal</td><td></td><td><a class=\"ProveItLink\" href=\"../../../../addition/__pv_it/common/4b7effaab3619a1c2c38fe2dee8601df8ec714590/expr.ipynb\"><img src=\"../../../../addition/__pv_it/common/4b7effaab3619a1c2c38fe2dee8601df8ec714590/expr.png\" style=\"display:inline;vertical-align:middle;\" /></a></td></tr>\n",
       "<tr><td>41</td><td>ExprTuple</td><td>45, 46</td><td><a class=\"ProveItLink\" href=\"../fead003c58d2bb33c7f10335d21b02a04e8206210/expr.ipynb\"><img src=\"../fead003c58d2bb33c7f10335d21b02a04e8206210/expr.png\" style=\"display:inline;vertical-align:middle;\" /></a></td></tr>\n",
       "<tr><td>42</td><td>Lambda</td><td>parameter:&nbsp;50<br>body:&nbsp;47<br></td><td><a class=\"ProveItLink\" href=\"../../../../../core_expr_types/__pv_it/common/89a29b5b02ce6c37577f6352274a3d503dcdde3e0/expr.ipynb\"><img src=\"../../../../../core_expr_types/__pv_it/common/89a29b5b02ce6c37577f6352274a3d503dcdde3e0/expr.png\" style=\"display:inline;vertical-align:middle;\" /></a></td></tr>\n",
       "<tr><td>43</td><td>Literal</td><td></td><td><a class=\"ProveItLink\" href=\"../../../../numerals/__pv_it/common/dd4e19e8b134dfb293470ea55fe3589b0ab9f8040/expr.ipynb\"><img src=\"../../../../numerals/__pv_it/common/dd4e19e8b134dfb293470ea55fe3589b0ab9f8040/expr.png\" style=\"display:inline;vertical-align:middle;\" /></a></td></tr>\n",
       "<tr><td>44</td><td>Literal</td><td></td><td><a class=\"ProveItLink\" href=\"../../../../number_sets/integers/__pv_it/common/e6b4e90f9467053e055a4fd2f735c0bb79cb79300/expr.ipynb\"><img src=\"../../../../number_sets/integers/__pv_it/common/e6b4e90f9467053e055a4fd2f735c0bb79cb79300/expr.png\" style=\"display:inline;vertical-align:middle;\" /></a></td></tr>\n",
       "<tr><td>45</td><td>Variable</td><td></td><td><a class=\"ProveItLink\" href=\"../../../../../__pv_it/common/27cc275d44b4f4499fb9ccfb3fab1a98165d2fa60/expr.ipynb\"><img src=\"../../../../../__pv_it/common/27cc275d44b4f4499fb9ccfb3fab1a98165d2fa60/expr.png\" style=\"display:inline;vertical-align:middle;\" /></a></td></tr>\n",
       "<tr><td>46</td><td>Literal</td><td></td><td><a class=\"ProveItLink\" href=\"../../../../numerals/__pv_it/common/682157d4892d216d9e5626ed533aff9b56b9506e0/expr.ipynb\"><img src=\"../../../../numerals/__pv_it/common/682157d4892d216d9e5626ed533aff9b56b9506e0/expr.png\" style=\"display:inline;vertical-align:middle;\" /></a></td></tr>\n",
       "<tr><td>47</td><td>IndexedVar</td><td>variable:&nbsp;48<br>index:&nbsp;50<br></td><td><a class=\"ProveItLink\" href=\"../../../../../core_expr_types/__pv_it/common/8ffbefe913f7c934b2e3a2a12315d5900822d9d00/expr.ipynb\"><img src=\"../../../../../core_expr_types/__pv_it/common/8ffbefe913f7c934b2e3a2a12315d5900822d9d00/expr.png\" style=\"display:inline;vertical-align:middle;\" /></a></td></tr>\n",
       "<tr><td>48</td><td>Variable</td><td></td><td><a class=\"ProveItLink\" href=\"../../../../../__pv_it/common/ceef4280a2f1cc604b455b54e735507244cc62cd0/expr.ipynb\"><img src=\"../../../../../__pv_it/common/ceef4280a2f1cc604b455b54e735507244cc62cd0/expr.png\" style=\"display:inline;vertical-align:middle;\" /></a></td></tr>\n",
       "<tr><td>49</td><td>ExprTuple</td><td>50</td><td><a class=\"ProveItLink\" href=\"../../../../../core_expr_types/__pv_it/common/4b0dd6be36d76552eda6a95d5b4a27f5a5b62f900/expr.ipynb\"><img src=\"../../../../../core_expr_types/__pv_it/common/4b0dd6be36d76552eda6a95d5b4a27f5a5b62f900/expr.png\" style=\"display:inline;vertical-align:middle;\" /></a></td></tr>\n",
       "<tr><td>50</td><td>Variable</td><td></td><td><a class=\"ProveItLink\" href=\"../../../../../core_expr_types/__pv_it/common/006c465e50948aa2b52285e2de47974f741255cc0/expr.ipynb\"><img src=\"../../../../../core_expr_types/__pv_it/common/006c465e50948aa2b52285e2de47974f741255cc0/expr.png\" style=\"display:inline;vertical-align:middle;\" /></a></td></tr>\n",
       "</table>\n"
      ],
      "text/plain": [
       "0. ((a_{1}, c_{1}, c_{2}, ..., c_{0}) -> {(a_{1} * [Sum_{l in Integer} (l + 1)]* c_{1} *  c_{2} *  ... *  c_{0}) =  \\\\ [Sum_{l in Integer} (a_{1} * (l + 1)* c_{1} *  c_{2} *  ... *  c_{0})] if a_{1} in Complex, (c_{1} in Complex) ,  (c_{2} in Complex) ,  ... ,  (c_{0} in Complex).)\n",
       "   core type: ExprTuple\n",
       "   sub-expressions: 1\n",
       "1. (a_{1}, c_{1}, c_{2}, ..., c_{0}) -> {(a_{1} * [Sum_{l in Integer} (l + 1)]* c_{1} *  c_{2} *  ... *  c_{0}) =  \\\\ [Sum_{l in Integer} (a_{1} * (l + 1)* c_{1} *  c_{2} *  ... *  c_{0})] if a_{1} in Complex, (c_{1} in Complex) ,  (c_{2} in Complex) ,  ... ,  (c_{0} in Complex).\n",
       "   core type: Lambda\n",
       "   parameters: 2\\n   body: 3\n",
       "2. (a_{1},c_{1}, c_{2}, ..., c_{0})\n",
       "   core type: ExprTuple\n",
       "   sub-expressions: 33, 35\n",
       "3. {(a_{1} * [Sum_{l in Integer} (l + 1)]* c_{1} *  c_{2} *  ... *  c_{0}) =  \\\\ [Sum_{l in Integer} (a_{1} * (l + 1)* c_{1} *  c_{2} *  ... *  c_{0})] if a_{1} in Complex, (c_{1} in Complex) ,  (c_{2} in Complex) ,  ... ,  (c_{0} in Complex).\n",
       "   core type: Conditional\n",
       "   value: 4\n",
       "   condition: 5\n",
       "4. (a_{1} * [Sum_{l in Integer} (l + 1)]* c_{1} *  c_{2} *  ... *  c_{0}) =  \\\\ [Sum_{l in Integer} (a_{1} * (l + 1)* c_{1} *  c_{2} *  ... *  c_{0})]\n",
       "   core type: Operation\n",
       "   operator: 6\n",
       "   operands: 7\n",
       "5. (a_{1} in Complex)and (c_{1} in Complex) and  (c_{2} in Complex) and  ... and  (c_{0} in Complex)\n",
       "   core type: Operation\n",
       "   operator: 8\n",
       "   operands: 9\n",
       "6. =\n",
       "   core type: Literal\n",
       "   sub-expressions: \n",
       "7. (a_{1} * [Sum_{l in Integer} (l + 1)]* c_{1} *  c_{2} *  ... *  c_{0}, Sum_{l in Integer} (a_{1} * (l + 1)* c_{1} *  c_{2} *  ... *  c_{0}))\n",
       "   core type: ExprTuple\n",
       "   sub-expressions: 10, 11\n",
       "8. and\n",
       "   core type: Literal\n",
       "   sub-expressions: \n",
       "9. (a_{1} in Complex,(c_{1} in Complex), (c_{2} in Complex), ..., (c_{0} in Complex))\n",
       "   core type: ExprTuple\n",
       "   sub-expressions: 12, 13\n",
       "10. a_{1} * [Sum_{l in Integer} (l + 1)]* c_{1} *  c_{2} *  ... *  c_{0}\n",
       "    core type: Operation\n",
       "    operator: 30\n",
       "    operands: 14\n",
       "11. Sum_{l in Integer} (a_{1} * (l + 1)* c_{1} *  c_{2} *  ... *  c_{0})\n",
       "    core type: Operation\n",
       "    operator: 21\n",
       "    operand: 19\n",
       "12. a_{1} in Complex\n",
       "    core type: Operation\n",
       "    operator: 36\n",
       "    operands: 16\n",
       "13. (c_{1} in Complex), (c_{2} in Complex), ..., (c_{0} in Complex)\n",
       "    core type: ExprRange\n",
       "    lambda_map: 17\n",
       "    start_index: 46\n",
       "    end_index: 43\n",
       "14. (a_{1}, Sum_{l in Integer} (l + 1),c_{1}, c_{2}, ..., c_{0})\n",
       "    core type: ExprTuple\n",
       "    sub-expressions: 33, 18, 35\n",
       "15. (l -> {a_{1} * (l + 1)* c_{1} *  c_{2} *  ... *  c_{0} if l in Integer.)\n",
       "    core type: ExprTuple\n",
       "    sub-expressions: 19\n",
       "16. (a_{1}, Complex)\n",
       "    core type: ExprTuple\n",
       "    sub-expressions: 33, 27\n",
       "17. _a -> (c_{_a} in Complex)\n",
       "    core type: Lambda\n",
       "    parameter: 50\n",
       "    body: 20\n",
       "18. Sum_{l in Integer} (l + 1)\n",
       "    core type: Operation\n",
       "    operator: 21\n",
       "    operand: 25\n",
       "19. l -> {a_{1} * (l + 1)* c_{1} *  c_{2} *  ... *  c_{0} if l in Integer.\n",
       "    core type: Lambda\n",
       "    parameter: 45\n",
       "    body: 23\n",
       "20. c_{_a} in Complex\n",
       "    core type: Operation\n",
       "    operator: 36\n",
       "    operands: 24\n",
       "21. Sum\n",
       "    core type: Literal\n",
       "    sub-expressions: \n",
       "22. (l -> {l + 1 if l in Integer.)\n",
       "    core type: ExprTuple\n",
       "    sub-expressions: 25\n",
       "23. {a_{1} * (l + 1)* c_{1} *  c_{2} *  ... *  c_{0} if l in Integer.\n",
       "    core type: Conditional\n",
       "    value: 26\n",
       "    condition: 32\n",
       "24. (c_{_a}, Complex)\n",
       "    core type: ExprTuple\n",
       "    sub-expressions: 47, 27\n",
       "25. l -> {l + 1 if l in Integer.\n",
       "    core type: Lambda\n",
       "    parameter: 45\n",
       "    body: 29\n",
       "26. a_{1} * (l + 1)* c_{1} *  c_{2} *  ... *  c_{0}\n",
       "    core type: Operation\n",
       "    operator: 30\n",
       "    operands: 31\n",
       "27. Complex\n",
       "    core type: Literal\n",
       "    sub-expressions: \n",
       "28. (l)\n",
       "    core type: ExprTuple\n",
       "    sub-expressions: 45\n",
       "29. {l + 1 if l in Integer.\n",
       "    core type: Conditional\n",
       "    value: 34\n",
       "    condition: 32\n",
       "30. *\n",
       "    core type: Literal\n",
       "    sub-expressions: \n",
       "31. (a_{1}, l + 1,c_{1}, c_{2}, ..., c_{0})\n",
       "    core type: ExprTuple\n",
       "    sub-expressions: 33, 34, 35\n",
       "32. l in Integer\n",
       "    core type: Operation\n",
       "    operator: 36\n",
       "    operands: 37\n",
       "33. a_{1}\n",
       "    core type: IndexedVar\n",
       "variable: 38\n",
       "index: 46\n",
       "34. l + 1\n",
       "    core type: Operation\n",
       "    operator: 40\n",
       "    operands: 41\n",
       "35. c_{1}, c_{2}, ..., c_{0}\n",
       "    core type: ExprRange\n",
       "    lambda_map: 42\n",
       "    start_index: 46\n",
       "    end_index: 43\n",
       "36. in\n",
       "    core type: Literal\n",
       "    sub-expressions: \n",
       "37. (l, Integer)\n",
       "    core type: ExprTuple\n",
       "    sub-expressions: 45, 44\n",
       "38. a\n",
       "    core type: Variable\n",
       "    sub-expressions: \n",
       "39. (1)\n",
       "    core type: ExprTuple\n",
       "    sub-expressions: 46\n",
       "40. +\n",
       "    core type: Literal\n",
       "    sub-expressions: \n",
       "41. (l, 1)\n",
       "    core type: ExprTuple\n",
       "    sub-expressions: 45, 46\n",
       "42. _a -> c_{_a}\n",
       "    core type: Lambda\n",
       "    parameter: 50\n",
       "    body: 47\n",
       "43. 0\n",
       "    core type: Literal\n",
       "    sub-expressions: \n",
       "44. Integer\n",
       "    core type: Literal\n",
       "    sub-expressions: \n",
       "45. l\n",
       "    core type: Variable\n",
       "    sub-expressions: \n",
       "46. 1\n",
       "    core type: Literal\n",
       "    sub-expressions: \n",
       "47. c_{_a}\n",
       "    core type: IndexedVar\n",
       "variable: 48\n",
       "index: 50\n",
       "48. c\n",
       "    core type: Variable\n",
       "    sub-expressions: \n",
       "49. (_a)\n",
       "    core type: ExprTuple\n",
       "    sub-expressions: 50\n",
       "50. _a\n",
       "    core type: Variable\n",
       "    sub-expressions: "
      ]
     },
     "metadata": {},
     "output_type": "display_data"
    }
   ],
   "source": [
    "# display the expression information\n",
    "stored_expr.expr_info()"
   ]
  },
  {
   "cell_type": "code",
   "execution_count": null,
   "metadata": {},
   "outputs": [],
   "source": []
  }
 ],
 "metadata": {
  "kernelspec": {
   "display_name": "Python 3",
   "language": "python",
   "name": "python3"
  }
 },
 "nbformat": 4,
 "nbformat_minor": 0
}