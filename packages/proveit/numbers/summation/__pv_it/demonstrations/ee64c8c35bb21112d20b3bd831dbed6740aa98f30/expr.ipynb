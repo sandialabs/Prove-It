{
 "cells": [
  {
   "cell_type": "markdown",
   "metadata": {},
   "source": [
    "Expression of type <a class=\"ProveItLink\" href=\"../../../../../../../doc/html/api/proveit.logic.Equals.html\">Equals</a>\n",
    "=======================\n",
    "# from the theory of <a class=\"ProveItLink\" href=\"../../../_theory_nbs_/theory.ipynb\">proveit.numbers.summation</a>"
   ]
  },
  {
   "cell_type": "code",
   "execution_count": 1,
   "metadata": {},
   "outputs": [],
   "source": [
    "import proveit\n",
    "# Automation is not needed when building an expression:\n",
    "proveit.defaults.automation = False # This will speed things up.\n",
    "proveit.defaults.inline_pngs = False # Makes files smaller.\n",
    "%load_expr # Load the stored expression as 'stored_expr'\n",
    "# import Expression classes needed to build the expression\n",
    "from proveit import a, b, j\n",
    "from proveit.logic import Equals\n",
    "from proveit.numbers import Add, Interval, Sum, subtract, three"
   ]
  },
  {
   "cell_type": "code",
   "execution_count": 2,
   "metadata": {},
   "outputs": [
    {
     "data": {
      "text/html": [
       "<strong id=\"expr\">expr:</strong> <a class=\"ProveItLink\" href=\"expr.ipynb\"><img src=\"expr.png\" style=\"display:inline;vertical-align:middle;\" /></a><br>"
      ],
      "text/plain": [
       "<IPython.core.display.HTML object>"
      ]
     },
     "metadata": {},
     "output_type": "display_data"
    }
   ],
   "source": [
    "# build up the expression from sub-expressions\n",
    "sub_expr1 = [j]\n",
    "expr = Equals(Sum(index_or_indices = sub_expr1, summand = j, domain = Interval(a, b)), Sum(index_or_indices = sub_expr1, summand = subtract(j, three), domain = Interval(Add(a, three), Add(b, three))))"
   ]
  },
  {
   "cell_type": "code",
   "execution_count": 3,
   "metadata": {},
   "outputs": [
    {
     "name": "stdout",
     "output_type": "stream",
     "text": [
      "Passed sanity check: expr matches stored_expr\n"
     ]
    }
   ],
   "source": [
    "# check that the built expression is the same as the stored expression\n",
    "assert expr == stored_expr\n",
    "assert expr._style_id == stored_expr._style_id\n",
    "print(\"Passed sanity check: expr matches stored_expr\")"
   ]
  },
  {
   "cell_type": "code",
   "execution_count": 4,
   "metadata": {},
   "outputs": [
    {
     "name": "stdout",
     "output_type": "stream",
     "text": [
      "\\left(\\sum_{j = a}^{b} j\\right) = \\left(\\sum_{j = a + 3}^{b + 3} \\left(j - 3\\right)\\right)\n"
     ]
    }
   ],
   "source": [
    "# Show the LaTeX representation of the expression for convenience if you need it.\n",
    "print(stored_expr.latex())"
   ]
  },
  {
   "cell_type": "code",
   "execution_count": 5,
   "metadata": {},
   "outputs": [
    {
     "data": {
      "text/html": [
       "<table>\n",
       "<tr><th>name</th><th>description</th><th>default</th><th>current value</th><th>related methods</th></tr><tr><td>operation</td><td>'infix' or 'function' style formatting</td><td>infix</td><td>infix</td><td></td></tr>\n",
       "<tr><td>wrap_positions</td><td>position(s) at which wrapping is to occur; '2 n - 1' is after the nth operand, '2 n' is after the nth operation.</td><td>()</td><td>()</td><td>('with_wrapping_at', 'with_wrap_before_operator', 'with_wrap_after_operator', 'without_wrapping', 'wrap_positions')</td></tr>\n",
       "<tr><td>justification</td><td>if any wrap positions are set, justify to the 'left', 'center', or 'right'</td><td>center</td><td>center</td><td>('with_justification',)</td></tr>\n",
       "<tr><td>direction</td><td>Direction of the relation (normal or reversed)</td><td>normal</td><td>normal</td><td>('with_direction_reversed', 'is_reversed')</td></tr>\n",
       "</table>\n"
      ],
      "text/plain": [
       "style name: operation\n",
       "description: 'infix' or 'function' style formatting\n",
       "default: infix\n",
       "current value: infix\n",
       "related methods: ()\n",
       "style name: wrap_positions\n",
       "description: position(s) at which wrapping is to occur; '2 n - 1' is after the nth operand, '2 n' is after the nth operation.\n",
       "default: ()\n",
       "current value: ()\n",
       "related methods: ('with_wrapping_at', 'with_wrap_before_operator', 'with_wrap_after_operator', 'without_wrapping', 'wrap_positions')\n",
       "style name: justification\n",
       "description: if any wrap positions are set, justify to the 'left', 'center', or 'right'\n",
       "default: center\n",
       "current value: center\n",
       "related methods: ('with_justification',)\n",
       "style name: direction\n",
       "description: Direction of the relation (normal or reversed)\n",
       "default: normal\n",
       "current value: normal\n",
       "related methods: ('with_direction_reversed', 'is_reversed')"
      ]
     },
     "metadata": {},
     "output_type": "display_data"
    }
   ],
   "source": [
    "stored_expr.style_options()"
   ]
  },
  {
   "cell_type": "code",
   "execution_count": 6,
   "metadata": {},
   "outputs": [
    {
     "data": {
      "text/html": [
       "<table><tr><th>&nbsp;</th><th>core type</th><th>sub-expressions</th><th>expression</th></tr>\n",
       "<tr><td>0</td><td>Operation</td><td>operator:&nbsp;1<br>operands:&nbsp;2<br></td><td><a class=\"ProveItLink\" href=\"expr.ipynb\"><img src=\"expr.png\" style=\"display:inline;vertical-align:middle;\" /></a></td></tr>\n",
       "<tr><td>1</td><td>Literal</td><td></td><td><a class=\"ProveItLink\" href=\"../../../../../logic/equality/__pv_it/common/fb96dc12b2aa8801dda64d0132b396c63d1502bb0/expr.ipynb\"><img src=\"../../../../../logic/equality/__pv_it/common/fb96dc12b2aa8801dda64d0132b396c63d1502bb0/expr.png\" style=\"display:inline;vertical-align:middle;\" /></a></td></tr>\n",
       "<tr><td>2</td><td>ExprTuple</td><td>3, 4</td><td><a class=\"ProveItLink\" href=\"../709334f27056720864b6d65b2c4039e6def4779e0/expr.ipynb\"><img src=\"../709334f27056720864b6d65b2c4039e6def4779e0/expr.png\" style=\"display:inline;vertical-align:middle;\" /></a></td></tr>\n",
       "<tr><td>3</td><td>Operation</td><td>operator:&nbsp;6<br>operand:&nbsp;8<br></td><td><a class=\"ProveItLink\" href=\"../d45c6f60d36035e79669b2b9bef1182a0781166c0/expr.ipynb\"><img src=\"../d45c6f60d36035e79669b2b9bef1182a0781166c0/expr.png\" style=\"display:inline;vertical-align:middle;\" /></a></td></tr>\n",
       "<tr><td>4</td><td>Operation</td><td>operator:&nbsp;6<br>operand:&nbsp;9<br></td><td><a class=\"ProveItLink\" href=\"../c989f91ca6bbf819d327d2a54c112de6160385870/expr.ipynb\"><img src=\"../c989f91ca6bbf819d327d2a54c112de6160385870/expr.png\" style=\"display:inline;vertical-align:middle;\" /></a></td></tr>\n",
       "<tr><td>5</td><td>ExprTuple</td><td>8</td><td><a class=\"ProveItLink\" href=\"../935b3f16217866ce152c63f27e5c374424d3dd040/expr.ipynb\"><img src=\"../935b3f16217866ce152c63f27e5c374424d3dd040/expr.png\" style=\"display:inline;vertical-align:middle;\" /></a></td></tr>\n",
       "<tr><td>6</td><td>Literal</td><td></td><td><a class=\"ProveItLink\" href=\"../../common/14fe61cccc388f91dfd83d3ca31cf27448cc070a0/expr.ipynb\"><img src=\"../../common/14fe61cccc388f91dfd83d3ca31cf27448cc070a0/expr.png\" style=\"display:inline;vertical-align:middle;\" /></a></td></tr>\n",
       "<tr><td>7</td><td>ExprTuple</td><td>9</td><td><a class=\"ProveItLink\" href=\"../5940289bb90b2a46193528125da57771bbbae90a0/expr.ipynb\"><img src=\"../5940289bb90b2a46193528125da57771bbbae90a0/expr.png\" style=\"display:inline;vertical-align:middle;\" /></a></td></tr>\n",
       "<tr><td>8</td><td>Lambda</td><td>parameter:&nbsp;22<br>body:&nbsp;10<br></td><td><a class=\"ProveItLink\" href=\"../c7ef7dafcaccfcbcf67a75ee59676ccf801072110/expr.ipynb\"><img src=\"../c7ef7dafcaccfcbcf67a75ee59676ccf801072110/expr.png\" style=\"display:inline;vertical-align:middle;\" /></a></td></tr>\n",
       "<tr><td>9</td><td>Lambda</td><td>parameter:&nbsp;22<br>body:&nbsp;12<br></td><td><a class=\"ProveItLink\" href=\"../1e22718e85679d44f3126ffd3d5c3235fa82a0cd0/expr.ipynb\"><img src=\"../1e22718e85679d44f3126ffd3d5c3235fa82a0cd0/expr.png\" style=\"display:inline;vertical-align:middle;\" /></a></td></tr>\n",
       "<tr><td>10</td><td>Conditional</td><td>value:&nbsp;22<br>condition:&nbsp;13<br></td><td><a class=\"ProveItLink\" href=\"../d45dde45dd83e50fd7fc9ed86aef0fcfedb68fa80/expr.ipynb\"><img src=\"../d45dde45dd83e50fd7fc9ed86aef0fcfedb68fa80/expr.png\" style=\"display:inline;vertical-align:middle;\" /></a></td></tr>\n",
       "<tr><td>11</td><td>ExprTuple</td><td>22</td><td><a class=\"ProveItLink\" href=\"../e53e75ee8364373a10f420a7f9184b4cb67637be0/expr.ipynb\"><img src=\"../e53e75ee8364373a10f420a7f9184b4cb67637be0/expr.png\" style=\"display:inline;vertical-align:middle;\" /></a></td></tr>\n",
       "<tr><td>12</td><td>Conditional</td><td>value:&nbsp;14<br>condition:&nbsp;15<br></td><td><a class=\"ProveItLink\" href=\"../78b8c93c185763eaa93f15b504b0b6fbe55275790/expr.ipynb\"><img src=\"../78b8c93c185763eaa93f15b504b0b6fbe55275790/expr.png\" style=\"display:inline;vertical-align:middle;\" /></a></td></tr>\n",
       "<tr><td>13</td><td>Operation</td><td>operator:&nbsp;18<br>operands:&nbsp;16<br></td><td><a class=\"ProveItLink\" href=\"../f3368d85c48f86d7c5468af9c1cfdb1859ea59fe0/expr.ipynb\"><img src=\"../f3368d85c48f86d7c5468af9c1cfdb1859ea59fe0/expr.png\" style=\"display:inline;vertical-align:middle;\" /></a></td></tr>\n",
       "<tr><td>14</td><td>Operation</td><td>operator:&nbsp;32<br>operands:&nbsp;17<br></td><td><a class=\"ProveItLink\" href=\"../55a4cbc98ce6b8ce83258e3b43090445f0e8c3a60/expr.ipynb\"><img src=\"../55a4cbc98ce6b8ce83258e3b43090445f0e8c3a60/expr.png\" style=\"display:inline;vertical-align:middle;\" /></a></td></tr>\n",
       "<tr><td>15</td><td>Operation</td><td>operator:&nbsp;18<br>operands:&nbsp;19<br></td><td><a class=\"ProveItLink\" href=\"../88e7d2ff4dec41524dbad88a9c024d17dcef36b10/expr.ipynb\"><img src=\"../88e7d2ff4dec41524dbad88a9c024d17dcef36b10/expr.png\" style=\"display:inline;vertical-align:middle;\" /></a></td></tr>\n",
       "<tr><td>16</td><td>ExprTuple</td><td>22, 20</td><td><a class=\"ProveItLink\" href=\"../191976ee79817ca70b70b4ee0d60bc7e8df923050/expr.ipynb\"><img src=\"../191976ee79817ca70b70b4ee0d60bc7e8df923050/expr.png\" style=\"display:inline;vertical-align:middle;\" /></a></td></tr>\n",
       "<tr><td>17</td><td>ExprTuple</td><td>22, 21</td><td><a class=\"ProveItLink\" href=\"../3ae2ef77d1ea2ee80291f82aacd9f08dbbbf3fd80/expr.ipynb\"><img src=\"../3ae2ef77d1ea2ee80291f82aacd9f08dbbbf3fd80/expr.png\" style=\"display:inline;vertical-align:middle;\" /></a></td></tr>\n",
       "<tr><td>18</td><td>Literal</td><td></td><td><a class=\"ProveItLink\" href=\"../../../../../logic/sets/membership/__pv_it/common/477487d8796864d23d5810f83761435f25167f690/expr.ipynb\"><img src=\"../../../../../logic/sets/membership/__pv_it/common/477487d8796864d23d5810f83761435f25167f690/expr.png\" style=\"display:inline;vertical-align:middle;\" /></a></td></tr>\n",
       "<tr><td>19</td><td>ExprTuple</td><td>22, 23</td><td><a class=\"ProveItLink\" href=\"../9efdf895a56d432fd9d727514f84eef32569ddbd0/expr.ipynb\"><img src=\"../9efdf895a56d432fd9d727514f84eef32569ddbd0/expr.png\" style=\"display:inline;vertical-align:middle;\" /></a></td></tr>\n",
       "<tr><td>20</td><td>Operation</td><td>operator:&nbsp;27<br>operands:&nbsp;24<br></td><td><a class=\"ProveItLink\" href=\"../f5c47d235f382b0dff532a5e7c751fe90f9b28e70/expr.ipynb\"><img src=\"../f5c47d235f382b0dff532a5e7c751fe90f9b28e70/expr.png\" style=\"display:inline;vertical-align:middle;\" /></a></td></tr>\n",
       "<tr><td>21</td><td>Operation</td><td>operator:&nbsp;25<br>operand:&nbsp;36<br></td><td><a class=\"ProveItLink\" href=\"../9b7e2b2249e6d1dc7e4a30361acfaa7b840191130/expr.ipynb\"><img src=\"../9b7e2b2249e6d1dc7e4a30361acfaa7b840191130/expr.png\" style=\"display:inline;vertical-align:middle;\" /></a></td></tr>\n",
       "<tr><td>22</td><td>Variable</td><td></td><td><a class=\"ProveItLink\" href=\"../../../../../__pv_it/common/1ed21df18baca2f42b561a7ffbf30a2743d594650/expr.ipynb\"><img src=\"../../../../../__pv_it/common/1ed21df18baca2f42b561a7ffbf30a2743d594650/expr.png\" style=\"display:inline;vertical-align:middle;\" /></a></td></tr>\n",
       "<tr><td>23</td><td>Operation</td><td>operator:&nbsp;27<br>operands:&nbsp;28<br></td><td><a class=\"ProveItLink\" href=\"../95614b679adb43203cf8d18edf814b93251cb64e0/expr.ipynb\"><img src=\"../95614b679adb43203cf8d18edf814b93251cb64e0/expr.png\" style=\"display:inline;vertical-align:middle;\" /></a></td></tr>\n",
       "<tr><td>24</td><td>ExprTuple</td><td>34, 35</td><td><a class=\"ProveItLink\" href=\"../../../../ordering/__pv_it/theorems/3dcd5ceea6334d8cb48fe14fdae236293aa9a6050/expr.ipynb\"><img src=\"../../../../ordering/__pv_it/theorems/3dcd5ceea6334d8cb48fe14fdae236293aa9a6050/expr.png\" style=\"display:inline;vertical-align:middle;\" /></a></td></tr>\n",
       "<tr><td>25</td><td>Literal</td><td></td><td><a class=\"ProveItLink\" href=\"../../../../negation/__pv_it/common/221b3c4d1770ee9051b7c044c3f9ec61196fc34b0/expr.ipynb\"><img src=\"../../../../negation/__pv_it/common/221b3c4d1770ee9051b7c044c3f9ec61196fc34b0/expr.png\" style=\"display:inline;vertical-align:middle;\" /></a></td></tr>\n",
       "<tr><td>26</td><td>ExprTuple</td><td>36</td><td><a class=\"ProveItLink\" href=\"../b015f087af09bd65e94d0b8996588ab75ef75fd20/expr.ipynb\"><img src=\"../b015f087af09bd65e94d0b8996588ab75ef75fd20/expr.png\" style=\"display:inline;vertical-align:middle;\" /></a></td></tr>\n",
       "<tr><td>27</td><td>Literal</td><td></td><td><a class=\"ProveItLink\" href=\"../../../../number_sets/integers/__pv_it/common/92f3a0a77e3c3ea8e4a5c8674edadc54e4f57d550/expr.ipynb\"><img src=\"../../../../number_sets/integers/__pv_it/common/92f3a0a77e3c3ea8e4a5c8674edadc54e4f57d550/expr.png\" style=\"display:inline;vertical-align:middle;\" /></a></td></tr>\n",
       "<tr><td>28</td><td>ExprTuple</td><td>29, 30</td><td><a class=\"ProveItLink\" href=\"../f7b41a1797fe87d9dff94c906cdf156551c39c070/expr.ipynb\"><img src=\"../f7b41a1797fe87d9dff94c906cdf156551c39c070/expr.png\" style=\"display:inline;vertical-align:middle;\" /></a></td></tr>\n",
       "<tr><td>29</td><td>Operation</td><td>operator:&nbsp;32<br>operands:&nbsp;31<br></td><td><a class=\"ProveItLink\" href=\"../273b9d3aaa8d265116c579b796d3a14eb94119980/expr.ipynb\"><img src=\"../273b9d3aaa8d265116c579b796d3a14eb94119980/expr.png\" style=\"display:inline;vertical-align:middle;\" /></a></td></tr>\n",
       "<tr><td>30</td><td>Operation</td><td>operator:&nbsp;32<br>operands:&nbsp;33<br></td><td><a class=\"ProveItLink\" href=\"../9d1b9c9c2dbfea45c948a7be269efaeb598041b00/expr.ipynb\"><img src=\"../9d1b9c9c2dbfea45c948a7be269efaeb598041b00/expr.png\" style=\"display:inline;vertical-align:middle;\" /></a></td></tr>\n",
       "<tr><td>31</td><td>ExprTuple</td><td>34, 36</td><td><a class=\"ProveItLink\" href=\"../75b933aa77ecc6ddc66e9fde7077ecf56090dd180/expr.ipynb\"><img src=\"../75b933aa77ecc6ddc66e9fde7077ecf56090dd180/expr.png\" style=\"display:inline;vertical-align:middle;\" /></a></td></tr>\n",
       "<tr><td>32</td><td>Literal</td><td></td><td><a class=\"ProveItLink\" href=\"../../../../addition/__pv_it/common/4b7effaab3619a1c2c38fe2dee8601df8ec714590/expr.ipynb\"><img src=\"../../../../addition/__pv_it/common/4b7effaab3619a1c2c38fe2dee8601df8ec714590/expr.png\" style=\"display:inline;vertical-align:middle;\" /></a></td></tr>\n",
       "<tr><td>33</td><td>ExprTuple</td><td>35, 36</td><td><a class=\"ProveItLink\" href=\"../836fac98c0d5e449bade6eb355f25be1417b81d10/expr.ipynb\"><img src=\"../836fac98c0d5e449bade6eb355f25be1417b81d10/expr.png\" style=\"display:inline;vertical-align:middle;\" /></a></td></tr>\n",
       "<tr><td>34</td><td>Variable</td><td></td><td><a class=\"ProveItLink\" href=\"../../../../../__pv_it/common/c06c606ec12678c58933ac85412ecadc2ae28be60/expr.ipynb\"><img src=\"../../../../../__pv_it/common/c06c606ec12678c58933ac85412ecadc2ae28be60/expr.png\" style=\"display:inline;vertical-align:middle;\" /></a></td></tr>\n",
       "<tr><td>35</td><td>Variable</td><td></td><td><a class=\"ProveItLink\" href=\"../../../../../__pv_it/common/195236b98c6c564a75b5dbada74b173bc52d5c3e0/expr.ipynb\"><img src=\"../../../../../__pv_it/common/195236b98c6c564a75b5dbada74b173bc52d5c3e0/expr.png\" style=\"display:inline;vertical-align:middle;\" /></a></td></tr>\n",
       "<tr><td>36</td><td>Literal</td><td></td><td><a class=\"ProveItLink\" href=\"../../../../numerals/__pv_it/common/1943b60945420e340d305780feff5c1aff2740ff0/expr.ipynb\"><img src=\"../../../../numerals/__pv_it/common/1943b60945420e340d305780feff5c1aff2740ff0/expr.png\" style=\"display:inline;vertical-align:middle;\" /></a></td></tr>\n",
       "</table>\n"
      ],
      "text/plain": [
       "0. (Sum_{j = a}^{b} j) = (Sum_{j = a + 3}^{b + 3} (j - 3))\n",
       "   core type: Operation\n",
       "   operator: 1\n",
       "   operands: 2\n",
       "1. =\n",
       "   core type: Literal\n",
       "   sub-expressions: \n",
       "2. (Sum_{j = a}^{b} j, Sum_{j = a + 3}^{b + 3} (j - 3))\n",
       "   core type: ExprTuple\n",
       "   sub-expressions: 3, 4\n",
       "3. Sum_{j = a}^{b} j\n",
       "   core type: Operation\n",
       "   operator: 6\n",
       "   operand: 8\n",
       "4. Sum_{j = a + 3}^{b + 3} (j - 3)\n",
       "   core type: Operation\n",
       "   operator: 6\n",
       "   operand: 9\n",
       "5. (j -> {j if j in {a .. b}.)\n",
       "   core type: ExprTuple\n",
       "   sub-expressions: 8\n",
       "6. Sum\n",
       "   core type: Literal\n",
       "   sub-expressions: \n",
       "7. (j -> {j - 3 if j in {a + 3 .. b + 3}.)\n",
       "   core type: ExprTuple\n",
       "   sub-expressions: 9\n",
       "8. j -> {j if j in {a .. b}.\n",
       "   core type: Lambda\n",
       "   parameter: 22\n",
       "   body: 10\n",
       "9. j -> {j - 3 if j in {a + 3 .. b + 3}.\n",
       "   core type: Lambda\n",
       "   parameter: 22\n",
       "   body: 12\n",
       "10. {j if j in {a .. b}.\n",
       "    core type: Conditional\n",
       "    value: 22\n",
       "    condition: 13\n",
       "11. (j)\n",
       "    core type: ExprTuple\n",
       "    sub-expressions: 22\n",
       "12. {j - 3 if j in {a + 3 .. b + 3}.\n",
       "    core type: Conditional\n",
       "    value: 14\n",
       "    condition: 15\n",
       "13. j in {a .. b}\n",
       "    core type: Operation\n",
       "    operator: 18\n",
       "    operands: 16\n",
       "14. j - 3\n",
       "    core type: Operation\n",
       "    operator: 32\n",
       "    operands: 17\n",
       "15. j in {a + 3 .. b + 3}\n",
       "    core type: Operation\n",
       "    operator: 18\n",
       "    operands: 19\n",
       "16. (j, {a .. b})\n",
       "    core type: ExprTuple\n",
       "    sub-expressions: 22, 20\n",
       "17. (j, -3)\n",
       "    core type: ExprTuple\n",
       "    sub-expressions: 22, 21\n",
       "18. in\n",
       "    core type: Literal\n",
       "    sub-expressions: \n",
       "19. (j, {a + 3 .. b + 3})\n",
       "    core type: ExprTuple\n",
       "    sub-expressions: 22, 23\n",
       "20. {a .. b}\n",
       "    core type: Operation\n",
       "    operator: 27\n",
       "    operands: 24\n",
       "21. -3\n",
       "    core type: Operation\n",
       "    operator: 25\n",
       "    operand: 36\n",
       "22. j\n",
       "    core type: Variable\n",
       "    sub-expressions: \n",
       "23. {a + 3 .. b + 3}\n",
       "    core type: Operation\n",
       "    operator: 27\n",
       "    operands: 28\n",
       "24. (a, b)\n",
       "    core type: ExprTuple\n",
       "    sub-expressions: 34, 35\n",
       "25. -\n",
       "    core type: Literal\n",
       "    sub-expressions: \n",
       "26. (3)\n",
       "    core type: ExprTuple\n",
       "    sub-expressions: 36\n",
       "27. Interval\n",
       "    core type: Literal\n",
       "    sub-expressions: \n",
       "28. (a + 3, b + 3)\n",
       "    core type: ExprTuple\n",
       "    sub-expressions: 29, 30\n",
       "29. a + 3\n",
       "    core type: Operation\n",
       "    operator: 32\n",
       "    operands: 31\n",
       "30. b + 3\n",
       "    core type: Operation\n",
       "    operator: 32\n",
       "    operands: 33\n",
       "31. (a, 3)\n",
       "    core type: ExprTuple\n",
       "    sub-expressions: 34, 36\n",
       "32. +\n",
       "    core type: Literal\n",
       "    sub-expressions: \n",
       "33. (b, 3)\n",
       "    core type: ExprTuple\n",
       "    sub-expressions: 35, 36\n",
       "34. a\n",
       "    core type: Variable\n",
       "    sub-expressions: \n",
       "35. b\n",
       "    core type: Variable\n",
       "    sub-expressions: \n",
       "36. 3\n",
       "    core type: Literal\n",
       "    sub-expressions: "
      ]
     },
     "metadata": {},
     "output_type": "display_data"
    }
   ],
   "source": [
    "# display the expression information\n",
    "stored_expr.expr_info()"
   ]
  },
  {
   "cell_type": "code",
   "execution_count": null,
   "metadata": {},
   "outputs": [],
   "source": []
  }
 ],
 "metadata": {
  "kernelspec": {
   "display_name": "Python 3",
   "language": "python",
   "name": "python3"
  }
 },
 "nbformat": 4,
 "nbformat_minor": 0
}