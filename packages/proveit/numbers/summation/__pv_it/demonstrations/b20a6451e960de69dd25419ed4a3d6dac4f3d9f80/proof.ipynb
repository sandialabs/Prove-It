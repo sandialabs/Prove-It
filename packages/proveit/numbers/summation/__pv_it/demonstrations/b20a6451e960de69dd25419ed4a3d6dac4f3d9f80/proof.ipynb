{
 "cells": [
  {
   "cell_type": "markdown",
   "metadata": {},
   "source": [
    "Show the Proof\n",
    "========"
   ]
  },
  {
   "cell_type": "code",
   "execution_count": 1,
   "metadata": {},
   "outputs": [
    {
     "data": {
      "text/html": [
       "<table><tr><th>&nbsp;</th><th>step type</th><th>requirements</th><th>statement</th></tr>\n",
       "<tr><td><a name=\"proveit.numbers.summation.demonstrations.b20a6451e960de69dd25419ed4a3d6dac4f3d9f80_step0\">0</a></td><td>modus ponens</td><td><a href=\"#proveit.numbers.summation.demonstrations.b20a6451e960de69dd25419ed4a3d6dac4f3d9f80_step1\">1</a>, <a href=\"#proveit.numbers.summation.demonstrations.b20a6451e960de69dd25419ed4a3d6dac4f3d9f80_step2\">2</a></td><td><span style=\"font-size:20px;\"><a class=\"ProveItLink\" href=\"../ee5906a021d11ed57aff90e0bffe6d2d853d86540/expr.ipynb\"><img src=\"../ee5906a021d11ed57aff90e0bffe6d2d853d86540/expr.png\" style=\"display:inline;vertical-align:middle;\" /></a>, <a class=\"ProveItLink\" href=\"../c298eec739da7e67bcb38691981c77fdd0d613110/expr.ipynb\"><img src=\"../c298eec739da7e67bcb38691981c77fdd0d613110/expr.png\" style=\"display:inline;vertical-align:middle;\" /></a> <a class=\"ProveItLink\" href=\"proof.ipynb\" style=\"text-decoration: none\">&nbsp;&#x22A2;&nbsp;&nbsp;</a><a class=\"ProveItLink\" href=\"../1d5dcfe701384ac8ec416f4f3805c14578bb83ae0/expr.ipynb\"><img src=\"../1d5dcfe701384ac8ec416f4f3805c14578bb83ae0/expr.png\" style=\"display:inline;vertical-align:middle;\" /></a></span></td></tr>\n",
       "<tr><td><a name=\"proveit.numbers.summation.demonstrations.b20a6451e960de69dd25419ed4a3d6dac4f3d9f80_step1\">1</a></td><td>instantiation</td><td><a href=\"#proveit.numbers.summation.demonstrations.b20a6451e960de69dd25419ed4a3d6dac4f3d9f80_step3\">3</a>, <a href=\"#proveit.numbers.summation.demonstrations.b20a6451e960de69dd25419ed4a3d6dac4f3d9f80_step4\">4</a></td><td><span style=\"font-size:20px;\"><a class=\"ProveItLink\" href=\"../c298eec739da7e67bcb38691981c77fdd0d613110/expr.ipynb\"><img src=\"../c298eec739da7e67bcb38691981c77fdd0d613110/expr.png\" style=\"display:inline;vertical-align:middle;\" /></a> <a class=\"ProveItLink\" href=\"../d66ebb6373fadc9d508b5af074ea9365f5004ecf0/proof.ipynb\" style=\"text-decoration: none\">&nbsp;&#x22A2;&nbsp;&nbsp;</a><a class=\"ProveItLink\" href=\"../46508b32233f00542063573fbd5856d729aa222c0/expr.ipynb\"><img src=\"../46508b32233f00542063573fbd5856d729aa222c0/expr.png\" style=\"display:inline;vertical-align:middle;\" /></a></span></td></tr>\n",
       "<tr><td>&nbsp;</td><td colspan=4 style=\"text-align:left\"><span style=\"font-size:20px;\"><a class=\"ProveItLink\" href=\"../../common/980b3b81881cce4e1355f17d00e15a3802d84e590/expr.ipynb\"><img src=\"../../common/980b3b81881cce4e1355f17d00e15a3802d84e590/expr.png\" style=\"display:inline;vertical-align:middle;\" /></a> : <a class=\"ProveItLink\" href=\"../../common/980b3b81881cce4e1355f17d00e15a3802d84e590/expr.ipynb\"><img src=\"../../common/980b3b81881cce4e1355f17d00e15a3802d84e590/expr.png\" style=\"display:inline;vertical-align:middle;\" /></a>, <a class=\"ProveItLink\" href=\"../../common/12c9a4f9cb30b68a44cfb890ea77cbc808445a1e0/expr.ipynb\"><img src=\"../../common/12c9a4f9cb30b68a44cfb890ea77cbc808445a1e0/expr.png\" style=\"display:inline;vertical-align:middle;\" /></a> : <a class=\"ProveItLink\" href=\"../../common/12c9a4f9cb30b68a44cfb890ea77cbc808445a1e0/expr.ipynb\"><img src=\"../../common/12c9a4f9cb30b68a44cfb890ea77cbc808445a1e0/expr.png\" style=\"display:inline;vertical-align:middle;\" /></a>, <a class=\"ProveItLink\" href=\"../../../../../__pv_it/common/38f47c5670ea8c5b56253448e95d8afb56bc09b40/expr.ipynb\"><img src=\"../../../../../__pv_it/common/38f47c5670ea8c5b56253448e95d8afb56bc09b40/expr.png\" style=\"display:inline;vertical-align:middle;\" /></a> : <a class=\"ProveItLink\" href=\"../26045555f6621c232b7828bfc69281c9b1ba0d800/expr.ipynb\"><img src=\"../26045555f6621c232b7828bfc69281c9b1ba0d800/expr.png\" style=\"display:inline;vertical-align:middle;\" /></a></span></td></tr><tr><td><a name=\"proveit.numbers.summation.demonstrations.b20a6451e960de69dd25419ed4a3d6dac4f3d9f80_step2\">2</a></td><td>assumption</td><td></td><td><span style=\"font-size:20px;\"><a class=\"ProveItLink\" href=\"../ee5906a021d11ed57aff90e0bffe6d2d853d86540/expr.ipynb\"><img src=\"../ee5906a021d11ed57aff90e0bffe6d2d853d86540/expr.png\" style=\"display:inline;vertical-align:middle;\" /></a> <a class=\"ProveItLink\" href=\"../0b2f8eab57acc4240e9bf1d7a4be8b98c1cb842b0/proof.ipynb\" style=\"text-decoration: none\">&nbsp;&#x22A2;&nbsp;&nbsp;</a><a class=\"ProveItLink\" href=\"../ee5906a021d11ed57aff90e0bffe6d2d853d86540/expr.ipynb\"><img src=\"../ee5906a021d11ed57aff90e0bffe6d2d853d86540/expr.png\" style=\"display:inline;vertical-align:middle;\" /></a></span></td></tr>\n",
       "<tr><td><a name=\"proveit.numbers.summation.demonstrations.b20a6451e960de69dd25419ed4a3d6dac4f3d9f80_step3\">3</a></td><td>theorem</td><td></td><td><span style=\"font-size:20px;\"> <a class=\"ProveItLink\" href=\"../../../_theory_nbs_/proofs/strong_summation_from_summands_bound/thm_proof.ipynb\" style=\"text-decoration: none\">&nbsp;&#x22A2;&nbsp;&nbsp;</a><a class=\"ProveItLink\" href=\"../../theorems/9f6ea385f13fd1dc55d1d1d3a4537aec305671ce0/expr.ipynb\"><img src=\"../../theorems/9f6ea385f13fd1dc55d1d1d3a4537aec305671ce0/expr.png\" style=\"display:inline;vertical-align:middle;\" /></a></span></td></tr>\n",
       "<tr><td>&nbsp;</td><td colspan=4 style-\"text-align:left\"><a class=\"ProveItLink\" href=\"../../../_theory_nbs_/proofs/strong_summation_from_summands_bound/thm_proof.ipynb\">proveit.numbers.summation.strong_summation_from_summands_bound</a></td></tr><tr><td><a name=\"proveit.numbers.summation.demonstrations.b20a6451e960de69dd25419ed4a3d6dac4f3d9f80_step4\">4</a></td><td>assumption</td><td></td><td><span style=\"font-size:20px;\"><a class=\"ProveItLink\" href=\"../c298eec739da7e67bcb38691981c77fdd0d613110/expr.ipynb\"><img src=\"../c298eec739da7e67bcb38691981c77fdd0d613110/expr.png\" style=\"display:inline;vertical-align:middle;\" /></a> <a class=\"ProveItLink\" href=\"../492184951f9393b2488c0f0a42a55156617df8dd0/proof.ipynb\" style=\"text-decoration: none\">&nbsp;&#x22A2;&nbsp;&nbsp;</a><a class=\"ProveItLink\" href=\"../c298eec739da7e67bcb38691981c77fdd0d613110/expr.ipynb\"><img src=\"../c298eec739da7e67bcb38691981c77fdd0d613110/expr.png\" style=\"display:inline;vertical-align:middle;\" /></a></span></td></tr>\n",
       "</table>"
      ],
      "text/plain": [
       "<proveit._core_.proof._ShowProof at 0x7ff9c14e3780>"
      ]
     },
     "execution_count": 1,
     "metadata": {},
     "output_type": "execute_result"
    }
   ],
   "source": [
    "import proveit\n",
    "# Automation is not needed when only showing a stored proof:\n",
    "proveit.defaults.automation = False # This will speed things up.\n",
    "proveit.defaults.inline_pngs = False # Makes files smaller.\n",
    "%show_proof"
   ]
  },
  {
   "cell_type": "code",
   "execution_count": null,
   "metadata": {},
   "outputs": [],
   "source": []
  }
 ],
 "metadata": {
  "kernelspec": {
   "display_name": "Python 3",
   "language": "python",
   "name": "python3"
  }
 },
 "nbformat": 4,
 "nbformat_minor": 0
}