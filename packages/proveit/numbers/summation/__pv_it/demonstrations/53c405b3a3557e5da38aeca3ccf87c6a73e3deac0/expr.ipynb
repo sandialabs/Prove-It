{
 "cells": [
  {
   "cell_type": "markdown",
   "metadata": {},
   "source": [
    "Expression of type <a class=\"ProveItLink\" href=\"../../../../../../../doc/html/api/proveit.ExprTuple.html\">ExprTuple</a>\n",
    "=======================\n",
    "# from the theory of <a class=\"ProveItLink\" href=\"../../../_theory_nbs_/theory.ipynb\">proveit.numbers.summation</a>"
   ]
  },
  {
   "cell_type": "code",
   "execution_count": 1,
   "metadata": {},
   "outputs": [],
   "source": [
    "import proveit\n",
    "# Automation is not needed when building an expression:\n",
    "proveit.defaults.automation = False # This will speed things up.\n",
    "proveit.defaults.inline_pngs = False # Makes files smaller.\n",
    "%load_expr # Load the stored expression as 'stored_expr'\n",
    "# import Expression classes needed to build the expression\n",
    "from proveit import Conditional, ExprTuple, Lambda, k\n",
    "from proveit.logic import Equals, Forall, InSet\n",
    "from proveit.numbers import Add, Interval, eight, nine, one, subtract, two"
   ]
  },
  {
   "cell_type": "code",
   "execution_count": 2,
   "metadata": {},
   "outputs": [
    {
     "data": {
      "text/html": [
       "<strong id=\"expr\">expr:</strong> <a class=\"ProveItLink\" href=\"expr.ipynb\"><img src=\"expr.png\" style=\"display:inline;vertical-align:middle;\" /></a><br>"
      ],
      "text/plain": [
       "<IPython.core.display.HTML object>"
      ]
     },
     "metadata": {},
     "output_type": "display_data"
    }
   ],
   "source": [
    "# build up the expression from sub-expressions\n",
    "sub_expr1 = subtract(k, two)\n",
    "sub_expr2 = Conditional(sub_expr1, InSet(k, Interval(nine, nine)))\n",
    "sub_expr3 = Conditional(sub_expr1, InSet(k, Interval(Add(eight, one), nine)))\n",
    "expr = ExprTuple(Forall(instance_param_or_params = [k], instance_expr = Equals(sub_expr3, sub_expr2)), Equals(Lambda(k, sub_expr3), Lambda(k, sub_expr2)).with_wrapping_at(2))"
   ]
  },
  {
   "cell_type": "code",
   "execution_count": 3,
   "metadata": {},
   "outputs": [
    {
     "name": "stdout",
     "output_type": "stream",
     "text": [
      "Passed sanity check: expr matches stored_expr\n"
     ]
    }
   ],
   "source": [
    "# check that the built expression is the same as the stored expression\n",
    "assert expr == stored_expr\n",
    "assert expr._style_id == stored_expr._style_id\n",
    "print(\"Passed sanity check: expr matches stored_expr\")"
   ]
  },
  {
   "cell_type": "code",
   "execution_count": 4,
   "metadata": {},
   "outputs": [
    {
     "name": "stdout",
     "output_type": "stream",
     "text": [
      "\\left(\\forall_{k}~\\left(\\left\\{k - 2 \\textrm{ if } k \\in \\{8 + 1~\\ldotp \\ldotp~9\\}\\right.. = \\left\\{k - 2 \\textrm{ if } k \\in \\{9~\\ldotp \\ldotp~9\\}\\right..\\right), \\begin{array}{c} \\begin{array}{l} \\left[k \\mapsto \\left\\{k - 2 \\textrm{ if } k \\in \\{8 + 1~\\ldotp \\ldotp~9\\}\\right..\\right] =  \\\\ \\left[k \\mapsto \\left\\{k - 2 \\textrm{ if } k \\in \\{9~\\ldotp \\ldotp~9\\}\\right..\\right] \\end{array} \\end{array}\\right)\n"
     ]
    }
   ],
   "source": [
    "# Show the LaTeX representation of the expression for convenience if you need it.\n",
    "print(stored_expr.latex())"
   ]
  },
  {
   "cell_type": "code",
   "execution_count": 5,
   "metadata": {},
   "outputs": [
    {
     "data": {
      "text/html": [
       "<table>\n",
       "<tr><th>name</th><th>description</th><th>default</th><th>current value</th><th>related methods</th></tr><tr><td>wrap_positions</td><td>position(s) at which wrapping is to occur; 'n' is after the nth comma.</td><td>()</td><td>()</td><td>('with_wrapping_at',)</td></tr>\n",
       "<tr><td>justification</td><td>if any wrap positions are set, justify to the 'left', 'center', or 'right'</td><td>left</td><td>left</td><td>('with_justification',)</td></tr>\n",
       "</table>\n"
      ],
      "text/plain": [
       "style name: wrap_positions\n",
       "description: position(s) at which wrapping is to occur; 'n' is after the nth comma.\n",
       "default: ()\n",
       "current value: ()\n",
       "related methods: ('with_wrapping_at',)\n",
       "style name: justification\n",
       "description: if any wrap positions are set, justify to the 'left', 'center', or 'right'\n",
       "default: left\n",
       "current value: left\n",
       "related methods: ('with_justification',)"
      ]
     },
     "metadata": {},
     "output_type": "display_data"
    }
   ],
   "source": [
    "stored_expr.style_options()"
   ]
  },
  {
   "cell_type": "code",
   "execution_count": 6,
   "metadata": {},
   "outputs": [
    {
     "data": {
      "text/html": [
       "<table><tr><th>&nbsp;</th><th>core type</th><th>sub-expressions</th><th>expression</th></tr>\n",
       "<tr><td>0</td><td>ExprTuple</td><td>1, 2</td><td><a class=\"ProveItLink\" href=\"expr.ipynb\"><img src=\"expr.png\" style=\"display:inline;vertical-align:middle;\" /></a></td></tr>\n",
       "<tr><td>1</td><td>Operation</td><td>operator:&nbsp;3<br>operand:&nbsp;6<br></td><td><a class=\"ProveItLink\" href=\"../06fea5e2c3390e3e39c6553f6e66d191e286b7500/expr.ipynb\"><img src=\"../06fea5e2c3390e3e39c6553f6e66d191e286b7500/expr.png\" style=\"display:inline;vertical-align:middle;\" /></a></td></tr>\n",
       "<tr><td>2</td><td>Operation</td><td>operator:&nbsp;11<br>operands:&nbsp;5<br></td><td><a class=\"ProveItLink\" href=\"../3601db95f22a0be033b47cd028f07a3d2eaec64e0/expr.ipynb\"><img src=\"../3601db95f22a0be033b47cd028f07a3d2eaec64e0/expr.png\" style=\"display:inline;vertical-align:middle;\" /></a></td></tr>\n",
       "<tr><td>3</td><td>Literal</td><td></td><td><a class=\"ProveItLink\" href=\"../../../../../logic/booleans/quantification/universality/__pv_it/common/083d2baa0b8ecab1d230f9ec29a15aa1355809fb0/expr.ipynb\"><img src=\"../../../../../logic/booleans/quantification/universality/__pv_it/common/083d2baa0b8ecab1d230f9ec29a15aa1355809fb0/expr.png\" style=\"display:inline;vertical-align:middle;\" /></a></td></tr>\n",
       "<tr><td>4</td><td>ExprTuple</td><td>6</td><td><a class=\"ProveItLink\" href=\"../16194b8aa1b45f4ab0591aeb1dc5d9a7113d175d0/expr.ipynb\"><img src=\"../16194b8aa1b45f4ab0591aeb1dc5d9a7113d175d0/expr.png\" style=\"display:inline;vertical-align:middle;\" /></a></td></tr>\n",
       "<tr><td>5</td><td>ExprTuple</td><td>7, 8</td><td><a class=\"ProveItLink\" href=\"../357b7e7db05802bfa6a140bfff575376cb5d02ed0/expr.ipynb\"><img src=\"../357b7e7db05802bfa6a140bfff575376cb5d02ed0/expr.png\" style=\"display:inline;vertical-align:middle;\" /></a></td></tr>\n",
       "<tr><td>6</td><td>Lambda</td><td>parameter:&nbsp;24<br>body:&nbsp;9<br></td><td><a class=\"ProveItLink\" href=\"../bae30f28aa7bc8f2334772b21ce1ff6abae982f80/expr.ipynb\"><img src=\"../bae30f28aa7bc8f2334772b21ce1ff6abae982f80/expr.png\" style=\"display:inline;vertical-align:middle;\" /></a></td></tr>\n",
       "<tr><td>7</td><td>Lambda</td><td>parameter:&nbsp;24<br>body:&nbsp;13<br></td><td><a class=\"ProveItLink\" href=\"../bd250ff6bf4f64d5c984c1cd27b7dab4cba581f30/expr.ipynb\"><img src=\"../bd250ff6bf4f64d5c984c1cd27b7dab4cba581f30/expr.png\" style=\"display:inline;vertical-align:middle;\" /></a></td></tr>\n",
       "<tr><td>8</td><td>Lambda</td><td>parameter:&nbsp;24<br>body:&nbsp;14<br></td><td><a class=\"ProveItLink\" href=\"../022d8a2703b66f81e18a30a449f61b4d5c2c1f950/expr.ipynb\"><img src=\"../022d8a2703b66f81e18a30a449f61b4d5c2c1f950/expr.png\" style=\"display:inline;vertical-align:middle;\" /></a></td></tr>\n",
       "<tr><td>9</td><td>Operation</td><td>operator:&nbsp;11<br>operands:&nbsp;12<br></td><td><a class=\"ProveItLink\" href=\"../13ba78981d3fb69b3c61b50183ac8462eace463f0/expr.ipynb\"><img src=\"../13ba78981d3fb69b3c61b50183ac8462eace463f0/expr.png\" style=\"display:inline;vertical-align:middle;\" /></a></td></tr>\n",
       "<tr><td>10</td><td>ExprTuple</td><td>24</td><td><a class=\"ProveItLink\" href=\"../../common/36569ebfbef1eee76da90134ba3a4620a4cb94130/expr.ipynb\"><img src=\"../../common/36569ebfbef1eee76da90134ba3a4620a4cb94130/expr.png\" style=\"display:inline;vertical-align:middle;\" /></a></td></tr>\n",
       "<tr><td>11</td><td>Literal</td><td></td><td><a class=\"ProveItLink\" href=\"../../../../../logic/equality/__pv_it/common/fb96dc12b2aa8801dda64d0132b396c63d1502bb0/expr.ipynb\"><img src=\"../../../../../logic/equality/__pv_it/common/fb96dc12b2aa8801dda64d0132b396c63d1502bb0/expr.png\" style=\"display:inline;vertical-align:middle;\" /></a></td></tr>\n",
       "<tr><td>12</td><td>ExprTuple</td><td>13, 14</td><td><a class=\"ProveItLink\" href=\"../05a317adb73a333896a30ac90edceeb6dd41997d0/expr.ipynb\"><img src=\"../05a317adb73a333896a30ac90edceeb6dd41997d0/expr.png\" style=\"display:inline;vertical-align:middle;\" /></a></td></tr>\n",
       "<tr><td>13</td><td>Conditional</td><td>value:&nbsp;16<br>condition:&nbsp;15<br></td><td><a class=\"ProveItLink\" href=\"../c6129d1375e1bba1dff8a1e9dcd8051da52634470/expr.ipynb\"><img src=\"../c6129d1375e1bba1dff8a1e9dcd8051da52634470/expr.png\" style=\"display:inline;vertical-align:middle;\" /></a></td></tr>\n",
       "<tr><td>14</td><td>Conditional</td><td>value:&nbsp;16<br>condition:&nbsp;17<br></td><td><a class=\"ProveItLink\" href=\"../865467d85afb20abbf55ec68c5be62fef1593e060/expr.ipynb\"><img src=\"../865467d85afb20abbf55ec68c5be62fef1593e060/expr.png\" style=\"display:inline;vertical-align:middle;\" /></a></td></tr>\n",
       "<tr><td>15</td><td>Operation</td><td>operator:&nbsp;20<br>operands:&nbsp;18<br></td><td><a class=\"ProveItLink\" href=\"../aaae3ffebf6688610338f36fdff895e24acb2ce00/expr.ipynb\"><img src=\"../aaae3ffebf6688610338f36fdff895e24acb2ce00/expr.png\" style=\"display:inline;vertical-align:middle;\" /></a></td></tr>\n",
       "<tr><td>16</td><td>Operation</td><td>operator:&nbsp;34<br>operands:&nbsp;19<br></td><td><a class=\"ProveItLink\" href=\"../dbcf9ab42fe328d7a4a0b2977b1fc78559c36b2b0/expr.ipynb\"><img src=\"../dbcf9ab42fe328d7a4a0b2977b1fc78559c36b2b0/expr.png\" style=\"display:inline;vertical-align:middle;\" /></a></td></tr>\n",
       "<tr><td>17</td><td>Operation</td><td>operator:&nbsp;20<br>operands:&nbsp;21<br></td><td><a class=\"ProveItLink\" href=\"../b194299eb92391740a225f9b5ffa976752812cda0/expr.ipynb\"><img src=\"../b194299eb92391740a225f9b5ffa976752812cda0/expr.png\" style=\"display:inline;vertical-align:middle;\" /></a></td></tr>\n",
       "<tr><td>18</td><td>ExprTuple</td><td>24, 22</td><td><a class=\"ProveItLink\" href=\"../f49787f01b6a19a36ecfdb6f8392227fa23d70850/expr.ipynb\"><img src=\"../f49787f01b6a19a36ecfdb6f8392227fa23d70850/expr.png\" style=\"display:inline;vertical-align:middle;\" /></a></td></tr>\n",
       "<tr><td>19</td><td>ExprTuple</td><td>24, 23</td><td><a class=\"ProveItLink\" href=\"../50991526f5cdd62cbb8d96606c4f23de25bd32530/expr.ipynb\"><img src=\"../50991526f5cdd62cbb8d96606c4f23de25bd32530/expr.png\" style=\"display:inline;vertical-align:middle;\" /></a></td></tr>\n",
       "<tr><td>20</td><td>Literal</td><td></td><td><a class=\"ProveItLink\" href=\"../../../../../logic/sets/membership/__pv_it/common/477487d8796864d23d5810f83761435f25167f690/expr.ipynb\"><img src=\"../../../../../logic/sets/membership/__pv_it/common/477487d8796864d23d5810f83761435f25167f690/expr.png\" style=\"display:inline;vertical-align:middle;\" /></a></td></tr>\n",
       "<tr><td>21</td><td>ExprTuple</td><td>24, 25</td><td><a class=\"ProveItLink\" href=\"../424862dc1e914ebe764ea0061a2b540011aba7890/expr.ipynb\"><img src=\"../424862dc1e914ebe764ea0061a2b540011aba7890/expr.png\" style=\"display:inline;vertical-align:middle;\" /></a></td></tr>\n",
       "<tr><td>22</td><td>Operation</td><td>operator:&nbsp;29<br>operands:&nbsp;26<br></td><td><a class=\"ProveItLink\" href=\"../48708c0455c41ac45fab2e9562aa246c64d9d8140/expr.ipynb\"><img src=\"../48708c0455c41ac45fab2e9562aa246c64d9d8140/expr.png\" style=\"display:inline;vertical-align:middle;\" /></a></td></tr>\n",
       "<tr><td>23</td><td>Operation</td><td>operator:&nbsp;27<br>operand:&nbsp;32<br></td><td><a class=\"ProveItLink\" href=\"../16bf7762f473cc2cfad370a096ed5f2eb39b6b2c0/expr.ipynb\"><img src=\"../16bf7762f473cc2cfad370a096ed5f2eb39b6b2c0/expr.png\" style=\"display:inline;vertical-align:middle;\" /></a></td></tr>\n",
       "<tr><td>24</td><td>Variable</td><td></td><td><a class=\"ProveItLink\" href=\"../../../../../__pv_it/common/63b7c64bf9ec7a04ecc396c7a1670f3f12fb59490/expr.ipynb\"><img src=\"../../../../../__pv_it/common/63b7c64bf9ec7a04ecc396c7a1670f3f12fb59490/expr.png\" style=\"display:inline;vertical-align:middle;\" /></a></td></tr>\n",
       "<tr><td>25</td><td>Operation</td><td>operator:&nbsp;29<br>operands:&nbsp;30<br></td><td><a class=\"ProveItLink\" href=\"../a06c923c4718b301bc8aebfd06e5615ddf3fc2d00/expr.ipynb\"><img src=\"../a06c923c4718b301bc8aebfd06e5615ddf3fc2d00/expr.png\" style=\"display:inline;vertical-align:middle;\" /></a></td></tr>\n",
       "<tr><td>26</td><td>ExprTuple</td><td>31, 33</td><td><a class=\"ProveItLink\" href=\"../../../../numerals/decimals/__pv_it/theorems/1d1f545789b056246f15c72999cee6ca85b4b4780/expr.ipynb\"><img src=\"../../../../numerals/decimals/__pv_it/theorems/1d1f545789b056246f15c72999cee6ca85b4b4780/expr.png\" style=\"display:inline;vertical-align:middle;\" /></a></td></tr>\n",
       "<tr><td>27</td><td>Literal</td><td></td><td><a class=\"ProveItLink\" href=\"../../../../negation/__pv_it/common/221b3c4d1770ee9051b7c044c3f9ec61196fc34b0/expr.ipynb\"><img src=\"../../../../negation/__pv_it/common/221b3c4d1770ee9051b7c044c3f9ec61196fc34b0/expr.png\" style=\"display:inline;vertical-align:middle;\" /></a></td></tr>\n",
       "<tr><td>28</td><td>ExprTuple</td><td>32</td><td><a class=\"ProveItLink\" href=\"../56953b0728fa2850398ae7a13d530612ae194a390/expr.ipynb\"><img src=\"../56953b0728fa2850398ae7a13d530612ae194a390/expr.png\" style=\"display:inline;vertical-align:middle;\" /></a></td></tr>\n",
       "<tr><td>29</td><td>Literal</td><td></td><td><a class=\"ProveItLink\" href=\"../../../../number_sets/integers/__pv_it/common/92f3a0a77e3c3ea8e4a5c8674edadc54e4f57d550/expr.ipynb\"><img src=\"../../../../number_sets/integers/__pv_it/common/92f3a0a77e3c3ea8e4a5c8674edadc54e4f57d550/expr.png\" style=\"display:inline;vertical-align:middle;\" /></a></td></tr>\n",
       "<tr><td>30</td><td>ExprTuple</td><td>33, 33</td><td><a class=\"ProveItLink\" href=\"../b8707b49de6cd03793b1773161ff830ff6f88ed00/expr.ipynb\"><img src=\"../b8707b49de6cd03793b1773161ff830ff6f88ed00/expr.png\" style=\"display:inline;vertical-align:middle;\" /></a></td></tr>\n",
       "<tr><td>31</td><td>Operation</td><td>operator:&nbsp;34<br>operands:&nbsp;35<br></td><td><a class=\"ProveItLink\" href=\"../../../../numerals/decimals/__pv_it/theorems/5c8015006a8fac4c263e818c01a4c8864655c1fc0/expr.ipynb\"><img src=\"../../../../numerals/decimals/__pv_it/theorems/5c8015006a8fac4c263e818c01a4c8864655c1fc0/expr.png\" style=\"display:inline;vertical-align:middle;\" /></a></td></tr>\n",
       "<tr><td>32</td><td>Literal</td><td></td><td><a class=\"ProveItLink\" href=\"../../../../numerals/__pv_it/common/af4aab8a07465db063742696e006d04670f30cf10/expr.ipynb\"><img src=\"../../../../numerals/__pv_it/common/af4aab8a07465db063742696e006d04670f30cf10/expr.png\" style=\"display:inline;vertical-align:middle;\" /></a></td></tr>\n",
       "<tr><td>33</td><td>Literal</td><td></td><td><a class=\"ProveItLink\" href=\"../../../../numerals/__pv_it/common/22593540f11ac41f656b6119a111361a0782e98b0/expr.ipynb\"><img src=\"../../../../numerals/__pv_it/common/22593540f11ac41f656b6119a111361a0782e98b0/expr.png\" style=\"display:inline;vertical-align:middle;\" /></a></td></tr>\n",
       "<tr><td>34</td><td>Literal</td><td></td><td><a class=\"ProveItLink\" href=\"../../../../addition/__pv_it/common/4b7effaab3619a1c2c38fe2dee8601df8ec714590/expr.ipynb\"><img src=\"../../../../addition/__pv_it/common/4b7effaab3619a1c2c38fe2dee8601df8ec714590/expr.png\" style=\"display:inline;vertical-align:middle;\" /></a></td></tr>\n",
       "<tr><td>35</td><td>ExprTuple</td><td>36, 37</td><td><a class=\"ProveItLink\" href=\"../../../../numerals/decimals/__pv_it/theorems/97d34b6a629a57b4f64e218c9ef12b2f7f5eae360/expr.ipynb\"><img src=\"../../../../numerals/decimals/__pv_it/theorems/97d34b6a629a57b4f64e218c9ef12b2f7f5eae360/expr.png\" style=\"display:inline;vertical-align:middle;\" /></a></td></tr>\n",
       "<tr><td>36</td><td>Literal</td><td></td><td><a class=\"ProveItLink\" href=\"../../../../numerals/__pv_it/common/ceed6b354935ad1d236d250dc51c3b98bca3a8960/expr.ipynb\"><img src=\"../../../../numerals/__pv_it/common/ceed6b354935ad1d236d250dc51c3b98bca3a8960/expr.png\" style=\"display:inline;vertical-align:middle;\" /></a></td></tr>\n",
       "<tr><td>37</td><td>Literal</td><td></td><td><a class=\"ProveItLink\" href=\"../../../../numerals/__pv_it/common/682157d4892d216d9e5626ed533aff9b56b9506e0/expr.ipynb\"><img src=\"../../../../numerals/__pv_it/common/682157d4892d216d9e5626ed533aff9b56b9506e0/expr.png\" style=\"display:inline;vertical-align:middle;\" /></a></td></tr>\n",
       "</table>\n"
      ],
      "text/plain": [
       "0. (forall_{k} ({k - 2 if k in {8 + 1 .. 9}. = {k - 2 if k in {9 .. 9}.), [k -> {k - 2 if k in {8 + 1 .. 9}.] =  \\\\ [k -> {k - 2 if k in {9 .. 9}.])\n",
       "   core type: ExprTuple\n",
       "   sub-expressions: 1, 2\n",
       "1. forall_{k} ({k - 2 if k in {8 + 1 .. 9}. = {k - 2 if k in {9 .. 9}.)\n",
       "   core type: Operation\n",
       "   operator: 3\n",
       "   operand: 6\n",
       "2. [k -> {k - 2 if k in {8 + 1 .. 9}.] =  \\\\ [k -> {k - 2 if k in {9 .. 9}.]\n",
       "   core type: Operation\n",
       "   operator: 11\n",
       "   operands: 5\n",
       "3. forall\n",
       "   core type: Literal\n",
       "   sub-expressions: \n",
       "4. (k -> ({k - 2 if k in {8 + 1 .. 9}. = {k - 2 if k in {9 .. 9}.))\n",
       "   core type: ExprTuple\n",
       "   sub-expressions: 6\n",
       "5. (k -> {k - 2 if k in {8 + 1 .. 9}., k -> {k - 2 if k in {9 .. 9}.)\n",
       "   core type: ExprTuple\n",
       "   sub-expressions: 7, 8\n",
       "6. k -> ({k - 2 if k in {8 + 1 .. 9}. = {k - 2 if k in {9 .. 9}.)\n",
       "   core type: Lambda\n",
       "   parameter: 24\n",
       "   body: 9\n",
       "7. k -> {k - 2 if k in {8 + 1 .. 9}.\n",
       "   core type: Lambda\n",
       "   parameter: 24\n",
       "   body: 13\n",
       "8. k -> {k - 2 if k in {9 .. 9}.\n",
       "   core type: Lambda\n",
       "   parameter: 24\n",
       "   body: 14\n",
       "9. {k - 2 if k in {8 + 1 .. 9}. = {k - 2 if k in {9 .. 9}.\n",
       "   core type: Operation\n",
       "   operator: 11\n",
       "   operands: 12\n",
       "10. (k)\n",
       "    core type: ExprTuple\n",
       "    sub-expressions: 24\n",
       "11. =\n",
       "    core type: Literal\n",
       "    sub-expressions: \n",
       "12. (k - 2 if k in {8 + 1 .. 9}, k - 2 if k in {9 .. 9})\n",
       "    core type: ExprTuple\n",
       "    sub-expressions: 13, 14\n",
       "13. {k - 2 if k in {8 + 1 .. 9}.\n",
       "    core type: Conditional\n",
       "    value: 16\n",
       "    condition: 15\n",
       "14. {k - 2 if k in {9 .. 9}.\n",
       "    core type: Conditional\n",
       "    value: 16\n",
       "    condition: 17\n",
       "15. k in {8 + 1 .. 9}\n",
       "    core type: Operation\n",
       "    operator: 20\n",
       "    operands: 18\n",
       "16. k - 2\n",
       "    core type: Operation\n",
       "    operator: 34\n",
       "    operands: 19\n",
       "17. k in {9 .. 9}\n",
       "    core type: Operation\n",
       "    operator: 20\n",
       "    operands: 21\n",
       "18. (k, {8 + 1 .. 9})\n",
       "    core type: ExprTuple\n",
       "    sub-expressions: 24, 22\n",
       "19. (k, -2)\n",
       "    core type: ExprTuple\n",
       "    sub-expressions: 24, 23\n",
       "20. in\n",
       "    core type: Literal\n",
       "    sub-expressions: \n",
       "21. (k, {9 .. 9})\n",
       "    core type: ExprTuple\n",
       "    sub-expressions: 24, 25\n",
       "22. {8 + 1 .. 9}\n",
       "    core type: Operation\n",
       "    operator: 29\n",
       "    operands: 26\n",
       "23. -2\n",
       "    core type: Operation\n",
       "    operator: 27\n",
       "    operand: 32\n",
       "24. k\n",
       "    core type: Variable\n",
       "    sub-expressions: \n",
       "25. {9 .. 9}\n",
       "    core type: Operation\n",
       "    operator: 29\n",
       "    operands: 30\n",
       "26. (8 + 1, 9)\n",
       "    core type: ExprTuple\n",
       "    sub-expressions: 31, 33\n",
       "27. -\n",
       "    core type: Literal\n",
       "    sub-expressions: \n",
       "28. (2)\n",
       "    core type: ExprTuple\n",
       "    sub-expressions: 32\n",
       "29. Interval\n",
       "    core type: Literal\n",
       "    sub-expressions: \n",
       "30. (9, 9)\n",
       "    core type: ExprTuple\n",
       "    sub-expressions: 33, 33\n",
       "31. 8 + 1\n",
       "    core type: Operation\n",
       "    operator: 34\n",
       "    operands: 35\n",
       "32. 2\n",
       "    core type: Literal\n",
       "    sub-expressions: \n",
       "33. 9\n",
       "    core type: Literal\n",
       "    sub-expressions: \n",
       "34. +\n",
       "    core type: Literal\n",
       "    sub-expressions: \n",
       "35. (8, 1)\n",
       "    core type: ExprTuple\n",
       "    sub-expressions: 36, 37\n",
       "36. 8\n",
       "    core type: Literal\n",
       "    sub-expressions: \n",
       "37. 1\n",
       "    core type: Literal\n",
       "    sub-expressions: "
      ]
     },
     "metadata": {},
     "output_type": "display_data"
    }
   ],
   "source": [
    "# display the expression information\n",
    "stored_expr.expr_info()"
   ]
  },
  {
   "cell_type": "code",
   "execution_count": null,
   "metadata": {},
   "outputs": [],
   "source": []
  }
 ],
 "metadata": {
  "kernelspec": {
   "display_name": "Python 3",
   "language": "python",
   "name": "python3"
  }
 },
 "nbformat": 4,
 "nbformat_minor": 0
}