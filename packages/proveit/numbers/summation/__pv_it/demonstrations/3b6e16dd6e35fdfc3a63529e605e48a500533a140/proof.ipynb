{
 "cells": [
  {
   "cell_type": "markdown",
   "metadata": {},
   "source": [
    "Show the Proof\n",
    "========"
   ]
  },
  {
   "cell_type": "code",
   "execution_count": 1,
   "metadata": {},
   "outputs": [
    {
     "data": {
      "text/html": [
       "<table><tr><th>&nbsp;</th><th>step type</th><th>requirements</th><th>statement</th></tr>\n",
       "<tr><td><a name=\"proveit.numbers.summation.demonstrations.3b6e16dd6e35fdfc3a63529e605e48a500533a140_step0\">0</a></td><td>modus ponens</td><td><a href=\"#proveit.numbers.summation.demonstrations.3b6e16dd6e35fdfc3a63529e605e48a500533a140_step1\">1</a>, <a href=\"#proveit.numbers.summation.demonstrations.3b6e16dd6e35fdfc3a63529e605e48a500533a140_step2\">2</a></td><td><span style=\"font-size:20px;\"><a class=\"ProveItLink\" href=\"../e2afbf67e4df5ed92310e5048872969020da967c0/expr.ipynb\"><img src=\"../e2afbf67e4df5ed92310e5048872969020da967c0/expr.png\" style=\"display:inline;vertical-align:middle;\" /></a> <a class=\"ProveItLink\" href=\"proof.ipynb\" style=\"text-decoration: none\">&nbsp;&#x22A2;&nbsp;&nbsp;</a><a class=\"ProveItLink\" href=\"../a710841b3c0c4b91660d6d157b07d3257a8875710/expr.ipynb\"><img src=\"../a710841b3c0c4b91660d6d157b07d3257a8875710/expr.png\" style=\"display:inline;vertical-align:middle;\" /></a></span></td></tr>\n",
       "<tr><td><a name=\"proveit.numbers.summation.demonstrations.3b6e16dd6e35fdfc3a63529e605e48a500533a140_step1\">1</a></td><td>instantiation</td><td><a href=\"#proveit.numbers.summation.demonstrations.3b6e16dd6e35fdfc3a63529e605e48a500533a140_step3\">3</a></td><td><span style=\"font-size:20px;\"> <a class=\"ProveItLink\" href=\"../90ce36e233d078d0061bc0a86cda8a54492b05890/proof.ipynb\" style=\"text-decoration: none\">&nbsp;&#x22A2;&nbsp;&nbsp;</a><a class=\"ProveItLink\" href=\"../c9974bdeb9972307901809f444d49a4e043f9ee20/expr.ipynb\"><img src=\"../c9974bdeb9972307901809f444d49a4e043f9ee20/expr.png\" style=\"display:inline;vertical-align:middle;\" /></a></span></td></tr>\n",
       "<tr><td>&nbsp;</td><td colspan=4 style=\"text-align:left\"><span style=\"font-size:20px;\"><a class=\"ProveItLink\" href=\"../../common/980b3b81881cce4e1355f17d00e15a3802d84e590/expr.ipynb\"><img src=\"../../common/980b3b81881cce4e1355f17d00e15a3802d84e590/expr.png\" style=\"display:inline;vertical-align:middle;\" /></a> : <a class=\"ProveItLink\" href=\"../../common/980b3b81881cce4e1355f17d00e15a3802d84e590/expr.ipynb\"><img src=\"../../common/980b3b81881cce4e1355f17d00e15a3802d84e590/expr.png\" style=\"display:inline;vertical-align:middle;\" /></a>, <a class=\"ProveItLink\" href=\"../../common/12c9a4f9cb30b68a44cfb890ea77cbc808445a1e0/expr.ipynb\"><img src=\"../../common/12c9a4f9cb30b68a44cfb890ea77cbc808445a1e0/expr.png\" style=\"display:inline;vertical-align:middle;\" /></a> : <a class=\"ProveItLink\" href=\"../../common/12c9a4f9cb30b68a44cfb890ea77cbc808445a1e0/expr.ipynb\"><img src=\"../../common/12c9a4f9cb30b68a44cfb890ea77cbc808445a1e0/expr.png\" style=\"display:inline;vertical-align:middle;\" /></a>, <a class=\"ProveItLink\" href=\"../../../../../__pv_it/common/38f47c5670ea8c5b56253448e95d8afb56bc09b40/expr.ipynb\"><img src=\"../../../../../__pv_it/common/38f47c5670ea8c5b56253448e95d8afb56bc09b40/expr.png\" style=\"display:inline;vertical-align:middle;\" /></a> : <a class=\"ProveItLink\" href=\"../26045555f6621c232b7828bfc69281c9b1ba0d800/expr.ipynb\"><img src=\"../26045555f6621c232b7828bfc69281c9b1ba0d800/expr.png\" style=\"display:inline;vertical-align:middle;\" /></a></span></td></tr><tr><td><a name=\"proveit.numbers.summation.demonstrations.3b6e16dd6e35fdfc3a63529e605e48a500533a140_step2\">2</a></td><td>assumption</td><td></td><td><span style=\"font-size:20px;\"><a class=\"ProveItLink\" href=\"../e2afbf67e4df5ed92310e5048872969020da967c0/expr.ipynb\"><img src=\"../e2afbf67e4df5ed92310e5048872969020da967c0/expr.png\" style=\"display:inline;vertical-align:middle;\" /></a> <a class=\"ProveItLink\" href=\"../fb54e186d765860d54fa6861ba1ce7194e6155630/proof.ipynb\" style=\"text-decoration: none\">&nbsp;&#x22A2;&nbsp;&nbsp;</a><a class=\"ProveItLink\" href=\"../e2afbf67e4df5ed92310e5048872969020da967c0/expr.ipynb\"><img src=\"../e2afbf67e4df5ed92310e5048872969020da967c0/expr.png\" style=\"display:inline;vertical-align:middle;\" /></a></span></td></tr>\n",
       "<tr><td><a name=\"proveit.numbers.summation.demonstrations.3b6e16dd6e35fdfc3a63529e605e48a500533a140_step3\">3</a></td><td>theorem</td><td></td><td><span style=\"font-size:20px;\"> <a class=\"ProveItLink\" href=\"../../../_theory_nbs_/proofs/weak_summation_from_summands_bound/thm_proof.ipynb\" style=\"text-decoration: none\">&nbsp;&#x22A2;&nbsp;&nbsp;</a><a class=\"ProveItLink\" href=\"../../theorems/60ea157c525ecba7de199e94b98a02bb5aa9d45e0/expr.ipynb\"><img src=\"../../theorems/60ea157c525ecba7de199e94b98a02bb5aa9d45e0/expr.png\" style=\"display:inline;vertical-align:middle;\" /></a></span></td></tr>\n",
       "<tr><td>&nbsp;</td><td colspan=4 style-\"text-align:left\"><a class=\"ProveItLink\" href=\"../../../_theory_nbs_/proofs/weak_summation_from_summands_bound/thm_proof.ipynb\">proveit.numbers.summation.weak_summation_from_summands_bound</a></td></tr></table>"
      ],
      "text/plain": [
       "<proveit._core_.proof._ShowProof at 0x7fa78a5f3d30>"
      ]
     },
     "execution_count": 1,
     "metadata": {},
     "output_type": "execute_result"
    }
   ],
   "source": [
    "import proveit\n",
    "# Automation is not needed when only showing a stored proof:\n",
    "proveit.defaults.automation = False # This will speed things up.\n",
    "proveit.defaults.inline_pngs = False # Makes files smaller.\n",
    "%show_proof"
   ]
  },
  {
   "cell_type": "code",
   "execution_count": null,
   "metadata": {},
   "outputs": [],
   "source": []
  }
 ],
 "metadata": {
  "kernelspec": {
   "display_name": "Python 3",
   "language": "python",
   "name": "python3"
  }
 },
 "nbformat": 4,
 "nbformat_minor": 0
}