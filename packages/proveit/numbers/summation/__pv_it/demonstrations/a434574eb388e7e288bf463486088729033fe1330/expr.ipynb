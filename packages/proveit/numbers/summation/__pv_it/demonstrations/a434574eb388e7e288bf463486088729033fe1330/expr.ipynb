{
 "cells": [
  {
   "cell_type": "markdown",
   "metadata": {},
   "source": [
    "Expression of type <a class=\"ProveItLink\" href=\"../../../../../../../doc/html/api/proveit.ExprTuple.html\">ExprTuple</a>\n",
    "=======================\n",
    "# from the theory of <a class=\"ProveItLink\" href=\"../../../_theory_nbs_/theory.ipynb\">proveit.numbers.summation</a>"
   ]
  },
  {
   "cell_type": "code",
   "execution_count": 1,
   "metadata": {},
   "outputs": [],
   "source": [
    "import proveit\n",
    "# Automation is not needed when building an expression:\n",
    "proveit.defaults.automation = False # This will speed things up.\n",
    "proveit.defaults.inline_pngs = False # Makes files smaller.\n",
    "%load_expr # Load the stored expression as 'stored_expr'\n",
    "# import Expression classes needed to build the expression\n",
    "from proveit import ExprTuple, a, k\n",
    "from proveit.numbers import Add, Interval, Sum, eight, nine, seven, subtract, two"
   ]
  },
  {
   "cell_type": "code",
   "execution_count": 2,
   "metadata": {},
   "outputs": [
    {
     "data": {
      "text/html": [
       "<strong id=\"expr\">expr:</strong> <a class=\"ProveItLink\" href=\"expr.ipynb\"><img src=\"expr.png\" style=\"display:inline;vertical-align:middle;\" /></a><br>"
      ],
      "text/plain": [
       "<IPython.core.display.HTML object>"
      ]
     },
     "metadata": {},
     "output_type": "display_data"
    }
   ],
   "source": [
    "# build up the expression from sub-expressions\n",
    "sub_expr1 = [k]\n",
    "sub_expr2 = subtract(k, two)\n",
    "expr = ExprTuple(Sum(index_or_indices = sub_expr1, summand = sub_expr2, domain = Interval(a, nine)), Add(Sum(index_or_indices = sub_expr1, summand = sub_expr2, domain = Interval(a, seven)), Sum(index_or_indices = sub_expr1, summand = sub_expr2, domain = Interval(eight, nine))))"
   ]
  },
  {
   "cell_type": "code",
   "execution_count": 3,
   "metadata": {},
   "outputs": [
    {
     "name": "stdout",
     "output_type": "stream",
     "text": [
      "Passed sanity check: expr matches stored_expr\n"
     ]
    }
   ],
   "source": [
    "# check that the built expression is the same as the stored expression\n",
    "assert expr == stored_expr\n",
    "assert expr._style_id == stored_expr._style_id\n",
    "print(\"Passed sanity check: expr matches stored_expr\")"
   ]
  },
  {
   "cell_type": "code",
   "execution_count": 4,
   "metadata": {},
   "outputs": [
    {
     "name": "stdout",
     "output_type": "stream",
     "text": [
      "\\left(\\sum_{k = a}^{9} \\left(k - 2\\right), \\left(\\sum_{k = a}^{7} \\left(k - 2\\right)\\right) + \\left(\\sum_{k = 8}^{9} \\left(k - 2\\right)\\right)\\right)\n"
     ]
    }
   ],
   "source": [
    "# Show the LaTeX representation of the expression for convenience if you need it.\n",
    "print(stored_expr.latex())"
   ]
  },
  {
   "cell_type": "code",
   "execution_count": 5,
   "metadata": {},
   "outputs": [
    {
     "data": {
      "text/html": [
       "<table>\n",
       "<tr><th>name</th><th>description</th><th>default</th><th>current value</th><th>related methods</th></tr><tr><td>wrap_positions</td><td>position(s) at which wrapping is to occur; 'n' is after the nth comma.</td><td>()</td><td>()</td><td>('with_wrapping_at',)</td></tr>\n",
       "<tr><td>justification</td><td>if any wrap positions are set, justify to the 'left', 'center', or 'right'</td><td>left</td><td>left</td><td>('with_justification',)</td></tr>\n",
       "</table>\n"
      ],
      "text/plain": [
       "style name: wrap_positions\n",
       "description: position(s) at which wrapping is to occur; 'n' is after the nth comma.\n",
       "default: ()\n",
       "current value: ()\n",
       "related methods: ('with_wrapping_at',)\n",
       "style name: justification\n",
       "description: if any wrap positions are set, justify to the 'left', 'center', or 'right'\n",
       "default: left\n",
       "current value: left\n",
       "related methods: ('with_justification',)"
      ]
     },
     "metadata": {},
     "output_type": "display_data"
    }
   ],
   "source": [
    "stored_expr.style_options()"
   ]
  },
  {
   "cell_type": "code",
   "execution_count": 6,
   "metadata": {},
   "outputs": [
    {
     "data": {
      "text/html": [
       "<table><tr><th>&nbsp;</th><th>core type</th><th>sub-expressions</th><th>expression</th></tr>\n",
       "<tr><td>0</td><td>ExprTuple</td><td>1, 2</td><td><a class=\"ProveItLink\" href=\"expr.ipynb\"><img src=\"expr.png\" style=\"display:inline;vertical-align:middle;\" /></a></td></tr>\n",
       "<tr><td>1</td><td>Operation</td><td>operator:&nbsp;10<br>operand:&nbsp;5<br></td><td><a class=\"ProveItLink\" href=\"../3a566f87d02429308999f80a2993c12c79d8228f0/expr.ipynb\"><img src=\"../3a566f87d02429308999f80a2993c12c79d8228f0/expr.png\" style=\"display:inline;vertical-align:middle;\" /></a></td></tr>\n",
       "<tr><td>2</td><td>Operation</td><td>operator:&nbsp;25<br>operands:&nbsp;4<br></td><td><a class=\"ProveItLink\" href=\"../5c7835e3db83723984ba59f94e8cce005297e9c10/expr.ipynb\"><img src=\"../5c7835e3db83723984ba59f94e8cce005297e9c10/expr.png\" style=\"display:inline;vertical-align:middle;\" /></a></td></tr>\n",
       "<tr><td>3</td><td>ExprTuple</td><td>5</td><td><a class=\"ProveItLink\" href=\"../c74bb6658ae65176033b4379ef8458e31aab17570/expr.ipynb\"><img src=\"../c74bb6658ae65176033b4379ef8458e31aab17570/expr.png\" style=\"display:inline;vertical-align:middle;\" /></a></td></tr>\n",
       "<tr><td>4</td><td>ExprTuple</td><td>6, 7</td><td><a class=\"ProveItLink\" href=\"../86e95438651aa0f5e1ee9907f4243ab8c15c973e0/expr.ipynb\"><img src=\"../86e95438651aa0f5e1ee9907f4243ab8c15c973e0/expr.png\" style=\"display:inline;vertical-align:middle;\" /></a></td></tr>\n",
       "<tr><td>5</td><td>Lambda</td><td>parameter:&nbsp;31<br>body:&nbsp;8<br></td><td><a class=\"ProveItLink\" href=\"../8f165554303f52a060531504e2a5b80c2f3dc9180/expr.ipynb\"><img src=\"../8f165554303f52a060531504e2a5b80c2f3dc9180/expr.png\" style=\"display:inline;vertical-align:middle;\" /></a></td></tr>\n",
       "<tr><td>6</td><td>Operation</td><td>operator:&nbsp;10<br>operand:&nbsp;13<br></td><td><a class=\"ProveItLink\" href=\"../ae48c170dbdb17266465589464515c6f776627180/expr.ipynb\"><img src=\"../ae48c170dbdb17266465589464515c6f776627180/expr.png\" style=\"display:inline;vertical-align:middle;\" /></a></td></tr>\n",
       "<tr><td>7</td><td>Operation</td><td>operator:&nbsp;10<br>operand:&nbsp;14<br></td><td><a class=\"ProveItLink\" href=\"../d197fc35f61f4165e8d0bbe544646ea7984d50ea0/expr.ipynb\"><img src=\"../d197fc35f61f4165e8d0bbe544646ea7984d50ea0/expr.png\" style=\"display:inline;vertical-align:middle;\" /></a></td></tr>\n",
       "<tr><td>8</td><td>Conditional</td><td>value:&nbsp;21<br>condition:&nbsp;12<br></td><td><a class=\"ProveItLink\" href=\"../7f7327e1acaea3797da32f3a8b65fd1aa83b93d30/expr.ipynb\"><img src=\"../7f7327e1acaea3797da32f3a8b65fd1aa83b93d30/expr.png\" style=\"display:inline;vertical-align:middle;\" /></a></td></tr>\n",
       "<tr><td>9</td><td>ExprTuple</td><td>13</td><td><a class=\"ProveItLink\" href=\"../e761bdffd0aaf0a0d742a1c3879d9d1195b212920/expr.ipynb\"><img src=\"../e761bdffd0aaf0a0d742a1c3879d9d1195b212920/expr.png\" style=\"display:inline;vertical-align:middle;\" /></a></td></tr>\n",
       "<tr><td>10</td><td>Literal</td><td></td><td><a class=\"ProveItLink\" href=\"../../common/14fe61cccc388f91dfd83d3ca31cf27448cc070a0/expr.ipynb\"><img src=\"../../common/14fe61cccc388f91dfd83d3ca31cf27448cc070a0/expr.png\" style=\"display:inline;vertical-align:middle;\" /></a></td></tr>\n",
       "<tr><td>11</td><td>ExprTuple</td><td>14</td><td><a class=\"ProveItLink\" href=\"../3dfd180781b01436601e5bbb59478b712a0405130/expr.ipynb\"><img src=\"../3dfd180781b01436601e5bbb59478b712a0405130/expr.png\" style=\"display:inline;vertical-align:middle;\" /></a></td></tr>\n",
       "<tr><td>12</td><td>Operation</td><td>operator:&nbsp;27<br>operands:&nbsp;15<br></td><td><a class=\"ProveItLink\" href=\"../9a919cab18cd859306f192c0f05fdbf3b7725d750/expr.ipynb\"><img src=\"../9a919cab18cd859306f192c0f05fdbf3b7725d750/expr.png\" style=\"display:inline;vertical-align:middle;\" /></a></td></tr>\n",
       "<tr><td>13</td><td>Lambda</td><td>parameter:&nbsp;31<br>body:&nbsp;16<br></td><td><a class=\"ProveItLink\" href=\"../f3ca95b8488d42dd006d39938b093cad117ea7dc0/expr.ipynb\"><img src=\"../f3ca95b8488d42dd006d39938b093cad117ea7dc0/expr.png\" style=\"display:inline;vertical-align:middle;\" /></a></td></tr>\n",
       "<tr><td>14</td><td>Lambda</td><td>parameter:&nbsp;31<br>body:&nbsp;18<br></td><td><a class=\"ProveItLink\" href=\"../0ee7d2a853dc3ffeaa9fa36df00d3219c23886300/expr.ipynb\"><img src=\"../0ee7d2a853dc3ffeaa9fa36df00d3219c23886300/expr.png\" style=\"display:inline;vertical-align:middle;\" /></a></td></tr>\n",
       "<tr><td>15</td><td>ExprTuple</td><td>31, 19</td><td><a class=\"ProveItLink\" href=\"../9d928eef34c55bae3d6ddf3a909a0c43c92cd0920/expr.ipynb\"><img src=\"../9d928eef34c55bae3d6ddf3a909a0c43c92cd0920/expr.png\" style=\"display:inline;vertical-align:middle;\" /></a></td></tr>\n",
       "<tr><td>16</td><td>Conditional</td><td>value:&nbsp;21<br>condition:&nbsp;20<br></td><td><a class=\"ProveItLink\" href=\"../ca11dd6e3f8a70f093247a45668825f1faa21bab0/expr.ipynb\"><img src=\"../ca11dd6e3f8a70f093247a45668825f1faa21bab0/expr.png\" style=\"display:inline;vertical-align:middle;\" /></a></td></tr>\n",
       "<tr><td>17</td><td>ExprTuple</td><td>31</td><td><a class=\"ProveItLink\" href=\"../../common/36569ebfbef1eee76da90134ba3a4620a4cb94130/expr.ipynb\"><img src=\"../../common/36569ebfbef1eee76da90134ba3a4620a4cb94130/expr.png\" style=\"display:inline;vertical-align:middle;\" /></a></td></tr>\n",
       "<tr><td>18</td><td>Conditional</td><td>value:&nbsp;21<br>condition:&nbsp;22<br></td><td><a class=\"ProveItLink\" href=\"../356e717c1722bfe0eec0d7f50c47743de4c19c560/expr.ipynb\"><img src=\"../356e717c1722bfe0eec0d7f50c47743de4c19c560/expr.png\" style=\"display:inline;vertical-align:middle;\" /></a></td></tr>\n",
       "<tr><td>19</td><td>Operation</td><td>operator:&nbsp;36<br>operands:&nbsp;23<br></td><td><a class=\"ProveItLink\" href=\"../e2d1a17e06f3e2572b9ae5d7038e11c2361286eb0/expr.ipynb\"><img src=\"../e2d1a17e06f3e2572b9ae5d7038e11c2361286eb0/expr.png\" style=\"display:inline;vertical-align:middle;\" /></a></td></tr>\n",
       "<tr><td>20</td><td>Operation</td><td>operator:&nbsp;27<br>operands:&nbsp;24<br></td><td><a class=\"ProveItLink\" href=\"../09dcb545105574c56be32f93807c193b8aba8acb0/expr.ipynb\"><img src=\"../09dcb545105574c56be32f93807c193b8aba8acb0/expr.png\" style=\"display:inline;vertical-align:middle;\" /></a></td></tr>\n",
       "<tr><td>21</td><td>Operation</td><td>operator:&nbsp;25<br>operands:&nbsp;26<br></td><td><a class=\"ProveItLink\" href=\"../dbcf9ab42fe328d7a4a0b2977b1fc78559c36b2b0/expr.ipynb\"><img src=\"../dbcf9ab42fe328d7a4a0b2977b1fc78559c36b2b0/expr.png\" style=\"display:inline;vertical-align:middle;\" /></a></td></tr>\n",
       "<tr><td>22</td><td>Operation</td><td>operator:&nbsp;27<br>operands:&nbsp;28<br></td><td><a class=\"ProveItLink\" href=\"../2e0c4ad18a1e1bbb5d56542e0108d066e7d94d970/expr.ipynb\"><img src=\"../2e0c4ad18a1e1bbb5d56542e0108d066e7d94d970/expr.png\" style=\"display:inline;vertical-align:middle;\" /></a></td></tr>\n",
       "<tr><td>23</td><td>ExprTuple</td><td>38, 42</td><td><a class=\"ProveItLink\" href=\"../4a0d006b43f2fa93345622713d2796b4c8e5b4900/expr.ipynb\"><img src=\"../4a0d006b43f2fa93345622713d2796b4c8e5b4900/expr.png\" style=\"display:inline;vertical-align:middle;\" /></a></td></tr>\n",
       "<tr><td>24</td><td>ExprTuple</td><td>31, 29</td><td><a class=\"ProveItLink\" href=\"../865ade740ffdb53cdc8c5772d162305b884218ab0/expr.ipynb\"><img src=\"../865ade740ffdb53cdc8c5772d162305b884218ab0/expr.png\" style=\"display:inline;vertical-align:middle;\" /></a></td></tr>\n",
       "<tr><td>25</td><td>Literal</td><td></td><td><a class=\"ProveItLink\" href=\"../../../../addition/__pv_it/common/4b7effaab3619a1c2c38fe2dee8601df8ec714590/expr.ipynb\"><img src=\"../../../../addition/__pv_it/common/4b7effaab3619a1c2c38fe2dee8601df8ec714590/expr.png\" style=\"display:inline;vertical-align:middle;\" /></a></td></tr>\n",
       "<tr><td>26</td><td>ExprTuple</td><td>31, 30</td><td><a class=\"ProveItLink\" href=\"../50991526f5cdd62cbb8d96606c4f23de25bd32530/expr.ipynb\"><img src=\"../50991526f5cdd62cbb8d96606c4f23de25bd32530/expr.png\" style=\"display:inline;vertical-align:middle;\" /></a></td></tr>\n",
       "<tr><td>27</td><td>Literal</td><td></td><td><a class=\"ProveItLink\" href=\"../../../../../logic/sets/membership/__pv_it/common/477487d8796864d23d5810f83761435f25167f690/expr.ipynb\"><img src=\"../../../../../logic/sets/membership/__pv_it/common/477487d8796864d23d5810f83761435f25167f690/expr.png\" style=\"display:inline;vertical-align:middle;\" /></a></td></tr>\n",
       "<tr><td>28</td><td>ExprTuple</td><td>31, 32</td><td><a class=\"ProveItLink\" href=\"../eae839f4e580ed0d57a79335931432243e7319500/expr.ipynb\"><img src=\"../eae839f4e580ed0d57a79335931432243e7319500/expr.png\" style=\"display:inline;vertical-align:middle;\" /></a></td></tr>\n",
       "<tr><td>29</td><td>Operation</td><td>operator:&nbsp;36<br>operands:&nbsp;33<br></td><td><a class=\"ProveItLink\" href=\"../3efafb19fa59886683b449b7d62eedd27013148c0/expr.ipynb\"><img src=\"../3efafb19fa59886683b449b7d62eedd27013148c0/expr.png\" style=\"display:inline;vertical-align:middle;\" /></a></td></tr>\n",
       "<tr><td>30</td><td>Operation</td><td>operator:&nbsp;34<br>operand:&nbsp;40<br></td><td><a class=\"ProveItLink\" href=\"../16bf7762f473cc2cfad370a096ed5f2eb39b6b2c0/expr.ipynb\"><img src=\"../16bf7762f473cc2cfad370a096ed5f2eb39b6b2c0/expr.png\" style=\"display:inline;vertical-align:middle;\" /></a></td></tr>\n",
       "<tr><td>31</td><td>Variable</td><td></td><td><a class=\"ProveItLink\" href=\"../../../../../__pv_it/common/63b7c64bf9ec7a04ecc396c7a1670f3f12fb59490/expr.ipynb\"><img src=\"../../../../../__pv_it/common/63b7c64bf9ec7a04ecc396c7a1670f3f12fb59490/expr.png\" style=\"display:inline;vertical-align:middle;\" /></a></td></tr>\n",
       "<tr><td>32</td><td>Operation</td><td>operator:&nbsp;36<br>operands:&nbsp;37<br></td><td><a class=\"ProveItLink\" href=\"../aba3cf4fcd04731b4419b2b04266c4643b9957670/expr.ipynb\"><img src=\"../aba3cf4fcd04731b4419b2b04266c4643b9957670/expr.png\" style=\"display:inline;vertical-align:middle;\" /></a></td></tr>\n",
       "<tr><td>33</td><td>ExprTuple</td><td>38, 39</td><td><a class=\"ProveItLink\" href=\"../f61ff814d09bb97b96d0cab6fc04477dcb69cf670/expr.ipynb\"><img src=\"../f61ff814d09bb97b96d0cab6fc04477dcb69cf670/expr.png\" style=\"display:inline;vertical-align:middle;\" /></a></td></tr>\n",
       "<tr><td>34</td><td>Literal</td><td></td><td><a class=\"ProveItLink\" href=\"../../../../negation/__pv_it/common/221b3c4d1770ee9051b7c044c3f9ec61196fc34b0/expr.ipynb\"><img src=\"../../../../negation/__pv_it/common/221b3c4d1770ee9051b7c044c3f9ec61196fc34b0/expr.png\" style=\"display:inline;vertical-align:middle;\" /></a></td></tr>\n",
       "<tr><td>35</td><td>ExprTuple</td><td>40</td><td><a class=\"ProveItLink\" href=\"../56953b0728fa2850398ae7a13d530612ae194a390/expr.ipynb\"><img src=\"../56953b0728fa2850398ae7a13d530612ae194a390/expr.png\" style=\"display:inline;vertical-align:middle;\" /></a></td></tr>\n",
       "<tr><td>36</td><td>Literal</td><td></td><td><a class=\"ProveItLink\" href=\"../../../../number_sets/integers/__pv_it/common/92f3a0a77e3c3ea8e4a5c8674edadc54e4f57d550/expr.ipynb\"><img src=\"../../../../number_sets/integers/__pv_it/common/92f3a0a77e3c3ea8e4a5c8674edadc54e4f57d550/expr.png\" style=\"display:inline;vertical-align:middle;\" /></a></td></tr>\n",
       "<tr><td>37</td><td>ExprTuple</td><td>41, 42</td><td><a class=\"ProveItLink\" href=\"../../../../numerals/decimals/__pv_it/theorems/9d391673bb50d038a242f44475bb829740d93ee30/expr.ipynb\"><img src=\"../../../../numerals/decimals/__pv_it/theorems/9d391673bb50d038a242f44475bb829740d93ee30/expr.png\" style=\"display:inline;vertical-align:middle;\" /></a></td></tr>\n",
       "<tr><td>38</td><td>Variable</td><td></td><td><a class=\"ProveItLink\" href=\"../../../../../__pv_it/common/c06c606ec12678c58933ac85412ecadc2ae28be60/expr.ipynb\"><img src=\"../../../../../__pv_it/common/c06c606ec12678c58933ac85412ecadc2ae28be60/expr.png\" style=\"display:inline;vertical-align:middle;\" /></a></td></tr>\n",
       "<tr><td>39</td><td>Literal</td><td></td><td><a class=\"ProveItLink\" href=\"../../../../numerals/__pv_it/common/3dfdb143be8c2c1b027a0bc361bad6a4ea13be240/expr.ipynb\"><img src=\"../../../../numerals/__pv_it/common/3dfdb143be8c2c1b027a0bc361bad6a4ea13be240/expr.png\" style=\"display:inline;vertical-align:middle;\" /></a></td></tr>\n",
       "<tr><td>40</td><td>Literal</td><td></td><td><a class=\"ProveItLink\" href=\"../../../../numerals/__pv_it/common/af4aab8a07465db063742696e006d04670f30cf10/expr.ipynb\"><img src=\"../../../../numerals/__pv_it/common/af4aab8a07465db063742696e006d04670f30cf10/expr.png\" style=\"display:inline;vertical-align:middle;\" /></a></td></tr>\n",
       "<tr><td>41</td><td>Literal</td><td></td><td><a class=\"ProveItLink\" href=\"../../../../numerals/__pv_it/common/ceed6b354935ad1d236d250dc51c3b98bca3a8960/expr.ipynb\"><img src=\"../../../../numerals/__pv_it/common/ceed6b354935ad1d236d250dc51c3b98bca3a8960/expr.png\" style=\"display:inline;vertical-align:middle;\" /></a></td></tr>\n",
       "<tr><td>42</td><td>Literal</td><td></td><td><a class=\"ProveItLink\" href=\"../../../../numerals/__pv_it/common/22593540f11ac41f656b6119a111361a0782e98b0/expr.ipynb\"><img src=\"../../../../numerals/__pv_it/common/22593540f11ac41f656b6119a111361a0782e98b0/expr.png\" style=\"display:inline;vertical-align:middle;\" /></a></td></tr>\n",
       "</table>\n"
      ],
      "text/plain": [
       "0. (Sum_{k = a}^{9} (k - 2), (Sum_{k = a}^{7} (k - 2)) + (Sum_{k = 8}^{9} (k - 2)))\n",
       "   core type: ExprTuple\n",
       "   sub-expressions: 1, 2\n",
       "1. Sum_{k = a}^{9} (k - 2)\n",
       "   core type: Operation\n",
       "   operator: 10\n",
       "   operand: 5\n",
       "2. (Sum_{k = a}^{7} (k - 2)) + (Sum_{k = 8}^{9} (k - 2))\n",
       "   core type: Operation\n",
       "   operator: 25\n",
       "   operands: 4\n",
       "3. (k -> {k - 2 if k in {a .. 9}.)\n",
       "   core type: ExprTuple\n",
       "   sub-expressions: 5\n",
       "4. (Sum_{k = a}^{7} (k - 2), Sum_{k = 8}^{9} (k - 2))\n",
       "   core type: ExprTuple\n",
       "   sub-expressions: 6, 7\n",
       "5. k -> {k - 2 if k in {a .. 9}.\n",
       "   core type: Lambda\n",
       "   parameter: 31\n",
       "   body: 8\n",
       "6. Sum_{k = a}^{7} (k - 2)\n",
       "   core type: Operation\n",
       "   operator: 10\n",
       "   operand: 13\n",
       "7. Sum_{k = 8}^{9} (k - 2)\n",
       "   core type: Operation\n",
       "   operator: 10\n",
       "   operand: 14\n",
       "8. {k - 2 if k in {a .. 9}.\n",
       "   core type: Conditional\n",
       "   value: 21\n",
       "   condition: 12\n",
       "9. (k -> {k - 2 if k in {a .. 7}.)\n",
       "   core type: ExprTuple\n",
       "   sub-expressions: 13\n",
       "10. Sum\n",
       "    core type: Literal\n",
       "    sub-expressions: \n",
       "11. (k -> {k - 2 if k in {8 .. 9}.)\n",
       "    core type: ExprTuple\n",
       "    sub-expressions: 14\n",
       "12. k in {a .. 9}\n",
       "    core type: Operation\n",
       "    operator: 27\n",
       "    operands: 15\n",
       "13. k -> {k - 2 if k in {a .. 7}.\n",
       "    core type: Lambda\n",
       "    parameter: 31\n",
       "    body: 16\n",
       "14. k -> {k - 2 if k in {8 .. 9}.\n",
       "    core type: Lambda\n",
       "    parameter: 31\n",
       "    body: 18\n",
       "15. (k, {a .. 9})\n",
       "    core type: ExprTuple\n",
       "    sub-expressions: 31, 19\n",
       "16. {k - 2 if k in {a .. 7}.\n",
       "    core type: Conditional\n",
       "    value: 21\n",
       "    condition: 20\n",
       "17. (k)\n",
       "    core type: ExprTuple\n",
       "    sub-expressions: 31\n",
       "18. {k - 2 if k in {8 .. 9}.\n",
       "    core type: Conditional\n",
       "    value: 21\n",
       "    condition: 22\n",
       "19. {a .. 9}\n",
       "    core type: Operation\n",
       "    operator: 36\n",
       "    operands: 23\n",
       "20. k in {a .. 7}\n",
       "    core type: Operation\n",
       "    operator: 27\n",
       "    operands: 24\n",
       "21. k - 2\n",
       "    core type: Operation\n",
       "    operator: 25\n",
       "    operands: 26\n",
       "22. k in {8 .. 9}\n",
       "    core type: Operation\n",
       "    operator: 27\n",
       "    operands: 28\n",
       "23. (a, 9)\n",
       "    core type: ExprTuple\n",
       "    sub-expressions: 38, 42\n",
       "24. (k, {a .. 7})\n",
       "    core type: ExprTuple\n",
       "    sub-expressions: 31, 29\n",
       "25. +\n",
       "    core type: Literal\n",
       "    sub-expressions: \n",
       "26. (k, -2)\n",
       "    core type: ExprTuple\n",
       "    sub-expressions: 31, 30\n",
       "27. in\n",
       "    core type: Literal\n",
       "    sub-expressions: \n",
       "28. (k, {8 .. 9})\n",
       "    core type: ExprTuple\n",
       "    sub-expressions: 31, 32\n",
       "29. {a .. 7}\n",
       "    core type: Operation\n",
       "    operator: 36\n",
       "    operands: 33\n",
       "30. -2\n",
       "    core type: Operation\n",
       "    operator: 34\n",
       "    operand: 40\n",
       "31. k\n",
       "    core type: Variable\n",
       "    sub-expressions: \n",
       "32. {8 .. 9}\n",
       "    core type: Operation\n",
       "    operator: 36\n",
       "    operands: 37\n",
       "33. (a, 7)\n",
       "    core type: ExprTuple\n",
       "    sub-expressions: 38, 39\n",
       "34. -\n",
       "    core type: Literal\n",
       "    sub-expressions: \n",
       "35. (2)\n",
       "    core type: ExprTuple\n",
       "    sub-expressions: 40\n",
       "36. Interval\n",
       "    core type: Literal\n",
       "    sub-expressions: \n",
       "37. (8, 9)\n",
       "    core type: ExprTuple\n",
       "    sub-expressions: 41, 42\n",
       "38. a\n",
       "    core type: Variable\n",
       "    sub-expressions: \n",
       "39. 7\n",
       "    core type: Literal\n",
       "    sub-expressions: \n",
       "40. 2\n",
       "    core type: Literal\n",
       "    sub-expressions: \n",
       "41. 8\n",
       "    core type: Literal\n",
       "    sub-expressions: \n",
       "42. 9\n",
       "    core type: Literal\n",
       "    sub-expressions: "
      ]
     },
     "metadata": {},
     "output_type": "display_data"
    }
   ],
   "source": [
    "# display the expression information\n",
    "stored_expr.expr_info()"
   ]
  },
  {
   "cell_type": "code",
   "execution_count": null,
   "metadata": {},
   "outputs": [],
   "source": []
  }
 ],
 "metadata": {
  "kernelspec": {
   "display_name": "Python 3",
   "language": "python",
   "name": "python3"
  }
 },
 "nbformat": 4,
 "nbformat_minor": 0
}