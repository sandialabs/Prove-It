{
 "cells": [
  {
   "cell_type": "markdown",
   "metadata": {},
   "source": [
    "Expression of type <a class=\"ProveItLink\" href=\"../../../../../../../doc/html/api/proveit.ExprTuple.html\">ExprTuple</a>\n",
    "=======================\n",
    "# from the theory of <a class=\"ProveItLink\" href=\"../../../_theory_nbs_/theory.ipynb\">proveit.numbers.summation</a>"
   ]
  },
  {
   "cell_type": "code",
   "execution_count": 1,
   "metadata": {},
   "outputs": [],
   "source": [
    "import proveit\n",
    "# Automation is not needed when building an expression:\n",
    "proveit.defaults.automation = False # This will speed things up.\n",
    "proveit.defaults.inline_pngs = False # Makes files smaller.\n",
    "%load_expr # Load the stored expression as 'stored_expr'\n",
    "# import Expression classes needed to build the expression\n",
    "from proveit import ExprTuple, a, k\n",
    "from proveit.numbers import Add, Interval, Sum, nine, one, subtract, two"
   ]
  },
  {
   "cell_type": "code",
   "execution_count": 2,
   "metadata": {},
   "outputs": [
    {
     "data": {
      "text/html": [
       "<strong id=\"expr\">expr:</strong> <a class=\"ProveItLink\" href=\"expr.ipynb\"><img src=\"expr.png\" style=\"display:inline;vertical-align:middle;\" /></a><br>"
      ],
      "text/plain": [
       "<IPython.core.display.HTML object>"
      ]
     },
     "metadata": {},
     "output_type": "display_data"
    }
   ],
   "source": [
    "# build up the expression from sub-expressions\n",
    "sub_expr1 = [k]\n",
    "sub_expr2 = subtract(k, two)\n",
    "expr = ExprTuple(Sum(index_or_indices = sub_expr1, summand = sub_expr2, domain = Interval(a, nine)), Add(Sum(index_or_indices = sub_expr1, summand = sub_expr2, domain = Interval(a, subtract(nine, one))), subtract(nine, two)))"
   ]
  },
  {
   "cell_type": "code",
   "execution_count": 3,
   "metadata": {},
   "outputs": [
    {
     "name": "stdout",
     "output_type": "stream",
     "text": [
      "Passed sanity check: expr matches stored_expr\n"
     ]
    }
   ],
   "source": [
    "# check that the built expression is the same as the stored expression\n",
    "assert expr == stored_expr\n",
    "assert expr._style_id == stored_expr._style_id\n",
    "print(\"Passed sanity check: expr matches stored_expr\")"
   ]
  },
  {
   "cell_type": "code",
   "execution_count": 4,
   "metadata": {},
   "outputs": [
    {
     "name": "stdout",
     "output_type": "stream",
     "text": [
      "\\left(\\sum_{k = a}^{9} \\left(k - 2\\right), \\left(\\sum_{k = a}^{9 - 1} \\left(k - 2\\right)\\right) + \\left(9 - 2\\right)\\right)\n"
     ]
    }
   ],
   "source": [
    "# Show the LaTeX representation of the expression for convenience if you need it.\n",
    "print(stored_expr.latex())"
   ]
  },
  {
   "cell_type": "code",
   "execution_count": 5,
   "metadata": {},
   "outputs": [
    {
     "data": {
      "text/html": [
       "<table>\n",
       "<tr><th>name</th><th>description</th><th>default</th><th>current value</th><th>related methods</th></tr><tr><td>wrap_positions</td><td>position(s) at which wrapping is to occur; 'n' is after the nth comma.</td><td>()</td><td>()</td><td>('with_wrapping_at',)</td></tr>\n",
       "<tr><td>justification</td><td>if any wrap positions are set, justify to the 'left', 'center', or 'right'</td><td>left</td><td>left</td><td>('with_justification',)</td></tr>\n",
       "</table>\n"
      ],
      "text/plain": [
       "style name: wrap_positions\n",
       "description: position(s) at which wrapping is to occur; 'n' is after the nth comma.\n",
       "default: ()\n",
       "current value: ()\n",
       "related methods: ('with_wrapping_at',)\n",
       "style name: justification\n",
       "description: if any wrap positions are set, justify to the 'left', 'center', or 'right'\n",
       "default: left\n",
       "current value: left\n",
       "related methods: ('with_justification',)"
      ]
     },
     "metadata": {},
     "output_type": "display_data"
    }
   ],
   "source": [
    "stored_expr.style_options()"
   ]
  },
  {
   "cell_type": "code",
   "execution_count": 6,
   "metadata": {},
   "outputs": [
    {
     "data": {
      "text/html": [
       "<table><tr><th>&nbsp;</th><th>core type</th><th>sub-expressions</th><th>expression</th></tr>\n",
       "<tr><td>0</td><td>ExprTuple</td><td>1, 2</td><td><a class=\"ProveItLink\" href=\"expr.ipynb\"><img src=\"expr.png\" style=\"display:inline;vertical-align:middle;\" /></a></td></tr>\n",
       "<tr><td>1</td><td>Operation</td><td>operator:&nbsp;9<br>operand:&nbsp;5<br></td><td><a class=\"ProveItLink\" href=\"../3a566f87d02429308999f80a2993c12c79d8228f0/expr.ipynb\"><img src=\"../3a566f87d02429308999f80a2993c12c79d8228f0/expr.png\" style=\"display:inline;vertical-align:middle;\" /></a></td></tr>\n",
       "<tr><td>2</td><td>Operation</td><td>operator:&nbsp;33<br>operands:&nbsp;4<br></td><td><a class=\"ProveItLink\" href=\"../1e972c3f21ce151e3508de60239eddfcc251e0a50/expr.ipynb\"><img src=\"../1e972c3f21ce151e3508de60239eddfcc251e0a50/expr.png\" style=\"display:inline;vertical-align:middle;\" /></a></td></tr>\n",
       "<tr><td>3</td><td>ExprTuple</td><td>5</td><td><a class=\"ProveItLink\" href=\"../c74bb6658ae65176033b4379ef8458e31aab17570/expr.ipynb\"><img src=\"../c74bb6658ae65176033b4379ef8458e31aab17570/expr.png\" style=\"display:inline;vertical-align:middle;\" /></a></td></tr>\n",
       "<tr><td>4</td><td>ExprTuple</td><td>6, 7</td><td><a class=\"ProveItLink\" href=\"../5def7f1ba7437a871fea063cfb7a80e46e61a9c90/expr.ipynb\"><img src=\"../5def7f1ba7437a871fea063cfb7a80e46e61a9c90/expr.png\" style=\"display:inline;vertical-align:middle;\" /></a></td></tr>\n",
       "<tr><td>5</td><td>Lambda</td><td>parameter:&nbsp;25<br>body:&nbsp;8<br></td><td><a class=\"ProveItLink\" href=\"../8f165554303f52a060531504e2a5b80c2f3dc9180/expr.ipynb\"><img src=\"../8f165554303f52a060531504e2a5b80c2f3dc9180/expr.png\" style=\"display:inline;vertical-align:middle;\" /></a></td></tr>\n",
       "<tr><td>6</td><td>Operation</td><td>operator:&nbsp;9<br>operand:&nbsp;13<br></td><td><a class=\"ProveItLink\" href=\"../76dab008591711870dc3b5952aa7f8b5a0247cd30/expr.ipynb\"><img src=\"../76dab008591711870dc3b5952aa7f8b5a0247cd30/expr.png\" style=\"display:inline;vertical-align:middle;\" /></a></td></tr>\n",
       "<tr><td>7</td><td>Operation</td><td>operator:&nbsp;33<br>operands:&nbsp;11<br></td><td><a class=\"ProveItLink\" href=\"../91ef520bd789d79e2538fe1b93c1c6e56e04e0e80/expr.ipynb\"><img src=\"../91ef520bd789d79e2538fe1b93c1c6e56e04e0e80/expr.png\" style=\"display:inline;vertical-align:middle;\" /></a></td></tr>\n",
       "<tr><td>8</td><td>Conditional</td><td>value:&nbsp;18<br>condition:&nbsp;12<br></td><td><a class=\"ProveItLink\" href=\"../7f7327e1acaea3797da32f3a8b65fd1aa83b93d30/expr.ipynb\"><img src=\"../7f7327e1acaea3797da32f3a8b65fd1aa83b93d30/expr.png\" style=\"display:inline;vertical-align:middle;\" /></a></td></tr>\n",
       "<tr><td>9</td><td>Literal</td><td></td><td><a class=\"ProveItLink\" href=\"../../common/14fe61cccc388f91dfd83d3ca31cf27448cc070a0/expr.ipynb\"><img src=\"../../common/14fe61cccc388f91dfd83d3ca31cf27448cc070a0/expr.png\" style=\"display:inline;vertical-align:middle;\" /></a></td></tr>\n",
       "<tr><td>10</td><td>ExprTuple</td><td>13</td><td><a class=\"ProveItLink\" href=\"../b170d6d925e2c1a3248a54b3e2359b78944a57db0/expr.ipynb\"><img src=\"../b170d6d925e2c1a3248a54b3e2359b78944a57db0/expr.png\" style=\"display:inline;vertical-align:middle;\" /></a></td></tr>\n",
       "<tr><td>11</td><td>ExprTuple</td><td>35, 24</td><td><a class=\"ProveItLink\" href=\"../6864081e6f7896d01b2b878e1b8c064a3e834cd10/expr.ipynb\"><img src=\"../6864081e6f7896d01b2b878e1b8c064a3e834cd10/expr.png\" style=\"display:inline;vertical-align:middle;\" /></a></td></tr>\n",
       "<tr><td>12</td><td>Operation</td><td>operator:&nbsp;22<br>operands:&nbsp;14<br></td><td><a class=\"ProveItLink\" href=\"../9a919cab18cd859306f192c0f05fdbf3b7725d750/expr.ipynb\"><img src=\"../9a919cab18cd859306f192c0f05fdbf3b7725d750/expr.png\" style=\"display:inline;vertical-align:middle;\" /></a></td></tr>\n",
       "<tr><td>13</td><td>Lambda</td><td>parameter:&nbsp;25<br>body:&nbsp;16<br></td><td><a class=\"ProveItLink\" href=\"../a6ad94e9ecd30786982336f7ae8a75835d6ca6920/expr.ipynb\"><img src=\"../a6ad94e9ecd30786982336f7ae8a75835d6ca6920/expr.png\" style=\"display:inline;vertical-align:middle;\" /></a></td></tr>\n",
       "<tr><td>14</td><td>ExprTuple</td><td>25, 17</td><td><a class=\"ProveItLink\" href=\"../9d928eef34c55bae3d6ddf3a909a0c43c92cd0920/expr.ipynb\"><img src=\"../9d928eef34c55bae3d6ddf3a909a0c43c92cd0920/expr.png\" style=\"display:inline;vertical-align:middle;\" /></a></td></tr>\n",
       "<tr><td>15</td><td>ExprTuple</td><td>25</td><td><a class=\"ProveItLink\" href=\"../../common/36569ebfbef1eee76da90134ba3a4620a4cb94130/expr.ipynb\"><img src=\"../../common/36569ebfbef1eee76da90134ba3a4620a4cb94130/expr.png\" style=\"display:inline;vertical-align:middle;\" /></a></td></tr>\n",
       "<tr><td>16</td><td>Conditional</td><td>value:&nbsp;18<br>condition:&nbsp;19<br></td><td><a class=\"ProveItLink\" href=\"../dc12c251e692a8fe450570f29df5b29e5d6711310/expr.ipynb\"><img src=\"../dc12c251e692a8fe450570f29df5b29e5d6711310/expr.png\" style=\"display:inline;vertical-align:middle;\" /></a></td></tr>\n",
       "<tr><td>17</td><td>Operation</td><td>operator:&nbsp;28<br>operands:&nbsp;20<br></td><td><a class=\"ProveItLink\" href=\"../e2d1a17e06f3e2572b9ae5d7038e11c2361286eb0/expr.ipynb\"><img src=\"../e2d1a17e06f3e2572b9ae5d7038e11c2361286eb0/expr.png\" style=\"display:inline;vertical-align:middle;\" /></a></td></tr>\n",
       "<tr><td>18</td><td>Operation</td><td>operator:&nbsp;33<br>operands:&nbsp;21<br></td><td><a class=\"ProveItLink\" href=\"../dbcf9ab42fe328d7a4a0b2977b1fc78559c36b2b0/expr.ipynb\"><img src=\"../dbcf9ab42fe328d7a4a0b2977b1fc78559c36b2b0/expr.png\" style=\"display:inline;vertical-align:middle;\" /></a></td></tr>\n",
       "<tr><td>19</td><td>Operation</td><td>operator:&nbsp;22<br>operands:&nbsp;23<br></td><td><a class=\"ProveItLink\" href=\"../0899b83c2826ee627850986e669a16b3624c5e4b0/expr.ipynb\"><img src=\"../0899b83c2826ee627850986e669a16b3624c5e4b0/expr.png\" style=\"display:inline;vertical-align:middle;\" /></a></td></tr>\n",
       "<tr><td>20</td><td>ExprTuple</td><td>31, 35</td><td><a class=\"ProveItLink\" href=\"../4a0d006b43f2fa93345622713d2796b4c8e5b4900/expr.ipynb\"><img src=\"../4a0d006b43f2fa93345622713d2796b4c8e5b4900/expr.png\" style=\"display:inline;vertical-align:middle;\" /></a></td></tr>\n",
       "<tr><td>21</td><td>ExprTuple</td><td>25, 24</td><td><a class=\"ProveItLink\" href=\"../50991526f5cdd62cbb8d96606c4f23de25bd32530/expr.ipynb\"><img src=\"../50991526f5cdd62cbb8d96606c4f23de25bd32530/expr.png\" style=\"display:inline;vertical-align:middle;\" /></a></td></tr>\n",
       "<tr><td>22</td><td>Literal</td><td></td><td><a class=\"ProveItLink\" href=\"../../../../../logic/sets/membership/__pv_it/common/477487d8796864d23d5810f83761435f25167f690/expr.ipynb\"><img src=\"../../../../../logic/sets/membership/__pv_it/common/477487d8796864d23d5810f83761435f25167f690/expr.png\" style=\"display:inline;vertical-align:middle;\" /></a></td></tr>\n",
       "<tr><td>23</td><td>ExprTuple</td><td>25, 26</td><td><a class=\"ProveItLink\" href=\"../760d34c5d5d1f041fa82707f9d7b8b8cc6a3841c0/expr.ipynb\"><img src=\"../760d34c5d5d1f041fa82707f9d7b8b8cc6a3841c0/expr.png\" style=\"display:inline;vertical-align:middle;\" /></a></td></tr>\n",
       "<tr><td>24</td><td>Operation</td><td>operator:&nbsp;37<br>operand:&nbsp;30<br></td><td><a class=\"ProveItLink\" href=\"../16bf7762f473cc2cfad370a096ed5f2eb39b6b2c0/expr.ipynb\"><img src=\"../16bf7762f473cc2cfad370a096ed5f2eb39b6b2c0/expr.png\" style=\"display:inline;vertical-align:middle;\" /></a></td></tr>\n",
       "<tr><td>25</td><td>Variable</td><td></td><td><a class=\"ProveItLink\" href=\"../../../../../__pv_it/common/63b7c64bf9ec7a04ecc396c7a1670f3f12fb59490/expr.ipynb\"><img src=\"../../../../../__pv_it/common/63b7c64bf9ec7a04ecc396c7a1670f3f12fb59490/expr.png\" style=\"display:inline;vertical-align:middle;\" /></a></td></tr>\n",
       "<tr><td>26</td><td>Operation</td><td>operator:&nbsp;28<br>operands:&nbsp;29<br></td><td><a class=\"ProveItLink\" href=\"../3c4429cbabf7654e8c58c12783724473337675930/expr.ipynb\"><img src=\"../3c4429cbabf7654e8c58c12783724473337675930/expr.png\" style=\"display:inline;vertical-align:middle;\" /></a></td></tr>\n",
       "<tr><td>27</td><td>ExprTuple</td><td>30</td><td><a class=\"ProveItLink\" href=\"../56953b0728fa2850398ae7a13d530612ae194a390/expr.ipynb\"><img src=\"../56953b0728fa2850398ae7a13d530612ae194a390/expr.png\" style=\"display:inline;vertical-align:middle;\" /></a></td></tr>\n",
       "<tr><td>28</td><td>Literal</td><td></td><td><a class=\"ProveItLink\" href=\"../../../../number_sets/integers/__pv_it/common/92f3a0a77e3c3ea8e4a5c8674edadc54e4f57d550/expr.ipynb\"><img src=\"../../../../number_sets/integers/__pv_it/common/92f3a0a77e3c3ea8e4a5c8674edadc54e4f57d550/expr.png\" style=\"display:inline;vertical-align:middle;\" /></a></td></tr>\n",
       "<tr><td>29</td><td>ExprTuple</td><td>31, 32</td><td><a class=\"ProveItLink\" href=\"../537f67402dcaf963958c996f66f68a4bcf41495a0/expr.ipynb\"><img src=\"../537f67402dcaf963958c996f66f68a4bcf41495a0/expr.png\" style=\"display:inline;vertical-align:middle;\" /></a></td></tr>\n",
       "<tr><td>30</td><td>Literal</td><td></td><td><a class=\"ProveItLink\" href=\"../../../../numerals/__pv_it/common/af4aab8a07465db063742696e006d04670f30cf10/expr.ipynb\"><img src=\"../../../../numerals/__pv_it/common/af4aab8a07465db063742696e006d04670f30cf10/expr.png\" style=\"display:inline;vertical-align:middle;\" /></a></td></tr>\n",
       "<tr><td>31</td><td>Variable</td><td></td><td><a class=\"ProveItLink\" href=\"../../../../../__pv_it/common/c06c606ec12678c58933ac85412ecadc2ae28be60/expr.ipynb\"><img src=\"../../../../../__pv_it/common/c06c606ec12678c58933ac85412ecadc2ae28be60/expr.png\" style=\"display:inline;vertical-align:middle;\" /></a></td></tr>\n",
       "<tr><td>32</td><td>Operation</td><td>operator:&nbsp;33<br>operands:&nbsp;34<br></td><td><a class=\"ProveItLink\" href=\"../fc18d719833791a2b348a5bf006861b97c2fbc1d0/expr.ipynb\"><img src=\"../fc18d719833791a2b348a5bf006861b97c2fbc1d0/expr.png\" style=\"display:inline;vertical-align:middle;\" /></a></td></tr>\n",
       "<tr><td>33</td><td>Literal</td><td></td><td><a class=\"ProveItLink\" href=\"../../../../addition/__pv_it/common/4b7effaab3619a1c2c38fe2dee8601df8ec714590/expr.ipynb\"><img src=\"../../../../addition/__pv_it/common/4b7effaab3619a1c2c38fe2dee8601df8ec714590/expr.png\" style=\"display:inline;vertical-align:middle;\" /></a></td></tr>\n",
       "<tr><td>34</td><td>ExprTuple</td><td>35, 36</td><td><a class=\"ProveItLink\" href=\"../ddf6625d92b7c0a39d412aec8838791797de74530/expr.ipynb\"><img src=\"../ddf6625d92b7c0a39d412aec8838791797de74530/expr.png\" style=\"display:inline;vertical-align:middle;\" /></a></td></tr>\n",
       "<tr><td>35</td><td>Literal</td><td></td><td><a class=\"ProveItLink\" href=\"../../../../numerals/__pv_it/common/22593540f11ac41f656b6119a111361a0782e98b0/expr.ipynb\"><img src=\"../../../../numerals/__pv_it/common/22593540f11ac41f656b6119a111361a0782e98b0/expr.png\" style=\"display:inline;vertical-align:middle;\" /></a></td></tr>\n",
       "<tr><td>36</td><td>Operation</td><td>operator:&nbsp;37<br>operand:&nbsp;39<br></td><td><a class=\"ProveItLink\" href=\"../../../../addition/subtraction/__pv_it/theorems/bf4beda21975fe8a0a5007615b5bcc943da59bb20/expr.ipynb\"><img src=\"../../../../addition/subtraction/__pv_it/theorems/bf4beda21975fe8a0a5007615b5bcc943da59bb20/expr.png\" style=\"display:inline;vertical-align:middle;\" /></a></td></tr>\n",
       "<tr><td>37</td><td>Literal</td><td></td><td><a class=\"ProveItLink\" href=\"../../../../negation/__pv_it/common/221b3c4d1770ee9051b7c044c3f9ec61196fc34b0/expr.ipynb\"><img src=\"../../../../negation/__pv_it/common/221b3c4d1770ee9051b7c044c3f9ec61196fc34b0/expr.png\" style=\"display:inline;vertical-align:middle;\" /></a></td></tr>\n",
       "<tr><td>38</td><td>ExprTuple</td><td>39</td><td><a class=\"ProveItLink\" href=\"../../../../addition/subtraction/__pv_it/theorems/b9e4f0dffece176bbe2f36127440684a20e0468e0/expr.ipynb\"><img src=\"../../../../addition/subtraction/__pv_it/theorems/b9e4f0dffece176bbe2f36127440684a20e0468e0/expr.png\" style=\"display:inline;vertical-align:middle;\" /></a></td></tr>\n",
       "<tr><td>39</td><td>Literal</td><td></td><td><a class=\"ProveItLink\" href=\"../../../../numerals/__pv_it/common/682157d4892d216d9e5626ed533aff9b56b9506e0/expr.ipynb\"><img src=\"../../../../numerals/__pv_it/common/682157d4892d216d9e5626ed533aff9b56b9506e0/expr.png\" style=\"display:inline;vertical-align:middle;\" /></a></td></tr>\n",
       "</table>\n"
      ],
      "text/plain": [
       "0. (Sum_{k = a}^{9} (k - 2), (Sum_{k = a}^{9 - 1} (k - 2)) + (9 - 2))\n",
       "   core type: ExprTuple\n",
       "   sub-expressions: 1, 2\n",
       "1. Sum_{k = a}^{9} (k - 2)\n",
       "   core type: Operation\n",
       "   operator: 9\n",
       "   operand: 5\n",
       "2. (Sum_{k = a}^{9 - 1} (k - 2)) + (9 - 2)\n",
       "   core type: Operation\n",
       "   operator: 33\n",
       "   operands: 4\n",
       "3. (k -> {k - 2 if k in {a .. 9}.)\n",
       "   core type: ExprTuple\n",
       "   sub-expressions: 5\n",
       "4. (Sum_{k = a}^{9 - 1} (k - 2), 9 - 2)\n",
       "   core type: ExprTuple\n",
       "   sub-expressions: 6, 7\n",
       "5. k -> {k - 2 if k in {a .. 9}.\n",
       "   core type: Lambda\n",
       "   parameter: 25\n",
       "   body: 8\n",
       "6. Sum_{k = a}^{9 - 1} (k - 2)\n",
       "   core type: Operation\n",
       "   operator: 9\n",
       "   operand: 13\n",
       "7. 9 - 2\n",
       "   core type: Operation\n",
       "   operator: 33\n",
       "   operands: 11\n",
       "8. {k - 2 if k in {a .. 9}.\n",
       "   core type: Conditional\n",
       "   value: 18\n",
       "   condition: 12\n",
       "9. Sum\n",
       "   core type: Literal\n",
       "   sub-expressions: \n",
       "10. (k -> {k - 2 if k in {a .. 9 - 1}.)\n",
       "    core type: ExprTuple\n",
       "    sub-expressions: 13\n",
       "11. (9, -2)\n",
       "    core type: ExprTuple\n",
       "    sub-expressions: 35, 24\n",
       "12. k in {a .. 9}\n",
       "    core type: Operation\n",
       "    operator: 22\n",
       "    operands: 14\n",
       "13. k -> {k - 2 if k in {a .. 9 - 1}.\n",
       "    core type: Lambda\n",
       "    parameter: 25\n",
       "    body: 16\n",
       "14. (k, {a .. 9})\n",
       "    core type: ExprTuple\n",
       "    sub-expressions: 25, 17\n",
       "15. (k)\n",
       "    core type: ExprTuple\n",
       "    sub-expressions: 25\n",
       "16. {k - 2 if k in {a .. 9 - 1}.\n",
       "    core type: Conditional\n",
       "    value: 18\n",
       "    condition: 19\n",
       "17. {a .. 9}\n",
       "    core type: Operation\n",
       "    operator: 28\n",
       "    operands: 20\n",
       "18. k - 2\n",
       "    core type: Operation\n",
       "    operator: 33\n",
       "    operands: 21\n",
       "19. k in {a .. 9 - 1}\n",
       "    core type: Operation\n",
       "    operator: 22\n",
       "    operands: 23\n",
       "20. (a, 9)\n",
       "    core type: ExprTuple\n",
       "    sub-expressions: 31, 35\n",
       "21. (k, -2)\n",
       "    core type: ExprTuple\n",
       "    sub-expressions: 25, 24\n",
       "22. in\n",
       "    core type: Literal\n",
       "    sub-expressions: \n",
       "23. (k, {a .. 9 - 1})\n",
       "    core type: ExprTuple\n",
       "    sub-expressions: 25, 26\n",
       "24. -2\n",
       "    core type: Operation\n",
       "    operator: 37\n",
       "    operand: 30\n",
       "25. k\n",
       "    core type: Variable\n",
       "    sub-expressions: \n",
       "26. {a .. 9 - 1}\n",
       "    core type: Operation\n",
       "    operator: 28\n",
       "    operands: 29\n",
       "27. (2)\n",
       "    core type: ExprTuple\n",
       "    sub-expressions: 30\n",
       "28. Interval\n",
       "    core type: Literal\n",
       "    sub-expressions: \n",
       "29. (a, 9 - 1)\n",
       "    core type: ExprTuple\n",
       "    sub-expressions: 31, 32\n",
       "30. 2\n",
       "    core type: Literal\n",
       "    sub-expressions: \n",
       "31. a\n",
       "    core type: Variable\n",
       "    sub-expressions: \n",
       "32. 9 - 1\n",
       "    core type: Operation\n",
       "    operator: 33\n",
       "    operands: 34\n",
       "33. +\n",
       "    core type: Literal\n",
       "    sub-expressions: \n",
       "34. (9, -1)\n",
       "    core type: ExprTuple\n",
       "    sub-expressions: 35, 36\n",
       "35. 9\n",
       "    core type: Literal\n",
       "    sub-expressions: \n",
       "36. -1\n",
       "    core type: Operation\n",
       "    operator: 37\n",
       "    operand: 39\n",
       "37. -\n",
       "    core type: Literal\n",
       "    sub-expressions: \n",
       "38. (1)\n",
       "    core type: ExprTuple\n",
       "    sub-expressions: 39\n",
       "39. 1\n",
       "    core type: Literal\n",
       "    sub-expressions: "
      ]
     },
     "metadata": {},
     "output_type": "display_data"
    }
   ],
   "source": [
    "# display the expression information\n",
    "stored_expr.expr_info()"
   ]
  },
  {
   "cell_type": "code",
   "execution_count": null,
   "metadata": {},
   "outputs": [],
   "source": []
  }
 ],
 "metadata": {
  "kernelspec": {
   "display_name": "Python 3",
   "language": "python",
   "name": "python3"
  }
 },
 "nbformat": 4,
 "nbformat_minor": 0
}