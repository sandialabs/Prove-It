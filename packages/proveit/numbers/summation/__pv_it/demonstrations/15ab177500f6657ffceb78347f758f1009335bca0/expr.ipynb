{
 "cells": [
  {
   "cell_type": "markdown",
   "metadata": {},
   "source": [
    "Expression of type <a class=\"ProveItLink\" href=\"../../../../../../../doc/html/api/proveit.logic.Equals.html\">Equals</a>\n",
    "=======================\n",
    "# from the theory of <a class=\"ProveItLink\" href=\"../../../_theory_nbs_/theory.ipynb\">proveit.numbers.summation</a>"
   ]
  },
  {
   "cell_type": "code",
   "execution_count": 1,
   "metadata": {},
   "outputs": [],
   "source": [
    "import proveit\n",
    "# Automation is not needed when building an expression:\n",
    "proveit.defaults.automation = False # This will speed things up.\n",
    "proveit.defaults.inline_pngs = False # Makes files smaller.\n",
    "%load_expr # Load the stored expression as 'stored_expr'\n",
    "# import Expression classes needed to build the expression\n",
    "from proveit import i\n",
    "from proveit.logic import Equals\n",
    "from proveit.numbers import Add, Interval, Sum, four, six, three, two"
   ]
  },
  {
   "cell_type": "code",
   "execution_count": 2,
   "metadata": {},
   "outputs": [
    {
     "data": {
      "text/html": [
       "<strong id=\"expr\">expr:</strong> <a class=\"ProveItLink\" href=\"expr.ipynb\"><img src=\"expr.png\" style=\"display:inline;vertical-align:middle;\" /></a><br>"
      ],
      "text/plain": [
       "<IPython.core.display.HTML object>"
      ]
     },
     "metadata": {},
     "output_type": "display_data"
    }
   ],
   "source": [
    "# build up the expression from sub-expressions\n",
    "sub_expr1 = [i]\n",
    "sub_expr2 = Add(i, two)\n",
    "expr = Equals(Sum(index_or_indices = sub_expr1, summand = sub_expr2, domain = Interval(two, six)), Add(four, Sum(index_or_indices = sub_expr1, summand = sub_expr2, domain = Interval(three, six))))"
   ]
  },
  {
   "cell_type": "code",
   "execution_count": 3,
   "metadata": {},
   "outputs": [
    {
     "name": "stdout",
     "output_type": "stream",
     "text": [
      "Passed sanity check: expr matches stored_expr\n"
     ]
    }
   ],
   "source": [
    "# check that the built expression is the same as the stored expression\n",
    "assert expr == stored_expr\n",
    "assert expr._style_id == stored_expr._style_id\n",
    "print(\"Passed sanity check: expr matches stored_expr\")"
   ]
  },
  {
   "cell_type": "code",
   "execution_count": 4,
   "metadata": {},
   "outputs": [
    {
     "name": "stdout",
     "output_type": "stream",
     "text": [
      "\\left(\\sum_{i = 2}^{6} \\left(i + 2\\right)\\right) = \\left(4 + \\left(\\sum_{i = 3}^{6} \\left(i + 2\\right)\\right)\\right)\n"
     ]
    }
   ],
   "source": [
    "# Show the LaTeX representation of the expression for convenience if you need it.\n",
    "print(stored_expr.latex())"
   ]
  },
  {
   "cell_type": "code",
   "execution_count": 5,
   "metadata": {},
   "outputs": [
    {
     "data": {
      "text/html": [
       "<table>\n",
       "<tr><th>name</th><th>description</th><th>default</th><th>current value</th><th>related methods</th></tr><tr><td>operation</td><td>'infix' or 'function' style formatting</td><td>infix</td><td>infix</td><td></td></tr>\n",
       "<tr><td>wrap_positions</td><td>position(s) at which wrapping is to occur; '2 n - 1' is after the nth operand, '2 n' is after the nth operation.</td><td>()</td><td>()</td><td>('with_wrapping_at', 'with_wrap_before_operator', 'with_wrap_after_operator', 'without_wrapping', 'wrap_positions')</td></tr>\n",
       "<tr><td>justification</td><td>if any wrap positions are set, justify to the 'left', 'center', or 'right'</td><td>center</td><td>center</td><td>('with_justification',)</td></tr>\n",
       "<tr><td>direction</td><td>Direction of the relation (normal or reversed)</td><td>normal</td><td>normal</td><td>('with_direction_reversed', 'is_reversed')</td></tr>\n",
       "</table>\n"
      ],
      "text/plain": [
       "style name: operation\n",
       "description: 'infix' or 'function' style formatting\n",
       "default: infix\n",
       "current value: infix\n",
       "related methods: ()\n",
       "style name: wrap_positions\n",
       "description: position(s) at which wrapping is to occur; '2 n - 1' is after the nth operand, '2 n' is after the nth operation.\n",
       "default: ()\n",
       "current value: ()\n",
       "related methods: ('with_wrapping_at', 'with_wrap_before_operator', 'with_wrap_after_operator', 'without_wrapping', 'wrap_positions')\n",
       "style name: justification\n",
       "description: if any wrap positions are set, justify to the 'left', 'center', or 'right'\n",
       "default: center\n",
       "current value: center\n",
       "related methods: ('with_justification',)\n",
       "style name: direction\n",
       "description: Direction of the relation (normal or reversed)\n",
       "default: normal\n",
       "current value: normal\n",
       "related methods: ('with_direction_reversed', 'is_reversed')"
      ]
     },
     "metadata": {},
     "output_type": "display_data"
    }
   ],
   "source": [
    "stored_expr.style_options()"
   ]
  },
  {
   "cell_type": "code",
   "execution_count": 6,
   "metadata": {},
   "outputs": [
    {
     "data": {
      "text/html": [
       "<table><tr><th>&nbsp;</th><th>core type</th><th>sub-expressions</th><th>expression</th></tr>\n",
       "<tr><td>0</td><td>Operation</td><td>operator:&nbsp;1<br>operands:&nbsp;2<br></td><td><a class=\"ProveItLink\" href=\"expr.ipynb\"><img src=\"expr.png\" style=\"display:inline;vertical-align:middle;\" /></a></td></tr>\n",
       "<tr><td>1</td><td>Literal</td><td></td><td><a class=\"ProveItLink\" href=\"../../../../../logic/equality/__pv_it/common/fb96dc12b2aa8801dda64d0132b396c63d1502bb0/expr.ipynb\"><img src=\"../../../../../logic/equality/__pv_it/common/fb96dc12b2aa8801dda64d0132b396c63d1502bb0/expr.png\" style=\"display:inline;vertical-align:middle;\" /></a></td></tr>\n",
       "<tr><td>2</td><td>ExprTuple</td><td>3, 4</td><td><a class=\"ProveItLink\" href=\"../15ad08b5fb4747e35be34f3c7f9fd6c2281fb9570/expr.ipynb\"><img src=\"../15ad08b5fb4747e35be34f3c7f9fd6c2281fb9570/expr.png\" style=\"display:inline;vertical-align:middle;\" /></a></td></tr>\n",
       "<tr><td>3</td><td>Operation</td><td>operator:&nbsp;11<br>operand:&nbsp;7<br></td><td><a class=\"ProveItLink\" href=\"../60f73a9fdcef0f946c010555490790086464ad5e0/expr.ipynb\"><img src=\"../60f73a9fdcef0f946c010555490790086464ad5e0/expr.png\" style=\"display:inline;vertical-align:middle;\" /></a></td></tr>\n",
       "<tr><td>4</td><td>Operation</td><td>operator:&nbsp;22<br>operands:&nbsp;6<br></td><td><a class=\"ProveItLink\" href=\"../7ab0c53a621a174133c357ecb8cb2fe285a993690/expr.ipynb\"><img src=\"../7ab0c53a621a174133c357ecb8cb2fe285a993690/expr.png\" style=\"display:inline;vertical-align:middle;\" /></a></td></tr>\n",
       "<tr><td>5</td><td>ExprTuple</td><td>7</td><td><a class=\"ProveItLink\" href=\"../aa4b5c44144271c5d84e819f5ce7248b8a54890c0/expr.ipynb\"><img src=\"../aa4b5c44144271c5d84e819f5ce7248b8a54890c0/expr.png\" style=\"display:inline;vertical-align:middle;\" /></a></td></tr>\n",
       "<tr><td>6</td><td>ExprTuple</td><td>8, 9</td><td><a class=\"ProveItLink\" href=\"../a40ae450ef6af361bd262882d2159bb1451a103a0/expr.ipynb\"><img src=\"../a40ae450ef6af361bd262882d2159bb1451a103a0/expr.png\" style=\"display:inline;vertical-align:middle;\" /></a></td></tr>\n",
       "<tr><td>7</td><td>Lambda</td><td>parameter:&nbsp;27<br>body:&nbsp;10<br></td><td><a class=\"ProveItLink\" href=\"../6cb54bbe3f62a304c77a2f4aaeb975438c11e8370/expr.ipynb\"><img src=\"../6cb54bbe3f62a304c77a2f4aaeb975438c11e8370/expr.png\" style=\"display:inline;vertical-align:middle;\" /></a></td></tr>\n",
       "<tr><td>8</td><td>Literal</td><td></td><td><a class=\"ProveItLink\" href=\"../../../../numerals/__pv_it/common/48a1d915c1e9490b9a94e5c77a208938d3ee20ce0/expr.ipynb\"><img src=\"../../../../numerals/__pv_it/common/48a1d915c1e9490b9a94e5c77a208938d3ee20ce0/expr.png\" style=\"display:inline;vertical-align:middle;\" /></a></td></tr>\n",
       "<tr><td>9</td><td>Operation</td><td>operator:&nbsp;11<br>operand:&nbsp;14<br></td><td><a class=\"ProveItLink\" href=\"../78e192a183170961d80d920155866e85ba5b28ca0/expr.ipynb\"><img src=\"../78e192a183170961d80d920155866e85ba5b28ca0/expr.png\" style=\"display:inline;vertical-align:middle;\" /></a></td></tr>\n",
       "<tr><td>10</td><td>Conditional</td><td>value:&nbsp;19<br>condition:&nbsp;13<br></td><td><a class=\"ProveItLink\" href=\"../fdbf6937dfb89783c36d29c2e67cd64351a8bb770/expr.ipynb\"><img src=\"../fdbf6937dfb89783c36d29c2e67cd64351a8bb770/expr.png\" style=\"display:inline;vertical-align:middle;\" /></a></td></tr>\n",
       "<tr><td>11</td><td>Literal</td><td></td><td><a class=\"ProveItLink\" href=\"../../common/14fe61cccc388f91dfd83d3ca31cf27448cc070a0/expr.ipynb\"><img src=\"../../common/14fe61cccc388f91dfd83d3ca31cf27448cc070a0/expr.png\" style=\"display:inline;vertical-align:middle;\" /></a></td></tr>\n",
       "<tr><td>12</td><td>ExprTuple</td><td>14</td><td><a class=\"ProveItLink\" href=\"../39b3a6558fd55bd10c59d82603102a526be1d9740/expr.ipynb\"><img src=\"../39b3a6558fd55bd10c59d82603102a526be1d9740/expr.png\" style=\"display:inline;vertical-align:middle;\" /></a></td></tr>\n",
       "<tr><td>13</td><td>Operation</td><td>operator:&nbsp;24<br>operands:&nbsp;15<br></td><td><a class=\"ProveItLink\" href=\"../b6c4837a75a338ac486da5549bbcbee0e1c3674f0/expr.ipynb\"><img src=\"../b6c4837a75a338ac486da5549bbcbee0e1c3674f0/expr.png\" style=\"display:inline;vertical-align:middle;\" /></a></td></tr>\n",
       "<tr><td>14</td><td>Lambda</td><td>parameter:&nbsp;27<br>body:&nbsp;17<br></td><td><a class=\"ProveItLink\" href=\"../09a2e3946cb7bda152191d78bfe2e48a20e443ce0/expr.ipynb\"><img src=\"../09a2e3946cb7bda152191d78bfe2e48a20e443ce0/expr.png\" style=\"display:inline;vertical-align:middle;\" /></a></td></tr>\n",
       "<tr><td>15</td><td>ExprTuple</td><td>27, 18</td><td><a class=\"ProveItLink\" href=\"../6aff0bbd4673704a7f5abb541fbd7597f4c5d82e0/expr.ipynb\"><img src=\"../6aff0bbd4673704a7f5abb541fbd7597f4c5d82e0/expr.png\" style=\"display:inline;vertical-align:middle;\" /></a></td></tr>\n",
       "<tr><td>16</td><td>ExprTuple</td><td>27</td><td><a class=\"ProveItLink\" href=\"../../../../../__pv_it/common/3b7d7ace2ced0a8261ea4d18d03aaf49e434d69d0/expr.ipynb\"><img src=\"../../../../../__pv_it/common/3b7d7ace2ced0a8261ea4d18d03aaf49e434d69d0/expr.png\" style=\"display:inline;vertical-align:middle;\" /></a></td></tr>\n",
       "<tr><td>17</td><td>Conditional</td><td>value:&nbsp;19<br>condition:&nbsp;20<br></td><td><a class=\"ProveItLink\" href=\"../38839156e21e091c86d6c9090e8b3f312ad816d70/expr.ipynb\"><img src=\"../38839156e21e091c86d6c9090e8b3f312ad816d70/expr.png\" style=\"display:inline;vertical-align:middle;\" /></a></td></tr>\n",
       "<tr><td>18</td><td>Operation</td><td>operator:&nbsp;29<br>operands:&nbsp;21<br></td><td><a class=\"ProveItLink\" href=\"../2ce46cefff2e6d8b5e1b5418e3935115b76147a70/expr.ipynb\"><img src=\"../2ce46cefff2e6d8b5e1b5418e3935115b76147a70/expr.png\" style=\"display:inline;vertical-align:middle;\" /></a></td></tr>\n",
       "<tr><td>19</td><td>Operation</td><td>operator:&nbsp;22<br>operands:&nbsp;23<br></td><td><a class=\"ProveItLink\" href=\"../24128158ac3bbc68b8ee4a75afd24ed2fce98d980/expr.ipynb\"><img src=\"../24128158ac3bbc68b8ee4a75afd24ed2fce98d980/expr.png\" style=\"display:inline;vertical-align:middle;\" /></a></td></tr>\n",
       "<tr><td>20</td><td>Operation</td><td>operator:&nbsp;24<br>operands:&nbsp;25<br></td><td><a class=\"ProveItLink\" href=\"../45fdef3a996a2d7d718990398777709f2324ff4a0/expr.ipynb\"><img src=\"../45fdef3a996a2d7d718990398777709f2324ff4a0/expr.png\" style=\"display:inline;vertical-align:middle;\" /></a></td></tr>\n",
       "<tr><td>21</td><td>ExprTuple</td><td>26, 32</td><td><a class=\"ProveItLink\" href=\"../e980b79c564c7e0c5c46bbebbb24f01c90e99a190/expr.ipynb\"><img src=\"../e980b79c564c7e0c5c46bbebbb24f01c90e99a190/expr.png\" style=\"display:inline;vertical-align:middle;\" /></a></td></tr>\n",
       "<tr><td>22</td><td>Literal</td><td></td><td><a class=\"ProveItLink\" href=\"../../../../addition/__pv_it/common/4b7effaab3619a1c2c38fe2dee8601df8ec714590/expr.ipynb\"><img src=\"../../../../addition/__pv_it/common/4b7effaab3619a1c2c38fe2dee8601df8ec714590/expr.png\" style=\"display:inline;vertical-align:middle;\" /></a></td></tr>\n",
       "<tr><td>23</td><td>ExprTuple</td><td>27, 26</td><td><a class=\"ProveItLink\" href=\"../f6b83eb3317523dc13986de5fc52ed67a403af7b0/expr.ipynb\"><img src=\"../f6b83eb3317523dc13986de5fc52ed67a403af7b0/expr.png\" style=\"display:inline;vertical-align:middle;\" /></a></td></tr>\n",
       "<tr><td>24</td><td>Literal</td><td></td><td><a class=\"ProveItLink\" href=\"../../../../../logic/sets/membership/__pv_it/common/477487d8796864d23d5810f83761435f25167f690/expr.ipynb\"><img src=\"../../../../../logic/sets/membership/__pv_it/common/477487d8796864d23d5810f83761435f25167f690/expr.png\" style=\"display:inline;vertical-align:middle;\" /></a></td></tr>\n",
       "<tr><td>25</td><td>ExprTuple</td><td>27, 28</td><td><a class=\"ProveItLink\" href=\"../d0c7ea4541e1125784a8455fb16e03179965a3f90/expr.ipynb\"><img src=\"../d0c7ea4541e1125784a8455fb16e03179965a3f90/expr.png\" style=\"display:inline;vertical-align:middle;\" /></a></td></tr>\n",
       "<tr><td>26</td><td>Literal</td><td></td><td><a class=\"ProveItLink\" href=\"../../../../numerals/__pv_it/common/af4aab8a07465db063742696e006d04670f30cf10/expr.ipynb\"><img src=\"../../../../numerals/__pv_it/common/af4aab8a07465db063742696e006d04670f30cf10/expr.png\" style=\"display:inline;vertical-align:middle;\" /></a></td></tr>\n",
       "<tr><td>27</td><td>Variable</td><td></td><td><a class=\"ProveItLink\" href=\"../../../../../__pv_it/common/ae955345c83abf786c3aff8681cd5465beae262d0/expr.ipynb\"><img src=\"../../../../../__pv_it/common/ae955345c83abf786c3aff8681cd5465beae262d0/expr.png\" style=\"display:inline;vertical-align:middle;\" /></a></td></tr>\n",
       "<tr><td>28</td><td>Operation</td><td>operator:&nbsp;29<br>operands:&nbsp;30<br></td><td><a class=\"ProveItLink\" href=\"../a1514ea161f7f089f45373c841eef80ea59797bd0/expr.ipynb\"><img src=\"../a1514ea161f7f089f45373c841eef80ea59797bd0/expr.png\" style=\"display:inline;vertical-align:middle;\" /></a></td></tr>\n",
       "<tr><td>29</td><td>Literal</td><td></td><td><a class=\"ProveItLink\" href=\"../../../../number_sets/integers/__pv_it/common/92f3a0a77e3c3ea8e4a5c8674edadc54e4f57d550/expr.ipynb\"><img src=\"../../../../number_sets/integers/__pv_it/common/92f3a0a77e3c3ea8e4a5c8674edadc54e4f57d550/expr.png\" style=\"display:inline;vertical-align:middle;\" /></a></td></tr>\n",
       "<tr><td>30</td><td>ExprTuple</td><td>31, 32</td><td><a class=\"ProveItLink\" href=\"../../../../numerals/decimals/__pv_it/theorems/b2c633e796e5a7fdc27b4a399f46a141a1279ff70/expr.ipynb\"><img src=\"../../../../numerals/decimals/__pv_it/theorems/b2c633e796e5a7fdc27b4a399f46a141a1279ff70/expr.png\" style=\"display:inline;vertical-align:middle;\" /></a></td></tr>\n",
       "<tr><td>31</td><td>Literal</td><td></td><td><a class=\"ProveItLink\" href=\"../../../../numerals/__pv_it/common/1943b60945420e340d305780feff5c1aff2740ff0/expr.ipynb\"><img src=\"../../../../numerals/__pv_it/common/1943b60945420e340d305780feff5c1aff2740ff0/expr.png\" style=\"display:inline;vertical-align:middle;\" /></a></td></tr>\n",
       "<tr><td>32</td><td>Literal</td><td></td><td><a class=\"ProveItLink\" href=\"../../../../numerals/__pv_it/common/3376a962e50366e1ce3b003524f11b59146ac6970/expr.ipynb\"><img src=\"../../../../numerals/__pv_it/common/3376a962e50366e1ce3b003524f11b59146ac6970/expr.png\" style=\"display:inline;vertical-align:middle;\" /></a></td></tr>\n",
       "</table>\n"
      ],
      "text/plain": [
       "0. (Sum_{i = 2}^{6} (i + 2)) = (4 + (Sum_{i = 3}^{6} (i + 2)))\n",
       "   core type: Operation\n",
       "   operator: 1\n",
       "   operands: 2\n",
       "1. =\n",
       "   core type: Literal\n",
       "   sub-expressions: \n",
       "2. (Sum_{i = 2}^{6} (i + 2), 4 + (Sum_{i = 3}^{6} (i + 2)))\n",
       "   core type: ExprTuple\n",
       "   sub-expressions: 3, 4\n",
       "3. Sum_{i = 2}^{6} (i + 2)\n",
       "   core type: Operation\n",
       "   operator: 11\n",
       "   operand: 7\n",
       "4. 4 + (Sum_{i = 3}^{6} (i + 2))\n",
       "   core type: Operation\n",
       "   operator: 22\n",
       "   operands: 6\n",
       "5. (i -> {i + 2 if i in {2 .. 6}.)\n",
       "   core type: ExprTuple\n",
       "   sub-expressions: 7\n",
       "6. (4, Sum_{i = 3}^{6} (i + 2))\n",
       "   core type: ExprTuple\n",
       "   sub-expressions: 8, 9\n",
       "7. i -> {i + 2 if i in {2 .. 6}.\n",
       "   core type: Lambda\n",
       "   parameter: 27\n",
       "   body: 10\n",
       "8. 4\n",
       "   core type: Literal\n",
       "   sub-expressions: \n",
       "9. Sum_{i = 3}^{6} (i + 2)\n",
       "   core type: Operation\n",
       "   operator: 11\n",
       "   operand: 14\n",
       "10. {i + 2 if i in {2 .. 6}.\n",
       "    core type: Conditional\n",
       "    value: 19\n",
       "    condition: 13\n",
       "11. Sum\n",
       "    core type: Literal\n",
       "    sub-expressions: \n",
       "12. (i -> {i + 2 if i in {3 .. 6}.)\n",
       "    core type: ExprTuple\n",
       "    sub-expressions: 14\n",
       "13. i in {2 .. 6}\n",
       "    core type: Operation\n",
       "    operator: 24\n",
       "    operands: 15\n",
       "14. i -> {i + 2 if i in {3 .. 6}.\n",
       "    core type: Lambda\n",
       "    parameter: 27\n",
       "    body: 17\n",
       "15. (i, {2 .. 6})\n",
       "    core type: ExprTuple\n",
       "    sub-expressions: 27, 18\n",
       "16. (i)\n",
       "    core type: ExprTuple\n",
       "    sub-expressions: 27\n",
       "17. {i + 2 if i in {3 .. 6}.\n",
       "    core type: Conditional\n",
       "    value: 19\n",
       "    condition: 20\n",
       "18. {2 .. 6}\n",
       "    core type: Operation\n",
       "    operator: 29\n",
       "    operands: 21\n",
       "19. i + 2\n",
       "    core type: Operation\n",
       "    operator: 22\n",
       "    operands: 23\n",
       "20. i in {3 .. 6}\n",
       "    core type: Operation\n",
       "    operator: 24\n",
       "    operands: 25\n",
       "21. (2, 6)\n",
       "    core type: ExprTuple\n",
       "    sub-expressions: 26, 32\n",
       "22. +\n",
       "    core type: Literal\n",
       "    sub-expressions: \n",
       "23. (i, 2)\n",
       "    core type: ExprTuple\n",
       "    sub-expressions: 27, 26\n",
       "24. in\n",
       "    core type: Literal\n",
       "    sub-expressions: \n",
       "25. (i, {3 .. 6})\n",
       "    core type: ExprTuple\n",
       "    sub-expressions: 27, 28\n",
       "26. 2\n",
       "    core type: Literal\n",
       "    sub-expressions: \n",
       "27. i\n",
       "    core type: Variable\n",
       "    sub-expressions: \n",
       "28. {3 .. 6}\n",
       "    core type: Operation\n",
       "    operator: 29\n",
       "    operands: 30\n",
       "29. Interval\n",
       "    core type: Literal\n",
       "    sub-expressions: \n",
       "30. (3, 6)\n",
       "    core type: ExprTuple\n",
       "    sub-expressions: 31, 32\n",
       "31. 3\n",
       "    core type: Literal\n",
       "    sub-expressions: \n",
       "32. 6\n",
       "    core type: Literal\n",
       "    sub-expressions: "
      ]
     },
     "metadata": {},
     "output_type": "display_data"
    }
   ],
   "source": [
    "# display the expression information\n",
    "stored_expr.expr_info()"
   ]
  },
  {
   "cell_type": "code",
   "execution_count": null,
   "metadata": {},
   "outputs": [],
   "source": []
  }
 ],
 "metadata": {
  "kernelspec": {
   "display_name": "Python 3",
   "language": "python",
   "name": "python3"
  }
 },
 "nbformat": 4,
 "nbformat_minor": 0
}