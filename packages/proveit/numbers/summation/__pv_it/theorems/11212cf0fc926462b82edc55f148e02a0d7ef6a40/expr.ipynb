{
 "cells": [
  {
   "cell_type": "markdown",
   "metadata": {},
   "source": [
    "Expression of type <a class=\"ProveItLink\" href=\"../../../../../../../doc/html/api/proveit.ExprTuple.html\">ExprTuple</a>\n",
    "=======================\n",
    "# from the theory of <a class=\"ProveItLink\" href=\"../../../_theory_nbs_/theory.ipynb\">proveit.numbers.summation</a>"
   ]
  },
  {
   "cell_type": "code",
   "execution_count": 1,
   "metadata": {},
   "outputs": [],
   "source": [
    "import proveit\n",
    "# Automation is not needed when building an expression:\n",
    "proveit.defaults.automation = False # This will speed things up.\n",
    "proveit.defaults.inline_pngs = False # Makes files smaller.\n",
    "%load_expr # Load the stored expression as 'stored_expr'\n",
    "# import Expression classes needed to build the expression\n",
    "from proveit import Conditional, ExprTuple, Lambda, c, d, fj, gj, j, x\n",
    "from proveit.logic import Equals, Forall, InSet\n",
    "from proveit.numbers import Complex, Integer, Interval, Mult, Sum"
   ]
  },
  {
   "cell_type": "code",
   "execution_count": 2,
   "metadata": {},
   "outputs": [
    {
     "data": {
      "text/html": [
       "<strong id=\"expr\">expr:</strong> <a class=\"ProveItLink\" href=\"expr.ipynb\"><img src=\"expr.png\" style=\"display:inline;vertical-align:middle;\" /></a><br>"
      ],
      "text/plain": [
       "<IPython.core.display.HTML object>"
      ]
     },
     "metadata": {},
     "output_type": "display_data"
    }
   ],
   "source": [
    "# build up the expression from sub-expressions\n",
    "sub_expr1 = [j]\n",
    "sub_expr2 = Interval(c, d)\n",
    "expr = ExprTuple(Lambda(x, Conditional(Forall(instance_param_or_params = [c, d], instance_expr = Equals(Sum(index_or_indices = sub_expr1, summand = Mult(Mult(x, gj), fj), domain = sub_expr2), Mult(x, Sum(index_or_indices = sub_expr1, summand = Mult(gj, fj), domain = sub_expr2))), domain = Integer), InSet(x, Complex))))"
   ]
  },
  {
   "cell_type": "code",
   "execution_count": 3,
   "metadata": {},
   "outputs": [
    {
     "name": "stdout",
     "output_type": "stream",
     "text": [
      "Passed sanity check: expr matches stored_expr\n"
     ]
    }
   ],
   "source": [
    "# check that the built expression is the same as the stored expression\n",
    "assert expr == stored_expr\n",
    "assert expr._style_id == stored_expr._style_id\n",
    "print(\"Passed sanity check: expr matches stored_expr\")"
   ]
  },
  {
   "cell_type": "code",
   "execution_count": 4,
   "metadata": {},
   "outputs": [
    {
     "name": "stdout",
     "output_type": "stream",
     "text": [
      "\\left(x \\mapsto \\left\\{\\forall_{c, d \\in \\mathbb{Z}}~\\left(\\left(\\sum_{j = c}^{d} \\left(\\left(x \\cdot g\\left(j\\right)\\right) \\cdot f\\left(j\\right)\\right)\\right) = \\left(x \\cdot \\left(\\sum_{j = c}^{d} \\left(g\\left(j\\right) \\cdot f\\left(j\\right)\\right)\\right)\\right)\\right) \\textrm{ if } x \\in \\mathbb{C}\\right..\\right)\n"
     ]
    }
   ],
   "source": [
    "# Show the LaTeX representation of the expression for convenience if you need it.\n",
    "print(stored_expr.latex())"
   ]
  },
  {
   "cell_type": "code",
   "execution_count": 5,
   "metadata": {},
   "outputs": [
    {
     "data": {
      "text/html": [
       "no style options"
      ],
      "text/plain": [
       "no style options"
      ]
     },
     "metadata": {},
     "output_type": "display_data"
    }
   ],
   "source": [
    "stored_expr.style_options()"
   ]
  },
  {
   "cell_type": "code",
   "execution_count": 6,
   "metadata": {},
   "outputs": [
    {
     "data": {
      "text/html": [
       "<table><tr><th>&nbsp;</th><th>core type</th><th>sub-expressions</th><th>expression</th></tr>\n",
       "<tr><td>0</td><td>ExprTuple</td><td>1</td><td><a class=\"ProveItLink\" href=\"expr.ipynb\"><img src=\"expr.png\" style=\"display:inline;vertical-align:middle;\" /></a></td></tr>\n",
       "<tr><td>1</td><td>Lambda</td><td>parameter:&nbsp;44<br>body:&nbsp;3<br></td><td><a class=\"ProveItLink\" href=\"../6a46e825196422af2b8992e3205d402e6bc035bb0/expr.ipynb\"><img src=\"../6a46e825196422af2b8992e3205d402e6bc035bb0/expr.png\" style=\"display:inline;vertical-align:middle;\" /></a></td></tr>\n",
       "<tr><td>2</td><td>ExprTuple</td><td>44</td><td><a class=\"ProveItLink\" href=\"../../../../../__pv_it/common/eacfeccc0521684fcb20fe8f5180ac50fca471f20/expr.ipynb\"><img src=\"../../../../../__pv_it/common/eacfeccc0521684fcb20fe8f5180ac50fca471f20/expr.png\" style=\"display:inline;vertical-align:middle;\" /></a></td></tr>\n",
       "<tr><td>3</td><td>Conditional</td><td>value:&nbsp;4<br>condition:&nbsp;5<br></td><td><a class=\"ProveItLink\" href=\"../fedd760086aa576e89847c40cc44af47f6c4daed0/expr.ipynb\"><img src=\"../fedd760086aa576e89847c40cc44af47f6c4daed0/expr.png\" style=\"display:inline;vertical-align:middle;\" /></a></td></tr>\n",
       "<tr><td>4</td><td>Operation</td><td>operator:&nbsp;6<br>operand:&nbsp;9<br></td><td><a class=\"ProveItLink\" href=\"../890ad13006f1247bfd5bafcd1673f5bf4af310500/expr.ipynb\"><img src=\"../890ad13006f1247bfd5bafcd1673f5bf4af310500/expr.png\" style=\"display:inline;vertical-align:middle;\" /></a></td></tr>\n",
       "<tr><td>5</td><td>Operation</td><td>operator:&nbsp;42<br>operands:&nbsp;8<br></td><td><a class=\"ProveItLink\" href=\"../6bf1a18c2e3498be826f1c5ef7caab578b7ee8c80/expr.ipynb\"><img src=\"../6bf1a18c2e3498be826f1c5ef7caab578b7ee8c80/expr.png\" style=\"display:inline;vertical-align:middle;\" /></a></td></tr>\n",
       "<tr><td>6</td><td>Literal</td><td></td><td><a class=\"ProveItLink\" href=\"../../../../../logic/booleans/quantification/universality/__pv_it/common/083d2baa0b8ecab1d230f9ec29a15aa1355809fb0/expr.ipynb\"><img src=\"../../../../../logic/booleans/quantification/universality/__pv_it/common/083d2baa0b8ecab1d230f9ec29a15aa1355809fb0/expr.png\" style=\"display:inline;vertical-align:middle;\" /></a></td></tr>\n",
       "<tr><td>7</td><td>ExprTuple</td><td>9</td><td><a class=\"ProveItLink\" href=\"../4672e4415e50ab5d02c18c3f6ace1ce200eee8fc0/expr.ipynb\"><img src=\"../4672e4415e50ab5d02c18c3f6ace1ce200eee8fc0/expr.png\" style=\"display:inline;vertical-align:middle;\" /></a></td></tr>\n",
       "<tr><td>8</td><td>ExprTuple</td><td>44, 10</td><td><a class=\"ProveItLink\" href=\"../505878fa9838807620aac15f1fd613f2c081d7060/expr.ipynb\"><img src=\"../505878fa9838807620aac15f1fd613f2c081d7060/expr.png\" style=\"display:inline;vertical-align:middle;\" /></a></td></tr>\n",
       "<tr><td>9</td><td>Lambda</td><td>parameters:&nbsp;52<br>body:&nbsp;11<br></td><td><a class=\"ProveItLink\" href=\"../e43f5285700963050424481a1c2a0618451f8a7d0/expr.ipynb\"><img src=\"../e43f5285700963050424481a1c2a0618451f8a7d0/expr.png\" style=\"display:inline;vertical-align:middle;\" /></a></td></tr>\n",
       "<tr><td>10</td><td>Literal</td><td></td><td><a class=\"ProveItLink\" href=\"../../../../number_sets/complex_numbers/__pv_it/common/d18a028138f659eda00de597c28a3447fe87eb100/expr.ipynb\"><img src=\"../../../../number_sets/complex_numbers/__pv_it/common/d18a028138f659eda00de597c28a3447fe87eb100/expr.png\" style=\"display:inline;vertical-align:middle;\" /></a></td></tr>\n",
       "<tr><td>11</td><td>Conditional</td><td>value:&nbsp;12<br>condition:&nbsp;13<br></td><td><a class=\"ProveItLink\" href=\"../72553ff83cef35d56419bb7e730689ff455257ef0/expr.ipynb\"><img src=\"../72553ff83cef35d56419bb7e730689ff455257ef0/expr.png\" style=\"display:inline;vertical-align:middle;\" /></a></td></tr>\n",
       "<tr><td>12</td><td>Operation</td><td>operator:&nbsp;14<br>operands:&nbsp;15<br></td><td><a class=\"ProveItLink\" href=\"../eff1715aae10dd5fadeb429a3b64d74a908e4c580/expr.ipynb\"><img src=\"../eff1715aae10dd5fadeb429a3b64d74a908e4c580/expr.png\" style=\"display:inline;vertical-align:middle;\" /></a></td></tr>\n",
       "<tr><td>13</td><td>Operation</td><td>operator:&nbsp;16<br>operands:&nbsp;17<br></td><td><a class=\"ProveItLink\" href=\"../daf2e76d4da64f6b91e684fca1d7a197fba350110/expr.ipynb\"><img src=\"../daf2e76d4da64f6b91e684fca1d7a197fba350110/expr.png\" style=\"display:inline;vertical-align:middle;\" /></a></td></tr>\n",
       "<tr><td>14</td><td>Literal</td><td></td><td><a class=\"ProveItLink\" href=\"../../../../../logic/equality/__pv_it/common/fb96dc12b2aa8801dda64d0132b396c63d1502bb0/expr.ipynb\"><img src=\"../../../../../logic/equality/__pv_it/common/fb96dc12b2aa8801dda64d0132b396c63d1502bb0/expr.png\" style=\"display:inline;vertical-align:middle;\" /></a></td></tr>\n",
       "<tr><td>15</td><td>ExprTuple</td><td>18, 19</td><td><a class=\"ProveItLink\" href=\"../69fa590a71628f546c31b2a6a7f28f6a574fb1180/expr.ipynb\"><img src=\"../69fa590a71628f546c31b2a6a7f28f6a574fb1180/expr.png\" style=\"display:inline;vertical-align:middle;\" /></a></td></tr>\n",
       "<tr><td>16</td><td>Literal</td><td></td><td><a class=\"ProveItLink\" href=\"../../../../../logic/booleans/conjunction/__pv_it/common/42118ff318bd65d98b1393f64ce7c2269feef76e0/expr.ipynb\"><img src=\"../../../../../logic/booleans/conjunction/__pv_it/common/42118ff318bd65d98b1393f64ce7c2269feef76e0/expr.png\" style=\"display:inline;vertical-align:middle;\" /></a></td></tr>\n",
       "<tr><td>17</td><td>ExprTuple</td><td>20, 21</td><td><a class=\"ProveItLink\" href=\"../c7bce2308c159484624cdf13b42364c20ff451130/expr.ipynb\"><img src=\"../c7bce2308c159484624cdf13b42364c20ff451130/expr.png\" style=\"display:inline;vertical-align:middle;\" /></a></td></tr>\n",
       "<tr><td>18</td><td>Operation</td><td>operator:&nbsp;30<br>operand:&nbsp;26<br></td><td><a class=\"ProveItLink\" href=\"../40f2a1ff58c305e22fd503e5b60772f5c0c8577b0/expr.ipynb\"><img src=\"../40f2a1ff58c305e22fd503e5b60772f5c0c8577b0/expr.png\" style=\"display:inline;vertical-align:middle;\" /></a></td></tr>\n",
       "<tr><td>19</td><td>Operation</td><td>operator:&nbsp;40<br>operands:&nbsp;23<br></td><td><a class=\"ProveItLink\" href=\"../a67318f722088c55c2bc17aa15bbfbf570f76b5d0/expr.ipynb\"><img src=\"../a67318f722088c55c2bc17aa15bbfbf570f76b5d0/expr.png\" style=\"display:inline;vertical-align:middle;\" /></a></td></tr>\n",
       "<tr><td>20</td><td>Operation</td><td>operator:&nbsp;42<br>operands:&nbsp;24<br></td><td><a class=\"ProveItLink\" href=\"../ab9efd361cdf04a40e51b5b0d3fd587cd7505e5a0/expr.ipynb\"><img src=\"../ab9efd361cdf04a40e51b5b0d3fd587cd7505e5a0/expr.png\" style=\"display:inline;vertical-align:middle;\" /></a></td></tr>\n",
       "<tr><td>21</td><td>Operation</td><td>operator:&nbsp;42<br>operands:&nbsp;25<br></td><td><a class=\"ProveItLink\" href=\"../281ba5ce706314e3783f416248e235040ec067e70/expr.ipynb\"><img src=\"../281ba5ce706314e3783f416248e235040ec067e70/expr.png\" style=\"display:inline;vertical-align:middle;\" /></a></td></tr>\n",
       "<tr><td>22</td><td>ExprTuple</td><td>26</td><td><a class=\"ProveItLink\" href=\"../8ba48450b1bd0d3c98b4624740c903ac157d4f170/expr.ipynb\"><img src=\"../8ba48450b1bd0d3c98b4624740c903ac157d4f170/expr.png\" style=\"display:inline;vertical-align:middle;\" /></a></td></tr>\n",
       "<tr><td>23</td><td>ExprTuple</td><td>44, 27</td><td><a class=\"ProveItLink\" href=\"../0e34760162375c5fb1b1133cc9f802b0316e42910/expr.ipynb\"><img src=\"../0e34760162375c5fb1b1133cc9f802b0316e42910/expr.png\" style=\"display:inline;vertical-align:middle;\" /></a></td></tr>\n",
       "<tr><td>24</td><td>ExprTuple</td><td>54, 28</td><td><a class=\"ProveItLink\" href=\"../91f20416e9a6ab1a27769f4eed666e1a275fd1b40/expr.ipynb\"><img src=\"../91f20416e9a6ab1a27769f4eed666e1a275fd1b40/expr.png\" style=\"display:inline;vertical-align:middle;\" /></a></td></tr>\n",
       "<tr><td>25</td><td>ExprTuple</td><td>55, 28</td><td><a class=\"ProveItLink\" href=\"../73f6f5c03bd8dd7b40182bd63fabc1ad99ca30a90/expr.ipynb\"><img src=\"../73f6f5c03bd8dd7b40182bd63fabc1ad99ca30a90/expr.png\" style=\"display:inline;vertical-align:middle;\" /></a></td></tr>\n",
       "<tr><td>26</td><td>Lambda</td><td>parameter:&nbsp;53<br>body:&nbsp;29<br></td><td><a class=\"ProveItLink\" href=\"../7e61de0e12b18501c0189903a6cc5771224b02910/expr.ipynb\"><img src=\"../7e61de0e12b18501c0189903a6cc5771224b02910/expr.png\" style=\"display:inline;vertical-align:middle;\" /></a></td></tr>\n",
       "<tr><td>27</td><td>Operation</td><td>operator:&nbsp;30<br>operand:&nbsp;33<br></td><td><a class=\"ProveItLink\" href=\"../4f52011785d37f1bc170cc52c339d1ca1310f1940/expr.ipynb\"><img src=\"../4f52011785d37f1bc170cc52c339d1ca1310f1940/expr.png\" style=\"display:inline;vertical-align:middle;\" /></a></td></tr>\n",
       "<tr><td>28</td><td>Literal</td><td></td><td><a class=\"ProveItLink\" href=\"../../../../number_sets/integers/__pv_it/common/e6b4e90f9467053e055a4fd2f735c0bb79cb79300/expr.ipynb\"><img src=\"../../../../number_sets/integers/__pv_it/common/e6b4e90f9467053e055a4fd2f735c0bb79cb79300/expr.png\" style=\"display:inline;vertical-align:middle;\" /></a></td></tr>\n",
       "<tr><td>29</td><td>Conditional</td><td>value:&nbsp;32<br>condition:&nbsp;38<br></td><td><a class=\"ProveItLink\" href=\"../fc6c5f88a9d8746eb2e34e5f8794075e323fdcdd0/expr.ipynb\"><img src=\"../fc6c5f88a9d8746eb2e34e5f8794075e323fdcdd0/expr.png\" style=\"display:inline;vertical-align:middle;\" /></a></td></tr>\n",
       "<tr><td>30</td><td>Literal</td><td></td><td><a class=\"ProveItLink\" href=\"../../common/14fe61cccc388f91dfd83d3ca31cf27448cc070a0/expr.ipynb\"><img src=\"../../common/14fe61cccc388f91dfd83d3ca31cf27448cc070a0/expr.png\" style=\"display:inline;vertical-align:middle;\" /></a></td></tr>\n",
       "<tr><td>31</td><td>ExprTuple</td><td>33</td><td><a class=\"ProveItLink\" href=\"../655f2a6996bafb490f988d427f40423a6c91b0a90/expr.ipynb\"><img src=\"../655f2a6996bafb490f988d427f40423a6c91b0a90/expr.png\" style=\"display:inline;vertical-align:middle;\" /></a></td></tr>\n",
       "<tr><td>32</td><td>Operation</td><td>operator:&nbsp;40<br>operands:&nbsp;34<br></td><td><a class=\"ProveItLink\" href=\"../63d82b8eab5c21a93865093efbc5054d671d20620/expr.ipynb\"><img src=\"../63d82b8eab5c21a93865093efbc5054d671d20620/expr.png\" style=\"display:inline;vertical-align:middle;\" /></a></td></tr>\n",
       "<tr><td>33</td><td>Lambda</td><td>parameter:&nbsp;53<br>body:&nbsp;35<br></td><td><a class=\"ProveItLink\" href=\"../a2c016003e4d35287d804d9b018b662e27603f3b0/expr.ipynb\"><img src=\"../a2c016003e4d35287d804d9b018b662e27603f3b0/expr.png\" style=\"display:inline;vertical-align:middle;\" /></a></td></tr>\n",
       "<tr><td>34</td><td>ExprTuple</td><td>36, 46</td><td><a class=\"ProveItLink\" href=\"../fe308f163dcd09760b607a47bc68d49ec2e7f4210/expr.ipynb\"><img src=\"../fe308f163dcd09760b607a47bc68d49ec2e7f4210/expr.png\" style=\"display:inline;vertical-align:middle;\" /></a></td></tr>\n",
       "<tr><td>35</td><td>Conditional</td><td>value:&nbsp;37<br>condition:&nbsp;38<br></td><td><a class=\"ProveItLink\" href=\"../b81daabf4df60543d8f4a7530d0975dacd47778a0/expr.ipynb\"><img src=\"../b81daabf4df60543d8f4a7530d0975dacd47778a0/expr.png\" style=\"display:inline;vertical-align:middle;\" /></a></td></tr>\n",
       "<tr><td>36</td><td>Operation</td><td>operator:&nbsp;40<br>operands:&nbsp;39<br></td><td><a class=\"ProveItLink\" href=\"../25201ef9572812600268899d8a1092b0c1a566b60/expr.ipynb\"><img src=\"../25201ef9572812600268899d8a1092b0c1a566b60/expr.png\" style=\"display:inline;vertical-align:middle;\" /></a></td></tr>\n",
       "<tr><td>37</td><td>Operation</td><td>operator:&nbsp;40<br>operands:&nbsp;41<br></td><td><a class=\"ProveItLink\" href=\"../831f68afade0ed00b4d1f99ab0579238b87e8f4d0/expr.ipynb\"><img src=\"../831f68afade0ed00b4d1f99ab0579238b87e8f4d0/expr.png\" style=\"display:inline;vertical-align:middle;\" /></a></td></tr>\n",
       "<tr><td>38</td><td>Operation</td><td>operator:&nbsp;42<br>operands:&nbsp;43<br></td><td><a class=\"ProveItLink\" href=\"../33027a12dfdf9a954fb575969c4f523c5e4002070/expr.ipynb\"><img src=\"../33027a12dfdf9a954fb575969c4f523c5e4002070/expr.png\" style=\"display:inline;vertical-align:middle;\" /></a></td></tr>\n",
       "<tr><td>39</td><td>ExprTuple</td><td>44, 45</td><td><a class=\"ProveItLink\" href=\"../cec4d6698cda50af37176403fd9b22a1068201260/expr.ipynb\"><img src=\"../cec4d6698cda50af37176403fd9b22a1068201260/expr.png\" style=\"display:inline;vertical-align:middle;\" /></a></td></tr>\n",
       "<tr><td>40</td><td>Literal</td><td></td><td><a class=\"ProveItLink\" href=\"../../../../multiplication/__pv_it/common/ed719cef37831779c16481533a4d380a2f95ab270/expr.ipynb\"><img src=\"../../../../multiplication/__pv_it/common/ed719cef37831779c16481533a4d380a2f95ab270/expr.png\" style=\"display:inline;vertical-align:middle;\" /></a></td></tr>\n",
       "<tr><td>41</td><td>ExprTuple</td><td>45, 46</td><td><a class=\"ProveItLink\" href=\"../f96847c02cc0ee4ad5a4cfe11a0920c089e67b9b0/expr.ipynb\"><img src=\"../f96847c02cc0ee4ad5a4cfe11a0920c089e67b9b0/expr.png\" style=\"display:inline;vertical-align:middle;\" /></a></td></tr>\n",
       "<tr><td>42</td><td>Literal</td><td></td><td><a class=\"ProveItLink\" href=\"../../../../../logic/sets/membership/__pv_it/common/477487d8796864d23d5810f83761435f25167f690/expr.ipynb\"><img src=\"../../../../../logic/sets/membership/__pv_it/common/477487d8796864d23d5810f83761435f25167f690/expr.png\" style=\"display:inline;vertical-align:middle;\" /></a></td></tr>\n",
       "<tr><td>43</td><td>ExprTuple</td><td>53, 47</td><td><a class=\"ProveItLink\" href=\"../f2146107b563a9cf0a8edb646ddd710cbc0da5940/expr.ipynb\"><img src=\"../f2146107b563a9cf0a8edb646ddd710cbc0da5940/expr.png\" style=\"display:inline;vertical-align:middle;\" /></a></td></tr>\n",
       "<tr><td>44</td><td>Variable</td><td></td><td><a class=\"ProveItLink\" href=\"../../../../../__pv_it/common/a0d9d672aa5e272d907247690c152cc2c6daafb70/expr.ipynb\"><img src=\"../../../../../__pv_it/common/a0d9d672aa5e272d907247690c152cc2c6daafb70/expr.png\" style=\"display:inline;vertical-align:middle;\" /></a></td></tr>\n",
       "<tr><td>45</td><td>Operation</td><td>operator:&nbsp;48<br>operand:&nbsp;53<br></td><td><a class=\"ProveItLink\" href=\"../../../../../core_expr_types/__pv_it/common/561dc0bafcb3791c79f0e6c429c4b743f78a81300/expr.ipynb\"><img src=\"../../../../../core_expr_types/__pv_it/common/561dc0bafcb3791c79f0e6c429c4b743f78a81300/expr.png\" style=\"display:inline;vertical-align:middle;\" /></a></td></tr>\n",
       "<tr><td>46</td><td>Operation</td><td>operator:&nbsp;49<br>operand:&nbsp;53<br></td><td><a class=\"ProveItLink\" href=\"../../../../../core_expr_types/__pv_it/common/c0fa75ff73ad8460566542ebda2b9c56866f27420/expr.ipynb\"><img src=\"../../../../../core_expr_types/__pv_it/common/c0fa75ff73ad8460566542ebda2b9c56866f27420/expr.png\" style=\"display:inline;vertical-align:middle;\" /></a></td></tr>\n",
       "<tr><td>47</td><td>Operation</td><td>operator:&nbsp;51<br>operands:&nbsp;52<br></td><td><a class=\"ProveItLink\" href=\"../a3e50ebffd8befaf406a2708d3d31a8599f807020/expr.ipynb\"><img src=\"../a3e50ebffd8befaf406a2708d3d31a8599f807020/expr.png\" style=\"display:inline;vertical-align:middle;\" /></a></td></tr>\n",
       "<tr><td>48</td><td>Variable</td><td></td><td><a class=\"ProveItLink\" href=\"../../../../../__pv_it/common/96ac097ea7ee432328a5e933062d0ef407701bf40/expr.ipynb\"><img src=\"../../../../../__pv_it/common/96ac097ea7ee432328a5e933062d0ef407701bf40/expr.png\" style=\"display:inline;vertical-align:middle;\" /></a></td></tr>\n",
       "<tr><td>49</td><td>Variable</td><td></td><td><a class=\"ProveItLink\" href=\"../../../../../__pv_it/common/01b6dbb444a31fc38af4c2379badef6c75b363710/expr.ipynb\"><img src=\"../../../../../__pv_it/common/01b6dbb444a31fc38af4c2379badef6c75b363710/expr.png\" style=\"display:inline;vertical-align:middle;\" /></a></td></tr>\n",
       "<tr><td>50</td><td>ExprTuple</td><td>53</td><td><a class=\"ProveItLink\" href=\"../../../../../core_expr_types/__pv_it/common/e53e75ee8364373a10f420a7f9184b4cb67637be0/expr.ipynb\"><img src=\"../../../../../core_expr_types/__pv_it/common/e53e75ee8364373a10f420a7f9184b4cb67637be0/expr.png\" style=\"display:inline;vertical-align:middle;\" /></a></td></tr>\n",
       "<tr><td>51</td><td>Literal</td><td></td><td><a class=\"ProveItLink\" href=\"../../../../number_sets/integers/__pv_it/common/92f3a0a77e3c3ea8e4a5c8674edadc54e4f57d550/expr.ipynb\"><img src=\"../../../../number_sets/integers/__pv_it/common/92f3a0a77e3c3ea8e4a5c8674edadc54e4f57d550/expr.png\" style=\"display:inline;vertical-align:middle;\" /></a></td></tr>\n",
       "<tr><td>52</td><td>ExprTuple</td><td>54, 55</td><td><a class=\"ProveItLink\" href=\"../f336fa46d73583f2c4c9aeb5e26e359cc42790830/expr.ipynb\"><img src=\"../f336fa46d73583f2c4c9aeb5e26e359cc42790830/expr.png\" style=\"display:inline;vertical-align:middle;\" /></a></td></tr>\n",
       "<tr><td>53</td><td>Variable</td><td></td><td><a class=\"ProveItLink\" href=\"../../../../../__pv_it/common/1ed21df18baca2f42b561a7ffbf30a2743d594650/expr.ipynb\"><img src=\"../../../../../__pv_it/common/1ed21df18baca2f42b561a7ffbf30a2743d594650/expr.png\" style=\"display:inline;vertical-align:middle;\" /></a></td></tr>\n",
       "<tr><td>54</td><td>Variable</td><td></td><td><a class=\"ProveItLink\" href=\"../../../../../__pv_it/common/ceef4280a2f1cc604b455b54e735507244cc62cd0/expr.ipynb\"><img src=\"../../../../../__pv_it/common/ceef4280a2f1cc604b455b54e735507244cc62cd0/expr.png\" style=\"display:inline;vertical-align:middle;\" /></a></td></tr>\n",
       "<tr><td>55</td><td>Variable</td><td></td><td><a class=\"ProveItLink\" href=\"../../../../../__pv_it/common/4f5c524ffda87296de1c79b96880123fe2efedd50/expr.ipynb\"><img src=\"../../../../../__pv_it/common/4f5c524ffda87296de1c79b96880123fe2efedd50/expr.png\" style=\"display:inline;vertical-align:middle;\" /></a></td></tr>\n",
       "</table>\n"
      ],
      "text/plain": [
       "0. (x -> {forall_{c, d in Integer} ((Sum_{j = c}^{d} ((x * g(j)) * f(j))) = (x * (Sum_{j = c}^{d} (g(j) * f(j))))) if x in Complex.)\n",
       "   core type: ExprTuple\n",
       "   sub-expressions: 1\n",
       "1. x -> {forall_{c, d in Integer} ((Sum_{j = c}^{d} ((x * g(j)) * f(j))) = (x * (Sum_{j = c}^{d} (g(j) * f(j))))) if x in Complex.\n",
       "   core type: Lambda\n",
       "   parameter: 44\n",
       "   body: 3\n",
       "2. (x)\n",
       "   core type: ExprTuple\n",
       "   sub-expressions: 44\n",
       "3. {forall_{c, d in Integer} ((Sum_{j = c}^{d} ((x * g(j)) * f(j))) = (x * (Sum_{j = c}^{d} (g(j) * f(j))))) if x in Complex.\n",
       "   core type: Conditional\n",
       "   value: 4\n",
       "   condition: 5\n",
       "4. forall_{c, d in Integer} ((Sum_{j = c}^{d} ((x * g(j)) * f(j))) = (x * (Sum_{j = c}^{d} (g(j) * f(j)))))\n",
       "   core type: Operation\n",
       "   operator: 6\n",
       "   operand: 9\n",
       "5. x in Complex\n",
       "   core type: Operation\n",
       "   operator: 42\n",
       "   operands: 8\n",
       "6. forall\n",
       "   core type: Literal\n",
       "   sub-expressions: \n",
       "7. ((c, d) -> {(Sum_{j = c}^{d} ((x * g(j)) * f(j))) = (x * (Sum_{j = c}^{d} (g(j) * f(j)))) if c in Integer ,  d in Integer.)\n",
       "   core type: ExprTuple\n",
       "   sub-expressions: 9\n",
       "8. (x, Complex)\n",
       "   core type: ExprTuple\n",
       "   sub-expressions: 44, 10\n",
       "9. (c, d) -> {(Sum_{j = c}^{d} ((x * g(j)) * f(j))) = (x * (Sum_{j = c}^{d} (g(j) * f(j)))) if c in Integer ,  d in Integer.\n",
       "   core type: Lambda\n",
       "   parameters: 52\\n   body: 11\n",
       "10. Complex\n",
       "    core type: Literal\n",
       "    sub-expressions: \n",
       "11. {(Sum_{j = c}^{d} ((x * g(j)) * f(j))) = (x * (Sum_{j = c}^{d} (g(j) * f(j)))) if c in Integer ,  d in Integer.\n",
       "    core type: Conditional\n",
       "    value: 12\n",
       "    condition: 13\n",
       "12. (Sum_{j = c}^{d} ((x * g(j)) * f(j))) = (x * (Sum_{j = c}^{d} (g(j) * f(j))))\n",
       "    core type: Operation\n",
       "    operator: 14\n",
       "    operands: 15\n",
       "13. (c in Integer) and (d in Integer)\n",
       "    core type: Operation\n",
       "    operator: 16\n",
       "    operands: 17\n",
       "14. =\n",
       "    core type: Literal\n",
       "    sub-expressions: \n",
       "15. (Sum_{j = c}^{d} ((x * g(j)) * f(j)), x * (Sum_{j = c}^{d} (g(j) * f(j))))\n",
       "    core type: ExprTuple\n",
       "    sub-expressions: 18, 19\n",
       "16. and\n",
       "    core type: Literal\n",
       "    sub-expressions: \n",
       "17. (c in Integer, d in Integer)\n",
       "    core type: ExprTuple\n",
       "    sub-expressions: 20, 21\n",
       "18. Sum_{j = c}^{d} ((x * g(j)) * f(j))\n",
       "    core type: Operation\n",
       "    operator: 30\n",
       "    operand: 26\n",
       "19. x * (Sum_{j = c}^{d} (g(j) * f(j)))\n",
       "    core type: Operation\n",
       "    operator: 40\n",
       "    operands: 23\n",
       "20. c in Integer\n",
       "    core type: Operation\n",
       "    operator: 42\n",
       "    operands: 24\n",
       "21. d in Integer\n",
       "    core type: Operation\n",
       "    operator: 42\n",
       "    operands: 25\n",
       "22. (j -> {(x * g(j)) * f(j) if j in {c .. d}.)\n",
       "    core type: ExprTuple\n",
       "    sub-expressions: 26\n",
       "23. (x, Sum_{j = c}^{d} (g(j) * f(j)))\n",
       "    core type: ExprTuple\n",
       "    sub-expressions: 44, 27\n",
       "24. (c, Integer)\n",
       "    core type: ExprTuple\n",
       "    sub-expressions: 54, 28\n",
       "25. (d, Integer)\n",
       "    core type: ExprTuple\n",
       "    sub-expressions: 55, 28\n",
       "26. j -> {(x * g(j)) * f(j) if j in {c .. d}.\n",
       "    core type: Lambda\n",
       "    parameter: 53\n",
       "    body: 29\n",
       "27. Sum_{j = c}^{d} (g(j) * f(j))\n",
       "    core type: Operation\n",
       "    operator: 30\n",
       "    operand: 33\n",
       "28. Integer\n",
       "    core type: Literal\n",
       "    sub-expressions: \n",
       "29. {(x * g(j)) * f(j) if j in {c .. d}.\n",
       "    core type: Conditional\n",
       "    value: 32\n",
       "    condition: 38\n",
       "30. Sum\n",
       "    core type: Literal\n",
       "    sub-expressions: \n",
       "31. (j -> {g(j) * f(j) if j in {c .. d}.)\n",
       "    core type: ExprTuple\n",
       "    sub-expressions: 33\n",
       "32. (x * g(j)) * f(j)\n",
       "    core type: Operation\n",
       "    operator: 40\n",
       "    operands: 34\n",
       "33. j -> {g(j) * f(j) if j in {c .. d}.\n",
       "    core type: Lambda\n",
       "    parameter: 53\n",
       "    body: 35\n",
       "34. (x * g(j), f(j))\n",
       "    core type: ExprTuple\n",
       "    sub-expressions: 36, 46\n",
       "35. {g(j) * f(j) if j in {c .. d}.\n",
       "    core type: Conditional\n",
       "    value: 37\n",
       "    condition: 38\n",
       "36. x * g(j)\n",
       "    core type: Operation\n",
       "    operator: 40\n",
       "    operands: 39\n",
       "37. g(j) * f(j)\n",
       "    core type: Operation\n",
       "    operator: 40\n",
       "    operands: 41\n",
       "38. j in {c .. d}\n",
       "    core type: Operation\n",
       "    operator: 42\n",
       "    operands: 43\n",
       "39. (x, g(j))\n",
       "    core type: ExprTuple\n",
       "    sub-expressions: 44, 45\n",
       "40. *\n",
       "    core type: Literal\n",
       "    sub-expressions: \n",
       "41. (g(j), f(j))\n",
       "    core type: ExprTuple\n",
       "    sub-expressions: 45, 46\n",
       "42. in\n",
       "    core type: Literal\n",
       "    sub-expressions: \n",
       "43. (j, {c .. d})\n",
       "    core type: ExprTuple\n",
       "    sub-expressions: 53, 47\n",
       "44. x\n",
       "    core type: Variable\n",
       "    sub-expressions: \n",
       "45. g(j)\n",
       "    core type: Operation\n",
       "    operator: 48\n",
       "    operand: 53\n",
       "46. f(j)\n",
       "    core type: Operation\n",
       "    operator: 49\n",
       "    operand: 53\n",
       "47. {c .. d}\n",
       "    core type: Operation\n",
       "    operator: 51\n",
       "    operands: 52\n",
       "48. g\n",
       "    core type: Variable\n",
       "    sub-expressions: \n",
       "49. f\n",
       "    core type: Variable\n",
       "    sub-expressions: \n",
       "50. (j)\n",
       "    core type: ExprTuple\n",
       "    sub-expressions: 53\n",
       "51. Interval\n",
       "    core type: Literal\n",
       "    sub-expressions: \n",
       "52. (c, d)\n",
       "    core type: ExprTuple\n",
       "    sub-expressions: 54, 55\n",
       "53. j\n",
       "    core type: Variable\n",
       "    sub-expressions: \n",
       "54. c\n",
       "    core type: Variable\n",
       "    sub-expressions: \n",
       "55. d\n",
       "    core type: Variable\n",
       "    sub-expressions: "
      ]
     },
     "metadata": {},
     "output_type": "display_data"
    }
   ],
   "source": [
    "# display the expression information\n",
    "stored_expr.expr_info()"
   ]
  },
  {
   "cell_type": "code",
   "execution_count": null,
   "metadata": {},
   "outputs": [],
   "source": []
  }
 ],
 "metadata": {
  "kernelspec": {
   "display_name": "Python 3",
   "language": "python",
   "name": "python3"
  }
 },
 "nbformat": 4,
 "nbformat_minor": 0
}