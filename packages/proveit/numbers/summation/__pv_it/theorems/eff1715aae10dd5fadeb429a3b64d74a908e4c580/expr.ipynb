{
 "cells": [
  {
   "cell_type": "markdown",
   "metadata": {},
   "source": [
    "Expression of type <a class=\"ProveItLink\" href=\"../../../../../../../doc/html/api/proveit.logic.Equals.html\">Equals</a>\n",
    "=======================\n",
    "# from the theory of <a class=\"ProveItLink\" href=\"../../../_theory_nbs_/theory.ipynb\">proveit.numbers.summation</a>"
   ]
  },
  {
   "cell_type": "code",
   "execution_count": 1,
   "metadata": {},
   "outputs": [],
   "source": [
    "import proveit\n",
    "# Automation is not needed when building an expression:\n",
    "proveit.defaults.automation = False # This will speed things up.\n",
    "proveit.defaults.inline_pngs = False # Makes files smaller.\n",
    "%load_expr # Load the stored expression as 'stored_expr'\n",
    "# import Expression classes needed to build the expression\n",
    "from proveit import c, d, fj, gj, j, x\n",
    "from proveit.logic import Equals\n",
    "from proveit.numbers import Interval, Mult, Sum"
   ]
  },
  {
   "cell_type": "code",
   "execution_count": 2,
   "metadata": {},
   "outputs": [
    {
     "data": {
      "text/html": [
       "<strong id=\"expr\">expr:</strong> <a class=\"ProveItLink\" href=\"expr.ipynb\"><img src=\"expr.png\" style=\"display:inline;vertical-align:middle;\" /></a><br>"
      ],
      "text/plain": [
       "<IPython.core.display.HTML object>"
      ]
     },
     "metadata": {},
     "output_type": "display_data"
    }
   ],
   "source": [
    "# build up the expression from sub-expressions\n",
    "sub_expr1 = [j]\n",
    "sub_expr2 = Interval(c, d)\n",
    "expr = Equals(Sum(index_or_indices = sub_expr1, summand = Mult(Mult(x, gj), fj), domain = sub_expr2), Mult(x, Sum(index_or_indices = sub_expr1, summand = Mult(gj, fj), domain = sub_expr2)))"
   ]
  },
  {
   "cell_type": "code",
   "execution_count": 3,
   "metadata": {},
   "outputs": [
    {
     "name": "stdout",
     "output_type": "stream",
     "text": [
      "Passed sanity check: expr matches stored_expr\n"
     ]
    }
   ],
   "source": [
    "# check that the built expression is the same as the stored expression\n",
    "assert expr == stored_expr\n",
    "assert expr._style_id == stored_expr._style_id\n",
    "print(\"Passed sanity check: expr matches stored_expr\")"
   ]
  },
  {
   "cell_type": "code",
   "execution_count": 4,
   "metadata": {},
   "outputs": [
    {
     "name": "stdout",
     "output_type": "stream",
     "text": [
      "\\left(\\sum_{j = c}^{d} \\left(\\left(x \\cdot g\\left(j\\right)\\right) \\cdot f\\left(j\\right)\\right)\\right) = \\left(x \\cdot \\left(\\sum_{j = c}^{d} \\left(g\\left(j\\right) \\cdot f\\left(j\\right)\\right)\\right)\\right)\n"
     ]
    }
   ],
   "source": [
    "# Show the LaTeX representation of the expression for convenience if you need it.\n",
    "print(stored_expr.latex())"
   ]
  },
  {
   "cell_type": "code",
   "execution_count": 5,
   "metadata": {},
   "outputs": [
    {
     "data": {
      "text/html": [
       "<table>\n",
       "<tr><th>name</th><th>description</th><th>default</th><th>current value</th><th>related methods</th></tr><tr><td>operation</td><td>'infix' or 'function' style formatting</td><td>infix</td><td>infix</td><td></td></tr>\n",
       "<tr><td>wrap_positions</td><td>position(s) at which wrapping is to occur; '2 n - 1' is after the nth operand, '2 n' is after the nth operation.</td><td>()</td><td>()</td><td>('with_wrapping_at', 'with_wrap_before_operator', 'with_wrap_after_operator', 'without_wrapping', 'wrap_positions')</td></tr>\n",
       "<tr><td>justification</td><td>if any wrap positions are set, justify to the 'left', 'center', or 'right'</td><td>center</td><td>center</td><td>('with_justification',)</td></tr>\n",
       "<tr><td>direction</td><td>Direction of the relation (normal or reversed)</td><td>normal</td><td>normal</td><td>('with_direction_reversed', 'is_reversed')</td></tr>\n",
       "</table>\n"
      ],
      "text/plain": [
       "style name: operation\n",
       "description: 'infix' or 'function' style formatting\n",
       "default: infix\n",
       "current value: infix\n",
       "related methods: ()\n",
       "style name: wrap_positions\n",
       "description: position(s) at which wrapping is to occur; '2 n - 1' is after the nth operand, '2 n' is after the nth operation.\n",
       "default: ()\n",
       "current value: ()\n",
       "related methods: ('with_wrapping_at', 'with_wrap_before_operator', 'with_wrap_after_operator', 'without_wrapping', 'wrap_positions')\n",
       "style name: justification\n",
       "description: if any wrap positions are set, justify to the 'left', 'center', or 'right'\n",
       "default: center\n",
       "current value: center\n",
       "related methods: ('with_justification',)\n",
       "style name: direction\n",
       "description: Direction of the relation (normal or reversed)\n",
       "default: normal\n",
       "current value: normal\n",
       "related methods: ('with_direction_reversed', 'is_reversed')"
      ]
     },
     "metadata": {},
     "output_type": "display_data"
    }
   ],
   "source": [
    "stored_expr.style_options()"
   ]
  },
  {
   "cell_type": "code",
   "execution_count": 6,
   "metadata": {},
   "outputs": [
    {
     "data": {
      "text/html": [
       "<table><tr><th>&nbsp;</th><th>core type</th><th>sub-expressions</th><th>expression</th></tr>\n",
       "<tr><td>0</td><td>Operation</td><td>operator:&nbsp;1<br>operands:&nbsp;2<br></td><td><a class=\"ProveItLink\" href=\"expr.ipynb\"><img src=\"expr.png\" style=\"display:inline;vertical-align:middle;\" /></a></td></tr>\n",
       "<tr><td>1</td><td>Literal</td><td></td><td><a class=\"ProveItLink\" href=\"../../../../../logic/equality/__pv_it/common/fb96dc12b2aa8801dda64d0132b396c63d1502bb0/expr.ipynb\"><img src=\"../../../../../logic/equality/__pv_it/common/fb96dc12b2aa8801dda64d0132b396c63d1502bb0/expr.png\" style=\"display:inline;vertical-align:middle;\" /></a></td></tr>\n",
       "<tr><td>2</td><td>ExprTuple</td><td>3, 4</td><td><a class=\"ProveItLink\" href=\"../69fa590a71628f546c31b2a6a7f28f6a574fb1180/expr.ipynb\"><img src=\"../69fa590a71628f546c31b2a6a7f28f6a574fb1180/expr.png\" style=\"display:inline;vertical-align:middle;\" /></a></td></tr>\n",
       "<tr><td>3</td><td>Operation</td><td>operator:&nbsp;10<br>operand:&nbsp;7<br></td><td><a class=\"ProveItLink\" href=\"../40f2a1ff58c305e22fd503e5b60772f5c0c8577b0/expr.ipynb\"><img src=\"../40f2a1ff58c305e22fd503e5b60772f5c0c8577b0/expr.png\" style=\"display:inline;vertical-align:middle;\" /></a></td></tr>\n",
       "<tr><td>4</td><td>Operation</td><td>operator:&nbsp;20<br>operands:&nbsp;6<br></td><td><a class=\"ProveItLink\" href=\"../a67318f722088c55c2bc17aa15bbfbf570f76b5d0/expr.ipynb\"><img src=\"../a67318f722088c55c2bc17aa15bbfbf570f76b5d0/expr.png\" style=\"display:inline;vertical-align:middle;\" /></a></td></tr>\n",
       "<tr><td>5</td><td>ExprTuple</td><td>7</td><td><a class=\"ProveItLink\" href=\"../8ba48450b1bd0d3c98b4624740c903ac157d4f170/expr.ipynb\"><img src=\"../8ba48450b1bd0d3c98b4624740c903ac157d4f170/expr.png\" style=\"display:inline;vertical-align:middle;\" /></a></td></tr>\n",
       "<tr><td>6</td><td>ExprTuple</td><td>24, 8</td><td><a class=\"ProveItLink\" href=\"../0e34760162375c5fb1b1133cc9f802b0316e42910/expr.ipynb\"><img src=\"../0e34760162375c5fb1b1133cc9f802b0316e42910/expr.png\" style=\"display:inline;vertical-align:middle;\" /></a></td></tr>\n",
       "<tr><td>7</td><td>Lambda</td><td>parameter:&nbsp;33<br>body:&nbsp;9<br></td><td><a class=\"ProveItLink\" href=\"../7e61de0e12b18501c0189903a6cc5771224b02910/expr.ipynb\"><img src=\"../7e61de0e12b18501c0189903a6cc5771224b02910/expr.png\" style=\"display:inline;vertical-align:middle;\" /></a></td></tr>\n",
       "<tr><td>8</td><td>Operation</td><td>operator:&nbsp;10<br>operand:&nbsp;13<br></td><td><a class=\"ProveItLink\" href=\"../4f52011785d37f1bc170cc52c339d1ca1310f1940/expr.ipynb\"><img src=\"../4f52011785d37f1bc170cc52c339d1ca1310f1940/expr.png\" style=\"display:inline;vertical-align:middle;\" /></a></td></tr>\n",
       "<tr><td>9</td><td>Conditional</td><td>value:&nbsp;12<br>condition:&nbsp;18<br></td><td><a class=\"ProveItLink\" href=\"../fc6c5f88a9d8746eb2e34e5f8794075e323fdcdd0/expr.ipynb\"><img src=\"../fc6c5f88a9d8746eb2e34e5f8794075e323fdcdd0/expr.png\" style=\"display:inline;vertical-align:middle;\" /></a></td></tr>\n",
       "<tr><td>10</td><td>Literal</td><td></td><td><a class=\"ProveItLink\" href=\"../../common/14fe61cccc388f91dfd83d3ca31cf27448cc070a0/expr.ipynb\"><img src=\"../../common/14fe61cccc388f91dfd83d3ca31cf27448cc070a0/expr.png\" style=\"display:inline;vertical-align:middle;\" /></a></td></tr>\n",
       "<tr><td>11</td><td>ExprTuple</td><td>13</td><td><a class=\"ProveItLink\" href=\"../655f2a6996bafb490f988d427f40423a6c91b0a90/expr.ipynb\"><img src=\"../655f2a6996bafb490f988d427f40423a6c91b0a90/expr.png\" style=\"display:inline;vertical-align:middle;\" /></a></td></tr>\n",
       "<tr><td>12</td><td>Operation</td><td>operator:&nbsp;20<br>operands:&nbsp;14<br></td><td><a class=\"ProveItLink\" href=\"../63d82b8eab5c21a93865093efbc5054d671d20620/expr.ipynb\"><img src=\"../63d82b8eab5c21a93865093efbc5054d671d20620/expr.png\" style=\"display:inline;vertical-align:middle;\" /></a></td></tr>\n",
       "<tr><td>13</td><td>Lambda</td><td>parameter:&nbsp;33<br>body:&nbsp;15<br></td><td><a class=\"ProveItLink\" href=\"../a2c016003e4d35287d804d9b018b662e27603f3b0/expr.ipynb\"><img src=\"../a2c016003e4d35287d804d9b018b662e27603f3b0/expr.png\" style=\"display:inline;vertical-align:middle;\" /></a></td></tr>\n",
       "<tr><td>14</td><td>ExprTuple</td><td>16, 26</td><td><a class=\"ProveItLink\" href=\"../fe308f163dcd09760b607a47bc68d49ec2e7f4210/expr.ipynb\"><img src=\"../fe308f163dcd09760b607a47bc68d49ec2e7f4210/expr.png\" style=\"display:inline;vertical-align:middle;\" /></a></td></tr>\n",
       "<tr><td>15</td><td>Conditional</td><td>value:&nbsp;17<br>condition:&nbsp;18<br></td><td><a class=\"ProveItLink\" href=\"../b81daabf4df60543d8f4a7530d0975dacd47778a0/expr.ipynb\"><img src=\"../b81daabf4df60543d8f4a7530d0975dacd47778a0/expr.png\" style=\"display:inline;vertical-align:middle;\" /></a></td></tr>\n",
       "<tr><td>16</td><td>Operation</td><td>operator:&nbsp;20<br>operands:&nbsp;19<br></td><td><a class=\"ProveItLink\" href=\"../25201ef9572812600268899d8a1092b0c1a566b60/expr.ipynb\"><img src=\"../25201ef9572812600268899d8a1092b0c1a566b60/expr.png\" style=\"display:inline;vertical-align:middle;\" /></a></td></tr>\n",
       "<tr><td>17</td><td>Operation</td><td>operator:&nbsp;20<br>operands:&nbsp;21<br></td><td><a class=\"ProveItLink\" href=\"../831f68afade0ed00b4d1f99ab0579238b87e8f4d0/expr.ipynb\"><img src=\"../831f68afade0ed00b4d1f99ab0579238b87e8f4d0/expr.png\" style=\"display:inline;vertical-align:middle;\" /></a></td></tr>\n",
       "<tr><td>18</td><td>Operation</td><td>operator:&nbsp;22<br>operands:&nbsp;23<br></td><td><a class=\"ProveItLink\" href=\"../33027a12dfdf9a954fb575969c4f523c5e4002070/expr.ipynb\"><img src=\"../33027a12dfdf9a954fb575969c4f523c5e4002070/expr.png\" style=\"display:inline;vertical-align:middle;\" /></a></td></tr>\n",
       "<tr><td>19</td><td>ExprTuple</td><td>24, 25</td><td><a class=\"ProveItLink\" href=\"../cec4d6698cda50af37176403fd9b22a1068201260/expr.ipynb\"><img src=\"../cec4d6698cda50af37176403fd9b22a1068201260/expr.png\" style=\"display:inline;vertical-align:middle;\" /></a></td></tr>\n",
       "<tr><td>20</td><td>Literal</td><td></td><td><a class=\"ProveItLink\" href=\"../../../../multiplication/__pv_it/common/ed719cef37831779c16481533a4d380a2f95ab270/expr.ipynb\"><img src=\"../../../../multiplication/__pv_it/common/ed719cef37831779c16481533a4d380a2f95ab270/expr.png\" style=\"display:inline;vertical-align:middle;\" /></a></td></tr>\n",
       "<tr><td>21</td><td>ExprTuple</td><td>25, 26</td><td><a class=\"ProveItLink\" href=\"../f96847c02cc0ee4ad5a4cfe11a0920c089e67b9b0/expr.ipynb\"><img src=\"../f96847c02cc0ee4ad5a4cfe11a0920c089e67b9b0/expr.png\" style=\"display:inline;vertical-align:middle;\" /></a></td></tr>\n",
       "<tr><td>22</td><td>Literal</td><td></td><td><a class=\"ProveItLink\" href=\"../../../../../logic/sets/membership/__pv_it/common/477487d8796864d23d5810f83761435f25167f690/expr.ipynb\"><img src=\"../../../../../logic/sets/membership/__pv_it/common/477487d8796864d23d5810f83761435f25167f690/expr.png\" style=\"display:inline;vertical-align:middle;\" /></a></td></tr>\n",
       "<tr><td>23</td><td>ExprTuple</td><td>33, 27</td><td><a class=\"ProveItLink\" href=\"../f2146107b563a9cf0a8edb646ddd710cbc0da5940/expr.ipynb\"><img src=\"../f2146107b563a9cf0a8edb646ddd710cbc0da5940/expr.png\" style=\"display:inline;vertical-align:middle;\" /></a></td></tr>\n",
       "<tr><td>24</td><td>Variable</td><td></td><td><a class=\"ProveItLink\" href=\"../../../../../__pv_it/common/a0d9d672aa5e272d907247690c152cc2c6daafb70/expr.ipynb\"><img src=\"../../../../../__pv_it/common/a0d9d672aa5e272d907247690c152cc2c6daafb70/expr.png\" style=\"display:inline;vertical-align:middle;\" /></a></td></tr>\n",
       "<tr><td>25</td><td>Operation</td><td>operator:&nbsp;28<br>operand:&nbsp;33<br></td><td><a class=\"ProveItLink\" href=\"../../../../../core_expr_types/__pv_it/common/561dc0bafcb3791c79f0e6c429c4b743f78a81300/expr.ipynb\"><img src=\"../../../../../core_expr_types/__pv_it/common/561dc0bafcb3791c79f0e6c429c4b743f78a81300/expr.png\" style=\"display:inline;vertical-align:middle;\" /></a></td></tr>\n",
       "<tr><td>26</td><td>Operation</td><td>operator:&nbsp;29<br>operand:&nbsp;33<br></td><td><a class=\"ProveItLink\" href=\"../../../../../core_expr_types/__pv_it/common/c0fa75ff73ad8460566542ebda2b9c56866f27420/expr.ipynb\"><img src=\"../../../../../core_expr_types/__pv_it/common/c0fa75ff73ad8460566542ebda2b9c56866f27420/expr.png\" style=\"display:inline;vertical-align:middle;\" /></a></td></tr>\n",
       "<tr><td>27</td><td>Operation</td><td>operator:&nbsp;31<br>operands:&nbsp;32<br></td><td><a class=\"ProveItLink\" href=\"../a3e50ebffd8befaf406a2708d3d31a8599f807020/expr.ipynb\"><img src=\"../a3e50ebffd8befaf406a2708d3d31a8599f807020/expr.png\" style=\"display:inline;vertical-align:middle;\" /></a></td></tr>\n",
       "<tr><td>28</td><td>Variable</td><td></td><td><a class=\"ProveItLink\" href=\"../../../../../__pv_it/common/96ac097ea7ee432328a5e933062d0ef407701bf40/expr.ipynb\"><img src=\"../../../../../__pv_it/common/96ac097ea7ee432328a5e933062d0ef407701bf40/expr.png\" style=\"display:inline;vertical-align:middle;\" /></a></td></tr>\n",
       "<tr><td>29</td><td>Variable</td><td></td><td><a class=\"ProveItLink\" href=\"../../../../../__pv_it/common/01b6dbb444a31fc38af4c2379badef6c75b363710/expr.ipynb\"><img src=\"../../../../../__pv_it/common/01b6dbb444a31fc38af4c2379badef6c75b363710/expr.png\" style=\"display:inline;vertical-align:middle;\" /></a></td></tr>\n",
       "<tr><td>30</td><td>ExprTuple</td><td>33</td><td><a class=\"ProveItLink\" href=\"../../../../../core_expr_types/__pv_it/common/e53e75ee8364373a10f420a7f9184b4cb67637be0/expr.ipynb\"><img src=\"../../../../../core_expr_types/__pv_it/common/e53e75ee8364373a10f420a7f9184b4cb67637be0/expr.png\" style=\"display:inline;vertical-align:middle;\" /></a></td></tr>\n",
       "<tr><td>31</td><td>Literal</td><td></td><td><a class=\"ProveItLink\" href=\"../../../../number_sets/integers/__pv_it/common/92f3a0a77e3c3ea8e4a5c8674edadc54e4f57d550/expr.ipynb\"><img src=\"../../../../number_sets/integers/__pv_it/common/92f3a0a77e3c3ea8e4a5c8674edadc54e4f57d550/expr.png\" style=\"display:inline;vertical-align:middle;\" /></a></td></tr>\n",
       "<tr><td>32</td><td>ExprTuple</td><td>34, 35</td><td><a class=\"ProveItLink\" href=\"../f336fa46d73583f2c4c9aeb5e26e359cc42790830/expr.ipynb\"><img src=\"../f336fa46d73583f2c4c9aeb5e26e359cc42790830/expr.png\" style=\"display:inline;vertical-align:middle;\" /></a></td></tr>\n",
       "<tr><td>33</td><td>Variable</td><td></td><td><a class=\"ProveItLink\" href=\"../../../../../__pv_it/common/1ed21df18baca2f42b561a7ffbf30a2743d594650/expr.ipynb\"><img src=\"../../../../../__pv_it/common/1ed21df18baca2f42b561a7ffbf30a2743d594650/expr.png\" style=\"display:inline;vertical-align:middle;\" /></a></td></tr>\n",
       "<tr><td>34</td><td>Variable</td><td></td><td><a class=\"ProveItLink\" href=\"../../../../../__pv_it/common/ceef4280a2f1cc604b455b54e735507244cc62cd0/expr.ipynb\"><img src=\"../../../../../__pv_it/common/ceef4280a2f1cc604b455b54e735507244cc62cd0/expr.png\" style=\"display:inline;vertical-align:middle;\" /></a></td></tr>\n",
       "<tr><td>35</td><td>Variable</td><td></td><td><a class=\"ProveItLink\" href=\"../../../../../__pv_it/common/4f5c524ffda87296de1c79b96880123fe2efedd50/expr.ipynb\"><img src=\"../../../../../__pv_it/common/4f5c524ffda87296de1c79b96880123fe2efedd50/expr.png\" style=\"display:inline;vertical-align:middle;\" /></a></td></tr>\n",
       "</table>\n"
      ],
      "text/plain": [
       "0. (Sum_{j = c}^{d} ((x * g(j)) * f(j))) = (x * (Sum_{j = c}^{d} (g(j) * f(j))))\n",
       "   core type: Operation\n",
       "   operator: 1\n",
       "   operands: 2\n",
       "1. =\n",
       "   core type: Literal\n",
       "   sub-expressions: \n",
       "2. (Sum_{j = c}^{d} ((x * g(j)) * f(j)), x * (Sum_{j = c}^{d} (g(j) * f(j))))\n",
       "   core type: ExprTuple\n",
       "   sub-expressions: 3, 4\n",
       "3. Sum_{j = c}^{d} ((x * g(j)) * f(j))\n",
       "   core type: Operation\n",
       "   operator: 10\n",
       "   operand: 7\n",
       "4. x * (Sum_{j = c}^{d} (g(j) * f(j)))\n",
       "   core type: Operation\n",
       "   operator: 20\n",
       "   operands: 6\n",
       "5. (j -> {(x * g(j)) * f(j) if j in {c .. d}.)\n",
       "   core type: ExprTuple\n",
       "   sub-expressions: 7\n",
       "6. (x, Sum_{j = c}^{d} (g(j) * f(j)))\n",
       "   core type: ExprTuple\n",
       "   sub-expressions: 24, 8\n",
       "7. j -> {(x * g(j)) * f(j) if j in {c .. d}.\n",
       "   core type: Lambda\n",
       "   parameter: 33\n",
       "   body: 9\n",
       "8. Sum_{j = c}^{d} (g(j) * f(j))\n",
       "   core type: Operation\n",
       "   operator: 10\n",
       "   operand: 13\n",
       "9. {(x * g(j)) * f(j) if j in {c .. d}.\n",
       "   core type: Conditional\n",
       "   value: 12\n",
       "   condition: 18\n",
       "10. Sum\n",
       "    core type: Literal\n",
       "    sub-expressions: \n",
       "11. (j -> {g(j) * f(j) if j in {c .. d}.)\n",
       "    core type: ExprTuple\n",
       "    sub-expressions: 13\n",
       "12. (x * g(j)) * f(j)\n",
       "    core type: Operation\n",
       "    operator: 20\n",
       "    operands: 14\n",
       "13. j -> {g(j) * f(j) if j in {c .. d}.\n",
       "    core type: Lambda\n",
       "    parameter: 33\n",
       "    body: 15\n",
       "14. (x * g(j), f(j))\n",
       "    core type: ExprTuple\n",
       "    sub-expressions: 16, 26\n",
       "15. {g(j) * f(j) if j in {c .. d}.\n",
       "    core type: Conditional\n",
       "    value: 17\n",
       "    condition: 18\n",
       "16. x * g(j)\n",
       "    core type: Operation\n",
       "    operator: 20\n",
       "    operands: 19\n",
       "17. g(j) * f(j)\n",
       "    core type: Operation\n",
       "    operator: 20\n",
       "    operands: 21\n",
       "18. j in {c .. d}\n",
       "    core type: Operation\n",
       "    operator: 22\n",
       "    operands: 23\n",
       "19. (x, g(j))\n",
       "    core type: ExprTuple\n",
       "    sub-expressions: 24, 25\n",
       "20. *\n",
       "    core type: Literal\n",
       "    sub-expressions: \n",
       "21. (g(j), f(j))\n",
       "    core type: ExprTuple\n",
       "    sub-expressions: 25, 26\n",
       "22. in\n",
       "    core type: Literal\n",
       "    sub-expressions: \n",
       "23. (j, {c .. d})\n",
       "    core type: ExprTuple\n",
       "    sub-expressions: 33, 27\n",
       "24. x\n",
       "    core type: Variable\n",
       "    sub-expressions: \n",
       "25. g(j)\n",
       "    core type: Operation\n",
       "    operator: 28\n",
       "    operand: 33\n",
       "26. f(j)\n",
       "    core type: Operation\n",
       "    operator: 29\n",
       "    operand: 33\n",
       "27. {c .. d}\n",
       "    core type: Operation\n",
       "    operator: 31\n",
       "    operands: 32\n",
       "28. g\n",
       "    core type: Variable\n",
       "    sub-expressions: \n",
       "29. f\n",
       "    core type: Variable\n",
       "    sub-expressions: \n",
       "30. (j)\n",
       "    core type: ExprTuple\n",
       "    sub-expressions: 33\n",
       "31. Interval\n",
       "    core type: Literal\n",
       "    sub-expressions: \n",
       "32. (c, d)\n",
       "    core type: ExprTuple\n",
       "    sub-expressions: 34, 35\n",
       "33. j\n",
       "    core type: Variable\n",
       "    sub-expressions: \n",
       "34. c\n",
       "    core type: Variable\n",
       "    sub-expressions: \n",
       "35. d\n",
       "    core type: Variable\n",
       "    sub-expressions: "
      ]
     },
     "metadata": {},
     "output_type": "display_data"
    }
   ],
   "source": [
    "# display the expression information\n",
    "stored_expr.expr_info()"
   ]
  },
  {
   "cell_type": "code",
   "execution_count": null,
   "metadata": {},
   "outputs": [],
   "source": []
  }
 ],
 "metadata": {
  "kernelspec": {
   "display_name": "Python 3",
   "language": "python",
   "name": "python3"
  }
 },
 "nbformat": 4,
 "nbformat_minor": 0
}