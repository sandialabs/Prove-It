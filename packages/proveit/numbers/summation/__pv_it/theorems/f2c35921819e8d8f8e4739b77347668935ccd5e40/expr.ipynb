{
 "cells": [
  {
   "cell_type": "markdown",
   "metadata": {},
   "source": [
    "Expression of type <a class=\"ProveItLink\" href=\"../../../../../../../doc/html/api/proveit.logic.Implies.html\">Implies</a>\n",
    "=======================\n",
    "# from the theory of <a class=\"ProveItLink\" href=\"../../../_theory_nbs_/theory.ipynb\">proveit.numbers.summation</a>"
   ]
  },
  {
   "cell_type": "code",
   "execution_count": 1,
   "metadata": {},
   "outputs": [],
   "source": [
    "import proveit\n",
    "# Automation is not needed when building an expression:\n",
    "proveit.defaults.automation = False # This will speed things up.\n",
    "proveit.defaults.inline_pngs = False # Makes files smaller.\n",
    "%load_expr # Load the stored expression as 'stored_expr'\n",
    "# import Expression classes needed to build the expression\n",
    "from proveit import Function, f, g, k, l, m, n\n",
    "from proveit.logic import Equals, Forall, Implies\n",
    "from proveit.numbers import Interval, Sum"
   ]
  },
  {
   "cell_type": "code",
   "execution_count": 2,
   "metadata": {},
   "outputs": [
    {
     "data": {
      "text/html": [
       "<strong id=\"expr\">expr:</strong> <a class=\"ProveItLink\" href=\"expr.ipynb\"><img src=\"expr.png\" style=\"display:inline;vertical-align:middle;\" /></a><br>"
      ],
      "text/plain": [
       "<IPython.core.display.HTML object>"
      ]
     },
     "metadata": {},
     "output_type": "display_data"
    }
   ],
   "source": [
    "# build up the expression from sub-expressions\n",
    "sub_expr1 = [k]\n",
    "sub_expr2 = [l]\n",
    "sub_expr3 = Interval(m, n)\n",
    "expr = Implies(Forall(instance_param_or_params = sub_expr1, instance_expr = Equals(Function(f, sub_expr1), Function(g, sub_expr1)), domain = sub_expr3), Equals(Sum(index_or_indices = sub_expr2, summand = Function(f, sub_expr2), domain = sub_expr3), Sum(index_or_indices = sub_expr2, summand = Function(g, sub_expr2), domain = sub_expr3)))"
   ]
  },
  {
   "cell_type": "code",
   "execution_count": 3,
   "metadata": {},
   "outputs": [
    {
     "name": "stdout",
     "output_type": "stream",
     "text": [
      "Passed sanity check: expr matches stored_expr\n"
     ]
    }
   ],
   "source": [
    "# check that the built expression is the same as the stored expression\n",
    "assert expr == stored_expr\n",
    "assert expr._style_id == stored_expr._style_id\n",
    "print(\"Passed sanity check: expr matches stored_expr\")"
   ]
  },
  {
   "cell_type": "code",
   "execution_count": 4,
   "metadata": {},
   "outputs": [
    {
     "name": "stdout",
     "output_type": "stream",
     "text": [
      "\\left[\\forall_{k \\in \\{m~\\ldotp \\ldotp~n\\}}~\\left(f\\left(k\\right) = g\\left(k\\right)\\right)\\right] \\Rightarrow \\left(\\left(\\sum_{l = m}^{n} f\\left(l\\right)\\right) = \\left(\\sum_{l = m}^{n} g\\left(l\\right)\\right)\\right)\n"
     ]
    }
   ],
   "source": [
    "# Show the LaTeX representation of the expression for convenience if you need it.\n",
    "print(stored_expr.latex())"
   ]
  },
  {
   "cell_type": "code",
   "execution_count": 5,
   "metadata": {},
   "outputs": [
    {
     "data": {
      "text/html": [
       "<table>\n",
       "<tr><th>name</th><th>description</th><th>default</th><th>current value</th><th>related methods</th></tr><tr><td>operation</td><td>'infix' or 'function' style formatting</td><td>infix</td><td>infix</td><td></td></tr>\n",
       "<tr><td>wrap_positions</td><td>position(s) at which wrapping is to occur; '2 n - 1' is after the nth operand, '2 n' is after the nth operation.</td><td>()</td><td>()</td><td>('with_wrapping_at', 'with_wrap_before_operator', 'with_wrap_after_operator', 'without_wrapping', 'wrap_positions')</td></tr>\n",
       "<tr><td>justification</td><td>if any wrap positions are set, justify to the 'left', 'center', or 'right'</td><td>center</td><td>center</td><td>('with_justification',)</td></tr>\n",
       "<tr><td>direction</td><td>Direction of the relation (normal or reversed)</td><td>normal</td><td>normal</td><td>('with_direction_reversed', 'is_reversed')</td></tr>\n",
       "</table>\n"
      ],
      "text/plain": [
       "style name: operation\n",
       "description: 'infix' or 'function' style formatting\n",
       "default: infix\n",
       "current value: infix\n",
       "related methods: ()\n",
       "style name: wrap_positions\n",
       "description: position(s) at which wrapping is to occur; '2 n - 1' is after the nth operand, '2 n' is after the nth operation.\n",
       "default: ()\n",
       "current value: ()\n",
       "related methods: ('with_wrapping_at', 'with_wrap_before_operator', 'with_wrap_after_operator', 'without_wrapping', 'wrap_positions')\n",
       "style name: justification\n",
       "description: if any wrap positions are set, justify to the 'left', 'center', or 'right'\n",
       "default: center\n",
       "current value: center\n",
       "related methods: ('with_justification',)\n",
       "style name: direction\n",
       "description: Direction of the relation (normal or reversed)\n",
       "default: normal\n",
       "current value: normal\n",
       "related methods: ('with_direction_reversed', 'is_reversed')"
      ]
     },
     "metadata": {},
     "output_type": "display_data"
    }
   ],
   "source": [
    "stored_expr.style_options()"
   ]
  },
  {
   "cell_type": "code",
   "execution_count": 6,
   "metadata": {},
   "outputs": [
    {
     "data": {
      "text/html": [
       "<table><tr><th>&nbsp;</th><th>core type</th><th>sub-expressions</th><th>expression</th></tr>\n",
       "<tr><td>0</td><td>Operation</td><td>operator:&nbsp;1<br>operands:&nbsp;2<br></td><td><a class=\"ProveItLink\" href=\"expr.ipynb\"><img src=\"expr.png\" style=\"display:inline;vertical-align:middle;\" /></a></td></tr>\n",
       "<tr><td>1</td><td>Literal</td><td></td><td><a class=\"ProveItLink\" href=\"../../../../../logic/booleans/implication/__pv_it/common/02bdb382575728da8cdbaed545b9096ea7a1bd5b0/expr.ipynb\"><img src=\"../../../../../logic/booleans/implication/__pv_it/common/02bdb382575728da8cdbaed545b9096ea7a1bd5b0/expr.png\" style=\"display:inline;vertical-align:middle;\" /></a></td></tr>\n",
       "<tr><td>2</td><td>ExprTuple</td><td>3, 4</td><td><a class=\"ProveItLink\" href=\"../89427976e66e1db0504b6a932edc2e98d1fe72410/expr.ipynb\"><img src=\"../89427976e66e1db0504b6a932edc2e98d1fe72410/expr.png\" style=\"display:inline;vertical-align:middle;\" /></a></td></tr>\n",
       "<tr><td>3</td><td>Operation</td><td>operator:&nbsp;5<br>operand:&nbsp;8<br></td><td><a class=\"ProveItLink\" href=\"../1337bd4024306e34690a5b0700cffe8122d496f80/expr.ipynb\"><img src=\"../1337bd4024306e34690a5b0700cffe8122d496f80/expr.png\" style=\"display:inline;vertical-align:middle;\" /></a></td></tr>\n",
       "<tr><td>4</td><td>Operation</td><td>operator:&nbsp;19<br>operands:&nbsp;7<br></td><td><a class=\"ProveItLink\" href=\"../839c046ee0e53ab5827886e45948163d3e1d3d360/expr.ipynb\"><img src=\"../839c046ee0e53ab5827886e45948163d3e1d3d360/expr.png\" style=\"display:inline;vertical-align:middle;\" /></a></td></tr>\n",
       "<tr><td>5</td><td>Literal</td><td></td><td><a class=\"ProveItLink\" href=\"../../../../../logic/booleans/quantification/universality/__pv_it/common/083d2baa0b8ecab1d230f9ec29a15aa1355809fb0/expr.ipynb\"><img src=\"../../../../../logic/booleans/quantification/universality/__pv_it/common/083d2baa0b8ecab1d230f9ec29a15aa1355809fb0/expr.png\" style=\"display:inline;vertical-align:middle;\" /></a></td></tr>\n",
       "<tr><td>6</td><td>ExprTuple</td><td>8</td><td><a class=\"ProveItLink\" href=\"../37dd234f4f070baea26c4bef5b89fa94a54a00020/expr.ipynb\"><img src=\"../37dd234f4f070baea26c4bef5b89fa94a54a00020/expr.png\" style=\"display:inline;vertical-align:middle;\" /></a></td></tr>\n",
       "<tr><td>7</td><td>ExprTuple</td><td>9, 10</td><td><a class=\"ProveItLink\" href=\"../9d61d148cc16a84df44fcce7df60eefb0a4adfce0/expr.ipynb\"><img src=\"../9d61d148cc16a84df44fcce7df60eefb0a4adfce0/expr.png\" style=\"display:inline;vertical-align:middle;\" /></a></td></tr>\n",
       "<tr><td>8</td><td>Lambda</td><td>parameter:&nbsp;35<br>body:&nbsp;11<br></td><td><a class=\"ProveItLink\" href=\"../a8d818b29f5355ae8f6f776c92582b73902637cd0/expr.ipynb\"><img src=\"../a8d818b29f5355ae8f6f776c92582b73902637cd0/expr.png\" style=\"display:inline;vertical-align:middle;\" /></a></td></tr>\n",
       "<tr><td>9</td><td>Operation</td><td>operator:&nbsp;13<br>operand:&nbsp;17<br></td><td><a class=\"ProveItLink\" href=\"../5d96d66b604599ee52d98c666671b259c615fcf00/expr.ipynb\"><img src=\"../5d96d66b604599ee52d98c666671b259c615fcf00/expr.png\" style=\"display:inline;vertical-align:middle;\" /></a></td></tr>\n",
       "<tr><td>10</td><td>Operation</td><td>operator:&nbsp;13<br>operand:&nbsp;18<br></td><td><a class=\"ProveItLink\" href=\"../b0f68cd6931ab0eebd997d856b340ed7fc0aa34d0/expr.ipynb\"><img src=\"../b0f68cd6931ab0eebd997d856b340ed7fc0aa34d0/expr.png\" style=\"display:inline;vertical-align:middle;\" /></a></td></tr>\n",
       "<tr><td>11</td><td>Conditional</td><td>value:&nbsp;15<br>condition:&nbsp;16<br></td><td><a class=\"ProveItLink\" href=\"../0a57523690cb589e0bccaa9f2d59a66afe55d6700/expr.ipynb\"><img src=\"../0a57523690cb589e0bccaa9f2d59a66afe55d6700/expr.png\" style=\"display:inline;vertical-align:middle;\" /></a></td></tr>\n",
       "<tr><td>12</td><td>ExprTuple</td><td>17</td><td><a class=\"ProveItLink\" href=\"../821e458ec4c353b00b86d17d8c2d4702228d90df0/expr.ipynb\"><img src=\"../821e458ec4c353b00b86d17d8c2d4702228d90df0/expr.png\" style=\"display:inline;vertical-align:middle;\" /></a></td></tr>\n",
       "<tr><td>13</td><td>Literal</td><td></td><td><a class=\"ProveItLink\" href=\"../../common/14fe61cccc388f91dfd83d3ca31cf27448cc070a0/expr.ipynb\"><img src=\"../../common/14fe61cccc388f91dfd83d3ca31cf27448cc070a0/expr.png\" style=\"display:inline;vertical-align:middle;\" /></a></td></tr>\n",
       "<tr><td>14</td><td>ExprTuple</td><td>18</td><td><a class=\"ProveItLink\" href=\"../cc9b7483cf057d16072f077ca853f28a497baf4f0/expr.ipynb\"><img src=\"../cc9b7483cf057d16072f077ca853f28a497baf4f0/expr.png\" style=\"display:inline;vertical-align:middle;\" /></a></td></tr>\n",
       "<tr><td>15</td><td>Operation</td><td>operator:&nbsp;19<br>operands:&nbsp;20<br></td><td><a class=\"ProveItLink\" href=\"../b104f2105c2bf558c81f7315f525f11be9a259690/expr.ipynb\"><img src=\"../b104f2105c2bf558c81f7315f525f11be9a259690/expr.png\" style=\"display:inline;vertical-align:middle;\" /></a></td></tr>\n",
       "<tr><td>16</td><td>Operation</td><td>operator:&nbsp;33<br>operands:&nbsp;21<br></td><td><a class=\"ProveItLink\" href=\"../ba03cb0cbb25d680a7fb1b331232dd88fe2151c30/expr.ipynb\"><img src=\"../ba03cb0cbb25d680a7fb1b331232dd88fe2151c30/expr.png\" style=\"display:inline;vertical-align:middle;\" /></a></td></tr>\n",
       "<tr><td>17</td><td>Lambda</td><td>parameter:&nbsp;36<br>body:&nbsp;22<br></td><td><a class=\"ProveItLink\" href=\"../c25fce5bef6fc739ecee56f2c8e22aabfdba7d630/expr.ipynb\"><img src=\"../c25fce5bef6fc739ecee56f2c8e22aabfdba7d630/expr.png\" style=\"display:inline;vertical-align:middle;\" /></a></td></tr>\n",
       "<tr><td>18</td><td>Lambda</td><td>parameter:&nbsp;36<br>body:&nbsp;23<br></td><td><a class=\"ProveItLink\" href=\"../047462b6c68b34ca098a211beaf5a73c7e8dacfb0/expr.ipynb\"><img src=\"../047462b6c68b34ca098a211beaf5a73c7e8dacfb0/expr.png\" style=\"display:inline;vertical-align:middle;\" /></a></td></tr>\n",
       "<tr><td>19</td><td>Literal</td><td></td><td><a class=\"ProveItLink\" href=\"../../../../../logic/equality/__pv_it/common/fb96dc12b2aa8801dda64d0132b396c63d1502bb0/expr.ipynb\"><img src=\"../../../../../logic/equality/__pv_it/common/fb96dc12b2aa8801dda64d0132b396c63d1502bb0/expr.png\" style=\"display:inline;vertical-align:middle;\" /></a></td></tr>\n",
       "<tr><td>20</td><td>ExprTuple</td><td>24, 25</td><td><a class=\"ProveItLink\" href=\"../32089a5e699967f3abf25cfa468e33fc8180eabd0/expr.ipynb\"><img src=\"../32089a5e699967f3abf25cfa468e33fc8180eabd0/expr.png\" style=\"display:inline;vertical-align:middle;\" /></a></td></tr>\n",
       "<tr><td>21</td><td>ExprTuple</td><td>35, 37</td><td><a class=\"ProveItLink\" href=\"../0aff9a8cd69bef14577222da220ebaf8da9bee7f0/expr.ipynb\"><img src=\"../0aff9a8cd69bef14577222da220ebaf8da9bee7f0/expr.png\" style=\"display:inline;vertical-align:middle;\" /></a></td></tr>\n",
       "<tr><td>22</td><td>Conditional</td><td>value:&nbsp;26<br>condition:&nbsp;28<br></td><td><a class=\"ProveItLink\" href=\"../f6fbed2e9f35bd32c232991f6399d5c5e087176e0/expr.ipynb\"><img src=\"../f6fbed2e9f35bd32c232991f6399d5c5e087176e0/expr.png\" style=\"display:inline;vertical-align:middle;\" /></a></td></tr>\n",
       "<tr><td>23</td><td>Conditional</td><td>value:&nbsp;27<br>condition:&nbsp;28<br></td><td><a class=\"ProveItLink\" href=\"../be8feeb1742703bb3a772d358de03521c1e6cff30/expr.ipynb\"><img src=\"../be8feeb1742703bb3a772d358de03521c1e6cff30/expr.png\" style=\"display:inline;vertical-align:middle;\" /></a></td></tr>\n",
       "<tr><td>24</td><td>Operation</td><td>operator:&nbsp;30<br>operand:&nbsp;35<br></td><td><a class=\"ProveItLink\" href=\"../98273b7c86216038b505fcbaa3fe280fc5f2a6130/expr.ipynb\"><img src=\"../98273b7c86216038b505fcbaa3fe280fc5f2a6130/expr.png\" style=\"display:inline;vertical-align:middle;\" /></a></td></tr>\n",
       "<tr><td>25</td><td>Operation</td><td>operator:&nbsp;31<br>operand:&nbsp;35<br></td><td><a class=\"ProveItLink\" href=\"../26945a563334c426145c4be6a96f3bf3bd56b9330/expr.ipynb\"><img src=\"../26945a563334c426145c4be6a96f3bf3bd56b9330/expr.png\" style=\"display:inline;vertical-align:middle;\" /></a></td></tr>\n",
       "<tr><td>26</td><td>Operation</td><td>operator:&nbsp;30<br>operand:&nbsp;36<br></td><td><a class=\"ProveItLink\" href=\"../63b9920eff531874d7438dac23a390ba3c64682e0/expr.ipynb\"><img src=\"../63b9920eff531874d7438dac23a390ba3c64682e0/expr.png\" style=\"display:inline;vertical-align:middle;\" /></a></td></tr>\n",
       "<tr><td>27</td><td>Operation</td><td>operator:&nbsp;31<br>operand:&nbsp;36<br></td><td><a class=\"ProveItLink\" href=\"../66c153af206244e51db6f0dec0606271da16b9680/expr.ipynb\"><img src=\"../66c153af206244e51db6f0dec0606271da16b9680/expr.png\" style=\"display:inline;vertical-align:middle;\" /></a></td></tr>\n",
       "<tr><td>28</td><td>Operation</td><td>operator:&nbsp;33<br>operands:&nbsp;34<br></td><td><a class=\"ProveItLink\" href=\"../fc810de8f0b66e5bd7a751dc4df0da26a0304f730/expr.ipynb\"><img src=\"../fc810de8f0b66e5bd7a751dc4df0da26a0304f730/expr.png\" style=\"display:inline;vertical-align:middle;\" /></a></td></tr>\n",
       "<tr><td>29</td><td>ExprTuple</td><td>35</td><td><a class=\"ProveItLink\" href=\"../../common/36569ebfbef1eee76da90134ba3a4620a4cb94130/expr.ipynb\"><img src=\"../../common/36569ebfbef1eee76da90134ba3a4620a4cb94130/expr.png\" style=\"display:inline;vertical-align:middle;\" /></a></td></tr>\n",
       "<tr><td>30</td><td>Variable</td><td></td><td><a class=\"ProveItLink\" href=\"../../../../../__pv_it/common/01b6dbb444a31fc38af4c2379badef6c75b363710/expr.ipynb\"><img src=\"../../../../../__pv_it/common/01b6dbb444a31fc38af4c2379badef6c75b363710/expr.png\" style=\"display:inline;vertical-align:middle;\" /></a></td></tr>\n",
       "<tr><td>31</td><td>Variable</td><td></td><td><a class=\"ProveItLink\" href=\"../../../../../__pv_it/common/96ac097ea7ee432328a5e933062d0ef407701bf40/expr.ipynb\"><img src=\"../../../../../__pv_it/common/96ac097ea7ee432328a5e933062d0ef407701bf40/expr.png\" style=\"display:inline;vertical-align:middle;\" /></a></td></tr>\n",
       "<tr><td>32</td><td>ExprTuple</td><td>36</td><td><a class=\"ProveItLink\" href=\"../../common/039a14dbb9d0bf99f342285bcbd227a70d804d7f0/expr.ipynb\"><img src=\"../../common/039a14dbb9d0bf99f342285bcbd227a70d804d7f0/expr.png\" style=\"display:inline;vertical-align:middle;\" /></a></td></tr>\n",
       "<tr><td>33</td><td>Literal</td><td></td><td><a class=\"ProveItLink\" href=\"../../../../../logic/sets/membership/__pv_it/common/477487d8796864d23d5810f83761435f25167f690/expr.ipynb\"><img src=\"../../../../../logic/sets/membership/__pv_it/common/477487d8796864d23d5810f83761435f25167f690/expr.png\" style=\"display:inline;vertical-align:middle;\" /></a></td></tr>\n",
       "<tr><td>34</td><td>ExprTuple</td><td>36, 37</td><td><a class=\"ProveItLink\" href=\"../f99e6e5930f280b347c732f9270cacfc3f98a12c0/expr.ipynb\"><img src=\"../f99e6e5930f280b347c732f9270cacfc3f98a12c0/expr.png\" style=\"display:inline;vertical-align:middle;\" /></a></td></tr>\n",
       "<tr><td>35</td><td>Variable</td><td></td><td><a class=\"ProveItLink\" href=\"../../../../../__pv_it/common/63b7c64bf9ec7a04ecc396c7a1670f3f12fb59490/expr.ipynb\"><img src=\"../../../../../__pv_it/common/63b7c64bf9ec7a04ecc396c7a1670f3f12fb59490/expr.png\" style=\"display:inline;vertical-align:middle;\" /></a></td></tr>\n",
       "<tr><td>36</td><td>Variable</td><td></td><td><a class=\"ProveItLink\" href=\"../../../../../__pv_it/common/27cc275d44b4f4499fb9ccfb3fab1a98165d2fa60/expr.ipynb\"><img src=\"../../../../../__pv_it/common/27cc275d44b4f4499fb9ccfb3fab1a98165d2fa60/expr.png\" style=\"display:inline;vertical-align:middle;\" /></a></td></tr>\n",
       "<tr><td>37</td><td>Operation</td><td>operator:&nbsp;38<br>operands:&nbsp;39<br></td><td><a class=\"ProveItLink\" href=\"../d2b26ace448078d40db5b733bb2f279a29c992790/expr.ipynb\"><img src=\"../d2b26ace448078d40db5b733bb2f279a29c992790/expr.png\" style=\"display:inline;vertical-align:middle;\" /></a></td></tr>\n",
       "<tr><td>38</td><td>Literal</td><td></td><td><a class=\"ProveItLink\" href=\"../../../../number_sets/integers/__pv_it/common/92f3a0a77e3c3ea8e4a5c8674edadc54e4f57d550/expr.ipynb\"><img src=\"../../../../number_sets/integers/__pv_it/common/92f3a0a77e3c3ea8e4a5c8674edadc54e4f57d550/expr.png\" style=\"display:inline;vertical-align:middle;\" /></a></td></tr>\n",
       "<tr><td>39</td><td>ExprTuple</td><td>40, 41</td><td><a class=\"ProveItLink\" href=\"../05a1ed7149bdab455b0537bd9baa8c6aae03294c0/expr.ipynb\"><img src=\"../05a1ed7149bdab455b0537bd9baa8c6aae03294c0/expr.png\" style=\"display:inline;vertical-align:middle;\" /></a></td></tr>\n",
       "<tr><td>40</td><td>Variable</td><td></td><td><a class=\"ProveItLink\" href=\"../../../../../__pv_it/common/674a03b9c3ca221b3aabd5636837b31528ff33830/expr.ipynb\"><img src=\"../../../../../__pv_it/common/674a03b9c3ca221b3aabd5636837b31528ff33830/expr.png\" style=\"display:inline;vertical-align:middle;\" /></a></td></tr>\n",
       "<tr><td>41</td><td>Variable</td><td></td><td><a class=\"ProveItLink\" href=\"../../../../../__pv_it/common/8968bb04eb3f7dfa02353397ce929b025bbd79c20/expr.ipynb\"><img src=\"../../../../../__pv_it/common/8968bb04eb3f7dfa02353397ce929b025bbd79c20/expr.png\" style=\"display:inline;vertical-align:middle;\" /></a></td></tr>\n",
       "</table>\n"
      ],
      "text/plain": [
       "0. [forall_{k in {m .. n}} (f(k) = g(k))] => ((Sum_{l = m}^{n} f(l)) = (Sum_{l = m}^{n} g(l)))\n",
       "   core type: Operation\n",
       "   operator: 1\n",
       "   operands: 2\n",
       "1. =>\n",
       "   core type: Literal\n",
       "   sub-expressions: \n",
       "2. (forall_{k in {m .. n}} (f(k) = g(k)), (Sum_{l = m}^{n} f(l)) = (Sum_{l = m}^{n} g(l)))\n",
       "   core type: ExprTuple\n",
       "   sub-expressions: 3, 4\n",
       "3. forall_{k in {m .. n}} (f(k) = g(k))\n",
       "   core type: Operation\n",
       "   operator: 5\n",
       "   operand: 8\n",
       "4. (Sum_{l = m}^{n} f(l)) = (Sum_{l = m}^{n} g(l))\n",
       "   core type: Operation\n",
       "   operator: 19\n",
       "   operands: 7\n",
       "5. forall\n",
       "   core type: Literal\n",
       "   sub-expressions: \n",
       "6. (k -> {f(k) = g(k) if k in {m .. n}.)\n",
       "   core type: ExprTuple\n",
       "   sub-expressions: 8\n",
       "7. (Sum_{l = m}^{n} f(l), Sum_{l = m}^{n} g(l))\n",
       "   core type: ExprTuple\n",
       "   sub-expressions: 9, 10\n",
       "8. k -> {f(k) = g(k) if k in {m .. n}.\n",
       "   core type: Lambda\n",
       "   parameter: 35\n",
       "   body: 11\n",
       "9. Sum_{l = m}^{n} f(l)\n",
       "   core type: Operation\n",
       "   operator: 13\n",
       "   operand: 17\n",
       "10. Sum_{l = m}^{n} g(l)\n",
       "    core type: Operation\n",
       "    operator: 13\n",
       "    operand: 18\n",
       "11. {f(k) = g(k) if k in {m .. n}.\n",
       "    core type: Conditional\n",
       "    value: 15\n",
       "    condition: 16\n",
       "12. (l -> {f(l) if l in {m .. n}.)\n",
       "    core type: ExprTuple\n",
       "    sub-expressions: 17\n",
       "13. Sum\n",
       "    core type: Literal\n",
       "    sub-expressions: \n",
       "14. (l -> {g(l) if l in {m .. n}.)\n",
       "    core type: ExprTuple\n",
       "    sub-expressions: 18\n",
       "15. f(k) = g(k)\n",
       "    core type: Operation\n",
       "    operator: 19\n",
       "    operands: 20\n",
       "16. k in {m .. n}\n",
       "    core type: Operation\n",
       "    operator: 33\n",
       "    operands: 21\n",
       "17. l -> {f(l) if l in {m .. n}.\n",
       "    core type: Lambda\n",
       "    parameter: 36\n",
       "    body: 22\n",
       "18. l -> {g(l) if l in {m .. n}.\n",
       "    core type: Lambda\n",
       "    parameter: 36\n",
       "    body: 23\n",
       "19. =\n",
       "    core type: Literal\n",
       "    sub-expressions: \n",
       "20. (f(k), g(k))\n",
       "    core type: ExprTuple\n",
       "    sub-expressions: 24, 25\n",
       "21. (k, {m .. n})\n",
       "    core type: ExprTuple\n",
       "    sub-expressions: 35, 37\n",
       "22. {f(l) if l in {m .. n}.\n",
       "    core type: Conditional\n",
       "    value: 26\n",
       "    condition: 28\n",
       "23. {g(l) if l in {m .. n}.\n",
       "    core type: Conditional\n",
       "    value: 27\n",
       "    condition: 28\n",
       "24. f(k)\n",
       "    core type: Operation\n",
       "    operator: 30\n",
       "    operand: 35\n",
       "25. g(k)\n",
       "    core type: Operation\n",
       "    operator: 31\n",
       "    operand: 35\n",
       "26. f(l)\n",
       "    core type: Operation\n",
       "    operator: 30\n",
       "    operand: 36\n",
       "27. g(l)\n",
       "    core type: Operation\n",
       "    operator: 31\n",
       "    operand: 36\n",
       "28. l in {m .. n}\n",
       "    core type: Operation\n",
       "    operator: 33\n",
       "    operands: 34\n",
       "29. (k)\n",
       "    core type: ExprTuple\n",
       "    sub-expressions: 35\n",
       "30. f\n",
       "    core type: Variable\n",
       "    sub-expressions: \n",
       "31. g\n",
       "    core type: Variable\n",
       "    sub-expressions: \n",
       "32. (l)\n",
       "    core type: ExprTuple\n",
       "    sub-expressions: 36\n",
       "33. in\n",
       "    core type: Literal\n",
       "    sub-expressions: \n",
       "34. (l, {m .. n})\n",
       "    core type: ExprTuple\n",
       "    sub-expressions: 36, 37\n",
       "35. k\n",
       "    core type: Variable\n",
       "    sub-expressions: \n",
       "36. l\n",
       "    core type: Variable\n",
       "    sub-expressions: \n",
       "37. {m .. n}\n",
       "    core type: Operation\n",
       "    operator: 38\n",
       "    operands: 39\n",
       "38. Interval\n",
       "    core type: Literal\n",
       "    sub-expressions: \n",
       "39. (m, n)\n",
       "    core type: ExprTuple\n",
       "    sub-expressions: 40, 41\n",
       "40. m\n",
       "    core type: Variable\n",
       "    sub-expressions: \n",
       "41. n\n",
       "    core type: Variable\n",
       "    sub-expressions: "
      ]
     },
     "metadata": {},
     "output_type": "display_data"
    }
   ],
   "source": [
    "# display the expression information\n",
    "stored_expr.expr_info()"
   ]
  },
  {
   "cell_type": "code",
   "execution_count": null,
   "metadata": {},
   "outputs": [],
   "source": []
  }
 ],
 "metadata": {
  "kernelspec": {
   "display_name": "Python 3",
   "language": "python",
   "name": "python3"
  }
 },
 "nbformat": 4,
 "nbformat_minor": 0
}