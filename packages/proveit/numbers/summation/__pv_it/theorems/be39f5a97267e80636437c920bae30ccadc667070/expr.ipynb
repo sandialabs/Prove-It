{
 "cells": [
  {
   "cell_type": "markdown",
   "metadata": {},
   "source": [
    "Expression of type <a class=\"ProveItLink\" href=\"../../../../../../../doc/html/api/proveit.ExprTuple.html\">ExprTuple</a>\n",
    "=======================\n",
    "# from the theory of <a class=\"ProveItLink\" href=\"../../../_theory_nbs_/theory.ipynb\">proveit.numbers.summation</a>"
   ]
  },
  {
   "cell_type": "code",
   "execution_count": 1,
   "metadata": {},
   "outputs": [],
   "source": [
    "import proveit\n",
    "# Automation is not needed when building an expression:\n",
    "proveit.defaults.automation = False # This will speed things up.\n",
    "proveit.defaults.inline_pngs = False # Makes files smaller.\n",
    "%load_expr # Load the stored expression as 'stored_expr'\n",
    "# import Expression classes needed to build the expression\n",
    "from proveit import Conditional, ExprTuple, Lambda, S, k\n",
    "from proveit.logic import InSet\n",
    "from proveit.numbers import LessEq\n",
    "from proveit.numbers.summation import ak, bk"
   ]
  },
  {
   "cell_type": "code",
   "execution_count": 2,
   "metadata": {},
   "outputs": [
    {
     "data": {
      "text/html": [
       "<strong id=\"expr\">expr:</strong> <a class=\"ProveItLink\" href=\"expr.ipynb\"><img src=\"expr.png\" style=\"display:inline;vertical-align:middle;\" /></a><br>"
      ],
      "text/plain": [
       "<IPython.core.display.HTML object>"
      ]
     },
     "metadata": {},
     "output_type": "display_data"
    }
   ],
   "source": [
    "# build up the expression from sub-expressions\n",
    "expr = ExprTuple(Lambda(k, Conditional(LessEq(ak, bk), InSet(k, S))))"
   ]
  },
  {
   "cell_type": "code",
   "execution_count": 3,
   "metadata": {},
   "outputs": [
    {
     "name": "stdout",
     "output_type": "stream",
     "text": [
      "Passed sanity check: expr matches stored_expr\n"
     ]
    }
   ],
   "source": [
    "# check that the built expression is the same as the stored expression\n",
    "assert expr == stored_expr\n",
    "assert expr._style_id == stored_expr._style_id\n",
    "print(\"Passed sanity check: expr matches stored_expr\")"
   ]
  },
  {
   "cell_type": "code",
   "execution_count": 4,
   "metadata": {},
   "outputs": [
    {
     "name": "stdout",
     "output_type": "stream",
     "text": [
      "\\left(k \\mapsto \\left\\{a\\left(k\\right) \\leq b\\left(k\\right) \\textrm{ if } k \\in S\\right..\\right)\n"
     ]
    }
   ],
   "source": [
    "# Show the LaTeX representation of the expression for convenience if you need it.\n",
    "print(stored_expr.latex())"
   ]
  },
  {
   "cell_type": "code",
   "execution_count": 5,
   "metadata": {},
   "outputs": [
    {
     "data": {
      "text/html": [
       "no style options"
      ],
      "text/plain": [
       "no style options"
      ]
     },
     "metadata": {},
     "output_type": "display_data"
    }
   ],
   "source": [
    "stored_expr.style_options()"
   ]
  },
  {
   "cell_type": "code",
   "execution_count": 6,
   "metadata": {},
   "outputs": [
    {
     "data": {
      "text/html": [
       "<table><tr><th>&nbsp;</th><th>core type</th><th>sub-expressions</th><th>expression</th></tr>\n",
       "<tr><td>0</td><td>ExprTuple</td><td>1</td><td><a class=\"ProveItLink\" href=\"expr.ipynb\"><img src=\"expr.png\" style=\"display:inline;vertical-align:middle;\" /></a></td></tr>\n",
       "<tr><td>1</td><td>Lambda</td><td>parameter:&nbsp;15<br>body:&nbsp;2<br></td><td><a class=\"ProveItLink\" href=\"../0852ba5af0018041075074f30702fdd2b6f6d8c60/expr.ipynb\"><img src=\"../0852ba5af0018041075074f30702fdd2b6f6d8c60/expr.png\" style=\"display:inline;vertical-align:middle;\" /></a></td></tr>\n",
       "<tr><td>2</td><td>Conditional</td><td>value:&nbsp;3<br>condition:&nbsp;4<br></td><td><a class=\"ProveItLink\" href=\"../92892cccd334c14f33efa97ba57a2025eb60342f0/expr.ipynb\"><img src=\"../92892cccd334c14f33efa97ba57a2025eb60342f0/expr.png\" style=\"display:inline;vertical-align:middle;\" /></a></td></tr>\n",
       "<tr><td>3</td><td>Operation</td><td>operator:&nbsp;5<br>operands:&nbsp;6<br></td><td><a class=\"ProveItLink\" href=\"../d12e6a6611d3296ff4753c197f9db774bd3f51a90/expr.ipynb\"><img src=\"../d12e6a6611d3296ff4753c197f9db774bd3f51a90/expr.png\" style=\"display:inline;vertical-align:middle;\" /></a></td></tr>\n",
       "<tr><td>4</td><td>Operation</td><td>operator:&nbsp;7<br>operands:&nbsp;8<br></td><td><a class=\"ProveItLink\" href=\"../2dd2573be290d2f60e91b6ab147b56c2999c28340/expr.ipynb\"><img src=\"../2dd2573be290d2f60e91b6ab147b56c2999c28340/expr.png\" style=\"display:inline;vertical-align:middle;\" /></a></td></tr>\n",
       "<tr><td>5</td><td>Literal</td><td></td><td><a class=\"ProveItLink\" href=\"../../../../ordering/__pv_it/common/68379698d72b4689bbda4b5c5cca29ee599d70280/expr.ipynb\"><img src=\"../../../../ordering/__pv_it/common/68379698d72b4689bbda4b5c5cca29ee599d70280/expr.png\" style=\"display:inline;vertical-align:middle;\" /></a></td></tr>\n",
       "<tr><td>6</td><td>ExprTuple</td><td>9, 10</td><td><a class=\"ProveItLink\" href=\"../a0002d5c97a2d474225fb3b725c171452ae4f58f0/expr.ipynb\"><img src=\"../a0002d5c97a2d474225fb3b725c171452ae4f58f0/expr.png\" style=\"display:inline;vertical-align:middle;\" /></a></td></tr>\n",
       "<tr><td>7</td><td>Literal</td><td></td><td><a class=\"ProveItLink\" href=\"../../../../../logic/sets/membership/__pv_it/common/477487d8796864d23d5810f83761435f25167f690/expr.ipynb\"><img src=\"../../../../../logic/sets/membership/__pv_it/common/477487d8796864d23d5810f83761435f25167f690/expr.png\" style=\"display:inline;vertical-align:middle;\" /></a></td></tr>\n",
       "<tr><td>8</td><td>ExprTuple</td><td>15, 11</td><td><a class=\"ProveItLink\" href=\"../1b17594adf91652399c988cfe2ef038edc647f750/expr.ipynb\"><img src=\"../1b17594adf91652399c988cfe2ef038edc647f750/expr.png\" style=\"display:inline;vertical-align:middle;\" /></a></td></tr>\n",
       "<tr><td>9</td><td>Operation</td><td>operator:&nbsp;12<br>operand:&nbsp;15<br></td><td><a class=\"ProveItLink\" href=\"../../common/980b3b81881cce4e1355f17d00e15a3802d84e590/expr.ipynb\"><img src=\"../../common/980b3b81881cce4e1355f17d00e15a3802d84e590/expr.png\" style=\"display:inline;vertical-align:middle;\" /></a></td></tr>\n",
       "<tr><td>10</td><td>Operation</td><td>operator:&nbsp;13<br>operand:&nbsp;15<br></td><td><a class=\"ProveItLink\" href=\"../../common/12c9a4f9cb30b68a44cfb890ea77cbc808445a1e0/expr.ipynb\"><img src=\"../../common/12c9a4f9cb30b68a44cfb890ea77cbc808445a1e0/expr.png\" style=\"display:inline;vertical-align:middle;\" /></a></td></tr>\n",
       "<tr><td>11</td><td>Variable</td><td></td><td><a class=\"ProveItLink\" href=\"../../../../../__pv_it/common/38f47c5670ea8c5b56253448e95d8afb56bc09b40/expr.ipynb\"><img src=\"../../../../../__pv_it/common/38f47c5670ea8c5b56253448e95d8afb56bc09b40/expr.png\" style=\"display:inline;vertical-align:middle;\" /></a></td></tr>\n",
       "<tr><td>12</td><td>Variable</td><td></td><td><a class=\"ProveItLink\" href=\"../../../../../__pv_it/common/c06c606ec12678c58933ac85412ecadc2ae28be60/expr.ipynb\"><img src=\"../../../../../__pv_it/common/c06c606ec12678c58933ac85412ecadc2ae28be60/expr.png\" style=\"display:inline;vertical-align:middle;\" /></a></td></tr>\n",
       "<tr><td>13</td><td>Variable</td><td></td><td><a class=\"ProveItLink\" href=\"../../../../../__pv_it/common/195236b98c6c564a75b5dbada74b173bc52d5c3e0/expr.ipynb\"><img src=\"../../../../../__pv_it/common/195236b98c6c564a75b5dbada74b173bc52d5c3e0/expr.png\" style=\"display:inline;vertical-align:middle;\" /></a></td></tr>\n",
       "<tr><td>14</td><td>ExprTuple</td><td>15</td><td><a class=\"ProveItLink\" href=\"../../common/36569ebfbef1eee76da90134ba3a4620a4cb94130/expr.ipynb\"><img src=\"../../common/36569ebfbef1eee76da90134ba3a4620a4cb94130/expr.png\" style=\"display:inline;vertical-align:middle;\" /></a></td></tr>\n",
       "<tr><td>15</td><td>Variable</td><td></td><td><a class=\"ProveItLink\" href=\"../../../../../__pv_it/common/63b7c64bf9ec7a04ecc396c7a1670f3f12fb59490/expr.ipynb\"><img src=\"../../../../../__pv_it/common/63b7c64bf9ec7a04ecc396c7a1670f3f12fb59490/expr.png\" style=\"display:inline;vertical-align:middle;\" /></a></td></tr>\n",
       "</table>\n"
      ],
      "text/plain": [
       "0. (k -> {a(k) <= b(k) if k in S.)\n",
       "   core type: ExprTuple\n",
       "   sub-expressions: 1\n",
       "1. k -> {a(k) <= b(k) if k in S.\n",
       "   core type: Lambda\n",
       "   parameter: 15\n",
       "   body: 2\n",
       "2. {a(k) <= b(k) if k in S.\n",
       "   core type: Conditional\n",
       "   value: 3\n",
       "   condition: 4\n",
       "3. a(k) <= b(k)\n",
       "   core type: Operation\n",
       "   operator: 5\n",
       "   operands: 6\n",
       "4. k in S\n",
       "   core type: Operation\n",
       "   operator: 7\n",
       "   operands: 8\n",
       "5. <=\n",
       "   core type: Literal\n",
       "   sub-expressions: \n",
       "6. (a(k), b(k))\n",
       "   core type: ExprTuple\n",
       "   sub-expressions: 9, 10\n",
       "7. in\n",
       "   core type: Literal\n",
       "   sub-expressions: \n",
       "8. (k, S)\n",
       "   core type: ExprTuple\n",
       "   sub-expressions: 15, 11\n",
       "9. a(k)\n",
       "   core type: Operation\n",
       "   operator: 12\n",
       "   operand: 15\n",
       "10. b(k)\n",
       "    core type: Operation\n",
       "    operator: 13\n",
       "    operand: 15\n",
       "11. S\n",
       "    core type: Variable\n",
       "    sub-expressions: \n",
       "12. a\n",
       "    core type: Variable\n",
       "    sub-expressions: \n",
       "13. b\n",
       "    core type: Variable\n",
       "    sub-expressions: \n",
       "14. (k)\n",
       "    core type: ExprTuple\n",
       "    sub-expressions: 15\n",
       "15. k\n",
       "    core type: Variable\n",
       "    sub-expressions: "
      ]
     },
     "metadata": {},
     "output_type": "display_data"
    }
   ],
   "source": [
    "# display the expression information\n",
    "stored_expr.expr_info()"
   ]
  },
  {
   "cell_type": "code",
   "execution_count": null,
   "metadata": {},
   "outputs": [],
   "source": []
  }
 ],
 "metadata": {
  "kernelspec": {
   "display_name": "Python 3",
   "language": "python",
   "name": "python3"
  }
 },
 "nbformat": 4,
 "nbformat_minor": 0
}