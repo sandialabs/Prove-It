{
 "cells": [
  {
   "cell_type": "markdown",
   "metadata": {},
   "source": [
    "Expression of type <a class=\"ProveItLink\" href=\"../../../../../../../doc/html/api/proveit.ExprTuple.html\">ExprTuple</a>\n",
    "=======================\n",
    "# from the theory of <a class=\"ProveItLink\" href=\"../../../_theory_nbs_/theory.ipynb\">proveit.numbers.summation</a>"
   ]
  },
  {
   "cell_type": "code",
   "execution_count": 1,
   "metadata": {},
   "outputs": [],
   "source": [
    "import proveit\n",
    "# Automation is not needed when building an expression:\n",
    "proveit.defaults.automation = False # This will speed things up.\n",
    "proveit.defaults.inline_pngs = False # Makes files smaller.\n",
    "%load_expr # Load the stored expression as 'stored_expr'\n",
    "# import Expression classes needed to build the expression\n",
    "from proveit import ExprTuple, i, n, x\n",
    "from proveit.numbers import Add, Exp, Interval, Sum, frac, one, subtract, zero"
   ]
  },
  {
   "cell_type": "code",
   "execution_count": 2,
   "metadata": {},
   "outputs": [
    {
     "data": {
      "text/html": [
       "<strong id=\"expr\">expr:</strong> <a class=\"ProveItLink\" href=\"expr.ipynb\"><img src=\"expr.png\" style=\"display:inline;vertical-align:middle;\" /></a><br>"
      ],
      "text/plain": [
       "<IPython.core.display.HTML object>"
      ]
     },
     "metadata": {},
     "output_type": "display_data"
    }
   ],
   "source": [
    "# build up the expression from sub-expressions\n",
    "expr = ExprTuple(Sum(index_or_indices = [i], summand = Exp(x, i), domain = Interval(zero, n)), frac(subtract(one, Exp(x, Add(n, one))), subtract(one, x)))"
   ]
  },
  {
   "cell_type": "code",
   "execution_count": 3,
   "metadata": {},
   "outputs": [
    {
     "name": "stdout",
     "output_type": "stream",
     "text": [
      "Passed sanity check: expr matches stored_expr\n"
     ]
    }
   ],
   "source": [
    "# check that the built expression is the same as the stored expression\n",
    "assert expr == stored_expr\n",
    "assert expr._style_id == stored_expr._style_id\n",
    "print(\"Passed sanity check: expr matches stored_expr\")"
   ]
  },
  {
   "cell_type": "code",
   "execution_count": 4,
   "metadata": {},
   "outputs": [
    {
     "name": "stdout",
     "output_type": "stream",
     "text": [
      "\\left(\\sum_{i = 0}^{n} x^{i}, \\frac{1 - x^{n + 1}}{1 - x}\\right)\n"
     ]
    }
   ],
   "source": [
    "# Show the LaTeX representation of the expression for convenience if you need it.\n",
    "print(stored_expr.latex())"
   ]
  },
  {
   "cell_type": "code",
   "execution_count": 5,
   "metadata": {},
   "outputs": [
    {
     "data": {
      "text/html": [
       "<table>\n",
       "<tr><th>name</th><th>description</th><th>default</th><th>current value</th><th>related methods</th></tr><tr><td>wrap_positions</td><td>position(s) at which wrapping is to occur; 'n' is after the nth comma.</td><td>()</td><td>()</td><td>('with_wrapping_at',)</td></tr>\n",
       "<tr><td>justification</td><td>if any wrap positions are set, justify to the 'left', 'center', or 'right'</td><td>left</td><td>left</td><td>('with_justification',)</td></tr>\n",
       "</table>\n"
      ],
      "text/plain": [
       "style name: wrap_positions\n",
       "description: position(s) at which wrapping is to occur; 'n' is after the nth comma.\n",
       "default: ()\n",
       "current value: ()\n",
       "related methods: ('with_wrapping_at',)\n",
       "style name: justification\n",
       "description: if any wrap positions are set, justify to the 'left', 'center', or 'right'\n",
       "default: left\n",
       "current value: left\n",
       "related methods: ('with_justification',)"
      ]
     },
     "metadata": {},
     "output_type": "display_data"
    }
   ],
   "source": [
    "stored_expr.style_options()"
   ]
  },
  {
   "cell_type": "code",
   "execution_count": 6,
   "metadata": {},
   "outputs": [
    {
     "data": {
      "text/html": [
       "<table><tr><th>&nbsp;</th><th>core type</th><th>sub-expressions</th><th>expression</th></tr>\n",
       "<tr><td>0</td><td>ExprTuple</td><td>1, 2</td><td><a class=\"ProveItLink\" href=\"expr.ipynb\"><img src=\"expr.png\" style=\"display:inline;vertical-align:middle;\" /></a></td></tr>\n",
       "<tr><td>1</td><td>Operation</td><td>operator:&nbsp;3<br>operand:&nbsp;7<br></td><td><a class=\"ProveItLink\" href=\"../bab26315d0f2552b83db15f3304eca6a8854c4be0/expr.ipynb\"><img src=\"../bab26315d0f2552b83db15f3304eca6a8854c4be0/expr.png\" style=\"display:inline;vertical-align:middle;\" /></a></td></tr>\n",
       "<tr><td>2</td><td>Operation</td><td>operator:&nbsp;5<br>operands:&nbsp;6<br></td><td><a class=\"ProveItLink\" href=\"../3f4e6ec22e7a96f91aa7774684ba0ebb3a5961800/expr.ipynb\"><img src=\"../3f4e6ec22e7a96f91aa7774684ba0ebb3a5961800/expr.png\" style=\"display:inline;vertical-align:middle;\" /></a></td></tr>\n",
       "<tr><td>3</td><td>Literal</td><td></td><td><a class=\"ProveItLink\" href=\"../../common/14fe61cccc388f91dfd83d3ca31cf27448cc070a0/expr.ipynb\"><img src=\"../../common/14fe61cccc388f91dfd83d3ca31cf27448cc070a0/expr.png\" style=\"display:inline;vertical-align:middle;\" /></a></td></tr>\n",
       "<tr><td>4</td><td>ExprTuple</td><td>7</td><td><a class=\"ProveItLink\" href=\"../be79c424899b92e69da445f441026d8fbc08ae200/expr.ipynb\"><img src=\"../be79c424899b92e69da445f441026d8fbc08ae200/expr.png\" style=\"display:inline;vertical-align:middle;\" /></a></td></tr>\n",
       "<tr><td>5</td><td>Literal</td><td></td><td><a class=\"ProveItLink\" href=\"../../../../division/__pv_it/common/a2a633e1e3c749fb1f2692466b287b6348c5de840/expr.ipynb\"><img src=\"../../../../division/__pv_it/common/a2a633e1e3c749fb1f2692466b287b6348c5de840/expr.png\" style=\"display:inline;vertical-align:middle;\" /></a></td></tr>\n",
       "<tr><td>6</td><td>ExprTuple</td><td>8, 9</td><td><a class=\"ProveItLink\" href=\"../26a60f79daded14031817875ede3091d831f70d20/expr.ipynb\"><img src=\"../26a60f79daded14031817875ede3091d831f70d20/expr.png\" style=\"display:inline;vertical-align:middle;\" /></a></td></tr>\n",
       "<tr><td>7</td><td>Lambda</td><td>parameter:&nbsp;24<br>body:&nbsp;11<br></td><td><a class=\"ProveItLink\" href=\"../f8eab717d18bf168969fd99495cfb4fb31ba28b10/expr.ipynb\"><img src=\"../f8eab717d18bf168969fd99495cfb4fb31ba28b10/expr.png\" style=\"display:inline;vertical-align:middle;\" /></a></td></tr>\n",
       "<tr><td>8</td><td>Operation</td><td>operator:&nbsp;34<br>operands:&nbsp;12<br></td><td><a class=\"ProveItLink\" href=\"../1eacf33a5d5661ec1b066474cd06f5f95a5201bb0/expr.ipynb\"><img src=\"../1eacf33a5d5661ec1b066474cd06f5f95a5201bb0/expr.png\" style=\"display:inline;vertical-align:middle;\" /></a></td></tr>\n",
       "<tr><td>9</td><td>Operation</td><td>operator:&nbsp;34<br>operands:&nbsp;13<br></td><td><a class=\"ProveItLink\" href=\"../ee7f4fd9cddf2bf63ee91f8fb1058a53495ea8000/expr.ipynb\"><img src=\"../ee7f4fd9cddf2bf63ee91f8fb1058a53495ea8000/expr.png\" style=\"display:inline;vertical-align:middle;\" /></a></td></tr>\n",
       "<tr><td>10</td><td>ExprTuple</td><td>24</td><td><a class=\"ProveItLink\" href=\"../../../../../core_expr_types/__pv_it/common/0fc33550aa9740010879fdf30c320b63ba918eff0/expr.ipynb\"><img src=\"../../../../../core_expr_types/__pv_it/common/0fc33550aa9740010879fdf30c320b63ba918eff0/expr.png\" style=\"display:inline;vertical-align:middle;\" /></a></td></tr>\n",
       "<tr><td>11</td><td>Conditional</td><td>value:&nbsp;14<br>condition:&nbsp;15<br></td><td><a class=\"ProveItLink\" href=\"../94a785411ddc0d6ef9ae7d5dad2b30ca9c37855a0/expr.ipynb\"><img src=\"../94a785411ddc0d6ef9ae7d5dad2b30ca9c37855a0/expr.png\" style=\"display:inline;vertical-align:middle;\" /></a></td></tr>\n",
       "<tr><td>12</td><td>ExprTuple</td><td>37, 16</td><td><a class=\"ProveItLink\" href=\"../6e3c5d68b1df7393f1e3184ccd26d97c3cf0c81f0/expr.ipynb\"><img src=\"../6e3c5d68b1df7393f1e3184ccd26d97c3cf0c81f0/expr.png\" style=\"display:inline;vertical-align:middle;\" /></a></td></tr>\n",
       "<tr><td>13</td><td>ExprTuple</td><td>37, 17</td><td><a class=\"ProveItLink\" href=\"../a260591c7d03a37138628696200ec6e58cb59c2c0/expr.ipynb\"><img src=\"../a260591c7d03a37138628696200ec6e58cb59c2c0/expr.png\" style=\"display:inline;vertical-align:middle;\" /></a></td></tr>\n",
       "<tr><td>14</td><td>Operation</td><td>operator:&nbsp;29<br>operands:&nbsp;18<br></td><td><a class=\"ProveItLink\" href=\"../4e928b95a2a2690eee9e3603b02d831601000a7e0/expr.ipynb\"><img src=\"../4e928b95a2a2690eee9e3603b02d831601000a7e0/expr.png\" style=\"display:inline;vertical-align:middle;\" /></a></td></tr>\n",
       "<tr><td>15</td><td>Operation</td><td>operator:&nbsp;19<br>operands:&nbsp;20<br></td><td><a class=\"ProveItLink\" href=\"../13fa42a4d6f324aebcdfe813b0955f0d8224e5310/expr.ipynb\"><img src=\"../13fa42a4d6f324aebcdfe813b0955f0d8224e5310/expr.png\" style=\"display:inline;vertical-align:middle;\" /></a></td></tr>\n",
       "<tr><td>16</td><td>Operation</td><td>operator:&nbsp;22<br>operand:&nbsp;26<br></td><td><a class=\"ProveItLink\" href=\"../9f5b551f38ba1d57e53acbcab6e4929795ef7f020/expr.ipynb\"><img src=\"../9f5b551f38ba1d57e53acbcab6e4929795ef7f020/expr.png\" style=\"display:inline;vertical-align:middle;\" /></a></td></tr>\n",
       "<tr><td>17</td><td>Operation</td><td>operator:&nbsp;22<br>operand:&nbsp;32<br></td><td><a class=\"ProveItLink\" href=\"../8ae6bcf9f63d27c3e43ea63be5df603397837e130/expr.ipynb\"><img src=\"../8ae6bcf9f63d27c3e43ea63be5df603397837e130/expr.png\" style=\"display:inline;vertical-align:middle;\" /></a></td></tr>\n",
       "<tr><td>18</td><td>ExprTuple</td><td>32, 24</td><td><a class=\"ProveItLink\" href=\"../aa1cd9294caa1865ed32fe1d58b1027b689d8af80/expr.ipynb\"><img src=\"../aa1cd9294caa1865ed32fe1d58b1027b689d8af80/expr.png\" style=\"display:inline;vertical-align:middle;\" /></a></td></tr>\n",
       "<tr><td>19</td><td>Literal</td><td></td><td><a class=\"ProveItLink\" href=\"../../../../../logic/sets/membership/__pv_it/common/477487d8796864d23d5810f83761435f25167f690/expr.ipynb\"><img src=\"../../../../../logic/sets/membership/__pv_it/common/477487d8796864d23d5810f83761435f25167f690/expr.png\" style=\"display:inline;vertical-align:middle;\" /></a></td></tr>\n",
       "<tr><td>20</td><td>ExprTuple</td><td>24, 25</td><td><a class=\"ProveItLink\" href=\"../ae8c4aeb58c144782ff355f6b6c0ab0537b0d0590/expr.ipynb\"><img src=\"../ae8c4aeb58c144782ff355f6b6c0ab0537b0d0590/expr.png\" style=\"display:inline;vertical-align:middle;\" /></a></td></tr>\n",
       "<tr><td>21</td><td>ExprTuple</td><td>26</td><td><a class=\"ProveItLink\" href=\"../067222680680ab42a0e0436fff1cea3d877b7a970/expr.ipynb\"><img src=\"../067222680680ab42a0e0436fff1cea3d877b7a970/expr.png\" style=\"display:inline;vertical-align:middle;\" /></a></td></tr>\n",
       "<tr><td>22</td><td>Literal</td><td></td><td><a class=\"ProveItLink\" href=\"../../../../negation/__pv_it/common/221b3c4d1770ee9051b7c044c3f9ec61196fc34b0/expr.ipynb\"><img src=\"../../../../negation/__pv_it/common/221b3c4d1770ee9051b7c044c3f9ec61196fc34b0/expr.png\" style=\"display:inline;vertical-align:middle;\" /></a></td></tr>\n",
       "<tr><td>23</td><td>ExprTuple</td><td>32</td><td><a class=\"ProveItLink\" href=\"../../../../../__pv_it/common/eacfeccc0521684fcb20fe8f5180ac50fca471f20/expr.ipynb\"><img src=\"../../../../../__pv_it/common/eacfeccc0521684fcb20fe8f5180ac50fca471f20/expr.png\" style=\"display:inline;vertical-align:middle;\" /></a></td></tr>\n",
       "<tr><td>24</td><td>Variable</td><td></td><td><a class=\"ProveItLink\" href=\"../../../../../__pv_it/common/ae955345c83abf786c3aff8681cd5465beae262d0/expr.ipynb\"><img src=\"../../../../../__pv_it/common/ae955345c83abf786c3aff8681cd5465beae262d0/expr.png\" style=\"display:inline;vertical-align:middle;\" /></a></td></tr>\n",
       "<tr><td>25</td><td>Operation</td><td>operator:&nbsp;27<br>operands:&nbsp;28<br></td><td><a class=\"ProveItLink\" href=\"../1e0162e75527f883dd787de9ab0dfd3e1a4f4daa0/expr.ipynb\"><img src=\"../1e0162e75527f883dd787de9ab0dfd3e1a4f4daa0/expr.png\" style=\"display:inline;vertical-align:middle;\" /></a></td></tr>\n",
       "<tr><td>26</td><td>Operation</td><td>operator:&nbsp;29<br>operands:&nbsp;30<br></td><td><a class=\"ProveItLink\" href=\"../620d7b5d79f5b6bb2453f0a1754074369346983c0/expr.ipynb\"><img src=\"../620d7b5d79f5b6bb2453f0a1754074369346983c0/expr.png\" style=\"display:inline;vertical-align:middle;\" /></a></td></tr>\n",
       "<tr><td>27</td><td>Literal</td><td></td><td><a class=\"ProveItLink\" href=\"../../../../number_sets/integers/__pv_it/common/92f3a0a77e3c3ea8e4a5c8674edadc54e4f57d550/expr.ipynb\"><img src=\"../../../../number_sets/integers/__pv_it/common/92f3a0a77e3c3ea8e4a5c8674edadc54e4f57d550/expr.png\" style=\"display:inline;vertical-align:middle;\" /></a></td></tr>\n",
       "<tr><td>28</td><td>ExprTuple</td><td>31, 36</td><td><a class=\"ProveItLink\" href=\"../bfde43e59178d7ecc57bcc988ecaa19a348f07680/expr.ipynb\"><img src=\"../bfde43e59178d7ecc57bcc988ecaa19a348f07680/expr.png\" style=\"display:inline;vertical-align:middle;\" /></a></td></tr>\n",
       "<tr><td>29</td><td>Literal</td><td></td><td><a class=\"ProveItLink\" href=\"../../../../exponentiation/__pv_it/common/0ac37aca1e54c35c5cda09672df32d4f69f1f3020/expr.ipynb\"><img src=\"../../../../exponentiation/__pv_it/common/0ac37aca1e54c35c5cda09672df32d4f69f1f3020/expr.png\" style=\"display:inline;vertical-align:middle;\" /></a></td></tr>\n",
       "<tr><td>30</td><td>ExprTuple</td><td>32, 33</td><td><a class=\"ProveItLink\" href=\"../a56e51fa300e82f4f309fd341c1d9c2df18838770/expr.ipynb\"><img src=\"../a56e51fa300e82f4f309fd341c1d9c2df18838770/expr.png\" style=\"display:inline;vertical-align:middle;\" /></a></td></tr>\n",
       "<tr><td>31</td><td>Literal</td><td></td><td><a class=\"ProveItLink\" href=\"../../../../numerals/__pv_it/common/dd4e19e8b134dfb293470ea55fe3589b0ab9f8040/expr.ipynb\"><img src=\"../../../../numerals/__pv_it/common/dd4e19e8b134dfb293470ea55fe3589b0ab9f8040/expr.png\" style=\"display:inline;vertical-align:middle;\" /></a></td></tr>\n",
       "<tr><td>32</td><td>Variable</td><td></td><td><a class=\"ProveItLink\" href=\"../../../../../__pv_it/common/a0d9d672aa5e272d907247690c152cc2c6daafb70/expr.ipynb\"><img src=\"../../../../../__pv_it/common/a0d9d672aa5e272d907247690c152cc2c6daafb70/expr.png\" style=\"display:inline;vertical-align:middle;\" /></a></td></tr>\n",
       "<tr><td>33</td><td>Operation</td><td>operator:&nbsp;34<br>operands:&nbsp;35<br></td><td><a class=\"ProveItLink\" href=\"../da9454a8f6582aff67171697f6638aec8e79b2450/expr.ipynb\"><img src=\"../da9454a8f6582aff67171697f6638aec8e79b2450/expr.png\" style=\"display:inline;vertical-align:middle;\" /></a></td></tr>\n",
       "<tr><td>34</td><td>Literal</td><td></td><td><a class=\"ProveItLink\" href=\"../../../../addition/__pv_it/common/4b7effaab3619a1c2c38fe2dee8601df8ec714590/expr.ipynb\"><img src=\"../../../../addition/__pv_it/common/4b7effaab3619a1c2c38fe2dee8601df8ec714590/expr.png\" style=\"display:inline;vertical-align:middle;\" /></a></td></tr>\n",
       "<tr><td>35</td><td>ExprTuple</td><td>36, 37</td><td><a class=\"ProveItLink\" href=\"../a3b4d93edb08a2579aa592b54f8896fd10b24c2f0/expr.ipynb\"><img src=\"../a3b4d93edb08a2579aa592b54f8896fd10b24c2f0/expr.png\" style=\"display:inline;vertical-align:middle;\" /></a></td></tr>\n",
       "<tr><td>36</td><td>Variable</td><td></td><td><a class=\"ProveItLink\" href=\"../../../../../__pv_it/common/8968bb04eb3f7dfa02353397ce929b025bbd79c20/expr.ipynb\"><img src=\"../../../../../__pv_it/common/8968bb04eb3f7dfa02353397ce929b025bbd79c20/expr.png\" style=\"display:inline;vertical-align:middle;\" /></a></td></tr>\n",
       "<tr><td>37</td><td>Literal</td><td></td><td><a class=\"ProveItLink\" href=\"../../../../numerals/__pv_it/common/682157d4892d216d9e5626ed533aff9b56b9506e0/expr.ipynb\"><img src=\"../../../../numerals/__pv_it/common/682157d4892d216d9e5626ed533aff9b56b9506e0/expr.png\" style=\"display:inline;vertical-align:middle;\" /></a></td></tr>\n",
       "</table>\n"
      ],
      "text/plain": [
       "0. (Sum_{i = 0}^{n} x^{i}, (1 - x^{n + 1}) / (1 - x))\n",
       "   core type: ExprTuple\n",
       "   sub-expressions: 1, 2\n",
       "1. Sum_{i = 0}^{n} x^{i}\n",
       "   core type: Operation\n",
       "   operator: 3\n",
       "   operand: 7\n",
       "2. (1 - x^{n + 1}) / (1 - x)\n",
       "   core type: Operation\n",
       "   operator: 5\n",
       "   operands: 6\n",
       "3. Sum\n",
       "   core type: Literal\n",
       "   sub-expressions: \n",
       "4. (i -> {x^{i} if i in {0 .. n}.)\n",
       "   core type: ExprTuple\n",
       "   sub-expressions: 7\n",
       "5. /\n",
       "   core type: Literal\n",
       "   sub-expressions: \n",
       "6. (1 - x^{n + 1}, 1 - x)\n",
       "   core type: ExprTuple\n",
       "   sub-expressions: 8, 9\n",
       "7. i -> {x^{i} if i in {0 .. n}.\n",
       "   core type: Lambda\n",
       "   parameter: 24\n",
       "   body: 11\n",
       "8. 1 - x^{n + 1}\n",
       "   core type: Operation\n",
       "   operator: 34\n",
       "   operands: 12\n",
       "9. 1 - x\n",
       "   core type: Operation\n",
       "   operator: 34\n",
       "   operands: 13\n",
       "10. (i)\n",
       "    core type: ExprTuple\n",
       "    sub-expressions: 24\n",
       "11. {x^{i} if i in {0 .. n}.\n",
       "    core type: Conditional\n",
       "    value: 14\n",
       "    condition: 15\n",
       "12. (1, -x^{n + 1})\n",
       "    core type: ExprTuple\n",
       "    sub-expressions: 37, 16\n",
       "13. (1, -x)\n",
       "    core type: ExprTuple\n",
       "    sub-expressions: 37, 17\n",
       "14. x^{i}\n",
       "    core type: Operation\n",
       "    operator: 29\n",
       "    operands: 18\n",
       "15. i in {0 .. n}\n",
       "    core type: Operation\n",
       "    operator: 19\n",
       "    operands: 20\n",
       "16. -x^{n + 1}\n",
       "    core type: Operation\n",
       "    operator: 22\n",
       "    operand: 26\n",
       "17. -x\n",
       "    core type: Operation\n",
       "    operator: 22\n",
       "    operand: 32\n",
       "18. (x, i)\n",
       "    core type: ExprTuple\n",
       "    sub-expressions: 32, 24\n",
       "19. in\n",
       "    core type: Literal\n",
       "    sub-expressions: \n",
       "20. (i, {0 .. n})\n",
       "    core type: ExprTuple\n",
       "    sub-expressions: 24, 25\n",
       "21. (x^{n + 1})\n",
       "    core type: ExprTuple\n",
       "    sub-expressions: 26\n",
       "22. -\n",
       "    core type: Literal\n",
       "    sub-expressions: \n",
       "23. (x)\n",
       "    core type: ExprTuple\n",
       "    sub-expressions: 32\n",
       "24. i\n",
       "    core type: Variable\n",
       "    sub-expressions: \n",
       "25. {0 .. n}\n",
       "    core type: Operation\n",
       "    operator: 27\n",
       "    operands: 28\n",
       "26. x^{n + 1}\n",
       "    core type: Operation\n",
       "    operator: 29\n",
       "    operands: 30\n",
       "27. Interval\n",
       "    core type: Literal\n",
       "    sub-expressions: \n",
       "28. (0, n)\n",
       "    core type: ExprTuple\n",
       "    sub-expressions: 31, 36\n",
       "29. Exp\n",
       "    core type: Literal\n",
       "    sub-expressions: \n",
       "30. (x, n + 1)\n",
       "    core type: ExprTuple\n",
       "    sub-expressions: 32, 33\n",
       "31. 0\n",
       "    core type: Literal\n",
       "    sub-expressions: \n",
       "32. x\n",
       "    core type: Variable\n",
       "    sub-expressions: \n",
       "33. n + 1\n",
       "    core type: Operation\n",
       "    operator: 34\n",
       "    operands: 35\n",
       "34. +\n",
       "    core type: Literal\n",
       "    sub-expressions: \n",
       "35. (n, 1)\n",
       "    core type: ExprTuple\n",
       "    sub-expressions: 36, 37\n",
       "36. n\n",
       "    core type: Variable\n",
       "    sub-expressions: \n",
       "37. 1\n",
       "    core type: Literal\n",
       "    sub-expressions: "
      ]
     },
     "metadata": {},
     "output_type": "display_data"
    }
   ],
   "source": [
    "# display the expression information\n",
    "stored_expr.expr_info()"
   ]
  },
  {
   "cell_type": "code",
   "execution_count": null,
   "metadata": {},
   "outputs": [],
   "source": []
  }
 ],
 "metadata": {
  "kernelspec": {
   "display_name": "Python 3",
   "language": "python",
   "name": "python3"
  }
 },
 "nbformat": 4,
 "nbformat_minor": 0
}