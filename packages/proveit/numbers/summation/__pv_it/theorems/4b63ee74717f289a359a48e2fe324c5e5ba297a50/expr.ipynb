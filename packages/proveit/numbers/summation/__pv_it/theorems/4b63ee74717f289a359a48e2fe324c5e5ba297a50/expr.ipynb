{
 "cells": [
  {
   "cell_type": "markdown",
   "metadata": {},
   "source": [
    "Expression of type <a class=\"ProveItLink\" href=\"../../../../../../../doc/html/api/proveit.Lambda.html\">Lambda</a>\n",
    "=======================\n",
    "# from the theory of <a class=\"ProveItLink\" href=\"../../../_theory_nbs_/theory.ipynb\">proveit.numbers.summation</a>"
   ]
  },
  {
   "cell_type": "code",
   "execution_count": 1,
   "metadata": {},
   "outputs": [],
   "source": [
    "import proveit\n",
    "# Automation is not needed when building an expression:\n",
    "proveit.defaults.automation = False # This will speed things up.\n",
    "proveit.defaults.inline_pngs = False # Makes files smaller.\n",
    "%load_expr # Load the stored expression as 'stored_expr'\n",
    "# import Expression classes needed to build the expression\n",
    "from proveit import Conditional, Lambda, fi, i, j, k, x\n",
    "from proveit.logic import And, Equals, InSet\n",
    "from proveit.numbers import Integer, Interval, Mult, Sum"
   ]
  },
  {
   "cell_type": "code",
   "execution_count": 2,
   "metadata": {},
   "outputs": [
    {
     "data": {
      "text/html": [
       "<strong id=\"expr\">expr:</strong> <a class=\"ProveItLink\" href=\"expr.ipynb\"><img src=\"expr.png\" style=\"display:inline;vertical-align:middle;\" /></a><br>"
      ],
      "text/plain": [
       "<IPython.core.display.HTML object>"
      ]
     },
     "metadata": {},
     "output_type": "display_data"
    }
   ],
   "source": [
    "# build up the expression from sub-expressions\n",
    "sub_expr1 = [i]\n",
    "sub_expr2 = Interval(j, k)\n",
    "expr = Lambda([j, k], Conditional(Equals(Sum(index_or_indices = sub_expr1, summand = Mult(x, fi), domain = sub_expr2), Mult(x, Sum(index_or_indices = sub_expr1, summand = fi, domain = sub_expr2))), And(InSet(j, Integer), InSet(k, Integer))))"
   ]
  },
  {
   "cell_type": "code",
   "execution_count": 3,
   "metadata": {},
   "outputs": [
    {
     "name": "stdout",
     "output_type": "stream",
     "text": [
      "Passed sanity check: expr matches stored_expr\n"
     ]
    }
   ],
   "source": [
    "# check that the built expression is the same as the stored expression\n",
    "assert expr == stored_expr\n",
    "assert expr._style_id == stored_expr._style_id\n",
    "print(\"Passed sanity check: expr matches stored_expr\")"
   ]
  },
  {
   "cell_type": "code",
   "execution_count": 4,
   "metadata": {},
   "outputs": [
    {
     "name": "stdout",
     "output_type": "stream",
     "text": [
      "\\left(j, k\\right) \\mapsto \\left\\{\\left(\\sum_{i = j}^{k} \\left(x \\cdot f\\left(i\\right)\\right)\\right) = \\left(x \\cdot \\left(\\sum_{i = j}^{k} f\\left(i\\right)\\right)\\right) \\textrm{ if } j \\in \\mathbb{Z} ,  k \\in \\mathbb{Z}\\right..\n"
     ]
    }
   ],
   "source": [
    "# Show the LaTeX representation of the expression for convenience if you need it.\n",
    "print(stored_expr.latex())"
   ]
  },
  {
   "cell_type": "code",
   "execution_count": 5,
   "metadata": {},
   "outputs": [
    {
     "data": {
      "text/html": [
       "no style options"
      ],
      "text/plain": [
       "no style options"
      ]
     },
     "metadata": {},
     "output_type": "display_data"
    }
   ],
   "source": [
    "stored_expr.style_options()"
   ]
  },
  {
   "cell_type": "code",
   "execution_count": 6,
   "metadata": {},
   "outputs": [
    {
     "data": {
      "text/html": [
       "<table><tr><th>&nbsp;</th><th>core type</th><th>sub-expressions</th><th>expression</th></tr>\n",
       "<tr><td>0</td><td>Lambda</td><td>parameters:&nbsp;37<br>body:&nbsp;1<br></td><td><a class=\"ProveItLink\" href=\"expr.ipynb\"><img src=\"expr.png\" style=\"display:inline;vertical-align:middle;\" /></a></td></tr>\n",
       "<tr><td>1</td><td>Conditional</td><td>value:&nbsp;2<br>condition:&nbsp;3<br></td><td><a class=\"ProveItLink\" href=\"../d4ed835fa30f34016ea766663544f7f66bebe2160/expr.ipynb\"><img src=\"../d4ed835fa30f34016ea766663544f7f66bebe2160/expr.png\" style=\"display:inline;vertical-align:middle;\" /></a></td></tr>\n",
       "<tr><td>2</td><td>Operation</td><td>operator:&nbsp;4<br>operands:&nbsp;5<br></td><td><a class=\"ProveItLink\" href=\"../ebad47df491429f85b1acda043e7c01800658c030/expr.ipynb\"><img src=\"../ebad47df491429f85b1acda043e7c01800658c030/expr.png\" style=\"display:inline;vertical-align:middle;\" /></a></td></tr>\n",
       "<tr><td>3</td><td>Operation</td><td>operator:&nbsp;6<br>operands:&nbsp;7<br></td><td><a class=\"ProveItLink\" href=\"../b0eb2be88a0cc3d1db1c106e0bcf9827501946c30/expr.ipynb\"><img src=\"../b0eb2be88a0cc3d1db1c106e0bcf9827501946c30/expr.png\" style=\"display:inline;vertical-align:middle;\" /></a></td></tr>\n",
       "<tr><td>4</td><td>Literal</td><td></td><td><a class=\"ProveItLink\" href=\"../../../../../logic/equality/__pv_it/common/fb96dc12b2aa8801dda64d0132b396c63d1502bb0/expr.ipynb\"><img src=\"../../../../../logic/equality/__pv_it/common/fb96dc12b2aa8801dda64d0132b396c63d1502bb0/expr.png\" style=\"display:inline;vertical-align:middle;\" /></a></td></tr>\n",
       "<tr><td>5</td><td>ExprTuple</td><td>8, 9</td><td><a class=\"ProveItLink\" href=\"../2768b391c35083fd91e51229d5df5e2de8d20fc20/expr.ipynb\"><img src=\"../2768b391c35083fd91e51229d5df5e2de8d20fc20/expr.png\" style=\"display:inline;vertical-align:middle;\" /></a></td></tr>\n",
       "<tr><td>6</td><td>Literal</td><td></td><td><a class=\"ProveItLink\" href=\"../../../../../logic/booleans/conjunction/__pv_it/common/42118ff318bd65d98b1393f64ce7c2269feef76e0/expr.ipynb\"><img src=\"../../../../../logic/booleans/conjunction/__pv_it/common/42118ff318bd65d98b1393f64ce7c2269feef76e0/expr.png\" style=\"display:inline;vertical-align:middle;\" /></a></td></tr>\n",
       "<tr><td>7</td><td>ExprTuple</td><td>10, 11</td><td><a class=\"ProveItLink\" href=\"../5a81b423228ff594b3fa20c41733ad2c7a567f460/expr.ipynb\"><img src=\"../5a81b423228ff594b3fa20c41733ad2c7a567f460/expr.png\" style=\"display:inline;vertical-align:middle;\" /></a></td></tr>\n",
       "<tr><td>8</td><td>Operation</td><td>operator:&nbsp;20<br>operand:&nbsp;16<br></td><td><a class=\"ProveItLink\" href=\"../07cad2f4a9ef6e228b3bc01e4af924faeb0173010/expr.ipynb\"><img src=\"../07cad2f4a9ef6e228b3bc01e4af924faeb0173010/expr.png\" style=\"display:inline;vertical-align:middle;\" /></a></td></tr>\n",
       "<tr><td>9</td><td>Operation</td><td>operator:&nbsp;24<br>operands:&nbsp;13<br></td><td><a class=\"ProveItLink\" href=\"../85302f6657e9a8a1f1cde664eab662e98bc7e45e0/expr.ipynb\"><img src=\"../85302f6657e9a8a1f1cde664eab662e98bc7e45e0/expr.png\" style=\"display:inline;vertical-align:middle;\" /></a></td></tr>\n",
       "<tr><td>10</td><td>Operation</td><td>operator:&nbsp;32<br>operands:&nbsp;14<br></td><td><a class=\"ProveItLink\" href=\"../3b73368031281d59ff93a70f2b4cba5069515ff80/expr.ipynb\"><img src=\"../3b73368031281d59ff93a70f2b4cba5069515ff80/expr.png\" style=\"display:inline;vertical-align:middle;\" /></a></td></tr>\n",
       "<tr><td>11</td><td>Operation</td><td>operator:&nbsp;32<br>operands:&nbsp;15<br></td><td><a class=\"ProveItLink\" href=\"../53b6b683a0dc02a803e4eae3af6ee6cd1da1ef180/expr.ipynb\"><img src=\"../53b6b683a0dc02a803e4eae3af6ee6cd1da1ef180/expr.png\" style=\"display:inline;vertical-align:middle;\" /></a></td></tr>\n",
       "<tr><td>12</td><td>ExprTuple</td><td>16</td><td><a class=\"ProveItLink\" href=\"../c492c339ac515bbd75207922856bceadca743cc70/expr.ipynb\"><img src=\"../c492c339ac515bbd75207922856bceadca743cc70/expr.png\" style=\"display:inline;vertical-align:middle;\" /></a></td></tr>\n",
       "<tr><td>13</td><td>ExprTuple</td><td>27, 17</td><td><a class=\"ProveItLink\" href=\"../e38a53b200900ccb72893aa7160f81f232ff22090/expr.ipynb\"><img src=\"../e38a53b200900ccb72893aa7160f81f232ff22090/expr.png\" style=\"display:inline;vertical-align:middle;\" /></a></td></tr>\n",
       "<tr><td>14</td><td>ExprTuple</td><td>38, 18</td><td><a class=\"ProveItLink\" href=\"../b837e7b5b741e6b3bc2376025255553857d94ca30/expr.ipynb\"><img src=\"../b837e7b5b741e6b3bc2376025255553857d94ca30/expr.png\" style=\"display:inline;vertical-align:middle;\" /></a></td></tr>\n",
       "<tr><td>15</td><td>ExprTuple</td><td>39, 18</td><td><a class=\"ProveItLink\" href=\"../05b2b0d1028efed2c1aa25e8cd97ac2c0a2b6d240/expr.ipynb\"><img src=\"../05b2b0d1028efed2c1aa25e8cd97ac2c0a2b6d240/expr.png\" style=\"display:inline;vertical-align:middle;\" /></a></td></tr>\n",
       "<tr><td>16</td><td>Lambda</td><td>parameter:&nbsp;34<br>body:&nbsp;19<br></td><td><a class=\"ProveItLink\" href=\"../fe2711d78821ea86526b3d22a6e4e7404b9a87c40/expr.ipynb\"><img src=\"../fe2711d78821ea86526b3d22a6e4e7404b9a87c40/expr.png\" style=\"display:inline;vertical-align:middle;\" /></a></td></tr>\n",
       "<tr><td>17</td><td>Operation</td><td>operator:&nbsp;20<br>operand:&nbsp;23<br></td><td><a class=\"ProveItLink\" href=\"../294ad7b39ae7f9bb2946cf359396a6087856ef000/expr.ipynb\"><img src=\"../294ad7b39ae7f9bb2946cf359396a6087856ef000/expr.png\" style=\"display:inline;vertical-align:middle;\" /></a></td></tr>\n",
       "<tr><td>18</td><td>Literal</td><td></td><td><a class=\"ProveItLink\" href=\"../../../../number_sets/integers/__pv_it/common/e6b4e90f9467053e055a4fd2f735c0bb79cb79300/expr.ipynb\"><img src=\"../../../../number_sets/integers/__pv_it/common/e6b4e90f9467053e055a4fd2f735c0bb79cb79300/expr.png\" style=\"display:inline;vertical-align:middle;\" /></a></td></tr>\n",
       "<tr><td>19</td><td>Conditional</td><td>value:&nbsp;22<br>condition:&nbsp;29<br></td><td><a class=\"ProveItLink\" href=\"../6a7b91c82697cdb256f85a5b40bf2cba24ce1e0b0/expr.ipynb\"><img src=\"../6a7b91c82697cdb256f85a5b40bf2cba24ce1e0b0/expr.png\" style=\"display:inline;vertical-align:middle;\" /></a></td></tr>\n",
       "<tr><td>20</td><td>Literal</td><td></td><td><a class=\"ProveItLink\" href=\"../../common/14fe61cccc388f91dfd83d3ca31cf27448cc070a0/expr.ipynb\"><img src=\"../../common/14fe61cccc388f91dfd83d3ca31cf27448cc070a0/expr.png\" style=\"display:inline;vertical-align:middle;\" /></a></td></tr>\n",
       "<tr><td>21</td><td>ExprTuple</td><td>23</td><td><a class=\"ProveItLink\" href=\"../1a6fbbc1b167dabd2f60e678c397c4ff95cd01a70/expr.ipynb\"><img src=\"../1a6fbbc1b167dabd2f60e678c397c4ff95cd01a70/expr.png\" style=\"display:inline;vertical-align:middle;\" /></a></td></tr>\n",
       "<tr><td>22</td><td>Operation</td><td>operator:&nbsp;24<br>operands:&nbsp;25<br></td><td><a class=\"ProveItLink\" href=\"../78ade0b5df1400557efe16d012441aeb6942e14c0/expr.ipynb\"><img src=\"../78ade0b5df1400557efe16d012441aeb6942e14c0/expr.png\" style=\"display:inline;vertical-align:middle;\" /></a></td></tr>\n",
       "<tr><td>23</td><td>Lambda</td><td>parameter:&nbsp;34<br>body:&nbsp;26<br></td><td><a class=\"ProveItLink\" href=\"../28e85904c76119eba707f325bde5bf82c31263f60/expr.ipynb\"><img src=\"../28e85904c76119eba707f325bde5bf82c31263f60/expr.png\" style=\"display:inline;vertical-align:middle;\" /></a></td></tr>\n",
       "<tr><td>24</td><td>Literal</td><td></td><td><a class=\"ProveItLink\" href=\"../../../../multiplication/__pv_it/common/ed719cef37831779c16481533a4d380a2f95ab270/expr.ipynb\"><img src=\"../../../../multiplication/__pv_it/common/ed719cef37831779c16481533a4d380a2f95ab270/expr.png\" style=\"display:inline;vertical-align:middle;\" /></a></td></tr>\n",
       "<tr><td>25</td><td>ExprTuple</td><td>27, 28</td><td><a class=\"ProveItLink\" href=\"../844c0dc907308a013a6319a2b257d228bf4c809b0/expr.ipynb\"><img src=\"../844c0dc907308a013a6319a2b257d228bf4c809b0/expr.png\" style=\"display:inline;vertical-align:middle;\" /></a></td></tr>\n",
       "<tr><td>26</td><td>Conditional</td><td>value:&nbsp;28<br>condition:&nbsp;29<br></td><td><a class=\"ProveItLink\" href=\"../ca44ec9c444844f5717172ec4aa0bfd68e426dd80/expr.ipynb\"><img src=\"../ca44ec9c444844f5717172ec4aa0bfd68e426dd80/expr.png\" style=\"display:inline;vertical-align:middle;\" /></a></td></tr>\n",
       "<tr><td>27</td><td>Variable</td><td></td><td><a class=\"ProveItLink\" href=\"../../../../../__pv_it/common/a0d9d672aa5e272d907247690c152cc2c6daafb70/expr.ipynb\"><img src=\"../../../../../__pv_it/common/a0d9d672aa5e272d907247690c152cc2c6daafb70/expr.png\" style=\"display:inline;vertical-align:middle;\" /></a></td></tr>\n",
       "<tr><td>28</td><td>Operation</td><td>operator:&nbsp;30<br>operand:&nbsp;34<br></td><td><a class=\"ProveItLink\" href=\"../../../../../core_expr_types/__pv_it/common/47417ab7f1e7f118867e6cd89ca650b18d19923f0/expr.ipynb\"><img src=\"../../../../../core_expr_types/__pv_it/common/47417ab7f1e7f118867e6cd89ca650b18d19923f0/expr.png\" style=\"display:inline;vertical-align:middle;\" /></a></td></tr>\n",
       "<tr><td>29</td><td>Operation</td><td>operator:&nbsp;32<br>operands:&nbsp;33<br></td><td><a class=\"ProveItLink\" href=\"../b46003eff3b3e69b803c0685e24287b75b0f379f0/expr.ipynb\"><img src=\"../b46003eff3b3e69b803c0685e24287b75b0f379f0/expr.png\" style=\"display:inline;vertical-align:middle;\" /></a></td></tr>\n",
       "<tr><td>30</td><td>Variable</td><td></td><td><a class=\"ProveItLink\" href=\"../../../../../__pv_it/common/01b6dbb444a31fc38af4c2379badef6c75b363710/expr.ipynb\"><img src=\"../../../../../__pv_it/common/01b6dbb444a31fc38af4c2379badef6c75b363710/expr.png\" style=\"display:inline;vertical-align:middle;\" /></a></td></tr>\n",
       "<tr><td>31</td><td>ExprTuple</td><td>34</td><td><a class=\"ProveItLink\" href=\"../../../../../core_expr_types/__pv_it/common/0fc33550aa9740010879fdf30c320b63ba918eff0/expr.ipynb\"><img src=\"../../../../../core_expr_types/__pv_it/common/0fc33550aa9740010879fdf30c320b63ba918eff0/expr.png\" style=\"display:inline;vertical-align:middle;\" /></a></td></tr>\n",
       "<tr><td>32</td><td>Literal</td><td></td><td><a class=\"ProveItLink\" href=\"../../../../../logic/sets/membership/__pv_it/common/477487d8796864d23d5810f83761435f25167f690/expr.ipynb\"><img src=\"../../../../../logic/sets/membership/__pv_it/common/477487d8796864d23d5810f83761435f25167f690/expr.png\" style=\"display:inline;vertical-align:middle;\" /></a></td></tr>\n",
       "<tr><td>33</td><td>ExprTuple</td><td>34, 35</td><td><a class=\"ProveItLink\" href=\"../93bcf45989c2cfbcb086778b312df7a50a431fa00/expr.ipynb\"><img src=\"../93bcf45989c2cfbcb086778b312df7a50a431fa00/expr.png\" style=\"display:inline;vertical-align:middle;\" /></a></td></tr>\n",
       "<tr><td>34</td><td>Variable</td><td></td><td><a class=\"ProveItLink\" href=\"../../../../../__pv_it/common/ae955345c83abf786c3aff8681cd5465beae262d0/expr.ipynb\"><img src=\"../../../../../__pv_it/common/ae955345c83abf786c3aff8681cd5465beae262d0/expr.png\" style=\"display:inline;vertical-align:middle;\" /></a></td></tr>\n",
       "<tr><td>35</td><td>Operation</td><td>operator:&nbsp;36<br>operands:&nbsp;37<br></td><td><a class=\"ProveItLink\" href=\"../08cc612914bc85783c411f566962d3c17fc0cf420/expr.ipynb\"><img src=\"../08cc612914bc85783c411f566962d3c17fc0cf420/expr.png\" style=\"display:inline;vertical-align:middle;\" /></a></td></tr>\n",
       "<tr><td>36</td><td>Literal</td><td></td><td><a class=\"ProveItLink\" href=\"../../../../number_sets/integers/__pv_it/common/92f3a0a77e3c3ea8e4a5c8674edadc54e4f57d550/expr.ipynb\"><img src=\"../../../../number_sets/integers/__pv_it/common/92f3a0a77e3c3ea8e4a5c8674edadc54e4f57d550/expr.png\" style=\"display:inline;vertical-align:middle;\" /></a></td></tr>\n",
       "<tr><td>37</td><td>ExprTuple</td><td>38, 39</td><td><a class=\"ProveItLink\" href=\"../5d5621289915e24a2f6376aefc32142d7a51e9880/expr.ipynb\"><img src=\"../5d5621289915e24a2f6376aefc32142d7a51e9880/expr.png\" style=\"display:inline;vertical-align:middle;\" /></a></td></tr>\n",
       "<tr><td>38</td><td>Variable</td><td></td><td><a class=\"ProveItLink\" href=\"../../../../../__pv_it/common/1ed21df18baca2f42b561a7ffbf30a2743d594650/expr.ipynb\"><img src=\"../../../../../__pv_it/common/1ed21df18baca2f42b561a7ffbf30a2743d594650/expr.png\" style=\"display:inline;vertical-align:middle;\" /></a></td></tr>\n",
       "<tr><td>39</td><td>Variable</td><td></td><td><a class=\"ProveItLink\" href=\"../../../../../__pv_it/common/63b7c64bf9ec7a04ecc396c7a1670f3f12fb59490/expr.ipynb\"><img src=\"../../../../../__pv_it/common/63b7c64bf9ec7a04ecc396c7a1670f3f12fb59490/expr.png\" style=\"display:inline;vertical-align:middle;\" /></a></td></tr>\n",
       "</table>\n"
      ],
      "text/plain": [
       "0. (j, k) -> {(Sum_{i = j}^{k} (x * f(i))) = (x * (Sum_{i = j}^{k} f(i))) if j in Integer ,  k in Integer.\n",
       "   core type: Lambda\n",
       "   parameters: 37\\n   body: 1\n",
       "1. {(Sum_{i = j}^{k} (x * f(i))) = (x * (Sum_{i = j}^{k} f(i))) if j in Integer ,  k in Integer.\n",
       "   core type: Conditional\n",
       "   value: 2\n",
       "   condition: 3\n",
       "2. (Sum_{i = j}^{k} (x * f(i))) = (x * (Sum_{i = j}^{k} f(i)))\n",
       "   core type: Operation\n",
       "   operator: 4\n",
       "   operands: 5\n",
       "3. (j in Integer) and (k in Integer)\n",
       "   core type: Operation\n",
       "   operator: 6\n",
       "   operands: 7\n",
       "4. =\n",
       "   core type: Literal\n",
       "   sub-expressions: \n",
       "5. (Sum_{i = j}^{k} (x * f(i)), x * (Sum_{i = j}^{k} f(i)))\n",
       "   core type: ExprTuple\n",
       "   sub-expressions: 8, 9\n",
       "6. and\n",
       "   core type: Literal\n",
       "   sub-expressions: \n",
       "7. (j in Integer, k in Integer)\n",
       "   core type: ExprTuple\n",
       "   sub-expressions: 10, 11\n",
       "8. Sum_{i = j}^{k} (x * f(i))\n",
       "   core type: Operation\n",
       "   operator: 20\n",
       "   operand: 16\n",
       "9. x * (Sum_{i = j}^{k} f(i))\n",
       "   core type: Operation\n",
       "   operator: 24\n",
       "   operands: 13\n",
       "10. j in Integer\n",
       "    core type: Operation\n",
       "    operator: 32\n",
       "    operands: 14\n",
       "11. k in Integer\n",
       "    core type: Operation\n",
       "    operator: 32\n",
       "    operands: 15\n",
       "12. (i -> {x * f(i) if i in {j .. k}.)\n",
       "    core type: ExprTuple\n",
       "    sub-expressions: 16\n",
       "13. (x, Sum_{i = j}^{k} f(i))\n",
       "    core type: ExprTuple\n",
       "    sub-expressions: 27, 17\n",
       "14. (j, Integer)\n",
       "    core type: ExprTuple\n",
       "    sub-expressions: 38, 18\n",
       "15. (k, Integer)\n",
       "    core type: ExprTuple\n",
       "    sub-expressions: 39, 18\n",
       "16. i -> {x * f(i) if i in {j .. k}.\n",
       "    core type: Lambda\n",
       "    parameter: 34\n",
       "    body: 19\n",
       "17. Sum_{i = j}^{k} f(i)\n",
       "    core type: Operation\n",
       "    operator: 20\n",
       "    operand: 23\n",
       "18. Integer\n",
       "    core type: Literal\n",
       "    sub-expressions: \n",
       "19. {x * f(i) if i in {j .. k}.\n",
       "    core type: Conditional\n",
       "    value: 22\n",
       "    condition: 29\n",
       "20. Sum\n",
       "    core type: Literal\n",
       "    sub-expressions: \n",
       "21. (i -> {f(i) if i in {j .. k}.)\n",
       "    core type: ExprTuple\n",
       "    sub-expressions: 23\n",
       "22. x * f(i)\n",
       "    core type: Operation\n",
       "    operator: 24\n",
       "    operands: 25\n",
       "23. i -> {f(i) if i in {j .. k}.\n",
       "    core type: Lambda\n",
       "    parameter: 34\n",
       "    body: 26\n",
       "24. *\n",
       "    core type: Literal\n",
       "    sub-expressions: \n",
       "25. (x, f(i))\n",
       "    core type: ExprTuple\n",
       "    sub-expressions: 27, 28\n",
       "26. {f(i) if i in {j .. k}.\n",
       "    core type: Conditional\n",
       "    value: 28\n",
       "    condition: 29\n",
       "27. x\n",
       "    core type: Variable\n",
       "    sub-expressions: \n",
       "28. f(i)\n",
       "    core type: Operation\n",
       "    operator: 30\n",
       "    operand: 34\n",
       "29. i in {j .. k}\n",
       "    core type: Operation\n",
       "    operator: 32\n",
       "    operands: 33\n",
       "30. f\n",
       "    core type: Variable\n",
       "    sub-expressions: \n",
       "31. (i)\n",
       "    core type: ExprTuple\n",
       "    sub-expressions: 34\n",
       "32. in\n",
       "    core type: Literal\n",
       "    sub-expressions: \n",
       "33. (i, {j .. k})\n",
       "    core type: ExprTuple\n",
       "    sub-expressions: 34, 35\n",
       "34. i\n",
       "    core type: Variable\n",
       "    sub-expressions: \n",
       "35. {j .. k}\n",
       "    core type: Operation\n",
       "    operator: 36\n",
       "    operands: 37\n",
       "36. Interval\n",
       "    core type: Literal\n",
       "    sub-expressions: \n",
       "37. (j, k)\n",
       "    core type: ExprTuple\n",
       "    sub-expressions: 38, 39\n",
       "38. j\n",
       "    core type: Variable\n",
       "    sub-expressions: \n",
       "39. k\n",
       "    core type: Variable\n",
       "    sub-expressions: "
      ]
     },
     "metadata": {},
     "output_type": "display_data"
    }
   ],
   "source": [
    "# display the expression information\n",
    "stored_expr.expr_info()"
   ]
  },
  {
   "cell_type": "code",
   "execution_count": null,
   "metadata": {},
   "outputs": [],
   "source": []
  }
 ],
 "metadata": {
  "kernelspec": {
   "display_name": "Python 3",
   "language": "python",
   "name": "python3"
  }
 },
 "nbformat": 4,
 "nbformat_minor": 0
}