{
 "cells": [
  {
   "cell_type": "markdown",
   "metadata": {},
   "source": [
    "Theorem Dependencies\n",
    "=======================\n",
    "\n",
    "## <a class=\"ProveItLink\" href=\"../../../_theory_nbs_/theory.ipynb\">proveit.numbers.summation</a>.<a class=\"ProveItLink\" href=\"../../../_theorems_.ipynb#weak_summation_from_summands_bound\">weak_summation_from_summands_bound</a> \n",
    "***see <a class=\"ProveItLink\" href=\"../../../_theory_nbs_/proofs/weak_summation_from_summands_bound/thm_proof.ipynb\">proof</a>***"
   ]
  },
  {
   "cell_type": "code",
   "execution_count": 1,
   "metadata": {},
   "outputs": [],
   "source": [
    "import proveit\n",
    "# Automation is not needed when querying dependencies:\n",
    "proveit.defaults.automation = False # This will speed things up.\n",
    "proveit.defaults.inline_pngs = False # Makes files smaller.\n",
    "from proveit.numbers.summation import weak_summation_from_summands_bound"
   ]
  },
  {
   "cell_type": "code",
   "execution_count": 2,
   "metadata": {},
   "outputs": [
    {
     "data": {
      "text/html": [
       "<h3>Unproven conjectures required (directly or indirectly) to prove weak_summation_from_summands_bound</h3>"
      ],
      "text/plain": [
       "<IPython.core.display.HTML object>"
      ]
     },
     "metadata": {},
     "output_type": "display_data"
    },
    {
     "data": {
      "text/html": [
       "<dl>"
      ],
      "text/plain": [
       "<IPython.core.display.HTML object>"
      ]
     },
     "metadata": {},
     "output_type": "display_data"
    },
    {
     "data": {
      "text/html": [
       "<dt><a class=\"ProveItLink\" href=\"../../../_theory_nbs_/proofs/weak_summation_from_summands_bound/thm_proof.ipynb\">proveit.numbers.summation.weak_summation_from_summands_bound</a></dt><dd><a class=\"ProveItLink\" href=\"../60ea157c525ecba7de199e94b98a02bb5aa9d45e0/expr.ipynb\"><img src=\"../60ea157c525ecba7de199e94b98a02bb5aa9d45e0/expr.png\" style=\"display:inline;vertical-align:middle;\" /></a></dd>"
      ],
      "text/plain": [
       "<IPython.core.display.HTML object>"
      ]
     },
     "metadata": {},
     "output_type": "display_data"
    },
    {
     "data": {
      "text/html": [
       "</dl>"
      ],
      "text/plain": [
       "<IPython.core.display.HTML object>"
      ]
     },
     "metadata": {},
     "output_type": "display_data"
    },
    {
     "data": {
      "text/html": [
       "<h3>Theorems/conjectures that depend directly on weak_summation_from_summands_bound</h3>"
      ],
      "text/plain": [
       "<IPython.core.display.HTML object>"
      ]
     },
     "metadata": {},
     "output_type": "display_data"
    },
    {
     "data": {
      "text/html": [
       "<dl>"
      ],
      "text/plain": [
       "<IPython.core.display.HTML object>"
      ]
     },
     "metadata": {},
     "output_type": "display_data"
    },
    {
     "data": {
      "text/html": [
       "<dt><a class=\"ProveItLink\" href=\"../../../../../physics/quantum/QPE/_theory_nbs_/proofs/_failure_upper_bound/thm_proof.ipynb\">proveit.physics.quantum.QPE._failure_upper_bound</a></dt><dd><a class=\"ProveItLink\" href=\"../../../../../physics/quantum/QPE/__pv_it/theorems/a6157de4c5444c5a5dbbab9b2fcdbe64e328db540/expr.ipynb\"><img src=\"../../../../../physics/quantum/QPE/__pv_it/theorems/a6157de4c5444c5a5dbbab9b2fcdbe64e328db540/expr.png\" style=\"display:inline;vertical-align:middle;\" /></a></dd>"
      ],
      "text/plain": [
       "<IPython.core.display.HTML object>"
      ]
     },
     "metadata": {},
     "output_type": "display_data"
    },
    {
     "data": {
      "text/html": [
       "<dt><a class=\"ProveItLink\" href=\"../../../../../physics/quantum/QPE/_theory_nbs_/proofs/_failure_upper_bound_lemma/thm_proof.ipynb\">proveit.physics.quantum.QPE._failure_upper_bound_lemma</a></dt><dd><a class=\"ProveItLink\" href=\"../../../../../physics/quantum/QPE/__pv_it/theorems/deaded043dfbcaa1fdfb156f013d0f6926d302040/expr.ipynb\"><img src=\"../../../../../physics/quantum/QPE/__pv_it/theorems/deaded043dfbcaa1fdfb156f013d0f6926d302040/expr.png\" style=\"display:inline;vertical-align:middle;\" /></a></dd>"
      ],
      "text/plain": [
       "<IPython.core.display.HTML object>"
      ]
     },
     "metadata": {},
     "output_type": "display_data"
    },
    {
     "data": {
      "text/html": [
       "</dl>"
      ],
      "text/plain": [
       "<IPython.core.display.HTML object>"
      ]
     },
     "metadata": {},
     "output_type": "display_data"
    }
   ],
   "source": [
    "%dependencies weak_summation_from_summands_bound"
   ]
  }
 ],
 "metadata": {
  "kernelspec": {
   "display_name": "Python 3",
   "language": "python",
   "name": "python3"
  }
 },
 "nbformat": 4,
 "nbformat_minor": 0
}