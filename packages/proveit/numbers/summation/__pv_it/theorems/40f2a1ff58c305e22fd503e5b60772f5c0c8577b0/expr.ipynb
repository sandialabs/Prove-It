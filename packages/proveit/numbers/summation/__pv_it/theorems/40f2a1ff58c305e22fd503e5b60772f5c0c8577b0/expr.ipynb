{
 "cells": [
  {
   "cell_type": "markdown",
   "metadata": {},
   "source": [
    "Expression of type <a class=\"ProveItLink\" href=\"../../../../../../../doc/html/api/proveit.numbers.Sum.html\">Sum</a>\n",
    "=======================\n",
    "# from the theory of <a class=\"ProveItLink\" href=\"../../../_theory_nbs_/theory.ipynb\">proveit.numbers.summation</a>"
   ]
  },
  {
   "cell_type": "code",
   "execution_count": 1,
   "metadata": {},
   "outputs": [],
   "source": [
    "import proveit\n",
    "# Automation is not needed when building an expression:\n",
    "proveit.defaults.automation = False # This will speed things up.\n",
    "proveit.defaults.inline_pngs = False # Makes files smaller.\n",
    "%load_expr # Load the stored expression as 'stored_expr'\n",
    "# import Expression classes needed to build the expression\n",
    "from proveit import c, d, fj, gj, j, x\n",
    "from proveit.numbers import Interval, Mult, Sum"
   ]
  },
  {
   "cell_type": "code",
   "execution_count": 2,
   "metadata": {},
   "outputs": [
    {
     "data": {
      "text/html": [
       "<strong id=\"expr\">expr:</strong> <a class=\"ProveItLink\" href=\"expr.ipynb\"><img src=\"expr.png\" style=\"display:inline;vertical-align:middle;\" /></a><br>"
      ],
      "text/plain": [
       "<IPython.core.display.HTML object>"
      ]
     },
     "metadata": {},
     "output_type": "display_data"
    }
   ],
   "source": [
    "# build up the expression from sub-expressions\n",
    "expr = Sum(index_or_indices = [j], summand = Mult(Mult(x, gj), fj), domain = Interval(c, d))"
   ]
  },
  {
   "cell_type": "code",
   "execution_count": 3,
   "metadata": {},
   "outputs": [
    {
     "name": "stdout",
     "output_type": "stream",
     "text": [
      "Passed sanity check: expr matches stored_expr\n"
     ]
    }
   ],
   "source": [
    "# check that the built expression is the same as the stored expression\n",
    "assert expr == stored_expr\n",
    "assert expr._style_id == stored_expr._style_id\n",
    "print(\"Passed sanity check: expr matches stored_expr\")"
   ]
  },
  {
   "cell_type": "code",
   "execution_count": 4,
   "metadata": {},
   "outputs": [
    {
     "name": "stdout",
     "output_type": "stream",
     "text": [
      "\\sum_{j = c}^{d} \\left(\\left(x \\cdot g\\left(j\\right)\\right) \\cdot f\\left(j\\right)\\right)\n"
     ]
    }
   ],
   "source": [
    "# Show the LaTeX representation of the expression for convenience if you need it.\n",
    "print(stored_expr.latex())"
   ]
  },
  {
   "cell_type": "code",
   "execution_count": 5,
   "metadata": {},
   "outputs": [
    {
     "data": {
      "text/html": [
       "<table>\n",
       "<tr><th>name</th><th>description</th><th>default</th><th>current value</th><th>related methods</th></tr><tr><td>with_wrapping</td><td>If 'True', wrap the Expression after the parameters</td><td>None</td><td>None/False</td><td>('with_wrapping',)</td></tr>\n",
       "<tr><td>condition_wrapping</td><td>Wrap 'before' or 'after' the condition (or None).</td><td>None</td><td>None/False</td><td>('with_wrap_after_condition', 'with_wrap_before_condition')</td></tr>\n",
       "<tr><td>wrap_params</td><td>If 'True', wraps every two parameters AND wraps the Expression after the parameters</td><td>None</td><td>None/False</td><td>('with_params',)</td></tr>\n",
       "<tr><td>justification</td><td>justify to the 'left', 'center', or 'right' in the array cells</td><td>center</td><td>center</td><td>('with_justification',)</td></tr>\n",
       "</table>\n"
      ],
      "text/plain": [
       "style name: with_wrapping\n",
       "description: If 'True', wrap the Expression after the parameters\n",
       "default: None\n",
       "current value: None/False\n",
       "related methods: ('with_wrapping',)\n",
       "style name: condition_wrapping\n",
       "description: Wrap 'before' or 'after' the condition (or None).\n",
       "default: None\n",
       "current value: None/False\n",
       "related methods: ('with_wrap_after_condition', 'with_wrap_before_condition')\n",
       "style name: wrap_params\n",
       "description: If 'True', wraps every two parameters AND wraps the Expression after the parameters\n",
       "default: None\n",
       "current value: None/False\n",
       "related methods: ('with_params',)\n",
       "style name: justification\n",
       "description: justify to the 'left', 'center', or 'right' in the array cells\n",
       "default: center\n",
       "current value: center\n",
       "related methods: ('with_justification',)"
      ]
     },
     "metadata": {},
     "output_type": "display_data"
    }
   ],
   "source": [
    "stored_expr.style_options()"
   ]
  },
  {
   "cell_type": "code",
   "execution_count": 6,
   "metadata": {},
   "outputs": [
    {
     "data": {
      "text/html": [
       "<table><tr><th>&nbsp;</th><th>core type</th><th>sub-expressions</th><th>expression</th></tr>\n",
       "<tr><td>0</td><td>Operation</td><td>operator:&nbsp;1<br>operand:&nbsp;3<br></td><td><a class=\"ProveItLink\" href=\"expr.ipynb\"><img src=\"expr.png\" style=\"display:inline;vertical-align:middle;\" /></a></td></tr>\n",
       "<tr><td>1</td><td>Literal</td><td></td><td><a class=\"ProveItLink\" href=\"../../common/14fe61cccc388f91dfd83d3ca31cf27448cc070a0/expr.ipynb\"><img src=\"../../common/14fe61cccc388f91dfd83d3ca31cf27448cc070a0/expr.png\" style=\"display:inline;vertical-align:middle;\" /></a></td></tr>\n",
       "<tr><td>2</td><td>ExprTuple</td><td>3</td><td><a class=\"ProveItLink\" href=\"../8ba48450b1bd0d3c98b4624740c903ac157d4f170/expr.ipynb\"><img src=\"../8ba48450b1bd0d3c98b4624740c903ac157d4f170/expr.png\" style=\"display:inline;vertical-align:middle;\" /></a></td></tr>\n",
       "<tr><td>3</td><td>Lambda</td><td>parameter:&nbsp;24<br>body:&nbsp;4<br></td><td><a class=\"ProveItLink\" href=\"../7e61de0e12b18501c0189903a6cc5771224b02910/expr.ipynb\"><img src=\"../7e61de0e12b18501c0189903a6cc5771224b02910/expr.png\" style=\"display:inline;vertical-align:middle;\" /></a></td></tr>\n",
       "<tr><td>4</td><td>Conditional</td><td>value:&nbsp;5<br>condition:&nbsp;6<br></td><td><a class=\"ProveItLink\" href=\"../fc6c5f88a9d8746eb2e34e5f8794075e323fdcdd0/expr.ipynb\"><img src=\"../fc6c5f88a9d8746eb2e34e5f8794075e323fdcdd0/expr.png\" style=\"display:inline;vertical-align:middle;\" /></a></td></tr>\n",
       "<tr><td>5</td><td>Operation</td><td>operator:&nbsp;13<br>operands:&nbsp;7<br></td><td><a class=\"ProveItLink\" href=\"../63d82b8eab5c21a93865093efbc5054d671d20620/expr.ipynb\"><img src=\"../63d82b8eab5c21a93865093efbc5054d671d20620/expr.png\" style=\"display:inline;vertical-align:middle;\" /></a></td></tr>\n",
       "<tr><td>6</td><td>Operation</td><td>operator:&nbsp;8<br>operands:&nbsp;9<br></td><td><a class=\"ProveItLink\" href=\"../33027a12dfdf9a954fb575969c4f523c5e4002070/expr.ipynb\"><img src=\"../33027a12dfdf9a954fb575969c4f523c5e4002070/expr.png\" style=\"display:inline;vertical-align:middle;\" /></a></td></tr>\n",
       "<tr><td>7</td><td>ExprTuple</td><td>10, 11</td><td><a class=\"ProveItLink\" href=\"../fe308f163dcd09760b607a47bc68d49ec2e7f4210/expr.ipynb\"><img src=\"../fe308f163dcd09760b607a47bc68d49ec2e7f4210/expr.png\" style=\"display:inline;vertical-align:middle;\" /></a></td></tr>\n",
       "<tr><td>8</td><td>Literal</td><td></td><td><a class=\"ProveItLink\" href=\"../../../../../logic/sets/membership/__pv_it/common/477487d8796864d23d5810f83761435f25167f690/expr.ipynb\"><img src=\"../../../../../logic/sets/membership/__pv_it/common/477487d8796864d23d5810f83761435f25167f690/expr.png\" style=\"display:inline;vertical-align:middle;\" /></a></td></tr>\n",
       "<tr><td>9</td><td>ExprTuple</td><td>24, 12</td><td><a class=\"ProveItLink\" href=\"../f2146107b563a9cf0a8edb646ddd710cbc0da5940/expr.ipynb\"><img src=\"../f2146107b563a9cf0a8edb646ddd710cbc0da5940/expr.png\" style=\"display:inline;vertical-align:middle;\" /></a></td></tr>\n",
       "<tr><td>10</td><td>Operation</td><td>operator:&nbsp;13<br>operands:&nbsp;14<br></td><td><a class=\"ProveItLink\" href=\"../25201ef9572812600268899d8a1092b0c1a566b60/expr.ipynb\"><img src=\"../25201ef9572812600268899d8a1092b0c1a566b60/expr.png\" style=\"display:inline;vertical-align:middle;\" /></a></td></tr>\n",
       "<tr><td>11</td><td>Operation</td><td>operator:&nbsp;15<br>operand:&nbsp;24<br></td><td><a class=\"ProveItLink\" href=\"../../../../../core_expr_types/__pv_it/common/c0fa75ff73ad8460566542ebda2b9c56866f27420/expr.ipynb\"><img src=\"../../../../../core_expr_types/__pv_it/common/c0fa75ff73ad8460566542ebda2b9c56866f27420/expr.png\" style=\"display:inline;vertical-align:middle;\" /></a></td></tr>\n",
       "<tr><td>12</td><td>Operation</td><td>operator:&nbsp;16<br>operands:&nbsp;17<br></td><td><a class=\"ProveItLink\" href=\"../a3e50ebffd8befaf406a2708d3d31a8599f807020/expr.ipynb\"><img src=\"../a3e50ebffd8befaf406a2708d3d31a8599f807020/expr.png\" style=\"display:inline;vertical-align:middle;\" /></a></td></tr>\n",
       "<tr><td>13</td><td>Literal</td><td></td><td><a class=\"ProveItLink\" href=\"../../../../multiplication/__pv_it/common/ed719cef37831779c16481533a4d380a2f95ab270/expr.ipynb\"><img src=\"../../../../multiplication/__pv_it/common/ed719cef37831779c16481533a4d380a2f95ab270/expr.png\" style=\"display:inline;vertical-align:middle;\" /></a></td></tr>\n",
       "<tr><td>14</td><td>ExprTuple</td><td>18, 19</td><td><a class=\"ProveItLink\" href=\"../cec4d6698cda50af37176403fd9b22a1068201260/expr.ipynb\"><img src=\"../cec4d6698cda50af37176403fd9b22a1068201260/expr.png\" style=\"display:inline;vertical-align:middle;\" /></a></td></tr>\n",
       "<tr><td>15</td><td>Variable</td><td></td><td><a class=\"ProveItLink\" href=\"../../../../../__pv_it/common/01b6dbb444a31fc38af4c2379badef6c75b363710/expr.ipynb\"><img src=\"../../../../../__pv_it/common/01b6dbb444a31fc38af4c2379badef6c75b363710/expr.png\" style=\"display:inline;vertical-align:middle;\" /></a></td></tr>\n",
       "<tr><td>16</td><td>Literal</td><td></td><td><a class=\"ProveItLink\" href=\"../../../../number_sets/integers/__pv_it/common/92f3a0a77e3c3ea8e4a5c8674edadc54e4f57d550/expr.ipynb\"><img src=\"../../../../number_sets/integers/__pv_it/common/92f3a0a77e3c3ea8e4a5c8674edadc54e4f57d550/expr.png\" style=\"display:inline;vertical-align:middle;\" /></a></td></tr>\n",
       "<tr><td>17</td><td>ExprTuple</td><td>20, 21</td><td><a class=\"ProveItLink\" href=\"../f336fa46d73583f2c4c9aeb5e26e359cc42790830/expr.ipynb\"><img src=\"../f336fa46d73583f2c4c9aeb5e26e359cc42790830/expr.png\" style=\"display:inline;vertical-align:middle;\" /></a></td></tr>\n",
       "<tr><td>18</td><td>Variable</td><td></td><td><a class=\"ProveItLink\" href=\"../../../../../__pv_it/common/a0d9d672aa5e272d907247690c152cc2c6daafb70/expr.ipynb\"><img src=\"../../../../../__pv_it/common/a0d9d672aa5e272d907247690c152cc2c6daafb70/expr.png\" style=\"display:inline;vertical-align:middle;\" /></a></td></tr>\n",
       "<tr><td>19</td><td>Operation</td><td>operator:&nbsp;22<br>operand:&nbsp;24<br></td><td><a class=\"ProveItLink\" href=\"../../../../../core_expr_types/__pv_it/common/561dc0bafcb3791c79f0e6c429c4b743f78a81300/expr.ipynb\"><img src=\"../../../../../core_expr_types/__pv_it/common/561dc0bafcb3791c79f0e6c429c4b743f78a81300/expr.png\" style=\"display:inline;vertical-align:middle;\" /></a></td></tr>\n",
       "<tr><td>20</td><td>Variable</td><td></td><td><a class=\"ProveItLink\" href=\"../../../../../__pv_it/common/ceef4280a2f1cc604b455b54e735507244cc62cd0/expr.ipynb\"><img src=\"../../../../../__pv_it/common/ceef4280a2f1cc604b455b54e735507244cc62cd0/expr.png\" style=\"display:inline;vertical-align:middle;\" /></a></td></tr>\n",
       "<tr><td>21</td><td>Variable</td><td></td><td><a class=\"ProveItLink\" href=\"../../../../../__pv_it/common/4f5c524ffda87296de1c79b96880123fe2efedd50/expr.ipynb\"><img src=\"../../../../../__pv_it/common/4f5c524ffda87296de1c79b96880123fe2efedd50/expr.png\" style=\"display:inline;vertical-align:middle;\" /></a></td></tr>\n",
       "<tr><td>22</td><td>Variable</td><td></td><td><a class=\"ProveItLink\" href=\"../../../../../__pv_it/common/96ac097ea7ee432328a5e933062d0ef407701bf40/expr.ipynb\"><img src=\"../../../../../__pv_it/common/96ac097ea7ee432328a5e933062d0ef407701bf40/expr.png\" style=\"display:inline;vertical-align:middle;\" /></a></td></tr>\n",
       "<tr><td>23</td><td>ExprTuple</td><td>24</td><td><a class=\"ProveItLink\" href=\"../../../../../core_expr_types/__pv_it/common/e53e75ee8364373a10f420a7f9184b4cb67637be0/expr.ipynb\"><img src=\"../../../../../core_expr_types/__pv_it/common/e53e75ee8364373a10f420a7f9184b4cb67637be0/expr.png\" style=\"display:inline;vertical-align:middle;\" /></a></td></tr>\n",
       "<tr><td>24</td><td>Variable</td><td></td><td><a class=\"ProveItLink\" href=\"../../../../../__pv_it/common/1ed21df18baca2f42b561a7ffbf30a2743d594650/expr.ipynb\"><img src=\"../../../../../__pv_it/common/1ed21df18baca2f42b561a7ffbf30a2743d594650/expr.png\" style=\"display:inline;vertical-align:middle;\" /></a></td></tr>\n",
       "</table>\n"
      ],
      "text/plain": [
       "0. Sum_{j = c}^{d} ((x * g(j)) * f(j))\n",
       "   core type: Operation\n",
       "   operator: 1\n",
       "   operand: 3\n",
       "1. Sum\n",
       "   core type: Literal\n",
       "   sub-expressions: \n",
       "2. (j -> {(x * g(j)) * f(j) if j in {c .. d}.)\n",
       "   core type: ExprTuple\n",
       "   sub-expressions: 3\n",
       "3. j -> {(x * g(j)) * f(j) if j in {c .. d}.\n",
       "   core type: Lambda\n",
       "   parameter: 24\n",
       "   body: 4\n",
       "4. {(x * g(j)) * f(j) if j in {c .. d}.\n",
       "   core type: Conditional\n",
       "   value: 5\n",
       "   condition: 6\n",
       "5. (x * g(j)) * f(j)\n",
       "   core type: Operation\n",
       "   operator: 13\n",
       "   operands: 7\n",
       "6. j in {c .. d}\n",
       "   core type: Operation\n",
       "   operator: 8\n",
       "   operands: 9\n",
       "7. (x * g(j), f(j))\n",
       "   core type: ExprTuple\n",
       "   sub-expressions: 10, 11\n",
       "8. in\n",
       "   core type: Literal\n",
       "   sub-expressions: \n",
       "9. (j, {c .. d})\n",
       "   core type: ExprTuple\n",
       "   sub-expressions: 24, 12\n",
       "10. x * g(j)\n",
       "    core type: Operation\n",
       "    operator: 13\n",
       "    operands: 14\n",
       "11. f(j)\n",
       "    core type: Operation\n",
       "    operator: 15\n",
       "    operand: 24\n",
       "12. {c .. d}\n",
       "    core type: Operation\n",
       "    operator: 16\n",
       "    operands: 17\n",
       "13. *\n",
       "    core type: Literal\n",
       "    sub-expressions: \n",
       "14. (x, g(j))\n",
       "    core type: ExprTuple\n",
       "    sub-expressions: 18, 19\n",
       "15. f\n",
       "    core type: Variable\n",
       "    sub-expressions: \n",
       "16. Interval\n",
       "    core type: Literal\n",
       "    sub-expressions: \n",
       "17. (c, d)\n",
       "    core type: ExprTuple\n",
       "    sub-expressions: 20, 21\n",
       "18. x\n",
       "    core type: Variable\n",
       "    sub-expressions: \n",
       "19. g(j)\n",
       "    core type: Operation\n",
       "    operator: 22\n",
       "    operand: 24\n",
       "20. c\n",
       "    core type: Variable\n",
       "    sub-expressions: \n",
       "21. d\n",
       "    core type: Variable\n",
       "    sub-expressions: \n",
       "22. g\n",
       "    core type: Variable\n",
       "    sub-expressions: \n",
       "23. (j)\n",
       "    core type: ExprTuple\n",
       "    sub-expressions: 24\n",
       "24. j\n",
       "    core type: Variable\n",
       "    sub-expressions: "
      ]
     },
     "metadata": {},
     "output_type": "display_data"
    }
   ],
   "source": [
    "# display the expression information\n",
    "stored_expr.expr_info()"
   ]
  },
  {
   "cell_type": "code",
   "execution_count": null,
   "metadata": {},
   "outputs": [],
   "source": []
  }
 ],
 "metadata": {
  "kernelspec": {
   "display_name": "Python 3",
   "language": "python",
   "name": "python3"
  }
 },
 "nbformat": 4,
 "nbformat_minor": 0
}