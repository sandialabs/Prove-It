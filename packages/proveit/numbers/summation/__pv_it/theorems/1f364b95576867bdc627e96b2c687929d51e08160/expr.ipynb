{
 "cells": [
  {
   "cell_type": "markdown",
   "metadata": {},
   "source": [
    "Expression of type <a class=\"ProveItLink\" href=\"../../../../../../../doc/html/api/proveit.ExprTuple.html\">ExprTuple</a>\n",
    "=======================\n",
    "# from the theory of <a class=\"ProveItLink\" href=\"../../../_theory_nbs_/theory.ipynb\">proveit.numbers.summation</a>"
   ]
  },
  {
   "cell_type": "code",
   "execution_count": 1,
   "metadata": {},
   "outputs": [],
   "source": [
    "import proveit\n",
    "# Automation is not needed when building an expression:\n",
    "proveit.defaults.automation = False # This will speed things up.\n",
    "proveit.defaults.inline_pngs = False # Makes files smaller.\n",
    "%load_expr # Load the stored expression as 'stored_expr'\n",
    "# import Expression classes needed to build the expression\n",
    "from proveit import ExprTuple, Lambda, Q, Qx, f, fx, x\n",
    "from proveit.logic import Forall, Implies, InSet\n",
    "from proveit.numbers import NaturalPos, Sum"
   ]
  },
  {
   "cell_type": "code",
   "execution_count": 2,
   "metadata": {},
   "outputs": [
    {
     "data": {
      "text/html": [
       "<strong id=\"expr\">expr:</strong> <a class=\"ProveItLink\" href=\"expr.ipynb\"><img src=\"expr.png\" style=\"display:inline;vertical-align:middle;\" /></a><br>"
      ],
      "text/plain": [
       "<IPython.core.display.HTML object>"
      ]
     },
     "metadata": {},
     "output_type": "display_data"
    }
   ],
   "source": [
    "# build up the expression from sub-expressions\n",
    "sub_expr1 = [x]\n",
    "expr = ExprTuple(Lambda([f, Q], Implies(Forall(instance_param_or_params = sub_expr1, instance_expr = InSet(fx, NaturalPos), condition = Qx), InSet(Sum(index_or_indices = sub_expr1, summand = fx, condition = Qx), NaturalPos))))"
   ]
  },
  {
   "cell_type": "code",
   "execution_count": 3,
   "metadata": {},
   "outputs": [
    {
     "name": "stdout",
     "output_type": "stream",
     "text": [
      "Passed sanity check: expr matches stored_expr\n"
     ]
    }
   ],
   "source": [
    "# check that the built expression is the same as the stored expression\n",
    "assert expr == stored_expr\n",
    "assert expr._style_id == stored_expr._style_id\n",
    "print(\"Passed sanity check: expr matches stored_expr\")"
   ]
  },
  {
   "cell_type": "code",
   "execution_count": 4,
   "metadata": {},
   "outputs": [
    {
     "name": "stdout",
     "output_type": "stream",
     "text": [
      "\\left(\\left(f, Q\\right) \\mapsto \\left(\\left[\\forall_{x~|~Q\\left(x\\right)}~\\left(f\\left(x\\right) \\in \\mathbb{N}^+\\right)\\right] \\Rightarrow \\left(\\left[\\sum_{x~|~Q\\left(x\\right)}~f\\left(x\\right)\\right] \\in \\mathbb{N}^+\\right)\\right)\\right)\n"
     ]
    }
   ],
   "source": [
    "# Show the LaTeX representation of the expression for convenience if you need it.\n",
    "print(stored_expr.latex())"
   ]
  },
  {
   "cell_type": "code",
   "execution_count": 5,
   "metadata": {},
   "outputs": [
    {
     "data": {
      "text/html": [
       "no style options"
      ],
      "text/plain": [
       "no style options"
      ]
     },
     "metadata": {},
     "output_type": "display_data"
    }
   ],
   "source": [
    "stored_expr.style_options()"
   ]
  },
  {
   "cell_type": "code",
   "execution_count": 6,
   "metadata": {},
   "outputs": [
    {
     "data": {
      "text/html": [
       "<table><tr><th>&nbsp;</th><th>core type</th><th>sub-expressions</th><th>expression</th></tr>\n",
       "<tr><td>0</td><td>ExprTuple</td><td>1</td><td><a class=\"ProveItLink\" href=\"expr.ipynb\"><img src=\"expr.png\" style=\"display:inline;vertical-align:middle;\" /></a></td></tr>\n",
       "<tr><td>1</td><td>Lambda</td><td>parameters:&nbsp;2<br>body:&nbsp;3<br></td><td><a class=\"ProveItLink\" href=\"../8a1eb146aaf6fe1c7a2f36ef769dba0ebc0285f60/expr.ipynb\"><img src=\"../8a1eb146aaf6fe1c7a2f36ef769dba0ebc0285f60/expr.png\" style=\"display:inline;vertical-align:middle;\" /></a></td></tr>\n",
       "<tr><td>2</td><td>ExprTuple</td><td>24, 25</td><td><a class=\"ProveItLink\" href=\"../42ffd7119124539dcdb26e42caccd5f59f0381a30/expr.ipynb\"><img src=\"../42ffd7119124539dcdb26e42caccd5f59f0381a30/expr.png\" style=\"display:inline;vertical-align:middle;\" /></a></td></tr>\n",
       "<tr><td>3</td><td>Operation</td><td>operator:&nbsp;4<br>operands:&nbsp;5<br></td><td><a class=\"ProveItLink\" href=\"../cc3e5ce7df8c01722df6d54418ea82bb226cc3a60/expr.ipynb\"><img src=\"../cc3e5ce7df8c01722df6d54418ea82bb226cc3a60/expr.png\" style=\"display:inline;vertical-align:middle;\" /></a></td></tr>\n",
       "<tr><td>4</td><td>Literal</td><td></td><td><a class=\"ProveItLink\" href=\"../../../../../logic/booleans/implication/__pv_it/common/02bdb382575728da8cdbaed545b9096ea7a1bd5b0/expr.ipynb\"><img src=\"../../../../../logic/booleans/implication/__pv_it/common/02bdb382575728da8cdbaed545b9096ea7a1bd5b0/expr.png\" style=\"display:inline;vertical-align:middle;\" /></a></td></tr>\n",
       "<tr><td>5</td><td>ExprTuple</td><td>6, 7</td><td><a class=\"ProveItLink\" href=\"../1a820944964d65cabdb18cdb45ad9c797af37a220/expr.ipynb\"><img src=\"../1a820944964d65cabdb18cdb45ad9c797af37a220/expr.png\" style=\"display:inline;vertical-align:middle;\" /></a></td></tr>\n",
       "<tr><td>6</td><td>Operation</td><td>operator:&nbsp;8<br>operand:&nbsp;11<br></td><td><a class=\"ProveItLink\" href=\"../7371855bdb4d2893a2cdd47733b51dbd03e1b9580/expr.ipynb\"><img src=\"../7371855bdb4d2893a2cdd47733b51dbd03e1b9580/expr.png\" style=\"display:inline;vertical-align:middle;\" /></a></td></tr>\n",
       "<tr><td>7</td><td>Operation</td><td>operator:&nbsp;18<br>operands:&nbsp;10<br></td><td><a class=\"ProveItLink\" href=\"../245abe16b8eec08778e62510ada1a3579e4487af0/expr.ipynb\"><img src=\"../245abe16b8eec08778e62510ada1a3579e4487af0/expr.png\" style=\"display:inline;vertical-align:middle;\" /></a></td></tr>\n",
       "<tr><td>8</td><td>Literal</td><td></td><td><a class=\"ProveItLink\" href=\"../../../../../logic/booleans/quantification/universality/__pv_it/common/083d2baa0b8ecab1d230f9ec29a15aa1355809fb0/expr.ipynb\"><img src=\"../../../../../logic/booleans/quantification/universality/__pv_it/common/083d2baa0b8ecab1d230f9ec29a15aa1355809fb0/expr.png\" style=\"display:inline;vertical-align:middle;\" /></a></td></tr>\n",
       "<tr><td>9</td><td>ExprTuple</td><td>11</td><td><a class=\"ProveItLink\" href=\"../c4e65d3193f8c51c629c00342adf92a7b38e1d2b0/expr.ipynb\"><img src=\"../c4e65d3193f8c51c629c00342adf92a7b38e1d2b0/expr.png\" style=\"display:inline;vertical-align:middle;\" /></a></td></tr>\n",
       "<tr><td>10</td><td>ExprTuple</td><td>12, 21</td><td><a class=\"ProveItLink\" href=\"../52416c1b1f35ff5122b710bf11ee6ccce9c342c70/expr.ipynb\"><img src=\"../52416c1b1f35ff5122b710bf11ee6ccce9c342c70/expr.png\" style=\"display:inline;vertical-align:middle;\" /></a></td></tr>\n",
       "<tr><td>11</td><td>Lambda</td><td>parameter:&nbsp;27<br>body:&nbsp;13<br></td><td><a class=\"ProveItLink\" href=\"../b0040ac3d9f97c3f447ccf8bfb12d8a64202256b0/expr.ipynb\"><img src=\"../b0040ac3d9f97c3f447ccf8bfb12d8a64202256b0/expr.png\" style=\"display:inline;vertical-align:middle;\" /></a></td></tr>\n",
       "<tr><td>12</td><td>Operation</td><td>operator:&nbsp;14<br>operand:&nbsp;17<br></td><td><a class=\"ProveItLink\" href=\"../74bda79a457c02599140b21413b04ffbdd5e3b220/expr.ipynb\"><img src=\"../74bda79a457c02599140b21413b04ffbdd5e3b220/expr.png\" style=\"display:inline;vertical-align:middle;\" /></a></td></tr>\n",
       "<tr><td>13</td><td>Conditional</td><td>value:&nbsp;16<br>condition:&nbsp;23<br></td><td><a class=\"ProveItLink\" href=\"../1ed824d03307b8b7ce589662ca9e647107a823eb0/expr.ipynb\"><img src=\"../1ed824d03307b8b7ce589662ca9e647107a823eb0/expr.png\" style=\"display:inline;vertical-align:middle;\" /></a></td></tr>\n",
       "<tr><td>14</td><td>Literal</td><td></td><td><a class=\"ProveItLink\" href=\"../../common/14fe61cccc388f91dfd83d3ca31cf27448cc070a0/expr.ipynb\"><img src=\"../../common/14fe61cccc388f91dfd83d3ca31cf27448cc070a0/expr.png\" style=\"display:inline;vertical-align:middle;\" /></a></td></tr>\n",
       "<tr><td>15</td><td>ExprTuple</td><td>17</td><td><a class=\"ProveItLink\" href=\"../f0c6309321086af361b90d2c46bbc722911690a80/expr.ipynb\"><img src=\"../f0c6309321086af361b90d2c46bbc722911690a80/expr.png\" style=\"display:inline;vertical-align:middle;\" /></a></td></tr>\n",
       "<tr><td>16</td><td>Operation</td><td>operator:&nbsp;18<br>operands:&nbsp;19<br></td><td><a class=\"ProveItLink\" href=\"../7e1c67410393b152d8118e889549d3604023f7040/expr.ipynb\"><img src=\"../7e1c67410393b152d8118e889549d3604023f7040/expr.png\" style=\"display:inline;vertical-align:middle;\" /></a></td></tr>\n",
       "<tr><td>17</td><td>Lambda</td><td>parameter:&nbsp;27<br>body:&nbsp;20<br></td><td><a class=\"ProveItLink\" href=\"../de19b6aaba8d18dc71d82a91cc171f0e1ea4699a0/expr.ipynb\"><img src=\"../de19b6aaba8d18dc71d82a91cc171f0e1ea4699a0/expr.png\" style=\"display:inline;vertical-align:middle;\" /></a></td></tr>\n",
       "<tr><td>18</td><td>Literal</td><td></td><td><a class=\"ProveItLink\" href=\"../../../../../logic/sets/membership/__pv_it/common/477487d8796864d23d5810f83761435f25167f690/expr.ipynb\"><img src=\"../../../../../logic/sets/membership/__pv_it/common/477487d8796864d23d5810f83761435f25167f690/expr.png\" style=\"display:inline;vertical-align:middle;\" /></a></td></tr>\n",
       "<tr><td>19</td><td>ExprTuple</td><td>22, 21</td><td><a class=\"ProveItLink\" href=\"../c313c293e60d76cc0d3df75e484dc44b19af24920/expr.ipynb\"><img src=\"../c313c293e60d76cc0d3df75e484dc44b19af24920/expr.png\" style=\"display:inline;vertical-align:middle;\" /></a></td></tr>\n",
       "<tr><td>20</td><td>Conditional</td><td>value:&nbsp;22<br>condition:&nbsp;23<br></td><td><a class=\"ProveItLink\" href=\"../3ed7475509b21b109700db43cebfa4f4c52fd0770/expr.ipynb\"><img src=\"../3ed7475509b21b109700db43cebfa4f4c52fd0770/expr.png\" style=\"display:inline;vertical-align:middle;\" /></a></td></tr>\n",
       "<tr><td>21</td><td>Literal</td><td></td><td><a class=\"ProveItLink\" href=\"../../../../number_sets/natural_numbers/__pv_it/common/6111329435c43892c831c4793de96afbf80bdb3e0/expr.ipynb\"><img src=\"../../../../number_sets/natural_numbers/__pv_it/common/6111329435c43892c831c4793de96afbf80bdb3e0/expr.png\" style=\"display:inline;vertical-align:middle;\" /></a></td></tr>\n",
       "<tr><td>22</td><td>Operation</td><td>operator:&nbsp;24<br>operand:&nbsp;27<br></td><td><a class=\"ProveItLink\" href=\"../../../../../__pv_it/common/6774f61458aed4cc9eb250f92b3634f1d09b19a40/expr.ipynb\"><img src=\"../../../../../__pv_it/common/6774f61458aed4cc9eb250f92b3634f1d09b19a40/expr.png\" style=\"display:inline;vertical-align:middle;\" /></a></td></tr>\n",
       "<tr><td>23</td><td>Operation</td><td>operator:&nbsp;25<br>operand:&nbsp;27<br></td><td><a class=\"ProveItLink\" href=\"../../../../../__pv_it/common/fce49534291e406d3d43684e225f1a2779a61f030/expr.ipynb\"><img src=\"../../../../../__pv_it/common/fce49534291e406d3d43684e225f1a2779a61f030/expr.png\" style=\"display:inline;vertical-align:middle;\" /></a></td></tr>\n",
       "<tr><td>24</td><td>Variable</td><td></td><td><a class=\"ProveItLink\" href=\"../../../../../__pv_it/common/01b6dbb444a31fc38af4c2379badef6c75b363710/expr.ipynb\"><img src=\"../../../../../__pv_it/common/01b6dbb444a31fc38af4c2379badef6c75b363710/expr.png\" style=\"display:inline;vertical-align:middle;\" /></a></td></tr>\n",
       "<tr><td>25</td><td>Variable</td><td></td><td><a class=\"ProveItLink\" href=\"../../../../../__pv_it/common/d72bb8b07403efe79afab564c36a28e21330e5f90/expr.ipynb\"><img src=\"../../../../../__pv_it/common/d72bb8b07403efe79afab564c36a28e21330e5f90/expr.png\" style=\"display:inline;vertical-align:middle;\" /></a></td></tr>\n",
       "<tr><td>26</td><td>ExprTuple</td><td>27</td><td><a class=\"ProveItLink\" href=\"../../../../../__pv_it/common/eacfeccc0521684fcb20fe8f5180ac50fca471f20/expr.ipynb\"><img src=\"../../../../../__pv_it/common/eacfeccc0521684fcb20fe8f5180ac50fca471f20/expr.png\" style=\"display:inline;vertical-align:middle;\" /></a></td></tr>\n",
       "<tr><td>27</td><td>Variable</td><td></td><td><a class=\"ProveItLink\" href=\"../../../../../__pv_it/common/a0d9d672aa5e272d907247690c152cc2c6daafb70/expr.ipynb\"><img src=\"../../../../../__pv_it/common/a0d9d672aa5e272d907247690c152cc2c6daafb70/expr.png\" style=\"display:inline;vertical-align:middle;\" /></a></td></tr>\n",
       "</table>\n"
      ],
      "text/plain": [
       "0. ((f, Q) -> ([forall_{x | Q(x)} (f(x) in NaturalPos)] => ([Sum_{x | Q(x)} f(x)] in NaturalPos)))\n",
       "   core type: ExprTuple\n",
       "   sub-expressions: 1\n",
       "1. (f, Q) -> ([forall_{x | Q(x)} (f(x) in NaturalPos)] => ([Sum_{x | Q(x)} f(x)] in NaturalPos))\n",
       "   core type: Lambda\n",
       "   parameters: 2\\n   body: 3\n",
       "2. (f, Q)\n",
       "   core type: ExprTuple\n",
       "   sub-expressions: 24, 25\n",
       "3. [forall_{x | Q(x)} (f(x) in NaturalPos)] => ([Sum_{x | Q(x)} f(x)] in NaturalPos)\n",
       "   core type: Operation\n",
       "   operator: 4\n",
       "   operands: 5\n",
       "4. =>\n",
       "   core type: Literal\n",
       "   sub-expressions: \n",
       "5. (forall_{x | Q(x)} (f(x) in NaturalPos), [Sum_{x | Q(x)} f(x)] in NaturalPos)\n",
       "   core type: ExprTuple\n",
       "   sub-expressions: 6, 7\n",
       "6. forall_{x | Q(x)} (f(x) in NaturalPos)\n",
       "   core type: Operation\n",
       "   operator: 8\n",
       "   operand: 11\n",
       "7. [Sum_{x | Q(x)} f(x)] in NaturalPos\n",
       "   core type: Operation\n",
       "   operator: 18\n",
       "   operands: 10\n",
       "8. forall\n",
       "   core type: Literal\n",
       "   sub-expressions: \n",
       "9. (x -> {f(x) in NaturalPos if Q(x).)\n",
       "   core type: ExprTuple\n",
       "   sub-expressions: 11\n",
       "10. (Sum_{x | Q(x)} f(x), NaturalPos)\n",
       "    core type: ExprTuple\n",
       "    sub-expressions: 12, 21\n",
       "11. x -> {f(x) in NaturalPos if Q(x).\n",
       "    core type: Lambda\n",
       "    parameter: 27\n",
       "    body: 13\n",
       "12. Sum_{x | Q(x)} f(x)\n",
       "    core type: Operation\n",
       "    operator: 14\n",
       "    operand: 17\n",
       "13. {f(x) in NaturalPos if Q(x).\n",
       "    core type: Conditional\n",
       "    value: 16\n",
       "    condition: 23\n",
       "14. Sum\n",
       "    core type: Literal\n",
       "    sub-expressions: \n",
       "15. (x -> {f(x) if Q(x).)\n",
       "    core type: ExprTuple\n",
       "    sub-expressions: 17\n",
       "16. f(x) in NaturalPos\n",
       "    core type: Operation\n",
       "    operator: 18\n",
       "    operands: 19\n",
       "17. x -> {f(x) if Q(x).\n",
       "    core type: Lambda\n",
       "    parameter: 27\n",
       "    body: 20\n",
       "18. in\n",
       "    core type: Literal\n",
       "    sub-expressions: \n",
       "19. (f(x), NaturalPos)\n",
       "    core type: ExprTuple\n",
       "    sub-expressions: 22, 21\n",
       "20. {f(x) if Q(x).\n",
       "    core type: Conditional\n",
       "    value: 22\n",
       "    condition: 23\n",
       "21. NaturalPos\n",
       "    core type: Literal\n",
       "    sub-expressions: \n",
       "22. f(x)\n",
       "    core type: Operation\n",
       "    operator: 24\n",
       "    operand: 27\n",
       "23. Q(x)\n",
       "    core type: Operation\n",
       "    operator: 25\n",
       "    operand: 27\n",
       "24. f\n",
       "    core type: Variable\n",
       "    sub-expressions: \n",
       "25. Q\n",
       "    core type: Variable\n",
       "    sub-expressions: \n",
       "26. (x)\n",
       "    core type: ExprTuple\n",
       "    sub-expressions: 27\n",
       "27. x\n",
       "    core type: Variable\n",
       "    sub-expressions: "
      ]
     },
     "metadata": {},
     "output_type": "display_data"
    }
   ],
   "source": [
    "# display the expression information\n",
    "stored_expr.expr_info()"
   ]
  },
  {
   "cell_type": "code",
   "execution_count": null,
   "metadata": {},
   "outputs": [],
   "source": []
  }
 ],
 "metadata": {
  "kernelspec": {
   "display_name": "Python 3",
   "language": "python",
   "name": "python3"
  }
 },
 "nbformat": 4,
 "nbformat_minor": 0
}