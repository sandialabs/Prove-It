{
 "cells": [
  {
   "cell_type": "markdown",
   "metadata": {},
   "source": [
    "Theorem <a class=\"ProveItLink\" href=\"../../../_theorems_.ipynb#summation_zero_closure\">summation_zero_closure</a> of type <a class=\"ProveItLink\" href=\"../../../../../../../doc/html/api/proveit.logic.Forall.html\">Forall</a>\n",
    "=======================\n",
    "# from the theory of <a class=\"ProveItLink\" href=\"../../../_theory_nbs_/theory.ipynb\">proveit.numbers.summation</a>\n",
    "*** see <a class=\"ProveItLink\" href=\"dependencies.ipynb\">dependencies</a> ***"
   ]
  },
  {
   "cell_type": "code",
   "execution_count": 1,
   "metadata": {},
   "outputs": [],
   "source": [
    "import proveit\n",
    "# Automation is not needed when only building an expression:\n",
    "proveit.defaults.automation = False # This will speed things up.\n",
    "proveit.defaults.inline_pngs = False # Makes files smaller.\n",
    "%load_theorem_expr # Load the stored theorem expression as 'stored_expr'\n",
    "# import the special expression\n",
    "from proveit.numbers.summation import summation_zero_closure"
   ]
  },
  {
   "cell_type": "code",
   "execution_count": 2,
   "metadata": {},
   "outputs": [
    {
     "name": "stdout",
     "output_type": "stream",
     "text": [
      "Passed sanity check: summation_zero_closure matches stored_expr\n"
     ]
    }
   ],
   "source": [
    "# check that the built expression is the same as the stored expression\n",
    "assert summation_zero_closure.expr == stored_expr\n",
    "assert summation_zero_closure.expr._style_id == stored_expr._style_id\n",
    "print(\"Passed sanity check: summation_zero_closure matches stored_expr\")"
   ]
  },
  {
   "cell_type": "code",
   "execution_count": 3,
   "metadata": {},
   "outputs": [
    {
     "name": "stdout",
     "output_type": "stream",
     "text": [
      "\\forall_{f, Q}~\\left(\\left[\\forall_{x~|~Q\\left(x\\right)}~\\left(f\\left(x\\right) = 0\\right)\\right] \\Rightarrow \\left(\\left[\\sum_{x~|~Q\\left(x\\right)}~f\\left(x\\right)\\right] \\in \\left\\{0\\right\\}\\right)\\right)\n"
     ]
    }
   ],
   "source": [
    "# Show the LaTeX representation of the expression for convenience if you need it.\n",
    "print(stored_expr.latex())"
   ]
  },
  {
   "cell_type": "code",
   "execution_count": 4,
   "metadata": {},
   "outputs": [
    {
     "data": {
      "text/html": [
       "<table>\n",
       "<tr><th>name</th><th>description</th><th>default</th><th>current value</th><th>related methods</th></tr><tr><td>with_wrapping</td><td>If 'True', wrap the Expression after the parameters</td><td>None</td><td>None/False</td><td>('with_wrapping',)</td></tr>\n",
       "<tr><td>condition_wrapping</td><td>Wrap 'before' or 'after' the condition (or None).</td><td>None</td><td>None/False</td><td>('with_wrap_after_condition', 'with_wrap_before_condition')</td></tr>\n",
       "<tr><td>wrap_params</td><td>If 'True', wraps every two parameters AND wraps the Expression after the parameters</td><td>None</td><td>None/False</td><td>('with_params',)</td></tr>\n",
       "<tr><td>justification</td><td>justify to the 'left', 'center', or 'right' in the array cells</td><td>center</td><td>center</td><td>('with_justification',)</td></tr>\n",
       "</table>\n"
      ],
      "text/plain": [
       "style name: with_wrapping\n",
       "description: If 'True', wrap the Expression after the parameters\n",
       "default: None\n",
       "current value: None/False\n",
       "related methods: ('with_wrapping',)\n",
       "style name: condition_wrapping\n",
       "description: Wrap 'before' or 'after' the condition (or None).\n",
       "default: None\n",
       "current value: None/False\n",
       "related methods: ('with_wrap_after_condition', 'with_wrap_before_condition')\n",
       "style name: wrap_params\n",
       "description: If 'True', wraps every two parameters AND wraps the Expression after the parameters\n",
       "default: None\n",
       "current value: None/False\n",
       "related methods: ('with_params',)\n",
       "style name: justification\n",
       "description: justify to the 'left', 'center', or 'right' in the array cells\n",
       "default: center\n",
       "current value: center\n",
       "related methods: ('with_justification',)"
      ]
     },
     "metadata": {},
     "output_type": "display_data"
    }
   ],
   "source": [
    "stored_expr.style_options()"
   ]
  },
  {
   "cell_type": "code",
   "execution_count": 5,
   "metadata": {},
   "outputs": [
    {
     "data": {
      "text/html": [
       "<table><tr><th>&nbsp;</th><th>core type</th><th>sub-expressions</th><th>expression</th></tr>\n",
       "<tr><td>0</td><td>Operation</td><td>operator:&nbsp;9<br>operand:&nbsp;2<br></td><td><a class=\"ProveItLink\" href=\"../3256e5dd47de24b297636654e44d29901b320ab70/expr.ipynb\"><img src=\"../3256e5dd47de24b297636654e44d29901b320ab70/expr.png\" style=\"display:inline;vertical-align:middle;\" /></a></td></tr>\n",
       "<tr><td>1</td><td>ExprTuple</td><td>2</td><td><a class=\"ProveItLink\" href=\"../8c0eb83897a6e17370877104eb6244024fe092990/expr.ipynb\"><img src=\"../8c0eb83897a6e17370877104eb6244024fe092990/expr.png\" style=\"display:inline;vertical-align:middle;\" /></a></td></tr>\n",
       "<tr><td>2</td><td>Lambda</td><td>parameters:&nbsp;3<br>body:&nbsp;4<br></td><td><a class=\"ProveItLink\" href=\"../bac4369874e2387e3eed817209a19fb16a9403c50/expr.ipynb\"><img src=\"../bac4369874e2387e3eed817209a19fb16a9403c50/expr.png\" style=\"display:inline;vertical-align:middle;\" /></a></td></tr>\n",
       "<tr><td>3</td><td>ExprTuple</td><td>29, 30</td><td><a class=\"ProveItLink\" href=\"../42ffd7119124539dcdb26e42caccd5f59f0381a30/expr.ipynb\"><img src=\"../42ffd7119124539dcdb26e42caccd5f59f0381a30/expr.png\" style=\"display:inline;vertical-align:middle;\" /></a></td></tr>\n",
       "<tr><td>4</td><td>Operation</td><td>operator:&nbsp;5<br>operands:&nbsp;6<br></td><td><a class=\"ProveItLink\" href=\"../61a91ab9c3bf5e27ff04023a5c1854f2eded53ea0/expr.ipynb\"><img src=\"../61a91ab9c3bf5e27ff04023a5c1854f2eded53ea0/expr.png\" style=\"display:inline;vertical-align:middle;\" /></a></td></tr>\n",
       "<tr><td>5</td><td>Literal</td><td></td><td><a class=\"ProveItLink\" href=\"../../../../../logic/booleans/implication/__pv_it/common/02bdb382575728da8cdbaed545b9096ea7a1bd5b0/expr.ipynb\"><img src=\"../../../../../logic/booleans/implication/__pv_it/common/02bdb382575728da8cdbaed545b9096ea7a1bd5b0/expr.png\" style=\"display:inline;vertical-align:middle;\" /></a></td></tr>\n",
       "<tr><td>6</td><td>ExprTuple</td><td>7, 8</td><td><a class=\"ProveItLink\" href=\"../91ebc2cbb700c33e2ccc43c270a8d93cf18c3eda0/expr.ipynb\"><img src=\"../91ebc2cbb700c33e2ccc43c270a8d93cf18c3eda0/expr.png\" style=\"display:inline;vertical-align:middle;\" /></a></td></tr>\n",
       "<tr><td>7</td><td>Operation</td><td>operator:&nbsp;9<br>operand:&nbsp;13<br></td><td><a class=\"ProveItLink\" href=\"../2ac45fcfc507ad05cb7df883b7229dc1eccc4dff0/expr.ipynb\"><img src=\"../2ac45fcfc507ad05cb7df883b7229dc1eccc4dff0/expr.png\" style=\"display:inline;vertical-align:middle;\" /></a></td></tr>\n",
       "<tr><td>8</td><td>Operation</td><td>operator:&nbsp;11<br>operands:&nbsp;12<br></td><td><a class=\"ProveItLink\" href=\"../6a1328d7680bdae6035230cba93d3dd806d109600/expr.ipynb\"><img src=\"../6a1328d7680bdae6035230cba93d3dd806d109600/expr.png\" style=\"display:inline;vertical-align:middle;\" /></a></td></tr>\n",
       "<tr><td>9</td><td>Literal</td><td></td><td><a class=\"ProveItLink\" href=\"../../../../../logic/booleans/quantification/universality/__pv_it/common/083d2baa0b8ecab1d230f9ec29a15aa1355809fb0/expr.ipynb\"><img src=\"../../../../../logic/booleans/quantification/universality/__pv_it/common/083d2baa0b8ecab1d230f9ec29a15aa1355809fb0/expr.png\" style=\"display:inline;vertical-align:middle;\" /></a></td></tr>\n",
       "<tr><td>10</td><td>ExprTuple</td><td>13</td><td><a class=\"ProveItLink\" href=\"../c92b72cca4337ae2a0a9d6485781b733e62cee5b0/expr.ipynb\"><img src=\"../c92b72cca4337ae2a0a9d6485781b733e62cee5b0/expr.png\" style=\"display:inline;vertical-align:middle;\" /></a></td></tr>\n",
       "<tr><td>11</td><td>Literal</td><td></td><td><a class=\"ProveItLink\" href=\"../../../../../logic/sets/membership/__pv_it/common/477487d8796864d23d5810f83761435f25167f690/expr.ipynb\"><img src=\"../../../../../logic/sets/membership/__pv_it/common/477487d8796864d23d5810f83761435f25167f690/expr.png\" style=\"display:inline;vertical-align:middle;\" /></a></td></tr>\n",
       "<tr><td>12</td><td>ExprTuple</td><td>14, 15</td><td><a class=\"ProveItLink\" href=\"../9a6c3cfa705ac1faf2b12287d9d1652cd8a100ac0/expr.ipynb\"><img src=\"../9a6c3cfa705ac1faf2b12287d9d1652cd8a100ac0/expr.png\" style=\"display:inline;vertical-align:middle;\" /></a></td></tr>\n",
       "<tr><td>13</td><td>Lambda</td><td>parameter:&nbsp;32<br>body:&nbsp;16<br></td><td><a class=\"ProveItLink\" href=\"../b172a204c4eeeb624cea90a5161ddb8842fccecc0/expr.ipynb\"><img src=\"../b172a204c4eeeb624cea90a5161ddb8842fccecc0/expr.png\" style=\"display:inline;vertical-align:middle;\" /></a></td></tr>\n",
       "<tr><td>14</td><td>Operation</td><td>operator:&nbsp;17<br>operand:&nbsp;22<br></td><td><a class=\"ProveItLink\" href=\"../74bda79a457c02599140b21413b04ffbdd5e3b220/expr.ipynb\"><img src=\"../74bda79a457c02599140b21413b04ffbdd5e3b220/expr.png\" style=\"display:inline;vertical-align:middle;\" /></a></td></tr>\n",
       "<tr><td>15</td><td>Operation</td><td>operator:&nbsp;19<br>operand:&nbsp;26<br></td><td><a class=\"ProveItLink\" href=\"../../../../number_sets/natural_numbers/__pv_it/common/a1a2359b1c680b0d2839472dabd98a8ebdf044800/expr.ipynb\"><img src=\"../../../../number_sets/natural_numbers/__pv_it/common/a1a2359b1c680b0d2839472dabd98a8ebdf044800/expr.png\" style=\"display:inline;vertical-align:middle;\" /></a></td></tr>\n",
       "<tr><td>16</td><td>Conditional</td><td>value:&nbsp;21<br>condition:&nbsp;28<br></td><td><a class=\"ProveItLink\" href=\"../50f26d57f28cf1433d3df4e839a35ebbd922262a0/expr.ipynb\"><img src=\"../50f26d57f28cf1433d3df4e839a35ebbd922262a0/expr.png\" style=\"display:inline;vertical-align:middle;\" /></a></td></tr>\n",
       "<tr><td>17</td><td>Literal</td><td></td><td><a class=\"ProveItLink\" href=\"../../common/14fe61cccc388f91dfd83d3ca31cf27448cc070a0/expr.ipynb\"><img src=\"../../common/14fe61cccc388f91dfd83d3ca31cf27448cc070a0/expr.png\" style=\"display:inline;vertical-align:middle;\" /></a></td></tr>\n",
       "<tr><td>18</td><td>ExprTuple</td><td>22</td><td><a class=\"ProveItLink\" href=\"../f0c6309321086af361b90d2c46bbc722911690a80/expr.ipynb\"><img src=\"../f0c6309321086af361b90d2c46bbc722911690a80/expr.png\" style=\"display:inline;vertical-align:middle;\" /></a></td></tr>\n",
       "<tr><td>19</td><td>Literal</td><td></td><td><a class=\"ProveItLink\" href=\"../../../../../logic/sets/enumeration/__pv_it/common/0ead90ccbf4f17bc585a51f8aa904bb77916ae6e0/expr.ipynb\"><img src=\"../../../../../logic/sets/enumeration/__pv_it/common/0ead90ccbf4f17bc585a51f8aa904bb77916ae6e0/expr.png\" style=\"display:inline;vertical-align:middle;\" /></a></td></tr>\n",
       "<tr><td>20</td><td>ExprTuple</td><td>26</td><td><a class=\"ProveItLink\" href=\"../../../../number_sets/natural_numbers/__pv_it/common/2048ac4936a0fdafec65dc88dd04b24596ab2f8b0/expr.ipynb\"><img src=\"../../../../number_sets/natural_numbers/__pv_it/common/2048ac4936a0fdafec65dc88dd04b24596ab2f8b0/expr.png\" style=\"display:inline;vertical-align:middle;\" /></a></td></tr>\n",
       "<tr><td>21</td><td>Operation</td><td>operator:&nbsp;23<br>operands:&nbsp;24<br></td><td><a class=\"ProveItLink\" href=\"../c243dac3d12336283420cf7246c60519fbe531da0/expr.ipynb\"><img src=\"../c243dac3d12336283420cf7246c60519fbe531da0/expr.png\" style=\"display:inline;vertical-align:middle;\" /></a></td></tr>\n",
       "<tr><td>22</td><td>Lambda</td><td>parameter:&nbsp;32<br>body:&nbsp;25<br></td><td><a class=\"ProveItLink\" href=\"../de19b6aaba8d18dc71d82a91cc171f0e1ea4699a0/expr.ipynb\"><img src=\"../de19b6aaba8d18dc71d82a91cc171f0e1ea4699a0/expr.png\" style=\"display:inline;vertical-align:middle;\" /></a></td></tr>\n",
       "<tr><td>23</td><td>Literal</td><td></td><td><a class=\"ProveItLink\" href=\"../../../../../logic/equality/__pv_it/common/fb96dc12b2aa8801dda64d0132b396c63d1502bb0/expr.ipynb\"><img src=\"../../../../../logic/equality/__pv_it/common/fb96dc12b2aa8801dda64d0132b396c63d1502bb0/expr.png\" style=\"display:inline;vertical-align:middle;\" /></a></td></tr>\n",
       "<tr><td>24</td><td>ExprTuple</td><td>27, 26</td><td><a class=\"ProveItLink\" href=\"../5d2fb72855d5af812b7b6c6f9a1745254337fb610/expr.ipynb\"><img src=\"../5d2fb72855d5af812b7b6c6f9a1745254337fb610/expr.png\" style=\"display:inline;vertical-align:middle;\" /></a></td></tr>\n",
       "<tr><td>25</td><td>Conditional</td><td>value:&nbsp;27<br>condition:&nbsp;28<br></td><td><a class=\"ProveItLink\" href=\"../3ed7475509b21b109700db43cebfa4f4c52fd0770/expr.ipynb\"><img src=\"../3ed7475509b21b109700db43cebfa4f4c52fd0770/expr.png\" style=\"display:inline;vertical-align:middle;\" /></a></td></tr>\n",
       "<tr><td>26</td><td>Literal</td><td></td><td><a class=\"ProveItLink\" href=\"../../../../numerals/__pv_it/common/dd4e19e8b134dfb293470ea55fe3589b0ab9f8040/expr.ipynb\"><img src=\"../../../../numerals/__pv_it/common/dd4e19e8b134dfb293470ea55fe3589b0ab9f8040/expr.png\" style=\"display:inline;vertical-align:middle;\" /></a></td></tr>\n",
       "<tr><td>27</td><td>Operation</td><td>operator:&nbsp;29<br>operand:&nbsp;32<br></td><td><a class=\"ProveItLink\" href=\"../../../../../__pv_it/common/6774f61458aed4cc9eb250f92b3634f1d09b19a40/expr.ipynb\"><img src=\"../../../../../__pv_it/common/6774f61458aed4cc9eb250f92b3634f1d09b19a40/expr.png\" style=\"display:inline;vertical-align:middle;\" /></a></td></tr>\n",
       "<tr><td>28</td><td>Operation</td><td>operator:&nbsp;30<br>operand:&nbsp;32<br></td><td><a class=\"ProveItLink\" href=\"../../../../../__pv_it/common/fce49534291e406d3d43684e225f1a2779a61f030/expr.ipynb\"><img src=\"../../../../../__pv_it/common/fce49534291e406d3d43684e225f1a2779a61f030/expr.png\" style=\"display:inline;vertical-align:middle;\" /></a></td></tr>\n",
       "<tr><td>29</td><td>Variable</td><td></td><td><a class=\"ProveItLink\" href=\"../../../../../__pv_it/common/01b6dbb444a31fc38af4c2379badef6c75b363710/expr.ipynb\"><img src=\"../../../../../__pv_it/common/01b6dbb444a31fc38af4c2379badef6c75b363710/expr.png\" style=\"display:inline;vertical-align:middle;\" /></a></td></tr>\n",
       "<tr><td>30</td><td>Variable</td><td></td><td><a class=\"ProveItLink\" href=\"../../../../../__pv_it/common/d72bb8b07403efe79afab564c36a28e21330e5f90/expr.ipynb\"><img src=\"../../../../../__pv_it/common/d72bb8b07403efe79afab564c36a28e21330e5f90/expr.png\" style=\"display:inline;vertical-align:middle;\" /></a></td></tr>\n",
       "<tr><td>31</td><td>ExprTuple</td><td>32</td><td><a class=\"ProveItLink\" href=\"../../../../../__pv_it/common/eacfeccc0521684fcb20fe8f5180ac50fca471f20/expr.ipynb\"><img src=\"../../../../../__pv_it/common/eacfeccc0521684fcb20fe8f5180ac50fca471f20/expr.png\" style=\"display:inline;vertical-align:middle;\" /></a></td></tr>\n",
       "<tr><td>32</td><td>Variable</td><td></td><td><a class=\"ProveItLink\" href=\"../../../../../__pv_it/common/a0d9d672aa5e272d907247690c152cc2c6daafb70/expr.ipynb\"><img src=\"../../../../../__pv_it/common/a0d9d672aa5e272d907247690c152cc2c6daafb70/expr.png\" style=\"display:inline;vertical-align:middle;\" /></a></td></tr>\n",
       "</table>\n"
      ],
      "text/plain": [
       "0. forall_{f, Q} ([forall_{x | Q(x)} (f(x) = 0)] => ([Sum_{x | Q(x)} f(x)] in {0}))\n",
       "   core type: Operation\n",
       "   operator: 9\n",
       "   operand: 2\n",
       "1. ((f, Q) -> ([forall_{x | Q(x)} (f(x) = 0)] => ([Sum_{x | Q(x)} f(x)] in {0})))\n",
       "   core type: ExprTuple\n",
       "   sub-expressions: 2\n",
       "2. (f, Q) -> ([forall_{x | Q(x)} (f(x) = 0)] => ([Sum_{x | Q(x)} f(x)] in {0}))\n",
       "   core type: Lambda\n",
       "   parameters: 3\\n   body: 4\n",
       "3. (f, Q)\n",
       "   core type: ExprTuple\n",
       "   sub-expressions: 29, 30\n",
       "4. [forall_{x | Q(x)} (f(x) = 0)] => ([Sum_{x | Q(x)} f(x)] in {0})\n",
       "   core type: Operation\n",
       "   operator: 5\n",
       "   operands: 6\n",
       "5. =>\n",
       "   core type: Literal\n",
       "   sub-expressions: \n",
       "6. (forall_{x | Q(x)} (f(x) = 0), [Sum_{x | Q(x)} f(x)] in {0})\n",
       "   core type: ExprTuple\n",
       "   sub-expressions: 7, 8\n",
       "7. forall_{x | Q(x)} (f(x) = 0)\n",
       "   core type: Operation\n",
       "   operator: 9\n",
       "   operand: 13\n",
       "8. [Sum_{x | Q(x)} f(x)] in {0}\n",
       "   core type: Operation\n",
       "   operator: 11\n",
       "   operands: 12\n",
       "9. forall\n",
       "   core type: Literal\n",
       "   sub-expressions: \n",
       "10. (x -> {f(x) = 0 if Q(x).)\n",
       "    core type: ExprTuple\n",
       "    sub-expressions: 13\n",
       "11. in\n",
       "    core type: Literal\n",
       "    sub-expressions: \n",
       "12. (Sum_{x | Q(x)} f(x), {0})\n",
       "    core type: ExprTuple\n",
       "    sub-expressions: 14, 15\n",
       "13. x -> {f(x) = 0 if Q(x).\n",
       "    core type: Lambda\n",
       "    parameter: 32\n",
       "    body: 16\n",
       "14. Sum_{x | Q(x)} f(x)\n",
       "    core type: Operation\n",
       "    operator: 17\n",
       "    operand: 22\n",
       "15. {0}\n",
       "    core type: Operation\n",
       "    operator: 19\n",
       "    operand: 26\n",
       "16. {f(x) = 0 if Q(x).\n",
       "    core type: Conditional\n",
       "    value: 21\n",
       "    condition: 28\n",
       "17. Sum\n",
       "    core type: Literal\n",
       "    sub-expressions: \n",
       "18. (x -> {f(x) if Q(x).)\n",
       "    core type: ExprTuple\n",
       "    sub-expressions: 22\n",
       "19. Set\n",
       "    core type: Literal\n",
       "    sub-expressions: \n",
       "20. (0)\n",
       "    core type: ExprTuple\n",
       "    sub-expressions: 26\n",
       "21. f(x) = 0\n",
       "    core type: Operation\n",
       "    operator: 23\n",
       "    operands: 24\n",
       "22. x -> {f(x) if Q(x).\n",
       "    core type: Lambda\n",
       "    parameter: 32\n",
       "    body: 25\n",
       "23. =\n",
       "    core type: Literal\n",
       "    sub-expressions: \n",
       "24. (f(x), 0)\n",
       "    core type: ExprTuple\n",
       "    sub-expressions: 27, 26\n",
       "25. {f(x) if Q(x).\n",
       "    core type: Conditional\n",
       "    value: 27\n",
       "    condition: 28\n",
       "26. 0\n",
       "    core type: Literal\n",
       "    sub-expressions: \n",
       "27. f(x)\n",
       "    core type: Operation\n",
       "    operator: 29\n",
       "    operand: 32\n",
       "28. Q(x)\n",
       "    core type: Operation\n",
       "    operator: 30\n",
       "    operand: 32\n",
       "29. f\n",
       "    core type: Variable\n",
       "    sub-expressions: \n",
       "30. Q\n",
       "    core type: Variable\n",
       "    sub-expressions: \n",
       "31. (x)\n",
       "    core type: ExprTuple\n",
       "    sub-expressions: 32\n",
       "32. x\n",
       "    core type: Variable\n",
       "    sub-expressions: "
      ]
     },
     "metadata": {},
     "output_type": "display_data"
    }
   ],
   "source": [
    "# display the expression information\n",
    "stored_expr.expr_info()"
   ]
  },
  {
   "cell_type": "code",
   "execution_count": null,
   "metadata": {},
   "outputs": [],
   "source": []
  }
 ],
 "metadata": {
  "kernelspec": {
   "display_name": "Python 3",
   "language": "python",
   "name": "python3"
  }
 },
 "nbformat": 4,
 "nbformat_minor": 0
}