{
 "cells": [
  {
   "cell_type": "markdown",
   "metadata": {},
   "source": [
    "Expression of type <a class=\"ProveItLink\" href=\"../../../../../../../doc/html/api/proveit.logic.Implies.html\">Implies</a>\n",
    "=======================\n",
    "# from the theory of <a class=\"ProveItLink\" href=\"../../../_theory_nbs_/theory.ipynb\">proveit.numbers.summation</a>"
   ]
  },
  {
   "cell_type": "code",
   "execution_count": 1,
   "metadata": {},
   "outputs": [],
   "source": [
    "import proveit\n",
    "# Automation is not needed when building an expression:\n",
    "proveit.defaults.automation = False # This will speed things up.\n",
    "proveit.defaults.inline_pngs = False # Makes files smaller.\n",
    "%load_expr # Load the stored expression as 'stored_expr'\n",
    "# import Expression classes needed to build the expression\n",
    "from proveit import S, fx, gx, x\n",
    "from proveit.logic import Forall, Implies\n",
    "from proveit.numbers import LessEq, Sum"
   ]
  },
  {
   "cell_type": "code",
   "execution_count": 2,
   "metadata": {},
   "outputs": [
    {
     "data": {
      "text/html": [
       "<strong id=\"expr\">expr:</strong> <a class=\"ProveItLink\" href=\"expr.ipynb\"><img src=\"expr.png\" style=\"display:inline;vertical-align:middle;\" /></a><br>"
      ],
      "text/plain": [
       "<IPython.core.display.HTML object>"
      ]
     },
     "metadata": {},
     "output_type": "display_data"
    }
   ],
   "source": [
    "# build up the expression from sub-expressions\n",
    "sub_expr1 = [x]\n",
    "expr = Implies(Forall(instance_param_or_params = sub_expr1, instance_expr = LessEq(fx, gx), domain = S), LessEq(Sum(index_or_indices = sub_expr1, summand = fx, domain = S), Sum(index_or_indices = sub_expr1, summand = gx, domain = S)))"
   ]
  },
  {
   "cell_type": "code",
   "execution_count": 3,
   "metadata": {},
   "outputs": [
    {
     "name": "stdout",
     "output_type": "stream",
     "text": [
      "Passed sanity check: expr matches stored_expr\n"
     ]
    }
   ],
   "source": [
    "# check that the built expression is the same as the stored expression\n",
    "assert expr == stored_expr\n",
    "assert expr._style_id == stored_expr._style_id\n",
    "print(\"Passed sanity check: expr matches stored_expr\")"
   ]
  },
  {
   "cell_type": "code",
   "execution_count": 4,
   "metadata": {},
   "outputs": [
    {
     "name": "stdout",
     "output_type": "stream",
     "text": [
      "\\left[\\forall_{x \\in S}~\\left(f\\left(x\\right) \\leq g\\left(x\\right)\\right)\\right] \\Rightarrow \\left(\\left[\\sum_{x \\in S}~f\\left(x\\right)\\right] \\leq \\left[\\sum_{x \\in S}~g\\left(x\\right)\\right]\\right)\n"
     ]
    }
   ],
   "source": [
    "# Show the LaTeX representation of the expression for convenience if you need it.\n",
    "print(stored_expr.latex())"
   ]
  },
  {
   "cell_type": "code",
   "execution_count": 5,
   "metadata": {},
   "outputs": [
    {
     "data": {
      "text/html": [
       "<table>\n",
       "<tr><th>name</th><th>description</th><th>default</th><th>current value</th><th>related methods</th></tr><tr><td>operation</td><td>'infix' or 'function' style formatting</td><td>infix</td><td>infix</td><td></td></tr>\n",
       "<tr><td>wrap_positions</td><td>position(s) at which wrapping is to occur; '2 n - 1' is after the nth operand, '2 n' is after the nth operation.</td><td>()</td><td>()</td><td>('with_wrapping_at', 'with_wrap_before_operator', 'with_wrap_after_operator', 'without_wrapping', 'wrap_positions')</td></tr>\n",
       "<tr><td>justification</td><td>if any wrap positions are set, justify to the 'left', 'center', or 'right'</td><td>center</td><td>center</td><td>('with_justification',)</td></tr>\n",
       "<tr><td>direction</td><td>Direction of the relation (normal or reversed)</td><td>normal</td><td>normal</td><td>('with_direction_reversed', 'is_reversed')</td></tr>\n",
       "</table>\n"
      ],
      "text/plain": [
       "style name: operation\n",
       "description: 'infix' or 'function' style formatting\n",
       "default: infix\n",
       "current value: infix\n",
       "related methods: ()\n",
       "style name: wrap_positions\n",
       "description: position(s) at which wrapping is to occur; '2 n - 1' is after the nth operand, '2 n' is after the nth operation.\n",
       "default: ()\n",
       "current value: ()\n",
       "related methods: ('with_wrapping_at', 'with_wrap_before_operator', 'with_wrap_after_operator', 'without_wrapping', 'wrap_positions')\n",
       "style name: justification\n",
       "description: if any wrap positions are set, justify to the 'left', 'center', or 'right'\n",
       "default: center\n",
       "current value: center\n",
       "related methods: ('with_justification',)\n",
       "style name: direction\n",
       "description: Direction of the relation (normal or reversed)\n",
       "default: normal\n",
       "current value: normal\n",
       "related methods: ('with_direction_reversed', 'is_reversed')"
      ]
     },
     "metadata": {},
     "output_type": "display_data"
    }
   ],
   "source": [
    "stored_expr.style_options()"
   ]
  },
  {
   "cell_type": "code",
   "execution_count": 6,
   "metadata": {},
   "outputs": [
    {
     "data": {
      "text/html": [
       "<table><tr><th>&nbsp;</th><th>core type</th><th>sub-expressions</th><th>expression</th></tr>\n",
       "<tr><td>0</td><td>Operation</td><td>operator:&nbsp;1<br>operands:&nbsp;2<br></td><td><a class=\"ProveItLink\" href=\"expr.ipynb\"><img src=\"expr.png\" style=\"display:inline;vertical-align:middle;\" /></a></td></tr>\n",
       "<tr><td>1</td><td>Literal</td><td></td><td><a class=\"ProveItLink\" href=\"../../../../../logic/booleans/implication/__pv_it/common/02bdb382575728da8cdbaed545b9096ea7a1bd5b0/expr.ipynb\"><img src=\"../../../../../logic/booleans/implication/__pv_it/common/02bdb382575728da8cdbaed545b9096ea7a1bd5b0/expr.png\" style=\"display:inline;vertical-align:middle;\" /></a></td></tr>\n",
       "<tr><td>2</td><td>ExprTuple</td><td>3, 4</td><td><a class=\"ProveItLink\" href=\"../74bd120e8a737dd997432fcfe591b9acd07b2bad0/expr.ipynb\"><img src=\"../74bd120e8a737dd997432fcfe591b9acd07b2bad0/expr.png\" style=\"display:inline;vertical-align:middle;\" /></a></td></tr>\n",
       "<tr><td>3</td><td>Operation</td><td>operator:&nbsp;5<br>operand:&nbsp;8<br></td><td><a class=\"ProveItLink\" href=\"../05177bafbe6caf5bf00854d2f8bcd1ddb11ccfea0/expr.ipynb\"><img src=\"../05177bafbe6caf5bf00854d2f8bcd1ddb11ccfea0/expr.png\" style=\"display:inline;vertical-align:middle;\" /></a></td></tr>\n",
       "<tr><td>4</td><td>Operation</td><td>operator:&nbsp;18<br>operands:&nbsp;7<br></td><td><a class=\"ProveItLink\" href=\"../44e7fe9ea502a137f72bb161d87283c8123022560/expr.ipynb\"><img src=\"../44e7fe9ea502a137f72bb161d87283c8123022560/expr.png\" style=\"display:inline;vertical-align:middle;\" /></a></td></tr>\n",
       "<tr><td>5</td><td>Literal</td><td></td><td><a class=\"ProveItLink\" href=\"../../../../../logic/booleans/quantification/universality/__pv_it/common/083d2baa0b8ecab1d230f9ec29a15aa1355809fb0/expr.ipynb\"><img src=\"../../../../../logic/booleans/quantification/universality/__pv_it/common/083d2baa0b8ecab1d230f9ec29a15aa1355809fb0/expr.png\" style=\"display:inline;vertical-align:middle;\" /></a></td></tr>\n",
       "<tr><td>6</td><td>ExprTuple</td><td>8</td><td><a class=\"ProveItLink\" href=\"../a4ee54625cc6a8ac78cb5fd27386df3df00a970e0/expr.ipynb\"><img src=\"../a4ee54625cc6a8ac78cb5fd27386df3df00a970e0/expr.png\" style=\"display:inline;vertical-align:middle;\" /></a></td></tr>\n",
       "<tr><td>7</td><td>ExprTuple</td><td>9, 10</td><td><a class=\"ProveItLink\" href=\"../11cecf6f6d1b10588c1a124d00b2b731c5702ecd0/expr.ipynb\"><img src=\"../11cecf6f6d1b10588c1a124d00b2b731c5702ecd0/expr.png\" style=\"display:inline;vertical-align:middle;\" /></a></td></tr>\n",
       "<tr><td>8</td><td>Lambda</td><td>parameter:&nbsp;30<br>body:&nbsp;11<br></td><td><a class=\"ProveItLink\" href=\"../2875dbc6c5ee4831d256a778c8a45445ce0ea3520/expr.ipynb\"><img src=\"../2875dbc6c5ee4831d256a778c8a45445ce0ea3520/expr.png\" style=\"display:inline;vertical-align:middle;\" /></a></td></tr>\n",
       "<tr><td>9</td><td>Operation</td><td>operator:&nbsp;13<br>operand:&nbsp;16<br></td><td><a class=\"ProveItLink\" href=\"../9f0bf84d3dd796fc0302ebc9929c50c84b15b0420/expr.ipynb\"><img src=\"../9f0bf84d3dd796fc0302ebc9929c50c84b15b0420/expr.png\" style=\"display:inline;vertical-align:middle;\" /></a></td></tr>\n",
       "<tr><td>10</td><td>Operation</td><td>operator:&nbsp;13<br>operand:&nbsp;17<br></td><td><a class=\"ProveItLink\" href=\"../83dea8b916ebc2b335f46cde373ab1a529ef2d2a0/expr.ipynb\"><img src=\"../83dea8b916ebc2b335f46cde373ab1a529ef2d2a0/expr.png\" style=\"display:inline;vertical-align:middle;\" /></a></td></tr>\n",
       "<tr><td>11</td><td>Conditional</td><td>value:&nbsp;15<br>condition:&nbsp;24<br></td><td><a class=\"ProveItLink\" href=\"../5557587cf9e0ba95c2e7f9da4c815edd7dab70ee0/expr.ipynb\"><img src=\"../5557587cf9e0ba95c2e7f9da4c815edd7dab70ee0/expr.png\" style=\"display:inline;vertical-align:middle;\" /></a></td></tr>\n",
       "<tr><td>12</td><td>ExprTuple</td><td>16</td><td><a class=\"ProveItLink\" href=\"../3f08b7b0b265417529a65a1a2f8119fbd7a139b80/expr.ipynb\"><img src=\"../3f08b7b0b265417529a65a1a2f8119fbd7a139b80/expr.png\" style=\"display:inline;vertical-align:middle;\" /></a></td></tr>\n",
       "<tr><td>13</td><td>Literal</td><td></td><td><a class=\"ProveItLink\" href=\"../../common/14fe61cccc388f91dfd83d3ca31cf27448cc070a0/expr.ipynb\"><img src=\"../../common/14fe61cccc388f91dfd83d3ca31cf27448cc070a0/expr.png\" style=\"display:inline;vertical-align:middle;\" /></a></td></tr>\n",
       "<tr><td>14</td><td>ExprTuple</td><td>17</td><td><a class=\"ProveItLink\" href=\"../fe1c878ee0e8a1d336db375de29d7fcb60ce721b0/expr.ipynb\"><img src=\"../fe1c878ee0e8a1d336db375de29d7fcb60ce721b0/expr.png\" style=\"display:inline;vertical-align:middle;\" /></a></td></tr>\n",
       "<tr><td>15</td><td>Operation</td><td>operator:&nbsp;18<br>operands:&nbsp;19<br></td><td><a class=\"ProveItLink\" href=\"../e651a0aa6670da5327ff5b3472d03709574712b40/expr.ipynb\"><img src=\"../e651a0aa6670da5327ff5b3472d03709574712b40/expr.png\" style=\"display:inline;vertical-align:middle;\" /></a></td></tr>\n",
       "<tr><td>16</td><td>Lambda</td><td>parameter:&nbsp;30<br>body:&nbsp;20<br></td><td><a class=\"ProveItLink\" href=\"../efd209593040c0875f7ed5fd6cf18261d247017d0/expr.ipynb\"><img src=\"../efd209593040c0875f7ed5fd6cf18261d247017d0/expr.png\" style=\"display:inline;vertical-align:middle;\" /></a></td></tr>\n",
       "<tr><td>17</td><td>Lambda</td><td>parameter:&nbsp;30<br>body:&nbsp;21<br></td><td><a class=\"ProveItLink\" href=\"../64811709ddb9aa6dff85d94648d6683ca804e9430/expr.ipynb\"><img src=\"../64811709ddb9aa6dff85d94648d6683ca804e9430/expr.png\" style=\"display:inline;vertical-align:middle;\" /></a></td></tr>\n",
       "<tr><td>18</td><td>Literal</td><td></td><td><a class=\"ProveItLink\" href=\"../../../../ordering/__pv_it/common/68379698d72b4689bbda4b5c5cca29ee599d70280/expr.ipynb\"><img src=\"../../../../ordering/__pv_it/common/68379698d72b4689bbda4b5c5cca29ee599d70280/expr.png\" style=\"display:inline;vertical-align:middle;\" /></a></td></tr>\n",
       "<tr><td>19</td><td>ExprTuple</td><td>22, 23</td><td><a class=\"ProveItLink\" href=\"../f0bd8a04e428d4f676df9394b8105cdc0b4bba0e0/expr.ipynb\"><img src=\"../f0bd8a04e428d4f676df9394b8105cdc0b4bba0e0/expr.png\" style=\"display:inline;vertical-align:middle;\" /></a></td></tr>\n",
       "<tr><td>20</td><td>Conditional</td><td>value:&nbsp;22<br>condition:&nbsp;24<br></td><td><a class=\"ProveItLink\" href=\"../b84e5be2c67e65ba80bd8691f27c02c2940fb4c40/expr.ipynb\"><img src=\"../b84e5be2c67e65ba80bd8691f27c02c2940fb4c40/expr.png\" style=\"display:inline;vertical-align:middle;\" /></a></td></tr>\n",
       "<tr><td>21</td><td>Conditional</td><td>value:&nbsp;23<br>condition:&nbsp;24<br></td><td><a class=\"ProveItLink\" href=\"../a7b65dcef10d0a82f1a83e0d316a050def07c3680/expr.ipynb\"><img src=\"../a7b65dcef10d0a82f1a83e0d316a050def07c3680/expr.png\" style=\"display:inline;vertical-align:middle;\" /></a></td></tr>\n",
       "<tr><td>22</td><td>Operation</td><td>operator:&nbsp;25<br>operand:&nbsp;30<br></td><td><a class=\"ProveItLink\" href=\"../../../../../__pv_it/common/6774f61458aed4cc9eb250f92b3634f1d09b19a40/expr.ipynb\"><img src=\"../../../../../__pv_it/common/6774f61458aed4cc9eb250f92b3634f1d09b19a40/expr.png\" style=\"display:inline;vertical-align:middle;\" /></a></td></tr>\n",
       "<tr><td>23</td><td>Operation</td><td>operator:&nbsp;26<br>operand:&nbsp;30<br></td><td><a class=\"ProveItLink\" href=\"../../../../../__pv_it/common/1d2b81c6e4903ee4506b066df3feec8a729a56a80/expr.ipynb\"><img src=\"../../../../../__pv_it/common/1d2b81c6e4903ee4506b066df3feec8a729a56a80/expr.png\" style=\"display:inline;vertical-align:middle;\" /></a></td></tr>\n",
       "<tr><td>24</td><td>Operation</td><td>operator:&nbsp;28<br>operands:&nbsp;29<br></td><td><a class=\"ProveItLink\" href=\"../e15daefd530e6af1913a3a751ea70ed093591b3d0/expr.ipynb\"><img src=\"../e15daefd530e6af1913a3a751ea70ed093591b3d0/expr.png\" style=\"display:inline;vertical-align:middle;\" /></a></td></tr>\n",
       "<tr><td>25</td><td>Variable</td><td></td><td><a class=\"ProveItLink\" href=\"../../../../../__pv_it/common/01b6dbb444a31fc38af4c2379badef6c75b363710/expr.ipynb\"><img src=\"../../../../../__pv_it/common/01b6dbb444a31fc38af4c2379badef6c75b363710/expr.png\" style=\"display:inline;vertical-align:middle;\" /></a></td></tr>\n",
       "<tr><td>26</td><td>Variable</td><td></td><td><a class=\"ProveItLink\" href=\"../../../../../__pv_it/common/96ac097ea7ee432328a5e933062d0ef407701bf40/expr.ipynb\"><img src=\"../../../../../__pv_it/common/96ac097ea7ee432328a5e933062d0ef407701bf40/expr.png\" style=\"display:inline;vertical-align:middle;\" /></a></td></tr>\n",
       "<tr><td>27</td><td>ExprTuple</td><td>30</td><td><a class=\"ProveItLink\" href=\"../../../../../__pv_it/common/eacfeccc0521684fcb20fe8f5180ac50fca471f20/expr.ipynb\"><img src=\"../../../../../__pv_it/common/eacfeccc0521684fcb20fe8f5180ac50fca471f20/expr.png\" style=\"display:inline;vertical-align:middle;\" /></a></td></tr>\n",
       "<tr><td>28</td><td>Literal</td><td></td><td><a class=\"ProveItLink\" href=\"../../../../../logic/sets/membership/__pv_it/common/477487d8796864d23d5810f83761435f25167f690/expr.ipynb\"><img src=\"../../../../../logic/sets/membership/__pv_it/common/477487d8796864d23d5810f83761435f25167f690/expr.png\" style=\"display:inline;vertical-align:middle;\" /></a></td></tr>\n",
       "<tr><td>29</td><td>ExprTuple</td><td>30, 31</td><td><a class=\"ProveItLink\" href=\"../c7c06b26a27420fe15bf7758f31a7b4d4d978d0b0/expr.ipynb\"><img src=\"../c7c06b26a27420fe15bf7758f31a7b4d4d978d0b0/expr.png\" style=\"display:inline;vertical-align:middle;\" /></a></td></tr>\n",
       "<tr><td>30</td><td>Variable</td><td></td><td><a class=\"ProveItLink\" href=\"../../../../../__pv_it/common/a0d9d672aa5e272d907247690c152cc2c6daafb70/expr.ipynb\"><img src=\"../../../../../__pv_it/common/a0d9d672aa5e272d907247690c152cc2c6daafb70/expr.png\" style=\"display:inline;vertical-align:middle;\" /></a></td></tr>\n",
       "<tr><td>31</td><td>Variable</td><td></td><td><a class=\"ProveItLink\" href=\"../../../../../__pv_it/common/38f47c5670ea8c5b56253448e95d8afb56bc09b40/expr.ipynb\"><img src=\"../../../../../__pv_it/common/38f47c5670ea8c5b56253448e95d8afb56bc09b40/expr.png\" style=\"display:inline;vertical-align:middle;\" /></a></td></tr>\n",
       "</table>\n"
      ],
      "text/plain": [
       "0. [forall_{x in S} (f(x) <= g(x))] => ([Sum_{x in S} f(x)] <= [Sum_{x in S} g(x)])\n",
       "   core type: Operation\n",
       "   operator: 1\n",
       "   operands: 2\n",
       "1. =>\n",
       "   core type: Literal\n",
       "   sub-expressions: \n",
       "2. (forall_{x in S} (f(x) <= g(x)), [Sum_{x in S} f(x)] <= [Sum_{x in S} g(x)])\n",
       "   core type: ExprTuple\n",
       "   sub-expressions: 3, 4\n",
       "3. forall_{x in S} (f(x) <= g(x))\n",
       "   core type: Operation\n",
       "   operator: 5\n",
       "   operand: 8\n",
       "4. [Sum_{x in S} f(x)] <= [Sum_{x in S} g(x)]\n",
       "   core type: Operation\n",
       "   operator: 18\n",
       "   operands: 7\n",
       "5. forall\n",
       "   core type: Literal\n",
       "   sub-expressions: \n",
       "6. (x -> {f(x) <= g(x) if x in S.)\n",
       "   core type: ExprTuple\n",
       "   sub-expressions: 8\n",
       "7. (Sum_{x in S} f(x), Sum_{x in S} g(x))\n",
       "   core type: ExprTuple\n",
       "   sub-expressions: 9, 10\n",
       "8. x -> {f(x) <= g(x) if x in S.\n",
       "   core type: Lambda\n",
       "   parameter: 30\n",
       "   body: 11\n",
       "9. Sum_{x in S} f(x)\n",
       "   core type: Operation\n",
       "   operator: 13\n",
       "   operand: 16\n",
       "10. Sum_{x in S} g(x)\n",
       "    core type: Operation\n",
       "    operator: 13\n",
       "    operand: 17\n",
       "11. {f(x) <= g(x) if x in S.\n",
       "    core type: Conditional\n",
       "    value: 15\n",
       "    condition: 24\n",
       "12. (x -> {f(x) if x in S.)\n",
       "    core type: ExprTuple\n",
       "    sub-expressions: 16\n",
       "13. Sum\n",
       "    core type: Literal\n",
       "    sub-expressions: \n",
       "14. (x -> {g(x) if x in S.)\n",
       "    core type: ExprTuple\n",
       "    sub-expressions: 17\n",
       "15. f(x) <= g(x)\n",
       "    core type: Operation\n",
       "    operator: 18\n",
       "    operands: 19\n",
       "16. x -> {f(x) if x in S.\n",
       "    core type: Lambda\n",
       "    parameter: 30\n",
       "    body: 20\n",
       "17. x -> {g(x) if x in S.\n",
       "    core type: Lambda\n",
       "    parameter: 30\n",
       "    body: 21\n",
       "18. <=\n",
       "    core type: Literal\n",
       "    sub-expressions: \n",
       "19. (f(x), g(x))\n",
       "    core type: ExprTuple\n",
       "    sub-expressions: 22, 23\n",
       "20. {f(x) if x in S.\n",
       "    core type: Conditional\n",
       "    value: 22\n",
       "    condition: 24\n",
       "21. {g(x) if x in S.\n",
       "    core type: Conditional\n",
       "    value: 23\n",
       "    condition: 24\n",
       "22. f(x)\n",
       "    core type: Operation\n",
       "    operator: 25\n",
       "    operand: 30\n",
       "23. g(x)\n",
       "    core type: Operation\n",
       "    operator: 26\n",
       "    operand: 30\n",
       "24. x in S\n",
       "    core type: Operation\n",
       "    operator: 28\n",
       "    operands: 29\n",
       "25. f\n",
       "    core type: Variable\n",
       "    sub-expressions: \n",
       "26. g\n",
       "    core type: Variable\n",
       "    sub-expressions: \n",
       "27. (x)\n",
       "    core type: ExprTuple\n",
       "    sub-expressions: 30\n",
       "28. in\n",
       "    core type: Literal\n",
       "    sub-expressions: \n",
       "29. (x, S)\n",
       "    core type: ExprTuple\n",
       "    sub-expressions: 30, 31\n",
       "30. x\n",
       "    core type: Variable\n",
       "    sub-expressions: \n",
       "31. S\n",
       "    core type: Variable\n",
       "    sub-expressions: "
      ]
     },
     "metadata": {},
     "output_type": "display_data"
    }
   ],
   "source": [
    "# display the expression information\n",
    "stored_expr.expr_info()"
   ]
  },
  {
   "cell_type": "code",
   "execution_count": null,
   "metadata": {},
   "outputs": [],
   "source": []
  }
 ],
 "metadata": {
  "kernelspec": {
   "display_name": "Python 3",
   "language": "python",
   "name": "python3"
  }
 },
 "nbformat": 4,
 "nbformat_minor": 0
}