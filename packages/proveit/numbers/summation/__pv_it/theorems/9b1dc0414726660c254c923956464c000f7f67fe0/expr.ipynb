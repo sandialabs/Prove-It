{
 "cells": [
  {
   "cell_type": "markdown",
   "metadata": {},
   "source": [
    "Expression of type <a class=\"ProveItLink\" href=\"../../../../../../../doc/html/api/proveit.Lambda.html\">Lambda</a>\n",
    "=======================\n",
    "# from the theory of <a class=\"ProveItLink\" href=\"../../../_theory_nbs_/theory.ipynb\">proveit.numbers.summation</a>"
   ]
  },
  {
   "cell_type": "code",
   "execution_count": 1,
   "metadata": {},
   "outputs": [],
   "source": [
    "import proveit\n",
    "# Automation is not needed when building an expression:\n",
    "proveit.defaults.automation = False # This will speed things up.\n",
    "proveit.defaults.inline_pngs = False # Makes files smaller.\n",
    "%load_expr # Load the stored expression as 'stored_expr'\n",
    "# import Expression classes needed to build the expression\n",
    "from proveit import Lambda, Q, Qx, f, fx, x\n",
    "from proveit.logic import Forall, Implies, InSet\n",
    "from proveit.numbers import Complex, Sum"
   ]
  },
  {
   "cell_type": "code",
   "execution_count": 2,
   "metadata": {},
   "outputs": [
    {
     "data": {
      "text/html": [
       "<strong id=\"expr\">expr:</strong> <a class=\"ProveItLink\" href=\"expr.ipynb\"><img src=\"expr.png\" style=\"display:inline;vertical-align:middle;\" /></a><br>"
      ],
      "text/plain": [
       "<IPython.core.display.HTML object>"
      ]
     },
     "metadata": {},
     "output_type": "display_data"
    }
   ],
   "source": [
    "# build up the expression from sub-expressions\n",
    "sub_expr1 = [x]\n",
    "expr = Lambda([f, Q], Implies(Forall(instance_param_or_params = sub_expr1, instance_expr = InSet(fx, Complex), condition = Qx), InSet(Sum(index_or_indices = sub_expr1, summand = fx, condition = Qx), Complex)))"
   ]
  },
  {
   "cell_type": "code",
   "execution_count": 3,
   "metadata": {},
   "outputs": [
    {
     "name": "stdout",
     "output_type": "stream",
     "text": [
      "Passed sanity check: expr matches stored_expr\n"
     ]
    }
   ],
   "source": [
    "# check that the built expression is the same as the stored expression\n",
    "assert expr == stored_expr\n",
    "assert expr._style_id == stored_expr._style_id\n",
    "print(\"Passed sanity check: expr matches stored_expr\")"
   ]
  },
  {
   "cell_type": "code",
   "execution_count": 4,
   "metadata": {},
   "outputs": [
    {
     "name": "stdout",
     "output_type": "stream",
     "text": [
      "\\left(f, Q\\right) \\mapsto \\left(\\left[\\forall_{x~|~Q\\left(x\\right)}~\\left(f\\left(x\\right) \\in \\mathbb{C}\\right)\\right] \\Rightarrow \\left(\\left[\\sum_{x~|~Q\\left(x\\right)}~f\\left(x\\right)\\right] \\in \\mathbb{C}\\right)\\right)\n"
     ]
    }
   ],
   "source": [
    "# Show the LaTeX representation of the expression for convenience if you need it.\n",
    "print(stored_expr.latex())"
   ]
  },
  {
   "cell_type": "code",
   "execution_count": 5,
   "metadata": {},
   "outputs": [
    {
     "data": {
      "text/html": [
       "no style options"
      ],
      "text/plain": [
       "no style options"
      ]
     },
     "metadata": {},
     "output_type": "display_data"
    }
   ],
   "source": [
    "stored_expr.style_options()"
   ]
  },
  {
   "cell_type": "code",
   "execution_count": 6,
   "metadata": {},
   "outputs": [
    {
     "data": {
      "text/html": [
       "<table><tr><th>&nbsp;</th><th>core type</th><th>sub-expressions</th><th>expression</th></tr>\n",
       "<tr><td>0</td><td>Lambda</td><td>parameters:&nbsp;1<br>body:&nbsp;2<br></td><td><a class=\"ProveItLink\" href=\"expr.ipynb\"><img src=\"expr.png\" style=\"display:inline;vertical-align:middle;\" /></a></td></tr>\n",
       "<tr><td>1</td><td>ExprTuple</td><td>23, 24</td><td><a class=\"ProveItLink\" href=\"../42ffd7119124539dcdb26e42caccd5f59f0381a30/expr.ipynb\"><img src=\"../42ffd7119124539dcdb26e42caccd5f59f0381a30/expr.png\" style=\"display:inline;vertical-align:middle;\" /></a></td></tr>\n",
       "<tr><td>2</td><td>Operation</td><td>operator:&nbsp;3<br>operands:&nbsp;4<br></td><td><a class=\"ProveItLink\" href=\"../cfa6107fac1ba20109dd7a29e4d7d8d160de3f6d0/expr.ipynb\"><img src=\"../cfa6107fac1ba20109dd7a29e4d7d8d160de3f6d0/expr.png\" style=\"display:inline;vertical-align:middle;\" /></a></td></tr>\n",
       "<tr><td>3</td><td>Literal</td><td></td><td><a class=\"ProveItLink\" href=\"../../../../../logic/booleans/implication/__pv_it/common/02bdb382575728da8cdbaed545b9096ea7a1bd5b0/expr.ipynb\"><img src=\"../../../../../logic/booleans/implication/__pv_it/common/02bdb382575728da8cdbaed545b9096ea7a1bd5b0/expr.png\" style=\"display:inline;vertical-align:middle;\" /></a></td></tr>\n",
       "<tr><td>4</td><td>ExprTuple</td><td>5, 6</td><td><a class=\"ProveItLink\" href=\"../3609acd05df8bdefabb5db7b9b5527ffd3e7b8220/expr.ipynb\"><img src=\"../3609acd05df8bdefabb5db7b9b5527ffd3e7b8220/expr.png\" style=\"display:inline;vertical-align:middle;\" /></a></td></tr>\n",
       "<tr><td>5</td><td>Operation</td><td>operator:&nbsp;7<br>operand:&nbsp;10<br></td><td><a class=\"ProveItLink\" href=\"../6d287de40297b7a1532d748e2a26053aa84a452c0/expr.ipynb\"><img src=\"../6d287de40297b7a1532d748e2a26053aa84a452c0/expr.png\" style=\"display:inline;vertical-align:middle;\" /></a></td></tr>\n",
       "<tr><td>6</td><td>Operation</td><td>operator:&nbsp;17<br>operands:&nbsp;9<br></td><td><a class=\"ProveItLink\" href=\"../2f5dc36aec1b3ada162bae55d98a5b0e7e9aa7a50/expr.ipynb\"><img src=\"../2f5dc36aec1b3ada162bae55d98a5b0e7e9aa7a50/expr.png\" style=\"display:inline;vertical-align:middle;\" /></a></td></tr>\n",
       "<tr><td>7</td><td>Literal</td><td></td><td><a class=\"ProveItLink\" href=\"../../../../../logic/booleans/quantification/universality/__pv_it/common/083d2baa0b8ecab1d230f9ec29a15aa1355809fb0/expr.ipynb\"><img src=\"../../../../../logic/booleans/quantification/universality/__pv_it/common/083d2baa0b8ecab1d230f9ec29a15aa1355809fb0/expr.png\" style=\"display:inline;vertical-align:middle;\" /></a></td></tr>\n",
       "<tr><td>8</td><td>ExprTuple</td><td>10</td><td><a class=\"ProveItLink\" href=\"../da523758d1fbe057a8236053ac8c581a8df488030/expr.ipynb\"><img src=\"../da523758d1fbe057a8236053ac8c581a8df488030/expr.png\" style=\"display:inline;vertical-align:middle;\" /></a></td></tr>\n",
       "<tr><td>9</td><td>ExprTuple</td><td>11, 20</td><td><a class=\"ProveItLink\" href=\"../d596c9257df91409528e8fa708311a82eae492440/expr.ipynb\"><img src=\"../d596c9257df91409528e8fa708311a82eae492440/expr.png\" style=\"display:inline;vertical-align:middle;\" /></a></td></tr>\n",
       "<tr><td>10</td><td>Lambda</td><td>parameter:&nbsp;26<br>body:&nbsp;12<br></td><td><a class=\"ProveItLink\" href=\"../83f543808cddfbdf9529437a446011ae31fd069d0/expr.ipynb\"><img src=\"../83f543808cddfbdf9529437a446011ae31fd069d0/expr.png\" style=\"display:inline;vertical-align:middle;\" /></a></td></tr>\n",
       "<tr><td>11</td><td>Operation</td><td>operator:&nbsp;13<br>operand:&nbsp;16<br></td><td><a class=\"ProveItLink\" href=\"../74bda79a457c02599140b21413b04ffbdd5e3b220/expr.ipynb\"><img src=\"../74bda79a457c02599140b21413b04ffbdd5e3b220/expr.png\" style=\"display:inline;vertical-align:middle;\" /></a></td></tr>\n",
       "<tr><td>12</td><td>Conditional</td><td>value:&nbsp;15<br>condition:&nbsp;22<br></td><td><a class=\"ProveItLink\" href=\"../55637801696a7cf654cbb302fe7261156956eea00/expr.ipynb\"><img src=\"../55637801696a7cf654cbb302fe7261156956eea00/expr.png\" style=\"display:inline;vertical-align:middle;\" /></a></td></tr>\n",
       "<tr><td>13</td><td>Literal</td><td></td><td><a class=\"ProveItLink\" href=\"../../common/14fe61cccc388f91dfd83d3ca31cf27448cc070a0/expr.ipynb\"><img src=\"../../common/14fe61cccc388f91dfd83d3ca31cf27448cc070a0/expr.png\" style=\"display:inline;vertical-align:middle;\" /></a></td></tr>\n",
       "<tr><td>14</td><td>ExprTuple</td><td>16</td><td><a class=\"ProveItLink\" href=\"../f0c6309321086af361b90d2c46bbc722911690a80/expr.ipynb\"><img src=\"../f0c6309321086af361b90d2c46bbc722911690a80/expr.png\" style=\"display:inline;vertical-align:middle;\" /></a></td></tr>\n",
       "<tr><td>15</td><td>Operation</td><td>operator:&nbsp;17<br>operands:&nbsp;18<br></td><td><a class=\"ProveItLink\" href=\"../feab2e8462b3663674036c523de6f0753f3dffc90/expr.ipynb\"><img src=\"../feab2e8462b3663674036c523de6f0753f3dffc90/expr.png\" style=\"display:inline;vertical-align:middle;\" /></a></td></tr>\n",
       "<tr><td>16</td><td>Lambda</td><td>parameter:&nbsp;26<br>body:&nbsp;19<br></td><td><a class=\"ProveItLink\" href=\"../de19b6aaba8d18dc71d82a91cc171f0e1ea4699a0/expr.ipynb\"><img src=\"../de19b6aaba8d18dc71d82a91cc171f0e1ea4699a0/expr.png\" style=\"display:inline;vertical-align:middle;\" /></a></td></tr>\n",
       "<tr><td>17</td><td>Literal</td><td></td><td><a class=\"ProveItLink\" href=\"../../../../../logic/sets/membership/__pv_it/common/477487d8796864d23d5810f83761435f25167f690/expr.ipynb\"><img src=\"../../../../../logic/sets/membership/__pv_it/common/477487d8796864d23d5810f83761435f25167f690/expr.png\" style=\"display:inline;vertical-align:middle;\" /></a></td></tr>\n",
       "<tr><td>18</td><td>ExprTuple</td><td>21, 20</td><td><a class=\"ProveItLink\" href=\"../1c1bbbe5611ce17890baa8014d417f19b14fed600/expr.ipynb\"><img src=\"../1c1bbbe5611ce17890baa8014d417f19b14fed600/expr.png\" style=\"display:inline;vertical-align:middle;\" /></a></td></tr>\n",
       "<tr><td>19</td><td>Conditional</td><td>value:&nbsp;21<br>condition:&nbsp;22<br></td><td><a class=\"ProveItLink\" href=\"../3ed7475509b21b109700db43cebfa4f4c52fd0770/expr.ipynb\"><img src=\"../3ed7475509b21b109700db43cebfa4f4c52fd0770/expr.png\" style=\"display:inline;vertical-align:middle;\" /></a></td></tr>\n",
       "<tr><td>20</td><td>Literal</td><td></td><td><a class=\"ProveItLink\" href=\"../../../../number_sets/complex_numbers/__pv_it/common/d18a028138f659eda00de597c28a3447fe87eb100/expr.ipynb\"><img src=\"../../../../number_sets/complex_numbers/__pv_it/common/d18a028138f659eda00de597c28a3447fe87eb100/expr.png\" style=\"display:inline;vertical-align:middle;\" /></a></td></tr>\n",
       "<tr><td>21</td><td>Operation</td><td>operator:&nbsp;23<br>operand:&nbsp;26<br></td><td><a class=\"ProveItLink\" href=\"../../../../../__pv_it/common/6774f61458aed4cc9eb250f92b3634f1d09b19a40/expr.ipynb\"><img src=\"../../../../../__pv_it/common/6774f61458aed4cc9eb250f92b3634f1d09b19a40/expr.png\" style=\"display:inline;vertical-align:middle;\" /></a></td></tr>\n",
       "<tr><td>22</td><td>Operation</td><td>operator:&nbsp;24<br>operand:&nbsp;26<br></td><td><a class=\"ProveItLink\" href=\"../../../../../__pv_it/common/fce49534291e406d3d43684e225f1a2779a61f030/expr.ipynb\"><img src=\"../../../../../__pv_it/common/fce49534291e406d3d43684e225f1a2779a61f030/expr.png\" style=\"display:inline;vertical-align:middle;\" /></a></td></tr>\n",
       "<tr><td>23</td><td>Variable</td><td></td><td><a class=\"ProveItLink\" href=\"../../../../../__pv_it/common/01b6dbb444a31fc38af4c2379badef6c75b363710/expr.ipynb\"><img src=\"../../../../../__pv_it/common/01b6dbb444a31fc38af4c2379badef6c75b363710/expr.png\" style=\"display:inline;vertical-align:middle;\" /></a></td></tr>\n",
       "<tr><td>24</td><td>Variable</td><td></td><td><a class=\"ProveItLink\" href=\"../../../../../__pv_it/common/d72bb8b07403efe79afab564c36a28e21330e5f90/expr.ipynb\"><img src=\"../../../../../__pv_it/common/d72bb8b07403efe79afab564c36a28e21330e5f90/expr.png\" style=\"display:inline;vertical-align:middle;\" /></a></td></tr>\n",
       "<tr><td>25</td><td>ExprTuple</td><td>26</td><td><a class=\"ProveItLink\" href=\"../../../../../__pv_it/common/eacfeccc0521684fcb20fe8f5180ac50fca471f20/expr.ipynb\"><img src=\"../../../../../__pv_it/common/eacfeccc0521684fcb20fe8f5180ac50fca471f20/expr.png\" style=\"display:inline;vertical-align:middle;\" /></a></td></tr>\n",
       "<tr><td>26</td><td>Variable</td><td></td><td><a class=\"ProveItLink\" href=\"../../../../../__pv_it/common/a0d9d672aa5e272d907247690c152cc2c6daafb70/expr.ipynb\"><img src=\"../../../../../__pv_it/common/a0d9d672aa5e272d907247690c152cc2c6daafb70/expr.png\" style=\"display:inline;vertical-align:middle;\" /></a></td></tr>\n",
       "</table>\n"
      ],
      "text/plain": [
       "0. (f, Q) -> ([forall_{x | Q(x)} (f(x) in Complex)] => ([Sum_{x | Q(x)} f(x)] in Complex))\n",
       "   core type: Lambda\n",
       "   parameters: 1\\n   body: 2\n",
       "1. (f, Q)\n",
       "   core type: ExprTuple\n",
       "   sub-expressions: 23, 24\n",
       "2. [forall_{x | Q(x)} (f(x) in Complex)] => ([Sum_{x | Q(x)} f(x)] in Complex)\n",
       "   core type: Operation\n",
       "   operator: 3\n",
       "   operands: 4\n",
       "3. =>\n",
       "   core type: Literal\n",
       "   sub-expressions: \n",
       "4. (forall_{x | Q(x)} (f(x) in Complex), [Sum_{x | Q(x)} f(x)] in Complex)\n",
       "   core type: ExprTuple\n",
       "   sub-expressions: 5, 6\n",
       "5. forall_{x | Q(x)} (f(x) in Complex)\n",
       "   core type: Operation\n",
       "   operator: 7\n",
       "   operand: 10\n",
       "6. [Sum_{x | Q(x)} f(x)] in Complex\n",
       "   core type: Operation\n",
       "   operator: 17\n",
       "   operands: 9\n",
       "7. forall\n",
       "   core type: Literal\n",
       "   sub-expressions: \n",
       "8. (x -> {f(x) in Complex if Q(x).)\n",
       "   core type: ExprTuple\n",
       "   sub-expressions: 10\n",
       "9. (Sum_{x | Q(x)} f(x), Complex)\n",
       "   core type: ExprTuple\n",
       "   sub-expressions: 11, 20\n",
       "10. x -> {f(x) in Complex if Q(x).\n",
       "    core type: Lambda\n",
       "    parameter: 26\n",
       "    body: 12\n",
       "11. Sum_{x | Q(x)} f(x)\n",
       "    core type: Operation\n",
       "    operator: 13\n",
       "    operand: 16\n",
       "12. {f(x) in Complex if Q(x).\n",
       "    core type: Conditional\n",
       "    value: 15\n",
       "    condition: 22\n",
       "13. Sum\n",
       "    core type: Literal\n",
       "    sub-expressions: \n",
       "14. (x -> {f(x) if Q(x).)\n",
       "    core type: ExprTuple\n",
       "    sub-expressions: 16\n",
       "15. f(x) in Complex\n",
       "    core type: Operation\n",
       "    operator: 17\n",
       "    operands: 18\n",
       "16. x -> {f(x) if Q(x).\n",
       "    core type: Lambda\n",
       "    parameter: 26\n",
       "    body: 19\n",
       "17. in\n",
       "    core type: Literal\n",
       "    sub-expressions: \n",
       "18. (f(x), Complex)\n",
       "    core type: ExprTuple\n",
       "    sub-expressions: 21, 20\n",
       "19. {f(x) if Q(x).\n",
       "    core type: Conditional\n",
       "    value: 21\n",
       "    condition: 22\n",
       "20. Complex\n",
       "    core type: Literal\n",
       "    sub-expressions: \n",
       "21. f(x)\n",
       "    core type: Operation\n",
       "    operator: 23\n",
       "    operand: 26\n",
       "22. Q(x)\n",
       "    core type: Operation\n",
       "    operator: 24\n",
       "    operand: 26\n",
       "23. f\n",
       "    core type: Variable\n",
       "    sub-expressions: \n",
       "24. Q\n",
       "    core type: Variable\n",
       "    sub-expressions: \n",
       "25. (x)\n",
       "    core type: ExprTuple\n",
       "    sub-expressions: 26\n",
       "26. x\n",
       "    core type: Variable\n",
       "    sub-expressions: "
      ]
     },
     "metadata": {},
     "output_type": "display_data"
    }
   ],
   "source": [
    "# display the expression information\n",
    "stored_expr.expr_info()"
   ]
  },
  {
   "cell_type": "code",
   "execution_count": null,
   "metadata": {},
   "outputs": [],
   "source": []
  }
 ],
 "metadata": {
  "kernelspec": {
   "display_name": "Python 3",
   "language": "python",
   "name": "python3"
  }
 },
 "nbformat": 4,
 "nbformat_minor": 0
}