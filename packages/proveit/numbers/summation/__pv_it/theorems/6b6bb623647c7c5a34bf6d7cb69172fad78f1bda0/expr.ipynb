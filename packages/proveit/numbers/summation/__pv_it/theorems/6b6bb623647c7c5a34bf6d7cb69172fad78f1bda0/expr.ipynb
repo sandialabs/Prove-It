{
 "cells": [
  {
   "cell_type": "markdown",
   "metadata": {},
   "source": [
    "Expression of type <a class=\"ProveItLink\" href=\"../../../../../../../doc/html/api/proveit.ExprTuple.html\">ExprTuple</a>\n",
    "=======================\n",
    "# from the theory of <a class=\"ProveItLink\" href=\"../../../_theory_nbs_/theory.ipynb\">proveit.numbers.summation</a>"
   ]
  },
  {
   "cell_type": "code",
   "execution_count": 1,
   "metadata": {},
   "outputs": [],
   "source": [
    "import proveit\n",
    "# Automation is not needed when building an expression:\n",
    "proveit.defaults.automation = False # This will speed things up.\n",
    "proveit.defaults.inline_pngs = False # Makes files smaller.\n",
    "%load_expr # Load the stored expression as 'stored_expr'\n",
    "# import Expression classes needed to build the expression\n",
    "from proveit import ExprTuple, Lambda, S, a, b, k, l\n",
    "from proveit.logic import Forall, Implies\n",
    "from proveit.numbers import LessEq, Sum\n",
    "from proveit.numbers.summation import ak, al, bk, bl"
   ]
  },
  {
   "cell_type": "code",
   "execution_count": 2,
   "metadata": {},
   "outputs": [
    {
     "data": {
      "text/html": [
       "<strong id=\"expr\">expr:</strong> <a class=\"ProveItLink\" href=\"expr.ipynb\"><img src=\"expr.png\" style=\"display:inline;vertical-align:middle;\" /></a><br>"
      ],
      "text/plain": [
       "<IPython.core.display.HTML object>"
      ]
     },
     "metadata": {},
     "output_type": "display_data"
    }
   ],
   "source": [
    "# build up the expression from sub-expressions\n",
    "sub_expr1 = [l]\n",
    "expr = ExprTuple(Lambda([a, b, S], Implies(Forall(instance_param_or_params = [k], instance_expr = LessEq(ak, bk), domain = S), LessEq(Sum(index_or_indices = sub_expr1, summand = al, domain = S), Sum(index_or_indices = sub_expr1, summand = bl, domain = S)))))"
   ]
  },
  {
   "cell_type": "code",
   "execution_count": 3,
   "metadata": {},
   "outputs": [
    {
     "name": "stdout",
     "output_type": "stream",
     "text": [
      "Passed sanity check: expr matches stored_expr\n"
     ]
    }
   ],
   "source": [
    "# check that the built expression is the same as the stored expression\n",
    "assert expr == stored_expr\n",
    "assert expr._style_id == stored_expr._style_id\n",
    "print(\"Passed sanity check: expr matches stored_expr\")"
   ]
  },
  {
   "cell_type": "code",
   "execution_count": 4,
   "metadata": {},
   "outputs": [
    {
     "name": "stdout",
     "output_type": "stream",
     "text": [
      "\\left(\\left(a, b, S\\right) \\mapsto \\left(\\left[\\forall_{k \\in S}~\\left(a\\left(k\\right) \\leq b\\left(k\\right)\\right)\\right] \\Rightarrow \\left(\\left[\\sum_{l \\in S}~a\\left(l\\right)\\right] \\leq \\left[\\sum_{l \\in S}~b\\left(l\\right)\\right]\\right)\\right)\\right)\n"
     ]
    }
   ],
   "source": [
    "# Show the LaTeX representation of the expression for convenience if you need it.\n",
    "print(stored_expr.latex())"
   ]
  },
  {
   "cell_type": "code",
   "execution_count": 5,
   "metadata": {},
   "outputs": [
    {
     "data": {
      "text/html": [
       "no style options"
      ],
      "text/plain": [
       "no style options"
      ]
     },
     "metadata": {},
     "output_type": "display_data"
    }
   ],
   "source": [
    "stored_expr.style_options()"
   ]
  },
  {
   "cell_type": "code",
   "execution_count": 6,
   "metadata": {},
   "outputs": [
    {
     "data": {
      "text/html": [
       "<table><tr><th>&nbsp;</th><th>core type</th><th>sub-expressions</th><th>expression</th></tr>\n",
       "<tr><td>0</td><td>ExprTuple</td><td>1</td><td><a class=\"ProveItLink\" href=\"expr.ipynb\"><img src=\"expr.png\" style=\"display:inline;vertical-align:middle;\" /></a></td></tr>\n",
       "<tr><td>1</td><td>Lambda</td><td>parameters:&nbsp;2<br>body:&nbsp;3<br></td><td><a class=\"ProveItLink\" href=\"../2ef80dc212f57a6c276375db80c597f0f6f65eb30/expr.ipynb\"><img src=\"../2ef80dc212f57a6c276375db80c597f0f6f65eb30/expr.png\" style=\"display:inline;vertical-align:middle;\" /></a></td></tr>\n",
       "<tr><td>2</td><td>ExprTuple</td><td>33, 34, 40</td><td><a class=\"ProveItLink\" href=\"../7b06432f81930d5f8e66f3b93522b92d5c190d7a0/expr.ipynb\"><img src=\"../7b06432f81930d5f8e66f3b93522b92d5c190d7a0/expr.png\" style=\"display:inline;vertical-align:middle;\" /></a></td></tr>\n",
       "<tr><td>3</td><td>Operation</td><td>operator:&nbsp;4<br>operands:&nbsp;5<br></td><td><a class=\"ProveItLink\" href=\"../ea0d263f88ca2edd384fdd0b9d9f161e6d5312ab0/expr.ipynb\"><img src=\"../ea0d263f88ca2edd384fdd0b9d9f161e6d5312ab0/expr.png\" style=\"display:inline;vertical-align:middle;\" /></a></td></tr>\n",
       "<tr><td>4</td><td>Literal</td><td></td><td><a class=\"ProveItLink\" href=\"../../../../../logic/booleans/implication/__pv_it/common/02bdb382575728da8cdbaed545b9096ea7a1bd5b0/expr.ipynb\"><img src=\"../../../../../logic/booleans/implication/__pv_it/common/02bdb382575728da8cdbaed545b9096ea7a1bd5b0/expr.png\" style=\"display:inline;vertical-align:middle;\" /></a></td></tr>\n",
       "<tr><td>5</td><td>ExprTuple</td><td>6, 7</td><td><a class=\"ProveItLink\" href=\"../78e664b0e7841a53e6ac64e3daaa1a7cc96399e50/expr.ipynb\"><img src=\"../78e664b0e7841a53e6ac64e3daaa1a7cc96399e50/expr.png\" style=\"display:inline;vertical-align:middle;\" /></a></td></tr>\n",
       "<tr><td>6</td><td>Operation</td><td>operator:&nbsp;8<br>operand:&nbsp;11<br></td><td><a class=\"ProveItLink\" href=\"../cbac82f75026a1cebe41be3fcd82c9607b1673d90/expr.ipynb\"><img src=\"../cbac82f75026a1cebe41be3fcd82c9607b1673d90/expr.png\" style=\"display:inline;vertical-align:middle;\" /></a></td></tr>\n",
       "<tr><td>7</td><td>Operation</td><td>operator:&nbsp;22<br>operands:&nbsp;10<br></td><td><a class=\"ProveItLink\" href=\"../247ae35ca639371ad2d3323f2e8549af916ac1950/expr.ipynb\"><img src=\"../247ae35ca639371ad2d3323f2e8549af916ac1950/expr.png\" style=\"display:inline;vertical-align:middle;\" /></a></td></tr>\n",
       "<tr><td>8</td><td>Literal</td><td></td><td><a class=\"ProveItLink\" href=\"../../../../../logic/booleans/quantification/universality/__pv_it/common/083d2baa0b8ecab1d230f9ec29a15aa1355809fb0/expr.ipynb\"><img src=\"../../../../../logic/booleans/quantification/universality/__pv_it/common/083d2baa0b8ecab1d230f9ec29a15aa1355809fb0/expr.png\" style=\"display:inline;vertical-align:middle;\" /></a></td></tr>\n",
       "<tr><td>9</td><td>ExprTuple</td><td>11</td><td><a class=\"ProveItLink\" href=\"../be39f5a97267e80636437c920bae30ccadc667070/expr.ipynb\"><img src=\"../be39f5a97267e80636437c920bae30ccadc667070/expr.png\" style=\"display:inline;vertical-align:middle;\" /></a></td></tr>\n",
       "<tr><td>10</td><td>ExprTuple</td><td>12, 13</td><td><a class=\"ProveItLink\" href=\"../ca02438279207192520d168cd50915c090cded470/expr.ipynb\"><img src=\"../ca02438279207192520d168cd50915c090cded470/expr.png\" style=\"display:inline;vertical-align:middle;\" /></a></td></tr>\n",
       "<tr><td>11</td><td>Lambda</td><td>parameter:&nbsp;38<br>body:&nbsp;14<br></td><td><a class=\"ProveItLink\" href=\"../0852ba5af0018041075074f30702fdd2b6f6d8c60/expr.ipynb\"><img src=\"../0852ba5af0018041075074f30702fdd2b6f6d8c60/expr.png\" style=\"display:inline;vertical-align:middle;\" /></a></td></tr>\n",
       "<tr><td>12</td><td>Operation</td><td>operator:&nbsp;16<br>operand:&nbsp;20<br></td><td><a class=\"ProveItLink\" href=\"../43ff2fb107bd83bc78621e00567b5ad28c842e8f0/expr.ipynb\"><img src=\"../43ff2fb107bd83bc78621e00567b5ad28c842e8f0/expr.png\" style=\"display:inline;vertical-align:middle;\" /></a></td></tr>\n",
       "<tr><td>13</td><td>Operation</td><td>operator:&nbsp;16<br>operand:&nbsp;21<br></td><td><a class=\"ProveItLink\" href=\"../83dd65af9bb7b36d7430a8bd91dc10e60c5a15eb0/expr.ipynb\"><img src=\"../83dd65af9bb7b36d7430a8bd91dc10e60c5a15eb0/expr.png\" style=\"display:inline;vertical-align:middle;\" /></a></td></tr>\n",
       "<tr><td>14</td><td>Conditional</td><td>value:&nbsp;18<br>condition:&nbsp;19<br></td><td><a class=\"ProveItLink\" href=\"../92892cccd334c14f33efa97ba57a2025eb60342f0/expr.ipynb\"><img src=\"../92892cccd334c14f33efa97ba57a2025eb60342f0/expr.png\" style=\"display:inline;vertical-align:middle;\" /></a></td></tr>\n",
       "<tr><td>15</td><td>ExprTuple</td><td>20</td><td><a class=\"ProveItLink\" href=\"../423b43fc7e84e704a8b0059f192c305d710ca8520/expr.ipynb\"><img src=\"../423b43fc7e84e704a8b0059f192c305d710ca8520/expr.png\" style=\"display:inline;vertical-align:middle;\" /></a></td></tr>\n",
       "<tr><td>16</td><td>Literal</td><td></td><td><a class=\"ProveItLink\" href=\"../../common/14fe61cccc388f91dfd83d3ca31cf27448cc070a0/expr.ipynb\"><img src=\"../../common/14fe61cccc388f91dfd83d3ca31cf27448cc070a0/expr.png\" style=\"display:inline;vertical-align:middle;\" /></a></td></tr>\n",
       "<tr><td>17</td><td>ExprTuple</td><td>21</td><td><a class=\"ProveItLink\" href=\"../dbfc7b64badf52549a40204119b5f1811b1ea33c0/expr.ipynb\"><img src=\"../dbfc7b64badf52549a40204119b5f1811b1ea33c0/expr.png\" style=\"display:inline;vertical-align:middle;\" /></a></td></tr>\n",
       "<tr><td>18</td><td>Operation</td><td>operator:&nbsp;22<br>operands:&nbsp;23<br></td><td><a class=\"ProveItLink\" href=\"../d12e6a6611d3296ff4753c197f9db774bd3f51a90/expr.ipynb\"><img src=\"../d12e6a6611d3296ff4753c197f9db774bd3f51a90/expr.png\" style=\"display:inline;vertical-align:middle;\" /></a></td></tr>\n",
       "<tr><td>19</td><td>Operation</td><td>operator:&nbsp;36<br>operands:&nbsp;24<br></td><td><a class=\"ProveItLink\" href=\"../2dd2573be290d2f60e91b6ab147b56c2999c28340/expr.ipynb\"><img src=\"../2dd2573be290d2f60e91b6ab147b56c2999c28340/expr.png\" style=\"display:inline;vertical-align:middle;\" /></a></td></tr>\n",
       "<tr><td>20</td><td>Lambda</td><td>parameter:&nbsp;39<br>body:&nbsp;25<br></td><td><a class=\"ProveItLink\" href=\"../0fb27d461f9bc4ced5ab4b2917f2a9194af961880/expr.ipynb\"><img src=\"../0fb27d461f9bc4ced5ab4b2917f2a9194af961880/expr.png\" style=\"display:inline;vertical-align:middle;\" /></a></td></tr>\n",
       "<tr><td>21</td><td>Lambda</td><td>parameter:&nbsp;39<br>body:&nbsp;26<br></td><td><a class=\"ProveItLink\" href=\"../85ed8cf4fd4f4427a88e69c95a519c15ec2be3bc0/expr.ipynb\"><img src=\"../85ed8cf4fd4f4427a88e69c95a519c15ec2be3bc0/expr.png\" style=\"display:inline;vertical-align:middle;\" /></a></td></tr>\n",
       "<tr><td>22</td><td>Literal</td><td></td><td><a class=\"ProveItLink\" href=\"../../../../ordering/__pv_it/common/68379698d72b4689bbda4b5c5cca29ee599d70280/expr.ipynb\"><img src=\"../../../../ordering/__pv_it/common/68379698d72b4689bbda4b5c5cca29ee599d70280/expr.png\" style=\"display:inline;vertical-align:middle;\" /></a></td></tr>\n",
       "<tr><td>23</td><td>ExprTuple</td><td>27, 28</td><td><a class=\"ProveItLink\" href=\"../a0002d5c97a2d474225fb3b725c171452ae4f58f0/expr.ipynb\"><img src=\"../a0002d5c97a2d474225fb3b725c171452ae4f58f0/expr.png\" style=\"display:inline;vertical-align:middle;\" /></a></td></tr>\n",
       "<tr><td>24</td><td>ExprTuple</td><td>38, 40</td><td><a class=\"ProveItLink\" href=\"../1b17594adf91652399c988cfe2ef038edc647f750/expr.ipynb\"><img src=\"../1b17594adf91652399c988cfe2ef038edc647f750/expr.png\" style=\"display:inline;vertical-align:middle;\" /></a></td></tr>\n",
       "<tr><td>25</td><td>Conditional</td><td>value:&nbsp;29<br>condition:&nbsp;31<br></td><td><a class=\"ProveItLink\" href=\"../73269efaec1a97e018c20e42b1e3c3b4f076892b0/expr.ipynb\"><img src=\"../73269efaec1a97e018c20e42b1e3c3b4f076892b0/expr.png\" style=\"display:inline;vertical-align:middle;\" /></a></td></tr>\n",
       "<tr><td>26</td><td>Conditional</td><td>value:&nbsp;30<br>condition:&nbsp;31<br></td><td><a class=\"ProveItLink\" href=\"../a10344bb8c1c4fff9a680d6b3036c447a9366be00/expr.ipynb\"><img src=\"../a10344bb8c1c4fff9a680d6b3036c447a9366be00/expr.png\" style=\"display:inline;vertical-align:middle;\" /></a></td></tr>\n",
       "<tr><td>27</td><td>Operation</td><td>operator:&nbsp;33<br>operand:&nbsp;38<br></td><td><a class=\"ProveItLink\" href=\"../../common/980b3b81881cce4e1355f17d00e15a3802d84e590/expr.ipynb\"><img src=\"../../common/980b3b81881cce4e1355f17d00e15a3802d84e590/expr.png\" style=\"display:inline;vertical-align:middle;\" /></a></td></tr>\n",
       "<tr><td>28</td><td>Operation</td><td>operator:&nbsp;34<br>operand:&nbsp;38<br></td><td><a class=\"ProveItLink\" href=\"../../common/12c9a4f9cb30b68a44cfb890ea77cbc808445a1e0/expr.ipynb\"><img src=\"../../common/12c9a4f9cb30b68a44cfb890ea77cbc808445a1e0/expr.png\" style=\"display:inline;vertical-align:middle;\" /></a></td></tr>\n",
       "<tr><td>29</td><td>Operation</td><td>operator:&nbsp;33<br>operand:&nbsp;39<br></td><td><a class=\"ProveItLink\" href=\"../../common/6500d1e53ccfdc2fa3c4da2b521a7de7599c7c840/expr.ipynb\"><img src=\"../../common/6500d1e53ccfdc2fa3c4da2b521a7de7599c7c840/expr.png\" style=\"display:inline;vertical-align:middle;\" /></a></td></tr>\n",
       "<tr><td>30</td><td>Operation</td><td>operator:&nbsp;34<br>operand:&nbsp;39<br></td><td><a class=\"ProveItLink\" href=\"../../common/5516068587db962dce0f2e50f02d4c4c929305110/expr.ipynb\"><img src=\"../../common/5516068587db962dce0f2e50f02d4c4c929305110/expr.png\" style=\"display:inline;vertical-align:middle;\" /></a></td></tr>\n",
       "<tr><td>31</td><td>Operation</td><td>operator:&nbsp;36<br>operands:&nbsp;37<br></td><td><a class=\"ProveItLink\" href=\"../abc8c2d36f39e49dc8db73f274e3acd1ee9cb1590/expr.ipynb\"><img src=\"../abc8c2d36f39e49dc8db73f274e3acd1ee9cb1590/expr.png\" style=\"display:inline;vertical-align:middle;\" /></a></td></tr>\n",
       "<tr><td>32</td><td>ExprTuple</td><td>38</td><td><a class=\"ProveItLink\" href=\"../../common/36569ebfbef1eee76da90134ba3a4620a4cb94130/expr.ipynb\"><img src=\"../../common/36569ebfbef1eee76da90134ba3a4620a4cb94130/expr.png\" style=\"display:inline;vertical-align:middle;\" /></a></td></tr>\n",
       "<tr><td>33</td><td>Variable</td><td></td><td><a class=\"ProveItLink\" href=\"../../../../../__pv_it/common/c06c606ec12678c58933ac85412ecadc2ae28be60/expr.ipynb\"><img src=\"../../../../../__pv_it/common/c06c606ec12678c58933ac85412ecadc2ae28be60/expr.png\" style=\"display:inline;vertical-align:middle;\" /></a></td></tr>\n",
       "<tr><td>34</td><td>Variable</td><td></td><td><a class=\"ProveItLink\" href=\"../../../../../__pv_it/common/195236b98c6c564a75b5dbada74b173bc52d5c3e0/expr.ipynb\"><img src=\"../../../../../__pv_it/common/195236b98c6c564a75b5dbada74b173bc52d5c3e0/expr.png\" style=\"display:inline;vertical-align:middle;\" /></a></td></tr>\n",
       "<tr><td>35</td><td>ExprTuple</td><td>39</td><td><a class=\"ProveItLink\" href=\"../../common/039a14dbb9d0bf99f342285bcbd227a70d804d7f0/expr.ipynb\"><img src=\"../../common/039a14dbb9d0bf99f342285bcbd227a70d804d7f0/expr.png\" style=\"display:inline;vertical-align:middle;\" /></a></td></tr>\n",
       "<tr><td>36</td><td>Literal</td><td></td><td><a class=\"ProveItLink\" href=\"../../../../../logic/sets/membership/__pv_it/common/477487d8796864d23d5810f83761435f25167f690/expr.ipynb\"><img src=\"../../../../../logic/sets/membership/__pv_it/common/477487d8796864d23d5810f83761435f25167f690/expr.png\" style=\"display:inline;vertical-align:middle;\" /></a></td></tr>\n",
       "<tr><td>37</td><td>ExprTuple</td><td>39, 40</td><td><a class=\"ProveItLink\" href=\"../618addc020802742dbe4bcd803917b70412538870/expr.ipynb\"><img src=\"../618addc020802742dbe4bcd803917b70412538870/expr.png\" style=\"display:inline;vertical-align:middle;\" /></a></td></tr>\n",
       "<tr><td>38</td><td>Variable</td><td></td><td><a class=\"ProveItLink\" href=\"../../../../../__pv_it/common/63b7c64bf9ec7a04ecc396c7a1670f3f12fb59490/expr.ipynb\"><img src=\"../../../../../__pv_it/common/63b7c64bf9ec7a04ecc396c7a1670f3f12fb59490/expr.png\" style=\"display:inline;vertical-align:middle;\" /></a></td></tr>\n",
       "<tr><td>39</td><td>Variable</td><td></td><td><a class=\"ProveItLink\" href=\"../../../../../__pv_it/common/27cc275d44b4f4499fb9ccfb3fab1a98165d2fa60/expr.ipynb\"><img src=\"../../../../../__pv_it/common/27cc275d44b4f4499fb9ccfb3fab1a98165d2fa60/expr.png\" style=\"display:inline;vertical-align:middle;\" /></a></td></tr>\n",
       "<tr><td>40</td><td>Variable</td><td></td><td><a class=\"ProveItLink\" href=\"../../../../../__pv_it/common/38f47c5670ea8c5b56253448e95d8afb56bc09b40/expr.ipynb\"><img src=\"../../../../../__pv_it/common/38f47c5670ea8c5b56253448e95d8afb56bc09b40/expr.png\" style=\"display:inline;vertical-align:middle;\" /></a></td></tr>\n",
       "</table>\n"
      ],
      "text/plain": [
       "0. ((a, b, S) -> ([forall_{k in S} (a(k) <= b(k))] => ([Sum_{l in S} a(l)] <= [Sum_{l in S} b(l)])))\n",
       "   core type: ExprTuple\n",
       "   sub-expressions: 1\n",
       "1. (a, b, S) -> ([forall_{k in S} (a(k) <= b(k))] => ([Sum_{l in S} a(l)] <= [Sum_{l in S} b(l)]))\n",
       "   core type: Lambda\n",
       "   parameters: 2\\n   body: 3\n",
       "2. (a, b, S)\n",
       "   core type: ExprTuple\n",
       "   sub-expressions: 33, 34, 40\n",
       "3. [forall_{k in S} (a(k) <= b(k))] => ([Sum_{l in S} a(l)] <= [Sum_{l in S} b(l)])\n",
       "   core type: Operation\n",
       "   operator: 4\n",
       "   operands: 5\n",
       "4. =>\n",
       "   core type: Literal\n",
       "   sub-expressions: \n",
       "5. (forall_{k in S} (a(k) <= b(k)), [Sum_{l in S} a(l)] <= [Sum_{l in S} b(l)])\n",
       "   core type: ExprTuple\n",
       "   sub-expressions: 6, 7\n",
       "6. forall_{k in S} (a(k) <= b(k))\n",
       "   core type: Operation\n",
       "   operator: 8\n",
       "   operand: 11\n",
       "7. [Sum_{l in S} a(l)] <= [Sum_{l in S} b(l)]\n",
       "   core type: Operation\n",
       "   operator: 22\n",
       "   operands: 10\n",
       "8. forall\n",
       "   core type: Literal\n",
       "   sub-expressions: \n",
       "9. (k -> {a(k) <= b(k) if k in S.)\n",
       "   core type: ExprTuple\n",
       "   sub-expressions: 11\n",
       "10. (Sum_{l in S} a(l), Sum_{l in S} b(l))\n",
       "    core type: ExprTuple\n",
       "    sub-expressions: 12, 13\n",
       "11. k -> {a(k) <= b(k) if k in S.\n",
       "    core type: Lambda\n",
       "    parameter: 38\n",
       "    body: 14\n",
       "12. Sum_{l in S} a(l)\n",
       "    core type: Operation\n",
       "    operator: 16\n",
       "    operand: 20\n",
       "13. Sum_{l in S} b(l)\n",
       "    core type: Operation\n",
       "    operator: 16\n",
       "    operand: 21\n",
       "14. {a(k) <= b(k) if k in S.\n",
       "    core type: Conditional\n",
       "    value: 18\n",
       "    condition: 19\n",
       "15. (l -> {a(l) if l in S.)\n",
       "    core type: ExprTuple\n",
       "    sub-expressions: 20\n",
       "16. Sum\n",
       "    core type: Literal\n",
       "    sub-expressions: \n",
       "17. (l -> {b(l) if l in S.)\n",
       "    core type: ExprTuple\n",
       "    sub-expressions: 21\n",
       "18. a(k) <= b(k)\n",
       "    core type: Operation\n",
       "    operator: 22\n",
       "    operands: 23\n",
       "19. k in S\n",
       "    core type: Operation\n",
       "    operator: 36\n",
       "    operands: 24\n",
       "20. l -> {a(l) if l in S.\n",
       "    core type: Lambda\n",
       "    parameter: 39\n",
       "    body: 25\n",
       "21. l -> {b(l) if l in S.\n",
       "    core type: Lambda\n",
       "    parameter: 39\n",
       "    body: 26\n",
       "22. <=\n",
       "    core type: Literal\n",
       "    sub-expressions: \n",
       "23. (a(k), b(k))\n",
       "    core type: ExprTuple\n",
       "    sub-expressions: 27, 28\n",
       "24. (k, S)\n",
       "    core type: ExprTuple\n",
       "    sub-expressions: 38, 40\n",
       "25. {a(l) if l in S.\n",
       "    core type: Conditional\n",
       "    value: 29\n",
       "    condition: 31\n",
       "26. {b(l) if l in S.\n",
       "    core type: Conditional\n",
       "    value: 30\n",
       "    condition: 31\n",
       "27. a(k)\n",
       "    core type: Operation\n",
       "    operator: 33\n",
       "    operand: 38\n",
       "28. b(k)\n",
       "    core type: Operation\n",
       "    operator: 34\n",
       "    operand: 38\n",
       "29. a(l)\n",
       "    core type: Operation\n",
       "    operator: 33\n",
       "    operand: 39\n",
       "30. b(l)\n",
       "    core type: Operation\n",
       "    operator: 34\n",
       "    operand: 39\n",
       "31. l in S\n",
       "    core type: Operation\n",
       "    operator: 36\n",
       "    operands: 37\n",
       "32. (k)\n",
       "    core type: ExprTuple\n",
       "    sub-expressions: 38\n",
       "33. a\n",
       "    core type: Variable\n",
       "    sub-expressions: \n",
       "34. b\n",
       "    core type: Variable\n",
       "    sub-expressions: \n",
       "35. (l)\n",
       "    core type: ExprTuple\n",
       "    sub-expressions: 39\n",
       "36. in\n",
       "    core type: Literal\n",
       "    sub-expressions: \n",
       "37. (l, S)\n",
       "    core type: ExprTuple\n",
       "    sub-expressions: 39, 40\n",
       "38. k\n",
       "    core type: Variable\n",
       "    sub-expressions: \n",
       "39. l\n",
       "    core type: Variable\n",
       "    sub-expressions: \n",
       "40. S\n",
       "    core type: Variable\n",
       "    sub-expressions: "
      ]
     },
     "metadata": {},
     "output_type": "display_data"
    }
   ],
   "source": [
    "# display the expression information\n",
    "stored_expr.expr_info()"
   ]
  },
  {
   "cell_type": "code",
   "execution_count": null,
   "metadata": {},
   "outputs": [],
   "source": []
  }
 ],
 "metadata": {
  "kernelspec": {
   "display_name": "Python 3",
   "language": "python",
   "name": "python3"
  }
 },
 "nbformat": 4,
 "nbformat_minor": 0
}