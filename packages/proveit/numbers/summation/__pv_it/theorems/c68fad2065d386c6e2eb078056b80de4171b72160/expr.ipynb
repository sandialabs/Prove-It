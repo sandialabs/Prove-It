{
 "cells": [
  {
   "cell_type": "markdown",
   "metadata": {},
   "source": [
    "Expression of type <a class=\"ProveItLink\" href=\"../../../../../../../doc/html/api/proveit.ExprTuple.html\">ExprTuple</a>\n",
    "=======================\n",
    "# from the theory of <a class=\"ProveItLink\" href=\"../../../_theory_nbs_/theory.ipynb\">proveit.numbers.summation</a>"
   ]
  },
  {
   "cell_type": "code",
   "execution_count": 1,
   "metadata": {},
   "outputs": [],
   "source": [
    "import proveit\n",
    "# Automation is not needed when building an expression:\n",
    "proveit.defaults.automation = False # This will speed things up.\n",
    "proveit.defaults.inline_pngs = False # Makes files smaller.\n",
    "%load_expr # Load the stored expression as 'stored_expr'\n",
    "# import Expression classes needed to build the expression\n",
    "from proveit import ExprTuple, S, k, l\n",
    "from proveit.logic import Forall\n",
    "from proveit.numbers import Less, Sum\n",
    "from proveit.numbers.summation import ak, al, bk, bl"
   ]
  },
  {
   "cell_type": "code",
   "execution_count": 2,
   "metadata": {},
   "outputs": [
    {
     "data": {
      "text/html": [
       "<strong id=\"expr\">expr:</strong> <a class=\"ProveItLink\" href=\"expr.ipynb\"><img src=\"expr.png\" style=\"display:inline;vertical-align:middle;\" /></a><br>"
      ],
      "text/plain": [
       "<IPython.core.display.HTML object>"
      ]
     },
     "metadata": {},
     "output_type": "display_data"
    }
   ],
   "source": [
    "# build up the expression from sub-expressions\n",
    "sub_expr1 = [l]\n",
    "expr = ExprTuple(Forall(instance_param_or_params = [k], instance_expr = Less(ak, bk), domain = S), Less(Sum(index_or_indices = sub_expr1, summand = al, domain = S), Sum(index_or_indices = sub_expr1, summand = bl, domain = S)))"
   ]
  },
  {
   "cell_type": "code",
   "execution_count": 3,
   "metadata": {},
   "outputs": [
    {
     "name": "stdout",
     "output_type": "stream",
     "text": [
      "Passed sanity check: expr matches stored_expr\n"
     ]
    }
   ],
   "source": [
    "# check that the built expression is the same as the stored expression\n",
    "assert expr == stored_expr\n",
    "assert expr._style_id == stored_expr._style_id\n",
    "print(\"Passed sanity check: expr matches stored_expr\")"
   ]
  },
  {
   "cell_type": "code",
   "execution_count": 4,
   "metadata": {},
   "outputs": [
    {
     "name": "stdout",
     "output_type": "stream",
     "text": [
      "\\left(\\forall_{k \\in S}~\\left(a\\left(k\\right) < b\\left(k\\right)\\right), \\left[\\sum_{l \\in S}~a\\left(l\\right)\\right] < \\left[\\sum_{l \\in S}~b\\left(l\\right)\\right]\\right)\n"
     ]
    }
   ],
   "source": [
    "# Show the LaTeX representation of the expression for convenience if you need it.\n",
    "print(stored_expr.latex())"
   ]
  },
  {
   "cell_type": "code",
   "execution_count": 5,
   "metadata": {},
   "outputs": [
    {
     "data": {
      "text/html": [
       "<table>\n",
       "<tr><th>name</th><th>description</th><th>default</th><th>current value</th><th>related methods</th></tr><tr><td>wrap_positions</td><td>position(s) at which wrapping is to occur; 'n' is after the nth comma.</td><td>()</td><td>()</td><td>('with_wrapping_at',)</td></tr>\n",
       "<tr><td>justification</td><td>if any wrap positions are set, justify to the 'left', 'center', or 'right'</td><td>left</td><td>left</td><td>('with_justification',)</td></tr>\n",
       "</table>\n"
      ],
      "text/plain": [
       "style name: wrap_positions\n",
       "description: position(s) at which wrapping is to occur; 'n' is after the nth comma.\n",
       "default: ()\n",
       "current value: ()\n",
       "related methods: ('with_wrapping_at',)\n",
       "style name: justification\n",
       "description: if any wrap positions are set, justify to the 'left', 'center', or 'right'\n",
       "default: left\n",
       "current value: left\n",
       "related methods: ('with_justification',)"
      ]
     },
     "metadata": {},
     "output_type": "display_data"
    }
   ],
   "source": [
    "stored_expr.style_options()"
   ]
  },
  {
   "cell_type": "code",
   "execution_count": 6,
   "metadata": {},
   "outputs": [
    {
     "data": {
      "text/html": [
       "<table><tr><th>&nbsp;</th><th>core type</th><th>sub-expressions</th><th>expression</th></tr>\n",
       "<tr><td>0</td><td>ExprTuple</td><td>1, 2</td><td><a class=\"ProveItLink\" href=\"expr.ipynb\"><img src=\"expr.png\" style=\"display:inline;vertical-align:middle;\" /></a></td></tr>\n",
       "<tr><td>1</td><td>Operation</td><td>operator:&nbsp;3<br>operand:&nbsp;6<br></td><td><a class=\"ProveItLink\" href=\"../454d245c8f29d23d3f2e1204672d58bbc8945b6d0/expr.ipynb\"><img src=\"../454d245c8f29d23d3f2e1204672d58bbc8945b6d0/expr.png\" style=\"display:inline;vertical-align:middle;\" /></a></td></tr>\n",
       "<tr><td>2</td><td>Operation</td><td>operator:&nbsp;17<br>operands:&nbsp;5<br></td><td><a class=\"ProveItLink\" href=\"../58081377476cb47224c2617eade7aef9457055370/expr.ipynb\"><img src=\"../58081377476cb47224c2617eade7aef9457055370/expr.png\" style=\"display:inline;vertical-align:middle;\" /></a></td></tr>\n",
       "<tr><td>3</td><td>Literal</td><td></td><td><a class=\"ProveItLink\" href=\"../../../../../logic/booleans/quantification/universality/__pv_it/common/083d2baa0b8ecab1d230f9ec29a15aa1355809fb0/expr.ipynb\"><img src=\"../../../../../logic/booleans/quantification/universality/__pv_it/common/083d2baa0b8ecab1d230f9ec29a15aa1355809fb0/expr.png\" style=\"display:inline;vertical-align:middle;\" /></a></td></tr>\n",
       "<tr><td>4</td><td>ExprTuple</td><td>6</td><td><a class=\"ProveItLink\" href=\"../d8fea96e2b688f675af0cec85fb6bccb7054232b0/expr.ipynb\"><img src=\"../d8fea96e2b688f675af0cec85fb6bccb7054232b0/expr.png\" style=\"display:inline;vertical-align:middle;\" /></a></td></tr>\n",
       "<tr><td>5</td><td>ExprTuple</td><td>7, 8</td><td><a class=\"ProveItLink\" href=\"../ca02438279207192520d168cd50915c090cded470/expr.ipynb\"><img src=\"../ca02438279207192520d168cd50915c090cded470/expr.png\" style=\"display:inline;vertical-align:middle;\" /></a></td></tr>\n",
       "<tr><td>6</td><td>Lambda</td><td>parameter:&nbsp;33<br>body:&nbsp;9<br></td><td><a class=\"ProveItLink\" href=\"../cb52f45bf82e0b7f96e1df5e4acc82539b64ae100/expr.ipynb\"><img src=\"../cb52f45bf82e0b7f96e1df5e4acc82539b64ae100/expr.png\" style=\"display:inline;vertical-align:middle;\" /></a></td></tr>\n",
       "<tr><td>7</td><td>Operation</td><td>operator:&nbsp;11<br>operand:&nbsp;15<br></td><td><a class=\"ProveItLink\" href=\"../43ff2fb107bd83bc78621e00567b5ad28c842e8f0/expr.ipynb\"><img src=\"../43ff2fb107bd83bc78621e00567b5ad28c842e8f0/expr.png\" style=\"display:inline;vertical-align:middle;\" /></a></td></tr>\n",
       "<tr><td>8</td><td>Operation</td><td>operator:&nbsp;11<br>operand:&nbsp;16<br></td><td><a class=\"ProveItLink\" href=\"../83dd65af9bb7b36d7430a8bd91dc10e60c5a15eb0/expr.ipynb\"><img src=\"../83dd65af9bb7b36d7430a8bd91dc10e60c5a15eb0/expr.png\" style=\"display:inline;vertical-align:middle;\" /></a></td></tr>\n",
       "<tr><td>9</td><td>Conditional</td><td>value:&nbsp;13<br>condition:&nbsp;14<br></td><td><a class=\"ProveItLink\" href=\"../3c78d2bf38fee732d19af09571f1b5c8647f3c820/expr.ipynb\"><img src=\"../3c78d2bf38fee732d19af09571f1b5c8647f3c820/expr.png\" style=\"display:inline;vertical-align:middle;\" /></a></td></tr>\n",
       "<tr><td>10</td><td>ExprTuple</td><td>15</td><td><a class=\"ProveItLink\" href=\"../423b43fc7e84e704a8b0059f192c305d710ca8520/expr.ipynb\"><img src=\"../423b43fc7e84e704a8b0059f192c305d710ca8520/expr.png\" style=\"display:inline;vertical-align:middle;\" /></a></td></tr>\n",
       "<tr><td>11</td><td>Literal</td><td></td><td><a class=\"ProveItLink\" href=\"../../common/14fe61cccc388f91dfd83d3ca31cf27448cc070a0/expr.ipynb\"><img src=\"../../common/14fe61cccc388f91dfd83d3ca31cf27448cc070a0/expr.png\" style=\"display:inline;vertical-align:middle;\" /></a></td></tr>\n",
       "<tr><td>12</td><td>ExprTuple</td><td>16</td><td><a class=\"ProveItLink\" href=\"../dbfc7b64badf52549a40204119b5f1811b1ea33c0/expr.ipynb\"><img src=\"../dbfc7b64badf52549a40204119b5f1811b1ea33c0/expr.png\" style=\"display:inline;vertical-align:middle;\" /></a></td></tr>\n",
       "<tr><td>13</td><td>Operation</td><td>operator:&nbsp;17<br>operands:&nbsp;18<br></td><td><a class=\"ProveItLink\" href=\"../323af56ce8ca16ed1283f74d432abb3eea63069c0/expr.ipynb\"><img src=\"../323af56ce8ca16ed1283f74d432abb3eea63069c0/expr.png\" style=\"display:inline;vertical-align:middle;\" /></a></td></tr>\n",
       "<tr><td>14</td><td>Operation</td><td>operator:&nbsp;31<br>operands:&nbsp;19<br></td><td><a class=\"ProveItLink\" href=\"../2dd2573be290d2f60e91b6ab147b56c2999c28340/expr.ipynb\"><img src=\"../2dd2573be290d2f60e91b6ab147b56c2999c28340/expr.png\" style=\"display:inline;vertical-align:middle;\" /></a></td></tr>\n",
       "<tr><td>15</td><td>Lambda</td><td>parameter:&nbsp;34<br>body:&nbsp;20<br></td><td><a class=\"ProveItLink\" href=\"../0fb27d461f9bc4ced5ab4b2917f2a9194af961880/expr.ipynb\"><img src=\"../0fb27d461f9bc4ced5ab4b2917f2a9194af961880/expr.png\" style=\"display:inline;vertical-align:middle;\" /></a></td></tr>\n",
       "<tr><td>16</td><td>Lambda</td><td>parameter:&nbsp;34<br>body:&nbsp;21<br></td><td><a class=\"ProveItLink\" href=\"../85ed8cf4fd4f4427a88e69c95a519c15ec2be3bc0/expr.ipynb\"><img src=\"../85ed8cf4fd4f4427a88e69c95a519c15ec2be3bc0/expr.png\" style=\"display:inline;vertical-align:middle;\" /></a></td></tr>\n",
       "<tr><td>17</td><td>Literal</td><td></td><td><a class=\"ProveItLink\" href=\"../../../../ordering/__pv_it/common/fa503ed52033522c609eef1cf3e1b45796489da50/expr.ipynb\"><img src=\"../../../../ordering/__pv_it/common/fa503ed52033522c609eef1cf3e1b45796489da50/expr.png\" style=\"display:inline;vertical-align:middle;\" /></a></td></tr>\n",
       "<tr><td>18</td><td>ExprTuple</td><td>22, 23</td><td><a class=\"ProveItLink\" href=\"../a0002d5c97a2d474225fb3b725c171452ae4f58f0/expr.ipynb\"><img src=\"../a0002d5c97a2d474225fb3b725c171452ae4f58f0/expr.png\" style=\"display:inline;vertical-align:middle;\" /></a></td></tr>\n",
       "<tr><td>19</td><td>ExprTuple</td><td>33, 35</td><td><a class=\"ProveItLink\" href=\"../1b17594adf91652399c988cfe2ef038edc647f750/expr.ipynb\"><img src=\"../1b17594adf91652399c988cfe2ef038edc647f750/expr.png\" style=\"display:inline;vertical-align:middle;\" /></a></td></tr>\n",
       "<tr><td>20</td><td>Conditional</td><td>value:&nbsp;24<br>condition:&nbsp;26<br></td><td><a class=\"ProveItLink\" href=\"../73269efaec1a97e018c20e42b1e3c3b4f076892b0/expr.ipynb\"><img src=\"../73269efaec1a97e018c20e42b1e3c3b4f076892b0/expr.png\" style=\"display:inline;vertical-align:middle;\" /></a></td></tr>\n",
       "<tr><td>21</td><td>Conditional</td><td>value:&nbsp;25<br>condition:&nbsp;26<br></td><td><a class=\"ProveItLink\" href=\"../a10344bb8c1c4fff9a680d6b3036c447a9366be00/expr.ipynb\"><img src=\"../a10344bb8c1c4fff9a680d6b3036c447a9366be00/expr.png\" style=\"display:inline;vertical-align:middle;\" /></a></td></tr>\n",
       "<tr><td>22</td><td>Operation</td><td>operator:&nbsp;28<br>operand:&nbsp;33<br></td><td><a class=\"ProveItLink\" href=\"../../common/980b3b81881cce4e1355f17d00e15a3802d84e590/expr.ipynb\"><img src=\"../../common/980b3b81881cce4e1355f17d00e15a3802d84e590/expr.png\" style=\"display:inline;vertical-align:middle;\" /></a></td></tr>\n",
       "<tr><td>23</td><td>Operation</td><td>operator:&nbsp;29<br>operand:&nbsp;33<br></td><td><a class=\"ProveItLink\" href=\"../../common/12c9a4f9cb30b68a44cfb890ea77cbc808445a1e0/expr.ipynb\"><img src=\"../../common/12c9a4f9cb30b68a44cfb890ea77cbc808445a1e0/expr.png\" style=\"display:inline;vertical-align:middle;\" /></a></td></tr>\n",
       "<tr><td>24</td><td>Operation</td><td>operator:&nbsp;28<br>operand:&nbsp;34<br></td><td><a class=\"ProveItLink\" href=\"../../common/6500d1e53ccfdc2fa3c4da2b521a7de7599c7c840/expr.ipynb\"><img src=\"../../common/6500d1e53ccfdc2fa3c4da2b521a7de7599c7c840/expr.png\" style=\"display:inline;vertical-align:middle;\" /></a></td></tr>\n",
       "<tr><td>25</td><td>Operation</td><td>operator:&nbsp;29<br>operand:&nbsp;34<br></td><td><a class=\"ProveItLink\" href=\"../../common/5516068587db962dce0f2e50f02d4c4c929305110/expr.ipynb\"><img src=\"../../common/5516068587db962dce0f2e50f02d4c4c929305110/expr.png\" style=\"display:inline;vertical-align:middle;\" /></a></td></tr>\n",
       "<tr><td>26</td><td>Operation</td><td>operator:&nbsp;31<br>operands:&nbsp;32<br></td><td><a class=\"ProveItLink\" href=\"../abc8c2d36f39e49dc8db73f274e3acd1ee9cb1590/expr.ipynb\"><img src=\"../abc8c2d36f39e49dc8db73f274e3acd1ee9cb1590/expr.png\" style=\"display:inline;vertical-align:middle;\" /></a></td></tr>\n",
       "<tr><td>27</td><td>ExprTuple</td><td>33</td><td><a class=\"ProveItLink\" href=\"../../common/36569ebfbef1eee76da90134ba3a4620a4cb94130/expr.ipynb\"><img src=\"../../common/36569ebfbef1eee76da90134ba3a4620a4cb94130/expr.png\" style=\"display:inline;vertical-align:middle;\" /></a></td></tr>\n",
       "<tr><td>28</td><td>Variable</td><td></td><td><a class=\"ProveItLink\" href=\"../../../../../__pv_it/common/c06c606ec12678c58933ac85412ecadc2ae28be60/expr.ipynb\"><img src=\"../../../../../__pv_it/common/c06c606ec12678c58933ac85412ecadc2ae28be60/expr.png\" style=\"display:inline;vertical-align:middle;\" /></a></td></tr>\n",
       "<tr><td>29</td><td>Variable</td><td></td><td><a class=\"ProveItLink\" href=\"../../../../../__pv_it/common/195236b98c6c564a75b5dbada74b173bc52d5c3e0/expr.ipynb\"><img src=\"../../../../../__pv_it/common/195236b98c6c564a75b5dbada74b173bc52d5c3e0/expr.png\" style=\"display:inline;vertical-align:middle;\" /></a></td></tr>\n",
       "<tr><td>30</td><td>ExprTuple</td><td>34</td><td><a class=\"ProveItLink\" href=\"../../common/039a14dbb9d0bf99f342285bcbd227a70d804d7f0/expr.ipynb\"><img src=\"../../common/039a14dbb9d0bf99f342285bcbd227a70d804d7f0/expr.png\" style=\"display:inline;vertical-align:middle;\" /></a></td></tr>\n",
       "<tr><td>31</td><td>Literal</td><td></td><td><a class=\"ProveItLink\" href=\"../../../../../logic/sets/membership/__pv_it/common/477487d8796864d23d5810f83761435f25167f690/expr.ipynb\"><img src=\"../../../../../logic/sets/membership/__pv_it/common/477487d8796864d23d5810f83761435f25167f690/expr.png\" style=\"display:inline;vertical-align:middle;\" /></a></td></tr>\n",
       "<tr><td>32</td><td>ExprTuple</td><td>34, 35</td><td><a class=\"ProveItLink\" href=\"../618addc020802742dbe4bcd803917b70412538870/expr.ipynb\"><img src=\"../618addc020802742dbe4bcd803917b70412538870/expr.png\" style=\"display:inline;vertical-align:middle;\" /></a></td></tr>\n",
       "<tr><td>33</td><td>Variable</td><td></td><td><a class=\"ProveItLink\" href=\"../../../../../__pv_it/common/63b7c64bf9ec7a04ecc396c7a1670f3f12fb59490/expr.ipynb\"><img src=\"../../../../../__pv_it/common/63b7c64bf9ec7a04ecc396c7a1670f3f12fb59490/expr.png\" style=\"display:inline;vertical-align:middle;\" /></a></td></tr>\n",
       "<tr><td>34</td><td>Variable</td><td></td><td><a class=\"ProveItLink\" href=\"../../../../../__pv_it/common/27cc275d44b4f4499fb9ccfb3fab1a98165d2fa60/expr.ipynb\"><img src=\"../../../../../__pv_it/common/27cc275d44b4f4499fb9ccfb3fab1a98165d2fa60/expr.png\" style=\"display:inline;vertical-align:middle;\" /></a></td></tr>\n",
       "<tr><td>35</td><td>Variable</td><td></td><td><a class=\"ProveItLink\" href=\"../../../../../__pv_it/common/38f47c5670ea8c5b56253448e95d8afb56bc09b40/expr.ipynb\"><img src=\"../../../../../__pv_it/common/38f47c5670ea8c5b56253448e95d8afb56bc09b40/expr.png\" style=\"display:inline;vertical-align:middle;\" /></a></td></tr>\n",
       "</table>\n"
      ],
      "text/plain": [
       "0. (forall_{k in S} (a(k) < b(k)), [Sum_{l in S} a(l)] < [Sum_{l in S} b(l)])\n",
       "   core type: ExprTuple\n",
       "   sub-expressions: 1, 2\n",
       "1. forall_{k in S} (a(k) < b(k))\n",
       "   core type: Operation\n",
       "   operator: 3\n",
       "   operand: 6\n",
       "2. [Sum_{l in S} a(l)] < [Sum_{l in S} b(l)]\n",
       "   core type: Operation\n",
       "   operator: 17\n",
       "   operands: 5\n",
       "3. forall\n",
       "   core type: Literal\n",
       "   sub-expressions: \n",
       "4. (k -> {a(k) < b(k) if k in S.)\n",
       "   core type: ExprTuple\n",
       "   sub-expressions: 6\n",
       "5. (Sum_{l in S} a(l), Sum_{l in S} b(l))\n",
       "   core type: ExprTuple\n",
       "   sub-expressions: 7, 8\n",
       "6. k -> {a(k) < b(k) if k in S.\n",
       "   core type: Lambda\n",
       "   parameter: 33\n",
       "   body: 9\n",
       "7. Sum_{l in S} a(l)\n",
       "   core type: Operation\n",
       "   operator: 11\n",
       "   operand: 15\n",
       "8. Sum_{l in S} b(l)\n",
       "   core type: Operation\n",
       "   operator: 11\n",
       "   operand: 16\n",
       "9. {a(k) < b(k) if k in S.\n",
       "   core type: Conditional\n",
       "   value: 13\n",
       "   condition: 14\n",
       "10. (l -> {a(l) if l in S.)\n",
       "    core type: ExprTuple\n",
       "    sub-expressions: 15\n",
       "11. Sum\n",
       "    core type: Literal\n",
       "    sub-expressions: \n",
       "12. (l -> {b(l) if l in S.)\n",
       "    core type: ExprTuple\n",
       "    sub-expressions: 16\n",
       "13. a(k) < b(k)\n",
       "    core type: Operation\n",
       "    operator: 17\n",
       "    operands: 18\n",
       "14. k in S\n",
       "    core type: Operation\n",
       "    operator: 31\n",
       "    operands: 19\n",
       "15. l -> {a(l) if l in S.\n",
       "    core type: Lambda\n",
       "    parameter: 34\n",
       "    body: 20\n",
       "16. l -> {b(l) if l in S.\n",
       "    core type: Lambda\n",
       "    parameter: 34\n",
       "    body: 21\n",
       "17. <\n",
       "    core type: Literal\n",
       "    sub-expressions: \n",
       "18. (a(k), b(k))\n",
       "    core type: ExprTuple\n",
       "    sub-expressions: 22, 23\n",
       "19. (k, S)\n",
       "    core type: ExprTuple\n",
       "    sub-expressions: 33, 35\n",
       "20. {a(l) if l in S.\n",
       "    core type: Conditional\n",
       "    value: 24\n",
       "    condition: 26\n",
       "21. {b(l) if l in S.\n",
       "    core type: Conditional\n",
       "    value: 25\n",
       "    condition: 26\n",
       "22. a(k)\n",
       "    core type: Operation\n",
       "    operator: 28\n",
       "    operand: 33\n",
       "23. b(k)\n",
       "    core type: Operation\n",
       "    operator: 29\n",
       "    operand: 33\n",
       "24. a(l)\n",
       "    core type: Operation\n",
       "    operator: 28\n",
       "    operand: 34\n",
       "25. b(l)\n",
       "    core type: Operation\n",
       "    operator: 29\n",
       "    operand: 34\n",
       "26. l in S\n",
       "    core type: Operation\n",
       "    operator: 31\n",
       "    operands: 32\n",
       "27. (k)\n",
       "    core type: ExprTuple\n",
       "    sub-expressions: 33\n",
       "28. a\n",
       "    core type: Variable\n",
       "    sub-expressions: \n",
       "29. b\n",
       "    core type: Variable\n",
       "    sub-expressions: \n",
       "30. (l)\n",
       "    core type: ExprTuple\n",
       "    sub-expressions: 34\n",
       "31. in\n",
       "    core type: Literal\n",
       "    sub-expressions: \n",
       "32. (l, S)\n",
       "    core type: ExprTuple\n",
       "    sub-expressions: 34, 35\n",
       "33. k\n",
       "    core type: Variable\n",
       "    sub-expressions: \n",
       "34. l\n",
       "    core type: Variable\n",
       "    sub-expressions: \n",
       "35. S\n",
       "    core type: Variable\n",
       "    sub-expressions: "
      ]
     },
     "metadata": {},
     "output_type": "display_data"
    }
   ],
   "source": [
    "# display the expression information\n",
    "stored_expr.expr_info()"
   ]
  },
  {
   "cell_type": "code",
   "execution_count": null,
   "metadata": {},
   "outputs": [],
   "source": []
  }
 ],
 "metadata": {
  "kernelspec": {
   "display_name": "Python 3",
   "language": "python",
   "name": "python3"
  }
 },
 "nbformat": 4,
 "nbformat_minor": 0
}