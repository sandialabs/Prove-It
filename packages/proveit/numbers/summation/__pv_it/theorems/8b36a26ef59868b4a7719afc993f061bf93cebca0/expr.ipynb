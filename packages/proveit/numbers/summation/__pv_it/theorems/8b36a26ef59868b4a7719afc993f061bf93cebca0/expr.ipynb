{
 "cells": [
  {
   "cell_type": "markdown",
   "metadata": {},
   "source": [
    "Expression of type <a class=\"ProveItLink\" href=\"../../../../../../../doc/html/api/proveit.Conditional.html\">Conditional</a>\n",
    "=======================\n",
    "# from the theory of <a class=\"ProveItLink\" href=\"../../../_theory_nbs_/theory.ipynb\">proveit.numbers.summation</a>"
   ]
  },
  {
   "cell_type": "code",
   "execution_count": 1,
   "metadata": {},
   "outputs": [],
   "source": [
    "import proveit\n",
    "# Automation is not needed when building an expression:\n",
    "proveit.defaults.automation = False # This will speed things up.\n",
    "proveit.defaults.inline_pngs = False # Makes files smaller.\n",
    "%load_expr # Load the stored expression as 'stored_expr'\n",
    "# import Expression classes needed to build the expression\n",
    "from proveit import Conditional, Function, f, g, k, l, m, n\n",
    "from proveit.logic import And, Equals, Forall, Implies, InSet\n",
    "from proveit.numbers import Integer, Interval, Sum"
   ]
  },
  {
   "cell_type": "code",
   "execution_count": 2,
   "metadata": {},
   "outputs": [
    {
     "data": {
      "text/html": [
       "<strong id=\"expr\">expr:</strong> <a class=\"ProveItLink\" href=\"expr.ipynb\"><img src=\"expr.png\" style=\"display:inline;vertical-align:middle;\" /></a><br>"
      ],
      "text/plain": [
       "<IPython.core.display.HTML object>"
      ]
     },
     "metadata": {},
     "output_type": "display_data"
    }
   ],
   "source": [
    "# build up the expression from sub-expressions\n",
    "sub_expr1 = [k]\n",
    "sub_expr2 = [l]\n",
    "sub_expr3 = Interval(m, n)\n",
    "expr = Conditional(Implies(Forall(instance_param_or_params = sub_expr1, instance_expr = Equals(Function(f, sub_expr1), Function(g, sub_expr1)), domain = sub_expr3), Equals(Sum(index_or_indices = sub_expr2, summand = Function(f, sub_expr2), domain = sub_expr3), Sum(index_or_indices = sub_expr2, summand = Function(g, sub_expr2), domain = sub_expr3))), And(InSet(m, Integer), InSet(n, Integer)))"
   ]
  },
  {
   "cell_type": "code",
   "execution_count": 3,
   "metadata": {},
   "outputs": [
    {
     "name": "stdout",
     "output_type": "stream",
     "text": [
      "Passed sanity check: expr matches stored_expr\n"
     ]
    }
   ],
   "source": [
    "# check that the built expression is the same as the stored expression\n",
    "assert expr == stored_expr\n",
    "assert expr._style_id == stored_expr._style_id\n",
    "print(\"Passed sanity check: expr matches stored_expr\")"
   ]
  },
  {
   "cell_type": "code",
   "execution_count": 4,
   "metadata": {},
   "outputs": [
    {
     "name": "stdout",
     "output_type": "stream",
     "text": [
      "\\left\\{\\left[\\forall_{k \\in \\{m~\\ldotp \\ldotp~n\\}}~\\left(f\\left(k\\right) = g\\left(k\\right)\\right)\\right] \\Rightarrow \\left(\\left(\\sum_{l = m}^{n} f\\left(l\\right)\\right) = \\left(\\sum_{l = m}^{n} g\\left(l\\right)\\right)\\right) \\textrm{ if } m \\in \\mathbb{Z} ,  n \\in \\mathbb{Z}\\right..\n"
     ]
    }
   ],
   "source": [
    "# Show the LaTeX representation of the expression for convenience if you need it.\n",
    "print(stored_expr.latex())"
   ]
  },
  {
   "cell_type": "code",
   "execution_count": 5,
   "metadata": {},
   "outputs": [
    {
     "data": {
      "text/html": [
       "<table>\n",
       "<tr><th>name</th><th>description</th><th>default</th><th>current value</th><th>related methods</th></tr><tr><td>condition_delimiter</td><td>'comma' or 'and'</td><td>comma</td><td>comma</td><td>('with_comma_delimiter', 'with_conjunction_delimiter')</td></tr>\n",
       "</table>\n"
      ],
      "text/plain": [
       "style name: condition_delimiter\n",
       "description: 'comma' or 'and'\n",
       "default: comma\n",
       "current value: comma\n",
       "related methods: ('with_comma_delimiter', 'with_conjunction_delimiter')"
      ]
     },
     "metadata": {},
     "output_type": "display_data"
    }
   ],
   "source": [
    "stored_expr.style_options()"
   ]
  },
  {
   "cell_type": "code",
   "execution_count": 6,
   "metadata": {},
   "outputs": [
    {
     "data": {
      "text/html": [
       "<table><tr><th>&nbsp;</th><th>core type</th><th>sub-expressions</th><th>expression</th></tr>\n",
       "<tr><td>0</td><td>Conditional</td><td>value:&nbsp;1<br>condition:&nbsp;2<br></td><td><a class=\"ProveItLink\" href=\"expr.ipynb\"><img src=\"expr.png\" style=\"display:inline;vertical-align:middle;\" /></a></td></tr>\n",
       "<tr><td>1</td><td>Operation</td><td>operator:&nbsp;3<br>operands:&nbsp;4<br></td><td><a class=\"ProveItLink\" href=\"../f2c35921819e8d8f8e4739b77347668935ccd5e40/expr.ipynb\"><img src=\"../f2c35921819e8d8f8e4739b77347668935ccd5e40/expr.png\" style=\"display:inline;vertical-align:middle;\" /></a></td></tr>\n",
       "<tr><td>2</td><td>Operation</td><td>operator:&nbsp;5<br>operands:&nbsp;6<br></td><td><a class=\"ProveItLink\" href=\"../0ab22d59beb01524a1450a36db61567d53038c6f0/expr.ipynb\"><img src=\"../0ab22d59beb01524a1450a36db61567d53038c6f0/expr.png\" style=\"display:inline;vertical-align:middle;\" /></a></td></tr>\n",
       "<tr><td>3</td><td>Literal</td><td></td><td><a class=\"ProveItLink\" href=\"../../../../../logic/booleans/implication/__pv_it/common/02bdb382575728da8cdbaed545b9096ea7a1bd5b0/expr.ipynb\"><img src=\"../../../../../logic/booleans/implication/__pv_it/common/02bdb382575728da8cdbaed545b9096ea7a1bd5b0/expr.png\" style=\"display:inline;vertical-align:middle;\" /></a></td></tr>\n",
       "<tr><td>4</td><td>ExprTuple</td><td>7, 8</td><td><a class=\"ProveItLink\" href=\"../89427976e66e1db0504b6a932edc2e98d1fe72410/expr.ipynb\"><img src=\"../89427976e66e1db0504b6a932edc2e98d1fe72410/expr.png\" style=\"display:inline;vertical-align:middle;\" /></a></td></tr>\n",
       "<tr><td>5</td><td>Literal</td><td></td><td><a class=\"ProveItLink\" href=\"../../../../../logic/booleans/conjunction/__pv_it/common/42118ff318bd65d98b1393f64ce7c2269feef76e0/expr.ipynb\"><img src=\"../../../../../logic/booleans/conjunction/__pv_it/common/42118ff318bd65d98b1393f64ce7c2269feef76e0/expr.png\" style=\"display:inline;vertical-align:middle;\" /></a></td></tr>\n",
       "<tr><td>6</td><td>ExprTuple</td><td>9, 10</td><td><a class=\"ProveItLink\" href=\"../257435fc83a8e507c799163078210b40f19ccb1c0/expr.ipynb\"><img src=\"../257435fc83a8e507c799163078210b40f19ccb1c0/expr.png\" style=\"display:inline;vertical-align:middle;\" /></a></td></tr>\n",
       "<tr><td>7</td><td>Operation</td><td>operator:&nbsp;11<br>operand:&nbsp;16<br></td><td><a class=\"ProveItLink\" href=\"../1337bd4024306e34690a5b0700cffe8122d496f80/expr.ipynb\"><img src=\"../1337bd4024306e34690a5b0700cffe8122d496f80/expr.png\" style=\"display:inline;vertical-align:middle;\" /></a></td></tr>\n",
       "<tr><td>8</td><td>Operation</td><td>operator:&nbsp;28<br>operands:&nbsp;13<br></td><td><a class=\"ProveItLink\" href=\"../839c046ee0e53ab5827886e45948163d3e1d3d360/expr.ipynb\"><img src=\"../839c046ee0e53ab5827886e45948163d3e1d3d360/expr.png\" style=\"display:inline;vertical-align:middle;\" /></a></td></tr>\n",
       "<tr><td>9</td><td>Operation</td><td>operator:&nbsp;42<br>operands:&nbsp;14<br></td><td><a class=\"ProveItLink\" href=\"../2f5faeeeee8eb4ecce80df00c7a8d0d93c0284040/expr.ipynb\"><img src=\"../2f5faeeeee8eb4ecce80df00c7a8d0d93c0284040/expr.png\" style=\"display:inline;vertical-align:middle;\" /></a></td></tr>\n",
       "<tr><td>10</td><td>Operation</td><td>operator:&nbsp;42<br>operands:&nbsp;15<br></td><td><a class=\"ProveItLink\" href=\"../4f87c8c2c4a39857c751c4c71492097b5d6c38b70/expr.ipynb\"><img src=\"../4f87c8c2c4a39857c751c4c71492097b5d6c38b70/expr.png\" style=\"display:inline;vertical-align:middle;\" /></a></td></tr>\n",
       "<tr><td>11</td><td>Literal</td><td></td><td><a class=\"ProveItLink\" href=\"../../../../../logic/booleans/quantification/universality/__pv_it/common/083d2baa0b8ecab1d230f9ec29a15aa1355809fb0/expr.ipynb\"><img src=\"../../../../../logic/booleans/quantification/universality/__pv_it/common/083d2baa0b8ecab1d230f9ec29a15aa1355809fb0/expr.png\" style=\"display:inline;vertical-align:middle;\" /></a></td></tr>\n",
       "<tr><td>12</td><td>ExprTuple</td><td>16</td><td><a class=\"ProveItLink\" href=\"../37dd234f4f070baea26c4bef5b89fa94a54a00020/expr.ipynb\"><img src=\"../37dd234f4f070baea26c4bef5b89fa94a54a00020/expr.png\" style=\"display:inline;vertical-align:middle;\" /></a></td></tr>\n",
       "<tr><td>13</td><td>ExprTuple</td><td>17, 18</td><td><a class=\"ProveItLink\" href=\"../9d61d148cc16a84df44fcce7df60eefb0a4adfce0/expr.ipynb\"><img src=\"../9d61d148cc16a84df44fcce7df60eefb0a4adfce0/expr.png\" style=\"display:inline;vertical-align:middle;\" /></a></td></tr>\n",
       "<tr><td>14</td><td>ExprTuple</td><td>49, 19</td><td><a class=\"ProveItLink\" href=\"../3b2359768615725fd3d7588789a7ef89f9c2d0880/expr.ipynb\"><img src=\"../3b2359768615725fd3d7588789a7ef89f9c2d0880/expr.png\" style=\"display:inline;vertical-align:middle;\" /></a></td></tr>\n",
       "<tr><td>15</td><td>ExprTuple</td><td>50, 19</td><td><a class=\"ProveItLink\" href=\"../43d692e0edc91f2bc944d41c97e1d92db754da9c0/expr.ipynb\"><img src=\"../43d692e0edc91f2bc944d41c97e1d92db754da9c0/expr.png\" style=\"display:inline;vertical-align:middle;\" /></a></td></tr>\n",
       "<tr><td>16</td><td>Lambda</td><td>parameter:&nbsp;44<br>body:&nbsp;20<br></td><td><a class=\"ProveItLink\" href=\"../a8d818b29f5355ae8f6f776c92582b73902637cd0/expr.ipynb\"><img src=\"../a8d818b29f5355ae8f6f776c92582b73902637cd0/expr.png\" style=\"display:inline;vertical-align:middle;\" /></a></td></tr>\n",
       "<tr><td>17</td><td>Operation</td><td>operator:&nbsp;22<br>operand:&nbsp;26<br></td><td><a class=\"ProveItLink\" href=\"../5d96d66b604599ee52d98c666671b259c615fcf00/expr.ipynb\"><img src=\"../5d96d66b604599ee52d98c666671b259c615fcf00/expr.png\" style=\"display:inline;vertical-align:middle;\" /></a></td></tr>\n",
       "<tr><td>18</td><td>Operation</td><td>operator:&nbsp;22<br>operand:&nbsp;27<br></td><td><a class=\"ProveItLink\" href=\"../b0f68cd6931ab0eebd997d856b340ed7fc0aa34d0/expr.ipynb\"><img src=\"../b0f68cd6931ab0eebd997d856b340ed7fc0aa34d0/expr.png\" style=\"display:inline;vertical-align:middle;\" /></a></td></tr>\n",
       "<tr><td>19</td><td>Literal</td><td></td><td><a class=\"ProveItLink\" href=\"../../../../number_sets/integers/__pv_it/common/e6b4e90f9467053e055a4fd2f735c0bb79cb79300/expr.ipynb\"><img src=\"../../../../number_sets/integers/__pv_it/common/e6b4e90f9467053e055a4fd2f735c0bb79cb79300/expr.png\" style=\"display:inline;vertical-align:middle;\" /></a></td></tr>\n",
       "<tr><td>20</td><td>Conditional</td><td>value:&nbsp;24<br>condition:&nbsp;25<br></td><td><a class=\"ProveItLink\" href=\"../0a57523690cb589e0bccaa9f2d59a66afe55d6700/expr.ipynb\"><img src=\"../0a57523690cb589e0bccaa9f2d59a66afe55d6700/expr.png\" style=\"display:inline;vertical-align:middle;\" /></a></td></tr>\n",
       "<tr><td>21</td><td>ExprTuple</td><td>26</td><td><a class=\"ProveItLink\" href=\"../821e458ec4c353b00b86d17d8c2d4702228d90df0/expr.ipynb\"><img src=\"../821e458ec4c353b00b86d17d8c2d4702228d90df0/expr.png\" style=\"display:inline;vertical-align:middle;\" /></a></td></tr>\n",
       "<tr><td>22</td><td>Literal</td><td></td><td><a class=\"ProveItLink\" href=\"../../common/14fe61cccc388f91dfd83d3ca31cf27448cc070a0/expr.ipynb\"><img src=\"../../common/14fe61cccc388f91dfd83d3ca31cf27448cc070a0/expr.png\" style=\"display:inline;vertical-align:middle;\" /></a></td></tr>\n",
       "<tr><td>23</td><td>ExprTuple</td><td>27</td><td><a class=\"ProveItLink\" href=\"../cc9b7483cf057d16072f077ca853f28a497baf4f0/expr.ipynb\"><img src=\"../cc9b7483cf057d16072f077ca853f28a497baf4f0/expr.png\" style=\"display:inline;vertical-align:middle;\" /></a></td></tr>\n",
       "<tr><td>24</td><td>Operation</td><td>operator:&nbsp;28<br>operands:&nbsp;29<br></td><td><a class=\"ProveItLink\" href=\"../b104f2105c2bf558c81f7315f525f11be9a259690/expr.ipynb\"><img src=\"../b104f2105c2bf558c81f7315f525f11be9a259690/expr.png\" style=\"display:inline;vertical-align:middle;\" /></a></td></tr>\n",
       "<tr><td>25</td><td>Operation</td><td>operator:&nbsp;42<br>operands:&nbsp;30<br></td><td><a class=\"ProveItLink\" href=\"../ba03cb0cbb25d680a7fb1b331232dd88fe2151c30/expr.ipynb\"><img src=\"../ba03cb0cbb25d680a7fb1b331232dd88fe2151c30/expr.png\" style=\"display:inline;vertical-align:middle;\" /></a></td></tr>\n",
       "<tr><td>26</td><td>Lambda</td><td>parameter:&nbsp;45<br>body:&nbsp;31<br></td><td><a class=\"ProveItLink\" href=\"../c25fce5bef6fc739ecee56f2c8e22aabfdba7d630/expr.ipynb\"><img src=\"../c25fce5bef6fc739ecee56f2c8e22aabfdba7d630/expr.png\" style=\"display:inline;vertical-align:middle;\" /></a></td></tr>\n",
       "<tr><td>27</td><td>Lambda</td><td>parameter:&nbsp;45<br>body:&nbsp;32<br></td><td><a class=\"ProveItLink\" href=\"../047462b6c68b34ca098a211beaf5a73c7e8dacfb0/expr.ipynb\"><img src=\"../047462b6c68b34ca098a211beaf5a73c7e8dacfb0/expr.png\" style=\"display:inline;vertical-align:middle;\" /></a></td></tr>\n",
       "<tr><td>28</td><td>Literal</td><td></td><td><a class=\"ProveItLink\" href=\"../../../../../logic/equality/__pv_it/common/fb96dc12b2aa8801dda64d0132b396c63d1502bb0/expr.ipynb\"><img src=\"../../../../../logic/equality/__pv_it/common/fb96dc12b2aa8801dda64d0132b396c63d1502bb0/expr.png\" style=\"display:inline;vertical-align:middle;\" /></a></td></tr>\n",
       "<tr><td>29</td><td>ExprTuple</td><td>33, 34</td><td><a class=\"ProveItLink\" href=\"../32089a5e699967f3abf25cfa468e33fc8180eabd0/expr.ipynb\"><img src=\"../32089a5e699967f3abf25cfa468e33fc8180eabd0/expr.png\" style=\"display:inline;vertical-align:middle;\" /></a></td></tr>\n",
       "<tr><td>30</td><td>ExprTuple</td><td>44, 46</td><td><a class=\"ProveItLink\" href=\"../0aff9a8cd69bef14577222da220ebaf8da9bee7f0/expr.ipynb\"><img src=\"../0aff9a8cd69bef14577222da220ebaf8da9bee7f0/expr.png\" style=\"display:inline;vertical-align:middle;\" /></a></td></tr>\n",
       "<tr><td>31</td><td>Conditional</td><td>value:&nbsp;35<br>condition:&nbsp;37<br></td><td><a class=\"ProveItLink\" href=\"../f6fbed2e9f35bd32c232991f6399d5c5e087176e0/expr.ipynb\"><img src=\"../f6fbed2e9f35bd32c232991f6399d5c5e087176e0/expr.png\" style=\"display:inline;vertical-align:middle;\" /></a></td></tr>\n",
       "<tr><td>32</td><td>Conditional</td><td>value:&nbsp;36<br>condition:&nbsp;37<br></td><td><a class=\"ProveItLink\" href=\"../be8feeb1742703bb3a772d358de03521c1e6cff30/expr.ipynb\"><img src=\"../be8feeb1742703bb3a772d358de03521c1e6cff30/expr.png\" style=\"display:inline;vertical-align:middle;\" /></a></td></tr>\n",
       "<tr><td>33</td><td>Operation</td><td>operator:&nbsp;39<br>operand:&nbsp;44<br></td><td><a class=\"ProveItLink\" href=\"../98273b7c86216038b505fcbaa3fe280fc5f2a6130/expr.ipynb\"><img src=\"../98273b7c86216038b505fcbaa3fe280fc5f2a6130/expr.png\" style=\"display:inline;vertical-align:middle;\" /></a></td></tr>\n",
       "<tr><td>34</td><td>Operation</td><td>operator:&nbsp;40<br>operand:&nbsp;44<br></td><td><a class=\"ProveItLink\" href=\"../26945a563334c426145c4be6a96f3bf3bd56b9330/expr.ipynb\"><img src=\"../26945a563334c426145c4be6a96f3bf3bd56b9330/expr.png\" style=\"display:inline;vertical-align:middle;\" /></a></td></tr>\n",
       "<tr><td>35</td><td>Operation</td><td>operator:&nbsp;39<br>operand:&nbsp;45<br></td><td><a class=\"ProveItLink\" href=\"../63b9920eff531874d7438dac23a390ba3c64682e0/expr.ipynb\"><img src=\"../63b9920eff531874d7438dac23a390ba3c64682e0/expr.png\" style=\"display:inline;vertical-align:middle;\" /></a></td></tr>\n",
       "<tr><td>36</td><td>Operation</td><td>operator:&nbsp;40<br>operand:&nbsp;45<br></td><td><a class=\"ProveItLink\" href=\"../66c153af206244e51db6f0dec0606271da16b9680/expr.ipynb\"><img src=\"../66c153af206244e51db6f0dec0606271da16b9680/expr.png\" style=\"display:inline;vertical-align:middle;\" /></a></td></tr>\n",
       "<tr><td>37</td><td>Operation</td><td>operator:&nbsp;42<br>operands:&nbsp;43<br></td><td><a class=\"ProveItLink\" href=\"../fc810de8f0b66e5bd7a751dc4df0da26a0304f730/expr.ipynb\"><img src=\"../fc810de8f0b66e5bd7a751dc4df0da26a0304f730/expr.png\" style=\"display:inline;vertical-align:middle;\" /></a></td></tr>\n",
       "<tr><td>38</td><td>ExprTuple</td><td>44</td><td><a class=\"ProveItLink\" href=\"../../common/36569ebfbef1eee76da90134ba3a4620a4cb94130/expr.ipynb\"><img src=\"../../common/36569ebfbef1eee76da90134ba3a4620a4cb94130/expr.png\" style=\"display:inline;vertical-align:middle;\" /></a></td></tr>\n",
       "<tr><td>39</td><td>Variable</td><td></td><td><a class=\"ProveItLink\" href=\"../../../../../__pv_it/common/01b6dbb444a31fc38af4c2379badef6c75b363710/expr.ipynb\"><img src=\"../../../../../__pv_it/common/01b6dbb444a31fc38af4c2379badef6c75b363710/expr.png\" style=\"display:inline;vertical-align:middle;\" /></a></td></tr>\n",
       "<tr><td>40</td><td>Variable</td><td></td><td><a class=\"ProveItLink\" href=\"../../../../../__pv_it/common/96ac097ea7ee432328a5e933062d0ef407701bf40/expr.ipynb\"><img src=\"../../../../../__pv_it/common/96ac097ea7ee432328a5e933062d0ef407701bf40/expr.png\" style=\"display:inline;vertical-align:middle;\" /></a></td></tr>\n",
       "<tr><td>41</td><td>ExprTuple</td><td>45</td><td><a class=\"ProveItLink\" href=\"../../common/039a14dbb9d0bf99f342285bcbd227a70d804d7f0/expr.ipynb\"><img src=\"../../common/039a14dbb9d0bf99f342285bcbd227a70d804d7f0/expr.png\" style=\"display:inline;vertical-align:middle;\" /></a></td></tr>\n",
       "<tr><td>42</td><td>Literal</td><td></td><td><a class=\"ProveItLink\" href=\"../../../../../logic/sets/membership/__pv_it/common/477487d8796864d23d5810f83761435f25167f690/expr.ipynb\"><img src=\"../../../../../logic/sets/membership/__pv_it/common/477487d8796864d23d5810f83761435f25167f690/expr.png\" style=\"display:inline;vertical-align:middle;\" /></a></td></tr>\n",
       "<tr><td>43</td><td>ExprTuple</td><td>45, 46</td><td><a class=\"ProveItLink\" href=\"../f99e6e5930f280b347c732f9270cacfc3f98a12c0/expr.ipynb\"><img src=\"../f99e6e5930f280b347c732f9270cacfc3f98a12c0/expr.png\" style=\"display:inline;vertical-align:middle;\" /></a></td></tr>\n",
       "<tr><td>44</td><td>Variable</td><td></td><td><a class=\"ProveItLink\" href=\"../../../../../__pv_it/common/63b7c64bf9ec7a04ecc396c7a1670f3f12fb59490/expr.ipynb\"><img src=\"../../../../../__pv_it/common/63b7c64bf9ec7a04ecc396c7a1670f3f12fb59490/expr.png\" style=\"display:inline;vertical-align:middle;\" /></a></td></tr>\n",
       "<tr><td>45</td><td>Variable</td><td></td><td><a class=\"ProveItLink\" href=\"../../../../../__pv_it/common/27cc275d44b4f4499fb9ccfb3fab1a98165d2fa60/expr.ipynb\"><img src=\"../../../../../__pv_it/common/27cc275d44b4f4499fb9ccfb3fab1a98165d2fa60/expr.png\" style=\"display:inline;vertical-align:middle;\" /></a></td></tr>\n",
       "<tr><td>46</td><td>Operation</td><td>operator:&nbsp;47<br>operands:&nbsp;48<br></td><td><a class=\"ProveItLink\" href=\"../d2b26ace448078d40db5b733bb2f279a29c992790/expr.ipynb\"><img src=\"../d2b26ace448078d40db5b733bb2f279a29c992790/expr.png\" style=\"display:inline;vertical-align:middle;\" /></a></td></tr>\n",
       "<tr><td>47</td><td>Literal</td><td></td><td><a class=\"ProveItLink\" href=\"../../../../number_sets/integers/__pv_it/common/92f3a0a77e3c3ea8e4a5c8674edadc54e4f57d550/expr.ipynb\"><img src=\"../../../../number_sets/integers/__pv_it/common/92f3a0a77e3c3ea8e4a5c8674edadc54e4f57d550/expr.png\" style=\"display:inline;vertical-align:middle;\" /></a></td></tr>\n",
       "<tr><td>48</td><td>ExprTuple</td><td>49, 50</td><td><a class=\"ProveItLink\" href=\"../05a1ed7149bdab455b0537bd9baa8c6aae03294c0/expr.ipynb\"><img src=\"../05a1ed7149bdab455b0537bd9baa8c6aae03294c0/expr.png\" style=\"display:inline;vertical-align:middle;\" /></a></td></tr>\n",
       "<tr><td>49</td><td>Variable</td><td></td><td><a class=\"ProveItLink\" href=\"../../../../../__pv_it/common/674a03b9c3ca221b3aabd5636837b31528ff33830/expr.ipynb\"><img src=\"../../../../../__pv_it/common/674a03b9c3ca221b3aabd5636837b31528ff33830/expr.png\" style=\"display:inline;vertical-align:middle;\" /></a></td></tr>\n",
       "<tr><td>50</td><td>Variable</td><td></td><td><a class=\"ProveItLink\" href=\"../../../../../__pv_it/common/8968bb04eb3f7dfa02353397ce929b025bbd79c20/expr.ipynb\"><img src=\"../../../../../__pv_it/common/8968bb04eb3f7dfa02353397ce929b025bbd79c20/expr.png\" style=\"display:inline;vertical-align:middle;\" /></a></td></tr>\n",
       "</table>\n"
      ],
      "text/plain": [
       "0. {[forall_{k in {m .. n}} (f(k) = g(k))] => ((Sum_{l = m}^{n} f(l)) = (Sum_{l = m}^{n} g(l))) if m in Integer ,  n in Integer.\n",
       "   core type: Conditional\n",
       "   value: 1\n",
       "   condition: 2\n",
       "1. [forall_{k in {m .. n}} (f(k) = g(k))] => ((Sum_{l = m}^{n} f(l)) = (Sum_{l = m}^{n} g(l)))\n",
       "   core type: Operation\n",
       "   operator: 3\n",
       "   operands: 4\n",
       "2. (m in Integer) and (n in Integer)\n",
       "   core type: Operation\n",
       "   operator: 5\n",
       "   operands: 6\n",
       "3. =>\n",
       "   core type: Literal\n",
       "   sub-expressions: \n",
       "4. (forall_{k in {m .. n}} (f(k) = g(k)), (Sum_{l = m}^{n} f(l)) = (Sum_{l = m}^{n} g(l)))\n",
       "   core type: ExprTuple\n",
       "   sub-expressions: 7, 8\n",
       "5. and\n",
       "   core type: Literal\n",
       "   sub-expressions: \n",
       "6. (m in Integer, n in Integer)\n",
       "   core type: ExprTuple\n",
       "   sub-expressions: 9, 10\n",
       "7. forall_{k in {m .. n}} (f(k) = g(k))\n",
       "   core type: Operation\n",
       "   operator: 11\n",
       "   operand: 16\n",
       "8. (Sum_{l = m}^{n} f(l)) = (Sum_{l = m}^{n} g(l))\n",
       "   core type: Operation\n",
       "   operator: 28\n",
       "   operands: 13\n",
       "9. m in Integer\n",
       "   core type: Operation\n",
       "   operator: 42\n",
       "   operands: 14\n",
       "10. n in Integer\n",
       "    core type: Operation\n",
       "    operator: 42\n",
       "    operands: 15\n",
       "11. forall\n",
       "    core type: Literal\n",
       "    sub-expressions: \n",
       "12. (k -> {f(k) = g(k) if k in {m .. n}.)\n",
       "    core type: ExprTuple\n",
       "    sub-expressions: 16\n",
       "13. (Sum_{l = m}^{n} f(l), Sum_{l = m}^{n} g(l))\n",
       "    core type: ExprTuple\n",
       "    sub-expressions: 17, 18\n",
       "14. (m, Integer)\n",
       "    core type: ExprTuple\n",
       "    sub-expressions: 49, 19\n",
       "15. (n, Integer)\n",
       "    core type: ExprTuple\n",
       "    sub-expressions: 50, 19\n",
       "16. k -> {f(k) = g(k) if k in {m .. n}.\n",
       "    core type: Lambda\n",
       "    parameter: 44\n",
       "    body: 20\n",
       "17. Sum_{l = m}^{n} f(l)\n",
       "    core type: Operation\n",
       "    operator: 22\n",
       "    operand: 26\n",
       "18. Sum_{l = m}^{n} g(l)\n",
       "    core type: Operation\n",
       "    operator: 22\n",
       "    operand: 27\n",
       "19. Integer\n",
       "    core type: Literal\n",
       "    sub-expressions: \n",
       "20. {f(k) = g(k) if k in {m .. n}.\n",
       "    core type: Conditional\n",
       "    value: 24\n",
       "    condition: 25\n",
       "21. (l -> {f(l) if l in {m .. n}.)\n",
       "    core type: ExprTuple\n",
       "    sub-expressions: 26\n",
       "22. Sum\n",
       "    core type: Literal\n",
       "    sub-expressions: \n",
       "23. (l -> {g(l) if l in {m .. n}.)\n",
       "    core type: ExprTuple\n",
       "    sub-expressions: 27\n",
       "24. f(k) = g(k)\n",
       "    core type: Operation\n",
       "    operator: 28\n",
       "    operands: 29\n",
       "25. k in {m .. n}\n",
       "    core type: Operation\n",
       "    operator: 42\n",
       "    operands: 30\n",
       "26. l -> {f(l) if l in {m .. n}.\n",
       "    core type: Lambda\n",
       "    parameter: 45\n",
       "    body: 31\n",
       "27. l -> {g(l) if l in {m .. n}.\n",
       "    core type: Lambda\n",
       "    parameter: 45\n",
       "    body: 32\n",
       "28. =\n",
       "    core type: Literal\n",
       "    sub-expressions: \n",
       "29. (f(k), g(k))\n",
       "    core type: ExprTuple\n",
       "    sub-expressions: 33, 34\n",
       "30. (k, {m .. n})\n",
       "    core type: ExprTuple\n",
       "    sub-expressions: 44, 46\n",
       "31. {f(l) if l in {m .. n}.\n",
       "    core type: Conditional\n",
       "    value: 35\n",
       "    condition: 37\n",
       "32. {g(l) if l in {m .. n}.\n",
       "    core type: Conditional\n",
       "    value: 36\n",
       "    condition: 37\n",
       "33. f(k)\n",
       "    core type: Operation\n",
       "    operator: 39\n",
       "    operand: 44\n",
       "34. g(k)\n",
       "    core type: Operation\n",
       "    operator: 40\n",
       "    operand: 44\n",
       "35. f(l)\n",
       "    core type: Operation\n",
       "    operator: 39\n",
       "    operand: 45\n",
       "36. g(l)\n",
       "    core type: Operation\n",
       "    operator: 40\n",
       "    operand: 45\n",
       "37. l in {m .. n}\n",
       "    core type: Operation\n",
       "    operator: 42\n",
       "    operands: 43\n",
       "38. (k)\n",
       "    core type: ExprTuple\n",
       "    sub-expressions: 44\n",
       "39. f\n",
       "    core type: Variable\n",
       "    sub-expressions: \n",
       "40. g\n",
       "    core type: Variable\n",
       "    sub-expressions: \n",
       "41. (l)\n",
       "    core type: ExprTuple\n",
       "    sub-expressions: 45\n",
       "42. in\n",
       "    core type: Literal\n",
       "    sub-expressions: \n",
       "43. (l, {m .. n})\n",
       "    core type: ExprTuple\n",
       "    sub-expressions: 45, 46\n",
       "44. k\n",
       "    core type: Variable\n",
       "    sub-expressions: \n",
       "45. l\n",
       "    core type: Variable\n",
       "    sub-expressions: \n",
       "46. {m .. n}\n",
       "    core type: Operation\n",
       "    operator: 47\n",
       "    operands: 48\n",
       "47. Interval\n",
       "    core type: Literal\n",
       "    sub-expressions: \n",
       "48. (m, n)\n",
       "    core type: ExprTuple\n",
       "    sub-expressions: 49, 50\n",
       "49. m\n",
       "    core type: Variable\n",
       "    sub-expressions: \n",
       "50. n\n",
       "    core type: Variable\n",
       "    sub-expressions: "
      ]
     },
     "metadata": {},
     "output_type": "display_data"
    }
   ],
   "source": [
    "# display the expression information\n",
    "stored_expr.expr_info()"
   ]
  },
  {
   "cell_type": "code",
   "execution_count": null,
   "metadata": {},
   "outputs": [],
   "source": []
  }
 ],
 "metadata": {
  "kernelspec": {
   "display_name": "Python 3",
   "language": "python",
   "name": "python3"
  }
 },
 "nbformat": 4,
 "nbformat_minor": 0
}