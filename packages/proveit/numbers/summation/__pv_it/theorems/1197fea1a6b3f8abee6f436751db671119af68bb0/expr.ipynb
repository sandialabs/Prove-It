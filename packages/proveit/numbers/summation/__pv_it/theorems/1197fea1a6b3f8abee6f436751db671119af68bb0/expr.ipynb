{
 "cells": [
  {
   "cell_type": "markdown",
   "metadata": {},
   "source": [
    "Expression of type <a class=\"ProveItLink\" href=\"../../../../../../../doc/html/api/proveit.Conditional.html\">Conditional</a>\n",
    "=======================\n",
    "# from the theory of <a class=\"ProveItLink\" href=\"../../../_theory_nbs_/theory.ipynb\">proveit.numbers.summation</a>"
   ]
  },
  {
   "cell_type": "code",
   "execution_count": 1,
   "metadata": {},
   "outputs": [],
   "source": [
    "import proveit\n",
    "# Automation is not needed when building an expression:\n",
    "proveit.defaults.automation = False # This will speed things up.\n",
    "proveit.defaults.inline_pngs = False # Makes files smaller.\n",
    "%load_expr # Load the stored expression as 'stored_expr'\n",
    "# import Expression classes needed to build the expression\n",
    "from proveit import Conditional, a, b, fx, x\n",
    "from proveit.logic import InSet\n",
    "from proveit.numbers import Add, Interval, one"
   ]
  },
  {
   "cell_type": "code",
   "execution_count": 2,
   "metadata": {},
   "outputs": [
    {
     "data": {
      "text/html": [
       "<strong id=\"expr\">expr:</strong> <a class=\"ProveItLink\" href=\"expr.ipynb\"><img src=\"expr.png\" style=\"display:inline;vertical-align:middle;\" /></a><br>"
      ],
      "text/plain": [
       "<IPython.core.display.HTML object>"
      ]
     },
     "metadata": {},
     "output_type": "display_data"
    }
   ],
   "source": [
    "# build up the expression from sub-expressions\n",
    "expr = Conditional(fx, InSet(x, Interval(Add(a, one), b)))"
   ]
  },
  {
   "cell_type": "code",
   "execution_count": 3,
   "metadata": {},
   "outputs": [
    {
     "name": "stdout",
     "output_type": "stream",
     "text": [
      "Passed sanity check: expr matches stored_expr\n"
     ]
    }
   ],
   "source": [
    "# check that the built expression is the same as the stored expression\n",
    "assert expr == stored_expr\n",
    "assert expr._style_id == stored_expr._style_id\n",
    "print(\"Passed sanity check: expr matches stored_expr\")"
   ]
  },
  {
   "cell_type": "code",
   "execution_count": 4,
   "metadata": {},
   "outputs": [
    {
     "name": "stdout",
     "output_type": "stream",
     "text": [
      "\\left\\{f\\left(x\\right) \\textrm{ if } x \\in \\{a + 1~\\ldotp \\ldotp~b\\}\\right..\n"
     ]
    }
   ],
   "source": [
    "# Show the LaTeX representation of the expression for convenience if you need it.\n",
    "print(stored_expr.latex())"
   ]
  },
  {
   "cell_type": "code",
   "execution_count": 5,
   "metadata": {},
   "outputs": [
    {
     "data": {
      "text/html": [
       "<table>\n",
       "<tr><th>name</th><th>description</th><th>default</th><th>current value</th><th>related methods</th></tr><tr><td>condition_delimiter</td><td>'comma' or 'and'</td><td>comma</td><td>comma</td><td>('with_comma_delimiter', 'with_conjunction_delimiter')</td></tr>\n",
       "</table>\n"
      ],
      "text/plain": [
       "style name: condition_delimiter\n",
       "description: 'comma' or 'and'\n",
       "default: comma\n",
       "current value: comma\n",
       "related methods: ('with_comma_delimiter', 'with_conjunction_delimiter')"
      ]
     },
     "metadata": {},
     "output_type": "display_data"
    }
   ],
   "source": [
    "stored_expr.style_options()"
   ]
  },
  {
   "cell_type": "code",
   "execution_count": 6,
   "metadata": {},
   "outputs": [
    {
     "data": {
      "text/html": [
       "<table><tr><th>&nbsp;</th><th>core type</th><th>sub-expressions</th><th>expression</th></tr>\n",
       "<tr><td>0</td><td>Conditional</td><td>value:&nbsp;1<br>condition:&nbsp;2<br></td><td><a class=\"ProveItLink\" href=\"expr.ipynb\"><img src=\"expr.png\" style=\"display:inline;vertical-align:middle;\" /></a></td></tr>\n",
       "<tr><td>1</td><td>Operation</td><td>operator:&nbsp;3<br>operand:&nbsp;7<br></td><td><a class=\"ProveItLink\" href=\"../../../../../__pv_it/common/6774f61458aed4cc9eb250f92b3634f1d09b19a40/expr.ipynb\"><img src=\"../../../../../__pv_it/common/6774f61458aed4cc9eb250f92b3634f1d09b19a40/expr.png\" style=\"display:inline;vertical-align:middle;\" /></a></td></tr>\n",
       "<tr><td>2</td><td>Operation</td><td>operator:&nbsp;5<br>operands:&nbsp;6<br></td><td><a class=\"ProveItLink\" href=\"../6fa30f7c8c17ca416823a25f9fa4e8d2675eac680/expr.ipynb\"><img src=\"../6fa30f7c8c17ca416823a25f9fa4e8d2675eac680/expr.png\" style=\"display:inline;vertical-align:middle;\" /></a></td></tr>\n",
       "<tr><td>3</td><td>Variable</td><td></td><td><a class=\"ProveItLink\" href=\"../../../../../__pv_it/common/01b6dbb444a31fc38af4c2379badef6c75b363710/expr.ipynb\"><img src=\"../../../../../__pv_it/common/01b6dbb444a31fc38af4c2379badef6c75b363710/expr.png\" style=\"display:inline;vertical-align:middle;\" /></a></td></tr>\n",
       "<tr><td>4</td><td>ExprTuple</td><td>7</td><td><a class=\"ProveItLink\" href=\"../../../../../__pv_it/common/eacfeccc0521684fcb20fe8f5180ac50fca471f20/expr.ipynb\"><img src=\"../../../../../__pv_it/common/eacfeccc0521684fcb20fe8f5180ac50fca471f20/expr.png\" style=\"display:inline;vertical-align:middle;\" /></a></td></tr>\n",
       "<tr><td>5</td><td>Literal</td><td></td><td><a class=\"ProveItLink\" href=\"../../../../../logic/sets/membership/__pv_it/common/477487d8796864d23d5810f83761435f25167f690/expr.ipynb\"><img src=\"../../../../../logic/sets/membership/__pv_it/common/477487d8796864d23d5810f83761435f25167f690/expr.png\" style=\"display:inline;vertical-align:middle;\" /></a></td></tr>\n",
       "<tr><td>6</td><td>ExprTuple</td><td>7, 8</td><td><a class=\"ProveItLink\" href=\"../d99695177df27b1153d2208be45a190fc76a68d60/expr.ipynb\"><img src=\"../d99695177df27b1153d2208be45a190fc76a68d60/expr.png\" style=\"display:inline;vertical-align:middle;\" /></a></td></tr>\n",
       "<tr><td>7</td><td>Variable</td><td></td><td><a class=\"ProveItLink\" href=\"../../../../../__pv_it/common/a0d9d672aa5e272d907247690c152cc2c6daafb70/expr.ipynb\"><img src=\"../../../../../__pv_it/common/a0d9d672aa5e272d907247690c152cc2c6daafb70/expr.png\" style=\"display:inline;vertical-align:middle;\" /></a></td></tr>\n",
       "<tr><td>8</td><td>Operation</td><td>operator:&nbsp;9<br>operands:&nbsp;10<br></td><td><a class=\"ProveItLink\" href=\"../12602a5a5a446233107dcba0be487f5fad3bbf520/expr.ipynb\"><img src=\"../12602a5a5a446233107dcba0be487f5fad3bbf520/expr.png\" style=\"display:inline;vertical-align:middle;\" /></a></td></tr>\n",
       "<tr><td>9</td><td>Literal</td><td></td><td><a class=\"ProveItLink\" href=\"../../../../number_sets/integers/__pv_it/common/92f3a0a77e3c3ea8e4a5c8674edadc54e4f57d550/expr.ipynb\"><img src=\"../../../../number_sets/integers/__pv_it/common/92f3a0a77e3c3ea8e4a5c8674edadc54e4f57d550/expr.png\" style=\"display:inline;vertical-align:middle;\" /></a></td></tr>\n",
       "<tr><td>10</td><td>ExprTuple</td><td>11, 12</td><td><a class=\"ProveItLink\" href=\"../08fce4442d52dd38863ab2f1aa8d654d58e4f3ff0/expr.ipynb\"><img src=\"../08fce4442d52dd38863ab2f1aa8d654d58e4f3ff0/expr.png\" style=\"display:inline;vertical-align:middle;\" /></a></td></tr>\n",
       "<tr><td>11</td><td>Operation</td><td>operator:&nbsp;13<br>operands:&nbsp;14<br></td><td><a class=\"ProveItLink\" href=\"../610178af94cac79e06bcd941f9999fed6497de100/expr.ipynb\"><img src=\"../610178af94cac79e06bcd941f9999fed6497de100/expr.png\" style=\"display:inline;vertical-align:middle;\" /></a></td></tr>\n",
       "<tr><td>12</td><td>Variable</td><td></td><td><a class=\"ProveItLink\" href=\"../../../../../__pv_it/common/195236b98c6c564a75b5dbada74b173bc52d5c3e0/expr.ipynb\"><img src=\"../../../../../__pv_it/common/195236b98c6c564a75b5dbada74b173bc52d5c3e0/expr.png\" style=\"display:inline;vertical-align:middle;\" /></a></td></tr>\n",
       "<tr><td>13</td><td>Literal</td><td></td><td><a class=\"ProveItLink\" href=\"../../../../addition/__pv_it/common/4b7effaab3619a1c2c38fe2dee8601df8ec714590/expr.ipynb\"><img src=\"../../../../addition/__pv_it/common/4b7effaab3619a1c2c38fe2dee8601df8ec714590/expr.png\" style=\"display:inline;vertical-align:middle;\" /></a></td></tr>\n",
       "<tr><td>14</td><td>ExprTuple</td><td>15, 16</td><td><a class=\"ProveItLink\" href=\"../017eacf4fbcd5ccb1afa72357dfba07ebe7b0eca0/expr.ipynb\"><img src=\"../017eacf4fbcd5ccb1afa72357dfba07ebe7b0eca0/expr.png\" style=\"display:inline;vertical-align:middle;\" /></a></td></tr>\n",
       "<tr><td>15</td><td>Variable</td><td></td><td><a class=\"ProveItLink\" href=\"../../../../../__pv_it/common/c06c606ec12678c58933ac85412ecadc2ae28be60/expr.ipynb\"><img src=\"../../../../../__pv_it/common/c06c606ec12678c58933ac85412ecadc2ae28be60/expr.png\" style=\"display:inline;vertical-align:middle;\" /></a></td></tr>\n",
       "<tr><td>16</td><td>Literal</td><td></td><td><a class=\"ProveItLink\" href=\"../../../../numerals/__pv_it/common/682157d4892d216d9e5626ed533aff9b56b9506e0/expr.ipynb\"><img src=\"../../../../numerals/__pv_it/common/682157d4892d216d9e5626ed533aff9b56b9506e0/expr.png\" style=\"display:inline;vertical-align:middle;\" /></a></td></tr>\n",
       "</table>\n"
      ],
      "text/plain": [
       "0. {f(x) if x in {a + 1 .. b}.\n",
       "   core type: Conditional\n",
       "   value: 1\n",
       "   condition: 2\n",
       "1. f(x)\n",
       "   core type: Operation\n",
       "   operator: 3\n",
       "   operand: 7\n",
       "2. x in {a + 1 .. b}\n",
       "   core type: Operation\n",
       "   operator: 5\n",
       "   operands: 6\n",
       "3. f\n",
       "   core type: Variable\n",
       "   sub-expressions: \n",
       "4. (x)\n",
       "   core type: ExprTuple\n",
       "   sub-expressions: 7\n",
       "5. in\n",
       "   core type: Literal\n",
       "   sub-expressions: \n",
       "6. (x, {a + 1 .. b})\n",
       "   core type: ExprTuple\n",
       "   sub-expressions: 7, 8\n",
       "7. x\n",
       "   core type: Variable\n",
       "   sub-expressions: \n",
       "8. {a + 1 .. b}\n",
       "   core type: Operation\n",
       "   operator: 9\n",
       "   operands: 10\n",
       "9. Interval\n",
       "   core type: Literal\n",
       "   sub-expressions: \n",
       "10. (a + 1, b)\n",
       "    core type: ExprTuple\n",
       "    sub-expressions: 11, 12\n",
       "11. a + 1\n",
       "    core type: Operation\n",
       "    operator: 13\n",
       "    operands: 14\n",
       "12. b\n",
       "    core type: Variable\n",
       "    sub-expressions: \n",
       "13. +\n",
       "    core type: Literal\n",
       "    sub-expressions: \n",
       "14. (a, 1)\n",
       "    core type: ExprTuple\n",
       "    sub-expressions: 15, 16\n",
       "15. a\n",
       "    core type: Variable\n",
       "    sub-expressions: \n",
       "16. 1\n",
       "    core type: Literal\n",
       "    sub-expressions: "
      ]
     },
     "metadata": {},
     "output_type": "display_data"
    }
   ],
   "source": [
    "# display the expression information\n",
    "stored_expr.expr_info()"
   ]
  },
  {
   "cell_type": "code",
   "execution_count": null,
   "metadata": {},
   "outputs": [],
   "source": []
  }
 ],
 "metadata": {
  "kernelspec": {
   "display_name": "Python 3",
   "language": "python",
   "name": "python3"
  }
 },
 "nbformat": 4,
 "nbformat_minor": 0
}