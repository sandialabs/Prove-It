{
 "cells": [
  {
   "cell_type": "markdown",
   "metadata": {},
   "source": [
    "Expression of type <a class=\"ProveItLink\" href=\"../../../../../../../doc/html/api/proveit.logic.Equals.html\">Equals</a>\n",
    "=======================\n",
    "# from the theory of <a class=\"ProveItLink\" href=\"../../../_theory_nbs_/theory.ipynb\">proveit.numbers.summation</a>"
   ]
  },
  {
   "cell_type": "code",
   "execution_count": 1,
   "metadata": {},
   "outputs": [],
   "source": [
    "import proveit\n",
    "# Automation is not needed when building an expression:\n",
    "proveit.defaults.automation = False # This will speed things up.\n",
    "proveit.defaults.inline_pngs = False # Makes files smaller.\n",
    "%load_expr # Load the stored expression as 'stored_expr'\n",
    "# import Expression classes needed to build the expression\n",
    "from proveit import k\n",
    "from proveit.logic import Equals, TRUE\n",
    "from proveit.numbers import Add, Interval, Mult, Sum, frac, one, two"
   ]
  },
  {
   "cell_type": "code",
   "execution_count": 2,
   "metadata": {},
   "outputs": [
    {
     "data": {
      "text/html": [
       "<strong id=\"expr\">expr:</strong> <a class=\"ProveItLink\" href=\"expr.ipynb\"><img src=\"expr.png\" style=\"display:inline;vertical-align:middle;\" /></a><br>"
      ],
      "text/plain": [
       "<IPython.core.display.HTML object>"
      ]
     },
     "metadata": {},
     "output_type": "display_data"
    }
   ],
   "source": [
    "# build up the expression from sub-expressions\n",
    "expr = Equals(Equals(Sum(index_or_indices = [k], summand = k, domain = Interval(one, one)), frac(Mult(one, Add(one, one)), two)), TRUE)"
   ]
  },
  {
   "cell_type": "code",
   "execution_count": 3,
   "metadata": {},
   "outputs": [
    {
     "name": "stdout",
     "output_type": "stream",
     "text": [
      "Passed sanity check: expr matches stored_expr\n"
     ]
    }
   ],
   "source": [
    "# check that the built expression is the same as the stored expression\n",
    "assert expr == stored_expr\n",
    "assert expr._style_id == stored_expr._style_id\n",
    "print(\"Passed sanity check: expr matches stored_expr\")"
   ]
  },
  {
   "cell_type": "code",
   "execution_count": 4,
   "metadata": {},
   "outputs": [
    {
     "name": "stdout",
     "output_type": "stream",
     "text": [
      "\\left(\\left(\\sum_{k = 1}^{1} k\\right) = \\frac{1 \\cdot \\left(1 + 1\\right)}{2}\\right) = \\top\n"
     ]
    }
   ],
   "source": [
    "# Show the LaTeX representation of the expression for convenience if you need it.\n",
    "print(stored_expr.latex())"
   ]
  },
  {
   "cell_type": "code",
   "execution_count": 5,
   "metadata": {},
   "outputs": [
    {
     "data": {
      "text/html": [
       "<table>\n",
       "<tr><th>name</th><th>description</th><th>default</th><th>current value</th><th>related methods</th></tr><tr><td>operation</td><td>'infix' or 'function' style formatting</td><td>infix</td><td>infix</td><td></td></tr>\n",
       "<tr><td>wrap_positions</td><td>position(s) at which wrapping is to occur; '2 n - 1' is after the nth operand, '2 n' is after the nth operation.</td><td>()</td><td>()</td><td>('with_wrapping_at', 'with_wrap_before_operator', 'with_wrap_after_operator', 'without_wrapping', 'wrap_positions')</td></tr>\n",
       "<tr><td>justification</td><td>if any wrap positions are set, justify to the 'left', 'center', or 'right'</td><td>center</td><td>center</td><td>('with_justification',)</td></tr>\n",
       "<tr><td>direction</td><td>Direction of the relation (normal or reversed)</td><td>normal</td><td>normal</td><td>('with_direction_reversed', 'is_reversed')</td></tr>\n",
       "</table>\n"
      ],
      "text/plain": [
       "style name: operation\n",
       "description: 'infix' or 'function' style formatting\n",
       "default: infix\n",
       "current value: infix\n",
       "related methods: ()\n",
       "style name: wrap_positions\n",
       "description: position(s) at which wrapping is to occur; '2 n - 1' is after the nth operand, '2 n' is after the nth operation.\n",
       "default: ()\n",
       "current value: ()\n",
       "related methods: ('with_wrapping_at', 'with_wrap_before_operator', 'with_wrap_after_operator', 'without_wrapping', 'wrap_positions')\n",
       "style name: justification\n",
       "description: if any wrap positions are set, justify to the 'left', 'center', or 'right'\n",
       "default: center\n",
       "current value: center\n",
       "related methods: ('with_justification',)\n",
       "style name: direction\n",
       "description: Direction of the relation (normal or reversed)\n",
       "default: normal\n",
       "current value: normal\n",
       "related methods: ('with_direction_reversed', 'is_reversed')"
      ]
     },
     "metadata": {},
     "output_type": "display_data"
    }
   ],
   "source": [
    "stored_expr.style_options()"
   ]
  },
  {
   "cell_type": "code",
   "execution_count": 6,
   "metadata": {},
   "outputs": [
    {
     "data": {
      "text/html": [
       "<table><tr><th>&nbsp;</th><th>core type</th><th>sub-expressions</th><th>expression</th></tr>\n",
       "<tr><td>0</td><td>Operation</td><td>operator:&nbsp;4<br>operands:&nbsp;1<br></td><td><a class=\"ProveItLink\" href=\"expr.ipynb\"><img src=\"expr.png\" style=\"display:inline;vertical-align:middle;\" /></a></td></tr>\n",
       "<tr><td>1</td><td>ExprTuple</td><td>2, 3</td><td><a class=\"ProveItLink\" href=\"../936d27e7221aa411951925ad520101feabad08930/expr.ipynb\"><img src=\"../936d27e7221aa411951925ad520101feabad08930/expr.png\" style=\"display:inline;vertical-align:middle;\" /></a></td></tr>\n",
       "<tr><td>2</td><td>Operation</td><td>operator:&nbsp;4<br>operands:&nbsp;5<br></td><td><a class=\"ProveItLink\" href=\"../6b5e989beb391e6b8d951cd23852e2bcd13db0300/expr.ipynb\"><img src=\"../6b5e989beb391e6b8d951cd23852e2bcd13db0300/expr.png\" style=\"display:inline;vertical-align:middle;\" /></a></td></tr>\n",
       "<tr><td>3</td><td>Literal</td><td></td><td><a class=\"ProveItLink\" href=\"../../../../../logic/booleans/__pv_it/common/95025295868b9266d37330b4427adf122f6061770/expr.ipynb\"><img src=\"../../../../../logic/booleans/__pv_it/common/95025295868b9266d37330b4427adf122f6061770/expr.png\" style=\"display:inline;vertical-align:middle;\" /></a></td></tr>\n",
       "<tr><td>4</td><td>Literal</td><td></td><td><a class=\"ProveItLink\" href=\"../../../../../logic/equality/__pv_it/common/fb96dc12b2aa8801dda64d0132b396c63d1502bb0/expr.ipynb\"><img src=\"../../../../../logic/equality/__pv_it/common/fb96dc12b2aa8801dda64d0132b396c63d1502bb0/expr.png\" style=\"display:inline;vertical-align:middle;\" /></a></td></tr>\n",
       "<tr><td>5</td><td>ExprTuple</td><td>6, 7</td><td><a class=\"ProveItLink\" href=\"../4409fb2b4b139f5c6cd89f0b5cbcf82af241978f0/expr.ipynb\"><img src=\"../4409fb2b4b139f5c6cd89f0b5cbcf82af241978f0/expr.png\" style=\"display:inline;vertical-align:middle;\" /></a></td></tr>\n",
       "<tr><td>6</td><td>Operation</td><td>operator:&nbsp;8<br>operand:&nbsp;12<br></td><td><a class=\"ProveItLink\" href=\"../390790a58e2f8b86de3700a1eafeef6f9a3b8bc20/expr.ipynb\"><img src=\"../390790a58e2f8b86de3700a1eafeef6f9a3b8bc20/expr.png\" style=\"display:inline;vertical-align:middle;\" /></a></td></tr>\n",
       "<tr><td>7</td><td>Operation</td><td>operator:&nbsp;10<br>operands:&nbsp;11<br></td><td><a class=\"ProveItLink\" href=\"../fe21802fcecfc76a809f9df35d284a3a4eb895ca0/expr.ipynb\"><img src=\"../fe21802fcecfc76a809f9df35d284a3a4eb895ca0/expr.png\" style=\"display:inline;vertical-align:middle;\" /></a></td></tr>\n",
       "<tr><td>8</td><td>Literal</td><td></td><td><a class=\"ProveItLink\" href=\"../../common/14fe61cccc388f91dfd83d3ca31cf27448cc070a0/expr.ipynb\"><img src=\"../../common/14fe61cccc388f91dfd83d3ca31cf27448cc070a0/expr.png\" style=\"display:inline;vertical-align:middle;\" /></a></td></tr>\n",
       "<tr><td>9</td><td>ExprTuple</td><td>12</td><td><a class=\"ProveItLink\" href=\"../143e6e23fedc357f49ca12bff0ce5439d14fa7e00/expr.ipynb\"><img src=\"../143e6e23fedc357f49ca12bff0ce5439d14fa7e00/expr.png\" style=\"display:inline;vertical-align:middle;\" /></a></td></tr>\n",
       "<tr><td>10</td><td>Literal</td><td></td><td><a class=\"ProveItLink\" href=\"../../../../division/__pv_it/common/a2a633e1e3c749fb1f2692466b287b6348c5de840/expr.ipynb\"><img src=\"../../../../division/__pv_it/common/a2a633e1e3c749fb1f2692466b287b6348c5de840/expr.png\" style=\"display:inline;vertical-align:middle;\" /></a></td></tr>\n",
       "<tr><td>11</td><td>ExprTuple</td><td>13, 14</td><td><a class=\"ProveItLink\" href=\"../fbefa287300638f7dde8dfa0f0991c090097b4660/expr.ipynb\"><img src=\"../fbefa287300638f7dde8dfa0f0991c090097b4660/expr.png\" style=\"display:inline;vertical-align:middle;\" /></a></td></tr>\n",
       "<tr><td>12</td><td>Lambda</td><td>parameter:&nbsp;24<br>body:&nbsp;16<br></td><td><a class=\"ProveItLink\" href=\"../df08bd3957ea8a8029c721c20ffc05069bcd0fff0/expr.ipynb\"><img src=\"../df08bd3957ea8a8029c721c20ffc05069bcd0fff0/expr.png\" style=\"display:inline;vertical-align:middle;\" /></a></td></tr>\n",
       "<tr><td>13</td><td>Operation</td><td>operator:&nbsp;17<br>operands:&nbsp;18<br></td><td><a class=\"ProveItLink\" href=\"../97a039a65eafb58e3a74976875f36a2e6c726ee60/expr.ipynb\"><img src=\"../97a039a65eafb58e3a74976875f36a2e6c726ee60/expr.png\" style=\"display:inline;vertical-align:middle;\" /></a></td></tr>\n",
       "<tr><td>14</td><td>Literal</td><td></td><td><a class=\"ProveItLink\" href=\"../../../../numerals/__pv_it/common/af4aab8a07465db063742696e006d04670f30cf10/expr.ipynb\"><img src=\"../../../../numerals/__pv_it/common/af4aab8a07465db063742696e006d04670f30cf10/expr.png\" style=\"display:inline;vertical-align:middle;\" /></a></td></tr>\n",
       "<tr><td>15</td><td>ExprTuple</td><td>24</td><td><a class=\"ProveItLink\" href=\"../../common/36569ebfbef1eee76da90134ba3a4620a4cb94130/expr.ipynb\"><img src=\"../../common/36569ebfbef1eee76da90134ba3a4620a4cb94130/expr.png\" style=\"display:inline;vertical-align:middle;\" /></a></td></tr>\n",
       "<tr><td>16</td><td>Conditional</td><td>value:&nbsp;24<br>condition:&nbsp;19<br></td><td><a class=\"ProveItLink\" href=\"../be4b5440187f8b1d2a94d5cc72c2d9bbdf4564f50/expr.ipynb\"><img src=\"../be4b5440187f8b1d2a94d5cc72c2d9bbdf4564f50/expr.png\" style=\"display:inline;vertical-align:middle;\" /></a></td></tr>\n",
       "<tr><td>17</td><td>Literal</td><td></td><td><a class=\"ProveItLink\" href=\"../../../../multiplication/__pv_it/common/ed719cef37831779c16481533a4d380a2f95ab270/expr.ipynb\"><img src=\"../../../../multiplication/__pv_it/common/ed719cef37831779c16481533a4d380a2f95ab270/expr.png\" style=\"display:inline;vertical-align:middle;\" /></a></td></tr>\n",
       "<tr><td>18</td><td>ExprTuple</td><td>28, 20</td><td><a class=\"ProveItLink\" href=\"../fcd95753c3e5d8fd825e96f9d6e58881e6c3a37a0/expr.ipynb\"><img src=\"../fcd95753c3e5d8fd825e96f9d6e58881e6c3a37a0/expr.png\" style=\"display:inline;vertical-align:middle;\" /></a></td></tr>\n",
       "<tr><td>19</td><td>Operation</td><td>operator:&nbsp;21<br>operands:&nbsp;22<br></td><td><a class=\"ProveItLink\" href=\"../8fef265fae32cbc88e6ecb83cf3c858c19a6cf060/expr.ipynb\"><img src=\"../8fef265fae32cbc88e6ecb83cf3c858c19a6cf060/expr.png\" style=\"display:inline;vertical-align:middle;\" /></a></td></tr>\n",
       "<tr><td>20</td><td>Operation</td><td>operator:&nbsp;23<br>operands:&nbsp;27<br></td><td><a class=\"ProveItLink\" href=\"../../../../numerals/decimals/__pv_it/theorems/1e40f6e82e1852b5fcf536a1ad215c3adddf709a0/expr.ipynb\"><img src=\"../../../../numerals/decimals/__pv_it/theorems/1e40f6e82e1852b5fcf536a1ad215c3adddf709a0/expr.png\" style=\"display:inline;vertical-align:middle;\" /></a></td></tr>\n",
       "<tr><td>21</td><td>Literal</td><td></td><td><a class=\"ProveItLink\" href=\"../../../../../logic/sets/membership/__pv_it/common/477487d8796864d23d5810f83761435f25167f690/expr.ipynb\"><img src=\"../../../../../logic/sets/membership/__pv_it/common/477487d8796864d23d5810f83761435f25167f690/expr.png\" style=\"display:inline;vertical-align:middle;\" /></a></td></tr>\n",
       "<tr><td>22</td><td>ExprTuple</td><td>24, 25</td><td><a class=\"ProveItLink\" href=\"../88d8ee6df852047ed912eccdef23689259b00a340/expr.ipynb\"><img src=\"../88d8ee6df852047ed912eccdef23689259b00a340/expr.png\" style=\"display:inline;vertical-align:middle;\" /></a></td></tr>\n",
       "<tr><td>23</td><td>Literal</td><td></td><td><a class=\"ProveItLink\" href=\"../../../../addition/__pv_it/common/4b7effaab3619a1c2c38fe2dee8601df8ec714590/expr.ipynb\"><img src=\"../../../../addition/__pv_it/common/4b7effaab3619a1c2c38fe2dee8601df8ec714590/expr.png\" style=\"display:inline;vertical-align:middle;\" /></a></td></tr>\n",
       "<tr><td>24</td><td>Variable</td><td></td><td><a class=\"ProveItLink\" href=\"../../../../../__pv_it/common/63b7c64bf9ec7a04ecc396c7a1670f3f12fb59490/expr.ipynb\"><img src=\"../../../../../__pv_it/common/63b7c64bf9ec7a04ecc396c7a1670f3f12fb59490/expr.png\" style=\"display:inline;vertical-align:middle;\" /></a></td></tr>\n",
       "<tr><td>25</td><td>Operation</td><td>operator:&nbsp;26<br>operands:&nbsp;27<br></td><td><a class=\"ProveItLink\" href=\"../ee479403f7216da370102637018a3846ba78c1890/expr.ipynb\"><img src=\"../ee479403f7216da370102637018a3846ba78c1890/expr.png\" style=\"display:inline;vertical-align:middle;\" /></a></td></tr>\n",
       "<tr><td>26</td><td>Literal</td><td></td><td><a class=\"ProveItLink\" href=\"../../../../number_sets/integers/__pv_it/common/92f3a0a77e3c3ea8e4a5c8674edadc54e4f57d550/expr.ipynb\"><img src=\"../../../../number_sets/integers/__pv_it/common/92f3a0a77e3c3ea8e4a5c8674edadc54e4f57d550/expr.png\" style=\"display:inline;vertical-align:middle;\" /></a></td></tr>\n",
       "<tr><td>27</td><td>ExprTuple</td><td>28, 28</td><td><a class=\"ProveItLink\" href=\"../../../../numerals/decimals/__pv_it/theorems/63ccaf78288b178cb813bdb55498aa1097f155420/expr.ipynb\"><img src=\"../../../../numerals/decimals/__pv_it/theorems/63ccaf78288b178cb813bdb55498aa1097f155420/expr.png\" style=\"display:inline;vertical-align:middle;\" /></a></td></tr>\n",
       "<tr><td>28</td><td>Literal</td><td></td><td><a class=\"ProveItLink\" href=\"../../../../numerals/__pv_it/common/682157d4892d216d9e5626ed533aff9b56b9506e0/expr.ipynb\"><img src=\"../../../../numerals/__pv_it/common/682157d4892d216d9e5626ed533aff9b56b9506e0/expr.png\" style=\"display:inline;vertical-align:middle;\" /></a></td></tr>\n",
       "</table>\n"
      ],
      "text/plain": [
       "0. ((Sum_{k = 1}^{1} k) = ((1 * (1 + 1)) / 2)) = TRUE\n",
       "   core type: Operation\n",
       "   operator: 4\n",
       "   operands: 1\n",
       "1. ((Sum_{k = 1}^{1} k) = ((1 * (1 + 1)) / 2), TRUE)\n",
       "   core type: ExprTuple\n",
       "   sub-expressions: 2, 3\n",
       "2. (Sum_{k = 1}^{1} k) = ((1 * (1 + 1)) / 2)\n",
       "   core type: Operation\n",
       "   operator: 4\n",
       "   operands: 5\n",
       "3. TRUE\n",
       "   core type: Literal\n",
       "   sub-expressions: \n",
       "4. =\n",
       "   core type: Literal\n",
       "   sub-expressions: \n",
       "5. (Sum_{k = 1}^{1} k, (1 * (1 + 1)) / 2)\n",
       "   core type: ExprTuple\n",
       "   sub-expressions: 6, 7\n",
       "6. Sum_{k = 1}^{1} k\n",
       "   core type: Operation\n",
       "   operator: 8\n",
       "   operand: 12\n",
       "7. (1 * (1 + 1)) / 2\n",
       "   core type: Operation\n",
       "   operator: 10\n",
       "   operands: 11\n",
       "8. Sum\n",
       "   core type: Literal\n",
       "   sub-expressions: \n",
       "9. (k -> {k if k in {1 .. 1}.)\n",
       "   core type: ExprTuple\n",
       "   sub-expressions: 12\n",
       "10. /\n",
       "    core type: Literal\n",
       "    sub-expressions: \n",
       "11. (1 * (1 + 1), 2)\n",
       "    core type: ExprTuple\n",
       "    sub-expressions: 13, 14\n",
       "12. k -> {k if k in {1 .. 1}.\n",
       "    core type: Lambda\n",
       "    parameter: 24\n",
       "    body: 16\n",
       "13. 1 * (1 + 1)\n",
       "    core type: Operation\n",
       "    operator: 17\n",
       "    operands: 18\n",
       "14. 2\n",
       "    core type: Literal\n",
       "    sub-expressions: \n",
       "15. (k)\n",
       "    core type: ExprTuple\n",
       "    sub-expressions: 24\n",
       "16. {k if k in {1 .. 1}.\n",
       "    core type: Conditional\n",
       "    value: 24\n",
       "    condition: 19\n",
       "17. *\n",
       "    core type: Literal\n",
       "    sub-expressions: \n",
       "18. (1, 1 + 1)\n",
       "    core type: ExprTuple\n",
       "    sub-expressions: 28, 20\n",
       "19. k in {1 .. 1}\n",
       "    core type: Operation\n",
       "    operator: 21\n",
       "    operands: 22\n",
       "20. 1 + 1\n",
       "    core type: Operation\n",
       "    operator: 23\n",
       "    operands: 27\n",
       "21. in\n",
       "    core type: Literal\n",
       "    sub-expressions: \n",
       "22. (k, {1 .. 1})\n",
       "    core type: ExprTuple\n",
       "    sub-expressions: 24, 25\n",
       "23. +\n",
       "    core type: Literal\n",
       "    sub-expressions: \n",
       "24. k\n",
       "    core type: Variable\n",
       "    sub-expressions: \n",
       "25. {1 .. 1}\n",
       "    core type: Operation\n",
       "    operator: 26\n",
       "    operands: 27\n",
       "26. Interval\n",
       "    core type: Literal\n",
       "    sub-expressions: \n",
       "27. (1, 1)\n",
       "    core type: ExprTuple\n",
       "    sub-expressions: 28, 28\n",
       "28. 1\n",
       "    core type: Literal\n",
       "    sub-expressions: "
      ]
     },
     "metadata": {},
     "output_type": "display_data"
    }
   ],
   "source": [
    "# display the expression information\n",
    "stored_expr.expr_info()"
   ]
  },
  {
   "cell_type": "code",
   "execution_count": null,
   "metadata": {},
   "outputs": [],
   "source": []
  }
 ],
 "metadata": {
  "kernelspec": {
   "display_name": "Python 3",
   "language": "python",
   "name": "python3"
  }
 },
 "nbformat": 4,
 "nbformat_minor": 0
}