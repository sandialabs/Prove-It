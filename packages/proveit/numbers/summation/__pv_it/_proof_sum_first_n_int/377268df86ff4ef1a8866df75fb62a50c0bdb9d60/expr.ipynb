{
 "cells": [
  {
   "cell_type": "markdown",
   "metadata": {},
   "source": [
    "Expression of type <a class=\"ProveItLink\" href=\"../../../../../../../doc/html/api/proveit.ExprTuple.html\">ExprTuple</a>\n",
    "=======================\n",
    "# from the theory of <a class=\"ProveItLink\" href=\"../../../_theory_nbs_/theory.ipynb\">proveit.numbers.summation</a>"
   ]
  },
  {
   "cell_type": "code",
   "execution_count": 1,
   "metadata": {},
   "outputs": [],
   "source": [
    "import proveit\n",
    "# Automation is not needed when building an expression:\n",
    "proveit.defaults.automation = False # This will speed things up.\n",
    "proveit.defaults.inline_pngs = False # Makes files smaller.\n",
    "%load_expr # Load the stored expression as 'stored_expr'\n",
    "# import Expression classes needed to build the expression\n",
    "from proveit import ExprTuple, m\n",
    "from proveit.numbers import Add, Mult, frac, one, two"
   ]
  },
  {
   "cell_type": "code",
   "execution_count": 2,
   "metadata": {},
   "outputs": [
    {
     "data": {
      "text/html": [
       "<strong id=\"expr\">expr:</strong> <a class=\"ProveItLink\" href=\"expr.ipynb\"><img src=\"expr.png\" style=\"display:inline;vertical-align:middle;\" /></a><br>"
      ],
      "text/plain": [
       "<IPython.core.display.HTML object>"
      ]
     },
     "metadata": {},
     "output_type": "display_data"
    }
   ],
   "source": [
    "# build up the expression from sub-expressions\n",
    "sub_expr1 = Add(m, one)\n",
    "expr = ExprTuple(Add(frac(Mult(m, sub_expr1), two), frac(Mult(two, sub_expr1), two)), Mult(frac(sub_expr1, two), Add(m, two)))"
   ]
  },
  {
   "cell_type": "code",
   "execution_count": 3,
   "metadata": {},
   "outputs": [
    {
     "name": "stdout",
     "output_type": "stream",
     "text": [
      "Passed sanity check: expr matches stored_expr\n"
     ]
    }
   ],
   "source": [
    "# check that the built expression is the same as the stored expression\n",
    "assert expr == stored_expr\n",
    "assert expr._style_id == stored_expr._style_id\n",
    "print(\"Passed sanity check: expr matches stored_expr\")"
   ]
  },
  {
   "cell_type": "code",
   "execution_count": 4,
   "metadata": {},
   "outputs": [
    {
     "name": "stdout",
     "output_type": "stream",
     "text": [
      "\\left(\\frac{m \\cdot \\left(m + 1\\right)}{2} + \\frac{2 \\cdot \\left(m + 1\\right)}{2}, \\frac{m + 1}{2} \\cdot \\left(m + 2\\right)\\right)\n"
     ]
    }
   ],
   "source": [
    "# Show the LaTeX representation of the expression for convenience if you need it.\n",
    "print(stored_expr.latex())"
   ]
  },
  {
   "cell_type": "code",
   "execution_count": 5,
   "metadata": {},
   "outputs": [
    {
     "data": {
      "text/html": [
       "<table>\n",
       "<tr><th>name</th><th>description</th><th>default</th><th>current value</th><th>related methods</th></tr><tr><td>wrap_positions</td><td>position(s) at which wrapping is to occur; 'n' is after the nth comma.</td><td>()</td><td>()</td><td>('with_wrapping_at',)</td></tr>\n",
       "<tr><td>justification</td><td>if any wrap positions are set, justify to the 'left', 'center', or 'right'</td><td>left</td><td>left</td><td>('with_justification',)</td></tr>\n",
       "</table>\n"
      ],
      "text/plain": [
       "style name: wrap_positions\n",
       "description: position(s) at which wrapping is to occur; 'n' is after the nth comma.\n",
       "default: ()\n",
       "current value: ()\n",
       "related methods: ('with_wrapping_at',)\n",
       "style name: justification\n",
       "description: if any wrap positions are set, justify to the 'left', 'center', or 'right'\n",
       "default: left\n",
       "current value: left\n",
       "related methods: ('with_justification',)"
      ]
     },
     "metadata": {},
     "output_type": "display_data"
    }
   ],
   "source": [
    "stored_expr.style_options()"
   ]
  },
  {
   "cell_type": "code",
   "execution_count": 6,
   "metadata": {},
   "outputs": [
    {
     "data": {
      "text/html": [
       "<table><tr><th>&nbsp;</th><th>core type</th><th>sub-expressions</th><th>expression</th></tr>\n",
       "<tr><td>0</td><td>ExprTuple</td><td>1, 2</td><td><a class=\"ProveItLink\" href=\"expr.ipynb\"><img src=\"expr.png\" style=\"display:inline;vertical-align:middle;\" /></a></td></tr>\n",
       "<tr><td>1</td><td>Operation</td><td>operator:&nbsp;21<br>operands:&nbsp;3<br></td><td><a class=\"ProveItLink\" href=\"../9c55b753bcdd1a42d25d98592654d4d732fba7d60/expr.ipynb\"><img src=\"../9c55b753bcdd1a42d25d98592654d4d732fba7d60/expr.png\" style=\"display:inline;vertical-align:middle;\" /></a></td></tr>\n",
       "<tr><td>2</td><td>Operation</td><td>operator:&nbsp;17<br>operands:&nbsp;4<br></td><td><a class=\"ProveItLink\" href=\"../4259e633450c8fadc811c9a3a8054771aa7daeba0/expr.ipynb\"><img src=\"../4259e633450c8fadc811c9a3a8054771aa7daeba0/expr.png\" style=\"display:inline;vertical-align:middle;\" /></a></td></tr>\n",
       "<tr><td>3</td><td>ExprTuple</td><td>5, 6</td><td><a class=\"ProveItLink\" href=\"../c344d603f3b0d69927a913424dd427a49aebeabd0/expr.ipynb\"><img src=\"../c344d603f3b0d69927a913424dd427a49aebeabd0/expr.png\" style=\"display:inline;vertical-align:middle;\" /></a></td></tr>\n",
       "<tr><td>4</td><td>ExprTuple</td><td>7, 8</td><td><a class=\"ProveItLink\" href=\"../fcc669396184bef59cba9275c30411de970a62360/expr.ipynb\"><img src=\"../fcc669396184bef59cba9275c30411de970a62360/expr.png\" style=\"display:inline;vertical-align:middle;\" /></a></td></tr>\n",
       "<tr><td>5</td><td>Operation</td><td>operator:&nbsp;11<br>operands:&nbsp;9<br></td><td><a class=\"ProveItLink\" href=\"../125a99bfccbf0daae3ac379a1569480c4ff539e30/expr.ipynb\"><img src=\"../125a99bfccbf0daae3ac379a1569480c4ff539e30/expr.png\" style=\"display:inline;vertical-align:middle;\" /></a></td></tr>\n",
       "<tr><td>6</td><td>Operation</td><td>operator:&nbsp;11<br>operands:&nbsp;10<br></td><td><a class=\"ProveItLink\" href=\"../9bef9bd064707936394389097875db5d0d9696b30/expr.ipynb\"><img src=\"../9bef9bd064707936394389097875db5d0d9696b30/expr.png\" style=\"display:inline;vertical-align:middle;\" /></a></td></tr>\n",
       "<tr><td>7</td><td>Operation</td><td>operator:&nbsp;11<br>operands:&nbsp;12<br></td><td><a class=\"ProveItLink\" href=\"../3ebe23cc3b76fa24f69266f293417776348d60100/expr.ipynb\"><img src=\"../3ebe23cc3b76fa24f69266f293417776348d60100/expr.png\" style=\"display:inline;vertical-align:middle;\" /></a></td></tr>\n",
       "<tr><td>8</td><td>Operation</td><td>operator:&nbsp;21<br>operands:&nbsp;13<br></td><td><a class=\"ProveItLink\" href=\"../656bbe40cadb9040b3751e9ab1b0716a733a380a0/expr.ipynb\"><img src=\"../656bbe40cadb9040b3751e9ab1b0716a733a380a0/expr.png\" style=\"display:inline;vertical-align:middle;\" /></a></td></tr>\n",
       "<tr><td>9</td><td>ExprTuple</td><td>14, 19</td><td><a class=\"ProveItLink\" href=\"../94b47ad99bbeda63cfed2df61bfd814803e0e5c80/expr.ipynb\"><img src=\"../94b47ad99bbeda63cfed2df61bfd814803e0e5c80/expr.png\" style=\"display:inline;vertical-align:middle;\" /></a></td></tr>\n",
       "<tr><td>10</td><td>ExprTuple</td><td>15, 19</td><td><a class=\"ProveItLink\" href=\"../5b4fb1ca0d8821f84f155fb78b3c54d9b1df93130/expr.ipynb\"><img src=\"../5b4fb1ca0d8821f84f155fb78b3c54d9b1df93130/expr.png\" style=\"display:inline;vertical-align:middle;\" /></a></td></tr>\n",
       "<tr><td>11</td><td>Literal</td><td></td><td><a class=\"ProveItLink\" href=\"../../../../division/__pv_it/common/a2a633e1e3c749fb1f2692466b287b6348c5de840/expr.ipynb\"><img src=\"../../../../division/__pv_it/common/a2a633e1e3c749fb1f2692466b287b6348c5de840/expr.png\" style=\"display:inline;vertical-align:middle;\" /></a></td></tr>\n",
       "<tr><td>12</td><td>ExprTuple</td><td>20, 19</td><td><a class=\"ProveItLink\" href=\"../87f8c4ff42faf50aeea31bf4282fe9e6cf50c67f0/expr.ipynb\"><img src=\"../87f8c4ff42faf50aeea31bf4282fe9e6cf50c67f0/expr.png\" style=\"display:inline;vertical-align:middle;\" /></a></td></tr>\n",
       "<tr><td>13</td><td>ExprTuple</td><td>23, 19</td><td><a class=\"ProveItLink\" href=\"../0435b8d55df7efd2ee6294990555c08ca4b85bb40/expr.ipynb\"><img src=\"../0435b8d55df7efd2ee6294990555c08ca4b85bb40/expr.png\" style=\"display:inline;vertical-align:middle;\" /></a></td></tr>\n",
       "<tr><td>14</td><td>Operation</td><td>operator:&nbsp;17<br>operands:&nbsp;16<br></td><td><a class=\"ProveItLink\" href=\"../6463ace337f8ef115ea9d854f227ae12460ba5d30/expr.ipynb\"><img src=\"../6463ace337f8ef115ea9d854f227ae12460ba5d30/expr.png\" style=\"display:inline;vertical-align:middle;\" /></a></td></tr>\n",
       "<tr><td>15</td><td>Operation</td><td>operator:&nbsp;17<br>operands:&nbsp;18<br></td><td><a class=\"ProveItLink\" href=\"../7998fb507ea73dc0268d48b71006f6991a157a280/expr.ipynb\"><img src=\"../7998fb507ea73dc0268d48b71006f6991a157a280/expr.png\" style=\"display:inline;vertical-align:middle;\" /></a></td></tr>\n",
       "<tr><td>16</td><td>ExprTuple</td><td>23, 20</td><td><a class=\"ProveItLink\" href=\"../aad7ab797c863af5cf146609e96d511f26272d550/expr.ipynb\"><img src=\"../aad7ab797c863af5cf146609e96d511f26272d550/expr.png\" style=\"display:inline;vertical-align:middle;\" /></a></td></tr>\n",
       "<tr><td>17</td><td>Literal</td><td></td><td><a class=\"ProveItLink\" href=\"../../../../multiplication/__pv_it/common/ed719cef37831779c16481533a4d380a2f95ab270/expr.ipynb\"><img src=\"../../../../multiplication/__pv_it/common/ed719cef37831779c16481533a4d380a2f95ab270/expr.png\" style=\"display:inline;vertical-align:middle;\" /></a></td></tr>\n",
       "<tr><td>18</td><td>ExprTuple</td><td>19, 20</td><td><a class=\"ProveItLink\" href=\"../26dc10da68d63129e31cb7b533caed5d0b58faad0/expr.ipynb\"><img src=\"../26dc10da68d63129e31cb7b533caed5d0b58faad0/expr.png\" style=\"display:inline;vertical-align:middle;\" /></a></td></tr>\n",
       "<tr><td>19</td><td>Literal</td><td></td><td><a class=\"ProveItLink\" href=\"../../../../numerals/__pv_it/common/af4aab8a07465db063742696e006d04670f30cf10/expr.ipynb\"><img src=\"../../../../numerals/__pv_it/common/af4aab8a07465db063742696e006d04670f30cf10/expr.png\" style=\"display:inline;vertical-align:middle;\" /></a></td></tr>\n",
       "<tr><td>20</td><td>Operation</td><td>operator:&nbsp;21<br>operands:&nbsp;22<br></td><td><a class=\"ProveItLink\" href=\"../../../../__pv_it/common/f0153e6834a9ad14709e8cc9fcde46b29f1ea5f30/expr.ipynb\"><img src=\"../../../../__pv_it/common/f0153e6834a9ad14709e8cc9fcde46b29f1ea5f30/expr.png\" style=\"display:inline;vertical-align:middle;\" /></a></td></tr>\n",
       "<tr><td>21</td><td>Literal</td><td></td><td><a class=\"ProveItLink\" href=\"../../../../addition/__pv_it/common/4b7effaab3619a1c2c38fe2dee8601df8ec714590/expr.ipynb\"><img src=\"../../../../addition/__pv_it/common/4b7effaab3619a1c2c38fe2dee8601df8ec714590/expr.png\" style=\"display:inline;vertical-align:middle;\" /></a></td></tr>\n",
       "<tr><td>22</td><td>ExprTuple</td><td>23, 24</td><td><a class=\"ProveItLink\" href=\"../../../../__pv_it/common/170d11eb07f7b16874eb02f06c0a6709375d45350/expr.ipynb\"><img src=\"../../../../__pv_it/common/170d11eb07f7b16874eb02f06c0a6709375d45350/expr.png\" style=\"display:inline;vertical-align:middle;\" /></a></td></tr>\n",
       "<tr><td>23</td><td>Variable</td><td></td><td><a class=\"ProveItLink\" href=\"../../../../../__pv_it/common/674a03b9c3ca221b3aabd5636837b31528ff33830/expr.ipynb\"><img src=\"../../../../../__pv_it/common/674a03b9c3ca221b3aabd5636837b31528ff33830/expr.png\" style=\"display:inline;vertical-align:middle;\" /></a></td></tr>\n",
       "<tr><td>24</td><td>Literal</td><td></td><td><a class=\"ProveItLink\" href=\"../../../../numerals/__pv_it/common/682157d4892d216d9e5626ed533aff9b56b9506e0/expr.ipynb\"><img src=\"../../../../numerals/__pv_it/common/682157d4892d216d9e5626ed533aff9b56b9506e0/expr.png\" style=\"display:inline;vertical-align:middle;\" /></a></td></tr>\n",
       "</table>\n"
      ],
      "text/plain": [
       "0. (((m * (m + 1)) / 2) + ((2 * (m + 1)) / 2), ((m + 1) / 2) * (m + 2))\n",
       "   core type: ExprTuple\n",
       "   sub-expressions: 1, 2\n",
       "1. ((m * (m + 1)) / 2) + ((2 * (m + 1)) / 2)\n",
       "   core type: Operation\n",
       "   operator: 21\n",
       "   operands: 3\n",
       "2. ((m + 1) / 2) * (m + 2)\n",
       "   core type: Operation\n",
       "   operator: 17\n",
       "   operands: 4\n",
       "3. ((m * (m + 1)) / 2, (2 * (m + 1)) / 2)\n",
       "   core type: ExprTuple\n",
       "   sub-expressions: 5, 6\n",
       "4. ((m + 1) / 2, m + 2)\n",
       "   core type: ExprTuple\n",
       "   sub-expressions: 7, 8\n",
       "5. (m * (m + 1)) / 2\n",
       "   core type: Operation\n",
       "   operator: 11\n",
       "   operands: 9\n",
       "6. (2 * (m + 1)) / 2\n",
       "   core type: Operation\n",
       "   operator: 11\n",
       "   operands: 10\n",
       "7. (m + 1) / 2\n",
       "   core type: Operation\n",
       "   operator: 11\n",
       "   operands: 12\n",
       "8. m + 2\n",
       "   core type: Operation\n",
       "   operator: 21\n",
       "   operands: 13\n",
       "9. (m * (m + 1), 2)\n",
       "   core type: ExprTuple\n",
       "   sub-expressions: 14, 19\n",
       "10. (2 * (m + 1), 2)\n",
       "    core type: ExprTuple\n",
       "    sub-expressions: 15, 19\n",
       "11. /\n",
       "    core type: Literal\n",
       "    sub-expressions: \n",
       "12. (m + 1, 2)\n",
       "    core type: ExprTuple\n",
       "    sub-expressions: 20, 19\n",
       "13. (m, 2)\n",
       "    core type: ExprTuple\n",
       "    sub-expressions: 23, 19\n",
       "14. m * (m + 1)\n",
       "    core type: Operation\n",
       "    operator: 17\n",
       "    operands: 16\n",
       "15. 2 * (m + 1)\n",
       "    core type: Operation\n",
       "    operator: 17\n",
       "    operands: 18\n",
       "16. (m, m + 1)\n",
       "    core type: ExprTuple\n",
       "    sub-expressions: 23, 20\n",
       "17. *\n",
       "    core type: Literal\n",
       "    sub-expressions: \n",
       "18. (2, m + 1)\n",
       "    core type: ExprTuple\n",
       "    sub-expressions: 19, 20\n",
       "19. 2\n",
       "    core type: Literal\n",
       "    sub-expressions: \n",
       "20. m + 1\n",
       "    core type: Operation\n",
       "    operator: 21\n",
       "    operands: 22\n",
       "21. +\n",
       "    core type: Literal\n",
       "    sub-expressions: \n",
       "22. (m, 1)\n",
       "    core type: ExprTuple\n",
       "    sub-expressions: 23, 24\n",
       "23. m\n",
       "    core type: Variable\n",
       "    sub-expressions: \n",
       "24. 1\n",
       "    core type: Literal\n",
       "    sub-expressions: "
      ]
     },
     "metadata": {},
     "output_type": "display_data"
    }
   ],
   "source": [
    "# display the expression information\n",
    "stored_expr.expr_info()"
   ]
  },
  {
   "cell_type": "code",
   "execution_count": null,
   "metadata": {},
   "outputs": [],
   "source": []
  }
 ],
 "metadata": {
  "kernelspec": {
   "display_name": "Python 3",
   "language": "python",
   "name": "python3"
  }
 },
 "nbformat": 4,
 "nbformat_minor": 0
}