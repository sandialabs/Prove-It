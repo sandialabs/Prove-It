{
 "cells": [
  {
   "cell_type": "markdown",
   "metadata": {},
   "source": [
    "Expression of type <a class=\"ProveItLink\" href=\"../../../../../../../doc/html/api/proveit.ExprTuple.html\">ExprTuple</a>\n",
    "=======================\n",
    "# from the theory of <a class=\"ProveItLink\" href=\"../../../_theory_nbs_/theory.ipynb\">proveit.numbers.summation</a>"
   ]
  },
  {
   "cell_type": "code",
   "execution_count": 1,
   "metadata": {},
   "outputs": [],
   "source": [
    "import proveit\n",
    "# Automation is not needed when building an expression:\n",
    "proveit.defaults.automation = False # This will speed things up.\n",
    "proveit.defaults.inline_pngs = False # Makes files smaller.\n",
    "%load_expr # Load the stored expression as 'stored_expr'\n",
    "# import Expression classes needed to build the expression\n",
    "from proveit import Conditional, ExprTuple, Lambda, k, m\n",
    "from proveit.logic import InSet\n",
    "from proveit.numbers import Add, Interval, one, subtract"
   ]
  },
  {
   "cell_type": "code",
   "execution_count": 2,
   "metadata": {},
   "outputs": [
    {
     "data": {
      "text/html": [
       "<strong id=\"expr\">expr:</strong> <a class=\"ProveItLink\" href=\"expr.ipynb\"><img src=\"expr.png\" style=\"display:inline;vertical-align:middle;\" /></a><br>"
      ],
      "text/plain": [
       "<IPython.core.display.HTML object>"
      ]
     },
     "metadata": {},
     "output_type": "display_data"
    }
   ],
   "source": [
    "# build up the expression from sub-expressions\n",
    "expr = ExprTuple(Lambda(k, Conditional(k, InSet(k, Interval(one, subtract(Add(m, one), one))))))"
   ]
  },
  {
   "cell_type": "code",
   "execution_count": 3,
   "metadata": {},
   "outputs": [
    {
     "name": "stdout",
     "output_type": "stream",
     "text": [
      "Passed sanity check: expr matches stored_expr\n"
     ]
    }
   ],
   "source": [
    "# check that the built expression is the same as the stored expression\n",
    "assert expr == stored_expr\n",
    "assert expr._style_id == stored_expr._style_id\n",
    "print(\"Passed sanity check: expr matches stored_expr\")"
   ]
  },
  {
   "cell_type": "code",
   "execution_count": 4,
   "metadata": {},
   "outputs": [
    {
     "name": "stdout",
     "output_type": "stream",
     "text": [
      "\\left(k \\mapsto \\left\\{k \\textrm{ if } k \\in \\{1~\\ldotp \\ldotp~\\left(m + 1\\right) - 1\\}\\right..\\right)\n"
     ]
    }
   ],
   "source": [
    "# Show the LaTeX representation of the expression for convenience if you need it.\n",
    "print(stored_expr.latex())"
   ]
  },
  {
   "cell_type": "code",
   "execution_count": 5,
   "metadata": {},
   "outputs": [
    {
     "data": {
      "text/html": [
       "no style options"
      ],
      "text/plain": [
       "no style options"
      ]
     },
     "metadata": {},
     "output_type": "display_data"
    }
   ],
   "source": [
    "stored_expr.style_options()"
   ]
  },
  {
   "cell_type": "code",
   "execution_count": 6,
   "metadata": {},
   "outputs": [
    {
     "data": {
      "text/html": [
       "<table><tr><th>&nbsp;</th><th>core type</th><th>sub-expressions</th><th>expression</th></tr>\n",
       "<tr><td>0</td><td>ExprTuple</td><td>1</td><td><a class=\"ProveItLink\" href=\"expr.ipynb\"><img src=\"expr.png\" style=\"display:inline;vertical-align:middle;\" /></a></td></tr>\n",
       "<tr><td>1</td><td>Lambda</td><td>parameter:&nbsp;7<br>body:&nbsp;3<br></td><td><a class=\"ProveItLink\" href=\"../84cff7559b95fdd03c40aa6adcf351fa930e23cc0/expr.ipynb\"><img src=\"../84cff7559b95fdd03c40aa6adcf351fa930e23cc0/expr.png\" style=\"display:inline;vertical-align:middle;\" /></a></td></tr>\n",
       "<tr><td>2</td><td>ExprTuple</td><td>7</td><td><a class=\"ProveItLink\" href=\"../../common/36569ebfbef1eee76da90134ba3a4620a4cb94130/expr.ipynb\"><img src=\"../../common/36569ebfbef1eee76da90134ba3a4620a4cb94130/expr.png\" style=\"display:inline;vertical-align:middle;\" /></a></td></tr>\n",
       "<tr><td>3</td><td>Conditional</td><td>value:&nbsp;7<br>condition:&nbsp;4<br></td><td><a class=\"ProveItLink\" href=\"../d944a551f8201eec3a5a0aa22b38138c664a88b90/expr.ipynb\"><img src=\"../d944a551f8201eec3a5a0aa22b38138c664a88b90/expr.png\" style=\"display:inline;vertical-align:middle;\" /></a></td></tr>\n",
       "<tr><td>4</td><td>Operation</td><td>operator:&nbsp;5<br>operands:&nbsp;6<br></td><td><a class=\"ProveItLink\" href=\"../81a1bd9858294cc636b6a8aca3161c145af84b0d0/expr.ipynb\"><img src=\"../81a1bd9858294cc636b6a8aca3161c145af84b0d0/expr.png\" style=\"display:inline;vertical-align:middle;\" /></a></td></tr>\n",
       "<tr><td>5</td><td>Literal</td><td></td><td><a class=\"ProveItLink\" href=\"../../../../../logic/sets/membership/__pv_it/common/477487d8796864d23d5810f83761435f25167f690/expr.ipynb\"><img src=\"../../../../../logic/sets/membership/__pv_it/common/477487d8796864d23d5810f83761435f25167f690/expr.png\" style=\"display:inline;vertical-align:middle;\" /></a></td></tr>\n",
       "<tr><td>6</td><td>ExprTuple</td><td>7, 8</td><td><a class=\"ProveItLink\" href=\"../e1147ffc81f6807ec2039072c1e66a547c254bb60/expr.ipynb\"><img src=\"../e1147ffc81f6807ec2039072c1e66a547c254bb60/expr.png\" style=\"display:inline;vertical-align:middle;\" /></a></td></tr>\n",
       "<tr><td>7</td><td>Variable</td><td></td><td><a class=\"ProveItLink\" href=\"../../../../../__pv_it/common/63b7c64bf9ec7a04ecc396c7a1670f3f12fb59490/expr.ipynb\"><img src=\"../../../../../__pv_it/common/63b7c64bf9ec7a04ecc396c7a1670f3f12fb59490/expr.png\" style=\"display:inline;vertical-align:middle;\" /></a></td></tr>\n",
       "<tr><td>8</td><td>Operation</td><td>operator:&nbsp;9<br>operands:&nbsp;10<br></td><td><a class=\"ProveItLink\" href=\"../90cbcb7c6d9fba3267fac63a2bfdb04b35d001300/expr.ipynb\"><img src=\"../90cbcb7c6d9fba3267fac63a2bfdb04b35d001300/expr.png\" style=\"display:inline;vertical-align:middle;\" /></a></td></tr>\n",
       "<tr><td>9</td><td>Literal</td><td></td><td><a class=\"ProveItLink\" href=\"../../../../number_sets/integers/__pv_it/common/92f3a0a77e3c3ea8e4a5c8674edadc54e4f57d550/expr.ipynb\"><img src=\"../../../../number_sets/integers/__pv_it/common/92f3a0a77e3c3ea8e4a5c8674edadc54e4f57d550/expr.png\" style=\"display:inline;vertical-align:middle;\" /></a></td></tr>\n",
       "<tr><td>10</td><td>ExprTuple</td><td>20, 11</td><td><a class=\"ProveItLink\" href=\"../1f7577bab2d062972cb984ba7a94b86f106970600/expr.ipynb\"><img src=\"../1f7577bab2d062972cb984ba7a94b86f106970600/expr.png\" style=\"display:inline;vertical-align:middle;\" /></a></td></tr>\n",
       "<tr><td>11</td><td>Operation</td><td>operator:&nbsp;15<br>operands:&nbsp;12<br></td><td><a class=\"ProveItLink\" href=\"../ba37b1f9cb747c0ee1befd7f075d374347a50acc0/expr.ipynb\"><img src=\"../ba37b1f9cb747c0ee1befd7f075d374347a50acc0/expr.png\" style=\"display:inline;vertical-align:middle;\" /></a></td></tr>\n",
       "<tr><td>12</td><td>ExprTuple</td><td>13, 14</td><td><a class=\"ProveItLink\" href=\"../d4d7ecc3336a1ba6143775de82eb7353a5959e880/expr.ipynb\"><img src=\"../d4d7ecc3336a1ba6143775de82eb7353a5959e880/expr.png\" style=\"display:inline;vertical-align:middle;\" /></a></td></tr>\n",
       "<tr><td>13</td><td>Operation</td><td>operator:&nbsp;15<br>operands:&nbsp;16<br></td><td><a class=\"ProveItLink\" href=\"../../../../__pv_it/common/f0153e6834a9ad14709e8cc9fcde46b29f1ea5f30/expr.ipynb\"><img src=\"../../../../__pv_it/common/f0153e6834a9ad14709e8cc9fcde46b29f1ea5f30/expr.png\" style=\"display:inline;vertical-align:middle;\" /></a></td></tr>\n",
       "<tr><td>14</td><td>Operation</td><td>operator:&nbsp;17<br>operand:&nbsp;20<br></td><td><a class=\"ProveItLink\" href=\"../../../../addition/subtraction/__pv_it/theorems/bf4beda21975fe8a0a5007615b5bcc943da59bb20/expr.ipynb\"><img src=\"../../../../addition/subtraction/__pv_it/theorems/bf4beda21975fe8a0a5007615b5bcc943da59bb20/expr.png\" style=\"display:inline;vertical-align:middle;\" /></a></td></tr>\n",
       "<tr><td>15</td><td>Literal</td><td></td><td><a class=\"ProveItLink\" href=\"../../../../addition/__pv_it/common/4b7effaab3619a1c2c38fe2dee8601df8ec714590/expr.ipynb\"><img src=\"../../../../addition/__pv_it/common/4b7effaab3619a1c2c38fe2dee8601df8ec714590/expr.png\" style=\"display:inline;vertical-align:middle;\" /></a></td></tr>\n",
       "<tr><td>16</td><td>ExprTuple</td><td>19, 20</td><td><a class=\"ProveItLink\" href=\"../../../../__pv_it/common/170d11eb07f7b16874eb02f06c0a6709375d45350/expr.ipynb\"><img src=\"../../../../__pv_it/common/170d11eb07f7b16874eb02f06c0a6709375d45350/expr.png\" style=\"display:inline;vertical-align:middle;\" /></a></td></tr>\n",
       "<tr><td>17</td><td>Literal</td><td></td><td><a class=\"ProveItLink\" href=\"../../../../negation/__pv_it/common/221b3c4d1770ee9051b7c044c3f9ec61196fc34b0/expr.ipynb\"><img src=\"../../../../negation/__pv_it/common/221b3c4d1770ee9051b7c044c3f9ec61196fc34b0/expr.png\" style=\"display:inline;vertical-align:middle;\" /></a></td></tr>\n",
       "<tr><td>18</td><td>ExprTuple</td><td>20</td><td><a class=\"ProveItLink\" href=\"../../../../addition/subtraction/__pv_it/theorems/b9e4f0dffece176bbe2f36127440684a20e0468e0/expr.ipynb\"><img src=\"../../../../addition/subtraction/__pv_it/theorems/b9e4f0dffece176bbe2f36127440684a20e0468e0/expr.png\" style=\"display:inline;vertical-align:middle;\" /></a></td></tr>\n",
       "<tr><td>19</td><td>Variable</td><td></td><td><a class=\"ProveItLink\" href=\"../../../../../__pv_it/common/674a03b9c3ca221b3aabd5636837b31528ff33830/expr.ipynb\"><img src=\"../../../../../__pv_it/common/674a03b9c3ca221b3aabd5636837b31528ff33830/expr.png\" style=\"display:inline;vertical-align:middle;\" /></a></td></tr>\n",
       "<tr><td>20</td><td>Literal</td><td></td><td><a class=\"ProveItLink\" href=\"../../../../numerals/__pv_it/common/682157d4892d216d9e5626ed533aff9b56b9506e0/expr.ipynb\"><img src=\"../../../../numerals/__pv_it/common/682157d4892d216d9e5626ed533aff9b56b9506e0/expr.png\" style=\"display:inline;vertical-align:middle;\" /></a></td></tr>\n",
       "</table>\n"
      ],
      "text/plain": [
       "0. (k -> {k if k in {1 .. (m + 1) - 1}.)\n",
       "   core type: ExprTuple\n",
       "   sub-expressions: 1\n",
       "1. k -> {k if k in {1 .. (m + 1) - 1}.\n",
       "   core type: Lambda\n",
       "   parameter: 7\n",
       "   body: 3\n",
       "2. (k)\n",
       "   core type: ExprTuple\n",
       "   sub-expressions: 7\n",
       "3. {k if k in {1 .. (m + 1) - 1}.\n",
       "   core type: Conditional\n",
       "   value: 7\n",
       "   condition: 4\n",
       "4. k in {1 .. (m + 1) - 1}\n",
       "   core type: Operation\n",
       "   operator: 5\n",
       "   operands: 6\n",
       "5. in\n",
       "   core type: Literal\n",
       "   sub-expressions: \n",
       "6. (k, {1 .. (m + 1) - 1})\n",
       "   core type: ExprTuple\n",
       "   sub-expressions: 7, 8\n",
       "7. k\n",
       "   core type: Variable\n",
       "   sub-expressions: \n",
       "8. {1 .. (m + 1) - 1}\n",
       "   core type: Operation\n",
       "   operator: 9\n",
       "   operands: 10\n",
       "9. Interval\n",
       "   core type: Literal\n",
       "   sub-expressions: \n",
       "10. (1, (m + 1) - 1)\n",
       "    core type: ExprTuple\n",
       "    sub-expressions: 20, 11\n",
       "11. (m + 1) - 1\n",
       "    core type: Operation\n",
       "    operator: 15\n",
       "    operands: 12\n",
       "12. (m + 1, -1)\n",
       "    core type: ExprTuple\n",
       "    sub-expressions: 13, 14\n",
       "13. m + 1\n",
       "    core type: Operation\n",
       "    operator: 15\n",
       "    operands: 16\n",
       "14. -1\n",
       "    core type: Operation\n",
       "    operator: 17\n",
       "    operand: 20\n",
       "15. +\n",
       "    core type: Literal\n",
       "    sub-expressions: \n",
       "16. (m, 1)\n",
       "    core type: ExprTuple\n",
       "    sub-expressions: 19, 20\n",
       "17. -\n",
       "    core type: Literal\n",
       "    sub-expressions: \n",
       "18. (1)\n",
       "    core type: ExprTuple\n",
       "    sub-expressions: 20\n",
       "19. m\n",
       "    core type: Variable\n",
       "    sub-expressions: \n",
       "20. 1\n",
       "    core type: Literal\n",
       "    sub-expressions: "
      ]
     },
     "metadata": {},
     "output_type": "display_data"
    }
   ],
   "source": [
    "# display the expression information\n",
    "stored_expr.expr_info()"
   ]
  },
  {
   "cell_type": "code",
   "execution_count": null,
   "metadata": {},
   "outputs": [],
   "source": []
  }
 ],
 "metadata": {
  "kernelspec": {
   "display_name": "Python 3",
   "language": "python",
   "name": "python3"
  }
 },
 "nbformat": 4,
 "nbformat_minor": 0
}