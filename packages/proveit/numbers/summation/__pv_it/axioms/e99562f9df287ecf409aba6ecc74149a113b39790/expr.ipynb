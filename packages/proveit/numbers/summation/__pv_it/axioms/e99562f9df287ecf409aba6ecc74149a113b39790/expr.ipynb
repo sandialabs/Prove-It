{
 "cells": [
  {
   "cell_type": "markdown",
   "metadata": {},
   "source": [
    "Expression of type <a class=\"ProveItLink\" href=\"../../../../../../../doc/html/api/proveit.ExprTuple.html\">ExprTuple</a>\n",
    "=======================\n",
    "# from the theory of <a class=\"ProveItLink\" href=\"../../../_theory_nbs_/theory.ipynb\">proveit.numbers.summation</a>"
   ]
  },
  {
   "cell_type": "code",
   "execution_count": 1,
   "metadata": {},
   "outputs": [],
   "source": [
    "import proveit\n",
    "# Automation is not needed when building an expression:\n",
    "proveit.defaults.automation = False # This will speed things up.\n",
    "proveit.defaults.inline_pngs = False # Makes files smaller.\n",
    "%load_expr # Load the stored expression as 'stored_expr'\n",
    "# import Expression classes needed to build the expression\n",
    "from proveit import ExprTuple, a, b, fb, fx, x\n",
    "from proveit.numbers import Add, Interval, Sum, one, subtract"
   ]
  },
  {
   "cell_type": "code",
   "execution_count": 2,
   "metadata": {},
   "outputs": [
    {
     "data": {
      "text/html": [
       "<strong id=\"expr\">expr:</strong> <a class=\"ProveItLink\" href=\"expr.ipynb\"><img src=\"expr.png\" style=\"display:inline;vertical-align:middle;\" /></a><br>"
      ],
      "text/plain": [
       "<IPython.core.display.HTML object>"
      ]
     },
     "metadata": {},
     "output_type": "display_data"
    }
   ],
   "source": [
    "# build up the expression from sub-expressions\n",
    "sub_expr1 = [x]\n",
    "expr = ExprTuple(Sum(index_or_indices = sub_expr1, summand = fx, domain = Interval(a, b)), Add(Sum(index_or_indices = sub_expr1, summand = fx, domain = Interval(a, subtract(b, one))), fb))"
   ]
  },
  {
   "cell_type": "code",
   "execution_count": 3,
   "metadata": {},
   "outputs": [
    {
     "name": "stdout",
     "output_type": "stream",
     "text": [
      "Passed sanity check: expr matches stored_expr\n"
     ]
    }
   ],
   "source": [
    "# check that the built expression is the same as the stored expression\n",
    "assert expr == stored_expr\n",
    "assert expr._style_id == stored_expr._style_id\n",
    "print(\"Passed sanity check: expr matches stored_expr\")"
   ]
  },
  {
   "cell_type": "code",
   "execution_count": 4,
   "metadata": {},
   "outputs": [
    {
     "name": "stdout",
     "output_type": "stream",
     "text": [
      "\\left(\\sum_{x = a}^{b} f\\left(x\\right), \\left(\\sum_{x = a}^{b - 1} f\\left(x\\right)\\right) + f\\left(b\\right)\\right)\n"
     ]
    }
   ],
   "source": [
    "# Show the LaTeX representation of the expression for convenience if you need it.\n",
    "print(stored_expr.latex())"
   ]
  },
  {
   "cell_type": "code",
   "execution_count": 5,
   "metadata": {},
   "outputs": [
    {
     "data": {
      "text/html": [
       "<table>\n",
       "<tr><th>name</th><th>description</th><th>default</th><th>current value</th><th>related methods</th></tr><tr><td>wrap_positions</td><td>position(s) at which wrapping is to occur; 'n' is after the nth comma.</td><td>()</td><td>()</td><td>('with_wrapping_at',)</td></tr>\n",
       "<tr><td>justification</td><td>if any wrap positions are set, justify to the 'left', 'center', or 'right'</td><td>left</td><td>left</td><td>('with_justification',)</td></tr>\n",
       "</table>\n"
      ],
      "text/plain": [
       "style name: wrap_positions\n",
       "description: position(s) at which wrapping is to occur; 'n' is after the nth comma.\n",
       "default: ()\n",
       "current value: ()\n",
       "related methods: ('with_wrapping_at',)\n",
       "style name: justification\n",
       "description: if any wrap positions are set, justify to the 'left', 'center', or 'right'\n",
       "default: left\n",
       "current value: left\n",
       "related methods: ('with_justification',)"
      ]
     },
     "metadata": {},
     "output_type": "display_data"
    }
   ],
   "source": [
    "stored_expr.style_options()"
   ]
  },
  {
   "cell_type": "code",
   "execution_count": 6,
   "metadata": {},
   "outputs": [
    {
     "data": {
      "text/html": [
       "<table><tr><th>&nbsp;</th><th>core type</th><th>sub-expressions</th><th>expression</th></tr>\n",
       "<tr><td>0</td><td>ExprTuple</td><td>1, 2</td><td><a class=\"ProveItLink\" href=\"expr.ipynb\"><img src=\"expr.png\" style=\"display:inline;vertical-align:middle;\" /></a></td></tr>\n",
       "<tr><td>1</td><td>Operation</td><td>operator:&nbsp;9<br>operand:&nbsp;5<br></td><td><a class=\"ProveItLink\" href=\"../d06a8eb43ae5de672df62d97c0feaad13efccdea0/expr.ipynb\"><img src=\"../d06a8eb43ae5de672df62d97c0feaad13efccdea0/expr.png\" style=\"display:inline;vertical-align:middle;\" /></a></td></tr>\n",
       "<tr><td>2</td><td>Operation</td><td>operator:&nbsp;30<br>operands:&nbsp;4<br></td><td><a class=\"ProveItLink\" href=\"../c202d51be7d4087357319dd1896a4b5885eebef80/expr.ipynb\"><img src=\"../c202d51be7d4087357319dd1896a4b5885eebef80/expr.png\" style=\"display:inline;vertical-align:middle;\" /></a></td></tr>\n",
       "<tr><td>3</td><td>ExprTuple</td><td>5</td><td><a class=\"ProveItLink\" href=\"../7e0c3624d8a141723aff52e878166b8cc8befded0/expr.ipynb\"><img src=\"../7e0c3624d8a141723aff52e878166b8cc8befded0/expr.png\" style=\"display:inline;vertical-align:middle;\" /></a></td></tr>\n",
       "<tr><td>4</td><td>ExprTuple</td><td>6, 7</td><td><a class=\"ProveItLink\" href=\"../445a6b45f82e4545731a784d588ab81b274a44ac0/expr.ipynb\"><img src=\"../445a6b45f82e4545731a784d588ab81b274a44ac0/expr.png\" style=\"display:inline;vertical-align:middle;\" /></a></td></tr>\n",
       "<tr><td>5</td><td>Lambda</td><td>parameter:&nbsp;24<br>body:&nbsp;8<br></td><td><a class=\"ProveItLink\" href=\"../165f74e9c54218cf88fb3384cc8e62fb1482dc9b0/expr.ipynb\"><img src=\"../165f74e9c54218cf88fb3384cc8e62fb1482dc9b0/expr.png\" style=\"display:inline;vertical-align:middle;\" /></a></td></tr>\n",
       "<tr><td>6</td><td>Operation</td><td>operator:&nbsp;9<br>operand:&nbsp;13<br></td><td><a class=\"ProveItLink\" href=\"../1b08c830d5a8929afe962cf21312c3a247502c9f0/expr.ipynb\"><img src=\"../1b08c830d5a8929afe962cf21312c3a247502c9f0/expr.png\" style=\"display:inline;vertical-align:middle;\" /></a></td></tr>\n",
       "<tr><td>7</td><td>Operation</td><td>operator:&nbsp;20<br>operand:&nbsp;32<br></td><td><a class=\"ProveItLink\" href=\"../../../../../__pv_it/common/f7c42e5722975eba184a89eadc6ac91c8e9658490/expr.ipynb\"><img src=\"../../../../../__pv_it/common/f7c42e5722975eba184a89eadc6ac91c8e9658490/expr.png\" style=\"display:inline;vertical-align:middle;\" /></a></td></tr>\n",
       "<tr><td>8</td><td>Conditional</td><td>value:&nbsp;17<br>condition:&nbsp;12<br></td><td><a class=\"ProveItLink\" href=\"../8e7d515369775ea4a065aad765a56834c1740d150/expr.ipynb\"><img src=\"../8e7d515369775ea4a065aad765a56834c1740d150/expr.png\" style=\"display:inline;vertical-align:middle;\" /></a></td></tr>\n",
       "<tr><td>9</td><td>Literal</td><td></td><td><a class=\"ProveItLink\" href=\"../../common/14fe61cccc388f91dfd83d3ca31cf27448cc070a0/expr.ipynb\"><img src=\"../../common/14fe61cccc388f91dfd83d3ca31cf27448cc070a0/expr.png\" style=\"display:inline;vertical-align:middle;\" /></a></td></tr>\n",
       "<tr><td>10</td><td>ExprTuple</td><td>13</td><td><a class=\"ProveItLink\" href=\"../0db43413592a9c758561ac906b9798b10bdd44320/expr.ipynb\"><img src=\"../0db43413592a9c758561ac906b9798b10bdd44320/expr.png\" style=\"display:inline;vertical-align:middle;\" /></a></td></tr>\n",
       "<tr><td>11</td><td>ExprTuple</td><td>32</td><td><a class=\"ProveItLink\" href=\"../../../../../__pv_it/common/aa9afb286c61bdccbd2125a13442930aa7bfad490/expr.ipynb\"><img src=\"../../../../../__pv_it/common/aa9afb286c61bdccbd2125a13442930aa7bfad490/expr.png\" style=\"display:inline;vertical-align:middle;\" /></a></td></tr>\n",
       "<tr><td>12</td><td>Operation</td><td>operator:&nbsp;22<br>operands:&nbsp;14<br></td><td><a class=\"ProveItLink\" href=\"../5506772e335d8c23a8240dd0a5f4b411850315500/expr.ipynb\"><img src=\"../5506772e335d8c23a8240dd0a5f4b411850315500/expr.png\" style=\"display:inline;vertical-align:middle;\" /></a></td></tr>\n",
       "<tr><td>13</td><td>Lambda</td><td>parameter:&nbsp;24<br>body:&nbsp;15<br></td><td><a class=\"ProveItLink\" href=\"../c4e682be705f09a2dda75898e51df2e2d7e726fd0/expr.ipynb\"><img src=\"../c4e682be705f09a2dda75898e51df2e2d7e726fd0/expr.png\" style=\"display:inline;vertical-align:middle;\" /></a></td></tr>\n",
       "<tr><td>14</td><td>ExprTuple</td><td>24, 16</td><td><a class=\"ProveItLink\" href=\"../e77dfb4a2041ee24e8b2359ebc293316a2cbbf5c0/expr.ipynb\"><img src=\"../e77dfb4a2041ee24e8b2359ebc293316a2cbbf5c0/expr.png\" style=\"display:inline;vertical-align:middle;\" /></a></td></tr>\n",
       "<tr><td>15</td><td>Conditional</td><td>value:&nbsp;17<br>condition:&nbsp;18<br></td><td><a class=\"ProveItLink\" href=\"../24d46aa8670de71941e70e784817d3254fed0a700/expr.ipynb\"><img src=\"../24d46aa8670de71941e70e784817d3254fed0a700/expr.png\" style=\"display:inline;vertical-align:middle;\" /></a></td></tr>\n",
       "<tr><td>16</td><td>Operation</td><td>operator:&nbsp;26<br>operands:&nbsp;19<br></td><td><a class=\"ProveItLink\" href=\"../498872fecc183ccfbbe24c2b7a9ae11a74603e9a0/expr.ipynb\"><img src=\"../498872fecc183ccfbbe24c2b7a9ae11a74603e9a0/expr.png\" style=\"display:inline;vertical-align:middle;\" /></a></td></tr>\n",
       "<tr><td>17</td><td>Operation</td><td>operator:&nbsp;20<br>operand:&nbsp;24<br></td><td><a class=\"ProveItLink\" href=\"../../../../../__pv_it/common/6774f61458aed4cc9eb250f92b3634f1d09b19a40/expr.ipynb\"><img src=\"../../../../../__pv_it/common/6774f61458aed4cc9eb250f92b3634f1d09b19a40/expr.png\" style=\"display:inline;vertical-align:middle;\" /></a></td></tr>\n",
       "<tr><td>18</td><td>Operation</td><td>operator:&nbsp;22<br>operands:&nbsp;23<br></td><td><a class=\"ProveItLink\" href=\"../7b09269771d56fa75cb2ca5e2419d7fc522dbde10/expr.ipynb\"><img src=\"../7b09269771d56fa75cb2ca5e2419d7fc522dbde10/expr.png\" style=\"display:inline;vertical-align:middle;\" /></a></td></tr>\n",
       "<tr><td>19</td><td>ExprTuple</td><td>28, 32</td><td><a class=\"ProveItLink\" href=\"../3dcd5ceea6334d8cb48fe14fdae236293aa9a6050/expr.ipynb\"><img src=\"../3dcd5ceea6334d8cb48fe14fdae236293aa9a6050/expr.png\" style=\"display:inline;vertical-align:middle;\" /></a></td></tr>\n",
       "<tr><td>20</td><td>Variable</td><td></td><td><a class=\"ProveItLink\" href=\"../../../../../__pv_it/common/01b6dbb444a31fc38af4c2379badef6c75b363710/expr.ipynb\"><img src=\"../../../../../__pv_it/common/01b6dbb444a31fc38af4c2379badef6c75b363710/expr.png\" style=\"display:inline;vertical-align:middle;\" /></a></td></tr>\n",
       "<tr><td>21</td><td>ExprTuple</td><td>24</td><td><a class=\"ProveItLink\" href=\"../../../../../__pv_it/common/eacfeccc0521684fcb20fe8f5180ac50fca471f20/expr.ipynb\"><img src=\"../../../../../__pv_it/common/eacfeccc0521684fcb20fe8f5180ac50fca471f20/expr.png\" style=\"display:inline;vertical-align:middle;\" /></a></td></tr>\n",
       "<tr><td>22</td><td>Literal</td><td></td><td><a class=\"ProveItLink\" href=\"../../../../../logic/sets/membership/__pv_it/common/477487d8796864d23d5810f83761435f25167f690/expr.ipynb\"><img src=\"../../../../../logic/sets/membership/__pv_it/common/477487d8796864d23d5810f83761435f25167f690/expr.png\" style=\"display:inline;vertical-align:middle;\" /></a></td></tr>\n",
       "<tr><td>23</td><td>ExprTuple</td><td>24, 25</td><td><a class=\"ProveItLink\" href=\"../f007c8339c53aa55d226d221d9356a1d164c417f0/expr.ipynb\"><img src=\"../f007c8339c53aa55d226d221d9356a1d164c417f0/expr.png\" style=\"display:inline;vertical-align:middle;\" /></a></td></tr>\n",
       "<tr><td>24</td><td>Variable</td><td></td><td><a class=\"ProveItLink\" href=\"../../../../../__pv_it/common/a0d9d672aa5e272d907247690c152cc2c6daafb70/expr.ipynb\"><img src=\"../../../../../__pv_it/common/a0d9d672aa5e272d907247690c152cc2c6daafb70/expr.png\" style=\"display:inline;vertical-align:middle;\" /></a></td></tr>\n",
       "<tr><td>25</td><td>Operation</td><td>operator:&nbsp;26<br>operands:&nbsp;27<br></td><td><a class=\"ProveItLink\" href=\"../991a6c6a0f29aa348cee01e40f8be0b6c4ea51c80/expr.ipynb\"><img src=\"../991a6c6a0f29aa348cee01e40f8be0b6c4ea51c80/expr.png\" style=\"display:inline;vertical-align:middle;\" /></a></td></tr>\n",
       "<tr><td>26</td><td>Literal</td><td></td><td><a class=\"ProveItLink\" href=\"../../../../number_sets/integers/__pv_it/common/92f3a0a77e3c3ea8e4a5c8674edadc54e4f57d550/expr.ipynb\"><img src=\"../../../../number_sets/integers/__pv_it/common/92f3a0a77e3c3ea8e4a5c8674edadc54e4f57d550/expr.png\" style=\"display:inline;vertical-align:middle;\" /></a></td></tr>\n",
       "<tr><td>27</td><td>ExprTuple</td><td>28, 29</td><td><a class=\"ProveItLink\" href=\"../a47c0f4d9445040c0704ff299ad0a2415d41384e0/expr.ipynb\"><img src=\"../a47c0f4d9445040c0704ff299ad0a2415d41384e0/expr.png\" style=\"display:inline;vertical-align:middle;\" /></a></td></tr>\n",
       "<tr><td>28</td><td>Variable</td><td></td><td><a class=\"ProveItLink\" href=\"../../../../../__pv_it/common/c06c606ec12678c58933ac85412ecadc2ae28be60/expr.ipynb\"><img src=\"../../../../../__pv_it/common/c06c606ec12678c58933ac85412ecadc2ae28be60/expr.png\" style=\"display:inline;vertical-align:middle;\" /></a></td></tr>\n",
       "<tr><td>29</td><td>Operation</td><td>operator:&nbsp;30<br>operands:&nbsp;31<br></td><td><a class=\"ProveItLink\" href=\"../dd19a868e42df65e76971323c8242698753b17220/expr.ipynb\"><img src=\"../dd19a868e42df65e76971323c8242698753b17220/expr.png\" style=\"display:inline;vertical-align:middle;\" /></a></td></tr>\n",
       "<tr><td>30</td><td>Literal</td><td></td><td><a class=\"ProveItLink\" href=\"../../../../addition/__pv_it/common/4b7effaab3619a1c2c38fe2dee8601df8ec714590/expr.ipynb\"><img src=\"../../../../addition/__pv_it/common/4b7effaab3619a1c2c38fe2dee8601df8ec714590/expr.png\" style=\"display:inline;vertical-align:middle;\" /></a></td></tr>\n",
       "<tr><td>31</td><td>ExprTuple</td><td>32, 33</td><td><a class=\"ProveItLink\" href=\"../8a0d75b277078973bb4484d5b50816048c5b71a70/expr.ipynb\"><img src=\"../8a0d75b277078973bb4484d5b50816048c5b71a70/expr.png\" style=\"display:inline;vertical-align:middle;\" /></a></td></tr>\n",
       "<tr><td>32</td><td>Variable</td><td></td><td><a class=\"ProveItLink\" href=\"../../../../../__pv_it/common/195236b98c6c564a75b5dbada74b173bc52d5c3e0/expr.ipynb\"><img src=\"../../../../../__pv_it/common/195236b98c6c564a75b5dbada74b173bc52d5c3e0/expr.png\" style=\"display:inline;vertical-align:middle;\" /></a></td></tr>\n",
       "<tr><td>33</td><td>Operation</td><td>operator:&nbsp;34<br>operand:&nbsp;36<br></td><td><a class=\"ProveItLink\" href=\"../bf4beda21975fe8a0a5007615b5bcc943da59bb20/expr.ipynb\"><img src=\"../bf4beda21975fe8a0a5007615b5bcc943da59bb20/expr.png\" style=\"display:inline;vertical-align:middle;\" /></a></td></tr>\n",
       "<tr><td>34</td><td>Literal</td><td></td><td><a class=\"ProveItLink\" href=\"../../../../negation/__pv_it/common/221b3c4d1770ee9051b7c044c3f9ec61196fc34b0/expr.ipynb\"><img src=\"../../../../negation/__pv_it/common/221b3c4d1770ee9051b7c044c3f9ec61196fc34b0/expr.png\" style=\"display:inline;vertical-align:middle;\" /></a></td></tr>\n",
       "<tr><td>35</td><td>ExprTuple</td><td>36</td><td><a class=\"ProveItLink\" href=\"../b9e4f0dffece176bbe2f36127440684a20e0468e0/expr.ipynb\"><img src=\"../b9e4f0dffece176bbe2f36127440684a20e0468e0/expr.png\" style=\"display:inline;vertical-align:middle;\" /></a></td></tr>\n",
       "<tr><td>36</td><td>Literal</td><td></td><td><a class=\"ProveItLink\" href=\"../../../../numerals/__pv_it/common/682157d4892d216d9e5626ed533aff9b56b9506e0/expr.ipynb\"><img src=\"../../../../numerals/__pv_it/common/682157d4892d216d9e5626ed533aff9b56b9506e0/expr.png\" style=\"display:inline;vertical-align:middle;\" /></a></td></tr>\n",
       "</table>\n"
      ],
      "text/plain": [
       "0. (Sum_{x = a}^{b} f(x), (Sum_{x = a}^{b - 1} f(x)) + f(b))\n",
       "   core type: ExprTuple\n",
       "   sub-expressions: 1, 2\n",
       "1. Sum_{x = a}^{b} f(x)\n",
       "   core type: Operation\n",
       "   operator: 9\n",
       "   operand: 5\n",
       "2. (Sum_{x = a}^{b - 1} f(x)) + f(b)\n",
       "   core type: Operation\n",
       "   operator: 30\n",
       "   operands: 4\n",
       "3. (x -> {f(x) if x in {a .. b}.)\n",
       "   core type: ExprTuple\n",
       "   sub-expressions: 5\n",
       "4. (Sum_{x = a}^{b - 1} f(x), f(b))\n",
       "   core type: ExprTuple\n",
       "   sub-expressions: 6, 7\n",
       "5. x -> {f(x) if x in {a .. b}.\n",
       "   core type: Lambda\n",
       "   parameter: 24\n",
       "   body: 8\n",
       "6. Sum_{x = a}^{b - 1} f(x)\n",
       "   core type: Operation\n",
       "   operator: 9\n",
       "   operand: 13\n",
       "7. f(b)\n",
       "   core type: Operation\n",
       "   operator: 20\n",
       "   operand: 32\n",
       "8. {f(x) if x in {a .. b}.\n",
       "   core type: Conditional\n",
       "   value: 17\n",
       "   condition: 12\n",
       "9. Sum\n",
       "   core type: Literal\n",
       "   sub-expressions: \n",
       "10. (x -> {f(x) if x in {a .. b - 1}.)\n",
       "    core type: ExprTuple\n",
       "    sub-expressions: 13\n",
       "11. (b)\n",
       "    core type: ExprTuple\n",
       "    sub-expressions: 32\n",
       "12. x in {a .. b}\n",
       "    core type: Operation\n",
       "    operator: 22\n",
       "    operands: 14\n",
       "13. x -> {f(x) if x in {a .. b - 1}.\n",
       "    core type: Lambda\n",
       "    parameter: 24\n",
       "    body: 15\n",
       "14. (x, {a .. b})\n",
       "    core type: ExprTuple\n",
       "    sub-expressions: 24, 16\n",
       "15. {f(x) if x in {a .. b - 1}.\n",
       "    core type: Conditional\n",
       "    value: 17\n",
       "    condition: 18\n",
       "16. {a .. b}\n",
       "    core type: Operation\n",
       "    operator: 26\n",
       "    operands: 19\n",
       "17. f(x)\n",
       "    core type: Operation\n",
       "    operator: 20\n",
       "    operand: 24\n",
       "18. x in {a .. b - 1}\n",
       "    core type: Operation\n",
       "    operator: 22\n",
       "    operands: 23\n",
       "19. (a, b)\n",
       "    core type: ExprTuple\n",
       "    sub-expressions: 28, 32\n",
       "20. f\n",
       "    core type: Variable\n",
       "    sub-expressions: \n",
       "21. (x)\n",
       "    core type: ExprTuple\n",
       "    sub-expressions: 24\n",
       "22. in\n",
       "    core type: Literal\n",
       "    sub-expressions: \n",
       "23. (x, {a .. b - 1})\n",
       "    core type: ExprTuple\n",
       "    sub-expressions: 24, 25\n",
       "24. x\n",
       "    core type: Variable\n",
       "    sub-expressions: \n",
       "25. {a .. b - 1}\n",
       "    core type: Operation\n",
       "    operator: 26\n",
       "    operands: 27\n",
       "26. Interval\n",
       "    core type: Literal\n",
       "    sub-expressions: \n",
       "27. (a, b - 1)\n",
       "    core type: ExprTuple\n",
       "    sub-expressions: 28, 29\n",
       "28. a\n",
       "    core type: Variable\n",
       "    sub-expressions: \n",
       "29. b - 1\n",
       "    core type: Operation\n",
       "    operator: 30\n",
       "    operands: 31\n",
       "30. +\n",
       "    core type: Literal\n",
       "    sub-expressions: \n",
       "31. (b, -1)\n",
       "    core type: ExprTuple\n",
       "    sub-expressions: 32, 33\n",
       "32. b\n",
       "    core type: Variable\n",
       "    sub-expressions: \n",
       "33. -1\n",
       "    core type: Operation\n",
       "    operator: 34\n",
       "    operand: 36\n",
       "34. -\n",
       "    core type: Literal\n",
       "    sub-expressions: \n",
       "35. (1)\n",
       "    core type: ExprTuple\n",
       "    sub-expressions: 36\n",
       "36. 1\n",
       "    core type: Literal\n",
       "    sub-expressions: "
      ]
     },
     "metadata": {},
     "output_type": "display_data"
    }
   ],
   "source": [
    "# display the expression information\n",
    "stored_expr.expr_info()"
   ]
  },
  {
   "cell_type": "code",
   "execution_count": null,
   "metadata": {},
   "outputs": [],
   "source": []
  }
 ],
 "metadata": {
  "kernelspec": {
   "display_name": "Python 3",
   "language": "python",
   "name": "python3"
  }
 },
 "nbformat": 4,
 "nbformat_minor": 0
}