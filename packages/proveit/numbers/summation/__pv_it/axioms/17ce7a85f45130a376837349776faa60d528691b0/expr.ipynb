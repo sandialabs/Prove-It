{
 "cells": [
  {
   "cell_type": "markdown",
   "metadata": {},
   "source": [
    "Expression of type <a class=\"ProveItLink\" href=\"../../../../../../../doc/html/api/proveit.ExprTuple.html\">ExprTuple</a>\n",
    "=======================\n",
    "# from the theory of <a class=\"ProveItLink\" href=\"../../../_theory_nbs_/theory.ipynb\">proveit.numbers.summation</a>"
   ]
  },
  {
   "cell_type": "code",
   "execution_count": 1,
   "metadata": {},
   "outputs": [],
   "source": [
    "import proveit\n",
    "# Automation is not needed when building an expression:\n",
    "proveit.defaults.automation = False # This will speed things up.\n",
    "proveit.defaults.inline_pngs = False # Makes files smaller.\n",
    "%load_expr # Load the stored expression as 'stored_expr'\n",
    "# import Expression classes needed to build the expression\n",
    "from proveit import Conditional, ExprTuple, Lambda, a, b, fb, fx, x\n",
    "from proveit.logic import And, Equals, InSet\n",
    "from proveit.numbers import Add, Integer, Interval, Less, Sum, one, subtract"
   ]
  },
  {
   "cell_type": "code",
   "execution_count": 2,
   "metadata": {},
   "outputs": [
    {
     "data": {
      "text/html": [
       "<strong id=\"expr\">expr:</strong> <a class=\"ProveItLink\" href=\"expr.ipynb\"><img src=\"expr.png\" style=\"display:inline;vertical-align:middle;\" /></a><br>"
      ],
      "text/plain": [
       "<IPython.core.display.HTML object>"
      ]
     },
     "metadata": {},
     "output_type": "display_data"
    }
   ],
   "source": [
    "# build up the expression from sub-expressions\n",
    "sub_expr1 = [x]\n",
    "expr = ExprTuple(Lambda([a, b], Conditional(Equals(Sum(index_or_indices = sub_expr1, summand = fx, domain = Interval(a, b)), Add(Sum(index_or_indices = sub_expr1, summand = fx, domain = Interval(a, subtract(b, one))), fb)), And(InSet(a, Integer), InSet(b, Integer), Less(a, b)))))"
   ]
  },
  {
   "cell_type": "code",
   "execution_count": 3,
   "metadata": {},
   "outputs": [
    {
     "name": "stdout",
     "output_type": "stream",
     "text": [
      "Passed sanity check: expr matches stored_expr\n"
     ]
    }
   ],
   "source": [
    "# check that the built expression is the same as the stored expression\n",
    "assert expr == stored_expr\n",
    "assert expr._style_id == stored_expr._style_id\n",
    "print(\"Passed sanity check: expr matches stored_expr\")"
   ]
  },
  {
   "cell_type": "code",
   "execution_count": 4,
   "metadata": {},
   "outputs": [
    {
     "name": "stdout",
     "output_type": "stream",
     "text": [
      "\\left(\\left(a, b\\right) \\mapsto \\left\\{\\left(\\sum_{x = a}^{b} f\\left(x\\right)\\right) = \\left(\\left(\\sum_{x = a}^{b - 1} f\\left(x\\right)\\right) + f\\left(b\\right)\\right) \\textrm{ if } a \\in \\mathbb{Z} ,  b \\in \\mathbb{Z} ,  a < b\\right..\\right)\n"
     ]
    }
   ],
   "source": [
    "# Show the LaTeX representation of the expression for convenience if you need it.\n",
    "print(stored_expr.latex())"
   ]
  },
  {
   "cell_type": "code",
   "execution_count": 5,
   "metadata": {},
   "outputs": [
    {
     "data": {
      "text/html": [
       "no style options"
      ],
      "text/plain": [
       "no style options"
      ]
     },
     "metadata": {},
     "output_type": "display_data"
    }
   ],
   "source": [
    "stored_expr.style_options()"
   ]
  },
  {
   "cell_type": "code",
   "execution_count": 6,
   "metadata": {},
   "outputs": [
    {
     "data": {
      "text/html": [
       "<table><tr><th>&nbsp;</th><th>core type</th><th>sub-expressions</th><th>expression</th></tr>\n",
       "<tr><td>0</td><td>ExprTuple</td><td>1</td><td><a class=\"ProveItLink\" href=\"expr.ipynb\"><img src=\"expr.png\" style=\"display:inline;vertical-align:middle;\" /></a></td></tr>\n",
       "<tr><td>1</td><td>Lambda</td><td>parameters:&nbsp;34<br>body:&nbsp;2<br></td><td><a class=\"ProveItLink\" href=\"../fe300f7760b21327c4005b423d37b159d0704e3f0/expr.ipynb\"><img src=\"../fe300f7760b21327c4005b423d37b159d0704e3f0/expr.png\" style=\"display:inline;vertical-align:middle;\" /></a></td></tr>\n",
       "<tr><td>2</td><td>Conditional</td><td>value:&nbsp;3<br>condition:&nbsp;4<br></td><td><a class=\"ProveItLink\" href=\"../4ec998f415326864913edd7ed7dd2ae29cf0d2860/expr.ipynb\"><img src=\"../4ec998f415326864913edd7ed7dd2ae29cf0d2860/expr.png\" style=\"display:inline;vertical-align:middle;\" /></a></td></tr>\n",
       "<tr><td>3</td><td>Operation</td><td>operator:&nbsp;5<br>operands:&nbsp;6<br></td><td><a class=\"ProveItLink\" href=\"../615df0bee5a328c10a57b6a304fee45cfb44a7e80/expr.ipynb\"><img src=\"../615df0bee5a328c10a57b6a304fee45cfb44a7e80/expr.png\" style=\"display:inline;vertical-align:middle;\" /></a></td></tr>\n",
       "<tr><td>4</td><td>Operation</td><td>operator:&nbsp;7<br>operands:&nbsp;8<br></td><td><a class=\"ProveItLink\" href=\"../3d65df9db1b2ae63dd17636a64e91dca0dde13020/expr.ipynb\"><img src=\"../3d65df9db1b2ae63dd17636a64e91dca0dde13020/expr.png\" style=\"display:inline;vertical-align:middle;\" /></a></td></tr>\n",
       "<tr><td>5</td><td>Literal</td><td></td><td><a class=\"ProveItLink\" href=\"../../../../../logic/equality/__pv_it/common/fb96dc12b2aa8801dda64d0132b396c63d1502bb0/expr.ipynb\"><img src=\"../../../../../logic/equality/__pv_it/common/fb96dc12b2aa8801dda64d0132b396c63d1502bb0/expr.png\" style=\"display:inline;vertical-align:middle;\" /></a></td></tr>\n",
       "<tr><td>6</td><td>ExprTuple</td><td>9, 10</td><td><a class=\"ProveItLink\" href=\"../e99562f9df287ecf409aba6ecc74149a113b39790/expr.ipynb\"><img src=\"../e99562f9df287ecf409aba6ecc74149a113b39790/expr.png\" style=\"display:inline;vertical-align:middle;\" /></a></td></tr>\n",
       "<tr><td>7</td><td>Literal</td><td></td><td><a class=\"ProveItLink\" href=\"../../../../../logic/booleans/conjunction/__pv_it/common/42118ff318bd65d98b1393f64ce7c2269feef76e0/expr.ipynb\"><img src=\"../../../../../logic/booleans/conjunction/__pv_it/common/42118ff318bd65d98b1393f64ce7c2269feef76e0/expr.png\" style=\"display:inline;vertical-align:middle;\" /></a></td></tr>\n",
       "<tr><td>8</td><td>ExprTuple</td><td>11, 12, 13</td><td><a class=\"ProveItLink\" href=\"../5cf999002fe9b23cd7433b8f79f081580cc7bce10/expr.ipynb\"><img src=\"../5cf999002fe9b23cd7433b8f79f081580cc7bce10/expr.png\" style=\"display:inline;vertical-align:middle;\" /></a></td></tr>\n",
       "<tr><td>9</td><td>Operation</td><td>operator:&nbsp;24<br>operand:&nbsp;19<br></td><td><a class=\"ProveItLink\" href=\"../d06a8eb43ae5de672df62d97c0feaad13efccdea0/expr.ipynb\"><img src=\"../d06a8eb43ae5de672df62d97c0feaad13efccdea0/expr.png\" style=\"display:inline;vertical-align:middle;\" /></a></td></tr>\n",
       "<tr><td>10</td><td>Operation</td><td>operator:&nbsp;45<br>operands:&nbsp;15<br></td><td><a class=\"ProveItLink\" href=\"../c202d51be7d4087357319dd1896a4b5885eebef80/expr.ipynb\"><img src=\"../c202d51be7d4087357319dd1896a4b5885eebef80/expr.png\" style=\"display:inline;vertical-align:middle;\" /></a></td></tr>\n",
       "<tr><td>11</td><td>Operation</td><td>operator:&nbsp;37<br>operands:&nbsp;16<br></td><td><a class=\"ProveItLink\" href=\"../d8d02d2a77383d238ed10b8fda7965dfafa87db90/expr.ipynb\"><img src=\"../d8d02d2a77383d238ed10b8fda7965dfafa87db90/expr.png\" style=\"display:inline;vertical-align:middle;\" /></a></td></tr>\n",
       "<tr><td>12</td><td>Operation</td><td>operator:&nbsp;37<br>operands:&nbsp;17<br></td><td><a class=\"ProveItLink\" href=\"../035e0ae7bd8c0fe127ee5d2062443d6c874adcdd0/expr.ipynb\"><img src=\"../035e0ae7bd8c0fe127ee5d2062443d6c874adcdd0/expr.png\" style=\"display:inline;vertical-align:middle;\" /></a></td></tr>\n",
       "<tr><td>13</td><td>Operation</td><td>operator:&nbsp;18<br>operands:&nbsp;34<br></td><td><a class=\"ProveItLink\" href=\"../3b3bab3cd8d8551dd21bf1f81e14445c3cb711db0/expr.ipynb\"><img src=\"../3b3bab3cd8d8551dd21bf1f81e14445c3cb711db0/expr.png\" style=\"display:inline;vertical-align:middle;\" /></a></td></tr>\n",
       "<tr><td>14</td><td>ExprTuple</td><td>19</td><td><a class=\"ProveItLink\" href=\"../7e0c3624d8a141723aff52e878166b8cc8befded0/expr.ipynb\"><img src=\"../7e0c3624d8a141723aff52e878166b8cc8befded0/expr.png\" style=\"display:inline;vertical-align:middle;\" /></a></td></tr>\n",
       "<tr><td>15</td><td>ExprTuple</td><td>20, 21</td><td><a class=\"ProveItLink\" href=\"../445a6b45f82e4545731a784d588ab81b274a44ac0/expr.ipynb\"><img src=\"../445a6b45f82e4545731a784d588ab81b274a44ac0/expr.png\" style=\"display:inline;vertical-align:middle;\" /></a></td></tr>\n",
       "<tr><td>16</td><td>ExprTuple</td><td>43, 22</td><td><a class=\"ProveItLink\" href=\"../6381f047505cef51bfb3432d8df76f1cfff47cae0/expr.ipynb\"><img src=\"../6381f047505cef51bfb3432d8df76f1cfff47cae0/expr.png\" style=\"display:inline;vertical-align:middle;\" /></a></td></tr>\n",
       "<tr><td>17</td><td>ExprTuple</td><td>47, 22</td><td><a class=\"ProveItLink\" href=\"../7a5273c178c04cb3ce78308074ba517705b130f80/expr.ipynb\"><img src=\"../7a5273c178c04cb3ce78308074ba517705b130f80/expr.png\" style=\"display:inline;vertical-align:middle;\" /></a></td></tr>\n",
       "<tr><td>18</td><td>Literal</td><td></td><td><a class=\"ProveItLink\" href=\"../../../../ordering/__pv_it/common/fa503ed52033522c609eef1cf3e1b45796489da50/expr.ipynb\"><img src=\"../../../../ordering/__pv_it/common/fa503ed52033522c609eef1cf3e1b45796489da50/expr.png\" style=\"display:inline;vertical-align:middle;\" /></a></td></tr>\n",
       "<tr><td>19</td><td>Lambda</td><td>parameter:&nbsp;39<br>body:&nbsp;23<br></td><td><a class=\"ProveItLink\" href=\"../165f74e9c54218cf88fb3384cc8e62fb1482dc9b0/expr.ipynb\"><img src=\"../165f74e9c54218cf88fb3384cc8e62fb1482dc9b0/expr.png\" style=\"display:inline;vertical-align:middle;\" /></a></td></tr>\n",
       "<tr><td>20</td><td>Operation</td><td>operator:&nbsp;24<br>operand:&nbsp;28<br></td><td><a class=\"ProveItLink\" href=\"../1b08c830d5a8929afe962cf21312c3a247502c9f0/expr.ipynb\"><img src=\"../1b08c830d5a8929afe962cf21312c3a247502c9f0/expr.png\" style=\"display:inline;vertical-align:middle;\" /></a></td></tr>\n",
       "<tr><td>21</td><td>Operation</td><td>operator:&nbsp;35<br>operand:&nbsp;47<br></td><td><a class=\"ProveItLink\" href=\"../../../../../__pv_it/common/f7c42e5722975eba184a89eadc6ac91c8e9658490/expr.ipynb\"><img src=\"../../../../../__pv_it/common/f7c42e5722975eba184a89eadc6ac91c8e9658490/expr.png\" style=\"display:inline;vertical-align:middle;\" /></a></td></tr>\n",
       "<tr><td>22</td><td>Literal</td><td></td><td><a class=\"ProveItLink\" href=\"../../../../number_sets/integers/__pv_it/common/e6b4e90f9467053e055a4fd2f735c0bb79cb79300/expr.ipynb\"><img src=\"../../../../number_sets/integers/__pv_it/common/e6b4e90f9467053e055a4fd2f735c0bb79cb79300/expr.png\" style=\"display:inline;vertical-align:middle;\" /></a></td></tr>\n",
       "<tr><td>23</td><td>Conditional</td><td>value:&nbsp;32<br>condition:&nbsp;27<br></td><td><a class=\"ProveItLink\" href=\"../8e7d515369775ea4a065aad765a56834c1740d150/expr.ipynb\"><img src=\"../8e7d515369775ea4a065aad765a56834c1740d150/expr.png\" style=\"display:inline;vertical-align:middle;\" /></a></td></tr>\n",
       "<tr><td>24</td><td>Literal</td><td></td><td><a class=\"ProveItLink\" href=\"../../common/14fe61cccc388f91dfd83d3ca31cf27448cc070a0/expr.ipynb\"><img src=\"../../common/14fe61cccc388f91dfd83d3ca31cf27448cc070a0/expr.png\" style=\"display:inline;vertical-align:middle;\" /></a></td></tr>\n",
       "<tr><td>25</td><td>ExprTuple</td><td>28</td><td><a class=\"ProveItLink\" href=\"../0db43413592a9c758561ac906b9798b10bdd44320/expr.ipynb\"><img src=\"../0db43413592a9c758561ac906b9798b10bdd44320/expr.png\" style=\"display:inline;vertical-align:middle;\" /></a></td></tr>\n",
       "<tr><td>26</td><td>ExprTuple</td><td>47</td><td><a class=\"ProveItLink\" href=\"../../../../../__pv_it/common/aa9afb286c61bdccbd2125a13442930aa7bfad490/expr.ipynb\"><img src=\"../../../../../__pv_it/common/aa9afb286c61bdccbd2125a13442930aa7bfad490/expr.png\" style=\"display:inline;vertical-align:middle;\" /></a></td></tr>\n",
       "<tr><td>27</td><td>Operation</td><td>operator:&nbsp;37<br>operands:&nbsp;29<br></td><td><a class=\"ProveItLink\" href=\"../5506772e335d8c23a8240dd0a5f4b411850315500/expr.ipynb\"><img src=\"../5506772e335d8c23a8240dd0a5f4b411850315500/expr.png\" style=\"display:inline;vertical-align:middle;\" /></a></td></tr>\n",
       "<tr><td>28</td><td>Lambda</td><td>parameter:&nbsp;39<br>body:&nbsp;30<br></td><td><a class=\"ProveItLink\" href=\"../c4e682be705f09a2dda75898e51df2e2d7e726fd0/expr.ipynb\"><img src=\"../c4e682be705f09a2dda75898e51df2e2d7e726fd0/expr.png\" style=\"display:inline;vertical-align:middle;\" /></a></td></tr>\n",
       "<tr><td>29</td><td>ExprTuple</td><td>39, 31</td><td><a class=\"ProveItLink\" href=\"../e77dfb4a2041ee24e8b2359ebc293316a2cbbf5c0/expr.ipynb\"><img src=\"../e77dfb4a2041ee24e8b2359ebc293316a2cbbf5c0/expr.png\" style=\"display:inline;vertical-align:middle;\" /></a></td></tr>\n",
       "<tr><td>30</td><td>Conditional</td><td>value:&nbsp;32<br>condition:&nbsp;33<br></td><td><a class=\"ProveItLink\" href=\"../24d46aa8670de71941e70e784817d3254fed0a700/expr.ipynb\"><img src=\"../24d46aa8670de71941e70e784817d3254fed0a700/expr.png\" style=\"display:inline;vertical-align:middle;\" /></a></td></tr>\n",
       "<tr><td>31</td><td>Operation</td><td>operator:&nbsp;41<br>operands:&nbsp;34<br></td><td><a class=\"ProveItLink\" href=\"../498872fecc183ccfbbe24c2b7a9ae11a74603e9a0/expr.ipynb\"><img src=\"../498872fecc183ccfbbe24c2b7a9ae11a74603e9a0/expr.png\" style=\"display:inline;vertical-align:middle;\" /></a></td></tr>\n",
       "<tr><td>32</td><td>Operation</td><td>operator:&nbsp;35<br>operand:&nbsp;39<br></td><td><a class=\"ProveItLink\" href=\"../../../../../__pv_it/common/6774f61458aed4cc9eb250f92b3634f1d09b19a40/expr.ipynb\"><img src=\"../../../../../__pv_it/common/6774f61458aed4cc9eb250f92b3634f1d09b19a40/expr.png\" style=\"display:inline;vertical-align:middle;\" /></a></td></tr>\n",
       "<tr><td>33</td><td>Operation</td><td>operator:&nbsp;37<br>operands:&nbsp;38<br></td><td><a class=\"ProveItLink\" href=\"../7b09269771d56fa75cb2ca5e2419d7fc522dbde10/expr.ipynb\"><img src=\"../7b09269771d56fa75cb2ca5e2419d7fc522dbde10/expr.png\" style=\"display:inline;vertical-align:middle;\" /></a></td></tr>\n",
       "<tr><td>34</td><td>ExprTuple</td><td>43, 47</td><td><a class=\"ProveItLink\" href=\"../3dcd5ceea6334d8cb48fe14fdae236293aa9a6050/expr.ipynb\"><img src=\"../3dcd5ceea6334d8cb48fe14fdae236293aa9a6050/expr.png\" style=\"display:inline;vertical-align:middle;\" /></a></td></tr>\n",
       "<tr><td>35</td><td>Variable</td><td></td><td><a class=\"ProveItLink\" href=\"../../../../../__pv_it/common/01b6dbb444a31fc38af4c2379badef6c75b363710/expr.ipynb\"><img src=\"../../../../../__pv_it/common/01b6dbb444a31fc38af4c2379badef6c75b363710/expr.png\" style=\"display:inline;vertical-align:middle;\" /></a></td></tr>\n",
       "<tr><td>36</td><td>ExprTuple</td><td>39</td><td><a class=\"ProveItLink\" href=\"../../../../../__pv_it/common/eacfeccc0521684fcb20fe8f5180ac50fca471f20/expr.ipynb\"><img src=\"../../../../../__pv_it/common/eacfeccc0521684fcb20fe8f5180ac50fca471f20/expr.png\" style=\"display:inline;vertical-align:middle;\" /></a></td></tr>\n",
       "<tr><td>37</td><td>Literal</td><td></td><td><a class=\"ProveItLink\" href=\"../../../../../logic/sets/membership/__pv_it/common/477487d8796864d23d5810f83761435f25167f690/expr.ipynb\"><img src=\"../../../../../logic/sets/membership/__pv_it/common/477487d8796864d23d5810f83761435f25167f690/expr.png\" style=\"display:inline;vertical-align:middle;\" /></a></td></tr>\n",
       "<tr><td>38</td><td>ExprTuple</td><td>39, 40</td><td><a class=\"ProveItLink\" href=\"../f007c8339c53aa55d226d221d9356a1d164c417f0/expr.ipynb\"><img src=\"../f007c8339c53aa55d226d221d9356a1d164c417f0/expr.png\" style=\"display:inline;vertical-align:middle;\" /></a></td></tr>\n",
       "<tr><td>39</td><td>Variable</td><td></td><td><a class=\"ProveItLink\" href=\"../../../../../__pv_it/common/a0d9d672aa5e272d907247690c152cc2c6daafb70/expr.ipynb\"><img src=\"../../../../../__pv_it/common/a0d9d672aa5e272d907247690c152cc2c6daafb70/expr.png\" style=\"display:inline;vertical-align:middle;\" /></a></td></tr>\n",
       "<tr><td>40</td><td>Operation</td><td>operator:&nbsp;41<br>operands:&nbsp;42<br></td><td><a class=\"ProveItLink\" href=\"../991a6c6a0f29aa348cee01e40f8be0b6c4ea51c80/expr.ipynb\"><img src=\"../991a6c6a0f29aa348cee01e40f8be0b6c4ea51c80/expr.png\" style=\"display:inline;vertical-align:middle;\" /></a></td></tr>\n",
       "<tr><td>41</td><td>Literal</td><td></td><td><a class=\"ProveItLink\" href=\"../../../../number_sets/integers/__pv_it/common/92f3a0a77e3c3ea8e4a5c8674edadc54e4f57d550/expr.ipynb\"><img src=\"../../../../number_sets/integers/__pv_it/common/92f3a0a77e3c3ea8e4a5c8674edadc54e4f57d550/expr.png\" style=\"display:inline;vertical-align:middle;\" /></a></td></tr>\n",
       "<tr><td>42</td><td>ExprTuple</td><td>43, 44</td><td><a class=\"ProveItLink\" href=\"../a47c0f4d9445040c0704ff299ad0a2415d41384e0/expr.ipynb\"><img src=\"../a47c0f4d9445040c0704ff299ad0a2415d41384e0/expr.png\" style=\"display:inline;vertical-align:middle;\" /></a></td></tr>\n",
       "<tr><td>43</td><td>Variable</td><td></td><td><a class=\"ProveItLink\" href=\"../../../../../__pv_it/common/c06c606ec12678c58933ac85412ecadc2ae28be60/expr.ipynb\"><img src=\"../../../../../__pv_it/common/c06c606ec12678c58933ac85412ecadc2ae28be60/expr.png\" style=\"display:inline;vertical-align:middle;\" /></a></td></tr>\n",
       "<tr><td>44</td><td>Operation</td><td>operator:&nbsp;45<br>operands:&nbsp;46<br></td><td><a class=\"ProveItLink\" href=\"../dd19a868e42df65e76971323c8242698753b17220/expr.ipynb\"><img src=\"../dd19a868e42df65e76971323c8242698753b17220/expr.png\" style=\"display:inline;vertical-align:middle;\" /></a></td></tr>\n",
       "<tr><td>45</td><td>Literal</td><td></td><td><a class=\"ProveItLink\" href=\"../../../../addition/__pv_it/common/4b7effaab3619a1c2c38fe2dee8601df8ec714590/expr.ipynb\"><img src=\"../../../../addition/__pv_it/common/4b7effaab3619a1c2c38fe2dee8601df8ec714590/expr.png\" style=\"display:inline;vertical-align:middle;\" /></a></td></tr>\n",
       "<tr><td>46</td><td>ExprTuple</td><td>47, 48</td><td><a class=\"ProveItLink\" href=\"../8a0d75b277078973bb4484d5b50816048c5b71a70/expr.ipynb\"><img src=\"../8a0d75b277078973bb4484d5b50816048c5b71a70/expr.png\" style=\"display:inline;vertical-align:middle;\" /></a></td></tr>\n",
       "<tr><td>47</td><td>Variable</td><td></td><td><a class=\"ProveItLink\" href=\"../../../../../__pv_it/common/195236b98c6c564a75b5dbada74b173bc52d5c3e0/expr.ipynb\"><img src=\"../../../../../__pv_it/common/195236b98c6c564a75b5dbada74b173bc52d5c3e0/expr.png\" style=\"display:inline;vertical-align:middle;\" /></a></td></tr>\n",
       "<tr><td>48</td><td>Operation</td><td>operator:&nbsp;49<br>operand:&nbsp;51<br></td><td><a class=\"ProveItLink\" href=\"../bf4beda21975fe8a0a5007615b5bcc943da59bb20/expr.ipynb\"><img src=\"../bf4beda21975fe8a0a5007615b5bcc943da59bb20/expr.png\" style=\"display:inline;vertical-align:middle;\" /></a></td></tr>\n",
       "<tr><td>49</td><td>Literal</td><td></td><td><a class=\"ProveItLink\" href=\"../../../../negation/__pv_it/common/221b3c4d1770ee9051b7c044c3f9ec61196fc34b0/expr.ipynb\"><img src=\"../../../../negation/__pv_it/common/221b3c4d1770ee9051b7c044c3f9ec61196fc34b0/expr.png\" style=\"display:inline;vertical-align:middle;\" /></a></td></tr>\n",
       "<tr><td>50</td><td>ExprTuple</td><td>51</td><td><a class=\"ProveItLink\" href=\"../b9e4f0dffece176bbe2f36127440684a20e0468e0/expr.ipynb\"><img src=\"../b9e4f0dffece176bbe2f36127440684a20e0468e0/expr.png\" style=\"display:inline;vertical-align:middle;\" /></a></td></tr>\n",
       "<tr><td>51</td><td>Literal</td><td></td><td><a class=\"ProveItLink\" href=\"../../../../numerals/__pv_it/common/682157d4892d216d9e5626ed533aff9b56b9506e0/expr.ipynb\"><img src=\"../../../../numerals/__pv_it/common/682157d4892d216d9e5626ed533aff9b56b9506e0/expr.png\" style=\"display:inline;vertical-align:middle;\" /></a></td></tr>\n",
       "</table>\n"
      ],
      "text/plain": [
       "0. ((a, b) -> {(Sum_{x = a}^{b} f(x)) = ((Sum_{x = a}^{b - 1} f(x)) + f(b)) if a in Integer ,  b in Integer ,  a < b.)\n",
       "   core type: ExprTuple\n",
       "   sub-expressions: 1\n",
       "1. (a, b) -> {(Sum_{x = a}^{b} f(x)) = ((Sum_{x = a}^{b - 1} f(x)) + f(b)) if a in Integer ,  b in Integer ,  a < b.\n",
       "   core type: Lambda\n",
       "   parameters: 34\\n   body: 2\n",
       "2. {(Sum_{x = a}^{b} f(x)) = ((Sum_{x = a}^{b - 1} f(x)) + f(b)) if a in Integer ,  b in Integer ,  a < b.\n",
       "   core type: Conditional\n",
       "   value: 3\n",
       "   condition: 4\n",
       "3. (Sum_{x = a}^{b} f(x)) = ((Sum_{x = a}^{b - 1} f(x)) + f(b))\n",
       "   core type: Operation\n",
       "   operator: 5\n",
       "   operands: 6\n",
       "4. (a in Integer) and (b in Integer) and (a < b)\n",
       "   core type: Operation\n",
       "   operator: 7\n",
       "   operands: 8\n",
       "5. =\n",
       "   core type: Literal\n",
       "   sub-expressions: \n",
       "6. (Sum_{x = a}^{b} f(x), (Sum_{x = a}^{b - 1} f(x)) + f(b))\n",
       "   core type: ExprTuple\n",
       "   sub-expressions: 9, 10\n",
       "7. and\n",
       "   core type: Literal\n",
       "   sub-expressions: \n",
       "8. (a in Integer, b in Integer, a < b)\n",
       "   core type: ExprTuple\n",
       "   sub-expressions: 11, 12, 13\n",
       "9. Sum_{x = a}^{b} f(x)\n",
       "   core type: Operation\n",
       "   operator: 24\n",
       "   operand: 19\n",
       "10. (Sum_{x = a}^{b - 1} f(x)) + f(b)\n",
       "    core type: Operation\n",
       "    operator: 45\n",
       "    operands: 15\n",
       "11. a in Integer\n",
       "    core type: Operation\n",
       "    operator: 37\n",
       "    operands: 16\n",
       "12. b in Integer\n",
       "    core type: Operation\n",
       "    operator: 37\n",
       "    operands: 17\n",
       "13. a < b\n",
       "    core type: Operation\n",
       "    operator: 18\n",
       "    operands: 34\n",
       "14. (x -> {f(x) if x in {a .. b}.)\n",
       "    core type: ExprTuple\n",
       "    sub-expressions: 19\n",
       "15. (Sum_{x = a}^{b - 1} f(x), f(b))\n",
       "    core type: ExprTuple\n",
       "    sub-expressions: 20, 21\n",
       "16. (a, Integer)\n",
       "    core type: ExprTuple\n",
       "    sub-expressions: 43, 22\n",
       "17. (b, Integer)\n",
       "    core type: ExprTuple\n",
       "    sub-expressions: 47, 22\n",
       "18. <\n",
       "    core type: Literal\n",
       "    sub-expressions: \n",
       "19. x -> {f(x) if x in {a .. b}.\n",
       "    core type: Lambda\n",
       "    parameter: 39\n",
       "    body: 23\n",
       "20. Sum_{x = a}^{b - 1} f(x)\n",
       "    core type: Operation\n",
       "    operator: 24\n",
       "    operand: 28\n",
       "21. f(b)\n",
       "    core type: Operation\n",
       "    operator: 35\n",
       "    operand: 47\n",
       "22. Integer\n",
       "    core type: Literal\n",
       "    sub-expressions: \n",
       "23. {f(x) if x in {a .. b}.\n",
       "    core type: Conditional\n",
       "    value: 32\n",
       "    condition: 27\n",
       "24. Sum\n",
       "    core type: Literal\n",
       "    sub-expressions: \n",
       "25. (x -> {f(x) if x in {a .. b - 1}.)\n",
       "    core type: ExprTuple\n",
       "    sub-expressions: 28\n",
       "26. (b)\n",
       "    core type: ExprTuple\n",
       "    sub-expressions: 47\n",
       "27. x in {a .. b}\n",
       "    core type: Operation\n",
       "    operator: 37\n",
       "    operands: 29\n",
       "28. x -> {f(x) if x in {a .. b - 1}.\n",
       "    core type: Lambda\n",
       "    parameter: 39\n",
       "    body: 30\n",
       "29. (x, {a .. b})\n",
       "    core type: ExprTuple\n",
       "    sub-expressions: 39, 31\n",
       "30. {f(x) if x in {a .. b - 1}.\n",
       "    core type: Conditional\n",
       "    value: 32\n",
       "    condition: 33\n",
       "31. {a .. b}\n",
       "    core type: Operation\n",
       "    operator: 41\n",
       "    operands: 34\n",
       "32. f(x)\n",
       "    core type: Operation\n",
       "    operator: 35\n",
       "    operand: 39\n",
       "33. x in {a .. b - 1}\n",
       "    core type: Operation\n",
       "    operator: 37\n",
       "    operands: 38\n",
       "34. (a, b)\n",
       "    core type: ExprTuple\n",
       "    sub-expressions: 43, 47\n",
       "35. f\n",
       "    core type: Variable\n",
       "    sub-expressions: \n",
       "36. (x)\n",
       "    core type: ExprTuple\n",
       "    sub-expressions: 39\n",
       "37. in\n",
       "    core type: Literal\n",
       "    sub-expressions: \n",
       "38. (x, {a .. b - 1})\n",
       "    core type: ExprTuple\n",
       "    sub-expressions: 39, 40\n",
       "39. x\n",
       "    core type: Variable\n",
       "    sub-expressions: \n",
       "40. {a .. b - 1}\n",
       "    core type: Operation\n",
       "    operator: 41\n",
       "    operands: 42\n",
       "41. Interval\n",
       "    core type: Literal\n",
       "    sub-expressions: \n",
       "42. (a, b - 1)\n",
       "    core type: ExprTuple\n",
       "    sub-expressions: 43, 44\n",
       "43. a\n",
       "    core type: Variable\n",
       "    sub-expressions: \n",
       "44. b - 1\n",
       "    core type: Operation\n",
       "    operator: 45\n",
       "    operands: 46\n",
       "45. +\n",
       "    core type: Literal\n",
       "    sub-expressions: \n",
       "46. (b, -1)\n",
       "    core type: ExprTuple\n",
       "    sub-expressions: 47, 48\n",
       "47. b\n",
       "    core type: Variable\n",
       "    sub-expressions: \n",
       "48. -1\n",
       "    core type: Operation\n",
       "    operator: 49\n",
       "    operand: 51\n",
       "49. -\n",
       "    core type: Literal\n",
       "    sub-expressions: \n",
       "50. (1)\n",
       "    core type: ExprTuple\n",
       "    sub-expressions: 51\n",
       "51. 1\n",
       "    core type: Literal\n",
       "    sub-expressions: "
      ]
     },
     "metadata": {},
     "output_type": "display_data"
    }
   ],
   "source": [
    "# display the expression information\n",
    "stored_expr.expr_info()"
   ]
  },
  {
   "cell_type": "code",
   "execution_count": null,
   "metadata": {},
   "outputs": [],
   "source": []
  }
 ],
 "metadata": {
  "kernelspec": {
   "display_name": "Python 3",
   "language": "python",
   "name": "python3"
  }
 },
 "nbformat": 4,
 "nbformat_minor": 0
}