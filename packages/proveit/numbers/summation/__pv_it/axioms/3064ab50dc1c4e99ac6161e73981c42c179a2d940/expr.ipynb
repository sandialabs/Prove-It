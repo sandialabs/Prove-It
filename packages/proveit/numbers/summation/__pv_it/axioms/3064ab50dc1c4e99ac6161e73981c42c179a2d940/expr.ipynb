{
 "cells": [
  {
   "cell_type": "markdown",
   "metadata": {},
   "source": [
    "Expression of type <a class=\"ProveItLink\" href=\"../../../../../../../doc/html/api/proveit.ExprTuple.html\">ExprTuple</a>\n",
    "=======================\n",
    "# from the theory of <a class=\"ProveItLink\" href=\"../../../_theory_nbs_/theory.ipynb\">proveit.numbers.summation</a>"
   ]
  },
  {
   "cell_type": "code",
   "execution_count": 1,
   "metadata": {},
   "outputs": [],
   "source": [
    "import proveit\n",
    "# Automation is not needed when building an expression:\n",
    "proveit.defaults.automation = False # This will speed things up.\n",
    "proveit.defaults.inline_pngs = False # Makes files smaller.\n",
    "%load_expr # Load the stored expression as 'stored_expr'\n",
    "# import Expression classes needed to build the expression\n",
    "from proveit import ExprTuple, Lambda, a, alpha, b, c, k\n",
    "from proveit.core_expr_types import alpha_k\n",
    "from proveit.logic import Equals\n",
    "from proveit.numbers import Add, Interval, Sum, one"
   ]
  },
  {
   "cell_type": "code",
   "execution_count": 2,
   "metadata": {},
   "outputs": [
    {
     "data": {
      "text/html": [
       "<strong id=\"expr\">expr:</strong> <a class=\"ProveItLink\" href=\"expr.ipynb\"><img src=\"expr.png\" style=\"display:inline;vertical-align:middle;\" /></a><br>"
      ],
      "text/plain": [
       "<IPython.core.display.HTML object>"
      ]
     },
     "metadata": {},
     "output_type": "display_data"
    }
   ],
   "source": [
    "# build up the expression from sub-expressions\n",
    "sub_expr1 = [k]\n",
    "expr = ExprTuple(Lambda(alpha, Equals(Sum(index_or_indices = sub_expr1, summand = alpha_k, domain = Interval(a, c)), Add(Sum(index_or_indices = sub_expr1, summand = alpha_k, domain = Interval(a, b)), Sum(index_or_indices = sub_expr1, summand = alpha_k, domain = Interval(Add(b, one), c))))))"
   ]
  },
  {
   "cell_type": "code",
   "execution_count": 3,
   "metadata": {},
   "outputs": [
    {
     "name": "stdout",
     "output_type": "stream",
     "text": [
      "Passed sanity check: expr matches stored_expr\n"
     ]
    }
   ],
   "source": [
    "# check that the built expression is the same as the stored expression\n",
    "assert expr == stored_expr\n",
    "assert expr._style_id == stored_expr._style_id\n",
    "print(\"Passed sanity check: expr matches stored_expr\")"
   ]
  },
  {
   "cell_type": "code",
   "execution_count": 4,
   "metadata": {},
   "outputs": [
    {
     "name": "stdout",
     "output_type": "stream",
     "text": [
      "\\left(\\alpha \\mapsto \\left(\\left(\\sum_{k = a}^{c} \\alpha_{k}\\right) = \\left(\\left(\\sum_{k = a}^{b} \\alpha_{k}\\right) + \\left(\\sum_{k = b + 1}^{c} \\alpha_{k}\\right)\\right)\\right)\\right)\n"
     ]
    }
   ],
   "source": [
    "# Show the LaTeX representation of the expression for convenience if you need it.\n",
    "print(stored_expr.latex())"
   ]
  },
  {
   "cell_type": "code",
   "execution_count": 5,
   "metadata": {},
   "outputs": [
    {
     "data": {
      "text/html": [
       "no style options"
      ],
      "text/plain": [
       "no style options"
      ]
     },
     "metadata": {},
     "output_type": "display_data"
    }
   ],
   "source": [
    "stored_expr.style_options()"
   ]
  },
  {
   "cell_type": "code",
   "execution_count": 6,
   "metadata": {},
   "outputs": [
    {
     "data": {
      "text/html": [
       "<table><tr><th>&nbsp;</th><th>core type</th><th>sub-expressions</th><th>expression</th></tr>\n",
       "<tr><td>0</td><td>ExprTuple</td><td>1</td><td><a class=\"ProveItLink\" href=\"expr.ipynb\"><img src=\"expr.png\" style=\"display:inline;vertical-align:middle;\" /></a></td></tr>\n",
       "<tr><td>1</td><td>Lambda</td><td>parameter:&nbsp;29<br>body:&nbsp;3<br></td><td><a class=\"ProveItLink\" href=\"../e3d5d8fce794ee7f08a8b67c2132b2fb7d39dbee0/expr.ipynb\"><img src=\"../e3d5d8fce794ee7f08a8b67c2132b2fb7d39dbee0/expr.png\" style=\"display:inline;vertical-align:middle;\" /></a></td></tr>\n",
       "<tr><td>2</td><td>ExprTuple</td><td>29</td><td><a class=\"ProveItLink\" href=\"../93ef16ea994de9abf758f475bfa61b197c917ba40/expr.ipynb\"><img src=\"../93ef16ea994de9abf758f475bfa61b197c917ba40/expr.png\" style=\"display:inline;vertical-align:middle;\" /></a></td></tr>\n",
       "<tr><td>3</td><td>Operation</td><td>operator:&nbsp;4<br>operands:&nbsp;5<br></td><td><a class=\"ProveItLink\" href=\"../9a57ab206fc9eb02c2eac2211ef391a05347ecb20/expr.ipynb\"><img src=\"../9a57ab206fc9eb02c2eac2211ef391a05347ecb20/expr.png\" style=\"display:inline;vertical-align:middle;\" /></a></td></tr>\n",
       "<tr><td>4</td><td>Literal</td><td></td><td><a class=\"ProveItLink\" href=\"../../../../../logic/equality/__pv_it/common/fb96dc12b2aa8801dda64d0132b396c63d1502bb0/expr.ipynb\"><img src=\"../../../../../logic/equality/__pv_it/common/fb96dc12b2aa8801dda64d0132b396c63d1502bb0/expr.png\" style=\"display:inline;vertical-align:middle;\" /></a></td></tr>\n",
       "<tr><td>5</td><td>ExprTuple</td><td>6, 7</td><td><a class=\"ProveItLink\" href=\"../bdf849377c9f2fa86d7e778119d28fd3acd147c60/expr.ipynb\"><img src=\"../bdf849377c9f2fa86d7e778119d28fd3acd147c60/expr.png\" style=\"display:inline;vertical-align:middle;\" /></a></td></tr>\n",
       "<tr><td>6</td><td>Operation</td><td>operator:&nbsp;15<br>operand:&nbsp;10<br></td><td><a class=\"ProveItLink\" href=\"../d47d115e06e4875ad8a7632bcf1ad1fdfef5f5d60/expr.ipynb\"><img src=\"../d47d115e06e4875ad8a7632bcf1ad1fdfef5f5d60/expr.png\" style=\"display:inline;vertical-align:middle;\" /></a></td></tr>\n",
       "<tr><td>7</td><td>Operation</td><td>operator:&nbsp;42<br>operands:&nbsp;9<br></td><td><a class=\"ProveItLink\" href=\"../633b36e4d8b7f112a54a0fb41229fec6bc16569e0/expr.ipynb\"><img src=\"../633b36e4d8b7f112a54a0fb41229fec6bc16569e0/expr.png\" style=\"display:inline;vertical-align:middle;\" /></a></td></tr>\n",
       "<tr><td>8</td><td>ExprTuple</td><td>10</td><td><a class=\"ProveItLink\" href=\"../b8810574593e8a5c580643615a3e3ddd75beaa4f0/expr.ipynb\"><img src=\"../b8810574593e8a5c580643615a3e3ddd75beaa4f0/expr.png\" style=\"display:inline;vertical-align:middle;\" /></a></td></tr>\n",
       "<tr><td>9</td><td>ExprTuple</td><td>11, 12</td><td><a class=\"ProveItLink\" href=\"../be33a7eba23e195225ea728b3239eb7d1ab712890/expr.ipynb\"><img src=\"../be33a7eba23e195225ea728b3239eb7d1ab712890/expr.png\" style=\"display:inline;vertical-align:middle;\" /></a></td></tr>\n",
       "<tr><td>10</td><td>Lambda</td><td>parameter:&nbsp;34<br>body:&nbsp;13<br></td><td><a class=\"ProveItLink\" href=\"../1316c79ff2fb7054d7b6c4296fb00fd3d53e759d0/expr.ipynb\"><img src=\"../1316c79ff2fb7054d7b6c4296fb00fd3d53e759d0/expr.png\" style=\"display:inline;vertical-align:middle;\" /></a></td></tr>\n",
       "<tr><td>11</td><td>Operation</td><td>operator:&nbsp;15<br>operand:&nbsp;18<br></td><td><a class=\"ProveItLink\" href=\"../240fba4300c83c279f020352cb02d91ebdb629f40/expr.ipynb\"><img src=\"../240fba4300c83c279f020352cb02d91ebdb629f40/expr.png\" style=\"display:inline;vertical-align:middle;\" /></a></td></tr>\n",
       "<tr><td>12</td><td>Operation</td><td>operator:&nbsp;15<br>operand:&nbsp;19<br></td><td><a class=\"ProveItLink\" href=\"../21d62c80709fa8bacf057d9a5ea83f12aeb11aed0/expr.ipynb\"><img src=\"../21d62c80709fa8bacf057d9a5ea83f12aeb11aed0/expr.png\" style=\"display:inline;vertical-align:middle;\" /></a></td></tr>\n",
       "<tr><td>13</td><td>Conditional</td><td>value:&nbsp;25<br>condition:&nbsp;17<br></td><td><a class=\"ProveItLink\" href=\"../360c377d8b5e5ae4c529aa18defbaef858c1a5010/expr.ipynb\"><img src=\"../360c377d8b5e5ae4c529aa18defbaef858c1a5010/expr.png\" style=\"display:inline;vertical-align:middle;\" /></a></td></tr>\n",
       "<tr><td>14</td><td>ExprTuple</td><td>18</td><td><a class=\"ProveItLink\" href=\"../cf470ed51895b434e1420e30f852862f297918340/expr.ipynb\"><img src=\"../cf470ed51895b434e1420e30f852862f297918340/expr.png\" style=\"display:inline;vertical-align:middle;\" /></a></td></tr>\n",
       "<tr><td>15</td><td>Literal</td><td></td><td><a class=\"ProveItLink\" href=\"../../common/14fe61cccc388f91dfd83d3ca31cf27448cc070a0/expr.ipynb\"><img src=\"../../common/14fe61cccc388f91dfd83d3ca31cf27448cc070a0/expr.png\" style=\"display:inline;vertical-align:middle;\" /></a></td></tr>\n",
       "<tr><td>16</td><td>ExprTuple</td><td>19</td><td><a class=\"ProveItLink\" href=\"../ebadd165a9cda469e9a98645ea7dc5de12d5a1850/expr.ipynb\"><img src=\"../ebadd165a9cda469e9a98645ea7dc5de12d5a1850/expr.png\" style=\"display:inline;vertical-align:middle;\" /></a></td></tr>\n",
       "<tr><td>17</td><td>Operation</td><td>operator:&nbsp;31<br>operands:&nbsp;20<br></td><td><a class=\"ProveItLink\" href=\"../1ce4da5f6c8c819318e6eec0628f2038a6acff950/expr.ipynb\"><img src=\"../1ce4da5f6c8c819318e6eec0628f2038a6acff950/expr.png\" style=\"display:inline;vertical-align:middle;\" /></a></td></tr>\n",
       "<tr><td>18</td><td>Lambda</td><td>parameter:&nbsp;34<br>body:&nbsp;21<br></td><td><a class=\"ProveItLink\" href=\"../a2aa6d7571936355ba79fd7496ee4c167e1c2ac90/expr.ipynb\"><img src=\"../a2aa6d7571936355ba79fd7496ee4c167e1c2ac90/expr.png\" style=\"display:inline;vertical-align:middle;\" /></a></td></tr>\n",
       "<tr><td>19</td><td>Lambda</td><td>parameter:&nbsp;34<br>body:&nbsp;22<br></td><td><a class=\"ProveItLink\" href=\"../bfce4b93a4595115f5af6a386adfd9bccf4cafda0/expr.ipynb\"><img src=\"../bfce4b93a4595115f5af6a386adfd9bccf4cafda0/expr.png\" style=\"display:inline;vertical-align:middle;\" /></a></td></tr>\n",
       "<tr><td>20</td><td>ExprTuple</td><td>34, 23</td><td><a class=\"ProveItLink\" href=\"../cb168ccca2f82680761a02abe520c1293a1f1bee0/expr.ipynb\"><img src=\"../cb168ccca2f82680761a02abe520c1293a1f1bee0/expr.png\" style=\"display:inline;vertical-align:middle;\" /></a></td></tr>\n",
       "<tr><td>21</td><td>Conditional</td><td>value:&nbsp;25<br>condition:&nbsp;24<br></td><td><a class=\"ProveItLink\" href=\"../3ab6548c3a1ada349ef079184052f80e7900dbe80/expr.ipynb\"><img src=\"../3ab6548c3a1ada349ef079184052f80e7900dbe80/expr.png\" style=\"display:inline;vertical-align:middle;\" /></a></td></tr>\n",
       "<tr><td>22</td><td>Conditional</td><td>value:&nbsp;25<br>condition:&nbsp;26<br></td><td><a class=\"ProveItLink\" href=\"../db65b5e506835da6a2eeb1ff75d4ab2ed1fc663d0/expr.ipynb\"><img src=\"../db65b5e506835da6a2eeb1ff75d4ab2ed1fc663d0/expr.png\" style=\"display:inline;vertical-align:middle;\" /></a></td></tr>\n",
       "<tr><td>23</td><td>Operation</td><td>operator:&nbsp;37<br>operands:&nbsp;27<br></td><td><a class=\"ProveItLink\" href=\"../3dfea006d849a53141d4062115db7beaa8ebf0fc0/expr.ipynb\"><img src=\"../3dfea006d849a53141d4062115db7beaa8ebf0fc0/expr.png\" style=\"display:inline;vertical-align:middle;\" /></a></td></tr>\n",
       "<tr><td>24</td><td>Operation</td><td>operator:&nbsp;31<br>operands:&nbsp;28<br></td><td><a class=\"ProveItLink\" href=\"../243b12b761cfc34435d43ee3bb4a9047d936f75f0/expr.ipynb\"><img src=\"../243b12b761cfc34435d43ee3bb4a9047d936f75f0/expr.png\" style=\"display:inline;vertical-align:middle;\" /></a></td></tr>\n",
       "<tr><td>25</td><td>IndexedVar</td><td>variable:&nbsp;29<br>index:&nbsp;34<br></td><td><a class=\"ProveItLink\" href=\"../../../../../core_expr_types/__pv_it/common/6bf27318e99ee62ddd069efc90296ec075ae425d0/expr.ipynb\"><img src=\"../../../../../core_expr_types/__pv_it/common/6bf27318e99ee62ddd069efc90296ec075ae425d0/expr.png\" style=\"display:inline;vertical-align:middle;\" /></a></td></tr>\n",
       "<tr><td>26</td><td>Operation</td><td>operator:&nbsp;31<br>operands:&nbsp;32<br></td><td><a class=\"ProveItLink\" href=\"../d56f58ca580962a6f16dadab7612c93089af708f0/expr.ipynb\"><img src=\"../d56f58ca580962a6f16dadab7612c93089af708f0/expr.png\" style=\"display:inline;vertical-align:middle;\" /></a></td></tr>\n",
       "<tr><td>27</td><td>ExprTuple</td><td>39, 41</td><td><a class=\"ProveItLink\" href=\"../2dab7ef3d42b086d5539e852b622c82cd6dc0dac0/expr.ipynb\"><img src=\"../2dab7ef3d42b086d5539e852b622c82cd6dc0dac0/expr.png\" style=\"display:inline;vertical-align:middle;\" /></a></td></tr>\n",
       "<tr><td>28</td><td>ExprTuple</td><td>34, 33</td><td><a class=\"ProveItLink\" href=\"../a9b53abec9a396de6660eca38917b8eae384cede0/expr.ipynb\"><img src=\"../a9b53abec9a396de6660eca38917b8eae384cede0/expr.png\" style=\"display:inline;vertical-align:middle;\" /></a></td></tr>\n",
       "<tr><td>29</td><td>Variable</td><td></td><td><a class=\"ProveItLink\" href=\"../../../../../__pv_it/common/9705ebf23debd1198c43ec3d0c30ebe152d069440/expr.ipynb\"><img src=\"../../../../../__pv_it/common/9705ebf23debd1198c43ec3d0c30ebe152d069440/expr.png\" style=\"display:inline;vertical-align:middle;\" /></a></td></tr>\n",
       "<tr><td>30</td><td>ExprTuple</td><td>34</td><td><a class=\"ProveItLink\" href=\"../../../../../__pv_it/common/688b115fcd711144fb0bdcf2138b0bd26487dd890/expr.ipynb\"><img src=\"../../../../../__pv_it/common/688b115fcd711144fb0bdcf2138b0bd26487dd890/expr.png\" style=\"display:inline;vertical-align:middle;\" /></a></td></tr>\n",
       "<tr><td>31</td><td>Literal</td><td></td><td><a class=\"ProveItLink\" href=\"../../../../../logic/sets/membership/__pv_it/common/477487d8796864d23d5810f83761435f25167f690/expr.ipynb\"><img src=\"../../../../../logic/sets/membership/__pv_it/common/477487d8796864d23d5810f83761435f25167f690/expr.png\" style=\"display:inline;vertical-align:middle;\" /></a></td></tr>\n",
       "<tr><td>32</td><td>ExprTuple</td><td>34, 35</td><td><a class=\"ProveItLink\" href=\"../1d79d2ea88205f0fe0e5237657f8a1ca111c45e70/expr.ipynb\"><img src=\"../1d79d2ea88205f0fe0e5237657f8a1ca111c45e70/expr.png\" style=\"display:inline;vertical-align:middle;\" /></a></td></tr>\n",
       "<tr><td>33</td><td>Operation</td><td>operator:&nbsp;37<br>operands:&nbsp;36<br></td><td><a class=\"ProveItLink\" href=\"../498872fecc183ccfbbe24c2b7a9ae11a74603e9a0/expr.ipynb\"><img src=\"../498872fecc183ccfbbe24c2b7a9ae11a74603e9a0/expr.png\" style=\"display:inline;vertical-align:middle;\" /></a></td></tr>\n",
       "<tr><td>34</td><td>Variable</td><td></td><td><a class=\"ProveItLink\" href=\"../../../../../__pv_it/common/63b7c64bf9ec7a04ecc396c7a1670f3f12fb59490/expr.ipynb\"><img src=\"../../../../../__pv_it/common/63b7c64bf9ec7a04ecc396c7a1670f3f12fb59490/expr.png\" style=\"display:inline;vertical-align:middle;\" /></a></td></tr>\n",
       "<tr><td>35</td><td>Operation</td><td>operator:&nbsp;37<br>operands:&nbsp;38<br></td><td><a class=\"ProveItLink\" href=\"../ef5a98fb47839c27d02cd0e280e65c0e9580e10f0/expr.ipynb\"><img src=\"../ef5a98fb47839c27d02cd0e280e65c0e9580e10f0/expr.png\" style=\"display:inline;vertical-align:middle;\" /></a></td></tr>\n",
       "<tr><td>36</td><td>ExprTuple</td><td>39, 44</td><td><a class=\"ProveItLink\" href=\"../3dcd5ceea6334d8cb48fe14fdae236293aa9a6050/expr.ipynb\"><img src=\"../3dcd5ceea6334d8cb48fe14fdae236293aa9a6050/expr.png\" style=\"display:inline;vertical-align:middle;\" /></a></td></tr>\n",
       "<tr><td>37</td><td>Literal</td><td></td><td><a class=\"ProveItLink\" href=\"../../../../number_sets/integers/__pv_it/common/92f3a0a77e3c3ea8e4a5c8674edadc54e4f57d550/expr.ipynb\"><img src=\"../../../../number_sets/integers/__pv_it/common/92f3a0a77e3c3ea8e4a5c8674edadc54e4f57d550/expr.png\" style=\"display:inline;vertical-align:middle;\" /></a></td></tr>\n",
       "<tr><td>38</td><td>ExprTuple</td><td>40, 41</td><td><a class=\"ProveItLink\" href=\"../039dea47d06d7e949cd1467aaa967f1b0d4590110/expr.ipynb\"><img src=\"../039dea47d06d7e949cd1467aaa967f1b0d4590110/expr.png\" style=\"display:inline;vertical-align:middle;\" /></a></td></tr>\n",
       "<tr><td>39</td><td>Variable</td><td></td><td><a class=\"ProveItLink\" href=\"../../../../../__pv_it/common/c06c606ec12678c58933ac85412ecadc2ae28be60/expr.ipynb\"><img src=\"../../../../../__pv_it/common/c06c606ec12678c58933ac85412ecadc2ae28be60/expr.png\" style=\"display:inline;vertical-align:middle;\" /></a></td></tr>\n",
       "<tr><td>40</td><td>Operation</td><td>operator:&nbsp;42<br>operands:&nbsp;43<br></td><td><a class=\"ProveItLink\" href=\"../387c497791d50ea392b529d13feca7567919f52d0/expr.ipynb\"><img src=\"../387c497791d50ea392b529d13feca7567919f52d0/expr.png\" style=\"display:inline;vertical-align:middle;\" /></a></td></tr>\n",
       "<tr><td>41</td><td>Variable</td><td></td><td><a class=\"ProveItLink\" href=\"../../../../../__pv_it/common/ceef4280a2f1cc604b455b54e735507244cc62cd0/expr.ipynb\"><img src=\"../../../../../__pv_it/common/ceef4280a2f1cc604b455b54e735507244cc62cd0/expr.png\" style=\"display:inline;vertical-align:middle;\" /></a></td></tr>\n",
       "<tr><td>42</td><td>Literal</td><td></td><td><a class=\"ProveItLink\" href=\"../../../../addition/__pv_it/common/4b7effaab3619a1c2c38fe2dee8601df8ec714590/expr.ipynb\"><img src=\"../../../../addition/__pv_it/common/4b7effaab3619a1c2c38fe2dee8601df8ec714590/expr.png\" style=\"display:inline;vertical-align:middle;\" /></a></td></tr>\n",
       "<tr><td>43</td><td>ExprTuple</td><td>44, 45</td><td><a class=\"ProveItLink\" href=\"../785f25e3398d9efe89e724aefea92dc0142fbb340/expr.ipynb\"><img src=\"../785f25e3398d9efe89e724aefea92dc0142fbb340/expr.png\" style=\"display:inline;vertical-align:middle;\" /></a></td></tr>\n",
       "<tr><td>44</td><td>Variable</td><td></td><td><a class=\"ProveItLink\" href=\"../../../../../__pv_it/common/195236b98c6c564a75b5dbada74b173bc52d5c3e0/expr.ipynb\"><img src=\"../../../../../__pv_it/common/195236b98c6c564a75b5dbada74b173bc52d5c3e0/expr.png\" style=\"display:inline;vertical-align:middle;\" /></a></td></tr>\n",
       "<tr><td>45</td><td>Literal</td><td></td><td><a class=\"ProveItLink\" href=\"../../../../numerals/__pv_it/common/682157d4892d216d9e5626ed533aff9b56b9506e0/expr.ipynb\"><img src=\"../../../../numerals/__pv_it/common/682157d4892d216d9e5626ed533aff9b56b9506e0/expr.png\" style=\"display:inline;vertical-align:middle;\" /></a></td></tr>\n",
       "</table>\n"
      ],
      "text/plain": [
       "0. (alpha -> ((Sum_{k = a}^{c} alpha_{k}) = ((Sum_{k = a}^{b} alpha_{k}) + (Sum_{k = b + 1}^{c} alpha_{k}))))\n",
       "   core type: ExprTuple\n",
       "   sub-expressions: 1\n",
       "1. alpha -> ((Sum_{k = a}^{c} alpha_{k}) = ((Sum_{k = a}^{b} alpha_{k}) + (Sum_{k = b + 1}^{c} alpha_{k})))\n",
       "   core type: Lambda\n",
       "   parameter: 29\n",
       "   body: 3\n",
       "2. (alpha)\n",
       "   core type: ExprTuple\n",
       "   sub-expressions: 29\n",
       "3. (Sum_{k = a}^{c} alpha_{k}) = ((Sum_{k = a}^{b} alpha_{k}) + (Sum_{k = b + 1}^{c} alpha_{k}))\n",
       "   core type: Operation\n",
       "   operator: 4\n",
       "   operands: 5\n",
       "4. =\n",
       "   core type: Literal\n",
       "   sub-expressions: \n",
       "5. (Sum_{k = a}^{c} alpha_{k}, (Sum_{k = a}^{b} alpha_{k}) + (Sum_{k = b + 1}^{c} alpha_{k}))\n",
       "   core type: ExprTuple\n",
       "   sub-expressions: 6, 7\n",
       "6. Sum_{k = a}^{c} alpha_{k}\n",
       "   core type: Operation\n",
       "   operator: 15\n",
       "   operand: 10\n",
       "7. (Sum_{k = a}^{b} alpha_{k}) + (Sum_{k = b + 1}^{c} alpha_{k})\n",
       "   core type: Operation\n",
       "   operator: 42\n",
       "   operands: 9\n",
       "8. (k -> {alpha_{k} if k in {a .. c}.)\n",
       "   core type: ExprTuple\n",
       "   sub-expressions: 10\n",
       "9. (Sum_{k = a}^{b} alpha_{k}, Sum_{k = b + 1}^{c} alpha_{k})\n",
       "   core type: ExprTuple\n",
       "   sub-expressions: 11, 12\n",
       "10. k -> {alpha_{k} if k in {a .. c}.\n",
       "    core type: Lambda\n",
       "    parameter: 34\n",
       "    body: 13\n",
       "11. Sum_{k = a}^{b} alpha_{k}\n",
       "    core type: Operation\n",
       "    operator: 15\n",
       "    operand: 18\n",
       "12. Sum_{k = b + 1}^{c} alpha_{k}\n",
       "    core type: Operation\n",
       "    operator: 15\n",
       "    operand: 19\n",
       "13. {alpha_{k} if k in {a .. c}.\n",
       "    core type: Conditional\n",
       "    value: 25\n",
       "    condition: 17\n",
       "14. (k -> {alpha_{k} if k in {a .. b}.)\n",
       "    core type: ExprTuple\n",
       "    sub-expressions: 18\n",
       "15. Sum\n",
       "    core type: Literal\n",
       "    sub-expressions: \n",
       "16. (k -> {alpha_{k} if k in {b + 1 .. c}.)\n",
       "    core type: ExprTuple\n",
       "    sub-expressions: 19\n",
       "17. k in {a .. c}\n",
       "    core type: Operation\n",
       "    operator: 31\n",
       "    operands: 20\n",
       "18. k -> {alpha_{k} if k in {a .. b}.\n",
       "    core type: Lambda\n",
       "    parameter: 34\n",
       "    body: 21\n",
       "19. k -> {alpha_{k} if k in {b + 1 .. c}.\n",
       "    core type: Lambda\n",
       "    parameter: 34\n",
       "    body: 22\n",
       "20. (k, {a .. c})\n",
       "    core type: ExprTuple\n",
       "    sub-expressions: 34, 23\n",
       "21. {alpha_{k} if k in {a .. b}.\n",
       "    core type: Conditional\n",
       "    value: 25\n",
       "    condition: 24\n",
       "22. {alpha_{k} if k in {b + 1 .. c}.\n",
       "    core type: Conditional\n",
       "    value: 25\n",
       "    condition: 26\n",
       "23. {a .. c}\n",
       "    core type: Operation\n",
       "    operator: 37\n",
       "    operands: 27\n",
       "24. k in {a .. b}\n",
       "    core type: Operation\n",
       "    operator: 31\n",
       "    operands: 28\n",
       "25. alpha_{k}\n",
       "    core type: IndexedVar\n",
       "variable: 29\n",
       "index: 34\n",
       "26. k in {b + 1 .. c}\n",
       "    core type: Operation\n",
       "    operator: 31\n",
       "    operands: 32\n",
       "27. (a, c)\n",
       "    core type: ExprTuple\n",
       "    sub-expressions: 39, 41\n",
       "28. (k, {a .. b})\n",
       "    core type: ExprTuple\n",
       "    sub-expressions: 34, 33\n",
       "29. alpha\n",
       "    core type: Variable\n",
       "    sub-expressions: \n",
       "30. (k)\n",
       "    core type: ExprTuple\n",
       "    sub-expressions: 34\n",
       "31. in\n",
       "    core type: Literal\n",
       "    sub-expressions: \n",
       "32. (k, {b + 1 .. c})\n",
       "    core type: ExprTuple\n",
       "    sub-expressions: 34, 35\n",
       "33. {a .. b}\n",
       "    core type: Operation\n",
       "    operator: 37\n",
       "    operands: 36\n",
       "34. k\n",
       "    core type: Variable\n",
       "    sub-expressions: \n",
       "35. {b + 1 .. c}\n",
       "    core type: Operation\n",
       "    operator: 37\n",
       "    operands: 38\n",
       "36. (a, b)\n",
       "    core type: ExprTuple\n",
       "    sub-expressions: 39, 44\n",
       "37. Interval\n",
       "    core type: Literal\n",
       "    sub-expressions: \n",
       "38. (b + 1, c)\n",
       "    core type: ExprTuple\n",
       "    sub-expressions: 40, 41\n",
       "39. a\n",
       "    core type: Variable\n",
       "    sub-expressions: \n",
       "40. b + 1\n",
       "    core type: Operation\n",
       "    operator: 42\n",
       "    operands: 43\n",
       "41. c\n",
       "    core type: Variable\n",
       "    sub-expressions: \n",
       "42. +\n",
       "    core type: Literal\n",
       "    sub-expressions: \n",
       "43. (b, 1)\n",
       "    core type: ExprTuple\n",
       "    sub-expressions: 44, 45\n",
       "44. b\n",
       "    core type: Variable\n",
       "    sub-expressions: \n",
       "45. 1\n",
       "    core type: Literal\n",
       "    sub-expressions: "
      ]
     },
     "metadata": {},
     "output_type": "display_data"
    }
   ],
   "source": [
    "# display the expression information\n",
    "stored_expr.expr_info()"
   ]
  },
  {
   "cell_type": "code",
   "execution_count": null,
   "metadata": {},
   "outputs": [],
   "source": []
  }
 ],
 "metadata": {
  "kernelspec": {
   "display_name": "Python 3",
   "language": "python",
   "name": "python3"
  }
 },
 "nbformat": 4,
 "nbformat_minor": 0
}