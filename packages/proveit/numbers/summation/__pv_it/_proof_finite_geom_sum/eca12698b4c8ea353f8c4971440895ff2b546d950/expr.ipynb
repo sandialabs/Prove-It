{
 "cells": [
  {
   "cell_type": "markdown",
   "metadata": {},
   "source": [
    "Expression of type <a class=\"ProveItLink\" href=\"../../../../../../../doc/html/api/proveit.logic.Equals.html\">Equals</a>\n",
    "=======================\n",
    "# from the theory of <a class=\"ProveItLink\" href=\"../../../_theory_nbs_/theory.ipynb\">proveit.numbers.summation</a>"
   ]
  },
  {
   "cell_type": "code",
   "execution_count": 1,
   "metadata": {},
   "outputs": [],
   "source": [
    "import proveit\n",
    "# Automation is not needed when building an expression:\n",
    "proveit.defaults.automation = False # This will speed things up.\n",
    "proveit.defaults.inline_pngs = False # Makes files smaller.\n",
    "%load_expr # Load the stored expression as 'stored_expr'\n",
    "# import Expression classes needed to build the expression\n",
    "from proveit import Variable, i, m, x\n",
    "from proveit.logic import Equals\n",
    "from proveit.numbers import Add, Exp, Interval, Sum, frac, one, subtract, zero"
   ]
  },
  {
   "cell_type": "code",
   "execution_count": 2,
   "metadata": {},
   "outputs": [
    {
     "data": {
      "text/html": [
       "<strong id=\"expr\">expr:</strong> <a class=\"ProveItLink\" href=\"expr.ipynb\"><img src=\"expr.png\" style=\"display:inline;vertical-align:middle;\" /></a><br>"
      ],
      "text/plain": [
       "<IPython.core.display.HTML object>"
      ]
     },
     "metadata": {},
     "output_type": "display_data"
    }
   ],
   "source": [
    "# build up the expression from sub-expressions\n",
    "sub_expr1 = Add(m, one)\n",
    "sub_expr2 = subtract(one, x)\n",
    "expr = Equals(Sum(index_or_indices = [i], summand = Exp(x, i), domain = Interval(zero, sub_expr1)), Add(frac(subtract(one, Exp(x, sub_expr1)), sub_expr2), frac(Variable(\"_a\", latex_format = r\"{_{-}a}\"), sub_expr2)))"
   ]
  },
  {
   "cell_type": "code",
   "execution_count": 3,
   "metadata": {},
   "outputs": [
    {
     "name": "stdout",
     "output_type": "stream",
     "text": [
      "Passed sanity check: expr matches stored_expr\n"
     ]
    }
   ],
   "source": [
    "# check that the built expression is the same as the stored expression\n",
    "assert expr == stored_expr\n",
    "assert expr._style_id == stored_expr._style_id\n",
    "print(\"Passed sanity check: expr matches stored_expr\")"
   ]
  },
  {
   "cell_type": "code",
   "execution_count": 4,
   "metadata": {},
   "outputs": [
    {
     "name": "stdout",
     "output_type": "stream",
     "text": [
      "\\left(\\sum_{i = 0}^{m + 1} x^{i}\\right) = \\left(\\frac{1 - x^{m + 1}}{1 - x} + \\frac{{_{-}a}}{1 - x}\\right)\n"
     ]
    }
   ],
   "source": [
    "# Show the LaTeX representation of the expression for convenience if you need it.\n",
    "print(stored_expr.latex())"
   ]
  },
  {
   "cell_type": "code",
   "execution_count": 5,
   "metadata": {},
   "outputs": [
    {
     "data": {
      "text/html": [
       "<table>\n",
       "<tr><th>name</th><th>description</th><th>default</th><th>current value</th><th>related methods</th></tr><tr><td>operation</td><td>'infix' or 'function' style formatting</td><td>infix</td><td>infix</td><td></td></tr>\n",
       "<tr><td>wrap_positions</td><td>position(s) at which wrapping is to occur; '2 n - 1' is after the nth operand, '2 n' is after the nth operation.</td><td>()</td><td>()</td><td>('with_wrapping_at', 'with_wrap_before_operator', 'with_wrap_after_operator', 'without_wrapping', 'wrap_positions')</td></tr>\n",
       "<tr><td>justification</td><td>if any wrap positions are set, justify to the 'left', 'center', or 'right'</td><td>center</td><td>center</td><td>('with_justification',)</td></tr>\n",
       "<tr><td>direction</td><td>Direction of the relation (normal or reversed)</td><td>normal</td><td>normal</td><td>('with_direction_reversed', 'is_reversed')</td></tr>\n",
       "</table>\n"
      ],
      "text/plain": [
       "style name: operation\n",
       "description: 'infix' or 'function' style formatting\n",
       "default: infix\n",
       "current value: infix\n",
       "related methods: ()\n",
       "style name: wrap_positions\n",
       "description: position(s) at which wrapping is to occur; '2 n - 1' is after the nth operand, '2 n' is after the nth operation.\n",
       "default: ()\n",
       "current value: ()\n",
       "related methods: ('with_wrapping_at', 'with_wrap_before_operator', 'with_wrap_after_operator', 'without_wrapping', 'wrap_positions')\n",
       "style name: justification\n",
       "description: if any wrap positions are set, justify to the 'left', 'center', or 'right'\n",
       "default: center\n",
       "current value: center\n",
       "related methods: ('with_justification',)\n",
       "style name: direction\n",
       "description: Direction of the relation (normal or reversed)\n",
       "default: normal\n",
       "current value: normal\n",
       "related methods: ('with_direction_reversed', 'is_reversed')"
      ]
     },
     "metadata": {},
     "output_type": "display_data"
    }
   ],
   "source": [
    "stored_expr.style_options()"
   ]
  },
  {
   "cell_type": "code",
   "execution_count": 6,
   "metadata": {},
   "outputs": [
    {
     "data": {
      "text/html": [
       "<table><tr><th>&nbsp;</th><th>core type</th><th>sub-expressions</th><th>expression</th></tr>\n",
       "<tr><td>0</td><td>Operation</td><td>operator:&nbsp;1<br>operands:&nbsp;2<br></td><td><a class=\"ProveItLink\" href=\"expr.ipynb\"><img src=\"expr.png\" style=\"display:inline;vertical-align:middle;\" /></a></td></tr>\n",
       "<tr><td>1</td><td>Literal</td><td></td><td><a class=\"ProveItLink\" href=\"../../../../../logic/equality/__pv_it/common/fb96dc12b2aa8801dda64d0132b396c63d1502bb0/expr.ipynb\"><img src=\"../../../../../logic/equality/__pv_it/common/fb96dc12b2aa8801dda64d0132b396c63d1502bb0/expr.png\" style=\"display:inline;vertical-align:middle;\" /></a></td></tr>\n",
       "<tr><td>2</td><td>ExprTuple</td><td>3, 4</td><td><a class=\"ProveItLink\" href=\"../c2b269bf3a5788c0acd59d540662145054b7ad470/expr.ipynb\"><img src=\"../c2b269bf3a5788c0acd59d540662145054b7ad470/expr.png\" style=\"display:inline;vertical-align:middle;\" /></a></td></tr>\n",
       "<tr><td>3</td><td>Operation</td><td>operator:&nbsp;5<br>operand:&nbsp;8<br></td><td><a class=\"ProveItLink\" href=\"../0544b6739d17247f0d936bda30d3c1b87ca8cdc00/expr.ipynb\"><img src=\"../0544b6739d17247f0d936bda30d3c1b87ca8cdc00/expr.png\" style=\"display:inline;vertical-align:middle;\" /></a></td></tr>\n",
       "<tr><td>4</td><td>Operation</td><td>operator:&nbsp;41<br>operands:&nbsp;7<br></td><td><a class=\"ProveItLink\" href=\"../3ec5479b6621b8598796b3a6273b96cd1e642e420/expr.ipynb\"><img src=\"../3ec5479b6621b8598796b3a6273b96cd1e642e420/expr.png\" style=\"display:inline;vertical-align:middle;\" /></a></td></tr>\n",
       "<tr><td>5</td><td>Literal</td><td></td><td><a class=\"ProveItLink\" href=\"../../common/14fe61cccc388f91dfd83d3ca31cf27448cc070a0/expr.ipynb\"><img src=\"../../common/14fe61cccc388f91dfd83d3ca31cf27448cc070a0/expr.png\" style=\"display:inline;vertical-align:middle;\" /></a></td></tr>\n",
       "<tr><td>6</td><td>ExprTuple</td><td>8</td><td><a class=\"ProveItLink\" href=\"../5ecde55e5752912a2a0a6fef629bbd3777d40c220/expr.ipynb\"><img src=\"../5ecde55e5752912a2a0a6fef629bbd3777d40c220/expr.png\" style=\"display:inline;vertical-align:middle;\" /></a></td></tr>\n",
       "<tr><td>7</td><td>ExprTuple</td><td>9, 10</td><td><a class=\"ProveItLink\" href=\"../ee4fb9f48aecdde03f6de54aed301e9e919b85200/expr.ipynb\"><img src=\"../ee4fb9f48aecdde03f6de54aed301e9e919b85200/expr.png\" style=\"display:inline;vertical-align:middle;\" /></a></td></tr>\n",
       "<tr><td>8</td><td>Lambda</td><td>parameter:&nbsp;26<br>body:&nbsp;12<br></td><td><a class=\"ProveItLink\" href=\"../afaf0202d5bf269a713e8c1c6f8aa2852c3159d10/expr.ipynb\"><img src=\"../afaf0202d5bf269a713e8c1c6f8aa2852c3159d10/expr.png\" style=\"display:inline;vertical-align:middle;\" /></a></td></tr>\n",
       "<tr><td>9</td><td>Operation</td><td>operator:&nbsp;14<br>operands:&nbsp;13<br></td><td><a class=\"ProveItLink\" href=\"../5ebe2f86fd8eee8f1e6ec60eacc17f696fb1ccdd0/expr.ipynb\"><img src=\"../5ebe2f86fd8eee8f1e6ec60eacc17f696fb1ccdd0/expr.png\" style=\"display:inline;vertical-align:middle;\" /></a></td></tr>\n",
       "<tr><td>10</td><td>Operation</td><td>operator:&nbsp;14<br>operands:&nbsp;15<br></td><td><a class=\"ProveItLink\" href=\"../fdedd785d81828bb03d92fdfa953786e4a5d714d0/expr.ipynb\"><img src=\"../fdedd785d81828bb03d92fdfa953786e4a5d714d0/expr.png\" style=\"display:inline;vertical-align:middle;\" /></a></td></tr>\n",
       "<tr><td>11</td><td>ExprTuple</td><td>26</td><td><a class=\"ProveItLink\" href=\"../../../../../core_expr_types/__pv_it/common/0fc33550aa9740010879fdf30c320b63ba918eff0/expr.ipynb\"><img src=\"../../../../../core_expr_types/__pv_it/common/0fc33550aa9740010879fdf30c320b63ba918eff0/expr.png\" style=\"display:inline;vertical-align:middle;\" /></a></td></tr>\n",
       "<tr><td>12</td><td>Conditional</td><td>value:&nbsp;16<br>condition:&nbsp;17<br></td><td><a class=\"ProveItLink\" href=\"../521d81164f72b93a299db34e4e295128876e67bd0/expr.ipynb\"><img src=\"../521d81164f72b93a299db34e4e295128876e67bd0/expr.png\" style=\"display:inline;vertical-align:middle;\" /></a></td></tr>\n",
       "<tr><td>13</td><td>ExprTuple</td><td>18, 20</td><td><a class=\"ProveItLink\" href=\"../2c8790cb63605aa5e63a667b30b372264c2606a00/expr.ipynb\"><img src=\"../2c8790cb63605aa5e63a667b30b372264c2606a00/expr.png\" style=\"display:inline;vertical-align:middle;\" /></a></td></tr>\n",
       "<tr><td>14</td><td>Literal</td><td></td><td><a class=\"ProveItLink\" href=\"../../../../division/__pv_it/common/a2a633e1e3c749fb1f2692466b287b6348c5de840/expr.ipynb\"><img src=\"../../../../division/__pv_it/common/a2a633e1e3c749fb1f2692466b287b6348c5de840/expr.png\" style=\"display:inline;vertical-align:middle;\" /></a></td></tr>\n",
       "<tr><td>15</td><td>ExprTuple</td><td>19, 20</td><td><a class=\"ProveItLink\" href=\"../3e0920b0c8b0cbef2173bde84ab2a13c577c0d500/expr.ipynb\"><img src=\"../3e0920b0c8b0cbef2173bde84ab2a13c577c0d500/expr.png\" style=\"display:inline;vertical-align:middle;\" /></a></td></tr>\n",
       "<tr><td>16</td><td>Operation</td><td>operator:&nbsp;37<br>operands:&nbsp;21<br></td><td><a class=\"ProveItLink\" href=\"../../theorems/4e928b95a2a2690eee9e3603b02d831601000a7e0/expr.ipynb\"><img src=\"../../theorems/4e928b95a2a2690eee9e3603b02d831601000a7e0/expr.png\" style=\"display:inline;vertical-align:middle;\" /></a></td></tr>\n",
       "<tr><td>17</td><td>Operation</td><td>operator:&nbsp;22<br>operands:&nbsp;23<br></td><td><a class=\"ProveItLink\" href=\"../cac7847a16e52fccfe019c67dea56d7e4b6a47660/expr.ipynb\"><img src=\"../cac7847a16e52fccfe019c67dea56d7e4b6a47660/expr.png\" style=\"display:inline;vertical-align:middle;\" /></a></td></tr>\n",
       "<tr><td>18</td><td>Operation</td><td>operator:&nbsp;41<br>operands:&nbsp;24<br></td><td><a class=\"ProveItLink\" href=\"../632a075b5373e72332e33b600b144977649405f70/expr.ipynb\"><img src=\"../632a075b5373e72332e33b600b144977649405f70/expr.png\" style=\"display:inline;vertical-align:middle;\" /></a></td></tr>\n",
       "<tr><td>19</td><td>Variable</td><td></td><td><a class=\"ProveItLink\" href=\"../../../../../core_expr_types/__pv_it/common/006c465e50948aa2b52285e2de47974f741255cc0/expr.ipynb\"><img src=\"../../../../../core_expr_types/__pv_it/common/006c465e50948aa2b52285e2de47974f741255cc0/expr.png\" style=\"display:inline;vertical-align:middle;\" /></a></td></tr>\n",
       "<tr><td>20</td><td>Operation</td><td>operator:&nbsp;41<br>operands:&nbsp;25<br></td><td><a class=\"ProveItLink\" href=\"../../theorems/ee7f4fd9cddf2bf63ee91f8fb1058a53495ea8000/expr.ipynb\"><img src=\"../../theorems/ee7f4fd9cddf2bf63ee91f8fb1058a53495ea8000/expr.png\" style=\"display:inline;vertical-align:middle;\" /></a></td></tr>\n",
       "<tr><td>21</td><td>ExprTuple</td><td>39, 26</td><td><a class=\"ProveItLink\" href=\"../../theorems/aa1cd9294caa1865ed32fe1d58b1027b689d8af80/expr.ipynb\"><img src=\"../../theorems/aa1cd9294caa1865ed32fe1d58b1027b689d8af80/expr.png\" style=\"display:inline;vertical-align:middle;\" /></a></td></tr>\n",
       "<tr><td>22</td><td>Literal</td><td></td><td><a class=\"ProveItLink\" href=\"../../../../../logic/sets/membership/__pv_it/common/477487d8796864d23d5810f83761435f25167f690/expr.ipynb\"><img src=\"../../../../../logic/sets/membership/__pv_it/common/477487d8796864d23d5810f83761435f25167f690/expr.png\" style=\"display:inline;vertical-align:middle;\" /></a></td></tr>\n",
       "<tr><td>23</td><td>ExprTuple</td><td>26, 27</td><td><a class=\"ProveItLink\" href=\"../a6f9e60f08932bbd6ae7378141532ba91bfa62c80/expr.ipynb\"><img src=\"../a6f9e60f08932bbd6ae7378141532ba91bfa62c80/expr.png\" style=\"display:inline;vertical-align:middle;\" /></a></td></tr>\n",
       "<tr><td>24</td><td>ExprTuple</td><td>44, 28</td><td><a class=\"ProveItLink\" href=\"../c7aeed742afe02eb969d780d2a0af5da8adfd76d0/expr.ipynb\"><img src=\"../c7aeed742afe02eb969d780d2a0af5da8adfd76d0/expr.png\" style=\"display:inline;vertical-align:middle;\" /></a></td></tr>\n",
       "<tr><td>25</td><td>ExprTuple</td><td>44, 29</td><td><a class=\"ProveItLink\" href=\"../../theorems/a260591c7d03a37138628696200ec6e58cb59c2c0/expr.ipynb\"><img src=\"../../theorems/a260591c7d03a37138628696200ec6e58cb59c2c0/expr.png\" style=\"display:inline;vertical-align:middle;\" /></a></td></tr>\n",
       "<tr><td>26</td><td>Variable</td><td></td><td><a class=\"ProveItLink\" href=\"../../../../../__pv_it/common/ae955345c83abf786c3aff8681cd5465beae262d0/expr.ipynb\"><img src=\"../../../../../__pv_it/common/ae955345c83abf786c3aff8681cd5465beae262d0/expr.png\" style=\"display:inline;vertical-align:middle;\" /></a></td></tr>\n",
       "<tr><td>27</td><td>Operation</td><td>operator:&nbsp;30<br>operands:&nbsp;31<br></td><td><a class=\"ProveItLink\" href=\"../3ffa1a11f7866f3762e33495c0faa64ab4ce8b840/expr.ipynb\"><img src=\"../3ffa1a11f7866f3762e33495c0faa64ab4ce8b840/expr.png\" style=\"display:inline;vertical-align:middle;\" /></a></td></tr>\n",
       "<tr><td>28</td><td>Operation</td><td>operator:&nbsp;33<br>operand:&nbsp;36<br></td><td><a class=\"ProveItLink\" href=\"../b50d656f8e3c8d90d6e7db02903705a65a5bb9620/expr.ipynb\"><img src=\"../b50d656f8e3c8d90d6e7db02903705a65a5bb9620/expr.png\" style=\"display:inline;vertical-align:middle;\" /></a></td></tr>\n",
       "<tr><td>29</td><td>Operation</td><td>operator:&nbsp;33<br>operand:&nbsp;39<br></td><td><a class=\"ProveItLink\" href=\"../../theorems/8ae6bcf9f63d27c3e43ea63be5df603397837e130/expr.ipynb\"><img src=\"../../theorems/8ae6bcf9f63d27c3e43ea63be5df603397837e130/expr.png\" style=\"display:inline;vertical-align:middle;\" /></a></td></tr>\n",
       "<tr><td>30</td><td>Literal</td><td></td><td><a class=\"ProveItLink\" href=\"../../../../number_sets/integers/__pv_it/common/92f3a0a77e3c3ea8e4a5c8674edadc54e4f57d550/expr.ipynb\"><img src=\"../../../../number_sets/integers/__pv_it/common/92f3a0a77e3c3ea8e4a5c8674edadc54e4f57d550/expr.png\" style=\"display:inline;vertical-align:middle;\" /></a></td></tr>\n",
       "<tr><td>31</td><td>ExprTuple</td><td>35, 40</td><td><a class=\"ProveItLink\" href=\"../8e4567080d13db62ac4cff44212a196e3fc574730/expr.ipynb\"><img src=\"../8e4567080d13db62ac4cff44212a196e3fc574730/expr.png\" style=\"display:inline;vertical-align:middle;\" /></a></td></tr>\n",
       "<tr><td>32</td><td>ExprTuple</td><td>36</td><td><a class=\"ProveItLink\" href=\"../7d36aa4b2f282835db8a358c6a8363fc3389ace10/expr.ipynb\"><img src=\"../7d36aa4b2f282835db8a358c6a8363fc3389ace10/expr.png\" style=\"display:inline;vertical-align:middle;\" /></a></td></tr>\n",
       "<tr><td>33</td><td>Literal</td><td></td><td><a class=\"ProveItLink\" href=\"../../../../negation/__pv_it/common/221b3c4d1770ee9051b7c044c3f9ec61196fc34b0/expr.ipynb\"><img src=\"../../../../negation/__pv_it/common/221b3c4d1770ee9051b7c044c3f9ec61196fc34b0/expr.png\" style=\"display:inline;vertical-align:middle;\" /></a></td></tr>\n",
       "<tr><td>34</td><td>ExprTuple</td><td>39</td><td><a class=\"ProveItLink\" href=\"../../../../../__pv_it/common/eacfeccc0521684fcb20fe8f5180ac50fca471f20/expr.ipynb\"><img src=\"../../../../../__pv_it/common/eacfeccc0521684fcb20fe8f5180ac50fca471f20/expr.png\" style=\"display:inline;vertical-align:middle;\" /></a></td></tr>\n",
       "<tr><td>35</td><td>Literal</td><td></td><td><a class=\"ProveItLink\" href=\"../../../../numerals/__pv_it/common/dd4e19e8b134dfb293470ea55fe3589b0ab9f8040/expr.ipynb\"><img src=\"../../../../numerals/__pv_it/common/dd4e19e8b134dfb293470ea55fe3589b0ab9f8040/expr.png\" style=\"display:inline;vertical-align:middle;\" /></a></td></tr>\n",
       "<tr><td>36</td><td>Operation</td><td>operator:&nbsp;37<br>operands:&nbsp;38<br></td><td><a class=\"ProveItLink\" href=\"../fdaad199028fc16e0f515fd290cc65222637fd920/expr.ipynb\"><img src=\"../fdaad199028fc16e0f515fd290cc65222637fd920/expr.png\" style=\"display:inline;vertical-align:middle;\" /></a></td></tr>\n",
       "<tr><td>37</td><td>Literal</td><td></td><td><a class=\"ProveItLink\" href=\"../../../../exponentiation/__pv_it/common/0ac37aca1e54c35c5cda09672df32d4f69f1f3020/expr.ipynb\"><img src=\"../../../../exponentiation/__pv_it/common/0ac37aca1e54c35c5cda09672df32d4f69f1f3020/expr.png\" style=\"display:inline;vertical-align:middle;\" /></a></td></tr>\n",
       "<tr><td>38</td><td>ExprTuple</td><td>39, 40</td><td><a class=\"ProveItLink\" href=\"../cef191651b5e4af9fe4f80bed479bd525729981e0/expr.ipynb\"><img src=\"../cef191651b5e4af9fe4f80bed479bd525729981e0/expr.png\" style=\"display:inline;vertical-align:middle;\" /></a></td></tr>\n",
       "<tr><td>39</td><td>Variable</td><td></td><td><a class=\"ProveItLink\" href=\"../../../../../__pv_it/common/a0d9d672aa5e272d907247690c152cc2c6daafb70/expr.ipynb\"><img src=\"../../../../../__pv_it/common/a0d9d672aa5e272d907247690c152cc2c6daafb70/expr.png\" style=\"display:inline;vertical-align:middle;\" /></a></td></tr>\n",
       "<tr><td>40</td><td>Operation</td><td>operator:&nbsp;41<br>operands:&nbsp;42<br></td><td><a class=\"ProveItLink\" href=\"../../../../__pv_it/common/f0153e6834a9ad14709e8cc9fcde46b29f1ea5f30/expr.ipynb\"><img src=\"../../../../__pv_it/common/f0153e6834a9ad14709e8cc9fcde46b29f1ea5f30/expr.png\" style=\"display:inline;vertical-align:middle;\" /></a></td></tr>\n",
       "<tr><td>41</td><td>Literal</td><td></td><td><a class=\"ProveItLink\" href=\"../../../../addition/__pv_it/common/4b7effaab3619a1c2c38fe2dee8601df8ec714590/expr.ipynb\"><img src=\"../../../../addition/__pv_it/common/4b7effaab3619a1c2c38fe2dee8601df8ec714590/expr.png\" style=\"display:inline;vertical-align:middle;\" /></a></td></tr>\n",
       "<tr><td>42</td><td>ExprTuple</td><td>43, 44</td><td><a class=\"ProveItLink\" href=\"../../../../__pv_it/common/170d11eb07f7b16874eb02f06c0a6709375d45350/expr.ipynb\"><img src=\"../../../../__pv_it/common/170d11eb07f7b16874eb02f06c0a6709375d45350/expr.png\" style=\"display:inline;vertical-align:middle;\" /></a></td></tr>\n",
       "<tr><td>43</td><td>Variable</td><td></td><td><a class=\"ProveItLink\" href=\"../../../../../__pv_it/common/674a03b9c3ca221b3aabd5636837b31528ff33830/expr.ipynb\"><img src=\"../../../../../__pv_it/common/674a03b9c3ca221b3aabd5636837b31528ff33830/expr.png\" style=\"display:inline;vertical-align:middle;\" /></a></td></tr>\n",
       "<tr><td>44</td><td>Literal</td><td></td><td><a class=\"ProveItLink\" href=\"../../../../numerals/__pv_it/common/682157d4892d216d9e5626ed533aff9b56b9506e0/expr.ipynb\"><img src=\"../../../../numerals/__pv_it/common/682157d4892d216d9e5626ed533aff9b56b9506e0/expr.png\" style=\"display:inline;vertical-align:middle;\" /></a></td></tr>\n",
       "</table>\n"
      ],
      "text/plain": [
       "0. (Sum_{i = 0}^{m + 1} x^{i}) = (((1 - x^{m + 1}) / (1 - x)) + (_a / (1 - x)))\n",
       "   core type: Operation\n",
       "   operator: 1\n",
       "   operands: 2\n",
       "1. =\n",
       "   core type: Literal\n",
       "   sub-expressions: \n",
       "2. (Sum_{i = 0}^{m + 1} x^{i}, ((1 - x^{m + 1}) / (1 - x)) + (_a / (1 - x)))\n",
       "   core type: ExprTuple\n",
       "   sub-expressions: 3, 4\n",
       "3. Sum_{i = 0}^{m + 1} x^{i}\n",
       "   core type: Operation\n",
       "   operator: 5\n",
       "   operand: 8\n",
       "4. ((1 - x^{m + 1}) / (1 - x)) + (_a / (1 - x))\n",
       "   core type: Operation\n",
       "   operator: 41\n",
       "   operands: 7\n",
       "5. Sum\n",
       "   core type: Literal\n",
       "   sub-expressions: \n",
       "6. (i -> {x^{i} if i in {0 .. m + 1}.)\n",
       "   core type: ExprTuple\n",
       "   sub-expressions: 8\n",
       "7. ((1 - x^{m + 1}) / (1 - x), _a / (1 - x))\n",
       "   core type: ExprTuple\n",
       "   sub-expressions: 9, 10\n",
       "8. i -> {x^{i} if i in {0 .. m + 1}.\n",
       "   core type: Lambda\n",
       "   parameter: 26\n",
       "   body: 12\n",
       "9. (1 - x^{m + 1}) / (1 - x)\n",
       "   core type: Operation\n",
       "   operator: 14\n",
       "   operands: 13\n",
       "10. _a / (1 - x)\n",
       "    core type: Operation\n",
       "    operator: 14\n",
       "    operands: 15\n",
       "11. (i)\n",
       "    core type: ExprTuple\n",
       "    sub-expressions: 26\n",
       "12. {x^{i} if i in {0 .. m + 1}.\n",
       "    core type: Conditional\n",
       "    value: 16\n",
       "    condition: 17\n",
       "13. (1 - x^{m + 1}, 1 - x)\n",
       "    core type: ExprTuple\n",
       "    sub-expressions: 18, 20\n",
       "14. /\n",
       "    core type: Literal\n",
       "    sub-expressions: \n",
       "15. (_a, 1 - x)\n",
       "    core type: ExprTuple\n",
       "    sub-expressions: 19, 20\n",
       "16. x^{i}\n",
       "    core type: Operation\n",
       "    operator: 37\n",
       "    operands: 21\n",
       "17. i in {0 .. m + 1}\n",
       "    core type: Operation\n",
       "    operator: 22\n",
       "    operands: 23\n",
       "18. 1 - x^{m + 1}\n",
       "    core type: Operation\n",
       "    operator: 41\n",
       "    operands: 24\n",
       "19. _a\n",
       "    core type: Variable\n",
       "    sub-expressions: \n",
       "20. 1 - x\n",
       "    core type: Operation\n",
       "    operator: 41\n",
       "    operands: 25\n",
       "21. (x, i)\n",
       "    core type: ExprTuple\n",
       "    sub-expressions: 39, 26\n",
       "22. in\n",
       "    core type: Literal\n",
       "    sub-expressions: \n",
       "23. (i, {0 .. m + 1})\n",
       "    core type: ExprTuple\n",
       "    sub-expressions: 26, 27\n",
       "24. (1, -x^{m + 1})\n",
       "    core type: ExprTuple\n",
       "    sub-expressions: 44, 28\n",
       "25. (1, -x)\n",
       "    core type: ExprTuple\n",
       "    sub-expressions: 44, 29\n",
       "26. i\n",
       "    core type: Variable\n",
       "    sub-expressions: \n",
       "27. {0 .. m + 1}\n",
       "    core type: Operation\n",
       "    operator: 30\n",
       "    operands: 31\n",
       "28. -x^{m + 1}\n",
       "    core type: Operation\n",
       "    operator: 33\n",
       "    operand: 36\n",
       "29. -x\n",
       "    core type: Operation\n",
       "    operator: 33\n",
       "    operand: 39\n",
       "30. Interval\n",
       "    core type: Literal\n",
       "    sub-expressions: \n",
       "31. (0, m + 1)\n",
       "    core type: ExprTuple\n",
       "    sub-expressions: 35, 40\n",
       "32. (x^{m + 1})\n",
       "    core type: ExprTuple\n",
       "    sub-expressions: 36\n",
       "33. -\n",
       "    core type: Literal\n",
       "    sub-expressions: \n",
       "34. (x)\n",
       "    core type: ExprTuple\n",
       "    sub-expressions: 39\n",
       "35. 0\n",
       "    core type: Literal\n",
       "    sub-expressions: \n",
       "36. x^{m + 1}\n",
       "    core type: Operation\n",
       "    operator: 37\n",
       "    operands: 38\n",
       "37. Exp\n",
       "    core type: Literal\n",
       "    sub-expressions: \n",
       "38. (x, m + 1)\n",
       "    core type: ExprTuple\n",
       "    sub-expressions: 39, 40\n",
       "39. x\n",
       "    core type: Variable\n",
       "    sub-expressions: \n",
       "40. m + 1\n",
       "    core type: Operation\n",
       "    operator: 41\n",
       "    operands: 42\n",
       "41. +\n",
       "    core type: Literal\n",
       "    sub-expressions: \n",
       "42. (m, 1)\n",
       "    core type: ExprTuple\n",
       "    sub-expressions: 43, 44\n",
       "43. m\n",
       "    core type: Variable\n",
       "    sub-expressions: \n",
       "44. 1\n",
       "    core type: Literal\n",
       "    sub-expressions: "
      ]
     },
     "metadata": {},
     "output_type": "display_data"
    }
   ],
   "source": [
    "# display the expression information\n",
    "stored_expr.expr_info()"
   ]
  },
  {
   "cell_type": "code",
   "execution_count": null,
   "metadata": {},
   "outputs": [],
   "source": []
  }
 ],
 "metadata": {
  "kernelspec": {
   "display_name": "Python 3",
   "language": "python",
   "name": "python3"
  }
 },
 "nbformat": 4,
 "nbformat_minor": 0
}