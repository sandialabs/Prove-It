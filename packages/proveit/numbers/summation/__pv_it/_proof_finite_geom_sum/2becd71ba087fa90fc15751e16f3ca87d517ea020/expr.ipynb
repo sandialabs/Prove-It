{
 "cells": [
  {
   "cell_type": "markdown",
   "metadata": {},
   "source": [
    "Expression of type <a class=\"ProveItLink\" href=\"../../../../../../../doc/html/api/proveit.logic.Equals.html\">Equals</a>\n",
    "=======================\n",
    "# from the theory of <a class=\"ProveItLink\" href=\"../../../_theory_nbs_/theory.ipynb\">proveit.numbers.summation</a>"
   ]
  },
  {
   "cell_type": "code",
   "execution_count": 1,
   "metadata": {},
   "outputs": [],
   "source": [
    "import proveit\n",
    "# Automation is not needed when building an expression:\n",
    "proveit.defaults.automation = False # This will speed things up.\n",
    "proveit.defaults.inline_pngs = False # Makes files smaller.\n",
    "%load_expr # Load the stored expression as 'stored_expr'\n",
    "# import Expression classes needed to build the expression\n",
    "from proveit import m, x\n",
    "from proveit.logic import Equals\n",
    "from proveit.numbers import Add, Exp, one, subtract, two"
   ]
  },
  {
   "cell_type": "code",
   "execution_count": 2,
   "metadata": {},
   "outputs": [
    {
     "data": {
      "text/html": [
       "<strong id=\"expr\">expr:</strong> <a class=\"ProveItLink\" href=\"expr.ipynb\"><img src=\"expr.png\" style=\"display:inline;vertical-align:middle;\" /></a><br>"
      ],
      "text/plain": [
       "<IPython.core.display.HTML object>"
      ]
     },
     "metadata": {},
     "output_type": "display_data"
    }
   ],
   "source": [
    "# build up the expression from sub-expressions\n",
    "sub_expr1 = Exp(x, Add(m, one))\n",
    "sub_expr2 = Exp(x, Add(two, m))\n",
    "expr = Equals(Add(subtract(one, sub_expr1), subtract(sub_expr1, sub_expr2)), subtract(one, sub_expr2))"
   ]
  },
  {
   "cell_type": "code",
   "execution_count": 3,
   "metadata": {},
   "outputs": [
    {
     "name": "stdout",
     "output_type": "stream",
     "text": [
      "Passed sanity check: expr matches stored_expr\n"
     ]
    }
   ],
   "source": [
    "# check that the built expression is the same as the stored expression\n",
    "assert expr == stored_expr\n",
    "assert expr._style_id == stored_expr._style_id\n",
    "print(\"Passed sanity check: expr matches stored_expr\")"
   ]
  },
  {
   "cell_type": "code",
   "execution_count": 4,
   "metadata": {},
   "outputs": [
    {
     "name": "stdout",
     "output_type": "stream",
     "text": [
      "\\left(\\left(1 - x^{m + 1}\\right) + \\left(x^{m + 1} - x^{2 + m}\\right)\\right) = \\left(1 - x^{2 + m}\\right)\n"
     ]
    }
   ],
   "source": [
    "# Show the LaTeX representation of the expression for convenience if you need it.\n",
    "print(stored_expr.latex())"
   ]
  },
  {
   "cell_type": "code",
   "execution_count": 5,
   "metadata": {},
   "outputs": [
    {
     "data": {
      "text/html": [
       "<table>\n",
       "<tr><th>name</th><th>description</th><th>default</th><th>current value</th><th>related methods</th></tr><tr><td>operation</td><td>'infix' or 'function' style formatting</td><td>infix</td><td>infix</td><td></td></tr>\n",
       "<tr><td>wrap_positions</td><td>position(s) at which wrapping is to occur; '2 n - 1' is after the nth operand, '2 n' is after the nth operation.</td><td>()</td><td>()</td><td>('with_wrapping_at', 'with_wrap_before_operator', 'with_wrap_after_operator', 'without_wrapping', 'wrap_positions')</td></tr>\n",
       "<tr><td>justification</td><td>if any wrap positions are set, justify to the 'left', 'center', or 'right'</td><td>center</td><td>center</td><td>('with_justification',)</td></tr>\n",
       "<tr><td>direction</td><td>Direction of the relation (normal or reversed)</td><td>normal</td><td>normal</td><td>('with_direction_reversed', 'is_reversed')</td></tr>\n",
       "</table>\n"
      ],
      "text/plain": [
       "style name: operation\n",
       "description: 'infix' or 'function' style formatting\n",
       "default: infix\n",
       "current value: infix\n",
       "related methods: ()\n",
       "style name: wrap_positions\n",
       "description: position(s) at which wrapping is to occur; '2 n - 1' is after the nth operand, '2 n' is after the nth operation.\n",
       "default: ()\n",
       "current value: ()\n",
       "related methods: ('with_wrapping_at', 'with_wrap_before_operator', 'with_wrap_after_operator', 'without_wrapping', 'wrap_positions')\n",
       "style name: justification\n",
       "description: if any wrap positions are set, justify to the 'left', 'center', or 'right'\n",
       "default: center\n",
       "current value: center\n",
       "related methods: ('with_justification',)\n",
       "style name: direction\n",
       "description: Direction of the relation (normal or reversed)\n",
       "default: normal\n",
       "current value: normal\n",
       "related methods: ('with_direction_reversed', 'is_reversed')"
      ]
     },
     "metadata": {},
     "output_type": "display_data"
    }
   ],
   "source": [
    "stored_expr.style_options()"
   ]
  },
  {
   "cell_type": "code",
   "execution_count": 6,
   "metadata": {},
   "outputs": [
    {
     "data": {
      "text/html": [
       "<table><tr><th>&nbsp;</th><th>core type</th><th>sub-expressions</th><th>expression</th></tr>\n",
       "<tr><td>0</td><td>Operation</td><td>operator:&nbsp;1<br>operands:&nbsp;2<br></td><td><a class=\"ProveItLink\" href=\"expr.ipynb\"><img src=\"expr.png\" style=\"display:inline;vertical-align:middle;\" /></a></td></tr>\n",
       "<tr><td>1</td><td>Literal</td><td></td><td><a class=\"ProveItLink\" href=\"../../../../../logic/equality/__pv_it/common/fb96dc12b2aa8801dda64d0132b396c63d1502bb0/expr.ipynb\"><img src=\"../../../../../logic/equality/__pv_it/common/fb96dc12b2aa8801dda64d0132b396c63d1502bb0/expr.png\" style=\"display:inline;vertical-align:middle;\" /></a></td></tr>\n",
       "<tr><td>2</td><td>ExprTuple</td><td>3, 4</td><td><a class=\"ProveItLink\" href=\"../efb7be7e5f4ae5d8c6d5b5a8742f2e54d4c759dc0/expr.ipynb\"><img src=\"../efb7be7e5f4ae5d8c6d5b5a8742f2e54d4c759dc0/expr.png\" style=\"display:inline;vertical-align:middle;\" /></a></td></tr>\n",
       "<tr><td>3</td><td>Operation</td><td>operator:&nbsp;25<br>operands:&nbsp;5<br></td><td><a class=\"ProveItLink\" href=\"../69723f95c94c1dc48ed356689dca6539fe73ef840/expr.ipynb\"><img src=\"../69723f95c94c1dc48ed356689dca6539fe73ef840/expr.png\" style=\"display:inline;vertical-align:middle;\" /></a></td></tr>\n",
       "<tr><td>4</td><td>Operation</td><td>operator:&nbsp;25<br>operands:&nbsp;6<br></td><td><a class=\"ProveItLink\" href=\"../54ff4a73534137fbb4ba3e161813758d49a9da8f0/expr.ipynb\"><img src=\"../54ff4a73534137fbb4ba3e161813758d49a9da8f0/expr.png\" style=\"display:inline;vertical-align:middle;\" /></a></td></tr>\n",
       "<tr><td>5</td><td>ExprTuple</td><td>7, 8</td><td><a class=\"ProveItLink\" href=\"../d4b9c365e5e951e06e8cb45fb6ef7c68e7f20c890/expr.ipynb\"><img src=\"../d4b9c365e5e951e06e8cb45fb6ef7c68e7f20c890/expr.png\" style=\"display:inline;vertical-align:middle;\" /></a></td></tr>\n",
       "<tr><td>6</td><td>ExprTuple</td><td>27, 12</td><td><a class=\"ProveItLink\" href=\"../fcbeb45b5ec4db671718b910f9e00c1de086c21e0/expr.ipynb\"><img src=\"../fcbeb45b5ec4db671718b910f9e00c1de086c21e0/expr.png\" style=\"display:inline;vertical-align:middle;\" /></a></td></tr>\n",
       "<tr><td>7</td><td>Operation</td><td>operator:&nbsp;25<br>operands:&nbsp;9<br></td><td><a class=\"ProveItLink\" href=\"../632a075b5373e72332e33b600b144977649405f70/expr.ipynb\"><img src=\"../632a075b5373e72332e33b600b144977649405f70/expr.png\" style=\"display:inline;vertical-align:middle;\" /></a></td></tr>\n",
       "<tr><td>8</td><td>Operation</td><td>operator:&nbsp;25<br>operands:&nbsp;10<br></td><td><a class=\"ProveItLink\" href=\"../aa02ee70bd5575e6bc1681f0294f3729ef5d07a50/expr.ipynb\"><img src=\"../aa02ee70bd5575e6bc1681f0294f3729ef5d07a50/expr.png\" style=\"display:inline;vertical-align:middle;\" /></a></td></tr>\n",
       "<tr><td>9</td><td>ExprTuple</td><td>27, 11</td><td><a class=\"ProveItLink\" href=\"../c7aeed742afe02eb969d780d2a0af5da8adfd76d0/expr.ipynb\"><img src=\"../c7aeed742afe02eb969d780d2a0af5da8adfd76d0/expr.png\" style=\"display:inline;vertical-align:middle;\" /></a></td></tr>\n",
       "<tr><td>10</td><td>ExprTuple</td><td>16, 12</td><td><a class=\"ProveItLink\" href=\"../6f6026e60b9e6871b5d844f02353ca7f2b9899ef0/expr.ipynb\"><img src=\"../6f6026e60b9e6871b5d844f02353ca7f2b9899ef0/expr.png\" style=\"display:inline;vertical-align:middle;\" /></a></td></tr>\n",
       "<tr><td>11</td><td>Operation</td><td>operator:&nbsp;14<br>operand:&nbsp;16<br></td><td><a class=\"ProveItLink\" href=\"../b50d656f8e3c8d90d6e7db02903705a65a5bb9620/expr.ipynb\"><img src=\"../b50d656f8e3c8d90d6e7db02903705a65a5bb9620/expr.png\" style=\"display:inline;vertical-align:middle;\" /></a></td></tr>\n",
       "<tr><td>12</td><td>Operation</td><td>operator:&nbsp;14<br>operand:&nbsp;17<br></td><td><a class=\"ProveItLink\" href=\"../872fffef60a77680d81a44d1991def3c1526c4a40/expr.ipynb\"><img src=\"../872fffef60a77680d81a44d1991def3c1526c4a40/expr.png\" style=\"display:inline;vertical-align:middle;\" /></a></td></tr>\n",
       "<tr><td>13</td><td>ExprTuple</td><td>16</td><td><a class=\"ProveItLink\" href=\"../7d36aa4b2f282835db8a358c6a8363fc3389ace10/expr.ipynb\"><img src=\"../7d36aa4b2f282835db8a358c6a8363fc3389ace10/expr.png\" style=\"display:inline;vertical-align:middle;\" /></a></td></tr>\n",
       "<tr><td>14</td><td>Literal</td><td></td><td><a class=\"ProveItLink\" href=\"../../../../negation/__pv_it/common/221b3c4d1770ee9051b7c044c3f9ec61196fc34b0/expr.ipynb\"><img src=\"../../../../negation/__pv_it/common/221b3c4d1770ee9051b7c044c3f9ec61196fc34b0/expr.png\" style=\"display:inline;vertical-align:middle;\" /></a></td></tr>\n",
       "<tr><td>15</td><td>ExprTuple</td><td>17</td><td><a class=\"ProveItLink\" href=\"../8bc1bb6bc0250ceadf32826bff03f5af885a7f010/expr.ipynb\"><img src=\"../8bc1bb6bc0250ceadf32826bff03f5af885a7f010/expr.png\" style=\"display:inline;vertical-align:middle;\" /></a></td></tr>\n",
       "<tr><td>16</td><td>Operation</td><td>operator:&nbsp;19<br>operands:&nbsp;18<br></td><td><a class=\"ProveItLink\" href=\"../fdaad199028fc16e0f515fd290cc65222637fd920/expr.ipynb\"><img src=\"../fdaad199028fc16e0f515fd290cc65222637fd920/expr.png\" style=\"display:inline;vertical-align:middle;\" /></a></td></tr>\n",
       "<tr><td>17</td><td>Operation</td><td>operator:&nbsp;19<br>operands:&nbsp;20<br></td><td><a class=\"ProveItLink\" href=\"../23b11b0a2ab799343eb62d716cd86ec99653322f0/expr.ipynb\"><img src=\"../23b11b0a2ab799343eb62d716cd86ec99653322f0/expr.png\" style=\"display:inline;vertical-align:middle;\" /></a></td></tr>\n",
       "<tr><td>18</td><td>ExprTuple</td><td>22, 21</td><td><a class=\"ProveItLink\" href=\"../cef191651b5e4af9fe4f80bed479bd525729981e0/expr.ipynb\"><img src=\"../cef191651b5e4af9fe4f80bed479bd525729981e0/expr.png\" style=\"display:inline;vertical-align:middle;\" /></a></td></tr>\n",
       "<tr><td>19</td><td>Literal</td><td></td><td><a class=\"ProveItLink\" href=\"../../../../exponentiation/__pv_it/common/0ac37aca1e54c35c5cda09672df32d4f69f1f3020/expr.ipynb\"><img src=\"../../../../exponentiation/__pv_it/common/0ac37aca1e54c35c5cda09672df32d4f69f1f3020/expr.png\" style=\"display:inline;vertical-align:middle;\" /></a></td></tr>\n",
       "<tr><td>20</td><td>ExprTuple</td><td>22, 23</td><td><a class=\"ProveItLink\" href=\"../4c45a271bb0ba463cbdbd48fdba064b5faf3fae00/expr.ipynb\"><img src=\"../4c45a271bb0ba463cbdbd48fdba064b5faf3fae00/expr.png\" style=\"display:inline;vertical-align:middle;\" /></a></td></tr>\n",
       "<tr><td>21</td><td>Operation</td><td>operator:&nbsp;25<br>operands:&nbsp;24<br></td><td><a class=\"ProveItLink\" href=\"../../../../__pv_it/common/f0153e6834a9ad14709e8cc9fcde46b29f1ea5f30/expr.ipynb\"><img src=\"../../../../__pv_it/common/f0153e6834a9ad14709e8cc9fcde46b29f1ea5f30/expr.png\" style=\"display:inline;vertical-align:middle;\" /></a></td></tr>\n",
       "<tr><td>22</td><td>Variable</td><td></td><td><a class=\"ProveItLink\" href=\"../../../../../__pv_it/common/a0d9d672aa5e272d907247690c152cc2c6daafb70/expr.ipynb\"><img src=\"../../../../../__pv_it/common/a0d9d672aa5e272d907247690c152cc2c6daafb70/expr.png\" style=\"display:inline;vertical-align:middle;\" /></a></td></tr>\n",
       "<tr><td>23</td><td>Operation</td><td>operator:&nbsp;25<br>operands:&nbsp;26<br></td><td><a class=\"ProveItLink\" href=\"../15262b30fd392b23bddbabaeea3e3cc1e36ae0240/expr.ipynb\"><img src=\"../15262b30fd392b23bddbabaeea3e3cc1e36ae0240/expr.png\" style=\"display:inline;vertical-align:middle;\" /></a></td></tr>\n",
       "<tr><td>24</td><td>ExprTuple</td><td>29, 27</td><td><a class=\"ProveItLink\" href=\"../../../../__pv_it/common/170d11eb07f7b16874eb02f06c0a6709375d45350/expr.ipynb\"><img src=\"../../../../__pv_it/common/170d11eb07f7b16874eb02f06c0a6709375d45350/expr.png\" style=\"display:inline;vertical-align:middle;\" /></a></td></tr>\n",
       "<tr><td>25</td><td>Literal</td><td></td><td><a class=\"ProveItLink\" href=\"../../../../addition/__pv_it/common/4b7effaab3619a1c2c38fe2dee8601df8ec714590/expr.ipynb\"><img src=\"../../../../addition/__pv_it/common/4b7effaab3619a1c2c38fe2dee8601df8ec714590/expr.png\" style=\"display:inline;vertical-align:middle;\" /></a></td></tr>\n",
       "<tr><td>26</td><td>ExprTuple</td><td>28, 29</td><td><a class=\"ProveItLink\" href=\"../b768cef07279ef7f04becc7dfba76d8785482b4b0/expr.ipynb\"><img src=\"../b768cef07279ef7f04becc7dfba76d8785482b4b0/expr.png\" style=\"display:inline;vertical-align:middle;\" /></a></td></tr>\n",
       "<tr><td>27</td><td>Literal</td><td></td><td><a class=\"ProveItLink\" href=\"../../../../numerals/__pv_it/common/682157d4892d216d9e5626ed533aff9b56b9506e0/expr.ipynb\"><img src=\"../../../../numerals/__pv_it/common/682157d4892d216d9e5626ed533aff9b56b9506e0/expr.png\" style=\"display:inline;vertical-align:middle;\" /></a></td></tr>\n",
       "<tr><td>28</td><td>Literal</td><td></td><td><a class=\"ProveItLink\" href=\"../../../../numerals/__pv_it/common/af4aab8a07465db063742696e006d04670f30cf10/expr.ipynb\"><img src=\"../../../../numerals/__pv_it/common/af4aab8a07465db063742696e006d04670f30cf10/expr.png\" style=\"display:inline;vertical-align:middle;\" /></a></td></tr>\n",
       "<tr><td>29</td><td>Variable</td><td></td><td><a class=\"ProveItLink\" href=\"../../../../../__pv_it/common/674a03b9c3ca221b3aabd5636837b31528ff33830/expr.ipynb\"><img src=\"../../../../../__pv_it/common/674a03b9c3ca221b3aabd5636837b31528ff33830/expr.png\" style=\"display:inline;vertical-align:middle;\" /></a></td></tr>\n",
       "</table>\n"
      ],
      "text/plain": [
       "0. ((1 - x^{m + 1}) + (x^{m + 1} - x^{2 + m})) = (1 - x^{2 + m})\n",
       "   core type: Operation\n",
       "   operator: 1\n",
       "   operands: 2\n",
       "1. =\n",
       "   core type: Literal\n",
       "   sub-expressions: \n",
       "2. ((1 - x^{m + 1}) + (x^{m + 1} - x^{2 + m}), 1 - x^{2 + m})\n",
       "   core type: ExprTuple\n",
       "   sub-expressions: 3, 4\n",
       "3. (1 - x^{m + 1}) + (x^{m + 1} - x^{2 + m})\n",
       "   core type: Operation\n",
       "   operator: 25\n",
       "   operands: 5\n",
       "4. 1 - x^{2 + m}\n",
       "   core type: Operation\n",
       "   operator: 25\n",
       "   operands: 6\n",
       "5. (1 - x^{m + 1}, x^{m + 1} - x^{2 + m})\n",
       "   core type: ExprTuple\n",
       "   sub-expressions: 7, 8\n",
       "6. (1, -x^{2 + m})\n",
       "   core type: ExprTuple\n",
       "   sub-expressions: 27, 12\n",
       "7. 1 - x^{m + 1}\n",
       "   core type: Operation\n",
       "   operator: 25\n",
       "   operands: 9\n",
       "8. x^{m + 1} - x^{2 + m}\n",
       "   core type: Operation\n",
       "   operator: 25\n",
       "   operands: 10\n",
       "9. (1, -x^{m + 1})\n",
       "   core type: ExprTuple\n",
       "   sub-expressions: 27, 11\n",
       "10. (x^{m + 1}, -x^{2 + m})\n",
       "    core type: ExprTuple\n",
       "    sub-expressions: 16, 12\n",
       "11. -x^{m + 1}\n",
       "    core type: Operation\n",
       "    operator: 14\n",
       "    operand: 16\n",
       "12. -x^{2 + m}\n",
       "    core type: Operation\n",
       "    operator: 14\n",
       "    operand: 17\n",
       "13. (x^{m + 1})\n",
       "    core type: ExprTuple\n",
       "    sub-expressions: 16\n",
       "14. -\n",
       "    core type: Literal\n",
       "    sub-expressions: \n",
       "15. (x^{2 + m})\n",
       "    core type: ExprTuple\n",
       "    sub-expressions: 17\n",
       "16. x^{m + 1}\n",
       "    core type: Operation\n",
       "    operator: 19\n",
       "    operands: 18\n",
       "17. x^{2 + m}\n",
       "    core type: Operation\n",
       "    operator: 19\n",
       "    operands: 20\n",
       "18. (x, m + 1)\n",
       "    core type: ExprTuple\n",
       "    sub-expressions: 22, 21\n",
       "19. Exp\n",
       "    core type: Literal\n",
       "    sub-expressions: \n",
       "20. (x, 2 + m)\n",
       "    core type: ExprTuple\n",
       "    sub-expressions: 22, 23\n",
       "21. m + 1\n",
       "    core type: Operation\n",
       "    operator: 25\n",
       "    operands: 24\n",
       "22. x\n",
       "    core type: Variable\n",
       "    sub-expressions: \n",
       "23. 2 + m\n",
       "    core type: Operation\n",
       "    operator: 25\n",
       "    operands: 26\n",
       "24. (m, 1)\n",
       "    core type: ExprTuple\n",
       "    sub-expressions: 29, 27\n",
       "25. +\n",
       "    core type: Literal\n",
       "    sub-expressions: \n",
       "26. (2, m)\n",
       "    core type: ExprTuple\n",
       "    sub-expressions: 28, 29\n",
       "27. 1\n",
       "    core type: Literal\n",
       "    sub-expressions: \n",
       "28. 2\n",
       "    core type: Literal\n",
       "    sub-expressions: \n",
       "29. m\n",
       "    core type: Variable\n",
       "    sub-expressions: "
      ]
     },
     "metadata": {},
     "output_type": "display_data"
    }
   ],
   "source": [
    "# display the expression information\n",
    "stored_expr.expr_info()"
   ]
  },
  {
   "cell_type": "code",
   "execution_count": null,
   "metadata": {},
   "outputs": [],
   "source": []
  }
 ],
 "metadata": {
  "kernelspec": {
   "display_name": "Python 3",
   "language": "python",
   "name": "python3"
  }
 },
 "nbformat": 4,
 "nbformat_minor": 0
}