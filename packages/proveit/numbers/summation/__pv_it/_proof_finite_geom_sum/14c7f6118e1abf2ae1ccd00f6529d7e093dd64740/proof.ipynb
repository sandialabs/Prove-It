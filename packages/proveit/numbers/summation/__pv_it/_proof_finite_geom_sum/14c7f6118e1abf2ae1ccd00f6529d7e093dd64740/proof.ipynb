{
 "cells": [
  {
   "cell_type": "markdown",
   "metadata": {},
   "source": [
    "Show the Proof\n",
    "========"
   ]
  },
  {
   "cell_type": "code",
   "execution_count": 1,
   "metadata": {},
   "outputs": [
    {
     "data": {
      "text/html": [
       "<table><tr><th>&nbsp;</th><th>step type</th><th>requirements</th><th>statement</th></tr>\n",
       "<tr><td><a name=\"proveit.numbers.summation._proof_finite_geom_sum.14c7f6118e1abf2ae1ccd00f6529d7e093dd64740_step0\">0</a></td><td>instantiation</td><td><a href=\"#proveit.numbers.summation._proof_finite_geom_sum.14c7f6118e1abf2ae1ccd00f6529d7e093dd64740_step1\">1</a>, <a href=\"#proveit.numbers.summation._proof_finite_geom_sum.14c7f6118e1abf2ae1ccd00f6529d7e093dd64740_step2\">2</a>, <a href=\"#proveit.numbers.summation._proof_finite_geom_sum.14c7f6118e1abf2ae1ccd00f6529d7e093dd64740_step3\">3</a><sup>*</sup></td><td><span style=\"font-size:20px;\"><a class=\"ProveItLink\" href=\"../../theorems/6bf1a18c2e3498be826f1c5ef7caab578b7ee8c80/expr.ipynb\"><img src=\"../../theorems/6bf1a18c2e3498be826f1c5ef7caab578b7ee8c80/expr.png\" style=\"display:inline;vertical-align:middle;\" /></a> <a class=\"ProveItLink\" href=\"proof.ipynb\" style=\"text-decoration: none\">&nbsp;&#x22A2;&nbsp;&nbsp;</a><a class=\"ProveItLink\" href=\"../3e45f809e9bfdfcf34a998f85fa067e2e520811e0/expr.ipynb\"><img src=\"../3e45f809e9bfdfcf34a998f85fa067e2e520811e0/expr.png\" style=\"display:inline;vertical-align:middle;\" /></a></span></td></tr>\n",
       "<tr><td>&nbsp;</td><td colspan=4 style=\"text-align:left\"><span style=\"font-size:20px;\"><a class=\"ProveItLink\" href=\"../ea5004fe07123e83abeeb11e85467f5ad2c49d360/expr.ipynb\"><img src=\"../ea5004fe07123e83abeeb11e85467f5ad2c49d360/expr.png\" style=\"display:inline;vertical-align:middle;\" /></a> : <a class=\"ProveItLink\" href=\"../../theorems/4e928b95a2a2690eee9e3603b02d831601000a7e0/expr.ipynb\"><img src=\"../../theorems/4e928b95a2a2690eee9e3603b02d831601000a7e0/expr.png\" style=\"display:inline;vertical-align:middle;\" /></a>, <a class=\"ProveItLink\" href=\"../../../../../__pv_it/common/c06c606ec12678c58933ac85412ecadc2ae28be60/expr.ipynb\"><img src=\"../../../../../__pv_it/common/c06c606ec12678c58933ac85412ecadc2ae28be60/expr.png\" style=\"display:inline;vertical-align:middle;\" /></a> : <a class=\"ProveItLink\" href=\"../../../../numerals/__pv_it/common/dd4e19e8b134dfb293470ea55fe3589b0ab9f8040/expr.ipynb\"><img src=\"../../../../numerals/__pv_it/common/dd4e19e8b134dfb293470ea55fe3589b0ab9f8040/expr.png\" style=\"display:inline;vertical-align:middle;\" /></a></span></td></tr><tr><td><a name=\"proveit.numbers.summation._proof_finite_geom_sum.14c7f6118e1abf2ae1ccd00f6529d7e093dd64740_step1\">1</a></td><td>axiom</td><td></td><td><span style=\"font-size:20px;\"> <a class=\"ProveItLink\" href=\"../../../_theory_nbs_/axioms.ipynb#sum_single\" style=\"text-decoration: none\">&nbsp;&#x22A2;&nbsp;&nbsp;</a><a class=\"ProveItLink\" href=\"../../axioms/dd7c47b6a5a43e230e1d3347ec2de5e0db1e52380/expr.ipynb\"><img src=\"../../axioms/dd7c47b6a5a43e230e1d3347ec2de5e0db1e52380/expr.png\" style=\"display:inline;vertical-align:middle;\" /></a></span></td></tr>\n",
       "<tr><td>&nbsp;</td><td colspan=4 style-\"text-align:left\"><a class=\"ProveItLink\" href=\"../../../_theory_nbs_/axioms.ipynb#sum_single\">proveit.numbers.summation.sum_single</a></td></tr><tr><td><a name=\"proveit.numbers.summation._proof_finite_geom_sum.14c7f6118e1abf2ae1ccd00f6529d7e093dd64740_step2\">2</a></td><td>theorem</td><td></td><td><span style=\"font-size:20px;\"> <a class=\"ProveItLink\" href=\"../../../../number_sets/integers/_theory_nbs_/proofs/zero_is_int/thm_proof.ipynb\" style=\"text-decoration: none\">&nbsp;&#x22A2;&nbsp;&nbsp;</a><a class=\"ProveItLink\" href=\"../../../../number_sets/integers/__pv_it/theorems/7a0531a87eb0043c40640cc230399af7b8adc75c0/expr.ipynb\"><img src=\"../../../../number_sets/integers/__pv_it/theorems/7a0531a87eb0043c40640cc230399af7b8adc75c0/expr.png\" style=\"display:inline;vertical-align:middle;\" /></a></span></td></tr>\n",
       "<tr><td>&nbsp;</td><td colspan=4 style-\"text-align:left\"><a class=\"ProveItLink\" href=\"../../../../number_sets/integers/_theory_nbs_/proofs/zero_is_int/thm_proof.ipynb\">proveit.numbers.number_sets.integers.zero_is_int</a></td></tr><tr><td><a name=\"proveit.numbers.summation._proof_finite_geom_sum.14c7f6118e1abf2ae1ccd00f6529d7e093dd64740_step3\">3</a></td><td>instantiation</td><td><a href=\"#proveit.numbers.summation._proof_finite_geom_sum.14c7f6118e1abf2ae1ccd00f6529d7e093dd64740_step4\">4</a>, <a href=\"#proveit.numbers.summation._proof_finite_geom_sum.14c7f6118e1abf2ae1ccd00f6529d7e093dd64740_step5\">5</a></td><td><span style=\"font-size:20px;\"><a class=\"ProveItLink\" href=\"../../theorems/6bf1a18c2e3498be826f1c5ef7caab578b7ee8c80/expr.ipynb\"><img src=\"../../theorems/6bf1a18c2e3498be826f1c5ef7caab578b7ee8c80/expr.png\" style=\"display:inline;vertical-align:middle;\" /></a> <a class=\"ProveItLink\" href=\"../1213ee45670f4d27c3807f077feeb4f58a9a2bcc0/proof.ipynb\" style=\"text-decoration: none\">&nbsp;&#x22A2;&nbsp;&nbsp;</a><a class=\"ProveItLink\" href=\"../fc05451e80c08c528dfc4ab14688955ed8969dbf0/expr.ipynb\"><img src=\"../fc05451e80c08c528dfc4ab14688955ed8969dbf0/expr.png\" style=\"display:inline;vertical-align:middle;\" /></a></span></td></tr>\n",
       "<tr><td>&nbsp;</td><td colspan=4 style=\"text-align:left\"><span style=\"font-size:20px;\"><a class=\"ProveItLink\" href=\"../../../../../__pv_it/common/c06c606ec12678c58933ac85412ecadc2ae28be60/expr.ipynb\"><img src=\"../../../../../__pv_it/common/c06c606ec12678c58933ac85412ecadc2ae28be60/expr.png\" style=\"display:inline;vertical-align:middle;\" /></a> : <a class=\"ProveItLink\" href=\"../../../../../__pv_it/common/a0d9d672aa5e272d907247690c152cc2c6daafb70/expr.ipynb\"><img src=\"../../../../../__pv_it/common/a0d9d672aa5e272d907247690c152cc2c6daafb70/expr.png\" style=\"display:inline;vertical-align:middle;\" /></a></span></td></tr><tr><td><a name=\"proveit.numbers.summation._proof_finite_geom_sum.14c7f6118e1abf2ae1ccd00f6529d7e093dd64740_step4\">4</a></td><td>theorem</td><td></td><td><span style=\"font-size:20px;\"> <a class=\"ProveItLink\" href=\"../../../../exponentiation/_theory_nbs_/proofs/exp_zero_eq_one/thm_proof.ipynb\" style=\"text-decoration: none\">&nbsp;&#x22A2;&nbsp;&nbsp;</a><a class=\"ProveItLink\" href=\"../../../../exponentiation/__pv_it/theorems/f6c00027f1edc0c343ee2d34eb76237795c286a10/expr.ipynb\"><img src=\"../../../../exponentiation/__pv_it/theorems/f6c00027f1edc0c343ee2d34eb76237795c286a10/expr.png\" style=\"display:inline;vertical-align:middle;\" /></a></span></td></tr>\n",
       "<tr><td>&nbsp;</td><td colspan=4 style-\"text-align:left\"><a class=\"ProveItLink\" href=\"../../../../exponentiation/_theory_nbs_/proofs/exp_zero_eq_one/thm_proof.ipynb\">proveit.numbers.exponentiation.exp_zero_eq_one</a></td></tr><tr><td><a name=\"proveit.numbers.summation._proof_finite_geom_sum.14c7f6118e1abf2ae1ccd00f6529d7e093dd64740_step5\">5</a></td><td>assumption</td><td></td><td><span style=\"font-size:20px;\"><a class=\"ProveItLink\" href=\"../../theorems/6bf1a18c2e3498be826f1c5ef7caab578b7ee8c80/expr.ipynb\"><img src=\"../../theorems/6bf1a18c2e3498be826f1c5ef7caab578b7ee8c80/expr.png\" style=\"display:inline;vertical-align:middle;\" /></a> <a class=\"ProveItLink\" href=\"../f8632966c8929956f1a37688c75884423e42a0a50/proof.ipynb\" style=\"text-decoration: none\">&nbsp;&#x22A2;&nbsp;&nbsp;</a><a class=\"ProveItLink\" href=\"../../theorems/6bf1a18c2e3498be826f1c5ef7caab578b7ee8c80/expr.ipynb\"><img src=\"../../theorems/6bf1a18c2e3498be826f1c5ef7caab578b7ee8c80/expr.png\" style=\"display:inline;vertical-align:middle;\" /></a></span></td></tr>\n",
       "<tr><td colspan=4 style=\"text-align:left\"><sup>*</sup>equality replacement requirements</td></tr></table>"
      ],
      "text/plain": [
       "<proveit._core_.proof._ShowProof at 0x7f2cdc0639b0>"
      ]
     },
     "execution_count": 1,
     "metadata": {},
     "output_type": "execute_result"
    }
   ],
   "source": [
    "import proveit\n",
    "# Automation is not needed when only showing a stored proof:\n",
    "proveit.defaults.automation = False # This will speed things up.\n",
    "proveit.defaults.inline_pngs = False # Makes files smaller.\n",
    "%show_proof"
   ]
  },
  {
   "cell_type": "code",
   "execution_count": null,
   "metadata": {},
   "outputs": [],
   "source": []
  }
 ],
 "metadata": {
  "kernelspec": {
   "display_name": "Python 3",
   "language": "python",
   "name": "python3"
  }
 },
 "nbformat": 4,
 "nbformat_minor": 0
}