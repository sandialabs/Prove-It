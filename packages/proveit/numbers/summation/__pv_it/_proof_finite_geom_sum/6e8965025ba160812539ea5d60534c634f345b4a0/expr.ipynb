{
 "cells": [
  {
   "cell_type": "markdown",
   "metadata": {},
   "source": [
    "Expression of type <a class=\"ProveItLink\" href=\"../../../../../../../doc/html/api/proveit.logic.Forall.html\">Forall</a>\n",
    "=======================\n",
    "# from the theory of <a class=\"ProveItLink\" href=\"../../../_theory_nbs_/theory.ipynb\">proveit.numbers.summation</a>"
   ]
  },
  {
   "cell_type": "code",
   "execution_count": 1,
   "metadata": {},
   "outputs": [],
   "source": [
    "import proveit\n",
    "# Automation is not needed when building an expression:\n",
    "proveit.defaults.automation = False # This will speed things up.\n",
    "proveit.defaults.inline_pngs = False # Makes files smaller.\n",
    "%load_expr # Load the stored expression as 'stored_expr'\n",
    "# import Expression classes needed to build the expression\n",
    "from proveit import i, n, x\n",
    "from proveit.logic import Equals, Forall\n",
    "from proveit.numbers import Add, Exp, Interval, Natural, Sum, frac, one, subtract, zero"
   ]
  },
  {
   "cell_type": "code",
   "execution_count": 2,
   "metadata": {},
   "outputs": [
    {
     "data": {
      "text/html": [
       "<strong id=\"expr\">expr:</strong> <a class=\"ProveItLink\" href=\"expr.ipynb\"><img src=\"expr.png\" style=\"display:inline;vertical-align:middle;\" /></a><br>"
      ],
      "text/plain": [
       "<IPython.core.display.HTML object>"
      ]
     },
     "metadata": {},
     "output_type": "display_data"
    }
   ],
   "source": [
    "# build up the expression from sub-expressions\n",
    "expr = Forall(instance_param_or_params = [n], instance_expr = Equals(Sum(index_or_indices = [i], summand = Exp(x, i), domain = Interval(zero, n)), frac(subtract(one, Exp(x, Add(n, one))), subtract(one, x))), domain = Natural)"
   ]
  },
  {
   "cell_type": "code",
   "execution_count": 3,
   "metadata": {},
   "outputs": [
    {
     "name": "stdout",
     "output_type": "stream",
     "text": [
      "Passed sanity check: expr matches stored_expr\n"
     ]
    }
   ],
   "source": [
    "# check that the built expression is the same as the stored expression\n",
    "assert expr == stored_expr\n",
    "assert expr._style_id == stored_expr._style_id\n",
    "print(\"Passed sanity check: expr matches stored_expr\")"
   ]
  },
  {
   "cell_type": "code",
   "execution_count": 4,
   "metadata": {},
   "outputs": [
    {
     "name": "stdout",
     "output_type": "stream",
     "text": [
      "\\forall_{n \\in \\mathbb{N}}~\\left(\\left(\\sum_{i = 0}^{n} x^{i}\\right) = \\frac{1 - x^{n + 1}}{1 - x}\\right)\n"
     ]
    }
   ],
   "source": [
    "# Show the LaTeX representation of the expression for convenience if you need it.\n",
    "print(stored_expr.latex())"
   ]
  },
  {
   "cell_type": "code",
   "execution_count": 5,
   "metadata": {},
   "outputs": [
    {
     "data": {
      "text/html": [
       "<table>\n",
       "<tr><th>name</th><th>description</th><th>default</th><th>current value</th><th>related methods</th></tr><tr><td>with_wrapping</td><td>If 'True', wrap the Expression after the parameters</td><td>None</td><td>None/False</td><td>('with_wrapping',)</td></tr>\n",
       "<tr><td>condition_wrapping</td><td>Wrap 'before' or 'after' the condition (or None).</td><td>None</td><td>None/False</td><td>('with_wrap_after_condition', 'with_wrap_before_condition')</td></tr>\n",
       "<tr><td>wrap_params</td><td>If 'True', wraps every two parameters AND wraps the Expression after the parameters</td><td>None</td><td>None/False</td><td>('with_params',)</td></tr>\n",
       "<tr><td>justification</td><td>justify to the 'left', 'center', or 'right' in the array cells</td><td>center</td><td>center</td><td>('with_justification',)</td></tr>\n",
       "</table>\n"
      ],
      "text/plain": [
       "style name: with_wrapping\n",
       "description: If 'True', wrap the Expression after the parameters\n",
       "default: None\n",
       "current value: None/False\n",
       "related methods: ('with_wrapping',)\n",
       "style name: condition_wrapping\n",
       "description: Wrap 'before' or 'after' the condition (or None).\n",
       "default: None\n",
       "current value: None/False\n",
       "related methods: ('with_wrap_after_condition', 'with_wrap_before_condition')\n",
       "style name: wrap_params\n",
       "description: If 'True', wraps every two parameters AND wraps the Expression after the parameters\n",
       "default: None\n",
       "current value: None/False\n",
       "related methods: ('with_params',)\n",
       "style name: justification\n",
       "description: justify to the 'left', 'center', or 'right' in the array cells\n",
       "default: center\n",
       "current value: center\n",
       "related methods: ('with_justification',)"
      ]
     },
     "metadata": {},
     "output_type": "display_data"
    }
   ],
   "source": [
    "stored_expr.style_options()"
   ]
  },
  {
   "cell_type": "code",
   "execution_count": 6,
   "metadata": {},
   "outputs": [
    {
     "data": {
      "text/html": [
       "<table><tr><th>&nbsp;</th><th>core type</th><th>sub-expressions</th><th>expression</th></tr>\n",
       "<tr><td>0</td><td>Operation</td><td>operator:&nbsp;1<br>operand:&nbsp;3<br></td><td><a class=\"ProveItLink\" href=\"expr.ipynb\"><img src=\"expr.png\" style=\"display:inline;vertical-align:middle;\" /></a></td></tr>\n",
       "<tr><td>1</td><td>Literal</td><td></td><td><a class=\"ProveItLink\" href=\"../../../../../logic/booleans/quantification/universality/__pv_it/common/083d2baa0b8ecab1d230f9ec29a15aa1355809fb0/expr.ipynb\"><img src=\"../../../../../logic/booleans/quantification/universality/__pv_it/common/083d2baa0b8ecab1d230f9ec29a15aa1355809fb0/expr.png\" style=\"display:inline;vertical-align:middle;\" /></a></td></tr>\n",
       "<tr><td>2</td><td>ExprTuple</td><td>3</td><td><a class=\"ProveItLink\" href=\"../d8091c6c01770202dbc44dc798e86eef364753400/expr.ipynb\"><img src=\"../d8091c6c01770202dbc44dc798e86eef364753400/expr.png\" style=\"display:inline;vertical-align:middle;\" /></a></td></tr>\n",
       "<tr><td>3</td><td>Lambda</td><td>parameter:&nbsp;47<br>body:&nbsp;5<br></td><td><a class=\"ProveItLink\" href=\"../6a4741e6831ee850277df780710db96bb56b32550/expr.ipynb\"><img src=\"../6a4741e6831ee850277df780710db96bb56b32550/expr.png\" style=\"display:inline;vertical-align:middle;\" /></a></td></tr>\n",
       "<tr><td>4</td><td>ExprTuple</td><td>47</td><td><a class=\"ProveItLink\" href=\"../../../../__pv_it/common/ca565dff2751ea9a3b48fe855133b9e0c2eca83f0/expr.ipynb\"><img src=\"../../../../__pv_it/common/ca565dff2751ea9a3b48fe855133b9e0c2eca83f0/expr.png\" style=\"display:inline;vertical-align:middle;\" /></a></td></tr>\n",
       "<tr><td>5</td><td>Conditional</td><td>value:&nbsp;6<br>condition:&nbsp;7<br></td><td><a class=\"ProveItLink\" href=\"../f971f152f76f15bef2bf469542dad005c6a51c4d0/expr.ipynb\"><img src=\"../f971f152f76f15bef2bf469542dad005c6a51c4d0/expr.png\" style=\"display:inline;vertical-align:middle;\" /></a></td></tr>\n",
       "<tr><td>6</td><td>Operation</td><td>operator:&nbsp;8<br>operands:&nbsp;9<br></td><td><a class=\"ProveItLink\" href=\"../../theorems/b44afc90e1fb1b06a67c4d47f93cd96e2ab829010/expr.ipynb\"><img src=\"../../theorems/b44afc90e1fb1b06a67c4d47f93cd96e2ab829010/expr.png\" style=\"display:inline;vertical-align:middle;\" /></a></td></tr>\n",
       "<tr><td>7</td><td>Operation</td><td>operator:&nbsp;30<br>operands:&nbsp;10<br></td><td><a class=\"ProveItLink\" href=\"../../../../number_sets/natural_numbers/__pv_it/theorems/1a8a7907b709bbd24c48a9933f16dbe96429f5cc0/expr.ipynb\"><img src=\"../../../../number_sets/natural_numbers/__pv_it/theorems/1a8a7907b709bbd24c48a9933f16dbe96429f5cc0/expr.png\" style=\"display:inline;vertical-align:middle;\" /></a></td></tr>\n",
       "<tr><td>8</td><td>Literal</td><td></td><td><a class=\"ProveItLink\" href=\"../../../../../logic/equality/__pv_it/common/fb96dc12b2aa8801dda64d0132b396c63d1502bb0/expr.ipynb\"><img src=\"../../../../../logic/equality/__pv_it/common/fb96dc12b2aa8801dda64d0132b396c63d1502bb0/expr.png\" style=\"display:inline;vertical-align:middle;\" /></a></td></tr>\n",
       "<tr><td>9</td><td>ExprTuple</td><td>11, 12</td><td><a class=\"ProveItLink\" href=\"../../theorems/490da51522c788f4e50dd731740167efc136d3440/expr.ipynb\"><img src=\"../../theorems/490da51522c788f4e50dd731740167efc136d3440/expr.png\" style=\"display:inline;vertical-align:middle;\" /></a></td></tr>\n",
       "<tr><td>10</td><td>ExprTuple</td><td>47, 13</td><td><a class=\"ProveItLink\" href=\"../../../../number_sets/natural_numbers/__pv_it/theorems/c25d26c5511264271059242b39a87b493ffc58590/expr.ipynb\"><img src=\"../../../../number_sets/natural_numbers/__pv_it/theorems/c25d26c5511264271059242b39a87b493ffc58590/expr.png\" style=\"display:inline;vertical-align:middle;\" /></a></td></tr>\n",
       "<tr><td>11</td><td>Operation</td><td>operator:&nbsp;14<br>operand:&nbsp;18<br></td><td><a class=\"ProveItLink\" href=\"../../theorems/bab26315d0f2552b83db15f3304eca6a8854c4be0/expr.ipynb\"><img src=\"../../theorems/bab26315d0f2552b83db15f3304eca6a8854c4be0/expr.png\" style=\"display:inline;vertical-align:middle;\" /></a></td></tr>\n",
       "<tr><td>12</td><td>Operation</td><td>operator:&nbsp;16<br>operands:&nbsp;17<br></td><td><a class=\"ProveItLink\" href=\"../../theorems/3f4e6ec22e7a96f91aa7774684ba0ebb3a5961800/expr.ipynb\"><img src=\"../../theorems/3f4e6ec22e7a96f91aa7774684ba0ebb3a5961800/expr.png\" style=\"display:inline;vertical-align:middle;\" /></a></td></tr>\n",
       "<tr><td>13</td><td>Literal</td><td></td><td><a class=\"ProveItLink\" href=\"../../../../number_sets/natural_numbers/__pv_it/common/8b7c321957f52ed3b05b36af612eeae4fa4783bc0/expr.ipynb\"><img src=\"../../../../number_sets/natural_numbers/__pv_it/common/8b7c321957f52ed3b05b36af612eeae4fa4783bc0/expr.png\" style=\"display:inline;vertical-align:middle;\" /></a></td></tr>\n",
       "<tr><td>14</td><td>Literal</td><td></td><td><a class=\"ProveItLink\" href=\"../../common/14fe61cccc388f91dfd83d3ca31cf27448cc070a0/expr.ipynb\"><img src=\"../../common/14fe61cccc388f91dfd83d3ca31cf27448cc070a0/expr.png\" style=\"display:inline;vertical-align:middle;\" /></a></td></tr>\n",
       "<tr><td>15</td><td>ExprTuple</td><td>18</td><td><a class=\"ProveItLink\" href=\"../../theorems/be79c424899b92e69da445f441026d8fbc08ae200/expr.ipynb\"><img src=\"../../theorems/be79c424899b92e69da445f441026d8fbc08ae200/expr.png\" style=\"display:inline;vertical-align:middle;\" /></a></td></tr>\n",
       "<tr><td>16</td><td>Literal</td><td></td><td><a class=\"ProveItLink\" href=\"../../../../division/__pv_it/common/a2a633e1e3c749fb1f2692466b287b6348c5de840/expr.ipynb\"><img src=\"../../../../division/__pv_it/common/a2a633e1e3c749fb1f2692466b287b6348c5de840/expr.png\" style=\"display:inline;vertical-align:middle;\" /></a></td></tr>\n",
       "<tr><td>17</td><td>ExprTuple</td><td>19, 20</td><td><a class=\"ProveItLink\" href=\"../../theorems/26a60f79daded14031817875ede3091d831f70d20/expr.ipynb\"><img src=\"../../theorems/26a60f79daded14031817875ede3091d831f70d20/expr.png\" style=\"display:inline;vertical-align:middle;\" /></a></td></tr>\n",
       "<tr><td>18</td><td>Lambda</td><td>parameter:&nbsp;35<br>body:&nbsp;22<br></td><td><a class=\"ProveItLink\" href=\"../../theorems/f8eab717d18bf168969fd99495cfb4fb31ba28b10/expr.ipynb\"><img src=\"../../theorems/f8eab717d18bf168969fd99495cfb4fb31ba28b10/expr.png\" style=\"display:inline;vertical-align:middle;\" /></a></td></tr>\n",
       "<tr><td>19</td><td>Operation</td><td>operator:&nbsp;45<br>operands:&nbsp;23<br></td><td><a class=\"ProveItLink\" href=\"../../theorems/1eacf33a5d5661ec1b066474cd06f5f95a5201bb0/expr.ipynb\"><img src=\"../../theorems/1eacf33a5d5661ec1b066474cd06f5f95a5201bb0/expr.png\" style=\"display:inline;vertical-align:middle;\" /></a></td></tr>\n",
       "<tr><td>20</td><td>Operation</td><td>operator:&nbsp;45<br>operands:&nbsp;24<br></td><td><a class=\"ProveItLink\" href=\"../../theorems/ee7f4fd9cddf2bf63ee91f8fb1058a53495ea8000/expr.ipynb\"><img src=\"../../theorems/ee7f4fd9cddf2bf63ee91f8fb1058a53495ea8000/expr.png\" style=\"display:inline;vertical-align:middle;\" /></a></td></tr>\n",
       "<tr><td>21</td><td>ExprTuple</td><td>35</td><td><a class=\"ProveItLink\" href=\"../../../../../core_expr_types/__pv_it/common/0fc33550aa9740010879fdf30c320b63ba918eff0/expr.ipynb\"><img src=\"../../../../../core_expr_types/__pv_it/common/0fc33550aa9740010879fdf30c320b63ba918eff0/expr.png\" style=\"display:inline;vertical-align:middle;\" /></a></td></tr>\n",
       "<tr><td>22</td><td>Conditional</td><td>value:&nbsp;25<br>condition:&nbsp;26<br></td><td><a class=\"ProveItLink\" href=\"../../theorems/94a785411ddc0d6ef9ae7d5dad2b30ca9c37855a0/expr.ipynb\"><img src=\"../../theorems/94a785411ddc0d6ef9ae7d5dad2b30ca9c37855a0/expr.png\" style=\"display:inline;vertical-align:middle;\" /></a></td></tr>\n",
       "<tr><td>23</td><td>ExprTuple</td><td>48, 27</td><td><a class=\"ProveItLink\" href=\"../../theorems/6e3c5d68b1df7393f1e3184ccd26d97c3cf0c81f0/expr.ipynb\"><img src=\"../../theorems/6e3c5d68b1df7393f1e3184ccd26d97c3cf0c81f0/expr.png\" style=\"display:inline;vertical-align:middle;\" /></a></td></tr>\n",
       "<tr><td>24</td><td>ExprTuple</td><td>48, 28</td><td><a class=\"ProveItLink\" href=\"../../theorems/a260591c7d03a37138628696200ec6e58cb59c2c0/expr.ipynb\"><img src=\"../../theorems/a260591c7d03a37138628696200ec6e58cb59c2c0/expr.png\" style=\"display:inline;vertical-align:middle;\" /></a></td></tr>\n",
       "<tr><td>25</td><td>Operation</td><td>operator:&nbsp;40<br>operands:&nbsp;29<br></td><td><a class=\"ProveItLink\" href=\"../../theorems/4e928b95a2a2690eee9e3603b02d831601000a7e0/expr.ipynb\"><img src=\"../../theorems/4e928b95a2a2690eee9e3603b02d831601000a7e0/expr.png\" style=\"display:inline;vertical-align:middle;\" /></a></td></tr>\n",
       "<tr><td>26</td><td>Operation</td><td>operator:&nbsp;30<br>operands:&nbsp;31<br></td><td><a class=\"ProveItLink\" href=\"../../theorems/13fa42a4d6f324aebcdfe813b0955f0d8224e5310/expr.ipynb\"><img src=\"../../theorems/13fa42a4d6f324aebcdfe813b0955f0d8224e5310/expr.png\" style=\"display:inline;vertical-align:middle;\" /></a></td></tr>\n",
       "<tr><td>27</td><td>Operation</td><td>operator:&nbsp;33<br>operand:&nbsp;37<br></td><td><a class=\"ProveItLink\" href=\"../../theorems/9f5b551f38ba1d57e53acbcab6e4929795ef7f020/expr.ipynb\"><img src=\"../../theorems/9f5b551f38ba1d57e53acbcab6e4929795ef7f020/expr.png\" style=\"display:inline;vertical-align:middle;\" /></a></td></tr>\n",
       "<tr><td>28</td><td>Operation</td><td>operator:&nbsp;33<br>operand:&nbsp;43<br></td><td><a class=\"ProveItLink\" href=\"../../theorems/8ae6bcf9f63d27c3e43ea63be5df603397837e130/expr.ipynb\"><img src=\"../../theorems/8ae6bcf9f63d27c3e43ea63be5df603397837e130/expr.png\" style=\"display:inline;vertical-align:middle;\" /></a></td></tr>\n",
       "<tr><td>29</td><td>ExprTuple</td><td>43, 35</td><td><a class=\"ProveItLink\" href=\"../../theorems/aa1cd9294caa1865ed32fe1d58b1027b689d8af80/expr.ipynb\"><img src=\"../../theorems/aa1cd9294caa1865ed32fe1d58b1027b689d8af80/expr.png\" style=\"display:inline;vertical-align:middle;\" /></a></td></tr>\n",
       "<tr><td>30</td><td>Literal</td><td></td><td><a class=\"ProveItLink\" href=\"../../../../../logic/sets/membership/__pv_it/common/477487d8796864d23d5810f83761435f25167f690/expr.ipynb\"><img src=\"../../../../../logic/sets/membership/__pv_it/common/477487d8796864d23d5810f83761435f25167f690/expr.png\" style=\"display:inline;vertical-align:middle;\" /></a></td></tr>\n",
       "<tr><td>31</td><td>ExprTuple</td><td>35, 36</td><td><a class=\"ProveItLink\" href=\"../../theorems/ae8c4aeb58c144782ff355f6b6c0ab0537b0d0590/expr.ipynb\"><img src=\"../../theorems/ae8c4aeb58c144782ff355f6b6c0ab0537b0d0590/expr.png\" style=\"display:inline;vertical-align:middle;\" /></a></td></tr>\n",
       "<tr><td>32</td><td>ExprTuple</td><td>37</td><td><a class=\"ProveItLink\" href=\"../../theorems/067222680680ab42a0e0436fff1cea3d877b7a970/expr.ipynb\"><img src=\"../../theorems/067222680680ab42a0e0436fff1cea3d877b7a970/expr.png\" style=\"display:inline;vertical-align:middle;\" /></a></td></tr>\n",
       "<tr><td>33</td><td>Literal</td><td></td><td><a class=\"ProveItLink\" href=\"../../../../negation/__pv_it/common/221b3c4d1770ee9051b7c044c3f9ec61196fc34b0/expr.ipynb\"><img src=\"../../../../negation/__pv_it/common/221b3c4d1770ee9051b7c044c3f9ec61196fc34b0/expr.png\" style=\"display:inline;vertical-align:middle;\" /></a></td></tr>\n",
       "<tr><td>34</td><td>ExprTuple</td><td>43</td><td><a class=\"ProveItLink\" href=\"../../../../../__pv_it/common/eacfeccc0521684fcb20fe8f5180ac50fca471f20/expr.ipynb\"><img src=\"../../../../../__pv_it/common/eacfeccc0521684fcb20fe8f5180ac50fca471f20/expr.png\" style=\"display:inline;vertical-align:middle;\" /></a></td></tr>\n",
       "<tr><td>35</td><td>Variable</td><td></td><td><a class=\"ProveItLink\" href=\"../../../../../__pv_it/common/ae955345c83abf786c3aff8681cd5465beae262d0/expr.ipynb\"><img src=\"../../../../../__pv_it/common/ae955345c83abf786c3aff8681cd5465beae262d0/expr.png\" style=\"display:inline;vertical-align:middle;\" /></a></td></tr>\n",
       "<tr><td>36</td><td>Operation</td><td>operator:&nbsp;38<br>operands:&nbsp;39<br></td><td><a class=\"ProveItLink\" href=\"../../theorems/1e0162e75527f883dd787de9ab0dfd3e1a4f4daa0/expr.ipynb\"><img src=\"../../theorems/1e0162e75527f883dd787de9ab0dfd3e1a4f4daa0/expr.png\" style=\"display:inline;vertical-align:middle;\" /></a></td></tr>\n",
       "<tr><td>37</td><td>Operation</td><td>operator:&nbsp;40<br>operands:&nbsp;41<br></td><td><a class=\"ProveItLink\" href=\"../../theorems/620d7b5d79f5b6bb2453f0a1754074369346983c0/expr.ipynb\"><img src=\"../../theorems/620d7b5d79f5b6bb2453f0a1754074369346983c0/expr.png\" style=\"display:inline;vertical-align:middle;\" /></a></td></tr>\n",
       "<tr><td>38</td><td>Literal</td><td></td><td><a class=\"ProveItLink\" href=\"../../../../number_sets/integers/__pv_it/common/92f3a0a77e3c3ea8e4a5c8674edadc54e4f57d550/expr.ipynb\"><img src=\"../../../../number_sets/integers/__pv_it/common/92f3a0a77e3c3ea8e4a5c8674edadc54e4f57d550/expr.png\" style=\"display:inline;vertical-align:middle;\" /></a></td></tr>\n",
       "<tr><td>39</td><td>ExprTuple</td><td>42, 47</td><td><a class=\"ProveItLink\" href=\"../../theorems/bfde43e59178d7ecc57bcc988ecaa19a348f07680/expr.ipynb\"><img src=\"../../theorems/bfde43e59178d7ecc57bcc988ecaa19a348f07680/expr.png\" style=\"display:inline;vertical-align:middle;\" /></a></td></tr>\n",
       "<tr><td>40</td><td>Literal</td><td></td><td><a class=\"ProveItLink\" href=\"../../../../exponentiation/__pv_it/common/0ac37aca1e54c35c5cda09672df32d4f69f1f3020/expr.ipynb\"><img src=\"../../../../exponentiation/__pv_it/common/0ac37aca1e54c35c5cda09672df32d4f69f1f3020/expr.png\" style=\"display:inline;vertical-align:middle;\" /></a></td></tr>\n",
       "<tr><td>41</td><td>ExprTuple</td><td>43, 44</td><td><a class=\"ProveItLink\" href=\"../../theorems/a56e51fa300e82f4f309fd341c1d9c2df18838770/expr.ipynb\"><img src=\"../../theorems/a56e51fa300e82f4f309fd341c1d9c2df18838770/expr.png\" style=\"display:inline;vertical-align:middle;\" /></a></td></tr>\n",
       "<tr><td>42</td><td>Literal</td><td></td><td><a class=\"ProveItLink\" href=\"../../../../numerals/__pv_it/common/dd4e19e8b134dfb293470ea55fe3589b0ab9f8040/expr.ipynb\"><img src=\"../../../../numerals/__pv_it/common/dd4e19e8b134dfb293470ea55fe3589b0ab9f8040/expr.png\" style=\"display:inline;vertical-align:middle;\" /></a></td></tr>\n",
       "<tr><td>43</td><td>Variable</td><td></td><td><a class=\"ProveItLink\" href=\"../../../../../__pv_it/common/a0d9d672aa5e272d907247690c152cc2c6daafb70/expr.ipynb\"><img src=\"../../../../../__pv_it/common/a0d9d672aa5e272d907247690c152cc2c6daafb70/expr.png\" style=\"display:inline;vertical-align:middle;\" /></a></td></tr>\n",
       "<tr><td>44</td><td>Operation</td><td>operator:&nbsp;45<br>operands:&nbsp;46<br></td><td><a class=\"ProveItLink\" href=\"../../theorems/da9454a8f6582aff67171697f6638aec8e79b2450/expr.ipynb\"><img src=\"../../theorems/da9454a8f6582aff67171697f6638aec8e79b2450/expr.png\" style=\"display:inline;vertical-align:middle;\" /></a></td></tr>\n",
       "<tr><td>45</td><td>Literal</td><td></td><td><a class=\"ProveItLink\" href=\"../../../../addition/__pv_it/common/4b7effaab3619a1c2c38fe2dee8601df8ec714590/expr.ipynb\"><img src=\"../../../../addition/__pv_it/common/4b7effaab3619a1c2c38fe2dee8601df8ec714590/expr.png\" style=\"display:inline;vertical-align:middle;\" /></a></td></tr>\n",
       "<tr><td>46</td><td>ExprTuple</td><td>47, 48</td><td><a class=\"ProveItLink\" href=\"../../theorems/a3b4d93edb08a2579aa592b54f8896fd10b24c2f0/expr.ipynb\"><img src=\"../../theorems/a3b4d93edb08a2579aa592b54f8896fd10b24c2f0/expr.png\" style=\"display:inline;vertical-align:middle;\" /></a></td></tr>\n",
       "<tr><td>47</td><td>Variable</td><td></td><td><a class=\"ProveItLink\" href=\"../../../../../__pv_it/common/8968bb04eb3f7dfa02353397ce929b025bbd79c20/expr.ipynb\"><img src=\"../../../../../__pv_it/common/8968bb04eb3f7dfa02353397ce929b025bbd79c20/expr.png\" style=\"display:inline;vertical-align:middle;\" /></a></td></tr>\n",
       "<tr><td>48</td><td>Literal</td><td></td><td><a class=\"ProveItLink\" href=\"../../../../numerals/__pv_it/common/682157d4892d216d9e5626ed533aff9b56b9506e0/expr.ipynb\"><img src=\"../../../../numerals/__pv_it/common/682157d4892d216d9e5626ed533aff9b56b9506e0/expr.png\" style=\"display:inline;vertical-align:middle;\" /></a></td></tr>\n",
       "</table>\n"
      ],
      "text/plain": [
       "0. forall_{n in Natural} ((Sum_{i = 0}^{n} x^{i}) = ((1 - x^{n + 1}) / (1 - x)))\n",
       "   core type: Operation\n",
       "   operator: 1\n",
       "   operand: 3\n",
       "1. forall\n",
       "   core type: Literal\n",
       "   sub-expressions: \n",
       "2. (n -> {(Sum_{i = 0}^{n} x^{i}) = ((1 - x^{n + 1}) / (1 - x)) if n in Natural.)\n",
       "   core type: ExprTuple\n",
       "   sub-expressions: 3\n",
       "3. n -> {(Sum_{i = 0}^{n} x^{i}) = ((1 - x^{n + 1}) / (1 - x)) if n in Natural.\n",
       "   core type: Lambda\n",
       "   parameter: 47\n",
       "   body: 5\n",
       "4. (n)\n",
       "   core type: ExprTuple\n",
       "   sub-expressions: 47\n",
       "5. {(Sum_{i = 0}^{n} x^{i}) = ((1 - x^{n + 1}) / (1 - x)) if n in Natural.\n",
       "   core type: Conditional\n",
       "   value: 6\n",
       "   condition: 7\n",
       "6. (Sum_{i = 0}^{n} x^{i}) = ((1 - x^{n + 1}) / (1 - x))\n",
       "   core type: Operation\n",
       "   operator: 8\n",
       "   operands: 9\n",
       "7. n in Natural\n",
       "   core type: Operation\n",
       "   operator: 30\n",
       "   operands: 10\n",
       "8. =\n",
       "   core type: Literal\n",
       "   sub-expressions: \n",
       "9. (Sum_{i = 0}^{n} x^{i}, (1 - x^{n + 1}) / (1 - x))\n",
       "   core type: ExprTuple\n",
       "   sub-expressions: 11, 12\n",
       "10. (n, Natural)\n",
       "    core type: ExprTuple\n",
       "    sub-expressions: 47, 13\n",
       "11. Sum_{i = 0}^{n} x^{i}\n",
       "    core type: Operation\n",
       "    operator: 14\n",
       "    operand: 18\n",
       "12. (1 - x^{n + 1}) / (1 - x)\n",
       "    core type: Operation\n",
       "    operator: 16\n",
       "    operands: 17\n",
       "13. Natural\n",
       "    core type: Literal\n",
       "    sub-expressions: \n",
       "14. Sum\n",
       "    core type: Literal\n",
       "    sub-expressions: \n",
       "15. (i -> {x^{i} if i in {0 .. n}.)\n",
       "    core type: ExprTuple\n",
       "    sub-expressions: 18\n",
       "16. /\n",
       "    core type: Literal\n",
       "    sub-expressions: \n",
       "17. (1 - x^{n + 1}, 1 - x)\n",
       "    core type: ExprTuple\n",
       "    sub-expressions: 19, 20\n",
       "18. i -> {x^{i} if i in {0 .. n}.\n",
       "    core type: Lambda\n",
       "    parameter: 35\n",
       "    body: 22\n",
       "19. 1 - x^{n + 1}\n",
       "    core type: Operation\n",
       "    operator: 45\n",
       "    operands: 23\n",
       "20. 1 - x\n",
       "    core type: Operation\n",
       "    operator: 45\n",
       "    operands: 24\n",
       "21. (i)\n",
       "    core type: ExprTuple\n",
       "    sub-expressions: 35\n",
       "22. {x^{i} if i in {0 .. n}.\n",
       "    core type: Conditional\n",
       "    value: 25\n",
       "    condition: 26\n",
       "23. (1, -x^{n + 1})\n",
       "    core type: ExprTuple\n",
       "    sub-expressions: 48, 27\n",
       "24. (1, -x)\n",
       "    core type: ExprTuple\n",
       "    sub-expressions: 48, 28\n",
       "25. x^{i}\n",
       "    core type: Operation\n",
       "    operator: 40\n",
       "    operands: 29\n",
       "26. i in {0 .. n}\n",
       "    core type: Operation\n",
       "    operator: 30\n",
       "    operands: 31\n",
       "27. -x^{n + 1}\n",
       "    core type: Operation\n",
       "    operator: 33\n",
       "    operand: 37\n",
       "28. -x\n",
       "    core type: Operation\n",
       "    operator: 33\n",
       "    operand: 43\n",
       "29. (x, i)\n",
       "    core type: ExprTuple\n",
       "    sub-expressions: 43, 35\n",
       "30. in\n",
       "    core type: Literal\n",
       "    sub-expressions: \n",
       "31. (i, {0 .. n})\n",
       "    core type: ExprTuple\n",
       "    sub-expressions: 35, 36\n",
       "32. (x^{n + 1})\n",
       "    core type: ExprTuple\n",
       "    sub-expressions: 37\n",
       "33. -\n",
       "    core type: Literal\n",
       "    sub-expressions: \n",
       "34. (x)\n",
       "    core type: ExprTuple\n",
       "    sub-expressions: 43\n",
       "35. i\n",
       "    core type: Variable\n",
       "    sub-expressions: \n",
       "36. {0 .. n}\n",
       "    core type: Operation\n",
       "    operator: 38\n",
       "    operands: 39\n",
       "37. x^{n + 1}\n",
       "    core type: Operation\n",
       "    operator: 40\n",
       "    operands: 41\n",
       "38. Interval\n",
       "    core type: Literal\n",
       "    sub-expressions: \n",
       "39. (0, n)\n",
       "    core type: ExprTuple\n",
       "    sub-expressions: 42, 47\n",
       "40. Exp\n",
       "    core type: Literal\n",
       "    sub-expressions: \n",
       "41. (x, n + 1)\n",
       "    core type: ExprTuple\n",
       "    sub-expressions: 43, 44\n",
       "42. 0\n",
       "    core type: Literal\n",
       "    sub-expressions: \n",
       "43. x\n",
       "    core type: Variable\n",
       "    sub-expressions: \n",
       "44. n + 1\n",
       "    core type: Operation\n",
       "    operator: 45\n",
       "    operands: 46\n",
       "45. +\n",
       "    core type: Literal\n",
       "    sub-expressions: \n",
       "46. (n, 1)\n",
       "    core type: ExprTuple\n",
       "    sub-expressions: 47, 48\n",
       "47. n\n",
       "    core type: Variable\n",
       "    sub-expressions: \n",
       "48. 1\n",
       "    core type: Literal\n",
       "    sub-expressions: "
      ]
     },
     "metadata": {},
     "output_type": "display_data"
    }
   ],
   "source": [
    "# display the expression information\n",
    "stored_expr.expr_info()"
   ]
  },
  {
   "cell_type": "code",
   "execution_count": null,
   "metadata": {},
   "outputs": [],
   "source": []
  }
 ],
 "metadata": {
  "kernelspec": {
   "display_name": "Python 3",
   "language": "python",
   "name": "python3"
  }
 },
 "nbformat": 4,
 "nbformat_minor": 0
}