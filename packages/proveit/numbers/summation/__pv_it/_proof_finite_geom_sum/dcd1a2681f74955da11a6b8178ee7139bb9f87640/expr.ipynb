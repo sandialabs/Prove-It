{
 "cells": [
  {
   "cell_type": "markdown",
   "metadata": {},
   "source": [
    "Expression of type <a class=\"ProveItLink\" href=\"../../../../../../../doc/html/api/proveit.ExprTuple.html\">ExprTuple</a>\n",
    "=======================\n",
    "# from the theory of <a class=\"ProveItLink\" href=\"../../../_theory_nbs_/theory.ipynb\">proveit.numbers.summation</a>"
   ]
  },
  {
   "cell_type": "code",
   "execution_count": 1,
   "metadata": {},
   "outputs": [],
   "source": [
    "import proveit\n",
    "# Automation is not needed when building an expression:\n",
    "proveit.defaults.automation = False # This will speed things up.\n",
    "proveit.defaults.inline_pngs = False # Makes files smaller.\n",
    "%load_expr # Load the stored expression as 'stored_expr'\n",
    "# import Expression classes needed to build the expression\n",
    "from proveit import ExprTuple, i, m, x\n",
    "from proveit.numbers import Add, Exp, Interval, Mult, Sum, frac, one, subtract, two, zero"
   ]
  },
  {
   "cell_type": "code",
   "execution_count": 2,
   "metadata": {},
   "outputs": [
    {
     "data": {
      "text/html": [
       "<strong id=\"expr\">expr:</strong> <a class=\"ProveItLink\" href=\"expr.ipynb\"><img src=\"expr.png\" style=\"display:inline;vertical-align:middle;\" /></a><br>"
      ],
      "text/plain": [
       "<IPython.core.display.HTML object>"
      ]
     },
     "metadata": {},
     "output_type": "display_data"
    }
   ],
   "source": [
    "# build up the expression from sub-expressions\n",
    "expr = ExprTuple(Sum(index_or_indices = [i], summand = Exp(x, i), domain = Interval(zero, Add(m, one))), Mult(frac(one, subtract(one, x)), subtract(one, Exp(x, Add(two, m)))))"
   ]
  },
  {
   "cell_type": "code",
   "execution_count": 3,
   "metadata": {},
   "outputs": [
    {
     "name": "stdout",
     "output_type": "stream",
     "text": [
      "Passed sanity check: expr matches stored_expr\n"
     ]
    }
   ],
   "source": [
    "# check that the built expression is the same as the stored expression\n",
    "assert expr == stored_expr\n",
    "assert expr._style_id == stored_expr._style_id\n",
    "print(\"Passed sanity check: expr matches stored_expr\")"
   ]
  },
  {
   "cell_type": "code",
   "execution_count": 4,
   "metadata": {},
   "outputs": [
    {
     "name": "stdout",
     "output_type": "stream",
     "text": [
      "\\left(\\sum_{i = 0}^{m + 1} x^{i}, \\frac{1}{1 - x} \\cdot \\left(1 - x^{2 + m}\\right)\\right)\n"
     ]
    }
   ],
   "source": [
    "# Show the LaTeX representation of the expression for convenience if you need it.\n",
    "print(stored_expr.latex())"
   ]
  },
  {
   "cell_type": "code",
   "execution_count": 5,
   "metadata": {},
   "outputs": [
    {
     "data": {
      "text/html": [
       "<table>\n",
       "<tr><th>name</th><th>description</th><th>default</th><th>current value</th><th>related methods</th></tr><tr><td>wrap_positions</td><td>position(s) at which wrapping is to occur; 'n' is after the nth comma.</td><td>()</td><td>()</td><td>('with_wrapping_at',)</td></tr>\n",
       "<tr><td>justification</td><td>if any wrap positions are set, justify to the 'left', 'center', or 'right'</td><td>left</td><td>left</td><td>('with_justification',)</td></tr>\n",
       "</table>\n"
      ],
      "text/plain": [
       "style name: wrap_positions\n",
       "description: position(s) at which wrapping is to occur; 'n' is after the nth comma.\n",
       "default: ()\n",
       "current value: ()\n",
       "related methods: ('with_wrapping_at',)\n",
       "style name: justification\n",
       "description: if any wrap positions are set, justify to the 'left', 'center', or 'right'\n",
       "default: left\n",
       "current value: left\n",
       "related methods: ('with_justification',)"
      ]
     },
     "metadata": {},
     "output_type": "display_data"
    }
   ],
   "source": [
    "stored_expr.style_options()"
   ]
  },
  {
   "cell_type": "code",
   "execution_count": 6,
   "metadata": {},
   "outputs": [
    {
     "data": {
      "text/html": [
       "<table><tr><th>&nbsp;</th><th>core type</th><th>sub-expressions</th><th>expression</th></tr>\n",
       "<tr><td>0</td><td>ExprTuple</td><td>1, 2</td><td><a class=\"ProveItLink\" href=\"expr.ipynb\"><img src=\"expr.png\" style=\"display:inline;vertical-align:middle;\" /></a></td></tr>\n",
       "<tr><td>1</td><td>Operation</td><td>operator:&nbsp;3<br>operand:&nbsp;7<br></td><td><a class=\"ProveItLink\" href=\"../0544b6739d17247f0d936bda30d3c1b87ca8cdc00/expr.ipynb\"><img src=\"../0544b6739d17247f0d936bda30d3c1b87ca8cdc00/expr.png\" style=\"display:inline;vertical-align:middle;\" /></a></td></tr>\n",
       "<tr><td>2</td><td>Operation</td><td>operator:&nbsp;5<br>operands:&nbsp;6<br></td><td><a class=\"ProveItLink\" href=\"../5b64161b5864fe4a5e326b3b22b69674d516672c0/expr.ipynb\"><img src=\"../5b64161b5864fe4a5e326b3b22b69674d516672c0/expr.png\" style=\"display:inline;vertical-align:middle;\" /></a></td></tr>\n",
       "<tr><td>3</td><td>Literal</td><td></td><td><a class=\"ProveItLink\" href=\"../../common/14fe61cccc388f91dfd83d3ca31cf27448cc070a0/expr.ipynb\"><img src=\"../../common/14fe61cccc388f91dfd83d3ca31cf27448cc070a0/expr.png\" style=\"display:inline;vertical-align:middle;\" /></a></td></tr>\n",
       "<tr><td>4</td><td>ExprTuple</td><td>7</td><td><a class=\"ProveItLink\" href=\"../5ecde55e5752912a2a0a6fef629bbd3777d40c220/expr.ipynb\"><img src=\"../5ecde55e5752912a2a0a6fef629bbd3777d40c220/expr.png\" style=\"display:inline;vertical-align:middle;\" /></a></td></tr>\n",
       "<tr><td>5</td><td>Literal</td><td></td><td><a class=\"ProveItLink\" href=\"../../../../multiplication/__pv_it/common/ed719cef37831779c16481533a4d380a2f95ab270/expr.ipynb\"><img src=\"../../../../multiplication/__pv_it/common/ed719cef37831779c16481533a4d380a2f95ab270/expr.png\" style=\"display:inline;vertical-align:middle;\" /></a></td></tr>\n",
       "<tr><td>6</td><td>ExprTuple</td><td>8, 9</td><td><a class=\"ProveItLink\" href=\"../4e0f477cdff953936b95453e29dad1c6a18689950/expr.ipynb\"><img src=\"../4e0f477cdff953936b95453e29dad1c6a18689950/expr.png\" style=\"display:inline;vertical-align:middle;\" /></a></td></tr>\n",
       "<tr><td>7</td><td>Lambda</td><td>parameter:&nbsp;24<br>body:&nbsp;11<br></td><td><a class=\"ProveItLink\" href=\"../afaf0202d5bf269a713e8c1c6f8aa2852c3159d10/expr.ipynb\"><img src=\"../afaf0202d5bf269a713e8c1c6f8aa2852c3159d10/expr.png\" style=\"display:inline;vertical-align:middle;\" /></a></td></tr>\n",
       "<tr><td>8</td><td>Operation</td><td>operator:&nbsp;12<br>operands:&nbsp;13<br></td><td><a class=\"ProveItLink\" href=\"../bd07c6232fe1aa6f8213ebbe14fe826313522f650/expr.ipynb\"><img src=\"../bd07c6232fe1aa6f8213ebbe14fe826313522f650/expr.png\" style=\"display:inline;vertical-align:middle;\" /></a></td></tr>\n",
       "<tr><td>9</td><td>Operation</td><td>operator:&nbsp;39<br>operands:&nbsp;14<br></td><td><a class=\"ProveItLink\" href=\"../54ff4a73534137fbb4ba3e161813758d49a9da8f0/expr.ipynb\"><img src=\"../54ff4a73534137fbb4ba3e161813758d49a9da8f0/expr.png\" style=\"display:inline;vertical-align:middle;\" /></a></td></tr>\n",
       "<tr><td>10</td><td>ExprTuple</td><td>24</td><td><a class=\"ProveItLink\" href=\"../../../../../core_expr_types/__pv_it/common/0fc33550aa9740010879fdf30c320b63ba918eff0/expr.ipynb\"><img src=\"../../../../../core_expr_types/__pv_it/common/0fc33550aa9740010879fdf30c320b63ba918eff0/expr.png\" style=\"display:inline;vertical-align:middle;\" /></a></td></tr>\n",
       "<tr><td>11</td><td>Conditional</td><td>value:&nbsp;15<br>condition:&nbsp;16<br></td><td><a class=\"ProveItLink\" href=\"../521d81164f72b93a299db34e4e295128876e67bd0/expr.ipynb\"><img src=\"../521d81164f72b93a299db34e4e295128876e67bd0/expr.png\" style=\"display:inline;vertical-align:middle;\" /></a></td></tr>\n",
       "<tr><td>12</td><td>Literal</td><td></td><td><a class=\"ProveItLink\" href=\"../../../../division/__pv_it/common/a2a633e1e3c749fb1f2692466b287b6348c5de840/expr.ipynb\"><img src=\"../../../../division/__pv_it/common/a2a633e1e3c749fb1f2692466b287b6348c5de840/expr.png\" style=\"display:inline;vertical-align:middle;\" /></a></td></tr>\n",
       "<tr><td>13</td><td>ExprTuple</td><td>41, 17</td><td><a class=\"ProveItLink\" href=\"../e9f26f9a5cdd554d46caa9ffcfc4f92dcd9f656c0/expr.ipynb\"><img src=\"../e9f26f9a5cdd554d46caa9ffcfc4f92dcd9f656c0/expr.png\" style=\"display:inline;vertical-align:middle;\" /></a></td></tr>\n",
       "<tr><td>14</td><td>ExprTuple</td><td>41, 18</td><td><a class=\"ProveItLink\" href=\"../fcbeb45b5ec4db671718b910f9e00c1de086c21e0/expr.ipynb\"><img src=\"../fcbeb45b5ec4db671718b910f9e00c1de086c21e0/expr.png\" style=\"display:inline;vertical-align:middle;\" /></a></td></tr>\n",
       "<tr><td>15</td><td>Operation</td><td>operator:&nbsp;32<br>operands:&nbsp;19<br></td><td><a class=\"ProveItLink\" href=\"../../theorems/4e928b95a2a2690eee9e3603b02d831601000a7e0/expr.ipynb\"><img src=\"../../theorems/4e928b95a2a2690eee9e3603b02d831601000a7e0/expr.png\" style=\"display:inline;vertical-align:middle;\" /></a></td></tr>\n",
       "<tr><td>16</td><td>Operation</td><td>operator:&nbsp;20<br>operands:&nbsp;21<br></td><td><a class=\"ProveItLink\" href=\"../cac7847a16e52fccfe019c67dea56d7e4b6a47660/expr.ipynb\"><img src=\"../cac7847a16e52fccfe019c67dea56d7e4b6a47660/expr.png\" style=\"display:inline;vertical-align:middle;\" /></a></td></tr>\n",
       "<tr><td>17</td><td>Operation</td><td>operator:&nbsp;39<br>operands:&nbsp;22<br></td><td><a class=\"ProveItLink\" href=\"../../theorems/ee7f4fd9cddf2bf63ee91f8fb1058a53495ea8000/expr.ipynb\"><img src=\"../../theorems/ee7f4fd9cddf2bf63ee91f8fb1058a53495ea8000/expr.png\" style=\"display:inline;vertical-align:middle;\" /></a></td></tr>\n",
       "<tr><td>18</td><td>Operation</td><td>operator:&nbsp;30<br>operand:&nbsp;27<br></td><td><a class=\"ProveItLink\" href=\"../872fffef60a77680d81a44d1991def3c1526c4a40/expr.ipynb\"><img src=\"../872fffef60a77680d81a44d1991def3c1526c4a40/expr.png\" style=\"display:inline;vertical-align:middle;\" /></a></td></tr>\n",
       "<tr><td>19</td><td>ExprTuple</td><td>36, 24</td><td><a class=\"ProveItLink\" href=\"../../theorems/aa1cd9294caa1865ed32fe1d58b1027b689d8af80/expr.ipynb\"><img src=\"../../theorems/aa1cd9294caa1865ed32fe1d58b1027b689d8af80/expr.png\" style=\"display:inline;vertical-align:middle;\" /></a></td></tr>\n",
       "<tr><td>20</td><td>Literal</td><td></td><td><a class=\"ProveItLink\" href=\"../../../../../logic/sets/membership/__pv_it/common/477487d8796864d23d5810f83761435f25167f690/expr.ipynb\"><img src=\"../../../../../logic/sets/membership/__pv_it/common/477487d8796864d23d5810f83761435f25167f690/expr.png\" style=\"display:inline;vertical-align:middle;\" /></a></td></tr>\n",
       "<tr><td>21</td><td>ExprTuple</td><td>24, 25</td><td><a class=\"ProveItLink\" href=\"../a6f9e60f08932bbd6ae7378141532ba91bfa62c80/expr.ipynb\"><img src=\"../a6f9e60f08932bbd6ae7378141532ba91bfa62c80/expr.png\" style=\"display:inline;vertical-align:middle;\" /></a></td></tr>\n",
       "<tr><td>22</td><td>ExprTuple</td><td>41, 26</td><td><a class=\"ProveItLink\" href=\"../../theorems/a260591c7d03a37138628696200ec6e58cb59c2c0/expr.ipynb\"><img src=\"../../theorems/a260591c7d03a37138628696200ec6e58cb59c2c0/expr.png\" style=\"display:inline;vertical-align:middle;\" /></a></td></tr>\n",
       "<tr><td>23</td><td>ExprTuple</td><td>27</td><td><a class=\"ProveItLink\" href=\"../8bc1bb6bc0250ceadf32826bff03f5af885a7f010/expr.ipynb\"><img src=\"../8bc1bb6bc0250ceadf32826bff03f5af885a7f010/expr.png\" style=\"display:inline;vertical-align:middle;\" /></a></td></tr>\n",
       "<tr><td>24</td><td>Variable</td><td></td><td><a class=\"ProveItLink\" href=\"../../../../../__pv_it/common/ae955345c83abf786c3aff8681cd5465beae262d0/expr.ipynb\"><img src=\"../../../../../__pv_it/common/ae955345c83abf786c3aff8681cd5465beae262d0/expr.png\" style=\"display:inline;vertical-align:middle;\" /></a></td></tr>\n",
       "<tr><td>25</td><td>Operation</td><td>operator:&nbsp;28<br>operands:&nbsp;29<br></td><td><a class=\"ProveItLink\" href=\"../3ffa1a11f7866f3762e33495c0faa64ab4ce8b840/expr.ipynb\"><img src=\"../3ffa1a11f7866f3762e33495c0faa64ab4ce8b840/expr.png\" style=\"display:inline;vertical-align:middle;\" /></a></td></tr>\n",
       "<tr><td>26</td><td>Operation</td><td>operator:&nbsp;30<br>operand:&nbsp;36<br></td><td><a class=\"ProveItLink\" href=\"../../theorems/8ae6bcf9f63d27c3e43ea63be5df603397837e130/expr.ipynb\"><img src=\"../../theorems/8ae6bcf9f63d27c3e43ea63be5df603397837e130/expr.png\" style=\"display:inline;vertical-align:middle;\" /></a></td></tr>\n",
       "<tr><td>27</td><td>Operation</td><td>operator:&nbsp;32<br>operands:&nbsp;33<br></td><td><a class=\"ProveItLink\" href=\"../23b11b0a2ab799343eb62d716cd86ec99653322f0/expr.ipynb\"><img src=\"../23b11b0a2ab799343eb62d716cd86ec99653322f0/expr.png\" style=\"display:inline;vertical-align:middle;\" /></a></td></tr>\n",
       "<tr><td>28</td><td>Literal</td><td></td><td><a class=\"ProveItLink\" href=\"../../../../number_sets/integers/__pv_it/common/92f3a0a77e3c3ea8e4a5c8674edadc54e4f57d550/expr.ipynb\"><img src=\"../../../../number_sets/integers/__pv_it/common/92f3a0a77e3c3ea8e4a5c8674edadc54e4f57d550/expr.png\" style=\"display:inline;vertical-align:middle;\" /></a></td></tr>\n",
       "<tr><td>29</td><td>ExprTuple</td><td>34, 35</td><td><a class=\"ProveItLink\" href=\"../8e4567080d13db62ac4cff44212a196e3fc574730/expr.ipynb\"><img src=\"../8e4567080d13db62ac4cff44212a196e3fc574730/expr.png\" style=\"display:inline;vertical-align:middle;\" /></a></td></tr>\n",
       "<tr><td>30</td><td>Literal</td><td></td><td><a class=\"ProveItLink\" href=\"../../../../negation/__pv_it/common/221b3c4d1770ee9051b7c044c3f9ec61196fc34b0/expr.ipynb\"><img src=\"../../../../negation/__pv_it/common/221b3c4d1770ee9051b7c044c3f9ec61196fc34b0/expr.png\" style=\"display:inline;vertical-align:middle;\" /></a></td></tr>\n",
       "<tr><td>31</td><td>ExprTuple</td><td>36</td><td><a class=\"ProveItLink\" href=\"../../../../../__pv_it/common/eacfeccc0521684fcb20fe8f5180ac50fca471f20/expr.ipynb\"><img src=\"../../../../../__pv_it/common/eacfeccc0521684fcb20fe8f5180ac50fca471f20/expr.png\" style=\"display:inline;vertical-align:middle;\" /></a></td></tr>\n",
       "<tr><td>32</td><td>Literal</td><td></td><td><a class=\"ProveItLink\" href=\"../../../../exponentiation/__pv_it/common/0ac37aca1e54c35c5cda09672df32d4f69f1f3020/expr.ipynb\"><img src=\"../../../../exponentiation/__pv_it/common/0ac37aca1e54c35c5cda09672df32d4f69f1f3020/expr.png\" style=\"display:inline;vertical-align:middle;\" /></a></td></tr>\n",
       "<tr><td>33</td><td>ExprTuple</td><td>36, 37</td><td><a class=\"ProveItLink\" href=\"../4c45a271bb0ba463cbdbd48fdba064b5faf3fae00/expr.ipynb\"><img src=\"../4c45a271bb0ba463cbdbd48fdba064b5faf3fae00/expr.png\" style=\"display:inline;vertical-align:middle;\" /></a></td></tr>\n",
       "<tr><td>34</td><td>Literal</td><td></td><td><a class=\"ProveItLink\" href=\"../../../../numerals/__pv_it/common/dd4e19e8b134dfb293470ea55fe3589b0ab9f8040/expr.ipynb\"><img src=\"../../../../numerals/__pv_it/common/dd4e19e8b134dfb293470ea55fe3589b0ab9f8040/expr.png\" style=\"display:inline;vertical-align:middle;\" /></a></td></tr>\n",
       "<tr><td>35</td><td>Operation</td><td>operator:&nbsp;39<br>operands:&nbsp;38<br></td><td><a class=\"ProveItLink\" href=\"../../../../__pv_it/common/f0153e6834a9ad14709e8cc9fcde46b29f1ea5f30/expr.ipynb\"><img src=\"../../../../__pv_it/common/f0153e6834a9ad14709e8cc9fcde46b29f1ea5f30/expr.png\" style=\"display:inline;vertical-align:middle;\" /></a></td></tr>\n",
       "<tr><td>36</td><td>Variable</td><td></td><td><a class=\"ProveItLink\" href=\"../../../../../__pv_it/common/a0d9d672aa5e272d907247690c152cc2c6daafb70/expr.ipynb\"><img src=\"../../../../../__pv_it/common/a0d9d672aa5e272d907247690c152cc2c6daafb70/expr.png\" style=\"display:inline;vertical-align:middle;\" /></a></td></tr>\n",
       "<tr><td>37</td><td>Operation</td><td>operator:&nbsp;39<br>operands:&nbsp;40<br></td><td><a class=\"ProveItLink\" href=\"../15262b30fd392b23bddbabaeea3e3cc1e36ae0240/expr.ipynb\"><img src=\"../15262b30fd392b23bddbabaeea3e3cc1e36ae0240/expr.png\" style=\"display:inline;vertical-align:middle;\" /></a></td></tr>\n",
       "<tr><td>38</td><td>ExprTuple</td><td>43, 41</td><td><a class=\"ProveItLink\" href=\"../../../../__pv_it/common/170d11eb07f7b16874eb02f06c0a6709375d45350/expr.ipynb\"><img src=\"../../../../__pv_it/common/170d11eb07f7b16874eb02f06c0a6709375d45350/expr.png\" style=\"display:inline;vertical-align:middle;\" /></a></td></tr>\n",
       "<tr><td>39</td><td>Literal</td><td></td><td><a class=\"ProveItLink\" href=\"../../../../addition/__pv_it/common/4b7effaab3619a1c2c38fe2dee8601df8ec714590/expr.ipynb\"><img src=\"../../../../addition/__pv_it/common/4b7effaab3619a1c2c38fe2dee8601df8ec714590/expr.png\" style=\"display:inline;vertical-align:middle;\" /></a></td></tr>\n",
       "<tr><td>40</td><td>ExprTuple</td><td>42, 43</td><td><a class=\"ProveItLink\" href=\"../b768cef07279ef7f04becc7dfba76d8785482b4b0/expr.ipynb\"><img src=\"../b768cef07279ef7f04becc7dfba76d8785482b4b0/expr.png\" style=\"display:inline;vertical-align:middle;\" /></a></td></tr>\n",
       "<tr><td>41</td><td>Literal</td><td></td><td><a class=\"ProveItLink\" href=\"../../../../numerals/__pv_it/common/682157d4892d216d9e5626ed533aff9b56b9506e0/expr.ipynb\"><img src=\"../../../../numerals/__pv_it/common/682157d4892d216d9e5626ed533aff9b56b9506e0/expr.png\" style=\"display:inline;vertical-align:middle;\" /></a></td></tr>\n",
       "<tr><td>42</td><td>Literal</td><td></td><td><a class=\"ProveItLink\" href=\"../../../../numerals/__pv_it/common/af4aab8a07465db063742696e006d04670f30cf10/expr.ipynb\"><img src=\"../../../../numerals/__pv_it/common/af4aab8a07465db063742696e006d04670f30cf10/expr.png\" style=\"display:inline;vertical-align:middle;\" /></a></td></tr>\n",
       "<tr><td>43</td><td>Variable</td><td></td><td><a class=\"ProveItLink\" href=\"../../../../../__pv_it/common/674a03b9c3ca221b3aabd5636837b31528ff33830/expr.ipynb\"><img src=\"../../../../../__pv_it/common/674a03b9c3ca221b3aabd5636837b31528ff33830/expr.png\" style=\"display:inline;vertical-align:middle;\" /></a></td></tr>\n",
       "</table>\n"
      ],
      "text/plain": [
       "0. (Sum_{i = 0}^{m + 1} x^{i}, (1 / (1 - x)) * (1 - x^{2 + m}))\n",
       "   core type: ExprTuple\n",
       "   sub-expressions: 1, 2\n",
       "1. Sum_{i = 0}^{m + 1} x^{i}\n",
       "   core type: Operation\n",
       "   operator: 3\n",
       "   operand: 7\n",
       "2. (1 / (1 - x)) * (1 - x^{2 + m})\n",
       "   core type: Operation\n",
       "   operator: 5\n",
       "   operands: 6\n",
       "3. Sum\n",
       "   core type: Literal\n",
       "   sub-expressions: \n",
       "4. (i -> {x^{i} if i in {0 .. m + 1}.)\n",
       "   core type: ExprTuple\n",
       "   sub-expressions: 7\n",
       "5. *\n",
       "   core type: Literal\n",
       "   sub-expressions: \n",
       "6. (1 / (1 - x), 1 - x^{2 + m})\n",
       "   core type: ExprTuple\n",
       "   sub-expressions: 8, 9\n",
       "7. i -> {x^{i} if i in {0 .. m + 1}.\n",
       "   core type: Lambda\n",
       "   parameter: 24\n",
       "   body: 11\n",
       "8. 1 / (1 - x)\n",
       "   core type: Operation\n",
       "   operator: 12\n",
       "   operands: 13\n",
       "9. 1 - x^{2 + m}\n",
       "   core type: Operation\n",
       "   operator: 39\n",
       "   operands: 14\n",
       "10. (i)\n",
       "    core type: ExprTuple\n",
       "    sub-expressions: 24\n",
       "11. {x^{i} if i in {0 .. m + 1}.\n",
       "    core type: Conditional\n",
       "    value: 15\n",
       "    condition: 16\n",
       "12. /\n",
       "    core type: Literal\n",
       "    sub-expressions: \n",
       "13. (1, 1 - x)\n",
       "    core type: ExprTuple\n",
       "    sub-expressions: 41, 17\n",
       "14. (1, -x^{2 + m})\n",
       "    core type: ExprTuple\n",
       "    sub-expressions: 41, 18\n",
       "15. x^{i}\n",
       "    core type: Operation\n",
       "    operator: 32\n",
       "    operands: 19\n",
       "16. i in {0 .. m + 1}\n",
       "    core type: Operation\n",
       "    operator: 20\n",
       "    operands: 21\n",
       "17. 1 - x\n",
       "    core type: Operation\n",
       "    operator: 39\n",
       "    operands: 22\n",
       "18. -x^{2 + m}\n",
       "    core type: Operation\n",
       "    operator: 30\n",
       "    operand: 27\n",
       "19. (x, i)\n",
       "    core type: ExprTuple\n",
       "    sub-expressions: 36, 24\n",
       "20. in\n",
       "    core type: Literal\n",
       "    sub-expressions: \n",
       "21. (i, {0 .. m + 1})\n",
       "    core type: ExprTuple\n",
       "    sub-expressions: 24, 25\n",
       "22. (1, -x)\n",
       "    core type: ExprTuple\n",
       "    sub-expressions: 41, 26\n",
       "23. (x^{2 + m})\n",
       "    core type: ExprTuple\n",
       "    sub-expressions: 27\n",
       "24. i\n",
       "    core type: Variable\n",
       "    sub-expressions: \n",
       "25. {0 .. m + 1}\n",
       "    core type: Operation\n",
       "    operator: 28\n",
       "    operands: 29\n",
       "26. -x\n",
       "    core type: Operation\n",
       "    operator: 30\n",
       "    operand: 36\n",
       "27. x^{2 + m}\n",
       "    core type: Operation\n",
       "    operator: 32\n",
       "    operands: 33\n",
       "28. Interval\n",
       "    core type: Literal\n",
       "    sub-expressions: \n",
       "29. (0, m + 1)\n",
       "    core type: ExprTuple\n",
       "    sub-expressions: 34, 35\n",
       "30. -\n",
       "    core type: Literal\n",
       "    sub-expressions: \n",
       "31. (x)\n",
       "    core type: ExprTuple\n",
       "    sub-expressions: 36\n",
       "32. Exp\n",
       "    core type: Literal\n",
       "    sub-expressions: \n",
       "33. (x, 2 + m)\n",
       "    core type: ExprTuple\n",
       "    sub-expressions: 36, 37\n",
       "34. 0\n",
       "    core type: Literal\n",
       "    sub-expressions: \n",
       "35. m + 1\n",
       "    core type: Operation\n",
       "    operator: 39\n",
       "    operands: 38\n",
       "36. x\n",
       "    core type: Variable\n",
       "    sub-expressions: \n",
       "37. 2 + m\n",
       "    core type: Operation\n",
       "    operator: 39\n",
       "    operands: 40\n",
       "38. (m, 1)\n",
       "    core type: ExprTuple\n",
       "    sub-expressions: 43, 41\n",
       "39. +\n",
       "    core type: Literal\n",
       "    sub-expressions: \n",
       "40. (2, m)\n",
       "    core type: ExprTuple\n",
       "    sub-expressions: 42, 43\n",
       "41. 1\n",
       "    core type: Literal\n",
       "    sub-expressions: \n",
       "42. 2\n",
       "    core type: Literal\n",
       "    sub-expressions: \n",
       "43. m\n",
       "    core type: Variable\n",
       "    sub-expressions: "
      ]
     },
     "metadata": {},
     "output_type": "display_data"
    }
   ],
   "source": [
    "# display the expression information\n",
    "stored_expr.expr_info()"
   ]
  },
  {
   "cell_type": "code",
   "execution_count": null,
   "metadata": {},
   "outputs": [],
   "source": []
  }
 ],
 "metadata": {
  "kernelspec": {
   "display_name": "Python 3",
   "language": "python",
   "name": "python3"
  }
 },
 "nbformat": 4,
 "nbformat_minor": 0
}