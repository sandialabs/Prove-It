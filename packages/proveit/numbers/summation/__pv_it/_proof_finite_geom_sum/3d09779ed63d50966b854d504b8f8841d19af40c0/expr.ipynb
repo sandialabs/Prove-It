{
 "cells": [
  {
   "cell_type": "markdown",
   "metadata": {},
   "source": [
    "Expression of type <a class=\"ProveItLink\" href=\"../../../../../../../doc/html/api/proveit.ExprTuple.html\">ExprTuple</a>\n",
    "=======================\n",
    "# from the theory of <a class=\"ProveItLink\" href=\"../../../_theory_nbs_/theory.ipynb\">proveit.numbers.summation</a>"
   ]
  },
  {
   "cell_type": "code",
   "execution_count": 1,
   "metadata": {},
   "outputs": [],
   "source": [
    "import proveit\n",
    "# Automation is not needed when building an expression:\n",
    "proveit.defaults.automation = False # This will speed things up.\n",
    "proveit.defaults.inline_pngs = False # Makes files smaller.\n",
    "%load_expr # Load the stored expression as 'stored_expr'\n",
    "# import Expression classes needed to build the expression\n",
    "from proveit import ExprTuple, m, x\n",
    "from proveit.numbers import Add, Exp, Mult, frac, one, subtract, two"
   ]
  },
  {
   "cell_type": "code",
   "execution_count": 2,
   "metadata": {},
   "outputs": [
    {
     "data": {
      "text/html": [
       "<strong id=\"expr\">expr:</strong> <a class=\"ProveItLink\" href=\"expr.ipynb\"><img src=\"expr.png\" style=\"display:inline;vertical-align:middle;\" /></a><br>"
      ],
      "text/plain": [
       "<IPython.core.display.HTML object>"
      ]
     },
     "metadata": {},
     "output_type": "display_data"
    }
   ],
   "source": [
    "# build up the expression from sub-expressions\n",
    "sub_expr1 = subtract(one, x)\n",
    "sub_expr2 = subtract(Exp(x, Add(m, one)), Exp(x, Add(two, m)))\n",
    "expr = ExprTuple(frac(sub_expr2, sub_expr1), Mult(frac(one, sub_expr1), sub_expr2))"
   ]
  },
  {
   "cell_type": "code",
   "execution_count": 3,
   "metadata": {},
   "outputs": [
    {
     "name": "stdout",
     "output_type": "stream",
     "text": [
      "Passed sanity check: expr matches stored_expr\n"
     ]
    }
   ],
   "source": [
    "# check that the built expression is the same as the stored expression\n",
    "assert expr == stored_expr\n",
    "assert expr._style_id == stored_expr._style_id\n",
    "print(\"Passed sanity check: expr matches stored_expr\")"
   ]
  },
  {
   "cell_type": "code",
   "execution_count": 4,
   "metadata": {},
   "outputs": [
    {
     "name": "stdout",
     "output_type": "stream",
     "text": [
      "\\left(\\frac{x^{m + 1} - x^{2 + m}}{1 - x}, \\frac{1}{1 - x} \\cdot \\left(x^{m + 1} - x^{2 + m}\\right)\\right)\n"
     ]
    }
   ],
   "source": [
    "# Show the LaTeX representation of the expression for convenience if you need it.\n",
    "print(stored_expr.latex())"
   ]
  },
  {
   "cell_type": "code",
   "execution_count": 5,
   "metadata": {},
   "outputs": [
    {
     "data": {
      "text/html": [
       "<table>\n",
       "<tr><th>name</th><th>description</th><th>default</th><th>current value</th><th>related methods</th></tr><tr><td>wrap_positions</td><td>position(s) at which wrapping is to occur; 'n' is after the nth comma.</td><td>()</td><td>()</td><td>('with_wrapping_at',)</td></tr>\n",
       "<tr><td>justification</td><td>if any wrap positions are set, justify to the 'left', 'center', or 'right'</td><td>left</td><td>left</td><td>('with_justification',)</td></tr>\n",
       "</table>\n"
      ],
      "text/plain": [
       "style name: wrap_positions\n",
       "description: position(s) at which wrapping is to occur; 'n' is after the nth comma.\n",
       "default: ()\n",
       "current value: ()\n",
       "related methods: ('with_wrapping_at',)\n",
       "style name: justification\n",
       "description: if any wrap positions are set, justify to the 'left', 'center', or 'right'\n",
       "default: left\n",
       "current value: left\n",
       "related methods: ('with_justification',)"
      ]
     },
     "metadata": {},
     "output_type": "display_data"
    }
   ],
   "source": [
    "stored_expr.style_options()"
   ]
  },
  {
   "cell_type": "code",
   "execution_count": 6,
   "metadata": {},
   "outputs": [
    {
     "data": {
      "text/html": [
       "<table><tr><th>&nbsp;</th><th>core type</th><th>sub-expressions</th><th>expression</th></tr>\n",
       "<tr><td>0</td><td>ExprTuple</td><td>1, 2</td><td><a class=\"ProveItLink\" href=\"expr.ipynb\"><img src=\"expr.png\" style=\"display:inline;vertical-align:middle;\" /></a></td></tr>\n",
       "<tr><td>1</td><td>Operation</td><td>operator:&nbsp;8<br>operands:&nbsp;3<br></td><td><a class=\"ProveItLink\" href=\"../aac38770f59b71dc02af75f37e3c651681c2b9d80/expr.ipynb\"><img src=\"../aac38770f59b71dc02af75f37e3c651681c2b9d80/expr.png\" style=\"display:inline;vertical-align:middle;\" /></a></td></tr>\n",
       "<tr><td>2</td><td>Operation</td><td>operator:&nbsp;4<br>operands:&nbsp;5<br></td><td><a class=\"ProveItLink\" href=\"../b234bd241fb6616f66b5d7ea3c7b043ba027241d0/expr.ipynb\"><img src=\"../b234bd241fb6616f66b5d7ea3c7b043ba027241d0/expr.png\" style=\"display:inline;vertical-align:middle;\" /></a></td></tr>\n",
       "<tr><td>3</td><td>ExprTuple</td><td>7, 11</td><td><a class=\"ProveItLink\" href=\"../bf434e61109e432f52bbee2b0ef1ec6c789efa600/expr.ipynb\"><img src=\"../bf434e61109e432f52bbee2b0ef1ec6c789efa600/expr.png\" style=\"display:inline;vertical-align:middle;\" /></a></td></tr>\n",
       "<tr><td>4</td><td>Literal</td><td></td><td><a class=\"ProveItLink\" href=\"../../../../multiplication/__pv_it/common/ed719cef37831779c16481533a4d380a2f95ab270/expr.ipynb\"><img src=\"../../../../multiplication/__pv_it/common/ed719cef37831779c16481533a4d380a2f95ab270/expr.png\" style=\"display:inline;vertical-align:middle;\" /></a></td></tr>\n",
       "<tr><td>5</td><td>ExprTuple</td><td>6, 7</td><td><a class=\"ProveItLink\" href=\"../558514d46664b43bdd5655043f4044c69bdabd610/expr.ipynb\"><img src=\"../558514d46664b43bdd5655043f4044c69bdabd610/expr.png\" style=\"display:inline;vertical-align:middle;\" /></a></td></tr>\n",
       "<tr><td>6</td><td>Operation</td><td>operator:&nbsp;8<br>operands:&nbsp;9<br></td><td><a class=\"ProveItLink\" href=\"../bd07c6232fe1aa6f8213ebbe14fe826313522f650/expr.ipynb\"><img src=\"../bd07c6232fe1aa6f8213ebbe14fe826313522f650/expr.png\" style=\"display:inline;vertical-align:middle;\" /></a></td></tr>\n",
       "<tr><td>7</td><td>Operation</td><td>operator:&nbsp;28<br>operands:&nbsp;10<br></td><td><a class=\"ProveItLink\" href=\"../aa02ee70bd5575e6bc1681f0294f3729ef5d07a50/expr.ipynb\"><img src=\"../aa02ee70bd5575e6bc1681f0294f3729ef5d07a50/expr.png\" style=\"display:inline;vertical-align:middle;\" /></a></td></tr>\n",
       "<tr><td>8</td><td>Literal</td><td></td><td><a class=\"ProveItLink\" href=\"../../../../division/__pv_it/common/a2a633e1e3c749fb1f2692466b287b6348c5de840/expr.ipynb\"><img src=\"../../../../division/__pv_it/common/a2a633e1e3c749fb1f2692466b287b6348c5de840/expr.png\" style=\"display:inline;vertical-align:middle;\" /></a></td></tr>\n",
       "<tr><td>9</td><td>ExprTuple</td><td>25, 11</td><td><a class=\"ProveItLink\" href=\"../e9f26f9a5cdd554d46caa9ffcfc4f92dcd9f656c0/expr.ipynb\"><img src=\"../e9f26f9a5cdd554d46caa9ffcfc4f92dcd9f656c0/expr.png\" style=\"display:inline;vertical-align:middle;\" /></a></td></tr>\n",
       "<tr><td>10</td><td>ExprTuple</td><td>12, 13</td><td><a class=\"ProveItLink\" href=\"../6f6026e60b9e6871b5d844f02353ca7f2b9899ef0/expr.ipynb\"><img src=\"../6f6026e60b9e6871b5d844f02353ca7f2b9899ef0/expr.png\" style=\"display:inline;vertical-align:middle;\" /></a></td></tr>\n",
       "<tr><td>11</td><td>Operation</td><td>operator:&nbsp;28<br>operands:&nbsp;14<br></td><td><a class=\"ProveItLink\" href=\"../../theorems/ee7f4fd9cddf2bf63ee91f8fb1058a53495ea8000/expr.ipynb\"><img src=\"../../theorems/ee7f4fd9cddf2bf63ee91f8fb1058a53495ea8000/expr.png\" style=\"display:inline;vertical-align:middle;\" /></a></td></tr>\n",
       "<tr><td>12</td><td>Operation</td><td>operator:&nbsp;23<br>operands:&nbsp;15<br></td><td><a class=\"ProveItLink\" href=\"../fdaad199028fc16e0f515fd290cc65222637fd920/expr.ipynb\"><img src=\"../fdaad199028fc16e0f515fd290cc65222637fd920/expr.png\" style=\"display:inline;vertical-align:middle;\" /></a></td></tr>\n",
       "<tr><td>13</td><td>Operation</td><td>operator:&nbsp;20<br>operand:&nbsp;19<br></td><td><a class=\"ProveItLink\" href=\"../872fffef60a77680d81a44d1991def3c1526c4a40/expr.ipynb\"><img src=\"../872fffef60a77680d81a44d1991def3c1526c4a40/expr.png\" style=\"display:inline;vertical-align:middle;\" /></a></td></tr>\n",
       "<tr><td>14</td><td>ExprTuple</td><td>25, 17</td><td><a class=\"ProveItLink\" href=\"../../theorems/a260591c7d03a37138628696200ec6e58cb59c2c0/expr.ipynb\"><img src=\"../../theorems/a260591c7d03a37138628696200ec6e58cb59c2c0/expr.png\" style=\"display:inline;vertical-align:middle;\" /></a></td></tr>\n",
       "<tr><td>15</td><td>ExprTuple</td><td>26, 18</td><td><a class=\"ProveItLink\" href=\"../cef191651b5e4af9fe4f80bed479bd525729981e0/expr.ipynb\"><img src=\"../cef191651b5e4af9fe4f80bed479bd525729981e0/expr.png\" style=\"display:inline;vertical-align:middle;\" /></a></td></tr>\n",
       "<tr><td>16</td><td>ExprTuple</td><td>19</td><td><a class=\"ProveItLink\" href=\"../8bc1bb6bc0250ceadf32826bff03f5af885a7f010/expr.ipynb\"><img src=\"../8bc1bb6bc0250ceadf32826bff03f5af885a7f010/expr.png\" style=\"display:inline;vertical-align:middle;\" /></a></td></tr>\n",
       "<tr><td>17</td><td>Operation</td><td>operator:&nbsp;20<br>operand:&nbsp;26<br></td><td><a class=\"ProveItLink\" href=\"../../theorems/8ae6bcf9f63d27c3e43ea63be5df603397837e130/expr.ipynb\"><img src=\"../../theorems/8ae6bcf9f63d27c3e43ea63be5df603397837e130/expr.png\" style=\"display:inline;vertical-align:middle;\" /></a></td></tr>\n",
       "<tr><td>18</td><td>Operation</td><td>operator:&nbsp;28<br>operands:&nbsp;22<br></td><td><a class=\"ProveItLink\" href=\"../../../../__pv_it/common/f0153e6834a9ad14709e8cc9fcde46b29f1ea5f30/expr.ipynb\"><img src=\"../../../../__pv_it/common/f0153e6834a9ad14709e8cc9fcde46b29f1ea5f30/expr.png\" style=\"display:inline;vertical-align:middle;\" /></a></td></tr>\n",
       "<tr><td>19</td><td>Operation</td><td>operator:&nbsp;23<br>operands:&nbsp;24<br></td><td><a class=\"ProveItLink\" href=\"../23b11b0a2ab799343eb62d716cd86ec99653322f0/expr.ipynb\"><img src=\"../23b11b0a2ab799343eb62d716cd86ec99653322f0/expr.png\" style=\"display:inline;vertical-align:middle;\" /></a></td></tr>\n",
       "<tr><td>20</td><td>Literal</td><td></td><td><a class=\"ProveItLink\" href=\"../../../../negation/__pv_it/common/221b3c4d1770ee9051b7c044c3f9ec61196fc34b0/expr.ipynb\"><img src=\"../../../../negation/__pv_it/common/221b3c4d1770ee9051b7c044c3f9ec61196fc34b0/expr.png\" style=\"display:inline;vertical-align:middle;\" /></a></td></tr>\n",
       "<tr><td>21</td><td>ExprTuple</td><td>26</td><td><a class=\"ProveItLink\" href=\"../../../../../__pv_it/common/eacfeccc0521684fcb20fe8f5180ac50fca471f20/expr.ipynb\"><img src=\"../../../../../__pv_it/common/eacfeccc0521684fcb20fe8f5180ac50fca471f20/expr.png\" style=\"display:inline;vertical-align:middle;\" /></a></td></tr>\n",
       "<tr><td>22</td><td>ExprTuple</td><td>31, 25</td><td><a class=\"ProveItLink\" href=\"../../../../__pv_it/common/170d11eb07f7b16874eb02f06c0a6709375d45350/expr.ipynb\"><img src=\"../../../../__pv_it/common/170d11eb07f7b16874eb02f06c0a6709375d45350/expr.png\" style=\"display:inline;vertical-align:middle;\" /></a></td></tr>\n",
       "<tr><td>23</td><td>Literal</td><td></td><td><a class=\"ProveItLink\" href=\"../../../../exponentiation/__pv_it/common/0ac37aca1e54c35c5cda09672df32d4f69f1f3020/expr.ipynb\"><img src=\"../../../../exponentiation/__pv_it/common/0ac37aca1e54c35c5cda09672df32d4f69f1f3020/expr.png\" style=\"display:inline;vertical-align:middle;\" /></a></td></tr>\n",
       "<tr><td>24</td><td>ExprTuple</td><td>26, 27</td><td><a class=\"ProveItLink\" href=\"../4c45a271bb0ba463cbdbd48fdba064b5faf3fae00/expr.ipynb\"><img src=\"../4c45a271bb0ba463cbdbd48fdba064b5faf3fae00/expr.png\" style=\"display:inline;vertical-align:middle;\" /></a></td></tr>\n",
       "<tr><td>25</td><td>Literal</td><td></td><td><a class=\"ProveItLink\" href=\"../../../../numerals/__pv_it/common/682157d4892d216d9e5626ed533aff9b56b9506e0/expr.ipynb\"><img src=\"../../../../numerals/__pv_it/common/682157d4892d216d9e5626ed533aff9b56b9506e0/expr.png\" style=\"display:inline;vertical-align:middle;\" /></a></td></tr>\n",
       "<tr><td>26</td><td>Variable</td><td></td><td><a class=\"ProveItLink\" href=\"../../../../../__pv_it/common/a0d9d672aa5e272d907247690c152cc2c6daafb70/expr.ipynb\"><img src=\"../../../../../__pv_it/common/a0d9d672aa5e272d907247690c152cc2c6daafb70/expr.png\" style=\"display:inline;vertical-align:middle;\" /></a></td></tr>\n",
       "<tr><td>27</td><td>Operation</td><td>operator:&nbsp;28<br>operands:&nbsp;29<br></td><td><a class=\"ProveItLink\" href=\"../15262b30fd392b23bddbabaeea3e3cc1e36ae0240/expr.ipynb\"><img src=\"../15262b30fd392b23bddbabaeea3e3cc1e36ae0240/expr.png\" style=\"display:inline;vertical-align:middle;\" /></a></td></tr>\n",
       "<tr><td>28</td><td>Literal</td><td></td><td><a class=\"ProveItLink\" href=\"../../../../addition/__pv_it/common/4b7effaab3619a1c2c38fe2dee8601df8ec714590/expr.ipynb\"><img src=\"../../../../addition/__pv_it/common/4b7effaab3619a1c2c38fe2dee8601df8ec714590/expr.png\" style=\"display:inline;vertical-align:middle;\" /></a></td></tr>\n",
       "<tr><td>29</td><td>ExprTuple</td><td>30, 31</td><td><a class=\"ProveItLink\" href=\"../b768cef07279ef7f04becc7dfba76d8785482b4b0/expr.ipynb\"><img src=\"../b768cef07279ef7f04becc7dfba76d8785482b4b0/expr.png\" style=\"display:inline;vertical-align:middle;\" /></a></td></tr>\n",
       "<tr><td>30</td><td>Literal</td><td></td><td><a class=\"ProveItLink\" href=\"../../../../numerals/__pv_it/common/af4aab8a07465db063742696e006d04670f30cf10/expr.ipynb\"><img src=\"../../../../numerals/__pv_it/common/af4aab8a07465db063742696e006d04670f30cf10/expr.png\" style=\"display:inline;vertical-align:middle;\" /></a></td></tr>\n",
       "<tr><td>31</td><td>Variable</td><td></td><td><a class=\"ProveItLink\" href=\"../../../../../__pv_it/common/674a03b9c3ca221b3aabd5636837b31528ff33830/expr.ipynb\"><img src=\"../../../../../__pv_it/common/674a03b9c3ca221b3aabd5636837b31528ff33830/expr.png\" style=\"display:inline;vertical-align:middle;\" /></a></td></tr>\n",
       "</table>\n"
      ],
      "text/plain": [
       "0. ((x^{m + 1} - x^{2 + m}) / (1 - x), (1 / (1 - x)) * (x^{m + 1} - x^{2 + m}))\n",
       "   core type: ExprTuple\n",
       "   sub-expressions: 1, 2\n",
       "1. (x^{m + 1} - x^{2 + m}) / (1 - x)\n",
       "   core type: Operation\n",
       "   operator: 8\n",
       "   operands: 3\n",
       "2. (1 / (1 - x)) * (x^{m + 1} - x^{2 + m})\n",
       "   core type: Operation\n",
       "   operator: 4\n",
       "   operands: 5\n",
       "3. (x^{m + 1} - x^{2 + m}, 1 - x)\n",
       "   core type: ExprTuple\n",
       "   sub-expressions: 7, 11\n",
       "4. *\n",
       "   core type: Literal\n",
       "   sub-expressions: \n",
       "5. (1 / (1 - x), x^{m + 1} - x^{2 + m})\n",
       "   core type: ExprTuple\n",
       "   sub-expressions: 6, 7\n",
       "6. 1 / (1 - x)\n",
       "   core type: Operation\n",
       "   operator: 8\n",
       "   operands: 9\n",
       "7. x^{m + 1} - x^{2 + m}\n",
       "   core type: Operation\n",
       "   operator: 28\n",
       "   operands: 10\n",
       "8. /\n",
       "   core type: Literal\n",
       "   sub-expressions: \n",
       "9. (1, 1 - x)\n",
       "   core type: ExprTuple\n",
       "   sub-expressions: 25, 11\n",
       "10. (x^{m + 1}, -x^{2 + m})\n",
       "    core type: ExprTuple\n",
       "    sub-expressions: 12, 13\n",
       "11. 1 - x\n",
       "    core type: Operation\n",
       "    operator: 28\n",
       "    operands: 14\n",
       "12. x^{m + 1}\n",
       "    core type: Operation\n",
       "    operator: 23\n",
       "    operands: 15\n",
       "13. -x^{2 + m}\n",
       "    core type: Operation\n",
       "    operator: 20\n",
       "    operand: 19\n",
       "14. (1, -x)\n",
       "    core type: ExprTuple\n",
       "    sub-expressions: 25, 17\n",
       "15. (x, m + 1)\n",
       "    core type: ExprTuple\n",
       "    sub-expressions: 26, 18\n",
       "16. (x^{2 + m})\n",
       "    core type: ExprTuple\n",
       "    sub-expressions: 19\n",
       "17. -x\n",
       "    core type: Operation\n",
       "    operator: 20\n",
       "    operand: 26\n",
       "18. m + 1\n",
       "    core type: Operation\n",
       "    operator: 28\n",
       "    operands: 22\n",
       "19. x^{2 + m}\n",
       "    core type: Operation\n",
       "    operator: 23\n",
       "    operands: 24\n",
       "20. -\n",
       "    core type: Literal\n",
       "    sub-expressions: \n",
       "21. (x)\n",
       "    core type: ExprTuple\n",
       "    sub-expressions: 26\n",
       "22. (m, 1)\n",
       "    core type: ExprTuple\n",
       "    sub-expressions: 31, 25\n",
       "23. Exp\n",
       "    core type: Literal\n",
       "    sub-expressions: \n",
       "24. (x, 2 + m)\n",
       "    core type: ExprTuple\n",
       "    sub-expressions: 26, 27\n",
       "25. 1\n",
       "    core type: Literal\n",
       "    sub-expressions: \n",
       "26. x\n",
       "    core type: Variable\n",
       "    sub-expressions: \n",
       "27. 2 + m\n",
       "    core type: Operation\n",
       "    operator: 28\n",
       "    operands: 29\n",
       "28. +\n",
       "    core type: Literal\n",
       "    sub-expressions: \n",
       "29. (2, m)\n",
       "    core type: ExprTuple\n",
       "    sub-expressions: 30, 31\n",
       "30. 2\n",
       "    core type: Literal\n",
       "    sub-expressions: \n",
       "31. m\n",
       "    core type: Variable\n",
       "    sub-expressions: "
      ]
     },
     "metadata": {},
     "output_type": "display_data"
    }
   ],
   "source": [
    "# display the expression information\n",
    "stored_expr.expr_info()"
   ]
  },
  {
   "cell_type": "code",
   "execution_count": null,
   "metadata": {},
   "outputs": [],
   "source": []
  }
 ],
 "metadata": {
  "kernelspec": {
   "display_name": "Python 3",
   "language": "python",
   "name": "python3"
  }
 },
 "nbformat": 4,
 "nbformat_minor": 0
}