{
 "cells": [
  {
   "cell_type": "markdown",
   "metadata": {},
   "source": [
    "Demonstrations for the theory of <a class=\"ProveItLink\" href=\"theory.ipynb\">proveit.numbers.summation</a>\n",
    "========"
   ]
  },
  {
   "cell_type": "code",
   "execution_count": null,
   "metadata": {},
   "outputs": [],
   "source": [
    "import proveit\n",
    "from proveit import Function\n",
    "from proveit import a, b, c, f, i, j, k, l, m, n, x, fi, fij, A, B\n",
    "from proveit.core_expr_types import f_1_to_i\n",
    "from proveit.logic import Forall, InSet, Card\n",
    "from proveit.numbers import zero, one, two, three, four, five, six, seven, eight, nine, infinity\n",
    "from proveit.numbers import (Add, Exp, frac, greater, Less, LessEq, Mult, num, subtract, Sum )\n",
    "from proveit.numbers import Complex, Integer, Interval, Natural, NaturalPos\n",
    "from proveit.numbers.summation import al, bl, ak, bk\n",
    "%begin demonstrations"
   ]
  },
  {
   "cell_type": "markdown",
   "metadata": {},
   "source": [
    "# Summations $\\sum_{i=1}^{n}f(i)$"
   ]
  },
  {
   "cell_type": "markdown",
   "metadata": {},
   "source": [
    "<div style=\"line-height:1.4; font-size:14pt\">\n",
    "<a href='#introduction'>Introduction</a><br>\n",
    "<a href='#simple_expressions'>Simple Expressions involving the Sum class</a><br>\n",
    "<a href='#common_attributes'>Common Attributes of a Sum</a><br>\n",
    "<a href='#further_demonstrations'>Further Demonstrations</a><br>\n",
    "    <ol>\n",
    "        <li><a href='#demo01'>TBA</a></li>\n",
    "        <li><a href='#demo02'>TBA</a></li>\n",
    "        <li><a href='#demo03'>TBA</a></li>\n",
    "    </ol>\n",
    "<a href='#misc_testing'>Miscellaneous Testing</a><br>\n",
    "</div>"
   ]
  },
  {
   "cell_type": "markdown",
   "metadata": {},
   "source": [
    "## Introduction <a id='introduction'></a>"
   ]
  },
  {
   "cell_type": "markdown",
   "metadata": {},
   "source": [
    "Finite and infinite summations of the form $\\sum_{i=m}^{n}f(i)$ arise in a wide variety of contexts, both as objects of study in their own right and as concise notational tools used within a variety of topics. Such summations are constructed in Prove-It using the `Sum` class defined in `sum.py`.<br/>"
   ]
  },
  {
   "cell_type": "markdown",
   "metadata": {},
   "source": [
    "## Simple Expressions Involving Summations<a id='simple_expressions'></a>"
   ]
  },
  {
   "cell_type": "markdown",
   "metadata": {},
   "source": [
    "Summations are easy to construct using the Sum class, and such Sum objects are easily incorporated into other expressions. A summation object is created by invoking the `Sum` class as follows:<br/>\n",
    "\n",
    "`Sum(index_or_indices, summand, domain=None, domains=None, condition=None,\n",
    "     conditions=None, _lambda_map=None)`\n",
    "     \n",
    "Notice that the index argument and summand arguments are not optional. For example, we cannot create a generic summation expression such as $\\sum f(x)$ with no index specified. We can create a summation, though, in which the domain for the index remains unspecified, such as $sum_{i}f(i)$.</br>\n",
    "\n",
    "Notice also that Prove-It summations using the `Sum` class are defined only for indices that range over contiguous integer domains such as an integral interval (created using the `Interval` class) or the entire set of naturals $\\mathbb{N}$ (for example, specified using `domain=Natural`)."
   ]
  },
  {
   "cell_type": "code",
   "execution_count": null,
   "metadata": {},
   "outputs": [],
   "source": [
    "# A summation with summation index i, a generic summand, and no index domain\n",
    "Sum(i, fi)"
   ]
  },
  {
   "cell_type": "code",
   "execution_count": null,
   "metadata": {},
   "outputs": [],
   "source": [
    "# A simple summation representing the sum of the first\n",
    "# ten positive integers\n",
    "sum_01 = Sum(i, Add(i, one), domain=Interval(zero, nine))"
   ]
  },
  {
   "cell_type": "code",
   "execution_count": null,
   "metadata": {},
   "outputs": [],
   "source": [
    "# An infinite geometric sum\n",
    "sum_02 = Sum(i, frac(one, Exp(i, two)), domain=Natural)"
   ]
  },
  {
   "cell_type": "code",
   "execution_count": null,
   "metadata": {},
   "outputs": [],
   "source": [
    "# A more explicitly-indexed version of an infinite sum\n",
    "sum_03 = Sum(m,Exp(x,m), domain=Interval(zero,infinity))"
   ]
  },
  {
   "cell_type": "code",
   "execution_count": null,
   "metadata": {},
   "outputs": [],
   "source": [
    "# A sum over multiple indices\n",
    "sum_04 = Sum((i,j), Add(i,j))"
   ]
  },
  {
   "cell_type": "code",
   "execution_count": null,
   "metadata": {},
   "outputs": [],
   "source": [
    "# Even though we can create a summation over multiple indices,\n",
    "# the Sum class is not yet implemented to handle such indices nor\n",
    "# the extension to multiple index domains:\n",
    "try:\n",
    "    sum_04 = Sum((i,j), Add(i,j), domains=[A, B])\n",
    "except Exception as e:\n",
    "    print(\"Exception: {}\".format(e))"
   ]
  },
  {
   "cell_type": "markdown",
   "metadata": {},
   "source": [
    "## Common Attributes of Sum expressions <a id='common_attributes'></a>"
   ]
  },
  {
   "cell_type": "markdown",
   "metadata": {},
   "source": [
    "Let's look at some simple examples of summations and their common attributes."
   ]
  },
  {
   "cell_type": "code",
   "execution_count": null,
   "metadata": {},
   "outputs": [],
   "source": [
    "# Recall some enumerated sets defined earlier:\n",
    "display(sum_01)\n",
    "display(sum_02)\n",
    "display(sum_03)\n",
    "display(sum_04)"
   ]
  },
  {
   "cell_type": "markdown",
   "metadata": {},
   "source": [
    "We can look at the construction of such expressions by calling <font style=\"font-family:courier\">expr_info()</font> to see the table version of the expression's underlying directed acyclic graph (DAG) representation:"
   ]
  },
  {
   "cell_type": "code",
   "execution_count": null,
   "metadata": {},
   "outputs": [],
   "source": [
    "# See how a summation expression is constructed:\n",
    "sum_01.expr_info()"
   ]
  },
  {
   "cell_type": "markdown",
   "metadata": {},
   "source": [
    "We can access the various component elements of a Sum, including the index or indices, the summand, the domain, etc:"
   ]
  },
  {
   "cell_type": "code",
   "execution_count": null,
   "metadata": {},
   "outputs": [],
   "source": [
    "# the index\n",
    "sum_02.index"
   ]
  },
  {
   "cell_type": "code",
   "execution_count": null,
   "metadata": {},
   "outputs": [],
   "source": [
    "# multiple ind4)\n",
    "sum_04.indices"
   ]
  },
  {
   "cell_type": "code",
   "execution_count": null,
   "metadata": {},
   "outputs": [],
   "source": [
    "# the domain\n",
    "display(sum_02)\n",
    "sum_02.domain"
   ]
  },
  {
   "cell_type": "code",
   "execution_count": null,
   "metadata": {},
   "outputs": [],
   "source": [
    "# the domain's lower bound\n",
    "display(sum_03)\n",
    "sum_03.domain.lower_bound"
   ]
  },
  {
   "cell_type": "code",
   "execution_count": null,
   "metadata": {},
   "outputs": [],
   "source": [
    "# the summand\n",
    "display(sum_02)\n",
    "sum_02.summand"
   ]
  },
  {
   "cell_type": "markdown",
   "metadata": {},
   "source": [
    "We can also dig into a Sum to find pieces of components:"
   ]
  },
  {
   "cell_type": "code",
   "execution_count": null,
   "metadata": {},
   "outputs": [],
   "source": [
    "display(sum_01)\n",
    "sum_01.summand.operands[1]"
   ]
  },
  {
   "cell_type": "markdown",
   "metadata": {},
   "source": [
    "## Demonstrations <a id='further_demonstrations'></a>"
   ]
  },
  {
   "cell_type": "markdown",
   "metadata": {},
   "source": [
    "<div style=\"width: 90%; border: 5px solid green; padding: 10px; margin: 0px;\"><a id='demo01'></a><font size=4><b>1.</b> TBA</font></div>"
   ]
  },
  {
   "cell_type": "markdown",
   "metadata": {},
   "source": [
    "<div style=\"width: 90%; border: 5px solid green; padding: 10px; margin: 0px;\"><a id='demo01'></a><font size=4><b>2.</b> TBA</font></div>"
   ]
  },
  {
   "cell_type": "markdown",
   "metadata": {},
   "source": [
    "<div style=\"width: 90%; border: 5px solid green; padding: 10px; margin: 0px;\"><a id='demo01'></a><font size=4><b>3.</b> TBA</font></div>"
   ]
  },
  {
   "cell_type": "markdown",
   "metadata": {},
   "source": [
    "## Miscellaneous Testing\n",
    "The material below was developed to test various enumerated Set and Set-related methods. Some of this material could be integrated into the `_demonstrations_` page eventually and/or deleted as development continues."
   ]
  },
  {
   "cell_type": "markdown",
   "metadata": {},
   "source": [
    "### Testing Sum.deduce_in_number_set()"
   ]
  },
  {
   "cell_type": "code",
   "execution_count": null,
   "metadata": {},
   "outputs": [],
   "source": [
    "# define some summations for testing\n",
    "sum_1_to_5, sum_2_to_6_i_plus_2, sum_a_to_b, sum_a_to_nine = (\n",
    "        Sum(i, i, domain=Interval(one, five)),\n",
    "        Sum(i, Add(i, two), domain=Interval(two, six)),\n",
    "        Sum(j, j, domain=Interval(a, b)),\n",
    "        Sum(k, subtract(k, two), domain=Interval(a, nine)))"
   ]
  },
  {
   "cell_type": "code",
   "execution_count": null,
   "metadata": {},
   "outputs": [],
   "source": [
    "# Integer\n",
    "sum_1_to_5.deduce_in_number_set(Integer)"
   ]
  },
  {
   "cell_type": "code",
   "execution_count": null,
   "metadata": {},
   "outputs": [],
   "source": [
    "# Natural\n",
    "sum_a_to_b.deduce_in_number_set(Natural, assumptions=[InSet(a, Natural), InSet(b, Natural)])"
   ]
  },
  {
   "cell_type": "code",
   "execution_count": null,
   "metadata": {},
   "outputs": [],
   "source": [
    "# NaturalPos\n",
    "sum_a_to_b.deduce_in_number_set(NaturalPos, assumptions=[InSet(a, NaturalPos), InSet(b, NaturalPos)])"
   ]
  },
  {
   "cell_type": "code",
   "execution_count": null,
   "metadata": {},
   "outputs": [],
   "source": [
    "sum_2_to_6_i_plus_2.deduce_in_number_set(Complex)"
   ]
  },
  {
   "cell_type": "markdown",
   "metadata": {},
   "source": [
    "### Testing the Sum.shift() method\n",
    "Notice that we also see a limited simplification of the resulting shifted index expressions and shifted summand."
   ]
  },
  {
   "cell_type": "code",
   "execution_count": null,
   "metadata": {},
   "outputs": [],
   "source": [
    "sum_2_to_6_i_plus_2.shift(one)"
   ]
  },
  {
   "cell_type": "code",
   "execution_count": null,
   "metadata": {},
   "outputs": [],
   "source": [
    "sum_01.shift(two)"
   ]
  },
  {
   "cell_type": "code",
   "execution_count": null,
   "metadata": {},
   "outputs": [],
   "source": [
    "sum_a_to_b.shift(three, assumptions=[InSet(a, Natural), InSet(b, Natural)])"
   ]
  },
  {
   "cell_type": "markdown",
   "metadata": {},
   "source": [
    "### Testing the `Sum.split()`, `Sum.split_off_first()`, and `Sum.split_off_last` methods\n",
    "Notice that we also see a limited simplification of the resulting index and summand expressions."
   ]
  },
  {
   "cell_type": "code",
   "execution_count": null,
   "metadata": {},
   "outputs": [],
   "source": [
    "# Basic splitting. Notice the lower index value expression for\n",
    "# the second sum has been simplified from 4+1 to 5\n",
    "sum_2_to_6_i_plus_2.split(four)"
   ]
  },
  {
   "cell_type": "code",
   "execution_count": null,
   "metadata": {},
   "outputs": [],
   "source": [
    "# Still pretty basic, but with a variable lower-bound; again, the\n",
    "# lower index value for second sum as been simplifed (7 + 1 = 8)\n",
    "sum_a_to_nine.split(seven, assumptions=[InSet(a, Integer), LessEq(a, seven)])"
   ]
  },
  {
   "cell_type": "code",
   "execution_count": null,
   "metadata": {},
   "outputs": [],
   "source": [
    "# This allows the splitting off of the last term but still keeping it\n",
    "# in a summation\n",
    "sum_a_to_nine.split(eight, assumptions=[InSet(a, Integer), LessEq(a, seven)])"
   ]
  },
  {
   "cell_type": "code",
   "execution_count": null,
   "metadata": {},
   "outputs": [],
   "source": [
    "# With these options, the split() method ends up calling the\n",
    "# split_out_last() method and simplifying the last term\n",
    "sum_a_to_nine.split(nine, side='before', assumptions=[InSet(a, Integer), LessEq(a, seven)])"
   ]
  },
  {
   "cell_type": "code",
   "execution_count": null,
   "metadata": {},
   "outputs": [],
   "source": [
    "# We can also explicitly use split_off_last and suppress the\n",
    "# simplification of the term being peeled off\n",
    "sum_a_to_nine.split_off_last(simplify_summand=False, assumptions=[InSet(a, Integer), LessEq(a, seven)])"
   ]
  },
  {
   "cell_type": "code",
   "execution_count": null,
   "metadata": {},
   "outputs": [],
   "source": [
    "# Or we can also explicitly use split_off_last and allow\n",
    "# simplification of the term being peeled off\n",
    "sum_a_to_nine.split_off_last(assumptions=[InSet(a, Integer), LessEq(a, seven)])"
   ]
  },
  {
   "cell_type": "code",
   "execution_count": null,
   "metadata": {},
   "outputs": [],
   "source": [
    "# Here we call split, which in turn calls split_off_first\n",
    "sum_2_to_6_i_plus_2.split(two, side='after')"
   ]
  },
  {
   "cell_type": "code",
   "execution_count": null,
   "metadata": {},
   "outputs": [],
   "source": [
    "# Or we can manually call split_off_first\n",
    "sum_2_to_6_i_plus_2.split_off_first(two)"
   ]
  },
  {
   "cell_type": "code",
   "execution_count": null,
   "metadata": {},
   "outputs": [],
   "source": [
    "# And we can also use split_off_first and suppress\n",
    "# the simplification of the resulting split-off value\n",
    "sum_2_to_6_i_plus_2.split_off_first(two, simplify_summand=False)"
   ]
  },
  {
   "cell_type": "markdown",
   "metadata": {},
   "source": [
    "### Testing the `Sum.join()` method\n",
    "Notice that we also see a limited simplification of the resulting index and summand expressions."
   ]
  },
  {
   "cell_type": "code",
   "execution_count": null,
   "metadata": {},
   "outputs": [],
   "source": [
    "# define two simple, contiguous summations:\n",
    "sum_1_to_5_i_squared, sum_6_to_9_i_squared, sum_5_plus_1_to_9_i_squared = (\n",
    "    Sum(i, Exp(i, two), domain=Interval(one, five)),\n",
    "    Sum(i, Exp(i, two), domain=Interval(six, nine)),\n",
    "    Sum(i, Exp(i, two), domain=Interval(Add(five, one), nine)))"
   ]
  },
  {
   "cell_type": "code",
   "execution_count": null,
   "metadata": {},
   "outputs": [],
   "source": [
    "sum_7_to_9_i_squared = Sum(i, Exp(i, two), domain=Interval(seven, nine))"
   ]
  },
  {
   "cell_type": "code",
   "execution_count": null,
   "metadata": {},
   "outputs": [],
   "source": [
    "# This format used to be required, where the upper index value of first sum\n",
    "# and lower index value of second sum had to be explicitly related by a ±1\n",
    "# This still works as originally coded but should now also simplify the\n",
    "# index values if desired and possible\n",
    "sum_1_to_5_i_squared.join(sum_5_plus_1_to_9_i_squared)"
   ]
  },
  {
   "cell_type": "code",
   "execution_count": null,
   "metadata": {},
   "outputs": [],
   "source": [
    "# Of course, with the explicit ±1 notation, we can also tell Prove-It\n",
    "# to leave the indices un-simplified\n",
    "sum_1_to_5_i_squared.join(sum_5_plus_1_to_9_i_squared, simplify_idx=False)"
   ]
  },
  {
   "cell_type": "code",
   "execution_count": null,
   "metadata": {},
   "outputs": [],
   "source": [
    "# Now we can also proceed with the implicit ±1 relationship\n",
    "# between the upper index value of first sum and lower index value\n",
    "# of second sum, at least in simple cases.\n",
    "sum_1_to_5_i_squared.join(sum_6_to_9_i_squared)"
   ]
  },
  {
   "cell_type": "code",
   "execution_count": null,
   "metadata": {},
   "outputs": [],
   "source": [
    "try:\n",
    "    sum_1_to_5_i_squared.join(sum_7_to_9_i_squared)\n",
    "except Exception as myException:\n",
    "    print(\"Error: {}\".format(myException))"
   ]
  },
  {
   "cell_type": "markdown",
   "metadata": {},
   "source": [
    "### Testing Try/Except with an additional Assert in the Try"
   ]
  },
  {
   "cell_type": "code",
   "execution_count": null,
   "metadata": {},
   "outputs": [],
   "source": [
    "shallow = True\n",
    "try:\n",
    "    assert not shallow\n",
    "    print(\"Inside try block, test_flag was {}\".format(shallow))\n",
    "except (AssertionError or Exception) as myException:\n",
    "    print(\"Inside except block, shallow was {}\".format(shallow))\n",
    "    print(\"Exception was: {}\".format(myException))\n",
    "    print(\"Something else!\")"
   ]
  },
  {
   "cell_type": "markdown",
   "metadata": {},
   "source": [
    "### Testing Sum.deduce_bound()"
   ]
  },
  {
   "cell_type": "code",
   "execution_count": null,
   "metadata": {},
   "outputs": [],
   "source": [
    "sum_expr = Sum(l, al, domain=Interval(m, n))"
   ]
  },
  {
   "cell_type": "code",
   "execution_count": null,
   "metadata": {},
   "outputs": [],
   "source": [
    "weak_summand_relation = Forall(k, LessEq(ak, bk), domain=Interval(m, n))"
   ]
  },
  {
   "cell_type": "code",
   "execution_count": null,
   "metadata": {},
   "outputs": [],
   "source": [
    "sum_expr.deduce_bound(weak_summand_relation, [weak_summand_relation])"
   ]
  },
  {
   "cell_type": "code",
   "execution_count": null,
   "metadata": {},
   "outputs": [],
   "source": [
    "strong_summand_relation = Forall(k, Less(ak, bk), domain=Interval(m, n))"
   ]
  },
  {
   "cell_type": "code",
   "execution_count": null,
   "metadata": {},
   "outputs": [],
   "source": [
    "greater(a, zero).prove([greater(a, zero)])"
   ]
  },
  {
   "cell_type": "code",
   "execution_count": null,
   "metadata": {},
   "outputs": [],
   "source": [
    "# Note, with some added Interval automation, we should be able to get this to\n",
    "# work assuming m >= n rather than |{m...n}| > 0.  Change this in the future.\n",
    "sum_expr.deduce_bound(strong_summand_relation, [strong_summand_relation, greater(Card(Interval(m, n)), zero)])"
   ]
  },
  {
   "cell_type": "code",
   "execution_count": null,
   "metadata": {},
   "outputs": [],
   "source": [
    "sum_expr = Sum(l, Mult(c, Add(l, one)), domain=Integer)"
   ]
  },
  {
   "cell_type": "code",
   "execution_count": null,
   "metadata": {},
   "outputs": [],
   "source": [
    "sum_expr.factorization(c, assumptions=[InSet(c, Complex)])"
   ]
  },
  {
   "cell_type": "code",
   "execution_count": null,
   "metadata": {},
   "outputs": [],
   "source": [
    "sum_expr.factorization(c, pull='right', \n",
    "                       assumptions=[InSet(c, Complex)])"
   ]
  },
  {
   "cell_type": "code",
   "execution_count": null,
   "metadata": {},
   "outputs": [],
   "source": [
    "sum_expr = Sum(l, Mult(a, b, Add(l, one)), domain=Integer)"
   ]
  },
  {
   "cell_type": "code",
   "execution_count": null,
   "metadata": {},
   "outputs": [],
   "source": [
    "sum_expr.factorization(Mult(a, b), assumptions=[InSet(a, Complex), InSet(b, Complex)])"
   ]
  },
  {
   "cell_type": "code",
   "execution_count": null,
   "metadata": {},
   "outputs": [],
   "source": [
    "sum_expr.factorization(Mult(a, b), pull='right', assumptions=[InSet(a, Complex), InSet(b, Complex)])"
   ]
  },
  {
   "cell_type": "code",
   "execution_count": null,
   "metadata": {},
   "outputs": [],
   "source": [
    "%end demonstrations"
   ]
  }
 ],
 "metadata": {
  "kernelspec": {
   "display_name": "Python 3",
   "language": "python",
   "name": "python3"
  }
 },
 "nbformat": 4,
 "nbformat_minor": 0
}
