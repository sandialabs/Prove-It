{
 "cells": [
  {
   "cell_type": "markdown",
   "metadata": {},
   "source": [
    "Demonstrations for the theory of <a class=\"ProveItLink\" href=\"theory.ipynb\">proveit.numbers.summation</a>\n",
    "========"
   ]
  },
  {
   "cell_type": "code",
   "execution_count": 1,
   "metadata": {},
   "outputs": [],
   "source": [
    "import proveit\n",
    "from proveit import Function\n",
    "from proveit import a, b, c, f, i, j, k, l, m, n, x, fi, fij, A, B\n",
    "from proveit.core_expr_types import f_1_to_i\n",
    "from proveit.logic import Forall, InSet, Card\n",
    "from proveit.numbers import zero, one, two, three, four, five, six, seven, eight, nine, infinity\n",
    "from proveit.numbers import (Add, Exp, frac, greater, Less, LessEq, Mult, num, subtract, Sum )\n",
    "from proveit.numbers import Complex, Integer, Interval, Natural, NaturalPos\n",
    "from proveit.numbers.summation import al, bl, ak, bk\n",
    "%begin demonstrations"
   ]
  },
  {
   "cell_type": "markdown",
   "metadata": {},
   "source": [
    "# Summations $\\sum_{i=1}^{n}f(i)$"
   ]
  },
  {
   "cell_type": "markdown",
   "metadata": {},
   "source": [
    "<div style=\"line-height:1.4; font-size:14pt\">\n",
    "<a href='#introduction'>Introduction</a><br>\n",
    "<a href='#simple_expressions'>Simple Expressions involving the Sum class</a><br>\n",
    "<a href='#common_attributes'>Common Attributes of a Sum</a><br>\n",
    "<a href='#further_demonstrations'>Further Demonstrations</a><br>\n",
    "    <ol>\n",
    "        <li><a href='#demo01'>TBA</a></li>\n",
    "        <li><a href='#demo02'>TBA</a></li>\n",
    "        <li><a href='#demo03'>TBA</a></li>\n",
    "    </ol>\n",
    "<a href='#misc_testing'>Miscellaneous Testing</a><br>\n",
    "</div>"
   ]
  },
  {
   "cell_type": "markdown",
   "metadata": {},
   "source": [
    "## Introduction <a id='introduction'></a>"
   ]
  },
  {
   "cell_type": "markdown",
   "metadata": {},
   "source": [
    "Finite and infinite summations of the form $\\sum_{i=m}^{n}f(i)$ arise in a wide variety of contexts, both as objects of study in their own right and as concise notational tools used within a variety of topics. Such summations are constructed in Prove-It using the `Sum` class defined in `sum.py`.<br/>"
   ]
  },
  {
   "cell_type": "markdown",
   "metadata": {},
   "source": [
    "## Simple Expressions Involving Summations<a id='simple_expressions'></a>"
   ]
  },
  {
   "cell_type": "markdown",
   "metadata": {},
   "source": [
    "Summations are easy to construct using the Sum class, and such Sum objects are easily incorporated into other expressions. A summation object is created by invoking the `Sum` class as follows:<br/>\n",
    "\n",
    "`Sum(index_or_indices, summand, domain=None, domains=None, condition=None,\n",
    "     conditions=None, _lambda_map=None)`\n",
    "     \n",
    "Notice that the index argument and summand arguments are not optional. For example, we cannot create a generic summation expression such as $\\sum f(x)$ with no index specified. We can create a summation, though, in which the domain for the index remains unspecified, such as $sum_{i}f(i)$.</br>\n",
    "\n",
    "Notice also that Prove-It summations using the `Sum` class are defined only for indices that range over contiguous integer domains such as an integral interval (created using the `Interval` class) or the entire set of naturals $\\mathbb{N}$ (for example, specified using `domain=Natural`)."
   ]
  },
  {
   "cell_type": "code",
   "execution_count": 2,
   "metadata": {},
   "outputs": [
    {
     "data": {
      "text/html": [
       "<a class=\"ProveItLink\" href=\"../__pv_it/demonstrations/0e14957880da9c8bd45f703ed2aec4968dcd21f40/expr.ipynb\"><img src=\"data:image/png;base64,iVBORw0KGgoAAAANSUhEUgAAAEwAAAAsBAMAAAA9TUNCAAAAMFBMVEX///8AAAAAAAAAAAAAAAAA\n",
       "AAAAAAAAAAAAAAAAAAAAAAAAAAAAAAAAAAAAAAAAAAAv3aB7AAAAD3RSTlMAzXZUMhAiRKvv3WaZ\n",
       "u4mNgo6tAAAACXBIWXMAAA7EAAAOxAGVKw4bAAABxUlEQVQ4y2OQ/48AnxhwAvv/DmCaNV1j/k/c\n",
       "yjj+L4Axudcb4Fa3/gecyXMBtzL//xvg7GPokmxwgun/N7goN7oyZRDBrgAi7//CYgfPuwAgyfwA\n",
       "aMwBBm2QSOT/A5jKXniCvBMIxFwPGBhBWtj/f8ZUNrkWJHUa6hawOe9/BqCrYv8KpiZAuVNBBON/\n",
       "AXRlfODAZIaJS4MjYP4/NFXcnStA9vAAfRAEsvgFSoQhAD84DBiBIfqgEsjYCPH9/6loyvLB+rgM\n",
       "GFgMDgIZltAIQ08b9mCSs4CBlWESKKagmhegKXsFU8bADPJzJURUMwFN2Q0GqKUMjA3A0LKChNIX\n",
       "9ACZBCZ5gR6JLwB6dy8kkaCnM7bvkNBrAMqxAb17Dhxuk9ANY/4ApliATubYDWQsBwcPRtTzNEDo\n",
       "JVDDwT68i67KghHqij1QXaCEy7MUYRmEWhsI5fNCQiAXROxEhMZmCLUJlthZIZnjGmpoME9Atz4J\n",
       "nA1A5uTDQ4P1/AGcGQsRGsn9GAkFARg/CoLBqvn////CnU3PI5UhvxmGMggjTtmjAXBaUQMxqlgV\n",
       "vhKjjC14AVGW8ioQpSw+hChlhjxEKYtQwy8PAJWQf2uLNzKBAAAAAElFTkSuQmCC\n",
       "\" style=\"display:inline;vertical-align:middle;\" /></a>"
      ],
      "text/plain": [
       "Sum_{i} f(i)"
      ]
     },
     "metadata": {},
     "output_type": "display_data"
    }
   ],
   "source": [
    "# A summation with summation index i, a generic summand, and no index domain\n",
    "Sum(i, fi)"
   ]
  },
  {
   "cell_type": "code",
   "execution_count": 3,
   "metadata": {},
   "outputs": [
    {
     "data": {
      "text/html": [
       "<strong id=\"sum_01\">sum_01:</strong> <a class=\"ProveItLink\" href=\"../__pv_it/demonstrations/53c58d7baf764b00be78132e2db656ce42af5bda0/expr.ipynb\"><img src=\"data:image/png;base64,iVBORw0KGgoAAAANSUhEUgAAAFkAAAA9BAMAAAA0QNjQAAAAMFBMVEX///8AAAAAAAAAAAAAAAAA\n",
       "AAAAAAAAAAAAAAAAAAAAAAAAAAAAAAAAAAAAAAAAAAAv3aB7AAAAD3RSTlMAdomrVDIQIkTvZrvd\n",
       "zZlR4kicAAAACXBIWXMAAA7EAAAOxAGVKw4bAAACKElEQVRIx2NgAAMhIQbiAbMCiwHxqvkD2L4R\n",
       "r7q+gOEH8ao5G1h/Ea+aY1vWFxK8mRLwnXjFrAkcB4hXzb2AN4AEd69SZRgFZIL7/xHgI0HV/v8h\n",
       "8cJWITz/J+GM8B8e51znHQgqP/8ZzuTbQFB1/P8FcPZzMMmOXWEBiGD8j0isXGBSBLvqRjC5/w+q\n",
       "KIsC0IgHaEn6GFAM7IbM/6hSuUDMo4AilPwWlMmvgZPrf9Rc9gqJ3QWlGUGq14GZ+j8TkFVPQGI7\n",
       "IqvmBCvj/X8B2dkXcKnmBTucbf4nJAV8QCcnvsKmmskAJfbBAGSCQic21VwQW/n+T0Oo5nFgYHV4\n",
       "i001C9RH5z8il1sMbAwTQaw3Z87MPHPmMFw16wdoOXgARTUDyzdsZnNAzZYsQHEJA69BAjaXQMzk\n",
       "+IpcEgkwMOQ3KGDzJSSJxiOna1A4xbMvQFXN9B0atsDwnoiSgID2Ma9CdTez5V8roBsbwCGMmqqO\n",
       "YolLMKgBk7tRU+c6LKkKkdz4jiHSCNibBdhzAzvYkysRskvA3sCRO8GmIAUfNGoLsasWB8cjPPjY\n",
       "3j8glOURwVdi/59gBcH79y4YnJn///8fgsXJe6Ry8BfDKICAdJJUK8IYSqQ0l7gEODYQr5ozgIFw\n",
       "s6MR1v6qT2CYQjBVCXxjeL0bCBbEJzCcIqSaPQVW8gBVTyTckhFAuIRw4yo/FeoSonzpywcrjwQ4\n",
       "CDc4k8XhsSOXQEAtAMjVraSys6ZbAAAAAElFTkSuQmCC\n",
       "\" style=\"display:inline;vertical-align:middle;\" /></a><br>"
      ],
      "text/plain": [
       "<IPython.core.display.HTML object>"
      ]
     },
     "metadata": {},
     "output_type": "display_data"
    }
   ],
   "source": [
    "# A simple summation representing the sum of the first\n",
    "# ten positive integers\n",
    "sum_01 = Sum(i, Add(i, one), domain=Interval(zero, nine))"
   ]
  },
  {
   "cell_type": "code",
   "execution_count": 4,
   "metadata": {},
   "outputs": [
    {
     "data": {
      "text/html": [
       "<strong id=\"sum_02\">sum_02:</strong> <a class=\"ProveItLink\" href=\"../__pv_it/demonstrations/07dbf0bd6bcb5fbbcde2aa213801fd9dbf726f100/expr.ipynb\"><img src=\"data:image/png;base64,iVBORw0KGgoAAAANSUhEUgAAADsAAAA2BAMAAACLlfxeAAAAMFBMVEX///8AAAAAAAAAAAAAAAAA\n",
       "AAAAAAAAAAAAAAAAAAAAAAAAAAAAAAAAAAAAAAAAAAAv3aB7AAAAD3RSTlMAzXZUMhAiRKvv3WaZ\n",
       "u4mNgo6tAAAACXBIWXMAAA7EAAAOxAGVKw4bAAABrUlEQVQ4y2NgwAFYljLgAREHv+KTZmAa6tLy\n",
       "/xHgE6a0/X8HMM2arjH/J6Y0x/8FMBHu9QaYdq//ARfiuYCQ5vsGof3/b4CLHYOzODo/dkNM+f8N\n",
       "LsiNxQv3f+H1YeT/A/ik2f9/xqv9/c8AfNKM/wXwSbPO/4fXdFjA4gA8/6eiCsDi6AM0YD/hNT1/\n",
       "AV5pzQS8AfMFi2Dci1Yoy98Ai/QBhlNQf0/ClNRh+M6QD/EuI5YoWcewFSZ9F4eTXkECBZFVmbFk\n",
       "4Z0IX21Gls4NQPMV8wRYJOlsYGA7wAbSlw/3Fet5mBv52Ccw5Lr4BCD7KrkfHnHOPAIM8///B/nq\n",
       "oyAYrAJy4WkygFMByjqPlMd+I1IA3uTFIMGKN3l958MnzfIhG6/h3fB8x4o3KTDwQfzAtuY5w84G\n",
       "7Eqceq8zWPAF8GD3Ds8RIGGtcACLc9k1GBi0QQwT8yQs0kH8AazgMsOEL7gOUzrVioEd7AsThgO6\n",
       "WCy+xMAte/fuZaB0HCOW8PvqwPIAopvdCFOaWeAAw1UQYzsDgwYW3U0JDLnAZMCyMIGBA0cEvb17\n",
       "HbsMAGMylBf+zpLiAAAAAElFTkSuQmCC\n",
       "\" style=\"display:inline;vertical-align:middle;\" /></a><br>"
      ],
      "text/plain": [
       "<IPython.core.display.HTML object>"
      ]
     },
     "metadata": {},
     "output_type": "display_data"
    }
   ],
   "source": [
    "# An infinite geometric sum\n",
    "sum_02 = Sum(i, frac(one, Exp(i, two)), domain=Natural)"
   ]
  },
  {
   "cell_type": "code",
   "execution_count": 5,
   "metadata": {},
   "outputs": [
    {
     "data": {
      "text/html": [
       "<strong id=\"sum_03\">sum_03:</strong> <a class=\"ProveItLink\" href=\"../__pv_it/demonstrations/bb2e9d2288d59e0a058f297efe7d4a7399ecc2230/expr.ipynb\"><img src=\"data:image/png;base64,iVBORw0KGgoAAAANSUhEUgAAAEEAAAA5BAMAAACbqFvaAAAAMFBMVEX///8AAAAAAAAAAAAAAAAA\n",
       "AAAAAAAAAAAAAAAAAAAAAAAAAAAAAAAAAAAAAAAAAAAv3aB7AAAAD3RSTlMAZnZEEDKrVM0iu++Z\n",
       "id3h5WM3AAAACXBIWXMAAA7EAAAOxAGVKw4bAAAB4UlEQVQ4y92UPSwDYRjH/+0dbfVCE0EUcb4a\n",
       "8bFaLEckBoaLxCTiCDEykkiYhImEMBjaBAuDEh+JpWXxEdRm8pVIbL6iaIRX02t71/fetrtnep/k\n",
       "d8/n/x4gYqYKoKkKyY0fHJm2DHCO5IQZWM8HRpMTJsD6DrSmJLL2gc7khEXG0dIK709RasmZzN9M\n",
       "Svj/NkM0e2MS40RW1zfn8n0ziUxyF5/+8zATef6IPwUPk+ghmjBO2OogIf2WY1acV66UrarvjV+W\n",
       "7nI3sQuX6rQRxt5tzRMI4lx1OPLJ6lHM8OIx6tx+M6Rhl80e24s6K1jJhJFwh6OYPNH8vO8nocjy\n",
       "/u4rNMA6a+uTqMlH5waXeEFFFMi2zitEqdRrmLx+qzKOGWXdJbhbRqJ2Vu9xIbRQABfUt7Kc6cUl\n",
       "vV69LizBdi9HCYVPyMsfimMFVAirP52Y19IBwoNWA5so0lotYAK6Vi1eJuGOd8YHmCVrrS4OJaxY\n",
       "a/VrKmJPPkJ+mUkCuv/29T8dpOv6NIBJ5DypCbuMkOGrgw6X2RkbtlvCHk00NTrsilnB6VrYHD0S\n",
       "7mlivho5shBTdpgw/ip96EL2sJbFeEp2UAN3RjQLq1LbSziKU4gdPZFTDBJUMI2FyvjE6uhr9Adq\n",
       "UZSj/zFPcAAAAABJRU5ErkJggg==\n",
       "\" style=\"display:inline;vertical-align:middle;\" /></a><br>"
      ],
      "text/plain": [
       "<IPython.core.display.HTML object>"
      ]
     },
     "metadata": {},
     "output_type": "display_data"
    }
   ],
   "source": [
    "# A more explicitly-indexed version of an infinite sum\n",
    "sum_03 = Sum(m,Exp(x,m), domain=Interval(zero,infinity))"
   ]
  },
  {
   "cell_type": "code",
   "execution_count": 6,
   "metadata": {},
   "outputs": [
    {
     "data": {
      "text/html": [
       "<strong id=\"sum_04\">sum_04:</strong> <a class=\"ProveItLink\" href=\"../__pv_it/demonstrations/72f0c75b4018b45d15e15fd22281d68937491c650/expr.ipynb\"><img src=\"data:image/png;base64,iVBORw0KGgoAAAANSUhEUgAAAGMAAAAvBAMAAAAFj2mxAAAAMFBMVEX///8AAAAAAAAAAAAAAAAA\n",
       "AAAAAAAAAAAAAAAAAAAAAAAAAAAAAAAAAAAAAAAAAAAv3aB7AAAAD3RSTlMAzXZUMhAiRKvv3WaZ\n",
       "u4mNgo6tAAAACXBIWXMAAA7EAAAOxAGVKw4bAAACFUlEQVRIx2OQ/48AnxiIAvb/HcA0a7rG/J/E\n",
       "aeH4vwDG5F5vQJye9T/gTJ4LxGnx/78Bzj6GEE7ArhoszPT/G1yAG85iwuHGIjB5/xcWKTsg1kEX\n",
       "ZLnKwAR2UuT/Axg6WAWAxDp0USagqCiIwf7/M4YWHoT/GNg3IMvsAZPvfwaga+FEYjMroMiA1TL+\n",
       "F0DXYohTCyPYTtb5/9C1nAOK6mxA0xKkAST4GlASDQJIA+XYJ6BpOcAJNIQb4iKe/1PRtCxmYHDm\n",
       "EUDVwpTAD4wsZqhB69HT8HQGhgBOkFKeVatWzlq1CuQaVgZ7oNdZPkBU5C/A1AJWgOr9U6Agh9qi\n",
       "mYDpMAYJVnQtoLhlhpjO/gU9xC4B3fGdD00L23dQMoSkdn+MNPgC5OhsNC3cIG/wPADHyySMBOMF\n",
       "xN3o8cIBsoCrAByhmMmSywFL7IODMAvMvIuZ9rkPYCRLDoP9oCA8DY7IpQgD4axrmLnXABSMbGDf\n",
       "70SE8GY4KxYzP+iAfMGbgBrCsMQAMk0Be0ZWA8c8PIRZzx8gqoBBhHByP0aCxg4YPwqCwar5////\n",
       "Iq4YO49UJv9mGImAFRL9DiRo4YPE9JLB5hV2DbCHdAyI1xLED8o6PMwCxGtJtQKRoXwHSHDZJaQi\n",
       "ncho+QqOEf4E4rUwCxxgBRZOnqREflMCy2QGBg0SA5oZXKWQBEoZSyaQqGUDj04AsWoB9yWH19g0\n",
       "QrEAAAAASUVORK5CYII=\n",
       "\" style=\"display:inline;vertical-align:middle;\" /></a><br>"
      ],
      "text/plain": [
       "<IPython.core.display.HTML object>"
      ]
     },
     "metadata": {},
     "output_type": "display_data"
    }
   ],
   "source": [
    "# A sum over multiple indices\n",
    "sum_04 = Sum((i,j), Add(i,j))"
   ]
  },
  {
   "cell_type": "code",
   "execution_count": 7,
   "metadata": {},
   "outputs": [
    {
     "name": "stdout",
     "output_type": "stream",
     "text": [
      "Exception: Sum class not yet implemented for multiple domains nor for multiple indices.\n"
     ]
    }
   ],
   "source": [
    "# Even though we can create a summation over multiple indices,\n",
    "# the Sum class is not yet implemented to handle such indices nor\n",
    "# the extension to multiple index domains:\n",
    "try:\n",
    "    sum_04 = Sum((i,j), Add(i,j), domains=[A, B])\n",
    "except Exception as e:\n",
    "    print(\"Exception: {}\".format(e))"
   ]
  },
  {
   "cell_type": "markdown",
   "metadata": {},
   "source": [
    "## Common Attributes of Sum expressions <a id='common_attributes'></a>"
   ]
  },
  {
   "cell_type": "markdown",
   "metadata": {},
   "source": [
    "Let's look at some simple examples of summations and their common attributes."
   ]
  },
  {
   "cell_type": "code",
   "execution_count": 8,
   "metadata": {},
   "outputs": [
    {
     "data": {
      "text/html": [
       "<a class=\"ProveItLink\" href=\"../__pv_it/demonstrations/53c58d7baf764b00be78132e2db656ce42af5bda0/expr.ipynb\"><img src=\"data:image/png;base64,iVBORw0KGgoAAAANSUhEUgAAAFkAAAA9BAMAAAA0QNjQAAAAMFBMVEX///8AAAAAAAAAAAAAAAAA\n",
       "AAAAAAAAAAAAAAAAAAAAAAAAAAAAAAAAAAAAAAAAAAAv3aB7AAAAD3RSTlMAdomrVDIQIkTvZrvd\n",
       "zZlR4kicAAAACXBIWXMAAA7EAAAOxAGVKw4bAAACKElEQVRIx2NgAAMhIQbiAbMCiwHxqvkD2L4R\n",
       "r7q+gOEH8ao5G1h/Ea+aY1vWFxK8mRLwnXjFrAkcB4hXzb2AN4AEd69SZRgFZIL7/xHgI0HV/v8h\n",
       "8cJWITz/J+GM8B8e51znHQgqP/8ZzuTbQFB1/P8FcPZzMMmOXWEBiGD8j0isXGBSBLvqRjC5/w+q\n",
       "KIsC0IgHaEn6GFAM7IbM/6hSuUDMo4AilPwWlMmvgZPrf9Rc9gqJ3QWlGUGq14GZ+j8TkFVPQGI7\n",
       "IqvmBCvj/X8B2dkXcKnmBTucbf4nJAV8QCcnvsKmmskAJfbBAGSCQic21VwQW/n+T0Oo5nFgYHV4\n",
       "i001C9RH5z8il1sMbAwTQaw3Z87MPHPmMFw16wdoOXgARTUDyzdsZnNAzZYsQHEJA69BAjaXQMzk\n",
       "+IpcEgkwMOQ3KGDzJSSJxiOna1A4xbMvQFXN9B0atsDwnoiSgID2Ma9CdTez5V8roBsbwCGMmqqO\n",
       "YolLMKgBk7tRU+c6LKkKkdz4jiHSCNibBdhzAzvYkysRskvA3sCRO8GmIAUfNGoLsasWB8cjPPjY\n",
       "3j8glOURwVdi/59gBcH79y4YnJn///8fgsXJe6Ry8BfDKICAdJJUK8IYSqQ0l7gEODYQr5ozgIFw\n",
       "s6MR1v6qT2CYQjBVCXxjeL0bCBbEJzCcIqSaPQVW8gBVTyTckhFAuIRw4yo/FeoSonzpywcrjwQ4\n",
       "CDc4k8XhsSOXQEAtAMjVraSys6ZbAAAAAElFTkSuQmCC\n",
       "\" style=\"display:inline;vertical-align:middle;\" /></a>"
      ],
      "text/plain": [
       "Sum_{i = 0}^{9} (i + 1)"
      ]
     },
     "metadata": {},
     "output_type": "display_data"
    },
    {
     "data": {
      "text/html": [
       "<a class=\"ProveItLink\" href=\"../__pv_it/demonstrations/07dbf0bd6bcb5fbbcde2aa213801fd9dbf726f100/expr.ipynb\"><img src=\"data:image/png;base64,iVBORw0KGgoAAAANSUhEUgAAADsAAAA2BAMAAACLlfxeAAAAMFBMVEX///8AAAAAAAAAAAAAAAAA\n",
       "AAAAAAAAAAAAAAAAAAAAAAAAAAAAAAAAAAAAAAAAAAAv3aB7AAAAD3RSTlMAzXZUMhAiRKvv3WaZ\n",
       "u4mNgo6tAAAACXBIWXMAAA7EAAAOxAGVKw4bAAABrUlEQVQ4y2NgwAFYljLgAREHv+KTZmAa6tLy\n",
       "/xHgE6a0/X8HMM2arjH/J6Y0x/8FMBHu9QaYdq//ARfiuYCQ5vsGof3/b4CLHYOzODo/dkNM+f8N\n",
       "LsiNxQv3f+H1YeT/A/ik2f9/xqv9/c8AfNKM/wXwSbPO/4fXdFjA4gA8/6eiCsDi6AM0YD/hNT1/\n",
       "AV5pzQS8AfMFi2Dci1Yoy98Ai/QBhlNQf0/ClNRh+M6QD/EuI5YoWcewFSZ9F4eTXkECBZFVmbFk\n",
       "4Z0IX21Gls4NQPMV8wRYJOlsYGA7wAbSlw/3Fet5mBv52Ccw5Lr4BCD7KrkfHnHOPAIM8///B/nq\n",
       "oyAYrAJy4WkygFMByjqPlMd+I1IA3uTFIMGKN3l958MnzfIhG6/h3fB8x4o3KTDwQfzAtuY5w84G\n",
       "7Eqceq8zWPAF8GD3Ds8RIGGtcACLc9k1GBi0QQwT8yQs0kH8AazgMsOEL7gOUzrVioEd7AsThgO6\n",
       "WCy+xMAte/fuZaB0HCOW8PvqwPIAopvdCFOaWeAAw1UQYzsDgwYW3U0JDLnAZMCyMIGBA0cEvb17\n",
       "HbsMAGMylBf+zpLiAAAAAElFTkSuQmCC\n",
       "\" style=\"display:inline;vertical-align:middle;\" /></a>"
      ],
      "text/plain": [
       "Sum_{i in Natural} (1 / i^{2})"
      ]
     },
     "metadata": {},
     "output_type": "display_data"
    },
    {
     "data": {
      "text/html": [
       "<a class=\"ProveItLink\" href=\"../__pv_it/demonstrations/bb2e9d2288d59e0a058f297efe7d4a7399ecc2230/expr.ipynb\"><img src=\"data:image/png;base64,iVBORw0KGgoAAAANSUhEUgAAAEEAAAA5BAMAAACbqFvaAAAAMFBMVEX///8AAAAAAAAAAAAAAAAA\n",
       "AAAAAAAAAAAAAAAAAAAAAAAAAAAAAAAAAAAAAAAAAAAv3aB7AAAAD3RSTlMAZnZEEDKrVM0iu++Z\n",
       "id3h5WM3AAAACXBIWXMAAA7EAAAOxAGVKw4bAAAB4UlEQVQ4y92UPSwDYRjH/+0dbfVCE0EUcb4a\n",
       "8bFaLEckBoaLxCTiCDEykkiYhImEMBjaBAuDEh+JpWXxEdRm8pVIbL6iaIRX02t71/fetrtnep/k\n",
       "d8/n/x4gYqYKoKkKyY0fHJm2DHCO5IQZWM8HRpMTJsD6DrSmJLL2gc7khEXG0dIK709RasmZzN9M\n",
       "Svj/NkM0e2MS40RW1zfn8n0ziUxyF5/+8zATef6IPwUPk+ghmjBO2OogIf2WY1acV66UrarvjV+W\n",
       "7nI3sQuX6rQRxt5tzRMI4lx1OPLJ6lHM8OIx6tx+M6Rhl80e24s6K1jJhJFwh6OYPNH8vO8nocjy\n",
       "/u4rNMA6a+uTqMlH5waXeEFFFMi2zitEqdRrmLx+qzKOGWXdJbhbRqJ2Vu9xIbRQABfUt7Kc6cUl\n",
       "vV69LizBdi9HCYVPyMsfimMFVAirP52Y19IBwoNWA5so0lotYAK6Vi1eJuGOd8YHmCVrrS4OJaxY\n",
       "a/VrKmJPPkJ+mUkCuv/29T8dpOv6NIBJ5DypCbuMkOGrgw6X2RkbtlvCHk00NTrsilnB6VrYHD0S\n",
       "7mlivho5shBTdpgw/ip96EL2sJbFeEp2UAN3RjQLq1LbSziKU4gdPZFTDBJUMI2FyvjE6uhr9Adq\n",
       "UZSj/zFPcAAAAABJRU5ErkJggg==\n",
       "\" style=\"display:inline;vertical-align:middle;\" /></a>"
      ],
      "text/plain": [
       "Sum_{m = 0}^{infinity} x^{m}"
      ]
     },
     "metadata": {},
     "output_type": "display_data"
    },
    {
     "data": {
      "text/html": [
       "<a class=\"ProveItLink\" href=\"../__pv_it/demonstrations/72f0c75b4018b45d15e15fd22281d68937491c650/expr.ipynb\"><img src=\"data:image/png;base64,iVBORw0KGgoAAAANSUhEUgAAAGMAAAAvBAMAAAAFj2mxAAAAMFBMVEX///8AAAAAAAAAAAAAAAAA\n",
       "AAAAAAAAAAAAAAAAAAAAAAAAAAAAAAAAAAAAAAAAAAAv3aB7AAAAD3RSTlMAzXZUMhAiRKvv3WaZ\n",
       "u4mNgo6tAAAACXBIWXMAAA7EAAAOxAGVKw4bAAACFUlEQVRIx2OQ/48AnxiIAvb/HcA0a7rG/J/E\n",
       "aeH4vwDG5F5vQJye9T/gTJ4LxGnx/78Bzj6GEE7ArhoszPT/G1yAG85iwuHGIjB5/xcWKTsg1kEX\n",
       "ZLnKwAR2UuT/Axg6WAWAxDp0USagqCiIwf7/M4YWHoT/GNg3IMvsAZPvfwaga+FEYjMroMiA1TL+\n",
       "F0DXYohTCyPYTtb5/9C1nAOK6mxA0xKkAST4GlASDQJIA+XYJ6BpOcAJNIQb4iKe/1PRtCxmYHDm\n",
       "EUDVwpTAD4wsZqhB69HT8HQGhgBOkFKeVatWzlq1CuQaVgZ7oNdZPkBU5C/A1AJWgOr9U6Agh9qi\n",
       "mYDpMAYJVnQtoLhlhpjO/gU9xC4B3fGdD00L23dQMoSkdn+MNPgC5OhsNC3cIG/wPADHyySMBOMF\n",
       "xN3o8cIBsoCrAByhmMmSywFL7IODMAvMvIuZ9rkPYCRLDoP9oCA8DY7IpQgD4axrmLnXABSMbGDf\n",
       "70SE8GY4KxYzP+iAfMGbgBrCsMQAMk0Be0ZWA8c8PIRZzx8gqoBBhHByP0aCxg4YPwqCwar5////\n",
       "Iq4YO49UJv9mGImAFRL9DiRo4YPE9JLB5hV2DbCHdAyI1xLED8o6PMwCxGtJtQKRoXwHSHDZJaQi\n",
       "ncho+QqOEf4E4rUwCxxgBRZOnqREflMCy2QGBg0SA5oZXKWQBEoZSyaQqGUDj04AsWoB9yWH19g0\n",
       "QrEAAAAASUVORK5CYII=\n",
       "\" style=\"display:inline;vertical-align:middle;\" /></a>"
      ],
      "text/plain": [
       "Sum_{i, j} (i + j)"
      ]
     },
     "metadata": {},
     "output_type": "display_data"
    }
   ],
   "source": [
    "# Recall some enumerated sets defined earlier:\n",
    "display(sum_01)\n",
    "display(sum_02)\n",
    "display(sum_03)\n",
    "display(sum_04)"
   ]
  },
  {
   "cell_type": "markdown",
   "metadata": {},
   "source": [
    "We can look at the construction of such expressions by calling <font style=\"font-family:courier\">expr_info()</font> to see the table version of the expression's underlying directed acyclic graph (DAG) representation:"
   ]
  },
  {
   "cell_type": "code",
   "execution_count": 9,
   "metadata": {},
   "outputs": [
    {
     "data": {
      "text/html": [
       "<table><tr><th>&nbsp;</th><th>core type</th><th>sub-expressions</th><th>expression</th></tr>\n",
       "<tr><td>0</td><td>Operation</td><td>operator:&nbsp;1<br>operand:&nbsp;3<br></td><td><a class=\"ProveItLink\" href=\"../__pv_it/demonstrations/53c58d7baf764b00be78132e2db656ce42af5bda0/expr.ipynb\"><img src=\"data:image/png;base64,iVBORw0KGgoAAAANSUhEUgAAAFkAAAA9BAMAAAA0QNjQAAAAMFBMVEX///8AAAAAAAAAAAAAAAAA\n",
       "AAAAAAAAAAAAAAAAAAAAAAAAAAAAAAAAAAAAAAAAAAAv3aB7AAAAD3RSTlMAdomrVDIQIkTvZrvd\n",
       "zZlR4kicAAAACXBIWXMAAA7EAAAOxAGVKw4bAAACKElEQVRIx2NgAAMhIQbiAbMCiwHxqvkD2L4R\n",
       "r7q+gOEH8ao5G1h/Ea+aY1vWFxK8mRLwnXjFrAkcB4hXzb2AN4AEd69SZRgFZIL7/xHgI0HV/v8h\n",
       "8cJWITz/J+GM8B8e51znHQgqP/8ZzuTbQFB1/P8FcPZzMMmOXWEBiGD8j0isXGBSBLvqRjC5/w+q\n",
       "KIsC0IgHaEn6GFAM7IbM/6hSuUDMo4AilPwWlMmvgZPrf9Rc9gqJ3QWlGUGq14GZ+j8TkFVPQGI7\n",
       "IqvmBCvj/X8B2dkXcKnmBTucbf4nJAV8QCcnvsKmmskAJfbBAGSCQic21VwQW/n+T0Oo5nFgYHV4\n",
       "i001C9RH5z8il1sMbAwTQaw3Z87MPHPmMFw16wdoOXgARTUDyzdsZnNAzZYsQHEJA69BAjaXQMzk\n",
       "+IpcEgkwMOQ3KGDzJSSJxiOna1A4xbMvQFXN9B0atsDwnoiSgID2Ma9CdTez5V8roBsbwCGMmqqO\n",
       "YolLMKgBk7tRU+c6LKkKkdz4jiHSCNibBdhzAzvYkysRskvA3sCRO8GmIAUfNGoLsasWB8cjPPjY\n",
       "3j8glOURwVdi/59gBcH79y4YnJn///8fgsXJe6Ry8BfDKICAdJJUK8IYSqQ0l7gEODYQr5ozgIFw\n",
       "s6MR1v6qT2CYQjBVCXxjeL0bCBbEJzCcIqSaPQVW8gBVTyTckhFAuIRw4yo/FeoSonzpywcrjwQ4\n",
       "CDc4k8XhsSOXQEAtAMjVraSys6ZbAAAAAElFTkSuQmCC\n",
       "\" style=\"display:inline;vertical-align:middle;\" /></a></td></tr>\n",
       "<tr><td>1</td><td>Literal</td><td></td><td><a class=\"ProveItLink\" href=\"../__pv_it/common/14fe61cccc388f91dfd83d3ca31cf27448cc070a0/expr.ipynb\"><img src=\"data:image/png;base64,iVBORw0KGgoAAAANSUhEUgAAABwAAAAdBAMAAABLfxECAAAAMFBMVEX///8AAAAAAAAAAAAAAAAA\n",
       "AAAAAAAAAAAAAAAAAAAAAAAAAAAAAAAAAAAAAAAAAAAv3aB7AAAAD3RSTlMAzXZUMhAiRKvv3WaZ\n",
       "u4mNgo6tAAAACXBIWXMAAA7EAAAOxAGVKw4bAAAAtElEQVQY02OQ/48AnxgY7P87MIAAa7rG/J8M\n",
       "DBz/FzBAAfd6AwaG9T9gXAaeCwwM/v83wPnHGBiY/n+Dc7mB+P4vBmQQ+f8AMpf9/2cU6fc/A5C5\n",
       "jP8FkLms8/+hqIY5FOaa/1NRpNd/QuHmL0DhaiagOOQLiqS/AYq9k1AkGVG8wHAXhcezFM5kBuKd\n",
       "CFs2o9jCPAHoIrgtrOcPINmS3A/0GONHQTBYNf//f2AYnkeKo98MAAjgScYLQ1DnAAAAAElFTkSu\n",
       "QmCC\n",
       "\" style=\"display:inline;vertical-align:middle;\" /></a></td></tr>\n",
       "<tr><td>2</td><td>ExprTuple</td><td>3</td><td><a class=\"ProveItLink\" href=\"../__pv_it/demonstrations/687c7925f9a500e66cd840c00a4b59ce479f1aaa0/expr.ipynb\"><img src=\"data:image/png;base64,iVBORw0KGgoAAAANSUhEUgAAAPkAAAAVCAMAAACzF7hbAAAANlBMVEX///8AAAAAAAAAAAAAAAAA\n",
       "AAAAAAAAAAAAAAAAAAAAAAAAAAAAAAAAAAAAAAAAAAAAAAAAAABHL6OuAAAAEXRSTlMAInZUiRDN\n",
       "mWbv3US7qzLz6SJmQj4AAAAJcEhZcwAADsQAAA7EAZUrDhsAAALJSURBVFjDvVjZgqsgDGUNO3P5\n",
       "/5+9yqKisaKdkYdqW5KTY1YkZFqU3FvSOfLmeo5HOcZt+Y3xe+oYOPkVE83cW3gx+KOsY+XKRQVQ\n",
       "Y8p4arouJaLdwlKj8xV4TCv1SyULnhBMDYanUipUKR+QZ5kNkVC/WjGmVVgyJCGDgrRl7lImqS2h\n",
       "Yf39ErbhwRSa0o5Ql3ZyajR0Z+5mwYyv9M0AQlVlZgdNrGNOypcQHuHpfBF+QCKY7Gx/bq6efWCu\n",
       "soyOMufsgnm161N4M2+nBQheiVqeBlI+ZXlRtuLmGkk4INHS8VHvMXfA5JnPS6rEdF2OZfIF3J2b\n",
       "C5qokmaSbaK+32txSzqJEeYUTJiLrTFrvPdKKMjTaJeNuR73uT5nLsJMPt8RZ0648l1qKThKjPkc\n",
       "wj7PeyWAlq+CR5MozNlwnpetDE1nDcTm6Im8EUK8zDzSm3qJMeZ+z3ynBNBhpOAtzAc6kDRuDq6S\n",
       "GBTND26IcTWzzWr3zz/brbS2XxrAkYOEytuMyZcwzryHjaYBrlG24hXKbsTnRComOEuxdlc4co+p\n",
       "Mu+Lpt3Xnc3IFVWLgEOZve/zXonEOtaCV/Kcp+GBs9Z2IgCZGKcks3zJQYkzj7u604aircRj5p0S\n",
       "vGlUvNKedRoeZGs/x/sgt8SzGkyOCNyCfd1ptX0r8ZR5r4SxT5OM2ZTXi3l36taT6hLsAq9wfi7v\n",
       "Ne7p0i/cSD/vJE6Yi0SPXvC+S7etEuAfZsY5OqWJm6cGu5vlCc7HBa+R8WPZOjXzWP8I+qRRinhi\n",
       "yUFizzwEkyDo9dg0dXI5faawbuyVyOCPx7KGJ5VgYWuMVfubRUQo5dDBq2210982/tbczhn5ejnh\n",
       "T6bXpwsVp7YN7390YvmV9RfMy+Tob76SYYa8ur7Ew2oi9edt9NMbnsRfZf4dnjRIJDZn05v5SVV4\n",
       "lfsXeFRgovng/R8QkxheZqzSegAAAABJRU5ErkJggg==\n",
       "\" style=\"display:inline;vertical-align:middle;\" /></a></td></tr>\n",
       "<tr><td>3</td><td>Lambda</td><td>parameter:&nbsp;13<br>body:&nbsp;5<br></td><td><a class=\"ProveItLink\" href=\"../__pv_it/demonstrations/a8af1bd6d80ea69886c5d9231607a878bb7491ca0/expr.ipynb\"><img src=\"data:image/png;base64,iVBORw0KGgoAAAANSUhEUgAAAOsAAAAVCAMAAACQTOmOAAAANlBMVEX///8AAAAAAAAAAAAAAAAA\n",
       "AAAAAAAAAAAAAAAAAAAAAAAAAAAAAAAAAAAAAAAAAAAAAAAAAABHL6OuAAAAEXRSTlMAdpndiRBm\n",
       "RO8yVM2rIrvz6V4j6JsAAAAJcEhZcwAADsQAAA7EAZUrDhsAAAJjSURBVFjDxVjpuqMgDJUlrIE7\n",
       "vP/LjhU3ttuonU5+VPuV5HBMSI6dpksGWk/ftPt4wYVn0MxreBRAMf0tPIux58s4zd0loHpYcQYK\n",
       "Ri1X72zSdNgdT0rGiWninOPqFbHzu5C0OFLQPAC5T2euOi20lJgCAh12w/NujikoZEGw+TmbUG33\n",
       "hg2dtWpKpeA65S+It/DUcpGR4IFmSWi8zJUFKlfH3nBdd/Jb0bIoZvMdvFyLLhGOblr8ZV76hmsR\n",
       "zvHvcdWewSiv+QDY5N6XcIoZXPe3C4wfFVj+KvrYhQeFa/AGX43RmKOKyyDBw7CGYeOq6HlVfa5y\n",
       "0mbAzlVHhPvWg5ZXj/V5LYP4buPJeCHJzJWRz2teykw9HNxGoZNJFjuTo/SgcY011yqI78qBjLdz\n",
       "JUwLMPpVQLncQ13185bMsdOfP6KwdIzDgF63HnxZZsxyQTrXEtaaDfCopAMvk9SUvE7AmXQs2XX2\n",
       "eTdSCE1etT/JHMu3LDct8XpeyyDQmyc7Xj6vjtCbtvOxhpa+VmnzWYI+V1t1jE2InD1ucy2C9Bv8\n",
       "ipfHpUpkubjO13ZKwVymso9Zd4ytD5897nItgzD2m5Ywp8b4RlUaeIXOJSxNUyppCns315T5WngM\n",
       "uMoU2icd4wA2y8ChThMvjWjs6Tn56mZ/Zi8ZHlVHDuSlqAaDS9oBduNRc0U0yaM6XjnmyQrzZ8Jj\n",
       "YRkEMLavNBsecMnwvBnB65vdRXKuu9JH8OmKXdBN103LONCIH5fvH9b+H7H/ybURIv/YHuKRutnw\n",
       "fw36iPuIPcMD86jaAsevsn2AF2Tj+hfNYxSjwPEgQgAAAABJRU5ErkJggg==\n",
       "\" style=\"display:inline;vertical-align:middle;\" /></a></td></tr>\n",
       "<tr><td>4</td><td>ExprTuple</td><td>13</td><td><a class=\"ProveItLink\" href=\"../../../__pv_it/common/3b7d7ace2ced0a8261ea4d18d03aaf49e434d69d0/expr.ipynb\"><img src=\"data:image/png;base64,iVBORw0KGgoAAAANSUhEUgAAABMAAAAVBAMAAABWJ8jiAAAAMFBMVEX///8AAAAAAAAAAAAAAAAA\n",
       "AAAAAAAAAAAAAAAAAAAAAAAAAAAAAAAAAAAAAAAAAAAv3aB7AAAAD3RSTlMAInZUiRDNmWbv3US7\n",
       "qzJazP2FAAAACXBIWXMAAA7EAAAOxAGVKw4bAAAArElEQVQI1y2PoQrCUBSGv83NuSliFNNMqwax\n",
       "6gsIewDDimARDAbjmnXdIugDiE8wfQKjUbCZ7Bb/e7cL5+cL3/0PB+hBHe7I5NXEWJPg5uBnwjMs\n",
       "Icixbw9hRYQpkxqbOVvpiSTvwUrZLqCVcYJ3oJZGwQHSMIbu1yDTFCRJYO1LOHJXw8/Tt5K50fra\n",
       "OuMj4ane6EL0qrYN5Gwq3GlulpxSsbDYMRc5scEh/AEH8RxSIDPuhwAAAABJRU5ErkJggg==\n",
       "\" style=\"display:inline;vertical-align:middle;\" /></a></td></tr>\n",
       "<tr><td>5</td><td>Conditional</td><td>value:&nbsp;6<br>condition:&nbsp;7<br></td><td><a class=\"ProveItLink\" href=\"../__pv_it/demonstrations/98d52e4800bb21d458f3b2c07ed605b2b764620f0/expr.ipynb\"><img src=\"data:image/png;base64,iVBORw0KGgoAAAANSUhEUgAAAMMAAAAVBAMAAAAJNkerAAAAMFBMVEX///8AAAAAAAAAAAAAAAAA\n",
       "AAAAAAAAAAAAAAAAAAAAAAAAAAAAAAAAAAAAAAAAAAAv3aB7AAAAD3RSTlMAEER2zVSJ3Zki72ar\n",
       "MruaaVGaAAAACXBIWXMAAA7EAAAOxAGVKw4bAAACN0lEQVRIx2NgYGBUYiAL4NXHGYnMM1HEbxS3\n",
       "EXZx/PruPESwWT8CCeYGNBXXBcDUrA0MDK73FUBMCzQVYH1pFhMwTefoOAgk3yAE2AqABHsCahic\n",
       "8IdYod/AwF0wB8wuQzMIpI8lgLESMwCLGW4BLU5HswIGtGEMe4gVjAwMPAewhwRI33YGhjwMCZ4F\n",
       "DHwPcFsRjGYFSAdqGNqVlzvA9QEDI14A3Qp+Bwa2jxRYoWKIrO8HA8P9AHQr5B8wMH/CsEK4G7sV\n",
       "nF4HeE+tAYUUo8UGsIAjsj5GkBUbsPniN4oVHEB/J2jh8AXLAWhcsDEtAPMnIOvj/Aa0wgBbXHxm\n",
       "YLBCiADTJW9ACw4r+GBWXOUAxwALij6wFQkYKWoRw52vDAzz4SE4xwmUbhaDmO3l5avKy2uwWiHA\n",
       "BXbtrXIgeADXB7RCH8MXDBJmwX+BkkdgdvD2CUCzEV5fQFOOHNwcsD5gXMQHYEvQQPPYnOBcoCnA\n",
       "IBcgZIUPI4hkZ0DR946BYb8AFitA+QIpNYNSlLxCAgErGD+xgShmAxR9uxgYWjDMZ13IIH+BgSEL\n",
       "NdHe59yAZkX+BJhz+MBBz/thNljAFUUfewDjWrADvsAIkDMKGV4zwBOtvANEKc9utLg4s94HZCkw\n",
       "U8ie+gN2+WmII2QeCSBZwdhmcwHMqYAToLKxQwFhBXsDrtyNE6g9RypA8AGCxSBhQIIVzAvIq/QI\n",
       "6UNKB5xfybOCgD7G1UicGUfJswOvPs4ceJYEAEfSmAHgRteYAAAAAElFTkSuQmCC\n",
       "\" style=\"display:inline;vertical-align:middle;\" /></a></td></tr>\n",
       "<tr><td>6</td><td>Operation</td><td>operator:&nbsp;8<br>operands:&nbsp;9<br></td><td><a class=\"ProveItLink\" href=\"../__pv_it/demonstrations/a2e143af123f66da09e0988b76b1d4e48661786c0/expr.ipynb\"><img src=\"data:image/png;base64,iVBORw0KGgoAAAANSUhEUgAAACoAAAAQBAMAAACSDPCjAAAALVBMVEX///8AAAAAAAAAAAAAAAAA\n",
       "AAAAAAAAAAAAAAAAAAAAAAAAAAAAAAAAAAAAAADAOrOgAAAADnRSTlMAdpndiRBmRO8yVM2rIuws\n",
       "s0IAAAAJcEhZcwAADsQAAA7EAZUrDhsAAABpSURBVBjTY2BgEGJABZymINIEVTBG+ykSjz0BymBE\n",
       "FuUSICjKKpSARZSFvQGL6CymDVhEAzhAPCZjY4tmY+MDcNvWBWBzwx5WbG54zoJFlPPBNTRRlrdA\n",
       "4hiae3lOvD6GxW8oAB46QAAAwqUa4kUieqoAAAAASUVORK5CYII=\n",
       "\" style=\"display:inline;vertical-align:middle;\" /></a></td></tr>\n",
       "<tr><td>7</td><td>Operation</td><td>operator:&nbsp;10<br>operands:&nbsp;11<br></td><td><a class=\"ProveItLink\" href=\"../__pv_it/demonstrations/62585c1d9f095361c761f5ff3feacd8df91cf1000/expr.ipynb\"><img src=\"data:image/png;base64,iVBORw0KGgoAAAANSUhEUgAAAGgAAAAVBAMAAABYjraNAAAAMFBMVEX///8AAAAAAAAAAAAAAAAA\n",
       "AAAAAAAAAAAAAAAAAAAAAAAAAAAAAAAAAAAAAAAAAAAv3aB7AAAAD3RSTlMAdpndiRBmRO8yVM2r\n",
       "IrsWj4mGAAAACXBIWXMAAA7EAAAOxAGVKw4bAAABgUlEQVQ4y2NgwAThBQy4wa0LWIUZtwfg0cR5\n",
       "DiwrhCa8HijK4qiLRYOSDlCK7wCIaYIm5QzEuxiCMZ0RLMDZCzTPAJsDgJrYDBhYHmBInGBgeIeq\n",
       "ifGxsTVcE9AJXF8xNP1mYPAPQNbEvjEAySZ+BQbOX+h6WP8xMMgXgDWxCiWARG4HIDsvHqjpG1ab\n",
       "EsCaWNgbQAJ7EXLaDAz3HRg4P2Lz03sBBkag+llMG0ACG+BSvG0QTV8wNEUUcJ5fwMALdHcAhwAo\n",
       "ypqNjY3twHpOA9NDvAMDO6ZNrIpe8hMYGGJ2QeKSgRURwJOeggOC6xe26ACGHoM30NQ9rCAeUuC/\n",
       "AQb5Awa2r9g0AeMJFBes31lAPEHUyG1gYNqAoWNFAOtPYMgBA4LzwzWQAPcClGRkxRAxAewNYDAz\n",
       "xEP1CwfwJUBTxDFwPLGeK0XWFOR4EsIxAmJmBQibxUmdATUZsfshJSN8AGeCJV2TBH5NWEIICO4v\n",
       "wKspIgGbKK8OPl1XTjEwAAASRlVxQe5b/wAAAABJRU5ErkJggg==\n",
       "\" style=\"display:inline;vertical-align:middle;\" /></a></td></tr>\n",
       "<tr><td>8</td><td>Literal</td><td></td><td><a class=\"ProveItLink\" href=\"../../addition/__pv_it/common/4b7effaab3619a1c2c38fe2dee8601df8ec714590/expr.ipynb\"><img src=\"data:image/png;base64,iVBORw0KGgoAAAANSUhEUgAAAA4AAAAOBAMAAADtZjDiAAAAHlBMVEX///8AAAAAAAAAAAAAAAAA\n",
       "AAAAAAAAAAAAAAAAAACGjDitAAAACXRSTlMARGZUdpnd76sKo+zpAAAACXBIWXMAAA7EAAAOxAGV\n",
       "Kw4bAAAAH0lEQVQI12NgYGAQYoAAE2LosLS08rS0DKLVI9EgewAshQUueejZFAAAAABJRU5ErkJg\n",
       "gg==\n",
       "\" style=\"display:inline;vertical-align:middle;\" /></a></td></tr>\n",
       "<tr><td>9</td><td>ExprTuple</td><td>13, 12</td><td><a class=\"ProveItLink\" href=\"../__pv_it/demonstrations/c89850952f9608f21aa2408d82ba7769fea41e400/expr.ipynb\"><img src=\"data:image/png;base64,iVBORw0KGgoAAAANSUhEUgAAACcAAAAVBAMAAAA3P+qgAAAAMFBMVEX///8AAAAAAAAAAAAAAAAA\n",
       "AAAAAAAAAAAAAAAAAAAAAAAAAAAAAAAAAAAAAAAAAAAv3aB7AAAAD3RSTlMAInZUiRDNmWbv3US7\n",
       "qzJazP2FAAAACXBIWXMAAA7EAAAOxAGVKw4bAAAA4UlEQVQY02NgYBBgQAFgLpMBquAmEGECxOpQ\n",
       "Ab6lQEUNDAysCUDOEohYbNlXIJnKwMDegKSVCSTYzsDAyYAuyBnAYIYhyNbAUAI0Vr0BWZDlAkMG\n",
       "kOSegCzIkcCwmIHhMXsCsiDzBIbZDAwBnArIgnwfQIIM9gHIgkDDgNoZcllRtC9gOAS0/TcLAyuS\n",
       "RQcYfEGGSDDEg+1i+Qgk2B0YXgGpGw0MXMCgYOC9+e0GAwPXBgauBxDjTOHekgKaUABhOsAFK4D4\n",
       "IJjFCnMqA+MBIBEDsReukAcUH4wKqNGhyMAAAJrmLitjok1KAAAAAElFTkSuQmCC\n",
       "\" style=\"display:inline;vertical-align:middle;\" /></a></td></tr>\n",
       "<tr><td>10</td><td>Literal</td><td></td><td><a class=\"ProveItLink\" href=\"../../../logic/sets/membership/__pv_it/common/477487d8796864d23d5810f83761435f25167f690/expr.ipynb\"><img src=\"data:image/png;base64,iVBORw0KGgoAAAANSUhEUgAAAAwAAAAMBAMAAACkW0HUAAAAKlBMVEX///8AAAAAAAAAAAAAAAAA\n",
       "AAAAAAAAAAAAAAAAAAAAAAAAAAAAAAAAAADmU0mKAAAADXRSTlMAdrvdzUQQIjLvVKuJ3kDT2wAA\n",
       "AAlwSFlzAAAOxAAADsQBlSsOGwAAADpJREFUCNdjYGAQMjZ2YGAIEWMAAnY3EMnAUgChwCRDpzEQ\n",
       "KDAkQXjMEIpRAEJ7Qahs1QQwHaNs7AAA8KcF/23LEVMAAAAASUVORK5CYII=\n",
       "\" style=\"display:inline;vertical-align:middle;\" /></a></td></tr>\n",
       "<tr><td>11</td><td>ExprTuple</td><td>13, 14</td><td><a class=\"ProveItLink\" href=\"../__pv_it/demonstrations/68f55002f9664eadd3a77ad1d13b3c8a2d7988960/expr.ipynb\"><img src=\"data:image/png;base64,iVBORw0KGgoAAAANSUhEUgAAAGUAAAAVBAMAAACtcD09AAAAMFBMVEX///8AAAAAAAAAAAAAAAAA\n",
       "AAAAAAAAAAAAAAAAAAAAAAAAAAAAAAAAAAAAAAAAAAAv3aB7AAAAD3RSTlMAInZUiRDNmWbv3US7\n",
       "qzJazP2FAAAACXBIWXMAAA7EAAAOxAGVKw4bAAABxElEQVQ4y42Tu0sDQRDGv0vuzJMzoIXYGKug\n",
       "TVKoYGWIoCCI10l8kEAQBBGiiAoSuM42doJNIIpt8C+Igp2iIIiCaMBCsBI1Iiji7CMm5s7Dgd1b\n",
       "vpnfPmbmAIRQt+kS/rY2FsmjXbG66lowHBj9hrwHbNVHIyLVIRLVxJJN/FqOXMFz2tYEtDQpu9Iz\n",
       "RiODqZAFmQrrW7RdgZZzgMdscBHjLUAtW5hr4EQym4APvxk63121MG/AhCEYn4GBJqY1C/2lGdE+\n",
       "gWhJMC0mVkiJmHUmRcy77TmmYNRzzNMcyEvXKtAVh/5s956zMFwszptGEbj3pIVH2RbMq4VJlvS7\n",
       "GBR2aXceO4DhCwvkkrogFUfAeo62PBytALMZquwTY3gpmT0c8xy4X+y6gPKGEdqUHkJ3w6Im9VPK\n",
       "dRneqh1D9eFFcBdwRAd/qNB+appH7XkNNmhoX5QsnoMyxtkNO5BK13qniGSFP4HyK2Wg1wiasg88\n",
       "cTzS58qEf6/GTCZuRdw+DX9WrNXRDUjGX4K/ItT+GuNgnOmk68md4v9l1mkcigLwEvU4Myw5Cmv6\n",
       "GfGH8rkr5sgkKQ9B9nMp4bqo5Jyg9guauoFvCyZjUzkYIsQAAAAASUVORK5CYII=\n",
       "\" style=\"display:inline;vertical-align:middle;\" /></a></td></tr>\n",
       "<tr><td>12</td><td>Literal</td><td></td><td><a class=\"ProveItLink\" href=\"../../numerals/__pv_it/common/682157d4892d216d9e5626ed533aff9b56b9506e0/expr.ipynb\"><img src=\"data:image/png;base64,iVBORw0KGgoAAAANSUhEUgAAAAgAAAAOBAMAAADgeEClAAAAJ1BMVEX///8AAAAAAAAAAAAAAAAA\n",
       "AAAAAAAAAAAAAAAAAAAAAAAAAAAAAAAilU6eAAAADHRSTlMAMt0Qq5nNdoki72YJhDyyAAAACXBI\n",
       "WXMAAA7EAAAOxAGVKw4bAAAAH0lEQVQI12NgYFRmYDAJO8zAwMBOMsFxkoGBxeuYNwB0KguGAVQB\n",
       "OAAAAABJRU5ErkJggg==\n",
       "\" style=\"display:inline;vertical-align:middle;\" /></a></td></tr>\n",
       "<tr><td>13</td><td>Variable</td><td></td><td><a class=\"ProveItLink\" href=\"../../../__pv_it/common/ae955345c83abf786c3aff8681cd5465beae262d0/expr.ipynb\"><img src=\"data:image/png;base64,iVBORw0KGgoAAAANSUhEUgAAAAcAAAAOBAMAAAARcxsoAAAALVBMVEX///8AAAAAAAAAAAAAAAAA\n",
       "AAAAAAAAAAAAAAAAAAAAAAAAAAAAAAAAAAAAAADAOrOgAAAADnRSTlMAdpndiRBmRO8yVM2rIuws\n",
       "s0IAAAAJcEhZcwAADsQAAA7EAZUrDhsAAAA6SURBVAjXY2BgEGIAAhMGdMAqlMDAwMLewMAwi2kD\n",
       "A0MAhwBQcF0AkNjDCpR9zsLAwPngGpB7LIEBALAvCJF4nqyTAAAAAElFTkSuQmCC\n",
       "\" style=\"display:inline;vertical-align:middle;\" /></a></td></tr>\n",
       "<tr><td>14</td><td>Operation</td><td>operator:&nbsp;15<br>operands:&nbsp;16<br></td><td><a class=\"ProveItLink\" href=\"../__pv_it/demonstrations/3eccb18766da2c32030257a7f1eb332236ae0a560/expr.ipynb\"><img src=\"data:image/png;base64,iVBORw0KGgoAAAANSUhEUgAAAEcAAAAVBAMAAADm2O7QAAAAMFBMVEX///8AAAAAAAAAAAAAAAAA\n",
       "AAAAAAAAAAAAAAAAAAAAAAAAAAAAAAAAAAAAAAAAAAAv3aB7AAAAD3RSTlMAEER2zVSJ3Zki72ar\n",
       "MruaaVGaAAAACXBIWXMAAA7EAAAOxAGVKw4bAAABGUlEQVQoz2NgYGBUYsANOCMhtIkiHkUMdx6C\n",
       "SNaPQCLNYgKmPEfHQSD5BsRkK2BgYAlgrMRQw1jMcAuoNR2maDsDQx6GIp4FDHwPkBQBjYwXQFfE\n",
       "78DA9hFJ0Q8GhvsB6IrkHzAwf0IoYgQp2oDNpN9QRRwODJzfgIoMsLnpMwODFYg9awNEUQKG7xYx\n",
       "3PnKwDAf6I45TkAuUJE+hkkMEmbBf4GSRwIYePsEwA6PD8AS3CDfsQFNYeA7wMDwjoFhvwAWRaBw\n",
       "AocNKAh2MTC0YKhgXcggf4GBIQsWTuwBjGvBbv0CI4CAuZDhNQNSYDK22VwAS1TACVCsdyggK8IH\n",
       "iFfEvAC/IrCPOL/iVcO4GkzNOIovjecAAxkAxhBGyqCLISsAAAAASUVORK5CYII=\n",
       "\" style=\"display:inline;vertical-align:middle;\" /></a></td></tr>\n",
       "<tr><td>15</td><td>Literal</td><td></td><td><a class=\"ProveItLink\" href=\"../../number_sets/integers/__pv_it/common/92f3a0a77e3c3ea8e4a5c8674edadc54e4f57d550/expr.ipynb\"><img src=\"data:image/png;base64,iVBORw0KGgoAAAANSUhEUgAAAE4AAAAOBAMAAABz3DdCAAAAMFBMVEX///8AAAAAAAAAAAAAAAAA\n",
       "AAAAAAAAAAAAAAAAAAAAAAAAAAAAAAAAAAAAAAAAAAAv3aB7AAAAD3RSTlMAiburEN0ydkTNIlRm\n",
       "75nT7s8qAAAACXBIWXMAAA7EAAAOxAGVKw4bAAABZUlEQVQoz31RPUsDQRScO/c+vFxyS0BiIVik\n",
       "sMwRBduDIFZq9BdcYWW1sREbSWGw9P6BUQsbwTRaBCTXGzDYCFYJYpHKGDUJUdC3CVxlXNiBeTtv\n",
       "3mMWQPIn7eH/M9OT+BnxlfLfOrtDoL9FvDbBOBEQGIOIv0yYqwkCtRPxzQm6K5/AIdOjpdNdYWa7\n",
       "y2CpA09PWq0Qq3PQKjhPXQD3UnxMpjwt2BAxci75OlfUltIAv0XcNZ+Q8ZCVunkfZnELVk+ua33D\n",
       "KF5O5xNcr7QR42uhXPpR6k4AxgaIfUDjUPt7s9h2QqrRq155lUvrQ6nr0qWJUwE2inDc0SoyH2o0\n",
       "8ACyMBpEzT4BiZzQq4E5IsonkYfC+jJj1aU+Rf5JnFPGvI0bGo3KOB/VRZV9kUXVCamqdcYB7dv+\n",
       "IhN2gPWyNUpeCSyBBVw3m86hQC7zTuISkLvDWR0o1AXM/CjdZ6K5ws6yb7fwCzamYRPGRQ36AAAA\n",
       "AElFTkSuQmCC\n",
       "\" style=\"display:inline;vertical-align:middle;\" /></a></td></tr>\n",
       "<tr><td>16</td><td>ExprTuple</td><td>17, 18</td><td><a class=\"ProveItLink\" href=\"../__pv_it/demonstrations/adb04d4aa1a3922fbb7d466a7aea80d200d0bd320/expr.ipynb\"><img src=\"data:image/png;base64,iVBORw0KGgoAAAANSUhEUgAAACkAAAAVBAMAAAAp9toTAAAAMFBMVEX///8AAAAAAAAAAAAAAAAA\n",
       "AAAAAAAAAAAAAAAAAAAAAAAAAAAAAAAAAAAAAAAAAAAv3aB7AAAAD3RSTlMAInZUiRDNmWbv3US7\n",
       "qzJazP2FAAAACXBIWXMAAA7EAAAOxAGVKw4bAAABIUlEQVQY012Rv0vDQBiGnzaJSdsQnV2Mq0s7\n",
       "iOAW6uAkHi7SIhgQwbGKoCBCNtc4uxS6OQX/guos2NVFMzuJteIg4pcfV7AHd3zvw8d7370HLPB/\n",
       "5bramqF32bEKZvu4JGeXimoEVggHdAubru9dwyHYEU4fc5jTZ3iEK6iBO8KY5PQLthU1xRrM9/DG\n",
       "GbR+oJkwF3EK+0K/p70R5ogjWArwPrTvk48TMijoZ047iffawoi5EYeARtFrnWw0U7z3jMptxli/\n",
       "TGZoxJmDO8SZaCrzGn0ewImxQ5SgdWX9ih6yJWJAJ7VkKlaUKyHYAW8idtsvcCvN5uaFyHpCPS0N\n",
       "DaWtF8WkV9bmNOBz2fdlvaNhJctvrxS+pm6WdcWf+aFl+AODzj7PKN47swAAAABJRU5ErkJggg==\n",
       "\" style=\"display:inline;vertical-align:middle;\" /></a></td></tr>\n",
       "<tr><td>17</td><td>Literal</td><td></td><td><a class=\"ProveItLink\" href=\"../../numerals/__pv_it/common/dd4e19e8b134dfb293470ea55fe3589b0ab9f8040/expr.ipynb\"><img src=\"data:image/png;base64,iVBORw0KGgoAAAANSUhEUgAAAAoAAAAOBAMAAADkjZCYAAAAMFBMVEX///8AAAAAAAAAAAAAAAAA\n",
       "AAAAAAAAAAAAAAAAAAAAAAAAAAAAAAAAAAAAAAAAAAAv3aB7AAAAD3RSTlMAiXaZIs1UEN1mu6sy\n",
       "RO+L2jdBAAAACXBIWXMAAA7EAAAOxAGVKw4bAAAAV0lEQVQI12NgYBQyYWBgCGOocGDgbGBgXMDA\n",
       "tYGB7TsDvwEDzzeGeiD5k8FfgIHnE5j8yFAvwMD7CSTL9o2BawED53cGzgcMzAEMDG0MdQcYGIqF\n",
       "9jAAAMPIEplEfAWeAAAAAElFTkSuQmCC\n",
       "\" style=\"display:inline;vertical-align:middle;\" /></a></td></tr>\n",
       "<tr><td>18</td><td>Literal</td><td></td><td><a class=\"ProveItLink\" href=\"../../numerals/__pv_it/common/22593540f11ac41f656b6119a111361a0782e98b0/expr.ipynb\"><img src=\"data:image/png;base64,iVBORw0KGgoAAAANSUhEUgAAAAoAAAAOBAMAAADkjZCYAAAAMFBMVEX///8AAAAAAAAAAAAAAAAA\n",
       "AAAAAAAAAAAAAAAAAAAAAAAAAAAAAAAAAAAAAAAAAAAv3aB7AAAAD3RSTlMAmasQ3XYy7yK7zYlE\n",
       "ZlRwlz41AAAACXBIWXMAAA7EAAAOxAGVKw4bAAAAUUlEQVQI12NgYBRUZmBgdmVIb2BgKmDgnMDA\n",
       "v4CB+zOD/QQG1j9g9l+w+FcG5hqGpH8MDIbRT78xAAFQDRAA1fMVM9gnMLA6M8wF8ncLHmAAAOjt\n",
       "EoLyJ+qzAAAAAElFTkSuQmCC\n",
       "\" style=\"display:inline;vertical-align:middle;\" /></a></td></tr>\n",
       "</table>\n"
      ],
      "text/plain": [
       "0. Sum_{i = 0}^{9} (i + 1)\n",
       "   core type: Operation\n",
       "   operator: 1\n",
       "   operand: 3\n",
       "1. Sum\n",
       "   core type: Literal\n",
       "   sub-expressions: \n",
       "2. (i -> {i + 1 if i in {0 .. 9}.)\n",
       "   core type: ExprTuple\n",
       "   sub-expressions: 3\n",
       "3. i -> {i + 1 if i in {0 .. 9}.\n",
       "   core type: Lambda\n",
       "   parameter: 13\n",
       "   body: 5\n",
       "4. (i)\n",
       "   core type: ExprTuple\n",
       "   sub-expressions: 13\n",
       "5. {i + 1 if i in {0 .. 9}.\n",
       "   core type: Conditional\n",
       "   value: 6\n",
       "   condition: 7\n",
       "6. i + 1\n",
       "   core type: Operation\n",
       "   operator: 8\n",
       "   operands: 9\n",
       "7. i in {0 .. 9}\n",
       "   core type: Operation\n",
       "   operator: 10\n",
       "   operands: 11\n",
       "8. +\n",
       "   core type: Literal\n",
       "   sub-expressions: \n",
       "9. (i, 1)\n",
       "   core type: ExprTuple\n",
       "   sub-expressions: 13, 12\n",
       "10. in\n",
       "    core type: Literal\n",
       "    sub-expressions: \n",
       "11. (i, {0 .. 9})\n",
       "    core type: ExprTuple\n",
       "    sub-expressions: 13, 14\n",
       "12. 1\n",
       "    core type: Literal\n",
       "    sub-expressions: \n",
       "13. i\n",
       "    core type: Variable\n",
       "    sub-expressions: \n",
       "14. {0 .. 9}\n",
       "    core type: Operation\n",
       "    operator: 15\n",
       "    operands: 16\n",
       "15. Interval\n",
       "    core type: Literal\n",
       "    sub-expressions: \n",
       "16. (0, 9)\n",
       "    core type: ExprTuple\n",
       "    sub-expressions: 17, 18\n",
       "17. 0\n",
       "    core type: Literal\n",
       "    sub-expressions: \n",
       "18. 9\n",
       "    core type: Literal\n",
       "    sub-expressions: "
      ]
     },
     "metadata": {},
     "output_type": "display_data"
    }
   ],
   "source": [
    "# See how a summation expression is constructed:\n",
    "sum_01.expr_info()"
   ]
  },
  {
   "cell_type": "markdown",
   "metadata": {},
   "source": [
    "We can access the various component elements of a Sum, including the index or indices, the summand, the domain, etc:"
   ]
  },
  {
   "cell_type": "code",
   "execution_count": 10,
   "metadata": {},
   "outputs": [
    {
     "data": {
      "text/html": [
       "<a class=\"ProveItLink\" href=\"../../../__pv_it/common/ae955345c83abf786c3aff8681cd5465beae262d0/expr.ipynb\"><img src=\"data:image/png;base64,iVBORw0KGgoAAAANSUhEUgAAAAcAAAAOBAMAAAARcxsoAAAALVBMVEX///8AAAAAAAAAAAAAAAAA\n",
       "AAAAAAAAAAAAAAAAAAAAAAAAAAAAAAAAAAAAAADAOrOgAAAADnRSTlMAdpndiRBmRO8yVM2rIuws\n",
       "s0IAAAAJcEhZcwAADsQAAA7EAZUrDhsAAAA6SURBVAjXY2BgEGIAAhMGdMAqlMDAwMLewMAwi2kD\n",
       "A0MAhwBQcF0AkNjDCpR9zsLAwPngGpB7LIEBALAvCJF4nqyTAAAAAElFTkSuQmCC\n",
       "\" style=\"display:inline;vertical-align:middle;\" /></a>"
      ],
      "text/plain": [
       "i"
      ]
     },
     "metadata": {},
     "output_type": "display_data"
    }
   ],
   "source": [
    "# the index\n",
    "sum_02.index"
   ]
  },
  {
   "cell_type": "code",
   "execution_count": 11,
   "metadata": {},
   "outputs": [
    {
     "data": {
      "text/html": [
       "<a class=\"ProveItLink\" href=\"../../../__pv_it/common/09295071eadd1b048b4ca029b4f00bff35d041c20/expr.ipynb\"><img src=\"data:image/png;base64,iVBORw0KGgoAAAANSUhEUgAAACYAAAAVBAMAAADY/YGeAAAAMFBMVEX///8AAAAAAAAAAAAAAAAA\n",
       "AAAAAAAAAAAAAAAAAAAAAAAAAAAAAAAAAAAAAAAAAAAv3aB7AAAAD3RSTlMAInZUiRDNmWbv3US7\n",
       "qzJazP2FAAAACXBIWXMAAA7EAAAOxAGVKw4bAAAA9klEQVQY02NgYBBgQAaMIILJAEWMWwFImACx\n",
       "OkzkTQCDBgMDawKQuQQmpsbAwBbAwN7AgAo4Chg4GdDBVAYzDLEMhhKgkepQ/axKF4CkL1CUgYV7\n",
       "AkSMnWEGkGxjWMzA8Jg9ASKmyPAZSFoyzGZgCOBUgIgFMH8Fku9BYgz2AVDj2RcAiZ0gvQy5rFAx\n",
       "LgcgYcVwCGjdbxYGiKj8BiDRA7SZge+DBEM82Jp+EFHC8ApI3mhg4FoK4t4BEasZuB5AjDIFEZNA\n",
       "AbgA5GUwAJp+mQPkFFCgHIR4S4GB7zMXKHhlgDgGLMYExEXVIBZIDaMCSqgwCTAAANz9KcZaWWR7\n",
       "AAAAAElFTkSuQmCC\n",
       "\" style=\"display:inline;vertical-align:middle;\" /></a>"
      ],
      "text/plain": [
       "(i, j)"
      ]
     },
     "metadata": {},
     "output_type": "display_data"
    }
   ],
   "source": [
    "# multiple ind4)\n",
    "sum_04.indices"
   ]
  },
  {
   "cell_type": "code",
   "execution_count": 12,
   "metadata": {},
   "outputs": [
    {
     "data": {
      "text/html": [
       "<a class=\"ProveItLink\" href=\"../__pv_it/demonstrations/07dbf0bd6bcb5fbbcde2aa213801fd9dbf726f100/expr.ipynb\"><img src=\"data:image/png;base64,iVBORw0KGgoAAAANSUhEUgAAADsAAAA2BAMAAACLlfxeAAAAMFBMVEX///8AAAAAAAAAAAAAAAAA\n",
       "AAAAAAAAAAAAAAAAAAAAAAAAAAAAAAAAAAAAAAAAAAAv3aB7AAAAD3RSTlMAzXZUMhAiRKvv3WaZ\n",
       "u4mNgo6tAAAACXBIWXMAAA7EAAAOxAGVKw4bAAABrUlEQVQ4y2NgwAFYljLgAREHv+KTZmAa6tLy\n",
       "/xHgE6a0/X8HMM2arjH/J6Y0x/8FMBHu9QaYdq//ARfiuYCQ5vsGof3/b4CLHYOzODo/dkNM+f8N\n",
       "LsiNxQv3f+H1YeT/A/ik2f9/xqv9/c8AfNKM/wXwSbPO/4fXdFjA4gA8/6eiCsDi6AM0YD/hNT1/\n",
       "AV5pzQS8AfMFi2Dci1Yoy98Ai/QBhlNQf0/ClNRh+M6QD/EuI5YoWcewFSZ9F4eTXkECBZFVmbFk\n",
       "4Z0IX21Gls4NQPMV8wRYJOlsYGA7wAbSlw/3Fet5mBv52Ccw5Lr4BCD7KrkfHnHOPAIM8///B/nq\n",
       "oyAYrAJy4WkygFMByjqPlMd+I1IA3uTFIMGKN3l958MnzfIhG6/h3fB8x4o3KTDwQfzAtuY5w84G\n",
       "7Eqceq8zWPAF8GD3Ds8RIGGtcACLc9k1GBi0QQwT8yQs0kH8AazgMsOEL7gOUzrVioEd7AsThgO6\n",
       "WCy+xMAte/fuZaB0HCOW8PvqwPIAopvdCFOaWeAAw1UQYzsDgwYW3U0JDLnAZMCyMIGBA0cEvb17\n",
       "HbsMAGMylBf+zpLiAAAAAElFTkSuQmCC\n",
       "\" style=\"display:inline;vertical-align:middle;\" /></a>"
      ],
      "text/plain": [
       "Sum_{i in Natural} (1 / i^{2})"
      ]
     },
     "metadata": {},
     "output_type": "display_data"
    },
    {
     "data": {
      "text/html": [
       "<a class=\"ProveItLink\" href=\"../../number_sets/natural_numbers/__pv_it/common/8b7c321957f52ed3b05b36af612eeae4fa4783bc0/expr.ipynb\"><img src=\"data:image/png;base64,iVBORw0KGgoAAAANSUhEUgAAAA8AAAAPBAMAAADJ+Ih5AAAAMFBMVEX///8AAAAAAAAAAAAAAAAA\n",
       "AAAAAAAAAAAAAAAAAAAAAAAAAAAAAAAAAAAAAAAAAAAv3aB7AAAAD3RSTlMAEN27zYnvRFSrImZ2\n",
       "MpmnAiL6AAAACXBIWXMAAA7EAAAOxAGVKw4bAAAAaUlEQVQI12MQ+mwiwBD2rYCBwYJ9AgPjBwYG\n",
       "hkkLohkYEoCMGQYsCxgUgIxZe7gcIAzOC0chDAYD5gII4x6jIoTB3dCcAGYwTOSEMiQZIVIMvAcM\n",
       "gAxbID4LYngAMZ8DA8OVb0AeowMDAHMQGYAvWUcMAAAAAElFTkSuQmCC\n",
       "\" style=\"display:inline;vertical-align:middle;\" /></a>"
      ],
      "text/plain": [
       "Natural"
      ]
     },
     "metadata": {},
     "output_type": "display_data"
    }
   ],
   "source": [
    "# the domain\n",
    "display(sum_02)\n",
    "sum_02.domain"
   ]
  },
  {
   "cell_type": "code",
   "execution_count": 13,
   "metadata": {},
   "outputs": [
    {
     "data": {
      "text/html": [
       "<a class=\"ProveItLink\" href=\"../__pv_it/demonstrations/bb2e9d2288d59e0a058f297efe7d4a7399ecc2230/expr.ipynb\"><img src=\"data:image/png;base64,iVBORw0KGgoAAAANSUhEUgAAAEEAAAA5BAMAAACbqFvaAAAAMFBMVEX///8AAAAAAAAAAAAAAAAA\n",
       "AAAAAAAAAAAAAAAAAAAAAAAAAAAAAAAAAAAAAAAAAAAv3aB7AAAAD3RSTlMAZnZEEDKrVM0iu++Z\n",
       "id3h5WM3AAAACXBIWXMAAA7EAAAOxAGVKw4bAAAB4UlEQVQ4y92UPSwDYRjH/+0dbfVCE0EUcb4a\n",
       "8bFaLEckBoaLxCTiCDEykkiYhImEMBjaBAuDEh+JpWXxEdRm8pVIbL6iaIRX02t71/fetrtnep/k\n",
       "d8/n/x4gYqYKoKkKyY0fHJm2DHCO5IQZWM8HRpMTJsD6DrSmJLL2gc7khEXG0dIK709RasmZzN9M\n",
       "Svj/NkM0e2MS40RW1zfn8n0ziUxyF5/+8zATef6IPwUPk+ghmjBO2OogIf2WY1acV66UrarvjV+W\n",
       "7nI3sQuX6rQRxt5tzRMI4lx1OPLJ6lHM8OIx6tx+M6Rhl80e24s6K1jJhJFwh6OYPNH8vO8nocjy\n",
       "/u4rNMA6a+uTqMlH5waXeEFFFMi2zitEqdRrmLx+qzKOGWXdJbhbRqJ2Vu9xIbRQABfUt7Kc6cUl\n",
       "vV69LizBdi9HCYVPyMsfimMFVAirP52Y19IBwoNWA5so0lotYAK6Vi1eJuGOd8YHmCVrrS4OJaxY\n",
       "a/VrKmJPPkJ+mUkCuv/29T8dpOv6NIBJ5DypCbuMkOGrgw6X2RkbtlvCHk00NTrsilnB6VrYHD0S\n",
       "7mlivho5shBTdpgw/ip96EL2sJbFeEp2UAN3RjQLq1LbSziKU4gdPZFTDBJUMI2FyvjE6uhr9Adq\n",
       "UZSj/zFPcAAAAABJRU5ErkJggg==\n",
       "\" style=\"display:inline;vertical-align:middle;\" /></a>"
      ],
      "text/plain": [
       "Sum_{m = 0}^{infinity} x^{m}"
      ]
     },
     "metadata": {},
     "output_type": "display_data"
    },
    {
     "data": {
      "text/html": [
       "<a class=\"ProveItLink\" href=\"../../numerals/__pv_it/common/dd4e19e8b134dfb293470ea55fe3589b0ab9f8040/expr.ipynb\"><img src=\"data:image/png;base64,iVBORw0KGgoAAAANSUhEUgAAAAoAAAAOBAMAAADkjZCYAAAAMFBMVEX///8AAAAAAAAAAAAAAAAA\n",
       "AAAAAAAAAAAAAAAAAAAAAAAAAAAAAAAAAAAAAAAAAAAv3aB7AAAAD3RSTlMAiXaZIs1UEN1mu6sy\n",
       "RO+L2jdBAAAACXBIWXMAAA7EAAAOxAGVKw4bAAAAV0lEQVQI12NgYBQyYWBgCGOocGDgbGBgXMDA\n",
       "tYGB7TsDvwEDzzeGeiD5k8FfgIHnE5j8yFAvwMD7CSTL9o2BawED53cGzgcMzAEMDG0MdQcYGIqF\n",
       "9jAAAMPIEplEfAWeAAAAAElFTkSuQmCC\n",
       "\" style=\"display:inline;vertical-align:middle;\" /></a>"
      ],
      "text/plain": [
       "0"
      ]
     },
     "metadata": {},
     "output_type": "display_data"
    }
   ],
   "source": [
    "# the domain's lower bound\n",
    "display(sum_03)\n",
    "sum_03.domain.lower_bound"
   ]
  },
  {
   "cell_type": "code",
   "execution_count": 14,
   "metadata": {},
   "outputs": [
    {
     "data": {
      "text/html": [
       "<a class=\"ProveItLink\" href=\"../__pv_it/demonstrations/07dbf0bd6bcb5fbbcde2aa213801fd9dbf726f100/expr.ipynb\"><img src=\"data:image/png;base64,iVBORw0KGgoAAAANSUhEUgAAADsAAAA2BAMAAACLlfxeAAAAMFBMVEX///8AAAAAAAAAAAAAAAAA\n",
       "AAAAAAAAAAAAAAAAAAAAAAAAAAAAAAAAAAAAAAAAAAAv3aB7AAAAD3RSTlMAzXZUMhAiRKvv3WaZ\n",
       "u4mNgo6tAAAACXBIWXMAAA7EAAAOxAGVKw4bAAABrUlEQVQ4y2NgwAFYljLgAREHv+KTZmAa6tLy\n",
       "/xHgE6a0/X8HMM2arjH/J6Y0x/8FMBHu9QaYdq//ARfiuYCQ5vsGof3/b4CLHYOzODo/dkNM+f8N\n",
       "LsiNxQv3f+H1YeT/A/ik2f9/xqv9/c8AfNKM/wXwSbPO/4fXdFjA4gA8/6eiCsDi6AM0YD/hNT1/\n",
       "AV5pzQS8AfMFi2Dci1Yoy98Ai/QBhlNQf0/ClNRh+M6QD/EuI5YoWcewFSZ9F4eTXkECBZFVmbFk\n",
       "4Z0IX21Gls4NQPMV8wRYJOlsYGA7wAbSlw/3Fet5mBv52Ccw5Lr4BCD7KrkfHnHOPAIM8///B/nq\n",
       "oyAYrAJy4WkygFMByjqPlMd+I1IA3uTFIMGKN3l958MnzfIhG6/h3fB8x4o3KTDwQfzAtuY5w84G\n",
       "7Eqceq8zWPAF8GD3Ds8RIGGtcACLc9k1GBi0QQwT8yQs0kH8AazgMsOEL7gOUzrVioEd7AsThgO6\n",
       "WCy+xMAte/fuZaB0HCOW8PvqwPIAopvdCFOaWeAAw1UQYzsDgwYW3U0JDLnAZMCyMIGBA0cEvb17\n",
       "HbsMAGMylBf+zpLiAAAAAElFTkSuQmCC\n",
       "\" style=\"display:inline;vertical-align:middle;\" /></a>"
      ],
      "text/plain": [
       "Sum_{i in Natural} (1 / i^{2})"
      ]
     },
     "metadata": {},
     "output_type": "display_data"
    },
    {
     "data": {
      "text/html": [
       "<a class=\"ProveItLink\" href=\"../__pv_it/demonstrations/5c3701e989e4e5737bea1ff2351a1da7569ccbe60/expr.ipynb\"><img src=\"data:image/png;base64,iVBORw0KGgoAAAANSUhEUgAAABEAAAAqBAMAAACn/q2nAAAAMFBMVEX///8AAAAAAAAAAAAAAAAA\n",
       "AAAAAAAAAAAAAAAAAAAAAAAAAAAAAAAAAAAAAAAAAAAv3aB7AAAAD3RSTlMAMt0Qq5nNdoki72ZE\n",
       "VLtVShrrAAAACXBIWXMAAA7EAAAOxAGVKw4bAAAAgUlEQVQY02NgAAIhAwYwYHbNh7IYGOrpwOqf\n",
       "AGW4rE/ZwEB98B8KPhCh1qLFGcoKYAgC06UMfxjmC4BYGgyboSwQaIIxGJVhrHkgLzGXbmDgDOAE\n",
       "+omDZwHDPEFRoKAsawLD+v//gbIGXAUw1ffhAZDCDGUw/+GAGfphNkzWGxomAI/uJ2yQ/itIAAAA\n",
       "AElFTkSuQmCC\n",
       "\" style=\"display:inline;vertical-align:middle;\" /></a>"
      ],
      "text/plain": [
       "1 / i^{2}"
      ]
     },
     "metadata": {},
     "output_type": "display_data"
    }
   ],
   "source": [
    "# the summand\n",
    "display(sum_02)\n",
    "sum_02.summand"
   ]
  },
  {
   "cell_type": "markdown",
   "metadata": {},
   "source": [
    "We can also dig into a Sum to find pieces of components:"
   ]
  },
  {
   "cell_type": "code",
   "execution_count": 15,
   "metadata": {},
   "outputs": [
    {
     "data": {
      "text/html": [
       "<a class=\"ProveItLink\" href=\"../__pv_it/demonstrations/53c58d7baf764b00be78132e2db656ce42af5bda0/expr.ipynb\"><img src=\"data:image/png;base64,iVBORw0KGgoAAAANSUhEUgAAAFkAAAA9BAMAAAA0QNjQAAAAMFBMVEX///8AAAAAAAAAAAAAAAAA\n",
       "AAAAAAAAAAAAAAAAAAAAAAAAAAAAAAAAAAAAAAAAAAAv3aB7AAAAD3RSTlMAdomrVDIQIkTvZrvd\n",
       "zZlR4kicAAAACXBIWXMAAA7EAAAOxAGVKw4bAAACKElEQVRIx2NgAAMhIQbiAbMCiwHxqvkD2L4R\n",
       "r7q+gOEH8ao5G1h/Ea+aY1vWFxK8mRLwnXjFrAkcB4hXzb2AN4AEd69SZRgFZIL7/xHgI0HV/v8h\n",
       "8cJWITz/J+GM8B8e51znHQgqP/8ZzuTbQFB1/P8FcPZzMMmOXWEBiGD8j0isXGBSBLvqRjC5/w+q\n",
       "KIsC0IgHaEn6GFAM7IbM/6hSuUDMo4AilPwWlMmvgZPrf9Rc9gqJ3QWlGUGq14GZ+j8TkFVPQGI7\n",
       "IqvmBCvj/X8B2dkXcKnmBTucbf4nJAV8QCcnvsKmmskAJfbBAGSCQic21VwQW/n+T0Oo5nFgYHV4\n",
       "i001C9RH5z8il1sMbAwTQaw3Z87MPHPmMFw16wdoOXgARTUDyzdsZnNAzZYsQHEJA69BAjaXQMzk\n",
       "+IpcEgkwMOQ3KGDzJSSJxiOna1A4xbMvQFXN9B0atsDwnoiSgID2Ma9CdTez5V8roBsbwCGMmqqO\n",
       "YolLMKgBk7tRU+c6LKkKkdz4jiHSCNibBdhzAzvYkysRskvA3sCRO8GmIAUfNGoLsasWB8cjPPjY\n",
       "3j8glOURwVdi/59gBcH79y4YnJn///8fgsXJe6Ry8BfDKICAdJJUK8IYSqQ0l7gEODYQr5ozgIFw\n",
       "s6MR1v6qT2CYQjBVCXxjeL0bCBbEJzCcIqSaPQVW8gBVTyTckhFAuIRw4yo/FeoSonzpywcrjwQ4\n",
       "CDc4k8XhsSOXQEAtAMjVraSys6ZbAAAAAElFTkSuQmCC\n",
       "\" style=\"display:inline;vertical-align:middle;\" /></a>"
      ],
      "text/plain": [
       "Sum_{i = 0}^{9} (i + 1)"
      ]
     },
     "metadata": {},
     "output_type": "display_data"
    },
    {
     "data": {
      "text/html": [
       "<a class=\"ProveItLink\" href=\"../../numerals/__pv_it/common/682157d4892d216d9e5626ed533aff9b56b9506e0/expr.ipynb\"><img src=\"data:image/png;base64,iVBORw0KGgoAAAANSUhEUgAAAAgAAAAOBAMAAADgeEClAAAAJ1BMVEX///8AAAAAAAAAAAAAAAAA\n",
       "AAAAAAAAAAAAAAAAAAAAAAAAAAAAAAAilU6eAAAADHRSTlMAMt0Qq5nNdoki72YJhDyyAAAACXBI\n",
       "WXMAAA7EAAAOxAGVKw4bAAAAH0lEQVQI12NgYFRmYDAJO8zAwMBOMsFxkoGBxeuYNwB0KguGAVQB\n",
       "OAAAAABJRU5ErkJggg==\n",
       "\" style=\"display:inline;vertical-align:middle;\" /></a>"
      ],
      "text/plain": [
       "1"
      ]
     },
     "metadata": {},
     "output_type": "display_data"
    }
   ],
   "source": [
    "display(sum_01)\n",
    "sum_01.summand.operands[1]"
   ]
  },
  {
   "cell_type": "markdown",
   "metadata": {},
   "source": [
    "## Demonstrations <a id='further_demonstrations'></a>"
   ]
  },
  {
   "cell_type": "markdown",
   "metadata": {},
   "source": [
    "<div style=\"width: 90%; border: 5px solid green; padding: 10px; margin: 0px;\"><a id='demo01'></a><font size=4><b>1.</b> TBA</font></div>"
   ]
  },
  {
   "cell_type": "markdown",
   "metadata": {},
   "source": [
    "<div style=\"width: 90%; border: 5px solid green; padding: 10px; margin: 0px;\"><a id='demo01'></a><font size=4><b>2.</b> TBA</font></div>"
   ]
  },
  {
   "cell_type": "markdown",
   "metadata": {},
   "source": [
    "<div style=\"width: 90%; border: 5px solid green; padding: 10px; margin: 0px;\"><a id='demo01'></a><font size=4><b>3.</b> TBA</font></div>"
   ]
  },
  {
   "cell_type": "markdown",
   "metadata": {},
   "source": [
    "## Miscellaneous Testing\n",
    "The material below was developed to test various enumerated Set and Set-related methods. Some of this material could be integrated into the `_demonstrations_` page eventually and/or deleted as development continues."
   ]
  },
  {
   "cell_type": "markdown",
   "metadata": {},
   "source": [
    "### Testing Sum.deduce_in_number_set()"
   ]
  },
  {
   "cell_type": "code",
   "execution_count": 16,
   "metadata": {},
   "outputs": [
    {
     "data": {
      "text/html": [
       "<strong id=\"sum_1_to_5\">sum_1_to_5:</strong> <a class=\"ProveItLink\" href=\"../__pv_it/demonstrations/497c8ab0ea4ccf59f6d1931b4e88862efef3acc10/expr.ipynb\"><img src=\"data:image/png;base64,iVBORw0KGgoAAAANSUhEUgAAACgAAAA9BAMAAAAtyzZ2AAAAMFBMVEX///8AAAAAAAAAAAAAAAAA\n",
       "AAAAAAAAAAAAAAAAAAAAAAAAAAAAAAAAAAAAAAAAAAAv3aB7AAAAD3RSTlMAIolEZlTv3TIQq5l2\n",
       "zbvmMOqjAAAACXBIWXMAAA7EAAAOxAGVKw4bAAABVklEQVQ4y2NgAAFGZZMABnTAnF/EgCnYwIBF\n",
       "sDkSi+DCWQFY1HJ8wBBiZeD8jCHI38D4EUOQewLPAgxBTh0lhsED7v9HgD8wwfj/kGDjFD6V/w0m\n",
       "yPW/AMZkqYcHVf0vhG8fwFj9/x3gohthDJ7/iABigbPef0d1D88GIDHt/wYUQXYFUAT9/4rF/frf\n",
       "JmAK8v6/gCnImf8JiTdnC6pXwUDBDOqT/5mIBBCwF+bVPwizGHKgLPkCpITxE8o4JoDklgUQBzL/\n",
       "QLJ9voECJKCQk1w/IzjUOHOQXc3lAjFlAxa/v8Mixl2JlE5hwA3hHld4eke4hzUBxpKHu4dzP8xG\n",
       "hHtE18MDi/fvXTAoz///Hx6D+5HS0pcBSMsTsQnqwBhTsKQJjjMFWLSwIgRtFmAKch74ybDvHRA4\n",
       "IAkyTi3Aop3vABbB+TMwtTPEcmNROesgzHTdT1CTABBteI7GYoY0AAAAAElFTkSuQmCC\n",
       "\" style=\"display:inline;vertical-align:middle;\" /></a><br>"
      ],
      "text/plain": [
       "<IPython.core.display.HTML object>"
      ]
     },
     "metadata": {},
     "output_type": "display_data"
    },
    {
     "data": {
      "text/html": [
       "<strong id=\"sum_2_to_6_i_plus_2\">sum_2_to_6_i_plus_2:</strong> <a class=\"ProveItLink\" href=\"../__pv_it/demonstrations/60f73a9fdcef0f946c010555490790086464ad5e0/expr.ipynb\"><img src=\"data:image/png;base64,iVBORw0KGgoAAAANSUhEUgAAAFkAAAA9BAMAAAA0QNjQAAAAMFBMVEX///8AAAAAAAAAAAAAAAAA\n",
       "AAAAAAAAAAAAAAAAAAAAAAAAAAAAAAAAAAAAAAAAAAAv3aB7AAAAD3RSTlMAiXZmzTKZRO8iVBDd\n",
       "q7usMVe1AAAACXBIWXMAAA7EAAAOxAGVKw4bAAACWklEQVRIx2NgAANGJQMG4oEr6wfiFTMmMBQQ\n",
       "r5qjcjUJDtkvuo0Ed8834P5JvGr+AIbPxKvmKWD4Trxq5gTWAyR4U1FtA8MoIA/4/0eATwRVr/8f\n",
       "AKa5p+v2/yComvc/PBaZzy8gqPz8XziT7QFB1fH/EUk7E0xyYlc4AUQw/UckbWYwqYVddRGYfP8H\n",
       "VZRLAGhEAooQZ5pfAAMT2A07/qNKbQEleAEUoXkMjMD07w1isv//hSKVjMQuhlA3GRg6GBjMwGz5\n",
       "HyiJuwGJvQhC9W9guD+BgQOsjOW/A7KzHTBV32FguB/AwAJ2OHf/RyQFbEAnb0pGVQ2KFmAZdQEl\n",
       "9sEAZIJABbpqVmAaYobYyva/Gyn/L2BgXZCCrpoHaC4X1EfnkVIfRwEDN0MTiJVz5kzHmTNnwaJ5\n",
       "IPOhJev8AyiqGbh+o5nNDHIyO9RsjQkoLmFgubABVfVCBs4JDFwQM9m/IoUJnwKwFC0QQFHNKsDA\n",
       "tIGBGZJE45HTNSic4jkNUFTPSUvLgYQtMLybkKMSVMbxGqO6+/z//1/ApSUohFFT1VHMuITaACbf\n",
       "oaZYM8xUhZTc2E4j0gjYmxOw5wZOsCctELJWYG/gyJ1gU5CCDxq1k7Cr1gTHIzz4uPMTCGV5RPDN\n",
       "uo+cFLEDli8uYHCm////PwSLk3ykcvAzwyiAgJ0kqRaCxZPgXRIqZDYGNhIqe/4Czq8EFRVdgJUC\n",
       "Gwir5lb4zZD3DgiA+ZaRoEs4dyGUxBD2Jaj8gGp8TUR7bSvMJdMYZhJUvYQNZvTT0GyCqvdqworL\n",
       "//8JNU8B12y0sLda/2oAAAAASUVORK5CYII=\n",
       "\" style=\"display:inline;vertical-align:middle;\" /></a><br>"
      ],
      "text/plain": [
       "<IPython.core.display.HTML object>"
      ]
     },
     "metadata": {},
     "output_type": "display_data"
    },
    {
     "data": {
      "text/html": [
       "<strong id=\"sum_a_to_b\">sum_a_to_b:</strong> <a class=\"ProveItLink\" href=\"../__pv_it/demonstrations/d45c6f60d36035e79669b2b9bef1182a0781166c0/expr.ipynb\"><img src=\"data:image/png;base64,iVBORw0KGgoAAAANSUhEUgAAACsAAAA/BAMAAACLNCx+AAAAMFBMVEX///8AAAAAAAAAAAAAAAAA\n",
       "AAAAAAAAAAAAAAAAAAAAAAAAAAAAAAAAAAAAAAAAAAAv3aB7AAAAD3RSTlMAMs27q4nvdhDdmWZU\n",
       "IkTDx5grAAAACXBIWXMAAA7EAAAOxAGVKw4bAAABdUlEQVQ4y2NgAAMhAwZsgCUAqzCbAFZh+XIP\n",
       "bMKVDVXYhK0ZNmETTmRYgk34A0MONuEZ3FgdLlXOMFgB038kUAAX5vn/EcLofe72PwGh3P8nnLnz\n",
       "D0KY878DnL0YIcz4/zeczXUBIV7/H8HZgBBm/j8BzXXCDUCCI/8XmnARmHz//wA2H7H+z8DqU/1P\n",
       "WIXb/iMnKo5yB7QAgDieIRvKWv+tASFcy/AHHgCIsGNo4PkBZfH+RLaKC+Y99lxkYU6YA96jpOP7\n",
       "D6CB+AfFvfth7i5AEXaG0lqovkuHhixKsvThhrpvJcIvB4D2cELCkxvhOm6gyPJ1GK47hjCLF+G6\n",
       "LqRogruO9whyQOorgYHmNGBiQ8Q1F3Ia3ECnhM+IXZhTgHKj29fAk1N0KSKlLzjEwGUMBNYMnRfk\n",
       "4cIcDVEw5ioGMSRTtGGMPIYSJOG/UEM4/jJYdyB8A8+juYz/dsCF2eHZ8tWeUkTIMmENZD0xrL5Z\n",
       "vgKbKADPo3lRbG1wNQAAAABJRU5ErkJggg==\n",
       "\" style=\"display:inline;vertical-align:middle;\" /></a><br>"
      ],
      "text/plain": [
       "<IPython.core.display.HTML object>"
      ]
     },
     "metadata": {},
     "output_type": "display_data"
    },
    {
     "data": {
      "text/html": [
       "<strong id=\"sum_a_to_nine\">sum_a_to_nine:</strong> <a class=\"ProveItLink\" href=\"../__pv_it/demonstrations/3a566f87d02429308999f80a2993c12c79d8228f0/expr.ipynb\"><img src=\"data:image/png;base64,iVBORw0KGgoAAAANSUhEUgAAAF4AAAA9BAMAAADWnMOpAAAAMFBMVEX///8AAAAAAAAAAAAAAAAA\n",
       "AAAAAAAAAAAAAAAAAAAAAAAAAAAAAAAAAAAAAAAAAAAv3aB7AAAAD3RSTlMAdomrVDIQIkTvZrvd\n",
       "zZlR4kicAAAACXBIWXMAAA7EAAAOxAGVKw4bAAACZUlEQVRIx2NgAAMhIQZSALMCiwEp6vkD2L6R\n",
       "or6+gOEHKeo5G1h/kaKeY1vWF5I8nBLwnRTlrAkcB0hRz72AN4Ak969SZRgFVAH3/yPARyLU+/+H\n",
       "xBRbhfD8n8Rklf/wlMB13oEIDec/w5l8G4hQH/9/AZz9HEyy41IKlmD8j0jKXGBSBGcyEwCR+/+g\n",
       "irIoMLDtxEjedW+3MjBIgViZ/x+gyOQCMe8DdKdsYNBvYOBNANnyHzUvvgIVGOghxVzAwDmBgQts\n",
       "jP7PBGSpCUDcn4BeInxjYAb6cxqIzfv/ArLzQRxNjGg6wMD8lYHhFjhq539CkuFTABKXGZyeoWvh\n",
       "+cDAoIySJsCAFxgdbL9Y3GdhRBQwNNdCjPw/DckYoFdZvrewXkdXfxiIPaFp4iNyWQc0YBbEwtwz\n",
       "IHAUkVjioeXnAVT1PPeeYkTuYhDRCWFLFqC6J9+hH708AsZ6OQODDyRdfEUuu4DeWp+Q7yCAqj6I\n",
       "gUGMgWE1xOfIsckErDlsGfIDFFDTw7l374COfgQO/4koZSlQeAsD40PUGOYBZldgRJ5gwExcR3Hn\n",
       "FXZwuOxGFVyHWz0fKGvxHUMEAtjDBTjVV4OIlQj5JWDv4M7F21EDk2UCmCrEpZwRZHI9PDDZ3j8g\n",
       "XDwgArPE/j8RlQzv37tgcGb+//9/iCh+3iOVn78YRgGlgOsgiRpmkKac/QOJ7tlQCMupbFpCBYTr\n",
       "O3G36Xy7gWAXQ05BPGH1nCIMsFT5jiGSiKbhuwCEz4UJq1/NcaAA4h627wy70giqN2Q9APPvdNYf\n",
       "ywiq385gBXNQ3xKhBYSUAwDWX7s2THFNQAAAAABJRU5ErkJggg==\n",
       "\" style=\"display:inline;vertical-align:middle;\" /></a><br>"
      ],
      "text/plain": [
       "<IPython.core.display.HTML object>"
      ]
     },
     "metadata": {},
     "output_type": "display_data"
    }
   ],
   "source": [
    "# define some summations for testing\n",
    "sum_1_to_5, sum_2_to_6_i_plus_2, sum_a_to_b, sum_a_to_nine = (\n",
    "        Sum(i, i, domain=Interval(one, five)),\n",
    "        Sum(i, Add(i, two), domain=Interval(two, six)),\n",
    "        Sum(j, j, domain=Interval(a, b)),\n",
    "        Sum(k, subtract(k, two), domain=Interval(a, nine)))"
   ]
  },
  {
   "cell_type": "code",
   "execution_count": 17,
   "metadata": {},
   "outputs": [
    {
     "data": {
      "text/html": [
       "<span style=\"font-size:20px;\"> <a class=\"ProveItLink\" href=\"../__pv_it/demonstrations/6f3256d83f40718adb9ac2877ff0007e7220dfa70/proof.ipynb\" style=\"text-decoration: none\">&nbsp;&#x22A2;&nbsp;&nbsp;</a><a class=\"ProveItLink\" href=\"../__pv_it/demonstrations/c2f979ed57ada5c652978690ea91d19ea13b93900/expr.ipynb\"><img src=\"data:image/png;base64,iVBORw0KGgoAAAANSUhEUgAAAG0AAAA/BAMAAAAYkFuZAAAAMFBMVEX///8AAAAAAAAAAAAAAAAA\n",
       "AAAAAAAAAAAAAAAAAAAAAAAAAAAAAAAAAAAAAAAAAAAv3aB7AAAAD3RSTlMAmXbNRCIQ72Yyq1Td\n",
       "u4mXa1p+AAAACXBIWXMAAA7EAAAOxAGVKw4bAAADYklEQVRIx51XTWgTQRSeTTaTpGmSKnhu66VS\n",
       "LQaLPxQkOYk3C4o/SM3iRRCk0kIRVFL04MFDV/GkhxShYEVpQdBLpQFBEFITPLQeWluqV21ta9PG\n",
       "1nU3s/O33XkRB7Iz7JtvZ+Z933tvgpDTdteeKPTt5DhiDR9BdVogRXo991F83VEPd6rbxZnS6/gC\n",
       "DMM33IH+6LX0/iaM01IUN3J1XDS8MUBcnm8vuiwaGptAXBcdxBBeEw2xXxCMW5NmSJ55HMI1ltlB\n",
       "jcCwZJo0oeMxX+DFH7IpDB1wDPD0MsDeT7VN31DbIpvAXvrVpjiwF9TcrTQlywBuclAtaki92WH1\n",
       "VjLOM23xtiIQcV2JS9fEO2kRivGZ9lxFOPy6ErdVezZYBebgEg+KwG8VLLRN+lKVs809FVOSSy15\n",
       "i7tuD4+rbWVucb0QsHgoRLiYtrzzX+X6Z6fsBKHRE8x7prTWnpYX1zGKgshOEHEqsyuWLH6S2kre\n",
       "VLELoX0J23FBuj3d8vNd2iu0EYTL1xxmGUNLFZ80NJ+hfpgtvnN6A2nmqCNPJuuglfIJTpdL/RD7\n",
       "6ONok4TDuT9CVLYOSrjTfC/TcUPCMa05LaETZTa7rB7mhC/ccbpejtOsATZ+4iZjiuNHCJJxr6D4\n",
       "Eo8EI9xCnEW66K1isThVG+5PZBCWcdmCELGGiMNMsrjcY0dBt4RrE8jqwiIOsS82mCP2YpJfdCFD\n",
       "4bWEdL691PBAt1l4IeHyQjGKLp+XcEFqmw4aqOetxF+fSPgzmT/88gTZ0+2jczOVL7bOuF78kjrF\n",
       "If070RmrKkyfc37hOa+qLCyOtPdcEgKlqsSr0Up5j8+4z805ZZ7Y2EFCTKC0oiwrbhBkeRVs5g4K\n",
       "bSlLVdVDwsUxISz0qrL8rRISVjtrrZizLGGNyIoyX5eILoT6IBRLbfN/Spy9DXVxHBoEcMmCusRB\n",
       "d4a8ujiGCwDuoPoCk1gHcDNqU4i4Gvu5B1eBb3aSZVvo3Lv/eEcZkld6eECgATp7r8dnE4KvIY40\n",
       "R/56ux9uCbxeO465nDS0Obt9FnF4Bbzvttm/sxM+62kFENfouPKTDy6bAXG6XXLxurlzn8/r/O/4\n",
       "aueGVNOO9SIDdXDxFoSfUhYvpRfd0TmzDg5/8H19rN7/I3TB92uQV/4CRmQFjcMeAU4AAAAASUVO\n",
       "RK5CYII=\n",
       "\" style=\"display:inline;vertical-align:middle;\" /></a></span>"
      ],
      "text/plain": [
       "|- (Sum_{i = 1}^{5} i) in Integer"
      ]
     },
     "metadata": {},
     "output_type": "display_data"
    }
   ],
   "source": [
    "# Integer\n",
    "sum_1_to_5.deduce_in_number_set(Integer)"
   ]
  },
  {
   "cell_type": "code",
   "execution_count": 18,
   "metadata": {},
   "outputs": [
    {
     "data": {
      "text/html": [
       "<span style=\"font-size:20px;\"><a class=\"ProveItLink\" href=\"../../ordering/__pv_it/theorems/27094ede24067904bb8353fa305df8461a3a4be40/expr.ipynb\"><img src=\"data:image/png;base64,iVBORw0KGgoAAAANSUhEUgAAADMAAAAQBAMAAABJt1qBAAAAMFBMVEX///8AAAAAAAAAAAAAAAAA\n",
       "AAAAAAAAAAAAAAAAAAAAAAAAAAAAAAAAAAAAAAAAAAAv3aB7AAAAD3RSTlMAIquJdkTvuxBmmd1U\n",
       "zTKBpmoTAAAACXBIWXMAAA7EAAAOxAGVKw4bAAAA3ElEQVQY02NgwADd32sbGMy+BTBgATWsCgwc\n",
       "H7DJMGgLWDIwJGCV0ingFWDYgCLkvnv3BRCtOIXxAqpUrAeUocj0wBksxajs6AASYLwBU6PIUMAe\n",
       "AJIKE2D/ARIAmg+XesWxAyjFkcnABTaXlwEhxXngONCFXB8YuA1AAs92A0EBRIpBgwkoxVbA0A/2\n",
       "eDuSLoYmDqBJ/Q4M88EC3MhSfA5A/f0HGHR5QC5gcYBJ1QGxH1CK3YFnFxdY5A5MCsTgAnqeQ8VO\n",
       "yA8s0lTaAKbffgPq4LiAElDB1buRBQCzkDPDLBuujwAAAABJRU5ErkJggg==\n",
       "\" style=\"display:inline;vertical-align:middle;\" /></a>, <a class=\"ProveItLink\" href=\"../../ordering/__pv_it/theorems/5d56aa038eb34c97b005be8161434236efec38e90/expr.ipynb\"><img src=\"data:image/png;base64,iVBORw0KGgoAAAANSUhEUgAAADEAAAAQBAMAAABNQoq8AAAAMFBMVEX///8AAAAAAAAAAAAAAAAA\n",
       "AAAAAAAAAAAAAAAAAAAAAAAAAAAAAAAAAAAAAAAAAAAv3aB7AAAAD3RSTlMAELvv3c2ZVESJq3Yi\n",
       "MmZ3LnoBAAAACXBIWXMAAA7EAAAOxAGVKw4bAAAA5UlEQVQY02NgQAcin1QFGCZ/bmBgVHZAk1Ln\n",
       "WMDA+AHIYE1Ak1lyYB4DgwGQwV+AJrNcgfUAA8igfgGoyCYXlwAQveY1TwBYZgpUonUjlLGG68JO\n",
       "sEzU7uUgPk8gzLQ1DApMDUAZxq8C8gdADjmAkLnG6AiUYf/IwLwBJMOAkOErKAK6jS2AgX8CkH/Z\n",
       "BQgUIDIMC7mAMiwTGPpB7hZC0sMgxegA9k4+yN0syDK8G4C6+S8w2oH43BtgMrpAvBcow/WACRI8\n",
       "4TAZEANoOwPjyjyIgJQGJDCufgaqZwxADq9OFRdkPgBHFjKLuGzoKQAAAABJRU5ErkJggg==\n",
       "\" style=\"display:inline;vertical-align:middle;\" /></a> <a class=\"ProveItLink\" href=\"../__pv_it/demonstrations/a472865cb86f7b4f340e9ec7cdb2ffb81e8d5ad80/proof.ipynb\" style=\"text-decoration: none\">&nbsp;&#x22A2;&nbsp;&nbsp;</a><a class=\"ProveItLink\" href=\"../__pv_it/demonstrations/39f771e1599763ed0657f0cffd8b85327e0b7c570/expr.ipynb\"><img src=\"data:image/png;base64,iVBORw0KGgoAAAANSUhEUgAAAHIAAABLCAMAAACbdiMqAAAANlBMVEX///8AAAAAAAAAAAAAAAAA\n",
       "AAAAAAAAAAAAAAAAAAAAAAAAAAAAAAAAAAAAAAAAAAAAAAAAAABHL6OuAAAAEXRSTlMAzUSZq1Tv\n",
       "EGYy3Xa7iSJQQBQRrlsAAAAJcEhZcwAADsQAAA7EAZUrDhsAAAO6SURBVGjevVpZluMgDGTfYUb3\n",
       "v+xgx50OWNhG5A2f7oBEqVRI0Iy9Bxfs+SjBsuUh1dTPs1q2qM2k28YtWrTTKwgoayYVn5+Slix6\n",
       "ENNzCugVk/y0Sc9vN5HCCneQTap8D01c2CTir/G305JZiGTEvkVl78AhR1PBee1Y5SXKm4nAqTkJ\n",
       "CFNSzVPHb331NJMOw2cL5a0GCsg0kwnBlcFm9jZUYIi4YvlVQ+nSA289DVcMHS/jg6yLNGQVQex+\n",
       "U4nEWQMLugVgvxXKx7pFgUjDyiEkKTorqbl1cC9RoFk59jwlMw1VtA4mwBrnOAxGvJg+7XH5dFND\n",
       "t4ItIioDF+iF+bjoJkcUYCnjLtbl85SNrX4EAOz4kGmsXdOEzy3LfYUWq2hlGebYbdluA6TEN8Zk\n",
       "A0ZUL1W3a0Br4g8/fLKfLj9Q2aSZUC+C78eP7M+jOwWMvEHpgV6qUFjenTZ7+GXfKgDIGS480AKl\n",
       "a/T4Bl7Y+ZJP1QVMEN8hWhBTqOMDC1VcZIUfJs2ZcbnmoaWbFDz2s1VhyrOYf0xGJNfGnLC1vG3z\n",
       "ujNZ+NndapJVaJM4TDqk84NhtsmuszyZ5AjfN5Ne1myxYddIh0nSSDpjndxEWpxMMtwkc5rpvaXA\n",
       "qSJH4bSbP7bVjuaH3oRjpM4kq/2Gepn8g6v1UDtlk4h/O5M2jXbJrGIHsBo/YIYZHjK72CULQ5PM\n",
       "x41EI5PRlOFpJzqT3UwEnXQQI/o0YOxGCj9OxF44+hQ77+H9SfKRSX8hP92txNmkVUm0jOJgjkl2\n",
       "VyA0Ly+O3e5vAhE8kVMrePenOpdDea642i6Fp0u8dNaZlIYVpGZB96GdLvbV6aSS6I3gbklGKa4L\n",
       "mWfFeldIODQ9nH5WyBBqn0F6aDN2Wc6adC0w6C2ZvVg3zReVomEckh5FK7goyQktTVOt1wX45wjB\n",
       "vBqE8NWW5rOGlKOexH21jQ4LVwUbSIRmT8HKjbWg3E/EeZav3sII8t3fCyNCD973wX6SCZT3ktC2\n",
       "PcFP+Uu6xMsL/NGgaKRT/zeU7Y2ajfK8hs0u5vLVyzj5q1mSab736T/DbU1wqYdzwc9sRU3nn9yy\n",
       "luVTlkq51eCDrKReU5mPBfmJS7W7ZxHfDTd0CfmV2R3BT2Dt9iU5azFc6dd/vyFBEDRbKIWzGF/p\n",
       "76b5PRdBUEinY3aYDiw8m9o3QtzNxGPlBTPu2+TCz/DBrBxBRwdXy1Q76yZ96GmQLKw+RsvZCnjx\n",
       "XXiHds5pYdb/scDPrREEWx9iJpqWbvEfuCkl26PSowcAAAAASUVORK5CYII=\n",
       "\" style=\"display:inline;vertical-align:middle;\" /></a></span>"
      ],
      "text/plain": [
       "{a in Natural, b in Natural} |- (Sum_{j = a}^{b} j) in Natural"
      ]
     },
     "metadata": {},
     "output_type": "display_data"
    }
   ],
   "source": [
    "# Natural\n",
    "sum_a_to_b.deduce_in_number_set(Natural, assumptions=[InSet(a, Natural), InSet(b, Natural)])"
   ]
  },
  {
   "cell_type": "code",
   "execution_count": 19,
   "metadata": {},
   "outputs": [
    {
     "data": {
      "text/html": [
       "<span style=\"font-size:20px;\"><a class=\"ProveItLink\" href=\"../../number_sets/integers/__pv_it/theorems/3491a039698971b62ff4e02bff8d5580af19c47d0/expr.ipynb\"><img src=\"data:image/png;base64,iVBORw0KGgoAAAANSUhEUgAAAD8AAAATBAMAAADVH8ihAAAAMFBMVEX///8AAAAAAAAAAAAAAAAA\n",
       "AAAAAAAAAAAAAAAAAAAAAAAAAAAAAAAAAAAAAAAAAAAv3aB7AAAAD3RSTlMAIquJdkTvuxBmmd1U\n",
       "zTKBpmoTAAAACXBIWXMAAA7EAAAOxAGVKw4bAAAA7UlEQVQoz2NgwAO4GAgAdjIVdH+vbWAw+xaA\n",
       "24QaVgUGjg94rNAWsGRgSGBYXl5WXj4BmwKdAl4Bhg1YTHDfvfsCiFacwngBm4JYDyhDkemBM5IC\n",
       "RmVHBzB9A6ZSkaGAPQChIEyA/QeIBtoLV/CKY8cGWEhyZDJwbQArYEAo4DxwPAEe3h8YuA1AjGe7\n",
       "gaAAooBBgwmugK2AoT8AxGhHMoGhiWMDjNfvwDAfzOBGVsDnUABXcIBBlwfkPhYHmFAdEPvBFbA7\n",
       "8OyCxPsdmBCIwXUBxuNQsRPyA7OaShvA9NtvQN0cF7DEQXD1bkxhAO9GNyFbmCdHAAAAAElFTkSu\n",
       "QmCC\n",
       "\" style=\"display:inline;vertical-align:middle;\" /></a>, <a class=\"ProveItLink\" href=\"../__pv_it/demonstrations/338bea1169aca2a51c9e3cdb908726f9096b30730/expr.ipynb\"><img src=\"data:image/png;base64,iVBORw0KGgoAAAANSUhEUgAAAD0AAAATBAMAAADR6hicAAAAMFBMVEX///8AAAAAAAAAAAAAAAAA\n",
       "AAAAAAAAAAAAAAAAAAAAAAAAAAAAAAAAAAAAAAAAAAAv3aB7AAAAD3RSTlMAELvv3c2ZVESJq3Yi\n",
       "MmZ3LnoBAAAACXBIWXMAAA7EAAAOxAGVKw4bAAAA+ElEQVQoz2NgwA3YGPADJrLkRT6pCjBM/twA\n",
       "lWdUdkBToM6xgIHxA1w/awKa/JID8xgYDBiSlJSVlB4wMPAXoMkvV2A9wOAA198vABXf5OISAKLX\n",
       "vOYJQJKfApVu3QhlrOG6sBNJPmr3chDFEwgzfw2DAlMDXJ7xq4D8AZAzDyDkrzE6OsDCj/0jA/MG\n",
       "kDwDQp6voMgAHsgBDPwTgPRlFyBQgMgzLOSCy7NMYOgH+VAIST+DFCM80IDezwf5kAVZnneDAlz+\n",
       "AqMdiObeABPRBeK9cHmuB0yQAA6HiYRDXAUFjCvzIAwpDUhAXv0M1MsYgBmxnSoumKIAyg80ctEW\n",
       "W0oAAAAASUVORK5CYII=\n",
       "\" style=\"display:inline;vertical-align:middle;\" /></a> <a class=\"ProveItLink\" href=\"../__pv_it/demonstrations/df75d0ce1591d2116af04bfad83e4dfeb3bda76b0/proof.ipynb\" style=\"text-decoration: none\">&nbsp;&#x22A2;&nbsp;&nbsp;</a><a class=\"ProveItLink\" href=\"../__pv_it/demonstrations/7f57e6eff51a1cc1a6e2ef317adab56f685391870/expr.ipynb\"><img src=\"data:image/png;base64,iVBORw0KGgoAAAANSUhEUgAAAH4AAABLCAMAAACBSsOkAAAANlBMVEX///8AAAAAAAAAAAAAAAAA\n",
       "AAAAAAAAAAAAAAAAAAAAAAAAAAAAAAAAAAAAAAAAAAAAAAAAAABHL6OuAAAAEXRSTlMAzUSZq1Tv\n",
       "EGYy3Xa7iSJQQBQRrlsAAAAJcEhZcwAADsQAAA7EAZUrDhsAAAPbSURBVGjetVpLguMqDOQv/vO4\n",
       "/2UfdqcTG4RtIprFLDINhYSqJIEZew8u2PORPbClQ6qpP09qKbo2k+YYuxAdplcTJa+DV3x+SlyG\n",
       "7oqYnpOLXgXPO+MdvzUu+lVxhxiv0r3LwiLjETuMu50WzaKTD9hvQcGd05acvio9TqiyFuTNxMJX\n",
       "cL4gURarDlh+u29Hh7eYD7ejv9VhURIdPiK+Z2Xbwu3RFrPA9xh/69Hb+GDnju57zINOhgesDnTv\n",
       "qy8E90NPcuybQphcCvzF0T/WS4LrXtJFSZySqvuSFD22ELM+Jwm3ozLfkKgLpdDgj7HLy2CEi+kk\n",
       "4cnH7evSrAZZBGXKhYc9LenqE+9UwWhoLzD4l6Evf2WTn40pWJqTcayZ3xHntWA6M8dV92MVv8xD\n",
       "3t62O+BLjHyLsGSKESd41UwPFR+DOuzJxYPQpieqHzUT6ocojfWxyDaH3qlwOAKmJ5qtfGZpN8A0\n",
       "8LyFhxro8vkZhie6o3RF45tT/R5IdZjtH1tjLXUVVJkgk0V0J0Rfx8FHKtvAMn/BH603feSmynP4\n",
       "Hl7w0M5WmSnHQsLgA8LlcTxBLf/PutHAZ95vvcJveFEg8BbptsuQzbLp7Dt4jvBmg3eyMhBaeJTm\n",
       "nfh+jrUudIoM0cEzHJ5ZzfSnLZO/8BoVk8Hxw7Y3OOvU6Q+d8a8RG3hWezZluoz1D88kQy2XJ6L/\n",
       "18BDHFnPQDHwHbzGE+FQTXxiF9YzP4RnLrD4DD6YPMzQooFvZiJei69ACi52xY5Fmzc3JnorUi1t\n",
       "e3veP0n+BN5dyF5zo9TDg4riHI28mNck4F2MYby/KCGa/xOI6IoUz6J7VegiqieHqaP6HhqJIJW6\n",
       "sde3GIdVtWZet6FAut9SXXaV6G3xjiqDFF3CJTWZXbFkUcrZUSwmWpvTTscpp814+5ICb8/OQ29K\n",
       "4QIj0npMcYpchHJZq3LRytBaxHOXUxfjx+G9+Wmy/B+1iJvo52OexYf9s+sNT7qfyNQGWxVLCh3i\n",
       "3VIgMYd8s0bbv6Jearf3E24ycqjvef7cUno3tXfypW4ixJ4u5NdEQVhCLXjPONyqQpD9epBsSPlu\n",
       "KiHnuk/voflvCxx/WuBam+daaGS8/ljwkvt5kwBgqVMBKbfeZcD6FW9J5rA47+Jwu40JuJV8yUta\n",
       "OMj+7uWj82H7JVoAzPdpBTz7HCHiZbMdvbCAxf2abwjSex3Ey0JaHZLFNGfRJwTw9iK3M2e26gU/\n",
       "7OZz4WZiyUi2auxdcy3jYXbLa4aediSUlR9vyNluYeG3E7v754wRZu2HO25uPS/Y2iFmTh/WoP8P\n",
       "yEYmshVSUmwAAAAASUVORK5CYII=\n",
       "\" style=\"display:inline;vertical-align:middle;\" /></a></span>"
      ],
      "text/plain": [
       "{a in NaturalPos, b in NaturalPos} |- (Sum_{j = a}^{b} j) in NaturalPos"
      ]
     },
     "metadata": {},
     "output_type": "display_data"
    }
   ],
   "source": [
    "# NaturalPos\n",
    "sum_a_to_b.deduce_in_number_set(NaturalPos, assumptions=[InSet(a, NaturalPos), InSet(b, NaturalPos)])"
   ]
  },
  {
   "cell_type": "code",
   "execution_count": 20,
   "metadata": {},
   "outputs": [
    {
     "data": {
      "text/html": [
       "<span style=\"font-size:20px;\"> <a class=\"ProveItLink\" href=\"../__pv_it/demonstrations/929c2ccbc4e73e832564843182f9861e8cad4a930/proof.ipynb\" style=\"text-decoration: none\">&nbsp;&#x22A2;&nbsp;&nbsp;</a><a class=\"ProveItLink\" href=\"../__pv_it/demonstrations/e0f38a8fa191fef1af86f2a83e57d66da7f301ba0/expr.ipynb\"><img src=\"data:image/png;base64,iVBORw0KGgoAAAANSUhEUgAAAKIAAAA/BAMAAACRJA61AAAAMFBMVEX///8AAAAAAAAAAAAAAAAA\n",
       "AAAAAAAAAAAAAAAAAAAAAAAAAAAAAAAAAAAAAAAAAAAv3aB7AAAAD3RSTlMAmXbNRCIQ72Yyq1Td\n",
       "u4mXa1p+AAAACXBIWXMAAA7EAAAOxAGVKw4bAAAETElEQVRYw51YS2gTQRj+N8luHk2aVUE8+Kgg\n",
       "KgVpVRDxQase9GTrwReijYIIirZgFUGhFcGDKMaLIootHlS8WPAgiGiKoqjBBvEJilFvRWmttbba\n",
       "us7szOzuJJ3Z6Q4kM5t/5puZ///+xwYAt8lA2pf5oNKMJX4zQrWkD2c7lBBhgd+EhkbSf4aIGmKq\n",
       "6HOJI3TQui2jhmgclcs1emnj3/lpaohwR751R5b0+jA0N6ohJk2peBkbjEC6XQ2x4pea9BGk6xWv\n",
       "vVJ6gwIbHYfLioDwICtTY5fDyy9TVRGjMkXeggBN65dw60cQxMiwWBYbCYIIByUe1R8IcZaYuelC\n",
       "IMQHYuY2FAMhNnWKj49JHbY8rUqJPi1CUR12+gqL2mf36utWi1JAGxKKRgkpR50fTv9VQQwJZ+lj\n",
       "xBUtVy8zlGLFDx9J3HIpqxFijE8PnfbxMeHpB0hfY7kINjFCXeM7C7WbMVrufd8fLtpaBI3qI2Xl\n",
       "ePl99JnN/7RhynsAli6tMsTqI7BzzIQUNbLRxivGwKniBX/hAvTVQ5gmhJ7SxKDNQcw+Y0KYxdsG\n",
       "i7um5vGJCBknGjELYzSO1ZXq+VwK7ZEwIcp4VWkd5hjstR7RHZqaQPvTaZ9YuF+Qz9up71oKX60d\n",
       "0k6gqPvpRbxdjpjIQQLpaCkNq/RKa+bSWYUNNFA4iHssr4fPRPvNbucQMW3R7F4OUWcVi955pRTR\n",
       "8US7oZNURlpKETvQ6ASNB2S7MFNnvLiODJrd8Djrt8d8zwEusdLARXyGsz+P6DDBXE0R3biQ9Ead\n",
       "VoBMFD9r+fyTY/m87aQajqW02uojky/kUbNDbGFHGaLudYNWHFUzJWc8hb/Wcoj7nRVvUmWIoUPA\n",
       "3RqWGTxiRRE2AtzjEJPOilWYj1DvsQw0eLP6S2TrwUoeERkTUeUMp8dQlesznXZV5iLGuYiHOBLv\n",
       "38Ih6t2TJuVsXnkQYblbpy5s3NfN8ZHLBrheucHzMYkyRi2ujjiG732VcWJPWzfiUtRBXMhXQ9ky\n",
       "n6H2y/GIsP5DvpZbyfw6xWfZmFkWKfgQ8klUS7FoBtNdetu7vxYs2E77HlEJoA3SM7nUiXXxROMb\n",
       "26lNmBWGy6hD3EwfP22H2NF+Cwupf2S9S52dSsWaPios2/7w1NHvWkrFGl03XvlI4mzdYruteII4\n",
       "l1NBjA0IRT22fbx1j9L7gjYSpBCUtbC47DzbHggxLdZNkxkIsUNcdkZzgRBrxC80lUOBEN9KqEpo\n",
       "YEzMQMYfiXAxOSqj+IHeayp0lLnBWf50JkxXIY9M+8281QahKavwqiDjnIazYaSaPZ5UQuyTKhmb\n",
       "Zlc6o31E7R0af1MwzIBUPA99Nt1zHuOPFbxaTuJkFcnPLOwr/KHSJP+vIILKTGMoS2+tm7o/NW/6\n",
       "yL+iBFrL3Hv7xXO+h4wd9nsjqwLjKjtYm2X5HnGzHxuMpxN06qW+M7ZODNCQ2eU/uTUzavriTgUA\n",
       "AAAASUVORK5CYII=\n",
       "\" style=\"display:inline;vertical-align:middle;\" /></a></span>"
      ],
      "text/plain": [
       "|- (Sum_{i = 2}^{6} (i + 2)) in Complex"
      ]
     },
     "metadata": {},
     "output_type": "display_data"
    }
   ],
   "source": [
    "sum_2_to_6_i_plus_2.deduce_in_number_set(Complex)"
   ]
  },
  {
   "cell_type": "markdown",
   "metadata": {},
   "source": [
    "### Testing the Sum.geom_sum_reduction() method"
   ]
  },
  {
   "cell_type": "code",
   "execution_count": 21,
   "metadata": {},
   "outputs": [
    {
     "data": {
      "text/html": [
       "<strong id=\"example_geom_sum\">example_geom_sum:</strong> <a class=\"ProveItLink\" href=\"../__pv_it/demonstrations/a0b9bb4392d9d2fb4e4518a007f28ccafe4b95b50/expr.ipynb\"><img src=\"data:image/png;base64,iVBORw0KGgoAAAANSUhEUgAAADEAAAA9BAMAAAD2cJxUAAAAMFBMVEX///8AAAAAAAAAAAAAAAAA\n",
       "AAAAAAAAAAAAAAAAAAAAAAAAAAAAAAAAAAAAAAAAAAAv3aB7AAAAD3RSTlMAIolEZlTv3TIQq5l2\n",
       "zbvmMOqjAAAACXBIWXMAAA7EAAAOxAGVKw4bAAABjklEQVQ4y2NgAAFGZZMABqyAOb+IAYdMAwMu\n",
       "meZIXDILZwXg0sXxAbs4KwPnZ+wy/A2MH7HLcE/gWYBdhlNHiWFIgfv/EeAPikz8f0gMcAqfyv+G\n",
       "EJ7IwMD1vwDGY6lHBLgOENf/QgTSAxTj+v87wNkbUWR4/iOCmQXGsAEH8PvvKCoZd99r4DzwE8Sc\n",
       "9n8DsowcA9NnxqlgZzH//4oss5CBIY2B7wCYrf9tApJM/gSG9QLzZ4DZvP8vIMksZ2BY3xDLDfF+\n",
       "/ifUEKtnmHUQNYRgKQwRftz/M5Fl2JFSSz1KKO9DYssXIHFYkBPYMQEkThADI5zL/APZfgUGHrj/\n",
       "+pEzgvju3dvhKTQHxTP///+FsXk34Eok73BJcFci5SMU4IZwsitqHkU4mTUBRUYe7mTO/ShOQThZ\n",
       "dD1qkPP+vQsG5fn//6Mmlf1I6frLoMt1E3HK6MAYUy7gKsjOFODSzIomY7MAhwwoE+17BwQO6DLQ\n",
       "TITNNGgmwiIDzETYTWOAZiIsemCZiIFR99MBJHEAe/iKlZyu4MIAAAAASUVORK5CYII=\n",
       "\" style=\"display:inline;vertical-align:middle;\" /></a><br>"
      ],
      "text/plain": [
       "<IPython.core.display.HTML object>"
      ]
     },
     "metadata": {},
     "output_type": "display_data"
    }
   ],
   "source": [
    "example_geom_sum = Sum(i, Exp(two, i), domain=Interval(one, five))"
   ]
  },
  {
   "cell_type": "code",
   "execution_count": 22,
   "metadata": {},
   "outputs": [
    {
     "data": {
      "text/html": [
       "<span style=\"font-size:20px;\"> <a class=\"ProveItLink\" href=\"proofs/gen_finite_geom_sum/thm_proof.ipynb\" style=\"text-decoration: none\">&nbsp;&#x22A2;&nbsp;&nbsp;</a><a class=\"ProveItLink\" href=\"../__pv_it/theorems/63e74e2a5778c90cca7c19090c85e6da1fe406ad0/expr.ipynb\"><img src=\"data:image/png;base64,iVBORw0KGgoAAAANSUhEUgAAAeUAAABLCAMAAAB5j296AAAARVBMVEX///8AAAAAAAAAAAAAAAAA\n",
       "AAAAAAAAAAAAAAAAAAAAAAAAAAAAAAAAAAAAAAAAAAAAAAAAAAAAAAAAAAAAAAAAAAAAAAAeYafp\n",
       "AAAAFnRSTlMAq1RmmUTNIjK7EInv3Xbt5clAMFB8ZRcbKQAAAAlwSFlzAAAOxAAADsQBlSsOGwAA\n",
       "CRRJREFUeNrtXWu3rCYMlZfyUNretvz/n1p1HAUTBB2PQxfXD2etk6WyZUMSQsI0zaOXdPNFmm9f\n",
       "rUhLcq5u0E0pF8QyvLr7aSDSGTZe4tsdwklakncZUgzLEMvU14x8geWuhO6gvU5Kcq+elUMzioVV\n",
       "yrIGvaGvcyXKGLhxLLWyTNq05MTbVDmTGcNSKcvSiaTkjNPjaDkOGIKlUpbbNi1hg81+nxrKmcwI\n",
       "ljpZpmDiUmQq9+LER9liWEaw1MlyO6Qlo+o7M4H6giZz/5tldLRjc5GpprMmWzuUY5khlipZJk4n\n",
       "JaPMdlT3uWDdBy66vPn7AJYaWdZOJSWTWbb0BAHEXedqyH8Udwk1aw+x1MgyQzQaRcwy5yeIE848\n",
       "At53Cfm7S60dDrHUyLIC6lkhCns0y2Jo8rG6R/yvwCXcFBAdDrFUyLJ2Q1Iym+VGDo05MXauqWxt\n",
       "+QnHLXAJoyzvsVTIMgO6lWHaVo0wCctnzl5U2byhJxy3wCWMsrzHUiHLBARAiBN3fNclL1vrxvAT\n",
       "Ztl3CaMs77FUyHLv0pJL6xd3ceeyzd8MW11Crsarn/4whOU9lvpYzjTLF8i6qhFOdEjoEkbn8h5L\n",
       "fSxTsDam7paNQ54fy9bWEi2Nmd0u2effHbqEcZZ3WOpjmQMvid+z1GX5g2U0xHYkjM/cWJJ/d+gS\n",
       "vtvrTOuMPcBSH8stiIC098SgZfaKmXVTx+uRrxyzHN7doOvlBJb6WO7BurZ3twSSdXam5NQcf3nB\n",
       "rfAVtm6H7ZLwbjjJ87DUxzJ0hX1J6yIXbnN1F7znxGjpXy/kluv8u898payZ5Q7MuEBC3Y4r3QlL\n",
       "ehfRxoE1HE5o/jkJT+sfuRtiqY5lCpZNoYQ4bF3FchhsM51srURDplFj7r8bx1IdyxaEqHaSAa/7\n",
       "4GkHmmT66tRJzUfeBL3/bhxLdSwbsN7ZSaYKH8zr5RC2CBdBPLMsSHNrG8oZ/YG7cSwTy9v/lD3G\n",
       "8rON+oOcJCR2pBkbiAxGK5rAkzOf5IvcPpjbHct8jYa13WMsP9uot8Z0PCVRLi/k2ekw5GTcUBDL\n",
       "w45l+R7L3RMlAgvLzzbquyU8JdGjS523TaRsqATKSeQMscx2uV30jqHPsfxso75zZZISMersHFTa\n",
       "6XBV6ophOcQys8wWk/OIWXmz/GijXnwBcAolo75zOQWQtA3CT4Wz3PRzSK03T7L8aKM+pzYpmUNg\n",
       "sdHn7RBpYrtgzVMOyxRh+bUzrfSjLD/ZqM8pS0pepjky/IL9pIOeHe/0gtID+T7LHXn/yV6PHdqr\n",
       "LJZ3jZ7bMQjbP/EsXAyjy2MQ6Vw7LLpDNJnzYuayQFieZ5Q5SHWwio/aydNsR47x60W7THAkKhI2\n",
       "uu7BIInlpFeGKz8/KmzfT1un0x5svGAR+lW4p8Ujpjm+QzTFU4o5YSTEsrBMLeYGSUuUElMolXRT\n",
       "95ksll/Tc58Jvl6/3N9vPizue22J5W8Aw9i80Van26fvxU2sYNG5f5KSxfWOhqUjO0S/Mll2P3bF\n",
       "sPzr3p4uA9DX2oKxg+cRkccyWeYqHRJzGW3UTyxfAYzaUdLO15F4+0wx8JKLc3l8wxDVhvgO0X4u\n",
       "f9Muo3N5XLW+16/W8s5OQVv77jHN5GtidHgvr0+8+uA9FtIsb436qedrYrllgSEOTLHynd7lWato\n",
       "A15ymWWLFsId7RDJguyyxOxy0/XLYBvXBkQ1LR2/Z9WCHQUf7PXy+sScPar+iGWPQpbXRoPU83di\n",
       "uVaB00NlpP3lWdn7ZEULFvN87GnCStx3je8QFe99jd2yKcfRtI3/iPXbmWb6gOX1iRfn62NpltdG\n",
       "g9Tzd2K5YP583U2erf312dFv0M3+JVdZlpHg19EO0f+AZV+FzTSwdp6aoxaUUsgDlhs/o1jHs0cR\n",
       "lv04xGZRF3O8AZj048SgZwsV9qxYeY4XLA6A0wFdL9tPe7Zwlqd0s5EIuU2exftqYj7u8sSksf/8\n",
       "S+VrbHSgrInlHgBBJZtx4O1vb5Tk5R/ECxZhQgeW4tHyCz1LP9ytkDce9UjhboXvWfaNaV9Bhy0q\n",
       "1Zm57wy6Xvae8HaazrI8ZzJq0/iJ5RsAM79eDPgoC9LWO0L0UcGiAjEtKGnUpX0y9snOoya8vXG5\n",
       "zcDOY7h8ssLYeWXaqVXnaTNqz0AFKuyJcGTsM8EPWZ6zLmYHakssXwEwQog1qiURHz9cpUyvjxcs\n",
       "ErCpCCUcnVTJXSr7YRaBvZFlC7IIosPLTNoXjy7gg51mWDOc5cW00lwACjPpWaFRkCsCJAxdQ6VT\n",
       "csyHlTh3shxiuZr3hX9PzlhGWF5Tz4U+3X6Ytn728zEJvoaifcYA4sWwHGK5lWUqrrG8pp6z8+2v\n",
       "z0r1vrpjg9UeS9DTFnUOg+rDo93SLAdVdCewXGX5eq7WPTmcl98hgCMcSpA1VEeJy6mb+LTeKs1y\n",
       "fNfzGMvv2oqdpHWtfw1D/9oIyHCfP623SrJ8sOt5jKXGOqnuQMJj2z0s5836NpZP1sUlsNTH8gCO\n",
       "DBicuEdLfJjCmeV95QXlutorWwmYlsTdkvcvPk26z2E5sy5uh6U+li3wlu2HK6D1NeZnWT5RF7fD\n",
       "Uh/LcMqJeypfyKdHGphEz5yoi9thqfGMIJeQaDTQnmHwP3K+COlde+g9n6iLG2o/CWrsge5Ygobf\n",
       "k+fe6oLqZ/ZYKmTZAGfL3OF+UVfOj4ftsVTIsgB0iDsIIgWddr/HUuPJycdHNArk/K2cc2/7chJF\n",
       "AJYaWeYgEulJltJzvu59TMo849xbWZDCBlhqZFkgpayrZF96PjOfce6tLUhhAyxV/jpJ3x9JFOZi\n",
       "JzMV2oJ+aghgqZJlCwLXnuRVeh5q7PS5t9KZYkiWyDHvFbLcQBu6SXal5wvo1Ewl5RTCIVjqZNmA\n",
       "ftgku9LzZa6TVBiiHN8LwVInyxroNH2scVNm2Rb0C8wIlkp/sxVu/xxsCGUkEPa8GJIxLLX+yvZg\n",
       "0pJ1NZ0899YWZJUxLLWyTAEKeh2XdqwYklEstbKMnJ7KL+fME1UMyTiWalluBpaW5F2iL0df41i+\n",
       "wfJ8fX3lIUF/yItsDaKcqTzA1MXdiSMPGQ42X9/vGdGlJVkfVBDJEMurt1nzH4v4e8uE8omfAAAA\n",
       "AElFTkSuQmCC\n",
       "\" style=\"display:inline;vertical-align:middle;\" /></a></span>"
      ],
      "text/plain": [
       "|- forall_{x in Complex | x != 1} [forall_{j, k in Integer | j <= k} ((Sum_{i = j}^{k} x^{i}) = ((x^{j} - x^{k + 1}) / (1 - x)))]"
      ]
     },
     "metadata": {},
     "output_type": "display_data"
    }
   ],
   "source": [
    "# one of the theorems upon which the geom_sum_reduction() method is based:\n",
    "from proveit.numbers.summation import gen_finite_geom_sum\n",
    "gen_finite_geom_sum"
   ]
  },
  {
   "cell_type": "code",
   "execution_count": 23,
   "metadata": {},
   "outputs": [
    {
     "data": {
      "text/html": [
       "<strong id=\"self\">self:</strong> <a class=\"ProveItLink\" href=\"../__pv_it/demonstrations/a0b9bb4392d9d2fb4e4518a007f28ccafe4b95b50/expr.ipynb\"><img src=\"data:image/png;base64,iVBORw0KGgoAAAANSUhEUgAAADEAAAA9BAMAAAD2cJxUAAAAMFBMVEX///8AAAAAAAAAAAAAAAAA\n",
       "AAAAAAAAAAAAAAAAAAAAAAAAAAAAAAAAAAAAAAAAAAAv3aB7AAAAD3RSTlMAIolEZlTv3TIQq5l2\n",
       "zbvmMOqjAAAACXBIWXMAAA7EAAAOxAGVKw4bAAABjklEQVQ4y2NgAAFGZZMABqyAOb+IAYdMAwMu\n",
       "meZIXDILZwXg0sXxAbs4KwPnZ+wy/A2MH7HLcE/gWYBdhlNHiWFIgfv/EeAPikz8f0gMcAqfyv+G\n",
       "EJ7IwMD1vwDGY6lHBLgOENf/QgTSAxTj+v87wNkbUWR4/iOCmQXGsAEH8PvvKCoZd99r4DzwE8Sc\n",
       "9n8DsowcA9NnxqlgZzH//4oss5CBIY2B7wCYrf9tApJM/gSG9QLzZ4DZvP8vIMksZ2BY3xDLDfF+\n",
       "/ifUEKtnmHUQNYRgKQwRftz/M5Fl2JFSSz1KKO9DYssXIHFYkBPYMQEkThADI5zL/APZfgUGHrj/\n",
       "+pEzgvju3dvhKTQHxTP///+FsXk34Eok73BJcFci5SMU4IZwsitqHkU4mTUBRUYe7mTO/ShOQThZ\n",
       "dD1qkPP+vQsG5fn//6Mmlf1I6frLoMt1E3HK6MAYUy7gKsjOFODSzIomY7MAhwwoE+17BwQO6DLQ\n",
       "TITNNGgmwiIDzETYTWOAZiIsemCZiIFR99MBJHEAe/iKlZyu4MIAAAAASUVORK5CYII=\n",
       "\" style=\"display:inline;vertical-align:middle;\" /></a><br>"
      ],
      "text/plain": [
       "<IPython.core.display.HTML object>"
      ]
     },
     "metadata": {},
     "output_type": "display_data"
    }
   ],
   "source": [
    "self = example_geom_sum"
   ]
  },
  {
   "cell_type": "code",
   "execution_count": 24,
   "metadata": {},
   "outputs": [
    {
     "data": {
      "text/html": [
       "<span style=\"font-size:20px;\"> <a class=\"ProveItLink\" href=\"../__pv_it/demonstrations/e86ff73364324a88be20f2685833fa7bc3465d760/proof.ipynb\" style=\"text-decoration: none\">&nbsp;&#x22A2;&nbsp;&nbsp;</a><a class=\"ProveItLink\" href=\"../__pv_it/demonstrations/b937776f4ed298f2b4e3e699cc89a607316c9de50/expr.ipynb\"><img src=\"data:image/png;base64,iVBORw0KGgoAAAANSUhEUgAAAKYAAAA/BAMAAACYz67PAAAAMFBMVEX///8AAAAAAAAAAAAAAAAA\n",
       "AAAAAAAAAAAAAAAAAAAAAAAAAAAAAAAAAAAAAAAAAAAv3aB7AAAAD3RSTlMAmXbNRCIQ72Yyq1Td\n",
       "u4mXa1p+AAAACXBIWXMAAA7EAAAOxAGVKw4bAAAD4UlEQVRYw6WYz2sTQRTHX37sJmmSplEoHlqS\n",
       "k4qorRRESkuKCFI9NB6siD8SFenNFNQqeEjFmwpdPHgqRgURqtDcClJsBEFahJZe1IM01j8gbVrT\n",
       "pk277s/s7sysmxkH0t2+mfnkzXtvvjtZALntUf7C1VNPAGn8cWBr7k71erpWxPqOMDIHkuq1n9AX\n",
       "LjIh+fvaTf/ZNN75gInp0pYOZwbf4b1TaRZmTjBu8d5QCw1r+aB67dYNecj0YaOCfyiQHiGHTKpC\n",
       "KomP66Vg/gKvurgF3dIKhwjjZgTS7HN7f1gNXLRXgDuX1Ojn8rr51lFS4fhIAeUWoGSN0xVoXud3\n",
       "n+9T/pl0KosVgrEpCb5hi+UNwD1uEzJy9PhVB6Z3k+R8BZqsycumYTJZhciodO+vOgX+NsnPAjRZ\n",
       "J76XVix8hogckfCKEzOWJJpD2MR5eAjj8k1kwYk5M0reKnHEECiDe7lVERBHkUi9JJrnMMfr42Jy\n",
       "ADyiqaHfjyRYLwdlfTe+ym1WsbTX+xJylQZFLeA3T74VDQSvRDJcITEfowa/sZyaWqS1uuHpdv22\n",
       "WXHZvU1ABotw3mr5CJyWTG5HjYVofEs7Op1UwS8A9lszVAR32jIhIBqV7UJqJ7BD2JufotGCxXI5\n",
       "Gm3Tn0Vl9dohGiS9dryqpPA1QnFKuey0FqcorulOacEKiwVMd65H1MWIlCIf1hLOZ1cx3Rmc1lyg\n",
       "fHx4dCUYEPOY7ixq5ZakY/r04msWR1Dd4SuqHC/10TEjdSVIrKG6E+xU5Xgyz8ocEouI7vCvk//J\n",
       "rO9PTHdianG1KXt7zpmZMVQwtpEm605slM7PzLCpjuOY7iitFMemif9oZiZXs9EdArNRP913bXRH\n",
       "YzYcTyNHMCDY6A5tPA1mYNtOd9iZQ3E73aGtT1+decx2TCPMcVMdhvT9HrZ/Ji8JjkftV4k0rnXQ\n",
       "ZhhRt+Yb0KUOE9O1rj31jELyo8ws0DHdm1ghTaHjNyiZ/l21doxCuoY+JrkaJdO7ZS0k7oOIHvS0\n",
       "IY0zeVWJE11K6/ki1WUBPWCUKZnSAU/OlFlX0F3jsj+h8j2KBggIM+ZYKJ4VWj/HHDdzpEDLTDn+\n",
       "TssVaZk+Ry86hAaYJXMImytOw781gJzIdptiyJVNx1dibreAunWZjq8y4hFanlV65pjVw2eH0VIq\n",
       "0DMzSFqn0Z8do/RM17BxfCUxSyyvQ+QkScdX10+pfceYfJmBCQekz+C0nZ+uAgszJKd80Y6Z6mNh\n",
       "eqWjsnR8tVn7BNs7q9/SUaazheynf4SNGY6DfnwFuJpYNvddENiY/Kx93wnG93Vw0f7rGDL0F2g/\n",
       "WJu0Sbt3AAAAAElFTkSuQmCC\n",
       "\" style=\"display:inline;vertical-align:middle;\" /></a></span>"
      ],
      "text/plain": [
       "|- (Sum_{i = 1}^{5} 2^{i}) = ((2 - 2^{6}) / (-1))"
      ]
     },
     "metadata": {},
     "output_type": "display_data"
    }
   ],
   "source": [
    "example_geom_sum.geom_sum_reduction()"
   ]
  },
  {
   "cell_type": "markdown",
   "metadata": {},
   "source": [
    "### Testing the Sum.shifting() method"
   ]
  },
  {
   "cell_type": "code",
   "execution_count": 25,
   "metadata": {},
   "outputs": [
    {
     "data": {
      "text/html": [
       "<span style=\"font-size:20px;\"> <a class=\"ProveItLink\" href=\"../__pv_it/demonstrations/1ebf5229836152e1ad3ac8223dd30dd76df7bc510/proof.ipynb\" style=\"text-decoration: none\">&nbsp;&#x22A2;&nbsp;&nbsp;</a><a class=\"ProveItLink\" href=\"../__pv_it/demonstrations/0a034c6f998c83831e6219948879fe683e011c920/expr.ipynb\"><img src=\"data:image/png;base64,iVBORw0KGgoAAAANSUhEUgAAAQ0AAABABAMAAADyjT89AAAAMFBMVEX///8AAAAAAAAAAAAAAAAA\n",
       "AAAAAAAAAAAAAAAAAAAAAAAAAAAAAAAAAAAAAAAAAAAv3aB7AAAAD3RSTlMAmXbNRCIQ72Yyq1Td\n",
       "u4mXa1p+AAAACXBIWXMAAA7EAAAOxAGVKw4bAAAG+ElEQVRo3rVZX2gcRRifvbvd+3+XGtQ+pN4V\n",
       "0UpEEi1IKZUcfalvOcW/1HJnawlW68VaU8XCXRGsWCXnixAUL/hgiy85rFCQYq4iLdXoHYKoSE2M\n",
       "b0GIMck1aWLXmZ2Z3Zm7mdu5BRdyu53Z+fY335/f981XAP6nS/ey6BZyn79H6fVD+Q6TWhrffpuY\n",
       "UJFlPOg8+wbx3V+uKOHwNTpM3olvcdNcUhJ2n/M4nMX3P0BATX+/y6cCq0QtAPQoyYrP2ap5jTwc\n",
       "359XwzFSlU+VqH8k1IQZb9gWJWYxbn6wVQ1HdEw61Ws/faHonBco3kqZbGENFLJqay/JJsLr9j4b\n",
       "ijhi1H676cg6SJbU1k7L8Pon6VNoThFHdJW/A/ANSGbU1vobrgD9JVXWeIjoxZZ5Cnykuod1ycT3\n",
       "9lNSGcc09ouK7fy++dtU174scY8Nx+xlVVlB7CBTXhg4JR6O/O1BlmYtMpa84BgWa73Q40FWYM3y\n",
       "63UvOIKDwuHxshdhr1i86kWVQFsVDs96ys0pFGTJhpel0TXh8L+ecEwjIw/PeVmq3xBa+qYnHDlE\n",
       "filEXX6TudIqa08IrbWCfocYWf8oOdsoWoXSTNQk3np471lzVGXtrCib+puWmk3srcZj/cXrSqkf\n",
       "LdvEJLJpj767obJ2QJT6kzWLRMyanWTqVZW6Cn5Rx64VM+0EBbYp+ZaIKXLY5+uO82gqURBdwn+I\n",
       "kE0nALRsh0KXDlcacnAV02G5W61fSXomw2GoCx/xpAHTedeScq+E/IgXF2oiY+FJn+mwS8gakFhn\n",
       "LylVoFNoG7Su5QVHYTj7WnT/SO+vAJCSPimivxT53uwmP/4V/NvemhIvww8QvZnw+yRQjCKfZw4h\n",
       "p+GpRW+AxQzw40CJNUVBRGh9xOR2YKAk8AP/6pFeJIAcGup54KcqHDY55bGV6sMkmWZRpIfwJ/wi\n",
       "Yh8itg2YXMxpTFIM0Gdf06p46Log3VfC5IpflkQ+J3TTBBH4dfxafEWAo0hJZfE6Sy9B1t5pFkcQ\n",
       "vzabYew8tMy+PtiOI1IDEWjFXfgfIpYxbUIz2fXnpThI8ThVZXCMmIw7aPD54FYeB/IK+PaCAg6j\n",
       "yGaaO+DA9pIIR2KyHYfN7bTKndvXhqMCpbyJgRK+6ZtB17ctOGxuty6owURgVIQjhNWWKoGCE38p\n",
       "xqixKghXe9twoO9d4HBwceHg0Fhv+w6AD+lhjccRHbVxOA4ZYzJtMAMMcIxs+ATdsMXS+CyeEGRS\n",
       "g8lqdWb+OAD5IJKtzcxcOTkzM2njCGMtLKZZHDrDPhAHiDZb9fEO+tmnhCNX43CA6bxIH8RaPA7f\n",
       "q4C1Czyb5XkckGMfB+Aih4P1DxbHjixnF7DbENqlRnEw/DzMuFYcvl7IzPE4PgbgbgDek/oH46cB\n",
       "tvr+EUJcSQj9tEH9w8ERZiMRBVRFL3E49EtbttSsKHTHUWHJeQE5wlMtOBKrhB5acYyw9WAYfjDy\n",
       "Nu8fMVjnDaJTsAJ/HGOH0Wn1XAt/RM4un4MiM5Q/gjaO+zmRV9v5lGilJsdRtOmHy3PsETPKVb/P\n",
       "AIrDzptxvrA51Z7nuKQVFx2/6pSArnHDoR5BnmOzKczTtrw+h8SQbeOyDscBssfVDnlfu+zsH/38\n",
       "JDt9kL3Xs6TUh5idoA1VO7VziMygsA4i7ZPTzibOoJ+jskI9a9vTt9YWtJi4H5XU1mRpUnS6GCi1\n",
       "Bi0mbl1yJLqL3CHvhHBi1B23e1apAZAT1afjOAxzdtAaKZUGACLywA0+aPUvTaUGwPCkdNAJ2v1T\n",
       "pkoDAGEwcPUztNO69lyBHFFTwTEuUnXBSqr+ZSxspmiamyqyQihH1HGaZi6lxlZKtNGY5bwpRtaa\n",
       "UhNjnTYfur+GuuiKuHYfEfzxkqe1QoWH1jzJso7FOS8tLRAWdjp0T702UEFhFqx5WeoTB9VJTzgG\n",
       "kK8lml6WxsVNksW8F2E/W7rEhZXRnbsWJsXshqP5cFeyDExhO3FZQvngpYVPVehDzE9+XJXPU385\n",
       "06/AY6RzOs5rogf0KeDYIxHJB25kzqfQ5PJjDy3wp/oVkHPfgy4JUIMPo3A5oRAFOcwcGoIc6Kej\n",
       "b6ngSMiav7db7RXHeWIK7LRI9oAc9WAyr12D1y/w+S8FN013mDDSTbANCSsB3wMKbkpPQjvg3xMX\n",
       "uUaN2yV1IeQP+guOMY66N2M1+nYsjc8YtPBz5wB9RTr1NTn80E25FxG5DE3/0MmNZpnYRe/RXakk\n",
       "MimvS+DiwvPELiNl3T3jfGY//Yn6LjTNHJh431Uhp+VvJCCDnNeopvOhMVf2GGMPkcYnVAmweHE1\n",
       "y+sdJqGBj9C6Mzzf76rbJ53oNK52WS90CsYXu/yvoF3M89PdLX2uo7K6w2FgL/0PYrgq0ExR8QAA\n",
       "AAAASUVORK5CYII=\n",
       "\" style=\"display:inline;vertical-align:middle;\" /></a></span>"
      ],
      "text/plain": [
       "|- (Sum_{i = 2}^{6} (i + 2)) = (Sum_{i = 3}^{7} (i + 1))"
      ]
     },
     "metadata": {},
     "output_type": "display_data"
    }
   ],
   "source": [
    "sum_2_to_6_i_plus_2.shifting(one)"
   ]
  },
  {
   "cell_type": "code",
   "execution_count": 26,
   "metadata": {},
   "outputs": [
    {
     "data": {
      "text/html": [
       "<span style=\"font-size:20px;\"> <a class=\"ProveItLink\" href=\"../__pv_it/demonstrations/a2c7fc1f384b3a8466fc571e5c2aca2fab4ebd700/proof.ipynb\" style=\"text-decoration: none\">&nbsp;&#x22A2;&nbsp;&nbsp;</a><a class=\"ProveItLink\" href=\"../__pv_it/demonstrations/4f380969e43f7052ae08f502bdab20b8b1a2d9e80/expr.ipynb\"><img src=\"data:image/png;base64,iVBORw0KGgoAAAANSUhEUgAAAVMAAAA/BAMAAACvJDbSAAAAMFBMVEX///8AAAAAAAAAAAAAAAAA\n",
       "AAAAAAAAAAAAAAAAAAAAAAAAAAAAAAAAAAAAAAAAAAAv3aB7AAAAD3RSTlMAmXbNRCIQ72Yyq1Td\n",
       "u4mXa1p+AAAACXBIWXMAAA7EAAAOxAGVKw4bAAAHcUlEQVRo3rVabWgcRRievbvdu0vuIzFQ+yM1\n",
       "V8UP/GpKQWppyVGQ+i9XwS9svWulFOvHBa2tYCVXBBFRcvpDKBZzCNpShBYLFkppThFLNdpQqLY/\n",
       "QmP9ZRGTpkmafth1PndnZmfv5u72Bia7eXfnfZ6dfeeZmfcWAFTuAKRcegDoFOuxGheNDD6k7i6x\n",
       "u98DrRUeLtRPjuHyqF7jR2pcu4ccHo/PwL9dsH76cItUebjBHDn+CSJ6bZNTvpci86RTu0AWHibQ\n",
       "+YlWqbpw1tv0ZOcLBc1X8o7vpe3kvUef+A4ERtWFM+j7t25/tlSz8THfZ+ohh+LfW0qBUXXhRsvk\n",
       "aC6CYk6vbaLL50L8OjnmS9Z8cFQduDXMch2kS3ptO+d9LoQr5Jgug0VjcvLdyfNBUGVwLuyPIJ3V\n",
       "bLzOxz5GX0siC+aC61UGl5hghr1gv27bsbLa/is9xrri1QCpUrjRI46+Xlqi2zaqDtb4TXb26PIC\n",
       "pfriwKWWqVK4w820NWaU5g7JPAGCKQTOutJM28ii0lyUOrsrIKoELna9qcZvKq0jZdCeguGSM021\n",
       "7VMq8MU2MSVw6ebiaUypwP+1iyqGG5xqqm2+ogqp2+2iiuH6kOqHba5ktORjSDVQ55xZq2GHGnAD\n",
       "SP86bTq4tq0/YA9pLcwWVNOqY2zcoQbcLSKutxzrRzd12oZUd6WrzmnDDuvDmWQkJGw39pZprSBU\n",
       "cpx3h2jDDuvDUci47Wq6gXXIVLdh5rhqsI+5ku91iEuOVkXJ1bIiuNAsOV9hu7diHXrIZ96gY8S6\n",
       "pbi4ghtAHof4PR4hVVXW17IiOIMGUtKuij2ONGy52GxjzwUA2KbWVgk1x0J2iMtJWkPSjBv/Cdpk\n",
       "pTa715UdK4RL0pFqDYvB9xL685vYdAJMZ0GYbh7OKPYsF7l5VXaIbf2kgoQo5jt60ACXt+ybQWrO\n",
       "sUK4MFtYD9rCi+F3WU/SZVMOyVuMdsiAIrYEm+QQB22JVO8AX8DLZRpj9I6vANjtWKHrKJPClL2L\n",
       "b8xr4bdUhhdAB3wwettFxYZhmO9pySH2QKuaapS27sw43g7nmBXCpZ3VysBVPlT7vVQ7qqADhstq\n",
       "KpyK0SHGr+AQl6O0qqmGSyLVbyBImVkhnEt1u80FkAHPreUlgSqKMXj3ZV2qgkNc7qJ161IV1VRF\n",
       "pIoi1LEKVJ25ENAnTEWGZKqj0AtNQfWR5+gdR+VnFVXBIS6raZ3aoKIa65epxmcdK4QrusvVvmtu\n",
       "qCVgn33OchkuVUTpmEBVGOCSgPEOcfmF1PiRHhXVziGZaqLiWBHVIW4udHs+CgdNIZoh3babdZuB\n",
       "Jk6agpv2rpesa1KmQV5T7STVAm+gu9fiF1J2qOKEnDE+fmrP+HjFmZHjMwyOo2pyExCiCsYKUq9+\n",
       "iP5s0KZqyjMapQo6F1S9GpF7NVZxrSLV0FtACACwxhKpwhnsaWdbT6nysSpT5R3yAQDClYIqAKoS\n",
       "1ZPAzDErhHOHFRjk5pokvN2aS4lUvwDgPgA+9o1VebIdlDeFZ2ktZqdUw2pCpBqfAqECs0I4l2qc\n",
       "X1YiiYjPPCdQNb/v7q4StdGiGvesUy/TOmpKjVPzVCB5qpu6u3sdq0B1Ox98OI1zUNTVBNx79KPM\n",
       "lq6ueqJ5P60dH0iZjgNXD+I8l0D1jG1fdawQLupQXSm0Pu2drWjfVv2pDgv/rfQmH8ukqssm4JkC\n",
       "XCuES7DBmBQ32Xu9yxV3ySGvopzJhR8tSe+uHS11Yr4Zl6XSckWwQji2CAS9Lgzqr6RfUngzo5Wr\n",
       "vQiUHeJyjlbl/mKilhXCsf1wzBWWGPJs+WUyzilfNh1q3GpLdojLa7QqN6W5WlYIF1r0CAuZOZ/y\n",
       "2Toyh9dUG5aSUqmOuX2UIVVV7q1phXAxkhAxXWHZopUaNFV7qxFXLht2WB8uckMUFvO4rZUapO0k\n",
       "za94lUrXYX04i6x/B1bhsvYU1M6qTtvYrCq96i7IG3aoAXcGKxCfYipp5ZFVXZVwRLpxhxpwfbmm\n",
       "2oZVaVljvl2ZQAw30twzp1VvNbbYLqoYLt9cvn5UlZY1r7SLKoaLNhf0K5RT+Z52UcVwqYWm2v6h\n",
       "tE4X2kQVw5lEdazGRpd1Q2nOYzXdFjhTCreKLG6ZZL9++WsdnVPLehgLK/v1z/r3EOvlFr8KoXAj\n",
       "Yn92gV4d8VBHeExQKwMYVRDIVyEUriiO5TmQ1/idLK+WOEv4iSWdNVFvBPCbMIUz0J418iCzvq9F\n",
       "ddrHfifK3rKVQKwQFFUKZ6FxtTVdMCZhOQ/P/9EI81mfC8UMsDILYBnyhXJJ1UCoOnD3w/rMCSGD\n",
       "XHdK9hPj0BAwX3Ev7i8EQtWBS2To9pzuSDS0MZ/1u/IDySHQ2et3EMhXIQ4c+jTKWijTADC7zPoS\n",
       "e8j3ymAOFF9mAbARZWMC6FUX7i+U+mVLgc37PqnbrbFdvpdS/eCowTr1wr4lQVDl4OAbs75kXTls\n",
       "23XbPltDI86CHWw/FLXtGRDAVyEcnHW6wbara1x71fMYLX8VwsM936B2ZGtt2DxUW/0qhML9D0VY\n",
       "f4tt5mmVAAAAAElFTkSuQmCC\n",
       "\" style=\"display:inline;vertical-align:middle;\" /></a></span>"
      ],
      "text/plain": [
       "|- (Sum_{i = 2}^{6} (i + 2)) = (Sum_{i = 2 + 1}^{6 + 1} ((i - 1) + 2))"
      ]
     },
     "metadata": {},
     "output_type": "display_data"
    }
   ],
   "source": [
    "sum_2_to_6_i_plus_2.shifting(one, auto_simplify=False)"
   ]
  },
  {
   "cell_type": "code",
   "execution_count": 27,
   "metadata": {},
   "outputs": [
    {
     "data": {
      "text/html": [
       "<span style=\"font-size:20px;\"> <a class=\"ProveItLink\" href=\"../__pv_it/demonstrations/e88b7850561f0f92455984fd19799f33629fe44f0/proof.ipynb\" style=\"text-decoration: none\">&nbsp;&#x22A2;&nbsp;&nbsp;</a><a class=\"ProveItLink\" href=\"../__pv_it/demonstrations/9572c59b688dcdfe761db94abdd6c2eec350f7af0/expr.ipynb\"><img src=\"data:image/png;base64,iVBORw0KGgoAAAANSUhEUgAAAQ0AAAA/BAMAAAAI+YApAAAAMFBMVEX///8AAAAAAAAAAAAAAAAA\n",
       "AAAAAAAAAAAAAAAAAAAAAAAAAAAAAAAAAAAAAAAAAAAv3aB7AAAAD3RSTlMAmXbNRCIQ72Yyq1Td\n",
       "u4mXa1p+AAAACXBIWXMAAA7EAAAOxAGVKw4bAAAGwklEQVRo3p1ZX2wURRifvbudu+v9IxKVB/AK\n",
       "xmAwphgSg01NL7xAjKSn8Q9GzZ0gVlFzFREkmtyhD5j4p30yMZpc9QXSB9vIA5EQexqDQdFrTFR8\n",
       "wDbwxoMV2ztaqIwzOzO7M8fM7exOsnubnZ3Z337f7/t9M98BQNotzhlELs4Bk7an3KXT6iXnFzfT\n",
       "w7fB+73rCBvwJThlhCMy06XzTnJKbmg4h0G717scKtLfZVApGwH5S98Vazk/qQY9/FvG9QF8k/7a\n",
       "LZArGOEYntJ31QLigG+5HuV+PADqNSMcqYPartUgIA5wkvugPsYudr4wOmU0FHyr60guB8aRXsUu\n",
       "+l0TfZ0rmuGY1j0XHQ+MI9WSfwH4GDxsBgNEZ3wABsABHmR2cec8Dx4wxJFa1nT8DILjmKa8qLuc\n",
       "2PHRmCEO8JqGHtdZ6F260UsOo7nilCCTIETLq2/3/BNiLssZBK+EwTGkDvDKqhBzxZbIObEcBkdc\n",
       "nTtGx8JM9rqjq2FMCayW8vYsCOVkEmS5mTBDU0vK2/+FwjFNnDw0F2aofU3p6RuhcJSI+OVJaosi\n",
       "oRlF2yGltxbJeVCY618jso2QUSTNpBBj695tx9CIydhZ1Qoh2nbMjChb4WObqleNUj8ZtkJFZMW9\n",
       "+8F1k7F9qoyYcxS0B7lCmmiaJM4IfqNNqZVG4+7tdUbcUilFiXK+6ZHHMomC1BV6EEFGXgBYTq6y\n",
       "NQTli4UZPbg68lTuVuesSc/sdhLbIsKY1Ie8Z51Z7tGIH2NxRZXE+mhnBHnqknBuaLyzja03MCks\n",
       "xoYMkidO4XCOdNr+M0zOuxkVVPKXZ++bXZHvf4OP9Z0p8Qx+AbMbwu9ngQKrcp7ZQ0gjSwv8nMRW\n",
       "lAZKuq0KIibrw0j6AkiSwC/yo/tWkwnYpqFZBlFuwiEkGW+NcL3DtTvGkKCviKqEfZD5NoakmLNU\n",
       "STFCcBxxx8X5d2WRtPgVReQrEQegj2UWFXNXuajMXxXlJQ50OOL0sdmC4OfBBZEem7U4ttKVhkpl\n",
       "kCtoSBx/QosjSi01OSXgGEYCHSx8vXuNEsdlAxywKmaaO/CN9TUVjuz4zThcbQcM6Nx2JY53KVCm\n",
       "N2vPkfZjBw5X252GLZiNjahwJKjZ8jVQ8eIvLzg1PQWSU6uVOE5KOKS48HBYItt+AuBTa7MKR2rE\n",
       "xeHhTAuZNl4AEOxnH3yIf7CDo05prcikUMhqTaH/AADlOJkbDjjWG3NxJKkV5ntFHLagPhgHSLWV\n",
       "9thuhKPUkHCA6bLKHsxbMo7IG0D0C96blVU4Tks4RH6IODYWJb+Afqj0S4PjEPR5SKBWBpuxUphT\n",
       "4fhQyw+BpzFx9f0rhriYVfJ0hvPDw5EUI5EEVN2udeCYL9Io9MdRF8X5MiHCro5nsy0mD504hsX1\n",
       "YBIbrOe9Dn5MVPsxsu9N9GO/lB7xcbxDP3qOLRzH7i9w/Yi7OO6Tnjur0lOHzQ09jqorP1KeS2t3\n",
       "Nc8AjsPNmxl5YXNEleeEpJVRbb+aPCguSLcT2l3eGjdPu/Ot9QKL+Dajq3A8y76x1SXvW2e8REVO\n",
       "v+l2H+zbm0W21MeYvaBNEBxQt7Bkc8aV6yBWXjvqfcT75PSqbqFedP0ZWbopaKlwP6pZW7OhOdXu\n",
       "oq/WGbRUuG3Nlugu9ot1J0ETo+3R7jmjAkBJtT4dpWFYcoMW5k0KAETIY9fkoLVPIaMCwNC49qYX\n",
       "tE9PIpMCAMEA6epncIvTBn7Ae0GjctKoytQVJ6lGF+hk56oIrZjMlSA5oknTtNCMaqh51YemHfLm\n",
       "hbmWjIoYy7z4ELwNBqiK+FYfCfzRWqixSoMnlkLN5WyLS2FKWiCprHTYoWptoE7CLN4IMzSiDqq3\n",
       "Q+HoI1zLtsMMzaiLJPPlMJP94diSLqxgMLpWxtXqRqN5b6C5IJWwLXRZwvUga/TnmKZAGaWr8ov8\n",
       "DX9PGBiIVU5HZUu8A3Ya4BjQTCkHrgUsA/ZF6TMV+fsPA4M/P2xNgEI5jHIF2yBJlKhyWIRysU38\n",
       "DW0Q969pZXXF39ud8gonT6JsgmOefQMh6u5c2bqA2/lkG6T9la3S26UD9rbBOjIZnifr7xfId0Ib\n",
       "8fHEaS5Q2B7+BdS1Wl3BxrVfbkgVJL/swp9O99I9BvdLztcv9qK26zu2+WEP/m5AjwJP/5jksD1G\n",
       "/WLE055x/boED668xP3yCHjcF8eEe3WJ1F14mtkAHvIdelRv7SxWkBMWN8efn9zmqx4HxU0k/KLo\n",
       "6pjvUPtwl07s4H183RlHyPdflSc9RYRnA64XugXUKwH/CtoqXD8VbOjzXY0VDAekLP0f06Er/Kz4\n",
       "FA8AAAAASUVORK5CYII=\n",
       "\" style=\"display:inline;vertical-align:middle;\" /></a></span>"
      ],
      "text/plain": [
       "|- (Sum_{i = 0}^{9} (i + 1)) = (Sum_{i = 2}^{11} (i - 1))"
      ]
     },
     "metadata": {},
     "output_type": "display_data"
    }
   ],
   "source": [
    "sum_01.shifting(two)"
   ]
  },
  {
   "cell_type": "code",
   "execution_count": 28,
   "metadata": {},
   "outputs": [
    {
     "data": {
      "text/html": [
       "<span style=\"font-size:20px;\"><a class=\"ProveItLink\" href=\"../../ordering/__pv_it/theorems/27094ede24067904bb8353fa305df8461a3a4be40/expr.ipynb\"><img src=\"data:image/png;base64,iVBORw0KGgoAAAANSUhEUgAAADMAAAAQBAMAAABJt1qBAAAAMFBMVEX///8AAAAAAAAAAAAAAAAA\n",
       "AAAAAAAAAAAAAAAAAAAAAAAAAAAAAAAAAAAAAAAAAAAv3aB7AAAAD3RSTlMAIquJdkTvuxBmmd1U\n",
       "zTKBpmoTAAAACXBIWXMAAA7EAAAOxAGVKw4bAAAA3ElEQVQY02NgwADd32sbGMy+BTBgATWsCgwc\n",
       "H7DJMGgLWDIwJGCV0ingFWDYgCLkvnv3BRCtOIXxAqpUrAeUocj0wBksxajs6AASYLwBU6PIUMAe\n",
       "AJIKE2D/ARIAmg+XesWxAyjFkcnABTaXlwEhxXngONCFXB8YuA1AAs92A0EBRIpBgwkoxVbA0A/2\n",
       "eDuSLoYmDqBJ/Q4M88EC3MhSfA5A/f0HGHR5QC5gcYBJ1QGxH1CK3YFnFxdY5A5MCsTgAnqeQ8VO\n",
       "yA8s0lTaAKbffgPq4LiAElDB1buRBQCzkDPDLBuujwAAAABJRU5ErkJggg==\n",
       "\" style=\"display:inline;vertical-align:middle;\" /></a>, <a class=\"ProveItLink\" href=\"../../ordering/__pv_it/theorems/5d56aa038eb34c97b005be8161434236efec38e90/expr.ipynb\"><img src=\"data:image/png;base64,iVBORw0KGgoAAAANSUhEUgAAADEAAAAQBAMAAABNQoq8AAAAMFBMVEX///8AAAAAAAAAAAAAAAAA\n",
       "AAAAAAAAAAAAAAAAAAAAAAAAAAAAAAAAAAAAAAAAAAAv3aB7AAAAD3RSTlMAELvv3c2ZVESJq3Yi\n",
       "MmZ3LnoBAAAACXBIWXMAAA7EAAAOxAGVKw4bAAAA5UlEQVQY02NgQAcin1QFGCZ/bmBgVHZAk1Ln\n",
       "WMDA+AHIYE1Ak1lyYB4DgwGQwV+AJrNcgfUAA8igfgGoyCYXlwAQveY1TwBYZgpUonUjlLGG68JO\n",
       "sEzU7uUgPk8gzLQ1DApMDUAZxq8C8gdADjmAkLnG6AiUYf/IwLwBJMOAkOErKAK6jS2AgX8CkH/Z\n",
       "BQgUIDIMC7mAMiwTGPpB7hZC0sMgxegA9k4+yN0syDK8G4C6+S8w2oH43BtgMrpAvBcow/WACRI8\n",
       "4TAZEANoOwPjyjyIgJQGJDCufgaqZwxADq9OFRdkPgBHFjKLuGzoKQAAAABJRU5ErkJggg==\n",
       "\" style=\"display:inline;vertical-align:middle;\" /></a> <a class=\"ProveItLink\" href=\"../__pv_it/demonstrations/19aaa4f28c932010bee503882874f40a0531d5790/proof.ipynb\" style=\"text-decoration: none\">&nbsp;&#x22A2;&nbsp;&nbsp;</a><a class=\"ProveItLink\" href=\"../__pv_it/demonstrations/ee64c8c35bb21112d20b3bd831dbed6740aa98f30/expr.ipynb\"><img src=\"data:image/png;base64,iVBORw0KGgoAAAANSUhEUgAAAPgAAABLCAMAAABqUbriAAAANlBMVEX///8AAAAAAAAAAAAAAAAA\n",
       "AAAAAAAAAAAAAAAAAAAAAAAAAAAAAAAAAAAAAAAAAAAAAAAAAABHL6OuAAAAEXRSTlMAzUSZq1Tv\n",
       "EGYy3Xa7iSJQQBQRrlsAAAAJcEhZcwAADsQAAA7EAZUrDhsAAAZhSURBVHjazVzblqwoDJU7cpvh\n",
       "/3921LKqkHtAp5qHs9axe7l3JNkJAXpZPgPhBTCcEsvwgEHdNQqUCYW9xtJhBoQuPxlZyoxDZ5DL\n",
       "QXw41F0jQ1nAzcDeDaGL4S82PTKUKYK/hpoh9BGou0ZCefUDcuM8G8AegrpN32LKKJ2FFTUn1KgR\n",
       "Re+DcpJput5ueUSZ5WaB2vbkabiyNaBI8Ejz2w2PKKPc1PH29zZwZi2o99yv2yOr7nf2C+XszG0P\n",
       "NRWt6WNzXzyFCp1ePSD/F8rUZwzUW52jSeM1HqrQTaiv4Rrp5YERUBY+J2Nm+9wSNe2A6U8bKvi5\n",
       "ME9YHlCWWYfd465ZW2JvQahVKGK2wfd/5DsE7pf1kLLJud/id0bNEPYweWtDmXd5t+5Z94ka70NZ\n",
       "+Kx4bnEnTYclK8jTm1Dm+2yRjxT1H8oy764r0R0hpkG+3gH1SWd2U3r3hLp9KNOZGnIF6XoHlFme\n",
       "Hh/K3E9FjAe4YwcUedzwN+VC3HVXYgB/mYS6a5yUmZ/yLgKo1yeh7honZQJMxYleGQCi/QuGn5TR\n",
       "0Ko6kAoO8DH2Fww/KfO58kj4fm3kT1Riw5RDWUa+MHRNI7utKWSAEdRJWT/KQh+qT2SGcFhT7mvu\n",
       "rLr91xWcYwR1ahyU2SXFUJ/LOLJmHOqeGFbKZgOok/lM7wUcun4Mn1uREVOpxnqlWherPBgquJB1\n",
       "Ocr2mo7Wze1ySyLiyjmqd1/EFjMfCFWD/QDrDGUa8dYbhxxcyGs1IjSnt1qn5U/Ug/oOGJvnkZlo\n",
       "a4k5ijQtoxlA+yKNxKu2ZmGp0eUtvXVoAgVDPYUPFXikv0mWT4sNiSWmjGI2YpNTyEpBd4svqry3\n",
       "G5XIfmJsz9nHx5EkoawSbcKb2wHCSHZXMKomg72o/SkO893Nz0C8tDQOyjxlY7cMKh4wnFf1vw+V\n",
       "Adu67BRNJFPDda6UKr9faE2j8qPbcF2PhA6ZJLbEIz/r79b8ZWucvQyX2YCzlU7BZZ83MpyoYNDI\n",
       "8Gp8VlE/X0eWeOSypKbv7bdLo/ygnE2gSREZCMOWdS7BiLtn3DeaphXUr06wEo/SO1+/w3hMOS8p\n",
       "pBhwYn+ZuBYfotdw1lqvN8Oc4xwPgQI3WyM3Ey+WMWXv/ykUkcWAJJeM+y/A8H+aut8q/Dku8Ugd\n",
       "fX0VCOwl8THlwjS4Sj2h7FKe8UqMt/OVa1YxipV4FBbBp+FMpTOeZaO5K7PDkeHLTa5eQ31XeLrE\n",
       "I3UOGrj6ZW9kLan6Hv5rJXHHlUd3OmuoMG73NIK0JBu4UgZ5nNiYcpbNWpub6ADNfYavHSq9qhKP\n",
       "zHck5FykbGGBY8oqm8drEhP9EANK1kYe7+lofEWbAzpTTiWUcw0UVFwuULZ5mIgyZf8ipV65dS1S\n",
       "XsuNDA/A0uagbNJqyZiaMyoWh3z/srQmw6azP29cnkd1wk1KmSarQZI96/qCIZrg7oZS2oiozGkN\n",
       "9RoRJs+j9bFiyknnSGZTimTwhhKkSQVAdeCus3YZyjHvfEphvGJOb9ui8onAqFPjoCyvnpo9pilI\n",
       "tWnUOwOyGBRw1KlxUMYXUc6kFMdoddXUvyGGS/o/gDo1DsrX7Q3kUTiU4q/NHFUrS3rplXZSRlCn\n",
       "xoty2NclpV0s2VoLdBbrrrAaBaNOjRdlNXeM2gF2uNQvT2wnlOnch8WA0z/Uy79g+ElZz2kn5LyX\n",
       "9uQvGH5Sxn7qqgQF9OAnoe4aJ+XkSAMshyjAWmES6q7xpqwirVWwQ5ocBDkCdfMtjQ9lOyM5zEMu\n",
       "z8GgHrql8aGMPf1/QhwK9dAtjS/l8KCl0CSxRFiprSsVQcCaCQD10C2NLwcSFJ3k2JY7jsyb88i8\n",
       "UG5b+btCZwLmLSCoZ25pBJSDM/tCLDZpTGwPVl5KibBzGSCoZ25phJR5aBaKnWrfvChtTCKo5nRC\n",
       "PXhLI6Sswxp697TQ/8T+wEghsm5jwd+7H+qRWxpXykGkpk7N97jDUmQFEnx3AgD1yC2NK2X7/V/q\n",
       "1JhsBYSV2VIAnggBUE/c0ogoi+/8IwnxWzeA3A31xOH2mLJ+zQPCK0StOBmC7oV6YimXUH5tuRJN\n",
       "BNgE8BphAOq+CRdJAevgTjsmtMy75UcjR5mAI4qOxiD52c2ULGVoNYzHE4z6UQcqT3kFGqLGG4fr\n",
       "j/4eSoEyBoWemGmY4p9E+YXyf0MXTWQwai+ZAAAAAElFTkSuQmCC\n",
       "\" style=\"display:inline;vertical-align:middle;\" /></a></span>"
      ],
      "text/plain": [
       "{a in Natural, b in Natural} |- (Sum_{j = a}^{b} j) = (Sum_{j = a + 3}^{b + 3} (j - 3))"
      ]
     },
     "metadata": {},
     "output_type": "display_data"
    }
   ],
   "source": [
    "sum_a_to_b.shifting(three, assumptions=[InSet(a, Natural), InSet(b, Natural)])"
   ]
  },
  {
   "cell_type": "markdown",
   "metadata": {},
   "source": [
    "### Testing the `Sum.partition()`, `Sum.partition_first()`, and `Sum.partition_last` methods\n",
    "Notice that we also see a limited simplification of the resulting index and summand expressions."
   ]
  },
  {
   "cell_type": "code",
   "execution_count": 29,
   "metadata": {},
   "outputs": [
    {
     "data": {
      "text/html": [
       "<span style=\"font-size:20px;\"> <a class=\"ProveItLink\" href=\"../__pv_it/demonstrations/6e43f3a1f57b7182f0ec43e6e6581a742d1d2be20/proof.ipynb\" style=\"text-decoration: none\">&nbsp;&#x22A2;&nbsp;&nbsp;</a><a class=\"ProveItLink\" href=\"../__pv_it/demonstrations/e635ca1c4676236b609d4c46cdcff4ec97903ce10/expr.ipynb\"><img src=\"data:image/png;base64,iVBORw0KGgoAAAANSUhEUgAAAcUAAAA/BAMAAABjkc58AAAAMFBMVEX///8AAAAAAAAAAAAAAAAA\n",
       "AAAAAAAAAAAAAAAAAAAAAAAAAAAAAAAAAAAAAAAAAAAv3aB7AAAAD3RSTlMAmXbNRCIQ72Yyq1Td\n",
       "u4mXa1p+AAAACXBIWXMAAA7EAAAOxAGVKw4bAAAIL0lEQVRo3qWbXWwUVRTHz37M7G73q0iCJIJd\n",
       "YvwIRqkhMYRg2hATRB9aTESMwV1B0vjFVkXQSMISEzV+pOuLCZGwGx/U4AONPJAYYosxErRKQ4LK\n",
       "g3bFNzS01La0UBjvfM+ZOXf2zsxNyn8zt/3P78zcc+6dOwuA2m4BvV28B0Sa/KBPZ6yEFRJCnrCz\n",
       "wu8LyefkjHcbNPWGGM99Pn13uBTWiHnGx/ldYfkcnH39uv4FSTGPfIvblZzFCskRMU/4k9sTms/m\n",
       "lN8wPux5uiLmIb/F7RqoYYUdVcEYB4Z5ZwvNZ3PGjKEg3/xkuSDPCe7JlroUSqIxZvfyMjw8n8XZ\n",
       "qOsqzUO1X8wj18npyCxghWy/aIxwinM8Ap/Fud7sWYBiTfCaz3I6Ek2ssA2EYxzhBBCBz60A30Ox\n",
       "V5DnoTacFu+Ry13/CHomxttczxB8huYs64NwWPia1+njP7uUtXJFNCEX6HEXhc/QhlXP4heXiXqk\n",
       "6ITMXMfKWvrYbaKmr9DpGIXP0GMQosWmyMMdU1iDtS7yaCQ+XeUrYTyS8+ThaifWYK2PqijR+HRN\n",
       "L4TxgNfIo0N1rMFaqps4GJFP03yoYQVdZKGfcGnAAUbNSBH5NC2Oh/IYIWeqGy4N1rJUAkTk07Sv\n",
       "Fcqj3KSy4CbWgE26RiVpND5Nu9RpNaE4WkkodwapwTbj1OCm+6hBF41P0x51is4qRmbv2viFMij0\n",
       "+DJHrVTmnBrcdIJYLkTk03RRn4QWrd4Prws90lK/VRxFGth0DfF4FZFPVUkvDznFzq+VQvWBmrbK\n",
       "40gDm454p9WofKoanzOKXdNietmlnwIkc9V2w4fRUK+pBL6mjXEea2g+VePTxjBR7L/Rym6cfixP\n",
       "GhkvL1JjreRSt+m94GtaHfWOuYh8qsaMcZtXXP7fsp9V+NCWpRcAzK0xhaqBw1jdplk2D8Q7+aZF\n",
       "73wfmY9p3ihY8gGcYLK6rvoFD4NxmOyFhFH7zhI1cKKO1W26U82sFt805y3WkfmYJsz1U5+Cbn7M\n",
       "sY55xHiY6Fdnm7RxH3qIfDCPWX0uU+d2DGVqwZi9IMSXrPnwMU2Zl66goD2jlOPz18ahOehgZzR+\n",
       "bYJ4JD9Qweo2HWxjmp9x9YIQX7bkw8fUToGe/5wex704HaPQwUbOOuOxjsh5xZOryDTb3ca047on\n",
       "RhE+I0aaj6ntMaA4M+V2NuRX1VwnhBz77UtBYkSmMfZ5x3Lgm/rGyOfLlnz4UIzWeklr7GoUkoNu\n",
       "nAZze9uonfoJVoyp7UdejMg0wf6ktQn4prF5nxj5fHaMXj5Vq3a57rrqKJU/AXxqbt7aOGosJ7CH\n",
       "s9YpWN2muWHIDC8FvikRowifHSPBp8Zo14Gcc0W/B6CSKuk3ap95o2LqOsR4rzLpXf7LV7G6TVO9\n",
       "IMOrwDctTIO7ty1fbGzs9P6xsSaPj6nDQ3IuXfaoS7KK66K+r/6zKVCMTlMWI2TngG9qxIjuowCf\n",
       "dR8pPhxj/HVAYwHWy/iEbJnyBMBJ5OHMRypGpykbq5BoVvim/jFy+cwYKT5VHcunPudG0zmGOlPA\n",
       "JzwCcBfAR9x8JGoOMs2z01Z7W3xT35rD5zNjJPmY2h4Z9FzGKnBmahs6oXRqyZJRrWqLx4hMCyxp\n",
       "GlKNb+obI5/PiJHmQzEOoARTd92/xDg5RVG61bcOQeZHp2mGEXS8B3xT//mRy2fESPMxTVkeDyDc\n",
       "XN2zJDEu/Cg/xgMudZueAX9TIkYRvmzJh4+ptdTP4+fTdKdn+YwXwxPENvFZ9zOJy/Qg+JvmFzy9\n",
       "InzJmg8fU8t2hT3BalfgPGcTYbsZT3/7Zyu3ab7f3zQ3y322Cs3H1NwuTNuFOa15vMzxOO8Zj659\n",
       "Qoe6TeVxf9PUFHc7MzQf0/i8pzDriyGJ3saMm7fiKrXXUcPqMX0cfE2L3m3FyHxM0/qWtmQX5meF\n",
       "XhRJ1H7OUAtpYNOydz8nKp+qyWu4MEvfKEIvipLkvn0TaWDTvibvPKH5VJX1J8+etVrbcJrNMaMi\n",
       "Hulp4mC1G2lg0yFiDRyRT9OzWmY73yfURDxi1NXMTTk1uGkXNR9F49O0S/ArL+5XG9RrQfMFYmw2\n",
       "lCf0UHFH49N0qBbKo0iNmPQ81qCNrGPR+DQth3p1D40WVcyuYA3YMtRry4h8mqZGQ3msId/473dp\n",
       "sBancjwin6aFuVAev5FHJytYg7U89WYxIp+mkl5k5WCpLV+jJ/ES0l3BuKpNavxH4jN0rX65zKlp\n",
       "96XPRaYfeiJOdCO9aJ7x8lGRG0t/48XF98zDHwTgM3QIX6FOWCFSmuksSc9iNecUiIlk1QY6csy3\n",
       "abEVgM/QKv6bGSgLfIGoTFd0+SZWs5D3SgILMInz3S3Mt1lorJp8hsbUTE+uNnvfEYpxknP8Vqdu\n",
       "NPMrXRGJsUB/28jFt/kxkWE/iVVWk3pHsRL7g7Xf2ed/BVJ6mlc2SrbKpTlYqZqya1kQGKvVEv9c\n",
       "Nt+jW78S57M472Y/W0/aM/EPAqtBHnJ80FbpRfu3DgtcfF4dcPFBQ5zP4syV9P1Kc7NAAKfcy+v5\n",
       "zqF568ZIvwqk4wynA/MNQ7VXmM/iVP8rhjxXN8aC1Cm1n4qO8h8B+22tPm+O1S3qBnab1tHkPQoi\n",
       "vgUoi/PZnH+rrz/NZeH2Qx+3vZHpvfzC0W3r8Zh5iy4cav8N4ne5p0V8y2A1iPI5ONmYkj8zL84B\n",
       "RWnr8aRP5T1n6wt3mmtORWn7DU3pTf4az8m3+/6WMJ+DUz4TcDG4zqfvpTpW4Qc+/jNUaD4n51PB\n",
       "LGS/pJfqWEXbcz59IfkM/R+3FLlwDncFgQAAAABJRU5ErkJggg==\n",
       "\" style=\"display:inline;vertical-align:middle;\" /></a></span>"
      ],
      "text/plain": [
       "|- (Sum_{i = 2}^{6} (i + 2)) = ((Sum_{i = 2}^{4} (i + 2)) + (Sum_{i = 5}^{6} (i + 2)))"
      ]
     },
     "metadata": {},
     "output_type": "display_data"
    }
   ],
   "source": [
    "# Basic splitting. Notice the lower index value expression for\n",
    "# the second sum has been simplified from 4+1 to 5\n",
    "sum_2_to_6_i_plus_2.partition(four)"
   ]
  },
  {
   "cell_type": "code",
   "execution_count": 30,
   "metadata": {},
   "outputs": [
    {
     "data": {
      "text/html": [
       "<span style=\"font-size:20px;\"><a class=\"ProveItLink\" href=\"../../number_sets/integers/__pv_it/theorems/d82a9927958f2919b6e25fa4d8e512f4047160210/expr.ipynb\"><img src=\"data:image/png;base64,iVBORw0KGgoAAAANSUhEUgAAADIAAAAQBAMAAACmdTG/AAAAMFBMVEX///8AAAAAAAAAAAAAAAAA\n",
       "AAAAAAAAAAAAAAAAAAAAAAAAAAAAAAAAAAAAAAAAAAAv3aB7AAAAD3RSTlMAIquJdkTvuxBmmd1U\n",
       "zTKBpmoTAAAACXBIWXMAAA7EAAAOxAGVKw4bAAAA3klEQVQY02NgwAA8175d3102AVOCgaXoAcMF\n",
       "XiwSDFwLGFgm2GCTYRJgaOcoQDGlevdeEM3BwLCO6QGSBOuVBhiTT+EViGJUdnQA0bJwCQb2hgoQ\n",
       "FSbA/gNEX0RoP8wJUsuRycC1AcS9gJCBuJnrAwO3Acjs7N27d2+HOOWAKQNDAwNbAUN/AEgvwp3t\n",
       "jEC2IkO/A8N8MH8DXEYP6COODwz9Bxh0eQSAfBe4mxdEAb27gYHdgWcXF0iA9wDczTcYGGsKGDhU\n",
       "7IT8wF5Xj4DIhNWml+enGyAHgjkkdKAAAEfmMVewssrcAAAAAElFTkSuQmCC\n",
       "\" style=\"display:inline;vertical-align:middle;\" /></a>, <a class=\"ProveItLink\" href=\"../__pv_it/demonstrations/ffeed1e850313187bc8edf79bc81d8d745ca2b020/expr.ipynb\"><img src=\"data:image/png;base64,iVBORw0KGgoAAAANSUhEUgAAADIAAAASBAMAAADrvZC0AAAAMFBMVEX///8AAAAAAAAAAAAAAAAA\n",
       "AAAAAAAAAAAAAAAAAAAAAAAAAAAAAAAAAAAAAAAAAAAv3aB7AAAAD3RSTlMAIquJdkTvuxBmmd1U\n",
       "zTKBpmoTAAAACXBIWXMAAA7EAAAOxAGVKw4bAAAAtUlEQVQY02NgwAIkGxhwgPP///9PQBPjuQgi\n",
       "zVetWn0AVYJzF9gcAwYGKVQJls0QC4DqFVAkmrfAmcwPgASjsqMDmNe1E6FIHESECbD/ANFNd5C0\n",
       "qwIxRyYD1wYQhwlJhhHkZq4PDNwGYK4UwjTmC0CCrYChPwDdBdwFQKLfgWE+uqsZ+kGO7j/AoMsj\n",
       "gOpThvgFQILdgWcXFyJ07kECDmQzh4qdkB96kIodYKAQdO8GgX1wPgDJLixIGsMdCQAAAABJRU5E\n",
       "rkJggg==\n",
       "\" style=\"display:inline;vertical-align:middle;\" /></a> <a class=\"ProveItLink\" href=\"../__pv_it/demonstrations/c7b5bdb6208a6e0b3df368760be1c502be40fcd30/proof.ipynb\" style=\"text-decoration: none\">&nbsp;&#x22A2;&nbsp;&nbsp;</a><a class=\"ProveItLink\" href=\"../__pv_it/demonstrations/77b0b2ec0699ce5b91a15435c6d63b3b186154ea0/expr.ipynb\"><img src=\"data:image/png;base64,iVBORw0KGgoAAAANSUhEUgAAAdUAAABABAMAAAC+S/CAAAAAMFBMVEX///8AAAAAAAAAAAAAAAAA\n",
       "AAAAAAAAAAAAAAAAAAAAAAAAAAAAAAAAAAAAAAAAAAAv3aB7AAAAD3RSTlMAmXbNRCIQ72Yyq1Td\n",
       "u4mXa1p+AAAACXBIWXMAAA7EAAAOxAGVKw4bAAAJXElEQVRo3s2be2gcRRzHZ+9u9/ZeadOirdB6\n",
       "0VIrFZNIsYi0JPqPgn/kFKWIykWqVvBx8VGtWMhVQeszB/4hipigiCJCDkWLD5prfaFGEorVimhO\n",
       "xOc/sbVpkzbtOrM7MzuzO3M3OwviQnvtPj73/c3O7zG/3QPgP9hK4H+0LcOf3d2qV2wdVMAZXd7n\n",
       "6vdfqKlhrY3yY4QWXSRLTfR6n9lmbkwRk5hucQzjwBr8OeM4SxW5F8oPrdEXyVAH8CRbUrOOqY7Z\n",
       "T/JDBJeawzuWAkMVW2jKjhCajkifau3A/yiXwFFVzLa6dB4S3LYq9dffVLHWw9IvrOqL9KkGmXPp\n",
       "/sy8Kib3gNSvCG65f3K/cujYIwsEy+OIpNRREjhS395+UlnUPtkBgsss0F13qYfJvMSzKU1LJKVe\n",
       "Sg/dUZtTxkzIMgnBJf0Q8qy6rTmJAp+mI5JQfXpmMNVQxiSn24hlBuOSCPlvc5uh1ROJqXkqulBN\n",
       "1tRvwIJkEhLc1/6++Qi2ToglfB1PJKaO0oia2v1nBFH3SNwV4zKMV30RAZsWOqxP0xOJqeOaxVZR\n",
       "vJvgsn/rYQ3hdbq0Ike1DmvaOlAVJkiCqyzVw6aEE16XRkR6VHtB09Z0r2gvxY3UNLn3iXbq0qhI\n",
       "l1rQnB3AEIZ+ipvRXYgURclsJq5Il7pkWhOTE042ijula+uEyDdOxRXpUgeamhjzhNBBMC51WtfW\n",
       "smAZo02jIl1q0a1V+xx/O6LIeVA4A3Hpa7gFepLBOl2KLjYkmIpH44p0qX1uWTzheM5vXbt++Lgi\n",
       "ZkZUpvfhnUl34ZVzcKi69fLXnSHFZZ1gyebR4oh0qYte/nJo4WVP1dUwPaLzFonferzxRXrkacWS\n",
       "PSE4z6PFEYmoJvb6Kd/7DMVoNSHIeQQHyh4k7/jet1oxnAgSPqbFEImohDzq+OHvDE+21N9JNTjd\n",
       "Qij+jozjR2uj1LrThg9kTkkVxxCJqAns5AnHT5e2+/cF0soGB5mKYL1BcKAHn9Tj+La5QhPSyXc5\n",
       "rrwWBTOxK65IRDWId8wEviLXBNZ3IWuuXv49AOdjJxJUIRRXxCYVnABjL1y67wzdhc7NNZDAN80R\n",
       "RPd6bJGQWiA13bZAr28rCn9BjzSnwWw/SHqxLS8ImBQ3g4s6a5h3PwsVbRcFL7sJdMCsglubU+H4\n",
       "TmgxREJqksyKlMPHv5VoUILzLVtCicr26ElBkUj39ZGpO+BwEAPdvFCkfc1NhLsCl6aod5JdMURC\n",
       "RJrenNnj3HiibDgQHGF4dhZe7LWsCoJ+HsUNk0s7HK4Ll0aKQxMCnj0OtXjXzJBOXK4LBGn6IiHV\n",
       "d7qkwy5ccug/v4eWkQ2QXSA9lawoETLuQQb0H/aEd5D5oariLZiJayDp3cfxeshWJ75ISPVttYbZ\n",
       "otNoum2yvWeGeizwgr+i2LrNYSvus90+We7nkE9OwTEYa2urvkjOVlqCeQMIx9iaz727I9RjgQIe\n",
       "9b4Jp85Vk2j7UmYrrRNpm61S/XBLcDGTgcnK9u5ZsSq3VVskolZ8Ww3Ws/J11BK8KnNxEINs2sNj\n",
       "2P4BxllM4iiyPvYV0ntt/blgRZGH9zQ3JLGVoWmLRLYyvjPFLB7SMEAYO7wx3OreuC/82mzUizqC\n",
       "tQbBWUxtnmdXOPfDPyue8M7Z5HJrtIDMeAM1655uTE5+vnNycixI0xUJqayt5QaPyV90VsiYJ9Ff\n",
       "V0Sy1WQLAGTrx52hjoqNbEoNMbZy9/V4fJEBW9eV+OlRqQ8ERcFC5ToAPuIwrL+KbE1sB9wctk6m\n",
       "Qj2uvcAsgVxDwVZNkYjKxCZOQQF+z8hgpR5YYL8MwHkAPCP1V0FsApyWA/AeHrNOJgKRqQkSg8Ce\n",
       "bh+btEVCKmPrKFuAoPj/KqjU+A6Nua+zs+ElDmVbM1xqgpkg22stdPCX3djZuQqnkDa2aovkbLXu\n",
       "5UYanv0DSCzj82DecVAy/yRSfuVG/SV4N+rgnPMCydVxYMWR72+fX7VFQmrar5v4GrrFcwmzIbWV\n",
       "4obpLr7Qz7do9N4IZLYOxxcJqf5i5Uf+3F0tmq5Vfk3DmsIsK7BP8St6u0UDfyW/qGFqf0rTFwmp\n",
       "9N/GZ34cc0+Sv6lzE7ZrTmFNB1b5E8y9XwfldwKPylRJuqaLIRJSDbIOeNy/7CnXM+QNnYOB+Rpq\n",
       "bjK9U9tPOLZrq/wZOxE+LO/ExhAJqYn5UCzHpdo10kYfeW1G0AQlONBTDSUcr2gzpW3itfhT0A7F\n",
       "tDgiIdXG64YyjeVWUfGZWFnQbyI4MOLlAdOPXzcrPhA0Bf0mTIshElFTJwKx/IZxR/GZ2MCYoKV1\n",
       "gj9IE475gaP4QDB1QvZVcUQiquWtpJP/bHC3yWHHWVRsqY8IZqNFFuYVb33W52E3fQ5zXkMNa4vK\n",
       "7N64Il3qlOf8zKMS1bcbiqKhnWJWy2gFxmxVNawhSmV/xxXpUovab4H2CdkYZ8zpYpOi8D4XV6RL\n",
       "HanqYoTTiODseV3sElHIm48r0qWWNd9EABnhM1GCM3VfwwCjTUFsPhxXpEtNNzQxCWFcpbidurb2\n",
       "iMLAzrgiXWrHMU1MQfg8leJmBzW534l26tKoSJdqHtHUVBkTVgIEV+7Sw1rCVxN0aUQkpm5wnX9/\n",
       "ZIzkNZwNJPD16mHF7yAFaXb3GZFEYupIifS8om2bJHScdOw5PWxSGD+CtLWK7+lu4qkVFKHMyG85\n",
       "mZI0UMFh1DqthQVlYQ4M0r4ByUgiMdVA7mtPX0NCvfVHt0p50SExwyDRYAWPBXc/8quKvFnx7gCt\n",
       "p7kbRBGJqRaKJtm17203foTbIXBnaVTF1ookWlhHmBMQFqxG3Kr1aUal+LGOyL+OEZlwmiCCSEpd\n",
       "h9LiBYCEmk7wvApmlezAOpLahjissTSj8tKPIUn3AdqLLx6OIpJS89D4st+Kvx+sV/EE6Y8p8uSG\n",
       "7+ew6f7EmIq79ksO8LRecEUtgkhKRb98eSbVKHnTw5oDh25rj8lKhdOf5QyUXCyew5VS4TGFguBN\n",
       "6UK0xIg0p0FHPYJIn/oLAK9kGsQBtmeOPtYe87hc9y8kMPSy2HRp9Mr2ttrSn8LwtI0gO6gukqEW\n",
       "usBB8AaZE5c91d1+6WM+1KIuI5P4AItNrXz7j/bqtshnJke7+lyFoE5FMlQryvv4ODe3GA6KuzP6\n",
       "C84tfvERnUZFstTrI2u6pdVBgjMjq7P6W9ylmq5ITP0XN7fTHh1cMv4AAAAASUVORK5CYII=\n",
       "\" style=\"display:inline;vertical-align:middle;\" /></a></span>"
      ],
      "text/plain": [
       "{a in Integer, a <= 7} |- (Sum_{k = a}^{9} (k - 2)) = ((Sum_{k = a}^{7} (k - 2)) + (Sum_{k = 8}^{9} (k - 2)))"
      ]
     },
     "metadata": {},
     "output_type": "display_data"
    }
   ],
   "source": [
    "# Still pretty basic, but with a variable lower-bound; again, the\n",
    "# lower index value for second sum as been simplifed (7 + 1 = 8)\n",
    "sum_a_to_nine.partition(seven, assumptions=[InSet(a, Integer), LessEq(a, seven)])"
   ]
  },
  {
   "cell_type": "code",
   "execution_count": 31,
   "metadata": {},
   "outputs": [
    {
     "data": {
      "text/html": [
       "<span style=\"font-size:20px;\"><a class=\"ProveItLink\" href=\"../../number_sets/integers/__pv_it/theorems/d82a9927958f2919b6e25fa4d8e512f4047160210/expr.ipynb\"><img src=\"data:image/png;base64,iVBORw0KGgoAAAANSUhEUgAAADIAAAAQBAMAAACmdTG/AAAAMFBMVEX///8AAAAAAAAAAAAAAAAA\n",
       "AAAAAAAAAAAAAAAAAAAAAAAAAAAAAAAAAAAAAAAAAAAv3aB7AAAAD3RSTlMAIquJdkTvuxBmmd1U\n",
       "zTKBpmoTAAAACXBIWXMAAA7EAAAOxAGVKw4bAAAA3klEQVQY02NgwAA8175d3102AVOCgaXoAcMF\n",
       "XiwSDFwLGFgm2GCTYRJgaOcoQDGlevdeEM3BwLCO6QGSBOuVBhiTT+EViGJUdnQA0bJwCQb2hgoQ\n",
       "FSbA/gNEX0RoP8wJUsuRycC1AcS9gJCBuJnrAwO3Acjs7N27d2+HOOWAKQNDAwNbAUN/AEgvwp3t\n",
       "jEC2IkO/A8N8MH8DXEYP6COODwz9Bxh0eQSAfBe4mxdEAb27gYHdgWcXF0iA9wDczTcYGGsKGDhU\n",
       "7IT8wF5Xj4DIhNWml+enGyAHgjkkdKAAAEfmMVewssrcAAAAAElFTkSuQmCC\n",
       "\" style=\"display:inline;vertical-align:middle;\" /></a>, <a class=\"ProveItLink\" href=\"../__pv_it/demonstrations/ffeed1e850313187bc8edf79bc81d8d745ca2b020/expr.ipynb\"><img src=\"data:image/png;base64,iVBORw0KGgoAAAANSUhEUgAAADIAAAASBAMAAADrvZC0AAAAMFBMVEX///8AAAAAAAAAAAAAAAAA\n",
       "AAAAAAAAAAAAAAAAAAAAAAAAAAAAAAAAAAAAAAAAAAAv3aB7AAAAD3RSTlMAIquJdkTvuxBmmd1U\n",
       "zTKBpmoTAAAACXBIWXMAAA7EAAAOxAGVKw4bAAAAtUlEQVQY02NgwAIkGxhwgPP///9PQBPjuQgi\n",
       "zVetWn0AVYJzF9gcAwYGKVQJls0QC4DqFVAkmrfAmcwPgASjsqMDmNe1E6FIHESECbD/ANFNd5C0\n",
       "qwIxRyYD1wYQhwlJhhHkZq4PDNwGYK4UwjTmC0CCrYChPwDdBdwFQKLfgWE+uqsZ+kGO7j/AoMsj\n",
       "gOpThvgFQILdgWcXFyJ07kECDmQzh4qdkB96kIodYKAQdO8GgX1wPgDJLixIGsMdCQAAAABJRU5E\n",
       "rkJggg==\n",
       "\" style=\"display:inline;vertical-align:middle;\" /></a> <a class=\"ProveItLink\" href=\"../__pv_it/demonstrations/b64f0c79fdfb5745836a08c3d361885bb89ff8f20/proof.ipynb\" style=\"text-decoration: none\">&nbsp;&#x22A2;&nbsp;&nbsp;</a><a class=\"ProveItLink\" href=\"../__pv_it/demonstrations/5dfbf068cdd24fbb18b6e5c08c6a128496725b9d0/expr.ipynb\"><img src=\"data:image/png;base64,iVBORw0KGgoAAAANSUhEUgAAAekAAAA/BAMAAAA28C0iAAAAMFBMVEX///8AAAAAAAAAAAAAAAAA\n",
       "AAAAAAAAAAAAAAAAAAAAAAAAAAAAAAAAAAAAAAAAAAAv3aB7AAAAD3RSTlMAmXbNRCIQ72Yyq1Td\n",
       "u4mXa1p+AAAACXBIWXMAAA7EAAAOxAGVKw4bAAAI7klEQVRo3qXbe4hcVxkA8G8e9857HxE1QuOO\n",
       "hTbS0s2WYNHSsqP/tGBlb0ullLbMQKQpaJ01TWukhUwr9GGNOyAoFHGWiqJF3EHQ4oPu1CeRws4f\n",
       "1kQkZmooVv0jySa7yT6a67mP795zzpxz55wzB7LfZh6/ud+553nnLoBX9vg/If2vASiWQ42EJ/dw\n",
       "8bl3HEXWvm206pfZWdAp6NJ+ei6IP4NfqzLpfsJzc1x07L6qe8tI1S/FQWlZK+1bhv2F8FRsQbOh\n",
       "yvxT/hRyGCs1mFNlK4NRql8m2/amVtboxr59LIjWBkzWVJnDXWlrOsZGSF/Lt5Sb4tMj1KDUHbis\n",
       "18Sf5v0Unomj0FE+vNJTsmeQi1g4cE398F5vJKtBydUKV7WyjtzI77TDXz736FJXmXlT9gRyEVv4\n",
       "ycqUMlueSlaDkv3bYzt6WaMb+bdHzeBXk44ysyp76e08m4Hs15TZ0kayGpYvtjf0skaXjwDfgXvU\n",
       "mUxfjQd4BOB/6u6dKpVRaGR7ellHbhjL0eGfhk9pVN6WpCn1eTbTgB+pu6vtJBWH5FamrZk1umHs\n",
       "RH357m/pUF+RdMAucKy1Z1a940BuKknFfv3ifzSTjtwwroBZmRE/vMJF3ZK6kKSaF3SDaF80ZBaE\n",
       "sxxyxmz2aoI6RkE3iPktQyYnXHAhZ8zCEwnqOOUJOlYumDYZ4dyBnDELM45cHaeg68fJvqFSEq6O\n",
       "kDNmYbUlV8cp6PpxYWCoWNvC3j5go36pL8vVcQq6fpzxNxzzblzWFZmvCttRjY4mbG5RrhqSjOvH\n",
       "eX85vuoGU7V9/03HrygyZ0UbhfkGHU3YyqZcNSQZ14+7wTbdjVZ4+TXFLcgB0et2mWjCpnfkqiHJ\n",
       "uF603g9+X4t7aUpx6FgVrKKQG4MtXZSqpiTjehF/77jx0PnB4KNkb8eZpdNPpjVZfKLwfnJFDJN6\n",
       "rhfT4YiQduPpN+//vFnGfCaMTcG2J+L02Ww1XIftSlUJqed6MYW96Cz3YaUB2Kf4vKzpO9uQDut6\n",
       "UrB0QE6PhXs/8HeAj4f/caWqmEQXHn9GySWxgmu9wy7bTQ95e0S+5z4CE5cBwsurZcFgi5wea/Xh\n",
       "fM3bkQYdtyFTxWTkwq1KLokZbC5Zlx0793pnkx8jf+jP0s+G+2bBkhQf02OLjjeL5sNk5nHgyLZA\n",
       "9Ek8Gbmwo+SSmItO2PkrTB17c/kCX+vHG7BC3hM8XBFcpkROjyWvLpLEwguQZ3FJUqoCr4nIyM1u\n",
       "Krkkxp0z49KbqJL3n3/z9k/JTrcNmeAcFAVVjpweW+xBkTTiT4Z76S6fNTeCsGTsTiwquSTGoH2c\n",
       "voCbGviX6N74EO+vEX1ZI2tFtkze8F/FrFkydjPLpXcao10m62itF9QnOZ/21dIvjnFKgUwi+aCq\n",
       "U8GmK/WWX5YlWaux0CEZfj1cdLdGZM2SkQvN1m8eaI12SWzGYMqlruyXu96Fyc8WPsHXHcmutEhn\n",
       "zRTkdFn4C/n3uizrJpc1Q0YurN7f/bYz2vWypvrCGrUYyJGunzoWVOkh/2Se9H/f553v4CAmBFse\n",
       "5HRZf23ZCQeratiE/vxM2ISafIdd4z/ac+HDLwUd4A4fbotdP9Jgvccy5Vs/MnQpxzuK7KJW1gos\n",
       "fMP7cRd7dNS55rOu90RZ/366reJyWe932CbT7C7wzBtgOVDq0Vkz/VqUtQJLVlafB/itctb7HUEL\n",
       "t3eyWyouidRAwbynQl6y1Gh2q+xYNoB0A/J9ab8WjGYKLHwf4EaAE6qj2VB2vpvftHfSCi6JFMhc\n",
       "afdmpx9As81eunl4evq6cJpQzlqBtd6cnibt56OqWXeG9tWeW5yztyYUXCZr+whzVsmr/wHpPez8\n",
       "t+a6l0hzqunM1wps2XW9hccfVOfrI0Of67mVLnzsRgWXxFy8iGLX9Cfl+/OHQZo1cias1ZNlnePW\n",
       "ZoLdh4ZLYrxxOsO+9lk5s1e0E2L3YSZsKmyBZ9v87oPb3Z0RvFnDJTE69NSf4pHPz0n6jZyF31pu\n",
       "KOw01VnvG9+gGznJO02eBE2XxBRunF6I3/ay33mk16TwA3KiqwqX2ajBwtu4sZOqYhI0XRLTV4cm\n",
       "g3DBeZ9MuQHHGMGFa+QM2DQmc0WqSkhNl8R8uH2pR5OBPaN4F0ldcN0MuTFYa1eqmpKM68XsNjcZ\n",
       "PLTiKn53v7AsuDS3zUQTNrud+JAJOXRo9qVgMrh00C9vHXfdXUVmqTr8WMiNw+bXpaopybh+XAvW\n",
       "K9S3R6p3cs2IanqNiSZsakuuGpKM68cZBwzLvLAqHDbql8wFuTpOQdePSy1TRti+kDNnJ3tydZyC\n",
       "rh/rU4ZKQXifJHLGLHQGcnWcgq4fcz1DJS28VwQ5YxYOtOXqOAVdP05sGiqVRdGjyBmzcCpBHaec\n",
       "oqO1bqg0l4VrgXU2ahd7O0Edo6AbxoPej29WtZkl8RLhIB3zv9NmxTdZ8Vp+NvoS97E5LTeMSw5e\n",
       "bdMrd0gqw6HjUf0JpidXj1J7gce9qdcbVK/vablhbHpjWl376CzJEqE5oKKlf59YvSVVKe2vkPGG\n",
       "Fn8L0tNyw5jyRqUTVvRHM19+7l0VZUKSUGqRivn+fTgP2e+p3UN7Xq5S2oHBi5pZn2ej7Y0Urz50\n",
       "2Nl3hpSW/ceC0g3nTclIYK9TsXjDL59Meexp+JLTUcnaXpc/TGlpd6CXNXNYXtlP/h3pFrBWpwqL\n",
       "Ksx1sif2UzF3M+CYNw3fVVot9+Qqpb3yykW9rNGN/HIVrIvR1xG5WnpZpVtL/8amXI1jPf424ijc\n",
       "pNT9anKV0ubgrva+M6dI21TMGt3Iz26QHnOPBUELbzqV5xujlaK0arIbcTyR7TlBm7Q34PSjCkf3\n",
       "WoIaa1YfJrpa5/q1If8cFKvfw+vnOadzt0LWL8hfcy6OrxZ6OP48Wbj8vMKs+lSCSmm3QbGhkzW6\n",
       "lF+pVpziS1ipe3/+nkIDT/irnUo1im/Dj7FRfvrlWYWN0wPtBJXS7r3+3bBfW+euVdVdyrdP6q8l\n",
       "EjJAzoDFmykSVKYmtF3af1D76L6Q9OSDxqxdG63SA7OuG8b/Az493lb3gHs6AAAAAElFTkSuQmCC\n",
       "\" style=\"display:inline;vertical-align:middle;\" /></a></span>"
      ],
      "text/plain": [
       "{a in Integer, a <= 7} |- (Sum_{k = a}^{9} (k - 2)) = ((Sum_{k = a}^{8} (k - 2)) + (Sum_{k = 8 + 1}^{9} (k - 2)))"
      ]
     },
     "metadata": {},
     "output_type": "display_data"
    }
   ],
   "source": [
    "# This allows the splitting off of the last term but still keeping it\n",
    "# in a summation by disabling auto-simplification.\n",
    "sum_a_to_nine.partition(eight, assumptions=[InSet(a, Integer), LessEq(a, seven)],\n",
    "                        auto_simplify=False)"
   ]
  },
  {
   "cell_type": "code",
   "execution_count": 32,
   "metadata": {},
   "outputs": [
    {
     "data": {
      "text/html": [
       "<span style=\"font-size:20px;\"><a class=\"ProveItLink\" href=\"../../number_sets/integers/__pv_it/theorems/d82a9927958f2919b6e25fa4d8e512f4047160210/expr.ipynb\"><img src=\"data:image/png;base64,iVBORw0KGgoAAAANSUhEUgAAADIAAAAQBAMAAACmdTG/AAAAMFBMVEX///8AAAAAAAAAAAAAAAAA\n",
       "AAAAAAAAAAAAAAAAAAAAAAAAAAAAAAAAAAAAAAAAAAAv3aB7AAAAD3RSTlMAIquJdkTvuxBmmd1U\n",
       "zTKBpmoTAAAACXBIWXMAAA7EAAAOxAGVKw4bAAAA3klEQVQY02NgwAA8175d3102AVOCgaXoAcMF\n",
       "XiwSDFwLGFgm2GCTYRJgaOcoQDGlevdeEM3BwLCO6QGSBOuVBhiTT+EViGJUdnQA0bJwCQb2hgoQ\n",
       "FSbA/gNEX0RoP8wJUsuRycC1AcS9gJCBuJnrAwO3Acjs7N27d2+HOOWAKQNDAwNbAUN/AEgvwp3t\n",
       "jEC2IkO/A8N8MH8DXEYP6COODwz9Bxh0eQSAfBe4mxdEAb27gYHdgWcXF0iA9wDczTcYGGsKGDhU\n",
       "7IT8wF5Xj4DIhNWml+enGyAHgjkkdKAAAEfmMVewssrcAAAAAElFTkSuQmCC\n",
       "\" style=\"display:inline;vertical-align:middle;\" /></a>, <a class=\"ProveItLink\" href=\"../__pv_it/demonstrations/ffeed1e850313187bc8edf79bc81d8d745ca2b020/expr.ipynb\"><img src=\"data:image/png;base64,iVBORw0KGgoAAAANSUhEUgAAADIAAAASBAMAAADrvZC0AAAAMFBMVEX///8AAAAAAAAAAAAAAAAA\n",
       "AAAAAAAAAAAAAAAAAAAAAAAAAAAAAAAAAAAAAAAAAAAv3aB7AAAAD3RSTlMAIquJdkTvuxBmmd1U\n",
       "zTKBpmoTAAAACXBIWXMAAA7EAAAOxAGVKw4bAAAAtUlEQVQY02NgwAIkGxhwgPP///9PQBPjuQgi\n",
       "zVetWn0AVYJzF9gcAwYGKVQJls0QC4DqFVAkmrfAmcwPgASjsqMDmNe1E6FIHESECbD/ANFNd5C0\n",
       "qwIxRyYD1wYQhwlJhhHkZq4PDNwGYK4UwjTmC0CCrYChPwDdBdwFQKLfgWE+uqsZ+kGO7j/AoMsj\n",
       "gOpThvgFQILdgWcXFyJ07kECDmQzh4qdkB96kIodYKAQdO8GgX1wPgDJLixIGsMdCQAAAABJRU5E\n",
       "rkJggg==\n",
       "\" style=\"display:inline;vertical-align:middle;\" /></a> <a class=\"ProveItLink\" href=\"../__pv_it/demonstrations/94bf3a97212661a4424481f02bd3fc24c87f61540/proof.ipynb\" style=\"text-decoration: none\">&nbsp;&#x22A2;&nbsp;&nbsp;</a><a class=\"ProveItLink\" href=\"../__pv_it/demonstrations/616e2fb0c8ac4551db49da9137e181db1df24cb90/expr.ipynb\"><img src=\"data:image/png;base64,iVBORw0KGgoAAAANSUhEUgAAAV0AAAA/BAMAAACx7QZhAAAAMFBMVEX///8AAAAAAAAAAAAAAAAA\n",
       "AAAAAAAAAAAAAAAAAAAAAAAAAAAAAAAAAAAAAAAAAAAv3aB7AAAAD3RSTlMAmXbNRCIQ72Yyq1Td\n",
       "u4mXa1p+AAAACXBIWXMAAA7EAAAOxAGVKw4bAAAHsUlEQVRo3p2aXYgbVRTHzyQzk+/tbotWoZqI\n",
       "2EqL3S1FKVLZ6IsPCpmWSpVSEqm6gpWsta0VCxsVrLWWHfDBF3FDFb9eNi8qqLipiqVS2SBoK1I3\n",
       "pQ9+Idtuu9v9suNM5t47H7n3zp25sJtk/pPfnLn3nHPPvRMAq60Eu23cCIJtT4UjYpxUsF9fuaAJ\n",
       "YtV7RJTYgP2abmfqguBYi6MhHNyOPmtqS7Qf7hJRSuj2V+jqnCj4d7aEcfKs/ZorwoAoNtcOVtRD\n",
       "6E1Zg6ui4KEGc+QwbqiG+vd6siaKVV8KViR894lial4UnDnIUghuFT7Sfx2E2+eVQGVMR2/kX55e\n",
       "EgafZAkYl1pAB1Ifj/cKY7O9gcq95NAz+qwweIIV8xgXx7EbB/lFYWxmNkhxzkhV5KYwON4KuCC5\n",
       "od0A/4g7xH1BSpZcOFeL6+IdscAYNoz7kdxZBT4Qt3dCD1DGSKTLr/8lzoXnGO6LcCkSCsrKjZo4\n",
       "NtEboIxDtJanH8a49KVoWOkSX1EvR7S3RE2qBFftjYaV5/lKciGivQnqpEVwo3pE7vN8JRdx3ECi\n",
       "Zh6Cm4KofqZxlRWtiNwMdeAI7r+o9k7UuEqpHZGrLFK9GuHk61HtLde5Sr5ovR00nDYjCH6BOmZF\n",
       "5C2dyinuwhoFwbgY5iqDnTJiwrDDQ92xfuSaoL1TtNJkEB2MdyrTjIHC78kHPjSGBUvKOa6ybGdL\n",
       "g8zEycmGGLifdt4y9mObN75MlDcFa6nYEk9RUFxMOt4oCUbgBCXDYhyUbUjWcLzxFsE4vsxTsDpm\n",
       "OGF5g31pZqDhmbfFuRi6mZThZBFJE8KmmJnFUmIoumKGk06Tnf8bmPMMCpwqpZjDOOhHJ/UbTjqt\n",
       "CWHVZb/yaMVRJOwtU77TMm1Qz3ZZtG3VrwB3IhelzDQEl0fOnTOafiw8e5iHBaPL8czkMoyUHJ4/\n",
       "hwyvO+6xgtzvoUoLpotWgdjxTUogE9wUmo7VkctdWNjEw8KkP+/829e3poGUOHYD2fDG5U1WD/oz\n",
       "QFqzkmDSvo04ZUImxwaxG5SMhh8LSzys81UZhZQ5JNuwkiCdNH3Nc1/WAJT8d2qenTYtsteaOcpi\n",
       "muBG8Fd7jIN+rDzHw8JUEfsO8mjzhutYcZwwbrgLroz14Q+/OekmpM0R32J/oCRKgnOccPCKH9sz\n",
       "zMPCeMNnr/kNHSuOveqIe8qX2p2l49c3dq13zC/8HcbeIaPtw8brmQsVJpZm727otpfMyXZvm76j\n",
       "zmc+PdS13jEhr9rXtlOrdKbT6ix7yZyMsVCtfbmzxsRCvtZl7/tEqTr2Sm5Pyzaspe5Dqbv99v5g\n",
       "bV247fU0jFNdSSnvCgwLCxM7Gm9pTCzFXmXYsdflS5OuyixhOr10yO7wPZ0OPO1M1mO2U1EKOYxT\n",
       "XUVT1lWZWVhYfdQ+Z2uHq/uwMF1Aw3bqMBq2ngGiuO0tN732Zjfd3GXQG9a/B0PZqyx7sfBtn87B\n",
       "Invd/Yv3CHz2rtO8/lBtlPxgc3p6BOArt70e/6XZGzvgxapL8gIHS7G3WieKK948lJx57mil2vAV\n",
       "2e8CrAU4zvRfSryB+6YtbHJOXYqxsRT/LfUSxWXvmHsi6jFv6T2o6t7VknKyr890mlvD2Jta8mHT\n",
       "A+pCDxtLsXeiTbFX3eep3czv/waxld48mTUrD9P3vwuVfws+bK4Bt61lYyn5d2eDKAlnfvMWN6c5\n",
       "K80m016CGyGHNoXE0uYLIIpTZJ33ai9zdh5q3lrM3VMYR4qsXCsklpR2pN5xVoy6c1HpeydaO9dh\n",
       "79Gh2TE7K1BPwhrHoxpCWJhknmIqEi6yjjhnHeu4M3sV97Nv7N19dNW3rk86ySzZEMK6XMnfTCU2\n",
       "35XMMnYO3c5cpuLHSZQFOsZBf60rmX0uhgX2foKpJFFRVibJTM0L7iyWKes3jINROwUpTkw+LrgR\n",
       "qizzFHnRl8x2jRuCO4slysaRvOgVSTJTvjAEN0LlRZ6i2tV0/MrmTjszYhjLgvs7o5QNJhUX51W7\n",
       "RBm0sVtPmRm2KYZNznCVSTs8XPtcos/g8rRxmHTV31aJ6mo1wX3aBa6SD/FswbdVxtu9lWajYuOX\n",
       "uMpoLSqY6jcYl5yPil3R5CrliM8ZIEXd4cU4JepjERhrc5VEMyI3RvUzgjsc1d5+nav0zEXk5qj7\n",
       "uQQ3XYnIPctXlJmI3GqdmtMxrlyIhlUXA5TNnc3k8HTGA6vNOJitBJz8JjSW/XwNKaMaXgeGa1sZ\n",
       "t4ESWrKT0PaHT2fNAKVqRV05NFdhJKwqCm/VSh9K+Id75VqAIllxc1whP41S/xR6PN3DMEXCYbja\n",
       "6uTW9nY4LEwHKaoVISd2DWnSebOdg73amAi4yvB4dcZ1QvqOzw6Ew6ozgco6829fI4WP98HbIv2w\n",
       "hiWsw/nZ7OjEBtDDYaVmoJItmLORs5OzH9aLuC/zl1RZ3PFmbig7OzliWCgXAxV51vSzhxWwB06d\n",
       "hXNPBXPTdWaViiudkgbH5aYWCgufCCgXIV14h+xgHEhdfS2Ye4Q9fV3EETkAJ1LNdihs8qCAkivk\n",
       "tPRR/On+YxuDSzaF84unHHaIn8wl5Ed6GCzs1AUU9XT4rM65NsHtDf+TjS1CymOhuU/wRIxTQtur\n",
       "FgOU/wHkj8ISNGVfGAAAAABJRU5ErkJggg==\n",
       "\" style=\"display:inline;vertical-align:middle;\" /></a></span>"
      ],
      "text/plain": [
       "{a in Integer, a <= 7} |- (Sum_{k = a}^{9} (k - 2)) = ((Sum_{k = a}^{8} (k - 2)) + 7)"
      ]
     },
     "metadata": {},
     "output_type": "display_data"
    }
   ],
   "source": [
    "# Auto-simplification reduces the last term appropriately.\n",
    "sum_a_to_nine.partition(eight, assumptions=[InSet(a, Integer), LessEq(a, seven)])"
   ]
  },
  {
   "cell_type": "code",
   "execution_count": 33,
   "metadata": {},
   "outputs": [
    {
     "data": {
      "text/html": [
       "<span style=\"font-size:20px;\"><a class=\"ProveItLink\" href=\"../../number_sets/integers/__pv_it/theorems/d82a9927958f2919b6e25fa4d8e512f4047160210/expr.ipynb\"><img src=\"data:image/png;base64,iVBORw0KGgoAAAANSUhEUgAAADIAAAAQBAMAAACmdTG/AAAAMFBMVEX///8AAAAAAAAAAAAAAAAA\n",
       "AAAAAAAAAAAAAAAAAAAAAAAAAAAAAAAAAAAAAAAAAAAv3aB7AAAAD3RSTlMAIquJdkTvuxBmmd1U\n",
       "zTKBpmoTAAAACXBIWXMAAA7EAAAOxAGVKw4bAAAA3klEQVQY02NgwAA8175d3102AVOCgaXoAcMF\n",
       "XiwSDFwLGFgm2GCTYRJgaOcoQDGlevdeEM3BwLCO6QGSBOuVBhiTT+EViGJUdnQA0bJwCQb2hgoQ\n",
       "FSbA/gNEX0RoP8wJUsuRycC1AcS9gJCBuJnrAwO3Acjs7N27d2+HOOWAKQNDAwNbAUN/AEgvwp3t\n",
       "jEC2IkO/A8N8MH8DXEYP6COODwz9Bxh0eQSAfBe4mxdEAb27gYHdgWcXF0iA9wDczTcYGGsKGDhU\n",
       "7IT8wF5Xj4DIhNWml+enGyAHgjkkdKAAAEfmMVewssrcAAAAAElFTkSuQmCC\n",
       "\" style=\"display:inline;vertical-align:middle;\" /></a>, <a class=\"ProveItLink\" href=\"../__pv_it/demonstrations/ffeed1e850313187bc8edf79bc81d8d745ca2b020/expr.ipynb\"><img src=\"data:image/png;base64,iVBORw0KGgoAAAANSUhEUgAAADIAAAASBAMAAADrvZC0AAAAMFBMVEX///8AAAAAAAAAAAAAAAAA\n",
       "AAAAAAAAAAAAAAAAAAAAAAAAAAAAAAAAAAAAAAAAAAAv3aB7AAAAD3RSTlMAIquJdkTvuxBmmd1U\n",
       "zTKBpmoTAAAACXBIWXMAAA7EAAAOxAGVKw4bAAAAtUlEQVQY02NgwAIkGxhwgPP///9PQBPjuQgi\n",
       "zVetWn0AVYJzF9gcAwYGKVQJls0QC4DqFVAkmrfAmcwPgASjsqMDmNe1E6FIHESECbD/ANFNd5C0\n",
       "qwIxRyYD1wYQhwlJhhHkZq4PDNwGYK4UwjTmC0CCrYChPwDdBdwFQKLfgWE+uqsZ+kGO7j/AoMsj\n",
       "gOpThvgFQILdgWcXFyJ07kECDmQzh4qdkB96kIodYKAQdO8GgX1wPgDJLixIGsMdCQAAAABJRU5E\n",
       "rkJggg==\n",
       "\" style=\"display:inline;vertical-align:middle;\" /></a> <a class=\"ProveItLink\" href=\"../__pv_it/demonstrations/50c6dc89f1c3d3ea8a4f21ecea8c22943c2427020/proof.ipynb\" style=\"text-decoration: none\">&nbsp;&#x22A2;&nbsp;&nbsp;</a><a class=\"ProveItLink\" href=\"../__pv_it/demonstrations/616e2fb0c8ac4551db49da9137e181db1df24cb90/expr.ipynb\"><img src=\"data:image/png;base64,iVBORw0KGgoAAAANSUhEUgAAAV0AAAA/BAMAAACx7QZhAAAAMFBMVEX///8AAAAAAAAAAAAAAAAA\n",
       "AAAAAAAAAAAAAAAAAAAAAAAAAAAAAAAAAAAAAAAAAAAv3aB7AAAAD3RSTlMAmXbNRCIQ72Yyq1Td\n",
       "u4mXa1p+AAAACXBIWXMAAA7EAAAOxAGVKw4bAAAHsUlEQVRo3p2aXYgbVRTHzyQzk+/tbotWoZqI\n",
       "2EqL3S1FKVLZ6IsPCpmWSpVSEqm6gpWsta0VCxsVrLWWHfDBF3FDFb9eNi8qqLipiqVS2SBoK1I3\n",
       "pQ9+Idtuu9v9suNM5t47H7n3zp25sJtk/pPfnLn3nHPPvRMAq60Eu23cCIJtT4UjYpxUsF9fuaAJ\n",
       "YtV7RJTYgP2abmfqguBYi6MhHNyOPmtqS7Qf7hJRSuj2V+jqnCj4d7aEcfKs/ZorwoAoNtcOVtRD\n",
       "6E1Zg6ui4KEGc+QwbqiG+vd6siaKVV8KViR894lial4UnDnIUghuFT7Sfx2E2+eVQGVMR2/kX55e\n",
       "EgafZAkYl1pAB1Ifj/cKY7O9gcq95NAz+qwweIIV8xgXx7EbB/lFYWxmNkhxzkhV5KYwON4KuCC5\n",
       "od0A/4g7xH1BSpZcOFeL6+IdscAYNoz7kdxZBT4Qt3dCD1DGSKTLr/8lzoXnGO6LcCkSCsrKjZo4\n",
       "NtEboIxDtJanH8a49KVoWOkSX1EvR7S3RE2qBFftjYaV5/lKciGivQnqpEVwo3pE7vN8JRdx3ECi\n",
       "Zh6Cm4KofqZxlRWtiNwMdeAI7r+o9k7UuEqpHZGrLFK9GuHk61HtLde5Sr5ovR00nDYjCH6BOmZF\n",
       "5C2dyinuwhoFwbgY5iqDnTJiwrDDQ92xfuSaoL1TtNJkEB2MdyrTjIHC78kHPjSGBUvKOa6ybGdL\n",
       "g8zEycmGGLifdt4y9mObN75MlDcFa6nYEk9RUFxMOt4oCUbgBCXDYhyUbUjWcLzxFsE4vsxTsDpm\n",
       "OGF5g31pZqDhmbfFuRi6mZThZBFJE8KmmJnFUmIoumKGk06Tnf8bmPMMCpwqpZjDOOhHJ/UbTjqt\n",
       "CWHVZb/yaMVRJOwtU77TMm1Qz3ZZtG3VrwB3IhelzDQEl0fOnTOafiw8e5iHBaPL8czkMoyUHJ4/\n",
       "hwyvO+6xgtzvoUoLpotWgdjxTUogE9wUmo7VkctdWNjEw8KkP+/829e3poGUOHYD2fDG5U1WD/oz\n",
       "QFqzkmDSvo04ZUImxwaxG5SMhh8LSzys81UZhZQ5JNuwkiCdNH3Nc1/WAJT8d2qenTYtsteaOcpi\n",
       "muBG8Fd7jIN+rDzHw8JUEfsO8mjzhutYcZwwbrgLroz14Q+/OekmpM0R32J/oCRKgnOccPCKH9sz\n",
       "zMPCeMNnr/kNHSuOveqIe8qX2p2l49c3dq13zC/8HcbeIaPtw8brmQsVJpZm727otpfMyXZvm76j\n",
       "zmc+PdS13jEhr9rXtlOrdKbT6ix7yZyMsVCtfbmzxsRCvtZl7/tEqTr2Sm5Pyzaspe5Dqbv99v5g\n",
       "bV247fU0jFNdSSnvCgwLCxM7Gm9pTCzFXmXYsdflS5OuyixhOr10yO7wPZ0OPO1M1mO2U1EKOYxT\n",
       "XUVT1lWZWVhYfdQ+Z2uHq/uwMF1Aw3bqMBq2ngGiuO0tN732Zjfd3GXQG9a/B0PZqyx7sfBtn87B\n",
       "Invd/Yv3CHz2rtO8/lBtlPxgc3p6BOArt70e/6XZGzvgxapL8gIHS7G3WieKK948lJx57mil2vAV\n",
       "2e8CrAU4zvRfSryB+6YtbHJOXYqxsRT/LfUSxWXvmHsi6jFv6T2o6t7VknKyr890mlvD2Jta8mHT\n",
       "A+pCDxtLsXeiTbFX3eep3czv/waxld48mTUrD9P3vwuVfws+bK4Bt61lYyn5d2eDKAlnfvMWN6c5\n",
       "K80m016CGyGHNoXE0uYLIIpTZJ33ai9zdh5q3lrM3VMYR4qsXCsklpR2pN5xVoy6c1HpeydaO9dh\n",
       "79Gh2TE7K1BPwhrHoxpCWJhknmIqEi6yjjhnHeu4M3sV97Nv7N19dNW3rk86ySzZEMK6XMnfTCU2\n",
       "35XMMnYO3c5cpuLHSZQFOsZBf60rmX0uhgX2foKpJFFRVibJTM0L7iyWKes3jINROwUpTkw+LrgR\n",
       "qizzFHnRl8x2jRuCO4slysaRvOgVSTJTvjAEN0LlRZ6i2tV0/MrmTjszYhjLgvs7o5QNJhUX51W7\n",
       "RBm0sVtPmRm2KYZNznCVSTs8XPtcos/g8rRxmHTV31aJ6mo1wX3aBa6SD/FswbdVxtu9lWajYuOX\n",
       "uMpoLSqY6jcYl5yPil3R5CrliM8ZIEXd4cU4JepjERhrc5VEMyI3RvUzgjsc1d5+nav0zEXk5qj7\n",
       "uQQ3XYnIPctXlJmI3GqdmtMxrlyIhlUXA5TNnc3k8HTGA6vNOJitBJz8JjSW/XwNKaMaXgeGa1sZ\n",
       "t4ESWrKT0PaHT2fNAKVqRV05NFdhJKwqCm/VSh9K+Id75VqAIllxc1whP41S/xR6PN3DMEXCYbja\n",
       "6uTW9nY4LEwHKaoVISd2DWnSebOdg73amAi4yvB4dcZ1QvqOzw6Ew6ozgco6829fI4WP98HbIv2w\n",
       "hiWsw/nZ7OjEBtDDYaVmoJItmLORs5OzH9aLuC/zl1RZ3PFmbig7OzliWCgXAxV51vSzhxWwB06d\n",
       "hXNPBXPTdWaViiudkgbH5aYWCgufCCgXIV14h+xgHEhdfS2Ye4Q9fV3EETkAJ1LNdihs8qCAkivk\n",
       "tPRR/On+YxuDSzaF84unHHaIn8wl5Ed6GCzs1AUU9XT4rM65NsHtDf+TjS1CymOhuU/wRIxTQtur\n",
       "FgOU/wHkj8ISNGVfGAAAAABJRU5ErkJggg==\n",
       "\" style=\"display:inline;vertical-align:middle;\" /></a></span>"
      ],
      "text/plain": [
       "{a in Integer, a <= 7} |- (Sum_{k = a}^{9} (k - 2)) = ((Sum_{k = a}^{8} (k - 2)) + 7)"
      ]
     },
     "metadata": {},
     "output_type": "display_data"
    }
   ],
   "source": [
    "# Or we can also explicitly use partition_last and allow\n",
    "# simplification of the term being peeled off.  The result is the \n",
    "# same, but the proof is potentially simpler (not so much right now\n",
    "# because the proof of 9-1=8 is overly complicated at the moment).\n",
    "sum_a_to_nine.partition_last(assumptions=[InSet(a, Integer), LessEq(a, seven)])"
   ]
  },
  {
   "cell_type": "code",
   "execution_count": 34,
   "metadata": {},
   "outputs": [
    {
     "data": {
      "text/html": [
       "<span style=\"font-size:20px;\"><a class=\"ProveItLink\" href=\"../../number_sets/integers/__pv_it/theorems/d82a9927958f2919b6e25fa4d8e512f4047160210/expr.ipynb\"><img src=\"data:image/png;base64,iVBORw0KGgoAAAANSUhEUgAAADIAAAAQBAMAAACmdTG/AAAAMFBMVEX///8AAAAAAAAAAAAAAAAA\n",
       "AAAAAAAAAAAAAAAAAAAAAAAAAAAAAAAAAAAAAAAAAAAv3aB7AAAAD3RSTlMAIquJdkTvuxBmmd1U\n",
       "zTKBpmoTAAAACXBIWXMAAA7EAAAOxAGVKw4bAAAA3klEQVQY02NgwAA8175d3102AVOCgaXoAcMF\n",
       "XiwSDFwLGFgm2GCTYRJgaOcoQDGlevdeEM3BwLCO6QGSBOuVBhiTT+EViGJUdnQA0bJwCQb2hgoQ\n",
       "FSbA/gNEX0RoP8wJUsuRycC1AcS9gJCBuJnrAwO3Acjs7N27d2+HOOWAKQNDAwNbAUN/AEgvwp3t\n",
       "jEC2IkO/A8N8MH8DXEYP6COODwz9Bxh0eQSAfBe4mxdEAb27gYHdgWcXF0iA9wDczTcYGGsKGDhU\n",
       "7IT8wF5Xj4DIhNWml+enGyAHgjkkdKAAAEfmMVewssrcAAAAAElFTkSuQmCC\n",
       "\" style=\"display:inline;vertical-align:middle;\" /></a>, <a class=\"ProveItLink\" href=\"../__pv_it/demonstrations/ffeed1e850313187bc8edf79bc81d8d745ca2b020/expr.ipynb\"><img src=\"data:image/png;base64,iVBORw0KGgoAAAANSUhEUgAAADIAAAASBAMAAADrvZC0AAAAMFBMVEX///8AAAAAAAAAAAAAAAAA\n",
       "AAAAAAAAAAAAAAAAAAAAAAAAAAAAAAAAAAAAAAAAAAAv3aB7AAAAD3RSTlMAIquJdkTvuxBmmd1U\n",
       "zTKBpmoTAAAACXBIWXMAAA7EAAAOxAGVKw4bAAAAtUlEQVQY02NgwAIkGxhwgPP///9PQBPjuQgi\n",
       "zVetWn0AVYJzF9gcAwYGKVQJls0QC4DqFVAkmrfAmcwPgASjsqMDmNe1E6FIHESECbD/ANFNd5C0\n",
       "qwIxRyYD1wYQhwlJhhHkZq4PDNwGYK4UwjTmC0CCrYChPwDdBdwFQKLfgWE+uqsZ+kGO7j/AoMsj\n",
       "gOpThvgFQILdgWcXFyJ07kECDmQzh4qdkB96kIodYKAQdO8GgX1wPgDJLixIGsMdCQAAAABJRU5E\n",
       "rkJggg==\n",
       "\" style=\"display:inline;vertical-align:middle;\" /></a> <a class=\"ProveItLink\" href=\"../__pv_it/demonstrations/50c6dc89f1c3d3ea8a4f21ecea8c22943c2427020/proof.ipynb\" style=\"text-decoration: none\">&nbsp;&#x22A2;&nbsp;&nbsp;</a><a class=\"ProveItLink\" href=\"../__pv_it/demonstrations/616e2fb0c8ac4551db49da9137e181db1df24cb90/expr.ipynb\"><img src=\"data:image/png;base64,iVBORw0KGgoAAAANSUhEUgAAAV0AAAA/BAMAAACx7QZhAAAAMFBMVEX///8AAAAAAAAAAAAAAAAA\n",
       "AAAAAAAAAAAAAAAAAAAAAAAAAAAAAAAAAAAAAAAAAAAv3aB7AAAAD3RSTlMAmXbNRCIQ72Yyq1Td\n",
       "u4mXa1p+AAAACXBIWXMAAA7EAAAOxAGVKw4bAAAHsUlEQVRo3p2aXYgbVRTHzyQzk+/tbotWoZqI\n",
       "2EqL3S1FKVLZ6IsPCpmWSpVSEqm6gpWsta0VCxsVrLWWHfDBF3FDFb9eNi8qqLipiqVS2SBoK1I3\n",
       "pQ9+Idtuu9v9suNM5t47H7n3zp25sJtk/pPfnLn3nHPPvRMAq60Eu23cCIJtT4UjYpxUsF9fuaAJ\n",
       "YtV7RJTYgP2abmfqguBYi6MhHNyOPmtqS7Qf7hJRSuj2V+jqnCj4d7aEcfKs/ZorwoAoNtcOVtRD\n",
       "6E1Zg6ui4KEGc+QwbqiG+vd6siaKVV8KViR894lial4UnDnIUghuFT7Sfx2E2+eVQGVMR2/kX55e\n",
       "EgafZAkYl1pAB1Ifj/cKY7O9gcq95NAz+qwweIIV8xgXx7EbB/lFYWxmNkhxzkhV5KYwON4KuCC5\n",
       "od0A/4g7xH1BSpZcOFeL6+IdscAYNoz7kdxZBT4Qt3dCD1DGSKTLr/8lzoXnGO6LcCkSCsrKjZo4\n",
       "NtEboIxDtJanH8a49KVoWOkSX1EvR7S3RE2qBFftjYaV5/lKciGivQnqpEVwo3pE7vN8JRdx3ECi\n",
       "Zh6Cm4KofqZxlRWtiNwMdeAI7r+o9k7UuEqpHZGrLFK9GuHk61HtLde5Sr5ovR00nDYjCH6BOmZF\n",
       "5C2dyinuwhoFwbgY5iqDnTJiwrDDQ92xfuSaoL1TtNJkEB2MdyrTjIHC78kHPjSGBUvKOa6ybGdL\n",
       "g8zEycmGGLifdt4y9mObN75MlDcFa6nYEk9RUFxMOt4oCUbgBCXDYhyUbUjWcLzxFsE4vsxTsDpm\n",
       "OGF5g31pZqDhmbfFuRi6mZThZBFJE8KmmJnFUmIoumKGk06Tnf8bmPMMCpwqpZjDOOhHJ/UbTjqt\n",
       "CWHVZb/yaMVRJOwtU77TMm1Qz3ZZtG3VrwB3IhelzDQEl0fOnTOafiw8e5iHBaPL8czkMoyUHJ4/\n",
       "hwyvO+6xgtzvoUoLpotWgdjxTUogE9wUmo7VkctdWNjEw8KkP+/829e3poGUOHYD2fDG5U1WD/oz\n",
       "QFqzkmDSvo04ZUImxwaxG5SMhh8LSzys81UZhZQ5JNuwkiCdNH3Nc1/WAJT8d2qenTYtsteaOcpi\n",
       "muBG8Fd7jIN+rDzHw8JUEfsO8mjzhutYcZwwbrgLroz14Q+/OekmpM0R32J/oCRKgnOccPCKH9sz\n",
       "zMPCeMNnr/kNHSuOveqIe8qX2p2l49c3dq13zC/8HcbeIaPtw8brmQsVJpZm727otpfMyXZvm76j\n",
       "zmc+PdS13jEhr9rXtlOrdKbT6ix7yZyMsVCtfbmzxsRCvtZl7/tEqTr2Sm5Pyzaspe5Dqbv99v5g\n",
       "bV247fU0jFNdSSnvCgwLCxM7Gm9pTCzFXmXYsdflS5OuyixhOr10yO7wPZ0OPO1M1mO2U1EKOYxT\n",
       "XUVT1lWZWVhYfdQ+Z2uHq/uwMF1Aw3bqMBq2ngGiuO0tN732Zjfd3GXQG9a/B0PZqyx7sfBtn87B\n",
       "Invd/Yv3CHz2rtO8/lBtlPxgc3p6BOArt70e/6XZGzvgxapL8gIHS7G3WieKK948lJx57mil2vAV\n",
       "2e8CrAU4zvRfSryB+6YtbHJOXYqxsRT/LfUSxWXvmHsi6jFv6T2o6t7VknKyr890mlvD2Jta8mHT\n",
       "A+pCDxtLsXeiTbFX3eep3czv/waxld48mTUrD9P3vwuVfws+bK4Bt61lYyn5d2eDKAlnfvMWN6c5\n",
       "K80m016CGyGHNoXE0uYLIIpTZJ33ai9zdh5q3lrM3VMYR4qsXCsklpR2pN5xVoy6c1HpeydaO9dh\n",
       "79Gh2TE7K1BPwhrHoxpCWJhknmIqEi6yjjhnHeu4M3sV97Nv7N19dNW3rk86ySzZEMK6XMnfTCU2\n",
       "35XMMnYO3c5cpuLHSZQFOsZBf60rmX0uhgX2foKpJFFRVibJTM0L7iyWKes3jINROwUpTkw+LrgR\n",
       "qizzFHnRl8x2jRuCO4slysaRvOgVSTJTvjAEN0LlRZ6i2tV0/MrmTjszYhjLgvs7o5QNJhUX51W7\n",
       "RBm0sVtPmRm2KYZNznCVSTs8XPtcos/g8rRxmHTV31aJ6mo1wX3aBa6SD/FswbdVxtu9lWajYuOX\n",
       "uMpoLSqY6jcYl5yPil3R5CrliM8ZIEXd4cU4JepjERhrc5VEMyI3RvUzgjsc1d5+nav0zEXk5qj7\n",
       "uQQ3XYnIPctXlJmI3GqdmtMxrlyIhlUXA5TNnc3k8HTGA6vNOJitBJz8JjSW/XwNKaMaXgeGa1sZ\n",
       "t4ESWrKT0PaHT2fNAKVqRV05NFdhJKwqCm/VSh9K+Id75VqAIllxc1whP41S/xR6PN3DMEXCYbja\n",
       "6uTW9nY4LEwHKaoVISd2DWnSebOdg73amAi4yvB4dcZ1QvqOzw6Ew6ozgco6829fI4WP98HbIv2w\n",
       "hiWsw/nZ7OjEBtDDYaVmoJItmLORs5OzH9aLuC/zl1RZ3PFmbig7OzliWCgXAxV51vSzhxWwB06d\n",
       "hXNPBXPTdWaViiudkgbH5aYWCgufCCgXIV14h+xgHEhdfS2Ye4Q9fV3EETkAJ1LNdihs8qCAkivk\n",
       "tPRR/On+YxuDSzaF84unHHaIn8wl5Ed6GCzs1AUU9XT4rM65NsHtDf+TjS1CymOhuU/wRIxTQtur\n",
       "FgOU/wHkj8ISNGVfGAAAAABJRU5ErkJggg==\n",
       "\" style=\"display:inline;vertical-align:middle;\" /></a></span>"
      ],
      "text/plain": [
       "{a in Integer, a <= 7} |- (Sum_{k = a}^{9} (k - 2)) = ((Sum_{k = a}^{8} (k - 2)) + 7)"
      ]
     },
     "metadata": {},
     "output_type": "display_data"
    }
   ],
   "source": [
    "sum_a_to_nine.partition(nine, side='before', assumptions=[InSet(a, Integer), LessEq(a, seven)])"
   ]
  },
  {
   "cell_type": "code",
   "execution_count": 35,
   "metadata": {},
   "outputs": [
    {
     "data": {
      "text/html": [
       "<span style=\"font-size:20px;\"><a class=\"ProveItLink\" href=\"../../number_sets/integers/__pv_it/theorems/d82a9927958f2919b6e25fa4d8e512f4047160210/expr.ipynb\"><img src=\"data:image/png;base64,iVBORw0KGgoAAAANSUhEUgAAADIAAAAQBAMAAACmdTG/AAAAMFBMVEX///8AAAAAAAAAAAAAAAAA\n",
       "AAAAAAAAAAAAAAAAAAAAAAAAAAAAAAAAAAAAAAAAAAAv3aB7AAAAD3RSTlMAIquJdkTvuxBmmd1U\n",
       "zTKBpmoTAAAACXBIWXMAAA7EAAAOxAGVKw4bAAAA3klEQVQY02NgwAA8175d3102AVOCgaXoAcMF\n",
       "XiwSDFwLGFgm2GCTYRJgaOcoQDGlevdeEM3BwLCO6QGSBOuVBhiTT+EViGJUdnQA0bJwCQb2hgoQ\n",
       "FSbA/gNEX0RoP8wJUsuRycC1AcS9gJCBuJnrAwO3Acjs7N27d2+HOOWAKQNDAwNbAUN/AEgvwp3t\n",
       "jEC2IkO/A8N8MH8DXEYP6COODwz9Bxh0eQSAfBe4mxdEAb27gYHdgWcXF0iA9wDczTcYGGsKGDhU\n",
       "7IT8wF5Xj4DIhNWml+enGyAHgjkkdKAAAEfmMVewssrcAAAAAElFTkSuQmCC\n",
       "\" style=\"display:inline;vertical-align:middle;\" /></a>, <a class=\"ProveItLink\" href=\"../__pv_it/demonstrations/ffeed1e850313187bc8edf79bc81d8d745ca2b020/expr.ipynb\"><img src=\"data:image/png;base64,iVBORw0KGgoAAAANSUhEUgAAADIAAAASBAMAAADrvZC0AAAAMFBMVEX///8AAAAAAAAAAAAAAAAA\n",
       "AAAAAAAAAAAAAAAAAAAAAAAAAAAAAAAAAAAAAAAAAAAv3aB7AAAAD3RSTlMAIquJdkTvuxBmmd1U\n",
       "zTKBpmoTAAAACXBIWXMAAA7EAAAOxAGVKw4bAAAAtUlEQVQY02NgwAIkGxhwgPP///9PQBPjuQgi\n",
       "zVetWn0AVYJzF9gcAwYGKVQJls0QC4DqFVAkmrfAmcwPgASjsqMDmNe1E6FIHESECbD/ANFNd5C0\n",
       "qwIxRyYD1wYQhwlJhhHkZq4PDNwGYK4UwjTmC0CCrYChPwDdBdwFQKLfgWE+uqsZ+kGO7j/AoMsj\n",
       "gOpThvgFQILdgWcXFyJ07kECDmQzh4qdkB96kIodYKAQdO8GgX1wPgDJLixIGsMdCQAAAABJRU5E\n",
       "rkJggg==\n",
       "\" style=\"display:inline;vertical-align:middle;\" /></a> <a class=\"ProveItLink\" href=\"../__pv_it/demonstrations/50c6dc89f1c3d3ea8a4f21ecea8c22943c2427020/proof.ipynb\" style=\"text-decoration: none\">&nbsp;&#x22A2;&nbsp;&nbsp;</a><a class=\"ProveItLink\" href=\"../__pv_it/demonstrations/616e2fb0c8ac4551db49da9137e181db1df24cb90/expr.ipynb\"><img src=\"data:image/png;base64,iVBORw0KGgoAAAANSUhEUgAAAV0AAAA/BAMAAACx7QZhAAAAMFBMVEX///8AAAAAAAAAAAAAAAAA\n",
       "AAAAAAAAAAAAAAAAAAAAAAAAAAAAAAAAAAAAAAAAAAAv3aB7AAAAD3RSTlMAmXbNRCIQ72Yyq1Td\n",
       "u4mXa1p+AAAACXBIWXMAAA7EAAAOxAGVKw4bAAAHsUlEQVRo3p2aXYgbVRTHzyQzk+/tbotWoZqI\n",
       "2EqL3S1FKVLZ6IsPCpmWSpVSEqm6gpWsta0VCxsVrLWWHfDBF3FDFb9eNi8qqLipiqVS2SBoK1I3\n",
       "pQ9+Idtuu9v9suNM5t47H7n3zp25sJtk/pPfnLn3nHPPvRMAq60Eu23cCIJtT4UjYpxUsF9fuaAJ\n",
       "YtV7RJTYgP2abmfqguBYi6MhHNyOPmtqS7Qf7hJRSuj2V+jqnCj4d7aEcfKs/ZorwoAoNtcOVtRD\n",
       "6E1Zg6ui4KEGc+QwbqiG+vd6siaKVV8KViR894lial4UnDnIUghuFT7Sfx2E2+eVQGVMR2/kX55e\n",
       "EgafZAkYl1pAB1Ifj/cKY7O9gcq95NAz+qwweIIV8xgXx7EbB/lFYWxmNkhxzkhV5KYwON4KuCC5\n",
       "od0A/4g7xH1BSpZcOFeL6+IdscAYNoz7kdxZBT4Qt3dCD1DGSKTLr/8lzoXnGO6LcCkSCsrKjZo4\n",
       "NtEboIxDtJanH8a49KVoWOkSX1EvR7S3RE2qBFftjYaV5/lKciGivQnqpEVwo3pE7vN8JRdx3ECi\n",
       "Zh6Cm4KofqZxlRWtiNwMdeAI7r+o9k7UuEqpHZGrLFK9GuHk61HtLde5Sr5ovR00nDYjCH6BOmZF\n",
       "5C2dyinuwhoFwbgY5iqDnTJiwrDDQ92xfuSaoL1TtNJkEB2MdyrTjIHC78kHPjSGBUvKOa6ybGdL\n",
       "g8zEycmGGLifdt4y9mObN75MlDcFa6nYEk9RUFxMOt4oCUbgBCXDYhyUbUjWcLzxFsE4vsxTsDpm\n",
       "OGF5g31pZqDhmbfFuRi6mZThZBFJE8KmmJnFUmIoumKGk06Tnf8bmPMMCpwqpZjDOOhHJ/UbTjqt\n",
       "CWHVZb/yaMVRJOwtU77TMm1Qz3ZZtG3VrwB3IhelzDQEl0fOnTOafiw8e5iHBaPL8czkMoyUHJ4/\n",
       "hwyvO+6xgtzvoUoLpotWgdjxTUogE9wUmo7VkctdWNjEw8KkP+/829e3poGUOHYD2fDG5U1WD/oz\n",
       "QFqzkmDSvo04ZUImxwaxG5SMhh8LSzys81UZhZQ5JNuwkiCdNH3Nc1/WAJT8d2qenTYtsteaOcpi\n",
       "muBG8Fd7jIN+rDzHw8JUEfsO8mjzhutYcZwwbrgLroz14Q+/OekmpM0R32J/oCRKgnOccPCKH9sz\n",
       "zMPCeMNnr/kNHSuOveqIe8qX2p2l49c3dq13zC/8HcbeIaPtw8brmQsVJpZm727otpfMyXZvm76j\n",
       "zmc+PdS13jEhr9rXtlOrdKbT6ix7yZyMsVCtfbmzxsRCvtZl7/tEqTr2Sm5Pyzaspe5Dqbv99v5g\n",
       "bV247fU0jFNdSSnvCgwLCxM7Gm9pTCzFXmXYsdflS5OuyixhOr10yO7wPZ0OPO1M1mO2U1EKOYxT\n",
       "XUVT1lWZWVhYfdQ+Z2uHq/uwMF1Aw3bqMBq2ngGiuO0tN732Zjfd3GXQG9a/B0PZqyx7sfBtn87B\n",
       "Invd/Yv3CHz2rtO8/lBtlPxgc3p6BOArt70e/6XZGzvgxapL8gIHS7G3WieKK948lJx57mil2vAV\n",
       "2e8CrAU4zvRfSryB+6YtbHJOXYqxsRT/LfUSxWXvmHsi6jFv6T2o6t7VknKyr890mlvD2Jta8mHT\n",
       "A+pCDxtLsXeiTbFX3eep3czv/waxld48mTUrD9P3vwuVfws+bK4Bt61lYyn5d2eDKAlnfvMWN6c5\n",
       "K80m016CGyGHNoXE0uYLIIpTZJ33ai9zdh5q3lrM3VMYR4qsXCsklpR2pN5xVoy6c1HpeydaO9dh\n",
       "79Gh2TE7K1BPwhrHoxpCWJhknmIqEi6yjjhnHeu4M3sV97Nv7N19dNW3rk86ySzZEMK6XMnfTCU2\n",
       "35XMMnYO3c5cpuLHSZQFOsZBf60rmX0uhgX2foKpJFFRVibJTM0L7iyWKes3jINROwUpTkw+LrgR\n",
       "qizzFHnRl8x2jRuCO4slysaRvOgVSTJTvjAEN0LlRZ6i2tV0/MrmTjszYhjLgvs7o5QNJhUX51W7\n",
       "RBm0sVtPmRm2KYZNznCVSTs8XPtcos/g8rRxmHTV31aJ6mo1wX3aBa6SD/FswbdVxtu9lWajYuOX\n",
       "uMpoLSqY6jcYl5yPil3R5CrliM8ZIEXd4cU4JepjERhrc5VEMyI3RvUzgjsc1d5+nav0zEXk5qj7\n",
       "uQQ3XYnIPctXlJmI3GqdmtMxrlyIhlUXA5TNnc3k8HTGA6vNOJitBJz8JjSW/XwNKaMaXgeGa1sZ\n",
       "t4ESWrKT0PaHT2fNAKVqRV05NFdhJKwqCm/VSh9K+Id75VqAIllxc1whP41S/xR6PN3DMEXCYbja\n",
       "6uTW9nY4LEwHKaoVISd2DWnSebOdg73amAi4yvB4dcZ1QvqOzw6Ew6ozgco6829fI4WP98HbIv2w\n",
       "hiWsw/nZ7OjEBtDDYaVmoJItmLORs5OzH9aLuC/zl1RZ3PFmbig7OzliWCgXAxV51vSzhxWwB06d\n",
       "hXNPBXPTdWaViiudkgbH5aYWCgufCCgXIV14h+xgHEhdfS2Ye4Q9fV3EETkAJ1LNdihs8qCAkivk\n",
       "tPRR/On+YxuDSzaF84unHHaIn8wl5Ed6GCzs1AUU9XT4rM65NsHtDf+TjS1CymOhuU/wRIxTQtur\n",
       "FgOU/wHkj8ISNGVfGAAAAABJRU5ErkJggg==\n",
       "\" style=\"display:inline;vertical-align:middle;\" /></a></span>"
      ],
      "text/plain": [
       "{a in Integer, a <= 7} |- (Sum_{k = a}^{9} (k - 2)) = ((Sum_{k = a}^{8} (k - 2)) + 7)"
      ]
     },
     "metadata": {},
     "output_type": "display_data"
    }
   ],
   "source": [
    "# The same thing is accomplished by partitioning this way\n",
    "# where we can recognize that we are splitting off just the last term.\n",
    "sum_a_to_nine.partition(nine, side='before', assumptions=[InSet(a, Integer), LessEq(a, seven)])"
   ]
  },
  {
   "cell_type": "code",
   "execution_count": 36,
   "metadata": {},
   "outputs": [
    {
     "data": {
      "text/html": [
       "<span style=\"font-size:20px;\"><a class=\"ProveItLink\" href=\"../../number_sets/integers/__pv_it/theorems/d82a9927958f2919b6e25fa4d8e512f4047160210/expr.ipynb\"><img src=\"data:image/png;base64,iVBORw0KGgoAAAANSUhEUgAAADIAAAAQBAMAAACmdTG/AAAAMFBMVEX///8AAAAAAAAAAAAAAAAA\n",
       "AAAAAAAAAAAAAAAAAAAAAAAAAAAAAAAAAAAAAAAAAAAv3aB7AAAAD3RSTlMAIquJdkTvuxBmmd1U\n",
       "zTKBpmoTAAAACXBIWXMAAA7EAAAOxAGVKw4bAAAA3klEQVQY02NgwAA8175d3102AVOCgaXoAcMF\n",
       "XiwSDFwLGFgm2GCTYRJgaOcoQDGlevdeEM3BwLCO6QGSBOuVBhiTT+EViGJUdnQA0bJwCQb2hgoQ\n",
       "FSbA/gNEX0RoP8wJUsuRycC1AcS9gJCBuJnrAwO3Acjs7N27d2+HOOWAKQNDAwNbAUN/AEgvwp3t\n",
       "jEC2IkO/A8N8MH8DXEYP6COODwz9Bxh0eQSAfBe4mxdEAb27gYHdgWcXF0iA9wDczTcYGGsKGDhU\n",
       "7IT8wF5Xj4DIhNWml+enGyAHgjkkdKAAAEfmMVewssrcAAAAAElFTkSuQmCC\n",
       "\" style=\"display:inline;vertical-align:middle;\" /></a>, <a class=\"ProveItLink\" href=\"../__pv_it/demonstrations/ffeed1e850313187bc8edf79bc81d8d745ca2b020/expr.ipynb\"><img src=\"data:image/png;base64,iVBORw0KGgoAAAANSUhEUgAAADIAAAASBAMAAADrvZC0AAAAMFBMVEX///8AAAAAAAAAAAAAAAAA\n",
       "AAAAAAAAAAAAAAAAAAAAAAAAAAAAAAAAAAAAAAAAAAAv3aB7AAAAD3RSTlMAIquJdkTvuxBmmd1U\n",
       "zTKBpmoTAAAACXBIWXMAAA7EAAAOxAGVKw4bAAAAtUlEQVQY02NgwAIkGxhwgPP///9PQBPjuQgi\n",
       "zVetWn0AVYJzF9gcAwYGKVQJls0QC4DqFVAkmrfAmcwPgASjsqMDmNe1E6FIHESECbD/ANFNd5C0\n",
       "qwIxRyYD1wYQhwlJhhHkZq4PDNwGYK4UwjTmC0CCrYChPwDdBdwFQKLfgWE+uqsZ+kGO7j/AoMsj\n",
       "gOpThvgFQILdgWcXFyJ07kECDmQzh4qdkB96kIodYKAQdO8GgX1wPgDJLixIGsMdCQAAAABJRU5E\n",
       "rkJggg==\n",
       "\" style=\"display:inline;vertical-align:middle;\" /></a> <a class=\"ProveItLink\" href=\"../__pv_it/demonstrations/e501940e1895c61a601f3732f54a68b34037cac10/proof.ipynb\" style=\"text-decoration: none\">&nbsp;&#x22A2;&nbsp;&nbsp;</a><a class=\"ProveItLink\" href=\"../__pv_it/demonstrations/2f59501744eea4c9d388fa08c3e6923a397edf740/expr.ipynb\"><img src=\"data:image/png;base64,iVBORw0KGgoAAAANSUhEUgAAAZEAAAA/BAMAAADTbuhOAAAAMFBMVEX///8AAAAAAAAAAAAAAAAA\n",
       "AAAAAAAAAAAAAAAAAAAAAAAAAAAAAAAAAAAAAAAAAAAv3aB7AAAAD3RSTlMAmXbNRCIQ72Yyq1Td\n",
       "u4mXa1p+AAAACXBIWXMAAA7EAAAOxAGVKw4bAAAIT0lEQVRo3p1aW2wUVRg+s5ezO3spFFTEoF1j\n",
       "BAPYlhANMZiuvvigya4EQwzRXYNaEyGLKIiRpEtMRATSjT74QmyDDxpfuolREjV0USNBMW1IKhiD\n",
       "XeTB20OxsKU3HOfMucyZy5k9cybptjsz3zf/d87//+c//xQAdCwD+OjuBpLHjnLARUqn5ThG+JYE\n",
       "LXwQhD54TKQX/04108OS8Mh4wDVCB+7hGd9bL8N7f3glPKZQxL+X1OCMLPw38SVKF2s5GL+Woc02\n",
       "wyuxMXA/+aNUBNdl4f114WxTuv6qg1FKCXxTwb0YRqPekMjrs7Lw9D7RFUa33MkopQScLIeXwjBD\n",
       "NfJH7OeXFqThp0UXKJ0+52SUU5JZGl4JwzzETr1ca0nDR4uCC5QuOowZ9UvmMSGrJN0Kr4RibKxe\n",
       "jjWk4dHxNqYgqTyjnBLwsEL2IpgMMylbjdbkB2JOMNWU7icXo6SS0Vp4JQQzxLJQ7J2/QsBfEYQJ\n",
       "odMXnIzP9v0uRZtQCBSCGQFqR5f/aUqXuqpGq11VxcB/FZUUqr7JndJVlqrRxmZVMck5RSWJXr+z\n",
       "jG6wpsj7qiomq+gFQPPNl4xuEqh6bVERs2Rc8YlpXzdgdDdVlYxWFTGFpuIT4/O+0UPoYv+pKikN\n",
       "K2K68ujPPsM+piXhr/vOc574nlU5RjlaIycZf7sVYhZh+qzya9TAAQq3rh24IQmf9Cv2+sjJqFXN\n",
       "pw2SAF549GND0sLsTHglFmYRZ3+DVRXJsbocvMfvvkUaL5hvZJFdOSpZnUYWwitBmDiJzDHb6zXJ\n",
       "HDDqs2JQOlDCJBnD9vo7JTOJwgKHMBQ3ZNgp41ZslDDUaV0yHmAGkakbdobTcHottqHVb4qvBWEi\n",
       "JL4jhr08JK3PdcIVlYRuxadwpnSgh9zUY9iWW2MVqbehhYvea+skMBr1ykkXQboJ4AWPrU8u/wWA\n",
       "+0go+KypjK6LGJw1XBynANh1IIgWGN6ZNlN75x3lYEyWVhf9htPtd6AE5I6E+DiYyoMo5sz4JBlG\n",
       "N0mKFTjgdHuIapwNQbRgzJMTTVt25vS9wZgodaqY4cwZt6NRd3tCqohSdxILjPqUK+xcH3WqguEg\n",
       "0ZCLLQTR2tBY1bblYwAuBWMSbGCnbjjGAmX/gnt0zLtTpq24G5H1acQwugEK7TAcvYsEsnAmiBZM\n",
       "5qlT5WxbrpkGlgMxtrNHDb64TaMvf7gNTTVAyvSfTfiLT+JndLaz913jb/gMidsdRAtG6i4lpi3Q\n",
       "TE49+UCMrQQO8KWS1rSaC6du8+xuTcDfYZT0G3xld5fVq0hfLgtpvUqQLWhOqoEYLgHRigXPkAmD\n",
       "s+nP93t2tyY9bvFqeKnQzlnHsEgJq1isA41hpfrVtqqQFnRVXUqQLWacTOYCMRVbicZ7dKaO2iSP\n",
       "6w+4lfyAWmW8EsdB6SCXSrv4APwRDdnW+vtFIa1XCbKlP6+P1AMxFc5nx7gqOGE6pbYfT9IOa9DP\n",
       "2qXMEI5ln6KZ0kGuDM3wVfBr5s+Kw/iezRZvzUULpnJkqs8cwFONbIHL/umpBWJ4JaWGU0lmw0qP\n",
       "qe+ij8dCKYnzay5S8m1nLYCWKOHmJIFDfaociOGVrCk6vatSL9S8q+1TtHVFlDjixE9JhF/STO+C\n",
       "C7G5AFqvkgx2q0vBGC7iHfxZk2WwXKm7ouxDAFYDcEwYJz4RDxzDcd4s62bgQkRM640TZMvJMpwL\n",
       "xnBKhviI6jDH+CNQqTn3xvHTnZ0NnEqlleiOZG1mzVQvnOsQ03qVIFvWl7PVYAy3nuzhb9TNu34F\n",
       "kWVO38yYm1hzyfwu1HrimNbj5hDXwd2rxbTe9QTZ0nH5FhCMSdhrvLNcPBvQi2gIlTC6AXbKWS5m\n",
       "au1ovUoCbOEwdkHrCqiDAZ2uqrPu5Q2ldKygzTr3Y8ml7WhZGW1XkAdlMMwc7Xs7K1gWiBtozxCr\n",
       "WxJVPVhl+6c11hPtaMGY58liWziMRgvaQ/bdR6ywEe/mJ1yexI/RdVe3KGmn4KSlZFc7Ws4xWQiP\n",
       "S2Ais54UnMZrwhZhI4O+KvZp+1A60FP1pGBcWMRzbWiBT5dqiwQmSQrgEkvBsEuyy17y2cdTOjCI\n",
       "03fczgrPSfZM4osK/VATE5t3peDtI4Zkl73g0/aMzTsvshQc/9KQfCkQmw+vBGEg3gdFr220jnMD\n",
       "hiE7JoM+fgLptqqCt219mHbzGTP7N+Rok9PhlViYMRygXP9W9lVMl9/cjXG7ILRR4A7JHrym8ELH\n",
       "wqi8riDbWl95hE5rqdJGrypiBquqj/T1QkqXnFWlXdJQxJQU3wcC3fcNCaWLq76+BENNRUyiofjE\n",
       "iK8/M7oDqkp6aoqYjhnFJ2Z934cwuqmyIu8FVUx8WvGJlWHfNYrSlXJqtHBeGbMRfRwN/1zBa+qN\n",
       "NJ2gBSX5TfilQSEJE8xg0d70hzk2CwSSNJxs0QZEyISqELcEU0FxXwpf6gjSbIWkHohSWzz82lBS\n",
       "WBUIRkOReyxu/xPpn90yi2WHwEiNJoIVaGLGtzTD0YIphdgiGIhi9MT2/qKG/qXsIthZHJJ5ZEUQ\n",
       "WXCauyF17xd7w9FChQTEMGvMnz11nZ7vBB/IwFeJLqyh6405OYl1oBaOVlMIE4bJ5MwVeSXXJVwr\n",
       "EybC/2LN0Mky81bJ7jbK0YJSXiFMKCbWMv35iTjAbgBb4OKL7dGpYeFegdaOhSI4FmsUQ9GCTxXC\n",
       "xMZcAanccdZL26tff7s9+pB4Cb9Cc0IvOKE3mqFok/sUVhMbk81li6nD9NsjR7rbJ8L4GwFlDHWv\n",
       "82ACfFILQwu2KRRdHAaeDb8WBVjF6HaGN2uTgnPxmKdDo58Pukjp4qGVQIV4J5j/AcAZAcCGQ/IK\n",
       "AAAAAElFTkSuQmCC\n",
       "\" style=\"display:inline;vertical-align:middle;\" /></a></span>"
      ],
      "text/plain": [
       "{a in Integer, a <= 7} |- (Sum_{k = a}^{9} (k - 2)) = ((Sum_{k = a}^{9 - 1} (k - 2)) + (9 - 2))"
      ]
     },
     "metadata": {},
     "output_type": "display_data"
    }
   ],
   "source": [
    "# We can also explicitly use partition_last and suppress the\n",
    "# simplification of the term being peeled off\n",
    "sum_a_to_nine.partition_last(assumptions=[InSet(a, Integer), LessEq(a, seven)],\n",
    "                             auto_simplify=False)"
   ]
  },
  {
   "cell_type": "code",
   "execution_count": 37,
   "metadata": {},
   "outputs": [
    {
     "data": {
      "text/html": [
       "<span style=\"font-size:20px;\"> <a class=\"ProveItLink\" href=\"../__pv_it/demonstrations/9da37425cb712ed554bae21903d88216e35b14a20/proof.ipynb\" style=\"text-decoration: none\">&nbsp;&#x22A2;&nbsp;&nbsp;</a><a class=\"ProveItLink\" href=\"../__pv_it/demonstrations/15ab177500f6657ffceb78347f758f1009335bca0/expr.ipynb\"><img src=\"data:image/png;base64,iVBORw0KGgoAAAANSUhEUgAAAVMAAAA/BAMAAACvJDbSAAAAMFBMVEX///8AAAAAAAAAAAAAAAAA\n",
       "AAAAAAAAAAAAAAAAAAAAAAAAAAAAAAAAAAAAAAAAAAAv3aB7AAAAD3RSTlMAmXbNRCIQ72Yyq1Td\n",
       "u4mXa1p+AAAACXBIWXMAAA7EAAAOxAGVKw4bAAAIJ0lEQVRo3p1aa2gcVRQ++5jJ7DOJRe2P1KSK\n",
       "ViLaaEFqaUkoSIt/soqPSi27bS3BR91Ya+ujkC2CFatk+0cUxQTBB0VMaMGClGYr0tIaTSiI+qMm\n",
       "xl8WIdGmaZImGe/s3Ltz78w9MzdzIdvZ+e6c78y953XPFsAaN4E9sreXQGHoD/qAkZZAZOJuFRbY\n",
       "XfDSRdvoxUOJKSUh9/pgdwQisXKfEkt01EvXmaOL2gAdSkIy4ygUvxaI/AlxJRb4w0Onv0Yv6h7+\n",
       "Vk2G/iYKdZUCkf3bC2o0XYNuugjb/+LfO0tqQk6hZCsgCNGXPlipxpI64KbrK9OLfEm/piYk3YAA\n",
       "iTkIQrRZKObUaM666TYwpL4Ms4rvi71SrB8CkTmoV9y8oZxI59CmO2BaTQZsChDuh/wA9WreC7FR\n",
       "kS7NvoPRkKgoqjpUlt//CX3CQQ7DJ4osqTmRrm+wBt23WtE3oU5urIkbqKk6SHTiFkUWeFmkG4AQ\n",
       "IyLPFUk0hSSnwtA0C3T6v2FkxOX+V8Qigw/iNzpLPJ0xF0YGvCK921vG5uOIr5218XSZUDsDzVJX\n",
       "H0Pnj4ViiVzj6epHQwkZkobGRXT+YiiW1CxP1zkeSkheFuvjS6htL4Vi0eZ5uuZqOG43nfGfkhV1\n",
       "y/YLzSA2EuNYzBYVmoM8XXs1lA6Zttnrj7f2XFeqA2dk2WUGzTtVJGVSH96z+UuzW4VmrMDRLdhh\n",
       "z6zlKWNkUKXulQX7ejTZUWRgoXbnvRsqqq4ddOg0au8j885mqThaShaO8+iTFEmbjomvUvLeBoeO\n",
       "UfaZjkvfXP1ECg96O7HoIxhFEqaTOiJVSRriT6xAHXXootSJoqZT1xnVG4gZbKYF8oJsu1BXYcha\n",
       "01mB6trcg0QMOr9YcegizGTGXNxnyN9q16s2bipDlK6+KcsL7PWOYUjGFM05RUJl1LUXj674HYAe\n",
       "autZgiJ0GZZXu0zhCd1KaT+LMnZAlsQcetQdkRRhYyx7XsQQvUe08d2WAYuRXRuFyQ6I2eLTLKYQ\n",
       "uhjb97gpuGSEy0Zxev15Nc4dtr+0S2yZ3YsyVbe6Eeg0BcPiT1l0cjJnRVHDXriaekRAXS0UTl7n\n",
       "16mO3yVqOD0FGCBP2NPGJJV8D5XwITsDnXAjkDUP8E/wwZVOJholiYL2tAxLKoSuZgwklbRxz52U\n",
       "qPo1CYxliNlrPCBxO2a/4x5VHctuv8pLbvOqmqxAkljlevsL22pC56iq9/B5+jZyY3VJVNUyGbIu\n",
       "/UGqRnM+qnaZnGlGyPWule7JkCZKXfFRtZZcq4O8VDbe7VY1QUKbYa9Es/0eTcPWuCgotA18VK0l\n",
       "1+pOEiHjWzyq9hHCt+x3YXGY0BUdVSO8Gf0I8DHrZTiqpsmKprp5VYWoQRUa96iqc6GtmfOJ9CAk\n",
       "Bld4VLXe/JRXVc6wR7iaaj9Aoc5SMTI8fP7Q8HB/LRnSFtykN9zrdqFj5GxVyYIfpAuucyVQmqup\n",
       "6jpAh32uyXZmt1twWaYSoeNVzVcEVWGo4FpVw1KYmgWu6mPgXVVOVY3LNURVSM24V/Vd62OLr6pr\n",
       "coIBwAbdpeoZ0HKQqvCq8rZKFXrk+PHr3+CqRl8F3gAg1l8QJ5MM9gTAaY+qnFvF+QPhJSJ/Oiuq\n",
       "mhiHaAGMUcxWHed5A3cr6OScN0MkFzvGxcmfAtwF8L7HVjlV+/jwc8Uyym2iqs80NjbZASZI1UVc\n",
       "VaGrYQW+Pq0kTNbONjZWqtESVVXfx7NavZqvXHF1xDSvVjtbQSlglfkZHld5G7caT8l3xPdKk8NM\n",
       "m9XZcsfVOidbCeVKuuzNVnRtAVW1x33jhBe5X5hwQTa5urYVj6q10gUuCzKMBm+5IlQYY5IehKfa\n",
       "2upBMuJB4bBsMlcu1Qo/Qle7jpxzVtH6+AU771KukZxPEYgjTc7bWNuSwZqcO+jmssqK0NXOw0ec\n",
       "h45aH3uxo2oO2ezaQR18EMOJVIalqo6dxuhK1eyT0EVnPZHKzpwacvi4k/4rO4KvRbvRDOEi1SmW\n",
       "L6QHYrog9d0OnUHLqXzNS/RmlaadJjtb9aKdGopoTqTaqdSBZAnUoovPuyLV9gFTpWkXn5f1GPvR\n",
       "7mO/GKm070ylDiSTaNHpdqUbu7quOoZ7THNBRYYhaxcV29D2qo202ywbz5PYWVGh6W3h6EZss+ea\n",
       "SUq/skRki5JGG6A2EuF7ViWl3miZo2tW/A3J3YSa8muHLgPxH+08XW8plAxpe8pAN8SYDafqAk+X\n",
       "D9Wkhz6Zs2uoV2uhfnGAxBJPV1cJJWStNEwcQucfCsUSnePpsjOhhPwqvTtZwObjiG8Xt5un0+yo\n",
       "oy/Pu/R5ecRG+2sU2bM8VYv9At06u8hlJC9d+UIlrMoDeAwNrBSZYLZ7tFUl0bCfkChdr7ieDdCk\n",
       "EqvkFm6gMcmFJMejKg32jSJdUfTlacgrvG9eHuJ09IcUF5IoZxXcWZsV6SLW68VbGfy2kqqTyP1b\n",
       "0SeqyGanSEgrxPPslEinW361q74QuUzGb+T6HwWvwn4wKqJ+ZSF6ywyssmhKEH1AxataXHRryN+T\n",
       "p529OadQAWC7h1ughWgvOM/tbQmmaXLTpVvscz87KihEwDxa7n8PfkjG0S8RXARq02466z9A6TNl\n",
       "agBagxYcYo/jBWbODyk+Rw2gq6wFVwXJfg/dX1ZPlpUCOz46FrisxgHcE9r8kJMRtpMFHxlsHCl4\n",
       "6Mi26J+x1SC1daCMp3xixCU/5Hl2MktMtAbunfa6l06/sMzUvN4He7G8fARJMyUJ3dPLk6F3+K1F\n",
       "efmIfDwr0v0P+26yV8SpCOAAAAAASUVORK5CYII=\n",
       "\" style=\"display:inline;vertical-align:middle;\" /></a></span>"
      ],
      "text/plain": [
       "|- (Sum_{i = 2}^{6} (i + 2)) = (4 + (Sum_{i = 3}^{6} (i + 2)))"
      ]
     },
     "metadata": {},
     "output_type": "display_data"
    }
   ],
   "source": [
    "# Here we call split, which in turn calls split_off_first\n",
    "sum_2_to_6_i_plus_2.partition(two, side='after')"
   ]
  },
  {
   "cell_type": "code",
   "execution_count": 38,
   "metadata": {},
   "outputs": [
    {
     "data": {
      "text/html": [
       "<span style=\"font-size:20px;\"> <a class=\"ProveItLink\" href=\"../__pv_it/demonstrations/9da37425cb712ed554bae21903d88216e35b14a20/proof.ipynb\" style=\"text-decoration: none\">&nbsp;&#x22A2;&nbsp;&nbsp;</a><a class=\"ProveItLink\" href=\"../__pv_it/demonstrations/15ab177500f6657ffceb78347f758f1009335bca0/expr.ipynb\"><img src=\"data:image/png;base64,iVBORw0KGgoAAAANSUhEUgAAAVMAAAA/BAMAAACvJDbSAAAAMFBMVEX///8AAAAAAAAAAAAAAAAA\n",
       "AAAAAAAAAAAAAAAAAAAAAAAAAAAAAAAAAAAAAAAAAAAv3aB7AAAAD3RSTlMAmXbNRCIQ72Yyq1Td\n",
       "u4mXa1p+AAAACXBIWXMAAA7EAAAOxAGVKw4bAAAIJ0lEQVRo3p1aa2gcVRQ++5jJ7DOJRe2P1KSK\n",
       "ViLaaEFqaUkoSIt/soqPSi27bS3BR91Ya+ujkC2CFatk+0cUxQTBB0VMaMGClGYr0tIaTSiI+qMm\n",
       "xl8WIdGmaZImGe/s3Ltz78w9MzdzIdvZ+e6c78y953XPFsAaN4E9sreXQGHoD/qAkZZAZOJuFRbY\n",
       "XfDSRdvoxUOJKSUh9/pgdwQisXKfEkt01EvXmaOL2gAdSkIy4ygUvxaI/AlxJRb4w0Onv0Yv6h7+\n",
       "Vk2G/iYKdZUCkf3bC2o0XYNuugjb/+LfO0tqQk6hZCsgCNGXPlipxpI64KbrK9OLfEm/piYk3YAA\n",
       "iTkIQrRZKObUaM666TYwpL4Ms4rvi71SrB8CkTmoV9y8oZxI59CmO2BaTQZsChDuh/wA9WreC7FR\n",
       "kS7NvoPRkKgoqjpUlt//CX3CQQ7DJ4osqTmRrm+wBt23WtE3oU5urIkbqKk6SHTiFkUWeFmkG4AQ\n",
       "IyLPFUk0hSSnwtA0C3T6v2FkxOX+V8Qigw/iNzpLPJ0xF0YGvCK921vG5uOIr5218XSZUDsDzVJX\n",
       "H0Pnj4ViiVzj6epHQwkZkobGRXT+YiiW1CxP1zkeSkheFuvjS6htL4Vi0eZ5uuZqOG43nfGfkhV1\n",
       "y/YLzSA2EuNYzBYVmoM8XXs1lA6Zttnrj7f2XFeqA2dk2WUGzTtVJGVSH96z+UuzW4VmrMDRLdhh\n",
       "z6zlKWNkUKXulQX7ejTZUWRgoXbnvRsqqq4ddOg0au8j885mqThaShaO8+iTFEmbjomvUvLeBoeO\n",
       "UfaZjkvfXP1ECg96O7HoIxhFEqaTOiJVSRriT6xAHXXootSJoqZT1xnVG4gZbKYF8oJsu1BXYcha\n",
       "01mB6trcg0QMOr9YcegizGTGXNxnyN9q16s2bipDlK6+KcsL7PWOYUjGFM05RUJl1LUXj674HYAe\n",
       "autZgiJ0GZZXu0zhCd1KaT+LMnZAlsQcetQdkRRhYyx7XsQQvUe08d2WAYuRXRuFyQ6I2eLTLKYQ\n",
       "uhjb97gpuGSEy0Zxev15Nc4dtr+0S2yZ3YsyVbe6Eeg0BcPiT1l0cjJnRVHDXriaekRAXS0UTl7n\n",
       "16mO3yVqOD0FGCBP2NPGJJV8D5XwITsDnXAjkDUP8E/wwZVOJholiYL2tAxLKoSuZgwklbRxz52U\n",
       "qPo1CYxliNlrPCBxO2a/4x5VHctuv8pLbvOqmqxAkljlevsL22pC56iq9/B5+jZyY3VJVNUyGbIu\n",
       "/UGqRnM+qnaZnGlGyPWule7JkCZKXfFRtZZcq4O8VDbe7VY1QUKbYa9Es/0eTcPWuCgotA18VK0l\n",
       "1+pOEiHjWzyq9hHCt+x3YXGY0BUdVSO8Gf0I8DHrZTiqpsmKprp5VYWoQRUa96iqc6GtmfOJ9CAk\n",
       "Bld4VLXe/JRXVc6wR7iaaj9Aoc5SMTI8fP7Q8HB/LRnSFtykN9zrdqFj5GxVyYIfpAuucyVQmqup\n",
       "6jpAh32uyXZmt1twWaYSoeNVzVcEVWGo4FpVw1KYmgWu6mPgXVVOVY3LNURVSM24V/Vd62OLr6pr\n",
       "coIBwAbdpeoZ0HKQqvCq8rZKFXrk+PHr3+CqRl8F3gAg1l8QJ5MM9gTAaY+qnFvF+QPhJSJ/Oiuq\n",
       "mhiHaAGMUcxWHed5A3cr6OScN0MkFzvGxcmfAtwF8L7HVjlV+/jwc8Uyym2iqs80NjbZASZI1UVc\n",
       "VaGrYQW+Pq0kTNbONjZWqtESVVXfx7NavZqvXHF1xDSvVjtbQSlglfkZHld5G7caT8l3xPdKk8NM\n",
       "m9XZcsfVOidbCeVKuuzNVnRtAVW1x33jhBe5X5hwQTa5urYVj6q10gUuCzKMBm+5IlQYY5IehKfa\n",
       "2upBMuJB4bBsMlcu1Qo/Qle7jpxzVtH6+AU771KukZxPEYgjTc7bWNuSwZqcO+jmssqK0NXOw0ec\n",
       "h45aH3uxo2oO2ezaQR18EMOJVIalqo6dxuhK1eyT0EVnPZHKzpwacvi4k/4rO4KvRbvRDOEi1SmW\n",
       "L6QHYrog9d0OnUHLqXzNS/RmlaadJjtb9aKdGopoTqTaqdSBZAnUoovPuyLV9gFTpWkXn5f1GPvR\n",
       "7mO/GKm070ylDiSTaNHpdqUbu7quOoZ7THNBRYYhaxcV29D2qo202ywbz5PYWVGh6W3h6EZss+ea\n",
       "SUq/skRki5JGG6A2EuF7ViWl3miZo2tW/A3J3YSa8muHLgPxH+08XW8plAxpe8pAN8SYDafqAk+X\n",
       "D9Wkhz6Zs2uoV2uhfnGAxBJPV1cJJWStNEwcQucfCsUSnePpsjOhhPwqvTtZwObjiG8Xt5un0+yo\n",
       "oy/Pu/R5ecRG+2sU2bM8VYv9At06u8hlJC9d+UIlrMoDeAwNrBSZYLZ7tFUl0bCfkChdr7ieDdCk\n",
       "EqvkFm6gMcmFJMejKg32jSJdUfTlacgrvG9eHuJ09IcUF5IoZxXcWZsV6SLW68VbGfy2kqqTyP1b\n",
       "0SeqyGanSEgrxPPslEinW361q74QuUzGb+T6HwWvwn4wKqJ+ZSF6ywyssmhKEH1AxataXHRryN+T\n",
       "p529OadQAWC7h1ughWgvOM/tbQmmaXLTpVvscz87KihEwDxa7n8PfkjG0S8RXARq02466z9A6TNl\n",
       "agBagxYcYo/jBWbODyk+Rw2gq6wFVwXJfg/dX1ZPlpUCOz46FrisxgHcE9r8kJMRtpMFHxlsHCl4\n",
       "6Mi26J+x1SC1daCMp3xixCU/5Hl2MktMtAbunfa6l06/sMzUvN4He7G8fARJMyUJ3dPLk6F3+K1F\n",
       "efmIfDwr0v0P+26yV8SpCOAAAAAASUVORK5CYII=\n",
       "\" style=\"display:inline;vertical-align:middle;\" /></a></span>"
      ],
      "text/plain": [
       "|- (Sum_{i = 2}^{6} (i + 2)) = (4 + (Sum_{i = 3}^{6} (i + 2)))"
      ]
     },
     "metadata": {},
     "output_type": "display_data"
    }
   ],
   "source": [
    "# Or we can manually call partition_first\n",
    "sum_2_to_6_i_plus_2.partition_first()"
   ]
  },
  {
   "cell_type": "code",
   "execution_count": 39,
   "metadata": {},
   "outputs": [
    {
     "data": {
      "text/html": [
       "<span style=\"font-size:20px;\"> <a class=\"ProveItLink\" href=\"../__pv_it/demonstrations/5725522ca7286a42937889dda15560f87e90bfdd0/proof.ipynb\" style=\"text-decoration: none\">&nbsp;&#x22A2;&nbsp;&nbsp;</a><a class=\"ProveItLink\" href=\"../__pv_it/demonstrations/8f1ecd2c33d1e7380253e570b96453994e3a78c70/expr.ipynb\"><img src=\"data:image/png;base64,iVBORw0KGgoAAAANSUhEUgAAAZkAAAA/BAMAAADAuai6AAAAMFBMVEX///8AAAAAAAAAAAAAAAAA\n",
       "AAAAAAAAAAAAAAAAAAAAAAAAAAAAAAAAAAAAAAAAAAAv3aB7AAAAD3RSTlMAmXbNRCIQ72Yyq1Td\n",
       "u4mXa1p+AAAACXBIWXMAAA7EAAAOxAGVKw4bAAAIKklEQVRo3qVaXWgcRRyfvdzufeTucrFI+5A2\n",
       "14pGKtpAQWqxNAhi3nKKn2i5swr1wXqxSqtYyBXBiiI5H0XxgqCICDkq2JfSXItU2kbvKJTqQ0yg\n",
       "TxYhqU3TJKZZZ2dmd2dmZ/ZmJwOJ62x///n9Zub/MbMBwGn3ANxyO6pAoVmPhrw0CiByYzCKJFB7\n",
       "rRxkFBskD4+lFpSMPBzy7r7oYliMKgnEvB1kNFIks5IHQ0pGsnPSV/Hb0cUwGGUSqP0VYGS9Rx4S\n",
       "T/6sZsP6QPrqUDW6GgajTAJDGzwjw91olb9fVeRyuix7s0ljozEYdRJO6z7KM6rXyEOpainuk0xe\n",
       "8iK1El0Mi1Engdo5ntFe901PDSwrTolswK6J6GpYjDoJ1KaKLCOfWWYILCoa2dfBONAgFJkEmoo2\n",
       "yyjj/j9I5lNNVQY1cf9vGm7DYiKQQGuxwjKqN7xXj2wvKxpJiB0n9Z+G23AYdRKovc0ymtSYTmCI\n",
       "M1x6IbopHQzV+hlG1k0dG3Gxp1by0U3pYKg2UqUZJVe0jLwj7B2vRbekg6H3/CDNKKu30P3C4DWr\n",
       "YWl2Q2KAcZtm1NPWMjIlTNh3NSzd3Zia7mWa0ciclpGSKE3G1zU8cH1jasxVmlE/qlj32377V2m7\n",
       "jopWfVFjp/iYyCRQO0Yz2o+i+5SNfdF6dufYHaVDwZIoMS9p1DU+JjIJ7HdlitEaDvq2l4CTrYbK\n",
       "OUmUJ3ua0dVQmMgkUNvV8BmZxAlbq/7aq8SFblGaKmlEFBoTlQRe0bzPyGVVt/0gdS/6LakfSXfq\n",
       "bohhGRaYIRghCQmI7q63fUYx4m4x2y/yk6hDstRPkMPemmjRyW2FDAviBSlGSAK1h8JtVZo+I8Pd\n",
       "/7McvbPwZzs3G737aiBGps8WpdSGh31605/cS9TzoBQjJIF2EEwhsbzcVo+b/iGjrFvYHLIZhOUU\n",
       "DL+zNg6AHAyn5LKnJah0Z2su1myDefayAvd0lSUYIQl8y+ScWubktjJuUISMuty1jdtMlDKoXB8n\n",
       "z9+i4H6CJAeBb5A+iE0XvYw0TAIW6km6bIc5jJAEaluoZ5EtTwG0lPDC/fwdet4S9FqTHTpWBpMQ\n",
       "gf/ZrOCeaKzsYqHZNBnlFDGIe9xbiVMcRkgCNTpNi2xl3fQLGXm7DnTZgxTuJ4GaH+FhqAa68EpN\n",
       "Cjzd9rDpJkivMAxIzx5eDet/LAk0+GBQDWMr7S4nZOSrscboimkb7NheZdU4exOA3EQnNdvwfl7g\n",
       "eKOeG+FqWBJo20KXObgFyG2J1XiFBWpQdy4+yqtJwXiexJPVj6X2TTvtEsMMz1m9wDNwej4MV8OS\n",
       "QKsFx5l7CshtGW4RDRlVfDWGfdQ3chmAL91rQ19NBq5L9yithplY28PCdinAwOk5zfVanBqGBBqy\n",
       "AVKNTSG2GDWUk7WowvVdAMoJR4UxPf3r8elpvL22OuuD9c8HE6F1x8O6pQlcumPu0qGeOtdr8eVl\n",
       "i6ueE0PAAkfktkDOBUBGtJpSk1EDpsrc2iQdTWT/dVLzCeDnE/XweyagptQMqAHdSyG2ZGoGisxO\n",
       "A3stTs1ZYBZBd5NWQ/uNy+wyzuDPsQxwz5lOagaKgZ0GuibKclu0GioKxOn7jitwoMUcqyY1B2Jl\n",
       "kGzL/Mb1aIgFXwPwAMsA93zWIQrE+UuXLBy8MjQnt0X7DaWmTsfcG46DvMiqeaW3tw+HzHA1EGue\n",
       "6+1tMgxIz7YOaup84HcSQt2sym2J1VhHaCNfwZ/vuXzTsu1b6KK4Q76B2Aw8DA8yDEjPLx3yzZHA\n",
       "VSiknf4YyG3R+Sbh1wJMwZepBWsBskJAqmYsiKWjqjOrzUBlw2aXYNV5sYMtWo1XgYIZ7nI7WHUy\n",
       "VeCs4FKP1NVJhtKwsJgd5jBCEqid6GDLOwVARt6zccFfC+fXVdnxkRz1WkXpiUCKdQ4VoScCngRi\n",
       "Wwy3lXFraMjIuwA66YM+dX4dll3WFEU7hPghqasPS9VclWKEJJArtcNteb4CGcWWA5ERly5mQWzj\n",
       "fvJf0RXRLrKPZFgQK0oxQhKoPRNuq2fUZ5QkNWvJc2qrX+XS3hTdC4xr3JvSmKgkmOLBYRRf5SLj\n",
       "y5O2yqV9fFXQOTIRXQ2FiUyCMeAwsm7hyHhrN2rTY7a9pmIjKbparQxGV0NhIpPAi1ugGLWwL1JX\n",
       "wEqfhA3RZ5+MxtcTChOZBEbVKEb9Gl+RnXkUETc0/ixFB8NerdCMxqtaNoRXzsnl6IZ0MExboxmV\n",
       "9D471kXhy9T4hmre3JiY1DrNKNHUMrJLGHOOa1g6vjE1sRWaUW5Jy8g1Ye98ObolHQxdm4zSjEwc\n",
       "aq1owcBaFWeyQnQ6GGMVNdVUJhhGu/GhyOXx1o3vVHxX/F2+SyPhYIxo/DdUrLkf6AmjcXZW8qBP\n",
       "hYLY25Ia4ZbD4PENx793qLj04yyjChudFkFJoagoieO6pfGBmcPg8bOo8lRQYy6zjAzHjeI73dcf\n",
       "KamZl/Rv1tj5mwXjK6vJLbCMLCcMHOwpGzOw/QGf/1GYT9kH8IpGGHAw/PjKatwBPUYD8Of5M346\n",
       "uqBQjsjGiY1qZIzR4PjKavp4RpkCuQMjB1SF+F8akr05r7HVzvPjb525NjNTVVFjLvKMnD9HtpZq\n",
       "ZKXNvNk59P8gP21o5A2I4cdXXZv0RIDRdeebj1uuHfji846Lkzwq90qNjAMx/Piqak6WA4yyBWB9\n",
       "484pPCl1tPFCSNS7orHVrgTGd9SY19c7xRTz/SAj62LE0feEvHtT44/ngpisYh1RFTB6KWK+Gwqb\n",
       "Lg01QYyhBnydZfQ/zjT5W3ck3vcAAAAASUVORK5CYII=\n",
       "\" style=\"display:inline;vertical-align:middle;\" /></a></span>"
      ],
      "text/plain": [
       "|- (Sum_{i = 2}^{6} (i + 2)) = ((2 + 2) + (Sum_{i = 2 + 1}^{6} (i + 2)))"
      ]
     },
     "metadata": {},
     "output_type": "display_data"
    }
   ],
   "source": [
    "# Notice that the split of term is automatically simplified unless\n",
    "# we suppress auto-simplification.\n",
    "sum_2_to_6_i_plus_2.partition_first(auto_simplify=False)"
   ]
  },
  {
   "cell_type": "markdown",
   "metadata": {},
   "source": [
    "### Testing the `Sum.joining()` method"
   ]
  },
  {
   "cell_type": "code",
   "execution_count": 40,
   "metadata": {},
   "outputs": [
    {
     "data": {
      "text/html": [
       "<strong id=\"sum_1_to_5_i_squared\">sum_1_to_5_i_squared:</strong> <a class=\"ProveItLink\" href=\"../__pv_it/demonstrations/531b5f3ef1103441236f9e4f1b05fb78371e31550/expr.ipynb\"><img src=\"data:image/png;base64,iVBORw0KGgoAAAANSUhEUgAAAC8AAAA9BAMAAADPFy0PAAAAMFBMVEX///8AAAAAAAAAAAAAAAAA\n",
       "AAAAAAAAAAAAAAAAAAAAAAAAAAAAAAAAAAAAAAAAAAAv3aB7AAAAD3RSTlMAIolEZlTv3TIQq5l2\n",
       "zbvmMOqjAAAACXBIWXMAAA7EAAAOxAGVKw4bAAABgklEQVQ4y2NgAAFGZZMABmyAOb+IAbtEAwMO\n",
       "ieZIHBILZwXg0MPxAaswKwPnZ6wS/A2MH7FKcE/gWYBVglNHiWFogPv/EeAPskT8f0iQcwqfyv+G\n",
       "LMH1vwDGZKmHBvEkrZVAsv4XImQeQOgNDNuBZP9/B7jMRgj1mUEeaD7Pf0TAskAoT7AEw/vvqO48\n",
       "DcTqIMa0/xtQJIAJhqMSHOH/v6J7Tm4CmNL/NgFVnHEDowCI5v1/AU1DRzdYKWf+J6TIPO3AkP//\n",
       "P2qwgAATcwJSWvifCWe3ciObW48I1wlsB5Ak5AuQghvZiccEEOxbnEhp+geSqz4zITj9AcipWwSh\n",
       "KAfZd0sQscC7AUd6eIdDnLsSKZ8gAzeEW11R8h/CrawJyBLycLdy7kd2BcKtouv/I2d33r93waAc\n",
       "GAkoqWI/Utr9MniyFKcADgkmWORz+uJQ0XMcl6HhqIXbKRwSc/gncL8DgifoEpLhOHQwvMEhwfmz\n",
       "AbtRrBc24NCxBuZzofs6SOIAj1mDG2AoSgIAAAAASUVORK5CYII=\n",
       "\" style=\"display:inline;vertical-align:middle;\" /></a><br>"
      ],
      "text/plain": [
       "<IPython.core.display.HTML object>"
      ]
     },
     "metadata": {},
     "output_type": "display_data"
    },
    {
     "data": {
      "text/html": [
       "<strong id=\"sum_6_to_9_i_squared\">sum_6_to_9_i_squared:</strong> <a class=\"ProveItLink\" href=\"../__pv_it/demonstrations/3d384c935e01254d866ab997b4a4ff3f3c43ac1c0/expr.ipynb\"><img src=\"data:image/png;base64,iVBORw0KGgoAAAANSUhEUgAAAC8AAAA9BAMAAADPFy0PAAAAMFBMVEX///8AAAAAAAAAAAAAAAAA\n",
       "AAAAAAAAAAAAAAAAAAAAAAAAAAAAAAAAAAAAAAAAAAAv3aB7AAAAD3RSTlMAdomrVDIQIkTvZrvd\n",
       "zZlR4kicAAAACXBIWXMAAA7EAAAOxAGVKw4bAAABp0lEQVQ4y2NgAAMhIQasgFmBxQCrBH8A2zes\n",
       "EvUFDD+wSnA2sP7CKsGxLesLdttTAr5jFWdN4DiAVYJ7AW8AdjtWqTIMDXD/PwJ8RJbw/w/xGluF\n",
       "8PyfKHH0Hx4YXOcdIIwkZTMgef4zXBHfBgj9gOENkIz/vwAu8xxC/WCoB5rP+B8R4lwQahlYgmH/\n",
       "H1R3ygGxDoiR+f8BisQhYPwcA4f5f4xorU4AU/o/E1DF2R+wF4Bo3v8X0DSExoGVss3/hBBkk1vA\n",
       "MP//f9RgAQEmjgkIVXz/p8HZIXzI5p5HhGsCpwBy2kVKVf7ITpQsQLAvsyElq69IrvrBhODEOyCl\n",
       "1g9VCEUTkX1nhYgF3gc40sNuHOJ8x+BMFhSJlQi3LkHJAgi3skxAybFwt7K9R3YFwq0l9v+RsxXv\n",
       "37tgcAYYCSip4j1S2v01eLIUWwEOCSZ45CtKYVfBGxCPXUKPgQMlcIVhrBklKGk7kT+BbzcQ7GL7\n",
       "FPYKWaLMB5b2fzHkozhwI4zxlYF/AbI3vgVAjGI4wcDfgCTBcgEWbesYYlA8bggzmFHxGZI4AN/v\n",
       "jNwwIJ/SAAAAAElFTkSuQmCC\n",
       "\" style=\"display:inline;vertical-align:middle;\" /></a><br>"
      ],
      "text/plain": [
       "<IPython.core.display.HTML object>"
      ]
     },
     "metadata": {},
     "output_type": "display_data"
    },
    {
     "data": {
      "text/html": [
       "<strong id=\"sum_5_plus_1_to_9_i_squared\">sum_5_plus_1_to_9_i_squared:</strong> <a class=\"ProveItLink\" href=\"../__pv_it/demonstrations/5d0139bc2445f7729eb00beaa498bc8fef6cf8350/expr.ipynb\"><img src=\"data:image/png;base64,iVBORw0KGgoAAAANSUhEUgAAAEIAAAA/BAMAAACmxgPEAAAAMFBMVEX///8AAAAAAAAAAAAAAAAA\n",
       "AAAAAAAAAAAAAAAAAAAAAAAAAAAAAAAAAAAAAAAAAAAv3aB7AAAAD3RSTlMAdomrVDIQIkTvZrvd\n",
       "zZlR4kicAAAACXBIWXMAAA7EAAAOxAGVKw4bAAAB1klEQVRIx2NgQAAhIQb8gFmBxQC/Cv4Atm/4\n",
       "VdQXMPzAr4KzgfUXfhUc27K+EHBqSsB3/ApYEzgO4FfBvYA3gIA7VqkyjAhw/z8CfMSqwv8/JKzY\n",
       "KoTn/8SeeP7Dw5vrvANCnE3JOAHKPP8ZLsq3AaGCj4EPpjX+/wK48HOkZNfA/hXKZPyPiHguhAqu\n",
       "BLgKhv1/MF3H+ICBgQnuwMz/DzBU8CgwMMQkwKP+P9YUyL4Nwdb/mYBFRR1DOZzN+/8CFiO2hj5D\n",
       "BM78T2jSia8YOP///4AZ8nCg0Immhe//NNSk7/AW3dLzqLHKxjARI9+i5RYWjHwuWYDK5zVA8z/H\n",
       "VzQd+Q0KqALxDmgq4tkXoDoMw13Mq9BsfUAoMe8mpIDvGMKX2FWsRHh1CfaSAeFVlgnYy0G4V9ne\n",
       "Y3Uywqsl9v+xFkS8f++CwZn5////wWrJe6R8+2sIlz9sBYRUMAlAGUUd8BjJuoBVaecfBXChAswI\n",
       "gtirgFZI+Q+OPWQVHMJwFS0JWFUk8ifw7QaCXQzNZSZYVZT5IKVurCoYNsIYDsAc8nr3zt27F6Cq\n",
       "YPsWALXlK6g+xWIGywVYmnrGIIzVFjZDWJgmCSlAVbDrfhLAUx8SjCY+dAEA6IKZ972L4BAAAAAA\n",
       "SUVORK5CYII=\n",
       "\" style=\"display:inline;vertical-align:middle;\" /></a><br>"
      ],
      "text/plain": [
       "<IPython.core.display.HTML object>"
      ]
     },
     "metadata": {},
     "output_type": "display_data"
    }
   ],
   "source": [
    "# define two simple, contiguous summations:\n",
    "sum_1_to_5_i_squared, sum_6_to_9_i_squared, sum_5_plus_1_to_9_i_squared = (\n",
    "    Sum(i, Exp(i, two), domain=Interval(one, five)),\n",
    "    Sum(i, Exp(i, two), domain=Interval(six, nine)),\n",
    "    Sum(i, Exp(i, two), domain=Interval(Add(five, one), nine)))"
   ]
  },
  {
   "cell_type": "code",
   "execution_count": 41,
   "metadata": {},
   "outputs": [
    {
     "data": {
      "text/html": [
       "<strong id=\"sum_7_to_9_i_squared\">sum_7_to_9_i_squared:</strong> <a class=\"ProveItLink\" href=\"../__pv_it/demonstrations/d39c070dcaf508fc1f9ded6d080b16b31f1ccaee0/expr.ipynb\"><img src=\"data:image/png;base64,iVBORw0KGgoAAAANSUhEUgAAAC8AAAA9BAMAAADPFy0PAAAAMFBMVEX///8AAAAAAAAAAAAAAAAA\n",
       "AAAAAAAAAAAAAAAAAAAAAAAAAAAAAAAAAAAAAAAAAAAv3aB7AAAAD3RSTlMAdomrVDIQIkTvZrvd\n",
       "zZlR4kicAAAACXBIWXMAAA7EAAAOxAGVKw4bAAABnUlEQVQ4y2NgAAMhIQasgFmBxQCrBH8A2zes\n",
       "EvUFDD+wSnA2sP7CKsGxLesLdttTAr5jFWdN4DiAVYJ7AW8AdjtWqTIMDXD/PwJ8RJbw/w/xGluF\n",
       "8PyfKHH0Hx4YXOcdIIwkZTMgef4zXBHfBgj9gOENkIz/vwAu8xxC/WCoB5rP+B8R4lwQahlYgmH/\n",
       "H1R3ygGxDoiR+f8BisQhYPwcA4f5f4xorU4AU/o/E1DF2R+wF4Bo3v8X0DSExoGVss3/hBBkk1vA\n",
       "MP//f9RgAQEmjgkIVXz/p8HZIXzI5p5HhGsCpwBy2kVKVf7ITpQsQLAvsyElq69IrvrBhODEOyCl\n",
       "1g9VCEUTkX1nhYgF3gc40sNuHOJ8x+BMFhSJlQi3LkHJAgi3skxAybFwt7K9R3YFwq0l9v+RsxXv\n",
       "37tgcAYYCSip4j1S2v01eLIUGyxECtAkmGCR/9o1FHu5sf//f+wR84CBDyVwhRngdqghSyTyJ/Dt\n",
       "BoJdwFBvQJYo84Ezs1GN3ghnLUL1xrcAmFG3UCRYLsDdiBrqbIZwHx9FFgcAJ/uMrmk0bZAAAAAA\n",
       "SUVORK5CYII=\n",
       "\" style=\"display:inline;vertical-align:middle;\" /></a><br>"
      ],
      "text/plain": [
       "<IPython.core.display.HTML object>"
      ]
     },
     "metadata": {},
     "output_type": "display_data"
    }
   ],
   "source": [
    "sum_7_to_9_i_squared = Sum(i, Exp(i, two), domain=Interval(seven, nine))"
   ]
  },
  {
   "cell_type": "code",
   "execution_count": 42,
   "metadata": {},
   "outputs": [
    {
     "data": {
      "text/html": [
       "<span style=\"font-size:20px;\"> <a class=\"ProveItLink\" href=\"../__pv_it/demonstrations/71e5ec75cbc3828aede6c8f00aa3b4453a00304e0/proof.ipynb\" style=\"text-decoration: none\">&nbsp;&#x22A2;&nbsp;&nbsp;</a><a class=\"ProveItLink\" href=\"../__pv_it/demonstrations/884df2053a6903ca8af87833d0036423fcb2eb570/expr.ipynb\"><img src=\"data:image/png;base64,iVBORw0KGgoAAAANSUhEUgAAAVcAAAA/BAMAAACmz5aoAAAAMFBMVEX///8AAAAAAAAAAAAAAAAA\n",
       "AAAAAAAAAAAAAAAAAAAAAAAAAAAAAAAAAAAAAAAAAAAv3aB7AAAAD3RSTlMAmXbNRCIQ72Yyq1Td\n",
       "u4mXa1p+AAAACXBIWXMAAA7EAAAOxAGVKw4bAAAINklEQVRo3pWaXWhcRRSA5+7eO7ub/QstVh9S\n",
       "dqtIoWgTKYiUyoYitNWHRNCqSLtrtaS20q0VW0VlFwRbUMgqvhSFBMEf6kOCggUpJPWhotQm+FD1\n",
       "oWZpfVGkTdP8N/Z6f2bmzs+ZO+mFcPZnvnPOnXvOmTOzQci/1iDEy72PvY+k68Ua0l5ruNebN4ND\n",
       "KI4f1qtBVlmng8cSPaLcsdKWhycmtTYo5V8d7ewwOIbiD8Y4e59eB4f19YtyF6DpT60NSvlXsYXn\n",
       "wUEUz7e1euw5vY4Iw2+IEu16Qn3oA6MaG4zyr2o/mgVHURy/pXV2oKnXEWFWjyjR47u/VlRlj+ki\n",
       "jYsClOrNLIKjGH5GG/xr43QwbKglSv+lquucxgZHeY/y0oFb8DCK5zo1ejJLcToYtlWSaBTVe5Xh\n",
       "Y/2wka3Cu0OtOXgYxbOa71FyOE4HxWSJ0JIfN4oyuB6IxjM1e1zjC8UfRfF3o9FBsNykKBFahzYB\n",
       "Xi2BNnLCPeSbyRbsC8PHNAN+iddBsCGSqEMs3w9vhgrMq3DIClXCPvm3Ln8onoKDNnMrXgfBRsjb\n",
       "ERR/lcBPTZSCW9Pg1x3T8XiI4RuklN0wWOtrQlX2xmqdpbgN17Z6ZzweYmkSTOklg7VUD/ChkVLx\n",
       "18CvB1sGPsDyZP7zhueALKjoGCkVL4E1cMoYRj5WJOlcnDSMzkLPz0ip+BgUTug/Ex9gfSTz+9qG\n",
       "0c4yFInt1TrL8CrUl9m3TXyAlchiFcqKG10z0vDj0MNhS12SI90yMJTiqSNQkMyarAdYhbQIoRxz\n",
       "w0DHT21qLMhhBfQgFfZZ1iW5tn/7ly7kD8XzUBOZnDdZD7AV8iaUHS5b6tITpN4f/ueLQHYDXeIK\n",
       "V3Gj1x/wnYiMJ6BWpzius46vna5RzCGRTeVEFJkWSZ5O1BWGuFoKHS4vcm4UjOu5MTKehUpzdVJn\n",
       "3ULWOMUoSuWQGyXrXaGYRdXg6Qypmc8bzrhRubC48iTjGSjxyZ0A1ou9zhLFEiSQmXSjcpoOxXvE\n",
       "Wl1thhJ8GnS7kYtceZJxvAI4213WWU/XQmd9zCIRRCWaknRt8P7+De9RXQAsPv7yLtDaAbgLVZVR\n",
       "2HrCm/HCOMXyJIepRAOuGJoXvSdwPgxKNY3z/GqLG0A0AvgEUFWmWrD1nFfHP61RLEnmnUpku0q2\n",
       "7qmJQ9BOVnGEJbjPBXeVMl4B1lv6GWDducSGpMj9pti0XV+Q7tzpdAJVebbp/IZVamGyCy60q1Tw\n",
       "KXXPhBo1nXX0JHqaYjSSooBMulJ7tefUh4GCjluKs1IYV25CEyvjI8D8u1rrzh+n1lFMdRY3uHUa\n",
       "b2iihhuqMjs74EqtAojHOitYR/vuQSnXndY7yxa94Mna0cppLZqcZUtuLF4K61rXBf/6Wa4QvHXU\n",
       "3sEVjCaqE3P1yKzFhd4n3BkG4GxdqmYlKeJAvKT2iNgFrWdG14rOkluvc73HRFTqa6mogSrM0Bk5\n",
       "TmekLnUsOanfAnAvh9SeDC+A1jE6Gn3uYZCzVa64j9VUa9zMSs468uoE4QZneevZeaOzG7lCuBXf\n",
       "ibOJ1+XzGqx1lo9Z3lneenK4xjsLJJjNZQmeLdxBgqE+adsH4kDMcgnGW0f13jYfs4Cz/LlFZvrZ\n",
       "O3A2Iy8/IB7vrHBqMuQ0453FR3ktX0WjV1FnlWiE8Pg6K1jvOMk196MoRcylohVMd9wAOJsSnX0o\n",
       "bscX62zDaN3HaC8UtVSXdaOjFos1MmIjlo/dlzN8CjjPYJ2Y1rqPKS2idT4qHFIRnYtvEVFXlLrA\n",
       "5DF8ol/fIuqt+5g1y++FvetEpEr6gSk1rdlB09Y+qltpwFmGN2K29HrrPpYgOUolVzmyUhEtqhvs\n",
       "xCJct85AG1iKL0DbmqbJuo+lSZNDZZXNCS5JsV5Vdy1prkVyorr1AriBHdescsG5XNtk3cdssvkl\n",
       "Mqocz4+4UiL0qec+9jJQt5zvXehskeL2svbLOOs+hkm/TGTy5pbguuB1ofIMDAJrOtdtV0Jy24+u\n",
       "C+0cGZ6egY5ne0zWA2yCJlsY6Nxpk3xqWIJKDtfacRd0UEhxC5r23LTJeoDR49JSv+kcr6I7NV3d\n",
       "RfHk9GoPf8XTMB8bJLMw2DQNBxOjuWpnV4RjLfkhL5rwAKuSrKsaDvVRBjpCNVIqPgQd6TrG3yYC\n",
       "LEVuNDVuGJ2AYs1IqXg3+OvB2yY+wApkeS/MG0bnoUNXI6Xiv4FfX68Z+ABzSCUhEmszpg4drxNq\n",
       "v9lZiuNl+BS+HK+IYFvI21AWaDHF78q5BD6+kLpCff9r56iGp7jmx6hkj6AIHZDOOgg2SOZyUJzT\n",
       "jx6Q1G0DjYiU3bgYnh+rPMWTcJSnxdqVuVcaRrA6yc66lKVnpQeu+WVQoOxw+iZVnuFVuNhhqdZk\n",
       "JWcJZpHID6S9SedsAf55LqC203C2P/5O4yzDr2uC8m7EK1KcJRie4eS+Ys267F2/K87Wy/CMeBQu\n",
       "z6P1PtW0Pz84CjtLcTyjS8Ayr0h2lmEbObn7rG5muzRGPMo5NM7tZ2FnKW7pCnPiiKBIcpZhuTIn\n",
       "f9U468xqjPhUvsy2InjWezLvKE+G4dVeXXH6AXGKZGcZRv+hypd4vgWHQcewxoZP1V8mT6/YcubA\n",
       "mWX4aW0h9v8/jCmSnY2wq5HM9nTCM3tCu8J41LcWfVq1xDDoLMXTx7TOFno4RZKzHEYn35P4M1o3\n",
       "91au8I/xTf06WkYH76d5cOUarQYCz/BnYv6twItApsi5eptPaA7DP4kSWmD0rSBATWrxR2IW5Ff0\n",
       "N8Jjz0lSvV6KMaJSnToc98bocbTOEux/2eZdTftIYU4AAAAASUVORK5CYII=\n",
       "\" style=\"display:inline;vertical-align:middle;\" /></a></span>"
      ],
      "text/plain": [
       "|- ((Sum_{i = 1}^{5} i^{2}) + (Sum_{i = 5 + 1}^{9} i^{2})) = (Sum_{i = 1}^{9} i^{2})"
      ]
     },
     "metadata": {},
     "output_type": "display_data"
    }
   ],
   "source": [
    "# This format used to be required, where the upper index value of first sum\n",
    "# and lower index value of second sum had to be explicitly related by a ±1\n",
    "# This still works as originally coded but should now also simplify the\n",
    "# index values if desired and possible\n",
    "sum_1_to_5_i_squared.joining(sum_5_plus_1_to_9_i_squared)"
   ]
  },
  {
   "cell_type": "code",
   "execution_count": 43,
   "metadata": {},
   "outputs": [
    {
     "data": {
      "text/html": [
       "<span style=\"font-size:20px;\"> <a class=\"ProveItLink\" href=\"../__pv_it/demonstrations/4efef86e501f5dcb630a0ee8f53d6035f9728ddb0/proof.ipynb\" style=\"text-decoration: none\">&nbsp;&#x22A2;&nbsp;&nbsp;</a><a class=\"ProveItLink\" href=\"../__pv_it/demonstrations/9b0d0cfba59de7f03eaab6fbe3d196f5d4caba280/expr.ipynb\"><img src=\"data:image/png;base64,iVBORw0KGgoAAAANSUhEUgAAAUUAAAA/BAMAAACFlMd9AAAAMFBMVEX///8AAAAAAAAAAAAAAAAA\n",
       "AAAAAAAAAAAAAAAAAAAAAAAAAAAAAAAAAAAAAAAAAAAv3aB7AAAAD3RSTlMAmXbNRCIQ72Yyq1Td\n",
       "u4mXa1p+AAAACXBIWXMAAA7EAAAOxAGVKw4bAAAHtElEQVRo3o2af2gcRRTH397d7uVyubtgsfaP\n",
       "lFwVqRRtIgVRqSQUoa0/SAStSrF3VmuqlZ7W2ioKORFsoWJO/ygUCxf8Q6WCCfpHsRRyilSUaoJ/\n",
       "1PpHTUz/UsRc0/y6Jmbdu53ZnTfz5nYftN9cdj8zb2feezOzF4C63QQg6p4HT4Bkz+VBa4yKTE/J\n",
       "V6x7sJJmZF3dvFmHN1rvxrp9RektMqHtg1Nfwjnl2l2SUnabK61TyWEd7lhfP9adREt/aPvgVA0K\n",
       "ymCnprASFpt3NVOyFnS4M6RvYIWdD6szOzCq6YNT5jxkepWLb2ElbKDoaq4f5nS4ExDdWOGhXV8o\n",
       "TSWP6MKJU4ehXFSuns1jVW0N03hvYkmLQ7mEtf6j2ta3mj486tEXhtSxbmvHqliixuf80v5lLQ73\n",
       "SwqjUFBmDcb66U48yvomo96SnMeqWNRLlAOl+UDcb6ZWDw6lMTqzfeokPEJcf0BS7aMn8rGKFm+b\n",
       "wAqwFjYRztTIPnzqMtxH+VDCKtvPXg4XoyUtXmZRVPai6eBmqlS8SoejR+34gHIj3o5VDkcvBmPH\n",
       "/9LjI+zjCDS3TvK3QZRRxSpZazUMbl1jIX8toLe+IlUdg6jYElbJCu1h8BYWZy21gN7i3cQvAyl4\n",
       "TVJsQ6UweIqNdqoaNGtU+QikoLMfK7bJUHiGJWZmIuDuJDVbgRSMFbFi+y8U3sdyuG8q4G7zBhWk\n",
       "QRTkhrHicFsNhXeyJaWhUVuwrHT7UWoqGnSPQM3KYfwKVhw/c6HwHrZsNzRpsxzYt+0zW250ktgX\n",
       "uPSY7Ya+9fimwUU5Yhew4sVrIRS+wj64OrLiXX2fl9eDf3/a0C5ie+be3mp7y1jL+CimIqyZyDIV\n",
       "zhUdbv17Js8xk0Ut0zbbD5v1TNuhww1ftZZxetyPVWMCU0lWQZNUJc1N6HADjArHpCYStp+9BqsW\n",
       "c5BrzEVZzWFOl20/a2/GVII9RoJKYfbYBJ7pNWsci7Ag5dpl+3WMge+x3grqvsSjbb94tmDKYtFj\n",
       "rRA+dmV1eEve9bGOGSxMuKZsyZMNzr9/3EdT6zWnYHJFR4ENWFFZGKXxiDO+6QrHUiyRuVqDUtz8\n",
       "4oz3BTdW1czkFAzY7RoKxvNYUako0XibU3ZP5zkWZaPMFfpsJX2fyeNbYIdXO/ivYvayhoKefqyo\n",
       "dPVrcfOSd0ucDQ5XSNvy6cpsNxtNpbxz21dehfWGdmYxT1MwyRaJSfX8AYN5HQ6PwRMc40HmB1vP\n",
       "dXlATn3YaKB1WfHRp6J2N03BCJuXEaK82lrc/P3UWo6pPg7YwhpsbSjCoO021dRHa3CVpsL5iHDY\n",
       "uw7itl3V++ith42Zj/krorHUxEdvQZMp6Cwi7bhYt5/kXBdxmNqO8ALrpeD31inExsdGdzMfBcoQ\n",
       "4likZB/RLt4m8cToGuwje+KC/+Rtwo4nH/d/Ts/ygTjKB0KgYHyWpGAmi1X0cZHELTiEcMJHUyyo\n",
       "Y3nZRzSOgo+5CkmF9VHEkwtBPkZeF19DWGF93NhPUrKPYjyKPop4dDgv4mrOQJ8QvdZcOmTOxGo0\n",
       "1SwehZwRcSj0Tom46mNCLPmJ6lMhfSyP0lRIH0UcymaxuY8DKG4+9+9uXh8PaaiQ9RHhrccRHme9\n",
       "xL3e7tYdfwgffSqqPcw383EwFM43M96mJqU9jXqbHH9P4W+FrmhPdnxvM0kc9729UFNc3ptBh59S\n",
       "0oO3zevdNi74hUP2ox8r5X9z3JgTT5HO/tcvPC2Sj/Gq5uzp2DHfgROa+RzUHn2D8AhLVq5C4Tkr\n",
       "H+LUEzKnhMqRlO9alBSdFYph8Ba232Bq+oXnWfkgl1PPM5zOeUNudUrRz1ctkzrPDE2FwWPs2MjU\n",
       "KzzmOVt+Jdanvg1hlF85do/YJfIWT4kmg3CL7WiZ9mxp2NYfbFs+fMEQseC6VPS6i110No3ycLXM\n",
       "YsWvH7tD4eM8f9wdkmDyutBJFQ/3ikDJb9eMGlZcKqqh8ObvB9EBqcnbRb1Fq1iD32mq+BAbrqFi\n",
       "0O1k0AdSmQpWPJNLofAcS6RcwJtpSFDvCgMpKE9hxVl7LRQeZ88XrwTcHaECKpCCrhJWbG+HwtNs\n",
       "yU0vBNydol5yBlLwm6TYZvJhcJPVBKaWNgkK1MviQMq6gVWOFbee7QvAt7CPrqZ5EbTeldODnCyJ\n",
       "guk7pKxo/tVK1D1ATvPP+7tJfIiNwRAei4/ulJrbSnYiUdGS9LVytIJVTmxcfBK3Vki8wBKuICXe\n",
       "eWlWNV9UYepPiEmTWcQqz6VULJIVEjdYLjQ0tknnY5r+tkiiDu+WkmBGUtluqf+3bVjnI8OsWUH3\n",
       "ZvLGFccuKz4WsvRAIMpaPblOvSyoOg9Os1Z2AdbX+aLso4dtFHTXed04dmg6QZQTEAUUoEYFq1p1\n",
       "nXkwD1Q04+hhbVlBf9X4aM5pOsFUDTIo8HK9WFX7rl56sxofPYz/hU1drYUSPdetw5o+MPW99Ac0\n",
       "ZyQltpDOuBde1My1j131NdndTo/jMe2CgKh34DQqLUewUiuVUxG/NuhxFDA+1I5an/Bw2tMzLU71\n",
       "m/o1UqQi02vFa0+WsFLmxMlLt/Nurq5mCbyePT9ipdYD/R6sCQX3SkrZy6VAvG5PS6ra80060VNW\n",
       "L1bSzFIA/j98F0pooG5WxgAAAABJRU5ErkJggg==\n",
       "\" style=\"display:inline;vertical-align:middle;\" /></a></span>"
      ],
      "text/plain": [
       "|- ((Sum_{i = 1}^{5} i^{2}) + (Sum_{i = 6}^{9} i^{2})) = (Sum_{i = 1}^{9} i^{2})"
      ]
     },
     "metadata": {},
     "output_type": "display_data"
    }
   ],
   "source": [
    "# Now we can also proceed with the implicit ±1 relationship\n",
    "# between the upper index value of first sum and lower index value\n",
    "# of second sum, at least in simple cases.\n",
    "sum_1_to_5_i_squared.joining(sum_6_to_9_i_squared)"
   ]
  },
  {
   "cell_type": "code",
   "execution_count": 44,
   "metadata": {},
   "outputs": [
    {
     "name": "stdout",
     "output_type": "stream",
     "text": [
      "Expected Error: Prerequisites not met while assuming (): Sum joining using Sum.join() only implemented for when there is an explicit (or easily verified) increment of one unit from the first summation's upper bound to the second summation's lower bound (or decrement of one unit from second summation's lower bound to first summation's upper bound). We have first summation upper bound of 5 with the second summation lower bound of 7. If these appear to have the necessary relationship, you might need to prove this before calling the Sum.join() method.\n"
     ]
    }
   ],
   "source": [
    "from proveit import UnsatisfiedPrerequisites\n",
    "try:\n",
    "    sum_1_to_5_i_squared.joining(sum_7_to_9_i_squared)\n",
    "    assert False\n",
    "except UnsatisfiedPrerequisites as myException:\n",
    "    print(\"Expected Error: {}\".format(myException))"
   ]
  },
  {
   "cell_type": "markdown",
   "metadata": {},
   "source": [
    "### Testing Sum.deduce_bound()"
   ]
  },
  {
   "cell_type": "code",
   "execution_count": 45,
   "metadata": {},
   "outputs": [
    {
     "data": {
      "text/html": [
       "<strong id=\"sum_expr\">sum_expr:</strong> <a class=\"ProveItLink\" href=\"../__pv_it/demonstrations/40d8f1d2c6134d7e727d54b7d58c847920060d750/expr.ipynb\"><img src=\"data:image/png;base64,iVBORw0KGgoAAAANSUhEUgAAAEcAAAA6BAMAAAAQIlkzAAAAMFBMVEX///8AAAAAAAAAAAAAAAAA\n",
       "AAAAAAAAAAAAAAAAAAAAAAAAAAAAAAAAAAAAAAAAAAAv3aB7AAAAD3RSTlMAZpkydhBE7yLNq91U\n",
       "ibsrP399AAAACXBIWXMAAA7EAAAOxAGVKw4bAAACJklEQVRIx+VUO0vDUBQ+TZO2mrSWCrqIj00H\n",
       "tYPgIljwLSIKgji1gyI4KSq4tYM6qNAugk52cHEQxdfiUFcnK/4AOztoxPeL67m5SZPIDenugdx7\n",
       "cvPlnvcHoEmksrseXESqmoMlN1BgLAMvbiAoj/lmXUH+qFAfdQOlQe5wBc2AeA3/VnaIKc9OoCvC\n",
       "siitDibfHMtGDg3Vk7twQuU+i6pQcAJ1knBRb7R3EF1SmiqS9+KxxwYaossk0x+++CaUPARzUZHZ\n",
       "GSf8/p7Apw5gU3vxkW8uqAGfJhwS9nb7NsID0YY+wa5lH8tIhucSHgae8CtzSkr+2CLf74/RpOUx\n",
       "WhUgmLWXhsl0KkTni95Qjtn16GYEsmiZ1DkQaKVkrJEfr1SMYctZ6i+oIOfpmCWwGphvr2qM1KFl\n",
       "BgsQT+igPpoh46a+lAmKx2gKmbk7Cc3pF/ieLH7HL2BPwZ9C6M9jEB3XW6PT2kehmHIkAAv9dYyl\n",
       "gsazYOOh3Zu1Lty9aCaCADnBMs4v8DHb1tl2z2+ViFlnNHpq1ssKCmkhB5jf1Wb8NTbnCibUEr9i\n",
       "p7tluvSzbBfjl1qdKNiMf+OAOLFd2ce2JudJQr6cxq7VwgWP/5INpYNSUJelgJpLAZ0Z/NXQNijW\n",
       "8osnqdByjxIenQ77s2KWT2cGoawMQEVUn4y/Yh7vQrs2kByRp3RzMA/DkPZyQRWiwUoq3lUr8M31\n",
       "6oovC1uw1sPD/AJ4fJkewT2/MAAAAABJRU5ErkJggg==\n",
       "\" style=\"display:inline;vertical-align:middle;\" /></a><br>"
      ],
      "text/plain": [
       "<IPython.core.display.HTML object>"
      ]
     },
     "metadata": {},
     "output_type": "display_data"
    }
   ],
   "source": [
    "sum_expr = Sum(l, al, domain=Interval(m, n))"
   ]
  },
  {
   "cell_type": "code",
   "execution_count": 46,
   "metadata": {},
   "outputs": [
    {
     "data": {
      "text/html": [
       "<strong id=\"weak_summand_relation\">weak_summand_relation:</strong> <a class=\"ProveItLink\" href=\"../__pv_it/demonstrations/e2afbf67e4df5ed92310e5048872969020da967c0/expr.ipynb\"><img src=\"data:image/png;base64,iVBORw0KGgoAAAANSUhEUgAAAOkAAAAXBAMAAAAcgXW5AAAAMFBMVEX///8AAAAAAAAAAAAAAAAA\n",
       "AAAAAAAAAAAAAAAAAAAAAAAAAAAAAAAAAAAAAAAAAAAv3aB7AAAAD3RSTlMAq1RmmUTNIjK7EInv\n",
       "3XZ/CtNrAAAACXBIWXMAAA7EAAAOxAGVKw4bAAADP0lEQVRIx7WVTWgTQRTH32aTbLrbhIj3EBTq\n",
       "QaQ5VImIEvADsYopnluWWlB6KKkoeOjH6qEeaiEHwcaDpiBCabVVe5aKSBFpKVVEKJVUhYIFKUGx\n",
       "VBDfm92dmV2b2BQdeLtvZ34z/9k3b2YAtls0yc95XlXgXFVqC+WjcGNJ+932V7jNsTh97K5dNDAp\n",
       "/L0Ao7OknvJTrNqGOUF2nGov1K76QLi6iY8O8jqlWdljdgiYE2jXKOr52lWPCjdIv1gmr4nXqW+L\n",
       "7F0WMCfQwthqJGtXnRZuPVpog3lFd6UXbc+uZrAg0FScaHgby2oKvwHNYLMIOws79sFpMuY5LAiy\n",
       "2aWl17WrBimZup/1kd9Mo8UDU0UwWG7C/TcuFk4sJx1YEGQnAe54BjyUqqg1eIoPh1BoBu5RIM+j\n",
       "TaR29aRAZREYaecdJjr1H04IBEHWDRpqHy65YGS6yi8+dp0o/sJ4Cs6Qv4DWeCU5kIMA66sI1cYi\n",
       "zNmwRJDVFY0srnCWBJcLWc+K/VEaeAYhfxZgkfyXaKfTbMZrrPEyj/AJgJ/O4IIgC5Qomfqp6pjl\n",
       "y5Pqqq9A/+6qvmN9Q9O+bFqEUNlRFQSjzCP4OKitOkcLqTalv8Y/DXv0sCojqWLQ9F+grjkR1suh\n",
       "deo779s5ZQhu2BGWCEY9ofMicWk8N2rvbxP0/S/gOSzLolQ1A9DqfteVcBxQzD3o38VOG3o5hq+8\n",
       "75RYp8UnWCYY1UPpPpeMwDnGD1igPTKRb/ZcGliFsw5/cTdinNT2ZTJ2iimmvm44W8TZ0BfpuRNu\n",
       "ObBEMErBeGvfcAMdKBQKycgOnKRSwkxe8ERYKdFyBLrcTMcojazeSNBaDeHfJOEzTiia9eXByFTK\n",
       "gSWCU2q+VYNBe0lwYvVWLK+tWXL/eiuYsaCHf78XTVEO9lZIQgH3ypRSGjJwD7nZ1I8Vap6ip0/C\n",
       "GCP6IXrdEtkkHfSgZja5Eryp6Lk0OFWXU9KgDbuqLRDOaQmaRGQGbrLLvwViT6Ucxh5i0Nvu4tvJ\n",
       "9HCJihQMARPhv+HGCls+JUCX+o5uMhNP4TARm1Kh+S2pQp+U4M5xulKxnwuvVKS6KotG2uF/lUjl\n",
       "O/7qP5L4Dd+x5n8TyHTpAAAAAElFTkSuQmCC\n",
       "\" style=\"display:inline;vertical-align:middle;\" /></a><br>"
      ],
      "text/plain": [
       "<IPython.core.display.HTML object>"
      ]
     },
     "metadata": {},
     "output_type": "display_data"
    }
   ],
   "source": [
    "weak_summand_relation = Forall(k, LessEq(ak, bk), domain=Interval(m, n))"
   ]
  },
  {
   "cell_type": "code",
   "execution_count": 47,
   "metadata": {},
   "outputs": [
    {
     "data": {
      "text/html": [
       "<span style=\"font-size:20px;\"><a class=\"ProveItLink\" href=\"../__pv_it/demonstrations/e2afbf67e4df5ed92310e5048872969020da967c0/expr.ipynb\"><img src=\"data:image/png;base64,iVBORw0KGgoAAAANSUhEUgAAAOkAAAAXBAMAAAAcgXW5AAAAMFBMVEX///8AAAAAAAAAAAAAAAAA\n",
       "AAAAAAAAAAAAAAAAAAAAAAAAAAAAAAAAAAAAAAAAAAAv3aB7AAAAD3RSTlMAq1RmmUTNIjK7EInv\n",
       "3XZ/CtNrAAAACXBIWXMAAA7EAAAOxAGVKw4bAAADP0lEQVRIx7WVTWgTQRTH32aTbLrbhIj3EBTq\n",
       "QaQ5VImIEvADsYopnluWWlB6KKkoeOjH6qEeaiEHwcaDpiBCabVVe5aKSBFpKVVEKJVUhYIFKUGx\n",
       "VBDfm92dmV2b2BQdeLtvZ34z/9k3b2YAtls0yc95XlXgXFVqC+WjcGNJ+932V7jNsTh97K5dNDAp\n",
       "/L0Ao7OknvJTrNqGOUF2nGov1K76QLi6iY8O8jqlWdljdgiYE2jXKOr52lWPCjdIv1gmr4nXqW+L\n",
       "7F0WMCfQwthqJGtXnRZuPVpog3lFd6UXbc+uZrAg0FScaHgby2oKvwHNYLMIOws79sFpMuY5LAiy\n",
       "2aWl17WrBimZup/1kd9Mo8UDU0UwWG7C/TcuFk4sJx1YEGQnAe54BjyUqqg1eIoPh1BoBu5RIM+j\n",
       "TaR29aRAZREYaecdJjr1H04IBEHWDRpqHy65YGS6yi8+dp0o/sJ4Cs6Qv4DWeCU5kIMA66sI1cYi\n",
       "zNmwRJDVFY0srnCWBJcLWc+K/VEaeAYhfxZgkfyXaKfTbMZrrPEyj/AJgJ/O4IIgC5Qomfqp6pjl\n",
       "y5Pqqq9A/+6qvmN9Q9O+bFqEUNlRFQSjzCP4OKitOkcLqTalv8Y/DXv0sCojqWLQ9F+grjkR1suh\n",
       "deo779s5ZQhu2BGWCEY9ofMicWk8N2rvbxP0/S/gOSzLolQ1A9DqfteVcBxQzD3o38VOG3o5hq+8\n",
       "75RYp8UnWCYY1UPpPpeMwDnGD1igPTKRb/ZcGliFsw5/cTdinNT2ZTJ2iimmvm44W8TZ0BfpuRNu\n",
       "ObBEMErBeGvfcAMdKBQKycgOnKRSwkxe8ERYKdFyBLrcTMcojazeSNBaDeHfJOEzTiia9eXByFTK\n",
       "gSWCU2q+VYNBe0lwYvVWLK+tWXL/eiuYsaCHf78XTVEO9lZIQgH3ypRSGjJwD7nZ1I8Vap6ip0/C\n",
       "GCP6IXrdEtkkHfSgZja5Eryp6Lk0OFWXU9KgDbuqLRDOaQmaRGQGbrLLvwViT6Ucxh5i0Nvu4tvJ\n",
       "9HCJihQMARPhv+HGCls+JUCX+o5uMhNP4TARm1Kh+S2pQp+U4M5xulKxnwuvVKS6KotG2uF/lUjl\n",
       "O/7qP5L4Dd+x5n8TyHTpAAAAAElFTkSuQmCC\n",
       "\" style=\"display:inline;vertical-align:middle;\" /></a> <a class=\"ProveItLink\" href=\"../__pv_it/demonstrations/3b6e16dd6e35fdfc3a63529e605e48a500533a140/proof.ipynb\" style=\"text-decoration: none\">&nbsp;&#x22A2;&nbsp;&nbsp;</a><a class=\"ProveItLink\" href=\"../__pv_it/demonstrations/a710841b3c0c4b91660d6d157b07d3257a8875710/expr.ipynb\"><img src=\"data:image/png;base64,iVBORw0KGgoAAAANSUhEUgAAAOUAAAA/BAMAAADtQhJsAAAAMFBMVEX///8AAAAAAAAAAAAAAAAA\n",
       "AAAAAAAAAAAAAAAAAAAAAAAAAAAAAAAAAAAAAAAAAAAv3aB7AAAAD3RSTlMAmXbNRCIQ72Yyq1Td\n",
       "u4mXa1p+AAAACXBIWXMAAA7EAAAOxAGVKw4bAAAFCklEQVRYw5WYX4gbRRzHZ/eSSe6yuYSKcg9q\n",
       "QrUeVosHRZGCNPhgwZc7RJRWIUd9aN9yKJaKD5cDQUTLBV988CGhfVPoBe7Bx4siwkEheSsIpQFB\n",
       "FAqX3rXX87y6zr/dnd38fpuZgUtyMzuf3+7M9/dnlhDejhGDRl9LGz1mSXAXTGySUyljZgiNsLhk\n",
       "ZLM4xMfMEBGBXlU/1r46Xk5bms/xITNERHDUutAvrpJP027zp2VsxBQREtot+Z29uED202x66COY\n",
       "IkLCmaBnpppZSbNZeIiNmCICQkTKtZxyK83oGxNvZhJCEbxB0FEn3vepNreQUXOEIrS7QcfbxP0r\n",
       "Ves5ZEPNEYqwQYybM4L7NywJ9L65zcwB7Hb3LQn5f8xtkk/AXhuEIBRHFjYrYIizQQhCaWBhc6sJ\n",
       "9dogBGFxaGGz3gED/NCSUKnxn2f9qO2mSB0MMjYIQTgrwu6WL52Vvnty9VFKMgKDqQ1CEI5knPR7\n",
       "oQr7XTw1/wv12iA4IftY/u4fRn6LS6IAeaIVghMCStuPJPlkHMk/lI9MP065ERSRJLhqu10/SlT5\n",
       "GPIl/vGmijhH0HJNQiQJTrBDd4+QxRiS2X7LVY/gQzEUQdDbPZhQDOLWJR9OGh+xv3VCVJnY18uT\n",
       "TbleKGKqDBOmgvXI+KAmyRz7e4IVV8ottOD3zVMKjSFKXZiQCz1u5xFYYnEf/oX5shy8WwsHXv4z\n",
       "cHMMsbgME0phfJ7yobq4wDqzbPGm5HZsBI5H71XDx8EQ9xBCNIGu/hcT+M0TnOqwWJpn18x2Yjbp\n",
       "05FfoIgzx38ECdGEMHjJdm5JhCl+dzPMw/PyCSrSFL2hBRoMQfeWG0sQoRFNcPwrscrc4VL3GDzH\n",
       "Hriwotskuk0MUdgXM8cJDS1T9HdjhYvHU1SOiabN7nZagnfULma1tUURC6Q0hAj6hHpPyzkD0qgp\n",
       "m/PcD1ZiNnUNYQh2z4tdiKBPmNecr1HlfixX5nfKVqYXt6n5CoZg7llZhgiaADJ6KdXokhsFBigy\n",
       "IwezTAGD2H7qMQFDlFriuDZO0Ca09aRXrBZ+dohU+IOLUvEJm2SzlbQZQ8w0i2WQoDnXx7EAff3v\n",
       "Cy/y3MNWZI1d7dXiMYFAvpJA3JwjICE3SkTkZNuWXx8S1OYkxBjBC4PlHTiXrUWhnkdL4AA0CTFG\n",
       "CBOR81vkzLGiSSgxq4qNvtQlvSVaK57LEMQYwXmgRr6MVP51bFcG0TxCVqGcPQExRnAPxlReiBex\n",
       "7/CPE+ofqIiciEgS8ioT1ENx0Ar+5iMLFTBWCE7IHCZU/sGGjx+UM4d4pxmCX0z3pMr3Tot2a9X3\n",
       "j/A6Pg8dCqwQgtCX0UE7bBykHJPBk6YNQhAqZi/elNOPzE+lKYT1poXNUg/qtUEIQr1sYbMNnjRt\n",
       "EIKQ61nYfAXUow1CEGb3LWzeBnttEIKQ3TWfQA9hP9+1JZzmP83eKmEvZcwRirDOlb5pJnRk48wR\n",
       "itDgSnrW7KUH4hTmCEVweA74NXj2uW9PutewaLmDBRdjhCJQpgA6Is/cYa15+Vwz13E7iAAwrRgj\n",
       "QsK8PDuJ9t5zrER0kHdMDuqHpoiQ4FVJdMl18p2ogsHNqGE2TREhIfOQeG+phSGfkVOkPg2Tf8Dz\n",
       "qiEiIvxBSm7g3iN2m9cc2Leu4Ho0Q2iEYtV5PrjhDnmVXHgB5L6f8qLdDKER6LaRd76eFtO2bQnn\n",
       "jUJlLW30vDnhfwu+GPec8eQMAAAAAElFTkSuQmCC\n",
       "\" style=\"display:inline;vertical-align:middle;\" /></a></span>"
      ],
      "text/plain": [
       "{forall_{k in {m .. n}} (a(k) <= b(k))} |- (Sum_{l = m}^{n} a(l)) <= (Sum_{l = m}^{n} b(l))"
      ]
     },
     "metadata": {},
     "output_type": "display_data"
    }
   ],
   "source": [
    "sum_expr.deduce_bound(weak_summand_relation, assumptions=[weak_summand_relation])"
   ]
  },
  {
   "cell_type": "code",
   "execution_count": 48,
   "metadata": {},
   "outputs": [
    {
     "data": {
      "text/html": [
       "<strong id=\"strong_summand_relation\">strong_summand_relation:</strong> <a class=\"ProveItLink\" href=\"../__pv_it/demonstrations/ee5906a021d11ed57aff90e0bffe6d2d853d86540/expr.ipynb\"><img src=\"data:image/png;base64,iVBORw0KGgoAAAANSUhEUgAAAOkAAAAXBAMAAAAcgXW5AAAAMFBMVEX///8AAAAAAAAAAAAAAAAA\n",
       "AAAAAAAAAAAAAAAAAAAAAAAAAAAAAAAAAAAAAAAAAAAv3aB7AAAAD3RSTlMAq1RmmUTNIjK7EInv\n",
       "3XZ/CtNrAAAACXBIWXMAAA7EAAAOxAGVKw4bAAADN0lEQVRIx7WVXUgUURTHz+zs7qwz7rLR+zIU\n",
       "2EOE+2BhRLHQB5FFKz0rgwmBD7JGQg9+TD3Ygwn7EOT2YOtLIIpa+RxGhEQoYhGBKGsFQkLIUiQG\n",
       "0Tl37sy9s7qbK3Xh7Jy5+7v3f+bcc+8F2G/TJD/je1SAMxWpPbRPwo2ZzrP1r3Artzi9HK5eNDAt\n",
       "/KMAY/OkniylWLcDewTZeeq9Ub3qE+HqFv60k9exA2sXsEeg3aGsZ6tXPSvcIH1ikbyGHVhRwB6B\n",
       "Fs4DGGb1qrPCrUULbTMvL1aA5c/pZrAg0FQMNLyPZbWEX4dmsCjC3sKq71kAxqIHC4JsfmXlbfWq\n",
       "QSqmrhd95DfRbPHATB6MuFvVy85XhxNrJocFQXYR4JFvwlPJslqDl1yP4g3NwWOa/DraVPJQTxJU\n",
       "noHxVY5Ndeg/eQoEQdYFGmqfLrjzRWYrfOJT14niJ0wk4Qr5S2j13eZABgLO2FvvXKw+DwsOLBFk\n",
       "NXkjjSucJsG1XNq3YjtanVdByF8FWCb/NdrlRhbxJv0qbR5/AeAXn1wQZIECFVM/dZ2zS+qksuob\n",
       "0H+4qh/Y2NBsieoyhIpcVRCMss7gz0ltgx8tpNrQ+C3+edinh10pSRWTpv8GdZNnWC+GtmjsYkmG\n",
       "ixDcdjIsEYx6RudF4uZEZsypeQv046/gJazJotQ1B9DivtcUcB5QrCPoj+Cgbb0Yw0e2pJq2aPEJ\n",
       "lglG9VC5L5gRuMbAARu0SQv5Jt+lgV0Ydfgrf6fqH4FjqZRTYoqlbxl8i1CbXHV2zkF4wGGJYJSC\n",
       "+da+4wY6kcvlzMgB5JUCVvKSL8NKgZYj0OlWOmZpdONegtZqCL/GhC8YUDTtnRLOhh2dSXJYIjxK\n",
       "zbZoMOhscAys1o5ltU1bVq21gykberz3j+KvqAf2ik5VvlEE3CtTSmHIwD3kVlM/dqhZyp4+DeOM\n",
       "6IfoXVtUk3zQq6ldrgR/KfouDY+qySiNoA27qs0QzmgJCiIyB/fZ5d8MsedSDeMIMelDd/HL3V0e\n",
       "TEQpNZ7b8ykBujR2bJdIfM2DidiVCi3uSRX6pALnx+l62XEuvF6W6iwvGmmD/9Ui5e/42/9I4g9L\n",
       "AuCD9lzgbAAAAABJRU5ErkJggg==\n",
       "\" style=\"display:inline;vertical-align:middle;\" /></a><br>"
      ],
      "text/plain": [
       "<IPython.core.display.HTML object>"
      ]
     },
     "metadata": {},
     "output_type": "display_data"
    }
   ],
   "source": [
    "strong_summand_relation = Forall(k, Less(ak, bk), domain=Interval(m, n))"
   ]
  },
  {
   "cell_type": "code",
   "execution_count": 49,
   "metadata": {},
   "outputs": [
    {
     "data": {
      "text/html": [
       "<span style=\"font-size:20px;\"><a class=\"ProveItLink\" href=\"../__pv_it/demonstrations/ee5906a021d11ed57aff90e0bffe6d2d853d86540/expr.ipynb\"><img src=\"data:image/png;base64,iVBORw0KGgoAAAANSUhEUgAAAOkAAAAXBAMAAAAcgXW5AAAAMFBMVEX///8AAAAAAAAAAAAAAAAA\n",
       "AAAAAAAAAAAAAAAAAAAAAAAAAAAAAAAAAAAAAAAAAAAv3aB7AAAAD3RSTlMAq1RmmUTNIjK7EInv\n",
       "3XZ/CtNrAAAACXBIWXMAAA7EAAAOxAGVKw4bAAADN0lEQVRIx7WVXUgUURTHz+zs7qwz7rLR+zIU\n",
       "2EOE+2BhRLHQB5FFKz0rgwmBD7JGQg9+TD3Ygwn7EOT2YOtLIIpa+RxGhEQoYhGBKGsFQkLIUiQG\n",
       "0Tl37sy9s7qbK3Xh7Jy5+7v3f+bcc+8F2G/TJD/je1SAMxWpPbRPwo2ZzrP1r3Artzi9HK5eNDAt\n",
       "/KMAY/OkniylWLcDewTZeeq9Ub3qE+HqFv60k9exA2sXsEeg3aGsZ6tXPSvcIH1ikbyGHVhRwB6B\n",
       "Fs4DGGb1qrPCrUULbTMvL1aA5c/pZrAg0FQMNLyPZbWEX4dmsCjC3sKq71kAxqIHC4JsfmXlbfWq\n",
       "QSqmrhd95DfRbPHATB6MuFvVy85XhxNrJocFQXYR4JFvwlPJslqDl1yP4g3NwWOa/DraVPJQTxJU\n",
       "noHxVY5Ndeg/eQoEQdYFGmqfLrjzRWYrfOJT14niJ0wk4Qr5S2j13eZABgLO2FvvXKw+DwsOLBFk\n",
       "NXkjjSucJsG1XNq3YjtanVdByF8FWCb/NdrlRhbxJv0qbR5/AeAXn1wQZIECFVM/dZ2zS+qksuob\n",
       "0H+4qh/Y2NBsieoyhIpcVRCMss7gz0ltgx8tpNrQ+C3+edinh10pSRWTpv8GdZNnWC+GtmjsYkmG\n",
       "ixDcdjIsEYx6RudF4uZEZsypeQv046/gJazJotQ1B9DivtcUcB5QrCPoj+Cgbb0Yw0e2pJq2aPEJ\n",
       "lglG9VC5L5gRuMbAARu0SQv5Jt+lgV0Ydfgrf6fqH4FjqZRTYoqlbxl8i1CbXHV2zkF4wGGJYJSC\n",
       "+da+4wY6kcvlzMgB5JUCVvKSL8NKgZYj0OlWOmZpdONegtZqCL/GhC8YUDTtnRLOhh2dSXJYIjxK\n",
       "zbZoMOhscAys1o5ltU1bVq21gykberz3j+KvqAf2ik5VvlEE3CtTSmHIwD3kVlM/dqhZyp4+DeOM\n",
       "6IfoXVtUk3zQq6ldrgR/KfouDY+qySiNoA27qs0QzmgJCiIyB/fZ5d8MsedSDeMIMelDd/HL3V0e\n",
       "TEQpNZ7b8ykBujR2bJdIfM2DidiVCi3uSRX6pALnx+l62XEuvF6W6iwvGmmD/9Ui5e/42/9I4g9L\n",
       "AuCD9lzgbAAAAABJRU5ErkJggg==\n",
       "\" style=\"display:inline;vertical-align:middle;\" /></a>, <a class=\"ProveItLink\" href=\"../__pv_it/demonstrations/c298eec739da7e67bcb38691981c77fdd0d613110/expr.ipynb\"><img src=\"data:image/png;base64,iVBORw0KGgoAAAANSUhEUgAAAIMAAAAVBAMAAACXjEALAAAAMFBMVEX///8AAAAAAAAAAAAAAAAA\n",
       "AAAAAAAAAAAAAAAAAAAAAAAAAAAAAAAAAAAAAAAAAAAv3aB7AAAAD3RSTlMAIolEdjIQzVTdme9m\n",
       "q7te72h9AAAACXBIWXMAAA7EAAAOxAGVKw4bAAABqklEQVQ4y2MQYACCZAMGAkACpI4Ru5wyELMU\n",
       "JxAygvUeUAmTAU4j+gmawMDAdwGbEUpeAhAjNAmbwMA0AYsR7A1sEyk04iQDgx45RqQfgAu+BQcC\n",
       "6UawaTrABH8xMMQ3wIxg9k1UecKq9BhTr8k1IT8HVI94qkFoNpARB8BGLAfK8l1hyD/M0I1phMJb\n",
       "B7aPwIjfgBQWJ5eBKcZPQCMcQEYw7mFgMOZ8wCDvwHAewwRmg3kMjF+Bin4gB2f7QrgRCkAjGK8D\n",
       "ZRLyDUAhsxzDCDa2zwwc34CM3ArkGDG/BpIDGmEPdkXUM1DyAvtnE6ZHOD4w8BYAaXUDFCOeQYOz\n",
       "HxKcwLhhuM7AMImB+SMbhhFA/fwHEsAuQfLIRTD1joHhPCJSNzEAXcxbIINhBLcC0IcKDEwowbkQ\n",
       "Qp8GOx1qBDDEeD4w8CkogGTyC2AEEMgHMLjzBGCNVAbOBratcCOYJzCwLGBgXgLO+5wLYAQQWAJD\n",
       "8gRK0vKEJy22Rb4B5CTwzANYMjvZ2QxhhDcRRnAV4DVCvoGwEdkHcBrhCkqoawmaIXQDVEAGYJMC\n",
       "AG14Z35KvriuAAAAAElFTkSuQmCC\n",
       "\" style=\"display:inline;vertical-align:middle;\" /></a> <a class=\"ProveItLink\" href=\"../__pv_it/demonstrations/b20a6451e960de69dd25419ed4a3d6dac4f3d9f80/proof.ipynb\" style=\"text-decoration: none\">&nbsp;&#x22A2;&nbsp;&nbsp;</a><a class=\"ProveItLink\" href=\"../__pv_it/demonstrations/1d5dcfe701384ac8ec416f4f3805c14578bb83ae0/expr.ipynb\"><img src=\"data:image/png;base64,iVBORw0KGgoAAAANSUhEUgAAAOUAAAA/BAMAAADtQhJsAAAAMFBMVEX///8AAAAAAAAAAAAAAAAA\n",
       "AAAAAAAAAAAAAAAAAAAAAAAAAAAAAAAAAAAAAAAAAAAv3aB7AAAAD3RSTlMAmXbNRCIQ72Yyq1Td\n",
       "u4mXa1p+AAAACXBIWXMAAA7EAAAOxAGVKw4bAAAFAklEQVRYw5WYX4gbRRjAZ/eSTe6yuYSKcg9q\n",
       "QrU9rC0eFEUK0uCDBV/uEFFahRztg77lUCwVHy6HgoiWC7744ENC+6bQC/TBx4siwoGQvBWE0oBQ\n",
       "FAqX3rXX87y6zszO7s5mv2/zzUCSzczO75s/378ZxkQ5wgjFeSWt9YghwV6gyGSnUtpoCI2wuESS\n",
       "WRzibTRERHCuqIe1r46W05bmM7yJhogIlloX54sr7JO0Yf60jLVQESGh3fJ/sxcX2F6aTBedAhUR\n",
       "Es4ENTPVzEqazMJDrIWKCAgRKdeyyq00oa9NHMwkhCK4g6CiztzvU2VuIq10hCK0u0HFm8z+K1XX\n",
       "c8iG0hGKsMHIxRrB9RuGBOc+XWZmHza7+4aE/D90mexjsNYEIQnFkYHMCujiTBCSUBoYyNxsQrUm\n",
       "CElYHBrIrHdABz80JFRq4vGsF5WdFFUHnYwJQhLOSre76fnG6rx9YvVRSjACnakJQhIOfT/p9UIt\n",
       "7Hfx0PwvVGuCEITsY/+5fxDZLa4SBcgSjRCCEFDaXqSST8aR4kvZyPTjlIGgiHGCrbbb9qJAlY8h\n",
       "XxRfryuPcwgt1yTEOMEKdujOIbIYQzbbb9lqCh7kQxGEc6sHE4qB3/rAg4PGJf5ZZ0yliX0gPUER\n",
       "U2WYMBWsR8YDdZLN8c8TPLlSZgE4PxRR6sKEXGhx24/AFEvY8C/clv3GOzWt6aY/ABSxuAwTSqF/\n",
       "nvKgvLjAK7N88ab87djQDO+bp9R0MMQ9hBB1cFb/iyn4jWNVoSDcl+b5O7OdcZkn77JxmWOIM0d/\n",
       "BAlRh9B5+eXcknRTYnQz3MLz/gwqgQk696osITOOcHaXG0sQoRF1sLzLsczcEqru8onlOL6wEpOZ\n",
       "fTqyfwxR2JM9k4SGFin6O7HExRUhKseVps1HO+2Dt9Xsrmv7iiIWWGkIEfQO9Z4WcwasUVMy54Ud\n",
       "rJBk6gg+5sUuRNA7zGvG16gKO/ZX5g+Hr0wvJjO2tgiCm2dlGSJoCpDRU6lGl10vcECRC9mf5Row\n",
       "oOhQDFFqyeNakqB1aOtBr1gt/GwxX8MfXPQ1XpfJnJPHkzJjiJlmsQwSNOP6KOagr/194QURe/iK\n",
       "rPG33VrSJ9xN2GcccWOOgYTcaMwjj5ct/+d9lpDJPle+bwIiQXBDZ3kbjmVrkasX3hI4AE1CJAhh\n",
       "ILJ+i4w5FqnkZLIq2egvpcQyBJEgWA9Uy5cR7evYrgyifoytQjF7AiJBsPcTWl6IJ7Fvia9j6g+U\n",
       "RE5EjBPyKhLUQ+VwKvjNRxZKYIwQgpA5GNPy9zY8/KCcOcAraQjxsrPra/nuaVl+X/W8QzyPz0OH\n",
       "AiOEJPR976AdNvZTjsngSdMEIQkV2sWbMvoR/VSaQlhvGsgs9aBaE4Qk1MsGMtvgSdMEIQm5noHM\n",
       "l0B9NEFIwuyegcxbYK0JQhKyO/QOzgFs5zumhNPikXarhF3K0BGKsC40/SZN0ZGNoyMUoSE06Vna\n",
       "pQdiFHSEIlgiBvwazH3u2xP2VcxbbmPOhYxQBIdrgDNiz9zmpfnhuWauY3cQBcB0hYwICfP+2UmW\n",
       "d57jKaKF3DFZqB1SESHBrbLolWvsO5kFg5tRw2RSESEh85C5b6iFYZ+yU6w+DZN/wOMqERER/mQl\n",
       "OzDvER/mVQu2rcu4PtIQGqFYtZ4PBtxhL7MLx0HuuykX7TSERnC2SNb5appP2zIlnCe5ylpa63k6\n",
       "4X/lZhM460WsVwAAAABJRU5ErkJggg==\n",
       "\" style=\"display:inline;vertical-align:middle;\" /></a></span>"
      ],
      "text/plain": [
       "{forall_{k in {m .. n}} (a(k) < b(k)), |{m .. n}| > 0} |- (Sum_{l = m}^{n} a(l)) < (Sum_{l = m}^{n} b(l))"
      ]
     },
     "metadata": {},
     "output_type": "display_data"
    }
   ],
   "source": [
    "# Note, with some added Interval automation, we should be able to get this to\n",
    "# work assuming m >= n rather than |{m...n}| > 0.  Change this in the future.\n",
    "sum_expr.deduce_bound(strong_summand_relation, \n",
    "                      assumptions=[strong_summand_relation, \n",
    "                                   greater(Card(Interval(m, n)), zero)])"
   ]
  },
  {
   "cell_type": "code",
   "execution_count": 50,
   "metadata": {},
   "outputs": [
    {
     "data": {
      "text/html": [
       "<strong id=\"sum_expr\">sum_expr:</strong> <a class=\"ProveItLink\" href=\"../__pv_it/demonstrations/d68bc9b39a0e514f80d4942607a989b4c6d530ae0/expr.ipynb\"><img src=\"data:image/png;base64,iVBORw0KGgoAAAANSUhEUgAAAIwAAAAuBAMAAAAIOuzoAAAAMFBMVEX///8AAAAAAAAAAAAAAAAA\n",
       "AAAAAAAAAAAAAAAAAAAAAAAAAAAAAAAAAAAAAAAAAAAv3aB7AAAAD3RSTlMAzXZUMhAiRKvv3WaZ\n",
       "u4mNgo6tAAAACXBIWXMAAA7EAAAOxAGVKw4bAAACo0lEQVRIx2OQ/48AnxjIBvb/HcA0a7rG/J/k\n",
       "G8PxfwGMyb3egHxz1v+AM3kukG+M//8NcPYxhDAbmjI27LoTYFJM/7/BBbkR8spo6pWxG1MExOwK\n",
       "INb9X1ikmR9g8PnWO6CKsSwFOgLkFW0QL/L/AUxjArHw96MKRRz8CiRFgZgxAOSm/58xjTmNhX8Q\n",
       "yq6G0kwgY/aAwgLsjvc/AzCMmYCFvwjKNkI2hhOkdyqIy/hfACNoBDD5bF+wGcMIChxpcAKe/w/d\n",
       "GB5QCPMpbUHmc3/AZgxfA5B4gZIhEABkB9tihrPIfI4L2IzhBrl7I8Su/1PRjOECZguuBwyTkPmc\n",
       "CtiMYQaFmiU0Q6Dnbc4CBobzkICPF4Dy/UEpluHUqlUzV61aATeGBeRVf4iu/AVYjJkLdcgBKF+T\n",
       "AZtr2EGuqYQIaCZgeor1E5onb7Bi9RTIBVZgPvsX9JjiBYbDb6AECp8PaxCDAn4vJJNjlDOgaARG\n",
       "0xNk/vcgNGP4vsGSxjlwupmEkYhZgE7le70pAJm/5wGqMRydH7uB3gWGGsNycKLAkjWX4OEbIUtk\n",
       "gQoccAzdxVJQ7MHDr0bPszygDMGzFJF1EGGMFnfofHihCArhXBBrJ0LFZjiLFa1YZsVRTIONv4Ya\n",
       "28xIxUMSmvok7MaogSIeZFQ+PLZZzx8gu2JAxHZyP0ZGJx4wfhQEg1Xz////RX41dR6pDv/NMAqG\n",
       "P4iAVj8cc9/cIz8VgytEFo27BVwJfEEB5BsDKgXPOIDaNs7ZFHgKWAoyQdpbByjwE0M8A0MspKmV\n",
       "7ECBMYawUjGIj5KYAlYOG+/evWvA8OApQyj5xiwPYPAD13kmGxiekm/MBwUGXlBE8/EwsC8g35hD\n",
       "BQxsV4D0jg69iw2UpeS4u3cLKDIAACCSxUzqaLyrAAAAAElFTkSuQmCC\n",
       "\" style=\"display:inline;vertical-align:middle;\" /></a><br>"
      ],
      "text/plain": [
       "<IPython.core.display.HTML object>"
      ]
     },
     "metadata": {},
     "output_type": "display_data"
    }
   ],
   "source": [
    "sum_expr = Sum(l, Mult(c, Add(l, one)), domain=Integer)"
   ]
  },
  {
   "cell_type": "code",
   "execution_count": 51,
   "metadata": {},
   "outputs": [
    {
     "data": {
      "text/html": [
       "<span style=\"font-size:20px;\"><a class=\"ProveItLink\" href=\"../../addition/__pv_it/theorems/b66b5547fa9b0b910f79351152926c658c2718190/expr.ipynb\"><img src=\"data:image/png;base64,iVBORw0KGgoAAAANSUhEUgAAADEAAAAQBAMAAABNQoq8AAAAMFBMVEX///8AAAAAAAAAAAAAAAAA\n",
       "AAAAAAAAAAAAAAAAAAAAAAAAAAAAAAAAAAAAAAAAAAAv3aB7AAAAD3RSTlMAiXZmMiLdVJm77xBE\n",
       "zatgdeJyAAAACXBIWXMAAA7EAAAOxAGVKw4bAAAAw0lEQVQY02NgwAQbp91VdcQizsD0yoC7fwY2\n",
       "maaDDAzM2GRYGmYDyRfIQpppaReAFN+GCUByM5LEWW0IzcnaABMSUnYAkqy3odw4FgEoK6yAA6Sd\n",
       "NwDKd+QxgLISGbgUQDIwIyJ4FCAMjt8Q2isNCCaA7YGaxjUBQu+E6eHcABXZD9XLBpPhAfuHh4GB\n",
       "H2jfAVCYKMDD4ByQ6AXaM4GBEeRqhuvwcJvbyl0G8pOgMcSL++ZsgIX1rG+tKAF2cBo4dGAAAHWD\n",
       "KgtwTxl0AAAAAElFTkSuQmCC\n",
       "\" style=\"display:inline;vertical-align:middle;\" /></a> <a class=\"ProveItLink\" href=\"../__pv_it/demonstrations/82e65c5aa430174d9aa9d77cb5ef36c32dc49e530/proof.ipynb\" style=\"text-decoration: none\">&nbsp;&#x22A2;&nbsp;&nbsp;</a><a class=\"ProveItLink\" href=\"../__pv_it/demonstrations/37e9db72bf55dfa305e1ddc06110af9d7c67bf0e0/expr.ipynb\"><img src=\"data:image/png;base64,iVBORw0KGgoAAAANSUhEUgAAAXAAAAA/BAMAAAALTo4BAAAAMFBMVEX///8AAAAAAAAAAAAAAAAA\n",
       "AAAAAAAAAAAAAAAAAAAAAAAAAAAAAAAAAAAAAAAAAAAv3aB7AAAAD3RSTlMARN0yEM12VCKr72aZ\n",
       "u4nmqZmlAAAACXBIWXMAAA7EAAAOxAGVKw4bAAAG3ElEQVRo3r3aX4wTRRgA8Gm7bffa7V6rBBN5\n",
       "6HESUYJe5UEfTLxihMhFbUP0gai5mqAIJNJIIMqDV3mAB0OuTyaghIoEDZFco8E/iLkGgzEiXIn/\n",
       "8KFco8TECNLjOK5wyDrb2e3O7nxT2XNuN5lc59rO/jo7+80306KkpvUgIUdQ06Y5Tyk5e92naZdn\n",
       "cYZBTcsjtCLdqiQTiZQYeCCR4MFfdNR9E4nbZ3GGBxJJDA9VCRwJPD6A/+1rOv/RmOUJIhiOznkG\n",
       "HygLhQ/kvYKfQELh4QMewQOTYuFoqUfwYFEwfKjgDbx1HpHwYNUb+H1IMDw86Qk8MC0ajj7yBN7V\n",
       "EA4f8wSeqQiHJ8tewEdTwuGRrBfwcSQcrjS9gP8jHh6e8QDuuykeLl8jcJznto+rouHKBAwPUifV\n",
       "cu7g6BCBD2nk/pHeXD9yXTQ8eAWGhzUjhXl8/h6t5BI+nm7Bu6xFULQvLxje3cMZKvusRdDH0y7h\n",
       "m/JkjPdds65sVTB8uMqB+zUr+TrlEj5UIfB+zUr1v7VeJjveJsOtFYwCw4cqHHhAm7G6q2Bvjj1k\n",
       "G7y/SuAhzVpcRa0Xr3O8eR0Mn28UGL4px4sqmzTLaHVcCB6rvhwNz/QY4XAcWnSH60xd7XNMg4FF\n",
       "+FRlUmD4WJ4Hj4H7C28g9Jtz5bEML+w30vDuhgEf0IALugKoj9r/teqEHjOeNgoIH0/x4NLIDfYp\n",
       "Cc/mUXuYl94dxPBgmoL7rxhwH7QlchKoG8tHn3lpQzr8mFFA+GCBOwElNfZqKLhlJUseL2gPN4yO\n",
       "Vih4sGnOnJeup5k2SkD9bmPU5Gh4JE0KCB9Jc+GqdoCNG3p/Gq1vpeHoAAWPTZjwoJZlhniWrcuT\n",
       "EDxYJgWEa4g/5Q9OMU9t0SNoCoI/S8G7pk24NMKkFIp+b6ovfULXzdFnh6tFUjrC/9iYYuADWt35\n",
       "8tPUjWSH/wnC29M+NVfjPpQXW3ODXu+qQvBolhQTfrxXP+61wbfnqanNhLenfevQ+3UvCD9CwZWZ\n",
       "Nlxhxpsfv8hfRwfpeiQHwcMlUqAelwz4/e330tnhGHNrLcblIAjfBsNRnzMvjMRxw612pSmz3q+H\n",
       "CKW3d8n+3t5iGx5okALCSdamkFQrk7XD/Uxe+B5uqmlctkPmZWvB+ym4etWCD/cA8MPk4VKzvgFB\n",
       "Pe4rkdIBHiHjxF+xw2Vm4sPwUAns8Ts58A0FdqhIVx1D51cJHCo9pEBj3IBncuBCIvQhYodKrJiG\n",
       "4K/CcB9zm8TwuXAa5LPVVfDmrJLSIap04zs7zsKTzLT6s/7aOgT/Ch7j/cwkpgc4HFJ+p+sTKx1w\n",
       "tWkEylbw5MNxSFHZcAjsFeGg1z3POQFdKhiBkoVLB9kdKHzx1b8+TdP1Y3U7vGvP1Dt4EMVJ6RTH\n",
       "//5yLTtUBtjMcRm+eKcdY3z3yBp8wRaCcTwIJFl38eth2xm3GwWe8jvMnM+xT/mpwbPVlpD3gPAa\n",
       "0Pwxft1XdmZfJ3nwPn6uEgMWR1GqBxc4sy8rV5k04MoiqzOtu9MRZ2Lw2gTJVVLcprXouPWZrDvs\n",
       "LGfVtovOx/1mdnjUMn1mhWBHh0ic5aj+gciHAhcScR48asXCqAV/kgM/S8MjxkKCioVhKpnd4Xjv\n",
       "DrjJl43CWbqVeXAqFm6jrh+8xxIq2FZAJQIfbn9gaawieJU/WufAZSsWPnHD5Sp/mKw5rVi4c5+W\n",
       "EgxPFjnwdiyUX2eTxP+A40Z1eHDqmdbROzK7r6o7wjNZDnyQnHT1Eu3Wv5U34aO5FnyM2sWbEQ33\n",
       "N2C4Qu8dll3Cx1Jzv1urNMXv1qJBD7aZozNzAL/sAVy+IR4euOnFNxL7xcNDk17AL6WFw2MlL+DD\n",
       "OeHwTNGArzIa2nPu1AXh8GAWhkv7jBT18IVzFXdw/RvIpLlJ9eDeM+gedH6tcHi0yenxLfguW1+L\n",
       "+wvqyrQ7+GpkwPG6S/la36UOvFYWDpducuB4ofN9St+Qf+gtd0NFnjHheN21kcwWivgxjr7jwBca\n",
       "u+qoUnEHVxsmPGPm2p9vngN4JgeP8YaRe0d3ptzBWw0myWgjazEpV58DeKgEwvGNRdZmK1WXUeU4\n",
       "MuGnUfT5Wu0XpKppKS0cbm6qO+D4xjpSq9XyqH4ePeYGLk+04QvTgVZX3/EwUucAnixAcP889Eir\n",
       "srmMzruBdxXb8EYO/aj/rVfQbeKHClKzELw7hGJ6L6kK8rnKx4+m2/Bv4miXHph2v31xzRzA9X01\n",
       "YKi8gOQf8N8vdr/yU9EFXH6fXEZj+SFdrJ35f/N9hx8FP+oIG+0fBT9Vq8Vv/QzkR8FBEkOXi/xR\n",
       "8DzOU7LjFFJilj8KTuBRsrz1+F8DfHouwsllugAAAABJRU5ErkJggg==\n",
       "\" style=\"display:inline;vertical-align:middle;\" /></a></span>"
      ],
      "text/plain": [
       "{c in Complex} |- [Sum_{l in Integer} (c * (l + 1))] = (c * [Sum_{l in Integer} (l + 1)])"
      ]
     },
     "metadata": {},
     "output_type": "display_data"
    }
   ],
   "source": [
    "sum_expr.factorization(c, assumptions=[InSet(c, Complex)])"
   ]
  },
  {
   "cell_type": "code",
   "execution_count": 52,
   "metadata": {},
   "outputs": [
    {
     "data": {
      "text/html": [
       "<span style=\"font-size:20px;\"><a class=\"ProveItLink\" href=\"../../addition/__pv_it/theorems/b66b5547fa9b0b910f79351152926c658c2718190/expr.ipynb\"><img src=\"data:image/png;base64,iVBORw0KGgoAAAANSUhEUgAAADEAAAAQBAMAAABNQoq8AAAAMFBMVEX///8AAAAAAAAAAAAAAAAA\n",
       "AAAAAAAAAAAAAAAAAAAAAAAAAAAAAAAAAAAAAAAAAAAv3aB7AAAAD3RSTlMAiXZmMiLdVJm77xBE\n",
       "zatgdeJyAAAACXBIWXMAAA7EAAAOxAGVKw4bAAAAw0lEQVQY02NgwAQbp91VdcQizsD0yoC7fwY2\n",
       "maaDDAzM2GRYGmYDyRfIQpppaReAFN+GCUByM5LEWW0IzcnaABMSUnYAkqy3odw4FgEoK6yAA6Sd\n",
       "NwDKd+QxgLISGbgUQDIwIyJ4FCAMjt8Q2isNCCaA7YGaxjUBQu+E6eHcABXZD9XLBpPhAfuHh4GB\n",
       "H2jfAVCYKMDD4ByQ6AXaM4GBEeRqhuvwcJvbyl0G8pOgMcSL++ZsgIX1rG+tKAF2cBo4dGAAAHWD\n",
       "KgtwTxl0AAAAAElFTkSuQmCC\n",
       "\" style=\"display:inline;vertical-align:middle;\" /></a> <a class=\"ProveItLink\" href=\"../__pv_it/demonstrations/d2cd718cedc676db7a195f1d7b85b5ae43b118660/proof.ipynb\" style=\"text-decoration: none\">&nbsp;&#x22A2;&nbsp;&nbsp;</a><a class=\"ProveItLink\" href=\"../__pv_it/demonstrations/6ca8c04ad0f1eabd7ec6f5e359acb28b825ea5c60/expr.ipynb\"><img src=\"data:image/png;base64,iVBORw0KGgoAAAANSUhEUgAAAXAAAAA/BAMAAAALTo4BAAAAMFBMVEX///8AAAAAAAAAAAAAAAAA\n",
       "AAAAAAAAAAAAAAAAAAAAAAAAAAAAAAAAAAAAAAAAAAAv3aB7AAAAD3RSTlMARN0yEM12VCKr72aZ\n",
       "u4nmqZmlAAAACXBIWXMAAA7EAAAOxAGVKw4bAAAGy0lEQVRo3r3aXYwTRRwA8Gm72+5dt3tXJZjI\n",
       "Q4+TiBLNVR70wcRbjBC5qG2IPBA1VxMVgUQuEojy4FUf4MGQ65MJKKEiQUMk12jwg2CuwWCMCC3x\n",
       "Cx961ygvRgg9ynGFO2+d3Zndmd2dxbqd203m7ma3t/vr7H//89GClKb1AS6bqGmzHofkHAAhTbvm\n",
       "46zDmjZi37NWNX6lksk0H3gkmfSCvwxLaDp5p4+zPpRMOeDRKoIDjtvH7N2hlv6j4fOk3Q44mAwM\n",
       "PlTiCh8aCQp+BnCFx44EBI80+cLBAwHBxQJn+Gg+GLhxHZ5wsRoM/EHAGR5rBgKPzPKGg08DgXc1\n",
       "uMMrgcAzZe7wVCkI+ESaO7w7GwR8CnCHy60g4P/wh8fmAoCHFvjDpZsIDse81naDN1yeJnCRupCW\n",
       "8w8HxxB8VEPPj/D2lvFbvOHidQKPaU1UeXLpAa3YAXxKNeBdZBIUHxjhDO/po0LlEJkEfTbbAXz7\n",
       "CIrxgZvkzlY5w8eqFDysFawD5zqAj5YRfFArWfu+p54B5zPBPnMeFzZ8tEzBI9ocaaK8/RTuTfKE\n",
       "D1YRPKq1rH1xcniz4+Wb2fCluLDh23N0VtmuESNprCg7PkM5L3imD6fDKdYEPFZ31ZUBx8w6sgJe\n",
       "toQKG14ZoeEJ5prCWwD80XTsWw0n89u84D0NDB/Syu6jaxn1Cfuu9Wf0nPEsLkz4VJqGC+Pz7pcI\n",
       "sAeP29O88MEwhIuqBzx8HcNDrCWRs4z6Gawwb3NUh5/ChQkfzts6oJTG6MHh2eQs+nuZFWIQHS97\n",
       "wMWW2XNevaW6jhYZ9Xtx1ORoeLeKChM+rtrginbEnTf0NsRn3EXDwREPeGLahIta1hXiWXddarLg\n",
       "YgkVJlwD9i5/eMb1kp161kyz4M95wLtmTbgwvuC6gfqzqbzyOV03I9EOVwqotAUf0urOl5ynHh47\n",
       "/C8nHHsI3Or2qTiCbSitJP2EXu+qsuDxLCom/HS/vt3PhlvdPtn0dj3IhJ9wwE2PPGfBZVfsheE/\n",
       "hOvgKF3vzrHgsSIqrBYXnHBQcT1OK2E5yoTvdsBNDwUHA85xYXcvvIhxDWHGrA/qKULu7191uL+/\n",
       "YMEjDVSY8FtOeNg1LvwQ/nsL36pj5q0y4IMEntFvaQW/Z+UGgY/1MeDHqaUjvb4VsFo8VESlPbjk\n",
       "6uwgPFpktvjdBB7WU+Nx4IZvzbtDRbjhCJ3fBWao9KHCinE3PPoJcIdKoqCy4K/bQ8XyUPCQ65FJ\n",
       "QBwcEoVsdYX5cFZRaSurgJRrPf5X2IeX6iz4N44YNz1UjA+6sqWe4OAj/Cddn17ngCstnCiN5NkO\n",
       "POLuo2HS61ni7ICu5nGipOGmh8CFo+4VKHjzlb+/UOn6qbod3nVg5n0YRL2otJfH3VO21fCGnXfE\n",
       "+P7xTTD9LnfATQ/J4yJjkHWPdz1mu/o7uLC7fAf8ecaQiQqeXbYBed9/9pw1xiVPeddDJefo66wX\n",
       "fMA+VkkwZlhxqtWWOUdf7LFKE8PlFaQxyVFHnkmw5ylAqqLSzrAWnCa9DwFd9Ji17fMaj4fN0eFJ\n",
       "YvqSJB9H4wge01H9DaE3xZxI9NLwOMmFcQJ62gN+0QvejScSVC6MUYPZPY6X72Gf/lVcPKZuJRpO\n",
       "5cLd1D1jr7FE854zoCKCj1nHhEqZ8yx/ok7BJZILn5rvYJY/huacJBfuPaSlOcNTBQpu5ULpTfcg\n",
       "8X/A4Ul1uDiz0dj6x/19bH1beCZLwYfRhTas0tr/JJ4Fn8gZ8Aq1ojfHGx5uELhMrx2WOoBX0ou/\n",
       "Wiu3+K/WguEAlpnjc4sAvxYAXJrnD48sBPGJxGH+8GgzCPhVlTs8UQwCPpbjDs8UMHw9PumByXOX\n",
       "ucPFLIELh/Cw9PjlybJ/uP4JZMpcpHr44AVwH7j0End4vEW1+E74ZG2p9YbzyjrVP3wDwHA475K/\n",
       "1VesI2+UuMOFBQoOJzo/pvVF+Efe9R8q0pwJh/Oubai3kPnHOPiBgi/HK+mgXPYPVxomPGOOtb/a\n",
       "sQjwTI7EeAOPveN70/7hxglTKPLQXEzI1RcBjhZ7DDh8mNDcbJ3SQVY5DUz4eRB/oVb7DSiKKqjc\n",
       "4WhR3YDDh+lErVYbAfVL4Am/cGnagi9XI0ZT3/UoUBYBnsqb8PAS8JjxLnaUwCW/8K6CBW/kwM/6\n",
       "73oZ3ME/VICSNeE9UZDQW0aRQcj3ePykasG/6wX79CS1/70rmxYBrq+x4VB5EUg/wd9f73/tl4JP\n",
       "uPQRuo14KiJcqV3orL+/zZeCH09TXwp+plbrbf+s7i8FiyifruH5peAlHockeAkh6fNLwUnHU7fG\n",
       "+PkvKFN6xAYuf70AAAAASUVORK5CYII=\n",
       "\" style=\"display:inline;vertical-align:middle;\" /></a></span>"
      ],
      "text/plain": [
       "{c in Complex} |- [Sum_{l in Integer} (c * (l + 1))] = ([Sum_{l in Integer} (l + 1)] * c)"
      ]
     },
     "metadata": {},
     "output_type": "display_data"
    }
   ],
   "source": [
    "sum_expr.factorization(c, pull='right', \n",
    "                       assumptions=[InSet(c, Complex)])"
   ]
  },
  {
   "cell_type": "code",
   "execution_count": 53,
   "metadata": {},
   "outputs": [
    {
     "data": {
      "text/html": [
       "<strong id=\"sum_expr\">sum_expr:</strong> <a class=\"ProveItLink\" href=\"../__pv_it/demonstrations/6e003ff400fde1abcbd5b6a64300a631eea0bc820/expr.ipynb\"><img src=\"data:image/png;base64,iVBORw0KGgoAAAANSUhEUgAAAKUAAAAuBAMAAAC7csTyAAAAMFBMVEX///8AAAAAAAAAAAAAAAAA\n",
       "AAAAAAAAAAAAAAAAAAAAAAAAAAAAAAAAAAAAAAAAAAAv3aB7AAAAD3RSTlMAzXZUMhAiRKvv3WaZ\n",
       "u4mNgo6tAAAACXBIWXMAAA7EAAAOxAGVKw4bAAAC9UlEQVRIx+2WT2jTUBzHf20aa5u0mQehILIg\n",
       "OhUPVhBBD1o8zkNz9TAa8KAIsqHsMC+r8zLB/WEwBD20IDosg0UEQVDMQbyI61B0eKjmoCDDsU2d\n",
       "uAnG917Sl+QlzcV33IM0v/6+yef3/vze7wW6ba99Bz7tlF0id/H8gdoGJ+Z2u942pbkiJ+jcb2rK\n",
       "C5yYZdug9kvPrce9Ey1uo1LS/kW9ErWScdPQQUyr6OcyMT9tRugng3/FD/WguPSTeaFXAziE45FR\n",
       "n7XNEFLsYhwJMyhKq8Hnb3YjZgJdsJN02f4RYsoG41CKQVF2g6bbDx5GPAkHfkr+rmxoLDPDOoa1\n",
       "oJhVHVtQfUyYxip5MmGzI4UjrGOJEftLUcxdmEZ6Ltb+soh5nBrjPSp1FPZcD4jPIYr5FV35amB/\n",
       "eg0HHNJz63QN1rSK7hfHIpkPcT46g5btaYZ5F2HugEwTSFiHjOoTYSqSeRx7Jt39yVakWyjQKmQt\n",
       "0kUgy6xYro3FFNkncqPx4HajUaXMMrpSbpb118PMzAJUBrA9i5fZguGia2MxORnZzyGcXa50UA+P\n",
       "vaLShSDp2dR8Yq6qRTFPYI/TvzS70eANYhbhmtCOpZTQ9PpExbCimM/wGjnFrRyqCSgpcqowK9Mq\n",
       "a+RMv6gMsjm/ortZJpNo4lRob/Yi78jnC3tpLo2/CojSPDOfo7UCyvUZPPUDbH1wW7YUU+r8oqD6\n",
       "CyieyovEbIVfk8wYpl9MG2zlIQOS73lRqfU+rsx3Ei/hvpIleuIl0iNq9cUx+2Ji5fRgIrW3FQ6n\n",
       "xjA7iEmM6yF7iCaS2DT5HJteIp2bsEt8mIm1HaQ1ara9yel4b/q+l/7AVttq/5HzE65x4+Prb7yg\n",
       "+Kvi9Ngi3Icv+3gxUcWWX6C7kTpm8GLOON+NiCxzm89VEJ2T7vFRXkyhy63/omrxYqKjU9rdar2F\n",
       "fF4TNT7M7CCkSAevnIE8J6aSBHiHDcuEq7zGvh+dd6i+S6MjywWee2m5tcgR9w/XTc8Kzc1+2wAA\n",
       "AABJRU5ErkJggg==\n",
       "\" style=\"display:inline;vertical-align:middle;\" /></a><br>"
      ],
      "text/plain": [
       "<IPython.core.display.HTML object>"
      ]
     },
     "metadata": {},
     "output_type": "display_data"
    }
   ],
   "source": [
    "sum_expr = Sum(l, Mult(a, b, Add(l, one)), domain=Integer)"
   ]
  },
  {
   "cell_type": "code",
   "execution_count": 54,
   "metadata": {},
   "outputs": [
    {
     "data": {
      "text/html": [
       "<span style=\"font-size:20px;\"><a class=\"ProveItLink\" href=\"../../addition/__pv_it/theorems/e9f87a0977d5044ea8daf1040d2f219396bb3d5b0/expr.ipynb\"><img src=\"data:image/png;base64,iVBORw0KGgoAAAANSUhEUgAAADMAAAAQBAMAAABJt1qBAAAAMFBMVEX///8AAAAAAAAAAAAAAAAA\n",
       "AAAAAAAAAAAAAAAAAAAAAAAAAAAAAAAAAAAAAAAAAAAv3aB7AAAAD3RSTlMAIquJdkTvuxBmmd1U\n",
       "zTKBpmoTAAAACXBIWXMAAA7EAAAOxAGVKw4bAAAA0ElEQVQY02NgwAKaq+86PsYmwcCiNoFjfRVW\n",
       "qSXBDAycWKX4FlQASS0UMffduy8AKaaGAiDZiSwT6wGh2RkXQEUYlR0dwPQNqIAQnwGUFSbA/gNE\n",
       "8wpABR6zToAwODIZuDaApWAGS7E6QBhcHxi4wQY82w0EBWC7oAayFTD0B4AY7TBd7GAXAkG/A8N8\n",
       "MIMbJsUK9hcrUOoAgy4PyAUsDvDQCAISa4HaHXh2cYFF7sDDsHYhx2mg3zhU7IT8wCJNpQ2wkC/7\n",
       "vRA18IKrwQEFAwCqvi28/xxvKQAAAABJRU5ErkJggg==\n",
       "\" style=\"display:inline;vertical-align:middle;\" /></a>, <a class=\"ProveItLink\" href=\"../../addition/__pv_it/theorems/a259ec76dfb0a5be60b7c83d797520fa82c1dba60/expr.ipynb\"><img src=\"data:image/png;base64,iVBORw0KGgoAAAANSUhEUgAAADEAAAAQBAMAAABNQoq8AAAAMFBMVEX///8AAAAAAAAAAAAAAAAA\n",
       "AAAAAAAAAAAAAAAAAAAAAAAAAAAAAAAAAAAAAAAAAAAv3aB7AAAAD3RSTlMAELvv3c2ZVESJq3Yi\n",
       "MmZ3LnoBAAAACXBIWXMAAA7EAAAOxAGVKw4bAAAA2UlEQVQY02NgwASSKqF7bjIwMCo7oElwL37A\n",
       "mK8GZLAmoMlkdzIw8IFk+AtQJXgTFIHkMiDuF4AKbXJxCQBSXAIKQFIOiKdAJVo3QmgmHpjxUbuX\n",
       "gyieQCj/FO8ECIPxq4D8AZBDDkBlbnI8gDDYPzIwbwDJwFxwjGMDhMEWwMAP0n7ZBQgUwPZATWOZ\n",
       "wNAPcrcQTA8T2G0Q7+SD3M0Ck+EA+4cDKHOB0Q4cJhvgYdAFJFKBHnvABHF/ODzcVHMYS4BijCvz\n",
       "IAJSGrDAkFT+koMSYJ0q4NCBAQD6uylQEVfDpgAAAABJRU5ErkJggg==\n",
       "\" style=\"display:inline;vertical-align:middle;\" /></a> <a class=\"ProveItLink\" href=\"../__pv_it/demonstrations/72b649bc5be8ee9f46d920e42cace85a3127895b0/proof.ipynb\" style=\"text-decoration: none\">&nbsp;&#x22A2;&nbsp;&nbsp;</a><a class=\"ProveItLink\" href=\"../__pv_it/demonstrations/8bea0837798b9dae37b612dd093f59213e9f5c0f0/expr.ipynb\"><img src=\"data:image/png;base64,iVBORw0KGgoAAAANSUhEUgAAAaQAAAA/BAMAAABdtKEyAAAAMFBMVEX///8AAAAAAAAAAAAAAAAA\n",
       "AAAAAAAAAAAAAAAAAAAAAAAAAAAAAAAAAAAAAAAAAAAv3aB7AAAAD3RSTlMARN0yEM12VCKr72aZ\n",
       "u4nmqZmlAAAACXBIWXMAAA7EAAAOxAGVKw4bAAAHMElEQVRo3sWbX4gbRRzHJ8nmskk2ezmRCvYh\n",
       "6VlES+3FFxUEbyu2eIc1odSHgnIL/msrtMHSUn256ENLEbm8eNIW21BLLdVyQRC1FC6cVMTaJkWt\n",
       "KKYXtPjU0tzlrpc29dbdnZ3Zf5PN7tnJLQy521/u953P7sxvfr/ZW5CQpCS490dQkhbamDjR4e+W\n",
       "2J0RScoCsEGAPvr6UhSQAn197ZBed/q7JXbn8b6EjNRTgT4AreMz8mlf0xFpqWoRGQlcXR6k4SI9\n",
       "pOHssiCdB/SQQieWAynQoIgE1i4HUjBPE2k0twxIqig1pGBlGZAeAzSRQo3uIwUWqCKBL7qPFK7T\n",
       "RSp3HyldoouUKHYdaTJFFymS6TrSNKCLxDW7jvQvZaRQq9tIvkXKSOxt6EOuNvBxiyoSN+MCKWjo\n",
       "jiR6QwKnoY9RCU5a5r3tE3eoIgXnXCCFJC0PfH7FYangEWlaUH2E9UoyOpClidSbdDPwjs3i379c\n",
       "8Ii0Kwt9DNzWh0aFJtJYxQ2SX9Jz24sekUZL0MegpNdlP+hfY518tDHmtEZGGi25QQpILf0S59wo\n",
       "6kiDFeijR9Kr56j+5TedxNsYV2iNjLRLdBXxdkk6SNGNoo6UTmo+pmcJ3w3VzL9vOm428gOWVCCw\n",
       "Wr46RdjISGX7TGX+SNqQYqRtIidFHam3rvkYlggjYoP1xMsW46TZPHReiWdbtEZEmibkQ8GSDYmZ\n",
       "uEvuTltFjOSf03z4SLtuF6wnFixGbRvBh8ZGjyJwTmtEpBFCAdibtS+1CSlL7A7auFhpVcRIwSby\n",
       "cfOOYPNhXRJ8cxbjw9qIEI0CEQE2ItKEQJg+gh2Jl04Qu6Mpgr1WRYwUm0E+glLGNnatZ/ik2cg2\n",
       "SEjBImxEJIlw7i9SQjQyT+oOUjQjqWoIKbyAfDATtuyLU6LDwX/264N+fHvWaIzWSUh8HjYnJPbo\n",
       "Nj30bX3jYzvSsFQjdAcpmpFUNTsSTooM01aG951SMgxUvm1hmkZjuEJCimZgQ0hT/crxqAnpwVwM\n",
       "D2JmXkjnbEg4KQIkRTOSqoaQuBb2wdlGrz+rbo1O6eukAE4ajRGRhBQqwEa6SwxEYj4HHB7EoTns\n",
       "yJiJl62T26hoRlLVCEhgwJqDR+JqKb9OvUEZGG4WlauKjIPKxeX6+9cc7+/PY4FAHTYiEkyKuTrw\n",
       "15BXLgN6a9rPBiS/NQfHisp9P63dd6yIkfhbuo+xJAHpDGDUcsCvrB3rgG8B7Wgqxh2AdJd8Bdgc\n",
       "kCIVkI4jrzKc8tTBXzIjsbOE7iBF813yFdog7cjZBx5zS5+RyrLEzRmHwe8MceAlYSPNJQ0pLRrW\n",
       "THlZKgv2gddzijAPkKJl4CXJSD7bXnVMBMwCCGf2oRMNw1MH2QhaPDE8VGBziHjpLPgohK5gb0qe\n",
       "WnakRMreHaxoCQ8V8lwatC3XSmy8At4u4XzlCPjTZJzZaEHim1qwVeN/e6SYGFrL4Z29YqxkR7Jv\n",
       "YRoVMRJWJCAxJ+0bo/L9HNr51Di+XEPXiybjuZoZKXx4/og8QOKwOSAx438ffBXPr6MXCEvtsEjq\n",
       "DlJESLoiYV0KEtLWh5yqAIMxZJJ/X2vkhKhTJZcgZMiE7uy1KhKQqgT355y0DUZf0ZpdXmiHNCC4\n",
       "Q4pVnLuz0pZe4xyvofngVuvXXJ+QOQftdka2Apv74oKENKWjZ90oGooLlImf1b/+tb6KOG0UtDMq\n",
       "wlCcWALGXSFF9QgezbpR1JEiWgloiOAhQ0mx30m8jXGb1toU6kVXSIYI/q4rRUNVW4A+xvRLUe60\n",
       "4fG/dogma26QWD2Cv3DX4w7RGNx70CP4gWNSiiZSIu8GCUdw9h2p4RFJVlB3bOdfUo/+CUmapbrb\n",
       "ms64QRqB3dm8RnL/7zcIaVJUfZQNe9Atqkj+ugskzrgnXvSIVE51+ckF13S51Ho+ENJItx/GRFu0\n",
       "kWa7jcTepYwUWOz6U8DjlJF6Gl1HuinQRYoVuo40JtJFSuc1H0NabD189eJ1ukjBjAsk1J3wmetX\n",
       "S96QlH9CSKCdzCc+uQweAddeo4sUbbpAUroT2F6N+3P8RsEb0mbkQy51ue/kz2JgX5EuErPoAkmp\n",
       "vH9KKY+6nvzA28BjW8iHXOq+BZdCjvJcAj+6QJK7Ax8agVLJGxJfRz7SqBj5ZjdtpLTYGSkNwCY4\n",
       "TA+kvCGp3lUfe7RimxFrtJF6Cp2R9qBKfCPvMeJNYR+XQPSVavU3wPMCI9BFwo+IHJAuAfBVtVrN\n",
       "gto18JwXJHYG+1glBNTb88DTgKeNlMh1RFolgGfUYnt3EVzzghTOYx91EfyifNZK4D7KAw/wmY5I\n",
       "cndiypXlOeDzVC+dFbCP7+PgQyVoHhq/sZU2ErjSEUnuDvuz/PntoZ2/5j0gsZ9CH1rhyNyoXr6H\n",
       "2ZDDayTPOkUx/BrJi9Vq3L0cfI0kCCP/emqvkdzfxsQ66a1f6mskffKYW6/+/B/Gsnrwj6pm5wAA\n",
       "AABJRU5ErkJggg==\n",
       "\" style=\"display:inline;vertical-align:middle;\" /></a></span>"
      ],
      "text/plain": [
       "{a in Complex, b in Complex} |- [Sum_{l in Integer} (a * b * (l + 1))] = (a * b * [Sum_{l in Integer} (l + 1)])"
      ]
     },
     "metadata": {},
     "output_type": "display_data"
    }
   ],
   "source": [
    "sum_expr.factorization(Mult(a, b), assumptions=[InSet(a, Complex), InSet(b, Complex)])"
   ]
  },
  {
   "cell_type": "code",
   "execution_count": 55,
   "metadata": {},
   "outputs": [
    {
     "data": {
      "text/html": [
       "<span style=\"font-size:20px;\"><a class=\"ProveItLink\" href=\"../../addition/__pv_it/theorems/e9f87a0977d5044ea8daf1040d2f219396bb3d5b0/expr.ipynb\"><img src=\"data:image/png;base64,iVBORw0KGgoAAAANSUhEUgAAADMAAAAQBAMAAABJt1qBAAAAMFBMVEX///8AAAAAAAAAAAAAAAAA\n",
       "AAAAAAAAAAAAAAAAAAAAAAAAAAAAAAAAAAAAAAAAAAAv3aB7AAAAD3RSTlMAIquJdkTvuxBmmd1U\n",
       "zTKBpmoTAAAACXBIWXMAAA7EAAAOxAGVKw4bAAAA0ElEQVQY02NgwAKaq+86PsYmwcCiNoFjfRVW\n",
       "qSXBDAycWKX4FlQASS0UMffduy8AKaaGAiDZiSwT6wGh2RkXQEUYlR0dwPQNqIAQnwGUFSbA/gNE\n",
       "8wpABR6zToAwODIZuDaApWAGS7E6QBhcHxi4wQY82w0EBWC7oAayFTD0B4AY7TBd7GAXAkG/A8N8\n",
       "MIMbJsUK9hcrUOoAgy4PyAUsDvDQCAISa4HaHXh2cYFF7sDDsHYhx2mg3zhU7IT8wCJNpQ2wkC/7\n",
       "vRA18IKrwQEFAwCqvi28/xxvKQAAAABJRU5ErkJggg==\n",
       "\" style=\"display:inline;vertical-align:middle;\" /></a>, <a class=\"ProveItLink\" href=\"../../addition/__pv_it/theorems/a259ec76dfb0a5be60b7c83d797520fa82c1dba60/expr.ipynb\"><img src=\"data:image/png;base64,iVBORw0KGgoAAAANSUhEUgAAADEAAAAQBAMAAABNQoq8AAAAMFBMVEX///8AAAAAAAAAAAAAAAAA\n",
       "AAAAAAAAAAAAAAAAAAAAAAAAAAAAAAAAAAAAAAAAAAAv3aB7AAAAD3RSTlMAELvv3c2ZVESJq3Yi\n",
       "MmZ3LnoBAAAACXBIWXMAAA7EAAAOxAGVKw4bAAAA2UlEQVQY02NgwASSKqF7bjIwMCo7oElwL37A\n",
       "mK8GZLAmoMlkdzIw8IFk+AtQJXgTFIHkMiDuF4AKbXJxCQBSXAIKQFIOiKdAJVo3QmgmHpjxUbuX\n",
       "gyieQCj/FO8ECIPxq4D8AZBDDkBlbnI8gDDYPzIwbwDJwFxwjGMDhMEWwMAP0n7ZBQgUwPZATWOZ\n",
       "wNAPcrcQTA8T2G0Q7+SD3M0Ck+EA+4cDKHOB0Q4cJhvgYdAFJFKBHnvABHF/ODzcVHMYS4BijCvz\n",
       "IAJSGrDAkFT+koMSYJ0q4NCBAQD6uylQEVfDpgAAAABJRU5ErkJggg==\n",
       "\" style=\"display:inline;vertical-align:middle;\" /></a> <a class=\"ProveItLink\" href=\"../__pv_it/demonstrations/eb6a37ac594aaaede909b8e4df4dab0717ea1fba0/proof.ipynb\" style=\"text-decoration: none\">&nbsp;&#x22A2;&nbsp;&nbsp;</a><a class=\"ProveItLink\" href=\"../__pv_it/demonstrations/212d79e0fc33754f41e87843eebc8fa51e7f9d910/expr.ipynb\"><img src=\"data:image/png;base64,iVBORw0KGgoAAAANSUhEUgAAAaQAAAA/BAMAAABdtKEyAAAAMFBMVEX///8AAAAAAAAAAAAAAAAA\n",
       "AAAAAAAAAAAAAAAAAAAAAAAAAAAAAAAAAAAAAAAAAAAv3aB7AAAAD3RSTlMARN0yEM12VCKr72aZ\n",
       "u4nmqZmlAAAACXBIWXMAAA7EAAAOxAGVKw4bAAAHPUlEQVRo3sWbf4gUVRzA3+7O/rqdnbstMcg/\n",
       "dr2kH1Le5h8VBN0YJd2R3SL2h2TcBkWpoIuimH90W38oEXL7l6AmXiYmktwSSCXGLYYRmd5KZQat\n",
       "t4QEgeKee+eunt30Zt6beW9m3s5Nx7y9ge/t7Xxn5n0/877v+77fNzsgqSgp4P0WVJRGC5WYBcCn\n",
       "KLfncdVBRck5qF+WtY9kIpHmgBRIJFohvQPFN5l4cB5XfTqRdEIKlRES4LV9wd7ta6p/avO8aIcT\n",
       "Eri2MEj9RX5I/bkFQToP+CGFjy0EUqDOEQk8uRBIwQJPpKH8AiBpjXJDCpYXAOkpwBMpXG8/UqDB\n",
       "FQl82X6kaI0v0nj7kQZKfJGSxbYjjaX5InVk2o40Afgiic22I/3LGSk8024k3yxnpMhdhATLEGO7\n",
       "wxVJnCRIQapVJesREjiJkIYUNGiFDzeO3uOKFJwiSGGljr68svigMuIV0oSsIUVJYRvryfFE6kxR\n",
       "jneEFLZfNbxC2ppDY6nnLnGNMk+k4TKF5FcKhuKiV0hDJYTUqxSNfT9SY81xILJ357GwkYZKFFJA\n",
       "mSF3Mm++RKv25kTqLSOkkNI09sWI+l2nc1soF2NhI23N0hFvq0KsJ/c0xLbal3WFNJDCQXyCtV4T\n",
       "rpq/rzlqVko9loWYwDJoUBEJG2k8RyPFmYtTHwDwV92yb6UMwGZHJN24zhpG6ldKjDUk644NFuWY\n",
       "Wd13Xo1n67AwkSbSNJIwet9+iABTmph52hI+HYRIQdmxl7Bx/imM5GOtul2w7mhYlOexfbrThFSk\n",
       "s1iYSIN501SbZCzLifBqYgb9v8RwWIgTKzkiYeOCTT17uHVPth1knSt8Uxblo9gHszRSh4yEiTQq\n",
       "m5Ak5Zg9pqm3Gl9xJ40Ejjkh6cbFJ3WkoJKxDSXrHillVkbqLKRgEQkTSQHmhGhw2nbIDjXWp1lI\n",
       "bzgh6cZFGzqSMDpr8wA1Onz89x4y9e/fmKOVusebkaQCEldI/UrVesglapCakf6xIrGMI0hGUkQl\n",
       "L/BW+06oGYYeH9cJTVoZLbOQYhkkOtK5bnV7go1kJEVkU/viMBPptAWJaZw4YyCJNrf257Sl0XNk\n",
       "npTBcVrZkWUhhUeQsHpJsCKBcdsYfgzKcSbSbgsS0zgKCfRYc/COLq2UX6HdgwwKcNA7hWld2auG\n",
       "L7G7e/nR7u6CgRSoIWEi3bMi+W05+Gfw9Cbu3pN692pIvQRJs4dhHPT5OwRpOMVAOgUErRzwqwF0\n",
       "BfA19BVNVbkJsHrJN4LEHVLENsdDpNAIs5ceJkiaPSzjTEib8nbHE+7Qs14DiFO04/0hMB0vhYQ1\n",
       "luxIoRPA7njxgsxC2mZ2PLZxFJLPNk7jWSA0QDSzS99RR08ddCWYkZjhoYzEVcQDSdvDrSswqSlW\n",
       "WUjfWZCYxlFjqdcW8NVIfAVsKxmp0iHwp0k5udqCJDVxeNfivxukgD1pgaG6c5F1qr2Vx+GdDg9M\n",
       "4wiScNy+MAq9p2/Lc/uN+9h3o2hSnq2akaIHpw9Bl+xC4m5eshfoK2EnX7KMpQOj62HTSy1ITOPI\n",
       "vBRkpK2POCXxlDJssusjLOyEyIK0wX6In3LFnaaCKeWmuCBIFYb2rNOplNJXtCa7F1oh9ZhzvDij\n",
       "hI5RN3eJNZ+dGylex0jiMnLPiTbvdGoLZaSMxE1xAc6ReZaYerVFi/tclYB+PRM/Qwz8moQUp2WI\n",
       "VkoVFeEyS8AuGilGIniMmLqmRYtXXSF14BKQiuBhqqTY43RuC+V7WFoU6kUaiYrgu6l+Zq/phfKu\n",
       "kDpHENKwcaAwXuK5QjRWpZAiJIK/et+rFaJhtPZAIvjeI0qaJ1KyQCEZETzyvj0hny8SbEFFCk6/\n",
       "rm3do/P7HYx7pIEMhTSIWl27XHH/o585kcayGtI4tTg9wxXJXyNIIr0mXvQKaTzd5icXYtOS4/3f\n",
       "bU6kwXY/jInN8Ea63W6kyH3OSIHZtj8FPMoZKVRvO9ItmS9SfKTtSMNZvkgDBYzUh1s4eO3iDb5I\n",
       "wQxBEo7geuDUjWslj5DUHyEk9bXTZw5fBo+D62/zRYo1qV7aAYfzxkqXPy+tlj1CWgswEiysxe/h\n",
       "ZzGwq8gXSZilkGDx+nNafaL17CceOV5kRkeChfVmNBWKnMcS+IlCWoqfRIFSySMkqaYjDejlzzfb\n",
       "eSMNZMlYquHaKLY37RGSdvUkcmpUbAvZKm8ktOyoIcERjCrx1ZJXEU9bUE4ip469Wan8DiRJFmS+\n",
       "SOihlIYER/DpSqWSA9Xr4CVPkCKTBtJSOaB1z0PPA4k3UjKvI/kXgRc0vu1FcN0TpGjBQKplwa/q\n",
       "Z7UEHuDseEDK6EidIRBXb6AkAp839dIZ2UD6oQvsU6Ppgf031/NGUleIseO9BSK/wM9vD2z5reAF\n",
       "UuRz5Ae4ohRuVi57mA05vEbyYpp6jeS1SqXL/VXneI0kiKaEVdxeI1nU6l7C9oTEPF8jSTgN9VXa\n",
       "3/8Ai8msRhaW+TsAAAAASUVORK5CYII=\n",
       "\" style=\"display:inline;vertical-align:middle;\" /></a></span>"
      ],
      "text/plain": [
       "{a in Complex, b in Complex} |- [Sum_{l in Integer} (a * b * (l + 1))] = ([Sum_{l in Integer} (l + 1)] * a * b)"
      ]
     },
     "metadata": {},
     "output_type": "display_data"
    }
   ],
   "source": [
    "sum_expr.factorization(Mult(a, b), pull='right', assumptions=[InSet(a, Complex), InSet(b, Complex)])"
   ]
  },
  {
   "cell_type": "code",
   "execution_count": 56,
   "metadata": {},
   "outputs": [],
   "source": [
    "%end demonstrations"
   ]
  }
 ],
 "metadata": {
  "kernelspec": {
   "display_name": "Python 3",
   "language": "python",
   "name": "python3"
  }
 },
 "nbformat": 4,
 "nbformat_minor": 0
}