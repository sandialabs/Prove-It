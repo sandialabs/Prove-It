{
 "cells": [
  {
   "cell_type": "markdown",
   "metadata": {},
   "source": [
    "Demonstrations for the theory of <a class=\"ProveItLink\" href=\"theory.ipynb\">proveit.numbers.summation</a>\n",
    "========"
   ]
  },
  {
   "cell_type": "code",
   "execution_count": null,
   "metadata": {},
   "outputs": [],
   "source": [
    "import proveit\n",
    "from proveit import Function\n",
    "from proveit import a, b, k, l, m, n\n",
    "from proveit.core_expr_types import Len\n",
    "from proveit.logic import Forall\n",
    "from proveit.numbers import Interval, Sum, Less, LessEq, greater, zero\n",
    "from proveit.numbers.summation import al, bl, ak, bk\n",
    "%begin demonstrations"
   ]
  },
  {
   "cell_type": "code",
   "execution_count": null,
   "metadata": {},
   "outputs": [],
   "source": [
    "sum_expr = Sum(l, al, domain=Interval(m, n))"
   ]
  },
  {
   "cell_type": "code",
   "execution_count": null,
   "metadata": {},
   "outputs": [],
   "source": [
    "weak_summand_relation = Forall(k, LessEq(ak, bk), domain=Interval(m, n))"
   ]
  },
  {
   "cell_type": "code",
   "execution_count": null,
   "metadata": {},
   "outputs": [],
   "source": [
    "sum_expr.deduce_bound(weak_summand_relation, [weak_summand_relation])"
   ]
  },
  {
   "cell_type": "code",
   "execution_count": null,
   "metadata": {},
   "outputs": [],
   "source": [
    "strong_summand_relation = Forall(k, Less(ak, bk), domain=Interval(m, n))"
   ]
  },
  {
   "cell_type": "code",
   "execution_count": null,
   "metadata": {},
   "outputs": [],
   "source": [
    "# Note, with some added Interval automation, we should be able to get this to\n",
    "# work assuming m >= n rather than |{m...n}| > 0.  Change this in the future.\n",
    "sum_expr.deduce_bound(strong_summand_relation, [strong_summand_relation, greater(Len(Interval(m, n)), zero)])"
   ]
  },
  {
   "cell_type": "code",
   "execution_count": null,
   "metadata": {},
   "outputs": [],
   "source": [
    "%end demonstrations"
   ]
  }
 ],
 "metadata": {
  "kernelspec": {
   "display_name": "Python 3",
   "language": "python",
   "name": "python3"
  }
 },
 "nbformat": 4,
 "nbformat_minor": 0
}
