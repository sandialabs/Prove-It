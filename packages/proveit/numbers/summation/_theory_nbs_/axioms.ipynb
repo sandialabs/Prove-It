{
 "cells": [
  {
   "cell_type": "markdown",
   "metadata": {},
   "source": [
    "Axioms for the theory of <a class=\"ProveItLink\" href=\"theory.ipynb\">proveit.numbers.summation</a>\n",
    "========"
   ]
  },
  {
   "cell_type": "code",
   "execution_count": 1,
   "metadata": {},
   "outputs": [],
   "source": [
    "import proveit\n",
    "# Prepare this notebook for defining the axioms of a theory:\n",
    "%axioms_notebook # Keep this at the top following 'import proveit'.\n",
    "from proveit import a, b, c, f, k, x, fa, fb, fx, alpha\n",
    "from proveit.core_expr_types import alpha_k\n",
    "from proveit.logic import Forall, Equals\n",
    "from proveit.numbers import Add, Exp, Less, LessEq, Mult, number_ordering, subtract, Sum \n",
    "from proveit.numbers import one, Interval, Integer"
   ]
  },
  {
   "cell_type": "code",
   "execution_count": 2,
   "metadata": {},
   "outputs": [
    {
     "name": "stdout",
     "output_type": "stream",
     "text": [
      "Defining axioms for theory 'proveit.numbers.summation'\n",
      "Subsequent end-of-cell assignments will define axioms\n",
      "%end_axioms will finalize the definitions\n"
     ]
    }
   ],
   "source": [
    "%begin axioms"
   ]
  },
  {
   "cell_type": "code",
   "execution_count": 3,
   "metadata": {},
   "outputs": [
    {
     "data": {
      "text/html": [
       "<strong id=\"sum_single\">sum_single:</strong> <a class=\"ProveItLink\" href=\"../__pv_it/axioms/4e510bc3f9cc1ed62adb2b7a2e43bf12edbd42030/axiom_expr.ipynb\"><img src=\"data:image/png;base64,iVBORw0KGgoAAAANSUhEUgAAAUAAAAA/BAMAAABjvQw5AAAAMFBMVEX///8AAAAAAAAAAAAAAAAA\n",
       "AAAAAAAAAAAAAAAAAAAAAAAAAAAAAAAAAAAAAAAAAAAv3aB7AAAAD3RSTlMAq1RmmUTNIjK7EInv\n",
       "3XZ/CtNrAAAACXBIWXMAAA7EAAAOxAGVKw4bAAAG70lEQVRo3qWaa2wUVRTHz3ZmHzO73S7RD2gI\n",
       "LPGBH4Su+CASQteArxhoo/aDzxZIMJgYFhMTSZCu8YMfJO4qIabF2DERPiCGCooBg6z1gaLQNdGA\n",
       "j6aLkhCFYGktWwrdcR53Hmd2Hnd7T1L+ne2ZO79777lnzr0sQL11yXIZgmy1Q4NMfB6obbeka0SW\n",
       "x9z+3tXZmQ9qI9mNNdj+pgdMFnWNdXa6A1K00ZXDGmzCAD3hTvO3wRkCil9hBfhw+WcBtwzSA+5N\n",
       "swLy3VhBPBWrBtxzu0QN2HScFbCQxwp8NlYKuKc5Sz+EP7MCrnEoJDqSqaBhqdIDtubYAI1nWc/c\n",
       "lxOWBk3hBnrASJENsLmIVRnBXOGxIMDWPH0QTrIBFtJYAcIrFh0IuivRQBB+zQY4z6F0xo/S+7Yz\n",
       "AYr/YaW08Di9b1eGBZCbxEpr39K7JrpZAIVRrNTzlqMPhyoLYEsRK3V2y9Av43EWwK4BrLTWk6J2\n",
       "jV5iAWzvsOtG2bKaf2CV6DvzIwvgRsmurbKegMWXzgxd84/dKXrAfokBcBppyKq/uZG0byE6Rg/4\n",
       "b3rmgNErWEcuWYvPd9k0NZA3W7MzBzSeY2hBtlbng7grREl6iV3x6za+pVCcOWCy5lDZKqQ45Pkn\n",
       "0WfJm2fap1XiG66Q8qhMALWVf5MTMKSNkEfa4sewQn/9gx85rDZgpKEkaUl2be5zye77F8mxowTw\n",
       "flWecwLyagKJeCR+YRIr7JWddUp8tjo3u81rsucccavIPt6WtvtGdJ/mKQL4qjrvRSdgTB3YzV7V\n",
       "ZBUrhOu2r4lb+pR/V5jXd5G85NblwSckuy+XtTc+qAHH03UxqHZ5v1e+ncIKcPSaY2i6tGsrLyf0\n",
       "v/d3uNQ4eiuWr75hEiYIIKeER6R+kdyp/HjtyUl4mKoeATh8j2gxbH0Y0YNwnkuajJcdvuv07Dpm\n",
       "rOITw8M/1AMmhof/GKAGFIeuIo87TlyvRr/SgHjxxjeUmYinvAC5OT9liS9s+mKrGpMOwIcA+uoB\n",
       "+TwIEjWg+bozrGYMGw9nKqsUDH2A2vWB5Ic106FbKoZv+Jj2grtH9xk3ADdBVPUUV2bsgMpnm+xP\n",
       "nLPz4U/MHdwoVrU5+ThKutr6blbGawm0SdcpM1iyA+ISJ2/47s3AKnWD7wAUpLgausLdeZSo++BT\n",
       "4/rNG3bAKTj8jwlYwqolEFTHNI3qe2WAPDygvUP0vhytuLzTwPBV9iG/q+8QPTRrBmBTRVsjLRJ+\n",
       "kywy1wivBAFkYgsyfoA95frAT2hr9qS2VEuegEdMwO9BVJfu0w5A6F6u9nnOfgwY4ZTGxAPncyS1\n",
       "8zz4AV5AGU5IGdMG4SrsUZov2wFRDL4FxFesAacO9EIn4H4tzd/reBfHb1WG9KNcISfqWXzJbX6L\n",
       "JIy3TwkNRKiAuCNUAmWBckXPGDwJhu8YhLoXGCRWDMIWrScrHYDRL7UPt0FYa1SsDPgBFnD+6NEm\n",
       "V8ktTZMflMJpkkVcAaN6Qlbz0HuwMKuknEecgCFtdWx3VjOzlZ9v4AxwG3p734Z4XBIl7zx40i3w\n",
       "Y2UQV1duXqzOYIdXHtTXk+oL759/fa7C8osjDxL7zqXcEquwfU9M6/yjr0HcAEyMYlUC1lEs3KfL\n",
       "afODV8ALkE85fKNlV0Bxyq0ePBabWKqn8YEsPGMeHU1hBejFg5Jai0oEqxTorzs+mh9JO3z5jL1U\n",
       "MgHtx48W4OOLz2dgs9IqN2vuoTWe5Rb/mwWngveRDCUYS9sol0bqqplfjTLL9CU1VHMVA3JZz4pa\n",
       "PNS7A8/KBFZYZj1XDTjuLLkWi46nD9XN8HJjj2D6voPixwAU5ucbKPnHsdpyTBPe+W4leo6o366U\n",
       "+CZJX1pKCDB+sYE9CXcVa48Z+mK77xFgdLqBU4jyzDdN4UtIrRzz4jw5T3Mj1flbauaA4mWkkcvr\n",
       "NRsekmX/IeJq9IBtFYaThRGk7bazGf8jSr6B88T2PMvhUa7h8z59rBs4T9zIcnjUlsFKay1let9p\n",
       "FsCeLFZaK9CfJ8ausgAmylipT6zy1K7JSRbA+BRWWnuX3lUosQBGa1gpTWwgDe5LsQDCeofSWSP/\n",
       "a9GWZwJsy2GlzDINhOwLwAS4b8CmybNbzZJE3WR5L376rBQdZwPkSzY9Fyqu5XsV265tsrzvOko/\n",
       "gPFRNkCxZtOMUDHSh7rJCryJao1U2ADhgl1bzFFTN1new95ACK4CRsDmik23QU6fYm2T5R2CHfQh\n",
       "OMEKGK6aGi0dhKx9k+Vls+gHMJRiBYSDlq5+6qJk32R5ZcHj9IDLJGZAoYI12LbQv4ij1ibdHZDi\n",
       "y2XiaazBtq6BjJ4xTpbdv1y2i+LLZfCyQwN7RL9EYJdRc3V2Pvk/d5lXUmlRfogAAAAASUVORK5C\n",
       "YII=\n",
       "\" style=\"display:inline;vertical-align:middle;\" /></a><br>"
      ],
      "text/plain": [
       "<IPython.core.display.HTML object>"
      ]
     },
     "metadata": {},
     "output_type": "display_data"
    }
   ],
   "source": [
    "sum_single = Forall(f,\n",
    "                   Forall(a,\n",
    "                          Equals(Sum(x, fx, domain=Interval(a,a)), fa),\n",
    "                          domain=Integer)\n",
    "                  )"
   ]
  },
  {
   "cell_type": "code",
   "execution_count": 4,
   "metadata": {},
   "outputs": [
    {
     "data": {
      "text/html": [
       "<strong id=\"sum_split_last\">sum_split_last:</strong> <a class=\"ProveItLink\" href=\"../__pv_it/axioms/4f72e9479988aabe2f262b0ad05b6921e9eebd7d0/axiom_expr.ipynb\"><img src=\"data:image/png;base64,iVBORw0KGgoAAAANSUhEUgAAAiMAAAA/BAMAAADAj9VLAAAAMFBMVEX///8AAAAAAAAAAAAAAAAA\n",
       "AAAAAAAAAAAAAAAAAAAAAAAAAAAAAAAAAAAAAAAAAAAv3aB7AAAAD3RSTlMAq1RmmUTNIjK7EInv\n",
       "3XZ/CtNrAAAACXBIWXMAAA7EAAAOxAGVKw4bAAALOUlEQVR42rVcbWwcRxke39fe7X3YBSQgjchF\n",
       "QIVEqI8KglqV+KoEStUmtlosUQnVLkVFqVT5KCCBSPEVUX7QgA0RBKdVcj9CIc3HuSkCKVVry9A2\n",
       "lCa+IhBtRPAZCqikdZy4iR0n8bKzM+/Ozuzu7AzWjpS85/HM88w8O/POOzN7RsiX0pZ1Fa0updr0\n",
       "wzbFCuYDCmgualR6sqFJ69IPWVY5oFz6Qv8XVinJv6ktDRKb3R5V400FNNt+f9TtzcbwCqVR1Ya+\n",
       "KdhH+wcCJZlfpSAovUg/DNToh2ujquTGI9Gw7XCL/ehtCdrjqi0FWkZfiEeSQxX6JH8HOccjh/BU\n",
       "JBq2hbqb/TFZA8qqM2dKpI9Jks+CE6DzBmVXZqOm94ZGFBq2I3NrVCRJvKzaVKB16eORJLtEP4zA\n",
       "My2dKlUjKhWrEWiOfbvxhook6M+qbQValz4eSTJd9MO97pStJAcjKiUWI9AcuwttVJKku6bYVqB1\n",
       "6eORBNrDelmop7qiam2PQHPscXRLdsxOuyMkySivOdsFG48kr8OgdNvVGczEd70uR3PsPJpSGiWJ\n",
       "JeXnV+dtLJJkz4MrcdGLjRsjqxWqUjRiTyVHlSRBv1dtLdC6Ng5JOqD+OtavbdGBZ2peikbs9+Yg\n",
       "/9tDz8vQepUD7XnexiJJk+ptvqMX3y1I0ZpVLbSBiiYt2Fgk6aGzMrmkV+9FKVpPXQusMKhL+2KM\n",
       "kuyDlVcTp7cmQ9unufFc1KWlNhZJLsEyM6pXr7siQ7ukB5ZY0KWlNg5J0pdhOo/rVRzukqC5qIrJ\n",
       "OKdLS20ckqQuwIjs06tYmJSguaiq6RVdWmrjkCSzDMcxDXoo46YV+UZ9WYJGbMYDZsnX9X2qx0hA\n",
       "S20cknS26AdyNNdtkaXC/Mbs9BVpxdJ5CRqxCYuuYr+8Z601KUU7q3o+ALTUxiHJMPWqBnGIHRZI\n",
       "hJIz0mYm3pGgUbuOHYF++rzca6rGMUBLbRySQFuAaoY5upR0DcpekqBRW7SYD75N2owR1fUOaKmN\n",
       "Q5KzdI6XqOcYsdjieiu/KlBLAwPzqgSN2qzFFtcUH8fUeNBmK7yJtSBaauOQpJdipmCOWixqSnIl\n",
       "/0HtPdRaEjSwZy0mBBfHlGiBNNWwM7wXtKhIa4EkzkD8oCiJP1c9eKWRdw7i+X2+p596Fi8HCYhb\n",
       "SrRvM41wNBfV8j3924/h/z8KP/6Tbr6D1i8oaj7R8tMSa0vyGWy/Ikriz1VOQ/QxZmBwHLJET/f0\n",
       "TvycnnR/foCvGYQG1pwWnXD+ffgIxXT3NJkGTx9YNFP10xJrS/IInn+joiT+XOU0TUUvwGNKW+La\n",
       "MHU3LrPZ/fkTdCT0haOBRQPi3VPhw3vwwHNnUZI8gJwb290VULSz7Kcl1pYEi5ovi5L4c5UTTE02\n",
       "mSeu8DMiTcRicUWB/H5dORzN9TN5Szh9HyDjnWWQ33e4z+H6gKLOJ4GWWFuSpK1Zxude/bmrkCRj\n",
       "8Tv1PAm7WGamoi4JGrrIl3jO+f86lnFfqCSs6HMBtK4k6MTp03/0rzi+3FVIYk5ze7bk2lfx2E7Z\n",
       "3tWcW/PYUVsjEmz0VlQkOWRx28mPn3iP4zjtf0dmf/Ws3aGniQtf8EniKXrv3Lt8tMRiST6H0B6/\n",
       "JL5c1WRC45tsFYSgHsRqwzNKodn2VlukQW/btp7G6VUOzWSSuEE9TSvu0KiWPpCyB+DGMElYUfNi\n",
       "o1kTaD2SfBUZWC1zS8UrCc0N2+1KJIGNTJP5ihQ//4cdgYo296dQT+Pddi9J0Yl2KJrp2R71cq7J\n",
       "IAL9yRa2llzusDuxgczOFZ8krGhiGRXaIi2xWJJcI49dbe6Tda8kNJeEjHDH0fGHXz/u+POc2HTP\n",
       "jX6AJGiG2wN3E59q49fJ7WZ2XkeSIrcHTpC6L9go9MJ1xCuJPeRegSHHitoFO8dFWiZJou340c4G\n",
       "N3FoLkn43j87O9ZXrOWPNAIkaXhu9AMlGW75HWLBkfykw6g1Soyrfl+N+4nwk7fTF8NGCStaHEcD\n",
       "ZZGWSYIGN2EJ1h7lA3onlyZ877+ljuPx734N+SX5+hrvjb7fvSL0FheE/RjBxMEvSDxlk7fCfEmA\n",
       "e0Wll7jjji6YDfjdDbMBFzwBvoQVtcOS3oZA6/El6KgTxd0o7HGc3IObfovIvT+NfqtVjyTmM2dw\n",
       "Vx95L3ejHyBJmneIJwlGG5k/7ZhE9vii91VqKw4a4Hw1GRloL0IH+taivNuTAElY0c46fs9DoPVI\n",
       "ssMRb4sgCc41/5rFYTG+9z9A1s+H6h5JDtdGbEnuxttbz41+gCQjXMBhkLjSXgITS/sn02WyHivH\n",
       "JVk+Fh4mLs9eebt/cAe6ky6ygXEJK9pRyVV9tCwuQR1ON3cJkuDcVDWLpxu+9ydR8ZE88kiyBe20\n",
       "FTlGars3+tPwTFhccpI/syG/yLaQua39oRvwHOoLlWRasHZcwnsc4qvRDxHaP5fYjBH+EiYJK2pe\n",
       "u9lP65GE+QvxcKDQV8IjCN/7bxwbGyuj8WN46oMkL6BZlJ2itW9xV5eGuBXN8Ns+eIngNTfnYX63\n",
       "6038NhWnL/MFKG/RrWu0+I04k0Qs+nDQZptJYi4HSNKs5W5qkHv/x5zffKSCjrmSmIto11Po4E/w\n",
       "Z8+Nvu9wAI1xfVifKXObPbYBnKlFHw6gHLcZTXR9idvssQ1gcVHY9vmLCrQzNV6S7GTQKKmN3NU4\n",
       "6Nz75/BTyqdQusVGyUvZCzfZngZPOc+NPtxVuNcMqVOsB/a/1+FQIAcKwJZ7OugIqU+4AdnK4jS7\n",
       "8cU9sFPaDbnfEucthDNiUZF2WjhVYyp7JElvvv4ZtLOM7/2Nn+NNwjVnftbFJPn8DWfwE0nu8t7o\n",
       "o7PUgZfA5d/MHj52HJvgtNEcFbQJOsAHNLBJtgIn7cYn3wDwA4jvcKd4gO8rKtJe4SXJra+HHjSS\n",
       "MgfHxthxBh+XJHZ7f+qhUVvysm8FTvDN/A61/wkKwQQ0sJ4VeAN/kAtHvrWg6DCoqEBrCGev+bnQ\n",
       "s9d0wPFfTrLvG6DeM01P5oeZv+qVXiSkz0nQqDXYCrxf/q7GQOSbYAIttSrH0UmkJ0mTTlnzorAC\n",
       "P7TOqsvallyRoFHrrsDGekv+rkZPW1ESoKX2/z2hNyS/K0L1GbICX7zfSaeno17NTy1J0KgdImAP\n",
       "/s2yrJb8oqCuKAnQUhvLNTmsfuSFjV7PLa78BYfMvASN2JT3Tlj+ntGQanuBlto4JElCx3sqehU7\n",
       "WxK05IJmM67q0lIbhyQGuL3hql7FkXEJmqH34hvKXtalpTaWt5BOQKDX0qt3ti5DO6EHVlrSpaU2\n",
       "Fkkm6KqdX9ar94QUbaKhBZab1KWlNhZJhunyZ6zonWOfk6INt7XQml2atGBjkSQDe4n79dzykhTN\n",
       "RVVLyu+EAi3YWCRJwircU9NSsiVFSy5qNeJBXVqwsUhigrNvar3SOFyRoplarzQaC7q0YOP5psUd\n",
       "EGZhFzd3q7sDJSe5oV45As2xqmh55T5MCDYeSZrUE5oreGP6/kz5NvwVmgo9yQ0bWysRaNgqozVV\n",
       "nTHQuvTxSFKCBfAtvGncm4VBU81KVsZUKwINW2W0rcrbj5ZAH9PXHf8Oezb8rNhXt8hJbtic7otC\n",
       "c6wamqH84jDQuvQxSQJfD8bf7M1OGogMdXqSG5KuiUTDVhGtQzUqcWld+pgkyUMM8Ru0Iz8Id+rO\n",
       "SW7oyv1yJJptVdFuVg11gZbRxyQJvlAjYXU79a/n/wu4+CQ3LO2oR6PtRYpoxnHVhgItow+WZPV/\n",
       "huEwZTBfU61xnwLaYdWINFPRpQUb8mcYzP5V/xkGAxr/TdW1sE8BzVCV5BdIk9alf7S/v/E/B3UK\n",
       "YwGuOioAAAAASUVORK5CYII=\n",
       "\" style=\"display:inline;vertical-align:middle;\" /></a><br>"
      ],
      "text/plain": [
       "<IPython.core.display.HTML object>"
      ]
     },
     "metadata": {},
     "output_type": "display_data"
    }
   ],
   "source": [
    "sum_split_last = (\n",
    "    Forall(f,\n",
    "           Forall((a, b),\n",
    "                  Equals(Sum(x, fx, domain=Interval(a, b)),\n",
    "                         Add(Sum(x, fx, domain=Interval(a, subtract(b, one))), fb)),\n",
    "                  domain = Integer,\n",
    "                  conditions = [Less(a, b)])\n",
    "          ))"
   ]
  },
  {
   "cell_type": "code",
   "execution_count": 5,
   "metadata": {},
   "outputs": [
    {
     "data": {
      "text/html": [
       "<strong id=\"breakup_sum\">breakup_sum:</strong> <a class=\"ProveItLink\" href=\"../__pv_it/axioms/8a36a17296a8f5a10a7e99e9483e25786307c0df0/axiom_expr.ipynb\"><img src=\"data:image/png;base64,iVBORw0KGgoAAAANSUhEUgAAAmEAAABABAMAAACgtL3CAAAAMFBMVEX///8AAAAAAAAAAAAAAAAA\n",
       "AAAAAAAAAAAAAAAAAAAAAAAAAAAAAAAAAAAAAAAAAAAv3aB7AAAAD3RSTlMAq1RmmUTNIjK7EInv\n",
       "3XZ/CtNrAAAACXBIWXMAAA7EAAAOxAGVKw4bAAALkUlEQVR42uVcW2wdRxke+1z2nD32iSN4QIAS\n",
       "o76QqhBTUESqJnHVAI0gtaViiQfArgpBrVR5CSBVouIcEEVCFGwpEmBS4fPAtXHrI4KKVKQ6gra5\n",
       "tIn90Ig0avBJi4rSpI1zvzT2srsz/9z2nzkT5WhfmAf/qz0z33777cw//9xMSOdSIQyXDT/lW+zi\n",
       "fivCHxqWH+/XsdDkP2L+zV4yTQOwOOZ4GPaTTip2aeQrhp/eZrY6ZkWoTlp+G9OwfoJnPmWGeNvx\n",
       "RTiNU5p9YmS0s4otGX+5wi5GAzvEbvNPUJRjdTXRfOVmWxZt024NS2D2ZKTYzACr3v9sAzFjJMSL\n",
       "AhbpqeMZ/9GORfsENABLYGal2OfBkfBGWXkL9Sndh4w+aEzDIhPvfRjNeUejDQuWXthsfBNOA7A4\n",
       "ZkaKla7CS/JqcbS0D836mgkcinIs8m7jP2jO3sE2LFi24SfNr/KahsUxM1Ks2McuHuQ1ZtLH29R6\n",
       "k6N7UMciu8gGvIJcacOCpm3kT+ZXARqAxTEzUkx/fvTgYZO4ht6SFxWSHiD34HkfJi4f4yXbq3Aa\n",
       "D2s2I8VehzrO5VhlqkrdV/H7vOjr/NYSMfj49XUrC5asHSenAVhgs1GsdB58EX9ccZgYgoAXDW6s\n",
       "X8Mi5HjOUB97Bq0sWPomqVje5UUNi9tMFOuC+2v5Le/ezYYebQi/vVbHIuTH75m61SUrC5a+++l3\n",
       "LO8ypGGBzUaxWfZ9/IsOIKNo0MSLzg468LhgY+GWgAZggc1GsS3MB+SuOoD0oOMoXnRL3QHjZRsL\n",
       "t8RpvKzabBSbhjHHkgNIHvXIvOi0C5GhwMLCLXEagMVsNopdgw5y0gGkG21SvOg1FyLrByws3BKn\n",
       "AVjMZqJY4X3wDU0HEO8c6laaGpY11fosLNwSpwFYzGaiWP4SVPBhF5RX0XY2rGHZndA+CwvH9KqG\n",
       "xWwmihWvs4vxJKAYD0VawfwNFnaMN2SsogQRIiP68nULi/YMFBqAxWwmiq1aYBd0gnZ9SDst/3sn\n",
       "528g2c9inJYVrO6QdZ1//PpHQ6Q+Vc9bWLRnoNAALGYzUazGvLZHfW9XyLnnFpHnr0fiJu+airVW\n",
       "zI5vQtTpvmhm4cBAoQFYzGaimP7sReHb80jvOTFpkYBh9YZ90hxEekB0zf4h2jBQaAAWs5kodpZ5\n",
       "mirzGROh6Py/gMTmC0gzW1GxSqGIQfLp4MtfNrNwYKDQACxmM1FsiD0kDx4hFEFqDnE4CAoU5Vhn\n",
       "Q6ETEnyFZhYODFQaoWIjxZLqfVvHFEPgptnwpAwjnellG0ov0tGJooAVLtgwFtP97bQ8SLIzUGkA\n",
       "FrWRYp+L7bc6phgCN86qQxE+7ExoGxQXr1juAZY/bx3Vjwf2W3YG+COpjRT7YdwVTXZMMQRunn2k\n",
       "HvhqhfC8BaWMhJq8KGCRUetS6zTEyoUBnYUDA5UGYFEbKVaMkCr9HVMMgQtTDmruRsOM0nXewamQ\n",
       "SnjIwmQtMOhu4a7NykClAVjURorloq9Q7JznR+DSihXDsVtVjIxfvhXFrAzaKEYOnzjxSgf7yjRc\n",
       "WjF/XhkWV/7+IblfvOCk2EzYNEKQoYE2imkMbDQAi9pYsfsI+U3b2SJ3xVJwPnCdXUqNU2hAf5TM\n",
       "BDt1qvkTSepTivrivflICYFAFPO1gENhYKGBKfZt4vEAuqQuXHUd/OvupFMpK7fXBZBvXZBSTIaj\n",
       "XGHoNitGgHnZC/W0SHnwHbKJvVwFGRxDUV8aBg5JrkiDIHOtlGLaADKf8oMmGoBFbaxYuVERszAf\n",
       "ESONk1PDvUHl2UZKsXUtyLeula5jCpxJMbIoyTIUbxFo8iVMV8V6pVkLDYK9XVRN3zjMqqmumMLA\n",
       "SiOtWHdL8tQH+NXWehwP/+g7RFds4wDk2ziAtEoFzqhYTQpAD0b0XmmQGrk5xbxlI4RDHVMYWGmk\n",
       "FSNj8Y6NPZv/FleslZNxnaq81apSNQYHJcWSPKf6IV9yJW85oaOkBK6yuembPT8hZ0Rz9iNqlahj\n",
       "2uidNvoxxPOT6n4jRHvPrzCw0cD8GPnLI1H+f5XiGLd6vBpLdLS078900LWzLhRL8jyZyBTno1fy\n",
       "lhOqWAxHjpE1FYtiBXlVKaYaYazZORPcRF9JRutGCAfFCql1LRMNRLHHo++YH0xevDyQG6PbSB5I\n",
       "cj3LXjtRLMnTvbvB8tErecsJVSyB6yMbRiyKTcgx7jZCPrNUJ0f6SzcTjylL3BpE+3hMZWClkY7H\n",
       "SFc93jlSjet/Tz1618T5bZiamuonzefJ01wxmqcQC5Xko1fD+twFhSNf5eHSPHRGIh47osRBezc3\n",
       "vtjyLt5njmB50XkRj7XMEJhi82obPJIOxww0EMUS1xqU74ref1VyJ95G8rNEgo8PkOe5YixP6YMB\n",
       "y5dcBdhsT3R3oqFPJIhJiSIyDs5Nfs1T5ylsEwmEfMMCISYqhGLqdEbRNBJP0wAsarliPcHEA409\n",
       "pLexkexJtpGUkx4gTwoLoo7FeeJOanUjzkev5C0nQrHo7pxvnO0hU9iopPVz6gJ6rzjM9pDypAWC\n",
       "LAapkbgy24MyMNAArMVAUaxw7yf3Rl69dH8r+htvI/F+Hd391OrTv+zjiiV5EqFInI9eyVtOhGLe\n",
       "mtvyb/JAR185yx8XkbsQJej6rNZ4pXgztYC3XVSZ/hSE1gTVkkYGBhrzitXmYPulv3umpsQzyrc0\n",
       "a82+cxV6n7tFS74T8fL7kFnrCxpWToQWOWTi5YaZhQMDlcYNxaqKFRrir6b8rSi2hTXb3Pupjr0b\n",
       "UaeGzK5CUY4lhRZ3pLN7y2YWDgwUGoDlYfP8OePEt1Dsp1EfOhWoV20UG2XjzAJbwanxh/pDg+bs\n",
       "CvI59UdP9Ke/u2jJboBtwwBlzazryoh3K3Vslk1F+Ze1jn3n2tQEQlwZWul7/mUVi4cW3sdCpGvN\n",
       "rZhZODBQaAAWs5msJfXC7UXaj17ekaQT8/gxpiHsHRZVrHEK8egbYYgtkeSvWli0Z6DQACxms9mp\n",
       "om7FGpJ2PWA7n8ZR/oGMlZf3XSCLb8UlC4v2DBQagMVsJorlgNUWp1Mu6FeHorkLLhCrFiwsHNOy\n",
       "hsVsJop54Jtrgw4gJXSfFxT1XLbSkommhYVb4jQAi9ls9igehoHFggNIFd0sy4sediFytm5h4ZY4\n",
       "DcBiNhvF5liEV7nuAFJGAyRedK7hgPGUjYVb4jSeUm02itVYR+2tOIDM9qEte0XDsiX/nI2FWwIa\n",
       "gAU2G8WKEArtcAAxbCLfoWNZEr4L3qVkmgZggc1GsRx07FviGGGT/Vs/aniDQMLK/dsKUVwwspBK\n",
       "ikPT/gYzDcACm41iPvQ7s01iOfZGm58hCJhtyljWc2ukNmBmIUrSQ9NxH/yLd800AAtsRmffvgRR\n",
       "ZOxOa1aMigEjv0/C8uxHKebMLKSS9NB0UtE+YaYxp9mMFJtlDTFerxELPrCAhWZN1ZAVKUNu8gcQ\n",
       "cfl7TwemrAi0VJIemjYopjCWMTNSrAoV5AyhizXb4nmPAbaApaTtJvAzElbXf2/fn48hdpFnggld\n",
       "sfyCmYVUkh6aNii2XcPimFmdrAd/2xt9Or7gAwtYiv8wnlPobQmsnjcJ9KhbSeq0d23YzEIqSQ9N\n",
       "44pxGoDFMbNSTPpfFWLBBxaw5NTVZwSX/mVGbSsPQV4iJ/Wcqy0spJIHyD1RbTsY1ba0YpzGah0z\n",
       "K8UqEAs9RxdraKtki1NyutscmD8nsDYWFgLatvwrZNfTWhRxyMJClGSHpvE6BjQAS2BmpRj5LQw+\n",
       "WmLBhy9OSa3hgGXc0uJYa0oL4L/3ly7dpeZ7vG5hIZWkh6ZRxTgNwBKYHVbMPEH3DHukf0ws+IjF\n",
       "KRF7WuaD/GMc61fkA/AKX77ztFbmITOEUpIemo4V+/74CwYaD2m20//pyB8x/qcjD3g+ZkX4ve3H\n",
       "x3QsnIQlQEZKTtpoABbHfGJkpEH+z9PgTZf4H8uo1Ie08aXjAAAAAElFTkSuQmCC\n",
       "\" style=\"display:inline;vertical-align:middle;\" /></a><br>"
      ],
      "text/plain": [
       "<IPython.core.display.HTML object>"
      ]
     },
     "metadata": {},
     "output_type": "display_data"
    }
   ],
   "source": [
    "breakup_sum = Forall(\n",
    "    (a, b, c),\n",
    "    Forall((alpha),\n",
    "    Equals(\n",
    "    Sum(k, alpha_k, domain=(Interval(a, c))),\n",
    "    Add(Sum(k, alpha_k, domain=(Interval(a, b))),\n",
    "        Sum(k, alpha_k, domain=(Interval(Add(b, one), c)))))),\n",
    "    domain = Integer,\n",
    "    conditions=[number_ordering(LessEq(a, b), LessEq(b, c))])"
   ]
  },
  {
   "cell_type": "code",
   "execution_count": 6,
   "metadata": {},
   "outputs": [
    {
     "name": "stdout",
     "output_type": "stream",
     "text": [
      "These axioms may now be imported from the theory package: proveit.numbers.summation\n"
     ]
    }
   ],
   "source": [
    "%end axioms"
   ]
  }
 ],
 "metadata": {
  "kernelspec": {
   "display_name": "Python 3",
   "language": "python",
   "name": "python3"
  }
 },
 "nbformat": 4,
 "nbformat_minor": 0
}