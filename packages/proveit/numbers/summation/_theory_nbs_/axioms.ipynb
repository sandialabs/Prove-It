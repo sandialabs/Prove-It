{
 "cells": [
  {
   "cell_type": "markdown",
   "metadata": {},
   "source": [
    "Axioms for the theory of <a class=\"ProveItLink\" href=\"theory.ipynb\">proveit.numbers.summation</a>\n",
    "========"
   ]
  },
  {
   "cell_type": "code",
   "execution_count": null,
   "metadata": {},
   "outputs": [],
   "source": [
    "import proveit\n",
    "# Prepare this notebook for defining the axioms of a theory:\n",
    "%axioms_notebook # Keep this at the top following 'import proveit'.\n",
    "from proveit import a, b, c, f, k, x, fa, fb, fx, alpha\n",
    "from proveit.core_expr_types import alpha_k\n",
    "from proveit.logic import Forall, Equals\n",
    "from proveit.numbers import Add, Exp, Less, LessEq, Mult, number_ordering, subtract, Sum \n",
    "from proveit.numbers import one, Interval, Integer"
   ]
  },
  {
   "cell_type": "code",
   "execution_count": null,
   "metadata": {},
   "outputs": [],
   "source": [
    "%begin axioms"
   ]
  },
  {
   "cell_type": "code",
   "execution_count": null,
   "metadata": {},
   "outputs": [],
   "source": [
    "sum_single = Forall(f,\n",
    "                   Forall(a,\n",
    "                          Equals(Sum(x, fx, domain=Interval(a,a)), fa),\n",
    "                          domain=Integer)\n",
    "                  )"
   ]
  },
  {
   "cell_type": "code",
   "execution_count": null,
   "metadata": {},
   "outputs": [],
   "source": [
    "sum_split_last = (\n",
    "    Forall(f,\n",
    "           Forall((a, b),\n",
    "                  Equals(Sum(x, fx, domain=Interval(a, b)),\n",
    "                         Add(Sum(x, fx, domain=Interval(a, subtract(b, one))), fb)),\n",
    "                  domain = Integer,\n",
    "                  conditions = [Less(a, b)])\n",
    "          ))"
   ]
  },
  {
   "cell_type": "code",
   "execution_count": null,
   "metadata": {},
   "outputs": [],
   "source": [
    "breakup_sum = Forall(\n",
    "    (a, b, c),\n",
    "    Forall((alpha),\n",
    "    Equals(\n",
    "    Sum(k, alpha_k, domain=(Interval(a, c))),\n",
    "    Add(Sum(k, alpha_k, domain=(Interval(a, b))),\n",
    "        Sum(k, alpha_k, domain=(Interval(Add(b, one), c)))))),\n",
    "    domain = Integer,\n",
    "    conditions=[number_ordering(LessEq(a, b), LessEq(b, c))])"
   ]
  },
  {
   "cell_type": "code",
   "execution_count": null,
   "metadata": {},
   "outputs": [],
   "source": [
    "%end axioms"
   ]
  }
 ],
 "metadata": {
  "kernelspec": {
   "display_name": "Python 3",
   "language": "python",
   "name": "python3"
  }
 },
 "nbformat": 4,
 "nbformat_minor": 0
}
