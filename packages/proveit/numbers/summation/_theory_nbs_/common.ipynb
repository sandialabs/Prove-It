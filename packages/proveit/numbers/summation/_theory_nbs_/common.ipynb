{
 "cells": [
  {
   "cell_type": "markdown",
   "metadata": {},
   "source": [
    "Common expressions for the theory of <a class=\"ProveItLink\" href=\"theory.ipynb\">proveit.numbers.summation</a>\n",
    "========"
   ]
  },
  {
   "cell_type": "code",
   "execution_count": 1,
   "metadata": {},
   "outputs": [],
   "source": [
    "import proveit\n",
    "# Prepare this notebook for defining the common expressions of a theory:\n",
    "%common_expressions_notebook # Keep this at the top following 'import proveit'.\n",
    "from proveit import Function\n",
    "from proveit import a, b, f, l, k, Q\n",
    "from proveit.core_expr_types import b_1_to_j\n",
    "from proveit.numbers import Sum"
   ]
  },
  {
   "cell_type": "code",
   "execution_count": 2,
   "metadata": {},
   "outputs": [
    {
     "name": "stdout",
     "output_type": "stream",
     "text": [
      "Defining common sub-expressions for theory 'proveit.numbers.summation'\n",
      "Subsequent end-of-cell assignments will define common sub-expressions\n",
      "%end_common will finalize the definitions\n"
     ]
    }
   ],
   "source": [
    "%begin common"
   ]
  },
  {
   "cell_type": "code",
   "execution_count": 3,
   "metadata": {},
   "outputs": [
    {
     "data": {
      "text/html": [
       "<strong id=\"ak\">ak:</strong> <a class=\"ProveItLink\" href=\"../__pv_it/common/980b3b81881cce4e1355f17d00e15a3802d84e590/common_expr.ipynb\"><img src=\"data:image/png;base64,iVBORw0KGgoAAAANSUhEUgAAACgAAAAVBAMAAADGNLEtAAAAMFBMVEX///8AAAAAAAAAAAAAAAAA\n",
       "AAAAAAAAAAAAAAAAAAAAAAAAAAAAAAAAAAAAAAAAAAAv3aB7AAAAD3RSTlMAIquJdkTvuxBmmd1U\n",
       "zTKBpmoTAAAACXBIWXMAAA7EAAAOxAGVKw4bAAAA/0lEQVQY02NggAMBCMXIgARYDkBoVgckwcMM\n",
       "DO3ZIIYnQozjApC4BWLxNsAFuSYAiT8gFucCuCAbyLgfYGYGXPAsEDMngJk3gU5QdgTZtxhkmgKP\n",
       "FdBAIwaGMAH2HxBphv4JZ8SARs9l4Mhk4NoAFNgDxOdFD7wFeuEYA9cHBm4DoEAqEC+bBzbzPQNb\n",
       "AUN/AFRw76oHIMEwhn4HhvkMEO0cf1j/gZinGfoPMOjyAA0qAbr6B8cfFqDgdAZ2B55dXAxgdzBd\n",
       "4PjHDHYdh4qdkB+Q9ZqBgf0Ag5cHkLkV7iPuBzAW4wa4ICIYwEEDBYUwhjhSILdjyIKMgkYDiwAD\n",
       "AB1yNjxjFUekAAAAAElFTkSuQmCC\n",
       "\" style=\"display:inline;vertical-align:middle;\" /></a><br>"
      ],
      "text/plain": [
       "<IPython.core.display.HTML object>"
      ]
     },
     "metadata": {},
     "output_type": "display_data"
    }
   ],
   "source": [
    "ak = Function(a, k)"
   ]
  },
  {
   "cell_type": "code",
   "execution_count": 4,
   "metadata": {},
   "outputs": [
    {
     "data": {
      "text/html": [
       "<strong id=\"al\">al:</strong> <a class=\"ProveItLink\" href=\"../__pv_it/common/6500d1e53ccfdc2fa3c4da2b521a7de7599c7c840/common_expr.ipynb\"><img src=\"data:image/png;base64,iVBORw0KGgoAAAANSUhEUgAAACMAAAAVBAMAAAA+1EraAAAAMFBMVEX///8AAAAAAAAAAAAAAAAA\n",
       "AAAAAAAAAAAAAAAAAAAAAAAAAAAAAAAAAAAAAAAAAAAv3aB7AAAAD3RSTlMAIquJdkTvuxBmmd1U\n",
       "zTKBpmoTAAAACXBIWXMAAA7EAAAOxAGVKw4bAAAA60lEQVQY02NggANGECHAgAx8QEQIsgiPAQPz\n",
       "/gcsE5CEeoF4PgPDDSShlUC8loFhFpJQAhBvYWBga0AYdQFo5z8GBl6gYYzKjg5AIS4DBgbODwwM\n",
       "zAoMDGEC7D8YILJMBUDhCwwcmQxcG4BC3AeA5gCV8yQwcH1g4AbqYWALYGB4D3Q73wcGtgKG/gCo\n",
       "kBuQZk1g6HcAORCisYgDqHEDQ/8BBl0eoAZ2oDk/mYHGFwCZPLu4GCCWf20BO4ZDxU7IDyjEB7R2\n",
       "FtAe7gCEh/ZBKGkkP85C+B4G2MEByliAJMRRgJCAAREQ4cjAAACjjSjdKTIsuwAAAABJRU5ErkJg\n",
       "gg==\n",
       "\" style=\"display:inline;vertical-align:middle;\" /></a><br>"
      ],
      "text/plain": [
       "<IPython.core.display.HTML object>"
      ]
     },
     "metadata": {},
     "output_type": "display_data"
    }
   ],
   "source": [
    "al = Function(a, l)"
   ]
  },
  {
   "cell_type": "code",
   "execution_count": 5,
   "metadata": {},
   "outputs": [
    {
     "data": {
      "text/html": [
       "<strong id=\"bk\">bk:</strong> <a class=\"ProveItLink\" href=\"../__pv_it/common/12c9a4f9cb30b68a44cfb890ea77cbc808445a1e0/common_expr.ipynb\"><img src=\"data:image/png;base64,iVBORw0KGgoAAAANSUhEUgAAACYAAAAVBAMAAADY/YGeAAAAMFBMVEX///8AAAAAAAAAAAAAAAAA\n",
       "AAAAAAAAAAAAAAAAAAAAAAAAAAAAAAAAAAAAAAAAAAAv3aB7AAAAD3RSTlMAELvv3c2ZVESJq3Yi\n",
       "MmZ3LnoBAAAACXBIWXMAAA7EAAAOxAGVKw4bAAABDUlEQVQY02NggIEDEIqHAQG4CyA0xwYGBkZl\n",
       "BzC7koFByATE2AfErAkgFmMAkAgDsVgFGBj4wZrYHgCJ7yAWH1BNvwCIxQwy6iPYFEMGhilgRikQ\n",
       "cxqAmXEMDFG7lwMZmSCTFrBPA2qaxcD4VUD+AFiSQf5B+WGgsU8Z2D8yMAOd5A4Uqz9RcBUoXczA\n",
       "FsDAP4GBwQIolvwWbN59BpYJDP0FEDHXtAsgsWaQ8/IFwHoZv3P8BYmVMPBfYLQDMrSBjv3I+J0b\n",
       "yHzEwPWACeS5WQwMXAGMfznBzmJcmQfScIWBgamAYdtGINMDFlQsF2AsHgcYiy8BxgKHBgTowBiH\n",
       "EOEshCEJNGYDNA4OMAAAaXE3Jyyu4R4AAAAASUVORK5CYII=\n",
       "\" style=\"display:inline;vertical-align:middle;\" /></a><br>"
      ],
      "text/plain": [
       "<IPython.core.display.HTML object>"
      ]
     },
     "metadata": {},
     "output_type": "display_data"
    }
   ],
   "source": [
    "bk = Function(b, k)"
   ]
  },
  {
   "cell_type": "code",
   "execution_count": 6,
   "metadata": {},
   "outputs": [
    {
     "data": {
      "text/html": [
       "<strong id=\"bl\">bl:</strong> <a class=\"ProveItLink\" href=\"../__pv_it/common/5516068587db962dce0f2e50f02d4c4c929305110/common_expr.ipynb\"><img src=\"data:image/png;base64,iVBORw0KGgoAAAANSUhEUgAAACEAAAAVBAMAAAA6IZrnAAAAMFBMVEX///8AAAAAAAAAAAAAAAAA\n",
       "AAAAAAAAAAAAAAAAAAAAAAAAAAAAAAAAAAAAAAAAAAAv3aB7AAAAD3RSTlMAELvv3c2ZVESJq3Yi\n",
       "MmZ3LnoBAAAACXBIWXMAAA7EAAAOxAGVKw4bAAAA8UlEQVQY001QvdLBQBQ9m4SIv6RRKWRGp8oT\n",
       "GL0xolVptHgEvUIKD6AzOjMKxfcVCp3GG1ClRWFGwzi7i7gz957ds3vP/QE+lpdhix/byDChi2pD\n",
       "EXYEp33InXhM9RRTop+BDsEdKWZA7wMxYeopJqA3AZO3mZYJWe1BDQp1/xZk0hFQvADOHOLmVbb6\n",
       "LeuTDWFfYa4Ai/oS7QDpEC4zzDFw5N/CBVaE6Ugza+plAtnO0NNZNcGsBtyDqPPNoMbTobKP7MmQ\n",
       "Y7Aq7mXVhVjK/lHgvDErWOPvMloadsl6YnwHfpuh1pf3E0b4Cf+2vQz/wAtpIjAhWpo6WwAAAABJ\n",
       "RU5ErkJggg==\n",
       "\" style=\"display:inline;vertical-align:middle;\" /></a><br>"
      ],
      "text/plain": [
       "<IPython.core.display.HTML object>"
      ]
     },
     "metadata": {},
     "output_type": "display_data"
    }
   ],
   "source": [
    "bl = Function(b, l)"
   ]
  },
  {
   "cell_type": "code",
   "execution_count": 7,
   "metadata": {},
   "outputs": [
    {
     "data": {
      "text/html": [
       "<strong id=\"summation_b1toj_fQ\">summation_b1toj_fQ:</strong> <a class=\"ProveItLink\" href=\"../__pv_it/common/d71f6d5f5f5c8fd11cced29abc8bd46cc924bc1c0/common_expr.ipynb\"><img src=\"data:image/png;base64,iVBORw0KGgoAAAANSUhEUgAAAVkAAAAyBAMAAAAEmLXFAAAAMFBMVEX///8AAAAAAAAAAAAAAAAA\n",
       "AAAAAAAAAAAAAAAAAAAAAAAAAAAAAAAAAAAAAAAAAAAv3aB7AAAAD3RSTlMAzXZUMhAiRKvv3WaZ\n",
       "u4mNgo6tAAAACXBIWXMAAA7EAAAOxAGVKw4bAAAEc0lEQVRo3u1Za2jTUBQ+fWRd27SdyERQWRGR\n",
       "KftR8YciokP9s4EYBUF/6CrCBBmu+PinrKigqMzhY8IEV9AhiGhFRAUfVVQE0Ym4gaBYFEFFdHMP\n",
       "fIDx3pubm2TJttw0loK70OTk3vPlfDm595xzGwDbrUrW2nco9bZUriVnYUt158+SZ1suZ1QxfDlR\n",
       "8nQv/2Ci+Lzk2a6Ss0x+5Pw2yeLgvPIwk8OOyXqdTqLtnPpvfxX0bp59wMclILzK6Ho3dIyNYtre\n",
       "LJ+59XKuALLR/cex8QoAj+E208fBMe1KPnsBeaAAtsEFPXh9Ig/FDJNhvHsy7VucBr/9lJyzbSHY\n",
       "IJNUFwzZwmEop3GPXOGc7WdynMckdYJkbOGwdc6JK3T+cUz2RscRstTQb+rMfToP7K0eO0ow7Wja\n",
       "YfZ10pTaYhp65n6pQQueDZXC8JgeUrSR3TDvixXlk07Jlg2S01kA3xAE48IV1QESHBO+Hhx1ThJt\n",
       "gHNIauPOvo6rL18fOZ1Cj1wBsfyyubT/HsAfEcRRZy/RJpK/j9dmc8YpW7qaENtQHloSsIj2X4LA\n",
       "QCxFPW/RFG0SPbh9O8dplodIWp0JKIB2S4ztAIhDYWl0tkRbqEGEfbyeCgw6Tw5xcnqB7NcKp4Gw\n",
       "xZN1ENZnFc+bpy7uIdqiD62wMG/ht8p5XducIqePqFDORnKErdCPOg7Da3Ssl5SrhgoYIRDttVGE\n",
       "EPOc8fZYAVsP5VSP7tL6BBTfXkDOW/cFubash16FcFFwEaiAexRtnBlCKc5cVkBV85guGjVgY7Y+\n",
       "9eU3QaPuSosjrCeG1stWTotvHHP1pSfTwjinYxtVY/HLFQ+1K10cYVId+j3hzA1dmnVOtqEeNRH1\n",
       "KqdtVe8A1qgrUJb7tCutaT3V6JE4F9lNLXxd5WQbrlGxG3S9cYNO3ITSelDCjiSdhi/+JKhl4Dg/\n",
       "xrMT2ZvNGYNY+BK6C9lE8Dexhruu1sLX5qMFlGJFap7+SaRd6JTlX6VOFrp1/4P9hok20Sba/94M\n",
       "CcFnMw3G3eXgn2GWrEYBaFHhfYdT/nWbQNFll7VaSFajlG1gCpS1g5C2CQzk3WV7wkKyGqVscVn6\n",
       "FMSUXWCluzPhe7U0UrIapWzJ3vQuhGwD37vK1tvlzY2UrEYp23JcVH+CTbaBi11lG8mqfy9pktUo\n",
       "ZRvE83Aq7LEN3OMq22CtmCY7TiLtqEmZRkGUdGzR3tM/DAttA1e6yjYGwcTyLlVqE/pMowbfRnIB\n",
       "KZTFHGwC3Z0JIek2ADK6kUhJfxsIeXRBDkpf+JZ+lbVfm4X2SCEr4EYdlAFnuhsT7seJ0boEkSIp\n",
       "8B+HuqS/HR2UvsbV+gjWtPeglMQ7OjMQSe0UqgF73U+q+IUqL+6BYfet9N0x5DLYLcRZ0DcCE2ag\n",
       "8PyfsA2QpRSVkJt2sU2usrwOGNk2H5LYt0gDMCCZgWLSdbLLziTox8Uq/OWZfYygHxwzRrae84Sd\n",
       "Gah9n9SA14tcennn09Bv9JJkDygVma3vSLGBo7e/RR9TMhH3h0IAAAAASUVORK5CYII=\n",
       "\" style=\"display:inline;vertical-align:middle;\" /></a><br>"
      ],
      "text/plain": [
       "<IPython.core.display.HTML object>"
      ]
     },
     "metadata": {},
     "output_type": "display_data"
    }
   ],
   "source": [
    "summation_b1toj_fQ = Sum(b_1_to_j, \n",
    "                         Function(f, b_1_to_j), \n",
    "                         condition=Function(Q, b_1_to_j))"
   ]
  },
  {
   "cell_type": "code",
   "execution_count": 8,
   "metadata": {},
   "outputs": [
    {
     "name": "stdout",
     "output_type": "stream",
     "text": [
      "These common expressions may now be imported from the theory package: proveit.numbers.summation\n"
     ]
    }
   ],
   "source": [
    "%end common"
   ]
  }
 ],
 "metadata": {
  "kernelspec": {
   "display_name": "Python 3",
   "language": "python",
   "name": "python3"
  }
 },
 "nbformat": 4,
 "nbformat_minor": 0
}