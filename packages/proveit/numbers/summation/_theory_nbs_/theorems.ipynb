{
 "cells": [
  {
   "cell_type": "markdown",
   "metadata": {},
   "source": [
    "Theorems (or conjectures) for the theory of <a class=\"ProveItLink\" href=\"theory.ipynb\">proveit.numbers.summation</a>\n",
    "========"
   ]
  },
  {
   "cell_type": "code",
   "execution_count": null,
   "metadata": {},
   "outputs": [],
   "source": [
    "import proveit\n",
    "# Prepare this notebook for defining the theorems of a theory:\n",
    "%theorems_notebook # Keep this at the top following 'import proveit'.\n",
    "from proveit import (a, b, c, d, f, g, i, j, k, l, m, n, x, y, fa, fx,\n",
    "                     gx, gy, R, S, Q, Qx)\n",
    "from proveit import Function\n",
    "from proveit.logic import Implies, Forall, Equals, InSet, Card, SetOfAll\n",
    "from proveit import Operation\n",
    "from proveit.core_expr_types import x_1_to_m, y_1_to_n, fi, fj, gi, gj\n",
    "from proveit.logic import (Card, Equals, Forall, Implies, InSet, NotEquals,\n",
    "                           SetOfAll, SubsetEq)\n",
    "from proveit.numbers import (Add, Abs, Exp, frac, greater, Integrate, Less, LessEq,\n",
    "                             Mult, Neg, number_ordering, subtract, Sum)\n",
    "from proveit.numbers import Natural, NaturalPos, Integer, IntervalCC, Real\n",
    "from proveit.numbers import Complex, Interval, zero, one, two, infinity\n",
    "from proveit.numbers.functions import MonDecFuncs\n",
    "from proveit.numbers.summation import al, ak, bl, bk"
   ]
  },
  {
   "cell_type": "code",
   "execution_count": null,
   "metadata": {},
   "outputs": [],
   "source": [
    "%begin theorems"
   ]
  },
  {
   "cell_type": "code",
   "execution_count": null,
   "metadata": {},
   "outputs": [],
   "source": [
    "distributive_summation = (\n",
    "    Forall(\n",
    "        f,\n",
    "    Forall(\n",
    "        x,\n",
    "    Forall(\n",
    "    (j, k),\n",
    "    Equals(Sum(i, Mult(x, fi), domain=Interval(j, k)),\n",
    "           Mult(x, Sum(i, fi, domain=Interval(j, k)))),\n",
    "    domain=Integer),\n",
    "    domain=Complex)))"
   ]
  },
  {
   "cell_type": "code",
   "execution_count": null,
   "metadata": {},
   "outputs": [],
   "source": [
    "distributive_summation_spec = (\n",
    "    Forall(\n",
    "        (f, g),\n",
    "    Forall(\n",
    "        (x),\n",
    "    Forall(\n",
    "    (c, d),\n",
    "    Equals(Sum(j, Mult(Mult(x, gj), fj), domain=Interval(c, d)),\n",
    "           Mult(x, Sum(j, Mult(gj, fj), domain=Interval(c, d)))),\n",
    "    domain=Integer),\n",
    "    domain=Complex)))"
   ]
  },
  {
   "cell_type": "markdown",
   "metadata": {},
   "source": [
    "#### Several basic closure theorems: if we sum up terms each of which belongs to set S, we generally end up with a sum in set S as well."
   ]
  },
  {
   "cell_type": "code",
   "execution_count": null,
   "metadata": {},
   "outputs": [],
   "source": [
    "summation_nat_closure = Forall(\n",
    "    [f, Q], Implies(Forall(x, InSet(fx, Natural), condition=Qx), \n",
    "                    InSet(Sum(x, fx, condition=Qx), domain=Natural)))"
   ]
  },
  {
   "cell_type": "code",
   "execution_count": null,
   "metadata": {},
   "outputs": [],
   "source": [
    "summation_nat_pos_closure = Forall(\n",
    "    [f, Q], Implies(Forall(x, InSet(fx, NaturalPos), condition=Qx), \n",
    "                    InSet(Sum(x, fx, condition=Qx), domain=NaturalPos)))"
   ]
  },
  {
   "cell_type": "code",
   "execution_count": null,
   "metadata": {},
   "outputs": [],
   "source": [
    "summation_int_closure = Forall(\n",
    "    [f, Q], Implies(Forall(x, InSet(fx, Integer), condition=Qx), \n",
    "                    InSet(Sum(x, fx, condition=Qx), domain=Integer)))"
   ]
  },
  {
   "cell_type": "code",
   "execution_count": null,
   "metadata": {},
   "outputs": [],
   "source": [
    "summation_real_closure = Forall(\n",
    "    [f, Q], Implies(Forall(x, InSet(fx, Real), condition=Qx), \n",
    "                       InSet(Sum(x, fx, condition=Qx), domain=Real)))"
   ]
  },
  {
   "cell_type": "code",
   "execution_count": null,
   "metadata": {},
   "outputs": [],
   "source": [
    "summation_complex_closure = Forall(\n",
    "    [f, Q], Implies(Forall(x, InSet(fx, Complex), condition=Qx), \n",
    "                       InSet(Sum(x, fx, condition=Qx), domain=Complex)))"
   ]
  },
  {
   "cell_type": "markdown",
   "metadata": {},
   "source": [
    "##### Splitting up summations"
   ]
  },
  {
   "cell_type": "code",
   "execution_count": null,
   "metadata": {},
   "outputs": [],
   "source": [
    "sum_split_general = (\n",
    "    Forall(f,\n",
    "           Forall([a, b, c],\n",
    "                  Equals(Sum(x, fx, domain=Interval(a, c)),\n",
    "                         Add(Sum(x, fx, domain=Interval(a, b)),\n",
    "                             Sum(x, fx, domain=Interval(Add(b, one), c)))),\n",
    "                   domain=Integer, conditions=[number_ordering(LessEq(a, b), LessEq(b, c))])\n",
    "    ))"
   ]
  },
  {
   "cell_type": "code",
   "execution_count": null,
   "metadata": {},
   "outputs": [],
   "source": [
    "sum_split_after = (\n",
    "    Forall(f,\n",
    "           Forall([a, b, c],\n",
    "                  Equals(Sum(x, fx, domain=Interval(a, c)),\n",
    "                         Add(Sum(x, fx, domain=Interval(a, b)),\n",
    "                             Sum(x, fx, domain=Interval(Add(b, one), c)))),\n",
    "                   domain=Integer, conditions=[LessEq(a, b), Less(b, c)])\n",
    "    ))"
   ]
  },
  {
   "cell_type": "code",
   "execution_count": null,
   "metadata": {},
   "outputs": [],
   "source": [
    "sum_split_before = (\n",
    "    Forall(f,\n",
    "           Forall([a, b, c],\n",
    "                  Equals(Sum(x, fx, domain=Interval(a, c)),\n",
    "                         Add(Sum(x, fx, domain=Interval(a, subtract(b, one))),\n",
    "                             Sum(x, fx, domain=Interval(b, c)))),\n",
    "                  domain=Integer,\n",
    "                  conditions=[Less(a, b), LessEq(b, c)])\n",
    "    ))"
   ]
  },
  {
   "cell_type": "code",
   "execution_count": null,
   "metadata": {},
   "outputs": [],
   "source": [
    "sum_split_first = (\n",
    "    Forall(f,\n",
    "        Forall((a, b),\n",
    "               Equals(Sum(x, fx, domain=Interval(a, b)),\n",
    "                      Add(fa, Sum(x, fx, domain=Interval(Add(a, one), b)))),\n",
    "        domain=Integer,\n",
    "        conditions=[Less(a, b)])\n",
    "      ))"
   ]
  },
  {
   "cell_type": "markdown",
   "metadata": {},
   "source": [
    "#### Index shifting"
   ]
  },
  {
   "cell_type": "code",
   "execution_count": null,
   "metadata": {},
   "outputs": [],
   "source": [
    "index_shift = (\n",
    "    Forall(f,\n",
    "           Forall((a, b, c),\n",
    "                  Equals(Sum(x, Function(f, x), domain=Interval(a, b)),\n",
    "                         Sum(x, Function(f, subtract(x, c)),\n",
    "                             domain=Interval(Add(a, c), Add(b, c)))),\n",
    "                  domain=Integer)\n",
    "    ))"
   ]
  },
  {
   "cell_type": "markdown",
   "metadata": {},
   "source": [
    "#### Summation of Even Functions (to be generalized later)"
   ]
  },
  {
   "cell_type": "code",
   "execution_count": null,
   "metadata": {},
   "outputs": [],
   "source": [
    "# This can be generalized later when we establish a\n",
    "# class of even functions\n",
    "even_fxn_sum = (\n",
    "    Forall(f,\n",
    "           Forall((a, b),\n",
    "                  Equals(Sum(x, Exp(Function(f, x), two), domain=Interval(a, b)),\n",
    "                         Sum(x, Exp(Function(f, x), two),\n",
    "                             domain=Interval(Neg(b), Neg(a)))),\n",
    "                  domain=Integer)\n",
    "    ))"
   ]
  },
  {
   "cell_type": "code",
   "execution_count": null,
   "metadata": {},
   "outputs": [],
   "source": []
  },
  {
   "cell_type": "code",
   "execution_count": null,
   "metadata": {},
   "outputs": [],
   "source": [
    "sum_zero_and_one = (\n",
    "    Forall(f,\n",
    "           Equals(Sum(n, Function(f, n), domain=Interval(zero, one)),\n",
    "                  Add(Function(f, zero), Function(f, one)))\n",
    "    ))"
   ]
  },
  {
   "cell_type": "markdown",
   "metadata": {},
   "source": [
    "#### Some specific summation formulas"
   ]
  },
  {
   "cell_type": "code",
   "execution_count": null,
   "metadata": {},
   "outputs": [],
   "source": [
    "trivial_sum = Forall(\n",
    "    (a, b), Forall(x, Equals(Sum(i, x, domain=Interval(a, b)),\n",
    "                             Mult(Add(b, Neg(a), one), x)),\n",
    "                   domain=Complex),\n",
    "    domain=Integer)"
   ]
  },
  {
   "cell_type": "code",
   "execution_count": null,
   "metadata": {},
   "outputs": [],
   "source": [
    "# finite_geom_sum = (\n",
    "#     Forall([x, n],\n",
    "#            Equals(Sum(m, Exp(x, m), domain=Interval(zero, n)),\n",
    "#                   frac(subtract(one, Exp(x, Add(n, one))),\n",
    "#                        subtract(one, x))),\n",
    "#            domains=[Complex, NaturalPos]))"
   ]
  },
  {
   "cell_type": "code",
   "execution_count": null,
   "metadata": {},
   "outputs": [],
   "source": [
    "finite_geom_sum = (\n",
    "    Forall([x, n],\n",
    "           Equals(Sum(i, Exp(x, i), domain=Interval(zero, n)),\n",
    "                  frac(subtract(one, Exp(x, Add(n, one))),\n",
    "                       subtract(one, x))),\n",
    "           domains=[Complex, Natural],\n",
    "           conditions=[NotEquals(x, one)]))"
   ]
  },
  {
   "cell_type": "code",
   "execution_count": null,
   "metadata": {},
   "outputs": [],
   "source": [
    "gen_finite_geom_sum = (\n",
    "        Forall(x,\n",
    "        Forall((j, k),\n",
    "               Equals(Sum(i, Exp(x, i), domain=Interval(j, k)),\n",
    "                      frac(subtract(Exp(x, j), Exp(x, Add(k, one))), subtract(one, x))),\n",
    "        domain=Integer, condition=LessEq(j, k)),\n",
    "        domain=Complex, condition=NotEquals(x, one)))"
   ]
  },
  {
   "cell_type": "code",
   "execution_count": null,
   "metadata": {},
   "outputs": [],
   "source": [
    "inf_geom_sum = Forall(x, Equals(Sum(m,Exp(x,m),\n",
    "                                  domain=Interval(zero, infinity)), \n",
    "                              frac(one,subtract(one,x))),\n",
    "                    domain=Complex, condition=Less(Abs(x), one))"
   ]
  },
  {
   "cell_type": "code",
   "execution_count": null,
   "metadata": {},
   "outputs": [],
   "source": [
    "sum_first_n_int = Forall(n,\n",
    "                       Equals( Sum(k, k, domain=Interval(one, n)),\n",
    "                               frac(Mult(n, Add(n, one)), two) ),\n",
    "                       domain=NaturalPos)"
   ]
  },
  {
   "cell_type": "code",
   "execution_count": null,
   "metadata": {},
   "outputs": [],
   "source": [
    "same_sums = (\n",
    "    Forall((f, g),\n",
    "           Forall((m, n),\n",
    "                  Implies(Forall(k,\n",
    "                                 Equals(Function(f, k), Function(g, k)),\n",
    "                                 domain=Interval(m, n)),\n",
    "                          Equals(Sum(l, Function(f, l), domain=Interval(m, n)),\n",
    "                                 Sum(l, Function(g, l), domain=Interval(m, n)))),\n",
    "                  domain=Integer)))"
   ]
  },
  {
   "cell_type": "code",
   "execution_count": null,
   "metadata": {},
   "outputs": [],
   "source": [
    "# Could also make such a theorem to apply whenever addition is\n",
    "# commutative, not just for the Complex numbers.\n",
    "# See alternate version below controlling mapping from S to R\n",
    "# to be bijective.\n",
    "# equiv_sums = (\n",
    "#     Forall((f, g, R, S),\n",
    "#            Implies(Forall(a, InSet(fa, Complex), domain=R),\n",
    "#                    Equals(Sum(x, fx, domain=R),\n",
    "#                           Sum(y, Function(f, gy), domain=S))),\n",
    "#            conditions=[Equals(SetOfAll(y, gy, domain=S), R)]))"
   ]
  },
  {
   "cell_type": "code",
   "execution_count": null,
   "metadata": {},
   "outputs": [],
   "source": [
    "equiv_sums = Forall(\n",
    "    n, \n",
    "    Forall((f, g, R, S),\n",
    "           Implies(Forall(a, InSet(fa, Complex), domain=R),\n",
    "                   Equals(Sum(x, fx, domain=R),\n",
    "                          Sum(y, Function(f, gy), domain=S))),\n",
    "           conditions=[Equals(SetOfAll(y, gy, domain=S), R),\n",
    "                       Equals(Card(S), n), Equals(Card(R), n)]),\n",
    "    domain=Natural)"
   ]
  },
  {
   "cell_type": "markdown",
   "metadata": {},
   "source": [
    "#### Bounding Theorems"
   ]
  },
  {
   "cell_type": "code",
   "execution_count": null,
   "metadata": {},
   "outputs": [],
   "source": [
    "bounded_sum = Forall((S, f, g), Implies(Forall(x, LessEq(\n",
    "    fx, gx), domain=S), LessEq(Sum(x, fx, domain=S), Sum(x, gx, domain=S))))"
   ]
  },
  {
   "cell_type": "code",
   "execution_count": null,
   "metadata": {},
   "outputs": [],
   "source": [
    "weak_summation_from_summands_bound = Forall(\n",
    "    (a, b, S), Implies(Forall(k, LessEq(ak, bk), domain=S),\n",
    "                       LessEq(Sum(l, al, domain=S),\n",
    "                              Sum(l, bl, domain=S))))"
   ]
  },
  {
   "cell_type": "code",
   "execution_count": null,
   "metadata": {},
   "outputs": [],
   "source": [
    "strong_summation_from_summands_bound = Forall(\n",
    "    (a, b, S), Implies(Forall(k, Less(ak, bk), domain=S),\n",
    "                       Less(Sum(l, al, domain=S),\n",
    "                            Sum(l, bl, domain=S))),\n",
    "                      condition=greater(Card(S), zero))"
   ]
  },
  {
   "cell_type": "code",
   "execution_count": null,
   "metadata": {},
   "outputs": [],
   "source": [
    "# sum_integrate_ineq = (\n",
    "#     Forall(f,\n",
    "#     Forall((a,b),\n",
    "#         LessEq(\n",
    "#             Sum(x, Function(f,x), domain=Interval(a,b)),\n",
    "#             Add(fa, Integrate(x, Function(f, x), domain=IntervalCC(a,b)))),\n",
    "#     domain=Integer, condition=LessEq(a,b)),\n",
    "#     domain=MonDecFuncs))"
   ]
  },
  {
   "cell_type": "code",
   "execution_count": null,
   "metadata": {},
   "outputs": [],
   "source": [
    "sum_integrate_ineq = (\n",
    "    Forall(S,\n",
    "    Forall(f,\n",
    "    Forall((a,b), LessEq(\n",
    "            Sum(x, Function(f,x), domain=Interval(a,b)),\n",
    "            Add(fa, Integrate(x, Function(f, x), domain=IntervalCC(a,b)))),\n",
    "        domain=Integer, conditions=[LessEq(a,b), SubsetEq(Interval(a, b), S)]),\n",
    "        domain=MonDecFuncs(S),\n",
    "        condition=SubsetEq(S, Real))))"
   ]
  },
  {
   "cell_type": "code",
   "execution_count": null,
   "metadata": {},
   "outputs": [],
   "source": [
    "sum_integrate_ineq_NC = (\n",
    "    Forall(S,\n",
    "    Forall(f,\n",
    "    Forall((a,b), LessEq(\n",
    "            Sum(x, Function(f,x), domain=Interval(a,b)),\n",
    "            Integrate(x, Function(f, x), domain=IntervalCC(subtract(a, one),b))),\n",
    "        domain=Integer, conditions=[LessEq(a,b), SubsetEq(Interval(a, b), S)]),\n",
    "        domain=MonDecFuncs(S),\n",
    "        condition=SubsetEq(S, Real))))"
   ]
  },
  {
   "cell_type": "code",
   "execution_count": null,
   "metadata": {},
   "outputs": [],
   "source": [
    "from proveit import Lambda\n",
    "Forall(S,\n",
    "Forall((f, g),\n",
    "    InSet(Lambda(x, Add(fx, gx)), MonDecFuncs(S) ),\n",
    "    domain=MonDecFuncs(S)),\n",
    "    condition=SubsetEq(S, Real))"
   ]
  },
  {
   "cell_type": "code",
   "execution_count": null,
   "metadata": {},
   "outputs": [],
   "source": [
    "%end theorems"
   ]
  },
  {
   "cell_type": "code",
   "execution_count": null,
   "metadata": {},
   "outputs": [],
   "source": []
  }
 ],
 "metadata": {
  "kernelspec": {
   "display_name": "Python 3",
   "language": "python",
   "name": "python3"
  }
 },
 "nbformat": 4,
 "nbformat_minor": 0
}
