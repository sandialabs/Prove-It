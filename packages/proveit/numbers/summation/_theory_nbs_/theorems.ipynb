{
 "cells": [
  {
   "cell_type": "markdown",
   "metadata": {},
   "source": [
    "Theorems (or conjectures) for the theory of <a class=\"ProveItLink\" href=\"theory.ipynb\">proveit.numbers.summation</a>\n",
    "========"
   ]
  },
  {
   "cell_type": "code",
   "execution_count": null,
   "metadata": {},
   "outputs": [],
   "source": [
    "import proveit\n",
    "# Prepare this notebook for defining the theorems of a theory:\n",
    "%theorems_notebook # Keep this at the top following 'import proveit'.\n",
    "from proveit import a, b, i, k, l, m, n, x, P, Px, S, Q, Qx\n",
    "from proveit.core_expr_types import Len\n",
    "from proveit.logic import Implies, Forall, Equals, InSet\n",
    "from proveit.numbers import Add, Div, Exp, frac, Mult, subtract, Sum, Less, LessEq, greater\n",
    "# removed Frac, Substract from line above; added Div, frac, substract\n",
    "from proveit.numbers import Natural, NaturalPos, Integer, Real\n",
    "from proveit.numbers import Complex, Interval, zero, one, two, infinity\n",
    "from proveit.numbers.summation import al, ak, bl, bk"
   ]
  },
  {
   "cell_type": "code",
   "execution_count": null,
   "metadata": {},
   "outputs": [],
   "source": [
    "%begin theorems"
   ]
  },
  {
   "cell_type": "code",
   "execution_count": null,
   "metadata": {},
   "outputs": [],
   "source": [
    "summation_nat_closure = Forall(\n",
    "    [P, Q], Implies(Forall(x, InSet(Px, Natural), condition=Qx), \n",
    "                    InSet(Sum(x, Px, condition=Qx), domain=Natural)))"
   ]
  },
  {
   "cell_type": "code",
   "execution_count": null,
   "metadata": {},
   "outputs": [],
   "source": [
    "summation_int_closure = Forall(\n",
    "    [P, Q], Implies(Forall(x, InSet(Px, Integer), condition=Qx), \n",
    "                    InSet(Sum(x, Px, condition=Qx), domain=Integer)))"
   ]
  },
  {
   "cell_type": "code",
   "execution_count": null,
   "metadata": {},
   "outputs": [],
   "source": [
    "summation_real_closure = Forall(\n",
    "    [P, S, Q], Implies(Forall(x, InSet(Px, Real), condition=Qx), \n",
    "                       InSet(Sum(x, Px, condition=Qx), domain=Real)))"
   ]
  },
  {
   "cell_type": "code",
   "execution_count": null,
   "metadata": {},
   "outputs": [],
   "source": [
    "summation_complex_closure = Forall(\n",
    "    [P, Q], Implies(Forall(x, InSet(Px, Complex), condition=Qx), \n",
    "                       InSet(Sum(x, Px, condition=Qx), domain=Complex)))"
   ]
  },
  {
   "cell_type": "code",
   "execution_count": null,
   "metadata": {},
   "outputs": [],
   "source": [
    "inf_geom_sum = Forall(x, Equals(Sum(m,Exp(x,m),\n",
    "                                  domain=Interval(zero,infinity)), \n",
    "                              frac(one,subtract(one,x))),\n",
    "                    domain=Complex)"
   ]
  },
  {
   "cell_type": "code",
   "execution_count": null,
   "metadata": {},
   "outputs": [],
   "source": [
    "sum_first_n_int = Forall(n,\n",
    "                       Equals( Sum(i, i, domain=Interval(one, n)),\n",
    "                               frac(Mult(n, Add(n, one)), two) ),\n",
    "                       domain=NaturalPos)"
   ]
  },
  {
   "cell_type": "code",
   "execution_count": null,
   "metadata": {},
   "outputs": [],
   "source": [
    "weak_summation_from_summands_bound = Forall(\n",
    "    (a, b, S), Implies(Forall(k, LessEq(ak, bk), domain=S),\n",
    "                       LessEq(Sum(l, al, domain=S),\n",
    "                              Sum(l, bl, domain=S))))"
   ]
  },
  {
   "cell_type": "code",
   "execution_count": null,
   "metadata": {},
   "outputs": [],
   "source": [
    "strong_summation_from_summands_bound = Forall(\n",
    "    (a, b, S), Implies(Forall(k, Less(ak, bk), domain=S),\n",
    "                       Less(Sum(l, al, domain=S),\n",
    "                            Sum(l, bl, domain=S))),\n",
    "                      condition=greater(Len(S), zero))"
   ]
  },
  {
   "cell_type": "code",
   "execution_count": null,
   "metadata": {},
   "outputs": [],
   "source": [
    "%end theorems"
   ]
  },
  {
   "cell_type": "code",
   "execution_count": null,
   "metadata": {},
   "outputs": [],
   "source": []
  }
 ],
 "metadata": {
  "kernelspec": {
   "display_name": "Python 3",
   "language": "python",
   "name": "python3"
  }
 },
 "nbformat": 4,
 "nbformat_minor": 0
}
