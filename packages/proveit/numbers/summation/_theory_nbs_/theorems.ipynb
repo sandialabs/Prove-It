{
 "cells": [
  {
   "cell_type": "markdown",
   "metadata": {},
   "source": [
    "Theorems (or conjectures) for the theory of <a class=\"ProveItLink\" href=\"theory.ipynb\">proveit.numbers.summation</a>\n",
    "========"
   ]
  },
  {
   "cell_type": "code",
   "execution_count": null,
   "metadata": {},
   "outputs": [],
   "source": [
    "import proveit\n",
    "# Prepare this notebook for defining the theorems of a theory:\n",
    "%theorems_notebook # Keep this at the top following 'import proveit'.\n",
    "from proveit import (a, b, c, i, f, g, k, l, m, n, x, y, fa, fx,\n",
    "                     gx, gy, P, Px, R, S, Q, Qx)\n",
    "from proveit import Operation\n",
    "from proveit.logic import Implies, Forall, Equals, InSet, Card, SetOfAll\n",
    "from proveit.numbers import (Add, Exp, frac, greater, Less, LessEq,\n",
    "                             Mult, number_ordering, subtract, Sum)\n",
    "from proveit.numbers import Natural, NaturalPos, Integer, Real\n",
    "from proveit.numbers import Complex, Interval, zero, one, two, infinity\n",
    "from proveit.numbers.summation import al, ak, bl, bk"
   ]
  },
  {
   "cell_type": "code",
   "execution_count": null,
   "metadata": {},
   "outputs": [],
   "source": [
    "%begin theorems"
   ]
  },
  {
   "cell_type": "markdown",
   "metadata": {},
   "source": [
    "#### Several basic closure theorems: if we sum up terms each of which belongs to set S, we generally end up with a sum in set S as well."
   ]
  },
  {
   "cell_type": "code",
   "execution_count": null,
   "metadata": {},
   "outputs": [],
   "source": [
    "summation_nat_closure = Forall(\n",
    "    [P, Q], Implies(Forall(x, InSet(Px, Natural), condition=Qx), \n",
    "                    InSet(Sum(x, Px, condition=Qx), domain=Natural)))"
   ]
  },
  {
   "cell_type": "code",
   "execution_count": null,
   "metadata": {},
   "outputs": [],
   "source": [
    "summation_nat_pos_closure = Forall(\n",
    "    [P, Q], Implies(Forall(x, InSet(Px, NaturalPos), condition=Qx), \n",
    "                    InSet(Sum(x, Px, condition=Qx), domain=NaturalPos)))"
   ]
  },
  {
   "cell_type": "code",
   "execution_count": null,
   "metadata": {},
   "outputs": [],
   "source": [
    "summation_int_closure = Forall(\n",
    "    [P, Q], Implies(Forall(x, InSet(Px, Integer), condition=Qx), \n",
    "                    InSet(Sum(x, Px, condition=Qx), domain=Integer)))"
   ]
  },
  {
   "cell_type": "code",
   "execution_count": null,
   "metadata": {},
   "outputs": [],
   "source": [
    "summation_real_closure = Forall(\n",
    "    [P, Q], Implies(Forall(x, InSet(Px, Real), condition=Qx), \n",
    "                       InSet(Sum(x, Px, condition=Qx), domain=Real)))"
   ]
  },
  {
   "cell_type": "code",
   "execution_count": null,
   "metadata": {},
   "outputs": [],
   "source": [
    "summation_complex_closure = Forall(\n",
    "    [P, Q], Implies(Forall(x, InSet(Px, Complex), condition=Qx), \n",
    "                       InSet(Sum(x, Px, condition=Qx), domain=Complex)))"
   ]
  },
  {
   "cell_type": "markdown",
   "metadata": {},
   "source": [
    "##### Splitting up summations"
   ]
  },
  {
   "cell_type": "code",
   "execution_count": null,
   "metadata": {},
   "outputs": [],
   "source": [
    "sum_split_general = (\n",
    "    Forall(f,\n",
    "           Forall([a, b, c],\n",
    "                  Equals(Sum(x, fx, domain=Interval(a, c)),\n",
    "                         Add(Sum(x, fx, domain=Interval(a, b)),\n",
    "                             Sum(x, fx, domain=Interval(Add(b, one), c)))),\n",
    "                   domain=Integer, conditions=[number_ordering(LessEq(a, b), LessEq(b, c))])\n",
    "    ))"
   ]
  },
  {
   "cell_type": "code",
   "execution_count": null,
   "metadata": {},
   "outputs": [],
   "source": [
    "sum_split_after = (\n",
    "    Forall(f,\n",
    "           Forall([a, b, c],\n",
    "                  Equals(Sum(x, fx, domain=Interval(a, c)),\n",
    "                         Add(Sum(x, fx, domain=Interval(a, b)),\n",
    "                             Sum(x, fx, domain=Interval(Add(b, one), c)))),\n",
    "                   domain=Integer, conditions=[LessEq(a, b), Less(b, c)])\n",
    "    ))"
   ]
  },
  {
   "cell_type": "code",
   "execution_count": null,
   "metadata": {},
   "outputs": [],
   "source": [
    "sum_split_before = (\n",
    "    Forall(f,\n",
    "           Forall([a, b, c],\n",
    "                  Equals(Sum(x, fx, domain=Interval(a, c)),\n",
    "                         Add(Sum(x, fx, domain=Interval(a, subtract(b, one))),\n",
    "                             Sum(x, fx, domain=Interval(b, c)))),\n",
    "                  domain=Integer,\n",
    "                  conditions=[Less(a, b), LessEq(b, c)])\n",
    "    ))"
   ]
  },
  {
   "cell_type": "code",
   "execution_count": null,
   "metadata": {},
   "outputs": [],
   "source": [
    "sum_split_first = (\n",
    "    Forall(f,\n",
    "        Forall((a, b),\n",
    "               Equals(Sum(x, fx, domain=Interval(a, b)),\n",
    "                      Add(fa, Sum(x, fx, domain=Interval(Add(a, one), b)))),\n",
    "        domain=Integer,\n",
    "        conditions=[Less(a, b)])\n",
    "      ))"
   ]
  },
  {
   "cell_type": "markdown",
   "metadata": {},
   "source": [
    "#### Index shifting"
   ]
  },
  {
   "cell_type": "code",
   "execution_count": null,
   "metadata": {},
   "outputs": [],
   "source": [
    "index_shift = (\n",
    "    Forall(f,\n",
    "           Forall((a, b, c),\n",
    "                  Equals(Sum(x, Operation(f, x), domain=Interval(a, b)),\n",
    "                         Sum(x, Operation(f, subtract(x, c)),\n",
    "                             domain=Interval(Add(a, c), Add(b, c)))),\n",
    "                  domain=Integer)\n",
    "    ))"
   ]
  },
  {
   "cell_type": "code",
   "execution_count": null,
   "metadata": {},
   "outputs": [],
   "source": [
    "sum_zero_and_one = (\n",
    "    Forall(f,\n",
    "           Equals(Sum(n, Operation(f, n), domain=Interval(zero, one)),\n",
    "                  Add(Operation(f, zero), Operation(f, one)))\n",
    "    ))"
   ]
  },
  {
   "cell_type": "markdown",
   "metadata": {},
   "source": [
    "#### Some specific summation formulas"
   ]
  },
  {
   "cell_type": "code",
   "execution_count": null,
   "metadata": {},
   "outputs": [],
   "source": [
    "inf_geom_sum = Forall(x, Equals(Sum(m,Exp(x,m),\n",
    "                                  domain=Interval(zero,infinity)), \n",
    "                              frac(one,subtract(one,x))),\n",
    "                    domain=Complex)"
   ]
  },
  {
   "cell_type": "code",
   "execution_count": null,
   "metadata": {},
   "outputs": [],
   "source": [
    "fin_geom_sum = (\n",
    "    Forall([x, k, l],\n",
    "           Equals(Sum(m, Exp(x, m), domain=Interval(k, l)),\n",
    "                  frac(subtract(Exp(x, Add(l, one)), Exp(x, k)),\n",
    "                       subtract(x, one))),\n",
    "           conditions=[InSet(k, Integer), InSet(l, Integer),\n",
    "                       InSet(x, Complex), Less(k, l)]))"
   ]
  },
  {
   "cell_type": "code",
   "execution_count": null,
   "metadata": {},
   "outputs": [],
   "source": []
  },
  {
   "cell_type": "code",
   "execution_count": null,
   "metadata": {},
   "outputs": [],
   "source": [
    "sum_first_n_int = Forall(n,\n",
    "                       Equals( Sum(i, i, domain=Interval(one, n)),\n",
    "                               frac(Mult(n, Add(n, one)), two) ),\n",
    "                       domain=NaturalPos)"
   ]
  },
  {
   "cell_type": "code",
   "execution_count": null,
   "metadata": {},
   "outputs": [],
   "source": [
    "same_sums = (\n",
    "    Forall((f, g),\n",
    "           Forall((m, n),\n",
    "                  Implies(Forall(k,\n",
    "                                 Equals(Operation(f, k), Operation(g, k)),\n",
    "                                 domain=Interval(m, n)),\n",
    "                          Equals(Sum(l, Operation(f, l), domain=Interval(m, n)),\n",
    "                                 Sum(l, Operation(g, l), domain=Interval(m, n)))),\n",
    "                  domain=Integer)))"
   ]
  },
  {
   "cell_type": "code",
   "execution_count": null,
   "metadata": {},
   "outputs": [],
   "source": [
    "# Could also make such a theorem to apply whenever addition is\n",
    "# commutative, not just for the Complex numbers.\n",
    "equiv_sums = (\n",
    "    Forall((f, g, R, S),\n",
    "           Implies(Forall(a, InSet(fa, Complex), domain=R),\n",
    "                   Equals(Sum(x, fx, domain=R),\n",
    "                          Sum(y, Operation(f, gy), domain=S))),\n",
    "           conditions=[Equals(SetOfAll(y, gy, domain=S), R)]))"
   ]
  },
  {
   "cell_type": "code",
   "execution_count": null,
   "metadata": {},
   "outputs": [],
   "source": [
    "bounded_sum = Forall((S, f, g), Implies(Forall(x, LessEq(\n",
    "    fx, gx), domain=S), LessEq(Sum(x, fx, domain=S), Sum(x, gx, domain=S))))"
   ]
  },
  {
   "cell_type": "code",
   "execution_count": null,
   "metadata": {},
   "outputs": [],
   "source": [
    "weak_summation_from_summands_bound = Forall(\n",
    "    (a, b, S), Implies(Forall(k, LessEq(ak, bk), domain=S),\n",
    "                       LessEq(Sum(l, al, domain=S),\n",
    "                              Sum(l, bl, domain=S))))"
   ]
  },
  {
   "cell_type": "code",
   "execution_count": null,
   "metadata": {},
   "outputs": [],
   "source": [
    "strong_summation_from_summands_bound = Forall(\n",
    "    (a, b, S), Implies(Forall(k, Less(ak, bk), domain=S),\n",
    "                       Less(Sum(l, al, domain=S),\n",
    "                            Sum(l, bl, domain=S))),\n",
    "                      condition=greater(Card(S), zero))"
   ]
  },
  {
   "cell_type": "code",
   "execution_count": null,
   "metadata": {},
   "outputs": [],
   "source": [
    "%end theorems"
   ]
  },
  {
   "cell_type": "code",
   "execution_count": null,
   "metadata": {},
   "outputs": [],
   "source": []
  }
 ],
 "metadata": {
  "kernelspec": {
   "display_name": "Python 3",
   "language": "python",
   "name": "python3"
  }
 },
 "nbformat": 4,
 "nbformat_minor": 0
}
