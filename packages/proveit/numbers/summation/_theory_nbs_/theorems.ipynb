{
 "cells": [
  {
   "cell_type": "markdown",
   "metadata": {},
   "source": [
    "Theorems (or conjectures) for the theory of <a class=\"ProveItLink\" href=\"theory.ipynb\">proveit.numbers.summation</a>\n",
    "========"
   ]
  },
  {
   "cell_type": "code",
   "execution_count": 1,
   "metadata": {},
   "outputs": [],
   "source": [
    "import proveit\n",
    "# Prepare this notebook for defining the theorems of a theory:\n",
    "%theorems_notebook # Keep this at the top following 'import proveit'.\n",
    "from proveit import (a, b, c, d, f, g, i, j, k, l, m, n, x, y, fa, fx,\n",
    "                     gx, gy, R, S, Q, Qx)\n",
    "from proveit import Function\n",
    "from proveit.logic import Implies, Forall, Equals, InSet, Card, SetOfAll\n",
    "from proveit import Operation\n",
    "from proveit.core_expr_types import x_1_to_m, y_1_to_n, fi, fj, gi, gj\n",
    "from proveit.logic import (Card, Equals, Forall, Implies, InSet, NotEquals,\n",
    "                           SetOfAll, SubsetEq)\n",
    "from proveit.numbers import (Add, Abs, Exp, frac, greater, Integrate, Less, LessEq,\n",
    "                             Mult, Neg, number_ordering, subtract, Sum)\n",
    "from proveit.numbers import ZeroSet, Natural, NaturalPos, Integer, IntervalCC, Real\n",
    "from proveit.numbers import Complex, Interval, zero, one, two, infinity\n",
    "from proveit.numbers.functions import MonDecFuncs\n",
    "from proveit.numbers.summation import al, ak, bl, bk"
   ]
  },
  {
   "cell_type": "code",
   "execution_count": 2,
   "metadata": {},
   "outputs": [
    {
     "name": "stdout",
     "output_type": "stream",
     "text": [
      "Defining theorems for theory 'proveit.numbers.summation'\n",
      "Subsequent end-of-cell assignments will define theorems\n",
      "'%end theorems' will finalize the definitions\n"
     ]
    }
   ],
   "source": [
    "%begin theorems"
   ]
  },
  {
   "cell_type": "code",
   "execution_count": 3,
   "metadata": {},
   "outputs": [
    {
     "data": {
      "text/html": [
       "<strong id=\"distributive_summation\"><a class=\"ProveItLink\" href=\"proofs/distributive_summation/thm_proof.ipynb\">distributive_summation</a> (conjecture without proof):<br></strong> <a class=\"ProveItLink\" href=\"../__pv_it/theorems/b5427a97b2b8ac98c87a6412455d730ef0f9af3a0/theorem_expr.ipynb\"><img src=\"data:image/png;base64,iVBORw0KGgoAAAANSUhEUgAAAk0AAABMBAMAAACCF57nAAAAMFBMVEX///8AAAAAAAAAAAAAAAAA\n",
       "AAAAAAAAAAAAAAAAAAAAAAAAAAAAAAAAAAAAAAAAAAAv3aB7AAAAD3RSTlMAq1RmmUTNIjK7EInv\n",
       "3XZ/CtNrAAAACXBIWXMAAA7EAAAOxAGVKw4bAAALXklEQVR42sVcbWwcRxme+77bO3+gIGhQFbsC\n",
       "Kj4KNrhAU6nYFYEmQqkt8aNIQG0aGgRSZTf5VT7ioxK/mmKLKpQLqDmpFahtlDoRVCISygGqgEBr\n",
       "8yVVtMbnYilClWLHsZvEDll2dnbendmZnZ3Zg+GV9u71ee55dp+ZeeedDxsh0cqu6/YilSWXCK04\n",
       "Rr0HUVor/V2TgrMHjaBFp8t7yvBNosL20NCYWqfEEqHdTZ18b2qd0Gk9Cs40+U7HOrmhob7wTaLC\n",
       "lSTs5BJg2fPUu62ZXqfaoBYFZ5p8AC06CA1zb/9LnU5SUuc36WVChSs6FJzp8gG06NjU6R3UyUx0\n",
       "oBPaqUPBmTbfznjHnk7lTerNjHWi03S/BgVn2nwALTr2dCpCrR7sRCZUWdCg4OygMbTo2NNpgNZq\n",
       "Fmr9rnYKnco3kin44A58uX9oQouOPZ0eglqHOqql6oA/TqbgW1nYAF/ShRYdWzqFNTMDrWg6Vccb\n",
       "6DdraSFfaU0XWnRs6ZTZol4fZDO7S2+m0KlnIpGCs5AvN3tkTg9adGzp9MIszWauwWe7Dp2cMtcp\n",
       "czWJgs+eQr7MhQ/8Vg9adGzpNEwbcG4dPnulv5wm09xOouCM4au9gep60KJjS6cTtPVXoHeUNvam\n",
       "ClDXkyj4wT7sjdN76rrQgmNJJ+ff0DsWwnDxpVIanU7UEyj43hgOd7sLC1Oa0IJjSaccdJZhCKWZ\n",
       "9uPVNDqtziVQ8L0xLL2rvDCnCS04lnTKQLLXB0lTZSpzRxqdZiYSKPjhLkzSnkQ76prQgmNJpxqk\n",
       "LvOoU+vZSqDgbD4VtOBY0gmiREwUMbHiZlIgSo5aSdCCY0mnAZrbZK91rFP+hpqCn91dSwUtOJZ0\n",
       "GqVxMb/dsU65a2oK/sm3U0ELjiWdJmkOWFzvWKfydTUF35PWU0ELjiWd5ulAU7vasU6Oq6bgo/vV\n",
       "VNCCY0knt8mNH0WXMeNVKLeupJCMYNp8AB117OhUgiYw7Y/eWTeo5p/ef7PbMtVpqV9JwZkhH0BH\n",
       "HTs6ZWF0HiCjd184XN9lHLEm20oKfhQ04wPoqGNHp+63YGZA8tsuZhd5n6lOfXNKCn4mYsYH0FHH\n",
       "jk5VGMrPkSyn7F4Oh25/cho/JZ6iL3QSO9qrpOAslk+E56Cjjh2dMpegwgL+VTe8W3938o3YtugH\n",
       "iPuDy3/2CSUF30Di+ER4DjrqhDr5gO8WVMj4nX9QoZO6BJnybsDKxUjwictPM7KSvvTZs/j1g961\n",
       "gro9/O6A49yCkoJfKYnhk8Bz0FEn1OnT+P2rggp5PN8uTil0Upcg2R48xGRw3848/1w/kfSkm36N\n",
       "C+L6fA2hryNy4bbRUlLwgTmGTwbPQkedUKfv4CAxK6hQxu3sEVW/U5cgYRRmD0u03Yy73Oj+KUmK\n",
       "+N7jOJoENX17cOGbXVNS8AN9DJ8MnoWOOqFORS9Pq/aL0QcrfUYZn5QlyD3BQ8zT+6663OESSRMZ\n",
       "9xPHGoVokitOp5pcpzg+GbyeTjlP2aJEhSHvmlDqpCxB7gKm+POQ+0yyA3lW8v1f+q+30n41SC6c\n",
       "E60pKXid5HxSeBY66jDj3cuLi3+QqFBbXHx9TqmTsgR5CBiV5yHen3SZ7+Q937n4rseYZvmRl9/u\n",
       "R1vvFyvel6q95IrViVBEQOL4pPCaOu1F6LhEhXwdVZpKnWiJevw6Iejkwn3DXIJWZx4tt/czXyIN\n",
       "5ID3DAWvV+YmyIV7TPAM+xex/YmjiILE8EnhGWjBYXR6GJWwqM6eQU4F78OHOYJ/3X2hLS3xKmLO\n",
       "VmR+/7MfjYBOMFdgouno9VD+Lu/jT6Dh5g5mwkYe688IPZr3HiLbIpdnM7KF34AiAhLHJ4VnoaMO\n",
       "o1OlWcUjfOVj0C6cO/HrcfRz+sH3dh5Dz74TvX8utoR/tqK83BjrmqqegvvK3Um9IUYbZuaOv1ZH\n",
       "nyGYJJBkSUW+hFCz5hUsr5HLs6dluVpAEQGJ45PCs9BR5zCCt2zbD+M9zUi2/WEI0nm8MXm2jXJz\n",
       "cSXI2Yo9ntI59OjhsLJhSdsNtz9KzMyVHF15hfzwVzJALdAHQQPeLeHOUVC1J0rBgcTxSeE12xOa\n",
       "+CRW6+YzEZ2KOU/v7pUj96B/4oq6YyycDrElnBXcxPHZiiC5HRlByn7XzWz2436Hj0M+xyTYvbRj\n",
       "oC873n0tkIt5Bj4+BRQ8SByfFF5XpzN+Uro7Onur3urpfSEz+4CDs9DsoSkkLZH3x3Z8tuJZ0hEO\n",
       "1dU6jTNxv9JGzrFMCzFDUo30kqe8Gtis4t1jcuFbX4uNT1GQOD4pPAsddVidvuVLvCeqQulXeO5Y\n",
       "adcLuJ3knm4iaYnnqrj94LMVn/N/daqqzgvK7DqQNyxnrz7TKjB57jTpMadx7DhMMof8HD8WiXlB\n",
       "FCSOTwqvOd6hjC/4E8JqwE1+fU2h3Ncaje+Xv1tH8hJ4bPfPVny80Wj0o7mzYQeQ5k9sVC0vIOfe\n",
       "9ns+yq6wkbfHvWuH96WuMXKpdYqCxPFJ4XV1IvY7+arJUTRV9jX34jhqykp4SpKzFY/5ceJ9g+gs\n",
       "hB/QaQnu+yvcbb8qPHjwtwVdQbV8O7jidAop+PldDJ8M3kgnZ0umU6n1Ihohaeg370HVtlzJ58nZ\n",
       "Cj/prOZRAZYyijeEhdUKP+W+PbqM2/tAMN6PhBPlYLI8IF0vuKFeyOX5pPAsdNQRdCq3pO3p3i9c\n",
       "bKJHsPjOi4290ha3jI72+2crSj/E84K3vfkDWHeswCT1BA2y+8Mwh+NJJbIu03WcphpPkoqaDVcz\n",
       "hqXrT/J5cAyfDJ6DjjqCTrmR+NVK5xeNY/HrmQfIE3v2fKPBH+XNwOJPXwCfCwfpHP6WE9n1zq1Q\n",
       "4cjoiXWkWq5K1zPl608xfDJ4DjrqRHWq3FJPt+5b/HwLFeLmgXlYlKXrzswgfZv/eiSOouT3nAvB\n",
       "xax5x1FwFssnwnPQUSeqU/ViyvXx/ErTy8F19xFK4SD9zIbpfsvoiPE+gi4fQEcdO/sIOVj7GZ7g\n",
       "B+nSLa7xTvqJtpKCM0M+gI46dnQqwNGJcTJMTB707aHXXdddMNVJeuKiID+dYcgH0FHn/7Nvnmf3\n",
       "+wdNdZKeuFDum2vzAXTUsXUOgw4vPVdQxyY/ceFKd3wM+QA66ljSaYnmCV2bHctUuq6m4POwzVTQ\n",
       "gmNJpz7a2DOXO9ap8Jaagk+rLqeCFhxLOq3SYbZ7o2OdurfVFHzhjVTQgmNJp/EJdWMwscy6mkKn\n",
       "8SVBC46tc9F0+k3P8Tlh1K0b6tS1pabgp1pGfAAtOJZ06oJyS+SGwyUHyZJKguatBAo+vJvwAbTg\n",
       "WNKpCuH03GCn/W6gN4GCn7gMpoEWHEs6FWCWOt7bqU59/QkUfNjqTQMtOLb+/g7+zIT8GUphGQLI\n",
       "Sr9pOm70uRHffKxjS6dRGj3z/jT0VE8z3/DsiWCbxsDKl5Io+PUWAz6AFh1bOo3TdUXyl6Tf+BD9\n",
       "BdmmMclx1pMo+O5owAfQomNLpxoMUn/0X5+C3xQNA3uxlUjBmQEfQIuOLZ26YZ61iudhzlY96Af+\n",
       "No2JzcwlUvB5uj4fQIuOtf+HAVGlBw9A2Qlo/UdNh7tmIgW/YqDPB9CiY02nc5SxijNcZxfU6rKZ\n",
       "TM6lZAo+r9LmA2jRsafTC7QFO5Fp7AHDMH4lmYJ/em0+gBYdezp1w6xsla12vE1jZLURDQo+QOny\n",
       "AbToWPx/Yq/BRIytdrxNY2SrTQ0KfuKnywfQomNRpwEaIbKdLP06l3UoONPlA2jRsalTHnYn93Wg\n",
       "U2ZWi4KzfYbQomNTJ/QX6AgdLBl8salFwXe8QTNo0UnS6b/6/1iPUtby+fQ6/U2Pgr/J82bQgpP0\n",
       "/1idoaT/tppcgplpQfS4L314GtOk4Ow+I2jRyXlPSd/+Aw7CGci1AtjKAAAAAElFTkSuQmCC\n",
       "\" style=\"display:inline;vertical-align:middle;\" /></a><br>"
      ],
      "text/plain": [
       "<IPython.core.display.HTML object>"
      ]
     },
     "metadata": {},
     "output_type": "display_data"
    }
   ],
   "source": [
    "distributive_summation = (\n",
    "    Forall(\n",
    "        f,\n",
    "    Forall(\n",
    "        x,\n",
    "    Forall(\n",
    "    (j, k),\n",
    "    Equals(Sum(i, Mult(x, fi), domain=Interval(j, k)),\n",
    "           Mult(x, Sum(i, fi, domain=Interval(j, k)))),\n",
    "    domain=Integer),\n",
    "    domain=Complex)))"
   ]
  },
  {
   "cell_type": "code",
   "execution_count": 4,
   "metadata": {},
   "outputs": [
    {
     "data": {
      "text/html": [
       "<strong id=\"distributive_summation_spec\"><a class=\"ProveItLink\" href=\"proofs/distributive_summation_spec/thm_proof.ipynb\">distributive_summation_spec</a> (conjecture without proof):<br></strong> <a class=\"ProveItLink\" href=\"../__pv_it/theorems/8378fbcfbcd8d53b5bb9b70e75922810d011064e0/theorem_expr.ipynb\"><img src=\"data:image/png;base64,iVBORw0KGgoAAAANSUhEUgAAAuoAAABMBAMAAADJk49PAAAAMFBMVEX///8AAAAAAAAAAAAAAAAA\n",
       "AAAAAAAAAAAAAAAAAAAAAAAAAAAAAAAAAAAAAAAAAAAv3aB7AAAAD3RSTlMAq1RmmUTNIjK7EInv\n",
       "3XZ/CtNrAAAACXBIWXMAAA7EAAAOxAGVKw4bAAANXUlEQVR42sVdbYxcVRl+53vmzu7soEYpadxp\n",
       "VKIB2cFFFBK7QwpCQ6BD/OEXYScgGI3QAfxDBDpo/GGo7miDuPWjNwFRPtKdYm1ijXQAiVKFDigR\n",
       "haZT29gApt2PbrfdKb3ec8+5Z+455547F/ae45u8u0+n98z7zHPPfc97zj13FkBiWcuyihBkg4/o\n",
       "W7rKA0WW+Vc4HqzdHFn8e0wpGLb1sn8dsKxZuaa98fFghQYf0bfLBKDKdoTjwViyGFn4fFEKEuPj\n",
       "o/av8fELA1RfGhRg8BHU4nt5oMyGymF4sHa+GV38Z+UAYALLr0n1J8o8UGappTA8GDOejTD+ZF0K\n",
       "dKv+fgGos1VheDAWq0UYPtaUAs2qZxd5oNA2lQbzYG0qyhE+My8FmlVP13ig0HKdwTxYuyXS+D+X\n",
       "A72qj1V5YNuehhrVs2cG82CH2MVISU11pUCv6rcKAGUCVZ39Z4N5sFdAJ1JSubYUaFWd9j6mG76h\n",
       "SvWx0ju7CvpdMRJS8Xkp0Kp6bJkHAI+vvU2V6iO1QTxYGzWjJXVCDnSqPtPkARj/yJ5UpXrs5CAe\n",
       "bLV+KmJSow0p0Kn6RIkHkKxkZ5XNk3qDeDCWmI+Y1GRLCnSqvs3kAQxVC01ltePpQTzY0W85YlIj\n",
       "bSnQqLrxNg/si72ee9NUpfq2RjAPLu90IiaVOykFGlVP9Hhgd6v61HeUqX6sFcyDyzutiEkVelKg\n",
       "UfXYIg/s3Lvugt8oyzBTtWAe3OBXjZhU9oQUaFR9aJYHim1kOZgHa/sij2+ZMqBRdZo4Zzp6VE8v\n",
       "DkjgIbL9SmxjVQY0qj7W5IFiS54J5sFOJU9FHn9DVwY0qr6hxQPFljgVzIM9Rb3I4080ZUCj6htL\n",
       "PFBs2dPBPNh0NB/9aN6WAY2q72vwQLEZVjAPdoyNfmViZlYGNKrOjeRpy2NdJbJbjUAePgVPpKRG\n",
       "TsqAPtUzFgviFqHwqxtWW20lqh8oBfFgbdNs5KSG52VAn+rxtzkw2q/VPjOvRPWN3SAeXGXTiZxU\n",
       "+owM6FO9cIIDw54dY+uVqD7aCuLBLR/UIicV68mAPtXzpziQtRb6dZuzVyRD3NfwbhL5IZn+Ye7G\n",
       "kw3FIB6s7WkGkBJDhOGXnJMBfarH5nhwzOrzd7YF/Zu476WCc3Sqi1000vAG4o6StSAe3HVRDCAl\n",
       "hgjDL+9eVQKgqjtBP+SvaczJh+UA1WWtPZY7LgCLnZvHW9h97Tz043smHLJ/HWLnN783SWPIboWC\n",
       "TbNAqO7pBPFgbVtFTsoLSQiPXb1bwi/vjhECoKpfgX5/1V/TJFo+SNcDVJe19o4tx3lg7GMFeIS4\n",
       "b+3tdNv/2K1N7H3bsbnkNizYR30dsKN+2w7iwY28FTkpL3RD9DPW2c9I+BXcWZoAqOr3oYTU9Nc0\n",
       "i7ryXUEZRtbaW0f1eACTFlParSPuO2F3+1eigr1vz3zR9Da8iDj6cLNBPLgqsyUnxcOLmOnVR7ZK\n",
       "+CXcGlUAVHV0fvIlSdZGJ/fJINVlrb3sejyAvMXsrW0T921N0V7irqWWaWN8pIldpvqQv+r7WnJS\n",
       "PBzyXmuTpoxfCNUT9slKy8bKcdtrQarLWns/7Rke2Je1t4qL17D72rkU3UScnrqO25hkkDJ2VIPP\n",
       "BvHgVO9KSQkw7U3sf5Dyi7tiC6Bfw7ywf/9fZKoP7d//eiuwhpG09n7aBR4APGF53jXZwm4cPed+\n",
       "z4V13tE70ZCFcudRlOl2APNIQGL1SxXSGLYfBLw7n+zQ91cdh+eiwL6ylBTEnzpS5kO4duEL7wMJ\n",
       "vzCqXwWwVaZpsgE5M1B1SWvvqsQCDzwTcG8nTcLB7jX9rlzLPE96T9LZeH8xcfq+Xdr9KuhRgUQN\n",
       "O7r4ierX7Ef2EhOejQJglaWkYBfc3eRDUDtDezjPL+WKLYC+6rdDBp0q4/KyqKn9P7czr75x2ZEu\n",
       "cwRp7RbKeNkp9vzOn9KBb2SeB2gec7p/ModL2D8FE+Z7+zN10/lcL9t+BFDL84nTBZSG27hQH7F/\n",
       "xtvY0cKq3y08Ep6NYqtekpKKLzunlg1BZ074FPnxy7rrbALoq54z86hAzH2SXagzLkU/t8Jv3Rd+\n",
       "sOoBePQD8LEWcwRp7SphBzg4XR2u57fTD5C4lAfOBLw/4xmqYm/AZ/H7Ovn1aXxWn7PdjCMVp4jD\n",
       "DO5xY7SxgU4RoB1EZBfRQ35TDBLejULeBcZNOakiTNX5EIQexHEoH35gjLsK8eBOfMJsevGuMxyO\n",
       "mH4zzwvoYJq0cwns7kKixRxBWruXAsDl9slLwLfv7PexRR6gwJ6lKFd1gBfxC39Hbz4PhTb5VJBE\n",
       "A+f1xGG44hnNcEOUMlJt7NK+7obHUci7gFWVkpoqwX+FEJieO5j78QvV16G2Fqm32hli1h7qMqqn\n",
       "E/a/C4fvvdKZdxmfrnpWI/ARTuu80wxtziTzt0oFAjNM4U8gZBj0SNFjtGcuQa5IrmAYRmf648Rd\n",
       "+yFtDPAa+gQd7B7V2bxOwnujsBmGJzVRd4KwIehUt0gzDM8vlOpPOlOuS5y4lVyR0TR/rn34kVjz\n",
       "RgNNheJ31IWrwWn9SrZNNmc+it/3jkaw6pOedJbrOm48EGsDvZBsZjPoBP7CSVxVQvAST/gXaWPI\n",
       "oG6caGJHqs9K8zobhVWdJzUBxoIQgl4MuHv68cu6g6gAPKrf7Qh9udPcpCUp1jTzNFoMynUbKfR6\n",
       "4iFTUB21TjaNBtmc+Tnnv7bngyvHrHcJm5R88ZMPt1NUAmMJ73DeQcleTdxNB4u0Mf4YbgHqqWF8\n",
       "Kkc2ClM5CqRm6s7eazYEHcJwZvLjF6aGgZhzireAU/mM1NkVxbOdblKHxNemp3+U/W5DUB21xpnP\n",
       "2Zx58fT0dAlau/tXsW+97l09zHYcN67tfvgT/Veve8up776PfjiP1b1C3K3zZmlj/JTbcBV7sOpc\n",
       "FKZe50mlPrizI4SgNRb+5ccvlOrY/ox+7ITNfuu4m6GedU6zPZqCKR6BT5WzOfN+J8hHy7CbZsgF\n",
       "HgB8hdHjVeKcOQcNN0gyyXSw02lMsd/YudrvIS5T3ROeWYcpy0lBuiKEcI08pe3HL7zqxjIYLVgD\n",
       "Z4maZtq7oILnQt+6EvJd8Yh0FVqP482ZzqQqn4RUR34/C3LsetlF/MKSbfeZeAd/ogLvSSyTZaZk\n",
       "vyJcky65jWOlCZNdQxtrB91X49YcuzJS2XNgqiGEIFda8Ua66CXwi7tLjQLgVbeHw+wzkDx6m09f\n",
       "v/bLR024CxEwdk1f5XNXI7Nurbm55GzOzPwEzZbPeuvHdO6U6/EArukPD0i7XB2711abj2A5HszO\n",
       "O0XEXezy5z/dldhcfar0Mln5dFc/J3zX1/1Xv7a1ZKRie43bhBDuhbPVrah9+CXcClQAvOpokTLu\n",
       "Jhq/O0XG76YfCLyXRPre49PT7POFseM8SPQrtARqheojg1suvu6tKzB4FK510IPEia290uXVTB6u\n",
       "cqfumO+9JP/19dGKjJSd1qtCCPeQwy724SfcKaaAUz23xu7KX8p2CrV3ewcvJVuvEe8ieio0PIW+\n",
       "l7ifZXCXL9Sxi0YaHiHuLEw0g3iw5t5j9SUlhgjDT7hTTAGnev4oqhAzW3aa71b1hOwwIbTnCe+H\n",
       "j4MK21AJ4sEaOUNRkkoelwF9d6sTJzhAK7TMGkvNg3jbukE8WJuoRU4qd0YG9KmeOs2Bjbc4duvr\n",
       "lmWp2dHuu4805b/ndLIdOSm6YVUA/78dd0nvlkI1Xxfju480cMddpKTohlUB6NxdWueBavPfR+of\n",
       "fmQp8vD0CR0BaFT9QJUHii1zOpgHO2WN/itrNrVlQKPqo2UeKLbUiWAebBm/EHn8yZoMaFT9WIUH\n",
       "iq3QC+bBHhx98UqfdxWARtXFU6/YYvPBPMJcGCux0ZIM6HzyUXhgpKFW9eHlYB7sSocVOakDpgxo\n",
       "VH14iQevqlV9ph3Mg9OoHjEp47QUaFQ9v8ADxTZWDObBLQlEPcbH56RAo+qpOR4ottFSMA8u3Rcj\n",
       "Dk+HFRHo/H6YfSwwDlNVnlqrZGr6jl7HXy/gIZU/1F3Z1HRWCnSqvqHBgGS8lpy2bQsMVzcrED07\n",
       "N4gHY8mThBSsR6zKeMPDCmyqKAU6Vee+iemxvFs4r4dfqyjX5wfxYBNPjyWFNzyspFwvSYFO1Yfa\n",
       "LKC7P55TktbT7UE8WPsrS2popesW35ADnaoXFlkwUicZZkmJ6lOtQTy4vlnFpEiGGVnhGl22JwV6\n",
       "v7t0jgU0md8MeRUljDmQB2MjRYYU2vCwohJmWQr0qr7HZMBB9/Vvjr8ZvejG3GAebB2/zJBCGx5W\n",
       "NEcrSoFe1WdaDLhJabVeWBrMgz1NvUhJHatLgV7VC8sekP5CW6nqQ5XBPDidzChJ/VEONP+tgdc8\n",
       "IHnYVKr6MTMED3aBphUhKaaH8edar+pjdR4oM2MhDA924STKWmqmLAW6VU82eaDMYs0wPFiL8ps7\n",
       "VsmBbtXhbwJQZdeboXiwKSa6ZcfUXikIpXqkfxtss8kDVfZKOB7sJ4nurzjRLe4+IMTfBjPGB/3l\n",
       "r8FHeLpAnQeq0no1HA/WPh9Z/F/KQcLWC9DfBhsv/w/9O/YWTryZ6AAAAABJRU5ErkJggg==\n",
       "\" style=\"display:inline;vertical-align:middle;\" /></a><br>"
      ],
      "text/plain": [
       "<IPython.core.display.HTML object>"
      ]
     },
     "metadata": {},
     "output_type": "display_data"
    }
   ],
   "source": [
    "distributive_summation_spec = (\n",
    "    Forall(\n",
    "        (f, g),\n",
    "    Forall(\n",
    "        (x),\n",
    "    Forall(\n",
    "    (c, d),\n",
    "    Equals(Sum(j, Mult(Mult(x, gj), fj), domain=Interval(c, d)),\n",
    "           Mult(x, Sum(j, Mult(gj, fj), domain=Interval(c, d)))),\n",
    "    domain=Integer),\n",
    "    domain=Complex)))"
   ]
  },
  {
   "cell_type": "markdown",
   "metadata": {},
   "source": [
    "#### Several basic closure theorems: if we sum up terms each of which belongs to set S, we generally end up with a sum in set S as well."
   ]
  },
  {
   "cell_type": "code",
   "execution_count": 5,
   "metadata": {},
   "outputs": [
    {
     "data": {
      "text/html": [
       "<strong id=\"summation_zero_closure\"><a class=\"ProveItLink\" href=\"proofs/summation_zero_closure/thm_proof.ipynb\">summation_zero_closure</a> (conjecture without proof):<br></strong> <a class=\"ProveItLink\" href=\"../__pv_it/theorems/3b292e0bbd9ba973b900700674156c6f754147ae0/theorem_expr.ipynb\"><img src=\"data:image/png;base64,iVBORw0KGgoAAAANSUhEUgAAAioAAABLCAMAAABp2VxXAAAAPFBMVEX///8AAAAAAAAAAAAAAAAA\n",
       "AAAAAAAAAAAAAAAAAAAAAAAAAAAAAAAAAAAAAAAAAAAAAAAAAAAAAAAAAAAo1xBWAAAAE3RSTlMA\n",
       "q1RmmUTNIjK7EInv3XZQQDB8RZsp1gAAAAlwSFlzAAAOxAAADsQBlSsOGwAACjBJREFUeNrtndva\n",
       "nKgShgVBEYQ1a7j/ex27bRWoQkD804nEg5k8FYJ++ApVxaa7rvoaeNfutYkX9n2RrzyEXm9eW82o\n",
       "ZdJSdTHSMCm7eGFVv1zf+Wped+5JNSqdImlLxUVn2S4ph3hhxy8/S1+PSjf3acvlS95Y1x93OeKf\n",
       "gQoHKvh9usjQ8PDjiH8GKh2Z0paLl7AN+7Su+IegMlqatFwNAFruVFzxD0Glm3Tacs2ta7lT8cQ/\n",
       "BRVhTdJy7bvS7ZLii38KKt00py23INiUp2KeiAoFvgm9w1shtuGcii/+Mah0dkhbytMKdmqXlED8\n",
       "c1AhViQtFx6OtotKIP45qHCrkpZyD6jl8ScQ/xxUOjunLcVdcMPxTyj+QahMYLyZakegvr5f+pPH\n",
       "H/VUVAx4r6b2TZOW82+h+AehIkDEI2pjoNm2SwoQ/yBUOgt8UFvnlf51VZ6KygCGi6FuAKEtZ1WA\n",
       "+CehwkASntWl5VnLXi0Q/yRUetAJ9HXdwtByAg6IfxIqAuRRRF1mZa5P9/7JXq14LioSLP6XddsB\n",
       "bMu5WiA+ispgI5f5bVFZ1ImkpeAabcOxMhQfRYXaoJnlyA2ZrZ1/X1Q08C10jbdBg3CRaK3HP/bd\n",
       "m+Xp6XXxZwMQsVhWodd3u3o3ojKALm+o6QRNkMH7+UW2Y555vFhn318Xf+qraHzTIZvq22C8gork\n",
       "XpJkpCOkWyUtBZcK4qcfR8XQPDMv4d8pXIKKAsHjCSqvPapY3WysbgNXay4qZuC+nyXIJMNUAOkQ\n",
       "y2GkRZu/SFDdG5WrleX0+Q7WTCmJmLe2yLi1UmZ9U0fhElQIaMuzCMgsrGB/m3fDU7GO1kxU6OaQ\n",
       "703QdRMJv4ShQyxs742GIsonyyAqVyvL6DWdh1dEzBSaj0dJhmbD8s/l6lrthUtQCcUnguXJXp8E\n",
       "SYg9tGaiojRogt12gKE7xCI2osaysXPAULlaWca35bzImfKty2TY++1ZygN8t4SavMIlqAxlqMgl\n",
       "4GEXhSfEHlrLUHGbAKBiQHi2WjYuVZlHrgNHZ/AgV3dncp1n505OA484Uzvu1w730xVvhSOoTDJD\n",
       "fCoFx5ch6FqLJMXuWjFUzLREdnpAUPGaIESlB7mA1bI1UaFfOqOoXKwsPcIOsAsNzO6zJDqI9RMX\n",
       "69vbCkdQEVOG+GS2Vll77cSIpNhdK0SFD0bGKvSaIBeVbn6Rp2dViorBIqBrlWX4dvtDk1kTFpql\n",
       "MUQK9enMEqeCyK2derdwbADqVVp8OrE/2CvLg1CxEa0AlRH12VYsgibQoetrO9TCRLSjPUWlx1C5\n",
       "VlnaOXBu5rym3bwIN8R07DMQ72+FaefaHam1T/js+doKu6h4/wxxM2YQ/aZQebkrV74fRGxEK0AF\n",
       "jyzYAJvAzJmojGT7zyqKue6TUcagCQCLoxJU5j/lyQDj3ALLizip1NHJk2/mfnw1lezI+kz0PGm+\n",
       "t5NyC8fdWjrQhPiM6UKQ4M9LuUGxMa0QFbTC9UgYvwnC0w44QGWzvPoAtYe5U8/FMdqN7+pHDBWK\n",
       "Pphfme8hBj7XQaF/MBaC1MydNodmsX8un/eWGIDUKt+4hU8iIDnM/FR8zswyu+KuIGJjWkNUxLx1\n",
       "i0e7j+Rzdp3fBJ0k3tcgkNnQ1UKNi6BTin7GMCwHbe3/UFT8yuKouBRKvxfi6gwVd2B13+B89EZ8\n",
       "znFrP3txebJXGQc1novvun/s/9MxY/lESkQspvXfABWJ+eOCfXwDrwk65R/9+A9AZbcMXb/dm5J5\n",
       "D3T33g+Lw2K9ilvZCSoehYyncmjOAOSmFh3z+yQqKb3KI75KN60Zlc+HohO+ioaD/pVeZWnO8jwc\n",
       "LhbVCl6SPqvRb4KAjHiv0inqJP2OF7qfX6XmAlSOyl7ji+voTMgY/Baog+IwKzMZ7IvazHLiHXk9\n",
       "owIa8MBiPhy8vXCsV+FTWnwWKmYuz2BDsVGtABVjzlJwbhOE71cgayzs5usc8LLDU9hD3oFkR0BO\n",
       "ZWZ8HSTmDIJOm3sUjkNQnDKY3j4g48BMrZBsqYjTMLSOjQWvrPYsvMIRVMYhI/zLQYVf8mqB2KhW\n",
       "2PUP9GRIc5sgDJbjbu3y5g4V09EI2/mJaDNEUdkr698fgkAHII/C9bt1isMPWWjM0dvMki1fEGX9\n",
       "1jQ6tRVBMmW2x9wKx7K14h5UxJV0LSI2qhWiIsnEZQwVtwlKUHFbwaFm+bhf99I96qT16dDMbz8X\n",
       "FZdCSoLiSIZUb4/ln6issRc5lvgEe+FYr9JliM/Jq1xZG5QWe2jFHEqupkhivzuz5aEiV/dFqjU8\n",
       "6aUReJp8wLO1QbzmNbUDgEfhRsZeHA5An2mxBSq/V0VnBlnJAoi9cNl0YXG2tny6MEvsobVwZvnM\n",
       "RsF0IUXWd4r587/XQ46MGEIk+mVN6ByQl+xZYjAvSeK6tR6FOiiOOWTT6yH0FE7ET/DZima1j8Jl\n",
       "ixAK54CmCzPtOWIdrZmomDmWwXWYBLFaj0RvO7kbz5x1Eus7CbYIwX8Aw5VxJ6zc5vIofDeBUxx5\n",
       "/2uaoAeZYyR7MJUEGkfhsqVNRYsQluAbS74lnJccsY7WTFSQc2jBieZwPSi0THTzdHZ/aLQE1cmw\n",
       "VXCJ1xIOgBuFQc4NTR51Iz7YA7MpIcUpXIIKK1oFt0Sm6CK4cj83FOtqzV0wuXyk3o1HRcIHgetB\n",
       "Ecve9R/tNuDxxIW1tRMAfKPQ/3zYV1b+/9ja2kiYTG/e3XHjin0GOk12eWnW+8mGWlQcCpXTcX3t\n",
       "l1Kuiz9FBT16XFY1/g+jMgGvfarZ3MEDn3hI7wM6+2uJ/vGXXUbrkp8g4ciu3jE/TB4psfbufby3\n",
       "7gOiSUtRIvHv7sIsVAY7uNfC5LoR9e7TaW5EBW5Hr9ugbu3YLitAfBQVFtuz3P++qNx9bJNu+Sg4\n",
       "IP5JJyGMYHgd63ZYE9vw74sB8U9ChQOnndedG2juduH/pAuIfxIqt59Gym3DPxsFxD8JFQLCHVJ3\n",
       "bINsOQQC4p+EigY+rK48dkm3HAKF4uOoVOxT+A4qEviwsvbcINWyXxuKj6NSsU/hO6hQMMFFa3+V\n",
       "ntuGf7c9FJ+JStk+he+gcrur0v09Ob0clcJ9Ct9BBb7W+hfNWj6ONBB/oHLjPoWvoCKQBRbVwwdv\n",
       "+TzsQPyOyp37FL6CigGjjbnhhMN5bheVQPyOyp37FL6CyjCnLVcAbHgayBfv+ir37VP4AioCWTZ8\n",
       "x+DRcgzki3dQuXGfwhdQgT+IfM9PJKuWD0/3xG+o3LxP4ZejIsHXL+/pD2TLjq0nfu9V7t2n8MtR\n",
       "MSDoNzcl5U3L3YorPjtbW7hP4VejMrO05eKlG+5WXPH5qPzUPoVbUIGf/n2dAW15ztARn4/KT+1T\n",
       "uAMVCab15I0TfazhXzB0xMdR+VX7FO5AhUxpS00v3PD88iH+EetVODisjs93+qJibtiz3cWLdRn+\n",
       "d/JMer15fT08baljsWFvZRcv+/f1rY2R76vaU+Gnlv8AsUZ2UUntBkQAAAAASUVORK5CYII=\n",
       "\" style=\"display:inline;vertical-align:middle;\" /></a><br>"
      ],
      "text/plain": [
       "<IPython.core.display.HTML object>"
      ]
     },
     "metadata": {},
     "output_type": "display_data"
    }
   ],
   "source": [
    "summation_zero_closure = Forall(\n",
    "    [f, Q], Implies(Forall(x, Equals(fx, zero), condition=Qx), \n",
    "                    InSet(Sum(x, fx, condition=Qx), domain=ZeroSet)))"
   ]
  },
  {
   "cell_type": "code",
   "execution_count": 6,
   "metadata": {},
   "outputs": [
    {
     "data": {
      "text/html": [
       "<strong id=\"summation_nat_closure\"><a class=\"ProveItLink\" href=\"proofs/summation_nat_closure/thm_proof.ipynb\">summation_nat_closure</a> (conjecture without proof):<br></strong> <a class=\"ProveItLink\" href=\"../__pv_it/theorems/513deef057c2d057451cc2cdc089b79eb366513c0/theorem_expr.ipynb\"><img src=\"data:image/png;base64,iVBORw0KGgoAAAANSUhEUgAAAhwAAABLCAMAAAAMNK4oAAAAPFBMVEX///8AAAAAAAAAAAAAAAAA\n",
       "AAAAAAAAAAAAAAAAAAAAAAAAAAAAAAAAAAAAAAAAAAAAAAAAAAAAAAAAAAAo1xBWAAAAE3RSTlMA\n",
       "q1RmmUTNIjK7EInv3XZQQDB8RZsp1gAAAAlwSFlzAAAOxAAADsQBlSsOGwAACfRJREFUeNrtneu6\n",
       "pCoOhgFBBYE9M9z/vY5V5SEQlIOuWm2z/dHdT7pAP3yFJCAScvnoBWn5WOWP7n3Q37kK8zl7YanB\n",
       "qKTl0sFp02xs8kc3dfPxS0/K69QdLYWDTDRtuXAwrVpmY5c/uuG3L6YrhoPoLm2pPtSNdT3wAPKf\n",
       "CYdAVy3u00H7pgcVIP+ZcBAq05bKY3RNe6NQ/kPhGBxLWmpd9bY7Dij/oXAQadKWOnes7Y7Dk/9U\n",
       "OEZnk5a6J8e0zIYv/6lwEKnTlluga8zjsH8DHAz5GOwOr4O6pnMcvvzHwkFcn7aUB/lOtsxGIP+5\n",
       "cFA3Ji0V18JahiOQ/1w4hJuSlnJPpu1RJZD/XDiI02lLcbfadKwSyn8wHBKNIvLquNJd73uePapM\n",
       "fwscFt1Je/Xe0rYzYKH8B8MxouhkvBqvaNcyG0j+g+EgDnmP7po/+a/L8ffA0aNBoL82LLC2sxxI\n",
       "/pPh4CjVza8lv3nb/iiS/2Q4OvSgd9ce/b7tFBiS/2Q4RpTXGK9lOvT1FOuz/dHx74FDoXXryl0K\n",
       "N1zb+VEk/xiO3h0c9k+BY1YzJi0Fx+CajmSx/GM4mAtaWg3CUu2c/mPgMMhHMFe8BhaEctQYMzz4\n",
       "btv5+lm9/NNhhbpY2N+Zu722ejh61Iv1V/o1G+TQfnwx6ZBnH+rr7bp6+ec+h4m/Ccfl9XYYboGD\n",
       "otCTXglGpyDW+Wk4LMuzixTwyjgp+5fDMGmnBShQAseEQr0zOF6vSsYq58PldoB603CE4vfAnKJQ\n",
       "fbbsRtaVsUYxHLWVZXTjkGM+TSpm/7Re8sySEUE/LrlXoAQOilrzNFqxMx2x/846I5B7rjen5wjE\n",
       "b6z3iP7Zwjd8+iKMpeMYjtrK0rEWvPaJjppF7OupU1EUnZ2j6d2k2itQAkcoPxXKSlc92wDkJvTm\n",
       "wBGKX1EwCI7ZMq5PwFA2APYxOGorSz888L5pJqSK2Ncm4qn2YXKh13gFSuDoC+FQc3DC67QDuQm9\n",
       "WXAE4teeTaO+TgPwpjLX2QQOS+9RPN3sh8NLFyDDEA0Gg1e7rZwDEQMeOTp0lgz93j5LgQM4pMqQ\n",
       "n0yCiXlgqWoUKDehNwJHWvxS0qHIx4EmKfQodRSOysqSHoc3qpi4fb8UeJNFb8ObSwdCR2KnrX2W\n",
       "AgdwjDJDfjpDOjlXtSEBkJvSi+DIEX8KB9EvtoyeSuGwsWilrrK0S7ZfNNWG8sCurKVqnJb+Cm4x\n",
       "MUQ8kLl9yHzDpVjbZylwNKx0U1p+Rvq8dxUraDy5Kb0hHFni1zwdzty9zzgedp6ncHQxOOoqS47w\n",
       "8Fzgtqz2ufUstYQvPgS4BzHH+NU+I5/DOrW0T9cjOLgBR8Rb0Cg0TcLxcjsqHhpIYUJvCEeW+HM4\n",
       "Brr+8dHAoddjJ2uj0biLwxFU5j//J+MGOEUkUQFzlwNIRS/2bng1jCL0c0lMn6dfXu1DOkbY+trf\n",
       "UuDYIWU9S8jPmXhDafSsnBcsktCL4MgRv3pE2EfaPK5pC0JlJ8Z9zHpVNeghBgeLXohfme/ZBb7S\n",
       "zp2/WVLkORWwiZH9db0c7pSx/1OvT78M2ofQuXG1V+AkWlG9Fqfys2ZleYXbAeWm9AZw5Ilfs3Ro\n",
       "HvFjYRZCBn7Flp4nluZ17p8oHH5lx3BA7pTf04jpDA7ooAG73jscsctW8ujheZ107VlFqucY+mk4\n",
       "l0/If9x/M0K84hkLKDel938+HHnil4sP4dgsPenWUzGqtzB069Fi8fNRzwErO4HD446LRBoLDiuS\n",
       "xuzvzYqU8uomQbzmtw8Z7XpFS4FDn8Pgwbuq55hbtDgTBuWm9Ib3KUt8oucgEwNZtr3MtqfRpAvg\n",
       "2Ct7jRrQYZGRkfStxwQ/R1kSCXADj8xiV7Pr/e4kJyRhrjTS3su57RqkLgWOeg4h0/Lz4LC6OHEM\n",
       "5ab0hnBkiV9RQHIWy6B3PPk+4m8BaU+zoxVQmR1e20sBVw6OfJC7d0oG/pxxlEEGWInQztyo+FyP\n",
       "YCjwJaTHmafNtI7bS4EDOIY+I1jLgkPU+KOCZOtFPXyO+IRDSl5pkd0f3RugO5F9CMdWWfcmfYwO\n",
       "Kx53nycT/Bw9qqOJO2gfu+LzI8J4t8o2sD0VlcJ/p7V3Wq5uplfgKEM63gTHWJEi9eSm9CI4csQn\n",
       "4YCqASfzA/yq23RR36pLhk3Eby8IB+SO0eDnOCdptqvy98Q1kRs3BEOtmKSfQT4qcNRzkAz5WXmO\n",
       "iuUzwRbA53ojvmFSfAkc6uOGqOkTSnTKjn0Xz/fZJByj9poW3HKPu5WF7edoWFknl2aM/J4yNsnG\n",
       "S1cLrAXKJt7KM6TFE29IbkJv/WIfhibeWGQR46iXv14XNXBq6RwSx1TL6NwKBFqTqfeSFtAh9bgz\n",
       "wc8jjpR8X4OR4Zy1RNdWPCG8FSibsi+dW5HlE9VY7rneejg6FEZ1kcBqQ3MlVnCiYt0hjU3Z+0Rb\n",
       "MVk48QNbx+PurRj8HLfAErN3KFuLY3lZGhBsBcoW+5RN2c+xcSz9de6EYLnneuvhwKsesUWy1Zvc\n",
       "/JjB0agsHlsJlrgL4bC2chdkvaLJm+FgwA7ttpSNvUAJHLxsJRjpokFsV+6hnumthwOveoxYtg59\n",
       "b6feiJzqKuDYufMfEP5Lq9h/bg3pQRDLbn43oR4OjjpCXrs26XMh/VU4AHcT6Jx+66sURXB0RavP\n",
       "oztGq0vtfy8cEvnX8sqrCSLwZvv0eyuny+ii//ziYY0p+QCEiLxdOhQEsQOjzt39QumV91ZY0lKU\n",
       "uvv3jbdcOHrXw2PG8PM65N0bnNTDgV98vvYqtHNDy3Qg+cdw8KN3Zbs/Bo67t/YxbW8JhuQ/+S37\n",
       "AQ2Sw7UXealr+htNSP6T4RDIvRbXdoyzd/vazzqQ/CfDcftek8I1/SEeJP/JcFAUmtBrOwCotsMV\n",
       "JP/JcBjkfZqLW/OYtsOVUP5JtHJcSWLV/ZfgUMj7VFc3lpna9khD+cdw1K+6/xIcDE0Usatf1hau\n",
       "6W9Rh/Iz4Shadf8lOG53Oci/+1u7CjjKVt1/CQ58I6/fWt72ZpOB/B2O+1bdfweOMbL84PKgINre\n",
       "wziQv8Fx46r778Bh0Rhib9jKTuuW4Qjkb3DcuOr+O3D0Om2pQa7p6RVfPvQ5blt1/w04xshy2DuG\n",
       "hLbjFV8+gOO+VfffgAN/APaeT8JObW9x7clf4bh31f3Pw6HQE67ueeZV2y6pJ3/rOW5ddf/zcFgU\n",
       "gtubUt+27a4Dys/OkJatuv9xODRPWyoP03TXAeXnw/Fjq+5r4MCP930PPGt79g3Iz4fjx1bdV8Ch\n",
       "0ASZunHKjDf9pTcg/xiOr626r4CDyrTlSs/a9NzsLv+R6zkE2qNM6Du9yFE37ZNu8sfPivJfyvyY\n",
       "z9mLi4m05dIhmvY6Nvmqex+/lDP+nLy0E1fi1PJ/+1tzeGmFdJoAAAAASUVORK5CYII=\n",
       "\" style=\"display:inline;vertical-align:middle;\" /></a><br>"
      ],
      "text/plain": [
       "<IPython.core.display.HTML object>"
      ]
     },
     "metadata": {},
     "output_type": "display_data"
    }
   ],
   "source": [
    "summation_nat_closure = Forall(\n",
    "    [f, Q], Implies(Forall(x, InSet(fx, Natural), condition=Qx), \n",
    "                    InSet(Sum(x, fx, condition=Qx), domain=Natural)))"
   ]
  },
  {
   "cell_type": "code",
   "execution_count": 7,
   "metadata": {},
   "outputs": [
    {
     "data": {
      "text/html": [
       "<strong id=\"summation_nat_pos_closure\"><a class=\"ProveItLink\" href=\"proofs/summation_nat_pos_closure/thm_proof.ipynb\">summation_nat_pos_closure</a> (conjecture without proof):<br></strong> <a class=\"ProveItLink\" href=\"../__pv_it/theorems/28b07aa3d330f5d7514e33246f169d3220d9c4490/theorem_expr.ipynb\"><img src=\"data:image/png;base64,iVBORw0KGgoAAAANSUhEUgAAAjoAAABMBAMAAACWggAGAAAAMFBMVEX///8AAAAAAAAAAAAAAAAA\n",
       "AAAAAAAAAAAAAAAAAAAAAAAAAAAAAAAAAAAAAAAAAAAv3aB7AAAAD3RSTlMAq1RmmUTNIjK7EInv\n",
       "3XZ/CtNrAAAACXBIWXMAAA7EAAAOxAGVKw4bAAAKgElEQVR42s2cfWwcRxXA5z73bs93PkDCJErw\n",
       "RURFlQo+MBUiiPiqtpggpbk/UFE/VB9frVQRclVRJKTQHBKqhIjk46OUVC3ZiIqqqNTXVAVBv47y\n",
       "R1CA+hAUaMgpF1TUQqnjjzh2bDfLzuzOzO7cvN2zz93MSD6/bPZ23v72zZs3780aoaD2FaRES5YR\n",
       "Spmmmd/4JbLW1/3P0E6LQkCL59Wgc531k1odHS1v/BKx0dHhgFOe6hL82zWGEnCipzCdpX4vMxbw\n",
       "/wNFUfBt+u/UMJ0niqHQSSyJgm+LVNSg814UCh20pUvwa5NlJeCkFkOic7ggCn7tTkVmrEpIdNIt\n",
       "UfBzhotq0Bkph0QndVkU/J5ZSw06+1FIdNDDXYKP2+mo4XYuh0ZnpCAKcBtWI9qJrIRGZ7AiCnC0\n",
       "c0mNgTVVD41OZFkU4Nh7Xg06Y4XQ6CRWRQGe31bUoHPMCI0OWusSQItWY8rS30bh0TlWEwXwYg0l\n",
       "6MRWQ6RzviEK4JSlxjoishgincmKKEBtWg23MzAbIp3BFVEIGO9XfEJvhUgnuSgK0CpLkXBnpB4i\n",
       "nfhlUYBOXFWDzr5GiHRil0QBMjJFgsEDhRDppNZEAfKGy2rQma6FSEc3RSHIfV/hZhoSOknT1Tqb\n",
       "RweZNVGQt8OzSsDR6EP00ImajmU/dsc2s7mJdM4WRAGYK5yZdHu7ur77uXb9CErWz1ttqT7Rt2V0\n",
       "0DCPNz41v4l0DnREAQiqnWixss47jZbWdXocf3yDTBPSKlLuopRO1lUX3dM/nTij3hAFeXuxvjE6\n",
       "P/OMC+c3bH5pAqYD0slcktJJmQv81sCre7v3oZNm8UNeFIBlVn5jdH7g/se/nN93CCf94tKPDPTc\n",
       "WpnqdRqkE5mT0kHnTc4ELF16u++iI2qBbaLCBQLgA8BivkTpRMiAKfYGR7N9ZPxZPNVEqXnmxG9/\n",
       "P5FH+ix7audAOukLcjpp0y/BIu2+23YELTCUFhduxL/vAvwToxPHi/Vkj745bmv01JGCZ5TdLZy2\n",
       "vfo0Qk2m15QB0UkCdPTpCz5aSLvvpiNogU2yyYVv4YddB+a2BqWTylPH2UMbtPMeL92CH9717PDH\n",
       "hNPeXbdwt9Ceow8fPWpRSRYhOtlVOR00YfrMudLuu+kIWuBzaBxjCUnrGhmgk2lGh5A/0SOdSRK8\n",
       "JexQkkciA3ZMl3uk/TciDO3WKqjFnlq87qWTNtgXIToZ8xSohLx7Tuc/7XZFooVAByuUhCL4DqMz\n",
       "ug7n/JatOhm+Uf6lJLn1xNfoXQ9Fam+69Mo1vXRSzKAHLgN00IGLoBLy7hmdm/8r1wJHebMu4U/t\n",
       "9h8gOkVGZ6DdPtNrGpXsl4ht+3PJ8UH6zNbvWnaXIRPAQWYSQ6ieLnO98MP2jKxPMjoLEJ0nTEgn\n",
       "oHtKR7sb0EKk8xmEHoJWHJxOvOYy9YB21PY+HfrE4uhcZ6+lcMU7AQyhb+unuV6pZUZnbxu3szSm\n",
       "HATpsNWExPlJu6d0+AQjaIG92axLuAdpmKp+A9HszZlxF50Co2Odc48kriQq2j3xsPsL9iKNrOGy\n",
       "1iU+jsaM91jnNb2x0xCKFa5usqtpi6JXvsrpfnAeooP2rUGPTN49owNpgd3miktIGxk8x6SvxZe7\n",
       "uYoO8Xl71ODR4EPoma64MvfCa1W2qOLE/mrbpT0qrGvX0KfJveFnkrIGcvtVRy+0NcK9pt5FR/+q\n",
       "PfnFdtEDu7qmM3B1Lu/+Xud/j2DjrEu0sNpPiy4h2iEgB0ns1LLnDmo7ZU7nw26n7HiKu5B2EulO\n",
       "QJ1oeG3neaYeQi+TE7AOet311NBxncdz2rJI5+CvHNtZBG1HAzPf8u6p7TwOaSHaDqrsxly2nXDM\n",
       "MTYrG1koGeuIdD5Eln/xshjt2XS+h6hp4014P7fRI9Ry65XqcFj41j1+p01dlM/Iyp2E6Mi7p3Sy\n",
       "kBZddE6Q2/oEnW0yTSmdzFWWceVeu2+c0cEP2+oOdzQzbg0xFg7ZW+5etjl2kP6AZbmWYcWIDjPs\n",
       "6j+2ft6oewIUj+3cgoLpTIAJKnn3lE6uA2iBocy6hUNkaNyAP/DUnszLZnSk/db6eD1S/yKjQzZc\n",
       "PocOWn1VtyQLaCf92v+ok0VkHo0uP9pMFOgCI8kiT3ylOB+uMSHe0SrBM3oKzOsA3Y+5O5dpIc5Z\n",
       "KFJj62q8/XayKqWD3odXwulOjdEZaJBRZD3iGPpJyvWsJ4gLs/tItZB+U2fnR7E1kyGob7nVPuv+\n",
       "NeuJ6VwvvG3cEyvXeoh3wPwU0D2jc/wBQ6pFFx27/R5//BDdiv7iWmcVxQzGYJX7Hbzh2dJ3B5ax\n",
       "2t9hd1NGfI/8P9h3v+mMoF87KwlxrSmsszQ+MYF0vgyvhOXd85XEbY+0gdhfQkdfQXoDHbr3yfuL\n",
       "3TlEfpkjdhaJ0EmXEka2SKCkmta97HSv0XfQEcTXntf7x5A+a3RoJZGuQxeDuu8lczrSFAXr/lDq\n",
       "JaRdd26r5srvNLx0tOYvSf7X8cond73xJeL+D2UqcZe/ta6FXqWpgzQdqFrdX6mPwPkdaBW6l4eC\n",
       "wjoa6r4XOmMtUUAx666j2O5LT7pygyXBdm66bcbgM/rX3/8uo4r7j//7BWtR9yDPCiC0m4bcLMBJ\n",
       "B2SH/g7nBoH8ToxP5zGBDtR9L3RoNp0L6R2WD8TuUptzvXuzD8qc0jXJ5/QOiwJdcZ4nr3yf8/t1\n",
       "f5188spxIHPqms6vAa/r7b4XOjSbzoXMDM3N7i/3kHWndA5vt0xpvCvxHd3ApiifmgSQddf4dP7o\n",
       "hf5rEtwmSqIAXMvBsl+sZ1E6yVew8vbod9ewNlDP+ixODJ2R0onJKzZsOtd2mMubSOdYRxSAua0Z\n",
       "UAaxm+H6fCdaYk1K58CdpO0/Y5pmaxPp0D0NXACyACpXiuPuOnpxE+nQPQ1cADJIS0rQQbRuFcoe\n",
       "DLangQvyllXkDZuz5RDpaGuiALTIghp0hosh0klcFAWg5S6oQed8KUQ6uVVRCMJ4hdtEJUQ6kXlR\n",
       "AFrQ3rCw2lSY+5WzK6IAusOqEnSySzI6nkj2g/Zg2AQ6U01RAJccRSXoZBZkdJxlDqkxxcoSYhuj\n",
       "M5IXBXDAq/FnHhJzMB27xnSc5rT6pzNcEAWoDagRLNP3NSR0nBrTjXThZ/RNZ7pLgFpckQ3L+2qc\n",
       "Dq2L2HScGlPLOZ4p9EsnNScKsEkr8irARIPToXURm45dY8L1C3I8WuqXTm5eFOD2RzXoDDQ5HVoX\n",
       "senYNaZE3TmeqPdLJ9kUBZ8oVY3X13KLLr/j1EVsOnaNKZp3jqf6pjPZEAWfVboif5tozkXHqYvY\n",
       "dOwaE4GCj/c/stgb+D28ip9R5E2JFw1Kh9VFbDpOjanlHOcV4A3S0edEwe9kRdzyVIPZDq2L2HSc\n",
       "GtODzvGgwkcgndySKPg6HkMNx7MCxsqkxkSjwMf7jQYHSqLgu8RR451r9E+QDqkx0YLIeL90mDX0\n",
       "ZBZRRZKnI1WIjl1j+g0RY+U+6egLouDf9qhBh+xI89LxuBjd9dkHnUhdFAKGlhrLdLI15J3P79xu\n",
       "iELAuuOUGnSOGCH8rUr0SpcQ0D6vBp2ENZD00X7/VuVogNspe4X/A5xojvLb+p1JAAAAAElFTkSu\n",
       "QmCC\n",
       "\" style=\"display:inline;vertical-align:middle;\" /></a><br>"
      ],
      "text/plain": [
       "<IPython.core.display.HTML object>"
      ]
     },
     "metadata": {},
     "output_type": "display_data"
    }
   ],
   "source": [
    "summation_nat_pos_closure = Forall(\n",
    "    [f, Q], Implies(Forall(x, InSet(fx, NaturalPos), condition=Qx), \n",
    "                    InSet(Sum(x, fx, condition=Qx), domain=NaturalPos)))"
   ]
  },
  {
   "cell_type": "code",
   "execution_count": 8,
   "metadata": {},
   "outputs": [
    {
     "data": {
      "text/html": [
       "<strong id=\"summation_int_closure\"><a class=\"ProveItLink\" href=\"proofs/summation_int_closure/thm_proof.ipynb\">summation_int_closure</a> (conjecture without proof):<br></strong> <a class=\"ProveItLink\" href=\"../__pv_it/theorems/2b18e93293480d554002c28112530eadf85a672d0/theorem_expr.ipynb\"><img src=\"data:image/png;base64,iVBORw0KGgoAAAANSUhEUgAAAhoAAABLCAMAAAABKt5vAAAAPFBMVEX///8AAAAAAAAAAAAAAAAA\n",
       "AAAAAAAAAAAAAAAAAAAAAAAAAAAAAAAAAAAAAAAAAAAAAAAAAAAAAAAAAAAo1xBWAAAAE3RSTlMA\n",
       "q1RmmUTNIjK7EInv3XZQQDB8RZsp1gAAAAlwSFlzAAAOxAAADsQBlSsOGwAACb5JREFUeNrtnYuS\n",
       "pKgShgW5CAJ7zvL+77palgokykWremzGmJjpyKEpfvyAzAStrrt8Mdo1fK3qB/u60M+0Qi+fXvZL\n",
       "XMuk5dJFUMtkbOoHO/bT9UPDZP7oHhWi0Y0obblwYSUbJmNXP1j+043pS9HoVJ+2VF/yxrqedznq\n",
       "H4kGBY2m98lArOXlxFH/SDQ6JNKWymuwLfugrvpnosEtTlpq/fOmJw1X/TPR6IROW+q8sKYnDU/9\n",
       "Q9EYrEla6oaNbnrS0N3j0eiESlu6O5Bry9MwvwANDHwLfIe3gWzLOQ1f/VPR6CxLW8qjeisaJiNQ\n",
       "/1g0kB2Sloqm4IbRCNQ/Fg1qx6Sl3INpej0J1D8Wjc6qtKV4Rm05PgnVPxcNAdYPcXVF6a/PO49e\n",
       "T8ZfgoYB99FcvbOo6XxXqP65aAwgIhmuxijKNkwGUP9cNDoLfEZ7zYv862r8FjQYmP7ZtQUBN53V\n",
       "AOofjAYBSW1yLc1NmvZCgfoHo9GDQd5fG/as6YQXUP9gNAaQxxiuZTbU9XTqo73Q4degIcFRdGkv\n",
       "hRi26VwoUH+MBrMHl/lD0JjEDElLwcVty7ErVH+MBrZBR0tODVLWqj8FDQ18A33FW8BB9Ia01vy5\n",
       "99pMzcf16k8XFGRjcX6v73bWqtFgYAJjV6Y0E2TMPn9IlOfZeW2tfV+v/tzX0PGn2oi43gv8DjQQ\n",
       "CDbRlfBzDOKbj6NhcJ6dpnjHTFnFhNZifopkL16CxgiiuzM05oceY5UTfrkXXLUZaPja90gcgdh8\n",
       "suxG3JeRhiAatZXlTOEOxmQcZcz+7r3ERxuBhqXBzCteggYCnXkaoZiJjdh/Z31ittoMNALtG+gM\n",
       "oD9ZyJYSZUUMC0sgGrWVZQRYTuNHNCgcsW+ffR46EfLu0hF7xUvQCNWngldhq7cV8tVmoBFqX0HQ\n",
       "AI3JMqz487KVj8XQqK0sY+g4901hKmTEvnUROR/x8z2UYv7jFS9BgxWiIaeAhFRmULLVZqARal8n\n",
       "NQWmOeVQN5b5yzpwVJiH8Hh3ptRpO3VTCtEA0H9C20xLq9b7eHv9Jxk6NPjFD9AQMkN9MuVFpyWl\n",
       "qk8K1EbQSGp//6IFwY51eqTQj1RRNCory3CfnMlOx+1OW5ybTJmJ3NtpehtIUPwAjUFkqE9nQ0dr\n",
       "q94pUKAWoJGh/RSNTs1gaTWWomFiEUpdZRmu2NZopDQioV0ag+Qwvicr5y0RPO54TFPBPhu8ix8t\n",
       "KP2YVp+RKGe24oBMkdoQjRzta1IOpune88vRvHmKRh9Do66y9NrufJh7V1b71HsGmY4sQ6zf70Hc\n",
       "HZ4c/X6vpWcADaKdK+IlKBCMJtGY3Y2KEVOgNkQjR/s5Ghytfy0SiOvsmNGYaPht42gElflD/2TB\n",
       "cD4ilpdwMpXczTq/7T2fO0Z2aGkTVol0ix+8vYsfu6GY4YT6nO01kDDPynAVqAVoZGhfHaEDyzzG\n",
       "xy3sFD0d9sVq1ssVj6GBo+3wK/NnssBF2qnz33MUQUhRp4ehfW4wcd91sf2k1qEv/LzR0kTpFj+J\n",
       "UCRT9FR91s4rqXA3StQGaGRpX1NyYLNwsWDjguSUwm8XKJbRtfafKBp+ZcdouNRJf5ah4xkarl/m\n",
       "2tU+29Bt1pAxH3IyvoPrVyy3Fj9Gg7ORn6vvuv/Z/2dEdcVbEyVq/7WhzLT2d9tDNDYL21cfjNQW\n",
       "eG6TWSxgPpo13MpO0PCoIzSVs3IWFIGi9tebhqT0Kp8LxIL74d0v0rrFD30NDRftqllj6tDivFeJ\n",
       "2vA25WhPzBrdiJ2U2n4Dt9cRjaoAjb2yeb1wHRURWUJfcnRQHGZFhImNl9UuBe3Q3MYRaDAQ0yly\n",
       "o8uahbRb/GjWoCKtPg8No4pzxCVqQzRytK8gADVvC1coSKUuzVondoayIxSnMsPnF0M5HpzTxR51\n",
       "nAXFMYHZ4h0qCuzYDpJMFVEchrpdx3AkeHvBywUWbvEDNDjLiM+y0KA1XmiBWjC5Z2hPuKGdmxwT\n",
       "u+Z1cy6q+hCNrbL+hfkQXVA86pZh6RSH43TQUb/sbZdkGiCY9GtPaKc/JRLUmy2pEkwJIZRVYnSL\n",
       "H2VDh5vQGCrSoUVqARoZ2pNouKIdSqbBO1et+6hL1acjJb+7XDRc6jAKikcSkHptVvAGWx25cVwH\n",
       "Xq3wksVHxY9mjS5DfVZeo+J0TJHaiEuY0l6ChlzcDzku4UMvzcD6eHLPJNEYlNezzg33qFtJ2IrD\n",
       "BeW9iTRBFEySsa00UnYgYC1etr1Wng0t3l4rVVt9lAeD7TUcOZ04qPc/c5s4QQYhGR04IrqH4tKs\n",
       "upF5SQrXDfWo00HxiP/UibkRWoBtaQEaV7jruxUv25Qv3UMR5XvRpWqr0ehB5NRHYqmNyxXXyaGV\n",
       "sZkQxTblfZwNHY27v+N2jkfdS7BTXPBoQD61DmZmYfQuysKArXjZUZ6yTfkpGo4lu86dj1K11WjA\n",
       "44zQIvDqQ27uC7coqorETnklbkK4oK3UBTmuaK6m4wdLdWg3ZWTsxUvQIGWnvLo+Grb25X7pmdpq\n",
       "NOBxxohlm8r3bmKa5lRXgcZOnT86yM+cTP/c2dCDsBXf/LRBNRoEzIGk9uDR0g52FQ2HutGZmH7u\n",
       "iyPq1Z+jEX25s7zU/beiIYBTLa48bEADH5aln0M5PSEX/fF7l9G65DsaaOQxUV4QtnKMrL37ydAL\n",
       "z6HgpKUoT/f36bVMNJhl7jVBuDzYePf7SarRgI8vX3ug2VreMBtA/TEa5OiZ1/5PQePu1/Lopl/l\n",
       "BdQ/+El5DlZHfu15XGRb/v4koP7BaFDLkpbCPAlpGA2g/sFo3P52SGpb/pocoP7BaCAQjqBrD/HL\n",
       "pkMUoP7BaGjgc+qLr9XRTYcoofqTCOW4ktRB+q+gIYHPKa++FWZs2g8N1R+jceEg/VfQwGA/CF/9\n",
       "kmtqW/5e6FB9JhplB+m/gsbtrkb3903UFWgUHqT/ChrwNl6/saTp10MG6nc0bjxI/w00hsj5gsvL\n",
       "AW36fcOB+g2NOw/SfwMNA1YPc8P755RqGI1A/YbGnQfpv4EGU2lLDXAtb6P46l1f476D9J9HY4ic\n",
       "cr1jMWg6RvHVO2jceJD+82jAL2S95ytax6ZfRu2pX9G4+SD9p9GQYHTLe8a7bNoR9dRvs8a9B+k/\n",
       "jYYBMbe5Kcltmp42XPXZ2dDCg/QfRkORtKXy0i1PG676fDQ+dpC+Ag04tO8b7LjpPTZHfT4aHztI\n",
       "X46GBNtg8saNMdLyN7A56o/R+NpB+nI0kEhbrkyqLe+/7uqfeF6DgleLUXWn7ziolj3RTf2wnBL/\n",
       "oUSPXj699Ldo2nLpoi17G5t62b+uH3vy7nUVehr01PIfaRtzPiIq73QAAAAASUVORK5CYII=\n",
       "\" style=\"display:inline;vertical-align:middle;\" /></a><br>"
      ],
      "text/plain": [
       "<IPython.core.display.HTML object>"
      ]
     },
     "metadata": {},
     "output_type": "display_data"
    }
   ],
   "source": [
    "summation_int_closure = Forall(\n",
    "    [f, Q], Implies(Forall(x, InSet(fx, Integer), condition=Qx), \n",
    "                    InSet(Sum(x, fx, condition=Qx), domain=Integer)))"
   ]
  },
  {
   "cell_type": "code",
   "execution_count": 9,
   "metadata": {},
   "outputs": [
    {
     "data": {
      "text/html": [
       "<strong id=\"summation_real_closure\"><a class=\"ProveItLink\" href=\"proofs/summation_real_closure/thm_proof.ipynb\">summation_real_closure</a> (conjecture without proof):<br></strong> <a class=\"ProveItLink\" href=\"../__pv_it/theorems/78b7baa5769aeac3d3c5ddc7d67e945828c3bc620/theorem_expr.ipynb\"><img src=\"data:image/png;base64,iVBORw0KGgoAAAANSUhEUgAAAhwAAABLCAMAAAAMNK4oAAAAPFBMVEX///8AAAAAAAAAAAAAAAAA\n",
       "AAAAAAAAAAAAAAAAAAAAAAAAAAAAAAAAAAAAAAAAAAAAAAAAAAAAAAAAAAAo1xBWAAAAE3RSTlMA\n",
       "q1RmmUTNIjK7EInv3XZQQDB8RZsp1gAAAAlwSFlzAAAOxAAADsQBlSsOGwAACeBJREFUeNrtneu6\n",
       "oyoShuWoILhnhvu/1zExakGhHHRltc32R3c/1YH44QtUFUi67vIlRdfytcof3Psiv3MXdvn2wlK9\n",
       "1UnLpYuTptnY5A9uZPP1Sz3l9dWMlMLRjSRtuXBRo1tmY5c/uP63b4YVw9EZlrZUX/rGuh54AfnP\n",
       "hEOguxb36SCy6UkFyH8mHB1RaUvlNbimvVEo/6Fw9I4mLbWuetsDB5T/UDg6ZdOWOnes7YHDk/9U\n",
       "OAY3JS11Pce2zIYv/6lwdMqkLbdA15jHMf0NcFDkY9A7vA7ims5x+PIfC0fnZNpSHuQ71TIbgfzn\n",
       "wkHckLRU3AttGY5A/nPhEG5MWso9mbZnlUD+c+HonElbiofVpmOVUP6D4VBoFlFX5xV2fex59qwy\n",
       "/i1wTOhJTlefLWk7AxbKfzAcA4pOhqvxinEts4HkPxiOziHv0V3zJ/91Of4eOCSaBOS1aYG2neVA\n",
       "8p8MB0epbn4t+c3b9keR/CfDwVBHZ9e6vmw7BYbkPxmOAeU1hmuZDnM9xfpsf3T4e+DQaN+6dpfC\n",
       "Ddd2fhTJP4ZDuoNr+lPgmNUMSUvB1bumI1ks/xgO6oKW1r2YiHHO/DFwWOQj2CteAw1COWKt7R/8\n",
       "tKf5/mm9/NNphbhY2M/s3V5bPRwSjWLyyrg2BTm0H99M2ufZ+/p6GauXf+5z2PibcFxdb4f+FjgI\n",
       "Cj3JlWB0DGKdn4Zjonl2kQKeSaOUk9YoFhQogWNEod4ZHK9XJWOV8/5yO0C9aThC8XtgTlCoPlt2\n",
       "I2VlrBEMR21lGcM45JiPo47Zl9ZLfrPq+vlGBWFKewVK4CCoNU+jlWmmI/bfWd8I5J7rzRk5AvEb\n",
       "6xLRP1v4liaVRRgrxzEctZWlYy147yMZDI3Y16/W6fYZ338NxCtQAkcoPxXKKle92gDkJvRmwuGJ\n",
       "X1GwCI7Zsn2mL5sAZQyO2srSnQc+N0PFij2PPE/G89pnHtOlV6AEDlkIh56DE16nHchN6C2AYxO/\n",
       "jmwGjXUGgDeWuc42cFikR/F4sx8Ob12ADEM0GAxe7Z7UHIhYGWsf5RU4gEPpDPnJJJiYJ5aqRoFy\n",
       "E3ojcKTFf0o6FPk40CSFHqWJwlFZWdLj8GYVG7fvtwIfspCTjnceojXxChzAMagM+ekM6ehc1YEE\n",
       "QG5KL4IjR/wpHJ15sWXNWArHFItW6ipLu2T7TRNjCQ/sepqIHsbPeAWPmOgjHsjSPoOiq2P0KXA0\n",
       "rbAxLT8jfS5dxQ4aT25KbwhHlvg1T4czd+9vHA4Hz1M4WAyOusqSMzz8LvBYVvvcehOZOm4/8Roo\n",
       "2UenXSOts1uvYhLBwS24It6CQaFpEo6X21HRaSCFCb0hHFniz+F4hTbLH4sGDr2eaZymaDTu4nAE\n",
       "lfn9/2TeAF8RSVTA3GUPUtEfO+tfDaM7stwSNefpl1fnYQw4/p8Cxw4plTQhP2fhDaXRs3JesEhC\n",
       "L4IjR/zqEXVxy6ufj1sQqpgY9jnrJbg3fQwOGr0Rv7LgvnxfaefOPywp0k8FbGJkf90vhydl7P80\n",
       "a+9XwciqNGNBgZNoRUsjTuVnrcryCrcDyk3pDeDIE79m6dA64mKhE4QMfIp+fKFYmte5f6Jw+JUd\n",
       "wwG50/5II8YzOKCDBuxmH3DEPnJodRTNDXyf/ERq5Ojl2J/L77r/uP9mhHjFKxZQbkrv/3w48sR/\n",
       "bj6EY7PIjq1fRYnZwtBtRIvFz0cjB6zsBA6POy4SaSw4rSgSs78PK9Laq/v9icNQnw9bMuZT4NDn\n",
       "sHjyrho55hYtzoRBuSm94XPKEp8YObqRgizbXmg702g0BXDslb1mDeiwqMhM+tZjg4+jLIkCuIEu\n",
       "87FrJTryusURSZgrPWqfuV+tmedPgaORQ6i0/Dw4JlOcOIZyU3pDOLLEryggOR9Lb3Y8+T7jbwGp\n",
       "JNnRCqhs6l/HSwFXDrSxx10vg49TjjLIACsR2qkbNJ/rERQFvl0naax9+MKCErDAARy9zAjWsuAQ\n",
       "Nf6o6LL1ohE+R3zCIZ2f1X7TYLluPSkvKvsQjq0y9iZ9iE4rHndLzwQfR111sHEHbbFrPncRytna\n",
       "Eha2pyZKeCPmsjCpZklKfTaCfgocZUiHm+AYKlKkntyUXgRHjvgkHFA14GRG7FW3ZVHfiiXDps5v\n",
       "LwgH5I6S4OM4J2m3u/LPxLWRB9cHU60YlZ9BPipwNHJ0GfKz8hwV22eCI4DP9UZ8w6T4Ejj04obo\n",
       "cQklmJ4GyeL5vikJx2C8poUBFeRuZWH7OJpW1sWlGSN/pIwtsvHS3QJrgbKFt/IMafHCG5Kb0Fu/\n",
       "2YeihTca2cQ4mM9fr5vqOZkI0dG+o6JrKxBo043SS1pAh9TjzgYfjzhS6n0PVoXZG4XurXhBeCtQ\n",
       "tmRfuraiyheqsdxzvfVwMBRGsUhgtaG5Eit4p2PDIYkt2ftET2KcYJYWto7H3Vsx+DhugU/MzlC2\n",
       "FsfyqjQg2AqUbfYpW7KfY+NY+uvcCcFyz/XWw4F3PWKLoqs3ufkxvSNRWTy2EyzxFMJpbeUuyHpF\n",
       "kzf9wYQd2qdSNvYCJXDwsp1gHYsGsazcQz3TWw8H3vUYsWwD+t5O0oqc6irg2LnzOwj/pV3sP7eH\n",
       "9CCIpTe/m1APB0cDIa/dm7TciLwKB+BuBIPTb/0qRREcrGj3efTEaH2p/e+FQyH/Wl15NUEE3qxM\n",
       "v7dyuo0u+s8vXpO1JT8AISJvl/YFQWxPiXN3v1B65b0VmrQUpe7+feMtFw7pJLxmDJfXIe8+4KQe\n",
       "Dvzi87VXoZ3rW6YDyT+Ggx+9K8v+GDjuPtrHtn0kGJL/5LfsezRJ9tde5CWu6d9oQvKfDIdA7rW4\n",
       "dmLcdLev/awLyX8yHLefNSlc0z/Eg+Q/GQ6CQhNy7QQA3Xa4guQ/GQ6LvE978Wge23a4Eso/iVaO\n",
       "K0nsuv8SHBp5n/rqwTJj2x5pKP8Yjvpd91+Cg6KFInr1l7WFa/q3qEP5mXAU7br/Ehy3uxzdv+db\n",
       "uwo4ynbdfwkO/CCvP1re9mGTgfwdjvt23X8HjiGy/eDypCDaPsM4kL/BceOu++/AMaE5ZLrhKDtj\n",
       "WoYjkL/BceOu++/AIU3aUoNc08srvnzoc9y26/4bcAyR7bB3TAltxyu+fADHfbvuvwEH/gHYe34S\n",
       "dmz7iGtP/grHvbvufx4OjXq4vqfP67ZdUk/+NnLcuuv+5+GYUAg+3ZT6ntoeOqD87Axp2a77H4fD\n",
       "8LSl8rJNDx1Qfj4cP7brvgYO3L3v6/C07dU3ID8fjh/bdV8Bh0YLZPrGJTPe9C+9AfnHcHxt130F\n",
       "HESlLVdG1qbXZnf5j9zPIdAZZcLc6UUOpmmfdJM/LDvKfynzY5dvLy4m0pZLl2ja69jka/a+filn\n",
       "vHx56SCuxanl/xQSdLw7PXhcAAAAAElFTkSuQmCC\n",
       "\" style=\"display:inline;vertical-align:middle;\" /></a><br>"
      ],
      "text/plain": [
       "<IPython.core.display.HTML object>"
      ]
     },
     "metadata": {},
     "output_type": "display_data"
    }
   ],
   "source": [
    "summation_real_closure = Forall(\n",
    "    [f, Q], Implies(Forall(x, InSet(fx, Real), condition=Qx), \n",
    "                       InSet(Sum(x, fx, condition=Qx), domain=Real)))"
   ]
  },
  {
   "cell_type": "code",
   "execution_count": 10,
   "metadata": {},
   "outputs": [
    {
     "data": {
      "text/html": [
       "<strong id=\"summation_complex_closure\"><a class=\"ProveItLink\" href=\"proofs/summation_complex_closure/thm_proof.ipynb\">summation_complex_closure</a> (conjecture without proof):<br></strong> <a class=\"ProveItLink\" href=\"../__pv_it/theorems/96cc5d54ff3dbdb6e50b4be0ef865d2e687698840/theorem_expr.ipynb\"><img src=\"data:image/png;base64,iVBORw0KGgoAAAANSUhEUgAAAhwAAABLCAMAAAAMNK4oAAAAPFBMVEX///8AAAAAAAAAAAAAAAAA\n",
       "AAAAAAAAAAAAAAAAAAAAAAAAAAAAAAAAAAAAAAAAAAAAAAAAAAAAAAAAAAAo1xBWAAAAE3RSTlMA\n",
       "q1RmmUTNIjK7EInv3XZQQDB8RZsp1gAAAAlwSFlzAAAOxAAADsQBlSsOGwAACdxJREFUeNrtneua\n",
       "nKoShgU5CAJr78X93+uyx1ZLCuWg0xOH+CPJU2loP3yBqgLprrt8Cd61fC3yB/91kZ+5Czt/e2Ep\n",
       "aXXSculipGk2VvmDH/vp+qGe8vrqnpTC0Y0kbblwUaNbZmOTP3j50zfTF8PRmT5tqb70jXU98ALy\n",
       "nwkHR3fN79NBRNOTCpD/TDg6otKWymvwTXujUP5D4ZCeJi21rnrbAweU/1A4OmXTljp3rO2BYyf/\n",
       "qXAM3iUtdT3HtszGXv5T4eiUSVtuga4xj8P9Bjgo8jHoHV4H8U3nOPbyHwtH50XaUh7ke9UyG4H8\n",
       "58JB/JC0VNwLbRmOQP5z4eB+TFrKPZm2Z5VA/nPh6LxJW4qH1aZjlVD+g+FQaBZRV+eV/vrY8+xZ\n",
       "ZfwtcDj0JN3VZ0vazoCF8h8Mx4Cik+FqvGJ8y2wg+Q+Go/PIe/TX/Mm/LsfvgUOgSUBcmxZo21kO\n",
       "JP/JcDCU6mbXkt+sbX8UyX8yHD3q6P21ri/aToEh+U+GY0B5jeFapsNcT7E+2x8dfg8cGu1b1/5S\n",
       "uOHbzo8i+cdwCH9wuT8FjknNkLQUXNI3Hcli+cdwUB+0tJbcEeO9+WPgsMhHsFe8BhqEcsRaKx/8\n",
       "tN10/7Re/um0Qnws7O/t3V5bPRwCjWLiyrjmghzat28mlXl2WV9v39fLP/c5bPxNOKaut4O8BQ6C\n",
       "Qk9yJRgdg1jnu+FwNM/Oc4DXo7JCODmMsEAJHCMK9c7geL0qGaucycvtAPXmwQHFb4E5QaH6ZNmM\n",
       "tC9jjWA4aivLGMYhx2wcdcw+t176m6cJf/qQZl4xWKAEDoJa8zRacRMdsf/O+kYg91xvFhx78Svr\n",
       "AtE/WdiaJhVFGCvPMBy1laVph/c+ksHQiH356lQUxRyfm7if22cpUAJHKD8VyipfvdoA5Cb05sAR\n",
       "il9QsAiOyTIsPUCWTYAiBkdtZWlJ8LkZypWO2JcmYomMD+uW4oTBAiVwiEI49BScsMqMyiY3oTcD\n",
       "DiR+GdkMGusMAG8sc51t4LCIHcXjzX44vHUOMgzRYDB4tdupKRCxW5cjulvQ1T0scACH0hnyk0kw\n",
       "Pk0sVY0C5Sb0RuBIi3+X9Cjy8aBJCj1KE4WjsrKkx7GbVWzcvt0KfMhcuODhqk6yaIEDOAaVIT+d\n",
       "IR29rzqQAMhN6UVw5Ig/haMzL7asGUvhcLFopa6ytEu23TQxdh0QF7t2juhhfI9X8IgJiTwQSbph\n",
       "DGf102mlH9PyM9LnwlfsoNnJTekN4cgSv+Tp4hY2HA6ep3D0MTjqKkvO8PC7wGNZ7OzlhLuOzZ2s\n",
       "B88AO8ZT4/CAgl4gOJgFV8RbMCg0TcLxcjsqOg2kMKE3hCNL/Dkckix/zBoY9Hrc6Fw0GvdxOILK\n",
       "9v3/ZN4AXxFJVMDcpQSp6Le9l6+G0R2Zb4mas/TLNKyGuZB3gWOHlAqakJ+z8IbS6Fk5L1gkoRfB\n",
       "kSN+8YgOLK9+Pq5BqOr5sM1ZL8HSyBgcNHoj+8qC+W7vK23c7Q9LivRTDpsY2V/3y+BJGds/zdL7\n",
       "FZx20VaMVLSiheGn8rNWZVmF2wHlpvQGcOSJX7J0Om6hDkIGPkXfvlAszev9P1E49pUdwwG50/uR\n",
       "ho9ncEAHDdjN1iH4NnJoFY0+AitPjRxSjPJcftf9z/8/I8QrXrGAclN6/93DkSf+ffMhHKtFdP3y\n",
       "VZSYNQxdR7RY/Hw0csDKTuDYccd4Io0FpxVFYvavw4q03tX99YnIELqF+h2HBQ59Dosn76qRY2rR\n",
       "4kwYlJvSGz6nLPGJkaMbKciybY9wPdNoNAVwbJW9Zg3osKjITPqlxwYfR1kSBXADXeZt14p35HWL\n",
       "I5IwVRpNEr5b/D02vwscjRxcpeXnweFMceIYyk3pDeHIEr+ggCea96MyG55sm/HXgFSQ7GgFVObk\n",
       "63gp4MqBNt5xJ0Xwccq6aKw5Y8VDO/WDZlM9nKLAt+tEJPPklJgg1NSyXYEDOKTICNay4OA1/ijv\n",
       "svWiET5HfMIhnZ7VdtNqE72clBeVfQjHWln/RfoQnVZ23M09E3wcddXBxh202a7Z1EUo65eWsLA9\n",
       "NVEcOYF6VMbbdVB7FzjKkA43wTFUpEh3clN6ERw54pNwQNWAk4mtV922j/pWfSJseg2+8sDn2HFH\n",
       "SfBxnJO0613tz8S1kQcng6mWj2qXQT4scDRydBnys/IcFdtngiOAz/VGfMOk+BI49OyG6HEOJXrt\n",
       "BtHH830uCcdgdk0LHvmOu4WF9eNoWlkWlyaM9iNlbJGNle4WWAqULbyVZ0iLF96Q3ITe+s0+FC28\n",
       "0cgmxsG8/6JfKRPiCNHRvqOiaysQaNONYpe0gA7pjjsbfDziSKmve7AqXLNW6N6KF4TXAmVL9qVr\n",
       "K6p8oRrLPddbD0ePwqg+ElitaNIt9tGx4ZDEluxDv3h0cOFH7VJ1gLsvxeDjuAXeMXuPsrU4llel\n",
       "AcFaoGyzT9mS/RQbx9Jf504Ilnuutx4OvOsRWxRdvMnVj5GeRGWx2E6wxFPAMffMXZD1iiVvOnkw\n",
       "YYd2V8rGVqAEDla2E6zro0FsX+6hnumthwPveoxY1gF9aydheU51FXBs3O07CPuhXezft4f0IIil\n",
       "N7+bUA8HQwMhq92bNN+IuAoH4G4Eg9NP/SpFERx90e7z6InR+lL73wuHQv61uvJqAg+8WZF+b+V0\n",
       "G130nx+8nLUlPwDBI2+XyoIgVlLi/d0vlF55b4UmLUWpu79vvOXCIbyA14Th/Drk3Qec1MOBX3y+\n",
       "9iq097JlOpD8YzjY0buy/R8Dx91H+9i2jwRD8p/8lr1Ek6S89iIv8U3/RhOS/2Q4OHKv+bUT49zd\n",
       "vvazLiT/yXDcftYk903/EA+S/2Q4CApNyLUTAHTb4QqS/2Q4LPI+7cWjeWzb4Uoo/yRaOa4ksev+\n",
       "Q3Bo5H3qqwfLjG17pKH8Yzjqd91/CA6KForo1V/W5r7p36IO5WfCUbTr/kNw3O5ydH/Pt/YVcJTt\n",
       "uv8QHPhBXn+0rO3DJgP5Gxz37br/DBxDZPvB5UmBt32GcSB/hePGXfefgcOhOcTdcJSdMS3DEchf\n",
       "4bhx1/1n4BAmbalBrunllb186HPctuv+E3AMke2wd0wJbccre/kAjvt23X8CDvwDsPf8JOzY9hHX\n",
       "O/kLHPfuuv9+ODTq4fqePq/bdkl38teR49Zd998Ph0MhuLsp9e3aHjqg/OwMadmu+2+Hw7C0pfKy\n",
       "TQ8dUH4+HN+2674GDty97+vwtO3VNyA/H45v23VfAYdGC2T6xiUz1vQvvQH5x3B8bNd9BRxEpS1X\n",
       "Rtam12Y3+Y/cz8HRGWXc3OlFDqZpn3SVP8w7yn8o82Pnby8uxtOWSxdv2utY5ev+6/qhnPH85aWD\n",
       "uOanlv8AT9pyts5cpmMAAAAASUVORK5CYII=\n",
       "\" style=\"display:inline;vertical-align:middle;\" /></a><br>"
      ],
      "text/plain": [
       "<IPython.core.display.HTML object>"
      ]
     },
     "metadata": {},
     "output_type": "display_data"
    }
   ],
   "source": [
    "summation_complex_closure = Forall(\n",
    "    [f, Q], Implies(Forall(x, InSet(fx, Complex), condition=Qx), \n",
    "                       InSet(Sum(x, fx, condition=Qx), domain=Complex)))"
   ]
  },
  {
   "cell_type": "markdown",
   "metadata": {},
   "source": [
    "##### Splitting up summations"
   ]
  },
  {
   "cell_type": "code",
   "execution_count": 11,
   "metadata": {},
   "outputs": [
    {
     "data": {
      "text/html": [
       "<strong id=\"sum_split_general\"><a class=\"ProveItLink\" href=\"proofs/sum_split_general/thm_proof.ipynb\">sum_split_general</a> (conjecture without proof):<br></strong> <a class=\"ProveItLink\" href=\"../__pv_it/theorems/7beee838a8e473ef4e531cb937860bd8018889690/theorem_expr.ipynb\"><img src=\"data:image/png;base64,iVBORw0KGgoAAAANSUhEUgAAAp4AAABABAMAAABB82rWAAAAMFBMVEX///8AAAAAAAAAAAAAAAAA\n",
       "AAAAAAAAAAAAAAAAAAAAAAAAAAAAAAAAAAAAAAAAAAAv3aB7AAAAD3RSTlMAq1RmmUTNIjK7EInv\n",
       "3XZ/CtNrAAAACXBIWXMAAA7EAAAOxAGVKw4bAAALBklEQVR42u2cbWwcRxnHH9+d7/b2XuxI/dBC\n",
       "1LhCFCqCfVBRlAoSo5S2FklsNfhLefG1haIgVb5KfCBShA+BkEABW0QVclLFJ9FCCg02KQS1iMSY\n",
       "lkalUQxqVVrVzUUNRW3BdmyndpzYx87uzuy87e7sebqfeCTff2/39ncz/92ddx+AGAONxjTojVSd\n",
       "1dD4RS3g4B7QR1NmiDSs5jcdTTcaC7LPD/T3VzX7+RanoVEcCThW5mg/GGme9lb0zGAaob7tiNHf\n",
       "L/cTdEfrMqsKccT/0ECFo7VMNE2LkCKRhjVLvn8qHj+fLLGqckqH3xHzLxwV8tWmaRFSJNKwmlMx\n",
       "+3knpwC5N0PKrcQLviVemacNz34AmqTdyb49tV0lO5hGqFtrsfpprLBqxcvGZMhJL/kdGK7ytP/W\n",
       "LkJzNCpFKAp9B5Uy9BKnhe5Y/Uy3s2rdYyNm2DPaVfE5cB/wtENwGzRH8xh29MAxpQxhGtbEcqx+\n",
       "8l9vlXh94RfBp04mafdoZ+BzTdI4m59TvUFGOOq+WP18lVOAtkp4IbUi318YEWjz8nwo0F5l36pW\n",
       "9phGqF3VGP00FlhFF7YPQts4z/oUnx0C7bXkCDRFM7j24tchp5alZznNd8foZ8s8q1Zkdm6vhZ3W\n",
       "K9+9BQTa92fDE9EblDIc37r1HbUs9XKamo/Rz/FuVhVjQNo0NJdAHy0iQ6RhbV2M0c8dVVYVI1+W\n",
       "7U2ugD5aRIZII9S/xujnGKeqYyjS2iE7r5E21myWMI1Qeyvx+XmFU9VKdFG2t21EI+1Ks1nCNELt\n",
       "KsXmZ+tVVlUjc0mauAl9tKgMkUaoQ+2x+Zm6zKpyvCitWfv00SIzRBrW/GRsfqZXaU03qAgeExmT\n",
       "NakGa/poOGXRQAwNa3Y1Nj/bpmlNNNwK+pdf3dwIHhOZ65DsXAN9tDZvGiICiKFhLS7E5ufQCKNb\n",
       "1siRzy4Ed/slrcPMFdBHG6K6VeoghoY1sRSbn9xXFxrt1HhOUAxLepGJJdBHoy1WBzE0rMaV2Pyc\n",
       "qzNqNLyWS4odFnHfZXDvRTIrWFwHfbQ5qqAMAAXRsJprsfnZ28HqXMNLLtMJLLofaHWz2TYvqZIX\n",
       "QB+tly5SfUGBNEJtuH7ad/mHeD9b7GerpMXPsSqrWXE2+gvPoNeP4bdvuo/gqqR7tAL6aGN0dzPr\n",
       "M0keTCPU8zXHz88j+QbvZwq18tIVLX4OVlg1zy1xn8hdj54Tk/Sw004jJC3pIpJ9OmiDdAZFkAqN\n",
       "S88UfBcVCiO8nwa6bffred7P1ViFgQbXdMl/+DB6lMnjkHTqiaykuZ1fhQ3T9vIp8wGp0Ah1rM/x\n",
       "E/md6xDKT7Tk4YQePxucQq7BzTYO2PnKezuc4y2SdgtXXjVF6+RT5gNSoRHqlg7Hz6TlfFqsj261\n",
       "/srvk58w+B77iT/Zrzd7Ox6I4Gd0mo+fAkiFJvgJZ2dm/ib6mZ+ZeX3i/fLzyQaD/sTZ6+yC3/r7\n",
       "zYVjf7QS9lunLl9U8jMyzc9PDqREI9Tekuvn3QCHRT9TVcjWwpzqVrHTbLBKd+7cWCcXvrt4Y8qq\n",
       "Zm+j05qascNpbo/Pb5BG+WlyfvIgFZro58OQQUk17yjRflr7HiZMbr3V5iM9v7M32N23VIx9eIv2\n",
       "8xqr9pdfo69VxsnGP6zCvpJcbbHSsdUp0NbF7I1PbpzWCSJDAlKiEerpuutntpZDVVP2U1WmPX8Y\n",
       "fk+g1Hqrn9zwCLwCz7wj+nmLBfwg2Qr2s8AM4SSce+45q1nhLqYZjuRnJNrumZkXZ2b+LvWzII4s\n",
       "haVN9DNRt6ujthrbP+qkqiNvvVXqbtR7MD5SEvzchnadIVvBfmbWmIp1GqfZ+io7WV+O5GdUmu/9\n",
       "yYKUaKKfUEZroBKbT7B+ppPWB8yn3kWPrrve6tR2t3eQSgHl56+3/wHgbVS9GesXas4Wvd5LrI+g\n",
       "+DzT52nHzxRai2haF/bjvuWnpD6KRguojziQEk0sP+GEvbx2G9d/z91snXu8Moz8dNZbFfoOmo6D\n",
       "n/4o5af5irEMB20Ti68Vu50ter2XxM+BKtNkdqw/CvBE32Z7RcG2KPV7ZJqvnyxIiSbx84B9Ce7g\n",
       "/Mz82d5przdz1lv1wLFW+ySzPkH5meq2rEscQcVFtpQsO1v0ei/RT25ZxpAzhWE1RLp+tAvucZsn\n",
       "yu3PyDQ/Pw3J94XRxPYntFQdz7jxpevtYuMCAF5vZZUhyX2joz+FXK5m1oif+b6idUFakY35aqrd\n",
       "3aLWe53j1GroscV+lyM/BnhsNrETpetlXz/z8xundYLAkIGUaBI/nTgjGa8zl+HQrwCvt7J6/oZ9\n",
       "Y97zPch5fo5Xsrdb74zrKtAG+Q53i2oxna+xCvA1Ns3u4rgCuaMz0+xYEl0Fr8KGaZ0gMGQgJRo3\n",
       "3kX8NFdl45/PG5dvNyfQeivrFS2Wslv+E93wFe95z1eG96J0ZTbVCjW7cLG26PVe/HgdZJl2VqL9\n",
       "fmakwRt9KCwrjNc1QdsrHa/jQIo0Qj1fYfyklwt7fn7xk++WjCm03sp6RYul9lspSG668en7PD9b\n",
       "d3Y+5Q5dG3vq7ha93gvP8GKF3d5tYd3OhcO4YfYzvHc/92zT48mXQR+tl1mFyoIct0JpXPkzxQ1D\n",
       "ycbnE9Sr+fToI96R8FWC9sB3idWk1ypJWglPXsRlwxPAJr5tUjLfsQj6aHN0S5kDORuhNEK9xviZ\n",
       "vanq6+e91Csban7umGCVapVsZZvTbn1QdDMxJBkwT14FfbQdE/LG0lbxe/1oWDPs/FFuFnz9LPlM\n",
       "qdB+/nDUigq7RXDtjGa8WvuxpcALMdAu7mu9BPpo9C51kCxTOF0bm49Tmw8ZLzNKWiWZmxorwTe2\n",
       "pP1ivgf6aONlSWMpFMTQsCbXNfipFoV5RgcftOOh1xth/ybaW5XsPA/6aAWqilIHMTSsqZXY/GTX\n",
       "SqbohULBE6iD0oxU9NGoNaERQAwNa3o+Nj+Ti6wqx5r0QSvpo0VmiDR2OVUsfmaWWFUNQ7o6c6hb\n",
       "Hy0qQ6QR6vBEbH7CWU4VoyitFvLTGmlnm80SphHqXDU+P0/XWFWM7KRsb24V9NEiMkQaoT4K8fk5\n",
       "VGdVMcbbpaXHOuijRWSINKzmpRj9TJdZVQyff2Z5EPTRIjJEGlb8Xzyx+JlcZlUxHvLJSkUfjWfg\n",
       "CVorfl5WoWFNT8fop3mVVcVmgU9jZnxCH01g2BO0aHbMmJ1WoBHqUClGP2EXrbN3kUEbeybPL3Lz\n",
       "Pt2DSYpWvPidu7A3ztxhNNou7r09qp61x9OC/MQ0Qj0Ncfo5Xve0WLkh3dGDBk1K9kxe6EnCPbVO\n",
       "feDfLSP3pxDsEJ47jEazd3tX2J6gVfCTzhCTpnj8LE56moSjBr7TuoN+9GK334H/UNRSto7rGXfu\n",
       "MBoNMagrjCZoVfzczWlqOlY/4Q1ayT3pzOT5FVG+/2tVqFM0b6LKnTuMSHuDucJoglbBT0wj1KG+\n",
       "eP3Ev5iE1JjMgHM3uDN58mjxtZr8ZBKiHYSK87zjucOINDtl3hWuptp7Rh+10hboJ6YR6iaI189c\n",
       "meiBXDmFU+/O5EnjM/5dl5OEmpk8SRb5oblDiExDKfOusDNBG3p/YhrW5Asx+4nWV7ia+tcp/BsI\n",
       "ZCZP9kidCejs1Qltz5dmsVNo7rAJ2lH6CjsTtGF+YhqhHqgG+6n/9wCPV1kN71MFjEGa/wR9tONV\n",
       "6go7E7TIz8zJq/UwGqE+4L73+T3Ax/X/HmCmympoPB508NugjyZhZBVpWE23NjL6+++F/4fYY9jA\n",
       "uf8DGm4WBqWfYE4AAAAASUVORK5CYII=\n",
       "\" style=\"display:inline;vertical-align:middle;\" /></a><br>"
      ],
      "text/plain": [
       "<IPython.core.display.HTML object>"
      ]
     },
     "metadata": {},
     "output_type": "display_data"
    }
   ],
   "source": [
    "sum_split_general = (\n",
    "    Forall(f,\n",
    "           Forall([a, b, c],\n",
    "                  Equals(Sum(x, fx, domain=Interval(a, c)),\n",
    "                         Add(Sum(x, fx, domain=Interval(a, b)),\n",
    "                             Sum(x, fx, domain=Interval(Add(b, one), c)))),\n",
    "                   domain=Integer, conditions=[number_ordering(LessEq(a, b), LessEq(b, c))])\n",
    "    ))"
   ]
  },
  {
   "cell_type": "code",
   "execution_count": 12,
   "metadata": {},
   "outputs": [
    {
     "data": {
      "text/html": [
       "<strong id=\"sum_split_after\"><a class=\"ProveItLink\" href=\"proofs/sum_split_after/thm_proof.ipynb\">sum_split_after</a> (conjecture without proof):<br></strong> <a class=\"ProveItLink\" href=\"../__pv_it/theorems/a8661670711fa3cdb8c297e4481bdc98de6506dd0/theorem_expr.ipynb\"><img src=\"data:image/png;base64,iVBORw0KGgoAAAANSUhEUgAAAqoAAABABAMAAAAg60iUAAAAMFBMVEX///8AAAAAAAAAAAAAAAAA\n",
       "AAAAAAAAAAAAAAAAAAAAAAAAAAAAAAAAAAAAAAAAAAAv3aB7AAAAD3RSTlMAq1RmmUTNIjK7EInv\n",
       "3XZ/CtNrAAAACXBIWXMAAA7EAAAOxAGVKw4bAAALQ0lEQVR42u2cbWwcRxnHH9+u7/b2XuxI/dDS\n",
       "qHGFKFQE+6CiKBUkF6XQRjSx1dRfyoudFoKCVPkq8aGRInwIhAQK2CJUKEnVnEQLLW2xSWlQimhM\n",
       "eGlUEsUgqpaqIRc1gJoWx3m148Q+9m1m55md3Z1dr9dfGMn7P+/d/W7mv7Pz9swdgDcNtFqTsBRJ\n",
       "bWINTT9rBDy5GRKkbY5cGEIjqn/d1myrdUH0+oH+/vqSuPpvTkNTeTTguUGO9t3R+DQKk0+ERqnv\n",
       "2qL194tdhaVJ7TNYJdI+/6cGahytbTw+jcCipH2c5unnH0nT1ecrWGXe0uX3jP4HjgrFemwahUUq\n",
       "ThdW/ciyuPo5TgEK74S0iZnXfNvoQZ42MvUBiElTcQMQmi1Eo9TVjWVwVZvFaqTXtYmQN/3d74mR\n",
       "Ok/7b+MMxKSN4Goeni1EI1qqLoOr2U6sRhUZ1cPu2h6/Bm8r8LTdcCfEpG3FNTc8W4hGNDOzDK7y\n",
       "mTBawr7wS+HTb9MSuLSjsD4mLYO7T4lsIRqlbl8GV//BKUBHeM+bmRWfL416aNPi0kjQStjsDskB\n",
       "AaFRak89dVe1C1jNi9wHoaOhP/q0hF0e2lvKKMSjjeCxgUy2EI1osZq6q23TWI2U27C2Efa2XvHp\n",
       "VeChfWcqPBO9gbAI2UI0oup06q6OVbFKpgHh4Fa/BMnRKCxqIjSi7RdTd3VdHatkKgrnksosJEdT\n",
       "ZmMWidAo9c+pu7qfU9kVGeH0Nj+dIC0/HXe1aIaj9tbSdvUqp5Ipc1F0tmM0QVrHaMwiERql9lRS\n",
       "drX9GlbZlDsvzOJ4grSB8ZhlIjRKHe5M2VX1MlbpdEzY+/YlSOvti1uoY5wWJ1J2NTvHarbFpOCl\n",
       "jP2iUc5QI0HaED0XAYRoRPNzKbvaMclqpuX0uz//8spW8FLGuS7ByXlIkDbvNpTyIEQjWr6QsqvD\n",
       "o0hXuUX5zIXg5QPBiDR3FZKj5ZgeTx6EaEQzl1J2lctAqUXXmmBj4BtHBD105hIkR8swkwB5EKIR\n",
       "1a6m7Oq5JlKt5Y5xVLya4fyXI7MnQWSyvADJ0SgsGBREI6rPp+xqbxfWcy0302gaWXZe0O5chg7B\n",
       "GF29AMnRVPZW9wUF0ii15bhq1fgP8q62WbdGJUFX99ex5r3R8c+/bB4/Sv59x7kp5wSzoVlIjpZn\n",
       "J6x5n6B9MI1STzVsVz9rytd4V1VzCJetJejqUA2rfoJf0yjcaN45Op2pZ+3hSlYwyaTnkqChU16Q\n",
       "DI3LzxH4ltlMjPKuamYV3pFkC3CigRUGWtwgp/ihveb9SG8Qxe6J8oKBfnEOFk3b4oGJQTI0St3f\n",
       "Z7tqul7o8rSr5kaMA0m62uIUCi0u4jlgOVR0T9jPtwlGOFw7FovW7YGJQTI0Sl3VZbuqGP5nvb3V\n",
       "Hcbf4JK6CkNX8Ct+Zx1vc088HMHV6DQfVz0gGZrHVTh+8uRfvK4WT558e3xpXX2+hT7g48dvsLoF\n",
       "4++Xp5/5rZG9X9ld9EUpVyPT/FzlQFI0Su2tOK7eC7DX66pah3wjzKmqvKl6Cys7PXTSAq0E1fIt\n",
       "qtEV34lyvOmkmf5qjw+nF0tjXB3DrvIgGZrX1UchZ3ZN+t0V1lXj3KOUye0LW7lv46+tB/j07TXN\n",
       "Ct1q20WuXsdqZeE6e91ydmH+ZnQFNWWuzcjNaruhW/DSxiYWT+vmYWKQFI1SDzcdV/ONgtlx5T9Z\n",
       "R7OAvfAShTL7wn540+PwBrx81uvq7QbwZuvRzU6Rw1wtoWWhjF1l/mRcFmeHzkgkVyPRjIp/jFZ8\n",
       "ztWSd7UqLG9eVzNNq7PqaOC5VTfTWbn7wtR7zTmH9uGKx9U15qmj1kP7mFvfCHE1N48630mSc+MD\n",
       "rcx9MZKrUWm+dRWDpGheV2FwrXk1Vh7ArmYV4wX6i++Zw1pnX9gra505haoC4+pza38D8K7Z+WkL\n",
       "pxv0uKKGtoF5eysov4qmOJ3kLjM3PuoG4mO+7aqgt4pI8++tOJAUzduuwgFrk/Aabh2gcJvx3hdq\n",
       "I6ar9r6wUt8u3fbxUx9hXNXf0GZglzWiKL9VrjrH9h+bb2S2gQlcHaijgbZ9AZ4EeLZvJRRoliTH\n",
       "AJFpvq5ikBRN4OpO60Lczbma+711cpf52N4XthGeabfepDfHGVfVqmFdZp95u+cryqB9bLf+Z7eB\n",
       "eV3V8EB02I5zGEOWnu/fB/c7Axnp8Wpkmp+rmuDzwmje8Sq01W3nuDWrG62G5LTdUK63WxVl+549\n",
       "P4JCoaE3qKvFvrJxWSwbi3W10z7adZfdBnaCU2NgiDuFHlt+APDUVGaD+f7XfV0tTi+e1u2BCUFS\n",
       "NIGrwHQxeCVQn4HdvwCyL2zGuI5WJb3/21BwXR2r5e8y29EbatABRYNqHvVDJp7dBnaqgRXgKzjn\n",
       "zoa+Eq3duUnvkhII14hi0bo9MCFIisatoVFX9TnR+uqr2uW79HFzX5hx/KrRoFjzhfEqfMltAYq1\n",
       "kS1m2XIrGqXGGngOzKPRfVXwNjB+JRDyaFyW6XwIrVu4axmlGYmVwBi0LcKVQA4kSaPUUzXkKru7\n",
       "2HX1gU+8V9GOmPvCjOM37jgLO4xSKCtuObTVdbV9Q/eLzgK5trlp9Fvm0R5qsdvASHiYhok3uQMv\n",
       "o16X9pKB3E/I2R3CG9Qu1GVIjoaj3xhkexZK41qkI9zSligWkGGO+qE9j7vPCPd8dLlzLRRhqWBV\n",
       "3PGLYrxFOUNe/SzgInRMCCIsFyE5WpkdZHAg+0EojVKvI1fzt9Z9XX2QOeIkcrXdZ/Vg3ThWZvyy\n",
       "Gg/Cnd6i7BRlWLA4r1yD5GjKNfGwarX3c/1oRHM4blWYAl9XKz5BHNbV7+0xkvVRis/yykAn0pzb\n",
       "sz8VvNFxoFNw6c5DcrR2ZpeQPEhUKIJaXDQwSgRmbBApHb/kbm0Fb3RcJxjp6FcgOZp+RTCsCgUh\n",
       "GlFlIQFXo6TSNNKhbVZ65O1W2Jdme+uCk6cgQdopZslaGoRoRNXZlF3Fez1VdkNTcCh3SFicWoK0\n",
       "XnrPRQAhGtHsdMquKhexSqd54a1XSZC2LnaEfp5TZzNZeq7mLmGVTZpwh+pwNUHacDVmmQiNUkfG\n",
       "U3YVjnMqmcrCTqM4mSCtGPfXEAiNUs/V03b1cAOrZMpPiM4W5iA5WmEuZpEIjVKfgLRdHW5ilR2R\n",
       "dQrbkwVIjpZbiFkkQiOqn0/d1ewgVsnk89WfbZAgbVvMIvFfdiJfMUrRVWUGq2R6xKdAtQRp6/B0\n",
       "hgkS/3RQhkY0O5m6q/o1rJJDB5+h09h4grQxbl+FFSQ2Y3Pa1KQEjVKHK6m7CvexOnUPXQiyool+\n",
       "qeDzDTN1gqGVz3zzHnLt7PhlNJrK9WHWCn7eWqkLcpXQKPUwpO/qWNPVcu2mbNdGc0mmYkUTQ9/k\n",
       "qfkLzAv+0zb6kGrCdpP4ZTSaBXOvsx0kDneVLRDKU5qulidcVeBJjVSUatDvcWzye+J9hlrJN0kv\n",
       "5MQvI9LeR9fZDhWHu7qJU3VyGVyFf7JK66cdTfRruny/pVZqMjQ3QObELyPSDBhznZ1QcZirhEap\n",
       "w33L4Sr50ShTtYkc2DXDiSaKU5uv4fRnrEzaLqjZLQCJX0akWTD3OtfVzo17njDyFugqoVHqClgO\n",
       "VwuDVHcWBlVSBieaKEyf9p86HaTU3MRBuj3RjF9CdNpB9jrboeLQukpoRJXXlsVVc++Ho+q/XjlL\n",
       "6gmJJopusqMB08UmpW3+whTxy4xfxqDlm8x1toPEYa4SGqXurAe7ulS/vvhCHWv4fCxgjU5/E5Kj\n",
       "6W8y19kOEpuu5g5ea4bRKPVh53+fX198eql+fTFXxxqang568jFIkPaYt/pK0ojqTl+l9fc/CP9P\n",
       "PkldxHv/B8e8HdnGSCoTAAAAAElFTkSuQmCC\n",
       "\" style=\"display:inline;vertical-align:middle;\" /></a><br>"
      ],
      "text/plain": [
       "<IPython.core.display.HTML object>"
      ]
     },
     "metadata": {},
     "output_type": "display_data"
    }
   ],
   "source": [
    "sum_split_after = (\n",
    "    Forall(f,\n",
    "           Forall([a, b, c],\n",
    "                  Equals(Sum(x, fx, domain=Interval(a, c)),\n",
    "                         Add(Sum(x, fx, domain=Interval(a, b)),\n",
    "                             Sum(x, fx, domain=Interval(Add(b, one), c)))),\n",
    "                   domain=Integer, conditions=[LessEq(a, b), Less(b, c)])\n",
    "    ))"
   ]
  },
  {
   "cell_type": "code",
   "execution_count": 13,
   "metadata": {},
   "outputs": [
    {
     "data": {
      "text/html": [
       "<strong id=\"sum_split_before\"><a class=\"ProveItLink\" href=\"proofs/sum_split_before/thm_proof.ipynb\">sum_split_before</a> (conjecture without proof):<br></strong> <a class=\"ProveItLink\" href=\"../__pv_it/theorems/9fbccde6af99abd32e828285e510fee75edd0eca0/theorem_expr.ipynb\"><img src=\"data:image/png;base64,iVBORw0KGgoAAAANSUhEUgAAApYAAAA/BAMAAACoUJU2AAAAMFBMVEX///8AAAAAAAAAAAAAAAAA\n",
       "AAAAAAAAAAAAAAAAAAAAAAAAAAAAAAAAAAAAAAAAAAAv3aB7AAAAD3RSTlMAq1RmmUTNIjK7EInv\n",
       "3XZ/CtNrAAAACXBIWXMAAA7EAAAOxAGVKw4bAAAMVklEQVR42r1cbWwcxRmeu9u73ds7nx2VH0Aj\n",
       "4qgtBTVNrtAGBdHYUWghKolPUP8obXGANlWQkI+qlYia4quKIrVN8bVphJJUyf0IFErCmdCmCqiJ\n",
       "69ISURKbCgREuL6UtCgBHJMvOyb2dmZnZmdndnd25xrvSt7nvHvz7LvPzrzvOx+3AHi3HssaAXOx\n",
       "aQ3yYU3EAuYDEdgc1rDtyVrwuTWKHCJmLOuM3/d7ursrc6LlfwkW1kYtcTICG8RNVUf9pcEFCtXg\n",
       "U1EtohwiGt3d/lqCudnSk/QC5ahFsgOhbAgTztce+1DCtiPwTHSLdgQgAENxarmnSOrOXyMXMYdC\n",
       "2RDmWTv6vMyA9qDLRLeIcogYs5ZfpY7OaVC5d8N83aJaGBvC/vGro2iZfCXI9Ua3iHKIGK+WxhT5\n",
       "0O/UojeMwZBCLZ0hbDZ+WDsRRUvwesBxFYteD8BYtcy0kQ/3OtWhaoYFueRkCJuNW8DSSFouCXCL\n",
       "KhZRDhFj1ZJelMmTL4WXWh/llg6DFcY2uD0eomWmGvLAIlhEOUSMVcu3abN1bqg1QvRcUpGz2TjB\n",
       "bkSqZXLK35GoWEQ5RIxTS4PmX/1O5MuUwEBYsXynlA3jsVQ1kpbgJX93qWTRSwEYo5aJCfJhgXNI\n",
       "X7m8FtpXmpCyYXx0nB7/Ue9BGVuX71E1i7oCMEYt66SCmefUEvyzUrZ6pxJbT9EvuzzXFIeIMWrZ\n",
       "QRxfakqt3N+lbB1qvd28X19R0SLKIWKMWu6i3cIJtXJdZRnbLsXRFb8US9EiyiFijFpepKGyqphK\n",
       "FWVsF9XIkn4eQ9EiyiFifFqmP6bsA2oF+9okbA5rxE3/yO9+B5riEDE+LbXztM2W1ArmByVsDmvU\n",
       "7VU/L1JqjkPA+LTMTJMPvXbS0WuxbVZaMDstYcOYcZFZ8rGJXT4pj21RExwCxqdlKx2qn8Fe0MIB\n",
       "2Pzh8eFL0oKFMxI2jEmLROLf3TPfko9NnG73HptpkkPA+LTsIw5ex9EiwaZBUmPtUld/TsJGcMGM\n",
       "c+bLZ+SRzJuPEovUOQSMT0t6YSrNGIsCmjSOGhfDb6fFYgFqldSM/mrQw1LnEDA+LU8TH1Qg3rHf\n",
       "YrnObXw9IUjySnNGwkbQsFiuo/H5aJknrXtnBYlF6hwCxqdlF2nIGmk/BYulzSnum/8meA9BS8JG\n",
       "8bTF7p7LRwvkC2kifqs3L6cWKXMIOATsiv0pUcuEXfmLl7PbQzp7Wdph2+Wpb9qLKCAmabZXIJcf\n",
       "qwWzOazeWeivvYD2n6P/vkuG17xZAbVImUPAIfAVBN8TtdRQypUpX0YtewlZhlbHPZYYBp7bjCrA\n",
       "k87/D/Al/dgomsNihMpdidqc6fS/MzX+8q78arJJDgGHwE+QI6iKWhqoum64nG18mNSuPK0Yac/k\n",
       "/NA30HdWOv9/kdS9UjAbRdBjCclA/jPbUVV3mlYKP7msk9zf5XxzukkOAYdsrXPtHn+J6sS+y6kl\n",
       "9XrMYR26xDfeNL4nltvl8fkF7cFsji/NWcIcY49dOM8O4PMJ5wEuBqJFqhwCDoEUVD3jjT03wr+1\n",
       "c6tlxuIvkMN5NzuYKUbXEvRe4L/xZ3t/LTtwf6iWqhweLcGR0dF/eLXMj46+MzC3WprD3MBEav5r\n",
       "qAlp8Krm+NW/gI0ihxO+rmIULfdYnLlfOHKFHTzg37PHn3oRPo7ncHw7K9FSkUNAqOXtAGz3aqlV\n",
       "QLYWpk9ndClNetd1lpTQfiS9pwatjBo43lgN1V3r1nL1KNpe49hMpqXTByTbrFOROgvXaLDKLw3S\n",
       "klmkyOHV8iGgo+dv3lp0awmPPeRwbuJj0/wdq/5gfxD7EMZ6tgfgenf8NWmnu878ocb7pz5b2Rb4\n",
       "+G8CHbVPwFvDXz3kHWmgbKarK9/FuV8dq/JP+ETKqekEvLdF2JHMerUcbJJDQKhltpZDgTL7pQqX\n",
       "q28Hf3RI2dIn8NhVW8Gb4IVTPlqaAHzS/oD31zdAiJZgjBshWoIDDjSmghe4GBMqWrZwoztJXPZv\n",
       "kIWscOl33zes5K/SSu6ySInDR8tkww49rTW+37PYFXrY0iftdtQpMD5b9Gqpr6iBw/Yne7+sCEK1\n",
       "7Bvxeno823/UDuxK9VKf8QYypAOktAm+FaFeqnF4tQRrl6NnMH8fr2UmBUubz7+PGipZ+nRwOcn8\n",
       "NQ24tHxm+Z9QJZpXBsbscfhE7P1JO/i6Vjp5Yw8AH3BZ+K8AbeNoHeDvoU0jQf7SJ/aAwstcZ6aN\n",
       "tk+0INCs0YlzaexR5PD6S7DP7l8sE/rjuWth2b3lfnS7eOlTS2mzidW76TqXluabBsz707+BXywc\n",
       "K3Ti/Wacx7hWOvlomeY9/VF8Aw1gbk0Moil/soAgWhwHPVwgw/UI7ATg6dJ8kHNuUK6lGoePlhtt\n",
       "+W8VtNT/Yh/cjD7jpU+rwFNp+7bMxoBLS60TCpbegVxEtohCL9on7f/dK518tOznEkcd9x5gIpSc\n",
       "2j2YbsfpUeT80uB7UX24swSTmCU/vwPcSVKbkPxSkcObX4JEBesljBNdabuK49gBrsB+I7V+27Zf\n",
       "g1yuZtYcLfOlQhvA9TBf0drI3hbXvdJpmD5sll8e5YcR8QljBJhrGp++wW4IgVoOCwhzQ96r4kAG\n",
       "fgnA7vHkSsTwRpCWzCJFDh8tAQsYwpibOQm2QL9Flj7BlmzYNeXOn4Ic07Jezt5cMw+gS7WCfDvd\n",
       "G1eUuZVOdLSHDdRk+PRUI0OxbzlHfsyPBbk3ysbGkL7Df2EFuZpTVh/hh6mYlswiRQ4BHS3Nab/x\n",
       "y5eN8zebA2jpE9x/F7oMO6sf6ATfZm08X+6/C97RSdj8W2rLwDP2Hl14Xs290skz5ga2cYYvzLRz\n",
       "IxpslGOsHD7mBrJcTpFsu48bjWAjFC2TnrENxyJVDgEdLd3LYZmWX7/h/aIxhJY+wf0PbjwFNkDb\n",
       "U/OuOXAv0zK9cvHzJAky1jRga0d7PAztXulEJ06dWVjtGDMb/r1Nx9qyVDo6ejXsNxZc4hGsZikd\n",
       "fCYt22lC9zg9ukFs0KxBnG+SQ8AhYTjJb1w96dqbB7ZtZWf4XJ30c9oD5ihINC7QQHoLq27IOS6n\n",
       "ExVmVRD1koSNYoolMyloQOoEJX8a8IK0DnrnKM42ySEg1TK7sBKo5d2uPb/5zXmlA3rxHaS1pz72\n",
       "JERJ/v4eIfieX/4ssFF0JTOL+MkjOs1U9usecBYpcwhItcyNB8/3FL0zIBIt8dzNz9CKZ87P9ZDQ\n",
       "kibzj31O/TW7pGMkad9lK20c6iyZ2S1fANjTFnQBdQ4B/7+5M5U5jDrxPuYFISH6/gKrIiuYmpWw\n",
       "EXSSGX2hJV8A2OHTIb3QJIeA8c1DtlCnP4YTogvr7G102LJmpAW1KQkbwV5M9uA7VthPObv8Eqwm\n",
       "OQSMcW0WTUbwesou1+qds9KCmQkJG0bNvRZIPnna66dNuTkOAePTMkUV61CcKW4dkbClziqa4RvI\n",
       "is1xCBifljr1532dagX7ByRsutpSc2D4rddUtIhyiBjjuuAjtPur+Nv00xUZ2xE1soKf81W0iHKI\n",
       "GKOWh0jimZtWK/dbKduhmhJZdtDnoKJFlEPEGLXsIxmEPqtUzPxIytbXUGKr+y3YVrSIcogYo5YZ\n",
       "2r1dpxazpqRsDmu0zf8nLOua4hAxRi1TNCnqUFqmlBmRsqUmlYx40F8dwaJN1SgcIsaopUlDaF1p\n",
       "DUNfUcpmKv2QQg/4EZtgUWIgAoeIsf5O9w6aZyNfPX6bMwyD594CQ1YIm41R2XL+v4rShIiUl3Vq\n",
       "KYeIsWpZJ2HCnEVDLldl2lehAZAinnsLrM2zIWwII7PVG8EXKZx4hA77uV45Ib8wxxmnlgX69D9A\n",
       "o0k7DVopOmWvZdBGQtgQRmZbHXAcWgTeS1Tv09Dz2OJ+5UQwh4jxvrvkX3RgAj1J16sECm0Sd1kK\n",
       "Y7MxGpse9MsqZFEx26BN2/XKiUAOEWPWkr4ECL1RyBjUAW6V9txbYJl5oWwII7IlgmS233XEZvoO\n",
       "02kzCYeIMWuZo7ngfrAxt1ajNQnPvQUkUq+EskGMynZL4Jn98G8zKJM2PgGCX4tEOUSMWUu0AgL3\n",
       "uhrafw6eonWCzL35bhsr4Ww7QUQ2/XBwv7ChD+531kC6XjkRxCFioJZz9W68vUQZ862oJe6PwLa3\n",
       "EjXtDx5bgxat+eY4rWKPjodyeDDg3XhPzNW78XRK+3DU/L4UgU2PauwTknMPK3KIaHR33/0/++Ub\n",
       "J6wlJ5QAAAAASUVORK5CYII=\n",
       "\" style=\"display:inline;vertical-align:middle;\" /></a><br>"
      ],
      "text/plain": [
       "<IPython.core.display.HTML object>"
      ]
     },
     "metadata": {},
     "output_type": "display_data"
    }
   ],
   "source": [
    "sum_split_before = (\n",
    "    Forall(f,\n",
    "           Forall([a, b, c],\n",
    "                  Equals(Sum(x, fx, domain=Interval(a, c)),\n",
    "                         Add(Sum(x, fx, domain=Interval(a, subtract(b, one))),\n",
    "                             Sum(x, fx, domain=Interval(b, c)))),\n",
    "                  domain=Integer,\n",
    "                  conditions=[Less(a, b), LessEq(b, c)])\n",
    "    ))"
   ]
  },
  {
   "cell_type": "code",
   "execution_count": 14,
   "metadata": {},
   "outputs": [
    {
     "data": {
      "text/html": [
       "<strong id=\"sum_split_first\"><a class=\"ProveItLink\" href=\"proofs/sum_split_first/thm_proof.ipynb\">sum_split_first</a> (conjecture without proof):<br></strong> <a class=\"ProveItLink\" href=\"../__pv_it/theorems/cfd657c341c43e7ed4570f19599957cab1a6dc8d0/theorem_expr.ipynb\"><img src=\"data:image/png;base64,iVBORw0KGgoAAAANSUhEUgAAAjoAAAA/BAMAAAAbNH9pAAAAMFBMVEX///8AAAAAAAAAAAAAAAAA\n",
       "AAAAAAAAAAAAAAAAAAAAAAAAAAAAAAAAAAAAAAAAAAAv3aB7AAAAD3RSTlMAq1RmmUTNIjK7EInv\n",
       "3XZ/CtNrAAAACXBIWXMAAA7EAAAOxAGVKw4bAAALIElEQVR42rVcbWwcRxl+7/tu78OuQFCClTgq\n",
       "FCTS+iiQClRqVy20FU0ctfhHSqndFhUVqfIFgURFqa8C8QNCfdSKKqeouR9poZByToCKpoIc5qMh\n",
       "NLGLimirGl8gIkAbx47b2HESLzs7M7v7zs5+zLn7Sslj3+7M886zM++8M7NnALcN6vo0rM22Chhk\n",
       "2ld8LiZbyrwK9lQdI3clretnZPcPDgxU1yZOaQgjfLcWUOK/Ptf+rcwbkpSWqWHkrmQHBuTqwFpt\n",
       "sIIRYhMBJXLeN6SWlHlDklJ7XEDblclI1NF+jxGgENQZtUnPS/vKqrxhSVn93RhtV6JRJzmEEWB0\n",
       "bl1AmU11ryufVeYNTWpa/AhG25Vo1BmtYgQ4VT8RUKbY53Ehu6zMG5qU2ssCWq5Eo85dAgKMweag\n",
       "J+gVXdKdyryhSan1VDBarkSiDq/d0eDDcF1QqfsCfA/Pq0BK9a9htFyJRJ1iDaNh8zAZ+AQ9Yuir\n",
       "yrwKpFTVZYyWK5GoM9qN0bDXEoG5R0EeeLJnlHkVSKn9QUDuSiTqbBDQsO/MBU8489KPY/PKvAqk\n",
       "1PoF5K5EoY72FsaQllqUftzoU+VtI3ktY+SuRKFOYhljWPuT9NPeqiqvuhWGMHJXolAnN48xrPVL\n",
       "J6c9yrxtZK9LGLkrUajTUcMY1nqkK4ZzyrxtpCCLGLkrUagzOIExrI3I0r7UeWVedcssYOSuRKFO\n",
       "/zaMoUd/U9bp31bmbcNeFJC5EoU6w3UnDuu2rfrHjRVZHruizAvmzpVtreCie+oYmStRqHMRYY9O\n",
       "Jx3t68enLvhvQ8nyvo5pZV4SQHQ2f/34zi69GVz0dDdG5koE6mTOIYzZu7CJ2W7f2CjLV0Zqqrw0\n",
       "MbSl+nSIZLunDyNzJQJ1eCM5zi7YQcS3qdlzPn6H56VLLt0O8TeHWIPUMDJXIlCntIpxVLdn6hvx\n",
       "02bI8hztoqzPi1GjgkDCS5un25l3UpJHVbAHjWmMzJUI1EmewVjS7Y2FBLrznwzvZKjLJiJhMJa6\n",
       "cRk3L1NVtzVx51G8lhTTvmMeI3NlEsweeJmoTszsq+V21MktY4Q9rj6RfJ7MDXGen5QYz2xdMptY\n",
       "C4nPHST/f0Qo4+Zlv3kcOuFa4F9sIK5gZK5MwmcIfFlUJ0lyh3SlHXXSSxhhny7Gjv07ybN7yvqd\n",
       "nSANS/isz/KXkn6uDQll3LxsbExJ16RiLem63GdKOwkPk+FXE9XJki71QHtLuhWMkHKdmk1uJ05d\n",
       "b/3+cdZPJOncFO9PhQ/uJr2uLJSB20Re3ghdNkGKtSTog8uxnJMjc2XSVC/f7Yo75NEcaG+ZJY5h\n",
       "OHQBD5kUbYedhxTo9Q2S9lixaNC8pyCWgStFXt5L9COykCrUAvSmGHt+HJkrk5AwdEy7o/LHjH9D\n",
       "75A6aR3XlDdDQtz+MF0OVuc35v+Xi2U81YHhsxLnxFrgHn914OjMzF/c6hRmZl6feIfU0abQUjLR\n",
       "9RLpz0mjem1u3feNHpqnyUl/2Vudjx59txlUSRx4/8mWVcZbnX26239HLT8//pPnDQn202mCzf8c\n",
       "mSuGOjcB7Hark6xCru49a/uo05jH6FhN8Ha0+MNPwvHWFkOvIac6W2aIvUSFtfrOqvWo76iQZRAr\n",
       "Y6vTENSxVhNOs2vpK61PGn14c4A6OyBDHoN2Q9mpjvHZDqtO67i+6/Gbf2lGL5HVcaDfaGIkpDgG\n",
       "jJhaFY0ndzX01t9lNITeesi9XtT40ixDm/pX8ziYNIuVcagjrqf6L7ger11LopJYiRkt3kTHOssk\n",
       "OTJXDHVy9TwJ0LlPVFE2uBt+ZVVqHtc/8r5d8Hc4+D+JOnXngb5EHZhFq/MeGlYN1io9Bs7OB6oT\n",
       "p7f80dwSL06wMkY3e5F3M5c6Rffq3K4ly46VRwPUibfMoNxRx7nylY6gTI7rkzeRrDP7obJbna+t\n",
       "cx7oy9QZmXaHxoI5aR4zJ7HgvkMjOWlXoQaNbVYZn76Tca9M7FqMeky2OwLUgaFriapdB7A66YRx\n",
       "g/aLN0haRI7raVaZpBGHqsOuPvxedKDvjsoAb6I874fARxZ5++SnBvm0V9yxonKuk4+JRgt6wSrj\n",
       "HZWh9II7j7dqIW+zaEaHuCIg7sABM+38pLDOyl9ulH2mMkradap+QqOB5eoPO9ShV7ffCOhAX6JO\n",
       "CsfHY7SOFmi7Yk0wRgk7lfObs+iThicMdbrhPfEKL+OjzmDVnQxatTy9rQvyVrN91HnQFPQGQZ3M\n",
       "78wPd5Kfx2Bzyrxda0041DGvbj/I7vBRBx9SZmhCakzJ8eW9zVQ3ndwD8p0RmkfvJ6rGX05aZbzV\n",
       "kR2i2rX0fO8WuJVN7n75DsSqtH3CGv1Sc4AeJz8ehusS942PPwr5fJ10R6YOuZqlq3zHgX5hHqOh\n",
       "6TFZaMxOg7a19YGryCDb5qnOFIrk8AOjtvW/3vEfq4ytTkHMdyQ7pnYte+fi1xO6vwWpA6x97h0M\n",
       "bQnGjLBAjuuz5qO69duQt9ShV3/2KAA60HetdyGNV6FJlse9Yn3yLXE97pjt2GTBxC9WhTK2OkVh\n",
       "B/pLklzMVUtm2mNfoYrU0VZk+zsvZN/+lDZhHtebGeNEH3zRHlnkqhH8SK9zHOi7mGAcebgx3Y3X\n",
       "kdZ6dLbitYMR77wbrRoda9jb5DsYkHPvQ0pqYevRIlubc2SuWOpkmzJ1Pn/VG2Vj7JDj+gcMNxOX\n",
       "rH/uLlsdcpVwjaEDfX7GYp21JF+z/TP+vcp3LnJcDL5FMCXb/TIHUHE3Ty8eE8qAi5fZFjtD4QPW\n",
       "XQvfhnBFgym8N5jo89wbjNPO9dz4LvvB4BseQxPpIka4xu4SJMhcy7dPtZogk+zI4rT5cBMneB1P\n",
       "i9K6eFl77Ok8wdVx18Jl6mhiZK5wdXIbq57q3C7Z//NZZyXOY3RM53GcsD3E8KRn9gbQKywlMy1U\n",
       "RsLrms43Sc4vWC2lCs5WOWbwvnJ+zntfuaymTmoB44g1E2n9vgcMqQXZhkzotwZR8Yw9ne8N8eIK\n",
       "Z+HI6mpz1z3jc007i9Cezr+6Qa/6VZqQHZU2Qm8yaWdl03lmox7ixZXeFkbmShRnobMI02fvNW1m\n",
       "Stcv+h9myJpRnFfmNbe+KOn9r+uhvvPRX8XIXInkLYOKE/sdJ9qL/tv1MiGSS8q85paJw0KcrAwL\n",
       "yFyJQp3eMsbQm4qyh5xYVOZtwy4KyFyJQp2RPoxhbVS2U5t5S5lX3bLnMXJXolCnMI0xrJ2Wxuyj\n",
       "yrzqVlrGyF2JQp38Csaw9iPpp4fqqrzqlmti5K5EoU5mFWPYGXlBPl5aqrzq1ujEyF2J5G3uewUM\n",
       "Zx4v1KaHlHll0vt+n4S/9cuRuxKJOr0VjOEsLQ8biSVlXsFIsH7klF/B+wXkrkSiTmMCY8gpRz4h\n",
       "a+eVeQUzF7tX+A3JRYyWK5Gok2w6sHTiIWtRTnfpPeyQx+e3qPG6+QLVyc9jtFyJRB1t1YEnY7W7\n",
       "k+OGjfE9fP9C7h7RUuJ18wWqwxk4Wq5E892+Nx1YzrV4HsP28D0evFe2Umoq8br5AtXZIqDlSjTq\n",
       "FFsO7LD6C9vD9wg7nu9i/0ONF/MZ3ejPRjfyU4edkVhouxKNOvwb5CbuhArt6XwPX26XeG++VJR4\n",
       "XXxBfSfWidF2JRp14FkLM81nga9/6C69R7ZzxDtoDinwSviC1LmmjtF2JSJ1ci0Lt35hjq8F2C69\n",
       "1B702Rh7QoXXzUfU+ebwbz0H1mGMDlfk6qz5r4Ror2AMtnt8rj1TVeV15zs+WWgZI3fF66+EPLnm\n",
       "vxIC3xAwsFl+34/JVJV5xVzZx54UkLuSHRi4/f/QBCOmm/DhIwAAAABJRU5ErkJggg==\n",
       "\" style=\"display:inline;vertical-align:middle;\" /></a><br>"
      ],
      "text/plain": [
       "<IPython.core.display.HTML object>"
      ]
     },
     "metadata": {},
     "output_type": "display_data"
    }
   ],
   "source": [
    "sum_split_first = (\n",
    "    Forall(f,\n",
    "        Forall((a, b),\n",
    "               Equals(Sum(x, fx, domain=Interval(a, b)),\n",
    "                      Add(fa, Sum(x, fx, domain=Interval(Add(a, one), b)))),\n",
    "        domain=Integer,\n",
    "        conditions=[Less(a, b)])\n",
    "      ))"
   ]
  },
  {
   "cell_type": "markdown",
   "metadata": {},
   "source": [
    "#### Index shifting"
   ]
  },
  {
   "cell_type": "code",
   "execution_count": 15,
   "metadata": {},
   "outputs": [
    {
     "data": {
      "text/html": [
       "<strong id=\"index_shift\"><a class=\"ProveItLink\" href=\"proofs/index_shift/thm_proof.ipynb\">index_shift</a> (conjecture without proof):<br></strong> <a class=\"ProveItLink\" href=\"../__pv_it/theorems/801345abebec5b7a87c8c43e135db82a524e0bc20/theorem_expr.ipynb\"><img src=\"data:image/png;base64,iVBORw0KGgoAAAANSUhEUgAAAdMAAAA/BAMAAABJIT/TAAAAMFBMVEX///8AAAAAAAAAAAAAAAAA\n",
       "AAAAAAAAAAAAAAAAAAAAAAAAAAAAAAAAAAAAAAAAAAAv3aB7AAAAD3RSTlMAq1RmmUTNIjK7EInv\n",
       "3XZ/CtNrAAAACXBIWXMAAA7EAAAOxAGVKw4bAAAJsUlEQVRo3q1bbWwcxRl+7dv72vtwov4qRM1F\n",
       "rRASCF9pSwVq46uSlkYlsQVYAiHha1NRgYR8parUHyk+UOmP4spXRf24NkruR0Qb8mETEEhE4FMQ\n",
       "nxWxQaoaUoLPJS2CUMdJSGxM8HZnZ2ZnZ3Zmd289I/me8+zuPPvszLzvO+/sAfhK0rI+h67KDgHD\n",
       "ivlAwEGjA2sulMAlGrWskuS85KXhu7pquFjlEX7dCLniw4Bj/yWYuX8NWj8U8LHhEanUxS7bHanx\n",
       "CD1TIVdk1Sckl+i3q50+jieVEjCivA6p5ks82s3Wwy45rjx0qEy/vebca8wRfFwk0iLVqPIIMLFw\n",
       "Vcg117dUR75Hv2RW51tEau79rucvJXCJtEidqPMI8L/WmZBrChXFgcyyawFOFStE6j8y7W6lUgKX\n",
       "SIvUHwoIsBtuCrmmd0lxILXOnW7lRBVLNRpmvVuplMAl0iHV1yiaZd8Ju0plXvtrbMIb67Y19zSb\n",
       "5fxQjNl6v4A6pBYaPNplEY6HXdWv6Kd33G99zt2hXu2rxZBKCSjqkDpR4tEupxJhjhXy8smaucAe\n",
       "YetmYoFTQzDVtVRK4KIGqRsFtMuvFsLNtpykh1VndnSI1PSWza2upVICihqkmp/wGLEkL0qrJ8XO\n",
       "julXGQFFDVITyzxGLa9IawfEKWzEleoSvKJNanaRx6hlUGpr9oG2QgkIapDa1+AxsoUsy2o/1SeV\n",
       "EhDUIHVkiseoZWydjPozfVIpAUENUgeHeIzsDGSxnnFJn1RKQFCD1NGWF+0lsFtWg+f4iiwsZJUp\n",
       "T0tWnNU6JSCoQernHPZb2ISaP5+fuRK8nr8gm/izLN60iEn/670brHYMqZSA4Nqlpj/lsMdybzYx\n",
       "VwoMnWV+eMxj2zayrM+3L8SQSgkIrl2q0CDMnWcTL9AmZ2TGtt8TQRQsZri2xZBKCQiuXWpxlccJ\n",
       "izmRW/n+J0jcnSlL1Z3zTMqMxQIqQ+KElWsAgYDg2qUaF3gsWmwtl+DO/DfBewlaMnPuvZ9zFlPj\n",
       "d8JF5fQQCSwq1RklXxal+mtVdm6ZR9jn6y3jGDLOvdTvFsltz0lC+H3euDDL5r2kvevUA00gwGhL\n",
       "/S7Cn4hS/bWqrMESj3DIEiP2p8ZRBzzh/k9ys6OSEcjVmTPyFYTTnllV35NAgNGW+giaRg1Rqr9W\n",
       "5ahXeISkJZrL43ejx7rF/f/rpAclMccM19Mj0jQ1bs8oq+9JIMBoS03Z1+VKolR/rSoEXuQRYPoK\n",
       "PzKT+CEw15jHxzdKmufnb856Q2ZKnPbyQY+fJ8BoS03YjyflM0v+2shSUxY/tnLOjOtllalyRKkw\n",
       "elnCiNu7JmhSleVS4c3Tp//ut8C+2shSzRkuZk9seAtNXsO2SubCVY8fte8V+8vBcqjUQ5Z/DUHa\n",
       "+4H9d2T+b8fE5/Xi+3WRACOS+n2AP/ul+moVZXKRR09wSB9Ghz5pA+Y72+2brXrvZPtpVN7CT0mQ\n",
       "6gaH/vZ22n+V4pcMwUj/smQHLjyBR+pPIY2egrm17JVKarEz5zOZPa8/8xfXyk62eUQdyE+xMUd4\n",
       "wWb6Jgy0vmALwKdO+2N4UwybB6/4PRJu7237kdUSKz3C0PgX5DsiAUYn/djKIROV/UbdK5XU4nI1\n",
       "C2Hmm0OFWu5IK0AqzHFrmn5sKuzW6niXIrMYWWpBsqbB7b1st0O3Tp5wBsZJ9JRXJARMam/HsT99\n",
       "LW4Ak1pcXnO/ba2jIOjRn0GQ1DFuVL3gSgU44bQfvVfTkujxBSoVUA8KtrchIWBSoboZSdtwlA8M\n",
       "ndqDm58DulGENolIIFKpBJglgI+54OB3QAcw2lB80qaaVc1VX7BYfNUvFbf3tuN4ayY/wCcdVTyB\n",
       "Z67CUSe6uFmIgVGt+c8MCoLwRhHaJDqAjeBD9SCpSd6WnMBRXgfM3/e0Ue6a5MMjWGAYqfvPwe3t\n",
       "BTgwtAFygsmy2xwSCTxSdzn2Z6sgFdUaFWcLDG8UoU2iO5wTjuSCnI03zY/GIM6h2A6gd3l/O1nC\n",
       "fieaX81I1qmkvafsSfub2+B2ITxuQK4uEjC/Cj3Oo9stSEW1+aEiegxoowjPtpuazWYJpp5H45DM\n",
       "jkUe7aFwgncY+EBmFswdna/ciMbykFLqjOBXJYkW0t5vAfYv9G4R2zj2tY98BB6poulhi7jJWvaW\n",
       "Ft0oQptEjzvHry3D866NXOHR9qB8uG8Qn3WS+T7JKgakq50fy9Y1uL1CXe3rBQKMTKq5IpGar03c\n",
       "0TrobBQddDaJso55MiA5q1zEQZOj3ZQqcTE4C/znaiGLOMhK1hu0vURFLVUgmKvxUj370kxqcssN\n",
       "T8N4CW0UjZfQJlH6T3btV9ef/cM6MZ3ppjWNU2ys2X/v0MVbliqjC6aZgEwrLttZH7v36bb3R3W6\n",
       "SyCYEbIQnqckZiFKns+DzSa/9ipe5BG+xToLTczNNOtiNgTNsoTiOa9VTjBPk3Dv023vgDpbIBBc\n",
       "4aVmN9VVUpMt9ukvic949HiaXj6l+TDBD9TRAQxMyT3N9ZK+U+aGBYK0kFvKLShzSwlJnshz8nke\n",
       "x9jsH6wErROS5yWVI57djTTzNPu729CU3tna02jmZQ6Zp3loo1UPujAhS/5PViWeJr3JWo4hlRIQ\n",
       "1JDdn+Mwdfk+p5yeCXtR0ZDdfsFDPYpbevBdy1Lk0yASAUEd21PcNuagZ6PlYnD+TcZiLHmWgp5S\n",
       "jiGVEhDUIHWgzGPU0ifrqcRF0FYoAUENUscqPEYtE7L92PQn+qRSAoIapOZneYxazkmN1pv6pFIC\n",
       "ghqk5lZ4jFr2SGunW9qk7uFRg9T0Ko9RndR5+XTo6FJKCSjqeEXrPgEjej25q0xVdUkVXzLSIXWg\n",
       "xmNEVyCf2gn5G6Ux3l6iBBR1SJ2c4jGi4Zb7JlP+ikuMd9IoAUUdUo22B4tnHnaXMk+fDejnaUX9\n",
       "behj4dYz9FKcyIvxrve0gDqkmqse/KCn8SOjaZfdcLg2UQu9yD9GbDnF2hdTpW2olTJJ5HX/rjd3\n",
       "V7qkwsceLGc71F9uhfGAoaDywsU2WkXtzdDzSCIPun3XmxK4RFqkFjoeZK8pvwzzATNJ+ULXe+jD\n",
       "NU5OIi/Ou96UwCXSIpX+MsbBcajhAWwuwe4nldesVx5BP9bJtNOABzBJ5HX/rvd6kUiLVHjWxXT7\n",
       "WaCx8KuZS7cond4b6uirCrtyVcObyIvxrjclYER6pGY7Lu64Z4GGdnfeeFa52NkVMOv2gvGfFz/y\n",
       "JvJivOtNCRiRXGq3P/8zT/IYXnYGHDtc1+BXdwqo+PmfOdzlz//gFwKGPpsgC5Ourz1aogQu0WPD\n",
       "w63/A0Aibd5CAChbAAAAAElFTkSuQmCC\n",
       "\" style=\"display:inline;vertical-align:middle;\" /></a><br>"
      ],
      "text/plain": [
       "<IPython.core.display.HTML object>"
      ]
     },
     "metadata": {},
     "output_type": "display_data"
    }
   ],
   "source": [
    "index_shift = (\n",
    "    Forall(f,\n",
    "           Forall((a, b, c),\n",
    "                  Equals(Sum(x, Function(f, x), domain=Interval(a, b)),\n",
    "                         Sum(x, Function(f, subtract(x, c)),\n",
    "                             domain=Interval(Add(a, c), Add(b, c)))),\n",
    "                  domain=Integer)\n",
    "    ))"
   ]
  },
  {
   "cell_type": "markdown",
   "metadata": {},
   "source": [
    "#### Index negation"
   ]
  },
  {
   "cell_type": "code",
   "execution_count": 16,
   "metadata": {},
   "outputs": [
    {
     "data": {
      "text/html": [
       "<strong id=\"index_negate\"><a class=\"ProveItLink\" href=\"proofs/index_negate/thm_proof.ipynb\">index_negate</a> (conjecture without proof):<br></strong> <a class=\"ProveItLink\" href=\"../__pv_it/theorems/24bdce39813cc22d4139c34a4559441ae56516b30/theorem_expr.ipynb\"><img src=\"data:image/png;base64,iVBORw0KGgoAAAANSUhEUgAAAawAAAA/BAMAAABOY+HGAAAAMFBMVEX///8AAAAAAAAAAAAAAAAA\n",
       "AAAAAAAAAAAAAAAAAAAAAAAAAAAAAAAAAAAAAAAAAAAv3aB7AAAAD3RSTlMAq1RmmUTNIjK7EInv\n",
       "3XZ/CtNrAAAACXBIWXMAAA7EAAAOxAGVKw4bAAAIXElEQVRo3qWbbWwURRjH5+62t3t7L62JH8A0\n",
       "UGJEE1GqRoxGbYkoEIESYr/gy51IMJqQlm+SEHtGwweD9mJDSEsC9wFUDNiKSgJGrSeERiE0BuNL\n",
       "qByxagJSKqW2Fsq6L/PM7uzOzu7ePMn1ue7d/Dr/2ZlnnpmdIuS1vKYNo3C2BnupGrLA++UQtGgG\n",
       "SPBJTbvK+l6+vb0Yjpgr4Dd/Yr+9FFSiFIIWzQAJXmlvZ8sKTcx3Wr5uCl+IDQQV2R1Mi2q7PeiK\n",
       "kCz1W/zmYDN+kwm8zQebAmlRDZA2WkyWBL3mKbjSPXZbQJn4d4E0rPLTSyHvHiBttJisbnxvlGm4\n",
       "crk8GlTobBAN26HO7rCd8qwbLSbrReyTDXClBy0JKrS4M4CGbRnaEbYegCRoIVnxKU9Nh9DSoFLJ\n",
       "UgBN6dVtFzqBLoSVBUiCFpKVBcov5NI4m0hVfzqAhofWFOr5KGz7TrvQQrK6ceRR7Gni10QpsNhx\n",
       "Pg3spDL5SNjbddzlhWTNh8lqnFx6ayy4WBufBvbM/Zeaw8pqc3kRWeo1/Ka/NdI0k2/m0moxQIIX\n",
       "kZWAntxSjFSHTIFLq8UACV5EVgr63t5odZCmuLRaDJDgRWTVQ3T4L1od4hNcWi0GSPAisvI4ra27\n",
       "Hq0O8j88Wk0GSPAistrW4js/GbESp3i02uwU7UVkdcCybQYv3mzjLyr3lnm08BwGEnsRWbMwKsyl\n",
       "dFzDoeyDFxq1QW7BK00cWgQOA4m9gCwZIkWXNdjnz5KPHrvKz0xbObQIHAYSewFZ8Ws0MquRPB6t\n",
       "5CddJQ4tAoeBxF5AVu4mdABrBCiaHbglevGBf5MhKxnm0HgcG0VusguJvYAsCXpIG/Rrzf6bVH6U\n",
       "w1+owxGgfpxD43AcKDA3EvsKMu/47W5ZMbNjcFPNFGQ7e3HulPJuwz19zPh5N/z6O+5mMxwak+NF\n",
       "+SCxr6AnDfeyW5ZkzCJJ7qI7CTlQB/6aesadrabnGL1BJTlgskyXZNFYHAbKB4l9Bb1h9NCSW5Zi\n",
       "3MSt/PQS2vwMTEN5zdVFMnf0Gf2L3PSEFVxSkxwai8NA+SCxr5hy002esfWq/jrMTwlhhGikRTXX\n",
       "rlLeFJyxL1ifx65yaCwOC8VGYl9BCb0Bkt6Q8YD+KkSUhTr+pb/ypflzoX3hpVCyPBwWio0kstDp\n",
       "kZHvvbIyIyPnBqLKOqhRRe47fas52PXXxxc+/ELvEp9YUW8iQJaLQ6PAmEjsdVkrEOrzypKKKFXm\n",
       "yurHFVFtWSTxwXaTtGdrbp6kx7clzr8tjZjWQNGYHAoFxkI6ZG1BskFWlzU7ZenXthACeWDQuHvl\n",
       "Z0QWTtjUG440/IazKWSrcj/oA7szMRPT+YussXOT0UhU+kdzKBSJFUwk9rqsVDltRPPUg0VqOu5D\n",
       "nxOE+cDg3bk70U/o2EWerCyVc8etO3BCD6x4J7o7pKysO3e3Uepm8x4X2UhbVrxqRoz6Mp1l3OuI\n",
       "GMYDA2mFMekrdzbzZMmz1FwzDHXREWY9nwspi+a4UKRWDKQtCxUeN5qj8TAtK5moku1944GBNZ1L\n",
       "Ei9koNxJKnNosHtOvlPV2+0e37FFJ1Q0x4Ui1fQiHWMLHTbmKPSwKydMLyyT7f3L5VHVGl4P3cWV\n",
       "lS96mxPtQejA2kaUJn8kMBK6OBQKjI10yNpmtsQylyz5G0S293vQkjqz86nVAZ4shZ6Quqx1vB6C\n",
       "F7+9Cq0jATpw3lI8X7BRZIXFRNrzFooVraq7Mvg5Zl82t/eH0NLEK72976F0uqzCGMxARc7Y8w09\n",
       "0Bdb7h2E9o3FnzAymR99ZWWoecuz2LdRYGykQ5ZlQ4yFCWzvj6OKYt6mdW+iNMgiefh5Emw20nXB\n",
       "D0+ypEfJw+5s3Y59zqx+o+djD8oHiT2Rpc6w1lvG9r46YD4wMKfsgVb0vO/CBKWojDnesIHKRu1M\n",
       "NTvFXZi4OGyUDzI7RctSBlmyjO19pWI+MNiqVz5xy7yj5OEa2UcjW2Gr7TlC7x7ZPpghdsHVrYwO\n",
       "h7y7cjQHMVE+yMw4LcvZDq7Vcdy6nUd7d9ILVYhnV/BUlrCjckKvTmIUlmsHEF2pesaGUs6Oji4O\n",
       "YqJ8kNiDrNSCoq+s9eycMAGbuS0Dnqi8iO7/OALkcOW6hjk0DseBIq3hQnbRexnpMf+9DJ+lfx3s\n",
       "OeetqVK249s+/kOdfAOHFoHDQGIvsEWjwqKov0BHZXmBxn+o01Ll0CJwGEjsRXZ1z0NstoZpxybT\n",
       "Np/Tgo5MtRU5tAgcBhJ7oUcLuF9bD5Uk5945/+loB5cWnsNAYi8iqwUi4ASKZrM8Wm02S3sRWV14\n",
       "TpAjPvVVrvNoNRkgwYvIykDPPx2tDrlpLq0WAyR4EVlpyLe+LkeqQ2qQS6vFAAleRJYMi9yuaqQ6\n",
       "9DdwabUYIMELHTfZBBvGhUh18DnvsElAFiDBC8lqwTE5MRWpDpv5NNq2l6IgwQvJ6sfJoBrpUb88\n",
       "wafRFhuIgCRoIVkSjP1VRhAafX05JELcc5vp8QAaHSCLYYLXuAstJEuFUd6vx4y/YqUNknESsCfg\n",
       "3GZ/lUMbWz5KFw0+JetAErTY6c+/YdrQG7o5VYWG5Z/bXM2h5TrnJptWGo0DOUeIU7I2kqDFZGWh\n",
       "dX4zVnCkmbnnNuVJDi2B9ij0xRCnZAnSRovJIsffjRPsO1Cn1Qn55zZjDVwaCar4aGuIU7IEaaPF\n",
       "ZKEjMGYL8uAR1OrY2PEt8miZR1MGZUR1whCnZAnSRgvKSkEv3IPWPDtWdmzs+HaYIR5tW7og0ddC\n",
       "nJIFpAPNlhV6/ab+jN8cKoZsiGQzjyb98dVF+lqIU7KAJN7nX2f2h/7XGfQatFjYAvvD0KLZfpdX\n",
       "2tvX/w9JRVhfSGnvBQAAAABJRU5ErkJggg==\n",
       "\" style=\"display:inline;vertical-align:middle;\" /></a><br>"
      ],
      "text/plain": [
       "<IPython.core.display.HTML object>"
      ]
     },
     "metadata": {},
     "output_type": "display_data"
    }
   ],
   "source": [
    "# This can be generalized later when we establish a\n",
    "# class of even functions\n",
    "index_negate = (\n",
    "    Forall(f,\n",
    "           Forall((a, b),\n",
    "                  Equals(Sum(x, Function(f, x), domain=Interval(a, b)),\n",
    "                         Sum(x, Function(f, Neg(x)),\n",
    "                             domain=Interval(Neg(b), Neg(a)))),\n",
    "                  domain=Integer)\n",
    "    ))"
   ]
  },
  {
   "cell_type": "code",
   "execution_count": null,
   "metadata": {},
   "outputs": [],
   "source": []
  },
  {
   "cell_type": "code",
   "execution_count": 17,
   "metadata": {},
   "outputs": [
    {
     "data": {
      "text/html": [
       "<strong id=\"sum_zero_and_one\"><a class=\"ProveItLink\" href=\"proofs/sum_zero_and_one/thm_proof.ipynb\">sum_zero_and_one</a> (conjecture without proof):<br></strong> <a class=\"ProveItLink\" href=\"../__pv_it/theorems/ef95be14b4ccbabb1eb107c14f223ef4e16dcb720/theorem_expr.ipynb\"><img src=\"data:image/png;base64,iVBORw0KGgoAAAANSUhEUgAAAUcAAAA/BAMAAACBYRdAAAAAMFBMVEX///8AAAAAAAAAAAAAAAAA\n",
       "AAAAAAAAAAAAAAAAAAAAAAAAAAAAAAAAAAAAAAAAAAAv3aB7AAAAD3RSTlMAq1RmmUTNIjK7EInv\n",
       "3XZ/CtNrAAAACXBIWXMAAA7EAAAOxAGVKw4bAAAGoUlEQVRo3rVZXYxTRRQ+tN3e9nbbrcEYHzZS\n",
       "YuTFNbsmYDARXAOiBAnrgw8mhm3EaCQxWx+NYKvP4pb4YCAGamIgJOgCPikBNhiFQICCMYphpSiR\n",
       "GCOs/C0uP9c7c+fnnrl3pvfBOQ/9pu3Xr19nzpx75hYgPjIdjO4TYA53Pfz/0UX0DwU/+rub4J8W\n",
       "TJpFe2YwAjzWTS+/x4JJo+juIYwJTLqHbay3SXSFgglMwkDLgkuDaO4WxkQmi8MWTBpEs2WMiUym\n",
       "ZiyYNIgO1jAmMglv2tjfetGzCiYzOdiwYFIrmruK0Y93xw521eu1kZRa0TnTGBNGZtqCSa3oxDDG\n",
       "hNFzzYJJrejTDYxJ43sbO0cnul3BpLGmZsGkTvRfBRPvxCEb2ztetOc2xsRRL1swqRHN3Ahj1gtF\n",
       "x1wuJm3UoHjR7GwYUx67gO9c2++ZXeRnbXRr8aJ9bYTz7op3llw16pWuWjCpEa03ERY9mRUrzd3A\n",
       "dRstRrzo4DDCnCfraQbXA/bM4ZfTuHLgRMeGSlWTUDOIAlzpKOhJVVQPShVWBvhp7W6M2m/R8Vr9\n",
       "2lYkY60UpUv5MC6fFYx5r62KrfqGPD7Kn/7O0ItZLXpKyexvsfH+izUoxZS+gEEUc78AZXCWL/os\n",
       "wTfwBaeB0T2lpkXhQXL2cKuiHrAm/3y02d9BH/d+WAnG2Yr7E0DMSZUyiOJnK8h2Xg+C5Yu+T1Kl\n",
       "ifhjNYww6lWU2vXIVvLjxYSkh5VPyFhGHw+/3ArGSwC+BljILxtySimDKpaIyYUgWL4omYQC9nCq\n",
       "hREK3jH8zaP0nV75Ant/+0jEJK2sPbN8vNnfjy3oZcopcXEIGFSRmiQMxvJF0775LNb1Ihk2dhMz\n",
       "DtDHBfKFdQHMq0RSkqZEoc3HfuKMVyA7pJoMGAuEScJgLCJ6YmrqeDeTuz10SH/8xP109/gTcGHn\n",
       "wW0ko3QmM+SD6f7Tw8HYJSaHoFBWTDLGKmGSMBiLiD4PsLWbSXFpZHGPT18h/xBM+InI7hStCX77\n",
       "6ikSpwH4bPR12Njxe5bxDqSr6kwGjHXCJGEwFhF9Gxzi2F3Ok9j1MFLinfC+dQLLZwBeKjah7heB\n",
       "AWQyfG6mc1tvsDE1uQdSk6rJgHFGmCQMxiKi+VaBpHt+EW/D3TsYg0tjuP9JBeeO7wBaEyNkI8B4\n",
       "8MahSJfUS7fSIB+7vsnRDuSIQGZq6pyfa8GaDnJFZpIwctNCNNWh+6ZPTFWcSQddS4Isp5K++AM+\n",
       "vGI2eUCM/ZwcrEBPZCYPKCYJg7GoaHUpoffvM5ksHUHdU5kvN3F4zRWncmYylJPBcm8WS7/FPzm1\n",
       "INVWTW4GZbnbwFlUdB+t7E+aNg6MoiNZb6BNtvVxSM0WxKejOZmn1JNi/BS9CZZuqiZPCkW2cZqC\n",
       "RUU30HlZbjKZwz1dPajZe+kWKlUXs9oRZ5KWEeeGGBcr7lFWmMImGYNWssIMK12MRUXn0Fn62Fgn\n",
       "ca4FWQ6b/LRpgzvXX8UfdXUy15YbjYzdVRf8ryuOKCYZYxOx039zbsBgrJDo0dBlUUGA1/A3P8O2\n",
       "vMgBp60zCT+TaSnLMY2NoJhkDKm4UbKkqBs6SZxXe5o8akBS5VdxWyFbje3Ruwl+lzA/WxHjcNch\n",
       "GwzOkIrLJEuK5ib1rRqslpXcFytu5S3aJ/zVd/jPi3ZB+Rqc3SHHwcQ31bt4OxRFwuAsKZoO3fZZ\n",
       "M4IxLetP2jeZvsg/tQsU7VPRPtFtwtLn5BiZFSEYu0I/h7OEaH5+aKGuDGEM1Z8BfHxhKVXiX3on\n",
       "5kTwXnR8SXt84IqXQiwhWrgcvl+1B6Ej68/n5uOgc9fCaVEjOlpGKOqPM19phiL3Z/6xce8vXnSi\n",
       "inDsdRpvnfO86IkMRfqeBZMa0eJ0GDPhe0Hm22aZWzZu9caLZmYwJo6sjfvRGtH0NYyJo69twaRG\n",
       "1LmOMXGM2/gPVCd6QsGkcaVhwaRO9FALY9L41IJHrWi9g1HE/r9Mcq6NMqkVzVYxih3V6WmaKpqN\n",
       "CqQVTc9gFMeGBpiqUtbG5taKurdDuHDxZd4h1Vtg+ie/buMfEr3oCxLdRd/CEVi5xY+h8Rb8YNA7\n",
       "ZGPf6EUnOgKdL6vAu3bf5ElDitu4chtES5MS53T4UZ4st+H/hYyNlDSJ/iqxt5EZbgTLbd449REb\n",
       "KWkQHa0JrEPxA1b0S50ewx9z99lISZNooSrwRSh9JYr5Rf01KH3MRpU0im5TsHtssHHhNot+0cDY\n",
       "PdbZWG2zqNPA2L1W2Ng2TPQ/AiAyU57QQl4AAAAASUVORK5CYII=\n",
       "\" style=\"display:inline;vertical-align:middle;\" /></a><br>"
      ],
      "text/plain": [
       "<IPython.core.display.HTML object>"
      ]
     },
     "metadata": {},
     "output_type": "display_data"
    }
   ],
   "source": [
    "sum_zero_and_one = (\n",
    "    Forall(f,\n",
    "           Equals(Sum(n, Function(f, n), domain=Interval(zero, one)),\n",
    "                  Add(Function(f, zero), Function(f, one)))\n",
    "    ))"
   ]
  },
  {
   "cell_type": "markdown",
   "metadata": {},
   "source": [
    "#### Some specific summation formulas"
   ]
  },
  {
   "cell_type": "code",
   "execution_count": 18,
   "metadata": {},
   "outputs": [
    {
     "data": {
      "text/html": [
       "<strong id=\"trivial_sum\"><a class=\"ProveItLink\" href=\"proofs/trivial_sum/thm_proof.ipynb\">trivial_sum</a> (conjecture without proof):<br></strong> <a class=\"ProveItLink\" href=\"../__pv_it/theorems/95b082ccd8e51b150bf4bd924392c21f53419eba0/theorem_expr.ipynb\"><img src=\"data:image/png;base64,iVBORw0KGgoAAAANSUhEUgAAAaEAAAA/BAMAAAC7nWp2AAAAMFBMVEX///8AAAAAAAAAAAAAAAAA\n",
       "AAAAAAAAAAAAAAAAAAAAAAAAAAAAAAAAAAAAAAAAAAAv3aB7AAAAD3RSTlMAq1RmmUTNIjK7EInv\n",
       "3XZ/CtNrAAAACXBIWXMAAA7EAAAOxAGVKw4bAAAHYklEQVRo3rWbbWwURRjHn97tve29UILxBQyc\n",
       "0RBNkJ5KUEykR1CBKHAJ6ScJPYVoIDE98BMR6WnEL6BtVNRDI4siiCA9EVH5ICcmiCi0JhoRqWyV\n",
       "WImxVKi2lJdz33ee2d27DZmZZPhz7ey//e3MPvPMc1eA+q21Wu2pO0iQsdJNXAHcmuXdVq2m/VzQ\n",
       "2tJSrDvoD0pf6KQGnOFHZHmva2n1R+RjTGgYKzSUqRGxMj8i2zvBjGhXBisk6GkVD3JcdgfZEz1I\n",
       "KXQMjKeGTJH4IVnezIiiI1gB/pZOU2OSWX5EljczonAjVoBXYDo1JjDMj8jyZkbUVMAKcBhm0YOW\n",
       "c4x2y1kT/UwpwCA4IkFTkR+R6c2KKHoOq9JOBOkNCRIcHyTTmxVRwyBWpT0/4EwrBvkRmd6siLqy\n",
       "WD124fP8iExvVkTNRawe7RDH0HCILdFmSj3awgI/IsObFdEFSr0CUoZjsMuwJApdxOrV2hv5ERne\n",
       "jIiEf7F6htgKx/BdYUkUHiU1XCUaOv/FRjkeKEZZEo3pITVQNdLV7UturKJZSZ3jR2R4MyJq70Q6\n",
       "6bL1nfsQQ2CIY646xJKoKYs0WbUjwDyULF3gR2R4MyI6KyONVu3kQCC3IPGyy8URo/trzpEF5M2I\n",
       "aGEa69mqzYG2oKrLxb8Z3We2I9NfWYK8FSJtgdxcj6hBW6peG+TmItaYVzXslPNgHihrfcdRHzgv\n",
       "Kpf/7ggJGdJbIXpA1SfqEQk5NSx7JTFtBaxi91DtgUTbZvRl9csj17Qpv3TYcVNWkN4K0bPq4uys\n",
       "RxRVp3K114BuCSu0ehQCN+ccX5pt9BqBfZH1vCr+QUd6P430VohU5ni67nOk3og9XgOq9GMSrx5x\n",
       "HTjJ+YMqeg/V2HynkkTgcE5IhLdCFFSWYbh+ZLhL6XnfRND2n0+iQF7v8R6/REsdGUsGE8HR3t5v\n",
       "6xMlentPlv0T7aoSg8WB8ev1+V3oiC1CWe/hiX0UbWRCv+xG9BHtG28kvFWiuQCb6hMJRYhJXo9s\n",
       "FSuZCWm/NfTJ80mi+b1q+968wWrvWiFSxa/FBTMNxETTad9gniJaCRFri4+aRaKGb/a+mSWJlDEr\n",
       "0Q88M8u8hSBewqr5X7L574ZmaZz2vwOO3SSZ1nuTBMfwbfoKhB43oim0b6BCeKtEMSluR6AJKlZf\n",
       "KZcsxHdLaIfdBJ+Yr1+6YSPsuA5uK9cgShJZd9GqHTuJEjm9KyPUw9U2bfaO66WQZFmfz++M+dSJ\n",
       "OrSCRt72jQ5SRAGZCAyHlX6/sk8G4bmncM4w1QoMgrJOYb8MwVpEEZTwHKtL9AuEcPxOdEJXzm2O\n",
       "Fms3LGv7hug5gvxM5Z+dMz9Vca/0ScYenM1ionBQuSJ1eu0cbdcW78lZGZVbZIDU12TqMgwfeDxH\n",
       "5qo7BwKO310yNLvGuttp30AP9RzBHmWvEX+Kqg9m6kQqu0P7fnBVERPFJyt2/Q2dj4nqdhxYVagZ\n",
       "66DVvlzc2FCBskesi8l6H7HfpzGI0nBtoOBCNIP2NUqdBNEaJTAI2ag6d7FMMK/v0LvjVKYa+VJN\n",
       "O2NyMaReGXxXqklEFFchMLK1Ekp77Edq6FX7OHiVRg38IFBzdEAlfIj2FcrUfgQNRXUpp9SAlygK\n",
       "jdNLpVIayvuNhWLl3tdrp9QCBJeXSi9H15GVuW5Klf2IeGDEBfItd3rtsNEevW/ZS02fOPGzlX9i\n",
       "orHdjyqDfqR9kzmaSJvjQuxe5a6PUb6yXluht2Zgv8tpYgMUototUSIDSHRKbafWy2on6UQ7bnTw\n",
       "kTNoa8WRXDxDeltEiULHImknJKUZ+kYaFyDU4yCKVPZBVt+Pn54DcdnrNAExj9T3lDP3nmbnmnUz\n",
       "VS3SZtxyXcvbIgrNnvoxbEhHF8gQeUN5fcfYv15rdM7RgkcGJFit/t7ivtJcezvNYYX59lOG1lm3\n",
       "Sw2noHe/zXEAMA8O3W5nWP3VzlIpV+sMK35e2kidyjNYg3boDqKfcMklherUu9/2utstsb0xUUi6\n",
       "ylN5cxkrEbqnoNvpVmdYa3SfRSzHdPYjb0wUvNo6Q2sj0ogdureiw2zoH361IMObUeWkK4/UCt2R\n",
       "m8gUXLllV/gRGd6MiJKDSNse19qTJ6vUB4qEEX5EhjerSv4wqQJZ90axNszxbUvDmxFR8DzWevVx\n",
       "Hs3wZkQUGcLq1To4ftjJ8Gb1Ht9RSr2qyUV+RIY3K6IDElaP9hY/INObFVG7jHS7R4WF43ZkerMi\n",
       "CueRfuERQDgGb9ObFVFwGKsHN8dQZ3qzIhIvYvVYmxzf/De9mX1262FSl1jnEL0eY8UPjoHB9GZG\n",
       "1CXbKsqjME852pcyRj3GnEiOWZ3lzYwoVbE18o75vBj1GPMVx8fI8mb3ydtfCY3JVnkxRXzKpD3H\n",
       "8THKMSdqLdja9b6x6ox6jFnK4fgYWd7siOJ5WycLZD3GivBHOO5GR9gTwdu2bukn6zFmW8MxqbO9\n",
       "fRL5+UuQD4tYHW0px0Vnevv9S5D3/PwlSKSI1RFfOcYFy3tdS4v0P2ckgXClTsxzAAAAAElFTkSu\n",
       "QmCC\n",
       "\" style=\"display:inline;vertical-align:middle;\" /></a><br>"
      ],
      "text/plain": [
       "<IPython.core.display.HTML object>"
      ]
     },
     "metadata": {},
     "output_type": "display_data"
    }
   ],
   "source": [
    "trivial_sum = Forall(\n",
    "    (a, b), Forall(x, Equals(Sum(i, x, domain=Interval(a, b)),\n",
    "                             Mult(Add(b, Neg(a), one), x)),\n",
    "                   domain=Complex),\n",
    "    domain=Integer)"
   ]
  },
  {
   "cell_type": "code",
   "execution_count": 19,
   "metadata": {},
   "outputs": [],
   "source": [
    "# finite_geom_sum = (\n",
    "#     Forall([x, n],\n",
    "#            Equals(Sum(m, Exp(x, m), domain=Interval(zero, n)),\n",
    "#                   frac(subtract(one, Exp(x, Add(n, one))),\n",
    "#                        subtract(one, x))),\n",
    "#            domains=[Complex, NaturalPos]))"
   ]
  },
  {
   "cell_type": "code",
   "execution_count": 20,
   "metadata": {},
   "outputs": [
    {
     "data": {
      "text/html": [
       "<strong id=\"finite_geom_sum\"><a class=\"ProveItLink\" href=\"proofs/finite_geom_sum/thm_proof.ipynb\">finite_geom_sum</a> (conjecture with conjecture-based proof):<br></strong> <a class=\"ProveItLink\" href=\"../__pv_it/theorems/dc74ff74bbf98dcb038a9fc6b1d2fe7582e2850a0/theorem_expr.ipynb\"><img src=\"data:image/png;base64,iVBORw0KGgoAAAANSUhEUgAAAW8AAAA/CAMAAAAYG7llAAAAOVBMVEX///8AAAAAAAAAAAAAAAAA\n",
       "AAAAAAAAAAAAAAAAAAAAAAAAAAAAAAAAAAAAAAAAAAAAAAAAAAAAAAACXHtMAAAAEnRSTlMAq1Rm\n",
       "mUTNIjK7EInv3Xbt5cmRiLwgAAAACXBIWXMAAA7EAAAOxAGVKw4bAAAGw0lEQVR42tVc2ZaDKBBV\n",
       "QHaYGf7/Ywc0GkE2iQl0PfQ5XU2T4gq3FspM07CCdElRJxzzvgvpbkCVaFxSVM/Eei+FjQ/3YkhB\n",
       "US9MdF5MdwPKZ1DCvAIiSLVGlZOB3qsBg+ONcF7B4eIegKzb80B2ZtDuBhSEGppXEL7SualchkK/\n",
       "39MQ9zXgjuC5pJhmG60ssnZ/tZP/3YO5bxCtVRcDmo5faF3EXGk3PEITrXyAvwoR3p8DVBcDWkSx\n",
       "kmIixqkpoLVPkNZ/PFU32DZw3Cm8bxnwc/YGBYWlEkcwWsDaOWUtgfIZYVOPd+i4U3jXG/B7mU1J\n",
       "0cCrN6bQN/AOHXcSb2RGhZsbVFA05U/wK3ifHDdiVqT7ASN43zHgtwJDqoNPcJ/EX8Lbd9zJ/X3H\n",
       "gB9nv6akaCMU8hzeXOuZUyHAxXGn8UajhoSGlRRtMSZ8Dm/Lb9ryCFIXx72bSgQ2Qjca8FNZjCgo\n",
       "moSY+TG8IXEkx6cZZuLvDwz4benELEkFNgmpKI1L2YI3x+otuxuhsQqPn19+ZMBvc/lwd50UwELr\n",
       "+U5OFj1LYxJL4eTsBfhjfOLQu337wcyQRSujMorZXP7szrcy8YLnmUG1AQ/ivZbj+S0A6w34pZDQ\n",
       "O/oKZaI0iMouFVRH8SW8OVum2Z2oe34FmBFTzItVvoJaRon5eVQMtmh1mCMKkRswlCOL93Jvv1Iz\n",
       "Ys1Kh74vUGgLeAyOyEOw1O5lqaouX7T+AM+52I0jrSeA4E16WA14WwTGCA9RyHKhgplK4Lj27yNM\n",
       "7wqGMwC9Y60x0h8WJu+hgttwpIoICfdTPNU7PnAG0H2Dk0HIBYdsga839abS0zOdnajL0vZmFDFI\n",
       "sCLDXXhRWH9mqu5fueHUOyhL76NrDYAv2h6lenVh2Qjt2jSzxlyAvXRv7h3/bgbINVWV4g/h7Shc\n",
       "JL3kUbrjsybj4Y3WM8f4H8L7mtd7BYy9dHeJfM4RGDrVRdRvKkmbAWTefzw7eZZZM5xrCoqX6QkK\n",
       "z5TuUO+C6MsAt7VFxpVohuzBzJRniELu/6E8P7RcuLN9mt8Rc8ArC4ojr49alCndiZoqonlYIgYA\n",
       "HfOWVM+MLa5YMNstA6Ith/sYME/CPjTE6/DeDlPQEXMTb5JJehKluyq8vym7AXiCF0sQevGj4Ovf\n",
       "YATvYwyw/4+C8k0G7/nlxcAHeOt062CqdOfj3YG/dwME2INwrRHRrvSjd6rjkG5U81reqb3lGDMB\n",
       "ChZLOEm8j2k3PPZxMbzr/KXFNO4uc6W7Ufh7Ijvx2vBpZhMG1uwDSgLOG+nU3sJPV6PUHgOwpPA+\n",
       "pl07Btg/iY6BG3jTVGiXK90Ng/c006PGZlNg+8tyWAY55F5N4mhveY9xeFs+8dv4mVe626adgmPR\n",
       "ijdPXq7kSneDxN/B6tbdDPG6ExmYKF38k3u0t7zHrHhz4TtdFpl2O/FTFm9pSgrrcNBTy62SW/2E\n",
       "9wygcmVq+qaGl788QuajveU0Zm2+WIBO4v2a1vHJv/+xLJ9cqnjXsh5rK62xprahm/2EdwwgchJ4\n",
       "y1Te6SYRq6MT2u1gr73lPQauLtWr7p/wPk07veuRKbyL9VgbWcSWX967qrU+qB/C+2IA0ovQ2k1O\n",
       "2LFILixxuMiPurdQTu0txxiqttp5Au/TtP6DDDtiXk5lyStgNBKsuGyRrfcNT+GdM4ALd+yX7B6K\n",
       "jsnH30CXFwezingkCCp6O4zsjPddA5Y7HxvHu1xGhWHlz1eQmNPjqOLGh1Rew7XgfSpKPmjArfA1\n",
       "ijcoV/yXsN/BU0QiQQLmdLUwN/GDeKeLko8YUCOtd1c8vErwFNjgsyglt7JQxc6BzeWTT/oJHzHg\n",
       "q6JMWoFSZbiKo4eau8g/6Sd8xIAvZ72koGgT3NwO8VA/IR7zjRIYblb4TN2j2V0+1U/YbsBXhYSx\n",
       "Bnmk7462d5E/009IzaDfWiBVSdEGWjN7PtNPqEd9A1OE20k8kW+w1mznqX5CNma7veMPnVPwJu/J\n",
       "e7/NwQd9ncQ5cpxTXGsuQugiNcLepxmO+0I3DPkSZgnUXb4upRIt7h0cYDUq3PboiYLCd6du4xRc\n",
       "Gul9l0aGfb3YZTgyqfB76LeVOG9a+MYi0TvXEGZcuO1+1gnFq4d+u3jeLoroireCtybsvqKxRMuE\n",
       "IuyhX/MIXkynUW/yRGoaWpROKZiO8kn2Lpj07vzubkBVOSKm2Hroz3xS4S/n3qHvPE+Di8BxRdBD\n",
       "v3KNfl2rJgPG3t9GB+X432h64Y1NEfTQ7/kOyiyIyM6ZRncDqjy6ogVFdabRO/LFcPoDQmhJUfng\n",
       "eruqswH/AwETTolXiY/6AAAAAElFTkSuQmCC\n",
       "\" style=\"display:inline;vertical-align:middle;\" /></a><br>"
      ],
      "text/plain": [
       "<IPython.core.display.HTML object>"
      ]
     },
     "metadata": {},
     "output_type": "display_data"
    }
   ],
   "source": [
    "finite_geom_sum = (\n",
    "    Forall([x, n],\n",
    "           Equals(Sum(i, Exp(x, i), domain=Interval(zero, n)),\n",
    "                  frac(subtract(one, Exp(x, Add(n, one))),\n",
    "                       subtract(one, x))),\n",
    "           domains=[Complex, Natural],\n",
    "           conditions=[NotEquals(x, one)]))"
   ]
  },
  {
   "cell_type": "code",
   "execution_count": 21,
   "metadata": {},
   "outputs": [
    {
     "data": {
      "text/html": [
       "<strong id=\"gen_finite_geom_sum\"><a class=\"ProveItLink\" href=\"proofs/gen_finite_geom_sum/thm_proof.ipynb\">gen_finite_geom_sum</a> (conjecture without proof):<br></strong> <a class=\"ProveItLink\" href=\"../__pv_it/theorems/eb8e4956df447b851837cdb58a40aa1684bd0dba0/theorem_expr.ipynb\"><img src=\"data:image/png;base64,iVBORw0KGgoAAAANSUhEUgAAAeUAAABLCAMAAAB5j296AAAARVBMVEX///8AAAAAAAAAAAAAAAAA\n",
       "AAAAAAAAAAAAAAAAAAAAAAAAAAAAAAAAAAAAAAAAAAAAAAAAAAAAAAAAAAAAAAAAAAAAAAAeYafp\n",
       "AAAAFnRSTlMAq1RmmUTNIjK7EInv3Xbt5clAMFB8ZRcbKQAAAAlwSFlzAAAOxAAADsQBlSsOGwAA\n",
       "CRRJREFUeNrtXWu3rCYMlZfyUNretvz/n1p1HAUTBB2PQxfXD2etk6WyZUMSQsI0zaOXdPNFmm9f\n",
       "rUhLcq5u0E0pF8QyvLr7aSDSGTZe4tsdwklakncZUgzLEMvU14x8geWuhO6gvU5Kcq+elUMzioVV\n",
       "yrIGvaGvcyXKGLhxLLWyTNq05MTbVDmTGcNSKcvSiaTkjNPjaDkOGIKlUpbbNi1hg81+nxrKmcwI\n",
       "ljpZpmDiUmQq9+LER9liWEaw1MlyO6Qlo+o7M4H6giZz/5tldLRjc5GpprMmWzuUY5khlipZJk4n\n",
       "JaPMdlT3uWDdBy66vPn7AJYaWdZOJSWTWbb0BAHEXedqyH8Udwk1aw+x1MgyQzQaRcwy5yeIE848\n",
       "At53Cfm7S60dDrHUyLIC6lkhCns0y2Jo8rG6R/yvwCXcFBAdDrFUyLJ2Q1Iym+VGDo05MXauqWxt\n",
       "+QnHLXAJoyzvsVTIMgO6lWHaVo0wCctnzl5U2byhJxy3wCWMsrzHUiHLBARAiBN3fNclL1vrxvAT\n",
       "Ztl3CaMs77FUyHLv0pJL6xd3ceeyzd8MW11Crsarn/4whOU9lvpYzjTLF8i6qhFOdEjoEkbn8h5L\n",
       "fSxTsDam7paNQ54fy9bWEi2Nmd0u2effHbqEcZZ3WOpjmQMvid+z1GX5g2U0xHYkjM/cWJJ/d+gS\n",
       "vtvrTOuMPcBSH8stiIC098SgZfaKmXVTx+uRrxyzHN7doOvlBJb6WO7BurZ3twSSdXam5NQcf3nB\n",
       "rfAVtm6H7ZLwbjjJ87DUxzJ0hX1J6yIXbnN1F7znxGjpXy/kluv8u898payZ5Q7MuEBC3Y4r3QlL\n",
       "ehfRxoE1HE5o/jkJT+sfuRtiqY5lCpZNoYQ4bF3FchhsM51srURDplFj7r8bx1IdyxaEqHaSAa/7\n",
       "4GkHmmT66tRJzUfeBL3/bhxLdSwbsN7ZSaYKH8zr5RC2CBdBPLMsSHNrG8oZ/YG7cSwTy9v/lD3G\n",
       "8rON+oOcJCR2pBkbiAxGK5rAkzOf5IvcPpjbHct8jYa13WMsP9uot8Z0PCVRLi/k2ekw5GTcUBDL\n",
       "w45l+R7L3RMlAgvLzzbquyU8JdGjS523TaRsqATKSeQMscx2uV30jqHPsfxso75zZZISMersHFTa\n",
       "6XBV6ophOcQys8wWk/OIWXmz/GijXnwBcAolo75zOQWQtA3CT4Wz3PRzSK03T7L8aKM+pzYpmUNg\n",
       "sdHn7RBpYrtgzVMOyxRh+bUzrfSjLD/ZqM8pS0pepjky/IL9pIOeHe/0gtID+T7LHXn/yV6PHdqr\n",
       "LJZ3jZ7bMQjbP/EsXAyjy2MQ6Vw7LLpDNJnzYuayQFieZ5Q5SHWwio/aydNsR47x60W7THAkKhI2\n",
       "uu7BIInlpFeGKz8/KmzfT1un0x5svGAR+lW4p8Ujpjm+QzTFU4o5YSTEsrBMLeYGSUuUElMolXRT\n",
       "95ksll/Tc58Jvl6/3N9vPizue22J5W8Aw9i80Van26fvxU2sYNG5f5KSxfWOhqUjO0S/Mll2P3bF\n",
       "sPzr3p4uA9DX2oKxg+cRkccyWeYqHRJzGW3UTyxfAYzaUdLO15F4+0wx8JKLc3l8wxDVhvgO0X4u\n",
       "f9Muo3N5XLW+16/W8s5OQVv77jHN5GtidHgvr0+8+uA9FtIsb436qedrYrllgSEOTLHynd7lWato\n",
       "A15ymWWLFsId7RDJguyyxOxy0/XLYBvXBkQ1LR2/Z9WCHQUf7PXy+sScPar+iGWPQpbXRoPU83di\n",
       "uVaB00NlpP3lWdn7ZEULFvN87GnCStx3je8QFe99jd2yKcfRtI3/iPXbmWb6gOX1iRfn62NpltdG\n",
       "g9Tzd2K5YP583U2erf312dFv0M3+JVdZlpHg19EO0f+AZV+FzTSwdp6aoxaUUsgDlhs/o1jHs0cR\n",
       "lv04xGZRF3O8AZj048SgZwsV9qxYeY4XLA6A0wFdL9tPe7Zwlqd0s5EIuU2exftqYj7u8sSksf/8\n",
       "S+VrbHSgrInlHgBBJZtx4O1vb5Tk5R/ECxZhQgeW4tHyCz1LP9ytkDce9UjhboXvWfaNaV9Bhy0q\n",
       "1Zm57wy6Xvae8HaazrI8ZzJq0/iJ5RsAM79eDPgoC9LWO0L0UcGiAjEtKGnUpX0y9snOoya8vXG5\n",
       "zcDOY7h8ssLYeWXaqVXnaTNqz0AFKuyJcGTsM8EPWZ6zLmYHakssXwEwQog1qiURHz9cpUyvjxcs\n",
       "ErCpCCUcnVTJXSr7YRaBvZFlC7IIosPLTNoXjy7gg51mWDOc5cW00lwACjPpWaFRkCsCJAxdQ6VT\n",
       "csyHlTh3shxiuZr3hX9PzlhGWF5Tz4U+3X6Ytn728zEJvoaifcYA4sWwHGK5lWUqrrG8pp6z8+2v\n",
       "z0r1vrpjg9UeS9DTFnUOg+rDo93SLAdVdCewXGX5eq7WPTmcl98hgCMcSpA1VEeJy6mb+LTeKs1y\n",
       "fNfzGMvv2oqdpHWtfw1D/9oIyHCfP623SrJ8sOt5jKXGOqnuQMJj2z0s5836NpZP1sUlsNTH8gCO\n",
       "DBicuEdLfJjCmeV95QXlutorWwmYlsTdkvcvPk26z2E5sy5uh6U+li3wlu2HK6D1NeZnWT5RF7fD\n",
       "Uh/LcMqJeypfyKdHGphEz5yoi9thqfGMIJeQaDTQnmHwP3K+COlde+g9n6iLG2o/CWrsge5Ygobf\n",
       "k+fe6oLqZ/ZYKmTZAGfL3OF+UVfOj4ftsVTIsgB0iDsIIgWddr/HUuPJycdHNArk/K2cc2/7chJF\n",
       "AJYaWeYgEulJltJzvu59TMo849xbWZDCBlhqZFkgpayrZF96PjOfce6tLUhhAyxV/jpJ3x9JFOZi\n",
       "JzMV2oJ+aghgqZJlCwLXnuRVeh5q7PS5t9KZYkiWyDHvFbLcQBu6SXal5wvo1Ewl5RTCIVjqZNmA\n",
       "ftgku9LzZa6TVBiiHN8LwVInyxroNH2scVNm2Rb0C8wIlkp/sxVu/xxsCGUkEPa8GJIxLLX+yvZg\n",
       "0pJ1NZ0899YWZJUxLLWyTAEKeh2XdqwYklEstbKMnJ7KL+fME1UMyTiWalluBpaW5F2iL0df41i+\n",
       "wfJ8fX3lIUF/yItsDaKcqTzA1MXdiSMPGQ42X9/vGdGlJVkfVBDJEMurt1nzH4v4e8uE8omfAAAA\n",
       "AElFTkSuQmCC\n",
       "\" style=\"display:inline;vertical-align:middle;\" /></a><br>"
      ],
      "text/plain": [
       "<IPython.core.display.HTML object>"
      ]
     },
     "metadata": {},
     "output_type": "display_data"
    }
   ],
   "source": [
    "gen_finite_geom_sum = (\n",
    "        Forall(x,\n",
    "        Forall((j, k),\n",
    "               Equals(Sum(i, Exp(x, i), domain=Interval(j, k)),\n",
    "                      frac(subtract(Exp(x, j), Exp(x, Add(k, one))), subtract(one, x))),\n",
    "        domain=Integer, condition=LessEq(j, k)),\n",
    "        domain=Complex, condition=NotEquals(x, one)))"
   ]
  },
  {
   "cell_type": "code",
   "execution_count": 22,
   "metadata": {},
   "outputs": [
    {
     "data": {
      "text/html": [
       "<strong id=\"inf_geom_sum\"><a class=\"ProveItLink\" href=\"proofs/inf_geom_sum/thm_proof.ipynb\">inf_geom_sum</a> (conjecture without proof):<br></strong> <a class=\"ProveItLink\" href=\"../__pv_it/theorems/1ab3b214ce207323d8b4aff26b8c46df27fc886d0/theorem_expr.ipynb\"><img src=\"data:image/png;base64,iVBORw0KGgoAAAANSUhEUgAAAUEAAAA/BAMAAACMf2cHAAAAMFBMVEX///8AAAAAAAAAAAAAAAAA\n",
       "AAAAAAAAAAAAAAAAAAAAAAAAAAAAAAAAAAAAAAAAAAAv3aB7AAAAD3RSTlMAq1RmmUTNIjK7EInv\n",
       "3XZ/CtNrAAAACXBIWXMAAA7EAAAOxAGVKw4bAAAF9ElEQVRo3q1ZXWgcVRQ+2dnsbibJZoOCWCRd\n",
       "fyA+KF2KVlslDahtRWtSfLEguFJoiSCZir5ocKcPglBtolZ0NbRT2heNtqH0SSFdWxCNNIkKgkLs\n",
       "BmshVZukrc2aphnvzO7OzJm9M3dOZr+H/TKZL3e+nTnn3DMnAOEQLWL2gfwSbWmq3gMXXeyHWeLa\n",
       "s/Uw2LiI2RdNo7TFqXouvshghq5ekLtUj8d2hviYz9TB4RYXH7lrt3Kn+qyH+j6NtjpVz0GihBmK\n",
       "0HQ2BRGFL2/tpi1P1XMQS2EG9rD7NZDTfHlkkbY8Vc/BOgWz4XB4CBIegQh9xPX7Qjv81cVwL0Q7\n",
       "v9eOeX4j1X+9dzWaXhyGVzADSKe2wcgva7z+oMU3sORb+zWKPgAa5jGLdyCBcE6j6YU40Y1ZXOCv\n",
       "0hyK9EJsVjGL8S3NoUgvxGEXi9Gj0BwK9EL85+IA5SlDcyjQC6PqBuYAyKVoDgV6YWb+i7lft7Hi\n",
       "UW4KNIcCvXDPW8K8Ti9njPzazOSyR0O1RHMo0IvQNoW5QZ+yKvd5/tacvEJzKNALg2oIM5xfsCNg\n",
       "iN8LXKM5FOiFidmNGQZ1O/W28vdJ/7Q/rdD0IswVMUNSt9slydY98PDl1B8fl0P0pt+C7ZMvuqqL\n",
       "oTfT+e5VOexJY2alm2dAfvAsfAMz5QOdeA2mf8LgPavbUlTM7HVF5+zQ8eNZKMFTlVAlNvZMv89Y\n",
       "Y2hVDvsVzKx267zcaygmCvCTWxv4GjH2pZrTq3I4qWE2Qn2Zc49a1ORQfL58ow/3Ep9TL0gsNmOr\n",
       "yxQdamIrpmc5VYndRWmo/PzXEm+GoT83Pf1D3RzKk2iPli+v2X8SdkBMiXdoq3a4DeCTujm0dr5K\n",
       "3YaZ4nac/+Vysn3awI8B6gXT74U4t4GIOj6rhKuIjrks1McdRw/BZu0WnsPgFY3pm7RmFL3Jgx1v\n",
       "mps22J9VYnY22A6XMVfKg7OrUa1hhJVKNTOyNp2PeUsfKVqJkpjJ98rvKZFPvRxqcOAfgcPcFLr+\n",
       "hNChP0x9tqt6+DiLoebjAI94OHyVvWbeL3D4t+KajX3Ocxg4Dk39SWOSeHnrBSVpxMjRt1gFRw6N\n",
       "U+bBvtvA6ZCbKY0lZ6R+2FCA0dBxCAMsUZLK7bH0Z8avOjvBeduayqeMg51muyJwOOisJpHSsUJj\n",
       "OrzDBtXoRA4lwByqbdrkcmieYgc7vwKxQxnFnfxM8Z71tfWNWg8rYH3Thnw+n377OZdD81QTJCrj\n",
       "RofDSRcbe0p38CvaTeBvQfSJQhz2Gz8YmSIjh8YpRiPvux1W+xRHv5IP2g85cGTLUgD9QHM2yiqj\n",
       "0eecUmDM6bB8yiiUH7gc1nZfUftuRDy6KU5vk/RxaOmjf45dgrjZB4/0HVSdDs1T5oHELL7RP2ZH\n",
       "cS9mgEft66/36IeA5tClH8nn7e2FUw8jH+G3gAxmZ6mJeLzoLhMdLvtEDH/XQ4OlUcyQs8Ja7uGn\n",
       "TPxmEIfllshTH9zhCynMdql5Za3OH4c1LgRxaLdEXL31dR2fVXKND7OYY9d3m5ie1HWP7y6tBHFo\n",
       "t0TSSqi30dZ5zD2OzsRjNBkteTqUXzb3ahW1RFw9YbK0iDnIqGc+WKZM+OmDQ7qKmTDqETi0WiKu\n",
       "Pjji1zAHwOBoAIeOlmgw5D8fz7k4wCCFl+LNrihxtERzajiHpzXMYgzzXvjvuI7fZRwt0XA4g5Ar\n",
       "Ynbi6794L18LtAtQ9bWZmcXszKJiI2fUIhGLh1QK6VBaxIwmIcCpQTFiasamQjqUbzhYeuzATHJj\n",
       "NbJzGnD+w54jvgPkMiEdwtMOPvp8piWVTMGTrFPPZwY1+JmTWtRUDGsQThRtfv0itKnRav1iDidq\n",
       "7zlxl5VXQjtMFhzcAe9Aa9p+yrWjxCgxrKJToR3C7w7+DmYhl6g8ZW6m5IjDQ6qe2yIqFsfn2V3c\n",
       "WB1BJYuNtfOqduLq7eENQnPWYuZoD+y9ZFXsCzUbjTROLGbjdXAIh1zshwHiJkvV8/GlitkPu4hr\n",
       "76qHQYirmP1qBzHuK/r/Aa+yFIhbiWMYAAAAAElFTkSuQmCC\n",
       "\" style=\"display:inline;vertical-align:middle;\" /></a><br>"
      ],
      "text/plain": [
       "<IPython.core.display.HTML object>"
      ]
     },
     "metadata": {},
     "output_type": "display_data"
    }
   ],
   "source": [
    "inf_geom_sum = Forall(x, Equals(Sum(m,Exp(x,m),\n",
    "                                  domain=Interval(zero, infinity)), \n",
    "                              frac(one,subtract(one,x))),\n",
    "                    domain=Complex, condition=Less(Abs(x), one))"
   ]
  },
  {
   "cell_type": "code",
   "execution_count": 23,
   "metadata": {},
   "outputs": [
    {
     "data": {
      "text/html": [
       "<strong id=\"sum_first_n_int\"><a class=\"ProveItLink\" href=\"proofs/sum_first_n_int/thm_proof.ipynb\">sum_first_n_int</a> (conjecture with conjecture-based proof):<br></strong> <a class=\"ProveItLink\" href=\"../__pv_it/theorems/467b80e655e10b534e6dab8e51d5509218ad40280/theorem_expr.ipynb\"><img src=\"data:image/png;base64,iVBORw0KGgoAAAANSUhEUgAAASkAAAA/BAMAAABOTyODAAAAMFBMVEX///8AAAAAAAAAAAAAAAAA\n",
       "AAAAAAAAAAAAAAAAAAAAAAAAAAAAAAAAAAAAAAAAAAAv3aB7AAAAD3RSTlMAq1RmmUTNIjK7EInv\n",
       "3XZ/CtNrAAAACXBIWXMAAA7EAAAOxAGVKw4bAAAGwElEQVRo3q1aa4wTVRQ+3U4fO+0+CIZEf8Aa\n",
       "om4E3EqEQELcTVyRqNBq4i/RlmAgkJitRqMIodW/RhYxBFcJWzVqjOgUX4mJYYmIEBBbDRowri1q\n",
       "MCi6C7vLa4HxTufembnDnZkzMPcHM52e3vnuud/5zjmXBUCOZfQq1cXfv1eCAIa81pd5a47enHAy\n",
       "2BwEKjjpyzqb16+Rc04WbwaCqrnsx7N76c3OlH69a8F/PbzJzo5AtvBrH8YS28DF9Mfz9sJ+3qTp\n",
       "YCDOmu2Dn/1F/Ro/r19jH+fgos3mSCCoWnrwtivoNdpOb0L1yB6bTVceM5OjUYy6/BwalGFqvDlZ\n",
       "lHqKvFEUE4WtjuyLUMlZg3cre+Ex9qQALS/ZUDWdR8w0S/z4FcKmP+jCi2ha0RXGz7AnD0Hrp3ar\n",
       "bxAhlhM+vaGPoIrqPE+iiTWDsWnUzSqNiOUUv2vs4whBFNbhSKNYERmnN4rrOrIpz5mStk2vW1CB\n",
       "Li2RMSSqMGNMt+ueJ3OeM93qhmqlfv8tNg0wpw66b48oqB+/af1JM6E/QHxx/P3dO4SodlEi5HGo\n",
       "2lgIXnDXD5Hvy6/WZRMtcUeieTooeRGq+TQIUzhUWZoyI5OuZrHTAhXKHIOYKRk/AjxCZKZQFKGa\n",
       "TUWnHYcqnaFbNKH926ea4wpn950gUOQJaNJyk3xW+7gPoKRkoEsDIQ0P/3p4eLjdQNVP6bkHh6qP\n",
       "ZsxoI/V1qfpK5WePVy5xdoOCzNo0CqGckSb3ab8HmCbk1XLK4os4VJcZv6oN0VKrRnDWuAQyIkgn\n",
       "BFJbqmTZQQ3SmCxCNYcmpTMoUDFG8oLO+prJH4nLfV0COUuWyX4ZpZwWfIfIliZEqBbSh+O43DzO\n",
       "v7VfNaPkPi4xCfIzIfaJsCFzJPgJ91tzC2yohvK6bDTS2gVczc44PaJP0qqaoR62GirVq3/8GMBb\n",
       "c80sTKKyCvLUDh7VlMoKstCfaIAQwjRCYKa7OrKNTtPJBi/zcbadomnzTGEtRbG2N4jC1qQC3Ktd\n",
       "V7tLO9ObQTrnTpUnUJR+bPGMnnCPODtzmbtWghc1lO71WpRtWB9rdFQ+TNo6bIbOY5vzV+vAfI1W\n",
       "1STc25Mkc0GFRfjQJU6ZsvRT84Qnqg8QgAczECZ+i3qkwVFzw6lTVK48+Ippk7fSxOqOMWUk5RnE\n",
       "SUT0D/lFJVcm+V5j1v1IVKgak6BaAvCGX1RG1tExjjXd1uhiJVo0LB3Wxg/XiipNtu8piImStKWz\n",
       "Vigq2UQlqQetHdDD8dVWVNc5NFTNpUTGuvFHPodFBKYlhBWaxGVLLq5ZqgVpL3Vc4srVflb9DH35\n",
       "Q3VNyUyyb7pxK9ycKEklT1QFi4y3PLHEEdW1DA0V5O42Fq3NPrPeo+VOD1SnLGWs0pEtcqiuk1cN\n",
       "VJ+sJZp7z6Y/aZ/YecvGBHzWe6Q348L2iLUj7S4pHfWAeQUbCIveWZ5K5uWGxHcm3n6U95UAVb9V\n",
       "d6eBUiwHjSpE3P/CCWgr6VmpE3pOeqGSv7fOsgVal5UC1it9TCf1aXjNwMAWgurDKI8qyVBV7OnY\n",
       "XndiUT2z+HUUqgPQG4+XdV9F7uD1yigFaiz7DXgUF15pZzMMZZy/ZqUJxEbhaKeu8fMAjntUMtIv\n",
       "poJy1RPy7CmUd21kaiy+I+3wTwrWkbfGf85DyFb1Tdg6sEWmLMzligvkwQUpQkIuC6jYmrcvB7aK\n",
       "sjkLrZGUXRaauCW3ITu5UBVCLpt9CXf4wQqEbp1sBYONcpqjfaGKP6dzdmvsMmqGCOu0su28LDw9\n",
       "Q+Xq8Gw7GlV/3ft1HsdXZ1lqadR60bOrGmO4oqr8srrraFQu6SiMzKY1zu1pS5LnxTyNPtKUXDoF\n",
       "Cakv7ERJ8oj8PrSr7nRrXpCR3E17ovAY7jzCuxsvw3POpS8yZgo00mLuJwDxSSyqlwH+dg4E5H8w\n",
       "JRn6w+6dP5IQpN7t7XV2yAiSnQmWCIdKrj32HqxYkTjJOX67Hbs2FqsF19BX8HLlpkOnsZarWHho\n",
       "Kwz/Zs4wnwuKYhCowlgeQDeVhvA5doxIu49/rVZPBlLzRdFpS6FhIU/qVY8x5lj3OZj6uJDCWkqM\n",
       "xw9qDtu8sSxClRgNBNUQnoGM7gqhe+iv2/dLA2S8xqNS6oGQ3UdPeYpJEnFa8ncoiny1NBBXSfhq\n",
       "CFqYH0j8FXqLIl7FJoKhVQZva/wZQzYPCyPVvGAHQ4GoFUzxY/wFo3QOpserIrYvKgWiVr7+/qCZ\n",
       "beEO2AZT2Rau79ttbOCBQFy1wZcSy0fpzUcOP4umAkG10p/588wnDqjeDQSUrHP9f7mhNaLCH084\n",
       "AAAAAElFTkSuQmCC\n",
       "\" style=\"display:inline;vertical-align:middle;\" /></a><br>"
      ],
      "text/plain": [
       "<IPython.core.display.HTML object>"
      ]
     },
     "metadata": {},
     "output_type": "display_data"
    }
   ],
   "source": [
    "sum_first_n_int = Forall(n,\n",
    "                       Equals( Sum(k, k, domain=Interval(one, n)),\n",
    "                               frac(Mult(n, Add(n, one)), two) ),\n",
    "                       domain=NaturalPos)"
   ]
  },
  {
   "cell_type": "code",
   "execution_count": 24,
   "metadata": {},
   "outputs": [
    {
     "data": {
      "text/html": [
       "<strong id=\"same_sums\"><a class=\"ProveItLink\" href=\"proofs/same_sums/thm_proof.ipynb\">same_sums</a> (conjecture without proof):<br></strong> <a class=\"ProveItLink\" href=\"../__pv_it/theorems/aca0bd59e6c6807f4ecfa573e1550f792936178c0/theorem_expr.ipynb\"><img src=\"data:image/png;base64,iVBORw0KGgoAAAANSUhEUgAAAtoAAAA/BAMAAAAs1nIYAAAAMFBMVEX///8AAAAAAAAAAAAAAAAA\n",
       "AAAAAAAAAAAAAAAAAAAAAAAAAAAAAAAAAAAAAAAAAAAv3aB7AAAAD3RSTlMAq1RmmUTNIjK7EInv\n",
       "3XZ/CtNrAAAACXBIWXMAAA7EAAAOxAGVKw4bAAANc0lEQVR42s1cfYwbxRV/ttdee/1xRqoqQFHi\n",
       "tGqKRNqYNkREAs4VAUL5uKNV/mgE3EERFCqICaJqUIoNfyBVBe4AtXABEVctqSghNjRFKi3NkZQC\n",
       "aZNcq4aGiuOcBoEgkBx3B3ccSbY7n/s1s7t2tmJHunuj3dnfe/vb2TdvZt4aQFIGdH0MghelDZEs\n",
       "zK6A9m1peJy8oiMIJrWbiUzp+pT0ooE1a+od3NU70SSb2xXQvsKwx7nBjiA41HtEpNes8WC7o5tK\n",
       "zkaTbGZXYPsek58aqHYGwWSmxc7sDIntreVoss3sCmzf1pLsjLarQwgmtZ1hs31RRB3JRU77lp9z\n",
       "pOJ1QXy3dARgjiRxwQNvB4HgUEsb4bKdnosm2cwubp929i54xfOSf8lODLFh7FdXlXPVIBBM5ivh\n",
       "sp0qRpNtZhe3T902CPOelyyTEXktq9z5DvQ0gkAwGZ8Nl+1l1Wiy7bxvgFg7Oer9gCRRSdwcZxfC\n",
       "VYEgONRN4bL9RkTd9hsu+3J1peIZ2cYlTjFvPoVXYVU6CASHWlYPk+30VETd9pTLvhrk7/GeR/xF\n",
       "4rZ5sKJOwoEzAkEwmauEyXZsMppsM7ss9l0Jhd95X9QnPrzIjOGLcLgcCIJJZTJMtpuVaLLN7OrI\n",
       "vgEhk9pMFxBMJqfDZLu3Hk22mV0d2ZcTTtATc11AcKi/hsn25ogOkpu7sU8RTvIzk11AcKi+aohs\n",
       "fxpRtj/txr74tOhoz3AXEBxqWTk8tpOfRZNsZldn9qkfCelodQHBoWrF8NhWPo4m28yuDu37uzDM\n",
       "6O8GgsncaHhsp+YjOm+ft8l1ullOeHl70bR8HT6YskDobX8IJjPz4bHdMxZNtpldVC7TSWii3XFw\n",
       "3zGPy46WBAePE0es09DkN9cs0Ef9IZgsTIXHdo2MILHxf39OtH44XvKwi9tnbv0lJkoeiyuC6Fyl\n",
       "A+2i4/zQeVP+EEzGZ8Jjm2KmPr9enCgHuecJc/xTPEKMIcE5ShfkdXO18xJ/CCbTn4bH9tH2SbOt\n",
       "uuuqR/OqKVQ529QuLod0s9nFbvVMYVPgGAvU0ad1Mz5Uqr4QTGrHw2O7r3TSbP/XXU/KR6EC9QPX\n",
       "sGZitqldXBZ0c+KScKtnCnsEExmFuY2juslx2ReCQ+mUbfxmfFnIdgy/Q/47epvrjG0ZmO90AEez\n",
       "yh8bpK49jvrEIWnzMwGe2oPoK9NmYrapXVzC5uOuNpe+QNW/OMcU5gUhVoZN3DOSvA8DIjtRd0Jw\n",
       "qIkGYftCJG4Usq2gGDPlv1GwrsrYloH5lS34/7P3lWg9hTxtqiFpraHlh+tR7WbaTMw2tYtL2Ko7\n",
       "B8DsqTupysQkU5gSTN35MW3fjPQOesEJwS8jJuyEu5G7GRaynUZddYM/V/sajG0ZmF+5gLxo32vQ\n",
       "eg+iPVGRzVoQt/jVXk6bidmmdnEJSVf+TO4rm6hKZZApzAgmQzne3wf0kuwOLgInBIfa3E/YRk8j\n",
       "WxL7bdR1nvPnSgfGtgzMr+DQNTnP6wOYH9n2d443zjVIMyvbm5x2cQmw45jjfSGKkMp8mymMCUI7\n",
       "05dn9d2yO3gLnBAcalGJsI0MTUlGyW8af4OdsC0D83PbWEl2jNf/hA9/X9J8CWqMH1CqTJpZ2f6p\n",
       "B9sp3XE7L3KVtTpT6M02rPtEcgfqHDghXGzDnvHxv0nYzo2Pv9nqhG0ZmN+CBlKSWPCPCqtfC2d+\n",
       "2/Dj7uHxyO1oZEPKivHtDcgiX/esne1ES862ts++QHXWni8wlb3AFCrTnmxv1W2UxP/8bplAJCZd\n",
       "EByqr0zZXm19+exsK3XINHy50ixsS8D8FjSwLT1tVtem41/dBbACGzyOC452soPqa7T/NMtf2liG\n",
       "BOqVKxjbtOmMwy5Nt0x49LpN8wmu/jSgChlFVsXQNNnms3dSnoeNwwQiNuyEELB9G6gIUVtVdrFt\n",
       "nLhNzE/ste2PsUFMO2ayTcHMjibfBExv5w8yj9+zWp3V47PfSRuRzVLX5LCB6fknqt5RurcKceRP\n",
       "ljpGyfh1drs0y6KIYve6+OUn6vcCU5gVLFk1LYsifVbnH5/HvQRB5NouCA61o03ZzjSyaMDMnF13\n",
       "z242we8FNB0c6c9Xs9saArYJ2Hl8YnKfR4/O8ueSwyP2Ml5XdmFbhpxXvARpFFK9bPxddg42ZZI0\n",
       "s8ckW16Wsg0TNirjk0wlBh4KxHbeuvqXK8JQlUAg6YBwsx1v43HNmf6D2f66aJBcVUdTsXtuBwHb\n",
       "BAyz98BpPycDmvfYaLL9Iq/nr1+Nqs4cmfQUFEYp268jKwBn4lzlYFv9YVXOds02OSEDM1JZGOUK\n",
       "/dhWrXOkoRJ8QCE+ABeEm20YPB/d+gIc6p1/qG1lO5Vo40TF4qFHcXiLUhYL5M4qFdEoScBq6J1d\n",
       "zcIHf7aJJ3mQ15ulAcTl1xzuMzELmSLxJNpUEjmB+BhpZvPbr1elo6RBiW2yhuGwykyxQRUK/bZ1\n",
       "Nl+wJhL2VrHdCOJBDRwQAr8Nz+Hk+ZUYqJIpWtnOLmngRMWX4CCwlMWniENeXxeyjcFWqofpHHYJ\n",
       "Tgk9WFhpc1MkS9RkO4Mf8V5e7200S21qkvWySWNwNOQTRnVemyoYYphYbu3byWF5TAJJ+9Y5drVY\n",
       "ZU+5xRT6xCQwYL2XXmNIpxDTWXBCCNjeiAlehd+zRqpsZVt9iSQqzuGoi6Qsfhef3pYVRoAEbOH6\n",
       "rXeSe15BUkKLBdvYSbJEk2M2D65+zOtfhGa9RSI9W/AzC4saJMqKDWpzWRq7XWpn+0ce8bYl44n4\n",
       "lX6msmdtmyn0ibftiWHNamyeQny8DZwQ7ngbYvhZPUzI6ana1gBPRefb6VEcB5CUxRUjIyMlaL0A\n",
       "v+UzZAvbGGxvKZ3E95/+AUkJrSu2GJVmid7Khor0GB+xcP0hKFxhnNvvvOcrD1+OxP1GXyrB2+8b\n",
       "LzBia7+d7UfBYReXxvPa6whyuMrEpcAUitjOWeJt29pkcuH2MQqxvOWCELBNyqvo33YziDBXXHP1\n",
       "wrA6WQeasvgzrOSMMrwAtgUucxKpzqyGxE0jIw/B3aejnm6A5u19imSJLuF2H0BvXdGsExjBahte\n",
       "i8rzV/kntJmVbdMxU7u4pKtdlvItm0qqMCNI1LGsC17vnCxU5BAciixDcra1edBasBhOcbNdM/p0\n",
       "YrhinMYpi3i+k1UsjsBccaX+dfhqNU0680H8HN+Dmj0pFGeJquY4vxxgcarE65bFJ2u5u0Gy3s3l\n",
       "qgtos4ArrjBiH6aL19lUUoX5WY8VV8jYFt3Sp9MsejEEh5qo2tg2nEV6JyhHbnWzfSWkqurChnEa\n",
       "pyyq6FU965TDv+CumO7+c7Zj7fuzdEq5BKeELoSVCn6kLXga9wCcJWqOkpCpwhtbzDoprtXHBY0t\n",
       "5G14hPX+YdpMspvQb5eg/MdkGnGxadCmcoPLa5izIr4ueLkZKRvdI7Zbu9UDgkPts+/doP4SZw5F\n",
       "vHcTp/LpkRF7csXRsp3tTDV2DmyoU7aTRbgRbnsfP9JX4D5kFckStbCtDcP5F5t1sHFqcdsXkspT\n",
       "1gfziHynrGyXcK7pZb6Brnq7alNJFfaMCnaLWHCRMMO/RAm77X4PCA51zMZ2ZrFBztr0mPlNoJvt\n",
       "tbLAubcl2CnT/jASeHYDcBe46gX5NoZKHf67rJmYbWoXl5bwL25n9C6rwppgvEh85g7/lvpDMKna\n",
       "9yWzR9A+m/qwuXbhZlu6ZTZQFLBNytUB2T7JImab2sVljQ/VWl9FDjYg+IgoyXLNzHjl1zP+EEzS\n",
       "y0PZBW4S2lKCfJJUW37ZvaWwyP7wzbKHXUya4d/6RY6lQPsrIbBZ+8QR/qmL9Tl/CCYTJ8JjO++R\n",
       "bXuP3B3U4f9cmF1Upj65AZfxfbp+3OOyPpFhE3QrgUDc8qbu+TMADIJJZS48tpWIfnbtSKPus+Tw\n",
       "TXtctk7IX5Us2FpK2R+CydRkeGwnpqPJNrOrQ/uE/b633A0EkzQTMRS21Zloss3s6sy+tDDbu1bp\n",
       "AoJDDbXCYxv2RJNtbldH9hWEo19urAsIDnW0HiLbOxrRZJvZ1ZF9mVHR0ex8FxAc6nEIke1aO5ps\n",
       "M7s6sq8p/GZfPdEFBJPaR2GynRqMJtvMro7sk3zud0MXEEyyz//CYTsR0RCQ2YXlLwN+g3eLhMFq\n",
       "cIxbHDI1FibbWkQ/KmN2YRlwoUCVhIvNVmAMBsGhauUw2YbLIhqUXGaRSrBv8LKS7quMBsZgEBxq\n",
       "B4TKdjOiwySzC8k8WyYWbEsHuBUNDZMcw8xD8NHKLw2R7cJoNNlmdiHZBLhkxChlwba0pVwuw0Lp\n",
       "Ik1QEMTDZh6CFwSTyli4bONk2iiWt0zJl9oF29IWnyv9khWlHDMMMw/BA4JD1fpDZnsgoj91xOwy\n",
       "pMmNYFual5j0F7LQTwpyDDMPQQ7Bofheb1hsZyMacTO7DLm/QT2JaFual3Pl087nwcAgnsSShyCH\n",
       "YDKxO2y2Uf5SJMsTXE6y4c+yLe32Aq96zMfbJgbNQ/CC4FAb6wHY7uxXc5+pR5NtZtcz9SuY97Rs\n",
       "S7tnnx4Lq9oB4Bg0D8ELgkPRTyw8fzX3yc5+NVeNKNvMroD2Pel18scdQTCp0SeUXrNm7f8A0ZHB\n",
       "U/yzRKQAAAAASUVORK5CYII=\n",
       "\" style=\"display:inline;vertical-align:middle;\" /></a><br>"
      ],
      "text/plain": [
       "<IPython.core.display.HTML object>"
      ]
     },
     "metadata": {},
     "output_type": "display_data"
    }
   ],
   "source": [
    "same_sums = (\n",
    "    Forall((f, g),\n",
    "           Forall((m, n),\n",
    "                  Implies(Forall(k,\n",
    "                                 Equals(Function(f, k), Function(g, k)),\n",
    "                                 domain=Interval(m, n)),\n",
    "                          Equals(Sum(l, Function(f, l), domain=Interval(m, n)),\n",
    "                                 Sum(l, Function(g, l), domain=Interval(m, n)))),\n",
    "                  domain=Integer)))"
   ]
  },
  {
   "cell_type": "code",
   "execution_count": 25,
   "metadata": {},
   "outputs": [],
   "source": [
    "# Could also make such a theorem to apply whenever addition is\n",
    "# commutative, not just for the Complex numbers.\n",
    "# See alternate version below controlling mapping from S to R\n",
    "# to be bijective.\n",
    "# equiv_sums = (\n",
    "#     Forall((f, g, R, S),\n",
    "#            Implies(Forall(a, InSet(fa, Complex), domain=R),\n",
    "#                    Equals(Sum(x, fx, domain=R),\n",
    "#                           Sum(y, Function(f, gy), domain=S))),\n",
    "#            conditions=[Equals(SetOfAll(y, gy, domain=S), R)]))"
   ]
  },
  {
   "cell_type": "code",
   "execution_count": 26,
   "metadata": {},
   "outputs": [
    {
     "data": {
      "text/html": [
       "<strong id=\"equiv_sums\"><a class=\"ProveItLink\" href=\"proofs/equiv_sums/thm_proof.ipynb\">equiv_sums</a> (conjecture without proof):<br></strong> <a class=\"ProveItLink\" href=\"../__pv_it/theorems/d48b792c4a25d39396009256fbb092be028325a40/theorem_expr.ipynb\"><img src=\"data:image/png;base64,iVBORw0KGgoAAAANSUhEUgAAA50AAABMBAMAAAAciM5uAAAAMFBMVEX///8AAAAAAAAAAAAAAAAA\n",
       "AAAAAAAAAAAAAAAAAAAAAAAAAAAAAAAAAAAAAAAAAAAv3aB7AAAAD3RSTlMAq1RmmUTNIjK7EInv\n",
       "3XZ/CtNrAAAACXBIWXMAAA7EAAAOxAGVKw4bAAAPcUlEQVR42t2dC5AcRRmA/33MPmZv944SH5HI\n",
       "bcqAqYJwK0ewQLzbVA4CpuAOqUiRRG4LERXLZBGlxILksCwsK5FbDKCHwA1EU4WhzIWngCRnLEtA\n",
       "SRY1CGgqG5MyYuRySQhJLuHGfs9Mz2Oze5e5nXRVsv9e9/5/T3/dPX93/7ML4JX6dX0/NHL6io+2\n",
       "Yj2TpWlCzZrWdR29xN9m74XAMjwNP9U+p5FxRlt8NDZ30jRNqFkj7e2t+HUD/8MGKcPLcLGhRyec\n",
       "q/lnK/zq5PGcYLN24v+acuydEFhGcHmqv/fR2BO5xuKpHGbvhBB4nqGCj8Y+Ao3FE6bxt9NOFZ79\n",
       "Pf7ZShxqNJ4rsuytEILO8yY/vdtCo/FMltlbIQScZ/iQj8bayFzQq+vlWjqBrh84aTwT43zqGD81\n",
       "eMbKPhr7Jvm/d+HCvlom6YULTx5PeIi/f+jU4Nlf8fH2ScdAb80f3HzyeLbx+6YQgs2z1cfVZ2is\n",
       "8Xg281u6EALNUz3qo7H1pcbjGToCkhBonpEDPhrrzDYeT+UYSEKgeSbHfDQ2qDUeTzgOkhBonut9\n",
       "dG/VD6ABeQ72SUKgeXYO+Ti3H2tEnvuGJCHQPFt93O0LHWpEnv0FSQg0z60+2moabUSezWOSEGSe\n",
       "/Jbm6726sXjGDklCkHmG/Vx+tpUakWd0XBKCzDN6zEdj3UONyDNyVBKCzDPm53bCsmwj8kwcl4Qg\n",
       "82w64qfv1deIPFVdEoLMs9nP7SFdM/FcphtpvG6eNWlx5gl6n1UIMs8Vo/7ZivOBQHi2sdZTv7Nz\n",
       "6/G6edakxYXnjqxVCDLPNh+3+8IfmHmGjBiFiGjRmnnWpMWF57KKVQgyz30F/2xl3jfzhB1GdHu0\n",
       "VPf9sxYtLjxbh6xCkHluom3w7ptVpkq7HHcri642s73PISN11MKzXzdicee7WixW4emtpWgTi0IU\n",
       "2LpbrEKQebbSS3imSrF/2WWlYiu17uGb9qyE6zE6p13h0H4Lz4xuhDBHXC1eX4Wnp5ZM1iZeL3QK\n",
       "bJsKVgFlkFb5pAdPzwJTmAbzjKdnBcN0IlrwgiED7LK13vSc2n0fZHIuPJPvWXjCoONeY/RFzWwl\n",
       "k6uyXnHWQqoK5xh/OMekj+o0eJatAsq4FL9+1YOnZ4EpTMs4T88KrqXz5cc2CxlvRWhSqasWoyFy\n",
       "H8DNLjxjEs8n9LxDqQ2rsmYrWJsnT0cttKqq4RwY4s1cp+C5b9gqoIy78Ixf8uDpWWAK044hxtOz\n",
       "gvPo3sNZDwoZz25SOybyOPt0gAtceKaPWXkqjmG1m6/TzFawNk+ejlpoVaPGrdUQL+A6Bc/OUavQ\n",
       "SftqKuvB07PAFKatnKdnBWm/7dUMGSf2qFjm4e1vkNujhrvDGtSYmpnng0YjSzxh03HNZkoZA6uV\n",
       "Jq3K/pCTFlrVJhNgiz6i04tnBOGPeflDngWmkmeF8fSqYJhOVi+ZZJy+TAEsZc2ZjLMBG8uZef7I\n",
       "aMlxiWdMt6+WUmXJSixXhaeTFlJVONv4w9kWfUSn4Nk2ahVwxmvbt//J07/1KjCVPHPcv/WoYJQM\n",
       "4k+/djqXb9m4HPgjsLfx0XFLgvkwqRYzz4gIaGk6KPFUt9pOdyLTX88zK+rIx1c+SbR583TQQqsK\n",
       "C4gjNHIrFdXdOXiU6iM6PXlebp5YnAx7FZjCpAueHhWM0ULjXFb+SCL1LgSLD7VSYfeoSIHyjG4n\n",
       "iXtB0CzzFLt1ptRc4VaisLNyJdEmeF5JFL4uLQMdtIyLCSRViL9CxVR4mEylBaZT8OwdtQo44xaI\n",
       "m59aj//tGbikxcxTKuCc2IT1WdYwYVpjdIUrP3+CHwXZ2YuCSwbjmeU85QoqgwvmsqGVJoXiR7j8\n",
       "RA5QQ8O5JFNMdt/mK1LUbmZ/KHwDR3VA5hnVbY9rr+jjVj4DndqHiLYq5yt2LbSq8BcMWyNwkfj9\n",
       "aBk/5In1EZ2CZ/+YVcAZSc24hHum3Q8zUlqUT0RrNKOA2mV6QPm6954+g7bdxl3/wa/Uv0xwZ2CO\n",
       "gWSDG0euo8S0yC5qkpNx9l3bNc7TdAWJnQNIfBfgRjZRkozwKJe7Af6BL5+URfP09rfo/ZPhT4xa\n",
       "/du1f2Dj9mKZJ+ywnYm0CYt9cBnT5sxzjeaqhVYVsN3fQeIwFbWmCmyh+ojOW4WinFXAGeGKcCai\n",
       "l+OVeSWfsnQkViA5xzQ3ZMoQI8PmPGqBtTl3BlQ2XpQhy61dWsQzHSWmxYEnJePMU+/hPE1X0EXq\n",
       "iG5BD5h5Uk8Fy6+AikNtlpBKCr1JjYmKdXzGv8EGUvMhG88VZWdPhlrcwrRVO/+0aaFVxRATByAz\n",
       "zND2aokjVJ9SdXxCoQN1wHn37Gb7JrPOWm7lSQqgazL71qE8JAvMO2+x84z2GEtgV55cR4lpceJJ\n",
       "yJSqzLe0gus6nmPbJ6gNlZfN822yhcnqOERw95tNMkVbKmT9qaD6ly33zzeKrvMt/M+2FXqvYVE5\n",
       "DL8i2qrcP+1aaFXxJBs5TN/gqfcyghbrIzq9eT6JGn3NklxTkXbYWanHFlt54gIQnv4kljt2kVtN\n",
       "UxaWkKFwkO0Rm3iiIml0STshhD7qwZPrKDEtHBvtW5QnISNn2HjiCqp/R7PT43RYjXfwRX2S1rbC\n",
       "ZPUAhAqfAriIZI4Y+0NXk0aDSMk8PhXRkew8FXt0xBZuUb0/NAxDRFuV8WnXQqsKjwDueOtzVERd\n",
       "BaPF+ohOg+eoVSAZd6Ci3/s3Gn/Uy5sF+Xeshu8gfYa0QSZPO9CKXbvpUNh3lL6WuH9IitwG8Otm\n",
       "bRXATIAv2dYQAyitNnSUmJYSXIFzcqRvUZ6UjJwhr1dIBaN5dPO+htairP4cxAIE17aHy4/A7Hye\n",
       "LQcgJjYhMg/MV2fnyWLDxPM2cF2vQL9tAyN+iFsMH/nFsJJlCyRPnnYttKrY6VAP0wcisf8xF3pz\n",
       "VB/R6enfQggPkjPRPSXy9YGBnyCe62JWw6QAdBFzGl0BfA4epy6EOnO/iefdfbTIdaiHzAbULZAQ\n",
       "+6/L+OQ6SkwLHw2kb1GelIycYeOJK9jUk2mBCxH2LJ7I27h/VDY8FSw/uveHZ6LC22jdpy0S5ysP\n",
       "fYCPrNI9Zp4/c+epbrFvXYxyK+pVlZnnU21V1p92LaziP0b/rt57JRcf3dhdpPqITm+eJL0MXQm6\n",
       "qp4Fynn2GzfAavzfhdBcpB4Hrb7KL5G0eeI0jRaZgd6cgfoI3mIJL3XhyXWUmBYxu51J/ZUkMDJy\n",
       "BnMNDZ44rS8mL9ZW8on8t7wUOR2da5LJUGJ3TuV5ut8n0p2W/Vvj4tMyz5h9DcW/q+xNs7Yq+0N2\n",
       "LayqaTKEbjTEZ5m+O+GEeMZH4c1ZdFWOlho7nXgSD+NpWMU8jhRZmnwB4HbT+ERDhBTBO2Xb8CfQ\n",
       "fHuHZed7ZGOWz7dcR4lp4dMq6VuUJyUjZ7DzlYqFZ1Ox/xotqdFJBD6hFMUedrjlBtP+uHWL2757\n",
       "73y+Iu/3DdiKzOCz9wXWswAvnjYtoqqRPNxFfFoipgrqZqZvngVb27BVEBlKC+zNwe2oKySQUxdy\n",
       "4KmOgToEM+A0/BIfg1D5WiSg7vRRsPpDuEga91NllLgcFn9oOYS4SqpjHf4o1VIy9y2kO8nJWDKE\n",
       "qsEhC09l3nlPQRxPkZnBF+Bu7uski5B+sCBkmm53wYlPaZzPP6X9+OjbBgL2+tZakKzQMx8PnnYt\n",
       "oqrwU5iura0wMV0JDVF9VKexH1+2ClJ8gvr8wP0uCyW8VZDYDNGRpfjlnWNaYmkFCZd3vViUeOIi\n",
       "+JpmXlTAdRE8I11d+NhZ4QqpjlVZ9FGqpWTuW0h3kpOxZIgKteYtPNl9cGDAygP57JHdRSHzxnJO\n",
       "uNrO8QnS+eclRrucz1475oNkhYL14GnXIqqKPPWr917KxXDHpUwf1WmcfxasQg3xJvjMMEyn3bDc\n",
       "N6X158t4H0EtJnPk2hDP8EbIw2/INT4iL7iyApd1mRkm6xWHDJ5YyMxLVeKHltvljFsUzR6U908n\n",
       "nlFrvIlpmREedrW4B7x5emqJV2ziHqHTiE8oWYUT55mcgebiRYlyBhETXuEimadSBlpkPoQqX0Tt\n",
       "UKQ8ZyZa4mxH6mvSoaHmwnNRNZ6bfDxjl+LBjC9YU7vzVT7qzrMWLdZkxIPlrcKJ80zhG1Iuvvpp\n",
       "5HGIOS8n84SlQIukNKVjiPhWCXyH/3Amp9yH5tt4Ee6RTpnAhWeuGs/Ogn88I5Z4TWOZ8a1W+wHJ\n",
       "ifKsSYsLz8GKVZi8+D5WMMH7nMb//y7ZWUv2qdh9iWTZjOHwUZBtxcElgzXtsH88leNmnrH3byJp\n",
       "+1Zdr/oQqivPmrS48OSPSXHBr3jNkU4axpjaOzJpD8lP3fMO3aYnTw7WzbMmLS48+WNSXPCJZzyL\n",
       "1qHhrgWT2sbNh/3jCXpR3o8/0XQyny8Tj0lxwSeeiacqk9/EaT+/XXNHTyPyjB+XhCDHx4cO+mis\n",
       "NdeIPJX3JSHIPDPv+WhsX74ReWaOSUKQeYrO6UfqLTQiz9ABSQj099XoPhpb35DfP5Qek4RAf5/U\n",
       "Dh8rlz7syFOExU2M5+KRjr56eK4floRA89yU889W6qDME4dCGmFx9fIk8YjhCg04rJlnW4skBJpn\n",
       "r48/dqXsl3iSUEgjLK5enl14XDaBcUJZE8/WrCQEmmeTjxtE/MsCMc/M7uXz2SOkIiyudp4kXo7G\n",
       "Izbn3B8Z9+S5VapdsHlG/fwCou4+wXNPqHQDO+QUYXG18yTxcjQeMaOvrssfSvBTPCEEmqfi5xe+\n",
       "9Q4JnrlkpY898CLC4mrnSeLlaDwiPNbdUg/PDF+uCCHYv+/wZz8n92Hj/tlcZKGQIqStnvsnjpej\n",
       "8YgaKKP18Ixx91YIwea5z8cvNM4cMniugiJ7wJCHtNXDE8fLkXhEJVvr8+8MWz+fG4QQbJ7Nfv6a\n",
       "637OMz78LORpKCQNaauTJ46XI/GI0RYjSK4mnuL3Z4QQbJ4pP7/Bb5PGx+dVi0c0EgrJQtrq5Inj\n",
       "5Ug8YvQHC56rxx9SuRckhIDzVP10iNaTOU38Hp0tFNIxefweHYmXs8cj1sAzww+AhRD034vcp/l4\n",
       "AyWTwS9r/j26RS7NSuLl6kwUW1Oe+2r5U4Rn2sdf7CDPAU9SIvsJHUMT5Cl6s9GtA84z7GfISVtx\n",
       "UnlOJBFsKj/PVw/CKcITrvDRVrTUWDxDvD6h0inDM+3jEQv8tbF4LuGz7BLtxHnq+v5G5pl41Udj\n",
       "qybN+5pQs6Z1nZzkb+N/2CZleKQ17e1zGnqAXuujLWXSJqsJNWukvb0d3zX5OkcIJOP/Kda9qmSd\n",
       "tkQAAAAASUVORK5CYII=\n",
       "\" style=\"display:inline;vertical-align:middle;\" /></a><br>"
      ],
      "text/plain": [
       "<IPython.core.display.HTML object>"
      ]
     },
     "metadata": {},
     "output_type": "display_data"
    }
   ],
   "source": [
    "equiv_sums = Forall(\n",
    "    n, \n",
    "    Forall((f, g, R, S),\n",
    "           Implies(Forall(a, InSet(fa, Complex), domain=R),\n",
    "                   Equals(Sum(x, fx, domain=R),\n",
    "                          Sum(y, Function(f, gy), domain=S))),\n",
    "           conditions=[Equals(SetOfAll(y, gy, domain=S), R),\n",
    "                       Equals(Card(S), n), Equals(Card(R), n)]),\n",
    "    domain=Natural)"
   ]
  },
  {
   "cell_type": "markdown",
   "metadata": {},
   "source": [
    "#### Bounding Theorems"
   ]
  },
  {
   "cell_type": "code",
   "execution_count": 27,
   "metadata": {},
   "outputs": [
    {
     "data": {
      "text/html": [
       "<strong id=\"bounded_sum\"><a class=\"ProveItLink\" href=\"proofs/bounded_sum/thm_proof.ipynb\">bounded_sum</a> (conjecture without proof):<br></strong> <a class=\"ProveItLink\" href=\"../__pv_it/theorems/6e87fdfa256aef012e7f9bc66d4aa07e434c87e40/theorem_expr.ipynb\"><img src=\"data:image/png;base64,iVBORw0KGgoAAAANSUhEUgAAAlMAAAA/BAMAAAA2xlDTAAAAMFBMVEX///8AAAAAAAAAAAAAAAAA\n",
       "AAAAAAAAAAAAAAAAAAAAAAAAAAAAAAAAAAAAAAAAAAAv3aB7AAAAD3RSTlMAq1RmmUTNIjK7EInv\n",
       "3XZ/CtNrAAAACXBIWXMAAA7EAAAOxAGVKw4bAAAJ4klEQVR42sVcfWwcRxV/d7v3tWefXSGBWlnN\n",
       "RVT9pwGfEBRViPhQUhJIE5si/0GLYtNWLQFBFoEQkUx9lfgHmmIDitpDKFlQCIS02I3aIIiSHEHh\n",
       "I6jEfCoVpLnQ0FBobNdOa+eaZtn52N2Z3dnZ3QM0I829ubuZ39v325k3b2bnDiBJ2gaqkt4GGLPt\n",
       "ueQt8ra9JPg4FQjBMD5F3rkySaqMK6PqJWTl6GgjeYvi6KiQqjQgFONl+vbl5NrHTFVM5VaQ+rSt\n",
       "Tops6AKjNEvKroxPxi+UdaonayqpMiiQcTKxv1A3/j4IKqmCdRZ548rYNNVQxVRxVS1VvXXyxpWx\n",
       "6RPKOlW+Xy1V2RXyxpVxKWm9/0MaNNVSBTvoux3JGvVOK6PqeVBM1SD1PYPJfNBUVZmrWlJNVQ91\n",
       "Uj3JnNUaZZ0qs6iaKn0ROBkTVV1RRtVMXTVVuWXgpDxpq8qoGmqopgp+CbyUptKiMqr2gXKqhk1e\n",
       "SlOfugnwqnqqBmu8lK+VZ1UxlXtDPVWT/byUpuERVVTpr6mnqqfFS2naaamiKt/xrczbTGp3SVUa\n",
       "EIpR6vBSmt5U5qr65nwrszadiH+wfcBudUlVGhCKUVnipSwVriqjanKaGTtr/Fv2/qVuB2AKEIqR\n",
       "vcJL6WJZXQQ6WGes7LV9x/qhbqlKAUIxild5KUuV61hcPhvT+QRlSShi+jULkegLbcbKou0HzLoZ\n",
       "pd6UUyUFEWIYb/JSOg2RjvpsTLW/C8rbo/mnK/Bcm2Qx/HCVnbwWbN+2WpT67TEzoAxEjGH7EvfI\n",
       "t0uC9VVKlbRiFgdf+lHLKyNCIsO229zCizQLqdrXYK0sCR9OCVVGU1WKfsIVgXHe8uSdSD4kmbFX\n",
       "KFXSigfw69O7q14ZJeb52a1sdzfGPXSLZCFVO03WSuOMyGsKVbJUZR+KB2FMCGG4F+HIR9Aolaxd\n",
       "ejqUKmnFDaTTfszyyii9259vPsx1Ba+7aXWShVSdsbjoccyuCryvSCVDlfanBCCMCSGMfSOeRPe0\n",
       "XJUEN4uUKmlFHKTkOn6Z0OxGr5d/xtPvF0+TzFD1ba9k84F22T4dXvsIVfpUVf5qxYOADGNN1ZOa\n",
       "c4fzkIAqWcUsHlHlOb9MhhfpPcaxQGR8q1+8n2SGqq9GUQU7Xw8pFqv0qDr0QmhhIwABGQZDFTx3\n",
       "7txvk1Alq6gjl6gN/L5Oy8b8TY8edgzBU4Gx1Xfvt81/3nnd4uQfX/jhUUf704AzQ5U2G0XVk3Zw\n",
       "5R6h0jVz/x/Da8AwSPb4pVo0xnDNl5vZPi/YifSoklQk3aev7ZZ1uNDe6liC7pTxVn/UlscLv6Fd\n",
       "qV65WXe6xO2AM6ZKP4eT63iNIFXeuoS5kUKV1Mzv3idYLodBjsDEdCQGR9XnoIBYvHd+PZqbjY2B\n",
       "GX6m5VJFK/qJNkFRMGZjsuGW3wtD1lucy8JtGaoGLUAR7R+cyzG1TsZRtQ5wZt16llpoXAtuCgxf\n",
       "Cy7dxSqpmRkRVSGQbAcTHoEBJ9q+LFllx8ln2zCFA4/3NKKoIhVJmH+hOeI1QY4QfzHolRvkCXoR\n",
       "98iCPwB/DkUUe5xyvqKP96dI5mbAA6ciqOoNbQeIVbpmfkEwAEMgPf0wZUZjsFRl23kyKWVwjw7e\n",
       "N58qUhGnjQ2miUfVMab8Ozw/tXi3XlyCSotQ5dTDH36cZJaqwqfNCKoKodWFWKXMrYdApqrwigSD\n",
       "pQrG1yOKangNlB04jN3l/PqwWycV5zddNEk8S5v4A/Abfjm3Aj9y0Ob4YEFbgVI/GYDoJJLh3JZ3\n",
       "AM6sr/qLGeHWofKrIFVilZJgIQwyZGKUKAzWV8FhFJ1W7G/hT+7ArxfpNfBUoYoV88Z89SDRSZug\n",
       "Ydv2bgkqG3syLXBmFG2aD0G1RZhBGvcCHBwZgDLVdwfXq3LTUTMgjDWCVIlVSkLQMMgQGMsSDI6q\n",
       "CeysvzeMxUbcRzt4kgpShSpqsLcIHyVf0SZAp9fCa245u7q/lavSGIKGUnjOWIE1FokOBr92F9xN\n",
       "44YtHFVfjIyriqEtpgiV3MLmkzEgM2amI8Fg4yrIICssyGFOcEdxZkvvSEePTxWuiL65vdlsVr0m\n",
       "SD/qstlFt2xsa9/yLtSpg9vyH/n3ViQec0Ke+ewGpPzPJDNUPeEvbIIhUWiPN0KlbG89BJK7+Zk5\n",
       "CQZHFa5fpeu7X+O7VC96YX5vh9+EKbYK8CjXBCW036T3+2WSvhy+4gcwpjcGCnMkPxvaymIW9WNs\n",
       "Wz70FauUUfWAICqsSzDc7Q1XIp0Z85AzRBxiDkG2P9Mf2oQhaaI8rjthg9uEWWGuzVeDi+QNgWt6\n",
       "xCJny7Q6u3BGOcEmDJRCa/UolRKqQiDFm+hRuwiM8yYvQf/Klp/A7iqg3uSIbS953ZQ+YXJt0f9x\n",
       "/F9QeMJt4hFqwvMH/DLtMviyDDKvocsZsA4Q3MfddrtoFm/tjXBWbvXjGMpQlEpq5lNY8Vk5SOa0\n",
       "8VkJhucFzvDXViX328Ho8YZIZVmwC3qo2eTdkDEN6zf55YABvqu6kxQOup88TrOQqoUaa6XmT/Ia\n",
       "pSpKZXSvCoM4rmpEhnEtIKnDskprG0g8ho+LU0TyiPdYzN76w4LypeideNppKybJl0+Jag3NslYy\n",
       "k/y6SPWXYjaMZSBCDDdgDQSuGpTnsdj1Pn8nLveqsic2Y/2MlQV/kt8f9xApkqoUICd585PQYLyu\n",
       "jKqZccZKb5IvrLVXu6UqBQjF0K7zUprOK6Oqd5GxcueDOH3mb3b8j2UiqUoBQjH0VV5K07CyX43o\n",
       "K76VOnvcoNYlVWlAKEZ+kZfSNFRTRZW2HFi+JU3/w5Mw7rmJviQ/+5qsq6KqcEU9VVOzvJSmnjll\n",
       "zuo59VQtNHgpTeWOMqpOWMqp+g7wUj4MriujarKtmiqDhlNGsujyQWVU5cdVU+WeRE94In1IWbSg\n",
       "rYiszB1/8Z//NVWxIAQjTx11PpnDnlF2xNh4I2Dl12/cA/BO+iSoW6qSgRCMSRopTSaLmPSWshF4\n",
       "F2+lvhm9tuhJpy6pSghCME64E0zCe6vOr8+0XSsrFx/ehE9iASxLzwPKqEoDcpI1PTEFryijCj81\n",
       "xFZeykzfR3eUFq52u7BJA4IxdOqi9KSxZW9bGVcvuFbWSu1Gjh6sueXVLqlKA4IxJukG5mTSnznk\n",
       "1P0iF//DA3YzfSZoO5rNb4IRP/FH+qoUIBjjBvrmhsQXfEQZVeVx18rdYBbxVHw32Y3viqoUIAhD\n",
       "o8fWtNOJL7ikbgTuJVYWWkegTs4sfQDgbd1RlQoEYUzQhd9EI/H1GmeVUfVUg/zzzbZ75y3YhS55\n",
       "88aj0rlL8vc5iUEohvuI/f4UF/wlZVQVHMO+7/7zjfHT5p7YFsXR0XsEH6cCIRgGdeZU/gf8CfsU\n",
       "juoKTwAAAABJRU5ErkJggg==\n",
       "\" style=\"display:inline;vertical-align:middle;\" /></a><br>"
      ],
      "text/plain": [
       "<IPython.core.display.HTML object>"
      ]
     },
     "metadata": {},
     "output_type": "display_data"
    }
   ],
   "source": [
    "bounded_sum = Forall((S, f, g), Implies(Forall(x, LessEq(\n",
    "    fx, gx), domain=S), LessEq(Sum(x, fx, domain=S), Sum(x, gx, domain=S))))"
   ]
  },
  {
   "cell_type": "code",
   "execution_count": 28,
   "metadata": {},
   "outputs": [
    {
     "data": {
      "text/html": [
       "<strong id=\"weak_summation_from_summands_bound\"><a class=\"ProveItLink\" href=\"proofs/weak_summation_from_summands_bound/thm_proof.ipynb\">weak_summation_from_summands_bound</a> (conjecture without proof):<br></strong> <a class=\"ProveItLink\" href=\"../__pv_it/theorems/83a3cd6a58e0c96edba9fcdee0705c3502f779780/theorem_expr.ipynb\"><img src=\"data:image/png;base64,iVBORw0KGgoAAAANSUhEUgAAAj8AAAA/BAMAAAD9HbQtAAAAMFBMVEX///8AAAAAAAAAAAAAAAAA\n",
       "AAAAAAAAAAAAAAAAAAAAAAAAAAAAAAAAAAAAAAAAAAAv3aB7AAAAD3RSTlMAq1RmmUTNIjK7EInv\n",
       "3XZ/CtNrAAAACXBIWXMAAA7EAAAOxAGVKw4bAAAKfUlEQVR42sWce2wcRxnAv7vbvcfey6hSoaqU\n",
       "nARKJfrwCaJKQVV8KKVEhOasVvdPqGoXqtIGIV9QQURq40WiQoiHTaEKB1VyQTRSlZQ7CqVUfcQ0\n",
       "lJZAEoumEJo6vrSCFFHhi93UjhO8zMzO3Mw+Zj05VcxK45u1v/3mm9/OfPPN4wygcm0FPZfRARhx\n",
       "nGk16aTjzIf8WlnBmOOUAPY33Ttru7qdhVFNgP6J61er2WrS6VotFJCqgodqIwhQYZLe/kvdzpG6\n",
       "Hj7mIi78cp54Mcx69cdzCBD8lN5k2qqPWYc1NaCDZR2ADpZotV9U9gS6etgtoANQ/Ai9u66p+NiE\n",
       "rYdPekkLIDhB7/IVxcfu0tSAkgN6AA1SlxtfVHtKVe59v1xD//+Akmwcu0/tqfykJkB/Bz2A4kvs\n",
       "Dan5lomSJhc0rwkQ/J7dqjmhtZoaUKyrC1CVDd9dpSjoXU2AWhVdgEbKNFBdUHkosaQJ0JCtC1CO\n",
       "BX5/UHko09UEaC/oAmSwcbuqMscq6hrELmgDFGdda7CsMlNt6+FjXtQGKHWO3o8PKDxUHdYDyDiv\n",
       "DRD8md1PKTw01tQDKLnM6zfm8GulH0CKChigvbTOmWUFQ/+ryQUVp3n9Bh13RLO+eub4pX4AKSpg\n",
       "gOboZ2F+dTtTFzQBGp/k9YvxRdPEbKkPQIoKGKBBGkLHFWLAuK44kRlJXMjsOe6bJvvxQWoKGKAJ\n",
       "KpJWaB0Ft8sWZqInbqlgtr6qcN1N4brnOkL9Jhw+4H7aL1nnpUkBRShIcZMYoBZtb5aCfzHcbphd\n",
       "ZSx7M5i9c1XhO2kKVV4tCfUrOHzNJeF/hSVemhRQhAJijdkRARVZcOwAkJH+wxGB9BIFFCMdThI5\n",
       "xdti1noUv4FCQPbxo0EJnEIB7bXFUXqv/F1eC/D8Ei1NPswHFXBrsrM2vCUCyrPRa7YJn8KfX4wY\n",
       "bRcpIAPXIinpN/u92STxH8LGUtwt4e4Qie0SQGN1sX4HHdnSg4UmTokuLU0ERMuUK+DWDCGDmgKg\n",
       "5CI34hu4A0b4vdwyBZTGbW2nRGqTN1skBa3njfqEG1jMh0islwA63hTrZzqyEdcou9sK632AWJly\n",
       "BdyaW5B4RQCUOc+a8TAhl40YOWl3RHXAr+hJidSUNztCbMuxELNwys2ZyyESKAmAftLLOd5A+NAl\n",
       "ScCaw12iQ0vjgFiZcgWCNadROiIAijGYa0uQQC8gCSqAPo4+RiUuaNSbfc5tqNQJHThN/5adDpFA\n",
       "SQD0bRmgpCMpex2OmWxaWg9Qr0y5Am5NCvvZL0gAwdGZmT8pAcrNzLwhmbga+Pc7XtjFsnfBtZ9B\n",
       "z7hTvZ+/2vNna86UAhIoCYASbQkg6/hFf7Bw9Vk89GxxfYhbGgPEy5Qr4NZgFwa/FAAZbDpfRdQ3\n",
       "i+06ZF2vB8iwISNp5vjtmS+TKQzOWgvxaw6jcskr2/d5rmu7tRiQQIkAMmbIxeJSyweoN1voXXfU\n",
       "yVQJv/mrgJZGAQllyhVwa2LYB98oA7QDUr1JfZpudHzuPxuZstYUA4TEdiA7eNvlUvkS2Se+lWbj\n",
       "i7el0RASJ4/GuLGDTTgWkEBJdNJxKm5d8tXPcI54R6/DYOBO8heUjgEtjQKKhQHyK+DW5HBLvE4A\n",
       "lGUT2kPoL5mmYN/VrpEdmIAAINTQnkK5lzDIM41hUSo3TFa6T9GscZiAS7uN7/5ec0eDxcWABEqe\n",
       "UWz/S+GAYNY7DTe6kG+79qQXWWmsi93/ashyh08Bt2YCRxQTMkDxjuCjX2EDQywE0A3YR6ewHTfb\n",
       "Xilcyh/BOk+z+bs3k2FiyucwT4E5H5AwvS0o9aW6BNC495RPbhJawy6gwhQrLcJJBxRwa94hPVYG\n",
       "CEY3YoUbn8ZvYeUM9jLFMp9bcScNyQQST0zuartRqyCF2qm14vo63GRbpRFMMD7tG3LnwVgOSKAk\n",
       "+qC/1sOdNKqGN0htdYhvxl0sM9CkpUUM8wEF3JofWOj2epkPgidRgGP9jTTTwuuFCpm4/DBkFIPs\n",
       "OlRm7OxHX37cNYFLZTpgzUNs9BqShaFmq0RY+oK2JXKgxSeBktCCzEnJKAamb3elVYIr46jKe/Cr\n",
       "atPS5IFiUAG3ZiGLbjdIAT2AfLRRSeMWmim7I8/PqgMhgFK/wzreBPt2909cCg+xe+D6SsXNXgkt\n",
       "u03Hc+p678U/r4AfQUACJQHQ12RxUGCDN9OJnzDc4bm4rUNL80w17o1WwK05/wsaLoTGQRCzcU8s\n",
       "4MrmbAN/NMHs7fXkOCD4EO7IyP/c2Gg0SqJUGjXvff/+1hrbzT4Mha3o9eX9M4h9vy5DQAIlAdCP\n",
       "+VTDF8Yc88/B1vx2x9vo83uoseDKkdIi1qQDCrg16zHb16SASHutZz6BDC4SEbMkzM7yy97ljg3m\n",
       "dP07pMWKUid5uTz7oCS08ko86JmLcTcx6+0hSdlkNW8LpUUAkimg1qSmxbnYkm9JAXL1idubByDf\n",
       "3AAHALWiWD2w3EHv16Sn2yRe9EjxeamQ3SSpkldik9JyBzRkkWyiIpQWAagRbQ2e8/LlDjabn2U1\n",
       "NDfd8Cv4bim9tYN+Gt/c8rR/96VXh91whZ3CHcEjlakHs7R9PUEGp5Oi9xAlcApfMBsW62e8zn2L\n",
       "T3C3UBoF5ClzFQXUmp3ielCu6+vn9CoJP3vD5ULIiuKBRsNbJ2symM3I1lw9EjiFApori/W7iSv7\n",
       "mH/hSyhN3oKkCqg1uz0rimx1wrsDYjb5T96C3SledpU16V3B7NlVhc+6qfBGGKChtlA/YYiOT/kn\n",
       "rR1emhRQhAJiTaEuAmIhZcq7DJkIW7E1z2na1RgZEOo33mvWVrXSz66GmgIGiJWtUnnrPU2AWqO8\n",
       "fnyI/spax+4DkKICBmiI7qgkVhQMndUEKN/l9Uu+dw+5Zo47TuROjAyQogIGqEoZGipno6qavofA\n",
       "Dung+lWFrfWFfgApKmCAxtg6l8rZqKGyHkCJBd9cU+V6n053sEZWVPma0HhFD6DUu9oApdni7ITK\n",
       "2ajctCYndFQboAJzPXO2wkPZZU2ADjV1AcqwSOlRpaa+ognQeEcXoBYNgyy1GPAeTYCSo7oA0QPI\n",
       "qieghzSN84lFXr99bLw1X3jr7X4Cxd7XBYQNGymgL7NXpOZ+W5qOuVoXOSC8//n9qx7BGwfpbj8t\n",
       "aF1wK0YKKMUipXG1CMeY0tTHPsvrZ7TBIPsgU/TAzuUC2hLcipECyrJXcEjxTery0q1Or375YfcA\n",
       "DyxEnVyLAPQaBLZipIBancus+DuaAJHtLrd+LbZsM3eh3I+TtroQ2IqRArqVdR3VCDDf0UTotOBC\n",
       "TBeM9ZFz/QBCPiywFSMDlGKHg8ZVj9Cbur6TSb6vT11I4r5G42GwVhm1ZYCQDwtsxcgAxRjBDygb\n",
       "+htNgLKjPRfSTJOx9Db5IbdIQPltENyKkQC6qUnDjCPKhmZ09bE9DFC3457R+STAB/sBVCxAcCsm\n",
       "HFDqFXrzgK1sp3VSE6AnbPq/SbYOw05s7+abn5XXL+Kfmxj/gOBWjP9y/7kJOxdHDh6pXl/XBCiF\n",
       "oDxG/zeJ9UzjkWjpdK22LeTXTEFgK8Z/PVSroVb2GGsVrvD/AAhtxVGdM1CYAAAAAElFTkSuQmCC\n",
       "\" style=\"display:inline;vertical-align:middle;\" /></a><br>"
      ],
      "text/plain": [
       "<IPython.core.display.HTML object>"
      ]
     },
     "metadata": {},
     "output_type": "display_data"
    }
   ],
   "source": [
    "weak_summation_from_summands_bound = Forall(\n",
    "    (a, b, S), Implies(Forall(k, LessEq(ak, bk), domain=S),\n",
    "                       LessEq(Sum(l, al, domain=S),\n",
    "                              Sum(l, bl, domain=S))))"
   ]
  },
  {
   "cell_type": "code",
   "execution_count": 29,
   "metadata": {},
   "outputs": [
    {
     "data": {
      "text/html": [
       "<strong id=\"strong_summation_from_summands_bound\"><a class=\"ProveItLink\" href=\"proofs/strong_summation_from_summands_bound/thm_proof.ipynb\">strong_summation_from_summands_bound</a> (conjecture without proof):<br></strong> <a class=\"ProveItLink\" href=\"../__pv_it/theorems/109528a6e0e1ca35fcd861bc09cc0fd04b1fb5e80/theorem_expr.ipynb\"><img src=\"data:image/png;base64,iVBORw0KGgoAAAANSUhEUgAAAnsAAAA/BAMAAABqTBP3AAAAMFBMVEX///8AAAAAAAAAAAAAAAAA\n",
       "AAAAAAAAAAAAAAAAAAAAAAAAAAAAAAAAAAAAAAAAAAAv3aB7AAAAD3RSTlMAq1RmmUTNIjK7EInv\n",
       "3XZ/CtNrAAAACXBIWXMAAA7EAAAOxAGVKw4bAAALIUlEQVR42sVce2wcRxn/fLv3Wp/PjioBVVFy\n",
       "PJRKUOIT5A/KI3aVUlKS1FeQJRpQYpGIKBHIF0SRKiW5Q0LwD2ATWkVByL4gHooS6qMUFYRITBEE\n",
       "ilJb0PJoYvvSAmmhqp1z0jhO4mWeOzP78D12lRlp79vd+775zfx25ptvZvYOIHwya6AlYdy4bd9q\n",
       "Tjth23Wf27tse7oFe2s/veIygvQfPewR3PjVwU83p50aHPSlb3Cw3Ir9a+zytahqEb+mhz2CG19o\n",
       "weJZP/patE9X6TmXodOpvB76CO5tp89imVjPRlSNBzT1XYJ72+mDeyr0gsuQKbWkhz2Ke/vp6+qn\n",
       "F1yGTIkePfRR3NtPX4y5+lg0Lr+3qIc+inv76YN97GpfJNX4pybXR3E10NfLAp3ecgS1SNU1ub66\n",
       "LvoyzOllonB+HQt66GO4GugzGaQZRc0n+vXQx3A10BdfBEWGSn1lPfQxXA30wR9AlWHSuKaRg+Hq\n",
       "oG+gqMow6bom+q7ro683r8ow8/YbmtYLbuijr9SjyhDJvKqHPo6rg77MpCrDTJ2WNU3ZlgV9CVtK\n",
       "tTboG5bsVxrbp5dVGSJ1T+uhj+Ni+mI2W7X4yc6325Nt0Ndr02HcevTi1M3G9tm6KkOk0qge+jgu\n",
       "6bzrxHr9R+tt0Nch1uuNuVxD+9gVVYaZuGuKmjkuoa/LFk78wXZ839xl4VRHG9qnrqsyRJonviY7\n",
       "s3rwnJTOi4pYRblID/+852sSfSlbTABMd8ZFgRZI34gtYpCPN7S3bqkyRBogbb2zsLrWy+I0yzrH\n",
       "zobKO9nhm/lATh55521BmisYo3g7V6cva4vFO6OxvS0kafbvaj/4L1P6OogzCIgjY9K2ynsBTpzD\n",
       "xfLokttU2dHAhy9942WZvnTwZiPC65wrU7TgwGX8VkBpsP1vlkC1n6s48mNY7m2bvuEipc/EdUwE\n",
       "9Mgfi1NrCH3swWfejdI9QtnR2B9A33BRps+aCvLiBK+PoQXTd8ru9y8NtjcWXPYcHMmvYm/T/vA5\n",
       "VaH0pXArfixAabMU7uLHSEbHjR61ulB2NDYG0DdVUcLmXXbAgEnwHmBowfTFvVvodcfeHHLZjxcc\n",
       "mUDl6My1TR91A6iG+PE8FaAkxWIZXFYSbmYqonOT1k9vE2WhgQ6JvnQFXO6H0ddpP+cPjfFglqHJ\n",
       "9MX2KrOOMzcrrlnhsmPfVXPZr8s50kD0JiA8fR9AYijA9Un312NtQmfCcX7GC7QJTzvKQgMdEn2p\n",
       "0QD6YPhNf2yMl1xiaBJ9DNOhL2G7Ck9LQ+xLZZe9RB+cm5n5cwT0ZWZmLgRsvJv4/oHTh/H5VlzU\n",
       "ntjTqFHxWC17ntYksfZijikLDXTInffDQfSdsl3gybsu1Rge9l0ETdDHMR36rCnX2gctDbHvA5f9\n",
       "QF7ILQDfa5s9y6HPLEtdy1UShBI/C+P4693omMi/82AeDPa4T84ytYn91jX2mIUGOih922dwmutX\n",
       "cAV9zsSNp88WyZQU43WMAkVz6HMwxZIBn7iBUhpifye47GX6DkAyaOHFlD6FVOi7yelDmRxAKKJc\n",
       "8dOvvErPunLkjYrt+PwvuKSP5r5ehBj1iF/+qzORqMDzVFnSQIcydKzPybjSisuA6rys34E5zfAy\n",
       "NaBovPoCU9BnurwnLQ2xx1KxP1MTMl0R5UuxvcvPvLEJP4s09dfsRtpxC6erXvpQE/4FOvs9vvz2\n",
       "nU8AbIAUq1oGfTsAcB7Y99s+SLDItx2fcwqMxscbVFnSQIdCn/WFgj99Xepai7kAXVWGN1JkaKz6\n",
       "Eqa0YDWnrrXQ0mD71DVQ7RX6YjVp5LiL9oQajIBMH7mRBos+4E3wiA99G/DIkcQo5hY2gvYI+v4E\n",
       "1lVO39/ux88mPumqynmI1xl9QiPuan1feSag9SXVwDczChMFhvc6R1uVvpIaedPSYPvspMteoQ+G\n",
       "NgmjP/LRukOhj9xIQ/LxIlXqLnqGDkgYKDNj9HAVXiH3Fp15LeqP1gpx4KQzWPU49lOxaVdHqoO5\n",
       "TDuvpIEO2ffN7A0YOiB7VnVdNeLxSef7jsXQVuu88HrRFfbh0mD7dE/FZS/7PngKh2wnN+HHmlq5\n",
       "iBtYd57O2x36yA0kU2sQRnIZMjkvfZ3rkWnHpfectWh0MX+dRybpGiIEOobuRudjiOJlq57FTLvc\n",
       "+BJ55SxdUzTQIbe+R4JGXtjl8vw5eEusSPBgsZOhrTZ0xF1DDy0Ntu/OV132Cn0HUR+z/k56ePal\n",
       "bD+ZQX8XFPrIDXyVvK8MqWXoynvpS/4Wt9uXoRynX1rv5qtAeNAfg/f146x/higespY6WYSC05Oz\n",
       "1CfcAY8zZUkDHRJ9yaEg+twvO6RrsRdMigdXn2RoInDhmIK+EdfUgZYG23fvqLns5bgPOtBzM/tT\n",
       "uHOn8zSc+MFAj0IfuUGurAcLiL6M46anHPrgbdiBIKdl7Dt27AhYomQp1PCP/+8ba3H7+BbKLwf/\n",
       "+i/qpQ4rBg3Cjj+dZ8qSBjrkWUdZxZXiPtcivbX2lwdepXiwscrQ5LD5vBo2W8+7YgpaGmxv4NhP\n",
       "sVfoo949iwnLlE0sKnwhg9NHbtAr4yzqvN3Oo5qrKAtW98aniynSrD4pTYH/IUrV5RBwSKqLvGQh\n",
       "lA/RQ259AK5FD07fnoDYi+Mdcs95DXXSluhvwZ4v93AJE8X0h1CBuolXi+fYIgKnj94gV7Exdejg\n",
       "C1bscm1qukqj8PsA3sqVpNUBo99nHUFJG5WVhs1NLVhBOmjRg+NtXn3JAI61Yj9XVCVkiiOfqpyE\n",
       "rsq9cBJQC+woyvTRG/jKwFH4G/CwWLYsKPQdhTvK8Biu2pb7f+1wnJYGtaO8IQVV2FHGGvjwXy4t\n",
       "KPRtFzGzy4cdldCC6TNfEjP0xvZTLgnxzRt+Dt/MpR6qoU/za1ufUYYOegMPIUdo2PwJsWie9642\n",
       "W7869oTqiCSqTvhQ6q+MNfDhS998XqbPEFGL4aLvhIQWTN9HRGne39j+pksqD07gp6VPLFNHPOh9\n",
       "xNF1NtjrOCxN5ZmPv9RQ+RI9shf86OuryvRJUcs97p2TmkALpE+KWmKTDe15hO6K1OMV8elLnx+6\n",
       "pjebOS6hLymilh9eaWenreQ0GWugv6F9/LIqlU0SaaukCfomhvTQx3EJfU7UknyHvdQGfSJq+dI6\n",
       "u9zQ3lhRZVBKKtFC0ndg1/RyKccl9A1/nqQvXrBX/4FaEH2JN2kGM1Or/0KO2ZtLqgyRTE2/yOK4\n",
       "mD5Tfscl3wZ9A5L9YmP7xIIqQyRjUQ99HFfHG1b8/ZoI3u9JXtFDH8fVQd9IVZVh0jk99HFcHfTN\n",
       "l1UZJp2p6KGP4eqg7/ugyjCpVNNDH8PVQJ/Fwj3rcgTVSGgK/BiuBvoMFq8YUfyU1NAUuTBcQt9x\n",
       "zqHY3WstbF4HTWVA7RNswE1E8WKtpenVeoZL6MNvJrh291prffhdgiYyoPYlFlqWIvkV/TZNQ+82\n",
       "QZ9Z9ezutUbfVmgqA2p/hg9e0cw+NY0dFJe+nFvw7O61Rt+L0FQGxN5iM11rJZJqZCf10EdxCX0T\n",
       "4Nnda833LTSXAbE3mcszI/pNwaym3jvr0LcePLt7LdGHfGdTGRD7Elt+LBWiqcYuTb/GJ7iEvq3e\n",
       "3b2W6EO+s6kMiP0adrEmomp0aor8CC6h78WKd3evFfq6dkBTGWB7g71JZDwXVT3GNPXeMU7fQs27\n",
       "u9cKfd1ZaCoDbH+QTXQPlqOqxk/LeujDuOQvwB4qeHf3vNOU4L8AM/8NjTNg9rvZ5e7oFo800Ydx\n",
       "rUH6F2Ce3T1PSg0O7vC5/SP2F2ANM6D2FhswmPw/8uogbL7wG34AAAAASUVORK5CYII=\n",
       "\" style=\"display:inline;vertical-align:middle;\" /></a><br>"
      ],
      "text/plain": [
       "<IPython.core.display.HTML object>"
      ]
     },
     "metadata": {},
     "output_type": "display_data"
    }
   ],
   "source": [
    "strong_summation_from_summands_bound = Forall(\n",
    "    (a, b, S), Implies(Forall(k, Less(ak, bk), domain=S),\n",
    "                       Less(Sum(l, al, domain=S),\n",
    "                            Sum(l, bl, domain=S))),\n",
    "                      condition=greater(Card(S), zero))"
   ]
  },
  {
   "cell_type": "code",
   "execution_count": 30,
   "metadata": {},
   "outputs": [],
   "source": [
    "# sum_integrate_ineq = (\n",
    "#     Forall(f,\n",
    "#     Forall((a,b),\n",
    "#         LessEq(\n",
    "#             Sum(x, Function(f,x), domain=Interval(a,b)),\n",
    "#             Add(fa, Integrate(x, Function(f, x), domain=IntervalCC(a,b)))),\n",
    "#     domain=Integer, condition=LessEq(a,b)),\n",
    "#     domain=MonDecFuncs))"
   ]
  },
  {
   "cell_type": "code",
   "execution_count": 31,
   "metadata": {},
   "outputs": [
    {
     "data": {
      "text/html": [
       "<strong id=\"integral_upper_bound_of_sum_lemma\"><a class=\"ProveItLink\" href=\"proofs/integral_upper_bound_of_sum_lemma/thm_proof.ipynb\">integral_upper_bound_of_sum_lemma</a> (conjecture without proof):<br></strong> <a class=\"ProveItLink\" href=\"../__pv_it/theorems/c48277be1924a1f3bb4a670a313fec913888fce40/theorem_expr.ipynb\"><img src=\"data:image/png;base64,iVBORw0KGgoAAAANSUhEUgAAA3EAAAA/BAMAAAC84Fz+AAAAMFBMVEX///8AAAAAAAAAAAAAAAAA\n",
       "AAAAAAAAAAAAAAAAAAAAAAAAAAAAAAAAAAAAAAAAAAAv3aB7AAAAD3RSTlMAq1RmmUTNIjK7EInv\n",
       "3XZ/CtNrAAAACXBIWXMAAA7EAAAOxAGVKw4bAAAPF0lEQVR42uVdC5AcRRnufd3szj5uU1JIAZUs\n",
       "EikoIVkeYoWC3MYgqJDcCp4FhuLOoFigmEWrLMHIrRRYgLHuMIV4iSSDFdB4IbsQIJJIOEEhPEKu\n",
       "KFBEQiZC8RC4XC4cd7mQrN3Tj+numZueWZKjyvmr7v7d3v2//+/+Zrr/fswdAA7pbDQGwVRLotE4\n",
       "cFgdLCQ6bvo0uNfwgaYW3/4E0a8WNYtmSaNRoL+dzHV0VKeeudGOSw4nfq6LvHiT6F/0qix6faCp\n",
       "5c3m4n1H0jSamzs6C/S3kznwCUhi+PDid1aInzFSEKmrTFaq0XzUa6y5eFN1UdvRZAr27xAwpz9B\n",
       "Xqwr0gZQ9ivrCko0tTB/QQN+XNR2NCFjLk67t/NoSc/Q0Qqb6DNKNLWcx79JXuU/4pMNUbNoQsZc\n",
       "D7nDkuO05H3jDZXRiyo0tdj+LDnGf8TZkqhZNCFj7ltEt+RpyXJwpspodkWBphbbnyVb/UccHRM1\n",
       "iyZczDmqjxpxnrLZexVoahHJTx7cZfg2vUrSNJpwMZelHPyLFQ2Dx5V8jyvQ1GL7A5EtIPdKruSf\n",
       "9KqoaTThYq6H1DM5wopeianb/2/eaD6GOdsfmN5ZTBVj/nObTEnUNJpwMTeDXve2l5uG1Gbt3mhq\n",
       "4fwlJ5aVM9V43n86PCxqGk2omNM/IC9qpUB2nUVPNLVw/iLwFm91b/BJWmSvqGk0oWIuRgestmog\n",
       "u0yXJ5paOH+tJhwgjTkBvD8paRJNqJhLUfDVAefvY55oauH8dUISkwvNAN7bK6Im0YSKuVaajOwL\n",
       "OJnY64mmln3KMdMruSyKmkQTKuY6ybJtYn8wO22PF5qPSnH+/hE46u68qEk0oWKuvUz6m9GAhs95\n",
       "ofnobUebSWvYKDsgahJNqJhbQlYuWias3w1OvAee1YYHmlqwP4+O13t0nhA1iSZUzNHd9lZrrz/a\n",
       "IMnhHy4/tjHgabi74IHmY3y1zxbExwNHnRsRNYkmTMxpNFHoxrnFDLvtzxnxThJKHmg+Rio7l8kG\n",
       "r1/0A1GTaMLEnFR1kG3YKxlf8bTs6fVA85Ed2sTXgh/tSe4TNYkmTMzlDtLuBo9qyYY96MTFnRzy\n",
       "TvNob4Ym2bhsCe22R9HZbstemqSltZoDoibRhIm5OO0S20l1dzfsZhYWuHLkCwnS5K3DHmiSzeUu\n",
       "WajdvI+5pUL/AaI7SRqSxtEw5qxr4XiJuYjVLRSnmDlnKIdoCYVmB6urpMB5LPGCTej35+jb18no\n",
       "NOGBJtnknM1F/aGEtOx0F61L7mB38H1uZN1piBpHw5j7EtLflZiLIz8tlSlmzhnKoZEWuoi1hNRI\n",
       "3y6PVemj0G6d3sVMDNESyQkVsUy2udo5f7BbsGE43d0LJHfovio4zanGnhlzP0f9bK/EXBJd/tdN\n",
       "dW/pDOXQSIbeOdtpA3XKB00zn12BOkJ228TwpZ/ipu7nfFVCk23OoFVhJcwfSH7k4m4+kNyhyDiG\n",
       "V5dFjaNhzCG60wV5nEPXzwNTzZwzlEMjbLRqsGu+IZ3rwg2WsQvw5xF7THt/k4wm22RIo0dNeaCC\n",
       "1OxzcTcgu4PyKPetGQVR42gYczF4hbQ4MpTT4U/XVDPnDOVwMQeWfCh+BTfYCXbBFSJz+qOmA022\n",
       "aSlOzlxkv9NdtEt2B+Xb/pkD23bseNbBXGbHjlfrU82cM5TDxty6hlC7U7cdYeUN8Gf9rj9uhq1y\n",
       "P84jyfRBX1B0oHE22jFvQbbS+cmZy4443cXrsjvtmLdHgD509C9xd9dOnFKNo7GZ+zIAKxzMxasg\n",
       "ZXzMBouSgZVUpKRmzhGKIJMAPM0lUnNcDwvUSFvrdkuyFTAiB9mVX8pNj8PM80yeOf3IghONs7ms\n",
       "gtYWY10Sc5y/1jGnO+seFdxZOHGwy1zgi7lrgYbqu2hobtVmDhZdi16vIaNoGg22S//NXPc/t3ke\n",
       "u2r7t22+/3lng32eoMbxW5J6WH7SfX19lVMenvcDkTkSCh7T6Wm1yNMPrixxAEROqpBvMAv0jAd8\n",
       "Y2Hz9QE1MqDoXJrQ/hF/YWqYxxdg81diExHYUifjapNZt8DcgGyjPwFQ60cHZOZsfz3CxBCbZguS\n",
       "O4TTBb4A2oxPCXNAqnE0NnMpI1223PXwM/EV4CGkll8C23BXXxk8Aq3ncD3MNHidsLrfDsDXnEsA\n",
       "eYKaqHPMWSX6HdYEKA021gXmcChE0Hlg5DpbSa83HMydZNITw4w59IxHnmDz9XFlLivsEkRxw/4d\n",
       "eiRHz3sE5jSut6Rotk18GGSh7yQqiMNhBnb6ecnfbiFpwKaZsuQO41TZiXYVc1GzBadIEZ65WThB\n",
       "QRnwuejafQjGO8cUmLPPMUHm4s61hjJFvZpjzipJWR1cLgfOMgXmcChEthLXMXDjj4DM3JwioCeG\n",
       "WRToGY88webr48qcJqz4pwcpC9DSiukygTk+Q6Fotk2mF9RgZRMe99yMktNdpiy5IzjgeZ/Mga65\n",
       "qCMustUzi7mWGPr6cc8WyNpA/SUQXWuC3NxN+l037rKYS06ADUMgt+XTkLlbEvpq8J659uVZeVSS\n",
       "O34DyDLUB7iGt0p+Cghz/y2Jq19WKP1zNwJ8HpgsS5RKHID16TsFwE4Mw9tsw7uILvSMR55g8/Vx\n",
       "y1BA7ilhXSRPez70hJUOYU8RMhS3WYFtUzNBG2JscPIMZWfR6S5bkNwRnMQY+JOvcQ48gO6JXGO5\n",
       "sG6ZPgG1CjpNutYqrL8DYikT3AHuA92FlgJiTh9pKcSLD8Ls6naUW3SDlKmNgMUAliwCN4AfM9SZ\n",
       "XMNbJZ/BL9PaqqLIHApF/2cSDefoPDB2Hfth1QawPl1mBU9ODOfBfZUexBx6xiNPsPn6uDLXWRVm\n",
       "xrixV8Halo8FaXRTy8yxmThFs21qBXAkTMfo0Vs35hou7mBziu4snOvviAyAuj/mllpXwO/b8zxz\n",
       "2l+t78KmuRgzV6vckjJhV54yuw3o02IOjmErxsD14K4HtyLmIqY2AVbpsKTniwa4lKFeynd2qARD\n",
       "5uIre6UVZxRKvJRE3Q46D4y/tz7NpTjWp9GVBvmGxdy5YJk1JsMMjWLz9XFjLikuG3fj4RXm5rNv\n",
       "uxBcRJJ9YSYOZ25VAc22SZnRF+Mky3dnLtlwcYdmEYI7Cyc6vmYgUfA1nwMRFJFhr9bjvYKjLCzI\n",
       "9pkwVyuAerxkpszYAIiUEEVWbzl29umndwxb49yJhLlhMB3hJFaPguMY6q0cc1bJ3aS3TF8kMYdC\n",
       "yZRzeWvUiueJ602498C7U9anCUQdOTGch0PNLjwwzoNvMDZfH5Chr7bb8zlxdX42Vr+CyfRQdD5q\n",
       "lJeczEloto0+/c/Xvg17v7LMHPMX/dDFXXJQcmfh6AvNmaf5m4njhivYK4bcLg8a9H+J77nkWMG6\n",
       "51pMyly6F2ZE2gTOUEhvCZlDJbfBy/9Whsr1lrgEL3HlcolFhnOXp1ZJnWXg88CW68SJRbCJAZBP\n",
       "k0dU6InhPLzJlyNq0TMeeYLN18de8d9puC1VQCGP9WRZn6YNSvsCXFY6MYnNz4DMHPOX3u/m7mUg\n",
       "uZtkq4FtcYy7MAev3kjFyVzNAGRGXgJXomeWF4OlBqIIMXeKkSrq5kqwHjPXaqyrQ+ZWAVgyE6RQ\n",
       "hkJQh7jODpdcUMWzgk0lJ3OZSs/FRr91HthynY6DxKB9z6FPUV2nGegb/eieeyo5epZet57xyBNs\n",
       "vj7OXR6QEmYY0fxieeGXrCNnxybb5XGxme9Ycbb9jbq5OwNI7iTZWRF1dsyNuZsu2AiczKHxQ/st\n",
       "+vzp6iz9L98D6aHz9Rmls78DZ+Lnwm598xBIbzH7n0Nzv9iGU1+4+4PYk2VYMvP1jSg9J6h3cszh\n",
       "ksQjcLb8jTfra85zMpeYP2sDzEHQeWDL9anT3v1N3r5p0afWZWqdGF6GNhi/ftq7xeTj1jMeeYLN\n",
       "18c+PMfO2y2wp+GwBbIr6GzrTlp6ndAz6jssqXJoThuXXQ7mL8Pv8zHTVEVyJ8l2SWeGXZiTV7/4\n",
       "jYv+vj7fJwz59Sw6y9Z7gXMJxHX1ixMcmODaFaBA53NRcXLHS45miLvJpR2zpwQxtJDxBm3CtUCk\n",
       "o3VgMjSnTcq5nUn9iacimKneC+QrRpCPJI2j8cXcr4/6OOuW59NLvhKcuYTLoqkbAPweIeubkzMX\n",
       "o6NMW90xJThZ+KZGhqgcadvuQQ80yeYt51epP9Dp/vDVDUB0JwEfkBYNuv2fQ9lifhzm0oa9fik2\n",
       "fKQPry1OzlwMeDF3K7OPMbKKhDk37D1iA2p2xrjG+yCXW4sn9vhuAWbe1szBEOpICn8qThAZgqoE\n",
       "6i1dZBIAnqY5rpeaTnPyWpc4JdCOa3gfYG0zPdDUUqNjYXszB0NiB0VNognVGeedNDfATpZcack1\n",
       "rzZUf+GsveqBphZ2PPbVZqKmx6LZ8WgcTbieCBGeQIvzzxV4d2NLvNB8tD2dVOxpJuqWYVGTaELF\n",
       "HB1mYkEfyzjgheajvyP+knubiZo+lcCeTjgQPua6yWxZC/goVHK/F5paqL9cU3+2racuahJNqJjL\n",
       "0Kt2WzC73LgnmlqIv0hTfy90d1XUJJpQMZemSxiPGYHsUgOeaGoh/jLwriGbiAHkd5Im0YSKOY3m\n",
       "1d3BJqi1vCeaj24a+0PHK8kmon/R94iaRhOuv2RzJU3XuoJlNlVPNB/pIfL3MFqep5uIAaZz46Km\n",
       "0YSLuTZyuceCpQrXeKP5aH3kry+JTjCTTcQAk4JBUdNowsVcjaRneqA/zqDt9Ubz0eMhf2t2Qabp\n",
       "JmKAhLgoahpNuJiL01TjQpSjvXEDXQz3ThvSwwo0tVzIXqFNxEAxPyZpGk24mNNpUlGDKcNbkd7F\n",
       "cbQuvVyRNtRMBZqPm51BoE3EZkIWQg8fc+A9OkODt0sxZdLMwzttWKBC8zEjHGi6mxgUNYsmZMxl\n",
       "6bX/GvxpZfeZZ9qgjSrR1PJa0+s+ZVGzaELGHPu3Aeg/DSwDFdxbeqcNkbwSTS2dzT74O03SLJqQ\n",
       "MQcnVWSc79IGHmaPBXmmDWcbSjQfyzddzcUbe0bUdjRhYy5FO7hVYOGiIcNH2qBt9YGmllXNxbu0\n",
       "Kmo7Gi/m/h//o5JODzfeV/U7Ey76QFOLb3+iXCFpGo3nf1S655P4j0p6x+H9j0rgJ/RW8lu3e/yg\n",
       "+ZjON9WWelnULJqbOzoM/Pt/XuZayAu4HvEAAAAASUVORK5CYII=\n",
       "\" style=\"display:inline;vertical-align:middle;\" /></a><br>"
      ],
      "text/plain": [
       "<IPython.core.display.HTML object>"
      ]
     },
     "metadata": {},
     "output_type": "display_data"
    }
   ],
   "source": [
    "integral_upper_bound_of_sum_lemma = (\n",
    "    Forall(S,\n",
    "    Forall(f,\n",
    "    Forall((a,b), LessEq(\n",
    "            Sum(x, Function(f,x), domain=Interval(a,b)),\n",
    "            Add(fa, Integrate(x, Function(f, x), domain=IntervalCC(a,b)))),\n",
    "        domain=Integer, conditions=[LessEq(a,b), SubsetEq(IntervalCC(a, b), S)]),\n",
    "        domain=MonDecFuncs(S),\n",
    "        condition=SubsetEq(S, Real))))"
   ]
  },
  {
   "cell_type": "code",
   "execution_count": 32,
   "metadata": {},
   "outputs": [
    {
     "data": {
      "text/html": [
       "<strong id=\"integral_upper_bound_of_sum\"><a class=\"ProveItLink\" href=\"proofs/integral_upper_bound_of_sum/thm_proof.ipynb\">integral_upper_bound_of_sum</a> (conjecture without proof):<br></strong> <a class=\"ProveItLink\" href=\"../__pv_it/theorems/e67f602fd292f9fdb68a8a90fe6cc4aafa0075a70/theorem_expr.ipynb\"><img src=\"data:image/png;base64,iVBORw0KGgoAAAANSUhEUgAAAy8AAAA/BAMAAAAbPeoFAAAAMFBMVEX///8AAAAAAAAAAAAAAAAA\n",
       "AAAAAAAAAAAAAAAAAAAAAAAAAAAAAAAAAAAAAAAAAAAv3aB7AAAAD3RSTlMAq1RmmUTNIjK7EInv\n",
       "3XZ/CtNrAAAACXBIWXMAAA7EAAAOxAGVKw4bAAAN0UlEQVR42uVdC2wcxRn+7/aee/b5oiIBhZKj\n",
       "pBRUkhzQUgVF8VFSQALiFOoKlKp2gwqFqs1BH2pLiq+otDzSnmlEUyclWSpABCexIUBK0iYu5REC\n",
       "IS4PlUeD14VCaajj2Bg7Dvg6szO7O//u3N46Fx0SO5Lv883szP43387/mjkbwFXayuV+qHeJlssf\n",
       "1uteixxYrajXeDRG9FpEuVfDuKxczpqvbmJaW4v1J2as9bI63SrdjjFxdbUe73i0vVWbLJ0Yb2pt\n",
       "y5qvbmLgIyjR4brdqq2AEY6r1iPZW1nu8dqEWeNAaMjar8EiRv0bRoCdVbs8VrFpQ642aTZkMQaY\n",
       "mEg7RkhMDWpV+pxW8YLzxDfVlaKrhHdhDDAxpSJGSL+azlfp01jpgsQEenvc9MV50YHBJeabDoRk\n",
       "Tmmv9lxXsiSxDHq7c/rizC1gDCwx5hzbc91QjGSq9bq6yrT6VopuajsxBpaYxk6MAE3yacAEVAgg\n",
       "XhH1mO5DKboflAmMgSWmlMVIKNLmVe3VIJ/wxIj9e+jfoz6Uors8jjGwxMx0IJndRdWD94hcvJBQ\n",
       "XbrvCT9K0VVaMAaVGPU9jH7FG5VW9wgL6Vh/StE93TmEQSVGmcDotzwprW0WTM+UP6Xo1pLtCINK\n",
       "THIYo2+FU5DVrhM+wIQ/pejWkuMIg0pMUydG3+GGNPVysKoV8uGWjSIMKjFtvRj9lg6ZVY8eEtzw\n",
       "9sOUKH4AYVCJaVmM0bcl6JNpoTG5HzC98izCoBKzTBNxWdkuU962aVIWtU9W03V+yjpNxKAS8yHC\n",
       "uWXmVqk/HNzzgWe/9IjMYAk7vS3FwxVpf1bEgBITP4gwZG+iKwOeIUhYFvd0CB7EwGHLNDcvYkCJ\n",
       "MefXxIEDtsHw9NMSBz2mlK65wz+xUOoUMaDEpKcwlsq2aTgfry2OBY+J32+HLeEDHnct4CGd6YN+\n",
       "EQNKTGQEY7ps77Qo6Mp/cfwGx7LMxbOnL+XhO6T5ZVF5+Nk0LKJFjOGfn+QgJmQ8BLk6E+MW5cgH\n",
       "/hMYYZ1rJUS2Ue8obMY5aT4LA5rEn7INfmxMdrsLt9LXz5lv37Aafvm4EAFNimgR82WKVzmIiVAv\n",
       "P1aoMzFuUY54iY1jhA1lZ/zxwAo6Nfda7/mhsmXCbISvctU1ydzp1DH0FIdqhZ4xm9yRSjJZxPyc\n",
       "Kr9OBzEJ+vD+pN6qzC3KES8NkxghWnb6wY9dTqfvXOv95/nqsCNS5UU+wXvsiS7JAtCGz6ymS9DS\n",
       "PIr1EEQFHpNjIlrEUBZTWaeNoY/Jg/Umxi3KES9Yn9Oy4wOso/iU2fPcwNpnWoKlX9PcdqdZ9kC1\n",
       "sZDRrthlrSUhAgqNiGgRoxA+Yy7jfyb5aa83MW5R6kBMrIw/J5uysF0Zy2Fiul+3mgRiZspyb38x\n",
       "Xk+2K66wBs1XJQZ27937jIuYhr17/9lbb2LcotSBGHXPIfEC5fi/0zmLkA+vDn3yNqI1Uix92cIV\n",
       "0t0vgIwYWXh6+u6jDA+A/GwavG8bueIB1nDt9lLWrCL34ullhjYxFwCsdhETKUJSqzWY46aRO4n5\n",
       "6sS4REGlwgBPS30U5XZ5zDCMUUjLmNTp5jKJwKB+MRmpXSTmrqX2papATFkmxZS1TPLpEyJkKZ7F\n",
       "PutTNC/GqyoTcy3E6TOxZGhB0SaGVF1rPB/cCKaonVv+mnXL7me3nWOtqO7d2x54zi3WF/ioEfaW\n",
       "K2HjPqmurq7C7EfO+R4mhovCQm3zxFDo6YfW5IUBeDm1wK9A+Xj1LLMv9fgf7epaRYbe/sZ/LGL6\n",
       "MNL5KO9CaRZjFhrJxHwRmrVPkOeLXbqDPV8hkRg7vZaQhTlx5pM/T8gtKJMhwuxpzBPMwXlWlR0C\n",
       "MbSJSWop4nCEdSiJAeZqeJjCysvITQe7FsOjRK55gnKbQei3lhR5Or/iEkvN8FGjvQIxRo16h2FE\n",
       "U7ClFxHDROGFnmqkt24spDZpLmJO1c1zj4iY3/zP7EuIWc8GmwOJYQ9iYADFhnOZxSddi+z8K+/M\n",
       "iYEfvCAjJv2+TGWwnk+QMfiBXDbFLQCvWVWViQnrMeY6hERi5jDbT12UhfQZeph8knk6IsY+EXI7\n",
       "XfeuQG2xOeo1AjFGTdJY9+k0nK0jYpgovOzkt1bgxu+Dk5h5OTDPPeIdrNlmX3LfVWA6WBkvYjr6\n",
       "3Qa7weDUUANRtGJE4y8QE5LlOLnr9YQxoNH960z5gjpmVVUmBtoXUNWas1I5BjExhXY78ZksD317\n",
       "X4Lweh3SC7aqd944aBCTmITNQ5DefjQh5uaoug7e1de/PCdDa9InbYZGa9QHhXk1aq4HTsx/8zgl\n",
       "Y4jSvWALsFONPOrO54UBjNZ3smCde8yAunlfARFDW0IQ58tx1EpWyYw/wLvIPDDbRFUZ/YrF/eRp\n",
       "6UfGX+4uN8pO0SQzpiqj3/lQNS6dOgXKsFVV2cbAg9cYSaOVKFeWOpl2UshkrDcqe98BJanDHbAR\n",
       "OrKxLCVGHYllI7mHiNdxOzXbHZDU4yOwFEjNErgBfmSNOkuYV6Pm0+zXVHxtDhNDRVH/kaAhMD3V\n",
       "yG6tXFe0BzBajdjcPAyegY2FEiaGtoQgzB2l/QdzHl6ZcYpCKMxYko+q3hHqg142B4gYO8C0iWmS\n",
       "HbrhS2ItVarHQ4oudOMjjECo/bNmlQcxyw1i/9iSEYmJ/9W4lnzySxkxPYWbkzrRt0m9QyNiG8QQ\n",
       "+7F6HH4Kdz60kxIT0uOTsFYlNaUvaXC5NerloiaiNWzIdGRNpyOJSUWJ5BNUedBTjey6TSnBezBa\n",
       "w2s0sA6DZ2AhrMCqjLaEIMqnUp11wIuYEnJ04ywMJz5yeOLuvmiWec4owCSL6NtOYkqyHGwHs3HE\n",
       "R55760VwCfecKVOz83mzqnIcAyH6QGp2fpdll49hn5DYeOJBZaE3kteTutIHoTxlwFBl4/PPPLN1\n",
       "2Fj+p3BihuEEOk503RicaI16i0CMUXMXV2WpSxzEUFEaFqfpI0JPNfJbb6UahQ/AWqOUGX7uMUOU\n",
       "+CAkyKXUBTOIoS0hw/ugvIj58oZhjKT5OZnBTvSDukifdQbVUotdxJhlj+0yyKJx5kfAr4lzOxQ+\n",
       "l/Z/ibnc+351QtGs8iDGmJesnaUS0v4NZKJuYysmMZ41VkxMN4lJdRInIz5p6mVDlRFiaM2txGO/\n",
       "xRpVUGWshuVd0unoEs2d9u8pJM/W2KlG49bRU3Kw1RqAtyaOKpjnHjNkia68H60Y2hIybdslYtYP\n",
       "Z3KdMTjYHs3LVs3PXJlk25+zxN8hi8bP4feyesb7q2e8HcQQeUIFNzE9GvBAMw9X0q8iLoXlGmWA\n",
       "EjNbS+ZUfQ1sYsQ0aRt6CTFrgdTMgiQ1/nzUIUETsZoLi8xd3pp3E9NQKF2qdRunGo1bpyIQ7bdX\n",
       "DG2ln3GGRq/opivmqcTY2QIxrC8hJvInPj1HV077QxeapBNjWZS6tNOZAwWvtP8696GbcGapM3UZ\n",
       "kW6kNI6L6CTmFxdukWyUUd0d/z1tf7o4R/3zdyA1dL46Mz//WyTAXEgekm1DkNqudz9LYx5l8+nP\n",
       "3/We8uRiUjPrjS3UJ+ajrhKIYTVREvoVvvZW793nuYmJnjtnMzHv9FSjcevTZ+z7XcZecrTVePqM\n",
       "c48r6IbSV8/YZ37i65dt532p87+EarcLFm6z59Q8cGQdPIq8as8k+XnFTPcnzT6mIuFqa+NeWvh6\n",
       "ss9A7XGnSRpXm+ptlVklz9dj9epvB9N4brq7uqZ5CItNsLm61U5wB+7SlIxQmGDo1tIBspCR1IEd\n",
       "leGSHsUI823SqEFZcD4W2mZIdohmv/k8yDaelTfNodeDkyGcv+sT0Rcxvz2mllyZ+RkjhekTE5Uk\n",
       "6mQDkOsykrqKxCiHMAq+chjvqNzA8W2+cGR7/s3msxf12vGHOI8k0/KdRzPA7fC/579dr4WYlGbn\n",
       "zPC8hqgLVfAiRgEvYm6x+ivgJob1JcQcyxw1dJsDGDusCVBbPLOs0qlvM++tjNYwT+YoDOtxGEND\n",
       "UJiWKpOUCgN0ybPLa6UXq+8jtH3l62aWi143V2SHLXpMKxKp5c8wNOsiBvUk5gDC2PtXGmXvnmp/\n",
       "yiYiC+0bTaEb+2oQyTzDyTCwh8oLIrYIZ5e9tVFMJp+1UJoyNYi0DGFQiWnOYfRbmmSxoWVaSjn3\n",
       "ppDvgo9TB5WYjjxGv6UkC+3jZrJ/P7JzfFPIZ0kcQhhUYhr6Mfot+6WuwW6On8LVs6czcnoCYVCJ\n",
       "SU1i9Fv+IK3dwT3OZ8C9KeS3JPsQBpWY+BRGn0WVR5AdzNOlZ9Fcm0J+S08GYWD/AMOVDvRXKnz7\n",
       "PEYDmVR7iMypa1PItztSRBhYYpoLGP2VmNwkKdRfTnau0MC9KeS3fBdjYInp6cXo05mTe9cq9aTU\n",
       "RUeTF9emkF/dOooxsMRE+gRMv3mDlU4WjLfEyleov8j6zbEp5N8bGcYYWGLUKQHfDnUujVD9sxIZ\n",
       "74qd3OtPN39zbAr5X8E6xuD+hb93BcwldTM+EY23e5lVinrSfbWKc7EDg0tMoy5gk7VKqPGubGIq\n",
       "7hS+Xqv7PoYxwMSYfynZwBVQYKoMGW9XmVGxpa3Gr92FMhgDTAw8YmG87xHrOwSi8XZ5xbsq2+72\n",
       "2oSZr2EMMjFJ3cJFS4Y0t/F2leXFyqOtrU2T7cToTczH/J8uqC9jrF6u8GjbWKxFFv51NQs9/+nC\n",
       "PR/FP11QW+v2Txfgxw6sKpvXIaF4TXN1jwNvam3V2Ov/AQcWt5lBgT6GAAAAAElFTkSuQmCC\n",
       "\" style=\"display:inline;vertical-align:middle;\" /></a><br>"
      ],
      "text/plain": [
       "<IPython.core.display.HTML object>"
      ]
     },
     "metadata": {},
     "output_type": "display_data"
    }
   ],
   "source": [
    "integral_upper_bound_of_sum = (\n",
    "    Forall(S,\n",
    "    Forall(f,\n",
    "    Forall((a,b), LessEq(\n",
    "            Sum(x, Function(f,x), domain=Interval(a, b)),\n",
    "            Integrate(x, Function(f, x), domain=IntervalCC(subtract(a, one),b))),\n",
    "        domain=Integer, conditions=[LessEq(a,b), \n",
    "                                    SubsetEq(IntervalCC(subtract(a, one), b), S)]),\n",
    "        domain=MonDecFuncs(S),\n",
    "        condition=SubsetEq(S, Real))))"
   ]
  },
  {
   "cell_type": "code",
   "execution_count": 33,
   "metadata": {},
   "outputs": [
    {
     "name": "stdout",
     "output_type": "stream",
     "text": [
      "These theorems may now be imported from the theory package: proveit.numbers.summation\n"
     ]
    }
   ],
   "source": [
    "%end theorems"
   ]
  },
  {
   "cell_type": "code",
   "execution_count": null,
   "metadata": {},
   "outputs": [],
   "source": []
  }
 ],
 "metadata": {
  "kernelspec": {
   "display_name": "Python 3",
   "language": "python",
   "name": "python3"
  }
 },
 "nbformat": 4,
 "nbformat_minor": 0
}