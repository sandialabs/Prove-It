{
 "cells": [
  {
   "cell_type": "markdown",
   "metadata": {},
   "source": [
    "Proof of <a class=\"ProveItLink\" href=\"../../../../../_theory_nbs_/theory.ipynb\">proveit</a>.<a class=\"ProveItLink\" href=\"../../../../_theory_nbs_/theory.ipynb\">numbers</a>.<a class=\"ProveItLink\" href=\"../../theory.ipynb\">summation</a>.<a class=\"ProveItLink\" href=\"../../theorems.ipynb#sum_zero_and_one\">sum_zero_and_one</a> theorem\n",
    "========"
   ]
  },
  {
   "cell_type": "code",
   "execution_count": 1,
   "metadata": {},
   "outputs": [],
   "source": [
    "import proveit\n",
    "theory = proveit.Theory() # the theorem's theory"
   ]
  },
  {
   "cell_type": "code",
   "execution_count": 2,
   "metadata": {},
   "outputs": [
    {
     "data": {
      "text/html": [
       "With these <a href=\"allowed_presumptions.txt\">allowed</a>/<a href=\"disallowed_presumptions.txt\">disallowed</a> theorem/theory presumptions (e.g., to avoid circular dependencies), we begin our proof of<br><strong id=\"sum_zero_and_one\">sum_zero_and_one:</strong> <a class=\"ProveItLink\" href=\"../../../__pv_it/theorems/30002a1236e41e500c6d9479792da7dff2e2acf00/expr.ipynb\"><img src=\"data:image/png;base64,iVBORw0KGgoAAAANSUhEUgAAAUcAAAA/BAMAAACBYRdAAAAAMFBMVEX///8AAAAAAAAAAAAAAAAA\n",
       "AAAAAAAAAAAAAAAAAAAAAAAAAAAAAAAAAAAAAAAAAAAv3aB7AAAAD3RSTlMAq1RmmUTNIjK7EInv\n",
       "3XZ/CtNrAAAACXBIWXMAAA7EAAAOxAGVKw4bAAAGoUlEQVRo3rVZXYxTRRQ+tN3e9nbbrcEYHzZS\n",
       "YuTFNbsmYDARXAOiBAnrgw8mhm3EaCQxWx+NYKvP4pb4YCAGamIgJOgCPikBNhiFQICCMYphpSiR\n",
       "GCOs/C0uP9c7c+fnnrl3pvfBOQ/9pu3Xr19nzpx75hYgPjIdjO4TYA53Pfz/0UX0DwU/+rub4J8W\n",
       "TJpFe2YwAjzWTS+/x4JJo+juIYwJTLqHbay3SXSFgglMwkDLgkuDaO4WxkQmi8MWTBpEs2WMiUym\n",
       "ZiyYNIgO1jAmMglv2tjfetGzCiYzOdiwYFIrmruK0Y93xw521eu1kZRa0TnTGBNGZtqCSa3oxDDG\n",
       "hNFzzYJJrejTDYxJ43sbO0cnul3BpLGmZsGkTvRfBRPvxCEb2ztetOc2xsRRL1swqRHN3Ahj1gtF\n",
       "x1wuJm3UoHjR7GwYUx67gO9c2++ZXeRnbXRr8aJ9bYTz7op3llw16pWuWjCpEa03ERY9mRUrzd3A\n",
       "dRstRrzo4DDCnCfraQbXA/bM4ZfTuHLgRMeGSlWTUDOIAlzpKOhJVVQPShVWBvhp7W6M2m/R8Vr9\n",
       "2lYkY60UpUv5MC6fFYx5r62KrfqGPD7Kn/7O0ItZLXpKyexvsfH+izUoxZS+gEEUc78AZXCWL/os\n",
       "wTfwBaeB0T2lpkXhQXL2cKuiHrAm/3y02d9BH/d+WAnG2Yr7E0DMSZUyiOJnK8h2Xg+C5Yu+T1Kl\n",
       "ifhjNYww6lWU2vXIVvLjxYSkh5VPyFhGHw+/3ArGSwC+BljILxtySimDKpaIyYUgWL4omYQC9nCq\n",
       "hREK3jH8zaP0nV75Ant/+0jEJK2sPbN8vNnfjy3oZcopcXEIGFSRmiQMxvJF0775LNb1Ihk2dhMz\n",
       "DtDHBfKFdQHMq0RSkqZEoc3HfuKMVyA7pJoMGAuEScJgLCJ6YmrqeDeTuz10SH/8xP109/gTcGHn\n",
       "wW0ko3QmM+SD6f7Tw8HYJSaHoFBWTDLGKmGSMBiLiD4PsLWbSXFpZHGPT18h/xBM+InI7hStCX77\n",
       "6ikSpwH4bPR12Njxe5bxDqSr6kwGjHXCJGEwFhF9Gxzi2F3Ok9j1MFLinfC+dQLLZwBeKjah7heB\n",
       "AWQyfG6mc1tvsDE1uQdSk6rJgHFGmCQMxiKi+VaBpHt+EW/D3TsYg0tjuP9JBeeO7wBaEyNkI8B4\n",
       "8MahSJfUS7fSIB+7vsnRDuSIQGZq6pyfa8GaDnJFZpIwctNCNNWh+6ZPTFWcSQddS4Isp5K++AM+\n",
       "vGI2eUCM/ZwcrEBPZCYPKCYJg7GoaHUpoffvM5ksHUHdU5kvN3F4zRWncmYylJPBcm8WS7/FPzm1\n",
       "INVWTW4GZbnbwFlUdB+t7E+aNg6MoiNZb6BNtvVxSM0WxKejOZmn1JNi/BS9CZZuqiZPCkW2cZqC\n",
       "RUU30HlZbjKZwz1dPajZe+kWKlUXs9oRZ5KWEeeGGBcr7lFWmMImGYNWssIMK12MRUXn0Fn62Fgn\n",
       "ca4FWQ6b/LRpgzvXX8UfdXUy15YbjYzdVRf8ryuOKCYZYxOx039zbsBgrJDo0dBlUUGA1/A3P8O2\n",
       "vMgBp60zCT+TaSnLMY2NoJhkDKm4UbKkqBs6SZxXe5o8akBS5VdxWyFbje3Ruwl+lzA/WxHjcNch\n",
       "GwzOkIrLJEuK5ib1rRqslpXcFytu5S3aJ/zVd/jPi3ZB+Rqc3SHHwcQ31bt4OxRFwuAsKZoO3fZZ\n",
       "M4IxLetP2jeZvsg/tQsU7VPRPtFtwtLn5BiZFSEYu0I/h7OEaH5+aKGuDGEM1Z8BfHxhKVXiX3on\n",
       "5kTwXnR8SXt84IqXQiwhWrgcvl+1B6Ej68/n5uOgc9fCaVEjOlpGKOqPM19phiL3Z/6xce8vXnSi\n",
       "inDsdRpvnfO86IkMRfqeBZMa0eJ0GDPhe0Hm22aZWzZu9caLZmYwJo6sjfvRGtH0NYyJo69twaRG\n",
       "1LmOMXGM2/gPVCd6QsGkcaVhwaRO9FALY9L41IJHrWi9g1HE/r9Mcq6NMqkVzVYxih3V6WmaKpqN\n",
       "CqQVTc9gFMeGBpiqUtbG5taKurdDuHDxZd4h1Vtg+ie/buMfEr3oCxLdRd/CEVi5xY+h8Rb8YNA7\n",
       "ZGPf6EUnOgKdL6vAu3bf5ElDitu4chtES5MS53T4UZ4st+H/hYyNlDSJ/iqxt5EZbgTLbd449REb\n",
       "KWkQHa0JrEPxA1b0S50ewx9z99lISZNooSrwRSh9JYr5Rf01KH3MRpU0im5TsHtssHHhNot+0cDY\n",
       "PdbZWG2zqNPA2L1W2Ng2TPQ/AiAyU57QQl4AAAAASUVORK5CYII=\n",
       "\" style=\"display:inline;vertical-align:middle;\" /></a><br>(see <a class=\"ProveItLink\" href=\"../../../__pv_it/theorems/ef95be14b4ccbabb1eb107c14f223ef4e16dcb720/dependencies.ipynb\">dependencies</a>)<br>"
      ],
      "text/plain": [
       "<IPython.core.display.HTML object>"
      ]
     },
     "metadata": {},
     "output_type": "display_data"
    }
   ],
   "source": [
    "%proving sum_zero_and_one"
   ]
  },
  {
   "cell_type": "code",
   "execution_count": null,
   "metadata": {},
   "outputs": [],
   "source": []
  }
 ],
 "metadata": {
  "kernelspec": {
   "display_name": "Python 3",
   "language": "python",
   "name": "python3"
  }
 },
 "nbformat": 4,
 "nbformat_minor": 0
}