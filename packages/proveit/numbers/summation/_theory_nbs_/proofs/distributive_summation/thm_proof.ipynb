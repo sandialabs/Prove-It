{
 "cells": [
  {
   "cell_type": "markdown",
   "metadata": {},
   "source": [
    "Proof of <a class=\"ProveItLink\" href=\"../../../../../_theory_nbs_/theory.ipynb\">proveit</a>.<a class=\"ProveItLink\" href=\"../../../../_theory_nbs_/theory.ipynb\">numbers</a>.<a class=\"ProveItLink\" href=\"../../theory.ipynb\">summation</a>.<a class=\"ProveItLink\" href=\"../../theorems.ipynb#distributive_summation\">distributive_summation</a> theorem\n",
    "========"
   ]
  },
  {
   "cell_type": "code",
   "execution_count": 1,
   "metadata": {},
   "outputs": [],
   "source": [
    "import proveit\n",
    "theory = proveit.Theory() # the theorem's theory"
   ]
  },
  {
   "cell_type": "code",
   "execution_count": 2,
   "metadata": {},
   "outputs": [
    {
     "data": {
      "text/html": [
       "With these <a href=\"allowed_presumptions.txt\">allowed</a>/<a href=\"disallowed_presumptions.txt\">disallowed</a> theorem/theory presumptions (e.g., to avoid circular dependencies), we begin our proof of<br><strong id=\"distributive_summation\">distributive_summation:</strong> <a class=\"ProveItLink\" href=\"../../../__pv_it/theorems/14956d74a2d123bd67c23ab26f109dd8d973a8c00/expr.ipynb\"><img src=\"data:image/png;base64,iVBORw0KGgoAAAANSUhEUgAAAk0AAABMBAMAAACCF57nAAAAMFBMVEX///8AAAAAAAAAAAAAAAAA\n",
       "AAAAAAAAAAAAAAAAAAAAAAAAAAAAAAAAAAAAAAAAAAAv3aB7AAAAD3RSTlMAq1RmmUTNIjK7EInv\n",
       "3XZ/CtNrAAAACXBIWXMAAA7EAAAOxAGVKw4bAAALXklEQVR42sVcbWwcRxme+77bO3+gIGhQFbsC\n",
       "Kj4KNrhAU6nYFYEmQqkt8aNIQG0aGgRSZTf5VT7ioxK/mmKLKpQLqDmpFahtlDoRVCISygGqgEBr\n",
       "8yVVtMbnYilClWLHsZvEDll2dnbendmZnZ3Zg+GV9u71ee55dp+ZeeedDxsh0cqu6/YilSWXCK04\n",
       "Rr0HUVor/V2TgrMHjaBFp8t7yvBNosL20NCYWqfEEqHdTZ18b2qd0Gk9Cs40+U7HOrmhob7wTaLC\n",
       "lSTs5BJg2fPUu62ZXqfaoBYFZ5p8AC06CA1zb/9LnU5SUuc36WVChSs6FJzp8gG06NjU6R3UyUx0\n",
       "oBPaqUPBmTbfznjHnk7lTerNjHWi03S/BgVn2nwALTr2dCpCrR7sRCZUWdCg4OygMbTo2NNpgNZq\n",
       "Fmr9rnYKnco3kin44A58uX9oQouOPZ0eglqHOqql6oA/TqbgW1nYAF/ShRYdWzqFNTMDrWg6Vccb\n",
       "6DdraSFfaU0XWnRs6ZTZol4fZDO7S2+m0KlnIpGCs5AvN3tkTg9adGzp9MIszWauwWe7Dp2cMtcp\n",
       "czWJgs+eQr7MhQ/8Vg9adGzpNEwbcG4dPnulv5wm09xOouCM4au9gep60KJjS6cTtPVXoHeUNvam\n",
       "ClDXkyj4wT7sjdN76rrQgmNJJ+ff0DsWwnDxpVIanU7UEyj43hgOd7sLC1Oa0IJjSaccdJZhCKWZ\n",
       "9uPVNDqtziVQ8L0xLL2rvDCnCS04lnTKQLLXB0lTZSpzRxqdZiYSKPjhLkzSnkQ76prQgmNJpxqk\n",
       "LvOoU+vZSqDgbD4VtOBY0gmiREwUMbHiZlIgSo5aSdCCY0mnAZrbZK91rFP+hpqCn91dSwUtOJZ0\n",
       "GqVxMb/dsU65a2oK/sm3U0ELjiWdJmkOWFzvWKfydTUF35PWU0ELjiWd5ulAU7vasU6Oq6bgo/vV\n",
       "VNCCY0knt8mNH0WXMeNVKLeupJCMYNp8AB117OhUgiYw7Y/eWTeo5p/ef7PbMtVpqV9JwZkhH0BH\n",
       "HTs6ZWF0HiCjd184XN9lHLEm20oKfhQ04wPoqGNHp+63YGZA8tsuZhd5n6lOfXNKCn4mYsYH0FHH\n",
       "jk5VGMrPkSyn7F4Oh25/cho/JZ6iL3QSO9qrpOAslk+E56Cjjh2dMpegwgL+VTe8W3938o3YtugH\n",
       "iPuDy3/2CSUF30Di+ER4DjrqhDr5gO8WVMj4nX9QoZO6BJnybsDKxUjwictPM7KSvvTZs/j1g961\n",
       "gro9/O6A49yCkoJfKYnhk8Bz0FEn1OnT+P2rggp5PN8uTil0Upcg2R48xGRw3848/1w/kfSkm36N\n",
       "C+L6fA2hryNy4bbRUlLwgTmGTwbPQkedUKfv4CAxK6hQxu3sEVW/U5cgYRRmD0u03Yy73Oj+KUmK\n",
       "+N7jOJoENX17cOGbXVNS8AN9DJ8MnoWOOqFORS9Pq/aL0QcrfUYZn5QlyD3BQ8zT+6663OESSRMZ\n",
       "9xPHGoVokitOp5pcpzg+GbyeTjlP2aJEhSHvmlDqpCxB7gKm+POQ+0yyA3lW8v1f+q+30n41SC6c\n",
       "E60pKXid5HxSeBY66jDj3cuLi3+QqFBbXHx9TqmTsgR5CBiV5yHen3SZ7+Q937n4rseYZvmRl9/u\n",
       "R1vvFyvel6q95IrViVBEQOL4pPCaOu1F6LhEhXwdVZpKnWiJevw6Iejkwn3DXIJWZx4tt/czXyIN\n",
       "5ID3DAWvV+YmyIV7TPAM+xex/YmjiILE8EnhGWjBYXR6GJWwqM6eQU4F78OHOYJ/3X2hLS3xKmLO\n",
       "VmR+/7MfjYBOMFdgouno9VD+Lu/jT6Dh5g5mwkYe688IPZr3HiLbIpdnM7KF34AiAhLHJ4VnoaMO\n",
       "o1OlWcUjfOVj0C6cO/HrcfRz+sH3dh5Dz74TvX8utoR/tqK83BjrmqqegvvK3Um9IUYbZuaOv1ZH\n",
       "nyGYJJBkSUW+hFCz5hUsr5HLs6dluVpAEQGJ45PCs9BR5zCCt2zbD+M9zUi2/WEI0nm8MXm2jXJz\n",
       "cSXI2Yo9ntI59OjhsLJhSdsNtz9KzMyVHF15hfzwVzJALdAHQQPeLeHOUVC1J0rBgcTxSeE12xOa\n",
       "+CRW6+YzEZ2KOU/v7pUj96B/4oq6YyycDrElnBXcxPHZiiC5HRlByn7XzWz2436Hj0M+xyTYvbRj\n",
       "oC873n0tkIt5Bj4+BRQ8SByfFF5XpzN+Uro7Onur3urpfSEz+4CDs9DsoSkkLZH3x3Z8tuJZ0hEO\n",
       "1dU6jTNxv9JGzrFMCzFDUo30kqe8Gtis4t1jcuFbX4uNT1GQOD4pPAsddVidvuVLvCeqQulXeO5Y\n",
       "adcLuJ3knm4iaYnnqrj94LMVn/N/daqqzgvK7DqQNyxnrz7TKjB57jTpMadx7DhMMof8HD8WiXlB\n",
       "FCSOTwqvOd6hjC/4E8JqwE1+fU2h3Ncaje+Xv1tH8hJ4bPfPVny80Wj0o7mzYQeQ5k9sVC0vIOfe\n",
       "9ns+yq6wkbfHvWuH96WuMXKpdYqCxPFJ4XV1IvY7+arJUTRV9jX34jhqykp4SpKzFY/5ceJ9g+gs\n",
       "hB/QaQnu+yvcbb8qPHjwtwVdQbV8O7jidAop+PldDJ8M3kgnZ0umU6n1Ihohaeg370HVtlzJ58nZ\n",
       "Cj/prOZRAZYyijeEhdUKP+W+PbqM2/tAMN6PhBPlYLI8IF0vuKFeyOX5pPAsdNQRdCq3pO3p3i9c\n",
       "bKJHsPjOi4290ha3jI72+2crSj/E84K3vfkDWHeswCT1BA2y+8Mwh+NJJbIu03WcphpPkoqaDVcz\n",
       "hqXrT/J5cAyfDJ6DjjqCTrmR+NVK5xeNY/HrmQfIE3v2fKPBH+XNwOJPXwCfCwfpHP6WE9n1zq1Q\n",
       "4cjoiXWkWq5K1zPl608xfDJ4DjrqRHWq3FJPt+5b/HwLFeLmgXlYlKXrzswgfZv/eiSOouT3nAvB\n",
       "xax5x1FwFssnwnPQUSeqU/ViyvXx/ErTy8F19xFK4SD9zIbpfsvoiPE+gi4fQEcdO/sIOVj7GZ7g\n",
       "B+nSLa7xTvqJtpKCM0M+gI46dnQqwNGJcTJMTB707aHXXdddMNVJeuKiID+dYcgH0FHn/7Nvnmf3\n",
       "+wdNdZKeuFDum2vzAXTUsXUOgw4vPVdQxyY/ceFKd3wM+QA66ljSaYnmCV2bHctUuq6m4POwzVTQ\n",
       "gmNJpz7a2DOXO9ap8Jaagk+rLqeCFhxLOq3SYbZ7o2OdurfVFHzhjVTQgmNJp/EJdWMwscy6mkKn\n",
       "8SVBC46tc9F0+k3P8Tlh1K0b6tS1pabgp1pGfAAtOJZ06oJyS+SGwyUHyZJKguatBAo+vJvwAbTg\n",
       "WNKpCuH03GCn/W6gN4GCn7gMpoEWHEs6FWCWOt7bqU59/QkUfNjqTQMtOLb+/g7+zIT8GUphGQLI\n",
       "Sr9pOm70uRHffKxjS6dRGj3z/jT0VE8z3/DsiWCbxsDKl5Io+PUWAz6AFh1bOo3TdUXyl6Tf+BD9\n",
       "BdmmMclx1pMo+O5owAfQomNLpxoMUn/0X5+C3xQNA3uxlUjBmQEfQIuOLZ26YZ61iudhzlY96Af+\n",
       "No2JzcwlUvB5uj4fQIuOtf+HAVGlBw9A2Qlo/UdNh7tmIgW/YqDPB9CiY02nc5SxijNcZxfU6rKZ\n",
       "TM6lZAo+r9LmA2jRsafTC7QFO5Fp7AHDMH4lmYJ/em0+gBYdezp1w6xsla12vE1jZLURDQo+QOny\n",
       "AbToWPx/Yq/BRIytdrxNY2SrTQ0KfuKnywfQomNRpwEaIbKdLP06l3UoONPlA2jRsalTHnYn93Wg\n",
       "U2ZWi4KzfYbQomNTJ/QX6AgdLBl8salFwXe8QTNo0UnS6b/6/1iPUtby+fQ6/U2Pgr/J82bQgpP0\n",
       "/1idoaT/tppcgplpQfS4L314GtOk4Ow+I2jRyXlPSd/+Aw7CGci1AtjKAAAAAElFTkSuQmCC\n",
       "\" style=\"display:inline;vertical-align:middle;\" /></a><br>(see <a class=\"ProveItLink\" href=\"../../../__pv_it/theorems/b5427a97b2b8ac98c87a6412455d730ef0f9af3a0/dependencies.ipynb\">dependencies</a>)<br>"
      ],
      "text/plain": [
       "<IPython.core.display.HTML object>"
      ]
     },
     "metadata": {},
     "output_type": "display_data"
    },
    {
     "name": "stdout",
     "output_type": "stream",
     "text": [
      "distributive_summation may now be readily provable (assuming required theorems are usable).  Simply execute \"%qed\".\n"
     ]
    }
   ],
   "source": [
    "%proving distributive_summation"
   ]
  },
  {
   "cell_type": "code",
   "execution_count": null,
   "metadata": {},
   "outputs": [],
   "source": []
  }
 ],
 "metadata": {
  "kernelspec": {
   "display_name": "Python 3",
   "language": "python",
   "name": "python3"
  }
 },
 "nbformat": 4,
 "nbformat_minor": 0
}