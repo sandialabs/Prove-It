{
 "cells": [
  {
   "cell_type": "markdown",
   "metadata": {},
   "source": [
    "Proof of <a class=\"ProveItLink\" href=\"../../../../../_theory_nbs_/theory.ipynb\">proveit</a>.<a class=\"ProveItLink\" href=\"../../../../_theory_nbs_/theory.ipynb\">numbers</a>.<a class=\"ProveItLink\" href=\"../../theory.ipynb\">summation</a>.<a class=\"ProveItLink\" href=\"../../theorems.ipynb#summation_int_closure\">summation_int_closure</a> theorem\n",
    "========"
   ]
  },
  {
   "cell_type": "code",
   "execution_count": 1,
   "metadata": {},
   "outputs": [],
   "source": [
    "import proveit\n",
    "theory = proveit.Theory() # the theorem's theory"
   ]
  },
  {
   "cell_type": "code",
   "execution_count": 2,
   "metadata": {},
   "outputs": [
    {
     "data": {
      "text/html": [
       "With these <a href=\"allowed_presumptions.txt\">allowed</a>/<a href=\"disallowed_presumptions.txt\">disallowed</a> theorem/theory presumptions (e.g., to avoid circular dependencies), we begin our proof of<br><strong id=\"summation_int_closure\">summation_int_closure:</strong> <a class=\"ProveItLink\" href=\"../../../__pv_it/theorems/bf12078d60933e50d676d705b9fd3b7f3ec760460/expr.ipynb\"><img src=\"data:image/png;base64,iVBORw0KGgoAAAANSUhEUgAAAhoAAABLCAMAAAABKt5vAAAAPFBMVEX///8AAAAAAAAAAAAAAAAA\n",
       "AAAAAAAAAAAAAAAAAAAAAAAAAAAAAAAAAAAAAAAAAAAAAAAAAAAAAAAAAAAo1xBWAAAAE3RSTlMA\n",
       "q1RmmUTNIjK7EInv3XZQQDB8RZsp1gAAAAlwSFlzAAAOxAAADsQBlSsOGwAACb5JREFUeNrtnYuS\n",
       "pKgShgW5CAJ7zvL+77palgokykWremzGmJjpyKEpfvyAzAStrrt8Mdo1fK3qB/u60M+0Qi+fXvZL\n",
       "XMuk5dJFUMtkbOoHO/bT9UPDZP7oHhWi0Y0obblwYSUbJmNXP1j+043pS9HoVJ+2VF/yxrqedznq\n",
       "H4kGBY2m98lArOXlxFH/SDQ6JNKWymuwLfugrvpnosEtTlpq/fOmJw1X/TPR6IROW+q8sKYnDU/9\n",
       "Q9EYrEla6oaNbnrS0N3j0eiESlu6O5Bry9MwvwANDHwLfIe3gWzLOQ1f/VPR6CxLW8qjeisaJiNQ\n",
       "/1g0kB2Sloqm4IbRCNQ/Fg1qx6Sl3INpej0J1D8Wjc6qtKV4Rm05PgnVPxcNAdYPcXVF6a/PO49e\n",
       "T8ZfgoYB99FcvbOo6XxXqP65aAwgIhmuxijKNkwGUP9cNDoLfEZ7zYv862r8FjQYmP7ZtQUBN53V\n",
       "AOofjAYBSW1yLc1NmvZCgfoHo9GDQd5fG/as6YQXUP9gNAaQxxiuZTbU9XTqo73Q4degIcFRdGkv\n",
       "hRi26VwoUH+MBrMHl/lD0JjEDElLwcVty7ErVH+MBrZBR0tODVLWqj8FDQ18A33FW8BB9Ia01vy5\n",
       "99pMzcf16k8XFGRjcX6v73bWqtFgYAJjV6Y0E2TMPn9IlOfZeW2tfV+v/tzX0PGn2oi43gv8DjQQ\n",
       "CDbRlfBzDOKbj6NhcJ6dpnjHTFnFhNZifopkL16CxgiiuzM05oceY5UTfrkXXLUZaPja90gcgdh8\n",
       "suxG3JeRhiAatZXlTOEOxmQcZcz+7r3ERxuBhqXBzCteggYCnXkaoZiJjdh/Z31ittoMNALtG+gM\n",
       "oD9ZyJYSZUUMC0sgGrWVZQRYTuNHNCgcsW+ffR46EfLu0hF7xUvQCNWngldhq7cV8tVmoBFqX0HQ\n",
       "AI3JMqz487KVj8XQqK0sY+g4901hKmTEvnUROR/x8z2UYv7jFS9BgxWiIaeAhFRmULLVZqARal8n\n",
       "NQWmOeVQN5b5yzpwVJiH8Hh3ptRpO3VTCtEA0H9C20xLq9b7eHv9Jxk6NPjFD9AQMkN9MuVFpyWl\n",
       "qk8K1EbQSGp//6IFwY51eqTQj1RRNCory3CfnMlOx+1OW5ybTJmJ3NtpehtIUPwAjUFkqE9nQ0dr\n",
       "q94pUKAWoJGh/RSNTs1gaTWWomFiEUpdZRmu2NZopDQioV0ag+Qwvicr5y0RPO54TFPBPhu8ix8t\n",
       "KP2YVp+RKGe24oBMkdoQjRzta1IOpune88vRvHmKRh9Do66y9NrufJh7V1b71HsGmY4sQ6zf70Hc\n",
       "HZ4c/X6vpWcADaKdK+IlKBCMJtGY3Y2KEVOgNkQjR/s5Ghytfy0SiOvsmNGYaPht42gElflD/2TB\n",
       "cD4ilpdwMpXczTq/7T2fO0Z2aGkTVol0ix+8vYsfu6GY4YT6nO01kDDPynAVqAVoZGhfHaEDyzzG\n",
       "xy3sFD0d9sVq1ssVj6GBo+3wK/NnssBF2qnz33MUQUhRp4ehfW4wcd91sf2k1qEv/LzR0kTpFj+J\n",
       "UCRT9FR91s4rqXA3StQGaGRpX1NyYLNwsWDjguSUwm8XKJbRtfafKBp+ZcdouNRJf5ah4xkarl/m\n",
       "2tU+29Bt1pAxH3IyvoPrVyy3Fj9Gg7ORn6vvuv/Z/2dEdcVbEyVq/7WhzLT2d9tDNDYL21cfjNQW\n",
       "eG6TWSxgPpo13MpO0PCoIzSVs3IWFIGi9tebhqT0Kp8LxIL74d0v0rrFD30NDRftqllj6tDivFeJ\n",
       "2vA25WhPzBrdiJ2U2n4Dt9cRjaoAjb2yeb1wHRURWUJfcnRQHGZFhImNl9UuBe3Q3MYRaDAQ0yly\n",
       "o8uahbRb/GjWoCKtPg8No4pzxCVqQzRytK8gADVvC1coSKUuzVondoayIxSnMsPnF0M5HpzTxR51\n",
       "nAXFMYHZ4h0qCuzYDpJMFVEchrpdx3AkeHvBywUWbvEDNDjLiM+y0KA1XmiBWjC5Z2hPuKGdmxwT\n",
       "u+Z1cy6q+hCNrbL+hfkQXVA86pZh6RSH43TQUb/sbZdkGiCY9GtPaKc/JRLUmy2pEkwJIZRVYnSL\n",
       "H2VDh5vQGCrSoUVqARoZ2pNouKIdSqbBO1et+6hL1acjJb+7XDRc6jAKikcSkHptVvAGWx25cVwH\n",
       "Xq3wksVHxY9mjS5DfVZeo+J0TJHaiEuY0l6ChlzcDzku4UMvzcD6eHLPJNEYlNezzg33qFtJ2IrD\n",
       "BeW9iTRBFEySsa00UnYgYC1etr1Wng0t3l4rVVt9lAeD7TUcOZ04qPc/c5s4QQYhGR04IrqH4tKs\n",
       "upF5SQrXDfWo00HxiP/UibkRWoBtaQEaV7jruxUv25Qv3UMR5XvRpWqr0ehB5NRHYqmNyxXXyaGV\n",
       "sZkQxTblfZwNHY27v+N2jkfdS7BTXPBoQD61DmZmYfQuysKArXjZUZ6yTfkpGo4lu86dj1K11WjA\n",
       "44zQIvDqQ27uC7coqorETnklbkK4oK3UBTmuaK6m4wdLdWg3ZWTsxUvQIGWnvLo+Grb25X7pmdpq\n",
       "NOBxxohlm8r3bmKa5lRXgcZOnT86yM+cTP/c2dCDsBXf/LRBNRoEzIGk9uDR0g52FQ2HutGZmH7u\n",
       "iyPq1Z+jEX25s7zU/beiIYBTLa48bEADH5aln0M5PSEX/fF7l9G65DsaaOQxUV4QtnKMrL37ydAL\n",
       "z6HgpKUoT/f36bVMNJhl7jVBuDzYePf7SarRgI8vX3ug2VreMBtA/TEa5OiZ1/5PQePu1/Lopl/l\n",
       "BdQ/+El5DlZHfu15XGRb/v4koP7BaFDLkpbCPAlpGA2g/sFo3P52SGpb/pocoP7BaCAQjqBrD/HL\n",
       "pkMUoP7BaGjgc+qLr9XRTYcoofqTCOW4ktRB+q+gIYHPKa++FWZs2g8N1R+jceEg/VfQwGA/CF/9\n",
       "kmtqW/5e6FB9JhplB+m/gsbtrkb3903UFWgUHqT/ChrwNl6/saTp10MG6nc0bjxI/w00hsj5gsvL\n",
       "AW36fcOB+g2NOw/SfwMNA1YPc8P755RqGI1A/YbGnQfpv4EGU2lLDXAtb6P46l1f476D9J9HY4ic\n",
       "cr1jMWg6RvHVO2jceJD+82jAL2S95ytax6ZfRu2pX9G4+SD9p9GQYHTLe8a7bNoR9dRvs8a9B+k/\n",
       "jYYBMbe5Kcltmp42XPXZ2dDCg/QfRkORtKXy0i1PG676fDQ+dpC+Ag04tO8b7LjpPTZHfT4aHztI\n",
       "X46GBNtg8saNMdLyN7A56o/R+NpB+nI0kEhbrkyqLe+/7uqfeF6DgleLUXWn7ziolj3RTf2wnBL/\n",
       "oUSPXj699Ldo2nLpoi17G5t62b+uH3vy7nUVehr01PIfaRtzPiIq73QAAAAASUVORK5CYII=\n",
       "\" style=\"display:inline;vertical-align:middle;\" /></a><br>(see <a class=\"ProveItLink\" href=\"../../../__pv_it/theorems/2b18e93293480d554002c28112530eadf85a672d0/dependencies.ipynb\">dependencies</a>)<br>"
      ],
      "text/plain": [
       "<IPython.core.display.HTML object>"
      ]
     },
     "metadata": {},
     "output_type": "display_data"
    }
   ],
   "source": [
    "%proving summation_int_closure"
   ]
  },
  {
   "cell_type": "code",
   "execution_count": null,
   "metadata": {},
   "outputs": [],
   "source": []
  }
 ],
 "metadata": {
  "kernelspec": {
   "display_name": "Python 3",
   "language": "python",
   "name": "python3"
  }
 },
 "nbformat": 4,
 "nbformat_minor": 0
}