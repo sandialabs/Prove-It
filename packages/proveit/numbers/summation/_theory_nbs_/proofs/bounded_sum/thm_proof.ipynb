{
 "cells": [
  {
   "cell_type": "markdown",
   "metadata": {},
   "source": [
    "Proof of <a class=\"ProveItLink\" href=\"../../../../../_theory_nbs_/theory.ipynb\">proveit</a>.<a class=\"ProveItLink\" href=\"../../../../_theory_nbs_/theory.ipynb\">numbers</a>.<a class=\"ProveItLink\" href=\"../../theory.ipynb\">summation</a>.<a class=\"ProveItLink\" href=\"../../theorems.ipynb#bounded_sum\">bounded_sum</a> theorem\n",
    "========"
   ]
  },
  {
   "cell_type": "code",
   "execution_count": 1,
   "metadata": {},
   "outputs": [],
   "source": [
    "import proveit\n",
    "theory = proveit.Theory() # the theorem's theory"
   ]
  },
  {
   "cell_type": "code",
   "execution_count": 2,
   "metadata": {},
   "outputs": [
    {
     "data": {
      "text/html": [
       "With these <a href=\"allowed_presumptions.txt\">allowed</a>/<a href=\"disallowed_presumptions.txt\">disallowed</a> theorem/theory presumptions (e.g., to avoid circular dependencies), we begin our proof of<br><strong id=\"bounded_sum\">bounded_sum:</strong> <a class=\"ProveItLink\" href=\"../../../__pv_it/theorems/f3ad2acc0d2491e65a3fb5c2243061292c9551d40/expr.ipynb\"><img src=\"data:image/png;base64,iVBORw0KGgoAAAANSUhEUgAAAlMAAAA/BAMAAAA2xlDTAAAAMFBMVEX///8AAAAAAAAAAAAAAAAA\n",
       "AAAAAAAAAAAAAAAAAAAAAAAAAAAAAAAAAAAAAAAAAAAv3aB7AAAAD3RSTlMAq1RmmUTNIjK7EInv\n",
       "3XZ/CtNrAAAACXBIWXMAAA7EAAAOxAGVKw4bAAAJ4klEQVR42sVcfWwcRxV/d7v3tWefXSGBWlnN\n",
       "RVT9pwGfEBRViPhQUhJIE5si/0GLYtNWLQFBFoEQkUx9lfgHmmIDitpDKFlQCIS02I3aIIiSHEHh\n",
       "I6jEfCoVpLnQ0FBobNdOa+eaZtn52N2Z3dnZ3QM0I829ubuZ39v325k3b2bnDiBJ2gaqkt4GGLPt\n",
       "ueQt8ra9JPg4FQjBMD5F3rkySaqMK6PqJWTl6GgjeYvi6KiQqjQgFONl+vbl5NrHTFVM5VaQ+rSt\n",
       "Tops6AKjNEvKroxPxi+UdaonayqpMiiQcTKxv1A3/j4IKqmCdRZ548rYNNVQxVRxVS1VvXXyxpWx\n",
       "6RPKOlW+Xy1V2RXyxpVxKWm9/0MaNNVSBTvoux3JGvVOK6PqeVBM1SD1PYPJfNBUVZmrWlJNVQ91\n",
       "Uj3JnNUaZZ0qs6iaKn0ROBkTVV1RRtVMXTVVuWXgpDxpq8qoGmqopgp+CbyUptKiMqr2gXKqhk1e\n",
       "SlOfugnwqnqqBmu8lK+VZ1UxlXtDPVWT/byUpuERVVTpr6mnqqfFS2naaamiKt/xrczbTGp3SVUa\n",
       "EIpR6vBSmt5U5qr65nwrszadiH+wfcBudUlVGhCKUVnipSwVriqjanKaGTtr/Fv2/qVuB2AKEIqR\n",
       "vcJL6WJZXQQ6WGes7LV9x/qhbqlKAUIxild5KUuV61hcPhvT+QRlSShi+jULkegLbcbKou0HzLoZ\n",
       "pd6UUyUFEWIYb/JSOg2RjvpsTLW/C8rbo/mnK/Bcm2Qx/HCVnbwWbN+2WpT67TEzoAxEjGH7EvfI\n",
       "t0uC9VVKlbRiFgdf+lHLKyNCIsO229zCizQLqdrXYK0sCR9OCVVGU1WKfsIVgXHe8uSdSD4kmbFX\n",
       "KFXSigfw69O7q14ZJeb52a1sdzfGPXSLZCFVO03WSuOMyGsKVbJUZR+KB2FMCGG4F+HIR9Aolaxd\n",
       "ejqUKmnFDaTTfszyyii9259vPsx1Ba+7aXWShVSdsbjoccyuCryvSCVDlfanBCCMCSGMfSOeRPe0\n",
       "XJUEN4uUKmlFHKTkOn6Z0OxGr5d/xtPvF0+TzFD1ba9k84F22T4dXvsIVfpUVf5qxYOADGNN1ZOa\n",
       "c4fzkIAqWcUsHlHlOb9MhhfpPcaxQGR8q1+8n2SGqq9GUQU7Xw8pFqv0qDr0QmhhIwABGQZDFTx3\n",
       "7txvk1Alq6gjl6gN/L5Oy8b8TY8edgzBU4Gx1Xfvt81/3nnd4uQfX/jhUUf704AzQ5U2G0XVk3Zw\n",
       "5R6h0jVz/x/Da8AwSPb4pVo0xnDNl5vZPi/YifSoklQk3aev7ZZ1uNDe6liC7pTxVn/UlscLv6Fd\n",
       "qV65WXe6xO2AM6ZKP4eT63iNIFXeuoS5kUKV1Mzv3idYLodBjsDEdCQGR9XnoIBYvHd+PZqbjY2B\n",
       "GX6m5VJFK/qJNkFRMGZjsuGW3wtD1lucy8JtGaoGLUAR7R+cyzG1TsZRtQ5wZt16llpoXAtuCgxf\n",
       "Cy7dxSqpmRkRVSGQbAcTHoEBJ9q+LFllx8ln2zCFA4/3NKKoIhVJmH+hOeI1QY4QfzHolRvkCXoR\n",
       "98iCPwB/DkUUe5xyvqKP96dI5mbAA6ciqOoNbQeIVbpmfkEwAEMgPf0wZUZjsFRl23kyKWVwjw7e\n",
       "N58qUhGnjQ2miUfVMab8Ozw/tXi3XlyCSotQ5dTDH36cZJaqwqfNCKoKodWFWKXMrYdApqrwigSD\n",
       "pQrG1yOKangNlB04jN3l/PqwWycV5zddNEk8S5v4A/Abfjm3Aj9y0Ob4YEFbgVI/GYDoJJLh3JZ3\n",
       "AM6sr/qLGeHWofKrIFVilZJgIQwyZGKUKAzWV8FhFJ1W7G/hT+7ArxfpNfBUoYoV88Z89SDRSZug\n",
       "Ydv2bgkqG3syLXBmFG2aD0G1RZhBGvcCHBwZgDLVdwfXq3LTUTMgjDWCVIlVSkLQMMgQGMsSDI6q\n",
       "CeysvzeMxUbcRzt4kgpShSpqsLcIHyVf0SZAp9fCa245u7q/lavSGIKGUnjOWIE1FokOBr92F9xN\n",
       "44YtHFVfjIyriqEtpgiV3MLmkzEgM2amI8Fg4yrIICssyGFOcEdxZkvvSEePTxWuiL65vdlsVr0m\n",
       "SD/qstlFt2xsa9/yLtSpg9vyH/n3ViQec0Ke+ewGpPzPJDNUPeEvbIIhUWiPN0KlbG89BJK7+Zk5\n",
       "CQZHFa5fpeu7X+O7VC96YX5vh9+EKbYK8CjXBCW036T3+2WSvhy+4gcwpjcGCnMkPxvaymIW9WNs\n",
       "Wz70FauUUfWAICqsSzDc7Q1XIp0Z85AzRBxiDkG2P9Mf2oQhaaI8rjthg9uEWWGuzVeDi+QNgWt6\n",
       "xCJny7Q6u3BGOcEmDJRCa/UolRKqQiDFm+hRuwiM8yYvQf/Klp/A7iqg3uSIbS953ZQ+YXJt0f9x\n",
       "/F9QeMJt4hFqwvMH/DLtMviyDDKvocsZsA4Q3MfddrtoFm/tjXBWbvXjGMpQlEpq5lNY8Vk5SOa0\n",
       "8VkJhucFzvDXViX328Ho8YZIZVmwC3qo2eTdkDEN6zf55YABvqu6kxQOup88TrOQqoUaa6XmT/Ia\n",
       "pSpKZXSvCoM4rmpEhnEtIKnDskprG0g8ho+LU0TyiPdYzN76w4LypeideNppKybJl0+Jag3NslYy\n",
       "k/y6SPWXYjaMZSBCDDdgDQSuGpTnsdj1Pn8nLveqsic2Y/2MlQV/kt8f9xApkqoUICd585PQYLyu\n",
       "jKqZccZKb5IvrLVXu6UqBQjF0K7zUprOK6Oqd5GxcueDOH3mb3b8j2UiqUoBQjH0VV5K07CyX43o\n",
       "K76VOnvcoNYlVWlAKEZ+kZfSNFRTRZW2HFi+JU3/w5Mw7rmJviQ/+5qsq6KqcEU9VVOzvJSmnjll\n",
       "zuo59VQtNHgpTeWOMqpOWMqp+g7wUj4MriujarKtmiqDhlNGsujyQWVU5cdVU+WeRE94In1IWbSg\n",
       "rYiszB1/8Z//NVWxIAQjTx11PpnDnlF2xNh4I2Dl12/cA/BO+iSoW6qSgRCMSRopTSaLmPSWshF4\n",
       "F2+lvhm9tuhJpy6pSghCME64E0zCe6vOr8+0XSsrFx/ehE9iASxLzwPKqEoDcpI1PTEFryijCj81\n",
       "xFZeykzfR3eUFq52u7BJA4IxdOqi9KSxZW9bGVcvuFbWSu1Gjh6sueXVLqlKA4IxJukG5mTSnznk\n",
       "1P0iF//DA3YzfSZoO5rNb4IRP/FH+qoUIBjjBvrmhsQXfEQZVeVx18rdYBbxVHw32Y3viqoUIAhD\n",
       "o8fWtNOJL7ikbgTuJVYWWkegTs4sfQDgbd1RlQoEYUzQhd9EI/H1GmeVUfVUg/zzzbZ75y3YhS55\n",
       "88aj0rlL8vc5iUEohvuI/f4UF/wlZVQVHMO+7/7zjfHT5p7YFsXR0XsEH6cCIRgGdeZU/gf8CfsU\n",
       "juoKTwAAAABJRU5ErkJggg==\n",
       "\" style=\"display:inline;vertical-align:middle;\" /></a><br>(see <a class=\"ProveItLink\" href=\"../../../__pv_it/theorems/6e87fdfa256aef012e7f9bc66d4aa07e434c87e40/dependencies.ipynb\">dependencies</a>)<br>"
      ],
      "text/plain": [
       "<IPython.core.display.HTML object>"
      ]
     },
     "metadata": {},
     "output_type": "display_data"
    }
   ],
   "source": [
    "%proving bounded_sum"
   ]
  },
  {
   "cell_type": "code",
   "execution_count": null,
   "metadata": {},
   "outputs": [],
   "source": []
  }
 ],
 "metadata": {
  "kernelspec": {
   "display_name": "Python 3",
   "language": "python",
   "name": "python3"
  }
 },
 "nbformat": 4,
 "nbformat_minor": 0
}