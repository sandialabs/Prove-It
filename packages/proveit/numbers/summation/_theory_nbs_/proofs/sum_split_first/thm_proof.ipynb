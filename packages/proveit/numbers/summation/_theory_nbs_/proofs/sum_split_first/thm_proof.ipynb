{
 "cells": [
  {
   "cell_type": "markdown",
   "metadata": {},
   "source": [
    "Proof of <a class=\"ProveItLink\" href=\"../../../../../_theory_nbs_/theory.ipynb\">proveit</a>.<a class=\"ProveItLink\" href=\"../../../../_theory_nbs_/theory.ipynb\">numbers</a>.<a class=\"ProveItLink\" href=\"../../theory.ipynb\">summation</a>.<a class=\"ProveItLink\" href=\"../../theorems.ipynb#sum_split_first\">sum_split_first</a> theorem\n",
    "========"
   ]
  },
  {
   "cell_type": "code",
   "execution_count": 1,
   "metadata": {},
   "outputs": [],
   "source": [
    "import proveit\n",
    "theory = proveit.Theory() # the theorem's theory"
   ]
  },
  {
   "cell_type": "code",
   "execution_count": 2,
   "metadata": {},
   "outputs": [
    {
     "data": {
      "text/html": [
       "With these <a href=\"allowed_presumptions.txt\">allowed</a>/<a href=\"disallowed_presumptions.txt\">disallowed</a> theorem/theory presumptions (e.g., to avoid circular dependencies), we begin our proof of<br><strong id=\"sum_split_first\">sum_split_first:</strong> <a class=\"ProveItLink\" href=\"../../../__pv_it/theorems/596d89d50aa4ecf295585731e4ee618bd0a084960/expr.ipynb\"><img src=\"data:image/png;base64,iVBORw0KGgoAAAANSUhEUgAAAjoAAAA/BAMAAAAbNH9pAAAAMFBMVEX///8AAAAAAAAAAAAAAAAA\n",
       "AAAAAAAAAAAAAAAAAAAAAAAAAAAAAAAAAAAAAAAAAAAv3aB7AAAAD3RSTlMAq1RmmUTNIjK7EInv\n",
       "3XZ/CtNrAAAACXBIWXMAAA7EAAAOxAGVKw4bAAALIElEQVR42rVcbWwcRxl+7/tu78OuQFCClTgq\n",
       "FCTS+iiQClRqVy20FU0ctfhHSqndFhUVqfIFgURFqa8C8QNCfdSKKqeouR9poZByToCKpoIc5qMh\n",
       "NLGLimirGl8gIkAbx47b2HESLzs7M7v7zs5+zLn7Sslj3+7M886zM++8M7NnALcN6vo0rM22Chhk\n",
       "2ld8LiZbyrwK9lQdI3clretnZPcPDgxU1yZOaQgjfLcWUOK/Ptf+rcwbkpSWqWHkrmQHBuTqwFpt\n",
       "sIIRYhMBJXLeN6SWlHlDklJ7XEDblclI1NF+jxGgENQZtUnPS/vKqrxhSVn93RhtV6JRJzmEEWB0\n",
       "bl1AmU11ryufVeYNTWpa/AhG25Vo1BmtYgQ4VT8RUKbY53Ehu6zMG5qU2ssCWq5Eo85dAgKMweag\n",
       "J+gVXdKdyryhSan1VDBarkSiDq/d0eDDcF1QqfsCfA/Pq0BK9a9htFyJRJ1iDaNh8zAZ+AQ9Yuir\n",
       "yrwKpFTVZYyWK5GoM9qN0bDXEoG5R0EeeLJnlHkVSKn9QUDuSiTqbBDQsO/MBU8489KPY/PKvAqk\n",
       "1PoF5K5EoY72FsaQllqUftzoU+VtI3ktY+SuRKFOYhljWPuT9NPeqiqvuhWGMHJXolAnN48xrPVL\n",
       "J6c9yrxtZK9LGLkrUajTUcMY1nqkK4ZzyrxtpCCLGLkrUagzOIExrI3I0r7UeWVedcssYOSuRKFO\n",
       "/zaMoUd/U9bp31bmbcNeFJC5EoU6w3UnDuu2rfrHjRVZHruizAvmzpVtreCie+oYmStRqHMRYY9O\n",
       "Jx3t68enLvhvQ8nyvo5pZV4SQHQ2f/34zi69GVz0dDdG5koE6mTOIYzZu7CJ2W7f2CjLV0Zqqrw0\n",
       "MbSl+nSIZLunDyNzJQJ1eCM5zi7YQcS3qdlzPn6H56VLLt0O8TeHWIPUMDJXIlCntIpxVLdn6hvx\n",
       "02bI8hztoqzPi1GjgkDCS5un25l3UpJHVbAHjWmMzJUI1EmewVjS7Y2FBLrznwzvZKjLJiJhMJa6\n",
       "cRk3L1NVtzVx51G8lhTTvmMeI3NlEsweeJmoTszsq+V21MktY4Q9rj6RfJ7MDXGen5QYz2xdMptY\n",
       "C4nPHST/f0Qo4+Zlv3kcOuFa4F9sIK5gZK5MwmcIfFlUJ0lyh3SlHXXSSxhhny7Gjv07ybN7yvqd\n",
       "nSANS/isz/KXkn6uDQll3LxsbExJ16RiLem63GdKOwkPk+FXE9XJki71QHtLuhWMkHKdmk1uJ05d\n",
       "b/3+cdZPJOncFO9PhQ/uJr2uLJSB20Re3ghdNkGKtSTog8uxnJMjc2XSVC/f7Yo75NEcaG+ZJY5h\n",
       "OHQBD5kUbYedhxTo9Q2S9lixaNC8pyCWgStFXt5L9COykCrUAvSmGHt+HJkrk5AwdEy7o/LHjH9D\n",
       "75A6aR3XlDdDQtz+MF0OVuc35v+Xi2U81YHhsxLnxFrgHn914OjMzF/c6hRmZl6feIfU0abQUjLR\n",
       "9RLpz0mjem1u3feNHpqnyUl/2Vudjx59txlUSRx4/8mWVcZbnX26239HLT8//pPnDQn202mCzf8c\n",
       "mSuGOjcB7Hark6xCru49a/uo05jH6FhN8Ha0+MNPwvHWFkOvIac6W2aIvUSFtfrOqvWo76iQZRAr\n",
       "Y6vTENSxVhNOs2vpK61PGn14c4A6OyBDHoN2Q9mpjvHZDqtO67i+6/Gbf2lGL5HVcaDfaGIkpDgG\n",
       "jJhaFY0ndzX01t9lNITeesi9XtT40ixDm/pX8ziYNIuVcagjrqf6L7ger11LopJYiRkt3kTHOssk\n",
       "OTJXDHVy9TwJ0LlPVFE2uBt+ZVVqHtc/8r5d8Hc4+D+JOnXngb5EHZhFq/MeGlYN1io9Bs7OB6oT\n",
       "p7f80dwSL06wMkY3e5F3M5c6Rffq3K4ly46VRwPUibfMoNxRx7nylY6gTI7rkzeRrDP7obJbna+t\n",
       "cx7oy9QZmXaHxoI5aR4zJ7HgvkMjOWlXoQaNbVYZn76Tca9M7FqMeky2OwLUgaFriapdB7A66YRx\n",
       "g/aLN0haRI7raVaZpBGHqsOuPvxedKDvjsoAb6I874fARxZ5++SnBvm0V9yxonKuk4+JRgt6wSrj\n",
       "HZWh9II7j7dqIW+zaEaHuCIg7sABM+38pLDOyl9ulH2mMkradap+QqOB5eoPO9ShV7ffCOhAX6JO\n",
       "CsfHY7SOFmi7Yk0wRgk7lfObs+iThicMdbrhPfEKL+OjzmDVnQxatTy9rQvyVrN91HnQFPQGQZ3M\n",
       "78wPd5Kfx2Bzyrxda0041DGvbj/I7vBRBx9SZmhCakzJ8eW9zVQ3ndwD8p0RmkfvJ6rGX05aZbzV\n",
       "kR2i2rX0fO8WuJVN7n75DsSqtH3CGv1Sc4AeJz8ehusS942PPwr5fJ10R6YOuZqlq3zHgX5hHqOh\n",
       "6TFZaMxOg7a19YGryCDb5qnOFIrk8AOjtvW/3vEfq4ytTkHMdyQ7pnYte+fi1xO6vwWpA6x97h0M\n",
       "bQnGjLBAjuuz5qO69duQt9ShV3/2KAA60HetdyGNV6FJlse9Yn3yLXE97pjt2GTBxC9WhTK2OkVh\n",
       "B/pLklzMVUtm2mNfoYrU0VZk+zsvZN/+lDZhHtebGeNEH3zRHlnkqhH8SK9zHOi7mGAcebgx3Y3X\n",
       "kdZ6dLbitYMR77wbrRoda9jb5DsYkHPvQ0pqYevRIlubc2SuWOpkmzJ1Pn/VG2Vj7JDj+gcMNxOX\n",
       "rH/uLlsdcpVwjaEDfX7GYp21JF+z/TP+vcp3LnJcDL5FMCXb/TIHUHE3Ty8eE8qAi5fZFjtD4QPW\n",
       "XQvfhnBFgym8N5jo89wbjNPO9dz4LvvB4BseQxPpIka4xu4SJMhcy7dPtZogk+zI4rT5cBMneB1P\n",
       "i9K6eFl77Ok8wdVx18Jl6mhiZK5wdXIbq57q3C7Z//NZZyXOY3RM53GcsD3E8KRn9gbQKywlMy1U\n",
       "RsLrms43Sc4vWC2lCs5WOWbwvnJ+zntfuaymTmoB44g1E2n9vgcMqQXZhkzotwZR8Yw9ne8N8eIK\n",
       "Z+HI6mpz1z3jc007i9Cezr+6Qa/6VZqQHZU2Qm8yaWdl03lmox7ixZXeFkbmShRnobMI02fvNW1m\n",
       "Stcv+h9myJpRnFfmNbe+KOn9r+uhvvPRX8XIXInkLYOKE/sdJ9qL/tv1MiGSS8q85paJw0KcrAwL\n",
       "yFyJQp3eMsbQm4qyh5xYVOZtwy4KyFyJQp2RPoxhbVS2U5t5S5lX3bLnMXJXolCnMI0xrJ2Wxuyj\n",
       "yrzqVlrGyF2JQp38Csaw9iPpp4fqqrzqlmti5K5EoU5mFWPYGXlBPl5aqrzq1ujEyF2J5G3uewUM\n",
       "Zx4v1KaHlHll0vt+n4S/9cuRuxKJOr0VjOEsLQ8biSVlXsFIsH7klF/B+wXkrkSiTmMCY8gpRz4h\n",
       "a+eVeQUzF7tX+A3JRYyWK5Gok2w6sHTiIWtRTnfpPeyQx+e3qPG6+QLVyc9jtFyJRB1t1YEnY7W7\n",
       "k+OGjfE9fP9C7h7RUuJ18wWqwxk4Wq5E892+Nx1YzrV4HsP28D0evFe2Umoq8br5AtXZIqDlSjTq\n",
       "FFsO7LD6C9vD9wg7nu9i/0ONF/MZ3ejPRjfyU4edkVhouxKNOvwb5CbuhArt6XwPX26XeG++VJR4\n",
       "XXxBfSfWidF2JRp14FkLM81nga9/6C69R7ZzxDtoDinwSviC1LmmjtF2JSJ1ci0Lt35hjq8F2C69\n",
       "1B702Rh7QoXXzUfU+ebwbz0H1mGMDlfk6qz5r4Ror2AMtnt8rj1TVeV15zs+WWgZI3fF66+EPLnm\n",
       "vxIC3xAwsFl+34/JVJV5xVzZx54UkLuSHRi4/f/QBCOmm/DhIwAAAABJRU5ErkJggg==\n",
       "\" style=\"display:inline;vertical-align:middle;\" /></a><br>(see <a class=\"ProveItLink\" href=\"../../../__pv_it/theorems/cfd657c341c43e7ed4570f19599957cab1a6dc8d0/dependencies.ipynb\">dependencies</a>)<br>"
      ],
      "text/plain": [
       "<IPython.core.display.HTML object>"
      ]
     },
     "metadata": {},
     "output_type": "display_data"
    }
   ],
   "source": [
    "%proving sum_split_first"
   ]
  },
  {
   "cell_type": "code",
   "execution_count": null,
   "metadata": {},
   "outputs": [],
   "source": []
  }
 ],
 "metadata": {
  "kernelspec": {
   "display_name": "Python 3",
   "language": "python",
   "name": "python3"
  }
 },
 "nbformat": 4,
 "nbformat_minor": 0
}