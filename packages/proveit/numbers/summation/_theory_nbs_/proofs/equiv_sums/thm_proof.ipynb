{
 "cells": [
  {
   "cell_type": "markdown",
   "metadata": {},
   "source": [
    "Proof of <a class=\"ProveItLink\" href=\"../../../../../_theory_nbs_/theory.ipynb\">proveit</a>.<a class=\"ProveItLink\" href=\"../../../../_theory_nbs_/theory.ipynb\">numbers</a>.<a class=\"ProveItLink\" href=\"../../theory.ipynb\">summation</a>.<a class=\"ProveItLink\" href=\"../../theorems.ipynb#equiv_sums\">equiv_sums</a> theorem\n",
    "========"
   ]
  },
  {
   "cell_type": "code",
   "execution_count": 1,
   "metadata": {},
   "outputs": [],
   "source": [
    "import proveit\n",
    "theory = proveit.Theory() # the theorem's theory"
   ]
  },
  {
   "cell_type": "code",
   "execution_count": 2,
   "metadata": {},
   "outputs": [
    {
     "data": {
      "text/html": [
       "With these <a href=\"allowed_presumptions.txt\">allowed</a>/<a href=\"disallowed_presumptions.txt\">disallowed</a> theorem/theory presumptions (e.g., to avoid circular dependencies), we begin our proof of<br><strong id=\"equiv_sums\">equiv_sums:</strong> <a class=\"ProveItLink\" href=\"../../../__pv_it/theorems/e4396d1deb3e6091ea03828d020825c10d0eae380/expr.ipynb\"><img src=\"data:image/png;base64,iVBORw0KGgoAAAANSUhEUgAAA50AAABMBAMAAAAciM5uAAAAMFBMVEX///8AAAAAAAAAAAAAAAAA\n",
       "AAAAAAAAAAAAAAAAAAAAAAAAAAAAAAAAAAAAAAAAAAAv3aB7AAAAD3RSTlMAq1RmmUTNIjK7EInv\n",
       "3XZ/CtNrAAAACXBIWXMAAA7EAAAOxAGVKw4bAAAPcUlEQVR42t2dC5AcRRmA/33MPmZv944SH5HI\n",
       "bcqAqYJwK0ewQLzbVA4CpuAOqUiRRG4LERXLZBGlxILksCwsK5FbDKCHwA1EU4WhzIWngCRnLEtA\n",
       "SRY1CGgqG5MyYuRySQhJLuHGfs9Mz2Oze5e5nXRVsv9e9/5/T3/dPX93/7ML4JX6dX0/NHL6io+2\n",
       "Yj2TpWlCzZrWdR29xN9m74XAMjwNP9U+p5FxRlt8NDZ30jRNqFkj7e2t+HUD/8MGKcPLcLGhRyec\n",
       "q/lnK/zq5PGcYLN24v+acuydEFhGcHmqv/fR2BO5xuKpHGbvhBB4nqGCj8Y+Ao3FE6bxt9NOFZ79\n",
       "Pf7ZShxqNJ4rsuytEILO8yY/vdtCo/FMltlbIQScZ/iQj8bayFzQq+vlWjqBrh84aTwT43zqGD81\n",
       "eMbKPhr7Jvm/d+HCvlom6YULTx5PeIi/f+jU4Nlf8fH2ScdAb80f3HzyeLbx+6YQgs2z1cfVZ2is\n",
       "8Xg281u6EALNUz3qo7H1pcbjGToCkhBonpEDPhrrzDYeT+UYSEKgeSbHfDQ2qDUeTzgOkhBonut9\n",
       "dG/VD6ABeQ72SUKgeXYO+Ti3H2tEnvuGJCHQPFt93O0LHWpEnv0FSQg0z60+2moabUSezWOSEGSe\n",
       "/Jbm6726sXjGDklCkHmG/Vx+tpUakWd0XBKCzDN6zEdj3UONyDNyVBKCzDPm53bCsmwj8kwcl4Qg\n",
       "82w64qfv1deIPFVdEoLMs9nP7SFdM/FcphtpvG6eNWlx5gl6n1UIMs8Vo/7ZivOBQHi2sdZTv7Nz\n",
       "6/G6edakxYXnjqxVCDLPNh+3+8IfmHmGjBiFiGjRmnnWpMWF57KKVQgyz30F/2xl3jfzhB1GdHu0\n",
       "VPf9sxYtLjxbh6xCkHluom3w7ptVpkq7HHcri642s73PISN11MKzXzdicee7WixW4emtpWgTi0IU\n",
       "2LpbrEKQebbSS3imSrF/2WWlYiu17uGb9qyE6zE6p13h0H4Lz4xuhDBHXC1eX4Wnp5ZM1iZeL3QK\n",
       "bJsKVgFlkFb5pAdPzwJTmAbzjKdnBcN0IlrwgiED7LK13vSc2n0fZHIuPJPvWXjCoONeY/RFzWwl\n",
       "k6uyXnHWQqoK5xh/OMekj+o0eJatAsq4FL9+1YOnZ4EpTMs4T88KrqXz5cc2CxlvRWhSqasWoyFy\n",
       "H8DNLjxjEs8n9LxDqQ2rsmYrWJsnT0cttKqq4RwY4s1cp+C5b9gqoIy78Ixf8uDpWWAK044hxtOz\n",
       "gvPo3sNZDwoZz25SOybyOPt0gAtceKaPWXkqjmG1m6/TzFawNk+ejlpoVaPGrdUQL+A6Bc/OUavQ\n",
       "SftqKuvB07PAFKatnKdnBWm/7dUMGSf2qFjm4e1vkNujhrvDGtSYmpnng0YjSzxh03HNZkoZA6uV\n",
       "Jq3K/pCTFlrVJhNgiz6i04tnBOGPeflDngWmkmeF8fSqYJhOVi+ZZJy+TAEsZc2ZjLMBG8uZef7I\n",
       "aMlxiWdMt6+WUmXJSixXhaeTFlJVONv4w9kWfUSn4Nk2ahVwxmvbt//J07/1KjCVPHPcv/WoYJQM\n",
       "4k+/djqXb9m4HPgjsLfx0XFLgvkwqRYzz4gIaGk6KPFUt9pOdyLTX88zK+rIx1c+SbR583TQQqsK\n",
       "C4gjNHIrFdXdOXiU6iM6PXlebp5YnAx7FZjCpAueHhWM0ULjXFb+SCL1LgSLD7VSYfeoSIHyjG4n\n",
       "iXtB0CzzFLt1ptRc4VaisLNyJdEmeF5JFL4uLQMdtIyLCSRViL9CxVR4mEylBaZT8OwdtQo44xaI\n",
       "m59aj//tGbikxcxTKuCc2IT1WdYwYVpjdIUrP3+CHwXZ2YuCSwbjmeU85QoqgwvmsqGVJoXiR7j8\n",
       "RA5QQ8O5JFNMdt/mK1LUbmZ/KHwDR3VA5hnVbY9rr+jjVj4DndqHiLYq5yt2LbSq8BcMWyNwkfj9\n",
       "aBk/5In1EZ2CZ/+YVcAZSc24hHum3Q8zUlqUT0RrNKOA2mV6QPm6954+g7bdxl3/wa/Uv0xwZ2CO\n",
       "gWSDG0euo8S0yC5qkpNx9l3bNc7TdAWJnQNIfBfgRjZRkozwKJe7Af6BL5+URfP09rfo/ZPhT4xa\n",
       "/du1f2Dj9mKZJ+ywnYm0CYt9cBnT5sxzjeaqhVYVsN3fQeIwFbWmCmyh+ojOW4WinFXAGeGKcCai\n",
       "l+OVeSWfsnQkViA5xzQ3ZMoQI8PmPGqBtTl3BlQ2XpQhy61dWsQzHSWmxYEnJePMU+/hPE1X0EXq\n",
       "iG5BD5h5Uk8Fy6+AikNtlpBKCr1JjYmKdXzGv8EGUvMhG88VZWdPhlrcwrRVO/+0aaFVxRATByAz\n",
       "zND2aokjVJ9SdXxCoQN1wHn37Gb7JrPOWm7lSQqgazL71qE8JAvMO2+x84z2GEtgV55cR4lpceJJ\n",
       "yJSqzLe0gus6nmPbJ6gNlZfN822yhcnqOERw95tNMkVbKmT9qaD6ly33zzeKrvMt/M+2FXqvYVE5\n",
       "DL8i2qrcP+1aaFXxJBs5TN/gqfcyghbrIzq9eT6JGn3NklxTkXbYWanHFlt54gIQnv4kljt2kVtN\n",
       "UxaWkKFwkO0Rm3iiIml0STshhD7qwZPrKDEtHBvtW5QnISNn2HjiCqp/R7PT43RYjXfwRX2S1rbC\n",
       "ZPUAhAqfAriIZI4Y+0NXk0aDSMk8PhXRkew8FXt0xBZuUb0/NAxDRFuV8WnXQqsKjwDueOtzVERd\n",
       "BaPF+ohOg+eoVSAZd6Ci3/s3Gn/Uy5sF+Xeshu8gfYa0QSZPO9CKXbvpUNh3lL6WuH9IitwG8Otm\n",
       "bRXATIAv2dYQAyitNnSUmJYSXIFzcqRvUZ6UjJwhr1dIBaN5dPO+htairP4cxAIE17aHy4/A7Hye\n",
       "LQcgJjYhMg/MV2fnyWLDxPM2cF2vQL9tAyN+iFsMH/nFsJJlCyRPnnYttKrY6VAP0wcisf8xF3pz\n",
       "VB/R6enfQggPkjPRPSXy9YGBnyCe62JWw6QAdBFzGl0BfA4epy6EOnO/iefdfbTIdaiHzAbULZAQ\n",
       "+6/L+OQ6SkwLHw2kb1GelIycYeOJK9jUk2mBCxH2LJ7I27h/VDY8FSw/uveHZ6LC22jdpy0S5ysP\n",
       "fYCPrNI9Zp4/c+epbrFvXYxyK+pVlZnnU21V1p92LaziP0b/rt57JRcf3dhdpPqITm+eJL0MXQm6\n",
       "qp4Fynn2GzfAavzfhdBcpB4Hrb7KL5G0eeI0jRaZgd6cgfoI3mIJL3XhyXWUmBYxu51J/ZUkMDJy\n",
       "BnMNDZ44rS8mL9ZW8on8t7wUOR2da5LJUGJ3TuV5ut8n0p2W/Vvj4tMyz5h9DcW/q+xNs7Yq+0N2\n",
       "LayqaTKEbjTEZ5m+O+GEeMZH4c1ZdFWOlho7nXgSD+NpWMU8jhRZmnwB4HbT+ERDhBTBO2Xb8CfQ\n",
       "fHuHZed7ZGOWz7dcR4lp4dMq6VuUJyUjZ7DzlYqFZ1Ox/xotqdFJBD6hFMUedrjlBtP+uHWL2757\n",
       "73y+Iu/3DdiKzOCz9wXWswAvnjYtoqqRPNxFfFoipgrqZqZvngVb27BVEBlKC+zNwe2oKySQUxdy\n",
       "4KmOgToEM+A0/BIfg1D5WiSg7vRRsPpDuEga91NllLgcFn9oOYS4SqpjHf4o1VIy9y2kO8nJWDKE\n",
       "qsEhC09l3nlPQRxPkZnBF+Bu7uski5B+sCBkmm53wYlPaZzPP6X9+OjbBgL2+tZakKzQMx8PnnYt\n",
       "oqrwU5iura0wMV0JDVF9VKexH1+2ClJ8gvr8wP0uCyW8VZDYDNGRpfjlnWNaYmkFCZd3vViUeOIi\n",
       "+JpmXlTAdRE8I11d+NhZ4QqpjlVZ9FGqpWTuW0h3kpOxZIgKteYtPNl9cGDAygP57JHdRSHzxnJO\n",
       "uNrO8QnS+eclRrucz1475oNkhYL14GnXIqqKPPWr917KxXDHpUwf1WmcfxasQg3xJvjMMEyn3bDc\n",
       "N6X158t4H0EtJnPk2hDP8EbIw2/INT4iL7iyApd1mRkm6xWHDJ5YyMxLVeKHltvljFsUzR6U908n\n",
       "nlFrvIlpmREedrW4B7x5emqJV2ziHqHTiE8oWYUT55mcgebiRYlyBhETXuEimadSBlpkPoQqX0Tt\n",
       "UKQ8ZyZa4mxH6mvSoaHmwnNRNZ6bfDxjl+LBjC9YU7vzVT7qzrMWLdZkxIPlrcKJ80zhG1Iuvvpp\n",
       "5HGIOS8n84SlQIukNKVjiPhWCXyH/3Amp9yH5tt4Ee6RTpnAhWeuGs/Ogn88I5Z4TWOZ8a1W+wHJ\n",
       "ifKsSYsLz8GKVZi8+D5WMMH7nMb//y7ZWUv2qdh9iWTZjOHwUZBtxcElgzXtsH88leNmnrH3byJp\n",
       "+1Zdr/oQqivPmrS48OSPSXHBr3jNkU4axpjaOzJpD8lP3fMO3aYnTw7WzbMmLS48+WNSXPCJZzyL\n",
       "1qHhrgWT2sbNh/3jCXpR3o8/0XQyny8Tj0lxwSeeiacqk9/EaT+/XXNHTyPyjB+XhCDHx4cO+mis\n",
       "NdeIPJX3JSHIPDPv+WhsX74ReWaOSUKQeYrO6UfqLTQiz9ABSQj099XoPhpb35DfP5Qek4RAf5/U\n",
       "Dh8rlz7syFOExU2M5+KRjr56eK4floRA89yU889W6qDME4dCGmFx9fIk8YjhCg04rJlnW4skBJpn\n",
       "r48/dqXsl3iSUEgjLK5enl14XDaBcUJZE8/WrCQEmmeTjxtE/MsCMc/M7uXz2SOkIiyudp4kXo7G\n",
       "Izbn3B8Z9+S5VapdsHlG/fwCou4+wXNPqHQDO+QUYXG18yTxcjQeMaOvrssfSvBTPCEEmqfi5xe+\n",
       "9Q4JnrlkpY898CLC4mrnSeLlaDwiPNbdUg/PDF+uCCHYv+/wZz8n92Hj/tlcZKGQIqStnvsnjpej\n",
       "8YgaKKP18Ixx91YIwea5z8cvNM4cMniugiJ7wJCHtNXDE8fLkXhEJVvr8+8MWz+fG4QQbJ7Nfv6a\n",
       "637OMz78LORpKCQNaauTJ46XI/GI0RYjSK4mnuL3Z4QQbJ4pP7/Bb5PGx+dVi0c0EgrJQtrq5Inj\n",
       "5Ug8YvQHC56rxx9SuRckhIDzVP10iNaTOU38Hp0tFNIxefweHYmXs8cj1sAzww+AhRD034vcp/l4\n",
       "AyWTwS9r/j26RS7NSuLl6kwUW1Oe+2r5U4Rn2sdf7CDPAU9SIvsJHUMT5Cl6s9GtA84z7GfISVtx\n",
       "UnlOJBFsKj/PVw/CKcITrvDRVrTUWDxDvD6h0inDM+3jEQv8tbF4LuGz7BLtxHnq+v5G5pl41Udj\n",
       "qybN+5pQs6Z1nZzkb+N/2CZleKQ17e1zGnqAXuujLWXSJqsJNWukvb0d3zX5OkcIJOP/Kda9qmSd\n",
       "tkQAAAAASUVORK5CYII=\n",
       "\" style=\"display:inline;vertical-align:middle;\" /></a><br>(see <a class=\"ProveItLink\" href=\"../../../__pv_it/theorems/d48b792c4a25d39396009256fbb092be028325a40/dependencies.ipynb\">dependencies</a>)<br>"
      ],
      "text/plain": [
       "<IPython.core.display.HTML object>"
      ]
     },
     "metadata": {},
     "output_type": "display_data"
    }
   ],
   "source": [
    "%proving equiv_sums"
   ]
  },
  {
   "cell_type": "code",
   "execution_count": null,
   "metadata": {},
   "outputs": [],
   "source": []
  }
 ],
 "metadata": {
  "kernelspec": {
   "display_name": "Python 3",
   "language": "python",
   "name": "python3"
  }
 },
 "nbformat": 4,
 "nbformat_minor": 0
}