{
 "cells": [
  {
   "cell_type": "markdown",
   "metadata": {},
   "source": [
    "Proof of <a class=\"ProveItLink\" href=\"../../../../../_theory_nbs_/theory.ipynb\">proveit</a>.<a class=\"ProveItLink\" href=\"../../../../_theory_nbs_/theory.ipynb\">numbers</a>.<a class=\"ProveItLink\" href=\"../../theory.ipynb\">summation</a>.<a class=\"ProveItLink\" href=\"../../theorems.ipynb#summation_complex_closure\">summation_complex_closure</a> theorem\n",
    "========"
   ]
  },
  {
   "cell_type": "code",
   "execution_count": 1,
   "metadata": {},
   "outputs": [],
   "source": [
    "import proveit\n",
    "theory = proveit.Theory() # the theorem's theory"
   ]
  },
  {
   "cell_type": "code",
   "execution_count": 2,
   "metadata": {},
   "outputs": [
    {
     "data": {
      "text/html": [
       "With these <a href=\"allowed_presumptions.txt\">allowed</a>/<a href=\"disallowed_presumptions.txt\">disallowed</a> theorem/theory presumptions (e.g., to avoid circular dependencies), we begin our proof of<br><strong id=\"summation_complex_closure\">summation_complex_closure:</strong> <a class=\"ProveItLink\" href=\"../../../__pv_it/theorems/d78a11c2288adad9435a5b684948abe467f5e1ad0/expr.ipynb\"><img src=\"data:image/png;base64,iVBORw0KGgoAAAANSUhEUgAAAhwAAABLCAMAAAAMNK4oAAAAPFBMVEX///8AAAAAAAAAAAAAAAAA\n",
       "AAAAAAAAAAAAAAAAAAAAAAAAAAAAAAAAAAAAAAAAAAAAAAAAAAAAAAAAAAAo1xBWAAAAE3RSTlMA\n",
       "q1RmmUTNIjK7EInv3XZQQDB8RZsp1gAAAAlwSFlzAAAOxAAADsQBlSsOGwAACdxJREFUeNrtneua\n",
       "nKoShgU5CAJr78X93+uyx1ZLCuWg0xOH+CPJU2loP3yBqgLprrt8Cd61fC3yB/91kZ+5Czt/e2Ep\n",
       "aXXSculipGk2VvmDH/vp+qGe8vrqnpTC0Y0kbblwUaNbZmOTP3j50zfTF8PRmT5tqb70jXU98ALy\n",
       "nwkHR3fN79NBRNOTCpD/TDg6otKWymvwTXujUP5D4ZCeJi21rnrbAweU/1A4OmXTljp3rO2BYyf/\n",
       "qXAM3iUtdT3HtszGXv5T4eiUSVtuga4xj8P9Bjgo8jHoHV4H8U3nOPbyHwtH50XaUh7ke9UyG4H8\n",
       "58JB/JC0VNwLbRmOQP5z4eB+TFrKPZm2Z5VA/nPh6LxJW4qH1aZjlVD+g+FQaBZRV+eV/vrY8+xZ\n",
       "ZfwtcDj0JN3VZ0vazoCF8h8Mx4Cik+FqvGJ8y2wg+Q+Go/PIe/TX/Mm/LsfvgUOgSUBcmxZo21kO\n",
       "JP/JcDCU6mbXkt+sbX8UyX8yHD3q6P21ri/aToEh+U+GY0B5jeFapsNcT7E+2x8dfg8cGu1b1/5S\n",
       "uOHbzo8i+cdwCH9wuT8FjknNkLQUXNI3Hcli+cdwUB+0tJbcEeO9+WPgsMhHsFe8BhqEcsRaKx/8\n",
       "tN10/7Re/um0Qnws7O/t3V5bPRwCjWLiyrjmghzat28mlXl2WV9v39fLP/c5bPxNOKaut4O8BQ6C\n",
       "Qk9yJRgdg1jnu+FwNM/Oc4DXo7JCODmMsEAJHCMK9c7geL0qGaucycvtAPXmwQHFb4E5QaH6ZNmM\n",
       "tC9jjWA4aivLGMYhx2wcdcw+t176m6cJf/qQZl4xWKAEDoJa8zRacRMdsf/O+kYg91xvFhx78Svr\n",
       "AtE/WdiaJhVFGCvPMBy1laVph/c+ksHQiH356lQUxRyfm7if22cpUAJHKD8VyipfvdoA5Cb05sAR\n",
       "il9QsAiOyTIsPUCWTYAiBkdtZWlJ8LkZypWO2JcmYomMD+uW4oTBAiVwiEI49BScsMqMyiY3oTcD\n",
       "DiR+GdkMGusMAG8sc51t4LCIHcXjzX44vHUOMgzRYDB4tdupKRCxW5cjulvQ1T0scACH0hnyk0kw\n",
       "Pk0sVY0C5Sb0RuBIi3+X9Cjy8aBJCj1KE4WjsrKkx7GbVWzcvt0KfMhcuODhqk6yaIEDOAaVIT+d\n",
       "IR29rzqQAMhN6UVw5Ig/haMzL7asGUvhcLFopa6ytEu23TQxdh0QF7t2juhhfI9X8IgJiTwQSbph\n",
       "DGf102mlH9PyM9LnwlfsoNnJTekN4cgSv+Tp4hY2HA6ep3D0MTjqKkvO8PC7wGNZ7OzlhLuOzZ2s\n",
       "B88AO8ZT4/CAgl4gOJgFV8RbMCg0TcLxcjsqOg2kMKE3hCNL/Dkckix/zBoY9Hrc6Fw0GvdxOILK\n",
       "9v3/ZN4AXxFJVMDcpQSp6Le9l6+G0R2Zb4mas/TLNKyGuZB3gWOHlAqakJ+z8IbS6Fk5L1gkoRfB\n",
       "kSN+8YgOLK9+Pq5BqOr5sM1ZL8HSyBgcNHoj+8qC+W7vK23c7Q9LivRTDpsY2V/3y+BJGds/zdL7\n",
       "FZx20VaMVLSiheGn8rNWZVmF2wHlpvQGcOSJX7J0Om6hDkIGPkXfvlAszev9P1E49pUdwwG50/uR\n",
       "ho9ncEAHDdjN1iH4NnJoFY0+AitPjRxSjPJcftf9z/8/I8QrXrGAclN6/93DkSf+ffMhHKtFdP3y\n",
       "VZSYNQxdR7RY/Hw0csDKTuDYccd4Io0FpxVFYvavw4q03tX99YnIELqF+h2HBQ59Dosn76qRY2rR\n",
       "4kwYlJvSGz6nLPGJkaMbKciybY9wPdNoNAVwbJW9Zg3osKjITPqlxwYfR1kSBXADXeZt14p35HWL\n",
       "I5IwVRpNEr5b/D02vwscjRxcpeXnweFMceIYyk3pDeHIEr+ggCea96MyG55sm/HXgFSQ7GgFVObk\n",
       "63gp4MqBNt5xJ0Xwccq6aKw5Y8VDO/WDZlM9nKLAt+tEJPPklJgg1NSyXYEDOKTICNay4OA1/ijv\n",
       "svWiET5HfMIhnZ7VdtNqE72clBeVfQjHWln/RfoQnVZ23M09E3wcddXBxh202a7Z1EUo65eWsLA9\n",
       "NVEcOYF6VMbbdVB7FzjKkA43wTFUpEh3clN6ERw54pNwQNWAk4mtV922j/pWfSJseg2+8sDn2HFH\n",
       "SfBxnJO0613tz8S1kQcng6mWj2qXQT4scDRydBnys/IcFdtngiOAz/VGfMOk+BI49OyG6HEOJXrt\n",
       "BtHH830uCcdgdk0LHvmOu4WF9eNoWlkWlyaM9iNlbJGNle4WWAqULbyVZ0iLF96Q3ITe+s0+FC28\n",
       "0cgmxsG8/6JfKRPiCNHRvqOiaysQaNONYpe0gA7pjjsbfDziSKmve7AqXLNW6N6KF4TXAmVL9qVr\n",
       "K6p8oRrLPddbD0ePwqg+ElitaNIt9tGx4ZDEluxDv3h0cOFH7VJ1gLsvxeDjuAXeMXuPsrU4llel\n",
       "AcFaoGyzT9mS/RQbx9Jf504Ilnuutx4OvOsRWxRdvMnVj5GeRGWx2E6wxFPAMffMXZD1iiVvOnkw\n",
       "YYd2V8rGVqAEDla2E6zro0FsX+6hnumthwPveoxY1gF9aydheU51FXBs3O07CPuhXezft4f0IIil\n",
       "N7+bUA8HQwMhq92bNN+IuAoH4G4Eg9NP/SpFERx90e7z6InR+lL73wuHQv61uvJqAg+8WZF+b+V0\n",
       "G130nx+8nLUlPwDBI2+XyoIgVlLi/d0vlF55b4UmLUWpu79vvOXCIbyA14Th/Drk3Qec1MOBX3y+\n",
       "9iq097JlOpD8YzjY0buy/R8Dx91H+9i2jwRD8p/8lr1Ek6S89iIv8U3/RhOS/2Q4OHKv+bUT49zd\n",
       "vvazLiT/yXDcftYk903/EA+S/2Q4CApNyLUTAHTb4QqS/2Q4LPI+7cWjeWzb4Uoo/yRaOa4ksev+\n",
       "Q3Bo5H3qqwfLjG17pKH8Yzjqd91/CA6KForo1V/W5r7p36IO5WfCUbTr/kNw3O5ydH/Pt/YVcJTt\n",
       "uv8QHPhBXn+0rO3DJgP5Gxz37br/DBxDZPvB5UmBt32GcSB/hePGXfefgcOhOcTdcJSdMS3DEchf\n",
       "4bhx1/1n4BAmbalBrunllb186HPctuv+E3AMke2wd0wJbccre/kAjvt23X8CDvwDsPf8JOzY9hHX\n",
       "O/kLHPfuuv9+ODTq4fqePq/bdkl38teR49Zd998Ph0MhuLsp9e3aHjqg/OwMadmu+2+Hw7C0pfKy\n",
       "TQ8dUH4+HN+2674GDty97+vwtO3VNyA/H45v23VfAYdGC2T6xiUz1vQvvQH5x3B8bNd9BRxEpS1X\n",
       "Rtam12Y3+Y/cz8HRGWXc3OlFDqZpn3SVP8w7yn8o82Pnby8uxtOWSxdv2utY5ev+6/qhnPH85aWD\n",
       "uOanlv8AT9pyts5cpmMAAAAASUVORK5CYII=\n",
       "\" style=\"display:inline;vertical-align:middle;\" /></a><br>(see <a class=\"ProveItLink\" href=\"../../../__pv_it/theorems/96cc5d54ff3dbdb6e50b4be0ef865d2e687698840/dependencies.ipynb\">dependencies</a>)<br>"
      ],
      "text/plain": [
       "<IPython.core.display.HTML object>"
      ]
     },
     "metadata": {},
     "output_type": "display_data"
    }
   ],
   "source": [
    "%proving summation_complex_closure"
   ]
  },
  {
   "cell_type": "code",
   "execution_count": null,
   "metadata": {},
   "outputs": [],
   "source": []
  }
 ],
 "metadata": {
  "kernelspec": {
   "display_name": "Python 3",
   "language": "python",
   "name": "python3"
  }
 },
 "nbformat": 4,
 "nbformat_minor": 0
}