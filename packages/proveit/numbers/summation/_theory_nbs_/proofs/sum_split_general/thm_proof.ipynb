{
 "cells": [
  {
   "cell_type": "markdown",
   "metadata": {},
   "source": [
    "Proof of <a class=\"ProveItLink\" href=\"../../../../../_theory_nbs_/theory.ipynb\">proveit</a>.<a class=\"ProveItLink\" href=\"../../../../_theory_nbs_/theory.ipynb\">numbers</a>.<a class=\"ProveItLink\" href=\"../../theory.ipynb\">summation</a>.<a class=\"ProveItLink\" href=\"../../theorems.ipynb#sum_split_general\">sum_split_general</a> theorem\n",
    "========"
   ]
  },
  {
   "cell_type": "code",
   "execution_count": 1,
   "metadata": {},
   "outputs": [],
   "source": [
    "import proveit\n",
    "theory = proveit.Theory() # the theorem's theory"
   ]
  },
  {
   "cell_type": "code",
   "execution_count": 2,
   "metadata": {},
   "outputs": [
    {
     "data": {
      "text/html": [
       "With these <a href=\"allowed_presumptions.txt\">allowed</a>/<a href=\"disallowed_presumptions.txt\">disallowed</a> theorem/theory presumptions (e.g., to avoid circular dependencies), we begin our proof of<br><strong id=\"sum_split_general\">sum_split_general:</strong> <a class=\"ProveItLink\" href=\"../../../__pv_it/theorems/05caa2b358d92a901470e1362cc09fba6214c98f0/expr.ipynb\"><img src=\"data:image/png;base64,iVBORw0KGgoAAAANSUhEUgAAAp4AAABABAMAAABB82rWAAAAMFBMVEX///8AAAAAAAAAAAAAAAAA\n",
       "AAAAAAAAAAAAAAAAAAAAAAAAAAAAAAAAAAAAAAAAAAAv3aB7AAAAD3RSTlMAq1RmmUTNIjK7EInv\n",
       "3XZ/CtNrAAAACXBIWXMAAA7EAAAOxAGVKw4bAAALBklEQVR42u2cbWwcRxnHH9+d7/b2XuxI/dBC\n",
       "1LhCFCqCfVBRlAoSo5S2FklsNfhLefG1haIgVb5KfCBShA+BkEABW0QVclLFJ9FCCg02KQS1iMSY\n",
       "lkalUQxqVVrVzUUNRW3BdmyndpzYx87uzuy87e7sebqfeCTff2/39ncz/92ddx+AGAONxjTojVSd\n",
       "1dD4RS3g4B7QR1NmiDSs5jcdTTcaC7LPD/T3VzX7+RanoVEcCThW5mg/GGme9lb0zGAaob7tiNHf\n",
       "L/cTdEfrMqsKccT/0ECFo7VMNE2LkCKRhjVLvn8qHj+fLLGqckqH3xHzLxwV8tWmaRFSJNKwmlMx\n",
       "+3knpwC5N0PKrcQLviVemacNz34AmqTdyb49tV0lO5hGqFtrsfpprLBqxcvGZMhJL/kdGK7ytP/W\n",
       "LkJzNCpFKAp9B5Uy9BKnhe5Y/Uy3s2rdYyNm2DPaVfE5cB/wtENwGzRH8xh29MAxpQxhGtbEcqx+\n",
       "8l9vlXh94RfBp04mafdoZ+BzTdI4m59TvUFGOOq+WP18lVOAtkp4IbUi318YEWjz8nwo0F5l36pW\n",
       "9phGqF3VGP00FlhFF7YPQts4z/oUnx0C7bXkCDRFM7j24tchp5alZznNd8foZ8s8q1Zkdm6vhZ3W\n",
       "K9+9BQTa92fDE9EblDIc37r1HbUs9XKamo/Rz/FuVhVjQNo0NJdAHy0iQ6RhbV2M0c8dVVYVI1+W\n",
       "7U2ugD5aRIZII9S/xujnGKeqYyjS2iE7r5E21myWMI1Qeyvx+XmFU9VKdFG2t21EI+1Ks1nCNELt\n",
       "KsXmZ+tVVlUjc0mauAl9tKgMkUaoQ+2x+Zm6zKpyvCitWfv00SIzRBrW/GRsfqZXaU03qAgeExmT\n",
       "NakGa/poOGXRQAwNa3Y1Nj/bpmlNNNwK+pdf3dwIHhOZ65DsXAN9tDZvGiICiKFhLS7E5ufQCKNb\n",
       "1siRzy4Ed/slrcPMFdBHG6K6VeoghoY1sRSbn9xXFxrt1HhOUAxLepGJJdBHoy1WBzE0rMaV2Pyc\n",
       "qzNqNLyWS4odFnHfZXDvRTIrWFwHfbQ5qqAMAAXRsJprsfnZ28HqXMNLLtMJLLofaHWz2TYvqZIX\n",
       "QB+tly5SfUGBNEJtuH7ad/mHeD9b7GerpMXPsSqrWXE2+gvPoNeP4bdvuo/gqqR7tAL6aGN0dzPr\n",
       "M0keTCPU8zXHz88j+QbvZwq18tIVLX4OVlg1zy1xn8hdj54Tk/Sw004jJC3pIpJ9OmiDdAZFkAqN\n",
       "S88UfBcVCiO8nwa6bffred7P1ViFgQbXdMl/+DB6lMnjkHTqiaykuZ1fhQ3T9vIp8wGp0Ah1rM/x\n",
       "E/md6xDKT7Tk4YQePxucQq7BzTYO2PnKezuc4y2SdgtXXjVF6+RT5gNSoRHqlg7Hz6TlfFqsj261\n",
       "/srvk58w+B77iT/Zrzd7Ox6I4Gd0mo+fAkiFJvgJZ2dm/ib6mZ+ZeX3i/fLzyQaD/sTZ6+yC3/r7\n",
       "zYVjf7QS9lunLl9U8jMyzc9PDqREI9Tekuvn3QCHRT9TVcjWwpzqVrHTbLBKd+7cWCcXvrt4Y8qq\n",
       "Zm+j05qascNpbo/Pb5BG+WlyfvIgFZro58OQQUk17yjRflr7HiZMbr3V5iM9v7M32N23VIx9eIv2\n",
       "8xqr9pdfo69VxsnGP6zCvpJcbbHSsdUp0NbF7I1PbpzWCSJDAlKiEerpuutntpZDVVP2U1WmPX8Y\n",
       "fk+g1Hqrn9zwCLwCz7wj+nmLBfwg2Qr2s8AM4SSce+45q1nhLqYZjuRnJNrumZkXZ2b+LvWzII4s\n",
       "haVN9DNRt6ujthrbP+qkqiNvvVXqbtR7MD5SEvzchnadIVvBfmbWmIp1GqfZ+io7WV+O5GdUmu/9\n",
       "yYKUaKKfUEZroBKbT7B+ppPWB8yn3kWPrrve6tR2t3eQSgHl56+3/wHgbVS9GesXas4Wvd5LrI+g\n",
       "+DzT52nHzxRai2haF/bjvuWnpD6KRguojziQEk0sP+GEvbx2G9d/z91snXu8Moz8dNZbFfoOmo6D\n",
       "n/4o5af5irEMB20Ti68Vu50ter2XxM+BKtNkdqw/CvBE32Z7RcG2KPV7ZJqvnyxIiSbx84B9Ce7g\n",
       "/Mz82d5przdz1lv1wLFW+ySzPkH5meq2rEscQcVFtpQsO1v0ei/RT25ZxpAzhWE1RLp+tAvucZsn\n",
       "yu3PyDQ/Pw3J94XRxPYntFQdz7jxpevtYuMCAF5vZZUhyX2joz+FXK5m1oif+b6idUFakY35aqrd\n",
       "3aLWe53j1GroscV+lyM/BnhsNrETpetlXz/z8xundYLAkIGUaBI/nTgjGa8zl+HQrwCvt7J6/oZ9\n",
       "Y97zPch5fo5Xsrdb74zrKtAG+Q53i2oxna+xCvA1Ns3u4rgCuaMz0+xYEl0Fr8KGaZ0gMGQgJRo3\n",
       "3kX8NFdl45/PG5dvNyfQeivrFS2Wslv+E93wFe95z1eG96J0ZTbVCjW7cLG26PVe/HgdZJl2VqL9\n",
       "fmakwRt9KCwrjNc1QdsrHa/jQIo0Qj1fYfyklwt7fn7xk++WjCm03sp6RYul9lspSG668en7PD9b\n",
       "d3Y+5Q5dG3vq7ha93gvP8GKF3d5tYd3OhcO4YfYzvHc/92zT48mXQR+tl1mFyoIct0JpXPkzxQ1D\n",
       "ycbnE9Sr+fToI96R8FWC9sB3idWk1ypJWglPXsRlwxPAJr5tUjLfsQj6aHN0S5kDORuhNEK9xviZ\n",
       "vanq6+e91Csban7umGCVapVsZZvTbn1QdDMxJBkwT14FfbQdE/LG0lbxe/1oWDPs/FFuFnz9LPlM\n",
       "qdB+/nDUigq7RXDtjGa8WvuxpcALMdAu7mu9BPpo9C51kCxTOF0bm49Tmw8ZLzNKWiWZmxorwTe2\n",
       "pP1ivgf6aONlSWMpFMTQsCbXNfipFoV5RgcftOOh1xth/ybaW5XsPA/6aAWqilIHMTSsqZXY/GTX\n",
       "SqbohULBE6iD0oxU9NGoNaERQAwNa3o+Nj+Ti6wqx5r0QSvpo0VmiDR2OVUsfmaWWFUNQ7o6c6hb\n",
       "Hy0qQ6QR6vBEbH7CWU4VoyitFvLTGmlnm80SphHqXDU+P0/XWFWM7KRsb24V9NEiMkQaoT4K8fk5\n",
       "VGdVMcbbpaXHOuijRWSINKzmpRj9TJdZVQyff2Z5EPTRIjJEGlb8Xzyx+JlcZlUxHvLJSkUfjWfg\n",
       "CVorfl5WoWFNT8fop3mVVcVmgU9jZnxCH01g2BO0aHbMmJ1WoBHqUClGP2EXrbN3kUEbeybPL3Lz\n",
       "Pt2DSYpWvPidu7A3ztxhNNou7r09qp61x9OC/MQ0Qj0Ncfo5Xve0WLkh3dGDBk1K9kxe6EnCPbVO\n",
       "feDfLSP3pxDsEJ47jEazd3tX2J6gVfCTzhCTpnj8LE56moSjBr7TuoN+9GK334H/UNRSto7rGXfu\n",
       "MBoNMagrjCZoVfzczWlqOlY/4Q1ayT3pzOT5FVG+/2tVqFM0b6LKnTuMSHuDucJoglbBT0wj1KG+\n",
       "eP3Ev5iE1JjMgHM3uDN58mjxtZr8ZBKiHYSK87zjucOINDtl3hWuptp7Rh+10hboJ6YR6iaI189c\n",
       "meiBXDmFU+/O5EnjM/5dl5OEmpk8SRb5oblDiExDKfOusDNBG3p/YhrW5Asx+4nWV7ia+tcp/BsI\n",
       "ZCZP9kidCejs1Qltz5dmsVNo7rAJ2lH6CjsTtGF+YhqhHqgG+6n/9wCPV1kN71MFjEGa/wR9tONV\n",
       "6go7E7TIz8zJq/UwGqE+4L73+T3Ax/X/HmCmympoPB508NugjyZhZBVpWE23NjL6+++F/4fYY9jA\n",
       "uf8DGm4WBqWfYE4AAAAASUVORK5CYII=\n",
       "\" style=\"display:inline;vertical-align:middle;\" /></a><br>(see <a class=\"ProveItLink\" href=\"../../../__pv_it/theorems/7beee838a8e473ef4e531cb937860bd8018889690/dependencies.ipynb\">dependencies</a>)<br>"
      ],
      "text/plain": [
       "<IPython.core.display.HTML object>"
      ]
     },
     "metadata": {},
     "output_type": "display_data"
    }
   ],
   "source": [
    "%proving sum_split_general"
   ]
  },
  {
   "cell_type": "code",
   "execution_count": null,
   "metadata": {},
   "outputs": [],
   "source": []
  }
 ],
 "metadata": {
  "kernelspec": {
   "display_name": "Python 3",
   "language": "python",
   "name": "python3"
  }
 },
 "nbformat": 4,
 "nbformat_minor": 0
}