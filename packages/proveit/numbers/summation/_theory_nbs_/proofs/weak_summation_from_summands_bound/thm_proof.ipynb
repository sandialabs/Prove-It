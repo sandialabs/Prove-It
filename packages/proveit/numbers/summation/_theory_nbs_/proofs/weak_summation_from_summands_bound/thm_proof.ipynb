{
 "cells": [
  {
   "cell_type": "markdown",
   "metadata": {},
   "source": [
    "Proof of <a class=\"ProveItLink\" href=\"../../../../../_theory_nbs_/theory.ipynb\">proveit</a>.<a class=\"ProveItLink\" href=\"../../../../_theory_nbs_/theory.ipynb\">numbers</a>.<a class=\"ProveItLink\" href=\"../../theory.ipynb\">summation</a>.<a class=\"ProveItLink\" href=\"../../theorems.ipynb#weak_summation_from_summands_bound\">weak_summation_from_summands_bound</a> theorem\n",
    "========"
   ]
  },
  {
   "cell_type": "code",
   "execution_count": 1,
   "metadata": {},
   "outputs": [],
   "source": [
    "import proveit\n",
    "theory = proveit.Theory() # the theorem's theory"
   ]
  },
  {
   "cell_type": "code",
   "execution_count": 2,
   "metadata": {},
   "outputs": [
    {
     "data": {
      "text/html": [
       "With these <a href=\"allowed_presumptions.txt\">allowed</a>/<a href=\"disallowed_presumptions.txt\">disallowed</a> theorem/theory presumptions (e.g., to avoid circular dependencies), we begin our proof of<br><strong id=\"weak_summation_from_summands_bound\">weak_summation_from_summands_bound:</strong> <a class=\"ProveItLink\" href=\"../../../__pv_it/theorems/60ea157c525ecba7de199e94b98a02bb5aa9d45e0/expr.ipynb\"><img src=\"data:image/png;base64,iVBORw0KGgoAAAANSUhEUgAAAj8AAAA/BAMAAAD9HbQtAAAAMFBMVEX///8AAAAAAAAAAAAAAAAA\n",
       "AAAAAAAAAAAAAAAAAAAAAAAAAAAAAAAAAAAAAAAAAAAv3aB7AAAAD3RSTlMAq1RmmUTNIjK7EInv\n",
       "3XZ/CtNrAAAACXBIWXMAAA7EAAAOxAGVKw4bAAAKfUlEQVR42sWce2wcRxnAv7vbvcfey6hSoaqU\n",
       "nARKJfrwCaJKQVV8KKVEhOasVvdPqGoXqtIGIV9QQURq40WiQoiHTaEKB1VyQTRSlZQ7CqVUfcQ0\n",
       "lJZAEoumEJo6vrSCFFHhi93UjhO8zMzO3Mw+Zj05VcxK45u1v/3mm9/OfPPN4wygcm0FPZfRARhx\n",
       "nGk16aTjzIf8WlnBmOOUAPY33Ttru7qdhVFNgP6J61er2WrS6VotFJCqgodqIwhQYZLe/kvdzpG6\n",
       "Hj7mIi78cp54Mcx69cdzCBD8lN5k2qqPWYc1NaCDZR2ADpZotV9U9gS6etgtoANQ/Ai9u66p+NiE\n",
       "rYdPekkLIDhB7/IVxcfu0tSAkgN6AA1SlxtfVHtKVe59v1xD//+Akmwcu0/tqfykJkB/Bz2A4kvs\n",
       "Dan5lomSJhc0rwkQ/J7dqjmhtZoaUKyrC1CVDd9dpSjoXU2AWhVdgEbKNFBdUHkosaQJ0JCtC1CO\n",
       "BX5/UHko09UEaC/oAmSwcbuqMscq6hrELmgDFGdda7CsMlNt6+FjXtQGKHWO3o8PKDxUHdYDyDiv\n",
       "DRD8md1PKTw01tQDKLnM6zfm8GulH0CKChigvbTOmWUFQ/+ryQUVp3n9Bh13RLO+eub4pX4AKSpg\n",
       "gOboZ2F+dTtTFzQBGp/k9YvxRdPEbKkPQIoKGKBBGkLHFWLAuK44kRlJXMjsOe6bJvvxQWoKGKAJ\n",
       "KpJWaB0Ft8sWZqInbqlgtr6qcN1N4brnOkL9Jhw+4H7aL1nnpUkBRShIcZMYoBZtb5aCfzHcbphd\n",
       "ZSx7M5i9c1XhO2kKVV4tCfUrOHzNJeF/hSVemhRQhAJijdkRARVZcOwAkJH+wxGB9BIFFCMdThI5\n",
       "xdti1noUv4FCQPbxo0EJnEIB7bXFUXqv/F1eC/D8Ei1NPswHFXBrsrM2vCUCyrPRa7YJn8KfX4wY\n",
       "bRcpIAPXIinpN/u92STxH8LGUtwt4e4Qie0SQGN1sX4HHdnSg4UmTokuLU0ERMuUK+DWDCGDmgKg\n",
       "5CI34hu4A0b4vdwyBZTGbW2nRGqTN1skBa3njfqEG1jMh0islwA63hTrZzqyEdcou9sK632AWJly\n",
       "BdyaW5B4RQCUOc+a8TAhl40YOWl3RHXAr+hJidSUNztCbMuxELNwys2ZyyESKAmAftLLOd5A+NAl\n",
       "ScCaw12iQ0vjgFiZcgWCNadROiIAijGYa0uQQC8gCSqAPo4+RiUuaNSbfc5tqNQJHThN/5adDpFA\n",
       "SQD0bRmgpCMpex2OmWxaWg9Qr0y5Am5NCvvZL0gAwdGZmT8pAcrNzLwhmbga+Pc7XtjFsnfBtZ9B\n",
       "z7hTvZ+/2vNna86UAhIoCYASbQkg6/hFf7Bw9Vk89GxxfYhbGgPEy5Qr4NZgFwa/FAAZbDpfRdQ3\n",
       "i+06ZF2vB8iwISNp5vjtmS+TKQzOWgvxaw6jcskr2/d5rmu7tRiQQIkAMmbIxeJSyweoN1voXXfU\n",
       "yVQJv/mrgJZGAQllyhVwa2LYB98oA7QDUr1JfZpudHzuPxuZstYUA4TEdiA7eNvlUvkS2Se+lWbj\n",
       "i7el0RASJ4/GuLGDTTgWkEBJdNJxKm5d8tXPcI54R6/DYOBO8heUjgEtjQKKhQHyK+DW5HBLvE4A\n",
       "lGUT2kPoL5mmYN/VrpEdmIAAINTQnkK5lzDIM41hUSo3TFa6T9GscZiAS7uN7/5ec0eDxcWABEqe\n",
       "UWz/S+GAYNY7DTe6kG+79qQXWWmsi93/ashyh08Bt2YCRxQTMkDxjuCjX2EDQywE0A3YR6ewHTfb\n",
       "Xilcyh/BOk+z+bs3k2FiyucwT4E5H5AwvS0o9aW6BNC495RPbhJawy6gwhQrLcJJBxRwa94hPVYG\n",
       "CEY3YoUbn8ZvYeUM9jLFMp9bcScNyQQST0zuartRqyCF2qm14vo63GRbpRFMMD7tG3LnwVgOSKAk\n",
       "+qC/1sOdNKqGN0htdYhvxl0sM9CkpUUM8wEF3JofWOj2epkPgidRgGP9jTTTwuuFCpm4/DBkFIPs\n",
       "OlRm7OxHX37cNYFLZTpgzUNs9BqShaFmq0RY+oK2JXKgxSeBktCCzEnJKAamb3elVYIr46jKe/Cr\n",
       "atPS5IFiUAG3ZiGLbjdIAT2AfLRRSeMWmim7I8/PqgMhgFK/wzreBPt2909cCg+xe+D6SsXNXgkt\n",
       "u03Hc+p678U/r4AfQUACJQHQ12RxUGCDN9OJnzDc4bm4rUNL80w17o1WwK05/wsaLoTGQRCzcU8s\n",
       "4MrmbAN/NMHs7fXkOCD4EO7IyP/c2Gg0SqJUGjXvff/+1hrbzT4Mha3o9eX9M4h9vy5DQAIlAdCP\n",
       "+VTDF8Yc88/B1vx2x9vo83uoseDKkdIi1qQDCrg16zHb16SASHutZz6BDC4SEbMkzM7yy97ljg3m\n",
       "dP07pMWKUid5uTz7oCS08ko86JmLcTcx6+0hSdlkNW8LpUUAkimg1qSmxbnYkm9JAXL1idubByDf\n",
       "3AAHALWiWD2w3EHv16Sn2yRe9EjxeamQ3SSpkldik9JyBzRkkWyiIpQWAagRbQ2e8/LlDjabn2U1\n",
       "NDfd8Cv4bim9tYN+Gt/c8rR/96VXh91whZ3CHcEjlakHs7R9PUEGp5Oi9xAlcApfMBsW62e8zn2L\n",
       "T3C3UBoF5ClzFQXUmp3ielCu6+vn9CoJP3vD5ULIiuKBRsNbJ2symM3I1lw9EjiFApori/W7iSv7\n",
       "mH/hSyhN3oKkCqg1uz0rimx1wrsDYjb5T96C3SledpU16V3B7NlVhc+6qfBGGKChtlA/YYiOT/kn\n",
       "rR1emhRQhAJiTaEuAmIhZcq7DJkIW7E1z2na1RgZEOo33mvWVrXSz66GmgIGiJWtUnnrPU2AWqO8\n",
       "fnyI/spax+4DkKICBmiI7qgkVhQMndUEKN/l9Uu+dw+5Zo47TuROjAyQogIGqEoZGipno6qavofA\n",
       "Dung+lWFrfWFfgApKmCAxtg6l8rZqKGyHkCJBd9cU+V6n053sEZWVPma0HhFD6DUu9oApdni7ITK\n",
       "2ajctCYndFQboAJzPXO2wkPZZU2ADjV1AcqwSOlRpaa+ognQeEcXoBYNgyy1GPAeTYCSo7oA0QPI\n",
       "qieghzSN84lFXr99bLw1X3jr7X4Cxd7XBYQNGymgL7NXpOZ+W5qOuVoXOSC8//n9qx7BGwfpbj8t\n",
       "aF1wK0YKKMUipXG1CMeY0tTHPsvrZ7TBIPsgU/TAzuUC2hLcipECyrJXcEjxTery0q1Or375YfcA\n",
       "DyxEnVyLAPQaBLZipIBancus+DuaAJHtLrd+LbZsM3eh3I+TtroQ2IqRArqVdR3VCDDf0UTotOBC\n",
       "TBeM9ZFz/QBCPiywFSMDlGKHg8ZVj9Cbur6TSb6vT11I4r5G42GwVhm1ZYCQDwtsxcgAxRjBDygb\n",
       "+htNgLKjPRfSTJOx9Db5IbdIQPltENyKkQC6qUnDjCPKhmZ09bE9DFC3457R+STAB/sBVCxAcCsm\n",
       "HFDqFXrzgK1sp3VSE6AnbPq/SbYOw05s7+abn5XXL+Kfmxj/gOBWjP9y/7kJOxdHDh6pXl/XBCiF\n",
       "oDxG/zeJ9UzjkWjpdK22LeTXTEFgK8Z/PVSroVb2GGsVrvD/AAhtxVGdM1CYAAAAAElFTkSuQmCC\n",
       "\" style=\"display:inline;vertical-align:middle;\" /></a><br>(see <a class=\"ProveItLink\" href=\"../../../__pv_it/theorems/83a3cd6a58e0c96edba9fcdee0705c3502f779780/dependencies.ipynb\">dependencies</a>)<br>"
      ],
      "text/plain": [
       "<IPython.core.display.HTML object>"
      ]
     },
     "metadata": {},
     "output_type": "display_data"
    }
   ],
   "source": [
    "%proving weak_summation_from_summands_bound"
   ]
  },
  {
   "cell_type": "code",
   "execution_count": null,
   "metadata": {},
   "outputs": [],
   "source": []
  }
 ],
 "metadata": {
  "kernelspec": {
   "display_name": "Python 3",
   "language": "python",
   "name": "python3"
  }
 },
 "nbformat": 4,
 "nbformat_minor": 0
}