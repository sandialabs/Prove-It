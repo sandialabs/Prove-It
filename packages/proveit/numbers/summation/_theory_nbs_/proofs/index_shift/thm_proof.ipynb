{
 "cells": [
  {
   "cell_type": "markdown",
   "metadata": {},
   "source": [
    "Proof of <a class=\"ProveItLink\" href=\"../../../../../_theory_nbs_/theory.ipynb\">proveit</a>.<a class=\"ProveItLink\" href=\"../../../../_theory_nbs_/theory.ipynb\">numbers</a>.<a class=\"ProveItLink\" href=\"../../theory.ipynb\">summation</a>.<a class=\"ProveItLink\" href=\"../../theorems.ipynb#index_shift\">index_shift</a> theorem\n",
    "========"
   ]
  },
  {
   "cell_type": "code",
   "execution_count": 1,
   "metadata": {},
   "outputs": [],
   "source": [
    "import proveit\n",
    "theory = proveit.Theory() # the theorem's theory"
   ]
  },
  {
   "cell_type": "code",
   "execution_count": 2,
   "metadata": {},
   "outputs": [
    {
     "data": {
      "text/html": [
       "With these <a href=\"allowed_presumptions.txt\">allowed</a>/<a href=\"disallowed_presumptions.txt\">disallowed</a> theorem/theory presumptions (e.g., to avoid circular dependencies), we begin our proof of<br><strong id=\"index_shift\">index_shift:</strong> <a class=\"ProveItLink\" href=\"../../../__pv_it/theorems/b562c3404b22b3852eacfa4aa9f7e0915cd10c720/expr.ipynb\"><img src=\"data:image/png;base64,iVBORw0KGgoAAAANSUhEUgAAAdMAAAA/BAMAAABJIT/TAAAAMFBMVEX///8AAAAAAAAAAAAAAAAA\n",
       "AAAAAAAAAAAAAAAAAAAAAAAAAAAAAAAAAAAAAAAAAAAv3aB7AAAAD3RSTlMAq1RmmUTNIjK7EInv\n",
       "3XZ/CtNrAAAACXBIWXMAAA7EAAAOxAGVKw4bAAAJsUlEQVRo3q1bbWwcxRl+7dv72vtwov4qRM1F\n",
       "rRASCF9pSwVq46uSlkYlsQVYAiHha1NRgYR8parUHyk+UOmP4spXRf24NkruR0Qb8mETEEhE4FMQ\n",
       "nxWxQaoaUoLPJS2CUMdJSGxM8HZnZ2ZnZ3Zmd289I/me8+zuPPvszLzvO+/sAfhK0rI+h67KDgHD\n",
       "ivlAwEGjA2sulMAlGrWskuS85KXhu7pquFjlEX7dCLniw4Bj/yWYuX8NWj8U8LHhEanUxS7bHanx\n",
       "CD1TIVdk1Sckl+i3q50+jieVEjCivA6p5ks82s3Wwy45rjx0qEy/vebca8wRfFwk0iLVqPIIMLFw\n",
       "Vcg117dUR75Hv2RW51tEau79rucvJXCJtEidqPMI8L/WmZBrChXFgcyyawFOFStE6j8y7W6lUgKX\n",
       "SIvUHwoIsBtuCrmmd0lxILXOnW7lRBVLNRpmvVuplMAl0iHV1yiaZd8Ju0plXvtrbMIb67Y19zSb\n",
       "5fxQjNl6v4A6pBYaPNplEY6HXdWv6Kd33G99zt2hXu2rxZBKCSjqkDpR4tEupxJhjhXy8smaucAe\n",
       "YetmYoFTQzDVtVRK4KIGqRsFtMuvFsLNtpykh1VndnSI1PSWza2upVICihqkmp/wGLEkL0qrJ8XO\n",
       "julXGQFFDVITyzxGLa9IawfEKWzEleoSvKJNanaRx6hlUGpr9oG2QgkIapDa1+AxsoUsy2o/1SeV\n",
       "EhDUIHVkiseoZWydjPozfVIpAUENUgeHeIzsDGSxnnFJn1RKQFCD1NGWF+0lsFtWg+f4iiwsZJUp\n",
       "T0tWnNU6JSCoQernHPZb2ISaP5+fuRK8nr8gm/izLN60iEn/670brHYMqZSA4Nqlpj/lsMdybzYx\n",
       "VwoMnWV+eMxj2zayrM+3L8SQSgkIrl2q0CDMnWcTL9AmZ2TGtt8TQRQsZri2xZBKCQiuXWpxlccJ\n",
       "izmRW/n+J0jcnSlL1Z3zTMqMxQIqQ+KElWsAgYDg2qUaF3gsWmwtl+DO/DfBewlaMnPuvZ9zFlPj\n",
       "d8JF5fQQCSwq1RklXxal+mtVdm6ZR9jn6y3jGDLOvdTvFsltz0lC+H3euDDL5r2kvevUA00gwGhL\n",
       "/S7Cn4hS/bWqrMESj3DIEiP2p8ZRBzzh/k9ys6OSEcjVmTPyFYTTnllV35NAgNGW+giaRg1Rqr9W\n",
       "5ahXeISkJZrL43ejx7rF/f/rpAclMccM19Mj0jQ1bs8oq+9JIMBoS03Z1+VKolR/rSoEXuQRYPoK\n",
       "PzKT+CEw15jHxzdKmufnb856Q2ZKnPbyQY+fJ8BoS03YjyflM0v+2shSUxY/tnLOjOtllalyRKkw\n",
       "elnCiNu7JmhSleVS4c3Tp//ut8C+2shSzRkuZk9seAtNXsO2SubCVY8fte8V+8vBcqjUQ5Z/DUHa\n",
       "+4H9d2T+b8fE5/Xi+3WRACOS+n2AP/ul+moVZXKRR09wSB9Ghz5pA+Y72+2brXrvZPtpVN7CT0mQ\n",
       "6gaH/vZ22n+V4pcMwUj/smQHLjyBR+pPIY2egrm17JVKarEz5zOZPa8/8xfXyk62eUQdyE+xMUd4\n",
       "wWb6Jgy0vmALwKdO+2N4UwybB6/4PRJu7237kdUSKz3C0PgX5DsiAUYn/djKIROV/UbdK5XU4nI1\n",
       "C2Hmm0OFWu5IK0AqzHFrmn5sKuzW6niXIrMYWWpBsqbB7b1st0O3Tp5wBsZJ9JRXJARMam/HsT99\n",
       "LW4Ak1pcXnO/ba2jIOjRn0GQ1DFuVL3gSgU44bQfvVfTkujxBSoVUA8KtrchIWBSoboZSdtwlA8M\n",
       "ndqDm58DulGENolIIFKpBJglgI+54OB3QAcw2lB80qaaVc1VX7BYfNUvFbf3tuN4ayY/wCcdVTyB\n",
       "Z67CUSe6uFmIgVGt+c8MCoLwRhHaJDqAjeBD9SCpSd6WnMBRXgfM3/e0Ue6a5MMjWGAYqfvPwe3t\n",
       "BTgwtAFygsmy2xwSCTxSdzn2Z6sgFdUaFWcLDG8UoU2iO5wTjuSCnI03zY/GIM6h2A6gd3l/O1nC\n",
       "fieaX81I1qmkvafsSfub2+B2ITxuQK4uEjC/Cj3Oo9stSEW1+aEiegxoowjPtpuazWYJpp5H45DM\n",
       "jkUe7aFwgncY+EBmFswdna/ciMbykFLqjOBXJYkW0t5vAfYv9G4R2zj2tY98BB6poulhi7jJWvaW\n",
       "Ft0oQptEjzvHry3D866NXOHR9qB8uG8Qn3WS+T7JKgakq50fy9Y1uL1CXe3rBQKMTKq5IpGar03c\n",
       "0TrobBQddDaJso55MiA5q1zEQZOj3ZQqcTE4C/znaiGLOMhK1hu0vURFLVUgmKvxUj370kxqcssN\n",
       "T8N4CW0UjZfQJlH6T3btV9ef/cM6MZ3ppjWNU2ys2X/v0MVbliqjC6aZgEwrLttZH7v36bb3R3W6\n",
       "SyCYEbIQnqckZiFKns+DzSa/9ipe5BG+xToLTczNNOtiNgTNsoTiOa9VTjBPk3Dv023vgDpbIBBc\n",
       "4aVmN9VVUpMt9ukvic949HiaXj6l+TDBD9TRAQxMyT3N9ZK+U+aGBYK0kFvKLShzSwlJnshz8nke\n",
       "x9jsH6wErROS5yWVI57djTTzNPu729CU3tna02jmZQ6Zp3loo1UPujAhS/5PViWeJr3JWo4hlRIQ\n",
       "1JDdn+Mwdfk+p5yeCXtR0ZDdfsFDPYpbevBdy1Lk0yASAUEd21PcNuagZ6PlYnD+TcZiLHmWgp5S\n",
       "jiGVEhDUIHWgzGPU0ifrqcRF0FYoAUENUscqPEYtE7L92PQn+qRSAoIapOZneYxazkmN1pv6pFIC\n",
       "ghqk5lZ4jFr2SGunW9qk7uFRg9T0Ko9RndR5+XTo6FJKCSjqeEXrPgEjej25q0xVdUkVXzLSIXWg\n",
       "xmNEVyCf2gn5G6Ux3l6iBBR1SJ2c4jGi4Zb7JlP+ikuMd9IoAUUdUo22B4tnHnaXMk+fDejnaUX9\n",
       "behj4dYz9FKcyIvxrve0gDqkmqse/KCn8SOjaZfdcLg2UQu9yD9GbDnF2hdTpW2olTJJ5HX/rjd3\n",
       "V7qkwsceLGc71F9uhfGAoaDywsU2WkXtzdDzSCIPun3XmxK4RFqkFjoeZK8pvwzzATNJ+ULXe+jD\n",
       "NU5OIi/Ou96UwCXSIpX+MsbBcajhAWwuwe4nldesVx5BP9bJtNOABzBJ5HX/rvd6kUiLVHjWxXT7\n",
       "WaCx8KuZS7cond4b6uirCrtyVcObyIvxrjclYER6pGY7Lu64Z4GGdnfeeFa52NkVMOv2gvGfFz/y\n",
       "JvJivOtNCRiRXGq3P/8zT/IYXnYGHDtc1+BXdwqo+PmfOdzlz//gFwKGPpsgC5Ourz1aogQu0WPD\n",
       "w63/A0Aibd5CAChbAAAAAElFTkSuQmCC\n",
       "\" style=\"display:inline;vertical-align:middle;\" /></a><br>(see <a class=\"ProveItLink\" href=\"../../../__pv_it/theorems/801345abebec5b7a87c8c43e135db82a524e0bc20/dependencies.ipynb\">dependencies</a>)<br>"
      ],
      "text/plain": [
       "<IPython.core.display.HTML object>"
      ]
     },
     "metadata": {},
     "output_type": "display_data"
    }
   ],
   "source": [
    "%proving index_shift"
   ]
  },
  {
   "cell_type": "code",
   "execution_count": null,
   "metadata": {},
   "outputs": [],
   "source": []
  }
 ],
 "metadata": {
  "kernelspec": {
   "display_name": "Python 3",
   "language": "python",
   "name": "python3"
  }
 },
 "nbformat": 4,
 "nbformat_minor": 0
}