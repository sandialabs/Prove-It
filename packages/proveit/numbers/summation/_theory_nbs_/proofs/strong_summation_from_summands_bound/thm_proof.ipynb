{
 "cells": [
  {
   "cell_type": "markdown",
   "metadata": {},
   "source": [
    "Proof of <a class=\"ProveItLink\" href=\"../../../../../_theory_nbs_/theory.ipynb\">proveit</a>.<a class=\"ProveItLink\" href=\"../../../../_theory_nbs_/theory.ipynb\">numbers</a>.<a class=\"ProveItLink\" href=\"../../theory.ipynb\">summation</a>.<a class=\"ProveItLink\" href=\"../../theorems.ipynb#strong_summation_from_summands_bound\">strong_summation_from_summands_bound</a> theorem\n",
    "========"
   ]
  },
  {
   "cell_type": "code",
   "execution_count": 1,
   "metadata": {},
   "outputs": [],
   "source": [
    "import proveit\n",
    "theory = proveit.Theory() # the theorem's theory"
   ]
  },
  {
   "cell_type": "code",
   "execution_count": 2,
   "metadata": {},
   "outputs": [
    {
     "data": {
      "text/html": [
       "With these <a href=\"allowed_presumptions.txt\">allowed</a>/<a href=\"disallowed_presumptions.txt\">disallowed</a> theorem/theory presumptions (e.g., to avoid circular dependencies), we begin our proof of<br><strong id=\"strong_summation_from_summands_bound\">strong_summation_from_summands_bound:</strong> <a class=\"ProveItLink\" href=\"../../../__pv_it/theorems/9f6ea385f13fd1dc55d1d1d3a4537aec305671ce0/expr.ipynb\"><img src=\"data:image/png;base64,iVBORw0KGgoAAAANSUhEUgAAAnsAAAA/BAMAAABqTBP3AAAAMFBMVEX///8AAAAAAAAAAAAAAAAA\n",
       "AAAAAAAAAAAAAAAAAAAAAAAAAAAAAAAAAAAAAAAAAAAv3aB7AAAAD3RSTlMAq1RmmUTNIjK7EInv\n",
       "3XZ/CtNrAAAACXBIWXMAAA7EAAAOxAGVKw4bAAALIUlEQVR42sVce2wcRxn/fLv3Wp/PjioBVVFy\n",
       "PJRKUOIT5A/KI3aVUlKS1FeQJRpQYpGIKBHIF0SRKiW5Q0LwD2ATWkVByL4gHooS6qMUFYRITBEE\n",
       "ilJb0PJoYvvSAmmhqp1z0jhO4mWeOzP78D12lRlp79vd+775zfx25ptvZvYOIHwya6AlYdy4bd9q\n",
       "Tjth23Wf27tse7oFe2s/veIygvQfPewR3PjVwU83p50aHPSlb3Cw3Ir9a+zytahqEb+mhz2CG19o\n",
       "weJZP/patE9X6TmXodOpvB76CO5tp89imVjPRlSNBzT1XYJ72+mDeyr0gsuQKbWkhz2Ke/vp6+qn\n",
       "F1yGTIkePfRR3NtPX4y5+lg0Lr+3qIc+inv76YN97GpfJNX4pybXR3E10NfLAp3ecgS1SNU1ub66\n",
       "LvoyzOllonB+HQt66GO4GugzGaQZRc0n+vXQx3A10BdfBEWGSn1lPfQxXA30wR9AlWHSuKaRg+Hq\n",
       "oG+gqMow6bom+q7ro683r8ow8/YbmtYLbuijr9SjyhDJvKqHPo6rg77MpCrDTJ2WNU3ZlgV9CVtK\n",
       "tTboG5bsVxrbp5dVGSJ1T+uhj+Ni+mI2W7X4yc6325Nt0Ndr02HcevTi1M3G9tm6KkOk0qge+jgu\n",
       "6bzrxHr9R+tt0Nch1uuNuVxD+9gVVYaZuGuKmjkuoa/LFk78wXZ839xl4VRHG9qnrqsyRJonviY7\n",
       "s3rwnJTOi4pYRblID/+852sSfSlbTABMd8ZFgRZI34gtYpCPN7S3bqkyRBogbb2zsLrWy+I0yzrH\n",
       "zobKO9nhm/lATh55521BmisYo3g7V6cva4vFO6OxvS0kafbvaj/4L1P6OogzCIgjY9K2ynsBTpzD\n",
       "xfLokttU2dHAhy9942WZvnTwZiPC65wrU7TgwGX8VkBpsP1vlkC1n6s48mNY7m2bvuEipc/EdUwE\n",
       "9Mgfi1NrCH3swWfejdI9QtnR2B9A33BRps+aCvLiBK+PoQXTd8ru9y8NtjcWXPYcHMmvYm/T/vA5\n",
       "VaH0pXArfixAabMU7uLHSEbHjR61ulB2NDYG0DdVUcLmXXbAgEnwHmBowfTFvVvodcfeHHLZjxcc\n",
       "mUDl6My1TR91A6iG+PE8FaAkxWIZXFYSbmYqonOT1k9vE2WhgQ6JvnQFXO6H0ddpP+cPjfFglqHJ\n",
       "9MX2KrOOMzcrrlnhsmPfVXPZr8s50kD0JiA8fR9AYijA9Un312NtQmfCcX7GC7QJTzvKQgMdEn2p\n",
       "0QD6YPhNf2yMl1xiaBJ9DNOhL2G7Ck9LQ+xLZZe9RB+cm5n5cwT0ZWZmLgRsvJv4/oHTh/H5VlzU\n",
       "ntjTqFHxWC17ntYksfZijikLDXTInffDQfSdsl3gybsu1Rge9l0ETdDHMR36rCnX2gctDbHvA5f9\n",
       "QF7ILQDfa5s9y6HPLEtdy1UShBI/C+P4693omMi/82AeDPa4T84ytYn91jX2mIUGOih922dwmutX\n",
       "cAV9zsSNp88WyZQU43WMAkVz6HMwxZIBn7iBUhpifye47GX6DkAyaOHFlD6FVOi7yelDmRxAKKJc\n",
       "8dOvvErPunLkjYrt+PwvuKSP5r5ehBj1iF/+qzORqMDzVFnSQIcydKzPybjSisuA6rys34E5zfAy\n",
       "NaBovPoCU9BnurwnLQ2xx1KxP1MTMl0R5UuxvcvPvLEJP4s09dfsRtpxC6erXvpQE/4FOvs9vvz2\n",
       "nU8AbIAUq1oGfTsAcB7Y99s+SLDItx2fcwqMxscbVFnSQIdCn/WFgj99Xepai7kAXVWGN1JkaKz6\n",
       "Eqa0YDWnrrXQ0mD71DVQ7RX6YjVp5LiL9oQajIBMH7mRBos+4E3wiA99G/DIkcQo5hY2gvYI+v4E\n",
       "1lVO39/ux88mPumqynmI1xl9QiPuan1feSag9SXVwDczChMFhvc6R1uVvpIaedPSYPvspMteoQ+G\n",
       "NgmjP/LRukOhj9xIQ/LxIlXqLnqGDkgYKDNj9HAVXiH3Fp15LeqP1gpx4KQzWPU49lOxaVdHqoO5\n",
       "TDuvpIEO2ffN7A0YOiB7VnVdNeLxSef7jsXQVuu88HrRFfbh0mD7dE/FZS/7PngKh2wnN+HHmlq5\n",
       "iBtYd57O2x36yA0kU2sQRnIZMjkvfZ3rkWnHpfectWh0MX+dRybpGiIEOobuRudjiOJlq57FTLvc\n",
       "+BJ55SxdUzTQIbe+R4JGXtjl8vw5eEusSPBgsZOhrTZ0xF1DDy0Ntu/OV132Cn0HUR+z/k56ePal\n",
       "bD+ZQX8XFPrIDXyVvK8MqWXoynvpS/4Wt9uXoRynX1rv5qtAeNAfg/f146x/higespY6WYSC05Oz\n",
       "1CfcAY8zZUkDHRJ9yaEg+twvO6RrsRdMigdXn2RoInDhmIK+EdfUgZYG23fvqLns5bgPOtBzM/tT\n",
       "uHOn8zSc+MFAj0IfuUGurAcLiL6M46anHPrgbdiBIKdl7Dt27AhYomQp1PCP/+8ba3H7+BbKLwf/\n",
       "+i/qpQ4rBg3Cjj+dZ8qSBjrkWUdZxZXiPtcivbX2lwdepXiwscrQ5LD5vBo2W8+7YgpaGmxv4NhP\n",
       "sVfoo949iwnLlE0sKnwhg9NHbtAr4yzqvN3Oo5qrKAtW98aniynSrD4pTYH/IUrV5RBwSKqLvGQh\n",
       "lA/RQ259AK5FD07fnoDYi+Mdcs95DXXSluhvwZ4v93AJE8X0h1CBuolXi+fYIgKnj94gV7Exdejg\n",
       "C1bscm1qukqj8PsA3sqVpNUBo99nHUFJG5WVhs1NLVhBOmjRg+NtXn3JAI61Yj9XVCVkiiOfqpyE\n",
       "rsq9cBJQC+woyvTRG/jKwFH4G/CwWLYsKPQdhTvK8Biu2pb7f+1wnJYGtaO8IQVV2FHGGvjwXy4t\n",
       "KPRtFzGzy4cdldCC6TNfEjP0xvZTLgnxzRt+Dt/MpR6qoU/za1ufUYYOegMPIUdo2PwJsWie9642\n",
       "W7869oTqiCSqTvhQ6q+MNfDhS998XqbPEFGL4aLvhIQWTN9HRGne39j+pksqD07gp6VPLFNHPOh9\n",
       "xNF1NtjrOCxN5ZmPv9RQ+RI9shf86OuryvRJUcs97p2TmkALpE+KWmKTDe15hO6K1OMV8elLnx+6\n",
       "pjebOS6hLymilh9eaWenreQ0GWugv6F9/LIqlU0SaaukCfomhvTQx3EJfU7UknyHvdQGfSJq+dI6\n",
       "u9zQ3lhRZVBKKtFC0ndg1/RyKccl9A1/nqQvXrBX/4FaEH2JN2kGM1Or/0KO2ZtLqgyRTE2/yOK4\n",
       "mD5Tfscl3wZ9A5L9YmP7xIIqQyRjUQ99HFfHG1b8/ZoI3u9JXtFDH8fVQd9IVZVh0jk99HFcHfTN\n",
       "l1UZJp2p6KGP4eqg7/ugyjCpVNNDH8PVQJ/Fwj3rcgTVSGgK/BiuBvoMFq8YUfyU1NAUuTBcQt9x\n",
       "zqHY3WstbF4HTWVA7RNswE1E8WKtpenVeoZL6MNvJrh291prffhdgiYyoPYlFlqWIvkV/TZNQ+82\n",
       "QZ9Z9ezutUbfVmgqA2p/hg9e0cw+NY0dFJe+nFvw7O61Rt+L0FQGxN5iM11rJZJqZCf10EdxCX0T\n",
       "4Nnda833LTSXAbE3mcszI/pNwaym3jvr0LcePLt7LdGHfGdTGRD7Elt+LBWiqcYuTb/GJ7iEvq3e\n",
       "3b2W6EO+s6kMiP0adrEmomp0aor8CC6h78WKd3evFfq6dkBTGWB7g71JZDwXVT3GNPXeMU7fQs27\n",
       "u9cKfd1ZaCoDbH+QTXQPlqOqxk/LeujDuOQvwB4qeHf3vNOU4L8AM/8NjTNg9rvZ5e7oFo800Ydx\n",
       "rUH6F2Ce3T1PSg0O7vC5/SP2F2ANM6D2FhswmPw/8uogbL7wG34AAAAASUVORK5CYII=\n",
       "\" style=\"display:inline;vertical-align:middle;\" /></a><br>(see <a class=\"ProveItLink\" href=\"../../../__pv_it/theorems/109528a6e0e1ca35fcd861bc09cc0fd04b1fb5e80/dependencies.ipynb\">dependencies</a>)<br>"
      ],
      "text/plain": [
       "<IPython.core.display.HTML object>"
      ]
     },
     "metadata": {},
     "output_type": "display_data"
    }
   ],
   "source": [
    "%proving strong_summation_from_summands_bound"
   ]
  },
  {
   "cell_type": "code",
   "execution_count": null,
   "metadata": {},
   "outputs": [],
   "source": []
  }
 ],
 "metadata": {
  "kernelspec": {
   "display_name": "Python 3",
   "language": "python",
   "name": "python3"
  }
 },
 "nbformat": 4,
 "nbformat_minor": 0
}