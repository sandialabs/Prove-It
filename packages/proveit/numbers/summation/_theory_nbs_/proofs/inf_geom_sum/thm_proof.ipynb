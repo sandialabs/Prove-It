{
 "cells": [
  {
   "cell_type": "markdown",
   "metadata": {},
   "source": [
    "Proof of <a class=\"ProveItLink\" href=\"../../../../../_theory_nbs_/theory.ipynb\">proveit</a>.<a class=\"ProveItLink\" href=\"../../../../_theory_nbs_/theory.ipynb\">numbers</a>.<a class=\"ProveItLink\" href=\"../../theory.ipynb\">summation</a>.<a class=\"ProveItLink\" href=\"../../theorems.ipynb#inf_geom_sum\">inf_geom_sum</a> theorem\n",
    "========"
   ]
  },
  {
   "cell_type": "code",
   "execution_count": 1,
   "metadata": {},
   "outputs": [],
   "source": [
    "import proveit\n",
    "theory = proveit.Theory() # the theorem's theory"
   ]
  },
  {
   "cell_type": "code",
   "execution_count": 2,
   "metadata": {},
   "outputs": [
    {
     "data": {
      "text/html": [
       "With these <a href=\"allowed_presumptions.txt\">allowed</a>/<a href=\"disallowed_presumptions.txt\">disallowed</a> theorem/theory presumptions (e.g., to avoid circular dependencies), we begin our proof of<br><strong id=\"inf_geom_sum\">inf_geom_sum:</strong> <a class=\"ProveItLink\" href=\"../../../__pv_it/theorems/9af26836fb65eb08c0ccee0f9787902548f757a50/expr.ipynb\"><img src=\"data:image/png;base64,iVBORw0KGgoAAAANSUhEUgAAAUEAAAA/BAMAAACMf2cHAAAAMFBMVEX///8AAAAAAAAAAAAAAAAA\n",
       "AAAAAAAAAAAAAAAAAAAAAAAAAAAAAAAAAAAAAAAAAAAv3aB7AAAAD3RSTlMAq1RmmUTNIjK7EInv\n",
       "3XZ/CtNrAAAACXBIWXMAAA7EAAAOxAGVKw4bAAAF9ElEQVRo3q1ZXWgcVRQ+2dnsbibJZoOCWCRd\n",
       "fyA+KF2KVlslDahtRWtSfLEguFJoiSCZir5ocKcPglBtolZ0NbRT2heNtqH0SSFdWxCNNIkKgkLs\n",
       "BmshVZukrc2aphnvzO7OzJm9M3dOZr+H/TKZL3e+nTnn3DMnAOEQLWL2gfwSbWmq3gMXXeyHWeLa\n",
       "s/Uw2LiI2RdNo7TFqXouvshghq5ekLtUj8d2hviYz9TB4RYXH7lrt3Kn+qyH+j6NtjpVz0GihBmK\n",
       "0HQ2BRGFL2/tpi1P1XMQS2EG9rD7NZDTfHlkkbY8Vc/BOgWz4XB4CBIegQh9xPX7Qjv81cVwL0Q7\n",
       "v9eOeX4j1X+9dzWaXhyGVzADSKe2wcgva7z+oMU3sORb+zWKPgAa5jGLdyCBcE6j6YU40Y1ZXOCv\n",
       "0hyK9EJsVjGL8S3NoUgvxGEXi9Gj0BwK9EL85+IA5SlDcyjQC6PqBuYAyKVoDgV6YWb+i7lft7Hi\n",
       "UW4KNIcCvXDPW8K8Ti9njPzazOSyR0O1RHMo0IvQNoW5QZ+yKvd5/tacvEJzKNALg2oIM5xfsCNg\n",
       "iN8LXKM5FOiFidmNGQZ1O/W28vdJ/7Q/rdD0IswVMUNSt9slydY98PDl1B8fl0P0pt+C7ZMvuqqL\n",
       "oTfT+e5VOexJY2alm2dAfvAsfAMz5QOdeA2mf8LgPavbUlTM7HVF5+zQ8eNZKMFTlVAlNvZMv89Y\n",
       "Y2hVDvsVzKx267zcaygmCvCTWxv4GjH2pZrTq3I4qWE2Qn2Zc49a1ORQfL58ow/3Ep9TL0gsNmOr\n",
       "yxQdamIrpmc5VYndRWmo/PzXEm+GoT83Pf1D3RzKk2iPli+v2X8SdkBMiXdoq3a4DeCTujm0dr5K\n",
       "3YaZ4nac/+Vysn3awI8B6gXT74U4t4GIOj6rhKuIjrks1McdRw/BZu0WnsPgFY3pm7RmFL3Jgx1v\n",
       "mps22J9VYnY22A6XMVfKg7OrUa1hhJVKNTOyNp2PeUsfKVqJkpjJ98rvKZFPvRxqcOAfgcPcFLr+\n",
       "hNChP0x9tqt6+DiLoebjAI94OHyVvWbeL3D4t+KajX3Ocxg4Dk39SWOSeHnrBSVpxMjRt1gFRw6N\n",
       "U+bBvtvA6ZCbKY0lZ6R+2FCA0dBxCAMsUZLK7bH0Z8avOjvBeduayqeMg51muyJwOOisJpHSsUJj\n",
       "OrzDBtXoRA4lwByqbdrkcmieYgc7vwKxQxnFnfxM8Z71tfWNWg8rYH3Thnw+n377OZdD81QTJCrj\n",
       "RofDSRcbe0p38CvaTeBvQfSJQhz2Gz8YmSIjh8YpRiPvux1W+xRHv5IP2g85cGTLUgD9QHM2yiqj\n",
       "0eecUmDM6bB8yiiUH7gc1nZfUftuRDy6KU5vk/RxaOmjf45dgrjZB4/0HVSdDs1T5oHELL7RP2ZH\n",
       "cS9mgEft66/36IeA5tClH8nn7e2FUw8jH+G3gAxmZ6mJeLzoLhMdLvtEDH/XQ4OlUcyQs8Ja7uGn\n",
       "TPxmEIfllshTH9zhCynMdql5Za3OH4c1LgRxaLdEXL31dR2fVXKND7OYY9d3m5ie1HWP7y6tBHFo\n",
       "t0TSSqi30dZ5zD2OzsRjNBkteTqUXzb3ahW1RFw9YbK0iDnIqGc+WKZM+OmDQ7qKmTDqETi0WiKu\n",
       "Pjji1zAHwOBoAIeOlmgw5D8fz7k4wCCFl+LNrihxtERzajiHpzXMYgzzXvjvuI7fZRwt0XA4g5Ar\n",
       "Ynbi6794L18LtAtQ9bWZmcXszKJiI2fUIhGLh1QK6VBaxIwmIcCpQTFiasamQjqUbzhYeuzATHJj\n",
       "NbJzGnD+w54jvgPkMiEdwtMOPvp8piWVTMGTrFPPZwY1+JmTWtRUDGsQThRtfv0itKnRav1iDidq\n",
       "7zlxl5VXQjtMFhzcAe9Aa9p+yrWjxCgxrKJToR3C7w7+DmYhl6g8ZW6m5IjDQ6qe2yIqFsfn2V3c\n",
       "WB1BJYuNtfOqduLq7eENQnPWYuZoD+y9ZFXsCzUbjTROLGbjdXAIh1zshwHiJkvV8/GlitkPu4hr\n",
       "76qHQYirmP1qBzHuK/r/Aa+yFIhbiWMYAAAAAElFTkSuQmCC\n",
       "\" style=\"display:inline;vertical-align:middle;\" /></a><br>(see <a class=\"ProveItLink\" href=\"../../../__pv_it/theorems/1ab3b214ce207323d8b4aff26b8c46df27fc886d0/dependencies.ipynb\">dependencies</a>)<br>"
      ],
      "text/plain": [
       "<IPython.core.display.HTML object>"
      ]
     },
     "metadata": {},
     "output_type": "display_data"
    }
   ],
   "source": [
    "%proving inf_geom_sum"
   ]
  },
  {
   "cell_type": "code",
   "execution_count": null,
   "metadata": {},
   "outputs": [],
   "source": []
  }
 ],
 "metadata": {
  "kernelspec": {
   "display_name": "Python 3",
   "language": "python",
   "name": "python3"
  }
 },
 "nbformat": 4,
 "nbformat_minor": 0
}