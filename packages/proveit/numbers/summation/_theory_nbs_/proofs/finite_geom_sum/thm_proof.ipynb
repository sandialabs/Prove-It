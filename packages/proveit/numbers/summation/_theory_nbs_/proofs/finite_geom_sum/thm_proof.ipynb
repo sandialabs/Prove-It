{
 "cells": [
  {
   "cell_type": "markdown",
   "metadata": {},
   "source": [
    "Proof of <a class=\"ProveItLink\" href=\"../../../../../_theory_nbs_/theory.ipynb\">proveit</a>.<a class=\"ProveItLink\" href=\"../../../../_theory_nbs_/theory.ipynb\">numbers</a>.<a class=\"ProveItLink\" href=\"../../theory.ipynb\">summation</a>.<a class=\"ProveItLink\" href=\"../../theorems.ipynb#finite_geom_sum\">finite_geom_sum</a> theorem\n",
    "========"
   ]
  },
  {
   "cell_type": "code",
   "execution_count": null,
   "metadata": {},
   "outputs": [],
   "source": [
    "import proveit\n",
    "theory = proveit.Theory() # the theorem's theory\n",
    "from proveit import a, defaults, Function, m, n, P, x\n",
    "from proveit.logic import Equals, InSet, Not, NotEquals\n",
    "from proveit.numbers import zero, one, Add, Div, frac, Less, LessEq, Mult, Neg, subtract\n",
    "from proveit.numbers import Complex, Natural\n",
    "from proveit.numbers.negation import neg_not_eq_zero\n",
    "from proveit.numbers.number_sets.natural_numbers import fold_forall_natural"
   ]
  },
  {
   "cell_type": "code",
   "execution_count": null,
   "metadata": {},
   "outputs": [],
   "source": [
    "%proving finite_geom_sum"
   ]
  },
  {
   "cell_type": "code",
   "execution_count": null,
   "metadata": {},
   "outputs": [],
   "source": [
    "defaults.assumptions = finite_geom_sum.all_conditions()"
   ]
  },
  {
   "cell_type": "markdown",
   "metadata": {},
   "source": [
    "### Instantiate the Induction Theorem for an induction proof"
   ]
  },
  {
   "cell_type": "code",
   "execution_count": null,
   "metadata": {},
   "outputs": [],
   "source": [
    "finite_geom_sum.instance_expr"
   ]
  },
  {
   "cell_type": "code",
   "execution_count": null,
   "metadata": {},
   "outputs": [],
   "source": [
    "fold_forall_natural"
   ]
  },
  {
   "cell_type": "code",
   "execution_count": null,
   "metadata": {},
   "outputs": [],
   "source": [
    "induction_inst = fold_forall_natural.instantiate({Function(P,n):finite_geom_sum.instance_expr})"
   ]
  },
  {
   "cell_type": "markdown",
   "metadata": {},
   "source": [
    "### Base Case"
   ]
  },
  {
   "cell_type": "code",
   "execution_count": null,
   "metadata": {},
   "outputs": [],
   "source": [
    "base_case = induction_inst.antecedent.operands[0]"
   ]
  },
  {
   "cell_type": "code",
   "execution_count": null,
   "metadata": {},
   "outputs": [],
   "source": [
    "base_case_lhs_judgment = base_case.lhs.simplification()"
   ]
  },
  {
   "cell_type": "code",
   "execution_count": null,
   "metadata": {},
   "outputs": [],
   "source": [
    "base_case_lhs_judgment.inner_expr().rhs.simplify()"
   ]
  },
  {
   "cell_type": "code",
   "execution_count": null,
   "metadata": {},
   "outputs": [],
   "source": [
    "base_case_rhs_judgment = base_case.rhs.simplification()"
   ]
  },
  {
   "cell_type": "code",
   "execution_count": null,
   "metadata": {},
   "outputs": [],
   "source": [
    "x_not_one = NotEquals(x, one).prove()"
   ]
  },
  {
   "cell_type": "code",
   "execution_count": null,
   "metadata": {},
   "outputs": [],
   "source": [
    "neg_not_eq_zero"
   ]
  },
  {
   "cell_type": "code",
   "execution_count": null,
   "metadata": {},
   "outputs": [],
   "source": [
    "neg_not_eq_zero.instantiate({a:one})"
   ]
  },
  {
   "cell_type": "code",
   "execution_count": null,
   "metadata": {},
   "outputs": [],
   "source": [
    "neg_x_not_neg_one = x_not_one.left_mult_both_sides(Neg(one))"
   ]
  },
  {
   "cell_type": "code",
   "execution_count": null,
   "metadata": {},
   "outputs": [],
   "source": [
    "neg_x_not_neg_one.right_add_both_sides(one)"
   ]
  },
  {
   "cell_type": "code",
   "execution_count": null,
   "metadata": {},
   "outputs": [],
   "source": [
    "base_case_rhs_judgment.inner_expr().rhs.cancel(Add(Neg(x), one))"
   ]
  },
  {
   "cell_type": "code",
   "execution_count": null,
   "metadata": {},
   "outputs": [],
   "source": [
    "base_case.prove()"
   ]
  },
  {
   "cell_type": "markdown",
   "metadata": {},
   "source": [
    "### Inductive Step"
   ]
  },
  {
   "cell_type": "code",
   "execution_count": null,
   "metadata": {},
   "outputs": [],
   "source": [
    "inductive_step = induction_inst.antecedent.operands[1]"
   ]
  },
  {
   "cell_type": "code",
   "execution_count": null,
   "metadata": {},
   "outputs": [],
   "source": [
    "inductive_step.conditions.entries"
   ]
  },
  {
   "cell_type": "code",
   "execution_count": null,
   "metadata": {},
   "outputs": [],
   "source": [
    "defaults.assumptions = defaults.assumptions + inductive_step.conditions.entries"
   ]
  },
  {
   "cell_type": "code",
   "execution_count": null,
   "metadata": {},
   "outputs": [],
   "source": [
    "sum_zero_to_m_plus_one = induction_inst.antecedent.operands[1].instance_expr.lhs"
   ]
  },
  {
   "cell_type": "code",
   "execution_count": null,
   "metadata": {},
   "outputs": [],
   "source": [
    "zero_less_eq_m = LessEq(zero, m).prove()"
   ]
  },
  {
   "cell_type": "code",
   "execution_count": null,
   "metadata": {},
   "outputs": [],
   "source": [
    "zero_less_eq_m.right_add_both_sides(one)"
   ]
  },
  {
   "cell_type": "code",
   "execution_count": null,
   "metadata": {},
   "outputs": [],
   "source": [
    "zero_less_than_m_plus_1 = Less(zero, Add(m, one)).prove()"
   ]
  },
  {
   "cell_type": "code",
   "execution_count": null,
   "metadata": {},
   "outputs": [],
   "source": [
    "# also need to have m+1 != -1 for later inductive step(s)\n",
    "neg_one_less_than_m_plus_1 = zero_less_than_m_plus_1.add_left(Neg(one))"
   ]
  },
  {
   "cell_type": "code",
   "execution_count": null,
   "metadata": {},
   "outputs": [],
   "source": [
    "neg_one_less_than_m_plus_1.inner_expr().lhs.simplify()"
   ]
  },
  {
   "cell_type": "code",
   "execution_count": null,
   "metadata": {},
   "outputs": [],
   "source": [
    "NotEquals(Neg(one), Add(m, one)).prove()"
   ]
  },
  {
   "cell_type": "code",
   "execution_count": null,
   "metadata": {},
   "outputs": [],
   "source": [
    "sum_zero_to_m_plus_one_split = sum_zero_to_m_plus_one.split_off_last()"
   ]
  },
  {
   "cell_type": "code",
   "execution_count": null,
   "metadata": {},
   "outputs": [],
   "source": [
    "for the_assumption in defaults.assumptions:\n",
    "    if isinstance(the_assumption, Equals):\n",
    "        print(\"{}\".format(the_assumption))\n",
    "        inductive_hypothesis = the_assumption\n",
    "inductive_hypothesis"
   ]
  },
  {
   "cell_type": "code",
   "execution_count": null,
   "metadata": {},
   "outputs": [],
   "source": [
    "inductive_hypothesis_judgment = inductive_hypothesis.prove()"
   ]
  },
  {
   "cell_type": "code",
   "execution_count": null,
   "metadata": {},
   "outputs": [],
   "source": [
    "sum_zero_to_m_plus_one_simplified_01 = inductive_hypothesis_judgment.sub_right_side_into(sum_zero_to_m_plus_one_split)"
   ]
  },
  {
   "cell_type": "code",
   "execution_count": null,
   "metadata": {},
   "outputs": [],
   "source": [
    "alg_expr_01 = sum_zero_to_m_plus_one_simplified_01.rhs.operands[1]"
   ]
  },
  {
   "cell_type": "code",
   "execution_count": null,
   "metadata": {},
   "outputs": [],
   "source": [
    "alg_expr_02 = frac(Mult(subtract(one, x), alg_expr_01), subtract(one, x))"
   ]
  },
  {
   "cell_type": "code",
   "execution_count": null,
   "metadata": {},
   "outputs": [],
   "source": [
    "alg_manip_01 = alg_expr_02.cancelation(subtract(one, x))"
   ]
  },
  {
   "cell_type": "code",
   "execution_count": null,
   "metadata": {},
   "outputs": [],
   "source": [
    "sum_zero_to_m_plus_one_simplified_02 = (\n",
    "    alg_manip_01.sub_left_side_into(sum_zero_to_m_plus_one_simplified_01.\n",
    "    inner_expr().rhs.operands[1]))"
   ]
  },
  {
   "cell_type": "code",
   "execution_count": null,
   "metadata": {},
   "outputs": [],
   "source": [
    "sum_zero_to_m_plus_one_simplified_03 = sum_zero_to_m_plus_one_simplified_02.inner_expr().rhs.operands[1].numerator.distribute(0)"
   ]
  },
  {
   "cell_type": "code",
   "execution_count": null,
   "metadata": {},
   "outputs": [],
   "source": [
    "# sum_zero_to_m_plus_one_simplified_04 = sum_zero_to_m_plus_one_simplified_03.inner_expr().rhs.simplify()"
   ]
  },
  {
   "cell_type": "code",
   "execution_count": null,
   "metadata": {},
   "outputs": [],
   "source": [
    "sum_zero_to_m_plus_one_simplified_04 = sum_zero_to_m_plus_one_simplified_03.inner_expr().rhs.factor(frac(one, subtract(one, x)))"
   ]
  },
  {
   "cell_type": "code",
   "execution_count": null,
   "metadata": {},
   "outputs": [],
   "source": [
    "sum_zero_to_m_plus_one_simplified_05 = sum_zero_to_m_plus_one_simplified_04.inner_expr().rhs.operands[1].simplify()"
   ]
  },
  {
   "cell_type": "code",
   "execution_count": null,
   "metadata": {},
   "outputs": [],
   "source": [
    "sum_zero_to_m_plus_one_simplified_06 = sum_zero_to_m_plus_one_simplified_05.inner_expr().rhs.operands[1].commute()"
   ]
  },
  {
   "cell_type": "code",
   "execution_count": null,
   "metadata": {},
   "outputs": [],
   "source": [
    "Less(Neg(one), Add(m, one)).prove()"
   ]
  },
  {
   "cell_type": "code",
   "execution_count": null,
   "metadata": {},
   "outputs": [],
   "source": [
    "sum_zero_to_m_plus_one_simplified_06.inner_expr().rhs.operands[1].operands[1].operand.combine_exponents()"
   ]
  },
  {
   "cell_type": "code",
   "execution_count": null,
   "metadata": {},
   "outputs": [],
   "source": [
    "sum_zero_to_m_plus_one_formula = inductive_step.instance_expr.rhs.simplification()"
   ]
  },
  {
   "cell_type": "code",
   "execution_count": null,
   "metadata": {},
   "outputs": [],
   "source": [
    "sum_zero_to_m_plus_one_formula = sum_zero_to_m_plus_one_formula.inner_expr().rhs.numerator.commute()"
   ]
  },
  {
   "cell_type": "code",
   "execution_count": null,
   "metadata": {},
   "outputs": [],
   "source": [
    "sum_zero_to_m_plus_one_formula = sum_zero_to_m_plus_one_formula.inner_expr().rhs.denominator.commute()"
   ]
  },
  {
   "cell_type": "code",
   "execution_count": null,
   "metadata": {},
   "outputs": [],
   "source": [
    "sum_zero_to_m_plus_one_formula = sum_zero_to_m_plus_one_formula.inner_expr().rhs.factor(frac(one, subtract(one, x)))"
   ]
  },
  {
   "cell_type": "code",
   "execution_count": null,
   "metadata": {},
   "outputs": [],
   "source": [
    "inductive_step.instance_expr.conclude_via_transitivity()"
   ]
  },
  {
   "cell_type": "code",
   "execution_count": null,
   "metadata": {},
   "outputs": [],
   "source": [
    "inductive_step.prove()"
   ]
  },
  {
   "cell_type": "markdown",
   "metadata": {},
   "source": [
    "### Finishing Up\n",
    "\n",
    "The final steps are a little complicated because of the extra constraints in the theorem imposed on $x$ (_i.e._ $x \\in \\mathbb{C}, x \\ne 1$), so we derive the consequent but then instantiate to get domains and conditions as assumptions, and then generalize over the $x$ and $n$ simultaneously."
   ]
  },
  {
   "cell_type": "code",
   "execution_count": null,
   "metadata": {},
   "outputs": [],
   "source": [
    "induction_inst_consequent_intermediate = induction_inst.derive_consequent()"
   ]
  },
  {
   "cell_type": "code",
   "execution_count": null,
   "metadata": {},
   "outputs": [],
   "source": [
    "induction_inst_consequent_intermediate_inst = induction_inst_consequent_intermediate.instantiate({n:n})"
   ]
  },
  {
   "cell_type": "code",
   "execution_count": null,
   "metadata": {},
   "outputs": [],
   "source": [
    "induction_inst_consequent_intermediate_inst.generalize([x,n], domain_lists=[[Complex, Natural]], conditions=[NotEquals(x, one)])"
   ]
  },
  {
   "cell_type": "code",
   "execution_count": null,
   "metadata": {},
   "outputs": [],
   "source": [
    "%qed"
   ]
  },
  {
   "cell_type": "code",
   "execution_count": null,
   "metadata": {},
   "outputs": [],
   "source": []
  }
 ],
 "metadata": {
  "kernelspec": {
   "display_name": "Python 3",
   "language": "python",
   "name": "python3"
  }
 },
 "nbformat": 4,
 "nbformat_minor": 0
}
