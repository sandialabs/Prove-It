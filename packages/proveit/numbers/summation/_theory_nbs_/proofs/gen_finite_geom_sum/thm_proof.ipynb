{
 "cells": [
  {
   "cell_type": "markdown",
   "metadata": {},
   "source": [
    "Proof of <a class=\"ProveItLink\" href=\"../../../../../_theory_nbs_/theory.ipynb\">proveit</a>.<a class=\"ProveItLink\" href=\"../../../../_theory_nbs_/theory.ipynb\">numbers</a>.<a class=\"ProveItLink\" href=\"../../theory.ipynb\">summation</a>.<a class=\"ProveItLink\" href=\"../../theorems.ipynb#gen_finite_geom_sum\">gen_finite_geom_sum</a> theorem\n",
    "========"
   ]
  },
  {
   "cell_type": "code",
   "execution_count": 1,
   "metadata": {},
   "outputs": [],
   "source": [
    "import proveit\n",
    "theory = proveit.Theory() # the theorem's theory"
   ]
  },
  {
   "cell_type": "code",
   "execution_count": 2,
   "metadata": {},
   "outputs": [
    {
     "data": {
      "text/html": [
       "With these <a href=\"allowed_presumptions.txt\">allowed</a>/<a href=\"disallowed_presumptions.txt\">disallowed</a> theorem/theory presumptions (e.g., to avoid circular dependencies), we begin our proof of<br><strong id=\"gen_finite_geom_sum\">gen_finite_geom_sum:</strong> <a class=\"ProveItLink\" href=\"../../../__pv_it/theorems/63e74e2a5778c90cca7c19090c85e6da1fe406ad0/expr.ipynb\"><img src=\"data:image/png;base64,iVBORw0KGgoAAAANSUhEUgAAAeUAAABLCAMAAAB5j296AAAARVBMVEX///8AAAAAAAAAAAAAAAAA\n",
       "AAAAAAAAAAAAAAAAAAAAAAAAAAAAAAAAAAAAAAAAAAAAAAAAAAAAAAAAAAAAAAAAAAAAAAAeYafp\n",
       "AAAAFnRSTlMAq1RmmUTNIjK7EInv3Xbt5clAMFB8ZRcbKQAAAAlwSFlzAAAOxAAADsQBlSsOGwAA\n",
       "CRRJREFUeNrtXWu3rCYMlZfyUNretvz/n1p1HAUTBB2PQxfXD2etk6WyZUMSQsI0zaOXdPNFmm9f\n",
       "rUhLcq5u0E0pF8QyvLr7aSDSGTZe4tsdwklakncZUgzLEMvU14x8geWuhO6gvU5Kcq+elUMzioVV\n",
       "yrIGvaGvcyXKGLhxLLWyTNq05MTbVDmTGcNSKcvSiaTkjNPjaDkOGIKlUpbbNi1hg81+nxrKmcwI\n",
       "ljpZpmDiUmQq9+LER9liWEaw1MlyO6Qlo+o7M4H6giZz/5tldLRjc5GpprMmWzuUY5khlipZJk4n\n",
       "JaPMdlT3uWDdBy66vPn7AJYaWdZOJSWTWbb0BAHEXedqyH8Udwk1aw+x1MgyQzQaRcwy5yeIE848\n",
       "At53Cfm7S60dDrHUyLIC6lkhCns0y2Jo8rG6R/yvwCXcFBAdDrFUyLJ2Q1Iym+VGDo05MXauqWxt\n",
       "+QnHLXAJoyzvsVTIMgO6lWHaVo0wCctnzl5U2byhJxy3wCWMsrzHUiHLBARAiBN3fNclL1vrxvAT\n",
       "Ztl3CaMs77FUyHLv0pJL6xd3ceeyzd8MW11Crsarn/4whOU9lvpYzjTLF8i6qhFOdEjoEkbn8h5L\n",
       "fSxTsDam7paNQ54fy9bWEi2Nmd0u2effHbqEcZZ3WOpjmQMvid+z1GX5g2U0xHYkjM/cWJJ/d+gS\n",
       "vtvrTOuMPcBSH8stiIC098SgZfaKmXVTx+uRrxyzHN7doOvlBJb6WO7BurZ3twSSdXam5NQcf3nB\n",
       "rfAVtm6H7ZLwbjjJ87DUxzJ0hX1J6yIXbnN1F7znxGjpXy/kluv8u898payZ5Q7MuEBC3Y4r3QlL\n",
       "ehfRxoE1HE5o/jkJT+sfuRtiqY5lCpZNoYQ4bF3FchhsM51srURDplFj7r8bx1IdyxaEqHaSAa/7\n",
       "4GkHmmT66tRJzUfeBL3/bhxLdSwbsN7ZSaYKH8zr5RC2CBdBPLMsSHNrG8oZ/YG7cSwTy9v/lD3G\n",
       "8rON+oOcJCR2pBkbiAxGK5rAkzOf5IvcPpjbHct8jYa13WMsP9uot8Z0PCVRLi/k2ekw5GTcUBDL\n",
       "w45l+R7L3RMlAgvLzzbquyU8JdGjS523TaRsqATKSeQMscx2uV30jqHPsfxso75zZZISMersHFTa\n",
       "6XBV6ophOcQys8wWk/OIWXmz/GijXnwBcAolo75zOQWQtA3CT4Wz3PRzSK03T7L8aKM+pzYpmUNg\n",
       "sdHn7RBpYrtgzVMOyxRh+bUzrfSjLD/ZqM8pS0pepjky/IL9pIOeHe/0gtID+T7LHXn/yV6PHdqr\n",
       "LJZ3jZ7bMQjbP/EsXAyjy2MQ6Vw7LLpDNJnzYuayQFieZ5Q5SHWwio/aydNsR47x60W7THAkKhI2\n",
       "uu7BIInlpFeGKz8/KmzfT1un0x5svGAR+lW4p8Ujpjm+QzTFU4o5YSTEsrBMLeYGSUuUElMolXRT\n",
       "95ksll/Tc58Jvl6/3N9vPizue22J5W8Aw9i80Van26fvxU2sYNG5f5KSxfWOhqUjO0S/Mll2P3bF\n",
       "sPzr3p4uA9DX2oKxg+cRkccyWeYqHRJzGW3UTyxfAYzaUdLO15F4+0wx8JKLc3l8wxDVhvgO0X4u\n",
       "f9Muo3N5XLW+16/W8s5OQVv77jHN5GtidHgvr0+8+uA9FtIsb436qedrYrllgSEOTLHynd7lWato\n",
       "A15ymWWLFsId7RDJguyyxOxy0/XLYBvXBkQ1LR2/Z9WCHQUf7PXy+sScPar+iGWPQpbXRoPU83di\n",
       "uVaB00NlpP3lWdn7ZEULFvN87GnCStx3je8QFe99jd2yKcfRtI3/iPXbmWb6gOX1iRfn62NpltdG\n",
       "g9Tzd2K5YP583U2erf312dFv0M3+JVdZlpHg19EO0f+AZV+FzTSwdp6aoxaUUsgDlhs/o1jHs0cR\n",
       "lv04xGZRF3O8AZj048SgZwsV9qxYeY4XLA6A0wFdL9tPe7Zwlqd0s5EIuU2exftqYj7u8sSksf/8\n",
       "S+VrbHSgrInlHgBBJZtx4O1vb5Tk5R/ECxZhQgeW4tHyCz1LP9ytkDce9UjhboXvWfaNaV9Bhy0q\n",
       "1Zm57wy6Xvae8HaazrI8ZzJq0/iJ5RsAM79eDPgoC9LWO0L0UcGiAjEtKGnUpX0y9snOoya8vXG5\n",
       "zcDOY7h8ssLYeWXaqVXnaTNqz0AFKuyJcGTsM8EPWZ6zLmYHakssXwEwQog1qiURHz9cpUyvjxcs\n",
       "ErCpCCUcnVTJXSr7YRaBvZFlC7IIosPLTNoXjy7gg51mWDOc5cW00lwACjPpWaFRkCsCJAxdQ6VT\n",
       "csyHlTh3shxiuZr3hX9PzlhGWF5Tz4U+3X6Ytn728zEJvoaifcYA4sWwHGK5lWUqrrG8pp6z8+2v\n",
       "z0r1vrpjg9UeS9DTFnUOg+rDo93SLAdVdCewXGX5eq7WPTmcl98hgCMcSpA1VEeJy6mb+LTeKs1y\n",
       "fNfzGMvv2oqdpHWtfw1D/9oIyHCfP623SrJ8sOt5jKXGOqnuQMJj2z0s5836NpZP1sUlsNTH8gCO\n",
       "DBicuEdLfJjCmeV95QXlutorWwmYlsTdkvcvPk26z2E5sy5uh6U+li3wlu2HK6D1NeZnWT5RF7fD\n",
       "Uh/LcMqJeypfyKdHGphEz5yoi9thqfGMIJeQaDTQnmHwP3K+COlde+g9n6iLG2o/CWrsge5Ygobf\n",
       "k+fe6oLqZ/ZYKmTZAGfL3OF+UVfOj4ftsVTIsgB0iDsIIgWddr/HUuPJycdHNArk/K2cc2/7chJF\n",
       "AJYaWeYgEulJltJzvu59TMo849xbWZDCBlhqZFkgpayrZF96PjOfce6tLUhhAyxV/jpJ3x9JFOZi\n",
       "JzMV2oJ+aghgqZJlCwLXnuRVeh5q7PS5t9KZYkiWyDHvFbLcQBu6SXal5wvo1Ewl5RTCIVjqZNmA\n",
       "ftgku9LzZa6TVBiiHN8LwVInyxroNH2scVNm2Rb0C8wIlkp/sxVu/xxsCGUkEPa8GJIxLLX+yvZg\n",
       "0pJ1NZ0899YWZJUxLLWyTAEKeh2XdqwYklEstbKMnJ7KL+fME1UMyTiWalluBpaW5F2iL0df41i+\n",
       "wfJ8fX3lIUF/yItsDaKcqTzA1MXdiSMPGQ42X9/vGdGlJVkfVBDJEMurt1nzH4v4e8uE8omfAAAA\n",
       "AElFTkSuQmCC\n",
       "\" style=\"display:inline;vertical-align:middle;\" /></a><br>(see <a class=\"ProveItLink\" href=\"../../../__pv_it/theorems/eb8e4956df447b851837cdb58a40aa1684bd0dba0/dependencies.ipynb\">dependencies</a>)<br>"
      ],
      "text/plain": [
       "<IPython.core.display.HTML object>"
      ]
     },
     "metadata": {},
     "output_type": "display_data"
    }
   ],
   "source": [
    "%proving gen_finite_geom_sum"
   ]
  },
  {
   "cell_type": "code",
   "execution_count": null,
   "metadata": {},
   "outputs": [],
   "source": []
  }
 ],
 "metadata": {
  "kernelspec": {
   "display_name": "Python 3",
   "language": "python",
   "name": "python3"
  }
 },
 "nbformat": 4,
 "nbformat_minor": 0
}