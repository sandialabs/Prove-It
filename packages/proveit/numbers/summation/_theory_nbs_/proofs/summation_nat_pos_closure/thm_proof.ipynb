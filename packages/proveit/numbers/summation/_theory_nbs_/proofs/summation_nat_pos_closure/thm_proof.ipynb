{
 "cells": [
  {
   "cell_type": "markdown",
   "metadata": {},
   "source": [
    "Proof of <a class=\"ProveItLink\" href=\"../../../../../_theory_nbs_/theory.ipynb\">proveit</a>.<a class=\"ProveItLink\" href=\"../../../../_theory_nbs_/theory.ipynb\">numbers</a>.<a class=\"ProveItLink\" href=\"../../theory.ipynb\">summation</a>.<a class=\"ProveItLink\" href=\"../../theorems.ipynb#summation_nat_pos_closure\">summation_nat_pos_closure</a> theorem\n",
    "========"
   ]
  },
  {
   "cell_type": "code",
   "execution_count": 1,
   "metadata": {},
   "outputs": [],
   "source": [
    "import proveit\n",
    "theory = proveit.Theory() # the theorem's theory"
   ]
  },
  {
   "cell_type": "code",
   "execution_count": 2,
   "metadata": {},
   "outputs": [
    {
     "data": {
      "text/html": [
       "With these <a href=\"allowed_presumptions.txt\">allowed</a>/<a href=\"disallowed_presumptions.txt\">disallowed</a> theorem/theory presumptions (e.g., to avoid circular dependencies), we begin our proof of<br><strong id=\"summation_nat_pos_closure\">summation_nat_pos_closure:</strong> <a class=\"ProveItLink\" href=\"../../../__pv_it/theorems/4caf44f6668c5a6fcf260e3f9f09bcba8cd6a7d10/expr.ipynb\"><img src=\"data:image/png;base64,iVBORw0KGgoAAAANSUhEUgAAAjoAAABMBAMAAACWggAGAAAAMFBMVEX///8AAAAAAAAAAAAAAAAA\n",
       "AAAAAAAAAAAAAAAAAAAAAAAAAAAAAAAAAAAAAAAAAAAv3aB7AAAAD3RSTlMAq1RmmUTNIjK7EInv\n",
       "3XZ/CtNrAAAACXBIWXMAAA7EAAAOxAGVKw4bAAAKgElEQVR42s2cfWwcRxXA5z73bs93PkDCJErw\n",
       "RURFlQo+MBUiiPiqtpggpbk/UFE/VB9frVQRclVRJKTQHBKqhIjk46OUVC3ZiIqqqNTXVAVBv47y\n",
       "R1CA+hAUaMgpF1TUQqnjjzh2bDfLzuzOzO7cvN2zz93MSD6/bPZ23v72zZs3780aoaD2FaRES5YR\n",
       "Spmmmd/4JbLW1/3P0E6LQkCL59Wgc531k1odHS1v/BKx0dHhgFOe6hL82zWGEnCipzCdpX4vMxbw\n",
       "/wNFUfBt+u/UMJ0niqHQSSyJgm+LVNSg814UCh20pUvwa5NlJeCkFkOic7ggCn7tTkVmrEpIdNIt\n",
       "UfBzhotq0Bkph0QndVkU/J5ZSw06+1FIdNDDXYKP2+mo4XYuh0ZnpCAKcBtWI9qJrIRGZ7AiCnC0\n",
       "c0mNgTVVD41OZFkU4Nh7Xg06Y4XQ6CRWRQGe31bUoHPMCI0OWusSQItWY8rS30bh0TlWEwXwYg0l\n",
       "6MRWQ6RzviEK4JSlxjoishgincmKKEBtWg23MzAbIp3BFVEIGO9XfEJvhUgnuSgK0CpLkXBnpB4i\n",
       "nfhlUYBOXFWDzr5GiHRil0QBMjJFgsEDhRDppNZEAfKGy2rQma6FSEc3RSHIfV/hZhoSOknT1Tqb\n",
       "RweZNVGQt8OzSsDR6EP00ImajmU/dsc2s7mJdM4WRAGYK5yZdHu7ur77uXb9CErWz1ttqT7Rt2V0\n",
       "0DCPNz41v4l0DnREAQiqnWixss47jZbWdXocf3yDTBPSKlLuopRO1lUX3dM/nTij3hAFeXuxvjE6\n",
       "P/OMC+c3bH5pAqYD0slcktJJmQv81sCre7v3oZNm8UNeFIBlVn5jdH7g/se/nN93CCf94tKPDPTc\n",
       "WpnqdRqkE5mT0kHnTc4ELF16u++iI2qBbaLCBQLgA8BivkTpRMiAKfYGR7N9ZPxZPNVEqXnmxG9/\n",
       "P5FH+ix7audAOukLcjpp0y/BIu2+23YELTCUFhduxL/vAvwToxPHi/Vkj745bmv01JGCZ5TdLZy2\n",
       "vfo0Qk2m15QB0UkCdPTpCz5aSLvvpiNogU2yyYVv4YddB+a2BqWTylPH2UMbtPMeL92CH9717PDH\n",
       "hNPeXbdwt9Ceow8fPWpRSRYhOtlVOR00YfrMudLuu+kIWuBzaBxjCUnrGhmgk2lGh5A/0SOdSRK8\n",
       "JexQkkciA3ZMl3uk/TciDO3WKqjFnlq87qWTNtgXIToZ8xSohLx7Tuc/7XZFooVAByuUhCL4DqMz\n",
       "ug7n/JatOhm+Uf6lJLn1xNfoXQ9Fam+69Mo1vXRSzKAHLgN00IGLoBLy7hmdm/8r1wJHebMu4U/t\n",
       "9h8gOkVGZ6DdPtNrGpXsl4ht+3PJ8UH6zNbvWnaXIRPAQWYSQ6ieLnO98MP2jKxPMjoLEJ0nTEgn\n",
       "oHtKR7sb0EKk8xmEHoJWHJxOvOYy9YB21PY+HfrE4uhcZ6+lcMU7AQyhb+unuV6pZUZnbxu3szSm\n",
       "HATpsNWExPlJu6d0+AQjaIG92axLuAdpmKp+A9HszZlxF50Co2Odc48kriQq2j3xsPsL9iKNrOGy\n",
       "1iU+jsaM91jnNb2x0xCKFa5usqtpi6JXvsrpfnAeooP2rUGPTN49owNpgd3miktIGxk8x6SvxZe7\n",
       "uYoO8Xl71ODR4EPoma64MvfCa1W2qOLE/mrbpT0qrGvX0KfJveFnkrIGcvtVRy+0NcK9pt5FR/+q\n",
       "PfnFdtEDu7qmM3B1Lu/+Xud/j2DjrEu0sNpPiy4h2iEgB0ns1LLnDmo7ZU7nw26n7HiKu5B2EulO\n",
       "QJ1oeG3neaYeQi+TE7AOet311NBxncdz2rJI5+CvHNtZBG1HAzPf8u6p7TwOaSHaDqrsxly2nXDM\n",
       "MTYrG1koGeuIdD5Eln/xshjt2XS+h6hp4014P7fRI9Ry65XqcFj41j1+p01dlM/Iyp2E6Mi7p3Sy\n",
       "kBZddE6Q2/oEnW0yTSmdzFWWceVeu2+c0cEP2+oOdzQzbg0xFg7ZW+5etjl2kP6AZbmWYcWIDjPs\n",
       "6j+2ft6oewIUj+3cgoLpTIAJKnn3lE6uA2iBocy6hUNkaNyAP/DUnszLZnSk/db6eD1S/yKjQzZc\n",
       "PocOWn1VtyQLaCf92v+ok0VkHo0uP9pMFOgCI8kiT3ylOB+uMSHe0SrBM3oKzOsA3Y+5O5dpIc5Z\n",
       "KFJj62q8/XayKqWD3odXwulOjdEZaJBRZD3iGPpJyvWsJ4gLs/tItZB+U2fnR7E1kyGob7nVPuv+\n",
       "NeuJ6VwvvG3cEyvXeoh3wPwU0D2jc/wBQ6pFFx27/R5//BDdiv7iWmcVxQzGYJX7Hbzh2dJ3B5ax\n",
       "2t9hd1NGfI/8P9h3v+mMoF87KwlxrSmsszQ+MYF0vgyvhOXd85XEbY+0gdhfQkdfQXoDHbr3yfuL\n",
       "3TlEfpkjdhaJ0EmXEka2SKCkmta97HSv0XfQEcTXntf7x5A+a3RoJZGuQxeDuu8lczrSFAXr/lDq\n",
       "JaRdd26r5srvNLx0tOYvSf7X8cond73xJeL+D2UqcZe/ta6FXqWpgzQdqFrdX6mPwPkdaBW6l4eC\n",
       "wjoa6r4XOmMtUUAx666j2O5LT7pygyXBdm66bcbgM/rX3/8uo4r7j//7BWtR9yDPCiC0m4bcLMBJ\n",
       "B2SH/g7nBoH8ToxP5zGBDtR9L3RoNp0L6R2WD8TuUptzvXuzD8qc0jXJ5/QOiwJdcZ4nr3yf8/t1\n",
       "f5188spxIHPqms6vAa/r7b4XOjSbzoXMDM3N7i/3kHWndA5vt0xpvCvxHd3ApiifmgSQddf4dP7o\n",
       "hf5rEtwmSqIAXMvBsl+sZ1E6yVew8vbod9ewNlDP+ixODJ2R0onJKzZsOtd2mMubSOdYRxSAua0Z\n",
       "UAaxm+H6fCdaYk1K58CdpO0/Y5pmaxPp0D0NXACyACpXiuPuOnpxE+nQPQ1cADJIS0rQQbRuFcoe\n",
       "DLangQvyllXkDZuz5RDpaGuiALTIghp0hosh0klcFAWg5S6oQed8KUQ6uVVRCMJ4hdtEJUQ6kXlR\n",
       "AFrQ3rCw2lSY+5WzK6IAusOqEnSySzI6nkj2g/Zg2AQ6U01RAJccRSXoZBZkdJxlDqkxxcoSYhuj\n",
       "M5IXBXDAq/FnHhJzMB27xnSc5rT6pzNcEAWoDagRLNP3NSR0nBrTjXThZ/RNZ7pLgFpckQ3L+2qc\n",
       "Dq2L2HScGlPLOZ4p9EsnNScKsEkr8irARIPToXURm45dY8L1C3I8WuqXTm5eFOD2RzXoDDQ5HVoX\n",
       "senYNaZE3TmeqPdLJ9kUBZ8oVY3X13KLLr/j1EVsOnaNKZp3jqf6pjPZEAWfVboif5tozkXHqYvY\n",
       "dOwaE4GCj/c/stgb+D28ip9R5E2JFw1Kh9VFbDpOjanlHOcV4A3S0edEwe9kRdzyVIPZDq2L2HSc\n",
       "GtODzvGgwkcgndySKPg6HkMNx7MCxsqkxkSjwMf7jQYHSqLgu8RR451r9E+QDqkx0YLIeL90mDX0\n",
       "ZBZRRZKnI1WIjl1j+g0RY+U+6egLouDf9qhBh+xI89LxuBjd9dkHnUhdFAKGlhrLdLI15J3P79xu\n",
       "iELAuuOUGnSOGCH8rUr0SpcQ0D6vBp2ENZD00X7/VuVogNspe4X/A5xojvLb+p1JAAAAAElFTkSu\n",
       "QmCC\n",
       "\" style=\"display:inline;vertical-align:middle;\" /></a><br>(see <a class=\"ProveItLink\" href=\"../../../__pv_it/theorems/28b07aa3d330f5d7514e33246f169d3220d9c4490/dependencies.ipynb\">dependencies</a>)<br>"
      ],
      "text/plain": [
       "<IPython.core.display.HTML object>"
      ]
     },
     "metadata": {},
     "output_type": "display_data"
    }
   ],
   "source": [
    "%proving summation_nat_pos_closure"
   ]
  },
  {
   "cell_type": "code",
   "execution_count": null,
   "metadata": {},
   "outputs": [],
   "source": []
  }
 ],
 "metadata": {
  "kernelspec": {
   "display_name": "Python 3",
   "language": "python",
   "name": "python3"
  }
 },
 "nbformat": 4,
 "nbformat_minor": 0
}