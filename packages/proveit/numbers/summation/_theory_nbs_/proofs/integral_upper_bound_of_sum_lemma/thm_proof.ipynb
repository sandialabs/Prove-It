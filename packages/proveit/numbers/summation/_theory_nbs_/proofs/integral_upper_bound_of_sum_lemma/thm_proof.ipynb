{
 "cells": [
  {
   "cell_type": "markdown",
   "metadata": {},
   "source": [
    "Proof of <a class=\"ProveItLink\" href=\"../../../../../_theory_nbs_/theory.ipynb\">proveit</a>.<a class=\"ProveItLink\" href=\"../../../../_theory_nbs_/theory.ipynb\">numbers</a>.<a class=\"ProveItLink\" href=\"../../theory.ipynb\">summation</a>.<a class=\"ProveItLink\" href=\"../../theorems.ipynb#integral_upper_bound_of_sum_lemma\">integral_upper_bound_of_sum_lemma</a> theorem\n",
    "========"
   ]
  },
  {
   "cell_type": "code",
   "execution_count": 1,
   "metadata": {},
   "outputs": [],
   "source": [
    "import proveit\n",
    "theory = proveit.Theory() # the theorem's theory"
   ]
  },
  {
   "cell_type": "code",
   "execution_count": 2,
   "metadata": {},
   "outputs": [
    {
     "data": {
      "text/html": [
       "With these <a href=\"allowed_presumptions.txt\">allowed</a>/<a href=\"disallowed_presumptions.txt\">disallowed</a> theorem/theory presumptions (e.g., to avoid circular dependencies), we begin our proof of<br><strong id=\"integral_upper_bound_of_sum_lemma\">integral_upper_bound_of_sum_lemma:</strong> <a class=\"ProveItLink\" href=\"../../../__pv_it/theorems/91bf183b6accde9f87f071f014433f38fe6b66e10/expr.ipynb\"><img src=\"data:image/png;base64,iVBORw0KGgoAAAANSUhEUgAAA3EAAAA/BAMAAAC84Fz+AAAAMFBMVEX///8AAAAAAAAAAAAAAAAA\n",
       "AAAAAAAAAAAAAAAAAAAAAAAAAAAAAAAAAAAAAAAAAAAv3aB7AAAAD3RSTlMAq1RmmUTNIjK7EInv\n",
       "3XZ/CtNrAAAACXBIWXMAAA7EAAAOxAGVKw4bAAAPF0lEQVR42uVdC5AcRRnufd3szj5uU1JIAZUs\n",
       "EikoIVkeYoWC3MYgqJDcCp4FhuLOoFigmEWrLMHIrRRYgLHuMIV4iSSDFdB4IbsQIJJIOEEhPEKu\n",
       "KFBEQiZC8RC4XC4cd7mQrN3Tj+numZueWZKjyvmr7v7d3v2//+/+Zrr/fswdAA7pbDQGwVRLotE4\n",
       "cFgdLCQ6bvo0uNfwgaYW3/4E0a8WNYtmSaNRoL+dzHV0VKeeudGOSw4nfq6LvHiT6F/0qix6faCp\n",
       "5c3m4n1H0jSamzs6C/S3kznwCUhi+PDid1aInzFSEKmrTFaq0XzUa6y5eFN1UdvRZAr27xAwpz9B\n",
       "Xqwr0gZQ9ivrCko0tTB/QQN+XNR2NCFjLk67t/NoSc/Q0Qqb6DNKNLWcx79JXuU/4pMNUbNoQsZc\n",
       "D7nDkuO05H3jDZXRiyo0tdj+LDnGf8TZkqhZNCFj7ltEt+RpyXJwpspodkWBphbbnyVb/UccHRM1\n",
       "iyZczDmqjxpxnrLZexVoahHJTx7cZfg2vUrSNJpwMZelHPyLFQ2Dx5V8jyvQ1GL7A5EtIPdKruSf\n",
       "9KqoaTThYq6H1DM5wopeianb/2/eaD6GOdsfmN5ZTBVj/nObTEnUNJpwMTeDXve2l5uG1Gbt3mhq\n",
       "4fwlJ5aVM9V43n86PCxqGk2omNM/IC9qpUB2nUVPNLVw/iLwFm91b/BJWmSvqGk0oWIuRgestmog\n",
       "u0yXJ5paOH+tJhwgjTkBvD8paRJNqJhLUfDVAefvY55oauH8dUISkwvNAN7bK6Im0YSKuVaajOwL\n",
       "OJnY64mmln3KMdMruSyKmkQTKuY6ybJtYn8wO22PF5qPSnH+/hE46u68qEk0oWKuvUz6m9GAhs95\n",
       "ofnobUebSWvYKDsgahJNqJhbQlYuWias3w1OvAee1YYHmlqwP4+O13t0nhA1iSZUzNHd9lZrrz/a\n",
       "IMnhHy4/tjHgabi74IHmY3y1zxbExwNHnRsRNYkmTMxpNFHoxrnFDLvtzxnxThJKHmg+Rio7l8kG\n",
       "r1/0A1GTaMLEnFR1kG3YKxlf8bTs6fVA85Ed2sTXgh/tSe4TNYkmTMzlDtLuBo9qyYY96MTFnRzy\n",
       "TvNob4Ym2bhsCe22R9HZbstemqSltZoDoibRhIm5OO0S20l1dzfsZhYWuHLkCwnS5K3DHmiSzeUu\n",
       "WajdvI+5pUL/AaI7SRqSxtEw5qxr4XiJuYjVLRSnmDlnKIdoCYVmB6urpMB5LPGCTej35+jb18no\n",
       "NOGBJtnknM1F/aGEtOx0F61L7mB38H1uZN1piBpHw5j7EtLflZiLIz8tlSlmzhnKoZEWuoi1hNRI\n",
       "3y6PVemj0G6d3sVMDNESyQkVsUy2udo5f7BbsGE43d0LJHfovio4zanGnhlzP0f9bK/EXBJd/tdN\n",
       "dW/pDOXQSIbeOdtpA3XKB00zn12BOkJ228TwpZ/ipu7nfFVCk23OoFVhJcwfSH7k4m4+kNyhyDiG\n",
       "V5dFjaNhzCG60wV5nEPXzwNTzZwzlEMjbLRqsGu+IZ3rwg2WsQvw5xF7THt/k4wm22RIo0dNeaCC\n",
       "1OxzcTcgu4PyKPetGQVR42gYczF4hbQ4MpTT4U/XVDPnDOVwMQeWfCh+BTfYCXbBFSJz+qOmA022\n",
       "aSlOzlxkv9NdtEt2B+Xb/pkD23bseNbBXGbHjlfrU82cM5TDxty6hlC7U7cdYeUN8Gf9rj9uhq1y\n",
       "P84jyfRBX1B0oHE22jFvQbbS+cmZy4443cXrsjvtmLdHgD509C9xd9dOnFKNo7GZ+zIAKxzMxasg\n",
       "ZXzMBouSgZVUpKRmzhGKIJMAPM0lUnNcDwvUSFvrdkuyFTAiB9mVX8pNj8PM80yeOf3IghONs7ms\n",
       "gtYWY10Sc5y/1jGnO+seFdxZOHGwy1zgi7lrgYbqu2hobtVmDhZdi16vIaNoGg22S//NXPc/t3ke\n",
       "u2r7t22+/3lng32eoMbxW5J6WH7SfX19lVMenvcDkTkSCh7T6Wm1yNMPrixxAEROqpBvMAv0jAd8\n",
       "Y2Hz9QE1MqDoXJrQ/hF/YWqYxxdg81diExHYUifjapNZt8DcgGyjPwFQ60cHZOZsfz3CxBCbZguS\n",
       "O4TTBb4A2oxPCXNAqnE0NnMpI1223PXwM/EV4CGkll8C23BXXxk8Aq3ncD3MNHidsLrfDsDXnEsA\n",
       "eYKaqHPMWSX6HdYEKA021gXmcChE0Hlg5DpbSa83HMydZNITw4w59IxHnmDz9XFlLivsEkRxw/4d\n",
       "eiRHz3sE5jSut6Rotk18GGSh7yQqiMNhBnb6ecnfbiFpwKaZsuQO41TZiXYVc1GzBadIEZ65WThB\n",
       "QRnwuejafQjGO8cUmLPPMUHm4s61hjJFvZpjzipJWR1cLgfOMgXmcChEthLXMXDjj4DM3JwioCeG\n",
       "WRToGY88webr48qcJqz4pwcpC9DSiukygTk+Q6Fotk2mF9RgZRMe99yMktNdpiy5IzjgeZ/Mga65\n",
       "qCMustUzi7mWGPr6cc8WyNpA/SUQXWuC3NxN+l037rKYS06ADUMgt+XTkLlbEvpq8J659uVZeVSS\n",
       "O34DyDLUB7iGt0p+Cghz/y2Jq19WKP1zNwJ8HpgsS5RKHID16TsFwE4Mw9tsw7uILvSMR55g8/Vx\n",
       "y1BA7ilhXSRPez70hJUOYU8RMhS3WYFtUzNBG2JscPIMZWfR6S5bkNwRnMQY+JOvcQ48gO6JXGO5\n",
       "sG6ZPgG1CjpNutYqrL8DYikT3AHuA92FlgJiTh9pKcSLD8Ls6naUW3SDlKmNgMUAliwCN4AfM9SZ\n",
       "XMNbJZ/BL9PaqqLIHApF/2cSDefoPDB2Hfth1QawPl1mBU9ODOfBfZUexBx6xiNPsPn6uDLXWRVm\n",
       "xrixV8Halo8FaXRTy8yxmThFs21qBXAkTMfo0Vs35hou7mBziu4snOvviAyAuj/mllpXwO/b8zxz\n",
       "2l+t78KmuRgzV6vckjJhV54yuw3o02IOjmErxsD14K4HtyLmIqY2AVbpsKTniwa4lKFeynd2qARD\n",
       "5uIre6UVZxRKvJRE3Q46D4y/tz7NpTjWp9GVBvmGxdy5YJk1JsMMjWLz9XFjLikuG3fj4RXm5rNv\n",
       "uxBcRJJ9YSYOZ25VAc22SZnRF+Mky3dnLtlwcYdmEYI7Cyc6vmYgUfA1nwMRFJFhr9bjvYKjLCzI\n",
       "9pkwVyuAerxkpszYAIiUEEVWbzl29umndwxb49yJhLlhMB3hJFaPguMY6q0cc1bJ3aS3TF8kMYdC\n",
       "yZRzeWvUiueJ602498C7U9anCUQdOTGch0PNLjwwzoNvMDZfH5Chr7bb8zlxdX42Vr+CyfRQdD5q\n",
       "lJeczEloto0+/c/Xvg17v7LMHPMX/dDFXXJQcmfh6AvNmaf5m4njhivYK4bcLg8a9H+J77nkWMG6\n",
       "51pMyly6F2ZE2gTOUEhvCZlDJbfBy/9Whsr1lrgEL3HlcolFhnOXp1ZJnWXg88CW68SJRbCJAZBP\n",
       "k0dU6InhPLzJlyNq0TMeeYLN18de8d9puC1VQCGP9WRZn6YNSvsCXFY6MYnNz4DMHPOX3u/m7mUg\n",
       "uZtkq4FtcYy7MAev3kjFyVzNAGRGXgJXomeWF4OlBqIIMXeKkSrq5kqwHjPXaqyrQ+ZWAVgyE6RQ\n",
       "hkJQh7jODpdcUMWzgk0lJ3OZSs/FRr91HthynY6DxKB9z6FPUV2nGegb/eieeyo5epZet57xyBNs\n",
       "vj7OXR6QEmYY0fxieeGXrCNnxybb5XGxme9Ycbb9jbq5OwNI7iTZWRF1dsyNuZsu2AiczKHxQ/st\n",
       "+vzp6iz9L98D6aHz9Rmls78DZ+Lnwm598xBIbzH7n0Nzv9iGU1+4+4PYk2VYMvP1jSg9J6h3cszh\n",
       "ksQjcLb8jTfra85zMpeYP2sDzEHQeWDL9anT3v1N3r5p0afWZWqdGF6GNhi/ftq7xeTj1jMeeYLN\n",
       "18c+PMfO2y2wp+GwBbIr6GzrTlp6ndAz6jssqXJoThuXXQ7mL8Pv8zHTVEVyJ8l2SWeGXZiTV7/4\n",
       "jYv+vj7fJwz59Sw6y9Z7gXMJxHX1ixMcmODaFaBA53NRcXLHS45miLvJpR2zpwQxtJDxBm3CtUCk\n",
       "o3VgMjSnTcq5nUn9iacimKneC+QrRpCPJI2j8cXcr4/6OOuW59NLvhKcuYTLoqkbAPweIeubkzMX\n",
       "o6NMW90xJThZ+KZGhqgcadvuQQ80yeYt51epP9Dp/vDVDUB0JwEfkBYNuv2fQ9lifhzm0oa9fik2\n",
       "fKQPry1OzlwMeDF3K7OPMbKKhDk37D1iA2p2xrjG+yCXW4sn9vhuAWbe1szBEOpICn8qThAZgqoE\n",
       "6i1dZBIAnqY5rpeaTnPyWpc4JdCOa3gfYG0zPdDUUqNjYXszB0NiB0VNognVGeedNDfATpZcack1\n",
       "rzZUf+GsveqBphZ2PPbVZqKmx6LZ8WgcTbieCBGeQIvzzxV4d2NLvNB8tD2dVOxpJuqWYVGTaELF\n",
       "HB1mYkEfyzjgheajvyP+knubiZo+lcCeTjgQPua6yWxZC/goVHK/F5paqL9cU3+2racuahJNqJjL\n",
       "0Kt2WzC73LgnmlqIv0hTfy90d1XUJJpQMZemSxiPGYHsUgOeaGoh/jLwriGbiAHkd5Im0YSKOY3m\n",
       "1d3BJqi1vCeaj24a+0PHK8kmon/R94iaRhOuv2RzJU3XuoJlNlVPNB/pIfL3MFqep5uIAaZz46Km\n",
       "0YSLuTZyuceCpQrXeKP5aH3kry+JTjCTTcQAk4JBUdNowsVcjaRneqA/zqDt9Ubz0eMhf2t2Qabp\n",
       "JmKAhLgoahpNuJiL01TjQpSjvXEDXQz3ThvSwwo0tVzIXqFNxEAxPyZpGk24mNNpUlGDKcNbkd7F\n",
       "cbQuvVyRNtRMBZqPm51BoE3EZkIWQg8fc+A9OkODt0sxZdLMwzttWKBC8zEjHGi6mxgUNYsmZMxl\n",
       "6bX/GvxpZfeZZ9qgjSrR1PJa0+s+ZVGzaELGHPu3Aeg/DSwDFdxbeqcNkbwSTS2dzT74O03SLJqQ\n",
       "MQcnVWSc79IGHmaPBXmmDWcbSjQfyzddzcUbe0bUdjRhYy5FO7hVYOGiIcNH2qBt9YGmllXNxbu0\n",
       "Kmo7Gi/m/h//o5JODzfeV/U7Ey76QFOLb3+iXCFpGo3nf1S655P4j0p6x+H9j0rgJ/RW8lu3e/yg\n",
       "+ZjON9WWelnULJqbOzoM/Pt/XuZayAu4HvEAAAAASUVORK5CYII=\n",
       "\" style=\"display:inline;vertical-align:middle;\" /></a><br>(see <a class=\"ProveItLink\" href=\"../../../__pv_it/theorems/c48277be1924a1f3bb4a670a313fec913888fce40/dependencies.ipynb\">dependencies</a>)<br>"
      ],
      "text/plain": [
       "<IPython.core.display.HTML object>"
      ]
     },
     "metadata": {},
     "output_type": "display_data"
    }
   ],
   "source": [
    "%proving integral_upper_bound_of_sum_lemma"
   ]
  },
  {
   "cell_type": "code",
   "execution_count": null,
   "metadata": {},
   "outputs": [],
   "source": []
  }
 ],
 "metadata": {
  "kernelspec": {
   "display_name": "Python 3",
   "language": "python",
   "name": "python3"
  }
 },
 "nbformat": 4,
 "nbformat_minor": 0
}