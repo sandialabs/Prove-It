{
 "cells": [
  {
   "cell_type": "markdown",
   "metadata": {},
   "source": [
    "Proof of <a class=\"ProveItLink\" href=\"../../../../../_theory_nbs_/theory.ipynb\">proveit</a>.<a class=\"ProveItLink\" href=\"../../../../_theory_nbs_/theory.ipynb\">numbers</a>.<a class=\"ProveItLink\" href=\"../../theory.ipynb\">summation</a>.<a class=\"ProveItLink\" href=\"../../theorems.ipynb#index_negate\">index_negate</a> theorem\n",
    "========"
   ]
  },
  {
   "cell_type": "code",
   "execution_count": 1,
   "metadata": {},
   "outputs": [],
   "source": [
    "import proveit\n",
    "theory = proveit.Theory() # the theorem's theory"
   ]
  },
  {
   "cell_type": "code",
   "execution_count": 2,
   "metadata": {},
   "outputs": [
    {
     "data": {
      "text/html": [
       "With these <a href=\"allowed_presumptions.txt\">allowed</a>/<a href=\"disallowed_presumptions.txt\">disallowed</a> theorem/theory presumptions (e.g., to avoid circular dependencies), we begin our proof of<br><strong id=\"index_negate\">index_negate:</strong> <a class=\"ProveItLink\" href=\"../../../__pv_it/theorems/9a2a97d60adc8649195311cf60dea354760544e30/expr.ipynb\"><img src=\"data:image/png;base64,iVBORw0KGgoAAAANSUhEUgAAAawAAAA/BAMAAABOY+HGAAAAMFBMVEX///8AAAAAAAAAAAAAAAAA\n",
       "AAAAAAAAAAAAAAAAAAAAAAAAAAAAAAAAAAAAAAAAAAAv3aB7AAAAD3RSTlMAq1RmmUTNIjK7EInv\n",
       "3XZ/CtNrAAAACXBIWXMAAA7EAAAOxAGVKw4bAAAIXElEQVRo3qWbbWwURRjH5+62t3t7L62JH8A0\n",
       "UGJEE1GqRoxGbYkoEIESYr/gy51IMJqQlm+SEHtGwweD9mJDSEsC9wFUDNiKSgJGrSeERiE0BuNL\n",
       "qByxagJSKqW2Fsq6L/PM7uzOzu7ePMn1ue7d/Dr/2ZlnnpmdIuS1vKYNo3C2BnupGrLA++UQtGgG\n",
       "SPBJTbvK+l6+vb0Yjpgr4Dd/Yr+9FFSiFIIWzQAJXmlvZ8sKTcx3Wr5uCl+IDQQV2R1Mi2q7PeiK\n",
       "kCz1W/zmYDN+kwm8zQebAmlRDZA2WkyWBL3mKbjSPXZbQJn4d4E0rPLTSyHvHiBttJisbnxvlGm4\n",
       "crk8GlTobBAN26HO7rCd8qwbLSbrReyTDXClBy0JKrS4M4CGbRnaEbYegCRoIVnxKU9Nh9DSoFLJ\n",
       "UgBN6dVtFzqBLoSVBUiCFpKVBcov5NI4m0hVfzqAhofWFOr5KGz7TrvQQrK6ceRR7Gni10QpsNhx\n",
       "Pg3spDL5SNjbddzlhWTNh8lqnFx6ayy4WBufBvbM/Zeaw8pqc3kRWeo1/Ka/NdI0k2/m0moxQIIX\n",
       "kZWAntxSjFSHTIFLq8UACV5EVgr63t5odZCmuLRaDJDgRWTVQ3T4L1od4hNcWi0GSPAisvI4ra27\n",
       "Hq0O8j88Wk0GSPAistrW4js/GbESp3i02uwU7UVkdcCybQYv3mzjLyr3lnm08BwGEnsRWbMwKsyl\n",
       "dFzDoeyDFxq1QW7BK00cWgQOA4m9gCwZIkWXNdjnz5KPHrvKz0xbObQIHAYSewFZ8Ws0MquRPB6t\n",
       "5CddJQ4tAoeBxF5AVu4mdABrBCiaHbglevGBf5MhKxnm0HgcG0VusguJvYAsCXpIG/Rrzf6bVH6U\n",
       "w1+owxGgfpxD43AcKDA3EvsKMu/47W5ZMbNjcFPNFGQ7e3HulPJuwz19zPh5N/z6O+5mMxwak+NF\n",
       "+SCxr6AnDfeyW5ZkzCJJ7qI7CTlQB/6aesadrabnGL1BJTlgskyXZNFYHAbKB4l9Bb1h9NCSW5Zi\n",
       "3MSt/PQS2vwMTEN5zdVFMnf0Gf2L3PSEFVxSkxwai8NA+SCxr5hy002esfWq/jrMTwlhhGikRTXX\n",
       "rlLeFJyxL1ifx65yaCwOC8VGYl9BCb0Bkt6Q8YD+KkSUhTr+pb/ypflzoX3hpVCyPBwWio0kstDp\n",
       "kZHvvbIyIyPnBqLKOqhRRe47fas52PXXxxc+/ELvEp9YUW8iQJaLQ6PAmEjsdVkrEOrzypKKKFXm\n",
       "yurHFVFtWSTxwXaTtGdrbp6kx7clzr8tjZjWQNGYHAoFxkI6ZG1BskFWlzU7ZenXthACeWDQuHvl\n",
       "Z0QWTtjUG440/IazKWSrcj/oA7szMRPT+YussXOT0UhU+kdzKBSJFUwk9rqsVDltRPPUg0VqOu5D\n",
       "nxOE+cDg3bk70U/o2EWerCyVc8etO3BCD6x4J7o7pKysO3e3Uepm8x4X2UhbVrxqRoz6Mp1l3OuI\n",
       "GMYDA2mFMekrdzbzZMmz1FwzDHXREWY9nwspi+a4UKRWDKQtCxUeN5qj8TAtK5moku1944GBNZ1L\n",
       "Ei9koNxJKnNosHtOvlPV2+0e37FFJ1Q0x4Ui1fQiHWMLHTbmKPSwKydMLyyT7f3L5VHVGl4P3cWV\n",
       "lS96mxPtQejA2kaUJn8kMBK6OBQKjI10yNpmtsQylyz5G0S293vQkjqz86nVAZ4shZ6Quqx1vB6C\n",
       "F7+9Cq0jATpw3lI8X7BRZIXFRNrzFooVraq7Mvg5Zl82t/eH0NLEK72976F0uqzCGMxARc7Y8w09\n",
       "0Bdb7h2E9o3FnzAymR99ZWWoecuz2LdRYGykQ5ZlQ4yFCWzvj6OKYt6mdW+iNMgiefh5Emw20nXB\n",
       "D0+ypEfJw+5s3Y59zqx+o+djD8oHiT2Rpc6w1lvG9r46YD4wMKfsgVb0vO/CBKWojDnesIHKRu1M\n",
       "NTvFXZi4OGyUDzI7RctSBlmyjO19pWI+MNiqVz5xy7yj5OEa2UcjW2Gr7TlC7x7ZPpghdsHVrYwO\n",
       "h7y7cjQHMVE+yMw4LcvZDq7Vcdy6nUd7d9ILVYhnV/BUlrCjckKvTmIUlmsHEF2pesaGUs6Oji4O\n",
       "YqJ8kNiDrNSCoq+s9eycMAGbuS0Dnqi8iO7/OALkcOW6hjk0DseBIq3hQnbRexnpMf+9DJ+lfx3s\n",
       "OeetqVK249s+/kOdfAOHFoHDQGIvsEWjwqKov0BHZXmBxn+o01Ll0CJwGEjsRXZ1z0NstoZpxybT\n",
       "Np/Tgo5MtRU5tAgcBhJ7oUcLuF9bD5Uk5945/+loB5cWnsNAYi8iqwUi4ASKZrM8Wm02S3sRWV14\n",
       "TpAjPvVVrvNoNRkgwYvIykDPPx2tDrlpLq0WAyR4EVlpyLe+LkeqQ2qQS6vFAAleRJYMi9yuaqQ6\n",
       "9DdwabUYIMELHTfZBBvGhUh18DnvsElAFiDBC8lqwTE5MRWpDpv5NNq2l6IgwQvJ6sfJoBrpUb88\n",
       "wafRFhuIgCRoIVkSjP1VRhAafX05JELcc5vp8QAaHSCLYYLXuAstJEuFUd6vx4y/YqUNknESsCfg\n",
       "3GZ/lUMbWz5KFw0+JetAErTY6c+/YdrQG7o5VYWG5Z/bXM2h5TrnJptWGo0DOUeIU7I2kqDFZGWh\n",
       "dX4zVnCkmbnnNuVJDi2B9ij0xRCnZAnSRovJIsffjRPsO1Cn1Qn55zZjDVwaCar4aGuIU7IEaaPF\n",
       "ZKEjMGYL8uAR1OrY2PEt8miZR1MGZUR1whCnZAnSRgvKSkEv3IPWPDtWdmzs+HaYIR5tW7og0ddC\n",
       "nJIFpAPNlhV6/ab+jN8cKoZsiGQzjyb98dVF+lqIU7KAJN7nX2f2h/7XGfQatFjYAvvD0KLZfpdX\n",
       "2tvX/w9JRVhfSGnvBQAAAABJRU5ErkJggg==\n",
       "\" style=\"display:inline;vertical-align:middle;\" /></a><br>(see <a class=\"ProveItLink\" href=\"../../../__pv_it/theorems/24bdce39813cc22d4139c34a4559441ae56516b30/dependencies.ipynb\">dependencies</a>)<br>"
      ],
      "text/plain": [
       "<IPython.core.display.HTML object>"
      ]
     },
     "metadata": {},
     "output_type": "display_data"
    }
   ],
   "source": [
    "%proving index_negate"
   ]
  },
  {
   "cell_type": "code",
   "execution_count": null,
   "metadata": {},
   "outputs": [],
   "source": []
  }
 ],
 "metadata": {
  "kernelspec": {
   "display_name": "Python 3",
   "language": "python",
   "name": "python3"
  }
 },
 "nbformat": 4,
 "nbformat_minor": 0
}