{
 "cells": [
  {
   "cell_type": "markdown",
   "metadata": {},
   "source": [
    "Proof of <a class=\"ProveItLink\" href=\"../../../../../_theory_nbs_/theory.ipynb\">proveit</a>.<a class=\"ProveItLink\" href=\"../../../../_theory_nbs_/theory.ipynb\">numbers</a>.<a class=\"ProveItLink\" href=\"../../theory.ipynb\">summation</a>.<a class=\"ProveItLink\" href=\"../../theorems.ipynb#sum_split_before\">sum_split_before</a> theorem\n",
    "========"
   ]
  },
  {
   "cell_type": "code",
   "execution_count": 1,
   "metadata": {},
   "outputs": [],
   "source": [
    "import proveit\n",
    "theory = proveit.Theory() # the theorem's theory"
   ]
  },
  {
   "cell_type": "code",
   "execution_count": 2,
   "metadata": {},
   "outputs": [
    {
     "data": {
      "text/html": [
       "With these <a href=\"allowed_presumptions.txt\">allowed</a>/<a href=\"disallowed_presumptions.txt\">disallowed</a> theorem/theory presumptions (e.g., to avoid circular dependencies), we begin our proof of<br><strong id=\"sum_split_before\">sum_split_before:</strong> <a class=\"ProveItLink\" href=\"../../../__pv_it/theorems/e6dd8143f6f69c668751fe1fb65247cdd3db34e50/expr.ipynb\"><img src=\"data:image/png;base64,iVBORw0KGgoAAAANSUhEUgAAApYAAAA/BAMAAACoUJU2AAAAMFBMVEX///8AAAAAAAAAAAAAAAAA\n",
       "AAAAAAAAAAAAAAAAAAAAAAAAAAAAAAAAAAAAAAAAAAAv3aB7AAAAD3RSTlMAq1RmmUTNIjK7EInv\n",
       "3XZ/CtNrAAAACXBIWXMAAA7EAAAOxAGVKw4bAAAMVklEQVR42r1cbWwcxRmeu9u73ds7nx2VH0Aj\n",
       "4qgtBTVNrtAGBdHYUWghKolPUP8obXGANlWQkI+qlYia4quKIrVN8bVphJJUyf0IFErCmdCmCqiJ\n",
       "69ISURKbCgREuL6UtCgBHJMvOyb2dmZnZmdndnd25xrvSt7nvHvz7LvPzrzvOx+3AHi3HssaAXOx\n",
       "aQ3yYU3EAuYDEdgc1rDtyVrwuTWKHCJmLOuM3/d7ursrc6LlfwkW1kYtcTICG8RNVUf9pcEFCtXg\n",
       "U1EtohwiGt3d/lqCudnSk/QC5ahFsgOhbAgTztce+1DCtiPwTHSLdgQgAENxarmnSOrOXyMXMYdC\n",
       "2RDmWTv6vMyA9qDLRLeIcogYs5ZfpY7OaVC5d8N83aJaGBvC/vGro2iZfCXI9Ua3iHKIGK+WxhT5\n",
       "0O/UojeMwZBCLZ0hbDZ+WDsRRUvwesBxFYteD8BYtcy0kQ/3OtWhaoYFueRkCJuNW8DSSFouCXCL\n",
       "KhZRDhFj1ZJelMmTL4WXWh/llg6DFcY2uD0eomWmGvLAIlhEOUSMVcu3abN1bqg1QvRcUpGz2TjB\n",
       "bkSqZXLK35GoWEQ5RIxTS4PmX/1O5MuUwEBYsXynlA3jsVQ1kpbgJX93qWTRSwEYo5aJCfJhgXNI\n",
       "X7m8FtpXmpCyYXx0nB7/Ue9BGVuX71E1i7oCMEYt66SCmefUEvyzUrZ6pxJbT9EvuzzXFIeIMWrZ\n",
       "QRxfakqt3N+lbB1qvd28X19R0SLKIWKMWu6i3cIJtXJdZRnbLsXRFb8US9EiyiFijFpepKGyqphK\n",
       "FWVsF9XIkn4eQ9EiyiFifFqmP6bsA2oF+9okbA5rxE3/yO9+B5riEDE+LbXztM2W1ArmByVsDmvU\n",
       "7VU/L1JqjkPA+LTMTJMPvXbS0WuxbVZaMDstYcOYcZFZ8rGJXT4pj21RExwCxqdlKx2qn8Fe0MIB\n",
       "2Pzh8eFL0oKFMxI2jEmLROLf3TPfko9NnG73HptpkkPA+LTsIw5ex9EiwaZBUmPtUld/TsJGcMGM\n",
       "c+bLZ+SRzJuPEovUOQSMT0t6YSrNGIsCmjSOGhfDb6fFYgFqldSM/mrQw1LnEDA+LU8TH1Qg3rHf\n",
       "YrnObXw9IUjySnNGwkbQsFiuo/H5aJknrXtnBYlF6hwCxqdlF2nIGmk/BYulzSnum/8meA9BS8JG\n",
       "8bTF7p7LRwvkC2kifqs3L6cWKXMIOATsiv0pUcuEXfmLl7PbQzp7Wdph2+Wpb9qLKCAmabZXIJcf\n",
       "qwWzOazeWeivvYD2n6P/vkuG17xZAbVImUPAIfAVBN8TtdRQypUpX0YtewlZhlbHPZYYBp7bjCrA\n",
       "k87/D/Al/dgomsNihMpdidqc6fS/MzX+8q78arJJDgGHwE+QI6iKWhqoum64nG18mNSuPK0Yac/k\n",
       "/NA30HdWOv9/kdS9UjAbRdBjCclA/jPbUVV3mlYKP7msk9zf5XxzukkOAYdsrXPtHn+J6sS+y6kl\n",
       "9XrMYR26xDfeNL4nltvl8fkF7cFsji/NWcIcY49dOM8O4PMJ5wEuBqJFqhwCDoEUVD3jjT03wr+1\n",
       "c6tlxuIvkMN5NzuYKUbXEvRe4L/xZ3t/LTtwf6iWqhweLcGR0dF/eLXMj46+MzC3WprD3MBEav5r\n",
       "qAlp8Krm+NW/gI0ihxO+rmIULfdYnLlfOHKFHTzg37PHn3oRPo7ncHw7K9FSkUNAqOXtAGz3aqlV\n",
       "QLYWpk9ndClNetd1lpTQfiS9pwatjBo43lgN1V3r1nL1KNpe49hMpqXTByTbrFOROgvXaLDKLw3S\n",
       "klmkyOHV8iGgo+dv3lp0awmPPeRwbuJj0/wdq/5gfxD7EMZ6tgfgenf8NWmnu878ocb7pz5b2Rb4\n",
       "+G8CHbVPwFvDXz3kHWmgbKarK9/FuV8dq/JP+ETKqekEvLdF2JHMerUcbJJDQKhltpZDgTL7pQqX\n",
       "q28Hf3RI2dIn8NhVW8Gb4IVTPlqaAHzS/oD31zdAiJZgjBshWoIDDjSmghe4GBMqWrZwoztJXPZv\n",
       "kIWscOl33zes5K/SSu6ySInDR8tkww49rTW+37PYFXrY0iftdtQpMD5b9Gqpr6iBw/Yne7+sCEK1\n",
       "7Bvxeno823/UDuxK9VKf8QYypAOktAm+FaFeqnF4tQRrl6NnMH8fr2UmBUubz7+PGipZ+nRwOcn8\n",
       "NQ24tHxm+Z9QJZpXBsbscfhE7P1JO/i6Vjp5Yw8AH3BZ+K8AbeNoHeDvoU0jQf7SJ/aAwstcZ6aN\n",
       "tk+0INCs0YlzaexR5PD6S7DP7l8sE/rjuWth2b3lfnS7eOlTS2mzidW76TqXluabBsz707+BXywc\n",
       "K3Ti/Wacx7hWOvlomeY9/VF8Aw1gbk0Moil/soAgWhwHPVwgw/UI7ATg6dJ8kHNuUK6lGoePlhtt\n",
       "+W8VtNT/Yh/cjD7jpU+rwFNp+7bMxoBLS60TCpbegVxEtohCL9on7f/dK518tOznEkcd9x5gIpSc\n",
       "2j2YbsfpUeT80uB7UX24swSTmCU/vwPcSVKbkPxSkcObX4JEBesljBNdabuK49gBrsB+I7V+27Zf\n",
       "g1yuZtYcLfOlQhvA9TBf0drI3hbXvdJpmD5sll8e5YcR8QljBJhrGp++wW4IgVoOCwhzQ96r4kAG\n",
       "fgnA7vHkSsTwRpCWzCJFDh8tAQsYwpibOQm2QL9Flj7BlmzYNeXOn4Ic07Jezt5cMw+gS7WCfDvd\n",
       "G1eUuZVOdLSHDdRk+PRUI0OxbzlHfsyPBbk3ysbGkL7Df2EFuZpTVh/hh6mYlswiRQ4BHS3Nab/x\n",
       "y5eN8zebA2jpE9x/F7oMO6sf6ATfZm08X+6/C97RSdj8W2rLwDP2Hl14Xs290skz5ga2cYYvzLRz\n",
       "IxpslGOsHD7mBrJcTpFsu48bjWAjFC2TnrENxyJVDgEdLd3LYZmWX7/h/aIxhJY+wf0PbjwFNkDb\n",
       "U/OuOXAv0zK9cvHzJAky1jRga0d7PAztXulEJ06dWVjtGDMb/r1Nx9qyVDo6ejXsNxZc4hGsZikd\n",
       "fCYt22lC9zg9ukFs0KxBnG+SQ8AhYTjJb1w96dqbB7ZtZWf4XJ30c9oD5ihINC7QQHoLq27IOS6n\n",
       "ExVmVRD1koSNYoolMyloQOoEJX8a8IK0DnrnKM42ySEg1TK7sBKo5d2uPb/5zXmlA3rxHaS1pz72\n",
       "JERJ/v4eIfieX/4ssFF0JTOL+MkjOs1U9usecBYpcwhItcyNB8/3FL0zIBIt8dzNz9CKZ87P9ZDQ\n",
       "kibzj31O/TW7pGMkad9lK20c6iyZ2S1fANjTFnQBdQ4B/7+5M5U5jDrxPuYFISH6/gKrIiuYmpWw\n",
       "EXSSGX2hJV8A2OHTIb3QJIeA8c1DtlCnP4YTogvr7G102LJmpAW1KQkbwV5M9uA7VthPObv8Eqwm\n",
       "OQSMcW0WTUbwesou1+qds9KCmQkJG0bNvRZIPnna66dNuTkOAePTMkUV61CcKW4dkbClziqa4RvI\n",
       "is1xCBifljr1532dagX7ByRsutpSc2D4rddUtIhyiBjjuuAjtPur+Nv00xUZ2xE1soKf81W0iHKI\n",
       "GKOWh0jimZtWK/dbKduhmhJZdtDnoKJFlEPEGLXsIxmEPqtUzPxIytbXUGKr+y3YVrSIcogYo5YZ\n",
       "2r1dpxazpqRsDmu0zf8nLOua4hAxRi1TNCnqUFqmlBmRsqUmlYx40F8dwaJN1SgcIsaopUlDaF1p\n",
       "DUNfUcpmKv2QQg/4EZtgUWIgAoeIsf5O9w6aZyNfPX6bMwyD594CQ1YIm41R2XL+v4rShIiUl3Vq\n",
       "KYeIsWpZJ2HCnEVDLldl2lehAZAinnsLrM2zIWwII7PVG8EXKZx4hA77uV45Ib8wxxmnlgX69D9A\n",
       "o0k7DVopOmWvZdBGQtgQRmZbHXAcWgTeS1Tv09Dz2OJ+5UQwh4jxvrvkX3RgAj1J16sECm0Sd1kK\n",
       "Y7MxGpse9MsqZFEx26BN2/XKiUAOEWPWkr4ECL1RyBjUAW6V9txbYJl5oWwII7IlgmS233XEZvoO\n",
       "02kzCYeIMWuZo7ngfrAxt1ajNQnPvQUkUq+EskGMynZL4Jn98G8zKJM2PgGCX4tEOUSMWUu0AgL3\n",
       "uhrafw6eonWCzL35bhsr4Ww7QUQ2/XBwv7ChD+531kC6XjkRxCFioJZz9W68vUQZ862oJe6PwLa3\n",
       "EjXtDx5bgxat+eY4rWKPjodyeDDg3XhPzNW78XRK+3DU/L4UgU2PauwTknMPK3KIaHR33/0/++Ub\n",
       "J6wlJ5QAAAAASUVORK5CYII=\n",
       "\" style=\"display:inline;vertical-align:middle;\" /></a><br>(see <a class=\"ProveItLink\" href=\"../../../__pv_it/theorems/9fbccde6af99abd32e828285e510fee75edd0eca0/dependencies.ipynb\">dependencies</a>)<br>"
      ],
      "text/plain": [
       "<IPython.core.display.HTML object>"
      ]
     },
     "metadata": {},
     "output_type": "display_data"
    }
   ],
   "source": [
    "%proving sum_split_before"
   ]
  },
  {
   "cell_type": "code",
   "execution_count": null,
   "metadata": {},
   "outputs": [],
   "source": []
  }
 ],
 "metadata": {
  "kernelspec": {
   "display_name": "Python 3",
   "language": "python",
   "name": "python3"
  }
 },
 "nbformat": 4,
 "nbformat_minor": 0
}