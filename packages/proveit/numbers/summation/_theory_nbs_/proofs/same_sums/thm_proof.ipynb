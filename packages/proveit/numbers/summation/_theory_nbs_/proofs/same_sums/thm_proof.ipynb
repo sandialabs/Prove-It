{
 "cells": [
  {
   "cell_type": "markdown",
   "metadata": {},
   "source": [
    "Proof of <a class=\"ProveItLink\" href=\"../../../../../_theory_nbs_/theory.ipynb\">proveit</a>.<a class=\"ProveItLink\" href=\"../../../../_theory_nbs_/theory.ipynb\">numbers</a>.<a class=\"ProveItLink\" href=\"../../theory.ipynb\">summation</a>.<a class=\"ProveItLink\" href=\"../../theorems.ipynb#same_sums\">same_sums</a> theorem\n",
    "========"
   ]
  },
  {
   "cell_type": "code",
   "execution_count": 1,
   "metadata": {},
   "outputs": [],
   "source": [
    "import proveit\n",
    "theory = proveit.Theory() # the theorem's theory"
   ]
  },
  {
   "cell_type": "code",
   "execution_count": 2,
   "metadata": {},
   "outputs": [
    {
     "data": {
      "text/html": [
       "With these <a href=\"allowed_presumptions.txt\">allowed</a>/<a href=\"disallowed_presumptions.txt\">disallowed</a> theorem/theory presumptions (e.g., to avoid circular dependencies), we begin our proof of<br><strong id=\"same_sums\">same_sums:</strong> <a class=\"ProveItLink\" href=\"../../../__pv_it/theorems/ff2b98615e98ea7eca59e0312669d3dd424d6e640/expr.ipynb\"><img src=\"data:image/png;base64,iVBORw0KGgoAAAANSUhEUgAAAtoAAAA/BAMAAAAs1nIYAAAAMFBMVEX///8AAAAAAAAAAAAAAAAA\n",
       "AAAAAAAAAAAAAAAAAAAAAAAAAAAAAAAAAAAAAAAAAAAv3aB7AAAAD3RSTlMAq1RmmUTNIjK7EInv\n",
       "3XZ/CtNrAAAACXBIWXMAAA7EAAAOxAGVKw4bAAANc0lEQVR42s1cfYwbxRV/ttdee/1xRqoqQFHi\n",
       "tGqKRNqYNkREAs4VAUL5uKNV/mgE3EERFCqICaJqUIoNfyBVBe4AtXABEVctqSghNjRFKi3NkZQC\n",
       "aZNcq4aGiuOcBoEgkBx3B3ccSbY7n/s1s7t2tmJHunuj3dnfe/vb2TdvZt4aQFIGdH0MghelDZEs\n",
       "zK6A9m1peJy8oiMIJrWbiUzp+pT0ooE1a+od3NU70SSb2xXQvsKwx7nBjiA41HtEpNes8WC7o5tK\n",
       "zkaTbGZXYPsek58aqHYGwWSmxc7sDIntreVoss3sCmzf1pLsjLarQwgmtZ1hs31RRB3JRU77lp9z\n",
       "pOJ1QXy3dARgjiRxwQNvB4HgUEsb4bKdnosm2cwubp929i54xfOSf8lODLFh7FdXlXPVIBBM5ivh\n",
       "sp0qRpNtZhe3T902CPOelyyTEXktq9z5DvQ0gkAwGZ8Nl+1l1Wiy7bxvgFg7Oer9gCRRSdwcZxfC\n",
       "VYEgONRN4bL9RkTd9hsu+3J1peIZ2cYlTjFvPoVXYVU6CASHWlYPk+30VETd9pTLvhrk7/GeR/xF\n",
       "4rZ5sKJOwoEzAkEwmauEyXZsMppsM7ss9l0Jhd95X9QnPrzIjOGLcLgcCIJJZTJMtpuVaLLN7OrI\n",
       "vgEhk9pMFxBMJqfDZLu3Hk22mV0d2ZcTTtATc11AcKi/hsn25ogOkpu7sU8RTvIzk11AcKi+aohs\n",
       "fxpRtj/txr74tOhoz3AXEBxqWTk8tpOfRZNsZldn9qkfCelodQHBoWrF8NhWPo4m28yuDu37uzDM\n",
       "6O8GgsncaHhsp+YjOm+ft8l1ullOeHl70bR8HT6YskDobX8IJjPz4bHdMxZNtpldVC7TSWii3XFw\n",
       "3zGPy46WBAePE0es09DkN9cs0Ef9IZgsTIXHdo2MILHxf39OtH44XvKwi9tnbv0lJkoeiyuC6Fyl\n",
       "A+2i4/zQeVP+EEzGZ8Jjm2KmPr9enCgHuecJc/xTPEKMIcE5ShfkdXO18xJ/CCbTn4bH9tH2SbOt\n",
       "uuuqR/OqKVQ529QuLod0s9nFbvVMYVPgGAvU0ad1Mz5Uqr4QTGrHw2O7r3TSbP/XXU/KR6EC9QPX\n",
       "sGZitqldXBZ0c+KScKtnCnsEExmFuY2juslx2ReCQ+mUbfxmfFnIdgy/Q/47epvrjG0ZmO90AEez\n",
       "yh8bpK49jvrEIWnzMwGe2oPoK9NmYrapXVzC5uOuNpe+QNW/OMcU5gUhVoZN3DOSvA8DIjtRd0Jw\n",
       "qIkGYftCJG4Usq2gGDPlv1GwrsrYloH5lS34/7P3lWg9hTxtqiFpraHlh+tR7WbaTMw2tYtL2Ko7\n",
       "B8DsqTupysQkU5gSTN35MW3fjPQOesEJwS8jJuyEu5G7GRaynUZddYM/V/sajG0ZmF+5gLxo32vQ\n",
       "eg+iPVGRzVoQt/jVXk6bidmmdnEJSVf+TO4rm6hKZZApzAgmQzne3wf0kuwOLgInBIfa3E/YRk8j\n",
       "WxL7bdR1nvPnSgfGtgzMr+DQNTnP6wOYH9n2d443zjVIMyvbm5x2cQmw45jjfSGKkMp8mymMCUI7\n",
       "05dn9d2yO3gLnBAcalGJsI0MTUlGyW8af4OdsC0D83PbWEl2jNf/hA9/X9J8CWqMH1CqTJpZ2f6p\n",
       "B9sp3XE7L3KVtTpT6M02rPtEcgfqHDghXGzDnvHxv0nYzo2Pv9nqhG0ZmN+CBlKSWPCPCqtfC2d+\n",
       "2/Dj7uHxyO1oZEPKivHtDcgiX/esne1ES862ts++QHXWni8wlb3AFCrTnmxv1W2UxP/8bplAJCZd\n",
       "EByqr0zZXm19+exsK3XINHy50ixsS8D8FjSwLT1tVtem41/dBbACGzyOC452soPqa7T/NMtf2liG\n",
       "BOqVKxjbtOmMwy5Nt0x49LpN8wmu/jSgChlFVsXQNNnms3dSnoeNwwQiNuyEELB9G6gIUVtVdrFt\n",
       "nLhNzE/ste2PsUFMO2ayTcHMjibfBExv5w8yj9+zWp3V47PfSRuRzVLX5LCB6fknqt5RurcKceRP\n",
       "ljpGyfh1drs0y6KIYve6+OUn6vcCU5gVLFk1LYsifVbnH5/HvQRB5NouCA61o03ZzjSyaMDMnF13\n",
       "z242we8FNB0c6c9Xs9saArYJ2Hl8YnKfR4/O8ueSwyP2Ml5XdmFbhpxXvARpFFK9bPxddg42ZZI0\n",
       "s8ckW16Wsg0TNirjk0wlBh4KxHbeuvqXK8JQlUAg6YBwsx1v43HNmf6D2f66aJBcVUdTsXtuBwHb\n",
       "BAyz98BpPycDmvfYaLL9Iq/nr1+Nqs4cmfQUFEYp268jKwBn4lzlYFv9YVXOds02OSEDM1JZGOUK\n",
       "/dhWrXOkoRJ8QCE+ABeEm20YPB/d+gIc6p1/qG1lO5Vo40TF4qFHcXiLUhYL5M4qFdEoScBq6J1d\n",
       "zcIHf7aJJ3mQ15ulAcTl1xzuMzELmSLxJNpUEjmB+BhpZvPbr1elo6RBiW2yhuGwykyxQRUK/bZ1\n",
       "Nl+wJhL2VrHdCOJBDRwQAr8Nz+Hk+ZUYqJIpWtnOLmngRMWX4CCwlMWniENeXxeyjcFWqofpHHYJ\n",
       "Tgk9WFhpc1MkS9RkO4Mf8V5e7200S21qkvWySWNwNOQTRnVemyoYYphYbu3byWF5TAJJ+9Y5drVY\n",
       "ZU+5xRT6xCQwYL2XXmNIpxDTWXBCCNjeiAlehd+zRqpsZVt9iSQqzuGoi6Qsfhef3pYVRoAEbOH6\n",
       "rXeSe15BUkKLBdvYSbJEk2M2D65+zOtfhGa9RSI9W/AzC4saJMqKDWpzWRq7XWpn+0ce8bYl44n4\n",
       "lX6msmdtmyn0ibftiWHNamyeQny8DZwQ7ngbYvhZPUzI6ana1gBPRefb6VEcB5CUxRUjIyMlaL0A\n",
       "v+UzZAvbGGxvKZ3E95/+AUkJrSu2GJVmid7Khor0GB+xcP0hKFxhnNvvvOcrD1+OxP1GXyrB2+8b\n",
       "LzBia7+d7UfBYReXxvPa6whyuMrEpcAUitjOWeJt29pkcuH2MQqxvOWCELBNyqvo33YziDBXXHP1\n",
       "wrA6WQeasvgzrOSMMrwAtgUucxKpzqyGxE0jIw/B3aejnm6A5u19imSJLuF2H0BvXdGsExjBahte\n",
       "i8rzV/kntJmVbdMxU7u4pKtdlvItm0qqMCNI1LGsC17vnCxU5BAciixDcra1edBasBhOcbNdM/p0\n",
       "YrhinMYpi3i+k1UsjsBccaX+dfhqNU0680H8HN+Dmj0pFGeJquY4vxxgcarE65bFJ2u5u0Gy3s3l\n",
       "qgtos4ArrjBiH6aL19lUUoX5WY8VV8jYFt3Sp9MsejEEh5qo2tg2nEV6JyhHbnWzfSWkqurChnEa\n",
       "pyyq6FU965TDv+CumO7+c7Zj7fuzdEq5BKeELoSVCn6kLXga9wCcJWqOkpCpwhtbzDoprtXHBY0t\n",
       "5G14hPX+YdpMspvQb5eg/MdkGnGxadCmcoPLa5izIr4ueLkZKRvdI7Zbu9UDgkPts+/doP4SZw5F\n",
       "vHcTp/LpkRF7csXRsp3tTDV2DmyoU7aTRbgRbnsfP9JX4D5kFckStbCtDcP5F5t1sHFqcdsXkspT\n",
       "1gfziHynrGyXcK7pZb6Brnq7alNJFfaMCnaLWHCRMMO/RAm77X4PCA51zMZ2ZrFBztr0mPlNoJvt\n",
       "tbLAubcl2CnT/jASeHYDcBe46gX5NoZKHf67rJmYbWoXl5bwL25n9C6rwppgvEh85g7/lvpDMKna\n",
       "9yWzR9A+m/qwuXbhZlu6ZTZQFLBNytUB2T7JImab2sVljQ/VWl9FDjYg+IgoyXLNzHjl1zP+EEzS\n",
       "y0PZBW4S2lKCfJJUW37ZvaWwyP7wzbKHXUya4d/6RY6lQPsrIbBZ+8QR/qmL9Tl/CCYTJ8JjO++R\n",
       "bXuP3B3U4f9cmF1Upj65AZfxfbp+3OOyPpFhE3QrgUDc8qbu+TMADIJJZS48tpWIfnbtSKPus+Tw\n",
       "TXtctk7IX5Us2FpK2R+CydRkeGwnpqPJNrOrQ/uE/b633A0EkzQTMRS21Zloss3s6sy+tDDbu1bp\n",
       "AoJDDbXCYxv2RJNtbldH9hWEo19urAsIDnW0HiLbOxrRZJvZ1ZF9mVHR0ex8FxAc6nEIke1aO5ps\n",
       "M7s6sq8p/GZfPdEFBJPaR2GynRqMJtvMro7sk3zud0MXEEyyz//CYTsR0RCQ2YXlLwN+g3eLhMFq\n",
       "cIxbHDI1FibbWkQ/KmN2YRlwoUCVhIvNVmAMBsGhauUw2YbLIhqUXGaRSrBv8LKS7quMBsZgEBxq\n",
       "B4TKdjOiwySzC8k8WyYWbEsHuBUNDZMcw8xD8NHKLw2R7cJoNNlmdiHZBLhkxChlwba0pVwuw0Lp\n",
       "Ik1QEMTDZh6CFwSTyli4bONk2iiWt0zJl9oF29IWnyv9khWlHDMMMw/BA4JD1fpDZnsgoj91xOwy\n",
       "pMmNYFual5j0F7LQTwpyDDMPQQ7Bofheb1hsZyMacTO7DLm/QT2JaFual3Pl087nwcAgnsSShyCH\n",
       "YDKxO2y2Uf5SJMsTXE6y4c+yLe32Aq96zMfbJgbNQ/CC4FAb6wHY7uxXc5+pR5NtZtcz9SuY97Rs\n",
       "S7tnnx4Lq9oB4Bg0D8ELgkPRTyw8fzX3yc5+NVeNKNvMroD2Pel18scdQTCp0SeUXrNm7f8A0ZHB\n",
       "U/yzRKQAAAAASUVORK5CYII=\n",
       "\" style=\"display:inline;vertical-align:middle;\" /></a><br>(see <a class=\"ProveItLink\" href=\"../../../__pv_it/theorems/aca0bd59e6c6807f4ecfa573e1550f792936178c0/dependencies.ipynb\">dependencies</a>)<br>"
      ],
      "text/plain": [
       "<IPython.core.display.HTML object>"
      ]
     },
     "metadata": {},
     "output_type": "display_data"
    }
   ],
   "source": [
    "%proving same_sums"
   ]
  },
  {
   "cell_type": "code",
   "execution_count": null,
   "metadata": {},
   "outputs": [],
   "source": []
  }
 ],
 "metadata": {
  "kernelspec": {
   "display_name": "Python 3",
   "language": "python",
   "name": "python3"
  }
 },
 "nbformat": 4,
 "nbformat_minor": 0
}