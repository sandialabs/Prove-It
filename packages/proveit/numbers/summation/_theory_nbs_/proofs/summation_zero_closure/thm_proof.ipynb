{
 "cells": [
  {
   "cell_type": "markdown",
   "metadata": {},
   "source": [
    "Proof of <a class=\"ProveItLink\" href=\"../../../../../_theory_nbs_/theory.ipynb\">proveit</a>.<a class=\"ProveItLink\" href=\"../../../../_theory_nbs_/theory.ipynb\">numbers</a>.<a class=\"ProveItLink\" href=\"../../theory.ipynb\">summation</a>.<a class=\"ProveItLink\" href=\"../../theorems.ipynb#summation_zero_closure\">summation_zero_closure</a> theorem\n",
    "========"
   ]
  },
  {
   "cell_type": "code",
   "execution_count": 1,
   "metadata": {},
   "outputs": [],
   "source": [
    "import proveit\n",
    "theory = proveit.Theory() # the theorem's theory"
   ]
  },
  {
   "cell_type": "code",
   "execution_count": 2,
   "metadata": {},
   "outputs": [
    {
     "data": {
      "text/html": [
       "With these <a href=\"allowed_presumptions.txt\">allowed</a>/<a href=\"disallowed_presumptions.txt\">disallowed</a> theorem/theory presumptions (e.g., to avoid circular dependencies), we begin our proof of<br><strong id=\"summation_zero_closure\">summation_zero_closure:</strong> <a class=\"ProveItLink\" href=\"../../../__pv_it/theorems/3256e5dd47de24b297636654e44d29901b320ab70/expr.ipynb\"><img src=\"data:image/png;base64,iVBORw0KGgoAAAANSUhEUgAAAioAAABLCAMAAABp2VxXAAAAPFBMVEX///8AAAAAAAAAAAAAAAAA\n",
       "AAAAAAAAAAAAAAAAAAAAAAAAAAAAAAAAAAAAAAAAAAAAAAAAAAAAAAAAAAAo1xBWAAAAE3RSTlMA\n",
       "q1RmmUTNIjK7EInv3XZQQDB8RZsp1gAAAAlwSFlzAAAOxAAADsQBlSsOGwAACjBJREFUeNrtndva\n",
       "nKgShgVBEYQ1a7j/ex27bRWoQkD804nEg5k8FYJ++ApVxaa7rvoaeNfutYkX9n2RrzyEXm9eW82o\n",
       "ZdJSdTHSMCm7eGFVv1zf+Wped+5JNSqdImlLxUVn2S4ph3hhxy8/S1+PSjf3acvlS95Y1x93OeKf\n",
       "gQoHKvh9usjQ8PDjiH8GKh2Z0paLl7AN+7Su+IegMlqatFwNAFruVFzxD0Glm3Tacs2ta7lT8cQ/\n",
       "BRVhTdJy7bvS7ZLii38KKt00py23INiUp2KeiAoFvgm9w1shtuGcii/+Mah0dkhbytMKdmqXlED8\n",
       "c1AhViQtFx6OtotKIP45qHCrkpZyD6jl8ScQ/xxUOjunLcVdcMPxTyj+QahMYLyZakegvr5f+pPH\n",
       "H/VUVAx4r6b2TZOW82+h+AehIkDEI2pjoNm2SwoQ/yBUOgt8UFvnlf51VZ6KygCGi6FuAKEtZ1WA\n",
       "+CehwkASntWl5VnLXi0Q/yRUetAJ9HXdwtByAg6IfxIqAuRRRF1mZa5P9/7JXq14LioSLP6XddsB\n",
       "bMu5WiA+ispgI5f5bVFZ1ImkpeAabcOxMhQfRYXaoJnlyA2ZrZ1/X1Q08C10jbdBg3CRaK3HP/bd\n",
       "m+Xp6XXxZwMQsVhWodd3u3o3ojKALm+o6QRNkMH7+UW2Y555vFhn318Xf+qraHzTIZvq22C8gork\n",
       "XpJkpCOkWyUtBZcK4qcfR8XQPDMv4d8pXIKKAsHjCSqvPapY3WysbgNXay4qZuC+nyXIJMNUAOkQ\n",
       "y2GkRZu/SFDdG5WrleX0+Q7WTCmJmLe2yLi1UmZ9U0fhElQIaMuzCMgsrGB/m3fDU7GO1kxU6OaQ\n",
       "703QdRMJv4ShQyxs742GIsonyyAqVyvL6DWdh1dEzBSaj0dJhmbD8s/l6lrthUtQCcUnguXJXp8E\n",
       "SYg9tGaiojRogt12gKE7xCI2osaysXPAULlaWca35bzImfKty2TY++1ZygN8t4SavMIlqAxlqMgl\n",
       "4GEXhSfEHlrLUHGbAKBiQHi2WjYuVZlHrgNHZ/AgV3dncp1n505OA484Uzvu1w730xVvhSOoTDJD\n",
       "fCoFx5ch6FqLJMXuWjFUzLREdnpAUPGaIESlB7mA1bI1UaFfOqOoXKwsPcIOsAsNzO6zJDqI9RMX\n",
       "69vbCkdQEVOG+GS2Vll77cSIpNhdK0SFD0bGKvSaIBeVbn6Rp2dViorBIqBrlWX4dvtDk1kTFpql\n",
       "MUQK9enMEqeCyK2derdwbADqVVp8OrE/2CvLg1CxEa0AlRH12VYsgibQoetrO9TCRLSjPUWlx1C5\n",
       "VlnaOXBu5rym3bwIN8R07DMQ72+FaefaHam1T/js+doKu6h4/wxxM2YQ/aZQebkrV74fRGxEK0AF\n",
       "jyzYAJvAzJmojGT7zyqKue6TUcagCQCLoxJU5j/lyQDj3ALLizip1NHJk2/mfnw1lezI+kz0PGm+\n",
       "t5NyC8fdWjrQhPiM6UKQ4M9LuUGxMa0QFbTC9UgYvwnC0w44QGWzvPoAtYe5U8/FMdqN7+pHDBWK\n",
       "Pphfme8hBj7XQaF/MBaC1MydNodmsX8un/eWGIDUKt+4hU8iIDnM/FR8zswyu+KuIGJjWkNUxLx1\n",
       "i0e7j+Rzdp3fBJ0k3tcgkNnQ1UKNi6BTin7GMCwHbe3/UFT8yuKouBRKvxfi6gwVd2B13+B89EZ8\n",
       "znFrP3txebJXGQc1novvun/s/9MxY/lESkQspvXfABWJ+eOCfXwDrwk65R/9+A9AZbcMXb/dm5J5\n",
       "D3T33g+Lw2K9ilvZCSoehYyncmjOAOSmFh3z+yQqKb3KI75KN60Zlc+HohO+ioaD/pVeZWnO8jwc\n",
       "LhbVCl6SPqvRb4KAjHiv0inqJP2OF7qfX6XmAlSOyl7ji+voTMgY/Baog+IwKzMZ7IvazHLiHXk9\n",
       "owIa8MBiPhy8vXCsV+FTWnwWKmYuz2BDsVGtABVjzlJwbhOE71cgayzs5usc8LLDU9hD3oFkR0BO\n",
       "ZWZ8HSTmDIJOm3sUjkNQnDKY3j4g48BMrZBsqYjTMLSOjQWvrPYsvMIRVMYhI/zLQYVf8mqB2KhW\n",
       "2PUP9GRIc5sgDJbjbu3y5g4V09EI2/mJaDNEUdkr698fgkAHII/C9bt1isMPWWjM0dvMki1fEGX9\n",
       "1jQ6tRVBMmW2x9wKx7K14h5UxJV0LSI2qhWiIsnEZQwVtwlKUHFbwaFm+bhf99I96qT16dDMbz8X\n",
       "FZdCSoLiSIZUb4/ln6issRc5lvgEe+FYr9JliM/Jq1xZG5QWe2jFHEqupkhivzuz5aEiV/dFqjU8\n",
       "6aUReJp8wLO1QbzmNbUDgEfhRsZeHA5An2mxBSq/V0VnBlnJAoi9cNl0YXG2tny6MEvsobVwZvnM\n",
       "RsF0IUXWd4r587/XQ46MGEIk+mVN6ByQl+xZYjAvSeK6tR6FOiiOOWTT6yH0FE7ET/DZima1j8Jl\n",
       "ixAK54CmCzPtOWIdrZmomDmWwXWYBLFaj0RvO7kbz5x1Eus7CbYIwX8Aw5VxJ6zc5vIofDeBUxx5\n",
       "/2uaoAeZYyR7MJUEGkfhsqVNRYsQluAbS74lnJccsY7WTFSQc2jBieZwPSi0THTzdHZ/aLQE1cmw\n",
       "VXCJ1xIOgBuFQc4NTR51Iz7YA7MpIcUpXIIKK1oFt0Sm6CK4cj83FOtqzV0wuXyk3o1HRcIHgetB\n",
       "Ecve9R/tNuDxxIW1tRMAfKPQ/3zYV1b+/9ja2kiYTG/e3XHjin0GOk12eWnW+8mGWlQcCpXTcX3t\n",
       "l1Kuiz9FBT16XFY1/g+jMgGvfarZ3MEDn3hI7wM6+2uJ/vGXXUbrkp8g4ciu3jE/TB4psfbufby3\n",
       "7gOiSUtRIvHv7sIsVAY7uNfC5LoR9e7TaW5EBW5Hr9ugbu3YLitAfBQVFtuz3P++qNx9bJNu+Sg4\n",
       "IP5JJyGMYHgd63ZYE9vw74sB8U9ChQOnndedG2juduH/pAuIfxIqt59Gym3DPxsFxD8JFQLCHVJ3\n",
       "bINsOQQC4p+EigY+rK48dkm3HAKF4uOoVOxT+A4qEviwsvbcINWyXxuKj6NSsU/hO6hQMMFFa3+V\n",
       "ntuGf7c9FJ+JStk+he+gcrur0v09Ob0clcJ9Ct9BBb7W+hfNWj6ONBB/oHLjPoWvoCKQBRbVwwdv\n",
       "+TzsQPyOyp37FL6CigGjjbnhhMN5bheVQPyOyp37FL6CyjCnLVcAbHgayBfv+ir37VP4AioCWTZ8\n",
       "x+DRcgzki3dQuXGfwhdQgT+IfM9PJKuWD0/3xG+o3LxP4ZejIsHXL+/pD2TLjq0nfu9V7t2n8MtR\n",
       "MSDoNzcl5U3L3YorPjtbW7hP4VejMrO05eKlG+5WXPH5qPzUPoVbUIGf/n2dAW15ztARn4/KT+1T\n",
       "uAMVCab15I0TfazhXzB0xMdR+VX7FO5AhUxpS00v3PD88iH+EetVODisjs93+qJibtiz3cWLdRn+\n",
       "d/JMer15fT08baljsWFvZRcv+/f1rY2R76vaU+Gnlv8AsUZ2UUntBkQAAAAASUVORK5CYII=\n",
       "\" style=\"display:inline;vertical-align:middle;\" /></a><br>(see <a class=\"ProveItLink\" href=\"../../../__pv_it/theorems/3b292e0bbd9ba973b900700674156c6f754147ae0/dependencies.ipynb\">dependencies</a>)<br>"
      ],
      "text/plain": [
       "<IPython.core.display.HTML object>"
      ]
     },
     "metadata": {},
     "output_type": "display_data"
    }
   ],
   "source": [
    "%proving summation_zero_closure"
   ]
  },
  {
   "cell_type": "code",
   "execution_count": null,
   "metadata": {},
   "outputs": [],
   "source": []
  }
 ],
 "metadata": {
  "kernelspec": {
   "display_name": "Python 3",
   "language": "python",
   "name": "python3"
  }
 },
 "nbformat": 4,
 "nbformat_minor": 0
}