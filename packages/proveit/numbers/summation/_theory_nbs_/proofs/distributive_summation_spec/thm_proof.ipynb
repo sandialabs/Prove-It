{
 "cells": [
  {
   "cell_type": "markdown",
   "metadata": {},
   "source": [
    "Proof of <a class=\"ProveItLink\" href=\"../../../../../_theory_nbs_/theory.ipynb\">proveit</a>.<a class=\"ProveItLink\" href=\"../../../../_theory_nbs_/theory.ipynb\">numbers</a>.<a class=\"ProveItLink\" href=\"../../theory.ipynb\">summation</a>.<a class=\"ProveItLink\" href=\"../../theorems.ipynb#distributive_summation_spec\">distributive_summation_spec</a> theorem\n",
    "========"
   ]
  },
  {
   "cell_type": "code",
   "execution_count": 1,
   "metadata": {},
   "outputs": [],
   "source": [
    "import proveit\n",
    "theory = proveit.Theory() # the theorem's theory"
   ]
  },
  {
   "cell_type": "code",
   "execution_count": 2,
   "metadata": {},
   "outputs": [
    {
     "data": {
      "text/html": [
       "With these <a href=\"allowed_presumptions.txt\">allowed</a>/<a href=\"disallowed_presumptions.txt\">disallowed</a> theorem/theory presumptions (e.g., to avoid circular dependencies), we begin our proof of<br><strong id=\"distributive_summation_spec\">distributive_summation_spec:</strong> <a class=\"ProveItLink\" href=\"../../../__pv_it/theorems/e60d8b3c583934413c1980eb920d27912bd931d30/expr.ipynb\"><img src=\"data:image/png;base64,iVBORw0KGgoAAAANSUhEUgAAAuoAAABMBAMAAADJk49PAAAAMFBMVEX///8AAAAAAAAAAAAAAAAA\n",
       "AAAAAAAAAAAAAAAAAAAAAAAAAAAAAAAAAAAAAAAAAAAv3aB7AAAAD3RSTlMAq1RmmUTNIjK7EInv\n",
       "3XZ/CtNrAAAACXBIWXMAAA7EAAAOxAGVKw4bAAANXUlEQVR42sVdbYxcVRl+53vmzu7soEYpadxp\n",
       "VKIB2cFFFBK7QwpCQ6BD/OEXYScgGI3QAfxDBDpo/GGo7miDuPWjNwFRPtKdYm1ijXQAiVKFDigR\n",
       "haZT29gApt2PbrfdKb3ec8+5Z+455547F/ae45u8u0+n98z7zHPPfc97zj13FkBiWcuyihBkg4/o\n",
       "W7rKA0WW+Vc4HqzdHFn8e0wpGLb1sn8dsKxZuaa98fFghQYf0bfLBKDKdoTjwViyGFn4fFEKEuPj\n",
       "o/av8fELA1RfGhRg8BHU4nt5oMyGymF4sHa+GV38Z+UAYALLr0n1J8o8UGappTA8GDOejTD+ZF0K\n",
       "dKv+fgGos1VheDAWq0UYPtaUAs2qZxd5oNA2lQbzYG0qyhE+My8FmlVP13ig0HKdwTxYuyXS+D+X\n",
       "A72qj1V5YNuehhrVs2cG82CH2MVISU11pUCv6rcKAGUCVZ39Z4N5sFdAJ1JSubYUaFWd9j6mG76h\n",
       "SvWx0ju7CvpdMRJS8Xkp0Kp6bJkHAI+vvU2V6iO1QTxYGzWjJXVCDnSqPtPkARj/yJ5UpXrs5CAe\n",
       "bLV+KmJSow0p0Kn6RIkHkKxkZ5XNk3qDeDCWmI+Y1GRLCnSqvs3kAQxVC01ltePpQTzY0W85YlIj\n",
       "bSnQqLrxNg/si72ee9NUpfq2RjAPLu90IiaVOykFGlVP9Hhgd6v61HeUqX6sFcyDyzutiEkVelKg\n",
       "UfXYIg/s3Lvugt8oyzBTtWAe3OBXjZhU9oQUaFR9aJYHim1kOZgHa/sij2+ZMqBRdZo4Zzp6VE8v\n",
       "DkjgIbL9SmxjVQY0qj7W5IFiS54J5sFOJU9FHn9DVwY0qr6hxQPFljgVzIM9Rb3I4080ZUCj6htL\n",
       "PFBs2dPBPNh0NB/9aN6WAY2q72vwQLEZVjAPdoyNfmViZlYGNKrOjeRpy2NdJbJbjUAePgVPpKRG\n",
       "TsqAPtUzFgviFqHwqxtWW20lqh8oBfFgbdNs5KSG52VAn+rxtzkw2q/VPjOvRPWN3SAeXGXTiZxU\n",
       "+owM6FO9cIIDw54dY+uVqD7aCuLBLR/UIicV68mAPtXzpziQtRb6dZuzVyRD3NfwbhL5IZn+Ye7G\n",
       "kw3FIB6s7WkGkBJDhOGXnJMBfarH5nhwzOrzd7YF/Zu476WCc3Sqi1000vAG4o6StSAe3HVRDCAl\n",
       "hgjDL+9eVQKgqjtBP+SvaczJh+UA1WWtPZY7LgCLnZvHW9h97Tz043smHLJ/HWLnN783SWPIboWC\n",
       "TbNAqO7pBPFgbVtFTsoLSQiPXb1bwi/vjhECoKpfgX5/1V/TJFo+SNcDVJe19o4tx3lg7GMFeIS4\n",
       "b+3tdNv/2K1N7H3bsbnkNizYR30dsKN+2w7iwY28FTkpL3RD9DPW2c9I+BXcWZoAqOr3oYTU9Nc0\n",
       "i7ryXUEZRtbaW0f1eACTFlParSPuO2F3+1eigr1vz3zR9Da8iDj6cLNBPLgqsyUnxcOLmOnVR7ZK\n",
       "+CXcGlUAVHV0fvIlSdZGJ/fJINVlrb3sejyAvMXsrW0T921N0V7irqWWaWN8pIldpvqQv+r7WnJS\n",
       "PBzyXmuTpoxfCNUT9slKy8bKcdtrQarLWns/7Rke2Je1t4qL17D72rkU3UScnrqO25hkkDJ2VIPP\n",
       "BvHgVO9KSQkw7U3sf5Dyi7tiC6Bfw7ywf/9fZKoP7d//eiuwhpG09n7aBR4APGF53jXZwm4cPed+\n",
       "z4V13tE70ZCFcudRlOl2APNIQGL1SxXSGLYfBLw7n+zQ91cdh+eiwL6ylBTEnzpS5kO4duEL7wMJ\n",
       "vzCqXwWwVaZpsgE5M1B1SWvvqsQCDzwTcG8nTcLB7jX9rlzLPE96T9LZeH8xcfq+Xdr9KuhRgUQN\n",
       "O7r4ierX7Ef2EhOejQJglaWkYBfc3eRDUDtDezjPL+WKLYC+6rdDBp0q4/KyqKn9P7czr75x2ZEu\n",
       "cwRp7RbKeNkp9vzOn9KBb2SeB2gec7p/ModL2D8FE+Z7+zN10/lcL9t+BFDL84nTBZSG27hQH7F/\n",
       "xtvY0cKq3y08Ep6NYqtekpKKLzunlg1BZ074FPnxy7rrbALoq54z86hAzH2SXagzLkU/t8Jv3Rd+\n",
       "sOoBePQD8LEWcwRp7SphBzg4XR2u57fTD5C4lAfOBLw/4xmqYm/AZ/H7Ovn1aXxWn7PdjCMVp4jD\n",
       "DO5xY7SxgU4RoB1EZBfRQ35TDBLejULeBcZNOakiTNX5EIQexHEoH35gjLsK8eBOfMJsevGuMxyO\n",
       "mH4zzwvoYJq0cwns7kKixRxBWruXAsDl9slLwLfv7PexRR6gwJ6lKFd1gBfxC39Hbz4PhTb5VJBE\n",
       "A+f1xGG44hnNcEOUMlJt7NK+7obHUci7gFWVkpoqwX+FEJieO5j78QvV16G2Fqm32hli1h7qMqqn\n",
       "E/a/C4fvvdKZdxmfrnpWI/ARTuu80wxtziTzt0oFAjNM4U8gZBj0SNFjtGcuQa5IrmAYRmf648Rd\n",
       "+yFtDPAa+gQd7B7V2bxOwnujsBmGJzVRd4KwIehUt0gzDM8vlOpPOlOuS5y4lVyR0TR/rn34kVjz\n",
       "RgNNheJ31IWrwWn9SrZNNmc+it/3jkaw6pOedJbrOm48EGsDvZBsZjPoBP7CSVxVQvAST/gXaWPI\n",
       "oG6caGJHqs9K8zobhVWdJzUBxoIQgl4MuHv68cu6g6gAPKrf7Qh9udPcpCUp1jTzNFoMynUbKfR6\n",
       "4iFTUB21TjaNBtmc+Tnnv7bngyvHrHcJm5R88ZMPt1NUAmMJ73DeQcleTdxNB4u0Mf4YbgHqqWF8\n",
       "Kkc2ClM5CqRm6s7eazYEHcJwZvLjF6aGgZhzireAU/mM1NkVxbOdblKHxNemp3+U/W5DUB21xpnP\n",
       "2Zx58fT0dAlau/tXsW+97l09zHYcN67tfvgT/Veve8up776PfjiP1b1C3K3zZmlj/JTbcBV7sOpc\n",
       "FKZe50mlPrizI4SgNRb+5ccvlOrY/ox+7ITNfuu4m6GedU6zPZqCKR6BT5WzOfN+J8hHy7CbZsgF\n",
       "HgB8hdHjVeKcOQcNN0gyyXSw02lMsd/YudrvIS5T3ROeWYcpy0lBuiKEcI08pe3HL7zqxjIYLVgD\n",
       "Z4maZtq7oILnQt+6EvJd8Yh0FVqP482ZzqQqn4RUR34/C3LsetlF/MKSbfeZeAd/ogLvSSyTZaZk\n",
       "vyJcky65jWOlCZNdQxtrB91X49YcuzJS2XNgqiGEIFda8Ua66CXwi7tLjQLgVbeHw+wzkDx6m09f\n",
       "v/bLR024CxEwdk1f5XNXI7Nurbm55GzOzPwEzZbPeuvHdO6U6/EArukPD0i7XB2711abj2A5HszO\n",
       "O0XEXezy5z/dldhcfar0Mln5dFc/J3zX1/1Xv7a1ZKRie43bhBDuhbPVrah9+CXcClQAvOpokTLu\n",
       "Jhq/O0XG76YfCLyXRPre49PT7POFseM8SPQrtARqheojg1suvu6tKzB4FK510IPEia290uXVTB6u\n",
       "cqfumO+9JP/19dGKjJSd1qtCCPeQwy724SfcKaaAUz23xu7KX8p2CrV3ewcvJVuvEe8ieio0PIW+\n",
       "l7ifZXCXL9Sxi0YaHiHuLEw0g3iw5t5j9SUlhgjDT7hTTAGnev4oqhAzW3aa71b1hOwwIbTnCe+H\n",
       "j4MK21AJ4sEaOUNRkkoelwF9d6sTJzhAK7TMGkvNg3jbukE8WJuoRU4qd0YG9KmeOs2Bjbc4duvr\n",
       "lmWp2dHuu4805b/ndLIdOSm6YVUA/78dd0nvlkI1Xxfju480cMddpKTohlUB6NxdWueBavPfR+of\n",
       "fmQp8vD0CR0BaFT9QJUHii1zOpgHO2WN/itrNrVlQKPqo2UeKLbUiWAebBm/EHn8yZoMaFT9WIUH\n",
       "iq3QC+bBHhx98UqfdxWARtXFU6/YYvPBPMJcGCux0ZIM6HzyUXhgpKFW9eHlYB7sSocVOakDpgxo\n",
       "VH14iQevqlV9ph3Mg9OoHjEp47QUaFQ9v8ADxTZWDObBLQlEPcbH56RAo+qpOR4ottFSMA8u3Rcj\n",
       "Dk+HFRHo/H6YfSwwDlNVnlqrZGr6jl7HXy/gIZU/1F3Z1HRWCnSqvqHBgGS8lpy2bQsMVzcrED07\n",
       "N4gHY8mThBSsR6zKeMPDCmyqKAU6Vee+iemxvFs4r4dfqyjX5wfxYBNPjyWFNzyspFwvSYFO1Yfa\n",
       "LKC7P55TktbT7UE8WPsrS2popesW35ADnaoXFlkwUicZZkmJ6lOtQTy4vlnFpEiGGVnhGl22JwV6\n",
       "v7t0jgU0md8MeRUljDmQB2MjRYYU2vCwohJmWQr0qr7HZMBB9/Vvjr8ZvejG3GAebB2/zJBCGx5W\n",
       "NEcrSoFe1WdaDLhJabVeWBrMgz1NvUhJHatLgV7VC8sekP5CW6nqQ5XBPDidzChJ/VEONP+tgdc8\n",
       "IHnYVKr6MTMED3aBphUhKaaH8edar+pjdR4oM2MhDA924STKWmqmLAW6VU82eaDMYs0wPFiL8ps7\n",
       "VsmBbtXhbwJQZdeboXiwKSa6ZcfUXikIpXqkfxtss8kDVfZKOB7sJ4nurzjRLe4+IMTfBjPGB/3l\n",
       "r8FHeLpAnQeq0no1HA/WPh9Z/F/KQcLWC9DfBhsv/w/9O/YWTryZ6AAAAABJRU5ErkJggg==\n",
       "\" style=\"display:inline;vertical-align:middle;\" /></a><br>(see <a class=\"ProveItLink\" href=\"../../../__pv_it/theorems/8378fbcfbcd8d53b5bb9b70e75922810d011064e0/dependencies.ipynb\">dependencies</a>)<br>"
      ],
      "text/plain": [
       "<IPython.core.display.HTML object>"
      ]
     },
     "metadata": {},
     "output_type": "display_data"
    },
    {
     "name": "stdout",
     "output_type": "stream",
     "text": [
      "distributive_summation_spec may now be readily provable (assuming required theorems are usable).  Simply execute \"%qed\".\n"
     ]
    }
   ],
   "source": [
    "%proving distributive_summation_spec"
   ]
  },
  {
   "cell_type": "code",
   "execution_count": null,
   "metadata": {},
   "outputs": [],
   "source": []
  }
 ],
 "metadata": {
  "kernelspec": {
   "display_name": "Python 3",
   "language": "python",
   "name": "python3"
  }
 },
 "nbformat": 4,
 "nbformat_minor": 0
}