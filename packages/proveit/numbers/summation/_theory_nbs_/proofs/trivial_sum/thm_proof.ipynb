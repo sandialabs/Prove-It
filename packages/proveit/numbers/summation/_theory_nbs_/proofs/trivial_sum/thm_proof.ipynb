{
 "cells": [
  {
   "cell_type": "markdown",
   "metadata": {},
   "source": [
    "Proof of <a class=\"ProveItLink\" href=\"../../../../../_theory_nbs_/theory.ipynb\">proveit</a>.<a class=\"ProveItLink\" href=\"../../../../_theory_nbs_/theory.ipynb\">numbers</a>.<a class=\"ProveItLink\" href=\"../../theory.ipynb\">summation</a>.<a class=\"ProveItLink\" href=\"../../theorems.ipynb#trivial_sum\">trivial_sum</a> theorem\n",
    "========"
   ]
  },
  {
   "cell_type": "code",
   "execution_count": 1,
   "metadata": {},
   "outputs": [],
   "source": [
    "import proveit\n",
    "theory = proveit.Theory() # the theorem's theory"
   ]
  },
  {
   "cell_type": "code",
   "execution_count": 2,
   "metadata": {},
   "outputs": [
    {
     "data": {
      "text/html": [
       "With these <a href=\"allowed_presumptions.txt\">allowed</a>/<a href=\"disallowed_presumptions.txt\">disallowed</a> theorem/theory presumptions (e.g., to avoid circular dependencies), we begin our proof of<br><strong id=\"trivial_sum\">trivial_sum:</strong> <a class=\"ProveItLink\" href=\"../../../__pv_it/theorems/cc759f925fbdf9ac90a8a1359b2385f0557bf0460/expr.ipynb\"><img src=\"data:image/png;base64,iVBORw0KGgoAAAANSUhEUgAAAaEAAAA/BAMAAAC7nWp2AAAAMFBMVEX///8AAAAAAAAAAAAAAAAA\n",
       "AAAAAAAAAAAAAAAAAAAAAAAAAAAAAAAAAAAAAAAAAAAv3aB7AAAAD3RSTlMAq1RmmUTNIjK7EInv\n",
       "3XZ/CtNrAAAACXBIWXMAAA7EAAAOxAGVKw4bAAAHYklEQVRo3rWbbWwURRjHn97tve29UILxBQyc\n",
       "0RBNkJ5KUEykR1CBKHAJ6ScJPYVoIDE98BMR6WnEL6BtVNRDI4siiCA9EVH5ICcmiCi0JhoRqWyV\n",
       "WImxVKi2lJdz33ee2d27DZmZZPhz7ey//e3MPvPMc1eA+q21Wu2pO0iQsdJNXAHcmuXdVq2m/VzQ\n",
       "2tJSrDvoD0pf6KQGnOFHZHmva2n1R+RjTGgYKzSUqRGxMj8i2zvBjGhXBisk6GkVD3JcdgfZEz1I\n",
       "KXQMjKeGTJH4IVnezIiiI1gB/pZOU2OSWX5EljczonAjVoBXYDo1JjDMj8jyZkbUVMAKcBhm0YOW\n",
       "c4x2y1kT/UwpwCA4IkFTkR+R6c2KKHoOq9JOBOkNCRIcHyTTmxVRwyBWpT0/4EwrBvkRmd6siLqy\n",
       "WD124fP8iExvVkTNRawe7RDH0HCILdFmSj3awgI/IsObFdEFSr0CUoZjsMuwJApdxOrV2hv5ERne\n",
       "jIiEf7F6htgKx/BdYUkUHiU1XCUaOv/FRjkeKEZZEo3pITVQNdLV7UturKJZSZ3jR2R4MyJq70Q6\n",
       "6bL1nfsQQ2CIY646xJKoKYs0WbUjwDyULF3gR2R4MyI6KyONVu3kQCC3IPGyy8URo/trzpEF5M2I\n",
       "aGEa69mqzYG2oKrLxb8Z3We2I9NfWYK8FSJtgdxcj6hBW6peG+TmItaYVzXslPNgHihrfcdRHzgv\n",
       "Kpf/7ggJGdJbIXpA1SfqEQk5NSx7JTFtBaxi91DtgUTbZvRl9csj17Qpv3TYcVNWkN4K0bPq4uys\n",
       "RxRVp3K114BuCSu0ehQCN+ccX5pt9BqBfZH1vCr+QUd6P430VohU5ni67nOk3og9XgOq9GMSrx5x\n",
       "HTjJ+YMqeg/V2HynkkTgcE5IhLdCFFSWYbh+ZLhL6XnfRND2n0+iQF7v8R6/REsdGUsGE8HR3t5v\n",
       "6xMlentPlv0T7aoSg8WB8ev1+V3oiC1CWe/hiX0UbWRCv+xG9BHtG28kvFWiuQCb6hMJRYhJXo9s\n",
       "FSuZCWm/NfTJ80mi+b1q+968wWrvWiFSxa/FBTMNxETTad9gniJaCRFri4+aRaKGb/a+mSWJlDEr\n",
       "0Q88M8u8hSBewqr5X7L574ZmaZz2vwOO3SSZ1nuTBMfwbfoKhB43oim0b6BCeKtEMSluR6AJKlZf\n",
       "KZcsxHdLaIfdBJ+Yr1+6YSPsuA5uK9cgShJZd9GqHTuJEjm9KyPUw9U2bfaO66WQZFmfz++M+dSJ\n",
       "OrSCRt72jQ5SRAGZCAyHlX6/sk8G4bmncM4w1QoMgrJOYb8MwVpEEZTwHKtL9AuEcPxOdEJXzm2O\n",
       "Fms3LGv7hug5gvxM5Z+dMz9Vca/0ScYenM1ionBQuSJ1eu0cbdcW78lZGZVbZIDU12TqMgwfeDxH\n",
       "5qo7BwKO310yNLvGuttp30AP9RzBHmWvEX+Kqg9m6kQqu0P7fnBVERPFJyt2/Q2dj4nqdhxYVagZ\n",
       "66DVvlzc2FCBskesi8l6H7HfpzGI0nBtoOBCNIP2NUqdBNEaJTAI2ag6d7FMMK/v0LvjVKYa+VJN\n",
       "O2NyMaReGXxXqklEFFchMLK1Ekp77Edq6FX7OHiVRg38IFBzdEAlfIj2FcrUfgQNRXUpp9SAlygK\n",
       "jdNLpVIayvuNhWLl3tdrp9QCBJeXSi9H15GVuW5Klf2IeGDEBfItd3rtsNEevW/ZS02fOPGzlX9i\n",
       "orHdjyqDfqR9kzmaSJvjQuxe5a6PUb6yXluht2Zgv8tpYgMUototUSIDSHRKbafWy2on6UQ7bnTw\n",
       "kTNoa8WRXDxDeltEiULHImknJKUZ+kYaFyDU4yCKVPZBVt+Pn54DcdnrNAExj9T3lDP3nmbnmnUz\n",
       "VS3SZtxyXcvbIgrNnvoxbEhHF8gQeUN5fcfYv15rdM7RgkcGJFit/t7ivtJcezvNYYX59lOG1lm3\n",
       "Sw2noHe/zXEAMA8O3W5nWP3VzlIpV+sMK35e2kidyjNYg3boDqKfcMklherUu9/2utstsb0xUUi6\n",
       "ylN5cxkrEbqnoNvpVmdYa3SfRSzHdPYjb0wUvNo6Q2sj0ogdureiw2zoH361IMObUeWkK4/UCt2R\n",
       "m8gUXLllV/gRGd6MiJKDSNse19qTJ6vUB4qEEX5EhjerSv4wqQJZ90axNszxbUvDmxFR8DzWevVx\n",
       "Hs3wZkQUGcLq1To4ftjJ8Gb1Ht9RSr2qyUV+RIY3K6IDElaP9hY/INObFVG7jHS7R4WF43ZkerMi\n",
       "CueRfuERQDgGb9ObFVFwGKsHN8dQZ3qzIhIvYvVYmxzf/De9mX1262FSl1jnEL0eY8UPjoHB9GZG\n",
       "1CXbKsqjME852pcyRj3GnEiOWZ3lzYwoVbE18o75vBj1GPMVx8fI8mb3ydtfCY3JVnkxRXzKpD3H\n",
       "8THKMSdqLdja9b6x6ox6jFnK4fgYWd7siOJ5WycLZD3GivBHOO5GR9gTwdu2bukn6zFmW8MxqbO9\n",
       "fRL5+UuQD4tYHW0px0Vnevv9S5D3/PwlSKSI1RFfOcYFy3tdS4v0P2ckgXClTsxzAAAAAElFTkSu\n",
       "QmCC\n",
       "\" style=\"display:inline;vertical-align:middle;\" /></a><br>(see <a class=\"ProveItLink\" href=\"../../../__pv_it/theorems/95b082ccd8e51b150bf4bd924392c21f53419eba0/dependencies.ipynb\">dependencies</a>)<br>"
      ],
      "text/plain": [
       "<IPython.core.display.HTML object>"
      ]
     },
     "metadata": {},
     "output_type": "display_data"
    }
   ],
   "source": [
    "%proving trivial_sum"
   ]
  },
  {
   "cell_type": "code",
   "execution_count": null,
   "metadata": {},
   "outputs": [],
   "source": []
  }
 ],
 "metadata": {
  "kernelspec": {
   "display_name": "Python 3",
   "language": "python",
   "name": "python3"
  }
 },
 "nbformat": 4,
 "nbformat_minor": 0
}