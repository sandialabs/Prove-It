{
 "cells": [
  {
   "cell_type": "markdown",
   "metadata": {},
   "source": [
    "Proof of <a class=\"ProveItLink\" href=\"../../../../../_theory_nbs_/theory.ipynb\">proveit</a>.<a class=\"ProveItLink\" href=\"../../../../_theory_nbs_/theory.ipynb\">numbers</a>.<a class=\"ProveItLink\" href=\"../../theory.ipynb\">summation</a>.<a class=\"ProveItLink\" href=\"../../theorems.ipynb#sum_split_after\">sum_split_after</a> theorem\n",
    "========"
   ]
  },
  {
   "cell_type": "code",
   "execution_count": 1,
   "metadata": {},
   "outputs": [],
   "source": [
    "import proveit\n",
    "theory = proveit.Theory() # the theorem's theory"
   ]
  },
  {
   "cell_type": "code",
   "execution_count": 2,
   "metadata": {},
   "outputs": [
    {
     "data": {
      "text/html": [
       "With these <a href=\"allowed_presumptions.txt\">allowed</a>/<a href=\"disallowed_presumptions.txt\">disallowed</a> theorem/theory presumptions (e.g., to avoid circular dependencies), we begin our proof of<br><strong id=\"sum_split_after\">sum_split_after:</strong> <a class=\"ProveItLink\" href=\"../../../__pv_it/theorems/93dff84c8a2f1b2e54cdab78c777c0011a1755a00/expr.ipynb\"><img src=\"data:image/png;base64,iVBORw0KGgoAAAANSUhEUgAAAqoAAABABAMAAAAg60iUAAAAMFBMVEX///8AAAAAAAAAAAAAAAAA\n",
       "AAAAAAAAAAAAAAAAAAAAAAAAAAAAAAAAAAAAAAAAAAAv3aB7AAAAD3RSTlMAq1RmmUTNIjK7EInv\n",
       "3XZ/CtNrAAAACXBIWXMAAA7EAAAOxAGVKw4bAAALQ0lEQVR42u2cbWwcRxnHH9+u7/b2XuxI/dDS\n",
       "qHGFKFQE+6CiKBUkF6XQRjSx1dRfyoudFoKCVPkq8aGRInwIhAQK2CJUKEnVnEQLLW2xSWlQimhM\n",
       "eGlUEsUgqpaqIRc1gJoWx3m148Q+9m1m55md3Z1dr9dfGMn7P+/d/W7mv7Pz9swdgDcNtFqTsBRJ\n",
       "bWINTT9rBDy5GRKkbY5cGEIjqn/d1myrdUH0+oH+/vqSuPpvTkNTeTTguUGO9t3R+DQKk0+ERqnv\n",
       "2qL194tdhaVJ7TNYJdI+/6cGahytbTw+jcCipH2c5unnH0nT1ecrWGXe0uX3jP4HjgrFemwahUUq\n",
       "ThdW/ciyuPo5TgEK74S0iZnXfNvoQZ42MvUBiElTcQMQmi1Eo9TVjWVwVZvFaqTXtYmQN/3d74mR\n",
       "Ok/7b+MMxKSN4Goeni1EI1qqLoOr2U6sRhUZ1cPu2h6/Bm8r8LTdcCfEpG3FNTc8W4hGNDOzDK7y\n",
       "mTBawr7wS+HTb9MSuLSjsD4mLYO7T4lsIRqlbl8GV//BKUBHeM+bmRWfL416aNPi0kjQStjsDskB\n",
       "AaFRak89dVe1C1jNi9wHoaOhP/q0hF0e2lvKKMSjjeCxgUy2EI1osZq6q23TWI2U27C2Efa2XvHp\n",
       "VeChfWcqPBO9gbAI2UI0oup06q6OVbFKpgHh4Fa/BMnRKCxqIjSi7RdTd3VdHatkKgrnksosJEdT\n",
       "ZmMWidAo9c+pu7qfU9kVGeH0Nj+dIC0/HXe1aIaj9tbSdvUqp5Ipc1F0tmM0QVrHaMwiERql9lRS\n",
       "drX9GlbZlDsvzOJ4grSB8ZhlIjRKHe5M2VX1MlbpdEzY+/YlSOvti1uoY5wWJ1J2NTvHarbFpOCl\n",
       "jP2iUc5QI0HaED0XAYRoRPNzKbvaMclqpuX0uz//8spW8FLGuS7ByXlIkDbvNpTyIEQjWr6QsqvD\n",
       "o0hXuUX5zIXg5QPBiDR3FZKj5ZgeTx6EaEQzl1J2lctAqUXXmmBj4BtHBD105hIkR8swkwB5EKIR\n",
       "1a6m7Oq5JlKt5Y5xVLya4fyXI7MnQWSyvADJ0SgsGBREI6rPp+xqbxfWcy0302gaWXZe0O5chg7B\n",
       "GF29AMnRVPZW9wUF0ii15bhq1fgP8q62WbdGJUFX99ex5r3R8c+/bB4/Sv59x7kp5wSzoVlIjpZn\n",
       "J6x5n6B9MI1STzVsVz9rytd4V1VzCJetJejqUA2rfoJf0yjcaN45Op2pZ+3hSlYwyaTnkqChU16Q\n",
       "DI3LzxH4ltlMjPKuamYV3pFkC3CigRUGWtwgp/ihveb9SG8Qxe6J8oKBfnEOFk3b4oGJQTI0St3f\n",
       "Z7tqul7o8rSr5kaMA0m62uIUCi0u4jlgOVR0T9jPtwlGOFw7FovW7YGJQTI0Sl3VZbuqGP5nvb3V\n",
       "Hcbf4JK6CkNX8Ct+Zx1vc088HMHV6DQfVz0gGZrHVTh+8uRfvK4WT558e3xpXX2+hT7g48dvsLoF\n",
       "4++Xp5/5rZG9X9ld9EUpVyPT/FzlQFI0Su2tOK7eC7DX66pah3wjzKmqvKl6Cys7PXTSAq0E1fIt\n",
       "qtEV34lyvOmkmf5qjw+nF0tjXB3DrvIgGZrX1UchZ3ZN+t0V1lXj3KOUye0LW7lv46+tB/j07TXN\n",
       "Ct1q20WuXsdqZeE6e91ydmH+ZnQFNWWuzcjNaruhW/DSxiYWT+vmYWKQFI1SDzcdV/ONgtlx5T9Z\n",
       "R7OAvfAShTL7wn540+PwBrx81uvq7QbwZuvRzU6Rw1wtoWWhjF1l/mRcFmeHzkgkVyPRjIp/jFZ8\n",
       "ztWSd7UqLG9eVzNNq7PqaOC5VTfTWbn7wtR7zTmH9uGKx9U15qmj1kP7mFvfCHE1N48630mSc+MD\n",
       "rcx9MZKrUWm+dRWDpGheV2FwrXk1Vh7ArmYV4wX6i++Zw1pnX9gra505haoC4+pza38D8K7Z+WkL\n",
       "pxv0uKKGtoF5eysov4qmOJ3kLjM3PuoG4mO+7aqgt4pI8++tOJAUzduuwgFrk/Aabh2gcJvx3hdq\n",
       "I6ar9r6wUt8u3fbxUx9hXNXf0GZglzWiKL9VrjrH9h+bb2S2gQlcHaijgbZ9AZ4EeLZvJRRoliTH\n",
       "AJFpvq5ikBRN4OpO60Lczbma+711cpf52N4XthGeabfepDfHGVfVqmFdZp95u+cryqB9bLf+Z7eB\n",
       "eV3V8EB02I5zGEOWnu/fB/c7Axnp8Wpkmp+rmuDzwmje8Sq01W3nuDWrG62G5LTdUK63WxVl+549\n",
       "P4JCoaE3qKvFvrJxWSwbi3W10z7adZfdBnaCU2NgiDuFHlt+APDUVGaD+f7XfV0tTi+e1u2BCUFS\n",
       "NIGrwHQxeCVQn4HdvwCyL2zGuI5WJb3/21BwXR2r5e8y29EbatABRYNqHvVDJp7dBnaqgRXgKzjn\n",
       "zoa+Eq3duUnvkhII14hi0bo9MCFIisatoVFX9TnR+uqr2uW79HFzX5hx/KrRoFjzhfEqfMltAYq1\n",
       "kS1m2XIrGqXGGngOzKPRfVXwNjB+JRDyaFyW6XwIrVu4axmlGYmVwBi0LcKVQA4kSaPUUzXkKru7\n",
       "2HX1gU+8V9GOmPvCjOM37jgLO4xSKCtuObTVdbV9Q/eLzgK5trlp9Fvm0R5qsdvASHiYhok3uQMv\n",
       "o16X9pKB3E/I2R3CG9Qu1GVIjoaj3xhkexZK41qkI9zSligWkGGO+qE9j7vPCPd8dLlzLRRhqWBV\n",
       "3PGLYrxFOUNe/SzgInRMCCIsFyE5WpkdZHAg+0EojVKvI1fzt9Z9XX2QOeIkcrXdZ/Vg3ThWZvyy\n",
       "Gg/Cnd6i7BRlWLA4r1yD5GjKNfGwarX3c/1oRHM4blWYAl9XKz5BHNbV7+0xkvVRis/yykAn0pzb\n",
       "sz8VvNFxoFNw6c5DcrR2ZpeQPEhUKIJaXDQwSgRmbBApHb/kbm0Fb3RcJxjp6FcgOZp+RTCsCgUh\n",
       "GlFlIQFXo6TSNNKhbVZ65O1W2Jdme+uCk6cgQdopZslaGoRoRNXZlF3Fez1VdkNTcCh3SFicWoK0\n",
       "XnrPRQAhGtHsdMquKhexSqd54a1XSZC2LnaEfp5TZzNZeq7mLmGVTZpwh+pwNUHacDVmmQiNUkfG\n",
       "U3YVjnMqmcrCTqM4mSCtGPfXEAiNUs/V03b1cAOrZMpPiM4W5iA5WmEuZpEIjVKfgLRdHW5ilR2R\n",
       "dQrbkwVIjpZbiFkkQiOqn0/d1ewgVsnk89WfbZAgbVvMIvFfdiJfMUrRVWUGq2R6xKdAtQRp6/B0\n",
       "hgkS/3RQhkY0O5m6q/o1rJJDB5+h09h4grQxbl+FFSQ2Y3Pa1KQEjVKHK6m7CvexOnUPXQiyool+\n",
       "qeDzDTN1gqGVz3zzHnLt7PhlNJrK9WHWCn7eWqkLcpXQKPUwpO/qWNPVcu2mbNdGc0mmYkUTQ9/k\n",
       "qfkLzAv+0zb6kGrCdpP4ZTSaBXOvsx0kDneVLRDKU5qulidcVeBJjVSUatDvcWzye+J9hlrJN0kv\n",
       "5MQvI9LeR9fZDhWHu7qJU3VyGVyFf7JK66cdTfRruny/pVZqMjQ3QObELyPSDBhznZ1QcZirhEap\n",
       "w33L4Sr50ShTtYkc2DXDiSaKU5uv4fRnrEzaLqjZLQCJX0akWTD3OtfVzo17njDyFugqoVHqClgO\n",
       "VwuDVHcWBlVSBieaKEyf9p86HaTU3MRBuj3RjF9CdNpB9jrboeLQukpoRJXXlsVVc++Ho+q/XjlL\n",
       "6gmJJopusqMB08UmpW3+whTxy4xfxqDlm8x1toPEYa4SGqXurAe7ulS/vvhCHWv4fCxgjU5/E5Kj\n",
       "6W8y19kOEpuu5g5ea4bRKPVh53+fX198eql+fTFXxxqang568jFIkPaYt/pK0ojqTl+l9fc/CP9P\n",
       "PkldxHv/B8e8HdnGSCoTAAAAAElFTkSuQmCC\n",
       "\" style=\"display:inline;vertical-align:middle;\" /></a><br>(see <a class=\"ProveItLink\" href=\"../../../__pv_it/theorems/a8661670711fa3cdb8c297e4481bdc98de6506dd0/dependencies.ipynb\">dependencies</a>)<br>"
      ],
      "text/plain": [
       "<IPython.core.display.HTML object>"
      ]
     },
     "metadata": {},
     "output_type": "display_data"
    }
   ],
   "source": [
    "%proving sum_split_after"
   ]
  },
  {
   "cell_type": "code",
   "execution_count": null,
   "metadata": {},
   "outputs": [],
   "source": []
  }
 ],
 "metadata": {
  "kernelspec": {
   "display_name": "Python 3",
   "language": "python",
   "name": "python3"
  }
 },
 "nbformat": 4,
 "nbformat_minor": 0
}