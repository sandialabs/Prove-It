{
 "cells": [
  {
   "cell_type": "markdown",
   "metadata": {},
   "source": [
    "Proof of <a class=\"ProveItLink\" href=\"../../../../../_theory_nbs_/theory.ipynb\">proveit</a>.<a class=\"ProveItLink\" href=\"../../../../_theory_nbs_/theory.ipynb\">numbers</a>.<a class=\"ProveItLink\" href=\"../../theory.ipynb\">summation</a>.<a class=\"ProveItLink\" href=\"../../theorems.ipynb#summation_nat_closure\">summation_nat_closure</a> theorem\n",
    "========"
   ]
  },
  {
   "cell_type": "code",
   "execution_count": 1,
   "metadata": {},
   "outputs": [],
   "source": [
    "import proveit\n",
    "theory = proveit.Theory() # the theorem's theory"
   ]
  },
  {
   "cell_type": "code",
   "execution_count": 2,
   "metadata": {},
   "outputs": [
    {
     "data": {
      "text/html": [
       "With these <a href=\"allowed_presumptions.txt\">allowed</a>/<a href=\"disallowed_presumptions.txt\">disallowed</a> theorem/theory presumptions (e.g., to avoid circular dependencies), we begin our proof of<br><strong id=\"summation_nat_closure\">summation_nat_closure:</strong> <a class=\"ProveItLink\" href=\"../../../__pv_it/theorems/61944d51505205d32f978e4e9f321b1b511dd8610/expr.ipynb\"><img src=\"data:image/png;base64,iVBORw0KGgoAAAANSUhEUgAAAhwAAABLCAMAAAAMNK4oAAAAPFBMVEX///8AAAAAAAAAAAAAAAAA\n",
       "AAAAAAAAAAAAAAAAAAAAAAAAAAAAAAAAAAAAAAAAAAAAAAAAAAAAAAAAAAAo1xBWAAAAE3RSTlMA\n",
       "q1RmmUTNIjK7EInv3XZQQDB8RZsp1gAAAAlwSFlzAAAOxAAADsQBlSsOGwAACfRJREFUeNrtneu6\n",
       "pCoOhgFBBYE9M9z/vY5V5SEQlIOuWm2z/dHdT7pAP3yFJCAScvnoBWn5WOWP7n3Q37kK8zl7YanB\n",
       "qKTl0sFp02xs8kc3dfPxS0/K69QdLYWDTDRtuXAwrVpmY5c/uuG3L6YrhoPoLm2pPtSNdT3wAPKf\n",
       "CYdAVy3u00H7pgcVIP+ZcBAq05bKY3RNe6NQ/kPhGBxLWmpd9bY7Dij/oXAQadKWOnes7Y7Dk/9U\n",
       "OEZnk5a6J8e0zIYv/6lwEKnTlluga8zjsH8DHAz5GOwOr4O6pnMcvvzHwkFcn7aUB/lOtsxGIP+5\n",
       "cFA3Ji0V18JahiOQ/1w4hJuSlnJPpu1RJZD/XDiI02lLcbfadKwSyn8wHBKNIvLquNJd73uePapM\n",
       "fwscFt1Je/Xe0rYzYKH8B8MxouhkvBqvaNcyG0j+g+EgDnmP7po/+a/L8ffA0aNBoL82LLC2sxxI\n",
       "/pPh4CjVza8lv3nb/iiS/2Q4OvSgd9ce/b7tFBiS/2Q4RpTXGK9lOvT1FOuz/dHx74FDoXXryl0K\n",
       "N1zb+VEk/xiO3h0c9k+BY1YzJi0Fx+CajmSx/GM4mAtaWg3CUu2c/mPgMMhHMFe8BhaEctQYMzz4\n",
       "btv5+lm9/NNhhbpY2N+Zu722ejh61Iv1V/o1G+TQfnwx6ZBnH+rr7bp6+ec+h4m/Ccfl9XYYboGD\n",
       "otCTXglGpyDW+Wk4LMuzixTwyjgp+5fDMGmnBShQAseEQr0zOF6vSsYq58PldoB603CE4vfAnKJQ\n",
       "fbbsRtaVsUYxHLWVZXTjkGM+TSpm/7Re8sySEUE/LrlXoAQOilrzNFqxMx2x/846I5B7rjen5wjE\n",
       "b6z3iP7Zwjd8+iKMpeMYjtrK0rEWvPaJjppF7OupU1EUnZ2j6d2k2itQAkcoPxXKSlc92wDkJvTm\n",
       "wBGKX1EwCI7ZMq5PwFA2APYxOGorSz888L5pJqSK2Ncm4qn2YXKh13gFSuDoC+FQc3DC67QDuQm9\n",
       "WXAE4teeTaO+TgPwpjLX2QQOS+9RPN3sh8NLFyDDEA0Gg1e7rZwDEQMeOTp0lgz93j5LgQM4pMqQ\n",
       "n0yCiXlgqWoUKDehNwJHWvxS0qHIx4EmKfQodRSOysqSHoc3qpi4fb8UeJNFb8ObSwdCR2KnrX2W\n",
       "AgdwjDJDfjpDOjlXtSEBkJvSi+DIEX8KB9EvtoyeSuGwsWilrrK0S7ZfNNWG8sCurKVqnJb+Cm4x\n",
       "MUQ8kLl9yHzDpVjbZylwNKx0U1p+Rvq8dxUraDy5Kb0hHFni1zwdzty9zzgedp6ncHQxOOoqS47w\n",
       "8Fzgtqz2ufUstYQvPgS4BzHH+NU+I5/DOrW0T9cjOLgBR8Rb0Cg0TcLxcjsqHhpIYUJvCEeW+HM4\n",
       "Brr+8dHAoddjJ2uj0biLwxFU5j//J+MGOEUkUQFzlwNIRS/2bng1jCL0c0lMn6dfXu1DOkbY+trf\n",
       "UuDYIWU9S8jPmXhDafSsnBcsktCL4MgRv3pE2EfaPK5pC0JlJ8Z9zHpVNeghBgeLXohfme/ZBb7S\n",
       "zp2/WVLkORWwiZH9db0c7pSx/1OvT78M2ofQuXG1V+AkWlG9Fqfys2ZleYXbAeWm9AZw5Ilfs3Ro\n",
       "HvFjYRZCBn7Flp4nluZ17p8oHH5lx3BA7pTf04jpDA7ooAG73jscsctW8ujheZ107VlFqucY+mk4\n",
       "l0/If9x/M0K84hkLKDel938+HHnil4sP4dgsPenWUzGqtzB069Fi8fNRzwErO4HD446LRBoLDiuS\n",
       "xuzvzYqU8uomQbzmtw8Z7XpFS4FDn8Pgwbuq55hbtDgTBuWm9Ib3KUt8oucgEwNZtr3MtqfRpAvg\n",
       "2Ct7jRrQYZGRkfStxwQ/R1kSCXADj8xiV7Pr/e4kJyRhrjTS3su57RqkLgWOeg4h0/Lz4LC6OHEM\n",
       "5ab0hnBkiV9RQHIWy6B3PPk+4m8BaU+zoxVQmR1e20sBVw6OfJC7d0oG/pxxlEEGWInQztyo+FyP\n",
       "YCjwJaTHmafNtI7bS4EDOIY+I1jLgkPU+KOCZOtFPXyO+IRDSl5pkd0f3RugO5F9CMdWWfcmfYwO\n",
       "Kx53nycT/Bw9qqOJO2gfu+LzI8J4t8o2sD0VlcJ/p7V3Wq5uplfgKEM63gTHWJEi9eSm9CI4csQn\n",
       "4YCqASfzA/yq23RR36pLhk3Eby8IB+SO0eDnOCdptqvy98Q1kRs3BEOtmKSfQT4qcNRzkAz5WXmO\n",
       "iuUzwRbA53ojvmFSfAkc6uOGqOkTSnTKjn0Xz/fZJByj9poW3HKPu5WF7edoWFknl2aM/J4yNsnG\n",
       "S1cLrAXKJt7KM6TFE29IbkJv/WIfhibeWGQR46iXv14XNXBq6RwSx1TL6NwKBFqTqfeSFtAh9bgz\n",
       "wc8jjpR8X4OR4Zy1RNdWPCG8FSibsi+dW5HlE9VY7rneejg6FEZ1kcBqQ3MlVnCiYt0hjU3Z+0Rb\n",
       "MVk48QNbx+PurRj8HLfAErN3KFuLY3lZGhBsBcoW+5RN2c+xcSz9de6EYLnneuvhwKsesUWy1Zvc\n",
       "/JjB0agsHlsJlrgL4bC2chdkvaLJm+FgwA7ttpSNvUAJHLxsJRjpokFsV+6hnumthwOveoxYtg59\n",
       "b6feiJzqKuDYufMfEP5Lq9h/bg3pQRDLbn43oR4OjjpCXrs26XMh/VU4AHcT6Jx+66sURXB0RavP\n",
       "oztGq0vtfy8cEvnX8sqrCSLwZvv0eyuny+ii//ziYY0p+QCEiLxdOhQEsQOjzt39QumV91ZY0lKU\n",
       "uvv3jbdcOHrXw2PG8PM65N0bnNTDgV98vvYqtHNDy3Qg+cdw8KN3Zbs/Bo67t/YxbW8JhuQ/+S37\n",
       "AQ2Sw7UXealr+htNSP6T4RDIvRbXdoyzd/vazzqQ/CfDcftek8I1/SEeJP/JcFAUmtBrOwCotsMV\n",
       "JP/JcBjkfZqLW/OYtsOVUP5JtHJcSWLV/ZfgUMj7VFc3lpna9khD+cdw1K+6/xIcDE0Usatf1hau\n",
       "6W9Rh/Iz4Shadf8lOG53Oci/+1u7CjjKVt1/CQ58I6/fWt72ZpOB/B2O+1bdfweOMbL84PKgINre\n",
       "wziQv8Fx46r778Bh0Rhib9jKTuuW4Qjkb3DcuOr+O3D0Om2pQa7p6RVfPvQ5blt1/w04xshy2DuG\n",
       "hLbjFV8+gOO+VfffgAN/APaeT8JObW9x7clf4bh31f3Pw6HQE67ueeZV2y6pJ3/rOW5ddf/zcFgU\n",
       "gtubUt+27a4Dys/OkJatuv9xODRPWyoP03TXAeXnw/Fjq+5r4MCP930PPGt79g3Iz4fjx1bdV8Ch\n",
       "0ASZunHKjDf9pTcg/xiOr626r4CDyrTlSs/a9NzsLv+R6zkE2qNM6Du9yFE37ZNu8sfPivJfyvyY\n",
       "z9mLi4m05dIhmvY6Nvmqex+/lDP+nLy0E1fi1PJ/+1tzeGmFdJoAAAAASUVORK5CYII=\n",
       "\" style=\"display:inline;vertical-align:middle;\" /></a><br>(see <a class=\"ProveItLink\" href=\"../../../__pv_it/theorems/513deef057c2d057451cc2cdc089b79eb366513c0/dependencies.ipynb\">dependencies</a>)<br>"
      ],
      "text/plain": [
       "<IPython.core.display.HTML object>"
      ]
     },
     "metadata": {},
     "output_type": "display_data"
    }
   ],
   "source": [
    "%proving summation_nat_closure"
   ]
  },
  {
   "cell_type": "code",
   "execution_count": null,
   "metadata": {},
   "outputs": [],
   "source": []
  }
 ],
 "metadata": {
  "kernelspec": {
   "display_name": "Python 3",
   "language": "python",
   "name": "python3"
  }
 },
 "nbformat": 4,
 "nbformat_minor": 0
}