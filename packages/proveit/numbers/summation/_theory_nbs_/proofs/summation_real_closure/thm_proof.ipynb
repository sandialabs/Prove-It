{
 "cells": [
  {
   "cell_type": "markdown",
   "metadata": {},
   "source": [
    "Proof of <a class=\"ProveItLink\" href=\"../../../../../_theory_nbs_/theory.ipynb\">proveit</a>.<a class=\"ProveItLink\" href=\"../../../../_theory_nbs_/theory.ipynb\">numbers</a>.<a class=\"ProveItLink\" href=\"../../theory.ipynb\">summation</a>.<a class=\"ProveItLink\" href=\"../../theorems.ipynb#summation_real_closure\">summation_real_closure</a> theorem\n",
    "========"
   ]
  },
  {
   "cell_type": "code",
   "execution_count": 1,
   "metadata": {},
   "outputs": [],
   "source": [
    "import proveit\n",
    "theory = proveit.Theory() # the theorem's theory"
   ]
  },
  {
   "cell_type": "code",
   "execution_count": 2,
   "metadata": {},
   "outputs": [
    {
     "data": {
      "text/html": [
       "With these <a href=\"allowed_presumptions.txt\">allowed</a>/<a href=\"disallowed_presumptions.txt\">disallowed</a> theorem/theory presumptions (e.g., to avoid circular dependencies), we begin our proof of<br><strong id=\"summation_real_closure\">summation_real_closure:</strong> <a class=\"ProveItLink\" href=\"../../../__pv_it/theorems/ba9ae26d743af2c488d9a9dcf0847c7928ab40ef0/expr.ipynb\"><img src=\"data:image/png;base64,iVBORw0KGgoAAAANSUhEUgAAAhwAAABLCAMAAAAMNK4oAAAAPFBMVEX///8AAAAAAAAAAAAAAAAA\n",
       "AAAAAAAAAAAAAAAAAAAAAAAAAAAAAAAAAAAAAAAAAAAAAAAAAAAAAAAAAAAo1xBWAAAAE3RSTlMA\n",
       "q1RmmUTNIjK7EInv3XZQQDB8RZsp1gAAAAlwSFlzAAAOxAAADsQBlSsOGwAACeBJREFUeNrtneu6\n",
       "oyoShuWoILhnhvu/1zExakGhHHRltc32R3c/1YH44QtUFUi67vIlRdfytcof3Psiv3MXdvn2wlK9\n",
       "1UnLpYuTptnY5A9uZPP1Sz3l9dWMlMLRjSRtuXBRo1tmY5c/uP63b4YVw9EZlrZUX/rGuh54AfnP\n",
       "hEOguxb36SCy6UkFyH8mHB1RaUvlNbimvVEo/6Fw9I4mLbWuetsDB5T/UDg6ZdOWOnes7YHDk/9U\n",
       "OAY3JS11Pce2zIYv/6lwdMqkLbdA15jHMf0NcFDkY9A7vA7ims5x+PIfC0fnZNpSHuQ71TIbgfzn\n",
       "wkHckLRU3AttGY5A/nPhEG5MWso9mbZnlUD+c+HonElbiofVpmOVUP6D4VBoFlFX5xV2fex59qwy\n",
       "/i1wTOhJTlefLWk7AxbKfzAcA4pOhqvxinEts4HkPxiOziHv0V3zJ/91Of4eOCSaBOS1aYG2neVA\n",
       "8p8MB0epbn4t+c3b9keR/CfDwVBHZ9e6vmw7BYbkPxmOAeU1hmuZDnM9xfpsf3T4e+DQaN+6dpfC\n",
       "Ddd2fhTJP4ZDuoNr+lPgmNUMSUvB1bumI1ks/xgO6oKW1r2YiHHO/DFwWOQj2CteAw1COWKt7R/8\n",
       "tKf5/mm9/NNphbhY2M/s3V5bPRwSjWLyyrg2BTm0H99M2ufZ+/p6GauXf+5z2PibcFxdb4f+FjgI\n",
       "Cj3JlWB0DGKdn4Zjonl2kQKeSaOUk9YoFhQogWNEod4ZHK9XJWOV8/5yO0C9aThC8XtgTlCoPlt2\n",
       "I2VlrBEMR21lGcM45JiPo47Zl9ZLfrPq+vlGBWFKewVK4CCoNU+jlWmmI/bfWd8I5J7rzRk5AvEb\n",
       "6xLRP1v4liaVRRgrxzEctZWlYy147yMZDI3Y16/W6fYZ338NxCtQAkcoPxXKKle92gDkJvRmwuGJ\n",
       "X1GwCI7Zsn2mL5sAZQyO2srSnQc+N0PFij2PPE/G89pnHtOlV6AEDlkIh56DE16nHchN6C2AYxO/\n",
       "jmwGjXUGgDeWuc42cFikR/F4sx8Ob12ADEM0GAxe7Z7UHIhYGWsf5RU4gEPpDPnJJJiYJ5aqRoFy\n",
       "E3ojcKTFf0o6FPk40CSFHqWJwlFZWdLj8GYVG7fvtwIfspCTjnceojXxChzAMagM+ekM6ehc1YEE\n",
       "QG5KL4IjR/wpHJ15sWXNWArHFItW6ipLu2T7TRNjCQ/sepqIHsbPeAWPmOgjHsjSPoOiq2P0KXA0\n",
       "rbAxLT8jfS5dxQ4aT25KbwhHlvg1T4czd+9vHA4Hz1M4WAyOusqSMzz8LvBYVvvcehOZOm4/8Roo\n",
       "2UenXSOts1uvYhLBwS24It6CQaFpEo6X21HRaSCFCb0hHFniz+F4hTbLH4sGDr2eaZymaDTu4nAE\n",
       "lfn9/2TeAF8RSVTA3GUPUtEfO+tfDaM7stwSNefpl1fnYQw4/p8Cxw4plTQhP2fhDaXRs3JesEhC\n",
       "L4IjR/zqEXVxy6ufj1sQqpgY9jnrJbg3fQwOGr0Rv7LgvnxfaefOPywp0k8FbGJkf90vhydl7P80\n",
       "a+9XwciqNGNBgZNoRUsjTuVnrcryCrcDyk3pDeDIE79m6dA64mKhE4QMfIp+fKFYmte5f6Jw+JUd\n",
       "wwG50/5II8YzOKCDBuxmH3DEPnJodRTNDXyf/ERq5Ojl2J/L77r/uP9mhHjFKxZQbkrv/3w48sR/\n",
       "bj6EY7PIjq1fRYnZwtBtRIvFz0cjB6zsBA6POy4SaSw4rSgSs78PK9Laq/v9icNQnw9bMuZT4NDn\n",
       "sHjyrho55hYtzoRBuSm94XPKEp8YObqRgizbXmg702g0BXDslb1mDeiwqMhM+tZjg4+jLIkCuIEu\n",
       "87FrJTryusURSZgrPWqfuV+tmedPgaORQ6i0/Dw4JlOcOIZyU3pDOLLEryggOR9Lb3Y8+T7jbwGp\n",
       "JNnRCqhs6l/HSwFXDrSxx10vg49TjjLIACsR2qkbNJ/rERQFvl0naax9+MKCErDAARy9zAjWsuAQ\n",
       "Nf6o6LL1ohE+R3zCIZ2f1X7TYLluPSkvKvsQjq0y9iZ9iE4rHndLzwQfR111sHEHbbFrPncRytna\n",
       "Eha2pyZKeCPmsjCpZklKfTaCfgocZUiHm+AYKlKkntyUXgRHjvgkHFA14GRG7FW3ZVHfiiXDps5v\n",
       "LwgH5I6S4OM4J2m3u/LPxLWRB9cHU60YlZ9BPipwNHJ0GfKz8hwV22eCI4DP9UZ8w6T4Ejj04obo\n",
       "cQklmJ4GyeL5vikJx2C8poUBFeRuZWH7OJpW1sWlGSN/pIwtsvHS3QJrgbKFt/IMafHCG5Kb0Fu/\n",
       "2YeihTca2cQ4mM9fr5vqOZkI0dG+o6JrKxBo043SS1pAh9TjzgYfjzhS6n0PVoXZG4XurXhBeCtQ\n",
       "tmRfuraiyheqsdxzvfVwMBRGsUhgtaG5Eit4p2PDIYkt2ftET2KcYJYWto7H3Vsx+DhugU/MzlC2\n",
       "FsfyqjQg2AqUbfYpW7KfY+NY+uvcCcFyz/XWw4F3PWKLoqs3ufkxvSNRWTy2EyzxFMJpbeUuyHpF\n",
       "kzf9wYQd2qdSNvYCJXDwsp1gHYsGsazcQz3TWw8H3vUYsWwD+t5O0oqc6irg2LnzOwj/pV3sP7eH\n",
       "9CCIpTe/m1APB0cDIa/dm7TciLwKB+BuBIPTb/0qRREcrGj3efTEaH2p/e+FQyH/Wl15NUEE3qxM\n",
       "v7dyuo0u+s8vXpO1JT8AISJvl/YFQWxPiXN3v1B65b0VmrQUpe7+feMtFw7pJLxmDJfXIe8+4KQe\n",
       "Dvzi87VXoZ3rW6YDyT+Ggx+9K8v+GDjuPtrHtn0kGJL/5LfsezRJ9tde5CWu6d9oQvKfDIdA7rW4\n",
       "dmLcdLev/awLyX8yHLefNSlc0z/Eg+Q/GQ6CQhNy7QQA3Xa4guQ/GQ6LvE978Wge23a4Eso/iVaO\n",
       "K0nsuv8SHBp5n/rqwTJj2x5pKP8Yjvpd91+Cg6KFInr1l7WFa/q3qEP5mXAU7br/Ehy3uxzdv+db\n",
       "uwo4ynbdfwkO/CCvP1re9mGTgfwdjvt23X8HjiGy/eDypCDaPsM4kL/BceOu++/AMaE5ZLrhKDtj\n",
       "WoYjkL/BceOu++/AIU3aUoNc08srvnzoc9y26/4bcAyR7bB3TAltxyu+fADHfbvuvwEH/gHYe34S\n",
       "dmz7iGtP/grHvbvufx4OjXq4vqfP67ZdUk/+NnLcuuv+5+GYUAg+3ZT6ntoeOqD87Axp2a77H4fD\n",
       "8LSl8rJNDx1Qfj4cP7brvgYO3L3v6/C07dU3ID8fjh/bdV8Bh0YLZPrGJTPe9C+9AfnHcHxt130F\n",
       "HESlLVdG1qbXZnf5j9zPIdAZZcLc6UUOpmmfdJM/LDvKfynzY5dvLy4m0pZLl2ja69jka/a+filn\n",
       "vHx56SCuxanl/xQSdLw7PXhcAAAAAElFTkSuQmCC\n",
       "\" style=\"display:inline;vertical-align:middle;\" /></a><br>(see <a class=\"ProveItLink\" href=\"../../../__pv_it/theorems/78b7baa5769aeac3d3c5ddc7d67e945828c3bc620/dependencies.ipynb\">dependencies</a>)<br>"
      ],
      "text/plain": [
       "<IPython.core.display.HTML object>"
      ]
     },
     "metadata": {},
     "output_type": "display_data"
    }
   ],
   "source": [
    "%proving summation_real_closure"
   ]
  },
  {
   "cell_type": "code",
   "execution_count": null,
   "metadata": {},
   "outputs": [],
   "source": []
  }
 ],
 "metadata": {
  "kernelspec": {
   "display_name": "Python 3",
   "language": "python",
   "name": "python3"
  }
 },
 "nbformat": 4,
 "nbformat_minor": 0
}