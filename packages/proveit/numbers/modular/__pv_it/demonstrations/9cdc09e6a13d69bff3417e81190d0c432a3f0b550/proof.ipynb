{
 "cells": [
  {
   "cell_type": "markdown",
   "metadata": {},
   "source": [
    "Show the Proof\n",
    "========"
   ]
  },
  {
   "cell_type": "code",
   "execution_count": 1,
   "metadata": {},
   "outputs": [
    {
     "data": {
      "text/html": [
       "<table><tr><th>&nbsp;</th><th>step type</th><th>requirements</th><th>statement</th></tr>\n",
       "<tr><td><a name=\"proveit.numbers.modular.demonstrations.9cdc09e6a13d69bff3417e81190d0c432a3f0b550_step0\">0</a></td><td>instantiation</td><td><a href=\"#proveit.numbers.modular.demonstrations.9cdc09e6a13d69bff3417e81190d0c432a3f0b550_step1\">1</a>, <a href=\"#proveit.numbers.modular.demonstrations.9cdc09e6a13d69bff3417e81190d0c432a3f0b550_step2\">2</a></td><td><span style=\"font-size:20px;\"><a class=\"ProveItLink\" href=\"../695db39f491ebc02b33408c30a8bc4c5e55a1c4c0/expr.ipynb\"><img src=\"../695db39f491ebc02b33408c30a8bc4c5e55a1c4c0/expr.png\" style=\"display:inline;vertical-align:middle;\" /></a> <a class=\"ProveItLink\" href=\"proof.ipynb\" style=\"text-decoration: none\">&nbsp;&#x22A2;&nbsp;&nbsp;</a><a class=\"ProveItLink\" href=\"../b442566a0eeeb661d9009fd147cd61fdad94b6e00/expr.ipynb\"><img src=\"../b442566a0eeeb661d9009fd147cd61fdad94b6e00/expr.png\" style=\"display:inline;vertical-align:middle;\" /></a></span></td></tr>\n",
       "<tr><td>&nbsp;</td><td colspan=4 style=\"text-align:left\"><span style=\"font-size:20px;\"><a class=\"ProveItLink\" href=\"../../../../../__pv_it/common/a0d9d672aa5e272d907247690c152cc2c6daafb70/expr.ipynb\"><img src=\"../../../../../__pv_it/common/a0d9d672aa5e272d907247690c152cc2c6daafb70/expr.png\" style=\"display:inline;vertical-align:middle;\" /></a> : <a class=\"ProveItLink\" href=\"../9df4b739076f4e12b1230310c3d5fc9349486de20/expr.ipynb\"><img src=\"../9df4b739076f4e12b1230310c3d5fc9349486de20/expr.png\" style=\"display:inline;vertical-align:middle;\" /></a></span></td></tr><tr><td><a name=\"proveit.numbers.modular.demonstrations.9cdc09e6a13d69bff3417e81190d0c432a3f0b550_step1\">1</a></td><td>theorem</td><td></td><td><span style=\"font-size:20px;\"> <a class=\"ProveItLink\" href=\"../../../../absolute_value/_theory_nbs_/proofs/abs_non_neg_elim/thm_proof.ipynb\" style=\"text-decoration: none\">&nbsp;&#x22A2;&nbsp;&nbsp;</a><a class=\"ProveItLink\" href=\"../../../../absolute_value/__pv_it/theorems/de7f1f85b50f0f14614c489704dd5bd66a903a2a0/expr.ipynb\"><img src=\"../../../../absolute_value/__pv_it/theorems/de7f1f85b50f0f14614c489704dd5bd66a903a2a0/expr.png\" style=\"display:inline;vertical-align:middle;\" /></a></span></td></tr>\n",
       "<tr><td>&nbsp;</td><td colspan=4 style-\"text-align:left\"><a class=\"ProveItLink\" href=\"../../../../absolute_value/_theory_nbs_/proofs/abs_non_neg_elim/thm_proof.ipynb\">proveit.numbers.absolute_value.abs_non_neg_elim</a></td></tr><tr><td><a name=\"proveit.numbers.modular.demonstrations.9cdc09e6a13d69bff3417e81190d0c432a3f0b550_step2\">2</a></td><td>instantiation</td><td><a href=\"#proveit.numbers.modular.demonstrations.9cdc09e6a13d69bff3417e81190d0c432a3f0b550_step3\">3</a>, <a href=\"#proveit.numbers.modular.demonstrations.9cdc09e6a13d69bff3417e81190d0c432a3f0b550_step4\">4</a></td><td><span style=\"font-size:20px;\"><a class=\"ProveItLink\" href=\"../695db39f491ebc02b33408c30a8bc4c5e55a1c4c0/expr.ipynb\"><img src=\"../695db39f491ebc02b33408c30a8bc4c5e55a1c4c0/expr.png\" style=\"display:inline;vertical-align:middle;\" /></a> <a class=\"ProveItLink\" href=\"../03bca98eccd07461e88500296f0972e21c7ddde10/proof.ipynb\" style=\"text-decoration: none\">&nbsp;&#x22A2;&nbsp;&nbsp;</a><a class=\"ProveItLink\" href=\"../5338166d0479ba871975bcd47aa7931ac5da0acd0/expr.ipynb\"><img src=\"../5338166d0479ba871975bcd47aa7931ac5da0acd0/expr.png\" style=\"display:inline;vertical-align:middle;\" /></a></span></td></tr>\n",
       "<tr><td>&nbsp;</td><td colspan=4 style=\"text-align:left\"><span style=\"font-size:20px;\"><a class=\"ProveItLink\" href=\"../../../../../__pv_it/common/a0d9d672aa5e272d907247690c152cc2c6daafb70/expr.ipynb\"><img src=\"../../../../../__pv_it/common/a0d9d672aa5e272d907247690c152cc2c6daafb70/expr.png\" style=\"display:inline;vertical-align:middle;\" /></a> : <a class=\"ProveItLink\" href=\"../../../../numerals/__pv_it/common/dd4e19e8b134dfb293470ea55fe3589b0ab9f8040/expr.ipynb\"><img src=\"../../../../numerals/__pv_it/common/dd4e19e8b134dfb293470ea55fe3589b0ab9f8040/expr.png\" style=\"display:inline;vertical-align:middle;\" /></a>, <a class=\"ProveItLink\" href=\"../../../../../__pv_it/common/ff7dba4ef0bbe791ab573bf2d9c220a304399ac80/expr.ipynb\"><img src=\"../../../../../__pv_it/common/ff7dba4ef0bbe791ab573bf2d9c220a304399ac80/expr.png\" style=\"display:inline;vertical-align:middle;\" /></a> : <a class=\"ProveItLink\" href=\"../9df4b739076f4e12b1230310c3d5fc9349486de20/expr.ipynb\"><img src=\"../9df4b739076f4e12b1230310c3d5fc9349486de20/expr.png\" style=\"display:inline;vertical-align:middle;\" /></a></span></td></tr><tr><td><a name=\"proveit.numbers.modular.demonstrations.9cdc09e6a13d69bff3417e81190d0c432a3f0b550_step3\">3</a></td><td>theorem</td><td></td><td><span style=\"font-size:20px;\"> <a class=\"ProveItLink\" href=\"../../../../ordering/_theory_nbs_/proofs/relax_less/thm_proof.ipynb\" style=\"text-decoration: none\">&nbsp;&#x22A2;&nbsp;&nbsp;</a><a class=\"ProveItLink\" href=\"../../../../ordering/__pv_it/theorems/e31e463cf2805f510e0c2c78f9eb78535b1640d20/expr.ipynb\"><img src=\"../../../../ordering/__pv_it/theorems/e31e463cf2805f510e0c2c78f9eb78535b1640d20/expr.png\" style=\"display:inline;vertical-align:middle;\" /></a></span></td></tr>\n",
       "<tr><td>&nbsp;</td><td colspan=4 style-\"text-align:left\"><a class=\"ProveItLink\" href=\"../../../../ordering/_theory_nbs_/proofs/relax_less/thm_proof.ipynb\">proveit.numbers.ordering.relax_less</a></td></tr><tr><td><a name=\"proveit.numbers.modular.demonstrations.9cdc09e6a13d69bff3417e81190d0c432a3f0b550_step4\">4</a></td><td>assumption</td><td></td><td><span style=\"font-size:20px;\"><a class=\"ProveItLink\" href=\"../695db39f491ebc02b33408c30a8bc4c5e55a1c4c0/expr.ipynb\"><img src=\"../695db39f491ebc02b33408c30a8bc4c5e55a1c4c0/expr.png\" style=\"display:inline;vertical-align:middle;\" /></a> <a class=\"ProveItLink\" href=\"../9378eb3c8871e6f9c3364896b3f2749bae591cc80/proof.ipynb\" style=\"text-decoration: none\">&nbsp;&#x22A2;&nbsp;&nbsp;</a><a class=\"ProveItLink\" href=\"../695db39f491ebc02b33408c30a8bc4c5e55a1c4c0/expr.ipynb\"><img src=\"../695db39f491ebc02b33408c30a8bc4c5e55a1c4c0/expr.png\" style=\"display:inline;vertical-align:middle;\" /></a></span></td></tr>\n",
       "</table>"
      ],
      "text/plain": [
       "<proveit._core_.proof._ShowProof at 0x7f2cdcf055f8>"
      ]
     },
     "execution_count": 1,
     "metadata": {},
     "output_type": "execute_result"
    }
   ],
   "source": [
    "import proveit\n",
    "# Automation is not needed when only showing a stored proof:\n",
    "proveit.defaults.automation = False # This will speed things up.\n",
    "proveit.defaults.inline_pngs = False # Makes files smaller.\n",
    "%show_proof"
   ]
  },
  {
   "cell_type": "code",
   "execution_count": null,
   "metadata": {},
   "outputs": [],
   "source": []
  }
 ],
 "metadata": {
  "kernelspec": {
   "display_name": "Python 3",
   "language": "python",
   "name": "python3"
  }
 },
 "nbformat": 4,
 "nbformat_minor": 0
}