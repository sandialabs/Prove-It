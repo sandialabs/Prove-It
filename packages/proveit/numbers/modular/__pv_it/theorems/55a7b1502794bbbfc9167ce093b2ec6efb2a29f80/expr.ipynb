{
 "cells": [
  {
   "cell_type": "markdown",
   "metadata": {},
   "source": [
    "Expression of type <a class=\"ProveItLink\" href=\"../../../../../../../doc/html/api/proveit.Lambda.html\">Lambda</a>\n",
    "=======================\n",
    "# from the theory of <a class=\"ProveItLink\" href=\"../../../_theory_nbs_/theory.ipynb\">proveit.numbers.modular</a>"
   ]
  },
  {
   "cell_type": "code",
   "execution_count": 1,
   "metadata": {},
   "outputs": [],
   "source": [
    "import proveit\n",
    "# Automation is not needed when building an expression:\n",
    "proveit.defaults.automation = False # This will speed things up.\n",
    "proveit.defaults.inline_pngs = False # Makes files smaller.\n",
    "%load_expr # Load the stored expression as 'stored_expr'\n",
    "# import Expression classes needed to build the expression\n",
    "from proveit import Conditional, L, Lambda, S, c, x\n",
    "from proveit.logic import Card, Equals, Forall, InSet, SetOfAll, SubsetEq\n",
    "from proveit.numbers import Add, Mod, Real"
   ]
  },
  {
   "cell_type": "code",
   "execution_count": 2,
   "metadata": {},
   "outputs": [
    {
     "data": {
      "text/html": [
       "<strong id=\"expr\">expr:</strong> <a class=\"ProveItLink\" href=\"expr.ipynb\"><img src=\"expr.png\" style=\"display:inline;vertical-align:middle;\" /></a><br>"
      ],
      "text/plain": [
       "<IPython.core.display.HTML object>"
      ]
     },
     "metadata": {},
     "output_type": "display_data"
    }
   ],
   "source": [
    "# build up the expression from sub-expressions\n",
    "sub_expr1 = [x]\n",
    "expr = Lambda(L, Conditional(Forall(instance_param_or_params = [S], instance_expr = Forall(instance_param_or_params = [c], instance_expr = Equals(Card(SetOfAll(instance_param_or_params = sub_expr1, instance_element = Mod(Add(x, c), L), domain = S)), Card(SetOfAll(instance_param_or_params = sub_expr1, instance_element = Mod(x, L), domain = S))), domain = Real), condition = SubsetEq(S, Real)), InSet(L, Real)))"
   ]
  },
  {
   "cell_type": "code",
   "execution_count": 3,
   "metadata": {},
   "outputs": [
    {
     "name": "stdout",
     "output_type": "stream",
     "text": [
      "Passed sanity check: expr matches stored_expr\n"
     ]
    }
   ],
   "source": [
    "# check that the built expression is the same as the stored expression\n",
    "assert expr == stored_expr\n",
    "assert expr._style_id == stored_expr._style_id\n",
    "print(\"Passed sanity check: expr matches stored_expr\")"
   ]
  },
  {
   "cell_type": "code",
   "execution_count": 4,
   "metadata": {},
   "outputs": [
    {
     "name": "stdout",
     "output_type": "stream",
     "text": [
      "L \\mapsto \\left\\{\\forall_{S~|~S \\subseteq \\mathbb{R}}~\\left[\\forall_{c \\in \\mathbb{R}}~\\left(|\\left\\{\\left(x + c\\right) ~\\textup{mod}~ L\\right\\}_{x \\in S}| = |\\left\\{x ~\\textup{mod}~ L\\right\\}_{x \\in S}|\\right)\\right] \\textrm{ if } L \\in \\mathbb{R}\\right..\n"
     ]
    }
   ],
   "source": [
    "# Show the LaTeX representation of the expression for convenience if you need it.\n",
    "print(stored_expr.latex())"
   ]
  },
  {
   "cell_type": "code",
   "execution_count": 5,
   "metadata": {},
   "outputs": [
    {
     "data": {
      "text/html": [
       "no style options"
      ],
      "text/plain": [
       "no style options"
      ]
     },
     "metadata": {},
     "output_type": "display_data"
    }
   ],
   "source": [
    "stored_expr.style_options()"
   ]
  },
  {
   "cell_type": "code",
   "execution_count": 6,
   "metadata": {},
   "outputs": [
    {
     "data": {
      "text/html": [
       "<table><tr><th>&nbsp;</th><th>core type</th><th>sub-expressions</th><th>expression</th></tr>\n",
       "<tr><td>0</td><td>Lambda</td><td>parameter:&nbsp;49<br>body:&nbsp;2<br></td><td><a class=\"ProveItLink\" href=\"expr.ipynb\"><img src=\"expr.png\" style=\"display:inline;vertical-align:middle;\" /></a></td></tr>\n",
       "<tr><td>1</td><td>ExprTuple</td><td>49</td><td><a class=\"ProveItLink\" href=\"../f01aff0e75ce67f336a04d4821c8771558bc7eee0/expr.ipynb\"><img src=\"../f01aff0e75ce67f336a04d4821c8771558bc7eee0/expr.png\" style=\"display:inline;vertical-align:middle;\" /></a></td></tr>\n",
       "<tr><td>2</td><td>Conditional</td><td>value:&nbsp;3<br>condition:&nbsp;4<br></td><td><a class=\"ProveItLink\" href=\"../060bf59a42490bf567b01128c182fe3da05eedc70/expr.ipynb\"><img src=\"../060bf59a42490bf567b01128c182fe3da05eedc70/expr.png\" style=\"display:inline;vertical-align:middle;\" /></a></td></tr>\n",
       "<tr><td>3</td><td>Operation</td><td>operator:&nbsp;12<br>operand:&nbsp;7<br></td><td><a class=\"ProveItLink\" href=\"../9a8b0ef5e0709f6e321f29e294b386381e39577c0/expr.ipynb\"><img src=\"../9a8b0ef5e0709f6e321f29e294b386381e39577c0/expr.png\" style=\"display:inline;vertical-align:middle;\" /></a></td></tr>\n",
       "<tr><td>4</td><td>Operation</td><td>operator:&nbsp;46<br>operands:&nbsp;6<br></td><td><a class=\"ProveItLink\" href=\"../47d7d187af66706e1795b7778406e9c70835e7c40/expr.ipynb\"><img src=\"../47d7d187af66706e1795b7778406e9c70835e7c40/expr.png\" style=\"display:inline;vertical-align:middle;\" /></a></td></tr>\n",
       "<tr><td>5</td><td>ExprTuple</td><td>7</td><td><a class=\"ProveItLink\" href=\"../ba5181c47bb605b309c5adfb206da3e8afb3d6e40/expr.ipynb\"><img src=\"../ba5181c47bb605b309c5adfb206da3e8afb3d6e40/expr.png\" style=\"display:inline;vertical-align:middle;\" /></a></td></tr>\n",
       "<tr><td>6</td><td>ExprTuple</td><td>49, 26</td><td><a class=\"ProveItLink\" href=\"../d5b2784566d0555c3396461d5e4930d319f333f30/expr.ipynb\"><img src=\"../d5b2784566d0555c3396461d5e4930d319f333f30/expr.png\" style=\"display:inline;vertical-align:middle;\" /></a></td></tr>\n",
       "<tr><td>7</td><td>Lambda</td><td>parameter:&nbsp;50<br>body:&nbsp;9<br></td><td><a class=\"ProveItLink\" href=\"../42193849cb0c77ebec628342f63d77daa68e695e0/expr.ipynb\"><img src=\"../42193849cb0c77ebec628342f63d77daa68e695e0/expr.png\" style=\"display:inline;vertical-align:middle;\" /></a></td></tr>\n",
       "<tr><td>8</td><td>ExprTuple</td><td>50</td><td><a class=\"ProveItLink\" href=\"../b56f07ff3525963a95bdc514d264b650cd8d9a4e0/expr.ipynb\"><img src=\"../b56f07ff3525963a95bdc514d264b650cd8d9a4e0/expr.png\" style=\"display:inline;vertical-align:middle;\" /></a></td></tr>\n",
       "<tr><td>9</td><td>Conditional</td><td>value:&nbsp;10<br>condition:&nbsp;11<br></td><td><a class=\"ProveItLink\" href=\"../10c18e144a55cb7da1fbbc34c2fe05781f15adff0/expr.ipynb\"><img src=\"../10c18e144a55cb7da1fbbc34c2fe05781f15adff0/expr.png\" style=\"display:inline;vertical-align:middle;\" /></a></td></tr>\n",
       "<tr><td>10</td><td>Operation</td><td>operator:&nbsp;12<br>operand:&nbsp;16<br></td><td><a class=\"ProveItLink\" href=\"../f0326dad925ff1a7291063eff5b3174c27a20a0b0/expr.ipynb\"><img src=\"../f0326dad925ff1a7291063eff5b3174c27a20a0b0/expr.png\" style=\"display:inline;vertical-align:middle;\" /></a></td></tr>\n",
       "<tr><td>11</td><td>Operation</td><td>operator:&nbsp;14<br>operands:&nbsp;15<br></td><td><a class=\"ProveItLink\" href=\"../5c6fb0da7d3c1fb5a7cecea11f536b20809beb890/expr.ipynb\"><img src=\"../5c6fb0da7d3c1fb5a7cecea11f536b20809beb890/expr.png\" style=\"display:inline;vertical-align:middle;\" /></a></td></tr>\n",
       "<tr><td>12</td><td>Literal</td><td></td><td><a class=\"ProveItLink\" href=\"../../../../../logic/booleans/quantification/universality/__pv_it/common/083d2baa0b8ecab1d230f9ec29a15aa1355809fb0/expr.ipynb\"><img src=\"../../../../../logic/booleans/quantification/universality/__pv_it/common/083d2baa0b8ecab1d230f9ec29a15aa1355809fb0/expr.png\" style=\"display:inline;vertical-align:middle;\" /></a></td></tr>\n",
       "<tr><td>13</td><td>ExprTuple</td><td>16</td><td><a class=\"ProveItLink\" href=\"../1e10bcbf50f825bda1484b967946d5cbd4168d800/expr.ipynb\"><img src=\"../1e10bcbf50f825bda1484b967946d5cbd4168d800/expr.png\" style=\"display:inline;vertical-align:middle;\" /></a></td></tr>\n",
       "<tr><td>14</td><td>Literal</td><td></td><td><a class=\"ProveItLink\" href=\"../../../../../logic/sets/inclusion/__pv_it/common/af21bfd7d93759eac7fe399a50aaac31ae45d8cf0/expr.ipynb\"><img src=\"../../../../../logic/sets/inclusion/__pv_it/common/af21bfd7d93759eac7fe399a50aaac31ae45d8cf0/expr.png\" style=\"display:inline;vertical-align:middle;\" /></a></td></tr>\n",
       "<tr><td>15</td><td>ExprTuple</td><td>50, 26</td><td><a class=\"ProveItLink\" href=\"../471f7df5787564ab8b5e045d322aca8d279301040/expr.ipynb\"><img src=\"../471f7df5787564ab8b5e045d322aca8d279301040/expr.png\" style=\"display:inline;vertical-align:middle;\" /></a></td></tr>\n",
       "<tr><td>16</td><td>Lambda</td><td>parameter:&nbsp;54<br>body:&nbsp;18<br></td><td><a class=\"ProveItLink\" href=\"../9a8d26db01f3779a430e88fb4a519b107809ebbb0/expr.ipynb\"><img src=\"../9a8d26db01f3779a430e88fb4a519b107809ebbb0/expr.png\" style=\"display:inline;vertical-align:middle;\" /></a></td></tr>\n",
       "<tr><td>17</td><td>ExprTuple</td><td>54</td><td><a class=\"ProveItLink\" href=\"../25c776cc10fb7df90a1cddbf8213d6561f6b7bd20/expr.ipynb\"><img src=\"../25c776cc10fb7df90a1cddbf8213d6561f6b7bd20/expr.png\" style=\"display:inline;vertical-align:middle;\" /></a></td></tr>\n",
       "<tr><td>18</td><td>Conditional</td><td>value:&nbsp;19<br>condition:&nbsp;20<br></td><td><a class=\"ProveItLink\" href=\"../723d8a3f8b4bc3bc8a2ff4b3c7699db92039f2a40/expr.ipynb\"><img src=\"../723d8a3f8b4bc3bc8a2ff4b3c7699db92039f2a40/expr.png\" style=\"display:inline;vertical-align:middle;\" /></a></td></tr>\n",
       "<tr><td>19</td><td>Operation</td><td>operator:&nbsp;21<br>operands:&nbsp;22<br></td><td><a class=\"ProveItLink\" href=\"../680d6c80fc2d94ec96aa4c49f69230a2bbe7181f0/expr.ipynb\"><img src=\"../680d6c80fc2d94ec96aa4c49f69230a2bbe7181f0/expr.png\" style=\"display:inline;vertical-align:middle;\" /></a></td></tr>\n",
       "<tr><td>20</td><td>Operation</td><td>operator:&nbsp;46<br>operands:&nbsp;23<br></td><td><a class=\"ProveItLink\" href=\"../d550e8309ef79ca46e4c9fb5617a392ea678789b0/expr.ipynb\"><img src=\"../d550e8309ef79ca46e4c9fb5617a392ea678789b0/expr.png\" style=\"display:inline;vertical-align:middle;\" /></a></td></tr>\n",
       "<tr><td>21</td><td>Literal</td><td></td><td><a class=\"ProveItLink\" href=\"../../../../../logic/equality/__pv_it/common/fb96dc12b2aa8801dda64d0132b396c63d1502bb0/expr.ipynb\"><img src=\"../../../../../logic/equality/__pv_it/common/fb96dc12b2aa8801dda64d0132b396c63d1502bb0/expr.png\" style=\"display:inline;vertical-align:middle;\" /></a></td></tr>\n",
       "<tr><td>22</td><td>ExprTuple</td><td>24, 25</td><td><a class=\"ProveItLink\" href=\"../247f9ebfa72ef4c75aa5e86d7472323026a060420/expr.ipynb\"><img src=\"../247f9ebfa72ef4c75aa5e86d7472323026a060420/expr.png\" style=\"display:inline;vertical-align:middle;\" /></a></td></tr>\n",
       "<tr><td>23</td><td>ExprTuple</td><td>54, 26</td><td><a class=\"ProveItLink\" href=\"../54ad27fbcacfe9ab74eb88f77e3e29beb7c0d0f20/expr.ipynb\"><img src=\"../54ad27fbcacfe9ab74eb88f77e3e29beb7c0d0f20/expr.png\" style=\"display:inline;vertical-align:middle;\" /></a></td></tr>\n",
       "<tr><td>24</td><td>Operation</td><td>operator:&nbsp;28<br>operand:&nbsp;30<br></td><td><a class=\"ProveItLink\" href=\"../ffc929b7f1ec9a91f8c4e6e1d1ac1402dc2c8bf90/expr.ipynb\"><img src=\"../ffc929b7f1ec9a91f8c4e6e1d1ac1402dc2c8bf90/expr.png\" style=\"display:inline;vertical-align:middle;\" /></a></td></tr>\n",
       "<tr><td>25</td><td>Operation</td><td>operator:&nbsp;28<br>operand:&nbsp;31<br></td><td><a class=\"ProveItLink\" href=\"../527d7b8cf96d4f0e7cfa0952c6f30a453eaa048a0/expr.ipynb\"><img src=\"../527d7b8cf96d4f0e7cfa0952c6f30a453eaa048a0/expr.png\" style=\"display:inline;vertical-align:middle;\" /></a></td></tr>\n",
       "<tr><td>26</td><td>Literal</td><td></td><td><a class=\"ProveItLink\" href=\"../../../../number_sets/real_numbers/__pv_it/common/93cac87a1a47e613f7a83b23ef7891599a1a4cca0/expr.ipynb\"><img src=\"../../../../number_sets/real_numbers/__pv_it/common/93cac87a1a47e613f7a83b23ef7891599a1a4cca0/expr.png\" style=\"display:inline;vertical-align:middle;\" /></a></td></tr>\n",
       "<tr><td>27</td><td>ExprTuple</td><td>30</td><td><a class=\"ProveItLink\" href=\"../5245e01ebaf2f9d4632e49167927e8f8e99741710/expr.ipynb\"><img src=\"../5245e01ebaf2f9d4632e49167927e8f8e99741710/expr.png\" style=\"display:inline;vertical-align:middle;\" /></a></td></tr>\n",
       "<tr><td>28</td><td>Literal</td><td></td><td><a class=\"ProveItLink\" href=\"../../../../../logic/sets/cardinality/__pv_it/common/37cc8d68272d88ace1dbf77a85e417fe7e7954e60/expr.ipynb\"><img src=\"../../../../../logic/sets/cardinality/__pv_it/common/37cc8d68272d88ace1dbf77a85e417fe7e7954e60/expr.png\" style=\"display:inline;vertical-align:middle;\" /></a></td></tr>\n",
       "<tr><td>29</td><td>ExprTuple</td><td>31</td><td><a class=\"ProveItLink\" href=\"../0ecf266c0bcf06afd1fe7385bcca47f1a08ec8bc0/expr.ipynb\"><img src=\"../0ecf266c0bcf06afd1fe7385bcca47f1a08ec8bc0/expr.png\" style=\"display:inline;vertical-align:middle;\" /></a></td></tr>\n",
       "<tr><td>30</td><td>Operation</td><td>operator:&nbsp;33<br>operand:&nbsp;35<br></td><td><a class=\"ProveItLink\" href=\"../6af372c55645806f695466cf7c082f0b21a6c9570/expr.ipynb\"><img src=\"../6af372c55645806f695466cf7c082f0b21a6c9570/expr.png\" style=\"display:inline;vertical-align:middle;\" /></a></td></tr>\n",
       "<tr><td>31</td><td>Operation</td><td>operator:&nbsp;33<br>operand:&nbsp;36<br></td><td><a class=\"ProveItLink\" href=\"../163d320a859e545ea564cadde7c01d5476fe84480/expr.ipynb\"><img src=\"../163d320a859e545ea564cadde7c01d5476fe84480/expr.png\" style=\"display:inline;vertical-align:middle;\" /></a></td></tr>\n",
       "<tr><td>32</td><td>ExprTuple</td><td>35</td><td><a class=\"ProveItLink\" href=\"../e2889356bb85fb53372ff8dd08b72582109e97820/expr.ipynb\"><img src=\"../e2889356bb85fb53372ff8dd08b72582109e97820/expr.png\" style=\"display:inline;vertical-align:middle;\" /></a></td></tr>\n",
       "<tr><td>33</td><td>Literal</td><td></td><td><a class=\"ProveItLink\" href=\"../../../../../logic/sets/comprehension/__pv_it/common/b4bb00fffb81c35677d73fdf9e971725e2b59ae40/expr.ipynb\"><img src=\"../../../../../logic/sets/comprehension/__pv_it/common/b4bb00fffb81c35677d73fdf9e971725e2b59ae40/expr.png\" style=\"display:inline;vertical-align:middle;\" /></a></td></tr>\n",
       "<tr><td>34</td><td>ExprTuple</td><td>36</td><td><a class=\"ProveItLink\" href=\"../593b1e0e0b75d9a67cf1a72b0ecaa59a5495156f0/expr.ipynb\"><img src=\"../593b1e0e0b75d9a67cf1a72b0ecaa59a5495156f0/expr.png\" style=\"display:inline;vertical-align:middle;\" /></a></td></tr>\n",
       "<tr><td>35</td><td>Lambda</td><td>parameter:&nbsp;53<br>body:&nbsp;37<br></td><td><a class=\"ProveItLink\" href=\"../fd23b12dee7e2dc0dd30d5072577095565c2f5b00/expr.ipynb\"><img src=\"../fd23b12dee7e2dc0dd30d5072577095565c2f5b00/expr.png\" style=\"display:inline;vertical-align:middle;\" /></a></td></tr>\n",
       "<tr><td>36</td><td>Lambda</td><td>parameter:&nbsp;53<br>body:&nbsp;39<br></td><td><a class=\"ProveItLink\" href=\"../dfb0565c5b50bb62fbd7faad6eca762bd27974810/expr.ipynb\"><img src=\"../dfb0565c5b50bb62fbd7faad6eca762bd27974810/expr.png\" style=\"display:inline;vertical-align:middle;\" /></a></td></tr>\n",
       "<tr><td>37</td><td>Conditional</td><td>value:&nbsp;40<br>condition:&nbsp;42<br></td><td><a class=\"ProveItLink\" href=\"../e90b858933c22dfe2bfaef3d1605b34d60e17cc40/expr.ipynb\"><img src=\"../e90b858933c22dfe2bfaef3d1605b34d60e17cc40/expr.png\" style=\"display:inline;vertical-align:middle;\" /></a></td></tr>\n",
       "<tr><td>38</td><td>ExprTuple</td><td>53</td><td><a class=\"ProveItLink\" href=\"../../../../../__pv_it/common/eacfeccc0521684fcb20fe8f5180ac50fca471f20/expr.ipynb\"><img src=\"../../../../../__pv_it/common/eacfeccc0521684fcb20fe8f5180ac50fca471f20/expr.png\" style=\"display:inline;vertical-align:middle;\" /></a></td></tr>\n",
       "<tr><td>39</td><td>Conditional</td><td>value:&nbsp;41<br>condition:&nbsp;42<br></td><td><a class=\"ProveItLink\" href=\"../27ceaab7b09462049d31754ba651e34504c948bd0/expr.ipynb\"><img src=\"../27ceaab7b09462049d31754ba651e34504c948bd0/expr.png\" style=\"display:inline;vertical-align:middle;\" /></a></td></tr>\n",
       "<tr><td>40</td><td>Operation</td><td>operator:&nbsp;44<br>operands:&nbsp;43<br></td><td><a class=\"ProveItLink\" href=\"../094e23bb178527bc3f4750d49a6530088bfe7c910/expr.ipynb\"><img src=\"../094e23bb178527bc3f4750d49a6530088bfe7c910/expr.png\" style=\"display:inline;vertical-align:middle;\" /></a></td></tr>\n",
       "<tr><td>41</td><td>Operation</td><td>operator:&nbsp;44<br>operands:&nbsp;45<br></td><td><a class=\"ProveItLink\" href=\"../a5621018231b1a119649ee0115cd69afcaa82e330/expr.ipynb\"><img src=\"../a5621018231b1a119649ee0115cd69afcaa82e330/expr.png\" style=\"display:inline;vertical-align:middle;\" /></a></td></tr>\n",
       "<tr><td>42</td><td>Operation</td><td>operator:&nbsp;46<br>operands:&nbsp;47<br></td><td><a class=\"ProveItLink\" href=\"../e15daefd530e6af1913a3a751ea70ed093591b3d0/expr.ipynb\"><img src=\"../e15daefd530e6af1913a3a751ea70ed093591b3d0/expr.png\" style=\"display:inline;vertical-align:middle;\" /></a></td></tr>\n",
       "<tr><td>43</td><td>ExprTuple</td><td>48, 49</td><td><a class=\"ProveItLink\" href=\"../ede7ff1d8fa61091b9e7cd64a1e8693170eaa9b80/expr.ipynb\"><img src=\"../ede7ff1d8fa61091b9e7cd64a1e8693170eaa9b80/expr.png\" style=\"display:inline;vertical-align:middle;\" /></a></td></tr>\n",
       "<tr><td>44</td><td>Literal</td><td></td><td><a class=\"ProveItLink\" href=\"../../common/f61fe43eeba657b57e4fe7773885cfa81fe3dfc20/expr.ipynb\"><img src=\"../../common/f61fe43eeba657b57e4fe7773885cfa81fe3dfc20/expr.png\" style=\"display:inline;vertical-align:middle;\" /></a></td></tr>\n",
       "<tr><td>45</td><td>ExprTuple</td><td>53, 49</td><td><a class=\"ProveItLink\" href=\"../517304dcb09f80f0e179d358359bd7d64026ab7e0/expr.ipynb\"><img src=\"../517304dcb09f80f0e179d358359bd7d64026ab7e0/expr.png\" style=\"display:inline;vertical-align:middle;\" /></a></td></tr>\n",
       "<tr><td>46</td><td>Literal</td><td></td><td><a class=\"ProveItLink\" href=\"../../../../../logic/sets/membership/__pv_it/common/477487d8796864d23d5810f83761435f25167f690/expr.ipynb\"><img src=\"../../../../../logic/sets/membership/__pv_it/common/477487d8796864d23d5810f83761435f25167f690/expr.png\" style=\"display:inline;vertical-align:middle;\" /></a></td></tr>\n",
       "<tr><td>47</td><td>ExprTuple</td><td>53, 50</td><td><a class=\"ProveItLink\" href=\"../c7c06b26a27420fe15bf7758f31a7b4d4d978d0b0/expr.ipynb\"><img src=\"../c7c06b26a27420fe15bf7758f31a7b4d4d978d0b0/expr.png\" style=\"display:inline;vertical-align:middle;\" /></a></td></tr>\n",
       "<tr><td>48</td><td>Operation</td><td>operator:&nbsp;51<br>operands:&nbsp;52<br></td><td><a class=\"ProveItLink\" href=\"../e6fd9b02952f527537fc2f5ca802fcd550b2ba130/expr.ipynb\"><img src=\"../e6fd9b02952f527537fc2f5ca802fcd550b2ba130/expr.png\" style=\"display:inline;vertical-align:middle;\" /></a></td></tr>\n",
       "<tr><td>49</td><td>Variable</td><td></td><td><a class=\"ProveItLink\" href=\"../../../../../__pv_it/common/a14e64e007515ca145bc975c6db7e9098f3b12fd0/expr.ipynb\"><img src=\"../../../../../__pv_it/common/a14e64e007515ca145bc975c6db7e9098f3b12fd0/expr.png\" style=\"display:inline;vertical-align:middle;\" /></a></td></tr>\n",
       "<tr><td>50</td><td>Variable</td><td></td><td><a class=\"ProveItLink\" href=\"../../../../../__pv_it/common/38f47c5670ea8c5b56253448e95d8afb56bc09b40/expr.ipynb\"><img src=\"../../../../../__pv_it/common/38f47c5670ea8c5b56253448e95d8afb56bc09b40/expr.png\" style=\"display:inline;vertical-align:middle;\" /></a></td></tr>\n",
       "<tr><td>51</td><td>Literal</td><td></td><td><a class=\"ProveItLink\" href=\"../../../../addition/__pv_it/common/4b7effaab3619a1c2c38fe2dee8601df8ec714590/expr.ipynb\"><img src=\"../../../../addition/__pv_it/common/4b7effaab3619a1c2c38fe2dee8601df8ec714590/expr.png\" style=\"display:inline;vertical-align:middle;\" /></a></td></tr>\n",
       "<tr><td>52</td><td>ExprTuple</td><td>53, 54</td><td><a class=\"ProveItLink\" href=\"../cc6271b83c931f73e5d8b2fa90c731b7bbe7d0670/expr.ipynb\"><img src=\"../cc6271b83c931f73e5d8b2fa90c731b7bbe7d0670/expr.png\" style=\"display:inline;vertical-align:middle;\" /></a></td></tr>\n",
       "<tr><td>53</td><td>Variable</td><td></td><td><a class=\"ProveItLink\" href=\"../../../../../__pv_it/common/a0d9d672aa5e272d907247690c152cc2c6daafb70/expr.ipynb\"><img src=\"../../../../../__pv_it/common/a0d9d672aa5e272d907247690c152cc2c6daafb70/expr.png\" style=\"display:inline;vertical-align:middle;\" /></a></td></tr>\n",
       "<tr><td>54</td><td>Variable</td><td></td><td><a class=\"ProveItLink\" href=\"../../../../../__pv_it/common/ceef4280a2f1cc604b455b54e735507244cc62cd0/expr.ipynb\"><img src=\"../../../../../__pv_it/common/ceef4280a2f1cc604b455b54e735507244cc62cd0/expr.png\" style=\"display:inline;vertical-align:middle;\" /></a></td></tr>\n",
       "</table>\n"
      ],
      "text/plain": [
       "0. L -> {forall_{S | S subset_eq Real} [forall_{c in Real} (|{(x + c) mod L}_{x in S}| = |{x mod L}_{x in S}|)] if L in Real.\n",
       "   core type: Lambda\n",
       "   parameter: 49\n",
       "   body: 2\n",
       "1. (L)\n",
       "   core type: ExprTuple\n",
       "   sub-expressions: 49\n",
       "2. {forall_{S | S subset_eq Real} [forall_{c in Real} (|{(x + c) mod L}_{x in S}| = |{x mod L}_{x in S}|)] if L in Real.\n",
       "   core type: Conditional\n",
       "   value: 3\n",
       "   condition: 4\n",
       "3. forall_{S | S subset_eq Real} [forall_{c in Real} (|{(x + c) mod L}_{x in S}| = |{x mod L}_{x in S}|)]\n",
       "   core type: Operation\n",
       "   operator: 12\n",
       "   operand: 7\n",
       "4. L in Real\n",
       "   core type: Operation\n",
       "   operator: 46\n",
       "   operands: 6\n",
       "5. (S -> {forall_{c in Real} (|{(x + c) mod L}_{x in S}| = |{x mod L}_{x in S}|) if S subset_eq Real.)\n",
       "   core type: ExprTuple\n",
       "   sub-expressions: 7\n",
       "6. (L, Real)\n",
       "   core type: ExprTuple\n",
       "   sub-expressions: 49, 26\n",
       "7. S -> {forall_{c in Real} (|{(x + c) mod L}_{x in S}| = |{x mod L}_{x in S}|) if S subset_eq Real.\n",
       "   core type: Lambda\n",
       "   parameter: 50\n",
       "   body: 9\n",
       "8. (S)\n",
       "   core type: ExprTuple\n",
       "   sub-expressions: 50\n",
       "9. {forall_{c in Real} (|{(x + c) mod L}_{x in S}| = |{x mod L}_{x in S}|) if S subset_eq Real.\n",
       "   core type: Conditional\n",
       "   value: 10\n",
       "   condition: 11\n",
       "10. forall_{c in Real} (|{(x + c) mod L}_{x in S}| = |{x mod L}_{x in S}|)\n",
       "    core type: Operation\n",
       "    operator: 12\n",
       "    operand: 16\n",
       "11. S subset_eq Real\n",
       "    core type: Operation\n",
       "    operator: 14\n",
       "    operands: 15\n",
       "12. forall\n",
       "    core type: Literal\n",
       "    sub-expressions: \n",
       "13. (c -> {|{(x + c) mod L}_{x in S}| = |{x mod L}_{x in S}| if c in Real.)\n",
       "    core type: ExprTuple\n",
       "    sub-expressions: 16\n",
       "14. subset_eq\n",
       "    core type: Literal\n",
       "    sub-expressions: \n",
       "15. (S, Real)\n",
       "    core type: ExprTuple\n",
       "    sub-expressions: 50, 26\n",
       "16. c -> {|{(x + c) mod L}_{x in S}| = |{x mod L}_{x in S}| if c in Real.\n",
       "    core type: Lambda\n",
       "    parameter: 54\n",
       "    body: 18\n",
       "17. (c)\n",
       "    core type: ExprTuple\n",
       "    sub-expressions: 54\n",
       "18. {|{(x + c) mod L}_{x in S}| = |{x mod L}_{x in S}| if c in Real.\n",
       "    core type: Conditional\n",
       "    value: 19\n",
       "    condition: 20\n",
       "19. |{(x + c) mod L}_{x in S}| = |{x mod L}_{x in S}|\n",
       "    core type: Operation\n",
       "    operator: 21\n",
       "    operands: 22\n",
       "20. c in Real\n",
       "    core type: Operation\n",
       "    operator: 46\n",
       "    operands: 23\n",
       "21. =\n",
       "    core type: Literal\n",
       "    sub-expressions: \n",
       "22. (|{(x + c) mod L}_{x in S}|, |{x mod L}_{x in S}|)\n",
       "    core type: ExprTuple\n",
       "    sub-expressions: 24, 25\n",
       "23. (c, Real)\n",
       "    core type: ExprTuple\n",
       "    sub-expressions: 54, 26\n",
       "24. |{(x + c) mod L}_{x in S}|\n",
       "    core type: Operation\n",
       "    operator: 28\n",
       "    operand: 30\n",
       "25. |{x mod L}_{x in S}|\n",
       "    core type: Operation\n",
       "    operator: 28\n",
       "    operand: 31\n",
       "26. Real\n",
       "    core type: Literal\n",
       "    sub-expressions: \n",
       "27. ({(x + c) mod L}_{x in S})\n",
       "    core type: ExprTuple\n",
       "    sub-expressions: 30\n",
       "28. card\n",
       "    core type: Literal\n",
       "    sub-expressions: \n",
       "29. ({x mod L}_{x in S})\n",
       "    core type: ExprTuple\n",
       "    sub-expressions: 31\n",
       "30. {(x + c) mod L}_{x in S}\n",
       "    core type: Operation\n",
       "    operator: 33\n",
       "    operand: 35\n",
       "31. {x mod L}_{x in S}\n",
       "    core type: Operation\n",
       "    operator: 33\n",
       "    operand: 36\n",
       "32. (x -> {(x + c) mod L if x in S.)\n",
       "    core type: ExprTuple\n",
       "    sub-expressions: 35\n",
       "33. SetOfAll\n",
       "    core type: Literal\n",
       "    sub-expressions: \n",
       "34. (x -> {x mod L if x in S.)\n",
       "    core type: ExprTuple\n",
       "    sub-expressions: 36\n",
       "35. x -> {(x + c) mod L if x in S.\n",
       "    core type: Lambda\n",
       "    parameter: 53\n",
       "    body: 37\n",
       "36. x -> {x mod L if x in S.\n",
       "    core type: Lambda\n",
       "    parameter: 53\n",
       "    body: 39\n",
       "37. {(x + c) mod L if x in S.\n",
       "    core type: Conditional\n",
       "    value: 40\n",
       "    condition: 42\n",
       "38. (x)\n",
       "    core type: ExprTuple\n",
       "    sub-expressions: 53\n",
       "39. {x mod L if x in S.\n",
       "    core type: Conditional\n",
       "    value: 41\n",
       "    condition: 42\n",
       "40. (x + c) mod L\n",
       "    core type: Operation\n",
       "    operator: 44\n",
       "    operands: 43\n",
       "41. x mod L\n",
       "    core type: Operation\n",
       "    operator: 44\n",
       "    operands: 45\n",
       "42. x in S\n",
       "    core type: Operation\n",
       "    operator: 46\n",
       "    operands: 47\n",
       "43. (x + c, L)\n",
       "    core type: ExprTuple\n",
       "    sub-expressions: 48, 49\n",
       "44. mod\n",
       "    core type: Literal\n",
       "    sub-expressions: \n",
       "45. (x, L)\n",
       "    core type: ExprTuple\n",
       "    sub-expressions: 53, 49\n",
       "46. in\n",
       "    core type: Literal\n",
       "    sub-expressions: \n",
       "47. (x, S)\n",
       "    core type: ExprTuple\n",
       "    sub-expressions: 53, 50\n",
       "48. x + c\n",
       "    core type: Operation\n",
       "    operator: 51\n",
       "    operands: 52\n",
       "49. L\n",
       "    core type: Variable\n",
       "    sub-expressions: \n",
       "50. S\n",
       "    core type: Variable\n",
       "    sub-expressions: \n",
       "51. +\n",
       "    core type: Literal\n",
       "    sub-expressions: \n",
       "52. (x, c)\n",
       "    core type: ExprTuple\n",
       "    sub-expressions: 53, 54\n",
       "53. x\n",
       "    core type: Variable\n",
       "    sub-expressions: \n",
       "54. c\n",
       "    core type: Variable\n",
       "    sub-expressions: "
      ]
     },
     "metadata": {},
     "output_type": "display_data"
    }
   ],
   "source": [
    "# display the expression information\n",
    "stored_expr.expr_info()"
   ]
  },
  {
   "cell_type": "code",
   "execution_count": null,
   "metadata": {},
   "outputs": [],
   "source": []
  }
 ],
 "metadata": {
  "kernelspec": {
   "display_name": "Python 3",
   "language": "python",
   "name": "python3"
  }
 },
 "nbformat": 4,
 "nbformat_minor": 0
}