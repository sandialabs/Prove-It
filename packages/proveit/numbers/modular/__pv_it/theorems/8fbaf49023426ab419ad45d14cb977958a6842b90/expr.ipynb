{
 "cells": [
  {
   "cell_type": "markdown",
   "metadata": {},
   "source": [
    "Expression of type <a class=\"ProveItLink\" href=\"../../../../../../../doc/html/api/proveit.ExprTuple.html\">ExprTuple</a>\n",
    "=======================\n",
    "# from the theory of <a class=\"ProveItLink\" href=\"../../../_theory_nbs_/theory.ipynb\">proveit.numbers.modular</a>"
   ]
  },
  {
   "cell_type": "code",
   "execution_count": 1,
   "metadata": {},
   "outputs": [],
   "source": [
    "import proveit\n",
    "# Automation is not needed when building an expression:\n",
    "proveit.defaults.automation = False # This will speed things up.\n",
    "proveit.defaults.inline_pngs = False # Makes files smaller.\n",
    "%load_expr # Load the stored expression as 'stored_expr'\n",
    "# import Expression classes needed to build the expression\n",
    "from proveit import Conditional, ExprTuple, Lambda, N, a, b, x\n",
    "from proveit.logic import Card, Equals, Forall, InSet, SetOfAll\n",
    "from proveit.numbers import Integer, Interval, LessEq, Mod, NaturalPos"
   ]
  },
  {
   "cell_type": "code",
   "execution_count": 2,
   "metadata": {},
   "outputs": [
    {
     "data": {
      "text/html": [
       "<strong id=\"expr\">expr:</strong> <a class=\"ProveItLink\" href=\"expr.ipynb\"><img src=\"expr.png\" style=\"display:inline;vertical-align:middle;\" /></a><br>"
      ],
      "text/plain": [
       "<IPython.core.display.HTML object>"
      ]
     },
     "metadata": {},
     "output_type": "display_data"
    }
   ],
   "source": [
    "# build up the expression from sub-expressions\n",
    "sub_expr1 = Interval(a, b)\n",
    "sub_expr2 = Card(sub_expr1)\n",
    "expr = ExprTuple(Lambda(N, Conditional(Forall(instance_param_or_params = [a, b], instance_expr = Equals(Card(SetOfAll(instance_param_or_params = [x], instance_element = Mod(x, N), domain = sub_expr1)), sub_expr2), domain = Integer, condition = LessEq(sub_expr2, N)), InSet(N, NaturalPos))))"
   ]
  },
  {
   "cell_type": "code",
   "execution_count": 3,
   "metadata": {},
   "outputs": [
    {
     "name": "stdout",
     "output_type": "stream",
     "text": [
      "Passed sanity check: expr matches stored_expr\n"
     ]
    }
   ],
   "source": [
    "# check that the built expression is the same as the stored expression\n",
    "assert expr == stored_expr\n",
    "assert expr._style_id == stored_expr._style_id\n",
    "print(\"Passed sanity check: expr matches stored_expr\")"
   ]
  },
  {
   "cell_type": "code",
   "execution_count": 4,
   "metadata": {},
   "outputs": [
    {
     "name": "stdout",
     "output_type": "stream",
     "text": [
      "\\left(N \\mapsto \\left\\{\\forall_{a, b \\in \\mathbb{Z}~|~|\\{a~\\ldotp \\ldotp~b\\}| \\leq N}~\\left(|\\left\\{x ~\\textup{mod}~ N\\right\\}_{x \\in \\{a~\\ldotp \\ldotp~b\\}}| = |\\{a~\\ldotp \\ldotp~b\\}|\\right) \\textrm{ if } N \\in \\mathbb{N}^+\\right..\\right)\n"
     ]
    }
   ],
   "source": [
    "# Show the LaTeX representation of the expression for convenience if you need it.\n",
    "print(stored_expr.latex())"
   ]
  },
  {
   "cell_type": "code",
   "execution_count": 5,
   "metadata": {},
   "outputs": [
    {
     "data": {
      "text/html": [
       "no style options"
      ],
      "text/plain": [
       "no style options"
      ]
     },
     "metadata": {},
     "output_type": "display_data"
    }
   ],
   "source": [
    "stored_expr.style_options()"
   ]
  },
  {
   "cell_type": "code",
   "execution_count": 6,
   "metadata": {},
   "outputs": [
    {
     "data": {
      "text/html": [
       "<table><tr><th>&nbsp;</th><th>core type</th><th>sub-expressions</th><th>expression</th></tr>\n",
       "<tr><td>0</td><td>ExprTuple</td><td>1</td><td><a class=\"ProveItLink\" href=\"expr.ipynb\"><img src=\"expr.png\" style=\"display:inline;vertical-align:middle;\" /></a></td></tr>\n",
       "<tr><td>1</td><td>Lambda</td><td>parameter:&nbsp;43<br>body:&nbsp;3<br></td><td><a class=\"ProveItLink\" href=\"../5bab4174c223bbbd6f0b46bcd02cb2c898c9d4ec0/expr.ipynb\"><img src=\"../5bab4174c223bbbd6f0b46bcd02cb2c898c9d4ec0/expr.png\" style=\"display:inline;vertical-align:middle;\" /></a></td></tr>\n",
       "<tr><td>2</td><td>ExprTuple</td><td>43</td><td><a class=\"ProveItLink\" href=\"../521f75f434f4ff6386af76de258ad091194855920/expr.ipynb\"><img src=\"../521f75f434f4ff6386af76de258ad091194855920/expr.png\" style=\"display:inline;vertical-align:middle;\" /></a></td></tr>\n",
       "<tr><td>3</td><td>Conditional</td><td>value:&nbsp;4<br>condition:&nbsp;5<br></td><td><a class=\"ProveItLink\" href=\"../69692f18bd2e97ae75378589dcd4f1ae65da7a580/expr.ipynb\"><img src=\"../69692f18bd2e97ae75378589dcd4f1ae65da7a580/expr.png\" style=\"display:inline;vertical-align:middle;\" /></a></td></tr>\n",
       "<tr><td>4</td><td>Operation</td><td>operator:&nbsp;6<br>operand:&nbsp;9<br></td><td><a class=\"ProveItLink\" href=\"../821d16ee435ff329fc76b8017e3b601a692c4d700/expr.ipynb\"><img src=\"../821d16ee435ff329fc76b8017e3b601a692c4d700/expr.png\" style=\"display:inline;vertical-align:middle;\" /></a></td></tr>\n",
       "<tr><td>5</td><td>Operation</td><td>operator:&nbsp;41<br>operands:&nbsp;8<br></td><td><a class=\"ProveItLink\" href=\"../6a09797d4d208e470b8566e5b982e01c59f408340/expr.ipynb\"><img src=\"../6a09797d4d208e470b8566e5b982e01c59f408340/expr.png\" style=\"display:inline;vertical-align:middle;\" /></a></td></tr>\n",
       "<tr><td>6</td><td>Literal</td><td></td><td><a class=\"ProveItLink\" href=\"../../../../../logic/booleans/quantification/universality/__pv_it/common/083d2baa0b8ecab1d230f9ec29a15aa1355809fb0/expr.ipynb\"><img src=\"../../../../../logic/booleans/quantification/universality/__pv_it/common/083d2baa0b8ecab1d230f9ec29a15aa1355809fb0/expr.png\" style=\"display:inline;vertical-align:middle;\" /></a></td></tr>\n",
       "<tr><td>7</td><td>ExprTuple</td><td>9</td><td><a class=\"ProveItLink\" href=\"../a6e585c054cb5409265ae5b8515aba768174f1210/expr.ipynb\"><img src=\"../a6e585c054cb5409265ae5b8515aba768174f1210/expr.png\" style=\"display:inline;vertical-align:middle;\" /></a></td></tr>\n",
       "<tr><td>8</td><td>ExprTuple</td><td>43, 10</td><td><a class=\"ProveItLink\" href=\"../cd7a374ae133f24cdd25439c5ef8c5cb6fd0cc3d0/expr.ipynb\"><img src=\"../cd7a374ae133f24cdd25439c5ef8c5cb6fd0cc3d0/expr.png\" style=\"display:inline;vertical-align:middle;\" /></a></td></tr>\n",
       "<tr><td>9</td><td>Lambda</td><td>parameters:&nbsp;47<br>body:&nbsp;11<br></td><td><a class=\"ProveItLink\" href=\"../962337384114fd76cad8d5c1186b5d7f866e67fa0/expr.ipynb\"><img src=\"../962337384114fd76cad8d5c1186b5d7f866e67fa0/expr.png\" style=\"display:inline;vertical-align:middle;\" /></a></td></tr>\n",
       "<tr><td>10</td><td>Literal</td><td></td><td><a class=\"ProveItLink\" href=\"../../../../number_sets/natural_numbers/__pv_it/common/6111329435c43892c831c4793de96afbf80bdb3e0/expr.ipynb\"><img src=\"../../../../number_sets/natural_numbers/__pv_it/common/6111329435c43892c831c4793de96afbf80bdb3e0/expr.png\" style=\"display:inline;vertical-align:middle;\" /></a></td></tr>\n",
       "<tr><td>11</td><td>Conditional</td><td>value:&nbsp;12<br>condition:&nbsp;13<br></td><td><a class=\"ProveItLink\" href=\"../5d53386df68f307586c78a748bb254f6f2f7aa9a0/expr.ipynb\"><img src=\"../5d53386df68f307586c78a748bb254f6f2f7aa9a0/expr.png\" style=\"display:inline;vertical-align:middle;\" /></a></td></tr>\n",
       "<tr><td>12</td><td>Operation</td><td>operator:&nbsp;14<br>operands:&nbsp;15<br></td><td><a class=\"ProveItLink\" href=\"../e828fa6101ad8fb5d46e5ab4273e05ec1549dcde0/expr.ipynb\"><img src=\"../e828fa6101ad8fb5d46e5ab4273e05ec1549dcde0/expr.png\" style=\"display:inline;vertical-align:middle;\" /></a></td></tr>\n",
       "<tr><td>13</td><td>Operation</td><td>operator:&nbsp;16<br>operands:&nbsp;17<br></td><td><a class=\"ProveItLink\" href=\"../0514e53813f8908e629285e8e3fd6d3adf725f770/expr.ipynb\"><img src=\"../0514e53813f8908e629285e8e3fd6d3adf725f770/expr.png\" style=\"display:inline;vertical-align:middle;\" /></a></td></tr>\n",
       "<tr><td>14</td><td>Literal</td><td></td><td><a class=\"ProveItLink\" href=\"../../../../../logic/equality/__pv_it/common/fb96dc12b2aa8801dda64d0132b396c63d1502bb0/expr.ipynb\"><img src=\"../../../../../logic/equality/__pv_it/common/fb96dc12b2aa8801dda64d0132b396c63d1502bb0/expr.png\" style=\"display:inline;vertical-align:middle;\" /></a></td></tr>\n",
       "<tr><td>15</td><td>ExprTuple</td><td>18, 29</td><td><a class=\"ProveItLink\" href=\"../7d52cffc15377eb162376153f8bf35a955615a0a0/expr.ipynb\"><img src=\"../7d52cffc15377eb162376153f8bf35a955615a0a0/expr.png\" style=\"display:inline;vertical-align:middle;\" /></a></td></tr>\n",
       "<tr><td>16</td><td>Literal</td><td></td><td><a class=\"ProveItLink\" href=\"../../../../../logic/booleans/conjunction/__pv_it/common/42118ff318bd65d98b1393f64ce7c2269feef76e0/expr.ipynb\"><img src=\"../../../../../logic/booleans/conjunction/__pv_it/common/42118ff318bd65d98b1393f64ce7c2269feef76e0/expr.png\" style=\"display:inline;vertical-align:middle;\" /></a></td></tr>\n",
       "<tr><td>17</td><td>ExprTuple</td><td>19, 20, 21</td><td><a class=\"ProveItLink\" href=\"../088d7999c19e2d8af07ff4d30cf01e3057cc041e0/expr.ipynb\"><img src=\"../088d7999c19e2d8af07ff4d30cf01e3057cc041e0/expr.png\" style=\"display:inline;vertical-align:middle;\" /></a></td></tr>\n",
       "<tr><td>18</td><td>Operation</td><td>operator:&nbsp;32<br>operand:&nbsp;27<br></td><td><a class=\"ProveItLink\" href=\"../942e5bf01d1cb3d148f2fb952ea6ba45e2422f360/expr.ipynb\"><img src=\"../942e5bf01d1cb3d148f2fb952ea6ba45e2422f360/expr.png\" style=\"display:inline;vertical-align:middle;\" /></a></td></tr>\n",
       "<tr><td>19</td><td>Operation</td><td>operator:&nbsp;41<br>operands:&nbsp;23<br></td><td><a class=\"ProveItLink\" href=\"../d8d02d2a77383d238ed10b8fda7965dfafa87db90/expr.ipynb\"><img src=\"../d8d02d2a77383d238ed10b8fda7965dfafa87db90/expr.png\" style=\"display:inline;vertical-align:middle;\" /></a></td></tr>\n",
       "<tr><td>20</td><td>Operation</td><td>operator:&nbsp;41<br>operands:&nbsp;24<br></td><td><a class=\"ProveItLink\" href=\"../035e0ae7bd8c0fe127ee5d2062443d6c874adcdd0/expr.ipynb\"><img src=\"../035e0ae7bd8c0fe127ee5d2062443d6c874adcdd0/expr.png\" style=\"display:inline;vertical-align:middle;\" /></a></td></tr>\n",
       "<tr><td>21</td><td>Operation</td><td>operator:&nbsp;25<br>operands:&nbsp;26<br></td><td><a class=\"ProveItLink\" href=\"../6ea6254a6db4c87dc48c0ac0120e84e31bdf09840/expr.ipynb\"><img src=\"../6ea6254a6db4c87dc48c0ac0120e84e31bdf09840/expr.png\" style=\"display:inline;vertical-align:middle;\" /></a></td></tr>\n",
       "<tr><td>22</td><td>ExprTuple</td><td>27</td><td><a class=\"ProveItLink\" href=\"../efebeb2a2903417f469b4e27c09bfbda0f9c0bac0/expr.ipynb\"><img src=\"../efebeb2a2903417f469b4e27c09bfbda0f9c0bac0/expr.png\" style=\"display:inline;vertical-align:middle;\" /></a></td></tr>\n",
       "<tr><td>23</td><td>ExprTuple</td><td>48, 28</td><td><a class=\"ProveItLink\" href=\"../6381f047505cef51bfb3432d8df76f1cfff47cae0/expr.ipynb\"><img src=\"../6381f047505cef51bfb3432d8df76f1cfff47cae0/expr.png\" style=\"display:inline;vertical-align:middle;\" /></a></td></tr>\n",
       "<tr><td>24</td><td>ExprTuple</td><td>49, 28</td><td><a class=\"ProveItLink\" href=\"../7a5273c178c04cb3ce78308074ba517705b130f80/expr.ipynb\"><img src=\"../7a5273c178c04cb3ce78308074ba517705b130f80/expr.png\" style=\"display:inline;vertical-align:middle;\" /></a></td></tr>\n",
       "<tr><td>25</td><td>Literal</td><td></td><td><a class=\"ProveItLink\" href=\"../../../../ordering/__pv_it/common/68379698d72b4689bbda4b5c5cca29ee599d70280/expr.ipynb\"><img src=\"../../../../ordering/__pv_it/common/68379698d72b4689bbda4b5c5cca29ee599d70280/expr.png\" style=\"display:inline;vertical-align:middle;\" /></a></td></tr>\n",
       "<tr><td>26</td><td>ExprTuple</td><td>29, 43</td><td><a class=\"ProveItLink\" href=\"../751ec1831c79f480d692edccd4bb6e21146dee330/expr.ipynb\"><img src=\"../751ec1831c79f480d692edccd4bb6e21146dee330/expr.png\" style=\"display:inline;vertical-align:middle;\" /></a></td></tr>\n",
       "<tr><td>27</td><td>Operation</td><td>operator:&nbsp;30<br>operand:&nbsp;34<br></td><td><a class=\"ProveItLink\" href=\"../3ff5eaf7e8a5845440022d0a6ac7b5b1f93365c50/expr.ipynb\"><img src=\"../3ff5eaf7e8a5845440022d0a6ac7b5b1f93365c50/expr.png\" style=\"display:inline;vertical-align:middle;\" /></a></td></tr>\n",
       "<tr><td>28</td><td>Literal</td><td></td><td><a class=\"ProveItLink\" href=\"../../../../number_sets/integers/__pv_it/common/e6b4e90f9467053e055a4fd2f735c0bb79cb79300/expr.ipynb\"><img src=\"../../../../number_sets/integers/__pv_it/common/e6b4e90f9467053e055a4fd2f735c0bb79cb79300/expr.png\" style=\"display:inline;vertical-align:middle;\" /></a></td></tr>\n",
       "<tr><td>29</td><td>Operation</td><td>operator:&nbsp;32<br>operand:&nbsp;45<br></td><td><a class=\"ProveItLink\" href=\"../296b54ecf837ce87c43669e2b8c5c55abfcd105f0/expr.ipynb\"><img src=\"../296b54ecf837ce87c43669e2b8c5c55abfcd105f0/expr.png\" style=\"display:inline;vertical-align:middle;\" /></a></td></tr>\n",
       "<tr><td>30</td><td>Literal</td><td></td><td><a class=\"ProveItLink\" href=\"../../../../../logic/sets/comprehension/__pv_it/common/b4bb00fffb81c35677d73fdf9e971725e2b59ae40/expr.ipynb\"><img src=\"../../../../../logic/sets/comprehension/__pv_it/common/b4bb00fffb81c35677d73fdf9e971725e2b59ae40/expr.png\" style=\"display:inline;vertical-align:middle;\" /></a></td></tr>\n",
       "<tr><td>31</td><td>ExprTuple</td><td>34</td><td><a class=\"ProveItLink\" href=\"../3bc8a39aafa7a02d3c5c2d9f1e2fecf2b2d2b4810/expr.ipynb\"><img src=\"../3bc8a39aafa7a02d3c5c2d9f1e2fecf2b2d2b4810/expr.png\" style=\"display:inline;vertical-align:middle;\" /></a></td></tr>\n",
       "<tr><td>32</td><td>Literal</td><td></td><td><a class=\"ProveItLink\" href=\"../../../../../logic/sets/cardinality/__pv_it/common/37cc8d68272d88ace1dbf77a85e417fe7e7954e60/expr.ipynb\"><img src=\"../../../../../logic/sets/cardinality/__pv_it/common/37cc8d68272d88ace1dbf77a85e417fe7e7954e60/expr.png\" style=\"display:inline;vertical-align:middle;\" /></a></td></tr>\n",
       "<tr><td>33</td><td>ExprTuple</td><td>45</td><td><a class=\"ProveItLink\" href=\"../813a3082fdd7adca1daedcd810e9448d199b021b0/expr.ipynb\"><img src=\"../813a3082fdd7adca1daedcd810e9448d199b021b0/expr.png\" style=\"display:inline;vertical-align:middle;\" /></a></td></tr>\n",
       "<tr><td>34</td><td>Lambda</td><td>parameter:&nbsp;44<br>body:&nbsp;36<br></td><td><a class=\"ProveItLink\" href=\"../f1bb0981239ab97d7dc2c08bf60444853db765bf0/expr.ipynb\"><img src=\"../f1bb0981239ab97d7dc2c08bf60444853db765bf0/expr.png\" style=\"display:inline;vertical-align:middle;\" /></a></td></tr>\n",
       "<tr><td>35</td><td>ExprTuple</td><td>44</td><td><a class=\"ProveItLink\" href=\"../../../../../__pv_it/common/eacfeccc0521684fcb20fe8f5180ac50fca471f20/expr.ipynb\"><img src=\"../../../../../__pv_it/common/eacfeccc0521684fcb20fe8f5180ac50fca471f20/expr.png\" style=\"display:inline;vertical-align:middle;\" /></a></td></tr>\n",
       "<tr><td>36</td><td>Conditional</td><td>value:&nbsp;37<br>condition:&nbsp;38<br></td><td><a class=\"ProveItLink\" href=\"../bf7abe8b88a502ed84dbac1db33d86730eeeaab70/expr.ipynb\"><img src=\"../bf7abe8b88a502ed84dbac1db33d86730eeeaab70/expr.png\" style=\"display:inline;vertical-align:middle;\" /></a></td></tr>\n",
       "<tr><td>37</td><td>Operation</td><td>operator:&nbsp;39<br>operands:&nbsp;40<br></td><td><a class=\"ProveItLink\" href=\"../9aa0477804488e23cfa9efc755f1a417a67fcb710/expr.ipynb\"><img src=\"../9aa0477804488e23cfa9efc755f1a417a67fcb710/expr.png\" style=\"display:inline;vertical-align:middle;\" /></a></td></tr>\n",
       "<tr><td>38</td><td>Operation</td><td>operator:&nbsp;41<br>operands:&nbsp;42<br></td><td><a class=\"ProveItLink\" href=\"../5506772e335d8c23a8240dd0a5f4b411850315500/expr.ipynb\"><img src=\"../5506772e335d8c23a8240dd0a5f4b411850315500/expr.png\" style=\"display:inline;vertical-align:middle;\" /></a></td></tr>\n",
       "<tr><td>39</td><td>Literal</td><td></td><td><a class=\"ProveItLink\" href=\"../../common/f61fe43eeba657b57e4fe7773885cfa81fe3dfc20/expr.ipynb\"><img src=\"../../common/f61fe43eeba657b57e4fe7773885cfa81fe3dfc20/expr.png\" style=\"display:inline;vertical-align:middle;\" /></a></td></tr>\n",
       "<tr><td>40</td><td>ExprTuple</td><td>44, 43</td><td><a class=\"ProveItLink\" href=\"../92fe64f83a2aeee096de839308048dc30abc19540/expr.ipynb\"><img src=\"../92fe64f83a2aeee096de839308048dc30abc19540/expr.png\" style=\"display:inline;vertical-align:middle;\" /></a></td></tr>\n",
       "<tr><td>41</td><td>Literal</td><td></td><td><a class=\"ProveItLink\" href=\"../../../../../logic/sets/membership/__pv_it/common/477487d8796864d23d5810f83761435f25167f690/expr.ipynb\"><img src=\"../../../../../logic/sets/membership/__pv_it/common/477487d8796864d23d5810f83761435f25167f690/expr.png\" style=\"display:inline;vertical-align:middle;\" /></a></td></tr>\n",
       "<tr><td>42</td><td>ExprTuple</td><td>44, 45</td><td><a class=\"ProveItLink\" href=\"../e77dfb4a2041ee24e8b2359ebc293316a2cbbf5c0/expr.ipynb\"><img src=\"../e77dfb4a2041ee24e8b2359ebc293316a2cbbf5c0/expr.png\" style=\"display:inline;vertical-align:middle;\" /></a></td></tr>\n",
       "<tr><td>43</td><td>Variable</td><td></td><td><a class=\"ProveItLink\" href=\"../../../../../__pv_it/common/ec2f9d003f907f9688d46f19f6df289e52cc63ce0/expr.ipynb\"><img src=\"../../../../../__pv_it/common/ec2f9d003f907f9688d46f19f6df289e52cc63ce0/expr.png\" style=\"display:inline;vertical-align:middle;\" /></a></td></tr>\n",
       "<tr><td>44</td><td>Variable</td><td></td><td><a class=\"ProveItLink\" href=\"../../../../../__pv_it/common/a0d9d672aa5e272d907247690c152cc2c6daafb70/expr.ipynb\"><img src=\"../../../../../__pv_it/common/a0d9d672aa5e272d907247690c152cc2c6daafb70/expr.png\" style=\"display:inline;vertical-align:middle;\" /></a></td></tr>\n",
       "<tr><td>45</td><td>Operation</td><td>operator:&nbsp;46<br>operands:&nbsp;47<br></td><td><a class=\"ProveItLink\" href=\"../498872fecc183ccfbbe24c2b7a9ae11a74603e9a0/expr.ipynb\"><img src=\"../498872fecc183ccfbbe24c2b7a9ae11a74603e9a0/expr.png\" style=\"display:inline;vertical-align:middle;\" /></a></td></tr>\n",
       "<tr><td>46</td><td>Literal</td><td></td><td><a class=\"ProveItLink\" href=\"../../../../number_sets/integers/__pv_it/common/92f3a0a77e3c3ea8e4a5c8674edadc54e4f57d550/expr.ipynb\"><img src=\"../../../../number_sets/integers/__pv_it/common/92f3a0a77e3c3ea8e4a5c8674edadc54e4f57d550/expr.png\" style=\"display:inline;vertical-align:middle;\" /></a></td></tr>\n",
       "<tr><td>47</td><td>ExprTuple</td><td>48, 49</td><td><a class=\"ProveItLink\" href=\"../3dcd5ceea6334d8cb48fe14fdae236293aa9a6050/expr.ipynb\"><img src=\"../3dcd5ceea6334d8cb48fe14fdae236293aa9a6050/expr.png\" style=\"display:inline;vertical-align:middle;\" /></a></td></tr>\n",
       "<tr><td>48</td><td>Variable</td><td></td><td><a class=\"ProveItLink\" href=\"../../../../../__pv_it/common/c06c606ec12678c58933ac85412ecadc2ae28be60/expr.ipynb\"><img src=\"../../../../../__pv_it/common/c06c606ec12678c58933ac85412ecadc2ae28be60/expr.png\" style=\"display:inline;vertical-align:middle;\" /></a></td></tr>\n",
       "<tr><td>49</td><td>Variable</td><td></td><td><a class=\"ProveItLink\" href=\"../../../../../__pv_it/common/195236b98c6c564a75b5dbada74b173bc52d5c3e0/expr.ipynb\"><img src=\"../../../../../__pv_it/common/195236b98c6c564a75b5dbada74b173bc52d5c3e0/expr.png\" style=\"display:inline;vertical-align:middle;\" /></a></td></tr>\n",
       "</table>\n"
      ],
      "text/plain": [
       "0. (N -> {forall_{a, b in Integer | |{a .. b}| <= N} (|{x mod N}_{x in {a .. b}}| = |{a .. b}|) if N in NaturalPos.)\n",
       "   core type: ExprTuple\n",
       "   sub-expressions: 1\n",
       "1. N -> {forall_{a, b in Integer | |{a .. b}| <= N} (|{x mod N}_{x in {a .. b}}| = |{a .. b}|) if N in NaturalPos.\n",
       "   core type: Lambda\n",
       "   parameter: 43\n",
       "   body: 3\n",
       "2. (N)\n",
       "   core type: ExprTuple\n",
       "   sub-expressions: 43\n",
       "3. {forall_{a, b in Integer | |{a .. b}| <= N} (|{x mod N}_{x in {a .. b}}| = |{a .. b}|) if N in NaturalPos.\n",
       "   core type: Conditional\n",
       "   value: 4\n",
       "   condition: 5\n",
       "4. forall_{a, b in Integer | |{a .. b}| <= N} (|{x mod N}_{x in {a .. b}}| = |{a .. b}|)\n",
       "   core type: Operation\n",
       "   operator: 6\n",
       "   operand: 9\n",
       "5. N in NaturalPos\n",
       "   core type: Operation\n",
       "   operator: 41\n",
       "   operands: 8\n",
       "6. forall\n",
       "   core type: Literal\n",
       "   sub-expressions: \n",
       "7. ((a, b) -> {|{x mod N}_{x in {a .. b}}| = |{a .. b}| if a in Integer ,  b in Integer ,  |{a .. b}| <= N.)\n",
       "   core type: ExprTuple\n",
       "   sub-expressions: 9\n",
       "8. (N, NaturalPos)\n",
       "   core type: ExprTuple\n",
       "   sub-expressions: 43, 10\n",
       "9. (a, b) -> {|{x mod N}_{x in {a .. b}}| = |{a .. b}| if a in Integer ,  b in Integer ,  |{a .. b}| <= N.\n",
       "   core type: Lambda\n",
       "   parameters: 47\\n   body: 11\n",
       "10. NaturalPos\n",
       "    core type: Literal\n",
       "    sub-expressions: \n",
       "11. {|{x mod N}_{x in {a .. b}}| = |{a .. b}| if a in Integer ,  b in Integer ,  |{a .. b}| <= N.\n",
       "    core type: Conditional\n",
       "    value: 12\n",
       "    condition: 13\n",
       "12. |{x mod N}_{x in {a .. b}}| = |{a .. b}|\n",
       "    core type: Operation\n",
       "    operator: 14\n",
       "    operands: 15\n",
       "13. (a in Integer) and (b in Integer) and (|{a .. b}| <= N)\n",
       "    core type: Operation\n",
       "    operator: 16\n",
       "    operands: 17\n",
       "14. =\n",
       "    core type: Literal\n",
       "    sub-expressions: \n",
       "15. (|{x mod N}_{x in {a .. b}}|, |{a .. b}|)\n",
       "    core type: ExprTuple\n",
       "    sub-expressions: 18, 29\n",
       "16. and\n",
       "    core type: Literal\n",
       "    sub-expressions: \n",
       "17. (a in Integer, b in Integer, |{a .. b}| <= N)\n",
       "    core type: ExprTuple\n",
       "    sub-expressions: 19, 20, 21\n",
       "18. |{x mod N}_{x in {a .. b}}|\n",
       "    core type: Operation\n",
       "    operator: 32\n",
       "    operand: 27\n",
       "19. a in Integer\n",
       "    core type: Operation\n",
       "    operator: 41\n",
       "    operands: 23\n",
       "20. b in Integer\n",
       "    core type: Operation\n",
       "    operator: 41\n",
       "    operands: 24\n",
       "21. |{a .. b}| <= N\n",
       "    core type: Operation\n",
       "    operator: 25\n",
       "    operands: 26\n",
       "22. ({x mod N}_{x in {a .. b}})\n",
       "    core type: ExprTuple\n",
       "    sub-expressions: 27\n",
       "23. (a, Integer)\n",
       "    core type: ExprTuple\n",
       "    sub-expressions: 48, 28\n",
       "24. (b, Integer)\n",
       "    core type: ExprTuple\n",
       "    sub-expressions: 49, 28\n",
       "25. <=\n",
       "    core type: Literal\n",
       "    sub-expressions: \n",
       "26. (|{a .. b}|, N)\n",
       "    core type: ExprTuple\n",
       "    sub-expressions: 29, 43\n",
       "27. {x mod N}_{x in {a .. b}}\n",
       "    core type: Operation\n",
       "    operator: 30\n",
       "    operand: 34\n",
       "28. Integer\n",
       "    core type: Literal\n",
       "    sub-expressions: \n",
       "29. |{a .. b}|\n",
       "    core type: Operation\n",
       "    operator: 32\n",
       "    operand: 45\n",
       "30. SetOfAll\n",
       "    core type: Literal\n",
       "    sub-expressions: \n",
       "31. (x -> {x mod N if x in {a .. b}.)\n",
       "    core type: ExprTuple\n",
       "    sub-expressions: 34\n",
       "32. card\n",
       "    core type: Literal\n",
       "    sub-expressions: \n",
       "33. ({a .. b})\n",
       "    core type: ExprTuple\n",
       "    sub-expressions: 45\n",
       "34. x -> {x mod N if x in {a .. b}.\n",
       "    core type: Lambda\n",
       "    parameter: 44\n",
       "    body: 36\n",
       "35. (x)\n",
       "    core type: ExprTuple\n",
       "    sub-expressions: 44\n",
       "36. {x mod N if x in {a .. b}.\n",
       "    core type: Conditional\n",
       "    value: 37\n",
       "    condition: 38\n",
       "37. x mod N\n",
       "    core type: Operation\n",
       "    operator: 39\n",
       "    operands: 40\n",
       "38. x in {a .. b}\n",
       "    core type: Operation\n",
       "    operator: 41\n",
       "    operands: 42\n",
       "39. mod\n",
       "    core type: Literal\n",
       "    sub-expressions: \n",
       "40. (x, N)\n",
       "    core type: ExprTuple\n",
       "    sub-expressions: 44, 43\n",
       "41. in\n",
       "    core type: Literal\n",
       "    sub-expressions: \n",
       "42. (x, {a .. b})\n",
       "    core type: ExprTuple\n",
       "    sub-expressions: 44, 45\n",
       "43. N\n",
       "    core type: Variable\n",
       "    sub-expressions: \n",
       "44. x\n",
       "    core type: Variable\n",
       "    sub-expressions: \n",
       "45. {a .. b}\n",
       "    core type: Operation\n",
       "    operator: 46\n",
       "    operands: 47\n",
       "46. Interval\n",
       "    core type: Literal\n",
       "    sub-expressions: \n",
       "47. (a, b)\n",
       "    core type: ExprTuple\n",
       "    sub-expressions: 48, 49\n",
       "48. a\n",
       "    core type: Variable\n",
       "    sub-expressions: \n",
       "49. b\n",
       "    core type: Variable\n",
       "    sub-expressions: "
      ]
     },
     "metadata": {},
     "output_type": "display_data"
    }
   ],
   "source": [
    "# display the expression information\n",
    "stored_expr.expr_info()"
   ]
  },
  {
   "cell_type": "code",
   "execution_count": null,
   "metadata": {},
   "outputs": [],
   "source": []
  }
 ],
 "metadata": {
  "kernelspec": {
   "display_name": "Python 3",
   "language": "python",
   "name": "python3"
  }
 },
 "nbformat": 4,
 "nbformat_minor": 0
}