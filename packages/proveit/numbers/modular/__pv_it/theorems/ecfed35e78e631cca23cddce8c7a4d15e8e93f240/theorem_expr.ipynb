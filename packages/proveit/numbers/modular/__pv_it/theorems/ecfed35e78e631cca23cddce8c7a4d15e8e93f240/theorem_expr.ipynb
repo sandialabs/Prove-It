{
 "cells": [
  {
   "cell_type": "markdown",
   "metadata": {},
   "source": [
    "Theorem <a class=\"ProveItLink\" href=\"../../../_theorems_.ipynb#mod_abs_x_reduce_to_abs_x\">mod_abs_x_reduce_to_abs_x</a> of type <a class=\"ProveItLink\" href=\"../../../../../../../doc/html/api/proveit.logic.Forall.html\">Forall</a>\n",
    "=======================\n",
    "# from the theory of <a class=\"ProveItLink\" href=\"../../../_theory_nbs_/theory.ipynb\">proveit.numbers.modular</a>\n",
    "*** see <a class=\"ProveItLink\" href=\"dependencies.ipynb\">dependencies</a> ***"
   ]
  },
  {
   "cell_type": "code",
   "execution_count": 1,
   "metadata": {},
   "outputs": [],
   "source": [
    "import proveit\n",
    "# Automation is not needed when only building an expression:\n",
    "proveit.defaults.automation = False # This will speed things up.\n",
    "proveit.defaults.inline_pngs = False # Makes files smaller.\n",
    "%load_theorem_expr # Load the stored theorem expression as 'stored_expr'\n",
    "# import the special expression\n",
    "from proveit.numbers.modular import mod_abs_x_reduce_to_abs_x"
   ]
  },
  {
   "cell_type": "code",
   "execution_count": 2,
   "metadata": {},
   "outputs": [
    {
     "name": "stdout",
     "output_type": "stream",
     "text": [
      "Passed sanity check: mod_abs_x_reduce_to_abs_x matches stored_expr\n"
     ]
    }
   ],
   "source": [
    "# check that the built expression is the same as the stored expression\n",
    "assert mod_abs_x_reduce_to_abs_x.expr == stored_expr\n",
    "assert mod_abs_x_reduce_to_abs_x.expr._style_id == stored_expr._style_id\n",
    "print(\"Passed sanity check: mod_abs_x_reduce_to_abs_x matches stored_expr\")"
   ]
  },
  {
   "cell_type": "code",
   "execution_count": 3,
   "metadata": {},
   "outputs": [
    {
     "name": "stdout",
     "output_type": "stream",
     "text": [
      "\\forall_{x \\in \\mathbb{R}, N \\in \\mathbb{R}^+~|~\\left|x\\right| \\leq \\frac{N}{2}}~\\left(\\left|x\\right|_{\\textup{mod}\\thinspace N} = \\left|x\\right|\\right)\n"
     ]
    }
   ],
   "source": [
    "# Show the LaTeX representation of the expression for convenience if you need it.\n",
    "print(stored_expr.latex())"
   ]
  },
  {
   "cell_type": "code",
   "execution_count": 4,
   "metadata": {},
   "outputs": [
    {
     "data": {
      "text/html": [
       "<table>\n",
       "<tr><th>name</th><th>description</th><th>default</th><th>current value</th><th>related methods</th></tr><tr><td>with_wrapping</td><td>If 'True', wrap the Expression after the parameters</td><td>None</td><td>None/False</td><td>('with_wrapping',)</td></tr>\n",
       "<tr><td>condition_wrapping</td><td>Wrap 'before' or 'after' the condition (or None).</td><td>None</td><td>None/False</td><td>('with_wrap_after_condition', 'with_wrap_before_condition')</td></tr>\n",
       "<tr><td>wrap_params</td><td>If 'True', wraps every two parameters AND wraps the Expression after the parameters</td><td>None</td><td>None/False</td><td>('with_params',)</td></tr>\n",
       "<tr><td>justification</td><td>justify to the 'left', 'center', or 'right' in the array cells</td><td>center</td><td>center</td><td>('with_justification',)</td></tr>\n",
       "</table>\n"
      ],
      "text/plain": [
       "style name: with_wrapping\n",
       "description: If 'True', wrap the Expression after the parameters\n",
       "default: None\n",
       "current value: None/False\n",
       "related methods: ('with_wrapping',)\n",
       "style name: condition_wrapping\n",
       "description: Wrap 'before' or 'after' the condition (or None).\n",
       "default: None\n",
       "current value: None/False\n",
       "related methods: ('with_wrap_after_condition', 'with_wrap_before_condition')\n",
       "style name: wrap_params\n",
       "description: If 'True', wraps every two parameters AND wraps the Expression after the parameters\n",
       "default: None\n",
       "current value: None/False\n",
       "related methods: ('with_params',)\n",
       "style name: justification\n",
       "description: justify to the 'left', 'center', or 'right' in the array cells\n",
       "default: center\n",
       "current value: center\n",
       "related methods: ('with_justification',)"
      ]
     },
     "metadata": {},
     "output_type": "display_data"
    }
   ],
   "source": [
    "stored_expr.style_options()"
   ]
  },
  {
   "cell_type": "code",
   "execution_count": 5,
   "metadata": {},
   "outputs": [
    {
     "data": {
      "text/html": [
       "<table><tr><th>&nbsp;</th><th>core type</th><th>sub-expressions</th><th>expression</th></tr>\n",
       "<tr><td>0</td><td>Operation</td><td>operator:&nbsp;1<br>operand:&nbsp;3<br></td><td><a class=\"ProveItLink\" href=\"../2daafb76db005d142d599124aeffac2033a2465b0/expr.ipynb\"><img src=\"../2daafb76db005d142d599124aeffac2033a2465b0/expr.png\" style=\"display:inline;vertical-align:middle;\" /></a></td></tr>\n",
       "<tr><td>1</td><td>Literal</td><td></td><td><a class=\"ProveItLink\" href=\"../../../../../logic/booleans/quantification/universality/__pv_it/common/083d2baa0b8ecab1d230f9ec29a15aa1355809fb0/expr.ipynb\"><img src=\"../../../../../logic/booleans/quantification/universality/__pv_it/common/083d2baa0b8ecab1d230f9ec29a15aa1355809fb0/expr.png\" style=\"display:inline;vertical-align:middle;\" /></a></td></tr>\n",
       "<tr><td>2</td><td>ExprTuple</td><td>3</td><td><a class=\"ProveItLink\" href=\"../8b5e2e0aca60adf6a839f2921195572fd8d32b090/expr.ipynb\"><img src=\"../8b5e2e0aca60adf6a839f2921195572fd8d32b090/expr.png\" style=\"display:inline;vertical-align:middle;\" /></a></td></tr>\n",
       "<tr><td>3</td><td>Lambda</td><td>parameters:&nbsp;16<br>body:&nbsp;4<br></td><td><a class=\"ProveItLink\" href=\"../1a6ff8698f46f4af641642969824aea991a3bebb0/expr.ipynb\"><img src=\"../1a6ff8698f46f4af641642969824aea991a3bebb0/expr.png\" style=\"display:inline;vertical-align:middle;\" /></a></td></tr>\n",
       "<tr><td>4</td><td>Conditional</td><td>value:&nbsp;5<br>condition:&nbsp;6<br></td><td><a class=\"ProveItLink\" href=\"../8a329573147ad3494ce5b14e5bec641c48ccb2520/expr.ipynb\"><img src=\"../8a329573147ad3494ce5b14e5bec641c48ccb2520/expr.png\" style=\"display:inline;vertical-align:middle;\" /></a></td></tr>\n",
       "<tr><td>5</td><td>Operation</td><td>operator:&nbsp;7<br>operands:&nbsp;8<br></td><td><a class=\"ProveItLink\" href=\"../d6eff4653c6c8edf8d70c33afbc0ec04e9a3c6710/expr.ipynb\"><img src=\"../d6eff4653c6c8edf8d70c33afbc0ec04e9a3c6710/expr.png\" style=\"display:inline;vertical-align:middle;\" /></a></td></tr>\n",
       "<tr><td>6</td><td>Operation</td><td>operator:&nbsp;9<br>operands:&nbsp;10<br></td><td><a class=\"ProveItLink\" href=\"../d5f147ee59e01eb5db92da546a6f8e8edf509e560/expr.ipynb\"><img src=\"../d5f147ee59e01eb5db92da546a6f8e8edf509e560/expr.png\" style=\"display:inline;vertical-align:middle;\" /></a></td></tr>\n",
       "<tr><td>7</td><td>Literal</td><td></td><td><a class=\"ProveItLink\" href=\"../../../../../logic/equality/__pv_it/common/fb96dc12b2aa8801dda64d0132b396c63d1502bb0/expr.ipynb\"><img src=\"../../../../../logic/equality/__pv_it/common/fb96dc12b2aa8801dda64d0132b396c63d1502bb0/expr.png\" style=\"display:inline;vertical-align:middle;\" /></a></td></tr>\n",
       "<tr><td>8</td><td>ExprTuple</td><td>11, 24</td><td><a class=\"ProveItLink\" href=\"../844c07c31fadd50537a426cde6adf90d60b835680/expr.ipynb\"><img src=\"../844c07c31fadd50537a426cde6adf90d60b835680/expr.png\" style=\"display:inline;vertical-align:middle;\" /></a></td></tr>\n",
       "<tr><td>9</td><td>Literal</td><td></td><td><a class=\"ProveItLink\" href=\"../../../../../logic/booleans/conjunction/__pv_it/common/42118ff318bd65d98b1393f64ce7c2269feef76e0/expr.ipynb\"><img src=\"../../../../../logic/booleans/conjunction/__pv_it/common/42118ff318bd65d98b1393f64ce7c2269feef76e0/expr.png\" style=\"display:inline;vertical-align:middle;\" /></a></td></tr>\n",
       "<tr><td>10</td><td>ExprTuple</td><td>12, 13, 14</td><td><a class=\"ProveItLink\" href=\"../285904eea8852a9fcb7fb151295a366fa90210170/expr.ipynb\"><img src=\"../285904eea8852a9fcb7fb151295a366fa90210170/expr.png\" style=\"display:inline;vertical-align:middle;\" /></a></td></tr>\n",
       "<tr><td>11</td><td>Operation</td><td>operator:&nbsp;15<br>operands:&nbsp;16<br></td><td><a class=\"ProveItLink\" href=\"../3d08f4f28111ad157747a8d4fca2a210a43320870/expr.ipynb\"><img src=\"../3d08f4f28111ad157747a8d4fca2a210a43320870/expr.png\" style=\"display:inline;vertical-align:middle;\" /></a></td></tr>\n",
       "<tr><td>12</td><td>Operation</td><td>operator:&nbsp;18<br>operands:&nbsp;17<br></td><td><a class=\"ProveItLink\" href=\"../d1323f34847310a404e8089c2c268d3c2eb89dbf0/expr.ipynb\"><img src=\"../d1323f34847310a404e8089c2c268d3c2eb89dbf0/expr.png\" style=\"display:inline;vertical-align:middle;\" /></a></td></tr>\n",
       "<tr><td>13</td><td>Operation</td><td>operator:&nbsp;18<br>operands:&nbsp;19<br></td><td><a class=\"ProveItLink\" href=\"../90d0aed550740e8eefa0115db24abfdb56ee66210/expr.ipynb\"><img src=\"../90d0aed550740e8eefa0115db24abfdb56ee66210/expr.png\" style=\"display:inline;vertical-align:middle;\" /></a></td></tr>\n",
       "<tr><td>14</td><td>Operation</td><td>operator:&nbsp;20<br>operands:&nbsp;21<br></td><td><a class=\"ProveItLink\" href=\"../3cc000d183ddf648c794b6b69b2baa16a92536f40/expr.ipynb\"><img src=\"../3cc000d183ddf648c794b6b69b2baa16a92536f40/expr.png\" style=\"display:inline;vertical-align:middle;\" /></a></td></tr>\n",
       "<tr><td>15</td><td>Literal</td><td></td><td><a class=\"ProveItLink\" href=\"../../common/a54c009a0c69fd86b47cbe34f4e05f85c2d2e1680/expr.ipynb\"><img src=\"../../common/a54c009a0c69fd86b47cbe34f4e05f85c2d2e1680/expr.png\" style=\"display:inline;vertical-align:middle;\" /></a></td></tr>\n",
       "<tr><td>16</td><td>ExprTuple</td><td>30, 31</td><td><a class=\"ProveItLink\" href=\"../92fe64f83a2aeee096de839308048dc30abc19540/expr.ipynb\"><img src=\"../92fe64f83a2aeee096de839308048dc30abc19540/expr.png\" style=\"display:inline;vertical-align:middle;\" /></a></td></tr>\n",
       "<tr><td>17</td><td>ExprTuple</td><td>30, 22</td><td><a class=\"ProveItLink\" href=\"../d87b972e3e29265b9fca1a9cb6e1de56983159ab0/expr.ipynb\"><img src=\"../d87b972e3e29265b9fca1a9cb6e1de56983159ab0/expr.png\" style=\"display:inline;vertical-align:middle;\" /></a></td></tr>\n",
       "<tr><td>18</td><td>Literal</td><td></td><td><a class=\"ProveItLink\" href=\"../../../../../logic/sets/membership/__pv_it/common/477487d8796864d23d5810f83761435f25167f690/expr.ipynb\"><img src=\"../../../../../logic/sets/membership/__pv_it/common/477487d8796864d23d5810f83761435f25167f690/expr.png\" style=\"display:inline;vertical-align:middle;\" /></a></td></tr>\n",
       "<tr><td>19</td><td>ExprTuple</td><td>31, 23</td><td><a class=\"ProveItLink\" href=\"../b42321cad37edeebec124ffd6d0ca92f37e975510/expr.ipynb\"><img src=\"../b42321cad37edeebec124ffd6d0ca92f37e975510/expr.png\" style=\"display:inline;vertical-align:middle;\" /></a></td></tr>\n",
       "<tr><td>20</td><td>Literal</td><td></td><td><a class=\"ProveItLink\" href=\"../../../../ordering/__pv_it/common/68379698d72b4689bbda4b5c5cca29ee599d70280/expr.ipynb\"><img src=\"../../../../ordering/__pv_it/common/68379698d72b4689bbda4b5c5cca29ee599d70280/expr.png\" style=\"display:inline;vertical-align:middle;\" /></a></td></tr>\n",
       "<tr><td>21</td><td>ExprTuple</td><td>24, 25</td><td><a class=\"ProveItLink\" href=\"../72846adfddd8f490aef9ea8a3e6b74f069e8ea7c0/expr.ipynb\"><img src=\"../72846adfddd8f490aef9ea8a3e6b74f069e8ea7c0/expr.png\" style=\"display:inline;vertical-align:middle;\" /></a></td></tr>\n",
       "<tr><td>22</td><td>Literal</td><td></td><td><a class=\"ProveItLink\" href=\"../../../../number_sets/real_numbers/__pv_it/common/93cac87a1a47e613f7a83b23ef7891599a1a4cca0/expr.ipynb\"><img src=\"../../../../number_sets/real_numbers/__pv_it/common/93cac87a1a47e613f7a83b23ef7891599a1a4cca0/expr.png\" style=\"display:inline;vertical-align:middle;\" /></a></td></tr>\n",
       "<tr><td>23</td><td>Literal</td><td></td><td><a class=\"ProveItLink\" href=\"../../../../number_sets/real_numbers/__pv_it/common/174917e13d50b91c585b7f765a2896383a3ae8010/expr.ipynb\"><img src=\"../../../../number_sets/real_numbers/__pv_it/common/174917e13d50b91c585b7f765a2896383a3ae8010/expr.png\" style=\"display:inline;vertical-align:middle;\" /></a></td></tr>\n",
       "<tr><td>24</td><td>Operation</td><td>operator:&nbsp;26<br>operand:&nbsp;30<br></td><td><a class=\"ProveItLink\" href=\"../aba07fd8e4c276ced4b5b8dbbd02ce761936b11b0/expr.ipynb\"><img src=\"../aba07fd8e4c276ced4b5b8dbbd02ce761936b11b0/expr.png\" style=\"display:inline;vertical-align:middle;\" /></a></td></tr>\n",
       "<tr><td>25</td><td>Operation</td><td>operator:&nbsp;28<br>operands:&nbsp;29<br></td><td><a class=\"ProveItLink\" href=\"../3e01e6ab25ffdd932c042992b542b30cb133fe570/expr.ipynb\"><img src=\"../3e01e6ab25ffdd932c042992b542b30cb133fe570/expr.png\" style=\"display:inline;vertical-align:middle;\" /></a></td></tr>\n",
       "<tr><td>26</td><td>Literal</td><td></td><td><a class=\"ProveItLink\" href=\"../../../../absolute_value/__pv_it/common/eea56c667bc0aad2dc76ed04b44c2bd98b94005f0/expr.ipynb\"><img src=\"../../../../absolute_value/__pv_it/common/eea56c667bc0aad2dc76ed04b44c2bd98b94005f0/expr.png\" style=\"display:inline;vertical-align:middle;\" /></a></td></tr>\n",
       "<tr><td>27</td><td>ExprTuple</td><td>30</td><td><a class=\"ProveItLink\" href=\"../../../../../__pv_it/common/eacfeccc0521684fcb20fe8f5180ac50fca471f20/expr.ipynb\"><img src=\"../../../../../__pv_it/common/eacfeccc0521684fcb20fe8f5180ac50fca471f20/expr.png\" style=\"display:inline;vertical-align:middle;\" /></a></td></tr>\n",
       "<tr><td>28</td><td>Literal</td><td></td><td><a class=\"ProveItLink\" href=\"../../../../division/__pv_it/common/a2a633e1e3c749fb1f2692466b287b6348c5de840/expr.ipynb\"><img src=\"../../../../division/__pv_it/common/a2a633e1e3c749fb1f2692466b287b6348c5de840/expr.png\" style=\"display:inline;vertical-align:middle;\" /></a></td></tr>\n",
       "<tr><td>29</td><td>ExprTuple</td><td>31, 32</td><td><a class=\"ProveItLink\" href=\"../f65f767badf11356fa1e831a7c1499a4638ea5310/expr.ipynb\"><img src=\"../f65f767badf11356fa1e831a7c1499a4638ea5310/expr.png\" style=\"display:inline;vertical-align:middle;\" /></a></td></tr>\n",
       "<tr><td>30</td><td>Variable</td><td></td><td><a class=\"ProveItLink\" href=\"../../../../../__pv_it/common/a0d9d672aa5e272d907247690c152cc2c6daafb70/expr.ipynb\"><img src=\"../../../../../__pv_it/common/a0d9d672aa5e272d907247690c152cc2c6daafb70/expr.png\" style=\"display:inline;vertical-align:middle;\" /></a></td></tr>\n",
       "<tr><td>31</td><td>Variable</td><td></td><td><a class=\"ProveItLink\" href=\"../../../../../__pv_it/common/ec2f9d003f907f9688d46f19f6df289e52cc63ce0/expr.ipynb\"><img src=\"../../../../../__pv_it/common/ec2f9d003f907f9688d46f19f6df289e52cc63ce0/expr.png\" style=\"display:inline;vertical-align:middle;\" /></a></td></tr>\n",
       "<tr><td>32</td><td>Literal</td><td></td><td><a class=\"ProveItLink\" href=\"../../../../numerals/__pv_it/common/af4aab8a07465db063742696e006d04670f30cf10/expr.ipynb\"><img src=\"../../../../numerals/__pv_it/common/af4aab8a07465db063742696e006d04670f30cf10/expr.png\" style=\"display:inline;vertical-align:middle;\" /></a></td></tr>\n",
       "</table>\n"
      ],
      "text/plain": [
       "0. forall_{x in Real, N in RealPos | |x| <= (N / 2)} (|x|_{mod N} = |x|)\n",
       "   core type: Operation\n",
       "   operator: 1\n",
       "   operand: 3\n",
       "1. forall\n",
       "   core type: Literal\n",
       "   sub-expressions: \n",
       "2. ((x, N) -> {|x|_{mod N} = |x| if x in Real ,  N in RealPos ,  |x| <= (N / 2).)\n",
       "   core type: ExprTuple\n",
       "   sub-expressions: 3\n",
       "3. (x, N) -> {|x|_{mod N} = |x| if x in Real ,  N in RealPos ,  |x| <= (N / 2).\n",
       "   core type: Lambda\n",
       "   parameters: 16\\n   body: 4\n",
       "4. {|x|_{mod N} = |x| if x in Real ,  N in RealPos ,  |x| <= (N / 2).\n",
       "   core type: Conditional\n",
       "   value: 5\n",
       "   condition: 6\n",
       "5. |x|_{mod N} = |x|\n",
       "   core type: Operation\n",
       "   operator: 7\n",
       "   operands: 8\n",
       "6. (x in Real) and (N in RealPos) and (|x| <= (N / 2))\n",
       "   core type: Operation\n",
       "   operator: 9\n",
       "   operands: 10\n",
       "7. =\n",
       "   core type: Literal\n",
       "   sub-expressions: \n",
       "8. (|x|_{mod N}, |x|)\n",
       "   core type: ExprTuple\n",
       "   sub-expressions: 11, 24\n",
       "9. and\n",
       "   core type: Literal\n",
       "   sub-expressions: \n",
       "10. (x in Real, N in RealPos, |x| <= (N / 2))\n",
       "    core type: ExprTuple\n",
       "    sub-expressions: 12, 13, 14\n",
       "11. |x|_{mod N}\n",
       "    core type: Operation\n",
       "    operator: 15\n",
       "    operands: 16\n",
       "12. x in Real\n",
       "    core type: Operation\n",
       "    operator: 18\n",
       "    operands: 17\n",
       "13. N in RealPos\n",
       "    core type: Operation\n",
       "    operator: 18\n",
       "    operands: 19\n",
       "14. |x| <= (N / 2)\n",
       "    core type: Operation\n",
       "    operator: 20\n",
       "    operands: 21\n",
       "15. ModAbs\n",
       "    core type: Literal\n",
       "    sub-expressions: \n",
       "16. (x, N)\n",
       "    core type: ExprTuple\n",
       "    sub-expressions: 30, 31\n",
       "17. (x, Real)\n",
       "    core type: ExprTuple\n",
       "    sub-expressions: 30, 22\n",
       "18. in\n",
       "    core type: Literal\n",
       "    sub-expressions: \n",
       "19. (N, RealPos)\n",
       "    core type: ExprTuple\n",
       "    sub-expressions: 31, 23\n",
       "20. <=\n",
       "    core type: Literal\n",
       "    sub-expressions: \n",
       "21. (|x|, N / 2)\n",
       "    core type: ExprTuple\n",
       "    sub-expressions: 24, 25\n",
       "22. Real\n",
       "    core type: Literal\n",
       "    sub-expressions: \n",
       "23. RealPos\n",
       "    core type: Literal\n",
       "    sub-expressions: \n",
       "24. |x|\n",
       "    core type: Operation\n",
       "    operator: 26\n",
       "    operand: 30\n",
       "25. N / 2\n",
       "    core type: Operation\n",
       "    operator: 28\n",
       "    operands: 29\n",
       "26. Abs\n",
       "    core type: Literal\n",
       "    sub-expressions: \n",
       "27. (x)\n",
       "    core type: ExprTuple\n",
       "    sub-expressions: 30\n",
       "28. /\n",
       "    core type: Literal\n",
       "    sub-expressions: \n",
       "29. (N, 2)\n",
       "    core type: ExprTuple\n",
       "    sub-expressions: 31, 32\n",
       "30. x\n",
       "    core type: Variable\n",
       "    sub-expressions: \n",
       "31. N\n",
       "    core type: Variable\n",
       "    sub-expressions: \n",
       "32. 2\n",
       "    core type: Literal\n",
       "    sub-expressions: "
      ]
     },
     "metadata": {},
     "output_type": "display_data"
    }
   ],
   "source": [
    "# display the expression information\n",
    "stored_expr.expr_info()"
   ]
  },
  {
   "cell_type": "code",
   "execution_count": null,
   "metadata": {},
   "outputs": [],
   "source": []
  }
 ],
 "metadata": {
  "kernelspec": {
   "display_name": "Python 3",
   "language": "python",
   "name": "python3"
  }
 },
 "nbformat": 4,
 "nbformat_minor": 0
}