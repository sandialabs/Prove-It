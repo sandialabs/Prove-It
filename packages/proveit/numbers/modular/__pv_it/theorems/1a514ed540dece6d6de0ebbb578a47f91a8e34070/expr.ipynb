{
 "cells": [
  {
   "cell_type": "markdown",
   "metadata": {},
   "source": [
    "Expression of type <a class=\"ProveItLink\" href=\"../../../../../../../doc/html/api/proveit.logic.Forall.html\">Forall</a>\n",
    "=======================\n",
    "# from the theory of <a class=\"ProveItLink\" href=\"../../../_theory_nbs_/theory.ipynb\">proveit.numbers.modular</a>"
   ]
  },
  {
   "cell_type": "code",
   "execution_count": 1,
   "metadata": {},
   "outputs": [],
   "source": [
    "import proveit\n",
    "# Automation is not needed when building an expression:\n",
    "proveit.defaults.automation = False # This will speed things up.\n",
    "proveit.defaults.inline_pngs = False # Makes files smaller.\n",
    "%load_expr # Load the stored expression as 'stored_expr'\n",
    "# import Expression classes needed to build the expression\n",
    "from proveit import L, x\n",
    "from proveit.logic import Equals, Forall\n",
    "from proveit.numbers import IntervalCO, Mod, RealPos, zero"
   ]
  },
  {
   "cell_type": "code",
   "execution_count": 2,
   "metadata": {},
   "outputs": [
    {
     "data": {
      "text/html": [
       "<strong id=\"expr\">expr:</strong> <a class=\"ProveItLink\" href=\"expr.ipynb\"><img src=\"expr.png\" style=\"display:inline;vertical-align:middle;\" /></a><br>"
      ],
      "text/plain": [
       "<IPython.core.display.HTML object>"
      ]
     },
     "metadata": {},
     "output_type": "display_data"
    }
   ],
   "source": [
    "# build up the expression from sub-expressions\n",
    "expr = Forall(instance_param_or_params = [L], instance_expr = Forall(instance_param_or_params = [x], instance_expr = Equals(Mod(x, L), x), domain = IntervalCO(zero, L)), domain = RealPos)"
   ]
  },
  {
   "cell_type": "code",
   "execution_count": 3,
   "metadata": {},
   "outputs": [
    {
     "name": "stdout",
     "output_type": "stream",
     "text": [
      "Passed sanity check: expr matches stored_expr\n"
     ]
    }
   ],
   "source": [
    "# check that the built expression is the same as the stored expression\n",
    "assert expr == stored_expr\n",
    "assert expr._style_id == stored_expr._style_id\n",
    "print(\"Passed sanity check: expr matches stored_expr\")"
   ]
  },
  {
   "cell_type": "code",
   "execution_count": 4,
   "metadata": {},
   "outputs": [
    {
     "name": "stdout",
     "output_type": "stream",
     "text": [
      "\\forall_{L \\in \\mathbb{R}^+}~\\left[\\forall_{x \\in \\left[0,L\\right)}~\\left(\\left(x ~\\textup{mod}~ L\\right) = x\\right)\\right]\n"
     ]
    }
   ],
   "source": [
    "# Show the LaTeX representation of the expression for convenience if you need it.\n",
    "print(stored_expr.latex())"
   ]
  },
  {
   "cell_type": "code",
   "execution_count": 5,
   "metadata": {},
   "outputs": [
    {
     "data": {
      "text/html": [
       "<table>\n",
       "<tr><th>name</th><th>description</th><th>default</th><th>current value</th><th>related methods</th></tr><tr><td>with_wrapping</td><td>If 'True', wrap the Expression after the parameters</td><td>None</td><td>None/False</td><td>('with_wrapping',)</td></tr>\n",
       "<tr><td>condition_wrapping</td><td>Wrap 'before' or 'after' the condition (or None).</td><td>None</td><td>None/False</td><td>('with_wrap_after_condition', 'with_wrap_before_condition')</td></tr>\n",
       "<tr><td>wrap_params</td><td>If 'True', wraps every two parameters AND wraps the Expression after the parameters</td><td>None</td><td>None/False</td><td>('with_params',)</td></tr>\n",
       "<tr><td>justification</td><td>justify to the 'left', 'center', or 'right' in the array cells</td><td>center</td><td>center</td><td>('with_justification',)</td></tr>\n",
       "</table>\n"
      ],
      "text/plain": [
       "style name: with_wrapping\n",
       "description: If 'True', wrap the Expression after the parameters\n",
       "default: None\n",
       "current value: None/False\n",
       "related methods: ('with_wrapping',)\n",
       "style name: condition_wrapping\n",
       "description: Wrap 'before' or 'after' the condition (or None).\n",
       "default: None\n",
       "current value: None/False\n",
       "related methods: ('with_wrap_after_condition', 'with_wrap_before_condition')\n",
       "style name: wrap_params\n",
       "description: If 'True', wraps every two parameters AND wraps the Expression after the parameters\n",
       "default: None\n",
       "current value: None/False\n",
       "related methods: ('with_params',)\n",
       "style name: justification\n",
       "description: justify to the 'left', 'center', or 'right' in the array cells\n",
       "default: center\n",
       "current value: center\n",
       "related methods: ('with_justification',)"
      ]
     },
     "metadata": {},
     "output_type": "display_data"
    }
   ],
   "source": [
    "stored_expr.style_options()"
   ]
  },
  {
   "cell_type": "code",
   "execution_count": 6,
   "metadata": {},
   "outputs": [
    {
     "data": {
      "text/html": [
       "<table><tr><th>&nbsp;</th><th>core type</th><th>sub-expressions</th><th>expression</th></tr>\n",
       "<tr><td>0</td><td>Operation</td><td>operator:&nbsp;7<br>operand:&nbsp;2<br></td><td><a class=\"ProveItLink\" href=\"expr.ipynb\"><img src=\"expr.png\" style=\"display:inline;vertical-align:middle;\" /></a></td></tr>\n",
       "<tr><td>1</td><td>ExprTuple</td><td>2</td><td><a class=\"ProveItLink\" href=\"../ea799927ba2c6a4e044bd3d18971bbde8f4e69260/expr.ipynb\"><img src=\"../ea799927ba2c6a4e044bd3d18971bbde8f4e69260/expr.png\" style=\"display:inline;vertical-align:middle;\" /></a></td></tr>\n",
       "<tr><td>2</td><td>Lambda</td><td>parameter:&nbsp;28<br>body:&nbsp;4<br></td><td><a class=\"ProveItLink\" href=\"../4545f2a66f016e8ee4826e909320099f2c6ac9580/expr.ipynb\"><img src=\"../4545f2a66f016e8ee4826e909320099f2c6ac9580/expr.png\" style=\"display:inline;vertical-align:middle;\" /></a></td></tr>\n",
       "<tr><td>3</td><td>ExprTuple</td><td>28</td><td><a class=\"ProveItLink\" href=\"../f01aff0e75ce67f336a04d4821c8771558bc7eee0/expr.ipynb\"><img src=\"../f01aff0e75ce67f336a04d4821c8771558bc7eee0/expr.png\" style=\"display:inline;vertical-align:middle;\" /></a></td></tr>\n",
       "<tr><td>4</td><td>Conditional</td><td>value:&nbsp;5<br>condition:&nbsp;6<br></td><td><a class=\"ProveItLink\" href=\"../c87302d4a5c8fdb43f3432034e97c6412504a5d60/expr.ipynb\"><img src=\"../c87302d4a5c8fdb43f3432034e97c6412504a5d60/expr.png\" style=\"display:inline;vertical-align:middle;\" /></a></td></tr>\n",
       "<tr><td>5</td><td>Operation</td><td>operator:&nbsp;7<br>operand:&nbsp;10<br></td><td><a class=\"ProveItLink\" href=\"../cea83bf0064cc7373d529f33daf2e6bc6a7399e80/expr.ipynb\"><img src=\"../cea83bf0064cc7373d529f33daf2e6bc6a7399e80/expr.png\" style=\"display:inline;vertical-align:middle;\" /></a></td></tr>\n",
       "<tr><td>6</td><td>Operation</td><td>operator:&nbsp;18<br>operands:&nbsp;9<br></td><td><a class=\"ProveItLink\" href=\"../e599e69d4651f9a6f1b07f9ce05c2f434366950e0/expr.ipynb\"><img src=\"../e599e69d4651f9a6f1b07f9ce05c2f434366950e0/expr.png\" style=\"display:inline;vertical-align:middle;\" /></a></td></tr>\n",
       "<tr><td>7</td><td>Literal</td><td></td><td><a class=\"ProveItLink\" href=\"../../../../../logic/booleans/quantification/universality/__pv_it/common/083d2baa0b8ecab1d230f9ec29a15aa1355809fb0/expr.ipynb\"><img src=\"../../../../../logic/booleans/quantification/universality/__pv_it/common/083d2baa0b8ecab1d230f9ec29a15aa1355809fb0/expr.png\" style=\"display:inline;vertical-align:middle;\" /></a></td></tr>\n",
       "<tr><td>8</td><td>ExprTuple</td><td>10</td><td><a class=\"ProveItLink\" href=\"../76c02da42e818bdacb52afe5d26974b051d8100b0/expr.ipynb\"><img src=\"../76c02da42e818bdacb52afe5d26974b051d8100b0/expr.png\" style=\"display:inline;vertical-align:middle;\" /></a></td></tr>\n",
       "<tr><td>9</td><td>ExprTuple</td><td>28, 11</td><td><a class=\"ProveItLink\" href=\"../6794dfcbeea8342a7693c5c7be6b1f37317366940/expr.ipynb\"><img src=\"../6794dfcbeea8342a7693c5c7be6b1f37317366940/expr.png\" style=\"display:inline;vertical-align:middle;\" /></a></td></tr>\n",
       "<tr><td>10</td><td>Lambda</td><td>parameter:&nbsp;26<br>body:&nbsp;13<br></td><td><a class=\"ProveItLink\" href=\"../1d71ba56e4cbce5650ec3e97e24ff1df85f425830/expr.ipynb\"><img src=\"../1d71ba56e4cbce5650ec3e97e24ff1df85f425830/expr.png\" style=\"display:inline;vertical-align:middle;\" /></a></td></tr>\n",
       "<tr><td>11</td><td>Literal</td><td></td><td><a class=\"ProveItLink\" href=\"../../../../number_sets/real_numbers/__pv_it/common/174917e13d50b91c585b7f765a2896383a3ae8010/expr.ipynb\"><img src=\"../../../../number_sets/real_numbers/__pv_it/common/174917e13d50b91c585b7f765a2896383a3ae8010/expr.png\" style=\"display:inline;vertical-align:middle;\" /></a></td></tr>\n",
       "<tr><td>12</td><td>ExprTuple</td><td>26</td><td><a class=\"ProveItLink\" href=\"../../../../../__pv_it/common/eacfeccc0521684fcb20fe8f5180ac50fca471f20/expr.ipynb\"><img src=\"../../../../../__pv_it/common/eacfeccc0521684fcb20fe8f5180ac50fca471f20/expr.png\" style=\"display:inline;vertical-align:middle;\" /></a></td></tr>\n",
       "<tr><td>13</td><td>Conditional</td><td>value:&nbsp;14<br>condition:&nbsp;15<br></td><td><a class=\"ProveItLink\" href=\"../d7fa1244a763b70590b0e5ab436ac986bf54a8ef0/expr.ipynb\"><img src=\"../d7fa1244a763b70590b0e5ab436ac986bf54a8ef0/expr.png\" style=\"display:inline;vertical-align:middle;\" /></a></td></tr>\n",
       "<tr><td>14</td><td>Operation</td><td>operator:&nbsp;16<br>operands:&nbsp;17<br></td><td><a class=\"ProveItLink\" href=\"../21a14b0b97f7b1cfdf50ec6c1e7c4018aa1a7d120/expr.ipynb\"><img src=\"../21a14b0b97f7b1cfdf50ec6c1e7c4018aa1a7d120/expr.png\" style=\"display:inline;vertical-align:middle;\" /></a></td></tr>\n",
       "<tr><td>15</td><td>Operation</td><td>operator:&nbsp;18<br>operands:&nbsp;19<br></td><td><a class=\"ProveItLink\" href=\"../7306171df1f07656566d74f00ddcc2977a0b0df30/expr.ipynb\"><img src=\"../7306171df1f07656566d74f00ddcc2977a0b0df30/expr.png\" style=\"display:inline;vertical-align:middle;\" /></a></td></tr>\n",
       "<tr><td>16</td><td>Literal</td><td></td><td><a class=\"ProveItLink\" href=\"../../../../../logic/equality/__pv_it/common/fb96dc12b2aa8801dda64d0132b396c63d1502bb0/expr.ipynb\"><img src=\"../../../../../logic/equality/__pv_it/common/fb96dc12b2aa8801dda64d0132b396c63d1502bb0/expr.png\" style=\"display:inline;vertical-align:middle;\" /></a></td></tr>\n",
       "<tr><td>17</td><td>ExprTuple</td><td>20, 26</td><td><a class=\"ProveItLink\" href=\"../33658ef89285217ccd008f728e329ec9717dc6730/expr.ipynb\"><img src=\"../33658ef89285217ccd008f728e329ec9717dc6730/expr.png\" style=\"display:inline;vertical-align:middle;\" /></a></td></tr>\n",
       "<tr><td>18</td><td>Literal</td><td></td><td><a class=\"ProveItLink\" href=\"../../../../../logic/sets/membership/__pv_it/common/477487d8796864d23d5810f83761435f25167f690/expr.ipynb\"><img src=\"../../../../../logic/sets/membership/__pv_it/common/477487d8796864d23d5810f83761435f25167f690/expr.png\" style=\"display:inline;vertical-align:middle;\" /></a></td></tr>\n",
       "<tr><td>19</td><td>ExprTuple</td><td>26, 21</td><td><a class=\"ProveItLink\" href=\"../15c4ddab1178650db561145e0b0b4d35e24047ae0/expr.ipynb\"><img src=\"../15c4ddab1178650db561145e0b0b4d35e24047ae0/expr.png\" style=\"display:inline;vertical-align:middle;\" /></a></td></tr>\n",
       "<tr><td>20</td><td>Operation</td><td>operator:&nbsp;22<br>operands:&nbsp;23<br></td><td><a class=\"ProveItLink\" href=\"../a5621018231b1a119649ee0115cd69afcaa82e330/expr.ipynb\"><img src=\"../a5621018231b1a119649ee0115cd69afcaa82e330/expr.png\" style=\"display:inline;vertical-align:middle;\" /></a></td></tr>\n",
       "<tr><td>21</td><td>Operation</td><td>operator:&nbsp;24<br>operands:&nbsp;25<br></td><td><a class=\"ProveItLink\" href=\"../daba0a921cf9fa0dd37173aac046645bb95c8caa0/expr.ipynb\"><img src=\"../daba0a921cf9fa0dd37173aac046645bb95c8caa0/expr.png\" style=\"display:inline;vertical-align:middle;\" /></a></td></tr>\n",
       "<tr><td>22</td><td>Literal</td><td></td><td><a class=\"ProveItLink\" href=\"../../common/f61fe43eeba657b57e4fe7773885cfa81fe3dfc20/expr.ipynb\"><img src=\"../../common/f61fe43eeba657b57e4fe7773885cfa81fe3dfc20/expr.png\" style=\"display:inline;vertical-align:middle;\" /></a></td></tr>\n",
       "<tr><td>23</td><td>ExprTuple</td><td>26, 28</td><td><a class=\"ProveItLink\" href=\"../517304dcb09f80f0e179d358359bd7d64026ab7e0/expr.ipynb\"><img src=\"../517304dcb09f80f0e179d358359bd7d64026ab7e0/expr.png\" style=\"display:inline;vertical-align:middle;\" /></a></td></tr>\n",
       "<tr><td>24</td><td>Literal</td><td></td><td><a class=\"ProveItLink\" href=\"../../../../number_sets/real_numbers/__pv_it/common/da5a5fc1f3f3ada8da2b36f3e6963bacf1c8e9fc0/expr.ipynb\"><img src=\"../../../../number_sets/real_numbers/__pv_it/common/da5a5fc1f3f3ada8da2b36f3e6963bacf1c8e9fc0/expr.png\" style=\"display:inline;vertical-align:middle;\" /></a></td></tr>\n",
       "<tr><td>25</td><td>ExprTuple</td><td>27, 28</td><td><a class=\"ProveItLink\" href=\"../e61980aeee4ffa6c0011abcf2ead572fde2c44b90/expr.ipynb\"><img src=\"../e61980aeee4ffa6c0011abcf2ead572fde2c44b90/expr.png\" style=\"display:inline;vertical-align:middle;\" /></a></td></tr>\n",
       "<tr><td>26</td><td>Variable</td><td></td><td><a class=\"ProveItLink\" href=\"../../../../../__pv_it/common/a0d9d672aa5e272d907247690c152cc2c6daafb70/expr.ipynb\"><img src=\"../../../../../__pv_it/common/a0d9d672aa5e272d907247690c152cc2c6daafb70/expr.png\" style=\"display:inline;vertical-align:middle;\" /></a></td></tr>\n",
       "<tr><td>27</td><td>Literal</td><td></td><td><a class=\"ProveItLink\" href=\"../../../../numerals/__pv_it/common/dd4e19e8b134dfb293470ea55fe3589b0ab9f8040/expr.ipynb\"><img src=\"../../../../numerals/__pv_it/common/dd4e19e8b134dfb293470ea55fe3589b0ab9f8040/expr.png\" style=\"display:inline;vertical-align:middle;\" /></a></td></tr>\n",
       "<tr><td>28</td><td>Variable</td><td></td><td><a class=\"ProveItLink\" href=\"../../../../../__pv_it/common/a14e64e007515ca145bc975c6db7e9098f3b12fd0/expr.ipynb\"><img src=\"../../../../../__pv_it/common/a14e64e007515ca145bc975c6db7e9098f3b12fd0/expr.png\" style=\"display:inline;vertical-align:middle;\" /></a></td></tr>\n",
       "</table>\n"
      ],
      "text/plain": [
       "0. forall_{L in RealPos} [forall_{x in [0,L)} ((x mod L) = x)]\n",
       "   core type: Operation\n",
       "   operator: 7\n",
       "   operand: 2\n",
       "1. (L -> {forall_{x in [0,L)} ((x mod L) = x) if L in RealPos.)\n",
       "   core type: ExprTuple\n",
       "   sub-expressions: 2\n",
       "2. L -> {forall_{x in [0,L)} ((x mod L) = x) if L in RealPos.\n",
       "   core type: Lambda\n",
       "   parameter: 28\n",
       "   body: 4\n",
       "3. (L)\n",
       "   core type: ExprTuple\n",
       "   sub-expressions: 28\n",
       "4. {forall_{x in [0,L)} ((x mod L) = x) if L in RealPos.\n",
       "   core type: Conditional\n",
       "   value: 5\n",
       "   condition: 6\n",
       "5. forall_{x in [0,L)} ((x mod L) = x)\n",
       "   core type: Operation\n",
       "   operator: 7\n",
       "   operand: 10\n",
       "6. L in RealPos\n",
       "   core type: Operation\n",
       "   operator: 18\n",
       "   operands: 9\n",
       "7. forall\n",
       "   core type: Literal\n",
       "   sub-expressions: \n",
       "8. (x -> {(x mod L) = x if x in [0,L).)\n",
       "   core type: ExprTuple\n",
       "   sub-expressions: 10\n",
       "9. (L, RealPos)\n",
       "   core type: ExprTuple\n",
       "   sub-expressions: 28, 11\n",
       "10. x -> {(x mod L) = x if x in [0,L).\n",
       "    core type: Lambda\n",
       "    parameter: 26\n",
       "    body: 13\n",
       "11. RealPos\n",
       "    core type: Literal\n",
       "    sub-expressions: \n",
       "12. (x)\n",
       "    core type: ExprTuple\n",
       "    sub-expressions: 26\n",
       "13. {(x mod L) = x if x in [0,L).\n",
       "    core type: Conditional\n",
       "    value: 14\n",
       "    condition: 15\n",
       "14. (x mod L) = x\n",
       "    core type: Operation\n",
       "    operator: 16\n",
       "    operands: 17\n",
       "15. x in [0,L)\n",
       "    core type: Operation\n",
       "    operator: 18\n",
       "    operands: 19\n",
       "16. =\n",
       "    core type: Literal\n",
       "    sub-expressions: \n",
       "17. (x mod L, x)\n",
       "    core type: ExprTuple\n",
       "    sub-expressions: 20, 26\n",
       "18. in\n",
       "    core type: Literal\n",
       "    sub-expressions: \n",
       "19. (x, [0,L))\n",
       "    core type: ExprTuple\n",
       "    sub-expressions: 26, 21\n",
       "20. x mod L\n",
       "    core type: Operation\n",
       "    operator: 22\n",
       "    operands: 23\n",
       "21. [0,L)\n",
       "    core type: Operation\n",
       "    operator: 24\n",
       "    operands: 25\n",
       "22. mod\n",
       "    core type: Literal\n",
       "    sub-expressions: \n",
       "23. (x, L)\n",
       "    core type: ExprTuple\n",
       "    sub-expressions: 26, 28\n",
       "24. IntervalCO\n",
       "    core type: Literal\n",
       "    sub-expressions: \n",
       "25. (0, L)\n",
       "    core type: ExprTuple\n",
       "    sub-expressions: 27, 28\n",
       "26. x\n",
       "    core type: Variable\n",
       "    sub-expressions: \n",
       "27. 0\n",
       "    core type: Literal\n",
       "    sub-expressions: \n",
       "28. L\n",
       "    core type: Variable\n",
       "    sub-expressions: "
      ]
     },
     "metadata": {},
     "output_type": "display_data"
    }
   ],
   "source": [
    "# display the expression information\n",
    "stored_expr.expr_info()"
   ]
  },
  {
   "cell_type": "code",
   "execution_count": null,
   "metadata": {},
   "outputs": [],
   "source": []
  }
 ],
 "metadata": {
  "kernelspec": {
   "display_name": "Python 3",
   "language": "python",
   "name": "python3"
  }
 },
 "nbformat": 4,
 "nbformat_minor": 0
}