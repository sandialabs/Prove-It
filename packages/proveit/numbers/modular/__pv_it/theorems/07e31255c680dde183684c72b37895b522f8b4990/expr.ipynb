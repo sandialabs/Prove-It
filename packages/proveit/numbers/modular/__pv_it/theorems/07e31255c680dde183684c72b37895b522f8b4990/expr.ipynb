{
 "cells": [
  {
   "cell_type": "markdown",
   "metadata": {},
   "source": [
    "Expression of type <a class=\"ProveItLink\" href=\"../../../../../../../doc/html/api/proveit.logic.Forall.html\">Forall</a>\n",
    "=======================\n",
    "# from the theory of <a class=\"ProveItLink\" href=\"../../../_theory_nbs_/theory.ipynb\">proveit.numbers.modular</a>"
   ]
  },
  {
   "cell_type": "code",
   "execution_count": 1,
   "metadata": {},
   "outputs": [],
   "source": [
    "import proveit\n",
    "# Automation is not needed when building an expression:\n",
    "proveit.defaults.automation = False # This will speed things up.\n",
    "proveit.defaults.inline_pngs = False # Makes files smaller.\n",
    "%load_expr # Load the stored expression as 'stored_expr'\n",
    "# import Expression classes needed to build the expression\n",
    "from proveit import L, S, c, x\n",
    "from proveit.logic import Card, Equals, Forall, SetOfAll, SubsetEq\n",
    "from proveit.numbers import Add, Mod, Real"
   ]
  },
  {
   "cell_type": "code",
   "execution_count": 2,
   "metadata": {},
   "outputs": [
    {
     "data": {
      "text/html": [
       "<strong id=\"expr\">expr:</strong> <a class=\"ProveItLink\" href=\"expr.ipynb\"><img src=\"expr.png\" style=\"display:inline;vertical-align:middle;\" /></a><br>"
      ],
      "text/plain": [
       "<IPython.core.display.HTML object>"
      ]
     },
     "metadata": {},
     "output_type": "display_data"
    }
   ],
   "source": [
    "# build up the expression from sub-expressions\n",
    "sub_expr1 = [x]\n",
    "expr = Forall(instance_param_or_params = [S], instance_expr = Forall(instance_param_or_params = [c], instance_expr = Equals(Card(SetOfAll(instance_param_or_params = sub_expr1, instance_element = Mod(Add(c, x), L), domain = S)), Card(SetOfAll(instance_param_or_params = sub_expr1, instance_element = Mod(x, L), domain = S))), domain = Real), condition = SubsetEq(S, Real))"
   ]
  },
  {
   "cell_type": "code",
   "execution_count": 3,
   "metadata": {},
   "outputs": [
    {
     "name": "stdout",
     "output_type": "stream",
     "text": [
      "Passed sanity check: expr matches stored_expr\n"
     ]
    }
   ],
   "source": [
    "# check that the built expression is the same as the stored expression\n",
    "assert expr == stored_expr\n",
    "assert expr._style_id == stored_expr._style_id\n",
    "print(\"Passed sanity check: expr matches stored_expr\")"
   ]
  },
  {
   "cell_type": "code",
   "execution_count": 4,
   "metadata": {},
   "outputs": [
    {
     "name": "stdout",
     "output_type": "stream",
     "text": [
      "\\forall_{S~|~S \\subseteq \\mathbb{R}}~\\left[\\forall_{c \\in \\mathbb{R}}~\\left(|\\left\\{\\left(c + x\\right) ~\\textup{mod}~ L\\right\\}_{x \\in S}| = |\\left\\{x ~\\textup{mod}~ L\\right\\}_{x \\in S}|\\right)\\right]\n"
     ]
    }
   ],
   "source": [
    "# Show the LaTeX representation of the expression for convenience if you need it.\n",
    "print(stored_expr.latex())"
   ]
  },
  {
   "cell_type": "code",
   "execution_count": 5,
   "metadata": {},
   "outputs": [
    {
     "data": {
      "text/html": [
       "<table>\n",
       "<tr><th>name</th><th>description</th><th>default</th><th>current value</th><th>related methods</th></tr><tr><td>with_wrapping</td><td>If 'True', wrap the Expression after the parameters</td><td>None</td><td>None/False</td><td>('with_wrapping',)</td></tr>\n",
       "<tr><td>condition_wrapping</td><td>Wrap 'before' or 'after' the condition (or None).</td><td>None</td><td>None/False</td><td>('with_wrap_after_condition', 'with_wrap_before_condition')</td></tr>\n",
       "<tr><td>wrap_params</td><td>If 'True', wraps every two parameters AND wraps the Expression after the parameters</td><td>None</td><td>None/False</td><td>('with_params',)</td></tr>\n",
       "<tr><td>justification</td><td>justify to the 'left', 'center', or 'right' in the array cells</td><td>center</td><td>center</td><td>('with_justification',)</td></tr>\n",
       "</table>\n"
      ],
      "text/plain": [
       "style name: with_wrapping\n",
       "description: If 'True', wrap the Expression after the parameters\n",
       "default: None\n",
       "current value: None/False\n",
       "related methods: ('with_wrapping',)\n",
       "style name: condition_wrapping\n",
       "description: Wrap 'before' or 'after' the condition (or None).\n",
       "default: None\n",
       "current value: None/False\n",
       "related methods: ('with_wrap_after_condition', 'with_wrap_before_condition')\n",
       "style name: wrap_params\n",
       "description: If 'True', wraps every two parameters AND wraps the Expression after the parameters\n",
       "default: None\n",
       "current value: None/False\n",
       "related methods: ('with_params',)\n",
       "style name: justification\n",
       "description: justify to the 'left', 'center', or 'right' in the array cells\n",
       "default: center\n",
       "current value: center\n",
       "related methods: ('with_justification',)"
      ]
     },
     "metadata": {},
     "output_type": "display_data"
    }
   ],
   "source": [
    "stored_expr.style_options()"
   ]
  },
  {
   "cell_type": "code",
   "execution_count": 6,
   "metadata": {},
   "outputs": [
    {
     "data": {
      "text/html": [
       "<table><tr><th>&nbsp;</th><th>core type</th><th>sub-expressions</th><th>expression</th></tr>\n",
       "<tr><td>0</td><td>Operation</td><td>operator:&nbsp;7<br>operand:&nbsp;2<br></td><td><a class=\"ProveItLink\" href=\"expr.ipynb\"><img src=\"expr.png\" style=\"display:inline;vertical-align:middle;\" /></a></td></tr>\n",
       "<tr><td>1</td><td>ExprTuple</td><td>2</td><td><a class=\"ProveItLink\" href=\"../0f301aaa3e7920035811f00690ef6b47799b3f200/expr.ipynb\"><img src=\"../0f301aaa3e7920035811f00690ef6b47799b3f200/expr.png\" style=\"display:inline;vertical-align:middle;\" /></a></td></tr>\n",
       "<tr><td>2</td><td>Lambda</td><td>parameter:&nbsp;45<br>body:&nbsp;4<br></td><td><a class=\"ProveItLink\" href=\"../dc918f46b545a203fc91ae95ec80c2c075e4d5a60/expr.ipynb\"><img src=\"../dc918f46b545a203fc91ae95ec80c2c075e4d5a60/expr.png\" style=\"display:inline;vertical-align:middle;\" /></a></td></tr>\n",
       "<tr><td>3</td><td>ExprTuple</td><td>45</td><td><a class=\"ProveItLink\" href=\"../b56f07ff3525963a95bdc514d264b650cd8d9a4e0/expr.ipynb\"><img src=\"../b56f07ff3525963a95bdc514d264b650cd8d9a4e0/expr.png\" style=\"display:inline;vertical-align:middle;\" /></a></td></tr>\n",
       "<tr><td>4</td><td>Conditional</td><td>value:&nbsp;5<br>condition:&nbsp;6<br></td><td><a class=\"ProveItLink\" href=\"../63665724c77d9cab1434dd54ade6ebb9c4d032c10/expr.ipynb\"><img src=\"../63665724c77d9cab1434dd54ade6ebb9c4d032c10/expr.png\" style=\"display:inline;vertical-align:middle;\" /></a></td></tr>\n",
       "<tr><td>5</td><td>Operation</td><td>operator:&nbsp;7<br>operand:&nbsp;11<br></td><td><a class=\"ProveItLink\" href=\"../646ce6ac4b85891ef6f51958fcce9000733ed20d0/expr.ipynb\"><img src=\"../646ce6ac4b85891ef6f51958fcce9000733ed20d0/expr.png\" style=\"display:inline;vertical-align:middle;\" /></a></td></tr>\n",
       "<tr><td>6</td><td>Operation</td><td>operator:&nbsp;9<br>operands:&nbsp;10<br></td><td><a class=\"ProveItLink\" href=\"../5c6fb0da7d3c1fb5a7cecea11f536b20809beb890/expr.ipynb\"><img src=\"../5c6fb0da7d3c1fb5a7cecea11f536b20809beb890/expr.png\" style=\"display:inline;vertical-align:middle;\" /></a></td></tr>\n",
       "<tr><td>7</td><td>Literal</td><td></td><td><a class=\"ProveItLink\" href=\"../../../../../logic/booleans/quantification/universality/__pv_it/common/083d2baa0b8ecab1d230f9ec29a15aa1355809fb0/expr.ipynb\"><img src=\"../../../../../logic/booleans/quantification/universality/__pv_it/common/083d2baa0b8ecab1d230f9ec29a15aa1355809fb0/expr.png\" style=\"display:inline;vertical-align:middle;\" /></a></td></tr>\n",
       "<tr><td>8</td><td>ExprTuple</td><td>11</td><td><a class=\"ProveItLink\" href=\"../735f76224ab25f229968db3641354f3eb3c22bfd0/expr.ipynb\"><img src=\"../735f76224ab25f229968db3641354f3eb3c22bfd0/expr.png\" style=\"display:inline;vertical-align:middle;\" /></a></td></tr>\n",
       "<tr><td>9</td><td>Literal</td><td></td><td><a class=\"ProveItLink\" href=\"../../../../../logic/sets/inclusion/__pv_it/common/af21bfd7d93759eac7fe399a50aaac31ae45d8cf0/expr.ipynb\"><img src=\"../../../../../logic/sets/inclusion/__pv_it/common/af21bfd7d93759eac7fe399a50aaac31ae45d8cf0/expr.png\" style=\"display:inline;vertical-align:middle;\" /></a></td></tr>\n",
       "<tr><td>10</td><td>ExprTuple</td><td>45, 21</td><td><a class=\"ProveItLink\" href=\"../471f7df5787564ab8b5e045d322aca8d279301040/expr.ipynb\"><img src=\"../471f7df5787564ab8b5e045d322aca8d279301040/expr.png\" style=\"display:inline;vertical-align:middle;\" /></a></td></tr>\n",
       "<tr><td>11</td><td>Lambda</td><td>parameter:&nbsp;48<br>body:&nbsp;13<br></td><td><a class=\"ProveItLink\" href=\"../66db089a5197d92ca85d0090a707a8f08a224a9b0/expr.ipynb\"><img src=\"../66db089a5197d92ca85d0090a707a8f08a224a9b0/expr.png\" style=\"display:inline;vertical-align:middle;\" /></a></td></tr>\n",
       "<tr><td>12</td><td>ExprTuple</td><td>48</td><td><a class=\"ProveItLink\" href=\"../25c776cc10fb7df90a1cddbf8213d6561f6b7bd20/expr.ipynb\"><img src=\"../25c776cc10fb7df90a1cddbf8213d6561f6b7bd20/expr.png\" style=\"display:inline;vertical-align:middle;\" /></a></td></tr>\n",
       "<tr><td>13</td><td>Conditional</td><td>value:&nbsp;14<br>condition:&nbsp;15<br></td><td><a class=\"ProveItLink\" href=\"../08bb575c48fa5d6a9f107cb67c988dd043c388d90/expr.ipynb\"><img src=\"../08bb575c48fa5d6a9f107cb67c988dd043c388d90/expr.png\" style=\"display:inline;vertical-align:middle;\" /></a></td></tr>\n",
       "<tr><td>14</td><td>Operation</td><td>operator:&nbsp;16<br>operands:&nbsp;17<br></td><td><a class=\"ProveItLink\" href=\"../e8c2b839ef36f1deadb30b7601e85a7072f1dcc10/expr.ipynb\"><img src=\"../e8c2b839ef36f1deadb30b7601e85a7072f1dcc10/expr.png\" style=\"display:inline;vertical-align:middle;\" /></a></td></tr>\n",
       "<tr><td>15</td><td>Operation</td><td>operator:&nbsp;41<br>operands:&nbsp;18<br></td><td><a class=\"ProveItLink\" href=\"../d550e8309ef79ca46e4c9fb5617a392ea678789b0/expr.ipynb\"><img src=\"../d550e8309ef79ca46e4c9fb5617a392ea678789b0/expr.png\" style=\"display:inline;vertical-align:middle;\" /></a></td></tr>\n",
       "<tr><td>16</td><td>Literal</td><td></td><td><a class=\"ProveItLink\" href=\"../../../../../logic/equality/__pv_it/common/fb96dc12b2aa8801dda64d0132b396c63d1502bb0/expr.ipynb\"><img src=\"../../../../../logic/equality/__pv_it/common/fb96dc12b2aa8801dda64d0132b396c63d1502bb0/expr.png\" style=\"display:inline;vertical-align:middle;\" /></a></td></tr>\n",
       "<tr><td>17</td><td>ExprTuple</td><td>19, 20</td><td><a class=\"ProveItLink\" href=\"../e014b0b707f541b535dc743b78bf37c7366afb7e0/expr.ipynb\"><img src=\"../e014b0b707f541b535dc743b78bf37c7366afb7e0/expr.png\" style=\"display:inline;vertical-align:middle;\" /></a></td></tr>\n",
       "<tr><td>18</td><td>ExprTuple</td><td>48, 21</td><td><a class=\"ProveItLink\" href=\"../54ad27fbcacfe9ab74eb88f77e3e29beb7c0d0f20/expr.ipynb\"><img src=\"../54ad27fbcacfe9ab74eb88f77e3e29beb7c0d0f20/expr.png\" style=\"display:inline;vertical-align:middle;\" /></a></td></tr>\n",
       "<tr><td>19</td><td>Operation</td><td>operator:&nbsp;23<br>operand:&nbsp;25<br></td><td><a class=\"ProveItLink\" href=\"../83dbcd5b12c1437df62c8728d0fbfd2dde7e1a660/expr.ipynb\"><img src=\"../83dbcd5b12c1437df62c8728d0fbfd2dde7e1a660/expr.png\" style=\"display:inline;vertical-align:middle;\" /></a></td></tr>\n",
       "<tr><td>20</td><td>Operation</td><td>operator:&nbsp;23<br>operand:&nbsp;26<br></td><td><a class=\"ProveItLink\" href=\"../527d7b8cf96d4f0e7cfa0952c6f30a453eaa048a0/expr.ipynb\"><img src=\"../527d7b8cf96d4f0e7cfa0952c6f30a453eaa048a0/expr.png\" style=\"display:inline;vertical-align:middle;\" /></a></td></tr>\n",
       "<tr><td>21</td><td>Literal</td><td></td><td><a class=\"ProveItLink\" href=\"../../../../number_sets/real_numbers/__pv_it/common/93cac87a1a47e613f7a83b23ef7891599a1a4cca0/expr.ipynb\"><img src=\"../../../../number_sets/real_numbers/__pv_it/common/93cac87a1a47e613f7a83b23ef7891599a1a4cca0/expr.png\" style=\"display:inline;vertical-align:middle;\" /></a></td></tr>\n",
       "<tr><td>22</td><td>ExprTuple</td><td>25</td><td><a class=\"ProveItLink\" href=\"../fd4efcc14fb062d1667727a0131b70560899a9a20/expr.ipynb\"><img src=\"../fd4efcc14fb062d1667727a0131b70560899a9a20/expr.png\" style=\"display:inline;vertical-align:middle;\" /></a></td></tr>\n",
       "<tr><td>23</td><td>Literal</td><td></td><td><a class=\"ProveItLink\" href=\"../../../../../logic/sets/cardinality/__pv_it/common/37cc8d68272d88ace1dbf77a85e417fe7e7954e60/expr.ipynb\"><img src=\"../../../../../logic/sets/cardinality/__pv_it/common/37cc8d68272d88ace1dbf77a85e417fe7e7954e60/expr.png\" style=\"display:inline;vertical-align:middle;\" /></a></td></tr>\n",
       "<tr><td>24</td><td>ExprTuple</td><td>26</td><td><a class=\"ProveItLink\" href=\"../0ecf266c0bcf06afd1fe7385bcca47f1a08ec8bc0/expr.ipynb\"><img src=\"../0ecf266c0bcf06afd1fe7385bcca47f1a08ec8bc0/expr.png\" style=\"display:inline;vertical-align:middle;\" /></a></td></tr>\n",
       "<tr><td>25</td><td>Operation</td><td>operator:&nbsp;28<br>operand:&nbsp;30<br></td><td><a class=\"ProveItLink\" href=\"../9e2cd9dad3e1c08b69d20135c36e719426beda280/expr.ipynb\"><img src=\"../9e2cd9dad3e1c08b69d20135c36e719426beda280/expr.png\" style=\"display:inline;vertical-align:middle;\" /></a></td></tr>\n",
       "<tr><td>26</td><td>Operation</td><td>operator:&nbsp;28<br>operand:&nbsp;31<br></td><td><a class=\"ProveItLink\" href=\"../163d320a859e545ea564cadde7c01d5476fe84480/expr.ipynb\"><img src=\"../163d320a859e545ea564cadde7c01d5476fe84480/expr.png\" style=\"display:inline;vertical-align:middle;\" /></a></td></tr>\n",
       "<tr><td>27</td><td>ExprTuple</td><td>30</td><td><a class=\"ProveItLink\" href=\"../54159e3247d3cd332c7f935dd50264da11757d680/expr.ipynb\"><img src=\"../54159e3247d3cd332c7f935dd50264da11757d680/expr.png\" style=\"display:inline;vertical-align:middle;\" /></a></td></tr>\n",
       "<tr><td>28</td><td>Literal</td><td></td><td><a class=\"ProveItLink\" href=\"../../../../../logic/sets/comprehension/__pv_it/common/b4bb00fffb81c35677d73fdf9e971725e2b59ae40/expr.ipynb\"><img src=\"../../../../../logic/sets/comprehension/__pv_it/common/b4bb00fffb81c35677d73fdf9e971725e2b59ae40/expr.png\" style=\"display:inline;vertical-align:middle;\" /></a></td></tr>\n",
       "<tr><td>29</td><td>ExprTuple</td><td>31</td><td><a class=\"ProveItLink\" href=\"../593b1e0e0b75d9a67cf1a72b0ecaa59a5495156f0/expr.ipynb\"><img src=\"../593b1e0e0b75d9a67cf1a72b0ecaa59a5495156f0/expr.png\" style=\"display:inline;vertical-align:middle;\" /></a></td></tr>\n",
       "<tr><td>30</td><td>Lambda</td><td>parameter:&nbsp;49<br>body:&nbsp;32<br></td><td><a class=\"ProveItLink\" href=\"../cb915a0a706b3e50f700d3a3bb17012da3f274af0/expr.ipynb\"><img src=\"../cb915a0a706b3e50f700d3a3bb17012da3f274af0/expr.png\" style=\"display:inline;vertical-align:middle;\" /></a></td></tr>\n",
       "<tr><td>31</td><td>Lambda</td><td>parameter:&nbsp;49<br>body:&nbsp;34<br></td><td><a class=\"ProveItLink\" href=\"../dfb0565c5b50bb62fbd7faad6eca762bd27974810/expr.ipynb\"><img src=\"../dfb0565c5b50bb62fbd7faad6eca762bd27974810/expr.png\" style=\"display:inline;vertical-align:middle;\" /></a></td></tr>\n",
       "<tr><td>32</td><td>Conditional</td><td>value:&nbsp;35<br>condition:&nbsp;37<br></td><td><a class=\"ProveItLink\" href=\"../97f5a8e6a4a4afa83b4c9cae0a76a0543e74c2e60/expr.ipynb\"><img src=\"../97f5a8e6a4a4afa83b4c9cae0a76a0543e74c2e60/expr.png\" style=\"display:inline;vertical-align:middle;\" /></a></td></tr>\n",
       "<tr><td>33</td><td>ExprTuple</td><td>49</td><td><a class=\"ProveItLink\" href=\"../../../../../__pv_it/common/eacfeccc0521684fcb20fe8f5180ac50fca471f20/expr.ipynb\"><img src=\"../../../../../__pv_it/common/eacfeccc0521684fcb20fe8f5180ac50fca471f20/expr.png\" style=\"display:inline;vertical-align:middle;\" /></a></td></tr>\n",
       "<tr><td>34</td><td>Conditional</td><td>value:&nbsp;36<br>condition:&nbsp;37<br></td><td><a class=\"ProveItLink\" href=\"../27ceaab7b09462049d31754ba651e34504c948bd0/expr.ipynb\"><img src=\"../27ceaab7b09462049d31754ba651e34504c948bd0/expr.png\" style=\"display:inline;vertical-align:middle;\" /></a></td></tr>\n",
       "<tr><td>35</td><td>Operation</td><td>operator:&nbsp;39<br>operands:&nbsp;38<br></td><td><a class=\"ProveItLink\" href=\"../f9894f1b26035c1f3c7c9c0adf5750e71fc532230/expr.ipynb\"><img src=\"../f9894f1b26035c1f3c7c9c0adf5750e71fc532230/expr.png\" style=\"display:inline;vertical-align:middle;\" /></a></td></tr>\n",
       "<tr><td>36</td><td>Operation</td><td>operator:&nbsp;39<br>operands:&nbsp;40<br></td><td><a class=\"ProveItLink\" href=\"../a5621018231b1a119649ee0115cd69afcaa82e330/expr.ipynb\"><img src=\"../a5621018231b1a119649ee0115cd69afcaa82e330/expr.png\" style=\"display:inline;vertical-align:middle;\" /></a></td></tr>\n",
       "<tr><td>37</td><td>Operation</td><td>operator:&nbsp;41<br>operands:&nbsp;42<br></td><td><a class=\"ProveItLink\" href=\"../e15daefd530e6af1913a3a751ea70ed093591b3d0/expr.ipynb\"><img src=\"../e15daefd530e6af1913a3a751ea70ed093591b3d0/expr.png\" style=\"display:inline;vertical-align:middle;\" /></a></td></tr>\n",
       "<tr><td>38</td><td>ExprTuple</td><td>43, 44</td><td><a class=\"ProveItLink\" href=\"../8fd7a667f60b4bd77a93b03976d82d67cfdc82410/expr.ipynb\"><img src=\"../8fd7a667f60b4bd77a93b03976d82d67cfdc82410/expr.png\" style=\"display:inline;vertical-align:middle;\" /></a></td></tr>\n",
       "<tr><td>39</td><td>Literal</td><td></td><td><a class=\"ProveItLink\" href=\"../../common/f61fe43eeba657b57e4fe7773885cfa81fe3dfc20/expr.ipynb\"><img src=\"../../common/f61fe43eeba657b57e4fe7773885cfa81fe3dfc20/expr.png\" style=\"display:inline;vertical-align:middle;\" /></a></td></tr>\n",
       "<tr><td>40</td><td>ExprTuple</td><td>49, 44</td><td><a class=\"ProveItLink\" href=\"../517304dcb09f80f0e179d358359bd7d64026ab7e0/expr.ipynb\"><img src=\"../517304dcb09f80f0e179d358359bd7d64026ab7e0/expr.png\" style=\"display:inline;vertical-align:middle;\" /></a></td></tr>\n",
       "<tr><td>41</td><td>Literal</td><td></td><td><a class=\"ProveItLink\" href=\"../../../../../logic/sets/membership/__pv_it/common/477487d8796864d23d5810f83761435f25167f690/expr.ipynb\"><img src=\"../../../../../logic/sets/membership/__pv_it/common/477487d8796864d23d5810f83761435f25167f690/expr.png\" style=\"display:inline;vertical-align:middle;\" /></a></td></tr>\n",
       "<tr><td>42</td><td>ExprTuple</td><td>49, 45</td><td><a class=\"ProveItLink\" href=\"../c7c06b26a27420fe15bf7758f31a7b4d4d978d0b0/expr.ipynb\"><img src=\"../c7c06b26a27420fe15bf7758f31a7b4d4d978d0b0/expr.png\" style=\"display:inline;vertical-align:middle;\" /></a></td></tr>\n",
       "<tr><td>43</td><td>Operation</td><td>operator:&nbsp;46<br>operands:&nbsp;47<br></td><td><a class=\"ProveItLink\" href=\"../fa97eba0d2a76306b11c54689b43841fa3db7d0a0/expr.ipynb\"><img src=\"../fa97eba0d2a76306b11c54689b43841fa3db7d0a0/expr.png\" style=\"display:inline;vertical-align:middle;\" /></a></td></tr>\n",
       "<tr><td>44</td><td>Variable</td><td></td><td><a class=\"ProveItLink\" href=\"../../../../../__pv_it/common/a14e64e007515ca145bc975c6db7e9098f3b12fd0/expr.ipynb\"><img src=\"../../../../../__pv_it/common/a14e64e007515ca145bc975c6db7e9098f3b12fd0/expr.png\" style=\"display:inline;vertical-align:middle;\" /></a></td></tr>\n",
       "<tr><td>45</td><td>Variable</td><td></td><td><a class=\"ProveItLink\" href=\"../../../../../__pv_it/common/38f47c5670ea8c5b56253448e95d8afb56bc09b40/expr.ipynb\"><img src=\"../../../../../__pv_it/common/38f47c5670ea8c5b56253448e95d8afb56bc09b40/expr.png\" style=\"display:inline;vertical-align:middle;\" /></a></td></tr>\n",
       "<tr><td>46</td><td>Literal</td><td></td><td><a class=\"ProveItLink\" href=\"../../../../addition/__pv_it/common/4b7effaab3619a1c2c38fe2dee8601df8ec714590/expr.ipynb\"><img src=\"../../../../addition/__pv_it/common/4b7effaab3619a1c2c38fe2dee8601df8ec714590/expr.png\" style=\"display:inline;vertical-align:middle;\" /></a></td></tr>\n",
       "<tr><td>47</td><td>ExprTuple</td><td>48, 49</td><td><a class=\"ProveItLink\" href=\"../a4b5cd76e2a4e9f35761a25bd0c07963f59df4710/expr.ipynb\"><img src=\"../a4b5cd76e2a4e9f35761a25bd0c07963f59df4710/expr.png\" style=\"display:inline;vertical-align:middle;\" /></a></td></tr>\n",
       "<tr><td>48</td><td>Variable</td><td></td><td><a class=\"ProveItLink\" href=\"../../../../../__pv_it/common/ceef4280a2f1cc604b455b54e735507244cc62cd0/expr.ipynb\"><img src=\"../../../../../__pv_it/common/ceef4280a2f1cc604b455b54e735507244cc62cd0/expr.png\" style=\"display:inline;vertical-align:middle;\" /></a></td></tr>\n",
       "<tr><td>49</td><td>Variable</td><td></td><td><a class=\"ProveItLink\" href=\"../../../../../__pv_it/common/a0d9d672aa5e272d907247690c152cc2c6daafb70/expr.ipynb\"><img src=\"../../../../../__pv_it/common/a0d9d672aa5e272d907247690c152cc2c6daafb70/expr.png\" style=\"display:inline;vertical-align:middle;\" /></a></td></tr>\n",
       "</table>\n"
      ],
      "text/plain": [
       "0. forall_{S | S subset_eq Real} [forall_{c in Real} (|{(c + x) mod L}_{x in S}| = |{x mod L}_{x in S}|)]\n",
       "   core type: Operation\n",
       "   operator: 7\n",
       "   operand: 2\n",
       "1. (S -> {forall_{c in Real} (|{(c + x) mod L}_{x in S}| = |{x mod L}_{x in S}|) if S subset_eq Real.)\n",
       "   core type: ExprTuple\n",
       "   sub-expressions: 2\n",
       "2. S -> {forall_{c in Real} (|{(c + x) mod L}_{x in S}| = |{x mod L}_{x in S}|) if S subset_eq Real.\n",
       "   core type: Lambda\n",
       "   parameter: 45\n",
       "   body: 4\n",
       "3. (S)\n",
       "   core type: ExprTuple\n",
       "   sub-expressions: 45\n",
       "4. {forall_{c in Real} (|{(c + x) mod L}_{x in S}| = |{x mod L}_{x in S}|) if S subset_eq Real.\n",
       "   core type: Conditional\n",
       "   value: 5\n",
       "   condition: 6\n",
       "5. forall_{c in Real} (|{(c + x) mod L}_{x in S}| = |{x mod L}_{x in S}|)\n",
       "   core type: Operation\n",
       "   operator: 7\n",
       "   operand: 11\n",
       "6. S subset_eq Real\n",
       "   core type: Operation\n",
       "   operator: 9\n",
       "   operands: 10\n",
       "7. forall\n",
       "   core type: Literal\n",
       "   sub-expressions: \n",
       "8. (c -> {|{(c + x) mod L}_{x in S}| = |{x mod L}_{x in S}| if c in Real.)\n",
       "   core type: ExprTuple\n",
       "   sub-expressions: 11\n",
       "9. subset_eq\n",
       "   core type: Literal\n",
       "   sub-expressions: \n",
       "10. (S, Real)\n",
       "    core type: ExprTuple\n",
       "    sub-expressions: 45, 21\n",
       "11. c -> {|{(c + x) mod L}_{x in S}| = |{x mod L}_{x in S}| if c in Real.\n",
       "    core type: Lambda\n",
       "    parameter: 48\n",
       "    body: 13\n",
       "12. (c)\n",
       "    core type: ExprTuple\n",
       "    sub-expressions: 48\n",
       "13. {|{(c + x) mod L}_{x in S}| = |{x mod L}_{x in S}| if c in Real.\n",
       "    core type: Conditional\n",
       "    value: 14\n",
       "    condition: 15\n",
       "14. |{(c + x) mod L}_{x in S}| = |{x mod L}_{x in S}|\n",
       "    core type: Operation\n",
       "    operator: 16\n",
       "    operands: 17\n",
       "15. c in Real\n",
       "    core type: Operation\n",
       "    operator: 41\n",
       "    operands: 18\n",
       "16. =\n",
       "    core type: Literal\n",
       "    sub-expressions: \n",
       "17. (|{(c + x) mod L}_{x in S}|, |{x mod L}_{x in S}|)\n",
       "    core type: ExprTuple\n",
       "    sub-expressions: 19, 20\n",
       "18. (c, Real)\n",
       "    core type: ExprTuple\n",
       "    sub-expressions: 48, 21\n",
       "19. |{(c + x) mod L}_{x in S}|\n",
       "    core type: Operation\n",
       "    operator: 23\n",
       "    operand: 25\n",
       "20. |{x mod L}_{x in S}|\n",
       "    core type: Operation\n",
       "    operator: 23\n",
       "    operand: 26\n",
       "21. Real\n",
       "    core type: Literal\n",
       "    sub-expressions: \n",
       "22. ({(c + x) mod L}_{x in S})\n",
       "    core type: ExprTuple\n",
       "    sub-expressions: 25\n",
       "23. card\n",
       "    core type: Literal\n",
       "    sub-expressions: \n",
       "24. ({x mod L}_{x in S})\n",
       "    core type: ExprTuple\n",
       "    sub-expressions: 26\n",
       "25. {(c + x) mod L}_{x in S}\n",
       "    core type: Operation\n",
       "    operator: 28\n",
       "    operand: 30\n",
       "26. {x mod L}_{x in S}\n",
       "    core type: Operation\n",
       "    operator: 28\n",
       "    operand: 31\n",
       "27. (x -> {(c + x) mod L if x in S.)\n",
       "    core type: ExprTuple\n",
       "    sub-expressions: 30\n",
       "28. SetOfAll\n",
       "    core type: Literal\n",
       "    sub-expressions: \n",
       "29. (x -> {x mod L if x in S.)\n",
       "    core type: ExprTuple\n",
       "    sub-expressions: 31\n",
       "30. x -> {(c + x) mod L if x in S.\n",
       "    core type: Lambda\n",
       "    parameter: 49\n",
       "    body: 32\n",
       "31. x -> {x mod L if x in S.\n",
       "    core type: Lambda\n",
       "    parameter: 49\n",
       "    body: 34\n",
       "32. {(c + x) mod L if x in S.\n",
       "    core type: Conditional\n",
       "    value: 35\n",
       "    condition: 37\n",
       "33. (x)\n",
       "    core type: ExprTuple\n",
       "    sub-expressions: 49\n",
       "34. {x mod L if x in S.\n",
       "    core type: Conditional\n",
       "    value: 36\n",
       "    condition: 37\n",
       "35. (c + x) mod L\n",
       "    core type: Operation\n",
       "    operator: 39\n",
       "    operands: 38\n",
       "36. x mod L\n",
       "    core type: Operation\n",
       "    operator: 39\n",
       "    operands: 40\n",
       "37. x in S\n",
       "    core type: Operation\n",
       "    operator: 41\n",
       "    operands: 42\n",
       "38. (c + x, L)\n",
       "    core type: ExprTuple\n",
       "    sub-expressions: 43, 44\n",
       "39. mod\n",
       "    core type: Literal\n",
       "    sub-expressions: \n",
       "40. (x, L)\n",
       "    core type: ExprTuple\n",
       "    sub-expressions: 49, 44\n",
       "41. in\n",
       "    core type: Literal\n",
       "    sub-expressions: \n",
       "42. (x, S)\n",
       "    core type: ExprTuple\n",
       "    sub-expressions: 49, 45\n",
       "43. c + x\n",
       "    core type: Operation\n",
       "    operator: 46\n",
       "    operands: 47\n",
       "44. L\n",
       "    core type: Variable\n",
       "    sub-expressions: \n",
       "45. S\n",
       "    core type: Variable\n",
       "    sub-expressions: \n",
       "46. +\n",
       "    core type: Literal\n",
       "    sub-expressions: \n",
       "47. (c, x)\n",
       "    core type: ExprTuple\n",
       "    sub-expressions: 48, 49\n",
       "48. c\n",
       "    core type: Variable\n",
       "    sub-expressions: \n",
       "49. x\n",
       "    core type: Variable\n",
       "    sub-expressions: "
      ]
     },
     "metadata": {},
     "output_type": "display_data"
    }
   ],
   "source": [
    "# display the expression information\n",
    "stored_expr.expr_info()"
   ]
  },
  {
   "cell_type": "code",
   "execution_count": null,
   "metadata": {},
   "outputs": [],
   "source": []
  }
 ],
 "metadata": {
  "kernelspec": {
   "display_name": "Python 3",
   "language": "python",
   "name": "python3"
  }
 },
 "nbformat": 4,
 "nbformat_minor": 0
}