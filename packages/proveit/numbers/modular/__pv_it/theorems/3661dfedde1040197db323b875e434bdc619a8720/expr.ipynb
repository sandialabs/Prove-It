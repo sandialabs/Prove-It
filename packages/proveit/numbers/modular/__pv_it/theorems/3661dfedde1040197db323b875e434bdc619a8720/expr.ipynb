{
 "cells": [
  {
   "cell_type": "markdown",
   "metadata": {},
   "source": [
    "Expression of type <a class=\"ProveItLink\" href=\"../../../../../../../doc/html/api/proveit.Lambda.html\">Lambda</a>\n",
    "=======================\n",
    "# from the theory of <a class=\"ProveItLink\" href=\"../../../_theory_nbs_/theory.ipynb\">proveit.numbers.modular</a>"
   ]
  },
  {
   "cell_type": "code",
   "execution_count": 1,
   "metadata": {},
   "outputs": [],
   "source": [
    "import proveit\n",
    "# Automation is not needed when building an expression:\n",
    "proveit.defaults.automation = False # This will speed things up.\n",
    "proveit.defaults.inline_pngs = False # Makes files smaller.\n",
    "%load_expr # Load the stored expression as 'stored_expr'\n",
    "# import Expression classes needed to build the expression\n",
    "from proveit import Conditional, Lambda, N, a, b, c, x\n",
    "from proveit.logic import Bijections, Forall, InSet\n",
    "from proveit.numbers import Integer, Interval, Mod, NaturalPos, one, subtract, zero"
   ]
  },
  {
   "cell_type": "code",
   "execution_count": 2,
   "metadata": {},
   "outputs": [
    {
     "data": {
      "text/html": [
       "<strong id=\"expr\">expr:</strong> <a class=\"ProveItLink\" href=\"expr.ipynb\"><img src=\"expr.png\" style=\"display:inline;vertical-align:middle;\" /></a><br>"
      ],
      "text/plain": [
       "<IPython.core.display.HTML object>"
      ]
     },
     "metadata": {},
     "output_type": "display_data"
    }
   ],
   "source": [
    "# build up the expression from sub-expressions\n",
    "expr = Lambda(N, Conditional(Forall(instance_param_or_params = [a, b, c], instance_expr = InSet(Lambda(x, Mod(x, N)), Bijections(Interval(a, b), Interval(zero, subtract(N, one)))), domain = Integer), InSet(N, NaturalPos)))"
   ]
  },
  {
   "cell_type": "code",
   "execution_count": 3,
   "metadata": {},
   "outputs": [
    {
     "name": "stdout",
     "output_type": "stream",
     "text": [
      "Passed sanity check: expr matches stored_expr\n"
     ]
    }
   ],
   "source": [
    "# check that the built expression is the same as the stored expression\n",
    "assert expr == stored_expr\n",
    "assert expr._style_id == stored_expr._style_id\n",
    "print(\"Passed sanity check: expr matches stored_expr\")"
   ]
  },
  {
   "cell_type": "code",
   "execution_count": 4,
   "metadata": {},
   "outputs": [
    {
     "name": "stdout",
     "output_type": "stream",
     "text": [
      "N \\mapsto \\left\\{\\forall_{a, b, c \\in \\mathbb{Z}}~\\left(\\left[x \\mapsto \\left(x ~\\textup{mod}~ N\\right)\\right] \\in \\left[\\{a~\\ldotp \\ldotp~b\\} \\xrightarrow[\\text{onto}]{\\text{1-to-1}} \\{0~\\ldotp \\ldotp~N - 1\\}\\right]\\right) \\textrm{ if } N \\in \\mathbb{N}^+\\right..\n"
     ]
    }
   ],
   "source": [
    "# Show the LaTeX representation of the expression for convenience if you need it.\n",
    "print(stored_expr.latex())"
   ]
  },
  {
   "cell_type": "code",
   "execution_count": 5,
   "metadata": {},
   "outputs": [
    {
     "data": {
      "text/html": [
       "no style options"
      ],
      "text/plain": [
       "no style options"
      ]
     },
     "metadata": {},
     "output_type": "display_data"
    }
   ],
   "source": [
    "stored_expr.style_options()"
   ]
  },
  {
   "cell_type": "code",
   "execution_count": 6,
   "metadata": {},
   "outputs": [
    {
     "data": {
      "text/html": [
       "<table><tr><th>&nbsp;</th><th>core type</th><th>sub-expressions</th><th>expression</th></tr>\n",
       "<tr><td>0</td><td>Lambda</td><td>parameter:&nbsp;46<br>body:&nbsp;2<br></td><td><a class=\"ProveItLink\" href=\"expr.ipynb\"><img src=\"expr.png\" style=\"display:inline;vertical-align:middle;\" /></a></td></tr>\n",
       "<tr><td>1</td><td>ExprTuple</td><td>46</td><td><a class=\"ProveItLink\" href=\"../521f75f434f4ff6386af76de258ad091194855920/expr.ipynb\"><img src=\"../521f75f434f4ff6386af76de258ad091194855920/expr.png\" style=\"display:inline;vertical-align:middle;\" /></a></td></tr>\n",
       "<tr><td>2</td><td>Conditional</td><td>value:&nbsp;3<br>condition:&nbsp;4<br></td><td><a class=\"ProveItLink\" href=\"../55be03ec7213c62acc165a7d11a51c7bc65f30e80/expr.ipynb\"><img src=\"../55be03ec7213c62acc165a7d11a51c7bc65f30e80/expr.png\" style=\"display:inline;vertical-align:middle;\" /></a></td></tr>\n",
       "<tr><td>3</td><td>Operation</td><td>operator:&nbsp;5<br>operand:&nbsp;8<br></td><td><a class=\"ProveItLink\" href=\"../0a8fa8f442f7eed272f06b64ec30f06459f168870/expr.ipynb\"><img src=\"../0a8fa8f442f7eed272f06b64ec30f06459f168870/expr.png\" style=\"display:inline;vertical-align:middle;\" /></a></td></tr>\n",
       "<tr><td>4</td><td>Operation</td><td>operator:&nbsp;28<br>operands:&nbsp;7<br></td><td><a class=\"ProveItLink\" href=\"../6a09797d4d208e470b8566e5b982e01c59f408340/expr.ipynb\"><img src=\"../6a09797d4d208e470b8566e5b982e01c59f408340/expr.png\" style=\"display:inline;vertical-align:middle;\" /></a></td></tr>\n",
       "<tr><td>5</td><td>Literal</td><td></td><td><a class=\"ProveItLink\" href=\"../../../../../logic/booleans/quantification/universality/__pv_it/common/083d2baa0b8ecab1d230f9ec29a15aa1355809fb0/expr.ipynb\"><img src=\"../../../../../logic/booleans/quantification/universality/__pv_it/common/083d2baa0b8ecab1d230f9ec29a15aa1355809fb0/expr.png\" style=\"display:inline;vertical-align:middle;\" /></a></td></tr>\n",
       "<tr><td>6</td><td>ExprTuple</td><td>8</td><td><a class=\"ProveItLink\" href=\"../e898e54475c4750341f5e39a35935250f56e2c550/expr.ipynb\"><img src=\"../e898e54475c4750341f5e39a35935250f56e2c550/expr.png\" style=\"display:inline;vertical-align:middle;\" /></a></td></tr>\n",
       "<tr><td>7</td><td>ExprTuple</td><td>46, 9</td><td><a class=\"ProveItLink\" href=\"../cd7a374ae133f24cdd25439c5ef8c5cb6fd0cc3d0/expr.ipynb\"><img src=\"../cd7a374ae133f24cdd25439c5ef8c5cb6fd0cc3d0/expr.png\" style=\"display:inline;vertical-align:middle;\" /></a></td></tr>\n",
       "<tr><td>8</td><td>Lambda</td><td>parameters:&nbsp;10<br>body:&nbsp;11<br></td><td><a class=\"ProveItLink\" href=\"../dfa5b00ce9bef57152dfa10b31893175b4a482f50/expr.ipynb\"><img src=\"../dfa5b00ce9bef57152dfa10b31893175b4a482f50/expr.png\" style=\"display:inline;vertical-align:middle;\" /></a></td></tr>\n",
       "<tr><td>9</td><td>Literal</td><td></td><td><a class=\"ProveItLink\" href=\"../../../../number_sets/natural_numbers/__pv_it/common/6111329435c43892c831c4793de96afbf80bdb3e0/expr.ipynb\"><img src=\"../../../../number_sets/natural_numbers/__pv_it/common/6111329435c43892c831c4793de96afbf80bdb3e0/expr.png\" style=\"display:inline;vertical-align:middle;\" /></a></td></tr>\n",
       "<tr><td>10</td><td>ExprTuple</td><td>40, 41, 34</td><td><a class=\"ProveItLink\" href=\"../a916c7f29c3abbaa62f0c6124e20bb5f504c28200/expr.ipynb\"><img src=\"../a916c7f29c3abbaa62f0c6124e20bb5f504c28200/expr.png\" style=\"display:inline;vertical-align:middle;\" /></a></td></tr>\n",
       "<tr><td>11</td><td>Conditional</td><td>value:&nbsp;12<br>condition:&nbsp;13<br></td><td><a class=\"ProveItLink\" href=\"../91c8c9193ed06367ecc2859a41285171b881b4000/expr.ipynb\"><img src=\"../91c8c9193ed06367ecc2859a41285171b881b4000/expr.png\" style=\"display:inline;vertical-align:middle;\" /></a></td></tr>\n",
       "<tr><td>12</td><td>Operation</td><td>operator:&nbsp;28<br>operands:&nbsp;14<br></td><td><a class=\"ProveItLink\" href=\"../c242bb21a534851a08cc7e206355145d1f5344580/expr.ipynb\"><img src=\"../c242bb21a534851a08cc7e206355145d1f5344580/expr.png\" style=\"display:inline;vertical-align:middle;\" /></a></td></tr>\n",
       "<tr><td>13</td><td>Operation</td><td>operator:&nbsp;15<br>operands:&nbsp;16<br></td><td><a class=\"ProveItLink\" href=\"../243a98107f8c1ff9f8accc4200979c89bd5fc7cc0/expr.ipynb\"><img src=\"../243a98107f8c1ff9f8accc4200979c89bd5fc7cc0/expr.png\" style=\"display:inline;vertical-align:middle;\" /></a></td></tr>\n",
       "<tr><td>14</td><td>ExprTuple</td><td>17, 18</td><td><a class=\"ProveItLink\" href=\"../3997e0cd83e5debd30839193c601775f47e6c59d0/expr.ipynb\"><img src=\"../3997e0cd83e5debd30839193c601775f47e6c59d0/expr.png\" style=\"display:inline;vertical-align:middle;\" /></a></td></tr>\n",
       "<tr><td>15</td><td>Literal</td><td></td><td><a class=\"ProveItLink\" href=\"../../../../../logic/booleans/conjunction/__pv_it/common/42118ff318bd65d98b1393f64ce7c2269feef76e0/expr.ipynb\"><img src=\"../../../../../logic/booleans/conjunction/__pv_it/common/42118ff318bd65d98b1393f64ce7c2269feef76e0/expr.png\" style=\"display:inline;vertical-align:middle;\" /></a></td></tr>\n",
       "<tr><td>16</td><td>ExprTuple</td><td>19, 20, 21</td><td><a class=\"ProveItLink\" href=\"../a151ca65e4774d2f2cf87fa0c2e00ef90559f7880/expr.ipynb\"><img src=\"../a151ca65e4774d2f2cf87fa0c2e00ef90559f7880/expr.png\" style=\"display:inline;vertical-align:middle;\" /></a></td></tr>\n",
       "<tr><td>17</td><td>Lambda</td><td>parameter:&nbsp;36<br>body:&nbsp;23<br></td><td><a class=\"ProveItLink\" href=\"../9461ab1d418a61fbf1ecc37a297fbf70edb592190/expr.ipynb\"><img src=\"../9461ab1d418a61fbf1ecc37a297fbf70edb592190/expr.png\" style=\"display:inline;vertical-align:middle;\" /></a></td></tr>\n",
       "<tr><td>18</td><td>Operation</td><td>operator:&nbsp;24<br>operands:&nbsp;25<br></td><td><a class=\"ProveItLink\" href=\"../40b62007c432a4c167bcd1b36ef9dfe3e294d7690/expr.ipynb\"><img src=\"../40b62007c432a4c167bcd1b36ef9dfe3e294d7690/expr.png\" style=\"display:inline;vertical-align:middle;\" /></a></td></tr>\n",
       "<tr><td>19</td><td>Operation</td><td>operator:&nbsp;28<br>operands:&nbsp;26<br></td><td><a class=\"ProveItLink\" href=\"../d8d02d2a77383d238ed10b8fda7965dfafa87db90/expr.ipynb\"><img src=\"../d8d02d2a77383d238ed10b8fda7965dfafa87db90/expr.png\" style=\"display:inline;vertical-align:middle;\" /></a></td></tr>\n",
       "<tr><td>20</td><td>Operation</td><td>operator:&nbsp;28<br>operands:&nbsp;27<br></td><td><a class=\"ProveItLink\" href=\"../035e0ae7bd8c0fe127ee5d2062443d6c874adcdd0/expr.ipynb\"><img src=\"../035e0ae7bd8c0fe127ee5d2062443d6c874adcdd0/expr.png\" style=\"display:inline;vertical-align:middle;\" /></a></td></tr>\n",
       "<tr><td>21</td><td>Operation</td><td>operator:&nbsp;28<br>operands:&nbsp;29<br></td><td><a class=\"ProveItLink\" href=\"../ab9efd361cdf04a40e51b5b0d3fd587cd7505e5a0/expr.ipynb\"><img src=\"../ab9efd361cdf04a40e51b5b0d3fd587cd7505e5a0/expr.png\" style=\"display:inline;vertical-align:middle;\" /></a></td></tr>\n",
       "<tr><td>22</td><td>ExprTuple</td><td>36</td><td><a class=\"ProveItLink\" href=\"../../../../../__pv_it/common/eacfeccc0521684fcb20fe8f5180ac50fca471f20/expr.ipynb\"><img src=\"../../../../../__pv_it/common/eacfeccc0521684fcb20fe8f5180ac50fca471f20/expr.png\" style=\"display:inline;vertical-align:middle;\" /></a></td></tr>\n",
       "<tr><td>23</td><td>Operation</td><td>operator:&nbsp;30<br>operands:&nbsp;31<br></td><td><a class=\"ProveItLink\" href=\"../9aa0477804488e23cfa9efc755f1a417a67fcb710/expr.ipynb\"><img src=\"../9aa0477804488e23cfa9efc755f1a417a67fcb710/expr.png\" style=\"display:inline;vertical-align:middle;\" /></a></td></tr>\n",
       "<tr><td>24</td><td>Literal</td><td></td><td><a class=\"ProveItLink\" href=\"../../../../../logic/sets/functions/bijections/__pv_it/common/4d5b70c2a4c97df1b8c27c8cfe8e6aacede0cb130/expr.ipynb\"><img src=\"../../../../../logic/sets/functions/bijections/__pv_it/common/4d5b70c2a4c97df1b8c27c8cfe8e6aacede0cb130/expr.png\" style=\"display:inline;vertical-align:middle;\" /></a></td></tr>\n",
       "<tr><td>25</td><td>ExprTuple</td><td>32, 33</td><td><a class=\"ProveItLink\" href=\"../4a421d40b22268d196290aa12bbbb5cf0caa373b0/expr.ipynb\"><img src=\"../4a421d40b22268d196290aa12bbbb5cf0caa373b0/expr.png\" style=\"display:inline;vertical-align:middle;\" /></a></td></tr>\n",
       "<tr><td>26</td><td>ExprTuple</td><td>40, 35</td><td><a class=\"ProveItLink\" href=\"../6381f047505cef51bfb3432d8df76f1cfff47cae0/expr.ipynb\"><img src=\"../6381f047505cef51bfb3432d8df76f1cfff47cae0/expr.png\" style=\"display:inline;vertical-align:middle;\" /></a></td></tr>\n",
       "<tr><td>27</td><td>ExprTuple</td><td>41, 35</td><td><a class=\"ProveItLink\" href=\"../7a5273c178c04cb3ce78308074ba517705b130f80/expr.ipynb\"><img src=\"../7a5273c178c04cb3ce78308074ba517705b130f80/expr.png\" style=\"display:inline;vertical-align:middle;\" /></a></td></tr>\n",
       "<tr><td>28</td><td>Literal</td><td></td><td><a class=\"ProveItLink\" href=\"../../../../../logic/sets/membership/__pv_it/common/477487d8796864d23d5810f83761435f25167f690/expr.ipynb\"><img src=\"../../../../../logic/sets/membership/__pv_it/common/477487d8796864d23d5810f83761435f25167f690/expr.png\" style=\"display:inline;vertical-align:middle;\" /></a></td></tr>\n",
       "<tr><td>29</td><td>ExprTuple</td><td>34, 35</td><td><a class=\"ProveItLink\" href=\"../91f20416e9a6ab1a27769f4eed666e1a275fd1b40/expr.ipynb\"><img src=\"../91f20416e9a6ab1a27769f4eed666e1a275fd1b40/expr.png\" style=\"display:inline;vertical-align:middle;\" /></a></td></tr>\n",
       "<tr><td>30</td><td>Literal</td><td></td><td><a class=\"ProveItLink\" href=\"../../common/f61fe43eeba657b57e4fe7773885cfa81fe3dfc20/expr.ipynb\"><img src=\"../../common/f61fe43eeba657b57e4fe7773885cfa81fe3dfc20/expr.png\" style=\"display:inline;vertical-align:middle;\" /></a></td></tr>\n",
       "<tr><td>31</td><td>ExprTuple</td><td>36, 46</td><td><a class=\"ProveItLink\" href=\"../92fe64f83a2aeee096de839308048dc30abc19540/expr.ipynb\"><img src=\"../92fe64f83a2aeee096de839308048dc30abc19540/expr.png\" style=\"display:inline;vertical-align:middle;\" /></a></td></tr>\n",
       "<tr><td>32</td><td>Operation</td><td>operator:&nbsp;38<br>operands:&nbsp;37<br></td><td><a class=\"ProveItLink\" href=\"../498872fecc183ccfbbe24c2b7a9ae11a74603e9a0/expr.ipynb\"><img src=\"../498872fecc183ccfbbe24c2b7a9ae11a74603e9a0/expr.png\" style=\"display:inline;vertical-align:middle;\" /></a></td></tr>\n",
       "<tr><td>33</td><td>Operation</td><td>operator:&nbsp;38<br>operands:&nbsp;39<br></td><td><a class=\"ProveItLink\" href=\"../7149cca2415bb728210f4b2e68d9c368066573b40/expr.ipynb\"><img src=\"../7149cca2415bb728210f4b2e68d9c368066573b40/expr.png\" style=\"display:inline;vertical-align:middle;\" /></a></td></tr>\n",
       "<tr><td>34</td><td>Variable</td><td></td><td><a class=\"ProveItLink\" href=\"../../../../../__pv_it/common/ceef4280a2f1cc604b455b54e735507244cc62cd0/expr.ipynb\"><img src=\"../../../../../__pv_it/common/ceef4280a2f1cc604b455b54e735507244cc62cd0/expr.png\" style=\"display:inline;vertical-align:middle;\" /></a></td></tr>\n",
       "<tr><td>35</td><td>Literal</td><td></td><td><a class=\"ProveItLink\" href=\"../../../../number_sets/integers/__pv_it/common/e6b4e90f9467053e055a4fd2f735c0bb79cb79300/expr.ipynb\"><img src=\"../../../../number_sets/integers/__pv_it/common/e6b4e90f9467053e055a4fd2f735c0bb79cb79300/expr.png\" style=\"display:inline;vertical-align:middle;\" /></a></td></tr>\n",
       "<tr><td>36</td><td>Variable</td><td></td><td><a class=\"ProveItLink\" href=\"../../../../../__pv_it/common/a0d9d672aa5e272d907247690c152cc2c6daafb70/expr.ipynb\"><img src=\"../../../../../__pv_it/common/a0d9d672aa5e272d907247690c152cc2c6daafb70/expr.png\" style=\"display:inline;vertical-align:middle;\" /></a></td></tr>\n",
       "<tr><td>37</td><td>ExprTuple</td><td>40, 41</td><td><a class=\"ProveItLink\" href=\"../3dcd5ceea6334d8cb48fe14fdae236293aa9a6050/expr.ipynb\"><img src=\"../3dcd5ceea6334d8cb48fe14fdae236293aa9a6050/expr.png\" style=\"display:inline;vertical-align:middle;\" /></a></td></tr>\n",
       "<tr><td>38</td><td>Literal</td><td></td><td><a class=\"ProveItLink\" href=\"../../../../number_sets/integers/__pv_it/common/92f3a0a77e3c3ea8e4a5c8674edadc54e4f57d550/expr.ipynb\"><img src=\"../../../../number_sets/integers/__pv_it/common/92f3a0a77e3c3ea8e4a5c8674edadc54e4f57d550/expr.png\" style=\"display:inline;vertical-align:middle;\" /></a></td></tr>\n",
       "<tr><td>39</td><td>ExprTuple</td><td>42, 43</td><td><a class=\"ProveItLink\" href=\"../9baeb707cbdd42fd0b623579eebae28df28015fb0/expr.ipynb\"><img src=\"../9baeb707cbdd42fd0b623579eebae28df28015fb0/expr.png\" style=\"display:inline;vertical-align:middle;\" /></a></td></tr>\n",
       "<tr><td>40</td><td>Variable</td><td></td><td><a class=\"ProveItLink\" href=\"../../../../../__pv_it/common/c06c606ec12678c58933ac85412ecadc2ae28be60/expr.ipynb\"><img src=\"../../../../../__pv_it/common/c06c606ec12678c58933ac85412ecadc2ae28be60/expr.png\" style=\"display:inline;vertical-align:middle;\" /></a></td></tr>\n",
       "<tr><td>41</td><td>Variable</td><td></td><td><a class=\"ProveItLink\" href=\"../../../../../__pv_it/common/195236b98c6c564a75b5dbada74b173bc52d5c3e0/expr.ipynb\"><img src=\"../../../../../__pv_it/common/195236b98c6c564a75b5dbada74b173bc52d5c3e0/expr.png\" style=\"display:inline;vertical-align:middle;\" /></a></td></tr>\n",
       "<tr><td>42</td><td>Literal</td><td></td><td><a class=\"ProveItLink\" href=\"../../../../numerals/__pv_it/common/dd4e19e8b134dfb293470ea55fe3589b0ab9f8040/expr.ipynb\"><img src=\"../../../../numerals/__pv_it/common/dd4e19e8b134dfb293470ea55fe3589b0ab9f8040/expr.png\" style=\"display:inline;vertical-align:middle;\" /></a></td></tr>\n",
       "<tr><td>43</td><td>Operation</td><td>operator:&nbsp;44<br>operands:&nbsp;45<br></td><td><a class=\"ProveItLink\" href=\"../ab266bbdfdf95f81ed6b56a1e075d9000ccd4fce0/expr.ipynb\"><img src=\"../ab266bbdfdf95f81ed6b56a1e075d9000ccd4fce0/expr.png\" style=\"display:inline;vertical-align:middle;\" /></a></td></tr>\n",
       "<tr><td>44</td><td>Literal</td><td></td><td><a class=\"ProveItLink\" href=\"../../../../addition/__pv_it/common/4b7effaab3619a1c2c38fe2dee8601df8ec714590/expr.ipynb\"><img src=\"../../../../addition/__pv_it/common/4b7effaab3619a1c2c38fe2dee8601df8ec714590/expr.png\" style=\"display:inline;vertical-align:middle;\" /></a></td></tr>\n",
       "<tr><td>45</td><td>ExprTuple</td><td>46, 47</td><td><a class=\"ProveItLink\" href=\"../988d509e7d0950ec7b4e2f3ece2f22c8e4b475f10/expr.ipynb\"><img src=\"../988d509e7d0950ec7b4e2f3ece2f22c8e4b475f10/expr.png\" style=\"display:inline;vertical-align:middle;\" /></a></td></tr>\n",
       "<tr><td>46</td><td>Variable</td><td></td><td><a class=\"ProveItLink\" href=\"../../../../../__pv_it/common/ec2f9d003f907f9688d46f19f6df289e52cc63ce0/expr.ipynb\"><img src=\"../../../../../__pv_it/common/ec2f9d003f907f9688d46f19f6df289e52cc63ce0/expr.png\" style=\"display:inline;vertical-align:middle;\" /></a></td></tr>\n",
       "<tr><td>47</td><td>Operation</td><td>operator:&nbsp;48<br>operand:&nbsp;50<br></td><td><a class=\"ProveItLink\" href=\"../bf4beda21975fe8a0a5007615b5bcc943da59bb20/expr.ipynb\"><img src=\"../bf4beda21975fe8a0a5007615b5bcc943da59bb20/expr.png\" style=\"display:inline;vertical-align:middle;\" /></a></td></tr>\n",
       "<tr><td>48</td><td>Literal</td><td></td><td><a class=\"ProveItLink\" href=\"../../../../negation/__pv_it/common/221b3c4d1770ee9051b7c044c3f9ec61196fc34b0/expr.ipynb\"><img src=\"../../../../negation/__pv_it/common/221b3c4d1770ee9051b7c044c3f9ec61196fc34b0/expr.png\" style=\"display:inline;vertical-align:middle;\" /></a></td></tr>\n",
       "<tr><td>49</td><td>ExprTuple</td><td>50</td><td><a class=\"ProveItLink\" href=\"../b9e4f0dffece176bbe2f36127440684a20e0468e0/expr.ipynb\"><img src=\"../b9e4f0dffece176bbe2f36127440684a20e0468e0/expr.png\" style=\"display:inline;vertical-align:middle;\" /></a></td></tr>\n",
       "<tr><td>50</td><td>Literal</td><td></td><td><a class=\"ProveItLink\" href=\"../../../../numerals/__pv_it/common/682157d4892d216d9e5626ed533aff9b56b9506e0/expr.ipynb\"><img src=\"../../../../numerals/__pv_it/common/682157d4892d216d9e5626ed533aff9b56b9506e0/expr.png\" style=\"display:inline;vertical-align:middle;\" /></a></td></tr>\n",
       "</table>\n"
      ],
      "text/plain": [
       "0. N -> {forall_{a, b, c in Integer} ([x -> (x mod N)] in Bijections({a .. b}, {0 .. N - 1})) if N in NaturalPos.\n",
       "   core type: Lambda\n",
       "   parameter: 46\n",
       "   body: 2\n",
       "1. (N)\n",
       "   core type: ExprTuple\n",
       "   sub-expressions: 46\n",
       "2. {forall_{a, b, c in Integer} ([x -> (x mod N)] in Bijections({a .. b}, {0 .. N - 1})) if N in NaturalPos.\n",
       "   core type: Conditional\n",
       "   value: 3\n",
       "   condition: 4\n",
       "3. forall_{a, b, c in Integer} ([x -> (x mod N)] in Bijections({a .. b}, {0 .. N - 1}))\n",
       "   core type: Operation\n",
       "   operator: 5\n",
       "   operand: 8\n",
       "4. N in NaturalPos\n",
       "   core type: Operation\n",
       "   operator: 28\n",
       "   operands: 7\n",
       "5. forall\n",
       "   core type: Literal\n",
       "   sub-expressions: \n",
       "6. ((a, b, c) -> {[x -> (x mod N)] in Bijections({a .. b}, {0 .. N - 1}) if a in Integer ,  b in Integer ,  c in Integer.)\n",
       "   core type: ExprTuple\n",
       "   sub-expressions: 8\n",
       "7. (N, NaturalPos)\n",
       "   core type: ExprTuple\n",
       "   sub-expressions: 46, 9\n",
       "8. (a, b, c) -> {[x -> (x mod N)] in Bijections({a .. b}, {0 .. N - 1}) if a in Integer ,  b in Integer ,  c in Integer.\n",
       "   core type: Lambda\n",
       "   parameters: 10\\n   body: 11\n",
       "9. NaturalPos\n",
       "   core type: Literal\n",
       "   sub-expressions: \n",
       "10. (a, b, c)\n",
       "    core type: ExprTuple\n",
       "    sub-expressions: 40, 41, 34\n",
       "11. {[x -> (x mod N)] in Bijections({a .. b}, {0 .. N - 1}) if a in Integer ,  b in Integer ,  c in Integer.\n",
       "    core type: Conditional\n",
       "    value: 12\n",
       "    condition: 13\n",
       "12. [x -> (x mod N)] in Bijections({a .. b}, {0 .. N - 1})\n",
       "    core type: Operation\n",
       "    operator: 28\n",
       "    operands: 14\n",
       "13. (a in Integer) and (b in Integer) and (c in Integer)\n",
       "    core type: Operation\n",
       "    operator: 15\n",
       "    operands: 16\n",
       "14. (x -> (x mod N), Bijections({a .. b}, {0 .. N - 1}))\n",
       "    core type: ExprTuple\n",
       "    sub-expressions: 17, 18\n",
       "15. and\n",
       "    core type: Literal\n",
       "    sub-expressions: \n",
       "16. (a in Integer, b in Integer, c in Integer)\n",
       "    core type: ExprTuple\n",
       "    sub-expressions: 19, 20, 21\n",
       "17. x -> (x mod N)\n",
       "    core type: Lambda\n",
       "    parameter: 36\n",
       "    body: 23\n",
       "18. Bijections({a .. b}, {0 .. N - 1})\n",
       "    core type: Operation\n",
       "    operator: 24\n",
       "    operands: 25\n",
       "19. a in Integer\n",
       "    core type: Operation\n",
       "    operator: 28\n",
       "    operands: 26\n",
       "20. b in Integer\n",
       "    core type: Operation\n",
       "    operator: 28\n",
       "    operands: 27\n",
       "21. c in Integer\n",
       "    core type: Operation\n",
       "    operator: 28\n",
       "    operands: 29\n",
       "22. (x)\n",
       "    core type: ExprTuple\n",
       "    sub-expressions: 36\n",
       "23. x mod N\n",
       "    core type: Operation\n",
       "    operator: 30\n",
       "    operands: 31\n",
       "24. Bijections\n",
       "    core type: Literal\n",
       "    sub-expressions: \n",
       "25. ({a .. b}, {0 .. N - 1})\n",
       "    core type: ExprTuple\n",
       "    sub-expressions: 32, 33\n",
       "26. (a, Integer)\n",
       "    core type: ExprTuple\n",
       "    sub-expressions: 40, 35\n",
       "27. (b, Integer)\n",
       "    core type: ExprTuple\n",
       "    sub-expressions: 41, 35\n",
       "28. in\n",
       "    core type: Literal\n",
       "    sub-expressions: \n",
       "29. (c, Integer)\n",
       "    core type: ExprTuple\n",
       "    sub-expressions: 34, 35\n",
       "30. mod\n",
       "    core type: Literal\n",
       "    sub-expressions: \n",
       "31. (x, N)\n",
       "    core type: ExprTuple\n",
       "    sub-expressions: 36, 46\n",
       "32. {a .. b}\n",
       "    core type: Operation\n",
       "    operator: 38\n",
       "    operands: 37\n",
       "33. {0 .. N - 1}\n",
       "    core type: Operation\n",
       "    operator: 38\n",
       "    operands: 39\n",
       "34. c\n",
       "    core type: Variable\n",
       "    sub-expressions: \n",
       "35. Integer\n",
       "    core type: Literal\n",
       "    sub-expressions: \n",
       "36. x\n",
       "    core type: Variable\n",
       "    sub-expressions: \n",
       "37. (a, b)\n",
       "    core type: ExprTuple\n",
       "    sub-expressions: 40, 41\n",
       "38. Interval\n",
       "    core type: Literal\n",
       "    sub-expressions: \n",
       "39. (0, N - 1)\n",
       "    core type: ExprTuple\n",
       "    sub-expressions: 42, 43\n",
       "40. a\n",
       "    core type: Variable\n",
       "    sub-expressions: \n",
       "41. b\n",
       "    core type: Variable\n",
       "    sub-expressions: \n",
       "42. 0\n",
       "    core type: Literal\n",
       "    sub-expressions: \n",
       "43. N - 1\n",
       "    core type: Operation\n",
       "    operator: 44\n",
       "    operands: 45\n",
       "44. +\n",
       "    core type: Literal\n",
       "    sub-expressions: \n",
       "45. (N, -1)\n",
       "    core type: ExprTuple\n",
       "    sub-expressions: 46, 47\n",
       "46. N\n",
       "    core type: Variable\n",
       "    sub-expressions: \n",
       "47. -1\n",
       "    core type: Operation\n",
       "    operator: 48\n",
       "    operand: 50\n",
       "48. -\n",
       "    core type: Literal\n",
       "    sub-expressions: \n",
       "49. (1)\n",
       "    core type: ExprTuple\n",
       "    sub-expressions: 50\n",
       "50. 1\n",
       "    core type: Literal\n",
       "    sub-expressions: "
      ]
     },
     "metadata": {},
     "output_type": "display_data"
    }
   ],
   "source": [
    "# display the expression information\n",
    "stored_expr.expr_info()"
   ]
  },
  {
   "cell_type": "code",
   "execution_count": null,
   "metadata": {},
   "outputs": [],
   "source": []
  }
 ],
 "metadata": {
  "kernelspec": {
   "display_name": "Python 3",
   "language": "python",
   "name": "python3"
  }
 },
 "nbformat": 4,
 "nbformat_minor": 0
}