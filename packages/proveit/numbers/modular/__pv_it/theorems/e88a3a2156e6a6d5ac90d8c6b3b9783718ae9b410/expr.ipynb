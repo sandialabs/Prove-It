{
 "cells": [
  {
   "cell_type": "markdown",
   "metadata": {},
   "source": [
    "Expression of type <a class=\"ProveItLink\" href=\"../../../../../../../doc/html/api/proveit.ExprTuple.html\">ExprTuple</a>\n",
    "=======================\n",
    "# from the theory of <a class=\"ProveItLink\" href=\"../../../_theory_nbs_/theory.ipynb\">proveit.numbers.modular</a>"
   ]
  },
  {
   "cell_type": "code",
   "execution_count": 1,
   "metadata": {},
   "outputs": [],
   "source": [
    "import proveit\n",
    "# Automation is not needed when building an expression:\n",
    "proveit.defaults.automation = False # This will speed things up.\n",
    "proveit.defaults.inline_pngs = False # Makes files smaller.\n",
    "%load_expr # Load the stored expression as 'stored_expr'\n",
    "# import Expression classes needed to build the expression\n",
    "from proveit import Conditional, ExprTuple, Lambda, N, a, b, x\n",
    "from proveit.logic import Card, Equals, Forall, InSet, SetOfAll\n",
    "from proveit.numbers import Integer, Interval, Mod, NaturalPos, greater_eq, one, subtract, zero"
   ]
  },
  {
   "cell_type": "code",
   "execution_count": 2,
   "metadata": {},
   "outputs": [
    {
     "data": {
      "text/html": [
       "<strong id=\"expr\">expr:</strong> <a class=\"ProveItLink\" href=\"expr.ipynb\"><img src=\"expr.png\" style=\"display:inline;vertical-align:middle;\" /></a><br>"
      ],
      "text/plain": [
       "<IPython.core.display.HTML object>"
      ]
     },
     "metadata": {},
     "output_type": "display_data"
    }
   ],
   "source": [
    "# build up the expression from sub-expressions\n",
    "sub_expr1 = Interval(a, b)\n",
    "expr = ExprTuple(Lambda(N, Conditional(Forall(instance_param_or_params = [a, b], instance_expr = Equals(SetOfAll(instance_param_or_params = [x], instance_element = Mod(x, N), domain = sub_expr1), Interval(zero, subtract(N, one))), domain = Integer, condition = greater_eq(Card(sub_expr1), N)), InSet(N, NaturalPos))))"
   ]
  },
  {
   "cell_type": "code",
   "execution_count": 3,
   "metadata": {},
   "outputs": [
    {
     "name": "stdout",
     "output_type": "stream",
     "text": [
      "Passed sanity check: expr matches stored_expr\n"
     ]
    }
   ],
   "source": [
    "# check that the built expression is the same as the stored expression\n",
    "assert expr == stored_expr\n",
    "assert expr._style_id == stored_expr._style_id\n",
    "print(\"Passed sanity check: expr matches stored_expr\")"
   ]
  },
  {
   "cell_type": "code",
   "execution_count": 4,
   "metadata": {},
   "outputs": [
    {
     "name": "stdout",
     "output_type": "stream",
     "text": [
      "\\left(N \\mapsto \\left\\{\\forall_{a, b \\in \\mathbb{Z}~|~|\\{a~\\ldotp \\ldotp~b\\}| \\geq N}~\\left(\\left\\{x ~\\textup{mod}~ N\\right\\}_{x \\in \\{a~\\ldotp \\ldotp~b\\}} = \\{0~\\ldotp \\ldotp~N - 1\\}\\right) \\textrm{ if } N \\in \\mathbb{N}^+\\right..\\right)\n"
     ]
    }
   ],
   "source": [
    "# Show the LaTeX representation of the expression for convenience if you need it.\n",
    "print(stored_expr.latex())"
   ]
  },
  {
   "cell_type": "code",
   "execution_count": 5,
   "metadata": {},
   "outputs": [
    {
     "data": {
      "text/html": [
       "no style options"
      ],
      "text/plain": [
       "no style options"
      ]
     },
     "metadata": {},
     "output_type": "display_data"
    }
   ],
   "source": [
    "stored_expr.style_options()"
   ]
  },
  {
   "cell_type": "code",
   "execution_count": 6,
   "metadata": {},
   "outputs": [
    {
     "data": {
      "text/html": [
       "<table><tr><th>&nbsp;</th><th>core type</th><th>sub-expressions</th><th>expression</th></tr>\n",
       "<tr><td>0</td><td>ExprTuple</td><td>1</td><td><a class=\"ProveItLink\" href=\"expr.ipynb\"><img src=\"expr.png\" style=\"display:inline;vertical-align:middle;\" /></a></td></tr>\n",
       "<tr><td>1</td><td>Lambda</td><td>parameter:&nbsp;50<br>body:&nbsp;3<br></td><td><a class=\"ProveItLink\" href=\"../ae7de7c104a741861ad86114bb2724791a32c1330/expr.ipynb\"><img src=\"../ae7de7c104a741861ad86114bb2724791a32c1330/expr.png\" style=\"display:inline;vertical-align:middle;\" /></a></td></tr>\n",
       "<tr><td>2</td><td>ExprTuple</td><td>50</td><td><a class=\"ProveItLink\" href=\"../521f75f434f4ff6386af76de258ad091194855920/expr.ipynb\"><img src=\"../521f75f434f4ff6386af76de258ad091194855920/expr.png\" style=\"display:inline;vertical-align:middle;\" /></a></td></tr>\n",
       "<tr><td>3</td><td>Conditional</td><td>value:&nbsp;4<br>condition:&nbsp;5<br></td><td><a class=\"ProveItLink\" href=\"../523ab777454973c3840a7a5ee75fecb8e7d7b9b30/expr.ipynb\"><img src=\"../523ab777454973c3840a7a5ee75fecb8e7d7b9b30/expr.png\" style=\"display:inline;vertical-align:middle;\" /></a></td></tr>\n",
       "<tr><td>4</td><td>Operation</td><td>operator:&nbsp;6<br>operand:&nbsp;9<br></td><td><a class=\"ProveItLink\" href=\"../4dcfb8fb215ad4dff8c0ef9e6a6ce20babf9a4b40/expr.ipynb\"><img src=\"../4dcfb8fb215ad4dff8c0ef9e6a6ce20babf9a4b40/expr.png\" style=\"display:inline;vertical-align:middle;\" /></a></td></tr>\n",
       "<tr><td>5</td><td>Operation</td><td>operator:&nbsp;46<br>operands:&nbsp;8<br></td><td><a class=\"ProveItLink\" href=\"../6a09797d4d208e470b8566e5b982e01c59f408340/expr.ipynb\"><img src=\"../6a09797d4d208e470b8566e5b982e01c59f408340/expr.png\" style=\"display:inline;vertical-align:middle;\" /></a></td></tr>\n",
       "<tr><td>6</td><td>Literal</td><td></td><td><a class=\"ProveItLink\" href=\"../../../../../logic/booleans/quantification/universality/__pv_it/common/083d2baa0b8ecab1d230f9ec29a15aa1355809fb0/expr.ipynb\"><img src=\"../../../../../logic/booleans/quantification/universality/__pv_it/common/083d2baa0b8ecab1d230f9ec29a15aa1355809fb0/expr.png\" style=\"display:inline;vertical-align:middle;\" /></a></td></tr>\n",
       "<tr><td>7</td><td>ExprTuple</td><td>9</td><td><a class=\"ProveItLink\" href=\"../cb17cd36a147b54b8138767f7903ba221d7772ee0/expr.ipynb\"><img src=\"../cb17cd36a147b54b8138767f7903ba221d7772ee0/expr.png\" style=\"display:inline;vertical-align:middle;\" /></a></td></tr>\n",
       "<tr><td>8</td><td>ExprTuple</td><td>50, 10</td><td><a class=\"ProveItLink\" href=\"../cd7a374ae133f24cdd25439c5ef8c5cb6fd0cc3d0/expr.ipynb\"><img src=\"../cd7a374ae133f24cdd25439c5ef8c5cb6fd0cc3d0/expr.png\" style=\"display:inline;vertical-align:middle;\" /></a></td></tr>\n",
       "<tr><td>9</td><td>Lambda</td><td>parameters:&nbsp;55<br>body:&nbsp;11<br></td><td><a class=\"ProveItLink\" href=\"../cd44c497aefdb5da9f984d45fbffc34110ac7fb30/expr.ipynb\"><img src=\"../cd44c497aefdb5da9f984d45fbffc34110ac7fb30/expr.png\" style=\"display:inline;vertical-align:middle;\" /></a></td></tr>\n",
       "<tr><td>10</td><td>Literal</td><td></td><td><a class=\"ProveItLink\" href=\"../../../../number_sets/natural_numbers/__pv_it/common/6111329435c43892c831c4793de96afbf80bdb3e0/expr.ipynb\"><img src=\"../../../../number_sets/natural_numbers/__pv_it/common/6111329435c43892c831c4793de96afbf80bdb3e0/expr.png\" style=\"display:inline;vertical-align:middle;\" /></a></td></tr>\n",
       "<tr><td>11</td><td>Conditional</td><td>value:&nbsp;12<br>condition:&nbsp;13<br></td><td><a class=\"ProveItLink\" href=\"../c0194abd145af9e1a68641cdcefb3badada90fc00/expr.ipynb\"><img src=\"../c0194abd145af9e1a68641cdcefb3badada90fc00/expr.png\" style=\"display:inline;vertical-align:middle;\" /></a></td></tr>\n",
       "<tr><td>12</td><td>Operation</td><td>operator:&nbsp;14<br>operands:&nbsp;15<br></td><td><a class=\"ProveItLink\" href=\"../d04359e11f0625db3103210afc30a79fc5adf9c00/expr.ipynb\"><img src=\"../d04359e11f0625db3103210afc30a79fc5adf9c00/expr.png\" style=\"display:inline;vertical-align:middle;\" /></a></td></tr>\n",
       "<tr><td>13</td><td>Operation</td><td>operator:&nbsp;16<br>operands:&nbsp;17<br></td><td><a class=\"ProveItLink\" href=\"../ebde14378de3dac01a4de5986e366a3ef1b980610/expr.ipynb\"><img src=\"../ebde14378de3dac01a4de5986e366a3ef1b980610/expr.png\" style=\"display:inline;vertical-align:middle;\" /></a></td></tr>\n",
       "<tr><td>14</td><td>Literal</td><td></td><td><a class=\"ProveItLink\" href=\"../../../../../logic/equality/__pv_it/common/fb96dc12b2aa8801dda64d0132b396c63d1502bb0/expr.ipynb\"><img src=\"../../../../../logic/equality/__pv_it/common/fb96dc12b2aa8801dda64d0132b396c63d1502bb0/expr.png\" style=\"display:inline;vertical-align:middle;\" /></a></td></tr>\n",
       "<tr><td>15</td><td>ExprTuple</td><td>18, 19</td><td><a class=\"ProveItLink\" href=\"../ecca384535bd027a0e613c9ae2a554e284acb0450/expr.ipynb\"><img src=\"../ecca384535bd027a0e613c9ae2a554e284acb0450/expr.png\" style=\"display:inline;vertical-align:middle;\" /></a></td></tr>\n",
       "<tr><td>16</td><td>Literal</td><td></td><td><a class=\"ProveItLink\" href=\"../../../../../logic/booleans/conjunction/__pv_it/common/42118ff318bd65d98b1393f64ce7c2269feef76e0/expr.ipynb\"><img src=\"../../../../../logic/booleans/conjunction/__pv_it/common/42118ff318bd65d98b1393f64ce7c2269feef76e0/expr.png\" style=\"display:inline;vertical-align:middle;\" /></a></td></tr>\n",
       "<tr><td>17</td><td>ExprTuple</td><td>20, 21, 22</td><td><a class=\"ProveItLink\" href=\"../c0faada3ae6ce06bc11a8556d87a1cde3b910c9a0/expr.ipynb\"><img src=\"../c0faada3ae6ce06bc11a8556d87a1cde3b910c9a0/expr.png\" style=\"display:inline;vertical-align:middle;\" /></a></td></tr>\n",
       "<tr><td>18</td><td>Operation</td><td>operator:&nbsp;23<br>operand:&nbsp;30<br></td><td><a class=\"ProveItLink\" href=\"../3ff5eaf7e8a5845440022d0a6ac7b5b1f93365c50/expr.ipynb\"><img src=\"../3ff5eaf7e8a5845440022d0a6ac7b5b1f93365c50/expr.png\" style=\"display:inline;vertical-align:middle;\" /></a></td></tr>\n",
       "<tr><td>19</td><td>Operation</td><td>operator:&nbsp;54<br>operands:&nbsp;25<br></td><td><a class=\"ProveItLink\" href=\"../7149cca2415bb728210f4b2e68d9c368066573b40/expr.ipynb\"><img src=\"../7149cca2415bb728210f4b2e68d9c368066573b40/expr.png\" style=\"display:inline;vertical-align:middle;\" /></a></td></tr>\n",
       "<tr><td>20</td><td>Operation</td><td>operator:&nbsp;46<br>operands:&nbsp;26<br></td><td><a class=\"ProveItLink\" href=\"../d8d02d2a77383d238ed10b8fda7965dfafa87db90/expr.ipynb\"><img src=\"../d8d02d2a77383d238ed10b8fda7965dfafa87db90/expr.png\" style=\"display:inline;vertical-align:middle;\" /></a></td></tr>\n",
       "<tr><td>21</td><td>Operation</td><td>operator:&nbsp;46<br>operands:&nbsp;27<br></td><td><a class=\"ProveItLink\" href=\"../035e0ae7bd8c0fe127ee5d2062443d6c874adcdd0/expr.ipynb\"><img src=\"../035e0ae7bd8c0fe127ee5d2062443d6c874adcdd0/expr.png\" style=\"display:inline;vertical-align:middle;\" /></a></td></tr>\n",
       "<tr><td>22</td><td>Operation</td><td>operator:&nbsp;28<br>operands:&nbsp;29<br></td><td><a class=\"ProveItLink\" href=\"../d0826e22ac6d4338c4cccea8441a9811cf2b320c0/expr.ipynb\"><img src=\"../d0826e22ac6d4338c4cccea8441a9811cf2b320c0/expr.png\" style=\"display:inline;vertical-align:middle;\" /></a></td></tr>\n",
       "<tr><td>23</td><td>Literal</td><td></td><td><a class=\"ProveItLink\" href=\"../../../../../logic/sets/comprehension/__pv_it/common/b4bb00fffb81c35677d73fdf9e971725e2b59ae40/expr.ipynb\"><img src=\"../../../../../logic/sets/comprehension/__pv_it/common/b4bb00fffb81c35677d73fdf9e971725e2b59ae40/expr.png\" style=\"display:inline;vertical-align:middle;\" /></a></td></tr>\n",
       "<tr><td>24</td><td>ExprTuple</td><td>30</td><td><a class=\"ProveItLink\" href=\"../3bc8a39aafa7a02d3c5c2d9f1e2fecf2b2d2b4810/expr.ipynb\"><img src=\"../3bc8a39aafa7a02d3c5c2d9f1e2fecf2b2d2b4810/expr.png\" style=\"display:inline;vertical-align:middle;\" /></a></td></tr>\n",
       "<tr><td>25</td><td>ExprTuple</td><td>31, 32</td><td><a class=\"ProveItLink\" href=\"../9baeb707cbdd42fd0b623579eebae28df28015fb0/expr.ipynb\"><img src=\"../9baeb707cbdd42fd0b623579eebae28df28015fb0/expr.png\" style=\"display:inline;vertical-align:middle;\" /></a></td></tr>\n",
       "<tr><td>26</td><td>ExprTuple</td><td>56, 33</td><td><a class=\"ProveItLink\" href=\"../6381f047505cef51bfb3432d8df76f1cfff47cae0/expr.ipynb\"><img src=\"../6381f047505cef51bfb3432d8df76f1cfff47cae0/expr.png\" style=\"display:inline;vertical-align:middle;\" /></a></td></tr>\n",
       "<tr><td>27</td><td>ExprTuple</td><td>57, 33</td><td><a class=\"ProveItLink\" href=\"../7a5273c178c04cb3ce78308074ba517705b130f80/expr.ipynb\"><img src=\"../7a5273c178c04cb3ce78308074ba517705b130f80/expr.png\" style=\"display:inline;vertical-align:middle;\" /></a></td></tr>\n",
       "<tr><td>28</td><td>Literal</td><td></td><td><a class=\"ProveItLink\" href=\"../../../../ordering/__pv_it/common/68379698d72b4689bbda4b5c5cca29ee599d70280/expr.ipynb\"><img src=\"../../../../ordering/__pv_it/common/68379698d72b4689bbda4b5c5cca29ee599d70280/expr.png\" style=\"display:inline;vertical-align:middle;\" /></a></td></tr>\n",
       "<tr><td>29</td><td>ExprTuple</td><td>50, 34</td><td><a class=\"ProveItLink\" href=\"../c43504a2e063f65fd3860dabb324ba0e11b997d10/expr.ipynb\"><img src=\"../c43504a2e063f65fd3860dabb324ba0e11b997d10/expr.png\" style=\"display:inline;vertical-align:middle;\" /></a></td></tr>\n",
       "<tr><td>30</td><td>Lambda</td><td>parameter:&nbsp;51<br>body:&nbsp;36<br></td><td><a class=\"ProveItLink\" href=\"../f1bb0981239ab97d7dc2c08bf60444853db765bf0/expr.ipynb\"><img src=\"../f1bb0981239ab97d7dc2c08bf60444853db765bf0/expr.png\" style=\"display:inline;vertical-align:middle;\" /></a></td></tr>\n",
       "<tr><td>31</td><td>Literal</td><td></td><td><a class=\"ProveItLink\" href=\"../../../../numerals/__pv_it/common/dd4e19e8b134dfb293470ea55fe3589b0ab9f8040/expr.ipynb\"><img src=\"../../../../numerals/__pv_it/common/dd4e19e8b134dfb293470ea55fe3589b0ab9f8040/expr.png\" style=\"display:inline;vertical-align:middle;\" /></a></td></tr>\n",
       "<tr><td>32</td><td>Operation</td><td>operator:&nbsp;37<br>operands:&nbsp;38<br></td><td><a class=\"ProveItLink\" href=\"../ab266bbdfdf95f81ed6b56a1e075d9000ccd4fce0/expr.ipynb\"><img src=\"../ab266bbdfdf95f81ed6b56a1e075d9000ccd4fce0/expr.png\" style=\"display:inline;vertical-align:middle;\" /></a></td></tr>\n",
       "<tr><td>33</td><td>Literal</td><td></td><td><a class=\"ProveItLink\" href=\"../../../../number_sets/integers/__pv_it/common/e6b4e90f9467053e055a4fd2f735c0bb79cb79300/expr.ipynb\"><img src=\"../../../../number_sets/integers/__pv_it/common/e6b4e90f9467053e055a4fd2f735c0bb79cb79300/expr.png\" style=\"display:inline;vertical-align:middle;\" /></a></td></tr>\n",
       "<tr><td>34</td><td>Operation</td><td>operator:&nbsp;39<br>operand:&nbsp;52<br></td><td><a class=\"ProveItLink\" href=\"../296b54ecf837ce87c43669e2b8c5c55abfcd105f0/expr.ipynb\"><img src=\"../296b54ecf837ce87c43669e2b8c5c55abfcd105f0/expr.png\" style=\"display:inline;vertical-align:middle;\" /></a></td></tr>\n",
       "<tr><td>35</td><td>ExprTuple</td><td>51</td><td><a class=\"ProveItLink\" href=\"../../../../../__pv_it/common/eacfeccc0521684fcb20fe8f5180ac50fca471f20/expr.ipynb\"><img src=\"../../../../../__pv_it/common/eacfeccc0521684fcb20fe8f5180ac50fca471f20/expr.png\" style=\"display:inline;vertical-align:middle;\" /></a></td></tr>\n",
       "<tr><td>36</td><td>Conditional</td><td>value:&nbsp;41<br>condition:&nbsp;42<br></td><td><a class=\"ProveItLink\" href=\"../bf7abe8b88a502ed84dbac1db33d86730eeeaab70/expr.ipynb\"><img src=\"../bf7abe8b88a502ed84dbac1db33d86730eeeaab70/expr.png\" style=\"display:inline;vertical-align:middle;\" /></a></td></tr>\n",
       "<tr><td>37</td><td>Literal</td><td></td><td><a class=\"ProveItLink\" href=\"../../../../addition/__pv_it/common/4b7effaab3619a1c2c38fe2dee8601df8ec714590/expr.ipynb\"><img src=\"../../../../addition/__pv_it/common/4b7effaab3619a1c2c38fe2dee8601df8ec714590/expr.png\" style=\"display:inline;vertical-align:middle;\" /></a></td></tr>\n",
       "<tr><td>38</td><td>ExprTuple</td><td>50, 43</td><td><a class=\"ProveItLink\" href=\"../988d509e7d0950ec7b4e2f3ece2f22c8e4b475f10/expr.ipynb\"><img src=\"../988d509e7d0950ec7b4e2f3ece2f22c8e4b475f10/expr.png\" style=\"display:inline;vertical-align:middle;\" /></a></td></tr>\n",
       "<tr><td>39</td><td>Literal</td><td></td><td><a class=\"ProveItLink\" href=\"../../../../../logic/sets/cardinality/__pv_it/common/37cc8d68272d88ace1dbf77a85e417fe7e7954e60/expr.ipynb\"><img src=\"../../../../../logic/sets/cardinality/__pv_it/common/37cc8d68272d88ace1dbf77a85e417fe7e7954e60/expr.png\" style=\"display:inline;vertical-align:middle;\" /></a></td></tr>\n",
       "<tr><td>40</td><td>ExprTuple</td><td>52</td><td><a class=\"ProveItLink\" href=\"../813a3082fdd7adca1daedcd810e9448d199b021b0/expr.ipynb\"><img src=\"../813a3082fdd7adca1daedcd810e9448d199b021b0/expr.png\" style=\"display:inline;vertical-align:middle;\" /></a></td></tr>\n",
       "<tr><td>41</td><td>Operation</td><td>operator:&nbsp;44<br>operands:&nbsp;45<br></td><td><a class=\"ProveItLink\" href=\"../9aa0477804488e23cfa9efc755f1a417a67fcb710/expr.ipynb\"><img src=\"../9aa0477804488e23cfa9efc755f1a417a67fcb710/expr.png\" style=\"display:inline;vertical-align:middle;\" /></a></td></tr>\n",
       "<tr><td>42</td><td>Operation</td><td>operator:&nbsp;46<br>operands:&nbsp;47<br></td><td><a class=\"ProveItLink\" href=\"../5506772e335d8c23a8240dd0a5f4b411850315500/expr.ipynb\"><img src=\"../5506772e335d8c23a8240dd0a5f4b411850315500/expr.png\" style=\"display:inline;vertical-align:middle;\" /></a></td></tr>\n",
       "<tr><td>43</td><td>Operation</td><td>operator:&nbsp;48<br>operand:&nbsp;53<br></td><td><a class=\"ProveItLink\" href=\"../bf4beda21975fe8a0a5007615b5bcc943da59bb20/expr.ipynb\"><img src=\"../bf4beda21975fe8a0a5007615b5bcc943da59bb20/expr.png\" style=\"display:inline;vertical-align:middle;\" /></a></td></tr>\n",
       "<tr><td>44</td><td>Literal</td><td></td><td><a class=\"ProveItLink\" href=\"../../common/f61fe43eeba657b57e4fe7773885cfa81fe3dfc20/expr.ipynb\"><img src=\"../../common/f61fe43eeba657b57e4fe7773885cfa81fe3dfc20/expr.png\" style=\"display:inline;vertical-align:middle;\" /></a></td></tr>\n",
       "<tr><td>45</td><td>ExprTuple</td><td>51, 50</td><td><a class=\"ProveItLink\" href=\"../92fe64f83a2aeee096de839308048dc30abc19540/expr.ipynb\"><img src=\"../92fe64f83a2aeee096de839308048dc30abc19540/expr.png\" style=\"display:inline;vertical-align:middle;\" /></a></td></tr>\n",
       "<tr><td>46</td><td>Literal</td><td></td><td><a class=\"ProveItLink\" href=\"../../../../../logic/sets/membership/__pv_it/common/477487d8796864d23d5810f83761435f25167f690/expr.ipynb\"><img src=\"../../../../../logic/sets/membership/__pv_it/common/477487d8796864d23d5810f83761435f25167f690/expr.png\" style=\"display:inline;vertical-align:middle;\" /></a></td></tr>\n",
       "<tr><td>47</td><td>ExprTuple</td><td>51, 52</td><td><a class=\"ProveItLink\" href=\"../e77dfb4a2041ee24e8b2359ebc293316a2cbbf5c0/expr.ipynb\"><img src=\"../e77dfb4a2041ee24e8b2359ebc293316a2cbbf5c0/expr.png\" style=\"display:inline;vertical-align:middle;\" /></a></td></tr>\n",
       "<tr><td>48</td><td>Literal</td><td></td><td><a class=\"ProveItLink\" href=\"../../../../negation/__pv_it/common/221b3c4d1770ee9051b7c044c3f9ec61196fc34b0/expr.ipynb\"><img src=\"../../../../negation/__pv_it/common/221b3c4d1770ee9051b7c044c3f9ec61196fc34b0/expr.png\" style=\"display:inline;vertical-align:middle;\" /></a></td></tr>\n",
       "<tr><td>49</td><td>ExprTuple</td><td>53</td><td><a class=\"ProveItLink\" href=\"../b9e4f0dffece176bbe2f36127440684a20e0468e0/expr.ipynb\"><img src=\"../b9e4f0dffece176bbe2f36127440684a20e0468e0/expr.png\" style=\"display:inline;vertical-align:middle;\" /></a></td></tr>\n",
       "<tr><td>50</td><td>Variable</td><td></td><td><a class=\"ProveItLink\" href=\"../../../../../__pv_it/common/ec2f9d003f907f9688d46f19f6df289e52cc63ce0/expr.ipynb\"><img src=\"../../../../../__pv_it/common/ec2f9d003f907f9688d46f19f6df289e52cc63ce0/expr.png\" style=\"display:inline;vertical-align:middle;\" /></a></td></tr>\n",
       "<tr><td>51</td><td>Variable</td><td></td><td><a class=\"ProveItLink\" href=\"../../../../../__pv_it/common/a0d9d672aa5e272d907247690c152cc2c6daafb70/expr.ipynb\"><img src=\"../../../../../__pv_it/common/a0d9d672aa5e272d907247690c152cc2c6daafb70/expr.png\" style=\"display:inline;vertical-align:middle;\" /></a></td></tr>\n",
       "<tr><td>52</td><td>Operation</td><td>operator:&nbsp;54<br>operands:&nbsp;55<br></td><td><a class=\"ProveItLink\" href=\"../498872fecc183ccfbbe24c2b7a9ae11a74603e9a0/expr.ipynb\"><img src=\"../498872fecc183ccfbbe24c2b7a9ae11a74603e9a0/expr.png\" style=\"display:inline;vertical-align:middle;\" /></a></td></tr>\n",
       "<tr><td>53</td><td>Literal</td><td></td><td><a class=\"ProveItLink\" href=\"../../../../numerals/__pv_it/common/682157d4892d216d9e5626ed533aff9b56b9506e0/expr.ipynb\"><img src=\"../../../../numerals/__pv_it/common/682157d4892d216d9e5626ed533aff9b56b9506e0/expr.png\" style=\"display:inline;vertical-align:middle;\" /></a></td></tr>\n",
       "<tr><td>54</td><td>Literal</td><td></td><td><a class=\"ProveItLink\" href=\"../../../../number_sets/integers/__pv_it/common/92f3a0a77e3c3ea8e4a5c8674edadc54e4f57d550/expr.ipynb\"><img src=\"../../../../number_sets/integers/__pv_it/common/92f3a0a77e3c3ea8e4a5c8674edadc54e4f57d550/expr.png\" style=\"display:inline;vertical-align:middle;\" /></a></td></tr>\n",
       "<tr><td>55</td><td>ExprTuple</td><td>56, 57</td><td><a class=\"ProveItLink\" href=\"../3dcd5ceea6334d8cb48fe14fdae236293aa9a6050/expr.ipynb\"><img src=\"../3dcd5ceea6334d8cb48fe14fdae236293aa9a6050/expr.png\" style=\"display:inline;vertical-align:middle;\" /></a></td></tr>\n",
       "<tr><td>56</td><td>Variable</td><td></td><td><a class=\"ProveItLink\" href=\"../../../../../__pv_it/common/c06c606ec12678c58933ac85412ecadc2ae28be60/expr.ipynb\"><img src=\"../../../../../__pv_it/common/c06c606ec12678c58933ac85412ecadc2ae28be60/expr.png\" style=\"display:inline;vertical-align:middle;\" /></a></td></tr>\n",
       "<tr><td>57</td><td>Variable</td><td></td><td><a class=\"ProveItLink\" href=\"../../../../../__pv_it/common/195236b98c6c564a75b5dbada74b173bc52d5c3e0/expr.ipynb\"><img src=\"../../../../../__pv_it/common/195236b98c6c564a75b5dbada74b173bc52d5c3e0/expr.png\" style=\"display:inline;vertical-align:middle;\" /></a></td></tr>\n",
       "</table>\n"
      ],
      "text/plain": [
       "0. (N -> {forall_{a, b in Integer | |{a .. b}| >= N} ({x mod N}_{x in {a .. b}} = {0 .. N - 1}) if N in NaturalPos.)\n",
       "   core type: ExprTuple\n",
       "   sub-expressions: 1\n",
       "1. N -> {forall_{a, b in Integer | |{a .. b}| >= N} ({x mod N}_{x in {a .. b}} = {0 .. N - 1}) if N in NaturalPos.\n",
       "   core type: Lambda\n",
       "   parameter: 50\n",
       "   body: 3\n",
       "2. (N)\n",
       "   core type: ExprTuple\n",
       "   sub-expressions: 50\n",
       "3. {forall_{a, b in Integer | |{a .. b}| >= N} ({x mod N}_{x in {a .. b}} = {0 .. N - 1}) if N in NaturalPos.\n",
       "   core type: Conditional\n",
       "   value: 4\n",
       "   condition: 5\n",
       "4. forall_{a, b in Integer | |{a .. b}| >= N} ({x mod N}_{x in {a .. b}} = {0 .. N - 1})\n",
       "   core type: Operation\n",
       "   operator: 6\n",
       "   operand: 9\n",
       "5. N in NaturalPos\n",
       "   core type: Operation\n",
       "   operator: 46\n",
       "   operands: 8\n",
       "6. forall\n",
       "   core type: Literal\n",
       "   sub-expressions: \n",
       "7. ((a, b) -> {{x mod N}_{x in {a .. b}} = {0 .. N - 1} if a in Integer ,  b in Integer ,  |{a .. b}| >= N.)\n",
       "   core type: ExprTuple\n",
       "   sub-expressions: 9\n",
       "8. (N, NaturalPos)\n",
       "   core type: ExprTuple\n",
       "   sub-expressions: 50, 10\n",
       "9. (a, b) -> {{x mod N}_{x in {a .. b}} = {0 .. N - 1} if a in Integer ,  b in Integer ,  |{a .. b}| >= N.\n",
       "   core type: Lambda\n",
       "   parameters: 55\\n   body: 11\n",
       "10. NaturalPos\n",
       "    core type: Literal\n",
       "    sub-expressions: \n",
       "11. {{x mod N}_{x in {a .. b}} = {0 .. N - 1} if a in Integer ,  b in Integer ,  |{a .. b}| >= N.\n",
       "    core type: Conditional\n",
       "    value: 12\n",
       "    condition: 13\n",
       "12. {x mod N}_{x in {a .. b}} = {0 .. N - 1}\n",
       "    core type: Operation\n",
       "    operator: 14\n",
       "    operands: 15\n",
       "13. (a in Integer) and (b in Integer) and (|{a .. b}| >= N)\n",
       "    core type: Operation\n",
       "    operator: 16\n",
       "    operands: 17\n",
       "14. =\n",
       "    core type: Literal\n",
       "    sub-expressions: \n",
       "15. ({x mod N}_{x in {a .. b}}, {0 .. N - 1})\n",
       "    core type: ExprTuple\n",
       "    sub-expressions: 18, 19\n",
       "16. and\n",
       "    core type: Literal\n",
       "    sub-expressions: \n",
       "17. (a in Integer, b in Integer, |{a .. b}| >= N)\n",
       "    core type: ExprTuple\n",
       "    sub-expressions: 20, 21, 22\n",
       "18. {x mod N}_{x in {a .. b}}\n",
       "    core type: Operation\n",
       "    operator: 23\n",
       "    operand: 30\n",
       "19. {0 .. N - 1}\n",
       "    core type: Operation\n",
       "    operator: 54\n",
       "    operands: 25\n",
       "20. a in Integer\n",
       "    core type: Operation\n",
       "    operator: 46\n",
       "    operands: 26\n",
       "21. b in Integer\n",
       "    core type: Operation\n",
       "    operator: 46\n",
       "    operands: 27\n",
       "22. |{a .. b}| >= N\n",
       "    core type: Operation\n",
       "    operator: 28\n",
       "    operands: 29\n",
       "23. SetOfAll\n",
       "    core type: Literal\n",
       "    sub-expressions: \n",
       "24. (x -> {x mod N if x in {a .. b}.)\n",
       "    core type: ExprTuple\n",
       "    sub-expressions: 30\n",
       "25. (0, N - 1)\n",
       "    core type: ExprTuple\n",
       "    sub-expressions: 31, 32\n",
       "26. (a, Integer)\n",
       "    core type: ExprTuple\n",
       "    sub-expressions: 56, 33\n",
       "27. (b, Integer)\n",
       "    core type: ExprTuple\n",
       "    sub-expressions: 57, 33\n",
       "28. <=\n",
       "    core type: Literal\n",
       "    sub-expressions: \n",
       "29. (N, |{a .. b}|)\n",
       "    core type: ExprTuple\n",
       "    sub-expressions: 50, 34\n",
       "30. x -> {x mod N if x in {a .. b}.\n",
       "    core type: Lambda\n",
       "    parameter: 51\n",
       "    body: 36\n",
       "31. 0\n",
       "    core type: Literal\n",
       "    sub-expressions: \n",
       "32. N - 1\n",
       "    core type: Operation\n",
       "    operator: 37\n",
       "    operands: 38\n",
       "33. Integer\n",
       "    core type: Literal\n",
       "    sub-expressions: \n",
       "34. |{a .. b}|\n",
       "    core type: Operation\n",
       "    operator: 39\n",
       "    operand: 52\n",
       "35. (x)\n",
       "    core type: ExprTuple\n",
       "    sub-expressions: 51\n",
       "36. {x mod N if x in {a .. b}.\n",
       "    core type: Conditional\n",
       "    value: 41\n",
       "    condition: 42\n",
       "37. +\n",
       "    core type: Literal\n",
       "    sub-expressions: \n",
       "38. (N, -1)\n",
       "    core type: ExprTuple\n",
       "    sub-expressions: 50, 43\n",
       "39. card\n",
       "    core type: Literal\n",
       "    sub-expressions: \n",
       "40. ({a .. b})\n",
       "    core type: ExprTuple\n",
       "    sub-expressions: 52\n",
       "41. x mod N\n",
       "    core type: Operation\n",
       "    operator: 44\n",
       "    operands: 45\n",
       "42. x in {a .. b}\n",
       "    core type: Operation\n",
       "    operator: 46\n",
       "    operands: 47\n",
       "43. -1\n",
       "    core type: Operation\n",
       "    operator: 48\n",
       "    operand: 53\n",
       "44. mod\n",
       "    core type: Literal\n",
       "    sub-expressions: \n",
       "45. (x, N)\n",
       "    core type: ExprTuple\n",
       "    sub-expressions: 51, 50\n",
       "46. in\n",
       "    core type: Literal\n",
       "    sub-expressions: \n",
       "47. (x, {a .. b})\n",
       "    core type: ExprTuple\n",
       "    sub-expressions: 51, 52\n",
       "48. -\n",
       "    core type: Literal\n",
       "    sub-expressions: \n",
       "49. (1)\n",
       "    core type: ExprTuple\n",
       "    sub-expressions: 53\n",
       "50. N\n",
       "    core type: Variable\n",
       "    sub-expressions: \n",
       "51. x\n",
       "    core type: Variable\n",
       "    sub-expressions: \n",
       "52. {a .. b}\n",
       "    core type: Operation\n",
       "    operator: 54\n",
       "    operands: 55\n",
       "53. 1\n",
       "    core type: Literal\n",
       "    sub-expressions: \n",
       "54. Interval\n",
       "    core type: Literal\n",
       "    sub-expressions: \n",
       "55. (a, b)\n",
       "    core type: ExprTuple\n",
       "    sub-expressions: 56, 57\n",
       "56. a\n",
       "    core type: Variable\n",
       "    sub-expressions: \n",
       "57. b\n",
       "    core type: Variable\n",
       "    sub-expressions: "
      ]
     },
     "metadata": {},
     "output_type": "display_data"
    }
   ],
   "source": [
    "# display the expression information\n",
    "stored_expr.expr_info()"
   ]
  },
  {
   "cell_type": "code",
   "execution_count": null,
   "metadata": {},
   "outputs": [],
   "source": []
  }
 ],
 "metadata": {
  "kernelspec": {
   "display_name": "Python 3",
   "language": "python",
   "name": "python3"
  }
 },
 "nbformat": 4,
 "nbformat_minor": 0
}