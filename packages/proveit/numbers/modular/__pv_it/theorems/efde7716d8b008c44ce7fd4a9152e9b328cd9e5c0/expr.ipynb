{
 "cells": [
  {
   "cell_type": "markdown",
   "metadata": {},
   "source": [
    "Expression of type <a class=\"ProveItLink\" href=\"../../../../../../../doc/html/api/proveit.Lambda.html\">Lambda</a>\n",
    "=======================\n",
    "# from the theory of <a class=\"ProveItLink\" href=\"../../../_theory_nbs_/theory.ipynb\">proveit.numbers.modular</a>"
   ]
  },
  {
   "cell_type": "code",
   "execution_count": 1,
   "metadata": {},
   "outputs": [],
   "source": [
    "import proveit\n",
    "# Automation is not needed when building an expression:\n",
    "proveit.defaults.automation = False # This will speed things up.\n",
    "proveit.defaults.inline_pngs = False # Makes files smaller.\n",
    "%load_expr # Load the stored expression as 'stored_expr'\n",
    "# import Expression classes needed to build the expression\n",
    "from proveit import Conditional, Lambda, a, b\n",
    "from proveit.logic import And, InSet, NotEquals\n",
    "from proveit.numbers import Abs, IntervalCO, Mod, Real, zero"
   ]
  },
  {
   "cell_type": "code",
   "execution_count": 2,
   "metadata": {},
   "outputs": [
    {
     "data": {
      "text/html": [
       "<strong id=\"expr\">expr:</strong> <a class=\"ProveItLink\" href=\"expr.ipynb\"><img src=\"expr.png\" style=\"display:inline;vertical-align:middle;\" /></a><br>"
      ],
      "text/plain": [
       "<IPython.core.display.HTML object>"
      ]
     },
     "metadata": {},
     "output_type": "display_data"
    }
   ],
   "source": [
    "# build up the expression from sub-expressions\n",
    "expr = Lambda([a, b], Conditional(InSet(Mod(a, b), IntervalCO(zero, Abs(b))), And(InSet(a, Real), InSet(b, Real), NotEquals(b, zero))))"
   ]
  },
  {
   "cell_type": "code",
   "execution_count": 3,
   "metadata": {},
   "outputs": [
    {
     "name": "stdout",
     "output_type": "stream",
     "text": [
      "Passed sanity check: expr matches stored_expr\n"
     ]
    }
   ],
   "source": [
    "# check that the built expression is the same as the stored expression\n",
    "assert expr == stored_expr\n",
    "assert expr._style_id == stored_expr._style_id\n",
    "print(\"Passed sanity check: expr matches stored_expr\")"
   ]
  },
  {
   "cell_type": "code",
   "execution_count": 4,
   "metadata": {},
   "outputs": [
    {
     "name": "stdout",
     "output_type": "stream",
     "text": [
      "\\left(a, b\\right) \\mapsto \\left\\{\\left(a ~\\textup{mod}~ b\\right) \\in \\left[0,\\left|b\\right|\\right) \\textrm{ if } a \\in \\mathbb{R} ,  b \\in \\mathbb{R} ,  b \\neq 0\\right..\n"
     ]
    }
   ],
   "source": [
    "# Show the LaTeX representation of the expression for convenience if you need it.\n",
    "print(stored_expr.latex())"
   ]
  },
  {
   "cell_type": "code",
   "execution_count": 5,
   "metadata": {},
   "outputs": [
    {
     "data": {
      "text/html": [
       "no style options"
      ],
      "text/plain": [
       "no style options"
      ]
     },
     "metadata": {},
     "output_type": "display_data"
    }
   ],
   "source": [
    "stored_expr.style_options()"
   ]
  },
  {
   "cell_type": "code",
   "execution_count": 6,
   "metadata": {},
   "outputs": [
    {
     "data": {
      "text/html": [
       "<table><tr><th>&nbsp;</th><th>core type</th><th>sub-expressions</th><th>expression</th></tr>\n",
       "<tr><td>0</td><td>Lambda</td><td>parameters:&nbsp;13<br>body:&nbsp;1<br></td><td><a class=\"ProveItLink\" href=\"expr.ipynb\"><img src=\"expr.png\" style=\"display:inline;vertical-align:middle;\" /></a></td></tr>\n",
       "<tr><td>1</td><td>Conditional</td><td>value:&nbsp;2<br>condition:&nbsp;3<br></td><td><a class=\"ProveItLink\" href=\"../fd24b39d2c78b0f8459f15f9c2b921a5e29c3a910/expr.ipynb\"><img src=\"../fd24b39d2c78b0f8459f15f9c2b921a5e29c3a910/expr.png\" style=\"display:inline;vertical-align:middle;\" /></a></td></tr>\n",
       "<tr><td>2</td><td>Operation</td><td>operator:&nbsp;17<br>operands:&nbsp;4<br></td><td><a class=\"ProveItLink\" href=\"../f12122c93443300fd5d2d6448c4276ff1b2466ec0/expr.ipynb\"><img src=\"../f12122c93443300fd5d2d6448c4276ff1b2466ec0/expr.png\" style=\"display:inline;vertical-align:middle;\" /></a></td></tr>\n",
       "<tr><td>3</td><td>Operation</td><td>operator:&nbsp;5<br>operands:&nbsp;6<br></td><td><a class=\"ProveItLink\" href=\"../edd718cbc020e920547cf14ae945f5dbd1c5d45e0/expr.ipynb\"><img src=\"../edd718cbc020e920547cf14ae945f5dbd1c5d45e0/expr.png\" style=\"display:inline;vertical-align:middle;\" /></a></td></tr>\n",
       "<tr><td>4</td><td>ExprTuple</td><td>7, 8</td><td><a class=\"ProveItLink\" href=\"../3ab448e68c4db15831d26f5826896016e13cd25a0/expr.ipynb\"><img src=\"../3ab448e68c4db15831d26f5826896016e13cd25a0/expr.png\" style=\"display:inline;vertical-align:middle;\" /></a></td></tr>\n",
       "<tr><td>5</td><td>Literal</td><td></td><td><a class=\"ProveItLink\" href=\"../../../../../logic/booleans/conjunction/__pv_it/common/42118ff318bd65d98b1393f64ce7c2269feef76e0/expr.ipynb\"><img src=\"../../../../../logic/booleans/conjunction/__pv_it/common/42118ff318bd65d98b1393f64ce7c2269feef76e0/expr.png\" style=\"display:inline;vertical-align:middle;\" /></a></td></tr>\n",
       "<tr><td>6</td><td>ExprTuple</td><td>9, 10, 11</td><td><a class=\"ProveItLink\" href=\"../c3439ff5e0708f9cfbc0decad4807117ade01d390/expr.ipynb\"><img src=\"../c3439ff5e0708f9cfbc0decad4807117ade01d390/expr.png\" style=\"display:inline;vertical-align:middle;\" /></a></td></tr>\n",
       "<tr><td>7</td><td>Operation</td><td>operator:&nbsp;12<br>operands:&nbsp;13<br></td><td><a class=\"ProveItLink\" href=\"../10d0e619ab062faa56280ec7a6b0abdd845aa0360/expr.ipynb\"><img src=\"../10d0e619ab062faa56280ec7a6b0abdd845aa0360/expr.png\" style=\"display:inline;vertical-align:middle;\" /></a></td></tr>\n",
       "<tr><td>8</td><td>Operation</td><td>operator:&nbsp;14<br>operands:&nbsp;15<br></td><td><a class=\"ProveItLink\" href=\"../f8978515c9a39238f46421b05bb437cd3240367f0/expr.ipynb\"><img src=\"../f8978515c9a39238f46421b05bb437cd3240367f0/expr.png\" style=\"display:inline;vertical-align:middle;\" /></a></td></tr>\n",
       "<tr><td>9</td><td>Operation</td><td>operator:&nbsp;17<br>operands:&nbsp;16<br></td><td><a class=\"ProveItLink\" href=\"../4aa8d696b1f407d6126de9f51a052e8d90e0848c0/expr.ipynb\"><img src=\"../4aa8d696b1f407d6126de9f51a052e8d90e0848c0/expr.png\" style=\"display:inline;vertical-align:middle;\" /></a></td></tr>\n",
       "<tr><td>10</td><td>Operation</td><td>operator:&nbsp;17<br>operands:&nbsp;18<br></td><td><a class=\"ProveItLink\" href=\"../6e5cad5b2984ed0d75bd47bd0c542ec447a4f3570/expr.ipynb\"><img src=\"../6e5cad5b2984ed0d75bd47bd0c542ec447a4f3570/expr.png\" style=\"display:inline;vertical-align:middle;\" /></a></td></tr>\n",
       "<tr><td>11</td><td>Operation</td><td>operator:&nbsp;19<br>operands:&nbsp;20<br></td><td><a class=\"ProveItLink\" href=\"../1157e8bc07ff5d23e5b8809064b9e77def3bc8980/expr.ipynb\"><img src=\"../1157e8bc07ff5d23e5b8809064b9e77def3bc8980/expr.png\" style=\"display:inline;vertical-align:middle;\" /></a></td></tr>\n",
       "<tr><td>12</td><td>Literal</td><td></td><td><a class=\"ProveItLink\" href=\"../../common/f61fe43eeba657b57e4fe7773885cfa81fe3dfc20/expr.ipynb\"><img src=\"../../common/f61fe43eeba657b57e4fe7773885cfa81fe3dfc20/expr.png\" style=\"display:inline;vertical-align:middle;\" /></a></td></tr>\n",
       "<tr><td>13</td><td>ExprTuple</td><td>22, 27</td><td><a class=\"ProveItLink\" href=\"../3dcd5ceea6334d8cb48fe14fdae236293aa9a6050/expr.ipynb\"><img src=\"../3dcd5ceea6334d8cb48fe14fdae236293aa9a6050/expr.png\" style=\"display:inline;vertical-align:middle;\" /></a></td></tr>\n",
       "<tr><td>14</td><td>Literal</td><td></td><td><a class=\"ProveItLink\" href=\"../../../../number_sets/real_numbers/__pv_it/common/da5a5fc1f3f3ada8da2b36f3e6963bacf1c8e9fc0/expr.ipynb\"><img src=\"../../../../number_sets/real_numbers/__pv_it/common/da5a5fc1f3f3ada8da2b36f3e6963bacf1c8e9fc0/expr.png\" style=\"display:inline;vertical-align:middle;\" /></a></td></tr>\n",
       "<tr><td>15</td><td>ExprTuple</td><td>24, 21</td><td><a class=\"ProveItLink\" href=\"../4f7b4c943ce96e33d6b1d7f37982186a7913b1e40/expr.ipynb\"><img src=\"../4f7b4c943ce96e33d6b1d7f37982186a7913b1e40/expr.png\" style=\"display:inline;vertical-align:middle;\" /></a></td></tr>\n",
       "<tr><td>16</td><td>ExprTuple</td><td>22, 23</td><td><a class=\"ProveItLink\" href=\"../4b81e64da1c6f03396560fe07bd4a5be1d27e6ab0/expr.ipynb\"><img src=\"../4b81e64da1c6f03396560fe07bd4a5be1d27e6ab0/expr.png\" style=\"display:inline;vertical-align:middle;\" /></a></td></tr>\n",
       "<tr><td>17</td><td>Literal</td><td></td><td><a class=\"ProveItLink\" href=\"../../../../../logic/sets/membership/__pv_it/common/477487d8796864d23d5810f83761435f25167f690/expr.ipynb\"><img src=\"../../../../../logic/sets/membership/__pv_it/common/477487d8796864d23d5810f83761435f25167f690/expr.png\" style=\"display:inline;vertical-align:middle;\" /></a></td></tr>\n",
       "<tr><td>18</td><td>ExprTuple</td><td>27, 23</td><td><a class=\"ProveItLink\" href=\"../3cf9b209cada40f4dbeb74780e8d7cfa407b10aa0/expr.ipynb\"><img src=\"../3cf9b209cada40f4dbeb74780e8d7cfa407b10aa0/expr.png\" style=\"display:inline;vertical-align:middle;\" /></a></td></tr>\n",
       "<tr><td>19</td><td>Literal</td><td></td><td><a class=\"ProveItLink\" href=\"../../../../../logic/equality/__pv_it/common/d96270bc9bb1bad54f773b1c04bfb343a739642c0/expr.ipynb\"><img src=\"../../../../../logic/equality/__pv_it/common/d96270bc9bb1bad54f773b1c04bfb343a739642c0/expr.png\" style=\"display:inline;vertical-align:middle;\" /></a></td></tr>\n",
       "<tr><td>20</td><td>ExprTuple</td><td>27, 24</td><td><a class=\"ProveItLink\" href=\"../714d61b82b53d478c6f5e033e3a508b8ceb0cf280/expr.ipynb\"><img src=\"../714d61b82b53d478c6f5e033e3a508b8ceb0cf280/expr.png\" style=\"display:inline;vertical-align:middle;\" /></a></td></tr>\n",
       "<tr><td>21</td><td>Operation</td><td>operator:&nbsp;25<br>operand:&nbsp;27<br></td><td><a class=\"ProveItLink\" href=\"../cc37967afb68fc5936b0b751564cd8d9497308b50/expr.ipynb\"><img src=\"../cc37967afb68fc5936b0b751564cd8d9497308b50/expr.png\" style=\"display:inline;vertical-align:middle;\" /></a></td></tr>\n",
       "<tr><td>22</td><td>Variable</td><td></td><td><a class=\"ProveItLink\" href=\"../../../../../__pv_it/common/c06c606ec12678c58933ac85412ecadc2ae28be60/expr.ipynb\"><img src=\"../../../../../__pv_it/common/c06c606ec12678c58933ac85412ecadc2ae28be60/expr.png\" style=\"display:inline;vertical-align:middle;\" /></a></td></tr>\n",
       "<tr><td>23</td><td>Literal</td><td></td><td><a class=\"ProveItLink\" href=\"../../../../number_sets/real_numbers/__pv_it/common/93cac87a1a47e613f7a83b23ef7891599a1a4cca0/expr.ipynb\"><img src=\"../../../../number_sets/real_numbers/__pv_it/common/93cac87a1a47e613f7a83b23ef7891599a1a4cca0/expr.png\" style=\"display:inline;vertical-align:middle;\" /></a></td></tr>\n",
       "<tr><td>24</td><td>Literal</td><td></td><td><a class=\"ProveItLink\" href=\"../../../../numerals/__pv_it/common/dd4e19e8b134dfb293470ea55fe3589b0ab9f8040/expr.ipynb\"><img src=\"../../../../numerals/__pv_it/common/dd4e19e8b134dfb293470ea55fe3589b0ab9f8040/expr.png\" style=\"display:inline;vertical-align:middle;\" /></a></td></tr>\n",
       "<tr><td>25</td><td>Literal</td><td></td><td><a class=\"ProveItLink\" href=\"../../../../absolute_value/__pv_it/common/eea56c667bc0aad2dc76ed04b44c2bd98b94005f0/expr.ipynb\"><img src=\"../../../../absolute_value/__pv_it/common/eea56c667bc0aad2dc76ed04b44c2bd98b94005f0/expr.png\" style=\"display:inline;vertical-align:middle;\" /></a></td></tr>\n",
       "<tr><td>26</td><td>ExprTuple</td><td>27</td><td><a class=\"ProveItLink\" href=\"../2172b6b5a562721cf67ce94593b8be1eb7f26c660/expr.ipynb\"><img src=\"../2172b6b5a562721cf67ce94593b8be1eb7f26c660/expr.png\" style=\"display:inline;vertical-align:middle;\" /></a></td></tr>\n",
       "<tr><td>27</td><td>Variable</td><td></td><td><a class=\"ProveItLink\" href=\"../../../../../__pv_it/common/195236b98c6c564a75b5dbada74b173bc52d5c3e0/expr.ipynb\"><img src=\"../../../../../__pv_it/common/195236b98c6c564a75b5dbada74b173bc52d5c3e0/expr.png\" style=\"display:inline;vertical-align:middle;\" /></a></td></tr>\n",
       "</table>\n"
      ],
      "text/plain": [
       "0. (a, b) -> {(a mod b) in [0,|b|) if a in Real ,  b in Real ,  b != 0.\n",
       "   core type: Lambda\n",
       "   parameters: 13\\n   body: 1\n",
       "1. {(a mod b) in [0,|b|) if a in Real ,  b in Real ,  b != 0.\n",
       "   core type: Conditional\n",
       "   value: 2\n",
       "   condition: 3\n",
       "2. (a mod b) in [0,|b|)\n",
       "   core type: Operation\n",
       "   operator: 17\n",
       "   operands: 4\n",
       "3. (a in Real) and (b in Real) and (b != 0)\n",
       "   core type: Operation\n",
       "   operator: 5\n",
       "   operands: 6\n",
       "4. (a mod b, [0,|b|))\n",
       "   core type: ExprTuple\n",
       "   sub-expressions: 7, 8\n",
       "5. and\n",
       "   core type: Literal\n",
       "   sub-expressions: \n",
       "6. (a in Real, b in Real, b != 0)\n",
       "   core type: ExprTuple\n",
       "   sub-expressions: 9, 10, 11\n",
       "7. a mod b\n",
       "   core type: Operation\n",
       "   operator: 12\n",
       "   operands: 13\n",
       "8. [0,|b|)\n",
       "   core type: Operation\n",
       "   operator: 14\n",
       "   operands: 15\n",
       "9. a in Real\n",
       "   core type: Operation\n",
       "   operator: 17\n",
       "   operands: 16\n",
       "10. b in Real\n",
       "    core type: Operation\n",
       "    operator: 17\n",
       "    operands: 18\n",
       "11. b != 0\n",
       "    core type: Operation\n",
       "    operator: 19\n",
       "    operands: 20\n",
       "12. mod\n",
       "    core type: Literal\n",
       "    sub-expressions: \n",
       "13. (a, b)\n",
       "    core type: ExprTuple\n",
       "    sub-expressions: 22, 27\n",
       "14. IntervalCO\n",
       "    core type: Literal\n",
       "    sub-expressions: \n",
       "15. (0, |b|)\n",
       "    core type: ExprTuple\n",
       "    sub-expressions: 24, 21\n",
       "16. (a, Real)\n",
       "    core type: ExprTuple\n",
       "    sub-expressions: 22, 23\n",
       "17. in\n",
       "    core type: Literal\n",
       "    sub-expressions: \n",
       "18. (b, Real)\n",
       "    core type: ExprTuple\n",
       "    sub-expressions: 27, 23\n",
       "19. !=\n",
       "    core type: Literal\n",
       "    sub-expressions: \n",
       "20. (b, 0)\n",
       "    core type: ExprTuple\n",
       "    sub-expressions: 27, 24\n",
       "21. |b|\n",
       "    core type: Operation\n",
       "    operator: 25\n",
       "    operand: 27\n",
       "22. a\n",
       "    core type: Variable\n",
       "    sub-expressions: \n",
       "23. Real\n",
       "    core type: Literal\n",
       "    sub-expressions: \n",
       "24. 0\n",
       "    core type: Literal\n",
       "    sub-expressions: \n",
       "25. Abs\n",
       "    core type: Literal\n",
       "    sub-expressions: \n",
       "26. (b)\n",
       "    core type: ExprTuple\n",
       "    sub-expressions: 27\n",
       "27. b\n",
       "    core type: Variable\n",
       "    sub-expressions: "
      ]
     },
     "metadata": {},
     "output_type": "display_data"
    }
   ],
   "source": [
    "# display the expression information\n",
    "stored_expr.expr_info()"
   ]
  },
  {
   "cell_type": "code",
   "execution_count": null,
   "metadata": {},
   "outputs": [],
   "source": []
  }
 ],
 "metadata": {
  "kernelspec": {
   "display_name": "Python 3",
   "language": "python",
   "name": "python3"
  }
 },
 "nbformat": 4,
 "nbformat_minor": 0
}