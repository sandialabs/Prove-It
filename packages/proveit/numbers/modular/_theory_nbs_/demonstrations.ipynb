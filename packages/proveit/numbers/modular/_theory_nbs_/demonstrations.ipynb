{
 "cells": [
  {
   "cell_type": "markdown",
   "metadata": {},
   "source": [
    "Demonstrations for the theory of <a class=\"ProveItLink\" href=\"theory.ipynb\">proveit.numbers.modular</a>\n",
    "========"
   ]
  },
  {
   "cell_type": "code",
   "execution_count": 1,
   "metadata": {},
   "outputs": [],
   "source": [
    "import proveit\n",
    "from proveit import a, b, c, d, x, L\n",
    "from proveit.logic import Equals, InSet\n",
    "from proveit.numbers import NaturalPos, Real, RealPos, Interval, IntervalCO\n",
    "from proveit.numbers import Abs, Add, ModAbs, Mod, subtract, one, zero\n",
    "%begin demonstrations"
   ]
  },
  {
   "cell_type": "markdown",
   "metadata": {},
   "source": [
    "# Modular Arithmetic $a \\thinspace\\text{mod}\\thinspace b$, $|a|_{\\text{mod}\\thinspace b}$"
   ]
  },
  {
   "cell_type": "markdown",
   "metadata": {},
   "source": [
    "<div style=\"line-height:1.4; font-size:14pt\">\n",
    "\n",
    "<a href='#introduction'>Introduction</a><br>\n",
    "<a href='#simple_expressions'>Simple Expressions involving modular arithmetic $(a \\thinspace\\text{mod}\\thinspace b)$, $|a|_{\\text{mod}\\thinspace b}$</a><br>\n",
    "<a href='#common_attributes'>Common Attributes of the Mod $(a \\thinspace\\text{mod}\\thinspace b)$ Expression</a><br>\n",
    "<a href='#axioms'>Axioms</a><br>\n",
    "<a href='#further_demonstrations'>Further Demonstrations</a><br>\n",
    "    <ol>\n",
    "        <li><a href='#demo01'>TBA</a></li>\n",
    "        <li><a href='#demo02'>TBA</a></li>\n",
    "        <li><a href='#demo03'>TBA</a></li>\n",
    "    </ol>\n",
    "\n",
    "</div>\n"
   ]
  },
  {
   "cell_type": "markdown",
   "metadata": {},
   "source": [
    "## Introduction [under construction] <a id='introduction'></a>"
   ]
  },
  {
   "cell_type": "markdown",
   "metadata": {},
   "source": [
    "<font size=4>Some introductory comments here about the importance of modular arithmetic and its representation within Prove-It.</font>"
   ]
  },
  {
   "cell_type": "markdown",
   "metadata": {},
   "source": [
    "## Simple Expressions Involving Modular Arithmetic ($a \\thinspace\\text{mod}\\thinspace b$ or $|a| \\thinspace\\text{mod}\\thinspace b$)<a id='simple_expressions'></a>"
   ]
  },
  {
   "cell_type": "markdown",
   "metadata": {},
   "source": [
    "<font size=4>It is straightforward to construct modular arithmetic expressions and absolute value expressions. Here are some basic examples of such expressions:</font>"
   ]
  },
  {
   "cell_type": "code",
   "execution_count": 2,
   "metadata": {},
   "outputs": [
    {
     "data": {
      "text/html": [
       "<a class=\"ProveItLink\" href=\"../__pv_it/demonstrations/b0f061f2cad9c22402067d497aec2bf3477e06db0/expr.ipynb\"><img src=\"data:image/png;base64,iVBORw0KGgoAAAANSUhEUgAAAEoAAAAOBAMAAAB6N5c4AAAAMFBMVEX///8AAAAAAAAAAAAAAAAA\n",
       "AAAAAAAAAAAAAAAAAAAAAAAAAAAAAAAAAAAAAAAAAAAv3aB7AAAAD3RSTlMAIquJdkTvuxBmmd1U\n",
       "zTKBpmoTAAAACXBIWXMAAA7EAAAOxAGVKw4bAAABHklEQVQoz2NgwAm8U8FUezYDPsD4FULfwquK\n",
       "AarqDzGqWH8Qo4p5A9h6ZUcHEP02S8TdIcQ9gIFjiVcAUNLED6KKV8XpAANDmAA7xMxNB/h+BnAm\n",
       "MLwWYChh4MhhYIao6r/B8ZGBI5OBC2wmQxkDw3cGvn8MmxkY3j9gvwDz4/kGhhQGrg8M3AZgbjkD\n",
       "w2egKj6gn/gN+h0YOCCq1oKE2QoY+gNgqr4AVfEAJfkL3sNVbWZg/cMA1DSfAVkV2KwFCLP+MHD9\n",
       "YOg/wKDLI4CkiiGLgSE+gLcA5q5/DG0TGNgdeHZxgbnXwaq+Mjx7wHCZgTGVgeknWFiToYqBgUPF\n",
       "TsgPxHv0Te/4NwXb3waMi42ADu0y8futABJvsprAAAD+eFq+nFUB4gAAAABJRU5ErkJggg==\n",
       "\" style=\"display:inline;vertical-align:middle;\" /></a>"
      ],
      "text/plain": [
       "a mod b"
      ]
     },
     "metadata": {},
     "output_type": "display_data"
    }
   ],
   "source": [
    "# basic modular expression\n",
    "Mod(a, b)"
   ]
  },
  {
   "cell_type": "code",
   "execution_count": 3,
   "metadata": {},
   "outputs": [
    {
     "data": {
      "text/html": [
       "<a class=\"ProveItLink\" href=\"../__pv_it/demonstrations/a5880d4291150732db1a1ec45eb66e5e8a3cac0f0/expr.ipynb\"><img src=\"data:image/png;base64,iVBORw0KGgoAAAANSUhEUgAAAD4AAAAWBAMAAABqEDIsAAAAMFBMVEX///8AAAAAAAAAAAAAAAAA\n",
       "AAAAAAAAAAAAAAAAAAAAAAAAAAAAAAAAAAAAAAAAAAAv3aB7AAAAD3RSTlMAIolEdjKr77sQZpnd\n",
       "VM0QaojEAAAACXBIWXMAAA7EAAAOxAGVKw4bAAAA80lEQVQoz2MQYIAARgbsQBlKMxkMWXnGJEcH\n",
       "fPLmAhw/8chzVjFwH8Ajz/2BgUcBjzx7A8N8Azzy8x0Y1mO63/0CA0NcA1j+AkMerwC6PB9Qnk0B\n",
       "JM/hwHuaG0M/B1CePQDs/hRVMVegPGdPrNusZQYMLEs0GVi8/IDy8S6ZyOEnf4GvgfcAQzPDHIZN\n",
       "DOxAeZ8J3ijyEzgUWAtYPzBwOP4E29/FsA5FnoHNgbWAq4CBbfMHsHwpwzZMeaB+Pqj+Dwy1DK5Q\n",
       "eZYAoDwHUJ7hLYP4hCwGcaD8Sa4GJB9x5m9Y/ljsEwOTy0YGJi+fpwwM0S4MAAZLPqWMReTrAAAA\n",
       "AElFTkSuQmCC\n",
       "\" style=\"display:inline;vertical-align:middle;\" /></a>"
      ],
      "text/plain": [
       "|a|_{mod b}"
      ]
     },
     "metadata": {},
     "output_type": "display_data"
    }
   ],
   "source": [
    "# basic ModAbs expression\n",
    "ModAbs(a, b)"
   ]
  },
  {
   "cell_type": "markdown",
   "metadata": {},
   "source": [
    "## Common Attributes of a Mod Expression <a id='common_attributes'></a>"
   ]
  },
  {
   "cell_type": "markdown",
   "metadata": {},
   "source": [
    "<font size=4>Let's define a simple Mod expression, $(a+b) \\thinspace\\text{mod}\\thinspace c$, and look at some of its attributes.</font>"
   ]
  },
  {
   "cell_type": "code",
   "execution_count": 4,
   "metadata": {},
   "outputs": [
    {
     "data": {
      "text/html": [
       "<strong id=\"a_plus_b_mod_c\">a_plus_b_mod_c:</strong> <a class=\"ProveItLink\" href=\"../__pv_it/demonstrations/93cf55c7e586eb67b1ddf1fe007dbb2812cb0a380/expr.ipynb\"><img src=\"data:image/png;base64,iVBORw0KGgoAAAANSUhEUgAAAH0AAAAVBAMAAACZCfwhAAAAMFBMVEX///8AAAAAAAAAAAAAAAAA\n",
       "AAAAAAAAAAAAAAAAAAAAAAAAAAAAAAAAAAAAAAAAAAAv3aB7AAAAD3RSTlMAInZUiRDNmWbv3US7\n",
       "qzJazP2FAAAACXBIWXMAAA7EAAAOxAGVKw4bAAAB3UlEQVQ4y42UPUjDQBTH/zWNaTVtg6MgpIIo\n",
       "IiWDODmEIg6C0s1FaAcFB4UiDm52082CQ8UuBQtiQQjdnIxugoOoOEomwYIoaqVVEV+uqXqSQG7I\n",
       "3b33fve+7gJAgfvwkv8bHZqHouqPH3WRiWclOjjnhQwX/5hm3Cw6s/RZ8OIDH79rifPS7exidlIb\n",
       "njH/4cOcQlBb83HKVqV88GOu/BRLIueDX7XzuY6rPL/cfwUEL1qbu0LPiFodMSCuDBokTiYcPjlk\n",
       "YZHmI0Wuc7z4lkorCLVLe6hFG0Yoj5qCU4jbCLb4Xk0ysUfWO5BKHC/UEVYh5B3+DPhE9Atl4NGS\n",
       "M+36l20jaqX0hC7dbkWlcrBbqVDUUgYxHdEnhz8HXomPvlBj9LQKkfESi5n4sIm0wfmn4441dOd/\n",
       "+WfiBcJi5mObJ4wGxU8nbvH1p/avpyCUeJ75z/74TzPbU1pouBEUjreoJgiZPI8CXQyj03Tyj1F7\n",
       "DUwDsirsS5z/SE6mCyzpDr/E+A/cW5hHoIhIg+VvImihRvW/nOlL8P27XrOr4BTloXk73ryYfNcD\n",
       "q9Mkmk0m3tnNmNgcICPL7f61+uvn+Yaybu+HjTVf7//E85Wavvg5L4Xs7wcWUD0UcT/0N5PggHH4\n",
       "WIl7AAAAAElFTkSuQmCC\n",
       "\" style=\"display:inline;vertical-align:middle;\" /></a><br>"
      ],
      "text/plain": [
       "<IPython.core.display.HTML object>"
      ]
     },
     "metadata": {},
     "output_type": "display_data"
    }
   ],
   "source": [
    "a_plus_b_mod_c = Mod(Add(a, b), c)"
   ]
  },
  {
   "cell_type": "code",
   "execution_count": 5,
   "metadata": {},
   "outputs": [
    {
     "data": {
      "text/html": [
       "<strong id=\"a_mod_b\">a_mod_b:</strong> <a class=\"ProveItLink\" href=\"../__pv_it/demonstrations/b0f061f2cad9c22402067d497aec2bf3477e06db0/expr.ipynb\"><img src=\"data:image/png;base64,iVBORw0KGgoAAAANSUhEUgAAAEoAAAAOBAMAAAB6N5c4AAAAMFBMVEX///8AAAAAAAAAAAAAAAAA\n",
       "AAAAAAAAAAAAAAAAAAAAAAAAAAAAAAAAAAAAAAAAAAAv3aB7AAAAD3RSTlMAIquJdkTvuxBmmd1U\n",
       "zTKBpmoTAAAACXBIWXMAAA7EAAAOxAGVKw4bAAABHklEQVQoz2NgwAm8U8FUezYDPsD4FULfwquK\n",
       "AarqDzGqWH8Qo4p5A9h6ZUcHEP02S8TdIcQ9gIFjiVcAUNLED6KKV8XpAANDmAA7xMxNB/h+BnAm\n",
       "MLwWYChh4MhhYIao6r/B8ZGBI5OBC2wmQxkDw3cGvn8MmxkY3j9gvwDz4/kGhhQGrg8M3AZgbjkD\n",
       "w2egKj6gn/gN+h0YOCCq1oKE2QoY+gNgqr4AVfEAJfkL3sNVbWZg/cMA1DSfAVkV2KwFCLP+MHD9\n",
       "YOg/wKDLI4CkiiGLgSE+gLcA5q5/DG0TGNgdeHZxgbnXwaq+Mjx7wHCZgTGVgeknWFiToYqBgUPF\n",
       "TsgPxHv0Te/4NwXb3waMi42ADu0y8futABJvsprAAAD+eFq+nFUB4gAAAABJRU5ErkJggg==\n",
       "\" style=\"display:inline;vertical-align:middle;\" /></a><br>"
      ],
      "text/plain": [
       "<IPython.core.display.HTML object>"
      ]
     },
     "metadata": {},
     "output_type": "display_data"
    }
   ],
   "source": [
    "a_mod_b = Mod(a, b)"
   ]
  },
  {
   "cell_type": "markdown",
   "metadata": {},
   "source": [
    "<font size=4>We can use the `expr_info()` method to look at the how our mod expression is structured:</font>"
   ]
  },
  {
   "cell_type": "code",
   "execution_count": 6,
   "metadata": {},
   "outputs": [
    {
     "data": {
      "text/html": [
       "<table><tr><th>&nbsp;</th><th>core type</th><th>sub-expressions</th><th>expression</th></tr>\n",
       "<tr><td>0</td><td>Operation</td><td>operator:&nbsp;1<br>operands:&nbsp;2<br></td><td><a class=\"ProveItLink\" href=\"../__pv_it/demonstrations/93cf55c7e586eb67b1ddf1fe007dbb2812cb0a380/expr.ipynb\"><img src=\"data:image/png;base64,iVBORw0KGgoAAAANSUhEUgAAAH0AAAAVBAMAAACZCfwhAAAAMFBMVEX///8AAAAAAAAAAAAAAAAA\n",
       "AAAAAAAAAAAAAAAAAAAAAAAAAAAAAAAAAAAAAAAAAAAv3aB7AAAAD3RSTlMAInZUiRDNmWbv3US7\n",
       "qzJazP2FAAAACXBIWXMAAA7EAAAOxAGVKw4bAAAB3UlEQVQ4y42UPUjDQBTH/zWNaTVtg6MgpIIo\n",
       "IiWDODmEIg6C0s1FaAcFB4UiDm52082CQ8UuBQtiQQjdnIxugoOoOEomwYIoaqVVEV+uqXqSQG7I\n",
       "3b33fve+7gJAgfvwkv8bHZqHouqPH3WRiWclOjjnhQwX/5hm3Cw6s/RZ8OIDH79rifPS7exidlIb\n",
       "njH/4cOcQlBb83HKVqV88GOu/BRLIueDX7XzuY6rPL/cfwUEL1qbu0LPiFodMSCuDBokTiYcPjlk\n",
       "YZHmI0Wuc7z4lkorCLVLe6hFG0Yoj5qCU4jbCLb4Xk0ysUfWO5BKHC/UEVYh5B3+DPhE9Atl4NGS\n",
       "M+36l20jaqX0hC7dbkWlcrBbqVDUUgYxHdEnhz8HXomPvlBj9LQKkfESi5n4sIm0wfmn4441dOd/\n",
       "+WfiBcJi5mObJ4wGxU8nbvH1p/avpyCUeJ75z/74TzPbU1pouBEUjreoJgiZPI8CXQyj03Tyj1F7\n",
       "DUwDsirsS5z/SE6mCyzpDr/E+A/cW5hHoIhIg+VvImihRvW/nOlL8P27XrOr4BTloXk73ryYfNcD\n",
       "q9Mkmk0m3tnNmNgcICPL7f61+uvn+Yaybu+HjTVf7//E85Wavvg5L4Xs7wcWUD0UcT/0N5PggHH4\n",
       "WIl7AAAAAElFTkSuQmCC\n",
       "\" style=\"display:inline;vertical-align:middle;\" /></a></td></tr>\n",
       "<tr><td>1</td><td>Literal</td><td></td><td><a class=\"ProveItLink\" href=\"../__pv_it/common/f61fe43eeba657b57e4fe7773885cfa81fe3dfc20/expr.ipynb\"><img src=\"data:image/png;base64,iVBORw0KGgoAAAANSUhEUgAAACcAAAAOBAMAAABeLhj4AAAAMFBMVEX///8AAAAAAAAAAAAAAAAA\n",
       "AAAAAAAAAAAAAAAAAAAAAAAAAAAAAAAAAAAAAAAAAAAv3aB7AAAAD3RSTlMAMs3vmSJ2u0Tdq1Rm\n",
       "iRAK0ot5AAAACXBIWXMAAA7EAAAOxAGVKw4bAAAAo0lEQVQY02NgQAeZFgyYgPUHFkEGkgSFTMLS\n",
       "E9rSGxj43FIaGBh4ryWCVM7awPingceAQTKAoYyBz5qBFyRYzMDwnYHxI8NcBgZ5AXYFiO3lDAx/\n",
       "gYKMvxkY+C+8T2Dggwp+AwpyA9n8BfKogmCVDmgqGUwYGPobmAogZqqDBX8wCAsw6DKwWjBw/WFg\n",
       "kPq8cPvnBZd+XmD1vQV055NriT8XAACRZjrvZ/msrwAAAABJRU5ErkJggg==\n",
       "\" style=\"display:inline;vertical-align:middle;\" /></a></td></tr>\n",
       "<tr><td>2</td><td>ExprTuple</td><td>3, 4</td><td><a class=\"ProveItLink\" href=\"../__pv_it/demonstrations/eeb22c6db9038115f0aec984f46f217559ef02800/expr.ipynb\"><img src=\"data:image/png;base64,iVBORw0KGgoAAAANSUhEUgAAAEsAAAAVBAMAAAD85A5eAAAAMFBMVEX///8AAAAAAAAAAAAAAAAA\n",
       "AAAAAAAAAAAAAAAAAAAAAAAAAAAAAAAAAAAAAAAAAAAv3aB7AAAAD3RSTlMAInZUiRDNmWbv3US7\n",
       "qzJazP2FAAAACXBIWXMAAA7EAAAOxAGVKw4bAAABU0lEQVQoz4VSMUvDQBT+kjReUqPNXBBSQXCS\n",
       "DOocxElQ8gOEZBFchAwObmbTzY6iS0BFzBTcnBrd3IoW58xOXersu0sDOUjJG3Lfe/flu/e+OwA2\n",
       "WkIQVLeN9so/2w0b+mdSy9SYKmGTwFJUz04AFtcLy/OsJ3VyBZiSiuaU68ivV00fu420A7mFGOe0\n",
       "KJOBI9PO1r/nlL3NAp0xTgm+2dZMoul/flDa2XdZDiPEAxVvwRKJps1gluiRA22Iexp2iq5HJZam\n",
       "L3dpOiYUoscrYOKU1SmnmTmCTFKjv0bCEtriNg35oYGDG3lSsu1SWBKIXEvwQdjFj2ZLtIL61Tkg\n",
       "uzMYOQ4By9GemaS2ElsRArpGGrNTgHn4pUm/jta2ZEMmF9TgE6H96w1CGbpF0y2I2KlAHzCipqsX\n",
       "4VWApPG+6DXqlbLCXTleRFMrYHEXFKftkQ+Af4QlQWEf9NbUAAAAAElFTkSuQmCC\n",
       "\" style=\"display:inline;vertical-align:middle;\" /></a></td></tr>\n",
       "<tr><td>3</td><td>Operation</td><td>operator:&nbsp;5<br>operands:&nbsp;6<br></td><td><a class=\"ProveItLink\" href=\"../__pv_it/demonstrations/9df4b739076f4e12b1230310c3d5fc9349486de20/expr.ipynb\"><img src=\"data:image/png;base64,iVBORw0KGgoAAAANSUhEUgAAAC0AAAAQBAMAAABw0OvaAAAAMFBMVEX///8AAAAAAAAAAAAAAAAA\n",
       "AAAAAAAAAAAAAAAAAAAAAAAAAAAAAAAAAAAAAAAAAAAv3aB7AAAAD3RSTlMAIquJdkTvuxBmmd1U\n",
       "zTKBpmoTAAAACXBIWXMAAA7EAAAOxAGVKw4bAAAApUlEQVQY02NgwAAcZRsYsALeBah81gkQmv8A\n",
       "qjiPA4SOb8Aubg0mGZUdHVDFL7noAMkwAfYfKOIcfxv6BRg4Mhm4NqCI8/xgYHNg4PrAwG0A5HHt\n",
       "3r0te/duBSDrAgO/AQNbAUN/AIp6oLL4Awz9DgzzUd0DdP76Bob+Awy6PAIo4g+AdjKwO/Ds4kJR\n",
       "zzSBHRgQHCp2Qn6o7lReid2/6AAWbiAAAPUAI54ykipaAAAAAElFTkSuQmCC\n",
       "\" style=\"display:inline;vertical-align:middle;\" /></a></td></tr>\n",
       "<tr><td>4</td><td>Variable</td><td></td><td><a class=\"ProveItLink\" href=\"../../../__pv_it/common/ceef4280a2f1cc604b455b54e735507244cc62cd0/expr.ipynb\"><img src=\"data:image/png;base64,iVBORw0KGgoAAAANSUhEUgAAAAkAAAAJBAMAAAASvxsjAAAAKlBMVEX///8AAAAAAAAAAAAAAAAA\n",
       "AAAAAAAAAAAAAAAAAAAAAAAAAAAAAAAAAADmU0mKAAAADXRSTlMAiXZmMiLdVJm77xBEs3/oGgAA\n",
       "AAlwSFlzAAAOxAAADsQBlSsOGwAAADZJREFUCNdjYGAQUnZgYAgr4JjAwJDIwKXAwHGbAQi4JoDI\n",
       "vQogkteAgeEAA1ABI1CloLE2AwDCNQb+PNXqTgAAAABJRU5ErkJggg==\n",
       "\" style=\"display:inline;vertical-align:middle;\" /></a></td></tr>\n",
       "<tr><td>5</td><td>Literal</td><td></td><td><a class=\"ProveItLink\" href=\"../../addition/__pv_it/common/4b7effaab3619a1c2c38fe2dee8601df8ec714590/expr.ipynb\"><img src=\"data:image/png;base64,iVBORw0KGgoAAAANSUhEUgAAAA4AAAAOBAMAAADtZjDiAAAAHlBMVEX///8AAAAAAAAAAAAAAAAA\n",
       "AAAAAAAAAAAAAAAAAACGjDitAAAACXRSTlMARGZUdpnd76sKo+zpAAAACXBIWXMAAA7EAAAOxAGV\n",
       "Kw4bAAAAH0lEQVQI12NgYGAQYoAAE2LosLS08rS0DKLVI9EgewAshQUueejZFAAAAABJRU5ErkJg\n",
       "gg==\n",
       "\" style=\"display:inline;vertical-align:middle;\" /></a></td></tr>\n",
       "<tr><td>6</td><td>ExprTuple</td><td>7, 8</td><td><a class=\"ProveItLink\" href=\"../../ordering/__pv_it/theorems/3dcd5ceea6334d8cb48fe14fdae236293aa9a6050/expr.ipynb\"><img src=\"data:image/png;base64,iVBORw0KGgoAAAANSUhEUgAAACkAAAAVBAMAAAAp9toTAAAAMFBMVEX///8AAAAAAAAAAAAAAAAA\n",
       "AAAAAAAAAAAAAAAAAAAAAAAAAAAAAAAAAAAAAAAAAAAv3aB7AAAAD3RSTlMAInZUiRDNmWbv3US7\n",
       "qzJazP2FAAAACXBIWXMAAA7EAAAOxAGVKw4bAAABD0lEQVQY012RMUvDQBTHf2msaWK0mQvC1Q8g\n",
       "GdQ5s6DkAwjJInQROji4mc3RjoJLQMS1uDk1urmJFufOTl3q7LtrT5Le8O7/fvf433t3QERzmbwV\n",
       "r9FnHQ5qoP1eSlkhIq/XbQ4lnINX1GlX292A3/CcpBL8lKMGPTY2BZeyOdO+WtKLvS/Y+GAg+iUK\n",
       "F8seftMsopPzIPoOrzTUXeAr3BH30sacIDHUy+km7Mw19SuysaFyOInZGmmHTHH73+51ilvyJjTm\n",
       "243ams7kDjoVJxAq98kjk9G3i1BG9hJ+pIfP0919gkdR0yvtPiaY2bkOreiJydAmiRW6/tW+7Wpo\n",
       "nErC2Spp2dJQf5Gj1n6oD38eezDBj+ZZogAAAABJRU5ErkJggg==\n",
       "\" style=\"display:inline;vertical-align:middle;\" /></a></td></tr>\n",
       "<tr><td>7</td><td>Variable</td><td></td><td><a class=\"ProveItLink\" href=\"../../../__pv_it/common/c06c606ec12678c58933ac85412ecadc2ae28be60/expr.ipynb\"><img src=\"data:image/png;base64,iVBORw0KGgoAAAANSUhEUgAAAAsAAAAJBAMAAAAWSsseAAAAMFBMVEX///8AAAAAAAAAAAAAAAAA\n",
       "AAAAAAAAAAAAAAAAAAAAAAAAAAAAAAAAAAAAAAAAAAAv3aB7AAAAD3RSTlMAIquJdkTvuxBmmd1U\n",
       "zTKBpmoTAAAACXBIWXMAAA7EAAAOxAGVKw4bAAAARUlEQVQI12NgYFR2dGBgYAgTYP/BwMCRycC1\n",
       "gYGB6wMDtwEDA1sBQ38AA0O/A8N8oIr+Awy6PAIM7A48u7iAKlXshPwYAE2lCqdX0eXEAAAAAElF\n",
       "TkSuQmCC\n",
       "\" style=\"display:inline;vertical-align:middle;\" /></a></td></tr>\n",
       "<tr><td>8</td><td>Variable</td><td></td><td><a class=\"ProveItLink\" href=\"../../../__pv_it/common/195236b98c6c564a75b5dbada74b173bc52d5c3e0/expr.ipynb\"><img src=\"data:image/png;base64,iVBORw0KGgoAAAANSUhEUgAAAAkAAAAOBAMAAAAPuiubAAAAMFBMVEX///8AAAAAAAAAAAAAAAAA\n",
       "AAAAAAAAAAAAAAAAAAAAAAAAAAAAAAAAAAAAAAAAAAAv3aB7AAAAD3RSTlMAELvv3c2ZVESJq3Yi\n",
       "MmZ3LnoBAAAACXBIWXMAAA7EAAAOxAGVKw4bAAAAT0lEQVQI12NgVHZgAALWBBDJXwAi+wVA5BQQ\n",
       "wRC1ezkDA+NXAfkDDOwfGZg3MLAFMPBPYGCZwNBfAFKeL8DAf4HRjoGB6wET0AjGlXkMDAAVqA7Q\n",
       "GyenWgAAAABJRU5ErkJggg==\n",
       "\" style=\"display:inline;vertical-align:middle;\" /></a></td></tr>\n",
       "</table>\n"
      ],
      "text/plain": [
       "0. (a + b) mod c\n",
       "   core type: Operation\n",
       "   operator: 1\n",
       "   operands: 2\n",
       "1. mod\n",
       "   core type: Literal\n",
       "   sub-expressions: \n",
       "2. (a + b, c)\n",
       "   core type: ExprTuple\n",
       "   sub-expressions: 3, 4\n",
       "3. a + b\n",
       "   core type: Operation\n",
       "   operator: 5\n",
       "   operands: 6\n",
       "4. c\n",
       "   core type: Variable\n",
       "   sub-expressions: \n",
       "5. +\n",
       "   core type: Literal\n",
       "   sub-expressions: \n",
       "6. (a, b)\n",
       "   core type: ExprTuple\n",
       "   sub-expressions: 7, 8\n",
       "7. a\n",
       "   core type: Variable\n",
       "   sub-expressions: \n",
       "8. b\n",
       "   core type: Variable\n",
       "   sub-expressions: "
      ]
     },
     "metadata": {},
     "output_type": "display_data"
    }
   ],
   "source": [
    "a_plus_b_mod_c.expr_info()"
   ]
  },
  {
   "cell_type": "markdown",
   "metadata": {},
   "source": [
    "<font size=4>The operator for a Mod expression is simply the `mod` string:</font>"
   ]
  },
  {
   "cell_type": "code",
   "execution_count": 7,
   "metadata": {},
   "outputs": [
    {
     "data": {
      "text/html": [
       "<a class=\"ProveItLink\" href=\"../__pv_it/common/f61fe43eeba657b57e4fe7773885cfa81fe3dfc20/expr.ipynb\"><img src=\"data:image/png;base64,iVBORw0KGgoAAAANSUhEUgAAACcAAAAOBAMAAABeLhj4AAAAMFBMVEX///8AAAAAAAAAAAAAAAAA\n",
       "AAAAAAAAAAAAAAAAAAAAAAAAAAAAAAAAAAAAAAAAAAAv3aB7AAAAD3RSTlMAMs3vmSJ2u0Tdq1Rm\n",
       "iRAK0ot5AAAACXBIWXMAAA7EAAAOxAGVKw4bAAAAo0lEQVQY02NgQAeZFgyYgPUHFkEGkgSFTMLS\n",
       "E9rSGxj43FIaGBh4ryWCVM7awPingceAQTKAoYyBz5qBFyRYzMDwnYHxI8NcBgZ5AXYFiO3lDAx/\n",
       "gYKMvxkY+C+8T2Dggwp+AwpyA9n8BfKogmCVDmgqGUwYGPobmAogZqqDBX8wCAsw6DKwWjBw/WFg\n",
       "kPq8cPvnBZd+XmD1vQV055NriT8XAACRZjrvZ/msrwAAAABJRU5ErkJggg==\n",
       "\" style=\"display:inline;vertical-align:middle;\" /></a>"
      ],
      "text/plain": [
       "mod"
      ]
     },
     "metadata": {},
     "output_type": "display_data"
    }
   ],
   "source": [
    "a_plus_b_mod_c.operator"
   ]
  },
  {
   "cell_type": "markdown",
   "metadata": {},
   "source": [
    "<font size=4>We can get a tuple of the operands and a list of the variables. We can also get a separate list of the *free* variables in the expression (of course, in this expression, all the variables are also free variables):</font>"
   ]
  },
  {
   "cell_type": "code",
   "execution_count": 8,
   "metadata": {},
   "outputs": [
    {
     "data": {
      "text/html": [
       "<a class=\"ProveItLink\" href=\"../__pv_it/demonstrations/eeb22c6db9038115f0aec984f46f217559ef02800/expr.ipynb\"><img src=\"data:image/png;base64,iVBORw0KGgoAAAANSUhEUgAAAEsAAAAVBAMAAAD85A5eAAAAMFBMVEX///8AAAAAAAAAAAAAAAAA\n",
       "AAAAAAAAAAAAAAAAAAAAAAAAAAAAAAAAAAAAAAAAAAAv3aB7AAAAD3RSTlMAInZUiRDNmWbv3US7\n",
       "qzJazP2FAAAACXBIWXMAAA7EAAAOxAGVKw4bAAABU0lEQVQoz4VSMUvDQBT+kjReUqPNXBBSQXCS\n",
       "DOocxElQ8gOEZBFchAwObmbTzY6iS0BFzBTcnBrd3IoW58xOXersu0sDOUjJG3Lfe/flu/e+OwA2\n",
       "WkIQVLeN9so/2w0b+mdSy9SYKmGTwFJUz04AFtcLy/OsJ3VyBZiSiuaU68ivV00fu420A7mFGOe0\n",
       "KJOBI9PO1r/nlL3NAp0xTgm+2dZMoul/flDa2XdZDiPEAxVvwRKJps1gluiRA22Iexp2iq5HJZam\n",
       "L3dpOiYUoscrYOKU1SmnmTmCTFKjv0bCEtriNg35oYGDG3lSsu1SWBKIXEvwQdjFj2ZLtIL61Tkg\n",
       "uzMYOQ4By9GemaS2ElsRArpGGrNTgHn4pUm/jta2ZEMmF9TgE6H96w1CGbpF0y2I2KlAHzCipqsX\n",
       "4VWApPG+6DXqlbLCXTleRFMrYHEXFKftkQ+Af4QlQWEf9NbUAAAAAElFTkSuQmCC\n",
       "\" style=\"display:inline;vertical-align:middle;\" /></a>"
      ],
      "text/plain": [
       "(a + b, c)"
      ]
     },
     "metadata": {},
     "output_type": "display_data"
    }
   ],
   "source": [
    "a_plus_b_mod_c.operands"
   ]
  },
  {
   "cell_type": "code",
   "execution_count": 9,
   "metadata": {},
   "outputs": [
    {
     "data": {
      "text/html": [
       "<a class=\"ProveItLink\" href=\"../__pv_it/demonstrations/a916c7f29c3abbaa62f0c6124e20bb5f504c28200/expr.ipynb\"><img src=\"data:image/png;base64,iVBORw0KGgoAAAANSUhEUgAAADsAAAAVBAMAAAAKrYvGAAAAMFBMVEX///8AAAAAAAAAAAAAAAAA\n",
       "AAAAAAAAAAAAAAAAAAAAAAAAAAAAAAAAAAAAAAAAAAAv3aB7AAAAD3RSTlMAInZUiRDNmWbv3US7\n",
       "qzJazP2FAAAACXBIWXMAAA7EAAAOxAGVKw4bAAABO0lEQVQoz3WSsUvDQBTGv/TaXhKjzVwQUkFw\n",
       "kgzqHMRJUPIHCMkiuAgdHNzMppsdBZeCimtwc2rq5iZanDM7damz715MubTkhuT3vu/y7r13AeCi\n",
       "ZrHR8OvsF/XY0YTW+1CLGgkpsf5Bu69Hp4BMdKFTOekasCrHjUI9skLsVezDStROcEEvY9LzCuF8\n",
       "4+vf2t/K0fzAGeGr68yKyn/DqBhD15cZzBgPJN5BFg2JGawiz6MCMcA9FT+FHbAoY3SYJGdbmyrb\n",
       "yhClbNOuEbdGEq2VgUoeebidt33FrUV8hBjijdjHt3Bbys6pDgYaVgozwxHgeOJZIqLpriZOn4HK\n",
       "buaQAX6o8s/j9W3YT0STSzDg4GaTKIWdlzPaXYIuYM7vKFgCSoVxedfeIhiqu5Py8rEIjpqv4dX9\n",
       "TD3gD2L4PBeViBXSAAAAAElFTkSuQmCC\n",
       "\" style=\"display:inline;vertical-align:middle;\" /></a>"
      ],
      "text/plain": [
       "(a, b, c)"
      ]
     },
     "metadata": {},
     "output_type": "display_data"
    }
   ],
   "source": [
    "from proveit import used_vars, free_vars\n",
    "used_vars(a_plus_b_mod_c)"
   ]
  },
  {
   "cell_type": "code",
   "execution_count": 10,
   "metadata": {},
   "outputs": [
    {
     "data": {
      "text/html": [
       "<a class=\"ProveItLink\" href=\"../../ordering/__pv_it/theorems/3dcd5ceea6334d8cb48fe14fdae236293aa9a6050/expr.ipynb\"><img src=\"data:image/png;base64,iVBORw0KGgoAAAANSUhEUgAAACkAAAAVBAMAAAAp9toTAAAAMFBMVEX///8AAAAAAAAAAAAAAAAA\n",
       "AAAAAAAAAAAAAAAAAAAAAAAAAAAAAAAAAAAAAAAAAAAv3aB7AAAAD3RSTlMAInZUiRDNmWbv3US7\n",
       "qzJazP2FAAAACXBIWXMAAA7EAAAOxAGVKw4bAAABD0lEQVQY012RMUvDQBTHf2msaWK0mQvC1Q8g\n",
       "GdQ5s6DkAwjJInQROji4mc3RjoJLQMS1uDk1urmJFufOTl3q7LtrT5Le8O7/fvf433t3QERzmbwV\n",
       "r9FnHQ5qoP1eSlkhIq/XbQ4lnINX1GlX292A3/CcpBL8lKMGPTY2BZeyOdO+WtKLvS/Y+GAg+iUK\n",
       "F8seftMsopPzIPoOrzTUXeAr3BH30sacIDHUy+km7Mw19SuysaFyOInZGmmHTHH73+51ilvyJjTm\n",
       "243ams7kDjoVJxAq98kjk9G3i1BG9hJ+pIfP0919gkdR0yvtPiaY2bkOreiJydAmiRW6/tW+7Wpo\n",
       "nErC2Spp2dJQf5Gj1n6oD38eezDBj+ZZogAAAABJRU5ErkJggg==\n",
       "\" style=\"display:inline;vertical-align:middle;\" /></a>"
      ],
      "text/plain": [
       "(a, b)"
      ]
     },
     "metadata": {},
     "output_type": "display_data"
    }
   ],
   "source": [
    "free_vars(a_mod_b)"
   ]
  },
  {
   "cell_type": "markdown",
   "metadata": {},
   "source": [
    "<font size=4>We can replace selected variables in our expression with other variables:</font>"
   ]
  },
  {
   "cell_type": "code",
   "execution_count": 11,
   "metadata": {},
   "outputs": [
    {
     "data": {
      "text/html": [
       "<a class=\"ProveItLink\" href=\"../__pv_it/demonstrations/9897d1b694b2f89aef76fa557675533dc54886ab0/expr.ipynb\"><img src=\"data:image/png;base64,iVBORw0KGgoAAAANSUhEUgAAAH0AAAAVBAMAAACZCfwhAAAAMFBMVEX///8AAAAAAAAAAAAAAAAA\n",
       "AAAAAAAAAAAAAAAAAAAAAAAAAAAAAAAAAAAAAAAAAAAv3aB7AAAAD3RSTlMAInZUiRDNmWbv3US7\n",
       "qzJazP2FAAAACXBIWXMAAA7EAAAOxAGVKw4bAAAB6klEQVQ4y42UPUjDUBDH/zVN09qYBEdBiIIo\n",
       "IiWDODmEIg6C0s1FaAdFBQURBze76WbBoaKLoCAWhODmZHQTHETFUTIJCqL4hV+Il5fU5omBvCGX\n",
       "vHe/u3v3EQAa/l9h+39WnRFysBeN73YfyuRMcE883iDDxTCkcz2gWmBC5aNIuObGwvjYZ+1d8rwc\n",
       "5JhI+z6ZucXQmAN8yhMDnhB01MylchH4Hk+M8zwzlyhG4Ofc+1xknnh+uvUciJ96H9flxi59r8uC\n",
       "ONtu0XY24/PZDgcTJPc1+YXjxddcXkOy4PvYNZQ3K1nCrYYjiCuIe3yTIdnYJO1VSAWOF16Q0iGU\n",
       "fP4Y+ILyjS3g3pEL1fxvuUpUSukB9aZbikplZ61SoajJnGpCefD5E+CZeIUuqZp5HSLjJRYz8Skb\n",
       "eYvzT+YODKRLNf6ReIEw1b6v8oTRovjJ4jI4nsq/kIOwwfPM/8yv/zzTPaIXA5eCxvEO5QRJm+dR\n",
       "psawErZ/f5XKa2EQkHVhW+L8NxRlamDJ9Pkpxn/ixsEoYutoeGP3txF3cEv5PxtqzvD1u5h3s+An\n",
       "5e79qvf9tP/DjM0N0tZwNvPBOqNvqY2UnGBjVfvHq2+U8U1yg5sOtux8pPk/DJ1SOxI/EnYgR/uB\n",
       "xfSQg5Yo9A9WfIP3ye2B7wAAAABJRU5ErkJggg==\n",
       "\" style=\"display:inline;vertical-align:middle;\" /></a>"
      ],
      "text/plain": [
       "(d + b) mod c"
      ]
     },
     "metadata": {},
     "output_type": "display_data"
    }
   ],
   "source": [
    "a_plus_b_mod_c.basic_replaced({a:d})"
   ]
  },
  {
   "cell_type": "markdown",
   "metadata": {},
   "source": [
    "<font size=4>And if needed we can reach down further into the expression to extract and manipulate specific pieces of the expression:</font>"
   ]
  },
  {
   "cell_type": "code",
   "execution_count": 12,
   "metadata": {},
   "outputs": [
    {
     "data": {
      "text/html": [
       "<strong id=\"new\">new:</strong> <a class=\"ProveItLink\" href=\"../__pv_it/demonstrations/5d4c621a13424fce0ea65df8572a28aa3827257f0/expr.ipynb\"><img src=\"data:image/png;base64,iVBORw0KGgoAAAANSUhEUgAAAC0AAAAQBAMAAABw0OvaAAAAMFBMVEX///8AAAAAAAAAAAAAAAAA\n",
       "AAAAAAAAAAAAAAAAAAAAAAAAAAAAAAAAAAAAAAAAAAAv3aB7AAAAD3RSTlMAMs3vmVREEIndIqt2\n",
       "u2aBbGR5AAAACXBIWXMAAA7EAAAOxAGVKw4bAAAAtUlEQVQY02NgYGBgVHZgQALslydAWfwByOIM\n",
       "TDBl+QVgiu0BmrJOCMV6AEUZA4MKqjhEGdeOg19RxbXPbAWSyQt4v6OIs38qqF/AwG7HwKKAIs76\n",
       "nYH5AAPLBwbOBiCPZebMyZYzZ25gACnjb2BgvsBQn4CiHqgsP4Ch/gDDewYUcaDz/QsY6gMYNrEu\n",
       "QBEXANrJwHuAdQoLinruB7zAgGDf07j6IKo7d/ihBBfcX+gAFm4gAACdoTAkG5ekuwAAAABJRU5E\n",
       "rkJggg==\n",
       "\" style=\"display:inline;vertical-align:middle;\" /></a><br>"
      ],
      "text/plain": [
       "<IPython.core.display.HTML object>"
      ]
     },
     "metadata": {},
     "output_type": "display_data"
    }
   ],
   "source": [
    "new = a_plus_b_mod_c.operands[0].basic_replaced({a:d})"
   ]
  },
  {
   "cell_type": "markdown",
   "metadata": {},
   "source": [
    "## Axioms <a id='axioms'></a>"
   ]
  },
  {
   "cell_type": "markdown",
   "metadata": {},
   "source": [
    "<font size=4>The ``axioms`` for modular arithmetic …</font>"
   ]
  },
  {
   "cell_type": "markdown",
   "metadata": {},
   "source": [
    "## Demonstrations <a id='further_demonstrations'></a>"
   ]
  },
  {
   "cell_type": "markdown",
   "metadata": {},
   "source": [
    "<a id='demo01'></a><font size=4>1. TBA.<br><br>\n",
    "We begin with some simple expressions ….</font>"
   ]
  },
  {
   "cell_type": "markdown",
   "metadata": {},
   "source": [
    "<a id='demo02'></a><font size=4><br>2. TBA.<br><br>\n",
    "</font>"
   ]
  },
  {
   "cell_type": "markdown",
   "metadata": {},
   "source": [
    "<a id='demo03'></a><font size=4><br>3. TBA.<br><br>\n",
    "</font>"
   ]
  },
  {
   "cell_type": "markdown",
   "metadata": {},
   "source": [
    "## Simplifications"
   ]
  },
  {
   "cell_type": "code",
   "execution_count": 13,
   "metadata": {},
   "outputs": [
    {
     "data": {
      "text/html": [
       "<span style=\"font-size:20px;\"><a class=\"ProveItLink\" href=\"../__pv_it/theorems/fcaa7e87a67025d3d9c0804ecaf1a2528b95c3850/expr.ipynb\"><img src=\"data:image/png;base64,iVBORw0KGgoAAAANSUhEUgAAAEIAAAATBAMAAADWqMaJAAAAMFBMVEX///8AAAAAAAAAAAAAAAAA\n",
       "AAAAAAAAAAAAAAAAAAAAAAAAAAAAAAAAAAAAAAAAAAAv3aB7AAAAD3RSTlMAdqvNZt0yiUQQIrvv\n",
       "VJlmu9/8AAAACXBIWXMAAA7EAAAOxAGVKw4bAAAA/ElEQVQoz2NgwAseMBACG8hVwRm/25KB/fwJ\n",
       "uAqh/0YOqEq4LzQxMMxHMuMruiFMUewODDwMfLt3n969Bchn+46h4jaDFQMrwgzGHzAZ6dBQA7CK\n",
       "JQKLkVUwf4AqaJaEmbFAjbEASQW/AUScyxJuywJuhh1IKvoLIOLMCxAq2B5MnYoI0/oGqAqESxcw\n",
       "+PLuQbjcHhRIQJwTCgQboCqYJuggVHwGYi8gno1sBqfCVDiX4yOQUABiVmQVDInccC77N2CQgIKd\n",
       "UQAe6glAXjZcBSswOOongFi2MCHmC0DiMYw3yf6Tkv0nCHMHWCEDm/1pIDkZW7S3bw01wBAEALAD\n",
       "PDUdkDJaAAAAAElFTkSuQmCC\n",
       "\" style=\"display:inline;vertical-align:middle;\" /></a>, <a class=\"ProveItLink\" href=\"../__pv_it/theorems/dd752a1af661a2ae0fa7274541ad07ec697c1cdc0/expr.ipynb\"><img src=\"data:image/png;base64,iVBORw0KGgoAAAANSUhEUgAAAJUAAAAVBAMAAAC9PLGkAAAAMFBMVEX///8AAAAAAAAAAAAAAAAA\n",
       "AAAAAAAAAAAAAAAAAAAAAAAAAAAAAAAAAAAAAAAAAAAv3aB7AAAAD3RSTlMAEHarMolUmd1mIs3v\n",
       "RLtmgJDEAAAACXBIWXMAAA7EAAAOxAGVKw4bAAABo0lEQVQ4y2NgwApkLzCQBLiycEox7RUgzSwG\n",
       "54e4ZPKBRrEGVWGzxf63JbqYB8jix7jMigDibQwSC7BI8TegCTCa7xeAasFlFmcDA+sDLFL+ARhC\n",
       "+ljMYnrR0Q03i8+Age0jFrP0LxBjFu8mASR38RcwsHzDYtZ+BjxmCSmLhCaAGKsFkP0oDzTrJxaz\n",
       "fuMzq4DJiB0cnrsQstUMDOsDGFg+Yerj/YrDLB0g5lzA+ZF5AkhoAyLlnYSYhUUf618cZq0H+o2F\n",
       "gR1iCMuJjo6OPrBR1sDwlQ9g4MXiLu4PQAKoV7oDBFoQZjFagwKKRwGSThApwP0hOOzZsIQ9/waQ\n",
       "V7C4i3UviHl/ASM41JESITAR8z1g4MSSJu4DLWbG5kdQVpG7YMPAChZSQk2rB2CeRwHxDgwMmtjM\n",
       "igGZ51jDcA0SFAkoeaiNQcYBxJbfACNAoB/oG3Tnxi+AahFXYquEGMJodxHZLPEgEzCbowBGgAL4\n",
       "v7H1fwNUo4zPb56AkYd445DyEKkggmQJMszSId2salwS6xNINYrxJM7iu5hEw7iCgRoAax9fRXie\n",
       "R/IAAAAASUVORK5CYII=\n",
       "\" style=\"display:inline;vertical-align:middle;\" /></a> <a class=\"ProveItLink\" href=\"../__pv_it/demonstrations/a950dfdfe84357851b96116bb175e36985159c620/proof.ipynb\" style=\"text-decoration: none\">&nbsp;&#x22A2;&nbsp;&nbsp;</a><a class=\"ProveItLink\" href=\"../__pv_it/theorems/21a14b0b97f7b1cfdf50ec6c1e7c4018aa1a7d120/expr.ipynb\"><img src=\"data:image/png;base64,iVBORw0KGgoAAAANSUhEUgAAAIQAAAAVBAMAAAB1UFtyAAAAMFBMVEX///8AAAAAAAAAAAAAAAAA\n",
       "AAAAAAAAAAAAAAAAAAAAAAAAAAAAAAAAAAAAAAAAAAAv3aB7AAAAD3RSTlMAInZUiRDNmWbv3US7\n",
       "qzJazP2FAAAACXBIWXMAAA7EAAAOxAGVKw4bAAAB5ElEQVQ4y2NgYBBgIBIw4pJgMiDWCG4FHBIm\n",
       "eDQxrdwAYej+z21gYNDAroo1AZ/F8lAjGH6BCLYArIrYG/AZwQ81gu8LiOQowKqIk4EYI5h+g6mp\n",
       "WBWZEWUE2wcwlYFVUQkQB+nGuYDihS+zUOkQt9JpBoZwpWog30XpPdQIfkiI+aIHpNLVJ85ggwuY\n",
       "LrEvAAlxXWZ4383QycC3kIFHgSHSgMEfasR+BzDVBg69VWBwAcRk0FWoYlgMDCUBjq+84FDlmcDA\n",
       "f4Dh/QMuBwa+fwzHEDECNcoSzRWNDP0BNxhmA93PwA6NWZ4DDPwOQCPeA731hfUTA0M81Ih8kKsZ\n",
       "GN6jGfGAoQxIzgZHiwLCCAWgEfZAnX/4kIz4BraSYSdGUE4C4sVgrwqwBiAbAXLFdyRXcAOZDEDP\n",
       "W6GFBQP3R4ZQhkMMDDEbbjKwoLiCs4CB+zdDDjwsWP4BkwYwtHrQIuQ07wQGB1A82T+tZNgMiX6I\n",
       "ERv45jGwOTBIbmC4D0m7XMBk4R8ASQFIgPlf+ARuA4ZXoETAXAHOrnz35z4+P5clfwmDuMttoCUl\n",
       "Su/XgsRj8//ezf8LZKxGc0WRgnkz0IIHDEQDxgVYhXFkHZKy5EHijZDBIR5DvBG4bGNUINYEJuyl\n",
       "LABjW4as126RKQAAAABJRU5ErkJggg==\n",
       "\" style=\"display:inline;vertical-align:middle;\" /></a></span>"
      ],
      "text/plain": [
       "{L in NaturalPos, x in {0 .. L - 1}} |- (x mod L) = x"
      ]
     },
     "metadata": {},
     "output_type": "display_data"
    }
   ],
   "source": [
    "Mod(x, L).simplification(assumptions=[InSet(L, NaturalPos), InSet(x, Interval(zero, subtract(L, one)))])"
   ]
  },
  {
   "cell_type": "code",
   "execution_count": 14,
   "metadata": {},
   "outputs": [
    {
     "data": {
      "text/html": [
       "<span style=\"font-size:20px;\"><a class=\"ProveItLink\" href=\"../__pv_it/theorems/e599e69d4651f9a6f1b07f9ce05c2f434366950e0/expr.ipynb\"><img src=\"data:image/png;base64,iVBORw0KGgoAAAANSUhEUgAAAEIAAAATBAMAAADWqMaJAAAAMFBMVEX///8AAAAAAAAAAAAAAAAA\n",
       "AAAAAAAAAAAAAAAAAAAAAAAAAAAAAAAAAAAAAAAAAAAv3aB7AAAAD3RSTlMAdqvNZt0yiUQQIrvv\n",
       "VJlmu9/8AAAACXBIWXMAAA7EAAAOxAGVKw4bAAAA7UlEQVQoz2NgwAseMBACG8hVwWKz+3PMFiQV\n",
       "Qv+NHFCVcHMpcKjsRDLjK7oh3FwFDBuSGPh27z69G2QW23dsKl4xI8xg/AGTkQ4NNYCr4EaoYP4A\n",
       "VdAsiWSG5iSECn4DiDiXJZItbHutECr6CyDizAsQKg7HB05AhGl9A1QFkktLPA2QXG4PxJxAnBMK\n",
       "BBugtux0QVLxGYi9gHg2sm/zuCfAuRwfgYQCELMiq+DLQkQJ+zdgkICCnVEASQXnBhG4ClZgcNSD\n",
       "jbRFqHjA4MIN9QDDJPtPSvafIMwdE2Bx+3sB9+a/WKK9fWuoAYYgAF1RP6HGYknzAAAAAElFTkSu\n",
       "QmCC\n",
       "\" style=\"display:inline;vertical-align:middle;\" /></a>, <a class=\"ProveItLink\" href=\"../__pv_it/theorems/7306171df1f07656566d74f00ddcc2977a0b0df30/expr.ipynb\"><img src=\"data:image/png;base64,iVBORw0KGgoAAAANSUhEUgAAAFMAAAAVBAMAAADInc9CAAAAMFBMVEX///8AAAAAAAAAAAAAAAAA\n",
       "AAAAAAAAAAAAAAAAAAAAAAAAAAAAAAAAAAAAAAAAAAAv3aB7AAAAD3RSTlMAEHarMolUmd1mIs3v\n",
       "RLtmgJDEAAAACXBIWXMAAA7EAAAOxAGVKw4bAAABcUlEQVQoz2NgwAI0WjCEFjBgB7GYQpdwKw1V\n",
       "h5nDZP/bEkhOwKWUO4GxC8bjbwCRG3EpncHAEAfj+QeAyOkoKphedHRDlT5mYMgXgArrXwCRPAJI\n",
       "Knk3CcBN/Q40LAHK2w8muYGOFVIWCQWLrobri2UEKYV55DeYZDVgYChgMmIHO3wXwq1cX4FKFaCW\n",
       "fQVTnBsYOBdwfmQGG7ABTWkAhMP6F0yxHWBgYWCHqGE50dHR0Qd1AFDpfaip3B+AhAADC4jigYgx\n",
       "PkAKLKBb86He4geaxLmAgfcAkH1/ASPYQw1ISt8xMMyH+hJkOjPQAQ0MchdsGFjBYkpISucwMFQz\n",
       "MII58Q4MDJpAgx8w5DvWMFyDOCoBoZQjgfEIgzzYE/1An31kYGAPYBBXYquEqGG0uwhXyliq7MDA\n",
       "0QgUtP5vbP0fGKYcF5AjljcOHrEQkIgkuQJ/eg1AEqvEq5RRASHE9QCvUiYkIT4cOSYCM29pMTAA\n",
       "ANZdUnbnHDRTAAAAAElFTkSuQmCC\n",
       "\" style=\"display:inline;vertical-align:middle;\" /></a> <a class=\"ProveItLink\" href=\"../__pv_it/demonstrations/100fac244b1eb22506ec5ee20e1e84c67c165ddb0/proof.ipynb\" style=\"text-decoration: none\">&nbsp;&#x22A2;&nbsp;&nbsp;</a><a class=\"ProveItLink\" href=\"../__pv_it/theorems/21a14b0b97f7b1cfdf50ec6c1e7c4018aa1a7d120/expr.ipynb\"><img src=\"data:image/png;base64,iVBORw0KGgoAAAANSUhEUgAAAIQAAAAVBAMAAAB1UFtyAAAAMFBMVEX///8AAAAAAAAAAAAAAAAA\n",
       "AAAAAAAAAAAAAAAAAAAAAAAAAAAAAAAAAAAAAAAAAAAv3aB7AAAAD3RSTlMAInZUiRDNmWbv3US7\n",
       "qzJazP2FAAAACXBIWXMAAA7EAAAOxAGVKw4bAAAB5ElEQVQ4y2NgYBBgIBIw4pJgMiDWCG4FHBIm\n",
       "eDQxrdwAYej+z21gYNDAroo1AZ/F8lAjGH6BCLYArIrYG/AZwQ81gu8LiOQowKqIk4EYI5h+g6mp\n",
       "WBWZEWUE2wcwlYFVUQkQB+nGuYDihS+zUOkQt9JpBoZwpWog30XpPdQIfkiI+aIHpNLVJ85ggwuY\n",
       "LrEvAAlxXWZ4383QycC3kIFHgSHSgMEfasR+BzDVBg69VWBwAcRk0FWoYlgMDCUBjq+84FDlmcDA\n",
       "f4Dh/QMuBwa+fwzHEDECNcoSzRWNDP0BNxhmA93PwA6NWZ4DDPwOQCPeA731hfUTA0M81Ih8kKsZ\n",
       "GN6jGfGAoQxIzgZHiwLCCAWgEfZAnX/4kIz4BraSYSdGUE4C4sVgrwqwBiAbAXLFdyRXcAOZDEDP\n",
       "W6GFBQP3R4ZQhkMMDDEbbjKwoLiCs4CB+zdDDjwsWP4BkwYwtHrQIuQ07wQGB1A82T+tZNgMiX6I\n",
       "ERv45jGwOTBIbmC4D0m7XMBk4R8ASQFIgPlf+ARuA4ZXoETAXAHOrnz35z4+P5clfwmDuMttoCUl\n",
       "Su/XgsRj8//ezf8LZKxGc0WRgnkz0IIHDEQDxgVYhXFkHZKy5EHijZDBIR5DvBG4bGNUINYEJuyl\n",
       "LABjW4as126RKQAAAABJRU5ErkJggg==\n",
       "\" style=\"display:inline;vertical-align:middle;\" /></a></span>"
      ],
      "text/plain": [
       "{L in RealPos, x in [0,L)} |- (x mod L) = x"
      ]
     },
     "metadata": {},
     "output_type": "display_data"
    }
   ],
   "source": [
    "Mod(x, L).simplification(assumptions=[InSet(L, RealPos), InSet(x, IntervalCO(zero, L))])"
   ]
  },
  {
   "cell_type": "code",
   "execution_count": 15,
   "metadata": {},
   "outputs": [
    {
     "data": {
      "text/html": [
       "<span style=\"font-size:20px;\"><a class=\"ProveItLink\" href=\"../__pv_it/theorems/e599e69d4651f9a6f1b07f9ce05c2f434366950e0/expr.ipynb\"><img src=\"data:image/png;base64,iVBORw0KGgoAAAANSUhEUgAAAEIAAAATBAMAAADWqMaJAAAAMFBMVEX///8AAAAAAAAAAAAAAAAA\n",
       "AAAAAAAAAAAAAAAAAAAAAAAAAAAAAAAAAAAAAAAAAAAv3aB7AAAAD3RSTlMAdqvNZt0yiUQQIrvv\n",
       "VJlmu9/8AAAACXBIWXMAAA7EAAAOxAGVKw4bAAAA7UlEQVQoz2NgwAseMBACG8hVwWKz+3PMFiQV\n",
       "Qv+NHFCVcHMpcKjsRDLjK7oh3FwFDBuSGPh27z69G2QW23dsKl4xI8xg/AGTkQ4NNYCr4EaoYP4A\n",
       "VdAsiWSG5iSECn4DiDiXJZItbHutECr6CyDizAsQKg7HB05AhGl9A1QFkktLPA2QXG4PxJxAnBMK\n",
       "BBugtux0QVLxGYi9gHg2sm/zuCfAuRwfgYQCELMiq+DLQkQJ+zdgkICCnVEASQXnBhG4ClZgcNSD\n",
       "jbRFqHjA4MIN9QDDJPtPSvafIMwdE2Bx+3sB9+a/WKK9fWuoAYYgAF1RP6HGYknzAAAAAElFTkSu\n",
       "QmCC\n",
       "\" style=\"display:inline;vertical-align:middle;\" /></a>, <a class=\"ProveItLink\" href=\"../../ordering/__pv_it/theorems/d1323f34847310a404e8089c2c268d3c2eb89dbf0/expr.ipynb\"><img src=\"data:image/png;base64,iVBORw0KGgoAAAANSUhEUgAAADQAAAAQBAMAAACra0H4AAAAMFBMVEX///8AAAAAAAAAAAAAAAAA\n",
       "AAAAAAAAAAAAAAAAAAAAAAAAAAAAAAAAAAAAAAAAAAAv3aB7AAAAD3RSTlMAEHarMolUmd1mIs3v\n",
       "RLtmgJDEAAAACXBIWXMAAA7EAAAOxAGVKw4bAAAAyklEQVQY02NgwACce9797nnJgBXwcRnwWj7E\n",
       "IRXA8MAZp1QVN4qQXkfHBrgUH7LMbUUkXYbCQIaQskhoApDm2ohkIMuzXUBGAZMRewOQ5l6AkDrd\n",
       "3yQA9MUCzo/ME0BSSM6InAiylIWBHWw3g08HEDyAGvhwJliMRwFMySE73p1PAMS6v4ARRHMgS7F7\n",
       "AfXLXbBhYAUJMCkgSTE+0GRgyHesYbgGFtmGkCpgmMl3gUFcia0yASwi/FYAFvL/FvC9/oYcHFdf\n",
       "QAIKCgBACzQrtGfvLgAAAABJRU5ErkJggg==\n",
       "\" style=\"display:inline;vertical-align:middle;\" /></a> <a class=\"ProveItLink\" href=\"../__pv_it/demonstrations/28539a3155ee7bd2d3d615cf47399072af44c56c0/proof.ipynb\" style=\"text-decoration: none\">&nbsp;&#x22A2;&nbsp;&nbsp;</a><a class=\"ProveItLink\" href=\"../__pv_it/demonstrations/5f62cabfbf566f595f157467f28d5f999a7a66f80/expr.ipynb\"><img src=\"data:image/png;base64,iVBORw0KGgoAAAANSUhEUgAAAS8AAAAVBAMAAADlZnWUAAAAMFBMVEX///8AAAAAAAAAAAAAAAAA\n",
       "AAAAAAAAAAAAAAAAAAAAAAAAAAAAAAAAAAAAAAAAAAAv3aB7AAAAD3RSTlMAInZUiRDNmWbv3US7\n",
       "qzJazP2FAAAACXBIWXMAAA7EAAAOxAGVKw4bAAADZUlEQVRIx6VWT0gUURz+9v+f0dnFSxRB23Yo\n",
       "Qm0PURRBi0k30UtJUOihwKBYiyXCLkqQREFLER7E2MhLhTV46+TqIQiDhEiEMBeKICHWzEzdXPu9\n",
       "mbf7ZmZXe0sD+97Om+973/d+v9+8NwDCAByQvGSB4f/gcrYzRs0eWYoSkcONVhiTFjHYB+nnim+B\n",
       "2j9o9A0bl3uBfZvBnE81o59bnqG2twwgJSLYnk66Pb1l9vL8zxprvG2b4XYZxhBKs/ZC2XM5kRLb\n",
       "x5Z2fcvAco66xFp/92awEDeW0yPTX/ZcSkSwA6xPyXCcRv/wX8YO6H2gLLJSIoJ9iGW/U4bjXdC7\n",
       "rn8ZSxhoe5HJiQh2kjofhc8T/fDlBEvYxSvRCSU6CbRHb9C9u6mRc0LGzC08sTZcczTHjS3rrXvK\n",
       "pmwWwdeBuvrIaL0Gz9W9mllEsLv46nxoiPSwseB75O7gNtTHqInA8wBuzhkz3qpbfAYr7kwMrYYx\n",
       "RS9F+PVl9Dxj1wjsIhiJqSuaP4X5MCbMIoL9hGnQVtaHe20zbKwmhVAGuWwwDrWAms7SC8OFj3Bj\n",
       "Vtzr0lvJJVz2krKI4A3wh/GGqdyzJhHBZvtHgKbM4hoXzCAUJ3SOJlpCBwUtL7LvoXlQAedZBDo0\n",
       "UYptUBdsxiwieMsmVwvqTyqRuElEsIvGgPtCMEKCxzW2qJzgsOz3Aa9QAacKY6wU/WEoqQrGSiLM\n",
       "2CIZc9HcoYxJRLCLqYTyA6fMgiwSv00RU0gbVNFHbcZ0nCliY3Ro1VIy0rYas4gUjekR6zZFTLAn\n",
       "mAY9mKxNIW4WDHRDycObKabfXTCOirs2YwbuUqnGWrP6ueXP2CJmESkawwB50YSIid1ivJyuQntK\n",
       "ielZNgQ19RG8cTgGUbtiFC9lv5V2zSQXsuK2a5gzdq6XNN8vY3ewXBYRthAylse3LM6bREzsebYn\n",
       "pWk/iRy+qe9Pc0Of3w25E8PY1vyR7tubGtfYlnQusT6bWKc/z/k+ZsV5ktEcy5hnemN2eoMIQc1m\n",
       "zCyC76ufjq1OnVyLO5ItmhAxs4MUO7yQ/iCBIy2H21E2UoUIY+uHcr88xdcrhys/sqsQ0dnjrDDD\n",
       "0pSdkoHNlA1VIaKzz7LcZqQ543KwCi6qENHZDvaxXCdLcUoue3eFMWkRxv4LxNxTZQ/191AAAAAA\n",
       "SUVORK5CYII=\n",
       "\" style=\"display:inline;vertical-align:middle;\" /></a></span>"
      ],
      "text/plain": [
       "{L in RealPos, x in Real} |- ((x mod L) mod L) = (x mod L)"
      ]
     },
     "metadata": {},
     "output_type": "display_data"
    }
   ],
   "source": [
    "Mod(Mod(x, L), L).simplification(assumptions=[InSet(L, RealPos), InSet(x, Real)])"
   ]
  },
  {
   "cell_type": "code",
   "execution_count": 16,
   "metadata": {},
   "outputs": [
    {
     "data": {
      "text/html": [
       "<span style=\"font-size:20px;\"><a class=\"ProveItLink\" href=\"../../ordering/__pv_it/theorems/d1323f34847310a404e8089c2c268d3c2eb89dbf0/expr.ipynb\"><img src=\"data:image/png;base64,iVBORw0KGgoAAAANSUhEUgAAADQAAAAQBAMAAACra0H4AAAAMFBMVEX///8AAAAAAAAAAAAAAAAA\n",
       "AAAAAAAAAAAAAAAAAAAAAAAAAAAAAAAAAAAAAAAAAAAv3aB7AAAAD3RSTlMAEHarMolUmd1mIs3v\n",
       "RLtmgJDEAAAACXBIWXMAAA7EAAAOxAGVKw4bAAAAyklEQVQY02NgwACce9797nnJgBXwcRnwWj7E\n",
       "IRXA8MAZp1QVN4qQXkfHBrgUH7LMbUUkXYbCQIaQskhoApDm2ohkIMuzXUBGAZMRewOQ5l6AkDrd\n",
       "3yQA9MUCzo/ME0BSSM6InAiylIWBHWw3g08HEDyAGvhwJliMRwFMySE73p1PAMS6v4ARRHMgS7F7\n",
       "AfXLXbBhYAUJMCkgSTE+0GRgyHesYbgGFtmGkCpgmMl3gUFcia0yASwi/FYAFvL/FvC9/oYcHFdf\n",
       "QAIKCgBACzQrtGfvLgAAAABJRU5ErkJggg==\n",
       "\" style=\"display:inline;vertical-align:middle;\" /></a>, <a class=\"ProveItLink\" href=\"../__pv_it/theorems/e599e69d4651f9a6f1b07f9ce05c2f434366950e0/expr.ipynb\"><img src=\"data:image/png;base64,iVBORw0KGgoAAAANSUhEUgAAAEIAAAATBAMAAADWqMaJAAAAMFBMVEX///8AAAAAAAAAAAAAAAAA\n",
       "AAAAAAAAAAAAAAAAAAAAAAAAAAAAAAAAAAAAAAAAAAAv3aB7AAAAD3RSTlMAdqvNZt0yiUQQIrvv\n",
       "VJlmu9/8AAAACXBIWXMAAA7EAAAOxAGVKw4bAAAA7UlEQVQoz2NgwAseMBACG8hVwWKz+3PMFiQV\n",
       "Qv+NHFCVcHMpcKjsRDLjK7oh3FwFDBuSGPh27z69G2QW23dsKl4xI8xg/AGTkQ4NNYCr4EaoYP4A\n",
       "VdAsiWSG5iSECn4DiDiXJZItbHutECr6CyDizAsQKg7HB05AhGl9A1QFkktLPA2QXG4PxJxAnBMK\n",
       "BBugtux0QVLxGYi9gHg2sm/zuCfAuRwfgYQCELMiq+DLQkQJ+zdgkICCnVEASQXnBhG4ClZgcNSD\n",
       "jbRFqHjA4MIN9QDDJPtPSvafIMwdE2Bx+3sB9+a/WKK9fWuoAYYgAF1RP6HGYknzAAAAAElFTkSu\n",
       "QmCC\n",
       "\" style=\"display:inline;vertical-align:middle;\" /></a> <a class=\"ProveItLink\" href=\"../__pv_it/demonstrations/1d89960a1ef410c024864af81cd9a61df038ef300/proof.ipynb\" style=\"text-decoration: none\">&nbsp;&#x22A2;&nbsp;&nbsp;</a><a class=\"ProveItLink\" href=\"../__pv_it/demonstrations/8c1599ab4b9d11cfc98b0dbb309b1d3903b2d0cb0/expr.ipynb\"><img src=\"data:image/png;base64,iVBORw0KGgoAAAANSUhEUgAAAOgAAAAWBAMAAAA4H80iAAAAMFBMVEX///8AAAAAAAAAAAAAAAAA\n",
       "AAAAAAAAAAAAAAAAAAAAAAAAAAAAAAAAAAAAAAAAAAAv3aB7AAAAD3RSTlMAIolEdjIQq1SZ3WbN\n",
       "77uguLaDAAAACXBIWXMAAA7EAAAOxAGVKw4bAAACUElEQVRIx8WVTWjTYBjH/0vzVdolOQieysIK\n",
       "U0FYDoLeFiFStNsMHlREacEPmDLtwY/DJs3Vi9a6kx8wvAwEcYKgF1EUwdOWg5fdBhMEUem6rYrb\n",
       "nG+SWgtJ3/YV2XIob8Lz+//eh/fhLTR0+nSx1rUG0h1LOYOxrjVAk/KPA4wvro1tmhQ9dUyd3LxO\n",
       "odaxnL4F0sPGFkhn//8gncmc7XXI8uTctmFzz7ABceKgV99r5erYGqNUtK4e2UmXlvjLcW9SMOUI\n",
       "q0bCxQkNH4FRB/0BFqu2lcYf+U8hqIsjY96lShNaoiZNe+uvwC8IK3hIRsfGl8b0ckuMnT7Fq/wY\n",
       "VSog/jpYfwOqRCr8IKepi8vApQBLVshPnkFq437bQeo2G9JlIpVJY+q88Feqkk0lNKZB+tBWOqCJ\n",
       "+Sap32mpqdMBsikplDHkDd/e72bEmSK2iHMUII2LxnVwzZ1ijngMzDTOtN8GsqGMpJfBuxGdiguS\n",
       "C50CpHHr6APs87/O+NIlnLLxBkgZKPrzhSckqRbKULwMpRAhlVdG3JhDAdIYseR73iuOrV+5uV7Y\n",
       "/VPvKu8g9WLZyk2Rz+L4xrXxjYLXwefjmQvPDfDP+sBnBz1InY7qdMK88QIUgOmvrcdJzsuTWMB5\n",
       "lNHtZeQ06o3UAmCT5hVdcIUKlP214IiG6NdgC4BNCskUXHJnSXcqQcYn4DRNGg38g5RsPPln46tA\n",
       "X1tpCDjQsZS3SYZCMvAeKXLLpUiGsAi5EK5jA+iPWCy9fLu9Cs66DS576B0wWN01azADvwEQ3NCf\n",
       "c8wiEQAAAABJRU5ErkJggg==\n",
       "\" style=\"display:inline;vertical-align:middle;\" /></a></span>"
      ],
      "text/plain": [
       "{x in Real, L in RealPos} |- |x mod L|_{mod L} = |x|_{mod L}"
      ]
     },
     "metadata": {},
     "output_type": "display_data"
    }
   ],
   "source": [
    "ModAbs(Mod(x, L), L).simplification(assumptions=[InSet(L, RealPos), InSet(x, Real)])"
   ]
  },
  {
   "cell_type": "markdown",
   "metadata": {},
   "source": [
    "## Misc Testing <a id='misc_testing'></a>"
   ]
  },
  {
   "cell_type": "markdown",
   "metadata": {},
   "source": [
    "<font size=4>Some temporary testing while the `modular` theory and demonstrations page are developed (this material can be deleted later once the demonstrations page is more established).</font>"
   ]
  },
  {
   "cell_type": "markdown",
   "metadata": {},
   "source": [
    "<font size=4>Testing `Mod.deduce_in_number_set()` method for constants and variables.</font>"
   ]
  },
  {
   "cell_type": "code",
   "execution_count": 17,
   "metadata": {},
   "outputs": [],
   "source": [
    "from proveit.logic import InSet, NotEquals\n",
    "from proveit.numbers import zero, two, three, Integer, Natural, NaturalPos, Real"
   ]
  },
  {
   "cell_type": "code",
   "execution_count": 18,
   "metadata": {},
   "outputs": [
    {
     "data": {
      "text/html": [
       "<strong id=\"three_mod_two\">three_mod_two:</strong> <a class=\"ProveItLink\" href=\"../__pv_it/demonstrations/880352aa50b8b3f0c365d7163ed3d274eeb9bd1f0/expr.ipynb\"><img src=\"data:image/png;base64,iVBORw0KGgoAAAANSUhEUgAAAEoAAAAOBAMAAAB6N5c4AAAAMFBMVEX///8AAAAAAAAAAAAAAAAA\n",
       "AAAAAAAAAAAAAAAAAAAAAAAAAAAAAAAAAAAAAAAAAAAv3aB7AAAAD3RSTlMAIomZu0QQVHbN72bd\n",
       "Mqv0UZE7AAAACXBIWXMAAA7EAAAOxAGVKw4bAAABLUlEQVQoz2NgEFJ2ZcAGOE4FgGlhS18GBjYD\n",
       "hvoCrMrkwaoYHRj0Axg4vjPkT8Cqih+sik+AgWsBA+tSBn58qri+MfB9BDHqN+Az6wAD318gzXoa\n",
       "xOOdZdjhwdoB9ElyhymQr9RxPwCqnOcDULrvLYT9nOH+VoZdDLwHGVgaGLIKQI6GgPsNYBvBfmRZ\n",
       "wMDvwHD/Ao8CA+9fBk+YH4HgHAPUgSBVDgz8CkBV94F6PrH9YGDIh6pidgBaeIGB5TtMVQNQVT1Q\n",
       "8gsvkqp9IJ98Q1MFMuszklnsCgyCDFwPkGwEqeIyYGD9yjAF7q5LDAxtDNwboOHFCVEVwLuWgVOB\n",
       "QSqA4T1YmPGwsfEBBoZgY3Bs875fd91/HdP8QwzCSk+B0WvUcR/sN57///9PAADCpltl3IeWoQAA\n",
       "AABJRU5ErkJggg==\n",
       "\" style=\"display:inline;vertical-align:middle;\" /></a><br>"
      ],
      "text/plain": [
       "<IPython.core.display.HTML object>"
      ]
     },
     "metadata": {},
     "output_type": "display_data"
    }
   ],
   "source": [
    "three_mod_two = Mod(three, two)"
   ]
  },
  {
   "cell_type": "code",
   "execution_count": 19,
   "metadata": {},
   "outputs": [
    {
     "data": {
      "text/html": [
       "<strong id=\"a_mod_b\">a_mod_b:</strong> <a class=\"ProveItLink\" href=\"../__pv_it/demonstrations/b0f061f2cad9c22402067d497aec2bf3477e06db0/expr.ipynb\"><img src=\"data:image/png;base64,iVBORw0KGgoAAAANSUhEUgAAAEoAAAAOBAMAAAB6N5c4AAAAMFBMVEX///8AAAAAAAAAAAAAAAAA\n",
       "AAAAAAAAAAAAAAAAAAAAAAAAAAAAAAAAAAAAAAAAAAAv3aB7AAAAD3RSTlMAIquJdkTvuxBmmd1U\n",
       "zTKBpmoTAAAACXBIWXMAAA7EAAAOxAGVKw4bAAABHklEQVQoz2NgwAm8U8FUezYDPsD4FULfwquK\n",
       "AarqDzGqWH8Qo4p5A9h6ZUcHEP02S8TdIcQ9gIFjiVcAUNLED6KKV8XpAANDmAA7xMxNB/h+BnAm\n",
       "MLwWYChh4MhhYIao6r/B8ZGBI5OBC2wmQxkDw3cGvn8MmxkY3j9gvwDz4/kGhhQGrg8M3AZgbjkD\n",
       "w2egKj6gn/gN+h0YOCCq1oKE2QoY+gNgqr4AVfEAJfkL3sNVbWZg/cMA1DSfAVkV2KwFCLP+MHD9\n",
       "YOg/wKDLI4CkiiGLgSE+gLcA5q5/DG0TGNgdeHZxgbnXwaq+Mjx7wHCZgTGVgeknWFiToYqBgUPF\n",
       "TsgPxHv0Te/4NwXb3waMi42ADu0y8futABJvsprAAAD+eFq+nFUB4gAAAABJRU5ErkJggg==\n",
       "\" style=\"display:inline;vertical-align:middle;\" /></a><br>"
      ],
      "text/plain": [
       "<IPython.core.display.HTML object>"
      ]
     },
     "metadata": {},
     "output_type": "display_data"
    }
   ],
   "source": [
    "a_mod_b = Mod(a, b)"
   ]
  },
  {
   "cell_type": "markdown",
   "metadata": {},
   "source": [
    "<font size=4>Testing `Mod.deduce_in_interval()` method.</font>"
   ]
  },
  {
   "cell_type": "code",
   "execution_count": 20,
   "metadata": {},
   "outputs": [
    {
     "data": {
      "text/html": [
       "<span style=\"font-size:20px;\"> <a class=\"ProveItLink\" href=\"../__pv_it/demonstrations/13ad1539b81a78d369dc957aa0d242a3d51302550/proof.ipynb\" style=\"text-decoration: none\">&nbsp;&#x22A2;&nbsp;&nbsp;</a><a class=\"ProveItLink\" href=\"../__pv_it/demonstrations/1cec203b4721561aaf994f86f3cf9891bf01d9900/expr.ipynb\"><img src=\"data:image/png;base64,iVBORw0KGgoAAAANSUhEUgAAALoAAAAVBAMAAAADaun5AAAAMFBMVEX///8AAAAAAAAAAAAAAAAA\n",
       "AAAAAAAAAAAAAAAAAAAAAAAAAAAAAAAAAAAAAAAAAAAv3aB7AAAAD3RSTlMAInZUiRDNmWbv3US7\n",
       "qzJazP2FAAAACXBIWXMAAA7EAAAOxAGVKw4bAAACnklEQVQ4y42VTWgTQRiG3938/+1WLBZBaFgQ\n",
       "9CDkIIJeEkpREMXcStSSaC+KgimU5CBCToKokIsglkqk/kYLuYh4iwU9KGqhIIrFBhQEL2tNo4LS\n",
       "+M3sbrJ1f7oDO5nM5Hvyzfu9MwtgAF6aYDN3rOESsJlzxZQneixpmRLPZF0CpCW2uhsYPPDK9gfi\n",
       "Ay25odIbYIdlOU3h/pFJO/Id6uILQKCAQBFp+w0Mc7rQxJEGgpZED9IzgaNWZcdLHer9NSBUgdhG\n",
       "vmBLlzk9MYBIFeGiDT1cg79ps2mDHiFJpyG70SMdJFaAa3rky/rdHp127+u40PdoElbccq8hsQac\n",
       "0qp7MmvKXS5CarvQp3jIfV6L05PKfEyhCo8p5+n7qKIalot+Bw7z0ZasWZk80X+70FlG0q5PGmMR\n",
       "6mVcgnQL8SRyKVZMrankx4t8dKLPKFHZM5B+ONDFKjCrKcM9E69CbkJtRSlmDS8Mz1Cbo2cvH/UL\n",
       "JFzX6KsOdIEkm4ZeOEZvQs4QXaX/Wg1QTnmdHmK+ULl6N+r1+iMOf0eL+QxiTrljfILRpRbibYOe\n",
       "JHqa4v5KJvpV1j1lXaDvv6/PeVV9TlXF/gZTRu78R2e5/zLl7stgE7CPj2t9xmseEXZyJLPqPMmy\n",
       "YFKG0SNFxP7gbE/3L8B24AofK+tPUxWhgpNnqtxn4Yru96BGb0g3EcxgawPLfFq4Vy4b3kUwte4m\n",
       "mEWuxcb8sPdOvH9Fd+Q3+nxS5reYtDzz+e2M/9xtDI1+JImnFHWOG7Xb7VLcQx4YWHpspo+N6GYu\n",
       "Gh07fh9+vtfo0Ra8NUFXPHbIdBO4NUa3Xk4OLVSxuyM3oOOZR/o2y8zODdJhVTjukW7NYtj9rZZj\n",
       "mxWSnuCi9SUhXHDDDy4C/wAT/8Fu/7O9ogAAAABJRU5ErkJggg==\n",
       "\" style=\"display:inline;vertical-align:middle;\" /></a></span>"
      ],
      "text/plain": [
       "|- (3 mod 2) in {0 .. 1}"
      ]
     },
     "metadata": {},
     "output_type": "display_data"
    }
   ],
   "source": [
    "three_mod_two.deduce_in_interval()"
   ]
  },
  {
   "cell_type": "code",
   "execution_count": 21,
   "metadata": {},
   "outputs": [
    {
     "data": {
      "text/html": [
       "<span style=\"font-size:20px;\"><a class=\"ProveItLink\" href=\"../../ordering/__pv_it/theorems/4aa8d696b1f407d6126de9f51a052e8d90e0848c0/expr.ipynb\"><img src=\"data:image/png;base64,iVBORw0KGgoAAAANSUhEUgAAADMAAAAQBAMAAABJt1qBAAAAMFBMVEX///8AAAAAAAAAAAAAAAAA\n",
       "AAAAAAAAAAAAAAAAAAAAAAAAAAAAAAAAAAAAAAAAAAAv3aB7AAAAD3RSTlMAIquJdkTvuxBmmd1U\n",
       "zTKBpmoTAAAACXBIWXMAAA7EAAAOxAGVKw4bAAAAzElEQVQY02NgwABz0+tvp09gwAoKhBiCpjdg\n",
       "lxJmYOdTwCXFJXABRch99+4LcKkCZJlYD4Qupg6QgYzKjg4gAcYbSAY+PysAZIQJsP8ACfAKwKXE\n",
       "bv8GmcCRycC1ASyF5IyZvSCa6wMDtwGI8Ww3EBRApNg7QV5mK2DoDwAJtCPp4ltQAaT7HRjmgwW4\n",
       "kf21ThwkdYBBlwfkAhYHJKl2FqCJ7A48u7jAInfgUlIMnBNKgS5UsRPyA4s0lTbAQr6Qofz+AeTg\n",
       "CK7ejRxyAISENKeL/c93AAAAAElFTkSuQmCC\n",
       "\" style=\"display:inline;vertical-align:middle;\" /></a>, <a class=\"ProveItLink\" href=\"../../ordering/__pv_it/theorems/6e5cad5b2984ed0d75bd47bd0c542ec447a4f3570/expr.ipynb\"><img src=\"data:image/png;base64,iVBORw0KGgoAAAANSUhEUgAAADEAAAAQBAMAAABNQoq8AAAAMFBMVEX///8AAAAAAAAAAAAAAAAA\n",
       "AAAAAAAAAAAAAAAAAAAAAAAAAAAAAAAAAAAAAAAAAAAv3aB7AAAAD3RSTlMAELvv3c2ZVESJq3Yi\n",
       "MmZ3LnoBAAAACXBIWXMAAA7EAAAOxAGVKw4bAAAA1ElEQVQY02NgQAdPjfRDjB4AGYzKDmhSCqcY\n",
       "uh4JABmsCegyJxmYeBcAGfwFmDJsBwKAjH4BqMgmF5cAuIwCkDEFKtG6EaGHSxBkWtTu5SA+TyCS\n",
       "aZdKDwDd9lVA/gDIIQfgModDvoD0s39kYN4AkkFywTtREM0WwMA/AUhfdgECBYgMkxzIpywTGPpB\n",
       "7hZC0sOboAjxTj7I3SzI/sk9BJK5wGgH4nNvQJIR4gYax/WACRI84XCZYwx8DzSArl6ZBxGQ0hCA\n",
       "hbUOg1I8cph1qkBCBwoAxe43BugJR6MAAAAASUVORK5CYII=\n",
       "\" style=\"display:inline;vertical-align:middle;\" /></a>, <a class=\"ProveItLink\" href=\"../__pv_it/theorems/1157e8bc07ff5d23e5b8809064b9e77def3bc8980/expr.ipynb\"><img src=\"data:image/png;base64,iVBORw0KGgoAAAANSUhEUgAAAC8AAAAUCAMAAAAqRJTwAAAAPFBMVEX///8AAAAAAAAAAAAAAAAA\n",
       "AAAAAAAAAAAAAAAAAAAAAAAAAAAAAAAAAAAAAAAAAAAAAAAAAAAAAAAAAAAo1xBWAAAAE3RSTlMA\n",
       "ELvv3c2ZVESJq3YiMmbn9enzVleb9QAAAAlwSFlzAAAOxAAADsQBlSsOGwAAANlJREFUKM+VkusS\n",
       "xBAMhcUlGspevP+7LjG6bK0ZfmhSn+OICPF/IMz+glR6igfZZ0QezxoanPIydImxWVnXDclO5V2X\n",
       "RLZAfOKRpj7l2Se82TJJU/tHLy8SWw7sxDjv3c2S6eWh8bHEBvLUllHzeDzL3M44E1XeN1PKL+S/\n",
       "fP6gYYM0uh9LDHX5KPqaOLIL+XZfWygm8aop+3+96y2uGkmufCxUys8IKo7yvy8SFWsV6y6jcrRr\n",
       "7w2iSz+o0iHgCKNYy2cKybsw72NLYmsY2MLjprzekxdhtfgBfooGZl93KjkAAAAASUVORK5CYII=\n",
       "\" style=\"display:inline;vertical-align:middle;\" /></a> <a class=\"ProveItLink\" href=\"../__pv_it/demonstrations/8b549c5d160aed727d536f6aff1f7d9cc7defa220/proof.ipynb\" style=\"text-decoration: none\">&nbsp;&#x22A2;&nbsp;&nbsp;</a><a class=\"ProveItLink\" href=\"../__pv_it/theorems/f12122c93443300fd5d2d6448c4276ff1b2466ec0/expr.ipynb\"><img src=\"data:image/png;base64,iVBORw0KGgoAAAANSUhEUgAAAKUAAAAVBAMAAADVzzOcAAAAMFBMVEX///8AAAAAAAAAAAAAAAAA\n",
       "AAAAAAAAAAAAAAAAAAAAAAAAAAAAAAAAAAAAAAAAAAAv3aB7AAAAD3RSTlMAInZUiRDNmWbv3US7\n",
       "qzJazP2FAAAACXBIWXMAAA7EAAAOxAGVKw4bAAACvUlEQVQ4y42VTWgTQRTH/5tksvlqEjx4EIVt\n",
       "LxVpyx5UUISGIgrSyt5EqCSKRQ8KQYJ4MydFERoUqbQgEatCVAgFDz0l9SIVhVCLeBDZk2BBUm2r\n",
       "/ZDim5ndzZeJO7Az783M/uZ97SyAONw0pXnCUzBbVhWL5tFdMcNa04Sv2KrQMMPH/R1A+6bEMDpJ\n",
       "3d5/MI/2xm2FzefFnCcLsFQnh7fkeIEev9HC9OvsUU1Jy3PGADXbyWOLuUJPIN3CvA0MO0pMl8yb\n",
       "QBD/Z4bXeH/fys3bwlML8x4YNGxmyZDMoIGDLpi+PO8vSv45wzHtN1DVbeWEFWN/FhketsVukdWv\n",
       "Ezv6tJm+ItiVXlr1DQ1Ipn+hn14dEfJOw/GdcWbWZl7u+SCYvoo4fTYeEd7hpR5dLwZyWIrjNdg9\n",
       "+CQzOcZ+ADeEfLYWT2WVmJp9wC8jGefMQAqPKfUPoArvMA/8QXQb07TZjKTsvFPQ7gKHhJxqYiYs\n",
       "xbuGoMaZ3hyoAtVlhOTSO2CVmFHKcyyR1MAk8yqfRpWL0clCofDCMo0mS7adaope4czoMmcGy0gW\n",
       "beZPYnoJFStXHeY0wnTKLBdZua6WKJ6Ddo7IqpLOmeEc950MGkc9U9iZrtm5ApXifVjI+TombR+3\n",
       "a4nK87ohfM9TLpDU8dEbr2Nigpwq+st2PLdxmtJ7R8g9dcxbPCzMYpqUFpGjMq+QiOZ9pop9lwRz\n",
       "C99MnIcyha51Mf0Jb6jPyLrSa8yQzh4imRJKVzaSFkw1gSWK0cLJPQN82/eNL0c2Ksc2E0pmhFZP\n",
       "DQ1sVvj8meO8Cp8LFPv8ymGyTL+J0BOZsMVrsuZDdJYJd02xIhkedr5N2Q403HXY1Xo1tG3Nl43D\n",
       "TDQyyVzMuWTubnMnM62BqfBiG3XJnGvD9DTe8xFeQIrmCulp/m356v9HHtMeuoG/sdLaBfPTSXgA\n",
       "AAAASUVORK5CYII=\n",
       "\" style=\"display:inline;vertical-align:middle;\" /></a></span>"
      ],
      "text/plain": [
       "{a in Real, b in Real, b != 0} |- (a mod b) in [0,|b|)"
      ]
     },
     "metadata": {},
     "output_type": "display_data"
    }
   ],
   "source": [
    "a_mod_b.deduce_in_interval(\n",
    "    assumptions=[InSet(a, Real), InSet(b, Real), NotEquals(b, zero)])"
   ]
  },
  {
   "cell_type": "markdown",
   "metadata": {},
   "source": [
    "<font size=4>Testing `Mod.deduce_in_number_set()` method.</font>"
   ]
  },
  {
   "cell_type": "code",
   "execution_count": 22,
   "metadata": {},
   "outputs": [
    {
     "data": {
      "text/html": [
       "<span style=\"font-size:20px;\"> <a class=\"ProveItLink\" href=\"../__pv_it/demonstrations/3c3f0475472846a017fedb585ad1eb3a2b5d22af0/proof.ipynb\" style=\"text-decoration: none\">&nbsp;&#x22A2;&nbsp;&nbsp;</a><a class=\"ProveItLink\" href=\"../__pv_it/demonstrations/48d88759ade03f0de944b1d6c4301bc0a69fd8c10/expr.ipynb\"><img src=\"data:image/png;base64,iVBORw0KGgoAAAANSUhEUgAAAIAAAAAVBAMAAAB8u/sIAAAAMFBMVEX///8AAAAAAAAAAAAAAAAA\n",
       "AAAAAAAAAAAAAAAAAAAAAAAAAAAAAAAAAAAAAAAAAAAv3aB7AAAAD3RSTlMAInZUiRDNmWbv3US7\n",
       "qzJazP2FAAAACXBIWXMAAA7EAAAOxAGVKw4bAAACMklEQVQ4y42UTWjUUBDH/9ma7HdSQSyC4BIQ\n",
       "vAh7KIJeNmDBg4p7E2GhqyBYKBihuAdBchJEhV682FZXFD+ihVyk9BYrFvyueFTagILgJdVaRCxd\n",
       "502y6XbZlAxs3mQm75eZ+b8sgH4kMSk2kyonAuRLXYG+kb+j9isLGAR2HHnTm/3Y4XXg4ntgX3fy\n",
       "nYe6Ash1yCYqvcvYwwDJxQkHSnVzLm0iZR2m1UJqBcP1ngCNAcV+ZMeRMTfnKFqTXSBL7U1A2wqQ\n",
       "XUXxJ3AzLP21/UCsMnC56AEHOFqxtqqgieI6cC4Y5pmoFXXhO13HOPqIAyMX9Lm8TgM9qV+i+yHd\n",
       "d8Jnc8vAcfZ2boyiUH2JgKvuXwwe+wT/Gq5CvYtCCafKYnaB+STiFfZOb9Q3mBHS3gtaYBUK49Bc\n",
       "+F7OgLqO+bYKZNP0O8hex7CEiMAEwjkJgAvNIIBPuN/yL2A4BKRdUQW3ecu27afhCTwKVAVA9VBY\n",
       "aQNKBKjQvjW1A3BDXGZ59m5UQI3OBz6KFrTVLoCo4E9HBX0GtgOH2G9GgEU6CfIy5qj+hY4WBCBr\n",
       "Iv8Po9EMvgF7gevs65GI5gwrTOJkrPAcKAHAUW9DMbDLwRKHpYeNRjMUHEo5EvEspBcufpA/0+CP\n",
       "SV2a+vphatv5+xgY+kztjun+NKvbarVo+E94n/zlWQCYnZ98e2fSQM5DMpPC7vPHgqPctu5vJNbS\n",
       "VkzieULA7rhELSEg9kVSKdH+VMxf539zGZtwrfpFnQAAAABJRU5ErkJggg==\n",
       "\" style=\"display:inline;vertical-align:middle;\" /></a></span>"
      ],
      "text/plain": [
       "|- (3 mod 2) in Integer"
      ]
     },
     "metadata": {},
     "output_type": "display_data"
    }
   ],
   "source": [
    "# deduce that int mod int is in the Integer set\n",
    "three_mod_two.deduce_in_number_set(Integer)"
   ]
  },
  {
   "cell_type": "code",
   "execution_count": 23,
   "metadata": {},
   "outputs": [
    {
     "data": {
      "text/html": [
       "<span style=\"font-size:20px;\"><a class=\"ProveItLink\" href=\"../../number_sets/integers/__pv_it/theorems/d82a9927958f2919b6e25fa4d8e512f4047160210/expr.ipynb\"><img src=\"data:image/png;base64,iVBORw0KGgoAAAANSUhEUgAAADIAAAAQBAMAAACmdTG/AAAAMFBMVEX///8AAAAAAAAAAAAAAAAA\n",
       "AAAAAAAAAAAAAAAAAAAAAAAAAAAAAAAAAAAAAAAAAAAv3aB7AAAAD3RSTlMAIquJdkTvuxBmmd1U\n",
       "zTKBpmoTAAAACXBIWXMAAA7EAAAOxAGVKw4bAAAA3klEQVQY02NgwAA8175d3102AVOCgaXoAcMF\n",
       "XiwSDFwLGFgm2GCTYRJgaOcoQDGlevdeEM3BwLCO6QGSBOuVBhiTT+EViGJUdnQA0bJwCQb2hgoQ\n",
       "FSbA/gNEX0RoP8wJUsuRycC1AcS9gJCBuJnrAwO3Acjs7N27d2+HOOWAKQNDAwNbAUN/AEgvwp3t\n",
       "jEC2IkO/A8N8MH8DXEYP6COODwz9Bxh0eQSAfBe4mxdEAb27gYHdgWcXF0iA9wDczTcYGGsKGDhU\n",
       "7IT8wF5Xj4DIhNWml+enGyAHgjkkdKAAAEfmMVewssrcAAAAAElFTkSuQmCC\n",
       "\" style=\"display:inline;vertical-align:middle;\" /></a>, <a class=\"ProveItLink\" href=\"../../number_sets/integers/__pv_it/theorems/f7f8f0c7b17df91c5737500a28a9355fd753ce490/expr.ipynb\"><img src=\"data:image/png;base64,iVBORw0KGgoAAAANSUhEUgAAADAAAAAQBAMAAACigOGCAAAAMFBMVEX///8AAAAAAAAAAAAAAAAA\n",
       "AAAAAAAAAAAAAAAAAAAAAAAAAAAAAAAAAAAAAAAAAAAv3aB7AAAAD3RSTlMAELvv3c2ZVESJq3Yi\n",
       "MmZ3LnoBAAAACXBIWXMAAA7EAAAOxAGVKw4bAAAA50lEQVQY02NgQAfswZ+DXJQfMDAqO6BKcGtd\n",
       "YAhgBTJYE1Al2BIYuB9MBzL4C1AluA4wCDEqABn9AlAjVFxcQTQjA0Mu1wUgYwpEnCNaAKaHd8E1\n",
       "EBW1ezmIOgoXZ2ASUATp/CogfwBIxyBsqeTbAHL2RwZmEB2AkAA7loEtgIF/AtBcExcXFyeIKwpm\n",
       "MDAIMLBMYOgHOhjsQAgQ4gGy14C8kQ+yF+H/tUCfMH5g4L/AaAfi7oY7NqEN6EsHBq4HTOAwYS2A\n",
       "OzaQgUddgYFxZR6Yz7ioESLRrGqkZG80AeFIjkmQIIECANNVKrcrbsjPAAAAAElFTkSuQmCC\n",
       "\" style=\"display:inline;vertical-align:middle;\" /></a>, <a class=\"ProveItLink\" href=\"../__pv_it/theorems/1157e8bc07ff5d23e5b8809064b9e77def3bc8980/expr.ipynb\"><img src=\"data:image/png;base64,iVBORw0KGgoAAAANSUhEUgAAAC8AAAAUCAMAAAAqRJTwAAAAPFBMVEX///8AAAAAAAAAAAAAAAAA\n",
       "AAAAAAAAAAAAAAAAAAAAAAAAAAAAAAAAAAAAAAAAAAAAAAAAAAAAAAAAAAAo1xBWAAAAE3RSTlMA\n",
       "ELvv3c2ZVESJq3YiMmbn9enzVleb9QAAAAlwSFlzAAAOxAAADsQBlSsOGwAAANlJREFUKM+VkusS\n",
       "xBAMhcUlGspevP+7LjG6bK0ZfmhSn+OICPF/IMz+glR6igfZZ0QezxoanPIydImxWVnXDclO5V2X\n",
       "RLZAfOKRpj7l2Se82TJJU/tHLy8SWw7sxDjv3c2S6eWh8bHEBvLUllHzeDzL3M44E1XeN1PKL+S/\n",
       "fP6gYYM0uh9LDHX5KPqaOLIL+XZfWygm8aop+3+96y2uGkmufCxUys8IKo7yvy8SFWsV6y6jcrRr\n",
       "7w2iSz+o0iHgCKNYy2cKybsw72NLYmsY2MLjprzekxdhtfgBfooGZl93KjkAAAAASUVORK5CYII=\n",
       "\" style=\"display:inline;vertical-align:middle;\" /></a> <a class=\"ProveItLink\" href=\"../__pv_it/demonstrations/7581391d4b7e08bdb6924fd1968a6e58f87550870/proof.ipynb\" style=\"text-decoration: none\">&nbsp;&#x22A2;&nbsp;&nbsp;</a><a class=\"ProveItLink\" href=\"../__pv_it/theorems/a925bf088ab052cb2008b5e660d23c8be4b0121f0/expr.ipynb\"><img src=\"data:image/png;base64,iVBORw0KGgoAAAANSUhEUgAAAH8AAAAVBAMAAACd/CwcAAAAMFBMVEX///8AAAAAAAAAAAAAAAAA\n",
       "AAAAAAAAAAAAAAAAAAAAAAAAAAAAAAAAAAAAAAAAAAAv3aB7AAAAD3RSTlMAInZUiRDNmWbv3US7\n",
       "qzJazP2FAAAACXBIWXMAAA7EAAAOxAGVKw4bAAACLklEQVQ4y42UT0gUcRTHv+PuzKizOw4dOm0w\n",
       "1aGQddlDBIXQ4qEuGXsLYWO3KCzoICF1jQ6dgqIoRYOEpGAzGIIOnpokCcWDSkRELHMqEmJLDVwN\n",
       "6f3eb2ZXF2adH/x+7/F+vM+8f78BYCHKUkJv2rKRAIbdZDj+7Mn81Cgpx1p4dY+zKIzRcbTpLl2B\n",
       "hhKgllrFvSXlIG0tv/vuFjHjFL1+u1XgPmCNdvvQ7qslqG6BZAf2Bhh/xfnYr9l8+YWQeeheRdQi\n",
       "AiA+Ic6rEnapnsovUwQ1LFL9dJBr/H1kX9p+k3ag3jjikF9fRgK05R5Ktp/1/Y1SzCbyPnfaSnCQ\n",
       "eJ01N5z2B1ixMAP1EeISULyi/gHusn6x7h/L3RHiOTViFDoHiTngH8xtTAJVL1EKunAqj4fACdYb\n",
       "TdOkTp3Wf6Mzx7YFYJ0AJlW9K1e0oUrATWFGVajmWLlcnmLr4TjlyoAOF0UnAKwSIEZ+XW61DpiE\n",
       "QchpoapuEIDqpoCkJVKgT93HTgBHMNSIYA061egk6xMBIOktkSuoWChm8Tlm7QBgBHjnaG5Qg20M\n",
       "0LjdY/1QAPhhUBO/cnMSduylzsbrDNjCTw+XoYwjucHmL/joN5xKF7y9WZrtVC+wQtksnzuQ4cmo\n",
       "VXpri6c3c8pwPxXlfF9mc1HYL5wR8/5Kpv7trRyop9cW5mofgE4P0ZbiZ2+claMcrOY3ErpCX937\n",
       "iIBU2EUhIiD0Q4odyb8t5Nf5H0yTlviikXZ2AAAAAElFTkSuQmCC\n",
       "\" style=\"display:inline;vertical-align:middle;\" /></a></span>"
      ],
      "text/plain": [
       "{a in Integer, b in Integer, b != 0} |- (a mod b) in Integer"
      ]
     },
     "metadata": {},
     "output_type": "display_data"
    }
   ],
   "source": [
    "# deduce that int mod int is in the Integer set\n",
    "a_mod_b.deduce_in_number_set(\n",
    "    Integer,\n",
    "    assumptions=[InSet(a, Integer), InSet(b, Integer), NotEquals(b, zero)])"
   ]
  },
  {
   "cell_type": "code",
   "execution_count": 24,
   "metadata": {},
   "outputs": [
    {
     "data": {
      "text/html": [
       "<span style=\"font-size:20px;\"> <a class=\"ProveItLink\" href=\"../__pv_it/demonstrations/0b180dc14637b0ec888d04a51b6b9f6deaaa64fe0/proof.ipynb\" style=\"text-decoration: none\">&nbsp;&#x22A2;&nbsp;&nbsp;</a><a class=\"ProveItLink\" href=\"../__pv_it/demonstrations/fc0a66a93d5851803fa0611f49b59897e22782b10/expr.ipynb\"><img src=\"data:image/png;base64,iVBORw0KGgoAAAANSUhEUgAAAIEAAAAVBAMAAACTeZA2AAAAMFBMVEX///8AAAAAAAAAAAAAAAAA\n",
       "AAAAAAAAAAAAAAAAAAAAAAAAAAAAAAAAAAAAAAAAAAAv3aB7AAAAD3RSTlMAInZUiRDNmWbv3US7\n",
       "qzJazP2FAAAACXBIWXMAAA7EAAAOxAGVKw4bAAACNklEQVQ4y42UTWgTQRTH/5t289FmN6sIXjzs\n",
       "QVEkhhxEUAoNPfhxKO1NkJYGtNCDhyDFXEMPnhQCIj3kElBRIsJSiuLJsYVCrUiCePFQ9iCVFkpb\n",
       "Y6FpSuObmV2TrtmyD3bn8d7Mb9/HvAVgIIgo/q5QOhCh3/QY7hwsjeJWwwIuA6durHQ/drEkltMP\n",
       "vwIXvM7F/irUbUDNQs1hsHsgSlO8GUYshEc9zh/GTaAIRAoI1TGR7R6EIGgGYkVEcx7fNxY2UAZi\n",
       "lGIJieMIsV1oO8Azx5asVMTu2oyS5YQrwjpYOC6GMrRDYEqa3p1zfDXNPssJ06LQr4VtbfZk0pxL\n",
       "WlAfnKca9w6lms7uPqrYsCzNpEuvgcWtsiTrl1al8W1a37OiRWwYWID6FL0uYYt6+UhoYaNN+KW+\n",
       "JMJzmYXsxTJwAP0QL+iMHc86veBoeq5KAtqEaHqAeiE7TsXi8gX4QwS9DiQyEyZUhxBhPA6hrldI\n",
       "mCTguyYJuo143SX8JkIPHUywrTbhCX99EOpYRwwYV2UWiV0PQcSQa8fQk8EJ4JqsaSdBNymaBUqh\n",
       "2pEFJ2AW+GiFmVuHnwC18LEco3/zQTcdKSZ6FC249+G+IDSxbuMelBK0PdHAV/m823fgrkvgSoTu\n",
       "1gat7/NysjYbqwON6vX9jDI9TPfh9lBqv8oDb7VatPONPDi+IgdkrcHEVKHPRjBRyo4y/7lyZAb+\n",
       "Gxg/iRT8PJ8CEs74esYCEvy/pJiBACG/3+lfaA+nSgZApbUAAAAASUVORK5CYII=\n",
       "\" style=\"display:inline;vertical-align:middle;\" /></a></span>"
      ],
      "text/plain": [
       "|- (3 mod 2) in Natural"
      ]
     },
     "metadata": {},
     "output_type": "display_data"
    }
   ],
   "source": [
    "# deduce that int mod int is in the Natural set\n",
    "three_mod_two.deduce_in_number_set(Natural)"
   ]
  },
  {
   "cell_type": "code",
   "execution_count": 25,
   "metadata": {},
   "outputs": [
    {
     "data": {
      "text/html": [
       "<span style=\"font-size:20px;\"> <a class=\"ProveItLink\" href=\"../__pv_it/demonstrations/56b13d3727c19893ba90762f038745d10d7b2ec50/proof.ipynb\" style=\"text-decoration: none\">&nbsp;&#x22A2;&nbsp;&nbsp;</a><a class=\"ProveItLink\" href=\"../__pv_it/demonstrations/bdf581d97f5c56505b23dccebffbcaf7455afb380/expr.ipynb\"><img src=\"data:image/png;base64,iVBORw0KGgoAAAANSUhEUgAAAIEAAAAVBAMAAACTeZA2AAAAMFBMVEX///8AAAAAAAAAAAAAAAAA\n",
       "AAAAAAAAAAAAAAAAAAAAAAAAAAAAAAAAAAAAAAAAAAAv3aB7AAAAD3RSTlMAInZUiRDNmWbv3US7\n",
       "qzJazP2FAAAACXBIWXMAAA7EAAAOxAGVKw4bAAACMElEQVQ4y42Uz0sUYRjHv7M6+0N3ZscQJFCY\n",
       "SxSxyR5EUAIXD3WS9tKPw4YLFYQELSHtLeYkHhQEEQ/rYUGh2AiGiKJDNAodUsn9C2QPESiF1Sbo\n",
       "brg97/vO7E7rjswDM+/D8+7zmefnAtDgRyTvq0DCF6FbbzHMrOxMrRhMGwJ6r2+1d7uc50ff0y/A\n",
       "pdZLawAf5lKAnIGcxVj7QKQaf1u4YSKYaiX0IqqWgJCBQAWTmfZBcIKiIbKAcPY0IaSRX4RSzCN2\n",
       "FiFyCOUXsGTb4sVipkGwgGFuHTPOiqEA5QR4KExvLzRjUG5SFtO80C+47dvyubj+Om5CfnLRBDrH\n",
       "B2v2r7t+AhOiNA9cWXwf1gRZvbIrjK8S6pEZXsC+hg3Ii+h0CAfUyxmuBRvjY52fqrJ4VkUWohef\n",
       "gb9QT7BGPuVoxu4FQ9MzIgiuSs7eYqfoOBWLyTbwhwhqBYglJ3XINiFksTi4ulcksQQhescQBLWM\n",
       "aMUh/CZCBznGrIMmYZ693nM17YpBzX4SWcQOWwg8hmwzho4keoBRUVP3PDzrp3ODUii5smAELAMf\n",
       "zaDl1OErQCWbE2ukuwjpgMF7FDaceXjECTXslXEfUh7KEW/g81yuYPcduNcg9JEnLdQ+6e9yYrN+\n",
       "HO9ePS5dqyal6Qmah9vjg9USC7xer9MUvhSOd7dSzm6uY/txAl1l+BOpYCtvNov/7cCphfGSkOF1\n",
       "s+6T0O95k/ZJ8P6SpPsCBLz+Tv8BpVOkTNjrMz0AAAAASUVORK5CYII=\n",
       "\" style=\"display:inline;vertical-align:middle;\" /></a></span>"
      ],
      "text/plain": [
       "|- (3 mod 2) in Real"
      ]
     },
     "metadata": {},
     "output_type": "display_data"
    }
   ],
   "source": [
    "# deduce that int mod int is in the Real set\n",
    "three_mod_two.deduce_in_number_set(Real)"
   ]
  },
  {
   "cell_type": "code",
   "execution_count": 26,
   "metadata": {},
   "outputs": [
    {
     "data": {
      "text/html": [
       "<span style=\"font-size:20px;\"><a class=\"ProveItLink\" href=\"../../ordering/__pv_it/theorems/4aa8d696b1f407d6126de9f51a052e8d90e0848c0/expr.ipynb\"><img src=\"data:image/png;base64,iVBORw0KGgoAAAANSUhEUgAAADMAAAAQBAMAAABJt1qBAAAAMFBMVEX///8AAAAAAAAAAAAAAAAA\n",
       "AAAAAAAAAAAAAAAAAAAAAAAAAAAAAAAAAAAAAAAAAAAv3aB7AAAAD3RSTlMAIquJdkTvuxBmmd1U\n",
       "zTKBpmoTAAAACXBIWXMAAA7EAAAOxAGVKw4bAAAAzElEQVQY02NgwABz0+tvp09gwAoKhBiCpjdg\n",
       "lxJmYOdTwCXFJXABRch99+4LcKkCZJlYD4Qupg6QgYzKjg4gAcYbSAY+PysAZIQJsP8ACfAKwKXE\n",
       "bv8GmcCRycC1ASyF5IyZvSCa6wMDtwGI8Ww3EBRApNg7QV5mK2DoDwAJtCPp4ltQAaT7HRjmgwW4\n",
       "kf21ThwkdYBBlwfkAhYHJKl2FqCJ7A48u7jAInfgUlIMnBNKgS5UsRPyA4s0lTbAQr6Qofz+AeTg\n",
       "CK7ejRxyAISENKeL/c93AAAAAElFTkSuQmCC\n",
       "\" style=\"display:inline;vertical-align:middle;\" /></a>, <a class=\"ProveItLink\" href=\"../../ordering/__pv_it/theorems/6e5cad5b2984ed0d75bd47bd0c542ec447a4f3570/expr.ipynb\"><img src=\"data:image/png;base64,iVBORw0KGgoAAAANSUhEUgAAADEAAAAQBAMAAABNQoq8AAAAMFBMVEX///8AAAAAAAAAAAAAAAAA\n",
       "AAAAAAAAAAAAAAAAAAAAAAAAAAAAAAAAAAAAAAAAAAAv3aB7AAAAD3RSTlMAELvv3c2ZVESJq3Yi\n",
       "MmZ3LnoBAAAACXBIWXMAAA7EAAAOxAGVKw4bAAAA1ElEQVQY02NgQAdPjfRDjB4AGYzKDmhSCqcY\n",
       "uh4JABmsCegyJxmYeBcAGfwFmDJsBwKAjH4BqMgmF5cAuIwCkDEFKtG6EaGHSxBkWtTu5SA+TyCS\n",
       "aZdKDwDd9lVA/gDIIQfgModDvoD0s39kYN4AkkFywTtREM0WwMA/AUhfdgECBYgMkxzIpywTGPpB\n",
       "7hZC0sOboAjxTj7I3SzI/sk9BJK5wGgH4nNvQJIR4gYax/WACRI84XCZYwx8DzSArl6ZBxGQ0hCA\n",
       "hbUOg1I8cph1qkBCBwoAxe43BugJR6MAAAAASUVORK5CYII=\n",
       "\" style=\"display:inline;vertical-align:middle;\" /></a>, <a class=\"ProveItLink\" href=\"../__pv_it/theorems/1157e8bc07ff5d23e5b8809064b9e77def3bc8980/expr.ipynb\"><img src=\"data:image/png;base64,iVBORw0KGgoAAAANSUhEUgAAAC8AAAAUCAMAAAAqRJTwAAAAPFBMVEX///8AAAAAAAAAAAAAAAAA\n",
       "AAAAAAAAAAAAAAAAAAAAAAAAAAAAAAAAAAAAAAAAAAAAAAAAAAAAAAAAAAAo1xBWAAAAE3RSTlMA\n",
       "ELvv3c2ZVESJq3YiMmbn9enzVleb9QAAAAlwSFlzAAAOxAAADsQBlSsOGwAAANlJREFUKM+VkusS\n",
       "xBAMhcUlGspevP+7LjG6bK0ZfmhSn+OICPF/IMz+glR6igfZZ0QezxoanPIydImxWVnXDclO5V2X\n",
       "RLZAfOKRpj7l2Se82TJJU/tHLy8SWw7sxDjv3c2S6eWh8bHEBvLUllHzeDzL3M44E1XeN1PKL+S/\n",
       "fP6gYYM0uh9LDHX5KPqaOLIL+XZfWygm8aop+3+96y2uGkmufCxUys8IKo7yvy8SFWsV6y6jcrRr\n",
       "7w2iSz+o0iHgCKNYy2cKybsw72NLYmsY2MLjprzekxdhtfgBfooGZl93KjkAAAAASUVORK5CYII=\n",
       "\" style=\"display:inline;vertical-align:middle;\" /></a> <a class=\"ProveItLink\" href=\"../__pv_it/demonstrations/87b54f3ba734edc1b5becad5e29f35ccb96321140/proof.ipynb\" style=\"text-decoration: none\">&nbsp;&#x22A2;&nbsp;&nbsp;</a><a class=\"ProveItLink\" href=\"../__pv_it/theorems/6c67ccaf07dae1c6956687bcfbdb74f36f65ac0b0/expr.ipynb\"><img src=\"data:image/png;base64,iVBORw0KGgoAAAANSUhEUgAAAIAAAAAVBAMAAAB8u/sIAAAAMFBMVEX///8AAAAAAAAAAAAAAAAA\n",
       "AAAAAAAAAAAAAAAAAAAAAAAAAAAAAAAAAAAAAAAAAAAv3aB7AAAAD3RSTlMAInZUiRDNmWbv3US7\n",
       "qzJazP2FAAAACXBIWXMAAA7EAAAOxAGVKw4bAAACJUlEQVQ4y42UT0jcQBTGvxizya5jNvRYEKIg\n",
       "LWVZ9iCePCweSilYcvOi7EoVWmhhWzx4615EbwqCCl6kLYgLpUGK4MmoKP47LFVLT2V7aVEQpVbx\n",
       "H8U3k11N1ayZw2Tmm5nffO+9JAAMBGn+uyoSgQBT1+bay/WjyWU+aihz6tEY75WVcbone22NSfmq\n",
       "74u0mi4DkM7EI5ShrusGIAlnF1Cz5Yy7gCiPsu8WwJsQEMbdgFmLurDlSrFcLn0JYEBjAMBTEYdr\n",
       "dbre42CrHejmoW7Wmlz7NXIvZk7FbChvH9hAZXPcBbyu26BZXmSlyxOCvtABvKDxjMEOhfgpoR/b\n",
       "2iB2DMxDGUKlAChHVsqAJoyHjCvA8Of3FNYH2jAKdVyIK8A59H/4COwVWLpYBfkQYRPyoAB4kvik\n",
       "lzOp0uo+IkkhrgN/CaAfUOaTKROKAKhpmkHf5+PtHDWnGMJivwsIO0jZJcAfAsh0LurslQBEn02g\n",
       "Sjho85bxN3NDoKsG4AUIB5lLB/QavLMgiygjXoD6k7zMEyCBb7LhAWCEam+HnGIOogXKEjRhvML0\n",
       "ABTnIdBCQ1OeUIX4SgDOsF1AJ6QxVB9ztTrL6F1W3TQ9vwJk0M9s7FAVvj6riXNt9+RH00n+8WlS\n",
       "6m6hpLQ2x0958ZXNHm7eTVP7mlX6Gs8NtnSASAHB2v3i88tq7r/vT8sEBPT4LcwFOy85fittwQDM\n",
       "958mmYEAtT76BXXOmJ/8NwHVAAAAAElFTkSuQmCC\n",
       "\" style=\"display:inline;vertical-align:middle;\" /></a></span>"
      ],
      "text/plain": [
       "{a in Real, b in Real, b != 0} |- (a mod b) in Real"
      ]
     },
     "metadata": {},
     "output_type": "display_data"
    }
   ],
   "source": [
    "# deduce that int mod int is in the Real set\n",
    "a_mod_b.deduce_in_number_set(\n",
    "    Real,\n",
    "    assumptions=[InSet(a, Real), InSet(b, Real), NotEquals(b, zero)])"
   ]
  },
  {
   "cell_type": "code",
   "execution_count": 27,
   "metadata": {},
   "outputs": [
    {
     "name": "stdout",
     "output_type": "stream",
     "text": [
      "EXCEPTION:  'Mod.deduce_in_number_set()' not implemented for the NaturalPos set\n"
     ]
    }
   ],
   "source": [
    "# What happens if we try to deduce into an incorrect set?\n",
    "try:\n",
    "    three_mod_two.deduce_in_number_set(NaturalPos)\n",
    "except Exception as e:\n",
    "    print(\"EXCEPTION: \", e)"
   ]
  },
  {
   "cell_type": "markdown",
   "metadata": {},
   "source": [
    "<font size=4>Testing `ModAbs` methods.</font>"
   ]
  },
  {
   "cell_type": "code",
   "execution_count": 28,
   "metadata": {},
   "outputs": [
    {
     "data": {
      "text/html": [
       "<strong id=\"abs_three_mod_two\">abs_three_mod_two:</strong> <a class=\"ProveItLink\" href=\"../__pv_it/demonstrations/8cc9baf22794e3eaab812c8589d785381c32178e0/expr.ipynb\"><img src=\"data:image/png;base64,iVBORw0KGgoAAAANSUhEUgAAAD4AAAAWBAMAAABqEDIsAAAAMFBMVEX///8AAAAAAAAAAAAAAAAA\n",
       "AAAAAAAAAAAAAAAAAAAAAAAAAAAAAAAAAAAAAAAAAAAv3aB7AAAAD3RSTlMAIolEdjKZuxBUze9m\n",
       "3avenPUbAAAACXBIWXMAAA7EAAAOxAGVKw4bAAABB0lEQVQoz2MQYIAAGI0OlNFoLPJCasX45DkS\n",
       "GOZPwCPP8pOhfwEeeebNDPz45IFg/gG88sx38Lqf1e8pAwHzJ+CX5/6BR541gIH9Jx55/h9Y5Fl2\n",
       "MjBwKL1rAIpzP8Bm/koGBjYGtgtAcZ4D2PxfycDAb8D4FSRulgaOn/arU16ceczA4OPUwOByBKif\n",
       "pwEiD3UH40+G5QxzGdgNOC6wKTDsBAkyXUCW/8FQxBDNEM/AUCLfALKfgSG2AVn+A8MToPxpBoZn\n",
       "9mD3MTBWMGDKA/UvgeoXYxBkcIXKu4LkS4DyXBMYd/AdYATaz1gamoHko75vPLsM3yswqLgJMKgc\n",
       "uRXAwP3//wcAPFNKqZzo6/wAAAAASUVORK5CYII=\n",
       "\" style=\"display:inline;vertical-align:middle;\" /></a><br>"
      ],
      "text/plain": [
       "<IPython.core.display.HTML object>"
      ]
     },
     "metadata": {},
     "output_type": "display_data"
    }
   ],
   "source": [
    "abs_three_mod_two = ModAbs(three, two)"
   ]
  },
  {
   "cell_type": "code",
   "execution_count": 29,
   "metadata": {},
   "outputs": [
    {
     "data": {
      "text/html": [
       "<strong id=\"abs_a_mod_b\">abs_a_mod_b:</strong> <a class=\"ProveItLink\" href=\"../__pv_it/demonstrations/a5880d4291150732db1a1ec45eb66e5e8a3cac0f0/expr.ipynb\"><img src=\"data:image/png;base64,iVBORw0KGgoAAAANSUhEUgAAAD4AAAAWBAMAAABqEDIsAAAAMFBMVEX///8AAAAAAAAAAAAAAAAA\n",
       "AAAAAAAAAAAAAAAAAAAAAAAAAAAAAAAAAAAAAAAAAAAv3aB7AAAAD3RSTlMAIolEdjKr77sQZpnd\n",
       "VM0QaojEAAAACXBIWXMAAA7EAAAOxAGVKw4bAAAA80lEQVQoz2MQYIAARgbsQBlKMxkMWXnGJEcH\n",
       "fPLmAhw/8chzVjFwH8Ajz/2BgUcBjzx7A8N8Azzy8x0Y1mO63/0CA0NcA1j+AkMerwC6PB9Qnk0B\n",
       "JM/hwHuaG0M/B1CePQDs/hRVMVegPGdPrNusZQYMLEs0GVi8/IDy8S6ZyOEnf4GvgfcAQzPDHIZN\n",
       "DOxAeZ8J3ijyEzgUWAtYPzBwOP4E29/FsA5FnoHNgbWAq4CBbfMHsHwpwzZMeaB+Pqj+Dwy1DK5Q\n",
       "eZYAoDwHUJ7hLYP4hCwGcaD8Sa4GJB9x5m9Y/ljsEwOTy0YGJi+fpwwM0S4MAAZLPqWMReTrAAAA\n",
       "AElFTkSuQmCC\n",
       "\" style=\"display:inline;vertical-align:middle;\" /></a><br>"
      ],
      "text/plain": [
       "<IPython.core.display.HTML object>"
      ]
     },
     "metadata": {},
     "output_type": "display_data"
    }
   ],
   "source": [
    "abs_a_mod_b = ModAbs(a, b)"
   ]
  },
  {
   "cell_type": "code",
   "execution_count": 30,
   "metadata": {},
   "outputs": [
    {
     "data": {
      "text/plain": [
       "'|3|_{mod 2}'"
      ]
     },
     "metadata": {},
     "output_type": "display_data"
    }
   ],
   "source": [
    "str(abs_three_mod_two)"
   ]
  },
  {
   "cell_type": "code",
   "execution_count": 31,
   "metadata": {},
   "outputs": [
    {
     "data": {
      "text/html": [
       "<span style=\"font-size:20px;\"> <a class=\"ProveItLink\" href=\"../__pv_it/demonstrations/549245e650a59ed6d8eb8f6afbcd24144935a1760/proof.ipynb\" style=\"text-decoration: none\">&nbsp;&#x22A2;&nbsp;&nbsp;</a><a class=\"ProveItLink\" href=\"../__pv_it/demonstrations/4151746f62599182fc1a8133c356f6dc747a51300/expr.ipynb\"><img src=\"data:image/png;base64,iVBORw0KGgoAAAANSUhEUgAAAGcAAAAWBAMAAAAvEZ+uAAAAMFBMVEX///8AAAAAAAAAAAAAAAAA\n",
       "AAAAAAAAAAAAAAAAAAAAAAAAAAAAAAAAAAAAAAAAAAAv3aB7AAAAD3RSTlMAIolEdjKZuxBUze9m\n",
       "3avenPUbAAAACXBIWXMAAA7EAAAOxAGVKw4bAAABo0lEQVQ4y2MQYIAAGE0UUEaj8YJZ+3fVXt8D\n",
       "ViykVkykJvenDFwMC0CKORIY5k8gTlMaA4MP0wSQJpafDP0LiNP0kIGjoB3sF+bNDPwENLHU3r0F\n",
       "ohsY2AKewgJg/gG8mpiXNMCYcawJUE3Md/AHhBRcD0MFewNEE6vfU/yaFsJZnApH4PFDIPQWwFlc\n",
       "EDZYMfcPfJpY9969e/c6mOnJZMDAAdLEGsDA/hOfJo4CBEucgYFPAKiY/wc2Td7AOGzSewFmX4AJ\n",
       "8gU8ZGDoB9nE/QCb87iAmhIYcsFsF5hgGDMwwN+CNPEcwBZP7EBNnxnkA2AGQAKcq4FBfDo4IMzS\n",
       "wAm2/eqUF2ceA1OXUwMDi48XUOEJqCaO5xaQSN6+urz6dxFy1mD8ybCcYS4DuwHHBYYkBm6w6brQ\n",
       "JKEOSUaY+YnxB0MRQzRDPANDCZAJdhLrDUKZkPEDwxOgptMMDM+YP0A0iTcQqQlo0xKoTYwJjNhL\n",
       "AVc4DdRUAtTENYFxB8MbBmmgJvHQsAYCOazvG88uw/cKDCpuAgxMPr5LGRj2//+PVSUArH1xMCGL\n",
       "JXIAAAAASUVORK5CYII=\n",
       "\" style=\"display:inline;vertical-align:middle;\" /></a></span>"
      ],
      "text/plain": [
       "|- |3|_{mod 2} in Integer"
      ]
     },
     "metadata": {},
     "output_type": "display_data"
    }
   ],
   "source": [
    "abs_three_mod_two.deduce_in_number_set(Integer)"
   ]
  },
  {
   "cell_type": "code",
   "execution_count": 32,
   "metadata": {},
   "outputs": [
    {
     "data": {
      "text/html": [
       "<span style=\"font-size:20px;\"> <a class=\"ProveItLink\" href=\"../__pv_it/demonstrations/5058bebdcb7859b330899aa9c82446e5091edb040/proof.ipynb\" style=\"text-decoration: none\">&nbsp;&#x22A2;&nbsp;&nbsp;</a><a class=\"ProveItLink\" href=\"../__pv_it/demonstrations/599ea2c6ac5da7fa04d80d16312829789d3c6b9d0/expr.ipynb\"><img src=\"data:image/png;base64,iVBORw0KGgoAAAANSUhEUgAAAGgAAAAWBAMAAADeGsQjAAAAMFBMVEX///8AAAAAAAAAAAAAAAAA\n",
       "AAAAAAAAAAAAAAAAAAAAAAAAAAAAAAAAAAAAAAAAAAAv3aB7AAAAD3RSTlMAIolEdjKZuxBUze9m\n",
       "3avenPUbAAAACXBIWXMAAA7EAAAOxAGVKw4bAAABk0lEQVQ4y2MQYIAAGE0UUEaj8QGe1eW/btdA\n",
       "FAupFROniYGd8QHzmwqQYo4EhvkTiNWkwFAQB9LE8pOhfwHxmhK5QJqYNzPwE9DkfvfuArgmdqhf\n",
       "5h/Aq8nKA8mmF30QTcx38AYE4wok57FWLgQrZvV7ilcTlwBC0677VxpgzsMbelxIAaFzYgEsUrl/\n",
       "4NMUfRcICqDOqzgD1sQawMD+E5+mduQgD2MHO4//BxZNLDsZGDiU3jWA2LzImtgCC0CauB9gc95K\n",
       "BgY2BrYLYAMckDRxFPiANPEcwBZPlQwM/AaMX2EGwDQlMJxhNwApNksDJ9j2q1NenHnMwODj1MDg\n",
       "cgSokKcBqqmvuAGWyr8LsFf9RMoajD8ZljPMZWA34LjApsCwEyTIdAEiaVQLSUaY+YnxB0MRQzRD\n",
       "PANDiXwDxEmxDYQyIeMHhidATacZGJ7ZQ/zBWMFApCagTUugNokxCGLX5AqngZpKgJq4JjDu4DvA\n",
       "CPQTY2loBqEc1veNZ5fhewUGFTcBBpUjtwIYuP///4BVJQBrfHDJr7FCnQAAAABJRU5ErkJggg==\n",
       "\" style=\"display:inline;vertical-align:middle;\" /></a></span>"
      ],
      "text/plain": [
       "|- |3|_{mod 2} in Real"
      ]
     },
     "metadata": {},
     "output_type": "display_data"
    }
   ],
   "source": [
    "abs_three_mod_two.deduce_in_number_set(Real)"
   ]
  },
  {
   "cell_type": "code",
   "execution_count": 33,
   "metadata": {},
   "outputs": [
    {
     "name": "stdout",
     "output_type": "stream",
     "text": [
      "EXCEPTION:  'ModAbs.deduce_in_number_set()' not implemented for the Natural set\n"
     ]
    }
   ],
   "source": [
    "# what happens if we try to deduce into an incorrect set?\n",
    "try:\n",
    "    abs_three_mod_two.deduce_in_number_set(Natural)\n",
    "except Exception as the_exception:\n",
    "    print(\"EXCEPTION: \", the_exception)"
   ]
  },
  {
   "cell_type": "markdown",
   "metadata": {},
   "source": [
    "Set some temporary assumptions for testing ModAbs methods:"
   ]
  },
  {
   "cell_type": "code",
   "execution_count": 34,
   "metadata": {},
   "outputs": [
    {
     "data": {
      "text/html": [
       "<strong id=\"temp_assumptions\">temp_assumptions:</strong> <a class=\"ProveItLink\" href=\"../__pv_it/demonstrations/0c0c2723cff9ab210cc6164f837c9eb73bdb8c320/expr.ipynb\"><img src=\"data:image/png;base64,iVBORw0KGgoAAAANSUhEUgAAAM4AAAAZBAMAAACLCgxgAAAAMFBMVEX///8AAAAAAAAAAAAAAAAA\n",
       "AAAAAAAAAAAAAAAAAAAAAAAAAAAAAAAAAAAAAAAAAAAv3aB7AAAAD3RSTlMAZkRUmRDNuyLviTJ2\n",
       "3asqG0tJAAAACXBIWXMAAA7EAAAOxAGVKw4bAAAC40lEQVRIx7VWTUhUURT+5vnevMnxZxSqXQlR\n",
       "ixbpqtpEs+mHInoFJUHpgxIMMp+WTUEys5CkCJlV0yLJoGjTwkWQbcoWIoXJLPpTGhyJcuNCRlLR\n",
       "ou6Ze+e9+/Q6C2EOzD338p0537nnnnN4AGpRQtFpidJSFi0lj0lLLy1nUXKewDBbOhRo4HJsYaJj\n",
       "nb8WBblsScXbUhGXB5+BUFIZRiirTXfxfWN/ERAY/TcIrT1l+UycPuzZark84+yhBtQ8A3DeiMOl\n",
       "YiAQzwKVfho492CGszgSuxWLsXs1W6iuW4/naFAc5ouB0PYtAeVYw6MnbPc+wQje+iIZzWRs15Up\n",
       "HP0WYEV35stqkFGcXgZ2+C04j+Py6A4+yjS7RqSQfzYJR2nBd8VaC1KHTADP/BbEU3Um6/JUJPGL\n",
       "dN+L+6RCLVJqwtda+T44O95A+o6lAIlne4R3omdBPK/2JlwelpIYqYeIk0kw4fE8mPou/tXcYiyR\n",
       "blWBlLLqNHgxtXrvc7ft74g7DxBewVWmzkVwIh+59NRPNttif9DCI9K2CqSU6TmNF5Mt1UGN3P+h\n",
       "HD4xdRKYpOPrDBNHpKarRhgdBpYppn4Gfl0N0vAKLZbnb+dZMB7zVMTjMXL5+6RoQx0pl+5LU6Rm\n",
       "EhpVtuGoQFDK4j3cmyPdJxztku6Tz5vxB4E5OlbKPPqQU2gfPV/ZaRUIjdVI/TG+T8v9c7zX4wkv\n",
       "YYbxzKPK3k/lNyy5Mpx3AEW9Qu/HZEwFglJWmePAmMzTWOEljtXbe6Zu40A0X5kXPVdR1Jh1xgLb\n",
       "T+M6r+8GBYgLNFnn4LeA04NApNMbvUnUs3iaPgzNDtK5qdMqjOTFhHljHhlCn/LAjJmdCvAxxSaS\n",
       "WLCgeX0TsXaXVs9ik2++7e7O2PK5TJ5K2nMxVVSg0qIgbL6p57U7vDYM+oTN63CymMH5DYM+2cZ+\n",
       "P4oZDG8Y9Mm3kn8fwP0+KBsoOQ/v2NqS8xwC/gMSw94h78gumAAAAABJRU5ErkJggg==\n",
       "\" style=\"display:inline;vertical-align:middle;\" /></a><br>"
      ],
      "text/plain": [
       "<IPython.core.display.HTML object>"
      ]
     },
     "metadata": {},
     "output_type": "display_data"
    }
   ],
   "source": [
    "from proveit import a, b, N\n",
    "from proveit.numbers import Abs, Div, LessEq, subtract\n",
    "temp_assumptions = [InSet(a, Real), InSet(b, Real), InSet(N, RealPos)]"
   ]
  },
  {
   "cell_type": "markdown",
   "metadata": {},
   "source": [
    "#### `ModAbs.difference_reversal()`"
   ]
  },
  {
   "cell_type": "code",
   "execution_count": 35,
   "metadata": {},
   "outputs": [
    {
     "data": {
      "text/html": [
       "<span style=\"font-size:20px;\"><a class=\"ProveItLink\" href=\"../../ordering/__pv_it/theorems/4aa8d696b1f407d6126de9f51a052e8d90e0848c0/expr.ipynb\"><img src=\"data:image/png;base64,iVBORw0KGgoAAAANSUhEUgAAADMAAAAQBAMAAABJt1qBAAAAMFBMVEX///8AAAAAAAAAAAAAAAAA\n",
       "AAAAAAAAAAAAAAAAAAAAAAAAAAAAAAAAAAAAAAAAAAAv3aB7AAAAD3RSTlMAIquJdkTvuxBmmd1U\n",
       "zTKBpmoTAAAACXBIWXMAAA7EAAAOxAGVKw4bAAAAzElEQVQY02NgwABz0+tvp09gwAoKhBiCpjdg\n",
       "lxJmYOdTwCXFJXABRch99+4LcKkCZJlYD4Qupg6QgYzKjg4gAcYbSAY+PysAZIQJsP8ACfAKwKXE\n",
       "bv8GmcCRycC1ASyF5IyZvSCa6wMDtwGI8Ww3EBRApNg7QV5mK2DoDwAJtCPp4ltQAaT7HRjmgwW4\n",
       "kf21ThwkdYBBlwfkAhYHJKl2FqCJ7A48u7jAInfgUlIMnBNKgS5UsRPyA4s0lTbAQr6Qofz+AeTg\n",
       "CK7ejRxyAISENKeL/c93AAAAAElFTkSuQmCC\n",
       "\" style=\"display:inline;vertical-align:middle;\" /></a>, <a class=\"ProveItLink\" href=\"../../ordering/__pv_it/theorems/6e5cad5b2984ed0d75bd47bd0c542ec447a4f3570/expr.ipynb\"><img src=\"data:image/png;base64,iVBORw0KGgoAAAANSUhEUgAAADEAAAAQBAMAAABNQoq8AAAAMFBMVEX///8AAAAAAAAAAAAAAAAA\n",
       "AAAAAAAAAAAAAAAAAAAAAAAAAAAAAAAAAAAAAAAAAAAv3aB7AAAAD3RSTlMAELvv3c2ZVESJq3Yi\n",
       "MmZ3LnoBAAAACXBIWXMAAA7EAAAOxAGVKw4bAAAA1ElEQVQY02NgQAdPjfRDjB4AGYzKDmhSCqcY\n",
       "uh4JABmsCegyJxmYeBcAGfwFmDJsBwKAjH4BqMgmF5cAuIwCkDEFKtG6EaGHSxBkWtTu5SA+TyCS\n",
       "aZdKDwDd9lVA/gDIIQfgModDvoD0s39kYN4AkkFywTtREM0WwMA/AUhfdgECBYgMkxzIpywTGPpB\n",
       "7hZC0sOboAjxTj7I3SzI/sk9BJK5wGgH4nNvQJIR4gYax/WACRI84XCZYwx8DzSArl6ZBxGQ0hCA\n",
       "hbUOg1I8cph1qkBCBwoAxe43BugJR6MAAAAASUVORK5CYII=\n",
       "\" style=\"display:inline;vertical-align:middle;\" /></a>, <a class=\"ProveItLink\" href=\"../__pv_it/demonstrations/90d0aed550740e8eefa0115db24abfdb56ee66210/expr.ipynb\"><img src=\"data:image/png;base64,iVBORw0KGgoAAAANSUhEUgAAAEcAAAATBAMAAAAwgQ3NAAAAMFBMVEX///8AAAAAAAAAAAAAAAAA\n",
       "AAAAAAAAAAAAAAAAAAAAAAAAAAAAAAAAAAAAAAAAAAAv3aB7AAAAD3RSTlMAdrsyRM3vEKvdVCKJ\n",
       "mWY5NCfAAAAACXBIWXMAAA7EAAAOxAGVKw4bAAABEElEQVQoz2NgIAB4GYgATBQqepqkH5n0AEmR\n",
       "0H8DBpb4pAIUVQo7GDweFSCZpN/AwMCJqoZBYQ8DE3MDwyUlNSUlkIksi34zMPAwYCji3RCAMImn\n",
       "5A8DgxdUUmjmzAC4IgWEIl6GaQwMxyFsV3GESRzlDciK3j9guABmcocjWWe0dANCkRcD/wSGA2Am\n",
       "6wa4om2RP8WRQvw4A+8XFgeIIiSHvytF9sgFBu5PPJAQMJsJBAoQRUx1D5AUAW3S3wthFiGZxHxB\n",
       "HaGGZQEDg/8dCJsTOZwub0IoAtnE+QXCZhRAUlTEiLCvEoj5PkA5UXBFexn4HqjAeBX5IAkFGE+l\n",
       "AJYKtBmU4hdgTyM+mpBoQQEAZ/9FBWPOzmIAAAAASUVORK5CYII=\n",
       "\" style=\"display:inline;vertical-align:middle;\" /></a> <a class=\"ProveItLink\" href=\"../__pv_it/demonstrations/3c6fd6306dec85de9495c375f2835d48e241d4f60/proof.ipynb\" style=\"text-decoration: none\">&nbsp;&#x22A2;&nbsp;&nbsp;</a><a class=\"ProveItLink\" href=\"../__pv_it/theorems/977eb780fea0d0ca6bb919983064f371adb93aa10/expr.ipynb\"><img src=\"data:image/png;base64,iVBORw0KGgoAAAANSUhEUgAAAO4AAAAWBAMAAAA1Ab1lAAAAMFBMVEX///8AAAAAAAAAAAAAAAAA\n",
       "AAAAAAAAAAAAAAAAAAAAAAAAAAAAAAAAAAAAAAAAAAAv3aB7AAAAD3RSTlMAIolEdjKr77sQZpnd\n",
       "VM0QaojEAAAACXBIWXMAAA7EAAAOxAGVKw4bAAACZUlEQVRIx62Vz2vTYBjHv8mSNFlsm4N0xwY6\n",
       "D8IOw4uebCrtZGNI/AN6GQNRcNabCMJAhxdlOTkYYnIoejTqSSmsCIqgSLx7GP46qRTnpYOK7/vW\n",
       "ad9lWfrOPocQ3vf9Pp/3yfd538BCQkgYNpJXWsmiUtKEPD0sN3llSYxr3GyLcZng/7nIhYL1UsEI\n",
       "uPlIkEsFI+CWPUEuFYyAOyXaV1MH6StpoeLwg1+qF8W4VMBHYfJwGve4pXf5fv7l+VYKt/WGxss/\n",
       "/UwF3PTYZax6+3ONqzD5Y5DtIuOI1MsE3NhagFZKvWYHh2zydo9V8IK8mZvI2yJcJiDf6StL4ZKx\n",
       "DeB5CjezDJ9nkG2UIxEuE3BjV2BspXB9Bw9jx3fD2809TROf2MbYdyfmLxNwHfIT450YV7lGnV8N\n",
       "cPIT5UZYynJdkXeJ57u5OcpVzgGVeL1MwHF70Dbfxer9Rh8zDSgWmdKd7GuTm9YCPYxxdco1/QB2\n",
       "nMsEXNzA+zCMcW/Tx9NtyKyfF48UavxuF56x03GrPrN+fxpK8yiUuTOUK5PO34PLBFzcOXV20UVp\n",
       "MAWqTVav3epzk2+DYpRbzrZxHXfxGBnKrRs9NRL5Dw6kMG1Qf9XIj+opXE+31YbagV7p9v2dRUvx\n",
       "hLh/UzhFj/mreGZ7NoULzVEb4w1oTzp9bojiMaH//r8UYbnfVyakLXsYLtlsbqdeG9qHA3Bpip16\n",
       "ibdLhFtL0iguEelERFZPeBcwEVFvIPX2WpkQtcEUWiBRf4m3xWjfe8i4FD74WPgBufoI8tz8Z2B+\n",
       "BTgPgRhMgcnmWxfKKxeah98daMGFeYAtDgAAAABJRU5ErkJggg==\n",
       "\" style=\"display:inline;vertical-align:middle;\" /></a></span>"
      ],
      "text/plain": [
       "{a in Real, b in Real, N in RealPos} |- |a - b|_{mod N} = |b - a|_{mod N}"
      ]
     },
     "metadata": {},
     "output_type": "display_data"
    }
   ],
   "source": [
    "ModAbs(subtract(a, b), N).difference_reversal(assumptions=temp_assumptions)"
   ]
  },
  {
   "cell_type": "markdown",
   "metadata": {},
   "source": [
    "#### Some `simplification` examples: removing redundant mods and removing abs"
   ]
  },
  {
   "cell_type": "code",
   "execution_count": 36,
   "metadata": {},
   "outputs": [
    {
     "data": {
      "text/html": [
       "<span style=\"font-size:20px;\"> <a class=\"ProveItLink\" href=\"../__pv_it/demonstrations/142512196e38c66ebad4977143d5bbe3a0e78e700/proof.ipynb\" style=\"text-decoration: none\">&nbsp;&#x22A2;&nbsp;&nbsp;</a><a class=\"ProveItLink\" href=\"../__pv_it/demonstrations/e29aaa5fe9a8f48c19661d963b60e24080c43fef0/expr.ipynb\"><img src=\"data:image/png;base64,iVBORw0KGgoAAAANSUhEUgAAAWkAAAAXBAMAAAA7CqN4AAAAMFBMVEX///8AAAAAAAAAAAAAAAAA\n",
       "AAAAAAAAAAAAAAAAAAAAAAAAAAAAAAAAAAAAAAAAAAAv3aB7AAAAD3RSTlMAIolEdjKr77sQZpnd\n",
       "VM0QaojEAAAACXBIWXMAAA7EAAAOxAGVKw4bAAACQ0lEQVRYw72WsWvUUBzHv3fN3SXG3N3Ujg0U\n",
       "B6HD4aK4NAetYinSf6AgpVAqqLcJ4lAQcXHILIW7QXT0WjcpeJMOZsjgHyCKbpaj2xVafHlJkOQu\n",
       "9/u9M/HxIMuX3+fDL+/9EjQBseUqQWGVVJK5E5bklqvcUqjJD4tk7oQZrI0Xg4KtScIsva73i+41\n",
       "RVCxvhk9G35R1nM9HkHF+mv0XHGLsrYcHmEW62UUbb3Muo2l7bbDt/61+kDZmkeIrSlCaH29qY/Y\n",
       "1saF220S4WMvWJ/+WvMIkTVJkNbGE5gDtrU1Qs1R7DWTEFmTBGltDnHZJmqK7j0Ou2d+Q8NWtOYQ\n",
       "TM/7/NTz7jEI0rq2j26L3WuBX/EVrZmEqNckQVp3Hbwbv7S3xdDEjTPMnTgJazFMP7qK55pJiKxJ\n",
       "Qmjt46E1dvzrQU1tF2gne93YFKeUFEj2mkmIrSmCtNYd64s5FtODmNntwU5aV3t6H6RA0ppJiKxJ\n",
       "QjhDdq7Mr4mY8XLr1qs3LWivr0JbvxvEyuLqp6yN7Q+gBVIzhEeIJx9FSH4bF/36vjXAMxzgCLUg\n",
       "tmWcV/zUVyYMEwIZ38bpBMvhEVLWrm5XOpUh9PYofCV3cKy5qb8nlkCW9VRC/PdEEVLWqDqVzqUO\n",
       "qu+HYc0+Fq9lzLPpAlnWuRAmWYtYPY7ZqH7PqskTmGT9r4Q1ueXSNkVMFzH8xoJ7HwsiJl5H6XxS\n",
       "TRlmCYhksQTjUf/tj/lTlFcPUV7f+AlsPAf2MkY9X+B/EpCnQK6EP3dIPZ90jKekAAAAAElFTkSu\n",
       "QmCC\n",
       "\" style=\"display:inline;vertical-align:middle;\" /></a></span>"
      ],
      "text/plain": [
       "|- ||a|_{mod N} + b|_{mod N} = ||a|_{mod N} + b|_{mod N}"
      ]
     },
     "metadata": {},
     "output_type": "display_data"
    }
   ],
   "source": [
    "# actually this is still an oversight; should do something like\n",
    "# |(|a| mod N)| mod N = |a| mod N (I think)\n",
    "ModAbs(Add(ModAbs(a, N), b), N).simplification()"
   ]
  },
  {
   "cell_type": "code",
   "execution_count": 37,
   "metadata": {},
   "outputs": [
    {
     "data": {
      "text/html": [
       "<span style=\"font-size:20px;\"><a class=\"ProveItLink\" href=\"../../ordering/__pv_it/theorems/4aa8d696b1f407d6126de9f51a052e8d90e0848c0/expr.ipynb\"><img src=\"data:image/png;base64,iVBORw0KGgoAAAANSUhEUgAAADMAAAAQBAMAAABJt1qBAAAAMFBMVEX///8AAAAAAAAAAAAAAAAA\n",
       "AAAAAAAAAAAAAAAAAAAAAAAAAAAAAAAAAAAAAAAAAAAv3aB7AAAAD3RSTlMAIquJdkTvuxBmmd1U\n",
       "zTKBpmoTAAAACXBIWXMAAA7EAAAOxAGVKw4bAAAAzElEQVQY02NgwABz0+tvp09gwAoKhBiCpjdg\n",
       "lxJmYOdTwCXFJXABRch99+4LcKkCZJlYD4Qupg6QgYzKjg4gAcYbSAY+PysAZIQJsP8ACfAKwKXE\n",
       "bv8GmcCRycC1ASyF5IyZvSCa6wMDtwGI8Ww3EBRApNg7QV5mK2DoDwAJtCPp4ltQAaT7HRjmgwW4\n",
       "kf21ThwkdYBBlwfkAhYHJKl2FqCJ7A48u7jAInfgUlIMnBNKgS5UsRPyA4s0lTbAQr6Qofz+AeTg\n",
       "CK7ejRxyAISENKeL/c93AAAAAElFTkSuQmCC\n",
       "\" style=\"display:inline;vertical-align:middle;\" /></a>, <a class=\"ProveItLink\" href=\"../../ordering/__pv_it/theorems/6e5cad5b2984ed0d75bd47bd0c542ec447a4f3570/expr.ipynb\"><img src=\"data:image/png;base64,iVBORw0KGgoAAAANSUhEUgAAADEAAAAQBAMAAABNQoq8AAAAMFBMVEX///8AAAAAAAAAAAAAAAAA\n",
       "AAAAAAAAAAAAAAAAAAAAAAAAAAAAAAAAAAAAAAAAAAAv3aB7AAAAD3RSTlMAELvv3c2ZVESJq3Yi\n",
       "MmZ3LnoBAAAACXBIWXMAAA7EAAAOxAGVKw4bAAAA1ElEQVQY02NgQAdPjfRDjB4AGYzKDmhSCqcY\n",
       "uh4JABmsCegyJxmYeBcAGfwFmDJsBwKAjH4BqMgmF5cAuIwCkDEFKtG6EaGHSxBkWtTu5SA+TyCS\n",
       "aZdKDwDd9lVA/gDIIQfgModDvoD0s39kYN4AkkFywTtREM0WwMA/AUhfdgECBYgMkxzIpywTGPpB\n",
       "7hZC0sOboAjxTj7I3SzI/sk9BJK5wGgH4nNvQJIR4gYax/WACRI84XCZYwx8DzSArl6ZBxGQ0hCA\n",
       "hbUOg1I8cph1qkBCBwoAxe43BugJR6MAAAAASUVORK5CYII=\n",
       "\" style=\"display:inline;vertical-align:middle;\" /></a>, <a class=\"ProveItLink\" href=\"../__pv_it/demonstrations/90d0aed550740e8eefa0115db24abfdb56ee66210/expr.ipynb\"><img src=\"data:image/png;base64,iVBORw0KGgoAAAANSUhEUgAAAEcAAAATBAMAAAAwgQ3NAAAAMFBMVEX///8AAAAAAAAAAAAAAAAA\n",
       "AAAAAAAAAAAAAAAAAAAAAAAAAAAAAAAAAAAAAAAAAAAv3aB7AAAAD3RSTlMAdrsyRM3vEKvdVCKJ\n",
       "mWY5NCfAAAAACXBIWXMAAA7EAAAOxAGVKw4bAAABEElEQVQoz2NgIAB4GYgATBQqepqkH5n0AEmR\n",
       "0H8DBpb4pAIUVQo7GDweFSCZpN/AwMCJqoZBYQ8DE3MDwyUlNSUlkIksi34zMPAwYCji3RCAMImn\n",
       "5A8DgxdUUmjmzAC4IgWEIl6GaQwMxyFsV3GESRzlDciK3j9guABmcocjWWe0dANCkRcD/wSGA2Am\n",
       "6wa4om2RP8WRQvw4A+8XFgeIIiSHvytF9sgFBu5PPJAQMJsJBAoQRUx1D5AUAW3S3wthFiGZxHxB\n",
       "HaGGZQEDg/8dCJsTOZwub0IoAtnE+QXCZhRAUlTEiLCvEoj5PkA5UXBFexn4HqjAeBX5IAkFGE+l\n",
       "AJYKtBmU4hdgTyM+mpBoQQEAZ/9FBWPOzmIAAAAASUVORK5CYII=\n",
       "\" style=\"display:inline;vertical-align:middle;\" /></a> <a class=\"ProveItLink\" href=\"../__pv_it/demonstrations/faeea59691b2dde6773c7782621c44abe0e38edd0/proof.ipynb\" style=\"text-decoration: none\">&nbsp;&#x22A2;&nbsp;&nbsp;</a><a class=\"ProveItLink\" href=\"../__pv_it/demonstrations/65d26275c27c8f26745035747066a2518db7fa920/expr.ipynb\"><img src=\"data:image/png;base64,iVBORw0KGgoAAAANSUhEUgAAANYAAAAvBAMAAABtUCnMAAAAMFBMVEX///8AAAAAAAAAAAAAAAAA\n",
       "AAAAAAAAAAAAAAAAAAAAAAAAAAAAAAAAAAAAAAAAAAAv3aB7AAAAD3RSTlMAIolEdjJUEM2ZZu/d\n",
       "u6v6CvZmAAAACXBIWXMAAA7EAAAOxAGVKw4bAAAEAklEQVRYw+3XT2gcVRwH8O/Mzu7sZHc2e/Ai\n",
       "le5AI1WQMkgpUpFMIEu1JmFPQbDYQTx4KQ548k+7of6pCuoYBaUEnEMuItiFSqFacelBlK5lxSpI\n",
       "lYRStdSDaWJ3JW3R33s7s7Mzm40zTSYnH2T+z3z2N+/35v2CIqjxRbRWjHE03HbQn2RGt3YPfEo0\n",
       "68l1zk+c7Kwn/6kg9fYXluSELjh8Jo4lz6xzXlhxNxYWgbwFHAtf8XocS3HWu8C1UoeuASJtfOQe\n",
       "T3l3teJYOUSwxGeXgT20kbM6BzKGa7bjWE9HsRScA3bSRtYJWmI9jjXLuuXSGL/3sdN3TBq7J3XI\n",
       "7z2i04NGyl3rhAObPXsxaGUvT5nRrTdo9WBRbfP982Z6VR+q4UARFyCfguhaezBch0YbQzNBq3pM\n",
       "vvYf1lyDtfPsqq8oFT+DUufHLwK3kL6Os8DBijrTzcOdUFZSOjNqQesZC59Gj4tGkLKEvMb3fwGW\n",
       "yUpTdg1rVQOya9kQboksLdJL7I02GufONBrsdX7Abohj5Zqo6p71F1kZIoabB32LfsnCnTzvQnGd\n",
       "RaoV3aJ3SAGcQK/F47L9uFL0GRud5UY9aLWgtMOWdIrdsuDggZdD/XWBLBNXMsUeC6fp2Xq26fUX\n",
       "e315vjnUDFrX8YLTF9erbDFVg1QMxbULUI3MNwrff5NbK3i8gqMQTqKwyg+/yJQlnvxa0LqKn/rH\n",
       "149s8f4q/9AErAOUh5fv3l5mu0/c+PXQjcV7bmrC7C7qwOdGyjdZAhz5kv1SHlFeD1pH7qXBvUP+\n",
       "eXrq+U90SPM03sfneVzaXL+VryBGuwtBy31Kycw2qSu/pzdAkbP+SptVczpsDdlxrOPhb69rWaqW\n",
       "rtGAUI2SxftLspT6vr7567sYlNBcO5tLKBjpGn1wCvZoJzcUyiutzzocw1KL61kUV9aLi/rqStBi\n",
       "GSEY0a2xNY+WyVLJImSbVXAE1l/UVyUTCTT5T/vjl7YvQxx/BxiZ/7oC6dsKChb+b5vbBlaRwuZb\n",
       "A2cDUd8SS75Y3zILWTt5a6+7HjaTt55y16PW1ln3JZYbXh3qW2+N/5aQ1a1DPUv+26oWE7H8OtSz\n",
       "Mm3kjEQsrw6lyupzVlnRLDdDdWgill+HenERPWomYvl1qGfR8PrQCluPsnnvoVWkXjM2YHXr0K5V\n",
       "oT4MW1lmSX8MmpmjWX4d6lkFR7X7LJVZStWBtpE89OpQP+cvHWdjube+lPY/zCxRqW/IWuO74c4p\n",
       "PfXlLHLMmpZbaXNzrL0hq1tfjrU7/bUPc5K1OVZorvTry3eXOpaN0v1I0GL1pReXhsLR27fKg05I\n",
       "ld768iq2mezfAQitRMqe3vpS3D/xCjDxA/D7bT/vX7VXLCJF8nA+AAAAAElFTkSuQmCC\n",
       "\" style=\"display:inline;vertical-align:middle;\" /></a></span>"
      ],
      "text/plain": [
       "{a in Real, b in Real, N in RealPos} |- |(a mod N) + b|_{mod N} =  \\\\ |a + b|_{mod N}"
      ]
     },
     "metadata": {},
     "output_type": "display_data"
    }
   ],
   "source": [
    "ModAbs(Add(Mod(a, N), b), N).simplification(assumptions=temp_assumptions)"
   ]
  },
  {
   "cell_type": "code",
   "execution_count": 38,
   "metadata": {},
   "outputs": [
    {
     "data": {
      "text/html": [
       "<span style=\"font-size:20px;\"><a class=\"ProveItLink\" href=\"../../ordering/__pv_it/theorems/4aa8d696b1f407d6126de9f51a052e8d90e0848c0/expr.ipynb\"><img src=\"data:image/png;base64,iVBORw0KGgoAAAANSUhEUgAAADMAAAAQBAMAAABJt1qBAAAAMFBMVEX///8AAAAAAAAAAAAAAAAA\n",
       "AAAAAAAAAAAAAAAAAAAAAAAAAAAAAAAAAAAAAAAAAAAv3aB7AAAAD3RSTlMAIquJdkTvuxBmmd1U\n",
       "zTKBpmoTAAAACXBIWXMAAA7EAAAOxAGVKw4bAAAAzElEQVQY02NgwABz0+tvp09gwAoKhBiCpjdg\n",
       "lxJmYOdTwCXFJXABRch99+4LcKkCZJlYD4Qupg6QgYzKjg4gAcYbSAY+PysAZIQJsP8ACfAKwKXE\n",
       "bv8GmcCRycC1ASyF5IyZvSCa6wMDtwGI8Ww3EBRApNg7QV5mK2DoDwAJtCPp4ltQAaT7HRjmgwW4\n",
       "kf21ThwkdYBBlwfkAhYHJKl2FqCJ7A48u7jAInfgUlIMnBNKgS5UsRPyA4s0lTbAQr6Qofz+AeTg\n",
       "CK7ejRxyAISENKeL/c93AAAAAElFTkSuQmCC\n",
       "\" style=\"display:inline;vertical-align:middle;\" /></a>, <a class=\"ProveItLink\" href=\"../../ordering/__pv_it/theorems/6e5cad5b2984ed0d75bd47bd0c542ec447a4f3570/expr.ipynb\"><img src=\"data:image/png;base64,iVBORw0KGgoAAAANSUhEUgAAADEAAAAQBAMAAABNQoq8AAAAMFBMVEX///8AAAAAAAAAAAAAAAAA\n",
       "AAAAAAAAAAAAAAAAAAAAAAAAAAAAAAAAAAAAAAAAAAAv3aB7AAAAD3RSTlMAELvv3c2ZVESJq3Yi\n",
       "MmZ3LnoBAAAACXBIWXMAAA7EAAAOxAGVKw4bAAAA1ElEQVQY02NgQAdPjfRDjB4AGYzKDmhSCqcY\n",
       "uh4JABmsCegyJxmYeBcAGfwFmDJsBwKAjH4BqMgmF5cAuIwCkDEFKtG6EaGHSxBkWtTu5SA+TyCS\n",
       "aZdKDwDd9lVA/gDIIQfgModDvoD0s39kYN4AkkFywTtREM0WwMA/AUhfdgECBYgMkxzIpywTGPpB\n",
       "7hZC0sOboAjxTj7I3SzI/sk9BJK5wGgH4nNvQJIR4gYax/WACRI84XCZYwx8DzSArl6ZBxGQ0hCA\n",
       "hbUOg1I8cph1qkBCBwoAxe43BugJR6MAAAAASUVORK5CYII=\n",
       "\" style=\"display:inline;vertical-align:middle;\" /></a>, <a class=\"ProveItLink\" href=\"../__pv_it/demonstrations/90d0aed550740e8eefa0115db24abfdb56ee66210/expr.ipynb\"><img src=\"data:image/png;base64,iVBORw0KGgoAAAANSUhEUgAAAEcAAAATBAMAAAAwgQ3NAAAAMFBMVEX///8AAAAAAAAAAAAAAAAA\n",
       "AAAAAAAAAAAAAAAAAAAAAAAAAAAAAAAAAAAAAAAAAAAv3aB7AAAAD3RSTlMAdrsyRM3vEKvdVCKJ\n",
       "mWY5NCfAAAAACXBIWXMAAA7EAAAOxAGVKw4bAAABEElEQVQoz2NgIAB4GYgATBQqepqkH5n0AEmR\n",
       "0H8DBpb4pAIUVQo7GDweFSCZpN/AwMCJqoZBYQ8DE3MDwyUlNSUlkIksi34zMPAwYCji3RCAMImn\n",
       "5A8DgxdUUmjmzAC4IgWEIl6GaQwMxyFsV3GESRzlDciK3j9guABmcocjWWe0dANCkRcD/wSGA2Am\n",
       "6wa4om2RP8WRQvw4A+8XFgeIIiSHvytF9sgFBu5PPJAQMJsJBAoQRUx1D5AUAW3S3wthFiGZxHxB\n",
       "HaGGZQEDg/8dCJsTOZwub0IoAtnE+QXCZhRAUlTEiLCvEoj5PkA5UXBFexn4HqjAeBX5IAkFGE+l\n",
       "AJYKtBmU4hdgTyM+mpBoQQEAZ/9FBWPOzmIAAAAASUVORK5CYII=\n",
       "\" style=\"display:inline;vertical-align:middle;\" /></a>, <a class=\"ProveItLink\" href=\"../__pv_it/demonstrations/1c21f2ebeb108c743326f2c2b972d119134993270/expr.ipynb\"><img src=\"data:image/png;base64,iVBORw0KGgoAAAANSUhEUgAAAGcAAAAqBAMAAABcqVh4AAAAMFBMVEX///8AAAAAAAAAAAAAAAAA\n",
       "AAAAAAAAAAAAAAAAAAAAAAAAAAAAAAAAAAAAAAAAAAAv3aB7AAAAD3RSTlMAIolEdjKr77sQZpnd\n",
       "VM0QaojEAAAACXBIWXMAAA7EAAAOxAGVKw4bAAABu0lEQVRIx52VPUvDUBSG3yb147bVdhARdCjo\n",
       "UujgLJQWUXBwiP+giqNanFpc6iA4NiDURbA/QDA4qQ20OOgSsEoHB5FO4iJW20EHW5N+0KZNUk9e\n",
       "SO7lkifn3vecwwUIWqkL4D8SIkhKRQEPkeGfPgGOxoA7+gJCRMiNOyBAhs4zkIhQCN48/EQoAHeF\n",
       "nydCEhzfHNFxbWepaSLDF4DwBTVN6s48FW3mM/vE0bdyoj6usjabNf1vr03p5Lv63jeD2GHeAOqS\n",
       "YaRxSQe9+KyghdboLXRDZ1eWkYqtMSx2QasB/AsKdoxgwYjhmSbnJnqg16XtFsTkjKER/C5Sog5i\n",
       "NfHU14DYTsHYveMMZH2ksR+MRJqRzKAccKPNZEWJK8qt1mwleP1NyNHZXr2tsgolwCr6SB4/wgVL\n",
       "I1i1VVAdSE1TTrS0nP1iuPSghwS2NyC5B3iWJB00nBmVdGUk9EHpxbVNQW/5xjWhYItWraF5mX0T\n",
       "TAvWDJoCVxnchExpqH2mdSBO61xVSRExrbeWzSCn0L+2BcQE0HVvgxmq2oA8URvQpQ3GZSfQIxw+\n",
       "sg1+OKlXDWayWZmepHq9pg5/th58GENMIgUAAAAASUVORK5CYII=\n",
       "\" style=\"display:inline;vertical-align:middle;\" /></a> <a class=\"ProveItLink\" href=\"../__pv_it/demonstrations/874ca1cababf663a1cd8b1cd30b199d29a35dc960/proof.ipynb\" style=\"text-decoration: none\">&nbsp;&#x22A2;&nbsp;&nbsp;</a><a class=\"ProveItLink\" href=\"../__pv_it/demonstrations/4bf54ca3c9242208ad3080c52a01bbdb675f16c50/expr.ipynb\"><img src=\"data:image/png;base64,iVBORw0KGgoAAAANSUhEUgAAANYAAAAuBAMAAACmDPppAAAAMFBMVEX///8AAAAAAAAAAAAAAAAA\n",
       "AAAAAAAAAAAAAAAAAAAAAAAAAAAAAAAAAAAAAAAAAAAv3aB7AAAAD3RSTlMAIolEdjJUEM2ZZu/d\n",
       "u6v6CvZmAAAACXBIWXMAAA7EAAAOxAGVKw4bAAADhElEQVRYw+3WTUgUYRgH8P9+zo7urnvoEoUu\n",
       "aFgQMgeRsIMruESQsicJkhyiQ5dooFMfulKRFFSbBIUI7cFLBLlgBJXR4iEKN9kogqhQwkK65Edq\n",
       "+EE97+vMrjOrNgPOHqIXduadz98+8z7vzIMQqPGFuRaysNfYKunnls1btRvexZx1bJPjhwZX182/\n",
       "Y3DdeKa4k4YTOoasWELXJscds2pnbBzwK0C38YwrViwxudkJquU6OQ04qXNP3e/Srpq3YpXChOU8\n",
       "PQPUUadUWd3hjajmghXrhBlLxAhQTR1fUm8501asHjYsXxr5tYcfb2uO1DZLEG4dlOhGVdGcNZBE\n",
       "gt17XG/5Jlpk89ZVWu0PBRb49qjsWZRKUmgL4R2ER3CqVh3K0ghTp6RLb8W7hem/WH0Z1kbZWS8o\n",
       "FZ9ATPP9H4EVeOYwDLTHAl25PKyGOOuSmJHSW6cUPDQfF80gcQr+MN/+DMyQ5aHsKgvHIxBUKwHH\n",
       "ipOlhWeKPdFMZmQok2GP8w67wIpVmkVc0qyfZHmJKMu25y36J2Pbed4Z4hqGa968Rc+QAhjAWovH\n",
       "lcjH5aLXWEMPN9J6ax7igtFyP2KXjCWx75JhvN6RJWPSG1pj4THdW/JltfFij8/PuyVZvTWHc8mC\n",
       "uC6zRUsK7pAhrhogEPG+Evn2NW7N4kgMF+AYRHCR7z7PlCme/GG99R0fCufXe7a4vchfNDqrjfJw\n",
       "Yld5lG0eXfp6cml893LY0VNDA3imKrrMEqDzOfunPCK/pLc699DkrhQ+tbacfSDB3U/zvamfxxXu\n",
       "K7T8MVhoO6G31LtUyL4sDeVbegIUORsvjxyXW41WScKK1Wt896qWEgh7UjQhApEKhY+XWxHTBwq+\n",
       "X28sUI7s+tlcgWDEk6IXTjDRsJobIuVVuMDqsGAFQptZFJdPi4vGalJvsYxwRMxbjevujZIVIIuQ\n",
       "HUow6WDjRWNVIcOGJvxI3L9YPgNn002gqv9lDO7XMQQV/G9b2zasIh1bb234NXBKRbGEj+miWfAl\n",
       "7Lfq1XWZbL91XF03KMWz9tqWG1odmreuN32zycrVoZol/FLiIVusfB2qWd4FlEZssbQ6lCqrp6yy\n",
       "oq9cF9Whtlj5OlSLi+gG2RYrX4dqFk2vu4o9Vq4OzVkxGkNbrHwdqlnBZCBhj5WrQ/M5/6W3eO+N\n",
       "YnxT6ov//foXrOhGB9yxrab+AJVn/ycBURLBAAAAAElFTkSuQmCC\n",
       "\" style=\"display:inline;vertical-align:middle;\" /></a></span>"
      ],
      "text/plain": [
       "{a in Real, b in Real, N in RealPos, |a + b| <= (N / 2)} |- |(a mod N) + b|_{mod N} =  \\\\ |a + b|"
      ]
     },
     "metadata": {},
     "output_type": "display_data"
    }
   ],
   "source": [
    "ModAbs(Add(Mod(a, N), b), N).simplification(\n",
    "    assumptions=temp_assumptions+[LessEq(Abs(Add(a, b)), Div(N, two))])"
   ]
  },
  {
   "cell_type": "code",
   "execution_count": 39,
   "metadata": {},
   "outputs": [
    {
     "data": {
      "text/html": [
       "<span style=\"font-size:20px;\"><a class=\"ProveItLink\" href=\"../../ordering/__pv_it/theorems/4aa8d696b1f407d6126de9f51a052e8d90e0848c0/expr.ipynb\"><img src=\"data:image/png;base64,iVBORw0KGgoAAAANSUhEUgAAADMAAAAQBAMAAABJt1qBAAAAMFBMVEX///8AAAAAAAAAAAAAAAAA\n",
       "AAAAAAAAAAAAAAAAAAAAAAAAAAAAAAAAAAAAAAAAAAAv3aB7AAAAD3RSTlMAIquJdkTvuxBmmd1U\n",
       "zTKBpmoTAAAACXBIWXMAAA7EAAAOxAGVKw4bAAAAzElEQVQY02NgwABz0+tvp09gwAoKhBiCpjdg\n",
       "lxJmYOdTwCXFJXABRch99+4LcKkCZJlYD4Qupg6QgYzKjg4gAcYbSAY+PysAZIQJsP8ACfAKwKXE\n",
       "bv8GmcCRycC1ASyF5IyZvSCa6wMDtwGI8Ww3EBRApNg7QV5mK2DoDwAJtCPp4ltQAaT7HRjmgwW4\n",
       "kf21ThwkdYBBlwfkAhYHJKl2FqCJ7A48u7jAInfgUlIMnBNKgS5UsRPyA4s0lTbAQr6Qofz+AeTg\n",
       "CK7ejRxyAISENKeL/c93AAAAAElFTkSuQmCC\n",
       "\" style=\"display:inline;vertical-align:middle;\" /></a>, <a class=\"ProveItLink\" href=\"../../ordering/__pv_it/theorems/6e5cad5b2984ed0d75bd47bd0c542ec447a4f3570/expr.ipynb\"><img src=\"data:image/png;base64,iVBORw0KGgoAAAANSUhEUgAAADEAAAAQBAMAAABNQoq8AAAAMFBMVEX///8AAAAAAAAAAAAAAAAA\n",
       "AAAAAAAAAAAAAAAAAAAAAAAAAAAAAAAAAAAAAAAAAAAv3aB7AAAAD3RSTlMAELvv3c2ZVESJq3Yi\n",
       "MmZ3LnoBAAAACXBIWXMAAA7EAAAOxAGVKw4bAAAA1ElEQVQY02NgQAdPjfRDjB4AGYzKDmhSCqcY\n",
       "uh4JABmsCegyJxmYeBcAGfwFmDJsBwKAjH4BqMgmF5cAuIwCkDEFKtG6EaGHSxBkWtTu5SA+TyCS\n",
       "aZdKDwDd9lVA/gDIIQfgModDvoD0s39kYN4AkkFywTtREM0WwMA/AUhfdgECBYgMkxzIpywTGPpB\n",
       "7hZC0sOboAjxTj7I3SzI/sk9BJK5wGgH4nNvQJIR4gYax/WACRI84XCZYwx8DzSArl6ZBxGQ0hCA\n",
       "hbUOg1I8cph1qkBCBwoAxe43BugJR6MAAAAASUVORK5CYII=\n",
       "\" style=\"display:inline;vertical-align:middle;\" /></a>, <a class=\"ProveItLink\" href=\"../__pv_it/demonstrations/90d0aed550740e8eefa0115db24abfdb56ee66210/expr.ipynb\"><img src=\"data:image/png;base64,iVBORw0KGgoAAAANSUhEUgAAAEcAAAATBAMAAAAwgQ3NAAAAMFBMVEX///8AAAAAAAAAAAAAAAAA\n",
       "AAAAAAAAAAAAAAAAAAAAAAAAAAAAAAAAAAAAAAAAAAAv3aB7AAAAD3RSTlMAdrsyRM3vEKvdVCKJ\n",
       "mWY5NCfAAAAACXBIWXMAAA7EAAAOxAGVKw4bAAABEElEQVQoz2NgIAB4GYgATBQqepqkH5n0AEmR\n",
       "0H8DBpb4pAIUVQo7GDweFSCZpN/AwMCJqoZBYQ8DE3MDwyUlNSUlkIksi34zMPAwYCji3RCAMImn\n",
       "5A8DgxdUUmjmzAC4IgWEIl6GaQwMxyFsV3GESRzlDciK3j9guABmcocjWWe0dANCkRcD/wSGA2Am\n",
       "6wa4om2RP8WRQvw4A+8XFgeIIiSHvytF9sgFBu5PPJAQMJsJBAoQRUx1D5AUAW3S3wthFiGZxHxB\n",
       "HaGGZQEDg/8dCJsTOZwub0IoAtnE+QXCZhRAUlTEiLCvEoj5PkA5UXBFexn4HqjAeBX5IAkFGE+l\n",
       "AJYKtBmU4hdgTyM+mpBoQQEAZ/9FBWPOzmIAAAAASUVORK5CYII=\n",
       "\" style=\"display:inline;vertical-align:middle;\" /></a>, <a class=\"ProveItLink\" href=\"../__pv_it/demonstrations/1c21f2ebeb108c743326f2c2b972d119134993270/expr.ipynb\"><img src=\"data:image/png;base64,iVBORw0KGgoAAAANSUhEUgAAAGcAAAAqBAMAAABcqVh4AAAAMFBMVEX///8AAAAAAAAAAAAAAAAA\n",
       "AAAAAAAAAAAAAAAAAAAAAAAAAAAAAAAAAAAAAAAAAAAv3aB7AAAAD3RSTlMAIolEdjKr77sQZpnd\n",
       "VM0QaojEAAAACXBIWXMAAA7EAAAOxAGVKw4bAAABu0lEQVRIx52VPUvDUBSG3yb147bVdhARdCjo\n",
       "UujgLJQWUXBwiP+giqNanFpc6iA4NiDURbA/QDA4qQ20OOgSsEoHB5FO4iJW20EHW5N+0KZNUk9e\n",
       "SO7lkifn3vecwwUIWqkL4D8SIkhKRQEPkeGfPgGOxoA7+gJCRMiNOyBAhs4zkIhQCN48/EQoAHeF\n",
       "nydCEhzfHNFxbWepaSLDF4DwBTVN6s48FW3mM/vE0bdyoj6usjabNf1vr03p5Lv63jeD2GHeAOqS\n",
       "YaRxSQe9+KyghdboLXRDZ1eWkYqtMSx2QasB/AsKdoxgwYjhmSbnJnqg16XtFsTkjKER/C5Sog5i\n",
       "NfHU14DYTsHYveMMZH2ksR+MRJqRzKAccKPNZEWJK8qt1mwleP1NyNHZXr2tsgolwCr6SB4/wgVL\n",
       "I1i1VVAdSE1TTrS0nP1iuPSghwS2NyC5B3iWJB00nBmVdGUk9EHpxbVNQW/5xjWhYItWraF5mX0T\n",
       "TAvWDJoCVxnchExpqH2mdSBO61xVSRExrbeWzSCn0L+2BcQE0HVvgxmq2oA8URvQpQ3GZSfQIxw+\n",
       "sg1+OKlXDWayWZmepHq9pg5/th58GENMIgUAAAAASUVORK5CYII=\n",
       "\" style=\"display:inline;vertical-align:middle;\" /></a> <a class=\"ProveItLink\" href=\"../__pv_it/demonstrations/82fdcb1a1f12602bfcf044834cd41dbe1eebb4a20/proof.ipynb\" style=\"text-decoration: none\">&nbsp;&#x22A2;&nbsp;&nbsp;</a><a class=\"ProveItLink\" href=\"../__pv_it/demonstrations/14098705176b1eff44daee8307c8c01089a080690/expr.ipynb\"><img src=\"data:image/png;base64,iVBORw0KGgoAAAANSUhEUgAAALwAAAAWBAMAAACI4OsQAAAAMFBMVEX///8AAAAAAAAAAAAAAAAA\n",
       "AAAAAAAAAAAAAAAAAAAAAAAAAAAAAAAAAAAAAAAAAAAv3aB7AAAAD3RSTlMAIolEdjKr77sQZpnd\n",
       "VM0QaojEAAAACXBIWXMAAA7EAAAOxAGVKw4bAAACDUlEQVRIx6XVv2vUYBgH8O/lcneJMWmmdmyg\n",
       "OIgORxelS3PQa2kp0n+gIKUgLVhvEATpUBDpoEMmW0RIBrFjr+1Wih4OOpghg7uiKBRRrgWHCCl9\n",
       "8+Nt817urZfes7wvvC+ffHl53jfQwakCei3+Th0jvCWh2ivP3znSlZfXW33zm6tcHlqz//S/svxY\n",
       "Mg54l+aLTjIJsvznZBy3Ls2rZvIZn8/fRN+80KJ8YaFmsvzPifv5+HOC8tripBfzt3TJZ3j5xLL1\n",
       "//AHblgfEv6coLx9KB9FvPwYSovhVR8VM0/6FEH5LxYeRrzSxlUjzvMozqN8xYCRh6eE4rofV133\n",
       "Lpm+BY4jvrIGu8qkJ1vHvTx8iqDp36MYRLxtYpvtHNL276xOforcBdz+h+IfM3P2KYLyARQ/5j2s\n",
       "qDrDz5HD7OS1kBfvAbVs+hRB+b/YcCJeMtVPCpO+7EjNDC+FvGI7MLJ8iqD8Mp7FfS8vXhuss425\n",
       "sB/1w/P5yZdvqhBfX4c4cyfkBdIgXfgUQfkXNxzurU26edjT1tQWnuAVdlEJ+Xk5KHk93dpuD/JY\n",
       "B29JRqlRakOq+fHZT+NAtHp70vjv/RmPsllqXGmgvNeO+SaGR/v+nbA8Sa/R9AbK33Lxdd6SOEd4\n",
       "ifD4jSFrGUOEJ+deCLrt5FT9otsoP2hufR88hjCxA2Fm9gcw+xRYQo46BRPUnvBv8zWlAAAAAElF\n",
       "TkSuQmCC\n",
       "\" style=\"display:inline;vertical-align:middle;\" /></a></span>"
      ],
      "text/plain": [
       "{a in Real, b in Real, N in RealPos, |a + b| <= (N / 2)} |- |a + b|_{mod N} = |a + b|"
      ]
     },
     "metadata": {},
     "output_type": "display_data"
    }
   ],
   "source": [
    "ModAbs(Add(a, b), N).simplification(\n",
    "    assumptions=temp_assumptions+[LessEq(Abs(Add(a, b)), Div(N, two))])"
   ]
  },
  {
   "cell_type": "markdown",
   "metadata": {},
   "source": [
    "The following example eliminates a redundant (mod N) inside, then eliminates the unnecessary (mod N) outside, and finally eliminates the absolute value altogether:"
   ]
  },
  {
   "cell_type": "code",
   "execution_count": 40,
   "metadata": {},
   "outputs": [
    {
     "data": {
      "text/html": [
       "<span style=\"font-size:20px;\"><a class=\"ProveItLink\" href=\"../../ordering/__pv_it/theorems/4aa8d696b1f407d6126de9f51a052e8d90e0848c0/expr.ipynb\"><img src=\"data:image/png;base64,iVBORw0KGgoAAAANSUhEUgAAADMAAAAQBAMAAABJt1qBAAAAMFBMVEX///8AAAAAAAAAAAAAAAAA\n",
       "AAAAAAAAAAAAAAAAAAAAAAAAAAAAAAAAAAAAAAAAAAAv3aB7AAAAD3RSTlMAIquJdkTvuxBmmd1U\n",
       "zTKBpmoTAAAACXBIWXMAAA7EAAAOxAGVKw4bAAAAzElEQVQY02NgwABz0+tvp09gwAoKhBiCpjdg\n",
       "lxJmYOdTwCXFJXABRch99+4LcKkCZJlYD4Qupg6QgYzKjg4gAcYbSAY+PysAZIQJsP8ACfAKwKXE\n",
       "bv8GmcCRycC1ASyF5IyZvSCa6wMDtwGI8Ww3EBRApNg7QV5mK2DoDwAJtCPp4ltQAaT7HRjmgwW4\n",
       "kf21ThwkdYBBlwfkAhYHJKl2FqCJ7A48u7jAInfgUlIMnBNKgS5UsRPyA4s0lTbAQr6Qofz+AeTg\n",
       "CK7ejRxyAISENKeL/c93AAAAAElFTkSuQmCC\n",
       "\" style=\"display:inline;vertical-align:middle;\" /></a>, <a class=\"ProveItLink\" href=\"../../ordering/__pv_it/theorems/6e5cad5b2984ed0d75bd47bd0c542ec447a4f3570/expr.ipynb\"><img src=\"data:image/png;base64,iVBORw0KGgoAAAANSUhEUgAAADEAAAAQBAMAAABNQoq8AAAAMFBMVEX///8AAAAAAAAAAAAAAAAA\n",
       "AAAAAAAAAAAAAAAAAAAAAAAAAAAAAAAAAAAAAAAAAAAv3aB7AAAAD3RSTlMAELvv3c2ZVESJq3Yi\n",
       "MmZ3LnoBAAAACXBIWXMAAA7EAAAOxAGVKw4bAAAA1ElEQVQY02NgQAdPjfRDjB4AGYzKDmhSCqcY\n",
       "uh4JABmsCegyJxmYeBcAGfwFmDJsBwKAjH4BqMgmF5cAuIwCkDEFKtG6EaGHSxBkWtTu5SA+TyCS\n",
       "aZdKDwDd9lVA/gDIIQfgModDvoD0s39kYN4AkkFywTtREM0WwMA/AUhfdgECBYgMkxzIpywTGPpB\n",
       "7hZC0sOboAjxTj7I3SzI/sk9BJK5wGgH4nNvQJIR4gYax/WACRI84XCZYwx8DzSArl6ZBxGQ0hCA\n",
       "hbUOg1I8cph1qkBCBwoAxe43BugJR6MAAAAASUVORK5CYII=\n",
       "\" style=\"display:inline;vertical-align:middle;\" /></a>, <a class=\"ProveItLink\" href=\"../__pv_it/demonstrations/90d0aed550740e8eefa0115db24abfdb56ee66210/expr.ipynb\"><img src=\"data:image/png;base64,iVBORw0KGgoAAAANSUhEUgAAAEcAAAATBAMAAAAwgQ3NAAAAMFBMVEX///8AAAAAAAAAAAAAAAAA\n",
       "AAAAAAAAAAAAAAAAAAAAAAAAAAAAAAAAAAAAAAAAAAAv3aB7AAAAD3RSTlMAdrsyRM3vEKvdVCKJ\n",
       "mWY5NCfAAAAACXBIWXMAAA7EAAAOxAGVKw4bAAABEElEQVQoz2NgIAB4GYgATBQqepqkH5n0AEmR\n",
       "0H8DBpb4pAIUVQo7GDweFSCZpN/AwMCJqoZBYQ8DE3MDwyUlNSUlkIksi34zMPAwYCji3RCAMImn\n",
       "5A8DgxdUUmjmzAC4IgWEIl6GaQwMxyFsV3GESRzlDciK3j9guABmcocjWWe0dANCkRcD/wSGA2Am\n",
       "6wa4om2RP8WRQvw4A+8XFgeIIiSHvytF9sgFBu5PPJAQMJsJBAoQRUx1D5AUAW3S3wthFiGZxHxB\n",
       "HaGGZQEDg/8dCJsTOZwub0IoAtnE+QXCZhRAUlTEiLCvEoj5PkA5UXBFexn4HqjAeBX5IAkFGE+l\n",
       "AJYKtBmU4hdgTyM+mpBoQQEAZ/9FBWPOzmIAAAAASUVORK5CYII=\n",
       "\" style=\"display:inline;vertical-align:middle;\" /></a>, <a class=\"ProveItLink\" href=\"../__pv_it/demonstrations/1c21f2ebeb108c743326f2c2b972d119134993270/expr.ipynb\"><img src=\"data:image/png;base64,iVBORw0KGgoAAAANSUhEUgAAAGcAAAAqBAMAAABcqVh4AAAAMFBMVEX///8AAAAAAAAAAAAAAAAA\n",
       "AAAAAAAAAAAAAAAAAAAAAAAAAAAAAAAAAAAAAAAAAAAv3aB7AAAAD3RSTlMAIolEdjKr77sQZpnd\n",
       "VM0QaojEAAAACXBIWXMAAA7EAAAOxAGVKw4bAAABu0lEQVRIx52VPUvDUBSG3yb147bVdhARdCjo\n",
       "UujgLJQWUXBwiP+giqNanFpc6iA4NiDURbA/QDA4qQ20OOgSsEoHB5FO4iJW20EHW5N+0KZNUk9e\n",
       "SO7lkifn3vecwwUIWqkL4D8SIkhKRQEPkeGfPgGOxoA7+gJCRMiNOyBAhs4zkIhQCN48/EQoAHeF\n",
       "nydCEhzfHNFxbWepaSLDF4DwBTVN6s48FW3mM/vE0bdyoj6usjabNf1vr03p5Lv63jeD2GHeAOqS\n",
       "YaRxSQe9+KyghdboLXRDZ1eWkYqtMSx2QasB/AsKdoxgwYjhmSbnJnqg16XtFsTkjKER/C5Sog5i\n",
       "NfHU14DYTsHYveMMZH2ksR+MRJqRzKAccKPNZEWJK8qt1mwleP1NyNHZXr2tsgolwCr6SB4/wgVL\n",
       "I1i1VVAdSE1TTrS0nP1iuPSghwS2NyC5B3iWJB00nBmVdGUk9EHpxbVNQW/5xjWhYItWraF5mX0T\n",
       "TAvWDJoCVxnchExpqH2mdSBO61xVSRExrbeWzSCn0L+2BcQE0HVvgxmq2oA8URvQpQ3GZSfQIxw+\n",
       "sg1+OKlXDWayWZmepHq9pg5/th58GENMIgUAAAAASUVORK5CYII=\n",
       "\" style=\"display:inline;vertical-align:middle;\" /></a>, <a class=\"ProveItLink\" href=\"../__pv_it/demonstrations/695db39f491ebc02b33408c30a8bc4c5e55a1c4c0/expr.ipynb\"><img src=\"data:image/png;base64,iVBORw0KGgoAAAANSUhEUgAAAGEAAAAVBAMAAACkm51HAAAAMFBMVEX///8AAAAAAAAAAAAAAAAA\n",
       "AAAAAAAAAAAAAAAAAAAAAAAAAAAAAAAAAAAAAAAAAAAv3aB7AAAAD3RSTlMAInZUiRDNmWbv3US7\n",
       "qzJazP2FAAAACXBIWXMAAA7EAAAOxAGVKw4bAAABlklEQVQ4y3VTPUjDQBT+Yoxp2mgzC8LVRSgo\n",
       "GaRrM+hSVDI5iNAugovQQpVudhO7tKMoSMVBzCQOglOr4CAo+FOdO7vYwerqS9qkXJu74b277933\n",
       "/u4dAAPhS4RjzBQYrkWMxRBMeayTq/IIvjRHgZVcmJuJPImtEdRUzgCV8xTrn+JuqgfDjAqwAmgc\n",
       "JrOebtgkNFdgfeDyGUjbSIUyMl4S3l0lw3zrH/Btokg7qZVgPGNn9h0Yf+kdksv9friMMrZpe2vo\n",
       "XY6h/NpZAxG/KZVdT0k/xGA4J/sR1DrHkLvQGOSan06qEDAsnFC7OohahKiOc3nsOJSLmkPcwlQn\n",
       "qO/mw41MjAZzGVoT2SsuBjlomIjVBoyHfuVp080qy1Dle0XPsW9DrgdZvXrqCajauCeGiU/Z4Bht\n",
       "qg2Rpl95oacPgT1gFdCZfKFyMSbLOo2JavHdRdRUToEvquhtbWaB726r5F7wilOSwQsqxfk2we2w\n",
       "N/fWtCc3hkc4kg+bRG+VBP/jTvRxpKbAsCli6KJvKzGBIREO/wOfdVSCWt0TmgAAAABJRU5ErkJg\n",
       "gg==\n",
       "\" style=\"display:inline;vertical-align:middle;\" /></a> <a class=\"ProveItLink\" href=\"../__pv_it/demonstrations/c697fb6cd1597a2fc7e4d4f9c7d30416af3aea4e0/proof.ipynb\" style=\"text-decoration: none\">&nbsp;&#x22A2;&nbsp;&nbsp;</a><a class=\"ProveItLink\" href=\"../__pv_it/demonstrations/c1fc72313e6722d0f0934aefc7644379cb16f8090/expr.ipynb\"><img src=\"data:image/png;base64,iVBORw0KGgoAAAANSUhEUgAAANYAAAAuBAMAAACmDPppAAAAMFBMVEX///8AAAAAAAAAAAAAAAAA\n",
       "AAAAAAAAAAAAAAAAAAAAAAAAAAAAAAAAAAAAAAAAAAAv3aB7AAAAD3RSTlMAIolEdjJUEM2ZZu/d\n",
       "u6v6CvZmAAAACXBIWXMAAA7EAAAOxAGVKw4bAAADuklEQVRYw+2WTWgTQRiG3/xutk3SPXgRxQas\n",
       "qCAlhyKCh6bQIoItOYmg6OLJi7jgyZ+aomJRUGMRlCK4h15E0ECloCgGD6IYJaIIotIiKsWL/dFW\n",
       "qqLfTLPZnU1ad+l484Xszs7uzpNvvm9mX2gg8YM3aT563VpNv7DundW24CjeWHsXub9teP7c/TuL\n",
       "0Pl7Rth0PdB71w9L6VvkfmC60hgdA+IG0O9+4rQflmou9kCFFdo/CQSpca3SH7LemvHDaoQHVvDg\n",
       "FLCRGo3GfEc0U2HO+mHt88JS8QRYS42YKbKCRT+sAZaW9x383R23l3Vn2rrTUC5uTdNALV1V1k0T\n",
       "eTb2mMiKfejRvbPO0Gmzlpjl18/0yFy6oYBdGl5CGUGwwtqIpiJS1GjoE1m5fmXyL6wrJaZn7KmH\n",
       "VIp3oBZ5/xvgFyLf8ADYk030VetwLdTpUJoxCiLrgIFb3uOiFaROIJ7i1++AKWJFqLqaUrkMlAor\n",
       "j8CvICuLyASb0VLpyd1SiU3nZfaCH1ZjGbm0xfpKrCghmsp7bBb9k9HlvO5ccT1AaMY7i+aQArgJ\n",
       "J4vHlbfjCtE21j7AGUWRNQN11s0Kj7BXRk1sOunK10ti6RiPag4WbtPY6VjZyhebvjhvNpRF1jcc\n",
       "MWviOsUOPQWENVdcrUAiE32s8uuznDWNnVkcR2AYyTnefZRRJnjxp0TWZ7yuXV+v2OHSHN9oBNYu\n",
       "qsMPa1Z1scvdPz7u/zG27mcqMNBKCTzU0vWTFcCx++yf8ojiaZF1bD0t7tXK2+09h2+kER6i9d45\n",
       "xONKXallxbPwoZUQWZVRmvVYmVL5gmaAImf5iug5fbub1ZD3wxp0770VlpFIRQq0IBKZZoPnK2yo\n",
       "xS0136/nPlCBcv1qbkYyEynQhpPMt8/Xhkp1laph9fpgJbTFWBRXzIqLcjUuslhFBDLeWR11e7uI\n",
       "lSAWQVYYSTPA8kW5atbxD6R8yV8/sWoKwc4LQMvQoyzCT7NIGvgv2dJ89i9BCxrRNvmsekZUeUMf\n",
       "jrApvVjrGtEY27b6ZbNEI2ptck26w3VKk2hErc273XC4TmnaV5e1AQ7XKU1OI2qzznV+sl2nNAlG\n",
       "1GIp342cVnWd0iQYUYsVnUVjpuo6pclhRG2DqfaREZ13nZJZthG14iJ0u151nTLn0DaiFouW11Wj\n",
       "6jqlSTCiVVaWclh1ndIkGFGLlTQTedt1SpPTiNo1/37Q4TqlSTSigsFcKXs/FI2oYDAHpX+/nvtz\n",
       "nUtSrz/XuSQtaEQ7ZJP+AEeoDWlQcmMWAAAAAElFTkSuQmCC\n",
       "\" style=\"display:inline;vertical-align:middle;\" /></a></span>"
      ],
      "text/plain": [
       "{a in Real, b in Real, N in RealPos, |a + b| <= (N / 2), (a + b) > 0} |- |(a mod N) + b|_{mod N} =  \\\\ (a + b)"
      ]
     },
     "metadata": {},
     "output_type": "display_data"
    }
   ],
   "source": [
    "from proveit.numbers import greater\n",
    "ModAbs(Add(Mod(a, N), b), N).simplification(\n",
    "    assumptions=(\n",
    "        temp_assumptions+\n",
    "        [LessEq(Abs(Add(a, b)), Div(N, two)), greater(Add(a, b), zero)]))"
   ]
  },
  {
   "cell_type": "code",
   "execution_count": 41,
   "metadata": {},
   "outputs": [],
   "source": [
    "%end demonstrations"
   ]
  }
 ],
 "metadata": {
  "kernelspec": {
   "display_name": "Python 3",
   "language": "python",
   "name": "python3"
  }
 },
 "nbformat": 4,
 "nbformat_minor": 0
}