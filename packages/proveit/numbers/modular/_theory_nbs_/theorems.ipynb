{
 "cells": [
  {
   "cell_type": "markdown",
   "metadata": {},
   "source": [
    "Theorems (or conjectures) for the theory of <a class=\"ProveItLink\" href=\"theory.ipynb\">proveit.numbers.modular</a>\n",
    "========"
   ]
  },
  {
   "cell_type": "code",
   "execution_count": null,
   "metadata": {},
   "outputs": [],
   "source": [
    "import proveit\n",
    "# Prepare this notebook for defining the theorems of a theory:\n",
    "%theorems_notebook # Keep this at the top following 'import proveit'.\n",
    "from proveit import Lambda, IndexedVar, ExprRange\n",
    "from proveit import a, b, c, i, j, n, x, y, L, N, S\n",
    "from proveit.logic import (And, Equals, Forall, Iff, InSet, NotEquals, \n",
    "                           SubsetEq, SetOfAll, Card, Bijections)\n",
    "from proveit.numbers import (Abs, Add, frac, greater_eq, LessEq, Interval, IntervalCO,\n",
    "                            Mod, ModAbs, Mult, Neg, number_ordering, subtract)\n",
    "from proveit.numbers import (zero, one, two, Natural, Integer, NaturalPos, \n",
    "                            Real, RealPos, Complex)\n",
    "from proveit.core_expr_types import a_1_to_n, a_1_to_i, c_1_to_j"
   ]
  },
  {
   "cell_type": "code",
   "execution_count": null,
   "metadata": {},
   "outputs": [],
   "source": [
    "%begin theorems"
   ]
  },
  {
   "cell_type": "code",
   "execution_count": null,
   "metadata": {},
   "outputs": [],
   "source": [
    "mod_int_closure = Forall(\n",
    "    (a, b),\n",
    "    InSet(Mod(a, b), Integer),\n",
    "    domain=Integer,\n",
    "    conditions=[NotEquals(b, zero)])"
   ]
  },
  {
   "cell_type": "code",
   "execution_count": null,
   "metadata": {},
   "outputs": [],
   "source": [
    "mod_int_to_nat_closure = Forall(\n",
    "    (a, b),\n",
    "    InSet(Mod(a, b), Natural),\n",
    "    domain=Integer,\n",
    "    conditions=[NotEquals(b, zero)])"
   ]
  },
  {
   "cell_type": "code",
   "execution_count": null,
   "metadata": {},
   "outputs": [],
   "source": [
    "mod_in_interval = Forall(\n",
    "    (a, b),\n",
    "    InSet(Mod(a, b), Interval(zero, subtract(Abs(b), one))),\n",
    "    domain=Integer,\n",
    "    conditions=[NotEquals(b, zero)])"
   ]
  },
  {
   "cell_type": "code",
   "execution_count": null,
   "metadata": {},
   "outputs": [],
   "source": [
    "mod_natpos_in_interval = Forall(\n",
    "    (a, b),\n",
    "    InSet(Mod(a, b), Interval(zero, subtract(b, one))),\n",
    "    domains=(Integer, NaturalPos))"
   ]
  },
  {
   "cell_type": "code",
   "execution_count": null,
   "metadata": {},
   "outputs": [],
   "source": [
    "mod_real_closure = Forall(\n",
    "    (a, b),\n",
    "    InSet(Mod(a, b), Real),\n",
    "    domain=Real,\n",
    "    conditions=[NotEquals(b, zero)])"
   ]
  },
  {
   "cell_type": "code",
   "execution_count": null,
   "metadata": {},
   "outputs": [],
   "source": [
    "mod_abs_int_closure = Forall(\n",
    "    (a, b),\n",
    "    InSet(ModAbs(a, b), Integer),\n",
    "    domain=Integer,\n",
    "    conditions=[NotEquals(b, zero)])"
   ]
  },
  {
   "cell_type": "code",
   "execution_count": null,
   "metadata": {},
   "outputs": [],
   "source": [
    "mod_abs_int_to_nat_closure = Forall(\n",
    "    (a, b),\n",
    "    InSet(ModAbs(a, b), Natural),\n",
    "    domain=Integer,\n",
    "    conditions=[NotEquals(b, zero)])"
   ]
  },
  {
   "cell_type": "code",
   "execution_count": null,
   "metadata": {},
   "outputs": [],
   "source": [
    "mod_abs_in_interval = Forall(\n",
    "    (a, b),\n",
    "    InSet(ModAbs(a, b), Interval(zero, subtract(Abs(b), one))),\n",
    "    domain=Integer,\n",
    "    conditions=[NotEquals(b, zero)])"
   ]
  },
  {
   "cell_type": "code",
   "execution_count": null,
   "metadata": {},
   "outputs": [],
   "source": [
    "mod_abs_real_closure = Forall(\n",
    "    (a, b),\n",
    "    InSet(ModAbs(a, b), Real),\n",
    "    domain=Real,\n",
    "    conditions=[NotEquals(b, zero)])"
   ]
  },
  {
   "cell_type": "code",
   "execution_count": null,
   "metadata": {},
   "outputs": [],
   "source": [
    "mod_in_interval_c_o = Forall(\n",
    "    (a, b),\n",
    "    InSet(Mod(a, b), IntervalCO(zero, Abs(b))),\n",
    "    domain=Real,\n",
    "    conditions=[NotEquals(b, zero)])"
   ]
  },
  {
   "cell_type": "code",
   "execution_count": null,
   "metadata": {},
   "outputs": [],
   "source": [
    "mod_abs_scaled = Forall(\n",
    "    (a, b, c),\n",
    "    Equals(Mult(a, ModAbs(b, c)), ModAbs(Mult(a, b), Mult(a, c))),\n",
    "    domain=Real)"
   ]
  },
  {
   "cell_type": "code",
   "execution_count": null,
   "metadata": {},
   "outputs": [],
   "source": [
    "mod_abs_subtract_cancel = Forall(\n",
    "    (a, b, c),\n",
    "    LessEq(ModAbs(subtract(Mod(Add(b, a), c), b), c), Abs(a)),\n",
    "    domain=Real,\n",
    "    conditions=[NotEquals(c, zero)])"
   ]
  },
  {
   "cell_type": "markdown",
   "metadata": {},
   "source": [
    "Since $((a + n \\cdot L)~\\textrm{mod}~L) = (a~\\textrm{mod}~L)$ and there always exists an integer $n$ such that $(x~\\textrm{mod}~L) = (x + n \\cdot L)$ then we can also eliminate $\\textrm{mod}~L$ from any term within a $\\textrm{mod}~L$.  That is $((a~\\textrm{mod}~L + b)~\\textrm{mod}~L) = ((a + b)~\\textrm{mod}~L)$.  This reasoning also applies to `ModAbs`: $|a~\\textrm{mod}~L + b|_{\\textrm{mod}~L} = |a + b|_{~\\textrm{mod}~L}$."
   ]
  },
  {
   "cell_type": "code",
   "execution_count": null,
   "metadata": {},
   "outputs": [],
   "source": [
    "redundant_mod_elimination = Forall(\n",
    "    (a, b), Equals(Mod(Mod(a, b), b), Mod(a, b)),\n",
    "    domains=(Real, RealPos))"
   ]
  },
  {
   "cell_type": "code",
   "execution_count": null,
   "metadata": {},
   "outputs": [],
   "source": [
    "redundant_mod_elimination_in_sum = Forall(\n",
    "    (i, j), Forall(\n",
    "        (a_1_to_i, b, c_1_to_j), Forall(\n",
    "            L, Equals(Mod(Add(a_1_to_i, Mod(b, L), c_1_to_j), L), \n",
    "                      Mod(Add(a_1_to_i, b, c_1_to_j), L)).with_wrap_after_operator(),\n",
    "            domain=RealPos),\n",
    "        domain=Real),\n",
    "    domain=Natural)"
   ]
  },
  {
   "cell_type": "code",
   "execution_count": null,
   "metadata": {},
   "outputs": [],
   "source": [
    "redundant_mod_elimination_in_modabs = Forall(\n",
    "    (a, b), Equals(ModAbs(Mod(a, b), b), ModAbs(a, b)),\n",
    "    domains=(Real, RealPos))"
   ]
  },
  {
   "cell_type": "code",
   "execution_count": null,
   "metadata": {},
   "outputs": [],
   "source": [
    "redundant_mod_elimination_in_sum_in_modabs = Forall(\n",
    "    (i, j), Forall(\n",
    "        (a_1_to_i, b, c_1_to_j), Forall(\n",
    "            L, Equals(ModAbs(Add(a_1_to_i, Mod(b, L), c_1_to_j), L), \n",
    "                      ModAbs(Add(a_1_to_i, b, c_1_to_j), L)).with_wrap_after_operator(),\n",
    "            domain=RealPos),\n",
    "        domain=Real),\n",
    "    domain=Natural)"
   ]
  },
  {
   "cell_type": "code",
   "execution_count": null,
   "metadata": {},
   "outputs": [],
   "source": [
    "mod_abs_of_difference_bound = Forall((a, b, N),\n",
    "       greater_eq(ModAbs(subtract(a, b), N),\n",
    "                  subtract(ModAbs(a, N), ModAbs(b, N))),\n",
    "       domains=[Real, Real, RealPos])"
   ]
  },
  {
   "cell_type": "code",
   "execution_count": null,
   "metadata": {},
   "outputs": [],
   "source": [
    "mod_abs_x_reduce_to_x = Forall((x, N),\n",
    "       Equals(ModAbs(x, N), x),\n",
    "       domains = [Real, RealPos],\n",
    "       conditions=[number_ordering(LessEq(zero, x), LessEq(x, frac(N, two)))]\n",
    "      )"
   ]
  },
  {
   "cell_type": "code",
   "execution_count": null,
   "metadata": {},
   "outputs": [],
   "source": [
    "mod_abs_x_reduce_to_abs_x = Forall((x, N),\n",
    "       Equals(ModAbs(x, N), Abs(x)),\n",
    "       domains = [Real, RealPos],\n",
    "       conditions=[LessEq(Abs(x), frac(N, two))]\n",
    "      )"
   ]
  },
  {
   "cell_type": "code",
   "execution_count": null,
   "metadata": {},
   "outputs": [],
   "source": [
    "mod_abs_diff_reversal = Forall(\n",
    "    (a, b, N), Equals(ModAbs(subtract(a, b), N), ModAbs(subtract(b, a), N)),\n",
    "    domains = [Real, Real, RealPos])"
   ]
  },
  {
   "cell_type": "code",
   "execution_count": null,
   "metadata": {},
   "outputs": [],
   "source": [
    "bijective_interval_image_size = Forall(\n",
    "    N, Forall(\n",
    "        (a, b),\n",
    "        Equals(Card(SetOfAll(x, Mod(x, N), domain=Interval(a, b))),\n",
    "               Card(Interval(a, b))),\n",
    "        condition=LessEq(Card(Interval(a, b)), N),\n",
    "        domain=Integer),\n",
    "    domain=NaturalPos)"
   ]
  },
  {
   "cell_type": "code",
   "execution_count": null,
   "metadata": {},
   "outputs": [],
   "source": [
    "image_size_indep_of_left_shift = Forall(\n",
    "    L, Forall(\n",
    "        S, Forall(\n",
    "            c, Equals(Card(SetOfAll(x, Mod(Add(c, x), L), \n",
    "                                    domain=S)),\n",
    "                      Card(SetOfAll(x, Mod(x, L), domain=S))),\n",
    "            domain=Real),\n",
    "        condition=SubsetEq(S, Real)),\n",
    "    domain=Real)"
   ]
  },
  {
   "cell_type": "code",
   "execution_count": null,
   "metadata": {},
   "outputs": [],
   "source": [
    "image_size_indep_of_right_shift = Forall(\n",
    "    L, Forall(\n",
    "        S, Forall(\n",
    "            c, Equals(Card(SetOfAll(x, Mod(Add(x, c), L), \n",
    "                                    domain=S)),\n",
    "                      Card(SetOfAll(x, Mod(x, L), domain=S))),\n",
    "            domain=Real),\n",
    "        condition=SubsetEq(S, Real)),\n",
    "    domain=Real)"
   ]
  },
  {
   "cell_type": "code",
   "execution_count": null,
   "metadata": {},
   "outputs": [],
   "source": [
    "complete_interval_image = Forall(\n",
    "    N, Forall((a, b),\n",
    "              Equals(SetOfAll(x, Mod(x, N), \n",
    "                              domain=Interval(a, b)),\n",
    "                     Interval(zero, subtract(N, one))),\n",
    "              domain=Integer,\n",
    "              condition=greater_eq(Card(Interval(a, b)), N)),\n",
    "    domain=NaturalPos)"
   ]
  },
  {
   "cell_type": "code",
   "execution_count": null,
   "metadata": {},
   "outputs": [],
   "source": [
    "complete_interval_image_size = Forall(\n",
    "    N, Forall((a, b),\n",
    "              Equals(Card(SetOfAll(x, Mod(x, N), \n",
    "                                   domain=Interval(a, b))),\n",
    "                     N),\n",
    "              domain=Integer,\n",
    "              condition=greater_eq(Card(Interval(a, b)), N)),\n",
    "    domain=NaturalPos)"
   ]
  },
  {
   "cell_type": "code",
   "execution_count": null,
   "metadata": {},
   "outputs": [],
   "source": [
    "complete_interval_left_shift_image = Forall(\n",
    "    N, Forall((a, b, c),\n",
    "              Equals(SetOfAll(x, Mod(Add(c, x), N), domain=Interval(a, b)),\n",
    "                     Interval(zero, subtract(N, one))),\n",
    "              domain=Integer,\n",
    "              condition=greater_eq(Card(Interval(a, b)), N)),\n",
    "    domain=NaturalPos)"
   ]
  },
  {
   "cell_type": "code",
   "execution_count": null,
   "metadata": {},
   "outputs": [],
   "source": [
    "complete_interval_left_shift_image_size = Forall(\n",
    "    N, Forall((a, b, c),\n",
    "              Equals(Card(SetOfAll(x, Mod(Add(c, x), N), domain=Interval(a, b))),\n",
    "                     N),\n",
    "              domain=Integer,\n",
    "              condition=greater_eq(Card(Interval(a, b)), N)),\n",
    "    domain=NaturalPos)"
   ]
  },
  {
   "cell_type": "code",
   "execution_count": null,
   "metadata": {},
   "outputs": [],
   "source": [
    "complete_interval_right_shift_image = Forall(\n",
    "    N, Forall((a, b, c),\n",
    "              Equals(SetOfAll(x, Mod(Add(x, c), N), domain=Interval(a, b)),\n",
    "                     Interval(zero, subtract(N, one))),\n",
    "              domain=Integer,\n",
    "              condition=greater_eq(Card(Interval(a, b)), N)),\n",
    "    domain=NaturalPos)"
   ]
  },
  {
   "cell_type": "code",
   "execution_count": null,
   "metadata": {},
   "outputs": [],
   "source": [
    "complete_interval_right_shift_image_size = Forall(\n",
    "    N, Forall((a, b, c),\n",
    "              Equals(Card(SetOfAll(x, Mod(Add(x, c), N), domain=Interval(a, b))),\n",
    "                     N),\n",
    "              domain=Integer,\n",
    "              condition=greater_eq(Card(Interval(a, b)), N)),\n",
    "    domain=NaturalPos)"
   ]
  },
  {
   "cell_type": "code",
   "execution_count": null,
   "metadata": {},
   "outputs": [],
   "source": [
    "interval_bijection = Forall(\n",
    "    N, Forall(\n",
    "        (a, b, c),\n",
    "        InSet(Lambda(x, Mod(x, N)), \n",
    "              Bijections(Interval(a, b),\n",
    "                         Interval(zero, subtract(N, one)))),\n",
    "        domain=Integer),\n",
    "    domain=NaturalPos)"
   ]
  },
  {
   "cell_type": "code",
   "execution_count": null,
   "metadata": {},
   "outputs": [],
   "source": [
    "interval_left_shift_bijection = Forall(\n",
    "    N, Forall(\n",
    "        (a, b, c),\n",
    "        InSet(Lambda(x, Mod(Add(c, x), N)), \n",
    "              Bijections(Interval(a, b),\n",
    "                         Interval(zero, subtract(N, one)))),\n",
    "        domain=Integer),\n",
    "    domain=NaturalPos)"
   ]
  },
  {
   "cell_type": "code",
   "execution_count": null,
   "metadata": {},
   "outputs": [],
   "source": [
    "interval_right_shift_bijection = Forall(\n",
    "    N, Forall(\n",
    "        (a, b, c),\n",
    "        InSet(Lambda(x, Mod(Add(x, c), N)), \n",
    "              Bijections(Interval(a, b),\n",
    "                         Interval(zero, subtract(N, one)))),\n",
    "        domain=Integer),\n",
    "    domain=NaturalPos)"
   ]
  },
  {
   "cell_type": "code",
   "execution_count": null,
   "metadata": {},
   "outputs": [],
   "source": [
    "%end theorems"
   ]
  },
  {
   "cell_type": "code",
   "execution_count": null,
   "metadata": {},
   "outputs": [],
   "source": []
  }
 ],
 "metadata": {
  "kernelspec": {
   "display_name": "Python 3",
   "language": "python",
   "name": "python3"
  }
 },
 "nbformat": 4,
 "nbformat_minor": 0
}
