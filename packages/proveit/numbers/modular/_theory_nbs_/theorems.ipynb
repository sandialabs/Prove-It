{
 "cells": [
  {
   "cell_type": "markdown",
   "metadata": {},
   "source": [
    "Theorems (or conjectures) for the theory of <a class=\"ProveItLink\" href=\"theory.ipynb\">proveit.numbers.modular</a>\n",
    "========"
   ]
  },
  {
   "cell_type": "code",
   "execution_count": 1,
   "metadata": {},
   "outputs": [],
   "source": [
    "import proveit\n",
    "# Prepare this notebook for defining the theorems of a theory:\n",
    "%theorems_notebook # Keep this at the top following 'import proveit'.\n",
    "from proveit import Lambda, IndexedVar, ExprRange\n",
    "from proveit import a, b, c, i, j, n, x, y, L, N, S\n",
    "from proveit.logic import (And, Equals, Forall, Iff, InSet, NotEquals, \n",
    "                           SubsetEq, SetOfAll, Card, Bijections)\n",
    "from proveit.numbers import (Abs, Add, frac, greater_eq, LessEq, Interval, IntervalCO,\n",
    "                            Mod, ModAbs, Mult, Neg, number_ordering, subtract)\n",
    "from proveit.numbers import (zero, one, two, ZeroSet, Natural, Integer, NaturalPos, \n",
    "                            Real, RealPos, Complex)\n",
    "from proveit.core_expr_types import a_1_to_n, a_1_to_i, c_1_to_j"
   ]
  },
  {
   "cell_type": "code",
   "execution_count": 2,
   "metadata": {},
   "outputs": [
    {
     "name": "stdout",
     "output_type": "stream",
     "text": [
      "Defining theorems for theory 'proveit.numbers.modular'\n",
      "Subsequent end-of-cell assignments will define theorems\n",
      "'%end theorems' will finalize the definitions\n"
     ]
    }
   ],
   "source": [
    "%begin theorems"
   ]
  },
  {
   "cell_type": "code",
   "execution_count": 3,
   "metadata": {},
   "outputs": [
    {
     "data": {
      "text/html": [
       "<strong id=\"mod_in_zero_set_int\"><a class=\"ProveItLink\" href=\"proofs/mod_in_zero_set_int/thm_proof.ipynb\">mod_in_zero_set_int</a> (conjecture without proof):<br></strong> <a class=\"ProveItLink\" href=\"../__pv_it/theorems/3548ad88cc458695893413dbb43a2289e20f40340/theorem_expr.ipynb\"><img src=\"data:image/png;base64,iVBORw0KGgoAAAANSUhEUgAAARIAAAAXBAMAAAA1o90XAAAAMFBMVEX///8AAAAAAAAAAAAAAAAA\n",
       "AAAAAAAAAAAAAAAAAAAAAAAAAAAAAAAAAAAAAAAAAAAv3aB7AAAAD3RSTlMAq1RmmUTNIjK7EInv\n",
       "3XZ/CtNrAAAACXBIWXMAAA7EAAAOxAGVKw4bAAAEI0lEQVRIx72WW4gcRRSG/53pmb7M1TyIsiAN\n",
       "gihqMkIIRDRpiIphIQ4EfdCQHRNEEl96oy+ixokPvrhhxgcvozFUQARdyU5UoiYYlphAVJR4I6IM\n",
       "9Opidg1K2LhecsNzqqpneuzNOM5DCqrrcury1TmnTjUweDL54/c1dJFRzr2q3OaHSw2efqScd/sa\n",
       "ujHe9fP9qrSuFkAqAIrcunYQkESTPjf2GPDrUXn2XccJuBSbfZY+B2dIITYj/ATcyd0PD0LyBm9T\n",
       "6WW9BVmkPfps/bcwQ3xp1zmhakgL7OAp9UFI1lA2Sr1GKJICG3D5YiS3Ax9qkqTHMMi4g5BMUc7i\n",
       "v0lGBQ8Uqmuu1aq0SZ4HlglFgk+RpFOlB3ITXvG6Pkg+kiZSyrvvl6hOfgdqribZDHzean02CInB\n",
       "DjvCth0+GXDHs0e2zwUb58pw1s2UaatDs4rkwd+WUEveDHNr1DoOk5Q0yT7gbuCVS+/nXVIiT0kn\n",
       "wQbfPit7vnStM+XkFHb62A3nMDKSxPlDTPpISpukO3HFqMA8RyQB8mxmrADGYBZDsbVFV4Y+ee9V\n",
       "CRHz5YOndCXHzvUV7fQxDHkq7AL+hvUXfqANqnZF3x26rtkACbldxA2eLCmSJsx5bt9E11lkym35\n",
       "MONMN8o5P7NXLEaSDFK6K8uzKGIYp5Fryp4GcI5ILFq50JwM4CzowxeasE5zfbxFSc4fe4jOQCSj\n",
       "ZNg9m6ijRsxBhPQY5TuqtCGeeRSLkWSr+LObJFvHZDkkuUgkCQIo1GshCWGOukhJnbzZXsdaK6TH\n",
       "LiPN7ufpGyhXVtFnYtX7LL84LXQ49LwIiZJyelrgcLd16PCrESWROvHaOqFwco9AQhow1zkSR1aa\n",
       "sFqoaIubKb9DDu2csPio+e/znuJObqt2SKR0bYNSqSbwtV6KL8xuInFxZcKPkOAIKb2crms/KVTJ\n",
       "k5CUC+WDrsh2G3AX1aS6VrLvEJ3hWdy2S8nKejlwbwYdEi3lRCRf6KWK6u7ZQeIbQ/ZskSQLGK/i\n",
       "EZhHMXRGOn/J9vSdBzZ1keRc55iOsTIeDFXZ6Pmi9AKjuIKO7qJ5AG+1SbRUW2deW5oX2EkKu+aD\n",
       "sVnu2HH+qhvOF/dfaJoj+8jyrx+avcCznGF+FnLKlfa8ICIkzsh0NST5VvdP+vatNKaArPsct1PX\n",
       "l3CgTSKlyjodj8V3vEG1zzj4lC4feC0S7TtMMMNm1q+tFxPIiZV0q1lqIHW8oxOWqoH5IBWqZ7l6\n",
       "uPp/LmMvYKTWfkpTa5a+i3HXWhfAfJnat1xx6sVim0RKw8g2E+rXZjd9qc/fu1iEzE9Foi3weLdU\n",
       "PckTjUYn1PX4X3DqXRGiZ7Jjv4/mfFh7uxQ7UUrEl+j157KdFwz6IjkZ73psiSqf4DLfTZrE/yO5\n",
       "vMm/bDv9AwyiNQbgGxleAAAAAElFTkSuQmCC\n",
       "\" style=\"display:inline;vertical-align:middle;\" /></a><br>"
      ],
      "text/plain": [
       "<IPython.core.display.HTML object>"
      ]
     },
     "metadata": {},
     "output_type": "display_data"
    }
   ],
   "source": [
    "mod_in_zero_set_int = Forall(\n",
    "    (a, b),\n",
    "    InSet(Mod(a, b), ZeroSet),\n",
    "    domain=Integer,\n",
    "    conditions=[Equals(a, zero)])"
   ]
  },
  {
   "cell_type": "code",
   "execution_count": 4,
   "metadata": {},
   "outputs": [
    {
     "data": {
      "text/html": [
       "<strong id=\"mod_in_zero_set\"><a class=\"ProveItLink\" href=\"proofs/mod_in_zero_set/thm_proof.ipynb\">mod_in_zero_set</a> (conjecture without proof):<br></strong> <a class=\"ProveItLink\" href=\"../__pv_it/theorems/4a8547284cc1de01ab4dacf13c8d4571a442f3ac0/theorem_expr.ipynb\"><img src=\"data:image/png;base64,iVBORw0KGgoAAAANSUhEUgAAARMAAAAXBAMAAADaYbYpAAAAMFBMVEX///8AAAAAAAAAAAAAAAAA\n",
       "AAAAAAAAAAAAAAAAAAAAAAAAAAAAAAAAAAAAAAAAAAAv3aB7AAAAD3RSTlMAq1RmmUTNIjK7EInv\n",
       "3XZ/CtNrAAAACXBIWXMAAA7EAAAOxAGVKw4bAAAECklEQVRIx71WXYgbVRT+Nskkk5lkZim0WAp2\n",
       "wIc+1QapgossU/onijZaEVSwaaGUitQpiE+1TUXwwUJSiuKuuh1hFXS3JFqwaHXdItItRYg+tGpd\n",
       "yPqg4JZQatfqForn3Hsnmfxt0wg9cJI795u597vnfOfMAP/DEsp7MK996sOsXGRNF/y27DflPdjz\n",
       "bTPWbl8ODo8qfJCv7umLSaQsvZtZv4pzG+9VaJxpRdcRE3NqK42OQuKbeXpPX1Q+Ut7VDskUxF36\n",
       "eaEV/Jp8F054csT4YU5XsS8qG5V3NVtSsR36Wd+BSrQCs6ioEB7nODl9UZlWfisqO1gUKakM6/3Z\n",
       "C3UqyUFEFhUVwqOUpHh/UslJvyUVsVVciEXb54eiYrvQr4bw72dnz/dFJVaWjv1TB/laf3FrbUyr\n",
       "vQWM11iBp2sFSWVnbRlFXtTHK344QSWi8peiwvjDwOgSG7pdET4Hu3YWx8UO6WUo3I+HoF9EsopJ\n",
       "B9/ICvrbL3mI5lrqYwvJugz9JnCZLxnfj8RgAOt71WDt5xv2yVGros2poHzTjvTJDB4TE8lp2EUU\n",
       "8mna4R+8HVQQySFVRUSoqpHPxLeSyg36Y6kynvTNbP2GVcxnbiRrmThV7khlGM+oUSorfRtwSVIp\n",
       "wi4TlQItfcOg45bEwrEcT+tXeGlSw+zPgskKwkplaHSbsYIeYDxSDal2hnxTnoRuYajakcoMbK+Z\n",
       "yjkYC3UqVaKyjib/1etUKEg7HGgcFaOx2uujQrYRkq25mwXNeG6YfiaGTzHrm3O+6ItE5U+3QcU4\n",
       "Oa/2T1C0naYE0fGjV5qocFSuNaJCbWWbj0iFx5XGmY6KB6KLsu9K/DNqdMZF/Toz+MVyPxblbybG\n",
       "Mg0qJ7yCFxshO6YvIq16OEmT3biKgdyaMJWUC20BewOt2HmDdBEVC9WaW9w0Zw9fCdkyfoBUG3N1\n",
       "DlAyE81tF1Ri7xZDst2EI4GwhQYRlB/7GNa6IoJxSSWrzyBexoEsVgvSA5mkq8oecaep8f+Iybwq\n",
       "ZoEP5DnnFpdRKh8bfIAO71iW+WSIyneYQz1BtlpOr0j/YP6Nu/N8vfrMa8fPmC9dwsunl1OgH60V\n",
       "fhDZXcVvh7Qs7JXPhqmMT90VtMB0UDslLzlEGbNJCG+KqFjac36dinEdxz6RCQrJFj8p78lelX/a\n",
       "F6HGHyIV4BQOr7Ddn0Daf5CKW2gFX4Zke1ZfGFJ31vBE8ND6Tm+5pd6dbW/m0KiOaxvvPYkjjv54\n",
       "FYl36Prp38vjWxpUnrpvPlNvcY8EDyU96T198LW9/C+H+24bLkUwMTLS6HlY4vuBu4TR4/dFO+VD\n",
       "gYK5vlpxze+wxlJbHVTeg/3RHqcNkkviU6cdj+I2qdxh8+7YTv8BFKglNFM2L10AAAAASUVORK5C\n",
       "YII=\n",
       "\" style=\"display:inline;vertical-align:middle;\" /></a><br>"
      ],
      "text/plain": [
       "<IPython.core.display.HTML object>"
      ]
     },
     "metadata": {},
     "output_type": "display_data"
    }
   ],
   "source": [
    "mod_in_zero_set = Forall(\n",
    "    (a, b),\n",
    "    InSet(Mod(a, b), ZeroSet),\n",
    "    domain=Real,\n",
    "    conditions=[Equals(a, zero)])"
   ]
  },
  {
   "cell_type": "code",
   "execution_count": 5,
   "metadata": {},
   "outputs": [
    {
     "data": {
      "text/html": [
       "<strong id=\"mod_int_closure\"><a class=\"ProveItLink\" href=\"proofs/mod_int_closure/thm_proof.ipynb\">mod_int_closure</a> (conjecture without proof):<br></strong> <a class=\"ProveItLink\" href=\"../__pv_it/theorems/80b7e4eef3e4cb6e04d883f5d27de24e8b2a82e20/theorem_expr.ipynb\"><img src=\"data:image/png;base64,iVBORw0KGgoAAAANSUhEUgAAAP8AAAAXCAMAAADzwWkXAAAAOVBMVEX///8AAAAAAAAAAAAAAAAA\n",
       "AAAAAAAAAAAAAAAAAAAAAAAAAAAAAAAAAAAAAAAAAAAAAAAAAAAAAAACXHtMAAAAEnRSTlMAq1Rm\n",
       "mUTNIjK7EInv3Xbt5cmRiLwgAAAACXBIWXMAAA7EAAAOxAGVKw4bAAADy0lEQVRYw+VYiZbjKAzk\n",
       "BnHNLP//sQsCbOGQZKbbm33zxi8duZ0yoaTS4TD2vxz2Ym9d9L+B33lksdp7Dp3fAISJJRpICaKc\n",
       "cH5+Kj9FX4TV/r7/UtTHPx5iGpffMMjAXTUGXwOujoXMpwThzWq/IvWiyX9GzRP/8i6lBu0gDrib\n",
       "ArDwqfArudqvHAv/MtNIqpc3cYtyaa8TPn0WxKf4x4v9Ln9djrBHfxF8qschM/xQOYZZMOFyRMF8\n",
       "LPvNar/NP6QzE6iktMmP+VD17tQCj81HKYaPyT+sllkesj1rtzNR2Zwh1wqdAXl6lfNRqELI2VH+\n",
       "hufMu3oDJzViWw3At9dcindB9OtfIvOizD25PmM0rY41LaEQeGpsXJGVo2xJ4lJLXEAX+diYBsLf\n",
       "l0rUF6zekmhqW89ry5GnqxFu+Xy7SsVcSyKPEFR9EXc+hQc9gnUVVhKL9RHbUKIxwspQ2nKu1Ogk\n",
       "XAJPGZhr/RfouoisBKkp2/Qyy/UOb6EPelcv59Zd5tCU2OIQPM0q2MHZ4dDma33x4mzdw6qCzqD3\n",
       "At5RwiDtRn1vF3zpKiD8lTnQFXqGo+d1PWAZvDrTTqHDRX7irOhm3xwnNVJOWFpjYAM/e02/VOwr\n",
       "/hEufA7+efAX48MmCPfIH12nu490JGPRJiVhtvm+vQE3R074IHOY263flbm/jFVqTXmq/wHvSR26\n",
       "TFGa4oX+e0BlYc/5H/FX2/jjp6rXD0HSKG0E7QZx379vwIMYpdJXgbsjXDl5ltXqSGmFe8J/wBW0\n",
       "40f9k3Wttm5a5xzI1HrcPjdM2Gf8WVS9zTfOvcjQ/G+IXkTq9uh+Hh4HauPTPXo8UbiN/BwQ3SGh\n",
       "SqBVSE227zNbyxn5vgGnk7gjpYktTee0zQ0iLbIylL9uW8KxvUsK04aXc1O8noK69FRcRjz2Pgy0\n",
       "BQELfA5Ebe3MaT4rXjlhRAH7Ti1/1Qt+x3/Aae51/Zd1Hy4t1vMcnOXZnRNKidwJqO8smNLS26oQ\n",
       "+Ii4V9j/07FNz8MxSSdaRjwHTZuwjmBiJVIfAiE8wllvoiAnvdJz150+1cK1bwpb/gPe9P/zH0D9\n",
       "b+sfS261N/4CcMl5HYDOv+/gLLb017KOE41zzWdMEDIvoUp12up/wskzFeagvo4W8ynlzdPKN56s\n",
       "vgrXSoocWpdrNdupXkIszPbHeRUrGL6v/2pWHDJL1vlHPQyCYFd7W/jhPjjNWR+anHcTEtstId79\n",
       "DjPLg7/5kfs3/fkKrn/xcQD2M+Y7z+fV3vSrmr0P/quJtOEvNPt7DvuH7/9fRhohdxZqfiYAAAAA\n",
       "SUVORK5CYII=\n",
       "\" style=\"display:inline;vertical-align:middle;\" /></a><br>"
      ],
      "text/plain": [
       "<IPython.core.display.HTML object>"
      ]
     },
     "metadata": {},
     "output_type": "display_data"
    }
   ],
   "source": [
    "mod_int_closure = Forall(\n",
    "    (a, b),\n",
    "    InSet(Mod(a, b), Integer),\n",
    "    domain=Integer,\n",
    "    conditions=[NotEquals(b, zero)])"
   ]
  },
  {
   "cell_type": "code",
   "execution_count": 6,
   "metadata": {},
   "outputs": [
    {
     "data": {
      "text/html": [
       "<strong id=\"mod_int_to_nat_closure\"><a class=\"ProveItLink\" href=\"proofs/mod_int_to_nat_closure/thm_proof.ipynb\">mod_int_to_nat_closure</a> (conjecture without proof):<br></strong> <a class=\"ProveItLink\" href=\"../__pv_it/theorems/efab86b5671e614aed14eed5783bb08fc4cb6dd80/theorem_expr.ipynb\"><img src=\"data:image/png;base64,iVBORw0KGgoAAAANSUhEUgAAAQAAAAAXCAMAAADTCGHDAAAAOVBMVEX///8AAAAAAAAAAAAAAAAA\n",
       "AAAAAAAAAAAAAAAAAAAAAAAAAAAAAAAAAAAAAAAAAAAAAAAAAAAAAAACXHtMAAAAEnRSTlMAq1Rm\n",
       "mUTNIjK7EInv3Xbt5cmRiLwgAAAACXBIWXMAAA7EAAAOxAGVKw4bAAAD4ElEQVRYw+VYi5bbKAzl\n",
       "/Ubt8v8fu0IGDA6ZTFNv9vSUk4k8toTRlXQRYex/GfYi75zzvzO4b4BY5S1DwwuFkIv3JuBVTCXp\n",
       "ZsDHcyE/5b+Iq/xl/DIuf7jlU263XzrgBdPkcCjDQI2pzKdSIphVvpHtRU//GdUvwgs7ni2LBFMa\n",
       "Bq6ngPWfSgAlV/nGWAAovZCkegWA8C3Q+TTosEXxKQDSRf4mALqMwKc1BcBnHFOecSuBWTMAIAPZ\n",
       "4mA+xgBmlb8LQMxnMcw5pQ1cS4Jbxh2DOAAgg1Rhyil+rALiKpnlEexJ4c4kZQE8IE2DJ0+DAuhk\n",
       "FSOAmwEwHIAf6Rv5xBMbRkAAGBYBTtoAIAPliCDDW858QXXPHvQwdalTXVaZ9HP1xxWJXspaJy7X\n",
       "svUVo5Cqq3ECIBT0NBRicDkl1Y7TKwBO4X4YGgBkYHn/ugxnrrzIk48KP+e+8lQ76hauh8zKYpEh\n",
       "0WaU592K2KHU+VzB8GSagy69ue4CgqBLlEFiopVdgVUAmBRM+KZ4GNTgR73T74t3wH1NxhqJGKbS\n",
       "8jttNgBFymH6imLfw5tUtCXn2diTSYnNa9doHm+EAkfUz+UqM5RR84zHUdk4/AUAxgNGsmmRgYAn\n",
       "FJhce4dqFxgrJ+zENH6jPb2KbhX7JQDJXzwaAEADQLSHmBLuEQCCTh8Y6TT1R88ygAXOegk0A0Oh\n",
       "omdRQuwLxrcBorV2WGqp+7kEmvYxcTwylbJTfFUCR0xlYc8BGBmgdhlAD9VBIWIqpPwUAEzovvBm\n",
       "EEVjzIA57kbEIAcGasVSWuH2ADRt5ev4gX8Sp6rT5ku/42GWgRzghgn7DACW1LHfo9cH0cwcUBUO\n",
       "HsHVzevZHA18Wzu4ptgMbOI912vxDHVJNKknBwKwhdSmFzbtuSt3Ez9N9MgXWXEQeUksMwOg65Lq\n",
       "wk2kpVbXeTnXxPHSq8vOSrM8dnbjljKrAXdnWQKfi1px9IqC6mn/QQ5EGMIGgKY9199RAuWyEJcX\n",
       "GThEZzmMxHK8JO6Ex28WTak1blWM/Ah6UNQH5LHKwOPoqfPMJIF7HdZdrSS/HkPyyv20m3rZ/StH\n",
       "AbsTVi1cfVfcAdC0awn8/MdTCexJkGW3yvt+EbjUvY5+bYVfGbBUKUBLbCyq01jUVCNnjxQpUXXe\n",
       "lUDXns5XVIf6ocPoZ5aXZ5d3T1nvG2glBdTzoqvU7dRBJLZzh+Qc89Ubvt0FVKedqanERkg9toTe\n",
       "rvKuBPB3GsyFG2JN6V2rtJtBvPplZnBEuPcE/st4fmWgv3c02HnwjUNeP/pYuNF/sHcafLOaNgAI\n",
       "zf6iYf94D/4FGRAhk5+xqXwAAAAASUVORK5CYII=\n",
       "\" style=\"display:inline;vertical-align:middle;\" /></a><br>"
      ],
      "text/plain": [
       "<IPython.core.display.HTML object>"
      ]
     },
     "metadata": {},
     "output_type": "display_data"
    }
   ],
   "source": [
    "mod_int_to_nat_closure = Forall(\n",
    "    (a, b),\n",
    "    InSet(Mod(a, b), Natural),\n",
    "    domain=Integer,\n",
    "    conditions=[NotEquals(b, zero)])"
   ]
  },
  {
   "cell_type": "code",
   "execution_count": 7,
   "metadata": {},
   "outputs": [
    {
     "data": {
      "text/html": [
       "<strong id=\"mod_in_interval\"><a class=\"ProveItLink\" href=\"proofs/mod_in_interval/thm_proof.ipynb\">mod_in_interval</a> (conjecture without proof):<br></strong> <a class=\"ProveItLink\" href=\"../__pv_it/theorems/60e53db994d69ca5397a1113b123c8a6271867e00/theorem_expr.ipynb\"><img src=\"data:image/png;base64,iVBORw0KGgoAAAANSUhEUgAAAWsAAAAXCAMAAAD6D55EAAAAOVBMVEX///8AAAAAAAAAAAAAAAAA\n",
       "AAAAAAAAAAAAAAAAAAAAAAAAAAAAAAAAAAAAAAAAAAAAAAAAAAAAAAACXHtMAAAAEnRSTlMAq1Rm\n",
       "mUTNIjK7EInv3Xbt5cmRiLwgAAAACXBIWXMAAA7EAAAOxAGVKw4bAAAEtElEQVRo3u2Z6ZrbKgyG\n",
       "DWbfeo7v/2ILYpMd7JhM6v4pz3TwJLYlXsQnQZflrzR56L/5zjfNcP7TV9/1WtI/Mc7JFui+/0rj\n",
       "4ZZpwc30qy2/+vO8KaIN8o20L+j6FGpq9/30VHnXR2u08+XjGwOgWyFtbWByinU39Ja18nU+NUG+\n",
       "sfaceCrQjdj3H8jFhkcrWL14H7G24BJxRRkv5+K6GrpmbQgTdUabPfBN1cCW+qmwZuu+/6DtWG9V\n",
       "iVZ2l/UKndVzrKuht3EdXlmDbzUYLH2KtTv0P2TN28AWtw/soH1sYsA6L226mRnWzdAnrMG3tUSX\n",
       "eAo1Ffv+p6z7cBaBVwoXwZzF9QYrQG10hnUz9BFr8M2lyffOPiYhdt8vktggexGhhGMyBB1i9g4a\n",
       "hmVYCDWxxKQWFGYtSAgkQ7MEafpQvfPYTWW9zrBuhj5iDb4xBavKfMTtIkWcfVGDr/bcxRSl8XL2\n",
       "aUQRRBzS6iCtpySm03QYB4NFrM0WoZoN0tyKlso41TORc6vNrMME625ognVoQgm+SVJ/HSsXccwd\n",
       "xGnL4k/7QJ/eXZadDS/rxdNdbxyUQx7docHBTQOOGAm+kImXWhzrkCy6DqhRlAKGCiXBWGdtJ1h3\n",
       "QxOsZZOp7FsK6eHjpLqiAtFpNaf4sgbJoB7dvbS5W6Nj/DhhtTYuPdsAPH5YwyMAIgGusho/MDkS\n",
       "DWKdI7XC61OfpTE2jZwSvKwFm5PdTFx3Qw2WEb43NWIdK0CRvc++0XASBa48zli5iEGhqEQipwd3\n",
       "Z/CyfbTJS9ZOH+A11qGwpuXLGOjqlTXMEs/TwR3a4oz2GKxIZdZrOpUbu6GJuF5smd7qm4AABA/t\n",
       "GmxlEwcWiDnsx9hOo7GGlLvzi21eQLDq6JWG5Ehdt+WcdYtrNopr+JLlwVGkRH5IoezjsoV1qubr\n",
       "hiZY97Ky+GZpydlpJ6VaHIa40wxsHyGrpGrMutzNdGq/4r81viq91h+SvQ64NzAEIhYqz1gvjuUV\n",
       "H4eYkwLW63RD1vzoHfYnXO1lXJef26yboZk6pOdGXTIGqWKRhK4NeYXsyRErE5ZdOkFjK3fjkwmF\n",
       "0hZynOz6hJz63XIRmDVPLqX5FRZcTeMkqFgj8VKzQxlZt+Gne/S0qAxSvVhkvFwdWHdDb1nbFq+9\n",
       "5qu+EdUlNBAswIxEgBCqGoqtmBqjO2bAutyNtTJryFEUld/1hgSrJAmqH45tjiiq4++odluSScms\n",
       "JSWtMaivPenJx7bNvue7cwn9eqRXx55eQ/AK9ez16lDzNUNvWBPiNkHWA2u/fwiKR71WlFsWW9WD\n",
       "hVMFa2jEutydNOS//zVoyDg3LjVj48z9nRPsg0Zzq0/26A+dqSJ7R98Wl+Sar7FkT3yjAIPI9G2O\n",
       "hZXO/UhD6t3oOAs0k79U7vWI6MZR0WeHWnfG/jTrF984W2mwqbJLxYNiOb9IXUs+QuKC14IM6xBW\n",
       "sxHagqZT4tdcr+W+/1ZY3zi2C+5Z1jX9XvqGRdbYpAkjA6M30LcbhKrn5rvHuHemTm70Sda1QLr0\n",
       "7eZ/FI1g3Sik6kmTDF9EHW6tEsnIPO2grv48t2WrrUvfbh6ADVhTvvxrf6LJfwjut9+gUC0f3hoK\n",
       "9gAAAABJRU5ErkJggg==\n",
       "\" style=\"display:inline;vertical-align:middle;\" /></a><br>"
      ],
      "text/plain": [
       "<IPython.core.display.HTML object>"
      ]
     },
     "metadata": {},
     "output_type": "display_data"
    }
   ],
   "source": [
    "mod_in_interval = Forall(\n",
    "    (a, b),\n",
    "    InSet(Mod(a, b), Interval(zero, subtract(Abs(b), one))),\n",
    "    domain=Integer,\n",
    "    conditions=[NotEquals(b, zero)])"
   ]
  },
  {
   "cell_type": "code",
   "execution_count": 8,
   "metadata": {},
   "outputs": [
    {
     "data": {
      "text/html": [
       "<strong id=\"mod_natpos_in_interval\"><a class=\"ProveItLink\" href=\"proofs/mod_natpos_in_interval/thm_proof.ipynb\">mod_natpos_in_interval</a> (conjecture without proof):<br></strong> <a class=\"ProveItLink\" href=\"../__pv_it/theorems/6fc05a547b77043584b3f6889f6ae3765f82af1b0/theorem_expr.ipynb\"><img src=\"data:image/png;base64,iVBORw0KGgoAAAANSUhEUgAAAU8AAAAXBAMAAAB5SdDvAAAAMFBMVEX///8AAAAAAAAAAAAAAAAA\n",
       "AAAAAAAAAAAAAAAAAAAAAAAAAAAAAAAAAAAAAAAAAAAv3aB7AAAAD3RSTlMAq1RmmUTNIjK7EInv\n",
       "3XZ/CtNrAAAACXBIWXMAAA7EAAAOxAGVKw4bAAAEj0lEQVRIx9WXf2wTZRjHv22v7fWu7SokxonB\n",
       "GqOZEaEmukSDUMMkmCXahPjPJGwKxgyj6dCYEBGLMfyj2PkD9BTJ4X9zhHY60UGMC2KCEAyYCRFs\n",
       "0sVFXIzNgrIhIPF53/fa3fW9up5/6Zs8vbv3ved9P+/zPj+uwL9oWUvmbmG5S3vE01obm19MavGk\n",
       "kCZasCx1/dzlaTG11QTW0k2CPd3sSfd2Sxpu5McMuwwcp5+f6gf9l+jn4IRsI23XCQnyDP1EiDCe\n",
       "Ah5gPU964dR6hDRuL3FQrCcJmXVjOuGEktppWSuUruvYs/KSpYANwFbmSf1eQJWUkMatRYCeJwmk\n",
       "XUDvA0ZctCRvitdA7xJb1pNeQKOWzAUaZMvgqLXmB6VTNdA3gCWmpNVtNgaNmgiQbUKeXPRWS+YC\n",
       "5StgnQiqZ0ybRf8A8rJtvkBj0BBRHi+VjnkC7bQkvOAcj+lth7dMltdOZqA9NMEID1byHDS0cJxo\n",
       "hrjO86bt6DUGKvvOY5V5DUF1iqhVwHtN4BVrd+ssWZON8MPFyaT6eyYwiu1Z7Ab2JvElBy1s0GaA\n",
       "djijVelB+DKBSnlLmzYLWRfQ+ChzdQrePoQTTYDOBsV3QrSvoIiEsgv4E+pFnKX1c9hZjXpyw2+B\n",
       "RfyV2SSxOSVAiy55K1p2AQ2zmPQTbcTUM7ZB3zfD7zOobVYmCI99iqUJO+jXQpQpxMRqBnCZQFWa\n",
       "saWoXSVb8glXsm7keUIk/yr9wO76nqAtUne3ZFEydQvNpz1dYi1XA8Wex2mCKYIt12JJHTcysay+\n",
       "jzmUj0G83roDN+mmYrqARvstIAZ6lUD9Fwi0X62BnkWQ0NfwY63lP/VBkwfTEimYaNfdSReLYj/N\n",
       "FmTn37OsOtBB+wjg5Wd5EqJ7ZRWrWuW0juGOsY6M8+gLZSyHHZRbND1r0fNQaKE7+CuzRYcVGlJY\n",
       "brqk0YdNF1Beyvxsgo8p7WNw2We8UDFv5MbLV64X9a/tli26w0d3Cykkca0/awPFYTrRDHqrPnoR\n",
       "e2nCe7hOxZHwl3K/qAfNkde7RT0PJnYkm2mP2ml1BgN8NLCR+8dv5oQ4sDb9w0cdoENCImX/mMI7\n",
       "ejnoBbyWw1M0XQY38h3Px9tWImNF0w4aS2pH+EOBVeNpKzhSEamKzVTTk8Ic0ccOOa2OYjUf3afz\n",
       "y1toD/L12pCedIBuF6It/LzvF/a89cp1t11J7P+rGO4cIlNqnZX8SR4Ew0z/e5F7WrtsoFrneE74\n",
       "JZt1zEpPC1bUcfpumJ5vgcaqfhfNxBNoNwwjieIBfEQ9R3B/oNcw3iTQwZAjj8ZyQpr7ILW8Mzhi\n",
       "K6GeGld4sfpUyEbuNV/lM7alcICuUzikFoVFg4sdmuw7Q/rW+KcvGHldz6A1Y0ez+dVmhAWdriB4\n",
       "QiviDPkvr1h3A+NO1XcsaaZtkur3qEdQyq+2z7vgisWfIPwu3d15za87E+ohvEKBuokOWD2Vhc+p\n",
       "OmBJM03aEC80XhpLHZG62jpoGJbT+oV/jxg73PyuLKSZfy3yl/xz8zxxvsBeP9dwuAv/k5b6zxH9\n",
       "DevnTjQXvZQbAAAAAElFTkSuQmCC\n",
       "\" style=\"display:inline;vertical-align:middle;\" /></a><br>"
      ],
      "text/plain": [
       "<IPython.core.display.HTML object>"
      ]
     },
     "metadata": {},
     "output_type": "display_data"
    }
   ],
   "source": [
    "mod_natpos_in_interval = Forall(\n",
    "    (a, b),\n",
    "    InSet(Mod(a, b), Interval(zero, subtract(b, one))),\n",
    "    domains=(Integer, NaturalPos))"
   ]
  },
  {
   "cell_type": "code",
   "execution_count": 9,
   "metadata": {},
   "outputs": [
    {
     "data": {
      "text/html": [
       "<strong id=\"mod_abs_in_zero_set_int\"><a class=\"ProveItLink\" href=\"proofs/mod_abs_in_zero_set_int/thm_proof.ipynb\">mod_abs_in_zero_set_int</a> (conjecture without proof):<br></strong> <a class=\"ProveItLink\" href=\"../__pv_it/theorems/f7c1124dcf33d8e49d6237cd140214b11878c2ff0/theorem_expr.ipynb\"><img src=\"data:image/png;base64,iVBORw0KGgoAAAANSUhEUgAAAPkAAAAXBAMAAAA7L/RRAAAAMFBMVEX///8AAAAAAAAAAAAAAAAA\n",
       "AAAAAAAAAAAAAAAAAAAAAAAAAAAAAAAAAAAAAAAAAAAv3aB7AAAAD3RSTlMAq1RmmUTNIjK7EInv\n",
       "3XZ/CtNrAAAACXBIWXMAAA7EAAAOxAGVKw4bAAADlUlEQVRIx7WWa0gUURSAj/uandlH20tIwQaC\n",
       "CCLdKISidMWKQogFoX4UtRhR+iNW+5nhFtGfjDWixyrJ+KMfZuj2LqWIpLCiWCowhIURJS0fLCIE\n",
       "BtG5987szOyuy7rSWWb23Dn3znfPueeeOwDLkCD+mHC5DbjrZ/9NQTp6WeIW4YmiOvw5DTgpMcW+\n",
       "DpVjqHhIa0Ne9M2wRHoZgQ+Mo9M8Yt1egL3k8al84EJgqfSXeNlEYRj7x1BtALhAVq0tH7rFmw99\n",
       "N8ALhb4d54LRcIj50J2QI/1nPB5I0q/RBaB0pwRm9MCW17JvzJF+6Jfe93mAsMjoNkR/isc/5kWv\n",
       "YXSueELORuca9JEXCN3L6A5Mvf0A7YsjfIubTjD60SC/kI1u0/b1PpzLH6TL4H6NTTOuRyNwHtVs\n",
       "r1eUgvePOyg4LR8HplTtC6ULg2CJZaVrURhU6FHg5rBtwinwkm5oMZnCaMTvCjp6pUx0s2xVH72l\n",
       "dEsCXNFs9NY4ChnDFWInAenHZYCuOgQlcAayLumG8NoTQghcPAuZ6M4Q/DbQnW3Q589G705ql9pZ\n",
       "1pXhFnuKA6wk/IEKvPVUPCNu/x2VSAkiC+7T0ZmVSIsEbwyR75OhMj3npxFwmY11aU9xt0EEoFIC\n",
       "0wKJPEm9h5iUwrCduOQecfvYXM1NIY1OrQciKN6wBF+Vd3UyugiFpmAq3Yb0gigr7rKh2uyiyeeg\n",
       "WUde3oxJZ/HZSZv3mgO1tGOvAzS6YiWC9M+K+oDSedn0zZLmOy/SRaJSZ6C7RGFIqXUWMr0C7OX0\n",
       "uz10VS2ecnRRhGg/3EvSFasS+TlFvcpyvuR54yTSu7+XFm1bCzA2JYF77AfSw7NFtF/XDUlHF2pG\n",
       "QwrdpU65L8jvxD4rwCleIW3rJi/0J+nUyiKvyzpXSF/rcA/Vwxbg/UIM65AT6TPSODMeuaOrtEp/\n",
       "Qj+fTOVguFbqAZe0A3cgsVrAGtN8J1bliJatahjMPgN9ATqgFcKYD6iSdb8O5RlOGR29Wm1Zq0sf\n",
       "QatoPygDdxvbW1dO3fQk6dSqVptxNY5wy0BPQAnSManWWBOUPgRVKfRp7XwMpJ+s7KjriUS0HMp2\n",
       "9nZnoKPvZxTfE8m9qUpL8iy9j9uaN35aWaV0QjY6J8Ok+s0UQnon0m0i9wFWQzNyRsypg7kqBX9u\n",
       "Fd4mUqooLI1ukK5587vD66PwCj+cHGMzp7G0zcJyJQj/U/4BuZIRIC9wTw0AAAAASUVORK5CYII=\n",
       "\" style=\"display:inline;vertical-align:middle;\" /></a><br>"
      ],
      "text/plain": [
       "<IPython.core.display.HTML object>"
      ]
     },
     "metadata": {},
     "output_type": "display_data"
    }
   ],
   "source": [
    "mod_abs_in_zero_set_int = Forall(\n",
    "    (a, b),\n",
    "    InSet(ModAbs(a, b), ZeroSet),\n",
    "    domain=Integer,\n",
    "    conditions=[Equals(a, zero)])"
   ]
  },
  {
   "cell_type": "code",
   "execution_count": 10,
   "metadata": {},
   "outputs": [
    {
     "data": {
      "text/html": [
       "<strong id=\"mod_abs_in_zero_set\"><a class=\"ProveItLink\" href=\"proofs/mod_abs_in_zero_set/thm_proof.ipynb\">mod_abs_in_zero_set</a> (conjecture without proof):<br></strong> <a class=\"ProveItLink\" href=\"../__pv_it/theorems/59ea26b31d9bafad64163c319260be80bf4c3d350/theorem_expr.ipynb\"><img src=\"data:image/png;base64,iVBORw0KGgoAAAANSUhEUgAAAPsAAAAXBAMAAAA/2iRsAAAAMFBMVEX///8AAAAAAAAAAAAAAAAA\n",
       "AAAAAAAAAAAAAAAAAAAAAAAAAAAAAAAAAAAAAAAAAAAv3aB7AAAAD3RSTlMAq1RmmUTNIjK7EInv\n",
       "3XZ/CtNrAAAACXBIWXMAAA7EAAAOxAGVKw4bAAADiElEQVRIx7WWW0gUYRTH/+795rgPJV3AFnrw\n",
       "SVtIgiRkxbJ6qJaEgoJaFiTsQdaXnko3CHpI0HpKJRvBAtFwK0q6LaLQlUIKzIqFtaQiRcSKwEA6\n",
       "32WdGXdd1pXOMrNn5uw3v+875/+dWWANZqePtEhuI24ExcDSVYxZ0T7DHZTuvZwGKPWqcM530ukE\n",
       "HV52tTUvuim2Wvw2orvje8m7zCbjB/aw26fywt/EavFP6AjjVkR4OE1pYKVozwtfkw/ePAZ3u8RX\n",
       "ADaWD19e+OEc8cq1xPgS3umFaUHiPSrMVABbfqUP5Ya3Nqq61RcF4JiXeBuxXycSr/LCW2IC3xRv\n",
       "zoo/o+qTP0j4nxLvJt3vAzqzQAIrRtjcCW99hutqNrxO17VASwyORWCGXZopf02we1NhR4N0yu5X\n",
       "NwovTZWPpqVT6OP4AT8OZF19SGtTowL/l76Y3EykHqe6VEBgM5vDZEdQcWMolhFvTlrlLU+Q4w8B\n",
       "n7LhHVTdxAdOL6YRgzFYafWuYuI75mgKSZ3yntOxO0piVVCZzIj3RPHHgH8B1+9seJf2hAudXHom\n",
       "kp67nolymCWnik79VUNspouTKutFDP8joMOLMLMWFSP65LsWYZ5LwysjWiXHtNvU65ztMC+I/gcT\n",
       "C92h5uN672BrUj4qgT4+3G3v9mt4Ht7fQeZvU/FOPMuZ5Ph5FIRK01YflpUkmzW2nWFYSA2PeSHZ\n",
       "w8+S8iwBB0uE028O1XG8patdJz0ZZkb4N8Jj24aS342yQCANf0VWku0Qn6HpvsVAVG48tnVREGV1\n",
       "VLy8sBbvDlqjT1Hch3V4GZbJn5eaGuP4numLJVHC902Ub9q+HvgyrWK2KiwqyVO38Zge3xvfID0U\n",
       "pjQ/GHFW0m+L4PFd4qtXrMdVDc/DIvma9DBh6Hr2eTSgDM6ga4xWNSIqKdreA13T1U0E55b0HGmr\n",
       "U/tRqO6kjchrj4c66fGwFFXSmkpEhRG/gC60og3opgyFRSUzvPF0Xs1SX64pv4tWn+NgEvardH3k\n",
       "a6y3VsPzcKrtTKWaqDNiwM+hhPC7gHUnufRYJZfhZ/T9L+1FKzTS39Gh9SFkeRfTjk7H0+obxepZ\n",
       "JZeNaEndcI2K6RteTWoGRra/As1QotL9zvDdhLf57C8L/HaqPavk8j+H1YJvv82+vy3rp1gl3mA9\n",
       "v8xPj26JIT4VQbxqPApWyTVbBP/T/gEY/AtxsLOEBAAAAABJRU5ErkJggg==\n",
       "\" style=\"display:inline;vertical-align:middle;\" /></a><br>"
      ],
      "text/plain": [
       "<IPython.core.display.HTML object>"
      ]
     },
     "metadata": {},
     "output_type": "display_data"
    }
   ],
   "source": [
    "mod_abs_in_zero_set = Forall(\n",
    "    (a, b),\n",
    "    InSet(ModAbs(a, b), ZeroSet),\n",
    "    domain=Real,\n",
    "    conditions=[Equals(a, zero)])"
   ]
  },
  {
   "cell_type": "code",
   "execution_count": 11,
   "metadata": {},
   "outputs": [
    {
     "data": {
      "text/html": [
       "<strong id=\"mod_real_closure\"><a class=\"ProveItLink\" href=\"proofs/mod_real_closure/thm_proof.ipynb\">mod_real_closure</a> (conjecture without proof):<br></strong> <a class=\"ProveItLink\" href=\"../__pv_it/theorems/22e9327a38d43164aef68146a3d52a78abc105f70/theorem_expr.ipynb\"><img src=\"data:image/png;base64,iVBORw0KGgoAAAANSUhEUgAAAQEAAAAXCAMAAAA8ygr9AAAAOVBMVEX///8AAAAAAAAAAAAAAAAA\n",
       "AAAAAAAAAAAAAAAAAAAAAAAAAAAAAAAAAAAAAAAAAAAAAAAAAAAAAAACXHtMAAAAEnRSTlMAq1Rm\n",
       "mUTNIjK7EInv3Xbt5cmRiLwgAAAACXBIWXMAAA7EAAAOxAGVKw4bAAADzElEQVRYw+VYi5LjKAw0\n",
       "b4RAd8f/f+zxNjh4MpvJZuvqmJoosdsENVJL5Dj+zDAX+9ZJfxf+nYP4at8zFH19X2gPEHXwICY8\n",
       "G/e5+BgBHFf7ywQGr85PDnxo15+5AIdJDismwA28HFPpjwWF06t9Id6jmj9q2d+4pwxgMZYNvO1B\n",
       "YOBjISDFal8YKwOxJ5OQ32JAmkOf+E4b8o8x4C/2pwyoOLber0FAENLQGwbgxIu2EfpzKqBX+2MG\n",
       "MJz5MIeV0uS2McCcYxPeZ5qCx88lAa42qROSOXXcai8NEVASa4LiqpNEXbEQiezCgGZErIYwskks\n",
       "HlWhMmCBd9EreGnLPfeiO/d6d3ej71O3yqflQJzwIftjo0huipwqNuQFQybJ+ewqzgy4mFx10dSC\n",
       "N32P2emA1yGGERsFn+tDfbkMqy/iyANqyTStc97AUbUNewiuwBfrfKlJYZ60KETM89mYNiiUOcpb\n",
       "0A+1gBfyfFkWn7RF75VQiKkGVXzeflSbzWJ98ZYY5HCkI11Bg1sGTvgxKBVpWepaZHotb1bGQscy\n",
       "aXkkYnPbNq1PF1ykuu3TeqUe6AQ9d6SmdxqwZgE4MdSi4jnd6KC37Stke0Pp7xCO9gx0eKXDjEvR\n",
       "fMmAh6tLnQFqDPB2MwWF3TBQyFOVJeWnRummGlp55nzD67JX5SkUhGbwkwTGzZ1WYYCc3GdBg9eZ\n",
       "sQZriU/+VRbUXRXxuGdgxIDcxkC5K6uO8CmZwl0/IO1ofhoeeVNNlxTHji2j4A6SM5c5Cwwsved0\n",
       "s8Il5PFX+hdprjxvuDQ+QLN1xQGmD27uGDi8rGU/uV3FZtGBjKhikpicNp7ohoHkUfeh4Y1nPdxz\n",
       "+gy4KFqpxMSABIRjr4QNPjfodtKoSSPZYjMRPMi5quiZAZXXlLNJY1lr9p3FiVWW3oO8VNgyDd8w\n",
       "kIFJB0AteGbPzCQ257Vkyauyq8BrFqDiewYafE7BmgXxshAbFusYoTWMhopYFj2zHNLrgTrmNDcS\n",
       "kdU1O1n6gXAWL8dw9NdhlhPHQLmHsyHk2gu6riqsFaDUVBCuPRVrDls8Zh1QCt2WgQbPWfD3P1Cy\n",
       "YK+ER7CrfeMvBJfcVwhLV/wMf/gsA0qk/iJ7nfK6pMnZLNVqeKOEHT6dtkoqqodWo59fnp1jXj9z\n",
       "vYxXUnBCkRMvN2WyaokBO/rslItOSr2tBbJLz9Rfpo5IPjaHYFb7thCAN+Ln3HWYg1rdnDcfH6Wn\n",
       "PxDAfcn+yfhVRr/Cq+8eEzY+fOPI189Bht5JAJk34r+dT48McHX8r4b5rzvwL5AZItrG0ToBAAAA\n",
       "AElFTkSuQmCC\n",
       "\" style=\"display:inline;vertical-align:middle;\" /></a><br>"
      ],
      "text/plain": [
       "<IPython.core.display.HTML object>"
      ]
     },
     "metadata": {},
     "output_type": "display_data"
    }
   ],
   "source": [
    "mod_real_closure = Forall(\n",
    "    (a, b),\n",
    "    InSet(Mod(a, b), Real),\n",
    "    domain=Real,\n",
    "    conditions=[NotEquals(b, zero)])"
   ]
  },
  {
   "cell_type": "code",
   "execution_count": 12,
   "metadata": {},
   "outputs": [
    {
     "data": {
      "text/html": [
       "<strong id=\"mod_abs_int_closure\"><a class=\"ProveItLink\" href=\"proofs/mod_abs_int_closure/thm_proof.ipynb\">mod_abs_int_closure</a> (conjecture without proof):<br></strong> <a class=\"ProveItLink\" href=\"../__pv_it/theorems/aec0d098b55abea3b53956411905c9c3297631f10/theorem_expr.ipynb\"><img src=\"data:image/png;base64,iVBORw0KGgoAAAANSUhEUgAAAOcAAAAXCAMAAADHuKgLAAAAOVBMVEX///8AAAAAAAAAAAAAAAAA\n",
       "AAAAAAAAAAAAAAAAAAAAAAAAAAAAAAAAAAAAAAAAAAAAAAAAAAAAAAACXHtMAAAAEnRSTlMAq1Rm\n",
       "mUTNIjK7EInv3Xbt5cmRiLwgAAAACXBIWXMAAA7EAAAOxAGVKw4bAAADa0lEQVRYw9VYiZbbIAzk\n",
       "BnGorf//YysBdsAhR7Ob7CvPTWqWhzTSjBAR4keGPz7Ok2+y9TMDFX8mO8+e318eyuUtOygFshbC\n",
       "Is/Jy1/1p2CqJN6KE0EG+nL1oVcGZo7N3acSHJ14L05jOrykGrIoRNgT6uFT6TT6zTglZywCP3Vo\n",
       "08FWK+pTOLP4bpxIWizFHYSp0QyisrdapBndo+s+pk73zTitw3g1STwN5pAkY8wci5LTx2ibJlxe\n",
       "JvT4BZzexcUsRH52S7IluM2/5PSdcnNj3ukRp80kJtji6ziX9ZNKusbjTbsa0P3jnHp3Lk0yQzL0\n",
       "DGG7ubx5nRKeiVLUsCLmWvTLF/LpbkwO8yrvqVzakLuLASUArSgUuhRHNcBquTgCxzG1p2hlO+A0\n",
       "W4WeXscZmu5owNSItN2aq6FaUXgjKDns51H/D8U+KD/2E7BYfqntbWrzt3Fm3iBu9nWcEZZz/Zhs\n",
       "btjck7xzOSaNaXcrbIgy9n7iIshJkiNv+/JWA2uGfNVdVjd5Gzc2rLdn6i32fc5yKgsihg4wtp1V\n",
       "6UdnL1mRiBmO8GOJAs0cMO1VuIGzLzfA4xf907QX71vmhhJwxMm+SyeUf5xPpxb6ILt4RWUjbMuG\n",
       "bAB1c9NneWmYQj4c0rVS2cHNiGI2MuDsy8XRUoqOM8+OJDnwlkGr0kjyCCeohT4G/OOZUhPnQcF0\n",
       "lO2NA0sH5ag3I8n3mqFqJVEZIrRxhbMvHzXTeLvNfoQy1luJKXiJYX+HEhTRX2tpW8CQLVLSNHY8\n",
       "kz6qNQl2fLcZXCaH6dICDWCZIxiZsqB3GFvTVrhk0KrAiUpLnH058/b3H6i8XdYhUcKdfshzVFiB\n",
       "VVNc5GPpCen67PqYOqIEY9931UmcJZxZnlZHqkfsT2zEHvqKyi9blrzdlw93g6odez6atbmLk6xx\n",
       "Glg/7TwAbLzo+Rz18W8Xh0tcjFaY+PTg2AXTJO5hP1akJJqBk+t6a/aKMPRW1CeYq8YI/D2crCNs\n",
       "OHWtFdLYbdDhoI8nG8N7N7FRUzExDZdVYrWFwueOvMc4Wz7dnM/t+qh6UL/uXKztk+0uPNuIzRGu\n",
       "kcBT3azvFSd0nBWap1uV1PytTvp48tJ27/eDZ39DWRhUX7kuR7kZoquzXm5cIxKi8fVbY3Fh1sen\n",
       "f7j7D8ZfNm8dTRtGMvAAAAAASUVORK5CYII=\n",
       "\" style=\"display:inline;vertical-align:middle;\" /></a><br>"
      ],
      "text/plain": [
       "<IPython.core.display.HTML object>"
      ]
     },
     "metadata": {},
     "output_type": "display_data"
    }
   ],
   "source": [
    "mod_abs_int_closure = Forall(\n",
    "    (a, b),\n",
    "    InSet(ModAbs(a, b), Integer),\n",
    "    domain=Integer,\n",
    "    conditions=[NotEquals(b, zero)])"
   ]
  },
  {
   "cell_type": "code",
   "execution_count": 13,
   "metadata": {},
   "outputs": [
    {
     "data": {
      "text/html": [
       "<strong id=\"mod_abs_int_to_nat_closure\"><a class=\"ProveItLink\" href=\"proofs/mod_abs_int_to_nat_closure/thm_proof.ipynb\">mod_abs_int_to_nat_closure</a> (conjecture without proof):<br></strong> <a class=\"ProveItLink\" href=\"../__pv_it/theorems/befc02fcac742b5e6a75237ffd7173e09ad8658c0/theorem_expr.ipynb\"><img src=\"data:image/png;base64,iVBORw0KGgoAAAANSUhEUgAAAOgAAAAXCAMAAAA2s/OGAAAAOVBMVEX///8AAAAAAAAAAAAAAAAA\n",
       "AAAAAAAAAAAAAAAAAAAAAAAAAAAAAAAAAAAAAAAAAAAAAAAAAAAAAAACXHtMAAAAEnRSTlMAq1Rm\n",
       "mUTNIjK7EInv3Xbt5cmRiLwgAAAACXBIWXMAAA7EAAAOxAGVKw4bAAADd0lEQVRYw9VYiXYbIQwU\n",
       "9620/P/HVgJ2za7xUTd2XnmJ46x5oJFmBmGAHxlu/F49fNdmPzRQ0ksyp6dXD14csdQQbOQVc80G\n",
       "DPJTsX8u1adwygTvBAoQJJgGLNaWV0am99Xtp0ocLbwZqCgOUqtb7tCovH4rqQufKqhWbwcqwyhc\n",
       "af8rPdC2beSngGb4ZqAYCg07AXUKwdkdKGQCqYY07ccUar8XqLEYzxV1IDxg2oFaBpk5HSWnjzE3\n",
       "HXA5kdDh60CdjdfUJdYSeYPZgCYWqPbNqOJLQd+xnFsfWDUDNZmDqvFloCsPZaBe0zkTB1BlW0q3\n",
       "l9Pw9uxPIoek6efi4zdn96hTwiumFDnNiLlZf3m9oivJMVBQEmQYfiDzVszlJmIL0qMIxAMg14YU\n",
       "J0mE1WzYE0eWAOacrWwmoLoddCW9DNR35dEIJ6AgIlVmzGrbSLxhRdkPgurxhrLvpZsai7CYPW3V\n",
       "HlV3B2gO7Vg3LwON4VZFIQrYqGvGedpS3z5LCtMWmK+IlJXeWFxUOetypu6Y3RduJXJNelnepm6s\n",
       "vLGqz7gujoVOGik3gRIRtwBlGUfocK5I3PR7BbBEQH3MmXLSr4GO2Trw+KJfRUvxsuXUWgacgXLw\n",
       "woJ0jytq5UIjgLhoAUeM6EeAqv91WWwcZdLv01WzKzMFGhEOu0xAx2zYm0sYQPMpkiQm6jJqWTpN\n",
       "HgENcqGRC/7VI22PR5rwF/mgmEWnBUXfitS2SeRFBDcugI7Zs246despEF9m1xWYvBPo+4MYipek\n",
       "AKWE6RnDFHvdFI7wDxppSwQTj6dFzeHQVkM55jAya4PacNQuMH+poZGea5VWQMdspu6v36FRd21G\n",
       "UPztzshxWliETVXs9M1PWkWGRodG5t4ohWMLeNVUnIWcWaJGRTIlDih2bl96idQoZsqKutvs6Z7Q\n",
       "9GOuTmil7wGlzULqCuqHArG7U2NUdNbI310jptRoJZHvN56z53UXutu0rYQgpgUrlq6rN1uYmixq\n",
       "GPR1ixTcHaCsJOxAVbMLocHUSXmTRp7tEu9dzGZhxcRUXFnFagWJz519j4H2itpTReviyHrgYndu\n",
       "2ua51jc82ZOdU4zN+88HpR9AwwDaoDm+YgnFb+RJI8/e4u59o/Dk1yqLDeW/XJ+jqJoYa40TlW0i\n",
       "IerOc3LdYv1RIx/+Nu//GH8AKmIdaS+xB70AAAAASUVORK5CYII=\n",
       "\" style=\"display:inline;vertical-align:middle;\" /></a><br>"
      ],
      "text/plain": [
       "<IPython.core.display.HTML object>"
      ]
     },
     "metadata": {},
     "output_type": "display_data"
    }
   ],
   "source": [
    "mod_abs_int_to_nat_closure = Forall(\n",
    "    (a, b),\n",
    "    InSet(ModAbs(a, b), Natural),\n",
    "    domain=Integer,\n",
    "    conditions=[NotEquals(b, zero)])"
   ]
  },
  {
   "cell_type": "code",
   "execution_count": 14,
   "metadata": {},
   "outputs": [
    {
     "data": {
      "text/html": [
       "<strong id=\"mod_abs_in_interval\"><a class=\"ProveItLink\" href=\"proofs/mod_abs_in_interval/thm_proof.ipynb\">mod_abs_in_interval</a> (conjecture without proof):<br></strong> <a class=\"ProveItLink\" href=\"../__pv_it/theorems/3540c8cf3c9d041a98f50a042ad1cc3e42bc39cf0/theorem_expr.ipynb\"><img src=\"data:image/png;base64,iVBORw0KGgoAAAANSUhEUgAAAVMAAAAXCAMAAACBK1yIAAAAOVBMVEX///8AAAAAAAAAAAAAAAAA\n",
       "AAAAAAAAAAAAAAAAAAAAAAAAAAAAAAAAAAAAAAAAAAAAAAAAAAAAAAACXHtMAAAAEnRSTlMAq1Rm\n",
       "mUTNIjK7EInv3Xbt5cmRiLwgAAAACXBIWXMAAA7EAAAOxAGVKw4bAAAEWklEQVRYw+2ZiXLkKAyG\n",
       "zX0INLN+/4ddTpvG2DHexFs1NdSk0+WAgQ/pl8Qsy//SVPk5PPy+ZoV4tKwHC1JU/cgWphrS8AH9\n",
       "nkF85xRS2OlB3QpuL0gTkycTGD/J9gfK3kJKYflppnQtRAGQqymm1jh/c0Ha13MzhSNGiHwbJ98y\n",
       "XCuXH2cKBYsMHmG9mrNTye8syBIu68lt8y3SRrOtUmDeMlPOXmPK0i8wc0xXenNBeGTKeAGbntK3\n",
       "mLrlm5mi8aHJAdPskpsQ3GMqNt14wHRx4RErMipfU1P5vUyFRHtmp2vyYr3SGaYbn0dMZeTp4iF7\n",
       "B6+5PnysWBFAhc+ZKmlPfd9WpmyGqSSIhD5lCtE1uE5eYh/xuZDwsz9I9uFoLgQQk9b2jOk4tPLk\n",
       "DGqFzBRn4v4aTsmuaoopuvqMyWQo9aPPFGSv7cQZ4OHf9sCc9i5uBHiwf99GAOtS8uGf2+lQs1R6\n",
       "7c4UJphm9XU4xVRt8kJdNdHhcFKXopEYE3rEpARsI19m1HvZzoiFhYn+YJxoNsDXhBkeM9VZukIz\n",
       "zeQyv8pmmGLKTrOJx5Hbgqz0e9MjpiGzkpmqTjuieHLargznvHwJh6+pasTJDHpnwGp7tKoLps6k\n",
       "rYvHTO0oT9K8SFnWUzoVo9IBizhkwk4XKMcYxKy4DysHaYEhVAZBhpDYUhvsCtpqaOv7pXd+MWSH\n",
       "SF5Ez33fJgti650wi+VFncj4YedS15jUlU3lUukA+GqnmO7pGvUlNS2xM1YcerMrDJUX8k9LYIrq\n",
       "MdPSm5vYfoUfFl4VX+u7oGuwZRo3QORCb4SE4lyfIrMgXuX8bg9Yt5nqKvMzcX+PUaYoOqlOHgVq\n",
       "2zxLUUw0TCwuHxtqmJbee9W7FKau2zSQZgMRMPXZ+L/agqEDkdlRD2vT6BS2GRCCevflwJSExRt+\n",
       "S4xgs789l6qpItG71CFpBZKTACqZXtoRhBAV1mMHTEvvVuOy7/diptsbCksQtCKo8wNrvKZBQhgj\n",
       "Ih8Ogs3WyHALAo3IpFeY4xVU3aPlgKQ9A8/7L4dcisBZ9dyFcOJWSVjH1H8OSkmZYRXZmsVQ75Yp\n",
       "qE4+MWJaekff//2PSb4/jlFLiZzDOirlJFEwkyzFXMP6evhFT4vItJUUmJPa9KW7vmY+1U/sopwK\n",
       "FlLeuIew9iQOezkAyUeFH/l+7d1cyyStE4fMl/ErpmEyA1mCcloS5CEbfLHTVmS+3uPbTHlfsgnO\n",
       "KELMmKJNaJ71X5maShESXNVIMoz7vEaLpiSLt5fHmGvUBdPoVJiZ5ghDeMhsGuFsROYqSXiXaQ2D\n",
       "l7d7rQhaiL48mmD0Bvplgp319mum2U5lZ6frID87FlIrfZNpzhM2czm57LmX0Zm7xWK344gddW9b\n",
       "ujA1hWmiqOLlWYwEqoDcReZyCk7mqXZLOqzwbC6oc+HV7ffNi5zB3uh/uVm2JFQ+zEmhSCorAcv/\n",
       "fECI+17qT5H5M5ta/rZD+xfvEyj1WUHVGAAAAABJRU5ErkJggg==\n",
       "\" style=\"display:inline;vertical-align:middle;\" /></a><br>"
      ],
      "text/plain": [
       "<IPython.core.display.HTML object>"
      ]
     },
     "metadata": {},
     "output_type": "display_data"
    }
   ],
   "source": [
    "mod_abs_in_interval = Forall(\n",
    "    (a, b),\n",
    "    InSet(ModAbs(a, b), Interval(zero, subtract(Abs(b), one))),\n",
    "    domain=Integer,\n",
    "    conditions=[NotEquals(b, zero)])"
   ]
  },
  {
   "cell_type": "code",
   "execution_count": 15,
   "metadata": {},
   "outputs": [
    {
     "data": {
      "text/html": [
       "<strong id=\"mod_abs_real_closure\"><a class=\"ProveItLink\" href=\"proofs/mod_abs_real_closure/thm_proof.ipynb\">mod_abs_real_closure</a> (conjecture without proof):<br></strong> <a class=\"ProveItLink\" href=\"../__pv_it/theorems/275193546b5e2d352e0066722fccf77462757c770/theorem_expr.ipynb\"><img src=\"data:image/png;base64,iVBORw0KGgoAAAANSUhEUgAAAOkAAAAXCAMAAADZcZi4AAAAOVBMVEX///8AAAAAAAAAAAAAAAAA\n",
       "AAAAAAAAAAAAAAAAAAAAAAAAAAAAAAAAAAAAAAAAAAAAAAAAAAAAAAACXHtMAAAAEnRSTlMAq1Rm\n",
       "mUTNIjK7EInv3Xbt5cmRiLwgAAAACXBIWXMAAA7EAAAOxAGVKw4bAAADZElEQVRYw9VYi3bbIAwF\n",
       "xEsC1M3//7HjZQc7JvWy1j0jJ3aLFdCVdCVhIX5muP59mvyuzX5qsMqXYA6zTxNvDrARcbEpItT/\n",
       "DZer3J4ruA2oCuI7kQqBwmVgRgJSNWyBprfV7W1OJiu+H2moN988aTNgvzrV4W0u1XATUu1EMyro\n",
       "Drduo25DGsUXI2VMedgzpN1/MaOETk97H0vt1yI1luncp5Koh6wtKGOxR4rhvuANO2BOBnb8PlJn\n",
       "aRK9HtWafEJBrH19Rm+q/SLxTOYtjEhNzMrgQm8jPcukGWm0aUmbs8FWm66Xw/D2kKRUClZLy/s1\n",
       "Z/JN7xD4GC1JDQIUawVI7/vUTjISAD0eqbi683QTueroWSJmCRZ5JrhwjvQhLzbbQTaLORgsmgGp\n",
       "Xir48DZS39iXBx6iFwm2FsHXbRRP8lH0PUJ1/4PzRwDxBOkq32C7bWpxc6SxLECLeRsp4azKeP3g\n",
       "pInd/9CVpwAc3GYHZkm9w3ggZdKT6O3ybenqJVf5F9U0emkpO8NyJfdyX+fAkjStp9pvTYJKvZT2\n",
       "9EXJZX1XpJxIsB6NVqLXIcM50i6vsYyP/IW8WFk47ftM5BFp0V5aodznPrXqhCWCeYY0a77qCk1P\n",
       "F+UapiXuN3GoOcvAgFRjQDHJSF1ebJ2m6EjjXpcgh+gtsFXSNYd/hhTVCUseBtgjLQtmnqLZVTbp\n",
       "HwxiOdJOy6x8dVLZpkRvMGqCtMuP5GnRu+xV8WnMvZKDd5L96mRMXmUSAEjTTMaBqueAO6QdS+oS\n",
       "aOj5LIOleqFtm6e9EakELgL1ny2NYj6IkafGBDpH2uVL9P76jTV6TzOSSP5Fj+SKaoWJlVrFJZS6\n",
       "TzpPO0vGLingvht86i6OZI6FpgYoZ6aiELXwfjQVrcrMMtIqPxwbKonMsVaDfok0b4eh0agVB+QW\n",
       "G92nI0v+7kwx2EaD4gBll7yo143sDv3WYNogSGt7nnv1mhyGhit3DvqpWUL3CmmhEzekUJOG1GYZ\n",
       "CDmw5GrD+OqcNlKLQolFMzkfnfyWL9XAC0ibT+3ep8tz4frsEPfi6G2utsF4sT87GLnYgv2xYPoV\n",
       "KXakFZzLRy4J5a4OLLl6qHv1juHym5aTLdW/HKhJLjoHrTVOLiVZBGbt6h04Wb9nye0v+f6L8Qc6\n",
       "/R6woJj02wAAAABJRU5ErkJggg==\n",
       "\" style=\"display:inline;vertical-align:middle;\" /></a><br>"
      ],
      "text/plain": [
       "<IPython.core.display.HTML object>"
      ]
     },
     "metadata": {},
     "output_type": "display_data"
    }
   ],
   "source": [
    "mod_abs_real_closure = Forall(\n",
    "    (a, b),\n",
    "    InSet(ModAbs(a, b), Real),\n",
    "    domain=Real,\n",
    "    conditions=[NotEquals(b, zero)])"
   ]
  },
  {
   "cell_type": "code",
   "execution_count": 16,
   "metadata": {},
   "outputs": [
    {
     "data": {
      "text/html": [
       "<strong id=\"mod_in_interval_c_o\"><a class=\"ProveItLink\" href=\"proofs/mod_in_interval_c_o/thm_proof.ipynb\">mod_in_interval_c_o</a> (conjecture without proof):<br></strong> <a class=\"ProveItLink\" href=\"../__pv_it/theorems/9029859caf0a96a7af5e432632d8173d89e90b110/theorem_expr.ipynb\"><img src=\"data:image/png;base64,iVBORw0KGgoAAAANSUhEUgAAASgAAAAXCAMAAACPgiLnAAAAOVBMVEX///8AAAAAAAAAAAAAAAAA\n",
       "AAAAAAAAAAAAAAAAAAAAAAAAAAAAAAAAAAAAAAAAAAAAAAAAAAAAAAACXHtMAAAAEnRSTlMAq1Rm\n",
       "mUTNIjK7EInv3Xbt5cmRiLwgAAAACXBIWXMAAA7EAAAOxAGVKw4bAAAEYklEQVRYw+1Y6ZrkJgzk\n",
       "vtEmfv+HDYeFhY27vTOznR8J802rbeNqUUiFgLF/p9mT/UnMFw1ydk/etX/Kx99tIGb7I03D2y5R\n",
       "P3vQLhGvWz4eCvkxnkSc7W/znNMxsOBT3m/Lh0TFCMpeHxxIvR/iNavGL5qPhVgws/1Clm00AozC\n",
       "L+ERUabEcch2wSAi4WU4cB2GlPUfCyglZ/uFNhG1YQJL9YQo2cIm+gVRiLRfIl6zyFoUHyMqnew3\n",
       "idLbCKQ0hxT4XJo58eFbbIgtXIgaSChZiFet3KfVfE6hzGy/S1TMRxLSGNUGwiqithYnbhMXogYS\n",
       "EoV4zabKek7xc5kXZ8ssj2CPJcuZpCyAh7LegG8uBwWAalqUGBwlynAA3kcdOdGxhWJVAgISJa/i\n",
       "hUhIFOI1q1pl4cPXBv1Csu8eTNNUZz4VXfU0E3L1toykuCtrfrqmvL5yGVIbCCEqbIWRsDVtliRI\n",
       "V4tTJcBusRMFl1VvICFRiNes5fhxas6c9F3kaBQ39Af8bfc9mCNcQjWLyYbUVt9MUZt6bb6Np8xj\n",
       "3odWvnpzXvW62KTmlSCyZ9gbouLZ2wMJiUK8bmswLSsxjlAOuK85AKzciTYuiTq6s8G8LD+qz8sp\n",
       "1kC7VVtjjb7s2yttJJUdlJNyI/Q4CIQoZUbn0vOYty4ppflz6sUu3JeIOpCQDsTrVsCNlKe93Fdq\n",
       "/wLlj8kAa6IS3R1wO25t9iVRyZ9GPoiCnSixPywh5q5ENYp151InUofelQddo8RVzA8kJArxdmva\n",
       "zDf0KCHiuIpTwAMteBtRENQ69fbuHTn2DGmxLF6lXo8RubF7okZEqVVEtYeqS5wgCZzviOro8loe\n",
       "HEgj9fJko9gXiFquuhEAkAMDRaempp71dKfg6b6idVe+tl/lXxasiptPdaUHakNzjxsm7B1RLKme\n",
       "LMX9LoRUo2qHrnNl9NQfuCs408jYMBM1kIaY+8naxDHHam4Pd2WTey0JUcrPFS252LvTXZcjOku8\n",
       "5ZOtfIms6AJqKFG6+lRT2MTmax0DJ2s7L1+9OlUcuFNZbmFqKIcKWZY5+uBAQqLOlQx3h2oAp5qj\n",
       "eBl8ixEveupFLdZE7d2pPvTU204OuzzZwCE6y2EonONb4k748smi2apyWBUj784H1eqoPNwMPI69\n",
       "UKZKF7jXYUVUhehDzpmW4gcSEpX1Apf1EsLLsL+8dX1xkVGN0jqGJVF795p6f/3tW+qtxZzhmdDN\n",
       "2dA3TqROuqSjX2xhpoon3B+zHHhnXJaqRGlZqq5KTmG75eZRi/by4EbMsTvZaDed0JcSbdpr/ond\n",
       "9vPzqMheEXW7e9dKCoiyikItjVXXQ+vd2DwVnQhKmeWqp1A+SZVfT36uJbq3s/2pgHp7AHImalQ6\n",
       "S6IQ7yUu1ZUQayYtDwdXEOLtSSNqWPjZo533vJ+JglcnnI/mUz/c+q1G+uBQALfAFn6QJ3gfn/Hu\n",
       "zBzc9RLxXuI+PVJbECU0+79dQ+O/MtB/AA9rKg1xd6P8AAAAAElFTkSuQmCC\n",
       "\" style=\"display:inline;vertical-align:middle;\" /></a><br>"
      ],
      "text/plain": [
       "<IPython.core.display.HTML object>"
      ]
     },
     "metadata": {},
     "output_type": "display_data"
    }
   ],
   "source": [
    "mod_in_interval_c_o = Forall(\n",
    "    (a, b),\n",
    "    InSet(Mod(a, b), IntervalCO(zero, Abs(b))),\n",
    "    domain=Real,\n",
    "    conditions=[NotEquals(b, zero)])"
   ]
  },
  {
   "cell_type": "code",
   "execution_count": 17,
   "metadata": {},
   "outputs": [
    {
     "data": {
      "text/html": [
       "<strong id=\"mod_abs_scaled\"><a class=\"ProveItLink\" href=\"proofs/mod_abs_scaled/thm_proof.ipynb\">mod_abs_scaled</a> (conjecture without proof):<br></strong> <a class=\"ProveItLink\" href=\"../__pv_it/theorems/a805e237b0f92dcbaf01136d97e01bc13ccc71700/theorem_expr.ipynb\"><img src=\"data:image/png;base64,iVBORw0KGgoAAAANSUhEUgAAAUkAAAAWBAMAAAC/C3MNAAAAMFBMVEX///8AAAAAAAAAAAAAAAAA\n",
       "AAAAAAAAAAAAAAAAAAAAAAAAAAAAAAAAAAAAAAAAAAAv3aB7AAAAD3RSTlMAq1RmmUTNIjK7EInv\n",
       "3XZ/CtNrAAAACXBIWXMAAA7EAAAOxAGVKw4bAAAETUlEQVRIx5WXXYgbVRTH/9lMMh9Jpgt+PFjY\n",
       "Dvjgi63RlkKXEiNbqyJqsKIPFrvUFts+lCz4Iqxt9MUHFzb4gcbiOosirmtJtK6VPiyhRbdWKnmo\n",
       "WloWJl1pl66WEKwrWyieMx9xdmYymb1wJvfOnTPnN2f+98wNELmJtnlOcSt29/C0oCuL4XGLWEu7\n",
       "YpurpQrW70ywR8LwnQq6ciY87ktk/dy5NwJkX80yD+XU+ZA4C72IQr3tpmaBR7nzSgTKz23z5nJf\n",
       "SJyk3itv+3pT4hDwBuunHIFyyDYvZTskTjzfi7IdgXKL9bgpLQJl3TYPZWIlLM65HpTh3nZL64jT\n",
       "W09GkeWwZV7KVCMszss9KMO9Hd0Q4vn5+Z8jUAo1yzAye8RNmRxoat3jfB1AKa6/1ln74d5OFFrh\n",
       "jwMfRaDkB2JLzOET3UVZPaQsd4+z1XzAebP125S7i/KKMx/u7aibXuEIxH5nLB1cNb3xu0cOO/2M\n",
       "ZtlXWTzlzuUDOn7pHud+fy6VMxAazjDc2xEbLQdZd2oztfWdntSsFNQUTjoVMl2w7BngMg2Vf2zK\n",
       "ncCt7nHG/ZRCCxm+aZVFHu7toLSI1HAtnrOd3o4S1VMVg4aH8icoN3l8waa8jES7e5zdfsp0GVVO\n",
       "S4arVLi3Uwi4tAzn6DCdO8nUt5usudSCwQWfKa/nV79x5TbiLfcbb0NY8cZRT3c049dl1cDDrnLp\n",
       "98afnsLYxwL5hmq78ru0zLe/pDLVr1J9yoyWEiey9qWyYZrSRmz4Phflv6xUb5y9TmebP5dVDXf3\n",
       "OTuIQO+khzLOH51RekghL3Fa5SyvJ6GslHaZlMKxsrscsE1gYz7vorwD7/kr3jtO50k/pWz0XRCc\n",
       "YaC3rPmLIGIlVpzKLyRdEvot+W2tVCqaqqae7Ui4Ydnk0lsDJRfl5LeU7Rnl4zebnz5YgJo7BdzI\n",
       "7bVkQ28lYI0PfD+y6Awtb0xd3HTP5rtod7KkQ124SpTKiSUz37Mkx4yzuqtFeZAUuQ5pumIdzb9t\n",
       "5lJNvNipjRdtC965HdWSZdLP+zjOj37akg3ERrSdm9jGQdKwXFAalH5mOF4cZ8pMYQx4vfOpLI7v\n",
       "0qeR0bdhGskCarJu6hKn8q5vvmldKHW5JtWpZsjGUZ11ybKBkI1IuYJjGOO6NUFd1uUOGio1PIEv\n",
       "XHucxNCmExjTpKcNOopDOV38kM4+f7X22c6OWoqWdaFEzJDq8Tpi+T3m6mHZ4LWIu2CxhQHC2g7c\n",
       "mWiZlD+gCWmOfvw7Ns11nK5UCqsmlbJlYZSUy6SdS5YNPlgbJeXysJVL+m6++yVNLcOXmoT+/zGg\n",
       "HbHNXRjtdbRIlDJREt6oHsuKpEuWjer/y7IYcONFppwgyqQmnqNlP0p5mpNuDtLUfqRwzVOXXMc1\n",
       "NmVDfvv+kVtI3XiM1+VvJbBsIrtP/h3/8YUNNcz+UaTa8NcB4LmHlljTr26+zvP/AbouVU0e7efw\n",
       "AAAAAElFTkSuQmCC\n",
       "\" style=\"display:inline;vertical-align:middle;\" /></a><br>"
      ],
      "text/plain": [
       "<IPython.core.display.HTML object>"
      ]
     },
     "metadata": {},
     "output_type": "display_data"
    }
   ],
   "source": [
    "mod_abs_scaled = Forall(\n",
    "    (a, b, c),\n",
    "    Equals(Mult(a, ModAbs(b, c)), ModAbs(Mult(a, b), Mult(a, c))),\n",
    "    domain=Real)"
   ]
  },
  {
   "cell_type": "code",
   "execution_count": 18,
   "metadata": {},
   "outputs": [
    {
     "data": {
      "text/html": [
       "<strong id=\"mod_abs_subtract_cancel\"><a class=\"ProveItLink\" href=\"proofs/mod_abs_subtract_cancel/thm_proof.ipynb\">mod_abs_subtract_cancel</a> (conjecture without proof):<br></strong> <a class=\"ProveItLink\" href=\"../__pv_it/theorems/f338505e8207fea38b0cb34771a9c704c7053ba30/theorem_expr.ipynb\"><img src=\"data:image/png;base64,iVBORw0KGgoAAAANSUhEUgAAAaYAAAAXCAMAAAB3ThtVAAAAOVBMVEX///8AAAAAAAAAAAAAAAAA\n",
       "AAAAAAAAAAAAAAAAAAAAAAAAAAAAAAAAAAAAAAAAAAAAAAAAAAAAAAACXHtMAAAAEnRSTlMAq1Rm\n",
       "mUTNIjK7EInv3Xbt5cmRiLwgAAAACXBIWXMAAA7EAAAOxAGVKw4bAAAFc0lEQVRo3u1Z6ZrjKAw0\n",
       "963Z9fs/7HBb+HbaM9kfS38dAnFEQaGSINP0/aLq/9Kahp77Vl4E9PdH3dpSb4/wkwI0vjiBW6i+\n",
       "XQS8huiBqY77hbKxlTsKGNI7KfsKS9RhiKVVa2t8eED3c/wQvPjE1ALsz9NUwPD+mfyKe1mJIdZW\n",
       "ryV/YEra5zozi89MNWA/pYmiVT+gKYPRzZ2U+YozcYYR1Vav5430ieONzvjz4Q9oujTVgP2MJha4\n",
       "vfSmAqZtHEe/QpMfEPmxV8ybXU1P4oa3b9F0ZaoD+wlNEJy9IXoFDKvbU34nMkmMqLV67zY0ndEk\n",
       "2Ws0XZjqwD6myboA92JTBeNDKt59R/McRtRarZYEgNBTmhRxoGqfI8NHWnquAAzEbAlMHsBygBaN\n",
       "nQPQK5piF9M7pjYsNmAf0mR5YEcpxDKjZjyD4RmXsT9f8hNYVw5QELVWre0cFdnO6oQm4eOnpkoQ\n",
       "WytCSEupZxaNs6SjOiRbJpmwPq/yQJMKsY+bXVPjdDqwj2iyRNLDTA/NqBnPYBRpL6ui5UlWQYOT\n",
       "nEi8aOYi1Yzbd+OyYQjFrVVrmsF6OKbJ+pytVgmifmXd5I45AdNz3I0hj5/fGrnN9PLHZbiNqXHy\n",
       "Hdhn3nRCE55RP6X45ki7w5E9IdRATFIQmOKnTrkbNJU9wOKsxPqZdm4p47dWrXleyrkpYRHnotF1\n",
       "V/G5L29e/zVNphtI3Oian8UOO0NxCzRvjhKWbsrKsBTdnuzAPhQ9dSh6eEbNeAGTNuiuj3u9o2y8\n",
       "dkL8m5iFGzQR1a3N6gFNGawYk/LRm7zBay38Pk1QaaL1weheeocmb7CYnq3yAuz1FALPyI3zknmn\n",
       "ly8zcKrvqBgn7RJd00PL+TzTBJYf0FQeL6O4oi9ZKOgD0csE8TEpH2gqPsHmLsTnNHVv4nveVLsO\n",
       "TG1PTRnYBU3g6bOEfJhRF71Qj0z18GRjiNV9w0OwEzQagpi0n+xCRRI9ZfC1CqapPM5NKr/iP4t2\n",
       "0xhrXzeAaWqtWqcYUrT6kCaalX6iGTMz5zRNnpdDTxysxN0hNs1lJLFraqSpA7vyJkmfHW+HGfUU\n",
       "ooBRvkl9nIbu7h7Xtmc8Kf+xGt8BQOxzw2RQoz6OL8j0Tj6wJL41ySBDL4nfNPzs3JT4pIHXJJOv\n",
       "Y6nENIk0t4RJujznNCKZ2Qg6jq13TY0q3oFd0WTo1blRj6KHZ9SMNzBELzEBCA5NnAzRgsnsH2nw\n",
       "JHpO0H2a0I1mc8AieuvbHz1cYbZWrS1xnJ0eby0BpxUB3Vx4sE1mTzQ18XVyck4BRXHnSL0+5Pnc\n",
       "FFCK6xxjYPdMbTJqhy65rAmaxvDAGKl3pZDVLJ7BoHsTCgKn+TCeUaNpBSafBAyz1RFnFEuqEmo3\n",
       "4dgkBFZXRFN9PIneP/+aLHr7KcRUs6eKqOVSQR9uv+PJqgfX6VeZ2F1TGbdKmy95bg4iKQ22ofpA\n",
       "W78SBD66Id+C8Sk0CRaPbmmIGJqSKub3Mn3D4VNwScgPUoj2OLrajZsr6j45uOTEt4ynV58nV6/8\n",
       "vV9ibpuqNMVVMa4EjJI9GyjqUb0JB4HHNG3ACM4oOJbGS8d3DlnV03vFix4oUwcTEqLGW87lHk3t\n",
       "8eF2Ix5v+fY6wigM0aixfuIB713x3zdVaUqBAwpN+bpjIlzMKIUYf9ayYecsdkjTKRh68N66pGG7\n",
       "ym2eadQQuxrEFsns8zU37/1edt/UlqbiTXL0plndtbXtOAMj7P7708ntJaQ3tm5iEjRuofr+zwLv\n",
       "sfTAVMadaTKVpsyM8jang6rGpiUIXNnadJyCYQfvH9JEX/wN+j9bLInnZealUCTfS8UMkqua3IWS\n",
       "cC9B4PtFTf+XP1R+Ax5hNG/8KeRWAAAAAElFTkSuQmCC\n",
       "\" style=\"display:inline;vertical-align:middle;\" /></a><br>"
      ],
      "text/plain": [
       "<IPython.core.display.HTML object>"
      ]
     },
     "metadata": {},
     "output_type": "display_data"
    }
   ],
   "source": [
    "mod_abs_subtract_cancel = Forall(\n",
    "    (a, b, c),\n",
    "    LessEq(ModAbs(subtract(Mod(Add(b, a), c), b), c), Abs(a)),\n",
    "    domain=Real,\n",
    "    conditions=[NotEquals(c, zero)])"
   ]
  },
  {
   "cell_type": "code",
   "execution_count": 19,
   "metadata": {},
   "outputs": [
    {
     "data": {
      "text/html": [
       "<strong id=\"int_mod_elimination\"><a class=\"ProveItLink\" href=\"proofs/int_mod_elimination/thm_proof.ipynb\">int_mod_elimination</a> (conjecture without proof):<br></strong> <a class=\"ProveItLink\" href=\"../__pv_it/theorems/595a023507b0231b41d727a3430c9c4ea214a5a30/theorem_expr.ipynb\"><img src=\"data:image/png;base64,iVBORw0KGgoAAAANSUhEUgAAAWYAAAAZBAMAAADwC5mFAAAAMFBMVEX///8AAAAAAAAAAAAAAAAA\n",
       "AAAAAAAAAAAAAAAAAAAAAAAAAAAAAAAAAAAAAAAAAAAv3aB7AAAAD3RSTlMAq1RmmUTNIjK7EInv\n",
       "3XZ/CtNrAAAACXBIWXMAAA7EAAAOxAGVKw4bAAAEVklEQVRYw82YXWwUVRSAT2f/pjPt7hASokbp\n",
       "Gn8SH4yN2+CDSSWhoKGWDPBgfBA2vhgw0PHNxIKLDzxYsOuDP2sM2Qc0IkYHYnxok1IjCSZGU3wy\n",
       "0Y1TRQwElgIphZYfzz1nZjszO3+YiJzk3Nk9e3b2u+eec+7cBUggDzQMuFsk3/g5kV8Z7iYp3Snm\n",
       "nK3JxIiy3zHmP2xNJlui7CXQxOWhOOYkXlEimazhafqbzteeK8tx7A3x6iXmteL1K3HMSbyi5FNb\n",
       "w+VNZobCtBi3h3htJ+Y9ItGqccxJvKJkja3hUrCZx2g1+kK8+og5WwdQi3HMSbyiZMrWeOYLdO2q\n",
       "B3sJewlSmCLZ2BpM4hWVzmXWBMzDNGZDElrYsW/82Gj8EN83EnhFSNpkhS9nPpsQy7X3+O4z1pYz\n",
       "OigbTgnYieaYzXyFRlXz3UFp3jd6lO3I/BzARwE/o3qZ27ye7o0lHV3vDg+FbnV+ZZqK7GRRvqyn\n",
       "pmC/AQcAvijCMWbOLNIlRYsy1BBykmYNM9YQ25H5NchpQaHxMvu9ZMxOddLXvTZetFpxWYXDEedd\n",
       "d5E1ZaQWOmiyHwNcA/kq/IpVV4H3W31DneNk8if/U/BMfTnbkbmzrqJ7pmel/emuQT31bRszezHu\n",
       "TE2n7OyHF33tc+mX3jmPw6Ot0tFZZUjbWV0DWERm+RJmsqncBPiKb5+dxaEO8qyPuQLr6LdniVmy\n",
       "qLjOOTiSNg7r25htLyEDFbuqvoeCd5PtdC3F40HMOFot5pvILGFYC1V5iblQFqsBmfYm8xOlDscZ\n",
       "yv3i3bsOjtSfBlMdGBpY69m7yav57CmD9yhkzi1Al7f9FXpDmJ3cANhqKHUXM8V5tSvOW3FOHXj7\n",
       "aV8+Q2YePme7YD5Km85lZ2uU3nrBMtviTF55495s8ZBTJPICdHsLcczwMr/UWgCL9ZB+v13cNjMc\n",
       "R0wdtrXy+RhG7U+8vW//Ut7rmAKT7YJ5RKyoPI8D4UiV8UcCmIVXCg7IsJlMeyuCucvy3PkceJmz\n",
       "Z50mpLE+8fbzsIks24h5DvZV4FW8uQ49PP3f0XHBbozuBn/14FSmyHbB3FFxymczM6fz1XZm8gKc\n",
       "2aparVaUl9VFbhS8uYH59YmMH9c+YGZpp1O206wHm9Ia+sqe6/c8dl375oaZGzyCAVYGm2MiBZQV\n",
       "t5atuIWT69Z9cd5gPfwksL3kKh9FJxypopjltv7sdLgcjHKL0AJqEPNr3B3nkdYnv9iaVHZF2Euu\n",
       "8lHroxxn2GQFPz+PqOU0dj1nN27CRoqBCYd5RvMgaYE1SM82fbf5TBVmL7nK50HGSekUxCDm9F+T\n",
       "ZyH3ocOsTtJGJ5+AfRTv04tfDztr+sbwpJu502BNeqqpRtgd5vzwxLo5xtmPj8la1DnlcM3eU2Jl\n",
       "iVmpsiaUsOmR3Xe2IpxEZ6vM9G0xw25bk8nfUfZ/fx7cGf81+eX/8dy9I+D/DTn+BPD6f/P/xnf/\n",
       "AEXfNJTJ69GeAAAAAElFTkSuQmCC\n",
       "\" style=\"display:inline;vertical-align:middle;\" /></a><br>"
      ],
      "text/plain": [
       "<IPython.core.display.HTML object>"
      ]
     },
     "metadata": {},
     "output_type": "display_data"
    }
   ],
   "source": [
    "int_mod_elimination = Forall(\n",
    "    L, Forall(\n",
    "        x, Equals(Mod(x, L), x),\n",
    "        domain=Interval(zero, subtract(L, one))),\n",
    "    domain=NaturalPos)"
   ]
  },
  {
   "cell_type": "code",
   "execution_count": 20,
   "metadata": {},
   "outputs": [
    {
     "data": {
      "text/html": [
       "<strong id=\"real_mod_elimination\"><a class=\"ProveItLink\" href=\"proofs/real_mod_elimination/thm_proof.ipynb\">real_mod_elimination</a> (conjecture without proof):<br></strong> <a class=\"ProveItLink\" href=\"../__pv_it/theorems/8f248adb76e47883c588815b43a2d42bbf773a330/theorem_expr.ipynb\"><img src=\"data:image/png;base64,iVBORw0KGgoAAAANSUhEUgAAATgAAAAZBAMAAABX1i9+AAAAMFBMVEX///8AAAAAAAAAAAAAAAAA\n",
       "AAAAAAAAAAAAAAAAAAAAAAAAAAAAAAAAAAAAAAAAAAAv3aB7AAAAD3RSTlMAq1RmmUTNIjK7EInv\n",
       "3XZ/CtNrAAAACXBIWXMAAA7EAAAOxAGVKw4bAAAEEUlEQVRIx8WXXWgUVxTH/9nPyUwyu0UQldZs\n",
       "qQhFpEu1LfigW4xpaRqZKghS0AUfxJTW6bu260uhfpD0odptS5iHPDS1tGseLDSgC1VQRFFf28UN\n",
       "fhSlbEPFj8av3nvOnUl2NrMziB8Hzp2dw585v7n3nrN3gAj2Us3GMzezdjGSrojnYiuePJytPLI4\n",
       "MP7k4cwcezTb0i6+All5eSUMLoqKbZnyQPg/Lb723J4nxnyAKk9w6+Tv7WFwUVRkepE92D5nOGTO\n",
       "y3EwQDVIcHvEmB4Og4uiIkvk2YMto+CGKnJcGaBaSXApBzByYXBRVGRdysPh/qFrlxPwHEfCxcVr\n",
       "pkILIoqKbKnycLidNKYCZlnGRbWerdXOhFdrBBVZv/KfJ3+YkDP9xYnPrte3XLegr78iqSYaQwru\n",
       "No1G1r9pG4v2jXNcwL0LfDtHFqMZzq863dSh6t6vbcoL5uIE7fgLOe2mFa/igI0R4KccjjNc8h5d\n",
       "4lQ8AzVpF2jTYrI+wHEB9ynS2bl2djOcX5WFcYx2dLJn8WzxRfa4HZ/uoBX7HvgP2l38IUqghINe\n",
       "tRq36BKr+vK+hTXOPI4LuE7HsFQOsuVH3/6kFY5VZNpk2RJwq7GZbv+WhBVXepJdQ0L1kzJwT8Bp\n",
       "/4rdVtEfAr/wc1JTYnCgTfngSuijJFMEF6un3ByU1zTwa6UFTqmk9ZZo5k4hQ0v7VVO7UnCi3Ooe\n",
       "3EMBFxMTlRnWZuAyRTm/SFZb1uwcLQjPHIqrvRwyr2liVd3oHehd1/T3RarGO1dsburZ9DS6qLfc\n",
       "lMO4b1mBrbbuzIKjmSvMmrmtAr5DvPR5355D8g5+5LiEGx90c1BeAXej0DJzpDLthancGO85bRrd\n",
       "Uq7dkbdLXOkI+5j1oiopBYcTgsfCDm/PHRfzcFlMnq+z6193VFHhuITblXVzUF7TSI/kW+GkKo4R\n",
       "DRs9OFo5k9Zlsys9wv7a3vexgQI7CO4W9pfwkXiKhR7ubJdETUyLNJVmuNjd0Woyx3EJ11Fyc1Be\n",
       "M/HdcGtBsAriFd4sl8s5WtaMXNbOLHQLX7rSA+yjjdhaWvQ99xe8ej979EEl3X9ETJne3xiSq6fP\n",
       "f/TC/Efifbst38ytry95HRz3jkyUg/KaprGhtc+pQq2msU+1ElUQmTwMZ2ZZu0vsUW13m7gHRzko\n",
       "r2kmP3TmPs/tMooJ0VQYroEPcFg0Lxsvi0pxpfECe1Rb2ybuwVEOyitayW+FueESV4/dQPobtwm/\n",
       "h/05c+dEn+gShzztIcy+C7Ogkw7FXTjOQXk3XauM9rU7CR8uUxMmUwcVfSbHmFtYkazTbhP3HdMp\n",
       "b6RjOsMl1fonZnKk6+zR7K928cf+hmC4uLp74zl+fX3c+t1aboo4T+W79ff/AcclJaBbxwOIAAAA\n",
       "AElFTkSuQmCC\n",
       "\" style=\"display:inline;vertical-align:middle;\" /></a><br>"
      ],
      "text/plain": [
       "<IPython.core.display.HTML object>"
      ]
     },
     "metadata": {},
     "output_type": "display_data"
    }
   ],
   "source": [
    "real_mod_elimination = Forall(\n",
    "    L, Forall(\n",
    "        x, Equals(Mod(x, L), x),\n",
    "        domain=IntervalCO(zero, L)),\n",
    "    domain=RealPos)"
   ]
  },
  {
   "cell_type": "markdown",
   "metadata": {},
   "source": [
    "Since $((a + n \\cdot L)~\\textrm{mod}~L) = (a~\\textrm{mod}~L)$ and there always exists an integer $n$ such that $(x~\\textrm{mod}~L) = (x + n \\cdot L)$ then we can also eliminate $\\textrm{mod}~L$ from any term within a $\\textrm{mod}~L$.  That is $((a~\\textrm{mod}~L + b)~\\textrm{mod}~L) = ((a + b)~\\textrm{mod}~L)$.  This reasoning also applies to `ModAbs`: $|a~\\textrm{mod}~L + b|_{\\textrm{mod}~L} = |a + b|_{~\\textrm{mod}~L}$."
   ]
  },
  {
   "cell_type": "code",
   "execution_count": 21,
   "metadata": {},
   "outputs": [
    {
     "data": {
      "text/html": [
       "<strong id=\"redundant_mod_elimination\"><a class=\"ProveItLink\" href=\"proofs/redundant_mod_elimination/thm_proof.ipynb\">redundant_mod_elimination</a> (conjecture without proof):<br></strong> <a class=\"ProveItLink\" href=\"../__pv_it/theorems/a8c182d3e9121fbd1cb948323c7d9dc67b7c7c320/theorem_expr.ipynb\"><img src=\"data:image/png;base64,iVBORw0KGgoAAAANSUhEUgAAAZMAAAAXBAMAAAA8ZL8oAAAAMFBMVEX///8AAAAAAAAAAAAAAAAA\n",
       "AAAAAAAAAAAAAAAAAAAAAAAAAAAAAAAAAAAAAAAAAAAv3aB7AAAAD3RSTlMAq1RmmUTNIjK7EInv\n",
       "3XZ/CtNrAAAACXBIWXMAAA7EAAAOxAGVKw4bAAAEw0lEQVRYw91Xb2hbVRT/5SUveXkv/5g41EEX\n",
       "EBTRunyYBYfMjHZTKXXBoR90bJENpJvMFPwynDUT0Q86E9Q6M0eXQRHKhk39s7kNa1dXnMqkE2Vi\n",
       "Lby54TploXTW/R+ee+9L3kvpn5v3TQ/87ru5Ofe+8zv3nHPvA9xIxoH5JeBWKVCfNW4kErchIarp\n",
       "Uul3OXPWWYixH3fWR+VeB2aTC8P80XuCmjPulJTSHN78LcUe+u4R6icEVrKR5+pioqdtzB4wU+K5\n",
       "keAvulL6aC4jXuFU4E9Ss0lgO1sxXxcVX8LG7GJZOUnwJl0pNc+1fFRQibIYXyrAnGHE66IScmA+\n",
       "KupV1n7nSmlQgsp6tpehIoeXXOuvL1XucmA+KsYIaze4UVLSElS+5FGWEDgxNvZ9fVRaHQgsOsdL\n",
       "z+vHOs+b686noD9+ll5iDIwLK/0Np2nL+8VEKSU7jlnWdwx0sr72/CPlbrXcBfSUWXYfKecElWfL\n",
       "C2ihmMCjwC4J+w27u8GBtZkgjw6cjGsXU95B7MigG/oQDGFl3yb9EtBkzZxfqW2MycmKr9VvsIeX\n",
       "g/AC5B7AQ9BOIWhifxxfiQr2T7EvAy/tH0MHAjGZXLe7P9rQv4aPRwd2A1egXcYokMsG05XitKSI\n",
       "H4D7rJlSShUJ007tT6CN/wgOIpqnSeESm/9+pYIpVxEyoVBWMQSLRsqxQOOBFVt4MFhVTRnduNCs\n",
       "pTJswzeBsKj+BeAavUWjYhQt9ZnQhZWr2DBy1kwppWp1IbNWg9FmVPI0g6jkiN81/SbtJDfal2bD\n",
       "2gQ4FLOa9drpQipi4CAzzsOat2/vglkyXpqVSihvrcmsvElWKmRcNJ+rWjkKlexea1OZX8lJ5duK\n",
       "CqNiEpUlNHhFq1IhP66PQ6UdYUB6eWVyS5aOzQiWsV0IUd9HeQTT9H4Mo6WtZeUMAUaefbjGSu7w\n",
       "pO3wSfgolxohq+TIFQowcr93ooYK25W/7V2hY2V1EQrFOAM+YYflvuUH+eHPqPzJDqtc+Q5xlzDN\n",
       "SE/trnTb6ItjoZJxWIljVOtT/nwlDS6zcMeDtVTmVqoIpbc+CU/6bieVUBLqFNoruRLNUrbCmxfA\n",
       "Nsp6/ZR2Cb38cmMEuhmlC8WzOk8Xs7T1TC2VfhtBU/lJ/NPOrZzCW1lsRmAYnot8+Ba8Z5VtaaVq\n",
       "zYwxbzUm+S3AL6iktOPwl7AthcX8quFJBJOibPPS7WGhlNQGsYZT8X3IGbyLJpVrm48dmlbBdtjQ\n",
       "G77oGGdj26/fds/12IEbpUBrP/mrZ2D8Bq+Lez9ji/wsJkopVUWjkNn71xsNWdZffPTVPUeNF0bx\n",
       "4pFb6bWt5RwPQn0Ru92EUwJWikViaCoUCvFIxHiCjRzHCm97ofAOBdjn8dpzJZy1IffBMuJK6RfZ\n",
       "M/tlC+KQygSXFd/kuxJRn2GH0gSGtJLIlScP185kF78KpO+fLpSWylJpdt49Q5ncmmKwyHMFh5N6\n",
       "Cb9SHu0SuWL0TJu60wEZ2epOKSj5acgu9vblXm2+/1MEPqDeU3+UelZpQ3itTKtTBKlbNust0y52\n",
       "vQ7IyE53SrrktwejPJ32vkLBSh5FrHWo0DWjG0wbMt/PGZdKnXJUzlmYWZ7G/0YS/0Gb/wVTuNIW\n",
       "OcI7+QAAAABJRU5ErkJggg==\n",
       "\" style=\"display:inline;vertical-align:middle;\" /></a><br>"
      ],
      "text/plain": [
       "<IPython.core.display.HTML object>"
      ]
     },
     "metadata": {},
     "output_type": "display_data"
    }
   ],
   "source": [
    "redundant_mod_elimination = Forall(\n",
    "    (a, b), Equals(Mod(Mod(a, b), b), Mod(a, b)),\n",
    "    domains=(Real, RealPos))"
   ]
  },
  {
   "cell_type": "code",
   "execution_count": 22,
   "metadata": {},
   "outputs": [
    {
     "data": {
      "text/html": [
       "<strong id=\"redundant_mod_elimination_in_sum\"><a class=\"ProveItLink\" href=\"proofs/redundant_mod_elimination_in_sum/thm_proof.ipynb\">redundant_mod_elimination_in_sum</a> (conjecture without proof):<br></strong> <a class=\"ProveItLink\" href=\"../__pv_it/theorems/2b2686f8c7425f9a3c012a6b3795924ccb6f08770/theorem_expr.ipynb\"><img src=\"data:image/png;base64,iVBORw0KGgoAAAANSUhEUgAABA4AAAAzBAMAAADlW1cTAAAAMFBMVEX///8AAAAAAAAAAAAAAAAA\n",
       "AAAAAAAAAAAAAAAAAAAAAAAAAAAAAAAAAAAAAAAAAAAv3aB7AAAAD3RSTlMAq1RmmUTNIjK7EInv\n",
       "3XZ/CtNrAAAACXBIWXMAAA7EAAAOxAGVKw4bAAAMPUlEQVR42u1df4wUVx3/3v6cndnbXawStQbW\n",
       "X8gfPdgIRcEGtkJraVNdqzambco10Ji2prckJA0txdUYNfHsrVaUqwpLRSxH5VYKtYXkWDCEUqVZ\n",
       "W6ykcHZOSKFQjuPocRRC1/djZnfem5ndGXZnjNP7Jm/2zXfeft933vu8977vx3cXoBH19fWBqyT2\n",
       "9RVgglwsa0tV/GblXXd1a69U0lbTrp2oyqujzbSpRSqVPMD6ynuNv/FPt1Vsz1hO2paaqNGrI+EN\n",
       "JeLP4+vc/28cXMvehpXgJIVbnM5ZLbKmTzo8hAN/J3v/HyU4SVblB2UntbAq/V7TJ1LCOzhYxcLd\n",
       "V6TBSULyNx80eXZmH/0cqtyHxqtjjuphKj12lBZfbOqFa9DVfOB8zTs4+Dd7u0kJThKWv8yssx5T\n",
       "IlfwJeTopMdc+veU4ouX8fVBUwnXFbyCA3+JvV+oBK4LNW4SQbOW8o26XCx/1EwhBQfCZaJdup5A\n",
       "4+xNldI98JtOqeJK8fWQnnG2OZLSXsFBlBsDSkrgenLjodRnNsLOqMtF8oOXGuAgRj9frifQOHtT\n",
       "pfQPXm6Eg7PkM2rabwTHvYKDs+w7+jppcBIHWL5UboCD0Aj5WOooDpY2wkEX1cXcQLjPKzj4B3sb\n",
       "KNIAywdWGxWhCdsMB+FrT8g6LpYfmjKUxL3/d78yvC44vAZg4/BN2AAfOKngIE7B+GceBwPHcvrs\n",
       "peEv2sFBVYYinddi13CPUnwXmGmBAc0seAMHwkVuwEvRENwP6wv6IjRhm+LgnmwEDQB/ZLlYfv+D\n",
       "IulS2z8EPdfDDSD8CyIyiHtBUnCwhI5XcziBjycDeV324VdhsQ0cUBk5jXRWi2eTsJsWX/CyZmp9\n",
       "+yAmrt30y97AQRtnC7QnaXg2BbcD/L6TK0LCFndNKljDgfhXCKABYIDlYvmoHb2C45ESxPPQk2sv\n",
       "YkhGOqvzBaUmruNwcASisjiH0wp9+RULSqkPsAyAwxrprBa/qs4XFFD6SqblFyl7AwdRrsuLZmj4\n",
       "Gi4uYZi8ZWBw8OjBwUGckrADpHK1bJZQw/k7bTiBEVxHPBfLvxmAtLVIHuJFVAM9ScxArUscq43M\n",
       "IjLYOYHYvHziDK8VQkAjpWoPAjUTtUetTa0W4vuomWdqRkoBhBHz6da4N3DQkzLGwQFSIb4y15QI\n",
       "O54JX7TWH0Tzaoky3AxGU3BUrQEZ1cBMxHsPemo4wCPzF9DAohMIteXcmlZgRSnlQbQ2sNyjwUFV\n",
       "C6GGA2yk+LMQNO8PxPPewMHZrOG4gNqEf0SPA8r2F6ziALXvBQD3JvTjwqjSLNUawC3xXU1/EESV\n",
       "AYlalc/QDscdOq3AilLKAyJDPJ7UCGK00PQHS1DSNrUYDO0D2OMNHPyWH+9kEsRRaOv8nB4HlF2d\n",
       "9TXEQRIm+x6VL7FcnMdFbGpoaiCahuAYhPKqfSBdpOu5c9mvxhEro+sPUJsMWlBKeUBkBMjkeC6H\n",
       "A6rFA1X7YHeOLD778+YF+Dtv4OAAd4+nSDisg450Wj8uUDb8jDPJ+lGhiheUCFPjvkOB8NNltjKx\n",
       "/Gvgl3QEpjWQEV6CUBHC+6DtPNUf9Ua7US63cVPOPEg5HQ7QZOEFC0opD4iMPgmvBKrSWS1WZWAq\n",
       "HS7fRMpeUibSJrRbiwPS8X26Lg7aiCYpF3FgJUeRPx4jlGnYcPrHU3J6HFB2+CneYMeFekiNaOYL\n",
       "U15YfpK0fy2XyN9OFBOm7vnB+j1S1xFYsesj6H7jwMkruDA3dJ2b1HVO04DU+cKuWaf09oH03PyC\n",
       "BaXUB0QGWRtSpHNaiLcN9+DuX5xcmTS5kqjfqBZkNDjAiw/wnbo4COD0oayLOLCSI7aJWDqsBFpy\n",
       "ZcM5+Qp4xM56Yv8zHPew5dcIl40Edhhp1Vgp5kE8q5HegB6vZ2jLGhx8H6ucr4sDAcN8pZvjgpUc\n",
       "fbrtntmg2Vep4oDZogmv/cmtBmwtMdtC0wIcd7bl1wikjAR2GGhlQSnmQbdWegNaWOdZf1qDA7yB\n",
       "KSXr2wd483Kbq/aBhRz9F3ULI1kaSNk+f9mobUUrlRE7umw4YZCHNTKE8WNdA80rNWS9WdZt4fGE\n",
       "Bgd+vBrbwE6chT46XcWBhRxj4zqLIU+Dk2Rd/q8d02Gpdel1YRvPa+cLBwcH/9YAB9HBwaNFV3Fg\n",
       "IUdJv/27WglOklX5MafsqdC3S9aln6i7INupxcEtAMhcFangnCEOAjmIFFzFgVmOGmwELsEHkgLH\n",
       "W1UV7WUtDpZDGE+8ZY05HD60A25I1HCAEiy3k8GP7HbOHc/f+DCDA7Mc07Vo2whMUHM4KGlxEClI\n",
       "zBzziY+tgU9KhUBBs470FOywk0GbnUFEGOrNxCT4S5FZR6I5fv2cYuz5jiybLE/gwEkc+GTGTAzc\n",
       "gteV5LSkGRfQFNiWmRjN2Ui8CCWOxWCezOCA5hgrqciUi9JjLA4+qONCC3HAjAvQOR/NT4eIMXw8\n",
       "SQ9ET//sagYHIT+qJfG506p1oolqTOkqs2f44/hjYH7Vpjumn8QpPHKyGuHgVJrBAckRIgkVmbLs\n",
       "3wrbFx1aVO27pHH9LAmc92Nxkpr3TrFFrJ0I29BkfWscDwMBXyedF02Xnr5biwNpGnr8p2yPqoAm\n",
       "WqMa80zhOKnP7qoMoaS3PylvMwGDFF6XYnBAciT7KhSZshzbyPYHMd36gSt+LE5S894p9nCQYHCw\n",
       "Ct0+Sta5+qQ0XbiaDum3tTgI4y3KRXghayUxG3A0OOMmroPHzyM49iQ5NbUYnlGSB/Ji7o7j7Eo3\n",
       "5gEyQshqWyzwmzxjJ9IcAQOLIlMurjzG4kC/juSCH4upD0trqHnvFDsUTzM4aMOj+To6N035H+jt\n",
       "/QXCwZaQFgfwURT2wRAIHaRicTQK/azYfWShC9NLcCO5V5Pj0xslkbXrogos5vT29iZjMekOFgck\n",
       "R3gH1CVVefGL3HzBN8a/lxt+LMscld68d4od6i8Cv+8sXiKmXTwrFGl/EJzB4AAnGYcn+6C9oEbD\n",
       "0M2aB5jpI8umI7AXXfH4TZKTjZEsNzRgnn82wE8JzGPBuwssDgj9HOAPFJmyvCPJrh8I5/n3csOP\n",
       "ZdRaMmtZOeCdYoeYfSalcXWmxSLZwSBboNdDtW3Xzh/sF8bm4YpFCUkU1uDoluoFM32fwbE3/Hl0\n",
       "vR8kgoMtEMqgCoxkNGkp75FNQJeL0LxxZ9oAB6iqd1JkyvK3dnKvoftZhhI47sdS82GZYf3Lbnqn\n",
       "2KGZSX1/MCUr7CWVvxJ1DMLrWXoEgMHBNz9/OoUrFiUk0UAOR7uzwn58UZhrMe+Hw/i6YtYpgoPu\n",
       "ZHjh/AJet+xO0rT7Vd6X8GYbEn3nW8WNN+txIIyDL0GRieaNG7nXeJ0v1U7n/VhqPizO4KB57xQb\n",
       "RA726c8j+Yga4ou9a1i7np1zFkhCTDtj1SioMbGcVGK+anJIkhIsyEqMEI3h8xtbentZC7KGg7cu\n",
       "b+/KEGQGH35IXMTV8Sf4BVcX/FgUHxYw8U6pcm16p1STN++dYoOmgiEO7iI7GPr5HbP49842lJAW\n",
       "SeWKGiXfph/rCkrsrmryIOnEuiplJUb6VxozPEzBH6HRIVOhBVzn6IYfi+rDYuKdonJteqfQ5ALY\n",
       "9E5plg4Y4yBlvIOhP5+YMorysdq93ywW+1TaCg5MzZwk972k834sqg+LiXdK9VizPe8UnBxdc63w\n",
       "TrGxavW+MQ5MyLlzqr4PQzM4+F/4sSg+LIbeKRquPe8UklzBtoqDq/ZOsU5e8WMJlIxx4KQfi+rD\n",
       "YuKdonLteadoTl43751indo84tcWHDMcFxz1Yxmtbm8ZeqcoXJveKSQ5bP0y2PROaXY5UfYGDsjB\n",
       "bg254cei+rCYeKeoXHveKTR5ehq0xDvFMlE72wM44CYMbvixqD4sJt4pKteedwpJLha2Q0u8UywT\n",
       "dXPz3u/iuOHHoviwgIl3SnW5yZ53CklO1pBa4J1ilbzzuzh+7iSKG34sxsk6jLg2vVPwfkwrvFOs\n",
       "UiThFRzAQ+ytG34sxsk6DLh2vVPwPlwrvFOs0pKCZ3DQzR6GccOPxZBa4p0SS7TGO8UqvQqewUGM\n",
       "LQ83/FicI7wk3grvFIvkpd/V5X9n2w0/Fqfo/u4WeadYpDvBJg5ec/t/ONrnWf4fjlASvEJfvdXV\n",
       "7AR6pEns25rH/8PxduNvTPwPhxdpE21q1f/h+C/Ke1VRo48PcgAAAABJRU5ErkJggg==\n",
       "\" style=\"display:inline;vertical-align:middle;\" /></a><br>"
      ],
      "text/plain": [
       "<IPython.core.display.HTML object>"
      ]
     },
     "metadata": {},
     "output_type": "display_data"
    }
   ],
   "source": [
    "redundant_mod_elimination_in_sum = Forall(\n",
    "    (i, j), Forall(\n",
    "        (a_1_to_i, b, c_1_to_j), Forall(\n",
    "            L, Equals(Mod(Add(a_1_to_i, Mod(b, L), c_1_to_j), L), \n",
    "                      Mod(Add(a_1_to_i, b, c_1_to_j), L)).with_wrap_after_operator(),\n",
    "            domain=RealPos),\n",
    "        domain=Real),\n",
    "    domain=Natural)"
   ]
  },
  {
   "cell_type": "code",
   "execution_count": 23,
   "metadata": {},
   "outputs": [
    {
     "data": {
      "text/html": [
       "<strong id=\"redundant_mod_elimination_in_modabs\"><a class=\"ProveItLink\" href=\"proofs/redundant_mod_elimination_in_modabs/thm_proof.ipynb\">redundant_mod_elimination_in_modabs</a> (conjecture without proof):<br></strong> <a class=\"ProveItLink\" href=\"../__pv_it/theorems/d2995dea38941c5f6f63c2ce77ee9b5a467cbcac0/theorem_expr.ipynb\"><img src=\"data:image/png;base64,iVBORw0KGgoAAAANSUhEUgAAAU4AAAAXBAMAAACWi7vRAAAAMFBMVEX///8AAAAAAAAAAAAAAAAA\n",
       "AAAAAAAAAAAAAAAAAAAAAAAAAAAAAAAAAAAAAAAAAAAv3aB7AAAAD3RSTlMAq1RmmUTNIjK7EInv\n",
       "3XZ/CtNrAAAACXBIWXMAAA7EAAAOxAGVKw4bAAAEb0lEQVRIx82XX4gbRRzHv/m/m83tBasFW7hb\n",
       "8MEXr42oBy1HTOm1VUo1WFTQgodW9KqcOfClePRiEX1QTGg9NRbTPTyEo9VbtbX2Cmd6gtZKJUK1\n",
       "pefBniltsTaE0NKaQvE3s0nqXpJ1t+TBCbM7szM785nv7/eb2QC3kAL0s5cSjnoFWs53a+kPSHF7\n",
       "PQ866tVqVJ8OhFnhLkeYbs2SU/6dN06eaBsnCsA6dn/BEeensNZz1Gjc2j5Ov4rXmf3TjjjX/gdn\n",
       "p9FYbh+nJ8ZQISmOOHO2OH2V9nHiODwRktWZew7Y4pTybeR8DjgxP/+TI06vZow4PLODVYWXNxSz\n",
       "vuIYMFFkzn6kmOLT+bsWFPucgeXndQvOL4CHgI9sjKXddOoI5/T9gL0qq3fchtQD6INwCqKO/Qq+\n",
       "5dNNbQteteLcNM/SL1XOLQmxYsHZS7IgELbBGauXOhTOuT+CTbwu5tCZRirZoUG4hvdr8b5Sxc+2\n",
       "9Qx+B2/egvMemkY1Nfd8vWaI3d+s7gHuua1LdRNnKM45HwXmDM40OjXiTBH/9eANUpKPt55qtjm9\n",
       "JXRY7copAtHrYSQsZOKyhEPMxi52effOMeia9Fozzh8RvFLn1IlzJT3/W6hzzsFXts0ZSrO3WnNu\n",
       "oTwQrdX6k3SayFjN9AtR2Uu+C133fI4D/Sf74ya7k3CekomT6Xn5pp5leCuLOeVZEmOwiX9O6Xiw\n",
       "Md7/Ump27aH85Ta67IseghwB5/yTaZcqLmPHFeOUJ0x6UrAwzjJcA3f/mzMUg+8KBmv+eY158GI9\n",
       "n6W8vImeUwqWuhOLOf1K1a5YRXmEwih4SriKSb5kKZBlvJfUs0G+FF3bXjBxSmG+8ix6Yvyh3+CM\n",
       "C8fg1zASRzd7H0vwXuP+uYvysSacou4+6W3QU1QMuwIbmScyC8eEHDZzTu8ejrcbvT4+n/7wYXO8\n",
       "C3nOOX7xrS42htB9dOfeo9Irc3j1yB204o3FFDfm+IEII5g8vWLZffS8cFFFMUp6CjcW1MZ47/pm\n",
       "+AKz0sc7Fz65Nw45Og25cE4x7Ar8Wo8NOYzeTCajyLL0GPiq13gGM5ldZPeDimn/xGk4+K4LlMkV\n",
       "eiDGg3k6IMg/5TNyrPV5NKr40+48xvAZaRhSuF3pFMhXe0wlxNXq21xP2fc0W28Js4Jm+Ofj0+Zh\n",
       "73fEWcEevMM2luyoyvxTjHgGLDhVURNyQgni+Qr3z91sj/dGanomUptVUeX+ielYUMMZT9o4p2hf\n",
       "mljkNgknnCV0EWcfcPszPI5CSW/YghMuXch5cnCtK3FOsiuwvf7FvHbFVwh8SKUnzmkT64VZvFGk\n",
       "ZvI/39BLwX6zABRfjjlJzyFDz05uTmtO0tNf1bPEfOUDc/99mUx1frcBdDgz1mz2HZCT9jgvMM4s\n",
       "cfqVwHFXJEBzdqirGntVt9ckcYrESesZUZdghDiZXeWWf7OeQrvS+GXP9092a5g5m8BM9LckhEf0\n",
       "1r2D3bG+54evQypugFS49CK4XVunCP5n6R/AQHeGRDCU5gAAAABJRU5ErkJggg==\n",
       "\" style=\"display:inline;vertical-align:middle;\" /></a><br>"
      ],
      "text/plain": [
       "<IPython.core.display.HTML object>"
      ]
     },
     "metadata": {},
     "output_type": "display_data"
    }
   ],
   "source": [
    "redundant_mod_elimination_in_modabs = Forall(\n",
    "    (a, b), Equals(ModAbs(Mod(a, b), b), ModAbs(a, b)),\n",
    "    domains=(Real, RealPos))"
   ]
  },
  {
   "cell_type": "code",
   "execution_count": 24,
   "metadata": {},
   "outputs": [
    {
     "data": {
      "text/html": [
       "<strong id=\"redundant_mod_elimination_in_sum_in_modabs\"><a class=\"ProveItLink\" href=\"proofs/redundant_mod_elimination_in_sum_in_modabs/thm_proof.ipynb\">redundant_mod_elimination_in_sum_in_modabs</a> (conjecture without proof):<br></strong> <a class=\"ProveItLink\" href=\"../__pv_it/theorems/60bc85ae49c188e24ecb35a1eed35a1e1f2655bf0/theorem_expr.ipynb\"><img src=\"data:image/png;base64,iVBORw0KGgoAAAANSUhEUgAAA+EAAAAzBAMAAAAKiRRsAAAAMFBMVEX///8AAAAAAAAAAAAAAAAA\n",
       "AAAAAAAAAAAAAAAAAAAAAAAAAAAAAAAAAAAAAAAAAAAv3aB7AAAAD3RSTlMAq1RmmUTNIjK7EInv\n",
       "3XZ/CtNrAAAACXBIWXMAAA7EAAAOxAGVKw4bAAALRElEQVR42u2cf4wU1R3Av7c7uzM7szd3tmpa\n",
       "bY+1Pyx/FNwUtS0lxxqRSo1xa39Gm3JVmkZsuCUhMVgK28ZYk167qxbLYXsMilYOy60IViE9DxtF\n",
       "aGnPllIiXDtXLv4Aex4nJ3BEtu/HzO68mdndmeVmuBv4Jjv79s2b9777Pu/H972Z7wDUku7ubvBV\n",
       "xO5uBS7IBAvB6Kxq/1M87q9ujcViymnaNRdQ1uo/a+n3uuIpgFixmK99yT/91rEx7ThpQ/IC0lry\n",
       "C71XfxEfwlOc+OXGH7zXivETnK5OybhLHuoPEPFwm/GXlPZYsf86TBdRPVVjm8v0zwSI+IqMn8RD\n",
       "Bdi41/6UfEgre7D4PTTRHJ5UxBuTwSH+b/CT+JPos6jCuVV62R/gQ1SZTMRDewJDPNxXg3jE3rD7\n",
       "WqUMbU+UMrkefUYrXNmklS2cJoqlqpXvJtZOKbfE9WYaAOLxQg3iIfsJdWalDG1PlDJB7SsyXoO4\n",
       "PEa+9lQr302snVKuiS/MBIX4u4qfxEPITJT6axCPjpCvOycV8WhzUIi/BhbiS3tX2tQif/mbqhvi\n",
       "THo9Ew6NKNGWwQQeu3/45eGuyPBqgA3DN6DfO4Zzms5NbUbzuERRGv6CDVv72IrEew9n6yMeGg8I\n",
       "ceGkhXhkF6xTrLX4nUxs3A1xmv53bCZRNNH2LBZPEBU/BLlrYA4I/4KYCk8n4EVN54V0ornW1OL+\n",
       "Dgts2qFtbEWlfpzgEK1sdeLcAJFmJlI8ExDiDX0W4k8n4WaAx9vYWhT/BFw/bHrmMofEaXroZVE0\n",
       "ot59lQJ/xeFYHzTlIZdtLOB290jZVtfIf9Z0aQFdZtaKxIo7LlIcEj8IcZTkQB19HH4bEOLxZgvx\n",
       "W3DFCMP9WnM/tJc0d24E124KNwaAmwcG/jIw8Jo1u/IJmh7YTCCO1JoPQIzxWB6aCoh4DrWC07gL\n",
       "9Wg6t+MGA5BjL70FUbVoRWI50raMsRWVGq97Hoe5mWAQzyUtxHeDOGbYV9T6TTyPiYzBqqyzPk7T\n",
       "m4dbTPwgREZ14ioifhWKOyUYiL+PPp9H0wJ76W7yw6QViW1K8yed9fF4vn7iPclgEH83YyaOelt4\n",
       "xFq3PSrMBZjtmDhN/91m66g+qnU1nTju48cNfTyCZ0x03Qx2VjljR5zEhhWnxHvweXEoUcc8ro2G\n",
       "U5/4b8BCfBQa2j5jJZ6AS0OoefzR4TxO0t+rjrMokIkGJ7GlYCAeT0FkDO4qzeMSwicntcotX/oe\n",
       "agvWPk5iSwu+WsSbULZpDi8RTcTll3BTm9ZSpaZi/cEgvttCHLpgRiplqduYGtrHoZn0dZOBhofg\n",
       "njb9UD5B0vOPmVBIqKN8GH5F7XZKPC28CtECrEjDNDrDNKIR5kU0Pd/EXopM8uetxEls6Wam3vPf\n",
       "ZzQrK4UMdSnbLaWsffwOfHinWk1JI0bipMN/sirxBqJR0kfiTkoUj1uJrz/6s5asdfxseX7pWwDL\n",
       "FVMf34cLS+kHQ1Mg6WMqC0hAua7fSnQSpu386bqdUvtBWLbjEpT+puEcMQXXtx+7qP1YuZeUGsuz\n",
       "rYqVOInl15pi9zGaGbTdMesIXSKaiT+EDw9Wq6rwmJE43kGAH1QlzuFOF834SNxJicIZK3Gt8vrt\n",
       "1rh8is+42XPrecqUyQHH/4C3G6nttVoG97jZc2vKYOIbD8y8bBZqaoePKjDceoc2RdSqKp34T7CG\n",
       "+arEBTwOLPdzVHdSYmi0JnHm7sTyB+7TOrmzOylXcqZMrnb8D7ikTfm2WvFrHviKTdqKSnUQW50f\n",
       "RbbDDIilxX6uAHgeF07UHg514vjOnpSoPo8vRl9bfJ3HHZQYPlmBOP/cabv+8rdi0ZUa69802z+O\n",
       "Rzm7tmqvVbxYHHGj1CAlPg6PIvho1d+1SiHzuNxX9bJjRuJh1LaiNSy3WeirzVfiDkqUT1Tq4x6J\n",
       "mHea8tee6XAnJT4CLYj4HICLF1LLLdYMYpW/f4qx1fcODPy5BvH4wMChgq/EHZQome9cylmPFVvp\n",
       "MJ3slckT/Tbuym/pxFEfX6L1cbR2k5TKF77CEL8RANmLItUya0ucy0JM8ZV4pRINrYAbh/NNuCFa\n",
       "J4h4FyIeTfB7GpI8nsdzGbiiyoUDDPGlwCM7SVIN9ii/bxvMaS4TRwmWutHs/rzLvzLjueuWMMQr\n",
       "lZgqBxtG4HyV9cfDr3xrWgF6hzLQ27o/C3L7jvljVS44xBCPKewE+MuProYrJIVTDDswa91t5ja4\n",
       "mQKEwc60LMEfCswODC3xq8f0RfHBRZeqF4jXKyzxkMoYbtyNeEdGTUnGPbeZ7gy3uJsZdR5KLMsw\n",
       "W2WI0xKpCYrboFqQfsQSPw9H9bqFHdWhrRWtBgeJNTqUoE/eTv/0SoZ4NIx4iM8e1U0SQ9Bgy5Yi\n",
       "c8PkVnRva8nKOmxdmWhxeBsaEz+SYoiTErEJqrVBVQ1vhq3z9s0rjUeS2VbnpzQUTze4WMsNtqDF\n",
       "7+YmPIhzoTa6BJkuPXa7kbh0JTr9+0xOV8sQLEs58n/KECHXUcpDsK4XtbiNBLvEdyUZ4qREcvuA\n",
       "tkFVlTewfVw+6fPqzFvZ5mXmO1niK1BHupfc3+uWUnTrZzqk3jYS5/El8/COD92cxsHIzBtMwzM+\n",
       "H8Ohh8ljPwvgKS05lxeztw6xQHAcIGOBbCnJ3KN5xnKjJWITVFsGq4Xlh1niYZ+JV/JOmArEj7PE\n",
       "G/Cs20UXfMnwXZ2dDyHim6JG4vAR9HkZBkGYQRDiYBx62GxfJjtCWF6F68hvPTl+mKBPZC2tuMbn\n",
       "2s7OzoQsS7eyxEmJ5I4QbYPqghdMtnpozOc+vmjKEhdPs8RJ3DgxtpoyQoH28chMhjhOcgIe7oZG\n",
       "RQ/y0MFmiyND5OGwEbLXi+dZkpzs/2dMAzuOC18N8HPSx+XI7QpLnMiDAE/QNqiq2xLselx4rybx\n",
       "ifVQGK2aq+9+B26WQ2esxENtKbFANurJ3btroNRfy/fHdwljszFClJAEYTUObiodcGToUzj0ejiP\n",
       "jt8HiRDfBNE0QhVLG9LSuHueBLrRglZn21M2xBHU7bQNquo3ttsNVVWJT+jz6iXvhEnyFLoLoTed\n",
       "TH28JSO8RDAvR51d2J+ht6gZ4l//3NEkRogSkiCXxcGOjLALH7TINTjuvmF8XDbrCCHekeCvb1Xw\n",
       "3l5Hgqbdpcd9Cd89Qll/843ChvlW4sIJCDXTNohWZxtM/2O/v8Sl/ilLnN6CsD4DEyIb9eILnatZ\n",
       "m5rdAlVIQizb5VIQ9JDYn9BCoVJySJAKU1QtRISGLkGfTZ2dacsuK5U3Tm9tT5M2GFlytzjPtCfw\n",
       "MRviHnooaN4Jk8bvwM2O2Ig98dvoRr1lFcXMCO9sQQlpDRQ/0IPkavrVpWih20rJI2SGbi/2ayEy\n",
       "RNKQrVOP+aknSxvUZK5iIe6lh4LunXAO/A7OVuhzsFbiSX2jvgpxmtAuaA6Vf4crheRPpJwQryS5\n",
       "hIW4lx4KunfCpPE7cC6rVHviFcS7JxtDF8PZEPfZQ4F6J0wivwPnEhQPBa7PQtxLDwXdO2HS+B04\n",
       "l49DMIhHxszEPfVQ0L0TzoHfwdlKUDwN6YO+DHEvPRR074RJ43fgWMJB8SY2G+seeyjo3gn1+B2Q\n",
       "Eiba78B5hQbmjQHWt4J46aGgeSfU53dASphgvwPHEpy3goTH7ffcPPJQsF1jn0O/A8eitZsgvN3r\n",
       "7hrEJ9ZDAexyPYd+B05FvyEQBOIdtm/w88pDwU7Oqd+B0/pMBIe4nLft41NO6vQ7cChBeksn+yZe\n",
       "zz0UPJK6/Q4cDuptbon/w+836jfOdvxG/WgCpr7U7XfgTO6nuXd3v43fqL/ZAfELb9T3SVz7HTgS\n",
       "cTH9Lr1R//+RuwMFnDYoDwAAAABJRU5ErkJggg==\n",
       "\" style=\"display:inline;vertical-align:middle;\" /></a><br>"
      ],
      "text/plain": [
       "<IPython.core.display.HTML object>"
      ]
     },
     "metadata": {},
     "output_type": "display_data"
    }
   ],
   "source": [
    "redundant_mod_elimination_in_sum_in_modabs = Forall(\n",
    "    (i, j), Forall(\n",
    "        (a_1_to_i, b, c_1_to_j), Forall(\n",
    "            L, Equals(ModAbs(Add(a_1_to_i, Mod(b, L), c_1_to_j), L), \n",
    "                      ModAbs(Add(a_1_to_i, b, c_1_to_j), L)).with_wrap_after_operator(),\n",
    "            domain=RealPos),\n",
    "        domain=Real),\n",
    "    domain=Natural)"
   ]
  },
  {
   "cell_type": "code",
   "execution_count": 25,
   "metadata": {},
   "outputs": [
    {
     "data": {
      "text/html": [
       "<strong id=\"mod_abs_of_difference_bound\"><a class=\"ProveItLink\" href=\"proofs/mod_abs_of_difference_bound/thm_proof.ipynb\">mod_abs_of_difference_bound</a> (conjecture without proof):<br></strong> <a class=\"ProveItLink\" href=\"../__pv_it/theorems/6b2f798fe571a02d01de3cbd90b1f3bb842aa67e0/theorem_expr.ipynb\"><img src=\"data:image/png;base64,iVBORw0KGgoAAAANSUhEUgAAAdoAAAAXBAMAAABey5NCAAAAMFBMVEX///8AAAAAAAAAAAAAAAAA\n",
       "AAAAAAAAAAAAAAAAAAAAAAAAAAAAAAAAAAAAAAAAAAAv3aB7AAAAD3RSTlMAq1RmmUTNIjK7EInv\n",
       "3XZ/CtNrAAAACXBIWXMAAA7EAAAOxAGVKw4bAAAFGElEQVRYw91YfWhbVRQ/+XzJe+lr8aNiB90D\n",
       "Yf4xOyNKwTHjG6tTN8aCww100Dgnsokl/XM41jhE/3DaMC0zTrs3LEKpM2+6OjdYCRW/JpMgU6ul\n",
       "8KpDy8ZCiM5JBuL9eMl796XvI4l/ecpJXs89J+f+7jn33HMfwH9FafRnQ1wTP8MZ2mnPJq76XJOz\n",
       "cCNRgmm7MSHp/Xd+MbSnPZrUDBz0QxrlLvzPHe2jXb28N/6dYlNo/WpLaCcvuOj/Svkh/Pxs22D5\n",
       "lI23sOyK9v246Rlai+1uF/2wQvhFnNHZttEG4zbeOiVXtPw5rf68oUW0FRf9gEwYgxakttHG7LwN\n",
       "Kh4y+erZ2lOhNbShqpv+ecIBFJRw+9t2lZ23c56q1AM6XH+qNbRC0U3/acoXFha+aR/tZuqNW/G7\n",
       "xg48VbrJS5Va9TDdECpFOzxzoCm04d5FyVn/JOVHAN5uFaPKLB3ytjMdrbJ78i8ln/ZSk7f3kGIS\n",
       "p4n5JRxTmkGb38tfd9bvpzwMXFeraOX603cELf8ZBIvsiVKFmOYJLVnyDlrTPojDlqZie7cC3zrr\n",
       "30U5qjCT6ftk/RD+flmv0/753d0kOUPH4rB9iBUaaD8naINl6MDx5p9fwJRBqZmCTtVLJt9Gi12S\n",
       "TH4rwLwLWsMFNtgIcMNZf5SyX6sXqchiLikKcBpP2Ic/Xr99DDRVeIGMLhZATLNCK9pYFvIsMgR+\n",
       "UPJQpTaBGe3XwF9rKrbzEKo46+/UOZWoSQbQSokirMVhi+HAoD0Nmhb4kIxu+gMEMAtPDVwcSDKZ\n",
       "nNfgwYbjdqtiRSvOWnKlfgLRTOb/gUC5AW2DlQltBYJVZ/0+nT/aiz6mEqdBxD0NQnsZh2y01EPa\n",
       "LQRMnKAlaQtBaxYasR2naCXo9jPNeWcG7eWG2O4y54q5u4hqBG0FfKk7G2LFWjFo/8Zb3VH/fp33\n",
       "oyLF/xi5DpNkRQRuHKO+qlziydbV1H0EYETKSweRplkoMwV+Gk3WfzHIePTFo3Ij2sOmXGE6R6GL\n",
       "TH4c+mS5YfasFYP2ZngTnPU36+zDOStHCrCNoA0eJXjegP4QmYX26BmaGEqweBmlhllooH2N1uTe\n",
       "T4eX2GKygvSC/LsHF9+7JwliAuVsKbHLlCsMRegd4viVV3oz6Pcm59b03HsryqcrioMVNjiFO1cn\n",
       "L9/rTKuD2AX9uVxOEkXhMSz5CtYH9uRyh1HSTpPGMgjcNVS5GKFx3nZkwPHGNyKFs/4ijMEJ3EHM\n",
       "GrlioTmml+IqsAfttmiSLzpYGTc+ey9ckTKhfDq6VnmVhFAMPYlaWyjDbESlW/RxUkPQCnUjAStk\n",
       "um5HtEpUjRQiZZTsIwrZUXquWOg+Fm0VjsIhfHKMO1iZ0Np6wbeWYG3HxNKj25SoQvYtnJV5FX4O\n",
       "ZGmPhQ6bCZgCQCs0guNpCBk64oIWfFqkECiATx6k9UPPFUQnyMk5R8tUmkFbhl6Edh3ALQ1Wy6K1\n",
       "9bJPZ3q337DmY+Dewj3Nb+rExsgsvFRCwyg9Q0PP8QOpQ5L4UwZ8eDkMIeNy0gtatOrh2qrruWJt\n",
       "GrLLoEWxHXKwsqJdzssRnU00lcvphn7q+kxuTB8y7oQmIfPmR4Ml27c4GTSPKJoHmsB+xRfn8I6q\n",
       "5YqFDmBtSksY7ThCG5a48w5WNYMley/4EBJt31s9YX2vo7T5amOlvO6Z4RsglNBdZybxQwbqueJE\n",
       "x/8MfLFjpQozl9JerFr0AnHr1R/+F/QvFuj8efOkBwoAAAAASUVORK5CYII=\n",
       "\" style=\"display:inline;vertical-align:middle;\" /></a><br>"
      ],
      "text/plain": [
       "<IPython.core.display.HTML object>"
      ]
     },
     "metadata": {},
     "output_type": "display_data"
    }
   ],
   "source": [
    "mod_abs_of_difference_bound = Forall((a, b, N),\n",
    "       greater_eq(ModAbs(subtract(a, b), N),\n",
    "                  subtract(ModAbs(a, N), ModAbs(b, N))),\n",
    "       domains=[Real, Real, RealPos])"
   ]
  },
  {
   "cell_type": "code",
   "execution_count": 26,
   "metadata": {},
   "outputs": [
    {
     "data": {
      "text/html": [
       "<strong id=\"mod_abs_x_reduce_to_x\"><a class=\"ProveItLink\" href=\"proofs/mod_abs_x_reduce_to_x/thm_proof.ipynb\">mod_abs_x_reduce_to_x</a> (conjecture without proof):<br></strong> <a class=\"ProveItLink\" href=\"../__pv_it/theorems/08ed68d4100320de74bbc8b8d475c0412a99a8400/theorem_expr.ipynb\"><img src=\"data:image/png;base64,iVBORw0KGgoAAAANSUhEUgAAAToAAAAaBAMAAADVt43tAAAAMFBMVEX///8AAAAAAAAAAAAAAAAA\n",
       "AAAAAAAAAAAAAAAAAAAAAAAAAAAAAAAAAAAAAAAAAAAv3aB7AAAAD3RSTlMAq1RmmUTNIjK7EInv\n",
       "3XZ/CtNrAAAACXBIWXMAAA7EAAAOxAGVKw4bAAAD/0lEQVRYw82XX2gcVRTGv92d2dns1GsftNBQ\n",
       "6oCgiFYHhIIiIWI0tVpZIrbYFLq0otRC3PgWLGbbBx+02lIpcSysI+bBILRTsZUmGJaAPlQsS/2D\n",
       "IpEJXa2kGEKqCH2p55652dmddDddk0EPzMw3O+fu/O655557B4jZCjBC2ZYZiN2EBTOn9Jn2muo+\n",
       "sFaKO2Ojuxf/mg6XgMfl9aW44LL5FdClXRyUI3w0LjrNXgFdqlsCwrTioluDFdDhPFLUu3RsaXfX\n",
       "iuj2At9MT38dG91TAd3JmY8nrDboAn+cBrYA768mkLmAN7bW9V7SdYuNWmUZOm2ajWtI4I/NwCCM\n",
       "tatJp38BUbu5yHSpQupawr752Cl/3Ad0uLXEWM48de1uWX/Tdkj3JdNloOXbyTvljyNA0m+YFJvO\n",
       "PjrA4vmr0F/0WSZ/fmGdX0cVFKCJK8HDkVpblkKvfBSho7nrtzcr2B+76Mh31ZhnnJww8TnHSGwA\n",
       "LtP1nfXH4Xvma1G6lK/La7IUwrEU2LsjMrLA7kLWjdKJKZkHH9jYPhDNu8Afm0h9+vKif0+R2gg8\n",
       "zODaKVsOpUazBr6fOhmlW1PE38T4bpgtgXwVu7zabyWmG8ttgLk0dnvkaaYMEd0eKH88RMcBiTvX\n",
       "Wy0IG0w3yxQmzRqPFztJJ0bxWc93PbmQbtjFFMQxjkL19V4lgbuRDpee00z3wJtPo28pHTfYepVB\n",
       "Gkz5cz1KyIgV1qetMX6TaZQkJQ5lFzIWsvwm3xu6FI3dERffZqb4/nLi6B4lkfwFGb/2nreZbnQu\n",
       "+Zgl6cZ+vL/zwdupy1dczHVx7LxtS+mUP75fHBWUMniW6bQTQddnsU240JnUf/IcbkB3AfeMS2l3\n",
       "+EUlI3ZLsWGtMBawj7KpI5etaB5kfzLWKetQsw1epSYphzY7jmMJYfapsjHcT9j7HOcYjewZK0pH\n",
       "I7tAM5uZbpWZE8jrbPPhQt5Adw0ncFhWihI1l7ETrlaZbbGFUNO1bOAtjp3Q+92guCX20+9ekHfP\n",
       "jdfVu7pZgYO9dDrM+16WERtppJvHRnJ+BLhtdzArNBh/eU3ohhbFATOvUV3mvMN4d9ajkMtxUKsc\n",
       "VZTRumZMJ3ydZ/9gp1E+G4R1sFOe+6p11X3sRnQUuwEVO8q5dc3oaoVU+3VyFsZ7pLb/5o0+QSn+\n",
       "B93Ilw1R5ugD+7M9+QgdJqqu+lx4pn/ODb8cytn5utzxIYpK/y7pSkSXtozzCduQeUc5N9xk/xYt\n",
       "NJ84jupnMtzdnnOOR9u13qwWMuVmjz78M/XVjjs8TFYLmOz6oQjxUxEJt92lfGfLp8tspTtyiNfs\n",
       "m6PL0Cx3RqJyC/5Ta/1haro+/r/2yvXKav3VPwxJN7x6hcfmAAAAAElFTkSuQmCC\n",
       "\" style=\"display:inline;vertical-align:middle;\" /></a><br>"
      ],
      "text/plain": [
       "<IPython.core.display.HTML object>"
      ]
     },
     "metadata": {},
     "output_type": "display_data"
    }
   ],
   "source": [
    "mod_abs_x_reduce_to_x = Forall((x, N),\n",
    "       Equals(ModAbs(x, N), x),\n",
    "       domains = [Real, RealPos],\n",
    "       conditions=[number_ordering(LessEq(zero, x), LessEq(x, frac(N, two)))]\n",
    "      )"
   ]
  },
  {
   "cell_type": "code",
   "execution_count": 27,
   "metadata": {},
   "outputs": [
    {
     "data": {
      "text/html": [
       "<strong id=\"mod_abs_x_reduce_to_abs_x\"><a class=\"ProveItLink\" href=\"proofs/mod_abs_x_reduce_to_abs_x/thm_proof.ipynb\">mod_abs_x_reduce_to_abs_x</a> (conjecture without proof):<br></strong> <a class=\"ProveItLink\" href=\"../__pv_it/theorems/ecfed35e78e631cca23cddce8c7a4d15e8e93f240/theorem_expr.ipynb\"><img src=\"data:image/png;base64,iVBORw0KGgoAAAANSUhEUgAAAToAAAAaBAMAAADVt43tAAAAMFBMVEX///8AAAAAAAAAAAAAAAAA\n",
       "AAAAAAAAAAAAAAAAAAAAAAAAAAAAAAAAAAAAAAAAAAAv3aB7AAAAD3RSTlMAq1RmmUTNIjK7EInv\n",
       "3XZ/CtNrAAAACXBIWXMAAA7EAAAOxAGVKw4bAAAD+ElEQVRYw82Xf4gUZRjHv7s7szM7c40nauAh\n",
       "+kL9I3S59EuUqAsvvShluaioU1xUKhOu8c/DQ7f+Kw89hKOmg2OEJboCmyQNFWzpj/4wiv0jQZCD\n",
       "97xL7crjsMDwH3ved2ZnZ3+4uu1t+Cyz7/PO7MzzeZ73eZ9nB2ibaPQJ1fsVu6xoaKdcgZkJ1FC5\n",
       "p5wqKyoHOoX6SBvg4l6LdJgBXhTqO22g+xyt0iVdfCDSYrQNdJtapkv0CECYrA10hZbpcAGJNIWw\n",
       "HWmXbZ1uN/Dz1NRPbaBTPAllzHcdPtkc3YnpL84xSfcN0Ad8tkhE3zN9jxvoybSkUzDNt96DTpmS\n",
       "0hnQ9VirlaKkewbYD61zkegGiuAl/SEm6dbjeXdZU7FL2InbsbSkewxIufd9rxeMPZHv0iCE7y7T\n",
       "dWQkXQ6bm8w7HUo2yLujlL68YlN0n35hUCpv/gX1bd9Y/PKeh3kEZDTyHQxrRQviO4x0FR3wS9O7\n",
       "ooMHynY6ss+VLunTTsYy8Z2MkbUKuEbjkZVj4J55oCHdWukGTz5tV60s1Fv4sobuTxZ1vyrvsNM2\n",
       "XKl003HyvdJNvTmCsrBRmlK+ToulVPqEWZ440YhugwyZxtTy7k9xQWeMxQrwauiSLOJ+VewmM6tg\n",
       "+pgb6BgW0PNbZm1L2CC6OUlh0sbxZLMTdFYe3/b+2pupoLNmD24Rk9/9ah63sTc0Y3YKuvg/+YLK\n",
       "auhSrOx+Nd26j19Bv0/3Mh0xETF7ZZJNygU1tQkZiQ+NmzqDIUm4NzRTJ3bXYqO7aBgJWk03x5HQ\n",
       "jF6UsdvGH31CKJOXHu96cgU5+4cLa+YqK7tfTZefj29iPt3F4GQCEzpelXTKuG98DlstF6ok5S+d\n",
       "QR26dIrnaIiPu3Xy+1JFr9BuUly7kcoYRQpJBwvdb9ArtGJ4+hYVP8dxmGWZ/UGlODRA2Hsd5xit\n",
       "7ClWL++W2HJQJd6SO1JKD3yqku42xjEiasQEqTLvfPcb0ClhAdALGg7L2FnqgOsXt9g+Ou/5effa\n",
       "2Ui9C+lG6C+smOjL7ZrYpewKugWspp8/CyxXF3w63/0GdEMlfdjMKlSXZd7hbI/hgYJOqxF0Oaoo\n",
       "+cgjAjqtcJpMyIm2VNzbPxvJfsrYWjqK3WApdr77Deg+CVvdb+fnoH1K2utXvfxm/QfcoEkXzYdo\n",
       "z6iD+4zebA0dtg3Mu8FEvgQUjIWIoYOwcoFq5YhuguiSTLuAZRgmupL7lXK9rFhV6/GV4wTexssh\n",
       "OOOMVT+iTq/w31T0wt16wPG/Ez++scbD+Vla8Jkb7yJ0/z/IWw2v3o2OtiT+D0k3Q/cR7XVHLkMf\n",
       "HgCxo6+ekewwXY4HV96/U1zcB/4LjR1FbMf+6iwAAAAASUVORK5CYII=\n",
       "\" style=\"display:inline;vertical-align:middle;\" /></a><br>"
      ],
      "text/plain": [
       "<IPython.core.display.HTML object>"
      ]
     },
     "metadata": {},
     "output_type": "display_data"
    }
   ],
   "source": [
    "mod_abs_x_reduce_to_abs_x = Forall((x, N),\n",
    "       Equals(ModAbs(x, N), Abs(x)),\n",
    "       domains = [Real, RealPos],\n",
    "       conditions=[LessEq(Abs(x), frac(N, two))]\n",
    "      )"
   ]
  },
  {
   "cell_type": "code",
   "execution_count": 28,
   "metadata": {},
   "outputs": [
    {
     "data": {
      "text/html": [
       "<strong id=\"mod_abs_diff_reversal\"><a class=\"ProveItLink\" href=\"proofs/mod_abs_diff_reversal/thm_proof.ipynb\">mod_abs_diff_reversal</a> (conjecture without proof):<br></strong> <a class=\"ProveItLink\" href=\"../__pv_it/theorems/5e293f66d655c675e798c058c01b0cb5051887650/theorem_expr.ipynb\"><img src=\"data:image/png;base64,iVBORw0KGgoAAAANSUhEUgAAAYwAAAAXBAMAAADqwWVNAAAAMFBMVEX///8AAAAAAAAAAAAAAAAA\n",
       "AAAAAAAAAAAAAAAAAAAAAAAAAAAAAAAAAAAAAAAAAAAv3aB7AAAAD3RSTlMAq1RmmUTNIjK7EInv\n",
       "3XZ/CtNrAAAACXBIWXMAAA7EAAAOxAGVKw4bAAAEr0lEQVRYw82XfWgbZRzHv0kuudxddi1OC3bS\n",
       "HQj6h3ZGhIJjxBtr5xthweFEN2ic82UblvTPYbGxiP7hdGVaNE6zK/afUjXnS50rWELFt8kkiu+l\n",
       "cKVjLZ0LIXNOOhCf5y5p70lyTa/xD59yyfV5fnl+z+f39jwP8F+1BPlzaPyaJ+FXmR6NT1+/yQrG\n",
       "ncak2FpncZYcd/6R3wCa6cuNjWPcUluT+FbOJcboWbcYmAO66PeTDVOIcQdNAdWtNw64xghoeI4G\n",
       "12DDGFzYQVOT4haj6BrDp1ISSErDGCEnTd2aSwz/kmsMnIGPmDHQeGrc5KTpM7cpLuXcYzwGnJ2Z\n",
       "+bZxjPstTfymeYMdeDR/jTuMQNtsRXD0Tj5bB+MD4B7gzXWuXWLsQTXtSwhsTIh/aZlEHYzoDG3f\n",
       "lzAyh8QrbD39Cie11TE6CCv45vXm9crrDyaG+Dk4Nia8SwgZrrxxm4bvmL53w4jW8catgKAxWto/\n",
       "2d5Dv18oVS/v9IEWM078J8PY08MI2TC+MDG4Ajbo1AdPmwZOEpE4mnRXGDuBq/YZsAuYroNxjKzT\n",
       "WM7w4GwqJks4RVfioR+vXD8EQ5eeMUdns5ATjFAVRmgQGXbJhKpbcYUxDT9bcr+BeLkOxj7yxCPl\n",
       "/zoJvCxjK7V+iJqS5A0Mw/e+OXrfJTMZloWkzmhnFxtUGQN3VW0bu7RKjD9oDj98Cf4njOrcKIJj\n",
       "0kv8B75CFYY8ZQ+QdvJ8eIh8jEVOQQ7DXOGiSv2Ub6WbPMWQR8xf6lGKYReyeSNtYSho8TKHuKYk\n",
       "yZdKjADFkG8A5mt442+aDHaMIjzxm6u8sd8WILiTPH0kw8VfglcwamJKfJpOc1E7J5rpYehHTJyg\n",
       "klEGwAhxTMkjmgTD+yPHaPOEBbUKQ6AYXCYMvQbGRrzG9qXRrqpVGMdtAWKWew8NHzWYxW5zhdwJ\n",
       "c/WvosNvWsW497TlRo3LLYIRsq34ZatStX3au8AW3E076OLEtwdm37k9BjkyAXnuPMWQSE2rhTH8\n",
       "cZjtG77wYluSTD7665bWO64jB8ELGvKR/SsBAvxUPkvE5GZ0pFIpRZalB2jP19juO5hKHSdBNa5Y\n",
       "1ZW/TNTahWz7xoYkVj2o9yuBQW8OQ3iPmC5EJxwQi0HFzUGdL+IgyQIhJuY4HVMrAQK+XOQzCWGr\n",
       "9pJpaNm/lxyDUMBUULdy48GJ0l7XQjoYIeZ0tjqGJujBbLAAYX7Jyo1FRGXNFcYSTuAoLa7pfs3M\n",
       "jVKAmOdSyxuJY7s1QTPDHhOqqON336C1u5OCO4IxYj0Qk9JtpizEqnm9DgY8RjDry8LTVbAwVPTv\n",
       "dXVt4gtoIxjbgGu7rRQvBQiOLG/4O7Z8BP4N8rbnvD6yMziF5/NkmESKv+ew2Bk/qsi/JeEhCCtC\n",
       "rJrRtWAQbwTK3tDhObweDOKNnpI3SgFCTWhvY6lUaRqvlZ+nU0OlIaWGEHshNrDgeMFNEgyBYBDl\n",
       "fdpG9Ck0rmmw15B0aAsUI00wAgp/xhPmaW6UAkR2vKc/Unnd1Rq8HG5Wtz3eexVS/m5IcxefIgWd\n",
       "eLXV1RzDf/q+fGizjslzCUxGfk6iHCDOLVx5v8L/u/0LO2aF4E4eFggAAAAASUVORK5CYII=\n",
       "\" style=\"display:inline;vertical-align:middle;\" /></a><br>"
      ],
      "text/plain": [
       "<IPython.core.display.HTML object>"
      ]
     },
     "metadata": {},
     "output_type": "display_data"
    }
   ],
   "source": [
    "mod_abs_diff_reversal = Forall(\n",
    "    (a, b, N), Equals(ModAbs(subtract(a, b), N), ModAbs(subtract(b, a), N)),\n",
    "    domains = [Real, Real, RealPos])"
   ]
  },
  {
   "cell_type": "code",
   "execution_count": 29,
   "metadata": {},
   "outputs": [
    {
     "data": {
      "text/html": [
       "<strong id=\"bijective_interval_image_size\"><a class=\"ProveItLink\" href=\"proofs/bijective_interval_image_size/thm_proof.ipynb\">bijective_interval_image_size</a> (conjecture without proof):<br></strong> <a class=\"ProveItLink\" href=\"../__pv_it/theorems/e7124b7f720a7185c177d7c3775767f425d66c5e0/theorem_expr.ipynb\"><img src=\"data:image/png;base64,iVBORw0KGgoAAAANSUhEUgAAAlwAAAAmBAMAAADjFFgNAAAAMFBMVEX///8AAAAAAAAAAAAAAAAA\n",
       "AAAAAAAAAAAAAAAAAAAAAAAAAAAAAAAAAAAAAAAAAAAv3aB7AAAAD3RSTlMAq1RmmUTNIjK7EInv\n",
       "3XZ/CtNrAAAACXBIWXMAAA7EAAAOxAGVKw4bAAAHZElEQVRo3s2af2wTZRjHn/643fVu6wokxE1D\n",
       "zviD8YdQSMSIBEqcAzWDBtQESaQxogES7JCYGBdWFjL/YLoBIhbNdhgwgQErMDAusiwDwg8DDkMk\n",
       "giRdRGUMJtkygfFjvj/urndre7321uSeZNfrvc97997nfd/v87zvCmDGnCMjfsinuUWws30v4eOi\n",
       "kWFz7k5fntszz9a0gLtMP8/aA5crZG9cMN1WuOolm+PyiHbCtdrmtIA/ayNczmG745LF1R64imK2\n",
       "x1UTtg+uBsn2uDwx++AqQX8sPd0dzKLe2nBWjxntTR7Jv2lQg52s1HN12gfXIPoTCCfvimwGGleS\n",
       "1bA8Muo7eeTfbxtV2bBDrscOUFwExFOZcZnyyzEJvKPimmb4/rdO0s/ekQgwH56RwOOziit9lNlz\n",
       "Dh83K/UuUlyv4I8PMuMy5ZdjknpbxXXM0JEdkk+aEaYiRFbotorL4A7vKQ0i9Soorg24GY2ZcZny\n",
       "y80cIZO4QMbFTEHjUYA84xrQ4fqX4irAnSRmxmXKLzcr9GWJS9h9H2BxnnExwzpc0yIEl8sPUGBC\n",
       "6k355WbFsSxxueEPgPY846IlKq4GkUbGc1ev/mwmMprxyxGXX4eL7y/ddAh/qTuxvjf+Tm8Q+IXX\n",
       "8Jt1XFdxzfVDYOxwVXWsT/YumNQjanC1+imuBQA7zOAy45djxiyquCoIjJ54JSm4IHKDQZTxfB6G\n",
       "JuC7QJBxLYbibsBD0tuZNa7Kq9guKLjcSDeZU9CcHJFbV/FIIW8q9YrjFFcVsKnDcUyPK62f3OHK\n",
       "8aWUG4lcm6Q4JSf1Ki72ODq8AHOlCaTgW4B7wN2FK8gn4gmpkbEd3ENMUM2GrIyuatTafX6oTPZG\n",
       "Oc152pVHVMVAuDwSrsY0++GtNTRcXzwCsxGZgB4X9ZNffqUS1M60fUP8PCAfuRQdXociquBTnJzb\n",
       "AZYOAvN+XC5eHpTbzk7EZxEatJFFAe4jXNwAbm1rHHgZVwDYewIZDzvftYaragX6XAS4Q0ZbBX44\n",
       "8BNFGVeA4nLGiYL3dIIXZftflGyDJwXJLSXhkv2oPY6Z9USDRWHhgKTD5Uyx0+eI0evEydmEZ9ET\n",
       "AP8kj66NdLqfT+B6hHA5EaXixoYELnS75nXk7GjQGi7uVdT6M+qNtXYFGNRNwgrQ44LQHPz1tUGc\n",
       "ybgX4Nw9HhAgCZfsR+00+itHodUFtR9BRlyFkQQu11Yya5FyxpJxkSQamDuwV4uLjK5AYnQxyH/5\n",
       "66l2fgyEII12oXUB/4gmyklpl3uYLjN02gWHVpEeq8S4/sSnZc+sF6Ct/GJ5UIeL+LXM+QE34FGP\n",
       "5KVNCwSScfGH+3TL2Yb+UgWXdwvtWHd3AleNLjLy2xydcpmMC07gCVvQqGgXnodF5FTQz3wjIUgf\n",
       "GfkBlChPTqp4F2sa/KRKvRwZoRrfjBNbxVrgSdpeJny3LMXown78JbLA8172BvbQBczaiB6XC2HZ\n",
       "H27Q4bolXQOmGxdzXfRKLT/AqTlva1yLy3l3VydDy1YSXENQH4HVwJ4ExyC5vF9ZOGkSCawMhkJg\n",
       "kEg0wXO001txV/8nl06AL7V5V42cd4EDv7BXcnffAIaMmDII9KbAhf3cAdKDHr8rtISUHBBAj6sO\n",
       "eZVDva5dW2EmwBoJF09pJ1duQKVXjd2FAd3oWhh/egbdDnjw2JQHvqMPY+zrB1Hpro7rD3E7dv6C\n",
       "9b1Rjwsrg6EQGODa2ffZJNLpRQFlLY0f0+bXpalB7QaOG430GLhWRqNbEK6WghS4yMODXh9pg9s3\n",
       "MxqNihBrpzqj4OLGIQonoUfXrtN47/bZOHFa2k5jW82yRELYaDarT5l598+/FqbKYCQE2a8ZQb8I\n",
       "krS40CCZGAMuRkcXMzU576LzJuyZheoVQ6G4iahumZ+sRhKjC+FE6d3Wvdpn3oYuYDtlpw3zyb0d\n",
       "iX9nuDut4PKGSwpEWRkMhMAqrmO67cFaOjtJIH8eRo0OzegKNyyRWqBIehHlYUSy5bbopP4UNzQL\n",
       "r2Zi0EIuX3Y1JhIJqCpFSqnNMF3DKq6b2eHCObkLmjigymAkBGlwZVoXVCj1NmtxeX+PgAPd8xP0\n",
       "QO63MDjS4GJennoY6kVuYRzYr9H36eP6vvIl4XpjRh+eHNwpqCc9vbFfk3fhzdxbqG6pend+QMVV\n",
       "k92exz4yB1HwIcpgKARpcGVYF/DHlXqDqTaf+R+j2zJvPtN3aolGE0miYd6l6IonTaNwCPISsWXn\n",
       "ZcPr0/E0fWBhE+10AyFAdn1UdfLIdeON9iMPinI95k7Oe/VMih1iFRfTnT2u2VYW6NVCyE2VQSsE\n",
       "SAb4mFYILJoQyhmXCwxwwZrUt6gTSeBEkya6PWnxH7TwIu6/Om5QZdAKAZIBpAUaIbC6hSnmjCvl\n",
       "sFWPXMrpxEZUp3RdZ8mIMhgJgUWjMcgmv5E4PTa3MRICi9ZlJ1wzx+g+BkJgzbwhO+EqGKPfJhoI\n",
       "gTWrDtsJF38JbG38r5AVrnz/NvVjyda4POTtTf82Ne82BvMln7ZbOfkfQZpW3Wdw9qoAAAAASUVO\n",
       "RK5CYII=\n",
       "\" style=\"display:inline;vertical-align:middle;\" /></a><br>"
      ],
      "text/plain": [
       "<IPython.core.display.HTML object>"
      ]
     },
     "metadata": {},
     "output_type": "display_data"
    }
   ],
   "source": [
    "bijective_interval_image_size = Forall(\n",
    "    N, Forall(\n",
    "        (a, b),\n",
    "        Equals(Card(SetOfAll(x, Mod(x, N), domain=Interval(a, b))),\n",
    "               Card(Interval(a, b))),\n",
    "        condition=LessEq(Card(Interval(a, b)), N),\n",
    "        domain=Integer),\n",
    "    domain=NaturalPos)"
   ]
  },
  {
   "cell_type": "code",
   "execution_count": 30,
   "metadata": {},
   "outputs": [
    {
     "data": {
      "text/html": [
       "<strong id=\"image_size_indep_of_left_shift\"><a class=\"ProveItLink\" href=\"proofs/image_size_indep_of_left_shift/thm_proof.ipynb\">image_size_indep_of_left_shift</a> (conjecture without proof):<br></strong> <a class=\"ProveItLink\" href=\"../__pv_it/theorems/16f86f77dd9152c9ea4d37db8c29e5858fab11650/theorem_expr.ipynb\"><img src=\"data:image/png;base64,iVBORw0KGgoAAAANSUhEUgAAAnYAAAAZBAMAAABOR35sAAAAMFBMVEX///8AAAAAAAAAAAAAAAAA\n",
       "AAAAAAAAAAAAAAAAAAAAAAAAAAAAAAAAAAAAAAAAAAAv3aB7AAAAD3RSTlMAq1RmmUTNIjK7EInv\n",
       "3XZ/CtNrAAAACXBIWXMAAA7EAAAOxAGVKw4bAAAHjUlEQVRYw9WZa2wUVRTHzz5nOtNOlxorGKWr\n",
       "EoxRYJWA0RhcIvKwghMMfhBjC9oYROli+NKAsBjiBwF31VTcaupiqqFKYEtCCVTLIpAYXwGjIRE2\n",
       "TgNiIbCCWB7lUe+5d2ZnZndndhaLiTftPM/eO/c35/7vOXcAbMvtmQiUU0rZT4L/ewmT/9OZIEiZ\n",
       "n0pYNpZZcwl7dxgYW2Eebq04cw5be82igkjx+j6VnXaDu9vywVpw7wmRzcT/lt1nANvpwfFnyUYK\n",
       "Wpj5FGet8aOSRa9vzzsXKTSpKem4H6vbil4mFXkUnV0Ar91lzcJF/SXkmJ2t/Xtqv9yDuL3Xspqj\n",
       "VjekI8x3pLrzN5FdRaAMdhNs0Z3ez/Z9Qwvw4d+xYge/6uwex2svWbPwYrv+iGN2dvZcWu2XeADH\n",
       "rbWT+i27uUodd9UHcvU4ZfeV/TAdUA+ugrUxVtSns1uNv4tbs+Dx1bY4H7N29t6UkZ3X6JxPmww9\n",
       "YasGqlV2sdQwswOVHX+5BLutyRw7fMVi0Ea/Xia7bWXonY09dlxnV2m8Nd5s+W0pdn/KN4idNFCC\n",
       "nT+UY4c7vx2LieVMGfb2saSR3Vgbdi+UYtcMN4id/0wJdt64Ps/+kMl8Z8eiMpM5kiqDnY39aTCy\n",
       "q8ej3qNRE7stfZt6yCjoYmdv7lt5Qnn+hAzCnGPY/55sTGV3/vrYCdlb1+Kg4F+ZkW33ZVsBOrKo\n",
       "+GJvv8quurEEOymts5sJ0GbHwhuFimQZ7Gzsa7V+eRtV33o96I2b2IWl0V4CZLJ6ejDIn5M9aVgf\n",
       "gXaAzUHYzdj5mCphP6zYzc5gOaizm44NQ58yG0+qaiA2CR4B/hBUKCB8DaLKroG991OW7HyDOrul\n",
       "wAXsWJC7S/PiaijD3lgSWr9WYNsYlx+GSsXIzhPxDLrIzfvUX3wEcAn4i8QOYlF4PzfPqj3l/nLu\n",
       "d9xesnkQHk1icAMVaaiOkzqrUlh9RWNunlVfzqqgFTtinmNXkaQ060ar98d1T11iinXb6LP4eo/2\n",
       "4xV1Sp6fnRIFMZFIRCzstUzi8Iu1uUh3gdqvpU14RgIqL43z0EW+Zy7CM5eEmE77MnlanjCqTgnX\n",
       "yCwn66pEvHvjQqfsuFr8ZZR6H7KLkwoJu1gQW9hKXG9AF1KB/NUGLdghZI2dW/HnnJTvS8iSCDtS\n",
       "Rhbj1S1/RmfnVkj3hFY6borbY3l7VCsoKXG5dvdntV/8rCRjVxkvmCuYHz6ns7tG2LnJ81bHeZ0d\n",
       "qpKHBJHdsmO/W8OU6UedHelDdIKMnh3T2Z2n3glik5XfCQZ20DgFtEB6GhFuSYKHFSMLP01DiLIE\n",
       "dHYkvnBBBY2ALexRXIiUgqJ4tuT7HcsHyJjdqhSwa4gIBOw4Mzvqd2GD3zUo+ABqfuJQ72gPfRfg\n",
       "cyM79Lu/DX7nI21gR4snIdTvDGMWtmFEBucQQ4ixOBk2shDHJtn9iM6uOkTyYuZPFva9U1hmpShS\n",
       "RwE7Oj+202pANrLrlG8DkewfMrODfQSXDItyerc7ShM3MW+uoEpiM88Kra40pIzsKsPgGwB/XNM7\n",
       "8SLD8GVehs0Ui+rdBQO7FegEeAU62Rjk2kNGFtweGoxeYhcZO2mIpKZ3grV9lbxOoKZKqiWXnY4y\n",
       "seuisZJoilEmvPUkzNXiF1IWUXYDsC4Ki8mTylDHmvqN1DFojFFQbZiS2LFzX+xI+6iQ+Rk7mf8G\n",
       "/Cng9oPrHDWtIsK0O2mMUVB4NMXKn2fBFdVme5oYSd4P4+Z1kZF01WjMWQM7+OSpgJpHFbefBZt8\n",
       "tJvKrJ25u6dM7NZjwDbxpGnMdmTdj2HfflGXM66MvOdKoPtqiqvvQqmpz8ZwEAq1QyNqhwJGdqg2\n",
       "TEls/W6OMuYBirpuzxsf7xGbD8Oynpux3d7+q+hCG5vPjmg+a4zvqPBoioUVedL5a1BEgQR5Mpk3\n",
       "g5Ikzi1cUyJTT4OBXRJ8Z2CjOmaL2ZOJwLMokXiXjNntuRmrwZRXVEUt8wrugLNwktaTnXEsQtWG\n",
       "Kcn15hXmgsbSsZUz1CUdVbFoXhHIZ0eaFZNrGQvf/GQBi7lagk/ZEb/n4moaXNyeSACfYno3b1du\n",
       "DjXls6aE37wW4A05ZydFRvmDnbqSDB+7P1zxhUx4NMXKy2e1VDMCd7B8gMQcu8IFLKYC3KKzI+xd\n",
       "5D3URy3tm4jktzG9EzsK1lFYPrDB8smdrttgMOiBdl5Dj0piye5UOewwDAxVKFEmPJpi5a2jqKsH\n",
       "zT3TB4D7gBw+czzVMb2AxcxpPREDuzX1O9D9dpLYuLj9MiJkLQStb8liYZp2ldfW71g+0Gn55Bsc\n",
       "9nBzSPVxqjZMSSzZrQo6RyfspYMxogqPplhY0f0Wa+5fJBJyiTX0uPM1d2FnotV8uwagn6GtQYJW\n",
       "S+uSw6XW5TXsjXCwVlcS0Now1EeVlZvqGB7XRU3XQYQJj6ZYWNGh6/9eES/TPv97xbCXFWKjl6mN\n",
       "qiTDVbh0N8ne20yKBabvFf+CnSuB+Ww57Nyp4Wfn/b33JFMbVUmGrcyZn01S4dEVq5zvZK8WfG+N\n",
       "lGlvLjfs+2yB2gxXyReeJ3Ad8kgIpMzefwAdZIk9vpxUYQAAAABJRU5ErkJggg==\n",
       "\" style=\"display:inline;vertical-align:middle;\" /></a><br>"
      ],
      "text/plain": [
       "<IPython.core.display.HTML object>"
      ]
     },
     "metadata": {},
     "output_type": "display_data"
    }
   ],
   "source": [
    "image_size_indep_of_left_shift = Forall(\n",
    "    L, Forall(\n",
    "        S, Forall(\n",
    "            c, Equals(Card(SetOfAll(x, Mod(Add(c, x), L), \n",
    "                                    domain=S)),\n",
    "                      Card(SetOfAll(x, Mod(x, L), domain=S))),\n",
    "            domain=Real),\n",
    "        condition=SubsetEq(S, Real)),\n",
    "    domain=Real)"
   ]
  },
  {
   "cell_type": "code",
   "execution_count": 31,
   "metadata": {},
   "outputs": [
    {
     "data": {
      "text/html": [
       "<strong id=\"image_size_indep_of_right_shift\"><a class=\"ProveItLink\" href=\"proofs/image_size_indep_of_right_shift/thm_proof.ipynb\">image_size_indep_of_right_shift</a> (conjecture without proof):<br></strong> <a class=\"ProveItLink\" href=\"../__pv_it/theorems/b49c57ec1dd6cd0bb9bf40b77d71ee13427ecf9e0/theorem_expr.ipynb\"><img src=\"data:image/png;base64,iVBORw0KGgoAAAANSUhEUgAAAnYAAAAZBAMAAABOR35sAAAAMFBMVEX///8AAAAAAAAAAAAAAAAA\n",
       "AAAAAAAAAAAAAAAAAAAAAAAAAAAAAAAAAAAAAAAAAAAv3aB7AAAAD3RSTlMAq1RmmUTNIjK7EInv\n",
       "3XZ/CtNrAAAACXBIWXMAAA7EAAAOxAGVKw4bAAAHkElEQVRYw9WZa2wUVRTHz3YfM91ppwvGCkbp\n",
       "qgRjfLBKwEdMLRGBWoENBj+IsQVtDKJ0MXxpILAY4gcBd9VU3WrqYqqhSmDBUIRqKQKJj0gK0ZAI\n",
       "G6cBsRBYQSyP8qjnPmZnZts7O4vFxJt2Znfm7H385tz/PecOgG25NR2BQko++4nwfy9V+H8qHQQ1\n",
       "fSCPZV2BNeexL6oCxtY/hxxFnCWHrb0mqCAydH2fhp0OQ7pT2LFGcnaH8DDhv2X3GcBW+uHYs3hQ\n",
       "gwIzr+asNXl0csjrW3O+KxSaWp90PI6VzUNexorcmsEuQK7dIWbhov4ScszO1v5dPq6ifnK8W1jN\n",
       "EdEN9TDzHbXi3A14Kg4UwG68LbpTe9m5Z2Ae6fzbInbwq8HuCXLtJTELD2nXF3HMzs5e6uLjUrrJ\n",
       "vBU7qU84zBV83pV1Z+txyu4b+2naxz9cAbExqajHYLeS/C4uZiGTR9vofM7a2XtSZnYei3N6zd/c\n",
       "VaIGyji7WGqY2QFnJ1/Kw25TMsuOPGIlaKNfL+NpSwF6Z2NPBm6wK7EuIxaN+yEfuz/D14md2peH\n",
       "nS+UZUdOPjsWEwpZMuztY0kzu3E27F7Ix64BrhM73+k87DxxY539KZ3+0Y5FSTp9OFUAOxv7U2Bm\n",
       "V4P/G3vWdwSt7JTMQwCb2ec39iw/rj1/PAz+mUfJ+DsyMc7u3LWx82duXk0mhfzKtEyLN9ME0Joh\n",
       "iq909nJ2ZXV52KldBrvpAM12LDxRKE4WwM7Gvlwfl6eO+1aVOsbTbWEnHYBqgEn8F/uD8tmwuwvW\n",
       "RqAFYEMQdjJ2XqZKZBwidjPSpOw32E0lDUOPNoN8KR0JsYnwKMgHoVgD/7egcHa17LmfFLLz9hvs\n",
       "FoMUsGOBdxfnxNVQgL25JPRxLSNtY1zujrj7XSELu9IU7AO4h//iI4CLIF+AQzjho/Bedp3lI5X+\n",
       "cu530m48PAiPJUlwA8VdUBbHOrE5rL64LrvO8oezIihih+ZZdsVJSrNiDL9/b/vkRZZYt5n2xdt5\n",
       "pJdc4Uvy3ExlFJREIhER2OsydujF8qySzePjWlxPvmFAJTMPBA/Oc9QO8gxnUZ+NGbQvYW9lZFSW\n",
       "8l/FVS5sqBJarpvvlJ1UTn4Zpd5H2MWxQmQXC5IWNqHr9RlC6se/8qCAHYGssyvSfFknlXsSYVWB\n",
       "bSkzi/v4UT5tsEMviYG/ic6boe1JeWt0E2gpZal+92c+Lrk6ydihOmo5a8X39Picwe4qsivC/pbF\n",
       "ZYMdUSU3BpHtYcd+t4op0z6DHY4hOj5MPDtmsDtHvROUepHf+U3soK4S9EB6ShRZqPCIZmbho2kI\n",
       "KkvAYIfxhQuKaQQssCfehFIKmubemOt3LB+guXRtxJ80syO+RZzfyo76XZXJ72o10gGenzjUOzpC\n",
       "73n43MyO+N3fJr/zkvYDoiSE+p1pzsIWEpHBWYIhxFicqDKzUMYl2f2Iwa4shHkx8yeBfWcly6w0\n",
       "TW0dxI6ujyj+beFbQLH6HbbjBXjYyg72IK4wLMjq3c4oTdyUnLWCKonNOutvcnVBysyupAq8feCL\n",
       "63qnXGAYvs7JsJliUb07b2K3jDgBuQJtbA5KLSEzC2kXDUYvsouMnTqAqentILYvDa/xU1Mt1ZjN\n",
       "Tkdb2GEcMv7Np2C2lR0usl+x+IWUBZRdH6yJwkLsaRgqWFO/YR395hiFqA1TEjt2RRdau7xUyHyM\n",
       "XVj+DnwpkPaC6yxbqlCYdibNMQoRHl2xctdZcEX11f5pysLzYdy6LzKKTqaxZ0zs4JNZAWYusK+G\n",
       "9SzL0qq3Z++etLBbS4KroseDVnbKl5XY9V/4dsblUXddDrRfSUk1m4nU1GRiZBL6ywdGlA8EzOyI\n",
       "2jAlsfW7mdrYByjqil2vf7xLaTgESzpuxO+tnb1XiAutazgzouGMOb6jwqMrFqnI3ZW7B4UK5A9P\n",
       "wnUzqKrK7MF7Srj01JrYJcF7GtbxOTuUPS4E7gWJxDs4Z7dmV6xaS15RGhXmFVK3s3CS1pOZdjRC\n",
       "1YYpybXmFdZCjNWjy6fxLR2uWDSvCOSyw2aV5GrGwjs3OYjFbD3Bp+zQ76U4T4OHtkcJkFNM7+bs\n",
       "0C+WWPJZa8Jv2QvwhJyzUyOjfcE2Q0mGj90frvh8Jjy6YuXks3qqGYHbWD6AMceOqkEsJgPcZLBD\n",
       "9i58DjVRoX09rgHNTO+U1kH7KCwfeF/Yc6f7NiQ6dEOLzOWDKomQ3clC2JEwMFSsRfkj5YqVs4/C\n",
       "dw8aOqb2gfQBfnzmWKp16iAW06d0REzsVtVsI76yHWPjoe2XTDgBjYjWu2ihf4p+Vdb371g+0Cbs\n",
       "+fsOR7ghxH2cqg1TEiG7FUHn6Py76WSMcOHRFYtUdL9gz/2LRCKcZw897nzP3b890WS9PRKgl6Ed\n",
       "SQiKttZVh1utS0eyJyLBakNJQG/DVB9VVmmyY3jSZmq6BiJMeHTFIhUdvPb3FfEC7XPfVwx7WabU\n",
       "eZjacCUZriJ1tWP23mxRLLC8r/gX7FwJks8Wwq4oNfzsPL93nmBqw5Vk2MrMuZkkFR5DsQp5T/bq\n",
       "oPetkQLtreW6vZ8dpDbDVXKF50myD3k4BGp69z/vkI77imaLPAAAAABJRU5ErkJggg==\n",
       "\" style=\"display:inline;vertical-align:middle;\" /></a><br>"
      ],
      "text/plain": [
       "<IPython.core.display.HTML object>"
      ]
     },
     "metadata": {},
     "output_type": "display_data"
    }
   ],
   "source": [
    "image_size_indep_of_right_shift = Forall(\n",
    "    L, Forall(\n",
    "        S, Forall(\n",
    "            c, Equals(Card(SetOfAll(x, Mod(Add(x, c), L), \n",
    "                                    domain=S)),\n",
    "                      Card(SetOfAll(x, Mod(x, L), domain=S))),\n",
    "            domain=Real),\n",
    "        condition=SubsetEq(S, Real)),\n",
    "    domain=Real)"
   ]
  },
  {
   "cell_type": "code",
   "execution_count": 32,
   "metadata": {},
   "outputs": [
    {
     "data": {
      "text/html": [
       "<strong id=\"complete_interval_image\"><a class=\"ProveItLink\" href=\"proofs/complete_interval_image/thm_proof.ipynb\">complete_interval_image</a> (conjecture without proof):<br></strong> <a class=\"ProveItLink\" href=\"../__pv_it/theorems/25d9775947524d7ee02e4e5999355e4db70837040/theorem_expr.ipynb\"><img src=\"data:image/png;base64,iVBORw0KGgoAAAANSUhEUgAAAmwAAAAmBAMAAACL59o1AAAAMFBMVEX///8AAAAAAAAAAAAAAAAA\n",
       "AAAAAAAAAAAAAAAAAAAAAAAAAAAAAAAAAAAAAAAAAAAv3aB7AAAAD3RSTlMAq1RmmUTNIjK7EInv\n",
       "3XZ/CtNrAAAACXBIWXMAAA7EAAAOxAGVKw4bAAAHrklEQVRo3tWaa2wUVRTHz3YfMzuz3W0JEiEN\n",
       "rDGW+oWuGjDBCtuAPERkg0KihLSQoIIKS0JMSBq6VMIHg24Bq7YmdDRg1IodeWhKISwQQ8UYqiE2\n",
       "Io3bSCSALNhSykOt9zFz93V3u0+ze5LObHfOzL3zm3P/59w7C5CKlYyOuiCfZnJCEdgnCtktGb2b\n",
       "mn9JWZ47VFsM1EA8r304UxjYjPVFgQ0eKSxsO5TiwGZ1FhS2V4uDGkhnCglbyd0iwaZrcGFgK1WL\n",
       "BVujt4Cw+ZViwWZVCwjbRLrb50n9FGFqNhK1LO1TtPaMgQLCNkS29jXpBN3Wtszb++PF9M+h7QmD\n",
       "GjYC5MGxsRnIPi9zBXGE7KqTUbNfoKFob78NsPxvdA87s8tA3Re9nEOXR31g3vBdTE/exv/T9s5p\n",
       "2J7Cu5fHxmbC3bZ481Ls3iC7Y8nFWBvB1r/Q5vyY7slM7kV34pT6eMfaURiVRlOTxm9QWHvzNGxb\n",
       "ceg1j41NxGG5OS9j1FCfAjaHhm1pO3p0atbYngTo4hwyP4wiX4799noY23UNmwV9JTtT0LZ1aH8g\n",
       "L9hsZWlgO1KngtmZNbadfFGQ991DTyYJtmofxWZEcmVJJSU8hvb5mTo61DSwuUsDICtZY7uJyh5O\n",
       "sJjgAnoySbDRk1Am/aG///tUsNn6+y/kpyx1uBi2Lwc+7cYdE1+bH9pjDrUA7A1h9e0O+XVsxiF0\n",
       "c9likzA2Fw/bbBe4k2DrdGnYFgC0pYLN5ANrfsrSRidTW7d9sqmXTBzGgX861IDYB9YgfOGE4xQb\n",
       "Gp//UPH5M602Fvdj+5GyqQcBjUV/MN5tKTh6QeVio+05ghq2jSDwqzI1Ghvy2pi4Wya2fYJbpIiH\n",
       "FN0pfpJAsAmnUE71Gu8ayPnWADiawe9D8y7xNrzHMikan0s8yyJgZ2ANLoqNM3aOgGnY7OFio+1R\n",
       "QUHYrIqM/MztLli+nhbE5w5DDeLkjil32+Aw+2K7nnsrPlx4iNwmaFsxEN8Z7C2X4cNiC/3mhSEw\n",
       "v6Q/7TrcT2EC2oo4EuiVmnEP/T6M9J70LxodHv3BNDYT8ZEmZMht4xp0MsJWx4k2Nwh3iHKC9DqJ\n",
       "Tx/DRttzuDVsJUGSEQYCYEep/Z2JLfCArJiUeGzTIjKCAUPHvn1w5EoUthJO2sDe+Ht0uGMXrVor\n",
       "AC5FR9s2IhW2YBhbEGGrRrTuiGFsaHxaR0jP5DWZVtcLFZISqp3cEda+CbjRRttj2KB+Fv709BDu\n",
       "kmkBnjME3TLEY7MYw4/H5tN8XeJU15jYsLeGDey7SdAgaVWjsdEyvM4rKZHY8LGbEdGGigPzTZUz\n",
       "qTAehITiEKNtVnQ3rQCz45UaVzZ1i/jYaHtM2+DAOsJ5Mcb2O/5Y9dAWGQ7NPTfXE4VNrkQnSgev\n",
       "4pmCPzSJ+oLJBHHYNKeweCFvHRsY9+BrmSKUt5Fl0s88FVqxqWOzucE8DGuZtuHx+Rv5eDT61nZA\n",
       "YnHgFCA1esEffQTdYekwH9vRiKyPsTXgC4vOTmcTSESyquSPV3CiTTiBNvu9fkzkmnKR+sLjVdHY\n",
       "jPXMiRnyBnOv7mQ8DdAkDYpsjHQGdWzVbz2jFZsWis0j9oBFhQYPTCH9lXCanR1T5mGxgEpILA4c\n",
       "bKVOqYc2jh/zLe3I/vBUL9KOe1l7jXrdBgYse3bF1HsFzKRvVeC+zMEG96O/ufSx7oYZ1FcKqtHY\n",
       "tvuYEzPkDbBeoU5SFwqWK7DYzsaIza1z2BsqmUP6JU450dR+Qt7wK2zqvg+dsyjkxwNMqrjl1Nti\n",
       "2IhYcLHp4sDBJi0a8NElUjeboMNHZ1ejbdxMs/zsKhcrdz1RC0cmEIZVMK5tbd2FsHVYeNiwfQsD\n",
       "eNcDtdRXlhUiRjo2sVxhTsx68GJyZZA4CbU+cu3GFeywpTmFWUKcYXf7xS3zNbHA2DpmfQM8ceBg\n",
       "S9+ORSzTMGxIUSagEkml0WaeFl+30dWAEdj9OdrfgJPUd+mbdKrDos1expyYIW8QAuSwUO6jGcsQ\n",
       "fu1iCmSK7ZKhebUmFiiepT5tCSpWHHKI7Vj0MmUTHbakCJgOMdESEW2nxeGZkgrnjc3UV3XDyriU\n",
       "gJ3wvx0gEbbYm6YEaTwRPaRr2oIfETv6Bia9sp8oussa9FGxEF9B+N0xRaMuDrFrd4FMsM0Lp3uG\n",
       "zf6LDwzo+ptRLIg/e+miJA/b849edYknYVuI+hrLJ3etisOGnUh284qnSUkW0gsQWl3AtQ8AJoUX\n",
       "tAYh/bJfOkUSm1cTlq3ocjaPvYwrDrEL3IOZLKSfiliIjl0Ul7paW8ZeFC+J901at5Fz9AKEY+/S\n",
       "u6lNg5vwlZOWHV4qFnh8dHqtMxWeOMTapnHpv0ug7ZlHsniXwFmKZ9jMveljq8mw3hcCX6Pk0qan\n",
       "BJvX/xyZBqlIHiLFIXcm12eBzZUEG6znX2I7qRzEVmTvxx7r9GR4F8+uCClELAg285xpZKqAlGGH\n",
       "N1Iccrii6swCG+/Bs63IHWqCjzklfIYZGhWLSkgc5bkzLW0VyG9AerK/xMr/BdvJgsI2I/tLWIKJ\n",
       "xSFnZq8vKGyWHLx/bYKE4pAza/AWFDb+O8uCM+knSA9bvn+7+4ZSDNisFELKv93Nu+V2LOXL9rFP\n",
       "/wF8zkZGRjFvyAAAAABJRU5ErkJggg==\n",
       "\" style=\"display:inline;vertical-align:middle;\" /></a><br>"
      ],
      "text/plain": [
       "<IPython.core.display.HTML object>"
      ]
     },
     "metadata": {},
     "output_type": "display_data"
    }
   ],
   "source": [
    "complete_interval_image = Forall(\n",
    "    N, Forall((a, b),\n",
    "              Equals(SetOfAll(x, Mod(x, N), \n",
    "                              domain=Interval(a, b)),\n",
    "                     Interval(zero, subtract(N, one))),\n",
    "              domain=Integer,\n",
    "              condition=greater_eq(Card(Interval(a, b)), N)),\n",
    "    domain=NaturalPos)"
   ]
  },
  {
   "cell_type": "code",
   "execution_count": 33,
   "metadata": {},
   "outputs": [
    {
     "data": {
      "text/html": [
       "<strong id=\"complete_interval_image_size\"><a class=\"ProveItLink\" href=\"proofs/complete_interval_image_size/thm_proof.ipynb\">complete_interval_image_size</a> (conjecture without proof):<br></strong> <a class=\"ProveItLink\" href=\"../__pv_it/theorems/96bf97c98e7ffa5c900449efec2a5223d3181a7e0/theorem_expr.ipynb\"><img src=\"data:image/png;base64,iVBORw0KGgoAAAANSUhEUgAAAhsAAAAmBAMAAACfckTUAAAAMFBMVEX///8AAAAAAAAAAAAAAAAA\n",
       "AAAAAAAAAAAAAAAAAAAAAAAAAAAAAAAAAAAAAAAAAAAv3aB7AAAAD3RSTlMAq1RmmUTNIjK7EInv\n",
       "3XZ/CtNrAAAACXBIWXMAAA7EAAAOxAGVKw4bAAAG4ElEQVRo3s2af2wTZRjHn91d2+vd1hX/IAMJ\n",
       "XmIE+QcaTWZAAlWGCAO8DMHEBFc1BIcJ3hL+wGRKNw0JAq5CMFYMOxJNhDl3gGAY/hiIATXG8RcR\n",
       "WewiEhm6IKNu/Jzvj/vR4263lq5p36R3Xd+3vef9vM/3eZ73zQCyaczISAQK2p6EIjZhHb5yIyNq\n",
       "duOZcIEN4sLFxAHbKYfyUsFRXVQawIZLCgf/Y3FxwI6SwuHXiozjM7WUcMxSi4yDxq5SwfFbkWlA\n",
       "YKiEcPA3io0DdpcQjrIEuii0BFiZy5pOz+kxikff3BLCUYlrvMPk7cXnc/li84e5jD7s0bdJojjI\n",
       "RB8cG0cZuRemNm1VDGMZT9mEzsv03jYMsOoWYvFefjgujcTB99oPyCkqohTHQvzx2rFxcNgSv1IQ\n",
       "HPNNY8Uez4GbKA4I/osu59Dr6zy9ow15QwWWCBejOJqxBhNj4+CxG71eGLFMzBZHpY6jrg2ti5Y/\n",
       "Dt8MlFFE4nBXKA4/YiNKWcQOvM05WBgcx3PF0VWvgU/KH4f4yU3ElsxwmOJgUTjwZxNKH0X3WGFw\n",
       "3MwVR7SiG0Q1fxwcnEdsSa6/qmeWn3t7f8oGR3lv7/kC1dKDdhyf9316DC/95pNvXkq9cEkGYfkF\n",
       "zOHYQKuBgx1EUxkPHPMjECUJflDH8TSAe7oS7Ti4OAQ98nLUuLKHXPu3LjEHOcqHq6axJKJFQ1M5\n",
       "4iVnJH5QZrthuwJ70L5Cgm8pDqST29S8v3PGwfWSRiuHOqjsAbrGd3QcjRBwryo4Ow40qtH8YLMR\n",
       "fKfsXvwFeZMwrttcqs4GdDlAurfoE2qLwKr1RreFowlJl1XYG2Uko38EcB34YVzDt8bhfTOzIJ08\n",
       "I680y4V7944u4NI+2RQsxhFURdlu3xu1MnvcgQP5kPV7ZRjpu5N2wVno6rfjmOZiyP1AP0+AcJRO\n",
       "oK8bQkbW9qUNYxvXYDrUR1BLYiv5YYyrUhPQ+nXKxkJtShDJCxOlfHBEIXBdpC5/TcfBpPwZ9vF9\n",
       "SZkJd8ESJ46ZGZG0PI76kcwgwk+PjI3jtIkDlT5k/JJBS4yWd/CL6UY7ZeK4g3AwCFdlgrdwoG8G\n",
       "h4jwxDW25zweGV2objjQorZtABsOiM3LsK8GzZOZx4Em1iyrWWjD4WeRlcKhy3hRWwcmwx90pXRq\n",
       "Nhzt8760ieVOn2rigNl4stoyNxwQJLqtVwQ1AwfxjmiGd6DU6LumOU8G+G4PobrEDpyr62vBFjvg\n",
       "IDk4pfaFMF6m5bmU5vQOcRoa3aGQivof9YJAATz28F04qhGzs/yQrbg+F4rCanPQXAV4qVNqMUOp\n",
       "PbPsk6foqHQccBJZLUODGTuwTn4nb78yZ428GpiYh1BdvAPrpCJtZTeCownPVbdvH5l8vOshFxwB\n",
       "XC3V0FC5E6p9xDGFlGbHwb+Cvhm1r1MwwsbA368Pat+FAKlcT7/Rjdc9A8esd5bS0ggDQDjSsC0O\n",
       "ryI7ZXiAPrPHKOytRIu92h3H6dFxdOBj0itWdiM4yvAv6fatoDi4UMKJA6rQ63voo894gm1IJneA\n",
       "KKrUsQ0czZPRz8ohW7Iqj3NhYNbTQRuqSDAMpK0i5qQNx8cDzAISIJtvVc24FT5yWwvUHkC+INQO\n",
       "tJ7BNKb8h7qDJo6BRRcU4tUEh65mp1CdOPb+8pJpOJ+2bfB1+6qTyaTExAUt5qg76EIOwc796H4F\n",
       "TvBkOnVv0fLQEgvC1akE52SKuhLKJWii3Y1VejCcaOFoyLYqdTSEI6RM8kvEqwH5oKFmp1C9N/hk\n",
       "K23h0O3bSr0D6lKjnHec4tNzBA3OsQlavGnGszJDabnSugL/cjsIZM4V6mwjs+xdRMa12EqGpfng\n",
       "YGEPT70aNsdNNTuF6o2DPNjCodtH6k5WBruzZ+B49pHLEf4EvD2Atrfo4eyEqUdfdODwLZhJStNt\n",
       "Cn+KeOLylIFjP12yX+NQZvnPfNUwNtSdG46n8GVI92p+gmqq2SlUbxwkpZk4DPsCH6A/tq8FCHud\n",
       "hjFUOEeTu6zPPOsOyKg7XFqnZBhL6/Wsm/AdSa8B6tV4EQ01O4XqjYMcyDkPB9uTSXnMw0G3AzwT\n",
       "x+rccQRxSfUXebvhvlzOSg8gjk1ijNN3UziUYjWDm1CNJ7i3euXez0ojXjj8KffTchrFtyCvTt59\n",
       "psbmKBH71urPb/qpVxMcWM2uQvVuR8b56Fgxry2u/Rs9zrKFdN5nBMSrmZiHZ3q3EyV0kk7XJv/m\n",
       "67lXHDSElwoOvCMcj7YeRheqtwFSKeFgx+nUkZdGF6pnuwilhANehqK2wKnSwtGhFBVHh5QbjkL/\n",
       "b1hgXVFx7CQZO+v/DSt821jMhwtm5fk/TnAd4N5FW2EAAAAASUVORK5CYII=\n",
       "\" style=\"display:inline;vertical-align:middle;\" /></a><br>"
      ],
      "text/plain": [
       "<IPython.core.display.HTML object>"
      ]
     },
     "metadata": {},
     "output_type": "display_data"
    }
   ],
   "source": [
    "complete_interval_image_size = Forall(\n",
    "    N, Forall((a, b),\n",
    "              Equals(Card(SetOfAll(x, Mod(x, N), \n",
    "                                   domain=Interval(a, b))),\n",
    "                     N),\n",
    "              domain=Integer,\n",
    "              condition=greater_eq(Card(Interval(a, b)), N)),\n",
    "    domain=NaturalPos)"
   ]
  },
  {
   "cell_type": "code",
   "execution_count": 34,
   "metadata": {},
   "outputs": [
    {
     "data": {
      "text/html": [
       "<strong id=\"complete_interval_left_shift_image\"><a class=\"ProveItLink\" href=\"proofs/complete_interval_left_shift_image/thm_proof.ipynb\">complete_interval_left_shift_image</a> (conjecture without proof):<br></strong> <a class=\"ProveItLink\" href=\"../__pv_it/theorems/ec0e52bb3ff9f3c99b148ed585b9bb1e3c14f8940/theorem_expr.ipynb\"><img src=\"data:image/png;base64,iVBORw0KGgoAAAANSUhEUgAAAq4AAAAmBAMAAAD3rQSpAAAAMFBMVEX///8AAAAAAAAAAAAAAAAA\n",
       "AAAAAAAAAAAAAAAAAAAAAAAAAAAAAAAAAAAAAAAAAAAv3aB7AAAAD3RSTlMAq1RmmUTNIjK7EInv\n",
       "3XZ/CtNrAAAACXBIWXMAAA7EAAAOxAGVKw4bAAAIYklEQVRo3t2be4wTRRjAv2u37Xa316sYDaiR\n",
       "GhUxJtCAQMQTS0QeErDBxx8aBTFE8YE9czESESoaEiPaCp7mIJHFQKI8cpWXAaIWjAE16mmIROSS\n",
       "XiQYT20IcPJKwG8eO7t7u3t93PXsMUln97oz883+5pvvMXcHUErxXLoUg+oXKQqDuyjP0Mv9l86X\n",
       "1t4TGZBpTYbBXt7W2PXbWuLqnTfouXojNch1pTboucKqGuT67ODHClu0muPqOX8ZcJUiNce1PnsZ\n",
       "cA2cqTmu6cvAvAKsrTmuw9hlYwKrpFujZMnDvZisfCrKQ+X34fIaa47rKVqHF6Dahl0ThMdLHk4e\n",
       "Vrn+H3+k/D5c3rIo40qJ3Vicax29VjHrkpllGk1md5trq7DbDMJHE+zmz0sp8L3wjQbBipWBetC9\n",
       "x5wUXoxunfsRrJi8+jjjei+5PFWcq0Sm7U9Wj6v3BL18TrZhLwnCM24PlnGusA7frx5fXG2vdCqk\n",
       "pz+qHHZ6po9uLuunngddnjSPcX2NOLFMca4yWY3FVTQDdfMEV8mslD6rht7u1r+Bc/XdioqvQl+5\n",
       "3gWw2+GRGN26WQyu4ROMq5+sbLQ4V6oo26rINRQRXEMW2XlrM60IV3XjBYA5feb6LjdJPR/po7tx\n",
       "9ZxlXL2oDv5S/NZYvFYzgW/ICq4jeuHqjxXhKsFRgD195noaAz8HdROju3GVT/J44PuOju9K4Rrq\n",
       "6Dhazci9ISa4ziQ3X/yesnBVCte8hftFZWotPzet8KGv0AKwoUBcxN5CWnC9OwbxvnJVCNeYE1c+\n",
       "uhtX5RTnOh1gTSlcpRQEqxm5swAFpuLnSfy8GpUyFq4SdOZnGYde9UMgPQ6jRfkwBPOwJQpfcq5z\n",
       "oKEdiAKEc+WIn9VByk/AfU8At3s6b28mRrdz5fIucq5NEHAOSLJWrtiqqejs4owAwJ3O2/Wt+/RG\n",
       "9nSLcg18hdXP+PkNQnkL1wlwt3Yl/shpBXPQkIF0CrNf+Sy8b8QDe0Dq9pH7wMlKl3hJjHF12J5i\n",
       "dDtXLu8C5xrUVGznWxeDhxexFPfQTmiMWF6f5gVrYKf4YoU1grhu7Ywd9IZ+HcRt6qAr8kKsPqWN\n",
       "3mQzMwkFmEtZXE3qr3Ft2CGMhMYHDRURn6KqDPIJzjVDLHI6RZbjgoJK0pbQlzZwTqUba/38yrA2\n",
       "LcDtjHjm5p0URx9deZ5qeEpw5fJOc66ePHVbnTkIY3T6zrAWuEHVJM3OdZTJbdUZS0l6HIY9XRau\n",
       "HicPdy13SRlQdrNNz4Wa9PWNNYxrKGP3Wz/QtcgZXPPIdTTiPCebuOLM1jXTu12JCjOUGRrFMzrq\n",
       "uIn56DZ95fJ0rjBvErm77xQJy6TpJPvKx1Wwc/V7jfULpYQhJz1i8i2x4lwPCq6Yt8QMoWauJL4h\n",
       "dqAtb+PqOwOb8Md2K1fS7bRJX33489yZDueO3u3OEHdoNvtKMqdWQLtjD1/F6HauXJ5uX2EbTWGy\n",
       "s8gr/k5uR968VIUdUw5NSVi4qiNQjrL9L6Jg6cI11GdPYj1AksDGlTc13uBipya4wh15IZT7LSMe\n",
       "+JBFBwkzV6WlLke0xZuxcg3FwdcNC4V9JZu0vpveWW3RSgeoxJypEcc4q5G50J5PxOgO8UDOOOYg\n",
       "XJeQgeVoW3Q5KHTSI9WPHnXQ18A+rLYm0wTWP9ox4pMTK1kPmDDSypV4bd7UEH4kHIfH9EbQmORC\n",
       "eeEa+jkzwhgMqJY4y3N2Q45oi8QtkJ9xTcgHwZ+FJQkYztZlq0iJjTiLmCprUGwyZw5bi/SsjyoH\n",
       "2byIivzLnxijWzucEfICevwKdWT+YU1q7+I540iI/+nAFYbiZwpb99UwHusZ8DHroeSzVq4rUqKp\n",
       "KMEY0vZ38UabW3ShummJC65vk4B0bJfFDiiz8zeNoWvJlH/4vuXr9qkv/AbNe6/CpzMLabqH1/84\n",
       "X5+G4EpNlSNXYs5cuCozO9m60oOUQ/wgwBjdsjzX/XulyAu6LeeEEgS6s+Bd2Nq6Crlu9jtxBepS\n",
       "OpmpnMz8C+uhqpqimbjKV2iiqeklpAh4FrFGzUOFUBAKqHOtT7nnW6+WlTWFjy2dxk0V4bp50mfW\n",
       "2A7NmQvXyrI03coKrmjmrsZIMMv01TfKHr8yrTkDq9F5wAnYjzVqP+sx53VQzVwhHBFNjYQKQlFY\n",
       "who1DTWE6iubE1y9cfdzl3vKes8/6jLzuanCDaYc5oeReiHmzNfer1xZLbguZwkPzbzGQQ9NM+nr\n",
       "Abl7opKFI94M1guQDO2RZYbT6rdIU7rjQaHw6rU79Hhg/TSzUO6vmTv9m1QfuE6+6NGbKeXEOcSC\n",
       "+RRbGPlp/CbeI66m5myRze2Xl6mZ5emnsDrX8K8pqMPxF+MOlH9JslNsJ64PjvkrJu+HNwqAdTPa\n",
       "QNLDe8X1u5+wcSVNqSNOygfom83O61w3WYTyrXDSSGc/cZ18sPQT4C1EekOSm6rXMIAJJcKRHpEf\n",
       "mrMRtvC/skyNyuPHHD1/D6Psbm0p/nsYj6m29ug1fgVT/OpQ3mPvNBnBBvJuk/+j5Nd8ZQiLrpLM\n",
       "VJEt2JYMTrQoJzFnAQflbB5SPlYmD+Ymnbj2cu5iKo+YamvRufray+fa2P9nOYHcLnS/a3TJoWT6\n",
       "AcIV7dJm+h2aM3cVqKzsgsq5xky1M1dY5JIisjjlzVYsPXd0W6L/wc5+tKBRU0W5+u4ZRZMutEsr\n",
       "qXQ0Z/3NdX8fuLoXOtsAzTMcn78sGjn402qdmjNTNcLt3fpVLHd5NfX3WQerOvpjA8I1FK09ruOr\n",
       "OrrfxReuiPanlONQe1z91f2b8OXOri3Vr47yQA1ydf6F/aAqW6PlcR2Y/y94SRvsXFfTuuT/Lxig\n",
       "0r978n8oiggV/wORwYw+dWofsgAAAABJRU5ErkJggg==\n",
       "\" style=\"display:inline;vertical-align:middle;\" /></a><br>"
      ],
      "text/plain": [
       "<IPython.core.display.HTML object>"
      ]
     },
     "metadata": {},
     "output_type": "display_data"
    }
   ],
   "source": [
    "complete_interval_left_shift_image = Forall(\n",
    "    N, Forall((a, b, c),\n",
    "              Equals(SetOfAll(x, Mod(Add(c, x), N), domain=Interval(a, b)),\n",
    "                     Interval(zero, subtract(N, one))),\n",
    "              domain=Integer,\n",
    "              condition=greater_eq(Card(Interval(a, b)), N)),\n",
    "    domain=NaturalPos)"
   ]
  },
  {
   "cell_type": "code",
   "execution_count": 35,
   "metadata": {},
   "outputs": [
    {
     "data": {
      "text/html": [
       "<strong id=\"complete_interval_left_shift_image_size\"><a class=\"ProveItLink\" href=\"proofs/complete_interval_left_shift_image_size/thm_proof.ipynb\">complete_interval_left_shift_image_size</a> (conjecture without proof):<br></strong> <a class=\"ProveItLink\" href=\"../__pv_it/theorems/91b87b3b49fb48360298ed440e7d9daed611e5f20/theorem_expr.ipynb\"><img src=\"data:image/png;base64,iVBORw0KGgoAAAANSUhEUgAAAl0AAAAmBAMAAAAM1jMzAAAAMFBMVEX///8AAAAAAAAAAAAAAAAA\n",
       "AAAAAAAAAAAAAAAAAAAAAAAAAAAAAAAAAAAAAAAAAAAv3aB7AAAAD3RSTlMAq1RmmUTNIjK7EInv\n",
       "3XZ/CtNrAAAACXBIWXMAAA7EAAAOxAGVKw4bAAAHkUlEQVRo3s2abWwURRjHn97t9fZ2r9fTD6Qq\n",
       "wTVGKFHLRaIGQuAUlJcCXkD4AGIrhiiY4DbpB0gQDjQmaLEnBEmLoYvRBKi1x6sBfKmIQVFjMSgR\n",
       "uXgNBG3RBilny2udl929nd7u3pXjmp2kc3vdmZ2d3zzP/3lmWoBciqu/PwRDUJ4EZxZhGa65/n4l\n",
       "t/au4JC8Fhd0KC/YQEH5ncXrMafiAnfQgbz4447lBRsdyKs47lxeHyvO4zVGcS4vKq3O4vW7c3GB\n",
       "t9dxvPirDuYFWx3HqyiGKpnmO/NAvzZZ69ytYtTgjMjm3gTH8SrFKfF+cnl+AaoCkkVDTzLnZ65t\n",
       "HMwbiBHre2skyouQuD87ryLyWcgsv17WeLmIZz5o2fKs1Y3AGTrjQFMfwPzrCNa7+fHq7I+C59Xv\n",
       "kFmVhCmvp/CvX8rOi8PPKpYLyGsSaLzEduyT1daJh6VbrFFn7PsXVafRz+d52lcTsqcSPBxXTXmt\n",
       "xX4by86Lx4a4spD+OIzlxRlteS6bbYctfVqd8ZwmtLLx/Hl5RqO4KBKTvUh54bUSpRz0C2859xSS\n",
       "11csL7/xXgXb9Hg2Xoeq4uCR8uclfnQNwScI+igvN1rG4lz0fiz6rC4kr2ssr5E2vF7Mxitc0gai\n",
       "kj8vDs4g+CTbuaTGxx8Tie9z4eVPJM4UdMPSw/KqxFdfnI0yvD7p2HEYmc1u+u3No6s7k893RkCY\n",
       "fQ5P9XB3vcbL3YPmejt4TQoB8X6hR+U1DaAxF15cFHyF3LB4L+m8iLZiG3pN4mIMr3BgBNeePsg4\n",
       "IfE9EXcbbJBhG9rjSfAlnTFyxRtUdv4eNC8uQQrNoOZAaTtQK7mp8qoBr3l2FWd5oVY1WUcMa7V7\n",
       "r+n9t2fojTLS+zSvVVjqfyY7JH/SyMstu68WoZsPqX3eB7gCfB/eSdVH4T09PiJXfCYyT0+bbt2+\n",
       "DgGX8kR0ucC8fApu5mkKwfzldKFP7ocJQWZaJF9tVJNJ4glsRB2+dfo+chHT6joTIEuBelIM1qtm\n",
       "kB4UfUlpvGqW4Ktv0FLTHdKsROKHROIEfgQ1PahX+zTgafB9GHVpXEAW0BpR3QjWxIjsCMOkfHiF\n",
       "wXtFpF51WeXlShK572iDAIrB79y1Ge4TFU7J5FVhkPuitPHhHqfgUBfLa6TJ69yjqngMhIN0Fuqg\n",
       "A+yLn65QXv5Yht5Te3suzesm4uVCqEtjfJoXckVfL3l/cUle9oWm2VQLDC+onoi/zujBo3DTcLaf\n",
       "DIuQyavYnd6H+KO6IuIeIX5UKDuvb3VeKHEOpQfN8EdfkPpjazKDV5UsoHd+mOVF7CtssC+UAXgu\n",
       "x03OiOxkwkS/cEpSVQmMfsEecpgfn4Vfnew0yh9YLcK+KSenRBhe4kjUWth7ARtEfffdJHxNVPcm\n",
       "HAeZvJonfsr4480ORecF45L6oKreD4iP2+iOMmLktTMynHQYx/KCo2haEViq6xd2xT/I5WcsGDuZ\n",
       "MLEv7IolqXT4JrxWYRi81CqtA4FMpVz8YKGJfXlxQtkik23eP8o5VJdE6mgPeLx8AC8UwYRTfC+z\n",
       "uTsdCMMivdEEWR1ULdg8jLzQFFBwFJl8YsxbM0n2qC45JoR4paAuCq+giUTgXmK2Qru2vTLkE1g3\n",
       "bGXChFcLNsmL6fBNeBXhVwooXHsXeMhw5RDuNOEFZehnCl2iTSSkT4cdtIeQjLO8+JfRbMN8m3Fw\n",
       "X8hdDcVdaqPmzdqgWjnK8tqAE6qxXYw/ftjtmoyV7xf19OF62ejrwQM34t7K3WiqQmV3PY4KwvD/\n",
       "UCMfy4vohq1MZPLa/tNifU58ijnP4cCbioN7aUPDRsSrudiMF41aHXSMJ6gk0x6iqAiKkdda5K7+\n",
       "SIBJVPxRLgiu5bRRbZk+KKSNxcirJGqZ33vbc5ZwzCtwbvVUVTfsZML+PIecmaR5IVUYFgc+Tu3L\n",
       "U5GZf1Gn6YVNu9DnRTiCauRutMec1+nuI+2PiGqr7BtvVNtS8Euwit6uKUsPqpWZLC9mU83ut7nQ\n",
       "oHj9WRRbrOqGnUzY86J7Wn0+62hqRzL9R4EakZl9HeNT44U4nHbHUL0EzZj0iGsjGvXeL9fPxc9v\n",
       "BoFAKVHGafFx+1TjoNp5jqLxChA/3mL57oM4JnkaR29fMkp1w1Ym7HmRmK3zCvwWhSL0ZSVyAv5X\n",
       "mZ4OmvF69pELIf4IvNENqK5F8oJ7uO8YcfCFDF6eyRUketfJ/DHysrOTGq9dzKBqaZU0XnRrtNPy\n",
       "3bfkjEv4mli2rOqGrUzY8yKnvxnn0cLBhs3Zz6NdhprtYZt/gSH/MltB7IB/kcvaOzE1q2PnQM6n\n",
       "lt7dEs0iZKobtjKBHhy1flSVfOvn9wsMNVt0XosGz8vdVqCNfNsBFLsateE1mUAi0czIhH05kMff\n",
       "O0KG2oJXsblx8DRAr29AZaCVCKkCnXzMXtitEN1gZAKJRJ1slAn7ciQPXtZF1ut1pvdXpBtZLGGh\n",
       "CtUNO5mwLTQEOevv2/5owYdYdKu8/JLzeLmrCz6EnUzYlvPgPF7Wx/K3r9jIhG3MOOZEXi0yOLS0\n",
       "SIPjNTT/v+pd5lRem8g2LOf/Xx2qssKhuAQ98f8fhnJFq96o81MAAAAASUVORK5CYII=\n",
       "\" style=\"display:inline;vertical-align:middle;\" /></a><br>"
      ],
      "text/plain": [
       "<IPython.core.display.HTML object>"
      ]
     },
     "metadata": {},
     "output_type": "display_data"
    }
   ],
   "source": [
    "complete_interval_left_shift_image_size = Forall(\n",
    "    N, Forall((a, b, c),\n",
    "              Equals(Card(SetOfAll(x, Mod(Add(c, x), N), domain=Interval(a, b))),\n",
    "                     N),\n",
    "              domain=Integer,\n",
    "              condition=greater_eq(Card(Interval(a, b)), N)),\n",
    "    domain=NaturalPos)"
   ]
  },
  {
   "cell_type": "code",
   "execution_count": 36,
   "metadata": {},
   "outputs": [
    {
     "data": {
      "text/html": [
       "<strong id=\"complete_interval_right_shift_image\"><a class=\"ProveItLink\" href=\"proofs/complete_interval_right_shift_image/thm_proof.ipynb\">complete_interval_right_shift_image</a> (conjecture without proof):<br></strong> <a class=\"ProveItLink\" href=\"../__pv_it/theorems/f6b4fe5bd81f08cc4e344b65972f604666849f2c0/theorem_expr.ipynb\"><img src=\"data:image/png;base64,iVBORw0KGgoAAAANSUhEUgAAAq4AAAAmBAMAAAD3rQSpAAAAMFBMVEX///8AAAAAAAAAAAAAAAAA\n",
       "AAAAAAAAAAAAAAAAAAAAAAAAAAAAAAAAAAAAAAAAAAAv3aB7AAAAD3RSTlMAq1RmmUTNIjK7EInv\n",
       "3XZ/CtNrAAAACXBIWXMAAA7EAAAOxAGVKw4bAAAIYElEQVRo3t2be2wURRjAv97t3e3tXq8HRgJK\n",
       "4IwRMWp7kYCCtRwBhYLABdQ/QELFEMVHuZrGSGzgqIQEBa+CSFoSWIwkPO3JSwtRC8bw8FUJ2og0\n",
       "uUaCAfRCgPJMwHnt7O7dLvdoD69M0tnt7cx8s7/55nvMtQCZFNvNmwHIfxH80LuL9Bq5TL15LbP2\n",
       "Nt9tmdYY6O1lhUKvRwqJq72q13O1+wqQ63Kl13OFlQXI9fXejxW2KQXH1XbtDuAq+AqOa3HsDuDq\n",
       "ulxwXKN3gHkFWFtwXAfQy8YQqsJW6pD5cG+FuxGHPp99HyavvOC4XiC1dy5SW69VguCIZzycOCB3\n",
       "/T81I/s+TN4iP+VKiN2fnmsRueYx6xKpZSrDs3vYstVfVg+8J0L05vTNCDjmH1bAnbMyEA+676SZ\n",
       "wvPRjXM/jioqrzhIuT6NL6+k5yrgaTvD+eNqP0cuX+NtaJ0gOC2VcBHjCuvR+xWjZnJbrlPBPZ1+\n",
       "qd3smTq6vmx45hqo8oQqynUxtloN6bmKeDUW5NEMFFVxroJxW0zX0w9a9S9hXB0PIcWXobtcnwJo\n",
       "MTNE6ujGzaJx9Z6jXLECyP70XAEfKezII1ePj3P1GJ+U6n85ko6rvPE6wLRuc/2ImaTkR+roVlxt\n",
       "V+gs7Ug3nJn4rWHoms8EviTGuQ65BdeX03EV4ATA3m5zvYgCPxN146NbcRXPs9X/qaPjh0y4ejo6\n",
       "TuQzci8JcK6T0M/nnZv2+Y1c5cQTAF8wT/HG+MQ6R2I1wGcJ7CL2JaKc6+gABLvLVcJcA2Zc2ehW\n",
       "XKULjOsEgKZMuAoRcOczcqcBCjzDdDLoHSS0Gbi6jkIlwAg1O+sL0eEoWhTbwR2HbX74lnGdBiVt\n",
       "gBXA25qN+MkduPwKzPe40HaPmgR1fPRUrkzeDca1BlzmAUnMyBW1qkk7uyBdU4AnzSOyDyaqjVLT\n",
       "LcLV9R2qjiL/FLZfKwoYuKI892eAR1hzdyuUNEA0gj4Vr8AnWjywF4QuB753nc91iesClKvJ9uSj\n",
       "p3Jl8q4zrm5FRu0c6wPwQjXVi2O7odxneH2SFzTBbv7BUmMEMXBt5S5yQz52o21qoiviPKDbuAGW\n",
       "0ZnphALMJiz64fp71JgFLFiPfqR6NJXslqjKtQFb5GgEL8d1CSlJc0hdWtdVmTTdMCc3rDVz0XZG\n",
       "eGbHzRRHHV16k2h4hHNl8i4yrrY4cVudreBF0emHA1bDfbIiKKlcS3Vuq0hbStyjHfaeMXC1mXm4\n",
       "e5lLagCphW56JlSnr0uaKFdkz+NJfuswqV/UcY0jrmUI51VRxxXNbH0tudsTyjFDqVQInjK/6SZm\n",
       "o6foK5OncoWqCnw38QIOy4QJOPuKB2VI5eq0a+vniXBDjnsExAcD6bke4lxR3hLQhOq54vgG2wGk\n",
       "LWFJ0XOViOGCR5O44m4XdfrqQL/PnmRy7mjfaQ5xl5JiX3Hm1AgwOtWdaKOncmXyVPsKO8iXXbHJ\n",
       "+BVJmjj0gYUy7Bp3bFzIwFUeguRIO89iBYsm7sGff1PBEktBgBSurKn2Bjc6Fc4VRsa5UOa3tHhg\n",
       "HcDm0ED+qJSfHzhQvySuniA4umAet694kxZ3kTujLVpuAhWbM9lnGmeVUxea/ISPbhIPtGrHHJhr\n",
       "HR5Y9Df760EirzxU/nSmib669qNqeziKYf2rnMSeJLSc9oDHhxq52qt4U034cW8QZqmNoDzMhLLS\n",
       "HOdckREue/9ZHn4zrigY+IrGYCShpVxD4iFwxqAuBIPpumznKbEWZ2FTlRwUc3NmsrVwz2K/dIjO\n",
       "C6vIJfZEG93Y4TKX51LjVyjCe9qrCG1nwEHmNhSCp024Qn/0M46u+yoS71TCJtpDiseMXJdGeFNe\n",
       "3AFE23mGNdq6WhWqmpYg57oCR6W2sX4jV3lnBdKW35jyD95fv36/PP9PqN13N5rApESU7OENv8xR\n",
       "p8G5ElNlyhWbMwuu0qROauvIQcoxdhCgjW5YnoGX7uJ5QZchKxTA1RUD+7zGxpWI61anGVcgLqWT\n",
       "msox1L/QHrKsUGPIuIp9FN5U9xKCD2zVtFFtfy5UU0CVa3HEMt9yZR7s4/f0nlw4npkqzHVrxZfG\n",
       "2A6ZMwuuuWVpqpXlXJEt64ciwRjVV0dpavxKncdlWLUFXc/BAVQj7ac9pr0Hsp4reH28qZZQgccP\n",
       "dbRRTX9NqLqyrZxr0uGK/txFCGT1nn8XNcxhpgptMKmdHUaqBZszR1uPcqU151pPEx6SeQ2HJE3T\n",
       "6etBsWuUFIPj9gZUz0VkSI8YNZxGv4Wbkh0PEoFXrIxU44EN4/VCmb+m7vQfXK2xnHwWJ2o4AA64\n",
       "4xFqqsRX0SfBpLiamLPqFLefXaaml6eewqpcvX9EoAiNvwDtQPH3MD3FNuP63GNnA+IBWJIAVNcO\n",
       "O0N62PsMankphStuShxxWDxI3mxKXOW6xSCUbYXzWjq72XLyazJ/z21YekmYmarFKIDxhLy+pMgP\n",
       "mbMhKeF/bpkakceOOZJP3aSWxtXpv4ex6Wpjj1vGr6CLX03Kx/SdxiCwLquvW7yZH6y/25dGV2Fq\n",
       "qvAWbA67RxmUE5szl4ly1vbNHiuVh8LuW55m3pLrDF1tLCpXR1v2XMt7/izH1boHud8mVbInHJ2O\n",
       "uSK7tJV8hsyZtQrkVvZA7lwDutqcK1RbpIg0TlnWiEqy6jWHeh7slJkJhZgqwtUxtpQkXcguLSfS\n",
       "kTnraa4HusHVupDZukieYfr8Hd7IxJ/m69ScmqohVu/Wo2KZyyuov886lNfRZ90Wrh5/4XEdkdfR\n",
       "nRa+cKm/J6WcgsLj6szv34TXm7u2SI86yoMFyNX8C/teVbb7s+N6e/6/4G2lt3NdReqM/7/gNpWe\n",
       "3ZP/Q5F4qPgfQIaA78u5Be4AAAAASUVORK5CYII=\n",
       "\" style=\"display:inline;vertical-align:middle;\" /></a><br>"
      ],
      "text/plain": [
       "<IPython.core.display.HTML object>"
      ]
     },
     "metadata": {},
     "output_type": "display_data"
    }
   ],
   "source": [
    "complete_interval_right_shift_image = Forall(\n",
    "    N, Forall((a, b, c),\n",
    "              Equals(SetOfAll(x, Mod(Add(x, c), N), domain=Interval(a, b)),\n",
    "                     Interval(zero, subtract(N, one))),\n",
    "              domain=Integer,\n",
    "              condition=greater_eq(Card(Interval(a, b)), N)),\n",
    "    domain=NaturalPos)"
   ]
  },
  {
   "cell_type": "code",
   "execution_count": 37,
   "metadata": {},
   "outputs": [
    {
     "data": {
      "text/html": [
       "<strong id=\"complete_interval_right_shift_image_size\"><a class=\"ProveItLink\" href=\"proofs/complete_interval_right_shift_image_size/thm_proof.ipynb\">complete_interval_right_shift_image_size</a> (conjecture without proof):<br></strong> <a class=\"ProveItLink\" href=\"../__pv_it/theorems/c7be1dba885a3b17770c9a947433bfd360038e3c0/theorem_expr.ipynb\"><img src=\"data:image/png;base64,iVBORw0KGgoAAAANSUhEUgAAAl0AAAAmBAMAAAAM1jMzAAAAMFBMVEX///8AAAAAAAAAAAAAAAAA\n",
       "AAAAAAAAAAAAAAAAAAAAAAAAAAAAAAAAAAAAAAAAAAAv3aB7AAAAD3RSTlMAq1RmmUTNIjK7EInv\n",
       "3XZ/CtNrAAAACXBIWXMAAA7EAAAOxAGVKw4bAAAHkklEQVRo3s2ae2wURRzHf73b6+3tXq/VP0hV\n",
       "gmuMUKLCReIDQsopKJQiXFD4A8RWDNFigtukf0BC4EBjghZ7QpC0GLsQTYBaezwV8FERg2DQQlAi\n",
       "tvEaCdqiDVLOlmedxz5uert7V45r9pd0bq87szPz2d/vO7+ZFiATcw0MBGEY7ClwpglLcckNDCiZ\n",
       "1XcVDcuwuCKH8oL1FJTfWbwecyoucBc5kBd/3LG8YIMDeeXHnMvrE8V5vMYrzuVFpdVZvH5zLi7w\n",
       "9jmOF3/Vwbxgi+N45UVRIdN8Zx7o1ybvOnOvGDM0J7K5N9lxvApxSryPXJ5fgIqAZFHRE8/4mWsa\n",
       "hjICMWx9b7VEeRES96fnlUc+c5nl18kaLxeJzActa/5hdSPQTmccaOwHmH8dwXovO15dAxHwvH4M\n",
       "uVVBiPJ6Gv/6lfS8OPysfDmHvKaAxktswzFZaZ14WIbFanXGvn9RcRb9fJmlfzUifyrA3XGVlNca\n",
       "HLfR9Lx47IgrchmPI1heHOPLnuRv7pBlTKszntuI3mwse16esWhdFInLXqS88LsSpQz0C285d+eS\n",
       "1zcsLz87AkazjqfjdbAiBh4pe17ix9cQfDKAfsrLjV5cfiZ6PwF9VuaS1zWW12gbXi+n4xUqaAVR\n",
       "yZ4XB+0IPsl2Lqnr44mOjh8y4eXv6GjP6Yall+VVjn4+7dx+SGJ5iT1PAOyi128dWdUVf7ErDMLs\n",
       "c3iqh3rqNF7uXjTX28FrShBI9Au9Kq8ZAA2Z8OIi4MvlhsV7SedFtBX7UCgwimtjeHlPQZlxkHFS\n",
       "4nvD7lZYL8OHaI8nwdd0xigUb1DZ+XvIvLgOYjSDmguFbUC95KbKqxq85tlVjOWFalWn7TGkle49\n",
       "pvffmalXSknvDV4rsbifQg+R3Vfzggyvghj8CPCQ2uYDgCvA9+OdVF0E3tfXRxSKc8Lz9LTp1v3r\n",
       "IHAJT1iXC8zLp+BqnsYgzF9GX+HpfTC5iJkWyVcb1GSSRAK7oo7cUraXXES1stYESBXQSIrCOtUN\n",
       "jE7Rl4TGq3oJvvoOtaCehl95+wn6yucQF69T29TjafD9GHVhTEAe0BJWwwhWR4nsCCOkbHiFwHtF\n",
       "pFF1WeXlihO572yFAFqD371rE9wnKpySymtcktznGc6HW5yBg90sr9Emw7lHVfEoCAfoLNROB/kX\n",
       "X6ZQXmiA8UF6f4yULxi8biJeLoS6MMobvFAo+vrI+MUlWfkXmmZjDTC8oLIUf53Zi3vhZuBsPx4S\n",
       "IZVXvttYo/wRXRFxiyA/Jpie1/c6L5Q4B41OU+LRV0TjEaBCFpRkXtiHkD3M8iL+FUryL5QBeC7H\n",
       "TM6I7GTCRL9wSlJRDox+wW5ymB97Fg+d7DRKHlglwt5pp6eFGV7iaFRb2HMBO0Rdz93491+VqnsT\n",
       "joNUXk2lnzHxeLNT0XnBxLjeqarkg9ZHJOA7wiO1+5p/oUoe1JjlBUfQtMJQpesXDsXfyeUXLBg7\n",
       "mTDxLxyKBQlj+Sa8VmIYvNQirQWBTKVE3LbQxL+8OKFslsk27x/lHBbfcC1tAY+XDOKFVjDhDN/H\n",
       "bO7OBkKwSK80WVY7VY26jsELTWH827NosmjwQovj5zTXwFZFeCWgNgKvoYmE4V7itkKbtr1Kyiew\n",
       "btjKhAmvZuySF43lm/DKw7EVULi2bnXXUQKhLhNeUIx+ptFXtJEs6WWwnbYQ4jGWF/8q8rkQ35rc\n",
       "uS/oroT8brVS0yatU82OsLzWA3zU45oqsbzEPaVozD+rpw/Xi8deL9p/I+Yt34WmKpT31J3Eoxn5\n",
       "H2rlY3kR3bCViVReW39arM+JTzDnORx4EzFwV9XXb0C8mvLNeNFVq5P28SSVZNpCFBWqMxqvNShc\n",
       "/eEAk6j4I1wRuJbRSjXFeqdgOEsyr4KIZX7vbctYwjGvwLlV01XdsJMJ+/MccmZi8EIyMSIGfIz6\n",
       "l2dcav5Fg6YPNu5EnxfhMCpRuNEWc9+guw8jHhHVFtk3KVltC8EvwUp6u7rY6FSzWSwvdlPN7Le5\n",
       "4JB4/ZkXXazqhp1M2POie1p9Pmtpakcy/UeBOpGZfx3lE5OEGJx1R1G5BM2YtIhpPSbrvV+uew4/\n",
       "vwkEAqVAmaitj1unJ3eqnecoGq8AiePNlmMfwjHJM3j19sUjlLetTNjzImu2zivwawTy0JcVKAj4\n",
       "X2R6OmjG6/lHLgT5w/BmD6CyZkI3aeG+Y9SBl1J4eaaOI6t3rcwfJYOdHdd47WQ6Va1F0njRrdEO\n",
       "y7FvzhiX8C3xbFnVDVuZsOdFTn9TzqOFA/Wb0p9Hu5JKtoVt/gVJ+ZfZG8QB+Be5rLkTU7M6dg5k\n",
       "fGrp3SXRLEKmumErE+jBEetHVci3fn6/IKlkTee1aOi83K052si37kdrV4PWvSYTSCSaGJmwt/1Z\n",
       "/L0jmFRa8Mo3dw6eLtDr6pEN9hIhkaOTj9kLexSiG4xMIJGolZNlwt4OZ8HL2mS9XGt6f7lRyeIV\n",
       "5sqobtjJhK3RJchZf9/2R3LexaJb5eWXnMfLXZnzLuxkwtbOg/N4WR/L3z6zkQnbNeOoE3k1y+BQ\n",
       "a5aGxmt4/n/Vu9SpvDaSbVjG/786XLbcobgEPfH/HxWeS2n7gGAiAAAAAElFTkSuQmCC\n",
       "\" style=\"display:inline;vertical-align:middle;\" /></a><br>"
      ],
      "text/plain": [
       "<IPython.core.display.HTML object>"
      ]
     },
     "metadata": {},
     "output_type": "display_data"
    }
   ],
   "source": [
    "complete_interval_right_shift_image_size = Forall(\n",
    "    N, Forall((a, b, c),\n",
    "              Equals(Card(SetOfAll(x, Mod(Add(x, c), N), domain=Interval(a, b))),\n",
    "                     N),\n",
    "              domain=Integer,\n",
    "              condition=greater_eq(Card(Interval(a, b)), N)),\n",
    "    domain=NaturalPos)"
   ]
  },
  {
   "cell_type": "code",
   "execution_count": 38,
   "metadata": {},
   "outputs": [
    {
     "data": {
      "text/html": [
       "<strong id=\"interval_bijection\"><a class=\"ProveItLink\" href=\"proofs/interval_bijection/thm_proof.ipynb\">interval_bijection</a> (conjecture without proof):<br></strong> <a class=\"ProveItLink\" href=\"../__pv_it/theorems/9c228297e481f0b82f69bd35fcaef2f98ddab3450/theorem_expr.ipynb\"><img src=\"data:image/png;base64,iVBORw0KGgoAAAANSUhEUgAAAogAAAAmCAMAAABwHpo/AAAARVBMVEX///8AAAAAAAAAAAAAAAAA\n",
       "AAAAAAAAAAAAAAAAAAAAAAAAAAAAAAAAAAAAAAAAAAAAAAAAAAAAAAAAAAAAAAAAAAAAAAAeYafp\n",
       "AAAAFnRSTlMAq1RmmUTNIjK7EInv3Xbz6eH5++XX8bMAKAAAAAlwSFlzAAAOxAAADsQBlSsOGwAA\n",
       "CPdJREFUeNrtnIl64ygMgM19mr39/o+63IeNE2I72Xi2fDNtSgOo4kdIwmSaritwsQVN7ykYTrct\n",
       "b1XMfQp2apD+paSyV32VvsEb/whw4xmAYPopoehIHJ9lr/rr9Y3o9APirwTihMAdQeTXCvoLgSib\n",
       "JYqfvuNrQJwEvCGIVE0/IHZXqDFz9eP89B3fA6Ks4bsJiHCRPyDu9V1hZvSzd3wRiI3bfxMQ53sb\n",
       "xE+BSMCilJ1Rg4yS3w8iW9jNQOQ3N4gfs4jcW0RB7L43fz+Ik1A3AxGItPXMM3+9OXuTTtmwULVi\n",
       "JCEHh4NsCES++Ek2AyAeluW44DVxSN8MxJwLVkf0Zt6VCSdmVKxKMYaSozrnQMgdEMWyLCqCGKYX\n",
       "4Fj3AMQTshwWvCaOLbCqLjqC6AoQL+wv78zsBIjwqH9pZt0OZ+zUettH6KKF98VeBvH1sEsKnUES\n",
       "4KlFlChYRPrcImZZlDJ4dNvYKOHRxOWkdRG8MX0zrqpx1iJlV4B4YX/Jgi/TcRDl8SQaW9bDiSUq\n",
       "NGo4nlO9AKI64K9R/Kh1jZlcJs4nau0MqyZ8D8TUm3u/nIcna62EPcUDTPOqK4I3IGJaVfOkJCYu\n",
       "2Zov7C+5iPQEiPiEWV6DSKCIxjlaWYQ/AWLZwLatmaKLKsZPYSeZMpWFW71jCyLy39TobG2U8MB6\n",
       "PgPRLHV1On5W8BIQL+wvCQleAdG0S1tP14GoJAleF4GNWluxjJhtoZeBSMpurs7Ev4b1QQzb5rDP\n",
       "sFXCcRDhwqtqFG3G+YOgoO/r+ks8qCcgNiqEzTEXpBeCaHuedZiMtGuitViEGnmtRayanAIR4n7H\n",
       "Cw6O+KDd2CrhOIhlUF+t3QqetboIxOv6WwfNccalMUByVSxuOz3NTzhKsWnDqcbMGGFs8GtE6Bfb\n",
       "LY1k/93wDojIC1OcNrACkVE5tjUzoAwzQy4isLLD8yBuzv9CbzKBiIZBXCnhOIgyD+qrsbePQl4F\n",
       "4mX9bYL8MONWAwaYCc99DcPa26Eoq69tY1u52bX6JzHjwb2/7vNvUrsh1QpEvxctc+0dhecJKhD7\n",
       "AVoBMbnnRDPn9g/oSC6WbRncMqNPTc/KDQyysLDh8GVoVfSUMABiEbxNGOZBfTUD6cvwbvEQxNf7\n",
       "e5K9aUFEzK1JOQG0s9RNtQbm0HbbxmLglbMIPwRP54j+paC9qNnvRdhWljQw1GsQHwcrTAcBpP+O\n",
       "RwxccN60Wa3JQ15iYxyiLBnEsR2so4QBEFm7B2+9rlDt5EvKJMKbS0JpvULYjJW3HCDZl0f6rvtr\n",
       "kKKPQjOghcL239ZZJw2IvIn7Xfnt97kpS2kRU4HbNlZKkVXh6Eu82woZFqpcgYiDSkXlHYWcXflb\n",
       "uU4yiO4KpfGd2LcbOkIPYscZk4DCkphy4/zx51+u/O1f/5NV8Mefrua3v8ovV4rJssgYegxaxI4S\n",
       "oiSx8B6IRfAViLgBEZpqKRugqxiLGyCcB2VV6UbGcgTEpr+GtZ7m0xBuZ1Ry6+qvLeKUDcSORSS0\n",
       "AFTlpLXpgmgiiDBOktUx74OoYhqNlT+frCyiFA8Vw3G0SVp0+t/x7JTHJDqJ9MyZXK2YIkuAAQ4a\n",
       "244SBixiEfwhiJYalGcJBw8yDIhxBBzaN+C8Jz8BsemvyaV0DmXzEHZUDhmaBkAkzmWSsg8ir+OF\n",
       "GRbD2rTZgJgtIt6xiDFdQRasVrniyvrPT/KIIVcSBiiJ+qdZRBym9NzjcHwVSMXjjqAHNNZ1TwkD\n",
       "IBbBH/mILuVXZFTBdfHjmIwF5JDYIE+5nCnGs/1PHui79CcVMoplpFzsmgcyjlaDGruPe8FKEzVL\n",
       "az290VY7s9/EC+Hsv9NmA+KkcXYEggux8hHTXjRX1UisQDRmJKEtPV2ATvD5eYYTTUbXUp0KVtaB\n",
       "VEpo66njuDxyEVdKGIma94IV1FazkjPm0KuJw3ajgdzKAMmgRcz9uZOjclRsZjmZ1HYm/mi03ssQ\n",
       "g7wXNpoaRLhwiXWTTyX76TIVs7WbNom2CCJx/p0b3D8LzvyODpqMRn6wqjZkwS7U/jCFI+kbtz7g\n",
       "XK87GxyvXiR3xgoh8BvziH7XkNVmVSRYy9JXwj615SGBfvpmG8OALIbz0axJ9K4aQTWIVmtGjIGY\n",
       "+8M4PSTn1Y/KLShsu5K8HmKSph+Oa9xYRGytDsRoz6VRDct8ThnCVRsOFg04FPardWAW54kxrBSI\n",
       "Hjz2ecQZFGdbL4mxau3MZA2iBGL7SMsGRAmM4gyYStb8AMDcalcClY8pT4Go+A6I7o8F9S+LBK0s\n",
       "O0rYCz7du2OaYjehTbqGMjFm9yQVsmTCFxhAlCqFIE9BrGMFA2oXMT0fHqOIaghLoTP8ciNSibUP\n",
       "nDUfeYBxPMU5d8QiSlx6xNdB55qiPvfA7O4Rn9wF0RMIwmUlrhqLaHc2M5JHrHdVl7ZFiS1nznVc\n",
       "UdFqV0MQyNHUOznC+gSICL9Rv9FUvfmhh18XxJ3q6CJWe3dJgCISUjuD+s79OxeRIOmsqX9uyHn3\n",
       "/rUP51U9hPKGlmy1UwK6I88jCvY29abni14A8dzZCL70Yug5WQ4K3hC385iiDyeE38pibMsET65W\n",
       "CLleBZFYv8wol5hxlpBjH1T61wwj5BzRPAQCwDpOgoJOtAJPgCjF29SbGH8BxFNnIyl4Hs07P1tH\n",
       "y6c+xaUSvCFuQbsWcd2Dcg7c6PQ/vCoAd14PDJGCRmvKD7h8Y48WHLEoLC5e/cJVAYbBweln6oWW\n",
       "Q7vucVmOC14TR8o1vs/dWalDyVdvSqDP7SHvKR//yBHztRqriVN0+jyIaOf1kGVfyA+Ij8HzN5ml\n",
       "mDl0fvzOBedvA1HD/wDEc0EX/QHxoe8SbzJ7r89l+voXnL8MxNps3+WzbzT/AXG/5JvMzOUX3KlN\n",
       "/4Lzl4FYGcTbgHjvT6V7N4jpJrMF0X03qwvOXwqiodP9QMxPWv+AuGsRqWlA7Fxw/ioQmWZ3BPGF\n",
       "e7f/Qx8x3WT2ILq9uH/B+ZtAlDOc3gfiGz8qun8r6S4gvvsztMNNZgkWbDdkd2jVueD835f6w7IF\n",
       "6lbfoLB7xys/pd3hNgm5fwHHdlvpHi2yNAAAAABJRU5ErkJggg==\n",
       "\" style=\"display:inline;vertical-align:middle;\" /></a><br>"
      ],
      "text/plain": [
       "<IPython.core.display.HTML object>"
      ]
     },
     "metadata": {},
     "output_type": "display_data"
    }
   ],
   "source": [
    "interval_bijection = Forall(\n",
    "    N, Forall(\n",
    "        (a, b, c),\n",
    "        InSet(Lambda(x, Mod(x, N)), \n",
    "              Bijections(Interval(a, b),\n",
    "                         Interval(zero, subtract(N, one)))),\n",
    "        domain=Integer),\n",
    "    domain=NaturalPos)"
   ]
  },
  {
   "cell_type": "code",
   "execution_count": 39,
   "metadata": {},
   "outputs": [
    {
     "data": {
      "text/html": [
       "<strong id=\"interval_left_shift_bijection\"><a class=\"ProveItLink\" href=\"proofs/interval_left_shift_bijection/thm_proof.ipynb\">interval_left_shift_bijection</a> (conjecture without proof):<br></strong> <a class=\"ProveItLink\" href=\"../__pv_it/theorems/a85e1cb5471513de5fe0f026d8027055e06561940/theorem_expr.ipynb\"><img src=\"data:image/png;base64,iVBORw0KGgoAAAANSUhEUgAAAr4AAAAmCAMAAAAV82hAAAAARVBMVEX///8AAAAAAAAAAAAAAAAA\n",
       "AAAAAAAAAAAAAAAAAAAAAAAAAAAAAAAAAAAAAAAAAAAAAAAAAAAAAAAAAAAAAAAAAAAAAAAeYafp\n",
       "AAAAFnRSTlMAq1RmmUTNIjK7EInv3Xbz6eH5++XX8bMAKAAAAAlwSFlzAAAOxAAADsQBlSsOGwAA\n",
       "CY9JREFUeNrtnYmWqzgOQPG+gXub8f9/6njFC4YYQqqTqfh0FykeEUK+yJJsqGm6r0FjG5pe0zCc\n",
       "fll7qTk/p2FnBuk/Sip7u++yN3jhRYBf128QTN8W2hw55Yvs7X57eyM6ffH94jsh8In48nsV/fX4\n",
       "ysod4IdHvA2+k4AfiC9V0xffG72B1kvx6/LwiPfBV5bIfgi+0MgvvvfKLuDU86Mj3gjfKgn6EHyX\n",
       "3+h8fwpfAoxSlgONtJLvjy8z7MPw5b/S+f6Y9+Xe+wpiR+bl/fGdhPowfIFIw9yy8PNfZ832/Dfv\n",
       "bGz4UkpzSkIung6yIXy58WjoAXwv63Jd8ZJTNH8YvmvtXl2xm4b19kQj+v6LWWU+vJjCnJqSqz3F\n",
       "gZA7+ApjjIr4BigAjvsO8H1Cl8uKl5wyA4vd2UYQ3YHvjfLW2IE9gS9U9fYc+qcvQS9zraS2QHg/\n",
       "S6iZhcwyT+B7PnWVYl7xE+Ch95UoeF/62Puuuiil8ejwtDHCUXevUxNZ8crNLrjYjVcrUnYHvjfK\n",
       "S6OFma7jK2m9PdnoaUfDTKukMLEbYr9EmSfwVRfiUIqPvl3CKc3E+UStT2MFJnv4JmnueLkMd3Fr\n",
       "hL3uApiu92pWvMIX02I3T0Zi4pbg4UZ5KfSlT+CLUb3tjOZHHhbh86FOoySBIg4fqpL5YnzzELv9\n",
       "NlPUqOxoFXaaKV140+aILb7Ib9RoH2+McOCpH+GrTbk7ORgFb8H3RnlJSXAGX107hLnZdrTWoznv\n",
       "NXyVJCGaJLCSWV+MFott9DZ8SY431DM1BM36+IaBfTiq2RrhOr7Q8GI3it7n+UnCYO/75CUe1AN8\n",
       "KxPCyl9CWm9P40vRs/hafZY5dGEls7wYQrW81/sWX3kKX4j7gg0Oacmgj9oa4Tq++aR+9+zu+2VW\n",
       "N+F7n7y28BB7XGoNJFfZu9fdU/2GVb31YyTiR/jW4lWV93A6Y6a10BOxP4M22A66ZM1mNO/gi/wl\n",
       "5GAUNPiybojdwZcBpdlQOYQCexnweXw3M8pBmkz4omF8GyNcx1euJ/W7se9NIe/C9zZ5m0JJ6HFr\n",
       "AQ30hJe+haHoOM+0ZYsVhsURvrX4duXK4piwvUZirYn77MXXS+XsFFUNvn60NEsZ9QWZBb79JDfj\n",
       "m5IVMjOXBA1YVhp7R8gQbur5qU5twtugCwtDIjdjpcWOEQbwzYrXIdx6Ur+bgfRjeGQ6xPe8vAd1\n",
       "sxpfxNydLCeAdhyELu6cBTZbp/qsD/BtxMOm74X/3QivGE/z2f6joL3Kgx8tsd2Zi/1BZonvcerG\n",
       "5qCL9Fs84kxDUBoulJmnshBdOaKoy4rv2BjbMcIAvqyOErbRZNjt9EvGJMK7ZkJp2atswcr7G5Ac\n",
       "1JG9S3n10HuUqIJZKGz/2yYhpMKXV7UT1/74c6mayd9IRdi4xZXnwiHKCcFOYqURz02Dr1gN6JhN\n",
       "95bdIYNTkA2+OHSEKKK+IDNbiM9Jc9H1BjQeic16Bz4crGnRzxJQmAuJ7jx//f2Pa//xn/+7Gu6v\n",
       "v92eP/7J/9iYc9VFxkRs0Pt2jBA1iY338M2KN/jiCl/nf9YO02AuMk6ugXAxnjWlOzOWI/hW8ipC\n",
       "e5ZPp3CjsJLbFKb1vtPGfzbuiNAMUIPvLIZSt0I8mbv46ogvjF1re4b38VWx7MlwIzPjK8WhOTmO\n",
       "/s9rL81I9dAzTqLlFH1mlrc0Z9YlIAQHHXvHCAPeNyt+iK9lDa0dhkNkHE6IcbwtoD0Ar1HDA3wr\n",
       "eRUWnWn+9RT2rBwyNA3gS1xQJ2UfX17mQXXwIHvOYotvKb6t3jf4rt4X73jfWCgiJiePUWYxPi0P\n",
       "6r6hShVOgMxw1TeONc8tN+VNWhmnwoId0JjonhEG8M2KH8W+rkSbdVQhuPLnyXOmkENiU17latwY\n",
       "L/Z/cmDvLE8qpBVbQXRJfS4BOMaraVncuzFYXXmQ1lP7AULt9H6VB6U1KHEbRZF9fFvxSBziO814\n",
       "DXBCaNTEvmm0XIrdQWaBr9bTQOVBeiYBneDjuS6nmowhs3oqdWvTyjRtMU+bIO449G2MMFJ52Evd\n",
       "UL2b5ZkBDr2ZOKwHNcitDpAMet9VnptVzEsW9CInnb67ED/ZLqqsCfJeEq1LfKHhEs9V/ZvsFypT\n",
       "3StuQ81BHRTOWvGtv6AlvsTFrU6YfxqE+QgFVLWkdQli6TSDzDI7oHCkcObuQbiU97g0tPmQwjSr\n",
       "hMAvrPv68UwWw2nWoNWlb4R91vMSl37hbJvRgVUNF3ta9+tD0GI61XGFbRI6hu8qD+O0nNSbH+VC\n",
       "lANJ8mrGVup+SWPGlffF1ldBjPaCrppNvtRbpRBqwuvG+zbil+re4MDMgENhf9rAzLgIk2GlQMxn\n",
       "sK/7rlmgTT1mk8gs7tMgs8RXArFdxrXBVwKtOAO6uMJ1+cpS94kEap0mfwpfxXfwdRcLyn/MGtS6\n",
       "7BhhL4F3R8eqz+60Bek65USmHf9UqE8K32DAV6qUkD3Et8ycNChD3/SsR8ylilNYdt0gIzcq5XrF\n",
       "hTUPKafdX117OOvGXrBoO8qsL4YoceukcQe4e5r6uWXsu5PGchdfzy0Ij0ZyVXlfO6DqkbpvOe67\n",
       "MjtKRLqhY473YRwhilMQyNHUm1XE8xP4pjU3+2tvDpfs4Be8JiTKfPGSnf9ffHd2x9C3iC5ywRqR\n",
       "UFQbtPcq34W+BEnnuf1aOZe1+M++JKLKUyjv1MnWOjm9vbLeV7B6e85Rivs7Jck8ge9z82b41kfe\n",
       "n9PlouIVpzvLgH1yJfwgG+sDTPAUOoYE9Cy+xAaRWrmSmPO6HPsU239mOASh6ykQADa0ExR0cjf4\n",
       "BL4pOZRXSBQveFwoyTyB71PzZqkAMcLLyN1nfuptXYXiFacG7XrfVoJygekoNIcPC8GdzwOnSCm0\n",
       "HTYuPOuWlriw80/+6BfQG2Vunso4NCfD4CI0TJ345lBccF2X64qXnJL8qPHPPetWJtZnn5VCPzde\n",
       "vVP78ZdE6be1c8mpotPP44t2Pg+NIoZ88X0Frv7NDlIsHLqsZueFD++G7wz/BXyfS0HpF98XBOHx\n",
       "zQ4+mnWV2f4LH94M33KI+JR3nM38i+/dbX2zA3OVHTej13/hw5vhWzjfj8H3N74f9dX4pjc7WHzd\n",
       "VjcvfHhTfDWdPg/fC4+cffEd8r5UV/h2XvjwVviymX0ivifeKPDFd9QlxDc7eHxdtNB/4cM74SsX\n",
       "OL0O3xf+MQZGf91r+l7+ty3Cmx0kMNiGDG4atPPCh3+/lX/EQqDu7g9o7Ddmb99Wj8GbAur/AOPM\n",
       "YRovY0Q9AAAAAElFTkSuQmCC\n",
       "\" style=\"display:inline;vertical-align:middle;\" /></a><br>"
      ],
      "text/plain": [
       "<IPython.core.display.HTML object>"
      ]
     },
     "metadata": {},
     "output_type": "display_data"
    }
   ],
   "source": [
    "interval_left_shift_bijection = Forall(\n",
    "    N, Forall(\n",
    "        (a, b, c),\n",
    "        InSet(Lambda(x, Mod(Add(c, x), N)), \n",
    "              Bijections(Interval(a, b),\n",
    "                         Interval(zero, subtract(N, one)))),\n",
    "        domain=Integer),\n",
    "    domain=NaturalPos)"
   ]
  },
  {
   "cell_type": "code",
   "execution_count": 40,
   "metadata": {},
   "outputs": [
    {
     "data": {
      "text/html": [
       "<strong id=\"interval_right_shift_bijection\"><a class=\"ProveItLink\" href=\"proofs/interval_right_shift_bijection/thm_proof.ipynb\">interval_right_shift_bijection</a> (conjecture without proof):<br></strong> <a class=\"ProveItLink\" href=\"../__pv_it/theorems/86b3239604a2544ab121313472e49e4a443ee44e0/theorem_expr.ipynb\"><img src=\"data:image/png;base64,iVBORw0KGgoAAAANSUhEUgAAAr4AAAAmCAMAAAAV82hAAAAARVBMVEX///8AAAAAAAAAAAAAAAAA\n",
       "AAAAAAAAAAAAAAAAAAAAAAAAAAAAAAAAAAAAAAAAAAAAAAAAAAAAAAAAAAAAAAAAAAAAAAAeYafp\n",
       "AAAAFnRSTlMAq1RmmUTNIjK7EInv3Xbz6eH5++XX8bMAKAAAAAlwSFlzAAAOxAAADsQBlSsOGwAA\n",
       "CZdJREFUeNrtnQmbsygSgOW+lLl2+f8/dTkFFA1ePcl2eGbafHTEsngtqgqkh+G+Ao0taHimYDj8\n",
       "svKoOj+nYKcG6T9KKlvVd+kbPHgT4Nf1GwTDt4QyRk75JFvVb69vRIcvvl98BwQ+EV9+r6C/Hl9Z\n",
       "mQP88htvg+8g4AfiS9XwxfdGa6D1VPxzevmN98FXlsh+CL7QyC++97ZdwKnHV994I3yrIOhD8J1+\n",
       "o/H9KXwJMEpZDjTSSr4/vsywD8OX/0rj+2PWl3vrK4gdmaf3x3cQ6sPwBSINc9PEj5/OFsfDJ95a\n",
       "WPetlOqUhJy8HGRd+HLj0dAd+J6W5bzgJado/DB859y9OqM3DetjfyH6gZuZG315M4U6NSVne4oD\n",
       "ITfwFcYYFfENUAAc63bwvSDLacFLTpmBRXXWEUR34Htje7PvwC7gC1V9PET+8TvQ01gLqS0Q3s4S\n",
       "akYhc6MH8D0eukoxzvgJ8NL6ShSsL31tfWdZlNK4d3xaKWGvu+epiSx4ZWYnXFTjWYuU3YHvje2l\n",
       "0cIM5/GVtD4eK/S4nWFmKaQwsRtiv8RGD+CrTvihFO+dXcIpzcD5QK1NYwUmW/im1tz35dTdxUsl\n",
       "bHUXwHR+VrPgFb6YFtU8KYmJW5yHG9tLri+9gC9G9bE9oG/9EuETrs5CSAJFHD5U1ejD+OYhdn02\n",
       "U9SobGgVdpIpXVjTxTfW+CJ/UL19vFLCjqV+ha82ZXWyMAregu+N7SUhwRF8dW0QxsWxLbjuCXlP\n",
       "4qskCd4kgVWj9c1oMdlCb8OXZH9DXckhaNbGNwzs3V7NWgnn8YWGF9Uomp7rk4RB3/e1l3hQL/Ct\n",
       "VAgrgwlpfTyKL0WX8bXyTGPowqrR8mYI1fJe61uccglfiNsNGxzCkk4btVbCeXzzRX316J77aVQ3\n",
       "4Xtfe8vEQ+xxqTWQXGXrXndP9S+s6uPq3Da+diBF/hFXddjD6YiZ1kIPxP4M0mA76JI5mtG8gS/y\n",
       "t5CdUbDAlzV97Aa+DCjNuvIhFNg7hdfxXc0oh9Zkwhd147tQwnl85XxRX419Rwl5F763tbdKlIQe\n",
       "txrQQA94amsYiob1TMfVuS182WSviH0zq4Urk2PC9hqJuSbuoxefL5WjE1Qt8PWjpZlKry80WuDb\n",
       "DnIzvilYISNzQVCHZqWxT4QM7qYeL3Xqwr0NsrAwJHLTl1tsKKED3yx47cPNF/XVDKQf3SPTLr7H\n",
       "23uRN6vxRcw9yXIAaMNA6OLJmWB1XJ/bwtfPUY++Di67XvgKI7xgPM1n+4+CtjIPfrTEtjIn+0Oj\n",
       "Jb77oRsbg7jSH3GPMQ1OabgHZi5FIboyRFGWGd++MbahhA58We0lrL3JUO3kS8okwptmQqmu7BFW\n",
       "3t6AZMP29F22Vw+9e4EqGIXC9r91EEIqfHmVO3Hljz+nqph8RkrCxuPqXBwcneDvRPFxYd64WeIr\n",
       "ZgU6ZtOzZStkMApygS8OHSEKry80mjXExyS5aFoDSpJg88P1crCmRT9LQGFOJLrr/PX3P678x3/+\n",
       "76y4v/52NX/8k3+5UOcsi4yBWKf1bSghShILb+GbBV/giyt8nfGZ+1SDsYg4uQbC+XhWle7KWPbg\n",
       "W7VXEdrSfLqEG4WVXIcwS+s7zGZlw/oSmgFa4Ls+t2F9xwIiMrbx1RFfGLvW9gxv46ti2pPhRaMZ\n",
       "Xyl21clxtH9eMGl6soeecRI1p+iVWd5SnVmWgBDsNOwNJXRY3yz4Lr6WNTR3IA6ecbggxvGxgPYL\n",
       "ePYaXuBbtVeB0Zjmny9hr8ohQ0MHvsQ5dVK28eVlHLRwHtbnrvGVpUVZJe8X+M7WF29Y35goIgar\n",
       "RaPF+DS9yPuGLFW4ADLdWd84jFxbbsoXYWWcCgt6QH1Nt5TQgW8WfM/3dSnaLKMKzpW/Tp40hRwS\n",
       "G/Iql+PGeLL/kx195/akQlqxGUQX9+fo3jFezcvi1oPB6syDtJbaDxBqo/erOCitQQnHxrkN6xuv\n",
       "528QiX18hxHPDk5wjRa+bxotp6I6NFrgq/XQkXmQnklAB/h6rsuJJqPLrC6FbsuwMk1bjMPKidt3\n",
       "fRdK6Mk8bIVuqK5meWaAQ68mDutBDXIrAySd1nduz80q5iULepKDTudOxE+2l3ggBnkriNYlvtBw\n",
       "iccq/022E5Up8aViln11bgPfkHNQvEy45d4s8SXOb3Xf82+DMO+hgCqXNC9BLI1maLSMDijsSZy5\n",
       "ZxBO5TMuDV18SG6aFULgB/O+fjyTxXCaJVjK0lbCNut5iUs7cbaO6MAshvM9rfn1Lmgxl+q4wjYI\n",
       "7cN3bg/jtJzUqx/lTJRjRPJqulbqdkpjxJX1xdZWQYy2nC5VPQF8Ko9b5y4yD0ohFH3wqTYXHJgR\n",
       "cCjsT+uYGedhMqwUiPEM9nnfCeTQYzSJzOI5DY2W+Eog1su4VvhKoBVnQBd3OC9fmeo+kUDN0+SX\n",
       "8FV8A193s6D8ZZaglmVDCVsBvPt2TAxtTluQplFOZNrxT4X8pPAFBnylSgHZS3zLyEmD0vVN73rE\n",
       "WKq4hGXXDTJyJVLOV5xY85Bi2t3VtZuzbuyJNdux0fpmiBK3Tho3gLunqJ9bxr45aSw38fXcgvBq\n",
       "JFeV9bVjru7J+5bjvkuzo0SkGzrG+BzGEaK4BIEcDa1ZRTxewDctutldfLO5ZAc/sUtIbPThJTv/\n",
       "v/huVEfXt/AucsIakZBU69T33L5zfQmSznL7tXIuavGffUpElZdQ3qiTtXZyeHtmva9g9fGQnRQP\n",
       "dEpq9AC+1+bN8K2vvF+T5aTgFacby4B9cCX8IBvzA0zw5DqGAPQovsT6mVq5lJizuhz7ENt/Zjj4\n",
       "l/MlEADWtRMUNGI3eAHfFBxKcR79W0tq9AC+l+bNUgKih5eep8/81G5dheAVpwZtWt9lC8o5pr3Q\n",
       "7L4sBDc+d1wihdB22Djxrlta4sIOv/qjn6A3Nrp6K2NXnQyDk9AwdeDMLr/gvCznBS85JflV4597\n",
       "160MrI++K4V+brx6p/Ljm0Tpt9Vzyamiw8/jizY+d40ihnzxfQJXv7ODFBOHLqrZ2PDh3fAd4b+A\n",
       "77UQlH7xfcAJjzs7eG/WZWbbGz68Gb7lEPEpe5yN/Ivv3WXe2YG5zI6b0Wtv+PBm+BbG92Pw/Y37\n",
       "oz6Nb9rZweLrjnqx4cOb4qvp8Hn4nnnn7Itvj/WlusK3seHDW+HLRvaJ+B7YUeCLb69JiDs7eHyd\n",
       "t9De8OGd8JUTHJ7D98E/xsDor9um7/G/bRF2dpDAYOsyuGnQxoYP/34p/4iFQM3qDyjsN0Zv31KP\n",
       "wasE6v8A6sJhGksFoh4AAAAASUVORK5CYII=\n",
       "\" style=\"display:inline;vertical-align:middle;\" /></a><br>"
      ],
      "text/plain": [
       "<IPython.core.display.HTML object>"
      ]
     },
     "metadata": {},
     "output_type": "display_data"
    }
   ],
   "source": [
    "interval_right_shift_bijection = Forall(\n",
    "    N, Forall(\n",
    "        (a, b, c),\n",
    "        InSet(Lambda(x, Mod(Add(x, c), N)), \n",
    "              Bijections(Interval(a, b),\n",
    "                         Interval(zero, subtract(N, one)))),\n",
    "        domain=Integer),\n",
    "    domain=NaturalPos)"
   ]
  },
  {
   "cell_type": "code",
   "execution_count": 41,
   "metadata": {},
   "outputs": [
    {
     "name": "stdout",
     "output_type": "stream",
     "text": [
      "These theorems may now be imported from the theory package: proveit.numbers.modular\n"
     ]
    }
   ],
   "source": [
    "%end theorems"
   ]
  },
  {
   "cell_type": "code",
   "execution_count": null,
   "metadata": {},
   "outputs": [],
   "source": []
  }
 ],
 "metadata": {
  "kernelspec": {
   "display_name": "Python 3",
   "language": "python",
   "name": "python3"
  }
 },
 "nbformat": 4,
 "nbformat_minor": 0
}