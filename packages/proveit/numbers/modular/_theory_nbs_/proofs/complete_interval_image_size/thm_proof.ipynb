{
 "cells": [
  {
   "cell_type": "markdown",
   "metadata": {},
   "source": [
    "Proof of <a class=\"ProveItLink\" href=\"../../../../../_theory_nbs_/theory.ipynb\">proveit</a>.<a class=\"ProveItLink\" href=\"../../../../_theory_nbs_/theory.ipynb\">numbers</a>.<a class=\"ProveItLink\" href=\"../../theory.ipynb\">modular</a>.<a class=\"ProveItLink\" href=\"../../theorems.ipynb#complete_interval_image_size\">complete_interval_image_size</a> theorem\n",
    "========"
   ]
  },
  {
   "cell_type": "code",
   "execution_count": 1,
   "metadata": {},
   "outputs": [],
   "source": [
    "import proveit\n",
    "theory = proveit.Theory() # the theorem's theory"
   ]
  },
  {
   "cell_type": "code",
   "execution_count": 2,
   "metadata": {},
   "outputs": [
    {
     "data": {
      "text/html": [
       "With these <a href=\"allowed_presumptions.txt\">allowed</a>/<a href=\"disallowed_presumptions.txt\">disallowed</a> theorem/theory presumptions (e.g., to avoid circular dependencies), we begin our proof of<br><strong id=\"complete_interval_image_size\">complete_interval_image_size:</strong> <a class=\"ProveItLink\" href=\"../../../__pv_it/theorems/860c780c479ab5fa86b10343a5ee18e1d6ab213d0/expr.ipynb\"><img src=\"data:image/png;base64,iVBORw0KGgoAAAANSUhEUgAAAhsAAAAmBAMAAACfckTUAAAAMFBMVEX///8AAAAAAAAAAAAAAAAA\n",
       "AAAAAAAAAAAAAAAAAAAAAAAAAAAAAAAAAAAAAAAAAAAv3aB7AAAAD3RSTlMAq1RmmUTNIjK7EInv\n",
       "3XZ/CtNrAAAACXBIWXMAAA7EAAAOxAGVKw4bAAAG4ElEQVRo3s2af2wTZRjHn91d2+vd1hX/IAMJ\n",
       "XmIE+QcaTWZAAlWGCAO8DMHEBFc1BIcJ3hL+wGRKNw0JAq5CMFYMOxJNhDl3gGAY/hiIATXG8RcR\n",
       "WewiEhm6IKNu/Jzvj/vR4263lq5p36R3Xd+3vef9vM/3eZ73zQCyaczISAQK2p6EIjZhHb5yIyNq\n",
       "duOZcIEN4sLFxAHbKYfyUsFRXVQawIZLCgf/Y3FxwI6SwuHXiozjM7WUcMxSi4yDxq5SwfFbkWlA\n",
       "YKiEcPA3io0DdpcQjrIEuii0BFiZy5pOz+kxikff3BLCUYlrvMPk7cXnc/li84e5jD7s0bdJojjI\n",
       "RB8cG0cZuRemNm1VDGMZT9mEzsv03jYMsOoWYvFefjgujcTB99oPyCkqohTHQvzx2rFxcNgSv1IQ\n",
       "HPNNY8Uez4GbKA4I/osu59Dr6zy9ow15QwWWCBejOJqxBhNj4+CxG71eGLFMzBZHpY6jrg2ti5Y/\n",
       "Dt8MlFFE4nBXKA4/YiNKWcQOvM05WBgcx3PF0VWvgU/KH4f4yU3ElsxwmOJgUTjwZxNKH0X3WGFw\n",
       "3MwVR7SiG0Q1fxwcnEdsSa6/qmeWn3t7f8oGR3lv7/kC1dKDdhyf9316DC/95pNvXkq9cEkGYfkF\n",
       "zOHYQKuBgx1EUxkPHPMjECUJflDH8TSAe7oS7Ti4OAQ98nLUuLKHXPu3LjEHOcqHq6axJKJFQ1M5\n",
       "4iVnJH5QZrthuwJ70L5Cgm8pDqST29S8v3PGwfWSRiuHOqjsAbrGd3QcjRBwryo4Ow40qtH8YLMR\n",
       "fKfsXvwFeZMwrttcqs4GdDlAurfoE2qLwKr1RreFowlJl1XYG2Uko38EcB34YVzDt8bhfTOzIJ08\n",
       "I680y4V7944u4NI+2RQsxhFURdlu3xu1MnvcgQP5kPV7ZRjpu5N2wVno6rfjmOZiyP1AP0+AcJRO\n",
       "oK8bQkbW9qUNYxvXYDrUR1BLYiv5YYyrUhPQ+nXKxkJtShDJCxOlfHBEIXBdpC5/TcfBpPwZ9vF9\n",
       "SZkJd8ESJ46ZGZG0PI76kcwgwk+PjI3jtIkDlT5k/JJBS4yWd/CL6UY7ZeK4g3AwCFdlgrdwoG8G\n",
       "h4jwxDW25zweGV2objjQorZtABsOiM3LsK8GzZOZx4Em1iyrWWjD4WeRlcKhy3hRWwcmwx90pXRq\n",
       "Nhzt8760ieVOn2rigNl4stoyNxwQJLqtVwQ1AwfxjmiGd6DU6LumOU8G+G4PobrEDpyr62vBFjvg\n",
       "IDk4pfaFMF6m5bmU5vQOcRoa3aGQivof9YJAATz28F04qhGzs/yQrbg+F4rCanPQXAV4qVNqMUOp\n",
       "PbPsk6foqHQccBJZLUODGTuwTn4nb78yZ428GpiYh1BdvAPrpCJtZTeCownPVbdvH5l8vOshFxwB\n",
       "XC3V0FC5E6p9xDGFlGbHwb+Cvhm1r1MwwsbA368Pat+FAKlcT7/Rjdc9A8esd5bS0ggDQDjSsC0O\n",
       "ryI7ZXiAPrPHKOytRIu92h3H6dFxdOBj0itWdiM4yvAv6fatoDi4UMKJA6rQ63voo894gm1IJneA\n",
       "KKrUsQ0czZPRz8ohW7Iqj3NhYNbTQRuqSDAMpK0i5qQNx8cDzAISIJtvVc24FT5yWwvUHkC+INQO\n",
       "tJ7BNKb8h7qDJo6BRRcU4tUEh65mp1CdOPb+8pJpOJ+2bfB1+6qTyaTExAUt5qg76EIOwc796H4F\n",
       "TvBkOnVv0fLQEgvC1akE52SKuhLKJWii3Y1VejCcaOFoyLYqdTSEI6RM8kvEqwH5oKFmp1C9N/hk\n",
       "K23h0O3bSr0D6lKjnHec4tNzBA3OsQlavGnGszJDabnSugL/cjsIZM4V6mwjs+xdRMa12EqGpfng\n",
       "YGEPT70aNsdNNTuF6o2DPNjCodtH6k5WBruzZ+B49pHLEf4EvD2Atrfo4eyEqUdfdODwLZhJStNt\n",
       "Cn+KeOLylIFjP12yX+NQZvnPfNUwNtSdG46n8GVI92p+gmqq2SlUbxwkpZk4DPsCH6A/tq8FCHud\n",
       "hjFUOEeTu6zPPOsOyKg7XFqnZBhL6/Wsm/AdSa8B6tV4EQ01O4XqjYMcyDkPB9uTSXnMw0G3AzwT\n",
       "x+rccQRxSfUXebvhvlzOSg8gjk1ijNN3UziUYjWDm1CNJ7i3euXez0ojXjj8KffTchrFtyCvTt59\n",
       "psbmKBH71urPb/qpVxMcWM2uQvVuR8b56Fgxry2u/Rs9zrKFdN5nBMSrmZiHZ3q3EyV0kk7XJv/m\n",
       "67lXHDSElwoOvCMcj7YeRheqtwFSKeFgx+nUkZdGF6pnuwilhANehqK2wKnSwtGhFBVHh5QbjkL/\n",
       "b1hgXVFx7CQZO+v/DSt821jMhwtm5fk/TnAd4N5FW2EAAAAASUVORK5CYII=\n",
       "\" style=\"display:inline;vertical-align:middle;\" /></a><br>(see <a class=\"ProveItLink\" href=\"../../../__pv_it/theorems/96bf97c98e7ffa5c900449efec2a5223d3181a7e0/dependencies.ipynb\">dependencies</a>)<br>"
      ],
      "text/plain": [
       "<IPython.core.display.HTML object>"
      ]
     },
     "metadata": {},
     "output_type": "display_data"
    }
   ],
   "source": [
    "%proving complete_interval_image_size"
   ]
  },
  {
   "cell_type": "code",
   "execution_count": null,
   "metadata": {},
   "outputs": [],
   "source": []
  }
 ],
 "metadata": {
  "kernelspec": {
   "display_name": "Python 3",
   "language": "python",
   "name": "python3"
  }
 },
 "nbformat": 4,
 "nbformat_minor": 0
}