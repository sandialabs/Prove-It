{
 "cells": [
  {
   "cell_type": "markdown",
   "metadata": {},
   "source": [
    "Proof of <a class=\"ProveItLink\" href=\"../../../../../_theory_nbs_/theory.ipynb\">proveit</a>.<a class=\"ProveItLink\" href=\"../../../../_theory_nbs_/theory.ipynb\">numbers</a>.<a class=\"ProveItLink\" href=\"../../theory.ipynb\">modular</a>.<a class=\"ProveItLink\" href=\"../../theorems.ipynb#mod_natpos_in_interval\">mod_natpos_in_interval</a> theorem\n",
    "========"
   ]
  },
  {
   "cell_type": "code",
   "execution_count": 1,
   "metadata": {},
   "outputs": [],
   "source": [
    "import proveit\n",
    "theory = proveit.Theory() # the theorem's theory"
   ]
  },
  {
   "cell_type": "code",
   "execution_count": 2,
   "metadata": {},
   "outputs": [
    {
     "data": {
      "text/html": [
       "With these <a href=\"allowed_presumptions.txt\">allowed</a>/<a href=\"disallowed_presumptions.txt\">disallowed</a> theorem/theory presumptions (e.g., to avoid circular dependencies), we begin our proof of<br><strong id=\"mod_natpos_in_interval\">mod_natpos_in_interval:</strong> <a class=\"ProveItLink\" href=\"../../../__pv_it/theorems/d7344fa6d9a26ffb302a69dffba8327819dd13850/expr.ipynb\"><img src=\"data:image/png;base64,iVBORw0KGgoAAAANSUhEUgAAAU8AAAAXBAMAAAB5SdDvAAAAMFBMVEX///8AAAAAAAAAAAAAAAAA\n",
       "AAAAAAAAAAAAAAAAAAAAAAAAAAAAAAAAAAAAAAAAAAAv3aB7AAAAD3RSTlMAq1RmmUTNIjK7EInv\n",
       "3XZ/CtNrAAAACXBIWXMAAA7EAAAOxAGVKw4bAAAEj0lEQVRIx9WXf2wTZRjHv22v7fWu7SokxonB\n",
       "GqOZEaEmukSDUMMkmCXahPjPJGwKxgyj6dCYEBGLMfyj2PkD9BTJ4X9zhHY60UGMC2KCEAyYCRFs\n",
       "0sVFXIzNgrIhIPF53/fa3fW9up5/6Zs8vbv3ved9P+/zPj+uwL9oWUvmbmG5S3vE01obm19MavGk\n",
       "kCZasCx1/dzlaTG11QTW0k2CPd3sSfd2Sxpu5McMuwwcp5+f6gf9l+jn4IRsI23XCQnyDP1EiDCe\n",
       "Ah5gPU964dR6hDRuL3FQrCcJmXVjOuGEktppWSuUruvYs/KSpYANwFbmSf1eQJWUkMatRYCeJwmk\n",
       "XUDvA0ZctCRvitdA7xJb1pNeQKOWzAUaZMvgqLXmB6VTNdA3gCWmpNVtNgaNmgiQbUKeXPRWS+YC\n",
       "5StgnQiqZ0ybRf8A8rJtvkBj0BBRHi+VjnkC7bQkvOAcj+lth7dMltdOZqA9NMEID1byHDS0cJxo\n",
       "hrjO86bt6DUGKvvOY5V5DUF1iqhVwHtN4BVrd+ssWZON8MPFyaT6eyYwiu1Z7Ab2JvElBy1s0GaA\n",
       "djijVelB+DKBSnlLmzYLWRfQ+ChzdQrePoQTTYDOBsV3QrSvoIiEsgv4E+pFnKX1c9hZjXpyw2+B\n",
       "RfyV2SSxOSVAiy55K1p2AQ2zmPQTbcTUM7ZB3zfD7zOobVYmCI99iqUJO+jXQpQpxMRqBnCZQFWa\n",
       "saWoXSVb8glXsm7keUIk/yr9wO76nqAtUne3ZFEydQvNpz1dYi1XA8Wex2mCKYIt12JJHTcysay+\n",
       "jzmUj0G83roDN+mmYrqARvstIAZ6lUD9Fwi0X62BnkWQ0NfwY63lP/VBkwfTEimYaNfdSReLYj/N\n",
       "FmTn37OsOtBB+wjg5Wd5EqJ7ZRWrWuW0juGOsY6M8+gLZSyHHZRbND1r0fNQaKE7+CuzRYcVGlJY\n",
       "brqk0YdNF1Beyvxsgo8p7WNw2We8UDFv5MbLV64X9a/tli26w0d3Cykkca0/awPFYTrRDHqrPnoR\n",
       "e2nCe7hOxZHwl3K/qAfNkde7RT0PJnYkm2mP2ml1BgN8NLCR+8dv5oQ4sDb9w0cdoENCImX/mMI7\n",
       "ejnoBbyWw1M0XQY38h3Px9tWImNF0w4aS2pH+EOBVeNpKzhSEamKzVTTk8Ic0ccOOa2OYjUf3afz\n",
       "y1toD/L12pCedIBuF6It/LzvF/a89cp1t11J7P+rGO4cIlNqnZX8SR4Ew0z/e5F7WrtsoFrneE74\n",
       "JZt1zEpPC1bUcfpumJ5vgcaqfhfNxBNoNwwjieIBfEQ9R3B/oNcw3iTQwZAjj8ZyQpr7ILW8Mzhi\n",
       "K6GeGld4sfpUyEbuNV/lM7alcICuUzikFoVFg4sdmuw7Q/rW+KcvGHldz6A1Y0ez+dVmhAWdriB4\n",
       "QiviDPkvr1h3A+NO1XcsaaZtkur3qEdQyq+2z7vgisWfIPwu3d15za87E+ohvEKBuokOWD2Vhc+p\n",
       "OmBJM03aEC80XhpLHZG62jpoGJbT+oV/jxg73PyuLKSZfy3yl/xz8zxxvsBeP9dwuAv/k5b6zxH9\n",
       "DevnTjQXvZQbAAAAAElFTkSuQmCC\n",
       "\" style=\"display:inline;vertical-align:middle;\" /></a><br>(see <a class=\"ProveItLink\" href=\"../../../__pv_it/theorems/6fc05a547b77043584b3f6889f6ae3765f82af1b0/dependencies.ipynb\">dependencies</a>)<br>"
      ],
      "text/plain": [
       "<IPython.core.display.HTML object>"
      ]
     },
     "metadata": {},
     "output_type": "display_data"
    },
    {
     "name": "stdout",
     "output_type": "stream",
     "text": [
      "mod_natpos_in_interval may now be readily provable (assuming required theorems are usable).  Simply execute \"%qed\".\n"
     ]
    }
   ],
   "source": [
    "%proving mod_natpos_in_interval"
   ]
  },
  {
   "cell_type": "code",
   "execution_count": null,
   "metadata": {},
   "outputs": [],
   "source": []
  }
 ],
 "metadata": {
  "kernelspec": {
   "display_name": "Python 3",
   "language": "python",
   "name": "python3"
  }
 },
 "nbformat": 4,
 "nbformat_minor": 0
}