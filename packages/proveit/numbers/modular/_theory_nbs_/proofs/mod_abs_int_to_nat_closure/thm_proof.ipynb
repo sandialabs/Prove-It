{
 "cells": [
  {
   "cell_type": "markdown",
   "metadata": {},
   "source": [
    "Proof of <a class=\"ProveItLink\" href=\"../../../../../_theory_nbs_/theory.ipynb\">proveit</a>.<a class=\"ProveItLink\" href=\"../../../../_theory_nbs_/theory.ipynb\">numbers</a>.<a class=\"ProveItLink\" href=\"../../theory.ipynb\">modular</a>.<a class=\"ProveItLink\" href=\"../../theorems.ipynb#mod_abs_int_to_nat_closure\">mod_abs_int_to_nat_closure</a> theorem\n",
    "========"
   ]
  },
  {
   "cell_type": "code",
   "execution_count": 1,
   "metadata": {},
   "outputs": [],
   "source": [
    "import proveit\n",
    "theory = proveit.Theory() # the theorem's theory"
   ]
  },
  {
   "cell_type": "code",
   "execution_count": 2,
   "metadata": {},
   "outputs": [
    {
     "data": {
      "text/html": [
       "With these <a href=\"allowed_presumptions.txt\">allowed</a>/<a href=\"disallowed_presumptions.txt\">disallowed</a> theorem/theory presumptions (e.g., to avoid circular dependencies), we begin our proof of<br><strong id=\"mod_abs_int_to_nat_closure\">mod_abs_int_to_nat_closure:</strong> <a class=\"ProveItLink\" href=\"../../../__pv_it/theorems/27dcdb52988cb2f51ead598ceed7ca7f8103904f0/expr.ipynb\"><img src=\"data:image/png;base64,iVBORw0KGgoAAAANSUhEUgAAAOgAAAAXCAMAAAA2s/OGAAAAOVBMVEX///8AAAAAAAAAAAAAAAAA\n",
       "AAAAAAAAAAAAAAAAAAAAAAAAAAAAAAAAAAAAAAAAAAAAAAAAAAAAAAACXHtMAAAAEnRSTlMAq1Rm\n",
       "mUTNIjK7EInv3Xbt5cmRiLwgAAAACXBIWXMAAA7EAAAOxAGVKw4bAAADd0lEQVRYw9VYiXYbIQwU\n",
       "9620/P/HVgJ2za7xUTd2XnmJ46x5oJFmBmGAHxlu/F49fNdmPzRQ0ksyp6dXD14csdQQbOQVc80G\n",
       "DPJTsX8u1adwygTvBAoQJJgGLNaWV0am99Xtp0ocLbwZqCgOUqtb7tCovH4rqQufKqhWbwcqwyhc\n",
       "af8rPdC2beSngGb4ZqAYCg07AXUKwdkdKGQCqYY07ccUar8XqLEYzxV1IDxg2oFaBpk5HSWnjzE3\n",
       "HXA5kdDh60CdjdfUJdYSeYPZgCYWqPbNqOJLQd+xnFsfWDUDNZmDqvFloCsPZaBe0zkTB1BlW0q3\n",
       "l9Pw9uxPIoek6efi4zdn96hTwiumFDnNiLlZf3m9oivJMVBQEmQYfiDzVszlJmIL0qMIxAMg14YU\n",
       "J0mE1WzYE0eWAOacrWwmoLoddCW9DNR35dEIJ6AgIlVmzGrbSLxhRdkPgurxhrLvpZsai7CYPW3V\n",
       "HlV3B2gO7Vg3LwON4VZFIQrYqGvGedpS3z5LCtMWmK+IlJXeWFxUOetypu6Y3RduJXJNelnepm6s\n",
       "vLGqz7gujoVOGik3gRIRtwBlGUfocK5I3PR7BbBEQH3MmXLSr4GO2Trw+KJfRUvxsuXUWgacgXLw\n",
       "woJ0jytq5UIjgLhoAUeM6EeAqv91WWwcZdLv01WzKzMFGhEOu0xAx2zYm0sYQPMpkiQm6jJqWTpN\n",
       "HgENcqGRC/7VI22PR5rwF/mgmEWnBUXfitS2SeRFBDcugI7Zs246despEF9m1xWYvBPo+4MYipek\n",
       "AKWE6RnDFHvdFI7wDxppSwQTj6dFzeHQVkM55jAya4PacNQuMH+poZGea5VWQMdspu6v36FRd21G\n",
       "UPztzshxWliETVXs9M1PWkWGRodG5t4ohWMLeNVUnIWcWaJGRTIlDih2bl96idQoZsqKutvs6Z7Q\n",
       "9GOuTmil7wGlzULqCuqHArG7U2NUdNbI310jptRoJZHvN56z53UXutu0rYQgpgUrlq6rN1uYmixq\n",
       "GPR1ixTcHaCsJOxAVbMLocHUSXmTRp7tEu9dzGZhxcRUXFnFagWJz519j4H2itpTReviyHrgYndu\n",
       "2ua51jc82ZOdU4zN+88HpR9AwwDaoDm+YgnFb+RJI8/e4u59o/Dk1yqLDeW/XJ+jqJoYa40TlW0i\n",
       "IerOc3LdYv1RIx/+Nu//GH8AKmIdaS+xB70AAAAASUVORK5CYII=\n",
       "\" style=\"display:inline;vertical-align:middle;\" /></a><br>(see <a class=\"ProveItLink\" href=\"../../../__pv_it/theorems/befc02fcac742b5e6a75237ffd7173e09ad8658c0/dependencies.ipynb\">dependencies</a>)<br>"
      ],
      "text/plain": [
       "<IPython.core.display.HTML object>"
      ]
     },
     "metadata": {},
     "output_type": "display_data"
    }
   ],
   "source": [
    "%proving mod_abs_int_to_nat_closure"
   ]
  },
  {
   "cell_type": "code",
   "execution_count": null,
   "metadata": {},
   "outputs": [],
   "source": []
  }
 ],
 "metadata": {
  "kernelspec": {
   "display_name": "Python 3",
   "language": "python",
   "name": "python3"
  }
 },
 "nbformat": 4,
 "nbformat_minor": 0
}