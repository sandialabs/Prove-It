{
 "cells": [
  {
   "cell_type": "markdown",
   "metadata": {},
   "source": [
    "Proof of <a class=\"ProveItLink\" href=\"../../../../../_theory_nbs_/theory.ipynb\">proveit</a>.<a class=\"ProveItLink\" href=\"../../../../_theory_nbs_/theory.ipynb\">numbers</a>.<a class=\"ProveItLink\" href=\"../../theory.ipynb\">modular</a>.<a class=\"ProveItLink\" href=\"../../theorems.ipynb#complete_interval_image\">complete_interval_image</a> theorem\n",
    "========"
   ]
  },
  {
   "cell_type": "code",
   "execution_count": 1,
   "metadata": {},
   "outputs": [],
   "source": [
    "import proveit\n",
    "theory = proveit.Theory() # the theorem's theory"
   ]
  },
  {
   "cell_type": "code",
   "execution_count": 2,
   "metadata": {},
   "outputs": [
    {
     "data": {
      "text/html": [
       "With these <a href=\"allowed_presumptions.txt\">allowed</a>/<a href=\"disallowed_presumptions.txt\">disallowed</a> theorem/theory presumptions (e.g., to avoid circular dependencies), we begin our proof of<br><strong id=\"complete_interval_image\">complete_interval_image:</strong> <a class=\"ProveItLink\" href=\"../../../__pv_it/theorems/30f4aedded08995834b26c46b3da7e685c1740af0/expr.ipynb\"><img src=\"data:image/png;base64,iVBORw0KGgoAAAANSUhEUgAAAmwAAAAmBAMAAACL59o1AAAAMFBMVEX///8AAAAAAAAAAAAAAAAA\n",
       "AAAAAAAAAAAAAAAAAAAAAAAAAAAAAAAAAAAAAAAAAAAv3aB7AAAAD3RSTlMAq1RmmUTNIjK7EInv\n",
       "3XZ/CtNrAAAACXBIWXMAAA7EAAAOxAGVKw4bAAAHrklEQVRo3tWaa2wUVRTHz3YfMzuz3W0JEiEN\n",
       "rDGW+oWuGjDBCtuAPERkg0KihLSQoIIKS0JMSBq6VMIHg24Bq7YmdDRg1IodeWhKISwQQ8UYqiE2\n",
       "Io3bSCSALNhSykOt9zFz93V3u0+ze5LObHfOzL3zm3P/59w7C5CKlYyOuiCfZnJCEdgnCtktGb2b\n",
       "mn9JWZ47VFsM1EA8r304UxjYjPVFgQ0eKSxsO5TiwGZ1FhS2V4uDGkhnCglbyd0iwaZrcGFgK1WL\n",
       "BVujt4Cw+ZViwWZVCwjbRLrb50n9FGFqNhK1LO1TtPaMgQLCNkS29jXpBN3Wtszb++PF9M+h7QmD\n",
       "GjYC5MGxsRnIPi9zBXGE7KqTUbNfoKFob78NsPxvdA87s8tA3Re9nEOXR31g3vBdTE/exv/T9s5p\n",
       "2J7Cu5fHxmbC3bZ481Ls3iC7Y8nFWBvB1r/Q5vyY7slM7kV34pT6eMfaURiVRlOTxm9QWHvzNGxb\n",
       "ceg1j41NxGG5OS9j1FCfAjaHhm1pO3p0atbYngTo4hwyP4wiX4799noY23UNmwV9JTtT0LZ1aH8g\n",
       "L9hsZWlgO1KngtmZNbadfFGQ991DTyYJtmofxWZEcmVJJSU8hvb5mTo61DSwuUsDICtZY7uJyh5O\n",
       "sJjgAnoySbDRk1Am/aG///tUsNn6+y/kpyx1uBi2Lwc+7cYdE1+bH9pjDrUA7A1h9e0O+XVsxiF0\n",
       "c9likzA2Fw/bbBe4k2DrdGnYFgC0pYLN5ANrfsrSRidTW7d9sqmXTBzGgX861IDYB9YgfOGE4xQb\n",
       "Gp//UPH5M602Fvdj+5GyqQcBjUV/MN5tKTh6QeVio+05ghq2jSDwqzI1Ghvy2pi4Wya2fYJbpIiH\n",
       "FN0pfpJAsAmnUE71Gu8ayPnWADiawe9D8y7xNrzHMikan0s8yyJgZ2ANLoqNM3aOgGnY7OFio+1R\n",
       "QUHYrIqM/MztLli+nhbE5w5DDeLkjil32+Aw+2K7nnsrPlx4iNwmaFsxEN8Z7C2X4cNiC/3mhSEw\n",
       "v6Q/7TrcT2EC2oo4EuiVmnEP/T6M9J70LxodHv3BNDYT8ZEmZMht4xp0MsJWx4k2Nwh3iHKC9DqJ\n",
       "Tx/DRttzuDVsJUGSEQYCYEep/Z2JLfCArJiUeGzTIjKCAUPHvn1w5EoUthJO2sDe+Ht0uGMXrVor\n",
       "AC5FR9s2IhW2YBhbEGGrRrTuiGFsaHxaR0jP5DWZVtcLFZISqp3cEda+CbjRRttj2KB+Fv709BDu\n",
       "kmkBnjME3TLEY7MYw4/H5tN8XeJU15jYsLeGDey7SdAgaVWjsdEyvM4rKZHY8LGbEdGGigPzTZUz\n",
       "qTAehITiEKNtVnQ3rQCz45UaVzZ1i/jYaHtM2+DAOsJ5Mcb2O/5Y9dAWGQ7NPTfXE4VNrkQnSgev\n",
       "4pmCPzSJ+oLJBHHYNKeweCFvHRsY9+BrmSKUt5Fl0s88FVqxqWOzucE8DGuZtuHx+Rv5eDT61nZA\n",
       "YnHgFCA1esEffQTdYekwH9vRiKyPsTXgC4vOTmcTSESyquSPV3CiTTiBNvu9fkzkmnKR+sLjVdHY\n",
       "jPXMiRnyBnOv7mQ8DdAkDYpsjHQGdWzVbz2jFZsWis0j9oBFhQYPTCH9lXCanR1T5mGxgEpILA4c\n",
       "bKVOqYc2jh/zLe3I/vBUL9KOe1l7jXrdBgYse3bF1HsFzKRvVeC+zMEG96O/ufSx7oYZ1FcKqtHY\n",
       "tvuYEzPkDbBeoU5SFwqWK7DYzsaIza1z2BsqmUP6JU450dR+Qt7wK2zqvg+dsyjkxwNMqrjl1Nti\n",
       "2IhYcLHp4sDBJi0a8NElUjeboMNHZ1ejbdxMs/zsKhcrdz1RC0cmEIZVMK5tbd2FsHVYeNiwfQsD\n",
       "eNcDtdRXlhUiRjo2sVxhTsx68GJyZZA4CbU+cu3GFeywpTmFWUKcYXf7xS3zNbHA2DpmfQM8ceBg\n",
       "S9+ORSzTMGxIUSagEkml0WaeFl+30dWAEdj9OdrfgJPUd+mbdKrDos1expyYIW8QAuSwUO6jGcsQ\n",
       "fu1iCmSK7ZKhebUmFiiepT5tCSpWHHKI7Vj0MmUTHbakCJgOMdESEW2nxeGZkgrnjc3UV3XDyriU\n",
       "gJ3wvx0gEbbYm6YEaTwRPaRr2oIfETv6Bia9sp8oussa9FGxEF9B+N0xRaMuDrFrd4FMsM0Lp3uG\n",
       "zf6LDwzo+ptRLIg/e+miJA/b849edYknYVuI+hrLJ3etisOGnUh284qnSUkW0gsQWl3AtQ8AJoUX\n",
       "tAYh/bJfOkUSm1cTlq3ocjaPvYwrDrEL3IOZLKSfiliIjl0Ul7paW8ZeFC+J901at5Fz9AKEY+/S\n",
       "u6lNg5vwlZOWHV4qFnh8dHqtMxWeOMTapnHpv0ug7ZlHsniXwFmKZ9jMveljq8mw3hcCX6Pk0qan\n",
       "BJvX/xyZBqlIHiLFIXcm12eBzZUEG6znX2I7qRzEVmTvxx7r9GR4F8+uCClELAg285xpZKqAlGGH\n",
       "N1Iccrii6swCG+/Bs63IHWqCjzklfIYZGhWLSkgc5bkzLW0VyG9AerK/xMr/BdvJgsI2I/tLWIKJ\n",
       "xSFnZq8vKGyWHLx/bYKE4pAza/AWFDb+O8uCM+knSA9bvn+7+4ZSDNisFELKv93Nu+V2LOXL9rFP\n",
       "/wF8zkZGRjFvyAAAAABJRU5ErkJggg==\n",
       "\" style=\"display:inline;vertical-align:middle;\" /></a><br>(see <a class=\"ProveItLink\" href=\"../../../__pv_it/theorems/25d9775947524d7ee02e4e5999355e4db70837040/dependencies.ipynb\">dependencies</a>)<br>"
      ],
      "text/plain": [
       "<IPython.core.display.HTML object>"
      ]
     },
     "metadata": {},
     "output_type": "display_data"
    }
   ],
   "source": [
    "%proving complete_interval_image"
   ]
  },
  {
   "cell_type": "code",
   "execution_count": null,
   "metadata": {},
   "outputs": [],
   "source": []
  }
 ],
 "metadata": {
  "kernelspec": {
   "display_name": "Python 3",
   "language": "python",
   "name": "python3"
  }
 },
 "nbformat": 4,
 "nbformat_minor": 0
}