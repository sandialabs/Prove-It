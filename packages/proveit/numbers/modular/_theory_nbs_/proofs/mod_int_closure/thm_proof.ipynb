{
 "cells": [
  {
   "cell_type": "markdown",
   "metadata": {},
   "source": [
    "Proof of <a class=\"ProveItLink\" href=\"../../../../../_theory_nbs_/theory.ipynb\">proveit</a>.<a class=\"ProveItLink\" href=\"../../../../_theory_nbs_/theory.ipynb\">numbers</a>.<a class=\"ProveItLink\" href=\"../../theory.ipynb\">modular</a>.<a class=\"ProveItLink\" href=\"../../theorems.ipynb#mod_int_closure\">mod_int_closure</a> theorem\n",
    "========"
   ]
  },
  {
   "cell_type": "code",
   "execution_count": 1,
   "metadata": {},
   "outputs": [],
   "source": [
    "import proveit\n",
    "theory = proveit.Theory() # the theorem's theory"
   ]
  },
  {
   "cell_type": "code",
   "execution_count": 2,
   "metadata": {},
   "outputs": [
    {
     "data": {
      "text/html": [
       "With these <a href=\"allowed_presumptions.txt\">allowed</a>/<a href=\"disallowed_presumptions.txt\">disallowed</a> theorem/theory presumptions (e.g., to avoid circular dependencies), we begin our proof of<br><strong id=\"mod_int_closure\">mod_int_closure:</strong> <a class=\"ProveItLink\" href=\"../../../__pv_it/theorems/4f6d80afb7e0ed6053eea8995fb36580a0239c6c0/expr.ipynb\"><img src=\"data:image/png;base64,iVBORw0KGgoAAAANSUhEUgAAAP8AAAAXCAMAAADzwWkXAAAAOVBMVEX///8AAAAAAAAAAAAAAAAA\n",
       "AAAAAAAAAAAAAAAAAAAAAAAAAAAAAAAAAAAAAAAAAAAAAAAAAAAAAAACXHtMAAAAEnRSTlMAq1Rm\n",
       "mUTNIjK7EInv3Xbt5cmRiLwgAAAACXBIWXMAAA7EAAAOxAGVKw4bAAADy0lEQVRYw+VYiZbjKAzk\n",
       "BnHNLP//sQsCbOGQZKbbm33zxi8duZ0yoaTS4TD2vxz2Ym9d9L+B33lksdp7Dp3fAISJJRpICaKc\n",
       "cH5+Kj9FX4TV/r7/UtTHPx5iGpffMMjAXTUGXwOujoXMpwThzWq/IvWiyX9GzRP/8i6lBu0gDrib\n",
       "ArDwqfArudqvHAv/MtNIqpc3cYtyaa8TPn0WxKf4x4v9Ln9djrBHfxF8qschM/xQOYZZMOFyRMF8\n",
       "LPvNar/NP6QzE6iktMmP+VD17tQCj81HKYaPyT+sllkesj1rtzNR2Zwh1wqdAXl6lfNRqELI2VH+\n",
       "hufMu3oDJzViWw3At9dcindB9OtfIvOizD25PmM0rY41LaEQeGpsXJGVo2xJ4lJLXEAX+diYBsLf\n",
       "l0rUF6zekmhqW89ry5GnqxFu+Xy7SsVcSyKPEFR9EXc+hQc9gnUVVhKL9RHbUKIxwspQ2nKu1Ogk\n",
       "XAJPGZhr/RfouoisBKkp2/Qyy/UOb6EPelcv59Zd5tCU2OIQPM0q2MHZ4dDma33x4mzdw6qCzqD3\n",
       "At5RwiDtRn1vF3zpKiD8lTnQFXqGo+d1PWAZvDrTTqHDRX7irOhm3xwnNVJOWFpjYAM/e02/VOwr\n",
       "/hEufA7+efAX48MmCPfIH12nu490JGPRJiVhtvm+vQE3R074IHOY263flbm/jFVqTXmq/wHvSR26\n",
       "TFGa4oX+e0BlYc/5H/FX2/jjp6rXD0HSKG0E7QZx379vwIMYpdJXgbsjXDl5ltXqSGmFe8J/wBW0\n",
       "40f9k3Wttm5a5xzI1HrcPjdM2Gf8WVS9zTfOvcjQ/G+IXkTq9uh+Hh4HauPTPXo8UbiN/BwQ3SGh\n",
       "SqBVSE227zNbyxn5vgGnk7gjpYktTee0zQ0iLbIylL9uW8KxvUsK04aXc1O8noK69FRcRjz2Pgy0\n",
       "BQELfA5Ebe3MaT4rXjlhRAH7Ti1/1Qt+x3/Aae51/Zd1Hy4t1vMcnOXZnRNKidwJqO8smNLS26oQ\n",
       "+Ii4V9j/07FNz8MxSSdaRjwHTZuwjmBiJVIfAiE8wllvoiAnvdJz150+1cK1bwpb/gPe9P/zH0D9\n",
       "b+sfS261N/4CcMl5HYDOv+/gLLb017KOE41zzWdMEDIvoUp12up/wskzFeagvo4W8ynlzdPKN56s\n",
       "vgrXSoocWpdrNdupXkIszPbHeRUrGL6v/2pWHDJL1vlHPQyCYFd7W/jhPjjNWR+anHcTEtstId79\n",
       "DjPLg7/5kfs3/fkKrn/xcQD2M+Y7z+fV3vSrmr0P/quJtOEvNPt7DvuH7/9fRhohdxZqfiYAAAAA\n",
       "SUVORK5CYII=\n",
       "\" style=\"display:inline;vertical-align:middle;\" /></a><br>(see <a class=\"ProveItLink\" href=\"../../../__pv_it/theorems/80b7e4eef3e4cb6e04d883f5d27de24e8b2a82e20/dependencies.ipynb\">dependencies</a>)<br>"
      ],
      "text/plain": [
       "<IPython.core.display.HTML object>"
      ]
     },
     "metadata": {},
     "output_type": "display_data"
    },
    {
     "name": "stdout",
     "output_type": "stream",
     "text": [
      "mod_int_closure may now be readily provable (assuming required theorems are usable).  Simply execute \"%qed\".\n"
     ]
    }
   ],
   "source": [
    "%proving mod_int_closure"
   ]
  },
  {
   "cell_type": "code",
   "execution_count": null,
   "metadata": {},
   "outputs": [],
   "source": []
  }
 ],
 "metadata": {
  "kernelspec": {
   "display_name": "Python 3",
   "language": "python",
   "name": "python3"
  }
 },
 "nbformat": 4,
 "nbformat_minor": 0
}