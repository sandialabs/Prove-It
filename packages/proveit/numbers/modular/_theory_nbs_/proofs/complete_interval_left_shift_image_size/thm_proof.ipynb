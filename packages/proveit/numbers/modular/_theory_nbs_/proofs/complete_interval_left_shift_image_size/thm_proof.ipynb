{
 "cells": [
  {
   "cell_type": "markdown",
   "metadata": {},
   "source": [
    "Proof of <a class=\"ProveItLink\" href=\"../../../../../_theory_nbs_/theory.ipynb\">proveit</a>.<a class=\"ProveItLink\" href=\"../../../../_theory_nbs_/theory.ipynb\">numbers</a>.<a class=\"ProveItLink\" href=\"../../theory.ipynb\">modular</a>.<a class=\"ProveItLink\" href=\"../../theorems.ipynb#complete_interval_left_shift_image_size\">complete_interval_left_shift_image_size</a> theorem\n",
    "========"
   ]
  },
  {
   "cell_type": "code",
   "execution_count": 1,
   "metadata": {},
   "outputs": [],
   "source": [
    "import proveit\n",
    "theory = proveit.Theory() # the theorem's theory"
   ]
  },
  {
   "cell_type": "code",
   "execution_count": 2,
   "metadata": {},
   "outputs": [
    {
     "data": {
      "text/html": [
       "With these <a href=\"allowed_presumptions.txt\">allowed</a>/<a href=\"disallowed_presumptions.txt\">disallowed</a> theorem/theory presumptions (e.g., to avoid circular dependencies), we begin our proof of<br><strong id=\"complete_interval_left_shift_image_size\">complete_interval_left_shift_image_size:</strong> <a class=\"ProveItLink\" href=\"../../../__pv_it/theorems/3a881e441d8dc6af5ab067fd60cb9f71629424f70/expr.ipynb\"><img src=\"data:image/png;base64,iVBORw0KGgoAAAANSUhEUgAAAl0AAAAmBAMAAAAM1jMzAAAAMFBMVEX///8AAAAAAAAAAAAAAAAA\n",
       "AAAAAAAAAAAAAAAAAAAAAAAAAAAAAAAAAAAAAAAAAAAv3aB7AAAAD3RSTlMAq1RmmUTNIjK7EInv\n",
       "3XZ/CtNrAAAACXBIWXMAAA7EAAAOxAGVKw4bAAAHkUlEQVRo3s2abWwURRjHn97t9fZ2r9fTD6Qq\n",
       "wTVGKFHLRaIGQuAUlJcCXkD4AGIrhiiY4DbpB0gQDjQmaLEnBEmLoYvRBKi1x6sBfKmIQVFjMSgR\n",
       "uXgNBG3RBilny2udl929nd7u3pXjmp2kc3vdmZ2d3zzP/3lmWoBciqu/PwRDUJ4EZxZhGa65/n4l\n",
       "t/au4JC8Fhd0KC/YQEH5ncXrMafiAnfQgbz4447lBRsdyKs47lxeHyvO4zVGcS4vKq3O4vW7c3GB\n",
       "t9dxvPirDuYFWx3HqyiGKpnmO/NAvzZZ69ytYtTgjMjm3gTH8SrFKfF+cnl+AaoCkkVDTzLnZ65t\n",
       "HMwbiBHre2skyouQuD87ryLyWcgsv17WeLmIZz5o2fKs1Y3AGTrjQFMfwPzrCNa7+fHq7I+C59Xv\n",
       "kFmVhCmvp/CvX8rOi8PPKpYLyGsSaLzEduyT1daJh6VbrFFn7PsXVafRz+d52lcTsqcSPBxXTXmt\n",
       "xX4by86Lx4a4spD+OIzlxRlteS6bbYctfVqd8ZwmtLLx/Hl5RqO4KBKTvUh54bUSpRz0C2859xSS\n",
       "11csL7/xXgXb9Hg2Xoeq4uCR8uclfnQNwScI+igvN1rG4lz0fiz6rC4kr2ssr5E2vF7Mxitc0gai\n",
       "kj8vDs4g+CTbuaTGxx8Tie9z4eVPJM4UdMPSw/KqxFdfnI0yvD7p2HEYmc1u+u3No6s7k893RkCY\n",
       "fQ5P9XB3vcbL3YPmejt4TQoB8X6hR+U1DaAxF15cFHyF3LB4L+m8iLZiG3pN4mIMr3BgBNeePsg4\n",
       "IfE9EXcbbJBhG9rjSfAlnTFyxRtUdv4eNC8uQQrNoOZAaTtQK7mp8qoBr3l2FWd5oVY1WUcMa7V7\n",
       "r+n9t2fojTLS+zSvVVjqfyY7JH/SyMstu68WoZsPqX3eB7gCfB/eSdVH4T09PiJXfCYyT0+bbt2+\n",
       "DgGX8kR0ucC8fApu5mkKwfzldKFP7ocJQWZaJF9tVJNJ4glsRB2+dfo+chHT6joTIEuBelIM1qtm\n",
       "kB4UfUlpvGqW4Ktv0FLTHdKsROKHROIEfgQ1PahX+zTgafB9GHVpXEAW0BpR3QjWxIjsCMOkfHiF\n",
       "wXtFpF51WeXlShK572iDAIrB79y1Ge4TFU7J5FVhkPuitPHhHqfgUBfLa6TJ69yjqngMhIN0Fuqg\n",
       "A+yLn65QXv5Yht5Te3suzesm4uVCqEtjfJoXckVfL3l/cUle9oWm2VQLDC+onoi/zujBo3DTcLaf\n",
       "DIuQyavYnd6H+KO6IuIeIX5UKDuvb3VeKHEOpQfN8EdfkPpjazKDV5UsoHd+mOVF7CtssC+UAXgu\n",
       "x03OiOxkwkS/cEpSVQmMfsEecpgfn4Vfnew0yh9YLcK+KSenRBhe4kjUWth7ARtEfffdJHxNVPcm\n",
       "HAeZvJonfsr4480ORecF45L6oKreD4iP2+iOMmLktTMynHQYx/KCo2haEViq6xd2xT/I5WcsGDuZ\n",
       "MLEv7IolqXT4JrxWYRi81CqtA4FMpVz8YKGJfXlxQtkik23eP8o5VJdE6mgPeLx8AC8UwYRTfC+z\n",
       "uTsdCMMivdEEWR1ULdg8jLzQFFBwFJl8YsxbM0n2qC45JoR4paAuCq+giUTgXmK2Qru2vTLkE1g3\n",
       "bGXChFcLNsmL6fBNeBXhVwooXHsXeMhw5RDuNOEFZehnCl2iTSSkT4cdtIeQjLO8+JfRbMN8m3Fw\n",
       "X8hdDcVdaqPmzdqgWjnK8tqAE6qxXYw/ftjtmoyV7xf19OF62ejrwQM34t7K3WiqQmV3PY4KwvD/\n",
       "UCMfy4vohq1MZPLa/tNifU58ijnP4cCbioN7aUPDRsSrudiMF41aHXSMJ6gk0x6iqAiKkdda5K7+\n",
       "SIBJVPxRLgiu5bRRbZk+KKSNxcirJGqZ33vbc5ZwzCtwbvVUVTfsZML+PIecmaR5IVUYFgc+Tu3L\n",
       "U5GZf1Gn6YVNu9DnRTiCauRutMec1+nuI+2PiGqr7BtvVNtS8Euwit6uKUsPqpWZLC9mU83ut7nQ\n",
       "oHj9WRRbrOqGnUzY86J7Wn0+62hqRzL9R4EakZl9HeNT44U4nHbHUL0EzZj0iGsjGvXeL9fPxc9v\n",
       "BoFAKVHGafFx+1TjoNp5jqLxChA/3mL57oM4JnkaR29fMkp1w1Ym7HmRmK3zCvwWhSL0ZSVyAv5X\n",
       "mZ4OmvF69pELIf4IvNENqK5F8oJ7uO8YcfCFDF6eyRUketfJ/DHysrOTGq9dzKBqaZU0XnRrtNPy\n",
       "3bfkjEv4mli2rOqGrUzY8yKnvxnn0cLBhs3Zz6NdhprtYZt/gSH/MltB7IB/kcvaOzE1q2PnQM6n\n",
       "lt7dEs0iZKobtjKBHhy1flSVfOvn9wsMNVt0XosGz8vdVqCNfNsBFLsateE1mUAi0czIhH05kMff\n",
       "O0KG2oJXsblx8DRAr29AZaCVCKkCnXzMXtitEN1gZAKJRJ1slAn7ciQPXtZF1ut1pvdXpBtZLGGh\n",
       "CtUNO5mwLTQEOevv2/5owYdYdKu8/JLzeLmrCz6EnUzYlvPgPF7Wx/K3r9jIhG3MOOZEXi0yOLS0\n",
       "SIPjNTT/v+pd5lRem8g2LOf/Xx2qssKhuAQ98f8fhnJFq96o81MAAAAASUVORK5CYII=\n",
       "\" style=\"display:inline;vertical-align:middle;\" /></a><br>(see <a class=\"ProveItLink\" href=\"../../../__pv_it/theorems/91b87b3b49fb48360298ed440e7d9daed611e5f20/dependencies.ipynb\">dependencies</a>)<br>"
      ],
      "text/plain": [
       "<IPython.core.display.HTML object>"
      ]
     },
     "metadata": {},
     "output_type": "display_data"
    }
   ],
   "source": [
    "%proving complete_interval_left_shift_image_size"
   ]
  },
  {
   "cell_type": "code",
   "execution_count": null,
   "metadata": {},
   "outputs": [],
   "source": []
  }
 ],
 "metadata": {
  "kernelspec": {
   "display_name": "Python 3",
   "language": "python",
   "name": "python3"
  }
 },
 "nbformat": 4,
 "nbformat_minor": 0
}