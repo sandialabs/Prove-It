{
 "cells": [
  {
   "cell_type": "markdown",
   "metadata": {},
   "source": [
    "Proof of <a class=\"ProveItLink\" href=\"../../../../../_theory_nbs_/theory.ipynb\">proveit</a>.<a class=\"ProveItLink\" href=\"../../../../_theory_nbs_/theory.ipynb\">numbers</a>.<a class=\"ProveItLink\" href=\"../../theory.ipynb\">modular</a>.<a class=\"ProveItLink\" href=\"../../theorems.ipynb#mod_abs_in_interval\">mod_abs_in_interval</a> theorem\n",
    "========"
   ]
  },
  {
   "cell_type": "code",
   "execution_count": 1,
   "metadata": {},
   "outputs": [],
   "source": [
    "import proveit\n",
    "theory = proveit.Theory() # the theorem's theory"
   ]
  },
  {
   "cell_type": "code",
   "execution_count": 2,
   "metadata": {},
   "outputs": [
    {
     "data": {
      "text/html": [
       "With these <a href=\"allowed_presumptions.txt\">allowed</a>/<a href=\"disallowed_presumptions.txt\">disallowed</a> theorem/theory presumptions (e.g., to avoid circular dependencies), we begin our proof of<br><strong id=\"mod_abs_in_interval\">mod_abs_in_interval:</strong> <a class=\"ProveItLink\" href=\"../../../__pv_it/theorems/493e05393daa666fd01f177b819912a3f0275f070/expr.ipynb\"><img src=\"data:image/png;base64,iVBORw0KGgoAAAANSUhEUgAAAVMAAAAXCAMAAACBK1yIAAAAOVBMVEX///8AAAAAAAAAAAAAAAAA\n",
       "AAAAAAAAAAAAAAAAAAAAAAAAAAAAAAAAAAAAAAAAAAAAAAAAAAAAAAACXHtMAAAAEnRSTlMAq1Rm\n",
       "mUTNIjK7EInv3Xbt5cmRiLwgAAAACXBIWXMAAA7EAAAOxAGVKw4bAAAEWklEQVRYw+2ZiXLkKAyG\n",
       "zX0INLN+/4ddTpvG2DHexFs1NdSk0+WAgQ/pl8Qsy//SVPk5PPy+ZoV4tKwHC1JU/cgWphrS8AH9\n",
       "nkF85xRS2OlB3QpuL0gTkycTGD/J9gfK3kJKYflppnQtRAGQqymm1jh/c0Ha13MzhSNGiHwbJ98y\n",
       "XCuXH2cKBYsMHmG9mrNTye8syBIu68lt8y3SRrOtUmDeMlPOXmPK0i8wc0xXenNBeGTKeAGbntK3\n",
       "mLrlm5mi8aHJAdPskpsQ3GMqNt14wHRx4RErMipfU1P5vUyFRHtmp2vyYr3SGaYbn0dMZeTp4iF7\n",
       "B6+5PnysWBFAhc+ZKmlPfd9WpmyGqSSIhD5lCtE1uE5eYh/xuZDwsz9I9uFoLgQQk9b2jOk4tPLk\n",
       "DGqFzBRn4v4aTsmuaoopuvqMyWQo9aPPFGSv7cQZ4OHf9sCc9i5uBHiwf99GAOtS8uGf2+lQs1R6\n",
       "7c4UJphm9XU4xVRt8kJdNdHhcFKXopEYE3rEpARsI19m1HvZzoiFhYn+YJxoNsDXhBkeM9VZukIz\n",
       "zeQyv8pmmGLKTrOJx5Hbgqz0e9MjpiGzkpmqTjuieHLargznvHwJh6+pasTJDHpnwGp7tKoLps6k\n",
       "rYvHTO0oT9K8SFnWUzoVo9IBizhkwk4XKMcYxKy4DysHaYEhVAZBhpDYUhvsCtpqaOv7pXd+MWSH\n",
       "SF5Ez33fJgti650wi+VFncj4YedS15jUlU3lUukA+GqnmO7pGvUlNS2xM1YcerMrDJUX8k9LYIrq\n",
       "MdPSm5vYfoUfFl4VX+u7oGuwZRo3QORCb4SE4lyfIrMgXuX8bg9Yt5nqKvMzcX+PUaYoOqlOHgVq\n",
       "2zxLUUw0TCwuHxtqmJbee9W7FKau2zSQZgMRMPXZ+L/agqEDkdlRD2vT6BS2GRCCevflwJSExRt+\n",
       "S4xgs789l6qpItG71CFpBZKTACqZXtoRhBAV1mMHTEvvVuOy7/diptsbCksQtCKo8wNrvKZBQhgj\n",
       "Ih8Ogs3WyHALAo3IpFeY4xVU3aPlgKQ9A8/7L4dcisBZ9dyFcOJWSVjH1H8OSkmZYRXZmsVQ75Yp\n",
       "qE4+MWJaekff//2PSb4/jlFLiZzDOirlJFEwkyzFXMP6evhFT4vItJUUmJPa9KW7vmY+1U/sopwK\n",
       "FlLeuIew9iQOezkAyUeFH/l+7d1cyyStE4fMl/ErpmEyA1mCcloS5CEbfLHTVmS+3uPbTHlfsgnO\n",
       "KELMmKJNaJ71X5maShESXNVIMoz7vEaLpiSLt5fHmGvUBdPoVJiZ5ghDeMhsGuFsROYqSXiXaQ2D\n",
       "l7d7rQhaiL48mmD0Bvplgp319mum2U5lZ6frID87FlIrfZNpzhM2czm57LmX0Zm7xWK344gddW9b\n",
       "ujA1hWmiqOLlWYwEqoDcReZyCk7mqXZLOqzwbC6oc+HV7ffNi5zB3uh/uVm2JFQ+zEmhSCorAcv/\n",
       "fECI+17qT5H5M5ta/rZD+xfvEyj1WUHVGAAAAABJRU5ErkJggg==\n",
       "\" style=\"display:inline;vertical-align:middle;\" /></a><br>(see <a class=\"ProveItLink\" href=\"../../../__pv_it/theorems/3540c8cf3c9d041a98f50a042ad1cc3e42bc39cf0/dependencies.ipynb\">dependencies</a>)<br>"
      ],
      "text/plain": [
       "<IPython.core.display.HTML object>"
      ]
     },
     "metadata": {},
     "output_type": "display_data"
    }
   ],
   "source": [
    "%proving mod_abs_in_interval"
   ]
  },
  {
   "cell_type": "code",
   "execution_count": null,
   "metadata": {},
   "outputs": [],
   "source": []
  }
 ],
 "metadata": {
  "kernelspec": {
   "display_name": "Python 3",
   "language": "python",
   "name": "python3"
  }
 },
 "nbformat": 4,
 "nbformat_minor": 0
}