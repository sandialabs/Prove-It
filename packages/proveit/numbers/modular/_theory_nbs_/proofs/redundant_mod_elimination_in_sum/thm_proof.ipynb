{
 "cells": [
  {
   "cell_type": "markdown",
   "metadata": {},
   "source": [
    "Proof of <a class=\"ProveItLink\" href=\"../../../../../_theory_nbs_/theory.ipynb\">proveit</a>.<a class=\"ProveItLink\" href=\"../../../../_theory_nbs_/theory.ipynb\">numbers</a>.<a class=\"ProveItLink\" href=\"../../theory.ipynb\">modular</a>.<a class=\"ProveItLink\" href=\"../../theorems.ipynb#redundant_mod_elimination_in_sum\">redundant_mod_elimination_in_sum</a> theorem\n",
    "========"
   ]
  },
  {
   "cell_type": "code",
   "execution_count": 1,
   "metadata": {},
   "outputs": [],
   "source": [
    "import proveit\n",
    "theory = proveit.Theory() # the theorem's theory"
   ]
  },
  {
   "cell_type": "code",
   "execution_count": 2,
   "metadata": {},
   "outputs": [
    {
     "data": {
      "text/html": [
       "With these <a href=\"allowed_presumptions.txt\">allowed</a>/<a href=\"disallowed_presumptions.txt\">disallowed</a> theorem/theory presumptions (e.g., to avoid circular dependencies), we begin our proof of<br><strong id=\"redundant_mod_elimination_in_sum\">redundant_mod_elimination_in_sum:</strong> <a class=\"ProveItLink\" href=\"../../../__pv_it/theorems/d400d273496c0ff6f3a92ff99cae5e95327fb0fc0/expr.ipynb\"><img src=\"data:image/png;base64,iVBORw0KGgoAAAANSUhEUgAABA4AAAAzBAMAAADlW1cTAAAAMFBMVEX///8AAAAAAAAAAAAAAAAA\n",
       "AAAAAAAAAAAAAAAAAAAAAAAAAAAAAAAAAAAAAAAAAAAv3aB7AAAAD3RSTlMAq1RmmUTNIjK7EInv\n",
       "3XZ/CtNrAAAACXBIWXMAAA7EAAAOxAGVKw4bAAAMPUlEQVR42u1df4wUVx3/3v6cndnbXawStQbW\n",
       "X8gfPdgIRcEGtkJraVNdqzambco10Ji2prckJA0txdUYNfHsrVaUqwpLRSxH5VYKtYXkWDCEUqVZ\n",
       "W6ykcHZOSKFQjuPocRRC1/djZnfem5ndGXZnjNP7Jm/2zXfeft933vu8977vx3cXoBH19fWBqyT2\n",
       "9RVgglwsa0tV/GblXXd1a69U0lbTrp2oyqujzbSpRSqVPMD6ynuNv/FPt1Vsz1hO2paaqNGrI+EN\n",
       "JeLP4+vc/28cXMvehpXgJIVbnM5ZLbKmTzo8hAN/J3v/HyU4SVblB2UntbAq/V7TJ1LCOzhYxcLd\n",
       "V6TBSULyNx80eXZmH/0cqtyHxqtjjuphKj12lBZfbOqFa9DVfOB8zTs4+Dd7u0kJThKWv8yssx5T\n",
       "IlfwJeTopMdc+veU4ouX8fVBUwnXFbyCA3+JvV+oBK4LNW4SQbOW8o26XCx/1EwhBQfCZaJdup5A\n",
       "4+xNldI98JtOqeJK8fWQnnG2OZLSXsFBlBsDSkrgenLjodRnNsLOqMtF8oOXGuAgRj9frifQOHtT\n",
       "pfQPXm6Eg7PkM2rabwTHvYKDs+w7+jppcBIHWL5UboCD0Aj5WOooDpY2wkEX1cXcQLjPKzj4B3sb\n",
       "KNIAywdWGxWhCdsMB+FrT8g6LpYfmjKUxL3/d78yvC44vAZg4/BN2AAfOKngIE7B+GceBwPHcvrs\n",
       "peEv2sFBVYYinddi13CPUnwXmGmBAc0seAMHwkVuwEvRENwP6wv6IjRhm+LgnmwEDQB/ZLlYfv+D\n",
       "IulS2z8EPdfDDSD8CyIyiHtBUnCwhI5XcziBjycDeV324VdhsQ0cUBk5jXRWi2eTsJsWX/CyZmp9\n",
       "+yAmrt30y97AQRtnC7QnaXg2BbcD/L6TK0LCFndNKljDgfhXCKABYIDlYvmoHb2C45ESxPPQk2sv\n",
       "YkhGOqvzBaUmruNwcASisjiH0wp9+RULSqkPsAyAwxrprBa/qs4XFFD6SqblFyl7AwdRrsuLZmj4\n",
       "Gi4uYZi8ZWBw8OjBwUGckrADpHK1bJZQw/k7bTiBEVxHPBfLvxmAtLVIHuJFVAM9ScxArUscq43M\n",
       "IjLYOYHYvHziDK8VQkAjpWoPAjUTtUetTa0W4vuomWdqRkoBhBHz6da4N3DQkzLGwQFSIb4y15QI\n",
       "O54JX7TWH0Tzaoky3AxGU3BUrQEZ1cBMxHsPemo4wCPzF9DAohMIteXcmlZgRSnlQbQ2sNyjwUFV\n",
       "C6GGA2yk+LMQNO8PxPPewMHZrOG4gNqEf0SPA8r2F6ziALXvBQD3JvTjwqjSLNUawC3xXU1/EESV\n",
       "AYlalc/QDscdOq3AilLKAyJDPJ7UCGK00PQHS1DSNrUYDO0D2OMNHPyWH+9kEsRRaOv8nB4HlF2d\n",
       "9TXEQRIm+x6VL7FcnMdFbGpoaiCahuAYhPKqfSBdpOu5c9mvxhEro+sPUJsMWlBKeUBkBMjkeC6H\n",
       "A6rFA1X7YHeOLD778+YF+Dtv4OAAd4+nSDisg450Wj8uUDb8jDPJ+lGhiheUCFPjvkOB8NNltjKx\n",
       "/Gvgl3QEpjWQEV6CUBHC+6DtPNUf9Ua7US63cVPOPEg5HQ7QZOEFC0opD4iMPgmvBKrSWS1WZWAq\n",
       "HS7fRMpeUibSJrRbiwPS8X26Lg7aiCYpF3FgJUeRPx4jlGnYcPrHU3J6HFB2+CneYMeFekiNaOYL\n",
       "U15YfpK0fy2XyN9OFBOm7vnB+j1S1xFYsesj6H7jwMkruDA3dJ2b1HVO04DU+cKuWaf09oH03PyC\n",
       "BaXUB0QGWRtSpHNaiLcN9+DuX5xcmTS5kqjfqBZkNDjAiw/wnbo4COD0oayLOLCSI7aJWDqsBFpy\n",
       "ZcM5+Qp4xM56Yv8zHPew5dcIl40Edhhp1Vgp5kE8q5HegB6vZ2jLGhx8H6ucr4sDAcN8pZvjgpUc\n",
       "fbrtntmg2Vep4oDZogmv/cmtBmwtMdtC0wIcd7bl1wikjAR2GGhlQSnmQbdWegNaWOdZf1qDA7yB\n",
       "KSXr2wd483Kbq/aBhRz9F3ULI1kaSNk+f9mobUUrlRE7umw4YZCHNTKE8WNdA80rNWS9WdZt4fGE\n",
       "Bgd+vBrbwE6chT46XcWBhRxj4zqLIU+Dk2Rd/q8d02Gpdel1YRvPa+cLBwcH/9YAB9HBwaNFV3Fg\n",
       "IUdJv/27WglOklX5MafsqdC3S9aln6i7INupxcEtAMhcFangnCEOAjmIFFzFgVmOGmwELsEHkgLH\n",
       "W1UV7WUtDpZDGE+8ZY05HD60A25I1HCAEiy3k8GP7HbOHc/f+DCDA7Mc07Vo2whMUHM4KGlxEClI\n",
       "zBzziY+tgU9KhUBBs470FOywk0GbnUFEGOrNxCT4S5FZR6I5fv2cYuz5jiybLE/gwEkc+GTGTAzc\n",
       "gteV5LSkGRfQFNiWmRjN2Ui8CCWOxWCezOCA5hgrqciUi9JjLA4+qONCC3HAjAvQOR/NT4eIMXw8\n",
       "SQ9ET//sagYHIT+qJfG506p1oolqTOkqs2f44/hjYH7Vpjumn8QpPHKyGuHgVJrBAckRIgkVmbLs\n",
       "3wrbFx1aVO27pHH9LAmc92Nxkpr3TrFFrJ0I29BkfWscDwMBXyedF02Xnr5biwNpGnr8p2yPqoAm\n",
       "WqMa80zhOKnP7qoMoaS3PylvMwGDFF6XYnBAciT7KhSZshzbyPYHMd36gSt+LE5S894p9nCQYHCw\n",
       "Ct0+Sta5+qQ0XbiaDum3tTgI4y3KRXghayUxG3A0OOMmroPHzyM49iQ5NbUYnlGSB/Ji7o7j7Eo3\n",
       "5gEyQshqWyzwmzxjJ9IcAQOLIlMurjzG4kC/juSCH4upD0trqHnvFDsUTzM4aMOj+To6N035H+jt\n",
       "/QXCwZaQFgfwURT2wRAIHaRicTQK/azYfWShC9NLcCO5V5Pj0xslkbXrogos5vT29iZjMekOFgck\n",
       "R3gH1CVVefGL3HzBN8a/lxt+LMscld68d4od6i8Cv+8sXiKmXTwrFGl/EJzB4AAnGYcn+6C9oEbD\n",
       "0M2aB5jpI8umI7AXXfH4TZKTjZEsNzRgnn82wE8JzGPBuwssDgj9HOAPFJmyvCPJrh8I5/n3csOP\n",
       "ZdRaMmtZOeCdYoeYfSalcXWmxSLZwSBboNdDtW3Xzh/sF8bm4YpFCUkU1uDoluoFM32fwbE3/Hl0\n",
       "vR8kgoMtEMqgCoxkNGkp75FNQJeL0LxxZ9oAB6iqd1JkyvK3dnKvoftZhhI47sdS82GZYf3Lbnqn\n",
       "2KGZSX1/MCUr7CWVvxJ1DMLrWXoEgMHBNz9/OoUrFiUk0UAOR7uzwn58UZhrMe+Hw/i6YtYpgoPu\n",
       "ZHjh/AJet+xO0rT7Vd6X8GYbEn3nW8WNN+txIIyDL0GRieaNG7nXeJ0v1U7n/VhqPizO4KB57xQb\n",
       "RA726c8j+Yga4ou9a1i7np1zFkhCTDtj1SioMbGcVGK+anJIkhIsyEqMEI3h8xtbentZC7KGg7cu\n",
       "b+/KEGQGH35IXMTV8Sf4BVcX/FgUHxYw8U6pcm16p1STN++dYoOmgiEO7iI7GPr5HbP49842lJAW\n",
       "SeWKGiXfph/rCkrsrmryIOnEuiplJUb6VxozPEzBH6HRIVOhBVzn6IYfi+rDYuKdonJteqfQ5ALY\n",
       "9E5plg4Y4yBlvIOhP5+YMorysdq93ywW+1TaCg5MzZwk972k834sqg+LiXdK9VizPe8UnBxdc63w\n",
       "TrGxavW+MQ5MyLlzqr4PQzM4+F/4sSg+LIbeKRquPe8UklzBtoqDq/ZOsU5e8WMJlIxx4KQfi+rD\n",
       "YuKdonLteadoTl43751indo84tcWHDMcFxz1Yxmtbm8ZeqcoXJveKSQ5bP0y2PROaXY5UfYGDsjB\n",
       "bg254cei+rCYeKeoXHveKTR5ehq0xDvFMlE72wM44CYMbvixqD4sJt4pKteedwpJLha2Q0u8UywT\n",
       "dXPz3u/iuOHHoviwgIl3SnW5yZ53CklO1pBa4J1ilbzzuzh+7iSKG34sxsk6jLg2vVPwfkwrvFOs\n",
       "UiThFRzAQ+ytG34sxsk6DLh2vVPwPlwrvFOs0pKCZ3DQzR6GccOPxZBa4p0SS7TGO8UqvQqewUGM\n",
       "LQ83/FicI7wk3grvFIvkpd/V5X9n2w0/Fqfo/u4WeadYpDvBJg5ec/t/ONrnWf4fjlASvEJfvdXV\n",
       "7AR6pEns25rH/8PxduNvTPwPhxdpE21q1f/h+C/Ke1VRo48PcgAAAABJRU5ErkJggg==\n",
       "\" style=\"display:inline;vertical-align:middle;\" /></a><br>(see <a class=\"ProveItLink\" href=\"../../../__pv_it/theorems/2b2686f8c7425f9a3c012a6b3795924ccb6f08770/dependencies.ipynb\">dependencies</a>)<br>"
      ],
      "text/plain": [
       "<IPython.core.display.HTML object>"
      ]
     },
     "metadata": {},
     "output_type": "display_data"
    }
   ],
   "source": [
    "%proving redundant_mod_elimination_in_sum"
   ]
  },
  {
   "cell_type": "code",
   "execution_count": null,
   "metadata": {},
   "outputs": [],
   "source": []
  }
 ],
 "metadata": {
  "kernelspec": {
   "display_name": "Python 3",
   "language": "python",
   "name": "python3"
  }
 },
 "nbformat": 4,
 "nbformat_minor": 0
}