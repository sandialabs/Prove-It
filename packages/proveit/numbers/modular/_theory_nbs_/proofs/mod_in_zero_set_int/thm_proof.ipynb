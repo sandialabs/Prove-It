{
 "cells": [
  {
   "cell_type": "markdown",
   "metadata": {},
   "source": [
    "Proof of <a class=\"ProveItLink\" href=\"../../../../../_theory_nbs_/theory.ipynb\">proveit</a>.<a class=\"ProveItLink\" href=\"../../../../_theory_nbs_/theory.ipynb\">numbers</a>.<a class=\"ProveItLink\" href=\"../../theory.ipynb\">modular</a>.<a class=\"ProveItLink\" href=\"../../theorems.ipynb#mod_in_zero_set_int\">mod_in_zero_set_int</a> theorem\n",
    "========"
   ]
  },
  {
   "cell_type": "code",
   "execution_count": 1,
   "metadata": {},
   "outputs": [],
   "source": [
    "import proveit\n",
    "theory = proveit.Theory() # the theorem's theory"
   ]
  },
  {
   "cell_type": "code",
   "execution_count": 2,
   "metadata": {},
   "outputs": [
    {
     "data": {
      "text/html": [
       "With these <a href=\"allowed_presumptions.txt\">allowed</a>/<a href=\"disallowed_presumptions.txt\">disallowed</a> theorem/theory presumptions (e.g., to avoid circular dependencies), we begin our proof of<br><strong id=\"mod_in_zero_set_int\">mod_in_zero_set_int:</strong> <a class=\"ProveItLink\" href=\"../../../__pv_it/theorems/62f95361d527e13d57579b61fbeac1fda1a512c60/expr.ipynb\"><img src=\"data:image/png;base64,iVBORw0KGgoAAAANSUhEUgAAARIAAAAXBAMAAAA1o90XAAAAMFBMVEX///8AAAAAAAAAAAAAAAAA\n",
       "AAAAAAAAAAAAAAAAAAAAAAAAAAAAAAAAAAAAAAAAAAAv3aB7AAAAD3RSTlMAq1RmmUTNIjK7EInv\n",
       "3XZ/CtNrAAAACXBIWXMAAA7EAAAOxAGVKw4bAAAEI0lEQVRIx72WW4gcRRSG/53pmb7M1TyIsiAN\n",
       "gihqMkIIRDRpiIphIQ4EfdCQHRNEEl96oy+ixokPvrhhxgcvozFUQARdyU5UoiYYlphAVJR4I6IM\n",
       "9Opidg1K2LhecsNzqqpneuzNOM5DCqrrcury1TmnTjUweDL54/c1dJFRzr2q3OaHSw2efqScd/sa\n",
       "ujHe9fP9qrSuFkAqAIrcunYQkESTPjf2GPDrUXn2XccJuBSbfZY+B2dIITYj/ATcyd0PD0LyBm9T\n",
       "6WW9BVmkPfps/bcwQ3xp1zmhakgL7OAp9UFI1lA2Sr1GKJICG3D5YiS3Ax9qkqTHMMi4g5BMUc7i\n",
       "v0lGBQ8Uqmuu1aq0SZ4HlglFgk+RpFOlB3ITXvG6Pkg+kiZSyrvvl6hOfgdqribZDHzean02CInB\n",
       "DjvCth0+GXDHs0e2zwUb58pw1s2UaatDs4rkwd+WUEveDHNr1DoOk5Q0yT7gbuCVS+/nXVIiT0kn\n",
       "wQbfPit7vnStM+XkFHb62A3nMDKSxPlDTPpISpukO3HFqMA8RyQB8mxmrADGYBZDsbVFV4Y+ee9V\n",
       "CRHz5YOndCXHzvUV7fQxDHkq7AL+hvUXfqANqnZF3x26rtkACbldxA2eLCmSJsx5bt9E11lkym35\n",
       "MONMN8o5P7NXLEaSDFK6K8uzKGIYp5Fryp4GcI5ILFq50JwM4CzowxeasE5zfbxFSc4fe4jOQCSj\n",
       "ZNg9m6ijRsxBhPQY5TuqtCGeeRSLkWSr+LObJFvHZDkkuUgkCQIo1GshCWGOukhJnbzZXsdaK6TH\n",
       "LiPN7ufpGyhXVtFnYtX7LL84LXQ49LwIiZJyelrgcLd16PCrESWROvHaOqFwco9AQhow1zkSR1aa\n",
       "sFqoaIubKb9DDu2csPio+e/znuJObqt2SKR0bYNSqSbwtV6KL8xuInFxZcKPkOAIKb2crms/KVTJ\n",
       "k5CUC+WDrsh2G3AX1aS6VrLvEJ3hWdy2S8nKejlwbwYdEi3lRCRf6KWK6u7ZQeIbQ/ZskSQLGK/i\n",
       "EZhHMXRGOn/J9vSdBzZ1keRc55iOsTIeDFXZ6Pmi9AKjuIKO7qJ5AG+1SbRUW2deW5oX2EkKu+aD\n",
       "sVnu2HH+qhvOF/dfaJoj+8jyrx+avcCznGF+FnLKlfa8ICIkzsh0NST5VvdP+vatNKaArPsct1PX\n",
       "l3CgTSKlyjodj8V3vEG1zzj4lC4feC0S7TtMMMNm1q+tFxPIiZV0q1lqIHW8oxOWqoH5IBWqZ7l6\n",
       "uPp/LmMvYKTWfkpTa5a+i3HXWhfAfJnat1xx6sVim0RKw8g2E+rXZjd9qc/fu1iEzE9Foi3weLdU\n",
       "PckTjUYn1PX4X3DqXRGiZ7Jjv4/mfFh7uxQ7UUrEl+j157KdFwz6IjkZ73psiSqf4DLfTZrE/yO5\n",
       "vMm/bDv9AwyiNQbgGxleAAAAAElFTkSuQmCC\n",
       "\" style=\"display:inline;vertical-align:middle;\" /></a><br>(see <a class=\"ProveItLink\" href=\"../../../__pv_it/theorems/3548ad88cc458695893413dbb43a2289e20f40340/dependencies.ipynb\">dependencies</a>)<br>"
      ],
      "text/plain": [
       "<IPython.core.display.HTML object>"
      ]
     },
     "metadata": {},
     "output_type": "display_data"
    }
   ],
   "source": [
    "%proving mod_in_zero_set_int"
   ]
  },
  {
   "cell_type": "code",
   "execution_count": null,
   "metadata": {},
   "outputs": [],
   "source": []
  }
 ],
 "metadata": {
  "kernelspec": {
   "display_name": "Python 3",
   "language": "python",
   "name": "python3"
  }
 },
 "nbformat": 4,
 "nbformat_minor": 0
}