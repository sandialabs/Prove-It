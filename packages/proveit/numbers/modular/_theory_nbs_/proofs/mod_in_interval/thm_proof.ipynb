{
 "cells": [
  {
   "cell_type": "markdown",
   "metadata": {},
   "source": [
    "Proof of <a class=\"ProveItLink\" href=\"../../../../../_theory_nbs_/theory.ipynb\">proveit</a>.<a class=\"ProveItLink\" href=\"../../../../_theory_nbs_/theory.ipynb\">numbers</a>.<a class=\"ProveItLink\" href=\"../../theory.ipynb\">modular</a>.<a class=\"ProveItLink\" href=\"../../theorems.ipynb#mod_in_interval\">mod_in_interval</a> theorem\n",
    "========"
   ]
  },
  {
   "cell_type": "code",
   "execution_count": 1,
   "metadata": {},
   "outputs": [],
   "source": [
    "import proveit\n",
    "theory = proveit.Theory() # the theorem's theory"
   ]
  },
  {
   "cell_type": "code",
   "execution_count": 2,
   "metadata": {},
   "outputs": [
    {
     "data": {
      "text/html": [
       "With these <a href=\"allowed_presumptions.txt\">allowed</a>/<a href=\"disallowed_presumptions.txt\">disallowed</a> theorem/theory presumptions (e.g., to avoid circular dependencies), we begin our proof of<br><strong id=\"mod_in_interval\">mod_in_interval:</strong> <a class=\"ProveItLink\" href=\"../../../__pv_it/theorems/c1b371c6e379b41d1666b31390f82e63a34966350/expr.ipynb\"><img src=\"data:image/png;base64,iVBORw0KGgoAAAANSUhEUgAAAWsAAAAXCAMAAAD6D55EAAAAOVBMVEX///8AAAAAAAAAAAAAAAAA\n",
       "AAAAAAAAAAAAAAAAAAAAAAAAAAAAAAAAAAAAAAAAAAAAAAAAAAAAAAACXHtMAAAAEnRSTlMAq1Rm\n",
       "mUTNIjK7EInv3Xbt5cmRiLwgAAAACXBIWXMAAA7EAAAOxAGVKw4bAAAEtElEQVRo3u2Z6ZrbKgyG\n",
       "DWbfeo7v/2ILYpMd7JhM6v4pz3TwJLYlXsQnQZflrzR56L/5zjfNcP7TV9/1WtI/Mc7JFui+/0rj\n",
       "4ZZpwc30qy2/+vO8KaIN8o20L+j6FGpq9/30VHnXR2u08+XjGwOgWyFtbWByinU39Ja18nU+NUG+\n",
       "sfaceCrQjdj3H8jFhkcrWL14H7G24BJxRRkv5+K6GrpmbQgTdUabPfBN1cCW+qmwZuu+/6DtWG9V\n",
       "iVZ2l/UKndVzrKuht3EdXlmDbzUYLH2KtTv0P2TN28AWtw/soH1sYsA6L226mRnWzdAnrMG3tUSX\n",
       "eAo1Ffv+p6z7cBaBVwoXwZzF9QYrQG10hnUz9BFr8M2lyffOPiYhdt8vktggexGhhGMyBB1i9g4a\n",
       "hmVYCDWxxKQWFGYtSAgkQ7MEafpQvfPYTWW9zrBuhj5iDb4xBavKfMTtIkWcfVGDr/bcxRSl8XL2\n",
       "aUQRRBzS6iCtpySm03QYB4NFrM0WoZoN0tyKlso41TORc6vNrMME625ognVoQgm+SVJ/HSsXccwd\n",
       "xGnL4k/7QJ/eXZadDS/rxdNdbxyUQx7docHBTQOOGAm+kImXWhzrkCy6DqhRlAKGCiXBWGdtJ1h3\n",
       "QxOsZZOp7FsK6eHjpLqiAtFpNaf4sgbJoB7dvbS5W6Nj/DhhtTYuPdsAPH5YwyMAIgGusho/MDkS\n",
       "DWKdI7XC61OfpTE2jZwSvKwFm5PdTFx3Qw2WEb43NWIdK0CRvc++0XASBa48zli5iEGhqEQipwd3\n",
       "Z/CyfbTJS9ZOH+A11qGwpuXLGOjqlTXMEs/TwR3a4oz2GKxIZdZrOpUbu6GJuF5smd7qm4AABA/t\n",
       "GmxlEwcWiDnsx9hOo7GGlLvzi21eQLDq6JWG5Ehdt+WcdYtrNopr+JLlwVGkRH5IoezjsoV1qubr\n",
       "hiZY97Ky+GZpydlpJ6VaHIa40wxsHyGrpGrMutzNdGq/4r81viq91h+SvQ64NzAEIhYqz1gvjuUV\n",
       "H4eYkwLW63RD1vzoHfYnXO1lXJef26yboZk6pOdGXTIGqWKRhK4NeYXsyRErE5ZdOkFjK3fjkwmF\n",
       "0hZynOz6hJz63XIRmDVPLqX5FRZcTeMkqFgj8VKzQxlZt+Gne/S0qAxSvVhkvFwdWHdDb1nbFq+9\n",
       "5qu+EdUlNBAswIxEgBCqGoqtmBqjO2bAutyNtTJryFEUld/1hgSrJAmqH45tjiiq4++odluSScms\n",
       "JSWtMaivPenJx7bNvue7cwn9eqRXx55eQ/AK9ez16lDzNUNvWBPiNkHWA2u/fwiKR71WlFsWW9WD\n",
       "hVMFa2jEutydNOS//zVoyDg3LjVj48z9nRPsg0Zzq0/26A+dqSJ7R98Wl+Sar7FkT3yjAIPI9G2O\n",
       "hZXO/UhD6t3oOAs0k79U7vWI6MZR0WeHWnfG/jTrF984W2mwqbJLxYNiOb9IXUs+QuKC14IM6xBW\n",
       "sxHagqZT4tdcr+W+/1ZY3zi2C+5Z1jX9XvqGRdbYpAkjA6M30LcbhKrn5rvHuHemTm70Sda1QLr0\n",
       "7eZ/FI1g3Sik6kmTDF9EHW6tEsnIPO2grv48t2WrrUvfbh6ADVhTvvxrf6LJfwjut9+gUC0f3hoK\n",
       "9gAAAABJRU5ErkJggg==\n",
       "\" style=\"display:inline;vertical-align:middle;\" /></a><br>(see <a class=\"ProveItLink\" href=\"../../../__pv_it/theorems/60e53db994d69ca5397a1113b123c8a6271867e00/dependencies.ipynb\">dependencies</a>)<br>"
      ],
      "text/plain": [
       "<IPython.core.display.HTML object>"
      ]
     },
     "metadata": {},
     "output_type": "display_data"
    },
    {
     "name": "stdout",
     "output_type": "stream",
     "text": [
      "mod_in_interval may now be readily provable (assuming required theorems are usable).  Simply execute \"%qed\".\n"
     ]
    }
   ],
   "source": [
    "%proving mod_in_interval"
   ]
  },
  {
   "cell_type": "code",
   "execution_count": null,
   "metadata": {},
   "outputs": [],
   "source": []
  }
 ],
 "metadata": {
  "kernelspec": {
   "display_name": "Python 3",
   "language": "python",
   "name": "python3"
  }
 },
 "nbformat": 4,
 "nbformat_minor": 0
}