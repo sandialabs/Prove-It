{
 "cells": [
  {
   "cell_type": "markdown",
   "metadata": {},
   "source": [
    "Proof of <a class=\"ProveItLink\" href=\"../../../../../_theory_nbs_/theory.ipynb\">proveit</a>.<a class=\"ProveItLink\" href=\"../../../../_theory_nbs_/theory.ipynb\">numbers</a>.<a class=\"ProveItLink\" href=\"../../theory.ipynb\">modular</a>.<a class=\"ProveItLink\" href=\"../../theorems.ipynb#mod_abs_subtract_cancel\">mod_abs_subtract_cancel</a> theorem\n",
    "========"
   ]
  },
  {
   "cell_type": "code",
   "execution_count": 1,
   "metadata": {},
   "outputs": [],
   "source": [
    "import proveit\n",
    "theory = proveit.Theory() # the theorem's theory"
   ]
  },
  {
   "cell_type": "code",
   "execution_count": 2,
   "metadata": {},
   "outputs": [
    {
     "data": {
      "text/html": [
       "With these <a href=\"allowed_presumptions.txt\">allowed</a>/<a href=\"disallowed_presumptions.txt\">disallowed</a> theorem/theory presumptions (e.g., to avoid circular dependencies), we begin our proof of<br><strong id=\"mod_abs_subtract_cancel\">mod_abs_subtract_cancel:</strong> <a class=\"ProveItLink\" href=\"../../../__pv_it/theorems/a1c586853061d424ade781b6ee4cd09e230527900/expr.ipynb\"><img src=\"data:image/png;base64,iVBORw0KGgoAAAANSUhEUgAAAaYAAAAXCAMAAAB3ThtVAAAAOVBMVEX///8AAAAAAAAAAAAAAAAA\n",
       "AAAAAAAAAAAAAAAAAAAAAAAAAAAAAAAAAAAAAAAAAAAAAAAAAAAAAAACXHtMAAAAEnRSTlMAq1Rm\n",
       "mUTNIjK7EInv3Xbt5cmRiLwgAAAACXBIWXMAAA7EAAAOxAGVKw4bAAAFc0lEQVRo3u1Z6ZrjKAw0\n",
       "963Z9fs/7HBb+HbaM9kfS38dAnFEQaGSINP0/aLq/9Kahp77Vl4E9PdH3dpSb4/wkwI0vjiBW6i+\n",
       "XQS8huiBqY77hbKxlTsKGNI7KfsKS9RhiKVVa2t8eED3c/wQvPjE1ALsz9NUwPD+mfyKe1mJIdZW\n",
       "ryV/YEra5zozi89MNWA/pYmiVT+gKYPRzZ2U+YozcYYR1Vav5430ieONzvjz4Q9oujTVgP2MJha4\n",
       "vfSmAqZtHEe/QpMfEPmxV8ybXU1P4oa3b9F0ZaoD+wlNEJy9IXoFDKvbU34nMkmMqLV67zY0ndEk\n",
       "2Ws0XZjqwD6myboA92JTBeNDKt59R/McRtRarZYEgNBTmhRxoGqfI8NHWnquAAzEbAlMHsBygBaN\n",
       "nQPQK5piF9M7pjYsNmAf0mR5YEcpxDKjZjyD4RmXsT9f8hNYVw5QELVWre0cFdnO6oQm4eOnpkoQ\n",
       "WytCSEupZxaNs6SjOiRbJpmwPq/yQJMKsY+bXVPjdDqwj2iyRNLDTA/NqBnPYBRpL6ui5UlWQYOT\n",
       "nEi8aOYi1Yzbd+OyYQjFrVVrmsF6OKbJ+pytVgmifmXd5I45AdNz3I0hj5/fGrnN9PLHZbiNqXHy\n",
       "Hdhn3nRCE55RP6X45ki7w5E9IdRATFIQmOKnTrkbNJU9wOKsxPqZdm4p47dWrXleyrkpYRHnotF1\n",
       "V/G5L29e/zVNphtI3Oian8UOO0NxCzRvjhKWbsrKsBTdnuzAPhQ9dSh6eEbNeAGTNuiuj3u9o2y8\n",
       "dkL8m5iFGzQR1a3N6gFNGawYk/LRm7zBay38Pk1QaaL1weheeocmb7CYnq3yAuz1FALPyI3zknmn\n",
       "ly8zcKrvqBgn7RJd00PL+TzTBJYf0FQeL6O4oi9ZKOgD0csE8TEpH2gqPsHmLsTnNHVv4nveVLsO\n",
       "TG1PTRnYBU3g6bOEfJhRF71Qj0z18GRjiNV9w0OwEzQagpi0n+xCRRI9ZfC1CqapPM5NKr/iP4t2\n",
       "0xhrXzeAaWqtWqcYUrT6kCaalX6iGTMz5zRNnpdDTxysxN0hNs1lJLFraqSpA7vyJkmfHW+HGfUU\n",
       "ooBRvkl9nIbu7h7Xtmc8Kf+xGt8BQOxzw2RQoz6OL8j0Tj6wJL41ySBDL4nfNPzs3JT4pIHXJJOv\n",
       "Y6nENIk0t4RJujznNCKZ2Qg6jq13TY0q3oFd0WTo1blRj6KHZ9SMNzBELzEBCA5NnAzRgsnsH2nw\n",
       "JHpO0H2a0I1mc8AieuvbHz1cYbZWrS1xnJ0eby0BpxUB3Vx4sE1mTzQ18XVyck4BRXHnSL0+5Pnc\n",
       "FFCK6xxjYPdMbTJqhy65rAmaxvDAGKl3pZDVLJ7BoHsTCgKn+TCeUaNpBSafBAyz1RFnFEuqEmo3\n",
       "4dgkBFZXRFN9PIneP/+aLHr7KcRUs6eKqOVSQR9uv+PJqgfX6VeZ2F1TGbdKmy95bg4iKQ22ofpA\n",
       "W78SBD66Id+C8Sk0CRaPbmmIGJqSKub3Mn3D4VNwScgPUoj2OLrajZsr6j45uOTEt4ynV58nV6/8\n",
       "vV9ibpuqNMVVMa4EjJI9GyjqUb0JB4HHNG3ACM4oOJbGS8d3DlnV03vFix4oUwcTEqLGW87lHk3t\n",
       "8eF2Ix5v+fY6wigM0aixfuIB713x3zdVaUqBAwpN+bpjIlzMKIUYf9ayYecsdkjTKRh68N66pGG7\n",
       "ym2eadQQuxrEFsns8zU37/1edt/UlqbiTXL0plndtbXtOAMj7P7708ntJaQ3tm5iEjRuofr+zwLv\n",
       "sfTAVMadaTKVpsyM8jang6rGpiUIXNnadJyCYQfvH9JEX/wN+j9bLInnZealUCTfS8UMkqua3IWS\n",
       "cC9B4PtFTf+XP1R+Ax5hNG/8KeRWAAAAAElFTkSuQmCC\n",
       "\" style=\"display:inline;vertical-align:middle;\" /></a><br>(see <a class=\"ProveItLink\" href=\"../../../__pv_it/theorems/f338505e8207fea38b0cb34771a9c704c7053ba30/dependencies.ipynb\">dependencies</a>)<br>"
      ],
      "text/plain": [
       "<IPython.core.display.HTML object>"
      ]
     },
     "metadata": {},
     "output_type": "display_data"
    }
   ],
   "source": [
    "%proving mod_abs_subtract_cancel"
   ]
  },
  {
   "cell_type": "code",
   "execution_count": null,
   "metadata": {},
   "outputs": [],
   "source": []
  }
 ],
 "metadata": {
  "kernelspec": {
   "display_name": "Python 3",
   "language": "python",
   "name": "python3"
  }
 },
 "nbformat": 4,
 "nbformat_minor": 0
}