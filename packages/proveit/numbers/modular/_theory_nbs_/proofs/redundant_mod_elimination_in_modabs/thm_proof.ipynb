{
 "cells": [
  {
   "cell_type": "markdown",
   "metadata": {},
   "source": [
    "Proof of <a class=\"ProveItLink\" href=\"../../../../../_theory_nbs_/theory.ipynb\">proveit</a>.<a class=\"ProveItLink\" href=\"../../../../_theory_nbs_/theory.ipynb\">numbers</a>.<a class=\"ProveItLink\" href=\"../../theory.ipynb\">modular</a>.<a class=\"ProveItLink\" href=\"../../theorems.ipynb#redundant_mod_elimination_in_modabs\">redundant_mod_elimination_in_modabs</a> theorem\n",
    "========"
   ]
  },
  {
   "cell_type": "code",
   "execution_count": 1,
   "metadata": {},
   "outputs": [],
   "source": [
    "import proveit\n",
    "theory = proveit.Theory() # the theorem's theory"
   ]
  },
  {
   "cell_type": "code",
   "execution_count": 2,
   "metadata": {},
   "outputs": [
    {
     "data": {
      "text/html": [
       "With these <a href=\"allowed_presumptions.txt\">allowed</a>/<a href=\"disallowed_presumptions.txt\">disallowed</a> theorem/theory presumptions (e.g., to avoid circular dependencies), we begin our proof of<br><strong id=\"redundant_mod_elimination_in_modabs\">redundant_mod_elimination_in_modabs:</strong> <a class=\"ProveItLink\" href=\"../../../__pv_it/theorems/f50d19e66b14f74ff235efdc721ed1d398414b510/expr.ipynb\"><img src=\"data:image/png;base64,iVBORw0KGgoAAAANSUhEUgAAAU4AAAAXBAMAAACWi7vRAAAAMFBMVEX///8AAAAAAAAAAAAAAAAA\n",
       "AAAAAAAAAAAAAAAAAAAAAAAAAAAAAAAAAAAAAAAAAAAv3aB7AAAAD3RSTlMAq1RmmUTNIjK7EInv\n",
       "3XZ/CtNrAAAACXBIWXMAAA7EAAAOxAGVKw4bAAAEb0lEQVRIx82XX4gbRRzHv/m/m83tBasFW7hb\n",
       "8MEXr42oBy1HTOm1VUo1WFTQgodW9KqcOfClePRiEX1QTGg9NRbTPTyEo9VbtbX2Cmd6gtZKJUK1\n",
       "pefBniltsTaE0NKaQvE3s0nqXpJ1t+TBCbM7szM785nv7/eb2QC3kAL0s5cSjnoFWs53a+kPSHF7\n",
       "PQ866tVqVJ8OhFnhLkeYbs2SU/6dN06eaBsnCsA6dn/BEeensNZz1Gjc2j5Ov4rXmf3TjjjX/gdn\n",
       "p9FYbh+nJ8ZQISmOOHO2OH2V9nHiODwRktWZew7Y4pTybeR8DjgxP/+TI06vZow4PLODVYWXNxSz\n",
       "vuIYMFFkzn6kmOLT+bsWFPucgeXndQvOL4CHgI9sjKXddOoI5/T9gL0qq3fchtQD6INwCqKO/Qq+\n",
       "5dNNbQteteLcNM/SL1XOLQmxYsHZS7IgELbBGauXOhTOuT+CTbwu5tCZRirZoUG4hvdr8b5Sxc+2\n",
       "9Qx+B2/egvMemkY1Nfd8vWaI3d+s7gHuua1LdRNnKM45HwXmDM40OjXiTBH/9eANUpKPt55qtjm9\n",
       "JXRY7copAtHrYSQsZOKyhEPMxi52effOMeia9Fozzh8RvFLn1IlzJT3/W6hzzsFXts0ZSrO3WnNu\n",
       "oTwQrdX6k3SayFjN9AtR2Uu+C133fI4D/Sf74ya7k3CekomT6Xn5pp5leCuLOeVZEmOwiX9O6Xiw\n",
       "Md7/Ump27aH85Ta67IseghwB5/yTaZcqLmPHFeOUJ0x6UrAwzjJcA3f/mzMUg+8KBmv+eY158GI9\n",
       "n6W8vImeUwqWuhOLOf1K1a5YRXmEwih4SriKSb5kKZBlvJfUs0G+FF3bXjBxSmG+8ix6Yvyh3+CM\n",
       "C8fg1zASRzd7H0vwXuP+uYvysSacou4+6W3QU1QMuwIbmScyC8eEHDZzTu8ejrcbvT4+n/7wYXO8\n",
       "C3nOOX7xrS42htB9dOfeo9Irc3j1yB204o3FFDfm+IEII5g8vWLZffS8cFFFMUp6CjcW1MZ47/pm\n",
       "+AKz0sc7Fz65Nw45Og25cE4x7Ar8Wo8NOYzeTCajyLL0GPiq13gGM5ldZPeDimn/xGk4+K4LlMkV\n",
       "eiDGg3k6IMg/5TNyrPV5NKr40+48xvAZaRhSuF3pFMhXe0wlxNXq21xP2fc0W28Js4Jm+Ofj0+Zh\n",
       "73fEWcEevMM2luyoyvxTjHgGLDhVURNyQgni+Qr3z91sj/dGanomUptVUeX+ielYUMMZT9o4p2hf\n",
       "mljkNgknnCV0EWcfcPszPI5CSW/YghMuXch5cnCtK3FOsiuwvf7FvHbFVwh8SKUnzmkT64VZvFGk\n",
       "ZvI/39BLwX6zABRfjjlJzyFDz05uTmtO0tNf1bPEfOUDc/99mUx1frcBdDgz1mz2HZCT9jgvMM4s\n",
       "cfqVwHFXJEBzdqirGntVt9ckcYrESesZUZdghDiZXeWWf7OeQrvS+GXP9092a5g5m8BM9LckhEf0\n",
       "1r2D3bG+54evQypugFS49CK4XVunCP5n6R/AQHeGRDCU5gAAAABJRU5ErkJggg==\n",
       "\" style=\"display:inline;vertical-align:middle;\" /></a><br>(see <a class=\"ProveItLink\" href=\"../../../__pv_it/theorems/d2995dea38941c5f6f63c2ce77ee9b5a467cbcac0/dependencies.ipynb\">dependencies</a>)<br>"
      ],
      "text/plain": [
       "<IPython.core.display.HTML object>"
      ]
     },
     "metadata": {},
     "output_type": "display_data"
    }
   ],
   "source": [
    "%proving redundant_mod_elimination_in_modabs"
   ]
  },
  {
   "cell_type": "code",
   "execution_count": null,
   "metadata": {},
   "outputs": [],
   "source": []
  }
 ],
 "metadata": {
  "kernelspec": {
   "display_name": "Python 3",
   "language": "python",
   "name": "python3"
  }
 },
 "nbformat": 4,
 "nbformat_minor": 0
}