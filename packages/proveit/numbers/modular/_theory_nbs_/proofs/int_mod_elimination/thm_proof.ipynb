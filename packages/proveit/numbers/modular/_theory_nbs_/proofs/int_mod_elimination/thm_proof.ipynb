{
 "cells": [
  {
   "cell_type": "markdown",
   "metadata": {},
   "source": [
    "Proof of <a class=\"ProveItLink\" href=\"../../../../../_theory_nbs_/theory.ipynb\">proveit</a>.<a class=\"ProveItLink\" href=\"../../../../_theory_nbs_/theory.ipynb\">numbers</a>.<a class=\"ProveItLink\" href=\"../../theory.ipynb\">modular</a>.<a class=\"ProveItLink\" href=\"../../theorems.ipynb#int_mod_elimination\">int_mod_elimination</a> theorem\n",
    "========"
   ]
  },
  {
   "cell_type": "code",
   "execution_count": 1,
   "metadata": {},
   "outputs": [],
   "source": [
    "import proveit\n",
    "theory = proveit.Theory() # the theorem's theory"
   ]
  },
  {
   "cell_type": "code",
   "execution_count": 2,
   "metadata": {},
   "outputs": [
    {
     "data": {
      "text/html": [
       "With these <a href=\"allowed_presumptions.txt\">allowed</a>/<a href=\"disallowed_presumptions.txt\">disallowed</a> theorem/theory presumptions (e.g., to avoid circular dependencies), we begin our proof of<br><strong id=\"int_mod_elimination\">int_mod_elimination:</strong> <a class=\"ProveItLink\" href=\"../../../__pv_it/theorems/eac6928e11056fe9f06ff08bcd4e7dd79a7de5a60/expr.ipynb\"><img src=\"data:image/png;base64,iVBORw0KGgoAAAANSUhEUgAAAWYAAAAZBAMAAADwC5mFAAAAMFBMVEX///8AAAAAAAAAAAAAAAAA\n",
       "AAAAAAAAAAAAAAAAAAAAAAAAAAAAAAAAAAAAAAAAAAAv3aB7AAAAD3RSTlMAq1RmmUTNIjK7EInv\n",
       "3XZ/CtNrAAAACXBIWXMAAA7EAAAOxAGVKw4bAAAEVklEQVRYw82YXWwUVRSAT2f/pjPt7hASokbp\n",
       "Gn8SH4yN2+CDSSWhoKGWDPBgfBA2vhgw0PHNxIKLDzxYsOuDP2sM2Qc0IkYHYnxok1IjCSZGU3wy\n",
       "0Y1TRQwElgIphZYfzz1nZjszO3+YiJzk3Nk9e3b2u+eec+7cBUggDzQMuFsk3/g5kV8Z7iYp3Snm\n",
       "nK3JxIiy3zHmP2xNJlui7CXQxOWhOOYkXlEimazhafqbzteeK8tx7A3x6iXmteL1K3HMSbyi5FNb\n",
       "w+VNZobCtBi3h3htJ+Y9ItGqccxJvKJkja3hUrCZx2g1+kK8+og5WwdQi3HMSbyiZMrWeOYLdO2q\n",
       "B3sJewlSmCLZ2BpM4hWVzmXWBMzDNGZDElrYsW/82Gj8EN83EnhFSNpkhS9nPpsQy7X3+O4z1pYz\n",
       "OigbTgnYieaYzXyFRlXz3UFp3jd6lO3I/BzARwE/o3qZ27ye7o0lHV3vDg+FbnV+ZZqK7GRRvqyn\n",
       "pmC/AQcAvijCMWbOLNIlRYsy1BBykmYNM9YQ25H5NchpQaHxMvu9ZMxOddLXvTZetFpxWYXDEedd\n",
       "d5E1ZaQWOmiyHwNcA/kq/IpVV4H3W31DneNk8if/U/BMfTnbkbmzrqJ7pmel/emuQT31bRszezHu\n",
       "TE2n7OyHF33tc+mX3jmPw6Ot0tFZZUjbWV0DWERm+RJmsqncBPiKb5+dxaEO8qyPuQLr6LdniVmy\n",
       "qLjOOTiSNg7r25htLyEDFbuqvoeCd5PtdC3F40HMOFot5pvILGFYC1V5iblQFqsBmfYm8xOlDscZ\n",
       "yv3i3bsOjtSfBlMdGBpY69m7yav57CmD9yhkzi1Al7f9FXpDmJ3cANhqKHUXM8V5tSvOW3FOHXj7\n",
       "aV8+Q2YePme7YD5Km85lZ2uU3nrBMtviTF55495s8ZBTJPICdHsLcczwMr/UWgCL9ZB+v13cNjMc\n",
       "R0wdtrXy+RhG7U+8vW//Ut7rmAKT7YJ5RKyoPI8D4UiV8UcCmIVXCg7IsJlMeyuCucvy3PkceJmz\n",
       "Z50mpLE+8fbzsIks24h5DvZV4FW8uQ49PP3f0XHBbozuBn/14FSmyHbB3FFxymczM6fz1XZm8gKc\n",
       "2aparVaUl9VFbhS8uYH59YmMH9c+YGZpp1O206wHm9Ia+sqe6/c8dl375oaZGzyCAVYGm2MiBZQV\n",
       "t5atuIWT69Z9cd5gPfwksL3kKh9FJxypopjltv7sdLgcjHKL0AJqEPNr3B3nkdYnv9iaVHZF2Euu\n",
       "8lHroxxn2GQFPz+PqOU0dj1nN27CRoqBCYd5RvMgaYE1SM82fbf5TBVmL7nK50HGSekUxCDm9F+T\n",
       "ZyH3ocOsTtJGJ5+AfRTv04tfDztr+sbwpJu502BNeqqpRtgd5vzwxLo5xtmPj8la1DnlcM3eU2Jl\n",
       "iVmpsiaUsOmR3Xe2IpxEZ6vM9G0xw25bk8nfUfZ/fx7cGf81+eX/8dy9I+D/DTn+BPD6f/P/xnf/\n",
       "AEXfNJTJ69GeAAAAAElFTkSuQmCC\n",
       "\" style=\"display:inline;vertical-align:middle;\" /></a><br>(see <a class=\"ProveItLink\" href=\"../../../__pv_it/theorems/595a023507b0231b41d727a3430c9c4ea214a5a30/dependencies.ipynb\">dependencies</a>)<br>"
      ],
      "text/plain": [
       "<IPython.core.display.HTML object>"
      ]
     },
     "metadata": {},
     "output_type": "display_data"
    }
   ],
   "source": [
    "%proving int_mod_elimination"
   ]
  },
  {
   "cell_type": "code",
   "execution_count": null,
   "metadata": {},
   "outputs": [],
   "source": []
  }
 ],
 "metadata": {
  "kernelspec": {
   "display_name": "Python 3",
   "language": "python",
   "name": "python3"
  }
 },
 "nbformat": 4,
 "nbformat_minor": 0
}