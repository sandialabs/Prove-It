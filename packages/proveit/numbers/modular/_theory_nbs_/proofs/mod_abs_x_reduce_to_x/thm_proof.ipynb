{
 "cells": [
  {
   "cell_type": "markdown",
   "metadata": {},
   "source": [
    "Proof of <a class=\"ProveItLink\" href=\"../../../../../_theory_nbs_/theory.ipynb\">proveit</a>.<a class=\"ProveItLink\" href=\"../../../../_theory_nbs_/theory.ipynb\">numbers</a>.<a class=\"ProveItLink\" href=\"../../theory.ipynb\">modular</a>.<a class=\"ProveItLink\" href=\"../../theorems.ipynb#mod_abs_x_reduce_to_x\">mod_abs_x_reduce_to_x</a> theorem\n",
    "========"
   ]
  },
  {
   "cell_type": "code",
   "execution_count": 1,
   "metadata": {},
   "outputs": [],
   "source": [
    "import proveit\n",
    "theory = proveit.Theory() # the theorem's theory"
   ]
  },
  {
   "cell_type": "code",
   "execution_count": 2,
   "metadata": {},
   "outputs": [
    {
     "data": {
      "text/html": [
       "With these <a href=\"allowed_presumptions.txt\">allowed</a>/<a href=\"disallowed_presumptions.txt\">disallowed</a> theorem/theory presumptions (e.g., to avoid circular dependencies), we begin our proof of<br><strong id=\"mod_abs_x_reduce_to_x\">mod_abs_x_reduce_to_x:</strong> <a class=\"ProveItLink\" href=\"../../../__pv_it/theorems/b98b6945f1023abc075f40047800c793d3c984510/expr.ipynb\"><img src=\"data:image/png;base64,iVBORw0KGgoAAAANSUhEUgAAAToAAAAaBAMAAADVt43tAAAAMFBMVEX///8AAAAAAAAAAAAAAAAA\n",
       "AAAAAAAAAAAAAAAAAAAAAAAAAAAAAAAAAAAAAAAAAAAv3aB7AAAAD3RSTlMAq1RmmUTNIjK7EInv\n",
       "3XZ/CtNrAAAACXBIWXMAAA7EAAAOxAGVKw4bAAAD/0lEQVRYw82XX2gcVRTGv92d2dns1GsftNBQ\n",
       "6oCgiFYHhIIiIWI0tVpZIrbYFLq0otRC3PgWLGbbBx+02lIpcSysI+bBILRTsZUmGJaAPlQsS/2D\n",
       "IpEJXa2kGEKqCH2p55652dmddDddk0EPzMw3O+fu/O655557B4jZCjBC2ZYZiN2EBTOn9Jn2muo+\n",
       "sFaKO2Ojuxf/mg6XgMfl9aW44LL5FdClXRyUI3w0LjrNXgFdqlsCwrTioluDFdDhPFLUu3RsaXfX\n",
       "iuj2At9MT38dG91TAd3JmY8nrDboAn+cBrYA768mkLmAN7bW9V7SdYuNWmUZOm2ajWtI4I/NwCCM\n",
       "tatJp38BUbu5yHSpQupawr752Cl/3Ad0uLXEWM48de1uWX/Tdkj3JdNloOXbyTvljyNA0m+YFJvO\n",
       "PjrA4vmr0F/0WSZ/fmGdX0cVFKCJK8HDkVpblkKvfBSho7nrtzcr2B+76Mh31ZhnnJww8TnHSGwA\n",
       "LtP1nfXH4Xvma1G6lK/La7IUwrEU2LsjMrLA7kLWjdKJKZkHH9jYPhDNu8Afm0h9+vKif0+R2gg8\n",
       "zODaKVsOpUazBr6fOhmlW1PE38T4bpgtgXwVu7zabyWmG8ttgLk0dnvkaaYMEd0eKH88RMcBiTvX\n",
       "Wy0IG0w3yxQmzRqPFztJJ0bxWc93PbmQbtjFFMQxjkL19V4lgbuRDpee00z3wJtPo28pHTfYepVB\n",
       "Gkz5cz1KyIgV1qetMX6TaZQkJQ5lFzIWsvwm3xu6FI3dERffZqb4/nLi6B4lkfwFGb/2nreZbnQu\n",
       "+Zgl6cZ+vL/zwdupy1dczHVx7LxtS+mUP75fHBWUMniW6bQTQddnsU240JnUf/IcbkB3AfeMS2l3\n",
       "+EUlI3ZLsWGtMBawj7KpI5etaB5kfzLWKetQsw1epSYphzY7jmMJYfapsjHcT9j7HOcYjewZK0pH\n",
       "I7tAM5uZbpWZE8jrbPPhQt5Adw0ncFhWihI1l7ETrlaZbbGFUNO1bOAtjp3Q+92guCX20+9ekHfP\n",
       "jdfVu7pZgYO9dDrM+16WERtppJvHRnJ+BLhtdzArNBh/eU3ohhbFATOvUV3mvMN4d9ajkMtxUKsc\n",
       "VZTRumZMJ3ydZ/9gp1E+G4R1sFOe+6p11X3sRnQUuwEVO8q5dc3oaoVU+3VyFsZ7pLb/5o0+QSn+\n",
       "B93Ilw1R5ugD+7M9+QgdJqqu+lx4pn/ODb8cytn5utzxIYpK/y7pSkSXtozzCduQeUc5N9xk/xYt\n",
       "NJ84jupnMtzdnnOOR9u13qwWMuVmjz78M/XVjjs8TFYLmOz6oQjxUxEJt92lfGfLp8tspTtyiNfs\n",
       "m6PL0Cx3RqJyC/5Ta/1haro+/r/2yvXKav3VPwxJN7x6hcfmAAAAAElFTkSuQmCC\n",
       "\" style=\"display:inline;vertical-align:middle;\" /></a><br>(see <a class=\"ProveItLink\" href=\"../../../__pv_it/theorems/08ed68d4100320de74bbc8b8d475c0412a99a8400/dependencies.ipynb\">dependencies</a>)<br>"
      ],
      "text/plain": [
       "<IPython.core.display.HTML object>"
      ]
     },
     "metadata": {},
     "output_type": "display_data"
    }
   ],
   "source": [
    "%proving mod_abs_x_reduce_to_x"
   ]
  },
  {
   "cell_type": "code",
   "execution_count": null,
   "metadata": {},
   "outputs": [],
   "source": []
  }
 ],
 "metadata": {
  "kernelspec": {
   "display_name": "Python 3",
   "language": "python",
   "name": "python3"
  }
 },
 "nbformat": 4,
 "nbformat_minor": 0
}