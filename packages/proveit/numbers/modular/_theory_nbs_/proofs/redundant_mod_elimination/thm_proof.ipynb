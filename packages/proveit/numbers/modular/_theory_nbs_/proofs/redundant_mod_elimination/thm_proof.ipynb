{
 "cells": [
  {
   "cell_type": "markdown",
   "metadata": {},
   "source": [
    "Proof of <a class=\"ProveItLink\" href=\"../../../../../_theory_nbs_/theory.ipynb\">proveit</a>.<a class=\"ProveItLink\" href=\"../../../../_theory_nbs_/theory.ipynb\">numbers</a>.<a class=\"ProveItLink\" href=\"../../theory.ipynb\">modular</a>.<a class=\"ProveItLink\" href=\"../../theorems.ipynb#redundant_mod_elimination\">redundant_mod_elimination</a> theorem\n",
    "========"
   ]
  },
  {
   "cell_type": "code",
   "execution_count": 1,
   "metadata": {},
   "outputs": [],
   "source": [
    "import proveit\n",
    "theory = proveit.Theory() # the theorem's theory"
   ]
  },
  {
   "cell_type": "code",
   "execution_count": 2,
   "metadata": {},
   "outputs": [
    {
     "data": {
      "text/html": [
       "With these <a href=\"allowed_presumptions.txt\">allowed</a>/<a href=\"disallowed_presumptions.txt\">disallowed</a> theorem/theory presumptions (e.g., to avoid circular dependencies), we begin our proof of<br><strong id=\"redundant_mod_elimination\">redundant_mod_elimination:</strong> <a class=\"ProveItLink\" href=\"../../../__pv_it/theorems/f3fac8462a31d3a6eaff8c5526b5e35728ec58d90/expr.ipynb\"><img src=\"data:image/png;base64,iVBORw0KGgoAAAANSUhEUgAAAZMAAAAXBAMAAAA8ZL8oAAAAMFBMVEX///8AAAAAAAAAAAAAAAAA\n",
       "AAAAAAAAAAAAAAAAAAAAAAAAAAAAAAAAAAAAAAAAAAAv3aB7AAAAD3RSTlMAq1RmmUTNIjK7EInv\n",
       "3XZ/CtNrAAAACXBIWXMAAA7EAAAOxAGVKw4bAAAEw0lEQVRYw91Xb2hbVRT/5SUveXkv/5g41EEX\n",
       "EBTRunyYBYfMjHZTKXXBoR90bJENpJvMFPwynDUT0Q86E9Q6M0eXQRHKhk39s7kNa1dXnMqkE2Vi\n",
       "Lby54TploXTW/R+ee+9L3kvpn5v3TQ/87ru5Ofe+8zv3nHPvA9xIxoH5JeBWKVCfNW4kErchIarp\n",
       "Uul3OXPWWYixH3fWR+VeB2aTC8P80XuCmjPulJTSHN78LcUe+u4R6icEVrKR5+pioqdtzB4wU+K5\n",
       "keAvulL6aC4jXuFU4E9Ss0lgO1sxXxcVX8LG7GJZOUnwJl0pNc+1fFRQibIYXyrAnGHE66IScmA+\n",
       "KupV1n7nSmlQgsp6tpehIoeXXOuvL1XucmA+KsYIaze4UVLSElS+5FGWEDgxNvZ9fVRaHQgsOsdL\n",
       "z+vHOs+b686noD9+ll5iDIwLK/0Np2nL+8VEKSU7jlnWdwx0sr72/CPlbrXcBfSUWXYfKecElWfL\n",
       "C2ihmMCjwC4J+w27u8GBtZkgjw6cjGsXU95B7MigG/oQDGFl3yb9EtBkzZxfqW2MycmKr9VvsIeX\n",
       "g/AC5B7AQ9BOIWhifxxfiQr2T7EvAy/tH0MHAjGZXLe7P9rQv4aPRwd2A1egXcYokMsG05XitKSI\n",
       "H4D7rJlSShUJ007tT6CN/wgOIpqnSeESm/9+pYIpVxEyoVBWMQSLRsqxQOOBFVt4MFhVTRnduNCs\n",
       "pTJswzeBsKj+BeAavUWjYhQt9ZnQhZWr2DBy1kwppWp1IbNWg9FmVPI0g6jkiN81/SbtJDfal2bD\n",
       "2gQ4FLOa9drpQipi4CAzzsOat2/vglkyXpqVSihvrcmsvElWKmRcNJ+rWjkKlexea1OZX8lJ5duK\n",
       "CqNiEpUlNHhFq1IhP66PQ6UdYUB6eWVyS5aOzQiWsV0IUd9HeQTT9H4Mo6WtZeUMAUaefbjGSu7w\n",
       "pO3wSfgolxohq+TIFQowcr93ooYK25W/7V2hY2V1EQrFOAM+YYflvuUH+eHPqPzJDqtc+Q5xlzDN\n",
       "SE/trnTb6ItjoZJxWIljVOtT/nwlDS6zcMeDtVTmVqoIpbc+CU/6bieVUBLqFNoruRLNUrbCmxfA\n",
       "Nsp6/ZR2Cb38cmMEuhmlC8WzOk8Xs7T1TC2VfhtBU/lJ/NPOrZzCW1lsRmAYnot8+Ba8Z5VtaaVq\n",
       "zYwxbzUm+S3AL6iktOPwl7AthcX8quFJBJOibPPS7WGhlNQGsYZT8X3IGbyLJpVrm48dmlbBdtjQ\n",
       "G77oGGdj26/fds/12IEbpUBrP/mrZ2D8Bq+Lez9ji/wsJkopVUWjkNn71xsNWdZffPTVPUeNF0bx\n",
       "4pFb6bWt5RwPQn0Ru92EUwJWikViaCoUCvFIxHiCjRzHCm97ofAOBdjn8dpzJZy1IffBMuJK6RfZ\n",
       "M/tlC+KQygSXFd/kuxJRn2GH0gSGtJLIlScP185kF78KpO+fLpSWylJpdt49Q5ncmmKwyHMFh5N6\n",
       "Cb9SHu0SuWL0TJu60wEZ2epOKSj5acgu9vblXm2+/1MEPqDeU3+UelZpQ3itTKtTBKlbNust0y52\n",
       "vQ7IyE53SrrktwejPJ32vkLBSh5FrHWo0DWjG0wbMt/PGZdKnXJUzlmYWZ7G/0YS/0Gb/wVTuNIW\n",
       "OcI7+QAAAABJRU5ErkJggg==\n",
       "\" style=\"display:inline;vertical-align:middle;\" /></a><br>(see <a class=\"ProveItLink\" href=\"../../../__pv_it/theorems/a8c182d3e9121fbd1cb948323c7d9dc67b7c7c320/dependencies.ipynb\">dependencies</a>)<br>"
      ],
      "text/plain": [
       "<IPython.core.display.HTML object>"
      ]
     },
     "metadata": {},
     "output_type": "display_data"
    }
   ],
   "source": [
    "%proving redundant_mod_elimination"
   ]
  },
  {
   "cell_type": "code",
   "execution_count": null,
   "metadata": {},
   "outputs": [],
   "source": []
  }
 ],
 "metadata": {
  "kernelspec": {
   "display_name": "Python 3",
   "language": "python",
   "name": "python3"
  }
 },
 "nbformat": 4,
 "nbformat_minor": 0
}