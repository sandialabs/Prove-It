{
 "cells": [
  {
   "cell_type": "markdown",
   "metadata": {},
   "source": [
    "Proof of <a class=\"ProveItLink\" href=\"../../../../../_theory_nbs_/theory.ipynb\">proveit</a>.<a class=\"ProveItLink\" href=\"../../../../_theory_nbs_/theory.ipynb\">numbers</a>.<a class=\"ProveItLink\" href=\"../../theory.ipynb\">modular</a>.<a class=\"ProveItLink\" href=\"../../theorems.ipynb#mod_abs_x_reduce_to_abs_x\">mod_abs_x_reduce_to_abs_x</a> theorem\n",
    "========"
   ]
  },
  {
   "cell_type": "code",
   "execution_count": 1,
   "metadata": {},
   "outputs": [],
   "source": [
    "import proveit\n",
    "theory = proveit.Theory() # the theorem's theory"
   ]
  },
  {
   "cell_type": "code",
   "execution_count": 2,
   "metadata": {},
   "outputs": [
    {
     "data": {
      "text/html": [
       "With these <a href=\"allowed_presumptions.txt\">allowed</a>/<a href=\"disallowed_presumptions.txt\">disallowed</a> theorem/theory presumptions (e.g., to avoid circular dependencies), we begin our proof of<br><strong id=\"mod_abs_x_reduce_to_abs_x\">mod_abs_x_reduce_to_abs_x:</strong> <a class=\"ProveItLink\" href=\"../../../__pv_it/theorems/2daafb76db005d142d599124aeffac2033a2465b0/expr.ipynb\"><img src=\"data:image/png;base64,iVBORw0KGgoAAAANSUhEUgAAAToAAAAaBAMAAADVt43tAAAAMFBMVEX///8AAAAAAAAAAAAAAAAA\n",
       "AAAAAAAAAAAAAAAAAAAAAAAAAAAAAAAAAAAAAAAAAAAv3aB7AAAAD3RSTlMAq1RmmUTNIjK7EInv\n",
       "3XZ/CtNrAAAACXBIWXMAAA7EAAAOxAGVKw4bAAAD+ElEQVRYw82Xf4gUZRjHv7s7szM7c40nauAh\n",
       "+kL9I3S59EuUqAsvvShluaioU1xUKhOu8c/DQ7f+Kw89hKOmg2OEJboCmyQNFWzpj/4wiv0jQZCD\n",
       "97xL7crjsMDwH3ved2ZnZ3+4uu1t+Cyz7/PO7MzzeZ73eZ9nB2ibaPQJ1fsVu6xoaKdcgZkJ1FC5\n",
       "p5wqKyoHOoX6SBvg4l6LdJgBXhTqO22g+xyt0iVdfCDSYrQNdJtapkv0CECYrA10hZbpcAGJNIWw\n",
       "HWmXbZ1uN/Dz1NRPbaBTPAllzHcdPtkc3YnpL84xSfcN0Ad8tkhE3zN9jxvoybSkUzDNt96DTpmS\n",
       "0hnQ9VirlaKkewbYD61zkegGiuAl/SEm6dbjeXdZU7FL2InbsbSkewxIufd9rxeMPZHv0iCE7y7T\n",
       "dWQkXQ6bm8w7HUo2yLujlL68YlN0n35hUCpv/gX1bd9Y/PKeh3kEZDTyHQxrRQviO4x0FR3wS9O7\n",
       "ooMHynY6ss+VLunTTsYy8Z2MkbUKuEbjkZVj4J55oCHdWukGTz5tV60s1Fv4sobuTxZ1vyrvsNM2\n",
       "XKl003HyvdJNvTmCsrBRmlK+ToulVPqEWZ440YhugwyZxtTy7k9xQWeMxQrwauiSLOJ+VewmM6tg\n",
       "+pgb6BgW0PNbZm1L2CC6OUlh0sbxZLMTdFYe3/b+2pupoLNmD24Rk9/9ah63sTc0Y3YKuvg/+YLK\n",
       "auhSrOx+Nd26j19Bv0/3Mh0xETF7ZZJNygU1tQkZiQ+NmzqDIUm4NzRTJ3bXYqO7aBgJWk03x5HQ\n",
       "jF6UsdvGH31CKJOXHu96cgU5+4cLa+YqK7tfTZefj29iPt3F4GQCEzpelXTKuG98DlstF6ok5S+d\n",
       "QR26dIrnaIiPu3Xy+1JFr9BuUly7kcoYRQpJBwvdb9ArtGJ4+hYVP8dxmGWZ/UGlODRA2Hsd5xit\n",
       "7ClWL++W2HJQJd6SO1JKD3yqku42xjEiasQEqTLvfPcb0ClhAdALGg7L2FnqgOsXt9g+Ou/5effa\n",
       "2Ui9C+lG6C+smOjL7ZrYpewKugWspp8/CyxXF3w63/0GdEMlfdjMKlSXZd7hbI/hgYJOqxF0Oaoo\n",
       "+cgjAjqtcJpMyIm2VNzbPxvJfsrYWjqK3WApdr77Deg+CVvdb+fnoH1K2utXvfxm/QfcoEkXzYdo\n",
       "z6iD+4zebA0dtg3Mu8FEvgQUjIWIoYOwcoFq5YhuguiSTLuAZRgmupL7lXK9rFhV6/GV4wTexssh\n",
       "OOOMVT+iTq/w31T0wt16wPG/Ez++scbD+Vla8Jkb7yJ0/z/IWw2v3o2OtiT+D0k3Q/cR7XVHLkMf\n",
       "HgCxo6+ekewwXY4HV96/U1zcB/4LjR1FbMf+6iwAAAAASUVORK5CYII=\n",
       "\" style=\"display:inline;vertical-align:middle;\" /></a><br>(see <a class=\"ProveItLink\" href=\"../../../__pv_it/theorems/ecfed35e78e631cca23cddce8c7a4d15e8e93f240/dependencies.ipynb\">dependencies</a>)<br>"
      ],
      "text/plain": [
       "<IPython.core.display.HTML object>"
      ]
     },
     "metadata": {},
     "output_type": "display_data"
    }
   ],
   "source": [
    "%proving mod_abs_x_reduce_to_abs_x"
   ]
  },
  {
   "cell_type": "code",
   "execution_count": null,
   "metadata": {},
   "outputs": [],
   "source": []
  }
 ],
 "metadata": {
  "kernelspec": {
   "display_name": "Python 3",
   "language": "python",
   "name": "python3"
  }
 },
 "nbformat": 4,
 "nbformat_minor": 0
}