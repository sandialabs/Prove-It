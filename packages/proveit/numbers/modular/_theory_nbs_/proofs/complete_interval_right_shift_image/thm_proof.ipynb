{
 "cells": [
  {
   "cell_type": "markdown",
   "metadata": {},
   "source": [
    "Proof of <a class=\"ProveItLink\" href=\"../../../../../_theory_nbs_/theory.ipynb\">proveit</a>.<a class=\"ProveItLink\" href=\"../../../../_theory_nbs_/theory.ipynb\">numbers</a>.<a class=\"ProveItLink\" href=\"../../theory.ipynb\">modular</a>.<a class=\"ProveItLink\" href=\"../../theorems.ipynb#complete_interval_right_shift_image\">complete_interval_right_shift_image</a> theorem\n",
    "========"
   ]
  },
  {
   "cell_type": "code",
   "execution_count": 1,
   "metadata": {},
   "outputs": [],
   "source": [
    "import proveit\n",
    "theory = proveit.Theory() # the theorem's theory"
   ]
  },
  {
   "cell_type": "code",
   "execution_count": 2,
   "metadata": {},
   "outputs": [
    {
     "data": {
      "text/html": [
       "With these <a href=\"allowed_presumptions.txt\">allowed</a>/<a href=\"disallowed_presumptions.txt\">disallowed</a> theorem/theory presumptions (e.g., to avoid circular dependencies), we begin our proof of<br><strong id=\"complete_interval_right_shift_image\">complete_interval_right_shift_image:</strong> <a class=\"ProveItLink\" href=\"../../../__pv_it/theorems/a89f74a5ba93894582f1badb3f21859b027e33090/expr.ipynb\"><img src=\"data:image/png;base64,iVBORw0KGgoAAAANSUhEUgAAAq4AAAAmBAMAAAD3rQSpAAAAMFBMVEX///8AAAAAAAAAAAAAAAAA\n",
       "AAAAAAAAAAAAAAAAAAAAAAAAAAAAAAAAAAAAAAAAAAAv3aB7AAAAD3RSTlMAq1RmmUTNIjK7EInv\n",
       "3XZ/CtNrAAAACXBIWXMAAA7EAAAOxAGVKw4bAAAIYElEQVRo3t2be2wURRjAv97t3e3tXq8HRgJK\n",
       "4IwRMWp7kYCCtRwBhYLABdQ/QELFEMVHuZrGSGzgqIQEBa+CSFoSWIwkPO3JSwtRC8bw8FUJ2og0\n",
       "uUaCAfRCgPJMwHnt7O7dLvdoD69M0tnt7cx8s7/55nvMtQCZFNvNmwHIfxH80LuL9Bq5TL15LbP2\n",
       "Nt9tmdYY6O1lhUKvRwqJq72q13O1+wqQ63Kl13OFlQXI9fXejxW2KQXH1XbtDuAq+AqOa3HsDuDq\n",
       "ulxwXKN3gHkFWFtwXAfQy8YQqsJW6pD5cG+FuxGHPp99HyavvOC4XiC1dy5SW69VguCIZzycOCB3\n",
       "/T81I/s+TN4iP+VKiN2fnmsRueYx6xKpZSrDs3vYstVfVg+8J0L05vTNCDjmH1bAnbMyEA+676SZ\n",
       "wvPRjXM/jioqrzhIuT6NL6+k5yrgaTvD+eNqP0cuX+NtaJ0gOC2VcBHjCuvR+xWjZnJbrlPBPZ1+\n",
       "qd3smTq6vmx45hqo8oQqynUxtloN6bmKeDUW5NEMFFVxroJxW0zX0w9a9S9hXB0PIcWXobtcnwJo\n",
       "MTNE6ujGzaJx9Z6jXLECyP70XAEfKezII1ePj3P1GJ+U6n85ko6rvPE6wLRuc/2ImaTkR+roVlxt\n",
       "V+gs7Ug3nJn4rWHoms8EviTGuQ65BdeX03EV4ATA3m5zvYgCPxN146NbcRXPs9X/qaPjh0y4ejo6\n",
       "TuQzci8JcK6T0M/nnZv2+Y1c5cQTAF8wT/HG+MQ6R2I1wGcJ7CL2JaKc6+gABLvLVcJcA2Zc2ehW\n",
       "XKULjOsEgKZMuAoRcOczcqcBCjzDdDLoHSS0Gbi6jkIlwAg1O+sL0eEoWhTbwR2HbX74lnGdBiVt\n",
       "gBXA25qN+MkduPwKzPe40HaPmgR1fPRUrkzeDca1BlzmAUnMyBW1qkk7uyBdU4AnzSOyDyaqjVLT\n",
       "LcLV9R2qjiL/FLZfKwoYuKI892eAR1hzdyuUNEA0gj4Vr8AnWjywF4QuB753nc91iesClKvJ9uSj\n",
       "p3Jl8q4zrm5FRu0c6wPwQjXVi2O7odxneH2SFzTBbv7BUmMEMXBt5S5yQz52o21qoiviPKDbuAGW\n",
       "0ZnphALMJiz64fp71JgFLFiPfqR6NJXslqjKtQFb5GgEL8d1CSlJc0hdWtdVmTTdMCc3rDVz0XZG\n",
       "eGbHzRRHHV16k2h4hHNl8i4yrrY4cVudreBF0emHA1bDfbIiKKlcS3Vuq0hbStyjHfaeMXC1mXm4\n",
       "e5lLagCphW56JlSnr0uaKFdkz+NJfuswqV/UcY0jrmUI51VRxxXNbH0tudsTyjFDqVQInjK/6SZm\n",
       "o6foK5OncoWqCnw38QIOy4QJOPuKB2VI5eq0a+vniXBDjnsExAcD6bke4lxR3hLQhOq54vgG2wGk\n",
       "LWFJ0XOViOGCR5O44m4XdfrqQL/PnmRy7mjfaQ5xl5JiX3Hm1AgwOtWdaKOncmXyVPsKO8iXXbHJ\n",
       "+BVJmjj0gYUy7Bp3bFzIwFUeguRIO89iBYsm7sGff1PBEktBgBSurKn2Bjc6Fc4VRsa5UOa3tHhg\n",
       "HcDm0ED+qJSfHzhQvySuniA4umAet694kxZ3kTujLVpuAhWbM9lnGmeVUxea/ISPbhIPtGrHHJhr\n",
       "HR5Y9Df760EirzxU/nSmib669qNqeziKYf2rnMSeJLSc9oDHhxq52qt4U034cW8QZqmNoDzMhLLS\n",
       "HOdckREue/9ZHn4zrigY+IrGYCShpVxD4iFwxqAuBIPpumznKbEWZ2FTlRwUc3NmsrVwz2K/dIjO\n",
       "C6vIJfZEG93Y4TKX51LjVyjCe9qrCG1nwEHmNhSCp024Qn/0M46u+yoS71TCJtpDiseMXJdGeFNe\n",
       "3AFE23mGNdq6WhWqmpYg57oCR6W2sX4jV3lnBdKW35jyD95fv36/PP9PqN13N5rApESU7OENv8xR\n",
       "p8G5ElNlyhWbMwuu0qROauvIQcoxdhCgjW5YnoGX7uJ5QZchKxTA1RUD+7zGxpWI61anGVcgLqWT\n",
       "msox1L/QHrKsUGPIuIp9FN5U9xKCD2zVtFFtfy5UU0CVa3HEMt9yZR7s4/f0nlw4npkqzHVrxZfG\n",
       "2A6ZMwuuuWVpqpXlXJEt64ciwRjVV0dpavxKncdlWLUFXc/BAVQj7ac9pr0Hsp4reH28qZZQgccP\n",
       "dbRRTX9NqLqyrZxr0uGK/txFCGT1nn8XNcxhpgptMKmdHUaqBZszR1uPcqU151pPEx6SeQ2HJE3T\n",
       "6etBsWuUFIPj9gZUz0VkSI8YNZxGv4Wbkh0PEoFXrIxU44EN4/VCmb+m7vQfXK2xnHwWJ2o4AA64\n",
       "4xFqqsRX0SfBpLiamLPqFLefXaaml6eewqpcvX9EoAiNvwDtQPH3MD3FNuP63GNnA+IBWJIAVNcO\n",
       "O0N62PsMankphStuShxxWDxI3mxKXOW6xSCUbYXzWjq72XLyazJ/z21YekmYmarFKIDxhLy+pMgP\n",
       "mbMhKeF/bpkakceOOZJP3aSWxtXpv4ex6Wpjj1vGr6CLX03Kx/SdxiCwLquvW7yZH6y/25dGV2Fq\n",
       "qvAWbA67RxmUE5szl4ly1vbNHiuVh8LuW55m3pLrDF1tLCpXR1v2XMt7/izH1boHud8mVbInHJ2O\n",
       "uSK7tJV8hsyZtQrkVvZA7lwDutqcK1RbpIg0TlnWiEqy6jWHeh7slJkJhZgqwtUxtpQkXcguLSfS\n",
       "kTnraa4HusHVupDZukieYfr8Hd7IxJ/m69ScmqohVu/Wo2KZyyuov886lNfRZ90Wrh5/4XEdkdfR\n",
       "nRa+cKm/J6WcgsLj6szv34TXm7u2SI86yoMFyNX8C/teVbb7s+N6e/6/4G2lt3NdReqM/7/gNpWe\n",
       "3ZP/Q5F4qPgfQIaA78u5Be4AAAAASUVORK5CYII=\n",
       "\" style=\"display:inline;vertical-align:middle;\" /></a><br>(see <a class=\"ProveItLink\" href=\"../../../__pv_it/theorems/f6b4fe5bd81f08cc4e344b65972f604666849f2c0/dependencies.ipynb\">dependencies</a>)<br>"
      ],
      "text/plain": [
       "<IPython.core.display.HTML object>"
      ]
     },
     "metadata": {},
     "output_type": "display_data"
    }
   ],
   "source": [
    "%proving complete_interval_right_shift_image"
   ]
  },
  {
   "cell_type": "code",
   "execution_count": null,
   "metadata": {},
   "outputs": [],
   "source": []
  }
 ],
 "metadata": {
  "kernelspec": {
   "display_name": "Python 3",
   "language": "python",
   "name": "python3"
  }
 },
 "nbformat": 4,
 "nbformat_minor": 0
}