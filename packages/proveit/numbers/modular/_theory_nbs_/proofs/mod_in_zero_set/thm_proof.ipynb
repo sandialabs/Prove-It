{
 "cells": [
  {
   "cell_type": "markdown",
   "metadata": {},
   "source": [
    "Proof of <a class=\"ProveItLink\" href=\"../../../../../_theory_nbs_/theory.ipynb\">proveit</a>.<a class=\"ProveItLink\" href=\"../../../../_theory_nbs_/theory.ipynb\">numbers</a>.<a class=\"ProveItLink\" href=\"../../theory.ipynb\">modular</a>.<a class=\"ProveItLink\" href=\"../../theorems.ipynb#mod_in_zero_set\">mod_in_zero_set</a> theorem\n",
    "========"
   ]
  },
  {
   "cell_type": "code",
   "execution_count": 1,
   "metadata": {},
   "outputs": [],
   "source": [
    "import proveit\n",
    "theory = proveit.Theory() # the theorem's theory"
   ]
  },
  {
   "cell_type": "code",
   "execution_count": 2,
   "metadata": {},
   "outputs": [
    {
     "data": {
      "text/html": [
       "With these <a href=\"allowed_presumptions.txt\">allowed</a>/<a href=\"disallowed_presumptions.txt\">disallowed</a> theorem/theory presumptions (e.g., to avoid circular dependencies), we begin our proof of<br><strong id=\"mod_in_zero_set\">mod_in_zero_set:</strong> <a class=\"ProveItLink\" href=\"../../../__pv_it/theorems/20c62dd26c3430ae4a532aa313615bc1011793940/expr.ipynb\"><img src=\"data:image/png;base64,iVBORw0KGgoAAAANSUhEUgAAARMAAAAXBAMAAADaYbYpAAAAMFBMVEX///8AAAAAAAAAAAAAAAAA\n",
       "AAAAAAAAAAAAAAAAAAAAAAAAAAAAAAAAAAAAAAAAAAAv3aB7AAAAD3RSTlMAq1RmmUTNIjK7EInv\n",
       "3XZ/CtNrAAAACXBIWXMAAA7EAAAOxAGVKw4bAAAECklEQVRIx71WXYgbVRT+Nskkk5lkZim0WAp2\n",
       "wIc+1QapgossU/onijZaEVSwaaGUitQpiE+1TUXwwUJSiuKuuh1hFXS3JFqwaHXdItItRYg+tGpd\n",
       "yPqg4JZQatfqForn3Hsnmfxt0wg9cJI795u597vnfOfMAP/DEsp7MK996sOsXGRNF/y27DflPdjz\n",
       "bTPWbl8ODo8qfJCv7umLSaQsvZtZv4pzG+9VaJxpRdcRE3NqK42OQuKbeXpPX1Q+Ut7VDskUxF36\n",
       "eaEV/Jp8F054csT4YU5XsS8qG5V3NVtSsR36Wd+BSrQCs6ioEB7nODl9UZlWfisqO1gUKakM6/3Z\n",
       "C3UqyUFEFhUVwqOUpHh/UslJvyUVsVVciEXb54eiYrvQr4bw72dnz/dFJVaWjv1TB/laf3FrbUyr\n",
       "vQWM11iBp2sFSWVnbRlFXtTHK344QSWi8peiwvjDwOgSG7pdET4Hu3YWx8UO6WUo3I+HoF9EsopJ\n",
       "B9/ICvrbL3mI5lrqYwvJugz9JnCZLxnfj8RgAOt71WDt5xv2yVGros2poHzTjvTJDB4TE8lp2EUU\n",
       "8mna4R+8HVQQySFVRUSoqpHPxLeSyg36Y6kynvTNbP2GVcxnbiRrmThV7khlGM+oUSorfRtwSVIp\n",
       "wi4TlQItfcOg45bEwrEcT+tXeGlSw+zPgskKwkplaHSbsYIeYDxSDal2hnxTnoRuYajakcoMbK+Z\n",
       "yjkYC3UqVaKyjib/1etUKEg7HGgcFaOx2uujQrYRkq25mwXNeG6YfiaGTzHrm3O+6ItE5U+3QcU4\n",
       "Oa/2T1C0naYE0fGjV5qocFSuNaJCbWWbj0iFx5XGmY6KB6KLsu9K/DNqdMZF/Toz+MVyPxblbybG\n",
       "Mg0qJ7yCFxshO6YvIq16OEmT3biKgdyaMJWUC20BewOt2HmDdBEVC9WaW9w0Zw9fCdkyfoBUG3N1\n",
       "DlAyE81tF1Ri7xZDst2EI4GwhQYRlB/7GNa6IoJxSSWrzyBexoEsVgvSA5mkq8oecaep8f+Iybwq\n",
       "ZoEP5DnnFpdRKh8bfIAO71iW+WSIyneYQz1BtlpOr0j/YP6Nu/N8vfrMa8fPmC9dwsunl1OgH60V\n",
       "fhDZXcVvh7Qs7JXPhqmMT90VtMB0UDslLzlEGbNJCG+KqFjac36dinEdxz6RCQrJFj8p78lelX/a\n",
       "F6HGHyIV4BQOr7Ddn0Daf5CKW2gFX4Zke1ZfGFJ31vBE8ND6Tm+5pd6dbW/m0KiOaxvvPYkjjv54\n",
       "FYl36Prp38vjWxpUnrpvPlNvcY8EDyU96T198LW9/C+H+24bLkUwMTLS6HlY4vuBu4TR4/dFO+VD\n",
       "gYK5vlpxze+wxlJbHVTeg/3RHqcNkkviU6cdj+I2qdxh8+7YTv8BFKglNFM2L10AAAAASUVORK5C\n",
       "YII=\n",
       "\" style=\"display:inline;vertical-align:middle;\" /></a><br>(see <a class=\"ProveItLink\" href=\"../../../__pv_it/theorems/4a8547284cc1de01ab4dacf13c8d4571a442f3ac0/dependencies.ipynb\">dependencies</a>)<br>"
      ],
      "text/plain": [
       "<IPython.core.display.HTML object>"
      ]
     },
     "metadata": {},
     "output_type": "display_data"
    }
   ],
   "source": [
    "%proving mod_in_zero_set"
   ]
  },
  {
   "cell_type": "code",
   "execution_count": null,
   "metadata": {},
   "outputs": [],
   "source": []
  }
 ],
 "metadata": {
  "kernelspec": {
   "display_name": "Python 3",
   "language": "python",
   "name": "python3"
  }
 },
 "nbformat": 4,
 "nbformat_minor": 0
}