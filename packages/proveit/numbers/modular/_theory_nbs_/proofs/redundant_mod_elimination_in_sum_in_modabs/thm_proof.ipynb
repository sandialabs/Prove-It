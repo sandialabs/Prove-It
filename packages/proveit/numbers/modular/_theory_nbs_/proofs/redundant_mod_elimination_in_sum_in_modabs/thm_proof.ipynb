{
 "cells": [
  {
   "cell_type": "markdown",
   "metadata": {},
   "source": [
    "Proof of <a class=\"ProveItLink\" href=\"../../../../../_theory_nbs_/theory.ipynb\">proveit</a>.<a class=\"ProveItLink\" href=\"../../../../_theory_nbs_/theory.ipynb\">numbers</a>.<a class=\"ProveItLink\" href=\"../../theory.ipynb\">modular</a>.<a class=\"ProveItLink\" href=\"../../theorems.ipynb#redundant_mod_elimination_in_sum_in_modabs\">redundant_mod_elimination_in_sum_in_modabs</a> theorem\n",
    "========"
   ]
  },
  {
   "cell_type": "code",
   "execution_count": 1,
   "metadata": {},
   "outputs": [],
   "source": [
    "import proveit\n",
    "theory = proveit.Theory() # the theorem's theory"
   ]
  },
  {
   "cell_type": "code",
   "execution_count": 2,
   "metadata": {},
   "outputs": [
    {
     "data": {
      "text/html": [
       "With these <a href=\"allowed_presumptions.txt\">allowed</a>/<a href=\"disallowed_presumptions.txt\">disallowed</a> theorem/theory presumptions (e.g., to avoid circular dependencies), we begin our proof of<br><strong id=\"redundant_mod_elimination_in_sum_in_modabs\">redundant_mod_elimination_in_sum_in_modabs:</strong> <a class=\"ProveItLink\" href=\"../../../__pv_it/theorems/1af8d48a669bc92439efa4affafadfbcffd82d8a0/expr.ipynb\"><img src=\"data:image/png;base64,iVBORw0KGgoAAAANSUhEUgAAA+EAAAAzBAMAAAAKiRRsAAAAMFBMVEX///8AAAAAAAAAAAAAAAAA\n",
       "AAAAAAAAAAAAAAAAAAAAAAAAAAAAAAAAAAAAAAAAAAAv3aB7AAAAD3RSTlMAq1RmmUTNIjK7EInv\n",
       "3XZ/CtNrAAAACXBIWXMAAA7EAAAOxAGVKw4bAAALRElEQVR42u2cf4wU1R3Av7c7uzM7szd3tmpa\n",
       "bY+1Pyx/FNwUtS0lxxqRSo1xa39Gm3JVmkZsuCUhMVgK28ZYk167qxbLYXsMilYOy60IViE9DxtF\n",
       "aGnPllIiXDtXLv4Aex4nJ3BEtu/HzO68mdndmeVmuBv4Jjv79s2b9777Pu/H972Z7wDUku7ubvBV\n",
       "xO5uBS7IBAvB6Kxq/1M87q9ujcViymnaNRdQ1uo/a+n3uuIpgFixmK99yT/91rEx7ThpQ/IC0lry\n",
       "C71XfxEfwlOc+OXGH7zXivETnK5OybhLHuoPEPFwm/GXlPZYsf86TBdRPVVjm8v0zwSI+IqMn8RD\n",
       "Bdi41/6UfEgre7D4PTTRHJ5UxBuTwSH+b/CT+JPos6jCuVV62R/gQ1SZTMRDewJDPNxXg3jE3rD7\n",
       "WqUMbU+UMrkefUYrXNmklS2cJoqlqpXvJtZOKbfE9WYaAOLxQg3iIfsJdWalDG1PlDJB7SsyXoO4\n",
       "PEa+9lQr302snVKuiS/MBIX4u4qfxEPITJT6axCPjpCvOycV8WhzUIi/BhbiS3tX2tQif/mbqhvi\n",
       "THo9Ew6NKNGWwQQeu3/45eGuyPBqgA3DN6DfO4Zzms5NbUbzuERRGv6CDVv72IrEew9n6yMeGg8I\n",
       "ceGkhXhkF6xTrLX4nUxs3A1xmv53bCZRNNH2LBZPEBU/BLlrYA4I/4KYCk8n4EVN54V0ornW1OL+\n",
       "Dgts2qFtbEWlfpzgEK1sdeLcAJFmJlI8ExDiDX0W4k8n4WaAx9vYWhT/BFw/bHrmMofEaXroZVE0\n",
       "ot59lQJ/xeFYHzTlIZdtLOB290jZVtfIf9Z0aQFdZtaKxIo7LlIcEj8IcZTkQB19HH4bEOLxZgvx\n",
       "W3DFCMP9WnM/tJc0d24E124KNwaAmwcG/jIw8Jo1u/IJmh7YTCCO1JoPQIzxWB6aCoh4DrWC07gL\n",
       "9Wg6t+MGA5BjL70FUbVoRWI50raMsRWVGq97Hoe5mWAQzyUtxHeDOGbYV9T6TTyPiYzBqqyzPk7T\n",
       "m4dbTPwgREZ14ioifhWKOyUYiL+PPp9H0wJ76W7yw6QViW1K8yed9fF4vn7iPclgEH83YyaOelt4\n",
       "xFq3PSrMBZjtmDhN/91m66g+qnU1nTju48cNfTyCZ0x03Qx2VjljR5zEhhWnxHvweXEoUcc8ro2G\n",
       "U5/4b8BCfBQa2j5jJZ6AS0OoefzR4TxO0t+rjrMokIkGJ7GlYCAeT0FkDO4qzeMSwicntcotX/oe\n",
       "agvWPk5iSwu+WsSbULZpDi8RTcTll3BTm9ZSpaZi/cEgvttCHLpgRiplqduYGtrHoZn0dZOBhofg\n",
       "njb9UD5B0vOPmVBIqKN8GH5F7XZKPC28CtECrEjDNDrDNKIR5kU0Pd/EXopM8uetxEls6Wam3vPf\n",
       "ZzQrK4UMdSnbLaWsffwOfHinWk1JI0bipMN/sirxBqJR0kfiTkoUj1uJrz/6s5asdfxseX7pWwDL\n",
       "FVMf34cLS+kHQ1Mg6WMqC0hAua7fSnQSpu386bqdUvtBWLbjEpT+puEcMQXXtx+7qP1YuZeUGsuz\n",
       "rYqVOInl15pi9zGaGbTdMesIXSKaiT+EDw9Wq6rwmJE43kGAH1QlzuFOF834SNxJicIZK3Gt8vrt\n",
       "1rh8is+42XPrecqUyQHH/4C3G6nttVoG97jZc2vKYOIbD8y8bBZqaoePKjDceoc2RdSqKp34T7CG\n",
       "+arEBTwOLPdzVHdSYmi0JnHm7sTyB+7TOrmzOylXcqZMrnb8D7ikTfm2WvFrHviKTdqKSnUQW50f\n",
       "RbbDDIilxX6uAHgeF07UHg514vjOnpSoPo8vRl9bfJ3HHZQYPlmBOP/cabv+8rdi0ZUa69802z+O\n",
       "Rzm7tmqvVbxYHHGj1CAlPg6PIvho1d+1SiHzuNxX9bJjRuJh1LaiNSy3WeirzVfiDkqUT1Tq4x6J\n",
       "mHea8tee6XAnJT4CLYj4HICLF1LLLdYMYpW/f4qx1fcODPy5BvH4wMChgq/EHZQome9cylmPFVvp\n",
       "MJ3slckT/Tbuym/pxFEfX6L1cbR2k5TKF77CEL8RANmLItUya0ucy0JM8ZV4pRINrYAbh/NNuCFa\n",
       "J4h4FyIeTfB7GpI8nsdzGbiiyoUDDPGlwCM7SVIN9ii/bxvMaS4TRwmWutHs/rzLvzLjueuWMMQr\n",
       "lZgqBxtG4HyV9cfDr3xrWgF6hzLQ27o/C3L7jvljVS44xBCPKewE+MuProYrJIVTDDswa91t5ja4\n",
       "mQKEwc60LMEfCswODC3xq8f0RfHBRZeqF4jXKyzxkMoYbtyNeEdGTUnGPbeZ7gy3uJsZdR5KLMsw\n",
       "W2WI0xKpCYrboFqQfsQSPw9H9bqFHdWhrRWtBgeJNTqUoE/eTv/0SoZ4NIx4iM8e1U0SQ9Bgy5Yi\n",
       "c8PkVnRva8nKOmxdmWhxeBsaEz+SYoiTErEJqrVBVQ1vhq3z9s0rjUeS2VbnpzQUTze4WMsNtqDF\n",
       "7+YmPIhzoTa6BJkuPXa7kbh0JTr9+0xOV8sQLEs58n/KECHXUcpDsK4XtbiNBLvEdyUZ4qREcvuA\n",
       "tkFVlTewfVw+6fPqzFvZ5mXmO1niK1BHupfc3+uWUnTrZzqk3jYS5/El8/COD92cxsHIzBtMwzM+\n",
       "H8Ohh8ljPwvgKS05lxeztw6xQHAcIGOBbCnJ3KN5xnKjJWITVFsGq4Xlh1niYZ+JV/JOmArEj7PE\n",
       "G/Cs20UXfMnwXZ2dDyHim6JG4vAR9HkZBkGYQRDiYBx62GxfJjtCWF6F68hvPTl+mKBPZC2tuMbn\n",
       "2s7OzoQsS7eyxEmJ5I4QbYPqghdMtnpozOc+vmjKEhdPs8RJ3DgxtpoyQoH28chMhjhOcgIe7oZG\n",
       "RQ/y0MFmiyND5OGwEbLXi+dZkpzs/2dMAzuOC18N8HPSx+XI7QpLnMiDAE/QNqiq2xLselx4rybx\n",
       "ifVQGK2aq+9+B26WQ2esxENtKbFANurJ3btroNRfy/fHdwljszFClJAEYTUObiodcGToUzj0ejiP\n",
       "jt8HiRDfBNE0QhVLG9LSuHueBLrRglZn21M2xBHU7bQNquo3ttsNVVWJT+jz6iXvhEnyFLoLoTed\n",
       "TH28JSO8RDAvR51d2J+ht6gZ4l//3NEkRogSkiCXxcGOjLALH7TINTjuvmF8XDbrCCHekeCvb1Xw\n",
       "3l5Hgqbdpcd9Cd89Qll/843ChvlW4sIJCDXTNohWZxtM/2O/v8Sl/ilLnN6CsD4DEyIb9eILnatZ\n",
       "m5rdAlVIQizb5VIQ9JDYn9BCoVJySJAKU1QtRISGLkGfTZ2dacsuK5U3Tm9tT5M2GFlytzjPtCfw\n",
       "MRviHnooaN4Jk8bvwM2O2Ig98dvoRr1lFcXMCO9sQQlpDRQ/0IPkavrVpWih20rJI2SGbi/2ayEy\n",
       "RNKQrVOP+aknSxvUZK5iIe6lh4LunXAO/A7OVuhzsFbiSX2jvgpxmtAuaA6Vf4crheRPpJwQryS5\n",
       "hIW4lx4KunfCpPE7cC6rVHviFcS7JxtDF8PZEPfZQ4F6J0wivwPnEhQPBa7PQtxLDwXdO2HS+B04\n",
       "l49DMIhHxszEPfVQ0L0TzoHfwdlKUDwN6YO+DHEvPRR074RJ43fgWMJB8SY2G+seeyjo3gn1+B2Q\n",
       "Eiba78B5hQbmjQHWt4J46aGgeSfU53dASphgvwPHEpy3goTH7ffcPPJQsF1jn0O/A8eitZsgvN3r\n",
       "7hrEJ9ZDAexyPYd+B05FvyEQBOIdtm/w88pDwU7Oqd+B0/pMBIe4nLft41NO6vQ7cChBeksn+yZe\n",
       "zz0UPJK6/Q4cDuptbon/w+836jfOdvxG/WgCpr7U7XfgTO6nuXd3v43fqL/ZAfELb9T3SVz7HTgS\n",
       "cTH9Lr1R//+RuwMFnDYoDwAAAABJRU5ErkJggg==\n",
       "\" style=\"display:inline;vertical-align:middle;\" /></a><br>(see <a class=\"ProveItLink\" href=\"../../../__pv_it/theorems/60bc85ae49c188e24ecb35a1eed35a1e1f2655bf0/dependencies.ipynb\">dependencies</a>)<br>"
      ],
      "text/plain": [
       "<IPython.core.display.HTML object>"
      ]
     },
     "metadata": {},
     "output_type": "display_data"
    }
   ],
   "source": [
    "%proving redundant_mod_elimination_in_sum_in_modabs"
   ]
  },
  {
   "cell_type": "code",
   "execution_count": null,
   "metadata": {},
   "outputs": [],
   "source": []
  }
 ],
 "metadata": {
  "kernelspec": {
   "display_name": "Python 3",
   "language": "python",
   "name": "python3"
  }
 },
 "nbformat": 4,
 "nbformat_minor": 0
}