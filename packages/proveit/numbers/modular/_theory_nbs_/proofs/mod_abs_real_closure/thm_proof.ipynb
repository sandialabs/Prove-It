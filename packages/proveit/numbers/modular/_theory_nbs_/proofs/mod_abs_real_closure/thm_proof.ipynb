{
 "cells": [
  {
   "cell_type": "markdown",
   "metadata": {},
   "source": [
    "Proof of <a class=\"ProveItLink\" href=\"../../../../../_theory_nbs_/theory.ipynb\">proveit</a>.<a class=\"ProveItLink\" href=\"../../../../_theory_nbs_/theory.ipynb\">numbers</a>.<a class=\"ProveItLink\" href=\"../../theory.ipynb\">modular</a>.<a class=\"ProveItLink\" href=\"../../theorems.ipynb#mod_abs_real_closure\">mod_abs_real_closure</a> theorem\n",
    "========"
   ]
  },
  {
   "cell_type": "code",
   "execution_count": 1,
   "metadata": {},
   "outputs": [],
   "source": [
    "import proveit\n",
    "theory = proveit.Theory() # the theorem's theory"
   ]
  },
  {
   "cell_type": "code",
   "execution_count": 2,
   "metadata": {},
   "outputs": [
    {
     "data": {
      "text/html": [
       "With these <a href=\"allowed_presumptions.txt\">allowed</a>/<a href=\"disallowed_presumptions.txt\">disallowed</a> theorem/theory presumptions (e.g., to avoid circular dependencies), we begin our proof of<br><strong id=\"mod_abs_real_closure\">mod_abs_real_closure:</strong> <a class=\"ProveItLink\" href=\"../../../__pv_it/theorems/22c3aaad989e9c52664c90c7912099750fef37c80/expr.ipynb\"><img src=\"data:image/png;base64,iVBORw0KGgoAAAANSUhEUgAAAOkAAAAXCAMAAADZcZi4AAAAOVBMVEX///8AAAAAAAAAAAAAAAAA\n",
       "AAAAAAAAAAAAAAAAAAAAAAAAAAAAAAAAAAAAAAAAAAAAAAAAAAAAAAACXHtMAAAAEnRSTlMAq1Rm\n",
       "mUTNIjK7EInv3Xbt5cmRiLwgAAAACXBIWXMAAA7EAAAOxAGVKw4bAAADZElEQVRYw9VYi3bbIAwF\n",
       "xEsC1M3//7HjZQc7JvWy1j0jJ3aLFdCVdCVhIX5muP59mvyuzX5qsMqXYA6zTxNvDrARcbEpItT/\n",
       "DZer3J4ruA2oCuI7kQqBwmVgRgJSNWyBprfV7W1OJiu+H2moN988aTNgvzrV4W0u1XATUu1EMyro\n",
       "Drduo25DGsUXI2VMedgzpN1/MaOETk97H0vt1yI1luncp5Koh6wtKGOxR4rhvuANO2BOBnb8PlJn\n",
       "aRK9HtWafEJBrH19Rm+q/SLxTOYtjEhNzMrgQm8jPcukGWm0aUmbs8FWm66Xw/D2kKRUClZLy/s1\n",
       "Z/JN7xD4GC1JDQIUawVI7/vUTjISAD0eqbi683QTueroWSJmCRZ5JrhwjvQhLzbbQTaLORgsmgGp\n",
       "Xir48DZS39iXBx6iFwm2FsHXbRRP8lH0PUJ1/4PzRwDxBOkq32C7bWpxc6SxLECLeRsp4azKeP3g\n",
       "pInd/9CVpwAc3GYHZkm9w3ggZdKT6O3ybenqJVf5F9U0emkpO8NyJfdyX+fAkjStp9pvTYJKvZT2\n",
       "9EXJZX1XpJxIsB6NVqLXIcM50i6vsYyP/IW8WFk47ftM5BFp0V5aodznPrXqhCWCeYY0a77qCk1P\n",
       "F+UapiXuN3GoOcvAgFRjQDHJSF1ebJ2m6EjjXpcgh+gtsFXSNYd/hhTVCUseBtgjLQtmnqLZVTbp\n",
       "HwxiOdJOy6x8dVLZpkRvMGqCtMuP5GnRu+xV8WnMvZKDd5L96mRMXmUSAEjTTMaBqueAO6QdS+oS\n",
       "aOj5LIOleqFtm6e9EakELgL1ny2NYj6IkafGBDpH2uVL9P76jTV6TzOSSP5Fj+SKaoWJlVrFJZS6\n",
       "TzpPO0vGLingvht86i6OZI6FpgYoZ6aiELXwfjQVrcrMMtIqPxwbKonMsVaDfok0b4eh0agVB+QW\n",
       "G92nI0v+7kwx2EaD4gBll7yo143sDv3WYNogSGt7nnv1mhyGhit3DvqpWUL3CmmhEzekUJOG1GYZ\n",
       "CDmw5GrD+OqcNlKLQolFMzkfnfyWL9XAC0ibT+3ep8tz4frsEPfi6G2utsF4sT87GLnYgv2xYPoV\n",
       "KXakFZzLRy4J5a4OLLl6qHv1juHym5aTLdW/HKhJLjoHrTVOLiVZBGbt6h04Wb9nye0v+f6L8Qc6\n",
       "/R6woJj02wAAAABJRU5ErkJggg==\n",
       "\" style=\"display:inline;vertical-align:middle;\" /></a><br>(see <a class=\"ProveItLink\" href=\"../../../__pv_it/theorems/275193546b5e2d352e0066722fccf77462757c770/dependencies.ipynb\">dependencies</a>)<br>"
      ],
      "text/plain": [
       "<IPython.core.display.HTML object>"
      ]
     },
     "metadata": {},
     "output_type": "display_data"
    },
    {
     "name": "stdout",
     "output_type": "stream",
     "text": [
      "mod_abs_real_closure may now be readily provable (assuming required theorems are usable).  Simply execute \"%qed\".\n"
     ]
    }
   ],
   "source": [
    "%proving mod_abs_real_closure"
   ]
  },
  {
   "cell_type": "code",
   "execution_count": null,
   "metadata": {},
   "outputs": [],
   "source": []
  }
 ],
 "metadata": {
  "kernelspec": {
   "display_name": "Python 3",
   "language": "python",
   "name": "python3"
  }
 },
 "nbformat": 4,
 "nbformat_minor": 0
}