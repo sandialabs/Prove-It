{
 "cells": [
  {
   "cell_type": "markdown",
   "metadata": {},
   "source": [
    "Proof of <a class=\"ProveItLink\" href=\"../../../../../_theory_nbs_/theory.ipynb\">proveit</a>.<a class=\"ProveItLink\" href=\"../../../../_theory_nbs_/theory.ipynb\">numbers</a>.<a class=\"ProveItLink\" href=\"../../theory.ipynb\">modular</a>.<a class=\"ProveItLink\" href=\"../../theorems.ipynb#mod_abs_int_closure\">mod_abs_int_closure</a> theorem\n",
    "========"
   ]
  },
  {
   "cell_type": "code",
   "execution_count": 1,
   "metadata": {},
   "outputs": [],
   "source": [
    "import proveit\n",
    "theory = proveit.Theory() # the theorem's theory"
   ]
  },
  {
   "cell_type": "code",
   "execution_count": 2,
   "metadata": {},
   "outputs": [
    {
     "data": {
      "text/html": [
       "With these <a href=\"allowed_presumptions.txt\">allowed</a>/<a href=\"disallowed_presumptions.txt\">disallowed</a> theorem/theory presumptions (e.g., to avoid circular dependencies), we begin our proof of<br><strong id=\"mod_abs_int_closure\">mod_abs_int_closure:</strong> <a class=\"ProveItLink\" href=\"../../../__pv_it/theorems/ce84db529c1ea45802ab1ff0a462958887ba88e60/expr.ipynb\"><img src=\"data:image/png;base64,iVBORw0KGgoAAAANSUhEUgAAAOcAAAAXCAMAAADHuKgLAAAAOVBMVEX///8AAAAAAAAAAAAAAAAA\n",
       "AAAAAAAAAAAAAAAAAAAAAAAAAAAAAAAAAAAAAAAAAAAAAAAAAAAAAAACXHtMAAAAEnRSTlMAq1Rm\n",
       "mUTNIjK7EInv3Xbt5cmRiLwgAAAACXBIWXMAAA7EAAAOxAGVKw4bAAADa0lEQVRYw9VYiZbbIAzk\n",
       "BnGorf//YysBdsAhR7Ob7CvPTWqWhzTSjBAR4keGPz7Ok2+y9TMDFX8mO8+e318eyuUtOygFshbC\n",
       "Is/Jy1/1p2CqJN6KE0EG+nL1oVcGZo7N3acSHJ14L05jOrykGrIoRNgT6uFT6TT6zTglZywCP3Vo\n",
       "08FWK+pTOLP4bpxIWizFHYSp0QyisrdapBndo+s+pk73zTitw3g1STwN5pAkY8wci5LTx2ibJlxe\n",
       "JvT4BZzexcUsRH52S7IluM2/5PSdcnNj3ukRp80kJtji6ziX9ZNKusbjTbsa0P3jnHp3Lk0yQzL0\n",
       "DGG7ubx5nRKeiVLUsCLmWvTLF/LpbkwO8yrvqVzakLuLASUArSgUuhRHNcBquTgCxzG1p2hlO+A0\n",
       "W4WeXscZmu5owNSItN2aq6FaUXgjKDns51H/D8U+KD/2E7BYfqntbWrzt3Fm3iBu9nWcEZZz/Zhs\n",
       "btjck7xzOSaNaXcrbIgy9n7iIshJkiNv+/JWA2uGfNVdVjd5Gzc2rLdn6i32fc5yKgsihg4wtp1V\n",
       "6UdnL1mRiBmO8GOJAs0cMO1VuIGzLzfA4xf907QX71vmhhJwxMm+SyeUf5xPpxb6ILt4RWUjbMuG\n",
       "bAB1c9NneWmYQj4c0rVS2cHNiGI2MuDsy8XRUoqOM8+OJDnwlkGr0kjyCCeohT4G/OOZUhPnQcF0\n",
       "lO2NA0sH5ag3I8n3mqFqJVEZIrRxhbMvHzXTeLvNfoQy1luJKXiJYX+HEhTRX2tpW8CQLVLSNHY8\n",
       "kz6qNQl2fLcZXCaH6dICDWCZIxiZsqB3GFvTVrhk0KrAiUpLnH058/b3H6i8XdYhUcKdfshzVFiB\n",
       "VVNc5GPpCen67PqYOqIEY9931UmcJZxZnlZHqkfsT2zEHvqKyi9blrzdlw93g6odez6atbmLk6xx\n",
       "Glg/7TwAbLzo+Rz18W8Xh0tcjFaY+PTg2AXTJO5hP1akJJqBk+t6a/aKMPRW1CeYq8YI/D2crCNs\n",
       "OHWtFdLYbdDhoI8nG8N7N7FRUzExDZdVYrWFwueOvMc4Wz7dnM/t+qh6UL/uXKztk+0uPNuIzRGu\n",
       "kcBT3azvFSd0nBWap1uV1PytTvp48tJ27/eDZ39DWRhUX7kuR7kZoquzXm5cIxKi8fVbY3Fh1sen\n",
       "f7j7D8ZfNm8dTRtGMvAAAAAASUVORK5CYII=\n",
       "\" style=\"display:inline;vertical-align:middle;\" /></a><br>(see <a class=\"ProveItLink\" href=\"../../../__pv_it/theorems/aec0d098b55abea3b53956411905c9c3297631f10/dependencies.ipynb\">dependencies</a>)<br>"
      ],
      "text/plain": [
       "<IPython.core.display.HTML object>"
      ]
     },
     "metadata": {},
     "output_type": "display_data"
    }
   ],
   "source": [
    "%proving mod_abs_int_closure"
   ]
  },
  {
   "cell_type": "code",
   "execution_count": null,
   "metadata": {},
   "outputs": [],
   "source": []
  }
 ],
 "metadata": {
  "kernelspec": {
   "display_name": "Python 3",
   "language": "python",
   "name": "python3"
  }
 },
 "nbformat": 4,
 "nbformat_minor": 0
}