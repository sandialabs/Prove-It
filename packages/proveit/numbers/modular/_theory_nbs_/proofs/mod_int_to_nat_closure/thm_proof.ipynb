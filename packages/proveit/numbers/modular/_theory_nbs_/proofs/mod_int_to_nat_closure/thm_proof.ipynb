{
 "cells": [
  {
   "cell_type": "markdown",
   "metadata": {},
   "source": [
    "Proof of <a class=\"ProveItLink\" href=\"../../../../../_theory_nbs_/theory.ipynb\">proveit</a>.<a class=\"ProveItLink\" href=\"../../../../_theory_nbs_/theory.ipynb\">numbers</a>.<a class=\"ProveItLink\" href=\"../../theory.ipynb\">modular</a>.<a class=\"ProveItLink\" href=\"../../theorems.ipynb#mod_int_to_nat_closure\">mod_int_to_nat_closure</a> theorem\n",
    "========"
   ]
  },
  {
   "cell_type": "code",
   "execution_count": 1,
   "metadata": {},
   "outputs": [],
   "source": [
    "import proveit\n",
    "theory = proveit.Theory() # the theorem's theory"
   ]
  },
  {
   "cell_type": "code",
   "execution_count": 2,
   "metadata": {},
   "outputs": [
    {
     "data": {
      "text/html": [
       "With these <a href=\"allowed_presumptions.txt\">allowed</a>/<a href=\"disallowed_presumptions.txt\">disallowed</a> theorem/theory presumptions (e.g., to avoid circular dependencies), we begin our proof of<br><strong id=\"mod_int_to_nat_closure\">mod_int_to_nat_closure:</strong> <a class=\"ProveItLink\" href=\"../../../__pv_it/theorems/d2d8a7dfa280bf1a97cf73043fd54fa64f8b07d20/expr.ipynb\"><img src=\"data:image/png;base64,iVBORw0KGgoAAAANSUhEUgAAAQAAAAAXCAMAAADTCGHDAAAAOVBMVEX///8AAAAAAAAAAAAAAAAA\n",
       "AAAAAAAAAAAAAAAAAAAAAAAAAAAAAAAAAAAAAAAAAAAAAAAAAAAAAAACXHtMAAAAEnRSTlMAq1Rm\n",
       "mUTNIjK7EInv3Xbt5cmRiLwgAAAACXBIWXMAAA7EAAAOxAGVKw4bAAAD4ElEQVRYw+VYi5bbKAzl\n",
       "/Ubt8v8fu0IGDA6ZTFNv9vSUk4k8toTRlXQRYex/GfYi75zzvzO4b4BY5S1DwwuFkIv3JuBVTCXp\n",
       "ZsDHcyE/5b+Iq/xl/DIuf7jlU263XzrgBdPkcCjDQI2pzKdSIphVvpHtRU//GdUvwgs7ni2LBFMa\n",
       "Bq6ngPWfSgAlV/nGWAAovZCkegWA8C3Q+TTosEXxKQDSRf4mALqMwKc1BcBnHFOecSuBWTMAIAPZ\n",
       "4mA+xgBmlb8LQMxnMcw5pQ1cS4Jbxh2DOAAgg1Rhyil+rALiKpnlEexJ4c4kZQE8IE2DJ0+DAuhk\n",
       "FSOAmwEwHIAf6Rv5xBMbRkAAGBYBTtoAIAPliCDDW858QXXPHvQwdalTXVaZ9HP1xxWJXspaJy7X\n",
       "svUVo5Cqq3ECIBT0NBRicDkl1Y7TKwBO4X4YGgBkYHn/ugxnrrzIk48KP+e+8lQ76hauh8zKYpEh\n",
       "0WaU592K2KHU+VzB8GSagy69ue4CgqBLlEFiopVdgVUAmBRM+KZ4GNTgR73T74t3wH1NxhqJGKbS\n",
       "8jttNgBFymH6imLfw5tUtCXn2diTSYnNa9doHm+EAkfUz+UqM5RR84zHUdk4/AUAxgNGsmmRgYAn\n",
       "FJhce4dqFxgrJ+zENH6jPb2KbhX7JQDJXzwaAEADQLSHmBLuEQCCTh8Y6TT1R88ygAXOegk0A0Oh\n",
       "omdRQuwLxrcBorV2WGqp+7kEmvYxcTwylbJTfFUCR0xlYc8BGBmgdhlAD9VBIWIqpPwUAEzovvBm\n",
       "EEVjzIA57kbEIAcGasVSWuH2ADRt5ev4gX8Sp6rT5ku/42GWgRzghgn7DACW1LHfo9cH0cwcUBUO\n",
       "HsHVzevZHA18Wzu4ptgMbOI912vxDHVJNKknBwKwhdSmFzbtuSt3Ez9N9MgXWXEQeUksMwOg65Lq\n",
       "wk2kpVbXeTnXxPHSq8vOSrM8dnbjljKrAXdnWQKfi1px9IqC6mn/QQ5EGMIGgKY9199RAuWyEJcX\n",
       "GThEZzmMxHK8JO6Ex28WTak1blWM/Ah6UNQH5LHKwOPoqfPMJIF7HdZdrSS/HkPyyv20m3rZ/StH\n",
       "AbsTVi1cfVfcAdC0awn8/MdTCexJkGW3yvt+EbjUvY5+bYVfGbBUKUBLbCyq01jUVCNnjxQpUXXe\n",
       "lUDXns5XVIf6ocPoZ5aXZ5d3T1nvG2glBdTzoqvU7dRBJLZzh+Qc89Ubvt0FVKedqanERkg9toTe\n",
       "rvKuBPB3GsyFG2JN6V2rtJtBvPplZnBEuPcE/st4fmWgv3c02HnwjUNeP/pYuNF/sHcafLOaNgAI\n",
       "zf6iYf94D/4FGRAhk5+xqXwAAAAASUVORK5CYII=\n",
       "\" style=\"display:inline;vertical-align:middle;\" /></a><br>(see <a class=\"ProveItLink\" href=\"../../../__pv_it/theorems/efab86b5671e614aed14eed5783bb08fc4cb6dd80/dependencies.ipynb\">dependencies</a>)<br>"
      ],
      "text/plain": [
       "<IPython.core.display.HTML object>"
      ]
     },
     "metadata": {},
     "output_type": "display_data"
    },
    {
     "name": "stdout",
     "output_type": "stream",
     "text": [
      "mod_int_to_nat_closure may now be readily provable (assuming required theorems are usable).  Simply execute \"%qed\".\n"
     ]
    }
   ],
   "source": [
    "%proving mod_int_to_nat_closure"
   ]
  },
  {
   "cell_type": "code",
   "execution_count": null,
   "metadata": {},
   "outputs": [],
   "source": []
  }
 ],
 "metadata": {
  "kernelspec": {
   "display_name": "Python 3",
   "language": "python",
   "name": "python3"
  }
 },
 "nbformat": 4,
 "nbformat_minor": 0
}