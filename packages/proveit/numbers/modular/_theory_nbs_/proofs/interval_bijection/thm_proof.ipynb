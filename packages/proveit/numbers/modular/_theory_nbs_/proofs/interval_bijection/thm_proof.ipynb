{
 "cells": [
  {
   "cell_type": "markdown",
   "metadata": {},
   "source": [
    "Proof of <a class=\"ProveItLink\" href=\"../../../../../_theory_nbs_/theory.ipynb\">proveit</a>.<a class=\"ProveItLink\" href=\"../../../../_theory_nbs_/theory.ipynb\">numbers</a>.<a class=\"ProveItLink\" href=\"../../theory.ipynb\">modular</a>.<a class=\"ProveItLink\" href=\"../../theorems.ipynb#interval_bijection\">interval_bijection</a> theorem\n",
    "========"
   ]
  },
  {
   "cell_type": "code",
   "execution_count": 1,
   "metadata": {},
   "outputs": [],
   "source": [
    "import proveit\n",
    "theory = proveit.Theory() # the theorem's theory"
   ]
  },
  {
   "cell_type": "code",
   "execution_count": 2,
   "metadata": {},
   "outputs": [
    {
     "data": {
      "text/html": [
       "With these <a href=\"allowed_presumptions.txt\">allowed</a>/<a href=\"disallowed_presumptions.txt\">disallowed</a> theorem/theory presumptions (e.g., to avoid circular dependencies), we begin our proof of<br><strong id=\"interval_bijection\">interval_bijection:</strong> <a class=\"ProveItLink\" href=\"../../../__pv_it/theorems/afe1bf425b3801d375b4c42ba02538f51d3d14a30/expr.ipynb\"><img src=\"data:image/png;base64,iVBORw0KGgoAAAANSUhEUgAAAogAAAAmCAMAAABwHpo/AAAARVBMVEX///8AAAAAAAAAAAAAAAAA\n",
       "AAAAAAAAAAAAAAAAAAAAAAAAAAAAAAAAAAAAAAAAAAAAAAAAAAAAAAAAAAAAAAAAAAAAAAAeYafp\n",
       "AAAAFnRSTlMAq1RmmUTNIjK7EInv3Xbz6eH5++XX8bMAKAAAAAlwSFlzAAAOxAAADsQBlSsOGwAA\n",
       "CPdJREFUeNrtnIl64ygMgM19mr39/o+63IeNE2I72Xi2fDNtSgOo4kdIwmSaritwsQVN7ykYTrct\n",
       "b1XMfQp2apD+paSyV32VvsEb/whw4xmAYPopoehIHJ9lr/rr9Y3o9APirwTihMAdQeTXCvoLgSib\n",
       "JYqfvuNrQJwEvCGIVE0/IHZXqDFz9eP89B3fA6Ks4bsJiHCRPyDu9V1hZvSzd3wRiI3bfxMQ53sb\n",
       "xE+BSMCilJ1Rg4yS3w8iW9jNQOQ3N4gfs4jcW0RB7L43fz+Ik1A3AxGItPXMM3+9OXuTTtmwULVi\n",
       "JCEHh4NsCES++Ek2AyAeluW44DVxSN8MxJwLVkf0Zt6VCSdmVKxKMYaSozrnQMgdEMWyLCqCGKYX\n",
       "4Fj3AMQTshwWvCaOLbCqLjqC6AoQL+wv78zsBIjwqH9pZt0OZ+zUettH6KKF98VeBvH1sEsKnUES\n",
       "4KlFlChYRPrcImZZlDJ4dNvYKOHRxOWkdRG8MX0zrqpx1iJlV4B4YX/Jgi/TcRDl8SQaW9bDiSUq\n",
       "NGo4nlO9AKI64K9R/Kh1jZlcJs4nau0MqyZ8D8TUm3u/nIcna62EPcUDTPOqK4I3IGJaVfOkJCYu\n",
       "2Zov7C+5iPQEiPiEWV6DSKCIxjlaWYQ/AWLZwLatmaKLKsZPYSeZMpWFW71jCyLy39TobG2U8MB6\n",
       "PgPRLHV1On5W8BIQL+wvCQleAdG0S1tP14GoJAleF4GNWluxjJhtoZeBSMpurs7Ev4b1QQzb5rDP\n",
       "sFXCcRDhwqtqFG3G+YOgoO/r+ks8qCcgNiqEzTEXpBeCaHuedZiMtGuitViEGnmtRayanAIR4n7H\n",
       "Cw6O+KDd2CrhOIhlUF+t3QqetboIxOv6WwfNccalMUByVSxuOz3NTzhKsWnDqcbMGGFs8GtE6Bfb\n",
       "LY1k/93wDojIC1OcNrACkVE5tjUzoAwzQy4isLLD8yBuzv9CbzKBiIZBXCnhOIgyD+qrsbePQl4F\n",
       "4mX9bYL8MONWAwaYCc99DcPa26Eoq69tY1u52bX6JzHjwb2/7vNvUrsh1QpEvxctc+0dhecJKhD7\n",
       "AVoBMbnnRDPn9g/oSC6WbRncMqNPTc/KDQyysLDh8GVoVfSUMABiEbxNGOZBfTUD6cvwbvEQxNf7\n",
       "e5K9aUFEzK1JOQG0s9RNtQbm0HbbxmLglbMIPwRP54j+paC9qNnvRdhWljQw1GsQHwcrTAcBpP+O\n",
       "RwxccN60Wa3JQ15iYxyiLBnEsR2so4QBEFm7B2+9rlDt5EvKJMKbS0JpvULYjJW3HCDZl0f6rvtr\n",
       "kKKPQjOghcL239ZZJw2IvIn7Xfnt97kpS2kRU4HbNlZKkVXh6Eu82woZFqpcgYiDSkXlHYWcXflb\n",
       "uU4yiO4KpfGd2LcbOkIPYscZk4DCkphy4/zx51+u/O1f/5NV8Mefrua3v8ovV4rJssgYegxaxI4S\n",
       "oiSx8B6IRfAViLgBEZpqKRugqxiLGyCcB2VV6UbGcgTEpr+GtZ7m0xBuZ1Ry6+qvLeKUDcSORSS0\n",
       "AFTlpLXpgmgiiDBOktUx74OoYhqNlT+frCyiFA8Vw3G0SVp0+t/x7JTHJDqJ9MyZXK2YIkuAAQ4a\n",
       "244SBixiEfwhiJYalGcJBw8yDIhxBBzaN+C8Jz8BsemvyaV0DmXzEHZUDhmaBkAkzmWSsg8ir+OF\n",
       "GRbD2rTZgJgtIt6xiDFdQRasVrniyvrPT/KIIVcSBiiJ+qdZRBym9NzjcHwVSMXjjqAHNNZ1TwkD\n",
       "IBbBH/mILuVXZFTBdfHjmIwF5JDYIE+5nCnGs/1PHui79CcVMoplpFzsmgcyjlaDGruPe8FKEzVL\n",
       "az290VY7s9/EC+Hsv9NmA+KkcXYEggux8hHTXjRX1UisQDRmJKEtPV2ATvD5eYYTTUbXUp0KVtaB\n",
       "VEpo66njuDxyEVdKGIma94IV1FazkjPm0KuJw3ajgdzKAMmgRcz9uZOjclRsZjmZ1HYm/mi03ssQ\n",
       "g7wXNpoaRLhwiXWTTyX76TIVs7WbNom2CCJx/p0b3D8LzvyODpqMRn6wqjZkwS7U/jCFI+kbtz7g\n",
       "XK87GxyvXiR3xgoh8BvziH7XkNVmVSRYy9JXwj615SGBfvpmG8OALIbz0axJ9K4aQTWIVmtGjIGY\n",
       "+8M4PSTn1Y/KLShsu5K8HmKSph+Oa9xYRGytDsRoz6VRDct8ThnCVRsOFg04FPardWAW54kxrBSI\n",
       "Hjz2ecQZFGdbL4mxau3MZA2iBGL7SMsGRAmM4gyYStb8AMDcalcClY8pT4Go+A6I7o8F9S+LBK0s\n",
       "O0rYCz7du2OaYjehTbqGMjFm9yQVsmTCFxhAlCqFIE9BrGMFA2oXMT0fHqOIaghLoTP8ciNSibUP\n",
       "nDUfeYBxPMU5d8QiSlx6xNdB55qiPvfA7O4Rn9wF0RMIwmUlrhqLaHc2M5JHrHdVl7ZFiS1nznVc\n",
       "UdFqV0MQyNHUOznC+gSICL9Rv9FUvfmhh18XxJ3q6CJWe3dJgCISUjuD+s79OxeRIOmsqX9uyHn3\n",
       "/rUP51U9hPKGlmy1UwK6I88jCvY29abni14A8dzZCL70Yug5WQ4K3hC385iiDyeE38pibMsET65W\n",
       "CLleBZFYv8wol5hxlpBjH1T61wwj5BzRPAQCwDpOgoJOtAJPgCjF29SbGH8BxFNnIyl4Hs07P1tH\n",
       "y6c+xaUSvCFuQbsWcd2Dcg7c6PQ/vCoAd14PDJGCRmvKD7h8Y48WHLEoLC5e/cJVAYbBweln6oWW\n",
       "Q7vucVmOC14TR8o1vs/dWalDyVdvSqDP7SHvKR//yBHztRqriVN0+jyIaOf1kGVfyA+Ij8HzN5ml\n",
       "mDl0fvzOBedvA1HD/wDEc0EX/QHxoe8SbzJ7r89l+voXnL8MxNps3+WzbzT/AXG/5JvMzOUX3KlN\n",
       "/4Lzl4FYGcTbgHjvT6V7N4jpJrMF0X03qwvOXwqiodP9QMxPWv+AuGsRqWlA7Fxw/ioQmWZ3BPGF\n",
       "e7f/Qx8x3WT2ILq9uH/B+ZtAlDOc3gfiGz8qun8r6S4gvvsztMNNZgkWbDdkd2jVueD835f6w7IF\n",
       "6lbfoLB7xys/pd3hNgm5fwHHdlvpHi2yNAAAAABJRU5ErkJggg==\n",
       "\" style=\"display:inline;vertical-align:middle;\" /></a><br>(see <a class=\"ProveItLink\" href=\"../../../__pv_it/theorems/9c228297e481f0b82f69bd35fcaef2f98ddab3450/dependencies.ipynb\">dependencies</a>)<br>"
      ],
      "text/plain": [
       "<IPython.core.display.HTML object>"
      ]
     },
     "metadata": {},
     "output_type": "display_data"
    }
   ],
   "source": [
    "%proving interval_bijection"
   ]
  },
  {
   "cell_type": "code",
   "execution_count": null,
   "metadata": {},
   "outputs": [],
   "source": []
  }
 ],
 "metadata": {
  "kernelspec": {
   "display_name": "Python 3",
   "language": "python",
   "name": "python3"
  }
 },
 "nbformat": 4,
 "nbformat_minor": 0
}