{
 "cells": [
  {
   "cell_type": "markdown",
   "metadata": {},
   "source": [
    "Proof of <a class=\"ProveItLink\" href=\"../../../../../_theory_nbs_/theory.ipynb\">proveit</a>.<a class=\"ProveItLink\" href=\"../../../../_theory_nbs_/theory.ipynb\">numbers</a>.<a class=\"ProveItLink\" href=\"../../theory.ipynb\">modular</a>.<a class=\"ProveItLink\" href=\"../../theorems.ipynb#real_mod_elimination\">real_mod_elimination</a> theorem\n",
    "========"
   ]
  },
  {
   "cell_type": "code",
   "execution_count": 1,
   "metadata": {},
   "outputs": [],
   "source": [
    "import proveit\n",
    "theory = proveit.Theory() # the theorem's theory"
   ]
  },
  {
   "cell_type": "code",
   "execution_count": 2,
   "metadata": {},
   "outputs": [
    {
     "data": {
      "text/html": [
       "With these <a href=\"allowed_presumptions.txt\">allowed</a>/<a href=\"disallowed_presumptions.txt\">disallowed</a> theorem/theory presumptions (e.g., to avoid circular dependencies), we begin our proof of<br><strong id=\"real_mod_elimination\">real_mod_elimination:</strong> <a class=\"ProveItLink\" href=\"../../../__pv_it/theorems/1a514ed540dece6d6de0ebbb578a47f91a8e34070/expr.ipynb\"><img src=\"data:image/png;base64,iVBORw0KGgoAAAANSUhEUgAAATgAAAAZBAMAAABX1i9+AAAAMFBMVEX///8AAAAAAAAAAAAAAAAA\n",
       "AAAAAAAAAAAAAAAAAAAAAAAAAAAAAAAAAAAAAAAAAAAv3aB7AAAAD3RSTlMAq1RmmUTNIjK7EInv\n",
       "3XZ/CtNrAAAACXBIWXMAAA7EAAAOxAGVKw4bAAAEEUlEQVRIx8WXXWgUVxTH/9nPyUwyu0UQldZs\n",
       "qQhFpEu1LfigW4xpaRqZKghS0AUfxJTW6bu260uhfpD0odptS5iHPDS1tGseLDSgC1VQRFFf28UN\n",
       "fhSlbEPFj8av3nvOnUl2NrMziB8Hzp2dw585v7n3nrN3gAj2Us3GMzezdjGSrojnYiuePJytPLI4\n",
       "MP7k4cwcezTb0i6+All5eSUMLoqKbZnyQPg/Lb723J4nxnyAKk9w6+Tv7WFwUVRkepE92D5nOGTO\n",
       "y3EwQDVIcHvEmB4Og4uiIkvk2YMto+CGKnJcGaBaSXApBzByYXBRVGRdysPh/qFrlxPwHEfCxcVr\n",
       "pkILIoqKbKnycLidNKYCZlnGRbWerdXOhFdrBBVZv/KfJ3+YkDP9xYnPrte3XLegr78iqSYaQwru\n",
       "No1G1r9pG4v2jXNcwL0LfDtHFqMZzq863dSh6t6vbcoL5uIE7fgLOe2mFa/igI0R4KccjjNc8h5d\n",
       "4lQ8AzVpF2jTYrI+wHEB9ynS2bl2djOcX5WFcYx2dLJn8WzxRfa4HZ/uoBX7HvgP2l38IUqghINe\n",
       "tRq36BKr+vK+hTXOPI4LuE7HsFQOsuVH3/6kFY5VZNpk2RJwq7GZbv+WhBVXepJdQ0L1kzJwT8Bp\n",
       "/4rdVtEfAr/wc1JTYnCgTfngSuijJFMEF6un3ByU1zTwa6UFTqmk9ZZo5k4hQ0v7VVO7UnCi3Ooe\n",
       "3EMBFxMTlRnWZuAyRTm/SFZb1uwcLQjPHIqrvRwyr2liVd3oHehd1/T3RarGO1dsburZ9DS6qLfc\n",
       "lMO4b1mBrbbuzIKjmSvMmrmtAr5DvPR5355D8g5+5LiEGx90c1BeAXej0DJzpDLthancGO85bRrd\n",
       "Uq7dkbdLXOkI+5j1oiopBYcTgsfCDm/PHRfzcFlMnq+z6193VFHhuITblXVzUF7TSI/kW+GkKo4R\n",
       "DRs9OFo5k9Zlsys9wv7a3vexgQI7CO4W9pfwkXiKhR7ubJdETUyLNJVmuNjd0Woyx3EJ11Fyc1Be\n",
       "M/HdcGtBsAriFd4sl8s5WtaMXNbOLHQLX7rSA+yjjdhaWvQ99xe8ej979EEl3X9ETJne3xiSq6fP\n",
       "f/TC/Efifbst38ytry95HRz3jkyUg/KaprGhtc+pQq2msU+1ElUQmTwMZ2ZZu0vsUW13m7gHRzko\n",
       "r2kmP3TmPs/tMooJ0VQYroEPcFg0Lxsvi0pxpfECe1Rb2ybuwVEOyitayW+FueESV4/dQPobtwm/\n",
       "h/05c+dEn+gShzztIcy+C7Ogkw7FXTjOQXk3XauM9rU7CR8uUxMmUwcVfSbHmFtYkazTbhP3HdMp\n",
       "b6RjOsMl1fonZnKk6+zR7K928cf+hmC4uLp74zl+fX3c+t1aboo4T+W79ff/AcclJaBbxwOIAAAA\n",
       "AElFTkSuQmCC\n",
       "\" style=\"display:inline;vertical-align:middle;\" /></a><br>(see <a class=\"ProveItLink\" href=\"../../../__pv_it/theorems/8f248adb76e47883c588815b43a2d42bbf773a330/dependencies.ipynb\">dependencies</a>)<br>"
      ],
      "text/plain": [
       "<IPython.core.display.HTML object>"
      ]
     },
     "metadata": {},
     "output_type": "display_data"
    }
   ],
   "source": [
    "%proving real_mod_elimination"
   ]
  },
  {
   "cell_type": "code",
   "execution_count": null,
   "metadata": {},
   "outputs": [],
   "source": []
  }
 ],
 "metadata": {
  "kernelspec": {
   "display_name": "Python 3",
   "language": "python",
   "name": "python3"
  }
 },
 "nbformat": 4,
 "nbformat_minor": 0
}