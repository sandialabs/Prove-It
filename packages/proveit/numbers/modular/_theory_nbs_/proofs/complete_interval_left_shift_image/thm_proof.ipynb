{
 "cells": [
  {
   "cell_type": "markdown",
   "metadata": {},
   "source": [
    "Proof of <a class=\"ProveItLink\" href=\"../../../../../_theory_nbs_/theory.ipynb\">proveit</a>.<a class=\"ProveItLink\" href=\"../../../../_theory_nbs_/theory.ipynb\">numbers</a>.<a class=\"ProveItLink\" href=\"../../theory.ipynb\">modular</a>.<a class=\"ProveItLink\" href=\"../../theorems.ipynb#complete_interval_left_shift_image\">complete_interval_left_shift_image</a> theorem\n",
    "========"
   ]
  },
  {
   "cell_type": "code",
   "execution_count": 1,
   "metadata": {},
   "outputs": [],
   "source": [
    "import proveit\n",
    "theory = proveit.Theory() # the theorem's theory"
   ]
  },
  {
   "cell_type": "code",
   "execution_count": 2,
   "metadata": {},
   "outputs": [
    {
     "data": {
      "text/html": [
       "With these <a href=\"allowed_presumptions.txt\">allowed</a>/<a href=\"disallowed_presumptions.txt\">disallowed</a> theorem/theory presumptions (e.g., to avoid circular dependencies), we begin our proof of<br><strong id=\"complete_interval_left_shift_image\">complete_interval_left_shift_image:</strong> <a class=\"ProveItLink\" href=\"../../../__pv_it/theorems/04eb766e3016635ee01002d5ea5df0dde41c23c90/expr.ipynb\"><img src=\"data:image/png;base64,iVBORw0KGgoAAAANSUhEUgAAAq4AAAAmBAMAAAD3rQSpAAAAMFBMVEX///8AAAAAAAAAAAAAAAAA\n",
       "AAAAAAAAAAAAAAAAAAAAAAAAAAAAAAAAAAAAAAAAAAAv3aB7AAAAD3RSTlMAq1RmmUTNIjK7EInv\n",
       "3XZ/CtNrAAAACXBIWXMAAA7EAAAOxAGVKw4bAAAIYklEQVRo3t2be4wTRRjAv2u37Xa316sYDaiR\n",
       "GhUxJtCAQMQTS0QeErDBxx8aBTFE8YE9czESESoaEiPaCp7mIJHFQKI8cpWXAaIWjAE16mmIROSS\n",
       "XiQYT20IcPJKwG8eO7t7u3t93PXsMUln97oz883+5pvvMXcHUErxXLoUg+oXKQqDuyjP0Mv9l86X\n",
       "1t4TGZBpTYbBXt7W2PXbWuLqnTfouXojNch1pTboucKqGuT67ODHClu0muPqOX8ZcJUiNce1PnsZ\n",
       "cA2cqTmu6cvAvAKsrTmuw9hlYwKrpFujZMnDvZisfCrKQ+X34fIaa47rKVqHF6Dahl0ThMdLHk4e\n",
       "Vrn+H3+k/D5c3rIo40qJ3Vicax29VjHrkpllGk1md5trq7DbDMJHE+zmz0sp8L3wjQbBipWBetC9\n",
       "x5wUXoxunfsRrJi8+jjjei+5PFWcq0Sm7U9Wj6v3BL18TrZhLwnCM24PlnGusA7frx5fXG2vdCqk\n",
       "pz+qHHZ6po9uLuunngddnjSPcX2NOLFMca4yWY3FVTQDdfMEV8mslD6rht7u1r+Bc/XdioqvQl+5\n",
       "3gWw2+GRGN26WQyu4ROMq5+sbLQ4V6oo26rINRQRXEMW2XlrM60IV3XjBYA5feb6LjdJPR/po7tx\n",
       "9ZxlXL2oDv5S/NZYvFYzgW/ICq4jeuHqjxXhKsFRgD195noaAz8HdROju3GVT/J44PuOju9K4Rrq\n",
       "6Dhazci9ISa4ziQ3X/yesnBVCte8hftFZWotPzet8KGv0AKwoUBcxN5CWnC9OwbxvnJVCNeYE1c+\n",
       "uhtX5RTnOh1gTSlcpRQEqxm5swAFpuLnSfy8GpUyFq4SdOZnGYde9UMgPQ6jRfkwBPOwJQpfcq5z\n",
       "oKEdiAKEc+WIn9VByk/AfU8At3s6b28mRrdz5fIucq5NEHAOSLJWrtiqqejs4owAwJ3O2/Wt+/RG\n",
       "9nSLcg18hdXP+PkNQnkL1wlwt3Yl/shpBXPQkIF0CrNf+Sy8b8QDe0Dq9pH7wMlKl3hJjHF12J5i\n",
       "dDtXLu8C5xrUVGznWxeDhxexFPfQTmiMWF6f5gVrYKf4YoU1grhu7Ywd9IZ+HcRt6qAr8kKsPqWN\n",
       "3mQzMwkFmEtZXE3qr3Ft2CGMhMYHDRURn6KqDPIJzjVDLHI6RZbjgoJK0pbQlzZwTqUba/38yrA2\n",
       "LcDtjHjm5p0URx9deZ5qeEpw5fJOc66ePHVbnTkIY3T6zrAWuEHVJM3OdZTJbdUZS0l6HIY9XRau\n",
       "HicPdy13SRlQdrNNz4Wa9PWNNYxrKGP3Wz/QtcgZXPPIdTTiPCebuOLM1jXTu12JCjOUGRrFMzrq\n",
       "uIn56DZ95fJ0rjBvErm77xQJy6TpJPvKx1Wwc/V7jfULpYQhJz1i8i2x4lwPCq6Yt8QMoWauJL4h\n",
       "dqAtb+PqOwOb8Md2K1fS7bRJX33489yZDueO3u3OEHdoNvtKMqdWQLtjD1/F6HauXJ5uX2EbTWGy\n",
       "s8gr/k5uR968VIUdUw5NSVi4qiNQjrL9L6Jg6cI11GdPYj1AksDGlTc13uBipya4wh15IZT7LSMe\n",
       "+JBFBwkzV6WlLke0xZuxcg3FwdcNC4V9JZu0vpveWW3RSgeoxJypEcc4q5G50J5PxOgO8UDOOOYg\n",
       "XJeQgeVoW3Q5KHTSI9WPHnXQ18A+rLYm0wTWP9ox4pMTK1kPmDDSypV4bd7UEH4kHIfH9EbQmORC\n",
       "eeEa+jkzwhgMqJY4y3N2Q45oi8QtkJ9xTcgHwZ+FJQkYztZlq0iJjTiLmCprUGwyZw5bi/SsjyoH\n",
       "2byIivzLnxijWzucEfICevwKdWT+YU1q7+I540iI/+nAFYbiZwpb99UwHusZ8DHroeSzVq4rUqKp\n",
       "KMEY0vZ38UabW3ShummJC65vk4B0bJfFDiiz8zeNoWvJlH/4vuXr9qkv/AbNe6/CpzMLabqH1/84\n",
       "X5+G4EpNlSNXYs5cuCozO9m60oOUQ/wgwBjdsjzX/XulyAu6LeeEEgS6s+Bd2Nq6Crlu9jtxBepS\n",
       "OpmpnMz8C+uhqpqimbjKV2iiqeklpAh4FrFGzUOFUBAKqHOtT7nnW6+WlTWFjy2dxk0V4bp50mfW\n",
       "2A7NmQvXyrI03coKrmjmrsZIMMv01TfKHr8yrTkDq9F5wAnYjzVqP+sx53VQzVwhHBFNjYQKQlFY\n",
       "who1DTWE6iubE1y9cfdzl3vKes8/6jLzuanCDaYc5oeReiHmzNfer1xZLbguZwkPzbzGQQ9NM+nr\n",
       "Abl7opKFI94M1guQDO2RZYbT6rdIU7rjQaHw6rU79Hhg/TSzUO6vmTv9m1QfuE6+6NGbKeXEOcSC\n",
       "+RRbGPlp/CbeI66m5myRze2Xl6mZ5emnsDrX8K8pqMPxF+MOlH9JslNsJ64PjvkrJu+HNwqAdTPa\n",
       "QNLDe8X1u5+wcSVNqSNOygfom83O61w3WYTyrXDSSGc/cZ18sPQT4C1EekOSm6rXMIAJJcKRHpEf\n",
       "mrMRtvC/skyNyuPHHD1/D6Psbm0p/nsYj6m29ug1fgVT/OpQ3mPvNBnBBvJuk/+j5Nd8ZQiLrpLM\n",
       "VJEt2JYMTrQoJzFnAQflbB5SPlYmD+Ymnbj2cu5iKo+YamvRufray+fa2P9nOYHcLnS/a3TJoWT6\n",
       "AcIV7dJm+h2aM3cVqKzsgsq5xky1M1dY5JIisjjlzVYsPXd0W6L/wc5+tKBRU0W5+u4ZRZMutEsr\n",
       "qXQ0Z/3NdX8fuLoXOtsAzTMcn78sGjn402qdmjNTNcLt3fpVLHd5NfX3WQerOvpjA8I1FK09ruOr\n",
       "OrrfxReuiPanlONQe1z91f2b8OXOri3Vr47yQA1ydf6F/aAqW6PlcR2Y/y94SRvsXFfTuuT/Lxig\n",
       "0r978n8oiggV/wORwYw+dWofsgAAAABJRU5ErkJggg==\n",
       "\" style=\"display:inline;vertical-align:middle;\" /></a><br>(see <a class=\"ProveItLink\" href=\"../../../__pv_it/theorems/ec0e52bb3ff9f3c99b148ed585b9bb1e3c14f8940/dependencies.ipynb\">dependencies</a>)<br>"
      ],
      "text/plain": [
       "<IPython.core.display.HTML object>"
      ]
     },
     "metadata": {},
     "output_type": "display_data"
    }
   ],
   "source": [
    "%proving complete_interval_left_shift_image"
   ]
  },
  {
   "cell_type": "code",
   "execution_count": null,
   "metadata": {},
   "outputs": [],
   "source": []
  }
 ],
 "metadata": {
  "kernelspec": {
   "display_name": "Python 3",
   "language": "python",
   "name": "python3"
  }
 },
 "nbformat": 4,
 "nbformat_minor": 0
}