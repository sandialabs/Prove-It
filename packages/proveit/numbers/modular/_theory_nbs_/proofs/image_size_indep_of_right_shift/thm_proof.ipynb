{
 "cells": [
  {
   "cell_type": "markdown",
   "metadata": {},
   "source": [
    "Proof of <a class=\"ProveItLink\" href=\"../../../../../_theory_nbs_/theory.ipynb\">proveit</a>.<a class=\"ProveItLink\" href=\"../../../../_theory_nbs_/theory.ipynb\">numbers</a>.<a class=\"ProveItLink\" href=\"../../theory.ipynb\">modular</a>.<a class=\"ProveItLink\" href=\"../../theorems.ipynb#image_size_indep_of_right_shift\">image_size_indep_of_right_shift</a> theorem\n",
    "========"
   ]
  },
  {
   "cell_type": "code",
   "execution_count": 1,
   "metadata": {},
   "outputs": [],
   "source": [
    "import proveit\n",
    "theory = proveit.Theory() # the theorem's theory"
   ]
  },
  {
   "cell_type": "code",
   "execution_count": 2,
   "metadata": {},
   "outputs": [
    {
     "data": {
      "text/html": [
       "With these <a href=\"allowed_presumptions.txt\">allowed</a>/<a href=\"disallowed_presumptions.txt\">disallowed</a> theorem/theory presumptions (e.g., to avoid circular dependencies), we begin our proof of<br><strong id=\"image_size_indep_of_right_shift\">image_size_indep_of_right_shift:</strong> <a class=\"ProveItLink\" href=\"../../../__pv_it/theorems/beeaab6513b6ed316942240f3a1a02cf0935c0b90/expr.ipynb\"><img src=\"data:image/png;base64,iVBORw0KGgoAAAANSUhEUgAAAnYAAAAZBAMAAABOR35sAAAAMFBMVEX///8AAAAAAAAAAAAAAAAA\n",
       "AAAAAAAAAAAAAAAAAAAAAAAAAAAAAAAAAAAAAAAAAAAv3aB7AAAAD3RSTlMAq1RmmUTNIjK7EInv\n",
       "3XZ/CtNrAAAACXBIWXMAAA7EAAAOxAGVKw4bAAAHkElEQVRYw9WZa2wUVRTHz3YfM91ppwvGCkbp\n",
       "qgRjfLBKwEdMLRGBWoENBj+IsQVtDKJ0MXxpILAY4gcBd9VU3WrqYqqhSmDBUIRqKQKJj0gK0ZAI\n",
       "G6cBsRBYQSyP8qjnPmZnZts7O4vFxJt2Znfm7H385tz/PecOgG25NR2BQko++4nwfy9V+H8qHQQ1\n",
       "fSCPZV2BNeexL6oCxtY/hxxFnCWHrb0mqCAydH2fhp0OQ7pT2LFGcnaH8DDhv2X3GcBW+uHYs3hQ\n",
       "gwIzr+asNXl0csjrW3O+KxSaWp90PI6VzUNexorcmsEuQK7dIWbhov4ScszO1v5dPq6ifnK8W1jN\n",
       "EdEN9TDzHbXi3A14Kg4UwG68LbpTe9m5Z2Ae6fzbInbwq8HuCXLtJTELD2nXF3HMzs5e6uLjUrrJ\n",
       "vBU7qU84zBV83pV1Z+txyu4b+2naxz9cAbExqajHYLeS/C4uZiGTR9vofM7a2XtSZnYei3N6zd/c\n",
       "VaIGyji7WGqY2QFnJ1/Kw25TMsuOPGIlaKNfL+NpSwF6Z2NPBm6wK7EuIxaN+yEfuz/D14md2peH\n",
       "nS+UZUdOPjsWEwpZMuztY0kzu3E27F7Ix64BrhM73+k87DxxY539KZ3+0Y5FSTp9OFUAOxv7U2Bm\n",
       "V4P/G3vWdwSt7JTMQwCb2ec39iw/rj1/PAz+mUfJ+DsyMc7u3LWx82duXk0mhfzKtEyLN9ME0Joh\n",
       "iq909nJ2ZXV52KldBrvpAM12LDxRKE4WwM7Gvlwfl6eO+1aVOsbTbWEnHYBqgEn8F/uD8tmwuwvW\n",
       "RqAFYEMQdjJ2XqZKZBwidjPSpOw32E0lDUOPNoN8KR0JsYnwKMgHoVgD/7egcHa17LmfFLLz9hvs\n",
       "FoMUsGOBdxfnxNVQgL25JPRxLSNtY1zujrj7XSELu9IU7AO4h//iI4CLIF+AQzjho/Bedp3lI5X+\n",
       "cu530m48PAiPJUlwA8VdUBbHOrE5rL64LrvO8oezIihih+ZZdsVJSrNiDL9/b/vkRZZYt5n2xdt5\n",
       "pJdc4Uvy3ExlFJREIhER2OsydujF8qySzePjWlxPvmFAJTMPBA/Oc9QO8gxnUZ+NGbQvYW9lZFSW\n",
       "8l/FVS5sqBJarpvvlJ1UTn4Zpd5H2MWxQmQXC5IWNqHr9RlC6se/8qCAHYGssyvSfFknlXsSYVWB\n",
       "bSkzi/v4UT5tsEMviYG/ic6boe1JeWt0E2gpZal+92c+Lrk6ydihOmo5a8X39Picwe4qsivC/pbF\n",
       "ZYMdUSU3BpHtYcd+t4op0z6DHY4hOj5MPDtmsDtHvROUepHf+U3soK4S9EB6ShRZqPCIZmbho2kI\n",
       "KkvAYIfxhQuKaQQssCfehFIKmubemOt3LB+guXRtxJ80syO+RZzfyo76XZXJ72o10gGenzjUOzpC\n",
       "73n43MyO+N3fJr/zkvYDoiSE+p1pzsIWEpHBWYIhxFicqDKzUMYl2f2Iwa4shHkx8yeBfWcly6w0\n",
       "TW0dxI6ujyj+beFbQLH6HbbjBXjYyg72IK4wLMjq3c4oTdyUnLWCKonNOutvcnVBysyupAq8feCL\n",
       "63qnXGAYvs7JsJliUb07b2K3jDgBuQJtbA5KLSEzC2kXDUYvsouMnTqAqentILYvDa/xU1Mt1ZjN\n",
       "Tkdb2GEcMv7Np2C2lR0usl+x+IWUBZRdH6yJwkLsaRgqWFO/YR395hiFqA1TEjt2RRdau7xUyHyM\n",
       "XVj+DnwpkPaC6yxbqlCYdibNMQoRHl2xctdZcEX11f5pysLzYdy6LzKKTqaxZ0zs4JNZAWYusK+G\n",
       "9SzL0qq3Z++etLBbS4KroseDVnbKl5XY9V/4dsblUXddDrRfSUk1m4nU1GRiZBL6ywdGlA8EzOyI\n",
       "2jAlsfW7mdrYByjqil2vf7xLaTgESzpuxO+tnb1XiAutazgzouGMOb6jwqMrFqnI3ZW7B4UK5A9P\n",
       "wnUzqKrK7MF7Srj01JrYJcF7GtbxOTuUPS4E7gWJxDs4Z7dmV6xaS15RGhXmFVK3s3CS1pOZdjRC\n",
       "1YYpybXmFdZCjNWjy6fxLR2uWDSvCOSyw2aV5GrGwjs3OYjFbD3Bp+zQ76U4T4OHtkcJkFNM7+bs\n",
       "0C+WWPJZa8Jv2QvwhJyzUyOjfcE2Q0mGj90frvh8Jjy6YuXks3qqGYHbWD6AMceOqkEsJgPcZLBD\n",
       "9i58DjVRoX09rgHNTO+U1kH7KCwfeF/Yc6f7NiQ6dEOLzOWDKomQ3clC2JEwMFSsRfkj5YqVs4/C\n",
       "dw8aOqb2gfQBfnzmWKp16iAW06d0REzsVtVsI76yHWPjoe2XTDgBjYjWu2ihf4p+Vdb371g+0Cbs\n",
       "+fsOR7ghxH2cqg1TEiG7FUHn6Py76WSMcOHRFYtUdL9gz/2LRCKcZw897nzP3b890WS9PRKgl6Ed\n",
       "SQiKttZVh1utS0eyJyLBakNJQG/DVB9VVmmyY3jSZmq6BiJMeHTFIhUdvPb3FfEC7XPfVwx7WabU\n",
       "eZjacCUZriJ1tWP23mxRLLC8r/gX7FwJks8Wwq4oNfzsPL93nmBqw5Vk2MrMuZkkFR5DsQp5T/bq\n",
       "oPetkQLtreW6vZ8dpDbDVXKF50myD3k4BGp69z/vkI77imaLPAAAAABJRU5ErkJggg==\n",
       "\" style=\"display:inline;vertical-align:middle;\" /></a><br>(see <a class=\"ProveItLink\" href=\"../../../__pv_it/theorems/b49c57ec1dd6cd0bb9bf40b77d71ee13427ecf9e0/dependencies.ipynb\">dependencies</a>)<br>"
      ],
      "text/plain": [
       "<IPython.core.display.HTML object>"
      ]
     },
     "metadata": {},
     "output_type": "display_data"
    }
   ],
   "source": [
    "%proving image_size_indep_of_right_shift"
   ]
  },
  {
   "cell_type": "code",
   "execution_count": null,
   "metadata": {},
   "outputs": [],
   "source": []
  }
 ],
 "metadata": {
  "kernelspec": {
   "display_name": "Python 3",
   "language": "python",
   "name": "python3"
  }
 },
 "nbformat": 4,
 "nbformat_minor": 0
}