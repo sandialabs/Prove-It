{
 "cells": [
  {
   "cell_type": "markdown",
   "metadata": {},
   "source": [
    "Proof of <a class=\"ProveItLink\" href=\"../../../../../_theory_nbs_/theory.ipynb\">proveit</a>.<a class=\"ProveItLink\" href=\"../../../../_theory_nbs_/theory.ipynb\">numbers</a>.<a class=\"ProveItLink\" href=\"../../theory.ipynb\">modular</a>.<a class=\"ProveItLink\" href=\"../../theorems.ipynb#mod_abs_scaled\">mod_abs_scaled</a> theorem\n",
    "========"
   ]
  },
  {
   "cell_type": "code",
   "execution_count": 1,
   "metadata": {},
   "outputs": [],
   "source": [
    "import proveit\n",
    "theory = proveit.Theory() # the theorem's theory"
   ]
  },
  {
   "cell_type": "code",
   "execution_count": 2,
   "metadata": {},
   "outputs": [
    {
     "data": {
      "text/html": [
       "With these <a href=\"allowed_presumptions.txt\">allowed</a>/<a href=\"disallowed_presumptions.txt\">disallowed</a> theorem/theory presumptions (e.g., to avoid circular dependencies), we begin our proof of<br><strong id=\"mod_abs_scaled\">mod_abs_scaled:</strong> <a class=\"ProveItLink\" href=\"../../../__pv_it/theorems/2c432e62d31c90f1129af41a71a8f763ccf471bd0/expr.ipynb\"><img src=\"data:image/png;base64,iVBORw0KGgoAAAANSUhEUgAAAUkAAAAWBAMAAAC/C3MNAAAAMFBMVEX///8AAAAAAAAAAAAAAAAA\n",
       "AAAAAAAAAAAAAAAAAAAAAAAAAAAAAAAAAAAAAAAAAAAv3aB7AAAAD3RSTlMAq1RmmUTNIjK7EInv\n",
       "3XZ/CtNrAAAACXBIWXMAAA7EAAAOxAGVKw4bAAAETUlEQVRIx5WXXYgbVRTH/9lMMh9Jpgt+PFjY\n",
       "Dvjgi63RlkKXEiNbqyJqsKIPFrvUFts+lCz4Iqxt9MUHFzb4gcbiOosirmtJtK6VPiyhRbdWKnmo\n",
       "WloWJl1pl66WEKwrWyieMx9xdmYymb1wJvfOnTPnN2f+98wNELmJtnlOcSt29/C0oCuL4XGLWEu7\n",
       "YpurpQrW70ywR8LwnQq6ciY87ktk/dy5NwJkX80yD+XU+ZA4C72IQr3tpmaBR7nzSgTKz23z5nJf\n",
       "SJyk3itv+3pT4hDwBuunHIFyyDYvZTskTjzfi7IdgXKL9bgpLQJl3TYPZWIlLM65HpTh3nZL64jT\n",
       "W09GkeWwZV7KVCMszss9KMO9Hd0Q4vn5+Z8jUAo1yzAye8RNmRxoat3jfB1AKa6/1ln74d5OFFrh\n",
       "jwMfRaDkB2JLzOET3UVZPaQsd4+z1XzAebP125S7i/KKMx/u7aibXuEIxH5nLB1cNb3xu0cOO/2M\n",
       "ZtlXWTzlzuUDOn7pHud+fy6VMxAazjDc2xEbLQdZd2oztfWdntSsFNQUTjoVMl2w7BngMg2Vf2zK\n",
       "ncCt7nHG/ZRCCxm+aZVFHu7toLSI1HAtnrOd3o4S1VMVg4aH8icoN3l8waa8jES7e5zdfsp0GVVO\n",
       "S4arVLi3Uwi4tAzn6DCdO8nUt5usudSCwQWfKa/nV79x5TbiLfcbb0NY8cZRT3c049dl1cDDrnLp\n",
       "98afnsLYxwL5hmq78ru0zLe/pDLVr1J9yoyWEiey9qWyYZrSRmz4Phflv6xUb5y9TmebP5dVDXf3\n",
       "OTuIQO+khzLOH51RekghL3Fa5SyvJ6GslHaZlMKxsrscsE1gYz7vorwD7/kr3jtO50k/pWz0XRCc\n",
       "YaC3rPmLIGIlVpzKLyRdEvot+W2tVCqaqqae7Ui4Ydnk0lsDJRfl5LeU7Rnl4zebnz5YgJo7BdzI\n",
       "7bVkQ28lYI0PfD+y6Awtb0xd3HTP5rtod7KkQ124SpTKiSUz37Mkx4yzuqtFeZAUuQ5pumIdzb9t\n",
       "5lJNvNipjRdtC965HdWSZdLP+zjOj37akg3ERrSdm9jGQdKwXFAalH5mOF4cZ8pMYQx4vfOpLI7v\n",
       "0qeR0bdhGskCarJu6hKn8q5vvmldKHW5JtWpZsjGUZ11ybKBkI1IuYJjGOO6NUFd1uUOGio1PIEv\n",
       "XHucxNCmExjTpKcNOopDOV38kM4+f7X22c6OWoqWdaFEzJDq8Tpi+T3m6mHZ4LWIu2CxhQHC2g7c\n",
       "mWiZlD+gCWmOfvw7Ns11nK5UCqsmlbJlYZSUy6SdS5YNPlgbJeXysJVL+m6++yVNLcOXmoT+/zGg\n",
       "HbHNXRjtdbRIlDJREt6oHsuKpEuWjer/y7IYcONFppwgyqQmnqNlP0p5mpNuDtLUfqRwzVOXXMc1\n",
       "NmVDfvv+kVtI3XiM1+VvJbBsIrtP/h3/8YUNNcz+UaTa8NcB4LmHlljTr26+zvP/AbouVU0e7efw\n",
       "AAAAAElFTkSuQmCC\n",
       "\" style=\"display:inline;vertical-align:middle;\" /></a><br>(see <a class=\"ProveItLink\" href=\"../../../__pv_it/theorems/a805e237b0f92dcbaf01136d97e01bc13ccc71700/dependencies.ipynb\">dependencies</a>)<br>"
      ],
      "text/plain": [
       "<IPython.core.display.HTML object>"
      ]
     },
     "metadata": {},
     "output_type": "display_data"
    }
   ],
   "source": [
    "%proving mod_abs_scaled"
   ]
  },
  {
   "cell_type": "code",
   "execution_count": null,
   "metadata": {},
   "outputs": [],
   "source": []
  }
 ],
 "metadata": {
  "kernelspec": {
   "display_name": "Python 3",
   "language": "python",
   "name": "python3"
  }
 },
 "nbformat": 4,
 "nbformat_minor": 0
}