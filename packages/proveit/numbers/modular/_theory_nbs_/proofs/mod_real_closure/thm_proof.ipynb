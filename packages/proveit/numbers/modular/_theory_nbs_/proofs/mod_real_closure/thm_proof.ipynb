{
 "cells": [
  {
   "cell_type": "markdown",
   "metadata": {},
   "source": [
    "Proof of <a class=\"ProveItLink\" href=\"../../../../../_theory_nbs_/theory.ipynb\">proveit</a>.<a class=\"ProveItLink\" href=\"../../../../_theory_nbs_/theory.ipynb\">numbers</a>.<a class=\"ProveItLink\" href=\"../../theory.ipynb\">modular</a>.<a class=\"ProveItLink\" href=\"../../theorems.ipynb#mod_real_closure\">mod_real_closure</a> theorem\n",
    "========"
   ]
  },
  {
   "cell_type": "code",
   "execution_count": 1,
   "metadata": {},
   "outputs": [],
   "source": [
    "import proveit\n",
    "theory = proveit.Theory() # the theorem's theory"
   ]
  },
  {
   "cell_type": "code",
   "execution_count": 2,
   "metadata": {},
   "outputs": [
    {
     "data": {
      "text/html": [
       "With these <a href=\"allowed_presumptions.txt\">allowed</a>/<a href=\"disallowed_presumptions.txt\">disallowed</a> theorem/theory presumptions (e.g., to avoid circular dependencies), we begin our proof of<br><strong id=\"mod_real_closure\">mod_real_closure:</strong> <a class=\"ProveItLink\" href=\"../../../__pv_it/theorems/a6e22c47417b47a54842963c84a5a18b5eb6c0250/expr.ipynb\"><img src=\"data:image/png;base64,iVBORw0KGgoAAAANSUhEUgAAAQEAAAAXCAMAAAA8ygr9AAAAOVBMVEX///8AAAAAAAAAAAAAAAAA\n",
       "AAAAAAAAAAAAAAAAAAAAAAAAAAAAAAAAAAAAAAAAAAAAAAAAAAAAAAACXHtMAAAAEnRSTlMAq1Rm\n",
       "mUTNIjK7EInv3Xbt5cmRiLwgAAAACXBIWXMAAA7EAAAOxAGVKw4bAAADzElEQVRYw+VYi5LjKAw0\n",
       "b4RAd8f/f+zxNjh4MpvJZuvqmJoosdsENVJL5Dj+zDAX+9ZJfxf+nYP4at8zFH19X2gPEHXwICY8\n",
       "G/e5+BgBHFf7ywQGr85PDnxo15+5AIdJDismwA28HFPpjwWF06t9Id6jmj9q2d+4pwxgMZYNvO1B\n",
       "YOBjISDFal8YKwOxJ5OQ32JAmkOf+E4b8o8x4C/2pwyoOLber0FAENLQGwbgxIu2EfpzKqBX+2MG\n",
       "MJz5MIeV0uS2McCcYxPeZ5qCx88lAa42qROSOXXcai8NEVASa4LiqpNEXbEQiezCgGZErIYwskks\n",
       "HlWhMmCBd9EreGnLPfeiO/d6d3ej71O3yqflQJzwIftjo0huipwqNuQFQybJ+ewqzgy4mFx10dSC\n",
       "N32P2emA1yGGERsFn+tDfbkMqy/iyANqyTStc97AUbUNewiuwBfrfKlJYZ60KETM89mYNiiUOcpb\n",
       "0A+1gBfyfFkWn7RF75VQiKkGVXzeflSbzWJ98ZYY5HCkI11Bg1sGTvgxKBVpWepaZHotb1bGQscy\n",
       "aXkkYnPbNq1PF1ykuu3TeqUe6AQ9d6SmdxqwZgE4MdSi4jnd6KC37Stke0Pp7xCO9gx0eKXDjEvR\n",
       "fMmAh6tLnQFqDPB2MwWF3TBQyFOVJeWnRummGlp55nzD67JX5SkUhGbwkwTGzZ1WYYCc3GdBg9eZ\n",
       "sQZriU/+VRbUXRXxuGdgxIDcxkC5K6uO8CmZwl0/IO1ofhoeeVNNlxTHji2j4A6SM5c5Cwwsved0\n",
       "s8Il5PFX+hdprjxvuDQ+QLN1xQGmD27uGDi8rGU/uV3FZtGBjKhikpicNp7ohoHkUfeh4Y1nPdxz\n",
       "+gy4KFqpxMSABIRjr4QNPjfodtKoSSPZYjMRPMi5quiZAZXXlLNJY1lr9p3FiVWW3oO8VNgyDd8w\n",
       "kIFJB0AteGbPzCQ257Vkyauyq8BrFqDiewYafE7BmgXxshAbFusYoTWMhopYFj2zHNLrgTrmNDcS\n",
       "kdU1O1n6gXAWL8dw9NdhlhPHQLmHsyHk2gu6riqsFaDUVBCuPRVrDls8Zh1QCt2WgQbPWfD3P1Cy\n",
       "YK+ER7CrfeMvBJfcVwhLV/wMf/gsA0qk/iJ7nfK6pMnZLNVqeKOEHT6dtkoqqodWo59fnp1jXj9z\n",
       "vYxXUnBCkRMvN2WyaokBO/rslItOSr2tBbJLz9Rfpo5IPjaHYFb7thCAN+Ln3HWYg1rdnDcfH6Wn\n",
       "PxDAfcn+yfhVRr/Cq+8eEzY+fOPI189Bht5JAJk34r+dT48McHX8r4b5rzvwL5AZItrG0ToBAAAA\n",
       "AElFTkSuQmCC\n",
       "\" style=\"display:inline;vertical-align:middle;\" /></a><br>(see <a class=\"ProveItLink\" href=\"../../../__pv_it/theorems/22e9327a38d43164aef68146a3d52a78abc105f70/dependencies.ipynb\">dependencies</a>)<br>"
      ],
      "text/plain": [
       "<IPython.core.display.HTML object>"
      ]
     },
     "metadata": {},
     "output_type": "display_data"
    },
    {
     "name": "stdout",
     "output_type": "stream",
     "text": [
      "mod_real_closure may now be readily provable (assuming required theorems are usable).  Simply execute \"%qed\".\n"
     ]
    }
   ],
   "source": [
    "%proving mod_real_closure"
   ]
  },
  {
   "cell_type": "code",
   "execution_count": null,
   "metadata": {},
   "outputs": [],
   "source": []
  }
 ],
 "metadata": {
  "kernelspec": {
   "display_name": "Python 3",
   "language": "python",
   "name": "python3"
  }
 },
 "nbformat": 4,
 "nbformat_minor": 0
}