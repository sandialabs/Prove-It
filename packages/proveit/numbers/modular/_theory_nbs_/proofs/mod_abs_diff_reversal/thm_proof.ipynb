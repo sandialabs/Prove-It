{
 "cells": [
  {
   "cell_type": "markdown",
   "metadata": {},
   "source": [
    "Proof of <a class=\"ProveItLink\" href=\"../../../../../_theory_nbs_/theory.ipynb\">proveit</a>.<a class=\"ProveItLink\" href=\"../../../../_theory_nbs_/theory.ipynb\">numbers</a>.<a class=\"ProveItLink\" href=\"../../theory.ipynb\">modular</a>.<a class=\"ProveItLink\" href=\"../../theorems.ipynb#mod_abs_diff_reversal\">mod_abs_diff_reversal</a> theorem\n",
    "========"
   ]
  },
  {
   "cell_type": "code",
   "execution_count": 1,
   "metadata": {},
   "outputs": [],
   "source": [
    "import proveit\n",
    "theory = proveit.Theory() # the theorem's theory"
   ]
  },
  {
   "cell_type": "code",
   "execution_count": 2,
   "metadata": {},
   "outputs": [
    {
     "data": {
      "text/html": [
       "With these <a href=\"allowed_presumptions.txt\">allowed</a>/<a href=\"disallowed_presumptions.txt\">disallowed</a> theorem/theory presumptions (e.g., to avoid circular dependencies), we begin our proof of<br><strong id=\"mod_abs_diff_reversal\">mod_abs_diff_reversal:</strong> <a class=\"ProveItLink\" href=\"../../../__pv_it/theorems/4f729cc96697623dde5f3444946f4d09163891d80/expr.ipynb\"><img src=\"data:image/png;base64,iVBORw0KGgoAAAANSUhEUgAAAYwAAAAXBAMAAADqwWVNAAAAMFBMVEX///8AAAAAAAAAAAAAAAAA\n",
       "AAAAAAAAAAAAAAAAAAAAAAAAAAAAAAAAAAAAAAAAAAAv3aB7AAAAD3RSTlMAq1RmmUTNIjK7EInv\n",
       "3XZ/CtNrAAAACXBIWXMAAA7EAAAOxAGVKw4bAAAEr0lEQVRYw82XfWgbZRzHv0kuudxddi1OC3bS\n",
       "HQj6h3ZGhIJjxBtr5xthweFEN2ic82UblvTPYbGxiP7hdGVaNE6zK/afUjXnS50rWELFt8kkiu+l\n",
       "cKVjLZ0LIXNOOhCf5y5p70lyTa/xD59yyfV5fnl+z+f39jwP8F+1BPlzaPyaJ+FXmR6NT1+/yQrG\n",
       "ncak2FpncZYcd/6R3wCa6cuNjWPcUluT+FbOJcboWbcYmAO66PeTDVOIcQdNAdWtNw64xghoeI4G\n",
       "12DDGFzYQVOT4haj6BrDp1ISSErDGCEnTd2aSwz/kmsMnIGPmDHQeGrc5KTpM7cpLuXcYzwGnJ2Z\n",
       "+bZxjPstTfymeYMdeDR/jTuMQNtsRXD0Tj5bB+MD4B7gzXWuXWLsQTXtSwhsTIh/aZlEHYzoDG3f\n",
       "lzAyh8QrbD39Cie11TE6CCv45vXm9crrDyaG+Dk4Nia8SwgZrrxxm4bvmL53w4jW8catgKAxWto/\n",
       "2d5Dv18oVS/v9IEWM078J8PY08MI2TC+MDG4Ajbo1AdPmwZOEpE4mnRXGDuBq/YZsAuYroNxjKzT\n",
       "WM7w4GwqJks4RVfioR+vXD8EQ5eeMUdns5ATjFAVRmgQGXbJhKpbcYUxDT9bcr+BeLkOxj7yxCPl\n",
       "/zoJvCxjK7V+iJqS5A0Mw/e+OXrfJTMZloWkzmhnFxtUGQN3VW0bu7RKjD9oDj98Cf4njOrcKIJj\n",
       "0kv8B75CFYY8ZQ+QdvJ8eIh8jEVOQQ7DXOGiSv2Ub6WbPMWQR8xf6lGKYReyeSNtYSho8TKHuKYk\n",
       "yZdKjADFkG8A5mt442+aDHaMIjzxm6u8sd8WILiTPH0kw8VfglcwamJKfJpOc1E7J5rpYehHTJyg\n",
       "klEGwAhxTMkjmgTD+yPHaPOEBbUKQ6AYXCYMvQbGRrzG9qXRrqpVGMdtAWKWew8NHzWYxW5zhdwJ\n",
       "c/WvosNvWsW497TlRo3LLYIRsq34ZatStX3au8AW3E076OLEtwdm37k9BjkyAXnuPMWQSE2rhTH8\n",
       "cZjtG77wYluSTD7665bWO64jB8ELGvKR/SsBAvxUPkvE5GZ0pFIpRZalB2jP19juO5hKHSdBNa5Y\n",
       "1ZW/TNTahWz7xoYkVj2o9yuBQW8OQ3iPmC5EJxwQi0HFzUGdL+IgyQIhJuY4HVMrAQK+XOQzCWGr\n",
       "9pJpaNm/lxyDUMBUULdy48GJ0l7XQjoYIeZ0tjqGJujBbLAAYX7Jyo1FRGXNFcYSTuAoLa7pfs3M\n",
       "jVKAmOdSyxuJY7s1QTPDHhOqqON336C1u5OCO4IxYj0Qk9JtpizEqnm9DgY8RjDry8LTVbAwVPTv\n",
       "dXVt4gtoIxjbgGu7rRQvBQiOLG/4O7Z8BP4N8rbnvD6yMziF5/NkmESKv+ew2Bk/qsi/JeEhCCtC\n",
       "rJrRtWAQbwTK3tDhObweDOKNnpI3SgFCTWhvY6lUaRqvlZ+nU0OlIaWGEHshNrDgeMFNEgyBYBDl\n",
       "fdpG9Ck0rmmw15B0aAsUI00wAgp/xhPmaW6UAkR2vKc/Unnd1Rq8HG5Wtz3eexVS/m5IcxefIgWd\n",
       "eLXV1RzDf/q+fGizjslzCUxGfk6iHCDOLVx5v8L/u/0LO2aF4E4eFggAAAAASUVORK5CYII=\n",
       "\" style=\"display:inline;vertical-align:middle;\" /></a><br>(see <a class=\"ProveItLink\" href=\"../../../__pv_it/theorems/5e293f66d655c675e798c058c01b0cb5051887650/dependencies.ipynb\">dependencies</a>)<br>"
      ],
      "text/plain": [
       "<IPython.core.display.HTML object>"
      ]
     },
     "metadata": {},
     "output_type": "display_data"
    }
   ],
   "source": [
    "%proving mod_abs_diff_reversal"
   ]
  },
  {
   "cell_type": "code",
   "execution_count": null,
   "metadata": {},
   "outputs": [],
   "source": []
  }
 ],
 "metadata": {
  "kernelspec": {
   "display_name": "Python 3",
   "language": "python",
   "name": "python3"
  }
 },
 "nbformat": 4,
 "nbformat_minor": 0
}