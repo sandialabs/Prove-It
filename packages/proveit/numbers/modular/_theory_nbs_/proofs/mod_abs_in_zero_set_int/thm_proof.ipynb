{
 "cells": [
  {
   "cell_type": "markdown",
   "metadata": {},
   "source": [
    "Proof of <a class=\"ProveItLink\" href=\"../../../../../_theory_nbs_/theory.ipynb\">proveit</a>.<a class=\"ProveItLink\" href=\"../../../../_theory_nbs_/theory.ipynb\">numbers</a>.<a class=\"ProveItLink\" href=\"../../theory.ipynb\">modular</a>.<a class=\"ProveItLink\" href=\"../../theorems.ipynb#mod_abs_in_zero_set_int\">mod_abs_in_zero_set_int</a> theorem\n",
    "========"
   ]
  },
  {
   "cell_type": "code",
   "execution_count": 1,
   "metadata": {},
   "outputs": [],
   "source": [
    "import proveit\n",
    "theory = proveit.Theory() # the theorem's theory"
   ]
  },
  {
   "cell_type": "code",
   "execution_count": 2,
   "metadata": {},
   "outputs": [
    {
     "data": {
      "text/html": [
       "With these <a href=\"allowed_presumptions.txt\">allowed</a>/<a href=\"disallowed_presumptions.txt\">disallowed</a> theorem/theory presumptions (e.g., to avoid circular dependencies), we begin our proof of<br><strong id=\"mod_abs_in_zero_set_int\">mod_abs_in_zero_set_int:</strong> <a class=\"ProveItLink\" href=\"../../../__pv_it/theorems/355b65c418da856302b00262986fab9e1184ead50/expr.ipynb\"><img src=\"data:image/png;base64,iVBORw0KGgoAAAANSUhEUgAAAPkAAAAXBAMAAAA7L/RRAAAAMFBMVEX///8AAAAAAAAAAAAAAAAA\n",
       "AAAAAAAAAAAAAAAAAAAAAAAAAAAAAAAAAAAAAAAAAAAv3aB7AAAAD3RSTlMAq1RmmUTNIjK7EInv\n",
       "3XZ/CtNrAAAACXBIWXMAAA7EAAAOxAGVKw4bAAADlUlEQVRIx7WWa0gUURSAj/uandlH20tIwQaC\n",
       "CCLdKISidMWKQogFoX4UtRhR+iNW+5nhFtGfjDWixyrJ+KMfZuj2LqWIpLCiWCowhIURJS0fLCIE\n",
       "BtG5987szOyuy7rSWWb23Dn3znfPueeeOwDLkCD+mHC5DbjrZ/9NQTp6WeIW4YmiOvw5DTgpMcW+\n",
       "DpVjqHhIa0Ne9M2wRHoZgQ+Mo9M8Yt1egL3k8al84EJgqfSXeNlEYRj7x1BtALhAVq0tH7rFmw99\n",
       "N8ALhb4d54LRcIj50J2QI/1nPB5I0q/RBaB0pwRm9MCW17JvzJF+6Jfe93mAsMjoNkR/isc/5kWv\n",
       "YXSueELORuca9JEXCN3L6A5Mvf0A7YsjfIubTjD60SC/kI1u0/b1PpzLH6TL4H6NTTOuRyNwHtVs\n",
       "r1eUgvePOyg4LR8HplTtC6ULg2CJZaVrURhU6FHg5rBtwinwkm5oMZnCaMTvCjp6pUx0s2xVH72l\n",
       "dEsCXNFs9NY4ChnDFWInAenHZYCuOgQlcAayLumG8NoTQghcPAuZ6M4Q/DbQnW3Q589G705ql9pZ\n",
       "1pXhFnuKA6wk/IEKvPVUPCNu/x2VSAkiC+7T0ZmVSIsEbwyR75OhMj3npxFwmY11aU9xt0EEoFIC\n",
       "0wKJPEm9h5iUwrCduOQecfvYXM1NIY1OrQciKN6wBF+Vd3UyugiFpmAq3Yb0gigr7rKh2uyiyeeg\n",
       "WUde3oxJZ/HZSZv3mgO1tGOvAzS6YiWC9M+K+oDSedn0zZLmOy/SRaJSZ6C7RGFIqXUWMr0C7OX0\n",
       "uz10VS2ecnRRhGg/3EvSFasS+TlFvcpyvuR54yTSu7+XFm1bCzA2JYF77AfSw7NFtF/XDUlHF2pG\n",
       "QwrdpU65L8jvxD4rwCleIW3rJi/0J+nUyiKvyzpXSF/rcA/Vwxbg/UIM65AT6TPSODMeuaOrtEp/\n",
       "Qj+fTOVguFbqAZe0A3cgsVrAGtN8J1bliJatahjMPgN9ATqgFcKYD6iSdb8O5RlOGR29Wm1Zq0sf\n",
       "QatoPygDdxvbW1dO3fQk6dSqVptxNY5wy0BPQAnSManWWBOUPgRVKfRp7XwMpJ+s7KjriUS0HMp2\n",
       "9nZnoKPvZxTfE8m9qUpL8iy9j9uaN35aWaV0QjY6J8Ok+s0UQnon0m0i9wFWQzNyRsypg7kqBX9u\n",
       "Fd4mUqooLI1ukK5587vD66PwCj+cHGMzp7G0zcJyJQj/U/4BuZIRIC9wTw0AAAAASUVORK5CYII=\n",
       "\" style=\"display:inline;vertical-align:middle;\" /></a><br>(see <a class=\"ProveItLink\" href=\"../../../__pv_it/theorems/f7c1124dcf33d8e49d6237cd140214b11878c2ff0/dependencies.ipynb\">dependencies</a>)<br>"
      ],
      "text/plain": [
       "<IPython.core.display.HTML object>"
      ]
     },
     "metadata": {},
     "output_type": "display_data"
    }
   ],
   "source": [
    "%proving mod_abs_in_zero_set_int"
   ]
  },
  {
   "cell_type": "code",
   "execution_count": null,
   "metadata": {},
   "outputs": [],
   "source": []
  }
 ],
 "metadata": {
  "kernelspec": {
   "display_name": "Python 3",
   "language": "python",
   "name": "python3"
  }
 },
 "nbformat": 4,
 "nbformat_minor": 0
}