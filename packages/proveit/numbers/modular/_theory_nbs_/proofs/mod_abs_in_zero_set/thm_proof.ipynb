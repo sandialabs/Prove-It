{
 "cells": [
  {
   "cell_type": "markdown",
   "metadata": {},
   "source": [
    "Proof of <a class=\"ProveItLink\" href=\"../../../../../_theory_nbs_/theory.ipynb\">proveit</a>.<a class=\"ProveItLink\" href=\"../../../../_theory_nbs_/theory.ipynb\">numbers</a>.<a class=\"ProveItLink\" href=\"../../theory.ipynb\">modular</a>.<a class=\"ProveItLink\" href=\"../../theorems.ipynb#mod_abs_in_zero_set\">mod_abs_in_zero_set</a> theorem\n",
    "========"
   ]
  },
  {
   "cell_type": "code",
   "execution_count": 1,
   "metadata": {},
   "outputs": [],
   "source": [
    "import proveit\n",
    "theory = proveit.Theory() # the theorem's theory"
   ]
  },
  {
   "cell_type": "code",
   "execution_count": 2,
   "metadata": {},
   "outputs": [
    {
     "data": {
      "text/html": [
       "With these <a href=\"allowed_presumptions.txt\">allowed</a>/<a href=\"disallowed_presumptions.txt\">disallowed</a> theorem/theory presumptions (e.g., to avoid circular dependencies), we begin our proof of<br><strong id=\"mod_abs_in_zero_set\">mod_abs_in_zero_set:</strong> <a class=\"ProveItLink\" href=\"../../../__pv_it/theorems/8aa894208a0e7c10ff3544a4b135dde167f4b3a80/expr.ipynb\"><img src=\"data:image/png;base64,iVBORw0KGgoAAAANSUhEUgAAAPsAAAAXBAMAAAA/2iRsAAAAMFBMVEX///8AAAAAAAAAAAAAAAAA\n",
       "AAAAAAAAAAAAAAAAAAAAAAAAAAAAAAAAAAAAAAAAAAAv3aB7AAAAD3RSTlMAq1RmmUTNIjK7EInv\n",
       "3XZ/CtNrAAAACXBIWXMAAA7EAAAOxAGVKw4bAAADiElEQVRIx7WWW0gUYRTH/+795rgPJV3AFnrw\n",
       "SVtIgiRkxbJ6qJaEgoJaFiTsQdaXnko3CHpI0HpKJRvBAtFwK0q6LaLQlUIKzIqFtaQiRcSKwEA6\n",
       "32WdGXdd1pXOMrNn5uw3v+875/+dWWANZqePtEhuI24ExcDSVYxZ0T7DHZTuvZwGKPWqcM530ukE\n",
       "HV52tTUvuim2Wvw2orvje8m7zCbjB/aw26fywt/EavFP6AjjVkR4OE1pYKVozwtfkw/ePAZ3u8RX\n",
       "ADaWD19e+OEc8cq1xPgS3umFaUHiPSrMVABbfqUP5Ya3Nqq61RcF4JiXeBuxXycSr/LCW2IC3xRv\n",
       "zoo/o+qTP0j4nxLvJt3vAzqzQAIrRtjcCW99hutqNrxO17VASwyORWCGXZopf02we1NhR4N0yu5X\n",
       "NwovTZWPpqVT6OP4AT8OZF19SGtTowL/l76Y3EykHqe6VEBgM5vDZEdQcWMolhFvTlrlLU+Q4w8B\n",
       "n7LhHVTdxAdOL6YRgzFYafWuYuI75mgKSZ3yntOxO0piVVCZzIj3RPHHgH8B1+9seJf2hAudXHom\n",
       "kp67nolymCWnik79VUNspouTKutFDP8joMOLMLMWFSP65LsWYZ5LwysjWiXHtNvU65ztMC+I/gcT\n",
       "C92h5uN672BrUj4qgT4+3G3v9mt4Ht7fQeZvU/FOPMuZ5Ph5FIRK01YflpUkmzW2nWFYSA2PeSHZ\n",
       "w8+S8iwBB0uE028O1XG8patdJz0ZZkb4N8Jj24aS342yQCANf0VWku0Qn6HpvsVAVG48tnVREGV1\n",
       "VLy8sBbvDlqjT1Hch3V4GZbJn5eaGuP4numLJVHC902Ub9q+HvgyrWK2KiwqyVO38Zge3xvfID0U\n",
       "pjQ/GHFW0m+L4PFd4qtXrMdVDc/DIvma9DBh6Hr2eTSgDM6ga4xWNSIqKdreA13T1U0E55b0HGmr\n",
       "U/tRqO6kjchrj4c66fGwFFXSmkpEhRG/gC60og3opgyFRSUzvPF0Xs1SX64pv4tWn+NgEvardH3k\n",
       "a6y3VsPzcKrtTKWaqDNiwM+hhPC7gHUnufRYJZfhZ/T9L+1FKzTS39Gh9SFkeRfTjk7H0+obxepZ\n",
       "JZeNaEndcI2K6RteTWoGRra/As1QotL9zvDdhLf57C8L/HaqPavk8j+H1YJvv82+vy3rp1gl3mA9\n",
       "v8xPj26JIT4VQbxqPApWyTVbBP/T/gEY/AtxsLOEBAAAAABJRU5ErkJggg==\n",
       "\" style=\"display:inline;vertical-align:middle;\" /></a><br>(see <a class=\"ProveItLink\" href=\"../../../__pv_it/theorems/59ea26b31d9bafad64163c319260be80bf4c3d350/dependencies.ipynb\">dependencies</a>)<br>"
      ],
      "text/plain": [
       "<IPython.core.display.HTML object>"
      ]
     },
     "metadata": {},
     "output_type": "display_data"
    }
   ],
   "source": [
    "%proving mod_abs_in_zero_set"
   ]
  },
  {
   "cell_type": "code",
   "execution_count": null,
   "metadata": {},
   "outputs": [],
   "source": []
  }
 ],
 "metadata": {
  "kernelspec": {
   "display_name": "Python 3",
   "language": "python",
   "name": "python3"
  }
 },
 "nbformat": 4,
 "nbformat_minor": 0
}