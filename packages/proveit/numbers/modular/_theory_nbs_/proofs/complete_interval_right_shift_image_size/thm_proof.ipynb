{
 "cells": [
  {
   "cell_type": "markdown",
   "metadata": {},
   "source": [
    "Proof of <a class=\"ProveItLink\" href=\"../../../../../_theory_nbs_/theory.ipynb\">proveit</a>.<a class=\"ProveItLink\" href=\"../../../../_theory_nbs_/theory.ipynb\">numbers</a>.<a class=\"ProveItLink\" href=\"../../theory.ipynb\">modular</a>.<a class=\"ProveItLink\" href=\"../../theorems.ipynb#complete_interval_right_shift_image_size\">complete_interval_right_shift_image_size</a> theorem\n",
    "========"
   ]
  },
  {
   "cell_type": "code",
   "execution_count": 1,
   "metadata": {},
   "outputs": [],
   "source": [
    "import proveit\n",
    "theory = proveit.Theory() # the theorem's theory"
   ]
  },
  {
   "cell_type": "code",
   "execution_count": 2,
   "metadata": {},
   "outputs": [
    {
     "data": {
      "text/html": [
       "With these <a href=\"allowed_presumptions.txt\">allowed</a>/<a href=\"disallowed_presumptions.txt\">disallowed</a> theorem/theory presumptions (e.g., to avoid circular dependencies), we begin our proof of<br><strong id=\"complete_interval_right_shift_image_size\">complete_interval_right_shift_image_size:</strong> <a class=\"ProveItLink\" href=\"../../../__pv_it/theorems/9a531f1d7343d227aafb0a2ec85c56ead1b1e4970/expr.ipynb\"><img src=\"data:image/png;base64,iVBORw0KGgoAAAANSUhEUgAAAl0AAAAmBAMAAAAM1jMzAAAAMFBMVEX///8AAAAAAAAAAAAAAAAA\n",
       "AAAAAAAAAAAAAAAAAAAAAAAAAAAAAAAAAAAAAAAAAAAv3aB7AAAAD3RSTlMAq1RmmUTNIjK7EInv\n",
       "3XZ/CtNrAAAACXBIWXMAAA7EAAAOxAGVKw4bAAAHkklEQVRo3s2ae2wURRzHf73b6+3tXq/VP0hV\n",
       "gmuMUKLCReIDQsopKJQiXFD4A8RWDNFigtukf0BC4EBjghZ7QpC0GLsQTYBaezwV8FERg2DQQlAi\n",
       "tvEaCdqiDVLOlmedxz5uert7V45r9pd0bq87szPz2d/vO7+ZFiATcw0MBGEY7ClwpglLcckNDCiZ\n",
       "1XcVDcuwuCKH8oL1FJTfWbwecyoucBc5kBd/3LG8YIMDeeXHnMvrE8V5vMYrzuVFpdVZvH5zLi7w\n",
       "9jmOF3/Vwbxgi+N45UVRIdN8Zx7o1ybvOnOvGDM0J7K5N9lxvApxSryPXJ5fgIqAZFHRE8/4mWsa\n",
       "hjICMWx9b7VEeRES96fnlUc+c5nl18kaLxeJzActa/5hdSPQTmccaOwHmH8dwXovO15dAxHwvH4M\n",
       "uVVBiPJ6Gv/6lfS8OPysfDmHvKaAxktswzFZaZ14WIbFanXGvn9RcRb9fJmlfzUifyrA3XGVlNca\n",
       "HLfR9Lx47IgrchmPI1heHOPLnuRv7pBlTKszntuI3mwse16esWhdFInLXqS88LsSpQz0C285d+eS\n",
       "1zcsLz87AkazjqfjdbAiBh4pe17ix9cQfDKAfsrLjV5cfiZ6PwF9VuaS1zWW12gbXi+n4xUqaAVR\n",
       "yZ4XB+0IPsl2Lqnr44mOjh8y4eXv6GjP6Yall+VVjn4+7dx+SGJ5iT1PAOyi128dWdUVf7ErDMLs\n",
       "c3iqh3rqNF7uXjTX28FrShBI9Au9Kq8ZAA2Z8OIi4MvlhsV7SedFtBX7UCgwimtjeHlPQZlxkHFS\n",
       "4nvD7lZYL8OHaI8nwdd0xigUb1DZ+XvIvLgOYjSDmguFbUC95KbKqxq85tlVjOWFalWn7TGkle49\n",
       "pvffmalXSknvDV4rsbifQg+R3Vfzggyvghj8CPCQ2uYDgCvA9+OdVF0E3tfXRxSKc8Lz9LTp1v3r\n",
       "IHAJT1iXC8zLp+BqnsYgzF9GX+HpfTC5iJkWyVcb1GSSRAK7oo7cUraXXES1stYESBXQSIrCOtUN\n",
       "jE7Rl4TGq3oJvvoOtaCehl95+wn6yucQF69T29TjafD9GHVhTEAe0BJWwwhWR4nsCCOkbHiFwHtF\n",
       "pFF1WeXlihO572yFAFqD371rE9wnKpySymtcktznGc6HW5yBg90sr9Emw7lHVfEoCAfoLNROB/kX\n",
       "X6ZQXmiA8UF6f4yULxi8biJeLoS6MMobvFAo+vrI+MUlWfkXmmZjDTC8oLIUf53Zi3vhZuBsPx4S\n",
       "IZVXvttYo/wRXRFxiyA/Jpie1/c6L5Q4B41OU+LRV0TjEaBCFpRkXtiHkD3M8iL+FUryL5QBeC7H\n",
       "TM6I7GTCRL9wSlJRDox+wW5ymB97Fg+d7DRKHlglwt5pp6eFGV7iaFRb2HMBO0Rdz93491+VqnsT\n",
       "joNUXk2lnzHxeLNT0XnBxLjeqarkg9ZHJOA7wiO1+5p/oUoe1JjlBUfQtMJQpesXDsXfyeUXLBg7\n",
       "mTDxLxyKBQlj+Sa8VmIYvNQirQWBTKVE3LbQxL+8OKFslsk27x/lHBbfcC1tAY+XDOKFVjDhDN/H\n",
       "bO7OBkKwSK80WVY7VY26jsELTWH827NosmjwQovj5zTXwFZFeCWgNgKvoYmE4V7itkKbtr1Kyiew\n",
       "btjKhAmvZuySF43lm/DKw7EVULi2bnXXUQKhLhNeUIx+ptFXtJEs6WWwnbYQ4jGWF/8q8rkQ35rc\n",
       "uS/oroT8brVS0yatU82OsLzWA3zU45oqsbzEPaVozD+rpw/Xi8deL9p/I+Yt34WmKpT31J3Eoxn5\n",
       "H2rlY3kR3bCViVReW39arM+JTzDnORx4EzFwV9XXb0C8mvLNeNFVq5P28SSVZNpCFBWqMxqvNShc\n",
       "/eEAk6j4I1wRuJbRSjXFeqdgOEsyr4KIZX7vbctYwjGvwLlV01XdsJMJ+/MccmZi8EIyMSIGfIz6\n",
       "l2dcav5Fg6YPNu5EnxfhMCpRuNEWc9+guw8jHhHVFtk3KVltC8EvwUp6u7rY6FSzWSwvdlPN7Le5\n",
       "4JB4/ZkXXazqhp1M2POie1p9Pmtpakcy/UeBOpGZfx3lE5OEGJx1R1G5BM2YtIhpPSbrvV+uew4/\n",
       "vwkEAqVAmaitj1unJ3eqnecoGq8AiePNlmMfwjHJM3j19sUjlLetTNjzImu2zivwawTy0JcVKAj4\n",
       "X2R6OmjG6/lHLgT5w/BmD6CyZkI3aeG+Y9SBl1J4eaaOI6t3rcwfJYOdHdd47WQ6Va1F0njRrdEO\n",
       "y7FvzhiX8C3xbFnVDVuZsOdFTn9TzqOFA/Wb0p9Hu5JKtoVt/gVJ+ZfZG8QB+Be5rLkTU7M6dg5k\n",
       "fGrp3SXRLEKmumErE+jBEetHVci3fn6/IKlkTee1aOi83K052si37kdrV4PWvSYTSCSaGJmwt/1Z\n",
       "/L0jmFRa8Mo3dw6eLtDr6pEN9hIhkaOTj9kLexSiG4xMIJGolZNlwt4OZ8HL2mS9XGt6f7lRyeIV\n",
       "5sqobtjJhK3RJchZf9/2R3LexaJb5eWXnMfLXZnzLuxkwtbOg/N4WR/L3z6zkQnbNeOoE3k1y+BQ\n",
       "a5aGxmt4/n/Vu9SpvDaSbVjG/786XLbcobgEPfH/HxWeS2n7gGAiAAAAAElFTkSuQmCC\n",
       "\" style=\"display:inline;vertical-align:middle;\" /></a><br>(see <a class=\"ProveItLink\" href=\"../../../__pv_it/theorems/c7be1dba885a3b17770c9a947433bfd360038e3c0/dependencies.ipynb\">dependencies</a>)<br>"
      ],
      "text/plain": [
       "<IPython.core.display.HTML object>"
      ]
     },
     "metadata": {},
     "output_type": "display_data"
    }
   ],
   "source": [
    "%proving complete_interval_right_shift_image_size"
   ]
  },
  {
   "cell_type": "code",
   "execution_count": null,
   "metadata": {},
   "outputs": [],
   "source": []
  }
 ],
 "metadata": {
  "kernelspec": {
   "display_name": "Python 3",
   "language": "python",
   "name": "python3"
  }
 },
 "nbformat": 4,
 "nbformat_minor": 0
}