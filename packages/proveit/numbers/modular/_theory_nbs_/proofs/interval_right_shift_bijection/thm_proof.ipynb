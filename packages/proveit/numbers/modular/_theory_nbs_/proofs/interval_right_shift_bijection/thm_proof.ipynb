{
 "cells": [
  {
   "cell_type": "markdown",
   "metadata": {},
   "source": [
    "Proof of <a class=\"ProveItLink\" href=\"../../../../../_theory_nbs_/theory.ipynb\">proveit</a>.<a class=\"ProveItLink\" href=\"../../../../_theory_nbs_/theory.ipynb\">numbers</a>.<a class=\"ProveItLink\" href=\"../../theory.ipynb\">modular</a>.<a class=\"ProveItLink\" href=\"../../theorems.ipynb#interval_right_shift_bijection\">interval_right_shift_bijection</a> theorem\n",
    "========"
   ]
  },
  {
   "cell_type": "code",
   "execution_count": 1,
   "metadata": {},
   "outputs": [],
   "source": [
    "import proveit\n",
    "theory = proveit.Theory() # the theorem's theory"
   ]
  },
  {
   "cell_type": "code",
   "execution_count": 2,
   "metadata": {},
   "outputs": [
    {
     "data": {
      "text/html": [
       "With these <a href=\"allowed_presumptions.txt\">allowed</a>/<a href=\"disallowed_presumptions.txt\">disallowed</a> theorem/theory presumptions (e.g., to avoid circular dependencies), we begin our proof of<br><strong id=\"interval_right_shift_bijection\">interval_right_shift_bijection:</strong> <a class=\"ProveItLink\" href=\"../../../__pv_it/theorems/3ac2165f68a643d894988638252e704dedb9a66f0/expr.ipynb\"><img src=\"data:image/png;base64,iVBORw0KGgoAAAANSUhEUgAAAr4AAAAmCAMAAAAV82hAAAAARVBMVEX///8AAAAAAAAAAAAAAAAA\n",
       "AAAAAAAAAAAAAAAAAAAAAAAAAAAAAAAAAAAAAAAAAAAAAAAAAAAAAAAAAAAAAAAAAAAAAAAeYafp\n",
       "AAAAFnRSTlMAq1RmmUTNIjK7EInv3Xbz6eH5++XX8bMAKAAAAAlwSFlzAAAOxAAADsQBlSsOGwAA\n",
       "CZdJREFUeNrtnQmbsygSgOW+lLl2+f8/dTkFFA1ePcl2eGbafHTEsngtqgqkh+G+Ao0taHimYDj8\n",
       "svKoOj+nYKcG6T9KKlvVd+kbPHgT4Nf1GwTDt4QyRk75JFvVb69vRIcvvl98BwQ+EV9+r6C/Hl9Z\n",
       "mQP88htvg+8g4AfiS9XwxfdGa6D1VPxzevmN98FXlsh+CL7QyC++97ZdwKnHV994I3yrIOhD8J1+\n",
       "o/H9KXwJMEpZDjTSSr4/vsywD8OX/0rj+2PWl3vrK4gdmaf3x3cQ6sPwBSINc9PEj5/OFsfDJ95a\n",
       "WPetlOqUhJy8HGRd+HLj0dAd+J6W5bzgJado/DB859y9OqM3DetjfyH6gZuZG315M4U6NSVne4oD\n",
       "ITfwFcYYFfENUAAc63bwvSDLacFLTpmBRXXWEUR34Htje7PvwC7gC1V9PET+8TvQ01gLqS0Q3s4S\n",
       "akYhc6MH8D0eukoxzvgJ8NL6ShSsL31tfWdZlNK4d3xaKWGvu+epiSx4ZWYnXFTjWYuU3YHvje2l\n",
       "0cIM5/GVtD4eK/S4nWFmKaQwsRtiv8RGD+CrTvihFO+dXcIpzcD5QK1NYwUmW/im1tz35dTdxUsl\n",
       "bHUXwHR+VrPgFb6YFtU8KYmJW5yHG9tLri+9gC9G9bE9oG/9EuETrs5CSAJFHD5U1ejD+OYhdn02\n",
       "U9SobGgVdpIpXVjTxTfW+CJ/UL19vFLCjqV+ha82ZXWyMAregu+N7SUhwRF8dW0QxsWxLbjuCXlP\n",
       "4qskCd4kgVWj9c1oMdlCb8OXZH9DXckhaNbGNwzs3V7NWgnn8YWGF9Uomp7rk4RB3/e1l3hQL/Ct\n",
       "VAgrgwlpfTyKL0WX8bXyTGPowqrR8mYI1fJe61uccglfiNsNGxzCkk4btVbCeXzzRX316J77aVQ3\n",
       "4Xtfe8vEQ+xxqTWQXGXrXndP9S+s6uPq3Da+diBF/hFXddjD6YiZ1kIPxP4M0mA76JI5mtG8gS/y\n",
       "t5CdUbDAlzV97Aa+DCjNuvIhFNg7hdfxXc0oh9Zkwhd147tQwnl85XxRX419Rwl5F763tbdKlIQe\n",
       "txrQQA94amsYiob1TMfVuS182WSviH0zq4Urk2PC9hqJuSbuoxefL5WjE1Qt8PWjpZlKry80WuDb\n",
       "DnIzvilYISNzQVCHZqWxT4QM7qYeL3Xqwr0NsrAwJHLTl1tsKKED3yx47cPNF/XVDKQf3SPTLr7H\n",
       "23uRN6vxRcw9yXIAaMNA6OLJmWB1XJ/bwtfPUY++Di67XvgKI7xgPM1n+4+CtjIPfrTEtjIn+0Oj\n",
       "Jb77oRsbg7jSH3GPMQ1OabgHZi5FIboyRFGWGd++MbahhA58We0lrL3JUO3kS8okwptmQqmu7BFW\n",
       "3t6AZMP29F22Vw+9e4EqGIXC9r91EEIqfHmVO3Hljz+nqph8RkrCxuPqXBwcneDvRPFxYd64WeIr\n",
       "ZgU6ZtOzZStkMApygS8OHSEKry80mjXExyS5aFoDSpJg88P1crCmRT9LQGFOJLrr/PX3P678x3/+\n",
       "76y4v/52NX/8k3+5UOcsi4yBWKf1bSghShILb+GbBV/giyt8nfGZ+1SDsYg4uQbC+XhWle7KWPbg\n",
       "W7VXEdrSfLqEG4WVXIcwS+s7zGZlw/oSmgFa4Ls+t2F9xwIiMrbx1RFfGLvW9gxv46ti2pPhRaMZ\n",
       "Xyl21clxtH9eMGl6soeecRI1p+iVWd5SnVmWgBDsNOwNJXRY3yz4Lr6WNTR3IA6ecbggxvGxgPYL\n",
       "ePYaXuBbtVeB0Zjmny9hr8ohQ0MHvsQ5dVK28eVlHLRwHtbnrvGVpUVZJe8X+M7WF29Y35goIgar\n",
       "RaPF+DS9yPuGLFW4ADLdWd84jFxbbsoXYWWcCgt6QH1Nt5TQgW8WfM/3dSnaLKMKzpW/Tp40hRwS\n",
       "G/Iql+PGeLL/kx195/akQlqxGUQX9+fo3jFezcvi1oPB6syDtJbaDxBqo/erOCitQQnHxrkN6xuv\n",
       "528QiX18hxHPDk5wjRa+bxotp6I6NFrgq/XQkXmQnklAB/h6rsuJJqPLrC6FbsuwMk1bjMPKidt3\n",
       "fRdK6Mk8bIVuqK5meWaAQ68mDutBDXIrAySd1nduz80q5iULepKDTudOxE+2l3ggBnkriNYlvtBw\n",
       "iccq/022E5Up8aViln11bgPfkHNQvEy45d4s8SXOb3Xf82+DMO+hgCqXNC9BLI1maLSMDijsSZy5\n",
       "ZxBO5TMuDV18SG6aFULgB/O+fjyTxXCaJVjK0lbCNut5iUs7cbaO6MAshvM9rfn1Lmgxl+q4wjYI\n",
       "7cN3bg/jtJzUqx/lTJRjRPJqulbqdkpjxJX1xdZWQYy2nC5VPQF8Ko9b5y4yD0ohFH3wqTYXHJgR\n",
       "cCjsT+uYGedhMqwUiPEM9nnfCeTQYzSJzOI5DY2W+Eog1su4VvhKoBVnQBd3OC9fmeo+kUDN0+SX\n",
       "8FV8A193s6D8ZZaglmVDCVsBvPt2TAxtTluQplFOZNrxT4X8pPAFBnylSgHZS3zLyEmD0vVN73rE\n",
       "WKq4hGXXDTJyJVLOV5xY85Bi2t3VtZuzbuyJNdux0fpmiBK3Tho3gLunqJ9bxr45aSw38fXcgvBq\n",
       "JFeV9bVjru7J+5bjvkuzo0SkGzrG+BzGEaK4BIEcDa1ZRTxewDctutldfLO5ZAc/sUtIbPThJTv/\n",
       "v/huVEfXt/AucsIakZBU69T33L5zfQmSznL7tXIuavGffUpElZdQ3qiTtXZyeHtmva9g9fGQnRQP\n",
       "dEpq9AC+1+bN8K2vvF+T5aTgFacby4B9cCX8IBvzA0zw5DqGAPQovsT6mVq5lJizuhz7ENt/Zjj4\n",
       "l/MlEADWtRMUNGI3eAHfFBxKcR79W0tq9AC+l+bNUgKih5eep8/81G5dheAVpwZtWt9lC8o5pr3Q\n",
       "7L4sBDc+d1wihdB22Djxrlta4sIOv/qjn6A3Nrp6K2NXnQyDk9AwdeDMLr/gvCznBS85JflV4597\n",
       "160MrI++K4V+brx6p/Ljm0Tpt9Vzyamiw8/jizY+d40ihnzxfQJXv7ODFBOHLqrZ2PDh3fAd4b+A\n",
       "77UQlH7xfcAJjzs7eG/WZWbbGz68Gb7lEPEpe5yN/Ivv3WXe2YG5zI6b0Wtv+PBm+BbG92Pw/Y37\n",
       "oz6Nb9rZweLrjnqx4cOb4qvp8Hn4nnnn7Itvj/WlusK3seHDW+HLRvaJ+B7YUeCLb69JiDs7eHyd\n",
       "t9De8OGd8JUTHJ7D98E/xsDor9um7/G/bRF2dpDAYOsyuGnQxoYP/34p/4iFQM3qDyjsN0Zv31KP\n",
       "wasE6v8A6sJhGksFoh4AAAAASUVORK5CYII=\n",
       "\" style=\"display:inline;vertical-align:middle;\" /></a><br>(see <a class=\"ProveItLink\" href=\"../../../__pv_it/theorems/86b3239604a2544ab121313472e49e4a443ee44e0/dependencies.ipynb\">dependencies</a>)<br>"
      ],
      "text/plain": [
       "<IPython.core.display.HTML object>"
      ]
     },
     "metadata": {},
     "output_type": "display_data"
    }
   ],
   "source": [
    "%proving interval_right_shift_bijection"
   ]
  },
  {
   "cell_type": "code",
   "execution_count": null,
   "metadata": {},
   "outputs": [],
   "source": []
  }
 ],
 "metadata": {
  "kernelspec": {
   "display_name": "Python 3",
   "language": "python",
   "name": "python3"
  }
 },
 "nbformat": 4,
 "nbformat_minor": 0
}