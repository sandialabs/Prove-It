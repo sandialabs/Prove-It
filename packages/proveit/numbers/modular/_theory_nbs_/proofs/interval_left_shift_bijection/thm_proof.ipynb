{
 "cells": [
  {
   "cell_type": "markdown",
   "metadata": {},
   "source": [
    "Proof of <a class=\"ProveItLink\" href=\"../../../../../_theory_nbs_/theory.ipynb\">proveit</a>.<a class=\"ProveItLink\" href=\"../../../../_theory_nbs_/theory.ipynb\">numbers</a>.<a class=\"ProveItLink\" href=\"../../theory.ipynb\">modular</a>.<a class=\"ProveItLink\" href=\"../../theorems.ipynb#interval_left_shift_bijection\">interval_left_shift_bijection</a> theorem\n",
    "========"
   ]
  },
  {
   "cell_type": "code",
   "execution_count": 1,
   "metadata": {},
   "outputs": [],
   "source": [
    "import proveit\n",
    "theory = proveit.Theory() # the theorem's theory"
   ]
  },
  {
   "cell_type": "code",
   "execution_count": 2,
   "metadata": {},
   "outputs": [
    {
     "data": {
      "text/html": [
       "With these <a href=\"allowed_presumptions.txt\">allowed</a>/<a href=\"disallowed_presumptions.txt\">disallowed</a> theorem/theory presumptions (e.g., to avoid circular dependencies), we begin our proof of<br><strong id=\"interval_left_shift_bijection\">interval_left_shift_bijection:</strong> <a class=\"ProveItLink\" href=\"../../../__pv_it/theorems/2de63ab0cc590bc6a4e504c4745613cef76a67bf0/expr.ipynb\"><img src=\"data:image/png;base64,iVBORw0KGgoAAAANSUhEUgAAAr4AAAAmCAMAAAAV82hAAAAARVBMVEX///8AAAAAAAAAAAAAAAAA\n",
       "AAAAAAAAAAAAAAAAAAAAAAAAAAAAAAAAAAAAAAAAAAAAAAAAAAAAAAAAAAAAAAAAAAAAAAAeYafp\n",
       "AAAAFnRSTlMAq1RmmUTNIjK7EInv3Xbz6eH5++XX8bMAKAAAAAlwSFlzAAAOxAAADsQBlSsOGwAA\n",
       "CY9JREFUeNrtnYmWqzgOQPG+gXub8f9/6njFC4YYQqqTqfh0FykeEUK+yJJsqGm6r0FjG5pe0zCc\n",
       "fll7qTk/p2FnBuk/Sip7u++yN3jhRYBf128QTN8W2hw55Yvs7X57eyM6ffH94jsh8In48nsV/fX4\n",
       "ysod4IdHvA2+k4AfiC9V0xffG72B1kvx6/LwiPfBV5bIfgi+0MgvvvfKLuDU86Mj3gjfKgn6EHyX\n",
       "3+h8fwpfAoxSlgONtJLvjy8z7MPw5b/S+f6Y9+Xe+wpiR+bl/fGdhPowfIFIw9yy8PNfZ832/Dfv\n",
       "bGz4UkpzSkIung6yIXy58WjoAXwv63Jd8ZJTNH8YvmvtXl2xm4b19kQj+v6LWWU+vJjCnJqSqz3F\n",
       "gZA7+ApjjIr4BigAjvsO8H1Cl8uKl5wyA4vd2UYQ3YHvjfLW2IE9gS9U9fYc+qcvQS9zraS2QHg/\n",
       "S6iZhcwyT+B7PnWVYl7xE+Ch95UoeF/62Puuuiil8ejwtDHCUXevUxNZ8crNLrjYjVcrUnYHvjfK\n",
       "S6OFma7jK2m9PdnoaUfDTKukMLEbYr9EmSfwVRfiUIqPvl3CKc3E+UStT2MFJnv4JmnueLkMd3Fr\n",
       "hL3uApiu92pWvMIX02I3T0Zi4pbg4UZ5KfSlT+CLUb3tjOZHHhbh86FOoySBIg4fqpL5YnzzELv9\n",
       "NlPUqOxoFXaaKV140+aILb7Ib9RoH2+McOCpH+GrTbk7ORgFb8H3RnlJSXAGX107hLnZdrTWoznv\n",
       "NXyVJCGaJLCSWV+MFott9DZ8SY431DM1BM36+IaBfTiq2RrhOr7Q8GI3it7n+UnCYO/75CUe1AN8\n",
       "KxPCyl9CWm9P40vRs/hafZY5dGEls7wYQrW81/sWX3kKX4j7gg0Oacmgj9oa4Tq++aR+9+zu+2VW\n",
       "N+F7n7y28BB7XGoNJFfZu9fdU/2GVb31YyTiR/jW4lWV93A6Y6a10BOxP4M22A66ZM1mNO/gi/wl\n",
       "5GAUNPiybojdwZcBpdlQOYQCexnweXw3M8pBmkz4omF8GyNcx1euJ/W7se9NIe/C9zZ5m0JJ6HFr\n",
       "AQ30hJe+haHoOM+0ZYsVhsURvrX4duXK4piwvUZirYn77MXXS+XsFFUNvn60NEsZ9QWZBb79JDfj\n",
       "m5IVMjOXBA1YVhp7R8gQbur5qU5twtugCwtDIjdjpcWOEQbwzYrXIdx6Ur+bgfRjeGQ6xPe8vAd1\n",
       "sxpfxNydLCeAdhyELu6cBTZbp/qsD/BtxMOm74X/3QivGE/z2f6joL3Kgx8tsd2Zi/1BZonvcerG\n",
       "5qCL9Fs84kxDUBoulJmnshBdOaKoy4rv2BjbMcIAvqyOErbRZNjt9EvGJMK7ZkJp2atswcr7G5Ac\n",
       "1JG9S3n10HuUqIJZKGz/2yYhpMKXV7UT1/74c6mayd9IRdi4xZXnwiHKCcFOYqURz02Dr1gN6JhN\n",
       "95bdIYNTkA2+OHSEKKK+IDNbiM9Jc9H1BjQeic16Bz4crGnRzxJQmAuJ7jx//f2Pa//xn/+7Gu6v\n",
       "v92eP/7J/9iYc9VFxkRs0Pt2jBA1iY338M2KN/jiCl/nf9YO02AuMk6ugXAxnjWlOzOWI/hW8ipC\n",
       "e5ZPp3CjsJLbFKb1vtPGfzbuiNAMUIPvLIZSt0I8mbv46ogvjF1re4b38VWx7MlwIzPjK8WhOTmO\n",
       "/s9rL81I9dAzTqLlFH1mlrc0Z9YlIAQHHXvHCAPeNyt+iK9lDa0dhkNkHE6IcbwtoD0Ar1HDA3wr\n",
       "eRUWnWn+9RT2rBwyNA3gS1xQJ2UfX17mQXXwIHvOYotvKb6t3jf4rt4X73jfWCgiJiePUWYxPi0P\n",
       "6r6hShVOgMxw1TeONc8tN+VNWhmnwoId0JjonhEG8M2KH8W+rkSbdVQhuPLnyXOmkENiU17latwY\n",
       "L/Z/cmDvLE8qpBVbQXRJfS4BOMaraVncuzFYXXmQ1lP7AULt9H6VB6U1KHEbRZF9fFvxSBziO814\n",
       "DXBCaNTEvmm0XIrdQWaBr9bTQOVBeiYBneDjuS6nmowhs3oqdWvTyjRtMU+bIO449G2MMFJ52Evd\n",
       "UL2b5ZkBDr2ZOKwHNcitDpAMet9VnptVzEsW9CInnb67ED/ZLqqsCfJeEq1LfKHhEs9V/ZvsFypT\n",
       "3StuQ81BHRTOWvGtv6AlvsTFrU6YfxqE+QgFVLWkdQli6TSDzDI7oHCkcObuQbiU97g0tPmQwjSr\n",
       "hMAvrPv68UwWw2nWoNWlb4R91vMSl37hbJvRgVUNF3ta9+tD0GI61XGFbRI6hu8qD+O0nNSbH+VC\n",
       "lANJ8mrGVup+SWPGlffF1ldBjPaCrppNvtRbpRBqwuvG+zbil+re4MDMgENhf9rAzLgIk2GlQMxn\n",
       "sK/7rlmgTT1mk8gs7tMgs8RXArFdxrXBVwKtOAO6uMJ1+cpS94kEap0mfwpfxXfwdRcLyn/MGtS6\n",
       "7BhhL4F3R8eqz+60Bek65USmHf9UqE8K32DAV6qUkD3Et8ycNChD3/SsR8ylilNYdt0gIzcq5XrF\n",
       "hTUPKafdX117OOvGXrBoO8qsL4YoceukcQe4e5r6uWXsu5PGchdfzy0Ij0ZyVXlfO6DqkbpvOe67\n",
       "MjtKRLqhY473YRwhilMQyNHUm1XE8xP4pjU3+2tvDpfs4Be8JiTKfPGSnf9ffHd2x9C3iC5ywRqR\n",
       "UFQbtPcq34W+BEnnuf1aOZe1+M++JKLKUyjv1MnWOjm9vbLeV7B6e85Rivs7Jck8ge9z82b41kfe\n",
       "n9PlouIVpzvLgH1yJfwgG+sDTPAUOoYE9Cy+xAaRWrmSmPO6HPsU239mOASh6ykQADa0ExR0cjf4\n",
       "BL4pOZRXSBQveFwoyTyB71PzZqkAMcLLyN1nfuptXYXiFacG7XrfVoJygekoNIcPC8GdzwOnSCm0\n",
       "HTYuPOuWlriw80/+6BfQG2Vunso4NCfD4CI0TJ345lBccF2X64qXnJL8qPHPPetWJtZnn5VCPzde\n",
       "vVP78ZdE6be1c8mpotPP44t2Pg+NIoZ88X0Frv7NDlIsHLqsZueFD++G7wz/BXyfS0HpF98XBOHx\n",
       "zQ4+mnWV2f4LH94M33KI+JR3nM38i+/dbX2zA3OVHTej13/hw5vhWzjfj8H3N74f9dX4pjc7WHzd\n",
       "VjcvfHhTfDWdPg/fC4+cffEd8r5UV/h2XvjwVviymX0ivifeKPDFd9QlxDc7eHxdtNB/4cM74SsX\n",
       "OL0O3xf+MQZGf91r+l7+ty3Cmx0kMNiGDG4atPPCh3+/lX/EQqDu7g9o7Ddmb99Wj8GbAur/AOPM\n",
       "YRovY0Q9AAAAAElFTkSuQmCC\n",
       "\" style=\"display:inline;vertical-align:middle;\" /></a><br>(see <a class=\"ProveItLink\" href=\"../../../__pv_it/theorems/a85e1cb5471513de5fe0f026d8027055e06561940/dependencies.ipynb\">dependencies</a>)<br>"
      ],
      "text/plain": [
       "<IPython.core.display.HTML object>"
      ]
     },
     "metadata": {},
     "output_type": "display_data"
    }
   ],
   "source": [
    "%proving interval_left_shift_bijection"
   ]
  },
  {
   "cell_type": "code",
   "execution_count": null,
   "metadata": {},
   "outputs": [],
   "source": []
  }
 ],
 "metadata": {
  "kernelspec": {
   "display_name": "Python 3",
   "language": "python",
   "name": "python3"
  }
 },
 "nbformat": 4,
 "nbformat_minor": 0
}