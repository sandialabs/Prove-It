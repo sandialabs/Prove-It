{
 "cells": [
  {
   "cell_type": "markdown",
   "metadata": {},
   "source": [
    "Proof of <a class=\"ProveItLink\" href=\"../../../../../_theory_nbs_/theory.ipynb\">proveit</a>.<a class=\"ProveItLink\" href=\"../../../../_theory_nbs_/theory.ipynb\">numbers</a>.<a class=\"ProveItLink\" href=\"../../theory.ipynb\">modular</a>.<a class=\"ProveItLink\" href=\"../../theorems.ipynb#mod_abs_of_difference_bound\">mod_abs_of_difference_bound</a> theorem\n",
    "========"
   ]
  },
  {
   "cell_type": "code",
   "execution_count": 1,
   "metadata": {},
   "outputs": [],
   "source": [
    "import proveit\n",
    "theory = proveit.Theory() # the theorem's theory"
   ]
  },
  {
   "cell_type": "code",
   "execution_count": 2,
   "metadata": {},
   "outputs": [
    {
     "data": {
      "text/html": [
       "With these <a href=\"allowed_presumptions.txt\">allowed</a>/<a href=\"disallowed_presumptions.txt\">disallowed</a> theorem/theory presumptions (e.g., to avoid circular dependencies), we begin our proof of<br><strong id=\"mod_abs_of_difference_bound\">mod_abs_of_difference_bound:</strong> <a class=\"ProveItLink\" href=\"../../../__pv_it/theorems/77091dae23c319aa18d892fe6b36ce42c24c19460/expr.ipynb\"><img src=\"data:image/png;base64,iVBORw0KGgoAAAANSUhEUgAAAdoAAAAXBAMAAABey5NCAAAAMFBMVEX///8AAAAAAAAAAAAAAAAA\n",
       "AAAAAAAAAAAAAAAAAAAAAAAAAAAAAAAAAAAAAAAAAAAv3aB7AAAAD3RSTlMAq1RmmUTNIjK7EInv\n",
       "3XZ/CtNrAAAACXBIWXMAAA7EAAAOxAGVKw4bAAAFGElEQVRYw91YfWhbVRQ/+XzJe+lr8aNiB90D\n",
       "Yf4xOyNKwTHjG6tTN8aCww100Dgnsokl/XM41jhE/3DaMC0zTrs3LEKpM2+6OjdYCRW/JpMgU6ul\n",
       "8KpDy8ZCiM5JBuL9eMl796XvI4l/ecpJXs89J+f+7jn33HMfwH9FafRnQ1wTP8MZ2mnPJq76XJOz\n",
       "cCNRgmm7MSHp/Xd+MbSnPZrUDBz0QxrlLvzPHe2jXb28N/6dYlNo/WpLaCcvuOj/Svkh/Pxs22D5\n",
       "lI23sOyK9v246Rlai+1uF/2wQvhFnNHZttEG4zbeOiVXtPw5rf68oUW0FRf9gEwYgxakttHG7LwN\n",
       "Kh4y+erZ2lOhNbShqpv+ecIBFJRw+9t2lZ23c56q1AM6XH+qNbRC0U3/acoXFha+aR/tZuqNW/G7\n",
       "xg48VbrJS5Va9TDdECpFOzxzoCm04d5FyVn/JOVHAN5uFaPKLB3ytjMdrbJ78i8ln/ZSk7f3kGIS\n",
       "p4n5JRxTmkGb38tfd9bvpzwMXFeraOX603cELf8ZBIvsiVKFmOYJLVnyDlrTPojDlqZie7cC3zrr\n",
       "30U5qjCT6ftk/RD+flmv0/753d0kOUPH4rB9iBUaaD8naINl6MDx5p9fwJRBqZmCTtVLJt9Gi12S\n",
       "TH4rwLwLWsMFNtgIcMNZf5SyX6sXqchiLikKcBpP2Ic/Xr99DDRVeIGMLhZATLNCK9pYFvIsMgR+\n",
       "UPJQpTaBGe3XwF9rKrbzEKo46+/UOZWoSQbQSokirMVhi+HAoD0Nmhb4kIxu+gMEMAtPDVwcSDKZ\n",
       "nNfgwYbjdqtiRSvOWnKlfgLRTOb/gUC5AW2DlQltBYJVZ/0+nT/aiz6mEqdBxD0NQnsZh2y01EPa\n",
       "LQRMnKAlaQtBaxYasR2naCXo9jPNeWcG7eWG2O4y54q5u4hqBG0FfKk7G2LFWjFo/8Zb3VH/fp33\n",
       "oyLF/xi5DpNkRQRuHKO+qlziydbV1H0EYETKSweRplkoMwV+Gk3WfzHIePTFo3Ij2sOmXGE6R6GL\n",
       "TH4c+mS5YfasFYP2ZngTnPU36+zDOStHCrCNoA0eJXjegP4QmYX26BmaGEqweBmlhllooH2N1uTe\n",
       "T4eX2GKygvSC/LsHF9+7JwliAuVsKbHLlCsMRegd4viVV3oz6Pcm59b03HsryqcrioMVNjiFO1cn\n",
       "L9/rTKuD2AX9uVxOEkXhMSz5CtYH9uRyh1HSTpPGMgjcNVS5GKFx3nZkwPHGNyKFs/4ijMEJ3EHM\n",
       "GrlioTmml+IqsAfttmiSLzpYGTc+ey9ckTKhfDq6VnmVhFAMPYlaWyjDbESlW/RxUkPQCnUjAStk\n",
       "um5HtEpUjRQiZZTsIwrZUXquWOg+Fm0VjsIhfHKMO1iZ0Np6wbeWYG3HxNKj25SoQvYtnJV5FX4O\n",
       "ZGmPhQ6bCZgCQCs0guNpCBk64oIWfFqkECiATx6k9UPPFUQnyMk5R8tUmkFbhl6Edh3ALQ1Wy6K1\n",
       "9bJPZ3q337DmY+Dewj3Nb+rExsgsvFRCwyg9Q0PP8QOpQ5L4UwZ8eDkMIeNy0gtatOrh2qrruWJt\n",
       "GrLLoEWxHXKwsqJdzssRnU00lcvphn7q+kxuTB8y7oQmIfPmR4Ml27c4GTSPKJoHmsB+xRfn8I6q\n",
       "5YqFDmBtSksY7ThCG5a48w5WNYMley/4EBJt31s9YX2vo7T5amOlvO6Z4RsglNBdZybxQwbqueJE\n",
       "x/8MfLFjpQozl9JerFr0AnHr1R/+F/QvFuj8efOkBwoAAAAASUVORK5CYII=\n",
       "\" style=\"display:inline;vertical-align:middle;\" /></a><br>(see <a class=\"ProveItLink\" href=\"../../../__pv_it/theorems/6b2f798fe571a02d01de3cbd90b1f3bb842aa67e0/dependencies.ipynb\">dependencies</a>)<br>"
      ],
      "text/plain": [
       "<IPython.core.display.HTML object>"
      ]
     },
     "metadata": {},
     "output_type": "display_data"
    }
   ],
   "source": [
    "%proving mod_abs_of_difference_bound"
   ]
  },
  {
   "cell_type": "code",
   "execution_count": null,
   "metadata": {},
   "outputs": [],
   "source": []
  }
 ],
 "metadata": {
  "kernelspec": {
   "display_name": "Python 3",
   "language": "python",
   "name": "python3"
  }
 },
 "nbformat": 4,
 "nbformat_minor": 0
}