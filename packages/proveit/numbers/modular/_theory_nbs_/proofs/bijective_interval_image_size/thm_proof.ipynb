{
 "cells": [
  {
   "cell_type": "markdown",
   "metadata": {},
   "source": [
    "Proof of <a class=\"ProveItLink\" href=\"../../../../../_theory_nbs_/theory.ipynb\">proveit</a>.<a class=\"ProveItLink\" href=\"../../../../_theory_nbs_/theory.ipynb\">numbers</a>.<a class=\"ProveItLink\" href=\"../../theory.ipynb\">modular</a>.<a class=\"ProveItLink\" href=\"../../theorems.ipynb#bijective_interval_image_size\">bijective_interval_image_size</a> theorem\n",
    "========"
   ]
  },
  {
   "cell_type": "code",
   "execution_count": 1,
   "metadata": {},
   "outputs": [],
   "source": [
    "import proveit\n",
    "theory = proveit.Theory() # the theorem's theory"
   ]
  },
  {
   "cell_type": "code",
   "execution_count": 2,
   "metadata": {},
   "outputs": [
    {
     "data": {
      "text/html": [
       "With these <a href=\"allowed_presumptions.txt\">allowed</a>/<a href=\"disallowed_presumptions.txt\">disallowed</a> theorem/theory presumptions (e.g., to avoid circular dependencies), we begin our proof of<br><strong id=\"bijective_interval_image_size\">bijective_interval_image_size:</strong> <a class=\"ProveItLink\" href=\"../../../__pv_it/theorems/2e4cac1915229faede1dc603d2abc99c59d5f8ca0/expr.ipynb\"><img src=\"data:image/png;base64,iVBORw0KGgoAAAANSUhEUgAAAlwAAAAmBAMAAADjFFgNAAAAMFBMVEX///8AAAAAAAAAAAAAAAAA\n",
       "AAAAAAAAAAAAAAAAAAAAAAAAAAAAAAAAAAAAAAAAAAAv3aB7AAAAD3RSTlMAq1RmmUTNIjK7EInv\n",
       "3XZ/CtNrAAAACXBIWXMAAA7EAAAOxAGVKw4bAAAHZElEQVRo3s2af2wTZRjHn/643fVu6wokxE1D\n",
       "zviD8YdQSMSIBEqcAzWDBtQESaQxogES7JCYGBdWFjL/YLoBIhbNdhgwgQErMDAusiwDwg8DDkMk\n",
       "giRdRGUMJtkygfFjvj/urndre7321uSeZNfrvc97997nfd/v87zvCmDGnCMjfsinuUWws30v4eOi\n",
       "kWFz7k5fntszz9a0gLtMP8/aA5crZG9cMN1WuOolm+PyiHbCtdrmtIA/ayNczmG745LF1R64imK2\n",
       "x1UTtg+uBsn2uDwx++AqQX8sPd0dzKLe2nBWjxntTR7Jv2lQg52s1HN12gfXIPoTCCfvimwGGleS\n",
       "1bA8Muo7eeTfbxtV2bBDrscOUFwExFOZcZnyyzEJvKPimmb4/rdO0s/ekQgwH56RwOOziit9lNlz\n",
       "Dh83K/UuUlyv4I8PMuMy5ZdjknpbxXXM0JEdkk+aEaYiRFbotorL4A7vKQ0i9Soorg24GY2ZcZny\n",
       "y80cIZO4QMbFTEHjUYA84xrQ4fqX4irAnSRmxmXKLzcr9GWJS9h9H2BxnnExwzpc0yIEl8sPUGBC\n",
       "6k355WbFsSxxueEPgPY846IlKq4GkUbGc1ev/mwmMprxyxGXX4eL7y/ddAh/qTuxvjf+Tm8Q+IXX\n",
       "8Jt1XFdxzfVDYOxwVXWsT/YumNQjanC1+imuBQA7zOAy45djxiyquCoIjJ54JSm4IHKDQZTxfB6G\n",
       "JuC7QJBxLYbibsBD0tuZNa7Kq9guKLjcSDeZU9CcHJFbV/FIIW8q9YrjFFcVsKnDcUyPK62f3OHK\n",
       "8aWUG4lcm6Q4JSf1Ki72ODq8AHOlCaTgW4B7wN2FK8gn4gmpkbEd3ENMUM2GrIyuatTafX6oTPZG\n",
       "Oc152pVHVMVAuDwSrsY0++GtNTRcXzwCsxGZgB4X9ZNffqUS1M60fUP8PCAfuRQdXociquBTnJzb\n",
       "AZYOAvN+XC5eHpTbzk7EZxEatJFFAe4jXNwAbm1rHHgZVwDYewIZDzvftYaragX6XAS4Q0ZbBX44\n",
       "8BNFGVeA4nLGiYL3dIIXZftflGyDJwXJLSXhkv2oPY6Z9USDRWHhgKTD5Uyx0+eI0evEydmEZ9ET\n",
       "AP8kj66NdLqfT+B6hHA5EaXixoYELnS75nXk7GjQGi7uVdT6M+qNtXYFGNRNwgrQ44LQHPz1tUGc\n",
       "ybgX4Nw9HhAgCZfsR+00+itHodUFtR9BRlyFkQQu11Yya5FyxpJxkSQamDuwV4uLjK5AYnQxyH/5\n",
       "66l2fgyEII12oXUB/4gmyklpl3uYLjN02gWHVpEeq8S4/sSnZc+sF6Ct/GJ5UIeL+LXM+QE34FGP\n",
       "5KVNCwSScfGH+3TL2Yb+UgWXdwvtWHd3AleNLjLy2xydcpmMC07gCVvQqGgXnodF5FTQz3wjIUgf\n",
       "GfkBlChPTqp4F2sa/KRKvRwZoRrfjBNbxVrgSdpeJny3LMXown78JbLA8172BvbQBczaiB6XC2HZ\n",
       "H27Q4bolXQOmGxdzXfRKLT/AqTlva1yLy3l3VydDy1YSXENQH4HVwJ4ExyC5vF9ZOGkSCawMhkJg\n",
       "kEg0wXO001txV/8nl06AL7V5V42cd4EDv7BXcnffAIaMmDII9KbAhf3cAdKDHr8rtISUHBBAj6sO\n",
       "eZVDva5dW2EmwBoJF09pJ1duQKVXjd2FAd3oWhh/egbdDnjw2JQHvqMPY+zrB1Hpro7rD3E7dv6C\n",
       "9b1Rjwsrg6EQGODa2ffZJNLpRQFlLY0f0+bXpalB7QaOG430GLhWRqNbEK6WghS4yMODXh9pg9s3\n",
       "MxqNihBrpzqj4OLGIQonoUfXrtN47/bZOHFa2k5jW82yRELYaDarT5l598+/FqbKYCQE2a8ZQb8I\n",
       "krS40CCZGAMuRkcXMzU576LzJuyZheoVQ6G4iahumZ+sRhKjC+FE6d3Wvdpn3oYuYDtlpw3zyb0d\n",
       "iX9nuDut4PKGSwpEWRkMhMAqrmO67cFaOjtJIH8eRo0OzegKNyyRWqBIehHlYUSy5bbopP4UNzQL\n",
       "r2Zi0EIuX3Y1JhIJqCpFSqnNMF3DKq6b2eHCObkLmjigymAkBGlwZVoXVCj1NmtxeX+PgAPd8xP0\n",
       "QO63MDjS4GJennoY6kVuYRzYr9H36eP6vvIl4XpjRh+eHNwpqCc9vbFfk3fhzdxbqG6pend+QMVV\n",
       "k92exz4yB1HwIcpgKARpcGVYF/DHlXqDqTaf+R+j2zJvPtN3aolGE0miYd6l6IonTaNwCPISsWXn\n",
       "ZcPr0/E0fWBhE+10AyFAdn1UdfLIdeON9iMPinI95k7Oe/VMih1iFRfTnT2u2VYW6NVCyE2VQSsE\n",
       "SAb4mFYILJoQyhmXCwxwwZrUt6gTSeBEkya6PWnxH7TwIu6/Om5QZdAKAZIBpAUaIbC6hSnmjCvl\n",
       "sFWPXMrpxEZUp3RdZ8mIMhgJgUWjMcgmv5E4PTa3MRICi9ZlJ1wzx+g+BkJgzbwhO+EqGKPfJhoI\n",
       "gTWrDtsJF38JbG38r5AVrnz/NvVjyda4POTtTf82Ne82BvMln7ZbOfkfQZpW3Wdw9qoAAAAASUVO\n",
       "RK5CYII=\n",
       "\" style=\"display:inline;vertical-align:middle;\" /></a><br>(see <a class=\"ProveItLink\" href=\"../../../__pv_it/theorems/e7124b7f720a7185c177d7c3775767f425d66c5e0/dependencies.ipynb\">dependencies</a>)<br>"
      ],
      "text/plain": [
       "<IPython.core.display.HTML object>"
      ]
     },
     "metadata": {},
     "output_type": "display_data"
    }
   ],
   "source": [
    "%proving bijective_interval_image_size"
   ]
  },
  {
   "cell_type": "code",
   "execution_count": null,
   "metadata": {},
   "outputs": [],
   "source": []
  }
 ],
 "metadata": {
  "kernelspec": {
   "display_name": "Python 3",
   "language": "python",
   "name": "python3"
  }
 },
 "nbformat": 4,
 "nbformat_minor": 0
}