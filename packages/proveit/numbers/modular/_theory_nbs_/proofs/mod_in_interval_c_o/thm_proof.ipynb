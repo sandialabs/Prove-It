{
 "cells": [
  {
   "cell_type": "markdown",
   "metadata": {},
   "source": [
    "Proof of <a class=\"ProveItLink\" href=\"../../../../../_theory_nbs_/theory.ipynb\">proveit</a>.<a class=\"ProveItLink\" href=\"../../../../_theory_nbs_/theory.ipynb\">numbers</a>.<a class=\"ProveItLink\" href=\"../../theory.ipynb\">modular</a>.<a class=\"ProveItLink\" href=\"../../theorems.ipynb#mod_in_interval_c_o\">mod_in_interval_c_o</a> theorem\n",
    "========"
   ]
  },
  {
   "cell_type": "code",
   "execution_count": 1,
   "metadata": {},
   "outputs": [],
   "source": [
    "import proveit\n",
    "theory = proveit.Theory() # the theorem's theory"
   ]
  },
  {
   "cell_type": "code",
   "execution_count": 2,
   "metadata": {},
   "outputs": [
    {
     "data": {
      "text/html": [
       "With these <a href=\"allowed_presumptions.txt\">allowed</a>/<a href=\"disallowed_presumptions.txt\">disallowed</a> theorem/theory presumptions (e.g., to avoid circular dependencies), we begin our proof of<br><strong id=\"mod_in_interval_c_o\">mod_in_interval_c_o:</strong> <a class=\"ProveItLink\" href=\"../../../__pv_it/theorems/632b21a4f1b5c6341f38f8321624f6cec65233080/expr.ipynb\"><img src=\"data:image/png;base64,iVBORw0KGgoAAAANSUhEUgAAASgAAAAXCAMAAACPgiLnAAAAOVBMVEX///8AAAAAAAAAAAAAAAAA\n",
       "AAAAAAAAAAAAAAAAAAAAAAAAAAAAAAAAAAAAAAAAAAAAAAAAAAAAAAACXHtMAAAAEnRSTlMAq1Rm\n",
       "mUTNIjK7EInv3Xbt5cmRiLwgAAAACXBIWXMAAA7EAAAOxAGVKw4bAAAEYklEQVRYw+1Y6ZrkJgzk\n",
       "vtEmfv+HDYeFhY27vTOznR8J802rbeNqUUiFgLF/p9mT/UnMFw1ydk/etX/Kx99tIGb7I03D2y5R\n",
       "P3vQLhGvWz4eCvkxnkSc7W/znNMxsOBT3m/Lh0TFCMpeHxxIvR/iNavGL5qPhVgws/1Clm00AozC\n",
       "L+ERUabEcch2wSAi4WU4cB2GlPUfCyglZ/uFNhG1YQJL9YQo2cIm+gVRiLRfIl6zyFoUHyMqnew3\n",
       "idLbCKQ0hxT4XJo58eFbbIgtXIgaSChZiFet3KfVfE6hzGy/S1TMRxLSGNUGwiqithYnbhMXogYS\n",
       "EoV4zabKek7xc5kXZ8ssj2CPJcuZpCyAh7LegG8uBwWAalqUGBwlynAA3kcdOdGxhWJVAgISJa/i\n",
       "hUhIFOI1q1pl4cPXBv1Csu8eTNNUZz4VXfU0E3L1toykuCtrfrqmvL5yGVIbCCEqbIWRsDVtliRI\n",
       "V4tTJcBusRMFl1VvICFRiNes5fhxas6c9F3kaBQ39Af8bfc9mCNcQjWLyYbUVt9MUZt6bb6Np8xj\n",
       "3odWvnpzXvW62KTmlSCyZ9gbouLZ2wMJiUK8bmswLSsxjlAOuK85AKzciTYuiTq6s8G8LD+qz8sp\n",
       "1kC7VVtjjb7s2yttJJUdlJNyI/Q4CIQoZUbn0vOYty4ppflz6sUu3JeIOpCQDsTrVsCNlKe93Fdq\n",
       "/wLlj8kAa6IS3R1wO25t9iVRyZ9GPoiCnSixPywh5q5ENYp151InUofelQddo8RVzA8kJArxdmva\n",
       "zDf0KCHiuIpTwAMteBtRENQ69fbuHTn2DGmxLF6lXo8RubF7okZEqVVEtYeqS5wgCZzviOro8loe\n",
       "HEgj9fJko9gXiFquuhEAkAMDRaempp71dKfg6b6idVe+tl/lXxasiptPdaUHakNzjxsm7B1RLKme\n",
       "LMX9LoRUo2qHrnNl9NQfuCs408jYMBM1kIaY+8naxDHHam4Pd2WTey0JUcrPFS252LvTXZcjOku8\n",
       "5ZOtfIms6AJqKFG6+lRT2MTmax0DJ2s7L1+9OlUcuFNZbmFqKIcKWZY5+uBAQqLOlQx3h2oAp5qj\n",
       "eBl8ixEveupFLdZE7d2pPvTU204OuzzZwCE6y2EonONb4k748smi2apyWBUj784H1eqoPNwMPI69\n",
       "UKZKF7jXYUVUhehDzpmW4gcSEpX1Apf1EsLLsL+8dX1xkVGN0jqGJVF795p6f/3tW+qtxZzhmdDN\n",
       "2dA3TqROuqSjX2xhpoon3B+zHHhnXJaqRGlZqq5KTmG75eZRi/by4EbMsTvZaDed0JcSbdpr/ond\n",
       "9vPzqMheEXW7e9dKCoiyikItjVXXQ+vd2DwVnQhKmeWqp1A+SZVfT36uJbq3s/2pgHp7AHImalQ6\n",
       "S6IQ7yUu1ZUQayYtDwdXEOLtSSNqWPjZo533vJ+JglcnnI/mUz/c+q1G+uBQALfAFn6QJ3gfn/Hu\n",
       "zBzc9RLxXuI+PVJbECU0+79dQ+O/MtB/AA9rKg1xd6P8AAAAAElFTkSuQmCC\n",
       "\" style=\"display:inline;vertical-align:middle;\" /></a><br>(see <a class=\"ProveItLink\" href=\"../../../__pv_it/theorems/9029859caf0a96a7af5e432632d8173d89e90b110/dependencies.ipynb\">dependencies</a>)<br>"
      ],
      "text/plain": [
       "<IPython.core.display.HTML object>"
      ]
     },
     "metadata": {},
     "output_type": "display_data"
    }
   ],
   "source": [
    "%proving mod_in_interval_c_o"
   ]
  },
  {
   "cell_type": "code",
   "execution_count": null,
   "metadata": {},
   "outputs": [],
   "source": []
  }
 ],
 "metadata": {
  "kernelspec": {
   "display_name": "Python 3",
   "language": "python",
   "name": "python3"
  }
 },
 "nbformat": 4,
 "nbformat_minor": 0
}