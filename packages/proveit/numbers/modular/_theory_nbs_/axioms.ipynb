{
 "cells": [
  {
   "cell_type": "markdown",
   "metadata": {},
   "source": [
    "Axioms for the theory of <a class=\"ProveItLink\" href=\"theory.ipynb\">proveit.numbers.modular</a>\n",
    "========"
   ]
  },
  {
   "cell_type": "code",
   "execution_count": 1,
   "metadata": {},
   "outputs": [],
   "source": [
    "import proveit\n",
    "# Prepare this notebook for defining the axioms of a theory:\n",
    "%axioms_notebook # Keep this at the top following 'import proveit'.\n",
    "from proveit import a, b, q\n",
    "from proveit.logic import Equals, Exists, Forall\n",
    "from proveit.numbers import Add, greater_eq, Less, Min, Mod, ModAbs, Mult, Neg\n",
    "from proveit.numbers import zero, Integer, NaturalPos, Real, RealPos"
   ]
  },
  {
   "cell_type": "code",
   "execution_count": 2,
   "metadata": {},
   "outputs": [
    {
     "name": "stdout",
     "output_type": "stream",
     "text": [
      "Defining axioms for theory 'proveit.numbers.modular'\n",
      "Subsequent end-of-cell assignments will define axioms\n",
      "%end_axioms will finalize the definitions\n"
     ]
    }
   ],
   "source": [
    "%begin axioms"
   ]
  },
  {
   "cell_type": "markdown",
   "metadata": {},
   "source": [
    "#### For positive real-valued modulus $b$, $\\text{mod}(a, b)$ is the non-negative remainder $r$ when $a$ is divided by $b$ in the usual way, giving $0 \\le r < b$. This means that there exists a unique integer $q$ such that $a = qb + r$."
   ]
  },
  {
   "cell_type": "code",
   "execution_count": 3,
   "metadata": {},
   "outputs": [
    {
     "data": {
      "text/html": [
       "<strong id=\"mod_greater_eq_zero\">mod_greater_eq_zero:</strong> <a class=\"ProveItLink\" href=\"../__pv_it/axioms/1a195c26e09fcd51ce04d011e4569812c42fa84b0/axiom_expr.ipynb\"><img src=\"data:image/png;base64,iVBORw0KGgoAAAANSUhEUgAAAPEAAAAXBAMAAAAo+LSlAAAAMFBMVEX///8AAAAAAAAAAAAAAAAA\n",
       "AAAAAAAAAAAAAAAAAAAAAAAAAAAAAAAAAAAAAAAAAAAv3aB7AAAAD3RSTlMAq1RmmUTNIjK7EInv\n",
       "3XZ/CtNrAAAACXBIWXMAAA7EAAAOxAGVKw4bAAADhklEQVRIx8WWSWjUUBjH/81sWWbSIqiooAHB\n",
       "m7YH7UGsjlj3g4OiBxVbQRAXdAQv4kIV8SI4o1IwVTSHQRDRCe6tKLUiFEToQagohbigRXAouCuC\n",
       "73vvzapjM4L4wZdJ/snL733LexngLywi3Ycla5JHtRfSfdiG6nIDnUytCay4wqvauwd01M8MAGbT\n",
       "L3dvv0pyeSFdbK6JfF569Wp85D/hODtsFUOKEwhb+iCXD9KT6ZrIC6RXN0Gut9hhJj/V73j5ey1A\n",
       "N5fDDmBYNZF7pY9GbmOvRtSRFeiR944DjQ7JAZaHcG1lbhc+KvkOT24+zy0S/QFIWVx+NDT0sCZy\n",
       "0BWOyKQ3lEN1++Lc2VCuE8jkqGuMu8OCvDE3hl015MdNW8zzTuQmLi8Bunzwir1M0+WRrE9q30iI\n",
       "jUFqFuZAHYTmQe+Dwcn6JyebRKCYnTUTabrfGdnj8i5EGnyQ44WzmCVcv4/gAAlaL+rTSHXEXKhf\n",
       "oLXL3la+IepBKXbEmq482eWy5hiJEsL0G/N30O8R2e/Ks03jvDJyNCE8OIIYz4SWRr3LyKx8+I4s\n",
       "C5uTg+0kqyOFbI/nmWDkNo/LildoMPW5nTAN3KT31dHh2IROeK6x97fkaBrZRJ7sMXIju/pKqRRk\n",
       "Nq02C6F8zC3LCh3WKOX2ufl3tnawTcfEbIoxys6DrAfgeYHLuNb6uDVRkW0W3DyUkinmD8WY2XJe\n",
       "4UAZqFhVNjBPyldom7k496bY6Rj5LcWXyk3ES3CymSmLmXUR96yFcUqyhByNI/QR4bSsc30H6wQE\n",
       "0hU7yRxgkZT3sQbTB9XPuEA3TCNylmbwznml80Geu+dlGZkWBLnmKY+DvNkFOaH2I+wi8gB170mu\n",
       "a9Licv2V7p4xS++Xch3lNa72YhUnB09z4Ek0h/jj3tLu8t5WB4Trk2/tGqbrKfcOnbtn7HyG3bfH\n",
       "suvM3eEftFr0SbTFxhIVi0Rf/ryjRI4mzAY027ZtmaaxkpR+zA9sse0TLNvXrbL1jCfSfdn+UeRs\n",
       "UpvtHOUxm6F1tNWOoE91RZ1X95SPmln4EPj8vPxJjiZTqxzN4XVGT1x38ZT1QJeos5EpH6Ulhfv6\n",
       "+yK2hUtDZE8qZWahBTOuInKKNprXbmaR2ofDOWAPK0hoxza9tfz7QJ2n+/ywVplhpXzRtmXhFYHo\n",
       "tjt/N+6AdB/2piaZ2Vr8L2v694ifWAESwLc36nsAAAAASUVORK5CYII=\n",
       "\" style=\"display:inline;vertical-align:middle;\" /></a><br>"
      ],
      "text/plain": [
       "<IPython.core.display.HTML object>"
      ]
     },
     "metadata": {},
     "output_type": "display_data"
    }
   ],
   "source": [
    "# a mod b ≥ 0\n",
    "mod_greater_eq_zero = Forall(\n",
    "    (a, b),\n",
    "    greater_eq(Mod(a, b), zero),\n",
    "    domains=[Real, RealPos])"
   ]
  },
  {
   "cell_type": "code",
   "execution_count": 4,
   "metadata": {},
   "outputs": [
    {
     "data": {
      "text/html": [
       "<strong id=\"mod_less_modulus\">mod_less_modulus:</strong> <a class=\"ProveItLink\" href=\"../__pv_it/axioms/bbe843fed0d6b8641a75bd3f83bf4745b918f3fc0/axiom_expr.ipynb\"><img src=\"data:image/png;base64,iVBORw0KGgoAAAANSUhEUgAAAPAAAAAXBAMAAADHOt+bAAAAMFBMVEX///8AAAAAAAAAAAAAAAAA\n",
       "AAAAAAAAAAAAAAAAAAAAAAAAAAAAAAAAAAAAAAAAAAAv3aB7AAAAD3RSTlMAq1RmmUTNIjK7EInv\n",
       "3XZ/CtNrAAAACXBIWXMAAA7EAAAOxAGVKw4bAAADsElEQVRIx8VWXWgcVRT+srOzOzuz2Q2VFloh\n",
       "XfChL8bmoQYsUrY0xkooXSz6UIuJGpBEaVfoS7HWKKU+CN1QTXWipFMIhZLSjBoNSWhN4oNViaxY\n",
       "qbhNmf6goLiEYNsYQXrOvbOzmWTX7AaKB86dM/fOvd8953zn3gFWIWFXK5B02QVWIzdcrUCeL9mr\n",
       "OkAdGw9VhRuwpZaT2NUUP/SPs2Q3Lh09O03NTeAJfnm5KuAzrpaVNwUwQklqupaNdvCQhbc45D1V\n",
       "Ae9wtazEJXA8Qc2WZaNzpEqSsWEkqgKecHUl4DZaGlGrmCIRWHWB22+hUBJC1aW4XeqKwBdEvL0k\n",
       "K5fFHowsty8B0zMz31UFHLSl4rWLR/hde/XJfL+a7wUG8syY8XxGAr+QX0M4dQXK5aTvofrrFOBP\n",
       "gJ1AXwVwRRazD6zq1zgl1qpdg8yjeBzaFUQcnEvgS8nqO9ZQGoobm8Fr7vShLv0u0ET7RriuAuCk\n",
       "Z9UmpJ5rxC7REZlAvAeZ7lob2jxOFlgdWEDUQUCy4eCPhembLXwPPEzTLCO1CKDhi+37+XnMZXog\n",
       "17HO8QFHU1J3AzkJ3IO4TcAZ2s0/+r/klFgw2M7d2izbNS9601voIyBDKzset7TrZipmYITDWsPN\n",
       "8fW9cGzj9ZLA30C/7QE7BLyZOv/WPGAKQFsC6sQS4BxUKqh9ZLVvK/Q1dxMHYtjKHkbJDlL+4TjK\n",
       "eQw3X25O+UNNrimzPmD2+K+ix1TGuy0EsktCPYcgFVQDWZ/y4TK4bUQebwT8O3uXyW/gg42BYwM+\n",
       "j4lArPocato3LQaOJqHeRmchx/Fu/Ssqop4l5JpncuAxsg4Tt/Qr2l2cFaw3wv28gT+tW7qY49iH\n",
       "bvqAuUBY+9GQFL0hCZzSLiFk43AKG0Xt1jRGkm7hsZy/JsvpAbxPbSt/wEFNahPYI4CDHwm899Ck\n",
       "ivnOU6N+VmtZqaf/eKe+m983Tr59atI4kMPB8bXkQ2s+84Mopwf5XK31mKvIQj49zMv+5BEmVocm\n",
       "0zQTsZjxNPdcwnal0zRPUKg/T/jqGD+7WpG8UTSV4l0UzhaqOh3Zar0rPI6pz/HOZjGl2TLHz4z5\n",
       "19pS8uz/jxulxOlXOEij6cweK2KJHGMsqdv4hVjRJ3NsDPhnRdJSK/pZKX3xHfJ+CXY88hnCH5L1\n",
       "7K/2QIs2haN5GqYUqvtf0Zv9VwKTTq/wJi2zwQ/8r4Om6VIhIBFGzd5S0464WoH8VvofpWy89uJ/\n",
       "ksb7jnAPRVMFAuEAkfYAAAAASUVORK5CYII=\n",
       "\" style=\"display:inline;vertical-align:middle;\" /></a><br>"
      ],
      "text/plain": [
       "<IPython.core.display.HTML object>"
      ]
     },
     "metadata": {},
     "output_type": "display_data"
    }
   ],
   "source": [
    "# a mod b < b\n",
    "mod_less_modulus = Forall(\n",
    "    (a, b),\n",
    "    Less(Mod(a, b), b),\n",
    "    domains=[Real, RealPos])"
   ]
  },
  {
   "cell_type": "code",
   "execution_count": 5,
   "metadata": {},
   "outputs": [
    {
     "data": {
      "text/html": [
       "<strong id=\"mod_is_remainder\">mod_is_remainder:</strong> <a class=\"ProveItLink\" href=\"../__pv_it/axioms/0ec40755491802eb15f0514dd75c6c3d4fefbf710/axiom_expr.ipynb\"><img src=\"data:image/png;base64,iVBORw0KGgoAAAANSUhEUgAAAY0AAAAXBAMAAAAFAw5zAAAAMFBMVEX///8AAAAAAAAAAAAAAAAA\n",
       "AAAAAAAAAAAAAAAAAAAAAAAAAAAAAAAAAAAAAAAAAAAv3aB7AAAAD3RSTlMAq1RmmUTNIjK7EInv\n",
       "3XZ/CtNrAAAACXBIWXMAAA7EAAAOxAGVKw4bAAAFNklEQVRYw9WXa2gcVRTHz75nZ3Yna8WCFuKC\n",
       "UAVNu0IMWKRuSayKlC5W/aDVrlgQq9SJ+qWoNRbRDz52UVPdVtItBCFWs1ubWhttSCOhrVqJUmkx\n",
       "LkxascHSJVRra4viOffeeexkJpmWgHjhP9m5czJzfveccx8Al95OH5vpacyjXxOa3Vrz5YVmSa11\n",
       "XQYG7J7x6XH3bjXN5WgR3dXSR3vEJiUHKeq77hI5VtRqtVH3h8Gqe/+NQrbWdxgvJ1wtPVOBfVX+\n",
       "YAxxM5aQ4w568PhlxMNj3D9075bzXA1tLSpadrH0Ttqz7E80i5d1lpDjZXpanDuOdvfucIaroZ1B\n",
       "hbLiZpXN0rtxjiZKvVZLyEHjoaTnjmPYvTsh1FAbF+j6tbhbZLOcjWMNBTFRNoUcIcSPwpxxBD2y\n",
       "YqGQvSljdH3MwbHQB8c+llwZU8gBh2u1b+aOI0xl3jm00dl/j1CseXDS6Is2T2Ai7HRwMKsFJ2ke\n",
       "k566s94TqXcD9NapjpWhSc7xaH0e3qVMEcddAFt8OF/1x0EDFDkA2yjw4RprKWPUSQ9rgSnDtrJO\n",
       "PgfQ5uAgq9VanOVcch4UboHbQDoKcR3kEVAYh/xnuaJBCEMvRBydEEv54MjaOVrQvRGrI3BoYKt4\n",
       "nsQR/jgDK5z//gOX/BUEzMxbXIbvAG5ycHCrMMu5+DA0FaHQlayCdB7ieTFfBS9AQocglqIQccTL\n",
       "dDVby2fL1tPfV8UcFhxfO193ctjiIU2UcklN6RfTZwLftRJg3MkxyhWegiRFtkIwywEuAhToMS5I\n",
       "39Zq30OjFcSL0FRFjkKaTCsYEsYRzlO3hIEVIoKgbpY5+aQqsIfeEaDLW1d3g15Vnp+BowO3BCHY\n",
       "9CxYHIfE51w4EkV4iUYtSa8bhwjOvKsd8eBWlZzBoSPHYrz7CwoGB0KuSUMEYyHEIpFfanyMfFJV\n",
       "WELjn8DfYawd0PVQPwx0HOnIOTnkXSdyKp/tswYm5pX8D4RYDdjrQ+QVDunttuUjjFXQMj2vTCuD\n",
       "g+LxhxUPXD5WliGIqSfEOD6lRXHH0j1shSeO38ipQv0avmfQdbXXPR6faAWtj/0OPWNs1Kgcz2AN\n",
       "XO+IRw9XJQ2bzb7zVElwq4ODW80PajaORBYiZyFaFPXR1IUVBKGiKcbxAg6YfFQ6B8wnVYn1EM/p\n",
       "8i8yKxG9uuGEO0cHvCFW4X7FXBNS5ElLNuvg2MkV10MXzb4r4V0xz9o5mFXwSJjNfpwjJx2EaBVi\n",
       "oxD4nc0rmXiWT/FCjCNAGZSVhrlPangrc/8daIuwnNHv3jttvuL7xFGYgLZSqZSG6iB8JEoMA739\n",
       "1GvNzo30m1xy83GrdLYP0Ad+dHAwq887aZWRrt2/adt+5elxeO6Lq/C+d2jyb8pSeQHtfpI5U+ZM\n",
       "lcipKe6Tqir3Us9BWBZ6olR6G/Nqd9pt/QCc/HvgdbbBuCEDg+Khx9kk2cUlSse28xtzcCT9niVe\n",
       "tGRyVLT4kjLzSVUjD9EcOgUjUpXXx/2D7uePAzSnk60ShojhTqv7R2k7yLaEgfz0DWTDPjGU9cnR\n",
       "bsmKh1ZYVWY+4bw7mJWr8BOWzxZeH0qvO8d9rVMQex9/3HzFqc3GWhr3OM29J5RwnE82uFr6aLRJ\n",
       "N2RyRNoX7eI+PfBrtXe5NAKv1PEbGOLI+ifljrz7eZB2BTtKpVzD8cHjDNDHRck+i9d9/jhowAw1\n",
       "rOR2n4Lcp72lbpc37Dtm3xQ620aP4dO5nIdYzdXSRztpSf0552H0oK9XfekzBf67loH/WfsXBtqw\n",
       "iDAvfy4AAAAASUVORK5CYII=\n",
       "\" style=\"display:inline;vertical-align:middle;\" /></a><br>"
      ],
      "text/plain": [
       "<IPython.core.display.HTML object>"
      ]
     },
     "metadata": {},
     "output_type": "display_data"
    }
   ],
   "source": [
    "# a mod b is the remainder after taking out integer multiples of modulus b\n",
    "mod_is_remainder = Forall(\n",
    "    (a, b),\n",
    "    Exists(q, Equals(a, Add(Mult(q,b),Mod(a,b))), domain=Integer),\n",
    "    domains=[Real, RealPos])"
   ]
  },
  {
   "cell_type": "markdown",
   "metadata": {},
   "source": [
    "ModAbs captures the concept of the arc-distance between points on a circle.  If $b$ is the circumference of the circle and $a$ maps to a point on the circle by traversing an arc-distance of $a$ from the origin then $|a|_{\\textrm{mod}~b}$ is the arc-distance of that point from the origin (the shortest distance to traverse between the two points in either direction)."
   ]
  },
  {
   "cell_type": "code",
   "execution_count": 6,
   "metadata": {},
   "outputs": [
    {
     "data": {
      "text/html": [
       "<strong id=\"mod_abs_def\">mod_abs_def:</strong> <a class=\"ProveItLink\" href=\"../__pv_it/axioms/b3417ae12c35839f49b23406fa037af6159646190/axiom_expr.ipynb\"><img src=\"data:image/png;base64,iVBORw0KGgoAAAANSUhEUgAAAcYAAAAXBAMAAABjWfIkAAAAMFBMVEX///8AAAAAAAAAAAAAAAAA\n",
       "AAAAAAAAAAAAAAAAAAAAAAAAAAAAAAAAAAAAAAAAAAAv3aB7AAAAD3RSTlMAq1RmmUTNIjK7EInv\n",
       "3XZ/CtNrAAAACXBIWXMAAA7EAAAOxAGVKw4bAAAFrUlEQVRYw91Ya4wTVRT++p6ZttMGE6JiliYm\n",
       "Gh9oTQwJxKwlrKAhQpXoDyVsEYzhIZn9YeJGhEJ8/FDcBiVaxGWIGyNBt0V5CImbskJ8BVkMokKI\n",
       "s4KyaFhWCIK84rn3Trud7bTMwA8T7+bMTqfnuz3fed3TAlexQvRnLg1Xv7RrUNac2YlhS12uXxFO\n",
       "m7dbrp6imrgG5dlOQAFDSJy9uNmVcd6iS45tv5TYv737tCXJ4ad3NECc2M2uytq+espqsjEUG/bQ\n",
       "5YiQB9iDZ1xx/ABu49h+mi6+sRpaU5VnSqZRlp3h/4KpusoLrgDFPIbXuSxnj3OuOE52zbH7AHP9\n",
       "DB3K8DN/shFCGBpL1FW+9wpQnGJuTXFhVMMJVxxL7jmepB7xMnGsWhFcmWOrXlc5ojeGBs6z6zdc\n",
       "fOShoLtyzLjnWCCHGlaOtzjg+Hl95WCyMTTMS3mukD2HD3/riqO/KDi29Sx1zNFDsU/O0EOL4tKi\n",
       "qYNN7Nk0ViRjjhns/pVdS48bs4+noUw/SjuHewaEoXMGR4kNplUXHAeF4+JVPWiwqZ+ycxO4PAis\n",
       "cWBm0eJB4hj4Euv0Bhz9h/nipnQHTsGrUxyDcURHoUMzXTxLk3lKYV9COp32lbBSQyeUXoS5ocrf\n",
       "ekEchHOrNhYgX7kL2UNRWKCcBcaDSxtCcQcchxtiNME5fpTEw47jiJ+hgjjKccglxFiefU8cvoBf\n",
       "nA5rgX8gncMhoCMrZ8zm6D2PCI8zU670YwHylszX9lDcreM74E5wkfVKcbE1buukxTwHzF7rPTRv\n",
       "tGHhGElzjjPAtnXK8aT2XJljDjG2IR1j/iFERX7kgQtkqETNMFYsGFC4of4MveLvk7LyLM+LrAmS\n",
       "hsy97aGYwh6jA1y8RqXlSP35tBrGNravh13euGE1jGL4BTuOX/PdnHIsFI1ajpEcCumyoZfJUC/t\n",
       "GMt1lA0lLq2JMsfKxwtQoDTM0QZK/qf6wCwIyTSX4S1ZOsVUTGQmROjeT7UKw/B1Y3PL/pa0JVeV\n",
       "y/AN1XBUe8lT82vrkTI0OYIjpR95/X6LoTwYqUow6Hg0e3FVrpogbx8aQel49FPVjoOQT9jIsLF5\n",
       "m5iPiOMfLGYdgzfyUYg4ql2WOMoG53gKnsytNXF8imSMTRwDf+kjOHaSuQmM9mpVhmIXnYnpYM4s\n",
       "qliWio+PDZ1VHAXIl7NyHAHFOdYwMAFClpCrlR+ls9jAIxEOdTKuJ/SjCt/GKLYfsXBkXZtytRPj\n",
       "UqkajqtIvqrh+AgotUGzHBEMmhw3MW959/u5wnxu6Bm8nsVChHbDw4Y/eJJyCoWMUB52MQf5y43e\n",
       "Horr8JZ55jDxsKxMSSXM5Bz973Jqb2J8gB+zxkPbrX1V6uMc1//5alMWW5T3VvS/f08aavMOYLCZ\n",
       "4ihd7h8xg7TvnYvf0L93zvM37fxw7M4V63bSw5Xk2abP2gaYwvKL1992Mb71UjE0bROVRFfPwCWW\n",
       "48oYGhujB4Vypa8KUNQsnTpQrN/MrP/BFNFH1DjG5/P5hKqGHwUPxiTf/Hx+FeXqloTlfMRPljln\n",
       "WSKYo+JYjY+Zb6ke1YNqykEfimYdzhy32yq/6OgLZJ8QkeSaPFF/jcdRDTzJwjCEXqko6vGxHTXj\n",
       "cDVHXS5KJWrlsrFMZ/UoJ30ZB5/vSznkWLRVnuxoJEtWjfMRrWOmLuu8HrEjpRRxkIp6jajHcJcV\n",
       "KWsWjvAYUokGDU+qlfecSNbvZKjA284oKoadsrOvSu2miCl98l2fIvQO3T3+e7FritSLlwbpbcqQ\n",
       "wOKFSos1LtSLajhSHINmHGOIOPoes8HhLwC2yrLm1I0jvLMxnzdt9woy2/Or7aBLoZbrY4A4ysSR\n",
       "yC3RPckQ1WNUn+DsVyHDzU9II5SPOXKPJsR+PeH4w5WxqfuebruA8OBUoKf5QBbSdDfG/3crif/R\n",
       "+heW7BCOW9xYOAAAAABJRU5ErkJggg==\n",
       "\" style=\"display:inline;vertical-align:middle;\" /></a><br>"
      ],
      "text/plain": [
       "<IPython.core.display.HTML object>"
      ]
     },
     "metadata": {},
     "output_type": "display_data"
    }
   ],
   "source": [
    "mod_abs_def = Forall(\n",
    "    (a, b),\n",
    "    Equals(ModAbs(a, b), Min(Mod(a, b), Mod(Neg(a), b))),\n",
    "    domains=[Real, RealPos])"
   ]
  },
  {
   "cell_type": "code",
   "execution_count": 7,
   "metadata": {},
   "outputs": [
    {
     "name": "stdout",
     "output_type": "stream",
     "text": [
      "These axioms may now be imported from the theory package: proveit.numbers.modular\n"
     ]
    }
   ],
   "source": [
    "%end axioms"
   ]
  }
 ],
 "metadata": {
  "kernelspec": {
   "display_name": "Python 3",
   "language": "python",
   "name": "python3"
  }
 },
 "nbformat": 4,
 "nbformat_minor": 0
}