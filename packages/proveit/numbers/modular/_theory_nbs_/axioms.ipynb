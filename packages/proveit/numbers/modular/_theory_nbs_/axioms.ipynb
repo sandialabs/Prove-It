{
 "cells": [
  {
   "cell_type": "markdown",
   "metadata": {},
   "source": [
    "Axioms for the theory of <a class=\"ProveItLink\" href=\"theory.ipynb\">proveit.numbers.modular</a>\n",
    "========"
   ]
  },
  {
   "cell_type": "code",
   "execution_count": null,
   "metadata": {},
   "outputs": [],
   "source": [
    "import proveit\n",
    "# Prepare this notebook for defining the axioms of a theory:\n",
    "%axioms_notebook # Keep this at the top following 'import proveit'.\n",
    "from proveit import a, b, q\n",
    "from proveit.logic import Equals, Exists, Forall\n",
    "from proveit.numbers import Add, greater_eq, Less, Min, Mod, ModAbs, Mult, Neg\n",
    "from proveit.numbers import zero, Integer, NaturalPos, Real, RealPos"
   ]
  },
  {
   "cell_type": "code",
   "execution_count": null,
   "metadata": {},
   "outputs": [],
   "source": [
    "%begin axioms"
   ]
  },
  {
   "cell_type": "markdown",
   "metadata": {},
   "source": [
    "#### For positive real-valued modulus $b$, $\\text{mod}(a, b)$ is the non-negative remainder $r$ when $a$ is divided by $b$ in the usual way, giving $0 \\le r < b$. This means that there exists a unique integer $q$ such that $a = qb + r$."
   ]
  },
  {
   "cell_type": "code",
   "execution_count": null,
   "metadata": {},
   "outputs": [],
   "source": [
    "# a mod b ≥ 0\n",
    "mod_greater_eq_zero = Forall(\n",
    "    (a, b),\n",
    "    greater_eq(Mod(a, b), zero),\n",
    "    domains=[Real, RealPos])"
   ]
  },
  {
   "cell_type": "code",
   "execution_count": null,
   "metadata": {},
   "outputs": [],
   "source": [
    "# a mod b < b\n",
    "mod_less_modulus = Forall(\n",
    "    (a, b),\n",
    "    Less(Mod(a, b), b),\n",
    "    domains=[Real, RealPos])"
   ]
  },
  {
   "cell_type": "code",
   "execution_count": null,
   "metadata": {},
   "outputs": [],
   "source": [
    "# a mod b is the remainder after taking out integer multiples of modulus b\n",
    "mod_is_remainder = Forall(\n",
    "    (a, b),\n",
    "    Exists(q, Equals(a, Add(Mult(q,b),Mod(a,b))), domain=Integer),\n",
    "    domains=[Real, RealPos])"
   ]
  },
  {
   "cell_type": "markdown",
   "metadata": {},
   "source": [
    "ModAbs captures the concept of the arc-distance between points on a circle.  If $b$ is the circumference of the circle and $a$ maps to a point on the circle by traversing an arc-distance of $a$ from the origin then $|a|_{\\textrm{mod}~b}$ is the arc-distance of that point from the origin (the shortest distance to traverse between the two points in either direction)."
   ]
  },
  {
   "cell_type": "code",
   "execution_count": null,
   "metadata": {},
   "outputs": [],
   "source": [
    "mod_abs_def = Forall(\n",
    "    (a, b),\n",
    "    Equals(ModAbs(a, b), Min(Mod(a, b), Mod(Neg(a), b))),\n",
    "    domains=[Real, RealPos])"
   ]
  },
  {
   "cell_type": "code",
   "execution_count": null,
   "metadata": {},
   "outputs": [],
   "source": [
    "%end axioms"
   ]
  }
 ],
 "metadata": {
  "kernelspec": {
   "display_name": "Python 3",
   "language": "python",
   "name": "python3"
  }
 },
 "nbformat": 4,
 "nbformat_minor": 0
}
