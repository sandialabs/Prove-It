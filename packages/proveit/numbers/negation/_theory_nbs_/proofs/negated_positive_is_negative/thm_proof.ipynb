{
 "cells": [
  {
   "cell_type": "markdown",
   "metadata": {},
   "source": [
    "Proof of <a class=\"ProveItLink\" href=\"../../../../../_theory_nbs_/theory.ipynb\">proveit</a>.<a class=\"ProveItLink\" href=\"../../../../_theory_nbs_/theory.ipynb\">numbers</a>.<a class=\"ProveItLink\" href=\"../../theory.ipynb\">negation</a>.<a class=\"ProveItLink\" href=\"../../theorems.ipynb#negated_positive_is_negative\">negated_positive_is_negative</a> theorem\n",
    "========"
   ]
  },
  {
   "cell_type": "code",
   "execution_count": 1,
   "metadata": {},
   "outputs": [],
   "source": [
    "import proveit\n",
    "theory = proveit.Theory() # the theorem's theory"
   ]
  },
  {
   "cell_type": "code",
   "execution_count": 2,
   "metadata": {},
   "outputs": [
    {
     "data": {
      "text/html": [
       "With these <a href=\"allowed_presumptions.txt\">allowed</a>/<a href=\"disallowed_presumptions.txt\">disallowed</a> theorem/theory presumptions (e.g., to avoid circular dependencies), we begin our proof of<br><strong id=\"negated_positive_is_negative\">negated_positive_is_negative:</strong> <a class=\"ProveItLink\" href=\"../../../__pv_it/theorems/99d74eef377cfc0b9723562042bb99c622d375540/expr.ipynb\"><img src=\"data:image/png;base64,iVBORw0KGgoAAAANSUhEUgAAAMUAAAAXBAMAAABJ4JbnAAAAMFBMVEX///8AAAAAAAAAAAAAAAAA\n",
       "AAAAAAAAAAAAAAAAAAAAAAAAAAAAAAAAAAAAAAAAAAAv3aB7AAAAD3RSTlMAq1RmmUTNIjK7EInv\n",
       "3XZ/CtNrAAAACXBIWXMAAA7EAAAOxAGVKw4bAAACwUlEQVRIx61VTWjTYBh+16bLX5vVixdBAoIX\n",
       "0RURD0W7js2h7hKdCKLo0MNAUDLwqFDPKq1T0CiUHLzMoa0OnD8gBRkbiDB0sIN0pCBWHMgOyqBe\n",
       "/P6S5ovpIGUvPPDmyfd9T/I+75sAdBUmQ4DqsLKr0HQKf5wPX4rpNE52RdTYw8DpZv5b9u6bSegj\n",
       "+GIimoQyTsHH5SDRqysrhL6JLsRSNA0hQ8HHgSBxGOANoXttAFWPppFkCLC2l8ZIYe4C9NuYjqPn\n",
       "6Y1ox26GQGm8N4svE7nfAEWd0J/q9Y8RNUYZ3BB3NB1UjbTr/lcioWCNDKGPAjwKLXpnjUsMbpwz\n",
       "5RZ6etYFM6tM+S/ScAg9CWLat37vq8GrJJGDJ6vvqyz7zOC22QcQlpAJNXJ17Qv4NKqElm3VYKzU\n",
       "sAxNhbkqr6FQM3NwhhHzFMqVOo6CsA4ptEVax/d6LnrbkMYFh9Axx7N8uICKqUHW4TXE++SDsAh9\n",
       "JqfhNVQJKugxEzVeA3ver1N6PIeLmJujk4o0fubbGsrsmgnSNnS42IKkHlqrigMDuGGX+FqBBTBg\n",
       "U/olmkRlRdqAadIUqljOtDWemUV8/mABpBakWHeWGVwNHbbHTIiXeM/hEMAIUPo6slzISzUYIxrC\n",
       "45LP82G4TV7nmIE0kg7d/IKBhezEllEXCm5LPF+lBqZ0ZZHRPciFpKGl4aBlWbqmqSd9GvPQoGO1\n",
       "gGrVx2p1h8E1d+fryR/oSMObQTYgo42Cj66Ycta+Rd5DS5y1PQ1lA+49xbUu+z1PFSj4uNFO4xMh\n",
       "dNIsjtmyTfyAtz7PF6Q/WbQHT9wvOOEekafgYyh8YD06MbRvFsSHKDv9vfpkpK1xav9aBrQpOoPH\n",
       "3eUPGPzR4eMdpGcsy2g76WXSVHDjNIM/5PC/qrzZz1be5J7oUPijGb60CV1qbFWIW3bSP1/jsJ3r\n",
       "TPdEAAAAAElFTkSuQmCC\n",
       "\" style=\"display:inline;vertical-align:middle;\" /></a><br>(see <a class=\"ProveItLink\" href=\"../../../__pv_it/theorems/0f99bee06dfb063beb7d2db0e05ff788837959320/dependencies.ipynb\">dependencies</a>)<br>"
      ],
      "text/plain": [
       "<IPython.core.display.HTML object>"
      ]
     },
     "metadata": {},
     "output_type": "display_data"
    },
    {
     "name": "stdout",
     "output_type": "stream",
     "text": [
      "negated_positive_is_negative may now be readily provable (assuming required theorems are usable).  Simply execute \"%qed\".\n"
     ]
    }
   ],
   "source": [
    "%proving negated_positive_is_negative"
   ]
  },
  {
   "cell_type": "code",
   "execution_count": null,
   "metadata": {},
   "outputs": [],
   "source": []
  }
 ],
 "metadata": {
  "kernelspec": {
   "display_name": "Python 3",
   "language": "python",
   "name": "python3"
  }
 },
 "nbformat": 4,
 "nbformat_minor": 0
}