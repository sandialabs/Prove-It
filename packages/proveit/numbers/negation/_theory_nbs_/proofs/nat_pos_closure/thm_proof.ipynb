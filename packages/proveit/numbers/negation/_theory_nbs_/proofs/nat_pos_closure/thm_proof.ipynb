{
 "cells": [
  {
   "cell_type": "markdown",
   "metadata": {},
   "source": [
    "Proof of <a class=\"ProveItLink\" href=\"../../../../../_theory_nbs_/theory.ipynb\">proveit</a>.<a class=\"ProveItLink\" href=\"../../../../_theory_nbs_/theory.ipynb\">numbers</a>.<a class=\"ProveItLink\" href=\"../../theory.ipynb\">negation</a>.<a class=\"ProveItLink\" href=\"../../theorems.ipynb#nat_pos_closure\">nat_pos_closure</a> theorem\n",
    "========"
   ]
  },
  {
   "cell_type": "code",
   "execution_count": 1,
   "metadata": {},
   "outputs": [],
   "source": [
    "import proveit\n",
    "theory = proveit.Theory() # the theorem's theory"
   ]
  },
  {
   "cell_type": "code",
   "execution_count": 2,
   "metadata": {},
   "outputs": [
    {
     "data": {
      "text/html": [
       "With these <a href=\"allowed_presumptions.txt\">allowed</a>/<a href=\"disallowed_presumptions.txt\">disallowed</a> theorem/theory presumptions (e.g., to avoid circular dependencies), we begin our proof of<br><strong id=\"nat_pos_closure\">nat_pos_closure:</strong> <a class=\"ProveItLink\" href=\"../../../__pv_it/theorems/d7d06fae710c36d03aa91624cd76c3b0d9b350bb0/expr.ipynb\"><img src=\"data:image/png;base64,iVBORw0KGgoAAAANSUhEUgAAALMAAAAZBAMAAACIvQJIAAAAMFBMVEX///8AAAAAAAAAAAAAAAAA\n",
       "AAAAAAAAAAAAAAAAAAAAAAAAAAAAAAAAAAAAAAAAAAAv3aB7AAAAD3RSTlMAq1RmmUTNIjK7EInv\n",
       "3XZ/CtNrAAAACXBIWXMAAA7EAAAOxAGVKw4bAAAC1UlEQVRIx5VWTWgTQRR+mx/3L1mjB7EgEvCg\n",
       "gpVVtKBIiTQVRcRIbyIY6UHooa4WCoLU6EVEsAHxZ/1dLwWtaeMPiD1ILiJRxBzUViQY9VgVEUTw\n",
       "IL7Zze7O7NrpdmBn5r3MfPPmfe+9CUCEthkW0nL4JSKujeUWBF3GTyxHWztGOpHViXxo6I4GfYF0\n",
       "n1ldssXKykdzANTXz1zotAWQIZNVPGSxRpxSDWi/BGQ5uw9g0rNaQ9xeMjnMg05UXafQbZHFysK0\n",
       "qkMKEqZZN/Gayh+AU/M6fXEBu56gNh7gVliLBqY9q6HfOV3N8qBHiX21kPqFM2g3mu9s6KHWMA29\n",
       "C0/XEZ7L4jfi6mJI3e/QOdh2jGAs16oU9Ff8XjWbL7nQy1x/u+3o0xHs79vzYdflgiHDRQr6IP6w\n",
       "E+AqF9okpOlU3D2HW7ivC5gAEAwpV6m42YhuLKENIGa40IdImFJs3NNhDw7rbKHoQ8PG2HV/1Ukk\n",
       "X7bUAs10/dE1lvw3+KVwyViTtBnYC/CBmEV+k9CdzfdtaMFa4e+axB2xlsei9MkspA11wgpZnaJO\n",
       "r4PyC4cDdhKWKauVTIWyukTu5OV7HsU4nB4CMZ/P987hEOUvxH/g2GlLDQoazstUyKIMDwawG+9+\n",
       "DJrDVS6QDB0kjf2SofwEobgaYIstffcSHc3Szvq7SITACWRRmZZ+wx0nzY6VWGgSoSrF9E3oJKfv\n",
       "dvLdvY492eGv2mZfBaESOakGfbZuQg1ECDlfavjy7dkzK3HLW+cOHfsdmo7U2Uqz3Z2kCliqukzT\n",
       "zEJ1Cu4y0DaFM6F62D4s+cRJ9P8nKwkVQ95qnbOXrtFhKlz5NoXqoc5NBlL52pYZo32WTDyvJiDZ\n",
       "YFZJpDTJRmDvcf7zEffISfasfwjiFZxtWDJ7KZCdS5kAbrfLfOh0wJRx0yzM9TaOsDrN4ENHfBtD\n",
       "j9f8LeqLvsD/ITbJSNs/5iOg/eCzkOwAAAAASUVORK5CYII=\n",
       "\" style=\"display:inline;vertical-align:middle;\" /></a><br>(see <a class=\"ProveItLink\" href=\"../../../__pv_it/theorems/1bbb71e66789c1bd5badd2d57ce6f726f26b0c3e0/dependencies.ipynb\">dependencies</a>)<br>"
      ],
      "text/plain": [
       "<IPython.core.display.HTML object>"
      ]
     },
     "metadata": {},
     "output_type": "display_data"
    },
    {
     "name": "stdout",
     "output_type": "stream",
     "text": [
      "nat_pos_closure may now be readily provable (assuming required theorems are usable).  Simply execute \"%qed\".\n"
     ]
    }
   ],
   "source": [
    "%proving nat_pos_closure"
   ]
  },
  {
   "cell_type": "code",
   "execution_count": null,
   "metadata": {},
   "outputs": [],
   "source": []
  }
 ],
 "metadata": {
  "kernelspec": {
   "display_name": "Python 3",
   "language": "python",
   "name": "python3"
  }
 },
 "nbformat": 4,
 "nbformat_minor": 0
}