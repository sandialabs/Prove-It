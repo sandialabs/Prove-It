{
 "cells": [
  {
   "cell_type": "markdown",
   "metadata": {},
   "source": [
    "Proof of <a class=\"ProveItLink\" href=\"../../../../../_theory_nbs_/theory.ipynb\">proveit</a>.<a class=\"ProveItLink\" href=\"../../../../_theory_nbs_/theory.ipynb\">numbers</a>.<a class=\"ProveItLink\" href=\"../../theory.ipynb\">negation</a>.<a class=\"ProveItLink\" href=\"../../theorems.ipynb#neg_in_zero_set\">neg_in_zero_set</a> theorem\n",
    "========"
   ]
  },
  {
   "cell_type": "code",
   "execution_count": 1,
   "metadata": {},
   "outputs": [],
   "source": [
    "import proveit\n",
    "theory = proveit.Theory() # the theorem's theory"
   ]
  },
  {
   "cell_type": "code",
   "execution_count": 2,
   "metadata": {},
   "outputs": [
    {
     "data": {
      "text/html": [
       "With these <a href=\"allowed_presumptions.txt\">allowed</a>/<a href=\"disallowed_presumptions.txt\">disallowed</a> theorem/theory presumptions (e.g., to avoid circular dependencies), we begin our proof of<br><strong id=\"neg_in_zero_set\">neg_in_zero_set:</strong> <a class=\"ProveItLink\" href=\"../../../__pv_it/theorems/ddc356386006f68f1fda4dd8ce2f7f7228163d0e0/expr.ipynb\"><img src=\"data:image/png;base64,iVBORw0KGgoAAAANSUhEUgAAALYAAAAXBAMAAABUnqh8AAAAMFBMVEX///8AAAAAAAAAAAAAAAAA\n",
       "AAAAAAAAAAAAAAAAAAAAAAAAAAAAAAAAAAAAAAAAAAAv3aB7AAAAD3RSTlMAq1RmmUTNIjK7EInv\n",
       "3XZ/CtNrAAAACXBIWXMAAA7EAAAOxAGVKw4bAAAC5klEQVRIx61VS2gTQRj+zGuTTbJED4IIsiD0\n",
       "4qM5SMFXW6iK0kuh6EGLhhYRCpZUvIiK66UXldSDaARleiwVmqr4oJegCKIowQc9BbYo1seliFDQ\n",
       "i/+8ktkkhIJ+8OXfmZ395p//MQFWg7xiw1QD7MPSnuHvLKwOjitp4njzsi9HpY1vYEDUBzJ8tLm9\n",
       "9hbFwH7ZxlWh3/Qz/5mcTnDRT8B+Pn2qrbSdkwxitHEiWQFirr0gnxBjuMxjM9lWO5KVDGJHK+29\n",
       "wFOlHe7l8ki6bbVTig2zTNpv1Wqupn0d6GRSG68QJodi7cPdoRhETJ7kyHfT719AwVXaI8CbavV1\n",
       "e+1+RQ1r4xIVQVJUgTVqxsTm2lmlPQccBG4HpHYLh+IPmZ4YUdQYyieoJMIiErF6nUdysP6Qtg+n\n",
       "zMddwDisjCkdpxfzP7RfHO8Uddk8R4QcCwkBI5wXslK7BOsnH2+lYmTJAS27WBxAKIewH53kVuGF\n",
       "pH26yuFFlpEu0eJl/u4qnxJlNn6SlpD2CYrX1DBNFGh/v7b3Po+3QA4pDyvN2rUCmcQseRMVfk/X\n",
       "z3uIiVx2UtE94t4OEXPd9DPT/Vi1GmleYnhmaDfEZNZHD18nEpauz/NuLAI9THYothHvU6rthfiK\n",
       "8oFyVGB4j2hFf3RXUWu7WB/KIywi4fiB3tkDHKAncaSdPAe0X6SXUjgolkx4XPstMKYLZU5R++eH\n",
       "PkTok5IYDQe00679UvWlKNs1FOXUgJNBV7FYdONrGY8JZbpDu3RNUdfJpifjX0lGVsDUDWZo2/2L\n",
       "ntb+qM+ZT+xiV+QFl5G5tMpaLO1JBnFR2WN3jJ6v7wJLD1P5wiBLMJVLx49mjFzSrSMYRF+ru8p4\n",
       "qt1u0b7tD2DdUtp0CzNDGzcVTTTfnU7Z6FDgXPDtTFH2DvQeCtOBQlYZbfpTk93IcS/bwhlxhEqT\n",
       "tuVLmlhq/vLsOmnPc+vkW117Y9JMuPj/iAtRy/tnob9WwscoCafCowAAAABJRU5ErkJggg==\n",
       "\" style=\"display:inline;vertical-align:middle;\" /></a><br>(see <a class=\"ProveItLink\" href=\"../../../__pv_it/theorems/d21fdc3d668aa4ec1efb55a0d2a8d47cb165a0000/dependencies.ipynb\">dependencies</a>)<br>"
      ],
      "text/plain": [
       "<IPython.core.display.HTML object>"
      ]
     },
     "metadata": {},
     "output_type": "display_data"
    }
   ],
   "source": [
    "%proving neg_in_zero_set"
   ]
  },
  {
   "cell_type": "code",
   "execution_count": null,
   "metadata": {},
   "outputs": [],
   "source": []
  }
 ],
 "metadata": {
  "kernelspec": {
   "display_name": "Python 3",
   "language": "python",
   "name": "python3"
  }
 },
 "nbformat": 4,
 "nbformat_minor": 0
}