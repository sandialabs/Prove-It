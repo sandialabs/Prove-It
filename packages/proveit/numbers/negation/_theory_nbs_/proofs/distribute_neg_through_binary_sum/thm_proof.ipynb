{
 "cells": [
  {
   "cell_type": "markdown",
   "metadata": {},
   "source": [
    "Proof of <a class=\"ProveItLink\" href=\"../../../../../_theory_nbs_/theory.ipynb\">proveit</a>.<a class=\"ProveItLink\" href=\"../../../../_theory_nbs_/theory.ipynb\">numbers</a>.<a class=\"ProveItLink\" href=\"../../theory.ipynb\">negation</a>.<a class=\"ProveItLink\" href=\"../../theorems.ipynb#distribute_neg_through_binary_sum\">distribute_neg_through_binary_sum</a> theorem\n",
    "========"
   ]
  },
  {
   "cell_type": "code",
   "execution_count": 1,
   "metadata": {},
   "outputs": [],
   "source": [
    "import proveit\n",
    "theory = proveit.Theory() # the theorem's theory"
   ]
  },
  {
   "cell_type": "code",
   "execution_count": 2,
   "metadata": {},
   "outputs": [
    {
     "data": {
      "text/html": [
       "With these <a href=\"allowed_presumptions.txt\">allowed</a>/<a href=\"disallowed_presumptions.txt\">disallowed</a> theorem/theory presumptions (e.g., to avoid circular dependencies), we begin our proof of<br><strong id=\"distribute_neg_through_binary_sum\">distribute_neg_through_binary_sum:</strong> <a class=\"ProveItLink\" href=\"../../../__pv_it/theorems/bee5ab177771a764075593f0eff663e71b2ab5950/expr.ipynb\"><img src=\"data:image/png;base64,iVBORw0KGgoAAAANSUhEUgAAARoAAAAWBAMAAADtKE5GAAAAMFBMVEX///8AAAAAAAAAAAAAAAAA\n",
       "AAAAAAAAAAAAAAAAAAAAAAAAAAAAAAAAAAAAAAAAAAAv3aB7AAAAD3RSTlMAq1RmmUTNIjK7EInv\n",
       "3XZ/CtNrAAAACXBIWXMAAA7EAAAOxAGVKw4bAAADcElEQVRIx8WWTWgTQRTHXzebNtkkbVDwUggB\n",
       "wR60NYdSaIUaqIogtYFePBQbUZAWhO1R0BIPoqDSCIUalbpFEErEVC3oxVIQ8bMSRbFYAls9VBCk\n",
       "FLRSoThvZprdl91u8OQffhvmzWTnzbw3bxaguuok1OIqXeJm/7cpNtUXCbW46qikQvXxKlP4TUEU\n",
       "G9u9RipTAmpxSLtZZNMmBBXa6fX+yTn2+CrYj4aTXqPvSKjFqdokewxKqKNpz405gX82OOcwYlmv\n",
       "wV0SarHUK38bMBytEiI14enNCsOX5KBTIc+wzkqoxVKL/O1nb4KwISAKe+fMGj5fcXzM71rPtEkL\n",
       "qMXFmyc8XAkB0Q5Pb0JFfB4XzJVKr70Gq1MCaoGhmeEKb4792MJeHRUQHbKf5cYlsyLfYossNveB\n",
       "cxDgupc3ztViy/8cbhnEG+2XUdDBx/YNAbXEFd1Y94b69OAanaAwqK0CtAFnCOrKawkMlCvEaEyu\n",
       "PRIXWMLW3QR0071R1iBsgsJySpmtWNB72/F6CmqR9u424C3ALuAEjVCq3NOILi3mUtpVXbkhUzAl\n",
       "0E7xxWZEqwdgAXu7S6U3pdI73Iw0NExBYBk4RM+sf6vLEMFAW2+DAwB/AEaAo5i2JH7B2MeGhO4B\n",
       "7KHe2I4Ia70E7SfdGzZJfxz8bF/8s05vyv/NQiFFexfAz854HwjSneyR73yE27K+aPBSevt8+d5w\n",
       "jZS2Dr5l6g0rNz0GKCwMCMkbW6QKJux1lBuVZVIzCB6w2ql9CqxitnyuT07iiKam8uCgKQC7RVuB\n",
       "mnQT9SbDcgJ8WQHRuM2bOGxT6B36G5MQ2kFwhvmvJgO4vcGEL81La0eHVQ4cZxZb49CcTBJvahLB\n",
       "pFs9ECfXWonyQaW9W2FUVgGkhidmPU4YzqjRtlwuF794pDw4UBQAsUx8vxDL0BPeiBdGJCUgumI7\n",
       "U7HHQ99o78Q05sZHCd9APdjBykcDhOOX+PJZFmuyb15iad61FnOdlRBFMtW/oYoCker6SK+Rh4jR\n",
       "zk48dk7rMCP7nBdhq+utuckVK6/EKsKLtXy5+rtaHsLleOCwCXXX0JAfGN1YUFAX2IK/6accfg24\n",
       "fBGMVfXmtMQmcY7zuRwJvJYVUIu7nJ6LD6qq3ow5fPYb7iOHJdTiqiVJ5ZaZVZyp1wX28ML/1l+v\n",
       "f+w5P9hEHAAAAABJRU5ErkJggg==\n",
       "\" style=\"display:inline;vertical-align:middle;\" /></a><br>(see <a class=\"ProveItLink\" href=\"../../../__pv_it/theorems/089951d637652b78200d0093104120a7a08337530/dependencies.ipynb\">dependencies</a>)<br>"
      ],
      "text/plain": [
       "<IPython.core.display.HTML object>"
      ]
     },
     "metadata": {},
     "output_type": "display_data"
    },
    {
     "name": "stdout",
     "output_type": "stream",
     "text": [
      "distribute_neg_through_binary_sum may now be readily provable (assuming required theorems are usable).  Simply execute \"%qed\".\n"
     ]
    }
   ],
   "source": [
    "%proving distribute_neg_through_binary_sum"
   ]
  },
  {
   "cell_type": "code",
   "execution_count": null,
   "metadata": {},
   "outputs": [],
   "source": []
  }
 ],
 "metadata": {
  "kernelspec": {
   "display_name": "Python 3",
   "language": "python",
   "name": "python3"
  }
 },
 "nbformat": 4,
 "nbformat_minor": 0
}