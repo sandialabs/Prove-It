{
 "cells": [
  {
   "cell_type": "markdown",
   "metadata": {},
   "source": [
    "Proof of <a class=\"ProveItLink\" href=\"../../../../../_theory_nbs_/theory.ipynb\">proveit</a>.<a class=\"ProveItLink\" href=\"../../../../_theory_nbs_/theory.ipynb\">numbers</a>.<a class=\"ProveItLink\" href=\"../../theory.ipynb\">negation</a>.<a class=\"ProveItLink\" href=\"../../theorems.ipynb#complex_closure\">complex_closure</a> theorem\n",
    "========"
   ]
  },
  {
   "cell_type": "code",
   "execution_count": 1,
   "metadata": {},
   "outputs": [],
   "source": [
    "import proveit\n",
    "theory = proveit.Theory() # the theorem's theory"
   ]
  },
  {
   "cell_type": "code",
   "execution_count": 2,
   "metadata": {},
   "outputs": [
    {
     "data": {
      "text/html": [
       "With these <a href=\"allowed_presumptions.txt\">allowed</a>/<a href=\"disallowed_presumptions.txt\">disallowed</a> theorem/theory presumptions (e.g., to avoid circular dependencies), we begin our proof of<br><strong id=\"complex_closure\">complex_closure:</strong> <a class=\"ProveItLink\" href=\"../../../__pv_it/theorems/f55ab67ea395b96b204bff677b514c0a676902520/expr.ipynb\"><img src=\"data:image/png;base64,iVBORw0KGgoAAAANSUhEUgAAAJcAAAAVBAMAAAC5yWGZAAAAMFBMVEX///8AAAAAAAAAAAAAAAAA\n",
       "AAAAAAAAAAAAAAAAAAAAAAAAAAAAAAAAAAAAAAAAAAAv3aB7AAAAD3RSTlMAq1RmmUTNIjK7EInv\n",
       "3XZ/CtNrAAAACXBIWXMAAA7EAAAOxAGVKw4bAAACT0lEQVQ4y4WUTWjUQBTHX7PJ5qO7yx7Ei1IW\n",
       "BHsQZQ/iYYUaqFpB0JWCCBVZFBQFIQs9qqwHQVjFFdaPVCuRnkrB+gV6koJ4EqGI4CkQT6ueehME\n",
       "wTczb7I7MVMf/JO8XyZv5r03GYBNLSBlkG7oplapCY3amX9GrSyeH3Q5rzJ3hybYLpIyQT0Ltte9\n",
       "433ODzH/Qn4sryWk2qWMf2wOoNDn/Dq6di8/mFkXUm2v6jr+Al63cF6MAMZr+cFKpAyNxP1HHLNV\n",
       "j0VsKUucF3DmoqZkO0mqFcVaT/4Urmv7Q/4pjj9qgh0lSbO3DRLMg/fMlqVrO8/FA+NHABY0wc6R\n",
       "pJ0O3N9YbN6SotxXXYuqyngb7KrS6f7ENXr8TJLNfQ/mOoCxxoNJOm8l4oFxNxpvysZ8C5ve3cB4\n",
       "RP4HIe9yzKxjbkAZU3I22LtbDPV4zShNxo0kneRgBzN/BrBfDZa2sQerOK/FV7YsqRvRxuK8NcV+\n",
       "iak3Ym8v3cDi5qe5msABls46c8qSWnyfWcRfYl+8r84vMdnk5PDrJyQZrAZbjQAKfCWVJP0DTuDl\n",
       "MAh+Betv+s4azLJXjcbw6xckmVBifDFxrKjR2bRj92e83T7xMaxUqVmpwr4wDGs3Tw2/vk2S3Zx4\n",
       "2/6OCYp+Pb0XyVPj8Z8ZSDlmELiNqMu3HjbAI1ruCKl2le5zi3Erj0MpuDMbuWwq+3UA74gWfCHV\n",
       "pjVbPOXW9J5XYD/ki77YTxfzgDRquiMmy1fCsKmA5dENJdugOZ/d/53bdiI0agPNWOR/Ad8Hjp2W\n",
       "lYxyAAAAAElFTkSuQmCC\n",
       "\" style=\"display:inline;vertical-align:middle;\" /></a><br>(see <a class=\"ProveItLink\" href=\"../../../__pv_it/theorems/eca8645a0a0ec678a819aebe488132d8f73da8010/dependencies.ipynb\">dependencies</a>)<br>"
      ],
      "text/plain": [
       "<IPython.core.display.HTML object>"
      ]
     },
     "metadata": {},
     "output_type": "display_data"
    },
    {
     "name": "stdout",
     "output_type": "stream",
     "text": [
      "complex_closure may now be readily provable (assuming required theorems are usable).  Simply execute \"%qed\".\n"
     ]
    }
   ],
   "source": [
    "%proving complex_closure"
   ]
  },
  {
   "cell_type": "code",
   "execution_count": null,
   "metadata": {},
   "outputs": [],
   "source": []
  }
 ],
 "metadata": {
  "kernelspec": {
   "display_name": "Python 3",
   "language": "python",
   "name": "python3"
  }
 },
 "nbformat": 4,
 "nbformat_minor": 0
}