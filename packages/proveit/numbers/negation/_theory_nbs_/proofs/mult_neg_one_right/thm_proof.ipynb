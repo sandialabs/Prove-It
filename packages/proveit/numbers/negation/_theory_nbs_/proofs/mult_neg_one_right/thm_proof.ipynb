{
 "cells": [
  {
   "cell_type": "markdown",
   "metadata": {},
   "source": [
    "Proof of <a class=\"ProveItLink\" href=\"../../../../../_theory_nbs_/theory.ipynb\">proveit</a>.<a class=\"ProveItLink\" href=\"../../../../_theory_nbs_/theory.ipynb\">numbers</a>.<a class=\"ProveItLink\" href=\"../../theory.ipynb\">negation</a>.<a class=\"ProveItLink\" href=\"../../theorems.ipynb#mult_neg_one_right\">mult_neg_one_right</a> theorem\n",
    "========"
   ]
  },
  {
   "cell_type": "code",
   "execution_count": 1,
   "metadata": {},
   "outputs": [],
   "source": [
    "import proveit\n",
    "theory = proveit.Theory() # the theorem's theory"
   ]
  },
  {
   "cell_type": "code",
   "execution_count": 2,
   "metadata": {},
   "outputs": [
    {
     "data": {
      "text/html": [
       "With these <a href=\"allowed_presumptions.txt\">allowed</a>/<a href=\"disallowed_presumptions.txt\">disallowed</a> theorem/theory presumptions (e.g., to avoid circular dependencies), we begin our proof of<br><strong id=\"mult_neg_one_right\">mult_neg_one_right:</strong> <a class=\"ProveItLink\" href=\"../../../__pv_it/theorems/4386bf072dbf2615a164156972fadc8d9d4da8a80/expr.ipynb\"><img src=\"data:image/png;base64,iVBORw0KGgoAAAANSUhEUgAAAOEAAAAVBAMAAABCnpRGAAAAMFBMVEX///8AAAAAAAAAAAAAAAAA\n",
       "AAAAAAAAAAAAAAAAAAAAAAAAAAAAAAAAAAAAAAAAAAAv3aB7AAAAD3RSTlMAq1RmmUTNIjK7EInv\n",
       "3XZ/CtNrAAAACXBIWXMAAA7EAAAOxAGVKw4bAAAC1klEQVRIx42WTWgTQRTHX5JNNtlNQsGTUkpA\n",
       "sQcVi4SKFTRQrUKtBL14EA30IPa0HoW2xIMgFrFCpUahRCzFWKhp8SaUXLwoShSEIgQ2fiB4CJ6s\n",
       "9OS8eZPdnclm44P/dmbzm3kz8968LUCgWUKS6Z2M7jNW/5+5VEtnSLJ9lbtXmKJ252AF4xyqDzt7\n",
       "u3g8ICRZuOq241/YkoZY4xsEYbT8IdJp7Fzzd2gUSLKtuM2nYzvsOcUUKwdgwqZIt/DE5/09akMk\n",
       "2Ua960aPWaZILggjy5JwcWbG32NSSLaa6jGJ+3sbhInpylwRtodYlzDuF5LjU1A9xvAYJoMwMuRQ\n",
       "7xuNd108jgutNZ+/do5Bq6oeTcy+dTUiHsxo7ZnbIA51FuBxF4+TQrn0gFb3rlT2GMHtDGN3ooH2\n",
       "UcU0aNoTxKFugN4nJfHCwKxofiJFrMhOyJkglVE9hjFkB5XVerGjcLK8izhUomzm27erWcobD6zw\n",
       "E9F/Q4qDRkF5iX+SjF7he9kSHuO/2eO+miYerAhjIDhU2HYS51SRHfQawHHZIxtOJSWVE1PJe4zi\n",
       "Hi/7eHTtAwiOs4UT7NE6893ixePZbbciilMFuGoZ5YBTxRgfUuIoYdFteEEcZzdYHUhbu2OZCv44\n",
       "OOiCS6RKvh9M52XC7sgcLCDHlD16MONhqAZV4jg7zRInAktxuIg/j4y4o9ZJh++egwvOS9ObZ+Z2\n",
       "+yKMKx49WPjvci2aIY6zoSK+ZkOHS6VS5s4ld9Q90nIrPOqeUbzuAqH+PywHUxiyz4pHD2act/cd\n",
       "AeJSTnjjNR3m+NpY5hjtkBVJsm2pL2awNNd7YpybaXemzYLG7gkOfWXBpniL5bmzRGf9anZnwe/A\n",
       "OOfUd+3H5i/QH2Fz9fqCs61FITknlA85//LchF4Y59Sv1GqpJN0iqAjJX815n6kXoRfGuUSvfzt0\n",
       "myTbrNz9ibfEZyYF4xzTP/nqwSalOrPVAAAAAElFTkSuQmCC\n",
       "\" style=\"display:inline;vertical-align:middle;\" /></a><br>(see <a class=\"ProveItLink\" href=\"../../../__pv_it/theorems/df558e6028b6b173a424a0e4295c518b79f605ec0/dependencies.ipynb\">dependencies</a>)<br>"
      ],
      "text/plain": [
       "<IPython.core.display.HTML object>"
      ]
     },
     "metadata": {},
     "output_type": "display_data"
    },
    {
     "name": "stdout",
     "output_type": "stream",
     "text": [
      "mult_neg_one_right may now be readily provable (assuming required theorems are usable).  Simply execute \"%qed\".\n"
     ]
    }
   ],
   "source": [
    "%proving mult_neg_one_right"
   ]
  },
  {
   "cell_type": "code",
   "execution_count": null,
   "metadata": {},
   "outputs": [],
   "source": []
  }
 ],
 "metadata": {
  "kernelspec": {
   "display_name": "Python 3",
   "language": "python",
   "name": "python3"
  }
 },
 "nbformat": 4,
 "nbformat_minor": 0
}