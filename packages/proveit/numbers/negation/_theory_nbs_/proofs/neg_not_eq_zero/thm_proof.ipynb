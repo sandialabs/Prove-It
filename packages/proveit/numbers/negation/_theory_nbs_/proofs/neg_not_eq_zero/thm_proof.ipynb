{
 "cells": [
  {
   "cell_type": "markdown",
   "metadata": {},
   "source": [
    "Proof of <a class=\"ProveItLink\" href=\"../../../../../_theory_nbs_/theory.ipynb\">proveit</a>.<a class=\"ProveItLink\" href=\"../../../../_theory_nbs_/theory.ipynb\">numbers</a>.<a class=\"ProveItLink\" href=\"../../theory.ipynb\">negation</a>.<a class=\"ProveItLink\" href=\"../../theorems.ipynb#neg_not_eq_zero\">neg_not_eq_zero</a> theorem\n",
    "========"
   ]
  },
  {
   "cell_type": "code",
   "execution_count": 1,
   "metadata": {},
   "outputs": [],
   "source": [
    "import proveit\n",
    "theory = proveit.Theory() # the theorem's theory"
   ]
  },
  {
   "cell_type": "code",
   "execution_count": 2,
   "metadata": {},
   "outputs": [
    {
     "data": {
      "text/html": [
       "With these <a href=\"allowed_presumptions.txt\">allowed</a>/<a href=\"disallowed_presumptions.txt\">disallowed</a> theorem/theory presumptions (e.g., to avoid circular dependencies), we begin our proof of<br><strong id=\"neg_not_eq_zero\">neg_not_eq_zero:</strong> <a class=\"ProveItLink\" href=\"../../../__pv_it/theorems/e8d489d58b706a2f1f6281c6f7fe3f6f6500d3210/expr.ipynb\"><img src=\"data:image/png;base64,iVBORw0KGgoAAAANSUhEUgAAAMUAAAAXCAMAAACMEHvmAAAARVBMVEX///8AAAAAAAAAAAAAAAAA\n",
       "AAAAAAAAAAAAAAAAAAAAAAAAAAAAAAAAAAAAAAAAAAAAAAAAAAAAAAAAAAAAAAAAAAAAAAAeYafp\n",
       "AAAAFnRSTlMAq1RmmUTNIjK7EInv3Xbt5cnn9enzas/lfgAAAAlwSFlzAAAOxAAADsQBlSsOGwAA\n",
       "AsRJREFUWMPVV4my2yAMNJdBCOjt///UmtOAMXam407LzIsmeUvMaldCWZa/uGQX56jPvvOvLUfb\n",
       "eLGEu/gH15doUt5T9i4Jim28Zjs+iIL6HaLjsqC5yJ+v74qj1zZO1jpK+gKqhux6aiszWmUxJLwr\n",
       "BWdtnCzGR1KQGmGDHlDQmTjSd1mYLk6xAzGgtgoESnTTGc1SbtaXq2Jt49xSZ71ELcWyBbXURgva\n",
       "WL8MvmwobOO5ZRJ0MrUnJGditRQ6s2AFzUPVgH5+oGkR36R3vSgLYfZjQrTIwg7BeMix/f7Dv5Ya\n",
       "3jCycAUtSX656nzASUmTJzwhgSK1wT7llraxJ29Cw7TJdmYqxcECD7SXAcWpJzgCsH+qgezfQAGf\n",
       "sIjJYDtj0aGMaKJe7bF2M/AtUEwPUVuvVKu/jscXUYuIpm5Q25yn9ow6yvaIBQkpM37rJmcsTl0J\n",
       "wuFEttdUilzdNFZ3Qq8he4EkMoeyvj81U6IbWGoWZUN8Oka9vbsN/cBROmSVZQmobevi568oWrE9\n",
       "xJsillFCI02Xhr8NlU+iLielkvZ3esWibODg15f9j+0f+G+zbRmDa2PPwpMj6xIfxuDmMmch/Tw6\n",
       "KKGlIdlGu8s8QJQjMM30NYuyoR6AIgvTHjc3Txy3EU+OWp76X9eO6bkrekm1UQ2aqMO0joTmFXIL\n",
       "dFFKqGsWZUNIKOQO4llsrXWUbWMvBnGoJHHxWVbczVWao8un7tDaewOY1os6kpGqu7oIYLDBO+rr\n",
       "NwiOGlb3YlUbZ78Z7HAYfobeH+9dLryFjktQYpiAcXhfHBvqcc25fmKoRjzGHw+O0xH3Cu3bMqMO\n",
       "WZhw1dGGdntxNXTUsaG5/f3wr6/GObj7BdBN1ww/QXfGQ2+PYXMfb6Pu7gcGtPFydTSt/gT9eI1P\n",
       "cT+r5iFGzvm67ljqI/SfsaBi+b+W/OdO9BtlcBe+NBCTlQAAAABJRU5ErkJggg==\n",
       "\" style=\"display:inline;vertical-align:middle;\" /></a><br>(see <a class=\"ProveItLink\" href=\"../../../__pv_it/theorems/feffbe5cef62146ec6f970ee28bf14681f2122e30/dependencies.ipynb\">dependencies</a>)<br>"
      ],
      "text/plain": [
       "<IPython.core.display.HTML object>"
      ]
     },
     "metadata": {},
     "output_type": "display_data"
    }
   ],
   "source": [
    "%proving neg_not_eq_zero"
   ]
  },
  {
   "cell_type": "code",
   "execution_count": null,
   "metadata": {},
   "outputs": [],
   "source": []
  }
 ],
 "metadata": {
  "kernelspec": {
   "display_name": "Python 3",
   "language": "python",
   "name": "python3"
  }
 },
 "nbformat": 4,
 "nbformat_minor": 0
}