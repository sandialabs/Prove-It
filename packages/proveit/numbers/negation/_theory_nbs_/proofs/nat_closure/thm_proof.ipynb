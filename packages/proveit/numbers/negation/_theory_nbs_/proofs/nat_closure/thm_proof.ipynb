{
 "cells": [
  {
   "cell_type": "markdown",
   "metadata": {},
   "source": [
    "Proof of <a class=\"ProveItLink\" href=\"../../../../../_theory_nbs_/theory.ipynb\">proveit</a>.<a class=\"ProveItLink\" href=\"../../../../_theory_nbs_/theory.ipynb\">numbers</a>.<a class=\"ProveItLink\" href=\"../../theory.ipynb\">negation</a>.<a class=\"ProveItLink\" href=\"../../theorems.ipynb#nat_closure\">nat_closure</a> theorem\n",
    "========"
   ]
  },
  {
   "cell_type": "code",
   "execution_count": 1,
   "metadata": {},
   "outputs": [],
   "source": [
    "import proveit\n",
    "theory = proveit.Theory() # the theorem's theory"
   ]
  },
  {
   "cell_type": "code",
   "execution_count": 2,
   "metadata": {},
   "outputs": [
    {
     "data": {
      "text/html": [
       "With these <a href=\"allowed_presumptions.txt\">allowed</a>/<a href=\"disallowed_presumptions.txt\">disallowed</a> theorem/theory presumptions (e.g., to avoid circular dependencies), we begin our proof of<br><strong id=\"nat_closure\">nat_closure:</strong> <a class=\"ProveItLink\" href=\"../../../__pv_it/theorems/546eb56c9c2b2989a0dce35824e26adb6d095ce10/expr.ipynb\"><img src=\"data:image/png;base64,iVBORw0KGgoAAAANSUhEUgAAAKoAAAAVBAMAAAAkxGgRAAAAMFBMVEX///8AAAAAAAAAAAAAAAAA\n",
       "AAAAAAAAAAAAAAAAAAAAAAAAAAAAAAAAAAAAAAAAAAAv3aB7AAAAD3RSTlMAq1RmmUTNIjK7EInv\n",
       "3XZ/CtNrAAAACXBIWXMAAA7EAAAOxAGVKw4bAAACqUlEQVQ4y41VS2gTQRj+kk2ySbYJEVEKigQK\n",
       "oqglihT0UANNpOAlUvBikWIPQkHcWhEELdGb+GguVdcX60WooU2qQqWngBSpIgax1Etwi4f6uPQm\n",
       "ePKfnZnt7jYx/eHb+Wd29pv/OQtsTnQB31IzUbFZSaY53HLGtyf+zRiB9mkhbAEpttDVjnWfgOek\n",
       "jG8hlj4JVIDvQJ7Nz7UhjQ9xeGXENw8saxl0ABET11kkSm1YQxkOrxz2s+4l8xKAkmXE0NJtWDsE\n",
       "fKsmH382GrYfgTHrMmPFeyhkQqRdWHcLeCXCrT/1S9qqdyarjHUY+NhofGjHekLAKZ4dq5Rozc60\n",
       "6oQ3oMcwyVhngX7gYdMMufRhASmDeuwvxc/2O6Kvs0az09Ok9ACjUFNNSJVOjHfLDz4LyAPfIlQH\n",
       "gjWbdT1bOg4FH5Oyn6rM1AruRC6+fpQFyv2scmQxLXDEzzeYFENrSFSB6Bp7d5stlQRrwNxJygSd\n",
       "aDmnRVeMQkLXZkxcmiOOGiXTw+okv4QKWRK2bZ1y2xpPsQgMEoZ65XKuSJ7jxhjUJZaGOr42j0DF\n",
       "wjEagnU2SbhZcTdGygHCS5bEcu+cbMEsBUDZZtv6Tux/KiBZ09ge1KHYfictp2PJqORNUo4QrlKy\n",
       "4svRP8IX5WKR2bGVnHDiOisgP7eCX0LUbVV7dtapX9ZMx0URBogllI3WMGC/m9F4jPMY75I1cEdA\n",
       "1sCuN6M/yHee5WeTvMeiFxbp+ZywJONfSKbQYxhGGtV5vPCXWaLI4ZVrYjz9pOG5edS6jJQeO2re\n",
       "Ylp4Twbzai6Xy7uLN8vhlb7/3EXcVn1iwIwxT7QQwvUNG+8LeExqddNdkUq4r/sV1AekHdzy+97G\n",
       "XpvyFKbIWatfjO/4smEUWvyLLA63rLb6G+n4B5wjnhccTdmjAAAAAElFTkSuQmCC\n",
       "\" style=\"display:inline;vertical-align:middle;\" /></a><br>(see <a class=\"ProveItLink\" href=\"../../../__pv_it/theorems/0f14f9c9e95e8922f52b5384660a4680356661330/dependencies.ipynb\">dependencies</a>)<br>"
      ],
      "text/plain": [
       "<IPython.core.display.HTML object>"
      ]
     },
     "metadata": {},
     "output_type": "display_data"
    },
    {
     "name": "stdout",
     "output_type": "stream",
     "text": [
      "nat_closure may now be readily provable (assuming required theorems are usable).  Simply execute \"%qed\".\n"
     ]
    }
   ],
   "source": [
    "%proving nat_closure"
   ]
  },
  {
   "cell_type": "code",
   "execution_count": null,
   "metadata": {},
   "outputs": [],
   "source": []
  }
 ],
 "metadata": {
  "kernelspec": {
   "display_name": "Python 3",
   "language": "python",
   "name": "python3"
  }
 },
 "nbformat": 4,
 "nbformat_minor": 0
}