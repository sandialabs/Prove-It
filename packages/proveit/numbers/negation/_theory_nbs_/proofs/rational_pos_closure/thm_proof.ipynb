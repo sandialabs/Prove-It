{
 "cells": [
  {
   "cell_type": "markdown",
   "metadata": {},
   "source": [
    "Proof of <a class=\"ProveItLink\" href=\"../../../../../_theory_nbs_/theory.ipynb\">proveit</a>.<a class=\"ProveItLink\" href=\"../../../../_theory_nbs_/theory.ipynb\">numbers</a>.<a class=\"ProveItLink\" href=\"../../theory.ipynb\">negation</a>.<a class=\"ProveItLink\" href=\"../../theorems.ipynb#rational_pos_closure\">rational_pos_closure</a> theorem\n",
    "========"
   ]
  },
  {
   "cell_type": "code",
   "execution_count": 1,
   "metadata": {},
   "outputs": [],
   "source": [
    "import proveit\n",
    "theory = proveit.Theory() # the theorem's theory"
   ]
  },
  {
   "cell_type": "code",
   "execution_count": 2,
   "metadata": {},
   "outputs": [
    {
     "data": {
      "text/html": [
       "With these <a href=\"allowed_presumptions.txt\">allowed</a>/<a href=\"disallowed_presumptions.txt\">disallowed</a> theorem/theory presumptions (e.g., to avoid circular dependencies), we begin our proof of<br><strong id=\"rational_pos_closure\">rational_pos_closure:</strong> <a class=\"ProveItLink\" href=\"../../../__pv_it/theorems/bee7b047adf6e788083697736e4707682da9ad190/expr.ipynb\"><img src=\"data:image/png;base64,iVBORw0KGgoAAAANSUhEUgAAALUAAAAZBAMAAACFo3IPAAAAMFBMVEX///8AAAAAAAAAAAAAAAAA\n",
       "AAAAAAAAAAAAAAAAAAAAAAAAAAAAAAAAAAAAAAAAAAAv3aB7AAAAD3RSTlMAq1RmmUTNIjK7EInv\n",
       "3XZ/CtNrAAAACXBIWXMAAA7EAAAOxAGVKw4bAAAC+UlEQVRIx6VWTWgTQRR+3Z/sbrYJ9SKCIisR\n",
       "FQoSqogUqZFErAoSqYhFqVEPgiBupTcrRrwIrSbg7wrKepKaQ6I9VPBSkB6KCFUKnha2h1IVD72o\n",
       "4Mk3s7uT/Um3CQ7sbubtzLfvfe97bwLQxuCL0MnI4SW0u3h7R9BQxUuqtrc2WSJ3PWjU47FhoD1s\n",
       "JYu3tBY0jkSW1QzjSBM7ZQL0kB+ZWOxxcusNGdPZsGFLWfrcYNhpBD5MflyOxT7OePGPK6H59DTA\n",
       "qWEQDGPeeIAb/gLcXp/4XyTvYTdhb3AqN/DrCm97fsMlgATyompx0DJ6AN0Rc7fpPL9bFolJeY0k\n",
       "qOUSwz6K2kWHErFupxfwtiNiTjiRnP7hTKdkdJnTBhn2T7w+WdbHWOyuksu5N6TNK4ijUhVIHu0T\n",
       "In5LzPYx7PMYF37pWbwEqw57bJzTFaSJp9lNeDof4ZFY2c64dQlQKQOMgtQTi50gr7/4SukDCEgT\n",
       "N0tfetYbHPV7mS27hY1CMdVAu6g93BCsuRTxYw4xr1pklIVVSKGO5VXycpKYSGCKw/cxtq2OqJzN\n",
       "vi0vGUXpPah9Ub/nfAKp0n0i9XuKMfeK6cT1GzmBEiv9Ak7V65Dco48VCoXiGpzUbTiID26BBuVZ\n",
       "RUffTTVXSPRvSaprAzNOGd/dCWDbAZ2QkF/4sDXYyOnAO6XNluaxLk8ON5cRncA4+pX8Kv9x4uvP\n",
       "hrHTJPg3Pt3Y3CK2Z4H2DrjomVXST3LNZQeoX8iEkJNnYYjMCK7d8GOLpC7v+XSy9d3oN2TD4ezl\n",
       "I7c+Yez3tUHftkMsP0XsW/sMw9DORDiheUyVw9K86T7PPrfcBG7i/ftYRdR1pd+coKHRXEb6IJ8L\n",
       "Y+ejBWwv7WJyJn3Q9VuvDJmKSXUIaqidT5LbkxBQq9657fE8a5c8K0gxv3sapKe0dhYvhOLv0vxC\n",
       "9jKqxx9WKT1yKmFMM3danZdSMAewss5B2Pq8FDInQv8ZeqHjsdZxc3////0/oQ5i7v4B0pGzJkkj\n",
       "kdIAAAAASUVORK5CYII=\n",
       "\" style=\"display:inline;vertical-align:middle;\" /></a><br>(see <a class=\"ProveItLink\" href=\"../../../__pv_it/theorems/bdb87ff79817c8dcee97b7cdb16f38c8cd09650d0/dependencies.ipynb\">dependencies</a>)<br>"
      ],
      "text/plain": [
       "<IPython.core.display.HTML object>"
      ]
     },
     "metadata": {},
     "output_type": "display_data"
    },
    {
     "name": "stdout",
     "output_type": "stream",
     "text": [
      "rational_pos_closure may now be readily provable (assuming required theorems are usable).  Simply execute \"%qed\".\n"
     ]
    }
   ],
   "source": [
    "%proving rational_pos_closure"
   ]
  },
  {
   "cell_type": "code",
   "execution_count": null,
   "metadata": {},
   "outputs": [],
   "source": []
  }
 ],
 "metadata": {
  "kernelspec": {
   "display_name": "Python 3",
   "language": "python",
   "name": "python3"
  }
 },
 "nbformat": 4,
 "nbformat_minor": 0
}