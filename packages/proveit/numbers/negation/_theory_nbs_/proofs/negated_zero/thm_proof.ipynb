{
 "cells": [
  {
   "cell_type": "markdown",
   "metadata": {},
   "source": [
    "Proof of <a class=\"ProveItLink\" href=\"../../../../../_theory_nbs_/theory.ipynb\">proveit</a>.<a class=\"ProveItLink\" href=\"../../../../_theory_nbs_/theory.ipynb\">numbers</a>.<a class=\"ProveItLink\" href=\"../../theory.ipynb\">negation</a>.<a class=\"ProveItLink\" href=\"../../theorems.ipynb#negated_zero\">negated_zero</a> theorem\n",
    "========"
   ]
  },
  {
   "cell_type": "code",
   "execution_count": 1,
   "metadata": {},
   "outputs": [],
   "source": [
    "import proveit\n",
    "theory = proveit.Theory() # the theorem's theory"
   ]
  },
  {
   "cell_type": "code",
   "execution_count": 2,
   "metadata": {},
   "outputs": [
    {
     "data": {
      "text/html": [
       "With these <a href=\"allowed_presumptions.txt\">allowed</a>/<a href=\"disallowed_presumptions.txt\">disallowed</a> theorem/theory presumptions (e.g., to avoid circular dependencies), we begin our proof of<br><strong id=\"negated_zero\">negated_zero:</strong> <a class=\"ProveItLink\" href=\"../../../__pv_it/theorems/b764e010d04406db41ba982f7044088f93933a1f0/expr.ipynb\"><img src=\"data:image/png;base64,iVBORw0KGgoAAAANSUhEUgAAAE8AAAAVBAMAAAD1D64kAAAAMFBMVEX///8AAAAAAAAAAAAAAAAA\n",
       "AAAAAAAAAAAAAAAAAAAAAAAAAAAAAAAAAAAAAAAAAAAv3aB7AAAAD3RSTlMAInZUiRDNmWbv3US7\n",
       "qzJazP2FAAAACXBIWXMAAA7EAAAOxAGVKw4bAAABNklEQVQoz2NgYBBgQAaMDLgAkwEKl1sBl0IT\n",
       "BJPFqZCBQQNTiYs60FbWBIRAMkOUAANbALo6NgPWhQwM7A1wAY4FDCwHGDgK0BV2MTD4MDBwIgR4\n",
       "LjAwf2VgmIqu8CwDg30AgxlCgL+Age8zA0MGusLvDAzvDRhKEALxQIU/GBh80dSxghQ2IOuXd2Dg\n",
       "+8TA0AbmVK0CgbWgkP0CVKjAsBhVIVDQEs1EsEIHhtlAs7PAuh/EOzBwA018j241UOF+BZBCJM8w\n",
       "Az2zE4tn7A2QreYBBiIweKzQ3MhwhoGhP4DhEEIhxwQGdmA89aCb2MnAUIYaGIsZIh8wIAcYBHAZ\n",
       "sM5jYHiFJBLudA9IrkZXyFqiC9TP9QA9NBZgT2UYaQAplaCCg2h8GVwJN4aARoSbUNM+kwB2ZQAz\n",
       "kEh37k8OywAAAABJRU5ErkJggg==\n",
       "\" style=\"display:inline;vertical-align:middle;\" /></a><br>(see <a class=\"ProveItLink\" href=\"../../../__pv_it/theorems/c52b519efe39d9a23613a9bf51e5201768d82e150/dependencies.ipynb\">dependencies</a>)<br>"
      ],
      "text/plain": [
       "<IPython.core.display.HTML object>"
      ]
     },
     "metadata": {},
     "output_type": "display_data"
    },
    {
     "name": "stdout",
     "output_type": "stream",
     "text": [
      "negated_zero may now be readily provable (assuming required theorems are usable).  Simply execute \"%qed\".\n"
     ]
    }
   ],
   "source": [
    "%proving negated_zero"
   ]
  },
  {
   "cell_type": "code",
   "execution_count": null,
   "metadata": {},
   "outputs": [],
   "source": []
  }
 ],
 "metadata": {
  "kernelspec": {
   "display_name": "Python 3",
   "language": "python",
   "name": "python3"
  }
 },
 "nbformat": 4,
 "nbformat_minor": 0
}