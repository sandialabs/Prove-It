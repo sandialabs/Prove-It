{
 "cells": [
  {
   "cell_type": "markdown",
   "metadata": {},
   "source": [
    "Proof of <a class=\"ProveItLink\" href=\"../../../../../_theory_nbs_/theory.ipynb\">proveit</a>.<a class=\"ProveItLink\" href=\"../../../../_theory_nbs_/theory.ipynb\">numbers</a>.<a class=\"ProveItLink\" href=\"../../theory.ipynb\">negation</a>.<a class=\"ProveItLink\" href=\"../../theorems.ipynb#real_nonzero_closure\">real_nonzero_closure</a> theorem\n",
    "========"
   ]
  },
  {
   "cell_type": "code",
   "execution_count": 1,
   "metadata": {},
   "outputs": [],
   "source": [
    "import proveit\n",
    "theory = proveit.Theory() # the theorem's theory"
   ]
  },
  {
   "cell_type": "code",
   "execution_count": 2,
   "metadata": {},
   "outputs": [
    {
     "data": {
      "text/html": [
       "With these <a href=\"allowed_presumptions.txt\">allowed</a>/<a href=\"disallowed_presumptions.txt\">disallowed</a> theorem/theory presumptions (e.g., to avoid circular dependencies), we begin our proof of<br><strong id=\"real_nonzero_closure\">real_nonzero_closure:</strong> <a class=\"ProveItLink\" href=\"../../../__pv_it/theorems/a980e096a20cb6b26406b129dbce56c630608ec50/expr.ipynb\"><img src=\"data:image/png;base64,iVBORw0KGgoAAAANSUhEUgAAAMMAAAAbCAMAAAD2zMvaAAAARVBMVEX///8AAAAAAAAAAAAAAAAA\n",
       "AAAAAAAAAAAAAAAAAAAAAAAAAAAAAAAAAAAAAAAAAAAAAAAAAAAAAAAAAAAAAAAAAAAAAAAeYafp\n",
       "AAAAFnRSTlMAq1RmmUTNIjK7EInv3Xah18O17eXJ8+7nKwAAAAlwSFlzAAAOxAAADsQBlSsOGwAA\n",
       "AyxJREFUWMPVWNmWpSAMFAhL2Gb3/z91CIvibs/Vh+Gctu3WS6hUVQh3GP6zYYf/fjiZry66F4MI\n",
       "+SYEzXKMOAwS0w28EoTDqzQwTVdv0mVMtxrfUKuaMnaez3+bXmYF6ZFM4Xll5OmBot5Efr6Yq9hC\n",
       "ecRRBV9nBKTxK/2IwWQMIT8IdMtmGYjP5erbXFeWi5fBMItfMoF29aGCwec0RFo/TB5U+mMM4NaS\n",
       "OhzKXmNw+ZdpabZV/UVLY2ba0v30xhP+GGtC4JpSAfcwgB5U1dLvP5i1NHuaciG6hDj+MYRCMvF8\n",
       "42W/JCJiSEPtYajJnbI9RKqt9S+gp6LmTH1OQwzVDXfmUj1XUkW7zwOztq529gXtcVD/ijlfnhIQ\n",
       "/AMbH1NLW+xsUS7qWpIc6/6/446CwSCvPuX7pUxm7sGsUP57ZcWdFPfxfFoOVsGJjqy9cpIweBXG\n",
       "0AhSR/o1bf/W7PY2RknWkcdtXFUnCfvWsp6wQRNcZxp14GkhpgrHD3oYXeoIUeCO2hwenAKmZiKh\n",
       "VcZt4FBrjZe1woZ5pGzBmF9yLYFzLn17C1daQisuSpwtGEhp2wWZyBDT8zikoE67vqezfltYOh78\n",
       "fkI8zjFJWPM68Ki2GrgSuc5aIgDbvgOKTQhDeiZsujgA+PYd0q6oSQ/BfE1LdqQgYpwI7gg83B/A\n",
       "XOxbpu4Tjre6YJ2ITi96gYwhWuiUVHnYGILVcBj3MfBSu3j+oOjWFuMRhkTReVsia4nQvibQBl2A\n",
       "deySljTSRImHHz+BeMjS28ov+m3Z7FcVKftQ87AowIrvYYCyfeHZkUQ0STLTBEQGI3SiwwDoKqTG\n",
       "BtUloQ9zYsK+/Vh0RrNYggW5eITSbvtWpFqMajxpIWCdLzJj7gSFyr0u8qIlJ8sscLGJNDNvrbL1\n",
       "YlgfDXDZa9wc673IkoxQWDsYN/R+kNLZO+fMpg9xfZqDzzv9qW9d5pHsIIXtt+1SW+2tM6Zp4sSr\n",
       "Pv6pU6TYWE+C4NGJHMNM3ZhyyQhwi2bGTyr+wrH6GQxBn7YU5IevfkkxtQb6/LAZH4Lwxnn6+hD6\n",
       "7Fc1+Mq0736/tC4M2bV/AY95GaL62YxjAAAAAElFTkSuQmCC\n",
       "\" style=\"display:inline;vertical-align:middle;\" /></a><br>(see <a class=\"ProveItLink\" href=\"../../../__pv_it/theorems/fadd90d88d09961d8ef3dc26b106b3319850e4610/dependencies.ipynb\">dependencies</a>)<br>"
      ],
      "text/plain": [
       "<IPython.core.display.HTML object>"
      ]
     },
     "metadata": {},
     "output_type": "display_data"
    },
    {
     "name": "stdout",
     "output_type": "stream",
     "text": [
      "real_nonzero_closure may now be readily provable (assuming required theorems are usable).  Simply execute \"%qed\".\n"
     ]
    }
   ],
   "source": [
    "%proving real_nonzero_closure"
   ]
  },
  {
   "cell_type": "code",
   "execution_count": null,
   "metadata": {},
   "outputs": [],
   "source": []
  }
 ],
 "metadata": {
  "kernelspec": {
   "display_name": "Python 3",
   "language": "python",
   "name": "python3"
  }
 },
 "nbformat": 4,
 "nbformat_minor": 0
}