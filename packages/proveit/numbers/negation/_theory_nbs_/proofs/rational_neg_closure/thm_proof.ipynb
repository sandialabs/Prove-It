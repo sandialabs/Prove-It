{
 "cells": [
  {
   "cell_type": "markdown",
   "metadata": {},
   "source": [
    "Proof of <a class=\"ProveItLink\" href=\"../../../../../_theory_nbs_/theory.ipynb\">proveit</a>.<a class=\"ProveItLink\" href=\"../../../../_theory_nbs_/theory.ipynb\">numbers</a>.<a class=\"ProveItLink\" href=\"../../theory.ipynb\">negation</a>.<a class=\"ProveItLink\" href=\"../../theorems.ipynb#rational_neg_closure\">rational_neg_closure</a> theorem\n",
    "========"
   ]
  },
  {
   "cell_type": "code",
   "execution_count": 1,
   "metadata": {},
   "outputs": [],
   "source": [
    "import proveit\n",
    "theory = proveit.Theory() # the theorem's theory"
   ]
  },
  {
   "cell_type": "code",
   "execution_count": 2,
   "metadata": {},
   "outputs": [
    {
     "data": {
      "text/html": [
       "With these <a href=\"allowed_presumptions.txt\">allowed</a>/<a href=\"disallowed_presumptions.txt\">disallowed</a> theorem/theory presumptions (e.g., to avoid circular dependencies), we begin our proof of<br><strong id=\"rational_neg_closure\">rational_neg_closure:</strong> <a class=\"ProveItLink\" href=\"../../../__pv_it/theorems/c1a89e5e959cd88229041f926e4b8a836966f9120/expr.ipynb\"><img src=\"data:image/png;base64,iVBORw0KGgoAAAANSUhEUgAAALUAAAAZBAMAAACFo3IPAAAAMFBMVEX///8AAAAAAAAAAAAAAAAA\n",
       "AAAAAAAAAAAAAAAAAAAAAAAAAAAAAAAAAAAAAAAAAAAv3aB7AAAAD3RSTlMAq1RmmUTNIjK7EInv\n",
       "3XZ/CtNrAAAACXBIWXMAAA7EAAAOxAGVKw4bAAAC8UlEQVRIx61WTWgTQRR+ze9uNgn1piASqaCg\n",
       "lVClaJESScSqqJF6sCI20oPgQVcRQSxtxINCxXgQawR1vVRqBaMRigjSi0gVIULVigS2iidFRFDB\n",
       "g/jN7GZ2sxuSVDowuzNv33zz5n3vvVmiJpo3TfNtvmYVV8wbmoKXm9MLZZiyY22jRd3NYctxPD5W\n",
       "y/y6S20in99qzSIaUSsbtNXFHkT3FBzCT06t6NJs8LWlFQXwFjY4XBd7B/qYUxjQHIJikWhvH0l5\n",
       "tFE48g/R2caO/4medMVOonouFcCK7LVcNWDsr8TqQUuwgKZc4hfm2W+U33JS7sIJSjYjvm/D/iAq\n",
       "UNfsaAnuzrjEAwanR03fjEsw2RPrEd+/or8ql1/WxW4Brs9O5fGnQ3g+4ONTFbeP+GGkP94htPrx\n",
       "BTtdr4FogclgIxC3hd9zuoV1nVQVBQe9cKykWxGXy8IKCrbWwLaoCuBzxMbIvTjtxGsNnwhfnfFw\n",
       "uz8LtWEUCllTqsrFxJVFahV2BMMwVMbKrM3SbqIPzC7OMzxafs9PZ/h7u1h2H0s8uqBSmsung09I\n",
       "6XDZHbZtP00hFpUHeDkQ0SvfccTJcJYdS6R+ClPlBIXWqY9SM6l0bZ+E/pL3O97tfFYSLBjxbenl\n",
       "2OkfHmGe6J6kKCPswkoiXbfb3QLbZCsnQj8QOVDayGffhDyJvNzTR1VxQoOwK/RO+k3jTNQVd2JH\n",
       "kTeKje6b1J5IGJUAhxKGKqye2JJ1E7cLnvAlpCnqZTOGqxfs2H7kpVSyFt3+cn4ZlrwxTrFkf0V+\n",
       "8texHltMbK4MwmnUrU5Umdg+0ye2ZHmGPusq/uZu/sdGzqMt9uquvGUBo8pd2gg/GufSVQfXuy6t\n",
       "uDuB9blVIp5YHTTtVnO9mqzxOCTFUc4vshBTHUCna+Tb8qvTYkevYMifXFuk4DWeOzOHsg57YvZA\n",
       "Nttog8sqorpuJZxp8lyt+3LIURzV/7ovfW27HP8Mqxfunr+0YQH+T8DdP8wjsAqF3EDdAAAAAElF\n",
       "TkSuQmCC\n",
       "\" style=\"display:inline;vertical-align:middle;\" /></a><br>(see <a class=\"ProveItLink\" href=\"../../../__pv_it/theorems/cb1ca9a9d72781b1897ba5cfe092e89f426ae5960/dependencies.ipynb\">dependencies</a>)<br>"
      ],
      "text/plain": [
       "<IPython.core.display.HTML object>"
      ]
     },
     "metadata": {},
     "output_type": "display_data"
    },
    {
     "name": "stdout",
     "output_type": "stream",
     "text": [
      "rational_neg_closure may now be readily provable (assuming required theorems are usable).  Simply execute \"%qed\".\n"
     ]
    }
   ],
   "source": [
    "%proving rational_neg_closure"
   ]
  },
  {
   "cell_type": "code",
   "execution_count": null,
   "metadata": {},
   "outputs": [],
   "source": []
  }
 ],
 "metadata": {
  "kernelspec": {
   "display_name": "Python 3",
   "language": "python",
   "name": "python3"
  }
 },
 "nbformat": 4,
 "nbformat_minor": 0
}