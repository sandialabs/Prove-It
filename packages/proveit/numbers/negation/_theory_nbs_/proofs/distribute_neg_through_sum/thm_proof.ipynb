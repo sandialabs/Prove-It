{
 "cells": [
  {
   "cell_type": "markdown",
   "metadata": {},
   "source": [
    "Proof of <a class=\"ProveItLink\" href=\"../../../../../_theory_nbs_/theory.ipynb\">proveit</a>.<a class=\"ProveItLink\" href=\"../../../../_theory_nbs_/theory.ipynb\">numbers</a>.<a class=\"ProveItLink\" href=\"../../theory.ipynb\">negation</a>.<a class=\"ProveItLink\" href=\"../../theorems.ipynb#distribute_neg_through_sum\">distribute_neg_through_sum</a> theorem\n",
    "========"
   ]
  },
  {
   "cell_type": "code",
   "execution_count": 1,
   "metadata": {},
   "outputs": [],
   "source": [
    "import proveit\n",
    "theory = proveit.Theory() # the theorem's theory"
   ]
  },
  {
   "cell_type": "code",
   "execution_count": 2,
   "metadata": {},
   "outputs": [
    {
     "data": {
      "text/html": [
       "With these <a href=\"allowed_presumptions.txt\">allowed</a>/<a href=\"disallowed_presumptions.txt\">disallowed</a> theorem/theory presumptions (e.g., to avoid circular dependencies), we begin our proof of<br><strong id=\"distribute_neg_through_sum\">distribute_neg_through_sum:</strong> <a class=\"ProveItLink\" href=\"../../../__pv_it/theorems/d0eae422382ad344fa241452294520d152f2dc600/expr.ipynb\"><img src=\"data:image/png;base64,iVBORw0KGgoAAAANSUhEUgAAApkAAAAXBAMAAACypEngAAAAMFBMVEX///8AAAAAAAAAAAAAAAAA\n",
       "AAAAAAAAAAAAAAAAAAAAAAAAAAAAAAAAAAAAAAAAAAAv3aB7AAAAD3RSTlMAq1RmmUTNIjK7EInv\n",
       "3XZ/CtNrAAAACXBIWXMAAA7EAAAOxAGVKw4bAAAFTElEQVRYw+1ZX2gcRRz+bvfudrN3uZz4YBUp\n",
       "EbVEJPGoVn0QPUlig9py6JsteuiDKIhXESRWQ3wQRNsShKDJgyy2BGvBntEWbEFOQSxUJUqQPPRg\n",
       "U4shqCFPWgSJMzuzf2Z2kr3lsm/94Nv73d7v5rv5dv4fEItSexLdo8Hpw0AKiKikKSaJduZTobYN\n",
       "iqV+xgCX06jY05wyLqfppidKjCrT97du7WaGvmiVbhTv5PShNdOoWKnCKCEdMVmUuDlK3z+/tZtZ\n",
       "2jrzjS4ErTpjgLl0avYip4g5pAouStx8i44qU1u7adIGPN6NXrbCGGA4mvSk+ru5zTqFKv8eThHD\n",
       "6brJRYmbeZu89MeMm9T8+W70ipwBWtGkIfV3NWeTQlX5RZsRcWLbCS5KjNLJk8/HzUJ3k5d6N3q7\n",
       "OAOL6um4ma8wIk5sO8FF6XT9Y7t9Mc7NYrt9qauB/DHOoOuT4qy1m96bV7jz2fIn5/sTuBnOL5QZ\n",
       "IYv5I7gkCrVoLBSi1M0xYDbOzewkeuxu3HyOU3icWSw7+xTuVEs7swsJ3Azn63VGYF+b4mdPzHdW\n",
       "EoVaNBYKUermIRhlRXYz7CbJONRVX/iF00cvea734SH7+qg7ekP/N1Pp3E0hX2sxQhbzIItCLRoH\n",
       "lSh1s8cWlufG4hk8QOytCqv3WZxJbuHqwyueEd8xWi+5DYbsGYqk0Ek8QrveveBN6QfWlExk6Xrq\n",
       "/HW0N2TJGEPGoujzlvM5zHVGcZYgYnOu8pIo6t2URIOfKa+0pHxRlBqlOcEkdOzGadxSsLO27OZQ\n",
       "wkmIFnTyBtzRFN0UKwj8RFP/iswqRYf2SK8jxc9CxSAj12JEVMyDKAq1aAcTeUTUbZX1B/0xZYzu\n",
       "i5xqAbKbed1JtLykBZ1zoDe36unI/YNPgcGIO880LLuvZlzt1E2a73W6BUZh3Az3dFkUatF4REVd\n",
       "N+fJalIfPnYF+I1+NHD7RAFfjiyO1EJuFnaRb5auTOz1NlNBGNph+TdpQdb9teAE4iNOHz0OrOlM\n",
       "iw7PspsnazejAN3u1E2e79YA+hQjJDF/SpdFoRaNg0rUdfMNMigdP1gpNiz3VwwUPj4QaZvGNyRY\n",
       "yUw9y++FwgD+Tbcg7ZXQVvRzzqDQMrSrJ1q5/qibd737OJ6gKWJPt/72Lqfriny3BmwxlJUXc6El\n",
       "U0QUalHP/IgoNhd13cyQ0fb139Fnsy3cAKqrETexg7DS40xi3G3eNMwNjYq/yP3c3wvqx0NrqqOc\n",
       "wcC9AGu/c9tuRN08saYN06551Bbb5qJ36a0q8t0akM9qjJDEfHtkUahFPUREsbloMJvvxEHoL8zM\n",
       "vE/cPJWPuumirwFz0PbCIk5LP6mPt0a3IPPt0JzYO8kYYMmPBtV7G2M22V6I1gB4k1PEUuTOoLpI\n",
       "YzbZskUQDYy6gBHTbLK2mRuS15scR8g42Gt7oUEuIshNfXR3E6wgMgvBe9J6lVE8KZAqJp5ivIrX\n",
       "Ep160Bqw841h5bFER276oh1CEPWNMtaxNMD2RHuAZeVpsdE6S1oscdNqshDTJMQp7+Le1FaxwDdX\n",
       "h/ei4DerDziDmaGxdcWMD995NEm9WA3oaZjiRKyn0Zmb3Yn6bubK+KOCcdIXzV8byKjP3vcfWLOp\n",
       "m+a3LCT7TRIeaZjf0wu/ucMgwzUtCNbZmbFgDuQMBjCvzodf/lq5nNvYWE9SMVYDalvUukAMaYpK\n",
       "f1JYX81MK/bpwqaA9nSNhedKfgg/WijtsRUFGQ5jgIk0TnNWOGWkIiaJli4l/svH/HMeeIodXGz8\n",
       "54UULLLK2he4hiSoqMLKNV/wPxLV1jdPLtZMAAAAAElFTkSuQmCC\n",
       "\" style=\"display:inline;vertical-align:middle;\" /></a><br>(see <a class=\"ProveItLink\" href=\"../../../__pv_it/theorems/7e3076d84628047069542d6290717e1b8377c6840/dependencies.ipynb\">dependencies</a>)<br>"
      ],
      "text/plain": [
       "<IPython.core.display.HTML object>"
      ]
     },
     "metadata": {},
     "output_type": "display_data"
    },
    {
     "name": "stdout",
     "output_type": "stream",
     "text": [
      "distribute_neg_through_sum may now be readily provable (assuming required theorems are usable).  Simply execute \"%qed\".\n"
     ]
    }
   ],
   "source": [
    "%proving distribute_neg_through_sum"
   ]
  },
  {
   "cell_type": "code",
   "execution_count": null,
   "metadata": {},
   "outputs": [],
   "source": []
  }
 ],
 "metadata": {
  "kernelspec": {
   "display_name": "Python 3",
   "language": "python",
   "name": "python3"
  }
 },
 "nbformat": 4,
 "nbformat_minor": 0
}