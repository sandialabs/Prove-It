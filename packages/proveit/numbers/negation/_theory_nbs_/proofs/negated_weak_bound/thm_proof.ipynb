{
 "cells": [
  {
   "cell_type": "markdown",
   "metadata": {},
   "source": [
    "Proof of <a class=\"ProveItLink\" href=\"../../../../../_theory_nbs_/theory.ipynb\">proveit</a>.<a class=\"ProveItLink\" href=\"../../../../_theory_nbs_/theory.ipynb\">numbers</a>.<a class=\"ProveItLink\" href=\"../../theory.ipynb\">negation</a>.<a class=\"ProveItLink\" href=\"../../theorems.ipynb#negated_weak_bound\">negated_weak_bound</a> theorem\n",
    "========"
   ]
  },
  {
   "cell_type": "code",
   "execution_count": 1,
   "metadata": {},
   "outputs": [],
   "source": [
    "import proveit\n",
    "theory = proveit.Theory() # the theorem's theory"
   ]
  },
  {
   "cell_type": "code",
   "execution_count": 2,
   "metadata": {},
   "outputs": [
    {
     "data": {
      "text/html": [
       "With these <a href=\"allowed_presumptions.txt\">allowed</a>/<a href=\"disallowed_presumptions.txt\">disallowed</a> theorem/theory presumptions (e.g., to avoid circular dependencies), we begin our proof of<br><strong id=\"negated_weak_bound\">negated_weak_bound:</strong> <a class=\"ProveItLink\" href=\"../../../__pv_it/theorems/b47243842bf23f0da552904ab260207d543e4e480/expr.ipynb\"><img src=\"data:image/png;base64,iVBORw0KGgoAAAANSUhEUgAAAPcAAAAXBAMAAAAl5sTiAAAAMFBMVEX///8AAAAAAAAAAAAAAAAA\n",
       "AAAAAAAAAAAAAAAAAAAAAAAAAAAAAAAAAAAAAAAAAAAv3aB7AAAAD3RSTlMAq1RmmUTNIjK7EInv\n",
       "3XZ/CtNrAAAACXBIWXMAAA7EAAAOxAGVKw4bAAADTklEQVRIx71WXWjTUBj9kvQnbbasr1MZBUUQ\n",
       "HfZBBvNhdkw3QdGywUAmrnOCKCjZozKl81EnVgVrFEomAx2D0fkwYcIogiCKUsSBIJUMq8MJY2/K\n",
       "nrx/ae5Ns4EVPXCaJjn3npvvfve7F+CvYDByCG+k27zZn0OPU/II2v46HqcYY/hme53muxkFfPHX\n",
       "CYNJUB7CN2fr846mKUWELPJuWNSJOE85hqcpW595IEEpQkmSy/RnQSdiHyUepxavz7yB0YPXLLaf\n",
       "LE7naWkRKmhUoTqnfCejB07AFce9VhNKUL4tl9/UaX6E0cHM0pPnKIizzr18xqjqnOmvJGACxTpG\n",
       "eRjgwWYOyY1fDXOfSaR6S6AE0OYuuyELRI0mF+EACkqacgTCsdp+W+c6L9J/QjLKOf7uPaMTZkNZ\n",
       "l1As97jm5ywQNdfQ6JpRP0XKiKWlRGN1yUzpGjwr1JjLeUH4kjJ6oYyRUSFA1tStqnzIcHSOxmqw\n",
       "4R2yWKOUbW++HcygVNVhv+01V+6CnzmXxKTJSUf+wXJ1DgYt9RcKSZES0h3oZ7WngkYZXAKJlB5s\n",
       "vpJ0zfXK1R7Q75DSGIOYf9hRz0YU+bV6lxqv6QYdh7xECU9RqdGN5hDK05kmaxymSEstnE+45stS\n",
       "9rT6gqSrva4WWUd5Roap1DbQ0LXdW2T4yboNETR2JUsJo/gG8ir6e7kVvkMfMQ88zHIJl4jYGdg1\n",
       "j6vho5LuzMQscOsKYO/1o9DrrCy+vHIa6IRBXBcLlCBl8MOf5NVWaIE20zTjuq718tnehFPnBHaX\n",
       "CpKzb91kZJhclbtwrVz0Lh1OAxMLx1FXjSlKluFFsg8vwiu4Qb5cDw5YnPk42X/HenCbhgxr1Jih\n",
       "9GzoJe8TUTOHeIWRYFRLB2Aa4GNwDa09Mucw7yZcuDhHi83IFtTTIL+FKEm/7cZ3qyFFJh3FqdPF\n",
       "SBt8XViB8TjsaE9D+D560P+tMNntfvmxgVWLnUHkrnvVrnKMAi7ROlqmC7uqY0GwpQLdRr1baTxq\n",
       "RNCwp02TKzve7fYxuKt9ilFArrZeuhq5Ax8gIgYlfwCyJLu/pqHXvCXoHg3CNqVwSvE5nHk1y4z8\n",
       "1ECwo7CxuYpWgZmDvh/w/2D8u65/A92m3lGMzjeEAAAAAElFTkSuQmCC\n",
       "\" style=\"display:inline;vertical-align:middle;\" /></a><br>(see <a class=\"ProveItLink\" href=\"../../../__pv_it/theorems/be8847fb01b79b5fa7089253cf3f96ab64cf3e700/dependencies.ipynb\">dependencies</a>)<br>"
      ],
      "text/plain": [
       "<IPython.core.display.HTML object>"
      ]
     },
     "metadata": {},
     "output_type": "display_data"
    },
    {
     "name": "stdout",
     "output_type": "stream",
     "text": [
      "negated_weak_bound may now be readily provable (assuming required theorems are usable).  Simply execute \"%qed\".\n"
     ]
    }
   ],
   "source": [
    "%proving negated_weak_bound"
   ]
  },
  {
   "cell_type": "code",
   "execution_count": null,
   "metadata": {},
   "outputs": [],
   "source": []
  }
 ],
 "metadata": {
  "kernelspec": {
   "display_name": "Python 3",
   "language": "python",
   "name": "python3"
  }
 },
 "nbformat": 4,
 "nbformat_minor": 0
}