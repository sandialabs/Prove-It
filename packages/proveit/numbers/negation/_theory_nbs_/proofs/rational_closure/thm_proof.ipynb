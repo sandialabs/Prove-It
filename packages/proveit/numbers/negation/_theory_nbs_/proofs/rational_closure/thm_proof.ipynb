{
 "cells": [
  {
   "cell_type": "markdown",
   "metadata": {},
   "source": [
    "Proof of <a class=\"ProveItLink\" href=\"../../../../../_theory_nbs_/theory.ipynb\">proveit</a>.<a class=\"ProveItLink\" href=\"../../../../_theory_nbs_/theory.ipynb\">numbers</a>.<a class=\"ProveItLink\" href=\"../../theory.ipynb\">negation</a>.<a class=\"ProveItLink\" href=\"../../theorems.ipynb#rational_closure\">rational_closure</a> theorem\n",
    "========"
   ]
  },
  {
   "cell_type": "code",
   "execution_count": 1,
   "metadata": {},
   "outputs": [],
   "source": [
    "import proveit\n",
    "theory = proveit.Theory() # the theorem's theory"
   ]
  },
  {
   "cell_type": "code",
   "execution_count": 2,
   "metadata": {},
   "outputs": [
    {
     "data": {
      "text/html": [
       "With these <a href=\"allowed_presumptions.txt\">allowed</a>/<a href=\"disallowed_presumptions.txt\">disallowed</a> theorem/theory presumptions (e.g., to avoid circular dependencies), we begin our proof of<br><strong id=\"rational_closure\">rational_closure:</strong> <a class=\"ProveItLink\" href=\"../../../__pv_it/theorems/ef66c9127aff011ef27c1df4227dacb36d18c7f00/expr.ipynb\"><img src=\"data:image/png;base64,iVBORw0KGgoAAAANSUhEUgAAAJkAAAAWBAMAAAAhlCOEAAAAMFBMVEX///8AAAAAAAAAAAAAAAAA\n",
       "AAAAAAAAAAAAAAAAAAAAAAAAAAAAAAAAAAAAAAAAAAAv3aB7AAAAD3RSTlMAq1RmmUTNIjK7EInv\n",
       "3XZ/CtNrAAAACXBIWXMAAA7EAAAOxAGVKw4bAAACrklEQVQ4y51UTWgTURD+ms1mk902RNFDEUow\n",
       "oAethFqKVgiBWhBEG8hFVCQiKBSRxIMg2BIRUSimAQu6Bev2UigVTPVQiyC9iH8IRfypSGCrBw+C\n",
       "iCjexJn9y+5mk4MPdnZn9vHNm++beUDbVaRH8oakdnvbrniSzGdvTNT9u+RldYqgTtBngv1UC7Qd\n",
       "9IRqvuAX/6715xjbQqnTwDD7Z4LB5AKZOX80onl9ZV8a4nAVGAUuMxXVYLQwZcOQPypkvf5EhEw1\n",
       "A/SbmZRkMFonm5Wm8EuL1Dv19/yeniXziCA7NQiUP9KCtm1MW6EpfMpU45xZsVytkN0aLiNCUK/r\n",
       "9Vct0A5ytW4RSk/GyS4a3xcs+qK1PNm8kIRCih6gs7ZA40NwQqc5nuEuYQzArZyo95GthNIQqIwS\n",
       "pIQbYmFqg92Hb+jpcnF6L41D9NppODYDUo37Kx/PIUQUxzQlZ/2Irqs56TGUPst/ykrQz7k6rzWM\n",
       "AJ8oNGnsJYbqH/nL4k1D9AfRrDsi7C+Tvuch7y560ez1AvJveh03ybej0yVLU5HlL2S4vsyS0cy4\n",
       "vh3Q9cBK5b8QKD16DW/VDh8z+o3qCXHoAfWw/CH6B/P8bzDdQJuhJ9YYS/knOgqUbK/hfXd6nGdh\n",
       "Mx1V4ONeIhHC2egKWGkDSbe6gltBcUk0g95s1mwcEts59CLN6Sa7mTrKzE48gQFVVZNHXJXeYLZX\n",
       "G2iz36710OZ35km7j9qqjpz+VWZSbIrvF2OD2oQxwy4VunjPmr8LJQtfXDYni8/D1GPMmcjiZF6L\n",
       "aUaXQEm557s/8C7wrp74xquu+0Ec2vUQ0m2je9+eLNvhWyyD/0692Dw0oe6zN5tuogVVpdKXrjiB\n",
       "eU9juVIErVjgVR5OHbbplFiOcd/t3ur+/xocruzBf65/n5af+D/Sf8QAAAAASUVORK5CYII=\n",
       "\" style=\"display:inline;vertical-align:middle;\" /></a><br>(see <a class=\"ProveItLink\" href=\"../../../__pv_it/theorems/7539f9f205bbc746114b3d43d0ff9c7adf1a804b0/dependencies.ipynb\">dependencies</a>)<br>"
      ],
      "text/plain": [
       "<IPython.core.display.HTML object>"
      ]
     },
     "metadata": {},
     "output_type": "display_data"
    },
    {
     "name": "stdout",
     "output_type": "stream",
     "text": [
      "rational_closure may now be readily provable (assuming required theorems are usable).  Simply execute \"%qed\".\n"
     ]
    }
   ],
   "source": [
    "%proving rational_closure"
   ]
  },
  {
   "cell_type": "code",
   "execution_count": null,
   "metadata": {},
   "outputs": [],
   "source": []
  }
 ],
 "metadata": {
  "kernelspec": {
   "display_name": "Python 3",
   "language": "python",
   "name": "python3"
  }
 },
 "nbformat": 4,
 "nbformat_minor": 0
}