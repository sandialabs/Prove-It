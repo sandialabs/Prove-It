{
 "cells": [
  {
   "cell_type": "markdown",
   "metadata": {},
   "source": [
    "Proof of <a class=\"ProveItLink\" href=\"../../../../../_theory_nbs_/theory.ipynb\">proveit</a>.<a class=\"ProveItLink\" href=\"../../../../_theory_nbs_/theory.ipynb\">numbers</a>.<a class=\"ProveItLink\" href=\"../../theory.ipynb\">negation</a>.<a class=\"ProveItLink\" href=\"../../theorems.ipynb#rational_nonpos_closure\">rational_nonpos_closure</a> theorem\n",
    "========"
   ]
  },
  {
   "cell_type": "code",
   "execution_count": 1,
   "metadata": {},
   "outputs": [],
   "source": [
    "import proveit\n",
    "theory = proveit.Theory() # the theorem's theory"
   ]
  },
  {
   "cell_type": "code",
   "execution_count": 2,
   "metadata": {},
   "outputs": [
    {
     "data": {
      "text/html": [
       "With these <a href=\"allowed_presumptions.txt\">allowed</a>/<a href=\"disallowed_presumptions.txt\">disallowed</a> theorem/theory presumptions (e.g., to avoid circular dependencies), we begin our proof of<br><strong id=\"rational_nonpos_closure\">rational_nonpos_closure:</strong> <a class=\"ProveItLink\" href=\"../../../__pv_it/theorems/ee925d229c160c2f0a45c3d8fa69b9f7fbec70300/expr.ipynb\"><img src=\"data:image/png;base64,iVBORw0KGgoAAAANSUhEUgAAAMUAAAAaBAMAAAD1foU5AAAAMFBMVEX///8AAAAAAAAAAAAAAAAA\n",
       "AAAAAAAAAAAAAAAAAAAAAAAAAAAAAAAAAAAAAAAAAAAv3aB7AAAAD3RSTlMAq1RmmUTNIjK7EInv\n",
       "3XZ/CtNrAAAACXBIWXMAAA7EAAAOxAGVKw4bAAADYUlEQVRIx7VWXUgUURQ+7Y8zu7O72ltFxIZB\n",
       "RRlLhZWEbLiiGdWKPbQRZfgQ9FBjSBD+rRQUGBkV2QbZCGGYUpYPkYFIEGURGPRjxMJoRA+FRFCB\n",
       "D9F37+yOOz+yu0UXZubeM/fM+fm+c+4Q/afh6CZpdCg/HWc0PxM9ROUUI1c+Sivy8+gSbs+oUBYu\n",
       "5K7krcdNMMqEeXcHLrLXs+QLIpichyeE27RR5lYt2wYSiSoi8TGbi7PkD5FfISpiy+KsNlpYjs0Q\n",
       "frT4vzQuvMKu1SOaDZ9KARioZO8OZ7WxA1efWVigmATDw0R7YpjERniuCoPknSXqYJnLDswPXBUW\n",
       "ZMPGtTgE1DxOlsKOKg1zogbNFymYzQTiJhqziJ+nUnQ9+ZaDdhuJkeKMHtS4hGaoFpPt8AVgFmQN\n",
       "IzABOOot4gYN+6OpnPWLCMERrOYLGTVYg+dXXC+TyRdZbSzA912ZkDeOtuF+j89PpGHpdMNhd2i9\n",
       "QfUg3sLqtezUBWIFoQzaPqUb0C0lA2MOOJF0UTWytCsOj0gosnzzJiOfMP1ZZxC2+DNQGwzRTjzW\n",
       "8oWew2YHj+OTmMDoTgnb0YQ8imRoRQOXF4INzVWMDjpQfjDIh219STYmaTfRB+Yj5wOynXzPo9Xw\n",
       "qDG4exdqDlX/kjiViAqPSGIJvVNJg+RTMuLwZbgyTl7G5v28zejM99ya45U+2uMsVL2lRLCUjpN3\n",
       "AwKh1mgr+eP2ufL+Juc3PEv4akJHSasPYyV0sY/dP8IyVP6AAgzUsyuJVIR8eoTFIad5BV89c+3J\n",
       "+x1Mw8YtfDWjyytQ57UxsvCKWuCj9534i/qZqCzEbdTystGzGED9SRnU6KGScFjrMNinOy6xfmUq\n",
       "/q3cRyTEFRbHqI6tWAzqUG+Q82qTngXUuTgxp9j75cwyqL3Rolq8Ly1v+nms2kTRbemJL4r+WArG\n",
       "BfemcmUaT3BNmoVCyqr7odZLMBY5VdtewAgme8qUTh4ux7wpEolEzX13o9mGK2RtCOrUKoMi67up\n",
       "OOSuOsWjcP6SZHOcnGPUlE3CkzYdYfmVcYNlp46iu2LdMAlXeQ2+PhS3aVjBzEJIje4cDlC/bDkp\n",
       "EeeDU/Od522mZiznYMP+PHcV77L5z1nzd79Z8x1/5zf/+/+V7jAw/gNTBs1YMZnoQwAAAABJRU5E\n",
       "rkJggg==\n",
       "\" style=\"display:inline;vertical-align:middle;\" /></a><br>(see <a class=\"ProveItLink\" href=\"../../../__pv_it/theorems/d4c14ab80eacf07e1e5ff35f9c606143689700e00/dependencies.ipynb\">dependencies</a>)<br>"
      ],
      "text/plain": [
       "<IPython.core.display.HTML object>"
      ]
     },
     "metadata": {},
     "output_type": "display_data"
    },
    {
     "name": "stdout",
     "output_type": "stream",
     "text": [
      "rational_nonpos_closure may now be readily provable (assuming required theorems are usable).  Simply execute \"%qed\".\n"
     ]
    }
   ],
   "source": [
    "%proving rational_nonpos_closure"
   ]
  },
  {
   "cell_type": "code",
   "execution_count": null,
   "metadata": {},
   "outputs": [],
   "source": []
  }
 ],
 "metadata": {
  "kernelspec": {
   "display_name": "Python 3",
   "language": "python",
   "name": "python3"
  }
 },
 "nbformat": 4,
 "nbformat_minor": 0
}