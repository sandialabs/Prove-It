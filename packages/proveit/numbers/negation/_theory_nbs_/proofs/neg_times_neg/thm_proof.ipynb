{
 "cells": [
  {
   "cell_type": "markdown",
   "metadata": {},
   "source": [
    "Proof of <a class=\"ProveItLink\" href=\"../../../../../_theory_nbs_/theory.ipynb\">proveit</a>.<a class=\"ProveItLink\" href=\"../../../../_theory_nbs_/theory.ipynb\">numbers</a>.<a class=\"ProveItLink\" href=\"../../theory.ipynb\">negation</a>.<a class=\"ProveItLink\" href=\"../../theorems.ipynb#neg_times_neg\">neg_times_neg</a> theorem\n",
    "========"
   ]
  },
  {
   "cell_type": "code",
   "execution_count": 1,
   "metadata": {},
   "outputs": [],
   "source": [
    "import proveit\n",
    "theory = proveit.Theory() # the theorem's theory"
   ]
  },
  {
   "cell_type": "code",
   "execution_count": 2,
   "metadata": {},
   "outputs": [
    {
     "data": {
      "text/html": [
       "With these <a href=\"allowed_presumptions.txt\">allowed</a>/<a href=\"disallowed_presumptions.txt\">disallowed</a> theorem/theory presumptions (e.g., to avoid circular dependencies), we begin our proof of<br><strong id=\"neg_times_neg\">neg_times_neg:</strong> <a class=\"ProveItLink\" href=\"../../../__pv_it/theorems/b04fe2384f035cf5965763d9588d4616bd03b5800/expr.ipynb\"><img src=\"data:image/png;base64,iVBORw0KGgoAAAANSUhEUgAAARoAAAAWBAMAAADtKE5GAAAAMFBMVEX///8AAAAAAAAAAAAAAAAA\n",
       "AAAAAAAAAAAAAAAAAAAAAAAAAAAAAAAAAAAAAAAAAAAv3aB7AAAAD3RSTlMAq1RmmUTNIjK7EInv\n",
       "3XZ/CtNrAAAACXBIWXMAAA7EAAAOxAGVKw4bAAADF0lEQVRIx8VWT0gUYRR/uzOzf2bU9hZiyIIR\n",
       "REoeIvIihoRCBUuHTkILHqIg2LpZEtuhS2haILEdloVCkmJZOwgVhJcgjEIkwYsxphFGiBAkeOqb\n",
       "b2b2vfnmzeCtH7z1m3m/9/PN973vex/AQVAiRpCOeZKP6SgxFZFkBm15NArDpk/fw84gAcVC8Mk5\n",
       "56ErPpsTxALYJONkg3Fu8mJheORzzvhqbDJmES2IVA3Hs5yTElCMgUe+56zYdGw2ei9aENoAjgc5\n",
       "JyWgGAOP7CRl5WOzaSGmYAmHi6xziRPj4JI1kWsqvmyOEVMwimVTZJ2jnBgHj/x5ff1TfDbnifmo\n",
       "b7x4J2Z0HleAFHF9EMyc65znxLxgjjwM8DQ+m1HmOwfaOvVlgNNYhqQeGt2g7bpOSdDXJXK+mBfM\n",
       "kW9COseksH32p39YrBDzi66k7SfE/+9uvmnF2svkL0Ji2nV2q7orGMyRszWrEAx42D4Dc4fhuD/3\n",
       "H9DMG/IryxnQZZ1MOXv2r6xOITIrnWsmfIEW23VOqdkIET9YBirkpK0UsS7WDt7aoDHZkL0hZ27E\n",
       "+fnqZ9M8Wfdhquw6R5hs/GA3UCEX+8XPztCW6B/GBiTksWieKWBDYVYK4ErJFGdDD7dSzqf/BtfZ\n",
       "o9bNCgaz5NfXRfMotaeEXP1QbcJ0jsLkLdLbqsQ8zBWOgCX+9jXfZElLyubgkefsU+emisEseVzk\n",
       "rEE1I4a3e2DbcOpLe0aO9HkI7daTDy7ApcCmt8hW0HPGH+ZU8MX8YJacKDsv96SrAzq1a5XK48z9\n",
       "MgpMEvPwfCc56CzNKm6kZdKLOrb2POeqms0kBkeTM4vyerEKHzOyeEUVgz89rWU05VpCUlijDqvo\n",
       "OikBxRSEyONWUYeXQtLYdc/CO0Ng2Ur7i2+Bp3C4AK/yB2m0UWT9x/tfMJGHo31FGHOyNxcqw82A\n",
       "J8QCGCPjLNb9N7HirnMsfKyqIpHkvFnK9oL5pjITfD9HLFLZxGtJ11YhKv+wSBTZqCXsy1yjStto\n",
       "gUtl4Ip7N+xsK/Fi4etpmKyB0d+A/4l/k834ck5ePNQAAAAASUVORK5CYII=\n",
       "\" style=\"display:inline;vertical-align:middle;\" /></a><br>(see <a class=\"ProveItLink\" href=\"../../../__pv_it/theorems/c50fa7c82b4b81f35154676b6a1ec453ec7327390/dependencies.ipynb\">dependencies</a>)<br>"
      ],
      "text/plain": [
       "<IPython.core.display.HTML object>"
      ]
     },
     "metadata": {},
     "output_type": "display_data"
    },
    {
     "name": "stdout",
     "output_type": "stream",
     "text": [
      "neg_times_neg may now be readily provable (assuming required theorems are usable).  Simply execute \"%qed\".\n"
     ]
    }
   ],
   "source": [
    "%proving neg_times_neg"
   ]
  },
  {
   "cell_type": "code",
   "execution_count": null,
   "metadata": {},
   "outputs": [],
   "source": []
  }
 ],
 "metadata": {
  "kernelspec": {
   "display_name": "Python 3",
   "language": "python",
   "name": "python3"
  }
 },
 "nbformat": 4,
 "nbformat_minor": 0
}