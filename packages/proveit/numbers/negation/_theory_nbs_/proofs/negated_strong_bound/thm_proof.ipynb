{
 "cells": [
  {
   "cell_type": "markdown",
   "metadata": {},
   "source": [
    "Proof of <a class=\"ProveItLink\" href=\"../../../../../_theory_nbs_/theory.ipynb\">proveit</a>.<a class=\"ProveItLink\" href=\"../../../../_theory_nbs_/theory.ipynb\">numbers</a>.<a class=\"ProveItLink\" href=\"../../theory.ipynb\">negation</a>.<a class=\"ProveItLink\" href=\"../../theorems.ipynb#negated_strong_bound\">negated_strong_bound</a> theorem\n",
    "========"
   ]
  },
  {
   "cell_type": "code",
   "execution_count": 1,
   "metadata": {},
   "outputs": [],
   "source": [
    "import proveit\n",
    "theory = proveit.Theory() # the theorem's theory"
   ]
  },
  {
   "cell_type": "code",
   "execution_count": 2,
   "metadata": {},
   "outputs": [
    {
     "data": {
      "text/html": [
       "With these <a href=\"allowed_presumptions.txt\">allowed</a>/<a href=\"disallowed_presumptions.txt\">disallowed</a> theorem/theory presumptions (e.g., to avoid circular dependencies), we begin our proof of<br><strong id=\"negated_strong_bound\">negated_strong_bound:</strong> <a class=\"ProveItLink\" href=\"../../../__pv_it/theorems/5ae9a609eac901a6c06c95cc68bf5e8f21e3b6820/expr.ipynb\"><img src=\"data:image/png;base64,iVBORw0KGgoAAAANSUhEUgAAAPcAAAAXBAMAAAAl5sTiAAAAMFBMVEX///8AAAAAAAAAAAAAAAAA\n",
       "AAAAAAAAAAAAAAAAAAAAAAAAAAAAAAAAAAAAAAAAAAAv3aB7AAAAD3RSTlMAq1RmmUTNIjK7EInv\n",
       "3XZ/CtNrAAAACXBIWXMAAA7EAAAOxAGVKw4bAAADRUlEQVRIx71WXUgUURQ+sz/uz7jjvoUVslD0\n",
       "UtI+hGAPplgaFLUoCGLkWkEUFBP0UlisPZbRlpBtgYwhlCzI2oOBgSxBEEWxVEIQxkiWZCC+FT51\n",
       "7s/M3Ds7Wm3UB9/uzNzv3u/OueeeOwB/BZ1TQGgt3frd/hxaglFE0PTWiTjKGSc3Wyo0384p4ZO3\n",
       "TppMknEfuTlZmXc0zSijyvDSyTjNOECWKVuZeSDJKMPf7KWTsYuRzFNNVGZezenCC/q2x2Wdq6dB\n",
       "6cdZVVW45Ns4XWC2+Y+SzrU0ScZXc3MvKzQ/wGlhYv7hEwziJM+qD4ags5Z/IQmjGOs4436Au+s5\n",
       "NK/ddNx+TS7V6gIlgAZr8d8ZYigoVF8R9mBTmvEchOLl49ZPtZxlV+sk4xtOy0z3ryoYyx3WA98J\n",
       "3dZxXMHZ1WJLkTFiqCl5zPB8LqWp8LjgYS5to2eM0TNzBJkwBOieuuEUnD4DZI1RbcJrtFhh9Jnu\n",
       "fNubwQXTYLdZbn5+o4e5kMS0yxHH/JRlbqPXCP/AhiIjpJvwZ7l9AUMUnAeFlh5ivtTsmGsLl9vx\n",
       "b2ADlsU4xL3DjiPrUXSrt8PeVxZ2aAONhLzECI+w1Gh6bRXm6USNMQjj1E0NjSQd80UlewygGycQ\n",
       "NVfDRT7QCCfHeGozqPjfaCec7ugs3IQIzt2fZYR+cgMjYby8WA9foZOaB+5lhYRLRswMdE+Tani/\n",
       "pFkrMQn2viLYefUgdDg7y9lqggZaoJfUxQIjKBny8Dtt2gR10JDL5RKapnaI2V6jQ/gpvVIKinVu\n",
       "XefkGFv2tZJaOcs2vVNkBA2MzhzGeMRSjDzDi/QcnoXncI1OWwv2GIL5IJ6/+VvkKpaqzvBOsQyj\n",
       "60Av0Wry1nkia6aQlzgp+tV0APIA74MruPfomsO0k3Ch4hQpNtoQHalXPEJ+5xgRNGo6SgLYysk6\n",
       "fJ5ZgsEEbG1MQ+gOPuj6Uhhrc978UM8ymZIf3X2tt+2hhjklXCivRo4mZioFdoy6j9JEVI/gtPO5\n",
       "nFB2JI1vGB7AkJPfnGs4STo+QBP5gIjojOIHkKGYXWUd3eW1Luh8GoRMRukrxePjzK1Z5BSXBoJN\n",
       "hV+ad36D/wf93w39E04Y1jCDTF/MAAAAAElFTkSuQmCC\n",
       "\" style=\"display:inline;vertical-align:middle;\" /></a><br>(see <a class=\"ProveItLink\" href=\"../../../__pv_it/theorems/ecda4bf163665794ce16a1e6d0f633adb72fedf60/dependencies.ipynb\">dependencies</a>)<br>"
      ],
      "text/plain": [
       "<IPython.core.display.HTML object>"
      ]
     },
     "metadata": {},
     "output_type": "display_data"
    },
    {
     "name": "stdout",
     "output_type": "stream",
     "text": [
      "negated_strong_bound may now be readily provable (assuming required theorems are usable).  Simply execute \"%qed\".\n"
     ]
    }
   ],
   "source": [
    "%proving negated_strong_bound"
   ]
  },
  {
   "cell_type": "code",
   "execution_count": null,
   "metadata": {},
   "outputs": [],
   "source": []
  }
 ],
 "metadata": {
  "kernelspec": {
   "display_name": "Python 3",
   "language": "python",
   "name": "python3"
  }
 },
 "nbformat": 4,
 "nbformat_minor": 0
}