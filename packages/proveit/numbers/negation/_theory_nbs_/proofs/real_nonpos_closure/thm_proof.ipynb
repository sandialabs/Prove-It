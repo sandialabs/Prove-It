{
 "cells": [
  {
   "cell_type": "markdown",
   "metadata": {},
   "source": [
    "Proof of <a class=\"ProveItLink\" href=\"../../../../../_theory_nbs_/theory.ipynb\">proveit</a>.<a class=\"ProveItLink\" href=\"../../../../_theory_nbs_/theory.ipynb\">numbers</a>.<a class=\"ProveItLink\" href=\"../../theory.ipynb\">negation</a>.<a class=\"ProveItLink\" href=\"../../theorems.ipynb#real_nonpos_closure\">real_nonpos_closure</a> theorem\n",
    "========"
   ]
  },
  {
   "cell_type": "code",
   "execution_count": 1,
   "metadata": {},
   "outputs": [],
   "source": [
    "import proveit\n",
    "theory = proveit.Theory() # the theorem's theory"
   ]
  },
  {
   "cell_type": "code",
   "execution_count": 2,
   "metadata": {},
   "outputs": [
    {
     "data": {
      "text/html": [
       "With these <a href=\"allowed_presumptions.txt\">allowed</a>/<a href=\"disallowed_presumptions.txt\">disallowed</a> theorem/theory presumptions (e.g., to avoid circular dependencies), we begin our proof of<br><strong id=\"real_nonpos_closure\">real_nonpos_closure:</strong> <a class=\"ProveItLink\" href=\"../../../__pv_it/theorems/7c67f00586a98248aac1e646b6849107a70b06170/expr.ipynb\"><img src=\"data:image/png;base64,iVBORw0KGgoAAAANSUhEUgAAAMMAAAAaBAMAAAD4YPV+AAAAMFBMVEX///8AAAAAAAAAAAAAAAAA\n",
       "AAAAAAAAAAAAAAAAAAAAAAAAAAAAAAAAAAAAAAAAAAAv3aB7AAAAD3RSTlMAq1RmmUTNIjK7EInv\n",
       "3XZ/CtNrAAAACXBIWXMAAA7EAAAOxAGVKw4bAAADMklEQVRIx7VWXUgUURQ+7c7u/O2OoiBkEAtC\n",
       "EJEIVg8Sprhm5cuUEIhRWz0EUjG+lz8Q9FDhYpStkYwQQfigZWT4IEthRRFIGPXQ1kSRJRXSQ5FP\n",
       "nTOzjnfvZLMTdOHeuXPm3vudn++cOwD/p4UGQZ0eD7ZnazCEYYB6aAchyJ6GIAjhizg8hhJDTBe/\n",
       "6QYNRqHMWG2xNoCDuASxBJpSdCO1tESh7CCv+/HMj9e4ULpPb9ISxGsgbgKU0muVH4KYxWETr2wN\n",
       "J5DF0kj5EMDGKQciZoGG5zfTt2N+EAKSQ0nx0k4PxDik+3DSPmU7qiQByhIASfyDUqIjDK80bPkD\n",
       "REuUZn0tTrgBjgJE0Vlqwg+iH1fFPNKY6Tw/53IpF0K2RV2V8A324mQ3xgh1i/pG+yv2DR5p1LFr\n",
       "/wJjReXIMt3U6T34/IL9WS731BeiAnsrG/518xZab3NF7GQcJQ1wcT2Elu4CGPKFyIDtVbcdMGSM\n",
       "Y9h2T9RYgXj49o3JubgXvQZiKX+i0koLu6vdzYexP2e+PwBhFlM+a0Mw4Z6oQ1Qpg20wL+tBosim\n",
       "qjOnb77beBKNv2MQJ12azmGfwaNP5Kj1CosQRxpLi/TtPInSeUcN1XLajuHhIctVQ3qX0TUVJikJ\n",
       "PuhKFp6wVswwVErbWyO2FTdZ0p6ROUf1oKMg5daRJL5qGtRZFMQX4iy8WsVRYxbsoNo4Sy9xFkI4\n",
       "y+VYPzn7NjFitH7SKQgIsYBVVWo10YpHywvXYh9mIBJQETIgbB+nWQyEkn7vZRScwmgrL6WfjsWa\n",
       "Kg7XQKSczFuJBbH7FpPGVmhOcMoKtiMrEA1QK+sFENtpWIPuERqkLLTZEMLVNChlNO2uMlhdLjCM\n",
       "Wn+v6xO6yDlt5JK5XGl/GfLl7wUQjW78dCyJ25BrCU1T93nzIoaHxXt56en8s+NaLrVaRrnZNGbI\n",
       "deY52wot0mGKyWSyma+0Yc/F1+R/z1ClzWtp9LeZNt+QtFPeS1Qieg7yl0gRt2bYTetIU/UEiFeo\n",
       "pn0cv77Tu7SsIAHy0TX8IeLcmtFMRv/L3S1ahbL5Ii7kAHd3KOA/UQBf/uN/lEsTDO9vq7PGTuDL\n",
       "jMwAAAAASUVORK5CYII=\n",
       "\" style=\"display:inline;vertical-align:middle;\" /></a><br>(see <a class=\"ProveItLink\" href=\"../../../__pv_it/theorems/eca0d5d173d43b04746cd0374c4f101cecfb1a3f0/dependencies.ipynb\">dependencies</a>)<br>"
      ],
      "text/plain": [
       "<IPython.core.display.HTML object>"
      ]
     },
     "metadata": {},
     "output_type": "display_data"
    },
    {
     "name": "stdout",
     "output_type": "stream",
     "text": [
      "real_nonpos_closure may now be readily provable (assuming required theorems are usable).  Simply execute \"%qed\".\n"
     ]
    }
   ],
   "source": [
    "%proving real_nonpos_closure"
   ]
  },
  {
   "cell_type": "code",
   "execution_count": null,
   "metadata": {},
   "outputs": [],
   "source": []
  }
 ],
 "metadata": {
  "kernelspec": {
   "display_name": "Python 3",
   "language": "python",
   "name": "python3"
  }
 },
 "nbformat": 4,
 "nbformat_minor": 0
}