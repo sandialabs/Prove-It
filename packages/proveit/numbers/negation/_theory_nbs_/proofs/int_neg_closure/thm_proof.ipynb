{
 "cells": [
  {
   "cell_type": "markdown",
   "metadata": {},
   "source": [
    "Proof of <a class=\"ProveItLink\" href=\"../../../../../_theory_nbs_/theory.ipynb\">proveit</a>.<a class=\"ProveItLink\" href=\"../../../../_theory_nbs_/theory.ipynb\">numbers</a>.<a class=\"ProveItLink\" href=\"../../theory.ipynb\">negation</a>.<a class=\"ProveItLink\" href=\"../../theorems.ipynb#int_neg_closure\">int_neg_closure</a> theorem\n",
    "========"
   ]
  },
  {
   "cell_type": "code",
   "execution_count": 1,
   "metadata": {},
   "outputs": [],
   "source": [
    "import proveit\n",
    "theory = proveit.Theory() # the theorem's theory"
   ]
  },
  {
   "cell_type": "code",
   "execution_count": 2,
   "metadata": {},
   "outputs": [
    {
     "data": {
      "text/html": [
       "With these <a href=\"allowed_presumptions.txt\">allowed</a>/<a href=\"disallowed_presumptions.txt\">disallowed</a> theorem/theory presumptions (e.g., to avoid circular dependencies), we begin our proof of<br><strong id=\"int_neg_closure\">int_neg_closure:</strong> <a class=\"ProveItLink\" href=\"../../../__pv_it/theorems/81a66481d95df728bfd7f9a921d0f78572fa197c0/expr.ipynb\"><img src=\"data:image/png;base64,iVBORw0KGgoAAAANSUhEUgAAALMAAAAZBAMAAACIvQJIAAAAMFBMVEX///8AAAAAAAAAAAAAAAAA\n",
       "AAAAAAAAAAAAAAAAAAAAAAAAAAAAAAAAAAAAAAAAAAAv3aB7AAAAD3RSTlMAq1RmmUTNIjK7EInv\n",
       "3XZ/CtNrAAAACXBIWXMAAA7EAAAOxAGVKw4bAAACy0lEQVRIx7VWTWgTQRR++d/sJktu6kUCKh5q\n",
       "ZQ9SUCREmkK1FBcrCFJwoYdiEdleBKHWKIIHlVYP1i3+rJdCqGCsiNiD1INIFDEXtSILUY+KFEGE\n",
       "IuKbnXRndtZuUtGB2czvN2++9703AWijxHRYY4m3u3DzWpEhNdneOtkgi4W9LfYU2oNOa/j56B9L\n",
       "NIRF0WM/jzrXtZVu1gbIkcamUOgxsrMqDH4S+urlMhhJ1kXcHtIYDoXuwzojDiZtwXFFULU5kCws\n",
       "U0jiMsCZ1qR/x9odUE3R34+YUJE5nCF6upIPQ5bQAFgIDD9v3vyG88b1NUBvpMym9+LpyHwy1Gi1\n",
       "jlQbgeEh6s7jHjFS7hw3/QXrS8d5EQodQdg478XRx+P4vee2TzDK0/Y0t+gITvQCTAfxFE57yGBS\n",
       "43T3DG7hvi4QBNAR4wU5geSMQioXGqlJnM5y3rijQT/+bHM7HFGGj9fTOrmHwqeIU3167IkPOota\n",
       "yOCSGYeURdgP8J6Y5fKLdDrvqEvyDwAYPXdxR7ThnSZ9sPRobh72BazOcKfXQCZyHHR1weRWIRJe\n",
       "x6wmajG8eC9hN1qIQ1Up9Zd6ViFE/gWxJfztdHt1b3w9KlteYlyb+Jkbwc9s4SFGE4nos4caVZ/V\n",
       "EbQmzTwkf0PNbAXY6fa+ejcuHsSldZ9CYAytkt9KP6Dippny/BY/tIrhonCevgmdxSINf7xS3pPe\n",
       "CKSuMH52u1aVSQaQFmCAQsfVSR90AqNRYubA7c/nN+KW1/QOGw7T0cGrNetVjcl/z0ojo2Oq6sLM\n",
       "ko+W5arh0zU8xboYSPbNwxKPaKD/OViJVMz0LvsCtRoONIKZb0dA+Fr487HsWW1ODNhpm76DqhBC\n",
       "FwmVprD3ZIvn1MNIdG+/D6lr2Lo03HweOInkfQKmZSocOiuYMmtZ+mpv47iQDs1/8jZCx3970f/m\n",
       "fwi67Te4Up5kZYvfwgAAAABJRU5ErkJggg==\n",
       "\" style=\"display:inline;vertical-align:middle;\" /></a><br>(see <a class=\"ProveItLink\" href=\"../../../__pv_it/theorems/b69aebe2fb130d3fe54c748af366995ce0982c230/dependencies.ipynb\">dependencies</a>)<br>"
      ],
      "text/plain": [
       "<IPython.core.display.HTML object>"
      ]
     },
     "metadata": {},
     "output_type": "display_data"
    },
    {
     "name": "stdout",
     "output_type": "stream",
     "text": [
      "int_neg_closure may now be readily provable (assuming required theorems are usable).  Simply execute \"%qed\".\n"
     ]
    }
   ],
   "source": [
    "%proving int_neg_closure"
   ]
  },
  {
   "cell_type": "code",
   "execution_count": null,
   "metadata": {},
   "outputs": [],
   "source": []
  }
 ],
 "metadata": {
  "kernelspec": {
   "display_name": "Python 3",
   "language": "python",
   "name": "python3"
  }
 },
 "nbformat": 4,
 "nbformat_minor": 0
}