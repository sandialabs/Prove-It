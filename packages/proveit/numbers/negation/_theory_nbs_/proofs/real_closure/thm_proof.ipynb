{
 "cells": [
  {
   "cell_type": "markdown",
   "metadata": {},
   "source": [
    "Proof of <a class=\"ProveItLink\" href=\"../../../../../_theory_nbs_/theory.ipynb\">proveit</a>.<a class=\"ProveItLink\" href=\"../../../../_theory_nbs_/theory.ipynb\">numbers</a>.<a class=\"ProveItLink\" href=\"../../theory.ipynb\">negation</a>.<a class=\"ProveItLink\" href=\"../../theorems.ipynb#real_closure\">real_closure</a> theorem\n",
    "========"
   ]
  },
  {
   "cell_type": "code",
   "execution_count": 1,
   "metadata": {},
   "outputs": [],
   "source": [
    "import proveit\n",
    "theory = proveit.Theory() # the theorem's theory"
   ]
  },
  {
   "cell_type": "code",
   "execution_count": 2,
   "metadata": {},
   "outputs": [
    {
     "data": {
      "text/html": [
       "With these <a href=\"allowed_presumptions.txt\">allowed</a>/<a href=\"disallowed_presumptions.txt\">disallowed</a> theorem/theory presumptions (e.g., to avoid circular dependencies), we begin our proof of<br><strong id=\"real_closure\">real_closure:</strong> <a class=\"ProveItLink\" href=\"../../../__pv_it/theorems/f5ed45ea54034a957d388614e2bc572cbbddc5e00/expr.ipynb\"><img src=\"data:image/png;base64,iVBORw0KGgoAAAANSUhEUgAAAJcAAAAVBAMAAAC5yWGZAAAAMFBMVEX///8AAAAAAAAAAAAAAAAA\n",
       "AAAAAAAAAAAAAAAAAAAAAAAAAAAAAAAAAAAAAAAAAAAv3aB7AAAAD3RSTlMAq1RmmUTNIjK7EInv\n",
       "3XZ/CtNrAAAACXBIWXMAAA7EAAAOxAGVKw4bAAACTklEQVQ4y4VUTWjUQBj9upvdJJvdkJMXQQJC\n",
       "L6IsKAV7qCtVKXhZLXipSNCDUFjNghexwnoUFXMpNYo1oghrD60KVjwVxEMRoYjgKRAvVnvqTRAE\n",
       "5+ebOBMz9cHb7LydffP9ZQB2RIgsSLqtO8L1OWWcK+wZW3/UW29z3aPCXo3ZPqRyQLsgRH04dThh\n",
       "+nG6vlju1Qg4VcwWza6BbXlMv0GWZlRuZrQ5VRz618wIA6bXEwDHLzdrIgtqwp8/0jTIzSKmV8nJ\n",
       "dU3JRpEq6jzWM1t/Ixt57nH9Y5p+0JidRAqYuzczkgfrmTkrpXlzNOT6FMB9jdkFpMDZ0P4FUGXJ\n",
       "1fO5iuZ6v2mUVO+D6Ul/2P/66CXx/RNSNPcdGBsAlTVmJjXg4DP6pLqdOF2Ura9x13VgdQXX7zkb\n",
       "vZRiYGxDi/xkbdPfblMp4mb2E1pGqley/JBjAzKTLoxnqlnexgiWybk1FtlQiszq0EIxPZggH0sT\n",
       "q3y2idlWpzzN5QyO0HQ26KIlz9nUVaG/JH1pfLF+8sNcx1wUc7qIFGY+7KqEUGXJuZlkNqRxMH2O\n",
       "1N/oWGswzTYZD/L34QUSYWeVzwbZy0t6Pje7QoZ1HvURUqlm1/VgLI5j33Wd02LbHaTo5p43/e8k\n",
       "Qd6vx/OJuDUWIL7sC51kENrjyS0WmVubwfcFWgNOFdfxOfMwDcp0aIZ3pxM7YTWDt6IB1Q6niknN\n",
       "iOd6bfLAKzDv0Vfu28rTE0JeQMrQXTFFfSmOu4owVAYK26C5n+3/3dtmxiljU7OX6H8Apk+c24Py\n",
       "ACwAAAAASUVORK5CYII=\n",
       "\" style=\"display:inline;vertical-align:middle;\" /></a><br>(see <a class=\"ProveItLink\" href=\"../../../__pv_it/theorems/ff76f9ebcd0c0692545feadc7e544abbea649f120/dependencies.ipynb\">dependencies</a>)<br>"
      ],
      "text/plain": [
       "<IPython.core.display.HTML object>"
      ]
     },
     "metadata": {},
     "output_type": "display_data"
    },
    {
     "name": "stdout",
     "output_type": "stream",
     "text": [
      "real_closure may now be readily provable (assuming required theorems are usable).  Simply execute \"%qed\".\n"
     ]
    }
   ],
   "source": [
    "%proving real_closure"
   ]
  },
  {
   "cell_type": "code",
   "execution_count": null,
   "metadata": {},
   "outputs": [],
   "source": []
  }
 ],
 "metadata": {
  "kernelspec": {
   "display_name": "Python 3",
   "language": "python",
   "name": "python3"
  }
 },
 "nbformat": 4,
 "nbformat_minor": 0
}