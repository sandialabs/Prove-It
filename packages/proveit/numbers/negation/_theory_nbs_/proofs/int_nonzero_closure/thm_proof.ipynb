{
 "cells": [
  {
   "cell_type": "markdown",
   "metadata": {},
   "source": [
    "Proof of <a class=\"ProveItLink\" href=\"../../../../../_theory_nbs_/theory.ipynb\">proveit</a>.<a class=\"ProveItLink\" href=\"../../../../_theory_nbs_/theory.ipynb\">numbers</a>.<a class=\"ProveItLink\" href=\"../../theory.ipynb\">negation</a>.<a class=\"ProveItLink\" href=\"../../theorems.ipynb#int_nonzero_closure\">int_nonzero_closure</a> theorem\n",
    "========"
   ]
  },
  {
   "cell_type": "code",
   "execution_count": 1,
   "metadata": {},
   "outputs": [],
   "source": [
    "import proveit\n",
    "theory = proveit.Theory() # the theorem's theory"
   ]
  },
  {
   "cell_type": "code",
   "execution_count": 2,
   "metadata": {},
   "outputs": [
    {
     "data": {
      "text/html": [
       "With these <a href=\"allowed_presumptions.txt\">allowed</a>/<a href=\"disallowed_presumptions.txt\">disallowed</a> theorem/theory presumptions (e.g., to avoid circular dependencies), we begin our proof of<br><strong id=\"int_nonzero_closure\">int_nonzero_closure:</strong> <a class=\"ProveItLink\" href=\"../../../__pv_it/theorems/889b22c4ebe4877cc80a1adc23d43844b6e453f10/expr.ipynb\"><img src=\"data:image/png;base64,iVBORw0KGgoAAAANSUhEUgAAAMEAAAAbCAMAAADyORvnAAAARVBMVEX///8AAAAAAAAAAAAAAAAA\n",
       "AAAAAAAAAAAAAAAAAAAAAAAAAAAAAAAAAAAAAAAAAAAAAAAAAAAAAAAAAAAAAAAAAAAAAAAeYafp\n",
       "AAAAFnRSTlMAq1RmmUTNIjK7EInv3Xah18O17eXJ8+7nKwAAAAlwSFlzAAAOxAAADsQBlSsOGwAA\n",
       "AzdJREFUWMPVWOnWozAINQnZl9l9/0cdwMQ1Vb9p/TE5bY+1KnC5XEiH4b9aYfjPV9T8GUt8zobS\n",
       "DwZgBZsow6A9HsATNiQ8mQJh6TM5/Bjx0PoHaGpmuM7B/Kena+aOHakYkqzZ+PDyqh4Uee7LpWlp\n",
       "0piMz9knfCZ4Wr/wrQbHEWS2lOlQLDept3ma2qOuKq1c2SpeEFkMvzb3TBEkxqCQ9zCXnrHvRgBx\n",
       "T6aXy1zoIkB1OrZshsr6iUUjnw507FoSPlAXY0UDrrOp4EbRotOT38Si3388s2ipZAJCrdCI8t0A\n",
       "pvxSim9cnMKONRmX2bYucANziR8+072QmtZvQAGqCph5OwUltyq8cbFZ50mb0mEVOu3mVPnlAuxo\n",
       "UL8VBitR9Dm93+aE2ZZDpyPFYqsMRbE6368KdHr2W/bVS3Pawe1i/Gct9R141+YSktdXqqlVovoa\n",
       "goK2CL55RVzXerUVt7sWIWyLLAezpj4j9ysqkLIP0Ki2Kpa+e2sllS+GFTuJB8EfX84zIvkI+Jp1\n",
       "ronhwW6u1yRdNTUvC6GCkS+KDb0FyNSuWsshNsXJqTNyhCkC4tgRBleE9/h7RqxjmCuNR7eQjmqy\n",
       "5CD10Uh+MUmUWtzo6TierPouTvqUHV3N13HCAKg6hql30hIBIgB8+w7YAy1RIbsvsSiMZEM16GVe\n",
       "Ja+XelddD+OpgNvaCpoYhKhKtPu2D8OWQzUHe2xExdKXfgRy0ivJ96kV8OV4A8qonmyJfDZgVV2w\n",
       "qaIXkDIc1iaxykqGG3Pw4ydQDph0B+KVdBTKtVQVQr6hsZFcIztKyqhaL89mBZWWlM3TiKOTepWC\n",
       "UIZmLbRcoBYp+woQ10ctiBKdFWWylfXmJ6/DVni9SThE4IDqzxoV7MGiGuR5TxmeZz1hE7GQ0Qi3\n",
       "jvOm0Ur4UCGdEsz72d9vpoqba996AhHIK3TWLYFr6biMw/UWsjFDXe/U4O1Rfp5NtyBSGWgV1i06\n",
       "MnF1vjPaNVb6q0H9QxtEdag4DUqWqNhEE1MhkL/e3OrZQp4o/KZQ7UciyPZ0eKA6+OI/D/PWxp5v\n",
       "I8tnAnhgn3y9vfzony/+iac++n/RXg24Vv8CCREYO4FLCm8AAAAASUVORK5CYII=\n",
       "\" style=\"display:inline;vertical-align:middle;\" /></a><br>(see <a class=\"ProveItLink\" href=\"../../../__pv_it/theorems/2a11c071e594b5675104481d30ad486db198c9350/dependencies.ipynb\">dependencies</a>)<br>"
      ],
      "text/plain": [
       "<IPython.core.display.HTML object>"
      ]
     },
     "metadata": {},
     "output_type": "display_data"
    },
    {
     "name": "stdout",
     "output_type": "stream",
     "text": [
      "int_nonzero_closure may now be readily provable (assuming required theorems are usable).  Simply execute \"%qed\".\n"
     ]
    }
   ],
   "source": [
    "%proving int_nonzero_closure"
   ]
  },
  {
   "cell_type": "code",
   "execution_count": null,
   "metadata": {},
   "outputs": [],
   "source": []
  }
 ],
 "metadata": {
  "kernelspec": {
   "display_name": "Python 3",
   "language": "python",
   "name": "python3"
  }
 },
 "nbformat": 4,
 "nbformat_minor": 0
}