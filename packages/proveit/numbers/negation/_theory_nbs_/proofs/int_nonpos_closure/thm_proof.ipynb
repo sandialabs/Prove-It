{
 "cells": [
  {
   "cell_type": "markdown",
   "metadata": {},
   "source": [
    "Proof of <a class=\"ProveItLink\" href=\"../../../../../_theory_nbs_/theory.ipynb\">proveit</a>.<a class=\"ProveItLink\" href=\"../../../../_theory_nbs_/theory.ipynb\">numbers</a>.<a class=\"ProveItLink\" href=\"../../theory.ipynb\">negation</a>.<a class=\"ProveItLink\" href=\"../../theorems.ipynb#int_nonpos_closure\">int_nonpos_closure</a> theorem\n",
    "========"
   ]
  },
  {
   "cell_type": "code",
   "execution_count": 1,
   "metadata": {},
   "outputs": [],
   "source": [
    "import proveit\n",
    "theory = proveit.Theory() # the theorem's theory"
   ]
  },
  {
   "cell_type": "code",
   "execution_count": 2,
   "metadata": {},
   "outputs": [
    {
     "data": {
      "text/html": [
       "With these <a href=\"allowed_presumptions.txt\">allowed</a>/<a href=\"disallowed_presumptions.txt\">disallowed</a> theorem/theory presumptions (e.g., to avoid circular dependencies), we begin our proof of<br><strong id=\"int_nonpos_closure\">int_nonpos_closure:</strong> <a class=\"ProveItLink\" href=\"../../../__pv_it/theorems/aab211947d075230e2cc53510ffd179ec890ac5a0/expr.ipynb\"><img src=\"data:image/png;base64,iVBORw0KGgoAAAANSUhEUgAAAK8AAAAaBAMAAAAzuxGAAAAAMFBMVEX///8AAAAAAAAAAAAAAAAA\n",
       "AAAAAAAAAAAAAAAAAAAAAAAAAAAAAAAAAAAAAAAAAAAv3aB7AAAAD3RSTlMAq1RmmUTNIjK7EInv\n",
       "3XZ/CtNrAAAACXBIWXMAAA7EAAAOxAGVKw4bAAADC0lEQVRIx61WTWgTQRT+8tPsZvPTvflzkAUV\n",
       "kVrZgxQUKZEq1hYxWkEqBQM5FIvI9iIItU1F8KBSrWBM0RovhVDBWBExh1IF0ShiL2pFAlGPSimC\n",
       "CEXENzub7e6my7biwMzOezPz5s37vjezwP8s/iwi08WVzAwkV2V3HGhFN4LeUzetxm7gOjUv0agJ\n",
       "V72mSilqBLtOcJscH2Wji4gq5LZHCavUfLHrGqrOAJz6fbJySxWfMUFcRExFLA/ITNzoYniArXOC\n",
       "8dXp6bUMUiFga4kbjlYRJ6v72Fivi+FOqhNOZShvl4MJxNUp6nSX9FA0KpAWgWEWGLdg/6TaVodR\n",
       "wi77NBQk3cLwfg4ekOb7R5Tl7dK5gJk69SsjBLcr73WEgXZfRlf1r8c8DlPnAO1P+ITccJ6lEKfq\n",
       "1GkO4mkzJKJ8wehplCAd9P1O9U2l8trFsI+MBq3Y9U8PUvtA759ZCnU4P+ZYeYIG24ExN7ZR5EKq\n",
       "hWkvcIdWtMABeFPAScERCk0/BNmiOteZDDyt4U8DMUv876k4SJ9tumAJESMbxByVrKEZSrJzRGoX\n",
       "gvg5l/TLJXQYcozwj9LgRIWVORwCPjF39LkUwspHDoXyCLBz8D6t8ldN7PbSAfytQRQtHkct11AZ\n",
       "EiNgj86FJYoWGF3X2AwPMZakWGZPtj4mmrNEO3+sWlw+FNIfBBbo26xLs6Z+LTFZWrDHmLiMqT5a\n",
       "80H8hYKe+ZnS5pphH3kSXsJF+kE82QLs1KV5k2yJozR1to4VGJBZWooz6OKGg/HaKeOUHBELsuNo\n",
       "TiR4otNxFJNsfRBG7cm7W/crwyJJ90YLwar4M1KxBngDZZ5oceXut4sbaPI77v+641zbc6Oce1u2\n",
       "X1V7TBS18K78Je4xjpinf051zsluwdiq4QlP6eVKutaJaiNd+XCeP0Zx2Xq77XAuCqqebwm73Yzd\n",
       "27Y/hHCTeld6jTualcsshJpj1dkVPFKyXZ7M5eyPp0+xEZaXrLfhmLaSN2/QceVp3oY93zw0/dPv\n",
       "hfcrvcr/ChNeYsFfcVuwffTXAjMAAAAASUVORK5CYII=\n",
       "\" style=\"display:inline;vertical-align:middle;\" /></a><br>(see <a class=\"ProveItLink\" href=\"../../../__pv_it/theorems/f00651731b831caac8ef0300c069b223042cd7ba0/dependencies.ipynb\">dependencies</a>)<br>"
      ],
      "text/plain": [
       "<IPython.core.display.HTML object>"
      ]
     },
     "metadata": {},
     "output_type": "display_data"
    },
    {
     "name": "stdout",
     "output_type": "stream",
     "text": [
      "int_nonpos_closure may now be readily provable (assuming required theorems are usable).  Simply execute \"%qed\".\n"
     ]
    }
   ],
   "source": [
    "%proving int_nonpos_closure"
   ]
  },
  {
   "cell_type": "code",
   "execution_count": null,
   "metadata": {},
   "outputs": [],
   "source": []
  }
 ],
 "metadata": {
  "kernelspec": {
   "display_name": "Python 3",
   "language": "python",
   "name": "python3"
  }
 },
 "nbformat": 4,
 "nbformat_minor": 0
}