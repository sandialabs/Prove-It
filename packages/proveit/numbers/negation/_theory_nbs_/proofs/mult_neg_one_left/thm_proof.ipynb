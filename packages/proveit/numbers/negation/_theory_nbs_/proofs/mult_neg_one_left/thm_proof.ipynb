{
 "cells": [
  {
   "cell_type": "markdown",
   "metadata": {},
   "source": [
    "Proof of <a class=\"ProveItLink\" href=\"../../../../../_theory_nbs_/theory.ipynb\">proveit</a>.<a class=\"ProveItLink\" href=\"../../../../_theory_nbs_/theory.ipynb\">numbers</a>.<a class=\"ProveItLink\" href=\"../../theory.ipynb\">negation</a>.<a class=\"ProveItLink\" href=\"../../theorems.ipynb#mult_neg_one_left\">mult_neg_one_left</a> theorem\n",
    "========"
   ]
  },
  {
   "cell_type": "code",
   "execution_count": 1,
   "metadata": {},
   "outputs": [],
   "source": [
    "import proveit\n",
    "theory = proveit.Theory() # the theorem's theory"
   ]
  },
  {
   "cell_type": "code",
   "execution_count": 2,
   "metadata": {},
   "outputs": [
    {
     "data": {
      "text/html": [
       "With these <a href=\"allowed_presumptions.txt\">allowed</a>/<a href=\"disallowed_presumptions.txt\">disallowed</a> theorem/theory presumptions (e.g., to avoid circular dependencies), we begin our proof of<br><strong id=\"mult_neg_one_left\">mult_neg_one_left:</strong> <a class=\"ProveItLink\" href=\"../../../__pv_it/theorems/afc028a8a063abe91fad507c214fc0a7fbb669800/expr.ipynb\"><img src=\"data:image/png;base64,iVBORw0KGgoAAAANSUhEUgAAAOEAAAAVBAMAAABCnpRGAAAAMFBMVEX///8AAAAAAAAAAAAAAAAA\n",
       "AAAAAAAAAAAAAAAAAAAAAAAAAAAAAAAAAAAAAAAAAAAv3aB7AAAAD3RSTlMAq1RmmUTNIjK7EInv\n",
       "3XZ/CtNrAAAACXBIWXMAAA7EAAAOxAGVKw4bAAACwklEQVRIx4VWTWgTQRR++d1kU0NEL4qUBcUe\n",
       "VAxSFCtoof6BVoJePBRd6UEUxPUo1BIPglikESp1FcqCpRgL1RZvQt2LF0WNQqGXQOIPgoforeLJ\n",
       "mZ3dnTczu82DL+x8++Z98/Pe2wCsaxYCN03x0yLmajGx1rWiwYEs05IdVQbgqzS+4KNEB9tjFHch\n",
       "BHbfAfimeKpM8qW8/DLDMTq4HC2omxwBtfk6Ucw6sqvKzCnhrjLcpidei1ZMlzlC+01ipwZlV5UZ\n",
       "UsL1M9DFFYxoxR4EQRHeKb4K46rhHA8psv5szDXuRBAVRxVfmUmaiku2zPCh2Xwfo3gKQVRc5OOF\n",
       "9rPXhsCwG0GJo3e2TiyRoywxnAR4HKM4iiAq7ufjwWJvuuEzw01qn4MNherQbg2TuzYZboBWEpJ4\n",
       "qnfcf/yCICru5iljpf4lyphhtgHlxgE44mwiB+0y5J1CxX+Ta9sV/YGVfOKP33Lo17zlV33FSfr6\n",
       "Bb2qHKS9G5uU04QEnfPmrEIVjnvh/zAkW2HiHCUBCwsAh1RFaY8j3jZYRfR4/WYkQpHbR68xuQxg\n",
       "HiY/nRPfLdoQ4Okd3hHjT3UPIi5auuMz6B7xqUJmDZ6TvTUYYIn0gaK1JWvU6cu+Pu44gyAqHgyH\n",
       "9co2KAgMszzvtPrDhAskdVM1BhgjiZOCmRyco68HBvisRYTQ3lhCvey9dxrOyhUErAyC0vw762YM\n",
       "VjBe0SSqlF4jCW7btnH3PGraCIFt/HSJHP5KOJ7tJIfoAa5IirkG3+OZ1o599KArDL6Dq8GEtzaS\n",
       "OXqQ4VUO8dPXgK7MqlLet3x4NlYw06RO6NRXFiyj9hxAafHdmH6I6u1hf0//WP4F2iP6OH9lKtzS\n",
       "NAK2m0o0lcnL33v6hZK/UvO2LVQR1BGwTSvxVUavRSwh3+1vh9biwI1QmVeMiDQujX8y/AcBw8Vt\n",
       "7+4jOAAAAABJRU5ErkJggg==\n",
       "\" style=\"display:inline;vertical-align:middle;\" /></a><br>(see <a class=\"ProveItLink\" href=\"../../../__pv_it/theorems/bb1197db0ff618f85be47316c9c89273a9a84f5a0/dependencies.ipynb\">dependencies</a>)<br>"
      ],
      "text/plain": [
       "<IPython.core.display.HTML object>"
      ]
     },
     "metadata": {},
     "output_type": "display_data"
    },
    {
     "name": "stdout",
     "output_type": "stream",
     "text": [
      "mult_neg_one_left may now be readily provable (assuming required theorems are usable).  Simply execute \"%qed\".\n"
     ]
    }
   ],
   "source": [
    "%proving mult_neg_one_left"
   ]
  },
  {
   "cell_type": "code",
   "execution_count": null,
   "metadata": {},
   "outputs": [],
   "source": []
  }
 ],
 "metadata": {
  "kernelspec": {
   "display_name": "Python 3",
   "language": "python",
   "name": "python3"
  }
 },
 "nbformat": 4,
 "nbformat_minor": 0
}