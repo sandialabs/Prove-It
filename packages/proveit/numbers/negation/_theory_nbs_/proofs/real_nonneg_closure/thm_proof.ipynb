{
 "cells": [
  {
   "cell_type": "markdown",
   "metadata": {},
   "source": [
    "Proof of <a class=\"ProveItLink\" href=\"../../../../../_theory_nbs_/theory.ipynb\">proveit</a>.<a class=\"ProveItLink\" href=\"../../../../_theory_nbs_/theory.ipynb\">numbers</a>.<a class=\"ProveItLink\" href=\"../../theory.ipynb\">negation</a>.<a class=\"ProveItLink\" href=\"../../theorems.ipynb#real_nonneg_closure\">real_nonneg_closure</a> theorem\n",
    "========"
   ]
  },
  {
   "cell_type": "code",
   "execution_count": 1,
   "metadata": {},
   "outputs": [],
   "source": [
    "import proveit\n",
    "theory = proveit.Theory() # the theorem's theory"
   ]
  },
  {
   "cell_type": "code",
   "execution_count": 2,
   "metadata": {},
   "outputs": [
    {
     "data": {
      "text/html": [
       "With these <a href=\"allowed_presumptions.txt\">allowed</a>/<a href=\"disallowed_presumptions.txt\">disallowed</a> theorem/theory presumptions (e.g., to avoid circular dependencies), we begin our proof of<br><strong id=\"real_nonneg_closure\">real_nonneg_closure:</strong> <a class=\"ProveItLink\" href=\"../../../__pv_it/theorems/96591214a49c10822265c3ec9a584d76c2ffdd920/expr.ipynb\"><img src=\"data:image/png;base64,iVBORw0KGgoAAAANSUhEUgAAAMMAAAAaBAMAAAD4YPV+AAAAMFBMVEX///8AAAAAAAAAAAAAAAAA\n",
       "AAAAAAAAAAAAAAAAAAAAAAAAAAAAAAAAAAAAAAAAAAAv3aB7AAAAD3RSTlMAq1RmmUTNIjK7EInv\n",
       "3XZ/CtNrAAAACXBIWXMAAA7EAAAOxAGVKw4bAAADNklEQVRIx61WTWgTQRR+JpvsT5JNtVr8AQkU\n",
       "vIilUPVQpKY01aqX1YIgFY16EIrKFjxqG0HwoJLQUmsqli2IID00WrDqQQJSK4pQSkUPRlcEq0Wl\n",
       "eFDMyTeT7XYy27pZcWBmsy8z73s/33uzAP9/SP30EXqc83Zum4e9I71kbYJDIHg45Yt7sUftw+UZ\n",
       "RHUxU/mh22TRy2X68tv9QyAWIRxDVyoexCw1Vi47wus9lf35ts/6PSkVIVIPEQOgighq3RDEPC6b\n",
       "+XDUcwJZrApUD5JfykMNIcImqKi/lUhOukEISA4lyUs7HRA5yFwgFjWnSKCiMVCKAFTimpSohjC8\n",
       "0bB1CYjdQdS3MmWlG+AEQBCDFYq5QaRxV9ghDRul55dCIWlDyKCspkT4Dvtx3YN5QduCrtn+hnOT\n",
       "Qxos+XVwjvFi/TAohlV6e3H9ivNlofDCFaIG5z42/RtmTVRCuSJ2MoGSerm8HkW8NoDBpbQq7EsW\n",
       "aFTtcViXMY9+Gp6gvgjx9P07gwsxpqULxKqlimctdNfZh4/hnGbgn4AwhSWfpxBMuscaEVXK4hiw\n",
       "ZD1IFNkIaYzqLfebz5A200Y4adN0BucEqj5dICMlzEMEaSzNk/+uEFHGCtRgA2fqKCr3mbYZ0oes\n",
       "poZgPAdnx1FfHp6zXkwwVMrQowHqxR2WtBdlLlA9hL9Ju48k8FVVodEUX5E0TsGbZQI1asJO0hun\n",
       "yEuEhRAucTWWJsG+Rxgx0jReaggIMRcH/xrqxeTCxnU4hxiIGNT4dPBTdarJQCiZj05GwTnMtvJa\n",
       "+lXyWA2JQwjlq0b3FnNB2H2XKWPTNyOU2gqO44sQcWiQtTKIHWRZgeER4lIe2imEcIPaJrVCd63O\n",
       "2nKVYdTGB12fMUQlbcP9xkKn/a3L136UQTTb+dOwJW5HrsVUNXTASeEwKoukeOl569lxs5Bcrmjt\n",
       "ahrV5UbjMvVCDXQYYiKRaOU7rd9x8bW43zOk01pW6ul2g/INSfvIeYlKhJ4D/CVSwa3pt8s60FI3\n",
       "BuJ10tM+5W7tcm5dVVYAVnZ1d4gIt2ckm9X+cneLZrlstoIL2cPd7fP4TeQhlv/0HcXQBNP7Bwj6\n",
       "xSWLVBisAAAAAElFTkSuQmCC\n",
       "\" style=\"display:inline;vertical-align:middle;\" /></a><br>(see <a class=\"ProveItLink\" href=\"../../../__pv_it/theorems/fa876c016d2bdf41cf09897c77ff457d7e36faea0/dependencies.ipynb\">dependencies</a>)<br>"
      ],
      "text/plain": [
       "<IPython.core.display.HTML object>"
      ]
     },
     "metadata": {},
     "output_type": "display_data"
    },
    {
     "name": "stdout",
     "output_type": "stream",
     "text": [
      "real_nonneg_closure may now be readily provable (assuming required theorems are usable).  Simply execute \"%qed\".\n"
     ]
    }
   ],
   "source": [
    "%proving real_nonneg_closure"
   ]
  },
  {
   "cell_type": "code",
   "execution_count": null,
   "metadata": {},
   "outputs": [],
   "source": []
  }
 ],
 "metadata": {
  "kernelspec": {
   "display_name": "Python 3",
   "language": "python",
   "name": "python3"
  }
 },
 "nbformat": 4,
 "nbformat_minor": 0
}