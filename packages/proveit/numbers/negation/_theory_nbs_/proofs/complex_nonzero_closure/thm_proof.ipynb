{
 "cells": [
  {
   "cell_type": "markdown",
   "metadata": {},
   "source": [
    "Proof of <a class=\"ProveItLink\" href=\"../../../../../_theory_nbs_/theory.ipynb\">proveit</a>.<a class=\"ProveItLink\" href=\"../../../../_theory_nbs_/theory.ipynb\">numbers</a>.<a class=\"ProveItLink\" href=\"../../theory.ipynb\">negation</a>.<a class=\"ProveItLink\" href=\"../../theorems.ipynb#complex_nonzero_closure\">complex_nonzero_closure</a> theorem\n",
    "========"
   ]
  },
  {
   "cell_type": "code",
   "execution_count": 1,
   "metadata": {},
   "outputs": [],
   "source": [
    "import proveit\n",
    "theory = proveit.Theory() # the theorem's theory"
   ]
  },
  {
   "cell_type": "code",
   "execution_count": 2,
   "metadata": {},
   "outputs": [
    {
     "data": {
      "text/html": [
       "With these <a href=\"allowed_presumptions.txt\">allowed</a>/<a href=\"disallowed_presumptions.txt\">disallowed</a> theorem/theory presumptions (e.g., to avoid circular dependencies), we begin our proof of<br><strong id=\"complex_nonzero_closure\">complex_nonzero_closure:</strong> <a class=\"ProveItLink\" href=\"../../../__pv_it/theorems/8869da21961fbc04154f961dc45bb7a5df14cec20/expr.ipynb\"><img src=\"data:image/png;base64,iVBORw0KGgoAAAANSUhEUgAAAMMAAAAbCAMAAAD2zMvaAAAARVBMVEX///8AAAAAAAAAAAAAAAAA\n",
       "AAAAAAAAAAAAAAAAAAAAAAAAAAAAAAAAAAAAAAAAAAAAAAAAAAAAAAAAAAAAAAAAAAAAAAAeYafp\n",
       "AAAAFnRSTlMAq1RmmUTNIjK7EInv3Xah18O17eXJ8+7nKwAAAAlwSFlzAAAOxAAADsQBlSsOGwAA\n",
       "Ay1JREFUWMPVWNmS4yAM5BAGce3t///URRwBH7G9E/thqZqUMyGAWt0tEcb+s2HZfz+cyq8uugc3\n",
       "kerJEDTPe0TGFKYHeGQTAY+mgWt69Sa9zOlR4xNsnV6IHeP5teVVZpCeSRRe1IzcPVDWhyiOD3Nl\n",
       "b+swTFPUJp0ckMav9CeZyTGEvFWgR95pID+nq29rnUkunm8WuU+TLMwIyy+VGHwsk0gWLw1O+uMY\n",
       "wK0p9XZMZyYJsTCHyRaDrewvXJpzpi09m5aIO/QxV0DgHGV5In4DDGuYHAqXfv/BzKWuacJCDoA4\n",
       "8XEIJcmU5wuT/TIREUMaPX/csgaqrRR60T6St9Z3QLNkxWz6PA0xVDVcWWsac6WmuOIWMr3KFPYZ\n",
       "qcZBfRczXp4ACP6GwsenpSx2SpSLulqS48P/N+pIxcwsVxH7VqZy7sGsovy6s+IOxON+PnEYK+Hk\n",
       "kKytnaQA1HKV6R1/Tavfml8uYwSPjiJubWyqi4R9aVnySgaNcP7ofIlIyxoi3vQwuvgIpcAdtDkR\n",
       "gb8oUHoUyv1241AZ7FV12NBHQgvmPMk1ADuWvs3CUQ+X2G1LDMS07YFM5IiKXJmaFIFu6Oms3xrL\n",
       "kAe/D4jHvicRq59jx9ax+9JxWc1cogC2fQcUmaQM2fyZdMwBwLfvkKqiJj4E829csjMtJBv8IgwJ\n",
       "3NFOrw9MHfq5rqWh+YJ1Mjo99gJWGjW0aVCZTbBuBMErchj3YxDFu4Qu5Xdga9yt060EHFm1qhah\n",
       "fZ1tgy6B9ewKLdpZUx5+/ATKQ6beduXot7Y50iMS+lBxWBjwJPZkOIFmVoTDii4bJblpBCKBUXQv\n",
       "X5NWdt7btlzyJanfYmLCvvx4dEbzWDYLavERKrvTt/o5wHEbB2u8SIy5E5RT7nVRMGNU5z2cFJEm\n",
       "5q1UtloM66sBLnqNq2NdiyzRCKW1Y42smqbL+Ok9s/FDnt/m4PNO/9W3LnEkOSgiTy/b2uVsuiu3\n",
       "FtPIiWd9/F23SMm3hiZFdDLvYTotE7HAXFqSi/eOv9S3vieGoI8vgphr3Nfu0/o4bfGmEJ64T59f\n",
       "Qu/9qQYfWfbZ35fWxpBV+xfBoxgcNL3eEwAAAABJRU5ErkJggg==\n",
       "\" style=\"display:inline;vertical-align:middle;\" /></a><br>(see <a class=\"ProveItLink\" href=\"../../../__pv_it/theorems/c6ef6100d09f43bc1448bbf68c3a3fc2cd6fef350/dependencies.ipynb\">dependencies</a>)<br>"
      ],
      "text/plain": [
       "<IPython.core.display.HTML object>"
      ]
     },
     "metadata": {},
     "output_type": "display_data"
    },
    {
     "name": "stdout",
     "output_type": "stream",
     "text": [
      "complex_nonzero_closure may now be readily provable (assuming required theorems are usable).  Simply execute \"%qed\".\n"
     ]
    }
   ],
   "source": [
    "%proving complex_nonzero_closure"
   ]
  },
  {
   "cell_type": "code",
   "execution_count": null,
   "metadata": {},
   "outputs": [],
   "source": []
  }
 ],
 "metadata": {
  "kernelspec": {
   "display_name": "Python 3",
   "language": "python",
   "name": "python3"
  }
 },
 "nbformat": 4,
 "nbformat_minor": 0
}