{
 "cells": [
  {
   "cell_type": "markdown",
   "metadata": {},
   "source": [
    "Proof of <a class=\"ProveItLink\" href=\"../../../../../_theory_nbs_/theory.ipynb\">proveit</a>.<a class=\"ProveItLink\" href=\"../../../../_theory_nbs_/theory.ipynb\">numbers</a>.<a class=\"ProveItLink\" href=\"../../theory.ipynb\">negation</a>.<a class=\"ProveItLink\" href=\"../../theorems.ipynb#real_pos_closure\">real_pos_closure</a> theorem\n",
    "========"
   ]
  },
  {
   "cell_type": "code",
   "execution_count": 1,
   "metadata": {},
   "outputs": [],
   "source": [
    "import proveit\n",
    "theory = proveit.Theory() # the theorem's theory"
   ]
  },
  {
   "cell_type": "code",
   "execution_count": 2,
   "metadata": {},
   "outputs": [
    {
     "data": {
      "text/html": [
       "With these <a href=\"allowed_presumptions.txt\">allowed</a>/<a href=\"disallowed_presumptions.txt\">disallowed</a> theorem/theory presumptions (e.g., to avoid circular dependencies), we begin our proof of<br><strong id=\"real_pos_closure\">real_pos_closure:</strong> <a class=\"ProveItLink\" href=\"../../../__pv_it/theorems/855bbd5516ad6d3cab974ad89a0e2e589fa3a9060/expr.ipynb\"><img src=\"data:image/png;base64,iVBORw0KGgoAAAANSUhEUgAAALMAAAAZBAMAAACIvQJIAAAAMFBMVEX///8AAAAAAAAAAAAAAAAA\n",
       "AAAAAAAAAAAAAAAAAAAAAAAAAAAAAAAAAAAAAAAAAAAv3aB7AAAAD3RSTlMAq1RmmUTNIjK7EInv\n",
       "3XZ/CtNrAAAACXBIWXMAAA7EAAAOxAGVKw4bAAAC0ElEQVRIx5VWTWgTQRR+aZLuX7oGD0IvUhD0\n",
       "YmVBDbRISWkqLSJGCx5UMNKDILRuQYRiaetJxEMWROr6064ohVrBqGDRg+QmUQQP/lQkUCt4qD+I\n",
       "IIKg+N5udjO7a6ebBzM78zLzzZv3vfcmABFkJzQiiVqLIk3ZhqAlbIIRbe0sdYJfJ/ChoSsa9EXq\n",
       "lv265FJgUaYyM1TRPOgWCyBNg008ZKFMTikFtB+Dy4wR2N9hudAq4vbS4DiXlpLrFFaarSD0GZDE\n",
       "NPSb10xTA/k3wNk1nb4uj11PUBvPhqETesG1Ggad05U2HnSR7CuH1M+cj3q9+qYObXjQ/Xg6ur6Z\n",
       "y+JXcnUhpB506By26lbHbqc96C/YXlSrz7nQG1x/uzLyZBz7e/b4tMU45Pxm3YM+ij/0AVzhQptE\n",
       "msbE3VOYwX0Z8AeAMTb0ZwW8TCxOog0gpLnQxyhMGTbuaLAXP1vtSYGhcTsbRhNIvmQpeUbV/rB7\n",
       "2A/9ClsKl8xWSRZhH8B7Mot+E9Gd1Xc1aOkmc7e7uKNpyWNR/GDmVQUWSiGrU8zpFZB/4ucIjWWD\n",
       "sVrMMp6dmKQ7efmew6mqQueSkMvleldxiPwX4t/pevbsJRvXfaNMyBKj909gN9+1ACrdB6FX/NnQ\n",
       "SqzXS4b8A2KFLQAd9uwbCz2n1j1CEQJjyKL8VvwFc3YKKMK05oOmCFUYpqehPYuH73Hy3buOcQpz\n",
       "5JK3ahd1MXRDIiuWYcCGTlwNpD2dL9YvDjc+n9uIW147d2g95FW+KTBPeid1u4NUHktVxjTNNlVV\n",
       "DvihbQoXQ/WwdljyUS3R/5usFCq61GldsK1Wk4etcOXbEaqHGjcZqPLVLNOLA5Zk2b6Gx34aRSpN\n",
       "kh7YO8p/PuIeOcmebQ9AuIyjg59Kt3b7l633B7AjU3zoloAp86aZX+1tHPfrVJ0PHfFtDD1ea0vU\n",
       "F73B/yE2yUjbP9gtp05rU/AqAAAAAElFTkSuQmCC\n",
       "\" style=\"display:inline;vertical-align:middle;\" /></a><br>(see <a class=\"ProveItLink\" href=\"../../../__pv_it/theorems/3459e4d07974906b81903fe44728facc74c733fc0/dependencies.ipynb\">dependencies</a>)<br>"
      ],
      "text/plain": [
       "<IPython.core.display.HTML object>"
      ]
     },
     "metadata": {},
     "output_type": "display_data"
    },
    {
     "name": "stdout",
     "output_type": "stream",
     "text": [
      "real_pos_closure may now be readily provable (assuming required theorems are usable).  Simply execute \"%qed\".\n"
     ]
    }
   ],
   "source": [
    "%proving real_pos_closure"
   ]
  },
  {
   "cell_type": "code",
   "execution_count": null,
   "metadata": {},
   "outputs": [],
   "source": []
  }
 ],
 "metadata": {
  "kernelspec": {
   "display_name": "Python 3",
   "language": "python",
   "name": "python3"
  }
 },
 "nbformat": 4,
 "nbformat_minor": 0
}