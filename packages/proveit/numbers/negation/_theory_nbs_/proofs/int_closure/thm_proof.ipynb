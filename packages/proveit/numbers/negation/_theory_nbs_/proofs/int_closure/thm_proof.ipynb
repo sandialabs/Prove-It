{
 "cells": [
  {
   "cell_type": "markdown",
   "metadata": {},
   "source": [
    "Proof of <a class=\"ProveItLink\" href=\"../../../../../_theory_nbs_/theory.ipynb\">proveit</a>.<a class=\"ProveItLink\" href=\"../../../../_theory_nbs_/theory.ipynb\">numbers</a>.<a class=\"ProveItLink\" href=\"../../theory.ipynb\">negation</a>.<a class=\"ProveItLink\" href=\"../../theorems.ipynb#int_closure\">int_closure</a> theorem\n",
    "========"
   ]
  },
  {
   "cell_type": "code",
   "execution_count": 1,
   "metadata": {},
   "outputs": [],
   "source": [
    "import proveit\n",
    "theory = proveit.Theory() # the theorem's theory"
   ]
  },
  {
   "cell_type": "code",
   "execution_count": 2,
   "metadata": {},
   "outputs": [
    {
     "data": {
      "text/html": [
       "With these <a href=\"allowed_presumptions.txt\">allowed</a>/<a href=\"disallowed_presumptions.txt\">disallowed</a> theorem/theory presumptions (e.g., to avoid circular dependencies), we begin our proof of<br><strong id=\"int_closure\">int_closure:</strong> <a class=\"ProveItLink\" href=\"../../../__pv_it/theorems/c23b2df331c376ad0aa7a5313525039cbf38a1730/expr.ipynb\"><img src=\"data:image/png;base64,iVBORw0KGgoAAAANSUhEUgAAAJYAAAAVBAMAAABWCwqnAAAAMFBMVEX///8AAAAAAAAAAAAAAAAA\n",
       "AAAAAAAAAAAAAAAAAAAAAAAAAAAAAAAAAAAAAAAAAAAv3aB7AAAAD3RSTlMAq1RmmUTNIjK7EInv\n",
       "3XZ/CtNrAAAACXBIWXMAAA7EAAAOxAGVKw4bAAACWUlEQVQ4y4VUTWgTQRh9yeZ3Nw3rSb1IwIOC\n",
       "rawghXoogSoURAzUk/QQ8CAWka2CIEiJIvTgodFD69a/eCnESo1VEXuQ3iSKmItakYWox4IUQbyI\n",
       "ODPfzHZn2dQHb2e/tx/fznzzZoCtkJWMSL1St8Q3yRDS3UhO8uyfM/4dh+s2j3fHl0q2iBq+R+Li\n",
       "jRqqGaEf4fHp+FoLkhoyDT1OlVF0loV+ha+1Hl9rRFKDUdbjhIumWRc6/41Viq+1KqnjjVzbXf8j\n",
       "H01gNFETuuGw6fVoV5UYwSnag3PBWnP2Nam/8/238bVSLWKAyVdT7PlEvF/cbFu+MQ/SR4H5+FoZ\n",
       "hxjY4TXuswqDiGzXPkP4hOmTyNrhVraf3Zbd7SsRFR45OMaGfhGE1l6lHvXzGVoVtfCvXqXPtZbk\n",
       "9AsV4oLPsYbjwBcmz4hU1hr/M21C6TnQEHqyG7T+MNsOA1cvQK+l0Ib5iw3jYvc2bdTkltpOenWY\n",
       "PRaHXzDLiW9lZaDIGs2/MDbYOCCiTqDvYA4zN0hfnmB5n3K/0SQvnq+p/ekSVa2fSFT3AEMi+hE4\n",
       "onyCdblD+mWbH4TcKsbEtyVLZVk2UeEeBvicj9ImlwJHTCB7s046N22hUrQx6HleCa0VPJR/7BAV\n",
       "HqxP72K5H2iWO0+SOj7b9t63W0oHHrv5Q43rwkR7HaxIdU1Sv6hk9fRLOkNRHQV3ZqyR516wUkgr\n",
       "9aCkfhqcHqdE6emR/U+RvcXeDmxbn1U9yrtEDZd63JsRfdHzKuGYm8iM3kdzPWrN/eeOnpIMX6Nu\n",
       "fCrT/wFOv5LPKU4LLQAAAABJRU5ErkJggg==\n",
       "\" style=\"display:inline;vertical-align:middle;\" /></a><br>(see <a class=\"ProveItLink\" href=\"../../../__pv_it/theorems/4fa453d474de6b95923d5692650917fcf5c977580/dependencies.ipynb\">dependencies</a>)<br>"
      ],
      "text/plain": [
       "<IPython.core.display.HTML object>"
      ]
     },
     "metadata": {},
     "output_type": "display_data"
    },
    {
     "name": "stdout",
     "output_type": "stream",
     "text": [
      "int_closure may now be readily provable (assuming required theorems are usable).  Simply execute \"%qed\".\n"
     ]
    }
   ],
   "source": [
    "%proving int_closure"
   ]
  },
  {
   "cell_type": "code",
   "execution_count": null,
   "metadata": {},
   "outputs": [],
   "source": []
  }
 ],
 "metadata": {
  "kernelspec": {
   "display_name": "Python 3",
   "language": "python",
   "name": "python3"
  }
 },
 "nbformat": 4,
 "nbformat_minor": 0
}