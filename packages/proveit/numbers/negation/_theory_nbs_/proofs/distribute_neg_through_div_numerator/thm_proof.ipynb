{
 "cells": [
  {
   "cell_type": "markdown",
   "metadata": {},
   "source": [
    "Proof of <a class=\"ProveItLink\" href=\"../../../../../_theory_nbs_/theory.ipynb\">proveit</a>.<a class=\"ProveItLink\" href=\"../../../../_theory_nbs_/theory.ipynb\">numbers</a>.<a class=\"ProveItLink\" href=\"../../theory.ipynb\">negation</a>.<a class=\"ProveItLink\" href=\"../../theorems.ipynb#distribute_neg_through_div_numerator\">distribute_neg_through_div_numerator</a> theorem\n",
    "========"
   ]
  },
  {
   "cell_type": "code",
   "execution_count": 1,
   "metadata": {},
   "outputs": [],
   "source": [
    "import proveit\n",
    "theory = proveit.Theory() # the theorem's theory"
   ]
  },
  {
   "cell_type": "code",
   "execution_count": 2,
   "metadata": {},
   "outputs": [
    {
     "data": {
      "text/html": [
       "With these <a href=\"allowed_presumptions.txt\">allowed</a>/<a href=\"disallowed_presumptions.txt\">disallowed</a> theorem/theory presumptions (e.g., to avoid circular dependencies), we begin our proof of<br><strong id=\"distribute_neg_through_div_numerator\">distribute_neg_through_div_numerator:</strong> <a class=\"ProveItLink\" href=\"../../../__pv_it/theorems/a177711c7a39aeffc3378741a3b53c14691132970/expr.ipynb\"><img src=\"data:image/png;base64,iVBORw0KGgoAAAANSUhEUgAAAQsAAAAyCAMAAAB8iQ6xAAAAOVBMVEX///8AAAAAAAAAAAAAAAAA\n",
       "AAAAAAAAAAAAAAAAAAAAAAAAAAAAAAAAAAAAAAAAAAAAAAAAAAAAAAACXHtMAAAAEnRSTlMAq1Rm\n",
       "mUTNIjK7EInv3Xbt5cmRiLwgAAAACXBIWXMAAA7EAAAOxAGVKw4bAAAEhUlEQVRo3s1biZasKgyU\n",
       "Tdnkvev/f+wF3EAxjZDpuTkzfU5mmmoISVFRexh+3ZSE3JJppdE+HROr2wiD3LLJGW8BmFi9oTCQ\n",
       "+2R0xpsBJlaXsRFyn80QvDlgYnXYZCfAhWxmeLPAxOqYhYNcMLMtXpljYrVXiIVc2EaONw9MrFaz\n",
       "BnLzs885oqUxdP+DWKbWj8XEwjK3aMDNze+cI27gJ+mPzZSHiYXGFgRy8/LxG8d8rBL5QZfGKsfE\n",
       "QlM5iwTcy3vDduYHrl4qmVaP82myD+vHZJaF3AK7XOarOkQSJhYKcxLIvVkkOJ3kMmtnPEwsnBJh\n",
       "gHvtoMSaNyZL7CaNhImFd4pMgHtRQ4vU3M9f0DeZ9PNYaL26hdzLXnLnBsoZRSjyZ6wzHPTLWWIV\n",
       "5FY1VQtig+axuDj0xnfZQy8ccOuEwiLw2gGPJffEmNR300LmR7psOOEloiqIWON2shj63VjQhQJu\n",
       "S2r1pynbaGL8bih8UkrArbMFkfwjlo3a1Jovx+LNkfo4f8S6jlg8bsjXLwebvB0yLd2RTZOZJ13H\n",
       "TNqwJrK/tDbAQBUC4/LF85ZYzIhdxIoVUsJUn05OceKmk8ChNF1RjXGFAiTLo3ttLH0CJ5bOv+ZC\n",
       "2ALZFYu6z8wpHVFex3sxT3xdU2VqYrEmG/PwQr2JRf1eWsS8sNsRwj4c1JxvLG90fCerigWJdGjD\n",
       "0DszotdIJ19sWIbuIsM5PvmfrbF1ATH8ul2eaybXYppKsTgHrG4M2BQXaemdOyfAbeDO3pZgxZr2\n",
       "Js1NA1HDuM7bZ4BfhrShMA5FNNHrlM9YnAO4Cvaf/2Ve0IVY3G9BuFxQuBZ9gdlc7lhkm4efsHLD\n",
       "5kw63F1zfq3iWAjTTD/G4hywro5t4lYXriMhaS3Ea/kFrDRVw81N4sKdvbjPig5SCvkYi3PAeslk\n",
       "i1CMxV1h07yxog19ll7wBGIBK2T4EY1ZrMwnz7dt3JkIhzQW+4BQI///UbFGnrjzzWWtb/Vm6Rlo\n",
       "BzNG9aTj6v3ZLpZclE4mMqsp64tjwHD2v56PfZWRj0nZkO8t/Vw1FnfCOKdDeoT/UM7UuPbzR2Vo\n",
       "4wuGy3KNHAMyTe+1Fi8cmPMIuQ0tDWZ7lMfJL9v/V7EtAiHhixWdxCIZQD9n79tbAh+la5cBWEJH\n",
       "FhSfNyuJRTKgYpNZrq4YKLa04yHImnRcFixiVGCFQYK5Cp5OtdYxgIoatqKAe1VmA7UxYCm9vaTO\n",
       "EkYr1kPT0a1uKoSTpOudYKKyTHr12UWMRix04xZyr71/VGuZZCPvOvYiRiMWuolcXglQbYlAJ/nt\n",
       "59dpXcBoxsK2mUPuJYkCGztbTbZ1GO1Y2PbmJFFkfzlC97oxu2O0Y6Hbi2eUOAk5ztKEf812N4wO\n",
       "rN9MDE28ek2nrN5v5Q2jAwvfRgO5N4EwXniwwcz4wKm/bjJ/uFU+PusalqDTi2MzbQqDtoVxMx3+\n",
       "BXMKcpPpuvxZ8Zbnlq8YPVg/YpXPxlPmeCI/RMuFzgtGF9YPUQaF3IfSGhG/MzH+Q18gafguDeL0\n",
       "E6y/Sg0sCqE7un8AAAAASUVORK5CYII=\n",
       "\" style=\"display:inline;vertical-align:middle;\" /></a><br>(see <a class=\"ProveItLink\" href=\"../../../__pv_it/theorems/e6be30a967622180d7fa3a113c470d9379bc4b000/dependencies.ipynb\">dependencies</a>)<br>"
      ],
      "text/plain": [
       "<IPython.core.display.HTML object>"
      ]
     },
     "metadata": {},
     "output_type": "display_data"
    }
   ],
   "source": [
    "%proving distribute_neg_through_div_numerator"
   ]
  },
  {
   "cell_type": "code",
   "execution_count": null,
   "metadata": {},
   "outputs": [],
   "source": []
  }
 ],
 "metadata": {
  "kernelspec": {
   "display_name": "Python 3",
   "language": "python",
   "name": "python3"
  }
 },
 "nbformat": 4,
 "nbformat_minor": 0
}