{
 "cells": [
  {
   "cell_type": "markdown",
   "metadata": {},
   "source": [
    "Proof of <a class=\"ProveItLink\" href=\"../../../../../_theory_nbs_/theory.ipynb\">proveit</a>.<a class=\"ProveItLink\" href=\"../../../../_theory_nbs_/theory.ipynb\">numbers</a>.<a class=\"ProveItLink\" href=\"../../theory.ipynb\">negation</a>.<a class=\"ProveItLink\" href=\"../../theorems.ipynb#double_negation\">double_negation</a> theorem\n",
    "========"
   ]
  },
  {
   "cell_type": "code",
   "execution_count": 1,
   "metadata": {},
   "outputs": [],
   "source": [
    "import proveit\n",
    "theory = proveit.Theory() # the theorem's theory"
   ]
  },
  {
   "cell_type": "code",
   "execution_count": 2,
   "metadata": {},
   "outputs": [
    {
     "data": {
      "text/html": [
       "With these <a href=\"allowed_presumptions.txt\">allowed</a>/<a href=\"disallowed_presumptions.txt\">disallowed</a> theorem/theory presumptions (e.g., to avoid circular dependencies), we begin our proof of<br><strong id=\"double_negation\">double_negation:</strong> <a class=\"ProveItLink\" href=\"../../../__pv_it/theorems/5a107d0fb2babc68296f0afac692ea8467920d9a0/expr.ipynb\"><img src=\"data:image/png;base64,iVBORw0KGgoAAAANSUhEUgAAALwAAAAVBAMAAAAOdJm+AAAAMFBMVEX///8AAAAAAAAAAAAAAAAA\n",
       "AAAAAAAAAAAAAAAAAAAAAAAAAAAAAAAAAAAAAAAAAAAv3aB7AAAAD3RSTlMAq1RmmUTNIjK7EInv\n",
       "3XZ/CtNrAAAACXBIWXMAAA7EAAAOxAGVKw4bAAACCElEQVQ4y4WVQShEQRjHP/uefes9tr0qaUtx\n",
       "QJwUSgpRHDYuDsqWgyg1jkrioERCqfUoKQ6kFLkpubiQknLcWuHi4KqczLz57Mz3dh7/+u2b+X/v\n",
       "zczOfO97AH+KIdTR5CAmOfCPkmkJdXSVFyQmCT8lGnURwzci1CF6RUzifp+4TprDblZCHar4gcQk\n",
       "7i+JTdo0h+1WCXWorG6JSdwXM3tpc7gSoU5Id4hJd2Dx9cQjovUIdUKaQEzi/kM+fx8RHUSo86uz\n",
       "l+Mr/rfPQUKkYgMAu9GThxam97qTtfYjQBtIwM4HStHYLDgpktnbtQvYfEKUtJ7FrO8yvrNNICFn\n",
       "qmIVB14G3cSLn3G3WGwP+7cSdyZY1iLtJcAOsnQD0aXFYoXiyfbyEbwzgE46vCbSqwze1jEklHTF\n",
       "WLaL/3z2v7GkSOrDZVUs/twcgHHm8qxuBgnZey12Mc03nFXH0yfCb2hQz+8j1EGdZGrA49d2RJce\n",
       "m+fzWbCfgBER6ehQd5XmnNZrWR2CYWP20liZODP44mnk+356ZVTdtY5QB3X0GesRb/szokuPybO+\n",
       "cWBNNMTRumhWLUqUaC8o6o8SY8H/9ee9rM1TVFiXDK4jy1Vp8Sote4YCaL9ff4CzI5qnU9vFJeYQ\n",
       "pVx4iDnEpJB/6vsZmgEIdUrmy0UMn/vnY+gUJNQhJYRJjJ9SBj8DwZdoUynfwQAAAABJRU5ErkJg\n",
       "gg==\n",
       "\" style=\"display:inline;vertical-align:middle;\" /></a><br>(see <a class=\"ProveItLink\" href=\"../../../__pv_it/theorems/cc68c2f3d2845f41d1cd339c60418366c2c0b5240/dependencies.ipynb\">dependencies</a>)<br>"
      ],
      "text/plain": [
       "<IPython.core.display.HTML object>"
      ]
     },
     "metadata": {},
     "output_type": "display_data"
    },
    {
     "name": "stdout",
     "output_type": "stream",
     "text": [
      "double_negation may now be readily provable (assuming required theorems are usable).  Simply execute \"%qed\".\n"
     ]
    }
   ],
   "source": [
    "%proving double_negation"
   ]
  },
  {
   "cell_type": "code",
   "execution_count": null,
   "metadata": {},
   "outputs": [],
   "source": []
  }
 ],
 "metadata": {
  "kernelspec": {
   "display_name": "Python 3",
   "language": "python",
   "name": "python3"
  }
 },
 "nbformat": 4,
 "nbformat_minor": 0
}