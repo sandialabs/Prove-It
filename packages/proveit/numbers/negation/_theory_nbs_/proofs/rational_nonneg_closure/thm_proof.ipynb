{
 "cells": [
  {
   "cell_type": "markdown",
   "metadata": {},
   "source": [
    "Proof of <a class=\"ProveItLink\" href=\"../../../../../_theory_nbs_/theory.ipynb\">proveit</a>.<a class=\"ProveItLink\" href=\"../../../../_theory_nbs_/theory.ipynb\">numbers</a>.<a class=\"ProveItLink\" href=\"../../theory.ipynb\">negation</a>.<a class=\"ProveItLink\" href=\"../../theorems.ipynb#rational_nonneg_closure\">rational_nonneg_closure</a> theorem\n",
    "========"
   ]
  },
  {
   "cell_type": "code",
   "execution_count": 1,
   "metadata": {},
   "outputs": [],
   "source": [
    "import proveit\n",
    "theory = proveit.Theory() # the theorem's theory"
   ]
  },
  {
   "cell_type": "code",
   "execution_count": 2,
   "metadata": {},
   "outputs": [
    {
     "data": {
      "text/html": [
       "With these <a href=\"allowed_presumptions.txt\">allowed</a>/<a href=\"disallowed_presumptions.txt\">disallowed</a> theorem/theory presumptions (e.g., to avoid circular dependencies), we begin our proof of<br><strong id=\"rational_nonneg_closure\">rational_nonneg_closure:</strong> <a class=\"ProveItLink\" href=\"../../../__pv_it/theorems/9e8ddbedf56b992886a613616b9230d8e06a89360/expr.ipynb\"><img src=\"data:image/png;base64,iVBORw0KGgoAAAANSUhEUgAAAMUAAAAaBAMAAAD1foU5AAAAMFBMVEX///8AAAAAAAAAAAAAAAAA\n",
       "AAAAAAAAAAAAAAAAAAAAAAAAAAAAAAAAAAAAAAAAAAAv3aB7AAAAD3RSTlMAq1RmmUTNIjK7EInv\n",
       "3XZ/CtNrAAAACXBIWXMAAA7EAAAOxAGVKw4bAAADY0lEQVRIx7VWW0gUURj+24tz210VeiiIWDEo\n",
       "KGO0sJKQFTcypRqxh4yoDR+CHmoMCSIvEwUFRkY32yCbXgxTyNpAJBBfxCwCgy5GLIxG9FBEBBX4\n",
       "EP3nzOw4N9vdogPnzJx/zjn/5fv+/wzAf2jsNfoQxobz2+eX8lg8eJmM1dAMgXx0rMrLosgVHJ5A\n",
       "ocxcyn0Tn8CBscuYP7ndB8w8hKLoTM6NE3GYs8uCmjtIyeR2Q8kkOw9hEcIqQBERlGbV0Y7d54Tw\n",
       "vStEKxTmBV3Fj0qoI6RBBBVsI5LDWXU0YO93CgtUhyCVAtjTTMJYo5BYFUaBnwc4TSTZgfmOvdYV\n",
       "9JiDs8OIGufXgClWDMwBWnRbhGhWxqM1MO4SPzVCdCv9moJ2DwMjKAl+qUymX6ARxx1oC4JZkJ2L\n",
       "0whHwiVu0bE/asRsgEUW+KJ1vGrkYD2On7E/T6efZdWxBM8PWCFvHevE8QF9P5GBpTuIBgfFCtvW\n",
       "g/i1DuCm57lWQDlErEC00HYSbuP3SrAx5oAfg85qdpb2IDStwBR5qShXmLmPJoNwSdiC2pAIO/Gx\n",
       "jk7MGJ7yUT8+sElsvYawC4sQpwq2UjR4tRgR4x8pSAcTqDAyKITL+tOkzcBugHfERsoHjHb6LfVW\n",
       "x6PeZut93ObTzJPY2aTEPAahApgG1DMEIdXiR8hiyhTwhM37abqZzOfu6ryy6egiNE6YJSWOU+E4\n",
       "8BvkDnJeB4QV71jxv8D/FZ9ldDZtoqTnhz0TegiPHx4hEaoegQgB9fxqAE2Dcon6IWd4hbZyC+WJ\n",
       "/4ZMw4VbQM+DTKvFPG9sBhevoB1t5N+wP2GAiKpEqgNKREwbM4oRzD/BQo0+KIvF9AqDTpqGC6Re\n",
       "OZJ/K7URAxKIsePQRGbkfI1kwlmJmdtkRgHznJ1e2Hjn07mVuO2V7tXyfRl5249jdQ5+1mReQhLW\n",
       "x0pkXHSvHitnm8A+4xQyhtbgqF5LsC3za561gBBM5qrUbuouxbwtHo9Lzrq70akjILoLgja7xraR\n",
       "1F3DD7mnSeVUyl8QPK6TC4SaskN40iN1S65P2TT7TRSDtetTwNygOfjykOJRsKLWRDBabw4XaFh2\n",
       "3ZTo58iZxe7zTkcxlnPQ4X2fB0p3efznrP27X63Frr+Lm//1/8piMGL8G2gtzVvLp/30AAAAAElF\n",
       "TkSuQmCC\n",
       "\" style=\"display:inline;vertical-align:middle;\" /></a><br>(see <a class=\"ProveItLink\" href=\"../../../__pv_it/theorems/ba95bcfa4ac296ce9a839162ede75099a28f51310/dependencies.ipynb\">dependencies</a>)<br>"
      ],
      "text/plain": [
       "<IPython.core.display.HTML object>"
      ]
     },
     "metadata": {},
     "output_type": "display_data"
    },
    {
     "name": "stdout",
     "output_type": "stream",
     "text": [
      "rational_nonneg_closure may now be readily provable (assuming required theorems are usable).  Simply execute \"%qed\".\n"
     ]
    }
   ],
   "source": [
    "%proving rational_nonneg_closure"
   ]
  },
  {
   "cell_type": "code",
   "execution_count": null,
   "metadata": {},
   "outputs": [],
   "source": []
  }
 ],
 "metadata": {
  "kernelspec": {
   "display_name": "Python 3",
   "language": "python",
   "name": "python3"
  }
 },
 "nbformat": 4,
 "nbformat_minor": 0
}