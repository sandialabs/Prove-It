{
 "cells": [
  {
   "cell_type": "markdown",
   "metadata": {},
   "source": [
    "Proof of <a class=\"ProveItLink\" href=\"../../../../../_theory_nbs_/theory.ipynb\">proveit</a>.<a class=\"ProveItLink\" href=\"../../../../_theory_nbs_/theory.ipynb\">numbers</a>.<a class=\"ProveItLink\" href=\"../../theory.ipynb\">negation</a>.<a class=\"ProveItLink\" href=\"../../theorems.ipynb#neg_as_mult_one\">neg_as_mult_one</a> theorem\n",
    "========"
   ]
  },
  {
   "cell_type": "code",
   "execution_count": 1,
   "metadata": {},
   "outputs": [],
   "source": [
    "import proveit\n",
    "theory = proveit.Theory() # the theorem's theory"
   ]
  },
  {
   "cell_type": "code",
   "execution_count": 2,
   "metadata": {},
   "outputs": [
    {
     "data": {
      "text/html": [
       "With these <a href=\"allowed_presumptions.txt\">allowed</a>/<a href=\"disallowed_presumptions.txt\">disallowed</a> theorem/theory presumptions (e.g., to avoid circular dependencies), we begin our proof of<br><strong id=\"neg_as_mult_one\">neg_as_mult_one:</strong> <a class=\"ProveItLink\" href=\"../../../__pv_it/theorems/26524baef6f4645a0fea06dc1a1c4e0f6e5e283f0/expr.ipynb\"><img src=\"data:image/png;base64,iVBORw0KGgoAAAANSUhEUgAAAOEAAAAVBAMAAABCnpRGAAAAMFBMVEX///8AAAAAAAAAAAAAAAAA\n",
       "AAAAAAAAAAAAAAAAAAAAAAAAAAAAAAAAAAAAAAAAAAAv3aB7AAAAD3RSTlMAq1RmmUTNIjK7EInv\n",
       "3XZ/CtNrAAAACXBIWXMAAA7EAAAOxAGVKw4bAAACfUlEQVRIx42WTWgTURDHp9ltdrvbhAheBCkB\n",
       "wR5sMQcptIIEqijoIejFg2gkB1EQ12OhlXgQRBEVCnUVyoIeDIVqxJtQe/GiiEXwGEhRETxUb4In\n",
       "Z3Zfkvcx62Zgsm9nf/P+b9/HbAD+a4FwyZzhOBNzzL5MK5YTl220OxRnYhQ5j9cS3exLUTwgXLGv\n",
       "2dy9iMMwUqwAHKP2JV7QqyeuWj7K4Lzd1yIOo8gVgJs0ww94RbuSuGpWNZP7FXEYRQ4lwn6ZVxwX\n",
       "rtn7TI4UTYwi4xFYOLZ8yjLuF65ZI5OLFRtcYh7lPnY6H1IUTwrv2fr28zc4He0sLlFsc4k+7tQT\n",
       "AI9TFBvaSKvFCXsLYCZeu05sJY5LFGe4RAs32HVwSsrZWp64IZqfhfdWPrD+juCsTOkj0zihOMUl\n",
       "5jYBxiK/Jp6422HNexjknoj7d4l7V+PXabpgx0fgvq6ocUIxxl5QhpTo/kbVbn/jHEXYXwc4rPYk\n",
       "bcq4kJxLUdTeMcYKVTVxFN8R6kfwZ+f4t4AKAjy9NaiJxmxdCDzsa1pfR35Wp7nEHC4nvMI6UAz2\n",
       "5MstejY5OeBWhQtr1faCj9dZ/R01TijOcokWFZtFHKcFqy6coadzc4PEtrrHD945Baf1g8BwAG8D\n",
       "BZMS7Zd4HWlS9A9u3jAMy7fPSgVZuLBnO7l5qk5fdEWNg12fLlZkTEos9HYpuJsO3KUG7RxPBAvN\n",
       "xLXv3JYeYTkTo8hS72bRr9t4Tij8OoANqfTyddss0QZnYhSZ79983/gJziNqrl1e7g93RbhiC2Zx\n",
       "4jgTWzC/UmthWFMCLeFG95px3Ao3rrGsvx1ON3GlCgZDcSZGkR8A/wDw38JSXuCZZwAAAABJRU5E\n",
       "rkJggg==\n",
       "\" style=\"display:inline;vertical-align:middle;\" /></a><br>(see <a class=\"ProveItLink\" href=\"../../../__pv_it/theorems/99ab299c1f400925f653113816040fb4308def810/dependencies.ipynb\">dependencies</a>)<br>"
      ],
      "text/plain": [
       "<IPython.core.display.HTML object>"
      ]
     },
     "metadata": {},
     "output_type": "display_data"
    },
    {
     "name": "stdout",
     "output_type": "stream",
     "text": [
      "neg_as_mult_one may now be readily provable (assuming required theorems are usable).  Simply execute \"%qed\".\n"
     ]
    }
   ],
   "source": [
    "%proving neg_as_mult_one"
   ]
  },
  {
   "cell_type": "code",
   "execution_count": null,
   "metadata": {},
   "outputs": [],
   "source": []
  }
 ],
 "metadata": {
  "kernelspec": {
   "display_name": "Python 3",
   "language": "python",
   "name": "python3"
  }
 },
 "nbformat": 4,
 "nbformat_minor": 0
}