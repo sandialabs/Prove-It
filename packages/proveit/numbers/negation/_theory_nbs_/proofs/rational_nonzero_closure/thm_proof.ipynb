{
 "cells": [
  {
   "cell_type": "markdown",
   "metadata": {},
   "source": [
    "Proof of <a class=\"ProveItLink\" href=\"../../../../../_theory_nbs_/theory.ipynb\">proveit</a>.<a class=\"ProveItLink\" href=\"../../../../_theory_nbs_/theory.ipynb\">numbers</a>.<a class=\"ProveItLink\" href=\"../../theory.ipynb\">negation</a>.<a class=\"ProveItLink\" href=\"../../theorems.ipynb#rational_nonzero_closure\">rational_nonzero_closure</a> theorem\n",
    "========"
   ]
  },
  {
   "cell_type": "code",
   "execution_count": 1,
   "metadata": {},
   "outputs": [],
   "source": [
    "import proveit\n",
    "theory = proveit.Theory() # the theorem's theory"
   ]
  },
  {
   "cell_type": "code",
   "execution_count": 2,
   "metadata": {},
   "outputs": [
    {
     "data": {
      "text/html": [
       "With these <a href=\"allowed_presumptions.txt\">allowed</a>/<a href=\"disallowed_presumptions.txt\">disallowed</a> theorem/theory presumptions (e.g., to avoid circular dependencies), we begin our proof of<br><strong id=\"rational_nonzero_closure\">rational_nonzero_closure:</strong> <a class=\"ProveItLink\" href=\"../../../__pv_it/theorems/d363ac84fc4fddb5f63b7b704dc8ea25bcc8fe120/expr.ipynb\"><img src=\"data:image/png;base64,iVBORw0KGgoAAAANSUhEUgAAAMUAAAAbCAMAAAD70rudAAAARVBMVEX///8AAAAAAAAAAAAAAAAA\n",
       "AAAAAAAAAAAAAAAAAAAAAAAAAAAAAAAAAAAAAAAAAAAAAAAAAAAAAAAAAAAAAAAAAAAAAAAeYafp\n",
       "AAAAFnRSTlMAq1RmmUTNIjK7EInv3Xah18O17eXJ8+7nKwAAAAlwSFlzAAAOxAAADsQBlSsOGwAA\n",
       "A1dJREFUWMPdWIty4yAMNCDeoN7T//+ph3gY2zi22yQ3c8dMU9I6CO2uVpBp+ueGm/6D4WV+9ejf\n",
       "GETI9yahWY6C0yRtmsBbgnB4MxVM02sw6WVOU23foVnVQTuH9IsBZNaRnqk4Aq+svHpY0WbIz3dz\n",
       "J7jzNg0oGQPN7c/0IyaTs4g5WKQp62IQz4s2LItd1R5eR0NGwtGR+f2nShYBy1OU4lKNSj+dBfhR\n",
       "WY+GunJML3zeswTZxO/qpChqznQ7mptGxivqZG6QwDXS4sIHjJ8qFDaLnxT167fNiurVTXCIFSae\n",
       "P51EITp7yI2nw5YMtDGNzqF1rgLsTc1nQXxCctr6Dgh+UWFTz1OBsVXFncXUmi+pcJtUEo+pDsD5\n",
       "BKYk1uXmEeo7zJAFwiCGF7RCpvb1MfYsj7puzrPV34cqSYKSNc30W5BQ+LGvyayAIc+v+6w9gnkd\n",
       "MCQp26o7sSJsdJZkxaJqPHGS/VM90rFpPV2z+52NgNbIcYis2iLxuMZcoM1A1R1fFc+4Qe0X609c\n",
       "YLIN/uBso4unEA1envUeYKxvGZpPDqFjs50gq9/GPhJgMOenfMOwwxnaU90ot3VxohRXsiC9jWAY\n",
       "ZNZKAsVn8+br454Lo8msuAjHmATbg5K81qU8ytPpvUc94sJUPsfTCJRySWto2r8TQk8eAD6+QWqU\n",
       "mlQRzecU5WaKIhoFPK5YPDwx9X7BT/1d11bRLMJ5gV6vDwjG8PwQTtj1VLnYFwZrkFo8zoIXIysr\n",
       "ihUBePABaL2bydOGLKtb6FBBdFGX1DrFwpV8KIvExfcfQFxkmAaasWnEH3sFJcdT8cBox+oAbd/O\n",
       "UeddXrSozDQZUaUVW2g7qxykHCjNtmDyKKEfoTKZeFyHDL3RDEu0KDf/snKoYA2zUjOYi8PbHjKq\n",
       "ynxGFCqfgy2f5EZRcN5VlqqO5vr8G/d1YDcnkAbv5QVi35wcickK56hzLrz26r68ji4iEddXPrh1\n",
       "EWAJPcaNPDPaPbKBykIKt27lJpPjb90+zGKe9uqYf/cIzZlVwZ4EF0MNShAcszNoa3rXi6CYuRWT\n",
       "8ZMOsK30528zVbz68rYoq6jMzXtgvx3pcznjq5L4xL0buAC89RUNf+e3RE8IsxaHMDexkX81i2Ka\n",
       "fwCEFRmWawSeFwAAAABJRU5ErkJggg==\n",
       "\" style=\"display:inline;vertical-align:middle;\" /></a><br>(see <a class=\"ProveItLink\" href=\"../../../__pv_it/theorems/23ef2a4ac4830aa0de6ac7467e4253e6dbcc8c2e0/dependencies.ipynb\">dependencies</a>)<br>"
      ],
      "text/plain": [
       "<IPython.core.display.HTML object>"
      ]
     },
     "metadata": {},
     "output_type": "display_data"
    },
    {
     "name": "stdout",
     "output_type": "stream",
     "text": [
      "rational_nonzero_closure may now be readily provable (assuming required theorems are usable).  Simply execute \"%qed\".\n"
     ]
    }
   ],
   "source": [
    "%proving rational_nonzero_closure"
   ]
  },
  {
   "cell_type": "code",
   "execution_count": null,
   "metadata": {},
   "outputs": [],
   "source": []
  }
 ],
 "metadata": {
  "kernelspec": {
   "display_name": "Python 3",
   "language": "python",
   "name": "python3"
  }
 },
 "nbformat": 4,
 "nbformat_minor": 0
}