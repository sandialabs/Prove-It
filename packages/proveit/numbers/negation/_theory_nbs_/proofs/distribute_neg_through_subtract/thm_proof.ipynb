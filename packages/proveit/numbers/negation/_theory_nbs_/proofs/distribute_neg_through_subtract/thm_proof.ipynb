{
 "cells": [
  {
   "cell_type": "markdown",
   "metadata": {},
   "source": [
    "Proof of <a class=\"ProveItLink\" href=\"../../../../../_theory_nbs_/theory.ipynb\">proveit</a>.<a class=\"ProveItLink\" href=\"../../../../_theory_nbs_/theory.ipynb\">numbers</a>.<a class=\"ProveItLink\" href=\"../../theory.ipynb\">negation</a>.<a class=\"ProveItLink\" href=\"../../theorems.ipynb#distribute_neg_through_subtract\">distribute_neg_through_subtract</a> theorem\n",
    "========"
   ]
  },
  {
   "cell_type": "code",
   "execution_count": 1,
   "metadata": {},
   "outputs": [],
   "source": [
    "import proveit\n",
    "theory = proveit.Theory() # the theorem's theory"
   ]
  },
  {
   "cell_type": "code",
   "execution_count": 2,
   "metadata": {},
   "outputs": [
    {
     "data": {
      "text/html": [
       "With these <a href=\"allowed_presumptions.txt\">allowed</a>/<a href=\"disallowed_presumptions.txt\">disallowed</a> theorem/theory presumptions (e.g., to avoid circular dependencies), we begin our proof of<br><strong id=\"distribute_neg_through_subtract\">distribute_neg_through_subtract:</strong> <a class=\"ProveItLink\" href=\"../../../__pv_it/theorems/4a2d007f8a09269ab0a5451ea0e0d7a580835f170/expr.ipynb\"><img src=\"data:image/png;base64,iVBORw0KGgoAAAANSUhEUgAAARoAAAAWBAMAAADtKE5GAAAAMFBMVEX///8AAAAAAAAAAAAAAAAA\n",
       "AAAAAAAAAAAAAAAAAAAAAAAAAAAAAAAAAAAAAAAAAAAv3aB7AAAAD3RSTlMAq1RmmUTNIjK7EInv\n",
       "3XZ/CtNrAAAACXBIWXMAAA7EAAAOxAGVKw4bAAADbUlEQVRIx8WWTWgTQRTHXzebNtl8NCh4KYSA\n",
       "YA9azaEUWqEGqiKINtCLh2IjCtKCsD0KWuJBFFRaoVCjUrcIQomYqAW9WAoiflEJolisha0eKghS\n",
       "ClqpUJyZN9nsy2439OQffgvzdmbnzXtvZhagthok1OIqXeJm39wUG+qrhFpcdVxSpWiixhR+E4nx\n",
       "xnavnkoRoRaHtNslNm0SqdJOr+9PzrLHN+QAN5z26n1PQi1O1afYY0BCHc14BuYUH2wILvCMjXh1\n",
       "7pJQi1ONPB2tEiI16ZqdsnWF4UsJuFMhz7TOSKjFqT72JQgbCFHYvQJM6dUaf74R+JiH9Z5lk0Go\n",
       "xUXPRLqSCNEOT29CJf48icwuLLz18kYtItQCg9NDVR1P/NzCPh1DiA7b93LTkkm9qY8vstw8BMEh\n",
       "gJte3jhXy1v+l3CHJkT7bRR08LG4cUBdEIqV111Wrx5co94UBrRVgDYQDEKDtZZAv3VCjMbl2iMJ\n",
       "pCLeup+EI1WBX4OwCQqrKaW6rt7bfH4Oaol6s8eAdwC7QBA0QmmrcxN3aTGX1q7ryi1ZgmlEOyMW\n",
       "m8VWN8C82OzCOMeDkYHGIgSWQUD0ojJaXYZIEUP3ZRZDdxDgL8AwCBTTVsSvGPvZhKEHAHupN7Yt\n",
       "wlqvQftFp2ST9CXAz+Lin3F6Y40dgUKaxmYe/GyP9wKS6WSPfOcTHpb1RUMcpXcvWveGa6a0dfAt\n",
       "O46bbgMUlgYOqRtbpgom7KvaUyugskpqAeQROzu1T4FVXi2fo6lJ3qO52RofNBGwW7QVqMs0U2+y\n",
       "rCbAN4IQjdu8ScA2RSfe/OFFCO2AnGP+q6kAD28w6cv08B4dHdZ4557lrXFoSaXIlHXJYMrtPMCd\n",
       "W1mJ8kGlsdkKo/IU4NSJwozyCcNZNdaWy+USl49Z4wMlBIhl4seleJbu8CZ+YUTSCNE1W6/408Hv\n",
       "1JuJKV4bHyUigHqwgx0fjRBOXBHLZ1WsyXdzkormNj6dzktogWe9zmI8FEsIlro+3GPkIWK0sx3P\n",
       "X07pMC3fOS/C1s1csfJK9Lg1yxerdbn6u3Y/hquJwFETGm5wQ75/tLygoI7Ykr/hrxz/G3D5Ixir\n",
       "+Ud3VmIT7uN8LkcSr40g1OIup+f4Q1XTmzGHz37DveeQhFpctSSpDplZw5mojtjTC/9b/wBoY/QT\n",
       "HBlDtAAAAABJRU5ErkJggg==\n",
       "\" style=\"display:inline;vertical-align:middle;\" /></a><br>(see <a class=\"ProveItLink\" href=\"../../../__pv_it/theorems/85d31b4199b1379f01f9658890529f4c48c5dc800/dependencies.ipynb\">dependencies</a>)<br>"
      ],
      "text/plain": [
       "<IPython.core.display.HTML object>"
      ]
     },
     "metadata": {},
     "output_type": "display_data"
    },
    {
     "name": "stdout",
     "output_type": "stream",
     "text": [
      "distribute_neg_through_subtract may now be readily provable (assuming required theorems are usable).  Simply execute \"%qed\".\n"
     ]
    }
   ],
   "source": [
    "%proving distribute_neg_through_subtract"
   ]
  },
  {
   "cell_type": "code",
   "execution_count": null,
   "metadata": {},
   "outputs": [],
   "source": []
  }
 ],
 "metadata": {
  "kernelspec": {
   "display_name": "Python 3",
   "language": "python",
   "name": "python3"
  }
 },
 "nbformat": 4,
 "nbformat_minor": 0
}