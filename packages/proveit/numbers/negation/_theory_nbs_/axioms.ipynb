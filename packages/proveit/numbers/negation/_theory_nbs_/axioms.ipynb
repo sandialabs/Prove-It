{
 "cells": [
  {
   "cell_type": "markdown",
   "metadata": {},
   "source": [
    "Axioms for the theory of <a class=\"ProveItLink\" href=\"theory.ipynb\">proveit.numbers.negation</a>\n",
    "========"
   ]
  },
  {
   "cell_type": "code",
   "execution_count": null,
   "metadata": {},
   "outputs": [],
   "source": [
    "import proveit\n",
    "# Prepare this notebook for defining the axioms of a theory:\n",
    "%axioms_notebook # Keep this at the top following 'import proveit'.\n",
    "from proveit.logic import Forall, Equals\n",
    "from proveit import a, b, c\n",
    "from proveit.numbers import Add, Neg, zero, Natural"
   ]
  },
  {
   "cell_type": "code",
   "execution_count": null,
   "metadata": {},
   "outputs": [],
   "source": [
    "%begin axioms"
   ]
  },
  {
   "cell_type": "code",
   "execution_count": null,
   "metadata": {},
   "outputs": [],
   "source": [
    "negation_is_injunctive = Forall((a, b), Equals(a, b), condition=[Equals(Neg(a), Neg(b))], domain=Natural)"
   ]
  },
  {
   "cell_type": "markdown",
   "metadata": {},
   "source": [
    "#### Negation is defined as the additive inverse of the natural numbers, extending the natural number set to all integer numbers.  This will extend to other number sets through the definitions of the operations that extend the set of Integer numbers to other number sets (division for rational numbers, exponentiation for real numbers and complex numbers)."
   ]
  },
  {
   "cell_type": "code",
   "execution_count": null,
   "metadata": {},
   "outputs": [],
   "source": [
    "# By default, Add(a, Neg(a)) will display in the subtraction style (the same as subtract(a, a))\n",
    "neg_def_add_inv = Forall((a, b, c), Equals(Add(c, Neg(a)), b), \n",
    "                conditions=[Equals(Add(a, b), c)], \n",
    "                domain=Natural)"
   ]
  },
  {
   "cell_type": "code",
   "execution_count": null,
   "metadata": {},
   "outputs": [],
   "source": [
    "%end axioms"
   ]
  }
 ],
 "metadata": {
  "kernelspec": {
   "display_name": "Python 3",
   "language": "python",
   "name": "python3"
  }
 },
 "nbformat": 4,
 "nbformat_minor": 0
}
