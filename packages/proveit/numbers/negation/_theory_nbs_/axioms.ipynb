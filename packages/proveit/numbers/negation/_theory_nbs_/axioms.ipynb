{
 "cells": [
  {
   "cell_type": "markdown",
   "metadata": {},
   "source": [
    "Axioms for the theory of <a class=\"ProveItLink\" href=\"theory.ipynb\">proveit.numbers.negation</a>\n",
    "========"
   ]
  },
  {
   "cell_type": "code",
   "execution_count": 1,
   "metadata": {},
   "outputs": [],
   "source": [
    "import proveit\n",
    "# Prepare this notebook for defining the axioms of a theory:\n",
    "%axioms_notebook # Keep this at the top following 'import proveit'.\n",
    "from proveit.logic import Forall, Equals\n",
    "from proveit import a, b, c\n",
    "from proveit.numbers import Add, Neg, zero, Natural"
   ]
  },
  {
   "cell_type": "code",
   "execution_count": 2,
   "metadata": {},
   "outputs": [
    {
     "name": "stdout",
     "output_type": "stream",
     "text": [
      "Defining axioms for theory 'proveit.numbers.negation'\n",
      "Subsequent end-of-cell assignments will define axioms\n",
      "%end_axioms will finalize the definitions\n"
     ]
    }
   ],
   "source": [
    "%begin axioms"
   ]
  },
  {
   "cell_type": "code",
   "execution_count": 3,
   "metadata": {},
   "outputs": [
    {
     "data": {
      "text/html": [
       "<strong id=\"negation_is_injunctive\">negation_is_injunctive:</strong> <a class=\"ProveItLink\" href=\"../__pv_it/axioms/a56c104b0e2c6eb3d06bcb49b9f225b49bacb9240/axiom_expr.ipynb\"><img src=\"data:image/png;base64,iVBORw0KGgoAAAANSUhEUgAAAPAAAAAXBAMAAADHOt+bAAAAMFBMVEX///8AAAAAAAAAAAAAAAAA\n",
       "AAAAAAAAAAAAAAAAAAAAAAAAAAAAAAAAAAAAAAAAAAAv3aB7AAAAD3RSTlMAq1RmmUTNIjK7EInv\n",
       "3XZ/CtNrAAAACXBIWXMAAA7EAAAOxAGVKw4bAAADDklEQVRIx7VWTWgTURD+TDZNsvkxIHgplIg/\n",
       "F/+K0EJ7qAGrFYuyWEHEHgIKxZ62F0FQiN6KlQYq1HiQ9VirJLaC0pMioiiVKoqgBDZ4UCiIFKSi\n",
       "IM7s33u7TaQgO8y+zJvZed+++XkvQIiktzLEESpl860sMRPIsbA1FOCdTbUzizR8Bg7yZCQMXLXY\n",
       "XH+WnjYDlznk5TCAlc7m+hV6ogXGRiofBnC6RX5/8fgSUfqutlBSvKO5OrXE4xlgsV5/FQrwICex\n",
       "/YsZULd1NCjA94HDwM1/JMr+iejMUqcIUdabsoU2hWE9aUX2aJ3pDYvVUXUV6AbGEM+57ybOOcKl\n",
       "QS36hIWkPe+yWKKCJ3VJvopseUuF/RTKUmArew28BnbR0kZK87TtvEKjokVyCzgigNUcs0ynvabJ\n",
       "Sb6xmmR5Rh/yHZlaAPgQ8BuYpFCZUm29oKe/RMo+BTUBrGjMvkwZbi402XdUshBwuoyqFgD+hBg1\n",
       "1DBJxT4aZvse8mb/NIwst1/kyklTAs5Y7O5xflkXHejp2RdzUm9SqKsm9iOQ4xUolPbdJM3RZ6of\n",
       "EqtcMx+zhRmrYkoL2yXg8xY7dE+fpFIrKBWiKaFnX2wjVzfJtwg4j82RwFXxE3dpaz0kXaQsKYXE\n",
       "Y4bpjBaHbGAlWxbApyx2qB8TlE33sPP07Mszz0IdkzQj75RAqDfhutNrGyinaS3LRZIuKblu2kg+\n",
       "UlJrRQG8xeIE73Gactcg2V2e9OOs19kX45LlGgWy49HY1wDw7Qecy/fOrKone6koNiKdv2rvGMdN\n",
       "ATxusZPiVUzdEaH29OzrC3Wm1Pp4iLtNltYnh4xZZIweai8+xDVYIWhWXM8TP3qRNYPFxb74BmGJ\n",
       "FtZxgcQO7JnHRD5xzET8BodpxLmpbeCkzuzQiX3LnWLqCeyLaUnBk1Z0wT+1G2G2UhG9ZwPTwRDz\n",
       "HwQz3mUj69WyZJGkNeT/ppix9g3nyBywWKKBJhJFUJfncbPlnyJ/i0XREjhlMEuvipjI+i6f5b/I\n",
       "/T9oWCxiKsmGT1TXufBffXnAUIYWrqQAAAAASUVORK5CYII=\n",
       "\" style=\"display:inline;vertical-align:middle;\" /></a><br>"
      ],
      "text/plain": [
       "<IPython.core.display.HTML object>"
      ]
     },
     "metadata": {},
     "output_type": "display_data"
    }
   ],
   "source": [
    "negation_is_injunctive = Forall((a, b), Equals(a, b), condition=[Equals(Neg(a), Neg(b))], domain=Natural)"
   ]
  },
  {
   "cell_type": "markdown",
   "metadata": {},
   "source": [
    "#### Negation is defined as the additive inverse of the natural numbers, extending the natural number set to all integer numbers.  This will extend to other number sets through the definitions of the operations that extend the set of Integer numbers to other number sets (division for rational numbers, exponentiation for real numbers and complex numbers)."
   ]
  },
  {
   "cell_type": "code",
   "execution_count": 4,
   "metadata": {},
   "outputs": [
    {
     "data": {
      "text/html": [
       "<strong id=\"neg_def_add_inv\">neg_def_add_inv:</strong> <a class=\"ProveItLink\" href=\"../__pv_it/axioms/8110ccdd9aa590f190428252a3b05297a0a7e38f0/axiom_expr.ipynb\"><img src=\"data:image/png;base64,iVBORw0KGgoAAAANSUhEUgAAAQ8AAAAXBAMAAADn89dPAAAAMFBMVEX///8AAAAAAAAAAAAAAAAA\n",
       "AAAAAAAAAAAAAAAAAAAAAAAAAAAAAAAAAAAAAAAAAAAv3aB7AAAAD3RSTlMAq1RmmUTNIjK7EInv\n",
       "3XZ/CtNrAAAACXBIWXMAAA7EAAAOxAGVKw4bAAADM0lEQVRIx71WQWjUQBT9zWZ3k+x2d/HgpSAB\n",
       "FW+yYBX1sC7UglXQYA8iil0PUuwphR6tRG9ixYAHjfQQL0XZw4b2YCkoFREUURZRLEIh1UPFQykI\n",
       "FnoozmRmspNpUisGP/zZ7JuXnzf//5kEIHXLU4818y/Qf7Wv1GPtUiJawRe7U9QhecTjrVQVAG2y\n",
       "TdB+/G84RSFT1BNsRARydYLewBW1UxTSRz3BekWgrBM05wIU9BSFzFNPsKIrAEMuQTOoPLk0W6RB\n",
       "PMlyYpM8Y+i7xcW3KQqRPeJQWDksbOueZR/BFeGGyys7CHoC4OEfw9fJzz4B9uNXjD3/AQaiMxdN\n",
       "dR0gg7MlLwaGNWm/3JYZoKOQD0UqVyO3jp8yMi+CK9LNGYObxFx5s5BunboH76P79CXIaKdKQv9I\n",
       "61D0A1R1C534PZ3nLDmGVJmDk5yQR2H+KTe7+bwoGsTPkKacCpa+gO9ZxeJAWRVK2YCyF6CSz/Xq\n",
       "6/DquIWmajJ4nJB+Nqky7kiikDebJmxoITwrZASJG9IJ2qihoVl7itOwsYQXUvjmByegdPOczwtp\n",
       "M57KuNNhwOe1SGm0DVFIy4djOGY72iPoGEHJC9BptCzts7KGD+AvJdyWn5T5J0H9rLm9nJB8g/FU\n",
       "xt0DsoPsHnQbEzRZPvGfaPFRITrslFBbCodn2ULNQ9BrSJhcV3By1CpuX9nWrEEiRC7ZHSFZO+Qx\n",
       "7nkWbwAekwu8EbGjLTMbeaLqSx9lurU566qqdYp2WbiqJZynoiVXSIkPoXXqkqV5jY4QqUJ4A86k\n",
       "41QD7i0W71XY5G3ihZla9AzVds2OfkdlM4SXXg9+H4Roy1SPovvKUEQlLqPPg9skI3DW7whRbMbD\n",
       "GQm4YWnWwsgL1BNsfGu0aN4ddJvQ7R6BJuQM8FSXnBulSqRZAx4RgrmwwgJcgQL3Vuvd+p24BZrt\n",
       "2z8DE7py2kdjvq/m5h8g9M4w/V6hQu4THt01iIsQamMHfrBeMIknfL7Z20F1bmw6DldNQrwQOUdw\n",
       "gWPCYkxL/K6IlyigWbczCkYCyyZ/svIAb9epx9rydtAMN8YKgTkBPgj/2+jKNQF203vCbxJo30ul\n",
       "4glEAAAAAElFTkSuQmCC\n",
       "\" style=\"display:inline;vertical-align:middle;\" /></a><br>"
      ],
      "text/plain": [
       "<IPython.core.display.HTML object>"
      ]
     },
     "metadata": {},
     "output_type": "display_data"
    }
   ],
   "source": [
    "# By default, Add(a, Neg(a)) will display in the subtraction style (the same as subtract(a, a))\n",
    "neg_def_add_inv = Forall((a, b, c), Equals(Add(c, Neg(a)), b), \n",
    "                conditions=[Equals(Add(a, b), c)], \n",
    "                domain=Natural)"
   ]
  },
  {
   "cell_type": "code",
   "execution_count": 5,
   "metadata": {},
   "outputs": [
    {
     "name": "stdout",
     "output_type": "stream",
     "text": [
      "These axioms may now be imported from the theory package: proveit.numbers.negation\n"
     ]
    }
   ],
   "source": [
    "%end axioms"
   ]
  }
 ],
 "metadata": {
  "kernelspec": {
   "display_name": "Python 3",
   "language": "python",
   "name": "python3"
  }
 },
 "nbformat": 4,
 "nbformat_minor": 0
}