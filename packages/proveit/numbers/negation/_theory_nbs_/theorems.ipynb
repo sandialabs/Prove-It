{
 "cells": [
  {
   "cell_type": "markdown",
   "metadata": {},
   "source": [
    "Theorems (or conjectures) for the theory of <a class=\"ProveItLink\" href=\"theory.ipynb\">proveit.numbers.negation</a>\n",
    "========"
   ]
  },
  {
   "cell_type": "code",
   "execution_count": 1,
   "metadata": {},
   "outputs": [],
   "source": [
    "import proveit\n",
    "# Prepare this notebook for defining the theorems of a theory:\n",
    "%theorems_notebook # Keep this at the top following 'import proveit'.\n",
    "from proveit import ExprRange, IndexedVar\n",
    "from proveit import a, b, k, n, x, y\n",
    "from proveit.core_expr_types import x_1_to_n\n",
    "from proveit.logic import Forall, Equals, NotEquals, InSet\n",
    "from proveit.numbers import zero, one\n",
    "from proveit.numbers import ZeroSet, Natural, NaturalPos, Integer, IntegerNonZero, IntegerNeg, IntegerNonPos\n",
    "from proveit.numbers import Rational, RationalNonZero, RationalPos, RationalNeg, RationalNonNeg, RationalNonPos\n",
    "from proveit.numbers import Real, RealNonZero, RealPos, RealNeg, RealNonNeg, RealNonPos\n",
    "from proveit.numbers import Complex, ComplexNonZero\n",
    "from proveit.numbers import Add, Div, Neg, subtract, Mult, Exp, Less, LessEq, greater, greater_eq"
   ]
  },
  {
   "cell_type": "code",
   "execution_count": 2,
   "metadata": {},
   "outputs": [
    {
     "name": "stdout",
     "output_type": "stream",
     "text": [
      "Defining theorems for theory 'proveit.numbers.negation'\n",
      "Subsequent end-of-cell assignments will define theorems\n",
      "'%end theorems' will finalize the definitions\n"
     ]
    }
   ],
   "source": [
    "%begin theorems"
   ]
  },
  {
   "cell_type": "code",
   "execution_count": 3,
   "metadata": {},
   "outputs": [
    {
     "data": {
      "text/html": [
       "<strong id=\"negated_zero\"><a class=\"ProveItLink\" href=\"proofs/negated_zero/thm_proof.ipynb\">negated_zero</a> (conjecture without proof):<br></strong> <a class=\"ProveItLink\" href=\"../__pv_it/theorems/c52b519efe39d9a23613a9bf51e5201768d82e150/theorem_expr.ipynb\"><img src=\"data:image/png;base64,iVBORw0KGgoAAAANSUhEUgAAAE8AAAAVBAMAAAD1D64kAAAAMFBMVEX///8AAAAAAAAAAAAAAAAA\n",
       "AAAAAAAAAAAAAAAAAAAAAAAAAAAAAAAAAAAAAAAAAAAv3aB7AAAAD3RSTlMAInZUiRDNmWbv3US7\n",
       "qzJazP2FAAAACXBIWXMAAA7EAAAOxAGVKw4bAAABNklEQVQoz2NgYBBgQAaMDLgAkwEKl1sBl0IT\n",
       "BJPFqZCBQQNTiYs60FbWBIRAMkOUAANbALo6NgPWhQwM7A1wAY4FDCwHGDgK0BV2MTD4MDBwIgR4\n",
       "LjAwf2VgmIqu8CwDg30AgxlCgL+Age8zA0MGusLvDAzvDRhKEALxQIU/GBh80dSxghQ2IOuXd2Dg\n",
       "+8TA0AbmVK0CgbWgkP0CVKjAsBhVIVDQEs1EsEIHhtlAs7PAuh/EOzBwA018j241UOF+BZBCJM8w\n",
       "Az2zE4tn7A2QreYBBiIweKzQ3MhwhoGhP4DhEEIhxwQGdmA89aCb2MnAUIYaGIsZIh8wIAcYBHAZ\n",
       "sM5jYHiFJBLudA9IrkZXyFqiC9TP9QA9NBZgT2UYaQAplaCCg2h8GVwJN4aARoSbUNM+kwB2ZQAz\n",
       "kEh37k8OywAAAABJRU5ErkJggg==\n",
       "\" style=\"display:inline;vertical-align:middle;\" /></a><br>"
      ],
      "text/plain": [
       "<IPython.core.display.HTML object>"
      ]
     },
     "metadata": {},
     "output_type": "display_data"
    }
   ],
   "source": [
    "negated_zero = Equals(Neg(zero), zero)"
   ]
  },
  {
   "cell_type": "code",
   "execution_count": 4,
   "metadata": {},
   "outputs": [
    {
     "data": {
      "text/html": [
       "<strong id=\"neg_in_zero_set\"><a class=\"ProveItLink\" href=\"proofs/neg_in_zero_set/thm_proof.ipynb\">neg_in_zero_set</a> (conjecture without proof):<br></strong> <a class=\"ProveItLink\" href=\"../__pv_it/theorems/d21fdc3d668aa4ec1efb55a0d2a8d47cb165a0000/theorem_expr.ipynb\"><img src=\"data:image/png;base64,iVBORw0KGgoAAAANSUhEUgAAALYAAAAXBAMAAABUnqh8AAAAMFBMVEX///8AAAAAAAAAAAAAAAAA\n",
       "AAAAAAAAAAAAAAAAAAAAAAAAAAAAAAAAAAAAAAAAAAAv3aB7AAAAD3RSTlMAq1RmmUTNIjK7EInv\n",
       "3XZ/CtNrAAAACXBIWXMAAA7EAAAOxAGVKw4bAAAC5klEQVRIx61VS2gTQRj+zGuTTbJED4IIsiD0\n",
       "4qM5SMFXW6iK0kuh6EGLhhYRCpZUvIiK66UXldSDaARleiwVmqr4oJegCKIowQc9BbYo1seliFDQ\n",
       "i/+8ktkkhIJ+8OXfmZ395p//MQFWg7xiw1QD7MPSnuHvLKwOjitp4njzsi9HpY1vYEDUBzJ8tLm9\n",
       "9hbFwH7ZxlWh3/Qz/5mcTnDRT8B+Pn2qrbSdkwxitHEiWQFirr0gnxBjuMxjM9lWO5KVDGJHK+29\n",
       "wFOlHe7l8ki6bbVTig2zTNpv1Wqupn0d6GRSG68QJodi7cPdoRhETJ7kyHfT719AwVXaI8CbavV1\n",
       "e+1+RQ1r4xIVQVJUgTVqxsTm2lmlPQccBG4HpHYLh+IPmZ4YUdQYyieoJMIiErF6nUdysP6Qtg+n\n",
       "zMddwDisjCkdpxfzP7RfHO8Uddk8R4QcCwkBI5wXslK7BOsnH2+lYmTJAS27WBxAKIewH53kVuGF\n",
       "pH26yuFFlpEu0eJl/u4qnxJlNn6SlpD2CYrX1DBNFGh/v7b3Po+3QA4pDyvN2rUCmcQseRMVfk/X\n",
       "z3uIiVx2UtE94t4OEXPd9DPT/Vi1GmleYnhmaDfEZNZHD18nEpauz/NuLAI9THYothHvU6rthfiK\n",
       "8oFyVGB4j2hFf3RXUWu7WB/KIywi4fiB3tkDHKAncaSdPAe0X6SXUjgolkx4XPstMKYLZU5R++eH\n",
       "PkTok5IYDQe00679UvWlKNs1FOXUgJNBV7FYdONrGY8JZbpDu3RNUdfJpifjX0lGVsDUDWZo2/2L\n",
       "ntb+qM+ZT+xiV+QFl5G5tMpaLO1JBnFR2WN3jJ6v7wJLD1P5wiBLMJVLx49mjFzSrSMYRF+ru8p4\n",
       "qt1u0b7tD2DdUtp0CzNDGzcVTTTfnU7Z6FDgXPDtTFH2DvQeCtOBQlYZbfpTk93IcS/bwhlxhEqT\n",
       "tuVLmlhq/vLsOmnPc+vkW117Y9JMuPj/iAtRy/tnob9WwscoCafCowAAAABJRU5ErkJggg==\n",
       "\" style=\"display:inline;vertical-align:middle;\" /></a><br>"
      ],
      "text/plain": [
       "<IPython.core.display.HTML object>"
      ]
     },
     "metadata": {},
     "output_type": "display_data"
    }
   ],
   "source": [
    "neg_in_zero_set = Forall(a, InSet(Neg(a), ZeroSet), domain=ZeroSet)"
   ]
  },
  {
   "cell_type": "code",
   "execution_count": 5,
   "metadata": {},
   "outputs": [
    {
     "data": {
      "text/html": [
       "<strong id=\"nat_closure\"><a class=\"ProveItLink\" href=\"proofs/nat_closure/thm_proof.ipynb\">nat_closure</a> (conjecture without proof):<br></strong> <a class=\"ProveItLink\" href=\"../__pv_it/theorems/0f14f9c9e95e8922f52b5384660a4680356661330/theorem_expr.ipynb\"><img src=\"data:image/png;base64,iVBORw0KGgoAAAANSUhEUgAAAKoAAAAVBAMAAAAkxGgRAAAAMFBMVEX///8AAAAAAAAAAAAAAAAA\n",
       "AAAAAAAAAAAAAAAAAAAAAAAAAAAAAAAAAAAAAAAAAAAv3aB7AAAAD3RSTlMAq1RmmUTNIjK7EInv\n",
       "3XZ/CtNrAAAACXBIWXMAAA7EAAAOxAGVKw4bAAACqUlEQVQ4y41VS2gTQRj+kk2ySbYJEVEKigQK\n",
       "oqglihT0UANNpOAlUvBikWIPQkHcWhEELdGb+GguVdcX60WooU2qQqWngBSpIgax1Etwi4f6uPQm\n",
       "ePKfnZnt7jYx/eHb+Wd29pv/OQtsTnQB31IzUbFZSaY53HLGtyf+zRiB9mkhbAEpttDVjnWfgOek\n",
       "jG8hlj4JVIDvQJ7Nz7UhjQ9xeGXENw8saxl0ABET11kkSm1YQxkOrxz2s+4l8xKAkmXE0NJtWDsE\n",
       "fKsmH382GrYfgTHrMmPFeyhkQqRdWHcLeCXCrT/1S9qqdyarjHUY+NhofGjHekLAKZ4dq5Rozc60\n",
       "6oQ3oMcwyVhngX7gYdMMufRhASmDeuwvxc/2O6Kvs0az09Ok9ACjUFNNSJVOjHfLDz4LyAPfIlQH\n",
       "gjWbdT1bOg4FH5Oyn6rM1AruRC6+fpQFyv2scmQxLXDEzzeYFENrSFSB6Bp7d5stlQRrwNxJygSd\n",
       "aDmnRVeMQkLXZkxcmiOOGiXTw+okv4QKWRK2bZ1y2xpPsQgMEoZ65XKuSJ7jxhjUJZaGOr42j0DF\n",
       "wjEagnU2SbhZcTdGygHCS5bEcu+cbMEsBUDZZtv6Tux/KiBZ09ge1KHYfictp2PJqORNUo4QrlKy\n",
       "4svRP8IX5WKR2bGVnHDiOisgP7eCX0LUbVV7dtapX9ZMx0URBogllI3WMGC/m9F4jPMY75I1cEdA\n",
       "1sCuN6M/yHee5WeTvMeiFxbp+ZywJONfSKbQYxhGGtV5vPCXWaLI4ZVrYjz9pOG5edS6jJQeO2re\n",
       "Ylp4Twbzai6Xy7uLN8vhlb7/3EXcVn1iwIwxT7QQwvUNG+8LeExqddNdkUq4r/sV1AekHdzy+97G\n",
       "XpvyFKbIWatfjO/4smEUWvyLLA63rLb6G+n4B5wjnhccTdmjAAAAAElFTkSuQmCC\n",
       "\" style=\"display:inline;vertical-align:middle;\" /></a><br>"
      ],
      "text/plain": [
       "<IPython.core.display.HTML object>"
      ]
     },
     "metadata": {},
     "output_type": "display_data"
    }
   ],
   "source": [
    "nat_closure = Forall(a, InSet(Neg(a), Natural), domain=IntegerNonPos)"
   ]
  },
  {
   "cell_type": "code",
   "execution_count": 6,
   "metadata": {},
   "outputs": [
    {
     "data": {
      "text/html": [
       "<strong id=\"nat_pos_closure\"><a class=\"ProveItLink\" href=\"proofs/nat_pos_closure/thm_proof.ipynb\">nat_pos_closure</a> (conjecture without proof):<br></strong> <a class=\"ProveItLink\" href=\"../__pv_it/theorems/1bbb71e66789c1bd5badd2d57ce6f726f26b0c3e0/theorem_expr.ipynb\"><img src=\"data:image/png;base64,iVBORw0KGgoAAAANSUhEUgAAALMAAAAZBAMAAACIvQJIAAAAMFBMVEX///8AAAAAAAAAAAAAAAAA\n",
       "AAAAAAAAAAAAAAAAAAAAAAAAAAAAAAAAAAAAAAAAAAAv3aB7AAAAD3RSTlMAq1RmmUTNIjK7EInv\n",
       "3XZ/CtNrAAAACXBIWXMAAA7EAAAOxAGVKw4bAAAC1UlEQVRIx5VWTWgTQRR+mx/3L1mjB7EgEvCg\n",
       "gpVVtKBIiTQVRcRIbyIY6UHooa4WCoLU6EVEsAHxZ/1dLwWtaeMPiD1ILiJRxBzUViQY9VgVEUTw\n",
       "IL7Zze7O7NrpdmBn5r3MfPPmfe+9CUCEthkW0nL4JSKujeUWBF3GTyxHWztGOpHViXxo6I4GfYF0\n",
       "n1ldssXKykdzANTXz1zotAWQIZNVPGSxRpxSDWi/BGQ5uw9g0rNaQ9xeMjnMg05UXafQbZHFysK0\n",
       "qkMKEqZZN/Gayh+AU/M6fXEBu56gNh7gVliLBqY9q6HfOV3N8qBHiX21kPqFM2g3mu9s6KHWMA29\n",
       "C0/XEZ7L4jfi6mJI3e/QOdh2jGAs16oU9Ff8XjWbL7nQy1x/u+3o0xHs79vzYdflgiHDRQr6IP6w\n",
       "E+AqF9okpOlU3D2HW7ivC5gAEAwpV6m42YhuLKENIGa40IdImFJs3NNhDw7rbKHoQ8PG2HV/1Ukk\n",
       "X7bUAs10/dE1lvw3+KVwyViTtBnYC/CBmEV+k9CdzfdtaMFa4e+axB2xlsei9MkspA11wgpZnaJO\n",
       "r4PyC4cDdhKWKauVTIWyukTu5OV7HsU4nB4CMZ/P987hEOUvxH/g2GlLDQoazstUyKIMDwawG+9+\n",
       "DJrDVS6QDB0kjf2SofwEobgaYIstffcSHc3Szvq7SITACWRRmZZ+wx0nzY6VWGgSoSrF9E3oJKfv\n",
       "dvLdvY492eGv2mZfBaESOakGfbZuQg1ECDlfavjy7dkzK3HLW+cOHfsdmo7U2Uqz3Z2kCliqukzT\n",
       "zEJ1Cu4y0DaFM6F62D4s+cRJ9P8nKwkVQ95qnbOXrtFhKlz5NoXqoc5NBlL52pYZo32WTDyvJiDZ\n",
       "YFZJpDTJRmDvcf7zEffISfasfwjiFZxtWDJ7KZCdS5kAbrfLfOh0wJRx0yzM9TaOsDrN4ENHfBtD\n",
       "j9f8LeqLvsD/ITbJSNs/5iOg/eCzkOwAAAAASUVORK5CYII=\n",
       "\" style=\"display:inline;vertical-align:middle;\" /></a><br>"
      ],
      "text/plain": [
       "<IPython.core.display.HTML object>"
      ]
     },
     "metadata": {},
     "output_type": "display_data"
    }
   ],
   "source": [
    "nat_pos_closure = Forall(a, InSet(Neg(a), NaturalPos), domain=IntegerNeg)"
   ]
  },
  {
   "cell_type": "code",
   "execution_count": 7,
   "metadata": {},
   "outputs": [
    {
     "data": {
      "text/html": [
       "<strong id=\"int_closure\"><a class=\"ProveItLink\" href=\"proofs/int_closure/thm_proof.ipynb\">int_closure</a> (conjecture without proof):<br></strong> <a class=\"ProveItLink\" href=\"../__pv_it/theorems/4fa453d474de6b95923d5692650917fcf5c977580/theorem_expr.ipynb\"><img src=\"data:image/png;base64,iVBORw0KGgoAAAANSUhEUgAAAJYAAAAVBAMAAABWCwqnAAAAMFBMVEX///8AAAAAAAAAAAAAAAAA\n",
       "AAAAAAAAAAAAAAAAAAAAAAAAAAAAAAAAAAAAAAAAAAAv3aB7AAAAD3RSTlMAq1RmmUTNIjK7EInv\n",
       "3XZ/CtNrAAAACXBIWXMAAA7EAAAOxAGVKw4bAAACWUlEQVQ4y4VUTWgTQRh9yeZ3Nw3rSb1IwIOC\n",
       "rawghXoogSoURAzUk/QQ8CAWka2CIEiJIvTgodFD69a/eCnESo1VEXuQ3iSKmItakYWox4IUQbyI\n",
       "ODPfzHZn2dQHb2e/tx/fznzzZoCtkJWMSL1St8Q3yRDS3UhO8uyfM/4dh+s2j3fHl0q2iBq+R+Li\n",
       "jRqqGaEf4fHp+FoLkhoyDT1OlVF0loV+ha+1Hl9rRFKDUdbjhIumWRc6/41Viq+1KqnjjVzbXf8j\n",
       "H01gNFETuuGw6fVoV5UYwSnag3PBWnP2Nam/8/238bVSLWKAyVdT7PlEvF/cbFu+MQ/SR4H5+FoZ\n",
       "hxjY4TXuswqDiGzXPkP4hOmTyNrhVraf3Zbd7SsRFR45OMaGfhGE1l6lHvXzGVoVtfCvXqXPtZbk\n",
       "9AsV4oLPsYbjwBcmz4hU1hr/M21C6TnQEHqyG7T+MNsOA1cvQK+l0Ib5iw3jYvc2bdTkltpOenWY\n",
       "PRaHXzDLiW9lZaDIGs2/MDbYOCCiTqDvYA4zN0hfnmB5n3K/0SQvnq+p/ekSVa2fSFT3AEMi+hE4\n",
       "onyCdblD+mWbH4TcKsbEtyVLZVk2UeEeBvicj9ImlwJHTCB7s046N22hUrQx6HleCa0VPJR/7BAV\n",
       "HqxP72K5H2iWO0+SOj7b9t63W0oHHrv5Q43rwkR7HaxIdU1Sv6hk9fRLOkNRHQV3ZqyR516wUkgr\n",
       "9aCkfhqcHqdE6emR/U+RvcXeDmxbn1U9yrtEDZd63JsRfdHzKuGYm8iM3kdzPWrN/eeOnpIMX6Nu\n",
       "fCrT/wFOv5LPKU4LLQAAAABJRU5ErkJggg==\n",
       "\" style=\"display:inline;vertical-align:middle;\" /></a><br>"
      ],
      "text/plain": [
       "<IPython.core.display.HTML object>"
      ]
     },
     "metadata": {},
     "output_type": "display_data"
    }
   ],
   "source": [
    "int_closure = Forall(a, InSet(Neg(a), Integer), domain=Integer)"
   ]
  },
  {
   "cell_type": "code",
   "execution_count": 8,
   "metadata": {},
   "outputs": [
    {
     "data": {
      "text/html": [
       "<strong id=\"int_nonzero_closure\"><a class=\"ProveItLink\" href=\"proofs/int_nonzero_closure/thm_proof.ipynb\">int_nonzero_closure</a> (conjecture without proof):<br></strong> <a class=\"ProveItLink\" href=\"../__pv_it/theorems/2a11c071e594b5675104481d30ad486db198c9350/theorem_expr.ipynb\"><img src=\"data:image/png;base64,iVBORw0KGgoAAAANSUhEUgAAAMEAAAAbCAMAAADyORvnAAAARVBMVEX///8AAAAAAAAAAAAAAAAA\n",
       "AAAAAAAAAAAAAAAAAAAAAAAAAAAAAAAAAAAAAAAAAAAAAAAAAAAAAAAAAAAAAAAAAAAAAAAeYafp\n",
       "AAAAFnRSTlMAq1RmmUTNIjK7EInv3Xah18O17eXJ8+7nKwAAAAlwSFlzAAAOxAAADsQBlSsOGwAA\n",
       "AzdJREFUWMPVWOnWozAINQnZl9l9/0cdwMQ1Vb9p/TE5bY+1KnC5XEiH4b9aYfjPV9T8GUt8zobS\n",
       "DwZgBZsow6A9HsATNiQ8mQJh6TM5/Bjx0PoHaGpmuM7B/Kena+aOHakYkqzZ+PDyqh4Uee7LpWlp\n",
       "0piMz9knfCZ4Wr/wrQbHEWS2lOlQLDept3ma2qOuKq1c2SpeEFkMvzb3TBEkxqCQ9zCXnrHvRgBx\n",
       "T6aXy1zoIkB1OrZshsr6iUUjnw507FoSPlAXY0UDrrOp4EbRotOT38Si3388s2ipZAJCrdCI8t0A\n",
       "pvxSim9cnMKONRmX2bYucANziR8+072QmtZvQAGqCph5OwUltyq8cbFZ50mb0mEVOu3mVPnlAuxo\n",
       "UL8VBitR9Dm93+aE2ZZDpyPFYqsMRbE6368KdHr2W/bVS3Pawe1i/Gct9R141+YSktdXqqlVovoa\n",
       "goK2CL55RVzXerUVt7sWIWyLLAezpj4j9ysqkLIP0Ki2Kpa+e2sllS+GFTuJB8EfX84zIvkI+Jp1\n",
       "ronhwW6u1yRdNTUvC6GCkS+KDb0FyNSuWsshNsXJqTNyhCkC4tgRBleE9/h7RqxjmCuNR7eQjmqy\n",
       "5CD10Uh+MUmUWtzo6TierPouTvqUHV3N13HCAKg6hql30hIBIgB8+w7YAy1RIbsvsSiMZEM16GVe\n",
       "Ja+XelddD+OpgNvaCpoYhKhKtPu2D8OWQzUHe2xExdKXfgRy0ivJ96kV8OV4A8qonmyJfDZgVV2w\n",
       "qaIXkDIc1iaxykqGG3Pw4ydQDph0B+KVdBTKtVQVQr6hsZFcIztKyqhaL89mBZWWlM3TiKOTepWC\n",
       "UIZmLbRcoBYp+woQ10ctiBKdFWWylfXmJ6/DVni9SThE4IDqzxoV7MGiGuR5TxmeZz1hE7GQ0Qi3\n",
       "jvOm0Ur4UCGdEsz72d9vpoqba996AhHIK3TWLYFr6biMw/UWsjFDXe/U4O1Rfp5NtyBSGWgV1i06\n",
       "MnF1vjPaNVb6q0H9QxtEdag4DUqWqNhEE1MhkL/e3OrZQp4o/KZQ7UciyPZ0eKA6+OI/D/PWxp5v\n",
       "I8tnAnhgn3y9vfzony/+iac++n/RXg24Vv8CCREYO4FLCm8AAAAASUVORK5CYII=\n",
       "\" style=\"display:inline;vertical-align:middle;\" /></a><br>"
      ],
      "text/plain": [
       "<IPython.core.display.HTML object>"
      ]
     },
     "metadata": {},
     "output_type": "display_data"
    }
   ],
   "source": [
    "int_nonzero_closure = Forall(a, InSet(Neg(a), IntegerNonZero), domain=IntegerNonZero)"
   ]
  },
  {
   "cell_type": "code",
   "execution_count": 9,
   "metadata": {},
   "outputs": [
    {
     "data": {
      "text/html": [
       "<strong id=\"int_neg_closure\"><a class=\"ProveItLink\" href=\"proofs/int_neg_closure/thm_proof.ipynb\">int_neg_closure</a> (conjecture without proof):<br></strong> <a class=\"ProveItLink\" href=\"../__pv_it/theorems/b69aebe2fb130d3fe54c748af366995ce0982c230/theorem_expr.ipynb\"><img src=\"data:image/png;base64,iVBORw0KGgoAAAANSUhEUgAAALMAAAAZBAMAAACIvQJIAAAAMFBMVEX///8AAAAAAAAAAAAAAAAA\n",
       "AAAAAAAAAAAAAAAAAAAAAAAAAAAAAAAAAAAAAAAAAAAv3aB7AAAAD3RSTlMAq1RmmUTNIjK7EInv\n",
       "3XZ/CtNrAAAACXBIWXMAAA7EAAAOxAGVKw4bAAACy0lEQVRIx7VWTWgTQRR++d/sJktu6kUCKh5q\n",
       "ZQ9SUCREmkK1FBcrCFJwoYdiEdleBKHWKIIHlVYP1i3+rJdCqGCsiNiD1INIFDEXtSILUY+KFEGE\n",
       "IuKbnXRndtZuUtGB2czvN2++9703AWijxHRYY4m3u3DzWpEhNdneOtkgi4W9LfYU2oNOa/j56B9L\n",
       "NIRF0WM/jzrXtZVu1gbIkcamUOgxsrMqDH4S+urlMhhJ1kXcHtIYDoXuwzojDiZtwXFFULU5kCws\n",
       "U0jiMsCZ1qR/x9odUE3R34+YUJE5nCF6upIPQ5bQAFgIDD9v3vyG88b1NUBvpMym9+LpyHwy1Gi1\n",
       "jlQbgeEh6s7jHjFS7hw3/QXrS8d5EQodQdg478XRx+P4vee2TzDK0/Y0t+gITvQCTAfxFE57yGBS\n",
       "43T3DG7hvi4QBNAR4wU5geSMQioXGqlJnM5y3rijQT/+bHM7HFGGj9fTOrmHwqeIU3167IkPOota\n",
       "yOCSGYeURdgP8J6Y5fKLdDrvqEvyDwAYPXdxR7ThnSZ9sPRobh72BazOcKfXQCZyHHR1weRWIRJe\n",
       "x6wmajG8eC9hN1qIQ1Up9Zd6ViFE/gWxJfztdHt1b3w9KlteYlyb+Jkbwc9s4SFGE4nos4caVZ/V\n",
       "EbQmzTwkf0PNbAXY6fa+ejcuHsSldZ9CYAytkt9KP6Dippny/BY/tIrhonCevgmdxSINf7xS3pPe\n",
       "CKSuMH52u1aVSQaQFmCAQsfVSR90AqNRYubA7c/nN+KW1/QOGw7T0cGrNetVjcl/z0ojo2Oq6sLM\n",
       "ko+W5arh0zU8xboYSPbNwxKPaKD/OViJVMz0LvsCtRoONIKZb0dA+Fr487HsWW1ODNhpm76DqhBC\n",
       "FwmVprD3ZIvn1MNIdG+/D6lr2Lo03HweOInkfQKmZSocOiuYMmtZ+mpv47iQDs1/8jZCx3970f/m\n",
       "fwi67Te4Up5kZYvfwgAAAABJRU5ErkJggg==\n",
       "\" style=\"display:inline;vertical-align:middle;\" /></a><br>"
      ],
      "text/plain": [
       "<IPython.core.display.HTML object>"
      ]
     },
     "metadata": {},
     "output_type": "display_data"
    }
   ],
   "source": [
    "int_neg_closure = Forall(a, InSet(Neg(a), IntegerNeg), domain=NaturalPos)"
   ]
  },
  {
   "cell_type": "code",
   "execution_count": 10,
   "metadata": {},
   "outputs": [
    {
     "data": {
      "text/html": [
       "<strong id=\"int_nonpos_closure\"><a class=\"ProveItLink\" href=\"proofs/int_nonpos_closure/thm_proof.ipynb\">int_nonpos_closure</a> (conjecture without proof):<br></strong> <a class=\"ProveItLink\" href=\"../__pv_it/theorems/f00651731b831caac8ef0300c069b223042cd7ba0/theorem_expr.ipynb\"><img src=\"data:image/png;base64,iVBORw0KGgoAAAANSUhEUgAAAK8AAAAaBAMAAAAzuxGAAAAAMFBMVEX///8AAAAAAAAAAAAAAAAA\n",
       "AAAAAAAAAAAAAAAAAAAAAAAAAAAAAAAAAAAAAAAAAAAv3aB7AAAAD3RSTlMAq1RmmUTNIjK7EInv\n",
       "3XZ/CtNrAAAACXBIWXMAAA7EAAAOxAGVKw4bAAADC0lEQVRIx61WTWgTQRT+8tPsZvPTvflzkAUV\n",
       "kVrZgxQUKZEq1hYxWkEqBQM5FIvI9iIItU1F8KBSrWBM0RovhVDBWBExh1IF0ShiL2pFAlGPSimC\n",
       "CEXENzub7e6my7biwMzOezPz5s37vjezwP8s/iwi08WVzAwkV2V3HGhFN4LeUzetxm7gOjUv0agJ\n",
       "V72mSilqBLtOcJscH2Wji4gq5LZHCavUfLHrGqrOAJz6fbJySxWfMUFcRExFLA/ITNzoYniArXOC\n",
       "8dXp6bUMUiFga4kbjlYRJ6v72Fivi+FOqhNOZShvl4MJxNUp6nSX9FA0KpAWgWEWGLdg/6TaVodR\n",
       "wi77NBQk3cLwfg4ekOb7R5Tl7dK5gJk69SsjBLcr73WEgXZfRlf1r8c8DlPnAO1P+ITccJ6lEKfq\n",
       "1GkO4mkzJKJ8wehplCAd9P1O9U2l8trFsI+MBq3Y9U8PUvtA759ZCnU4P+ZYeYIG24ExN7ZR5EKq\n",
       "hWkvcIdWtMABeFPAScERCk0/BNmiOteZDDyt4U8DMUv876k4SJ9tumAJESMbxByVrKEZSrJzRGoX\n",
       "gvg5l/TLJXQYcozwj9LgRIWVORwCPjF39LkUwspHDoXyCLBz8D6t8ldN7PbSAfytQRQtHkct11AZ\n",
       "EiNgj86FJYoWGF3X2AwPMZakWGZPtj4mmrNEO3+sWlw+FNIfBBbo26xLs6Z+LTFZWrDHmLiMqT5a\n",
       "80H8hYKe+ZnS5pphH3kSXsJF+kE82QLs1KV5k2yJozR1to4VGJBZWooz6OKGg/HaKeOUHBELsuNo\n",
       "TiR4otNxFJNsfRBG7cm7W/crwyJJ90YLwar4M1KxBngDZZ5oceXut4sbaPI77v+641zbc6Oce1u2\n",
       "X1V7TBS18K78Je4xjpinf051zsluwdiq4QlP6eVKutaJaiNd+XCeP0Zx2Xq77XAuCqqebwm73Yzd\n",
       "27Y/hHCTeld6jTualcsshJpj1dkVPFKyXZ7M5eyPp0+xEZaXrLfhmLaSN2/QceVp3oY93zw0/dPv\n",
       "hfcrvcr/ChNeYsFfcVuwffTXAjMAAAAASUVORK5CYII=\n",
       "\" style=\"display:inline;vertical-align:middle;\" /></a><br>"
      ],
      "text/plain": [
       "<IPython.core.display.HTML object>"
      ]
     },
     "metadata": {},
     "output_type": "display_data"
    }
   ],
   "source": [
    "int_nonpos_closure = Forall(a, InSet(Neg(a), IntegerNonPos), domain=Natural)"
   ]
  },
  {
   "cell_type": "code",
   "execution_count": 11,
   "metadata": {},
   "outputs": [
    {
     "data": {
      "text/html": [
       "<strong id=\"rational_closure\"><a class=\"ProveItLink\" href=\"proofs/rational_closure/thm_proof.ipynb\">rational_closure</a> (conjecture without proof):<br></strong> <a class=\"ProveItLink\" href=\"../__pv_it/theorems/7539f9f205bbc746114b3d43d0ff9c7adf1a804b0/theorem_expr.ipynb\"><img src=\"data:image/png;base64,iVBORw0KGgoAAAANSUhEUgAAAJkAAAAWBAMAAAAhlCOEAAAAMFBMVEX///8AAAAAAAAAAAAAAAAA\n",
       "AAAAAAAAAAAAAAAAAAAAAAAAAAAAAAAAAAAAAAAAAAAv3aB7AAAAD3RSTlMAq1RmmUTNIjK7EInv\n",
       "3XZ/CtNrAAAACXBIWXMAAA7EAAAOxAGVKw4bAAACrklEQVQ4y51UTWgTURD+ms1mk902RNFDEUow\n",
       "oAethFqKVgiBWhBEG8hFVCQiKBSRxIMg2BIRUSimAQu6Bev2UigVTPVQiyC9iH8IRfypSGCrBw+C\n",
       "iCjexJn9y+5mk4MPdnZn9vHNm++beUDbVaRH8oakdnvbrniSzGdvTNT9u+RldYqgTtBngv1UC7Qd\n",
       "9IRqvuAX/6715xjbQqnTwDD7Z4LB5AKZOX80onl9ZV8a4nAVGAUuMxXVYLQwZcOQPypkvf5EhEw1\n",
       "A/SbmZRkMFonm5Wm8EuL1Dv19/yeniXziCA7NQiUP9KCtm1MW6EpfMpU45xZsVytkN0aLiNCUK/r\n",
       "9Vct0A5ytW4RSk/GyS4a3xcs+qK1PNm8kIRCih6gs7ZA40NwQqc5nuEuYQzArZyo95GthNIQqIwS\n",
       "pIQbYmFqg92Hb+jpcnF6L41D9NppODYDUo37Kx/PIUQUxzQlZ/2Irqs56TGUPst/ykrQz7k6rzWM\n",
       "AJ8oNGnsJYbqH/nL4k1D9AfRrDsi7C+Tvuch7y560ez1AvJveh03ybej0yVLU5HlL2S4vsyS0cy4\n",
       "vh3Q9cBK5b8QKD16DW/VDh8z+o3qCXHoAfWw/CH6B/P8bzDdQJuhJ9YYS/knOgqUbK/hfXd6nGdh\n",
       "Mx1V4ONeIhHC2egKWGkDSbe6gltBcUk0g95s1mwcEts59CLN6Sa7mTrKzE48gQFVVZNHXJXeYLZX\n",
       "G2iz36710OZ35km7j9qqjpz+VWZSbIrvF2OD2oQxwy4VunjPmr8LJQtfXDYni8/D1GPMmcjiZF6L\n",
       "aUaXQEm557s/8C7wrp74xquu+0Ec2vUQ0m2je9+eLNvhWyyD/0692Dw0oe6zN5tuogVVpdKXrjiB\n",
       "eU9juVIErVjgVR5OHbbplFiOcd/t3ur+/xocruzBf65/n5af+D/Sf8QAAAAASUVORK5CYII=\n",
       "\" style=\"display:inline;vertical-align:middle;\" /></a><br>"
      ],
      "text/plain": [
       "<IPython.core.display.HTML object>"
      ]
     },
     "metadata": {},
     "output_type": "display_data"
    }
   ],
   "source": [
    "rational_closure = Forall(a, InSet(Neg(a), Rational), domain=Rational)"
   ]
  },
  {
   "cell_type": "code",
   "execution_count": 12,
   "metadata": {},
   "outputs": [
    {
     "data": {
      "text/html": [
       "<strong id=\"rational_nonzero_closure\"><a class=\"ProveItLink\" href=\"proofs/rational_nonzero_closure/thm_proof.ipynb\">rational_nonzero_closure</a> (conjecture without proof):<br></strong> <a class=\"ProveItLink\" href=\"../__pv_it/theorems/23ef2a4ac4830aa0de6ac7467e4253e6dbcc8c2e0/theorem_expr.ipynb\"><img src=\"data:image/png;base64,iVBORw0KGgoAAAANSUhEUgAAAMUAAAAbCAMAAAD70rudAAAARVBMVEX///8AAAAAAAAAAAAAAAAA\n",
       "AAAAAAAAAAAAAAAAAAAAAAAAAAAAAAAAAAAAAAAAAAAAAAAAAAAAAAAAAAAAAAAAAAAAAAAeYafp\n",
       "AAAAFnRSTlMAq1RmmUTNIjK7EInv3Xah18O17eXJ8+7nKwAAAAlwSFlzAAAOxAAADsQBlSsOGwAA\n",
       "A1dJREFUWMPdWIty4yAMNCDeoN7T//+ph3gY2zi22yQ3c8dMU9I6CO2uVpBp+ueGm/6D4WV+9ejf\n",
       "GETI9yahWY6C0yRtmsBbgnB4MxVM02sw6WVOU23foVnVQTuH9IsBZNaRnqk4Aq+svHpY0WbIz3dz\n",
       "J7jzNg0oGQPN7c/0IyaTs4g5WKQp62IQz4s2LItd1R5eR0NGwtGR+f2nShYBy1OU4lKNSj+dBfhR\n",
       "WY+GunJML3zeswTZxO/qpChqznQ7mptGxivqZG6QwDXS4sIHjJ8qFDaLnxT167fNiurVTXCIFSae\n",
       "P51EITp7yI2nw5YMtDGNzqF1rgLsTc1nQXxCctr6Dgh+UWFTz1OBsVXFncXUmi+pcJtUEo+pDsD5\n",
       "BKYk1uXmEeo7zJAFwiCGF7RCpvb1MfYsj7puzrPV34cqSYKSNc30W5BQ+LGvyayAIc+v+6w9gnkd\n",
       "MCQp26o7sSJsdJZkxaJqPHGS/VM90rFpPV2z+52NgNbIcYis2iLxuMZcoM1A1R1fFc+4Qe0X609c\n",
       "YLIN/uBso4unEA1envUeYKxvGZpPDqFjs50gq9/GPhJgMOenfMOwwxnaU90ot3VxohRXsiC9jWAY\n",
       "ZNZKAsVn8+br454Lo8msuAjHmATbg5K81qU8ytPpvUc94sJUPsfTCJRySWto2r8TQk8eAD6+QWqU\n",
       "mlQRzecU5WaKIhoFPK5YPDwx9X7BT/1d11bRLMJ5gV6vDwjG8PwQTtj1VLnYFwZrkFo8zoIXIysr\n",
       "ihUBePABaL2bydOGLKtb6FBBdFGX1DrFwpV8KIvExfcfQFxkmAaasWnEH3sFJcdT8cBox+oAbd/O\n",
       "UeddXrSozDQZUaUVW2g7qxykHCjNtmDyKKEfoTKZeFyHDL3RDEu0KDf/snKoYA2zUjOYi8PbHjKq\n",
       "ynxGFCqfgy2f5EZRcN5VlqqO5vr8G/d1YDcnkAbv5QVi35wcickK56hzLrz26r68ji4iEddXPrh1\n",
       "EWAJPcaNPDPaPbKBykIKt27lJpPjb90+zGKe9uqYf/cIzZlVwZ4EF0MNShAcszNoa3rXi6CYuRWT\n",
       "8ZMOsK30528zVbz68rYoq6jMzXtgvx3pcznjq5L4xL0buAC89RUNf+e3RE8IsxaHMDexkX81i2Ka\n",
       "fwCEFRmWawSeFwAAAABJRU5ErkJggg==\n",
       "\" style=\"display:inline;vertical-align:middle;\" /></a><br>"
      ],
      "text/plain": [
       "<IPython.core.display.HTML object>"
      ]
     },
     "metadata": {},
     "output_type": "display_data"
    }
   ],
   "source": [
    "rational_nonzero_closure = Forall(a, InSet(Neg(a), RationalNonZero), domain=RationalNonZero)"
   ]
  },
  {
   "cell_type": "code",
   "execution_count": 13,
   "metadata": {},
   "outputs": [
    {
     "data": {
      "text/html": [
       "<strong id=\"rational_pos_closure\"><a class=\"ProveItLink\" href=\"proofs/rational_pos_closure/thm_proof.ipynb\">rational_pos_closure</a> (conjecture without proof):<br></strong> <a class=\"ProveItLink\" href=\"../__pv_it/theorems/bdb87ff79817c8dcee97b7cdb16f38c8cd09650d0/theorem_expr.ipynb\"><img src=\"data:image/png;base64,iVBORw0KGgoAAAANSUhEUgAAALUAAAAZBAMAAACFo3IPAAAAMFBMVEX///8AAAAAAAAAAAAAAAAA\n",
       "AAAAAAAAAAAAAAAAAAAAAAAAAAAAAAAAAAAAAAAAAAAv3aB7AAAAD3RSTlMAq1RmmUTNIjK7EInv\n",
       "3XZ/CtNrAAAACXBIWXMAAA7EAAAOxAGVKw4bAAAC+UlEQVRIx6VWTWgTQRR+3Z/sbrYJ9SKCIisR\n",
       "FQoSqogUqZFErAoSqYhFqVEPgiBupTcrRrwIrSbg7wrKepKaQ6I9VPBSkB6KCFUKnha2h1IVD72o\n",
       "4Mk3s7uT/Um3CQ7sbubtzLfvfe97bwLQxuCL0MnI4SW0u3h7R9BQxUuqtrc2WSJ3PWjU47FhoD1s\n",
       "JYu3tBY0jkSW1QzjSBM7ZQL0kB+ZWOxxcusNGdPZsGFLWfrcYNhpBD5MflyOxT7OePGPK6H59DTA\n",
       "qWEQDGPeeIAb/gLcXp/4XyTvYTdhb3AqN/DrCm97fsMlgATyompx0DJ6AN0Rc7fpPL9bFolJeY0k\n",
       "qOUSwz6K2kWHErFupxfwtiNiTjiRnP7hTKdkdJnTBhn2T7w+WdbHWOyuksu5N6TNK4ijUhVIHu0T\n",
       "In5LzPYx7PMYF37pWbwEqw57bJzTFaSJp9lNeDof4ZFY2c64dQlQKQOMgtQTi50gr7/4SukDCEgT\n",
       "N0tfetYbHPV7mS27hY1CMdVAu6g93BCsuRTxYw4xr1pklIVVSKGO5VXycpKYSGCKw/cxtq2OqJzN\n",
       "vi0vGUXpPah9Ub/nfAKp0n0i9XuKMfeK6cT1GzmBEiv9Ak7V65Dco48VCoXiGpzUbTiID26BBuVZ\n",
       "RUffTTVXSPRvSaprAzNOGd/dCWDbAZ2QkF/4sDXYyOnAO6XNluaxLk8ON5cRncA4+pX8Kv9x4uvP\n",
       "hrHTJPg3Pt3Y3CK2Z4H2DrjomVXST3LNZQeoX8iEkJNnYYjMCK7d8GOLpC7v+XSy9d3oN2TD4ezl\n",
       "I7c+Yez3tUHftkMsP0XsW/sMw9DORDiheUyVw9K86T7PPrfcBG7i/ftYRdR1pd+coKHRXEb6IJ8L\n",
       "Y+ejBWwv7WJyJn3Q9VuvDJmKSXUIaqidT5LbkxBQq9657fE8a5c8K0gxv3sapKe0dhYvhOLv0vxC\n",
       "9jKqxx9WKT1yKmFMM3danZdSMAewss5B2Pq8FDInQv8ZeqHjsdZxc3////0/oQ5i7v4B0pGzJkkj\n",
       "kdIAAAAASUVORK5CYII=\n",
       "\" style=\"display:inline;vertical-align:middle;\" /></a><br>"
      ],
      "text/plain": [
       "<IPython.core.display.HTML object>"
      ]
     },
     "metadata": {},
     "output_type": "display_data"
    }
   ],
   "source": [
    "rational_pos_closure = Forall(a, InSet(Neg(a), RationalPos), domain=RationalNeg)"
   ]
  },
  {
   "cell_type": "code",
   "execution_count": 14,
   "metadata": {},
   "outputs": [
    {
     "data": {
      "text/html": [
       "<strong id=\"rational_neg_closure\"><a class=\"ProveItLink\" href=\"proofs/rational_neg_closure/thm_proof.ipynb\">rational_neg_closure</a> (conjecture without proof):<br></strong> <a class=\"ProveItLink\" href=\"../__pv_it/theorems/cb1ca9a9d72781b1897ba5cfe092e89f426ae5960/theorem_expr.ipynb\"><img src=\"data:image/png;base64,iVBORw0KGgoAAAANSUhEUgAAALUAAAAZBAMAAACFo3IPAAAAMFBMVEX///8AAAAAAAAAAAAAAAAA\n",
       "AAAAAAAAAAAAAAAAAAAAAAAAAAAAAAAAAAAAAAAAAAAv3aB7AAAAD3RSTlMAq1RmmUTNIjK7EInv\n",
       "3XZ/CtNrAAAACXBIWXMAAA7EAAAOxAGVKw4bAAAC8UlEQVRIx61WTWgTQRR+ze9uNgn1piASqaCg\n",
       "lVClaJESScSqqJF6sCI20oPgQVcRQSxtxINCxXgQawR1vVRqBaMRigjSi0gVIULVigS2iidFRFDB\n",
       "g/jN7GZ2sxuSVDowuzNv33zz5n3vvVmiJpo3TfNtvmYVV8wbmoKXm9MLZZiyY22jRd3NYctxPD5W\n",
       "y/y6S20in99qzSIaUSsbtNXFHkT3FBzCT06t6NJs8LWlFQXwFjY4XBd7B/qYUxjQHIJikWhvH0l5\n",
       "tFE48g/R2caO/4medMVOonouFcCK7LVcNWDsr8TqQUuwgKZc4hfm2W+U33JS7sIJSjYjvm/D/iAq\n",
       "UNfsaAnuzrjEAwanR03fjEsw2RPrEd+/or8ql1/WxW4Brs9O5fGnQ3g+4ONTFbeP+GGkP94htPrx\n",
       "BTtdr4FogclgIxC3hd9zuoV1nVQVBQe9cKykWxGXy8IKCrbWwLaoCuBzxMbIvTjtxGsNnwhfnfFw\n",
       "uz8LtWEUCllTqsrFxJVFahV2BMMwVMbKrM3SbqIPzC7OMzxafs9PZ/h7u1h2H0s8uqBSmsung09I\n",
       "6XDZHbZtP00hFpUHeDkQ0SvfccTJcJYdS6R+ClPlBIXWqY9SM6l0bZ+E/pL3O97tfFYSLBjxbenl\n",
       "2OkfHmGe6J6kKCPswkoiXbfb3QLbZCsnQj8QOVDayGffhDyJvNzTR1VxQoOwK/RO+k3jTNQVd2JH\n",
       "kTeKje6b1J5IGJUAhxKGKqye2JJ1E7cLnvAlpCnqZTOGqxfs2H7kpVSyFt3+cn4ZlrwxTrFkf0V+\n",
       "8texHltMbK4MwmnUrU5Umdg+0ye2ZHmGPusq/uZu/sdGzqMt9uquvGUBo8pd2gg/GufSVQfXuy6t\n",
       "uDuB9blVIp5YHTTtVnO9mqzxOCTFUc4vshBTHUCna+Tb8qvTYkevYMifXFuk4DWeOzOHsg57YvZA\n",
       "Nttog8sqorpuJZxp8lyt+3LIURzV/7ovfW27HP8Mqxfunr+0YQH+T8DdP8wjsAqF3EDdAAAAAElF\n",
       "TkSuQmCC\n",
       "\" style=\"display:inline;vertical-align:middle;\" /></a><br>"
      ],
      "text/plain": [
       "<IPython.core.display.HTML object>"
      ]
     },
     "metadata": {},
     "output_type": "display_data"
    }
   ],
   "source": [
    "rational_neg_closure = Forall(a, InSet(Neg(a), RationalNeg), domain=RationalPos)"
   ]
  },
  {
   "cell_type": "code",
   "execution_count": 15,
   "metadata": {},
   "outputs": [
    {
     "data": {
      "text/html": [
       "<strong id=\"rational_nonneg_closure\"><a class=\"ProveItLink\" href=\"proofs/rational_nonneg_closure/thm_proof.ipynb\">rational_nonneg_closure</a> (conjecture without proof):<br></strong> <a class=\"ProveItLink\" href=\"../__pv_it/theorems/ba95bcfa4ac296ce9a839162ede75099a28f51310/theorem_expr.ipynb\"><img src=\"data:image/png;base64,iVBORw0KGgoAAAANSUhEUgAAAMUAAAAaBAMAAAD1foU5AAAAMFBMVEX///8AAAAAAAAAAAAAAAAA\n",
       "AAAAAAAAAAAAAAAAAAAAAAAAAAAAAAAAAAAAAAAAAAAv3aB7AAAAD3RSTlMAq1RmmUTNIjK7EInv\n",
       "3XZ/CtNrAAAACXBIWXMAAA7EAAAOxAGVKw4bAAADY0lEQVRIx7VWW0gUURj+24tz210VeiiIWDEo\n",
       "KGO0sJKQFTcypRqxh4yoDR+CHmoMCSIvEwUFRkY32yCbXgxTyNpAJBBfxCwCgy5GLIxG9FBEBBX4\n",
       "EP3nzOw4N9vdogPnzJx/zjn/5fv+/wzAf2jsNfoQxobz2+eX8lg8eJmM1dAMgXx0rMrLosgVHJ5A\n",
       "ocxcyn0Tn8CBscuYP7ndB8w8hKLoTM6NE3GYs8uCmjtIyeR2Q8kkOw9hEcIqQBERlGbV0Y7d54Tw\n",
       "vStEKxTmBV3Fj0qoI6RBBBVsI5LDWXU0YO93CgtUhyCVAtjTTMJYo5BYFUaBnwc4TSTZgfmOvdYV\n",
       "9JiDs8OIGufXgClWDMwBWnRbhGhWxqM1MO4SPzVCdCv9moJ2DwMjKAl+qUymX6ARxx1oC4JZkJ2L\n",
       "0whHwiVu0bE/asRsgEUW+KJ1vGrkYD2On7E/T6efZdWxBM8PWCFvHevE8QF9P5GBpTuIBgfFCtvW\n",
       "g/i1DuCm57lWQDlErEC00HYSbuP3SrAx5oAfg85qdpb2IDStwBR5qShXmLmPJoNwSdiC2pAIO/Gx\n",
       "jk7MGJ7yUT8+sElsvYawC4sQpwq2UjR4tRgR4x8pSAcTqDAyKITL+tOkzcBugHfERsoHjHb6LfVW\n",
       "x6PeZut93ObTzJPY2aTEPAahApgG1DMEIdXiR8hiyhTwhM37abqZzOfu6ryy6egiNE6YJSWOU+E4\n",
       "8BvkDnJeB4QV71jxv8D/FZ9ldDZtoqTnhz0TegiPHx4hEaoegQgB9fxqAE2Dcon6IWd4hbZyC+WJ\n",
       "/4ZMw4VbQM+DTKvFPG9sBhevoB1t5N+wP2GAiKpEqgNKREwbM4oRzD/BQo0+KIvF9AqDTpqGC6Re\n",
       "OZJ/K7URAxKIsePQRGbkfI1kwlmJmdtkRgHznJ1e2Hjn07mVuO2V7tXyfRl5249jdQ5+1mReQhLW\n",
       "x0pkXHSvHitnm8A+4xQyhtbgqF5LsC3za561gBBM5qrUbuouxbwtHo9Lzrq70akjILoLgja7xraR\n",
       "1F3DD7mnSeVUyl8QPK6TC4SaskN40iN1S65P2TT7TRSDtetTwNygOfjykOJRsKLWRDBabw4XaFh2\n",
       "3ZTo58iZxe7zTkcxlnPQ4X2fB0p3efznrP27X63Frr+Lm//1/8piMGL8G2gtzVvLp/30AAAAAElF\n",
       "TkSuQmCC\n",
       "\" style=\"display:inline;vertical-align:middle;\" /></a><br>"
      ],
      "text/plain": [
       "<IPython.core.display.HTML object>"
      ]
     },
     "metadata": {},
     "output_type": "display_data"
    }
   ],
   "source": [
    "rational_nonneg_closure = Forall(a, InSet(Neg(a), RationalNonNeg), domain=RationalNonPos)"
   ]
  },
  {
   "cell_type": "code",
   "execution_count": 16,
   "metadata": {},
   "outputs": [
    {
     "data": {
      "text/html": [
       "<strong id=\"rational_nonpos_closure\"><a class=\"ProveItLink\" href=\"proofs/rational_nonpos_closure/thm_proof.ipynb\">rational_nonpos_closure</a> (conjecture without proof):<br></strong> <a class=\"ProveItLink\" href=\"../__pv_it/theorems/d4c14ab80eacf07e1e5ff35f9c606143689700e00/theorem_expr.ipynb\"><img src=\"data:image/png;base64,iVBORw0KGgoAAAANSUhEUgAAAMUAAAAaBAMAAAD1foU5AAAAMFBMVEX///8AAAAAAAAAAAAAAAAA\n",
       "AAAAAAAAAAAAAAAAAAAAAAAAAAAAAAAAAAAAAAAAAAAv3aB7AAAAD3RSTlMAq1RmmUTNIjK7EInv\n",
       "3XZ/CtNrAAAACXBIWXMAAA7EAAAOxAGVKw4bAAADYUlEQVRIx7VWXUgUURQ+7Y8zu7O72ltFxIZB\n",
       "RRlLhZWEbLiiGdWKPbQRZfgQ9FBjSBD+rRQUGBkV2QbZCGGYUpYPkYFIEGURGPRjxMJoRA+FRFCB\n",
       "D9F37+yOOz+yu0UXZubeM/fM+fm+c+4Q/afh6CZpdCg/HWc0PxM9ROUUI1c+Sivy8+gSbs+oUBYu\n",
       "5K7krcdNMMqEeXcHLrLXs+QLIpichyeE27RR5lYt2wYSiSoi8TGbi7PkD5FfISpiy+KsNlpYjs0Q\n",
       "frT4vzQuvMKu1SOaDZ9KARioZO8OZ7WxA1efWVigmATDw0R7YpjERniuCoPknSXqYJnLDswPXBUW\n",
       "ZMPGtTgE1DxOlsKOKg1zogbNFymYzQTiJhqziJ+nUnQ9+ZaDdhuJkeKMHtS4hGaoFpPt8AVgFmQN\n",
       "IzABOOot4gYN+6OpnPWLCMERrOYLGTVYg+dXXC+TyRdZbSzA912ZkDeOtuF+j89PpGHpdMNhd2i9\n",
       "QfUg3sLqtezUBWIFoQzaPqUb0C0lA2MOOJF0UTWytCsOj0gosnzzJiOfMP1ZZxC2+DNQGwzRTjzW\n",
       "8oWew2YHj+OTmMDoTgnb0YQ8imRoRQOXF4INzVWMDjpQfjDIh219STYmaTfRB+Yj5wOynXzPo9Xw\n",
       "qDG4exdqDlX/kjiViAqPSGIJvVNJg+RTMuLwZbgyTl7G5v28zejM99ya45U+2uMsVL2lRLCUjpN3\n",
       "AwKh1mgr+eP2ufL+Juc3PEv4akJHSasPYyV0sY/dP8IyVP6AAgzUsyuJVIR8eoTFIad5BV89c+3J\n",
       "+x1Mw8YtfDWjyytQ57UxsvCKWuCj9534i/qZqCzEbdTystGzGED9SRnU6KGScFjrMNinOy6xfmUq\n",
       "/q3cRyTEFRbHqI6tWAzqUG+Q82qTngXUuTgxp9j75cwyqL3Rolq8Ly1v+nms2kTRbemJL4r+WArG\n",
       "BfemcmUaT3BNmoVCyqr7odZLMBY5VdtewAgme8qUTh4ux7wpEolEzX13o9mGK2RtCOrUKoMi67up\n",
       "OOSuOsWjcP6SZHOcnGPUlE3CkzYdYfmVcYNlp46iu2LdMAlXeQ2+PhS3aVjBzEJIje4cDlC/bDkp\n",
       "EeeDU/Od522mZiznYMP+PHcV77L5z1nzd79Z8x1/5zf/+/+V7jAw/gNTBs1YMZnoQwAAAABJRU5E\n",
       "rkJggg==\n",
       "\" style=\"display:inline;vertical-align:middle;\" /></a><br>"
      ],
      "text/plain": [
       "<IPython.core.display.HTML object>"
      ]
     },
     "metadata": {},
     "output_type": "display_data"
    }
   ],
   "source": [
    "rational_nonpos_closure = Forall(a, InSet(Neg(a), RationalNonPos), domain=RationalNonNeg)"
   ]
  },
  {
   "cell_type": "code",
   "execution_count": 17,
   "metadata": {},
   "outputs": [
    {
     "data": {
      "text/html": [
       "<strong id=\"real_closure\"><a class=\"ProveItLink\" href=\"proofs/real_closure/thm_proof.ipynb\">real_closure</a> (conjecture without proof):<br></strong> <a class=\"ProveItLink\" href=\"../__pv_it/theorems/ff76f9ebcd0c0692545feadc7e544abbea649f120/theorem_expr.ipynb\"><img src=\"data:image/png;base64,iVBORw0KGgoAAAANSUhEUgAAAJcAAAAVBAMAAAC5yWGZAAAAMFBMVEX///8AAAAAAAAAAAAAAAAA\n",
       "AAAAAAAAAAAAAAAAAAAAAAAAAAAAAAAAAAAAAAAAAAAv3aB7AAAAD3RSTlMAq1RmmUTNIjK7EInv\n",
       "3XZ/CtNrAAAACXBIWXMAAA7EAAAOxAGVKw4bAAACTklEQVQ4y4VUTWjUQBj9upvdJJvdkJMXQQJC\n",
       "L6IsKAV7qCtVKXhZLXipSNCDUFjNghexwnoUFXMpNYo1oghrD60KVjwVxEMRoYjgKRAvVnvqTRAE\n",
       "5+ebOBMz9cHb7LydffP9ZQB2RIgsSLqtO8L1OWWcK+wZW3/UW29z3aPCXo3ZPqRyQLsgRH04dThh\n",
       "+nG6vlju1Qg4VcwWza6BbXlMv0GWZlRuZrQ5VRz618wIA6bXEwDHLzdrIgtqwp8/0jTIzSKmV8nJ\n",
       "dU3JRpEq6jzWM1t/Ixt57nH9Y5p+0JidRAqYuzczkgfrmTkrpXlzNOT6FMB9jdkFpMDZ0P4FUGXJ\n",
       "1fO5iuZ6v2mUVO+D6Ul/2P/66CXx/RNSNPcdGBsAlTVmJjXg4DP6pLqdOF2Ura9x13VgdQXX7zkb\n",
       "vZRiYGxDi/xkbdPfblMp4mb2E1pGqley/JBjAzKTLoxnqlnexgiWybk1FtlQiszq0EIxPZggH0sT\n",
       "q3y2idlWpzzN5QyO0HQ26KIlz9nUVaG/JH1pfLF+8sNcx1wUc7qIFGY+7KqEUGXJuZlkNqRxMH2O\n",
       "1N/oWGswzTYZD/L34QUSYWeVzwbZy0t6Pje7QoZ1HvURUqlm1/VgLI5j33Wd02LbHaTo5p43/e8k\n",
       "Qd6vx/OJuDUWIL7sC51kENrjyS0WmVubwfcFWgNOFdfxOfMwDcp0aIZ3pxM7YTWDt6IB1Q6niknN\n",
       "iOd6bfLAKzDv0Vfu28rTE0JeQMrQXTFFfSmOu4owVAYK26C5n+3/3dtmxiljU7OX6H8Apk+c24Py\n",
       "ACwAAAAASUVORK5CYII=\n",
       "\" style=\"display:inline;vertical-align:middle;\" /></a><br>"
      ],
      "text/plain": [
       "<IPython.core.display.HTML object>"
      ]
     },
     "metadata": {},
     "output_type": "display_data"
    }
   ],
   "source": [
    "real_closure = Forall(a, InSet(Neg(a), Real), domain=Real)"
   ]
  },
  {
   "cell_type": "code",
   "execution_count": 18,
   "metadata": {},
   "outputs": [
    {
     "data": {
      "text/html": [
       "<strong id=\"real_nonzero_closure\"><a class=\"ProveItLink\" href=\"proofs/real_nonzero_closure/thm_proof.ipynb\">real_nonzero_closure</a> (conjecture without proof):<br></strong> <a class=\"ProveItLink\" href=\"../__pv_it/theorems/fadd90d88d09961d8ef3dc26b106b3319850e4610/theorem_expr.ipynb\"><img src=\"data:image/png;base64,iVBORw0KGgoAAAANSUhEUgAAAMMAAAAbCAMAAAD2zMvaAAAARVBMVEX///8AAAAAAAAAAAAAAAAA\n",
       "AAAAAAAAAAAAAAAAAAAAAAAAAAAAAAAAAAAAAAAAAAAAAAAAAAAAAAAAAAAAAAAAAAAAAAAeYafp\n",
       "AAAAFnRSTlMAq1RmmUTNIjK7EInv3Xah18O17eXJ8+7nKwAAAAlwSFlzAAAOxAAADsQBlSsOGwAA\n",
       "AyxJREFUWMPVWNmWpSAMFAhL2Gb3/z91CIvibs/Vh+Gctu3WS6hUVQh3GP6zYYf/fjiZry66F4MI\n",
       "+SYEzXKMOAwS0w28EoTDqzQwTVdv0mVMtxrfUKuaMnaez3+bXmYF6ZFM4Xll5OmBot5Efr6Yq9hC\n",
       "ecRRBV9nBKTxK/2IwWQMIT8IdMtmGYjP5erbXFeWi5fBMItfMoF29aGCwec0RFo/TB5U+mMM4NaS\n",
       "OhzKXmNw+ZdpabZV/UVLY2ba0v30xhP+GGtC4JpSAfcwgB5U1dLvP5i1NHuaciG6hDj+MYRCMvF8\n",
       "42W/JCJiSEPtYajJnbI9RKqt9S+gp6LmTH1OQwzVDXfmUj1XUkW7zwOztq529gXtcVD/ijlfnhIQ\n",
       "/AMbH1NLW+xsUS7qWpIc6/6/446CwSCvPuX7pUxm7sGsUP57ZcWdFPfxfFoOVsGJjqy9cpIweBXG\n",
       "0AhSR/o1bf/W7PY2RknWkcdtXFUnCfvWsp6wQRNcZxp14GkhpgrHD3oYXeoIUeCO2hwenAKmZiKh\n",
       "VcZt4FBrjZe1woZ5pGzBmF9yLYFzLn17C1daQisuSpwtGEhp2wWZyBDT8zikoE67vqezfltYOh78\n",
       "fkI8zjFJWPM68Ki2GrgSuc5aIgDbvgOKTQhDeiZsujgA+PYd0q6oSQ/BfE1LdqQgYpwI7gg83B/A\n",
       "XOxbpu4Tjre6YJ2ITi96gYwhWuiUVHnYGILVcBj3MfBSu3j+oOjWFuMRhkTReVsia4nQvibQBl2A\n",
       "deySljTSRImHHz+BeMjS28ov+m3Z7FcVKftQ87AowIrvYYCyfeHZkUQ0STLTBEQGI3SiwwDoKqTG\n",
       "BtUloQ9zYsK+/Vh0RrNYggW5eITSbvtWpFqMajxpIWCdLzJj7gSFyr0u8qIlJ8sscLGJNDNvrbL1\n",
       "YlgfDXDZa9wc673IkoxQWDsYN/R+kNLZO+fMpg9xfZqDzzv9qW9d5pHsIIXtt+1SW+2tM6Zp4sSr\n",
       "Pv6pU6TYWE+C4NGJHMNM3ZhyyQhwi2bGTyr+wrH6GQxBn7YU5IevfkkxtQb6/LAZH4Lwxnn6+hD6\n",
       "7Fc1+Mq0736/tC4M2bV/AY95GaL62YxjAAAAAElFTkSuQmCC\n",
       "\" style=\"display:inline;vertical-align:middle;\" /></a><br>"
      ],
      "text/plain": [
       "<IPython.core.display.HTML object>"
      ]
     },
     "metadata": {},
     "output_type": "display_data"
    }
   ],
   "source": [
    "real_nonzero_closure = Forall(a, InSet(Neg(a), RealNonZero), domain=RealNonZero)"
   ]
  },
  {
   "cell_type": "code",
   "execution_count": 19,
   "metadata": {},
   "outputs": [
    {
     "data": {
      "text/html": [
       "<strong id=\"real_pos_closure\"><a class=\"ProveItLink\" href=\"proofs/real_pos_closure/thm_proof.ipynb\">real_pos_closure</a> (conjecture without proof):<br></strong> <a class=\"ProveItLink\" href=\"../__pv_it/theorems/3459e4d07974906b81903fe44728facc74c733fc0/theorem_expr.ipynb\"><img src=\"data:image/png;base64,iVBORw0KGgoAAAANSUhEUgAAALMAAAAZBAMAAACIvQJIAAAAMFBMVEX///8AAAAAAAAAAAAAAAAA\n",
       "AAAAAAAAAAAAAAAAAAAAAAAAAAAAAAAAAAAAAAAAAAAv3aB7AAAAD3RSTlMAq1RmmUTNIjK7EInv\n",
       "3XZ/CtNrAAAACXBIWXMAAA7EAAAOxAGVKw4bAAAC0ElEQVRIx5VWTWgTQRR+aZLuX7oGD0IvUhD0\n",
       "YmVBDbRISWkqLSJGCx5UMNKDILRuQYRiaetJxEMWROr6064ohVrBqGDRg+QmUQQP/lQkUCt4qD+I\n",
       "IIKg+N5udjO7a6ebBzM78zLzzZv3vfcmABFkJzQiiVqLIk3ZhqAlbIIRbe0sdYJfJ/ChoSsa9EXq\n",
       "lv265FJgUaYyM1TRPOgWCyBNg008ZKFMTikFtB+Dy4wR2N9hudAq4vbS4DiXlpLrFFaarSD0GZDE\n",
       "NPSb10xTA/k3wNk1nb4uj11PUBvPhqETesG1Ggad05U2HnSR7CuH1M+cj3q9+qYObXjQ/Xg6ur6Z\n",
       "y+JXcnUhpB506By26lbHbqc96C/YXlSrz7nQG1x/uzLyZBz7e/b4tMU45Pxm3YM+ij/0AVzhQptE\n",
       "msbE3VOYwX0Z8AeAMTb0ZwW8TCxOog0gpLnQxyhMGTbuaLAXP1vtSYGhcTsbRhNIvmQpeUbV/rB7\n",
       "2A/9ClsKl8xWSRZhH8B7Mot+E9Gd1Xc1aOkmc7e7uKNpyWNR/GDmVQUWSiGrU8zpFZB/4ucIjWWD\n",
       "sVrMMp6dmKQ7efmew6mqQueSkMvleldxiPwX4t/pevbsJRvXfaNMyBKj909gN9+1ACrdB6FX/NnQ\n",
       "SqzXS4b8A2KFLQAd9uwbCz2n1j1CEQJjyKL8VvwFc3YKKMK05oOmCFUYpqehPYuH73Hy3buOcQpz\n",
       "5JK3ahd1MXRDIiuWYcCGTlwNpD2dL9YvDjc+n9uIW147d2g95FW+KTBPeid1u4NUHktVxjTNNlVV\n",
       "DvihbQoXQ/WwdljyUS3R/5usFCq61GldsK1Wk4etcOXbEaqHGjcZqPLVLNOLA5Zk2b6Gx34aRSpN\n",
       "kh7YO8p/PuIeOcmebQ9AuIyjg59Kt3b7l633B7AjU3zoloAp86aZX+1tHPfrVJ0PHfFtDD1ea0vU\n",
       "F73B/yE2yUjbP9gtp05rU/AqAAAAAElFTkSuQmCC\n",
       "\" style=\"display:inline;vertical-align:middle;\" /></a><br>"
      ],
      "text/plain": [
       "<IPython.core.display.HTML object>"
      ]
     },
     "metadata": {},
     "output_type": "display_data"
    }
   ],
   "source": [
    "real_pos_closure = Forall(a, InSet(Neg(a), RealPos), domain=RealNeg)"
   ]
  },
  {
   "cell_type": "code",
   "execution_count": 20,
   "metadata": {},
   "outputs": [
    {
     "data": {
      "text/html": [
       "<strong id=\"real_neg_closure\"><a class=\"ProveItLink\" href=\"proofs/real_neg_closure/thm_proof.ipynb\">real_neg_closure</a> (conjecture without proof):<br></strong> <a class=\"ProveItLink\" href=\"../__pv_it/theorems/3083dbc3ef28d3430d52c200591851c5e49d97810/theorem_expr.ipynb\"><img src=\"data:image/png;base64,iVBORw0KGgoAAAANSUhEUgAAALMAAAAZBAMAAACIvQJIAAAAMFBMVEX///8AAAAAAAAAAAAAAAAA\n",
       "AAAAAAAAAAAAAAAAAAAAAAAAAAAAAAAAAAAAAAAAAAAv3aB7AAAAD3RSTlMAq1RmmUTNIjK7EInv\n",
       "3XZ/CtNrAAAACXBIWXMAAA7EAAAOxAGVKw4bAAACwklEQVRIx2NgIAKYMpAKWIhUx+RAstHsE4hT\n",
       "twysGE0vAT12xBk9GUQ8QhVjfYDKZ86Z+e3OZASfdwEDgwCIoYzXcwdAgbIBTfQxGp+TXYBVeBac\n",
       "ywc01xXESMcbJRtggYIM2BagG72BYUIjA8dMIJjOwMD1i4GhkWCg8wcACWd0UWYHTKPd2RD8ZIjt\n",
       "3Ar4jO4Hue8AhvApqM/n3r0GN5oTIe0JtN0AaDzeWHwLCuoEDOFkSHTmLUC4WmohQvoNEJ+9e/c0\n",
       "XqPFYOENA4X76oDkRjC7bAEiQDgmIcVZPFDCg4FhFqZ53AjmTFCkGSClu+MM84H6zBhQEgAn+7H7\n",
       "95Citr8B6AYGdgG8OTURlEyRYmONAYMvkNIBcxIQRm+2Qg61emDkcy7gDkAS0t3mmIdq9BUg5gEq\n",
       "WXYXBG4w+DMw3AY5CyTHAQzOuzehATLLGMmc9UAdTA/gscjxcGYAHzfD9g0YruZBsv0kA9dXIBUD\n",
       "YnNNQEp8LZxIAVLfAPITPL+7ALl8fAxWD7hdfF1ccQQI1z8G5g8g74F5F5CMZmlHyh/9BUBiUxaQ\n",
       "WG23nYEPFFdAo185oLhaEqQRUWRwfWJgTFBnYLAE894hGc014TFqCmGoAcYi13WO7wwrwVmAm32e\n",
       "AYrRoBTKjRTT8xh0HYCWe0PyuwLcaAcGY05EuNmACEZgMLA4cBxgCAYbzTJ7Amo0guznuIDgL3zd\n",
       "LgfUchXiB8koWMn3s4Bz2ie4KkcYgycAWFSZAUsWBT4+7iDUdA2OwhsY5SHUMtadkIyOPbOCkkoB\n",
       "p9WCbrCr+VijF2CWfCYYCd8AbxYGlXxQlxX0By8Apx1g4tuFWqhxgIomzgI0vZX4qw9meOSwOutt\n",
       "ZmCfAWSFPduwxA1VmRBKAoaC6fiN5kVzyuqZMwNw1Y11qGJ8BVSpGzEqL+rV6OS0Q4DRBgBHbaON\n",
       "pTnEKwAAAABJRU5ErkJggg==\n",
       "\" style=\"display:inline;vertical-align:middle;\" /></a><br>"
      ],
      "text/plain": [
       "<IPython.core.display.HTML object>"
      ]
     },
     "metadata": {},
     "output_type": "display_data"
    }
   ],
   "source": [
    "real_neg_closure = Forall(a, InSet(Neg(a), RealNeg), domain=RealPos)"
   ]
  },
  {
   "cell_type": "code",
   "execution_count": 21,
   "metadata": {},
   "outputs": [
    {
     "data": {
      "text/html": [
       "<strong id=\"real_nonneg_closure\"><a class=\"ProveItLink\" href=\"proofs/real_nonneg_closure/thm_proof.ipynb\">real_nonneg_closure</a> (conjecture without proof):<br></strong> <a class=\"ProveItLink\" href=\"../__pv_it/theorems/fa876c016d2bdf41cf09897c77ff457d7e36faea0/theorem_expr.ipynb\"><img src=\"data:image/png;base64,iVBORw0KGgoAAAANSUhEUgAAAMMAAAAaBAMAAAD4YPV+AAAAMFBMVEX///8AAAAAAAAAAAAAAAAA\n",
       "AAAAAAAAAAAAAAAAAAAAAAAAAAAAAAAAAAAAAAAAAAAv3aB7AAAAD3RSTlMAq1RmmUTNIjK7EInv\n",
       "3XZ/CtNrAAAACXBIWXMAAA7EAAAOxAGVKw4bAAADNklEQVRIx61WTWgTQRR+JpvsT5JNtVr8AQkU\n",
       "vIilUPVQpKY01aqX1YIgFY16EIrKFjxqG0HwoJLQUmsqli2IID00WrDqQQJSK4pQSkUPRlcEq0Wl\n",
       "eFDMyTeT7XYy27pZcWBmsy8z73s/33uzAP9/SP30EXqc83Zum4e9I71kbYJDIHg45Yt7sUftw+UZ\n",
       "RHUxU/mh22TRy2X68tv9QyAWIRxDVyoexCw1Vi47wus9lf35ts/6PSkVIVIPEQOgighq3RDEPC6b\n",
       "+XDUcwJZrApUD5JfykMNIcImqKi/lUhOukEISA4lyUs7HRA5yFwgFjWnSKCiMVCKAFTimpSohjC8\n",
       "0bB1CYjdQdS3MmWlG+AEQBCDFYq5QaRxV9ghDRul55dCIWlDyKCspkT4Dvtx3YN5QduCrtn+hnOT\n",
       "Qxos+XVwjvFi/TAohlV6e3H9ivNlofDCFaIG5z42/RtmTVRCuSJ2MoGSerm8HkW8NoDBpbQq7EsW\n",
       "aFTtcViXMY9+Gp6gvgjx9P07gwsxpqULxKqlimctdNfZh4/hnGbgn4AwhSWfpxBMuscaEVXK4hiw\n",
       "ZD1IFNkIaYzqLfebz5A200Y4adN0BucEqj5dICMlzEMEaSzNk/+uEFHGCtRgA2fqKCr3mbYZ0oes\n",
       "poZgPAdnx1FfHp6zXkwwVMrQowHqxR2WtBdlLlA9hL9Ju48k8FVVodEUX5E0TsGbZQI1asJO0hun\n",
       "yEuEhRAucTWWJsG+Rxgx0jReaggIMRcH/xrqxeTCxnU4hxiIGNT4dPBTdarJQCiZj05GwTnMtvJa\n",
       "+lXyWA2JQwjlq0b3FnNB2H2XKWPTNyOU2gqO44sQcWiQtTKIHWRZgeER4lIe2imEcIPaJrVCd63O\n",
       "2nKVYdTGB12fMUQlbcP9xkKn/a3L136UQTTb+dOwJW5HrsVUNXTASeEwKoukeOl569lxs5Bcrmjt\n",
       "ahrV5UbjMvVCDXQYYiKRaOU7rd9x8bW43zOk01pW6ul2g/INSfvIeYlKhJ4D/CVSwa3pt8s60FI3\n",
       "BuJ10tM+5W7tcm5dVVYAVnZ1d4gIt2ckm9X+cneLZrlstoIL2cPd7fP4TeQhlv/0HcXQBNP7Bwj6\n",
       "xSWLVBisAAAAAElFTkSuQmCC\n",
       "\" style=\"display:inline;vertical-align:middle;\" /></a><br>"
      ],
      "text/plain": [
       "<IPython.core.display.HTML object>"
      ]
     },
     "metadata": {},
     "output_type": "display_data"
    }
   ],
   "source": [
    "real_nonneg_closure = Forall(a, InSet(Neg(a), RealNonNeg), domain=RealNonPos)"
   ]
  },
  {
   "cell_type": "code",
   "execution_count": 22,
   "metadata": {},
   "outputs": [
    {
     "data": {
      "text/html": [
       "<strong id=\"real_nonpos_closure\"><a class=\"ProveItLink\" href=\"proofs/real_nonpos_closure/thm_proof.ipynb\">real_nonpos_closure</a> (conjecture without proof):<br></strong> <a class=\"ProveItLink\" href=\"../__pv_it/theorems/eca0d5d173d43b04746cd0374c4f101cecfb1a3f0/theorem_expr.ipynb\"><img src=\"data:image/png;base64,iVBORw0KGgoAAAANSUhEUgAAAMMAAAAaBAMAAAD4YPV+AAAAMFBMVEX///8AAAAAAAAAAAAAAAAA\n",
       "AAAAAAAAAAAAAAAAAAAAAAAAAAAAAAAAAAAAAAAAAAAv3aB7AAAAD3RSTlMAq1RmmUTNIjK7EInv\n",
       "3XZ/CtNrAAAACXBIWXMAAA7EAAAOxAGVKw4bAAADMklEQVRIx7VWXUgUURQ+7c7u/O2OoiBkEAtC\n",
       "EJEIVg8Sprhm5cuUEIhRWz0EUjG+lz8Q9FDhYpStkYwQQfigZWT4IEthRRFIGPXQ1kSRJRXSQ5FP\n",
       "nTOzjnfvZLMTdOHeuXPm3vudn++cOwD/p4UGQZ0eD7ZnazCEYYB6aAchyJ6GIAjhizg8hhJDTBe/\n",
       "6QYNRqHMWG2xNoCDuASxBJpSdCO1tESh7CCv+/HMj9e4ULpPb9ISxGsgbgKU0muVH4KYxWETr2wN\n",
       "J5DF0kj5EMDGKQciZoGG5zfTt2N+EAKSQ0nx0k4PxDik+3DSPmU7qiQByhIASfyDUqIjDK80bPkD\n",
       "REuUZn0tTrgBjgJE0Vlqwg+iH1fFPNKY6Tw/53IpF0K2RV2V8A324mQ3xgh1i/pG+yv2DR5p1LFr\n",
       "/wJjReXIMt3U6T34/IL9WS731BeiAnsrG/518xZab3NF7GQcJQ1wcT2Elu4CGPKFyIDtVbcdMGSM\n",
       "Y9h2T9RYgXj49o3JubgXvQZiKX+i0koLu6vdzYexP2e+PwBhFlM+a0Mw4Z6oQ1Qpg20wL+tBosim\n",
       "qjOnb77beBKNv2MQJ12azmGfwaNP5Kj1CosQRxpLi/TtPInSeUcN1XLajuHhIctVQ3qX0TUVJikJ\n",
       "PuhKFp6wVswwVErbWyO2FTdZ0p6ROUf1oKMg5daRJL5qGtRZFMQX4iy8WsVRYxbsoNo4Sy9xFkI4\n",
       "y+VYPzn7NjFitH7SKQgIsYBVVWo10YpHywvXYh9mIBJQETIgbB+nWQyEkn7vZRScwmgrL6WfjsWa\n",
       "Kg7XQKSczFuJBbH7FpPGVmhOcMoKtiMrEA1QK+sFENtpWIPuERqkLLTZEMLVNChlNO2uMlhdLjCM\n",
       "Wn+v6xO6yDlt5JK5XGl/GfLl7wUQjW78dCyJ25BrCU1T93nzIoaHxXt56en8s+NaLrVaRrnZNGbI\n",
       "deY52wot0mGKyWSyma+0Yc/F1+R/z1ClzWtp9LeZNt+QtFPeS1Qieg7yl0gRt2bYTetIU/UEiFeo\n",
       "pn0cv77Tu7SsIAHy0TX8IeLcmtFMRv/L3S1ahbL5Ii7kAHd3KOA/UQBf/uN/lEsTDO9vq7PGTuDL\n",
       "jMwAAAAASUVORK5CYII=\n",
       "\" style=\"display:inline;vertical-align:middle;\" /></a><br>"
      ],
      "text/plain": [
       "<IPython.core.display.HTML object>"
      ]
     },
     "metadata": {},
     "output_type": "display_data"
    }
   ],
   "source": [
    "real_nonpos_closure = Forall(a, InSet(Neg(a), RealNonPos), domain=RealNonNeg)"
   ]
  },
  {
   "cell_type": "code",
   "execution_count": 23,
   "metadata": {},
   "outputs": [
    {
     "data": {
      "text/html": [
       "<strong id=\"complex_closure\"><a class=\"ProveItLink\" href=\"proofs/complex_closure/thm_proof.ipynb\">complex_closure</a> (conjecture without proof):<br></strong> <a class=\"ProveItLink\" href=\"../__pv_it/theorems/eca8645a0a0ec678a819aebe488132d8f73da8010/theorem_expr.ipynb\"><img src=\"data:image/png;base64,iVBORw0KGgoAAAANSUhEUgAAAJcAAAAVBAMAAAC5yWGZAAAAMFBMVEX///8AAAAAAAAAAAAAAAAA\n",
       "AAAAAAAAAAAAAAAAAAAAAAAAAAAAAAAAAAAAAAAAAAAv3aB7AAAAD3RSTlMAq1RmmUTNIjK7EInv\n",
       "3XZ/CtNrAAAACXBIWXMAAA7EAAAOxAGVKw4bAAACT0lEQVQ4y4WUTWjUQBTHX7PJ5qO7yx7Ei1IW\n",
       "BHsQZQ/iYYUaqFpB0JWCCBVZFBQFIQs9qqwHQVjFFdaPVCuRnkrB+gV6koJ4EqGI4CkQT6ueehME\n",
       "wTczb7I7MVMf/JO8XyZv5r03GYBNLSBlkG7oplapCY3amX9GrSyeH3Q5rzJ3hybYLpIyQT0Ltte9\n",
       "433ODzH/Qn4sryWk2qWMf2wOoNDn/Dq6di8/mFkXUm2v6jr+Al63cF6MAMZr+cFKpAyNxP1HHLNV\n",
       "j0VsKUucF3DmoqZkO0mqFcVaT/4Urmv7Q/4pjj9qgh0lSbO3DRLMg/fMlqVrO8/FA+NHABY0wc6R\n",
       "pJ0O3N9YbN6SotxXXYuqyngb7KrS6f7ENXr8TJLNfQ/mOoCxxoNJOm8l4oFxNxpvysZ8C5ve3cB4\n",
       "RP4HIe9yzKxjbkAZU3I22LtbDPV4zShNxo0kneRgBzN/BrBfDZa2sQerOK/FV7YsqRvRxuK8NcV+\n",
       "iak3Ym8v3cDi5qe5msABls46c8qSWnyfWcRfYl+8r84vMdnk5PDrJyQZrAZbjQAKfCWVJP0DTuDl\n",
       "MAh+Betv+s4azLJXjcbw6xckmVBifDFxrKjR2bRj92e83T7xMaxUqVmpwr4wDGs3Tw2/vk2S3Zx4\n",
       "2/6OCYp+Pb0XyVPj8Z8ZSDlmELiNqMu3HjbAI1ruCKl2le5zi3Erj0MpuDMbuWwq+3UA74gWfCHV\n",
       "pjVbPOXW9J5XYD/ki77YTxfzgDRquiMmy1fCsKmA5dENJdugOZ/d/53bdiI0agPNWOR/Ad8Hjp2W\n",
       "lYxyAAAAAElFTkSuQmCC\n",
       "\" style=\"display:inline;vertical-align:middle;\" /></a><br>"
      ],
      "text/plain": [
       "<IPython.core.display.HTML object>"
      ]
     },
     "metadata": {},
     "output_type": "display_data"
    }
   ],
   "source": [
    "complex_closure = Forall(a, InSet(Neg(a), Complex), domain=Complex)"
   ]
  },
  {
   "cell_type": "code",
   "execution_count": 24,
   "metadata": {},
   "outputs": [
    {
     "data": {
      "text/html": [
       "<strong id=\"complex_nonzero_closure\"><a class=\"ProveItLink\" href=\"proofs/complex_nonzero_closure/thm_proof.ipynb\">complex_nonzero_closure</a> (conjecture without proof):<br></strong> <a class=\"ProveItLink\" href=\"../__pv_it/theorems/c6ef6100d09f43bc1448bbf68c3a3fc2cd6fef350/theorem_expr.ipynb\"><img src=\"data:image/png;base64,iVBORw0KGgoAAAANSUhEUgAAAMMAAAAbCAMAAAD2zMvaAAAARVBMVEX///8AAAAAAAAAAAAAAAAA\n",
       "AAAAAAAAAAAAAAAAAAAAAAAAAAAAAAAAAAAAAAAAAAAAAAAAAAAAAAAAAAAAAAAAAAAAAAAeYafp\n",
       "AAAAFnRSTlMAq1RmmUTNIjK7EInv3Xah18O17eXJ8+7nKwAAAAlwSFlzAAAOxAAADsQBlSsOGwAA\n",
       "Ay1JREFUWMPVWNmS4yAM5BAGce3t///URRwBH7G9E/thqZqUMyGAWt0tEcb+s2HZfz+cyq8uugc3\n",
       "kerJEDTPe0TGFKYHeGQTAY+mgWt69Sa9zOlR4xNsnV6IHeP5teVVZpCeSRRe1IzcPVDWhyiOD3Nl\n",
       "b+swTFPUJp0ckMav9CeZyTGEvFWgR95pID+nq29rnUkunm8WuU+TLMwIyy+VGHwsk0gWLw1O+uMY\n",
       "wK0p9XZMZyYJsTCHyRaDrewvXJpzpi09m5aIO/QxV0DgHGV5In4DDGuYHAqXfv/BzKWuacJCDoA4\n",
       "8XEIJcmU5wuT/TIREUMaPX/csgaqrRR60T6St9Z3QLNkxWz6PA0xVDVcWWsac6WmuOIWMr3KFPYZ\n",
       "qcZBfRczXp4ACP6GwsenpSx2SpSLulqS48P/N+pIxcwsVxH7VqZy7sGsovy6s+IOxON+PnEYK+Hk\n",
       "kKytnaQA1HKV6R1/Tavfml8uYwSPjiJubWyqi4R9aVnySgaNcP7ofIlIyxoi3vQwuvgIpcAdtDkR\n",
       "gb8oUHoUyv1241AZ7FV12NBHQgvmPMk1ADuWvs3CUQ+X2G1LDMS07YFM5IiKXJmaFIFu6Oms3xrL\n",
       "kAe/D4jHvicRq59jx9ax+9JxWc1cogC2fQcUmaQM2fyZdMwBwLfvkKqiJj4E829csjMtJBv8IgwJ\n",
       "3NFOrw9MHfq5rqWh+YJ1Mjo99gJWGjW0aVCZTbBuBMErchj3YxDFu4Qu5Xdga9yt060EHFm1qhah\n",
       "fZ1tgy6B9ewKLdpZUx5+/ATKQ6beduXot7Y50iMS+lBxWBjwJPZkOIFmVoTDii4bJblpBCKBUXQv\n",
       "X5NWdt7btlzyJanfYmLCvvx4dEbzWDYLavERKrvTt/o5wHEbB2u8SIy5E5RT7nVRMGNU5z2cFJEm\n",
       "5q1UtloM66sBLnqNq2NdiyzRCKW1Y42smqbL+Ok9s/FDnt/m4PNO/9W3LnEkOSgiTy/b2uVsuiu3\n",
       "FtPIiWd9/F23SMm3hiZFdDLvYTotE7HAXFqSi/eOv9S3vieGoI8vgphr3Nfu0/o4bfGmEJ64T59f\n",
       "Qu/9qQYfWfbZ35fWxpBV+xfBoxgcNL3eEwAAAABJRU5ErkJggg==\n",
       "\" style=\"display:inline;vertical-align:middle;\" /></a><br>"
      ],
      "text/plain": [
       "<IPython.core.display.HTML object>"
      ]
     },
     "metadata": {},
     "output_type": "display_data"
    }
   ],
   "source": [
    "complex_nonzero_closure = Forall(a, InSet(Neg(a), ComplexNonZero), domain=ComplexNonZero)"
   ]
  },
  {
   "cell_type": "code",
   "execution_count": 25,
   "metadata": {},
   "outputs": [
    {
     "data": {
      "text/html": [
       "<strong id=\"negated_positive_is_negative\"><a class=\"ProveItLink\" href=\"proofs/negated_positive_is_negative/thm_proof.ipynb\">negated_positive_is_negative</a> (conjecture without proof):<br></strong> <a class=\"ProveItLink\" href=\"../__pv_it/theorems/0f99bee06dfb063beb7d2db0e05ff788837959320/theorem_expr.ipynb\"><img src=\"data:image/png;base64,iVBORw0KGgoAAAANSUhEUgAAAMUAAAAXBAMAAABJ4JbnAAAAMFBMVEX///8AAAAAAAAAAAAAAAAA\n",
       "AAAAAAAAAAAAAAAAAAAAAAAAAAAAAAAAAAAAAAAAAAAv3aB7AAAAD3RSTlMAq1RmmUTNIjK7EInv\n",
       "3XZ/CtNrAAAACXBIWXMAAA7EAAAOxAGVKw4bAAACwUlEQVRIx61VTWjTYBh+16bLX5vVixdBAoIX\n",
       "0RURD0W7js2h7hKdCKLo0MNAUDLwqFDPKq1T0CiUHLzMoa0OnD8gBRkbiDB0sIN0pCBWHMgOyqBe\n",
       "/P6S5ovpIGUvPPDmyfd9T/I+75sAdBUmQ4DqsLKr0HQKf5wPX4rpNE52RdTYw8DpZv5b9u6bSegj\n",
       "+GIimoQyTsHH5SDRqysrhL6JLsRSNA0hQ8HHgSBxGOANoXttAFWPppFkCLC2l8ZIYe4C9NuYjqPn\n",
       "6Y1ox26GQGm8N4svE7nfAEWd0J/q9Y8RNUYZ3BB3NB1UjbTr/lcioWCNDKGPAjwKLXpnjUsMbpwz\n",
       "5RZ6etYFM6tM+S/ScAg9CWLat37vq8GrJJGDJ6vvqyz7zOC22QcQlpAJNXJ17Qv4NKqElm3VYKzU\n",
       "sAxNhbkqr6FQM3NwhhHzFMqVOo6CsA4ptEVax/d6LnrbkMYFh9Axx7N8uICKqUHW4TXE++SDsAh9\n",
       "JqfhNVQJKugxEzVeA3ver1N6PIeLmJujk4o0fubbGsrsmgnSNnS42IKkHlqrigMDuGGX+FqBBTBg\n",
       "U/olmkRlRdqAadIUqljOtDWemUV8/mABpBakWHeWGVwNHbbHTIiXeM/hEMAIUPo6slzISzUYIxrC\n",
       "45LP82G4TV7nmIE0kg7d/IKBhezEllEXCm5LPF+lBqZ0ZZHRPciFpKGl4aBlWbqmqSd9GvPQoGO1\n",
       "gGrVx2p1h8E1d+fryR/oSMObQTYgo42Cj66Ycta+Rd5DS5y1PQ1lA+49xbUu+z1PFSj4uNFO4xMh\n",
       "dNIsjtmyTfyAtz7PF6Q/WbQHT9wvOOEekafgYyh8YD06MbRvFsSHKDv9vfpkpK1xav9aBrQpOoPH\n",
       "3eUPGPzR4eMdpGcsy2g76WXSVHDjNIM/5PC/qrzZz1be5J7oUPijGb60CV1qbFWIW3bSP1/jsJ3r\n",
       "TPdEAAAAAElFTkSuQmCC\n",
       "\" style=\"display:inline;vertical-align:middle;\" /></a><br>"
      ],
      "text/plain": [
       "<IPython.core.display.HTML object>"
      ]
     },
     "metadata": {},
     "output_type": "display_data"
    }
   ],
   "source": [
    "negated_positive_is_negative = Forall(a, Less(Neg(a), zero), domain=Real, conditions=[greater(a, zero)])"
   ]
  },
  {
   "cell_type": "code",
   "execution_count": 26,
   "metadata": {},
   "outputs": [
    {
     "data": {
      "text/html": [
       "<strong id=\"neg_as_mult_one\"><a class=\"ProveItLink\" href=\"proofs/neg_as_mult_one/thm_proof.ipynb\">neg_as_mult_one</a> (conjecture without proof):<br></strong> <a class=\"ProveItLink\" href=\"../__pv_it/theorems/99ab299c1f400925f653113816040fb4308def810/theorem_expr.ipynb\"><img src=\"data:image/png;base64,iVBORw0KGgoAAAANSUhEUgAAAOEAAAAVBAMAAABCnpRGAAAAMFBMVEX///8AAAAAAAAAAAAAAAAA\n",
       "AAAAAAAAAAAAAAAAAAAAAAAAAAAAAAAAAAAAAAAAAAAv3aB7AAAAD3RSTlMAq1RmmUTNIjK7EInv\n",
       "3XZ/CtNrAAAACXBIWXMAAA7EAAAOxAGVKw4bAAACfUlEQVRIx42WTWgTURDHp9ltdrvbhAheBCkB\n",
       "wR5sMQcptIIEqijoIejFg2gkB1EQ12OhlXgQRBEVCnUVyoIeDIVqxJtQe/GiiEXwGEhRETxUb4In\n",
       "Z3Zfkvcx62Zgsm9nf/P+b9/HbAD+a4FwyZzhOBNzzL5MK5YTl220OxRnYhQ5j9cS3exLUTwgXLGv\n",
       "2dy9iMMwUqwAHKP2JV7QqyeuWj7K4Lzd1yIOo8gVgJs0ww94RbuSuGpWNZP7FXEYRQ4lwn6ZVxwX\n",
       "rtn7TI4UTYwi4xFYOLZ8yjLuF65ZI5OLFRtcYh7lPnY6H1IUTwrv2fr28zc4He0sLlFsc4k+7tQT\n",
       "AI9TFBvaSKvFCXsLYCZeu05sJY5LFGe4RAs32HVwSsrZWp64IZqfhfdWPrD+juCsTOkj0zihOMUl\n",
       "5jYBxiK/Jp6422HNexjknoj7d4l7V+PXabpgx0fgvq6ocUIxxl5QhpTo/kbVbn/jHEXYXwc4rPYk\n",
       "bcq4kJxLUdTeMcYKVTVxFN8R6kfwZ+f4t4AKAjy9NaiJxmxdCDzsa1pfR35Wp7nEHC4nvMI6UAz2\n",
       "5MstejY5OeBWhQtr1faCj9dZ/R01TijOcokWFZtFHKcFqy6coadzc4PEtrrHD945Baf1g8BwAG8D\n",
       "BZMS7Zd4HWlS9A9u3jAMy7fPSgVZuLBnO7l5qk5fdEWNg12fLlZkTEos9HYpuJsO3KUG7RxPBAvN\n",
       "xLXv3JYeYTkTo8hS72bRr9t4Tij8OoANqfTyddss0QZnYhSZ79983/gJziNqrl1e7g93RbhiC2Zx\n",
       "4jgTWzC/UmthWFMCLeFG95px3Ao3rrGsvx1ON3GlCgZDcSZGkR8A/wDw38JSXuCZZwAAAABJRU5E\n",
       "rkJggg==\n",
       "\" style=\"display:inline;vertical-align:middle;\" /></a><br>"
      ],
      "text/plain": [
       "<IPython.core.display.HTML object>"
      ]
     },
     "metadata": {},
     "output_type": "display_data"
    }
   ],
   "source": [
    "neg_as_mult_one = Forall(x,Equals(Neg(x), Mult(Neg(one), x)), domain=Complex)"
   ]
  },
  {
   "cell_type": "code",
   "execution_count": 27,
   "metadata": {},
   "outputs": [
    {
     "data": {
      "text/html": [
       "<strong id=\"distribute_neg_through_binary_sum\"><a class=\"ProveItLink\" href=\"proofs/distribute_neg_through_binary_sum/thm_proof.ipynb\">distribute_neg_through_binary_sum</a> (conjecture without proof):<br></strong> <a class=\"ProveItLink\" href=\"../__pv_it/theorems/089951d637652b78200d0093104120a7a08337530/theorem_expr.ipynb\"><img src=\"data:image/png;base64,iVBORw0KGgoAAAANSUhEUgAAARoAAAAWBAMAAADtKE5GAAAAMFBMVEX///8AAAAAAAAAAAAAAAAA\n",
       "AAAAAAAAAAAAAAAAAAAAAAAAAAAAAAAAAAAAAAAAAAAv3aB7AAAAD3RSTlMAq1RmmUTNIjK7EInv\n",
       "3XZ/CtNrAAAACXBIWXMAAA7EAAAOxAGVKw4bAAADcElEQVRIx8WWTWgTQRTHXzebNtkkbVDwUggB\n",
       "wR60NYdSaIUaqIogtYFePBQbUZAWhO1R0BIPoqDSCIUalbpFEErEVC3oxVIQ8bMSRbFYAls9VBCk\n",
       "FLRSoThvZprdl91u8OQffhvmzWTnzbw3bxaguuok1OIqXeJm/7cpNtUXCbW46qikQvXxKlP4TUEU\n",
       "G9u9RipTAmpxSLtZZNMmBBXa6fX+yTn2+CrYj4aTXqPvSKjFqdokewxKqKNpz405gX82OOcwYlmv\n",
       "wV0SarHUK38bMBytEiI14enNCsOX5KBTIc+wzkqoxVKL/O1nb4KwISAKe+fMGj5fcXzM71rPtEkL\n",
       "qMXFmyc8XAkB0Q5Pb0JFfB4XzJVKr70Gq1MCaoGhmeEKb4792MJeHRUQHbKf5cYlsyLfYossNveB\n",
       "cxDgupc3ztViy/8cbhnEG+2XUdDBx/YNAbXEFd1Y94b69OAanaAwqK0CtAFnCOrKawkMlCvEaEyu\n",
       "PRIXWMLW3QR0071R1iBsgsJySpmtWNB72/F6CmqR9u424C3ALuAEjVCq3NOILi3mUtpVXbkhUzAl\n",
       "0E7xxWZEqwdgAXu7S6U3pdI73Iw0NExBYBk4RM+sf6vLEMFAW2+DAwB/AEaAo5i2JH7B2MeGhO4B\n",
       "7KHe2I4Ia70E7SfdGzZJfxz8bF/8s05vyv/NQiFFexfAz854HwjSneyR73yE27K+aPBSevt8+d5w\n",
       "jZS2Dr5l6g0rNz0GKCwMCMkbW6QKJux1lBuVZVIzCB6w2ql9CqxitnyuT07iiKam8uCgKQC7RVuB\n",
       "mnQT9SbDcgJ8WQHRuM2bOGxT6B36G5MQ2kFwhvmvJgO4vcGEL81La0eHVQ4cZxZb49CcTBJvahLB\n",
       "pFs9ECfXWonyQaW9W2FUVgGkhidmPU4YzqjRtlwuF794pDw4UBQAsUx8vxDL0BPeiBdGJCUgumI7\n",
       "U7HHQ99o78Q05sZHCd9APdjBykcDhOOX+PJZFmuyb15iad61FnOdlRBFMtW/oYoCker6SK+Rh4jR\n",
       "zk48dk7rMCP7nBdhq+utuckVK6/EKsKLtXy5+rtaHsLleOCwCXXX0JAfGN1YUFAX2IK/6accfg24\n",
       "fBGMVfXmtMQmcY7zuRwJvJYVUIu7nJ6LD6qq3ow5fPYb7iOHJdTiqiVJ5ZaZVZyp1wX28ML/1l+v\n",
       "f+w5P9hEHAAAAABJRU5ErkJggg==\n",
       "\" style=\"display:inline;vertical-align:middle;\" /></a><br>"
      ],
      "text/plain": [
       "<IPython.core.display.HTML object>"
      ]
     },
     "metadata": {},
     "output_type": "display_data"
    }
   ],
   "source": [
    "distribute_neg_through_binary_sum = Forall((a, b), Equals(Neg(Add(a, b)), Add(Neg(a), Neg(b))),\n",
    "                                      domain=Complex)"
   ]
  },
  {
   "cell_type": "code",
   "execution_count": 28,
   "metadata": {},
   "outputs": [
    {
     "data": {
      "text/html": [
       "<strong id=\"distribute_neg_through_subtract\"><a class=\"ProveItLink\" href=\"proofs/distribute_neg_through_subtract/thm_proof.ipynb\">distribute_neg_through_subtract</a> (conjecture without proof):<br></strong> <a class=\"ProveItLink\" href=\"../__pv_it/theorems/85d31b4199b1379f01f9658890529f4c48c5dc800/theorem_expr.ipynb\"><img src=\"data:image/png;base64,iVBORw0KGgoAAAANSUhEUgAAARoAAAAWBAMAAADtKE5GAAAAMFBMVEX///8AAAAAAAAAAAAAAAAA\n",
       "AAAAAAAAAAAAAAAAAAAAAAAAAAAAAAAAAAAAAAAAAAAv3aB7AAAAD3RSTlMAq1RmmUTNIjK7EInv\n",
       "3XZ/CtNrAAAACXBIWXMAAA7EAAAOxAGVKw4bAAADbUlEQVRIx8WWTWgTQRTHXzebNtl8NCh4KYSA\n",
       "YA9azaEUWqEGqiKINtCLh2IjCtKCsD0KWuJBFFRaoVCjUrcIQomYqAW9WAoiflEJolisha0eKghS\n",
       "ClqpUJyZN9nsy2439OQffgvzdmbnzXtvZhagthok1OIqXeJm39wUG+qrhFpcdVxSpWiixhR+E4nx\n",
       "xnavnkoRoRaHtNslNm0SqdJOr+9PzrLHN+QAN5z26n1PQi1O1afYY0BCHc14BuYUH2wILvCMjXh1\n",
       "7pJQi1ONPB2tEiI16ZqdsnWF4UsJuFMhz7TOSKjFqT72JQgbCFHYvQJM6dUaf74R+JiH9Z5lk0Go\n",
       "xUXPRLqSCNEOT29CJf48icwuLLz18kYtItQCg9NDVR1P/NzCPh1DiA7b93LTkkm9qY8vstw8BMEh\n",
       "gJte3jhXy1v+l3CHJkT7bRR08LG4cUBdEIqV111Wrx5co94UBrRVgDYQDEKDtZZAv3VCjMbl2iMJ\n",
       "pCLeup+EI1WBX4OwCQqrKaW6rt7bfH4Oaol6s8eAdwC7QBA0QmmrcxN3aTGX1q7ryi1ZgmlEOyMW\n",
       "m8VWN8C82OzCOMeDkYHGIgSWQUD0ojJaXYZIEUP3ZRZDdxDgL8AwCBTTVsSvGPvZhKEHAHupN7Yt\n",
       "wlqvQftFp2ST9CXAz+Lin3F6Y40dgUKaxmYe/GyP9wKS6WSPfOcTHpb1RUMcpXcvWveGa6a0dfAt\n",
       "O46bbgMUlgYOqRtbpgom7KvaUyugskpqAeQROzu1T4FVXi2fo6lJ3qO52RofNBGwW7QVqMs0U2+y\n",
       "rCbAN4IQjdu8ScA2RSfe/OFFCO2AnGP+q6kAD28w6cv08B4dHdZ4557lrXFoSaXIlHXJYMrtPMCd\n",
       "W1mJ8kGlsdkKo/IU4NSJwozyCcNZNdaWy+USl49Z4wMlBIhl4seleJbu8CZ+YUTSCNE1W6/408Hv\n",
       "1JuJKV4bHyUigHqwgx0fjRBOXBHLZ1WsyXdzkormNj6dzktogWe9zmI8FEsIlro+3GPkIWK0sx3P\n",
       "X07pMC3fOS/C1s1csfJK9Lg1yxerdbn6u3Y/hquJwFETGm5wQ75/tLygoI7Ykr/hrxz/G3D5Ixir\n",
       "+Ud3VmIT7uN8LkcSr40g1OIup+f4Q1XTmzGHz37DveeQhFpctSSpDplZw5mojtjTC/9b/wBoY/QT\n",
       "HBlDtAAAAABJRU5ErkJggg==\n",
       "\" style=\"display:inline;vertical-align:middle;\" /></a><br>"
      ],
      "text/plain": [
       "<IPython.core.display.HTML object>"
      ]
     },
     "metadata": {},
     "output_type": "display_data"
    }
   ],
   "source": [
    "distribute_neg_through_subtract = Forall((a, b), Equals(Neg(subtract(a, b)), Add(Neg(a), b)),\n",
    "                                      domain=Complex)"
   ]
  },
  {
   "cell_type": "code",
   "execution_count": 29,
   "metadata": {},
   "outputs": [
    {
     "data": {
      "text/html": [
       "<strong id=\"distribute_neg_through_sum\"><a class=\"ProveItLink\" href=\"proofs/distribute_neg_through_sum/thm_proof.ipynb\">distribute_neg_through_sum</a> (conjecture without proof):<br></strong> <a class=\"ProveItLink\" href=\"../__pv_it/theorems/7e3076d84628047069542d6290717e1b8377c6840/theorem_expr.ipynb\"><img src=\"data:image/png;base64,iVBORw0KGgoAAAANSUhEUgAAApkAAAAXBAMAAACypEngAAAAMFBMVEX///8AAAAAAAAAAAAAAAAA\n",
       "AAAAAAAAAAAAAAAAAAAAAAAAAAAAAAAAAAAAAAAAAAAv3aB7AAAAD3RSTlMAq1RmmUTNIjK7EInv\n",
       "3XZ/CtNrAAAACXBIWXMAAA7EAAAOxAGVKw4bAAAFTElEQVRYw+1ZX2gcRRz+bvfudrN3uZz4YBUp\n",
       "EbVEJPGoVn0QPUlig9py6JsteuiDKIhXESRWQ3wQRNsShKDJgyy2BGvBntEWbEFOQSxUJUqQPPRg\n",
       "U4shqCFPWgSJMzuzf2Z2kr3lsm/94Nv73d7v5rv5dv4fEItSexLdo8Hpw0AKiKikKSaJduZTobYN\n",
       "iqV+xgCX06jY05wyLqfppidKjCrT97du7WaGvmiVbhTv5PShNdOoWKnCKCEdMVmUuDlK3z+/tZtZ\n",
       "2jrzjS4ErTpjgLl0avYip4g5pAouStx8i44qU1u7adIGPN6NXrbCGGA4mvSk+ru5zTqFKv8eThHD\n",
       "6brJRYmbeZu89MeMm9T8+W70ipwBWtGkIfV3NWeTQlX5RZsRcWLbCS5KjNLJk8/HzUJ3k5d6N3q7\n",
       "OAOL6um4ma8wIk5sO8FF6XT9Y7t9Mc7NYrt9qauB/DHOoOuT4qy1m96bV7jz2fIn5/sTuBnOL5QZ\n",
       "IYv5I7gkCrVoLBSi1M0xYDbOzewkeuxu3HyOU3icWSw7+xTuVEs7swsJ3Azn63VGYF+b4mdPzHdW\n",
       "EoVaNBYKUermIRhlRXYz7CbJONRVX/iF00cvea734SH7+qg7ekP/N1Pp3E0hX2sxQhbzIItCLRoH\n",
       "lSh1s8cWlufG4hk8QOytCqv3WZxJbuHqwyueEd8xWi+5DYbsGYqk0Ek8QrveveBN6QfWlExk6Xrq\n",
       "/HW0N2TJGEPGoujzlvM5zHVGcZYgYnOu8pIo6t2URIOfKa+0pHxRlBqlOcEkdOzGadxSsLO27OZQ\n",
       "wkmIFnTyBtzRFN0UKwj8RFP/iswqRYf2SK8jxc9CxSAj12JEVMyDKAq1aAcTeUTUbZX1B/0xZYzu\n",
       "i5xqAbKbed1JtLykBZ1zoDe36unI/YNPgcGIO880LLuvZlzt1E2a73W6BUZh3Az3dFkUatF4REVd\n",
       "N+fJalIfPnYF+I1+NHD7RAFfjiyO1EJuFnaRb5auTOz1NlNBGNph+TdpQdb9teAE4iNOHz0OrOlM\n",
       "iw7PspsnazejAN3u1E2e79YA+hQjJDF/SpdFoRaNg0rUdfMNMigdP1gpNiz3VwwUPj4QaZvGNyRY\n",
       "yUw9y++FwgD+Tbcg7ZXQVvRzzqDQMrSrJ1q5/qibd737OJ6gKWJPt/72Lqfriny3BmwxlJUXc6El\n",
       "U0QUalHP/IgoNhd13cyQ0fb139Fnsy3cAKqrETexg7DS40xi3G3eNMwNjYq/yP3c3wvqx0NrqqOc\n",
       "wcC9AGu/c9tuRN08saYN06551Bbb5qJ36a0q8t0akM9qjJDEfHtkUahFPUREsbloMJvvxEHoL8zM\n",
       "vE/cPJWPuumirwFz0PbCIk5LP6mPt0a3IPPt0JzYO8kYYMmPBtV7G2M22V6I1gB4k1PEUuTOoLpI\n",
       "YzbZskUQDYy6gBHTbLK2mRuS15scR8g42Gt7oUEuIshNfXR3E6wgMgvBe9J6lVE8KZAqJp5ivIrX\n",
       "Ep160Bqw841h5bFER276oh1CEPWNMtaxNMD2RHuAZeVpsdE6S1oscdNqshDTJMQp7+Le1FaxwDdX\n",
       "h/ei4DerDziDmaGxdcWMD995NEm9WA3oaZjiRKyn0Zmb3Yn6bubK+KOCcdIXzV8byKjP3vcfWLOp\n",
       "m+a3LCT7TRIeaZjf0wu/ucMgwzUtCNbZmbFgDuQMBjCvzodf/lq5nNvYWE9SMVYDalvUukAMaYpK\n",
       "f1JYX81MK/bpwqaA9nSNhedKfgg/WijtsRUFGQ5jgIk0TnNWOGWkIiaJli4l/svH/HMeeIodXGz8\n",
       "54UULLLK2he4hiSoqMLKNV/wPxLV1jdPLtZMAAAAAElFTkSuQmCC\n",
       "\" style=\"display:inline;vertical-align:middle;\" /></a><br>"
      ],
      "text/plain": [
       "<IPython.core.display.HTML object>"
      ]
     },
     "metadata": {},
     "output_type": "display_data"
    }
   ],
   "source": [
    "distribute_neg_through_sum = Forall(n, Forall(x_1_to_n, Equals(Neg(Add(x_1_to_n)),\n",
    "                                                        Add(ExprRange(k, Neg(IndexedVar(x, k)), one, n))),\n",
    "                                           domain=Complex), \n",
    "                                 domain=NaturalPos)"
   ]
  },
  {
   "cell_type": "code",
   "execution_count": 30,
   "metadata": {},
   "outputs": [
    {
     "data": {
      "text/html": [
       "<strong id=\"distribute_neg_through_div_numerator\"><a class=\"ProveItLink\" href=\"proofs/distribute_neg_through_div_numerator/thm_proof.ipynb\">distribute_neg_through_div_numerator</a> (conjecture without proof):<br></strong> <a class=\"ProveItLink\" href=\"../__pv_it/theorems/e6be30a967622180d7fa3a113c470d9379bc4b000/theorem_expr.ipynb\"><img src=\"data:image/png;base64,iVBORw0KGgoAAAANSUhEUgAAAQsAAAAyCAMAAAB8iQ6xAAAAOVBMVEX///8AAAAAAAAAAAAAAAAA\n",
       "AAAAAAAAAAAAAAAAAAAAAAAAAAAAAAAAAAAAAAAAAAAAAAAAAAAAAAACXHtMAAAAEnRSTlMAq1Rm\n",
       "mUTNIjK7EInv3Xbt5cmRiLwgAAAACXBIWXMAAA7EAAAOxAGVKw4bAAAEhUlEQVRo3s1biZasKgyU\n",
       "Tdnkvev/f+wF3EAxjZDpuTkzfU5mmmoISVFRexh+3ZSE3JJppdE+HROr2wiD3LLJGW8BmFi9oTCQ\n",
       "+2R0xpsBJlaXsRFyn80QvDlgYnXYZCfAhWxmeLPAxOqYhYNcMLMtXpljYrVXiIVc2EaONw9MrFaz\n",
       "BnLzs885oqUxdP+DWKbWj8XEwjK3aMDNze+cI27gJ+mPzZSHiYXGFgRy8/LxG8d8rBL5QZfGKsfE\n",
       "QlM5iwTcy3vDduYHrl4qmVaP82myD+vHZJaF3AK7XOarOkQSJhYKcxLIvVkkOJ3kMmtnPEwsnBJh\n",
       "gHvtoMSaNyZL7CaNhImFd4pMgHtRQ4vU3M9f0DeZ9PNYaL26hdzLXnLnBsoZRSjyZ6wzHPTLWWIV\n",
       "5FY1VQtig+axuDj0xnfZQy8ccOuEwiLw2gGPJffEmNR300LmR7psOOEloiqIWON2shj63VjQhQJu\n",
       "S2r1pynbaGL8bih8UkrArbMFkfwjlo3a1Jovx+LNkfo4f8S6jlg8bsjXLwebvB0yLd2RTZOZJ13H\n",
       "TNqwJrK/tDbAQBUC4/LF85ZYzIhdxIoVUsJUn05OceKmk8ChNF1RjXGFAiTLo3ttLH0CJ5bOv+ZC\n",
       "2ALZFYu6z8wpHVFex3sxT3xdU2VqYrEmG/PwQr2JRf1eWsS8sNsRwj4c1JxvLG90fCerigWJdGjD\n",
       "0DszotdIJ19sWIbuIsM5PvmfrbF1ATH8ul2eaybXYppKsTgHrG4M2BQXaemdOyfAbeDO3pZgxZr2\n",
       "Js1NA1HDuM7bZ4BfhrShMA5FNNHrlM9YnAO4Cvaf/2Ve0IVY3G9BuFxQuBZ9gdlc7lhkm4efsHLD\n",
       "5kw63F1zfq3iWAjTTD/G4hywro5t4lYXriMhaS3Ea/kFrDRVw81N4sKdvbjPig5SCvkYi3PAeslk\n",
       "i1CMxV1h07yxog19ll7wBGIBK2T4EY1ZrMwnz7dt3JkIhzQW+4BQI///UbFGnrjzzWWtb/Vm6Rlo\n",
       "BzNG9aTj6v3ZLpZclE4mMqsp64tjwHD2v56PfZWRj0nZkO8t/Vw1FnfCOKdDeoT/UM7UuPbzR2Vo\n",
       "4wuGy3KNHAMyTe+1Fi8cmPMIuQ0tDWZ7lMfJL9v/V7EtAiHhixWdxCIZQD9n79tbAh+la5cBWEJH\n",
       "FhSfNyuJRTKgYpNZrq4YKLa04yHImnRcFixiVGCFQYK5Cp5OtdYxgIoatqKAe1VmA7UxYCm9vaTO\n",
       "EkYr1kPT0a1uKoSTpOudYKKyTHr12UWMRix04xZyr71/VGuZZCPvOvYiRiMWuolcXglQbYlAJ/nt\n",
       "59dpXcBoxsK2mUPuJYkCGztbTbZ1GO1Y2PbmJFFkfzlC97oxu2O0Y6Hbi2eUOAk5ztKEf812N4wO\n",
       "rN9MDE28ek2nrN5v5Q2jAwvfRgO5N4EwXniwwcz4wKm/bjJ/uFU+PusalqDTi2MzbQqDtoVxMx3+\n",
       "BXMKcpPpuvxZ8Zbnlq8YPVg/YpXPxlPmeCI/RMuFzgtGF9YPUQaF3IfSGhG/MzH+Q18gafguDeL0\n",
       "E6y/Sg0sCqE7un8AAAAASUVORK5CYII=\n",
       "\" style=\"display:inline;vertical-align:middle;\" /></a><br>"
      ],
      "text/plain": [
       "<IPython.core.display.HTML object>"
      ]
     },
     "metadata": {},
     "output_type": "display_data"
    }
   ],
   "source": [
    "distribute_neg_through_div_numerator = Forall(\n",
    "        (x, y),\n",
    "        Equals(Neg(Div(x, y)), Div(Neg(x), y)),\n",
    "        domain=Complex,\n",
    "        conditions=[NotEquals(y, zero)])"
   ]
  },
  {
   "cell_type": "code",
   "execution_count": 31,
   "metadata": {},
   "outputs": [
    {
     "data": {
      "text/html": [
       "<strong id=\"neg_not_eq_zero\"><a class=\"ProveItLink\" href=\"proofs/neg_not_eq_zero/thm_proof.ipynb\">neg_not_eq_zero</a> (conjecture without proof):<br></strong> <a class=\"ProveItLink\" href=\"../__pv_it/theorems/feffbe5cef62146ec6f970ee28bf14681f2122e30/theorem_expr.ipynb\"><img src=\"data:image/png;base64,iVBORw0KGgoAAAANSUhEUgAAAMUAAAAXCAMAAACMEHvmAAAARVBMVEX///8AAAAAAAAAAAAAAAAA\n",
       "AAAAAAAAAAAAAAAAAAAAAAAAAAAAAAAAAAAAAAAAAAAAAAAAAAAAAAAAAAAAAAAAAAAAAAAeYafp\n",
       "AAAAFnRSTlMAq1RmmUTNIjK7EInv3Xbt5cnn9enzas/lfgAAAAlwSFlzAAAOxAAADsQBlSsOGwAA\n",
       "AsRJREFUWMPVV4my2yAMNJdBCOjt///UmtOAMXam407LzIsmeUvMaldCWZa/uGQX56jPvvOvLUfb\n",
       "eLGEu/gH15doUt5T9i4Jim28Zjs+iIL6HaLjsqC5yJ+v74qj1zZO1jpK+gKqhux6aiszWmUxJLwr\n",
       "BWdtnCzGR1KQGmGDHlDQmTjSd1mYLk6xAzGgtgoESnTTGc1SbtaXq2Jt49xSZ71ELcWyBbXURgva\n",
       "WL8MvmwobOO5ZRJ0MrUnJGditRQ6s2AFzUPVgH5+oGkR36R3vSgLYfZjQrTIwg7BeMix/f7Dv5Ya\n",
       "3jCycAUtSX656nzASUmTJzwhgSK1wT7llraxJ29Cw7TJdmYqxcECD7SXAcWpJzgCsH+qgezfQAGf\n",
       "sIjJYDtj0aGMaKJe7bF2M/AtUEwPUVuvVKu/jscXUYuIpm5Q25yn9ow6yvaIBQkpM37rJmcsTl0J\n",
       "wuFEttdUilzdNFZ3Qq8he4EkMoeyvj81U6IbWGoWZUN8Oka9vbsN/cBROmSVZQmobevi568oWrE9\n",
       "xJsillFCI02Xhr8NlU+iLielkvZ3esWibODg15f9j+0f+G+zbRmDa2PPwpMj6xIfxuDmMmch/Tw6\n",
       "KKGlIdlGu8s8QJQjMM30NYuyoR6AIgvTHjc3Txy3EU+OWp76X9eO6bkrekm1UQ2aqMO0joTmFXIL\n",
       "dFFKqGsWZUNIKOQO4llsrXWUbWMvBnGoJHHxWVbczVWao8un7tDaewOY1os6kpGqu7oIYLDBO+rr\n",
       "NwiOGlb3YlUbZ78Z7HAYfobeH+9dLryFjktQYpiAcXhfHBvqcc25fmKoRjzGHw+O0xH3Cu3bMqMO\n",
       "WZhw1dGGdntxNXTUsaG5/f3wr6/GObj7BdBN1ww/QXfGQ2+PYXMfb6Pu7gcGtPFydTSt/gT9eI1P\n",
       "cT+r5iFGzvm67ljqI/SfsaBi+b+W/OdO9BtlcBe+NBCTlQAAAABJRU5ErkJggg==\n",
       "\" style=\"display:inline;vertical-align:middle;\" /></a><br>"
      ],
      "text/plain": [
       "<IPython.core.display.HTML object>"
      ]
     },
     "metadata": {},
     "output_type": "display_data"
    }
   ],
   "source": [
    "neg_not_eq_zero = Forall(a, NotEquals(Neg(a), zero), domain=Complex, conditions=[NotEquals(a, zero)])"
   ]
  },
  {
   "cell_type": "code",
   "execution_count": 32,
   "metadata": {},
   "outputs": [
    {
     "data": {
      "text/html": [
       "<strong id=\"mult_neg_one_left\"><a class=\"ProveItLink\" href=\"proofs/mult_neg_one_left/thm_proof.ipynb\">mult_neg_one_left</a> (conjecture without proof):<br></strong> <a class=\"ProveItLink\" href=\"../__pv_it/theorems/bb1197db0ff618f85be47316c9c89273a9a84f5a0/theorem_expr.ipynb\"><img src=\"data:image/png;base64,iVBORw0KGgoAAAANSUhEUgAAAOEAAAAVBAMAAABCnpRGAAAAMFBMVEX///8AAAAAAAAAAAAAAAAA\n",
       "AAAAAAAAAAAAAAAAAAAAAAAAAAAAAAAAAAAAAAAAAAAv3aB7AAAAD3RSTlMAq1RmmUTNIjK7EInv\n",
       "3XZ/CtNrAAAACXBIWXMAAA7EAAAOxAGVKw4bAAACwklEQVRIx4VWTWgTQRR++d1kU0NEL4qUBcUe\n",
       "VAxSFCtoof6BVoJePBRd6UEUxPUo1BIPglikESp1FcqCpRgL1RZvQt2LF0WNQqGXQOIPgoforeLJ\n",
       "mZ3dnTczu82DL+x8++Z98/Pe2wCsaxYCN03x0yLmajGx1rWiwYEs05IdVQbgqzS+4KNEB9tjFHch\n",
       "BHbfAfimeKpM8qW8/DLDMTq4HC2omxwBtfk6Ucw6sqvKzCnhrjLcpidei1ZMlzlC+01ipwZlV5UZ\n",
       "UsL1M9DFFYxoxR4EQRHeKb4K46rhHA8psv5szDXuRBAVRxVfmUmaiku2zPCh2Xwfo3gKQVRc5OOF\n",
       "9rPXhsCwG0GJo3e2TiyRoywxnAR4HKM4iiAq7ufjwWJvuuEzw01qn4MNherQbg2TuzYZboBWEpJ4\n",
       "qnfcf/yCICru5iljpf4lyphhtgHlxgE44mwiB+0y5J1CxX+Ta9sV/YGVfOKP33Lo17zlV33FSfr6\n",
       "Bb2qHKS9G5uU04QEnfPmrEIVjnvh/zAkW2HiHCUBCwsAh1RFaY8j3jZYRfR4/WYkQpHbR68xuQxg\n",
       "HiY/nRPfLdoQ4Okd3hHjT3UPIi5auuMz6B7xqUJmDZ6TvTUYYIn0gaK1JWvU6cu+Pu44gyAqHgyH\n",
       "9co2KAgMszzvtPrDhAskdVM1BhgjiZOCmRyco68HBvisRYTQ3lhCvey9dxrOyhUErAyC0vw762YM\n",
       "VjBe0SSqlF4jCW7btnH3PGraCIFt/HSJHP5KOJ7tJIfoAa5IirkG3+OZ1o599KArDL6Dq8GEtzaS\n",
       "OXqQ4VUO8dPXgK7MqlLet3x4NlYw06RO6NRXFiyj9hxAafHdmH6I6u1hf0//WP4F2iP6OH9lKtzS\n",
       "NAK2m0o0lcnL33v6hZK/UvO2LVQR1BGwTSvxVUavRSwh3+1vh9biwI1QmVeMiDQujX8y/AcBw8Vt\n",
       "7+4jOAAAAABJRU5ErkJggg==\n",
       "\" style=\"display:inline;vertical-align:middle;\" /></a><br>"
      ],
      "text/plain": [
       "<IPython.core.display.HTML object>"
      ]
     },
     "metadata": {},
     "output_type": "display_data"
    }
   ],
   "source": [
    "mult_neg_one_left = Forall(x, Equals(Mult(Neg(one), x), Neg(x)), domain=Complex)"
   ]
  },
  {
   "cell_type": "code",
   "execution_count": 33,
   "metadata": {},
   "outputs": [
    {
     "data": {
      "text/html": [
       "<strong id=\"mult_neg_one_right\"><a class=\"ProveItLink\" href=\"proofs/mult_neg_one_right/thm_proof.ipynb\">mult_neg_one_right</a> (conjecture without proof):<br></strong> <a class=\"ProveItLink\" href=\"../__pv_it/theorems/df558e6028b6b173a424a0e4295c518b79f605ec0/theorem_expr.ipynb\"><img src=\"data:image/png;base64,iVBORw0KGgoAAAANSUhEUgAAAOEAAAAVBAMAAABCnpRGAAAAMFBMVEX///8AAAAAAAAAAAAAAAAA\n",
       "AAAAAAAAAAAAAAAAAAAAAAAAAAAAAAAAAAAAAAAAAAAv3aB7AAAAD3RSTlMAq1RmmUTNIjK7EInv\n",
       "3XZ/CtNrAAAACXBIWXMAAA7EAAAOxAGVKw4bAAAC1klEQVRIx42WTWgTQRTHX5JNNtlNQsGTUkpA\n",
       "sQcVi4SKFTRQrUKtBL14EA30IPa0HoW2xIMgFrFCpUahRCzFWKhp8SaUXLwoShSEIgQ2fiB4CJ6s\n",
       "9OS8eZPdnclm44P/dmbzm3kz8968LUCgWUKS6Z2M7jNW/5+5VEtnSLJ9lbtXmKJ252AF4xyqDzt7\n",
       "u3g8ICRZuOq241/YkoZY4xsEYbT8IdJp7Fzzd2gUSLKtuM2nYzvsOcUUKwdgwqZIt/DE5/09akMk\n",
       "2Ua960aPWaZILggjy5JwcWbG32NSSLaa6jGJ+3sbhInpylwRtodYlzDuF5LjU1A9xvAYJoMwMuRQ\n",
       "7xuNd108jgutNZ+/do5Bq6oeTcy+dTUiHsxo7ZnbIA51FuBxF4+TQrn0gFb3rlT2GMHtDGN3ooH2\n",
       "UcU0aNoTxKFugN4nJfHCwKxofiJFrMhOyJkglVE9hjFkB5XVerGjcLK8izhUomzm27erWcobD6zw\n",
       "E9F/Q4qDRkF5iX+SjF7he9kSHuO/2eO+miYerAhjIDhU2HYS51SRHfQawHHZIxtOJSWVE1PJe4zi\n",
       "Hi/7eHTtAwiOs4UT7NE6893ixePZbbciilMFuGoZ5YBTxRgfUuIoYdFteEEcZzdYHUhbu2OZCv44\n",
       "OOiCS6RKvh9M52XC7sgcLCDHlD16MONhqAZV4jg7zRInAktxuIg/j4y4o9ZJh++egwvOS9ObZ+Z2\n",
       "+yKMKx49WPjvci2aIY6zoSK+ZkOHS6VS5s4ld9Q90nIrPOqeUbzuAqH+PywHUxiyz4pHD2act/cd\n",
       "AeJSTnjjNR3m+NpY5hjtkBVJsm2pL2awNNd7YpybaXemzYLG7gkOfWXBpniL5bmzRGf9anZnwe/A\n",
       "OOfUd+3H5i/QH2Fz9fqCs61FITknlA85//LchF4Y59Sv1GqpJN0iqAjJX815n6kXoRfGuUSvfzt0\n",
       "myTbrNz9ibfEZyYF4xzTP/nqwSalOrPVAAAAAElFTkSuQmCC\n",
       "\" style=\"display:inline;vertical-align:middle;\" /></a><br>"
      ],
      "text/plain": [
       "<IPython.core.display.HTML object>"
      ]
     },
     "metadata": {},
     "output_type": "display_data"
    }
   ],
   "source": [
    "mult_neg_one_right = Forall(x, Equals(Mult(x, Neg(one)), Neg(x)), domain=Complex)"
   ]
  },
  {
   "cell_type": "code",
   "execution_count": 34,
   "metadata": {},
   "outputs": [
    {
     "data": {
      "text/html": [
       "<strong id=\"neg_times_pos\"><a class=\"ProveItLink\" href=\"proofs/neg_times_pos/thm_proof.ipynb\">neg_times_pos</a> (conjecture without proof):<br></strong> <a class=\"ProveItLink\" href=\"../__pv_it/theorems/92fb10b546d1ee8a5cc739d555900aa61085082b0/theorem_expr.ipynb\"><img src=\"data:image/png;base64,iVBORw0KGgoAAAANSUhEUgAAAR0AAAAWBAMAAAAP9FU/AAAAMFBMVEX///8AAAAAAAAAAAAAAAAA\n",
       "AAAAAAAAAAAAAAAAAAAAAAAAAAAAAAAAAAAAAAAAAAAv3aB7AAAAD3RSTlMAq1RmmUTNIjK7EInv\n",
       "3XZ/CtNrAAAACXBIWXMAAA7EAAAOxAGVKw4bAAADUUlEQVRIx8VWTWgTQRR+STY/3W3jXkulLFTs\n",
       "wRZzKIVWqJVYFVQMCuJB7EIPoiCsR6WWKAiilbZQ0CiULYpYKjEV6UUoQRBEsQSx4KWSakQUKQXB\n",
       "Sk/O7E/e28km680Pvs3m2/lm3ux7M7MA/wKDkCAutovXMwe38Om+LpIakiJahgABRNNnv/7PEKpc\n",
       "6Ggczy5CD74ECoIpXPCdbwo5xIWzDcORdaQXMTNIEEyP/Ec4j7zKkzrZMB4phfQiMhgkCKa0/wg9\n",
       "SD4jRWsYTzOhgDeBgtdUrDOCWWWExR9rXD47CQWMBAoeU1j3HyGWQr5bXX3bOJ7DhC7ya49fsLe6\n",
       "gEIaZJUKxIzJK6DVrq5KCmZZglTkIYB7jeMZIXQxmGyXSgC9VaHQBZENR5BWLag1L4zP37VaUMJF\n",
       "2MvKTkdehLjqtwan28ec2/eEbt0aka0Q67zLFRLaUQhNEgGIuYoWDa0WrrHIWlkei8gmU8l4u0is\n",
       "5TLylBG+7/x/hZQvWDPPJkCySmGCX57yvQCWobnsCBTExOqVjeRa5d/sYjLPMtM2kOGyWM77mVPJ\n",
       "A+ypjYcsCWsrPm3Nmi/y6BZMZB1BiIeYMmiFD/wybCb+MHMRCfoAu6wfrLDTI7oGIWuXhAfX8azx\n",
       "yRfryJDZAu3GUtXhJzgCrZ+afLlWGwcgyfNUQsIztismjdYYa5vfZo7DHG/X2Ym9zBA6mMtsB4X9\n",
       "9lWVJhWmPAIxY6MyWm1McSNEJpEwygWYSbDby93wHU7wdv392MsCoYPdN4/Acc9qltToL3F5Awgb\n",
       "AF/PrtXGPhhO2fuASwhl+YNN63EbtENvLpfTbpzCXm4TOni4Hk7zd7+C51RbZdMjEDOulBJabcwu\n",
       "HWN10pJBOi2LVrWswGu4Zc0kz9eMk/UsUvjeKdHJ64JQNSM+1m4si4xXCC2MKroE86x9dINtAHyk\n",
       "5wYskUPSZd3DchGeaMFHbo/wVNHll84xm6bHrfR16QeMa7CjT4f4Xa7Mn5uuzuwOoQeX8PYTy7VH\n",
       "oGYsaOETsKUcKtjfFy4pNNloYhOcz+W8O+QcYb2xOioZv4gFkyyMGB4YcqJ0Sb82zVD5pN8BFi8j\n",
       "PWeK+MGbNPzNiDG//r8R0lRDdKAA/xd/AT5z9RsmR3fUAAAAAElFTkSuQmCC\n",
       "\" style=\"display:inline;vertical-align:middle;\" /></a><br>"
      ],
      "text/plain": [
       "<IPython.core.display.HTML object>"
      ]
     },
     "metadata": {},
     "output_type": "display_data"
    }
   ],
   "source": [
    "neg_times_pos = Forall([x, y], Equals(Mult(Neg(x), y), Neg(Mult(x, y))), domain=Complex)"
   ]
  },
  {
   "cell_type": "code",
   "execution_count": 35,
   "metadata": {},
   "outputs": [
    {
     "data": {
      "text/html": [
       "<strong id=\"pos_times_neg\"><a class=\"ProveItLink\" href=\"proofs/pos_times_neg/thm_proof.ipynb\">pos_times_neg</a> (conjecture without proof):<br></strong> <a class=\"ProveItLink\" href=\"../__pv_it/theorems/ca142325f16feb3b87656ed79d7e3046d7b1d2180/theorem_expr.ipynb\"><img src=\"data:image/png;base64,iVBORw0KGgoAAAANSUhEUgAAAR0AAAAWBAMAAAAP9FU/AAAAMFBMVEX///8AAAAAAAAAAAAAAAAA\n",
       "AAAAAAAAAAAAAAAAAAAAAAAAAAAAAAAAAAAAAAAAAAAv3aB7AAAAD3RSTlMAq1RmmUTNIjK7EInv\n",
       "3XZ/CtNrAAAACXBIWXMAAA7EAAAOxAGVKw4bAAADYUlEQVRIx8WWT2gTQRTGX5JNk+y2NddSKYGK\n",
       "PdhiDqXQClWJVUHFoCAexAY8iIKwHpVaqiCItrSFQo1C2aIUSyVEES9CCYIgiiUUC71UUo2IIqUg\n",
       "qPTkm53ZzLzd7NKbH/yS7Ox8L2/2zZ8F2I5MAVHMexnzM/uZaHgTtqfmFIfqM72MVjj1zL4mrvMK\n",
       "SdbQHpzPHgFRuOhq+CKoY/Y38ZTTkgHWcDEwHT3HoZpzNzRYHK85wMR1WXKTFXUiMB8tzaHKuBsi\n",
       "Bzhec4CJq1vCRmSkAvNpFFCVPC3vBB5zkIl3smpEMP+G4OmzW0Cnj6eAcEHgMQeZeKnTkg9ra++D\n",
       "8zkmKKw/eVV7kpoyMwsZ0HFdPAOOxwzEpIbRq2mYxQIlJUcBHgTn44z7QHObVlaH5KjYCZFNgB7g\n",
       "gLZmKwnuB2ab1DBGuAT7cdrlJFchlqy3BqfahsXPZU7EjGyFalk0yTkXT52AEC6JTuAQLasXzETC\n",
       "3MLMWrCOJUnCMrI0RHw9n9UnzfBDcf2GEwfNLr/+256CaJqzH8OqDkvQiDvhOHCI0KhfsfuNcBMJ\n",
       "Y6FvCds2JeGKezofQqdRANhH8wH7T1EfnXxqW/MWjKPnHHDc+SjrKOsOM2jF/2KAkgRy/fixcaSK\n",
       "p0d0HUL2LgmPbsuzZtl57IOmbtWpFxvwT/zqEpD546kXDXMYmlmdyhJ4jrtis9nSgH0LO6xRmGf9\n",
       "OjpklBnOfHYnGLXGhHJUJZIwiV+9AqIZ9YKZaJhJZobIhASGWAPMxPHn9S74DqdZv74+GUWs4713\n",
       "j8OpWqOhLAItGf2l7AtEZANgJhrmIAym+T7gAKERduOPfbsV2qAnn8+n7pyVUcY4jzfCGWVRlZUz\n",
       "qrXK7CsCojGyUsruMLOLJ3GeNGUlomfJni0r8Bbu2SPB+aw7VR/hUK2SgeOSiZU5VNS46t1YXiI3\n",
       "FGwNGTkNFrB/dBM3AHbEvjBhMfCg7FZDPk35HbvU2O26a+T01+KYzajHrfZ18QeMpmBXbw5i91nL\n",
       "wqWp2simBUQJ+Tb3CesMcE3g0rSPiT+9SqjI3y8cVKV0M4EDXMjn6Q45L6AvNtLcXs36Ze0y6q5/\n",
       "DPcPiCwd1DdOK1Q5U+8Ai1U4VMOuA8bk1DP7mri+Kailhmh/Ef6v/gGnePXtDJCNIAAAAABJRU5E\n",
       "rkJggg==\n",
       "\" style=\"display:inline;vertical-align:middle;\" /></a><br>"
      ],
      "text/plain": [
       "<IPython.core.display.HTML object>"
      ]
     },
     "metadata": {},
     "output_type": "display_data"
    }
   ],
   "source": [
    "pos_times_neg = Forall([x, y], Equals(Mult(x, Neg(y)), Neg(Mult(x, y))), domain=Complex)"
   ]
  },
  {
   "cell_type": "code",
   "execution_count": 36,
   "metadata": {},
   "outputs": [
    {
     "data": {
      "text/html": [
       "<strong id=\"neg_times_neg\"><a class=\"ProveItLink\" href=\"proofs/neg_times_neg/thm_proof.ipynb\">neg_times_neg</a> (conjecture without proof):<br></strong> <a class=\"ProveItLink\" href=\"../__pv_it/theorems/c50fa7c82b4b81f35154676b6a1ec453ec7327390/theorem_expr.ipynb\"><img src=\"data:image/png;base64,iVBORw0KGgoAAAANSUhEUgAAARoAAAAWBAMAAADtKE5GAAAAMFBMVEX///8AAAAAAAAAAAAAAAAA\n",
       "AAAAAAAAAAAAAAAAAAAAAAAAAAAAAAAAAAAAAAAAAAAv3aB7AAAAD3RSTlMAq1RmmUTNIjK7EInv\n",
       "3XZ/CtNrAAAACXBIWXMAAA7EAAAOxAGVKw4bAAADF0lEQVRIx8VWT0gUYRR/uzOzf2bU9hZiyIIR\n",
       "REoeIvIihoRCBUuHTkILHqIg2LpZEtuhS2haILEdloVCkmJZOwgVhJcgjEIkwYsxphFGiBAkeOqb\n",
       "b2b2vfnmzeCtH7z1m3m/9/PN973vex/AQVAiRpCOeZKP6SgxFZFkBm15NArDpk/fw84gAcVC8Mk5\n",
       "56ErPpsTxALYJONkg3Fu8mJheORzzvhqbDJmES2IVA3Hs5yTElCMgUe+56zYdGw2ei9aENoAjgc5\n",
       "JyWgGAOP7CRl5WOzaSGmYAmHi6xziRPj4JI1kWsqvmyOEVMwimVTZJ2jnBgHj/x5ff1TfDbnifmo\n",
       "b7x4J2Z0HleAFHF9EMyc65znxLxgjjwM8DQ+m1HmOwfaOvVlgNNYhqQeGt2g7bpOSdDXJXK+mBfM\n",
       "kW9COseksH32p39YrBDzi66k7SfE/+9uvmnF2svkL0Ji2nV2q7orGMyRszWrEAx42D4Dc4fhuD/3\n",
       "H9DMG/IryxnQZZ1MOXv2r6xOITIrnWsmfIEW23VOqdkIET9YBirkpK0UsS7WDt7aoDHZkL0hZ27E\n",
       "+fnqZ9M8Wfdhquw6R5hs/GA3UCEX+8XPztCW6B/GBiTksWieKWBDYVYK4ErJFGdDD7dSzqf/BtfZ\n",
       "o9bNCgaz5NfXRfMotaeEXP1QbcJ0jsLkLdLbqsQ8zBWOgCX+9jXfZElLyubgkefsU+emisEseVzk\n",
       "rEE1I4a3e2DbcOpLe0aO9HkI7daTDy7ApcCmt8hW0HPGH+ZU8MX8YJacKDsv96SrAzq1a5XK48z9\n",
       "MgpMEvPwfCc56CzNKm6kZdKLOrb2POeqms0kBkeTM4vyerEKHzOyeEUVgz89rWU05VpCUlijDqvo\n",
       "OikBxRSEyONWUYeXQtLYdc/CO0Ng2Ur7i2+Bp3C4AK/yB2m0UWT9x/tfMJGHo31FGHOyNxcqw82A\n",
       "J8QCGCPjLNb9N7HirnMsfKyqIpHkvFnK9oL5pjITfD9HLFLZxGtJ11YhKv+wSBTZqCXsy1yjStto\n",
       "gUtl4Ip7N+xsK/Fi4etpmKyB0d+A/4l/k834ck5ePNQAAAAASUVORK5CYII=\n",
       "\" style=\"display:inline;vertical-align:middle;\" /></a><br>"
      ],
      "text/plain": [
       "<IPython.core.display.HTML object>"
      ]
     },
     "metadata": {},
     "output_type": "display_data"
    }
   ],
   "source": [
    "neg_times_neg = Forall([x, y], Equals(Mult(Neg(x), Neg(y)), Mult(x, y)), domain=Complex)"
   ]
  },
  {
   "cell_type": "code",
   "execution_count": 37,
   "metadata": {},
   "outputs": [
    {
     "data": {
      "text/html": [
       "<strong id=\"double_negation\"><a class=\"ProveItLink\" href=\"proofs/double_negation/thm_proof.ipynb\">double_negation</a> (conjecture without proof):<br></strong> <a class=\"ProveItLink\" href=\"../__pv_it/theorems/cc68c2f3d2845f41d1cd339c60418366c2c0b5240/theorem_expr.ipynb\"><img src=\"data:image/png;base64,iVBORw0KGgoAAAANSUhEUgAAALwAAAAVBAMAAAAOdJm+AAAAMFBMVEX///8AAAAAAAAAAAAAAAAA\n",
       "AAAAAAAAAAAAAAAAAAAAAAAAAAAAAAAAAAAAAAAAAAAv3aB7AAAAD3RSTlMAq1RmmUTNIjK7EInv\n",
       "3XZ/CtNrAAAACXBIWXMAAA7EAAAOxAGVKw4bAAACCElEQVQ4y4WVQShEQRjHP/uefes9tr0qaUtx\n",
       "QJwUSgpRHDYuDsqWgyg1jkrioERCqfUoKQ6kFLkpubiQknLcWuHi4KqczLz57Mz3dh7/+u2b+X/v\n",
       "zczOfO97AH+KIdTR5CAmOfCPkmkJdXSVFyQmCT8lGnURwzci1CF6RUzifp+4TprDblZCHar4gcQk\n",
       "7i+JTdo0h+1WCXWorG6JSdwXM3tpc7gSoU5Id4hJd2Dx9cQjovUIdUKaQEzi/kM+fx8RHUSo86uz\n",
       "l+Mr/rfPQUKkYgMAu9GThxam97qTtfYjQBtIwM4HStHYLDgpktnbtQvYfEKUtJ7FrO8yvrNNICFn\n",
       "qmIVB14G3cSLn3G3WGwP+7cSdyZY1iLtJcAOsnQD0aXFYoXiyfbyEbwzgE46vCbSqwze1jEklHTF\n",
       "WLaL/3z2v7GkSOrDZVUs/twcgHHm8qxuBgnZey12Mc03nFXH0yfCb2hQz+8j1EGdZGrA49d2RJce\n",
       "m+fzWbCfgBER6ehQd5XmnNZrWR2CYWP20liZODP44mnk+356ZVTdtY5QB3X0GesRb/szokuPybO+\n",
       "cWBNNMTRumhWLUqUaC8o6o8SY8H/9ee9rM1TVFiXDK4jy1Vp8Sote4YCaL9ff4CzI5qnU9vFJeYQ\n",
       "pVx4iDnEpJB/6vsZmgEIdUrmy0UMn/vnY+gUJNQhJYRJjJ9SBj8DwZdoUynfwQAAAABJRU5ErkJg\n",
       "gg==\n",
       "\" style=\"display:inline;vertical-align:middle;\" /></a><br>"
      ],
      "text/plain": [
       "<IPython.core.display.HTML object>"
      ]
     },
     "metadata": {},
     "output_type": "display_data"
    }
   ],
   "source": [
    "double_negation = Forall(x, Equals(Neg(Neg(x)), x), domain=Complex)"
   ]
  },
  {
   "cell_type": "code",
   "execution_count": 38,
   "metadata": {},
   "outputs": [
    {
     "data": {
      "text/html": [
       "<strong id=\"negated_weak_bound\"><a class=\"ProveItLink\" href=\"proofs/negated_weak_bound/thm_proof.ipynb\">negated_weak_bound</a> (conjecture without proof):<br></strong> <a class=\"ProveItLink\" href=\"../__pv_it/theorems/be8847fb01b79b5fa7089253cf3f96ab64cf3e700/theorem_expr.ipynb\"><img src=\"data:image/png;base64,iVBORw0KGgoAAAANSUhEUgAAAPcAAAAXBAMAAAAl5sTiAAAAMFBMVEX///8AAAAAAAAAAAAAAAAA\n",
       "AAAAAAAAAAAAAAAAAAAAAAAAAAAAAAAAAAAAAAAAAAAv3aB7AAAAD3RSTlMAq1RmmUTNIjK7EInv\n",
       "3XZ/CtNrAAAACXBIWXMAAA7EAAAOxAGVKw4bAAADTklEQVRIx71WXWjTUBj9kvQnbbasr1MZBUUQ\n",
       "HfZBBvNhdkw3QdGywUAmrnOCKCjZozKl81EnVgVrFEomAx2D0fkwYcIogiCKUsSBIJUMq8MJY2/K\n",
       "nrx/ae5Ns4EVPXCaJjn3npvvfve7F+CvYDByCG+k27zZn0OPU/II2v46HqcYY/hme53muxkFfPHX\n",
       "CYNJUB7CN2fr846mKUWELPJuWNSJOE85hqcpW595IEEpQkmSy/RnQSdiHyUepxavz7yB0YPXLLaf\n",
       "LE7naWkRKmhUoTqnfCejB07AFce9VhNKUL4tl9/UaX6E0cHM0pPnKIizzr18xqjqnOmvJGACxTpG\n",
       "eRjgwWYOyY1fDXOfSaR6S6AE0OYuuyELRI0mF+EACkqacgTCsdp+W+c6L9J/QjLKOf7uPaMTZkNZ\n",
       "l1As97jm5ywQNdfQ6JpRP0XKiKWlRGN1yUzpGjwr1JjLeUH4kjJ6oYyRUSFA1tStqnzIcHSOxmqw\n",
       "4R2yWKOUbW++HcygVNVhv+01V+6CnzmXxKTJSUf+wXJ1DgYt9RcKSZES0h3oZ7WngkYZXAKJlB5s\n",
       "vpJ0zfXK1R7Q75DSGIOYf9hRz0YU+bV6lxqv6QYdh7xECU9RqdGN5hDK05kmaxymSEstnE+45stS\n",
       "9rT6gqSrva4WWUd5Roap1DbQ0LXdW2T4yboNETR2JUsJo/gG8ir6e7kVvkMfMQ88zHIJl4jYGdg1\n",
       "j6vho5LuzMQscOsKYO/1o9DrrCy+vHIa6IRBXBcLlCBl8MOf5NVWaIE20zTjuq718tnehFPnBHaX\n",
       "CpKzb91kZJhclbtwrVz0Lh1OAxMLx1FXjSlKluFFsg8vwiu4Qb5cDw5YnPk42X/HenCbhgxr1Jih\n",
       "9GzoJe8TUTOHeIWRYFRLB2Aa4GNwDa09Mucw7yZcuDhHi83IFtTTIL+FKEm/7cZ3qyFFJh3FqdPF\n",
       "SBt8XViB8TjsaE9D+D560P+tMNntfvmxgVWLnUHkrnvVrnKMAi7ROlqmC7uqY0GwpQLdRr1baTxq\n",
       "RNCwp02TKzve7fYxuKt9ilFArrZeuhq5Ax8gIgYlfwCyJLu/pqHXvCXoHg3CNqVwSvE5nHk1y4z8\n",
       "1ECwo7CxuYpWgZmDvh/w/2D8u65/A92m3lGMzjeEAAAAAElFTkSuQmCC\n",
       "\" style=\"display:inline;vertical-align:middle;\" /></a><br>"
      ],
      "text/plain": [
       "<IPython.core.display.HTML object>"
      ]
     },
     "metadata": {},
     "output_type": "display_data"
    }
   ],
   "source": [
    "negated_weak_bound = Forall((x, y), greater_eq(Neg(x), Neg(y)),\n",
    "                            condition=LessEq(x, y), domain=Real)"
   ]
  },
  {
   "cell_type": "code",
   "execution_count": 39,
   "metadata": {},
   "outputs": [
    {
     "data": {
      "text/html": [
       "<strong id=\"negated_strong_bound\"><a class=\"ProveItLink\" href=\"proofs/negated_strong_bound/thm_proof.ipynb\">negated_strong_bound</a> (conjecture without proof):<br></strong> <a class=\"ProveItLink\" href=\"../__pv_it/theorems/ecda4bf163665794ce16a1e6d0f633adb72fedf60/theorem_expr.ipynb\"><img src=\"data:image/png;base64,iVBORw0KGgoAAAANSUhEUgAAAPcAAAAXBAMAAAAl5sTiAAAAMFBMVEX///8AAAAAAAAAAAAAAAAA\n",
       "AAAAAAAAAAAAAAAAAAAAAAAAAAAAAAAAAAAAAAAAAAAv3aB7AAAAD3RSTlMAq1RmmUTNIjK7EInv\n",
       "3XZ/CtNrAAAACXBIWXMAAA7EAAAOxAGVKw4bAAADRUlEQVRIx71WXUgUURQ+sz/uz7jjvoUVslD0\n",
       "UtI+hGAPplgaFLUoCGLkWkEUFBP0UlisPZbRlpBtgYwhlCzI2oOBgSxBEEWxVEIQxkiWZCC+FT51\n",
       "7s/M3Ds7Wm3UB9/uzNzv3u/OueeeOwB/BZ1TQGgt3frd/hxaglFE0PTWiTjKGSc3Wyo0384p4ZO3\n",
       "TppMknEfuTlZmXc0zSijyvDSyTjNOECWKVuZeSDJKMPf7KWTsYuRzFNNVGZezenCC/q2x2Wdq6dB\n",
       "6cdZVVW45Ns4XWC2+Y+SzrU0ScZXc3MvKzQ/wGlhYv7hEwziJM+qD4ags5Z/IQmjGOs4436Au+s5\n",
       "NK/ddNx+TS7V6gIlgAZr8d8ZYigoVF8R9mBTmvEchOLl49ZPtZxlV+sk4xtOy0z3ryoYyx3WA98J\n",
       "3dZxXMHZ1WJLkTFiqCl5zPB8LqWp8LjgYS5to2eM0TNzBJkwBOieuuEUnD4DZI1RbcJrtFhh9Jnu\n",
       "fNubwQXTYLdZbn5+o4e5kMS0yxHH/JRlbqPXCP/AhiIjpJvwZ7l9AUMUnAeFlh5ivtTsmGsLl9vx\n",
       "b2ADlsU4xL3DjiPrUXSrt8PeVxZ2aAONhLzECI+w1Gh6bRXm6USNMQjj1E0NjSQd80UlewygGycQ\n",
       "NVfDRT7QCCfHeGozqPjfaCec7ugs3IQIzt2fZYR+cgMjYby8WA9foZOaB+5lhYRLRswMdE+Tani/\n",
       "pFkrMQn2viLYefUgdDg7y9lqggZaoJfUxQIjKBny8Dtt2gR10JDL5RKapnaI2V6jQ/gpvVIKinVu\n",
       "XefkGFv2tZJaOcs2vVNkBA2MzhzGeMRSjDzDi/QcnoXncI1OWwv2GIL5IJ6/+VvkKpaqzvBOsQyj\n",
       "60Av0Wry1nkia6aQlzgp+tV0APIA74MruPfomsO0k3Ch4hQpNtoQHalXPEJ+5xgRNGo6SgLYysk6\n",
       "fJ5ZgsEEbG1MQ+gOPuj6Uhhrc978UM8ymZIf3X2tt+2hhjklXCivRo4mZioFdoy6j9JEVI/gtPO5\n",
       "nFB2JI1vGB7AkJPfnGs4STo+QBP5gIjojOIHkKGYXWUd3eW1Luh8GoRMRukrxePjzK1Z5BSXBoJN\n",
       "hV+ad36D/wf93w39E04Y1jCDTF/MAAAAAElFTkSuQmCC\n",
       "\" style=\"display:inline;vertical-align:middle;\" /></a><br>"
      ],
      "text/plain": [
       "<IPython.core.display.HTML object>"
      ]
     },
     "metadata": {},
     "output_type": "display_data"
    }
   ],
   "source": [
    "negated_strong_bound = Forall((x, y), greater(Neg(x), Neg(y)),\n",
    "                              condition=Less(x, y), domain=Real)"
   ]
  },
  {
   "cell_type": "code",
   "execution_count": 40,
   "metadata": {},
   "outputs": [
    {
     "name": "stdout",
     "output_type": "stream",
     "text": [
      "These theorems may now be imported from the theory package: proveit.numbers.negation\n"
     ]
    }
   ],
   "source": [
    "%end theorems"
   ]
  },
  {
   "cell_type": "code",
   "execution_count": null,
   "metadata": {},
   "outputs": [],
   "source": []
  }
 ],
 "metadata": {
  "kernelspec": {
   "display_name": "Python 3",
   "language": "python",
   "name": "python3"
  }
 },
 "nbformat": 4,
 "nbformat_minor": 0
}