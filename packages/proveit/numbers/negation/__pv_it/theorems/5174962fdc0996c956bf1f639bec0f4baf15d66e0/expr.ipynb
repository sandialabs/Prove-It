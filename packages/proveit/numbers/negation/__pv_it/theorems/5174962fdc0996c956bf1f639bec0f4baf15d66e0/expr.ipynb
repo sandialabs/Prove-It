{
 "cells": [
  {
   "cell_type": "markdown",
   "metadata": {},
   "source": [
    "Expression of type <a class=\"ProveItLink\" href=\"../../../../../../../doc/html/api/proveit.Lambda.html\">Lambda</a>\n",
    "=======================\n",
    "# from the theory of <a class=\"ProveItLink\" href=\"../../../_theory_nbs_/theory.ipynb\">proveit.numbers.negation</a>"
   ]
  },
  {
   "cell_type": "code",
   "execution_count": 1,
   "metadata": {},
   "outputs": [],
   "source": [
    "import proveit\n",
    "# Automation is not needed when building an expression:\n",
    "proveit.defaults.automation = False # This will speed things up.\n",
    "proveit.defaults.inline_pngs = False # Makes files smaller.\n",
    "%load_expr # Load the stored expression as 'stored_expr'\n",
    "# import Expression classes needed to build the expression\n",
    "from proveit import Conditional, ExprRange, IndexedVar, Lambda, Variable, n, x\n",
    "from proveit.core_expr_types import x_1_to_n\n",
    "from proveit.logic import And, Equals, InSet\n",
    "from proveit.numbers import Add, Complex, Neg, one"
   ]
  },
  {
   "cell_type": "code",
   "execution_count": 2,
   "metadata": {},
   "outputs": [
    {
     "data": {
      "text/html": [
       "<strong id=\"expr\">expr:</strong> <a class=\"ProveItLink\" href=\"expr.ipynb\"><img src=\"expr.png\" style=\"display:inline;vertical-align:middle;\" /></a><br>"
      ],
      "text/plain": [
       "<IPython.core.display.HTML object>"
      ]
     },
     "metadata": {},
     "output_type": "display_data"
    }
   ],
   "source": [
    "# build up the expression from sub-expressions\n",
    "sub_expr1 = Variable(\"_a\", latex_format = r\"{_{-}a}\")\n",
    "sub_expr2 = IndexedVar(x, sub_expr1)\n",
    "expr = Lambda([x_1_to_n], Conditional(Equals(Neg(Add(x_1_to_n)), Add(ExprRange(sub_expr1, Neg(sub_expr2), one, n))), And(ExprRange(sub_expr1, InSet(sub_expr2, Complex), one, n))))"
   ]
  },
  {
   "cell_type": "code",
   "execution_count": 3,
   "metadata": {},
   "outputs": [
    {
     "name": "stdout",
     "output_type": "stream",
     "text": [
      "Passed sanity check: expr matches stored_expr\n"
     ]
    }
   ],
   "source": [
    "# check that the built expression is the same as the stored expression\n",
    "assert expr == stored_expr\n",
    "assert expr._style_id == stored_expr._style_id\n",
    "print(\"Passed sanity check: expr matches stored_expr\")"
   ]
  },
  {
   "cell_type": "code",
   "execution_count": 4,
   "metadata": {},
   "outputs": [
    {
     "name": "stdout",
     "output_type": "stream",
     "text": [
      "\\left(x_{1}, x_{2}, \\ldots, x_{n}\\right) \\mapsto \\left\\{\\left(-\\left(x_{1} +  x_{2} +  \\ldots +  x_{n}\\right)\\right) = \\left(- x_{1} -  x_{2} -  \\ldots -  x_{n}\\right) \\textrm{ if } \\left(x_{1} \\in \\mathbb{C}\\right) \\land  \\left(x_{2} \\in \\mathbb{C}\\right) \\land  \\ldots \\land  \\left(x_{n} \\in \\mathbb{C}\\right)\\right..\n"
     ]
    }
   ],
   "source": [
    "# Show the LaTeX representation of the expression for convenience if you need it.\n",
    "print(stored_expr.latex())"
   ]
  },
  {
   "cell_type": "code",
   "execution_count": 5,
   "metadata": {},
   "outputs": [
    {
     "data": {
      "text/html": [
       "no style options"
      ],
      "text/plain": [
       "no style options"
      ]
     },
     "metadata": {},
     "output_type": "display_data"
    }
   ],
   "source": [
    "stored_expr.style_options()"
   ]
  },
  {
   "cell_type": "code",
   "execution_count": 6,
   "metadata": {},
   "outputs": [
    {
     "data": {
      "text/html": [
       "<table><tr><th>&nbsp;</th><th>core type</th><th>sub-expressions</th><th>expression</th></tr>\n",
       "<tr><td>0</td><td>Lambda</td><td>parameters:&nbsp;18<br>body:&nbsp;1<br></td><td><a class=\"ProveItLink\" href=\"expr.ipynb\"><img src=\"expr.png\" style=\"display:inline;vertical-align:middle;\" /></a></td></tr>\n",
       "<tr><td>1</td><td>Conditional</td><td>value:&nbsp;2<br>condition:&nbsp;3<br></td><td><a class=\"ProveItLink\" href=\"../d93a7e3b1ea7d079a6075c58371f73e3af94806d0/expr.ipynb\"><img src=\"../d93a7e3b1ea7d079a6075c58371f73e3af94806d0/expr.png\" style=\"display:inline;vertical-align:middle;\" /></a></td></tr>\n",
       "<tr><td>2</td><td>Operation</td><td>operator:&nbsp;4<br>operands:&nbsp;5<br></td><td><a class=\"ProveItLink\" href=\"../0fe2be3e448e9b73f59aea5e80967fa8862933370/expr.ipynb\"><img src=\"../0fe2be3e448e9b73f59aea5e80967fa8862933370/expr.png\" style=\"display:inline;vertical-align:middle;\" /></a></td></tr>\n",
       "<tr><td>3</td><td>Operation</td><td>operator:&nbsp;6<br>operands:&nbsp;7<br></td><td><a class=\"ProveItLink\" href=\"../36a9f7cde0c96549106bc52c5a8313bd6910cf7e0/expr.ipynb\"><img src=\"../36a9f7cde0c96549106bc52c5a8313bd6910cf7e0/expr.png\" style=\"display:inline;vertical-align:middle;\" /></a></td></tr>\n",
       "<tr><td>4</td><td>Literal</td><td></td><td><a class=\"ProveItLink\" href=\"../../../../../logic/equality/__pv_it/common/fb96dc12b2aa8801dda64d0132b396c63d1502bb0/expr.ipynb\"><img src=\"../../../../../logic/equality/__pv_it/common/fb96dc12b2aa8801dda64d0132b396c63d1502bb0/expr.png\" style=\"display:inline;vertical-align:middle;\" /></a></td></tr>\n",
       "<tr><td>5</td><td>ExprTuple</td><td>8, 9</td><td><a class=\"ProveItLink\" href=\"../5071a3bc9e700d913fde67f969cee8410c74ae160/expr.ipynb\"><img src=\"../5071a3bc9e700d913fde67f969cee8410c74ae160/expr.png\" style=\"display:inline;vertical-align:middle;\" /></a></td></tr>\n",
       "<tr><td>6</td><td>Literal</td><td></td><td><a class=\"ProveItLink\" href=\"../../../../../logic/booleans/conjunction/__pv_it/common/42118ff318bd65d98b1393f64ce7c2269feef76e0/expr.ipynb\"><img src=\"../../../../../logic/booleans/conjunction/__pv_it/common/42118ff318bd65d98b1393f64ce7c2269feef76e0/expr.png\" style=\"display:inline;vertical-align:middle;\" /></a></td></tr>\n",
       "<tr><td>7</td><td>ExprTuple</td><td>10</td><td><a class=\"ProveItLink\" href=\"../6acab1405dac3e7550296c66f24888b7c48eadf80/expr.ipynb\"><img src=\"../6acab1405dac3e7550296c66f24888b7c48eadf80/expr.png\" style=\"display:inline;vertical-align:middle;\" /></a></td></tr>\n",
       "<tr><td>8</td><td>Operation</td><td>operator:&nbsp;28<br>operand:&nbsp;14<br></td><td><a class=\"ProveItLink\" href=\"../d07569dc80fc4455dd86fc221fde0796ae0bc49f0/expr.ipynb\"><img src=\"../d07569dc80fc4455dd86fc221fde0796ae0bc49f0/expr.png\" style=\"display:inline;vertical-align:middle;\" /></a></td></tr>\n",
       "<tr><td>9</td><td>Operation</td><td>operator:&nbsp;17<br>operands:&nbsp;12<br></td><td><a class=\"ProveItLink\" href=\"../b97f917353b0f13eece810b54a700202971f52a80/expr.ipynb\"><img src=\"../b97f917353b0f13eece810b54a700202971f52a80/expr.png\" style=\"display:inline;vertical-align:middle;\" /></a></td></tr>\n",
       "<tr><td>10</td><td>ExprRange</td><td>lambda_map:&nbsp;13<br>start_index:&nbsp;26<br>end_index:&nbsp;27<br></td><td><a class=\"ProveItLink\" href=\"../2de9369b45a908c70ce51ac54a63f9ba591079430/expr.ipynb\"><img src=\"../2de9369b45a908c70ce51ac54a63f9ba591079430/expr.png\" style=\"display:inline;vertical-align:middle;\" /></a></td></tr>\n",
       "<tr><td>11</td><td>ExprTuple</td><td>14</td><td><a class=\"ProveItLink\" href=\"../87940f845e4a6a1b0a6bc9522f1a9169933c6e350/expr.ipynb\"><img src=\"../87940f845e4a6a1b0a6bc9522f1a9169933c6e350/expr.png\" style=\"display:inline;vertical-align:middle;\" /></a></td></tr>\n",
       "<tr><td>12</td><td>ExprTuple</td><td>15</td><td><a class=\"ProveItLink\" href=\"../674638a466212a02b7eb0fb922aec0913e8f9b020/expr.ipynb\"><img src=\"../674638a466212a02b7eb0fb922aec0913e8f9b020/expr.png\" style=\"display:inline;vertical-align:middle;\" /></a></td></tr>\n",
       "<tr><td>13</td><td>Lambda</td><td>parameter:&nbsp;33<br>body:&nbsp;16<br></td><td><a class=\"ProveItLink\" href=\"../ab4411f29e7ed51e7ebbb4f3e0900ecb60f90bdd0/expr.ipynb\"><img src=\"../ab4411f29e7ed51e7ebbb4f3e0900ecb60f90bdd0/expr.png\" style=\"display:inline;vertical-align:middle;\" /></a></td></tr>\n",
       "<tr><td>14</td><td>Operation</td><td>operator:&nbsp;17<br>operands:&nbsp;18<br></td><td><a class=\"ProveItLink\" href=\"../ed7c4c030739d9d34c3d12f7ff851cc6c34ae4c80/expr.ipynb\"><img src=\"../ed7c4c030739d9d34c3d12f7ff851cc6c34ae4c80/expr.png\" style=\"display:inline;vertical-align:middle;\" /></a></td></tr>\n",
       "<tr><td>15</td><td>ExprRange</td><td>lambda_map:&nbsp;19<br>start_index:&nbsp;26<br>end_index:&nbsp;27<br></td><td><a class=\"ProveItLink\" href=\"../9b4ad645794ef8bac6c4a3d54773432d756531e00/expr.ipynb\"><img src=\"../9b4ad645794ef8bac6c4a3d54773432d756531e00/expr.png\" style=\"display:inline;vertical-align:middle;\" /></a></td></tr>\n",
       "<tr><td>16</td><td>Operation</td><td>operator:&nbsp;20<br>operands:&nbsp;21<br></td><td><a class=\"ProveItLink\" href=\"../d611efc6fe9c76d0f56638c84ffa73d0055fd2030/expr.ipynb\"><img src=\"../d611efc6fe9c76d0f56638c84ffa73d0055fd2030/expr.png\" style=\"display:inline;vertical-align:middle;\" /></a></td></tr>\n",
       "<tr><td>17</td><td>Literal</td><td></td><td><a class=\"ProveItLink\" href=\"../../../../addition/__pv_it/common/4b7effaab3619a1c2c38fe2dee8601df8ec714590/expr.ipynb\"><img src=\"../../../../addition/__pv_it/common/4b7effaab3619a1c2c38fe2dee8601df8ec714590/expr.png\" style=\"display:inline;vertical-align:middle;\" /></a></td></tr>\n",
       "<tr><td>18</td><td>ExprTuple</td><td>22</td><td><a class=\"ProveItLink\" href=\"../e29d2811b42e43e69e77c1c44413b65518ecad320/expr.ipynb\"><img src=\"../e29d2811b42e43e69e77c1c44413b65518ecad320/expr.png\" style=\"display:inline;vertical-align:middle;\" /></a></td></tr>\n",
       "<tr><td>19</td><td>Lambda</td><td>parameter:&nbsp;33<br>body:&nbsp;23<br></td><td><a class=\"ProveItLink\" href=\"../47360a719c091c05b88bfcda23b643ed9d9986ae0/expr.ipynb\"><img src=\"../47360a719c091c05b88bfcda23b643ed9d9986ae0/expr.png\" style=\"display:inline;vertical-align:middle;\" /></a></td></tr>\n",
       "<tr><td>20</td><td>Literal</td><td></td><td><a class=\"ProveItLink\" href=\"../../../../../logic/sets/membership/__pv_it/common/477487d8796864d23d5810f83761435f25167f690/expr.ipynb\"><img src=\"../../../../../logic/sets/membership/__pv_it/common/477487d8796864d23d5810f83761435f25167f690/expr.png\" style=\"display:inline;vertical-align:middle;\" /></a></td></tr>\n",
       "<tr><td>21</td><td>ExprTuple</td><td>30, 24</td><td><a class=\"ProveItLink\" href=\"../03742928b5d35a45febd8f0078a10fe1844f10720/expr.ipynb\"><img src=\"../03742928b5d35a45febd8f0078a10fe1844f10720/expr.png\" style=\"display:inline;vertical-align:middle;\" /></a></td></tr>\n",
       "<tr><td>22</td><td>ExprRange</td><td>lambda_map:&nbsp;25<br>start_index:&nbsp;26<br>end_index:&nbsp;27<br></td><td><a class=\"ProveItLink\" href=\"../../../../../core_expr_types/__pv_it/common/d50f819f834d55ea1b9fad150926a94bf07ad8fc0/expr.ipynb\"><img src=\"../../../../../core_expr_types/__pv_it/common/d50f819f834d55ea1b9fad150926a94bf07ad8fc0/expr.png\" style=\"display:inline;vertical-align:middle;\" /></a></td></tr>\n",
       "<tr><td>23</td><td>Operation</td><td>operator:&nbsp;28<br>operand:&nbsp;30<br></td><td><a class=\"ProveItLink\" href=\"../41261caf70bd65be5b6eb5c2f2923b9f342bc8970/expr.ipynb\"><img src=\"../41261caf70bd65be5b6eb5c2f2923b9f342bc8970/expr.png\" style=\"display:inline;vertical-align:middle;\" /></a></td></tr>\n",
       "<tr><td>24</td><td>Literal</td><td></td><td><a class=\"ProveItLink\" href=\"../../../../number_sets/complex_numbers/__pv_it/common/d18a028138f659eda00de597c28a3447fe87eb100/expr.ipynb\"><img src=\"../../../../number_sets/complex_numbers/__pv_it/common/d18a028138f659eda00de597c28a3447fe87eb100/expr.png\" style=\"display:inline;vertical-align:middle;\" /></a></td></tr>\n",
       "<tr><td>25</td><td>Lambda</td><td>parameter:&nbsp;33<br>body:&nbsp;30<br></td><td><a class=\"ProveItLink\" href=\"../../../../../core_expr_types/__pv_it/common/f8f30fee5e5b4e37951ff8886b574795bf35d80c0/expr.ipynb\"><img src=\"../../../../../core_expr_types/__pv_it/common/f8f30fee5e5b4e37951ff8886b574795bf35d80c0/expr.png\" style=\"display:inline;vertical-align:middle;\" /></a></td></tr>\n",
       "<tr><td>26</td><td>Literal</td><td></td><td><a class=\"ProveItLink\" href=\"../../../../numerals/__pv_it/common/682157d4892d216d9e5626ed533aff9b56b9506e0/expr.ipynb\"><img src=\"../../../../numerals/__pv_it/common/682157d4892d216d9e5626ed533aff9b56b9506e0/expr.png\" style=\"display:inline;vertical-align:middle;\" /></a></td></tr>\n",
       "<tr><td>27</td><td>Variable</td><td></td><td><a class=\"ProveItLink\" href=\"../../../../../__pv_it/common/8968bb04eb3f7dfa02353397ce929b025bbd79c20/expr.ipynb\"><img src=\"../../../../../__pv_it/common/8968bb04eb3f7dfa02353397ce929b025bbd79c20/expr.png\" style=\"display:inline;vertical-align:middle;\" /></a></td></tr>\n",
       "<tr><td>28</td><td>Literal</td><td></td><td><a class=\"ProveItLink\" href=\"../../common/221b3c4d1770ee9051b7c044c3f9ec61196fc34b0/expr.ipynb\"><img src=\"../../common/221b3c4d1770ee9051b7c044c3f9ec61196fc34b0/expr.png\" style=\"display:inline;vertical-align:middle;\" /></a></td></tr>\n",
       "<tr><td>29</td><td>ExprTuple</td><td>30</td><td><a class=\"ProveItLink\" href=\"../c3fb258b21dd7b94a146f8c3ae39c8c158e119dd0/expr.ipynb\"><img src=\"../c3fb258b21dd7b94a146f8c3ae39c8c158e119dd0/expr.png\" style=\"display:inline;vertical-align:middle;\" /></a></td></tr>\n",
       "<tr><td>30</td><td>IndexedVar</td><td>variable:&nbsp;31<br>index:&nbsp;33<br></td><td><a class=\"ProveItLink\" href=\"../../../../../core_expr_types/__pv_it/common/b7a46615d4e67a28ab963909b818c72af8e8e7c60/expr.ipynb\"><img src=\"../../../../../core_expr_types/__pv_it/common/b7a46615d4e67a28ab963909b818c72af8e8e7c60/expr.png\" style=\"display:inline;vertical-align:middle;\" /></a></td></tr>\n",
       "<tr><td>31</td><td>Variable</td><td></td><td><a class=\"ProveItLink\" href=\"../../../../../__pv_it/common/a0d9d672aa5e272d907247690c152cc2c6daafb70/expr.ipynb\"><img src=\"../../../../../__pv_it/common/a0d9d672aa5e272d907247690c152cc2c6daafb70/expr.png\" style=\"display:inline;vertical-align:middle;\" /></a></td></tr>\n",
       "<tr><td>32</td><td>ExprTuple</td><td>33</td><td><a class=\"ProveItLink\" href=\"../../../../../core_expr_types/__pv_it/common/4b0dd6be36d76552eda6a95d5b4a27f5a5b62f900/expr.ipynb\"><img src=\"../../../../../core_expr_types/__pv_it/common/4b0dd6be36d76552eda6a95d5b4a27f5a5b62f900/expr.png\" style=\"display:inline;vertical-align:middle;\" /></a></td></tr>\n",
       "<tr><td>33</td><td>Variable</td><td></td><td><a class=\"ProveItLink\" href=\"../../../../../core_expr_types/__pv_it/common/006c465e50948aa2b52285e2de47974f741255cc0/expr.ipynb\"><img src=\"../../../../../core_expr_types/__pv_it/common/006c465e50948aa2b52285e2de47974f741255cc0/expr.png\" style=\"display:inline;vertical-align:middle;\" /></a></td></tr>\n",
       "</table>\n"
      ],
      "text/plain": [
       "0. (x_{1}, x_{2}, ..., x_{n}) -> {(-(x_{1} +  x_{2} +  ... +  x_{n})) = (- x_{1} -  x_{2} -  ... -  x_{n}) if (x_{1} in Complex) and  (x_{2} in Complex) and  ... and  (x_{n} in Complex).\n",
       "   core type: Lambda\n",
       "   parameters: 18\\n   body: 1\n",
       "1. {(-(x_{1} +  x_{2} +  ... +  x_{n})) = (- x_{1} -  x_{2} -  ... -  x_{n}) if (x_{1} in Complex) and  (x_{2} in Complex) and  ... and  (x_{n} in Complex).\n",
       "   core type: Conditional\n",
       "   value: 2\n",
       "   condition: 3\n",
       "2. (-(x_{1} +  x_{2} +  ... +  x_{n})) = (- x_{1} -  x_{2} -  ... -  x_{n})\n",
       "   core type: Operation\n",
       "   operator: 4\n",
       "   operands: 5\n",
       "3. (x_{1} in Complex) and  (x_{2} in Complex) and  ... and  (x_{n} in Complex)\n",
       "   core type: Operation\n",
       "   operator: 6\n",
       "   operands: 7\n",
       "4. =\n",
       "   core type: Literal\n",
       "   sub-expressions: \n",
       "5. (-(x_{1} +  x_{2} +  ... +  x_{n}), - x_{1} -  x_{2} -  ... -  x_{n})\n",
       "   core type: ExprTuple\n",
       "   sub-expressions: 8, 9\n",
       "6. and\n",
       "   core type: Literal\n",
       "   sub-expressions: \n",
       "7. ((x_{1} in Complex), (x_{2} in Complex), ..., (x_{n} in Complex))\n",
       "   core type: ExprTuple\n",
       "   sub-expressions: 10\n",
       "8. -(x_{1} +  x_{2} +  ... +  x_{n})\n",
       "   core type: Operation\n",
       "   operator: 28\n",
       "   operand: 14\n",
       "9. - x_{1} -  x_{2} -  ... -  x_{n}\n",
       "   core type: Operation\n",
       "   operator: 17\n",
       "   operands: 12\n",
       "10. (x_{1} in Complex), (x_{2} in Complex), ..., (x_{n} in Complex)\n",
       "    core type: ExprRange\n",
       "    lambda_map: 13\n",
       "    start_index: 26\n",
       "    end_index: 27\n",
       "11. (x_{1} +  x_{2} +  ... +  x_{n})\n",
       "    core type: ExprTuple\n",
       "    sub-expressions: 14\n",
       "12. ((-x_{1}), (-x_{2}), ..., (-x_{n}))\n",
       "    core type: ExprTuple\n",
       "    sub-expressions: 15\n",
       "13. _a -> (x_{_a} in Complex)\n",
       "    core type: Lambda\n",
       "    parameter: 33\n",
       "    body: 16\n",
       "14. x_{1} +  x_{2} +  ... +  x_{n}\n",
       "    core type: Operation\n",
       "    operator: 17\n",
       "    operands: 18\n",
       "15. (-x_{1}), (-x_{2}), ..., (-x_{n})\n",
       "    core type: ExprRange\n",
       "    lambda_map: 19\n",
       "    start_index: 26\n",
       "    end_index: 27\n",
       "16. x_{_a} in Complex\n",
       "    core type: Operation\n",
       "    operator: 20\n",
       "    operands: 21\n",
       "17. +\n",
       "    core type: Literal\n",
       "    sub-expressions: \n",
       "18. (x_{1}, x_{2}, ..., x_{n})\n",
       "    core type: ExprTuple\n",
       "    sub-expressions: 22\n",
       "19. _a -> (-x_{_a})\n",
       "    core type: Lambda\n",
       "    parameter: 33\n",
       "    body: 23\n",
       "20. in\n",
       "    core type: Literal\n",
       "    sub-expressions: \n",
       "21. (x_{_a}, Complex)\n",
       "    core type: ExprTuple\n",
       "    sub-expressions: 30, 24\n",
       "22. x_{1}, x_{2}, ..., x_{n}\n",
       "    core type: ExprRange\n",
       "    lambda_map: 25\n",
       "    start_index: 26\n",
       "    end_index: 27\n",
       "23. -x_{_a}\n",
       "    core type: Operation\n",
       "    operator: 28\n",
       "    operand: 30\n",
       "24. Complex\n",
       "    core type: Literal\n",
       "    sub-expressions: \n",
       "25. _a -> x_{_a}\n",
       "    core type: Lambda\n",
       "    parameter: 33\n",
       "    body: 30\n",
       "26. 1\n",
       "    core type: Literal\n",
       "    sub-expressions: \n",
       "27. n\n",
       "    core type: Variable\n",
       "    sub-expressions: \n",
       "28. -\n",
       "    core type: Literal\n",
       "    sub-expressions: \n",
       "29. (x_{_a})\n",
       "    core type: ExprTuple\n",
       "    sub-expressions: 30\n",
       "30. x_{_a}\n",
       "    core type: IndexedVar\n",
       "variable: 31\n",
       "index: 33\n",
       "31. x\n",
       "    core type: Variable\n",
       "    sub-expressions: \n",
       "32. (_a)\n",
       "    core type: ExprTuple\n",
       "    sub-expressions: 33\n",
       "33. _a\n",
       "    core type: Variable\n",
       "    sub-expressions: "
      ]
     },
     "metadata": {},
     "output_type": "display_data"
    }
   ],
   "source": [
    "# display the expression information\n",
    "stored_expr.expr_info()"
   ]
  },
  {
   "cell_type": "code",
   "execution_count": null,
   "metadata": {},
   "outputs": [],
   "source": []
  }
 ],
 "metadata": {
  "kernelspec": {
   "display_name": "Python 3",
   "language": "python",
   "name": "python3"
  }
 },
 "nbformat": 4,
 "nbformat_minor": 0
}