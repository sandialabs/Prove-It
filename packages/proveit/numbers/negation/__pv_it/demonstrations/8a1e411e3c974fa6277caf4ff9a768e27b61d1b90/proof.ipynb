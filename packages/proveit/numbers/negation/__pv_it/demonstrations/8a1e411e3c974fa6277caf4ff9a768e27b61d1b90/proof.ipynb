{
 "cells": [
  {
   "cell_type": "markdown",
   "metadata": {},
   "source": [
    "Show the Proof\n",
    "========"
   ]
  },
  {
   "cell_type": "code",
   "execution_count": 1,
   "metadata": {},
   "outputs": [
    {
     "data": {
      "text/html": [
       "<table><tr><th>&nbsp;</th><th>step type</th><th>requirements</th><th>statement</th></tr>\n",
       "<tr><td><a name=\"proveit.numbers.negation.demonstrations.8a1e411e3c974fa6277caf4ff9a768e27b61d1b90_step0\">0</a></td><td>instantiation</td><td><a href=\"#proveit.numbers.negation.demonstrations.8a1e411e3c974fa6277caf4ff9a768e27b61d1b90_step1\">1</a>, <a href=\"#proveit.numbers.negation.demonstrations.8a1e411e3c974fa6277caf4ff9a768e27b61d1b90_step2\">2</a></td><td><span style=\"font-size:20px;\"><a class=\"ProveItLink\" href=\"../1cfa249cf97fe568635ac2d019ccae32a257725b0/expr.ipynb\"><img src=\"../1cfa249cf97fe568635ac2d019ccae32a257725b0/expr.png\" style=\"display:inline;vertical-align:middle;\" /></a> <a class=\"ProveItLink\" href=\"proof.ipynb\" style=\"text-decoration: none\">&nbsp;&#x22A2;&nbsp;&nbsp;</a><a class=\"ProveItLink\" href=\"../d769619f49079fa5835dd997ef57865419854f9d0/expr.ipynb\"><img src=\"../d769619f49079fa5835dd997ef57865419854f9d0/expr.png\" style=\"display:inline;vertical-align:middle;\" /></a></span></td></tr>\n",
       "<tr><td>&nbsp;</td><td colspan=4 style=\"text-align:left\"><span style=\"font-size:20px;\"><a class=\"ProveItLink\" href=\"../../../../../__pv_it/common/c06c606ec12678c58933ac85412ecadc2ae28be60/expr.ipynb\"><img src=\"../../../../../__pv_it/common/c06c606ec12678c58933ac85412ecadc2ae28be60/expr.png\" style=\"display:inline;vertical-align:middle;\" /></a> : <a class=\"ProveItLink\" href=\"../../../../../__pv_it/common/a0d9d672aa5e272d907247690c152cc2c6daafb70/expr.ipynb\"><img src=\"../../../../../__pv_it/common/a0d9d672aa5e272d907247690c152cc2c6daafb70/expr.png\" style=\"display:inline;vertical-align:middle;\" /></a></span></td></tr><tr><td><a name=\"proveit.numbers.negation.demonstrations.8a1e411e3c974fa6277caf4ff9a768e27b61d1b90_step1\">1</a></td><td>theorem</td><td></td><td><span style=\"font-size:20px;\"> <a class=\"ProveItLink\" href=\"../../../_theory_nbs_/proofs/int_nonzero_closure/thm_proof.ipynb\" style=\"text-decoration: none\">&nbsp;&#x22A2;&nbsp;&nbsp;</a><a class=\"ProveItLink\" href=\"../../theorems/889b22c4ebe4877cc80a1adc23d43844b6e453f10/expr.ipynb\"><img src=\"../../theorems/889b22c4ebe4877cc80a1adc23d43844b6e453f10/expr.png\" style=\"display:inline;vertical-align:middle;\" /></a></span></td></tr>\n",
       "<tr><td>&nbsp;</td><td colspan=4 style-\"text-align:left\"><a class=\"ProveItLink\" href=\"../../../_theory_nbs_/proofs/int_nonzero_closure/thm_proof.ipynb\">proveit.numbers.negation.int_nonzero_closure</a></td></tr><tr><td><a name=\"proveit.numbers.negation.demonstrations.8a1e411e3c974fa6277caf4ff9a768e27b61d1b90_step2\">2</a></td><td>assumption</td><td></td><td><span style=\"font-size:20px;\"><a class=\"ProveItLink\" href=\"../1cfa249cf97fe568635ac2d019ccae32a257725b0/expr.ipynb\"><img src=\"../1cfa249cf97fe568635ac2d019ccae32a257725b0/expr.png\" style=\"display:inline;vertical-align:middle;\" /></a> <a class=\"ProveItLink\" href=\"../c9905d2d9315423c21133dd6f803f92ee4a8a1800/proof.ipynb\" style=\"text-decoration: none\">&nbsp;&#x22A2;&nbsp;&nbsp;</a><a class=\"ProveItLink\" href=\"../1cfa249cf97fe568635ac2d019ccae32a257725b0/expr.ipynb\"><img src=\"../1cfa249cf97fe568635ac2d019ccae32a257725b0/expr.png\" style=\"display:inline;vertical-align:middle;\" /></a></span></td></tr>\n",
       "</table>"
      ],
      "text/plain": [
       "<proveit._core_.proof._ShowProof at 0x7fdcd421bf28>"
      ]
     },
     "execution_count": 1,
     "metadata": {},
     "output_type": "execute_result"
    }
   ],
   "source": [
    "import proveit\n",
    "# Automation is not needed when only showing a stored proof:\n",
    "proveit.defaults.automation = False # This will speed things up.\n",
    "proveit.defaults.inline_pngs = False # Makes files smaller.\n",
    "%show_proof"
   ]
  },
  {
   "cell_type": "code",
   "execution_count": null,
   "metadata": {},
   "outputs": [],
   "source": []
  }
 ],
 "metadata": {
  "kernelspec": {
   "display_name": "Python 3",
   "language": "python",
   "name": "python3"
  }
 },
 "nbformat": 4,
 "nbformat_minor": 0
}