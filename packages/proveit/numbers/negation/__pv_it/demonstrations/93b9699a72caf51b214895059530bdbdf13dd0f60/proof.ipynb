{
 "cells": [
  {
   "cell_type": "markdown",
   "metadata": {},
   "source": [
    "Show the Proof\n",
    "========"
   ]
  },
  {
   "cell_type": "code",
   "execution_count": 1,
   "metadata": {},
   "outputs": [
    {
     "data": {
      "text/html": [
       "<table><tr><th>&nbsp;</th><th>step type</th><th>requirements</th><th>statement</th></tr>\n",
       "<tr><td><a name=\"proveit.numbers.negation.demonstrations.93b9699a72caf51b214895059530bdbdf13dd0f60_step0\">0</a></td><td>instantiation</td><td><a href=\"#proveit.numbers.negation.demonstrations.93b9699a72caf51b214895059530bdbdf13dd0f60_step1\">1</a>, <a href=\"#proveit.numbers.negation.demonstrations.93b9699a72caf51b214895059530bdbdf13dd0f60_step2\">2</a></td><td><span style=\"font-size:20px;\"><a class=\"ProveItLink\" href=\"../7bc2f18fdfd6636d1798646d5dcb148b525707f00/expr.ipynb\"><img src=\"../7bc2f18fdfd6636d1798646d5dcb148b525707f00/expr.png\" style=\"display:inline;vertical-align:middle;\" /></a> <a class=\"ProveItLink\" href=\"proof.ipynb\" style=\"text-decoration: none\">&nbsp;&#x22A2;&nbsp;&nbsp;</a><a class=\"ProveItLink\" href=\"../fce076e192f44bc91006ba0d26d9d6fc8386b00a0/expr.ipynb\"><img src=\"../fce076e192f44bc91006ba0d26d9d6fc8386b00a0/expr.png\" style=\"display:inline;vertical-align:middle;\" /></a></span></td></tr>\n",
       "<tr><td>&nbsp;</td><td colspan=4 style=\"text-align:left\"><span style=\"font-size:20px;\"><a class=\"ProveItLink\" href=\"../../../../../__pv_it/common/c06c606ec12678c58933ac85412ecadc2ae28be60/expr.ipynb\"><img src=\"../../../../../__pv_it/common/c06c606ec12678c58933ac85412ecadc2ae28be60/expr.png\" style=\"display:inline;vertical-align:middle;\" /></a> : <a class=\"ProveItLink\" href=\"../../../../../__pv_it/common/a0d9d672aa5e272d907247690c152cc2c6daafb70/expr.ipynb\"><img src=\"../../../../../__pv_it/common/a0d9d672aa5e272d907247690c152cc2c6daafb70/expr.png\" style=\"display:inline;vertical-align:middle;\" /></a></span></td></tr><tr><td><a name=\"proveit.numbers.negation.demonstrations.93b9699a72caf51b214895059530bdbdf13dd0f60_step1\">1</a></td><td>theorem</td><td></td><td><span style=\"font-size:20px;\"> <a class=\"ProveItLink\" href=\"../../../_theory_nbs_/proofs/rational_pos_closure/thm_proof.ipynb\" style=\"text-decoration: none\">&nbsp;&#x22A2;&nbsp;&nbsp;</a><a class=\"ProveItLink\" href=\"../../theorems/bee7b047adf6e788083697736e4707682da9ad190/expr.ipynb\"><img src=\"../../theorems/bee7b047adf6e788083697736e4707682da9ad190/expr.png\" style=\"display:inline;vertical-align:middle;\" /></a></span></td></tr>\n",
       "<tr><td>&nbsp;</td><td colspan=4 style-\"text-align:left\"><a class=\"ProveItLink\" href=\"../../../_theory_nbs_/proofs/rational_pos_closure/thm_proof.ipynb\">proveit.numbers.negation.rational_pos_closure</a></td></tr><tr><td><a name=\"proveit.numbers.negation.demonstrations.93b9699a72caf51b214895059530bdbdf13dd0f60_step2\">2</a></td><td>assumption</td><td></td><td><span style=\"font-size:20px;\"><a class=\"ProveItLink\" href=\"../7bc2f18fdfd6636d1798646d5dcb148b525707f00/expr.ipynb\"><img src=\"../7bc2f18fdfd6636d1798646d5dcb148b525707f00/expr.png\" style=\"display:inline;vertical-align:middle;\" /></a> <a class=\"ProveItLink\" href=\"../fd14a83100a465e2b969b1b27b31a4c78466e44d0/proof.ipynb\" style=\"text-decoration: none\">&nbsp;&#x22A2;&nbsp;&nbsp;</a><a class=\"ProveItLink\" href=\"../7bc2f18fdfd6636d1798646d5dcb148b525707f00/expr.ipynb\"><img src=\"../7bc2f18fdfd6636d1798646d5dcb148b525707f00/expr.png\" style=\"display:inline;vertical-align:middle;\" /></a></span></td></tr>\n",
       "</table>"
      ],
      "text/plain": [
       "<proveit._core_.proof._ShowProof at 0x7f3e46a4cac8>"
      ]
     },
     "execution_count": 1,
     "metadata": {},
     "output_type": "execute_result"
    }
   ],
   "source": [
    "import proveit\n",
    "# Automation is not needed when only showing a stored proof:\n",
    "proveit.defaults.automation = False # This will speed things up.\n",
    "proveit.defaults.inline_pngs = False # Makes files smaller.\n",
    "%show_proof"
   ]
  },
  {
   "cell_type": "code",
   "execution_count": null,
   "metadata": {},
   "outputs": [],
   "source": []
  }
 ],
 "metadata": {
  "kernelspec": {
   "display_name": "Python 3",
   "language": "python",
   "name": "python3"
  }
 },
 "nbformat": 4,
 "nbformat_minor": 0
}