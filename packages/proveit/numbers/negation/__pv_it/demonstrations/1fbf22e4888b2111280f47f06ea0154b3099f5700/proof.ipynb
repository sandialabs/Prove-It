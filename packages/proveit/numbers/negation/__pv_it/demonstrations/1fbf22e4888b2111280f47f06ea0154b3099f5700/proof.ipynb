{
 "cells": [
  {
   "cell_type": "markdown",
   "metadata": {},
   "source": [
    "Show the Proof\n",
    "========"
   ]
  },
  {
   "cell_type": "code",
   "execution_count": 1,
   "metadata": {},
   "outputs": [
    {
     "data": {
      "text/html": [
       "<table><tr><th>&nbsp;</th><th>step type</th><th>requirements</th><th>statement</th></tr>\n",
       "<tr><td><a name=\"proveit.numbers.negation.demonstrations.1fbf22e4888b2111280f47f06ea0154b3099f5700_step0\">0</a></td><td>instantiation</td><td><a href=\"#proveit.numbers.negation.demonstrations.1fbf22e4888b2111280f47f06ea0154b3099f5700_step1\">1</a>, <a href=\"#proveit.numbers.negation.demonstrations.1fbf22e4888b2111280f47f06ea0154b3099f5700_step2\">2</a></td><td><span style=\"font-size:20px;\"><a class=\"ProveItLink\" href=\"../../../../number_sets/real_numbers/__pv_it/theorems/e8ba26066a2cd9c7bb2e9e63a3891f50edb516900/expr.ipynb\"><img src=\"../../../../number_sets/real_numbers/__pv_it/theorems/e8ba26066a2cd9c7bb2e9e63a3891f50edb516900/expr.png\" style=\"display:inline;vertical-align:middle;\" /></a> <a class=\"ProveItLink\" href=\"proof.ipynb\" style=\"text-decoration: none\">&nbsp;&#x22A2;&nbsp;&nbsp;</a><a class=\"ProveItLink\" href=\"../72efb99084d4ca284284bf03f1cf0224410b33cc0/expr.ipynb\"><img src=\"../72efb99084d4ca284284bf03f1cf0224410b33cc0/expr.png\" style=\"display:inline;vertical-align:middle;\" /></a></span></td></tr>\n",
       "<tr><td>&nbsp;</td><td colspan=4 style=\"text-align:left\"><span style=\"font-size:20px;\"><a class=\"ProveItLink\" href=\"../../../../../__pv_it/common/c06c606ec12678c58933ac85412ecadc2ae28be60/expr.ipynb\"><img src=\"../../../../../__pv_it/common/c06c606ec12678c58933ac85412ecadc2ae28be60/expr.png\" style=\"display:inline;vertical-align:middle;\" /></a> : <a class=\"ProveItLink\" href=\"../../../../../__pv_it/common/a0d9d672aa5e272d907247690c152cc2c6daafb70/expr.ipynb\"><img src=\"../../../../../__pv_it/common/a0d9d672aa5e272d907247690c152cc2c6daafb70/expr.png\" style=\"display:inline;vertical-align:middle;\" /></a></span></td></tr><tr><td><a name=\"proveit.numbers.negation.demonstrations.1fbf22e4888b2111280f47f06ea0154b3099f5700_step1\">1</a></td><td>theorem</td><td></td><td><span style=\"font-size:20px;\"> <a class=\"ProveItLink\" href=\"../../../_theory_nbs_/proofs/real_nonzero_closure/thm_proof.ipynb\" style=\"text-decoration: none\">&nbsp;&#x22A2;&nbsp;&nbsp;</a><a class=\"ProveItLink\" href=\"../../theorems/a980e096a20cb6b26406b129dbce56c630608ec50/expr.ipynb\"><img src=\"../../theorems/a980e096a20cb6b26406b129dbce56c630608ec50/expr.png\" style=\"display:inline;vertical-align:middle;\" /></a></span></td></tr>\n",
       "<tr><td>&nbsp;</td><td colspan=4 style-\"text-align:left\"><a class=\"ProveItLink\" href=\"../../../_theory_nbs_/proofs/real_nonzero_closure/thm_proof.ipynb\">proveit.numbers.negation.real_nonzero_closure</a></td></tr><tr><td><a name=\"proveit.numbers.negation.demonstrations.1fbf22e4888b2111280f47f06ea0154b3099f5700_step2\">2</a></td><td>assumption</td><td></td><td><span style=\"font-size:20px;\"><a class=\"ProveItLink\" href=\"../../../../number_sets/real_numbers/__pv_it/theorems/e8ba26066a2cd9c7bb2e9e63a3891f50edb516900/expr.ipynb\"><img src=\"../../../../number_sets/real_numbers/__pv_it/theorems/e8ba26066a2cd9c7bb2e9e63a3891f50edb516900/expr.png\" style=\"display:inline;vertical-align:middle;\" /></a> <a class=\"ProveItLink\" href=\"../0f2dce82510cac45ecf359e491749202e73e2a500/proof.ipynb\" style=\"text-decoration: none\">&nbsp;&#x22A2;&nbsp;&nbsp;</a><a class=\"ProveItLink\" href=\"../../../../number_sets/real_numbers/__pv_it/theorems/e8ba26066a2cd9c7bb2e9e63a3891f50edb516900/expr.ipynb\"><img src=\"../../../../number_sets/real_numbers/__pv_it/theorems/e8ba26066a2cd9c7bb2e9e63a3891f50edb516900/expr.png\" style=\"display:inline;vertical-align:middle;\" /></a></span></td></tr>\n",
       "</table>"
      ],
      "text/plain": [
       "<proveit._core_.proof._ShowProof at 0x7f75e5995668>"
      ]
     },
     "execution_count": 1,
     "metadata": {},
     "output_type": "execute_result"
    }
   ],
   "source": [
    "import proveit\n",
    "# Automation is not needed when only showing a stored proof:\n",
    "proveit.defaults.automation = False # This will speed things up.\n",
    "proveit.defaults.inline_pngs = False # Makes files smaller.\n",
    "%show_proof"
   ]
  },
  {
   "cell_type": "code",
   "execution_count": null,
   "metadata": {},
   "outputs": [],
   "source": []
  }
 ],
 "metadata": {
  "kernelspec": {
   "display_name": "Python 3",
   "language": "python",
   "name": "python3"
  }
 },
 "nbformat": 4,
 "nbformat_minor": 0
}