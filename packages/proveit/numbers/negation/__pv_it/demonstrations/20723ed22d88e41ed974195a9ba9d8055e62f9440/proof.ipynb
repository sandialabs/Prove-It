{
 "cells": [
  {
   "cell_type": "markdown",
   "metadata": {},
   "source": [
    "Show the Proof\n",
    "========"
   ]
  },
  {
   "cell_type": "code",
   "execution_count": 1,
   "metadata": {},
   "outputs": [
    {
     "data": {
      "text/html": [
       "<table><tr><th>&nbsp;</th><th>step type</th><th>requirements</th><th>statement</th></tr>\n",
       "<tr><td><a name=\"proveit.numbers.negation.demonstrations.20723ed22d88e41ed974195a9ba9d8055e62f9440_step0\">0</a></td><td>instantiation</td><td><a href=\"#proveit.numbers.negation.demonstrations.20723ed22d88e41ed974195a9ba9d8055e62f9440_step1\">1</a>, <a href=\"#proveit.numbers.negation.demonstrations.20723ed22d88e41ed974195a9ba9d8055e62f9440_step2\">2</a></td><td><span style=\"font-size:20px;\"><a class=\"ProveItLink\" href=\"../../../../number_sets/real_numbers/__pv_it/theorems/c34caf191836023a2e00a70eca44f5973ba282830/expr.ipynb\"><img src=\"../../../../number_sets/real_numbers/__pv_it/theorems/c34caf191836023a2e00a70eca44f5973ba282830/expr.png\" style=\"display:inline;vertical-align:middle;\" /></a> <a class=\"ProveItLink\" href=\"proof.ipynb\" style=\"text-decoration: none\">&nbsp;&#x22A2;&nbsp;&nbsp;</a><a class=\"ProveItLink\" href=\"../5ca77b4c65a49897991981f522a50d921c5e45d30/expr.ipynb\"><img src=\"../5ca77b4c65a49897991981f522a50d921c5e45d30/expr.png\" style=\"display:inline;vertical-align:middle;\" /></a></span></td></tr>\n",
       "<tr><td>&nbsp;</td><td colspan=4 style=\"text-align:left\"><span style=\"font-size:20px;\"><a class=\"ProveItLink\" href=\"../../../../../__pv_it/common/c06c606ec12678c58933ac85412ecadc2ae28be60/expr.ipynb\"><img src=\"../../../../../__pv_it/common/c06c606ec12678c58933ac85412ecadc2ae28be60/expr.png\" style=\"display:inline;vertical-align:middle;\" /></a> : <a class=\"ProveItLink\" href=\"../../../../../__pv_it/common/a0d9d672aa5e272d907247690c152cc2c6daafb70/expr.ipynb\"><img src=\"../../../../../__pv_it/common/a0d9d672aa5e272d907247690c152cc2c6daafb70/expr.png\" style=\"display:inline;vertical-align:middle;\" /></a></span></td></tr><tr><td><a name=\"proveit.numbers.negation.demonstrations.20723ed22d88e41ed974195a9ba9d8055e62f9440_step1\">1</a></td><td>theorem</td><td></td><td><span style=\"font-size:20px;\"> <a class=\"ProveItLink\" href=\"../../../_theory_nbs_/proofs/real_nonpos_closure/thm_proof.ipynb\" style=\"text-decoration: none\">&nbsp;&#x22A2;&nbsp;&nbsp;</a><a class=\"ProveItLink\" href=\"../../theorems/7c67f00586a98248aac1e646b6849107a70b06170/expr.ipynb\"><img src=\"../../theorems/7c67f00586a98248aac1e646b6849107a70b06170/expr.png\" style=\"display:inline;vertical-align:middle;\" /></a></span></td></tr>\n",
       "<tr><td>&nbsp;</td><td colspan=4 style-\"text-align:left\"><a class=\"ProveItLink\" href=\"../../../_theory_nbs_/proofs/real_nonpos_closure/thm_proof.ipynb\">proveit.numbers.negation.real_nonpos_closure</a></td></tr><tr><td><a name=\"proveit.numbers.negation.demonstrations.20723ed22d88e41ed974195a9ba9d8055e62f9440_step2\">2</a></td><td>assumption</td><td></td><td><span style=\"font-size:20px;\"><a class=\"ProveItLink\" href=\"../../../../number_sets/real_numbers/__pv_it/theorems/c34caf191836023a2e00a70eca44f5973ba282830/expr.ipynb\"><img src=\"../../../../number_sets/real_numbers/__pv_it/theorems/c34caf191836023a2e00a70eca44f5973ba282830/expr.png\" style=\"display:inline;vertical-align:middle;\" /></a> <a class=\"ProveItLink\" href=\"../7e7b13e11b3d104c157ef95ab2563decd7a08d910/proof.ipynb\" style=\"text-decoration: none\">&nbsp;&#x22A2;&nbsp;&nbsp;</a><a class=\"ProveItLink\" href=\"../../../../number_sets/real_numbers/__pv_it/theorems/c34caf191836023a2e00a70eca44f5973ba282830/expr.ipynb\"><img src=\"../../../../number_sets/real_numbers/__pv_it/theorems/c34caf191836023a2e00a70eca44f5973ba282830/expr.png\" style=\"display:inline;vertical-align:middle;\" /></a></span></td></tr>\n",
       "</table>"
      ],
      "text/plain": [
       "<proveit._core_.proof._ShowProof at 0x7fdcd6a7bb00>"
      ]
     },
     "execution_count": 1,
     "metadata": {},
     "output_type": "execute_result"
    }
   ],
   "source": [
    "import proveit\n",
    "# Automation is not needed when only showing a stored proof:\n",
    "proveit.defaults.automation = False # This will speed things up.\n",
    "proveit.defaults.inline_pngs = False # Makes files smaller.\n",
    "%show_proof"
   ]
  },
  {
   "cell_type": "code",
   "execution_count": null,
   "metadata": {},
   "outputs": [],
   "source": []
  }
 ],
 "metadata": {
  "kernelspec": {
   "display_name": "Python 3",
   "language": "python",
   "name": "python3"
  }
 },
 "nbformat": 4,
 "nbformat_minor": 0
}