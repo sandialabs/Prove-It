{
 "cells": [
  {
   "cell_type": "markdown",
   "metadata": {},
   "source": [
    "Expression of type <a class=\"ProveItLink\" href=\"../../../../../../../doc/html/api/proveit.logic.And.html\">And</a>\n",
    "=======================\n",
    "# from the theory of <a class=\"ProveItLink\" href=\"../../../_theory_nbs_/theory.ipynb\">proveit.numbers.negation</a>"
   ]
  },
  {
   "cell_type": "code",
   "execution_count": 1,
   "metadata": {},
   "outputs": [],
   "source": [
    "import proveit\n",
    "# Automation is not needed when building an expression:\n",
    "proveit.defaults.automation = False # This will speed things up.\n",
    "proveit.defaults.inline_pngs = False # Makes files smaller.\n",
    "%load_expr # Load the stored expression as 'stored_expr'\n",
    "# import Expression classes needed to build the expression\n",
    "from proveit import a, b, c\n",
    "from proveit.logic import And, Equals, InSet\n",
    "from proveit.numbers import Add, Natural"
   ]
  },
  {
   "cell_type": "code",
   "execution_count": 2,
   "metadata": {},
   "outputs": [
    {
     "data": {
      "text/html": [
       "<strong id=\"expr\">expr:</strong> <a class=\"ProveItLink\" href=\"expr.ipynb\"><img src=\"expr.png\" style=\"display:inline;vertical-align:middle;\" /></a><br>"
      ],
      "text/plain": [
       "<IPython.core.display.HTML object>"
      ]
     },
     "metadata": {},
     "output_type": "display_data"
    }
   ],
   "source": [
    "# build up the expression from sub-expressions\n",
    "expr = And(InSet(a, Natural), InSet(b, Natural), InSet(c, Natural), Equals(Add(a, b), c))"
   ]
  },
  {
   "cell_type": "code",
   "execution_count": 3,
   "metadata": {},
   "outputs": [
    {
     "name": "stdout",
     "output_type": "stream",
     "text": [
      "Passed sanity check: expr matches stored_expr\n"
     ]
    }
   ],
   "source": [
    "# check that the built expression is the same as the stored expression\n",
    "assert expr == stored_expr\n",
    "assert expr._style_id == stored_expr._style_id\n",
    "print(\"Passed sanity check: expr matches stored_expr\")"
   ]
  },
  {
   "cell_type": "code",
   "execution_count": 4,
   "metadata": {},
   "outputs": [
    {
     "name": "stdout",
     "output_type": "stream",
     "text": [
      "\\left(a \\in \\mathbb{N}\\right) \\land \\left(b \\in \\mathbb{N}\\right) \\land \\left(c \\in \\mathbb{N}\\right) \\land \\left(\\left(a + b\\right) = c\\right)\n"
     ]
    }
   ],
   "source": [
    "# Show the LaTeX representation of the expression for convenience if you need it.\n",
    "print(stored_expr.latex())"
   ]
  },
  {
   "cell_type": "code",
   "execution_count": 5,
   "metadata": {},
   "outputs": [
    {
     "data": {
      "text/html": [
       "<table>\n",
       "<tr><th>name</th><th>description</th><th>default</th><th>current value</th><th>related methods</th></tr><tr><td>operation</td><td>'infix' or 'function' style formatting</td><td>infix</td><td>infix</td><td></td></tr>\n",
       "<tr><td>wrap_positions</td><td>position(s) at which wrapping is to occur; '2 n - 1' is after the nth operand, '2 n' is after the nth operation.</td><td>()</td><td>()</td><td>('with_wrapping_at', 'with_wrap_before_operator', 'with_wrap_after_operator', 'without_wrapping', 'wrap_positions')</td></tr>\n",
       "<tr><td>justification</td><td>if any wrap positions are set, justify to the 'left', 'center', or 'right'</td><td>center</td><td>center</td><td>('with_justification',)</td></tr>\n",
       "</table>\n"
      ],
      "text/plain": [
       "style name: operation\n",
       "description: 'infix' or 'function' style formatting\n",
       "default: infix\n",
       "current value: infix\n",
       "related methods: ()\n",
       "style name: wrap_positions\n",
       "description: position(s) at which wrapping is to occur; '2 n - 1' is after the nth operand, '2 n' is after the nth operation.\n",
       "default: ()\n",
       "current value: ()\n",
       "related methods: ('with_wrapping_at', 'with_wrap_before_operator', 'with_wrap_after_operator', 'without_wrapping', 'wrap_positions')\n",
       "style name: justification\n",
       "description: if any wrap positions are set, justify to the 'left', 'center', or 'right'\n",
       "default: center\n",
       "current value: center\n",
       "related methods: ('with_justification',)"
      ]
     },
     "metadata": {},
     "output_type": "display_data"
    }
   ],
   "source": [
    "stored_expr.style_options()"
   ]
  },
  {
   "cell_type": "code",
   "execution_count": 6,
   "metadata": {},
   "outputs": [
    {
     "data": {
      "text/html": [
       "<table><tr><th>&nbsp;</th><th>core type</th><th>sub-expressions</th><th>expression</th></tr>\n",
       "<tr><td>0</td><td>Operation</td><td>operator:&nbsp;1<br>operands:&nbsp;2<br></td><td><a class=\"ProveItLink\" href=\"expr.ipynb\"><img src=\"expr.png\" style=\"display:inline;vertical-align:middle;\" /></a></td></tr>\n",
       "<tr><td>1</td><td>Literal</td><td></td><td><a class=\"ProveItLink\" href=\"../../../../../logic/booleans/conjunction/__pv_it/common/42118ff318bd65d98b1393f64ce7c2269feef76e0/expr.ipynb\"><img src=\"../../../../../logic/booleans/conjunction/__pv_it/common/42118ff318bd65d98b1393f64ce7c2269feef76e0/expr.png\" style=\"display:inline;vertical-align:middle;\" /></a></td></tr>\n",
       "<tr><td>2</td><td>ExprTuple</td><td>3, 4, 5, 6</td><td><a class=\"ProveItLink\" href=\"../13caf2f6638e6bf4b080d0a2a1576cd9465b22770/expr.ipynb\"><img src=\"../13caf2f6638e6bf4b080d0a2a1576cd9465b22770/expr.png\" style=\"display:inline;vertical-align:middle;\" /></a></td></tr>\n",
       "<tr><td>3</td><td>Operation</td><td>operator:&nbsp;9<br>operands:&nbsp;7<br></td><td><a class=\"ProveItLink\" href=\"../27094ede24067904bb8353fa305df8461a3a4be40/expr.ipynb\"><img src=\"../27094ede24067904bb8353fa305df8461a3a4be40/expr.png\" style=\"display:inline;vertical-align:middle;\" /></a></td></tr>\n",
       "<tr><td>4</td><td>Operation</td><td>operator:&nbsp;9<br>operands:&nbsp;8<br></td><td><a class=\"ProveItLink\" href=\"../5d56aa038eb34c97b005be8161434236efec38e90/expr.ipynb\"><img src=\"../5d56aa038eb34c97b005be8161434236efec38e90/expr.png\" style=\"display:inline;vertical-align:middle;\" /></a></td></tr>\n",
       "<tr><td>5</td><td>Operation</td><td>operator:&nbsp;9<br>operands:&nbsp;10<br></td><td><a class=\"ProveItLink\" href=\"../7148739d216dc58b8d7f448f4eb1e3fc97450b970/expr.ipynb\"><img src=\"../7148739d216dc58b8d7f448f4eb1e3fc97450b970/expr.png\" style=\"display:inline;vertical-align:middle;\" /></a></td></tr>\n",
       "<tr><td>6</td><td>Operation</td><td>operator:&nbsp;11<br>operands:&nbsp;12<br></td><td><a class=\"ProveItLink\" href=\"../648bb6f9bf85b7e9f8fc3165c6440de554bed8100/expr.ipynb\"><img src=\"../648bb6f9bf85b7e9f8fc3165c6440de554bed8100/expr.png\" style=\"display:inline;vertical-align:middle;\" /></a></td></tr>\n",
       "<tr><td>7</td><td>ExprTuple</td><td>18, 13</td><td><a class=\"ProveItLink\" href=\"../d8b6a0eba6558e88710687f1f05fc014c3126b8f0/expr.ipynb\"><img src=\"../d8b6a0eba6558e88710687f1f05fc014c3126b8f0/expr.png\" style=\"display:inline;vertical-align:middle;\" /></a></td></tr>\n",
       "<tr><td>8</td><td>ExprTuple</td><td>19, 13</td><td><a class=\"ProveItLink\" href=\"../002fe358a6420f06acbf206127002fb6838085890/expr.ipynb\"><img src=\"../002fe358a6420f06acbf206127002fb6838085890/expr.png\" style=\"display:inline;vertical-align:middle;\" /></a></td></tr>\n",
       "<tr><td>9</td><td>Literal</td><td></td><td><a class=\"ProveItLink\" href=\"../../../../../logic/sets/membership/__pv_it/common/477487d8796864d23d5810f83761435f25167f690/expr.ipynb\"><img src=\"../../../../../logic/sets/membership/__pv_it/common/477487d8796864d23d5810f83761435f25167f690/expr.png\" style=\"display:inline;vertical-align:middle;\" /></a></td></tr>\n",
       "<tr><td>10</td><td>ExprTuple</td><td>15, 13</td><td><a class=\"ProveItLink\" href=\"../1d6adee05b04fd7ba6ffc2dbceec4ff92999d4a10/expr.ipynb\"><img src=\"../1d6adee05b04fd7ba6ffc2dbceec4ff92999d4a10/expr.png\" style=\"display:inline;vertical-align:middle;\" /></a></td></tr>\n",
       "<tr><td>11</td><td>Literal</td><td></td><td><a class=\"ProveItLink\" href=\"../../../../../logic/equality/__pv_it/common/fb96dc12b2aa8801dda64d0132b396c63d1502bb0/expr.ipynb\"><img src=\"../../../../../logic/equality/__pv_it/common/fb96dc12b2aa8801dda64d0132b396c63d1502bb0/expr.png\" style=\"display:inline;vertical-align:middle;\" /></a></td></tr>\n",
       "<tr><td>12</td><td>ExprTuple</td><td>14, 15</td><td><a class=\"ProveItLink\" href=\"../dc8b2a9ed0d7d72982af45fe16960cd8411834150/expr.ipynb\"><img src=\"../dc8b2a9ed0d7d72982af45fe16960cd8411834150/expr.png\" style=\"display:inline;vertical-align:middle;\" /></a></td></tr>\n",
       "<tr><td>13</td><td>Literal</td><td></td><td><a class=\"ProveItLink\" href=\"../../../../number_sets/natural_numbers/__pv_it/common/8b7c321957f52ed3b05b36af612eeae4fa4783bc0/expr.ipynb\"><img src=\"../../../../number_sets/natural_numbers/__pv_it/common/8b7c321957f52ed3b05b36af612eeae4fa4783bc0/expr.png\" style=\"display:inline;vertical-align:middle;\" /></a></td></tr>\n",
       "<tr><td>14</td><td>Operation</td><td>operator:&nbsp;16<br>operands:&nbsp;17<br></td><td><a class=\"ProveItLink\" href=\"../b2d35298740e0e5a5ce56db2bae95b19efa8ddb70/expr.ipynb\"><img src=\"../b2d35298740e0e5a5ce56db2bae95b19efa8ddb70/expr.png\" style=\"display:inline;vertical-align:middle;\" /></a></td></tr>\n",
       "<tr><td>15</td><td>Variable</td><td></td><td><a class=\"ProveItLink\" href=\"../../../../../__pv_it/common/ceef4280a2f1cc604b455b54e735507244cc62cd0/expr.ipynb\"><img src=\"../../../../../__pv_it/common/ceef4280a2f1cc604b455b54e735507244cc62cd0/expr.png\" style=\"display:inline;vertical-align:middle;\" /></a></td></tr>\n",
       "<tr><td>16</td><td>Literal</td><td></td><td><a class=\"ProveItLink\" href=\"../../../../addition/__pv_it/common/4b7effaab3619a1c2c38fe2dee8601df8ec714590/expr.ipynb\"><img src=\"../../../../addition/__pv_it/common/4b7effaab3619a1c2c38fe2dee8601df8ec714590/expr.png\" style=\"display:inline;vertical-align:middle;\" /></a></td></tr>\n",
       "<tr><td>17</td><td>ExprTuple</td><td>18, 19</td><td><a class=\"ProveItLink\" href=\"../3dcd5ceea6334d8cb48fe14fdae236293aa9a6050/expr.ipynb\"><img src=\"../3dcd5ceea6334d8cb48fe14fdae236293aa9a6050/expr.png\" style=\"display:inline;vertical-align:middle;\" /></a></td></tr>\n",
       "<tr><td>18</td><td>Variable</td><td></td><td><a class=\"ProveItLink\" href=\"../../../../../__pv_it/common/c06c606ec12678c58933ac85412ecadc2ae28be60/expr.ipynb\"><img src=\"../../../../../__pv_it/common/c06c606ec12678c58933ac85412ecadc2ae28be60/expr.png\" style=\"display:inline;vertical-align:middle;\" /></a></td></tr>\n",
       "<tr><td>19</td><td>Variable</td><td></td><td><a class=\"ProveItLink\" href=\"../../../../../__pv_it/common/195236b98c6c564a75b5dbada74b173bc52d5c3e0/expr.ipynb\"><img src=\"../../../../../__pv_it/common/195236b98c6c564a75b5dbada74b173bc52d5c3e0/expr.png\" style=\"display:inline;vertical-align:middle;\" /></a></td></tr>\n",
       "</table>\n"
      ],
      "text/plain": [
       "0. (a in Natural) and (b in Natural) and (c in Natural) and ((a + b) = c)\n",
       "   core type: Operation\n",
       "   operator: 1\n",
       "   operands: 2\n",
       "1. and\n",
       "   core type: Literal\n",
       "   sub-expressions: \n",
       "2. (a in Natural, b in Natural, c in Natural, (a + b) = c)\n",
       "   core type: ExprTuple\n",
       "   sub-expressions: 3, 4, 5, 6\n",
       "3. a in Natural\n",
       "   core type: Operation\n",
       "   operator: 9\n",
       "   operands: 7\n",
       "4. b in Natural\n",
       "   core type: Operation\n",
       "   operator: 9\n",
       "   operands: 8\n",
       "5. c in Natural\n",
       "   core type: Operation\n",
       "   operator: 9\n",
       "   operands: 10\n",
       "6. (a + b) = c\n",
       "   core type: Operation\n",
       "   operator: 11\n",
       "   operands: 12\n",
       "7. (a, Natural)\n",
       "   core type: ExprTuple\n",
       "   sub-expressions: 18, 13\n",
       "8. (b, Natural)\n",
       "   core type: ExprTuple\n",
       "   sub-expressions: 19, 13\n",
       "9. in\n",
       "   core type: Literal\n",
       "   sub-expressions: \n",
       "10. (c, Natural)\n",
       "    core type: ExprTuple\n",
       "    sub-expressions: 15, 13\n",
       "11. =\n",
       "    core type: Literal\n",
       "    sub-expressions: \n",
       "12. (a + b, c)\n",
       "    core type: ExprTuple\n",
       "    sub-expressions: 14, 15\n",
       "13. Natural\n",
       "    core type: Literal\n",
       "    sub-expressions: \n",
       "14. a + b\n",
       "    core type: Operation\n",
       "    operator: 16\n",
       "    operands: 17\n",
       "15. c\n",
       "    core type: Variable\n",
       "    sub-expressions: \n",
       "16. +\n",
       "    core type: Literal\n",
       "    sub-expressions: \n",
       "17. (a, b)\n",
       "    core type: ExprTuple\n",
       "    sub-expressions: 18, 19\n",
       "18. a\n",
       "    core type: Variable\n",
       "    sub-expressions: \n",
       "19. b\n",
       "    core type: Variable\n",
       "    sub-expressions: "
      ]
     },
     "metadata": {},
     "output_type": "display_data"
    }
   ],
   "source": [
    "# display the expression information\n",
    "stored_expr.expr_info()"
   ]
  },
  {
   "cell_type": "code",
   "execution_count": null,
   "metadata": {},
   "outputs": [],
   "source": []
  }
 ],
 "metadata": {
  "kernelspec": {
   "display_name": "Python 3",
   "language": "python",
   "name": "python3"
  }
 },
 "nbformat": 4,
 "nbformat_minor": 0
}