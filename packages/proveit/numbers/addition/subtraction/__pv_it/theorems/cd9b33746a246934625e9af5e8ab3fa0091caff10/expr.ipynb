{
 "cells": [
  {
   "cell_type": "markdown",
   "metadata": {},
   "source": [
    "Expression of type <a class=\"ProveItLink\" href=\"../../../../../../../../doc/html/api/proveit.Conditional.html\">Conditional</a>\n",
    "=======================\n",
    "# from the theory of <a class=\"ProveItLink\" href=\"../../../_theory_nbs_/theory.ipynb\">proveit.numbers.addition.subtraction</a>"
   ]
  },
  {
   "cell_type": "code",
   "execution_count": 1,
   "metadata": {},
   "outputs": [],
   "source": [
    "import proveit\n",
    "# Automation is not needed when building an expression:\n",
    "proveit.defaults.automation = False # This will speed things up.\n",
    "proveit.defaults.inline_pngs = False # Makes files smaller.\n",
    "%load_expr # Load the stored expression as 'stored_expr'\n",
    "# import Expression classes needed to build the expression\n",
    "from proveit import Conditional, a, b\n",
    "from proveit.logic import And, Equals, InSet\n",
    "from proveit.numbers import Complex, subtract, zero"
   ]
  },
  {
   "cell_type": "code",
   "execution_count": 2,
   "metadata": {},
   "outputs": [
    {
     "data": {
      "text/html": [
       "<strong id=\"expr\">expr:</strong> <a class=\"ProveItLink\" href=\"expr.ipynb\"><img src=\"expr.png\" style=\"display:inline;vertical-align:middle;\" /></a><br>"
      ],
      "text/plain": [
       "<IPython.core.display.HTML object>"
      ]
     },
     "metadata": {},
     "output_type": "display_data"
    }
   ],
   "source": [
    "# build up the expression from sub-expressions\n",
    "expr = Conditional(Equals(subtract(a, b), zero), And(InSet(a, Complex), InSet(b, Complex), Equals(a, b)))"
   ]
  },
  {
   "cell_type": "code",
   "execution_count": 3,
   "metadata": {},
   "outputs": [
    {
     "name": "stdout",
     "output_type": "stream",
     "text": [
      "Passed sanity check: expr matches stored_expr\n"
     ]
    }
   ],
   "source": [
    "# check that the built expression is the same as the stored expression\n",
    "assert expr == stored_expr\n",
    "assert expr._style_id == stored_expr._style_id\n",
    "print(\"Passed sanity check: expr matches stored_expr\")"
   ]
  },
  {
   "cell_type": "code",
   "execution_count": 4,
   "metadata": {},
   "outputs": [
    {
     "name": "stdout",
     "output_type": "stream",
     "text": [
      "\\left\\{\\left(a - b\\right) = 0 \\textrm{ if } a \\in \\mathbb{C} ,  b \\in \\mathbb{C} ,  a = b\\right..\n"
     ]
    }
   ],
   "source": [
    "# Show the LaTeX representation of the expression for convenience if you need it.\n",
    "print(stored_expr.latex())"
   ]
  },
  {
   "cell_type": "code",
   "execution_count": 5,
   "metadata": {},
   "outputs": [
    {
     "data": {
      "text/html": [
       "<table>\n",
       "<tr><th>name</th><th>description</th><th>default</th><th>current value</th><th>related methods</th></tr><tr><td>condition_delimiter</td><td>'comma' or 'and'</td><td>comma</td><td>comma</td><td>('with_comma_delimiter', 'with_conjunction_delimiter')</td></tr>\n",
       "</table>\n"
      ],
      "text/plain": [
       "style name: condition_delimiter\n",
       "description: 'comma' or 'and'\n",
       "default: comma\n",
       "current value: comma\n",
       "related methods: ('with_comma_delimiter', 'with_conjunction_delimiter')"
      ]
     },
     "metadata": {},
     "output_type": "display_data"
    }
   ],
   "source": [
    "stored_expr.style_options()"
   ]
  },
  {
   "cell_type": "code",
   "execution_count": 6,
   "metadata": {},
   "outputs": [
    {
     "data": {
      "text/html": [
       "<table><tr><th>&nbsp;</th><th>core type</th><th>sub-expressions</th><th>expression</th></tr>\n",
       "<tr><td>0</td><td>Conditional</td><td>value:&nbsp;1<br>condition:&nbsp;2<br></td><td><a class=\"ProveItLink\" href=\"expr.ipynb\"><img src=\"expr.png\" style=\"display:inline;vertical-align:middle;\" /></a></td></tr>\n",
       "<tr><td>1</td><td>Operation</td><td>operator:&nbsp;16<br>operands:&nbsp;3<br></td><td><a class=\"ProveItLink\" href=\"../1b2a238ef344aeaa67fcc1f951b5f7e20d924af20/expr.ipynb\"><img src=\"../1b2a238ef344aeaa67fcc1f951b5f7e20d924af20/expr.png\" style=\"display:inline;vertical-align:middle;\" /></a></td></tr>\n",
       "<tr><td>2</td><td>Operation</td><td>operator:&nbsp;4<br>operands:&nbsp;5<br></td><td><a class=\"ProveItLink\" href=\"../00795b34ee7ab5864f645a415bd24bf24a495e060/expr.ipynb\"><img src=\"../00795b34ee7ab5864f645a415bd24bf24a495e060/expr.png\" style=\"display:inline;vertical-align:middle;\" /></a></td></tr>\n",
       "<tr><td>3</td><td>ExprTuple</td><td>6, 7</td><td><a class=\"ProveItLink\" href=\"../6d5a42316911941863f0b779a34f07f9fe5f48820/expr.ipynb\"><img src=\"../6d5a42316911941863f0b779a34f07f9fe5f48820/expr.png\" style=\"display:inline;vertical-align:middle;\" /></a></td></tr>\n",
       "<tr><td>4</td><td>Literal</td><td></td><td><a class=\"ProveItLink\" href=\"../../../../../../logic/booleans/conjunction/__pv_it/common/42118ff318bd65d98b1393f64ce7c2269feef76e0/expr.ipynb\"><img src=\"../../../../../../logic/booleans/conjunction/__pv_it/common/42118ff318bd65d98b1393f64ce7c2269feef76e0/expr.png\" style=\"display:inline;vertical-align:middle;\" /></a></td></tr>\n",
       "<tr><td>5</td><td>ExprTuple</td><td>8, 9, 10</td><td><a class=\"ProveItLink\" href=\"../52a998f028ec8f65ba28960e9f5a574255ced3e40/expr.ipynb\"><img src=\"../52a998f028ec8f65ba28960e9f5a574255ced3e40/expr.png\" style=\"display:inline;vertical-align:middle;\" /></a></td></tr>\n",
       "<tr><td>6</td><td>Operation</td><td>operator:&nbsp;11<br>operands:&nbsp;12<br></td><td><a class=\"ProveItLink\" href=\"../45b4fce329f13e9ad2deab107090346eb2d110320/expr.ipynb\"><img src=\"../45b4fce329f13e9ad2deab107090346eb2d110320/expr.png\" style=\"display:inline;vertical-align:middle;\" /></a></td></tr>\n",
       "<tr><td>7</td><td>Literal</td><td></td><td><a class=\"ProveItLink\" href=\"../../../../../numerals/__pv_it/common/dd4e19e8b134dfb293470ea55fe3589b0ab9f8040/expr.ipynb\"><img src=\"../../../../../numerals/__pv_it/common/dd4e19e8b134dfb293470ea55fe3589b0ab9f8040/expr.png\" style=\"display:inline;vertical-align:middle;\" /></a></td></tr>\n",
       "<tr><td>8</td><td>Operation</td><td>operator:&nbsp;14<br>operands:&nbsp;13<br></td><td><a class=\"ProveItLink\" href=\"../e9f87a0977d5044ea8daf1040d2f219396bb3d5b0/expr.ipynb\"><img src=\"../e9f87a0977d5044ea8daf1040d2f219396bb3d5b0/expr.png\" style=\"display:inline;vertical-align:middle;\" /></a></td></tr>\n",
       "<tr><td>9</td><td>Operation</td><td>operator:&nbsp;14<br>operands:&nbsp;15<br></td><td><a class=\"ProveItLink\" href=\"../a259ec76dfb0a5be60b7c83d797520fa82c1dba60/expr.ipynb\"><img src=\"../a259ec76dfb0a5be60b7c83d797520fa82c1dba60/expr.png\" style=\"display:inline;vertical-align:middle;\" /></a></td></tr>\n",
       "<tr><td>10</td><td>Operation</td><td>operator:&nbsp;16<br>operands:&nbsp;17<br></td><td><a class=\"ProveItLink\" href=\"../a57ff90768f0b1ac00b2b26a5b70145f7b9ec7da0/expr.ipynb\"><img src=\"../a57ff90768f0b1ac00b2b26a5b70145f7b9ec7da0/expr.png\" style=\"display:inline;vertical-align:middle;\" /></a></td></tr>\n",
       "<tr><td>11</td><td>Literal</td><td></td><td><a class=\"ProveItLink\" href=\"../../../../__pv_it/common/4b7effaab3619a1c2c38fe2dee8601df8ec714590/expr.ipynb\"><img src=\"../../../../__pv_it/common/4b7effaab3619a1c2c38fe2dee8601df8ec714590/expr.png\" style=\"display:inline;vertical-align:middle;\" /></a></td></tr>\n",
       "<tr><td>12</td><td>ExprTuple</td><td>20, 18</td><td><a class=\"ProveItLink\" href=\"../471e850ccc16f5997a7ac48ffff46f61d15d0d5f0/expr.ipynb\"><img src=\"../471e850ccc16f5997a7ac48ffff46f61d15d0d5f0/expr.png\" style=\"display:inline;vertical-align:middle;\" /></a></td></tr>\n",
       "<tr><td>13</td><td>ExprTuple</td><td>20, 19</td><td><a class=\"ProveItLink\" href=\"../f95f1bd17fb8b13a3ef06d06b532b556f249a05f0/expr.ipynb\"><img src=\"../f95f1bd17fb8b13a3ef06d06b532b556f249a05f0/expr.png\" style=\"display:inline;vertical-align:middle;\" /></a></td></tr>\n",
       "<tr><td>14</td><td>Literal</td><td></td><td><a class=\"ProveItLink\" href=\"../../../../../../logic/sets/membership/__pv_it/common/477487d8796864d23d5810f83761435f25167f690/expr.ipynb\"><img src=\"../../../../../../logic/sets/membership/__pv_it/common/477487d8796864d23d5810f83761435f25167f690/expr.png\" style=\"display:inline;vertical-align:middle;\" /></a></td></tr>\n",
       "<tr><td>15</td><td>ExprTuple</td><td>23, 19</td><td><a class=\"ProveItLink\" href=\"../4a72a986c458b001a667c5069838c28cc69c8d280/expr.ipynb\"><img src=\"../4a72a986c458b001a667c5069838c28cc69c8d280/expr.png\" style=\"display:inline;vertical-align:middle;\" /></a></td></tr>\n",
       "<tr><td>16</td><td>Literal</td><td></td><td><a class=\"ProveItLink\" href=\"../../../../../../logic/equality/__pv_it/common/fb96dc12b2aa8801dda64d0132b396c63d1502bb0/expr.ipynb\"><img src=\"../../../../../../logic/equality/__pv_it/common/fb96dc12b2aa8801dda64d0132b396c63d1502bb0/expr.png\" style=\"display:inline;vertical-align:middle;\" /></a></td></tr>\n",
       "<tr><td>17</td><td>ExprTuple</td><td>20, 23</td><td><a class=\"ProveItLink\" href=\"../3dcd5ceea6334d8cb48fe14fdae236293aa9a6050/expr.ipynb\"><img src=\"../3dcd5ceea6334d8cb48fe14fdae236293aa9a6050/expr.png\" style=\"display:inline;vertical-align:middle;\" /></a></td></tr>\n",
       "<tr><td>18</td><td>Operation</td><td>operator:&nbsp;21<br>operand:&nbsp;23<br></td><td><a class=\"ProveItLink\" href=\"../c216ece09f1f63dbbdaff75b3e8b87340ddef1330/expr.ipynb\"><img src=\"../c216ece09f1f63dbbdaff75b3e8b87340ddef1330/expr.png\" style=\"display:inline;vertical-align:middle;\" /></a></td></tr>\n",
       "<tr><td>19</td><td>Literal</td><td></td><td><a class=\"ProveItLink\" href=\"../../../../../number_sets/complex_numbers/__pv_it/common/d18a028138f659eda00de597c28a3447fe87eb100/expr.ipynb\"><img src=\"../../../../../number_sets/complex_numbers/__pv_it/common/d18a028138f659eda00de597c28a3447fe87eb100/expr.png\" style=\"display:inline;vertical-align:middle;\" /></a></td></tr>\n",
       "<tr><td>20</td><td>Variable</td><td></td><td><a class=\"ProveItLink\" href=\"../../../../../../__pv_it/common/c06c606ec12678c58933ac85412ecadc2ae28be60/expr.ipynb\"><img src=\"../../../../../../__pv_it/common/c06c606ec12678c58933ac85412ecadc2ae28be60/expr.png\" style=\"display:inline;vertical-align:middle;\" /></a></td></tr>\n",
       "<tr><td>21</td><td>Literal</td><td></td><td><a class=\"ProveItLink\" href=\"../../../../../negation/__pv_it/common/221b3c4d1770ee9051b7c044c3f9ec61196fc34b0/expr.ipynb\"><img src=\"../../../../../negation/__pv_it/common/221b3c4d1770ee9051b7c044c3f9ec61196fc34b0/expr.png\" style=\"display:inline;vertical-align:middle;\" /></a></td></tr>\n",
       "<tr><td>22</td><td>ExprTuple</td><td>23</td><td><a class=\"ProveItLink\" href=\"../2172b6b5a562721cf67ce94593b8be1eb7f26c660/expr.ipynb\"><img src=\"../2172b6b5a562721cf67ce94593b8be1eb7f26c660/expr.png\" style=\"display:inline;vertical-align:middle;\" /></a></td></tr>\n",
       "<tr><td>23</td><td>Variable</td><td></td><td><a class=\"ProveItLink\" href=\"../../../../../../__pv_it/common/195236b98c6c564a75b5dbada74b173bc52d5c3e0/expr.ipynb\"><img src=\"../../../../../../__pv_it/common/195236b98c6c564a75b5dbada74b173bc52d5c3e0/expr.png\" style=\"display:inline;vertical-align:middle;\" /></a></td></tr>\n",
       "</table>\n"
      ],
      "text/plain": [
       "0. {(a - b) = 0 if a in Complex ,  b in Complex ,  a = b.\n",
       "   core type: Conditional\n",
       "   value: 1\n",
       "   condition: 2\n",
       "1. (a - b) = 0\n",
       "   core type: Operation\n",
       "   operator: 16\n",
       "   operands: 3\n",
       "2. (a in Complex) and (b in Complex) and (a = b)\n",
       "   core type: Operation\n",
       "   operator: 4\n",
       "   operands: 5\n",
       "3. (a - b, 0)\n",
       "   core type: ExprTuple\n",
       "   sub-expressions: 6, 7\n",
       "4. and\n",
       "   core type: Literal\n",
       "   sub-expressions: \n",
       "5. (a in Complex, b in Complex, a = b)\n",
       "   core type: ExprTuple\n",
       "   sub-expressions: 8, 9, 10\n",
       "6. a - b\n",
       "   core type: Operation\n",
       "   operator: 11\n",
       "   operands: 12\n",
       "7. 0\n",
       "   core type: Literal\n",
       "   sub-expressions: \n",
       "8. a in Complex\n",
       "   core type: Operation\n",
       "   operator: 14\n",
       "   operands: 13\n",
       "9. b in Complex\n",
       "   core type: Operation\n",
       "   operator: 14\n",
       "   operands: 15\n",
       "10. a = b\n",
       "    core type: Operation\n",
       "    operator: 16\n",
       "    operands: 17\n",
       "11. +\n",
       "    core type: Literal\n",
       "    sub-expressions: \n",
       "12. (a, -b)\n",
       "    core type: ExprTuple\n",
       "    sub-expressions: 20, 18\n",
       "13. (a, Complex)\n",
       "    core type: ExprTuple\n",
       "    sub-expressions: 20, 19\n",
       "14. in\n",
       "    core type: Literal\n",
       "    sub-expressions: \n",
       "15. (b, Complex)\n",
       "    core type: ExprTuple\n",
       "    sub-expressions: 23, 19\n",
       "16. =\n",
       "    core type: Literal\n",
       "    sub-expressions: \n",
       "17. (a, b)\n",
       "    core type: ExprTuple\n",
       "    sub-expressions: 20, 23\n",
       "18. -b\n",
       "    core type: Operation\n",
       "    operator: 21\n",
       "    operand: 23\n",
       "19. Complex\n",
       "    core type: Literal\n",
       "    sub-expressions: \n",
       "20. a\n",
       "    core type: Variable\n",
       "    sub-expressions: \n",
       "21. -\n",
       "    core type: Literal\n",
       "    sub-expressions: \n",
       "22. (b)\n",
       "    core type: ExprTuple\n",
       "    sub-expressions: 23\n",
       "23. b\n",
       "    core type: Variable\n",
       "    sub-expressions: "
      ]
     },
     "metadata": {},
     "output_type": "display_data"
    }
   ],
   "source": [
    "# display the expression information\n",
    "stored_expr.expr_info()"
   ]
  },
  {
   "cell_type": "code",
   "execution_count": null,
   "metadata": {},
   "outputs": [],
   "source": []
  }
 ],
 "metadata": {
  "kernelspec": {
   "display_name": "Python 3",
   "language": "python",
   "name": "python3"
  }
 },
 "nbformat": 4,
 "nbformat_minor": 0
}