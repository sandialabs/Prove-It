{
 "cells": [
  {
   "cell_type": "markdown",
   "metadata": {},
   "source": [
    "Theorem <a class=\"ProveItLink\" href=\"../../../_theorems_.ipynb#subtract_nat_closure_bin\">subtract_nat_closure_bin</a> of type <a class=\"ProveItLink\" href=\"../../../../../../../../doc/html/api/proveit.logic.Forall.html\">Forall</a>\n",
    "=======================\n",
    "# from the theory of <a class=\"ProveItLink\" href=\"../../../_theory_nbs_/theory.ipynb\">proveit.numbers.addition.subtraction</a>\n",
    "*** see <a class=\"ProveItLink\" href=\"dependencies.ipynb\">dependencies</a> ***"
   ]
  },
  {
   "cell_type": "code",
   "execution_count": 1,
   "metadata": {},
   "outputs": [],
   "source": [
    "import proveit\n",
    "# Automation is not needed when only building an expression:\n",
    "proveit.defaults.automation = False # This will speed things up.\n",
    "proveit.defaults.inline_pngs = False # Makes files smaller.\n",
    "%load_theorem_expr # Load the stored theorem expression as 'stored_expr'\n",
    "# import the special expression\n",
    "from proveit.numbers.addition.subtraction import subtract_nat_closure_bin"
   ]
  },
  {
   "cell_type": "code",
   "execution_count": 2,
   "metadata": {},
   "outputs": [
    {
     "name": "stdout",
     "output_type": "stream",
     "text": [
      "Passed sanity check: subtract_nat_closure_bin matches stored_expr\n"
     ]
    }
   ],
   "source": [
    "# check that the built expression is the same as the stored expression\n",
    "assert subtract_nat_closure_bin.expr == stored_expr\n",
    "assert subtract_nat_closure_bin.expr._style_id == stored_expr._style_id\n",
    "print(\"Passed sanity check: subtract_nat_closure_bin matches stored_expr\")"
   ]
  },
  {
   "cell_type": "code",
   "execution_count": 3,
   "metadata": {},
   "outputs": [
    {
     "name": "stdout",
     "output_type": "stream",
     "text": [
      "\\forall_{a, b \\in \\mathbb{N}~|~b \\leq a}~\\left(\\left(a - b\\right) \\in \\mathbb{N}\\right)\n"
     ]
    }
   ],
   "source": [
    "# Show the LaTeX representation of the expression for convenience if you need it.\n",
    "print(stored_expr.latex())"
   ]
  },
  {
   "cell_type": "code",
   "execution_count": 4,
   "metadata": {},
   "outputs": [
    {
     "data": {
      "text/html": [
       "<table>\n",
       "<tr><th>name</th><th>description</th><th>default</th><th>current value</th><th>related methods</th></tr><tr><td>with_wrapping</td><td>If 'True', wrap the Expression after the parameters</td><td>None</td><td>None/False</td><td>('with_wrapping',)</td></tr>\n",
       "<tr><td>condition_wrapping</td><td>Wrap 'before' or 'after' the condition (or None).</td><td>None</td><td>None/False</td><td>('with_wrap_after_condition', 'with_wrap_before_condition')</td></tr>\n",
       "<tr><td>wrap_params</td><td>If 'True', wraps every two parameters AND wraps the Expression after the parameters</td><td>None</td><td>None/False</td><td>('with_params',)</td></tr>\n",
       "<tr><td>justification</td><td>justify to the 'left', 'center', or 'right' in the array cells</td><td>center</td><td>center</td><td>('with_justification',)</td></tr>\n",
       "</table>\n"
      ],
      "text/plain": [
       "style name: with_wrapping\n",
       "description: If 'True', wrap the Expression after the parameters\n",
       "default: None\n",
       "current value: None/False\n",
       "related methods: ('with_wrapping',)\n",
       "style name: condition_wrapping\n",
       "description: Wrap 'before' or 'after' the condition (or None).\n",
       "default: None\n",
       "current value: None/False\n",
       "related methods: ('with_wrap_after_condition', 'with_wrap_before_condition')\n",
       "style name: wrap_params\n",
       "description: If 'True', wraps every two parameters AND wraps the Expression after the parameters\n",
       "default: None\n",
       "current value: None/False\n",
       "related methods: ('with_params',)\n",
       "style name: justification\n",
       "description: justify to the 'left', 'center', or 'right' in the array cells\n",
       "default: center\n",
       "current value: center\n",
       "related methods: ('with_justification',)"
      ]
     },
     "metadata": {},
     "output_type": "display_data"
    }
   ],
   "source": [
    "stored_expr.style_options()"
   ]
  },
  {
   "cell_type": "code",
   "execution_count": 5,
   "metadata": {},
   "outputs": [
    {
     "data": {
      "text/html": [
       "<table><tr><th>&nbsp;</th><th>core type</th><th>sub-expressions</th><th>expression</th></tr>\n",
       "<tr><td>0</td><td>Operation</td><td>operator:&nbsp;1<br>operand:&nbsp;3<br></td><td><a class=\"ProveItLink\" href=\"../8e0573f664e584c328a92880a1bad2a2cdadef760/expr.ipynb\"><img src=\"../8e0573f664e584c328a92880a1bad2a2cdadef760/expr.png\" style=\"display:inline;vertical-align:middle;\" /></a></td></tr>\n",
       "<tr><td>1</td><td>Literal</td><td></td><td><a class=\"ProveItLink\" href=\"../../../../../../logic/booleans/quantification/universality/__pv_it/common/083d2baa0b8ecab1d230f9ec29a15aa1355809fb0/expr.ipynb\"><img src=\"../../../../../../logic/booleans/quantification/universality/__pv_it/common/083d2baa0b8ecab1d230f9ec29a15aa1355809fb0/expr.png\" style=\"display:inline;vertical-align:middle;\" /></a></td></tr>\n",
       "<tr><td>2</td><td>ExprTuple</td><td>3</td><td><a class=\"ProveItLink\" href=\"../a810a80478ea67b11c94bc9beae4228507a9fd9e0/expr.ipynb\"><img src=\"../a810a80478ea67b11c94bc9beae4228507a9fd9e0/expr.png\" style=\"display:inline;vertical-align:middle;\" /></a></td></tr>\n",
       "<tr><td>3</td><td>Lambda</td><td>parameters:&nbsp;4<br>body:&nbsp;5<br></td><td><a class=\"ProveItLink\" href=\"../206b909e0eae5c2b2317749a2bac99f2ef5e718f0/expr.ipynb\"><img src=\"../206b909e0eae5c2b2317749a2bac99f2ef5e718f0/expr.png\" style=\"display:inline;vertical-align:middle;\" /></a></td></tr>\n",
       "<tr><td>4</td><td>ExprTuple</td><td>24, 27</td><td><a class=\"ProveItLink\" href=\"../3dcd5ceea6334d8cb48fe14fdae236293aa9a6050/expr.ipynb\"><img src=\"../3dcd5ceea6334d8cb48fe14fdae236293aa9a6050/expr.png\" style=\"display:inline;vertical-align:middle;\" /></a></td></tr>\n",
       "<tr><td>5</td><td>Conditional</td><td>value:&nbsp;6<br>condition:&nbsp;7<br></td><td><a class=\"ProveItLink\" href=\"../3b7173c889dc9d7d55462e9c3c242a587093aed80/expr.ipynb\"><img src=\"../3b7173c889dc9d7d55462e9c3c242a587093aed80/expr.png\" style=\"display:inline;vertical-align:middle;\" /></a></td></tr>\n",
       "<tr><td>6</td><td>Operation</td><td>operator:&nbsp;18<br>operands:&nbsp;8<br></td><td><a class=\"ProveItLink\" href=\"../6bca7424eb672633be5d9eff9f0839a1d58a9ea10/expr.ipynb\"><img src=\"../6bca7424eb672633be5d9eff9f0839a1d58a9ea10/expr.png\" style=\"display:inline;vertical-align:middle;\" /></a></td></tr>\n",
       "<tr><td>7</td><td>Operation</td><td>operator:&nbsp;9<br>operands:&nbsp;10<br></td><td><a class=\"ProveItLink\" href=\"../f9d2c9f7be9e94f10910b57230c1b52b4cdd32e00/expr.ipynb\"><img src=\"../f9d2c9f7be9e94f10910b57230c1b52b4cdd32e00/expr.png\" style=\"display:inline;vertical-align:middle;\" /></a></td></tr>\n",
       "<tr><td>8</td><td>ExprTuple</td><td>11, 23</td><td><a class=\"ProveItLink\" href=\"../e52d07b25957ca2c315b8a6e3d5ea9fe480c31e50/expr.ipynb\"><img src=\"../e52d07b25957ca2c315b8a6e3d5ea9fe480c31e50/expr.png\" style=\"display:inline;vertical-align:middle;\" /></a></td></tr>\n",
       "<tr><td>9</td><td>Literal</td><td></td><td><a class=\"ProveItLink\" href=\"../../../../../../logic/booleans/conjunction/__pv_it/common/42118ff318bd65d98b1393f64ce7c2269feef76e0/expr.ipynb\"><img src=\"../../../../../../logic/booleans/conjunction/__pv_it/common/42118ff318bd65d98b1393f64ce7c2269feef76e0/expr.png\" style=\"display:inline;vertical-align:middle;\" /></a></td></tr>\n",
       "<tr><td>10</td><td>ExprTuple</td><td>12, 13, 14</td><td><a class=\"ProveItLink\" href=\"../8b5aaf37847994c14969d830371b57ea9118182d0/expr.ipynb\"><img src=\"../8b5aaf37847994c14969d830371b57ea9118182d0/expr.png\" style=\"display:inline;vertical-align:middle;\" /></a></td></tr>\n",
       "<tr><td>11</td><td>Operation</td><td>operator:&nbsp;15<br>operands:&nbsp;16<br></td><td><a class=\"ProveItLink\" href=\"../45b4fce329f13e9ad2deab107090346eb2d110320/expr.ipynb\"><img src=\"../45b4fce329f13e9ad2deab107090346eb2d110320/expr.png\" style=\"display:inline;vertical-align:middle;\" /></a></td></tr>\n",
       "<tr><td>12</td><td>Operation</td><td>operator:&nbsp;18<br>operands:&nbsp;17<br></td><td><a class=\"ProveItLink\" href=\"../27094ede24067904bb8353fa305df8461a3a4be40/expr.ipynb\"><img src=\"../27094ede24067904bb8353fa305df8461a3a4be40/expr.png\" style=\"display:inline;vertical-align:middle;\" /></a></td></tr>\n",
       "<tr><td>13</td><td>Operation</td><td>operator:&nbsp;18<br>operands:&nbsp;19<br></td><td><a class=\"ProveItLink\" href=\"../5d56aa038eb34c97b005be8161434236efec38e90/expr.ipynb\"><img src=\"../5d56aa038eb34c97b005be8161434236efec38e90/expr.png\" style=\"display:inline;vertical-align:middle;\" /></a></td></tr>\n",
       "<tr><td>14</td><td>Operation</td><td>operator:&nbsp;20<br>operands:&nbsp;21<br></td><td><a class=\"ProveItLink\" href=\"../ce35157591ef61cc488d4f0789763dd359e50bfd0/expr.ipynb\"><img src=\"../ce35157591ef61cc488d4f0789763dd359e50bfd0/expr.png\" style=\"display:inline;vertical-align:middle;\" /></a></td></tr>\n",
       "<tr><td>15</td><td>Literal</td><td></td><td><a class=\"ProveItLink\" href=\"../../../../__pv_it/common/4b7effaab3619a1c2c38fe2dee8601df8ec714590/expr.ipynb\"><img src=\"../../../../__pv_it/common/4b7effaab3619a1c2c38fe2dee8601df8ec714590/expr.png\" style=\"display:inline;vertical-align:middle;\" /></a></td></tr>\n",
       "<tr><td>16</td><td>ExprTuple</td><td>24, 22</td><td><a class=\"ProveItLink\" href=\"../471e850ccc16f5997a7ac48ffff46f61d15d0d5f0/expr.ipynb\"><img src=\"../471e850ccc16f5997a7ac48ffff46f61d15d0d5f0/expr.png\" style=\"display:inline;vertical-align:middle;\" /></a></td></tr>\n",
       "<tr><td>17</td><td>ExprTuple</td><td>24, 23</td><td><a class=\"ProveItLink\" href=\"../d8b6a0eba6558e88710687f1f05fc014c3126b8f0/expr.ipynb\"><img src=\"../d8b6a0eba6558e88710687f1f05fc014c3126b8f0/expr.png\" style=\"display:inline;vertical-align:middle;\" /></a></td></tr>\n",
       "<tr><td>18</td><td>Literal</td><td></td><td><a class=\"ProveItLink\" href=\"../../../../../../logic/sets/membership/__pv_it/common/477487d8796864d23d5810f83761435f25167f690/expr.ipynb\"><img src=\"../../../../../../logic/sets/membership/__pv_it/common/477487d8796864d23d5810f83761435f25167f690/expr.png\" style=\"display:inline;vertical-align:middle;\" /></a></td></tr>\n",
       "<tr><td>19</td><td>ExprTuple</td><td>27, 23</td><td><a class=\"ProveItLink\" href=\"../002fe358a6420f06acbf206127002fb6838085890/expr.ipynb\"><img src=\"../002fe358a6420f06acbf206127002fb6838085890/expr.png\" style=\"display:inline;vertical-align:middle;\" /></a></td></tr>\n",
       "<tr><td>20</td><td>Literal</td><td></td><td><a class=\"ProveItLink\" href=\"../../../../../ordering/__pv_it/common/68379698d72b4689bbda4b5c5cca29ee599d70280/expr.ipynb\"><img src=\"../../../../../ordering/__pv_it/common/68379698d72b4689bbda4b5c5cca29ee599d70280/expr.png\" style=\"display:inline;vertical-align:middle;\" /></a></td></tr>\n",
       "<tr><td>21</td><td>ExprTuple</td><td>27, 24</td><td><a class=\"ProveItLink\" href=\"../cb8a0f010497603ed946ad30fd4266f3ff7bab730/expr.ipynb\"><img src=\"../cb8a0f010497603ed946ad30fd4266f3ff7bab730/expr.png\" style=\"display:inline;vertical-align:middle;\" /></a></td></tr>\n",
       "<tr><td>22</td><td>Operation</td><td>operator:&nbsp;25<br>operand:&nbsp;27<br></td><td><a class=\"ProveItLink\" href=\"../c216ece09f1f63dbbdaff75b3e8b87340ddef1330/expr.ipynb\"><img src=\"../c216ece09f1f63dbbdaff75b3e8b87340ddef1330/expr.png\" style=\"display:inline;vertical-align:middle;\" /></a></td></tr>\n",
       "<tr><td>23</td><td>Literal</td><td></td><td><a class=\"ProveItLink\" href=\"../../../../../number_sets/natural_numbers/__pv_it/common/8b7c321957f52ed3b05b36af612eeae4fa4783bc0/expr.ipynb\"><img src=\"../../../../../number_sets/natural_numbers/__pv_it/common/8b7c321957f52ed3b05b36af612eeae4fa4783bc0/expr.png\" style=\"display:inline;vertical-align:middle;\" /></a></td></tr>\n",
       "<tr><td>24</td><td>Variable</td><td></td><td><a class=\"ProveItLink\" href=\"../../../../../../__pv_it/common/c06c606ec12678c58933ac85412ecadc2ae28be60/expr.ipynb\"><img src=\"../../../../../../__pv_it/common/c06c606ec12678c58933ac85412ecadc2ae28be60/expr.png\" style=\"display:inline;vertical-align:middle;\" /></a></td></tr>\n",
       "<tr><td>25</td><td>Literal</td><td></td><td><a class=\"ProveItLink\" href=\"../../../../../negation/__pv_it/common/221b3c4d1770ee9051b7c044c3f9ec61196fc34b0/expr.ipynb\"><img src=\"../../../../../negation/__pv_it/common/221b3c4d1770ee9051b7c044c3f9ec61196fc34b0/expr.png\" style=\"display:inline;vertical-align:middle;\" /></a></td></tr>\n",
       "<tr><td>26</td><td>ExprTuple</td><td>27</td><td><a class=\"ProveItLink\" href=\"../2172b6b5a562721cf67ce94593b8be1eb7f26c660/expr.ipynb\"><img src=\"../2172b6b5a562721cf67ce94593b8be1eb7f26c660/expr.png\" style=\"display:inline;vertical-align:middle;\" /></a></td></tr>\n",
       "<tr><td>27</td><td>Variable</td><td></td><td><a class=\"ProveItLink\" href=\"../../../../../../__pv_it/common/195236b98c6c564a75b5dbada74b173bc52d5c3e0/expr.ipynb\"><img src=\"../../../../../../__pv_it/common/195236b98c6c564a75b5dbada74b173bc52d5c3e0/expr.png\" style=\"display:inline;vertical-align:middle;\" /></a></td></tr>\n",
       "</table>\n"
      ],
      "text/plain": [
       "0. forall_{a, b in Natural | b <= a} ((a - b) in Natural)\n",
       "   core type: Operation\n",
       "   operator: 1\n",
       "   operand: 3\n",
       "1. forall\n",
       "   core type: Literal\n",
       "   sub-expressions: \n",
       "2. ((a, b) -> {(a - b) in Natural if a in Natural ,  b in Natural ,  b <= a.)\n",
       "   core type: ExprTuple\n",
       "   sub-expressions: 3\n",
       "3. (a, b) -> {(a - b) in Natural if a in Natural ,  b in Natural ,  b <= a.\n",
       "   core type: Lambda\n",
       "   parameters: 4\\n   body: 5\n",
       "4. (a, b)\n",
       "   core type: ExprTuple\n",
       "   sub-expressions: 24, 27\n",
       "5. {(a - b) in Natural if a in Natural ,  b in Natural ,  b <= a.\n",
       "   core type: Conditional\n",
       "   value: 6\n",
       "   condition: 7\n",
       "6. (a - b) in Natural\n",
       "   core type: Operation\n",
       "   operator: 18\n",
       "   operands: 8\n",
       "7. (a in Natural) and (b in Natural) and (b <= a)\n",
       "   core type: Operation\n",
       "   operator: 9\n",
       "   operands: 10\n",
       "8. (a - b, Natural)\n",
       "   core type: ExprTuple\n",
       "   sub-expressions: 11, 23\n",
       "9. and\n",
       "   core type: Literal\n",
       "   sub-expressions: \n",
       "10. (a in Natural, b in Natural, b <= a)\n",
       "    core type: ExprTuple\n",
       "    sub-expressions: 12, 13, 14\n",
       "11. a - b\n",
       "    core type: Operation\n",
       "    operator: 15\n",
       "    operands: 16\n",
       "12. a in Natural\n",
       "    core type: Operation\n",
       "    operator: 18\n",
       "    operands: 17\n",
       "13. b in Natural\n",
       "    core type: Operation\n",
       "    operator: 18\n",
       "    operands: 19\n",
       "14. b <= a\n",
       "    core type: Operation\n",
       "    operator: 20\n",
       "    operands: 21\n",
       "15. +\n",
       "    core type: Literal\n",
       "    sub-expressions: \n",
       "16. (a, -b)\n",
       "    core type: ExprTuple\n",
       "    sub-expressions: 24, 22\n",
       "17. (a, Natural)\n",
       "    core type: ExprTuple\n",
       "    sub-expressions: 24, 23\n",
       "18. in\n",
       "    core type: Literal\n",
       "    sub-expressions: \n",
       "19. (b, Natural)\n",
       "    core type: ExprTuple\n",
       "    sub-expressions: 27, 23\n",
       "20. <=\n",
       "    core type: Literal\n",
       "    sub-expressions: \n",
       "21. (b, a)\n",
       "    core type: ExprTuple\n",
       "    sub-expressions: 27, 24\n",
       "22. -b\n",
       "    core type: Operation\n",
       "    operator: 25\n",
       "    operand: 27\n",
       "23. Natural\n",
       "    core type: Literal\n",
       "    sub-expressions: \n",
       "24. a\n",
       "    core type: Variable\n",
       "    sub-expressions: \n",
       "25. -\n",
       "    core type: Literal\n",
       "    sub-expressions: \n",
       "26. (b)\n",
       "    core type: ExprTuple\n",
       "    sub-expressions: 27\n",
       "27. b\n",
       "    core type: Variable\n",
       "    sub-expressions: "
      ]
     },
     "metadata": {},
     "output_type": "display_data"
    }
   ],
   "source": [
    "# display the expression information\n",
    "stored_expr.expr_info()"
   ]
  },
  {
   "cell_type": "code",
   "execution_count": null,
   "metadata": {},
   "outputs": [],
   "source": []
  }
 ],
 "metadata": {
  "kernelspec": {
   "display_name": "Python 3",
   "language": "python",
   "name": "python3"
  }
 },
 "nbformat": 4,
 "nbformat_minor": 0
}