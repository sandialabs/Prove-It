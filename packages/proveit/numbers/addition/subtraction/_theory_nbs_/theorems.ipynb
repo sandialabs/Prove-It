{
 "cells": [
  {
   "cell_type": "markdown",
   "metadata": {},
   "source": [
    "Theorems (or conjectures) for the theory of <a class=\"ProveItLink\" href=\"theory.ipynb\">proveit.numbers.addition.subtraction</a>\n",
    "========"
   ]
  },
  {
   "cell_type": "code",
   "execution_count": 1,
   "metadata": {},
   "outputs": [],
   "source": [
    "import proveit\n",
    "# Prepare this notebook for defining the theorems of a theory:\n",
    "%theorems_notebook # Keep this at the top following 'import proveit'.\n",
    "from proveit import ExprRange, IndexedVar\n",
    "from proveit.logic import Forall, Equals, NotEquals, InSet\n",
    "from proveit.numbers import (zero, one, Natural, NaturalPos, Complex, \n",
    "                             Add, Neg, subtract, Less, LessEq, greater, greater_eq,\n",
    "                             Exp)\n",
    "from proveit import a, b, c, d, i, j, k\n",
    "from proveit.core_expr_types import a_1_to_i, b_1_to_j, c_1_to_j, c_1_to_k, d_1_to_k, e_1_to_k"
   ]
  },
  {
   "cell_type": "code",
   "execution_count": 2,
   "metadata": {},
   "outputs": [
    {
     "name": "stdout",
     "output_type": "stream",
     "text": [
      "Defining theorems for theory 'proveit.numbers.addition.subtraction'\n",
      "Subsequent end-of-cell assignments will define theorems\n",
      "'%end theorems' will finalize the definitions\n"
     ]
    }
   ],
   "source": [
    "%begin theorems"
   ]
  },
  {
   "cell_type": "code",
   "execution_count": 3,
   "metadata": {},
   "outputs": [
    {
     "data": {
      "text/html": [
       "<strong id=\"subtract_from_add\"><a class=\"ProveItLink\" href=\"proofs/subtract_from_add/thm_proof.ipynb\">subtract_from_add</a> (conjecture without proof):<br></strong> <a class=\"ProveItLink\" href=\"../__pv_it/theorems/69cb637363c839c851d4bc9f49381007c0cc00260/theorem_expr.ipynb\"><img src=\"data:image/png;base64,iVBORw0KGgoAAAANSUhEUgAAAQ8AAAAXBAMAAADn89dPAAAAMFBMVEX///8AAAAAAAAAAAAAAAAA\n",
       "AAAAAAAAAAAAAAAAAAAAAAAAAAAAAAAAAAAAAAAAAAAv3aB7AAAAD3RSTlMAq1RmmUTNIjK7EInv\n",
       "3XZ/CtNrAAAACXBIWXMAAA7EAAAOxAGVKw4bAAADOElEQVRIx71WTWgTQRR+3WyyP0ma4MFLoSwo\n",
       "eJOAP2iFGKgFe9FAL4pi40GkPW3Bo5Z4EBQLRizoag8rQlECJrSCRbAURFBECaJYhMJWDxUPpSBY\n",
       "6KE4b2Z2sz8TWnHxwZsMX76Z/eb9zC5A7KZwF5n5V/A/2jfuIjvXGc7jZFeMOqQm87DpUy2A7oJw\n",
       "DcIDOLkYo5Bp7hFLlcgwKl5E4KuY0VqMQvq5RyxnkGG/eBGBUzZA2ohRyAL3iA2TJ0HGFi4icIKk\n",
       "JxVniVSYR+0lzY+4SBB+v7T0LkYhcpM5pFcPBf85v7qDoPlws/esOAw+DnB/y+1L7GdPCHbEZ0NX\n",
       "PsJgsGt+2w0TEhgseYka1XTW1DaAwmOgeCrVkVBbTfaO0wmr5kTZ9x9y5aiQrMG9CR+COduAjANS\n",
       "qHz0VyCTtkZYs9Pt/Xvaz1m2yvptU3rgE/LQiz/nJqP3RabM/CSryml69kVcU4FcE9S1UCbXUDKF\n",
       "JcdXq2+82bEqydxTgCM+IQPun5rLHe0o5G0kVE0YNiAZikimBg3CpnClSIZ68TmGYXMZD5L+7tAr\n",
       "8NE1963BhLRcnuZyZ7wd54uB1OibgmuERElqBWuk4cBRzBvCM+RY+hd1HWviazeW5Wd14QmtTa84\n",
       "qRCl4vI0l7sbZIvYHciWJ3iwHOa/yDGDQqqkHiARujsbBuyUTAZfJsrkkorB0QpYvnJNrw4hq68v\n",
       "ICRZ83gu97RLGITHbIKNiE5aZi7wyK6CVuKd7TPNkT7JHO6qYla7MVCZqpxnKT5IzmlcPxUQIuUZ\n",
       "b9CasqwC5d5wCa+9Im8xT88Wg5eo3oMXf7Yc6preubEfPrhhan1kXQ4yJMU58nlwk56OFKveFqLW\n",
       "XB5GhHK91Kx7Wy9yF9uVLeCMeWvIrkPWPgx1SJWhqeFxlGcmzAeKlfKYEOTCqrvBBUi331+dXm2d\n",
       "Xoc+ONm/dxYmDPWEQ0alv2gr9xCuj0xWfULuMh7vGsIlCLdL+366WTeZi7/eatuCDd9YtyxfOhnx\n",
       "TOAewQwL9kVM7/Rd0UFhCE7a7TFkbGPZ9N+sfsBv49xFtrItOOEbhULgRQg+AP/b+Mn1EGzH94Q/\n",
       "/F3cf3a6rd8AAAAASUVORK5CYII=\n",
       "\" style=\"display:inline;vertical-align:middle;\" /></a><br>"
      ],
      "text/plain": [
       "<IPython.core.display.HTML object>"
      ]
     },
     "metadata": {},
     "output_type": "display_data"
    }
   ],
   "source": [
    "subtract_from_add = Forall((a, b, c), Equals(subtract(c, b), a), conditions=[Equals(Add(a, b), c)], domain=Complex)"
   ]
  },
  {
   "cell_type": "code",
   "execution_count": 4,
   "metadata": {},
   "outputs": [
    {
     "data": {
      "text/html": [
       "<strong id=\"negated_add\"><a class=\"ProveItLink\" href=\"proofs/negated_add/thm_proof.ipynb\">negated_add</a> (conjecture without proof):<br></strong> <a class=\"ProveItLink\" href=\"../__pv_it/theorems/70a88086b4c33be231e293df91e03ad50d96c3800/theorem_expr.ipynb\"><img src=\"data:image/png;base64,iVBORw0KGgoAAAANSUhEUgAAAUAAAAAXBAMAAACIQotiAAAAMFBMVEX///8AAAAAAAAAAAAAAAAA\n",
       "AAAAAAAAAAAAAAAAAAAAAAAAAAAAAAAAAAAAAAAAAAAv3aB7AAAAD3RSTlMAq1RmmUTNIjK7EInv\n",
       "3XZ/CtNrAAAACXBIWXMAAA7EAAAOxAGVKw4bAAADsklEQVRIx82WTWgTQRTHX5PNx26SJngtlIhi\n",
       "D1oJ2BZaoQSqaBFtoBcLYiM9SAVhvQiCLetBtKg0QqFGS10RCiViYxU8iKUg4hdCEYpFKaT2ICiU\n",
       "IqjQQ3HezM5+zG6SIhF88Da7k9/s/OfNm7cDUHMLGV7R1Kpt6lZe81f2xfCKdtLdVJ90EYESQAIf\n",
       "dtRQn6/IvKwpEwtETcrVvlvQi8QqwEF8OF1DgVOGl7dgmlzOuHRnhQYkgjpcwqXO1VBgl+HlLY5r\n",
       "2SK2SmJMkfCnUSNEkjUUOG94eesnQ0JUF1qjIkaJt+AnwoO1TMEs8wr2nK6zGLBdrkxAYgDg/fLy\n",
       "uxoKlIrMTTs3Nywgp9a2kVVLCK1H7A9zqxojHgEcBrhdddg0i45YvUoeOyDljE7gFdx1rqbyS59R\n",
       "wY9RlpapUa0DNmQoKeUY0UZmCCFzMuFBYauPNbLps13Uav8PWcktMJZkzu1BCo4KSbAB0RL4xDz9\n",
       "YLv/bBJ7AGQ9kjH/abDGX8lnlJuq744lUDEnIhlswF3vohnmUzQ2S9CDw4H1TDpnIV6E8LrQ8SUZ\n",
       "4CyFNGmDKkBilEyoZNsjr827AxrJk4cA+y2BkjkRmbNnygrk9gaUn0KMi9CfhMC8W6D5DjocJU4Q\n",
       "z3aSS6HzKYreXMF8iayWaB2/f5l/DmmPmMnJnJ3l7yRdPJdY2QT/uqsM9ujgWxBy0LbEM/RdlGgm\n",
       "PkvCoHwM/8ac+1SP22ExPD+NSFMT70IFnjc5mbM7oTtPLIVdjOCWmHOBP6Au2+QUqCkvSAkWPw6T\n",
       "NoJEJ8OIduIXyQSkNB1ATuHWkXKK1otgR4dDYJ/FcbaPJyXpYoQy4Swhk9CcTjuU1KXktFCKgBUU\n",
       "M8VzENEYgcWnTsOsqceXRjUpwVKojcQlefW4Q+B2g+vOT5CgUXbElnnG5lpgzu3e9yuNmrPMNOCX\n",
       "MJYRBN6w3T/b980gFvmqq3IHyb44REn6xEm5u0ajQTaJYgkcMTmMIGX5EsetCrlkeBUbctUnzYMI\n",
       "8alG1dFevQAxvR0KEMxAUcbNEnqiwpxjk1COCUQW1nh5Jl1s3/iWrZ0pHOZPexDmCSLQtfcxXE+G\n",
       "j5XINdTVqYduYXNhcEyzBMoq44xdTFgY56do0oWXIJV5lWO3+wA17kFccLYlbddCPm/LElaYio46\n",
       "iOnkcU7DNqXq+c1jCtMehFN0QLeugrEBDzm+JPjrFalhwyvaV4+gllxEvfP9ftvVU2BE1N4K/4sZ\n",
       "MxEF6v9+5D+TkvxYUPS2WgAAAABJRU5ErkJggg==\n",
       "\" style=\"display:inline;vertical-align:middle;\" /></a><br>"
      ],
      "text/plain": [
       "<IPython.core.display.HTML object>"
      ]
     },
     "metadata": {},
     "output_type": "display_data"
    }
   ],
   "source": [
    "negated_add = Forall((a, b, c), Equals(Add(Neg(a), Neg(b)), Neg(c)), conditions=[Equals(Add(a, b), c)], domain=Complex)"
   ]
  },
  {
   "cell_type": "code",
   "execution_count": 5,
   "metadata": {},
   "outputs": [
    {
     "data": {
      "text/html": [
       "<strong id=\"subtract_from_add_reversed\"><a class=\"ProveItLink\" href=\"proofs/subtract_from_add_reversed/thm_proof.ipynb\">subtract_from_add_reversed</a> (conjecture without proof):<br></strong> <a class=\"ProveItLink\" href=\"../__pv_it/theorems/3d22dde0d0b0191d15e9dacc731b8f931a5da1920/theorem_expr.ipynb\"><img src=\"data:image/png;base64,iVBORw0KGgoAAAANSUhEUgAAAS8AAAAXBAMAAACortSfAAAAMFBMVEX///8AAAAAAAAAAAAAAAAA\n",
       "AAAAAAAAAAAAAAAAAAAAAAAAAAAAAAAAAAAAAAAAAAAv3aB7AAAAD3RSTlMAq1RmmUTNIjK7EInv\n",
       "3XZ/CtNrAAAACXBIWXMAAA7EAAAOxAGVKw4bAAADk0lEQVRIx8VWS2gTQRj+TTaP3U3SgOClUCKK\n",
       "PfjKwRZbIRbiqwga6MWCSEBBWhC2F0HQsh4Ei0ojFGpUZEUQSsTGtmBPEhDBB5VSLIpS2NpDPZVS\n",
       "D4pCcZ77mJ3QS4oD3z7++Wb3m3/+/58BaHiLMdTpCjQj+GrAZrTvDJIWsYO2VMb/fo4hjV92NFBX\n",
       "qEowNiPrXAqadotCsxRH8cvFBgp7ynBB1hm1RItWFC39FNfx0pcaKCzPsCbrDHeJFiUrWg5Q4Dno\n",
       "mQYKq1FE/kh734uGRICSsAjCSHG0kSFWpNBnpd3nRcOu4HJnKWYWFj40UJhSpYi2LArroK8cBHgh\n",
       "8k96q0nzMkpbPU1xAuD+hr+joRES64sk+/l8x/u1X/4aNgfdAO1E/AJpadGFZw0VBUC4SDEAsTTv\n",
       "ifcJqTvSMkgeaHa0efswVwkKS2Yo9lvw0d9RxYY9In/Ok6CvQUEBEKpRqJZecPqa3f8ulgvaXSP0\n",
       "wBWmORNQGDdSDYZugeIYwF9cOIhvvqCn06RSDIv8N+i7lwjJVFaxeoivUoRsT+y/dZ6OmGilnwMc\n",
       "coUpzgRUzu2vK+wbRPwF4x1dLYkwZ2gJxtHISI0Cijl0qeReYjetL+J56Us2rr3w5Abf3oiwpMNT\n",
       "OXfCiewl27+Ua6D4Coa2Tm57xRjzLOW4DYdxJM9SwASatvY5jkM19TWFw3w+XhvDzNZWPoYIu+zw\n",
       "VM7dCd1l1LJ4CHOmTfEbnvlL50/kB4AO0WOPPMIysA3lVxj9DAOuIuVKF/mwmsXpoJQ0swczOzt9\n",
       "wnpdHuf28qBDQ5jrWLJvhRG/ApSS0/7qQJqnfqh26JPiFhzYYuKoSGHHJkwlTUOkHfkhc/OMT9h2\n",
       "xusuP0ROItwhT2SxpJmleDwl7DX6ZA6Fybwo7I5ntVumB36gQChQUC8aaica1gQJFB5NqFzdIt9C\n",
       "wa+5woYcHvYY4fKlbHIr3BcG+YEssB8kTdFyjYHO2BjusSqQtDqgAtECVFWcBLEpA175gp/wqDDM\n",
       "hRVeVtEQ/x5cZ1/Ibryt81MAPcHl903C7Uz8lI2usXzOit3D5krfiOkKUw3KY1mJuDDKPZHP8QMN\n",
       "YhFI25WgaVR0ail43Ml4rpVy2a27VJhbTlUeFZLzErZp9c5Ro0HTmPAumVjEcq9Coz867qv8+C7z\n",
       "zCCDpKUk/Jiw4S4zeJfbc5UK00XNbfC/G5upKMzavD/+Azbu+Id6FulbAAAAAElFTkSuQmCC\n",
       "\" style=\"display:inline;vertical-align:middle;\" /></a><br>"
      ],
      "text/plain": [
       "<IPython.core.display.HTML object>"
      ]
     },
     "metadata": {},
     "output_type": "display_data"
    }
   ],
   "source": [
    "subtract_from_add_reversed = Forall((a, b, c), Equals(subtract(b, c), Neg(a)), conditions=[Equals(Add(a, b), c)], domain=Complex)"
   ]
  },
  {
   "cell_type": "code",
   "execution_count": 6,
   "metadata": {},
   "outputs": [
    {
     "data": {
      "text/html": [
       "<strong id=\"add_from_subtract\"><a class=\"ProveItLink\" href=\"proofs/add_from_subtract/thm_proof.ipynb\">add_from_subtract</a> (conjecture without proof):<br></strong> <a class=\"ProveItLink\" href=\"../__pv_it/theorems/26aa96c2749750017dbf6d093f0fdbe10831a9090/theorem_expr.ipynb\"><img src=\"data:image/png;base64,iVBORw0KGgoAAAANSUhEUgAAAQ8AAAAXBAMAAADn89dPAAAAMFBMVEX///8AAAAAAAAAAAAAAAAA\n",
       "AAAAAAAAAAAAAAAAAAAAAAAAAAAAAAAAAAAAAAAAAAAv3aB7AAAAD3RSTlMAq1RmmUTNIjK7EInv\n",
       "3XZ/CtNrAAAACXBIWXMAAA7EAAAOxAGVKw4bAAADRUlEQVRIx71WTWgTQRR+3Wx+dpM0xYOXQllR\n",
       "6K0UtKIVYqCK9qAGerEgth5E6mkLxZOWeBAsFoxY0KiHBUGUgAmtYC+WgggVf6iiKEJhq4eKh1IQ\n",
       "LPRQfG9mdpOdTLDi4oM3O3z5dvabeT8TgNAtLlxl9l/B/2hfhavsdHO4jSY7Q9ShVbnLZt5bBGjt\n",
       "Vr5D8GGanAtRyAPhDRbL4XBe/RLClymixRCF9An3bUA8MxYOe9QvIRxzAJJWiELmhfvWJZ5D+CVI\n",
       "OcqXEI5geGJhpsgw90Yhz1h81ElC8JulpVchCtGr3CG5ui8o5MzqNkTb5GJvX3E5fBTgzh+Xz/Hd\n",
       "yvXuqvdGHn8P/QEh5i+nYkOEHdaxJbJ3ND1lGxvA4FGI+yoTI1JZTXWMswnP5p7634irNwpJW8Kr\n",
       "8DYgRNuAlAvavFTUz0HHsibYcJJ5H2+vfWe5lDdv2NrdmhAzeKzIjTb2i1Se+wmelbj313zv+jBk\n",
       "qpBYkyK5RpIZrLl1ubrgzw4VMHKPAQ7UhOj5wBoLyrbgCXkpJyt+b8iCqHQiqSJUkM3g4SwO5exT\n",
       "OobNZdpI8pvLWuD9K96twYSkfR543Gl/xblsIDTmpiwE2wiekrYYzJGKCwcpbgRP47bMT4l1yokv\n",
       "rZSWHxPzj4jf2ektxoRc8HngcXeBXkK7Cen8JIcNl/tP3GZQSAHzASJS76xYsB1rgMEXMfR6LkGH\n",
       "Y3RT+upFs8DaYW9vQMigzwOPO+gR+uEhn1AhkmPJzAaEtHQbOVHZdWa42gddwC0FimorZWKqoLfx\n",
       "EO/FfVpXTwaE7BC8CToEm3EnPMILP8kXuSdnsk6wfNup8afzUtV0zI5+r4MrttGL72UghSHOYLu4\n",
       "xnaHyWrWhEz4PHbUxPVDs+4v/Vl4Q2dldkndp3w4ZV8fcMqQdvZDGWJ5qBr0ufgTG+YCycp4IiuR\n",
       "C6veAmchWbu/glfbgHwlNrkpmUX7umZg0kocd3GM92Wd+G2CyyNThZoQw+Y8EQPkwi1vgbHdP7yo\n",
       "29zV/96KW4KturFcKtWFkxEb25epWJcws9n/iiYKJTjq1EbJ+MJHGm441brjwlW2siU4UjcqhSRl\n",
       "jT3wv03sXBbihPeF36vx3c1WhEyXAAAAAElFTkSuQmCC\n",
       "\" style=\"display:inline;vertical-align:middle;\" /></a><br>"
      ],
      "text/plain": [
       "<IPython.core.display.HTML object>"
      ]
     },
     "metadata": {},
     "output_type": "display_data"
    }
   ],
   "source": [
    "add_from_subtract = Forall((a, b, c), Equals(Add(c, b), a), conditions=[Equals(subtract(a, b), c)], domain=Complex)"
   ]
  },
  {
   "cell_type": "code",
   "execution_count": 7,
   "metadata": {},
   "outputs": [
    {
     "data": {
      "text/html": [
       "<strong id=\"add_cancel_basic\"><a class=\"ProveItLink\" href=\"proofs/add_cancel_basic/thm_proof.ipynb\">add_cancel_basic</a> (conjecture without proof):<br></strong> <a class=\"ProveItLink\" href=\"../__pv_it/theorems/c49a8b8ed2989baeacf5e858c89a6e41767297390/theorem_expr.ipynb\"><img src=\"data:image/png;base64,iVBORw0KGgoAAAANSUhEUgAAAOMAAAAXBAMAAAALo+VwAAAAMFBMVEX///8AAAAAAAAAAAAAAAAA\n",
       "AAAAAAAAAAAAAAAAAAAAAAAAAAAAAAAAAAAAAAAAAAAv3aB7AAAAD3RSTlMAq1RmmUTNIjK7EInv\n",
       "3XZ/CtNrAAAACXBIWXMAAA7EAAAOxAGVKw4bAAAC5klEQVRIx7VVS2gTURS9mUw+M518cOHCQBkQ\n",
       "7EKwQaRg1DaSKkJRA3XhQkzEhbSr6V4lgopgJS0paFRkQBBq0EQrqIhSlGJBhChCpRCYQKFCMWSh\n",
       "FiqI75dJ55M0jnrgJDPnzZvz3r333QH4CyiMrcY6lztFUKa0xcnWchhfbHVkuZ3RDPF2Ga0latFf\n",
       "LClEPoBvzjhxFNOUVnjj6GfUosriApEvoBvfhBNLPkppRQhHe5dZ3QfwnMheFaBLdmIpMVqRUvGQ\n",
       "alInAXpVLLvROr2OUrmN0YqXJI7mAHwDyMpEfl+pvHNkOcToiyxrxpFTtU0odGFT6rFllMiHAG62\n",
       "SVjrodOMJxRhzfjyH2pRATeprMMVjA94ZT+RpUbkMfDp6/GP6Gduqvs8/hfMRpf1UvtIKb4Bvmx4\n",
       "hFsDSQNu1jiRWJaILKhdSV2PYN9qPilOKtwtW0tXqXE1R8nXIYC1e2Q/n3Fk0hAqgb9uCiyyTGlE\n",
       "5rR11TOPOJhBiXgIsMfWUsqYLKUJKCYNj6AVpGTwzFrLp5fJ6X70U+h/ijf4q6qStnH3EopE01Kc\n",
       "WWk0x2xtizGwRQ0GLMfyqApc2ZhLyAMMMPkxagjign8VZ3AxGJ/Gwz09bDq1fKBkFT6PkIOv6hIb\n",
       "ukNZlGEzZ+jWoQzKL7jN/WUvwEEmn0XVw8f9eMNC1J0exsOxmMFyEMYbE3PQx64eUQoa98lY166o\n",
       "gDoeXzJZBmRxnskulB0pGQyTRPHhPrQZ+cpxg+UcVJvZ3s+urlGK3c/GvhgLJZLADklzTx6qZtbJ\n",
       "RUWIoQYVAkm+iu9x+Yi6pbgKufsssHV43Vh1hrIFzm0gS0p2WC1AQN2NDg0+RE8UeNXc5Vv/90ak\n",
       "F/UcueOULZDYQPYkdszAuOw/ooHvBhYKI1OZpuWxnSuNjnmxps++zmiLFl8ns0w/KIV8vpkGoU2T\n",
       "nWa0haB0IntUm0faWPo0SlssdyS74c8s/xN8//6VvwFc5sYbRg9XQAAAAABJRU5ErkJggg==\n",
       "\" style=\"display:inline;vertical-align:middle;\" /></a><br>"
      ],
      "text/plain": [
       "<IPython.core.display.HTML object>"
      ]
     },
     "metadata": {},
     "output_type": "display_data"
    }
   ],
   "source": [
    "add_cancel_basic = Forall((a, b), Equals(subtract(a, b), zero), domain=Complex,\n",
    "                         condition=Equals(a, b))"
   ]
  },
  {
   "cell_type": "code",
   "execution_count": 8,
   "metadata": {},
   "outputs": [
    {
     "data": {
      "text/html": [
       "<strong id=\"add_cancel_reverse\"><a class=\"ProveItLink\" href=\"proofs/add_cancel_reverse/thm_proof.ipynb\">add_cancel_reverse</a> (conjecture without proof):<br></strong> <a class=\"ProveItLink\" href=\"../__pv_it/theorems/c88f23818f99561bc83036771fba585741e920950/theorem_expr.ipynb\"><img src=\"data:image/png;base64,iVBORw0KGgoAAAANSUhEUgAAAPMAAAAXBAMAAAAsDWSYAAAAMFBMVEX///8AAAAAAAAAAAAAAAAA\n",
       "AAAAAAAAAAAAAAAAAAAAAAAAAAAAAAAAAAAAAAAAAAAv3aB7AAAAD3RSTlMAq1RmmUTNIjK7EInv\n",
       "3XZ/CtNrAAAACXBIWXMAAA7EAAAOxAGVKw4bAAADBklEQVRIx7VVUWjTUBS9TdI2ydq1+OGHhREQ\n",
       "3IfgisjAqlulU4ShFuaHH2IrfsgEIftXiaAiOOlGB1oVCfg1i7Y6QUWUoQwHIlQRBsNCCoMJw9IP\n",
       "dTBBfO/lJV3SJNbKDpwmOS99591377sB+A/IlH97p325XXRLOj1x0l2O4putHVlvp3SDeLeC1hZv\n",
       "0V8uyUQ+gB/OdOIsZnW6I5BEP2dbVElcIPIl9BCc6MSai+tshZ+qEZyNXfbRfQAviBxQAbqkTqxD\n",
       "lK1gNP2aUfErqm10EqBPxTKLVhjoKNXbKN2tX5H9tW/Md4CcROQP1er7jqyHKQ0EY8ua1fpUfRPa\n",
       "0qitRLB1nMiHAG57JNR96DSlgROysGaxFn+qJRlYUomHqxgf8Qp/IWuNyGMQNNfFj5pndqrnIr4K\n",
       "dsOrZkl+ojSieQtcxWLNrEFIA2bWOgGxLhNZULvSph7D/rVCWpyUmTuO1r6ycTenUzxHAlK4BoTx\n",
       "GFetfkFJROFwWYiUgW/YNhxZZzQiM9q6KptHHFJQgh4B7HG0Dik2a3NgAkppS9RoJRkJ/LOtZdZH\n",
       "5ewA+ikOPMMB/66ppP3cv4J2pmktzqwYTTdX3+K84SUNBq0Vjo71URWYijXXUAAYpPIT1FjEBX4V\n",
       "Z3ixOzmNh3t76Sy69UM5J3MFhDx8U5fo0D1Kw1qCzYxssVZQ/oG196u9AAepfB6nJcnjDRDibHYE\n",
       "DycSFushGDf+mId+eveY0nhTYz5zlqh9cQF1Uq5ssw5L4jyVfSh7oXR3lCSSi/aj4KRrxy3Wc1Br\n",
       "VsN+eneD0iifnudjX62HK5bCTml77x+uKevkkiwkUMOLQEi6jp9xmYmmtbgK+Qd0wxvwxli9otO9\n",
       "mxFccO4KphyScyNqEcLqbnTY8OF7KsPrZtTv+B9GBhbN3LFJne6fD4KUs7Up+1M7ZmBc4o9oELyF\n",
       "heLolNK0PrZzxZjtct38901KT7h8Fe2y/gErFgrN9Ages05TekKQ25H9qsMrXgFpOj2x3JbMwr9Z\n",
       "bzCCGzf1H6up1OXuQjqeAAAAAElFTkSuQmCC\n",
       "\" style=\"display:inline;vertical-align:middle;\" /></a><br>"
      ],
      "text/plain": [
       "<IPython.core.display.HTML object>"
      ]
     },
     "metadata": {},
     "output_type": "display_data"
    }
   ],
   "source": [
    "add_cancel_reverse = Forall((a, b), Equals(Add(Neg(a), b), zero), domain=Complex,\n",
    "                            condition=Equals(a, b))"
   ]
  },
  {
   "cell_type": "code",
   "execution_count": 9,
   "metadata": {},
   "outputs": [
    {
     "data": {
      "text/html": [
       "<strong id=\"add_cancel_triple_12\"><a class=\"ProveItLink\" href=\"proofs/add_cancel_triple_12/thm_proof.ipynb\">add_cancel_triple_12</a> (conjecture without proof):<br></strong> <a class=\"ProveItLink\" href=\"../__pv_it/theorems/ecd17ab2f3598e02d84e0f775f059ea6c2f5b1750/theorem_expr.ipynb\"><img src=\"data:image/png;base64,iVBORw0KGgoAAAANSUhEUgAAAREAAAAXBAMAAADelGYUAAAAMFBMVEX///8AAAAAAAAAAAAAAAAA\n",
       "AAAAAAAAAAAAAAAAAAAAAAAAAAAAAAAAAAAAAAAAAAAv3aB7AAAAD3RSTlMAq1RmmUTNIjK7EInv\n",
       "3XZ/CtNrAAAACXBIWXMAAA7EAAAOxAGVKw4bAAADU0lEQVRIx71WX0gUQRj/vH97t3ueQo+BLAT5\n",
       "UNZCImlwHFiRRHrgSw8RBwahEFyPQcr2EAUVXiDYFdhKEMhFWgoFgfgSaWGIIEUlnPkQFIQYURRI\n",
       "3ze7t7szjtfhUR/MMDfzu29+3ze/b3YAqrYsNqVSsLK1j6otoWP3sVJ0uCidPo2tnga7qmCyB1tg\n",
       "QrIwNi+Dr8rDMQCO0ODs9omoGezuS5fOyCYjlhTbB3CJDi+3fSYhjAbapUvrpRMxfJPBlBTbbHPU\n",
       "9O0ziVM3I5XEL2cQ4LTxUu7GgiASjlQhk920VUa2oi1ImfRI3USQxvzy8qsqmBynEyLBnp8eEJw3\n",
       "rOg8E+3rQYBHm1xMr5qgYeUcA7j91/1SW670OAGFX8BdXozjfeoPjomyCB0ALUxdy8xY4fbroRwE\n",
       "Ma3nQakv/TnaKxTXUIMdqChpD7iIrRZjf2DACR6z34LXHJPaCZrYK8byHuJFCKDUYpaWdmd3enut\n",
       "5NPqzWzgjpSJB3xOckMHXeQSi/ocC9bE4VGA3yz6D/N29F0sZ4Ni8TFhR9eIsU+ws+7oMDrTHgIc\n",
       "kjOZFZnMgfpdjDW8zuVkjvWnxKphvsNUfpkkdoXkE2K2sUK8tdUiXXpw73LpQ2EzsUHgAb3TUTcg\n",
       "uCZeJ3a4JSYIIWsSdDLOVgNUaI/xflPfREldiXcJ0uZSdGaMlhsbS14ZEwbqyKMZDhBtBFusCOo6\n",
       "1GQaOSY/STv+nHzD0AFahZzUISgNQdrhIjILpaKUnphBGg7lVLObQG1tHBMHBC6QjIqSSnAEmlJ8\n",
       "he2AIf4+wcJ5apc9p5McaKZ9EdSYdNIJylTcDNXbx96CketXT3JMHBC4QLIbdFaY2tEvVxpMbovR\n",
       "KYNnok0m8UiXRMk9O/AZD7hUNePZWBui6iCOBVmHr4Vr7K+oWNVjwkD26dhAVpq0/duylxF3xyoL\n",
       "Uky/K+DsYLdVgFqrFQoQScNEjASpTGVh2pcTAjn7W63+L1pz+TeJIX4xN5v7DQ2375uE63q0s4i9\n",
       "0p60lFusWHqHTI8JAzm10+nGOUyyqfzNdUH+lBOuCd3XF/J578KDMs8GqjK18mfFsHRWCCVseb1g\n",
       "ZXZSKDsDFb815dn7xP8M+vrKmfxny/77Lf4AHRDhF1KW0AsAAAAASUVORK5CYII=\n",
       "\" style=\"display:inline;vertical-align:middle;\" /></a><br>"
      ],
      "text/plain": [
       "<IPython.core.display.HTML object>"
      ]
     },
     "metadata": {},
     "output_type": "display_data"
    }
   ],
   "source": [
    "add_cancel_triple_12 = Forall((a, b, c), Equals(Add(a, Neg(b), c), c), domain=Complex,\n",
    "                              condition=Equals(a, b))"
   ]
  },
  {
   "cell_type": "code",
   "execution_count": 10,
   "metadata": {},
   "outputs": [
    {
     "data": {
      "text/html": [
       "<strong id=\"add_cancel_triple_21\"><a class=\"ProveItLink\" href=\"proofs/add_cancel_triple_21/thm_proof.ipynb\">add_cancel_triple_21</a> (conjecture without proof):<br></strong> <a class=\"ProveItLink\" href=\"../__pv_it/theorems/8afb4fe611acabe1dafb0072c7603e4aef95e2960/theorem_expr.ipynb\"><img src=\"data:image/png;base64,iVBORw0KGgoAAAANSUhEUgAAASEAAAAXBAMAAAC2Z+QsAAAAMFBMVEX///8AAAAAAAAAAAAAAAAA\n",
       "AAAAAAAAAAAAAAAAAAAAAAAAAAAAAAAAAAAAAAAAAAAv3aB7AAAAD3RSTlMAq1RmmUTNIjK7EInv\n",
       "3XZ/CtNrAAAACXBIWXMAAA7EAAAOxAGVKw4bAAADWklEQVRIx8VWTWgTQRR+TbLZZDdNCh6FsiDY\n",
       "g7YGFLEVQqAqFmkb6MWDSKGCtKf0KFhZD6Kg0ggFjULdIgglYltbUBBKL2KrVmqhKNaFlB4EBSkR\n",
       "URSKb2Znf2YzqaYB/eBNJjNvZ7735r03A1Azskyqglx5rZoR1yypDlJROHwapYF0dtXAaA+Tihhf\n",
       "FI2ui81LAhwlnbPbJ6T0WrIFzogGw4ZQdwDgIjnU3PYZhZKWCA7GHi3ZIz2e2WBauNwBi6uqbZ9R\n",
       "jEk5AixUpJ/2SIt3+oV4OQOCaEm4hjDazaQyI3VJyKhP+FEY6Sya5ssaGJ1g4mBw9gLPKNy4pvGM\n",
       "1C+HAKbKlppd10HFTDsOcPuP+6YrzvT5zJWew12DYzQxoHznGMnL0AFwkEahSUETfkgL5SCISTII\n",
       "coO9XKTfl4wjjZbB/tB3FZeZ2HiQhE7eR/sMeM0xqp8kA3v9tq1CrAiBOYCooWac0Z3unmv5jHIj\n",
       "G7gjZOQqPmNynxr7DrrJ0tT4D4uW8ccAfuFPp2m+Ms032OumPhz2Jy1NgMgGMcUT2PNO74iO5/0Q\n",
       "4LCY0byfkY0FUL7xPloFqcT5aIG2p/xZRveQ0EfQm8KmkHpMGG6uEf7qepEUT7h3yb6ALEaWEriK\n",
       "5aembEJwg2dUYubbjFCFoNkXRxNUPUAS8xHWSeVthERf/H2cxPBKZG6cTDc12RtRRlSpI49IMkXE\n",
       "KBObUQnqeps4Rj9IbHl99BVdAdDq81EClTIQJDudR4ahdIS4K5oksR7KKTotr21tHCOmBI4iwRTw\n",
       "iTwKzek0x2gHjPD1CBPtia9kkNVzoOoQmsRuHUZMLBMnnovpoQbyB3MTPaFdOckxYkrgKBJcZ2Jj\n",
       "7PPlRp1jNDaT5Bmp0yk88hV/aD7d/wnz0M6yiWy0DbUSEMNilsBXylX6KUa24jKiStapWYo0lXVL\n",
       "KtdsF96aLS8Jy9uQE+jZ4R6jAPVGKxQgnIHJKAlceSYLsx4fESXGw2j13JjiW1Mqu397fDe0AO3O\n",
       "1+0t03BNi3QVsZXbU4Z8iyZX/4juMqJKLNe6HAfcZFIlzomflr4yo3naQj7vFk7Y4rkyzqRKiI2I\n",
       "8s9ayXBbH7ZgJBctqfItLH5Rf+T/Bj3t3zP6T8j+u61+A1RI6cnDpbZDAAAAAElFTkSuQmCC\n",
       "\" style=\"display:inline;vertical-align:middle;\" /></a><br>"
      ],
      "text/plain": [
       "<IPython.core.display.HTML object>"
      ]
     },
     "metadata": {},
     "output_type": "display_data"
    }
   ],
   "source": [
    "add_cancel_triple_21 = Forall((a, b, c), Equals(Add(Neg(a), b, c), c), domain=Complex,\n",
    "                              condition=Equals(a, b))"
   ]
  },
  {
   "cell_type": "code",
   "execution_count": 11,
   "metadata": {},
   "outputs": [
    {
     "data": {
      "text/html": [
       "<strong id=\"add_cancel_triple_13\"><a class=\"ProveItLink\" href=\"proofs/add_cancel_triple_13/thm_proof.ipynb\">add_cancel_triple_13</a> (conjecture without proof):<br></strong> <a class=\"ProveItLink\" href=\"../__pv_it/theorems/ef5f9ba25873c4d19b29369b89fe3d4f80f24c570/theorem_expr.ipynb\"><img src=\"data:image/png;base64,iVBORw0KGgoAAAANSUhEUgAAAREAAAAXBAMAAADelGYUAAAAMFBMVEX///8AAAAAAAAAAAAAAAAA\n",
       "AAAAAAAAAAAAAAAAAAAAAAAAAAAAAAAAAAAAAAAAAAAv3aB7AAAAD3RSTlMAq1RmmUTNIjK7EInv\n",
       "3XZ/CtNrAAAACXBIWXMAAA7EAAAOxAGVKw4bAAADTUlEQVRIx71WXUgUURQ+7t/Mzqw/0GOwLAT5\n",
       "UNZCImmwLGxFEumCLz1ELBiEPq2PQcr0EAUVbrBgW2AjgSAbaSkUBOJLpIUhgiSVsJsPQUKIEUaB\n",
       "dM6d2Zm9d2dtcKkD9zB777f3fOfv3gtQs6RxSG7BUvU9apaGCKrPbtH+guP0RRxN9HGgBiaHcHim\n",
       "3CAnFlGtO7sTBThFH5f3TkRJoRp3h72EI6A7LvUDXKPkZfbOxIfeQIJLQLQadguHN+641GpwVCN7\n",
       "ZxIiNVc+4ylUq5FfpN84b6ODFz0I1FAmB8l2yhUTdYl0r+NaAGksrq29rYHJWcoQFezA7JDARP12\n",
       "nLcWLmLwn1ZsMbuugYqdcwbg/l/txauu9JoO+V/DQ51jIi1DJwed7Fe2AdpYda0xYY07GPFlwIth\n",
       "HQCpqYSV+4TmyoYNR8WStoHLOOrR1cdROMfHpH4K3nF/OqrTxGHRl48QKoAHSy2oq0lrdr9tq5hL\n",
       "KnfTngeOTGzgKyo33KCbtmTOflo0nO02QjTOvF/Fr9MAvwGGxeZjdSxvkgtlBTtvfZ3UMNFPAE44\n",
       "M5kXmSyA8oOPyUKl837s4wti17C9/dR+qRiqfOw5MdspkiPqeoEOPXh0vXRRGEwMENhAOzvKDng3\n",
       "OSY4U3GckP8tQp1MMriH+uoZnm/Ke3mb6uJDA9Xmijw3QcvNzaVNGBMG6syhRE0gyiiOYAGULahL\n",
       "NXMx+Y6eckx+UjFBu8CvEeeS4CULV5GZLy5TeIJRqmFfRtF6CNTRwTExQWABSagpqQVHoSUe55hg\n",
       "47zgbO6DrNn2XJ1kQNWMg6BOo0w3UKRCmq/JSHsbeh65eZ5jYoLAApLcoVxhaMc2boQ1jok6HePv\n",
       "mLEZSvmKmLSXx75igktdM5kOduDfGiGEDdmIr4VbbC+sWMVmwkBGdgwg61Uyv+rqjDVOmSXH6UGr\n",
       "gNPDPXoe6vV2yEMgCVNBckeaScNsWUwIZNrXS+lmN1qruxvQujErxbpD/Ykj03A7IncVUEuJmC7d\n",
       "Y83Sl9VsJgxk9k6X5fgIlY37N9cV50gJx0SkTOdzOfvAg12eDdRlivtnxYjjrOCKX7e1ILtYkig6\n",
       "Q67fms7R+8L/9JZp90z+s6T/vYk/tqrhnhkOPQUAAAAASUVORK5CYII=\n",
       "\" style=\"display:inline;vertical-align:middle;\" /></a><br>"
      ],
      "text/plain": [
       "<IPython.core.display.HTML object>"
      ]
     },
     "metadata": {},
     "output_type": "display_data"
    }
   ],
   "source": [
    "add_cancel_triple_13 = Forall((a, b, c), Equals(Add(a, c, Neg(b)), c), domain=Complex,\n",
    "                              condition=Equals(a, b))"
   ]
  },
  {
   "cell_type": "code",
   "execution_count": 12,
   "metadata": {},
   "outputs": [
    {
     "data": {
      "text/html": [
       "<strong id=\"add_cancel_triple_31\"><a class=\"ProveItLink\" href=\"proofs/add_cancel_triple_31/thm_proof.ipynb\">add_cancel_triple_31</a> (conjecture without proof):<br></strong> <a class=\"ProveItLink\" href=\"../__pv_it/theorems/f0247acdc90f3eed5264e37f3cf40a5012d7cd580/theorem_expr.ipynb\"><img src=\"data:image/png;base64,iVBORw0KGgoAAAANSUhEUgAAASEAAAAXBAMAAAC2Z+QsAAAAMFBMVEX///8AAAAAAAAAAAAAAAAA\n",
       "AAAAAAAAAAAAAAAAAAAAAAAAAAAAAAAAAAAAAAAAAAAv3aB7AAAAD3RSTlMAq1RmmUTNIjK7EInv\n",
       "3XZ/CtNrAAAACXBIWXMAAA7EAAAOxAGVKw4bAAADT0lEQVRIx8VWXUgUURQ+7t/szqyu0GMgC0E+\n",
       "lLZQRBosC1YkoS740kOEYBD6tD4GGdNDFFS4gVBbYCNBIBupKRQE4kuklWGCFNnCig9BQYgRRoF0\n",
       "7s/M7L17NceF+uDcvXvnzJnvnHvOuRegYmS4eIK2ua2KURNn4g3BonL5LEotmeypgNE+LtvHyBwO\n",
       "K2r3EgDHyeT8zgnpXUy84BxKyFI+6gW4TDY1u3NGgQQTxcaUrXby3zUUf0pp7hDjasR3zijKpRy+\n",
       "slRp5FR/kfGV2pwFfvQkVEEa7eXigZExT8Zu5UshpDNXKLyugNEpLg76pi5JjIxvRwRGobpl3JTx\n",
       "MlNTKyYYWGknAe7+9bupTZ90S+4GX8J9S2CkLUCrwGi0V18HOEyzsEBBC74/HsiCH4ukD7Ra21y4\n",
       "RyrGwTrmsJz6ruICFxuPEtAmxqh6DN4KjA5YZGG/7NsSRIvgmwaIWEbaWd3tfnM5l9ZvZXz3lIxc\n",
       "xRdcHlJnP0AHMU2d/zTHnO9gIWsrFN4UCu9wdgLgN8CAXLQ038OrxJWSxJ5xZsdMTIDHAEfVjGZk\n",
       "RjZmQf8hxmhWzuwlCGL9n5GrjH4jiDGCriQO+eRTwnBjmThkrBRJ84QHV+wDiDFiSuAqlu+avgH+\n",
       "VYERrkiM1mg8GqQ8GqXqPlKHT7BP6u/D6yRvPtaQHF4MT4+Qx/X1ti3KiCq15hAJrogY4mIzWoOq\n",
       "rnohRt/Rc4HRT5Js0CTFKIZrafCTL11EhoFUmIQrkiC5HsjqJm2vzc0CI64EjiLBOIiFPAQNqZTA\n",
       "CAvtmcBoFwzKLYNYz4JhQmAMp1WYMdF0DYlc1AzUkj9YmxiJ+LXTAiOuBI4iwU0uNoa/Xq0zBUbG\n",
       "RNISGA1PkpRYlFPz+cEvWJh2lY1mIs34Wgyi2LtieEu5Tm1hZusuI6rEdo0p0to2mXjo2axLzSvb\n",
       "W7+T6JmBTisP1VYT5CGUhrEIcUubzMBUSYyIEudh2WlATkz1qbn5SWuf0Aq0OG+3NE7AjXi4vYij\n",
       "1pK0tDu0uHoGTZcRVeK11u4E4DYXj7igvlpKbSZeMuZzObdxwhbXlREuHqF2IiJea4OWO0rYgpFW\n",
       "ZOLxLqy+UX8W//pLxu0z+k/I/LtP/QHGx+nJfUgGTgAAAABJRU5ErkJggg==\n",
       "\" style=\"display:inline;vertical-align:middle;\" /></a><br>"
      ],
      "text/plain": [
       "<IPython.core.display.HTML object>"
      ]
     },
     "metadata": {},
     "output_type": "display_data"
    }
   ],
   "source": [
    "add_cancel_triple_31 = Forall((a, b, c), Equals(Add(Neg(a), c, b), c), domain=Complex,\n",
    "                              condition=Equals(a, b))"
   ]
  },
  {
   "cell_type": "code",
   "execution_count": 13,
   "metadata": {},
   "outputs": [
    {
     "data": {
      "text/html": [
       "<strong id=\"add_cancel_triple_23\"><a class=\"ProveItLink\" href=\"proofs/add_cancel_triple_23/thm_proof.ipynb\">add_cancel_triple_23</a> (conjecture without proof):<br></strong> <a class=\"ProveItLink\" href=\"../__pv_it/theorems/c807dce1980139f43968acfe7065ab1b6e98b6ad0/theorem_expr.ipynb\"><img src=\"data:image/png;base64,iVBORw0KGgoAAAANSUhEUgAAAREAAAAXBAMAAADelGYUAAAAMFBMVEX///8AAAAAAAAAAAAAAAAA\n",
       "AAAAAAAAAAAAAAAAAAAAAAAAAAAAAAAAAAAAAAAAAAAv3aB7AAAAD3RSTlMAq1RmmUTNIjK7EInv\n",
       "3XZ/CtNrAAAACXBIWXMAAA7EAAAOxAGVKw4bAAADS0lEQVRIx71WX0hTURj/3L+73bs5ocdgDIL2\n",
       "UNYgkTQYAyuSSAe+9BAxMAh9mo9Byu0hCipcMLAV2JUgkEVbKRQEw5dIC0MESSph5kNQEGKEUSB9\n",
       "37l39+4c7+ziqA/Ox905v53v9/075wA0LBkcklOwVH+PhqU5iuqTU7S3Yjt9HkcLfexrgMkBHK6S\n",
       "E+TkPKo1e3fiACfo4+LuichpVA+dYS/g8Gm2S4MAVyh52d0z8aA30FUb/3hd7AYOd9J2qU3nqER3\n",
       "zyRIaqZmwlWpWyO/SL+230YDN7rga6BM9pPxtCMmygLpfts1H9KYX1l50wCT05QhKljl21GeyVB5\n",
       "RLAWWcXgP9m2RXlNBQU75xTA3b/aS9Zd6Tcckhahm2PifQX3+eosDsqbAO2sulaYsMYdjnqy4Maw\n",
       "DoHUUsX6B4TmykV0v8SStoCLOELoaqgEbzkmj+Jwhv/TYY0gB0VfPkCwAi4stYCmpMzZvZat1XxK\n",
       "vp1x3bNlYgFfUrnhBr2a4evHed3XXrJBHc68X8avkwC/AUbF5mN17F8nH2oKdtb8Oq5i6h8DHLNn\n",
       "MisymRMrdg7kH6LzXuzjc2LXsL291H7pBKpC4hkx21ol15S1Ch168OBq9aLQmeggsIBWduQtgQlO\n",
       "uNfF44T8bxXqpMjwLuqrp3i+ye/8m1QX75upNpf8M5O0HItVN2FMGKg7jxI3gCjjOAK42Xf0i2Oy\n",
       "AU3pGMfkJ9UOdAgxCeNcCtxk4TIy8yT9FJ5AnGrYk5XVPgJ1dnJMDBCYQBJqSmpBbJznXHbGoTXJ\n",
       "t9weyBltz9VJFhRVPwiaVMp0M0UqqHpa9LS3o+fR62c5JgYITCDJLcoVhlaZSmgck4mv1yIqZ3Ni\n",
       "mlK+JJbciyNfMMHVrilmAp24URiC2JBhfC3cYIciVqxsMWEgPTs6kCRE1pYdnbH6A2XBdnrYLODM\n",
       "aJ9WgJDWAQXwpaAUIAel6QyUa2JCIMO+Vk03u9HanN2A5o25Xcw71Nt1aApuRv09FdRSV0KT7rBm\n",
       "GcipFhMGMnqnx/R8jMrG+Zvrkn2khGMiWqML+bx14MEOzwbqMtn5s2LMdlZwxatZWpAdLEkUnRHH\n",
       "b0376H3mf7prtHMm/1ky/97EH3lj4Z4a0itYAAAAAElFTkSuQmCC\n",
       "\" style=\"display:inline;vertical-align:middle;\" /></a><br>"
      ],
      "text/plain": [
       "<IPython.core.display.HTML object>"
      ]
     },
     "metadata": {},
     "output_type": "display_data"
    }
   ],
   "source": [
    "add_cancel_triple_23 = Forall((a, b, c), Equals(Add(c, a, Neg(b)), c), domain=Complex,\n",
    "                              condition=Equals(a, b))"
   ]
  },
  {
   "cell_type": "code",
   "execution_count": 14,
   "metadata": {},
   "outputs": [
    {
     "data": {
      "text/html": [
       "<strong id=\"add_cancel_triple_32\"><a class=\"ProveItLink\" href=\"proofs/add_cancel_triple_32/thm_proof.ipynb\">add_cancel_triple_32</a> (conjecture without proof):<br></strong> <a class=\"ProveItLink\" href=\"../__pv_it/theorems/b338ea568fead4e62d2aa432645453e53f2044a20/theorem_expr.ipynb\"><img src=\"data:image/png;base64,iVBORw0KGgoAAAANSUhEUgAAAREAAAAXBAMAAADelGYUAAAAMFBMVEX///8AAAAAAAAAAAAAAAAA\n",
       "AAAAAAAAAAAAAAAAAAAAAAAAAAAAAAAAAAAAAAAAAAAv3aB7AAAAD3RSTlMAq1RmmUTNIjK7EInv\n",
       "3XZ/CtNrAAAACXBIWXMAAA7EAAAOxAGVKw4bAAADVUlEQVRIx71WXUgUURQ+7t/szuyq0GMgC0E+\n",
       "lLaQSBosC1YkoS740kPEgkEoBOtjkDI9REGFGwi2BTYSBLKRlkJBIL5EWhkmSJEMrPkQFIQYYRQs\n",
       "nXNndmbvddyGXerAPTvOfN77nXu+c+4FqNrSOCS3YGn3Oaq22ii6T27R/rzj67M46ulhXxVMDuDw\n",
       "TLtBTi6h23AOJwZwnB7OV05ETqF74A57DkdAc/w0AHCZkpepnIkPo4GO8phe83cLhzfhCGkxOCrR\n",
       "ypmEyc2XxzSbGvlF/pXzNBp4MaZAFTLZTzJJuWKiLJPvc4QEkMaSrr+ugskpyhAJVvl2hP8yODfM\n",
       "Mwk0rOPmP94xxdyGCgpWzkmAO39dL7Hrlz4zIGkFOvl6fQn3NI7J1IC8DdDK1KUzY4U7FPVlwIvb\n",
       "OghSffG/g/1CcY02GHGJkraBKzgiGGpkGt5ykIcx6OL35JBGkINiLGsQzoMHpRbSlKT1dq+91no2\n",
       "Kd9Ke+46MrGBL0huOEEPi1++wGJV8bGH1kDr0vU3uv4On04A/AYYEYuP6Ti4iXLLlwh2wXo6hrMp\n",
       "jwCOOjNZEJksiohFkH/we7IGfqzjM2LVsLn9VH6pOLpc/CkxK6xTaMpGnpoe3L9SPCgMJgYIbKCd\n",
       "HbkgdrwCeDd5Jlss/iZBJ1Os/3uorp5gf5PfB7dJFx9rSZurwflJ+tzYWJyXMWGgzixazASijeMI\n",
       "4WTfMS6OyRbUpBo5Jj9JO9AmUK7Dd0nw0gqXkJkvEaTtCcVIw76MrLK22N7OMTFBYAHJqCipBLFw\n",
       "nnErjENTIsEx2QOjZtlzOsmAohqNoEalTNfSToVVX72R9laMPHrtNMfEBIEFJLtJucKtVWbi/Iky\n",
       "8fVqg8oxmZillK+Kgnp++AsmuFg1U+lQO05UB2EsyDq8LVxnTREVK9tMGMjIjgEki9BqH1z1WOOC\n",
       "suwIGbIEnB7p1XIQ0dogB4EkTIcoQGk2DXMle0Igc32tmG52orW4OwGtE3OnWWeov6N5Bm5Eg915\n",
       "9FJHXJNus2LpH1VtJgxk1k63deMZI9m4v3NddL7KCW0iWuJz2azd8KDMtYGqTHZ/rRhzfCuE4tds\n",
       "L1iZlSTanWHXd03n3fvM/+kt8e6Z/GdL//sl/gAHiNnE5bwriAAAAABJRU5ErkJggg==\n",
       "\" style=\"display:inline;vertical-align:middle;\" /></a><br>"
      ],
      "text/plain": [
       "<IPython.core.display.HTML object>"
      ]
     },
     "metadata": {},
     "output_type": "display_data"
    }
   ],
   "source": [
    "add_cancel_triple_32 = Forall((a, b, c), Equals(Add(c, Neg(a), b), c), domain=Complex,\n",
    "                              condition=Equals(a, b))"
   ]
  },
  {
   "cell_type": "code",
   "execution_count": 15,
   "metadata": {},
   "outputs": [
    {
     "data": {
      "text/html": [
       "<strong id=\"pos_difference\"><a class=\"ProveItLink\" href=\"proofs/pos_difference/thm_proof.ipynb\">pos_difference</a> (conjecture without proof):<br></strong> <a class=\"ProveItLink\" href=\"../__pv_it/theorems/7881a1c635febde6be8cf8ddb1052ec5983b068d0/theorem_expr.ipynb\"><img src=\"data:image/png;base64,iVBORw0KGgoAAAANSUhEUgAAAM0AAAAXBAMAAABaN9YTAAAAMFBMVEX///8AAAAAAAAAAAAAAAAA\n",
       "AAAAAAAAAAAAAAAAAAAAAAAAAAAAAAAAAAAAAAAAAAAv3aB7AAAAD3RSTlMAq1RmmUTNIjK7EInv\n",
       "3XZ/CtNrAAAACXBIWXMAAA7EAAAOxAGVKw4bAAAC9ElEQVRIx61WXUgUURT+3JndnZ39aSMoUJCB\n",
       "oJd+XCICpfzBykqIhaInKcEgEoLxMSgwiJ6MNRUiH2J6CcpkNYP+CKIQozAkCsEQZkkwEEWiMAyi\n",
       "c+fO3HV+hBE88N07c3fu/e495zvnLrBR020EWXz9KRu1jMYRaFEzcPgcIcsedobn2W3DZw8nqfnu\n",
       "G341pyOTA46yl4uhadR2jgC7QIgZnsGYpk4DncB15tbe0DxyjiPAfhKkRs/gYeAFcIDvIKmF5knZ\n",
       "CIjNKms/sOZBeSO3gRoDKQMSjcXCh2eXDb8lp1jbYTn3tdDDL6CgIUYkk7OzH8PztNqIV817tBWr\n",
       "LpFbRvnL4ks7nIwnhySp7Tgw6A3C+jwdNtr0xKr7l2KnugIcdOJykifUX+IxIZFyuhDPOt8ql6wu\n",
       "4V39phDKZw71HeQp9zcUhk/AHuHgFsEzgsgbWtRI5sXHVR4eleu0YsQZGOeQl5FmY+rlWWbd9HgM\n",
       "YIuKqWcr2e80dN6EsgxEzDUyeO/hiQ9YNSPV7eFJ9aKYd5/nG6Kk7LYyz6CtgxoNUToP2uupGap/\n",
       "xvz2r2QIHnVsQYeylREVlirdfiuaaPClj0wR2yv8tsPq7gINBiLMx08oW9VpZYUVr5lMo+AZ1gvE\n",
       "EW+isywac/b0exxFDdsj7vL4B49JvbWODlp4f8hyqMTie5VkIDcq7GiJHFOGzXMEPdaxTuTRL3Q0\n",
       "ypEwI188qtyGAVvza3SNtKZSLGQWywracCqfyVpxkLOCZxwlq5cmKGxN9rxbHGr1864fbp77T1kV\n",
       "+GptbVHkltpaouXTTiyLeqKOIrMFKc3hoWzof0R9hNy0jLfO/ro51ruALLEPewvgNVG29MJpYwhp\n",
       "o7astwnldx2dhmXljOQkECuUvmLpLrMB1iyKYPO+MfRoyimzzHNm/0IOmT72eGNJTLljI9iuBJ/S\n",
       "cx84ZbucP0qf7zqzEWzBO0i4lRk1fDwBezM5gi/14H8C8+5XCSF4NtPim7/kf+hps/5gOjKuAAAA\n",
       "AElFTkSuQmCC\n",
       "\" style=\"display:inline;vertical-align:middle;\" /></a><br>"
      ],
      "text/plain": [
       "<IPython.core.display.HTML object>"
      ]
     },
     "metadata": {},
     "output_type": "display_data"
    }
   ],
   "source": [
    "pos_difference = Forall((a, b), greater(subtract(a, b), zero), condition=greater(a, b))"
   ]
  },
  {
   "cell_type": "code",
   "execution_count": 16,
   "metadata": {},
   "outputs": [
    {
     "data": {
      "text/html": [
       "<strong id=\"nonneg_difference\"><a class=\"ProveItLink\" href=\"proofs/nonneg_difference/thm_proof.ipynb\">nonneg_difference</a> (conjecture without proof):<br></strong> <a class=\"ProveItLink\" href=\"../__pv_it/theorems/a176870bf6cd0529581424bd5c9c000c681e63960/theorem_expr.ipynb\"><img src=\"data:image/png;base64,iVBORw0KGgoAAAANSUhEUgAAAM0AAAAXBAMAAABaN9YTAAAAMFBMVEX///8AAAAAAAAAAAAAAAAA\n",
       "AAAAAAAAAAAAAAAAAAAAAAAAAAAAAAAAAAAAAAAAAAAv3aB7AAAAD3RSTlMAq1RmmUTNIjK7EInv\n",
       "3XZ/CtNrAAAACXBIWXMAAA7EAAAOxAGVKw4bAAAC+ElEQVRIx7VWbUgUQRh+vN2729376KIoUJCF\n",
       "oD99eEQESumJfZEQB0W/pASDSAjOn0HBBdEvQ+sK0R+y/QnM4jSDsgiiEKMwJArDONgjwUAUicIw\n",
       "iGZ2Zufcvb1YoV54ZndmbuZ5532fefeA9VqGw8vClZes1+I6g6cFTc/h0wQJ+rLNP88OjjIbmiLN\n",
       "l7LhZ3MZxJPAIdo555tGa2fwsLMEIYO+3U2KwZCuzQCdwBUa1l7fPHKSwcO+EUgpy5nnIn4HgHFg\n",
       "L/MgovvmiXJ45GaVtm9YZ/EpH70B1BmIGpCIcyH/6dnOUW6Radp22OfgRN+BHh0hQjJVKLz1z9PK\n",
       "Ea6Zd2krVFskYRkVDh2xIkh5kogQtR0FBtxJqMzTwdGWUVedM/lObQXYJ/qnqqk7vwiPCYkopwvh\n",
       "hD2nnLceqvixctt6XBNCec+gvYI87eQhaXgH7CzxDNg8Iwi8IJsakbSYrHHxYPgmbatG7P4Eg7yM\n",
       "GB3TLhSoZcnrYYBuKuK21YobGTpjQlkGAuYaGbx28yCeowrLuniivcinnef5jCBRdputg2NCB3U6\n",
       "guQ8aG+kfjc+pmH6XTQEjza2QAuTNEi8XKp2xi1voqns+sgkY7tcuu4HmgwEaIwfktuqzSgr1PnZ\n",
       "eErwPMj0WAVQmsSiMcfXDTLkdWwJOMvjT9wn6q133dP9VkAlmt9LRAZySqFHU5NUGZznILqtReNp\n",
       "5ISORhlUM/DBpcpNuMU1v7buxHSN5EKmuawiwY+m4wkrD3JC8EygSBXTnKVpa+brrjNotU+6vjp5\n",
       "7jyiu39018PWIlkfs3OZz6gNJDMbENVtHnIbcvcQ3kglsIyXtn9ZhkofoGnP4cuibGV6ThjDiBn1\n",
       "Jb1NKj8atM1WEmYl+wLRQsmKZcUy62Etogi27B5Dt64cN0s8J/csJDWrzuPqkljSx+FtF5mCrEv1\n",
       "qXRK1/fALtvqXwrcEIe3eXugOpUZNHzwhE0G74+69z+BeWdXQhmP0k+sD//Jwv9+yz8nTr3xi1Rm\n",
       "IgAAAABJRU5ErkJggg==\n",
       "\" style=\"display:inline;vertical-align:middle;\" /></a><br>"
      ],
      "text/plain": [
       "<IPython.core.display.HTML object>"
      ]
     },
     "metadata": {},
     "output_type": "display_data"
    }
   ],
   "source": [
    "nonneg_difference = Forall((a, b), greater_eq(subtract(a, b), zero), \n",
    "                           condition=greater_eq(a, b))"
   ]
  },
  {
   "cell_type": "code",
   "execution_count": 17,
   "metadata": {},
   "outputs": [
    {
     "data": {
      "text/html": [
       "<strong id=\"neg_difference\"><a class=\"ProveItLink\" href=\"proofs/neg_difference/thm_proof.ipynb\">neg_difference</a> (conjecture without proof):<br></strong> <a class=\"ProveItLink\" href=\"../__pv_it/theorems/672583d7fd1b7c9c4867b465017ad97e70f5cba10/theorem_expr.ipynb\"><img src=\"data:image/png;base64,iVBORw0KGgoAAAANSUhEUgAAAM0AAAAXBAMAAABaN9YTAAAAMFBMVEX///8AAAAAAAAAAAAAAAAA\n",
       "AAAAAAAAAAAAAAAAAAAAAAAAAAAAAAAAAAAAAAAAAAAv3aB7AAAAD3RSTlMAq1RmmUTNIjK7EInv\n",
       "3XZ/CtNrAAAACXBIWXMAAA7EAAAOxAGVKw4bAAAC7klEQVRIx61WXUgUURT+dmd2d3Z2dhOCAgUZ\n",
       "CHrpxyUiUEoN+wMhhHoJpCSDSAhW8CUoWCF6MrQMoh5ierSt1jLo7yUMKQpDyhAUZZYEA0kkCsMg\n",
       "OnfmzuidvcIIHvjGc+/ee78753znjMB6Lcchs8TaW9ZrGdOF1GK2dPo0oYI528Lz7OAos4FRenwr\n",
       "m349m0MmCxxmg/OhafQ2FxI7R4hbgcm4qU8AHUA3C2tfaB4160JiPwlKY2DyAPAS2OveIGWG5jE4\n",
       "JLlZZs8P/jjqBOkGUGPBsKDQ5eLh07Odo9xSY+zZ7g2VcSeEv4BeE3EiGZ2e/hiep5kjUTUX0Fa8\n",
       "ukRheeLJcsqh0RlPFilS2zHgbjAJa/O0c7TmksviL8UOfQnY5w4KM7yg/hKPDYWU04lEhbdWu+D8\n",
       "SQZPv+YL5bML/S3UMXENpeETsNPxu75gFc8gom/oUCvV4i+ukvFYiAx6/ogLdRFpNqdfnGaWJ/cI\n",
       "wA5liyJn/TKgqTM2tEXShb1KBu8lPF2VMPIBHqMPxRbxNlOIkbJbRR6mgxoTMXoftNWzgNY/Z3H7\n",
       "V7J8Hn1onjWm7q10y4VKMW5FGw1l5aNSxnaJccMdoMFClMX4KVWrPqEtMZVMZhp9nke5XuI5dZTc\n",
       "H9Ys33fPRdHElqjYHv/gIam3VtQB9jsBVVh+L5MM1EaNvVoyy5TBeQ6hh2heMbff05GjW0LSjo4H\n",
       "VLkZt7jmmT2ecTtQ2tQpFyrLZYSCb7RkmOiMvFrh84ygBG2Yp+0g33/dhV79ovO7yHP/GWtHX/06\n",
       "5QXUXKLj014ui7lkHc1vgmF6PFQN/Q9QuMn8RQzzhem8i7U+QCtiV1Y15yt+28r1nrAKSFu1K3p7\n",
       "p/2uo5T1kzupeAXEGmVZsxTbrMSa/CbYtHsIPaZ23F7hOblnnu1SiOjqgr/lNofcLsnfMvA98Nq2\n",
       "WD9R4dgBDrnJb5AUlRmzpDyBu9ku5B91+X8Cc+JQQQiejbTExh/5H/p0tuoiIAlmAAAAAElFTkSu\n",
       "QmCC\n",
       "\" style=\"display:inline;vertical-align:middle;\" /></a><br>"
      ],
      "text/plain": [
       "<IPython.core.display.HTML object>"
      ]
     },
     "metadata": {},
     "output_type": "display_data"
    }
   ],
   "source": [
    "neg_difference = Forall((a, b), Less(subtract(a, b), zero), condition=Less(a, b))"
   ]
  },
  {
   "cell_type": "code",
   "execution_count": 18,
   "metadata": {},
   "outputs": [
    {
     "data": {
      "text/html": [
       "<strong id=\"nonpos_difference\"><a class=\"ProveItLink\" href=\"proofs/nonpos_difference/thm_proof.ipynb\">nonpos_difference</a> (conjecture without proof):<br></strong> <a class=\"ProveItLink\" href=\"../__pv_it/theorems/8179a440a1f90e9073c795652c0da70bba8764f50/theorem_expr.ipynb\"><img src=\"data:image/png;base64,iVBORw0KGgoAAAANSUhEUgAAAM0AAAAXBAMAAABaN9YTAAAAMFBMVEX///8AAAAAAAAAAAAAAAAA\n",
       "AAAAAAAAAAAAAAAAAAAAAAAAAAAAAAAAAAAAAAAAAAAv3aB7AAAAD3RSTlMAq1RmmUTNIjK7EInv\n",
       "3XZ/CtNrAAAACXBIWXMAAA7EAAAOxAGVKw4bAAAC9UlEQVRIx7VWXUgUURT+nJndnZn9aSHoQUEG\n",
       "giD6cYkIlFLD/kAIoV4CKcmgEoIVegkKFKInYy0DsQcZoRezWMugspcwpCgMKcNQjFkSDCSRKAyD\n",
       "6Ny5d2abH2ODOvDdOffO3PvNvec7Zwb4W8sKhFls7Sl/aymDI9QiVujwcUKaORtL59kiELDBCWo+\n",
       "BoafzGeRygD7Wed0yTR6C0eInSJETbcr2YtGDX0aaAM62bF2l8yjZDhC7AtBrnd68pRNuQd4DOzk\n",
       "bxA3SuZJCITEZpW1L50wzvKdXQOqTCRMyPRy0dLDs0kgaPFJ1rbyztAHMfoVyBmIEsnE3Nyr0nka\n",
       "BWIVCz5tRSsLdCz3bP/WWyecjCeDOKntEHDTH4S1eVoFmrPaqvdOvk1fAXYxd+Ckm1A/iMeCTMpp\n",
       "RyztDKtn7YvmWUDqxRVXKG849GdQJr08FIbXwFbmlnl5hiE9pUXNeJP7cEWQR+qnicNOb5xDWUaS\n",
       "jenn5ph1kHsAYIvaT513z42GTlhQl2kd6zcZvAjwyD1MYR0+nkQ38k3e/cwiQspuDuqgykCE9oOW\n",
       "Wnaj9iE7t58F0+XRRxYpla8zN7dU7j23vIW6QPooFLFtPl33AXUmJHbG9ylb9Wl1hd2dSdW7PHez\n",
       "uaw6ZrufzXkxv58jb2CD5C2P33GH1Fvty9Pd9oHKLL4XSQZKvcq2pmWYMgTPPnQBm0eZ28N1BK5b\n",
       "gmZJUz5VrscNoXkR1zOsTRo6xUJhsSyjw080pdJ2HJS0yzOOArXHRu2w7RWzr3LolY/aP3l5Bh6w\n",
       "cvTOXw8bC7R80ollPqvV0D7XIWE4PJQNPbfp2nkQWMaYeDDZwbHWB2gydPiSW7ayuSPmEJJmdVFv\n",
       "z9VvNezaXo4Z2UkgViiLxTK0zIZYg1sEG7aPoMtQD1tFnqM7FjPic3h5yZ3SKxBuF7iC7KR6X9yl\n",
       "73vglG3tDwVuUCDcwt9A8yozYpbAE7M4wj/q4X8CC96ujACP2kfWi/9ksX+/5C8M3L+Lkr23hgAA\n",
       "AABJRU5ErkJggg==\n",
       "\" style=\"display:inline;vertical-align:middle;\" /></a><br>"
      ],
      "text/plain": [
       "<IPython.core.display.HTML object>"
      ]
     },
     "metadata": {},
     "output_type": "display_data"
    }
   ],
   "source": [
    "nonpos_difference = Forall((a, b), LessEq(subtract(a, b), zero), \n",
    "                           condition=LessEq(a, b))"
   ]
  },
  {
   "cell_type": "code",
   "execution_count": 19,
   "metadata": {},
   "outputs": [
    {
     "data": {
      "text/html": [
       "<strong id=\"nonzero_difference_if_different\"><a class=\"ProveItLink\" href=\"proofs/nonzero_difference_if_different/thm_proof.ipynb\">nonzero_difference_if_different</a> (conjecture without proof):<br></strong> <a class=\"ProveItLink\" href=\"../__pv_it/theorems/1ae8314b766ec620a53a03aab3d2139f0f07f6930/theorem_expr.ipynb\"><img src=\"data:image/png;base64,iVBORw0KGgoAAAANSUhEUgAAAM0AAAAXCAMAAACfxzsSAAAARVBMVEX///8AAAAAAAAAAAAAAAAA\n",
       "AAAAAAAAAAAAAAAAAAAAAAAAAAAAAAAAAAAAAAAAAAAAAAAAAAAAAAAAAAAAAAAAAAAAAAAeYafp\n",
       "AAAAFnRSTlMAq1RmmUTNIjK7EInv3Xbt5cnn9enzas/lfgAAAAlwSFlzAAAOxAAADsQBlSsOGwAA\n",
       "ArlJREFUWMPVV4kSoyAMlUuOQPb2/z91OUQNItXdcWY3M21q+7B5vCTEaXrddOOfrnsD/ceGnPrb\n",
       "pvDiB+ku0Wy75uINMhyo/2jO+rDy7wdk7PEKAKXe0FLV7+c3xHIz9XdslvVDT4TJmiM2Ku6CrmhT\n",
       "xdH2DWmkoP6OLTUnhexJww4XIssIdkPXDQD+Bhvf+Dv1smyS+I449phCNlPjZUVCi3XX5leqZqb+\n",
       "jkHY8+isqGJExqyeKWpmtA/JPLySaED9pBmgxnHZMERWEgXY+dejNK6yERta5qqy7mNko2K/ikxQ\n",
       "r3wMxi6j/3JLzH235KDFLqnMex6+/0jvW60vUNjghtasvrX1NpPGMOgSoM7wbIET73xuo2GYnJmr\n",
       "z/FxP5RmZwM7OskCqnNjBvfYrFvBzsnqFfFyydRg799ht7XxyqxHDbOtGtnoCKVv4I7meNEDvLnH\n",
       "hukOvMfG2xyCGmmTuapS18oPpaldgBP0PIm1MB0IhLoipiMy12NDYJOCHryTaS7voVg+nzaylBYP\n",
       "tG5+/ioybmVhy0lD0MDXQyedqmapYWJwE8oOmw0mbbIv8SVO8LIGj97lSNk88cHYsZhaXzHMJh9O\n",
       "w4Hwe3JWtPYrWRmDMZu6KcRDV9nvTGF1nGrgpMWuPpHiQQ7bI4u3sbJp7GuDkN0249YUr2hm9vRG\n",
       "diwbyTpsCMzZPrxkXyDeMQSjGZpRh2awjUFBjaWJaAlYo2/Quctb4dZFKb89P7PZYSnTvn6zJdMa\n",
       "+PoPhvpnzyyhO47fQ8dgUj0oEU+vtDDWwTFx7RlGhsAGTgdHIf9iZB2O1Ffo1M4FRxCpKuImG4nY\n",
       "7dAbjMwQDbwZEu3z541mqhfwBN0cyee4ujD8+PDVlNd9azYguCdoqpK7x+bzbFxnTI0PyWATnnmE\n",
       "prJOt9hwNf2npv/9EH8DN1cYIiFEuk0AAAAASUVORK5CYII=\n",
       "\" style=\"display:inline;vertical-align:middle;\" /></a><br>"
      ],
      "text/plain": [
       "<IPython.core.display.HTML object>"
      ]
     },
     "metadata": {},
     "output_type": "display_data"
    }
   ],
   "source": [
    "nonzero_difference_if_different = Forall((a, b), NotEquals(subtract(a, b), zero), condition=NotEquals(a, b))"
   ]
  },
  {
   "cell_type": "code",
   "execution_count": 20,
   "metadata": {},
   "outputs": [
    {
     "data": {
      "text/html": [
       "<strong id=\"subtract_nat_closure_bin\"><a class=\"ProveItLink\" href=\"proofs/subtract_nat_closure_bin/thm_proof.ipynb\">subtract_nat_closure_bin</a> (conjecture without proof):<br></strong> <a class=\"ProveItLink\" href=\"../__pv_it/theorems/2cc74da6caa03976607bf760e443ad0381e68ada0/theorem_expr.ipynb\"><img src=\"data:image/png;base64,iVBORw0KGgoAAAANSUhEUgAAAOYAAAAXBAMAAADtii40AAAAMFBMVEX///8AAAAAAAAAAAAAAAAA\n",
       "AAAAAAAAAAAAAAAAAAAAAAAAAAAAAAAAAAAAAAAAAAAv3aB7AAAAD3RSTlMAq1RmmUTNIjK7EInv\n",
       "3XZ/CtNrAAAACXBIWXMAAA7EAAAOxAGVKw4bAAADZklEQVRIx71WW0gUYRT+dnbXnZm90kOERgxE\n",
       "gXRhkRD0wTa0Cwm1ZRRR5JYPki+NBEGQsEYEkbVLIrZhMr0EJrJrPhQLQRckKyKJwhCWRgqsJPGl\n",
       "BB+i/zJ7mb09rNSBb/f//zNzvv8/5/znDLAKUQ2U0hUTB1YlHoWjqJzKm8ufY11wvpu064CPLmys\n",
       "iHOLgXyRh6bJZvx5q5JyCIgDX4DddN5ZCaUc4iiUqgD56cpbtMw4/XARpYZe6uNoJZw2P0eheKnD\n",
       "d+Rz1pKjuQFrgNLCqVTC6TJQKO0aVWl88j2VYs6wnNcvUE68hpXstKqicG42UChPmIO5C47+SJ9T\n",
       "XedJUM4O4G0q9aYizlYDjpp53aw5vbiGOI9lpyMTVosqYYByjgP7gDtlglZa1WHgpCqtmJPrtxZX\n",
       "YWUerVKznGJgbIwM6oFuOHzpdfGsMehpDVqfsQxn06s8yYTBXNPvOeQXsE2bOIUVuHQITxlnNodU\n",
       "1AlDZLCVWNWcwYyihhLPxYKCL4n9WU5LgtkaNpme5LAtwU3V91NUPlHfhOBNQFyiD/XRxajBadHW\n",
       "k0GEWNJzUmiKoCVMFptsSGQ5XWQJ1n4U43RFEQ+aFGQL7Qrs7JwjueeUfdS3JwlCTeRntOkRPeKf\n",
       "OY0VEOHyMT2HM7JYDc8tFquJBdXs27iOnQXX86AGgTncncuJm9TcNoKHJLXkGXGZVtBZT4DtTAgn\n",
       "N+Vw/tS+is/ZaEyNpDmHOeIK1gqmiu4NkxjDyjzqyaS0RHzluUYGDQSXSArZAiJ1heS3hto4p80T\n",
       "zXL2k2SrTdJRC/rSRsY5JF34YM5ui18ixc/G9owzmYJIC88e435ZyAZcQY+Pxc3mq4/FYooQlhOh\n",
       "LOcUdgHHkyyAc2kjNzjkDY+7v5nvSk0z9SoP8r0BXo/Ec69oohF8NB6Lq1Ij0XnhUq7zc+KwnuVc\n",
       "AvVs717Iy+h/kE6VMEcJ6TH+T9xNmRqBI32xXGqkTRuFW2sgd4fmaBDs4AbnLA9OdzVeir8ajXdI\n",
       "sWYoIc1lWgMTe/P2CfQp4gEdjtvUZ51GZ+WcVxbTzf9I3UKmlQwaKP49UKpXXTRPeXsZjcWy900q\n",
       "U3BHTPcvv0WX+jgx79KuFXm1DKdD5ygq86U+aMx7saIMp0jSOTaI/yGOf2DzLzi40F1B9GuYAAAA\n",
       "AElFTkSuQmCC\n",
       "\" style=\"display:inline;vertical-align:middle;\" /></a><br>"
      ],
      "text/plain": [
       "<IPython.core.display.HTML object>"
      ]
     },
     "metadata": {},
     "output_type": "display_data"
    }
   ],
   "source": [
    "subtract_nat_closure_bin = Forall((a, b), InSet(subtract(a, b), Natural), domain=Natural,\n",
    "                               conditions=[LessEq(b, a)])"
   ]
  },
  {
   "cell_type": "code",
   "execution_count": 21,
   "metadata": {},
   "outputs": [
    {
     "data": {
      "text/html": [
       "<strong id=\"sub_one_is_nat\"><a class=\"ProveItLink\" href=\"proofs/sub_one_is_nat/thm_proof.ipynb\">sub_one_is_nat</a> (conjecture without proof):<br></strong> <a class=\"ProveItLink\" href=\"../__pv_it/theorems/6bd931ee252d1d40f70d9e8f1096bbb39afa242a0/theorem_expr.ipynb\"><img src=\"data:image/png;base64,iVBORw0KGgoAAAANSUhEUgAAALcAAAAVBAMAAAD2lGJJAAAAMFBMVEX///8AAAAAAAAAAAAAAAAA\n",
       "AAAAAAAAAAAAAAAAAAAAAAAAAAAAAAAAAAAAAAAAAAAv3aB7AAAAD3RSTlMAq1RmmUTNIjK7EInv\n",
       "3XZ/CtNrAAAACXBIWXMAAA7EAAAOxAGVKw4bAAACoElEQVQ4y42VTYjTUBDHp0naJmkbqohFRQmI\n",
       "gvjBHmRBD3VhuyAuQnAPgixS3cOCB81eBEEhiniRssGDGkGJF2FZpF33oC6CFfGiiEX8hkLEwy4I\n",
       "2psoe3Be3mvapC9hB/4wnTS/N29m3gvAGsxk4lk26aU1mKZTcS3tRQIP/9504dmqcRL9IglsT4Tv\n",
       "Zhq0mgvwIxq8kS6C2gFtCGCM/J5OYqtVqsEHG84hPONGwlvNRYAmwBmAy6RudhJcGqLi2G8EiyOR\n",
       "4Ho7Y0ILYD9dOKcnwfNMMXB4zTpzt/3Jd0rlbJXA8y6ImFMmseQ7meLgU7SxZ7vlKaWsnwSeQfLb\n",
       "dvtNInycKbtl2ePBF3z3fFD6EtiKgfAczsphgDuDxFzPnWKaNJV/PPgwhGeiBFfVbwgXcQhmIFvk\n",
       "dLHnvqdSX4LU4sH3+G61Dy7qu3BaBJTi5oy+/18aN8QXIfgrKqkDhQa6D9rEvvTgs8STsbrtrwwO\n",
       "m1MIlju4gBf0U/7uGEJxCY7w4Hkb6gYv80l/5u2+zOG+intMN8mGyt1wxcK1yhI0cpWjlbFIWeoe\n",
       "HOJOy17fbfXDZQ/XEkjoER4lmC8/9g8sCFeOe41Q5veo6jpsFEwO/IDv/gqCt1ErCBfJZi5iP9XP\n",
       "8h+YI48Ea2lHGL5ApXjCBymS+XOTjSlOdXAQT5N5wP5KpEMpLIY0IjdhgsIlzQ7Ba1TqticzK2H2\n",
       "unencLMf6UWz6QQNXlu16V1U6HYob2hFGHYcRxcstVENzXnBooq70Fm100/Z8Q/mruvUTeWge51m\n",
       "DsfCB5HcTAO3U/he49pocDmZsxOuQtojGqBFDtUtJr5diNtRMJzp0X2LkCV9rk2zD0jP5pj4Fres\n",
       "EpmseccxeDl4VPxvYNy3chngP5kEr46oTpn7AAAAAElFTkSuQmCC\n",
       "\" style=\"display:inline;vertical-align:middle;\" /></a><br>"
      ],
      "text/plain": [
       "<IPython.core.display.HTML object>"
      ]
     },
     "metadata": {},
     "output_type": "display_data"
    }
   ],
   "source": [
    "sub_one_is_nat = Forall(a, InSet(subtract(a, one), Natural), domain=NaturalPos)"
   ]
  },
  {
   "cell_type": "markdown",
   "metadata": {},
   "source": [
    "Need to deal with cancelation in 3 operand cases in which only a single term remains."
   ]
  },
  {
   "cell_type": "code",
   "execution_count": 22,
   "metadata": {},
   "outputs": [
    {
     "data": {
      "text/html": [
       "<strong id=\"add_cancel_general\"><a class=\"ProveItLink\" href=\"proofs/add_cancel_general/thm_proof.ipynb\">add_cancel_general</a> (conjecture without proof):<br></strong> <a class=\"ProveItLink\" href=\"../__pv_it/theorems/90fae8ff48c45b9487309ad339d542e301dc106b0/theorem_expr.ipynb\"><img src=\"data:image/png;base64,iVBORw0KGgoAAAANSUhEUgAABmgAAAAZBAMAAADH+by1AAAAMFBMVEX///8AAAAAAAAAAAAAAAAA\n",
       "AAAAAAAAAAAAAAAAAAAAAAAAAAAAAAAAAAAAAAAAAAAv3aB7AAAAD3RSTlMAq1RmmUTNIjK7EInv\n",
       "3XZ/CtNrAAAACXBIWXMAAA7EAAAOxAGVKw4bAAAKHElEQVR42u1cf2wcRxV+t3f23u3ZZxck/iDC\n",
       "OqAQKVWsU6+qGiPMCbciTdVwapCoKtoeKlXUCOgGVUJNSXIUEJFwmgMVlRSULmpV0bqJXdxfSlVj\n",
       "KCig0mKiICLDoUsTSImF5bQUR0HEzM/dmd3Zu9lc1rq296S5m3zz7byZb+bNzs5eDKBnH6rb0LWu\n",
       "dS1XP6pLrbxjO2mz1DVdtXSw96g0RIriuz5ocnmauqZlt6kV7BqV5jYaNIP466MaQaNJ7DS7gqX4\n",
       "zPrJ3Cr2J/3lUqxrTEGpYNeoNESeIlyH/71VI2g0iR1mVoWmOK23tJo9Goh34d+mUrBrXJptJGi+\n",
       "iT7NmkbQaBI7zFIFmny2RUnuKYTUoi7Y4p/G6lqjoE3awO12pwkvCqouuEqloF7bo3WpuaZ6NasL\n",
       "4pTmKhI0vWgMsnmNoNEkdpj1seSzYSXZaITUoi4YlqdxWK1R0CZt4PZSM14UVF3Q5ygU1Gt7tC41\n",
       "11SvZnVBnNLgVIQkiqhenYMATWKH2cdZijNoXoLVDJovxTszegsKBbtBw6XBqQjwar3+ik7QaBI7\n",
       "zG5gyVxzuqEQe/vMrkgKSnxeyRcX3+cbwpmTVcXAqtEwV9nFa4Kl5po33pR51swpR3H1xOKmKP3y\n",
       "6NlBhYIh6oXAeuq5aBtiuQWSWHFKgxMKmo0AD2sFjR6xw+wOlr5gZ84Hxe45Ao84ERSU+awS6z/O\n",
       "pC0N4c58qhYcWDUa5so8CtcHS71ucN6t1fSUoqHH4XtR+uXRk/i5P1UnNghN1QuD9dTjaDti8QJZ\n",
       "rDilwQkFzXYwkTgWHfZqk6ChxI608OOrozRZL0NqLij2UwW4McqdhvKZVrwS4zz0NaSx/QsHNNAw\n",
       "V/1T8BpA2neShbpRkXjmW5ArB6/eXYC/R+iXQDdmgwqGqBcCa6rH0XbE4gWyWHFKgxMKmoyTRVVn\n",
       "Kec4Sp/k9ey8oZz8pRc0lKht6bsizvzsuaixkntwiN7vawGHv2Dh/xuaUktYWOtqgt1Yr/++Xv8j\n",
       "yn0Wj4714mUOXV3/+ipbXeXjI6+A8KlWXiVoGg9MSQBefgO+CDrx9AdlNNwVWZP7cTceJ8s+Hhra\n",
       "DZGXubD4LMCjFd/VjywulJkznX4RevJvRMUlHy1cPQpH6JKnnodevFjiOHpixSwNTkUcUr7H+z4c\n",
       "GukT+8vG4GHY5AVNgNjC1kQMAXMpSkii9lnft40fe0EjOdwNUtD01WCyDA/8y7dC/Q6styHlrpct\n",
       "lx3CVyxzt+dFoA83J+CLoCX3zjbc0pXqLJB0Q+QN4IFNL875rj4LorOW/TrragU9s8GgCVGPwlG6\n",
       "JKrH0LbE8sZR4S8WaXronQYqozKdzLdrUdQaoymY8oImQGxhv41634jyEgi3L3sI4BNC0IgO/ylv\n",
       "zyYb8CmUWy+LbV2A5BIMlM1zegpSvn/EBvJspePAJGH7fFH0bdhd1ZphyJXCWDfEmUG+DP/MIFe7\n",
       "zlrOjAveokWqEp9pQtVjcJQuieoxtC2xvHFUBU0c0uCEg+bn21AAnSDOT+EVc4O5QH8uYNz/+YYY\n",
       "NJgIE6PP83qFrGcumL5wAk+l7Em3WTOKoHMxa/ofDfJ10qupoKidYqR9j34HdUfYnlGHlPZVljtA\n",
       "02QePmDYgaB5ExKVtUlHO2gIn2olBE0Vbe4lADWuHJgHBB3RnWHwFhoUOPRpX9DQbgg8vFvLB2cG\n",
       "2gYZMKI9Mwg9WduFKkv6l65Q9Ris3SWfenxqtyMWL5DFilManHDQfAMtKIcGyLbewLEx9LWn7CfI\n",
       "ddXDHxODBhOtP6eX+TT3ssKjqgvm5nP4+fxPaX6/7y+PB+gedtDeh7txsJrgNR2HwGaTYPichLRv\n",
       "7VqO17jD6/cjK6BG8Oejp2nKNIxjqeCCdgDWl1Ajs77t2WQFn4kB+xAKCJ9q5VWSKGRKEpCqQbYa\n",
       "8EVR96WOe/Qm+hNcoV6+ACXfSxLWDYGXrMBjdnBmXA3WZyDwIjS0X4SeOL3uCGrmlE/zcPV4a3S7\n",
       "JKvH0LbE4gWyWHFKgxMOmgRq3Q7S6iezePRfy6fpzxOMasrdMlUYMVVCQWCSo2eSvemUfDhAQDKJ\n",
       "MwV8PJeqWVVKRz37Wc/wdfKIIAzoc9O1sA9/XWZOs+oTg/cV/HyMweXAfj4xMiIFDXXIGsH3AXtp\n",
       "soZe2P5GcNh/uvDdIdSpvY7v5ArLcAz4h1dA+DvW+4ZyzZhv6/1i8UzQF0XT8z70mOTPc5WdHnUs\n",
       "5xnfokG7IfIWig3FHiQ3je/g3FnLfhF63+v48LTff9gTrh6Dtbskq8fRdsTiBbJYcUqDU1G4CQN9\n",
       "32n+eyOKL7Rg542qNVURgoaeEuQG4f55NztrLflOEXLs/tBXTQ3SUwVKJ0+UMBl4ynRz5DHk11c6\n",
       "vPqxdQE+xgBPUdK+PTdLQUMdskbwYMcnKv3uQfp65Rmm+bD2my5BK8WmQQLUvu51dN8Euq+ZNHiB\n",
       "mSE70+vXbvycCDsDm4EW6kXt0gEVepFiyQV3rII0OPGgsc4TaQZsvGu71aTvc4wq3NTwBc2knRlx\n",
       "YN7N2mn5tIWAV+CrBqAvT2ukdFjGTyC+HRreyhVxkFvLcOBJBlA+vtLPJ7Vt3dWg7cMHAZYXNNgh\n",
       "3Z6hRpxhoiRLNPnGRvqh3z3wdfYiS+vXe0wrxa8FtyiDRkTNkmmHXKxyBcuhQSPx3Jkhoa4zvX5t\n",
       "6Jmz6ZIkWSv1InbJVU9CL1IsuWB5FaQZE4LGqJQstFsbhwlINPZmIYPnXLIM/Lbh3WnsfVtI0Eyw\n",
       "bKaMsuha9kHAj5RQrt/ZgD57yzCF6ajwTsgC/FDgUszcUcG5I+lzI+jrB5hEqs/k8dGdyGfY8roa\n",
       "bZ/5jA0zXtBgh24jv8UXqYdYksdGGvUf7dkU5ZQPaaVDU/q6d8+3nSgH67OaTZq7BM6G0nNTqt+x\n",
       "N1cvqhe1evGJdWmlIfK4d5ohO/0rgBMwns/YiWvQRMK72a0A/qDpGRueJrN6PE+zG3E2fQTGbfxB\n",
       "wUwVY5sb6NMcGyUxhmq/B21TU1Wco1ybYckpjH3uyoUC+nrs5BlWvbUZXSnxKZY+6wBtH0zc9WBV\n",
       "OD3b3JAaSe0JfmyA7L67Z1QvP1ZWorwhwlppsNS+/rCyEukUXu8nGOZz/2207+wheH8VMsG+NVcv\n",
       "qhelevGJdYmlIfKI/93ZILvCPDu03b9feiKsSJXg/RMlZp2Ge40LHjR4Lu/SDZI7nOM5cLFE2cUM\n",
       "f/Uyn2C55+dtf/uavOExGzS9I623sNoeT6sV7IpFpSHyiEFzS+/Ns9ATcteSguaBV/KcePfKnHAN\n",
       "y2XOsBz9xHS4hfRr5X8sRz3SJ003x7686mU+xVL2dN7fuhq8K+3Oceha54klBk0hdcqBJGgEDXk+\n",
       "VGX9OYFUCMu9frmHFVTVFxTYeyNoNm/qxkIHiqX912i+EtvfPftwqf06un9kqGurZbn6y/8Hs82l\n",
       "45Og/OgAAAAASUVORK5CYII=\n",
       "\" style=\"display:inline;vertical-align:middle;\" /></a><br>"
      ],
      "text/plain": [
       "<IPython.core.display.HTML object>"
      ]
     },
     "metadata": {},
     "output_type": "display_data"
    }
   ],
   "source": [
    "add_cancel_general = Forall((i,j,k), \n",
    "                          Forall((a_1_to_i,b,c_1_to_j,d,e_1_to_k), \n",
    "                                 Equals(Add(a_1_to_i, b, c_1_to_j, Neg(d), e_1_to_k),\n",
    "                                        Add(a_1_to_i, c_1_to_j, e_1_to_k)),\n",
    "                                 domain=Complex, condition=Equals(b, d)), \n",
    "                          domain=Natural)"
   ]
  },
  {
   "cell_type": "code",
   "execution_count": 23,
   "metadata": {},
   "outputs": [
    {
     "data": {
      "text/html": [
       "<strong id=\"add_cancel_general_rev\"><a class=\"ProveItLink\" href=\"proofs/add_cancel_general_rev/thm_proof.ipynb\">add_cancel_general_rev</a> (conjecture without proof):<br></strong> <a class=\"ProveItLink\" href=\"../__pv_it/theorems/68f5e6cb0cfd17c2c646ba94fd68a2f8f23c4e4b0/theorem_expr.ipynb\"><img src=\"data:image/png;base64,iVBORw0KGgoAAAANSUhEUgAABjgAAAAZBAMAAAB+7Tr9AAAAMFBMVEX///8AAAAAAAAAAAAAAAAA\n",
       "AAAAAAAAAAAAAAAAAAAAAAAAAAAAAAAAAAAAAAAAAAAv3aB7AAAAD3RSTlMAq1RmmUTNIjK7EInv\n",
       "3XZ/CtNrAAAACXBIWXMAAA7EAAAOxAGVKw4bAAAKJUlEQVR42u1cfWwcRxV/vtvz3u2dz64q8QcV\n",
       "1gGlkVLFPdVR1RjhnuQWQqq2pwaJqoLopIKiRqq6QZUQKXGOio9IOI1BQcUgpReKoKmb2sUVrVJh\n",
       "BdoqrUrbaxRE5GJ0TgKBRERpoHXkipp5M7O7M7uzt7M+HJtwT5q9yW/evpn3m3nzsbsxgJ58bNaG\n",
       "trTl/0fys8d0VSur3hmbp7bosuUXs02LNJD6r5jgyBdYaouWbFFgJ9u0ONRsYcHRgz+f1AgOTcWV\n",
       "kut5WkY5+MbldOi7Ly/rXFIMQInJdmA41FB6+uE2/PdWjeDQVFwhsSosLat85bK6dHFZrW8LIL9o\n",
       "x4VHzTYaHN/CzeaoRnBoKq6QGEWWfLJZrb05zMxmreGaKqpK1Wi8qgQbqYUmVkPMhlWmMLI+gAxp\n",
       "erR0l5aIxrMckxpFwXqe+qGzBpAtaASHpuIKSY4nn/SptfvCzPQ1q4MPV7IBaaiK1Wi8qgQb2XoT\n",
       "qyFmwypTGMnV/MgRTY+W7tIS0XiWY1KjKEBqMPVDkoRfp86BXFNxheQ6npYzOPhwvUzB0Vla1uDo\n",
       "9E+7iUo7ODxqMPUDvDE7+7pOcGgqrpDczpN5zZmGwvMQOJSp7dPDwcLO3rmC3CvZ8zcr+mr6VDVO\n",
       "p4jqro3t03t9dY2f36S4W42GDiNPPdvj35hOBvwWWjMchz2J7Qiy1Gg8slqhRqGO1GAiwbER4Cda\n",
       "waGnuEJyH09fsjMLCs9D4DCmUkfh8cC2Aya2WfNSr5jH4PPBnt1ZMEZjdIqk7tjwGuAiJ+D7ioYq\n",
       "0dDgENSTdKG4YxblbWe+9PkdbI2eSxLbzclSozHJaoUahTpSg4kEx3YwSZRY7K1QtUlwMMVVKsdY\n",
       "sl4Cox70PAQOZerpItzhcuLKDTV4U+qVrkkOSOg7kGvEGElMvSrbIA34rIzsKsJfgner0dDgENQT\n",
       "/iNGV8HxO3CbD45yibP9S9AgS43GI6slahTqSA0mEhyZWrZMlhFW0QmSPuO0cOft5eRvveBgitqS\n",
       "vj/m+M5eihsR+X29znL/CkvGBaTbugn4tPh7Ni0yePzZj8qwT7yCu7AbGCfWA3Ryxf4gw/UDYmt2\n",
       "9k9kh4nzxF04nT5Bp2APNXDS1K/KWHCJFy3TBojI4+fPlYOOUTSiMr+R5J9p91zwH0PLTrV+jxhs\n",
       "vXhVTdMlyjZMQzRZFOWWBTQeWUunxq/uUYOpH+OvM8gSpOfGyomew7DJC46AYoRcE3OomxfihB5p\n",
       "n/UDO/FTOThyozBRhkf/4ZsWGFxy57+oaeQ1sN4LFr4DqYvSlPUaNuS875iew3Vfv6rcqGqK9xrg\n",
       "IO/iJeAYRaMrk4xQriB1RBEctNqARww23MVXw6WJssIlUJoGwXLUyqEmqyVqJHWPmhRbOaAyKGvv\n",
       "wsutZKpMDBow6QVHQDFCXo27DsR5iYLtyz4D8Gl5WzXRgFtIbp3Pcwa/B7uqWkxZH0JSEakXnZmL\n",
       "9wpRw3/4+nsCf7SrYur+/hYa4IwAWlfAMYpGVyYZYZMQa7Zw5iDbKl6t3yMGd5fNS9ou3aJyCZSm\n",
       "QbAcFRxKslqjRlL3qMGEwfGrbSRQ5mhTT+MTkg3mOfb6PPHIFxticKAijA8+75gVsp64YPrDOVws\n",
       "s6dch6YVweVi1tRf6S5m6pRnqaiwzjDavie+430st5+liQJ8JGEHg4PCA9rBcRE6KmsYJ4Jcws23\n",
       "2Cv/JMQF+rub6JS1q2LqjHhhzNAG+E4ykAiOAIoOaAcHVU+ODpNeTfqnokzDqTYwgimcrGkHB2V7\n",
       "Sw9Ek0VRz3JUcCjJao0aSd2jBhMGxzeJF890010ffdbd+7Wn7YO08urhT4nBgYrWH9PzznD2sp54\n",
       "YH4mj0/q/5B21u+u8khA3cMO2XvRjUPVDsfSCQhsPymGTzdo+9as8UqeZSnTSBw3gkRxGH7jOzm+\n",
       "j11Z4RmhYD+sK5UYJ4JcDfvkXiEteSHQ38YoZKvhVbGLV0DVDeclg2OZNkBCbgLrc0HHGBrpl2Sk\n",
       "48zao/zJrXTk63GqDYxg3ppsXc8lyrbVWNAgi6GuZSca35fMR5HVEjWSukcNJgyODtKVO6jpp7LY\n",
       "IW8W0uydeqJquFudClc0SmSwm/SRLs3efVo+pFMQ8K5MER+HGaNWlakTHp5M9d0m9wjBgJ1rboW9\n",
       "+HOVOcXNd/Q8XPTrIwbXAn/nPzDglexhyep9YfvfgkRxOD3j24Aex/gs8YxQcODc93qrO9b5hs+B\n",
       "54pyr2SnBmvB/n6x/2yzqrpKcgGqM+IFG7QBEpKfGlTsHRga6ZdkJHcSH/d0+R+upOtOtQGPeGv2\n",
       "1PRcomybP6vrkEVR17KDHpfMR5HVEjWSukcNJveT9f3gPOs2/7WRxNHY2FghUbUmK0JwsGNbvgce\n",
       "mXGzR6wLvmNdns/3uarRw455TJ2el2FC7pFXhNzf8eflG2uO+aG1AX3E6DdAtH277xGWoCpLoNx/\n",
       "cvlGTfvNnMdJs3dqqm30kqrqLIbtK2RE7VhkZZKRXXheg50BpRPNPeJzlrZLmYY2Wa5lvTfkarKW\n",
       "SI1U4FGDyQkOa4EOrG4bd1tfNtn7kEQV7m74gmPCzgzUYMbN2mn5qQcFr8e7uiFXYBaZOszjCcG3\n",
       "s8ItWD/GsTUP+5/iANPHO/361NrW4QZrHx7ILefFTYklH1HSV2VmybQVsChiAedEIdIXb25/i2jM\n",
       "qphjoPqWTkaUjkVXJhnZkKrbqs8M1zf1COAh+Hoclyae1CXLs6z34aGarCVSIxV41AwJwZGolCyy\n",
       "yxqBceho7MlCBgMuWQZnGfBWDnvvZhoc4zybKZMsuZdfKPiJEsl11TaQa2cZJlGdFH4VsgA/EnQZ\n",
       "Zu6oYO5o+tIA+fkhKlHzmQI+KhP1OTa/dpS1z3zOpg/TqTzGk0yUvHDs/nYtxgMxwomWWr31qmBE\n",
       "U2/df8Gv3nR9UvV9dcZu5hGYP969KY5L1xm6ZMW1PLL81FB63JWj107/DmAORgoZu+Nm0l7cw28F\n",
       "8AdHaqhvio7ekQLLbsRs+iiM2HhhYKaK2J0NcjWHBmksEesPkf2iUcUc07U5lpxE7As3niuSn5+f\n",
       "OsvNW3eSOyV9hqXfrQFrH4zfv8+d3A86x3QiDz84rXL9rcXFOH1AONF5O/PrDxotVwVzempqx2JW\n",
       "9hhcXfUiQfB3tJlHkFtcjPMiCg6c0SUrruW55aeG0iP+N9kE/TqJPyYbHxuTTmwVyQjue5hittZw\n",
       "73HBQwknV3DVEzR3OO/kwMU6yi6W8JuX9SmWf37GDrYPzAZL/5ty3+WuUDFyYbhNlkMNpUcMjns7\n",
       "7zkCqZBVSAqOR18vOIoPLtaFe3guc5bn2BXV4V56lFr8N8+xGtlZ2s3xH8+8rM8ww54qwJUlSHxb\n",
       "Vh1ZYnAUjdM1SIJGcNATsCrrzwlKxbDcyWs9rKgyX1RgV5Yg8W1ZdWRp//WRB5bt71Z9vNTu8Las\n",
       "PsnPvvQfjBR1c5trkFYAAAAASUVORK5CYII=\n",
       "\" style=\"display:inline;vertical-align:middle;\" /></a><br>"
      ],
      "text/plain": [
       "<IPython.core.display.HTML object>"
      ]
     },
     "metadata": {},
     "output_type": "display_data"
    }
   ],
   "source": [
    "add_cancel_general_rev = Forall((i,j,k), \n",
    "                             Forall((a_1_to_i,b,c_1_to_j,d,e_1_to_k), \n",
    "                                    Equals(Add(a_1_to_i, Neg(b), c_1_to_j, d, e_1_to_k), \n",
    "                                           Add(a_1_to_i, c_1_to_j, e_1_to_k)),\n",
    "                                    domain=Complex), \n",
    "                             domain=Natural)"
   ]
  },
  {
   "cell_type": "code",
   "execution_count": 24,
   "metadata": {},
   "outputs": [
    {
     "data": {
      "text/html": [
       "<strong id=\"subtraction_disassociation\"><a class=\"ProveItLink\" href=\"proofs/subtraction_disassociation/thm_proof.ipynb\">subtraction_disassociation</a> (conjecture without proof):<br></strong> <a class=\"ProveItLink\" href=\"../__pv_it/theorems/15b988678605eef21387e1567fce0783859d40f60/theorem_expr.ipynb\"><img src=\"data:image/png;base64,iVBORw0KGgoAAAANSUhEUgAAA/8AAAAzBAMAAAAz7qU3AAAAMFBMVEX///8AAAAAAAAAAAAAAAAA\n",
       "AAAAAAAAAAAAAAAAAAAAAAAAAAAAAAAAAAAAAAAAAAAv3aB7AAAAD3RSTlMAq1RmmUTNIjK7EInv\n",
       "3XZ/CtNrAAAACXBIWXMAAA7EAAAOxAGVKw4bAAAKy0lEQVR42u1de4wbRxn/vH6t177zQSVeQYd5\n",
       "FfFIemqqKInExVVa+lKF1SJAqCSuUlQRhHCiSlVCkxrES+LCWZSIuirFpVLbu7Q9k0ApqRquRVUI\n",
       "kMqUFqK2h3xJpIMcXE/XphddRY75Znftncfau8GT863u+8M3/nbmt7Mzv/nmm5n9fADexBgdrcCK\n",
       "BEv8dGrP4mK2Kx/i3pV+9C8jZr8nFhdLngmQ685HCQ2sdKd/0V+xEuFlT4BV7Ne44tvFuxqOl4Lr\n",
       "ldVBIUA4z34/qfh+HcaP1pXWdovrlWRfQAhwF0tyrar2dgR/5Lh0Uj3uy/m6v2alTimtbq/7/PjX\n",
       "gBDgH+zXhxXfDvFvk165zRdOzHaoY2qXVttdr3yqEggChMfZ75tFIysfBFG3sXFzy/sh/pwUZ84X\n",
       "ejpjP0C2VQk/Wmndr2hHweVOgBRn8sdFoy2fZTW3yXdNy/sR/OiCDEeudUXf2hj4f2xVwo9WWveU\n",
       "q4GJzgeCAK+zD6jl1RIA8ZM1GY5c64r+TEOzTSkBYu5OwK2BIMBf2K8RNAg7juyVtZaL2q0R46um\n",
       "xCyIH+ufzIg4cq0r+q0z77RSv+RKJGfWS3DkWlcCHDlVZJ19iVxWCQAB9HMi4aNH4ecViY2Wq10b\n",
       "8ZZCglj1R0T8se3GvIgj17qhG29VxsjyBXtpHVsi/iJcJ+LIta5135OJlJyr5BsnULjBMlYPAAFC\n",
       "3JzfQ0bhYwNwI8BDea61qNp4+h0Vj130e4gQq35ExCcj5wURHrXe0bUFSJEsJ9AbZ0v0VGXoqPWO\n",
       "Dq8S9DBdH2njrm2XqAWAACnOwqVIJT+LDaDP0MeLTEy8dnxiAnNRdYT2qlPNChkqfzaHSmQWW91a\n",
       "+9EBdMLC/wzA2yI8an2g5yFtoQ9z1SSdLKk80fpApw7p89REzrovoOYDQIDhAZEAx8A4S6hf4wYR\n",
       "Vadz8XPeRlGqBGPiEyP+qxCdE+FR6x2dcGur5TLcwlcTpJUHf3Unswbt+qi7BTDeCAABXi8IJto4\n",
       "D+FZsQ1NdbjitRHJDLkJYEufOAXM4QgTugi13tHTGTKojdPIgdV8NUFaefBXd+zZvVUbSeoDwLMB\n",
       "IMD9/LxWB2MOQvmPiW1oqhvLtbaNmIF3abvrCwI+nEN3QiAA1XpGTxfRx6CL1g1sCTIsoyI61XpH\n",
       "JzXJhaY+cbR1//4sAAQ4xn3HVc8DsDqbFdvQVMM+1pEy3rI/xvJMIybq2kuR+C9qIv4l8BOJkaZa\n",
       "Hp2CytBDA4ksjCZxM+4GtgRx9p8S0anWMzpZAiSLqZO4yIi0OBv5nUUAauU+7IUAIXr3Ljp/N97k\n",
       "l4Wk5R6c/n5/UWxDUx2/j1O/ZH/0ZNlVQP9TO/5JR7yA/6sBCQGoVkCnoDL0VZvtXZqXuQ2lQ4MV\n",
       "EZ1qPaPD02vPwN1XFdsM2005kwBX45fbvRAggiVihS7aBjjPa0401so16aL5DrjTz27a2KMu+HJ4\n",
       "n+hp0pRxmVnvBPqGaI3A72nlQZuuAnwLXcaSFwLoaCx2ddEMoM3xmiuENmROTuL3/uB6idopzIHK\n",
       "pREXfCm8X/QhNNcDkhKdQO/Xa1XZ4ZiD3VmTAHggmcx48gHwcPFgFxEgfE7Y3bDsU/zJt2XDJLW4\n",
       "OOvnBg9OyfHl8H7RJ13GU0fQfwqXFFsP7HSfSYAw4VPMmxO4lvzNdxEBeucFr6Ck9o4dxd9G+0ml\n",
       "JFrN1+mStQo4PjHxJ28ESE1MvFbtIgIkFwTVXsW37Bx+7IvjhMJqPaqpltuoeYsA1wIQ/9Iwq1Js\n",
       "RYBIERKVLiJAZAGWr0ROL3FT9tQsAuyAOJkNkvWGm/tpewbac0Mu/KyDACTfDj+3+F5JTMmu+pJ/\n",
       "XTll1y80Cyty4QQYtwiQqCTZ1SLueIM+Wc5pfYfheudG0H3waz+3CFXFlOyqV/nRe/fDyLvh49UV\n",
       "AnSSAFqd8wHvxg/cR9AGI1B1EmCNPx8wVRRTsqtejSaZrOBwHcLVIEwBS08AewqA/CBZW05SJ5ee\n",
       "T2yIT5svFGvf/kKdIUAsTKyvcWjadl0ODP5GBG4qh2feJ6QcGxFN3ZFBMeXw9U6ZNh9foTbW55rx\n",
       "Dsl5cQm10rHQKiBE5gTCQbK+fyKNLol5PtG/87HCCN2QKB7+KEOA5KUk1+OFYesGxt91sQscyv9U\n",
       "TguppjR1PbkhIeWQl/VxfMOFLsG0nY6H6xX2AZQHhiwP2eKJAH02Ae4iqd30WNI8n3gho5ubSlox\n",
       "0ltyEiCOLuFVuIW1i/Ilq4/DTadZD4IqgRa7B9aZGTEVXXM1WwG8aroY18GjVj6SEvJFSkZRy1ob\n",
       "YOGHKq02ghQHhnQ2KEThBomXA5t01iZACCfjB8zFKR5pvEnm2nXlcjmjFY1q3kkAeA/gqyaToK+u\n",
       "UG+xtw/GjVnOhey1T9H/AFeaGTGVgjG2AkRnpZ4HCxBTQj70SXHHNPzVcvnH+ncdnoN2ln8o1YEh\n",
       "HQ0KUSjbPeQZq4LjONhYoA2L5xPh0pfj8EPTAsBNdYYAmHMe7hmFHuyvsUJiY6WAA96Ji8pP0mKz\n",
       "8JyZEVNx4Kw7Xl1LGwOnDDPfPM7iXD6sU+zOGdDp6CZOINhGQH+DfyjVgSFzPrSuIy/Tth4KA0Ic\n",
       "PljdSQAtnzWqeD5xAEL1fUlzwyecg8Zobh4sHtXPbsT+OgCpwvDNFUjkSJIUtj6o8kNZ/PIKgScZ\n",
       "rRTsd+QydfHdeUx9BZJWPkyRfAxgLAfV9M4Rul0F8M1r7C0LIvxxsOrAkOiCd62rbK20rYfCgJCm\n",
       "XJZhLEB/QX8OzyeGMolCaD3E8XcX9t0OIBLgc5dPD2B/DWWim9ccojuJQxn9KAwV8MNUJopA4L4z\n",
       "Q0e2lYpQnZmrYOnIio6k7lh7xsqHKZKPAYxvHqwM44JhFxop48nytY1n+BvfRHm1BEjWvGtd5RlQ\n",
       "T4CYByeAvk/HvBGk0fMJy0AdKJcZ5457tQAttpkzWak3CoGdelyjcFZGM3W4105ZN0P3IyfPxwNO\n",
       "73mE9P1vy/vZZ3g/v1OgODCEDf9orXWVZlAILEVASEM+ADwBvoTnE1EX48ESQP/3QTvnNxZrjkJW\n",
       "KnGGwNkZzVRs8b9WyryZiQryfDzgNcnLZZXaVBGJrzIwhA3/aK11XQU0g0JAcUBIazkmEGAAzyfC\n",
       "4IUAtKws6VAOtE+d/IjLVSmgxI/hRp7qwBA2KMSpbSK3E0dQCCxFQEhjy+y8QIDWG4cqXgr94P+5\n",
       "IrrYgSGOoBDj61RbBCYoxKHl1qcNDEdQyJIEhDRGVhACQyLjIgFUBoawQSFObRO5bUM2g0JgKQJC\n",
       "bAkFITQselaYApQGhrBBIU5tE9nDNoAdFAKKA0Ja16MeAAKYb3U3RXVgCBsUwmg9LwYdQSGwJAEh\n",
       "jAO93AnALQNUB4awQSGMtoHccPZ5ZNv0NoNC4IICQlzr7DEgxBIzUixgPxGjOjCEDQphtA1kxjg5\n",
       "kW1mNINC4MICQtzq7DEgxJo9g/ETMWHORqsODGGgQYrscSIoSOpxcQJCLBPXFwgCwNfYr6oDQ1wJ\n",
       "0ET2JkOy6l2cgBBTrBOJZU+AIfblF9WBIdDJoBAlyO0DQkx5EYJBgF72AVQHhnRMtilFT7R9Jyww\n",
       "PxXL/1j03mXR/TQoRKFMtc3xefBNgI3d+Q8jYhlYfrLkQSG6+cqQMfqEdwKs/MOIAMnDJgHxH0b8\n",
       "D0Ed493nSi51AAAAAElFTkSuQmCC\n",
       "\" style=\"display:inline;vertical-align:middle;\" /></a><br>"
      ],
      "text/plain": [
       "<IPython.core.display.HTML object>"
      ]
     },
     "metadata": {},
     "output_type": "display_data"
    }
   ],
   "source": [
    "subtraction_disassociation = \\\n",
    "    Forall((i,j,k), \n",
    "           Forall((a_1_to_i,b_1_to_j,c_1_to_k), \n",
    "                  Equals(Add(a_1_to_i, Neg(Add(b_1_to_j)), c_1_to_k),\n",
    "                         Add(a_1_to_i, ExprRange(a, Neg(IndexedVar(b, a)), one, j), c_1_to_k)) \\\n",
    "                  .with_wrapping_at(2),\n",
    "                  domain=Complex),\n",
    "           domain=Natural)"
   ]
  },
  {
   "cell_type": "code",
   "execution_count": 25,
   "metadata": {},
   "outputs": [
    {
     "name": "stdout",
     "output_type": "stream",
     "text": [
      "These theorems may now be imported from the theory package: proveit.numbers.addition.subtraction\n"
     ]
    }
   ],
   "source": [
    "%end theorems"
   ]
  },
  {
   "cell_type": "code",
   "execution_count": null,
   "metadata": {},
   "outputs": [],
   "source": []
  }
 ],
 "metadata": {
  "kernelspec": {
   "display_name": "Python 3",
   "language": "python",
   "name": "python3"
  }
 },
 "nbformat": 4,
 "nbformat_minor": 0
}