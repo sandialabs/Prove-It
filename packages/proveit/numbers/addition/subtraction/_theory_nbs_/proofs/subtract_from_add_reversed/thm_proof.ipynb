{
 "cells": [
  {
   "cell_type": "markdown",
   "metadata": {},
   "source": [
    "Proof of <a class=\"ProveItLink\" href=\"../../../../../../_theory_nbs_/theory.ipynb\">proveit</a>.<a class=\"ProveItLink\" href=\"../../../../../_theory_nbs_/theory.ipynb\">numbers</a>.<a class=\"ProveItLink\" href=\"../../../../_theory_nbs_/theory.ipynb\">addition</a>.<a class=\"ProveItLink\" href=\"../../theory.ipynb\">subtraction</a>.<a class=\"ProveItLink\" href=\"../../theorems.ipynb#subtract_from_add_reversed\">subtract_from_add_reversed</a> theorem\n",
    "========"
   ]
  },
  {
   "cell_type": "code",
   "execution_count": 1,
   "metadata": {},
   "outputs": [],
   "source": [
    "import proveit\n",
    "theory = proveit.Theory() # the theorem's theory"
   ]
  },
  {
   "cell_type": "code",
   "execution_count": 2,
   "metadata": {},
   "outputs": [
    {
     "data": {
      "text/html": [
       "With these <a href=\"allowed_presumptions.txt\">allowed</a>/<a href=\"disallowed_presumptions.txt\">disallowed</a> theorem/theory presumptions (e.g., to avoid circular dependencies), we begin our proof of<br><strong id=\"subtract_from_add_reversed\">subtract_from_add_reversed:</strong> <a class=\"ProveItLink\" href=\"../../../__pv_it/theorems/57adf60a84b5d8dc8ea598e58dc0c707fbcff5aa0/expr.ipynb\"><img src=\"data:image/png;base64,iVBORw0KGgoAAAANSUhEUgAAAS8AAAAXBAMAAACortSfAAAAMFBMVEX///8AAAAAAAAAAAAAAAAA\n",
       "AAAAAAAAAAAAAAAAAAAAAAAAAAAAAAAAAAAAAAAAAAAv3aB7AAAAD3RSTlMAq1RmmUTNIjK7EInv\n",
       "3XZ/CtNrAAAACXBIWXMAAA7EAAAOxAGVKw4bAAADk0lEQVRIx8VWS2gTQRj+TTaP3U3SgOClUCKK\n",
       "PfjKwRZbIRbiqwga6MWCSEBBWhC2F0HQsh4Ei0ojFGpUZEUQSsTGtmBPEhDBB5VSLIpS2NpDPZVS\n",
       "D4pCcZ77mJ3QS4oD3z7++Wb3m3/+/58BaHiLMdTpCjQj+GrAZrTvDJIWsYO2VMb/fo4hjV92NFBX\n",
       "qEowNiPrXAqadotCsxRH8cvFBgp7ynBB1hm1RItWFC39FNfx0pcaKCzPsCbrDHeJFiUrWg5Q4Dno\n",
       "mQYKq1FE/kh734uGRICSsAjCSHG0kSFWpNBnpd3nRcOu4HJnKWYWFj40UJhSpYi2LArroK8cBHgh\n",
       "8k96q0nzMkpbPU1xAuD+hr+joRES64sk+/l8x/u1X/4aNgfdAO1E/AJpadGFZw0VBUC4SDEAsTTv\n",
       "ifcJqTvSMkgeaHa0efswVwkKS2Yo9lvw0d9RxYY9In/Ok6CvQUEBEKpRqJZecPqa3f8ulgvaXSP0\n",
       "wBWmORNQGDdSDYZugeIYwF9cOIhvvqCn06RSDIv8N+i7lwjJVFaxeoivUoRsT+y/dZ6OmGilnwMc\n",
       "coUpzgRUzu2vK+wbRPwF4x1dLYkwZ2gJxtHISI0Cijl0qeReYjetL+J56Us2rr3w5Abf3oiwpMNT\n",
       "OXfCiewl27+Ua6D4Coa2Tm57xRjzLOW4DYdxJM9SwASatvY5jkM19TWFw3w+XhvDzNZWPoYIu+zw\n",
       "VM7dCd1l1LJ4CHOmTfEbnvlL50/kB4AO0WOPPMIysA3lVxj9DAOuIuVKF/mwmsXpoJQ0swczOzt9\n",
       "wnpdHuf28qBDQ5jrWLJvhRG/ApSS0/7qQJqnfqh26JPiFhzYYuKoSGHHJkwlTUOkHfkhc/OMT9h2\n",
       "xusuP0ROItwhT2SxpJmleDwl7DX6ZA6Fybwo7I5ntVumB36gQChQUC8aaica1gQJFB5NqFzdIt9C\n",
       "wa+5woYcHvYY4fKlbHIr3BcG+YEssB8kTdFyjYHO2BjusSqQtDqgAtECVFWcBLEpA175gp/wqDDM\n",
       "hRVeVtEQ/x5cZ1/Ibryt81MAPcHl903C7Uz8lI2usXzOit3D5krfiOkKUw3KY1mJuDDKPZHP8QMN\n",
       "YhFI25WgaVR0ail43Ml4rpVy2a27VJhbTlUeFZLzErZp9c5Ro0HTmPAumVjEcq9Coz867qv8+C7z\n",
       "zCCDpKUk/Jiw4S4zeJfbc5UK00XNbfC/G5upKMzavD/+Azbu+Id6FulbAAAAAElFTkSuQmCC\n",
       "\" style=\"display:inline;vertical-align:middle;\" /></a><br>(see <a class=\"ProveItLink\" href=\"../../../__pv_it/theorems/3d22dde0d0b0191d15e9dacc731b8f931a5da1920/dependencies.ipynb\">dependencies</a>)<br>"
      ],
      "text/plain": [
       "<IPython.core.display.HTML object>"
      ]
     },
     "metadata": {},
     "output_type": "display_data"
    }
   ],
   "source": [
    "%proving subtract_from_add_reversed"
   ]
  },
  {
   "cell_type": "code",
   "execution_count": null,
   "metadata": {},
   "outputs": [],
   "source": []
  }
 ],
 "metadata": {
  "kernelspec": {
   "display_name": "Python 3",
   "language": "python",
   "name": "python3"
  }
 },
 "nbformat": 4,
 "nbformat_minor": 0
}