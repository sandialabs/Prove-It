{
 "cells": [
  {
   "cell_type": "markdown",
   "metadata": {},
   "source": [
    "Proof of <a class=\"ProveItLink\" href=\"../../../../../../_theory_nbs_/theory.ipynb\">proveit</a>.<a class=\"ProveItLink\" href=\"../../../../../_theory_nbs_/theory.ipynb\">numbers</a>.<a class=\"ProveItLink\" href=\"../../../../_theory_nbs_/theory.ipynb\">addition</a>.<a class=\"ProveItLink\" href=\"../../theory.ipynb\">subtraction</a>.<a class=\"ProveItLink\" href=\"../../theorems.ipynb#nonpos_difference\">nonpos_difference</a> theorem\n",
    "========"
   ]
  },
  {
   "cell_type": "code",
   "execution_count": 1,
   "metadata": {},
   "outputs": [],
   "source": [
    "import proveit\n",
    "theory = proveit.Theory() # the theorem's theory"
   ]
  },
  {
   "cell_type": "code",
   "execution_count": 2,
   "metadata": {},
   "outputs": [
    {
     "data": {
      "text/html": [
       "With these <a href=\"allowed_presumptions.txt\">allowed</a>/<a href=\"disallowed_presumptions.txt\">disallowed</a> theorem/theory presumptions (e.g., to avoid circular dependencies), we begin our proof of<br><strong id=\"nonpos_difference\">nonpos_difference:</strong> <a class=\"ProveItLink\" href=\"../../../__pv_it/theorems/6703796fd4e9d84d760ece6db017b76e5b5ab7330/expr.ipynb\"><img src=\"data:image/png;base64,iVBORw0KGgoAAAANSUhEUgAAAM0AAAAXBAMAAABaN9YTAAAAMFBMVEX///8AAAAAAAAAAAAAAAAA\n",
       "AAAAAAAAAAAAAAAAAAAAAAAAAAAAAAAAAAAAAAAAAAAv3aB7AAAAD3RSTlMAq1RmmUTNIjK7EInv\n",
       "3XZ/CtNrAAAACXBIWXMAAA7EAAAOxAGVKw4bAAAC9UlEQVRIx7VWXUgUURT+nJndnZn9aSHoQUEG\n",
       "giD6cYkIlFLD/kAIoV4CKcmgEoIVegkKFKInYy0DsQcZoRezWMugspcwpCgMKcNQjFkSDCSRKAyD\n",
       "6Ny5d2abH2ODOvDdOffO3PvNvec7Zwb4W8sKhFls7Sl/aymDI9QiVujwcUKaORtL59kiELDBCWo+\n",
       "BoafzGeRygD7Wed0yTR6C0eInSJETbcr2YtGDX0aaAM62bF2l8yjZDhC7AtBrnd68pRNuQd4DOzk\n",
       "bxA3SuZJCITEZpW1L50wzvKdXQOqTCRMyPRy0dLDs0kgaPFJ1rbyztAHMfoVyBmIEsnE3Nyr0nka\n",
       "BWIVCz5tRSsLdCz3bP/WWyecjCeDOKntEHDTH4S1eVoFmrPaqvdOvk1fAXYxd+Ckm1A/iMeCTMpp\n",
       "RyztDKtn7YvmWUDqxRVXKG849GdQJr08FIbXwFbmlnl5hiE9pUXNeJP7cEWQR+qnicNOb5xDWUaS\n",
       "jenn5ph1kHsAYIvaT513z42GTlhQl2kd6zcZvAjwyD1MYR0+nkQ38k3e/cwiQspuDuqgykCE9oOW\n",
       "Wnaj9iE7t58F0+XRRxYpla8zN7dU7j23vIW6QPooFLFtPl33AXUmJHbG9ylb9Wl1hd2dSdW7PHez\n",
       "uaw6ZrufzXkxv58jb2CD5C2P33GH1Fvty9Pd9oHKLL4XSQZKvcq2pmWYMgTPPnQBm0eZ28N1BK5b\n",
       "gmZJUz5VrscNoXkR1zOsTRo6xUJhsSyjw080pdJ2HJS0yzOOArXHRu2w7RWzr3LolY/aP3l5Bh6w\n",
       "cvTOXw8bC7R80ollPqvV0D7XIWE4PJQNPbfp2nkQWMaYeDDZwbHWB2gydPiSW7ayuSPmEJJmdVFv\n",
       "z9VvNezaXo4Z2UkgViiLxTK0zIZYg1sEG7aPoMtQD1tFnqM7FjPic3h5yZ3SKxBuF7iC7KR6X9yl\n",
       "73vglG3tDwVuUCDcwt9A8yozYpbAE7M4wj/q4X8CC96ujACP2kfWi/9ksX+/5C8M3L+Lkr23hgAA\n",
       "AABJRU5ErkJggg==\n",
       "\" style=\"display:inline;vertical-align:middle;\" /></a><br>(see <a class=\"ProveItLink\" href=\"../../../__pv_it/theorems/8179a440a1f90e9073c795652c0da70bba8764f50/dependencies.ipynb\">dependencies</a>)<br>"
      ],
      "text/plain": [
       "<IPython.core.display.HTML object>"
      ]
     },
     "metadata": {},
     "output_type": "display_data"
    },
    {
     "name": "stdout",
     "output_type": "stream",
     "text": [
      "nonpos_difference may now be readily provable (assuming required theorems are usable).  Simply execute \"%qed\".\n"
     ]
    }
   ],
   "source": [
    "%proving nonpos_difference"
   ]
  },
  {
   "cell_type": "code",
   "execution_count": null,
   "metadata": {},
   "outputs": [],
   "source": []
  }
 ],
 "metadata": {
  "kernelspec": {
   "display_name": "Python 3",
   "language": "python",
   "name": "python3"
  }
 },
 "nbformat": 4,
 "nbformat_minor": 0
}