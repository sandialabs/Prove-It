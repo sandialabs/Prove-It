{
 "cells": [
  {
   "cell_type": "markdown",
   "metadata": {},
   "source": [
    "Proof of <a class=\"ProveItLink\" href=\"../../../../../../_theory_nbs_/theory.ipynb\">proveit</a>.<a class=\"ProveItLink\" href=\"../../../../../_theory_nbs_/theory.ipynb\">numbers</a>.<a class=\"ProveItLink\" href=\"../../../../_theory_nbs_/theory.ipynb\">addition</a>.<a class=\"ProveItLink\" href=\"../../theory.ipynb\">subtraction</a>.<a class=\"ProveItLink\" href=\"../../theorems.ipynb#sub_one_is_nat\">sub_one_is_nat</a> theorem\n",
    "========"
   ]
  },
  {
   "cell_type": "code",
   "execution_count": 1,
   "metadata": {},
   "outputs": [],
   "source": [
    "import proveit\n",
    "theory = proveit.Theory() # the theorem's theory"
   ]
  },
  {
   "cell_type": "code",
   "execution_count": 2,
   "metadata": {},
   "outputs": [
    {
     "data": {
      "text/html": [
       "With these <a href=\"allowed_presumptions.txt\">allowed</a>/<a href=\"disallowed_presumptions.txt\">disallowed</a> theorem/theory presumptions (e.g., to avoid circular dependencies), we begin our proof of<br><strong id=\"sub_one_is_nat\">sub_one_is_nat:</strong> <a class=\"ProveItLink\" href=\"../../../__pv_it/theorems/f9723099a5cd5fe5f6c2f5b68731116a04087ac40/expr.ipynb\"><img src=\"data:image/png;base64,iVBORw0KGgoAAAANSUhEUgAAALcAAAAVBAMAAAD2lGJJAAAAMFBMVEX///8AAAAAAAAAAAAAAAAA\n",
       "AAAAAAAAAAAAAAAAAAAAAAAAAAAAAAAAAAAAAAAAAAAv3aB7AAAAD3RSTlMAq1RmmUTNIjK7EInv\n",
       "3XZ/CtNrAAAACXBIWXMAAA7EAAAOxAGVKw4bAAACoElEQVQ4y42VTYjTUBDHp0naJmkbqohFRQmI\n",
       "gvjBHmRBD3VhuyAuQnAPgixS3cOCB81eBEEhiniRssGDGkGJF2FZpF33oC6CFfGiiEX8hkLEwy4I\n",
       "2psoe3Be3mvapC9hB/4wnTS/N29m3gvAGsxk4lk26aU1mKZTcS3tRQIP/9504dmqcRL9IglsT4Tv\n",
       "Zhq0mgvwIxq8kS6C2gFtCGCM/J5OYqtVqsEHG84hPONGwlvNRYAmwBmAy6RudhJcGqLi2G8EiyOR\n",
       "4Ho7Y0ILYD9dOKcnwfNMMXB4zTpzt/3Jd0rlbJXA8y6ImFMmseQ7meLgU7SxZ7vlKaWsnwSeQfLb\n",
       "dvtNInycKbtl2ePBF3z3fFD6EtiKgfAczsphgDuDxFzPnWKaNJV/PPgwhGeiBFfVbwgXcQhmIFvk\n",
       "dLHnvqdSX4LU4sH3+G61Dy7qu3BaBJTi5oy+/18aN8QXIfgrKqkDhQa6D9rEvvTgs8STsbrtrwwO\n",
       "m1MIlju4gBf0U/7uGEJxCY7w4Hkb6gYv80l/5u2+zOG+intMN8mGyt1wxcK1yhI0cpWjlbFIWeoe\n",
       "HOJOy17fbfXDZQ/XEkjoER4lmC8/9g8sCFeOe41Q5veo6jpsFEwO/IDv/gqCt1ErCBfJZi5iP9XP\n",
       "8h+YI48Ea2lHGL5ApXjCBymS+XOTjSlOdXAQT5N5wP5KpEMpLIY0IjdhgsIlzQ7Ba1TqticzK2H2\n",
       "unencLMf6UWz6QQNXlu16V1U6HYob2hFGHYcRxcstVENzXnBooq70Fm100/Z8Q/mruvUTeWge51m\n",
       "DsfCB5HcTAO3U/he49pocDmZsxOuQtojGqBFDtUtJr5diNtRMJzp0X2LkCV9rk2zD0jP5pj4Fres\n",
       "EpmseccxeDl4VPxvYNy3chngP5kEr46oTpn7AAAAAElFTkSuQmCC\n",
       "\" style=\"display:inline;vertical-align:middle;\" /></a><br>(see <a class=\"ProveItLink\" href=\"../../../__pv_it/theorems/6bd931ee252d1d40f70d9e8f1096bbb39afa242a0/dependencies.ipynb\">dependencies</a>)<br>"
      ],
      "text/plain": [
       "<IPython.core.display.HTML object>"
      ]
     },
     "metadata": {},
     "output_type": "display_data"
    },
    {
     "name": "stdout",
     "output_type": "stream",
     "text": [
      "sub_one_is_nat may now be readily provable (assuming required theorems are usable).  Simply execute \"%qed\".\n"
     ]
    }
   ],
   "source": [
    "%proving sub_one_is_nat"
   ]
  },
  {
   "cell_type": "code",
   "execution_count": null,
   "metadata": {},
   "outputs": [],
   "source": []
  }
 ],
 "metadata": {
  "kernelspec": {
   "display_name": "Python 3",
   "language": "python",
   "name": "python3"
  }
 },
 "nbformat": 4,
 "nbformat_minor": 0
}