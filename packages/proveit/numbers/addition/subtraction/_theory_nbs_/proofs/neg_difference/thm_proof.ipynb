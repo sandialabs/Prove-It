{
 "cells": [
  {
   "cell_type": "markdown",
   "metadata": {},
   "source": [
    "Proof of <a class=\"ProveItLink\" href=\"../../../../../../_theory_nbs_/theory.ipynb\">proveit</a>.<a class=\"ProveItLink\" href=\"../../../../../_theory_nbs_/theory.ipynb\">numbers</a>.<a class=\"ProveItLink\" href=\"../../../../_theory_nbs_/theory.ipynb\">addition</a>.<a class=\"ProveItLink\" href=\"../../theory.ipynb\">subtraction</a>.<a class=\"ProveItLink\" href=\"../../theorems.ipynb#neg_difference\">neg_difference</a> theorem\n",
    "========"
   ]
  },
  {
   "cell_type": "code",
   "execution_count": 1,
   "metadata": {},
   "outputs": [],
   "source": [
    "import proveit\n",
    "theory = proveit.Theory() # the theorem's theory"
   ]
  },
  {
   "cell_type": "code",
   "execution_count": 2,
   "metadata": {},
   "outputs": [
    {
     "data": {
      "text/html": [
       "With these <a href=\"allowed_presumptions.txt\">allowed</a>/<a href=\"disallowed_presumptions.txt\">disallowed</a> theorem/theory presumptions (e.g., to avoid circular dependencies), we begin our proof of<br><strong id=\"neg_difference\">neg_difference:</strong> <a class=\"ProveItLink\" href=\"../../../__pv_it/theorems/7dd8a3d603e97667d7713206f3c59ff82551b7980/expr.ipynb\"><img src=\"data:image/png;base64,iVBORw0KGgoAAAANSUhEUgAAAM0AAAAXBAMAAABaN9YTAAAAMFBMVEX///8AAAAAAAAAAAAAAAAA\n",
       "AAAAAAAAAAAAAAAAAAAAAAAAAAAAAAAAAAAAAAAAAAAv3aB7AAAAD3RSTlMAq1RmmUTNIjK7EInv\n",
       "3XZ/CtNrAAAACXBIWXMAAA7EAAAOxAGVKw4bAAAC7klEQVRIx61WXUgUURT+dmd2d3Z2dhOCAgUZ\n",
       "CHrpxyUiUEoN+wMhhHoJpCSDSAhW8CUoWCF6MrQMoh5ierSt1jLo7yUMKQpDyhAUZZYEA0kkCsMg\n",
       "OnfmzuidvcIIHvjGc+/ee78753znjMB6Lcchs8TaW9ZrGdOF1GK2dPo0oYI528Lz7OAos4FRenwr\n",
       "m349m0MmCxxmg/OhafQ2FxI7R4hbgcm4qU8AHUA3C2tfaB4160JiPwlKY2DyAPAS2OveIGWG5jE4\n",
       "JLlZZs8P/jjqBOkGUGPBsKDQ5eLh07Odo9xSY+zZ7g2VcSeEv4BeE3EiGZ2e/hiep5kjUTUX0Fa8\n",
       "ukRheeLJcsqh0RlPFilS2zHgbjAJa/O0c7TmksviL8UOfQnY5w4KM7yg/hKPDYWU04lEhbdWu+D8\n",
       "SQZPv+YL5bML/S3UMXENpeETsNPxu75gFc8gom/oUCvV4i+ukvFYiAx6/ogLdRFpNqdfnGaWJ/cI\n",
       "wA5liyJn/TKgqTM2tEXShb1KBu8lPF2VMPIBHqMPxRbxNlOIkbJbRR6mgxoTMXoftNWzgNY/Z3H7\n",
       "V7J8Hn1onjWm7q10y4VKMW5FGw1l5aNSxnaJccMdoMFClMX4KVWrPqEtMZVMZhp9nke5XuI5dZTc\n",
       "H9Ys33fPRdHElqjYHv/gIam3VtQB9jsBVVh+L5MM1EaNvVoyy5TBeQ6hh2heMbff05GjW0LSjo4H\n",
       "VLkZt7jmmT2ecTtQ2tQpFyrLZYSCb7RkmOiMvFrh84ygBG2Yp+0g33/dhV79ovO7yHP/GWtHX/06\n",
       "5QXUXKLj014ui7lkHc1vgmF6PFQN/Q9QuMn8RQzzhem8i7U+QCtiV1Y15yt+28r1nrAKSFu1K3p7\n",
       "p/2uo5T1kzupeAXEGmVZsxTbrMSa/CbYtHsIPaZ23F7hOblnnu1SiOjqgr/lNofcLsnfMvA98Nq2\n",
       "WD9R4dgBDrnJb5AUlRmzpDyBu9ku5B91+X8Cc+JQQQiejbTExh/5H/p0tuoiIAlmAAAAAElFTkSu\n",
       "QmCC\n",
       "\" style=\"display:inline;vertical-align:middle;\" /></a><br>(see <a class=\"ProveItLink\" href=\"../../../__pv_it/theorems/672583d7fd1b7c9c4867b465017ad97e70f5cba10/dependencies.ipynb\">dependencies</a>)<br>"
      ],
      "text/plain": [
       "<IPython.core.display.HTML object>"
      ]
     },
     "metadata": {},
     "output_type": "display_data"
    },
    {
     "name": "stdout",
     "output_type": "stream",
     "text": [
      "neg_difference may now be readily provable (assuming required theorems are usable).  Simply execute \"%qed\".\n"
     ]
    }
   ],
   "source": [
    "%proving neg_difference"
   ]
  },
  {
   "cell_type": "code",
   "execution_count": null,
   "metadata": {},
   "outputs": [],
   "source": []
  }
 ],
 "metadata": {
  "kernelspec": {
   "display_name": "Python 3",
   "language": "python",
   "name": "python3"
  }
 },
 "nbformat": 4,
 "nbformat_minor": 0
}