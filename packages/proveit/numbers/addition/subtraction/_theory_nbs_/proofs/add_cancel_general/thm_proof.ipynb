{
 "cells": [
  {
   "cell_type": "markdown",
   "metadata": {},
   "source": [
    "Proof of <a class=\"ProveItLink\" href=\"../../../../../../_theory_nbs_/theory.ipynb\">proveit</a>.<a class=\"ProveItLink\" href=\"../../../../../_theory_nbs_/theory.ipynb\">numbers</a>.<a class=\"ProveItLink\" href=\"../../../../_theory_nbs_/theory.ipynb\">addition</a>.<a class=\"ProveItLink\" href=\"../../theory.ipynb\">subtraction</a>.<a class=\"ProveItLink\" href=\"../../theorems.ipynb#add_cancel_general\">add_cancel_general</a> theorem\n",
    "========"
   ]
  },
  {
   "cell_type": "code",
   "execution_count": 1,
   "metadata": {},
   "outputs": [],
   "source": [
    "import proveit\n",
    "theory = proveit.Theory() # the theorem's theory"
   ]
  },
  {
   "cell_type": "code",
   "execution_count": 2,
   "metadata": {},
   "outputs": [
    {
     "data": {
      "text/html": [
       "With these <a href=\"allowed_presumptions.txt\">allowed</a>/<a href=\"disallowed_presumptions.txt\">disallowed</a> theorem/theory presumptions (e.g., to avoid circular dependencies), we begin our proof of<br><strong id=\"add_cancel_general\">add_cancel_general:</strong> <a class=\"ProveItLink\" href=\"../../../__pv_it/theorems/fffb326e3ddaed8504adf87551d44ceb731818300/expr.ipynb\"><img src=\"data:image/png;base64,iVBORw0KGgoAAAANSUhEUgAABmgAAAAZBAMAAADH+by1AAAAMFBMVEX///8AAAAAAAAAAAAAAAAA\n",
       "AAAAAAAAAAAAAAAAAAAAAAAAAAAAAAAAAAAAAAAAAAAv3aB7AAAAD3RSTlMAq1RmmUTNIjK7EInv\n",
       "3XZ/CtNrAAAACXBIWXMAAA7EAAAOxAGVKw4bAAAKHElEQVR42u1cf2wcRxV+t3f23u3ZZxck/iDC\n",
       "OqAQKVWsU6+qGiPMCbciTdVwapCoKtoeKlXUCOgGVUJNSXIUEJFwmgMVlRSULmpV0bqJXdxfSlVj\n",
       "KCig0mKiICLDoUsTSImF5bQUR0HEzM/dmd3Zu9lc1rq296S5m3zz7byZb+bNzs5eDKBnH6rb0LWu\n",
       "dS1XP6pLrbxjO2mz1DVdtXSw96g0RIriuz5ocnmauqZlt6kV7BqV5jYaNIP466MaQaNJ7DS7gqX4\n",
       "zPrJ3Cr2J/3lUqxrTEGpYNeoNESeIlyH/71VI2g0iR1mVoWmOK23tJo9Goh34d+mUrBrXJptJGi+\n",
       "iT7NmkbQaBI7zFIFmny2RUnuKYTUoi7Y4p/G6lqjoE3awO12pwkvCqouuEqloF7bo3WpuaZ6NasL\n",
       "4pTmKhI0vWgMsnmNoNEkdpj1seSzYSXZaITUoi4YlqdxWK1R0CZt4PZSM14UVF3Q5ygU1Gt7tC41\n",
       "11SvZnVBnNLgVIQkiqhenYMATWKH2cdZijNoXoLVDJovxTszegsKBbtBw6XBqQjwar3+ik7QaBI7\n",
       "zG5gyVxzuqEQe/vMrkgKSnxeyRcX3+cbwpmTVcXAqtEwV9nFa4Kl5po33pR51swpR3H1xOKmKP3y\n",
       "6NlBhYIh6oXAeuq5aBtiuQWSWHFKgxMKmo0AD2sFjR6xw+wOlr5gZ84Hxe45Ao84ERSU+awS6z/O\n",
       "pC0N4c58qhYcWDUa5so8CtcHS71ucN6t1fSUoqHH4XtR+uXRk/i5P1UnNghN1QuD9dTjaDti8QJZ\n",
       "rDilwQkFzXYwkTgWHfZqk6ChxI608OOrozRZL0NqLij2UwW4McqdhvKZVrwS4zz0NaSx/QsHNNAw\n",
       "V/1T8BpA2neShbpRkXjmW5ArB6/eXYC/R+iXQDdmgwqGqBcCa6rH0XbE4gWyWHFKgxMKmoyTRVVn\n",
       "Kec4Sp/k9ey8oZz8pRc0lKht6bsizvzsuaixkntwiN7vawGHv2Dh/xuaUktYWOtqgt1Yr/++Xv8j\n",
       "yn0Wj4714mUOXV3/+ipbXeXjI6+A8KlWXiVoGg9MSQBefgO+CDrx9AdlNNwVWZP7cTceJ8s+Hhra\n",
       "DZGXubD4LMCjFd/VjywulJkznX4RevJvRMUlHy1cPQpH6JKnnodevFjiOHpixSwNTkUcUr7H+z4c\n",
       "GukT+8vG4GHY5AVNgNjC1kQMAXMpSkii9lnft40fe0EjOdwNUtD01WCyDA/8y7dC/Q6styHlrpct\n",
       "lx3CVyxzt+dFoA83J+CLoCX3zjbc0pXqLJB0Q+QN4IFNL875rj4LorOW/TrragU9s8GgCVGPwlG6\n",
       "JKrH0LbE8sZR4S8WaXronQYqozKdzLdrUdQaoymY8oImQGxhv41634jyEgi3L3sI4BNC0IgO/ylv\n",
       "zyYb8CmUWy+LbV2A5BIMlM1zegpSvn/EBvJspePAJGH7fFH0bdhd1ZphyJXCWDfEmUG+DP/MIFe7\n",
       "zlrOjAveokWqEp9pQtVjcJQuieoxtC2xvHFUBU0c0uCEg+bn21AAnSDOT+EVc4O5QH8uYNz/+YYY\n",
       "NJgIE6PP83qFrGcumL5wAk+l7Em3WTOKoHMxa/ofDfJ10qupoKidYqR9j34HdUfYnlGHlPZVljtA\n",
       "02QePmDYgaB5ExKVtUlHO2gIn2olBE0Vbe4lADWuHJgHBB3RnWHwFhoUOPRpX9DQbgg8vFvLB2cG\n",
       "2gYZMKI9Mwg9WduFKkv6l65Q9Ris3SWfenxqtyMWL5DFilManHDQfAMtKIcGyLbewLEx9LWn7CfI\n",
       "ddXDHxODBhOtP6eX+TT3ssKjqgvm5nP4+fxPaX6/7y+PB+gedtDeh7txsJrgNR2HwGaTYPichLRv\n",
       "7VqO17jD6/cjK6BG8Oejp2nKNIxjqeCCdgDWl1Ajs77t2WQFn4kB+xAKCJ9q5VWSKGRKEpCqQbYa\n",
       "8EVR96WOe/Qm+hNcoV6+ACXfSxLWDYGXrMBjdnBmXA3WZyDwIjS0X4SeOL3uCGrmlE/zcPV4a3S7\n",
       "JKvH0LbE4gWyWHFKgxMOmgRq3Q7S6iezePRfy6fpzxOMasrdMlUYMVVCQWCSo2eSvemUfDhAQDKJ\n",
       "MwV8PJeqWVVKRz37Wc/wdfKIIAzoc9O1sA9/XWZOs+oTg/cV/HyMweXAfj4xMiIFDXXIGsH3AXtp\n",
       "soZe2P5GcNh/uvDdIdSpvY7v5ArLcAz4h1dA+DvW+4ZyzZhv6/1i8UzQF0XT8z70mOTPc5WdHnUs\n",
       "5xnfokG7IfIWig3FHiQ3je/g3FnLfhF63+v48LTff9gTrh6Dtbskq8fRdsTiBbJYcUqDU1G4CQN9\n",
       "32n+eyOKL7Rg542qNVURgoaeEuQG4f55NztrLflOEXLs/tBXTQ3SUwVKJ0+UMBl4ynRz5DHk11c6\n",
       "vPqxdQE+xgBPUdK+PTdLQUMdskbwYMcnKv3uQfp65Rmm+bD2my5BK8WmQQLUvu51dN8Euq+ZNHiB\n",
       "mSE70+vXbvycCDsDm4EW6kXt0gEVepFiyQV3rII0OPGgsc4TaQZsvGu71aTvc4wq3NTwBc2knRlx\n",
       "YN7N2mn5tIWAV+CrBqAvT2ukdFjGTyC+HRreyhVxkFvLcOBJBlA+vtLPJ7Vt3dWg7cMHAZYXNNgh\n",
       "3Z6hRpxhoiRLNPnGRvqh3z3wdfYiS+vXe0wrxa8FtyiDRkTNkmmHXKxyBcuhQSPx3Jkhoa4zvX5t\n",
       "6Jmz6ZIkWSv1InbJVU9CL1IsuWB5FaQZE4LGqJQstFsbhwlINPZmIYPnXLIM/Lbh3WnsfVtI0Eyw\n",
       "bKaMsuha9kHAj5RQrt/ZgD57yzCF6ajwTsgC/FDgUszcUcG5I+lzI+jrB5hEqs/k8dGdyGfY8roa\n",
       "bZ/5jA0zXtBgh24jv8UXqYdYksdGGvUf7dkU5ZQPaaVDU/q6d8+3nSgH67OaTZq7BM6G0nNTqt+x\n",
       "N1cvqhe1evGJdWmlIfK4d5ohO/0rgBMwns/YiWvQRMK72a0A/qDpGRueJrN6PE+zG3E2fQTGbfxB\n",
       "wUwVY5sb6NMcGyUxhmq/B21TU1Wco1ybYckpjH3uyoUC+nrs5BlWvbUZXSnxKZY+6wBtH0zc9WBV\n",
       "OD3b3JAaSe0JfmyA7L67Z1QvP1ZWorwhwlppsNS+/rCyEukUXu8nGOZz/2207+wheH8VMsG+NVcv\n",
       "qhelevGJdYmlIfKI/93ZILvCPDu03b9feiKsSJXg/RMlZp2Ge40LHjR4Lu/SDZI7nOM5cLFE2cUM\n",
       "f/Uyn2C55+dtf/uavOExGzS9I623sNoeT6sV7IpFpSHyiEFzS+/Ns9ATcteSguaBV/KcePfKnHAN\n",
       "y2XOsBz9xHS4hfRr5X8sRz3SJ003x7686mU+xVL2dN7fuhq8K+3Oceha54klBk0hdcqBJGgEDXk+\n",
       "VGX9OYFUCMu9frmHFVTVFxTYeyNoNm/qxkIHiqX912i+EtvfPftwqf06un9kqGurZbn6y/8Hs82l\n",
       "45Og/OgAAAAASUVORK5CYII=\n",
       "\" style=\"display:inline;vertical-align:middle;\" /></a><br>(see <a class=\"ProveItLink\" href=\"../../../__pv_it/theorems/90fae8ff48c45b9487309ad339d542e301dc106b0/dependencies.ipynb\">dependencies</a>)<br>"
      ],
      "text/plain": [
       "<IPython.core.display.HTML object>"
      ]
     },
     "metadata": {},
     "output_type": "display_data"
    }
   ],
   "source": [
    "%proving add_cancel_general"
   ]
  },
  {
   "cell_type": "code",
   "execution_count": null,
   "metadata": {},
   "outputs": [],
   "source": []
  }
 ],
 "metadata": {
  "kernelspec": {
   "display_name": "Python 3",
   "language": "python",
   "name": "python3"
  }
 },
 "nbformat": 4,
 "nbformat_minor": 0
}