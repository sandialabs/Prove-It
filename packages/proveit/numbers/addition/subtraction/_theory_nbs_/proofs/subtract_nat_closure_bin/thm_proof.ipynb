{
 "cells": [
  {
   "cell_type": "markdown",
   "metadata": {},
   "source": [
    "Proof of <a class=\"ProveItLink\" href=\"../../../../../../_theory_nbs_/theory.ipynb\">proveit</a>.<a class=\"ProveItLink\" href=\"../../../../../_theory_nbs_/theory.ipynb\">numbers</a>.<a class=\"ProveItLink\" href=\"../../../../_theory_nbs_/theory.ipynb\">addition</a>.<a class=\"ProveItLink\" href=\"../../theory.ipynb\">subtraction</a>.<a class=\"ProveItLink\" href=\"../../theorems.ipynb#subtract_nat_closure_bin\">subtract_nat_closure_bin</a> theorem\n",
    "========"
   ]
  },
  {
   "cell_type": "code",
   "execution_count": 1,
   "metadata": {},
   "outputs": [],
   "source": [
    "import proveit\n",
    "theory = proveit.Theory() # the theorem's theory"
   ]
  },
  {
   "cell_type": "code",
   "execution_count": 2,
   "metadata": {},
   "outputs": [
    {
     "data": {
      "text/html": [
       "With these <a href=\"allowed_presumptions.txt\">allowed</a>/<a href=\"disallowed_presumptions.txt\">disallowed</a> theorem/theory presumptions (e.g., to avoid circular dependencies), we begin our proof of<br><strong id=\"subtract_nat_closure_bin\">subtract_nat_closure_bin:</strong> <a class=\"ProveItLink\" href=\"../../../__pv_it/theorems/8e0573f664e584c328a92880a1bad2a2cdadef760/expr.ipynb\"><img src=\"data:image/png;base64,iVBORw0KGgoAAAANSUhEUgAAAOYAAAAXBAMAAADtii40AAAAMFBMVEX///8AAAAAAAAAAAAAAAAA\n",
       "AAAAAAAAAAAAAAAAAAAAAAAAAAAAAAAAAAAAAAAAAAAv3aB7AAAAD3RSTlMAq1RmmUTNIjK7EInv\n",
       "3XZ/CtNrAAAACXBIWXMAAA7EAAAOxAGVKw4bAAADZklEQVRIx71WW0gUYRT+dnbXnZm90kOERgxE\n",
       "gXRhkRD0wTa0Cwm1ZRRR5JYPki+NBEGQsEYEkbVLIrZhMr0EJrJrPhQLQRckKyKJwhCWRgqsJPGl\n",
       "BB+i/zJ7mb09rNSBb/f//zNzvv8/5/znDLAKUQ2U0hUTB1YlHoWjqJzKm8ufY11wvpu064CPLmys\n",
       "iHOLgXyRh6bJZvx5q5JyCIgDX4DddN5ZCaUc4iiUqgD56cpbtMw4/XARpYZe6uNoJZw2P0eheKnD\n",
       "d+Rz1pKjuQFrgNLCqVTC6TJQKO0aVWl88j2VYs6wnNcvUE68hpXstKqicG42UChPmIO5C47+SJ9T\n",
       "XedJUM4O4G0q9aYizlYDjpp53aw5vbiGOI9lpyMTVosqYYByjgP7gDtlglZa1WHgpCqtmJPrtxZX\n",
       "YWUerVKznGJgbIwM6oFuOHzpdfGsMehpDVqfsQxn06s8yYTBXNPvOeQXsE2bOIUVuHQITxlnNodU\n",
       "1AlDZLCVWNWcwYyihhLPxYKCL4n9WU5LgtkaNpme5LAtwU3V91NUPlHfhOBNQFyiD/XRxajBadHW\n",
       "k0GEWNJzUmiKoCVMFptsSGQ5XWQJ1n4U43RFEQ+aFGQL7Qrs7JwjueeUfdS3JwlCTeRntOkRPeKf\n",
       "OY0VEOHyMT2HM7JYDc8tFquJBdXs27iOnQXX86AGgTncncuJm9TcNoKHJLXkGXGZVtBZT4DtTAgn\n",
       "N+Vw/tS+is/ZaEyNpDmHOeIK1gqmiu4NkxjDyjzqyaS0RHzluUYGDQSXSArZAiJ1heS3hto4p80T\n",
       "zXL2k2SrTdJRC/rSRsY5JF34YM5ui18ixc/G9owzmYJIC88e435ZyAZcQY+Pxc3mq4/FYooQlhOh\n",
       "LOcUdgHHkyyAc2kjNzjkDY+7v5nvSk0z9SoP8r0BXo/Ec69oohF8NB6Lq1Ij0XnhUq7zc+KwnuVc\n",
       "AvVs717Iy+h/kE6VMEcJ6TH+T9xNmRqBI32xXGqkTRuFW2sgd4fmaBDs4AbnLA9OdzVeir8ajXdI\n",
       "sWYoIc1lWgMTe/P2CfQp4gEdjtvUZ51GZ+WcVxbTzf9I3UKmlQwaKP49UKpXXTRPeXsZjcWy900q\n",
       "U3BHTPcvv0WX+jgx79KuFXm1DKdD5ygq86U+aMx7saIMp0jSOTaI/yGOf2DzLzi40F1B9GuYAAAA\n",
       "AElFTkSuQmCC\n",
       "\" style=\"display:inline;vertical-align:middle;\" /></a><br>(see <a class=\"ProveItLink\" href=\"../../../__pv_it/theorems/2cc74da6caa03976607bf760e443ad0381e68ada0/dependencies.ipynb\">dependencies</a>)<br>"
      ],
      "text/plain": [
       "<IPython.core.display.HTML object>"
      ]
     },
     "metadata": {},
     "output_type": "display_data"
    },
    {
     "name": "stdout",
     "output_type": "stream",
     "text": [
      "subtract_nat_closure_bin may now be readily provable (assuming required theorems are usable).  Simply execute \"%qed\".\n"
     ]
    }
   ],
   "source": [
    "%proving subtract_nat_closure_bin"
   ]
  },
  {
   "cell_type": "code",
   "execution_count": null,
   "metadata": {},
   "outputs": [],
   "source": []
  }
 ],
 "metadata": {
  "kernelspec": {
   "display_name": "Python 3",
   "language": "python",
   "name": "python3"
  }
 },
 "nbformat": 4,
 "nbformat_minor": 0
}