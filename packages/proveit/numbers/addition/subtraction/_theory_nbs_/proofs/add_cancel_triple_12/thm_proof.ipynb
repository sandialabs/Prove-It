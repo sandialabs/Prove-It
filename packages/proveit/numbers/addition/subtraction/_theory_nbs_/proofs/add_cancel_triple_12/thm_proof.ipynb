{
 "cells": [
  {
   "cell_type": "markdown",
   "metadata": {},
   "source": [
    "Proof of <a class=\"ProveItLink\" href=\"../../../../../../_theory_nbs_/theory.ipynb\">proveit</a>.<a class=\"ProveItLink\" href=\"../../../../../_theory_nbs_/theory.ipynb\">numbers</a>.<a class=\"ProveItLink\" href=\"../../../../_theory_nbs_/theory.ipynb\">addition</a>.<a class=\"ProveItLink\" href=\"../../theory.ipynb\">subtraction</a>.<a class=\"ProveItLink\" href=\"../../theorems.ipynb#add_cancel_triple_12\">add_cancel_triple_12</a> theorem\n",
    "========"
   ]
  },
  {
   "cell_type": "code",
   "execution_count": 1,
   "metadata": {},
   "outputs": [],
   "source": [
    "import proveit\n",
    "theory = proveit.Theory() # the theorem's theory"
   ]
  },
  {
   "cell_type": "code",
   "execution_count": 2,
   "metadata": {},
   "outputs": [
    {
     "data": {
      "text/html": [
       "With these <a href=\"allowed_presumptions.txt\">allowed</a>/<a href=\"disallowed_presumptions.txt\">disallowed</a> theorem/theory presumptions (e.g., to avoid circular dependencies), we begin our proof of<br><strong id=\"add_cancel_triple_12\">add_cancel_triple_12:</strong> <a class=\"ProveItLink\" href=\"../../../__pv_it/theorems/b828bbd3a60667822b2732182befe69254d0a15f0/expr.ipynb\"><img src=\"data:image/png;base64,iVBORw0KGgoAAAANSUhEUgAAAREAAAAXBAMAAADelGYUAAAAMFBMVEX///8AAAAAAAAAAAAAAAAA\n",
       "AAAAAAAAAAAAAAAAAAAAAAAAAAAAAAAAAAAAAAAAAAAv3aB7AAAAD3RSTlMAq1RmmUTNIjK7EInv\n",
       "3XZ/CtNrAAAACXBIWXMAAA7EAAAOxAGVKw4bAAADU0lEQVRIx71WX0gUQRj/vH97t3ueQo+BLAT5\n",
       "UNZCImlwHFiRRHrgSw8RBwahEFyPQcr2EAUVXiDYFdhKEMhFWgoFgfgSaWGIIEUlnPkQFIQYURRI\n",
       "3ze7t7szjtfhUR/MMDfzu29+3ze/b3YAqrYsNqVSsLK1j6otoWP3sVJ0uCidPo2tnga7qmCyB1tg\n",
       "QrIwNi+Dr8rDMQCO0ODs9omoGezuS5fOyCYjlhTbB3CJDi+3fSYhjAbapUvrpRMxfJPBlBTbbHPU\n",
       "9O0ziVM3I5XEL2cQ4LTxUu7GgiASjlQhk920VUa2oi1ImfRI3USQxvzy8qsqmBynEyLBnp8eEJw3\n",
       "rOg8E+3rQYBHm1xMr5qgYeUcA7j91/1SW670OAGFX8BdXozjfeoPjomyCB0ALUxdy8xY4fbroRwE\n",
       "Ma3nQakv/TnaKxTXUIMdqChpD7iIrRZjf2DACR6z34LXHJPaCZrYK8byHuJFCKDUYpaWdmd3enut\n",
       "5NPqzWzgjpSJB3xOckMHXeQSi/ocC9bE4VGA3yz6D/N29F0sZ4Ni8TFhR9eIsU+ws+7oMDrTHgIc\n",
       "kjOZFZnMgfpdjDW8zuVkjvWnxKphvsNUfpkkdoXkE2K2sUK8tdUiXXpw73LpQ2EzsUHgAb3TUTcg\n",
       "uCZeJ3a4JSYIIWsSdDLOVgNUaI/xflPfREldiXcJ0uZSdGaMlhsbS14ZEwbqyKMZDhBtBFusCOo6\n",
       "1GQaOSY/STv+nHzD0AFahZzUISgNQdrhIjILpaKUnphBGg7lVLObQG1tHBMHBC6QjIqSSnAEmlJ8\n",
       "he2AIf4+wcJ5apc9p5McaKZ9EdSYdNIJylTcDNXbx96CketXT3JMHBC4QLIbdFaY2tEvVxpMbovR\n",
       "KYNnok0m8UiXRMk9O/AZD7hUNePZWBui6iCOBVmHr4Vr7K+oWNVjwkD26dhAVpq0/duylxF3xyoL\n",
       "Uky/K+DsYLdVgFqrFQoQScNEjASpTGVh2pcTAjn7W63+L1pz+TeJIX4xN5v7DQ2375uE63q0s4i9\n",
       "0p60lFusWHqHTI8JAzm10+nGOUyyqfzNdUH+lBOuCd3XF/J578KDMs8GqjK18mfFsHRWCCVseb1g\n",
       "ZXZSKDsDFb815dn7xP8M+vrKmfxny/77Lf4AHRDhF1KW0AsAAAAASUVORK5CYII=\n",
       "\" style=\"display:inline;vertical-align:middle;\" /></a><br>(see <a class=\"ProveItLink\" href=\"../../../__pv_it/theorems/ecd17ab2f3598e02d84e0f775f059ea6c2f5b1750/dependencies.ipynb\">dependencies</a>)<br>"
      ],
      "text/plain": [
       "<IPython.core.display.HTML object>"
      ]
     },
     "metadata": {},
     "output_type": "display_data"
    }
   ],
   "source": [
    "%proving add_cancel_triple_12"
   ]
  },
  {
   "cell_type": "code",
   "execution_count": null,
   "metadata": {},
   "outputs": [],
   "source": []
  }
 ],
 "metadata": {
  "kernelspec": {
   "display_name": "Python 3",
   "language": "python",
   "name": "python3"
  }
 },
 "nbformat": 4,
 "nbformat_minor": 0
}