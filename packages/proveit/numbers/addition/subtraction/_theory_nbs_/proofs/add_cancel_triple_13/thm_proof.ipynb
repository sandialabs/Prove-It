{
 "cells": [
  {
   "cell_type": "markdown",
   "metadata": {},
   "source": [
    "Proof of <a class=\"ProveItLink\" href=\"../../../../../../_theory_nbs_/theory.ipynb\">proveit</a>.<a class=\"ProveItLink\" href=\"../../../../../_theory_nbs_/theory.ipynb\">numbers</a>.<a class=\"ProveItLink\" href=\"../../../../_theory_nbs_/theory.ipynb\">addition</a>.<a class=\"ProveItLink\" href=\"../../theory.ipynb\">subtraction</a>.<a class=\"ProveItLink\" href=\"../../theorems.ipynb#add_cancel_triple_13\">add_cancel_triple_13</a> theorem\n",
    "========"
   ]
  },
  {
   "cell_type": "code",
   "execution_count": 1,
   "metadata": {},
   "outputs": [],
   "source": [
    "import proveit\n",
    "theory = proveit.Theory() # the theorem's theory"
   ]
  },
  {
   "cell_type": "code",
   "execution_count": 2,
   "metadata": {},
   "outputs": [
    {
     "data": {
      "text/html": [
       "With these <a href=\"allowed_presumptions.txt\">allowed</a>/<a href=\"disallowed_presumptions.txt\">disallowed</a> theorem/theory presumptions (e.g., to avoid circular dependencies), we begin our proof of<br><strong id=\"add_cancel_triple_13\">add_cancel_triple_13:</strong> <a class=\"ProveItLink\" href=\"../../../__pv_it/theorems/1058431cfab30cd32a771d7d44b66013db90a5900/expr.ipynb\"><img src=\"data:image/png;base64,iVBORw0KGgoAAAANSUhEUgAAAREAAAAXBAMAAADelGYUAAAAMFBMVEX///8AAAAAAAAAAAAAAAAA\n",
       "AAAAAAAAAAAAAAAAAAAAAAAAAAAAAAAAAAAAAAAAAAAv3aB7AAAAD3RSTlMAq1RmmUTNIjK7EInv\n",
       "3XZ/CtNrAAAACXBIWXMAAA7EAAAOxAGVKw4bAAADTUlEQVRIx71WXUgUURQ+7t/Mzqw/0GOwLAT5\n",
       "UNZCImmwLGxFEumCLz1ELBiEPq2PQcr0EAUVbrBgW2AjgSAbaSkUBOJLpIUhgiSVsJsPQUKIEUaB\n",
       "dM6d2Zm9d2dtcKkD9zB777f3fOfv3gtQs6RxSG7BUvU9apaGCKrPbtH+guP0RRxN9HGgBiaHcHim\n",
       "3CAnFlGtO7sTBThFH5f3TkRJoRp3h72EI6A7LvUDXKPkZfbOxIfeQIJLQLQadguHN+641GpwVCN7\n",
       "ZxIiNVc+4ylUq5FfpN84b6ODFz0I1FAmB8l2yhUTdYl0r+NaAGksrq29rYHJWcoQFezA7JDARP12\n",
       "nLcWLmLwn1ZsMbuugYqdcwbg/l/txauu9JoO+V/DQ51jIi1DJwed7Fe2AdpYda0xYY07GPFlwIth\n",
       "HQCpqYSV+4TmyoYNR8WStoHLOOrR1cdROMfHpH4K3nF/OqrTxGHRl48QKoAHSy2oq0lrdr9tq5hL\n",
       "KnfTngeOTGzgKyo33KCbtmTOflo0nO02QjTOvF/Fr9MAvwGGxeZjdSxvkgtlBTtvfZ3UMNFPAE44\n",
       "M5kXmSyA8oOPyUKl837s4wti17C9/dR+qRiqfOw5MdspkiPqeoEOPXh0vXRRGEwMENhAOzvKDng3\n",
       "OSY4U3GckP8tQp1MMriH+uoZnm/Ke3mb6uJDA9Xmijw3QcvNzaVNGBMG6syhRE0gyiiOYAGULahL\n",
       "NXMx+Y6eckx+UjFBu8CvEeeS4CULV5GZLy5TeIJRqmFfRtF6CNTRwTExQWABSagpqQVHoSUe55hg\n",
       "47zgbO6DrNn2XJ1kQNWMg6BOo0w3UKRCmq/JSHsbeh65eZ5jYoLAApLcoVxhaMc2boQ1jok6HePv\n",
       "mLEZSvmKmLSXx75igktdM5kOduDfGiGEDdmIr4VbbC+sWMVmwkBGdgwg61Uyv+rqjDVOmSXH6UGr\n",
       "gNPDPXoe6vV2yEMgCVNBckeaScNsWUwIZNrXS+lmN1qruxvQujErxbpD/Ykj03A7IncVUEuJmC7d\n",
       "Y83Sl9VsJgxk9k6X5fgIlY37N9cV50gJx0SkTOdzOfvAg12eDdRlivtnxYjjrOCKX7e1ILtYkig6\n",
       "Q67fms7R+8L/9JZp90z+s6T/vYk/tqrhnhkOPQUAAAAASUVORK5CYII=\n",
       "\" style=\"display:inline;vertical-align:middle;\" /></a><br>(see <a class=\"ProveItLink\" href=\"../../../__pv_it/theorems/ef5f9ba25873c4d19b29369b89fe3d4f80f24c570/dependencies.ipynb\">dependencies</a>)<br>"
      ],
      "text/plain": [
       "<IPython.core.display.HTML object>"
      ]
     },
     "metadata": {},
     "output_type": "display_data"
    }
   ],
   "source": [
    "%proving add_cancel_triple_13"
   ]
  },
  {
   "cell_type": "code",
   "execution_count": null,
   "metadata": {},
   "outputs": [],
   "source": []
  }
 ],
 "metadata": {
  "kernelspec": {
   "display_name": "Python 3",
   "language": "python",
   "name": "python3"
  }
 },
 "nbformat": 4,
 "nbformat_minor": 0
}