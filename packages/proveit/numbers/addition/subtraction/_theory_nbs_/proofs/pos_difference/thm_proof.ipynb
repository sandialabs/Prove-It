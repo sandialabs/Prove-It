{
 "cells": [
  {
   "cell_type": "markdown",
   "metadata": {},
   "source": [
    "Proof of <a class=\"ProveItLink\" href=\"../../../../../../_theory_nbs_/theory.ipynb\">proveit</a>.<a class=\"ProveItLink\" href=\"../../../../../_theory_nbs_/theory.ipynb\">numbers</a>.<a class=\"ProveItLink\" href=\"../../../../_theory_nbs_/theory.ipynb\">addition</a>.<a class=\"ProveItLink\" href=\"../../theory.ipynb\">subtraction</a>.<a class=\"ProveItLink\" href=\"../../theorems.ipynb#pos_difference\">pos_difference</a> theorem\n",
    "========"
   ]
  },
  {
   "cell_type": "code",
   "execution_count": 1,
   "metadata": {},
   "outputs": [],
   "source": [
    "import proveit\n",
    "theory = proveit.Theory() # the theorem's theory"
   ]
  },
  {
   "cell_type": "code",
   "execution_count": 2,
   "metadata": {},
   "outputs": [
    {
     "data": {
      "text/html": [
       "With these <a href=\"allowed_presumptions.txt\">allowed</a>/<a href=\"disallowed_presumptions.txt\">disallowed</a> theorem/theory presumptions (e.g., to avoid circular dependencies), we begin our proof of<br><strong id=\"pos_difference\">pos_difference:</strong> <a class=\"ProveItLink\" href=\"../../../__pv_it/theorems/37535272f463f19c95750d03b784a771929770f80/expr.ipynb\"><img src=\"data:image/png;base64,iVBORw0KGgoAAAANSUhEUgAAAM0AAAAXBAMAAABaN9YTAAAAMFBMVEX///8AAAAAAAAAAAAAAAAA\n",
       "AAAAAAAAAAAAAAAAAAAAAAAAAAAAAAAAAAAAAAAAAAAv3aB7AAAAD3RSTlMAq1RmmUTNIjK7EInv\n",
       "3XZ/CtNrAAAACXBIWXMAAA7EAAAOxAGVKw4bAAAC9ElEQVRIx61WXUgUURT+3JndnZ39aSMoUJCB\n",
       "oJd+XCICpfzBykqIhaInKcEgEoLxMSgwiJ6MNRUiH2J6CcpkNYP+CKIQozAkCsEQZkkwEEWiMAyi\n",
       "c+fO3HV+hBE88N07c3fu/e495zvnLrBR020EWXz9KRu1jMYRaFEzcPgcIcsedobn2W3DZw8nqfnu\n",
       "G341pyOTA46yl4uhadR2jgC7QIgZnsGYpk4DncB15tbe0DxyjiPAfhKkRs/gYeAFcIDvIKmF5knZ\n",
       "CIjNKms/sOZBeSO3gRoDKQMSjcXCh2eXDb8lp1jbYTn3tdDDL6CgIUYkk7OzH8PztNqIV817tBWr\n",
       "LpFbRvnL4ks7nIwnhySp7Tgw6A3C+jwdNtr0xKr7l2KnugIcdOJykifUX+IxIZFyuhDPOt8ql6wu\n",
       "4V39phDKZw71HeQp9zcUhk/AHuHgFsEzgsgbWtRI5sXHVR4eleu0YsQZGOeQl5FmY+rlWWbd9HgM\n",
       "YIuKqWcr2e80dN6EsgxEzDUyeO/hiQ9YNSPV7eFJ9aKYd5/nG6Kk7LYyz6CtgxoNUToP2uupGap/\n",
       "xvz2r2QIHnVsQYeylREVlirdfiuaaPClj0wR2yv8tsPq7gINBiLMx08oW9VpZYUVr5lMo+AZ1gvE\n",
       "EW+isywac/b0exxFDdsj7vL4B49JvbWODlp4f8hyqMTie5VkIDcq7GiJHFOGzXMEPdaxTuTRL3Q0\n",
       "ypEwI188qtyGAVvza3SNtKZSLGQWywracCqfyVpxkLOCZxwlq5cmKGxN9rxbHGr1864fbp77T1kV\n",
       "+GptbVHkltpaouXTTiyLeqKOIrMFKc3hoWzof0R9hNy0jLfO/ro51ruALLEPewvgNVG29MJpYwhp\n",
       "o7astwnldx2dhmXljOQkECuUvmLpLrMB1iyKYPO+MfRoyimzzHNm/0IOmT72eGNJTLljI9iuBJ/S\n",
       "cx84ZbucP0qf7zqzEWzBO0i4lRk1fDwBezM5gi/14H8C8+5XCSF4NtPim7/kf+hps/5gOjKuAAAA\n",
       "AElFTkSuQmCC\n",
       "\" style=\"display:inline;vertical-align:middle;\" /></a><br>(see <a class=\"ProveItLink\" href=\"../../../__pv_it/theorems/7881a1c635febde6be8cf8ddb1052ec5983b068d0/dependencies.ipynb\">dependencies</a>)<br>"
      ],
      "text/plain": [
       "<IPython.core.display.HTML object>"
      ]
     },
     "metadata": {},
     "output_type": "display_data"
    },
    {
     "name": "stdout",
     "output_type": "stream",
     "text": [
      "pos_difference may now be readily provable (assuming required theorems are usable).  Simply execute \"%qed\".\n"
     ]
    }
   ],
   "source": [
    "%proving pos_difference"
   ]
  },
  {
   "cell_type": "code",
   "execution_count": null,
   "metadata": {},
   "outputs": [],
   "source": []
  }
 ],
 "metadata": {
  "kernelspec": {
   "display_name": "Python 3",
   "language": "python",
   "name": "python3"
  }
 },
 "nbformat": 4,
 "nbformat_minor": 0
}