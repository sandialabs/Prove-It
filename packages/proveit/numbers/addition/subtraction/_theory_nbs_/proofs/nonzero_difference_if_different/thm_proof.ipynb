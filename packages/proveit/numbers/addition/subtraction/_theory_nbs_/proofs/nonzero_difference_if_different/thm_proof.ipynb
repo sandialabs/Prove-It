{
 "cells": [
  {
   "cell_type": "markdown",
   "metadata": {},
   "source": [
    "Proof of <a class=\"ProveItLink\" href=\"../../../../../../_theory_nbs_/theory.ipynb\">proveit</a>.<a class=\"ProveItLink\" href=\"../../../../../_theory_nbs_/theory.ipynb\">numbers</a>.<a class=\"ProveItLink\" href=\"../../../../_theory_nbs_/theory.ipynb\">addition</a>.<a class=\"ProveItLink\" href=\"../../theory.ipynb\">subtraction</a>.<a class=\"ProveItLink\" href=\"../../theorems.ipynb#nonzero_difference_if_different\">nonzero_difference_if_different</a> theorem\n",
    "========"
   ]
  },
  {
   "cell_type": "code",
   "execution_count": 1,
   "metadata": {},
   "outputs": [],
   "source": [
    "import proveit\n",
    "theory = proveit.Theory() # the theorem's theory"
   ]
  },
  {
   "cell_type": "code",
   "execution_count": 2,
   "metadata": {},
   "outputs": [
    {
     "data": {
      "text/html": [
       "With these <a href=\"allowed_presumptions.txt\">allowed</a>/<a href=\"disallowed_presumptions.txt\">disallowed</a> theorem/theory presumptions (e.g., to avoid circular dependencies), we begin our proof of<br><strong id=\"nonzero_difference_if_different\">nonzero_difference_if_different:</strong> <a class=\"ProveItLink\" href=\"../../../__pv_it/theorems/d91a595d24b679dc3b9579b507540553ad7f19bd0/expr.ipynb\"><img src=\"data:image/png;base64,iVBORw0KGgoAAAANSUhEUgAAAM0AAAAXCAMAAACfxzsSAAAARVBMVEX///8AAAAAAAAAAAAAAAAA\n",
       "AAAAAAAAAAAAAAAAAAAAAAAAAAAAAAAAAAAAAAAAAAAAAAAAAAAAAAAAAAAAAAAAAAAAAAAeYafp\n",
       "AAAAFnRSTlMAq1RmmUTNIjK7EInv3Xbt5cnn9enzas/lfgAAAAlwSFlzAAAOxAAADsQBlSsOGwAA\n",
       "ArlJREFUWMPVV4kSoyAMlUuOQPb2/z91OUQNItXdcWY3M21q+7B5vCTEaXrddOOfrnsD/ceGnPrb\n",
       "pvDiB+ku0Wy75uINMhyo/2jO+rDy7wdk7PEKAKXe0FLV7+c3xHIz9XdslvVDT4TJmiM2Ku6CrmhT\n",
       "xdH2DWmkoP6OLTUnhexJww4XIssIdkPXDQD+Bhvf+Dv1smyS+I449phCNlPjZUVCi3XX5leqZqb+\n",
       "jkHY8+isqGJExqyeKWpmtA/JPLySaED9pBmgxnHZMERWEgXY+dejNK6yERta5qqy7mNko2K/ikxQ\n",
       "r3wMxi6j/3JLzH235KDFLqnMex6+/0jvW60vUNjghtasvrX1NpPGMOgSoM7wbIET73xuo2GYnJmr\n",
       "z/FxP5RmZwM7OskCqnNjBvfYrFvBzsnqFfFyydRg799ht7XxyqxHDbOtGtnoCKVv4I7meNEDvLnH\n",
       "hukOvMfG2xyCGmmTuapS18oPpaldgBP0PIm1MB0IhLoipiMy12NDYJOCHryTaS7voVg+nzaylBYP\n",
       "tG5+/ioybmVhy0lD0MDXQyedqmapYWJwE8oOmw0mbbIv8SVO8LIGj97lSNk88cHYsZhaXzHMJh9O\n",
       "w4Hwe3JWtPYrWRmDMZu6KcRDV9nvTGF1nGrgpMWuPpHiQQ7bI4u3sbJp7GuDkN0249YUr2hm9vRG\n",
       "diwbyTpsCMzZPrxkXyDeMQSjGZpRh2awjUFBjaWJaAlYo2/Quctb4dZFKb89P7PZYSnTvn6zJdMa\n",
       "+PoPhvpnzyyhO47fQ8dgUj0oEU+vtDDWwTFx7RlGhsAGTgdHIf9iZB2O1Ffo1M4FRxCpKuImG4nY\n",
       "7dAbjMwQDbwZEu3z541mqhfwBN0cyee4ujD8+PDVlNd9azYguCdoqpK7x+bzbFxnTI0PyWATnnmE\n",
       "prJOt9hwNf2npv/9EH8DN1cYIiFEuk0AAAAASUVORK5CYII=\n",
       "\" style=\"display:inline;vertical-align:middle;\" /></a><br>(see <a class=\"ProveItLink\" href=\"../../../__pv_it/theorems/1ae8314b766ec620a53a03aab3d2139f0f07f6930/dependencies.ipynb\">dependencies</a>)<br>"
      ],
      "text/plain": [
       "<IPython.core.display.HTML object>"
      ]
     },
     "metadata": {},
     "output_type": "display_data"
    }
   ],
   "source": [
    "%proving nonzero_difference_if_different"
   ]
  },
  {
   "cell_type": "code",
   "execution_count": null,
   "metadata": {},
   "outputs": [],
   "source": []
  }
 ],
 "metadata": {
  "kernelspec": {
   "display_name": "Python 3",
   "language": "python",
   "name": "python3"
  }
 },
 "nbformat": 4,
 "nbformat_minor": 0
}