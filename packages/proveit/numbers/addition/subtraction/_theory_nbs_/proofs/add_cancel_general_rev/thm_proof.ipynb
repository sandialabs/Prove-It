{
 "cells": [
  {
   "cell_type": "markdown",
   "metadata": {},
   "source": [
    "Proof of <a class=\"ProveItLink\" href=\"../../../../../../_theory_nbs_/theory.ipynb\">proveit</a>.<a class=\"ProveItLink\" href=\"../../../../../_theory_nbs_/theory.ipynb\">numbers</a>.<a class=\"ProveItLink\" href=\"../../../../_theory_nbs_/theory.ipynb\">addition</a>.<a class=\"ProveItLink\" href=\"../../theory.ipynb\">subtraction</a>.<a class=\"ProveItLink\" href=\"../../theorems.ipynb#add_cancel_general_rev\">add_cancel_general_rev</a> theorem\n",
    "========"
   ]
  },
  {
   "cell_type": "code",
   "execution_count": 1,
   "metadata": {},
   "outputs": [],
   "source": [
    "import proveit\n",
    "theory = proveit.Theory() # the theorem's theory"
   ]
  },
  {
   "cell_type": "code",
   "execution_count": 2,
   "metadata": {},
   "outputs": [
    {
     "data": {
      "text/html": [
       "With these <a href=\"allowed_presumptions.txt\">allowed</a>/<a href=\"disallowed_presumptions.txt\">disallowed</a> theorem/theory presumptions (e.g., to avoid circular dependencies), we begin our proof of<br><strong id=\"add_cancel_general_rev\">add_cancel_general_rev:</strong> <a class=\"ProveItLink\" href=\"../../../__pv_it/theorems/3da8565b960a20fe59d6d12ed7730c72c9525a030/expr.ipynb\"><img src=\"data:image/png;base64,iVBORw0KGgoAAAANSUhEUgAABjgAAAAZBAMAAAB+7Tr9AAAAMFBMVEX///8AAAAAAAAAAAAAAAAA\n",
       "AAAAAAAAAAAAAAAAAAAAAAAAAAAAAAAAAAAAAAAAAAAv3aB7AAAAD3RSTlMAq1RmmUTNIjK7EInv\n",
       "3XZ/CtNrAAAACXBIWXMAAA7EAAAOxAGVKw4bAAAKJUlEQVR42u1cfWwcRxV/vtvz3u2dz64q8QcV\n",
       "1gGlkVLFPdVR1RjhnuQWQqq2pwaJqoLopIKiRqq6QZUQKXGOio9IOI1BQcUgpReKoKmb2sUVrVJh\n",
       "BdoqrUrbaxRE5GJ0TgKBRERpoHXkipp5M7O7M7uzt7M+HJtwT5q9yW/evpn3m3nzsbsxgJ58bNaG\n",
       "trTl/0fys8d0VSur3hmbp7bosuUXs02LNJD6r5jgyBdYaouWbFFgJ9u0ONRsYcHRgz+f1AgOTcWV\n",
       "kut5WkY5+MbldOi7Ly/rXFIMQInJdmA41FB6+uE2/PdWjeDQVFwhsSosLat85bK6dHFZrW8LIL9o\n",
       "x4VHzTYaHN/CzeaoRnBoKq6QGEWWfLJZrb05zMxmreGaKqpK1Wi8qgQbqYUmVkPMhlWmMLI+gAxp\n",
       "erR0l5aIxrMckxpFwXqe+qGzBpAtaASHpuIKSY4nn/SptfvCzPQ1q4MPV7IBaaiK1Wi8qgQb2XoT\n",
       "qyFmwypTGMnV/MgRTY+W7tIS0XiWY1KjKEBqMPVDkoRfp86BXFNxheQ6npYzOPhwvUzB0Vla1uDo\n",
       "9E+7iUo7ODxqMPUDvDE7+7pOcGgqrpDczpN5zZmGwvMQOJSp7dPDwcLO3rmC3CvZ8zcr+mr6VDVO\n",
       "p4jqro3t03t9dY2f36S4W42GDiNPPdvj35hOBvwWWjMchz2J7Qiy1Gg8slqhRqGO1GAiwbER4Cda\n",
       "waGnuEJyH09fsjMLCs9D4DCmUkfh8cC2Aya2WfNSr5jH4PPBnt1ZMEZjdIqk7tjwGuAiJ+D7ioYq\n",
       "0dDgENSTdKG4YxblbWe+9PkdbI2eSxLbzclSozHJaoUahTpSg4kEx3YwSZRY7K1QtUlwMMVVKsdY\n",
       "sl4Cox70PAQOZerpItzhcuLKDTV4U+qVrkkOSOg7kGvEGElMvSrbIA34rIzsKsJfgner0dDgENQT\n",
       "/iNGV8HxO3CbD45yibP9S9AgS43GI6slahTqSA0mEhyZWrZMlhFW0QmSPuO0cOft5eRvveBgitqS\n",
       "vj/m+M5eihsR+X29znL/CkvGBaTbugn4tPh7Ni0yePzZj8qwT7yCu7AbGCfWA3Ryxf4gw/UDYmt2\n",
       "9k9kh4nzxF04nT5Bp2APNXDS1K/KWHCJFy3TBojI4+fPlYOOUTSiMr+R5J9p91zwH0PLTrV+jxhs\n",
       "vXhVTdMlyjZMQzRZFOWWBTQeWUunxq/uUYOpH+OvM8gSpOfGyomew7DJC46AYoRcE3OomxfihB5p\n",
       "n/UDO/FTOThyozBRhkf/4ZsWGFxy57+oaeQ1sN4LFr4DqYvSlPUaNuS875iew3Vfv6rcqGqK9xrg\n",
       "IO/iJeAYRaMrk4xQriB1RBEctNqARww23MVXw6WJssIlUJoGwXLUyqEmqyVqJHWPmhRbOaAyKGvv\n",
       "wsutZKpMDBow6QVHQDFCXo27DsR5iYLtyz4D8Gl5WzXRgFtIbp3Pcwa/B7uqWkxZH0JSEakXnZmL\n",
       "9wpRw3/4+nsCf7SrYur+/hYa4IwAWlfAMYpGVyYZYZMQa7Zw5iDbKl6t3yMGd5fNS9ou3aJyCZSm\n",
       "QbAcFRxKslqjRlL3qMGEwfGrbSRQ5mhTT+MTkg3mOfb6PPHIFxticKAijA8+75gVsp64YPrDOVws\n",
       "s6dch6YVweVi1tRf6S5m6pRnqaiwzjDavie+430st5+liQJ8JGEHg4PCA9rBcRE6KmsYJ4Jcws23\n",
       "2Cv/JMQF+rub6JS1q2LqjHhhzNAG+E4ykAiOAIoOaAcHVU+ODpNeTfqnokzDqTYwgimcrGkHB2V7\n",
       "Sw9Ek0VRz3JUcCjJao0aSd2jBhMGxzeJF890010ffdbd+7Wn7YO08urhT4nBgYrWH9PzznD2sp54\n",
       "YH4mj0/q/5B21u+u8khA3cMO2XvRjUPVDsfSCQhsPymGTzdo+9as8UqeZSnTSBw3gkRxGH7jOzm+\n",
       "j11Z4RmhYD+sK5UYJ4JcDfvkXiEteSHQ38YoZKvhVbGLV0DVDeclg2OZNkBCbgLrc0HHGBrpl2Sk\n",
       "48zao/zJrXTk63GqDYxg3ppsXc8lyrbVWNAgi6GuZSca35fMR5HVEjWSukcNJgyODtKVO6jpp7LY\n",
       "IW8W0uydeqJquFudClc0SmSwm/SRLs3efVo+pFMQ8K5MER+HGaNWlakTHp5M9d0m9wjBgJ1rboW9\n",
       "+HOVOcXNd/Q8XPTrIwbXAn/nPzDglexhyep9YfvfgkRxOD3j24Aex/gs8YxQcODc93qrO9b5hs+B\n",
       "54pyr2SnBmvB/n6x/2yzqrpKcgGqM+IFG7QBEpKfGlTsHRga6ZdkJHcSH/d0+R+upOtOtQGPeGv2\n",
       "1PRcomybP6vrkEVR17KDHpfMR5HVEjWSukcNJveT9f3gPOs2/7WRxNHY2FghUbUmK0JwsGNbvgce\n",
       "mXGzR6wLvmNdns/3uarRw455TJ2el2FC7pFXhNzf8eflG2uO+aG1AX3E6DdAtH277xGWoCpLoNx/\n",
       "cvlGTfvNnMdJs3dqqm30kqrqLIbtK2RE7VhkZZKRXXheg50BpRPNPeJzlrZLmYY2Wa5lvTfkarKW\n",
       "SI1U4FGDyQkOa4EOrG4bd1tfNtn7kEQV7m74gmPCzgzUYMbN2mn5qQcFr8e7uiFXYBaZOszjCcG3\n",
       "s8ItWD/GsTUP+5/iANPHO/361NrW4QZrHx7ILefFTYklH1HSV2VmybQVsChiAedEIdIXb25/i2jM\n",
       "qphjoPqWTkaUjkVXJhnZkKrbqs8M1zf1COAh+Hoclyae1CXLs6z34aGarCVSIxV41AwJwZGolCyy\n",
       "yxqBceho7MlCBgMuWQZnGfBWDnvvZhoc4zybKZMsuZdfKPiJEsl11TaQa2cZJlGdFH4VsgA/EnQZ\n",
       "Zu6oYO5o+tIA+fkhKlHzmQI+KhP1OTa/dpS1z3zOpg/TqTzGk0yUvHDs/nYtxgMxwomWWr31qmBE\n",
       "U2/df8Gv3nR9UvV9dcZu5hGYP969KY5L1xm6ZMW1PLL81FB63JWj107/DmAORgoZu+Nm0l7cw28F\n",
       "8AdHaqhvio7ekQLLbsRs+iiM2HhhYKaK2J0NcjWHBmksEesPkf2iUcUc07U5lpxE7As3niuSn5+f\n",
       "OsvNW3eSOyV9hqXfrQFrH4zfv8+d3A86x3QiDz84rXL9rcXFOH1AONF5O/PrDxotVwVzempqx2JW\n",
       "9hhcXfUiQfB3tJlHkFtcjPMiCg6c0SUrruW55aeG0iP+N9kE/TqJPyYbHxuTTmwVyQjue5hittZw\n",
       "73HBQwknV3DVEzR3OO/kwMU6yi6W8JuX9SmWf37GDrYPzAZL/5ty3+WuUDFyYbhNlkMNpUcMjns7\n",
       "7zkCqZBVSAqOR18vOIoPLtaFe3guc5bn2BXV4V56lFr8N8+xGtlZ2s3xH8+8rM8ww54qwJUlSHxb\n",
       "Vh1ZYnAUjdM1SIJGcNATsCrrzwlKxbDcyWs9rKgyX1RgV5Yg8W1ZdWRp//WRB5bt71Z9vNTu8Las\n",
       "PsnPvvQfjBR1c5trkFYAAAAASUVORK5CYII=\n",
       "\" style=\"display:inline;vertical-align:middle;\" /></a><br>(see <a class=\"ProveItLink\" href=\"../../../__pv_it/theorems/68f5e6cb0cfd17c2c646ba94fd68a2f8f23c4e4b0/dependencies.ipynb\">dependencies</a>)<br>"
      ],
      "text/plain": [
       "<IPython.core.display.HTML object>"
      ]
     },
     "metadata": {},
     "output_type": "display_data"
    }
   ],
   "source": [
    "%proving add_cancel_general_rev"
   ]
  },
  {
   "cell_type": "code",
   "execution_count": null,
   "metadata": {},
   "outputs": [],
   "source": []
  }
 ],
 "metadata": {
  "kernelspec": {
   "display_name": "Python 3",
   "language": "python",
   "name": "python3"
  }
 },
 "nbformat": 4,
 "nbformat_minor": 0
}