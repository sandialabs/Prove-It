{
 "cells": [
  {
   "cell_type": "markdown",
   "metadata": {},
   "source": [
    "Proof of <a class=\"ProveItLink\" href=\"../../../../../../_theory_nbs_/theory.ipynb\">proveit</a>.<a class=\"ProveItLink\" href=\"../../../../../_theory_nbs_/theory.ipynb\">numbers</a>.<a class=\"ProveItLink\" href=\"../../../../_theory_nbs_/theory.ipynb\">addition</a>.<a class=\"ProveItLink\" href=\"../../theory.ipynb\">subtraction</a>.<a class=\"ProveItLink\" href=\"../../theorems.ipynb#subtraction_disassociation\">subtraction_disassociation</a> theorem\n",
    "========"
   ]
  },
  {
   "cell_type": "code",
   "execution_count": 1,
   "metadata": {},
   "outputs": [],
   "source": [
    "import proveit\n",
    "theory = proveit.Theory() # the theorem's theory"
   ]
  },
  {
   "cell_type": "code",
   "execution_count": 2,
   "metadata": {},
   "outputs": [
    {
     "data": {
      "text/html": [
       "With these <a href=\"allowed_presumptions.txt\">allowed</a>/<a href=\"disallowed_presumptions.txt\">disallowed</a> theorem/theory presumptions (e.g., to avoid circular dependencies), we begin our proof of<br><strong id=\"subtraction_disassociation\">subtraction_disassociation:</strong> <a class=\"ProveItLink\" href=\"../../../__pv_it/theorems/39d1dde1fd3b1f7da39f9c6ed7a791b80753c4b60/expr.ipynb\"><img src=\"data:image/png;base64,iVBORw0KGgoAAAANSUhEUgAAA/8AAAAzBAMAAAAz7qU3AAAAMFBMVEX///8AAAAAAAAAAAAAAAAA\n",
       "AAAAAAAAAAAAAAAAAAAAAAAAAAAAAAAAAAAAAAAAAAAv3aB7AAAAD3RSTlMAq1RmmUTNIjK7EInv\n",
       "3XZ/CtNrAAAACXBIWXMAAA7EAAAOxAGVKw4bAAAKy0lEQVR42u1de4wbRxn/vH6t177zQSVeQYd5\n",
       "FfFIemqqKInExVVa+lKF1SJAqCSuUlQRhHCiSlVCkxrES+LCWZSIuirFpVLbu7Q9k0ApqRquRVUI\n",
       "kMqUFqK2h3xJpIMcXE/XphddRY75Znftncfau8GT863u+8M3/nbmt7Mzv/nmm5n9fADexBgdrcCK\n",
       "BEv8dGrP4mK2Kx/i3pV+9C8jZr8nFhdLngmQ685HCQ2sdKd/0V+xEuFlT4BV7Ne44tvFuxqOl4Lr\n",
       "ldVBIUA4z34/qfh+HcaP1pXWdovrlWRfQAhwF0tyrar2dgR/5Lh0Uj3uy/m6v2alTimtbq/7/PjX\n",
       "gBDgH+zXhxXfDvFvk165zRdOzHaoY2qXVttdr3yqEggChMfZ75tFIysfBFG3sXFzy/sh/pwUZ84X\n",
       "ejpjP0C2VQk/Wmndr2hHweVOgBRn8sdFoy2fZTW3yXdNy/sR/OiCDEeudUXf2hj4f2xVwo9WWveU\n",
       "q4GJzgeCAK+zD6jl1RIA8ZM1GY5c64r+TEOzTSkBYu5OwK2BIMBf2K8RNAg7juyVtZaL2q0R46um\n",
       "xCyIH+ufzIg4cq0r+q0z77RSv+RKJGfWS3DkWlcCHDlVZJ19iVxWCQAB9HMi4aNH4ecViY2Wq10b\n",
       "8ZZCglj1R0T8se3GvIgj17qhG29VxsjyBXtpHVsi/iJcJ+LIta5135OJlJyr5BsnULjBMlYPAAFC\n",
       "3JzfQ0bhYwNwI8BDea61qNp4+h0Vj130e4gQq35ExCcj5wURHrXe0bUFSJEsJ9AbZ0v0VGXoqPWO\n",
       "Dq8S9DBdH2njrm2XqAWAACnOwqVIJT+LDaDP0MeLTEy8dnxiAnNRdYT2qlPNChkqfzaHSmQWW91a\n",
       "+9EBdMLC/wzA2yI8an2g5yFtoQ9z1SSdLKk80fpApw7p89REzrovoOYDQIDhAZEAx8A4S6hf4wYR\n",
       "Vadz8XPeRlGqBGPiEyP+qxCdE+FR6x2dcGur5TLcwlcTpJUHf3Unswbt+qi7BTDeCAABXi8IJto4\n",
       "D+FZsQ1NdbjitRHJDLkJYEufOAXM4QgTugi13tHTGTKojdPIgdV8NUFaefBXd+zZvVUbSeoDwLMB\n",
       "IMD9/LxWB2MOQvmPiW1oqhvLtbaNmIF3abvrCwI+nEN3QiAA1XpGTxfRx6CL1g1sCTIsoyI61XpH\n",
       "JzXJhaY+cbR1//4sAAQ4xn3HVc8DsDqbFdvQVMM+1pEy3rI/xvJMIybq2kuR+C9qIv4l8BOJkaZa\n",
       "Hp2CytBDA4ksjCZxM+4GtgRx9p8S0anWMzpZAiSLqZO4yIi0OBv5nUUAauU+7IUAIXr3Ljp/N97k\n",
       "l4Wk5R6c/n5/UWxDUx2/j1O/ZH/0ZNlVQP9TO/5JR7yA/6sBCQGoVkCnoDL0VZvtXZqXuQ2lQ4MV\n",
       "EZ1qPaPD02vPwN1XFdsM2005kwBX45fbvRAggiVihS7aBjjPa0401so16aL5DrjTz27a2KMu+HJ4\n",
       "n+hp0pRxmVnvBPqGaI3A72nlQZuuAnwLXcaSFwLoaCx2ddEMoM3xmiuENmROTuL3/uB6idopzIHK\n",
       "pREXfCm8X/QhNNcDkhKdQO/Xa1XZ4ZiD3VmTAHggmcx48gHwcPFgFxEgfE7Y3bDsU/zJt2XDJLW4\n",
       "OOvnBg9OyfHl8H7RJ13GU0fQfwqXFFsP7HSfSYAw4VPMmxO4lvzNdxEBeucFr6Ck9o4dxd9G+0ml\n",
       "JFrN1+mStQo4PjHxJ28ESE1MvFbtIgIkFwTVXsW37Bx+7IvjhMJqPaqpltuoeYsA1wIQ/9Iwq1Js\n",
       "RYBIERKVLiJAZAGWr0ROL3FT9tQsAuyAOJkNkvWGm/tpewbac0Mu/KyDACTfDj+3+F5JTMmu+pJ/\n",
       "XTll1y80Cyty4QQYtwiQqCTZ1SLueIM+Wc5pfYfheudG0H3waz+3CFXFlOyqV/nRe/fDyLvh49UV\n",
       "AnSSAFqd8wHvxg/cR9AGI1B1EmCNPx8wVRRTsqtejSaZrOBwHcLVIEwBS08AewqA/CBZW05SJ5ee\n",
       "T2yIT5svFGvf/kKdIUAsTKyvcWjadl0ODP5GBG4qh2feJ6QcGxFN3ZFBMeXw9U6ZNh9foTbW55rx\n",
       "Dsl5cQm10rHQKiBE5gTCQbK+fyKNLol5PtG/87HCCN2QKB7+KEOA5KUk1+OFYesGxt91sQscyv9U\n",
       "TguppjR1PbkhIeWQl/VxfMOFLsG0nY6H6xX2AZQHhiwP2eKJAH02Ae4iqd30WNI8n3gho5ubSlox\n",
       "0ltyEiCOLuFVuIW1i/Ilq4/DTadZD4IqgRa7B9aZGTEVXXM1WwG8aroY18GjVj6SEvJFSkZRy1ob\n",
       "YOGHKq02ghQHhnQ2KEThBomXA5t01iZACCfjB8zFKR5pvEnm2nXlcjmjFY1q3kkAeA/gqyaToK+u\n",
       "UG+xtw/GjVnOhey1T9H/AFeaGTGVgjG2AkRnpZ4HCxBTQj70SXHHNPzVcvnH+ncdnoN2ln8o1YEh\n",
       "HQ0KUSjbPeQZq4LjONhYoA2L5xPh0pfj8EPTAsBNdYYAmHMe7hmFHuyvsUJiY6WAA96Ji8pP0mKz\n",
       "8JyZEVNx4Kw7Xl1LGwOnDDPfPM7iXD6sU+zOGdDp6CZOINhGQH+DfyjVgSFzPrSuIy/Tth4KA0Ic\n",
       "PljdSQAtnzWqeD5xAEL1fUlzwyecg8Zobh4sHtXPbsT+OgCpwvDNFUjkSJIUtj6o8kNZ/PIKgScZ\n",
       "rRTsd+QydfHdeUx9BZJWPkyRfAxgLAfV9M4Rul0F8M1r7C0LIvxxsOrAkOiCd62rbK20rYfCgJCm\n",
       "XJZhLEB/QX8OzyeGMolCaD3E8XcX9t0OIBLgc5dPD2B/DWWim9ccojuJQxn9KAwV8MNUJopA4L4z\n",
       "Q0e2lYpQnZmrYOnIio6k7lh7xsqHKZKPAYxvHqwM44JhFxop48nytY1n+BvfRHm1BEjWvGtd5RlQ\n",
       "T4CYByeAvk/HvBGk0fMJy0AdKJcZ5457tQAttpkzWak3CoGdelyjcFZGM3W4105ZN0P3IyfPxwNO\n",
       "73mE9P1vy/vZZ3g/v1OgODCEDf9orXWVZlAILEVASEM+ADwBvoTnE1EX48ESQP/3QTvnNxZrjkJW\n",
       "KnGGwNkZzVRs8b9WyryZiQryfDzgNcnLZZXaVBGJrzIwhA3/aK11XQU0g0JAcUBIazkmEGAAzyfC\n",
       "4IUAtKws6VAOtE+d/IjLVSmgxI/hRp7qwBA2KMSpbSK3E0dQCCxFQEhjy+y8QIDWG4cqXgr94P+5\n",
       "IrrYgSGOoBDj61RbBCYoxKHl1qcNDEdQyJIEhDRGVhACQyLjIgFUBoawQSFObRO5bUM2g0JgKQJC\n",
       "bAkFITQselaYApQGhrBBIU5tE9nDNoAdFAKKA0Ja16MeAAKYb3U3RXVgCBsUwmg9LwYdQSGwJAEh\n",
       "jAO93AnALQNUB4awQSGMtoHccPZ5ZNv0NoNC4IICQlzr7DEgxBIzUixgPxGjOjCEDQphtA1kxjg5\n",
       "kW1mNINC4MICQtzq7DEgxJo9g/ETMWHORqsODGGgQYrscSIoSOpxcQJCLBPXFwgCwNfYr6oDQ1wJ\n",
       "0ET2JkOy6l2cgBBTrBOJZU+AIfblF9WBIdDJoBAlyO0DQkx5EYJBgF72AVQHhnRMtilFT7R9Jyww\n",
       "PxXL/1j03mXR/TQoRKFMtc3xefBNgI3d+Q8jYhlYfrLkQSG6+cqQMfqEdwKs/MOIAMnDJgHxH0b8\n",
       "D0Ed493nSi51AAAAAElFTkSuQmCC\n",
       "\" style=\"display:inline;vertical-align:middle;\" /></a><br>(see <a class=\"ProveItLink\" href=\"../../../__pv_it/theorems/15b988678605eef21387e1567fce0783859d40f60/dependencies.ipynb\">dependencies</a>)<br>"
      ],
      "text/plain": [
       "<IPython.core.display.HTML object>"
      ]
     },
     "metadata": {},
     "output_type": "display_data"
    },
    {
     "name": "stdout",
     "output_type": "stream",
     "text": [
      "subtraction_disassociation may now be readily provable (assuming required theorems are usable).  Simply execute \"%qed\".\n"
     ]
    }
   ],
   "source": [
    "%proving subtraction_disassociation"
   ]
  },
  {
   "cell_type": "code",
   "execution_count": null,
   "metadata": {},
   "outputs": [],
   "source": []
  }
 ],
 "metadata": {
  "kernelspec": {
   "display_name": "Python 3",
   "language": "python",
   "name": "python3"
  }
 },
 "nbformat": 4,
 "nbformat_minor": 0
}