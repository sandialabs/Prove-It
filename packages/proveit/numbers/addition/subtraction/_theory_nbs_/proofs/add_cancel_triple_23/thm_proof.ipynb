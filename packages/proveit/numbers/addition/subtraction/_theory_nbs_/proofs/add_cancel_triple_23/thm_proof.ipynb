{
 "cells": [
  {
   "cell_type": "markdown",
   "metadata": {},
   "source": [
    "Proof of <a class=\"ProveItLink\" href=\"../../../../../../_theory_nbs_/theory.ipynb\">proveit</a>.<a class=\"ProveItLink\" href=\"../../../../../_theory_nbs_/theory.ipynb\">numbers</a>.<a class=\"ProveItLink\" href=\"../../../../_theory_nbs_/theory.ipynb\">addition</a>.<a class=\"ProveItLink\" href=\"../../theory.ipynb\">subtraction</a>.<a class=\"ProveItLink\" href=\"../../theorems.ipynb#add_cancel_triple_23\">add_cancel_triple_23</a> theorem\n",
    "========"
   ]
  },
  {
   "cell_type": "code",
   "execution_count": 1,
   "metadata": {},
   "outputs": [],
   "source": [
    "import proveit\n",
    "theory = proveit.Theory() # the theorem's theory"
   ]
  },
  {
   "cell_type": "code",
   "execution_count": 2,
   "metadata": {},
   "outputs": [
    {
     "data": {
      "text/html": [
       "With these <a href=\"allowed_presumptions.txt\">allowed</a>/<a href=\"disallowed_presumptions.txt\">disallowed</a> theorem/theory presumptions (e.g., to avoid circular dependencies), we begin our proof of<br><strong id=\"add_cancel_triple_23\">add_cancel_triple_23:</strong> <a class=\"ProveItLink\" href=\"../../../__pv_it/theorems/5f5bddfb6cb684123565d64a269d2e76fef0945a0/expr.ipynb\"><img src=\"data:image/png;base64,iVBORw0KGgoAAAANSUhEUgAAAREAAAAXBAMAAADelGYUAAAAMFBMVEX///8AAAAAAAAAAAAAAAAA\n",
       "AAAAAAAAAAAAAAAAAAAAAAAAAAAAAAAAAAAAAAAAAAAv3aB7AAAAD3RSTlMAq1RmmUTNIjK7EInv\n",
       "3XZ/CtNrAAAACXBIWXMAAA7EAAAOxAGVKw4bAAADS0lEQVRIx71WX0hTURj/3L+73bs5ocdgDIL2\n",
       "UNYgkTQYAyuSSAe+9BAxMAh9mo9Byu0hCipcMLAV2JUgkEVbKRQEw5dIC0MESSph5kNQEGKEUSB9\n",
       "37l39+4c7+ziqA/Ox905v53v9/075wA0LBkcklOwVH+PhqU5iuqTU7S3Yjt9HkcLfexrgMkBHK6S\n",
       "E+TkPKo1e3fiACfo4+LuichpVA+dYS/g8Gm2S4MAVyh52d0z8aA30FUb/3hd7AYOd9J2qU3nqER3\n",
       "zyRIaqZmwlWpWyO/SL+230YDN7rga6BM9pPxtCMmygLpfts1H9KYX1l50wCT05QhKljl21GeyVB5\n",
       "RLAWWcXgP9m2RXlNBQU75xTA3b/aS9Zd6Tcckhahm2PifQX3+eosDsqbAO2sulaYsMYdjnqy4Maw\n",
       "DoHUUsX6B4TmykV0v8SStoCLOELoaqgEbzkmj+Jwhv/TYY0gB0VfPkCwAi4stYCmpMzZvZat1XxK\n",
       "vp1x3bNlYgFfUrnhBr2a4evHed3XXrJBHc68X8avkwC/AUbF5mN17F8nH2oKdtb8Oq5i6h8DHLNn\n",
       "MisymRMrdg7kH6LzXuzjc2LXsL291H7pBKpC4hkx21ol15S1Ch168OBq9aLQmeggsIBWduQtgQlO\n",
       "uNfF44T8bxXqpMjwLuqrp3i+ye/8m1QX75upNpf8M5O0HItVN2FMGKg7jxI3gCjjOAK42Xf0i2Oy\n",
       "AU3pGMfkJ9UOdAgxCeNcCtxk4TIy8yT9FJ5AnGrYk5XVPgJ1dnJMDBCYQBJqSmpBbJznXHbGoTXJ\n",
       "t9weyBltz9VJFhRVPwiaVMp0M0UqqHpa9LS3o+fR62c5JgYITCDJLcoVhlaZSmgck4mv1yIqZ3Ni\n",
       "mlK+JJbciyNfMMHVrilmAp24URiC2JBhfC3cYIciVqxsMWEgPTs6kCRE1pYdnbH6A2XBdnrYLODM\n",
       "aJ9WgJDWAQXwpaAUIAel6QyUa2JCIMO+Vk03u9HanN2A5o25Xcw71Nt1aApuRv09FdRSV0KT7rBm\n",
       "GcipFhMGMnqnx/R8jMrG+Zvrkn2khGMiWqML+bx14MEOzwbqMtn5s2LMdlZwxatZWpAdLEkUnRHH\n",
       "b0376H3mf7prtHMm/1ky/97EH3lj4Z4a0itYAAAAAElFTkSuQmCC\n",
       "\" style=\"display:inline;vertical-align:middle;\" /></a><br>(see <a class=\"ProveItLink\" href=\"../../../__pv_it/theorems/c807dce1980139f43968acfe7065ab1b6e98b6ad0/dependencies.ipynb\">dependencies</a>)<br>"
      ],
      "text/plain": [
       "<IPython.core.display.HTML object>"
      ]
     },
     "metadata": {},
     "output_type": "display_data"
    }
   ],
   "source": [
    "%proving add_cancel_triple_23"
   ]
  },
  {
   "cell_type": "code",
   "execution_count": null,
   "metadata": {},
   "outputs": [],
   "source": []
  }
 ],
 "metadata": {
  "kernelspec": {
   "display_name": "Python 3",
   "language": "python",
   "name": "python3"
  }
 },
 "nbformat": 4,
 "nbformat_minor": 0
}