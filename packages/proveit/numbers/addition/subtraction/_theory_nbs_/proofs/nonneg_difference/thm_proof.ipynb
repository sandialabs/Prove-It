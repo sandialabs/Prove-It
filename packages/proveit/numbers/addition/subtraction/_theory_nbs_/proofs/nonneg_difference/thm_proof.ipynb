{
 "cells": [
  {
   "cell_type": "markdown",
   "metadata": {},
   "source": [
    "Proof of <a class=\"ProveItLink\" href=\"../../../../../../_theory_nbs_/theory.ipynb\">proveit</a>.<a class=\"ProveItLink\" href=\"../../../../../_theory_nbs_/theory.ipynb\">numbers</a>.<a class=\"ProveItLink\" href=\"../../../../_theory_nbs_/theory.ipynb\">addition</a>.<a class=\"ProveItLink\" href=\"../../theory.ipynb\">subtraction</a>.<a class=\"ProveItLink\" href=\"../../theorems.ipynb#nonneg_difference\">nonneg_difference</a> theorem\n",
    "========"
   ]
  },
  {
   "cell_type": "code",
   "execution_count": 1,
   "metadata": {},
   "outputs": [],
   "source": [
    "import proveit\n",
    "theory = proveit.Theory() # the theorem's theory"
   ]
  },
  {
   "cell_type": "code",
   "execution_count": 2,
   "metadata": {},
   "outputs": [
    {
     "data": {
      "text/html": [
       "With these <a href=\"allowed_presumptions.txt\">allowed</a>/<a href=\"disallowed_presumptions.txt\">disallowed</a> theorem/theory presumptions (e.g., to avoid circular dependencies), we begin our proof of<br><strong id=\"nonneg_difference\">nonneg_difference:</strong> <a class=\"ProveItLink\" href=\"../../../__pv_it/theorems/e407a03f6d7daa8554d9f3327dae28760dc62e630/expr.ipynb\"><img src=\"data:image/png;base64,iVBORw0KGgoAAAANSUhEUgAAAM0AAAAXBAMAAABaN9YTAAAAMFBMVEX///8AAAAAAAAAAAAAAAAA\n",
       "AAAAAAAAAAAAAAAAAAAAAAAAAAAAAAAAAAAAAAAAAAAv3aB7AAAAD3RSTlMAq1RmmUTNIjK7EInv\n",
       "3XZ/CtNrAAAACXBIWXMAAA7EAAAOxAGVKw4bAAAC+ElEQVRIx7VWbUgUQRh+vN2729376KIoUJCF\n",
       "oD99eEQESumJfZEQB0W/pASDSAjOn0HBBdEvQ+sK0R+y/QnM4jSDsgiiEKMwJArDONgjwUAUicIw\n",
       "iGZ2Zufcvb1YoV54ZndmbuZ5532fefeA9VqGw8vClZes1+I6g6cFTc/h0wQJ+rLNP88OjjIbmiLN\n",
       "l7LhZ3MZxJPAIdo555tGa2fwsLMEIYO+3U2KwZCuzQCdwBUa1l7fPHKSwcO+EUgpy5nnIn4HgHFg\n",
       "L/MgovvmiXJ45GaVtm9YZ/EpH70B1BmIGpCIcyH/6dnOUW6Radp22OfgRN+BHh0hQjJVKLz1z9PK\n",
       "Ea6Zd2krVFskYRkVDh2xIkh5kogQtR0FBtxJqMzTwdGWUVedM/lObQXYJ/qnqqk7vwiPCYkopwvh\n",
       "hD2nnLceqvixctt6XBNCec+gvYI87eQhaXgH7CzxDNg8Iwi8IJsakbSYrHHxYPgmbatG7P4Eg7yM\n",
       "GB3TLhSoZcnrYYBuKuK21YobGTpjQlkGAuYaGbx28yCeowrLuniivcinnef5jCBRdputg2NCB3U6\n",
       "guQ8aG+kfjc+pmH6XTQEjza2QAuTNEi8XKp2xi1voqns+sgkY7tcuu4HmgwEaIwfktuqzSgr1PnZ\n",
       "eErwPMj0WAVQmsSiMcfXDTLkdWwJOMvjT9wn6q133dP9VkAlmt9LRAZySqFHU5NUGZznILqtReNp\n",
       "5ISORhlUM/DBpcpNuMU1v7buxHSN5EKmuawiwY+m4wkrD3JC8EygSBXTnKVpa+brrjNotU+6vjp5\n",
       "7jyiu39018PWIlkfs3OZz6gNJDMbENVtHnIbcvcQ3kglsIyXtn9ZhkofoGnP4cuibGV6ThjDiBn1\n",
       "Jb1NKj8atM1WEmYl+wLRQsmKZcUy62Etogi27B5Dt64cN0s8J/csJDWrzuPqkljSx+FtF5mCrEv1\n",
       "qXRK1/fALtvqXwrcEIe3eXugOpUZNHzwhE0G74+69z+BeWdXQhmP0k+sD//Jwv9+yz8nTr3xi1Rm\n",
       "IgAAAABJRU5ErkJggg==\n",
       "\" style=\"display:inline;vertical-align:middle;\" /></a><br>(see <a class=\"ProveItLink\" href=\"../../../__pv_it/theorems/a176870bf6cd0529581424bd5c9c000c681e63960/dependencies.ipynb\">dependencies</a>)<br>"
      ],
      "text/plain": [
       "<IPython.core.display.HTML object>"
      ]
     },
     "metadata": {},
     "output_type": "display_data"
    },
    {
     "name": "stdout",
     "output_type": "stream",
     "text": [
      "nonneg_difference may now be readily provable (assuming required theorems are usable).  Simply execute \"%qed\".\n"
     ]
    }
   ],
   "source": [
    "%proving nonneg_difference"
   ]
  },
  {
   "cell_type": "code",
   "execution_count": null,
   "metadata": {},
   "outputs": [],
   "source": []
  }
 ],
 "metadata": {
  "kernelspec": {
   "display_name": "Python 3",
   "language": "python",
   "name": "python3"
  }
 },
 "nbformat": 4,
 "nbformat_minor": 0
}