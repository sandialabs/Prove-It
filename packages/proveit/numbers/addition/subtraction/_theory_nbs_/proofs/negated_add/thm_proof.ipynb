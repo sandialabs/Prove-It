{
 "cells": [
  {
   "cell_type": "markdown",
   "metadata": {},
   "source": [
    "Proof of <a class=\"ProveItLink\" href=\"../../../../../../_theory_nbs_/theory.ipynb\">proveit</a>.<a class=\"ProveItLink\" href=\"../../../../../_theory_nbs_/theory.ipynb\">numbers</a>.<a class=\"ProveItLink\" href=\"../../../../_theory_nbs_/theory.ipynb\">addition</a>.<a class=\"ProveItLink\" href=\"../../theory.ipynb\">subtraction</a>.<a class=\"ProveItLink\" href=\"../../theorems.ipynb#negated_add\">negated_add</a> theorem\n",
    "========"
   ]
  },
  {
   "cell_type": "code",
   "execution_count": 1,
   "metadata": {},
   "outputs": [],
   "source": [
    "import proveit\n",
    "theory = proveit.Theory() # the theorem's theory"
   ]
  },
  {
   "cell_type": "code",
   "execution_count": 2,
   "metadata": {},
   "outputs": [
    {
     "data": {
      "text/html": [
       "With these <a href=\"allowed_presumptions.txt\">allowed</a>/<a href=\"disallowed_presumptions.txt\">disallowed</a> theorem/theory presumptions (e.g., to avoid circular dependencies), we begin our proof of<br><strong id=\"negated_add\">negated_add:</strong> <a class=\"ProveItLink\" href=\"../../../__pv_it/theorems/7c5f5dd8b40e9ae03cd8d8cd56eb0cf79f0dba2e0/expr.ipynb\"><img src=\"data:image/png;base64,iVBORw0KGgoAAAANSUhEUgAAAUAAAAAXBAMAAACIQotiAAAAMFBMVEX///8AAAAAAAAAAAAAAAAA\n",
       "AAAAAAAAAAAAAAAAAAAAAAAAAAAAAAAAAAAAAAAAAAAv3aB7AAAAD3RSTlMAq1RmmUTNIjK7EInv\n",
       "3XZ/CtNrAAAACXBIWXMAAA7EAAAOxAGVKw4bAAADsklEQVRIx82WTWgTQRTHX5PNx26SJngtlIhi\n",
       "D1oJ2BZaoQSqaBFtoBcLYiM9SAVhvQiCLetBtKg0QqFGS10RCiViYxU8iKUg4hdCEYpFKaT2ICiU\n",
       "IqjQQ3HezM5+zG6SIhF88Da7k9/s/OfNm7cDUHMLGV7R1Kpt6lZe81f2xfCKdtLdVJ90EYESQAIf\n",
       "dtRQn6/IvKwpEwtETcrVvlvQi8QqwEF8OF1DgVOGl7dgmlzOuHRnhQYkgjpcwqXO1VBgl+HlLY5r\n",
       "2SK2SmJMkfCnUSNEkjUUOG94eesnQ0JUF1qjIkaJt+AnwoO1TMEs8wr2nK6zGLBdrkxAYgDg/fLy\n",
       "uxoKlIrMTTs3Nywgp9a2kVVLCK1H7A9zqxojHgEcBrhdddg0i45YvUoeOyDljE7gFdx1rqbyS59R\n",
       "wY9RlpapUa0DNmQoKeUY0UZmCCFzMuFBYauPNbLps13Uav8PWcktMJZkzu1BCo4KSbAB0RL4xDz9\n",
       "YLv/bBJ7AGQ9kjH/abDGX8lnlJuq744lUDEnIhlswF3vohnmUzQ2S9CDw4H1TDpnIV6E8LrQ8SUZ\n",
       "4CyFNGmDKkBilEyoZNsjr827AxrJk4cA+y2BkjkRmbNnygrk9gaUn0KMi9CfhMC8W6D5DjocJU4Q\n",
       "z3aSS6HzKYreXMF8iayWaB2/f5l/DmmPmMnJnJ3l7yRdPJdY2QT/uqsM9ujgWxBy0LbEM/RdlGgm\n",
       "PkvCoHwM/8ac+1SP22ExPD+NSFMT70IFnjc5mbM7oTtPLIVdjOCWmHOBP6Au2+QUqCkvSAkWPw6T\n",
       "NoJEJ8OIduIXyQSkNB1ATuHWkXKK1otgR4dDYJ/FcbaPJyXpYoQy4Swhk9CcTjuU1KXktFCKgBUU\n",
       "M8VzENEYgcWnTsOsqceXRjUpwVKojcQlefW4Q+B2g+vOT5CgUXbElnnG5lpgzu3e9yuNmrPMNOCX\n",
       "MJYRBN6w3T/b980gFvmqq3IHyb44REn6xEm5u0ajQTaJYgkcMTmMIGX5EsetCrlkeBUbctUnzYMI\n",
       "8alG1dFevQAxvR0KEMxAUcbNEnqiwpxjk1COCUQW1nh5Jl1s3/iWrZ0pHOZPexDmCSLQtfcxXE+G\n",
       "j5XINdTVqYduYXNhcEyzBMoq44xdTFgY56do0oWXIJV5lWO3+wA17kFccLYlbddCPm/LElaYio46\n",
       "iOnkcU7DNqXq+c1jCtMehFN0QLeugrEBDzm+JPjrFalhwyvaV4+gllxEvfP9ftvVU2BE1N4K/4sZ\n",
       "MxEF6v9+5D+TkvxYUPS2WgAAAABJRU5ErkJggg==\n",
       "\" style=\"display:inline;vertical-align:middle;\" /></a><br>(see <a class=\"ProveItLink\" href=\"../../../__pv_it/theorems/70a88086b4c33be231e293df91e03ad50d96c3800/dependencies.ipynb\">dependencies</a>)<br>"
      ],
      "text/plain": [
       "<IPython.core.display.HTML object>"
      ]
     },
     "metadata": {},
     "output_type": "display_data"
    }
   ],
   "source": [
    "%proving negated_add"
   ]
  },
  {
   "cell_type": "code",
   "execution_count": null,
   "metadata": {},
   "outputs": [],
   "source": []
  }
 ],
 "metadata": {
  "kernelspec": {
   "display_name": "Python 3",
   "language": "python",
   "name": "python3"
  }
 },
 "nbformat": 4,
 "nbformat_minor": 0
}