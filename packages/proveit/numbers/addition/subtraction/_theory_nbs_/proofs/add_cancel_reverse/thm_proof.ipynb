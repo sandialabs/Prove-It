{
 "cells": [
  {
   "cell_type": "markdown",
   "metadata": {},
   "source": [
    "Proof of <a class=\"ProveItLink\" href=\"../../../../../../_theory_nbs_/theory.ipynb\">proveit</a>.<a class=\"ProveItLink\" href=\"../../../../../_theory_nbs_/theory.ipynb\">numbers</a>.<a class=\"ProveItLink\" href=\"../../../../_theory_nbs_/theory.ipynb\">addition</a>.<a class=\"ProveItLink\" href=\"../../theory.ipynb\">subtraction</a>.<a class=\"ProveItLink\" href=\"../../theorems.ipynb#add_cancel_reverse\">add_cancel_reverse</a> theorem\n",
    "========"
   ]
  },
  {
   "cell_type": "code",
   "execution_count": 1,
   "metadata": {},
   "outputs": [],
   "source": [
    "import proveit\n",
    "theory = proveit.Theory() # the theorem's theory"
   ]
  },
  {
   "cell_type": "code",
   "execution_count": 2,
   "metadata": {},
   "outputs": [
    {
     "data": {
      "text/html": [
       "With these <a href=\"allowed_presumptions.txt\">allowed</a>/<a href=\"disallowed_presumptions.txt\">disallowed</a> theorem/theory presumptions (e.g., to avoid circular dependencies), we begin our proof of<br><strong id=\"add_cancel_reverse\">add_cancel_reverse:</strong> <a class=\"ProveItLink\" href=\"../../../__pv_it/theorems/2fc2736fa0daeb499534d5a87befd8e5b31ffaad0/expr.ipynb\"><img src=\"data:image/png;base64,iVBORw0KGgoAAAANSUhEUgAAAPMAAAAXBAMAAAAsDWSYAAAAMFBMVEX///8AAAAAAAAAAAAAAAAA\n",
       "AAAAAAAAAAAAAAAAAAAAAAAAAAAAAAAAAAAAAAAAAAAv3aB7AAAAD3RSTlMAq1RmmUTNIjK7EInv\n",
       "3XZ/CtNrAAAACXBIWXMAAA7EAAAOxAGVKw4bAAADBklEQVRIx7VVUWjTUBS9TdI2ydq1+OGHhREQ\n",
       "3IfgisjAqlulU4ShFuaHH2IrfsgEIftXiaAiOOlGB1oVCfg1i7Y6QUWUoQwHIlQRBsNCCoMJw9IP\n",
       "dTBBfO/lJV3SJNbKDpwmOS99591377sB+A/IlH97p325XXRLOj1x0l2O4putHVlvp3SDeLeC1hZv\n",
       "0V8uyUQ+gB/OdOIsZnW6I5BEP2dbVElcIPIl9BCc6MSai+tshZ+qEZyNXfbRfQAviBxQAbqkTqxD\n",
       "lK1gNP2aUfErqm10EqBPxTKLVhjoKNXbKN2tX5H9tW/Md4CcROQP1er7jqyHKQ0EY8ua1fpUfRPa\n",
       "0qitRLB1nMiHAG57JNR96DSlgROysGaxFn+qJRlYUomHqxgf8Qp/IWuNyGMQNNfFj5pndqrnIr4K\n",
       "dsOrZkl+ojSieQtcxWLNrEFIA2bWOgGxLhNZULvSph7D/rVCWpyUmTuO1r6ycTenUzxHAlK4BoTx\n",
       "GFetfkFJROFwWYiUgW/YNhxZZzQiM9q6KptHHFJQgh4B7HG0Dik2a3NgAkppS9RoJRkJ/LOtZdZH\n",
       "5ewA+ikOPMMB/66ppP3cv4J2pmktzqwYTTdX3+K84SUNBq0Vjo71URWYijXXUAAYpPIT1FjEBX4V\n",
       "Z3ixOzmNh3t76Sy69UM5J3MFhDx8U5fo0D1Kw1qCzYxssVZQ/oG196u9AAepfB6nJcnjDRDibHYE\n",
       "DycSFushGDf+mId+eveY0nhTYz5zlqh9cQF1Uq5ssw5L4jyVfSh7oXR3lCSSi/aj4KRrxy3Wc1Br\n",
       "VsN+eneD0iifnudjX62HK5bCTml77x+uKevkkiwkUMOLQEi6jp9xmYmmtbgK+Qd0wxvwxli9otO9\n",
       "mxFccO4KphyScyNqEcLqbnTY8OF7KsPrZtTv+B9GBhbN3LFJne6fD4KUs7Up+1M7ZmBc4o9oELyF\n",
       "heLolNK0PrZzxZjtct38901KT7h8Fe2y/gErFgrN9Ages05TekKQ25H9qsMrXgFpOj2x3JbMwr9Z\n",
       "bzCCGzf1H6up1OXuQjqeAAAAAElFTkSuQmCC\n",
       "\" style=\"display:inline;vertical-align:middle;\" /></a><br>(see <a class=\"ProveItLink\" href=\"../../../__pv_it/theorems/c88f23818f99561bc83036771fba585741e920950/dependencies.ipynb\">dependencies</a>)<br>"
      ],
      "text/plain": [
       "<IPython.core.display.HTML object>"
      ]
     },
     "metadata": {},
     "output_type": "display_data"
    }
   ],
   "source": [
    "%proving add_cancel_reverse"
   ]
  },
  {
   "cell_type": "code",
   "execution_count": null,
   "metadata": {},
   "outputs": [],
   "source": []
  }
 ],
 "metadata": {
  "kernelspec": {
   "display_name": "Python 3",
   "language": "python",
   "name": "python3"
  }
 },
 "nbformat": 4,
 "nbformat_minor": 0
}