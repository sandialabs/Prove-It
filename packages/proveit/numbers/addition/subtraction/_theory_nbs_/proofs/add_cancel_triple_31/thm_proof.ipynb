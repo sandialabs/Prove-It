{
 "cells": [
  {
   "cell_type": "markdown",
   "metadata": {},
   "source": [
    "Proof of <a class=\"ProveItLink\" href=\"../../../../../../_theory_nbs_/theory.ipynb\">proveit</a>.<a class=\"ProveItLink\" href=\"../../../../../_theory_nbs_/theory.ipynb\">numbers</a>.<a class=\"ProveItLink\" href=\"../../../../_theory_nbs_/theory.ipynb\">addition</a>.<a class=\"ProveItLink\" href=\"../../theory.ipynb\">subtraction</a>.<a class=\"ProveItLink\" href=\"../../theorems.ipynb#add_cancel_triple_31\">add_cancel_triple_31</a> theorem\n",
    "========"
   ]
  },
  {
   "cell_type": "code",
   "execution_count": 1,
   "metadata": {},
   "outputs": [],
   "source": [
    "import proveit\n",
    "theory = proveit.Theory() # the theorem's theory"
   ]
  },
  {
   "cell_type": "code",
   "execution_count": 2,
   "metadata": {},
   "outputs": [
    {
     "data": {
      "text/html": [
       "With these <a href=\"allowed_presumptions.txt\">allowed</a>/<a href=\"disallowed_presumptions.txt\">disallowed</a> theorem/theory presumptions (e.g., to avoid circular dependencies), we begin our proof of<br><strong id=\"add_cancel_triple_31\">add_cancel_triple_31:</strong> <a class=\"ProveItLink\" href=\"../../../__pv_it/theorems/dbcd716013a329086b5b9ded114175fe017fc8380/expr.ipynb\"><img src=\"data:image/png;base64,iVBORw0KGgoAAAANSUhEUgAAASEAAAAXBAMAAAC2Z+QsAAAAMFBMVEX///8AAAAAAAAAAAAAAAAA\n",
       "AAAAAAAAAAAAAAAAAAAAAAAAAAAAAAAAAAAAAAAAAAAv3aB7AAAAD3RSTlMAq1RmmUTNIjK7EInv\n",
       "3XZ/CtNrAAAACXBIWXMAAA7EAAAOxAGVKw4bAAADT0lEQVRIx8VWXUgUURQ+7t/szqyu0GMgC0E+\n",
       "lLZQRBosC1YkoS740kOEYBD6tD4GGdNDFFS4gVBbYCNBIBupKRQE4kuklWGCFNnCig9BQYgRRoF0\n",
       "7s/M7L17NceF+uDcvXvnzJnvnHvOuRegYmS4eIK2ua2KURNn4g3BonL5LEotmeypgNE+LtvHyBwO\n",
       "K2r3EgDHyeT8zgnpXUy84BxKyFI+6gW4TDY1u3NGgQQTxcaUrXby3zUUf0pp7hDjasR3zijKpRy+\n",
       "slRp5FR/kfGV2pwFfvQkVEEa7eXigZExT8Zu5UshpDNXKLyugNEpLg76pi5JjIxvRwRGobpl3JTx\n",
       "MlNTKyYYWGknAe7+9bupTZ90S+4GX8J9S2CkLUCrwGi0V18HOEyzsEBBC74/HsiCH4ukD7Ra21y4\n",
       "RyrGwTrmsJz6ruICFxuPEtAmxqh6DN4KjA5YZGG/7NsSRIvgmwaIWEbaWd3tfnM5l9ZvZXz3lIxc\n",
       "xRdcHlJnP0AHMU2d/zTHnO9gIWsrFN4UCu9wdgLgN8CAXLQ038OrxJWSxJ5xZsdMTIDHAEfVjGZk\n",
       "RjZmQf8hxmhWzuwlCGL9n5GrjH4jiDGCriQO+eRTwnBjmThkrBRJ84QHV+wDiDFiSuAqlu+avgH+\n",
       "VYERrkiM1mg8GqQ8GqXqPlKHT7BP6u/D6yRvPtaQHF4MT4+Qx/X1ti3KiCq15hAJrogY4mIzWoOq\n",
       "rnohRt/Rc4HRT5Js0CTFKIZrafCTL11EhoFUmIQrkiC5HsjqJm2vzc0CI64EjiLBOIiFPAQNqZTA\n",
       "CAvtmcBoFwzKLYNYz4JhQmAMp1WYMdF0DYlc1AzUkj9YmxiJ+LXTAiOuBI4iwU0uNoa/Xq0zBUbG\n",
       "RNISGA1PkpRYlFPz+cEvWJh2lY1mIs34Wgyi2LtieEu5Tm1hZusuI6rEdo0p0to2mXjo2axLzSvb\n",
       "W7+T6JmBTisP1VYT5CGUhrEIcUubzMBUSYyIEudh2WlATkz1qbn5SWuf0Aq0OG+3NE7AjXi4vYij\n",
       "1pK0tDu0uHoGTZcRVeK11u4E4DYXj7igvlpKbSZeMuZzObdxwhbXlREuHqF2IiJea4OWO0rYgpFW\n",
       "ZOLxLqy+UX8W//pLxu0z+k/I/LtP/QHGx+nJfUgGTgAAAABJRU5ErkJggg==\n",
       "\" style=\"display:inline;vertical-align:middle;\" /></a><br>(see <a class=\"ProveItLink\" href=\"../../../__pv_it/theorems/f0247acdc90f3eed5264e37f3cf40a5012d7cd580/dependencies.ipynb\">dependencies</a>)<br>"
      ],
      "text/plain": [
       "<IPython.core.display.HTML object>"
      ]
     },
     "metadata": {},
     "output_type": "display_data"
    }
   ],
   "source": [
    "%proving add_cancel_triple_31"
   ]
  },
  {
   "cell_type": "code",
   "execution_count": null,
   "metadata": {},
   "outputs": [],
   "source": []
  }
 ],
 "metadata": {
  "kernelspec": {
   "display_name": "Python 3",
   "language": "python",
   "name": "python3"
  }
 },
 "nbformat": 4,
 "nbformat_minor": 0
}