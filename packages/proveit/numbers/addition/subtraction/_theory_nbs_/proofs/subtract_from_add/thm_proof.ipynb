{
 "cells": [
  {
   "cell_type": "markdown",
   "metadata": {},
   "source": [
    "Proof of <a class=\"ProveItLink\" href=\"../../../../../../_theory_nbs_/theory.ipynb\">proveit</a>.<a class=\"ProveItLink\" href=\"../../../../../_theory_nbs_/theory.ipynb\">numbers</a>.<a class=\"ProveItLink\" href=\"../../../../_theory_nbs_/theory.ipynb\">addition</a>.<a class=\"ProveItLink\" href=\"../../theory.ipynb\">subtraction</a>.<a class=\"ProveItLink\" href=\"../../theorems.ipynb#subtract_from_add\">subtract_from_add</a> theorem\n",
    "========"
   ]
  },
  {
   "cell_type": "code",
   "execution_count": 1,
   "metadata": {},
   "outputs": [],
   "source": [
    "import proveit\n",
    "theory = proveit.Theory() # the theorem's theory"
   ]
  },
  {
   "cell_type": "code",
   "execution_count": 2,
   "metadata": {},
   "outputs": [
    {
     "data": {
      "text/html": [
       "With these <a href=\"allowed_presumptions.txt\">allowed</a>/<a href=\"disallowed_presumptions.txt\">disallowed</a> theorem/theory presumptions (e.g., to avoid circular dependencies), we begin our proof of<br><strong id=\"subtract_from_add\">subtract_from_add:</strong> <a class=\"ProveItLink\" href=\"../../../__pv_it/theorems/d67d37b2c3e223df2f734da33f82d5efbc38107e0/expr.ipynb\"><img src=\"data:image/png;base64,iVBORw0KGgoAAAANSUhEUgAAAQ8AAAAXBAMAAADn89dPAAAAMFBMVEX///8AAAAAAAAAAAAAAAAA\n",
       "AAAAAAAAAAAAAAAAAAAAAAAAAAAAAAAAAAAAAAAAAAAv3aB7AAAAD3RSTlMAq1RmmUTNIjK7EInv\n",
       "3XZ/CtNrAAAACXBIWXMAAA7EAAAOxAGVKw4bAAADOElEQVRIx71WTWgTQRR+3WyyP0ma4MFLoSwo\n",
       "eJOAP2iFGKgFe9FAL4pi40GkPW3Bo5Z4EBQLRizoag8rQlECJrSCRbAURFBECaJYhMJWDxUPpSBY\n",
       "6KE4b2Z2sz8TWnHxwZsMX76Z/eb9zC5A7KZwF5n5V/A/2jfuIjvXGc7jZFeMOqQm87DpUy2A7oJw\n",
       "DcIDOLkYo5Bp7hFLlcgwKl5E4KuY0VqMQvq5RyxnkGG/eBGBUzZA2ohRyAL3iA2TJ0HGFi4icIKk\n",
       "JxVniVSYR+0lzY+4SBB+v7T0LkYhcpM5pFcPBf85v7qDoPlws/esOAw+DnB/y+1L7GdPCHbEZ0NX\n",
       "PsJgsGt+2w0TEhgseYka1XTW1DaAwmOgeCrVkVBbTfaO0wmr5kTZ9x9y5aiQrMG9CR+COduAjANS\n",
       "qHz0VyCTtkZYs9Pt/Xvaz1m2yvptU3rgE/LQiz/nJqP3RabM/CSryml69kVcU4FcE9S1UCbXUDKF\n",
       "JcdXq2+82bEqydxTgCM+IQPun5rLHe0o5G0kVE0YNiAZikimBg3CpnClSIZ68TmGYXMZD5L+7tAr\n",
       "8NE1963BhLRcnuZyZ7wd54uB1OibgmuERElqBWuk4cBRzBvCM+RY+hd1HWviazeW5Wd14QmtTa84\n",
       "qRCl4vI0l7sbZIvYHciWJ3iwHOa/yDGDQqqkHiARujsbBuyUTAZfJsrkkorB0QpYvnJNrw4hq68v\n",
       "ICRZ83gu97RLGITHbIKNiE5aZi7wyK6CVuKd7TPNkT7JHO6qYla7MVCZqpxnKT5IzmlcPxUQIuUZ\n",
       "b9CasqwC5d5wCa+9Im8xT88Wg5eo3oMXf7Yc6preubEfPrhhan1kXQ4yJMU58nlwk56OFKveFqLW\n",
       "XB5GhHK91Kx7Wy9yF9uVLeCMeWvIrkPWPgx1SJWhqeFxlGcmzAeKlfKYEOTCqrvBBUi331+dXm2d\n",
       "Xoc+ONm/dxYmDPWEQ0alv2gr9xCuj0xWfULuMh7vGsIlCLdL+366WTeZi7/eatuCDd9YtyxfOhnx\n",
       "TOAewQwL9kVM7/Rd0UFhCE7a7TFkbGPZ9N+sfsBv49xFtrItOOEbhULgRQg+AP/b+Mn1EGzH94Q/\n",
       "/F3cf3a6rd8AAAAASUVORK5CYII=\n",
       "\" style=\"display:inline;vertical-align:middle;\" /></a><br>(see <a class=\"ProveItLink\" href=\"../../../__pv_it/theorems/69cb637363c839c851d4bc9f49381007c0cc00260/dependencies.ipynb\">dependencies</a>)<br>"
      ],
      "text/plain": [
       "<IPython.core.display.HTML object>"
      ]
     },
     "metadata": {},
     "output_type": "display_data"
    }
   ],
   "source": [
    "%proving subtract_from_add"
   ]
  },
  {
   "cell_type": "code",
   "execution_count": null,
   "metadata": {},
   "outputs": [],
   "source": []
  }
 ],
 "metadata": {
  "kernelspec": {
   "display_name": "Python 3",
   "language": "python",
   "name": "python3"
  }
 },
 "nbformat": 4,
 "nbformat_minor": 0
}