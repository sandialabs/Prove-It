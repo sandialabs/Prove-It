{
 "cells": [
  {
   "cell_type": "markdown",
   "metadata": {},
   "source": [
    "Proof of <a class=\"ProveItLink\" href=\"../../../../../../_theory_nbs_/theory.ipynb\">proveit</a>.<a class=\"ProveItLink\" href=\"../../../../../_theory_nbs_/theory.ipynb\">numbers</a>.<a class=\"ProveItLink\" href=\"../../../../_theory_nbs_/theory.ipynb\">addition</a>.<a class=\"ProveItLink\" href=\"../../theory.ipynb\">subtraction</a>.<a class=\"ProveItLink\" href=\"../../theorems.ipynb#add_cancel_triple_32\">add_cancel_triple_32</a> theorem\n",
    "========"
   ]
  },
  {
   "cell_type": "code",
   "execution_count": 1,
   "metadata": {},
   "outputs": [],
   "source": [
    "import proveit\n",
    "theory = proveit.Theory() # the theorem's theory"
   ]
  },
  {
   "cell_type": "code",
   "execution_count": 2,
   "metadata": {},
   "outputs": [
    {
     "data": {
      "text/html": [
       "With these <a href=\"allowed_presumptions.txt\">allowed</a>/<a href=\"disallowed_presumptions.txt\">disallowed</a> theorem/theory presumptions (e.g., to avoid circular dependencies), we begin our proof of<br><strong id=\"add_cancel_triple_32\">add_cancel_triple_32:</strong> <a class=\"ProveItLink\" href=\"../../../__pv_it/theorems/472ee563168ee5edcce15d2fa250588e5630af3a0/expr.ipynb\"><img src=\"data:image/png;base64,iVBORw0KGgoAAAANSUhEUgAAAREAAAAXBAMAAADelGYUAAAAMFBMVEX///8AAAAAAAAAAAAAAAAA\n",
       "AAAAAAAAAAAAAAAAAAAAAAAAAAAAAAAAAAAAAAAAAAAv3aB7AAAAD3RSTlMAq1RmmUTNIjK7EInv\n",
       "3XZ/CtNrAAAACXBIWXMAAA7EAAAOxAGVKw4bAAADVUlEQVRIx71WXUgUURQ+7t/szuyq0GMgC0E+\n",
       "lLaQSBosC1YkoS740kPEgkEoBOtjkDI9REGFGwi2BTYSBLKRlkJBIL5EWhkmSJEMrPkQFIQYYRQs\n",
       "nXNndmbvddyGXerAPTvOfN77nXu+c+4FqNrSOCS3YGn3Oaq22ii6T27R/rzj67M46ulhXxVMDuDw\n",
       "TLtBTi6h23AOJwZwnB7OV05ETqF74A57DkdAc/w0AHCZkpepnIkPo4GO8phe83cLhzfhCGkxOCrR\n",
       "ypmEyc2XxzSbGvlF/pXzNBp4MaZAFTLZTzJJuWKiLJPvc4QEkMaSrr+ugskpyhAJVvl2hP8yODfM\n",
       "Mwk0rOPmP94xxdyGCgpWzkmAO39dL7Hrlz4zIGkFOvl6fQn3NI7J1IC8DdDK1KUzY4U7FPVlwIvb\n",
       "OghSffG/g/1CcY02GHGJkraBKzgiGGpkGt5ykIcx6OL35JBGkINiLGsQzoMHpRbSlKT1dq+91no2\n",
       "Kd9Ke+46MrGBL0huOEEPi1++wGJV8bGH1kDr0vU3uv4On04A/AYYEYuP6Ti4iXLLlwh2wXo6hrMp\n",
       "jwCOOjNZEJksiohFkH/we7IGfqzjM2LVsLn9VH6pOLpc/CkxK6xTaMpGnpoe3L9SPCgMJgYIbKCd\n",
       "HbkgdrwCeDd5Jlss/iZBJ1Os/3uorp5gf5PfB7dJFx9rSZurwflJ+tzYWJyXMWGgzixazASijeMI\n",
       "4WTfMS6OyRbUpBo5Jj9JO9AmUK7Dd0nw0gqXkJkvEaTtCcVIw76MrLK22N7OMTFBYAHJqCipBLFw\n",
       "nnErjENTIsEx2QOjZtlzOsmAohqNoEalTNfSToVVX72R9laMPHrtNMfEBIEFJLtJucKtVWbi/Iky\n",
       "8fVqg8oxmZillK+Kgnp++AsmuFg1U+lQO05UB2EsyDq8LVxnTREVK9tMGMjIjgEki9BqH1z1WOOC\n",
       "suwIGbIEnB7p1XIQ0dogB4EkTIcoQGk2DXMle0Igc32tmG52orW4OwGtE3OnWWeov6N5Bm5Eg915\n",
       "9FJHXJNus2LpH1VtJgxk1k63deMZI9m4v3NddL7KCW0iWuJz2azd8KDMtYGqTHZ/rRhzfCuE4tds\n",
       "L1iZlSTanWHXd03n3fvM/+kt8e6Z/GdL//sl/gAHiNnE5bwriAAAAABJRU5ErkJggg==\n",
       "\" style=\"display:inline;vertical-align:middle;\" /></a><br>(see <a class=\"ProveItLink\" href=\"../../../__pv_it/theorems/b338ea568fead4e62d2aa432645453e53f2044a20/dependencies.ipynb\">dependencies</a>)<br>"
      ],
      "text/plain": [
       "<IPython.core.display.HTML object>"
      ]
     },
     "metadata": {},
     "output_type": "display_data"
    }
   ],
   "source": [
    "%proving add_cancel_triple_32"
   ]
  },
  {
   "cell_type": "code",
   "execution_count": null,
   "metadata": {},
   "outputs": [],
   "source": []
  }
 ],
 "metadata": {
  "kernelspec": {
   "display_name": "Python 3",
   "language": "python",
   "name": "python3"
  }
 },
 "nbformat": 4,
 "nbformat_minor": 0
}