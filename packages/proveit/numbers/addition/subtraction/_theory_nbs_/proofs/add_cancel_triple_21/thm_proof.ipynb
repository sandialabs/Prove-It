{
 "cells": [
  {
   "cell_type": "markdown",
   "metadata": {},
   "source": [
    "Proof of <a class=\"ProveItLink\" href=\"../../../../../../_theory_nbs_/theory.ipynb\">proveit</a>.<a class=\"ProveItLink\" href=\"../../../../../_theory_nbs_/theory.ipynb\">numbers</a>.<a class=\"ProveItLink\" href=\"../../../../_theory_nbs_/theory.ipynb\">addition</a>.<a class=\"ProveItLink\" href=\"../../theory.ipynb\">subtraction</a>.<a class=\"ProveItLink\" href=\"../../theorems.ipynb#add_cancel_triple_21\">add_cancel_triple_21</a> theorem\n",
    "========"
   ]
  },
  {
   "cell_type": "code",
   "execution_count": 1,
   "metadata": {},
   "outputs": [],
   "source": [
    "import proveit\n",
    "theory = proveit.Theory() # the theorem's theory"
   ]
  },
  {
   "cell_type": "code",
   "execution_count": 2,
   "metadata": {},
   "outputs": [
    {
     "data": {
      "text/html": [
       "With these <a href=\"allowed_presumptions.txt\">allowed</a>/<a href=\"disallowed_presumptions.txt\">disallowed</a> theorem/theory presumptions (e.g., to avoid circular dependencies), we begin our proof of<br><strong id=\"add_cancel_triple_21\">add_cancel_triple_21:</strong> <a class=\"ProveItLink\" href=\"../../../__pv_it/theorems/130ac6cf75cbe37bf0bb9bee3f567c29eb1d042f0/expr.ipynb\"><img src=\"data:image/png;base64,iVBORw0KGgoAAAANSUhEUgAAASEAAAAXBAMAAAC2Z+QsAAAAMFBMVEX///8AAAAAAAAAAAAAAAAA\n",
       "AAAAAAAAAAAAAAAAAAAAAAAAAAAAAAAAAAAAAAAAAAAv3aB7AAAAD3RSTlMAq1RmmUTNIjK7EInv\n",
       "3XZ/CtNrAAAACXBIWXMAAA7EAAAOxAGVKw4bAAADWklEQVRIx8VWTWgTQRR+TbLZZDdNCh6FsiDY\n",
       "g7YGFLEVQqAqFmkb6MWDSKGCtKf0KFhZD6Kg0ggFjULdIgglYltbUBBKL2KrVmqhKNaFlB4EBSkR\n",
       "URSKb2Znf2YzqaYB/eBNJjNvZ7735r03A1Azskyqglx5rZoR1yypDlJROHwapYF0dtXAaA+Tihhf\n",
       "FI2ui81LAhwlnbPbJ6T0WrIFzogGw4ZQdwDgIjnU3PYZhZKWCA7GHi3ZIz2e2WBauNwBi6uqbZ9R\n",
       "jEk5AixUpJ/2SIt3+oV4OQOCaEm4hjDazaQyI3VJyKhP+FEY6Sya5ssaGJ1g4mBw9gLPKNy4pvGM\n",
       "1C+HAKbKlppd10HFTDsOcPuP+6YrzvT5zJWew12DYzQxoHznGMnL0AFwkEahSUETfkgL5SCISTII\n",
       "coO9XKTfl4wjjZbB/tB3FZeZ2HiQhE7eR/sMeM0xqp8kA3v9tq1CrAiBOYCooWac0Z3unmv5jHIj\n",
       "G7gjZOQqPmNynxr7DrrJ0tT4D4uW8ccAfuFPp2m+Ms032OumPhz2Jy1NgMgGMcUT2PNO74iO5/0Q\n",
       "4LCY0byfkY0FUL7xPloFqcT5aIG2p/xZRveQ0EfQm8KmkHpMGG6uEf7qepEUT7h3yb6ALEaWEriK\n",
       "5aembEJwg2dUYubbjFCFoNkXRxNUPUAS8xHWSeVthERf/H2cxPBKZG6cTDc12RtRRlSpI49IMkXE\n",
       "KBObUQnqeps4Rj9IbHl99BVdAdDq81EClTIQJDudR4ahdIS4K5oksR7KKTotr21tHCOmBI4iwRTw\n",
       "iTwKzek0x2gHjPD1CBPtia9kkNVzoOoQmsRuHUZMLBMnnovpoQbyB3MTPaFdOckxYkrgKBJcZ2Jj\n",
       "7PPlRp1jNDaT5Bmp0yk88hV/aD7d/wnz0M6yiWy0DbUSEMNilsBXylX6KUa24jKiStapWYo0lXVL\n",
       "KtdsF96aLS8Jy9uQE+jZ4R6jAPVGKxQgnIHJKAlceSYLsx4fESXGw2j13JjiW1Mqu397fDe0AO3O\n",
       "1+0t03BNi3QVsZXbU4Z8iyZX/4juMqJKLNe6HAfcZFIlzomflr4yo3naQj7vFk7Y4rkyzqRKiI2I\n",
       "8s9ayXBbH7ZgJBctqfItLH5Rf+T/Bj3t3zP6T8j+u61+A1RI6cnDpbZDAAAAAElFTkSuQmCC\n",
       "\" style=\"display:inline;vertical-align:middle;\" /></a><br>(see <a class=\"ProveItLink\" href=\"../../../__pv_it/theorems/8afb4fe611acabe1dafb0072c7603e4aef95e2960/dependencies.ipynb\">dependencies</a>)<br>"
      ],
      "text/plain": [
       "<IPython.core.display.HTML object>"
      ]
     },
     "metadata": {},
     "output_type": "display_data"
    }
   ],
   "source": [
    "%proving add_cancel_triple_21"
   ]
  },
  {
   "cell_type": "code",
   "execution_count": null,
   "metadata": {},
   "outputs": [],
   "source": []
  }
 ],
 "metadata": {
  "kernelspec": {
   "display_name": "Python 3",
   "language": "python",
   "name": "python3"
  }
 },
 "nbformat": 4,
 "nbformat_minor": 0
}