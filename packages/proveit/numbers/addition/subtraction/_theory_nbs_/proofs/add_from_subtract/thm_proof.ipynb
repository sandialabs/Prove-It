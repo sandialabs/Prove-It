{
 "cells": [
  {
   "cell_type": "markdown",
   "metadata": {},
   "source": [
    "Proof of <a class=\"ProveItLink\" href=\"../../../../../../_theory_nbs_/theory.ipynb\">proveit</a>.<a class=\"ProveItLink\" href=\"../../../../../_theory_nbs_/theory.ipynb\">numbers</a>.<a class=\"ProveItLink\" href=\"../../../../_theory_nbs_/theory.ipynb\">addition</a>.<a class=\"ProveItLink\" href=\"../../theory.ipynb\">subtraction</a>.<a class=\"ProveItLink\" href=\"../../theorems.ipynb#add_from_subtract\">add_from_subtract</a> theorem\n",
    "========"
   ]
  },
  {
   "cell_type": "code",
   "execution_count": 1,
   "metadata": {},
   "outputs": [],
   "source": [
    "import proveit\n",
    "theory = proveit.Theory() # the theorem's theory"
   ]
  },
  {
   "cell_type": "code",
   "execution_count": 2,
   "metadata": {},
   "outputs": [
    {
     "data": {
      "text/html": [
       "With these <a href=\"allowed_presumptions.txt\">allowed</a>/<a href=\"disallowed_presumptions.txt\">disallowed</a> theorem/theory presumptions (e.g., to avoid circular dependencies), we begin our proof of<br><strong id=\"add_from_subtract\">add_from_subtract:</strong> <a class=\"ProveItLink\" href=\"../../../__pv_it/theorems/87c934cda052c782d8739bd39d8cdf12f5cd17160/expr.ipynb\"><img src=\"data:image/png;base64,iVBORw0KGgoAAAANSUhEUgAAAQ8AAAAXBAMAAADn89dPAAAAMFBMVEX///8AAAAAAAAAAAAAAAAA\n",
       "AAAAAAAAAAAAAAAAAAAAAAAAAAAAAAAAAAAAAAAAAAAv3aB7AAAAD3RSTlMAq1RmmUTNIjK7EInv\n",
       "3XZ/CtNrAAAACXBIWXMAAA7EAAAOxAGVKw4bAAADRUlEQVRIx71WTWgTQRR+3Wx+dpM0xYOXQllR\n",
       "6K0UtKIVYqCK9qAGerEgth5E6mkLxZOWeBAsFoxY0KiHBUGUgAmtYC+WgggVf6iiKEJhq4eKh1IQ\n",
       "LPRQfG9mdpOdTLDi4oM3O3z5dvabeT8TgNAtLlxl9l/B/2hfhavsdHO4jSY7Q9ShVbnLZt5bBGjt\n",
       "Vr5D8GGanAtRyAPhDRbL4XBe/RLClymixRCF9An3bUA8MxYOe9QvIRxzAJJWiELmhfvWJZ5D+CVI\n",
       "OcqXEI5geGJhpsgw90Yhz1h81ElC8JulpVchCtGr3CG5ui8o5MzqNkTb5GJvX3E5fBTgzh+Xz/Hd\n",
       "yvXuqvdGHn8P/QEh5i+nYkOEHdaxJbJ3ND1lGxvA4FGI+yoTI1JZTXWMswnP5p7634irNwpJW8Kr\n",
       "8DYgRNuAlAvavFTUz0HHsibYcJJ5H2+vfWe5lDdv2NrdmhAzeKzIjTb2i1Se+wmelbj313zv+jBk\n",
       "qpBYkyK5RpIZrLl1ubrgzw4VMHKPAQ7UhOj5wBoLyrbgCXkpJyt+b8iCqHQiqSJUkM3g4SwO5exT\n",
       "OobNZdpI8pvLWuD9K96twYSkfR543Gl/xblsIDTmpiwE2wiekrYYzJGKCwcpbgRP47bMT4l1yokv\n",
       "rZSWHxPzj4jf2ektxoRc8HngcXeBXkK7Cen8JIcNl/tP3GZQSAHzASJS76xYsB1rgMEXMfR6LkGH\n",
       "Y3RT+upFs8DaYW9vQMigzwOPO+gR+uEhn1AhkmPJzAaEtHQbOVHZdWa42gddwC0FimorZWKqoLfx\n",
       "EO/FfVpXTwaE7BC8CToEm3EnPMILP8kXuSdnsk6wfNup8afzUtV0zI5+r4MrttGL72UghSHOYLu4\n",
       "xnaHyWrWhEz4PHbUxPVDs+4v/Vl4Q2dldkndp3w4ZV8fcMqQdvZDGWJ5qBr0ufgTG+YCycp4IiuR\n",
       "C6veAmchWbu/glfbgHwlNrkpmUX7umZg0kocd3GM92Wd+G2CyyNThZoQw+Y8EQPkwi1vgbHdP7yo\n",
       "29zV/96KW4KturFcKtWFkxEb25epWJcws9n/iiYKJTjq1EbJ+MJHGm441brjwlW2siU4UjcqhSRl\n",
       "jT3wv03sXBbihPeF36vx3c1WhEyXAAAAAElFTkSuQmCC\n",
       "\" style=\"display:inline;vertical-align:middle;\" /></a><br>(see <a class=\"ProveItLink\" href=\"../../../__pv_it/theorems/26aa96c2749750017dbf6d093f0fdbe10831a9090/dependencies.ipynb\">dependencies</a>)<br>"
      ],
      "text/plain": [
       "<IPython.core.display.HTML object>"
      ]
     },
     "metadata": {},
     "output_type": "display_data"
    }
   ],
   "source": [
    "%proving add_from_subtract"
   ]
  },
  {
   "cell_type": "code",
   "execution_count": null,
   "metadata": {},
   "outputs": [],
   "source": []
  }
 ],
 "metadata": {
  "kernelspec": {
   "display_name": "Python 3",
   "language": "python",
   "name": "python3"
  }
 },
 "nbformat": 4,
 "nbformat_minor": 0
}