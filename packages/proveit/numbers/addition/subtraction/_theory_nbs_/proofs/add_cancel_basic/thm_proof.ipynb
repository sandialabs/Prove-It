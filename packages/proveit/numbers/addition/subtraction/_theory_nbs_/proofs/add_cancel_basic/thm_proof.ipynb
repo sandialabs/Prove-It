{
 "cells": [
  {
   "cell_type": "markdown",
   "metadata": {},
   "source": [
    "Proof of <a class=\"ProveItLink\" href=\"../../../../../../_theory_nbs_/theory.ipynb\">proveit</a>.<a class=\"ProveItLink\" href=\"../../../../../_theory_nbs_/theory.ipynb\">numbers</a>.<a class=\"ProveItLink\" href=\"../../../../_theory_nbs_/theory.ipynb\">addition</a>.<a class=\"ProveItLink\" href=\"../../theory.ipynb\">subtraction</a>.<a class=\"ProveItLink\" href=\"../../theorems.ipynb#add_cancel_basic\">add_cancel_basic</a> theorem\n",
    "========"
   ]
  },
  {
   "cell_type": "code",
   "execution_count": 1,
   "metadata": {},
   "outputs": [],
   "source": [
    "import proveit\n",
    "theory = proveit.Theory() # the theorem's theory"
   ]
  },
  {
   "cell_type": "code",
   "execution_count": 2,
   "metadata": {},
   "outputs": [
    {
     "data": {
      "text/html": [
       "With these <a href=\"allowed_presumptions.txt\">allowed</a>/<a href=\"disallowed_presumptions.txt\">disallowed</a> theorem/theory presumptions (e.g., to avoid circular dependencies), we begin our proof of<br><strong id=\"add_cancel_basic\">add_cancel_basic:</strong> <a class=\"ProveItLink\" href=\"../../../__pv_it/theorems/f60319029817bb17ea3c8ee92525e3faaa4438d00/expr.ipynb\"><img src=\"data:image/png;base64,iVBORw0KGgoAAAANSUhEUgAAAOMAAAAXBAMAAAALo+VwAAAAMFBMVEX///8AAAAAAAAAAAAAAAAA\n",
       "AAAAAAAAAAAAAAAAAAAAAAAAAAAAAAAAAAAAAAAAAAAv3aB7AAAAD3RSTlMAq1RmmUTNIjK7EInv\n",
       "3XZ/CtNrAAAACXBIWXMAAA7EAAAOxAGVKw4bAAAC5klEQVRIx7VVS2gTURS9mUw+M518cOHCQBkQ\n",
       "7EKwQaRg1DaSKkJRA3XhQkzEhbSr6V4lgopgJS0paFRkQBBq0EQrqIhSlGJBhChCpRCYQKFCMWSh\n",
       "FiqI75dJ55M0jnrgJDPnzZvz3r333QH4CyiMrcY6lztFUKa0xcnWchhfbHVkuZ3RDPF2Ga0latFf\n",
       "LClEPoBvzjhxFNOUVnjj6GfUosriApEvoBvfhBNLPkppRQhHe5dZ3QfwnMheFaBLdmIpMVqRUvGQ\n",
       "alInAXpVLLvROr2OUrmN0YqXJI7mAHwDyMpEfl+pvHNkOcToiyxrxpFTtU0odGFT6rFllMiHAG62\n",
       "SVjrodOMJxRhzfjyH2pRATeprMMVjA94ZT+RpUbkMfDp6/GP6Gduqvs8/hfMRpf1UvtIKb4Bvmx4\n",
       "hFsDSQNu1jiRWJaILKhdSV2PYN9qPilOKtwtW0tXqXE1R8nXIYC1e2Q/n3Fk0hAqgb9uCiyyTGlE\n",
       "5rR11TOPOJhBiXgIsMfWUsqYLKUJKCYNj6AVpGTwzFrLp5fJ6X70U+h/ijf4q6qStnH3EopE01Kc\n",
       "WWk0x2xtizGwRQ0GLMfyqApc2ZhLyAMMMPkxagjign8VZ3AxGJ/Gwz09bDq1fKBkFT6PkIOv6hIb\n",
       "ukNZlGEzZ+jWoQzKL7jN/WUvwEEmn0XVw8f9eMNC1J0exsOxmMFyEMYbE3PQx64eUQoa98lY166o\n",
       "gDoeXzJZBmRxnskulB0pGQyTRPHhPrQZ+cpxg+UcVJvZ3s+urlGK3c/GvhgLJZLADklzTx6qZtbJ\n",
       "RUWIoQYVAkm+iu9x+Yi6pbgKufsssHV43Vh1hrIFzm0gS0p2WC1AQN2NDg0+RE8UeNXc5Vv/90ak\n",
       "F/UcueOULZDYQPYkdszAuOw/ooHvBhYKI1OZpuWxnSuNjnmxps++zmiLFl8ns0w/KIV8vpkGoU2T\n",
       "nWa0haB0IntUm0faWPo0SlssdyS74c8s/xN8//6VvwFc5sYbRg9XQAAAAABJRU5ErkJggg==\n",
       "\" style=\"display:inline;vertical-align:middle;\" /></a><br>(see <a class=\"ProveItLink\" href=\"../../../__pv_it/theorems/c49a8b8ed2989baeacf5e858c89a6e41767297390/dependencies.ipynb\">dependencies</a>)<br>"
      ],
      "text/plain": [
       "<IPython.core.display.HTML object>"
      ]
     },
     "metadata": {},
     "output_type": "display_data"
    }
   ],
   "source": [
    "%proving add_cancel_basic"
   ]
  },
  {
   "cell_type": "code",
   "execution_count": null,
   "metadata": {},
   "outputs": [],
   "source": []
  }
 ],
 "metadata": {
  "kernelspec": {
   "display_name": "Python 3",
   "language": "python",
   "name": "python3"
  }
 },
 "nbformat": 4,
 "nbformat_minor": 0
}