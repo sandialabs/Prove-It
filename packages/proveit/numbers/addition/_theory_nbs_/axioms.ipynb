{
 "cells": [
  {
   "cell_type": "markdown",
   "metadata": {},
   "source": [
    "Axioms for the theory of <a class=\"ProveItLink\" href=\"theory.ipynb\">proveit.numbers.addition</a>\n",
    "========"
   ]
  },
  {
   "cell_type": "code",
   "execution_count": 1,
   "metadata": {},
   "outputs": [],
   "source": [
    "import proveit\n",
    "# Prepare this notebook for defining the axioms of a theory:\n",
    "%axioms_notebook # Keep this at the top following 'import proveit'.\n",
    "# the theory is in the current directory:\n",
    "from proveit import a, b, m, x\n",
    "from proveit.core_expr_types import a_1_to_m\n",
    "from proveit.logic import Forall, Equals\n",
    "from proveit.numbers import Add, zero, one, Natural\n",
    "theory = proveit.Theory('.') # adds theory root to sys.path if necessary"
   ]
  },
  {
   "cell_type": "code",
   "execution_count": 2,
   "metadata": {},
   "outputs": [
    {
     "name": "stdout",
     "output_type": "stream",
     "text": [
      "Defining axioms for theory 'proveit.numbers.addition'\n",
      "Subsequent end-of-cell assignments will define axioms\n",
      "%end_axioms will finalize the definitions\n"
     ]
    }
   ],
   "source": [
    "%begin axioms"
   ]
  },
  {
   "cell_type": "markdown",
   "metadata": {},
   "source": [
    "### Definitions for binary addition:"
   ]
  },
  {
   "cell_type": "markdown",
   "metadata": {},
   "source": [
    "**A natural number is unchanged after adding zero.**"
   ]
  },
  {
   "cell_type": "code",
   "execution_count": 3,
   "metadata": {},
   "outputs": [
    {
     "data": {
      "text/html": [
       "<strong id=\"nat_plus_zero\">nat_plus_zero:</strong> <a class=\"ProveItLink\" href=\"../__pv_it/axioms/bed35f296bcb6b74207f2453cc8b31dc2f8d052e0/axiom_expr.ipynb\"><img src=\"data:image/png;base64,iVBORw0KGgoAAAANSUhEUgAAAKkAAAAVBAMAAADP89MSAAAAMFBMVEX///8AAAAAAAAAAAAAAAAA\n",
       "AAAAAAAAAAAAAAAAAAAAAAAAAAAAAAAAAAAAAAAAAAAv3aB7AAAAD3RSTlMAq1RmmUTNIjK7EInv\n",
       "3XZ/CtNrAAAACXBIWXMAAA7EAAAOxAGVKw4bAAACXklEQVQ4y4VVP2jUUBz+fMndJZe7600iCHIg\n",
       "uqilgxTscB5UUSxC8AaXIsUOBad0FCymriK9TeMgN7iUKpfqoHQoJ+LiHzhFcQpEHOpYdBAqiL+X\n",
       "93K9JC/nB1/ykvzel19+/wKMhSOpQmnMnrGoNQSVKITq+9eIdb44mrPxhGQG1vYF4HuOK1PAeb5Y\n",
       "Uj8vLwhmcR1PHRS76m03gFUeoY76sT4luI+2OGkDWB1oLfW204heaOWEriK5j0lxMutge8DbnG1d\n",
       "aORLMSesxyUzqhMtGD+BRfW2Ikl+CIJ3OapzkqXDO2FCtUeqv4DNTLFFhhZVwEXgYY7qouS8Y+4l\n",
       "VG/7MP4C01HwgwhRLQlDjRK8jFJ9RGllztZeyfUnwfJr6IOM6h/gZLpmhCHrU+S7li3vGt88m9W3\n",
       "cElevxHUd1H1aXk5CN4HwUceAR8F8nUtXTPC0Ngl5XCYrHMuXTZ1+EnVSgc9O50tRtmaTydfGBbI\n",
       "Vyw06bDRfBE1Bdidq6GfjEAvxNlUZVGxUgBPpeIqDRkP1zPqhfJX4zfWuRFzt47Fqo8Eew0cZM6o\n",
       "qtaHTik5k/JVGmq8qW7Ra/SW0ReNw1y9FrfapqAZss96wlf6gieuqLpRSEOde3WAnlfsWh3Tnuc1\n",
       "mFv249a/J1g+8nL5R1L18fYhOn5J14AwrMbZ7znmTPeu8BVX4hFXdQUzvSVrfqAu85Vh9py1dtfk\n",
       "M0izUYvrl4+P5Ahpp4ePCrPDCTw7+RylB/yLl+TM5bgvqcbNnH9EagJueJ6duLEuqUbO+8z//WJK\n",
       "oaB65ufs3gH+Ae3GoLjoay3JAAAAAElFTkSuQmCC\n",
       "\" style=\"display:inline;vertical-align:middle;\" /></a><br>"
      ],
      "text/plain": [
       "<IPython.core.display.HTML object>"
      ]
     },
     "metadata": {},
     "output_type": "display_data"
    }
   ],
   "source": [
    "nat_plus_zero = Forall(a, Equals(Add(a, zero), a),\n",
    "                         domain=Natural)"
   ]
  },
  {
   "cell_type": "markdown",
   "metadata": {},
   "source": [
    "**Adding 1 to one of the addends is the same as adding one to the sum.**"
   ]
  },
  {
   "cell_type": "code",
   "execution_count": 4,
   "metadata": {},
   "outputs": [
    {
     "data": {
      "text/html": [
       "<strong id=\"nat_plus_successor\">nat_plus_successor:</strong> <a class=\"ProveItLink\" href=\"../__pv_it/axioms/06e5cfacf1dc30cb9e2f131dace2878ecdbc8cc20/axiom_expr.ipynb\"><img src=\"data:image/png;base64,iVBORw0KGgoAAAANSUhEUgAAAU4AAAAWBAMAAABd12h0AAAAMFBMVEX///8AAAAAAAAAAAAAAAAA\n",
       "AAAAAAAAAAAAAAAAAAAAAAAAAAAAAAAAAAAAAAAAAAAv3aB7AAAAD3RSTlMAq1RmmUTNIjK7EInv\n",
       "3XZ/CtNrAAAACXBIWXMAAA7EAAAOxAGVKw4bAAAEI0lEQVRIx81XTWgTQRR+3WyaZJum0YqXSgmI\n",
       "9aDVHIqghxqoFrHUBnvwUmqkgtiL26NgS/TiQUt7EGpE6vYihAqJP6AU1IqI/1rFYqkGUj1UELQU\n",
       "bCVC8b3Z2bKzO1n15sBskvfm+/ab996+nQD8eQTooktd+j8idMtZDvRPCMf4hDMSk3nkVgB/ES/d\n",
       "ZdZ/Ag+Qa3RzT5R+bPSSqeTxskXq2gLa5SmncdAA+Eyi4pL1nM45si/BBAkjOMtZ0LOXDMe8dF7F\n",
       "qaVkHrJWJhy2dSdQZyVO6JWtZ3TucRQ4yDbGWkucBT2nKf/DXjpbcKpCbDr5J1lrrNT7rSXf8XY+\n",
       "Ut/kZGIsLUKuLdAicJCdP1LiLOihTVTFvHRO4gwLlm38k6yHrSAoRZtOeEZuR3xMlkmhpjjIT4oY\n",
       "yM7PdIZNOh/uqNKzPClZDVKdZL0LUp09lC1ngTZYdC6dVazKe2Q6GQt6XhYKz710qlT3bVQddfNF\n",
       "kYesR76tlem8TjePOqjaLLq+ewMiqLJ+LmaCXDoZC3r2AVzy0mntB7r0UEnkQau2ZOR0ic4dVFUs\n",
       "dO0FGm/AFmT/Y7hiCKBcr7Zsglw6GQt6+iCwuu/gcf6lvy3pe2B+rabifYuKHoI6JfKgVSlBuCjR\n",
       "uZUsk44tv+V01+LQLsZzuwGvTJBLJ2NBT8ioSq4y1ZHYuUxSiU7Afl785H2ECVuA6rwZnxc8PmRN\n",
       "QQ1a1ULhIxZQdFXnEBEtOHQ+4nQdAB9AALUC/DJBdn6mk7EM0ZZsj9ETnHvSaGxWIS/qDA9DLinu\n",
       "F60o/XBMEs8ueogny+h8CtoPMZ4fwL9oglzxZCzkSTXjZbz5NmlfmTPYC0A5c6iYF/OeK8JucOUd\n",
       "22eHIdHZSJYpR33yvGsr4FsQdS6CWjJB7rxPcbob2PG198FlcsxGElmGT09s4jpDRDWKOmOwXtEF\n",
       "HrTWpLFuJTp30hPgfH2MmnTaIlSkNgugn1SzDOR+joY53SksEDURpPCG4r5Up6lTjfC7WH0hVFTe\n",
       "qSIPWivioYRD533d3oLsw2pWo9CYSAigWrjAQXb+qmV7X6xIU9VESE44rUZ3ZDKZmJLW8rwhBynu\n",
       "gxjy+jt9X0Qesta1OFr2mtdHMDTTlOKk84TC6ca+nq1PC6CxW1Rt06LOig1LtZzF8uT00C5MVw2E\n",
       "Y+fMeMJBKz4zdMu07H0kWBX7sSxAm+t3tmK2fgY8QXZ+s0XaPWF9qNMYh2pjJ/YpKookRKyu2mQ/\n",
       "IgjnBMHqj3ueOFbXN4EnyM7vPgb5W7bdhPOx4IEiBC5Sho7xkykVLdXbiPRdNVLuJXZSfgobsejK\n",
       "gtyn/GG3x2yE45mMUFgarcxKmbPlbllGUNai+/tdS6LkN+R4OjMEpH8K5FZsKEQ+X2b9AHiAXGPe\n",
       "7fHB/zt+A67vPnirmEHmAAAAAElFTkSuQmCC\n",
       "\" style=\"display:inline;vertical-align:middle;\" /></a><br>"
      ],
      "text/plain": [
       "<IPython.core.display.HTML object>"
      ]
     },
     "metadata": {},
     "output_type": "display_data"
    }
   ],
   "source": [
    "nat_plus_successor = Forall((a, b), Equals(Add(a, Add(b, one)), Add(Add(a, b), one)),\n",
    "                      domain=Natural)"
   ]
  },
  {
   "cell_type": "markdown",
   "metadata": {},
   "source": [
    "### Definition of multi-operand addition:\n",
    "\n",
    "These are conservative extension definitions that are independent of the type of the operands."
   ]
  },
  {
   "cell_type": "code",
   "execution_count": 5,
   "metadata": {},
   "outputs": [
    {
     "data": {
      "text/html": [
       "<strong id=\"empty_addition\">empty_addition:</strong> <a class=\"ProveItLink\" href=\"../__pv_it/axioms/56afd51cfdbb54476fa73af4722d08dbe8b89b2b0/axiom_expr.ipynb\"><img src=\"data:image/png;base64,iVBORw0KGgoAAAANSUhEUgAAAFMAAAAVBAMAAADInc9CAAAAMFBMVEX///8AAAAAAAAAAAAAAAAA\n",
       "AAAAAAAAAAAAAAAAAAAAAAAAAAAAAAAAAAAAAAAAAAAv3aB7AAAAD3RSTlMAdt0yiURmVJnvqyIQ\n",
       "zbvoc3vrAAAACXBIWXMAAA7EAAAOxAGVKw4bAAABEElEQVQoz2MQUmaAAiiLm2EDA3bgis4UZwgk\n",
       "Uim7AwNjAoYqF4kNmErPAvEddJW8BTzaUHnWBLjSNiDOQFeaxMDgB7NVAK50AhBzHkBT+oqBof4A\n",
       "ulL2CyD70B37g4HBvgBdKYcDkGBZgKqSB6Q0AV0p2EA2kNEMTUogoAUK6i9ApQLoSpkKQNwJqKaC\n",
       "lToA5TmUlDQnKSktACvlDAASzB/QHABUGo9hKlgp6wRMb9UXYHeAAqpbGd4xMORjBBYfiMX2AM3U\n",
       "TAaGXowoAIcTOMSQAVMBz2QMpcwgu5kC0JTytEgZYEYsKNFuwpMIkZJLBjTJEJFe+TYwcD8gTinP\n",
       "A5BqrMAJkbemgqmNDNLYVQIAnjw6Z/A04MUAAAAASUVORK5CYII=\n",
       "\" style=\"display:inline;vertical-align:middle;\" /></a><br>"
      ],
      "text/plain": [
       "<IPython.core.display.HTML object>"
      ]
     },
     "metadata": {},
     "output_type": "display_data"
    }
   ],
   "source": [
    "empty_addition = Equals(Add(), zero) # base case"
   ]
  },
  {
   "cell_type": "code",
   "execution_count": 6,
   "metadata": {},
   "outputs": [
    {
     "data": {
      "text/html": [
       "<strong id=\"multi_addition_def\">multi_addition_def:</strong> <a class=\"ProveItLink\" href=\"../__pv_it/axioms/19dad81e29bff71216b0fd7852da1d11baabbfb70/axiom_expr.ipynb\"><img src=\"data:image/png;base64,iVBORw0KGgoAAAANSUhEUgAAAf4AAAAzBAMAAACEQHfIAAAAMFBMVEX///8AAAAAAAAAAAAAAAAA\n",
       "AAAAAAAAAAAAAAAAAAAAAAAAAAAAAAAAAAAAAAAAAAAv3aB7AAAAD3RSTlMAq1RmmUTNIjK7EInv\n",
       "3XZ/CtNrAAAACXBIWXMAAA7EAAAOxAGVKw4bAAAG50lEQVRo3t1bfWgcRRR/udu729vcXQ8KIlbj\n",
       "QbH+0V56aAkkSHPYKmKsPRrBfwINVhD7Tzd/xq+cIiqYNhGFmILNBkHoRcmlVSwF2xSpqa3VKC1C\n",
       "28AFP2OUxtgYm0LPmf26m9mZ+74xdiG3M+/tzM5v5+2b9+a3AShyKKmUBrfokUqlil4TzGbj1d/J\n",
       "n1xNuJWDxnkke704/kQt7riWrKpCYPq4mv2WSbeKwd+QJqqhiBD8ngxP45oWi7+FrG6sP/bD59HP\n",
       "D1z1hFD8viny9esWMPlPoz8v13MHYyLxB0lDlGKOKzrZDTt5lh3j3stqsoj+3FzP7TorEv8DZDXg\n",
       "vKKZ3bCZN3zum2018azg37MFzUMY/nNkdYMA/I26h9vDvWy3Kg5/aIWsd2CXsO6XDAMoR8zF33Pi\n",
       "JTZ+b9NsJOfmnIc3LA5/MEzW8ax0qf4VBlCOmIffMwUjGhP/+F5l2Vx3pBn9IAfhWhGHf4AK/r5D\n",
       "S8DnIE2D0kKN2hCPTdxRIv4PY7CDPf+bNfgaYBM/BLwpDv+dVP00mpMFCKbhwB96fcfMzFczM9+C\n",
       "JY4boHJi8kDzeeW8MZ87AS7nq3JNHga4gZ48f1DvicN/yok/MAjjqOMoNWuGeAn6kqXN/5egLLHn\n",
       "/zJ40ArYxR9UuyoKv/wXOOx/PAPt4MRviNtKxY+M2L0A7m0HZkOtSbKnRZBWzP6Z7z+Mx0ThDy1T\n",
       "gkPo7hG4zaU68Rti+Ky0919ZhIbue9/vigXCoTDZ5B/sGwrBC4RF4fdPOoNvf8Z1QXLOvymWL1Fu\n",
       "8W/8bLrNQp79H4JoPP7cz7AmKaXJJmvhHXOl5Y1q2sCvP4b1BfE36LeMVYofvdRU9omANB3r+dWJ\n",
       "3xT3atT8X8ADiZuFPPyj8683JaEJ+iEYIZuMfozHe5E/qsYFA/9D+PRMQfwSNgFvxTn7OB2FB+31\n",
       "MMpc6H1xn1pO/HcG5qBPZvTkm+aPyr1k4H8ZXzdYEL+MbaS38uWfDlZzaUmUmej0vvGqVkb+41tA\n",
       "FtAqMXqSCtisfNPAj3PExkjh938vOh+pGP9mR+9D5vn5fSdYDb7JZsva5ggj++35jaEpNGfKNQO/\n",
       "Gz0jbxH/dz86V56ztzv2/g4L2ucbKqT80/T/KJQ6VwR/AEVc6YpHcdXhOXwZIfBDBV3WdRP/IwAH\n",
       "i+CXkuDXKh7GSQ1W4/GFib8HfFRo9GJHwn0qHz+6oKfcoO9Zu7hzdeKfMfH7tca8EEeeHU64wsfh\n",
       "USL+OQiflNv9Ort096qED1dM/K5MvvvbjpyVa6sEaQJ/c/nu78z/BT90bwU7hwjhFdP1ypMZEr/X\n",
       "jTyWcnTecihjWz91dkgI5ZuzGt/+VagTB+IrWWjbPxxBy7uVQ+grkyt5/B4Sf+MGhOEjdcAcs/K9\n",
       "vOxcUAlh6FLIinJOOpBi/qM+HAiT8mDzIJb/gxeQ+7NyiE4DvxQaJPD7sDvcjsJsIzSX4vIk7PqR\n",
       "zIx0YS69iLmtV+aqY/3fCHXjQGjKg8+DnLLwN+DxmTlEy/DwcMSVVNLdZP53u75tMQtyFOMPJJCp\n",
       "TCoLZJqTCOWtI4GkFObFP5j/qBcH4qA8uDzINSL/NXOIN435h10ZR/6rLMPbKQjirsZVf5umymRe\n",
       "qwu3rN+y6xiurYGAZeCb6Qwah+XVcyBshZ1bFONBlBv5+K0cQg9z3AnITWUu/5+Sl9ow/jEIqAOd\n",
       "GvgTqKikrR9d2DwYSCDLHkPX2Y92gIYagFpwIBzFWVLL5UGs/IfMIXzv4vwcpcMM/E/cNx/D+Psj\n",
       "nm3NR/XAsT8iT0G/in8MoT/5ATyoyx+3LWgN/fQ3QC04EI5iD6nl8iCuReb+z9jwcKLQ/g+2f8Ow\n",
       "G7WMVcSHUQoivzYdy5cjGf2qd0AtOBBbQXIgE6SWy4MYu3Ll7n/Jvx8Bj+FN9mWnrSI2IKM0Cj9B\n",
       "k5onx/51kjFF1XMgtoWTHEgLtaOY40HIo2Gh0v0/N6vo5l2CKhT9hfd/a8CBWAqKA9lEark8iLEr\n",
       "J2T/e5ESnIaqOZA8BcWBDJBaLg/SlxGFn8V/1IADsRQUB9JFark8iDj+Ax5j23+VHIipoDmQKNlb\n",
       "Hg9CHneBMPy7qS4OQS04EAs/xYG0ks24PIhA/jNIBQATUAsOxFJQHEgHqeXxIG6B/De9AOyHWnAg\n",
       "NtNBciAXKS2HBwkK/P6B/v4F8x/VcyCkwuJAbMqjCA8i8vsXaNccOUr1HAihsDkQO68qwoO8BQLx\n",
       "e6nN8yGoGwfCpDycQs+KSPzyFLUpAXXjQIZKE1p0qaDvX+eoDblMvTgQJuXBEIr9/pX+/vk/Pzzd\n",
       "peNvq8X/Pzy1uvC/ZkBKpeaK478V//9hr3EeyV7/F930XGzBPok0AAAAAElFTkSuQmCC\n",
       "\" style=\"display:inline;vertical-align:middle;\" /></a><br>"
      ],
      "text/plain": [
       "<IPython.core.display.HTML object>"
      ]
     },
     "metadata": {},
     "output_type": "display_data"
    }
   ],
   "source": [
    "multi_addition_def = \\\n",
    "    Forall(m, Forall((a_1_to_m, b), \n",
    "                     Equals(Add(a_1_to_m, b), Add(Add(a_1_to_m), b)).with_wrap_after_operator()),\n",
    "           domain=Natural)"
   ]
  },
  {
   "cell_type": "code",
   "execution_count": 7,
   "metadata": {},
   "outputs": [
    {
     "name": "stdout",
     "output_type": "stream",
     "text": [
      "These axioms may now be imported from the theory package: proveit.numbers.addition\n"
     ]
    }
   ],
   "source": [
    "%end axioms"
   ]
  },
  {
   "cell_type": "code",
   "execution_count": null,
   "metadata": {},
   "outputs": [],
   "source": []
  }
 ],
 "metadata": {
  "kernelspec": {
   "display_name": "Python 3",
   "language": "python",
   "name": "python3"
  }
 },
 "nbformat": 4,
 "nbformat_minor": 0
}