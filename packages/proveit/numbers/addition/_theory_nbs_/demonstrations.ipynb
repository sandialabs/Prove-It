{
 "cells": [
  {
   "cell_type": "markdown",
   "metadata": {},
   "source": [
    "Demonstrations for the theory of <a class=\"ProveItLink\" href=\"theory.ipynb\">proveit.numbers.addition</a>\n",
    "========"
   ]
  },
  {
   "cell_type": "code",
   "execution_count": 1,
   "metadata": {},
   "outputs": [],
   "source": [
    "import proveit\n",
    "from proveit import defaults\n",
    "from proveit import ExprTuple, ExprRange\n",
    "from proveit import a, b, c, d, e, f, g, k, l, m, n, x, y, A, B, C\n",
    "from proveit.core_expr_types import a_k\n",
    "from proveit.logic import Equals, Forall, InSet, NotEquals\n",
    "from proveit.numbers import Less, greater, LessEq, greater_eq, Neg, Exp, Mult, Div, frac\n",
    "from proveit.numbers import zero, one,two, three,four, five, six, seven, eight\n",
    "from proveit.numbers import Integer, Natural, NaturalPos, Real, RealPos, RealNeg, RealPos, RealNonNeg, RealNonPos\n",
    "from proveit.numbers import Add, Complex, Neg, subtract, num\n",
    "%begin demonstrations"
   ]
  },
  {
   "cell_type": "markdown",
   "metadata": {},
   "source": [
    "## Basic addition with numerals"
   ]
  },
  {
   "cell_type": "code",
   "execution_count": 2,
   "metadata": {},
   "outputs": [
    {
     "data": {
      "text/html": [
       "<span style=\"font-size:20px;\"> <a class=\"ProveItLink\" href=\"../../numerals/decimals/_theory_nbs_/proofs/add_2_5/thm_proof.ipynb\" style=\"text-decoration: none\">&nbsp;&#x22A2;&nbsp;&nbsp;</a><a class=\"ProveItLink\" href=\"../../numerals/decimals/__pv_it/theorems/761f991852148979b5d4e9db838fa371a3f0876a0/expr.ipynb\"><img src=\"data:image/png;base64,iVBORw0KGgoAAAANSUhEUgAAAGIAAAAVBAMAAABPrCZEAAAAMFBMVEX///8AAAAAAAAAAAAAAAAA\n",
       "AAAAAAAAAAAAAAAAAAAAAAAAAAAAAAAAAAAAAAAAAAAv3aB7AAAAD3RSTlMAInZUiRDNmWbv3US7\n",
       "qzJazP2FAAAACXBIWXMAAA7EAAAOxAGVKw4bAAABd0lEQVQ4y2NgYBBgwA5wiTMwGWCK8TEwBDJs\n",
       "whCWCABTJgwM4mXnUKU4v2UtZWBqQNdh/////wkMrAkMjAcY/DegSHHNXwI0LhVdh095eZUBA3sD\n",
       "A68AA+cEiNgOCMULJtvRdTgAnQN0ABB9ZeD9CBEzQtbBGYCmA+jjCwwMZkD5BQy8/7DoYMPwCAPL\n",
       "AwaGEojDP6DqaPIFSrFcwNAhA8QZYNZ7BRQdPAGMvxkYOBJAbPZVYADRfRuIF4NZaxlQdADBKQYG\n",
       "5gnoVjCCRGaDzTkAIqtWrZq5ahVUc70AA98HDG8kwHT0MqDacQyo4wEDN4YdXAegrmJ2YBBE0TGL\n",
       "geE+UHgBuj/iQeQhIH7CwKCKogMYVXOAPj+Absf+AiDhC/TP8vLyBSg6xBmYpgJNd8BIWCCRV0DX\n",
       "ARNYAooOxvLrwPjm2oCuQxKUzrkeIAsZIXOksGcPjgJk3g5kTgWOHHUQV1ZjPIBDIgaXDh5c2ZZR\n",
       "AYeEInZhAPH2VccOt/+dAAAAAElFTkSuQmCC\n",
       "\" style=\"display:inline;vertical-align:middle;\" /></a></span>"
      ],
      "text/plain": [
       "|- (2 + 5) = 7"
      ]
     },
     "metadata": {},
     "output_type": "display_data"
    }
   ],
   "source": [
    "Add(num(2), num(5)).evaluation()"
   ]
  },
  {
   "cell_type": "code",
   "execution_count": 3,
   "metadata": {},
   "outputs": [
    {
     "data": {
      "text/html": [
       "<span style=\"font-size:20px;\"> <a class=\"ProveItLink\" href=\"../__pv_it/demonstrations/97c6a1907476c7d5296a6208d4a39bed253c4b740/proof.ipynb\" style=\"text-decoration: none\">&nbsp;&#x22A2;&nbsp;&nbsp;</a><a class=\"ProveItLink\" href=\"../__pv_it/demonstrations/8f6c0bfac979cb082c33f5c41a915a2e02406a820/expr.ipynb\"><img src=\"data:image/png;base64,iVBORw0KGgoAAAANSUhEUgAAAHIAAAAVBAMAAABoAqesAAAAMFBMVEX///8AAAAAAAAAAAAAAAAA\n",
       "AAAAAAAAAAAAAAAAAAAAAAAAAAAAAAAAAAAAAAAAAAAv3aB7AAAAD3RSTlMAInZUiRDNmWbv3US7\n",
       "qzJazP2FAAAACXBIWXMAAA7EAAAOxAGVKw4bAAABTklEQVQ4y2NgYBBgwA8YcUkwGRDQya2AQ8IE\n",
       "yXSXmg3o0s8ZGDQwNfEtZWBgTUDwwxmYP6OrWcvAwBaALhhb9pWBgb0BIaBvwPoN6kKYKBNQJ0cB\n",
       "pheBOjmR+Ds3MEB1MsP89iIXSEzFqtMMRYT5B5pOB5DODKw6S1BEdjWg6mQSAOn0xaoTxbxHdx+g\n",
       "6pRgAOlsA7OrVoHAWrjOxaiu/Yyq0wGs0xKrnbOBdBjYtHUgofnAGGBftWrlrFWrLgBDVQCs8z1O\n",
       "nTDwjoHhvAGynUIMYJ07sepEdu3/ADSde+/e/XmFgcEKqz8PIemcC3EtcqyAxBh6sNqJHOIdmPHJ\n",
       "8IcBPeZAgOUjA8Mr5FxRDkvxcJ01/y8xMKxG18h789sNBq4H2DIQM3LOYlyANZNhSc7IKR4EkDMF\n",
       "MjjIQAjI4BCPIagTl9mMCgQ0MmEvqAC9+VwZiT0CZgAAAABJRU5ErkJggg==\n",
       "\" style=\"display:inline;vertical-align:middle;\" /></a></span>"
      ],
      "text/plain": [
       "|- (-3 + 4) = 1"
      ]
     },
     "metadata": {},
     "output_type": "display_data"
    }
   ],
   "source": [
    "Add(num(-3), num(4)).evaluation()"
   ]
  },
  {
   "cell_type": "code",
   "execution_count": 4,
   "metadata": {},
   "outputs": [
    {
     "data": {
      "text/html": [
       "<span style=\"font-size:20px;\"> <a class=\"ProveItLink\" href=\"../__pv_it/demonstrations/2458ac7dd8970e503ec881039c3a1c76216456200/proof.ipynb\" style=\"text-decoration: none\">&nbsp;&#x22A2;&nbsp;&nbsp;</a><a class=\"ProveItLink\" href=\"../__pv_it/demonstrations/0768ef11b6aec68a323a5c5feda875043acfbfbd0/expr.ipynb\"><img src=\"data:image/png;base64,iVBORw0KGgoAAAANSUhEUgAAAIAAAAAVBAMAAAB8u/sIAAAAMFBMVEX///8AAAAAAAAAAAAAAAAA\n",
       "AAAAAAAAAAAAAAAAAAAAAAAAAAAAAAAAAAAAAAAAAAAv3aB7AAAAD3RSTlMAInZUiRDNmWbv3US7\n",
       "qzJazP2FAAAACXBIWXMAAA7EAAAOxAGVKw4bAAABgElEQVQ4y3WUMUgCYRTH/3dgaYUe0dDQ4NgS\n",
       "NYigi25N0k1NQo4SSA5CS8NNTq5NEgUuUdQaDg26tkgETYZb4eIgDkFQ73sXpe999+A+vnv87nfv\n",
       "fd99B8CDPRxb0tOIuxchWE3rnIAZyQAb+08KfQe2tSAzNx/7jMQqiNVRUGXcAUu+TBL8N3098RlZ\n",
       "DuBOcVSRtZIgXpcCgv9j12ckQZ20kZKCjxoN51KQgBAQkuWbQiDQohFUpSCrBFU0eDWvZQeeEZSk\n",
       "oKEEJX5LcudNkJswgib3fcMxgCyJBU10whbELhRZkJMVdJQgh3a4OjMaDvlV9zSLeyyYSAHBsWOm\n",
       "Rr+CicklR1ibLoDrYEHXIhAVdE1VqZkUPA6Hny9AXq6BbiGPPtU/CFtYiAu6WjLZV4KW2ap4oL8D\n",
       "fMldg9zXA4+RMY0Pp+ownX0/A7cyO56bDy9rgUFWRogK50pmFEyIPjH2o8OhYIP0IgVbOtWzIOVI\n",
       "gUVdtiBOOuJ51/KzFDAhP1a0YulYp9T7AAAAAElFTkSuQmCC\n",
       "\" style=\"display:inline;vertical-align:middle;\" /></a></span>"
      ],
      "text/plain": [
       "|- (3 - 4) = (-1)"
      ]
     },
     "metadata": {},
     "output_type": "display_data"
    }
   ],
   "source": [
    "Add(num(3), num(-4)).evaluation()"
   ]
  },
  {
   "cell_type": "code",
   "execution_count": 5,
   "metadata": {},
   "outputs": [
    {
     "data": {
      "text/html": [
       "<span style=\"font-size:20px;\"> <a class=\"ProveItLink\" href=\"../__pv_it/demonstrations/1bde863fb074d3151b94f86fb233f32f5a764b310/proof.ipynb\" style=\"text-decoration: none\">&nbsp;&#x22A2;&nbsp;&nbsp;</a><a class=\"ProveItLink\" href=\"../__pv_it/demonstrations/364de0b75984162139c684ef225e531a737bc70f0/expr.ipynb\"><img src=\"data:image/png;base64,iVBORw0KGgoAAAANSUhEUgAAAJAAAAAVBAMAAABbFXrgAAAAMFBMVEX///8AAAAAAAAAAAAAAAAA\n",
       "AAAAAAAAAAAAAAAAAAAAAAAAAAAAAAAAAAAAAAAAAAAv3aB7AAAAD3RSTlMAInZUiRDNmWbv3US7\n",
       "qzJazP2FAAAACXBIWXMAAA7EAAAOxAGVKw4bAAABkklEQVQ4y4WUv0vDQBTHX1prG422gzg5dHQR\n",
       "Mohgl4IUnARXoZDiFBwkQ6GgSyYnhy6dsgRcRBHcxM0WNxf/gpLZRaEUBBfz7kL67t3R3JLkw/f7\n",
       "vffuRwCgAcuHZYINXVJyC4LWmzpjJiHZX3xvHX8wgyC7ehAxQaeToKTSy0klgLY6kySrpzyHmGD7\n",
       "eSNGSTVc1DsDr6d2IEgt4EHEBOfgvKHEJp1GUFeDMjLiQcRUnovHCA4URTvkHiQ+h8TkDMXDh75S\n",
       "wb22ZUhOOCUm+/LoWkjobJt7U+aQ5Ea8Xz3geJLz56Pug+2i5E5tRDtUSA45JCbvB6ojlETpZl6I\n",
       "uRIsFJeOfEvyzYOIyYuh9oeSiPSRgDNTO5Pk1RCUt5Yej1+UkCrrcx6UkRZfI2JyZEUtmJAN+JSt\n",
       "aeSWV0RM5XSNhighW1sL+TnKSJ8H0fPwDmcuSr4IexnwSyvJIw+ippXBVEjWEigaVsyJZkol+o2E\n",
       "ZVc0azkwSMaFQTs6Ghsk3cIgw1Rdg8RqFuSUDD91Zkol/0sscfgZgWC6AAAAAElFTkSuQmCC\n",
       "\" style=\"display:inline;vertical-align:middle;\" /></a></span>"
      ],
      "text/plain": [
       "|- (-3 - 3) = (-6)"
      ]
     },
     "metadata": {},
     "output_type": "display_data"
    }
   ],
   "source": [
    "Add(num(-3), num(-3)).evaluation()"
   ]
  },
  {
   "cell_type": "code",
   "execution_count": 6,
   "metadata": {},
   "outputs": [
    {
     "data": {
      "text/html": [
       "<span style=\"font-size:20px;\"> <a class=\"ProveItLink\" href=\"../__pv_it/demonstrations/32429f84bcb88cad1f7f35d52edf0ae960a64e910/proof.ipynb\" style=\"text-decoration: none\">&nbsp;&#x22A2;&nbsp;&nbsp;</a><a class=\"ProveItLink\" href=\"../__pv_it/demonstrations/69c191779b413d33d84a2df73bc7ea5ccd7ac0080/expr.ipynb\"><img src=\"data:image/png;base64,iVBORw0KGgoAAAANSUhEUgAAAG0AAAAVBAMAAAC+p33JAAAAMFBMVEX///8AAAAAAAAAAAAAAAAA\n",
       "AAAAAAAAAAAAAAAAAAAAAAAAAAAAAAAAAAAAAAAAAAAv3aB7AAAAD3RSTlMAInZUiRDNmWbv3US7\n",
       "qzJazP2FAAAACXBIWXMAAA7EAAAOxAGVKw4bAAABjUlEQVQ4y4WUPUjDUBDH/zGNbdqm1ElwioOL\n",
       "SzOI4FZQcJK+TRSHLoIIoogY8QO66SLUWaQFB0EoBDedorOomzgUgzh18ANRHMT4ktbWd23iQeBx\n",
       "9//d3bt7BEAaYRYY7TJCuZOgwBD/agzoXb0iEWls00JXoY0wt7hcyUO5XWSQbOQsMT4J+Q2Ypdi0\n",
       "ntoDol6+DIOWhloUBRlD+QC2KXcHXAIq6pz6Du1VFJxa4JzKCMd9OYbhBqeVoX3T1PIn0E0uqHxx\n",
       "vYWVBsct/kK5M85EbjrUK2CuxT3rRPFQdYBY3juuH3tWadzvWsdhi6u0Tdybp0ymhSkrdW9gv8lF\n",
       "bb/9eT+zU9eUGFK0e2V5NOP84XZptSfekIFEsf2t8Hk2+5Sz6BGjLvM4uUzuB39/F7/cIzAgcgd+\n",
       "nzGbFBthCl/YhF83DenINMuiYMffXzRLuEGW5Oup8VO1tFCIu66bFwUJk79rxMmrRWR8w1u2g3Dr\n",
       "6+yOLf3DrQX4z8MxyQ4IzIRzyaAfhaSHcv2d3T9maGiTnk22iAAAAABJRU5ErkJggg==\n",
       "\" style=\"display:inline;vertical-align:middle;\" /></a></span>"
      ],
      "text/plain": [
       "|- (12 - 3) = 9"
      ]
     },
     "metadata": {},
     "output_type": "display_data"
    }
   ],
   "source": [
    "Add(num(12), num(-3)).evaluation()"
   ]
  },
  {
   "cell_type": "code",
   "execution_count": 7,
   "metadata": {},
   "outputs": [
    {
     "data": {
      "text/html": [
       "<span style=\"font-size:20px;\"> <a class=\"ProveItLink\" href=\"../__pv_it/demonstrations/a8dfb84b648087bbf3dfd7519d021dbf6db2991f0/proof.ipynb\" style=\"text-decoration: none\">&nbsp;&#x22A2;&nbsp;&nbsp;</a><a class=\"ProveItLink\" href=\"../__pv_it/demonstrations/a2240caeb2c7ff7cdd5d96286fa2df973f2378ac0/expr.ipynb\"><img src=\"data:image/png;base64,iVBORw0KGgoAAAANSUhEUgAAAHUAAAAVBAMAAACK3rzVAAAAMFBMVEX///8AAAAAAAAAAAAAAAAA\n",
       "AAAAAAAAAAAAAAAAAAAAAAAAAAAAAAAAAAAAAAAAAAAv3aB7AAAAD3RSTlMAInZUiRDNmWbv3US7\n",
       "qzJazP2FAAAACXBIWXMAAA7EAAAOxAGVKw4bAAABP0lEQVQ4y2NgYBBgwAMY8UkyMBngk+VWwCdr\n",
       "AsSvAhgYWJwK0aVAwhqYOkDCYII1gYH1ej6QkcwQhep6iDBbAJpOsDBEjr0ByNcPYOBYwMByAOrO\n",
       "BqgyoDADRwGGvSBhMMEJ5fFcYGD+CpFjVkBWNBW3XjMoj7+Age8zNr0ZuPWWQHnxQL0/sOn1xa03\n",
       "A8qTd2Dg+4RNbxuYWbUKBNai6l2MpPcLNr2WuO2dDXOzAwM3yF72VatWzlq16gJc0XvCeoFhxYw1\n",
       "rHbi1gtzM88BBg6scWSF27+HoDyOCQzsCdj09uC2FxwF/gIgB0Q+QNMLEoZEIgoAC4OIV0D67vzc\n",
       "BoZwp3sMqHrBwgyr0bWChcEE1wMMc5mR8x3jAtxZEEtah+cFEGBvwJN/D+ItGRhk8EnG4NeL12hG\n",
       "vKUKE57SDADvUmD+bShnHwAAAABJRU5ErkJggg==\n",
       "\" style=\"display:inline;vertical-align:middle;\" /></a></span>"
      ],
      "text/plain": [
       "|- (10 + 1) = 11"
      ]
     },
     "metadata": {},
     "output_type": "display_data"
    }
   ],
   "source": [
    "Add(num(10), num(1)).evaluation()"
   ]
  },
  {
   "cell_type": "code",
   "execution_count": 8,
   "metadata": {},
   "outputs": [
    {
     "data": {
      "text/html": [
       "<span style=\"font-size:20px;\"> <a class=\"ProveItLink\" href=\"../__pv_it/demonstrations/458496d37b9e0351f379aae35eb0c6a43997bd9e0/proof.ipynb\" style=\"text-decoration: none\">&nbsp;&#x22A2;&nbsp;&nbsp;</a><a class=\"ProveItLink\" href=\"../__pv_it/demonstrations/95a7ff00c1beb75431ac50b210657dc5991bc48b0/expr.ipynb\"><img src=\"data:image/png;base64,iVBORw0KGgoAAAANSUhEUgAAAHYAAAAVBAMAAABh6QfWAAAAMFBMVEX///8AAAAAAAAAAAAAAAAA\n",
       "AAAAAAAAAAAAAAAAAAAAAAAAAAAAAAAAAAAAAAAAAAAv3aB7AAAAD3RSTlMAInZUiRDNmWbv3US7\n",
       "qzJazP2FAAAACXBIWXMAAA7EAAAOxAGVKw4bAAABqklEQVQ4y32UMUjDQBSG/zatSW1j4+Qi2EHB\n",
       "TRERdCrFVZqtKEICLi5ihWLBKZOTQpcudjAoIkYKXd2ik5N0ESelg4sFqbYWCkLrpUlre0nv4ODu\n",
       "vffde/fevQMggTF8LCX8iyxtOMbSLpNZlQE++0yrLPG8C5g6fAICiQMgqCL4si8jeIGP4ei7YozJ\n",
       "9C1MJEvYwZYEXiP7BRliDhHTiVNzzIgYQppiRQmhnKAjYCLkGEVVBJq2losNsMhTbKgJ8TtSBtfE\n",
       "imOkmPD/erG7tF8dYjuaxkQDmQG/LS92w53e8S+FsC37WOe+dS/2uLs8MqxRtOW12EwcE3VcOkbB\n",
       "Aj4bXuyq228RFvuDQs8oNbvUJkveMG7ODKPcZ2sulDehxBGu/7MYkec7F3sKkFxxjX7MZPTqO8yu\n",
       "0ffl4pgkpkITD44Rl4dS8WJPaLfvwJyQA6/aJUhK8F/hERSbtB5phn6T19msTsLdrKBKtq/nexrW\n",
       "syWK7YpxSxe30+moSCXeyLLiygU32Hc+fXQLut76QC90C6Ix+vee+TNgmqXcZrPMo33MX8XP+M3+\n",
       "AKXFc+jFiLISAAAAAElFTkSuQmCC\n",
       "\" style=\"display:inline;vertical-align:middle;\" /></a></span>"
      ],
      "text/plain": [
       "|- (19 + 1) = 20"
      ]
     },
     "metadata": {},
     "output_type": "display_data"
    }
   ],
   "source": [
    "Add(num(19), num(1)).evaluation()"
   ]
  },
  {
   "cell_type": "code",
   "execution_count": 9,
   "metadata": {},
   "outputs": [
    {
     "name": "stdout",
     "output_type": "stream",
     "text": [
      "Evaluation of 19 + 10 under assumptions {} is not known\n",
      "because multi-digit addition is not implemented beyond adding 1\n"
     ]
    }
   ],
   "source": [
    "# multi-digit addition is currently only implemented for adding 1.\n",
    "from proveit.logic import EvaluationError\n",
    "try:\n",
    "    Add(num(19), num(10)).evaluation()\n",
    "except EvaluationError as _e:\n",
    "    print(_e)\n",
    "    print('because multi-digit addition is not implemented beyond adding 1')"
   ]
  },
  {
   "cell_type": "code",
   "execution_count": 10,
   "metadata": {},
   "outputs": [
    {
     "data": {
      "text/html": [
       "<span style=\"font-size:20px;\"> <a class=\"ProveItLink\" href=\"../__pv_it/demonstrations/321f9781a4ca721a9a314fdf69813472afe4b0f00/proof.ipynb\" style=\"text-decoration: none\">&nbsp;&#x22A2;&nbsp;&nbsp;</a><a class=\"ProveItLink\" href=\"../__pv_it/demonstrations/e78b51e512894feab350d881407908c75de7f0010/expr.ipynb\"><img src=\"data:image/png;base64,iVBORw0KGgoAAAANSUhEUgAAAHgAAAAyBAMAAABliQLrAAAAMFBMVEX///8AAAAAAAAAAAAAAAAA\n",
       "AAAAAAAAAAAAAAAAAAAAAAAAAAAAAAAAAAAAAAAAAAAv3aB7AAAAD3RSTlMAuzKrZonNIu/ddhCZ\n",
       "VERetuGgAAAACXBIWXMAAA7EAAAOxAGVKw4bAAACRUlEQVRIx5WWQUsbQRTHX7Imu4nGhN56y8WD\n",
       "JwMtaKEQoSDest9gKx6LND2VQg9KKbEnA/HgUovpuYdsKfSaeAkKC3oR7Cmeek0QUTC0cXdnEsLO\n",
       "ezPjg2SWffllZv5v3psHEFiiCBL76cm88FzqTX6VeQ07/F70KO6PDF4LPrMv34rwr+4wHFIlmjVr\n",
       "0dBCZs5GMOzTcKapgi9pydZBBac7JPxZCc/fUSz/gQyGTXLLJTXcoza9VFTD7SYBr4AaTtQJ+JMG\n",
       "PEMolrzRgGdvCLHHf+pURWfqLra8mCW22fhsb3NVyJiVW55wT3HYKoCGOXjGtTs6cOUKzbglMYTz\n",
       "q+JhaKJi9s6F1znxl8j6QrhS1IHzJRRuVbXgAgo7ng5svY6GUze0xgQ+04IzdXTmMnschTYIHuZc\n",
       "9+CL64Z7zEcvGbwtg1Uz4/Cjlh3fs1N9hGBCqLTibJXQjNM8JB0043r8yH/sPhFg09/gf9228frH\n",
       "ssAsgHMVT4x3kPpPJsbUgowqWEI4lgF2ee09x8s209EagiFUuT0PyiwYSAZEU7L5jDoY13Hfi+AM\n",
       "sU2X8RoxM5ysYYC4j9iwQ5Tef5JqAcl7Jue9ouhDg77IqKIPJ3ycw8roMYwVwa3Pw/sKE4Sfyjx1\n",
       "0WVYoHM2vBd8F2BGMapQVyyXewHghyCXDVmPkmOqrTAPfV/Y2AffP5W3FWxNmaDgCDl7NBrdRvcZ\n",
       "3YilbdVl06dbqWRNBX+T+L4rWFn7yBtX2v5KvVvylvmN1C1v1n+Tcj0AIxC9MOB9oHoAAAAASUVO\n",
       "RK5CYII=\n",
       "\" style=\"display:inline;vertical-align:middle;\" /></a></span>"
      ],
      "text/plain": [
       "|- ((1 / 2) + (1 / 2)) = 1"
      ]
     },
     "metadata": {},
     "output_type": "display_data"
    }
   ],
   "source": [
    "Add(frac(one, two), frac(one, two)).evaluation()"
   ]
  },
  {
   "cell_type": "code",
   "execution_count": 11,
   "metadata": {},
   "outputs": [
    {
     "data": {
      "text/html": [
       "<span style=\"font-size:20px;\"> <a class=\"ProveItLink\" href=\"../__pv_it/demonstrations/cc2717a134082a3cadb5ec3a0e922a53d52a91000/proof.ipynb\" style=\"text-decoration: none\">&nbsp;&#x22A2;&nbsp;&nbsp;</a><a class=\"ProveItLink\" href=\"../__pv_it/demonstrations/09f376210d59c34d7c931fb1801ed0a09ed2f1980/expr.ipynb\"><img src=\"data:image/png;base64,iVBORw0KGgoAAAANSUhEUgAAAHcAAAAyBAMAAACUgllmAAAAMFBMVEX///8AAAAAAAAAAAAAAAAA\n",
       "AAAAAAAAAAAAAAAAAAAAAAAAAAAAAAAAAAAAAAAAAAAv3aB7AAAAD3RSTlMAuzKrZonNIu/ddhCZ\n",
       "VERetuGgAAAACXBIWXMAAA7EAAAOxAGVKw4bAAACP0lEQVRIx52WwUsbQRSHX7LRZNVNxJ6kIHux\n",
       "0FOC9aAgKAjSWwJeCwn0aMW9lF4KFqRaKGhADy70kNJjD+Y/SE6lQsCcvSSHHgtqWylkjTY7swlJ\n",
       "9v1mQueQDPny7bydmfdmiDotYhNqk49J0xYV7GlZ7Ro5hWcVWfb6xZzsbPABr+yIQTdZWKVG3e/E\n",
       "D0BEZ0I21xg00aZKQdCSUrY+Mih5SCkhPyelTK942hARvdfIVw4HkycifE8jj2cYFv2yIF45o5Et\n",
       "/ulittO2Rp5ssTThP3OJNDLNMlHbFGl3vve0cjY8YylPyNE/WrkS3iaJjAh74i+U807vn8MttibW\n",
       "OfIOuc+OXsohI0xu/Kz5iZGY1qbe2DUilWp/CrEtdo9IujQ4O/QjvC4tJMu07JMvw8l7h+SsrZXp\n",
       "N1xMRy/fwMUs6+V98Tnlita/6BcjyC4aeXVgL5677gfXPfa7D36TK3wasgK4SvqRT9HIo4fNvHPe\n",
       "GXXCuKWyBx/CyXuaTdJLIU6GO6zRHPqhJ7/9NhNsz9uwJmF6uEx0EyM+TfkmSowApqro7HQoIQuF\n",
       "1UbQLAC5U6MMWaKYShVAA5Uho0jGL9m7RjDm4VPflFa3UoVhtI3loMrsliDERZ+OYdHvwu/QnQrC\n",
       "Xcbwqonk9eC7haGJFtrK0RtReT0M4XTPE32FB3gXgmtF/FOtVkTXih7M8meF2Sk0Yvc9UsHxnPJ+\n",
       "mPRUNHqglM26En9W0s3/u7jKqAuaK/O2gj3RXJmVl/UthfcPzwrDzTp/yIwAAAAASUVORK5CYII=\n",
       "\" style=\"display:inline;vertical-align:middle;\" /></a></span>"
      ],
      "text/plain": [
       "|- (1 + (1 / 2)) = (3 / 2)"
      ]
     },
     "metadata": {},
     "output_type": "display_data"
    }
   ],
   "source": [
    "Add(one, frac(one, two)).evaluation()"
   ]
  },
  {
   "cell_type": "code",
   "execution_count": 12,
   "metadata": {},
   "outputs": [
    {
     "data": {
      "text/html": [
       "<span style=\"font-size:20px;\"> <a class=\"ProveItLink\" href=\"../__pv_it/demonstrations/4071588e84fd72f121b8727f56c343a1710626e00/proof.ipynb\" style=\"text-decoration: none\">&nbsp;&#x22A2;&nbsp;&nbsp;</a><a class=\"ProveItLink\" href=\"../__pv_it/demonstrations/1fc91a214ed10ec9ac5dc8a83e304d9a484446270/expr.ipynb\"><img src=\"data:image/png;base64,iVBORw0KGgoAAAANSUhEUgAAAHcAAAAyBAMAAACUgllmAAAAMFBMVEX///8AAAAAAAAAAAAAAAAA\n",
       "AAAAAAAAAAAAAAAAAAAAAAAAAAAAAAAAAAAAAAAAAAAv3aB7AAAAD3RSTlMAuzKrZonNIu/ddhCZ\n",
       "VERetuGgAAAACXBIWXMAAA7EAAAOxAGVKw4bAAACOklEQVRIx52Wz0sCQRTHxx+lq+V27SIeugSB\n",
       "kgURgXuKbu4fECh4jGgPdelkSEiXEvRQRGD0B2iXrtqtQ1DHOhkEnQILhCIR250flu17M9KAjr75\n",
       "fmbezLy3+wixmydGsHZZJ4q2gA95TxWsz3S+Z+E1HjFqjnWr9ie8sgXDYwkELtPvQJF2NWR3Fdgc\n",
       "YrBWlcIPsH0mR7s1IoXHm6DZZPC+HI58gF5bFA515TDJQcZtZtYSCrgFDZgMjscUcKPqtvktBi8R\n",
       "BewpuW27fDcFFewHTuw5mfxctIO3o4LDHdDsLBoS82YsLIoLoPXd2VGe/U4e5QwEnoaM1/1lQoJT\n",
       "eLrxRMuggkYTGxkkWvoJk8Tdtxgxhs8QkIj4uXeZJqvDMO5cOqaEdex5QGqWGkbPNFNXwsEs7SZO\n",
       "aPvtxp0a1krYyinW9Z32xuY/PuDzCzjvorg8RdQr57GVR3cb2HPGGvXAoKuS3DOfOJj4R5CIRNPR\n",
       "CGvxqN9Zj7pWFrljujEmj7MsCDd/ojxiKHOHy7lPoR5pZEfPHS7XGBI5JHp29PDnct8gAlqGPAj/\n",
       "+mPL/V0xWQU70z3wFebIvT1eP1zMI2zgCyo3mLwgORf0oS/kN+JfsIuULHBGUnmbRok3Rjw9GNaB\n",
       "55+Qa/Si9S4Kp4H3kJCz47aDH3O7DPks5LSs8BvYPYNlxUDO3Hq9jSKvZzAhhXzclNaHbWn16S1K\n",
       "4TN57XkuG0TLx6HCFWkvqpJ5U7KnDRUsKdavZMf1DZt/wCWJBJnMAAAAAElFTkSuQmCC\n",
       "\" style=\"display:inline;vertical-align:middle;\" /></a></span>"
      ],
      "text/plain": [
       "|- ((1 / 3) + 1) = (4 / 3)"
      ]
     },
     "metadata": {},
     "output_type": "display_data"
    }
   ],
   "source": [
    "Add(frac(one, three), one).evaluation()"
   ]
  },
  {
   "cell_type": "code",
   "execution_count": 13,
   "metadata": {},
   "outputs": [
    {
     "data": {
      "text/html": [
       "<span style=\"font-size:20px;\"> <a class=\"ProveItLink\" href=\"../__pv_it/demonstrations/0e164b5bfbc34f38b928c36ce01282cc8212fbbe0/proof.ipynb\" style=\"text-decoration: none\">&nbsp;&#x22A2;&nbsp;&nbsp;</a><a class=\"ProveItLink\" href=\"../__pv_it/demonstrations/5f045493196f2eebd7b18d787f35b7c6d040e2fe0/expr.ipynb\"><img src=\"data:image/png;base64,iVBORw0KGgoAAAANSUhEUgAAAHcAAAAyBAMAAACUgllmAAAAMFBMVEX///8AAAAAAAAAAAAAAAAA\n",
       "AAAAAAAAAAAAAAAAAAAAAAAAAAAAAAAAAAAAAAAAAAAv3aB7AAAAD3RSTlMAuzKrZonNIu/ddhCZ\n",
       "VERetuGgAAAACXBIWXMAAA7EAAAOxAGVKw4bAAAB50lEQVRIx52Wv0oDQRCHJ3fR3CWeBq3E5hoF\n",
       "qwS0UBAiCGKXQB4gAUsVr7MRFEQtLAzaKFjE2kIr26QSi4C+gb6B/xFyRo23p3i4v5ngFMnBx7e7\n",
       "t7M7N0TtiLmEIjVEQowzbPSMd80C4zkVftBZ/YKnlgNe5CAltsGKTgNuTzOQ7CorOzucPEesTIsc\n",
       "3BTkOw/DpC/I3VlmQ7KC7PgYZlxBTjUxnCBBpkEMN0Q57yFoPItybRrB5CuUS+GMVhbB2Dpyx3bn\n",
       "1ZSxCoJWWrx6XfeI1OqRW6KL+DsimWp0dzRhNBG5uRbl1BsieVeU6Qkm05PlB5jMM1neCn57DoP4\n",
       "nfSrDuRDBHKRs3geDL739fjxFSrDB3+sEOZInvkAgc6XrXnnktfphulS5UYH0cWGcEh+rpAu4Am7\n",
       "uUVk9aI/PJ4vCGbQhIk0lW7RxQhhXx19Oz2yVKFwWgjaZSBbPpmqRGkqVQhNVIbMCpmP6ukewbiP\n",
       "U2Qr67tS/YVGC8thlVmrQoiLPu0zRV/BS+j2hMudxPAOnpKZ8L+JoY0S7RRoJai8PoZwu4eJTuAH\n",
       "/BuCtiJx1GhUUFvxA/P6m2y3C01w+gY42F1g+8Nen6PGNivb1yw+Zmnxf42rWnVZaJmXGDYitMxs\n",
       "s77AeJ/m/7dN7Yx8YAAAAABJRU5ErkJggg==\n",
       "\" style=\"display:inline;vertical-align:middle;\" /></a></span>"
      ],
      "text/plain": [
       "|- (1 - (1 / 2)) = (1 / 2)"
      ]
     },
     "metadata": {},
     "output_type": "display_data"
    }
   ],
   "source": [
    "subtract(one, frac(one, two)).evaluation()"
   ]
  },
  {
   "cell_type": "code",
   "execution_count": 14,
   "metadata": {},
   "outputs": [
    {
     "data": {
      "text/html": [
       "<span style=\"font-size:20px;\"> <a class=\"ProveItLink\" href=\"../__pv_it/demonstrations/64e98ea282f2bffac9725ee81ed4f396cb366f0e0/proof.ipynb\" style=\"text-decoration: none\">&nbsp;&#x22A2;&nbsp;&nbsp;</a><a class=\"ProveItLink\" href=\"../__pv_it/demonstrations/535ee34ead7f44c529719b8c4109e1b2234a12040/expr.ipynb\"><img src=\"data:image/png;base64,iVBORw0KGgoAAAANSUhEUgAAAIUAAAAyBAMAAACAOwXCAAAAMFBMVEX///8AAAAAAAAAAAAAAAAA\n",
       "AAAAAAAAAAAAAAAAAAAAAAAAAAAAAAAAAAAAAAAAAAAv3aB7AAAAD3RSTlMAuzKrZonNIu/ddhCZ\n",
       "VERetuGgAAAACXBIWXMAAA7EAAAOxAGVKw4bAAADC0lEQVRIx61XTWgTQRR+m027u/lpiuJBBA2C\n",
       "gl5SWkELQgKKeEug5CJC6s/JH9weVATBQtAWBBOohwYEIx49ZI8ehLQXsbBoLl68JAcPCkKj1gqJ\n",
       "adydmd2SnZ8dwQeZGd588+W9mffezAI4oqSBL/EDICMnhLPHLAkKtQCg2ZdoY25fPOi0ySqfGyMc\n",
       "Oef8FmBsh/JiDdotp59junj6luUjQFtympMAy0FYbADNeac3ckw7GpaPAKPuNBULsmYANPEEUi4i\n",
       "+ZjH4SHgvNvMAmQZp9NGJtzgcfiIh0T3nIZNPEXdpsnlwIhYH6siPQoVeTmN+vEpHgdBGARgsIB4\n",
       "15N9gS8uIkO2YZ2F09HqeI/PgRCnsCZKmxFJgzJAo/0cDg9RxpqPoAV3LtX3OPImm4MgIlv4PwsQ\n",
       "C+aFPkV8gWaOzUEQsd9Icc+2N4KgaI6cvoulpWR6CGURB8dwuE2hvtkkoxRG2s1UruQIQp+UyOyx\n",
       "rnC6uSbBEd0RTmfqlOozfco9IQeOxBH5RBeLP0KOfFqCA34KORqmDMd3IUfJkuF4hNpEDQkVLB+k\n",
       "OGpCO7I4NYauuKONWm25Vltxh0iHI2OVWjf0pUs4wuxYFdrxL77w9qNkyu8p92yl4qP8H2JMHKft\n",
       "Duq04nqH4rj/dg+J9V/sxcUisiCDq8wbSA6COadNQqkjyrk7HRUVlhTO/UYrTtUg1QQdV6hd/hG5\n",
       "BgqqPga6L+FLB7YZF4OKKyUpmAHxrx110dNsUXZUQf2BR8w6pnhLox7ZV1btNvBidsHUL194j7eL\n",
       "uHp8Js2vcg/qLI7UVdBbI+HD3LcV4N9R0OxCAj9N3nmqCp05CeLDLLucV71ivYlC4DDAIbqyniE9\n",
       "OzycJ1AUH4SBAmRoMTiSBbg7su+Bc/HtwIAyy5cjAK+4TxPnL5z9IMeL3lJnGfGhPbPtKv8tBbAP\n",
       "XhPb8+hdZe/mnB8cTqFDUbyXd4Xa02Q0Xgi5KSf6oZdpZCkEYLTCb+QXIfNzkm9+kSvzMt8eN4Wz\n",
       "R2W+PUK+ga6HLf8LLqr5e7AVQjEAAAAASUVORK5CYII=\n",
       "\" style=\"display:inline;vertical-align:middle;\" /></a></span>"
      ],
      "text/plain": [
       "|- ((2 / 3) + (3 / 2)) = (13 / 6)"
      ]
     },
     "metadata": {},
     "output_type": "display_data"
    }
   ],
   "source": [
    "Add(frac(num(2), num(3)), frac(num(3), num(2))).evaluation()"
   ]
  },
  {
   "cell_type": "code",
   "execution_count": 15,
   "metadata": {},
   "outputs": [
    {
     "name": "stdout",
     "output_type": "stream",
     "text": [
      "Evaluation of (5 / 4) + (3 / 2) under assumptions {} is not known\n",
      "because multi-digit addition is not implemented beyond adding 1\n"
     ]
    }
   ],
   "source": [
    "# This one fails because mult-digit addition is not implemented\n",
    "try:\n",
    "    Add(frac(num(5), num(4)), frac(num(3), num(2))).evaluation()\n",
    "except EvaluationError as _e:\n",
    "    print(_e)\n",
    "    print('because multi-digit addition is not implemented beyond adding 1')"
   ]
  },
  {
   "cell_type": "markdown",
   "metadata": {},
   "source": [
    "### `quick_simplification` method\n",
    "\n",
    "The `quick_simplification` method performs simplifications with respect to combining integers and expanding expression ranges in a quick-n-dirty manner that is appropriate for displaying purposes (e.g, expression ranges) where an actual proof is not necessary."
   ]
  },
  {
   "cell_type": "code",
   "execution_count": 16,
   "metadata": {},
   "outputs": [
    {
     "data": {
      "text/html": [
       "<a class=\"ProveItLink\" href=\"../__pv_it/demonstrations/384242558bbf10e06099ee2492a30bad7e0f794b0/expr.ipynb\"><img src=\"data:image/png;base64,iVBORw0KGgoAAAANSUhEUgAAAMUAAAAVBAMAAAAEKDfsAAAAMFBMVEX///8AAAAAAAAAAAAAAAAA\n",
       "AAAAAAAAAAAAAAAAAAAAAAAAAAAAAAAAAAAAAAAAAAAv3aB7AAAAD3RSTlMAInZUiRDNmWbv3US7\n",
       "qzJazP2FAAAACXBIWXMAAA7EAAAOxAGVKw4bAAACh0lEQVRIx42VT2gTQRTGv912myabJsGLIh5W\n",
       "TyJIcxChXgx4KAjB8VipNJdiEQpFxBb/0MWDXjyoIEhVDLQejBSCNw/S6kFRCkotqIfS3BQvKjUB\n",
       "sVTfm91A5+2Q+uBLdl7e/r6dtzMTAAVEsoU17/x3ZTvvFiPJyAEn8dR2mx8kczaCDk04pOW9qYof\n",
       "062zj+CGiZu+APuTKKIMz8jk5BWlCV4lUs+EKMg8nFPAaII2T7VKJpmAMyJ5Ksjd0oRUGCnfnqwf\n",
       "P3qf/rwusnDJo1c+jyZgXdR+BpY0IY1IC+1n6wq2eqSVmcXXcfq4Iz2Y4DcFoQWcUEw4TAPWcVg9\n",
       "ekLhUWKPMenBhO6qSfA2gP46E87TiDW+74PwuFpu0I3vzaxbYI+y9GBCz/LBYmIeIRPGosfyWmqk\n",
       "YFRklfOHWl8xPXaBPa7p64s1jnnEExsZ9X4atfQ+3gVMmKUBqauJdGB2BXhLo5umR0l7DMh5MOWo\n",
       "wm2jdqieWysy4R4NSKkK8iX6qtUez9RqcYOmC8j9wNZsb0F7fJceTLkA/DII3rlj/Q0mxB6ZEhbM\n",
       "br4ijwZ8cx47oD2e2Tzm4K/LTtC6IkLcK9oe08qooF27RqOq4fF8dfX3CnBEvo9ZvT1STemxpAkv\n",
       "6YqUb3h3Zedxn5qzKNYuHpBuyHkwZRNDoVE7oLxNTShHS7EvzE6YtJ1waaulStJjI16qRjDlE16b\n",
       "tQdUNtSEbzQgeStTYg86kx+peZm68Lj8dxl4Ij2YcnpQ7NfuwUvQhAxtNBbkPo9ity3ryDN6GwKf\n",
       "b8YZ5xvH+ZQtm0qc+NsQXsSyhrNoy+5JpjoThmNZI2v9C7UAOxOcIJI19tqSrsW4E+EfDC+r3Q0j\n",
       "yfkAAAAASUVORK5CYII=\n",
       "\" style=\"display:inline;vertical-align:middle;\" /></a>"
      ],
      "text/plain": [
       "((b + 5) + 4) = (b + 9)"
      ]
     },
     "metadata": {},
     "output_type": "display_data"
    }
   ],
   "source": [
    "Add(Add(b, num(5)), num(4)).quick_simplification()"
   ]
  },
  {
   "cell_type": "code",
   "execution_count": 17,
   "metadata": {},
   "outputs": [
    {
     "data": {
      "text/html": [
       "<a class=\"ProveItLink\" href=\"../__pv_it/demonstrations/f550d56b515e145e8e6d71307b2e1185bb6cbcb10/expr.ipynb\"><img src=\"data:image/png;base64,iVBORw0KGgoAAAANSUhEUgAAAGwAAAAVBAMAAABRZRb3AAAAMFBMVEX///8AAAAAAAAAAAAAAAAA\n",
       "AAAAAAAAAAAAAAAAAAAAAAAAAAAAAAAAAAAAAAAAAAAv3aB7AAAAD3RSTlMAInZUiRDNmWbv3US7\n",
       "qzJazP2FAAAACXBIWXMAAA7EAAAOxAGVKw4bAAABbUlEQVQ4y2NgYBBgwA4YGfABJgOGBwysaHpB\n",
       "ItwK+LSZMDDMT1sVgCoIFtHAVPwKqI7FqZCBgTWBgWHlL1c0abAIG5pZDKzX84FCyQxRAgzsDQwM\n",
       "F+ASO6A0WISjAMM2/QAGjgUMLAcYOBmQtRkha2OYik0bzwUG5q8MZni0ZWDTxl/AwPeZoQTIuaFy\n",
       "D00bRMQXm7Z4oLYfYBOPMshvQNUGEWkDMdlXgcEFmDZ5Bwa+TwyLwVyeBajaICKW2GwDafvCMBvM\n",
       "Zf8IJKpWrZq5atVaBrjIe6yOdGDg/gTSxpPAwP4PxTaoyE4cQcL8GeRIzgUMvB9QtEFFrLD5jecA\n",
       "A8dXhkPA1AJUdwBFG1SkB2t0T2BgTwAFMmMBg2YAijaoSAmGNn9gkl/MEPmA4RWQI15bihZvEJHV\n",
       "6Lruzs9tYAh3AsYp1wNkcSOUDLcAd75BTa87kDmgVI4THMQpI4Mvm8aQYSDIB7jyPpMAbk0ARAxn\n",
       "CEjVnG0AAAAASUVORK5CYII=\n",
       "\" style=\"display:inline;vertical-align:middle;\" /></a>"
      ],
      "text/plain": [
       "(5 + 5) = 10"
      ]
     },
     "metadata": {},
     "output_type": "display_data"
    }
   ],
   "source": [
    "Add(num(5), num(5)).quick_simplification()"
   ]
  },
  {
   "cell_type": "code",
   "execution_count": 18,
   "metadata": {},
   "outputs": [
    {
     "data": {
      "text/html": [
       "<a class=\"ProveItLink\" href=\"../__pv_it/demonstrations/5a971d822067f36c0d326b83e73073e69e1aa26c0/expr.ipynb\"><img src=\"data:image/png;base64,iVBORw0KGgoAAAANSUhEUgAAAGEAAAAVBAMAAACkm51HAAAAMFBMVEX///8AAAAAAAAAAAAAAAAA\n",
       "AAAAAAAAAAAAAAAAAAAAAAAAAAAAAAAAAAAAAAAAAAAv3aB7AAAAD3RSTlMAInZUiRDNmWbv3US7\n",
       "qzJazP2FAAAACXBIWXMAAA7EAAAOxAGVKw4bAAABaklEQVQ4y3WTO0sDQRSFv41uXiYhnWBjBEEs\n",
       "hC3ENim0M7A2VhZpFLFKER+NGGxEG9PYqJiIWphCgn/AKGghCnZa6dY2KoiCgnh3U80kM8Uwe858\n",
       "Z++d2QXSdB4mnZCDh63aKZji3ESMQnWu7ipa7GvhhFC5be/4kCTbBTj9mVCdePVYImZ1IOzYhxCR\n",
       "pAfdSgbzhi5vwaQUgJGIuZp8D1mXMTMR1hv5hjeHkqyeBp81Yj3vQbeWZPtEmXlZXtPfULyEa/1C\n",
       "tOCvI/VgCG19CpHhqLWlphd2C10VVQqIHHvBQ+RDpukg7Kxlr6VJvWtVCXGR8YlEgcif4t0I4dFT\n",
       "ae886/hVxWok1bhdeJGqamof3MG2y5WciUBNhcjBvnTe1N6xCUuQl46KDKuX1UtoR9JzGhF37AN4\n",
       "9TesLmqnsvwoEfGGRtilEbmmuGf6qOnrLEeLRmLFoF+aAKtpMGZMRML021oZgzHQWf4HB/JYGYK+\n",
       "McEAAAAASUVORK5CYII=\n",
       "\" style=\"display:inline;vertical-align:middle;\" /></a>"
      ],
      "text/plain": [
       "(5 - 5) = 0"
      ]
     },
     "metadata": {},
     "output_type": "display_data"
    }
   ],
   "source": [
    "Add(num(5), num(-5)).quick_simplification()"
   ]
  },
  {
   "cell_type": "code",
   "execution_count": 19,
   "metadata": {},
   "outputs": [
    {
     "data": {
      "text/html": [
       "<a class=\"ProveItLink\" href=\"../__pv_it/demonstrations/c2220e70c4539e38c088c337349febcbb0e748890/expr.ipynb\"><img src=\"data:image/png;base64,iVBORw0KGgoAAAANSUhEUgAAAJEAAAAVBAMAAAC01xHeAAAAMFBMVEX///8AAAAAAAAAAAAAAAAA\n",
       "AAAAAAAAAAAAAAAAAAAAAAAAAAAAAAAAAAAAAAAAAAAv3aB7AAAAD3RSTlMAInZUiRDNmWbv3US7\n",
       "qzJazP2FAAAACXBIWXMAAA7EAAAOxAGVKw4bAAACK0lEQVQ4y42UMUgcQRSG/z1d193b08NGCIJn\n",
       "kiIpAhYimMZrRBCEtQkEFK8xCYJwhUkkEFxSxMbiEISgggtq4QZF0qXyFDTESpJArJKt06hcziIB\n",
       "yb97HtzM7EIWdmb3vTffe/PemwGQReyj/bcQN4xUr6oIoGfTuZgVd1RRGzCGD+FXH/TPnqRdf+I7\n",
       "uKeuaspjfEWSmVfTW0i5gF4AWoqSdvvPEKWOQnrE96kks9Y3aTgFGKS11zeYdmvzaTi0FhXSHN+K\n",
       "ZJuJxgUGx2m/7r0p10DCskIqEVCVbGsk00E/pxHEkp4paWImmr1YUouLWU4zt7+K2rO7PziOyiQj\n",
       "zyVfHvSKpDejAR2cho71K2cyK2iP0L0HvI2+X/nhs3PjGJNT+qVgazvaXya1gA3KqjBzgpZ6bmJA\n",
       "jsliNIMOliRbnPCvhFUGXUA74zZ8f3vF92s5Muj4XCaZDPQF8FuyxXwWbRchycpjX9i7XYBxDXyM\n",
       "I20iXRFiOiYpQLoU7o7tNO80ak0PmQvgoZyncHcVGFWBxJ7/yT8PhyQF+juhds2ElYFFOSab6ms8\n",
       "dgUS87LGjJfDUmdcuyiQtCLuM8hZmcRS4wyfxI7pRGo5apBf7IJvc1K3db5+zvG9cuxZ0IlhV7TV\n",
       "Xn6nV2sPVtDYxI03ieYpp2U3yRa3pHNaP5W1RnAV0kKSbXS2DxKuQXSpIjvhfoXGAmE8iRTjQi8n\n",
       "2EYutFy8MhXnvyOB1AP8A7x8fvk7RkQFAAAAAElFTkSuQmCC\n",
       "\" style=\"display:inline;vertical-align:middle;\" /></a>"
      ],
      "text/plain": [
       "(b + 5) = (b + 5)"
      ]
     },
     "metadata": {},
     "output_type": "display_data"
    }
   ],
   "source": [
    "Add(b, num(5)).quick_simplification()"
   ]
  },
  {
   "cell_type": "code",
   "execution_count": 20,
   "metadata": {},
   "outputs": [
    {
     "data": {
      "text/html": [
       "<a class=\"ProveItLink\" href=\"../__pv_it/demonstrations/27ba6049719e61ccc029d3ee8be5bcab247065600/expr.ipynb\"><img src=\"data:image/png;base64,iVBORw0KGgoAAAANSUhEUgAAAF8AAAAVBAMAAADSoS/MAAAAMFBMVEX///8AAAAAAAAAAAAAAAAA\n",
       "AAAAAAAAAAAAAAAAAAAAAAAAAAAAAAAAAAAAAAAAAAAv3aB7AAAAD3RSTlMAInZUiRDNmWbv3US7\n",
       "qzJazP2FAAAACXBIWXMAAA7EAAAOxAGVKw4bAAABYUlEQVQ4y3VTv0vDQBT+0jQ1bWqTP0CwODl2\n",
       "EEGn0FEQsokitODiIkRwEBczOTm4CKJLoJMn/gFOrW5uBZ0ls4vgLxx9uWsg98g9uFxy+b733n3v\n",
       "PQABKs2CwWq96nOvayCswHlO2Vm9fwgsc6TCOUOgEbNfe9gJ0Ig4Q+LmEsAvsvISubkp6hO43I3C\n",
       "NWmNC1+2yrs9hf0DXHKCxK3S2oBO8GN0voB9TpC4I1oHSy8aYUCEP2CTEySO3Di/0SAoExZDdD6B\n",
       "M/lxInK7R4EbIc+32eWEb2CNBVC4GxJqCD+kTYjbayGmlFIIjyJ8MILCEaEVYtxjl7bp0g+MoHAj\n",
       "Ke9ppMlKRSBZ19kdFO6JXjLnSlPJvcjD45zXTeJIu/mkHWsECrudKcXLpnDvJNfrsV44bPXf6HnH\n",
       "m0/iWllZuHJLW2lld2stNmu+mYpJ9Tw8miZrwXC+ayKYPFmGUaxVz/o/OmRT6mpkPuYAAAAASUVO\n",
       "RK5CYII=\n",
       "\" style=\"display:inline;vertical-align:middle;\" /></a>"
      ],
      "text/plain": [
       "(b + 0) = b"
      ]
     },
     "metadata": {},
     "output_type": "display_data"
    }
   ],
   "source": [
    "Add(b, num(0)).quick_simplification()"
   ]
  },
  {
   "cell_type": "code",
   "execution_count": 21,
   "metadata": {},
   "outputs": [
    {
     "data": {
      "text/html": [
       "<a class=\"ProveItLink\" href=\"../__pv_it/demonstrations/7c0a4002d68ef42d7645785e3711c29158ee301e0/expr.ipynb\"><img src=\"data:image/png;base64,iVBORw0KGgoAAAANSUhEUgAAAPUAAAAVBAMAAABs27XUAAAAMFBMVEX///8AAAAAAAAAAAAAAAAA\n",
       "AAAAAAAAAAAAAAAAAAAAAAAAAAAAAAAAAAAAAAAAAAAv3aB7AAAAD3RSTlMAInZUiRDNmWbv3US7\n",
       "qzJazP2FAAAACXBIWXMAAA7EAAAOxAGVKw4bAAAC3ElEQVRIx41VTWgTURCeTXe7zZ9ZvBSCYKwK\n",
       "9SAEKQW9GERRhMh6KQiR5FItBSGHVoMoDT1YDyJBKKgRGkg8WLEET3pqUlDRU1HBnnTPvfhTW0Sh\n",
       "OO/tLt15+5rdB7ubzMy338z3Zt4CgAGSJTXuLGW3GAVCLg6OZCUeqdFZFmhGPIM/XkqcB0PQ7gG4\n",
       "aINHQHvfEN0jPaALVxZNGGYJVn2+vhwUHgdxR7cmn3KwVgLoLwteZtx1Pft7BiEm/hr3+cbwuhrE\n",
       "HVtomRysI3/KVfiV89SrPaCr7DbA0p3z+Sp4bQRxJ/kdwVF8LJuO9ZirCgRxwzwLM0VfDSC+GY4b\n",
       "waP4OA8C92gw9wRe/aI8fbhXaiMcN4Kn8HFt6BPlnvKGnhq2CHTt0Fe85/FSV4W36jl858ejwpCo\n",
       "Q/cp92ze4mDMX9syiwbhnvBEprN6h0DfwP42wB226bwlby6y9cKpBYrj2k868k24RQwJU/nHwU1U\n",
       "ahOiGcLd9ES2XKcHjLIeZxLXxA7Gik+a8IAac4IB1wcOrqNSJUjleP6PnPzRqE3ycizdbh33ry0t\n",
       "FvadHRI/xMlFQa4D/CbxM3ZHjnHDkh04YzBwnSe2nCV11z2v64hFl0DfBniNP+M1CXcL4nTKnohF\n",
       "v0Vui4GbfLyd3CSaF0XBow1IYr0nmOYNYb+Z5hugkynTfoncePB94+AV5La0h7TPV3YCU9g+bdK1\n",
       "thb3WK/5NMFEt+ESHb0/KBAx5LgWCMZZSVYTZcqd94xNB1QyY0oZjpj2GLKRotOEQ7cG76gRm/wC\n",
       "MQxCZJ6D11GVzxXhbFn3RJ6+e5i+a/D2NN6fM4nb4hcKN+HyWeHEUc/N0vNPufHF5OCYtyiXO2YF\n",
       "nU0K2+q0z7wEoVfa+SiA8C0ZKAch+dem4jPPhedm4K7M0Q1C7mO1d3zmhBGWmoMLMk8hCNqVE2md\n",
       "sNwcrGRkWWV6IyMMeUDi2BuWG8H/Aczzr8cSwhezAAAAAElFTkSuQmCC\n",
       "\" style=\"display:inline;vertical-align:middle;\" /></a>"
      ],
      "text/plain": [
       "(b + (-c - 5)) = (b - c - 5)"
      ]
     },
     "metadata": {},
     "output_type": "display_data"
    }
   ],
   "source": [
    "Add(b, Add(Neg(c), num(-5))).quick_simplification()"
   ]
  },
  {
   "cell_type": "code",
   "execution_count": 22,
   "metadata": {},
   "outputs": [
    {
     "data": {
      "text/html": [
       "<a class=\"ProveItLink\" href=\"../__pv_it/demonstrations/360c1ce308fd29d8146ed19a3b83f6de7a28d61d0/expr.ipynb\"><img src=\"data:image/png;base64,iVBORw0KGgoAAAANSUhEUgAAARkAAAAVBAMAAACAi4frAAAAMFBMVEX///8AAAAAAAAAAAAAAAAA\n",
       "AAAAAAAAAAAAAAAAAAAAAAAAAAAAAAAAAAAAAAAAAAAv3aB7AAAAD3RSTlMAInZUiRDNmWbv3US7\n",
       "qzJazP2FAAAACXBIWXMAAA7EAAAOxAGVKw4bAAADU0lEQVRIx42WQWhTQRCGJ01ekveatNFLtRSM\n",
       "VaEehFBKQS8Noihi9Z0EodJcqr0IOWhTimLwYD2oBEHQKhhoQRpRgqd6ahREvEhRDwVBcvDkpa21\n",
       "Ih5aZ3debGb2Nc3CZJvJNzP/zu6+VwBIAJnPCPj4GqGJJnP4Dh3ckiLzG61Jw+WHVsFKaPSVT459\n",
       "TQjZ5daC+7RZH4qC6Bj7CNBjBPb5JHt6seRqtCVv/BZMw9DUdmoGNjY2CirYypCFs6LBFThbhrAr\n",
       "4hRqjNm/x4HQEeO3c2iXtlNzOpebSKngSJ6svbYDczTFE2AXIJrlXo1ubqT3ZUF9aHTSKDSOtip4\n",
       "I0Eat0IH20A2X+tCL032GsRXAB5wr0Y3dyFZp0ajtuwlFLDmmuCNBCmdA4P78YuyU8DrxosQXwcY\n",
       "FWr6t1aj0LBcfRB3NlTcTg0yVR18Bf9Udrn7M68L4CwDDAo1CoWjPVWWbHH/NyA0tCDqRXATwp8O\n",
       "pXjxUPc9oaaLgkdpVdZvdzgh1Cwhe0uoUXhnKlJhyd7BnjKhUX3IJ0pqvACvWcMj1grjA9NwTaj5\n",
       "SsHTOKEF18BOCjUq3WGhRuEzNXQzWaxIaLAgeuNgVwZcuM94Jy0cEChQ8GOc0CIZaE/rVT3yVgW6\n",
       "AUveWmtehdKhjJRKs1OlEm1NZIXQtmWhxsamjQH8YvwNVyYIZSjYU4Ny51O8N3fVx2vRG0TtijiE\n",
       "sQxE1gltLfiomYHWVdaKJ8YpdioU7O0UPm5I8f+6+BDdAXDE3KnhpEhm4/VbJjRYFOdG7dRqrZ0e\n",
       "b/001AwvUPBbnNDaq9ZDXvc7wAGAO0KNQvFgluuThahfCo1WRG9iiKzD+Twr/gf7wNXMZyl4kO5m\n",
       "PB/LsrqBZ7lc0bvRdWoG9XkKsRseyMJBl1B1odlQV34R3vNW4IU6w9UMpCn4B05o1pdxXtfBFxke\n",
       "redCjcKP3T7As3dcvwqEOmWhpg1XdOFEnvOhkzddrmZ3ioIdXKZTrYvvZe/OovAylD1bNdppvKde\n",
       "bsWbjk562UXr399z7FGaF16GsregRscNNZNb8aZDBb/xzHd0GZ6GaKBiuGOJZv/308FDnvkOs3ZD\n",
       "1Ke0VWlWjQ4OJMn8RouZvSG61+eHnc2qweB/+FXfSxMB08wAAAAASUVORK5CYII=\n",
       "\" style=\"display:inline;vertical-align:middle;\" /></a>"
      ],
      "text/plain": [
       "((b + 2) + (c + 5)) = (b + c + 7)"
      ]
     },
     "metadata": {},
     "output_type": "display_data"
    }
   ],
   "source": [
    "Add(Add(b, num(2)), Add(c, num(5))).quick_simplification()"
   ]
  },
  {
   "cell_type": "code",
   "execution_count": 23,
   "metadata": {},
   "outputs": [
    {
     "data": {
      "text/html": [
       "<a class=\"ProveItLink\" href=\"../__pv_it/demonstrations/53ecc984380cad509e8345419a46bc6ca152ff8a0/expr.ipynb\"><img src=\"data:image/png;base64,iVBORw0KGgoAAAANSUhEUgAAANcAAAAVBAMAAAAnc2Y5AAAAMFBMVEX///8AAAAAAAAAAAAAAAAA\n",
       "AAAAAAAAAAAAAAAAAAAAAAAAAAAAAAAAAAAAAAAAAAAv3aB7AAAAD3RSTlMAInZUiRDNmWbv3US7\n",
       "qzJazP2FAAAACXBIWXMAAA7EAAAOxAGVKw4bAAACfElEQVRIx32WwWsTQRTGv2SbZDdpkvUklB5S\n",
       "QRBPPUhBT3sWivsHCOYiFFHIoZhSBOOlXhRyEbRFXOhBjEiLN0+tvXnRiJ6Ekhw89WIV2otofDNv\n",
       "1+y8neSDX7K8vG/ezOzs2wDwwViUs8QmpBq/T8zJLzI2VRrW9Kl6G2PVJU3hQyTiZ+9+BC5Y01lZ\n",
       "S659e4h8BxqpWossTabYEsZ9XNtFMRQWlZpIWjCPmd/ATTBC5T5Q6jD1ZHsqPKuqD68Lt2VGdWoi\n",
       "acFn4BnwEIzQRSrmgdlL1uDwffJOUP0JPDGjOjWRtOBFiAHNkcJemNnFDSq2BOYqTGc1QvUvsCLG\n",
       "W0r5pQXfgMEQRVpnMXPTZopUbBXMnXNfTCft8jGwLMZbTfktFuzQsH3G1IIqpqZOFE7DG75w/qCr\n",
       "DVFsJXVWLJbaL8BtMsB6T+mNPm8dVWwbGucEXkM4VdZlUWx7XMxmUUfO6TLmLkIV24Km1EQ9oK9e\n",
       "79Vmr6c3obSvVqevxlFKLdzSEx5aLLinVnfMGHqQLlYOsLdoTvOx+ngnVraVenCyFleVrHQZ46lt\n",
       "ILWN9MzcDw2nE+AMcGXyNmYt1F5yPhxqLE5k3rPK4eHgeYADuiTqw8JTc9jvwHngkSh2kCqWsdQC\n",
       "5EO4tP0KIa/PZ5uodmZbhjP3st2Oxkc9GW957M5YMNdur9NNDBihOtU/gqbwdc0ctjwajej8vhbF\n",
       "jlJHX1qwMxqdknOXMVX69KeB8hAayHbA64tE1Ei1WjAXY5FqtW66fVfSneZ/302ibsv22jOa01qM\n",
       "Te9jrJq3pk8VvZs0Vl2PmTiTbPpUzfqMfSYNxvqXwbemT9VCjEX/APaxsZS8lpNrAAAAAElFTkSu\n",
       "QmCC\n",
       "\" style=\"display:inline;vertical-align:middle;\" /></a>"
      ],
      "text/plain": [
       "((b + 2) + (-b + 2)) = 4"
      ]
     },
     "metadata": {},
     "output_type": "display_data"
    }
   ],
   "source": [
    "Add(Add(b, num(2)), Add(Neg(b), num(2))).quick_simplification()"
   ]
  },
  {
   "cell_type": "code",
   "execution_count": 24,
   "metadata": {},
   "outputs": [
    {
     "data": {
      "text/html": [
       "<a class=\"ProveItLink\" href=\"../__pv_it/demonstrations/03745230a08bc8700356ace6830d38140c5d88a20/expr.ipynb\"><img src=\"data:image/png;base64,iVBORw0KGgoAAAANSUhEUgAAAPYAAAAVBAMAAACH7A7XAAAAMFBMVEX///8AAAAAAAAAAAAAAAAA\n",
       "AAAAAAAAAAAAAAAAAAAAAAAAAAAAAAAAAAAAAAAAAAAv3aB7AAAAD3RSTlMAInZUiRDNmWbv3US7\n",
       "qzJazP2FAAAACXBIWXMAAA7EAAAOxAGVKw4bAAACwUlEQVRIx5WVQWgTURCGJ8luNpukJjehCMai\n",
       "UA9CKKXQXgyiKEJlT4JQSS7VXIQcVIooBg/qQaQIBa2CgfTSFSV4ak+Ngoi3oh56kpy9VK0V8VCc\n",
       "ebvr7sy+BDMwb7f/fvv+N5P3ugBQBC81kdBog9DikHyy7KWMHpjFXCkmD0Rfw3/xFIqfVGl+aImH\n",
       "zy+5DozH3pnUzPMPTTZ1/Nyyzhx5s+ZluiGerf45haojVEJjEaLzoOMv67yRt3CplIWgN2v+dZOG\n",
       "TEOoVlMzTYjek48UvxP0Ofoy8jZeKDeCCieiE8KSUG3o561QW/aJ+Nyu/0eKbZ8lmMKR8ixovetC\n",
       "nervTWhatoV4o6X1rsNVHCmvjH3iLluHv+A4K7wJhRPjPWYQosam8CY+/fFYmXsbYw+Jr3srNn85\n",
       "1SJzeQcHOwB3hTfho2WrywxCNKO24g2X4mXAV+fN78w70YabxLfxHjO1C3aJuQDksVfTwpvwlQCF\n",
       "GJpaFA+IP+7AI+adrZAwDU/xHtOqQaGiVvzEXzFquNptv45AJdTbOudVca84uu+b8KbprwP8RMR1\n",
       "V5ddl36U22pHbgfeuJSNcrTCfA2sPYB1UTeidlcWHaK5RY33CuR2WN3P1Lge9ByPt7eawMVuwQgW\n",
       "MRPveVU2PIKmWuL3bqvj7bfK9zZ/qMsMvMURs9AzHzMXwyvwgfAmFM9RJ+odQTOyJzT9Hlxosrp/\n",
       "Y4OIn/VOx0gz32AuiQYcdfwzFfFGFDe5wc5YBLUqwpum34L3/HzjJj9H/Fe8xzQ/LwiX/beu4fhC\n",
       "qISfvH+EG4RotiO8ib94usm9jTN3HOKzWEI2WsYEK6kl1GwP+oRCR6XKePZ/DXn6BGSi37C12Kcg\n",
       "qmYa/bwVuiBVxrNvCfFvwEttHIgpA9FEdzh+zk9txN8ciOaLw/GJkpe6SMbnGogegmH4v4h5xanz\n",
       "dnSRAAAAAElFTkSuQmCC\n",
       "\" style=\"display:inline;vertical-align:middle;\" /></a>"
      ],
      "text/plain": [
       "((b + 5) + (c - 5)) = (b + c)"
      ]
     },
     "metadata": {},
     "output_type": "display_data"
    }
   ],
   "source": [
    "Add(Add(b, num(5)), Add(c, num(-5))).quick_simplification()"
   ]
  },
  {
   "cell_type": "code",
   "execution_count": 25,
   "metadata": {},
   "outputs": [
    {
     "data": {
      "text/html": [
       "<a class=\"ProveItLink\" href=\"../__pv_it/demonstrations/8c5e0df2b1c0def287c2add59ab73fbaabe175db0/expr.ipynb\"><img src=\"data:image/png;base64,iVBORw0KGgoAAAANSUhEUgAAATQAAAAVBAMAAAA6KA+LAAAAMFBMVEX///8AAAAAAAAAAAAAAAAA\n",
       "AAAAAAAAAAAAAAAAAAAAAAAAAAAAAAAAAAAAAAAAAAAv3aB7AAAAD3RSTlMAInZUiRDNmWbv3US7\n",
       "qzJazP2FAAAACXBIWXMAAA7EAAAOxAGVKw4bAAADV0lEQVRIx5VWTWgTURCe/Gz+m4ReBBGsLUIv\n",
       "Yigi6MVQBEWorpdKpZKCFItQrFBURGjowXgQCUJBq9BA4sGIoXiqp6YeFD0VFepFzbkXtWmLIIgz\n",
       "22yzM29fYh5sSCbzffPtvJl5DwCSAOAB95VUTTpXJ8TNpx3Oxdubwo8+9c84wHl4pdr79Hy7kGhP\n",
       "RziXZTEcwceXhtF58Wd4++oz8GYlBl21qwnpBxec8b7QVtK6CeAfvG4xGGNoGMbninCKLJTQbVxi\n",
       "h1vwNiEB0w0XmGojzFi7hsDLcDFJDEF6yVv41O1UNhLVZX3mhNVyVbKvQEKKCMIlUjpNS/aXwyaE\n",
       "CuCvEkOYDHmk37Iz3+OMEza5lVzVzVIhc9KHcMumTtqAQ1psFXxbxHCUqHFT/QXXOIEst5JrG2kW\n",
       "ZEK6EO4M/I+0xBTE68Qwjb+DWNqBj4dSPM7sUA0Vr/LoQWcX+Hsf6CBDIraFm+z9JMyD/TVFWgal\n",
       "/SaGicZ7ZsaNXyxOzPT8waIZ49ICjpb1FOGODnLX0lO21moDZ2ybGT4o96aCVUXa/jTEN4ihSJ2F\n",
       "+TphwkNeVQAf8FeeS4s4KjmS1kOOyeZFHFZQmA+8km2Q0jaJ4QkV7iLADYBN6z2fz++8J66ZJMR/\n",
       "ArOS67CViwrMmAA6yA858hAXHINEuglHw07r3S6XH5fLL3c3NA3RDWKwpZUgWmcpeItxahAVWSNX\n",
       "ez2VbeCAvHaRhlleZuMjXNW0ga9ODPaG1u13sOPg6fAdfxW0G2psSGkOyHFRa4TDsTbDxkemx3V4\n",
       "4FDbIoY3VL7o8hdGsixO2kpLqMqjxxzFgm0U1UHui6wRLlEzHjFjAiMuKtJCedp6ZKAup3b/Au+4\n",
       "iD3gnWsOC9tqDxNa2J5ndZBpIY1wXdkYPySwPf1ieJzDFi7CSI0Y1unGgFtw6ZQYrp6ba5j9yCK3\n",
       "xh0ntP/0rKmDvJCXEsQZn+Upd/LeQb6hXxcms3Bh8JvFECHZFZfR3pg80lppcRo0IR7ljlFpea4P\n",
       "qBe2ws5BnHM5q/lpvmvNtTjem5CgcpnKtZS2pFiIYYWKNKm7bFalRevKIPugY5xYxDBKc6CqcVAJ\n",
       "ta4MsgId48QiBg8VSrfG4YBq6m7DSRBvsnMcX8jwD7wU6WAyLM0hAAAAAElFTkSuQmCC\n",
       "\" style=\"display:inline;vertical-align:middle;\" /></a>"
      ],
      "text/plain": [
       "((b + 5) + (-c + 5)) = (b - c + 10)"
      ]
     },
     "metadata": {},
     "output_type": "display_data"
    }
   ],
   "source": [
    "Add(Add(b, num(5)), Add(Neg(c), num(5))).quick_simplification()"
   ]
  },
  {
   "cell_type": "code",
   "execution_count": 26,
   "metadata": {},
   "outputs": [
    {
     "data": {
      "text/html": [
       "<a class=\"ProveItLink\" href=\"../__pv_it/demonstrations/e82de9aa23e3fc4579d35d6c0dd28dea903f26ed0/expr.ipynb\"><img src=\"data:image/png;base64,iVBORw0KGgoAAAANSUhEUgAAAKQAAAAVBAMAAAA6DViiAAAAMFBMVEX///8AAAAAAAAAAAAAAAAA\n",
       "AAAAAAAAAAAAAAAAAAAAAAAAAAAAAAAAAAAAAAAAAAAv3aB7AAAAD3RSTlMAInZUiRDNmWbv3US7\n",
       "qzJazP2FAAAACXBIWXMAAA7EAAAOxAGVKw4bAAAB40lEQVQ4y2NgYBBgwAdwyDLikWNgMoAzHzCw\n",
       "CuCWRVHGrQBkbMJhpAmCOT9tVQBuWVRlGiD7GrCayJqAYK/85YpHFlUZG8jyVKxGsiPZdAHO2oFF\n",
       "loG7AUkZRwGQaMdqJCcDNiONsMgyMCsgK5sKkg7AZqQZXiPNcBuZAcRsWAOzBIl9Q+UempFgWSeN\n",
       "ByhGQpT5AjHLBXTjWJT6wJbBwFEG+Q2oRoJkpQzYD6AYCVHWBgpQcOxVrQKBteDkupihhmExiiU8\n",
       "C1CNBMkuYeBUQDESoswSJDIBzZFcDgyTGGYDU0oW2BqQ79g/QmydCbUVKMv+FRL3q1atnLVqFcSn\n",
       "IGXvgTTfBzQj6wMgmuB2JzCw/0N1JVCW8wBa9ECV7QQlK3RXzoF5DZZiFjDwfsDweLwCmpFQZVYg\n",
       "kQWoYcn6CcQ/hBRbCCfBjATK8gMTygZkI6HKekDRcwDNlT+ALgenBVjpUsCgGYBqJFAWGN0sKIkI\n",
       "qgyUvtgd0IysYWDwY3iFJCBeW4qWLkGyLh2qqEkdomw1KII3oCdLj6YABq4H2DIAzEgUWUQiArkV\n",
       "FIxSWPM4OPtjgB3YZLkb0IubCuzl5UG8hTpOWRmQSw9gl4vBa2QMPrt4cNUiCviMxCXLBDJNEasU\n",
       "AKL+eP+dnewsAAAAAElFTkSuQmCC\n",
       "\" style=\"display:inline;vertical-align:middle;\" /></a>"
      ],
      "text/plain": [
       "(-5 + (c + 5)) = c"
      ]
     },
     "metadata": {},
     "output_type": "display_data"
    }
   ],
   "source": [
    "Add(num(-5), Add(c, num(5))).quick_simplification()"
   ]
  },
  {
   "cell_type": "code",
   "execution_count": 27,
   "metadata": {},
   "outputs": [
    {
     "data": {
      "text/html": [
       "<a class=\"ProveItLink\" href=\"../__pv_it/demonstrations/f61a0d905653c11a4f25ffb2ba8ecf6e18e23fa50/expr.ipynb\"><img src=\"data:image/png;base64,iVBORw0KGgoAAAANSUhEUgAAAHMAAAAVBAMAAACHwMySAAAAMFBMVEX///8AAAAAAAAAAAAAAAAA\n",
       "AAAAAAAAAAAAAAAAAAAAAAAAAAAAAAAAAAAAAAAAAAAv3aB7AAAAD3RSTlMAInZUiRDNmWbv3US7\n",
       "qzJazP2FAAAACXBIWXMAAA7EAAAOxAGVKw4bAAABj0lEQVQ4y42UO0gDQRCG/0u8nHlJujSCVwhq\n",
       "IVwhgjZJoZ2Bs7GySCVilSIqCGKwEBTBKk0UE1GLnCi2Vj5AC1Gw00qvtlFBFBTEuUSTnc2dcYpl\n",
       "mNlvdnZ2ZgHE8Lconh6fUVPbgFHutKHGwroX2ldXg29Tu9xZnLBMdDdCQ12Uq5quG0LFHZNvKX8M\n",
       "AwFTJgOGugVoubolWtPCP9YbZ2nNyOgKMEJJwg316wKKvIxeAwkT/f9AJ2X0HXgykBXRxZTN0bvO\n",
       "e1pTEqk6aI5FjJjKJ0fP0XEILFX0OcuRfeelXwnVsc0DXnKUwpWAAblJHDSJdVLHKvEOHOsCvZdm\n",
       "WeWCZVXvqb3QNjlhQo/1CvorF4Ta4qmRNLQv4MilTAmDJVwAHljCwRKiz8CgdFdcAWsmzgQ0CWww\n",
       "tIXoE2BVPnUZmOGFj8OXZ6iSQQ91YVZGQ4a6CTyKlZu9NXmF4/PTtO7JqJrtpZqEbLdx8ouDppTc\n",
       "Z66xt8X2r75PzmNeT9FM2r0c401Rz+CK3oT0eXxe33WnXRrRsDDjAAAAAElFTkSuQmCC\n",
       "\" style=\"display:inline;vertical-align:middle;\" /></a>"
      ],
      "text/plain": [
       "(-5 + 5) = 0"
      ]
     },
     "metadata": {},
     "output_type": "display_data"
    }
   ],
   "source": [
    "Add(num(-5), num(5)).quick_simplification()"
   ]
  },
  {
   "cell_type": "markdown",
   "metadata": {},
   "source": [
    "Can also handle ranges of terms."
   ]
  },
  {
   "cell_type": "code",
   "execution_count": 28,
   "metadata": {},
   "outputs": [
    {
     "data": {
      "text/html": [
       "<a class=\"ProveItLink\" href=\"../__pv_it/demonstrations/ae8c57f3de6286d26981100982781be734055bf50/expr.ipynb\"><img src=\"data:image/png;base64,iVBORw0KGgoAAAANSUhEUgAAAkgAAAAVBAMAAABPvwycAAAAMFBMVEX///8AAAAAAAAAAAAAAAAA\n",
       "AAAAAAAAAAAAAAAAAAAAAAAAAAAAAAAAAAAAAAAAAAAv3aB7AAAAD3RSTlMAInZUiRDNmWbv3US7\n",
       "qzJazP2FAAAACXBIWXMAAA7EAAAOxAGVKw4bAAAEuklEQVRYw7WYT4gTZxTA3+zsOJnsn6RLS0Eq\n",
       "HVex4qGsUhb0UBYpRQorwYNYUJJLoQjSHLYYRHDwsDkoNhYKti4lsAVppEvoqR6Kq9BDL7psxZsQ\n",
       "7W0PNdgqhUL1ff8m37+ZTCR58M1m3/fe9/3e+/7OAEARWBm1WPpw0uyd4SM4gqOYjS/2GZtjZeTy\n",
       "s6nalWa/a/gIEyHnsLAk5YD6fMDLKMX7vYkUka52F1J8UitfV/YC4zBZMAeU0urjVVgZrWyr4uMz\n",
       "XXs8zeX4SDhKnMNgITmglDYfH3Pqm3n9xT71oqR5HKXrC2Qu13XjWlo8taydJEJZYshVOUddryE5\n",
       "KFhXHPoE+Ccwaw7Yl0CYtDbCdP1tMoJBSTNupCWpkbWTRChbDN9wDsESSyAobT7z+JwfeZI+ofM2\n",
       "UpVu2iq3VA4jSZ9zjm369JsXlDafJXyS4jzYGVo62HF4ZqAkqfax/szsHwDjG6rSl7fm8dkr6vRf\n",
       "SO49I5SIQQ5tERiHYIllSVAqQqkWaWpJuVWcfG52MHEV7pcGSJJmL/Tei1K5CLmKaiyPprMK59Xt\n",
       "MkrsPSuUSJIc2jLZZCqsgN+issGnGKNU7kiUahlW8TcW7xr4TbODTyM4N8hM0uyF3n0OQQhuQzXO\n",
       "S/tkfgG+VloklQm9Z4XiMSihHSQODYhZYlkVlAoEpToI1/E3Fr9LNN4yrTvXan3bav2Evy4A/ADe\n",
       "R49KLO8/fsfzrq6MXgW1N/V+BQoLMN1VjYM2HvR0LNfgAp0a3mn6b4dXstZOVGyd9IPqxcBC4/IU\n",
       "C+GgLLJcF5QyBKN6KpIUrEO5DU/2aaOwAt5/4Mcj0XcmUXtTj5C352BCm0kkD0JW9BZJJW1terZp\n",
       "6yQDFI+BhSaWHlmuDYhZ5CQxSllWuA9fbuUQvsJfh9QOvGeQ60Kh7fyfLUnM3tTjBQQHxW0mLjd0\n",
       "1AQreWtu09ZJBiieJB4aExIgaZA2Ku9Jq4JSvmA+4z538YmlPAcP3aKRpL9hqrI/V8qcJGZfe/Ke\n",
       "lqQObgyQW1dbmZRa+xcHV2kRK1lrZpKyQokk0dDqV2bJRfIyMA7BEstdQSkLo7pMz8RFwuTe8I2Z\n",
       "hK6Hqtj2uDYHyuRd5gXwh1RB7U/cioKiop+KJqu9I18Yy8cwHiJH1cN3Q/SuJ6kvVLmixEBD8y5d\n",
       "g6v8pCccvv5muCgoZWFUS7CFv7F4m0d3vG8m6dTux5u4g21pd+U8aewGiEevgtq/tQcKqoP3gLxk\n",
       "5Nuq8bR0nI4fuahed0kl691IUj+ofFU93UhozrEKkHvATc6Rb2tJ2hKUykhRqpuQx+5I6S1Z87bq\n",
       "/DbYjXuT7o+GfruuXEt7LYkrjSRlhVJimArJXu00Ocd2Yw/sJH6EatJXvlzVSJLycvg2vDHQC+73\n",
       "cHbaoq/pxvW0JNWNJKmd9IdSYgg6frXDXuVrttfnXDUJhPjcAVbUJCmpvPfXlwN9/+vC2ocWtb5X\n",
       "wmTaB9G40m0OA+pdyP/ZgXc4h8nSy4EuxOckL0Te/OKwxSp4+bI70Pe/DdgdpUTdO2LX0z7U8Urn\n",
       "43/CIUD9CmNHWCYIh2V4TiZ5Eh8nZGXkstNUzaTZzwwfYazIOSwsSTlAn1eLgXWesm8J+AAAAABJ\n",
       "RU5ErkJggg==\n",
       "\" style=\"display:inline;vertical-align:middle;\" /></a>"
      ],
      "text/plain": [
       "((a_{1} +  a_{2} +  ... +  a_{n} + b) + (-c - (a_{1} +  a_{2} +  ... +  a_{n}))) = (b - c)"
      ]
     },
     "metadata": {},
     "output_type": "display_data"
    }
   ],
   "source": [
    "Add(Add(ExprRange(k, a_k, one, n), b), \n",
    "    Add(Neg(c), Neg(Add(ExprRange(k, a_k, one, n))))).quick_simplification()"
   ]
  },
  {
   "cell_type": "code",
   "execution_count": 29,
   "metadata": {},
   "outputs": [
    {
     "data": {
      "text/html": [
       "<a class=\"ProveItLink\" href=\"../__pv_it/demonstrations/5b3b2079786415b758529bbe88525a0b866b534d0/expr.ipynb\"><img src=\"data:image/png;base64,iVBORw0KGgoAAAANSUhEUgAAA6AAAAAVBAMAAACqBJ7ZAAAAMFBMVEX///8AAAAAAAAAAAAAAAAA\n",
       "AAAAAAAAAAAAAAAAAAAAAAAAAAAAAAAAAAAAAAAAAAAv3aB7AAAAD3RSTlMAInZUiRDNmWbv3US7\n",
       "qzJazP2FAAAACXBIWXMAAA7EAAAOxAGVKw4bAAAFDklEQVRo3sWaXWgcVRTHz2Qymf3KZlsUQVI6\n",
       "jUVFsMQgAfOgoYgWoWUQkQotuy/Fvoj7UDWUQhdB86DUVhBqLbpQpbhiCT61D9JYEPFFQ2zFF2Gt\n",
       "D0If6mqaIhQaz8y9O7vnfsyHmRkPnEn4z9l7z++ee2fv3AQAasA8a1P0YeTQraHrJw/mnM3nHJlm\n",
       "nrl9JUsP5NBt2WEuWi7MOZvP+Tj3LM36vo0j2BJlcz4Pyoe5C5Y1Mxw4k39FkdNqMM/Wxpp4OSSq\n",
       "L+YCOeYyF+ZY5szwcv4FRU4b140trR24qF7SLd1ab4XrE97zbVEMXohuIZmszLvQZE4tNrNOjmSG\n",
       "NW3gxQxZi/ijKN+ZUTZhOpq2dTf6+mVvhRRdIfhkdAvJZHXeH3AnFptZJ0cyl9e1gTMZss7idTbz\n",
       "gj7nPw9aVDQb+RT0MHdis5kXdLT9PxT0MBzBq+fG1R2OInjb7q2JCkrjA/2VqZ+QcIWKtrcnGp06\n",
       "EdZClKyDHMbZy51YCLNGTso8tvroNA3ss0aN7qZY+9P3Uq2yLgeXT8GPboKCCvF93brt1mtQaAjE\n",
       "uGKNc3AsrIUIWQs5jPM2d7A7vq1AKLNOTsgM9UPWX0QIWCNGd3Os5/CKbp0Guy0Hv9SCo0lWqBDf\n",
       "1811KDpgnqTBJZzApXl4P6yFCFkHSXCe4E5Mz6yRkzLDU66AFrBGjO7mWD/CK7rd8/qz/IkMRzud\n",
       "DzudL/G34wCfgvX0ry6b35+f4fObbhgHN/x4WbcbMDEP1R4NLi7hB1xlC/sbKjkqkUHeDIfbn9yJ\n",
       "6ZmZ/MLea1ROygyvA9yiga5qdNNm5QUtLkN9Ca4/IlT/LFh3wA5mQOQK9eNlHTu8PA1lYYV6BT2r\n",
       "bKE61VbJMRLheTOc/iOJu1hQDTOTm8EqmflvzFiU8poQqBrdtFn5I7fuwHv42xwNtv6GQg8mloy7\n",
       "8QrK4mUdX0Nxeppt6ZGLH1C2YLZVcoxEOCTHYTbXBxv+DtUyc/kObO/GKqiOGV9D7XUhUDW6abNe\n",
       "wSt6fRp+NmtSQddgvPFYwY1dUBa/cP0hoaBdfNBDYZm2UsGf/+AeQG5BhoybSB/Sx1k8MeUdKLzL\n",
       "nZiWmctvxS6ohhnuel+Gw0LASkY3bVa+p6845nlbnq1XYK7ZHLxSBRs477zwNvDL0A0/fv+lVrFG\n",
       "9PFWpclfU4Zf1HCp4LZvn9yCBKlJZJBDvUHy9nGsd07DKf6GckQcDT0zl9m789C4NYbBo5nhF/iO\n",
       "CgErHd2YrIO+w1lv4BXdWt23bZcMd3Dnb6s4UW8IZzwlbzKch/5lcMOPv/dBmKAfsK56p3ylJRpc\n",
       "xYxH97zpyi3IkJpEghxKTbrz83CM5xvgPfS+4E5Mz8zl6mdU9nsYgEcyw8FnhYOUgJWOblzWoO9w\n",
       "1hJ+tNQd/rqRnzPGt8lOilaDPQjR7xfFC9oWTPUpS3QiJO9xx9uHGW3m1KKYYdJNdFKkYY5xUpQy\n",
       "Kz26nlMe/N4HWxIdzn8Mb1QV+oIYvKhtIYCkcnQiJO9i1252NX9+iGI2mkYtyeG8hjnG4XzarN8A\n",
       "cwpH2H64+VqSv+EYPbjwpEJeFpWK9p8GzHYaiWyH0u9dmPSWm3wznBkmb/7hbp45jqXNeoC7Z/e8\n",
       "ulsRW9zY6CVpu7wCOxWzSi6ftawbnmduOSkk8jWM7BFm7MDCmeGTjY0UmONMhbRZDYd55rZDlrbm\n",
       "0O1Ijbk0kHkw52zI+S86MTUrcb25zwAAAABJRU5ErkJggg==\n",
       "\" style=\"display:inline;vertical-align:middle;\" /></a>"
      ],
      "text/plain": [
       "((a_{1} +  a_{2} +  ... +  a_{n} + b) + (c+ a_{1} +  a_{2} +  ... +  a_{n})) = (a_{1} +  a_{2} +  ... +  a_{n} + b + c+ a_{1} +  a_{2} +  ... +  a_{n})"
      ]
     },
     "metadata": {},
     "output_type": "display_data"
    }
   ],
   "source": [
    "Add(Add(ExprRange(k, a_k, one, n), b), \n",
    "    Add(c, ExprRange(k, a_k, one, n))).quick_simplification()"
   ]
  },
  {
   "cell_type": "code",
   "execution_count": 30,
   "metadata": {},
   "outputs": [
    {
     "data": {
      "text/html": [
       "<a class=\"ProveItLink\" href=\"../__pv_it/demonstrations/2f324d2ef033203f5514915eb91f7672c017efbc0/expr.ipynb\"><img src=\"data:image/png;base64,iVBORw0KGgoAAAANSUhEUgAAAtEAAAAVBAMAAAByAa+/AAAAMFBMVEX///8AAAAAAAAAAAAAAAAA\n",
       "AAAAAAAAAAAAAAAAAAAAAAAAAAAAAAAAAAAAAAAAAAAv3aB7AAAAD3RSTlMAInZUiRDNmWbv3US7\n",
       "qzJazP2FAAAACXBIWXMAAA7EAAAOxAGVKw4bAAAFFklEQVRYw7VZX2hbZRQ/tzd3N0nTJhZFKA7v\n",
       "uqnDh1HHKJgHKWXIGDiCD2PCJHkRRBDzsGEZg118sIIyO0GYbkigwjBiCT6tD9J04IMgWmrxTYjz\n",
       "rYgGdUMQ3L6/ud//3NDcAydJz3fOd36/8/253/0KABWgmrUYcngufy9TNJ6gaaCOgfvEPNXM5Wvd\n",
       "dNjlfzhTNJNRoqqMvxyE+wmmWUrwXQvhj1Wzv+iIcTaOQY4KqsiJ/VLVxw5xDxpUs5UDTfTxmmo9\n",
       "6wo5mzWkWqJKsRr7pqoJ4h7GVBW5bV5ysW0txm57Ga/HFdV52YV4OW0SK6jbzorkm4nKEsbObSd2\n",
       "Zysbtx7EvQBUFTluXtGRbalHbvsmnjiFmuK86mK0mjaJFdRx9+T7WFBJCs4wWzqebbNmakXcF9DX\n",
       "QuaVPk3WVSwbfdcqNTSOudKvCyrJwr4qfdq8p8RwAX1h9XYPRYa4g0szI1Va9h/Y35z7CSC3LRtD\n",
       "8ZmXm7sqL+FFe/aUoDgHhRqXlwSV5II9xkGVZyNUJVk62sPc+ahuVEr39LjJa/BjbYRKK/7cHtyv\n",
       "1SuQb8jOB4Qdz1uDy+oksGVPC4pzV6hxeVdQCNtEtsFcjhRUWTZKVZTZ+bCLua+h30iD6xC29LhX\n",
       "Yrg0ypxW/LndvweFCPxV2bkoPDuKi/CR1CNutGRPC4pzV6hxeV5QSdbsMQ6qLBulKsrnjPsN9Btp\n",
       "2MdkAzK+cKnd/qTd/gr9uoIdg5O/1Oiwf/EpG3Z5oScNxF+3hw0oL8J0X3YudNBZjkyldbhCpkfw\n",
       "Bvmzxxppb+capiTDQCUcKDXxFEdD/xRUkhuGGAsKQzZCVWASkrWBuLNKF7pQ78DdZ5URugnBfxAO\n",
       "xnfonCb+uh2h3pyHSWVO42Jyuak9rDust+m5lilJClCMA6UmzgwauiGoWmktxoJCz0apikS6ZK9Z\n",
       "5btHPYIP0a+qHBf8Bfk+lDve/+kqTf11Ozpjoknrt6y7BwpUBDWy3vyWKUkKUIw7o5YIC60KKu3T\n",
       "a4YYCwo9G6UqSD1i4XfQF9L6PPzsV7RK/w1TjefytdSVpv7Ld59RKt1DGx/ku3IvJaG3f9GwSz2i\n",
       "RtqbzjEtKF5pQm3l6hx/RWGhHwgqyR1DjA1FQpVXmlAVxxU92juYOzvnlCL/VqjNaZS02kTJcsps\n",
       "rONX+PvAPoQG4n9uIy5UJPtUXGompzrunBN2V3TwOCMBxI00u8pxKKh6Q+JAqAXvX4drSectdpjj\n",
       "qh7/9BgzCoEqy0apintVF3I9zH0P/YE02Dlz8Jhe6VeP/LqDdvU95e2uiDu7BfwjaSD+jz0NZTkg\n",
       "2MXv1sWO7DwtPN1zp96R361wI82ucRwGqtiUzx6YmvdyA5JjGwn9UlBJ9kwxZhQCVZ5tV71GOPne\n",
       "U4R7EWHGSqVqfL/yvh3tHXFn8JSR7LOqcd31LrZu5ZgWlMRhKkIPpd+/R1KhoV4rUeUR0TPEWFAk\n",
       "VN1vpLPqJUvVeDvzODwy0g3TZ/D2tMG+rDqvuLCtaJWWkwwHJXEo9MJmTwzlV2v6fdKgHGKMBUVC\n",
       "1X2fhblvMZUrLc2eH/64OMq9odeH9RcM5q5qKbn+tzFo9FvjAPUkFH/riaFPQKKKbOkxNhRmqmbu\n",
       "55liefStJdM91IMH/VFITW7DkdhRuuRs13VdqbNG78V/ojGA+gYmTkmhW+osS+S8HmNBYaFq5u5F\n",
       "VDOXQ7ppxuU/kymaiUqi2gyMMuD+EHaW0RaLVAsZAAAAAElFTkSuQmCC\n",
       "\" style=\"display:inline;vertical-align:middle;\" /></a>"
      ],
      "text/plain": [
       "((a_{1} +  a_{2} +  ... +  a_{n} + b) + (-c - (a_{1} +  a_{2} +  ... +  a_{n - 2}))) = (a_{n - 1} + a_{n} + b - c)"
      ]
     },
     "metadata": {},
     "output_type": "display_data"
    }
   ],
   "source": [
    "Add(Add(ExprRange(k, a_k, one, n), b), \n",
    "    Add(Neg(c), Neg(Add(ExprRange(k, a_k, one, subtract(n, two)))))).quick_simplification()"
   ]
  },
  {
   "cell_type": "code",
   "execution_count": 31,
   "metadata": {},
   "outputs": [
    {
     "data": {
      "text/html": [
       "<a class=\"ProveItLink\" href=\"../__pv_it/demonstrations/93625df77fc404fb395a5b90e29c5f6f3ef959e40/expr.ipynb\"><img src=\"data:image/png;base64,iVBORw0KGgoAAAANSUhEUgAAA+sAAAAVBAMAAADMXmKOAAAAMFBMVEX///8AAAAAAAAAAAAAAAAA\n",
       "AAAAAAAAAAAAAAAAAAAAAAAAAAAAAAAAAAAAAAAAAAAv3aB7AAAAD3RSTlMAInZUiRDNmWbv3US7\n",
       "qzJazP2FAAAACXBIWXMAAA7EAAAOxAGVKw4bAAAFnUlEQVRo3t1aXWgcVRQ+k93p7G7+1qAIIaXT\n",
       "tGrxQeIiAfMgIRQphZZBpFRQdl8EEcR9UAxF6CJoBKWmglC16EKVYsQQfEoeJFvBB0E0xOhbYa0P\n",
       "QpG6qClCwXjm3rk792/uzrS5G/CDs7s595x7z3fOnTv3zgQAykDFNjRjOCZ7x2o0DidpQv0fgbAb\n",
       "mKJiHV+qqkMm+0NWoxn0Y5HRl3TsHUghHonEJtxvm5jMhqzOzRp8jI27gCOcSOhLOvYOYSHcGhW7\n",
       "2FfHj2dl7SmTyynbIQWxSFXpTzr2DlgIr0FFwqp+ZWwkLZkNs340XDYXZON5U0/zaQdJDGrVyL1Q\n",
       "j0WEvXSwbkYT7yLZOCYyNFPHQhSBioSKfuH1k1Zk36xfDy+pYiAZL5p6Wkw7SGJQFfOcf48TAfbS\n",
       "wbpZDyCbZ4I6kaGZOhZiGr+mrZf9OFnaGqIyVzN4aBp3uezPcSJg2nrZj8Oelh0L8RJ+heJsHfQ1\n",
       "fvvnxjLxFO27+hcmfwTIb4hKj9+05SfPqY0Jo6cMinGQqDGc4ESAvXSwbkg6BMwdaafhmBBWRupY\n",
       "CDbf18pD26rf4Hn4IcjAU7JnevdmUC1DoSYa7+NuWM4leFVpTBg9bVCMu0SN4Q1OwFsi2ACr6Yi6\n",
       "oengMT7ltdJw1IeVlToW4hJ+obgXwGuqfk814EyW6S3ZM31uG4o+5BZF4xK3sSnNwrtKY8LoaYNi\n",
       "SZaoMTzKiQB76Yi6oeng8QlTmDkmhJWVOhbiQ/xC8Tph5l0y8+HM0tL7S0tf4K+zYUTu0asBvSA+\n",
       "+yC6IMSdb9xA7FW9V4PRWRjpiMbFFTymkYtsGc4GoDbS3k7XdIP0CirmQKnxBzTq+gcnAiylg4uI\n",
       "pAPc5wl5XN29bb2nTJ2G9eSJn8T+slLHQkRlL7agugLXHpSmy0Vwb4HXnTI9pzexV/U49voUDEpX\n",
       "e1hZhotyT2Ej6W1ksqkbJEVQEQdKja8LdV3jRC67pXRUgEsHv7VuaT0V6jSsench6HW1J1DHQkSL\n",
       "fNWHd/DXjOjn/gmFDoyuOP+m40ntVT2eU/FyzjUTF3l0BKUx6i3X1A2SIqiIe0QtRuQ6w4lwb7eX\n",
       "jgpw6eBQ9fWeMnUa1i040E5X9gTq2O3X+AdKdQp+zpUVnn/BcO3hQpCaJ7Wfv/aAVPY23mWg0BJ7\n",
       "GeJ6+wfnoNxIe1PLnjYoxp1QWzg3yZ7LRK5vcyLAXjpY2Uk6+Grg/nVF9VTLTsJ6PX3Z9dSxENER\n",
       "ZsjPXfaU6Y0ZmKmjS166TqvhE92bEH1wDcT+9FqjWBb0w42henxgY8Z57r6I2/iTSiMdXebeM6hq\n",
       "TeBAqLlvXYDz8QmmGZ3TmMgnu9tMR7VmTkfUDU0Hv/a2IN/WcJSpR2F1z/3dkwEbOx11LMR1/Ini\n",
       "bp7c/5DK85nDv2xiPNel52ulMOrLwD7iBmJ/z/0wKjq4W+Gj1tKKaDzCbTLzx14LlEY6ulL2XkGV\n",
       "6mJSQmrOEzWIjzLE9XNOBNx+OtjISelgEW3JT56PvnmfjqOy0NGwRj6V7u3dsdNRx0KUkEapzZQz\n",
       "2qOB8022x1Kb3W2SoB+XlcumnrqNStnTBiVwGPZxI/P7d4gydXWasYiwl45Kz7ckomcC9Ykg01M6\n",
       "hfq4/DZiRvss/164K9O7h4/glRGNfl42XjD1tKBwFwfpHZTAodj26m3elb2DUl+82EvHas+yi556\n",
       "6k7dKWd5FaNQDwtxJRKRpzC7v7/xMmSA04HlxzTqlqwZMv0XS7cx19yNoA5A6dc27zoBsUjoSzrS\n",
       "QE994sZvwZ1QJ4V4OpIQd784p3ths7PTyTLM4AYcbhjqGB/bWoZeWKPz+N/+LgT1FQwcE1yvyFM+\n",
       "Rl/SkWbC6Kl/vLMDd0KdFMLxqVjHQVU1ZrIfsxrNQDkWJd39SMfeAQvxH9tmaoU4wV+iAAAAAElF\n",
       "TkSuQmCC\n",
       "\" style=\"display:inline;vertical-align:middle;\" /></a>"
      ],
      "text/plain": [
       "((a_{1} +  a_{2} +  ... +  a_{n} + b) + (-c + (a_{1} +  a_{2} +  ... +  a_{n - 2}))) = (a_{1} +  a_{2} +  ... +  a_{n} + b - c+ a_{1} +  a_{2} +  ... +  a_{n - 2})"
      ]
     },
     "metadata": {},
     "output_type": "display_data"
    }
   ],
   "source": [
    "Add(Add(ExprRange(k, a_k, one, n), b), \n",
    "    Add(Neg(c), Add(ExprRange(k, a_k, one, subtract(n, two))))).quick_simplification()"
   ]
  },
  {
   "cell_type": "code",
   "execution_count": 32,
   "metadata": {},
   "outputs": [
    {
     "data": {
      "text/html": [
       "<a class=\"ProveItLink\" href=\"../__pv_it/demonstrations/b1f1d167da3f66d5a0aca7a548918f3d1a710fb50/expr.ipynb\"><img src=\"data:image/png;base64,iVBORw0KGgoAAAANSUhEUgAAAy0AAAAVBAMAAAC5/xxoAAAAMFBMVEX///8AAAAAAAAAAAAAAAAA\n",
       "AAAAAAAAAAAAAAAAAAAAAAAAAAAAAAAAAAAAAAAAAAAv3aB7AAAAD3RSTlMAInZUiRDNmWbv3US7\n",
       "qzJazP2FAAAACXBIWXMAAA7EAAAOxAGVKw4bAAAFh0lEQVRo3r1ZXWhcRRQ+N7s3d3+SzRoUJVh6\n",
       "+6MWIRpDCZgHG2LAIliWPhQLkV2Eogjign+hCLkoNIJSU6FQa5GFCsWIYfGpeZBuCiKC2BCL+CKu\n",
       "1aciGq0pBaF1Zu5M7syZuZN70+4eOLt3z5yZOd935u/OAkAZQu20GPpwbP5OR6NxJE0SajeFdd8z\n",
       "EmrH5UvdtMvmv6uj0RT9SLF0hY7NmNrLtZPiftsgaANszkxY6lgL74DskRTJ3q5lYPq0yUqZcmuh\n",
       "dlZ66+TjCLYeslU51OmQKpGiUVTr3tR4wWglTHlBqEjOmyd/ELcqBHb7AF0Z5rDzjC3imaSdxAZ1\n",
       "3spIrh6pKrdPx+YxCPs1YylhKg+hIhk1ry1+3KLj2+0X6KDMV5DzvA3RfNJOYoMatVN2UlJFbp+O\n",
       "zWPg9uK6sZQwNUa+xjqel6fZyhGoxoxtvTAU3uG8vCipImPdy0u2YV5jA3iNfFF1Lu/wDe1tmxxM\n",
       "lRfVf8P+8s4fSBArqtGTd/bszuPqYjIR33vCoAQGBE3IM5Iqkp4OhDpBDNzeuzqMz36Te9qUKTFi\n",
       "lsp964Z5dgIuVVLkBfkLu3u9Ui1DrqY690rLs3MW3sJDJq73pEEJThA0IcckBW+ByQpshQ6MOkEM\n",
       "3F494v6tVhga8VqUqbPkmah7CryGXu9wAEfTzBfkL+yZdcj7kJlXnQvSUClMwIdKi7QwpvekQXEM\n",
       "GJqQxyVVJDUdGHWCGLh9XwXBhk85Ux+TZ6LeGqXGZWMHji4sfLSw8AV5mqWO7tTPlXBIfXaaDyl1\n",
       "yYkKmL9u92owMAGlNdU53ySnYTZMF2GWjTf3JfazzQtZa847w21jJ71gCyrCEEKTz8Ehnr8kVSQ1\n",
       "HQpq1sMxawyR/Q2AfyFigTiyWUWY4nnJt6DahCsPo3yeAfc/8DZyvel8Yf66ncR0YQSKaL5Q6oWc\n",
       "0Y4kTd5a/0TPvLGTRxPOlxCaPI5CPEuS4rykowOj1itqMYyK2VFUT8rEkS6M82Idq/rwAXkaV+u5\n",
       "/0BuDQaazs1keQn9dTt5fSETItOIXcdIRSSkMGyt1M42TJ0U9yXMC4cWCcczLqmyv6SlQ0OtVdRj\n",
       "GBWvL5669VVZk4Spi+SLaHUEfsyUtUCuQX/tsVwlcV5C/5krD6G8tMkCC7mW2kqf1NoNQrTSIikM\n",
       "WyMpCgydwMFq0rwwaHPHd4oXSI7nfUkVSUuHhtqQFxwDt9+ke5MyZsjPJmWKnxT7/Mw5T2/vIozX\n",
       "69ExW1BQpZc314F/SAXM/9mlIF9W7P1BXz06FwvnrLQrkMPYASVAWhj23vM8GDoBH+dlI6hqTcHA\n",
       "oLnvnYITUeMNfhwWig/Q6ejAqPWKWgzc/hN8g/bqFmTblKmr5AdRd/XAtkf09p7b/esq2XWvojf1\n",
       "Ak37ORAfUQHzv+dBGFAruJfprUqhqTqXpBNKdv/b6kmTFvLep31DJ5kyzstGUIW6ehai0JyDNYhW\n",
       "DIbnc0kVSU0HRq1X1GIQDT6Fr3Km3n2AMVUg/VA1t8dfLr5O976/urGXKvYhbFy0vSlHhSXTKnof\n",
       "JF3HQun3yWb6x3dEyiEepxEp2tq2RgdFXaIdLMdVZDEkuYsYwld348b7tnvhrlT3lp/AmyWDfQY7\n",
       "z9liE4WH284NQ2O/T80+mebeMt/26m0Zj7iw1W8pt0hHhDquohSD/U6VMrXMVW1PGR/f//l6mrtr\n",
       "Zw0WnzCYW9jSZ/tfUBQWKrmTRoftlTRBbYfCb20Zz/0QKZIt0aGgHt8sBjuBlKlprlTufmXSdLt5\n",
       "69ZaGgqKK7A7iCdaev1qWVoRhaXJYWP6cr+8miaor6Bnv4JnGY/JSLZEh4zaXFGOwSqMKccPteOy\n",
       "QzcN2vwHOxpNTzlSbbx2gw47U/8DXjsIFuBMNdEAAAAASUVORK5CYII=\n",
       "\" style=\"display:inline;vertical-align:middle;\" /></a>"
      ],
      "text/plain": [
       "((a_{1} +  a_{2} +  ... +  a_{n} + b) + (-c - (a_{3} +  a_{4} +  ... +  a_{n - 2}))) = (a_{1} + a_{2} + a_{n - 1} + a_{n} + b - c)"
      ]
     },
     "metadata": {},
     "output_type": "display_data"
    }
   ],
   "source": [
    "Add(Add(ExprRange(k, a_k, one, n), b), \n",
    "    Add(Neg(c), Neg(Add(ExprRange(k, a_k, three, subtract(n, two)))))).quick_simplification()"
   ]
  },
  {
   "cell_type": "code",
   "execution_count": 33,
   "metadata": {},
   "outputs": [
    {
     "data": {
      "text/html": [
       "<a class=\"ProveItLink\" href=\"../__pv_it/demonstrations/4f5fcbd945969175a1879c29fd724681e38c53bf0/expr.ipynb\"><img src=\"data:image/png;base64,iVBORw0KGgoAAAANSUhEUgAAA+sAAAAVBAMAAADMXmKOAAAAMFBMVEX///8AAAAAAAAAAAAAAAAA\n",
       "AAAAAAAAAAAAAAAAAAAAAAAAAAAAAAAAAAAAAAAAAAAv3aB7AAAAD3RSTlMAInZUiRDNmWbv3US7\n",
       "qzJazP2FAAAACXBIWXMAAA7EAAAOxAGVKw4bAAAFvUlEQVRo3t1ab2gcRRR/e3fbvbsklzMoSrB0\n",
       "m7ZahOo1SMB80BADloJl6YdioXKHIIggHqgYipBFwQhqTYVC1SIHFYoRQ9AvyQfJVfCDIBrS4Dfx\n",
       "rH4qooeaWhCsb3d2svNvN7Nt5wI+eHeXN2/evN/7zczu7AYAqkDUtCjGsNL8LaPZWIzqpPo/khBd\n",
       "rkbUuHwmm/ak+e8xmk2fG6soPSnH9klIxIORmhT76xYW0xfN+YmUPqmNt0D2MypIT8qxfRIQYTeI\n",
       "mpUdTfx4WrQeS+tyzHRKXqwCK70px/YJEuH4RAVZUu+MftKW6afbB4Ntc1Z0nk6LNK07SGJSS6nY\n",
       "i81YeTFXDhpmMPEqkg1jIsJ06EhECYgKMqreeN2kHdlNt68ES6rkCc5zaZHmdAdJTGo0fc6fYZQT\n",
       "c+WgYVY8yNYzwZyIMB06EjGGX2PGaT8cbm0+b8w3UnooGm8x7c8wysmYcdoPw7bSjkS8iF+BWuu7\n",
       "XUW/nZNDmXDy/pv250YuARRWeaPD3rQVRk7JjQmjayZFMQjQqDzOKCfmykHDhOXgZHJ/RwdjQloZ\n",
       "oSMRdL4vV/s35H59p+E7LwNOwZ/a7atevQrFBu+8g7lgWefhFakxYXTdpCh2ARqV1xkFZz6UVTBa\n",
       "jigMKQcrwzWnrYNRnVZW6EjEefxCtc+C05L7HffhZJbpLfhTe34DSi7k53jnMnNjU56Ad6XGhNF1\n",
       "k6JFFqBReYhRTsyVIwpDysHKR9SQjjEhrazQkYgP8AvV6QaVt8OZDyfn59+bn/8Uf80EGdlTP3hk\n",
       "QXz8frQg+DvfuCH0l+1OAwYnoNLlnUuLeEwLF9kCzHggN4bRrNcOdJSD7IC0pGIMBBp7QCN4fmeU\n",
       "E0PlYDIKywH2syF4ROdsKHtK0CmUBh8vK3QkIqK91Ib6Ily+T5gu58D+B5zNKbPl9A79ZTuOvVKD\n",
       "PmG1B8xSOSdGChrDaAMTuTnlIA9ornYCjeWF4FlmVKTdUDlGgSkHe2vdVvaUoEdQcl3N1Z4AHYmI\n",
       "Nvm6C+/gr3G+n/0HFLswuGj9q4eT+Mt2PKfics63Ejd57AhSI4lW6RRaqkH6HtGkPYIWS4RnnFHu\n",
       "2m6uHKPAlIORuqvsKUGP0vpcl/YE6EjEl/gHar0G3+erEs4/YaBxsOhp4yT+05fvFWjv4FUGim0+\n",
       "Sj8T7RryKDaSaDgDfMUgcLSuS3sIbfbUCH0uE+F5i1FOzJWD0h6Wg2UDES4qMIrQSVr2Pm3a1dCR\n",
       "iOgI0+/mLzjS9MYKjDexizDpoB480b0K0QfTEPo/seyXqpx9wO9vxgc26lxgrot4G39EaiSj554C\n",
       "xSDgirRvJlVvcBhCaPabZ+F0fIJpRec0quLJ7gbLUW+klyMKQ8rB7r1tKHQUGEXoJK2c3RVPBnRs\n",
       "PehIxBX8iWqvHdl5v4zzyb0/rWE+V4Tna+Ug6wtAP+KG0P+Oe2CQ72CvB49ay4u8c4W5ySwcetWT\n",
       "GqPRT7iKQfJVkfbNpMpNvigBNOtoA+KjTIjnE0Y5ufFy0JGTykEzWhefPE+9sU/RU4JO0joo0h6P\n",
       "rQcdiShj8HKHGseVRwPrq2yPpdY2b5M4+7BoXEiLFDdWVHvqXaC7yUcrzMUbmV+/QakSPFYrVl7M\n",
       "lWN0y7ckQkgVdMu3dTf5BOjD4tuIceWz/DvhtkzvHj6ElysK+7ToPJsWiTYe71jXFMF+mZp5NMur\n",
       "mFLHaXZYPPQdlPzixVw5lrakneuphl6ZeuyvWpZXMRL0gIiLkfI4udn97W8vQQaxurDwsMLcFi39\n",
       "af/FQhvLXvGM0mGXlyWpXVD+ucPiuRtiFaQn5dCQJOjWBtwM9JCIE5EGcvvzk6oXNtevd7MM07cK\n",
       "e/1kHpmHB+2UKLSxMnlAOTuKP76QJakvIHeIw3NRnPKx9KQcGpIE/e2/azcDPSTCcokal92yaSjN\n",
       "f8hoNrlqrNJq6kU5tk+QiP8AMm9osNMGCp4AAAAASUVORK5CYII=\n",
       "\" style=\"display:inline;vertical-align:middle;\" /></a>"
      ],
      "text/plain": [
       "((a_{1} +  a_{2} +  ... +  a_{n} + b) + (-c + (a_{3} +  a_{4} +  ... +  a_{n - 2}))) = (a_{1} +  a_{2} +  ... +  a_{n} + b - c+ a_{3} +  a_{4} +  ... +  a_{n - 2})"
      ]
     },
     "metadata": {},
     "output_type": "display_data"
    }
   ],
   "source": [
    "Add(Add(ExprRange(k, a_k, one, n), b), \n",
    "    Add(Neg(c), Add(ExprRange(k, a_k, three, subtract(n, two))))).quick_simplification()"
   ]
  },
  {
   "cell_type": "code",
   "execution_count": 34,
   "metadata": {},
   "outputs": [
    {
     "data": {
      "text/html": [
       "<a class=\"ProveItLink\" href=\"../__pv_it/demonstrations/b1f34775f413bde80f6a68534a9ba7c6647153540/expr.ipynb\"><img src=\"data:image/png;base64,iVBORw0KGgoAAAANSUhEUgAAAy0AAAAVBAMAAAC5/xxoAAAAMFBMVEX///8AAAAAAAAAAAAAAAAA\n",
       "AAAAAAAAAAAAAAAAAAAAAAAAAAAAAAAAAAAAAAAAAAAv3aB7AAAAD3RSTlMAInZUiRDNmWbv3US7\n",
       "qzJazP2FAAAACXBIWXMAAA7EAAAOxAGVKw4bAAAFuklEQVRo3r1Zb2gcRRR/m7vt5i7/zoBYSkqu\n",
       "aa31i8ZQAvaDhhqkFFqOIqVC5e6LIIJwYMVQhCyCRlFqKgjVlnoQSzViCH5KPkguAT8IojFGv7Wu\n",
       "f0AIkga1RSgY3+7M3r6ZnZnserk8eLfpm/fmvd97M29npwBQAMatJoUPy6RvtTQai3CSUHeSAvdt\n",
       "g4xbTp/HRftN+vtbGk1HMWKZdiQdW2XqMOdWkv1VDdG6sjgzYrAxDm4DHSIs0eFmoTZJfqbsCuPW\n",
       "0q4q/jwrS0+bTE63OqRSxFJqK01DbZIwU47LWKI59eZ3dV3BNct7/M4wISuPmWIbS+pEG9ScEXt7\n",
       "NWKRHNfYAF2zt55taIKYqRwwlmhI3VuKuqZTNMsX/EWZK0nKk6bYJpM60QY1ZAb/HmGBckYznbvQ\n",
       "20Kp+bpgpobxMdzyuhwPdrgrCjOmfqEY3Oa6PEdYoOGm6nJ8O3qsC+fw4bO1uq+o8LL3aG+quoj6\n",
       "DfkLA98DZJdFoUPf7NmBC2IzGdF7TxhUiEGCFtIJwgKd09sYoIbeAqgCHT3kiQLJMh4mZipcMfOF\n",
       "zttxLx0X4dtSirpI+qHcvlMqF6C9IirvIp3amoJX5CWj8540qDBTErSQXicMznRAy6BORwKo3BuD\n",
       "SmnPoFMX31CSZTxMzNQUPpDtS+DU4l6eduF8mv0i6YfyzG3IFSEzKSrnyRsyPwLvCjP6gxrvSYMK\n",
       "MyVBC+lRwgJN6W0MULk3BpXSR7JAtoyHiZm6jA9kZ8NPze6hm774/PT0+9PTn+Ff4/60uHj5kvrk\n",
       "A76kxJYTDXB9We5UoGcEujdE5dwsnoaDZToD48ECsp8P/unxQTbbmYrKiT16o2QKKsLAoNEMMNNb\n",
       "hAW6rLDRRKHwFkAlSBy2CQg0CovoBS6fOvEDSjFTvC65OpRnYRUeFKt/Bey7+Hg46X7h+rIcHS4M\n",
       "Qoe0X/zUh3QldiSZ5bN1D9RUTpzG6tpqvzBodB0x03nCcl1iNpoo4t4YVAqkLs8vwQIaZjXYSpgp\n",
       "3sfKRXgHYL1xmmBe7D+hHRd5x+MJ68L1Y3I80+OGyNS0fQwNJcJBPlumpnLSM2v9m6wuDBohbnqE\n",
       "sPB+mVLYaKKIe2NQCZXl8GRYQMO8C/1eMLaEIuTyIPyYwffVx2Jd/oKuyiNwqpy0LoF++9gvD0h1\n",
       "8bB7QntdnKWTzPYPVl+YEQe591hGmJNS4roE0CYuDIQfkNz0bcICLSlsdFFEUMO6BFDpKsADjLD1\n",
       "ZFhAw3wtqAtmip8UO4uZ6w7AwaLoZQmOVKtQlOtS9i9v7gD/IQOB/pl5N1cQ5F1uZzU6F4fKWfJW\n",
       "wMPYSSFMf5B5lzPCxZCtaYIqVwQMATT7rUtwMZq8xo/DIcsH6LiNOgoClXtjUGnXrEPWk+ouwAIS\n",
       "Jv/+wUyt4QPZXjm59yF8LIl1eebAzytepiDXJe+7vg7hTzQQ6N97EHrET3t71b9Vyc+Kyt0ksuyx\n",
       "V8Wjoz8YzBbPCBPDWkkTVL4qnsd8aNapCkQH38D0U8ICrals1FEQqKG3VfkCafSN+0WBBAtImIj7\n",
       "GstUHhHmo3re8uLfyrshaR/jtNJ4lwryPbJwxvTNO6PNCP/i+TLV935XEV+mf3yNVGCmVi1i6dXm\n",
       "KWw0UURQh1J+02fU5/C+EssUvbqzr0K/G7/z+210/IlU95ZX4eVuhXxMVp7Y4u5OAiA6uQ/uSXNv\n",
       "mfOcqkdNwwvb+C1l4yaT2miiiKDObUtdrKpVYJla5OzTNXhTeevWn+ouztqAmccU4tiBsdP0/4KN\n",
       "QQ2Ab9ZfShNUP+R/9ahpH0Qs0WLcRheFGur/r0vf+u8llqmznIOdMfCd8kr8pxfTeOxYhgOuIdFR\n",
       "S60bZgkHrSf/VjWq3ObmRpqgvoC2Y4LporQmCZ2N22ii0EBNsnjVE364uckzZRUZt5z2xUW9Jv3e\n",
       "lkbTVog4lrOdSIc5U/8BlTYJzGbUxPEAAAAASUVORK5CYII=\n",
       "\" style=\"display:inline;vertical-align:middle;\" /></a>"
      ],
      "text/plain": [
       "((a_{3} +  a_{4} +  ... +  a_{n} + b) + (-c - (a_{1} +  a_{2} +  ... +  a_{n - 2}))) = (a_{n - 1} + a_{n} + b - c - a_{1} - a_{2})"
      ]
     },
     "metadata": {},
     "output_type": "display_data"
    }
   ],
   "source": [
    "Add(Add(ExprRange(k, a_k, three, n), b), \n",
    "    Add(Neg(c), Neg(Add(ExprRange(k, a_k, one, subtract(n, two)))))).quick_simplification()"
   ]
  },
  {
   "cell_type": "code",
   "execution_count": 35,
   "metadata": {},
   "outputs": [
    {
     "data": {
      "text/html": [
       "<a class=\"ProveItLink\" href=\"../__pv_it/demonstrations/e01ec85cce7041bbd41ec5867282ed9becd708d20/expr.ipynb\"><img src=\"data:image/png;base64,iVBORw0KGgoAAAANSUhEUgAAA9oAAAAVBAMAAABLb4uIAAAAMFBMVEX///8AAAAAAAAAAAAAAAAA\n",
       "AAAAAAAAAAAAAAAAAAAAAAAAAAAAAAAAAAAAAAAAAAAv3aB7AAAAD3RSTlMAInZUiRDNmWbv3US7\n",
       "qzJazP2FAAAACXBIWXMAAA7EAAAOxAGVKw4bAAAF70lEQVRo3s1aXWhcRRQ+dzc3m91NNmtRhJKQ\n",
       "bWxrECOxSKB50BCKipCyiEiFyq4PxSCI+1A1FCGLYCMYahQKtVZdSCWYYlh8ah6kW0HEl3aJVfoi\n",
       "rH0R+9CupilCoXF+7s+cuXfuD+wsHvgumzkzZ75zzszcmbkBgDxw6BcjUpEgGmjlQe2xAf8LyeuJ\n",
       "PPMuMcHRBckWPEWPBNXXQes7AbHIdE10eE0jz6L/lAXNcvQseYzJpcnpoDY6aCWqLmKR6YiYP9dC\n",
       "62hJxhiHWebQLq8T9BalwpcDQ6OF1jEBMch0SHoroQNCi9c08gQpMsZT3nF+0X9BqKpWiiqEabYI\n",
       "+ipS4XwQQz20FgVgmY9q+KKKsVLhaAZDl+nIXseiQSNPkCY/017tAV8zyYLCvlLhaLLb9Hlaqr4c\n",
       "5LceWumiCyzLUQ0fUDFWKhzNpWJYtiN7HY/GaYZJ8pzsQrZ72AtrDhcmA1ctPbR6qy5w5XIXsv1C\n",
       "6Jo7qSfbcwzHyZPCuLan4NNgeGZXrLDi+oKmd3OcLGKzuDAl7ot6Rk/hpnpo9TRd4CV0Wm0YF4eG\n",
       "WWItaN4c/UVqMzPW8nit6E8RDCUN0cosw5yV9418/7a3QfYTuFqMEVapvqApHTP/BjgpDQFhfhkr\n",
       "8J53OHaeVl/ZBcCJNSrf2mQUhqXi0DBLrF2NebdYwsfp3ROphsdrRX/+wVDSQFZOMqyQJ4F5BlI1\n",
       "b4NXqnAiziSS6guaZ4rwKcBBXJgR9iyZaVpBFD20kssukFAyCsNScViYZdauJrkNaUz2vFywouxP\n",
       "EQwlDWTlIMPn5EmQatNwm3zukQH/GR/wC5SOeeh3OkRSa2vfnF1ba3p3ka6C1ffVvANwB+A2LkzX\n",
       "ybmHza51WODD0P5TG61c2wXeHtXtikfKfu2t/lwWkrgKztpXU4bBadHJFJ+s5huspMW9RjRksy/N\n",
       "/grRaKBk3Gawsp1uQKkONx6Thsc5MO9ByhlSoZOI1ffVnIcsOYNt4EIaYFvOeYzqoZVdduHJNquY\n",
       "G635tXf7C5tUnLWfhmTrEjqDpRs+Xss0kNmKM2HDaKBkbDBYK3mpAB+TX1O4gfkP9LVhsG7cjxZW\n",
       "Xt834FtsGE8pV3LSVBY9tJI1F+i9TchYFZM1v/Zuf2Fhtlj7aMhxewHta0oFH69lGsjsPRhpRaKB\n",
       "kzHF8AN5EpQm4Ldk3hPWLRgoP9lXjBxWXn/+xnhiqYWb3KevEVjChf2CvX/JdMNGO0/rUbpLa7hA\n",
       "Qsjwit5sS/2FZpuxXjw12hy7ImW7RV6+ogySoNRlr2UayOwHkbMtes0iv2TtzImrydWUZxKRrqcq\n",
       "FfuwLGyw6XXrXbAegoLVP7JRTTcTTay5Dj/ZxwvhEC68bcmG/DAmrYFWnh+0bCChZLhhOdtyf84G\n",
       "2+qTP1wFY21+dAa+gHFMfKDaj69OyYa8pyV7LdMQzQpndpmG7TWKkuW1ddK+SZ4E5ubh4Se8YX11\n",
       "7x+bhMzNorQCU8qrYD9cBav/0H4yhu1gOprn6GnrAi7MCVvMnuffl+6ZNNAiDTJ1F0goGW7Yk22p\n",
       "P3tSrdp9Zio4/pS18WKZLGjHpcxck69nD324z+O1TEM0S3h+DQoaqz5Rsrxmkb8AGeJFpiWu7t5V\n",
       "wvgx3qXVJvzlvJKRxpC3VetBt0qdp0W3KrsFYFkXX+0+7Z3+ol1iDRRyy2xbFHzLpvZazrYlQ8VY\n",
       "NLjXNPIE1nW5HFZ0sf4wPBDr88OX8DiM5Hw09o2/U7gY5Hfnab2b498+5n2/gSx6wozbO/1F+xyR\n",
       "biUaRrsV9r1E7bVDAzU2KkY+Dg3utf3x6zJw4LAi+1duvQ0xxGiTAbWU8tEMyQX9gf+n0XFa60+D\n",
       "QTZnNlRkkrVO9DdCZndfowJx5TIE0hi69Wcxttcs8hRHLVB58K0Zv68yOzvtOHSzTXgNhvcFOeKc\n",
       "uxpBhjpOa2+VpdSGgozx7J1CB/r7HnrzxmYxdrZtrxU0vtrZie+1M6eNAkcXJOGN8K7AcamB1h4B\n",
       "sch0TXR4TSNP8B+XAWS0o++IwQAAAABJRU5ErkJggg==\n",
       "\" style=\"display:inline;vertical-align:middle;\" /></a>"
      ],
      "text/plain": [
       "((a_{1} +  a_{2} +  ... +  a_{m} + b) + (-c - (a_{1} +  a_{2} +  ... +  a_{n}))) = (a_{1} +  a_{2} +  ... +  a_{m} + b - c - (a_{1} +  a_{2} +  ... +  a_{n}))"
      ]
     },
     "metadata": {},
     "output_type": "display_data"
    }
   ],
   "source": [
    "Add(Add(ExprRange(k, a_k, one, m), b), \n",
    "    Add(Neg(c), Neg(Add(ExprRange(k, a_k, one, n))))).quick_simplification()"
   ]
  },
  {
   "cell_type": "code",
   "execution_count": 36,
   "metadata": {},
   "outputs": [
    {
     "data": {
      "text/html": [
       "<a class=\"ProveItLink\" href=\"../__pv_it/demonstrations/00b9f2166567cebaeb4907ee30078b0307fbc8420/expr.ipynb\"><img src=\"data:image/png;base64,iVBORw0KGgoAAAANSUhEUgAAA/oAAAAVBAMAAAAEMohYAAAAMFBMVEX///8AAAAAAAAAAAAAAAAA\n",
       "AAAAAAAAAAAAAAAAAAAAAAAAAAAAAAAAAAAAAAAAAAAv3aB7AAAAD3RSTlMAInZUiRDNmWbv3US7\n",
       "qzJazP2FAAAACXBIWXMAAA7EAAAOxAGVKw4bAAAGW0lEQVRo3s2aXWgcVRTHz+xms9lNslmLIpSG\n",
       "pGmrQYzEQQLdBw2haBFSFpFSIWXXh2IQxH2IGoqQRbARDHUrFGqrNZBKMcUQfEoepNuCiC9tWKv4\n",
       "Ioz1QcxDu5qmCIXGe+/Mnfu58wE7gwfOpJyde+/v3P/cr5kCQB5sj8+MQCHOIsDLQ+vMDfhfmRFN\n",
       "laTaxKjtMVr3oBLa53V/FHjfch4KJn7bF40CRIXnHI/Jps6jy7AcTY57lYkCL1FlHgqmrZb6cdH3\n",
       "nkhwhm1PlW2Pzd5A3lmUgkc9uygSvBOch4Bps3VWfG+JBAcrgDyNnv10NYbZnraxhbyL5rzm/J31\n",
       "KqrBW/NuI8gP85yLNhuD6jSBPv9FbTZonmt+jXGGFUCeQf/MxJBu0lnru7fx9awTNZ2/Na+iGjzT\n",
       "s41AP2SKzEWrxdAdNIGrRd9ba0HzNP0a4+0s8TF0HYtR/Q6y0E2LXEnPuX0sEvU7q8zFm8sxqv+y\n",
       "f8eVI1F/mvgMus7wZ4Fbe3V1twi3tP6JXXrizsYImuwmRa40v7HpGDotFp1R2ze1WP7qc1gdG8zF\n",
       "hWbcKw/PcMsDltJ7NIG3hn6S7p0YtlQcsT1dOkHU5zEmiU9zIxHber5nW1NBi3DLVf4M3CxqBSid\n",
       "SP0NcErk4sefsQTvq4+p1L6pxfJVn8fqKjMHOLmM7RsZRs3DK9zS1N5zEkjdL5bENw67R9N1ZY6S\n",
       "2tOlE0R9HuMU8SV0XeL21+cgrTmEtAi3tNeqcFIvwAtF+BTgoMiV5fY+2XF8A29LavumFstXfR4r\n",
       "WWMuGA+j5uEVbnloUXuPLnnbkBGhL8kBjCO1p0sngPoCxkHiF9AVeepN8vBb6Sbu/pQ9No+S2Aqe\n",
       "fkj41cmfxbCUpFMH+uccToObvZaXvz6/vIzn2HcB7gHcdcbbZ/Z4y6yyWueKUtsYT8Bi5Xgsrg1p\n",
       "Jmc/8Fi5JnNxO8jDkALHyrr0Uod+K4ph6aQm9R4zLoEy9I3zdaS35a7EODyGnI6DweqUTO4tx+4S\n",
       "d9R3U69DaRVuPyX3CAlXAj/xn0PqgX74XYJudOZbF59KnCErKtsFFcvUYvmOfR6ru8ZcUV/IIze0\n",
       "qEsvHXg6tDF1wxGpcXVUulWDI2EI6TAMv7EvYKwTl2b+0iB8gv4UpPJ2+AEMWMGmun+gq6kXYIs8\n",
       "3oWWMz8qKtuSimVqsfzUF7CSi8yFdV+EwQWSi7r0+laNh8HUd+g1gqDj/lxRulVdiGQMIR2G4ae+\n",
       "gFEgfh1dr3Otj8IvybyqPgl/GFj9LegtP9s1e3sksWCJ6j/EqxUsiFw9XM7/ouEo1nZdxTK1WL7q\n",
       "U6wn8a6vzlwwDsYuoKpv11MMrD7BnD89tDF8Q1LfQosxb32oc1ZlHBlDTKcYWH2Kgd+1LRCfBHb+\n",
       "Im0lL6fVse+E5eNpCb8mvg/ORRCsUKkcW69mNhIbovq/wg/cGdNkpy9qaMN/RKxsUsUytVjuuULG\n",
       "oj+4WHn7JEVdMB6GFFDUd8LOuwv2ULhNlspq76U+PgdfwIiYQG+1R3zVizb8HZaCI2EI6TAMk8Mg\n",
       "BBTDlDDOOArMwCa6bnIZNI70P6Oq74RzX0mzEka/DPTC7Pj+3xvWY0+gZ5t2LiU+/hI+UF0ROyHH\n",
       "dWPH4Q+kw9SmimVqsWgbCpbbOMVCLWRXmQvGw5ACqvp2GDYlULfJbEXtPeOVMpr4pMc+dUt+j3vo\n",
       "owMqjoQhpMMwTA6DEFAMU8LYdhS4AllUPKvM5wX9FLInzCEXoAF/uauoMCsbi9IhZcWrGoZX0B9u\n",
       "KFbAd30NsuXZzbloCkxSv7szvg/VG72DuZq7xTKDl1tRMMR0XIxg7/p6B/E+FyuA3HndH0h9o2KE\n",
       "+n8WF+FpGMhpvky4323o94d5r2oYXkH73cLFCviV5yK8l7M/nlAXbT6g+o/DI2F6I2Ml6kbT0iTg\n",
       "bfMKhpiOixHsK0/GSlcs9+PeNbA9gPp77vwZZvAbTTTMFtK6iuRAj+dTda3dWCvPg4E2e9T9YPTq\n",
       "GzfuvBNG/QE07LrqFQhrLk67MLJ/WEQB7FOO8/bo2xO6gl/u7IRpp3sDXof+A15yuitj3auiqXZj\n",
       "7a+SPqXuA2O8eE+3pGR2dpph2v0OOvNGoxhafYrTNozEYTbmjUHbY7SE2uOeH02iwNvLeSiY+G1X\n",
       "NAog/w82l1VUVNnNqQAAAABJRU5ErkJggg==\n",
       "\" style=\"display:inline;vertical-align:middle;\" /></a>"
      ],
      "text/plain": [
       "((- a_{1} -  a_{2} -  ... -  a_{m} + b) + (-c - (a_{1} +  a_{2} +  ... +  a_{n}))) = (- a_{1} -  a_{2} -  ... -  a_{m} + b - c - (a_{1} +  a_{2} +  ... +  a_{n}))"
      ]
     },
     "metadata": {},
     "output_type": "display_data"
    }
   ],
   "source": [
    "Add(Add(ExprRange(k, Neg(a_k), one, m), b), \n",
    "    Add(Neg(c), Neg(Add(ExprRange(k, a_k, one, n))))).quick_simplification()"
   ]
  },
  {
   "cell_type": "code",
   "execution_count": 37,
   "metadata": {},
   "outputs": [
    {
     "data": {
      "text/html": [
       "<a class=\"ProveItLink\" href=\"../__pv_it/demonstrations/86537b3cedce3b525661941ce1e3902074b8b6430/expr.ipynb\"><img src=\"data:image/png;base64,iVBORw0KGgoAAAANSUhEUgAAAp8AAAAVBAMAAADycpisAAAAMFBMVEX///8AAAAAAAAAAAAAAAAA\n",
       "AAAAAAAAAAAAAAAAAAAAAAAAAAAAAAAAAAAAAAAAAAAv3aB7AAAAD3RSTlMAInZUiRDNmWbv3US7\n",
       "qzJazP2FAAAACXBIWXMAAA7EAAAOxAGVKw4bAAAEr0lEQVRYw7WYX2gURxzHf5u7zd6fNDmlUCgV\n",
       "z1aoFJQoGjB9aAhCS0vCPpSWgnL3Ikof9B5UgggegvpSNBYKagUDpkivNFz7FN9SS+lbm4a29KVw\n",
       "+iIopLExKgQ8f7Ozf+Y3OzPZJdkffG/1m9nf77OzM7OzCwAV4Mo4rESWEBvPVAH91VobVQB6Brmy\n",
       "jnI1Zr1lap8B04+CUrGkKQB7fWUZB6/jzw7ZzY2YzsmAqacZKc7iQa6/gF3nyjaOoHpdyfzEdEYm\n",
       "TIcFxVmObEgBp8klxaz6hFndfG6a7WVUoSGZEya0xEya0so/XBREY8KHXGdg4iJwSbFHfYLGhlzV\n",
       "aJdX2O9XUttJE1piJk1p5R+KbiQakwHk+gITD+FhKOsOzU+x36PUzBkn9VAWHdrbjETb1gPI9QUm\n",
       "PoEHJuvPbVUFvMbWwm8Z3aywexd24jN7jJqO+EzKv3mJZjQwqWskYcrPR6ILzEgACSYoWllhY+Kj\n",
       "/tC5U+lbUcBrbO3cvgK/u3G7dth+DHBB6mVhmFi34AzNqGfS1EjCVKhHAjjdYvF9wMIhwQAlVVbY\n",
       "mPgWHlD2VXCm4vAaWwv/WRNOK+z3XPgSYD81S8J4KI2wBmLomTQ1zEx8356bjESCsXBIMEBJlYkd\n",
       "FvgaDyhniZ1v80GEt+4av3Xc/njsL2pL86XV+vZ6q8Wm0VmAabA+mh2k9imAJwD/UbPYxt2KN0hm\n",
       "4Cy/w8F/jUxeDfvAvy5NZ2Zyfl5cBOhfikQfJu0A0v7cY+iwE2UoLxMuBGxqie1IAb9Di3NQa8P9\n",
       "d6TRwO1GeGPWGqE3wF6F8s1pyZ6GMu5J7lCTXUQQN2IZ9UxeDSccvGuOUK99X7f7DCfnZKRYh3JI\n",
       "MEB5meCYfDtoAX/K16pwGf81LMFzexW2dhJ1qP0/FJag3JGvaRmclTC5YsrjeXJomXiNgbb1IlmH\n",
       "8vYO4LCA3FQksoYyFg4JeiieKd+AtsIOC9xFC1UbhL9zlXiHevb5xB26DK/Ud5cf7ZM69AVbZ+AL\n",
       "avYJPfEcby7NqGXiNQpu4g712luQxwlcmItEgrFwSNBD8UzFH/ZJ/UwLsL3MGMuYu+3ER6hvw4dS\n",
       "P9f9H/spvaq7MNxolP84NEjtf+BXfyckbk6FlQ+fpuMUU8/k1Yi2jeFOIsCp1RVMAO/6u6NAdIM0\n",
       "H0CCAcrLVBv/tAlxOyzwEA8oe2F8y644vG/3f0PtUiP4uU3hD22/t9CJFv3Qfp8xfEfNfuEJnv/g\n",
       "nLQf0TP5NR660goS4JQaKiabDcpSOxIJxsIhwQDlZdralHZXUoESspXCRW9YvT96w03zppTz1u6Y\n",
       "bclPkRnTO8daTNYv6d6UCmxQvi6Ixkzil6GBDlsL4hEUYJ8sgs8WAjz5EGE1rEqKjyMDHeuxwg4+\n",
       "d4TmRRP3WkyvwaZUH0e814gJQfHPJskCB+Gq5q2TJ/7JF4WnA3TxgZvihdZxe+ZVWWSjz/hN3sxk\n",
       "/bZ4MtVb9gBerzUXKRULvdP9U6YCcNAXi1ePj6ra3ux207DboweMPRS2mzN+lDYyFbvdpVQdypYQ\n",
       "1muBUrGQ2P62ayoAVpUr6+iJX8VmU/sMmLYJSsWSosBLYtKzFJbZ1rYAAAAASUVORK5CYII=\n",
       "\" style=\"display:inline;vertical-align:middle;\" /></a>"
      ],
      "text/plain": [
       "((a_{1} +  a_{2} +  ... +  a_{5} + b) + (-c - (a_{1} +  a_{2} +  ... +  a_{7}))) = (b - c - a_{6} - a_{7})"
      ]
     },
     "metadata": {},
     "output_type": "display_data"
    }
   ],
   "source": [
    "Add(Add(ExprRange(k, a_k, one, num(5)), b), \n",
    "    Add(Neg(c), Neg(Add(ExprRange(k, a_k, one, num(7)))))).quick_simplification()"
   ]
  },
  {
   "cell_type": "code",
   "execution_count": 38,
   "metadata": {},
   "outputs": [
    {
     "data": {
      "text/html": [
       "<a class=\"ProveItLink\" href=\"../__pv_it/demonstrations/b2d56bc8c86a523d4a27cf85a2b1d99db0a0a52b0/expr.ipynb\"><img src=\"data:image/png;base64,iVBORw0KGgoAAAANSUhEUgAAAPYAAAAVBAMAAACH7A7XAAAAMFBMVEX///8AAAAAAAAAAAAAAAAA\n",
       "AAAAAAAAAAAAAAAAAAAAAAAAAAAAAAAAAAAAAAAAAAAv3aB7AAAAD3RSTlMAInZUiRDNmWbv3US7\n",
       "qzJazP2FAAAACXBIWXMAAA7EAAAOxAGVKw4bAAACY0lEQVRIx7WWT2jTUBzHv1mMSZrOVhEEYZjJ\n",
       "QBCUKuKhF8soCILyrsJGehl6EXtQGbusJz3676LTQ8HBNCAUT3paHYh40VKHeBGqRw+uM9aLsPl7\n",
       "aQLNewk0hwRe+vp+v9/38/783nsBUETmTxJiopQ9+1VC+5lssdqHJo2vITbPrXBbLeMx763Ta0Fq\n",
       "vkJFl7qE17EaViNBPMEQqhT4mt6RzB4VU446Haul2gnsBEOoss44hYkdHtDrbNbsC/7Ei3Ozh7IA\n",
       "N6gom9N2TNTU7IFU7Kh/qHLt6GdCdcQs6J4o4SpV3hTzAznKuo9PLAVb8A9UtL/MKcLwM3rJ5c9L\n",
       "XnUWtG08I/Mj6E1ot4Woyw0sQat+Y2OyfX9UZ6Iq6gCmDfWeEHSO4QGeUKr3kavgx3EEfXs87Nsy\n",
       "sAqdd4tcXPfFiut2JPCIwfc3bKsdUdFrKFSwry/E3QL+cLbZhtMCysK4n0L7h0JL2Rlz3L6/2cN2\n",
       "RIVGtV6CJY57FZbH59yxcRcSW/sNow+Djcse+h9heBhh0/ZeZlCbwnp70AfYIHYJX9SixPYwWTsV\n",
       "7IZx2L7/FsPzKLtH6QSjLQTt8PS4CORtdU2X53wD5Tqdhz+FXHNqPHmDyqjB99/iOTSqMtnIk4he\n",
       "Edhf8Z6kSal7aeqkzJ6f+d7tQXknLGuOn89rYWXE4PvTnHvRPba5yH1bAnv+PJ02uV74txx7rh3C\n",
       "/jTnmpRrw+dwbKRRl9ijd4ny8dfNNHfJhG11Ym6kxfjQt8HvweuzMVZzd7ef6sqsHmNyo9KOd57L\n",
       "/rMF+YSPJsXOnj0d2/ofrdOnaDXSfmQAAAAASUVORK5CYII=\n",
       "\" style=\"display:inline;vertical-align:middle;\" /></a>"
      ],
      "text/plain": [
       "(a_{1} +  a_{2} +  ... +  a_{0} + b) = b"
      ]
     },
     "metadata": {},
     "output_type": "display_data"
    }
   ],
   "source": [
    "Add(ExprRange(k, a_k, one, zero), b).quick_simplification()"
   ]
  },
  {
   "cell_type": "markdown",
   "metadata": {},
   "source": [
    "### Simplification\n",
    "\n",
    "The following simplifications come with actual proofs."
   ]
  },
  {
   "cell_type": "code",
   "execution_count": 39,
   "metadata": {},
   "outputs": [
    {
     "data": {
      "text/html": [
       "<span style=\"font-size:20px;\"><a class=\"ProveItLink\" href=\"../__pv_it/theorems/a259ec76dfb0a5be60b7c83d797520fa82c1dba60/expr.ipynb\"><img src=\"data:image/png;base64,iVBORw0KGgoAAAANSUhEUgAAADEAAAAQBAMAAABNQoq8AAAAMFBMVEX///8AAAAAAAAAAAAAAAAA\n",
       "AAAAAAAAAAAAAAAAAAAAAAAAAAAAAAAAAAAAAAAAAAAv3aB7AAAAD3RSTlMAELvv3c2ZVESJq3Yi\n",
       "MmZ3LnoBAAAACXBIWXMAAA7EAAAOxAGVKw4bAAAA2UlEQVQY02NgwASSKqF7bjIwMCo7oElwL37A\n",
       "mK8GZLAmoMlkdzIw8IFk+AtQJXgTFIHkMiDuF4AKbXJxCQBSXAIKQFIOiKdAJVo3QmgmHpjxUbuX\n",
       "gyieQCj/FO8ECIPxq4D8AZBDDkBlbnI8gDDYPzIwbwDJwFxwjGMDhMEWwMAP0n7ZBQgUwPZATWOZ\n",
       "wNAPcrcQTA8T2G0Q7+SD3M0Ck+EA+4cDKHOB0Q4cJhvgYdAFJFKBHnvABHF/ODzcVHMYS4BijCvz\n",
       "IAJSGrDAkFT+koMSYJ0q4NCBAQD6uylQEVfDpgAAAABJRU5ErkJggg==\n",
       "\" style=\"display:inline;vertical-align:middle;\" /></a> <a class=\"ProveItLink\" href=\"../__pv_it/demonstrations/ea5cfced083833bf6022c5628e5d154122cf59760/proof.ipynb\" style=\"text-decoration: none\">&nbsp;&#x22A2;&nbsp;&nbsp;</a><a class=\"ProveItLink\" href=\"../__pv_it/demonstrations/7834699968cb4aef3db74e85b7cf092ed30fae310/expr.ipynb\"><img src=\"data:image/png;base64,iVBORw0KGgoAAAANSUhEUgAAAMoAAAAVBAMAAAD1I2xhAAAAMFBMVEX///8AAAAAAAAAAAAAAAAA\n",
       "AAAAAAAAAAAAAAAAAAAAAAAAAAAAAAAAAAAAAAAAAAAv3aB7AAAAD3RSTlMAInZUiRDNmWbv3US7\n",
       "qzJazP2FAAAACXBIWXMAAA7EAAAOxAGVKw4bAAACLElEQVRIx52VMUgcQRSG/9Xb29zt6R2pU6xJ\n",
       "E4SASAjEJtcJQuCqQMDgNSFphCtExCZro02KEAhEJSAYCK4kpDSVJo1YRdQijcQ6TQhGO8U3ezM7\n",
       "s/N2VXbh3h7f/vv+N/NmZgE0UPByrsdi1DNU1MUPOLuTI7sPd2clza8GGF+icJdl7G1S6O8wmdsG\n",
       "yh1LfDXAC0FbNn0iQnWXybwQqKtJ25D3BPhhDsAx/W4w7xkRBg0XKavQbVPVNCzvCegNcoB/IuI7\n",
       "2+WNmLB57aJkDyiOwXJJgErKQClu1Eu7LW3xqKxdlGyK4uTt/bRLAlRSBsp792gSH1sunmj+gOGi\n",
       "ZFSOe9qaaJguGsikDGDiufsPmBd/ZyNxfY6TUtec0HBRslV68wSVwHTRQCZlAI9aeAs8tMZSpcJL\n",
       "MFyUbJnG2Ua9Gde02K1JAi+K1paiaDcDYBr4D/y1XCpfgbmui3sKQ0Yu1SY2h8yxaCBLZwAf4dMi\n",
       "/cZdnECO5ZMpW403w6uW6aKBTMoA7QOPFumI1ReaMf/w8PeHpt4uXdkPynHkvk+tMQ2Uiw1wjqfU\n",
       "6dfWWGrx04rui5LRYuwLa52UiwYyKQP4hW2KU5ZLKc5f30qAkv2hRh3MpHelBmol2wDPRsVRs265\n",
       "9ItN6P08Sw5rJaseGaphdsYGlwHHPqnxJfM7tJI+8TbYtyG8DHj2UyxkuQjZdxS+bjFSa+TIxou7\n",
       "8ALdrRyZExQ16cko/Gam7AKx4KVOhufwLwAAAABJRU5ErkJggg==\n",
       "\" style=\"display:inline;vertical-align:middle;\" /></a></span>"
      ],
      "text/plain": [
       "{b in Complex} |- (b + b + b + b) = (4 * b)"
      ]
     },
     "metadata": {},
     "output_type": "display_data"
    }
   ],
   "source": [
    "Add(b, b, b, b).simplification(assumptions=[InSet(b, Complex)])"
   ]
  },
  {
   "cell_type": "code",
   "execution_count": 40,
   "metadata": {},
   "outputs": [
    {
     "data": {
      "text/html": [
       "<a class=\"ProveItLink\" href=\"../__pv_it/demonstrations/8d9988757869431ac5d760705674977c5bf036d50/expr.ipynb\"><img src=\"data:image/png;base64,iVBORw0KGgoAAAANSUhEUgAAACIAAAAOBAMAAAC4B9O8AAAAMFBMVEX///8AAAAAAAAAAAAAAAAA\n",
       "AAAAAAAAAAAAAAAAAAAAAAAAAAAAAAAAAAAAAAAAAAAv3aB7AAAAD3RSTlMAMpndq3ZmzYkiRO+7\n",
       "EFRAb64nAAAACXBIWXMAAA7EAAAOxAGVKw4bAAAAh0lEQVQI12NgYGAQYoCBO5shtAlchKEITLIi\n",
       "ifwDk2IlcAGuv2CqASHCYQDWNAEhwu4a8oCBYRoDQuR+Le9PoCYkkfcXGLYysE2AiNwvABLqDAw/\n",
       "GKYyQESYFYCEBQPXP4YlLi6/PRDOYQLbvwVuzkeG2wkg+g9cxI3hEIjS+e8KE7nSlMAAALpDIfPH\n",
       "59cAAAAAAElFTkSuQmCC\n",
       "\" style=\"display:inline;vertical-align:middle;\" /></a>"
      ],
      "text/plain": [
       "4 * b"
      ]
     },
     "metadata": {},
     "output_type": "display_data"
    }
   ],
   "source": [
    "Add(b, b, b, b).simplified(assumptions=[InSet(b, Complex)])"
   ]
  },
  {
   "cell_type": "code",
   "execution_count": 41,
   "metadata": {},
   "outputs": [
    {
     "name": "stdout",
     "output_type": "stream",
     "text": [
      "Help on method simplified in module proveit._core_.expression.expr:\n",
      "\n",
      "simplified(*args, **kwargs) method of proveit.numbers.addition.add.Add instance\n",
      "    Return an equivalent form of this expression derived via 'simplification'.\n",
      "\n"
     ]
    }
   ],
   "source": [
    "help(Add(b, b, b, b).simplified)"
   ]
  },
  {
   "cell_type": "code",
   "execution_count": 42,
   "metadata": {},
   "outputs": [
    {
     "name": "stdout",
     "output_type": "stream",
     "text": [
      "Help on function simplify in module proveit._core_.expression.inner_expr:\n",
      "\n",
      "simplify(*args, **kwargs)\n",
      "    Derive an equivalent form of the top-level judgment by replacing the inner expression via 'simplification'.\n",
      "\n"
     ]
    }
   ],
   "source": [
    "help(Equals(c, Add(b, b, b, b)).prove(\n",
    "    assumptions=[Equals(c, Add(b, b, b, b))]).inner_expr().rhs.simplify)"
   ]
  },
  {
   "cell_type": "code",
   "execution_count": 43,
   "metadata": {},
   "outputs": [
    {
     "data": {
      "text/html": [
       "<span style=\"font-size:20px;\"><a class=\"ProveItLink\" href=\"../__pv_it/theorems/a259ec76dfb0a5be60b7c83d797520fa82c1dba60/expr.ipynb\"><img src=\"data:image/png;base64,iVBORw0KGgoAAAANSUhEUgAAADEAAAAQBAMAAABNQoq8AAAAMFBMVEX///8AAAAAAAAAAAAAAAAA\n",
       "AAAAAAAAAAAAAAAAAAAAAAAAAAAAAAAAAAAAAAAAAAAv3aB7AAAAD3RSTlMAELvv3c2ZVESJq3Yi\n",
       "MmZ3LnoBAAAACXBIWXMAAA7EAAAOxAGVKw4bAAAA2UlEQVQY02NgwASSKqF7bjIwMCo7oElwL37A\n",
       "mK8GZLAmoMlkdzIw8IFk+AtQJXgTFIHkMiDuF4AKbXJxCQBSXAIKQFIOiKdAJVo3QmgmHpjxUbuX\n",
       "gyieQCj/FO8ECIPxq4D8AZBDDkBlbnI8gDDYPzIwbwDJwFxwjGMDhMEWwMAP0n7ZBQgUwPZATWOZ\n",
       "wNAPcrcQTA8T2G0Q7+SD3M0Ck+EA+4cDKHOB0Q4cJhvgYdAFJFKBHnvABHF/ODzcVHMYS4BijCvz\n",
       "IAJSGrDAkFT+koMSYJ0q4NCBAQD6uylQEVfDpgAAAABJRU5ErkJggg==\n",
       "\" style=\"display:inline;vertical-align:middle;\" /></a> <a class=\"ProveItLink\" href=\"../__pv_it/demonstrations/b1e21eaba12fd66ceb4a8a667c0018446b579ea50/proof.ipynb\" style=\"text-decoration: none\">&nbsp;&#x22A2;&nbsp;&nbsp;</a><a class=\"ProveItLink\" href=\"../__pv_it/demonstrations/59cbb610037f32b2d7d9fc470e0f319f0b3d20820/expr.ipynb\"><img src=\"data:image/png;base64,iVBORw0KGgoAAAANSUhEUgAAATMAAAAVBAMAAADY9BTyAAAAMFBMVEX///8AAAAAAAAAAAAAAAAA\n",
       "AAAAAAAAAAAAAAAAAAAAAAAAAAAAAAAAAAAAAAAAAAAv3aB7AAAAD3RSTlMAInZUiRDNmWbv3US7\n",
       "qzJazP2FAAAACXBIWXMAAA7EAAAOxAGVKw4bAAACtklEQVRIx51WTWgTURCeNdlss4lJ8NhTqggi\n",
       "CKGIVxcRBEHISRAq6aXoRchBpHhxvajH4slWhIIFsaAET7119SKeLOrBSzFnT0pMb4rz9v3szvtJ\n",
       "lh2YNvnS+b5vJvPeFgA6YAsPykYH7JyFdRTBsZ615FRpa+9EalFcRxGct1ZUIljZ0rD5gP9pGz3E\n",
       "PLVw6gC0hlYCf9Vach3zlg7OB2pMZE0kde3WgfDAShDE1pJ1zIl43ZB/IgHYcwFt9q09Fklihg6c\n",
       "zazlCer2hdlAR1M59K6wKAFYdgCw38cf9T5PEm4daD3KrOUJLthXAMdf3dasKUA6MQC4mn4pMU8S\n",
       "bh2o1jJreYK77PWlM2Nt/LidtS/nesSaAqQTA4A7J7+i1AFPEm4dWMpZyxPcxveLvSDBX/d3WbyR\n",
       "vgdr/m9iTQHSiQH4R/1BBxZwFCwhSAl3U2G3jhdn1gjBSwR2oN6l3YQ4jYt9eEqsKUA6MYDKlDFV\n",
       "cIFYknDrVCGzRgieY3NTYwfqI4B7AH/Szl9v8c45wJre5E0bQLAK7QhavyBNEm6dh9yaf6QTYEk9\n",
       "sZbsQGNCpqYAOSQDCCPY70GDHe8N05pdx+uKqb3SCXDQAyGd2wE26IlsU1pTgHRiAHgrPehDBQ8u\n",
       "S7JrTp3G4eGPFxFYCD7ge9zFEe2miSz/4EZMrClAOjGA9th/hhuc8CTh1sHZqV0jBNewuQSq2qFm\n",
       "x/c7fKT3mgKkEwM4HjeH/EYIIs2aWwcNqT4IwU8ELj85rRG1cKQ3r8TUmgKkEwPwv7EHTzjiScKt\n",
       "A8Hnv/LgEoJwbL2m3+av7K7+6fJMYFEkvSbm6+gEC0NrSf7x3DCezHszgXX52M5HAR2D4L21pNkp\n",
       "/a+kl/DUoriOIlixlvhJaWtMzaJYXEcReF1rzYnS1pZE6rMorCMI/gM4EviHmiaIWQAAAABJRU5E\n",
       "rkJggg==\n",
       "\" style=\"display:inline;vertical-align:middle;\" /></a></span>"
      ],
      "text/plain": [
       "{b in Complex} |- (c = (b + b + b + b)) = (c = (4 * b))"
      ]
     },
     "metadata": {},
     "output_type": "display_data"
    }
   ],
   "source": [
    "Equals(c, Add(b, b, b, b)).prove(\n",
    "    assumptions=[Equals(c, Add(b, b, b, b))]).inner_expr().rhs.simplification(\n",
    "        assumptions=[InSet(b, Complex)])"
   ]
  },
  {
   "cell_type": "code",
   "execution_count": 44,
   "metadata": {},
   "outputs": [
    {
     "data": {
      "text/html": [
       "<span style=\"font-size:20px;\"> <a class=\"ProveItLink\" href=\"../__pv_it/demonstrations/ee0780e49e2018aef95c0b3e1d253bbaf79204630/proof.ipynb\" style=\"text-decoration: none\">&nbsp;&#x22A2;&nbsp;&nbsp;</a><a class=\"ProveItLink\" href=\"../__pv_it/demonstrations/465990d54e156cc2dd6a83340df7f2964b8b7d7f0/expr.ipynb\"><img src=\"data:image/png;base64,iVBORw0KGgoAAAANSUhEUgAAAJoAAAApBAMAAAA/jy3/AAAAMFBMVEX///8AAAAAAAAAAAAAAAAA\n",
       "AAAAAAAAAAAAAAAAAAAAAAAAAAAAAAAAAAAAAAAAAAAv3aB7AAAAD3RSTlMAInZUiRDNmWbv3US7\n",
       "qzJazP2FAAAACXBIWXMAAA7EAAAOxAGVKw4bAAACFUlEQVRIx+2Wv0sbYRzGn/Mu3sVLz8wi9Fxd\n",
       "DCKuDeIqZhDEIiQggos0pQXFOlyXtqNLh1ZExckDIThpp9N/QLe6RIOjoJTEFoeW9L0kRZ/3zqX3\n",
       "TqVfePPe+9zd574/3h8BgCz+3iLvduUS0PZlYUS0q4IkGmMv5eecMo+18dUKujwWUyWkvr6QaXN4\n",
       "LgfRc8rjaegNYJ5FM6QP/aEdtDtrC0ZACjDYodkdd4ZyqR/Ae6al8ZA23O4yp9C/kwLnXYemu+3+\n",
       "sAJBS3NUo3G03jKcBtOMbokmru6Abk7c6zhaUdDumDYQpX0RJIOzuRBHe5qHUydF8yK0y2pNZLgU\n",
       "Xq74oe0BO4/RbkkxEBOpSIa+Rr6t39PEFz61voBiHnadlLdtmun7u599vwPeLMD59hiNqqBTFTQ3\n",
       "4tsNcJKDzb7FRpoJYNEMsavVi4080ZqFkKZvUd6O42jWGswS1xRpybeNVqRWQL5NhD+TWaYJj2dq\n",
       "Eq03YNqH1nwz80S7Eq26uejxu9Nj5xLfPPnlEs1eEqsePRVezLWHo+HInhNR7mdIaH1806KN5iBC\n",
       "iyg2raVl6e5Rgs0SWiAJs0loGXkX1NwEtAH8t3/dpsbfKKSV8SSnDGZ54WmvysQJppCm/yyYnrq8\n",
       "XdRfKayC2dxWSBvpbyqsaRnPPiqjiX9MWkMZrSjamTrfsglPBj6B5mG56mp6vaRu1f8G/3iMdge9\n",
       "ClUAAAAASUVORK5CYII=\n",
       "\" style=\"display:inline;vertical-align:middle;\" /></a></span>"
      ],
      "text/plain": [
       "|- (1 + 0 + 4 + 3) =  \\\\ 8"
      ]
     },
     "metadata": {},
     "output_type": "display_data"
    }
   ],
   "source": [
    "Add(one, zero, four, three).evaluation()"
   ]
  },
  {
   "cell_type": "code",
   "execution_count": 45,
   "metadata": {},
   "outputs": [
    {
     "data": {
      "text/html": [
       "<span style=\"font-size:20px;\"> <a class=\"ProveItLink\" href=\"../__pv_it/demonstrations/cdfdb80e50909ba37c6260c3a5d67d629d1148f90/proof.ipynb\" style=\"text-decoration: none\">&nbsp;&#x22A2;&nbsp;&nbsp;</a><a class=\"ProveItLink\" href=\"../__pv_it/demonstrations/e2f68792821947c5ab6e53d0eb7d1c776ecdbc090/expr.ipynb\"><img src=\"data:image/png;base64,iVBORw0KGgoAAAANSUhEUgAAAKoAAAAVBAMAAAAkxGgRAAAAMFBMVEX///8AAAAAAAAAAAAAAAAA\n",
       "AAAAAAAAAAAAAAAAAAAAAAAAAAAAAAAAAAAAAAAAAAAv3aB7AAAAD3RSTlMAInZUiRDNmWbv3US7\n",
       "qzJazP2FAAAACXBIWXMAAA7EAAAOxAGVKw4bAAAB10lEQVQ4y6WVv0/CQBSAXylYKJbg5I844OAM\n",
       "IcZVBkcNbC4aWUxcjAyGGuLAposJqxoDiTHGJiTECV2s/gHKpsaQEOPEoBgDcRLvqMW+u+sil1zv\n",
       "+Hp8fX29vgJAGP7fXP/riQ1gveDIWKo3zJDeTDHnRrN3GEjzOxVmTeiUhJRnrXPdbrcAvjT4HjYZ\n",
       "q2RCEkuWQP7Ea1aybXJcY60Lup6LgUKvFrWtVWvQwhAoIBKN+TrWLGiH56HWXdaaIDcKEACnNW4N\n",
       "gTZoH4hcVuDXKkec1gCbO/KUagCzIqtWAu0bEWL7ElmHuMSCtwGwJbKSprYYcpUXWb01zjpJ+rqL\n",
       "9T2CyUu9IbL603SaM2grW/yZ9BMXa5kl9h7AVrnAhipRcvRnJVc8sK+omCyBIlmkGMb5oWHU+tZQ\n",
       "i0trGludke0DJm8A9zFBrEEuVtV0zYCcgBFEuimxVS6xeV2lN3IrtL4CTCNybGWAf1omG+t1hhwW\n",
       "6SwZxlbpTNdLiOzx+9VL3xMlwRUCSpqk14sbeeRQSYlIIxLU7epiW7WnziNZydYcGKeJUhtOFOf2\n",
       "NEf6sfbahLhC+jPOX1XuPEeC6B3ddim8NwMUbVoyxW15EOuw2ydGigxgnRLjH/dzhYqomBa5AAAA\n",
       "AElFTkSuQmCC\n",
       "\" style=\"display:inline;vertical-align:middle;\" /></a></span>"
      ],
      "text/plain": [
       "|- (1 + 2 + 3 + 1) = 7"
      ]
     },
     "metadata": {},
     "output_type": "display_data"
    }
   ],
   "source": [
    "Equals(Add(one, two, three, one), seven).prove()"
   ]
  },
  {
   "cell_type": "code",
   "execution_count": 46,
   "metadata": {},
   "outputs": [
    {
     "data": {
      "text/html": [
       "<span style=\"font-size:20px;\"><a class=\"ProveItLink\" href=\"../__pv_it/theorems/a259ec76dfb0a5be60b7c83d797520fa82c1dba60/expr.ipynb\"><img src=\"data:image/png;base64,iVBORw0KGgoAAAANSUhEUgAAADEAAAAQBAMAAABNQoq8AAAAMFBMVEX///8AAAAAAAAAAAAAAAAA\n",
       "AAAAAAAAAAAAAAAAAAAAAAAAAAAAAAAAAAAAAAAAAAAv3aB7AAAAD3RSTlMAELvv3c2ZVESJq3Yi\n",
       "MmZ3LnoBAAAACXBIWXMAAA7EAAAOxAGVKw4bAAAA2UlEQVQY02NgwASSKqF7bjIwMCo7oElwL37A\n",
       "mK8GZLAmoMlkdzIw8IFk+AtQJXgTFIHkMiDuF4AKbXJxCQBSXAIKQFIOiKdAJVo3QmgmHpjxUbuX\n",
       "gyieQCj/FO8ECIPxq4D8AZBDDkBlbnI8gDDYPzIwbwDJwFxwjGMDhMEWwMAP0n7ZBQgUwPZATWOZ\n",
       "wNAPcrcQTA8T2G0Q7+SD3M0Ck+EA+4cDKHOB0Q4cJhvgYdAFJFKBHnvABHF/ODzcVHMYS4BijCvz\n",
       "IAJSGrDAkFT+koMSYJ0q4NCBAQD6uylQEVfDpgAAAABJRU5ErkJggg==\n",
       "\" style=\"display:inline;vertical-align:middle;\" /></a> <a class=\"ProveItLink\" href=\"../__pv_it/demonstrations/129077f10d6275246549c616bbd06595ebd066810/proof.ipynb\" style=\"text-decoration: none\">&nbsp;&#x22A2;&nbsp;&nbsp;</a><a class=\"ProveItLink\" href=\"../__pv_it/demonstrations/d1e180c2f809ca0eb944fde73fe5b18cc45bea750/expr.ipynb\"><img src=\"data:image/png;base64,iVBORw0KGgoAAAANSUhEUgAAANkAAAAVBAMAAAA5ulaKAAAAMFBMVEX///8AAAAAAAAAAAAAAAAA\n",
       "AAAAAAAAAAAAAAAAAAAAAAAAAAAAAAAAAAAAAAAAAAAv3aB7AAAAD3RSTlMAInZUiRDNmWbv3US7\n",
       "qzJazP2FAAAACXBIWXMAAA7EAAAOxAGVKw4bAAACb0lEQVRIx42VMWjUUBjHv/Qu17vLNTmkU6ec\n",
       "boKQQbo2W0EQbupUaZaCi5ChaHExLna9UTyEQhE1UCldHFvdxKEBHXSo3uyklLtN8Ptekpe8972A\n",
       "H9zLvZdf/v/3vvflBQCGAGABi+F/DxmGGwWXAmxu8JunbESQBurU4NYkeBt/rRDAfSXH7U+HqJ3o\n",
       "OJKrm585xUkhCG7MUDvC3hbAvYfzCu4Qt6spIGnHsBFwape5bVHTzxi6TBPbpzzV3DySPCg6TjF1\n",
       "JJeuYCfi1AFzI0G4mTG0R52J5nY2xqY3LrLi51cknSl4EadKsgoSdJ9lDF0nvUhzuyNWn6hu66Ld\n",
       "SDjV0TdOCLY7GUP3KEeh5vbg+hekM9VtT6T1jYFqZ5qbEBzV3Er0frmKmpu9GO8MoRupbkS6t34Y\n",
       "qJx8nFIclwu2kspNokdUPIHq1ppDz4fWRHU7yjMZcKokZZBgGyo3iU5p+06km72gRETgheD+pr9p\n",
       "+vZFmtJz07xWCBOFWVGCrAcJPs3dVEHNDV7T1EI4C8DR1oakO4PBFQGxQjkT7mb5xdoUQVMm8e14\n",
       "MobWIcukN8/dNCona/uGgs7l5c+XoY5+xM7A19xm9nPc+3PVDclelmdSo0pShhAkWkfvQlHB7T8S\n",
       "XkkGcVHGNTcku0ntfauokpSRvxLeOUN/UV1jJla+L77Jgv1KJ0//RHUj8v2j2qksqZKUQYKwfPHX\n",
       "19H+DK/vDN8MWAPVTZBGao2NNgl2Y+OxWp6stVO5GzdR+2y0UfAD7arh82vpWy9IE8XJZsFtyivn\n",
       "DQ9sg5kySDcKWrQt1/jNEZ+cb6ZGhlmYBf8B6HXBrTklQq8AAAAASUVORK5CYII=\n",
       "\" style=\"display:inline;vertical-align:middle;\" /></a></span>"
      ],
      "text/plain": [
       "{b in Complex} |- ((1 * b) + (3 * b)) = (4 * b)"
      ]
     },
     "metadata": {},
     "output_type": "display_data"
    }
   ],
   "source": [
    "Add(Mult(one, b), Mult(three, b)).simplification(assumptions=[InSet(b, Complex)])"
   ]
  },
  {
   "cell_type": "code",
   "execution_count": 47,
   "metadata": {},
   "outputs": [
    {
     "data": {
      "text/html": [
       "<span style=\"font-size:20px;\"><a class=\"ProveItLink\" href=\"../__pv_it/theorems/a259ec76dfb0a5be60b7c83d797520fa82c1dba60/expr.ipynb\"><img src=\"data:image/png;base64,iVBORw0KGgoAAAANSUhEUgAAADEAAAAQBAMAAABNQoq8AAAAMFBMVEX///8AAAAAAAAAAAAAAAAA\n",
       "AAAAAAAAAAAAAAAAAAAAAAAAAAAAAAAAAAAAAAAAAAAv3aB7AAAAD3RSTlMAELvv3c2ZVESJq3Yi\n",
       "MmZ3LnoBAAAACXBIWXMAAA7EAAAOxAGVKw4bAAAA2UlEQVQY02NgwASSKqF7bjIwMCo7oElwL37A\n",
       "mK8GZLAmoMlkdzIw8IFk+AtQJXgTFIHkMiDuF4AKbXJxCQBSXAIKQFIOiKdAJVo3QmgmHpjxUbuX\n",
       "gyieQCj/FO8ECIPxq4D8AZBDDkBlbnI8gDDYPzIwbwDJwFxwjGMDhMEWwMAP0n7ZBQgUwPZATWOZ\n",
       "wNAPcrcQTA8T2G0Q7+SD3M0Ck+EA+4cDKHOB0Q4cJhvgYdAFJFKBHnvABHF/ODzcVHMYS4BijCvz\n",
       "IAJSGrDAkFT+koMSYJ0q4NCBAQD6uylQEVfDpgAAAABJRU5ErkJggg==\n",
       "\" style=\"display:inline;vertical-align:middle;\" /></a> <a class=\"ProveItLink\" href=\"../__pv_it/demonstrations/29880c5c713a6956943aef0ea4f683051784906e0/proof.ipynb\" style=\"text-decoration: none\">&nbsp;&#x22A2;&nbsp;&nbsp;</a><a class=\"ProveItLink\" href=\"../__pv_it/demonstrations/39f0bf47e27d7846360097f454ac15f45e20e2730/expr.ipynb\"><img src=\"data:image/png;base64,iVBORw0KGgoAAAANSUhEUgAAAK8AAAAVBAMAAADC7aNVAAAAMFBMVEX///8AAAAAAAAAAAAAAAAA\n",
       "AAAAAAAAAAAAAAAAAAAAAAAAAAAAAAAAAAAAAAAAAAAv3aB7AAAAD3RSTlMAInZUiRDNmWbv3US7\n",
       "qzJazP2FAAAACXBIWXMAAA7EAAAOxAGVKw4bAAACI0lEQVQ4y42VMYgTQRSG/73NZrO7MQmWV+W0\n",
       "szGFWKewEoSttBFMc2AjpBAMIhgbzzKlKIcHV4gLSrDT5qKd1S3ctcFgaSGCeNiIvpnZmd23M4E8\n",
       "+DO7s1/+vHnzdgKgB0d49lQPbnYNiq2By/iiPfW+0IYoriD4clB/4g/hXXs017eS2Joq2SjQGVto\n",
       "MAKa4zp9E7gF/5e5l8RuIQsF4txCQzLv6mokOqEJcHkQnBlaEnuFeEzEx6XcQiMajlK9rH5xMQM+\n",
       "zFEaSyJKlXjMRCWe5hZ6lYbrqBn7I/n5x9CSaE6VeIkF2mjmFnqfhnsXTrhxKDYEH0sTSTRyJRYS\n",
       "3akYa/Qu7d9ZeqfHjGVe35Yrs9WSaFFyLbmWh5mItxr1pqWxQQ/J7jeiPjOO5W6WXaEIn8opxEKg\n",
       "DZTGBn1JqxmhSwsKs+zNiywTSKQ6+FUqMoAmOj8hxUKgT5QxR8k4HuJowDIW9A/gWMy+hiYSyjaZ\n",
       "2cZev8iYoYey8x6nVin+pcq46E0ifHqn/INajQlNlsuv+8M6+pmuV8Fz3hVtGvdVKRQtidZCiUVb\n",
       "fiUyNTboDeDctD3mxqKpnlX6WBGis8JhzVj1X3dhod+p6KeT2gvSoQUnDyqHkCTiuRILgSI8/tuv\n",
       "o/Gq+hrpx+9cR+l2IR7r0Fb1ZDOH0J6Lnugjh8Va9JPrQdvxV+EtlDZEcdtlHCzcP+ZwWYeK9nbE\n",
       "eXtqp9Bm6H97i6D7yfWfagAAAABJRU5ErkJggg==\n",
       "\" style=\"display:inline;vertical-align:middle;\" /></a></span>"
      ],
      "text/plain": [
       "{b in Complex} |- (b + (3 * b)) = (4 * b)"
      ]
     },
     "metadata": {},
     "output_type": "display_data"
    }
   ],
   "source": [
    "Add(b, Mult(three, b)).factorization(b, pull='right', assumptions=[InSet(a, Complex), InSet(c, Complex), InSet(b, Complex)])"
   ]
  },
  {
   "cell_type": "code",
   "execution_count": 48,
   "metadata": {},
   "outputs": [
    {
     "data": {
      "text/html": [
       "<span style=\"font-size:20px;\"><a class=\"ProveItLink\" href=\"../__pv_it/theorems/a259ec76dfb0a5be60b7c83d797520fa82c1dba60/expr.ipynb\"><img src=\"data:image/png;base64,iVBORw0KGgoAAAANSUhEUgAAADEAAAAQBAMAAABNQoq8AAAAMFBMVEX///8AAAAAAAAAAAAAAAAA\n",
       "AAAAAAAAAAAAAAAAAAAAAAAAAAAAAAAAAAAAAAAAAAAv3aB7AAAAD3RSTlMAELvv3c2ZVESJq3Yi\n",
       "MmZ3LnoBAAAACXBIWXMAAA7EAAAOxAGVKw4bAAAA2UlEQVQY02NgwASSKqF7bjIwMCo7oElwL37A\n",
       "mK8GZLAmoMlkdzIw8IFk+AtQJXgTFIHkMiDuF4AKbXJxCQBSXAIKQFIOiKdAJVo3QmgmHpjxUbuX\n",
       "gyieQCj/FO8ECIPxq4D8AZBDDkBlbnI8gDDYPzIwbwDJwFxwjGMDhMEWwMAP0n7ZBQgUwPZATWOZ\n",
       "wNAPcrcQTA8T2G0Q7+SD3M0Ck+EA+4cDKHOB0Q4cJhvgYdAFJFKBHnvABHF/ODzcVHMYS4BijCvz\n",
       "IAJSGrDAkFT+koMSYJ0q4NCBAQD6uylQEVfDpgAAAABJRU5ErkJggg==\n",
       "\" style=\"display:inline;vertical-align:middle;\" /></a> <a class=\"ProveItLink\" href=\"../__pv_it/demonstrations/275e8289abb48dccafc782f10f6333e5b53070930/proof.ipynb\" style=\"text-decoration: none\">&nbsp;&#x22A2;&nbsp;&nbsp;</a><a class=\"ProveItLink\" href=\"../__pv_it/demonstrations/7d7740dd53df6707e83183125027c12b010516d30/expr.ipynb\"><img src=\"data:image/png;base64,iVBORw0KGgoAAAANSUhEUgAAAPsAAAAVBAMAAAByEoVnAAAAMFBMVEX///8AAAAAAAAAAAAAAAAA\n",
       "AAAAAAAAAAAAAAAAAAAAAAAAAAAAAAAAAAAAAAAAAAAv3aB7AAAAD3RSTlMAInZUiRDNmWbv3US7\n",
       "qzJazP2FAAAACXBIWXMAAA7EAAAOxAGVKw4bAAACvElEQVRIx5XWP2gTURwH8O81ufw3PRyDQ6qD\n",
       "oxmCazMUBEG5SZeCWQoFFTIUEkvFbHFroCBqEQsZxIB6dNOltVtFsKKTIA3i1EFEMYgO8f3pu7v3\n",
       "fu8gviGXvHze93f38t5dAHiwNId2eVN3ef8ROFOzlT9Du7ZJj23otlUmB9bh7m+Z36QacBbWAvVR\n",
       "iJmuqersoto3RkRRyQORXrhMqNsEMi1TXwGuIvUz/CzEkoH40FNI/6VqCZZA5zo+EZplpzCrJrGo\n",
       "TrsDnKu541AL0TMUH/oeeEBVj5RngZkq3hKaZ4cdX01R9fhNH3gZICovRN7XFR/62MehR5SSUWOB\n",
       "8/FORc+zw0UY5VNN8fo71EJkurriQ9l0Ho6Iypg/Pg/cj3cousION09/0IOzDf76KgoRIn2gqxV5\n",
       "eEGVkmHjgfe+ng0IXWZLaOxf87RgcfZfPkdrWohcUy+/LF7LP6iScnXI2zMVOO5ig9ABi/uFfFUL\n",
       "Loi1GK18KVJ9vfxA2gOqlAwbC3QnwC3fpJtsZpqYZZOTHQ6fPhwOeVpezhJbVxDLX4ryd2hqU6A1\n",
       "eTWaEjLeWKD7B1gPTMoyCg3s1PQ1zdg34B3vfQIlisbVi/I5efG6KvZpeb6P1rsmHYg9eMcnkz/x\n",
       "ZfnjXcpEassy+XU4HlFSxn57HvhGXr1O99j7kXtfDy6x4yM5+VILkdvV1R5feA3MUKVk2HjgPPvt\n",
       "YdJLwIluqaUH841zN7bvpZDbMVJsKCrt9ipVSoaNB5Ya7gahR2wxfOwYt50ym7xiO/bIEaIQ6OqI\n",
       "b/rJZExVITDK80BcuD0itDCK35zUTfe57SFcMZQ2VFMV0psUmIs/7cJHTs+mO4bKtZJUh/QmBr62\n",
       "fVGy/GFxzPVkHcoVlcmBi7by7u40p7SYcOKWWomBTtVW/yTtmqOnX7WruakD/wH3QOH12ZzklQAA\n",
       "AABJRU5ErkJggg==\n",
       "\" style=\"display:inline;vertical-align:middle;\" /></a></span>"
      ],
      "text/plain": [
       "{b in Complex} |- (b + (3 * b) + (2 * b)) = (6 * b)"
      ]
     },
     "metadata": {},
     "output_type": "display_data"
    }
   ],
   "source": [
    "Add(b, Mult(three, b), Mult(two, b)).factorization(b, pull='right', assumptions=[InSet(a, Complex), InSet(c, Complex), InSet(b, Complex)])"
   ]
  },
  {
   "cell_type": "code",
   "execution_count": 49,
   "metadata": {},
   "outputs": [
    {
     "data": {
      "text/html": [
       "<span style=\"font-size:20px;\"><a class=\"ProveItLink\" href=\"../__pv_it/theorems/a259ec76dfb0a5be60b7c83d797520fa82c1dba60/expr.ipynb\"><img src=\"data:image/png;base64,iVBORw0KGgoAAAANSUhEUgAAADEAAAAQBAMAAABNQoq8AAAAMFBMVEX///8AAAAAAAAAAAAAAAAA\n",
       "AAAAAAAAAAAAAAAAAAAAAAAAAAAAAAAAAAAAAAAAAAAv3aB7AAAAD3RSTlMAELvv3c2ZVESJq3Yi\n",
       "MmZ3LnoBAAAACXBIWXMAAA7EAAAOxAGVKw4bAAAA2UlEQVQY02NgwASSKqF7bjIwMCo7oElwL37A\n",
       "mK8GZLAmoMlkdzIw8IFk+AtQJXgTFIHkMiDuF4AKbXJxCQBSXAIKQFIOiKdAJVo3QmgmHpjxUbuX\n",
       "gyieQCj/FO8ECIPxq4D8AZBDDkBlbnI8gDDYPzIwbwDJwFxwjGMDhMEWwMAP0n7ZBQgUwPZATWOZ\n",
       "wNAPcrcQTA8T2G0Q7+SD3M0Ck+EA+4cDKHOB0Q4cJhvgYdAFJFKBHnvABHF/ODzcVHMYS4BijCvz\n",
       "IAJSGrDAkFT+koMSYJ0q4NCBAQD6uylQEVfDpgAAAABJRU5ErkJggg==\n",
       "\" style=\"display:inline;vertical-align:middle;\" /></a> <a class=\"ProveItLink\" href=\"../__pv_it/demonstrations/275e8289abb48dccafc782f10f6333e5b53070930/proof.ipynb\" style=\"text-decoration: none\">&nbsp;&#x22A2;&nbsp;&nbsp;</a><a class=\"ProveItLink\" href=\"../__pv_it/demonstrations/7d7740dd53df6707e83183125027c12b010516d30/expr.ipynb\"><img src=\"data:image/png;base64,iVBORw0KGgoAAAANSUhEUgAAAPsAAAAVBAMAAAByEoVnAAAAMFBMVEX///8AAAAAAAAAAAAAAAAA\n",
       "AAAAAAAAAAAAAAAAAAAAAAAAAAAAAAAAAAAAAAAAAAAv3aB7AAAAD3RSTlMAInZUiRDNmWbv3US7\n",
       "qzJazP2FAAAACXBIWXMAAA7EAAAOxAGVKw4bAAACvElEQVRIx5XWP2gTURwH8O81ufw3PRyDQ6qD\n",
       "oxmCazMUBEG5SZeCWQoFFTIUEkvFbHFroCBqEQsZxIB6dNOltVtFsKKTIA3i1EFEMYgO8f3pu7v3\n",
       "fu8gviGXvHze93f38t5dAHiwNId2eVN3ef8ROFOzlT9Du7ZJj23otlUmB9bh7m+Z36QacBbWAvVR\n",
       "iJmuqersoto3RkRRyQORXrhMqNsEMi1TXwGuIvUz/CzEkoH40FNI/6VqCZZA5zo+EZplpzCrJrGo\n",
       "TrsDnKu541AL0TMUH/oeeEBVj5RngZkq3hKaZ4cdX01R9fhNH3gZICovRN7XFR/62MehR5SSUWOB\n",
       "8/FORc+zw0UY5VNN8fo71EJkurriQ9l0Ho6Iypg/Pg/cj3cousION09/0IOzDf76KgoRIn2gqxV5\n",
       "eEGVkmHjgfe+ng0IXWZLaOxf87RgcfZfPkdrWohcUy+/LF7LP6iScnXI2zMVOO5ig9ABi/uFfFUL\n",
       "Loi1GK18KVJ9vfxA2gOqlAwbC3QnwC3fpJtsZpqYZZOTHQ6fPhwOeVpezhJbVxDLX4ryd2hqU6A1\n",
       "eTWaEjLeWKD7B1gPTMoyCg3s1PQ1zdg34B3vfQIlisbVi/I5efG6KvZpeb6P1rsmHYg9eMcnkz/x\n",
       "ZfnjXcpEassy+XU4HlFSxn57HvhGXr1O99j7kXtfDy6x4yM5+VILkdvV1R5feA3MUKVk2HjgPPvt\n",
       "YdJLwIluqaUH841zN7bvpZDbMVJsKCrt9ipVSoaNB5Ya7gahR2wxfOwYt50ym7xiO/bIEaIQ6OqI\n",
       "b/rJZExVITDK80BcuD0itDCK35zUTfe57SFcMZQ2VFMV0psUmIs/7cJHTs+mO4bKtZJUh/QmBr62\n",
       "fVGy/GFxzPVkHcoVlcmBi7by7u40p7SYcOKWWomBTtVW/yTtmqOnX7WruakD/wH3QOH12ZzklQAA\n",
       "AABJRU5ErkJggg==\n",
       "\" style=\"display:inline;vertical-align:middle;\" /></a></span>"
      ],
      "text/plain": [
       "{b in Complex} |- (b + (3 * b) + (2 * b)) = (6 * b)"
      ]
     },
     "metadata": {},
     "output_type": "display_data"
    }
   ],
   "source": [
    "Add(b, Mult(three, b), Mult(two, b)).simplification(\n",
    "    assumptions=[InSet(a, Complex), InSet(c, Complex), InSet(b, Complex)])"
   ]
  },
  {
   "cell_type": "code",
   "execution_count": 50,
   "metadata": {},
   "outputs": [
    {
     "data": {
      "text/html": [
       "<span style=\"font-size:20px;\"><a class=\"ProveItLink\" href=\"../__pv_it/theorems/b66b5547fa9b0b910f79351152926c658c2718190/expr.ipynb\"><img src=\"data:image/png;base64,iVBORw0KGgoAAAANSUhEUgAAADEAAAAQBAMAAABNQoq8AAAAMFBMVEX///8AAAAAAAAAAAAAAAAA\n",
       "AAAAAAAAAAAAAAAAAAAAAAAAAAAAAAAAAAAAAAAAAAAv3aB7AAAAD3RSTlMAiXZmMiLdVJm77xBE\n",
       "zatgdeJyAAAACXBIWXMAAA7EAAAOxAGVKw4bAAAAw0lEQVQY02NgwAQbp91VdcQizsD0yoC7fwY2\n",
       "maaDDAzM2GRYGmYDyRfIQpppaReAFN+GCUByM5LEWW0IzcnaABMSUnYAkqy3odw4FgEoK6yAA6Sd\n",
       "NwDKd+QxgLISGbgUQDIwIyJ4FCAMjt8Q2isNCCaA7YGaxjUBQu+E6eHcABXZD9XLBpPhAfuHh4GB\n",
       "H2jfAVCYKMDD4ByQ6AXaM4GBEeRqhuvwcJvbyl0G8pOgMcSL++ZsgIX1rG+tKAF2cBo4dGAAAHWD\n",
       "KgtwTxl0AAAAAElFTkSuQmCC\n",
       "\" style=\"display:inline;vertical-align:middle;\" /></a>, <a class=\"ProveItLink\" href=\"../__pv_it/theorems/a259ec76dfb0a5be60b7c83d797520fa82c1dba60/expr.ipynb\"><img src=\"data:image/png;base64,iVBORw0KGgoAAAANSUhEUgAAADEAAAAQBAMAAABNQoq8AAAAMFBMVEX///8AAAAAAAAAAAAAAAAA\n",
       "AAAAAAAAAAAAAAAAAAAAAAAAAAAAAAAAAAAAAAAAAAAv3aB7AAAAD3RSTlMAELvv3c2ZVESJq3Yi\n",
       "MmZ3LnoBAAAACXBIWXMAAA7EAAAOxAGVKw4bAAAA2UlEQVQY02NgwASSKqF7bjIwMCo7oElwL37A\n",
       "mK8GZLAmoMlkdzIw8IFk+AtQJXgTFIHkMiDuF4AKbXJxCQBSXAIKQFIOiKdAJVo3QmgmHpjxUbuX\n",
       "gyieQCj/FO8ECIPxq4D8AZBDDkBlbnI8gDDYPzIwbwDJwFxwjGMDhMEWwMAP0n7ZBQgUwPZATWOZ\n",
       "wNAPcrcQTA8T2G0Q7+SD3M0Ck+EA+4cDKHOB0Q4cJhvgYdAFJFKBHnvABHF/ODzcVHMYS4BijCvz\n",
       "IAJSGrDAkFT+koMSYJ0q4NCBAQD6uylQEVfDpgAAAABJRU5ErkJggg==\n",
       "\" style=\"display:inline;vertical-align:middle;\" /></a> <a class=\"ProveItLink\" href=\"../__pv_it/demonstrations/c56af8cba47321abbb2ad88e505e63e9565615440/proof.ipynb\" style=\"text-decoration: none\">&nbsp;&#x22A2;&nbsp;&nbsp;</a><a class=\"ProveItLink\" href=\"../__pv_it/demonstrations/87326b8c0c81b42a2971345bd81dd04ae6af116b0/expr.ipynb\"><img src=\"data:image/png;base64,iVBORw0KGgoAAAANSUhEUgAAAjYAAAAVBAMAAACnP7m3AAAAMFBMVEX///8AAAAAAAAAAAAAAAAA\n",
       "AAAAAAAAAAAAAAAAAAAAAAAAAAAAAAAAAAAAAAAAAAAv3aB7AAAAD3RSTlMAInZUiRDNmWbv3US7\n",
       "qzJazP2FAAAACXBIWXMAAA7EAAAOxAGVKw4bAAAExklEQVRYw61YTYhbVRQ++XmT5GWSjiIIZRaj\n",
       "InZTOkgZaDeThTBups1KEKZ0NsWCil2ESS0Vgwu7aW1RKrQjNBClmqIzuNHu0tmIP0h0YxW0WXQ1\n",
       "m2kbZxCFxnPffffn3HeYGya5cF/CzXe+75zvnft+AgBTIKczmKUhRjIqBeNdSg0nOxaZ9Kyc7vh6\n",
       "L9YwRMWZxNJzMAKKQbL5j0PmcDw3q8a3+hs9SDeciKXrfm+Q6KmFH2nIAReUqQA8vfLzEKjyZ87i\n",
       "AQ4ZydqEhiD70jG/TFQuJxMsRzP47S3jzTRk/wM45dK85rVGEJ2B+VkSMlF1UK+g+x04vu5FnVjZ\n",
       "dhYFKoEUspRQy7wOf4BXRpbLyOSwPcSEQybqF4BrABdUh6kG6qvfv3WTUwtIlO7DyWX9gwjJn3FQ\n",
       "ZwFKU1C44kVB2vVGoDRSD5S1CC2CiRn4CVgZXdRZVS4jU8CvYtre3KjCPdSKFzLxHi3qRF90k1ML\n",
       "SFRchX3aGxly1UFhDYVtKD30opLeRKir7mKBEFoE83aXEBlVlEDJchmZOTzOOd5gH97rwUSD0mSb\n",
       "Xm8iIpjXVyoZcpqiMmhdqQmlx14U481pC6nHHCG0CL63UURGFSVQslxGpobHmuMNjjXk6lKaiV8P\n",
       "zlIrss9+QBciouLnZt9GIYu06lwl+ggf+FHEm0hNoBZdb2qE0CL4+P4L63wyqqg4mTVWRp8I4k35\n",
       "EW64ZUpz8lRAuzbVgvPUG0FUPviXppEh79Oq437cmvGjbG+kmkBFyFw7Gl3TC4rQIthpwEd8MvqE\n",
       "N1S5jEwLj62ENyFqZq5QGty8HxL1sOIsSCLrPiVDjtCqQ/nzl+BH2d5INYE64vZNixAagmAA8HaV\n",
       "lVFFyWTCLiuzisdV4018jxH9UH4gT88X1+XpWQH4Gz/OtdvX2m2RyLtS1ixIInFdjIlkyBZFFaI2\n",
       "z3XAj5LeBDug1bbiScaqISQEwb8Al9cVgZGxipLJnOdlHG/C6B6XF2FFp28+hWKfnJlPEtdiJCr3\n",
       "YLKviGTIbYqS6VwC8KPivrlp1G6DQVJvLkGSAKu93FAEREYVFcnku7wMu6cOQ2oKMk1K04fctq0e\n",
       "PEp4g0T7tqU3VshRZrfg4+gTfpS1p2K1o/Ek15sWIbQIfpB9w8iQPRWVy8hs4HHD8aZcgXQV8h1K\n",
       "8xhebRD1f7C3qDdIVOjKPWWFXKRVTwq++wDP+1H29UaqCdRFt282CKFFMI/XG2BlVFECJctlZPRN\n",
       "8bh5/Nlfr5/TtzdNcxe+o+njLj1GvUGifMN6vpEhNRomng1SN+v1phcF2YfGAKlWs5B6LBJCi2Cy\n",
       "Epj7FJHRD21dVS4jsyleM3H+eeNNXdLaYIA7NVynNCcWGk76L79Xpd4Iom/q5l1ThtyiYWWsIRwM\n",
       "BsteVOn3nbvmuSNSu2Uh9dgkhBYBLLzT45NRRQmULJeRCTE47HEvjvvBebwG73MxS5RqOqivYCSU\n",
       "Rpr7bo9LZlcZXdRuMvzbm3rZI69l4H3XZIlyDQd1AUZC5RL5UNmhZHRRu8rcATkT3nX28N8WRzTt\n",
       "LkxOjYSaHk52HDJL8RwqyDeWhvEr6IyEujOc7DhkUjNyuuOZvfwnyhClkx4/CSOgGCSb/+gy/wMt\n",
       "38La5Eac4gAAAABJRU5ErkJggg==\n",
       "\" style=\"display:inline;vertical-align:middle;\" /></a></span>"
      ],
      "text/plain": [
       "{c in Complex, b in Complex} |- ((1 * 2) + b + c + (3 * b) + (2 * b) + (1 * c)) = (2 + (6 * b) + (2 * c))"
      ]
     },
     "metadata": {},
     "output_type": "display_data"
    }
   ],
   "source": [
    "Add(Mult(one, two), b, c, Mult(three, b), Mult(two, b), Mult(one, c)).simplification(\n",
    "    assumptions=[InSet(a, Complex), InSet(c, Complex), InSet(b, Complex)])"
   ]
  },
  {
   "cell_type": "code",
   "execution_count": 51,
   "metadata": {},
   "outputs": [
    {
     "data": {
      "text/html": [
       "<span style=\"font-size:20px;\"><a class=\"ProveItLink\" href=\"../__pv_it/theorems/b66b5547fa9b0b910f79351152926c658c2718190/expr.ipynb\"><img src=\"data:image/png;base64,iVBORw0KGgoAAAANSUhEUgAAADEAAAAQBAMAAABNQoq8AAAAMFBMVEX///8AAAAAAAAAAAAAAAAA\n",
       "AAAAAAAAAAAAAAAAAAAAAAAAAAAAAAAAAAAAAAAAAAAv3aB7AAAAD3RSTlMAiXZmMiLdVJm77xBE\n",
       "zatgdeJyAAAACXBIWXMAAA7EAAAOxAGVKw4bAAAAw0lEQVQY02NgwAQbp91VdcQizsD0yoC7fwY2\n",
       "maaDDAzM2GRYGmYDyRfIQpppaReAFN+GCUByM5LEWW0IzcnaABMSUnYAkqy3odw4FgEoK6yAA6Sd\n",
       "NwDKd+QxgLISGbgUQDIwIyJ4FCAMjt8Q2isNCCaA7YGaxjUBQu+E6eHcABXZD9XLBpPhAfuHh4GB\n",
       "H2jfAVCYKMDD4ByQ6AXaM4GBEeRqhuvwcJvbyl0G8pOgMcSL++ZsgIX1rG+tKAF2cBo4dGAAAHWD\n",
       "KgtwTxl0AAAAAElFTkSuQmCC\n",
       "\" style=\"display:inline;vertical-align:middle;\" /></a>, <a class=\"ProveItLink\" href=\"../__pv_it/theorems/a259ec76dfb0a5be60b7c83d797520fa82c1dba60/expr.ipynb\"><img src=\"data:image/png;base64,iVBORw0KGgoAAAANSUhEUgAAADEAAAAQBAMAAABNQoq8AAAAMFBMVEX///8AAAAAAAAAAAAAAAAA\n",
       "AAAAAAAAAAAAAAAAAAAAAAAAAAAAAAAAAAAAAAAAAAAv3aB7AAAAD3RSTlMAELvv3c2ZVESJq3Yi\n",
       "MmZ3LnoBAAAACXBIWXMAAA7EAAAOxAGVKw4bAAAA2UlEQVQY02NgwASSKqF7bjIwMCo7oElwL37A\n",
       "mK8GZLAmoMlkdzIw8IFk+AtQJXgTFIHkMiDuF4AKbXJxCQBSXAIKQFIOiKdAJVo3QmgmHpjxUbuX\n",
       "gyieQCj/FO8ECIPxq4D8AZBDDkBlbnI8gDDYPzIwbwDJwFxwjGMDhMEWwMAP0n7ZBQgUwPZATWOZ\n",
       "wNAPcrcQTA8T2G0Q7+SD3M0Ck+EA+4cDKHOB0Q4cJhvgYdAFJFKBHnvABHF/ODzcVHMYS4BijCvz\n",
       "IAJSGrDAkFT+koMSYJ0q4NCBAQD6uylQEVfDpgAAAABJRU5ErkJggg==\n",
       "\" style=\"display:inline;vertical-align:middle;\" /></a> <a class=\"ProveItLink\" href=\"../__pv_it/demonstrations/4ce670d5f7dd1a9b842f759f607c8caaadf44a0d0/proof.ipynb\" style=\"text-decoration: none\">&nbsp;&#x22A2;&nbsp;&nbsp;</a><a class=\"ProveItLink\" href=\"../__pv_it/demonstrations/a03d7bacd3608b80f529806b563e73ee26c191120/expr.ipynb\"><img src=\"data:image/png;base64,iVBORw0KGgoAAAANSUhEUgAAAlgAAAAVBAMAAABoEY10AAAAMFBMVEX///8AAAAAAAAAAAAAAAAA\n",
       "AAAAAAAAAAAAAAAAAAAAAAAAAAAAAAAAAAAAAAAAAAAv3aB7AAAAD3RSTlMAInZUiRDNmWbv3US7\n",
       "qzJazP2FAAAACXBIWXMAAA7EAAAOxAGVKw4bAAAE/UlEQVRYw6VYTWibZRz/v0nTfDVZFGEweogO\n",
       "YZdhkTFoL81tXuriRRA6lstwDMUdQiNDWNhhu1QpQg9bhQayUU3RFS/aW7aDgoJUL5uCNgdPu3Rb\n",
       "TBkMFp/3ed6P5/+R9LG+8KTl399XfnneN+9bACiBWeQQRg4HZ3lwyJErzXPL8X+iRDaJGbPo8e1h\n",
       "uhKE8mU2Og4uKFeaRJXekKvvcSgCvCPbnArWo2pcZOODHiSaRGTx1sHvRwm9cuZnTDlBQcmKcRiL\n",
       "4m6KBsU7ZHhCMtA5ji79IgiwqZQuu3/pDk+nVqqmV+rBR3FZ0zDxHOAClXn/wK58ocswP4Mok1WC\n",
       "ejd0GItibop2bmlAhj6NUf0cXhfObjEBPpXS5dZvV3k6tdJqA/kL3oj//ivATYAb4R4Mt1ifDqLj\n",
       "++CnEkr04Xwt+oNPyVwmqI9DBxEFxM2mQYKW5dMY1c9RKEF2hQlYU0uAoViQwCarfvWXXdZ6FXaV\n",
       "ajBIBqd1PgyaZOf5m8FPJZRfgyNRWYaySlAroYOIAuJm03hZmrZKhypHdgCFJ0zAmtoCBFXgQYzN\n",
       "afV6mpT1B8BuDyabuJuJ1oFlaSGYj3aeoVzEqGQtdBBRQNxsmlDWRU7VOQotKLxgAtbUFqAoHsTY\n",
       "1NVrnZSljrsKtYO7mfzt5Awua+K1z3BZWij/ZXxB0JQFHCddCR1EFBA3RENlaXuftkDL0jkg91jy\n",
       "Dae2AEEVri30hHQL8SeDyio+VedoDZd1/kLqCRp4bfgEl+ULFU/+FckYynUcx+xY30FEAXFDNLss\n",
       "Y+/TNDXd0cdOvFv2yoJvNLUFCGqq6j0X0l2Htnpts7JyyjO5gsuar8LnaJCrBIOorLYBRt+GhjKL\n",
       "4+RmQgcRBcQN0eyyjL1Pm6U7y+T4WvKNprYAR/0kpJuFNfW6FpcVfJP5O6b42HxeX90yn9cSwD9o\n",
       "cNXUe6XTudnp6Axr5vI6CIUMZQ+jsluhA6T2AaFSl/Tu6EVDSjNlGZqx3wsWOnSOdFfyNVOdLhZg\n",
       "KLha4un2aFk5/U2a8bvIk511G/J9NPiCXeCVULEHU/1QyFC2MUrHyZiNtQEMBcQN0YKdtRHbbwOj\n",
       "Bm/oUxB8g6lOFwsQ1A+qrB5Pty2fhqfAK0GyhcvqQ3pgD1JPWVlK6MjAlGVR5oSNrh1EFBC3Uadh\n",
       "YD8XLHTNaps78Ze4QDy1BQhK3bPvAk83B/fV631SVrECiSpkurisF/BeEw2eqd2Hy1JC2R1zGlqU\n",
       "ZRxnqhw6iCggbjYNXbOMvU9bpjvLf0N/A7zOBeKpLUBQFfusidMtx1+9Z+MH9WONxpXoqzbq5iH8\n",
       "iAfqsvM2LksJZZrWfZah1HEc/5bEOIgoIG42DSasO0pjX+dUncPbaDRaTMCa2gIEdRQSq0K6Ojzy\n",
       "n6HV+nP9w+g93h0O1bUtt4W7OXeG3qW+da2Ky/KFvmvED9KGsonjFFuhg4gC4mbTCr/vP4zvkrT9\n",
       "JqfqHLnhcFhjAtbUFiAor/GgKqTbhJy6kuV60lPxsVE37KPv4EUhr0VQ38A4FIwSH0njVJzDzdfF\n",
       "Rn4SDR9cxefm0Q/SolC6SVA3YBwKRomPpHEqzuHm62RzD8xiZXYP8c8/SWiaDqZKLihwpk275XD0\n",
       "HWuzGCwn0kHHokuBqa5jzY60e245HH3H2nhls+jx6mH+rSwIJXjpL4MLypUmUb3yfxBwtvkXWUDU\n",
       "oHfXrNoAAAAASUVORK5CYII=\n",
       "\" style=\"display:inline;vertical-align:middle;\" /></a></span>"
      ],
      "text/plain": [
       "{c in Complex, b in Complex} |- ((1 * 2) + b + c + (3 * b) + (2 * b) - b + (1 * c)) = (2 + (2 * c) + (5 * b))"
      ]
     },
     "metadata": {},
     "output_type": "display_data"
    }
   ],
   "source": [
    "Add(Mult(one, two), b, c, Mult(three, b), Mult(two, b), Neg(b), Mult(one, c)).simplification(\n",
    "    assumptions=[InSet(a, Complex), InSet(c, Complex), InSet(b, Complex)])"
   ]
  },
  {
   "cell_type": "code",
   "execution_count": 52,
   "metadata": {},
   "outputs": [],
   "source": [
    "#Add(Mult(c,b), Mult(b,c), Mult(c, a), a, b, c, one, two, three, Mult(two, c), Mult(three,b), Mult(four, a)).simplification([InSet(a, Complex), InSet(b, Complex), InSet(c, Complex)])"
   ]
  },
  {
   "cell_type": "code",
   "execution_count": 53,
   "metadata": {},
   "outputs": [],
   "source": [
    "#Add(Mult(a,b), c, b,a).simplification([InSet(a, Complex), InSet(b, Complex), InSet(c, Complex)])"
   ]
  },
  {
   "cell_type": "code",
   "execution_count": 54,
   "metadata": {},
   "outputs": [
    {
     "data": {
      "text/html": [
       "<span style=\"font-size:20px;\"><a class=\"ProveItLink\" href=\"../__pv_it/theorems/e9f87a0977d5044ea8daf1040d2f219396bb3d5b0/expr.ipynb\"><img src=\"data:image/png;base64,iVBORw0KGgoAAAANSUhEUgAAADMAAAAQBAMAAABJt1qBAAAAMFBMVEX///8AAAAAAAAAAAAAAAAA\n",
       "AAAAAAAAAAAAAAAAAAAAAAAAAAAAAAAAAAAAAAAAAAAv3aB7AAAAD3RSTlMAIquJdkTvuxBmmd1U\n",
       "zTKBpmoTAAAACXBIWXMAAA7EAAAOxAGVKw4bAAAA0ElEQVQY02NgwAKaq+86PsYmwcCiNoFjfRVW\n",
       "qSXBDAycWKX4FlQASS0UMffduy8AKaaGAiDZiSwT6wGh2RkXQEUYlR0dwPQNqIAQnwGUFSbA/gNE\n",
       "8wpABR6zToAwODIZuDaApWAGS7E6QBhcHxi4wQY82w0EBWC7oAayFTD0B4AY7TBd7GAXAkG/A8N8\n",
       "MIMbJsUK9hcrUOoAgy4PyAUsDvDQCAISa4HaHXh2cYFF7sDDsHYhx2mg3zhU7IT8wCJNpQ2wkC/7\n",
       "vRA18IKrwQEFAwCqvi28/xxvKQAAAABJRU5ErkJggg==\n",
       "\" style=\"display:inline;vertical-align:middle;\" /></a> <a class=\"ProveItLink\" href=\"../__pv_it/demonstrations/bcaa2b40515dafcee72e32ea67a3e114ddce0fc00/proof.ipynb\" style=\"text-decoration: none\">&nbsp;&#x22A2;&nbsp;&nbsp;</a><a class=\"ProveItLink\" href=\"../__pv_it/demonstrations/c24b0d9f7048f36bbf53c2a678f99788fbce2a9a0/expr.ipynb\"><img src=\"data:image/png;base64,iVBORw0KGgoAAAANSUhEUgAAAOMAAAAVBAMAAABGa0R7AAAAMFBMVEX///8AAAAAAAAAAAAAAAAA\n",
       "AAAAAAAAAAAAAAAAAAAAAAAAAAAAAAAAAAAAAAAAAAAv3aB7AAAAD3RSTlMAInZUiRDNmWbv3US7\n",
       "qzJazP2FAAAACXBIWXMAAA7EAAAOxAGVKw4bAAACNklEQVRIx5VVPU8bQRCd89k52xjrlNIi0qH0\n",
       "YCFE7T8QoEoVBE0kClBSRDFCFHQucclHgaUoQpxEsFKR7uAXAIoSgoSgpiKR7CYFzN3sntnZRbeM\n",
       "9Gz57bt5N7uzYwDwwTpMUkfARivYXN3e8ruBey1goxXspHHpdtbE5tY1ym0kcJpLN1na6ldiCwuG\n",
       "1IXfH4yW8F5j3hJGIP8/Qzv3uUesp7zMkPw1Li2PlMdamuUK4Qxgi620eM5cj9iSuk0Bt5xQ1kta\n",
       "8W3C7ixcs4aR2jRnYons1LMsX/ADchcIlwDX7DClVrVE9lPc4z9HgyxL0uRPmaXXIGAcDu6NolUt\n",
       "kV3Erx9+pZdlSZpi0myrYRwHshQqp/ovtXys5ZbIfsH+3ASvk2EpNG6bVVmuE/Az3QCmVS2R3cGN\n",
       "uYNyvDdeGO5vh+HpwBLL2aJyhKZ6xyxLXQLAWuLWZ9rHORNLZNGyFMF8N6NKoRlqP2VZpCL3dK1a\n",
       "JbK4sfMBbGR1rNC4HXaW6cZOgiMviaLVNrYDJyipwy/Xz7AkTTFiVVYCQrUBOfkI07L2ieBN/Ii7\n",
       "57HlGV+1FBpxHwYR34QYtWZzdfAaijbNmf9Lt+oWz/x8+tWYuny1u7yudixpyl0+qjuEw/v7ftqx\n",
       "qlbmHP7Tv0jY8o1x+qShTp+aNmO/CehRM+ZEtvjRONbTONKGuD68W0bLFWPOmD22/4cGJ9Koik+w\n",
       "0Ur23TMsDbkLEcFGK1knsLccNXAvBWy0CfsAhFisxmmCHpAAAAAASUVORK5CYII=\n",
       "\" style=\"display:inline;vertical-align:middle;\" /></a></span>"
      ],
      "text/plain": [
       "{a in Complex} |- (a + 1 + a) = ((2 * a) + 1)"
      ]
     },
     "metadata": {},
     "output_type": "display_data"
    }
   ],
   "source": [
    "Add(a, one, a).simplification(assumptions=[InSet(a, Complex)])"
   ]
  },
  {
   "cell_type": "code",
   "execution_count": 55,
   "metadata": {},
   "outputs": [
    {
     "data": {
      "text/html": [
       "<span style=\"font-size:20px;\"><a class=\"ProveItLink\" href=\"../subtraction/__pv_it/theorems/d6724abdc9486f838f4cf63bc1115e85255ce4c00/expr.ipynb\"><img src=\"data:image/png;base64,iVBORw0KGgoAAAANSUhEUgAAADMAAAAQBAMAAABJt1qBAAAAMFBMVEX///8AAAAAAAAAAAAAAAAA\n",
       "AAAAAAAAAAAAAAAAAAAAAAAAAAAAAAAAAAAAAAAAAAAv3aB7AAAAD3RSTlMAMs3vmVREEIndIqt2\n",
       "u2aBbGR5AAAACXBIWXMAAA7EAAAOxAGVKw4bAAAA4UlEQVQY02NgwAIqbiqdkgCzGJUdUGR4Nj9g\n",
       "978CYfMHoEj5ZDAw8EGl8guQZRgdrgPJLRBOJ4Q6O3OmApDiLrgAJOsgYipgMuk4hMfLBbOaa8fB\n",
       "r2BaHSqwmrEBykpewPsdRDMtgApIsD2AMNjtGFgUwFIwZyxhOwBhsHxg4AQbIDwTCC6A7YIayHyB\n",
       "oT4BxKiF6eIFuxAI6g8wvAczOGFSbGB/sQGlAhg2sYJcwHMAHhrZQMIJqP0A6xQWsIgqPAwvebFH\n",
       "Av3Gvqdx9UGwSPU1WHhVXP7phRoXGTfBAQUDAJ+SNfXA0lXRAAAAAElFTkSuQmCC\n",
       "\" style=\"display:inline;vertical-align:middle;\" /></a>, <a class=\"ProveItLink\" href=\"../__pv_it/theorems/a259ec76dfb0a5be60b7c83d797520fa82c1dba60/expr.ipynb\"><img src=\"data:image/png;base64,iVBORw0KGgoAAAANSUhEUgAAADEAAAAQBAMAAABNQoq8AAAAMFBMVEX///8AAAAAAAAAAAAAAAAA\n",
       "AAAAAAAAAAAAAAAAAAAAAAAAAAAAAAAAAAAAAAAAAAAv3aB7AAAAD3RSTlMAELvv3c2ZVESJq3Yi\n",
       "MmZ3LnoBAAAACXBIWXMAAA7EAAAOxAGVKw4bAAAA2UlEQVQY02NgwASSKqF7bjIwMCo7oElwL37A\n",
       "mK8GZLAmoMlkdzIw8IFk+AtQJXgTFIHkMiDuF4AKbXJxCQBSXAIKQFIOiKdAJVo3QmgmHpjxUbuX\n",
       "gyieQCj/FO8ECIPxq4D8AZBDDkBlbnI8gDDYPzIwbwDJwFxwjGMDhMEWwMAP0n7ZBQgUwPZATWOZ\n",
       "wNAPcrcQTA8T2G0Q7+SD3M0Ck+EA+4cDKHOB0Q4cJhvgYdAFJFKBHnvABHF/ODzcVHMYS4BijCvz\n",
       "IAJSGrDAkFT+koMSYJ0q4NCBAQD6uylQEVfDpgAAAABJRU5ErkJggg==\n",
       "\" style=\"display:inline;vertical-align:middle;\" /></a>, <a class=\"ProveItLink\" href=\"../__pv_it/theorems/e9f87a0977d5044ea8daf1040d2f219396bb3d5b0/expr.ipynb\"><img src=\"data:image/png;base64,iVBORw0KGgoAAAANSUhEUgAAADMAAAAQBAMAAABJt1qBAAAAMFBMVEX///8AAAAAAAAAAAAAAAAA\n",
       "AAAAAAAAAAAAAAAAAAAAAAAAAAAAAAAAAAAAAAAAAAAv3aB7AAAAD3RSTlMAIquJdkTvuxBmmd1U\n",
       "zTKBpmoTAAAACXBIWXMAAA7EAAAOxAGVKw4bAAAA0ElEQVQY02NgwAKaq+86PsYmwcCiNoFjfRVW\n",
       "qSXBDAycWKX4FlQASS0UMffduy8AKaaGAiDZiSwT6wGh2RkXQEUYlR0dwPQNqIAQnwGUFSbA/gNE\n",
       "8wpABR6zToAwODIZuDaApWAGS7E6QBhcHxi4wQY82w0EBWC7oAayFTD0B4AY7TBd7GAXAkG/A8N8\n",
       "MIMbJsUK9hcrUOoAgy4PyAUsDvDQCAISa4HaHXh2cYFF7sDDsHYhx2mg3zhU7IT8wCJNpQ2wkC/7\n",
       "vRA18IKrwQEFAwCqvi28/xxvKQAAAABJRU5ErkJggg==\n",
       "\" style=\"display:inline;vertical-align:middle;\" /></a>, <a class=\"ProveItLink\" href=\"../__pv_it/theorems/b66b5547fa9b0b910f79351152926c658c2718190/expr.ipynb\"><img src=\"data:image/png;base64,iVBORw0KGgoAAAANSUhEUgAAADEAAAAQBAMAAABNQoq8AAAAMFBMVEX///8AAAAAAAAAAAAAAAAA\n",
       "AAAAAAAAAAAAAAAAAAAAAAAAAAAAAAAAAAAAAAAAAAAv3aB7AAAAD3RSTlMAiXZmMiLdVJm77xBE\n",
       "zatgdeJyAAAACXBIWXMAAA7EAAAOxAGVKw4bAAAAw0lEQVQY02NgwAQbp91VdcQizsD0yoC7fwY2\n",
       "maaDDAzM2GRYGmYDyRfIQpppaReAFN+GCUByM5LEWW0IzcnaABMSUnYAkqy3odw4FgEoK6yAA6Sd\n",
       "NwDKd+QxgLISGbgUQDIwIyJ4FCAMjt8Q2isNCCaA7YGaxjUBQu+E6eHcABXZD9XLBpPhAfuHh4GB\n",
       "H2jfAVCYKMDD4ByQ6AXaM4GBEeRqhuvwcJvbyl0G8pOgMcSL++ZsgIX1rG+tKAF2cBo4dGAAAHWD\n",
       "KgtwTxl0AAAAAElFTkSuQmCC\n",
       "\" style=\"display:inline;vertical-align:middle;\" /></a> <a class=\"ProveItLink\" href=\"../__pv_it/demonstrations/b0f4d8715fe0ea798fc71ca7c4be3ec49e4ba95c0/proof.ipynb\" style=\"text-decoration: none\">&nbsp;&#x22A2;&nbsp;&nbsp;</a><a class=\"ProveItLink\" href=\"../__pv_it/demonstrations/a025d3bf9d7a7900130caf5f87d2b4654808d71b0/expr.ipynb\"><img src=\"data:image/png;base64,iVBORw0KGgoAAAANSUhEUgAAAZoAAAAVBAMAAACNuTXpAAAAMFBMVEX///8AAAAAAAAAAAAAAAAA\n",
       "AAAAAAAAAAAAAAAAAAAAAAAAAAAAAAAAAAAAAAAAAAAv3aB7AAAAD3RSTlMAInZUiRDNmWbv3US7\n",
       "qzJazP2FAAAACXBIWXMAAA7EAAAOxAGVKw4bAAAEXElEQVRYw61XTWhUVxQ+zzcv85dJXrspiMJT\n",
       "Ed2oQxGhbhxKoCL+zKoiWCabYLooZBGMFKGDC5OWtoaCUE3VkRRCRyxDV42bjG6k4B8axI0QiisX\n",
       "Jv4kdWU89553373nzh2cKTnwvTc5Ofd857v3vvPuA4AQCNw8WBsL2/hcfs/NG3bGJEeuKxIsy0dr\n",
       "IsaRGeCvGLZtieEI78BkxbsJn5y8l/iPX8TLdis4+Kf2P9SI7APbzNnt+3pkXRVlVlti/ZKEN3C6\n",
       "wUgdoU7DioNBCa8JR5IccALRU7aCe0a6FyOy9xSDq6avvwhDeBtqCf6ScBT815x0qDMyrDiNwhGF\n",
       "ELKTiV9ky6ji/9ZVcIe2Fk8+nk6R/QeAg+b/5sowjrfxliynCLuKwYopXYfmq+14pGHFWbwhsstQ\n",
       "eJnELIvr+fivT3UV3KGtxePHT53Ifhdgn7nOB9BdJnCbJMw2YMWUrkP9qB0P2XnYg1dEoQaFd8qb\n",
       "kk/IsFXqAehejcj+H8Ci2QtwG/dUCXzMIAGvb03pOvRDaoZhFK+j8nduKdmAD3cg/SGr1G82P+IO\n",
       "b35TZKn5fPsCY8HMgVCTVO7N78RtnHpAYJYuEQBuaKGSVIWqrJo4UZPa/LOoeDhZhcVEZ2UowF13\n",
       "lqsJVsqVkNU+G/YuczXri+kmY8HM3hszNY3JDBIAvq0Lu65WQK7Cv08Xki4iSSlUZ9XEib5pOC0q\n",
       "nsbf09JzPZkQ3Oa/AHzG1fjLkI2YvF8hXeNqflchimU6VlMCPUZsqEkCs1yRAEZPI1IVGmc1iBVP\n",
       "rkQVT+HvKbnQclYrYhpOAogS4rm7QHOHVfSXmGNJJGEemrF0vf7HxXr9AWUOMNVcJKZZj+lbIjDL\n",
       "NghoV8oqXpLKUJ1VERs838k+sajV/EQiR+QU53F2ZvnaYIK5ounINqHSAMtjPZ1T1AX2iYEzekx+\n",
       "kuBU8wLgvoon0jxfG4NY8fxGOzDZafgS/ki/bsQs7+VqsPPTDChHJYJzPKQS2WpE5jsA51Q3jsf4\n",
       "NQJ7btROWy2TGk3q831lEKu990re9sItvAo8A9iqankHx/Bp/NFSs4D7ldVehMc+6wv9OKrB1IjM\n",
       "38uty8ZkcBEzTWtteiPCJdppBqkKVWo0seLBlp4XFYs+jPBmxsaSc9gTuJ307aTUQrV3hDl6I38m\n",
       "zTz46KV4hz4k5zy4rCuWY3QzNky17QnjfUOkKjTOahArHmxoh0XFz/E3Ire6ujqocnz1hWiU16wO\n",
       "PX/Kcjw8vHEn72kDE1s5i8gejO7QHZfG5BoEZn01Qn7MOHVK0hx/SgxixZPaf6YsKs4hU27B9blQ\n",
       "a/ei7+Is4MyM76UY3P6M4Qzv4CyAFYvDZcZ1Ok5X2x0puzh1Ztzn7vh8aZn7LGqEfuDUKSq+CQTb\n",
       "NqzJ19pN51dik2C3gZDgCu/ERMXHY3RUR9fmytyu7KBJcIV3OnNeRLA/gcM1UeO5Psg3xbDt4xiO\n",
       "8E4+2kN4D0w/P4zefGhYAAAAAElFTkSuQmCC\n",
       "\" style=\"display:inline;vertical-align:middle;\" /></a></span>"
      ],
      "text/plain": [
       "{d in Complex, b in Complex, a in Complex, c in Complex} |- ((2 * b) + b + a + c + (0 * d)) = ((3 * b) + a + c)"
      ]
     },
     "metadata": {},
     "output_type": "display_data"
    }
   ],
   "source": [
    "Add(Mult(two, b), b, a, c, Mult(zero, d)).simplification(\n",
    "    assumptions=[InSet(a, Complex), InSet(c, Complex), InSet(b, Complex), InSet(d, Complex)])"
   ]
  },
  {
   "cell_type": "code",
   "execution_count": 56,
   "metadata": {},
   "outputs": [
    {
     "data": {
      "text/html": [
       "<span style=\"font-size:20px;\"><a class=\"ProveItLink\" href=\"../__pv_it/theorems/e9f87a0977d5044ea8daf1040d2f219396bb3d5b0/expr.ipynb\"><img src=\"data:image/png;base64,iVBORw0KGgoAAAANSUhEUgAAADMAAAAQBAMAAABJt1qBAAAAMFBMVEX///8AAAAAAAAAAAAAAAAA\n",
       "AAAAAAAAAAAAAAAAAAAAAAAAAAAAAAAAAAAAAAAAAAAv3aB7AAAAD3RSTlMAIquJdkTvuxBmmd1U\n",
       "zTKBpmoTAAAACXBIWXMAAA7EAAAOxAGVKw4bAAAA0ElEQVQY02NgwAKaq+86PsYmwcCiNoFjfRVW\n",
       "qSXBDAycWKX4FlQASS0UMffduy8AKaaGAiDZiSwT6wGh2RkXQEUYlR0dwPQNqIAQnwGUFSbA/gNE\n",
       "8wpABR6zToAwODIZuDaApWAGS7E6QBhcHxi4wQY82w0EBWC7oAayFTD0B4AY7TBd7GAXAkG/A8N8\n",
       "MIMbJsUK9hcrUOoAgy4PyAUsDvDQCAISa4HaHXh2cYFF7sDDsHYhx2mg3zhU7IT8wCJNpQ2wkC/7\n",
       "vRA18IKrwQEFAwCqvi28/xxvKQAAAABJRU5ErkJggg==\n",
       "\" style=\"display:inline;vertical-align:middle;\" /></a>, <a class=\"ProveItLink\" href=\"../__pv_it/theorems/a259ec76dfb0a5be60b7c83d797520fa82c1dba60/expr.ipynb\"><img src=\"data:image/png;base64,iVBORw0KGgoAAAANSUhEUgAAADEAAAAQBAMAAABNQoq8AAAAMFBMVEX///8AAAAAAAAAAAAAAAAA\n",
       "AAAAAAAAAAAAAAAAAAAAAAAAAAAAAAAAAAAAAAAAAAAv3aB7AAAAD3RSTlMAELvv3c2ZVESJq3Yi\n",
       "MmZ3LnoBAAAACXBIWXMAAA7EAAAOxAGVKw4bAAAA2UlEQVQY02NgwASSKqF7bjIwMCo7oElwL37A\n",
       "mK8GZLAmoMlkdzIw8IFk+AtQJXgTFIHkMiDuF4AKbXJxCQBSXAIKQFIOiKdAJVo3QmgmHpjxUbuX\n",
       "gyieQCj/FO8ECIPxq4D8AZBDDkBlbnI8gDDYPzIwbwDJwFxwjGMDhMEWwMAP0n7ZBQgUwPZATWOZ\n",
       "wNAPcrcQTA8T2G0Q7+SD3M0Ck+EA+4cDKHOB0Q4cJhvgYdAFJFKBHnvABHF/ODzcVHMYS4BijCvz\n",
       "IAJSGrDAkFT+koMSYJ0q4NCBAQD6uylQEVfDpgAAAABJRU5ErkJggg==\n",
       "\" style=\"display:inline;vertical-align:middle;\" /></a>, <a class=\"ProveItLink\" href=\"../__pv_it/theorems/b66b5547fa9b0b910f79351152926c658c2718190/expr.ipynb\"><img src=\"data:image/png;base64,iVBORw0KGgoAAAANSUhEUgAAADEAAAAQBAMAAABNQoq8AAAAMFBMVEX///8AAAAAAAAAAAAAAAAA\n",
       "AAAAAAAAAAAAAAAAAAAAAAAAAAAAAAAAAAAAAAAAAAAv3aB7AAAAD3RSTlMAiXZmMiLdVJm77xBE\n",
       "zatgdeJyAAAACXBIWXMAAA7EAAAOxAGVKw4bAAAAw0lEQVQY02NgwAQbp91VdcQizsD0yoC7fwY2\n",
       "maaDDAzM2GRYGmYDyRfIQpppaReAFN+GCUByM5LEWW0IzcnaABMSUnYAkqy3odw4FgEoK6yAA6Sd\n",
       "NwDKd+QxgLISGbgUQDIwIyJ4FCAMjt8Q2isNCCaA7YGaxjUBQu+E6eHcABXZD9XLBpPhAfuHh4GB\n",
       "H2jfAVCYKMDD4ByQ6AXaM4GBEeRqhuvwcJvbyl0G8pOgMcSL++ZsgIX1rG+tKAF2cBo4dGAAAHWD\n",
       "KgtwTxl0AAAAAElFTkSuQmCC\n",
       "\" style=\"display:inline;vertical-align:middle;\" /></a> <a class=\"ProveItLink\" href=\"../__pv_it/demonstrations/2a08cd412676527fd6d54ff9db0dd13acb679ab90/proof.ipynb\" style=\"text-decoration: none\">&nbsp;&#x22A2;&nbsp;&nbsp;</a><a class=\"ProveItLink\" href=\"../__pv_it/demonstrations/727a04b89a5ecb33fe7c876c14231600042ce40f0/expr.ipynb\"><img src=\"data:image/png;base64,iVBORw0KGgoAAAANSUhEUgAAAeEAAAAVBAMAAACDEEuGAAAAMFBMVEX///8AAAAAAAAAAAAAAAAA\n",
       "AAAAAAAAAAAAAAAAAAAAAAAAAAAAAAAAAAAAAAAAAAAv3aB7AAAAD3RSTlMAInZUiRDNmWbv3US7\n",
       "qzJazP2FAAAACXBIWXMAAA7EAAAOxAGVKw4bAAAD90lEQVRYw72YTWgTQRTHX5qkSZOahh6Lhdgq\n",
       "eFGjiAcvBhEUwZKTIijJpehBIQexpRQMXupJqyc/MWChGNAGT+qlsRfxpNYiIkijRw9SjRWhYH0z\n",
       "s/PxZrfdbQNZ+HfJf3/vvX07s7O7BYA0tHfzqhdyFIANtUJxsiPb5o6feXiDjgKwg61QnNzvdVZn\n",
       "7m68k+ibSiCuo+yywjmu0JHxmh/LsJELDVLUl1K5mKJFz9M6t4nB6ywF44ZdzkmhUxBu+rGIbYXI\n",
       "Ci3qS6lcqBi5Pkn5q2kbsJYB8NzZ92Qtw43wbcJ1eFRoTzb6xzoyYZdF7D3AHQXwor6UyoXqorMh\n",
       "44QuW4aLMLZ9zn42bxluhG9defvwpNCLGtgdS1aVRexhHhbVYsWL+lIqF+qAZz+RyiY6Pg7BOu60\n",
       "p0m4KIR//9p3SpmWZdhngEV1ix4PRKlcqEtsKV/YlqEhnfO7srTByMB1avQf7rXauTjwgRo6r+r4\n",
       "8M4GRN5ZbcVyQgAv9cUQwZKVZQUGMwrjRX0pVRd1Hn++SHcv05DCcPQnMUKPYJzO+5vwNk/aif7J\n",
       "F9KkP51XOn3ZWB3ifDjHqmx7Ylx8gG9f9KiI4HjRGgp+SVK/1FrNi/pRui7qEUbdhliFhhzKwy1i\n",
       "JHKWcboMY3SMw8vQlSGXQOeVHU8xJDxpjXEiKwTGWu0ES1adB8cSapaIon6Urou6h3NgiTWE+2r1\n",
       "8d1qlXGXAX4T4wofT9NgacRQ3RFDFStCT44YTl7D4UOeWrKXp5oQ8PUG+ILtBHPWKCuwcTG8qqgv\n",
       "peqisOOuOhRq9CJNQbJJjPv2ynUfoit0jPEEZ7OmYeTVDrshJtfo+AfAW5ZhWgcnrdHjvcTF4E2r\n",
       "on6UrovCWV3IwA2rn6ZzWaQR/WV1jEZ8iXaMT0YxE6Rh5NUOS1Gx7mM5q1fzomMjOFzxmK/7IZQG\n",
       "s6gfpeui5vB3Fj6G0yTkH7tPTQOfGknScRO2FPfSjht475H+dF6JYNIaxOvWGHdnhB6IWW0GS1ae\n",
       "B8NSOeiQmCjqS6m6qBPseHg6RkM+wWtq4D0xRIw5OFgqkQa3lLupYeR1HFwwIw357NCb89iAa8bz\n",
       "2AmWrHpRQKxvZEQumk5RP0rXRX3H8Zof6t9NQ84etZ7pkWNX85TY/nW+QZ9OC6N0Dht55Vp95NoO\n",
       "nHPW5wKkKkLJEf0l4QQnrAWGYTOrq+rVTBT1o3RdVKKx7hvVRt65IOA7V5/r8FNH7q3PLvu0NQoV\n",
       "L637nbCRL4m1DeqMug5PeH5fmKwqO9EaxfSqzf8QgFDdZXWnhQKwXlhwipNn2t2xx9lE60IBWC8s\n",
       "OMXJUKbNHW/z8HodBWB7W6FQ/wEoZWLpacR0uwAAAABJRU5ErkJggg==\n",
       "\" style=\"display:inline;vertical-align:middle;\" /></a></span>"
      ],
      "text/plain": [
       "{a in Complex, b in Complex, c in Complex} |- (a + b + c + a + b + a + c) = ((3 * a) + (2 * b) + (2 * c))"
      ]
     },
     "metadata": {},
     "output_type": "display_data"
    }
   ],
   "source": [
    "Add(a,b,c,a,b,a,c).simplification(assumptions=[InSet(a, Complex), InSet(b, Complex), InSet(c, Complex)])"
   ]
  },
  {
   "cell_type": "code",
   "execution_count": 57,
   "metadata": {},
   "outputs": [
    {
     "data": {
      "text/html": [
       "<span style=\"font-size:20px;\"><a class=\"ProveItLink\" href=\"../__pv_it/theorems/e9f87a0977d5044ea8daf1040d2f219396bb3d5b0/expr.ipynb\"><img src=\"data:image/png;base64,iVBORw0KGgoAAAANSUhEUgAAADMAAAAQBAMAAABJt1qBAAAAMFBMVEX///8AAAAAAAAAAAAAAAAA\n",
       "AAAAAAAAAAAAAAAAAAAAAAAAAAAAAAAAAAAAAAAAAAAv3aB7AAAAD3RSTlMAIquJdkTvuxBmmd1U\n",
       "zTKBpmoTAAAACXBIWXMAAA7EAAAOxAGVKw4bAAAA0ElEQVQY02NgwAKaq+86PsYmwcCiNoFjfRVW\n",
       "qSXBDAycWKX4FlQASS0UMffduy8AKaaGAiDZiSwT6wGh2RkXQEUYlR0dwPQNqIAQnwGUFSbA/gNE\n",
       "8wpABR6zToAwODIZuDaApWAGS7E6QBhcHxi4wQY82w0EBWC7oAayFTD0B4AY7TBd7GAXAkG/A8N8\n",
       "MIMbJsUK9hcrUOoAgy4PyAUsDvDQCAISa4HaHXh2cYFF7sDDsHYhx2mg3zhU7IT8wCJNpQ2wkC/7\n",
       "vRA18IKrwQEFAwCqvi28/xxvKQAAAABJRU5ErkJggg==\n",
       "\" style=\"display:inline;vertical-align:middle;\" /></a>, <a class=\"ProveItLink\" href=\"../__pv_it/theorems/a259ec76dfb0a5be60b7c83d797520fa82c1dba60/expr.ipynb\"><img src=\"data:image/png;base64,iVBORw0KGgoAAAANSUhEUgAAADEAAAAQBAMAAABNQoq8AAAAMFBMVEX///8AAAAAAAAAAAAAAAAA\n",
       "AAAAAAAAAAAAAAAAAAAAAAAAAAAAAAAAAAAAAAAAAAAv3aB7AAAAD3RSTlMAELvv3c2ZVESJq3Yi\n",
       "MmZ3LnoBAAAACXBIWXMAAA7EAAAOxAGVKw4bAAAA2UlEQVQY02NgwASSKqF7bjIwMCo7oElwL37A\n",
       "mK8GZLAmoMlkdzIw8IFk+AtQJXgTFIHkMiDuF4AKbXJxCQBSXAIKQFIOiKdAJVo3QmgmHpjxUbuX\n",
       "gyieQCj/FO8ECIPxq4D8AZBDDkBlbnI8gDDYPzIwbwDJwFxwjGMDhMEWwMAP0n7ZBQgUwPZATWOZ\n",
       "wNAPcrcQTA8T2G0Q7+SD3M0Ck+EA+4cDKHOB0Q4cJhvgYdAFJFKBHnvABHF/ODzcVHMYS4BijCvz\n",
       "IAJSGrDAkFT+koMSYJ0q4NCBAQD6uylQEVfDpgAAAABJRU5ErkJggg==\n",
       "\" style=\"display:inline;vertical-align:middle;\" /></a>, <a class=\"ProveItLink\" href=\"../__pv_it/theorems/b66b5547fa9b0b910f79351152926c658c2718190/expr.ipynb\"><img src=\"data:image/png;base64,iVBORw0KGgoAAAANSUhEUgAAADEAAAAQBAMAAABNQoq8AAAAMFBMVEX///8AAAAAAAAAAAAAAAAA\n",
       "AAAAAAAAAAAAAAAAAAAAAAAAAAAAAAAAAAAAAAAAAAAv3aB7AAAAD3RSTlMAiXZmMiLdVJm77xBE\n",
       "zatgdeJyAAAACXBIWXMAAA7EAAAOxAGVKw4bAAAAw0lEQVQY02NgwAQbp91VdcQizsD0yoC7fwY2\n",
       "maaDDAzM2GRYGmYDyRfIQpppaReAFN+GCUByM5LEWW0IzcnaABMSUnYAkqy3odw4FgEoK6yAA6Sd\n",
       "NwDKd+QxgLISGbgUQDIwIyJ4FCAMjt8Q2isNCCaA7YGaxjUBQu+E6eHcABXZD9XLBpPhAfuHh4GB\n",
       "H2jfAVCYKMDD4ByQ6AXaM4GBEeRqhuvwcJvbyl0G8pOgMcSL++ZsgIX1rG+tKAF2cBo4dGAAAHWD\n",
       "KgtwTxl0AAAAAElFTkSuQmCC\n",
       "\" style=\"display:inline;vertical-align:middle;\" /></a> <a class=\"ProveItLink\" href=\"../__pv_it/demonstrations/0a2da91d5c57135a09cb83d4b1cbf1421ad94b9e0/proof.ipynb\" style=\"text-decoration: none\">&nbsp;&#x22A2;&nbsp;&nbsp;</a><a class=\"ProveItLink\" href=\"../__pv_it/demonstrations/86872a36532971243327b81ede1a9d6bdcca250e0/expr.ipynb\"><img src=\"data:image/png;base64,iVBORw0KGgoAAAANSUhEUgAAAm4AAAAVBAMAAAAN/H8LAAAAMFBMVEX///8AAAAAAAAAAAAAAAAA\n",
       "AAAAAAAAAAAAAAAAAAAAAAAAAAAAAAAAAAAAAAAAAAAv3aB7AAAAD3RSTlMAInZUiRDNmWbv3US7\n",
       "qzJazP2FAAAACXBIWXMAAA7EAAAOxAGVKw4bAAAEoElEQVRYw9VZQYhTRxj+Y/I2+zbZTRChIJW+\n",
       "Wgv2YBtFBPeyQSyWgvJOLYWV5NJ2L0IO2ypiMXhQD6JtQbBuiwsrWCMte6vbi3GhlNKDy1aKl5a0\n",
       "Rw9qm2YpLdjOvHnzZv6Zf5LdxEse/Cz8fPN93/+/mTczWQAowjA+KSpZBLKc1DNORelNpaHsWy6w\n",
       "c7wUFi3wir2wL62L0YGKkHsJU94P8xuvZPrqxsf0JSSenXZqr4hr7zXCHth0GWDLoR+xdwqVOnhq\n",
       "0eZi4VUpUyO1Pip5v48xfQmJkaH1Eqoibv7zei/sWwxZg6kS8k6h3oZ02+Zika3rydvx30LJSKh5\n",
       "Wndm2k6ITdNbyKbBiVGr47wUHisWVYKVKifYgm5DRc2ZtgP1Wslbs7lY+Ci5J/57JzQSau4Grkyu\n",
       "44TYNL2FbBojcdkc4Mdh9y3BSpWPmd05KCR9E94J1NIirBFcl2EfWc6bsPG+Zeb76JtbqGffZswB\n",
       "++Ig+jaDVdKiYVPJBBbeSVT6b4JrBmb5vnr/xQC7P7b9J6OcAztb2Py2A5txOSOru0oOiE3jFFJe\n",
       "EprM9osU72GzObNxPNjxq0pibKySLUeT7Ev10Yq8k6hvta9D5ORwxMe7t1TMd9AIby2sFFE5W0vZ\n",
       "Jl6Vn8C9EGUq73p/OCA2jVNIeZE0qQU4RfGejWprRM+KmggA38ELyR6oY5XKCO/FxC7VXuGdQv3+\n",
       "S0ud3SInHHUWFpj5K5CdxzO0A36AyrkuE9L8O3U4ieubCuFTB8SmcQlpXiTNWJnm3W/Ot4U4APLJ\n",
       "6cbAxipjYmGo/VR4J1Hafiqc7I/45tg7e8IzACcbjc8aja/4W6xCoYwSYg6wt3vzqni7p3kTUOZD\n",
       "gL8oiE3TTSj2otOEtPRjs29zcTAwn/jRbqljlYov5qPfkTDhnUZdC/m6gMTJ4yiYkN+EyiLudBnu\n",
       "lPSE3zQ/zp+D9y/OXIdc2wGxaboISS+KhpZecvQtX4XsU85ds7FShUlMtCDfljDhnUA9ArjHDd5Q\n",
       "TpaiYBO7EsAlPIKdqkRvZaISGOa9P2H0CS6nLaeTDbFpughdspRo6Unz+xavU38exqUuwuIVWOiI\n",
       "vmneCdR/oeib5mQyimXmtQQ/p9HXudBi3xmUYJ/IRWS+DePV3ahvT/nHhIbYNC4hzYvkZeeAHMV7\n",
       "wZxvyyIy2rw2sbFKnjH5K2Kdat4J1BdinepOOOoC31XzQfpGFo0Yr+dreEtuQgafQ5ZhslZDmQfw\n",
       "PTggNo1LSPMiadgWdoTinTX7Jg4IkKrBK6HqJcLGKhk2P0fr2vlNeCdQ5/Xzm3AijjsP2UtZPbLt\n",
       "VXwOuX/C2AgPnn8ZV3N0x2+ruJNHD9VdEJvGJaR5Sc7Tb5wJKd5bZt8exvHcRx8kOQMbq0zw/fab\n",
       "4+peL7wTqNxx7V4vnNyKkGOtdZ3r13Ff6AJZB++G7wsp65cUXgoux8JKla8HQ7HA1+PbPS/kXe71\n",
       "0Me93p3oxZutU7f3UfL3lQQrVc4NhuJxF4bzed5O3QVHORY2XxwIxWN6SPtGNGjaVY6F9ZoDoXik\n",
       "gqFs2ybq/wgBXQ6B3TwIisX/Lwm0qZ/f7wwAAAAASUVORK5CYII=\n",
       "\" style=\"display:inline;vertical-align:middle;\" /></a></span>"
      ],
      "text/plain": [
       "{a in Complex, b in Complex, c in Complex} |- (a + b + c + a + b + a + c + b + a + c + a) = ((5 * a) + (3 * b) + (3 * c))"
      ]
     },
     "metadata": {},
     "output_type": "display_data"
    }
   ],
   "source": [
    "Add(a,b,c,a,b,a,c,b,a,c,a).simplification(assumptions=[InSet(a, Complex), InSet(b, Complex), InSet(c, Complex)])"
   ]
  },
  {
   "cell_type": "code",
   "execution_count": 58,
   "metadata": {},
   "outputs": [
    {
     "data": {
      "text/html": [
       "<span style=\"font-size:20px;\"> <a class=\"ProveItLink\" href=\"../__pv_it/demonstrations/7aec61beb41b9f73a71482ad8c2b1d1bcb26abaa0/proof.ipynb\" style=\"text-decoration: none\">&nbsp;&#x22A2;&nbsp;&nbsp;</a><a class=\"ProveItLink\" href=\"../__pv_it/demonstrations/4d22568d1365e42cc4c11d84d09fffea1fa87ac70/expr.ipynb\"><img src=\"data:image/png;base64,iVBORw0KGgoAAAANSUhEUgAAAJAAAAAVBAMAAABbFXrgAAAAMFBMVEX///8AAAAAAAAAAAAAAAAA\n",
       "AAAAAAAAAAAAAAAAAAAAAAAAAAAAAAAAAAAAAAAAAAAv3aB7AAAAD3RSTlMAInZUiRDNmWbv3US7\n",
       "qzJazP2FAAAACXBIWXMAAA7EAAAOxAGVKw4bAAABkElEQVQ4y4WUsUsDMRSHf1ep9lrPVhBcHLoI\n",
       "LmIHEexSNyepf0DBjkUQOxQLTjc5VXBx6mChg6IIbuLWugri5qTc4NRFpXS15h1Yk5eQZCjXd9/v\n",
       "u+RecgBysA/PVMzpSKLgEGXyeo2FYmRdKgx2WWDx6BlY0UVSaGH7KUaS1Ukp+XrIRF4P5TtMc70S\n",
       "qqNUIGQmlIA1Fgly8M+QqnORFEoMsVclxIdF5I8QfAPnXCSFMm1kq4Rs2ERBB8EPUOMiJYRSSEjD\n",
       "JhIj/QXs8KISylyBkJpD9Ck6exJfHV/TuKVLOTS3+g5Cug4RBTd5sasurUBIW3RwP35W9Cf6/y/6\n",
       "06NZcZESopYIpG2f0Sn9PBhEk5VFmB0SYl/a1BbmgSJ/R1IoO4pFRTxaRR/AMtDiM5JC/ku8tJba\n",
       "2jL7EniXzWaHdRtQ9kMqjPdRAwPp/tvFQahuovF4LLbtDRfJofumOLQCSUdwDa+j7dJIR/QTCcsR\n",
       "/VtP3YD0naIlvdQ3IBWnyPCoigHx8g5PwvBRZyGB/ALKO2qGVPU8LAAAAABJRU5ErkJggg==\n",
       "\" style=\"display:inline;vertical-align:middle;\" /></a></span>"
      ],
      "text/plain": [
       "|- (-1 - 2) = (-3)"
      ]
     },
     "metadata": {},
     "output_type": "display_data"
    }
   ],
   "source": [
    "Add(Neg(one), Neg(two)).evaluation()"
   ]
  },
  {
   "cell_type": "code",
   "execution_count": 59,
   "metadata": {},
   "outputs": [],
   "source": [
    "# Multi-digit arithmetic needs to be implemented in order to\n",
    "# get this to work w.r.t. indexing.  So we comment this out for now.\n",
    "#Add(a,b,c,a,b,a,c,b,a,c,a,a).simplification([InSet(a, Complex), InSet(b, Complex), InSet(c, Complex)]).proof()"
   ]
  },
  {
   "cell_type": "code",
   "execution_count": 60,
   "metadata": {},
   "outputs": [
    {
     "data": {
      "text/html": [
       "<span style=\"font-size:20px;\"><a class=\"ProveItLink\" href=\"../__pv_it/theorems/b66b5547fa9b0b910f79351152926c658c2718190/expr.ipynb\"><img src=\"data:image/png;base64,iVBORw0KGgoAAAANSUhEUgAAADEAAAAQBAMAAABNQoq8AAAAMFBMVEX///8AAAAAAAAAAAAAAAAA\n",
       "AAAAAAAAAAAAAAAAAAAAAAAAAAAAAAAAAAAAAAAAAAAv3aB7AAAAD3RSTlMAiXZmMiLdVJm77xBE\n",
       "zatgdeJyAAAACXBIWXMAAA7EAAAOxAGVKw4bAAAAw0lEQVQY02NgwAQbp91VdcQizsD0yoC7fwY2\n",
       "maaDDAzM2GRYGmYDyRfIQpppaReAFN+GCUByM5LEWW0IzcnaABMSUnYAkqy3odw4FgEoK6yAA6Sd\n",
       "NwDKd+QxgLISGbgUQDIwIyJ4FCAMjt8Q2isNCCaA7YGaxjUBQu+E6eHcABXZD9XLBpPhAfuHh4GB\n",
       "H2jfAVCYKMDD4ByQ6AXaM4GBEeRqhuvwcJvbyl0G8pOgMcSL++ZsgIX1rG+tKAF2cBo4dGAAAHWD\n",
       "KgtwTxl0AAAAAElFTkSuQmCC\n",
       "\" style=\"display:inline;vertical-align:middle;\" /></a> <a class=\"ProveItLink\" href=\"../__pv_it/demonstrations/f7494c66adc1d9d03d0173e8d83c7f6124dcae920/proof.ipynb\" style=\"text-decoration: none\">&nbsp;&#x22A2;&nbsp;&nbsp;</a><a class=\"ProveItLink\" href=\"../__pv_it/demonstrations/28c42f8e4143745a654c258386131b62aff2c4a70/expr.ipynb\"><img src=\"data:image/png;base64,iVBORw0KGgoAAAANSUhEUgAAAWsAAAAVBAMAAAByN9JOAAAAMFBMVEX///8AAAAAAAAAAAAAAAAA\n",
       "AAAAAAAAAAAAAAAAAAAAAAAAAAAAAAAAAAAAAAAAAAAv3aB7AAAAD3RSTlMAInZUiRDNmWbv3US7\n",
       "qzJazP2FAAAACXBIWXMAAA7EAAAOxAGVKw4bAAAC8klEQVRIx71XPWhTURQ+Lz8mL/8WQQ0OESm4\n",
       "SIOIa4IUXJRm0kVIFsFFzCAmFIdu6SJk1SANKFQDLcHFn8Wna0GzOUgliFMHrYSIk/Hce03y7rnn\n",
       "5bUOefC18HG+L9899+a8GwDIwHwf7vMsttLixdIgkJ9z7BcMdwZOlDiWFUuDC4i9kt9nHb/3gTDH\n",
       "Lu/4JmR9A2sGFSxCYTQaNQ3WWr7fNcQC4QqEP93xi205sKLrw1Uo+OyTl+9Ng7kGcKVWW80b7HUI\n",
       "DkwxIiLWvjS2f0UN46o1yQzYTa0kMIByZbbIy7dhxK4DFHFHiRrZpXz4l17aULA1+/PG9uXkP3sI\n",
       "yZ9aSbwF6cpskZevbewBdgQ73SNqZF93gcQWYsTFA8VOtiH5h5YU1v4v9hF6uINy/aG+rlZs8Lde\n",
       "K8SIu7z9pbN9PQHE9klJ/JmviPcN9UjsSFH8PUUWrdg3rjWOxYhbrH02H3FI7B85vSR17ouviPeN\n",
       "yjaudsSzNW3/ZxJbsl93+5PUEzHiCWv/FOwcib1l7Pd4kniLeN8gGXQQE0ZWk8SWrHuSTMSI1tQe\n",
       "1/9QrT8yVNvU6Tx/1OnIPVWNnJao76mPiPdN7ZPYtpitoQpR22ribqCHHCdTMaLFdcV2jG/XA9BL\n",
       "Un1IDPxEvG+8ycWOOUQt2O8AH0XTNzUxgj0k5RxNgG+so1pJekhjmyIP32CbnG15HMo95pCMSiq2\n",
       "Lka85+zT+G3oah7fABb1xvXUIZkl8vCNOqTbCVH/tkpiC/axOiREjLgqmJWMbo8HOaTNMmuzVmtr\n",
       "JdE1OrcNkZevmmyuR07EQpHEFuy6a25PxYg9JHY3bpM3x/L6ouYRw4sOeSe+rO3AbJGXb6xLYqdE\n",
       "R07mSWzBxmuuq9REjIj13QbeLzzvkkOLsobDNqve5u5hWYVo1U1634q8Sw4tqhsODVbd4GLX/+Hd\n",
       "nH8liEswfRLsLyyOFWJpcGPesZk0YYe9rzu8WBpYuTnHPs1wC2zlAi9G/AViOf3ZiofgZwAAAABJ\n",
       "RU5ErkJggg==\n",
       "\" style=\"display:inline;vertical-align:middle;\" /></a></span>"
      ],
      "text/plain": [
       "{c in Complex} |- (1 + c + 2 + 3 + c + 1 + c) = (7 + (3 * c))"
      ]
     },
     "metadata": {},
     "output_type": "display_data"
    }
   ],
   "source": [
    "Add(one, c, two, three, c, one,c).simplification(assumptions=[InSet(c, Complex)])"
   ]
  },
  {
   "cell_type": "code",
   "execution_count": 61,
   "metadata": {},
   "outputs": [
    {
     "data": {
      "text/html": [
       "<strong id=\"expr\">expr:</strong> <a class=\"ProveItLink\" href=\"../__pv_it/demonstrations/7dbfccdea90db35969ea6cb2050b82bf722e47d00/expr.ipynb\"><img src=\"data:image/png;base64,iVBORw0KGgoAAAANSUhEUgAAAHcAAAAVBAMAAACOK2zoAAAAMFBMVEX///8AAAAAAAAAAAAAAAAA\n",
       "AAAAAAAAAAAAAAAAAAAAAAAAAAAAAAAAAAAAAAAAAAAv3aB7AAAAD3RSTlMAMpndq3ZmzYkiRO+7\n",
       "VBCly6GvAAAACXBIWXMAAA7EAAAOxAGVKw4bAAABsUlEQVQ4y2NgIApMIEoIO2C9gCm2FEIJoYry\n",
       "nTZAV3iDgYFTqUYA1cAEMGWCppRdAU2Ar4CBYQ4Dxy9U0TqwETDNy6A0P8yRXBDDGZiAtCcDw25U\n",
       "zUkgQqwEyrsKpdc/gDJ4AyA0NxDvf8DgjxpG3CBlDeiamxnQNF8HYmcGBn9UT7MD3cM6AV1zSagv\n",
       "qmYNCGWP0NgaJsDA4cDAMI0BTTPf9wfvJ6BoLgOTjF/heidfYDrAwAYMxgZ0zbz/GLgDUDTbgklm\n",
       "B7hmC5AK3g0MbBMgmpWNjXcbG4MCnqmAgb8BSBkbW282Ngbp2AXWoQNxFkjFP7BLPjBMZUC3mbmB\n",
       "Yf0FFJvBmtkgFhuBwvkAOCI3MCxxcfntgaIZGM36DzCdfYOBExZV78HivOCEuAXVZn4Bvm2ooX0U\n",
       "5MgGBlZY/PMDI2kBAxvY/j+omlkSeBRQNbeAAlhJSRkWXsCg5hBgYGoABcR/V9So8lBDSyTCoEj+\n",
       "//87PLQ70uKAYbMAOclcRc9MMM3MAtjy6WQU3jJ0aVjGYFPAplmNyMLgJBYxzgNEan6DRYyH2HKI\n",
       "MwBTLJKBAQBB2WDoJKAuMgAAAABJRU5ErkJggg==\n",
       "\" style=\"display:inline;vertical-align:middle;\" /></a><br>"
      ],
      "text/plain": [
       "<IPython.core.display.HTML object>"
      ]
     },
     "metadata": {},
     "output_type": "display_data"
    }
   ],
   "source": [
    "expr = Add(c, Neg(one), b, Add(two, three), Neg(c), Add(c, zero, c)).simplified(\n",
    "    assumptions=[InSet(c, Complex),InSet(b, Complex)])"
   ]
  },
  {
   "cell_type": "code",
   "execution_count": 62,
   "metadata": {},
   "outputs": [
    {
     "data": {
      "text/html": [
       "<span style=\"font-size:20px;\"> <a class=\"ProveItLink\" href=\"../__pv_it/demonstrations/ae77cdbb7363147fb6ba95119fd3d6f03bd881ed0/proof.ipynb\" style=\"text-decoration: none\">&nbsp;&#x22A2;&nbsp;&nbsp;</a><a class=\"ProveItLink\" href=\"../__pv_it/demonstrations/c2c3b6dd7876f1188c72104cc41347fc60a538c80/expr.ipynb\"><img src=\"data:image/png;base64,iVBORw0KGgoAAAANSUhEUgAAANsAAAAVBAMAAAA9T4a3AAAAMFBMVEX///8AAAAAAAAAAAAAAAAA\n",
       "AAAAAAAAAAAAAAAAAAAAAAAAAAAAAAAAAAAAAAAAAAAv3aB7AAAAD3RSTlMAInZUiRDNmWbv3US7\n",
       "qzJazP2FAAAACXBIWXMAAA7EAAAOxAGVKw4bAAABnklEQVRIx6WVP0vDQBiH3zSNTWopxbE4VPwA\n",
       "llKc8wXETp0csggiig5CS3Fw65q1dGjBTbAtTh2rn6BOgiDN3EkcXBxq7i605r3Ly2EOQpInT+53\n",
       "fxMAKMH/i+pdg5Qz1RRxTwq2T8r18Fg28CNMjNZFoCCZO6lS06VkywPr7QpVLpNdyP6oyKkU1yTl\n",
       "HGvfgdS7NZmK0ytAL24I0pXi2qTsAB1XE6dBAxbxdSGII73pk/KhXtw7wCI+H4Js4ckzPVK+0YsL\n",
       "y1gat5Bk54jlXFI+040rfmGHEdtjV50HVh7ZpehuonyvG5fH/eDE9DGsknJ/U3mTt3H0Jy5sdS9q\n",
       "NdzyHXLOnWBNip+oWmdCyn3N3tlSeznZ9lVxybLuYNbBQB9ITswhmjs+mMnyi15c0YVMXBLEnqEX\n",
       "CxVSPmJ3x9KXfU2iuHKr1YkbgkTrflPYziDkZXjzMbhEu3VDorjxavWN9hEn+Qle8ENSzgf0L6ZG\n",
       "Py5LZETK9jVd35R+3JZIl5afU/xdwZhJqFAi5ZM0cYq6rRkpG5UUcXsKtkPIvxB2pXSNJLgvAAAA\n",
       "AElFTkSuQmCC\n",
       "\" style=\"display:inline;vertical-align:middle;\" /></a></span>"
      ],
      "text/plain": [
       "|- (1 - 1 + 2 - 2) = (2 - 2)"
      ]
     },
     "metadata": {},
     "output_type": "display_data"
    }
   ],
   "source": [
    "Add(one, Neg(one), two, Neg(two)).cancelation(0, 1, auto_simplify=False)"
   ]
  },
  {
   "cell_type": "code",
   "execution_count": 63,
   "metadata": {},
   "outputs": [
    {
     "data": {
      "text/html": [
       "<span style=\"font-size:20px;\"> <a class=\"ProveItLink\" href=\"../__pv_it/demonstrations/51a73ecb9ef617521331d3e2856206c9ca30e9e00/proof.ipynb\" style=\"text-decoration: none\">&nbsp;&#x22A2;&nbsp;&nbsp;</a><a class=\"ProveItLink\" href=\"../__pv_it/demonstrations/74bbf0346ef1037b24a23277bea3b4f03b192e890/expr.ipynb\"><img src=\"data:image/png;base64,iVBORw0KGgoAAAANSUhEUgAAAKkAAAAVBAMAAADP89MSAAAAMFBMVEX///8AAAAAAAAAAAAAAAAA\n",
       "AAAAAAAAAAAAAAAAAAAAAAAAAAAAAAAAAAAAAAAAAAAv3aB7AAAAD3RSTlMAInZUiRDNmWbv3US7\n",
       "qzJazP2FAAAACXBIWXMAAA7EAAAOxAGVKw4bAAABnUlEQVQ4y6WVMUjDQBSG/7RNm1YpnYtDnZzE\n",
       "UIprOzgqZnJy6CKIKDoUK8Whm+hi1yJYxU2oFaduVmeFOgmCNLOLIqKDQ73LlbZ5l4RgDkKO7959\n",
       "ebl3uQBI4f/NdW5ID2C9cRvIsevNoJQSpbxpOpBQVfItzLAXUItQn7eJQyZTiPw6kTUqjerqORDj\n",
       "T5uTch2Strg9AXV7hCAHdOIRsAjE4W3NilvDQM9eGkHidOYjkDcw78/6AvTsCytIlC7sD/Cuo+TP\n",
       "ylpLKgwjkS6pCLdWse7XmvykMZxoRd6rXPLW5Dvji1kzuPBrTXRpDCfhGtlv3FrAycixYj3xaszK\n",
       "cqiLHIB96wU3rBhzSJIfZAWY9TYzbvXMVZNStchETa5WXve9AjkoKfpRMhI+s68rHoBjA/f+rMkC\n",
       "QvYgQbQOmXgI7AJLvLssnT1DMrCmy+WKPUKQWIGWUFdP2THCeq+NLbKZR2RgbfX732SzWiRxTaxq\n",
       "aZbVMmF6n3VZ7+G0M9Z2vKe1vYf3XPhdgEMbSsdlYDWIddLtF6NkAlinnfEf3yR83nKurs4AAAAA\n",
       "SUVORK5CYII=\n",
       "\" style=\"display:inline;vertical-align:middle;\" /></a></span>"
      ],
      "text/plain": [
       "|- (1 - 1 + 2 - 2) = 0"
      ]
     },
     "metadata": {},
     "output_type": "display_data"
    }
   ],
   "source": [
    "Add(one, Neg(one), two, Neg(two)).cancelation(0, 1, auto_simplify=True)"
   ]
  },
  {
   "cell_type": "code",
   "execution_count": 64,
   "metadata": {},
   "outputs": [
    {
     "data": {
      "text/html": [
       "<span style=\"font-size:20px;\"><a class=\"ProveItLink\" href=\"../__pv_it/theorems/e9f87a0977d5044ea8daf1040d2f219396bb3d5b0/expr.ipynb\"><img src=\"data:image/png;base64,iVBORw0KGgoAAAANSUhEUgAAADMAAAAQBAMAAABJt1qBAAAAMFBMVEX///8AAAAAAAAAAAAAAAAA\n",
       "AAAAAAAAAAAAAAAAAAAAAAAAAAAAAAAAAAAAAAAAAAAv3aB7AAAAD3RSTlMAIquJdkTvuxBmmd1U\n",
       "zTKBpmoTAAAACXBIWXMAAA7EAAAOxAGVKw4bAAAA0ElEQVQY02NgwAKaq+86PsYmwcCiNoFjfRVW\n",
       "qSXBDAycWKX4FlQASS0UMffduy8AKaaGAiDZiSwT6wGh2RkXQEUYlR0dwPQNqIAQnwGUFSbA/gNE\n",
       "8wpABR6zToAwODIZuDaApWAGS7E6QBhcHxi4wQY82w0EBWC7oAayFTD0B4AY7TBd7GAXAkG/A8N8\n",
       "MIMbJsUK9hcrUOoAgy4PyAUsDvDQCAISa4HaHXh2cYFF7sDDsHYhx2mg3zhU7IT8wCJNpQ2wkC/7\n",
       "vRA18IKrwQEFAwCqvi28/xxvKQAAAABJRU5ErkJggg==\n",
       "\" style=\"display:inline;vertical-align:middle;\" /></a>, <a class=\"ProveItLink\" href=\"../__pv_it/theorems/a259ec76dfb0a5be60b7c83d797520fa82c1dba60/expr.ipynb\"><img src=\"data:image/png;base64,iVBORw0KGgoAAAANSUhEUgAAADEAAAAQBAMAAABNQoq8AAAAMFBMVEX///8AAAAAAAAAAAAAAAAA\n",
       "AAAAAAAAAAAAAAAAAAAAAAAAAAAAAAAAAAAAAAAAAAAv3aB7AAAAD3RSTlMAELvv3c2ZVESJq3Yi\n",
       "MmZ3LnoBAAAACXBIWXMAAA7EAAAOxAGVKw4bAAAA2UlEQVQY02NgwASSKqF7bjIwMCo7oElwL37A\n",
       "mK8GZLAmoMlkdzIw8IFk+AtQJXgTFIHkMiDuF4AKbXJxCQBSXAIKQFIOiKdAJVo3QmgmHpjxUbuX\n",
       "gyieQCj/FO8ECIPxq4D8AZBDDkBlbnI8gDDYPzIwbwDJwFxwjGMDhMEWwMAP0n7ZBQgUwPZATWOZ\n",
       "wNAPcrcQTA8T2G0Q7+SD3M0Ck+EA+4cDKHOB0Q4cJhvgYdAFJFKBHnvABHF/ODzcVHMYS4BijCvz\n",
       "IAJSGrDAkFT+koMSYJ0q4NCBAQD6uylQEVfDpgAAAABJRU5ErkJggg==\n",
       "\" style=\"display:inline;vertical-align:middle;\" /></a> <a class=\"ProveItLink\" href=\"../__pv_it/demonstrations/c2671466347a03eb1f2f0844665eff3f404240630/proof.ipynb\" style=\"text-decoration: none\">&nbsp;&#x22A2;&nbsp;&nbsp;</a><a class=\"ProveItLink\" href=\"../__pv_it/demonstrations/675a9e32ec5b8eccac538a03afea2bc7fe9ba21d0/expr.ipynb\"><img src=\"data:image/png;base64,iVBORw0KGgoAAAANSUhEUgAAAKcAAAAVBAMAAADROuOhAAAAMFBMVEX///8AAAAAAAAAAAAAAAAA\n",
       "AAAAAAAAAAAAAAAAAAAAAAAAAAAAAAAAAAAAAAAAAAAv3aB7AAAAD3RSTlMAInZUiRDNmWbv3US7\n",
       "qzJazP2FAAAACXBIWXMAAA7EAAAOxAGVKw4bAAAB5klEQVQ4y6VVzysEURz/rDE7+0u7fwA1XLjQ\n",
       "HKS42INSQnNSitZFpNQeNsnFnhSpLaW0SkTJiFydFhcpSkiOe3ZBLDf5vskz897OtO16Na/X98fn\n",
       "vff5ft53ACRQ8wj4OeqM2kGjuo+j08OmXm1XBBzL09RWZu5rpZurE14ZwXTlY06xOFNONNQdQMt6\n",
       "JcT9OYnyhHf6QvLmK8AgEPbMLJi+oMovj9ESm9cl7w3Qa6LLM3MAFUHrbdqnJe8X8GIgw5Tx0CyV\n",
       "cbblXhLPXwgHDd61E0dDUoUZaNbe6jQRK4m+TzMlytcJ4aCpSfUNWGLLBYuNI7b3B4Hq2CWIDWii\n",
       "hJQSwsLZXSEclKhbA7qlCzHQJDZJAK+IJMkyYm94TCttAnGyqDO2peiEaJZ1kLesW1rOAQxBuj6Z\n",
       "CjoDDZ8hdSL4CKAgiMoVwk+6hyiJ6rS8UL0Gu35KR65MpouCqFwhHPQdGrHcI3KKayBn4oIyDDwq\n",
       "Ql3iRSJRAHVCOOg3RukZrEonXbZ5IU3EdGVfE1wN2Zj4VFwhHPQJlzRnJNCIoW4Bz8Tu3XBTh8j3\n",
       "w7xUACeEg473s/d6KLeiTDvVNVKsst0pbq0FvLtZKF1tD3V3IO92BJzjH6PRr9n+B9TvRAG9dsw6\n",
       "7//bDy76eHb/gpLrAAAAAElFTkSuQmCC\n",
       "\" style=\"display:inline;vertical-align:middle;\" /></a></span>"
      ],
      "text/plain": [
       "{a in Complex, b in Complex} |- (a - b - a + b) = 0"
      ]
     },
     "metadata": {},
     "output_type": "display_data"
    }
   ],
   "source": [
    "Add(a, Neg(b), Neg(a), b).cancelations(assumptions=[InSet(a, Complex), InSet(b, Complex)], auto_simplify=False)"
   ]
  },
  {
   "cell_type": "code",
   "execution_count": 65,
   "metadata": {},
   "outputs": [
    {
     "data": {
      "text/html": [
       "<span style=\"font-size:20px;\"><a class=\"ProveItLink\" href=\"../__pv_it/theorems/e9f87a0977d5044ea8daf1040d2f219396bb3d5b0/expr.ipynb\"><img src=\"data:image/png;base64,iVBORw0KGgoAAAANSUhEUgAAADMAAAAQBAMAAABJt1qBAAAAMFBMVEX///8AAAAAAAAAAAAAAAAA\n",
       "AAAAAAAAAAAAAAAAAAAAAAAAAAAAAAAAAAAAAAAAAAAv3aB7AAAAD3RSTlMAIquJdkTvuxBmmd1U\n",
       "zTKBpmoTAAAACXBIWXMAAA7EAAAOxAGVKw4bAAAA0ElEQVQY02NgwAKaq+86PsYmwcCiNoFjfRVW\n",
       "qSXBDAycWKX4FlQASS0UMffduy8AKaaGAiDZiSwT6wGh2RkXQEUYlR0dwPQNqIAQnwGUFSbA/gNE\n",
       "8wpABR6zToAwODIZuDaApWAGS7E6QBhcHxi4wQY82w0EBWC7oAayFTD0B4AY7TBd7GAXAkG/A8N8\n",
       "MIMbJsUK9hcrUOoAgy4PyAUsDvDQCAISa4HaHXh2cYFF7sDDsHYhx2mg3zhU7IT8wCJNpQ2wkC/7\n",
       "vRA18IKrwQEFAwCqvi28/xxvKQAAAABJRU5ErkJggg==\n",
       "\" style=\"display:inline;vertical-align:middle;\" /></a>, <a class=\"ProveItLink\" href=\"../__pv_it/theorems/a259ec76dfb0a5be60b7c83d797520fa82c1dba60/expr.ipynb\"><img src=\"data:image/png;base64,iVBORw0KGgoAAAANSUhEUgAAADEAAAAQBAMAAABNQoq8AAAAMFBMVEX///8AAAAAAAAAAAAAAAAA\n",
       "AAAAAAAAAAAAAAAAAAAAAAAAAAAAAAAAAAAAAAAAAAAv3aB7AAAAD3RSTlMAELvv3c2ZVESJq3Yi\n",
       "MmZ3LnoBAAAACXBIWXMAAA7EAAAOxAGVKw4bAAAA2UlEQVQY02NgwASSKqF7bjIwMCo7oElwL37A\n",
       "mK8GZLAmoMlkdzIw8IFk+AtQJXgTFIHkMiDuF4AKbXJxCQBSXAIKQFIOiKdAJVo3QmgmHpjxUbuX\n",
       "gyieQCj/FO8ECIPxq4D8AZBDDkBlbnI8gDDYPzIwbwDJwFxwjGMDhMEWwMAP0n7ZBQgUwPZATWOZ\n",
       "wNAPcrcQTA8T2G0Q7+SD3M0Ck+EA+4cDKHOB0Q4cJhvgYdAFJFKBHnvABHF/ODzcVHMYS4BijCvz\n",
       "IAJSGrDAkFT+koMSYJ0q4NCBAQD6uylQEVfDpgAAAABJRU5ErkJggg==\n",
       "\" style=\"display:inline;vertical-align:middle;\" /></a> <a class=\"ProveItLink\" href=\"../__pv_it/demonstrations/c2671466347a03eb1f2f0844665eff3f404240630/proof.ipynb\" style=\"text-decoration: none\">&nbsp;&#x22A2;&nbsp;&nbsp;</a><a class=\"ProveItLink\" href=\"../__pv_it/demonstrations/675a9e32ec5b8eccac538a03afea2bc7fe9ba21d0/expr.ipynb\"><img src=\"data:image/png;base64,iVBORw0KGgoAAAANSUhEUgAAAKcAAAAVBAMAAADROuOhAAAAMFBMVEX///8AAAAAAAAAAAAAAAAA\n",
       "AAAAAAAAAAAAAAAAAAAAAAAAAAAAAAAAAAAAAAAAAAAv3aB7AAAAD3RSTlMAInZUiRDNmWbv3US7\n",
       "qzJazP2FAAAACXBIWXMAAA7EAAAOxAGVKw4bAAAB5klEQVQ4y6VVzysEURz/rDE7+0u7fwA1XLjQ\n",
       "HKS42INSQnNSitZFpNQeNsnFnhSpLaW0SkTJiFydFhcpSkiOe3ZBLDf5vskz897OtO16Na/X98fn\n",
       "vff5ft53ACRQ8wj4OeqM2kGjuo+j08OmXm1XBBzL09RWZu5rpZurE14ZwXTlY06xOFNONNQdQMt6\n",
       "JcT9OYnyhHf6QvLmK8AgEPbMLJi+oMovj9ESm9cl7w3Qa6LLM3MAFUHrbdqnJe8X8GIgw5Tx0CyV\n",
       "cbblXhLPXwgHDd61E0dDUoUZaNbe6jQRK4m+TzMlytcJ4aCpSfUNWGLLBYuNI7b3B4Hq2CWIDWii\n",
       "hJQSwsLZXSEclKhbA7qlCzHQJDZJAK+IJMkyYm94TCttAnGyqDO2peiEaJZ1kLesW1rOAQxBuj6Z\n",
       "CjoDDZ8hdSL4CKAgiMoVwk+6hyiJ6rS8UL0Gu35KR65MpouCqFwhHPQdGrHcI3KKayBn4oIyDDwq\n",
       "Ql3iRSJRAHVCOOg3RukZrEonXbZ5IU3EdGVfE1wN2Zj4VFwhHPQJlzRnJNCIoW4Bz8Tu3XBTh8j3\n",
       "w7xUACeEg473s/d6KLeiTDvVNVKsst0pbq0FvLtZKF1tD3V3IO92BJzjH6PRr9n+B9TvRAG9dsw6\n",
       "7//bDy76eHb/gpLrAAAAAElFTkSuQmCC\n",
       "\" style=\"display:inline;vertical-align:middle;\" /></a></span>"
      ],
      "text/plain": [
       "{a in Complex, b in Complex} |- (a - b - a + b) = 0"
      ]
     },
     "metadata": {},
     "output_type": "display_data"
    }
   ],
   "source": [
    "Add(a, Neg(b), Neg(a), b).cancelations(assumptions=[InSet(a, Complex), InSet(b, Complex)], auto_simplify=True)"
   ]
  },
  {
   "cell_type": "code",
   "execution_count": 66,
   "metadata": {},
   "outputs": [
    {
     "data": {
      "text/html": [
       "<span style=\"font-size:20px;\"><a class=\"ProveItLink\" href=\"../__pv_it/theorems/e9f87a0977d5044ea8daf1040d2f219396bb3d5b0/expr.ipynb\"><img src=\"data:image/png;base64,iVBORw0KGgoAAAANSUhEUgAAADMAAAAQBAMAAABJt1qBAAAAMFBMVEX///8AAAAAAAAAAAAAAAAA\n",
       "AAAAAAAAAAAAAAAAAAAAAAAAAAAAAAAAAAAAAAAAAAAv3aB7AAAAD3RSTlMAIquJdkTvuxBmmd1U\n",
       "zTKBpmoTAAAACXBIWXMAAA7EAAAOxAGVKw4bAAAA0ElEQVQY02NgwAKaq+86PsYmwcCiNoFjfRVW\n",
       "qSXBDAycWKX4FlQASS0UMffduy8AKaaGAiDZiSwT6wGh2RkXQEUYlR0dwPQNqIAQnwGUFSbA/gNE\n",
       "8wpABR6zToAwODIZuDaApWAGS7E6QBhcHxi4wQY82w0EBWC7oAayFTD0B4AY7TBd7GAXAkG/A8N8\n",
       "MIMbJsUK9hcrUOoAgy4PyAUsDvDQCAISa4HaHXh2cYFF7sDDsHYhx2mg3zhU7IT8wCJNpQ2wkC/7\n",
       "vRA18IKrwQEFAwCqvi28/xxvKQAAAABJRU5ErkJggg==\n",
       "\" style=\"display:inline;vertical-align:middle;\" /></a>, <a class=\"ProveItLink\" href=\"../__pv_it/demonstrations/c2054066c99464bcec280845683c41843957fd240/expr.ipynb\"><img src=\"data:image/png;base64,iVBORw0KGgoAAAANSUhEUgAAADgAAAAQBAMAAACxV6F2AAAAMFBMVEX///8AAAAAAAAAAAAAAAAA\n",
       "AAAAAAAAAAAAAAAAAAAAAAAAAAAAAAAAAAAAAAAAAAAv3aB7AAAAD3RSTlMAIs1UmauJMnZmRLsQ\n",
       "3e++988cAAAACXBIWXMAAA7EAAAOxAGVKw4bAAAA6klEQVQY02NgAAEhBjTAk31JQzwBwtZHl2x9\n",
       "yXDktwOYyfwfTY6lC6hrNkSSJV4AVbKE+wADAytEMjG/ACLYffeuAoiO4QbZOwHEZGzoNwDLLeqB\n",
       "6twggrCBwR6iSAcqwBhQBpdczFAPdjUTzGb2hJVwSQcG+QCwJEyA0WEFjMmxxSV+A4hRdxcIwKwN\n",
       "YjDJEwwM/BdAjNNws/ZwI0xl4H0AYvDCJZeA/MmwgIGBC+hSpg9g8xsQIQR0BAvQy3JADvdHsJgy\n",
       "XGu3isDhK0CL/uswMO//BPbL0V0H4LHy/gpakDIs2wsJPigAAPUcN80uFmJ8AAAAAElFTkSuQmCC\n",
       "\" style=\"display:inline;vertical-align:middle;\" /></a>, <a class=\"ProveItLink\" href=\"../__pv_it/theorems/a259ec76dfb0a5be60b7c83d797520fa82c1dba60/expr.ipynb\"><img src=\"data:image/png;base64,iVBORw0KGgoAAAANSUhEUgAAADEAAAAQBAMAAABNQoq8AAAAMFBMVEX///8AAAAAAAAAAAAAAAAA\n",
       "AAAAAAAAAAAAAAAAAAAAAAAAAAAAAAAAAAAAAAAAAAAv3aB7AAAAD3RSTlMAELvv3c2ZVESJq3Yi\n",
       "MmZ3LnoBAAAACXBIWXMAAA7EAAAOxAGVKw4bAAAA2UlEQVQY02NgwASSKqF7bjIwMCo7oElwL37A\n",
       "mK8GZLAmoMlkdzIw8IFk+AtQJXgTFIHkMiDuF4AKbXJxCQBSXAIKQFIOiKdAJVo3QmgmHpjxUbuX\n",
       "gyieQCj/FO8ECIPxq4D8AZBDDkBlbnI8gDDYPzIwbwDJwFxwjGMDhMEWwMAP0n7ZBQgUwPZATWOZ\n",
       "wNAPcrcQTA8T2G0Q7+SD3M0Ck+EA+4cDKHOB0Q4cJhvgYdAFJFKBHnvABHF/ODzcVHMYS4BijCvz\n",
       "IAJSGrDAkFT+koMSYJ0q4NCBAQD6uylQEVfDpgAAAABJRU5ErkJggg==\n",
       "\" style=\"display:inline;vertical-align:middle;\" /></a>, <a class=\"ProveItLink\" href=\"../__pv_it/demonstrations/9a461f11fbe8b092e14486d50d696d80e31269c90/expr.ipynb\"><img src=\"data:image/png;base64,iVBORw0KGgoAAAANSUhEUgAAADkAAAAQBAMAAABelcpIAAAAMFBMVEX///8AAAAAAAAAAAAAAAAA\n",
       "AAAAAAAAAAAAAAAAAAAAAAAAAAAAAAAAAAAAAAAAAAAv3aB7AAAAD3RSTlMAZrurzTLvInZEmRDd\n",
       "VIkafcLnAAAACXBIWXMAAA7EAAAOxAGVKw4bAAAA+klEQVQY02NgwA726bi0x4EYQv+NjZ0CUCU5\n",
       "zAS412uBmUkMDMxfUWVXzGNgYATLsv9gYOD8hSLJukAbSFqBmIxAfYw/IMJNZ844ACnmDQpAciNI\n",
       "hPkDAwNLOlhySjdEERP7ApgxbAoM3DZgV7F7Q4WKWR/AZOM1OkwEwCyWAqhQHKcATLa/gIE3ESIL\n",
       "E6ribIAx1YD4PdjksDNAoAC2F27yZyCWB6vdBBNiArsZ7LePQMJ+AojJA5PlBPuXExRo34EqvkDC\n",
       "D27bislAYgnIKQkMDNOgXvGFh7PKcu47QD8z6382NtGFCm7W3ACLI7U/yzEibp4OOCRhAAD1iDbX\n",
       "TjE23AAAAABJRU5ErkJggg==\n",
       "\" style=\"display:inline;vertical-align:middle;\" /></a>, <a class=\"ProveItLink\" href=\"../__pv_it/demonstrations/fe95df3a50620aec3827d14034cdef9991669a250/expr.ipynb\"><img src=\"data:image/png;base64,iVBORw0KGgoAAAANSUhEUgAAADgAAAAQBAMAAACxV6F2AAAAMFBMVEX///8AAAAAAAAAAAAAAAAA\n",
       "AAAAAAAAAAAAAAAAAAAAAAAAAAAAAAAAAAAAAAAAAAAv3aB7AAAAD3RSTlMAEHa7q2Yiie9Umd0y\n",
       "zUTye3nKAAAACXBIWXMAAA7EAAAOxAGVKw4bAAAA60lEQVQY02NgwAoYi/deyikAMZRdXNkKUCVV\n",
       "WhmkPi8AMjQUGThXB6DIcekBFQcDJYX3AHnrE1AkTzELMDCwACVvAGmGFxBB5d27L4BoR2aQdQEM\n",
       "7D/BSsFybxWhOg2yIHT+BhApAyLYLkLl2ByOQxj1CnCbeGEW8xQ8hTD2I5zCC2OwLXgEYfSDSZCj\n",
       "GE7sBgIDsJ3pUJ0ggvMAiBSGm2HIDKHBPmQHM7nhkq9A/mR4wJAPclAhWIhJARFCDkDiAgPnVwaG\n",
       "5wIQsZtwrcq3EiR3AWkpE68HUCEROwF4rPTvSkCLqefWkOCDAgDYBjUdh6FrWAAAAABJRU5ErkJg\n",
       "gg==\n",
       "\" style=\"display:inline;vertical-align:middle;\" /></a>, <a class=\"ProveItLink\" href=\"../__pv_it/theorems/b66b5547fa9b0b910f79351152926c658c2718190/expr.ipynb\"><img src=\"data:image/png;base64,iVBORw0KGgoAAAANSUhEUgAAADEAAAAQBAMAAABNQoq8AAAAMFBMVEX///8AAAAAAAAAAAAAAAAA\n",
       "AAAAAAAAAAAAAAAAAAAAAAAAAAAAAAAAAAAAAAAAAAAv3aB7AAAAD3RSTlMAiXZmMiLdVJm77xBE\n",
       "zatgdeJyAAAACXBIWXMAAA7EAAAOxAGVKw4bAAAAw0lEQVQY02NgwAQbp91VdcQizsD0yoC7fwY2\n",
       "maaDDAzM2GRYGmYDyRfIQpppaReAFN+GCUByM5LEWW0IzcnaABMSUnYAkqy3odw4FgEoK6yAA6Sd\n",
       "NwDKd+QxgLISGbgUQDIwIyJ4FCAMjt8Q2isNCCaA7YGaxjUBQu+E6eHcABXZD9XLBpPhAfuHh4GB\n",
       "H2jfAVCYKMDD4ByQ6AXaM4GBEeRqhuvwcJvbyl0G8pOgMcSL++ZsgIX1rG+tKAF2cBo4dGAAAHWD\n",
       "KgtwTxl0AAAAAElFTkSuQmCC\n",
       "\" style=\"display:inline;vertical-align:middle;\" /></a> <a class=\"ProveItLink\" href=\"../__pv_it/demonstrations/4570344a099277bdca9ad230bec0a67b9b7a87870/proof.ipynb\" style=\"text-decoration: none\">&nbsp;&#x22A2;&nbsp;&nbsp;</a><a class=\"ProveItLink\" href=\"../__pv_it/demonstrations/5779a87d85ad047ddcd722ceb2f0f0f9d30e321f0/expr.ipynb\"><img src=\"data:image/png;base64,iVBORw0KGgoAAAANSUhEUgAAAtUAAAAVBAMAAAB76g/FAAAAMFBMVEX///8AAAAAAAAAAAAAAAAA\n",
       "AAAAAAAAAAAAAAAAAAAAAAAAAAAAAAAAAAAAAAAAAAAv3aB7AAAAD3RSTlMAInZUiRDNmWbv3US7\n",
       "qzJazP2FAAAACXBIWXMAAA7EAAAOxAGVKw4bAAAF5UlEQVRYw91ZX2hbZRQ/t8ntbZqkjUMcFkez\n",
       "suIGq72KDDaE1tGhiK7BlyG0Ng9WO3AsD7UdZaXBB52idgqKrtVWpoxFnEV9sL40FmQIzpY6tgrG\n",
       "RhGEPdj0r7I/jef7ctPec+5Nc5vkwS3Qf797vnPO7/ede75zbwEgALf9R7EDnfIKQDGrYStRynTH\n",
       "9vf8L4XGrLxBK4y8kqDml8yGvxIG+LLEWUp/D+PXtZAj++McaLmfcWk7w00qpm4lrvzEUXVvYlZp\n",
       "zhOu6lOuQcvJMfusdlth5DXyfCw/MbTb3kMTLE/hFkRZxj+MFkVN+FPDoF497khrV5oB5br6MYNe\n",
       "sKzyxAHmkgzcUw+uvujm4dp7VhhyBFxL9lmVWwggLzh//VBeUminxKGV7GETag2dnGykOGroTxNw\n",
       "YzbVbywmJkSbM6rYa7h6HeBJikBWi3UAavH+nohQsO0CfhsIMEu+tGyFIY26usrdZ7KqsAgheE3b\n",
       "sWAI2vkD4Dltvta/gN9eZcGr9eKooT8PmLV+yJKTCXm01dhDl9EeL2EJhAjizcrjWu+gg7hoMEjB\n",
       "o2LVOLfkS8u4s/ExWLUsymT1rqXmwKx1bl5o51kB/4LpkvvuNXEhRENNhIqjhv72OdZaCTbq1Mc/\n",
       "APM6QdyjloTmRAIBaiWr/68ta42//csRI6sunvc+h1qjnX8U/GumS9vKRH7lURrqCSiOGvrrttV6\n",
       "x8Ftliw1aKLhVaF1lHgtn2nQWZhh7LwXaOxauSPPsoTcdW/l1frbKEeMrJ7iWgpes7t+YyyUyzuD\n",
       "FJH8oTJlWhqRO+qepqGO1f0MhVI7uDsp/HXZae19G6ZCXOuvYL6Z+FCWUWt6C3V0qgs0TNXNuoYu\n",
       "pllr0KaMlbNwMp/WfySSnK+R1StS95j8SJFEzO+hdoyyGA/4ViiSyW3elJFXr1oWU0aYFtZqqCNQ\n",
       "ILUaXYsLf2fttH4mCn2Wuo5A7bRV62biFdv3O0ww1H4/q8YvAjYJVTZbltr0kCWOGFnt53UteYFv\n",
       "lLBQ3weNIobd5+ZTFZRbIsRpEsq1Ap5ggdQ+EUvR39CG1n2x2AexmAg7IK4TBD1f7J2LZ4rn/BlZ\n",
       "PCpqPRE0I9ADsEwA8GHK7jWyDkakwxAFB0JAAUNrM4JLQ8zGyGqeaz2U0W2BsNBSYksJL2mnxeVN\n",
       "mankvb39N0XVpkhwLQzVzYVR0yQP9DdkV9fDoN7gdf00jj2jlrOxSWc76F2im1+NwSoW2ebLP1g7\n",
       "GM5/Nv4NMMWOg2xW4zZa+8KgrREWOBB3sK4i+b+ZubPk+Kai6+uildC6xj2a0Auj5pE7if7seoi6\n",
       "CBUprjUmUknDw4848tCZb8nYxI2ExOHpv0HXyfHTTYVUF/NrnQ5ZtM5mdYD3a+TlwfkiRVh0BGEQ\n",
       "rD3E1Qx3mVoIPgQJkBYWjtcDocKodcgf6G/STusl8IcfpDmJubw8RR2/JpuGGVkTrZ4k1IjB58Ps\n",
       "sBY/DzEh8ez35tH6w0wPMc/z2aze4HU9KSlnSmpDax2uuAKEl+D/J0A9ecgRj/0Vcap1Ept9YdSq\n",
       "Mckx4U8OS60ButuTcCASoVrfKxrUAjvOdPUjiszCRZbQURTkPfZYIGaqr/mjAQ4hh9kQuMBMTlnm\n",
       "6/WsurnWyEuJwB46TfmCrnMa5SXszvX2rr/sUMRdMoV6aHTo8kd9kQKp4WngTgp/1/CPxMixKMmg\n",
       "fdfvM0mCtKU7wTW1SqcOtbuBNd32x9i5/Gs6kXhR593hyKWrY7xluB9/mdas/5fVWWri7c2+ezKQ\n",
       "jaw+41oLXtv7X6I1pM4c3vEA1RrtKtPpdDj7emRqNQSPpJ9DlIZSL5+AQqm1nKqX/iqTOZ7IcyI2\n",
       "j3qbPPxtHXTg3YIolpdwTnlVJnO8lKopMbUa/tZm03dP1rdDuRFv1NE6Z0vzI5rFwikv61sr43Oi\n",
       "xNSEv+/gDvjcZ4Wc8sphp8RLm6H013YnaG0jmFNeOex8Jf4nmPSnBG9/qctshHHKK4fdzhKniP7+\n",
       "A+KsEIRqsTugAAAAAElFTkSuQmCC\n",
       "\" style=\"display:inline;vertical-align:middle;\" /></a></span>"
      ],
      "text/plain": [
       "{a in Complex, A in Complex, b in Complex, B in Complex, C in Complex, c in Complex} |- (1 + a + A + 0 + b + B + C + c + 1 + 3 + A) = (5 + a + (2 * A) + b + B + C + c)"
      ]
     },
     "metadata": {},
     "output_type": "display_data"
    }
   ],
   "source": [
    "Add(one, a, A, zero, b, B, C, c, one, three, A).simplification(\n",
    "    assumptions=[InSet(a, Complex), InSet(A, Complex), InSet(b, Complex), InSet(B, Complex), \n",
    "                 InSet(c, Complex), InSet(C, Complex)])"
   ]
  },
  {
   "cell_type": "code",
   "execution_count": 67,
   "metadata": {},
   "outputs": [
    {
     "data": {
      "text/html": [
       "<span style=\"font-size:20px;\"><a class=\"ProveItLink\" href=\"../__pv_it/theorems/e9f87a0977d5044ea8daf1040d2f219396bb3d5b0/expr.ipynb\"><img src=\"data:image/png;base64,iVBORw0KGgoAAAANSUhEUgAAADMAAAAQBAMAAABJt1qBAAAAMFBMVEX///8AAAAAAAAAAAAAAAAA\n",
       "AAAAAAAAAAAAAAAAAAAAAAAAAAAAAAAAAAAAAAAAAAAv3aB7AAAAD3RSTlMAIquJdkTvuxBmmd1U\n",
       "zTKBpmoTAAAACXBIWXMAAA7EAAAOxAGVKw4bAAAA0ElEQVQY02NgwAKaq+86PsYmwcCiNoFjfRVW\n",
       "qSXBDAycWKX4FlQASS0UMffduy8AKaaGAiDZiSwT6wGh2RkXQEUYlR0dwPQNqIAQnwGUFSbA/gNE\n",
       "8wpABR6zToAwODIZuDaApWAGS7E6QBhcHxi4wQY82w0EBWC7oAayFTD0B4AY7TBd7GAXAkG/A8N8\n",
       "MIMbJsUK9hcrUOoAgy4PyAUsDvDQCAISa4HaHXh2cYFF7sDDsHYhx2mg3zhU7IT8wCJNpQ2wkC/7\n",
       "vRA18IKrwQEFAwCqvi28/xxvKQAAAABJRU5ErkJggg==\n",
       "\" style=\"display:inline;vertical-align:middle;\" /></a>, <a class=\"ProveItLink\" href=\"../__pv_it/theorems/b66b5547fa9b0b910f79351152926c658c2718190/expr.ipynb\"><img src=\"data:image/png;base64,iVBORw0KGgoAAAANSUhEUgAAADEAAAAQBAMAAABNQoq8AAAAMFBMVEX///8AAAAAAAAAAAAAAAAA\n",
       "AAAAAAAAAAAAAAAAAAAAAAAAAAAAAAAAAAAAAAAAAAAv3aB7AAAAD3RSTlMAiXZmMiLdVJm77xBE\n",
       "zatgdeJyAAAACXBIWXMAAA7EAAAOxAGVKw4bAAAAw0lEQVQY02NgwAQbp91VdcQizsD0yoC7fwY2\n",
       "maaDDAzM2GRYGmYDyRfIQpppaReAFN+GCUByM5LEWW0IzcnaABMSUnYAkqy3odw4FgEoK6yAA6Sd\n",
       "NwDKd+QxgLISGbgUQDIwIyJ4FCAMjt8Q2isNCCaA7YGaxjUBQu+E6eHcABXZD9XLBpPhAfuHh4GB\n",
       "H2jfAVCYKMDD4ByQ6AXaM4GBEeRqhuvwcJvbyl0G8pOgMcSL++ZsgIX1rG+tKAF2cBo4dGAAAHWD\n",
       "KgtwTxl0AAAAAElFTkSuQmCC\n",
       "\" style=\"display:inline;vertical-align:middle;\" /></a>, <a class=\"ProveItLink\" href=\"../__pv_it/theorems/a259ec76dfb0a5be60b7c83d797520fa82c1dba60/expr.ipynb\"><img src=\"data:image/png;base64,iVBORw0KGgoAAAANSUhEUgAAADEAAAAQBAMAAABNQoq8AAAAMFBMVEX///8AAAAAAAAAAAAAAAAA\n",
       "AAAAAAAAAAAAAAAAAAAAAAAAAAAAAAAAAAAAAAAAAAAv3aB7AAAAD3RSTlMAELvv3c2ZVESJq3Yi\n",
       "MmZ3LnoBAAAACXBIWXMAAA7EAAAOxAGVKw4bAAAA2UlEQVQY02NgwASSKqF7bjIwMCo7oElwL37A\n",
       "mK8GZLAmoMlkdzIw8IFk+AtQJXgTFIHkMiDuF4AKbXJxCQBSXAIKQFIOiKdAJVo3QmgmHpjxUbuX\n",
       "gyieQCj/FO8ECIPxq4D8AZBDDkBlbnI8gDDYPzIwbwDJwFxwjGMDhMEWwMAP0n7ZBQgUwPZATWOZ\n",
       "wNAPcrcQTA8T2G0Q7+SD3M0Ck+EA+4cDKHOB0Q4cJhvgYdAFJFKBHnvABHF/ODzcVHMYS4BijCvz\n",
       "IAJSGrDAkFT+koMSYJ0q4NCBAQD6uylQEVfDpgAAAABJRU5ErkJggg==\n",
       "\" style=\"display:inline;vertical-align:middle;\" /></a> <a class=\"ProveItLink\" href=\"../__pv_it/demonstrations/0e73b0ff28bc862c8e87e8a6fd0b4104ab689b9b0/proof.ipynb\" style=\"text-decoration: none\">&nbsp;&#x22A2;&nbsp;&nbsp;</a><a class=\"ProveItLink\" href=\"../__pv_it/demonstrations/b63469cba8c7b598cc4782b4ae8e5c45b7a6deae0/expr.ipynb\"><img src=\"data:image/png;base64,iVBORw0KGgoAAAANSUhEUgAAApEAAAAVBAMAAADsu6gfAAAAMFBMVEX///8AAAAAAAAAAAAAAAAA\n",
       "AAAAAAAAAAAAAAAAAAAAAAAAAAAAAAAAAAAAAAAAAAAv3aB7AAAAD3RSTlMAInZUiRDNmWbv3US7\n",
       "qzJazP2FAAAACXBIWXMAAA7EAAAOxAGVKw4bAAAFoElEQVRYw9VZXWgcVRQ+m93J/mXTtS9CaGFa\n",
       "lfaldiyh0LxkKYGKmHSfFCFl96VY0OI+hG4NlSw+tFGqiYpif7QrEYIJ2sWnxpds+yIVbWssKkJp\n",
       "lD7lwaRNE0Wh67lz587MuffOzgSfcmGy7NnvfOc7Z869c+cGAPKwGUc+yKj5IRaFMPZ/THbQDmtT\n",
       "VvJrjY2loksna0YgfCKSXwDKVtOr5V0qSobHT9wIkWJcr4frHdiV37iT3AQDpxrQUVN/6OWXKnW3\n",
       "jEwMDEmWeIHztvdjqOqri+734fMcxdQYZV1RfnlNqmSsCYcbIRl2VkKL0GkZn23YSR4vQnwV4Kiq\n",
       "umxfGqmdcjavwG+S8wuCt50fQ22DxL+e4WUHhWqS5N5mxbe9guMK/8jlIT1JLN4Qhi2WzKLwvg3w\n",
       "PLUEO6ksTqC9lrEOcEapJEsFL59UMVIVytBpwvdSkJOCV+fnR/0IcM5DrDooVJOm3WvKldzHP9Jr\n",
       "kLtPLN4QhvmizKLw/gDQXySWYCeVxQk01wDMOC33i51Kmkh1x4eUob+oBJkUvDo/P+pSEe66K1R2\n",
       "zUGhmv3RKpmrQ+5RSCWfg9BK/gWwbBFLsFNgJfGnv7GvlJbdzy+fVHccowzXlSDxsuDV+flRuCzc\n",
       "dRfKRN1BoZoRtmzc3mGGVBJHZkWyHNy9SAzHd/5EWRReg1WyRjCKEyR2vqs3eJG/QY7ELbmSI87l\n",
       "ScWx/eBW/DtIs/no3q4GjZosCF7wRx3UoeCyt5Au7LFsFKphVZ/Ld62FV3LZpJYeK9n0G4z1YilP\n",
       "WBTe2EOXRtRWcYpNwSm9wY38xx28hSm7i5Iz9rglGugYkYrT7z24iamcptms1+ADmrDd4TYv+KOe\n",
       "1qCg+4GLKh017tsoVDOF2XwMyXp4Jb+ULJ9D2vQb4mvCIKqk8NqVLPgtihNkCvC+3uCb3bjQxyfl\n",
       "npxyLk8qwEs1GMWPA0S70QJ4nS7XGUvwgj/qAdCgMt5swAWXo1DNBbyvK8zPvr9fnHfuL6/k6MzM\n",
       "uZkZros3oGdJ8nbzGcqwpeBnUXkNrOS8STCyE4wVATQGooUt+90rciUvOJcjtcSadozdcbx9hMH4\n",
       "B2CiQYKkG4IX+AOcR10GDeoUn0zs7wmAhzYK1WDodBNKjdCefEda99NNyYBVmydPEw0vrpP9BKM4\n",
       "wUX5YXBRfuL8CXDTguxkYCW51EzFdjbY7m9Omt1YSbpcsxpxXoBpL+ocKChI8Zac5vMyu2qjUA1O\n",
       "h5IJE2HPbra7f4xYSqaUIO4Mx8iU0fDiLm6CYBQn44FUSc8gArWKLON4XV4nxez2pDLnFOvdPsrw\n",
       "He9Jad5yXvBH7dPM7l6I5b3tJJuaiEI11zBjC36O50MqeQ/gKVo4vKkNYljEhZFUUuV9y54Q/krK\n",
       "ToAbkazeIAJ9Ys/CVFPuyWvO5UkFYxVy5WcAzkr7SVwnadQuU/CCP+pZFdVdgA4X9YgtxAyFagbZ\n",
       "7/HppNSTh/M0dmy6Wq0TCy5GCbILytW6KoRFw5uxjE+JRXFiq9CQ3iACjdv7PmdH4huD/PJJZZXt\n",
       "q1TE5shl6CoY0rOb7anG/ftJHnVERfVUq6Mu6lf4lm+9UM0S3riFoe1PU5c7l47X6CLYarXKtEsH\n",
       "xmmTGrdPSvNS5TVG9ixSjOwEiWffLOoNIlC2yk4aMsoxwBK/fFIBjjz5+wJGnJVm2KE3qAzorgte\n",
       "8EedVVGXWy3vTejIIVamWVtNZjHie0WwZR+Evp1EsGzkHcfezirCWCo0HXdzWA+V+lU7v3BUj+/l\n",
       "vv2pQTvLFQg9e4hgiX6C4R4mgHrekNIeLbnHNMFSz7TzC0cxNVc35UEvOztTxtWgdLaF83Xlo/gF\n",
       "oWw1w5uzkrqchoPSidAtRjOKXxDKVhMzN2Uld+j61NSn0xHlX1VbI/kFoFDNf6TJ3DCE0DjYAAAA\n",
       "AElFTkSuQmCC\n",
       "\" style=\"display:inline;vertical-align:middle;\" /></a></span>"
      ],
      "text/plain": [
       "{a in Complex, c in Complex, b in Complex} |- (a + 1 + 2 + c + b + a + 0 + b + c + c + 3) = ((2 * a) + 6 + (3 * c) + (2 * b))"
      ]
     },
     "metadata": {},
     "output_type": "display_data"
    }
   ],
   "source": [
    "Add(a, one, two , c, b, a, zero, b, c, c, three).simplification(\n",
    "    assumptions=[InSet(a, Complex), InSet(b, Complex), InSet(c, Complex)])"
   ]
  },
  {
   "cell_type": "code",
   "execution_count": 68,
   "metadata": {},
   "outputs": [
    {
     "data": {
      "text/html": [
       "<span style=\"font-size:20px;\"><a class=\"ProveItLink\" href=\"../__pv_it/theorems/e9f87a0977d5044ea8daf1040d2f219396bb3d5b0/expr.ipynb\"><img src=\"data:image/png;base64,iVBORw0KGgoAAAANSUhEUgAAADMAAAAQBAMAAABJt1qBAAAAMFBMVEX///8AAAAAAAAAAAAAAAAA\n",
       "AAAAAAAAAAAAAAAAAAAAAAAAAAAAAAAAAAAAAAAAAAAv3aB7AAAAD3RSTlMAIquJdkTvuxBmmd1U\n",
       "zTKBpmoTAAAACXBIWXMAAA7EAAAOxAGVKw4bAAAA0ElEQVQY02NgwAKaq+86PsYmwcCiNoFjfRVW\n",
       "qSXBDAycWKX4FlQASS0UMffduy8AKaaGAiDZiSwT6wGh2RkXQEUYlR0dwPQNqIAQnwGUFSbA/gNE\n",
       "8wpABR6zToAwODIZuDaApWAGS7E6QBhcHxi4wQY82w0EBWC7oAayFTD0B4AY7TBd7GAXAkG/A8N8\n",
       "MIMbJsUK9hcrUOoAgy4PyAUsDvDQCAISa4HaHXh2cYFF7sDDsHYhx2mg3zhU7IT8wCJNpQ2wkC/7\n",
       "vRA18IKrwQEFAwCqvi28/xxvKQAAAABJRU5ErkJggg==\n",
       "\" style=\"display:inline;vertical-align:middle;\" /></a>, <a class=\"ProveItLink\" href=\"../__pv_it/theorems/b66b5547fa9b0b910f79351152926c658c2718190/expr.ipynb\"><img src=\"data:image/png;base64,iVBORw0KGgoAAAANSUhEUgAAADEAAAAQBAMAAABNQoq8AAAAMFBMVEX///8AAAAAAAAAAAAAAAAA\n",
       "AAAAAAAAAAAAAAAAAAAAAAAAAAAAAAAAAAAAAAAAAAAv3aB7AAAAD3RSTlMAiXZmMiLdVJm77xBE\n",
       "zatgdeJyAAAACXBIWXMAAA7EAAAOxAGVKw4bAAAAw0lEQVQY02NgwAQbp91VdcQizsD0yoC7fwY2\n",
       "maaDDAzM2GRYGmYDyRfIQpppaReAFN+GCUByM5LEWW0IzcnaABMSUnYAkqy3odw4FgEoK6yAA6Sd\n",
       "NwDKd+QxgLISGbgUQDIwIyJ4FCAMjt8Q2isNCCaA7YGaxjUBQu+E6eHcABXZD9XLBpPhAfuHh4GB\n",
       "H2jfAVCYKMDD4ByQ6AXaM4GBEeRqhuvwcJvbyl0G8pOgMcSL++ZsgIX1rG+tKAF2cBo4dGAAAHWD\n",
       "KgtwTxl0AAAAAElFTkSuQmCC\n",
       "\" style=\"display:inline;vertical-align:middle;\" /></a>, <a class=\"ProveItLink\" href=\"../__pv_it/theorems/a259ec76dfb0a5be60b7c83d797520fa82c1dba60/expr.ipynb\"><img src=\"data:image/png;base64,iVBORw0KGgoAAAANSUhEUgAAADEAAAAQBAMAAABNQoq8AAAAMFBMVEX///8AAAAAAAAAAAAAAAAA\n",
       "AAAAAAAAAAAAAAAAAAAAAAAAAAAAAAAAAAAAAAAAAAAv3aB7AAAAD3RSTlMAELvv3c2ZVESJq3Yi\n",
       "MmZ3LnoBAAAACXBIWXMAAA7EAAAOxAGVKw4bAAAA2UlEQVQY02NgwASSKqF7bjIwMCo7oElwL37A\n",
       "mK8GZLAmoMlkdzIw8IFk+AtQJXgTFIHkMiDuF4AKbXJxCQBSXAIKQFIOiKdAJVo3QmgmHpjxUbuX\n",
       "gyieQCj/FO8ECIPxq4D8AZBDDkBlbnI8gDDYPzIwbwDJwFxwjGMDhMEWwMAP0n7ZBQgUwPZATWOZ\n",
       "wNAPcrcQTA8T2G0Q7+SD3M0Ck+EA+4cDKHOB0Q4cJhvgYdAFJFKBHnvABHF/ODzcVHMYS4BijCvz\n",
       "IAJSGrDAkFT+koMSYJ0q4NCBAQD6uylQEVfDpgAAAABJRU5ErkJggg==\n",
       "\" style=\"display:inline;vertical-align:middle;\" /></a> <a class=\"ProveItLink\" href=\"../__pv_it/demonstrations/75699330c1f27d42534a9fd78c3c05b9507e776b0/proof.ipynb\" style=\"text-decoration: none\">&nbsp;&#x22A2;&nbsp;&nbsp;</a><a class=\"ProveItLink\" href=\"../__pv_it/demonstrations/6536a6ce8aa1340a88a9e1885e68b60533e48e160/expr.ipynb\"><img src=\"data:image/png;base64,iVBORw0KGgoAAAANSUhEUgAAAm8AAAAVBAMAAADiPhQ1AAAAMFBMVEX///8AAAAAAAAAAAAAAAAA\n",
       "AAAAAAAAAAAAAAAAAAAAAAAAAAAAAAAAAAAAAAAAAAAv3aB7AAAAD3RSTlMAInZUiRDNmWbv3US7\n",
       "qzJazP2FAAAACXBIWXMAAA7EAAAOxAGVKw4bAAAFBklEQVRYw9WYX2hbZRjGnzQ5zf8/FkEpHWbO\n",
       "QRHmogyhvWmoQmEwlyulYyMBKe7CQZSylDpZrlYvJnbCwG2KgQ6qHduKN64XsrgbkYnrahEVZiMI\n",
       "ijetrS3KRuP3J2nzvufsO6famx76hfbJ70uf83zvec93AiCFHXD4PGqeSQcp5ZlSZFtmJwQXTdu1\n",
       "PY7kHm+zHbDP4JVS5AHgsZPfsncfHbhtm/HbdgQQ6H/DhbC+rjDl6EXx0m0D/Vmg9HbOrvpKr9eY\n",
       "2g0PWFvZhVLWJCWHVYCvisPT1HwRfbZCvLodwb2KI26tob3IldekyhPCy8CRdOKcXe1C4D7/zJwX\n",
       "bAgulLI2pEewjHgK4XH9zo1G9ivIF4gitGZwN2yn6kGJ6tUMVRComhEkM0zAipxpi3ME+BH4hrFC\n",
       "vQtcYGxzthkbgwulrI3pERY/q4j/qd95rjHzEpIFogC/nwBTNg4Pil93mdgs/KtmBDdzTIiqGec5\n",
       "L9Z6DTicI6xUP85hgZf1eXjAwjkXSlmTlBjPA/EK4uv8bPrKTMluR3DJIhIrLsEd5EJANb3jHC/A\n",
       "egDsnyasUPETsMCb3HF4wNrLLtTBJiXGsFIiS+xsop+wCNpSPLhd/R1M8c3vTrPP6e+utXrJi+D+\n",
       "NiM48eR31H/73D5xiRxiUQSzuuLKhJWqOK5vctrmIbhg0kVg1oVS1iQlhl6KRXbCiX0/s1AeBwsu\n",
       "eg53cpSZScXYddiZCVZbvTyRRWLZjFhruXyK+M8PWaKTnJG/jk7J42pz4UWPu5OmIascm/9j0+YZ\n",
       "mDHlIlQwU9qapMSYIHfMlks1Q5UsD26wjFGqWB8gWKGzLiOc5sH9ZUZED6QC+nJ4H+hhFRcRBgen\n",
       "EwsZwkbUn5HZDaxhswdmTLnwj5spbU1SYlxSNVltLOeFxnKqO0arEkrp4DaV0/K/ESW4hEiWKroA\n",
       "g1NTn16cmhIG8llEl81IsIBktlXASUCEvciCC4vmZr35wv4aYcOq5Z3S9YFNm4swYtpFYsmFUtYk\n",
       "JYYK7l3W1BM1xGgPF32CVdyHsO5TJVxFfportpuDf8WMiOxv0iq6jKiYM+MQHGx3VaWGdI1Mttic\n",
       "gRHTLqLjZkpbk5QYE3qD/Ag5m+QqD+6Le/f+mW9VrGWElmhw+TTesylsOyIayaoZEXul0zSMFVUQ\n",
       "vazH6euouY8jV9cB+Jo7iKbNXjOmXfgrZkpbk5QYt4TwK7CXlsGsvlRJ1/uIhGKtIF54lmaQwff+\n",
       "FFkA0V3JdiE0LuvdiCRrolcS/+uyUeEsq7iYeLcnZ61TVqqJLNqae8GmzbNmTLsIVV0oZU1SYoj7\n",
       "tG+yVKJNPVS27+PwgFbTLfQWi0SJpf2TQaKI3hmge40JDNbMSLwcK1L/P+Ar8TrMn3rFJfR0Lsa2\n",
       "XlLtLJVGN7CGzWEzpl00th8PpbQ1SYnxh6jIer3OnhM+L93m99lT9TmiHHvqlzmagTX30q5n6KwX\n",
       "39lLvbzSz/c5HLHmR9gG+NiATOcKCy4h1jow8BZjpXq9Xl/bwBo2r7hgykVk2kxpa5ISI1Lb4jPA\n",
       "/3py2BJCBB//zgTXHNlrzl/SVbxgnfBKdfKH5//0AL+Fh/wtIUQI2j5gzJEdcwyuOduMjcArJceX\n",
       "2BFHl02JOX4/5ax2ecF8Va+UIo/ujODs62tVHb8HrXqa7YTZY3oYpUhfeifk1uaw9h2OZIe32Q7Y\n",
       "bnilxPgXapnOipkpuqMAAAAASUVORK5CYII=\n",
       "\" style=\"display:inline;vertical-align:middle;\" /></a></span>"
      ],
      "text/plain": [
       "{a in Complex, c in Complex, b in Complex} |- (2 + 3 + 4 + a + a + c + 0 + c + b + b) = (9 + (2 * a) + (2 * c) + (2 * b))"
      ]
     },
     "metadata": {},
     "output_type": "display_data"
    }
   ],
   "source": [
    "Add(two, three, four, a, a, c, zero, c, b, b).simplification(\n",
    "    assumptions=[InSet(a, Complex), InSet(b, Complex), InSet(c, Complex)])"
   ]
  },
  {
   "cell_type": "code",
   "execution_count": 69,
   "metadata": {},
   "outputs": [
    {
     "data": {
      "text/html": [
       "<span style=\"font-size:20px;\"> <a class=\"ProveItLink\" href=\"../__pv_it/demonstrations/6102103b3d66b7e97c5f22f88bdeae0d372d36ae0/proof.ipynb\" style=\"text-decoration: none\">&nbsp;&#x22A2;&nbsp;&nbsp;</a><a class=\"ProveItLink\" href=\"../__pv_it/demonstrations/c53c48155d3fa0170e1cdbf4bc999ed2c4058d3b0/expr.ipynb\"><img src=\"data:image/png;base64,iVBORw0KGgoAAAANSUhEUgAAAJAAAAAVBAMAAABbFXrgAAAAMFBMVEX///8AAAAAAAAAAAAAAAAA\n",
       "AAAAAAAAAAAAAAAAAAAAAAAAAAAAAAAAAAAAAAAAAAAv3aB7AAAAD3RSTlMAInZUiRDNmWbv3US7\n",
       "qzJazP2FAAAACXBIWXMAAA7EAAAOxAGVKw4bAAABWElEQVQ4y2NgYBBgwA8YsQkKYCphMiBgELcC\n",
       "phiaJrASEySBVwHoOkAiGpgGIWkSLzsHVsKaABdivZ6PZhBEhA3DeCRNjAcY/DeAlLA3ICnQx9AC\n",
       "EuEoQBdF0sQrwMA5AaSEk4GgQQxT0UWRNHF+ZeD9CFJiRoRBGeiiSJp4FzDw/gMpKSHCIF90URRN\n",
       "DFwfQEoyiDCoDcysWgUCaxkwnPheAaRkMREGWaKLomhiWAtWMhsYmVlgux7ADELwoSLv0Q1C0cR+\n",
       "AKxkNhEu2onFIAToZQArIcZrVuhhhKyJ2YFBEKTkEBEG9aCLImt6wsCgClKCErX+GCUBWKQEXRRJ\n",
       "E+Py8vIFICWvkOTvzs9tQNUBEVmNkZWREtH///8TQEq4HjAQAowL0EUwNAGVYOZIBjxZFAowNIGU\n",
       "HCRokAym0EEsSmIIGoTFqhgsShgVCJjDhKVQR9MEVAIApE5jR7dlLw4AAAAASUVORK5CYII=\n",
       "\" style=\"display:inline;vertical-align:middle;\" /></a></span>"
      ],
      "text/plain": [
       "|- (-1 - 1) = (-2)"
      ]
     },
     "metadata": {},
     "output_type": "display_data"
    }
   ],
   "source": [
    "Add(Neg(one), Neg(one)).simplification()"
   ]
  },
  {
   "cell_type": "code",
   "execution_count": 70,
   "metadata": {},
   "outputs": [
    {
     "data": {
      "text/html": [
       "<span style=\"font-size:20px;\"> <a class=\"ProveItLink\" href=\"../__pv_it/demonstrations/fc4a2b2f989d390803f303f3baef1f65a0f557b90/proof.ipynb\" style=\"text-decoration: none\">&nbsp;&#x22A2;&nbsp;&nbsp;</a><a class=\"ProveItLink\" href=\"../__pv_it/demonstrations/1850dedbc919fc4a9b29e581733d5645f88543c50/expr.ipynb\"><img src=\"data:image/png;base64,iVBORw0KGgoAAAANSUhEUgAAAGEAAAAVBAMAAACkm51HAAAAMFBMVEX///8AAAAAAAAAAAAAAAAA\n",
       "AAAAAAAAAAAAAAAAAAAAAAAAAAAAAAAAAAAAAAAAAAAv3aB7AAAAD3RSTlMAInZUiRDNmWbv3US7\n",
       "qzJazP2FAAAACXBIWXMAAA7EAAAOxAGVKw4bAAABRklEQVQ4y3WToU/DUBDGv3Yda+noJlALAv4A\n",
       "kokFuzkUSRUKwgwJAjFBKCGIOiyWTEBCSAgCCAa7YTHDAYJVo4BlM4jx3mtCwr27J5rL3fvdfXfv\n",
       "CqAK/kh+uHUhcC8RDWB+9Yk4o0uVKqVXnWQ3A4ptFDto/i+0uT9W321KLMD7AUop3BG22kSqJo4p\n",
       "8QycAgEQdlHhiCAmxFmMYRUrxm6mDDFDG3kDhhn2tBlegSG8gT2nW2BHT2b5nSN8I7V0bU5OR9/A\n",
       "Ra6qzhCFE6vErAK7xgr0jXWT7OaPiD4t4giGiDKUR0yN0Krha21KVWXME4Vz2kcDThWPStIgV2V1\n",
       "3qO704IbY01FUus9vC+dvUWIWpIcAh/KekjIJs69Tl7UYO7oY0ynE+XOpKVGjXf7HZE4EPx9CXB6\n",
       "QmBDIsrSb+ssCoEl3v0LgmpWRXHFoCoAAAAASUVORK5CYII=\n",
       "\" style=\"display:inline;vertical-align:middle;\" /></a></span>"
      ],
      "text/plain": [
       "|- (3 - 1) = 2"
      ]
     },
     "metadata": {},
     "output_type": "display_data"
    }
   ],
   "source": [
    "subtract(three, one).evaluation()"
   ]
  },
  {
   "cell_type": "code",
   "execution_count": 71,
   "metadata": {},
   "outputs": [
    {
     "data": {
      "text/html": [
       "<span style=\"font-size:20px;\"> <a class=\"ProveItLink\" href=\"../__pv_it/demonstrations/c1cf93fd5859f9aa94e2630ccb5be5963619469d0/proof.ipynb\" style=\"text-decoration: none\">&nbsp;&#x22A2;&nbsp;&nbsp;</a><a class=\"ProveItLink\" href=\"../__pv_it/demonstrations/1879dcf065c3e544bd63a959b1628c8f898a50070/expr.ipynb\"><img src=\"data:image/png;base64,iVBORw0KGgoAAAANSUhEUgAAAJkAAAApBAMAAADUuJb8AAAAMFBMVEX///8AAAAAAAAAAAAAAAAA\n",
       "AAAAAAAAAAAAAAAAAAAAAAAAAAAAAAAAAAAAAAAAAAAv3aB7AAAAD3RSTlMAInZUiRDNmWbv3US7\n",
       "qzJazP2FAAAACXBIWXMAAA7EAAAOxAGVKw4bAAACQklEQVRIx+2Wv2sUQRTHv3t3e9m7W/cOEQQR\n",
       "PLAwTWAJNqa5JQg2Bs5G0SaCjYjFCcGVIGSxUBTBNCkSxZyooCsaO2NlbCyMwloJFmb/g4CXRCFF\n",
       "fHt7kHznrNwRLPKage/OfN6PefNYAAb+3vrPHs5Aq9QVIe8Bx4/UFJ/+5ZiVfSeWlYOF0SvAoCKe\n",
       "Boqu+YjFgyhskmC20HB5zwWcq6HYZPEacAc42Ys8SNcvwCwpuQ7Gz6fKYrpYbRSWYLWYNg18Bhqp\n",
       "j3yvDvNNrNR2KpX7qPZow+liR8ivAzNcNtnzE1h1ifYNWIlJEYcB0aotOB3gItEGPJgJLVDOYgGs\n",
       "VJ6BaONC+wWMEa0YwFgTWl2hOT+Y5gx9Z9ohr7vnZjeksGsRym5K8xRaOYKaqdtHk4PHKLbSa5gi\n",
       "vqt3PTyfSzwkdr3nc1spSc0xGYazYfgyydRDRWJbVWnJLTT4FmBFoNicGHZHvYW8KG+JJpniE3CP\n",
       "OwRHYVCHVNdVmi3NJtGOUN1s2X0buKrU3EOO+KUozXSbZk1jQLrrLr+2KInPfMi0A74/SYoVqP2G\n",
       "xzgrLTlBNKctj3BiKGbawtbWBitv/GXuEJwZTXrmBb+sV/Qy1AnzB2WYhk2bP96ieRX0TbA+ZZGe\n",
       "kvLZrmWYljK62MylLLT3qrA3AyyXKbFd+zfmAKf00Uobl57qo5XnnzT10fZordt/TbsxFuuj2U1j\n",
       "U2t4H7XSpvSNlQ9C01e4Ofm30pem/M080Efbj9yMPprhf9X3Tn8Dx2OON3xK5bEAAAAASUVORK5C\n",
       "YII=\n",
       "\" style=\"display:inline;vertical-align:middle;\" /></a></span>"
      ],
      "text/plain": [
       "|- (0 + 2 + 3 + 0) =  \\\\ 5"
      ]
     },
     "metadata": {},
     "output_type": "display_data"
    }
   ],
   "source": [
    "Add(zero, two, three, zero).evaluation()"
   ]
  },
  {
   "cell_type": "code",
   "execution_count": 72,
   "metadata": {},
   "outputs": [
    {
     "data": {
      "text/html": [
       "<span style=\"font-size:20px;\"> <a class=\"ProveItLink\" href=\"../__pv_it/demonstrations/236d823ad51dd48546edefeea15a920165cb4ae90/proof.ipynb\" style=\"text-decoration: none\">&nbsp;&#x22A2;&nbsp;&nbsp;</a><a class=\"ProveItLink\" href=\"../__pv_it/demonstrations/fbd38cd81f1f2bb770f1fb46154db49d14a3b8cb0/expr.ipynb\"><img src=\"data:image/png;base64,iVBORw0KGgoAAAANSUhEUgAAAJkAAAApBAMAAADUuJb8AAAAMFBMVEX///8AAAAAAAAAAAAAAAAA\n",
       "AAAAAAAAAAAAAAAAAAAAAAAAAAAAAAAAAAAAAAAAAAAv3aB7AAAAD3RSTlMAInZUiRDNmWbv3US7\n",
       "qzJazP2FAAAACXBIWXMAAA7EAAAOxAGVKw4bAAAB8ElEQVRIx+2WPywDcRTHv21d9e9pRGIxNDGw\n",
       "NC7dWNpBYiFqsYmOIhEGQSwuBkIkLAZ/opWQcEJsmLAY/ElsGNDZIkJrsPj12uL9enqJ+0kMXnJ3\n",
       "ue/d+/zee797LwfAhp9bsW+tBZo3yAmOKCCv86811wU45SHGCVUtZ0A9J3YCXUNpTnQq0ioRpKt+\n",
       "jiYNIKLAyakj7LAXaF41d50GWqmChoLffu5if0Z3HK4BSpv7SnPk63ABRGJE+aSF88ssoSIOzNOy\n",
       "xY1or8CjUprGLMLi7iG08qgBTcrSVDOad4Od2mi9VQOa7YXRgiY0OXTHzhN6SJpul/Ao39Gi5pky\n",
       "30YSm3v3g8ZW2FzMrgCJ0Q6DX5UCbVTTFjRtO+/L3B6/o9FdiJjsgpyC7xk4IDTDTHEOzJp8IRVp\n",
       "ndZE6uYLGtGmgCGUprkv9UxnSGxl2aKUPXE0jyKtcLT2AKW5VP17GyQ0OQn4bzLX1FcaDKWocpvo\n",
       "U+me7g2zrscW7awd0hn8hDFQwmTAJenDSTKv1KIJVqTsk1biHvsCFqYlarh76cgK7ZgXKi3A7JYS\n",
       "+7ffMRnoEEdzZ3rXxdE8ibWYOJpfaN3+NG28LSWO5ovZ3oSGdyqUNiZurJwwmrjCLQL34tJk/y7L\n",
       "4mjVsM+Lo9mGr8T16TtZBIHo+m8GxwAAAABJRU5ErkJggg==\n",
       "\" style=\"display:inline;vertical-align:middle;\" /></a></span>"
      ],
      "text/plain": [
       "|- (1 + 0 + 1 + 3) =  \\\\ 5"
      ]
     },
     "metadata": {},
     "output_type": "display_data"
    }
   ],
   "source": [
    "Add(one, zero, one, three).evaluation()"
   ]
  },
  {
   "cell_type": "code",
   "execution_count": 73,
   "metadata": {},
   "outputs": [
    {
     "data": {
      "text/html": [
       "<span style=\"font-size:20px;\"><a class=\"ProveItLink\" href=\"../../ordering/__pv_it/theorems/4aa8d696b1f407d6126de9f51a052e8d90e0848c0/expr.ipynb\"><img src=\"data:image/png;base64,iVBORw0KGgoAAAANSUhEUgAAADMAAAAQBAMAAABJt1qBAAAAMFBMVEX///8AAAAAAAAAAAAAAAAA\n",
       "AAAAAAAAAAAAAAAAAAAAAAAAAAAAAAAAAAAAAAAAAAAv3aB7AAAAD3RSTlMAIquJdkTvuxBmmd1U\n",
       "zTKBpmoTAAAACXBIWXMAAA7EAAAOxAGVKw4bAAAAzElEQVQY02NgwABz0+tvp09gwAoKhBiCpjdg\n",
       "lxJmYOdTwCXFJXABRch99+4LcKkCZJlYD4Qupg6QgYzKjg4gAcYbSAY+PysAZIQJsP8ACfAKwKXE\n",
       "bv8GmcCRycC1ASyF5IyZvSCa6wMDtwGI8Ww3EBRApNg7QV5mK2DoDwAJtCPp4ltQAaT7HRjmgwW4\n",
       "kf21ThwkdYBBlwfkAhYHJKl2FqCJ7A48u7jAInfgUlIMnBNKgS5UsRPyA4s0lTbAQr6Qofz+AeTg\n",
       "CK7ejRxyAISENKeL/c93AAAAAElFTkSuQmCC\n",
       "\" style=\"display:inline;vertical-align:middle;\" /></a>, <a class=\"ProveItLink\" href=\"../__pv_it/demonstrations/d550e8309ef79ca46e4c9fb5617a392ea678789b0/expr.ipynb\"><img src=\"data:image/png;base64,iVBORw0KGgoAAAANSUhEUgAAADEAAAAQBAMAAABNQoq8AAAAMFBMVEX///8AAAAAAAAAAAAAAAAA\n",
       "AAAAAAAAAAAAAAAAAAAAAAAAAAAAAAAAAAAAAAAAAAAv3aB7AAAAD3RSTlMAiXZmMiLdVJm77xBE\n",
       "zatgdeJyAAAACXBIWXMAAA7EAAAOxAGVKw4bAAAAvUlEQVQY02NgQAe2K+dfW2nAgA1MiGM4Z7kB\n",
       "q0wgAyfLAxwyHAEXkEU009IuwGUmIEmc1Ubo4dsNNk1I2QFIst5GMs2zNgDICCvgAGnlDYDLRF37\n",
       "BtafyMClAJJBcoHxXhDN8RvC90oDggkQGc7NIJ9yQV2xE0kPS8NsIL1fAcJnQ/ZPSySQ5gdqPACk\n",
       "mRSQZHYyAUWBDmMEuZrhOlwmgoHZYA6QIWgM8eK+ORtgYT2VYeb9AqRAODgtDTm0ALktNaaWdOV1\n",
       "AAAAAElFTkSuQmCC\n",
       "\" style=\"display:inline;vertical-align:middle;\" /></a>, <a class=\"ProveItLink\" href=\"../../ordering/__pv_it/theorems/6e5cad5b2984ed0d75bd47bd0c542ec447a4f3570/expr.ipynb\"><img src=\"data:image/png;base64,iVBORw0KGgoAAAANSUhEUgAAADEAAAAQBAMAAABNQoq8AAAAMFBMVEX///8AAAAAAAAAAAAAAAAA\n",
       "AAAAAAAAAAAAAAAAAAAAAAAAAAAAAAAAAAAAAAAAAAAv3aB7AAAAD3RSTlMAELvv3c2ZVESJq3Yi\n",
       "MmZ3LnoBAAAACXBIWXMAAA7EAAAOxAGVKw4bAAAA1ElEQVQY02NgQAdPjfRDjB4AGYzKDmhSCqcY\n",
       "uh4JABmsCegyJxmYeBcAGfwFmDJsBwKAjH4BqMgmF5cAuIwCkDEFKtG6EaGHSxBkWtTu5SA+TyCS\n",
       "aZdKDwDd9lVA/gDIIQfgModDvoD0s39kYN4AkkFywTtREM0WwMA/AUhfdgECBYgMkxzIpywTGPpB\n",
       "7hZC0sOboAjxTj7I3SzI/sk9BJK5wGgH4nNvQJIR4gYax/WACRI84XCZYwx8DzSArl6ZBxGQ0hCA\n",
       "hbUOg1I8cph1qkBCBwoAxe43BugJR6MAAAAASUVORK5CYII=\n",
       "\" style=\"display:inline;vertical-align:middle;\" /></a> <a class=\"ProveItLink\" href=\"../__pv_it/demonstrations/0c5bb9bff5a527129e0181956ee8b8bcdc5d10ed0/proof.ipynb\" style=\"text-decoration: none\">&nbsp;&#x22A2;&nbsp;&nbsp;</a><a class=\"ProveItLink\" href=\"../__pv_it/demonstrations/b63469cba8c7b598cc4782b4ae8e5c45b7a6deae0/expr.ipynb\"><img src=\"data:image/png;base64,iVBORw0KGgoAAAANSUhEUgAAApEAAAAVBAMAAADsu6gfAAAAMFBMVEX///8AAAAAAAAAAAAAAAAA\n",
       "AAAAAAAAAAAAAAAAAAAAAAAAAAAAAAAAAAAAAAAAAAAv3aB7AAAAD3RSTlMAInZUiRDNmWbv3US7\n",
       "qzJazP2FAAAACXBIWXMAAA7EAAAOxAGVKw4bAAAFoElEQVRYw9VZXWgcVRQ+m93J/mXTtS9CaGFa\n",
       "lfaldiyh0LxkKYGKmHSfFCFl96VY0OI+hG4NlSw+tFGqiYpif7QrEYIJ2sWnxpds+yIVbWssKkJp\n",
       "lD7lwaRNE0Wh67lz587MuffOzgSfcmGy7NnvfOc7Z869c+cGAPKwGUc+yKj5IRaFMPZ/THbQDmtT\n",
       "VvJrjY2loksna0YgfCKSXwDKVtOr5V0qSobHT9wIkWJcr4frHdiV37iT3AQDpxrQUVN/6OWXKnW3\n",
       "jEwMDEmWeIHztvdjqOqri+734fMcxdQYZV1RfnlNqmSsCYcbIRl2VkKL0GkZn23YSR4vQnwV4Kiq\n",
       "umxfGqmdcjavwG+S8wuCt50fQ22DxL+e4WUHhWqS5N5mxbe9guMK/8jlIT1JLN4Qhi2WzKLwvg3w\n",
       "PLUEO6ksTqC9lrEOcEapJEsFL59UMVIVytBpwvdSkJOCV+fnR/0IcM5DrDooVJOm3WvKldzHP9Jr\n",
       "kLtPLN4QhvmizKLw/gDQXySWYCeVxQk01wDMOC33i51Kmkh1x4eUob+oBJkUvDo/P+pSEe66K1R2\n",
       "zUGhmv3RKpmrQ+5RSCWfg9BK/gWwbBFLsFNgJfGnv7GvlJbdzy+fVHccowzXlSDxsuDV+flRuCzc\n",
       "dRfKRN1BoZoRtmzc3mGGVBJHZkWyHNy9SAzHd/5EWRReg1WyRjCKEyR2vqs3eJG/QY7ELbmSI87l\n",
       "ScWx/eBW/DtIs/no3q4GjZosCF7wRx3UoeCyt5Au7LFsFKphVZ/Ld62FV3LZpJYeK9n0G4z1YilP\n",
       "WBTe2EOXRtRWcYpNwSm9wY38xx28hSm7i5Iz9rglGugYkYrT7z24iamcptms1+ADmrDd4TYv+KOe\n",
       "1qCg+4GLKh017tsoVDOF2XwMyXp4Jb+ULJ9D2vQb4mvCIKqk8NqVLPgtihNkCvC+3uCb3bjQxyfl\n",
       "npxyLk8qwEs1GMWPA0S70QJ4nS7XGUvwgj/qAdCgMt5swAWXo1DNBbyvK8zPvr9fnHfuL6/k6MzM\n",
       "uZkZros3oGdJ8nbzGcqwpeBnUXkNrOS8STCyE4wVATQGooUt+90rciUvOJcjtcSadozdcbx9hMH4\n",
       "B2CiQYKkG4IX+AOcR10GDeoUn0zs7wmAhzYK1WDodBNKjdCefEda99NNyYBVmydPEw0vrpP9BKM4\n",
       "wUX5YXBRfuL8CXDTguxkYCW51EzFdjbY7m9Omt1YSbpcsxpxXoBpL+ocKChI8Zac5vMyu2qjUA1O\n",
       "h5IJE2HPbra7f4xYSqaUIO4Mx8iU0fDiLm6CYBQn44FUSc8gArWKLON4XV4nxez2pDLnFOvdPsrw\n",
       "He9Jad5yXvBH7dPM7l6I5b3tJJuaiEI11zBjC36O50MqeQ/gKVo4vKkNYljEhZFUUuV9y54Q/krK\n",
       "ToAbkazeIAJ9Ys/CVFPuyWvO5UkFYxVy5WcAzkr7SVwnadQuU/CCP+pZFdVdgA4X9YgtxAyFagbZ\n",
       "7/HppNSTh/M0dmy6Wq0TCy5GCbILytW6KoRFw5uxjE+JRXFiq9CQ3iACjdv7PmdH4huD/PJJZZXt\n",
       "q1TE5shl6CoY0rOb7anG/ftJHnVERfVUq6Mu6lf4lm+9UM0S3riFoe1PU5c7l47X6CLYarXKtEsH\n",
       "xmmTGrdPSvNS5TVG9ixSjOwEiWffLOoNIlC2yk4aMsoxwBK/fFIBjjz5+wJGnJVm2KE3qAzorgte\n",
       "8EedVVGXWy3vTejIIVamWVtNZjHie0WwZR+Evp1EsGzkHcfezirCWCo0HXdzWA+V+lU7v3BUj+/l\n",
       "vv2pQTvLFQg9e4hgiX6C4R4mgHrekNIeLbnHNMFSz7TzC0cxNVc35UEvOztTxtWgdLaF83Xlo/gF\n",
       "oWw1w5uzkrqchoPSidAtRjOKXxDKVhMzN2Uld+j61NSn0xHlX1VbI/kFoFDNf6TJ3DCE0DjYAAAA\n",
       "AElFTkSuQmCC\n",
       "\" style=\"display:inline;vertical-align:middle;\" /></a></span>"
      ],
      "text/plain": [
       "{a in Real, c in Real, b in Real} |- (a + 1 + 2 + c + b + a + 0 + b + c + c + 3) = ((2 * a) + 6 + (3 * c) + (2 * b))"
      ]
     },
     "metadata": {},
     "output_type": "display_data"
    }
   ],
   "source": [
    "Add(a, one, two , c, b, a, zero, b, c, c, three).simplification(\n",
    "    assumptions=[InSet(a, Real), InSet(b, Real), InSet(c, Real)])"
   ]
  },
  {
   "cell_type": "code",
   "execution_count": 74,
   "metadata": {},
   "outputs": [
    {
     "data": {
      "text/html": [
       "<span style=\"font-size:20px;\"><a class=\"ProveItLink\" href=\"../__pv_it/theorems/d8d02d2a77383d238ed10b8fda7965dfafa87db90/expr.ipynb\"><img src=\"data:image/png;base64,iVBORw0KGgoAAAANSUhEUgAAADIAAAAQBAMAAACmdTG/AAAAMFBMVEX///8AAAAAAAAAAAAAAAAA\n",
       "AAAAAAAAAAAAAAAAAAAAAAAAAAAAAAAAAAAAAAAAAAAv3aB7AAAAD3RSTlMAIquJdkTvuxBmmd1U\n",
       "zTKBpmoTAAAACXBIWXMAAA7EAAAOxAGVKw4bAAAA3klEQVQY02NgwAA8175d3102AVOCgaXoAcMF\n",
       "XiwSDFwLGFgm2GCTYRJgaOcoQDGlevdeEM3BwLCO6QGSBOuVBhiTT+EViGJUdnQA0bJwCQb2hgoQ\n",
       "FSbA/gNEX0RoP8wJUsuRycC1AcS9gJCBuJnrAwO3Acjs7N27d2+HOOWAKQNDAwNbAUN/AEgvwp3t\n",
       "jEC2IkO/A8N8MH8DXEYP6COODwz9Bxh0eQSAfBe4mxdEAb27gYHdgWcXF0iA9wDczTcYGGsKGDhU\n",
       "7IT8wF5Xj4DIhNWml+enGyAHgjkkdKAAAEfmMVewssrcAAAAAElFTkSuQmCC\n",
       "\" style=\"display:inline;vertical-align:middle;\" /></a>, <a class=\"ProveItLink\" href=\"../__pv_it/theorems/035e0ae7bd8c0fe127ee5d2062443d6c874adcdd0/expr.ipynb\"><img src=\"data:image/png;base64,iVBORw0KGgoAAAANSUhEUgAAADAAAAAQBAMAAACigOGCAAAAMFBMVEX///8AAAAAAAAAAAAAAAAA\n",
       "AAAAAAAAAAAAAAAAAAAAAAAAAAAAAAAAAAAAAAAAAAAv3aB7AAAAD3RSTlMAELvv3c2ZVESJq3Yi\n",
       "MmZ3LnoBAAAACXBIWXMAAA7EAAAOxAGVKw4bAAAA50lEQVQY02NgQAfswZ+DXJQfMDAqO6BKcGtd\n",
       "YAhgBTJYE1Al2BIYuB9MBzL4C1AluA4wCDEqABn9AlAjVFxcQTQjA0Mu1wUgYwpEnCNaAKaHd8E1\n",
       "EBW1ezmIOgoXZ2ASUATp/CogfwBIxyBsqeTbAHL2RwZmEB2AkAA7loEtgIF/AtBcExcXFyeIKwpm\n",
       "MDAIMLBMYOgHOhjsQAgQ4gGy14C8kQ+yF+H/tUCfMH5g4L/AaAfi7oY7NqEN6EsHBq4HTOAwYS2A\n",
       "OzaQgUddgYFxZR6Yz7ioESLRrGqkZG80AeFIjkmQIIECANNVKrcrbsjPAAAAAElFTkSuQmCC\n",
       "\" style=\"display:inline;vertical-align:middle;\" /></a> <a class=\"ProveItLink\" href=\"../__pv_it/demonstrations/1ab4f7ead596d880e01e031f643192271eacd88c0/proof.ipynb\" style=\"text-decoration: none\">&nbsp;&#x22A2;&nbsp;&nbsp;</a><a class=\"ProveItLink\" href=\"../__pv_it/theorems/e4f420a48b4a0f820d245c6fc1d5a245cc98cc2f0/expr.ipynb\"><img src=\"data:image/png;base64,iVBORw0KGgoAAAANSUhEUgAAAGMAAAAVBAMAAACgbk16AAAAMFBMVEX///8AAAAAAAAAAAAAAAAA\n",
       "AAAAAAAAAAAAAAAAAAAAAAAAAAAAAAAAAAAAAAAAAAAv3aB7AAAAD3RSTlMAInZUiRDNmWbv3US7\n",
       "qzJazP2FAAAACXBIWXMAAA7EAAAOxAGVKw4bAAABsUlEQVQ4y2NgYBBgwA4YGXABJgMcEtwKaAJm\n",
       "86edWjMDyDDBpjxmFpDQQBPUucfAxpDAwMCagNWKdCBmC0AVKweawgJ0E3sDimNgvM9AzFGAquUi\n",
       "A+uBGCDNiSLKDHU/91cQORXq21OrloHoAAb2B/dAfsKqhWUBiMyAaE+CO/AtH8jiElBwXlFUQNXC\n",
       "dkkX6GhfMFsM4aWjPAFQk3YK8HxF1RKfyvqRgaENzE5EuMGhCUQtBgbaDAb2Baha7AMYJjEwWILZ\n",
       "iCBlg7BnAwPtAwOXA5DJvmrVylmrVl0AMssYGL4wMLwHKeADCq1aA9aizLKBgRWshfMAQ/wGVFuW\n",
       "MHADg3kniMl6AGYJ6wEZBgZeAZDD4hUY+tFC7DMDO9B3VmD2ApgW3gcXgYoZGA4BSQOGa8wCKFr+\n",
       "MUQCI7UHzFaCaXnODQziW+CA5FFgXs6OassNhuPQCAB6GpZujwJTkIwNA8MroBsv+cnqoWqJdQel\n",
       "nNUQL9zZConSOZlnTv48wsDA9QBb7EMyDNQX3D6QBAMDqGmPGzmRoqZYJHAQZ+aTwSURg1MLTsMY\n",
       "FXDlcByFAgAfyV0yM1u4WAAAAABJRU5ErkJggg==\n",
       "\" style=\"display:inline;vertical-align:middle;\" /></a></span>"
      ],
      "text/plain": [
       "{a in Integer, b in Integer} |- (a + b) in Integer"
      ]
     },
     "metadata": {},
     "output_type": "display_data"
    }
   ],
   "source": [
    "InSet(Add(a,b), Integer).prove(assumptions=[InSet(a, Integer), InSet(b,Integer)])"
   ]
  },
  {
   "cell_type": "code",
   "execution_count": 75,
   "metadata": {},
   "outputs": [
    {
     "data": {
      "text/html": [
       "<span style=\"font-size:20px;\"><a class=\"ProveItLink\" href=\"../__pv_it/theorems/d8d02d2a77383d238ed10b8fda7965dfafa87db90/expr.ipynb\"><img src=\"data:image/png;base64,iVBORw0KGgoAAAANSUhEUgAAADIAAAAQBAMAAACmdTG/AAAAMFBMVEX///8AAAAAAAAAAAAAAAAA\n",
       "AAAAAAAAAAAAAAAAAAAAAAAAAAAAAAAAAAAAAAAAAAAv3aB7AAAAD3RSTlMAIquJdkTvuxBmmd1U\n",
       "zTKBpmoTAAAACXBIWXMAAA7EAAAOxAGVKw4bAAAA3klEQVQY02NgwAA8175d3102AVOCgaXoAcMF\n",
       "XiwSDFwLGFgm2GCTYRJgaOcoQDGlevdeEM3BwLCO6QGSBOuVBhiTT+EViGJUdnQA0bJwCQb2hgoQ\n",
       "FSbA/gNEX0RoP8wJUsuRycC1AcS9gJCBuJnrAwO3Acjs7N27d2+HOOWAKQNDAwNbAUN/AEgvwp3t\n",
       "jEC2IkO/A8N8MH8DXEYP6COODwz9Bxh0eQSAfBe4mxdEAb27gYHdgWcXF0iA9wDczTcYGGsKGDhU\n",
       "7IT8wF5Xj4DIhNWml+enGyAHgjkkdKAAAEfmMVewssrcAAAAAElFTkSuQmCC\n",
       "\" style=\"display:inline;vertical-align:middle;\" /></a>, <a class=\"ProveItLink\" href=\"../__pv_it/theorems/035e0ae7bd8c0fe127ee5d2062443d6c874adcdd0/expr.ipynb\"><img src=\"data:image/png;base64,iVBORw0KGgoAAAANSUhEUgAAADAAAAAQBAMAAACigOGCAAAAMFBMVEX///8AAAAAAAAAAAAAAAAA\n",
       "AAAAAAAAAAAAAAAAAAAAAAAAAAAAAAAAAAAAAAAAAAAv3aB7AAAAD3RSTlMAELvv3c2ZVESJq3Yi\n",
       "MmZ3LnoBAAAACXBIWXMAAA7EAAAOxAGVKw4bAAAA50lEQVQY02NgQAfswZ+DXJQfMDAqO6BKcGtd\n",
       "YAhgBTJYE1Al2BIYuB9MBzL4C1AluA4wCDEqABn9AlAjVFxcQTQjA0Mu1wUgYwpEnCNaAKaHd8E1\n",
       "EBW1ezmIOgoXZ2ASUATp/CogfwBIxyBsqeTbAHL2RwZmEB2AkAA7loEtgIF/AtBcExcXFyeIKwpm\n",
       "MDAIMLBMYOgHOhjsQAgQ4gGy14C8kQ+yF+H/tUCfMH5g4L/AaAfi7oY7NqEN6EsHBq4HTOAwYS2A\n",
       "OzaQgUddgYFxZR6Yz7ioESLRrGqkZG80AeFIjkmQIIECANNVKrcrbsjPAAAAAElFTkSuQmCC\n",
       "\" style=\"display:inline;vertical-align:middle;\" /></a>, <a class=\"ProveItLink\" href=\"../__pv_it/theorems/ab9efd361cdf04a40e51b5b0d3fd587cd7505e5a0/expr.ipynb\"><img src=\"data:image/png;base64,iVBORw0KGgoAAAANSUhEUgAAADAAAAAQBAMAAACigOGCAAAAMFBMVEX///8AAAAAAAAAAAAAAAAA\n",
       "AAAAAAAAAAAAAAAAAAAAAAAAAAAAAAAAAAAAAAAAAAAv3aB7AAAAD3RSTlMAiXZmMiLdVJm77xBE\n",
       "zatgdeJyAAAACXBIWXMAAA7EAAAOxAGVKw4bAAAAzElEQVQY02NgQAfst37dTJtlgCHOwDTPgeEC\n",
       "L6Y4A0cDA5OBOBYJvgCGndwTkI2YlpYLorkZGFr4HBDiPJc2wJgsDzzAtJAySD4WLs7AuWE2iAor\n",
       "4ACZeBWhuZBZAUQlMnCB6AsICYhjOX5DzF2WlpaWCXFFgQwDwwYGLojLkBy4kxXIfsqwXwHCTYBL\n",
       "PAH6hPsDAz8wVA4AuUpwxzacAPoygQHoJEaQc3kL4I69zcA6HWiaoLE22JKXpyESp+aunLl+pQCS\n",
       "1yUhQQIFAA/aLo4ZZrU0AAAAAElFTkSuQmCC\n",
       "\" style=\"display:inline;vertical-align:middle;\" /></a>, <a class=\"ProveItLink\" href=\"../__pv_it/theorems/281ba5ce706314e3783f416248e235040ec067e70/expr.ipynb\"><img src=\"data:image/png;base64,iVBORw0KGgoAAAANSUhEUgAAADIAAAAQBAMAAACmdTG/AAAAMFBMVEX///8AAAAAAAAAAAAAAAAA\n",
       "AAAAAAAAAAAAAAAAAAAAAAAAAAAAAAAAAAAAAAAAAAAv3aB7AAAAD3RSTlMAMs3vmVREEIndIqt2\n",
       "u2aBbGR5AAAACXBIWXMAAA7EAAAOxAGVKw4bAAAA70lEQVQY02NgwACsyp91Z15+AGIyKjsgy/Dc\n",
       "FmBQYIKw+QOQZVgcGHgetELY+QXIMtwLGGrZL0DYnRBTbs6cBKLZGRgcuQUgMioggk0HrpNxgwiI\n",
       "4tpx8CuIXoQwkrfgOohKXsD7HURrIWyK4DsAMtWOgUUBxFVAyEDczPKBgbMBZLblzJkz50KcEtDG\n",
       "wFDAwHyBoT4BpPcCXEstF5C9i6H+AMN7MH8CXGYj0EfsHxjqAxg2sS4A8s/A3eyQAvTuBAbeA6xT\n",
       "WEACTAFwN6szcF29wMC+p3H1QbDX96ZDZJIv2d61t21ACi+2XkjoQAEAkGM3rHcIm38AAAAASUVO\n",
       "RK5CYII=\n",
       "\" style=\"display:inline;vertical-align:middle;\" /></a> <a class=\"ProveItLink\" href=\"../__pv_it/demonstrations/35dd7b9b5a72db3a43c6d3778086f4db5132c9850/proof.ipynb\" style=\"text-decoration: none\">&nbsp;&#x22A2;&nbsp;&nbsp;</a><a class=\"ProveItLink\" href=\"../__pv_it/demonstrations/3765d9fc93f2a45e3c76353437b25fb9fb8ef5830/expr.ipynb\"><img src=\"data:image/png;base64,iVBORw0KGgoAAAANSUhEUgAAAKkAAAAVBAMAAADP89MSAAAAMFBMVEX///8AAAAAAAAAAAAAAAAA\n",
       "AAAAAAAAAAAAAAAAAAAAAAAAAAAAAAAAAAAAAAAAAAAv3aB7AAAAD3RSTlMAInZUiRDNmWbv3US7\n",
       "qzJazP2FAAAACXBIWXMAAA7EAAAOxAGVKw4bAAACNElEQVQ4y2NgYBBgIBsw4pRhMiDfVG4FNAGz\n",
       "+dNOrZkBZJhgUx4ziwgzn01n0EAT0rnHwMaQwMDAmoBVRzoxTv3MwBaAKlLOwKDBAvQ8ewOKlxrg\n",
       "GtAEGDAFuL8ycBSgyl5kYD0QA6Q5UUSZFeAaUAUwVAABywIGhqnQyDm1ahmIDmBgf3APFL5Y9YA0\n",
       "EDSVDejQDIgjkuAh8ZYP5PwSUAK5oqiAqoftkq4BqiEsSn2oArJO74FKfMFsMUTwHuUBsUGW7RTg\n",
       "+Ypqanwq60cUAcbFDDWoYTSR4TxQfxuYk4jwikMTiFoMTAYzGNgXoJpqH8AwCUWAywFNILKBoQxI\n",
       "WYI5iHTEBmHPBiaDDyBNQHrVqpWzVq26AGQCNXxBEagH+xFZgIFhCZB6DxLmA4qtWgM2VZllAwMr\n",
       "2FTOAwzxG1DduoSB+zOKwBz02JrDwPobFHggNusBmCzrARkGBl4BUAjEKzD0o+n5zMD+FVmA9ROa\n",
       "qUABjg9A2grMg6UYBt4HF4HmMTAcApIGDNeYBVBM/QcKN2SBH8D4QTH1MwNvgiEDQw+YpwQz9Tk3\n",
       "MF3dAicNHgXm5eyobr3BcBxVAJgA/FAEDjFYFRRAEiYwjmAl1FFgFpaxYWB4BbT3kp+sHqohse4N\n",
       "aNnCoykAVYXKw0sPGBhWQ1x+Zyskuc3JPHPy5xFgknmAI+cQJcAIDVFuH0iOhQHU8gFfYYJNgL0B\n",
       "R3F2kIECIINLIoYSU3E6iVGBfEOZcNR5AHz7iCcTAUU/AAAAAElFTkSuQmCC\n",
       "\" style=\"display:inline;vertical-align:middle;\" /></a></span>"
      ],
      "text/plain": [
       "{a in Integer, b in Integer, c in Integer, d in Integer} |- (a + b + c + d) in Integer"
      ]
     },
     "metadata": {},
     "output_type": "display_data"
    }
   ],
   "source": [
    "InSet(Add(a,b,c,d), Integer).prove(\n",
    "    assumptions=[InSet(a,Integer),InSet(b, Integer), InSet(c, Integer), InSet(d,Integer)])"
   ]
  },
  {
   "cell_type": "code",
   "execution_count": 76,
   "metadata": {},
   "outputs": [
    {
     "data": {
      "text/html": [
       "<span style=\"font-size:20px;\"><a class=\"ProveItLink\" href=\"../../ordering/__pv_it/theorems/27094ede24067904bb8353fa305df8461a3a4be40/expr.ipynb\"><img src=\"data:image/png;base64,iVBORw0KGgoAAAANSUhEUgAAADMAAAAQBAMAAABJt1qBAAAAMFBMVEX///8AAAAAAAAAAAAAAAAA\n",
       "AAAAAAAAAAAAAAAAAAAAAAAAAAAAAAAAAAAAAAAAAAAv3aB7AAAAD3RSTlMAIquJdkTvuxBmmd1U\n",
       "zTKBpmoTAAAACXBIWXMAAA7EAAAOxAGVKw4bAAAA3ElEQVQY02NgwADd32sbGMy+BTBgATWsCgwc\n",
       "H7DJMGgLWDIwJGCV0ingFWDYgCLkvnv3BRCtOIXxAqpUrAeUocj0wBksxajs6AASYLwBU6PIUMAe\n",
       "AJIKE2D/ARIAmg+XesWxAyjFkcnABTaXlwEhxXngONCFXB8YuA1AAs92A0EBRIpBgwkoxVbA0A/2\n",
       "eDuSLoYmDqBJ/Q4M88EC3MhSfA5A/f0HGHR5QC5gcYBJ1QGxH1CK3YFnFxdY5A5MCsTgAnqeQ8VO\n",
       "yA8s0lTaAKbffgPq4LiAElDB1buRBQCzkDPDLBuujwAAAABJRU5ErkJggg==\n",
       "\" style=\"display:inline;vertical-align:middle;\" /></a>, <a class=\"ProveItLink\" href=\"../../ordering/__pv_it/theorems/5d56aa038eb34c97b005be8161434236efec38e90/expr.ipynb\"><img src=\"data:image/png;base64,iVBORw0KGgoAAAANSUhEUgAAADEAAAAQBAMAAABNQoq8AAAAMFBMVEX///8AAAAAAAAAAAAAAAAA\n",
       "AAAAAAAAAAAAAAAAAAAAAAAAAAAAAAAAAAAAAAAAAAAv3aB7AAAAD3RSTlMAELvv3c2ZVESJq3Yi\n",
       "MmZ3LnoBAAAACXBIWXMAAA7EAAAOxAGVKw4bAAAA5UlEQVQY02NgQAcin1QFGCZ/bmBgVHZAk1Ln\n",
       "WMDA+AHIYE1Ak1lyYB4DgwGQwV+AJrNcgfUAA8igfgGoyCYXlwAQveY1TwBYZgpUonUjlLGG68JO\n",
       "sEzU7uUgPk8gzLQ1DApMDUAZxq8C8gdADjmAkLnG6AiUYf/IwLwBJMOAkOErKAK6jS2AgX8CkH/Z\n",
       "BQgUIDIMC7mAMiwTGPpB7hZC0sMgxegA9k4+yN0syDK8G4C6+S8w2oH43BtgMrpAvBcow/WACRI8\n",
       "4TAZEANoOwPjyjyIgJQGJDCufgaqZwxADq9OFRdkPgBHFjKLuGzoKQAAAABJRU5ErkJggg==\n",
       "\" style=\"display:inline;vertical-align:middle;\" /></a> <a class=\"ProveItLink\" href=\"../__pv_it/demonstrations/ea1e30f3c2cf83c2c888f0427ab4523dc88bab040/proof.ipynb\" style=\"text-decoration: none\">&nbsp;&#x22A2;&nbsp;&nbsp;</a><a class=\"ProveItLink\" href=\"../__pv_it/theorems/a15e4ee9d247bc510c6a0dacbe0fa69a74e91f040/expr.ipynb\"><img src=\"data:image/png;base64,iVBORw0KGgoAAAANSUhEUgAAAGQAAAAVBAMAAABCslYDAAAAMFBMVEX///8AAAAAAAAAAAAAAAAA\n",
       "AAAAAAAAAAAAAAAAAAAAAAAAAAAAAAAAAAAAAAAAAAAv3aB7AAAAD3RSTlMAInZUiRDNmWbv3US7\n",
       "qzJazP2FAAAACXBIWXMAAA7EAAAOxAGVKw4bAAABsElEQVQ4y3VTP0gCURj/6amndqc3RQTBGbRF\n",
       "SERTw81BcVODGGeE0BI5REhLQkNjjUVBRkNwEEVE1BBam9kgJUFLSFvR4GJz370z9cm9b3jv+/d7\n",
       "3+9773sANHiLyA/4k4LAVZ8dvHjOInB8CEx5ZAcrRTqr0OdVkveARdGMV4VQjpZsn1M9CRQQAWTu\n",
       "rNv2HnfY7vRDZrCEKBxUj0y295JJS8R0jXHbZlTUIX3QgUx7QmYZO5fAzdh/Fe3DbxBknXRfPaHz\n",
       "kNXRVyBQc1RfpyVVU1AlyArpd5rS4iDBX9PSEGZ0QloXEsulUsApJexDLnIQqYWIDmmPQbrta9iW\n",
       "KgC9jNxE1CDXpm0f2PY5aXIGcQOxppP4ZZOU2xDVfGeQSBnWJVeFTiglMcCqpHurBGsuMUvHLn9j\n",
       "9CxbJiTGNtoLwacCPBIkiTdJ4yAN6g9hRsevdwamQdYPMEeqLp3JXBW1oNDEyAYzljtT5IzEBvBN\n",
       "N/YyPzLBX3I971ByG1ysulMQWzuidYH8Da/XZzLc3q+fbG52wzmvsWSSF32xB1HAVxZF0qKAIvzJ\n",
       "Pl0QSAj8f+6IVpfkD4D+AAAAAElFTkSuQmCC\n",
       "\" style=\"display:inline;vertical-align:middle;\" /></a></span>"
      ],
      "text/plain": [
       "{a in Natural, b in Natural} |- (a + b) in Natural"
      ]
     },
     "metadata": {},
     "output_type": "display_data"
    }
   ],
   "source": [
    "InSet(Add(a,b), Natural).prove(assumptions=[InSet(a, Natural), InSet(b, Natural)])"
   ]
  },
  {
   "cell_type": "code",
   "execution_count": 77,
   "metadata": {},
   "outputs": [
    {
     "data": {
      "text/html": [
       "<span style=\"font-size:20px;\"><a class=\"ProveItLink\" href=\"../../ordering/__pv_it/theorems/27094ede24067904bb8353fa305df8461a3a4be40/expr.ipynb\"><img src=\"data:image/png;base64,iVBORw0KGgoAAAANSUhEUgAAADMAAAAQBAMAAABJt1qBAAAAMFBMVEX///8AAAAAAAAAAAAAAAAA\n",
       "AAAAAAAAAAAAAAAAAAAAAAAAAAAAAAAAAAAAAAAAAAAv3aB7AAAAD3RSTlMAIquJdkTvuxBmmd1U\n",
       "zTKBpmoTAAAACXBIWXMAAA7EAAAOxAGVKw4bAAAA3ElEQVQY02NgwADd32sbGMy+BTBgATWsCgwc\n",
       "H7DJMGgLWDIwJGCV0ingFWDYgCLkvnv3BRCtOIXxAqpUrAeUocj0wBksxajs6AASYLwBU6PIUMAe\n",
       "AJIKE2D/ARIAmg+XesWxAyjFkcnABTaXlwEhxXngONCFXB8YuA1AAs92A0EBRIpBgwkoxVbA0A/2\n",
       "eDuSLoYmDqBJ/Q4M88EC3MhSfA5A/f0HGHR5QC5gcYBJ1QGxH1CK3YFnFxdY5A5MCsTgAnqeQ8VO\n",
       "yA8s0lTaAKbffgPq4LiAElDB1buRBQCzkDPDLBuujwAAAABJRU5ErkJggg==\n",
       "\" style=\"display:inline;vertical-align:middle;\" /></a>, <a class=\"ProveItLink\" href=\"../../ordering/__pv_it/theorems/5d56aa038eb34c97b005be8161434236efec38e90/expr.ipynb\"><img src=\"data:image/png;base64,iVBORw0KGgoAAAANSUhEUgAAADEAAAAQBAMAAABNQoq8AAAAMFBMVEX///8AAAAAAAAAAAAAAAAA\n",
       "AAAAAAAAAAAAAAAAAAAAAAAAAAAAAAAAAAAAAAAAAAAv3aB7AAAAD3RSTlMAELvv3c2ZVESJq3Yi\n",
       "MmZ3LnoBAAAACXBIWXMAAA7EAAAOxAGVKw4bAAAA5UlEQVQY02NgQAcin1QFGCZ/bmBgVHZAk1Ln\n",
       "WMDA+AHIYE1Ak1lyYB4DgwGQwV+AJrNcgfUAA8igfgGoyCYXlwAQveY1TwBYZgpUonUjlLGG68JO\n",
       "sEzU7uUgPk8gzLQ1DApMDUAZxq8C8gdADjmAkLnG6AiUYf/IwLwBJMOAkOErKAK6jS2AgX8CkH/Z\n",
       "BQgUIDIMC7mAMiwTGPpB7hZC0sMgxegA9k4+yN0syDK8G4C6+S8w2oH43BtgMrpAvBcow/WACRI8\n",
       "4TAZEANoOwPjyjyIgJQGJDCufgaqZwxADq9OFRdkPgBHFjKLuGzoKQAAAABJRU5ErkJggg==\n",
       "\" style=\"display:inline;vertical-align:middle;\" /></a>, <a class=\"ProveItLink\" href=\"../__pv_it/demonstrations/7148739d216dc58b8d7f448f4eb1e3fc97450b970/expr.ipynb\"><img src=\"data:image/png;base64,iVBORw0KGgoAAAANSUhEUgAAADEAAAAQBAMAAABNQoq8AAAAMFBMVEX///8AAAAAAAAAAAAAAAAA\n",
       "AAAAAAAAAAAAAAAAAAAAAAAAAAAAAAAAAAAAAAAAAAAv3aB7AAAAD3RSTlMAiXZmMiLdVJm77xBE\n",
       "zatgdeJyAAAACXBIWXMAAA7EAAAOxAGVKw4bAAAAz0lEQVQY02NgQAfbfs7dwCD16wADJpjO84CB\n",
       "+wMWCYZnAcIMDAuwyTyfwBvAkIAsopmWdgFEPzVivYAic1YbynjK56AIkRFSdgCSrLdhSp4yTOA8\n",
       "AJIJK+CYAKSAZsNlPLizQTKJDFwKIBkGhAxzQSXQbRy/IXyvNCCYAJFheM0HlOGaAJHZiaSHYR83\n",
       "0LT9ChA+G7IMiwJQPb8BAwMojJgUYDJTgFgFKAN0GCPI1QzXYTIgBgfIz4LGEC/um7MBTPv+Aqrn\n",
       "voAcOgenpSHzAXsdNjX6C9djAAAAAElFTkSuQmCC\n",
       "\" style=\"display:inline;vertical-align:middle;\" /></a>, <a class=\"ProveItLink\" href=\"../__pv_it/demonstrations/51d6f7d63462c7f89f21491a05fc1730fb25de860/expr.ipynb\"><img src=\"data:image/png;base64,iVBORw0KGgoAAAANSUhEUgAAADMAAAAQBAMAAABJt1qBAAAAMFBMVEX///8AAAAAAAAAAAAAAAAA\n",
       "AAAAAAAAAAAAAAAAAAAAAAAAAAAAAAAAAAAAAAAAAAAv3aB7AAAAD3RSTlMAMs3vmVREEIndIqt2\n",
       "u2aBbGR5AAAACXBIWXMAAA7EAAAOxAGVKw4bAAAA7UlEQVQY02NgwACVfy8VMDR/TgCxGZUdUOSu\n",
       "sm1gYP8AYfMHoEjtXNDHwGAAYecXoEhtvcC0gGEChN0Joc7OnKkAone94VKASamAyaTjUF27uAVO\n",
       "gKW4dhz8ChLgUocZuIvhAm8CSCp5Ae93kADQfLiUCPt0oBS7HQML2AYmBoQUX0As0IUsHxg4G0AC\n",
       "wjOB4AJEimE7N1CK+QJDPdjjtUi6GKrZgQbWH2B4DxbgRJZiPADUXx/AsIkV5AKeAzCpi0B8ECjF\n",
       "e4B1CgtYRBUmBWKAnMa+p3H1QbBI9TVIeAl9BupgV0AJu4ybM5EFACrbQGhFcyp8AAAAAElFTkSu\n",
       "QmCC\n",
       "\" style=\"display:inline;vertical-align:middle;\" /></a> <a class=\"ProveItLink\" href=\"../__pv_it/demonstrations/7ed07a7be900e1f10a87cbe591cfc184153171f60/proof.ipynb\" style=\"text-decoration: none\">&nbsp;&#x22A2;&nbsp;&nbsp;</a><a class=\"ProveItLink\" href=\"../__pv_it/demonstrations/691d2cb621dc88fb4cbdc00df6ab1270f520d6b70/expr.ipynb\"><img src=\"data:image/png;base64,iVBORw0KGgoAAAANSUhEUgAAAKoAAAAVBAMAAAAkxGgRAAAAMFBMVEX///8AAAAAAAAAAAAAAAAA\n",
       "AAAAAAAAAAAAAAAAAAAAAAAAAAAAAAAAAAAAAAAAAAAv3aB7AAAAD3RSTlMAInZUiRDNmWbv3US7\n",
       "qzJazP2FAAAACXBIWXMAAA7EAAAOxAGVKw4bAAACSElEQVQ4y6WVT2jUQBTGv242TXc36eYkIhai\n",
       "WOhBJIoIFg+leBKUPQmWSlak4EXMQUS8NCCIB0E8iP8KVhTEEbEHkXqQrr3VCpZaBC+yehAUocWy\n",
       "Xrz4ZrJ/8oYElu0cdiZfkt97+fJlFoCLnkdf5pmc3zu15PFj8+WHKeQfPgAOplxtLs12wfxxByOa\n",
       "ZPtvgYAA1bQb+sNuWt1Ef4UrzqN8hAJgRUl1vjmXW7aUIv2hO0KpgQGtunMEZ1CEBCfGgea80OrB\n",
       "0JxLCnmy6Xa83CuEemZnu7dNUg+lUo+hC6q06ZxavR5u9ep+zY0R9aIMyNouj1PP7/6kQcZH6lwY\n",
       "Gl8nm46rgE21HXBtLBfjYm9cu8Go5t9K4DLIDt+qMaF0Cx/JpmuqabdDHQwnJoDHxLgLa5ZRjQYK\n",
       "HoM80YVTES7RdFhRO2/LxVVjCaDEWhsojpF0RYh7QryglVVFmRRLiGf3hVihVfwsHQHTshKwLuWf\n",
       "gkatSXUqXxS1UEMwx3qlIgt+srVCTX9bMzD/SfPkejLZq7kSOxB4uMkzQHGdriQhgadRzT8Y2KB5\n",
       "VDWRpOK7DSzSLT4+Gy6j1snrJKRM2Z9j1E041f3ADbWVtGvaFJTcbxUN2zOeWqxXJ7JDRqUA5Hmy\n",
       "FjEahnEwgbPtCEvf6C3+orqrJ4b28WStXdZsPHp9mAun93xbpTrP44Pl2K/BCzP0e5I8qad9W+jm\n",
       "25L5byby1XvBdim+P8wjezNJE6woYzt7hy2MnVknJrdCzWypz+sdmsv4z/sPafKBMocoVvAAAAAA\n",
       "SUVORK5CYII=\n",
       "\" style=\"display:inline;vertical-align:middle;\" /></a></span>"
      ],
      "text/plain": [
       "{a in Natural, b in Natural, c in Natural, d in Natural} |- (a + b + c + d) in Natural"
      ]
     },
     "metadata": {},
     "output_type": "display_data"
    }
   ],
   "source": [
    "InSet(Add(a,b,c,d), Natural).prove(assumptions=[InSet(a,Natural), InSet(b, Natural), InSet(c,Natural), InSet(d, Natural)])"
   ]
  },
  {
   "cell_type": "code",
   "execution_count": 78,
   "metadata": {},
   "outputs": [
    {
     "data": {
      "text/html": [
       "<span style=\"font-size:20px;\"><a class=\"ProveItLink\" href=\"../../ordering/__pv_it/theorems/4aa8d696b1f407d6126de9f51a052e8d90e0848c0/expr.ipynb\"><img src=\"data:image/png;base64,iVBORw0KGgoAAAANSUhEUgAAADMAAAAQBAMAAABJt1qBAAAAMFBMVEX///8AAAAAAAAAAAAAAAAA\n",
       "AAAAAAAAAAAAAAAAAAAAAAAAAAAAAAAAAAAAAAAAAAAv3aB7AAAAD3RSTlMAIquJdkTvuxBmmd1U\n",
       "zTKBpmoTAAAACXBIWXMAAA7EAAAOxAGVKw4bAAAAzElEQVQY02NgwABz0+tvp09gwAoKhBiCpjdg\n",
       "lxJmYOdTwCXFJXABRch99+4LcKkCZJlYD4Qupg6QgYzKjg4gAcYbSAY+PysAZIQJsP8ACfAKwKXE\n",
       "bv8GmcCRycC1ASyF5IyZvSCa6wMDtwGI8Ww3EBRApNg7QV5mK2DoDwAJtCPp4ltQAaT7HRjmgwW4\n",
       "kf21ThwkdYBBlwfkAhYHJKl2FqCJ7A48u7jAInfgUlIMnBNKgS5UsRPyA4s0lTbAQr6Qofz+AeTg\n",
       "CK7ejRxyAISENKeL/c93AAAAAElFTkSuQmCC\n",
       "\" style=\"display:inline;vertical-align:middle;\" /></a>, <a class=\"ProveItLink\" href=\"../../ordering/__pv_it/theorems/6e5cad5b2984ed0d75bd47bd0c542ec447a4f3570/expr.ipynb\"><img src=\"data:image/png;base64,iVBORw0KGgoAAAANSUhEUgAAADEAAAAQBAMAAABNQoq8AAAAMFBMVEX///8AAAAAAAAAAAAAAAAA\n",
       "AAAAAAAAAAAAAAAAAAAAAAAAAAAAAAAAAAAAAAAAAAAv3aB7AAAAD3RSTlMAELvv3c2ZVESJq3Yi\n",
       "MmZ3LnoBAAAACXBIWXMAAA7EAAAOxAGVKw4bAAAA1ElEQVQY02NgQAdPjfRDjB4AGYzKDmhSCqcY\n",
       "uh4JABmsCegyJxmYeBcAGfwFmDJsBwKAjH4BqMgmF5cAuIwCkDEFKtG6EaGHSxBkWtTu5SA+TyCS\n",
       "aZdKDwDd9lVA/gDIIQfgModDvoD0s39kYN4AkkFywTtREM0WwMA/AUhfdgECBYgMkxzIpywTGPpB\n",
       "7hZC0sOboAjxTj7I3SzI/sk9BJK5wGgH4nNvQJIR4gYax/WACRI84XCZYwx8DzSArl6ZBxGQ0hCA\n",
       "hbUOg1I8cph1qkBCBwoAxe43BugJR6MAAAAASUVORK5CYII=\n",
       "\" style=\"display:inline;vertical-align:middle;\" /></a> <a class=\"ProveItLink\" href=\"../__pv_it/demonstrations/b2d16f3875d9a662e21127269100d655c2d8d8940/proof.ipynb\" style=\"text-decoration: none\">&nbsp;&#x22A2;&nbsp;&nbsp;</a><a class=\"ProveItLink\" href=\"../__pv_it/theorems/5d597c4a40c58c5ef1eadf61ffae99c0ec00aa990/expr.ipynb\"><img src=\"data:image/png;base64,iVBORw0KGgoAAAANSUhEUgAAAGQAAAAVBAMAAABCslYDAAAAMFBMVEX///8AAAAAAAAAAAAAAAAA\n",
       "AAAAAAAAAAAAAAAAAAAAAAAAAAAAAAAAAAAAAAAAAAAv3aB7AAAAD3RSTlMAInZUiRDNmWbv3US7\n",
       "qzJazP2FAAAACXBIWXMAAA7EAAAOxAGVKw4bAAABqElEQVQ4y3VTzytEURT+3jwz7814zFsr9Shl\n",
       "IU2S9Syl6P0BM81IioUaZTHZsBE7ViKbiYXckkkSKw+RX4uJIcuxEqWUWFk4776Hd3n3LO4995zz\n",
       "nfPdc88FYCJcZHYgkpI4tv+c9dGrj40zV+sOiY6elyjX9B+roVTq70/Imw+rECvQMvwPkobzAmhC\n",
       "rj1/T7psZ0Mg4zEgLli7/P3ApiVue4cOxvI/EAPoCYX0cXYegd22QJXbLDBBulJtsUTIWOsNUFdx\n",
       "VWU4QKzxeBAYIX3fNN4FSPTDzpnQOZ2Y+QtZ3FolsmsUsAStJEDUd8QtqAscErh+74ybZYWa9opE\n",
       "mtRJxpYZ2yRNyyOZRuOrG/jESByf2MmcB4k7yJWFKpThIIV6XiUTbPKj4RHLWZgXO0bPMmVD5WwT\n",
       "QYj2QPWOCJLCnWoKkBrdDzqnE7ECkKjTDvSTaqnrmlClYdqgidHS/DD0CylgzijjmTp2PdDcKTa5\n",
       "WnQpeRfMXtrfk/xpGqdvSNTCXp9Lk7/vXDBhdvVC2FhyKcq+2KHMoTgyT0bmMKQ/WbEkjhaJ/Qtc\n",
       "il9+STsuZQAAAABJRU5ErkJggg==\n",
       "\" style=\"display:inline;vertical-align:middle;\" /></a></span>"
      ],
      "text/plain": [
       "{a in Real, b in Real} |- (a + b) in Real"
      ]
     },
     "metadata": {},
     "output_type": "display_data"
    }
   ],
   "source": [
    "InSet(Add(a,b), Real).prove(assumptions=[InSet(a, Real), InSet(b,Real)])"
   ]
  },
  {
   "cell_type": "code",
   "execution_count": 79,
   "metadata": {},
   "outputs": [
    {
     "data": {
      "text/html": [
       "<span style=\"font-size:20px;\"><a class=\"ProveItLink\" href=\"../../ordering/__pv_it/theorems/4aa8d696b1f407d6126de9f51a052e8d90e0848c0/expr.ipynb\"><img src=\"data:image/png;base64,iVBORw0KGgoAAAANSUhEUgAAADMAAAAQBAMAAABJt1qBAAAAMFBMVEX///8AAAAAAAAAAAAAAAAA\n",
       "AAAAAAAAAAAAAAAAAAAAAAAAAAAAAAAAAAAAAAAAAAAv3aB7AAAAD3RSTlMAIquJdkTvuxBmmd1U\n",
       "zTKBpmoTAAAACXBIWXMAAA7EAAAOxAGVKw4bAAAAzElEQVQY02NgwABz0+tvp09gwAoKhBiCpjdg\n",
       "lxJmYOdTwCXFJXABRch99+4LcKkCZJlYD4Qupg6QgYzKjg4gAcYbSAY+PysAZIQJsP8ACfAKwKXE\n",
       "bv8GmcCRycC1ASyF5IyZvSCa6wMDtwGI8Ww3EBRApNg7QV5mK2DoDwAJtCPp4ltQAaT7HRjmgwW4\n",
       "kf21ThwkdYBBlwfkAhYHJKl2FqCJ7A48u7jAInfgUlIMnBNKgS5UsRPyA4s0lTbAQr6Qofz+AeTg\n",
       "CK7ejRxyAISENKeL/c93AAAAAElFTkSuQmCC\n",
       "\" style=\"display:inline;vertical-align:middle;\" /></a>, <a class=\"ProveItLink\" href=\"../../ordering/__pv_it/theorems/6e5cad5b2984ed0d75bd47bd0c542ec447a4f3570/expr.ipynb\"><img src=\"data:image/png;base64,iVBORw0KGgoAAAANSUhEUgAAADEAAAAQBAMAAABNQoq8AAAAMFBMVEX///8AAAAAAAAAAAAAAAAA\n",
       "AAAAAAAAAAAAAAAAAAAAAAAAAAAAAAAAAAAAAAAAAAAv3aB7AAAAD3RSTlMAELvv3c2ZVESJq3Yi\n",
       "MmZ3LnoBAAAACXBIWXMAAA7EAAAOxAGVKw4bAAAA1ElEQVQY02NgQAdPjfRDjB4AGYzKDmhSCqcY\n",
       "uh4JABmsCegyJxmYeBcAGfwFmDJsBwKAjH4BqMgmF5cAuIwCkDEFKtG6EaGHSxBkWtTu5SA+TyCS\n",
       "aZdKDwDd9lVA/gDIIQfgModDvoD0s39kYN4AkkFywTtREM0WwMA/AUhfdgECBYgMkxzIpywTGPpB\n",
       "7hZC0sOboAjxTj7I3SzI/sk9BJK5wGgH4nNvQJIR4gYax/WACRI84XCZYwx8DzSArl6ZBxGQ0hCA\n",
       "hbUOg1I8cph1qkBCBwoAxe43BugJR6MAAAAASUVORK5CYII=\n",
       "\" style=\"display:inline;vertical-align:middle;\" /></a>, <a class=\"ProveItLink\" href=\"../__pv_it/demonstrations/d550e8309ef79ca46e4c9fb5617a392ea678789b0/expr.ipynb\"><img src=\"data:image/png;base64,iVBORw0KGgoAAAANSUhEUgAAADEAAAAQBAMAAABNQoq8AAAAMFBMVEX///8AAAAAAAAAAAAAAAAA\n",
       "AAAAAAAAAAAAAAAAAAAAAAAAAAAAAAAAAAAAAAAAAAAv3aB7AAAAD3RSTlMAiXZmMiLdVJm77xBE\n",
       "zatgdeJyAAAACXBIWXMAAA7EAAAOxAGVKw4bAAAAvUlEQVQY02NgQAe2K+dfW2nAgA1MiGM4Z7kB\n",
       "q0wgAyfLAxwyHAEXkEU009IuwGUmIEmc1Ubo4dsNNk1I2QFIst5GMs2zNgDICCvgAGnlDYDLRF37\n",
       "BtafyMClAJJBcoHxXhDN8RvC90oDggkQGc7NIJ9yQV2xE0kPS8NsIL1fAcJnQ/ZPSySQ5gdqPACk\n",
       "mRSQZHYyAUWBDmMEuZrhOlwmgoHZYA6QIWgM8eK+ORtgYT2VYeb9AqRAODgtDTm0ALktNaaWdOV1\n",
       "AAAAAElFTkSuQmCC\n",
       "\" style=\"display:inline;vertical-align:middle;\" /></a>, <a class=\"ProveItLink\" href=\"../__pv_it/demonstrations/41c3ad9f29c40b69fd61c49f41684c1b813e9e850/expr.ipynb\"><img src=\"data:image/png;base64,iVBORw0KGgoAAAANSUhEUgAAADMAAAAQBAMAAABJt1qBAAAAMFBMVEX///8AAAAAAAAAAAAAAAAA\n",
       "AAAAAAAAAAAAAAAAAAAAAAAAAAAAAAAAAAAAAAAAAAAv3aB7AAAAD3RSTlMAMs3vmVREEIndIqt2\n",
       "u2aBbGR5AAAACXBIWXMAAA7EAAAOxAGVKw4bAAAA3klEQVQY02NgwACPbO9r2j6AsBmVHVDkLqxm\n",
       "yH5bAGHzB6BKrWDgZdwAYecXoEuxLFCAsDsh1NmZMxXgUhcgYipgMuk4Qhd3OchArh0Hv4IEuNSR\n",
       "DJQNWgBkJC/g/Q4SYFoAl1qs+RNkArsdAwvYBiYkZ7wrAtEsHxg4G0AM4ZlAcAEixVsH8jLzBYb6\n",
       "BJBALZIuRofrQLr+AMN7sAAnsr8c14KkAhg2sYJcwHMASaqWB2gi7wHWKSxgEVW41BIGvgfXgC7c\n",
       "07j6IFik+loBLORvMdzVRwnXjJszFZC4AHM6StvnxMwUAAAAAElFTkSuQmCC\n",
       "\" style=\"display:inline;vertical-align:middle;\" /></a> <a class=\"ProveItLink\" href=\"../__pv_it/demonstrations/d4c1541cf2ce477c86b512ded2e62c9498713e3a0/proof.ipynb\" style=\"text-decoration: none\">&nbsp;&#x22A2;&nbsp;&nbsp;</a><a class=\"ProveItLink\" href=\"../__pv_it/demonstrations/eb388604128b41906bd2db1d44642133b27499120/expr.ipynb\"><img src=\"data:image/png;base64,iVBORw0KGgoAAAANSUhEUgAAAKoAAAAVBAMAAAAkxGgRAAAAMFBMVEX///8AAAAAAAAAAAAAAAAA\n",
       "AAAAAAAAAAAAAAAAAAAAAAAAAAAAAAAAAAAAAAAAAAAv3aB7AAAAD3RSTlMAInZUiRDNmWbv3US7\n",
       "qzJazP2FAAAACXBIWXMAAA7EAAAOxAGVKw4bAAACOklEQVQ4y6WVT2jTYBjGn65L0y6ZzVkcRHHQ\n",
       "g0gVGbjTGB5EUHoVNloRQQ9CBBHxslwcPQiyg/89DBVkn4g9iMzT4mTiP3DMKR67i6IgG5buogff\n",
       "L2nt934mULpcvjdPmt/35smTtwAc9HykEq/0FXunWi4/z555vzn3WlYHYn5tvJntgvn1BgqaZKeW\n",
       "rS9LBKjE3ZDxumm1gUxJp44h+AmYvqrOt9Z82xbL1x+6I1hNZL3/qecyQI6p+1vrQruHtOacKvST\n",
       "Tdeico8QlX9UGxiJpR5BF1Rp0+mwejas9PppEjgvA7K60+XUs7s+apDxQp0LQ+PrZNPRMGCnFAe2\n",
       "vTwRbfbcsZuMamyWyg6DbC+aAROsGXwgm6bDpp0O9fqTeyTfJ8ZNmLOMmm4i5zLIA1047uMCLQdD\n",
       "qvK2Dl+WBt+hGGxgYIzKS0LcEuIxVWYFeVJMIeZuC7FMVfQsHQFTcidgXcrfBR1By4GlakTNBSjX\n",
       "WK+0yUJRbS0X6G/rLozf0jxZT6jJ+mZHDpRdXOUZoLhOlVRI2dWoxi9kN2gdDZtQqeYadbBItxTx\n",
       "Oe0wap28ViF5yn6NURsYrOwDroSjxFWoRlAIo2G76Ycm63XQtz1GpQD082QtYtTzomACJztUD1W7\n",
       "hh+078qxob08WasXNRsPVYe5MLl7bYX2eRSdvCu1Z9Yfx37VwEA97ttCN9+WzH8rkU/fCjal+HyY\n",
       "R/IwiRNMP2GcvcAWjh1JFya2Qk1sKeX2Du1L+M/7CxtOihkKxzT1AAAAAElFTkSuQmCC\n",
       "\" style=\"display:inline;vertical-align:middle;\" /></a></span>"
      ],
      "text/plain": [
       "{a in Real, b in Real, c in Real, d in Real} |- (a + b + c + d) in Real"
      ]
     },
     "metadata": {},
     "output_type": "display_data"
    }
   ],
   "source": [
    "InSet(Add(a,b,c,d), Real).prove(assumptions=[InSet(a,Real), InSet(b,Real), InSet(c, Real), InSet(d, Real)])"
   ]
  },
  {
   "cell_type": "code",
   "execution_count": 80,
   "metadata": {},
   "outputs": [
    {
     "data": {
      "text/html": [
       "<span style=\"font-size:20px;\"><a class=\"ProveItLink\" href=\"../__pv_it/theorems/e9f87a0977d5044ea8daf1040d2f219396bb3d5b0/expr.ipynb\"><img src=\"data:image/png;base64,iVBORw0KGgoAAAANSUhEUgAAADMAAAAQBAMAAABJt1qBAAAAMFBMVEX///8AAAAAAAAAAAAAAAAA\n",
       "AAAAAAAAAAAAAAAAAAAAAAAAAAAAAAAAAAAAAAAAAAAv3aB7AAAAD3RSTlMAIquJdkTvuxBmmd1U\n",
       "zTKBpmoTAAAACXBIWXMAAA7EAAAOxAGVKw4bAAAA0ElEQVQY02NgwAKaq+86PsYmwcCiNoFjfRVW\n",
       "qSXBDAycWKX4FlQASS0UMffduy8AKaaGAiDZiSwT6wGh2RkXQEUYlR0dwPQNqIAQnwGUFSbA/gNE\n",
       "8wpABR6zToAwODIZuDaApWAGS7E6QBhcHxi4wQY82w0EBWC7oAayFTD0B4AY7TBd7GAXAkG/A8N8\n",
       "MIMbJsUK9hcrUOoAgy4PyAUsDvDQCAISa4HaHXh2cYFF7sDDsHYhx2mg3zhU7IT8wCJNpQ2wkC/7\n",
       "vRA18IKrwQEFAwCqvi28/xxvKQAAAABJRU5ErkJggg==\n",
       "\" style=\"display:inline;vertical-align:middle;\" /></a>, <a class=\"ProveItLink\" href=\"../__pv_it/theorems/a259ec76dfb0a5be60b7c83d797520fa82c1dba60/expr.ipynb\"><img src=\"data:image/png;base64,iVBORw0KGgoAAAANSUhEUgAAADEAAAAQBAMAAABNQoq8AAAAMFBMVEX///8AAAAAAAAAAAAAAAAA\n",
       "AAAAAAAAAAAAAAAAAAAAAAAAAAAAAAAAAAAAAAAAAAAv3aB7AAAAD3RSTlMAELvv3c2ZVESJq3Yi\n",
       "MmZ3LnoBAAAACXBIWXMAAA7EAAAOxAGVKw4bAAAA2UlEQVQY02NgwASSKqF7bjIwMCo7oElwL37A\n",
       "mK8GZLAmoMlkdzIw8IFk+AtQJXgTFIHkMiDuF4AKbXJxCQBSXAIKQFIOiKdAJVo3QmgmHpjxUbuX\n",
       "gyieQCj/FO8ECIPxq4D8AZBDDkBlbnI8gDDYPzIwbwDJwFxwjGMDhMEWwMAP0n7ZBQgUwPZATWOZ\n",
       "wNAPcrcQTA8T2G0Q7+SD3M0Ck+EA+4cDKHOB0Q4cJhvgYdAFJFKBHnvABHF/ODzcVHMYS4BijCvz\n",
       "IAJSGrDAkFT+koMSYJ0q4NCBAQD6uylQEVfDpgAAAABJRU5ErkJggg==\n",
       "\" style=\"display:inline;vertical-align:middle;\" /></a> <a class=\"ProveItLink\" href=\"../__pv_it/demonstrations/b4a5ed4a1251cf78acdd06c31fbf5c604bc00f500/proof.ipynb\" style=\"text-decoration: none\">&nbsp;&#x22A2;&nbsp;&nbsp;</a><a class=\"ProveItLink\" href=\"../__pv_it/theorems/a6c5109834da253e63c0a4ff791bacc177a5dc8c0/expr.ipynb\"><img src=\"data:image/png;base64,iVBORw0KGgoAAAANSUhEUgAAAGQAAAAVBAMAAABCslYDAAAAMFBMVEX///8AAAAAAAAAAAAAAAAA\n",
       "AAAAAAAAAAAAAAAAAAAAAAAAAAAAAAAAAAAAAAAAAAAv3aB7AAAAD3RSTlMAInZUiRDNmWbv3US7\n",
       "qzJazP2FAAAACXBIWXMAAA7EAAAOxAGVKw4bAAABq0lEQVQ4y3VTPUjDQBT+0timrWmbQRAEJRWc\n",
       "rFJEnDuLSsDBpdKiiC5CBofiYjcXQceKgwXBQkAoIv5MrYKDuhStzh0E0alLnRx8uaSRq7kHl3d5\n",
       "77573/s5ABr8RWQHAmmB4/yfJTh3ujKSAaZ9TgcfynRXsdc8UcLSj4lg3i9CyKTPWo9RGacIeyYU\n",
       "7q5rVydstrs9kA/VAGImIpx1ytU1ciJiOD8py2JUXlWbcxEzvpBZxs4hcDnmGuuDjt6iJTWTOg/Z\n",
       "HH0B+hr2VuqmJDXenc0GrRtN7XCQ4LeR0xBmdELd/sQzbqYndKAEpcxB5A4iOuQDBumSlky3U0dU\n",
       "vDaiVD5sW9ahZZ3Z5cwjkUG8bR/4tEjqLJcBDxKpI1flotANtTT6WZSsV5t71SOW07HPV4zasmNA\n",
       "ZmyjHuTK7guquCNIGm+yxkFalB/CjE5A/+t+g3GeB1RdrihclFhRpYlRMuxn1QuTWtcWK8AXVex5\n",
       "YXiSL3KzYFNyElx+MrxJPq4Qm2jLr/tMhlx98Whxsxs2/caSSUH0xG5FDqku8mRFDlX4kiVd4EgK\n",
       "7L9BCVjGIG++iQAAAABJRU5ErkJggg==\n",
       "\" style=\"display:inline;vertical-align:middle;\" /></a></span>"
      ],
      "text/plain": [
       "{a in Complex, b in Complex} |- (a + b) in Complex"
      ]
     },
     "metadata": {},
     "output_type": "display_data"
    }
   ],
   "source": [
    "InSet(Add(a,b), Complex).prove(assumptions=[InSet(a, Complex), InSet(b, Complex)])"
   ]
  },
  {
   "cell_type": "code",
   "execution_count": 81,
   "metadata": {},
   "outputs": [
    {
     "data": {
      "text/html": [
       "<span style=\"font-size:20px;\"><a class=\"ProveItLink\" href=\"../__pv_it/theorems/e9f87a0977d5044ea8daf1040d2f219396bb3d5b0/expr.ipynb\"><img src=\"data:image/png;base64,iVBORw0KGgoAAAANSUhEUgAAADMAAAAQBAMAAABJt1qBAAAAMFBMVEX///8AAAAAAAAAAAAAAAAA\n",
       "AAAAAAAAAAAAAAAAAAAAAAAAAAAAAAAAAAAAAAAAAAAv3aB7AAAAD3RSTlMAIquJdkTvuxBmmd1U\n",
       "zTKBpmoTAAAACXBIWXMAAA7EAAAOxAGVKw4bAAAA0ElEQVQY02NgwAKaq+86PsYmwcCiNoFjfRVW\n",
       "qSXBDAycWKX4FlQASS0UMffduy8AKaaGAiDZiSwT6wGh2RkXQEUYlR0dwPQNqIAQnwGUFSbA/gNE\n",
       "8wpABR6zToAwODIZuDaApWAGS7E6QBhcHxi4wQY82w0EBWC7oAayFTD0B4AY7TBd7GAXAkG/A8N8\n",
       "MIMbJsUK9hcrUOoAgy4PyAUsDvDQCAISa4HaHXh2cYFF7sDDsHYhx2mg3zhU7IT8wCJNpQ2wkC/7\n",
       "vRA18IKrwQEFAwCqvi28/xxvKQAAAABJRU5ErkJggg==\n",
       "\" style=\"display:inline;vertical-align:middle;\" /></a>, <a class=\"ProveItLink\" href=\"../__pv_it/theorems/a259ec76dfb0a5be60b7c83d797520fa82c1dba60/expr.ipynb\"><img src=\"data:image/png;base64,iVBORw0KGgoAAAANSUhEUgAAADEAAAAQBAMAAABNQoq8AAAAMFBMVEX///8AAAAAAAAAAAAAAAAA\n",
       "AAAAAAAAAAAAAAAAAAAAAAAAAAAAAAAAAAAAAAAAAAAv3aB7AAAAD3RSTlMAELvv3c2ZVESJq3Yi\n",
       "MmZ3LnoBAAAACXBIWXMAAA7EAAAOxAGVKw4bAAAA2UlEQVQY02NgwASSKqF7bjIwMCo7oElwL37A\n",
       "mK8GZLAmoMlkdzIw8IFk+AtQJXgTFIHkMiDuF4AKbXJxCQBSXAIKQFIOiKdAJVo3QmgmHpjxUbuX\n",
       "gyieQCj/FO8ECIPxq4D8AZBDDkBlbnI8gDDYPzIwbwDJwFxwjGMDhMEWwMAP0n7ZBQgUwPZATWOZ\n",
       "wNAPcrcQTA8T2G0Q7+SD3M0Ck+EA+4cDKHOB0Q4cJhvgYdAFJFKBHnvABHF/ODzcVHMYS4BijCvz\n",
       "IAJSGrDAkFT+koMSYJ0q4NCBAQD6uylQEVfDpgAAAABJRU5ErkJggg==\n",
       "\" style=\"display:inline;vertical-align:middle;\" /></a>, <a class=\"ProveItLink\" href=\"../__pv_it/theorems/b66b5547fa9b0b910f79351152926c658c2718190/expr.ipynb\"><img src=\"data:image/png;base64,iVBORw0KGgoAAAANSUhEUgAAADEAAAAQBAMAAABNQoq8AAAAMFBMVEX///8AAAAAAAAAAAAAAAAA\n",
       "AAAAAAAAAAAAAAAAAAAAAAAAAAAAAAAAAAAAAAAAAAAv3aB7AAAAD3RSTlMAiXZmMiLdVJm77xBE\n",
       "zatgdeJyAAAACXBIWXMAAA7EAAAOxAGVKw4bAAAAw0lEQVQY02NgwAQbp91VdcQizsD0yoC7fwY2\n",
       "maaDDAzM2GRYGmYDyRfIQpppaReAFN+GCUByM5LEWW0IzcnaABMSUnYAkqy3odw4FgEoK6yAA6Sd\n",
       "NwDKd+QxgLISGbgUQDIwIyJ4FCAMjt8Q2isNCCaA7YGaxjUBQu+E6eHcABXZD9XLBpPhAfuHh4GB\n",
       "H2jfAVCYKMDD4ByQ6AXaM4GBEeRqhuvwcJvbyl0G8pOgMcSL++ZsgIX1rG+tKAF2cBo4dGAAAHWD\n",
       "KgtwTxl0AAAAAElFTkSuQmCC\n",
       "\" style=\"display:inline;vertical-align:middle;\" /></a>, <a class=\"ProveItLink\" href=\"../subtraction/__pv_it/theorems/d6724abdc9486f838f4cf63bc1115e85255ce4c00/expr.ipynb\"><img src=\"data:image/png;base64,iVBORw0KGgoAAAANSUhEUgAAADMAAAAQBAMAAABJt1qBAAAAMFBMVEX///8AAAAAAAAAAAAAAAAA\n",
       "AAAAAAAAAAAAAAAAAAAAAAAAAAAAAAAAAAAAAAAAAAAv3aB7AAAAD3RSTlMAMs3vmVREEIndIqt2\n",
       "u2aBbGR5AAAACXBIWXMAAA7EAAAOxAGVKw4bAAAA4UlEQVQY02NgwAIqbiqdkgCzGJUdUGR4Nj9g\n",
       "978CYfMHoEj5ZDAw8EGl8guQZRgdrgPJLRBOJ4Q6O3OmApDiLrgAJOsgYipgMuk4hMfLBbOaa8fB\n",
       "r2BaHSqwmrEBykpewPsdRDMtgApIsD2AMNjtGFgUwFIwZyxhOwBhsHxg4AQbIDwTCC6A7YIayHyB\n",
       "oT4BxKiF6eIFuxAI6g8wvAczOGFSbGB/sQGlAhg2sYJcwHMAHhrZQMIJqP0A6xQWsIgqPAwvebFH\n",
       "Av3Gvqdx9UGwSPU1WHhVXP7phRoXGTfBAQUDAJ+SNfXA0lXRAAAAAElFTkSuQmCC\n",
       "\" style=\"display:inline;vertical-align:middle;\" /></a> <a class=\"ProveItLink\" href=\"../__pv_it/demonstrations/e3791579ea0449e69292ea3fab6f9490ad3634590/proof.ipynb\" style=\"text-decoration: none\">&nbsp;&#x22A2;&nbsp;&nbsp;</a><a class=\"ProveItLink\" href=\"../__pv_it/demonstrations/a12abcbb76f4eed389e805c4f75ae4624d95ce870/expr.ipynb\"><img src=\"data:image/png;base64,iVBORw0KGgoAAAANSUhEUgAAAKoAAAAVBAMAAAAkxGgRAAAAMFBMVEX///8AAAAAAAAAAAAAAAAA\n",
       "AAAAAAAAAAAAAAAAAAAAAAAAAAAAAAAAAAAAAAAAAAAv3aB7AAAAD3RSTlMAInZUiRDNmWbv3US7\n",
       "qzJazP2FAAAACXBIWXMAAA7EAAAOxAGVKw4bAAACQ0lEQVQ4y6VVQWgTQRR9bbrdptmYPRQEsbKK\n",
       "hYJVUhHBnkrxJCoBDyJUEhTRi7AHKeKlexIPBfEgtipYUAyOCEVE66lrwYN6MNTqOYIo7aXFEi96\n",
       "8M/sZrN/2IWQzmV+3u6+/+fN+z8AbHS8ulKfdBc7Z805OmKcfHphzzhwJOFt48N8G5w/72FYxw7O\n",
       "4uw/F0Yl6YNet51St9Bb4oh5gOqccWF6cXQx3AtNWXKefugWkGugT8v+y6I0eRdZhh4O96VmDRld\n",
       "uRjQQzLdDcIRIdSZv1pSPw9HE1lPoA1WKdMVFb0eCiF/Z7BfkwZZ3etw1qv7vmgkE8N1DgxObJBM\n",
       "p5TBLjWdVvsRBDLZW9tqMFbjT6lsM5JdRdNnQO4OPpNMN1XRTcvvGA8v5jFxzMKcZ6yZBrIOI3mi\n",
       "A+c8TNF2TLFGXeG+DIIHZIdN9JMhcEOIOSFeSINUUCDEFOLZfSFqFAVnaQGYlpmADQmvCVrqKP5A\n",
       "xJr1UV5gtVKSpWK8tKyv39ZDGH+leDKejC7wvRUpUHZwm3uA7DpdipOUHY3V+I2+TdrHVBER6xvp\n",
       "VyxgmT4p4lvGZqx10jpOUvDku3HWLeQro9RHapQ4rd6qKf3IGpaTqZqs1rxnuYyVDNDDnbWMMdcN\n",
       "jAlcjIoduWyfqQLrlHfl9OAh7qzV65qMx28NceD8/u8rlOd58ONTKZpZj6p07P56Um+hnd6SVgod\n",
       "+eqjYFOKz4dFpA+TJMD0UsbZO2xj7U57MLkd1tSSupzOSbtT/vP+A1R4g2HsTj6xAAAAAElFTkSu\n",
       "QmCC\n",
       "\" style=\"display:inline;vertical-align:middle;\" /></a></span>"
      ],
      "text/plain": [
       "{a in Complex, b in Complex, c in Complex, d in Complex} |- (a + b + c + d) in Complex"
      ]
     },
     "metadata": {},
     "output_type": "display_data"
    }
   ],
   "source": [
    "InSet(Add(a,b,c,d), Complex).prove(assumptions=[InSet(a, Complex), InSet(b, Complex), InSet(c, Complex), InSet(d,Complex)])"
   ]
  },
  {
   "cell_type": "code",
   "execution_count": 82,
   "metadata": {},
   "outputs": [
    {
     "data": {
      "text/html": [
       "<span style=\"font-size:20px;\"><a class=\"ProveItLink\" href=\"../../ordering/__pv_it/theorems/27094ede24067904bb8353fa305df8461a3a4be40/expr.ipynb\"><img src=\"data:image/png;base64,iVBORw0KGgoAAAANSUhEUgAAADMAAAAQBAMAAABJt1qBAAAAMFBMVEX///8AAAAAAAAAAAAAAAAA\n",
       "AAAAAAAAAAAAAAAAAAAAAAAAAAAAAAAAAAAAAAAAAAAv3aB7AAAAD3RSTlMAIquJdkTvuxBmmd1U\n",
       "zTKBpmoTAAAACXBIWXMAAA7EAAAOxAGVKw4bAAAA3ElEQVQY02NgwADd32sbGMy+BTBgATWsCgwc\n",
       "H7DJMGgLWDIwJGCV0ingFWDYgCLkvnv3BRCtOIXxAqpUrAeUocj0wBksxajs6AASYLwBU6PIUMAe\n",
       "AJIKE2D/ARIAmg+XesWxAyjFkcnABTaXlwEhxXngONCFXB8YuA1AAs92A0EBRIpBgwkoxVbA0A/2\n",
       "eDuSLoYmDqBJ/Q4M88EC3MhSfA5A/f0HGHR5QC5gcYBJ1QGxH1CK3YFnFxdY5A5MCsTgAnqeQ8VO\n",
       "yA8s0lTaAKbffgPq4LiAElDB1buRBQCzkDPDLBuujwAAAABJRU5ErkJggg==\n",
       "\" style=\"display:inline;vertical-align:middle;\" /></a>, <a class=\"ProveItLink\" href=\"../../ordering/__pv_it/theorems/5d56aa038eb34c97b005be8161434236efec38e90/expr.ipynb\"><img src=\"data:image/png;base64,iVBORw0KGgoAAAANSUhEUgAAADEAAAAQBAMAAABNQoq8AAAAMFBMVEX///8AAAAAAAAAAAAAAAAA\n",
       "AAAAAAAAAAAAAAAAAAAAAAAAAAAAAAAAAAAAAAAAAAAv3aB7AAAAD3RSTlMAELvv3c2ZVESJq3Yi\n",
       "MmZ3LnoBAAAACXBIWXMAAA7EAAAOxAGVKw4bAAAA5UlEQVQY02NgQAcin1QFGCZ/bmBgVHZAk1Ln\n",
       "WMDA+AHIYE1Ak1lyYB4DgwGQwV+AJrNcgfUAA8igfgGoyCYXlwAQveY1TwBYZgpUonUjlLGG68JO\n",
       "sEzU7uUgPk8gzLQ1DApMDUAZxq8C8gdADjmAkLnG6AiUYf/IwLwBJMOAkOErKAK6jS2AgX8CkH/Z\n",
       "BQgUIDIMC7mAMiwTGPpB7hZC0sMgxegA9k4+yN0syDK8G4C6+S8w2oH43BtgMrpAvBcow/WACRI8\n",
       "4TAZEANoOwPjyjyIgJQGJDCufgaqZwxADq9OFRdkPgBHFjKLuGzoKQAAAABJRU5ErkJggg==\n",
       "\" style=\"display:inline;vertical-align:middle;\" /></a>, <a class=\"ProveItLink\" href=\"../__pv_it/demonstrations/51d6f7d63462c7f89f21491a05fc1730fb25de860/expr.ipynb\"><img src=\"data:image/png;base64,iVBORw0KGgoAAAANSUhEUgAAADMAAAAQBAMAAABJt1qBAAAAMFBMVEX///8AAAAAAAAAAAAAAAAA\n",
       "AAAAAAAAAAAAAAAAAAAAAAAAAAAAAAAAAAAAAAAAAAAv3aB7AAAAD3RSTlMAMs3vmVREEIndIqt2\n",
       "u2aBbGR5AAAACXBIWXMAAA7EAAAOxAGVKw4bAAAA7UlEQVQY02NgwACVfy8VMDR/TgCxGZUdUOSu\n",
       "sm1gYP8AYfMHoEjtXNDHwGAAYecXoEhtvcC0gGEChN0Joc7OnKkAone94VKASamAyaTjUF27uAVO\n",
       "gKW4dhz8ChLgUocZuIvhAm8CSCp5Ae93kADQfLiUCPt0oBS7HQML2AYmBoQUX0As0IUsHxg4G0AC\n",
       "wjOB4AJEimE7N1CK+QJDPdjjtUi6GKrZgQbWH2B4DxbgRJZiPADUXx/AsIkV5AKeAzCpi0B8ECjF\n",
       "e4B1CgtYRBUmBWKAnMa+p3H1QbBI9TVIeAl9BupgV0AJu4ybM5EFACrbQGhFcyp8AAAAAElFTkSu\n",
       "QmCC\n",
       "\" style=\"display:inline;vertical-align:middle;\" /></a> <a class=\"ProveItLink\" href=\"../__pv_it/demonstrations/7ca06f5753acf1757aa0c8e3e4357b9f7f1c592a0/proof.ipynb\" style=\"text-decoration: none\">&nbsp;&#x22A2;&nbsp;&nbsp;</a><a class=\"ProveItLink\" href=\"../__pv_it/demonstrations/f5be4aaa5b7242c2fc8ed278339e0dc5d19f26df0/expr.ipynb\"><img src=\"data:image/png;base64,iVBORw0KGgoAAAANSUhEUgAAALgAAAAXBAMAAABKV5jPAAAAMFBMVEX///8AAAAAAAAAAAAAAAAA\n",
       "AAAAAAAAAAAAAAAAAAAAAAAAAAAAAAAAAAAAAAAAAAAv3aB7AAAAD3RSTlMAInZUiRDNmWbv3US7\n",
       "qzJazP2FAAAACXBIWXMAAA7EAAAOxAGVKw4bAAACJklEQVRIx7WVP0jrUBTGT5vGtDFJM4kIQhTc\n",
       "RDKI0xs6C0onh6JUEdE3iBlE3Cw4OOooPkFFRMyiiAgOYnXyTwfRIrpIeZvioEidPU1y09xrTIRg\n",
       "IGnOd8/368m5NzcAv3UY8ItH0bqqEQhqCDyuR4DvMzG/WxqDxNo/Au/28fAX66ykbH3JUv4a8QKj\n",
       "SfoxQJ5Uzg/7VdTATsfQTPVrVlqHMUaSNxIFSIFQKq2WzkGg/rux4NpoAeJVVgE4ycICC/8DIyCS\n",
       "ylPUGKe5Nlqow10FoBftTmKnaVotkJu1pjq8xxfeCz+Bj2P/7Oc47CCVq4/xjAufxjNWbtNo52T7\n",
       "bRg8Vu56B0hcW/du62VVgisXPoHnkSpVKSf/kc2rIXDblLSa0aDW4YqRy5E3dBNRyyCsU06uCikt\n",
       "GF4zIZhbsuD1CVVhnrsgEa534RXEDN4KprmzYpr4oGhLZ7wCgXtSbJPyWpOfTDyKDlzOPnjgqSLk\n",
       "96iy0HaiB1fumBqtyge9lfPXORJhW/IaLNJOXOZz2WC4Y+KsfopeOPyXSHSGeTrccdT8pSvY0hC4\n",
       "bUra+5O7PKUKRi8k6kNB47YFyikXJIOBJ95ouGMSMlY06u4btW7OkOgZJ/6mv7WLXgrlWWbhyQ8f\n",
       "93SKbRLtyRq6sruoTK3idYDAxYrfG/q9wCgtzu/BpemzAyYNv43re4FRZoP3+9Mo37JYMXh8MApc\n",
       "CvlGxrQI8LbA0U+b2I6zGhUDzgAAAABJRU5ErkJggg==\n",
       "\" style=\"display:inline;vertical-align:middle;\" /></a></span>"
      ],
      "text/plain": [
       "{a in Natural, b in Natural, d in Natural} |- (a + b + 1 + d) in NaturalPos"
      ]
     },
     "metadata": {},
     "output_type": "display_data"
    }
   ],
   "source": [
    "InSet(Add(a,b,one,d), NaturalPos).prove(assumptions=[InSet(a, Natural), InSet(b, Natural), InSet(c, Natural), InSet(d, Natural)])"
   ]
  },
  {
   "cell_type": "code",
   "execution_count": 83,
   "metadata": {},
   "outputs": [
    {
     "data": {
      "text/html": [
       "<span style=\"font-size:20px;\"><a class=\"ProveItLink\" href=\"../__pv_it/theorems/a259ec76dfb0a5be60b7c83d797520fa82c1dba60/expr.ipynb\"><img src=\"data:image/png;base64,iVBORw0KGgoAAAANSUhEUgAAADEAAAAQBAMAAABNQoq8AAAAMFBMVEX///8AAAAAAAAAAAAAAAAA\n",
       "AAAAAAAAAAAAAAAAAAAAAAAAAAAAAAAAAAAAAAAAAAAv3aB7AAAAD3RSTlMAELvv3c2ZVESJq3Yi\n",
       "MmZ3LnoBAAAACXBIWXMAAA7EAAAOxAGVKw4bAAAA2UlEQVQY02NgwASSKqF7bjIwMCo7oElwL37A\n",
       "mK8GZLAmoMlkdzIw8IFk+AtQJXgTFIHkMiDuF4AKbXJxCQBSXAIKQFIOiKdAJVo3QmgmHpjxUbuX\n",
       "gyieQCj/FO8ECIPxq4D8AZBDDkBlbnI8gDDYPzIwbwDJwFxwjGMDhMEWwMAP0n7ZBQgUwPZATWOZ\n",
       "wNAPcrcQTA8T2G0Q7+SD3M0Ck+EA+4cDKHOB0Q4cJhvgYdAFJFKBHnvABHF/ODzcVHMYS4BijCvz\n",
       "IAJSGrDAkFT+koMSYJ0q4NCBAQD6uylQEVfDpgAAAABJRU5ErkJggg==\n",
       "\" style=\"display:inline;vertical-align:middle;\" /></a> <a class=\"ProveItLink\" href=\"../__pv_it/demonstrations/306c88a73c1db9b5a5cf032eab4aadb745af9d550/proof.ipynb\" style=\"text-decoration: none\">&nbsp;&#x22A2;&nbsp;&nbsp;</a><a class=\"ProveItLink\" href=\"../__pv_it/demonstrations/ce414699ebcf5aa7595d8f1791cb9ebf6212d2430/expr.ipynb\"><img src=\"data:image/png;base64,iVBORw0KGgoAAAANSUhEUgAAAF8AAAAVBAMAAADSoS/MAAAAMFBMVEX///8AAAAAAAAAAAAAAAAA\n",
       "AAAAAAAAAAAAAAAAAAAAAAAAAAAAAAAAAAAAAAAAAAAv3aB7AAAAD3RSTlMAInZUiRDNmWbv3US7\n",
       "qzJazP2FAAAACXBIWXMAAA7EAAAOxAGVKw4bAAABVklEQVQ4y3WTvUvDQBiHfzWNSW1sO7tY/QtK\n",
       "EefQURCyiSI0IIKLEMGhuJjNtaPSJdBNEMSpW6ObW0Fnyewk9QNH37srkve4uyHcPcfzflzuALRg\n",
       "Hja+1LFsPFj4FlDtnXHmPmcUKYWBwo2BIxxo+ZcT+hzrsSX1UvgZqrlCk8VWU9R5pQuS1oBgBudb\n",
       "oe5iaxqJrUgTJN0mMUHjkws7sgK9CUnPgT4Jv1w43Xyhs5hpgqQnwHqIxpwJ7k/Ub8GPxfziVoy7\n",
       "fzpWwhcTqKVaG86QJ1B0RCWFqM9VrBsVy4vRpCgfXFB0JJt2eNMrIaYd1LUMilJJQQ6fHysd+GUE\n",
       "J+M9KPoE+EORjQmFe0081/6bpLs0G2O/YMJqGtAt8EIuKPpOs73eG/ixvg5Ezffa5VO0KLNuebFm\n",
       "vN1+Ul5NyouB+T08Wt4JKrmZH9qEwPJGK22LsGGkf2WHVjNTR8vmAAAAAElFTkSuQmCC\n",
       "\" style=\"display:inline;vertical-align:middle;\" /></a></span>"
      ],
      "text/plain": [
       "{b in Complex} |- (0 + b) = b"
      ]
     },
     "metadata": {},
     "output_type": "display_data"
    }
   ],
   "source": [
    "Add(zero, b).zero_eliminations(assumptions=[InSet(b,Complex)])"
   ]
  },
  {
   "cell_type": "code",
   "execution_count": 84,
   "metadata": {},
   "outputs": [
    {
     "data": {
      "text/html": [
       "<span style=\"font-size:20px;\"><a class=\"ProveItLink\" href=\"../../ordering/__pv_it/theorems/4aa8d696b1f407d6126de9f51a052e8d90e0848c0/expr.ipynb\"><img src=\"data:image/png;base64,iVBORw0KGgoAAAANSUhEUgAAADMAAAAQBAMAAABJt1qBAAAAMFBMVEX///8AAAAAAAAAAAAAAAAA\n",
       "AAAAAAAAAAAAAAAAAAAAAAAAAAAAAAAAAAAAAAAAAAAv3aB7AAAAD3RSTlMAIquJdkTvuxBmmd1U\n",
       "zTKBpmoTAAAACXBIWXMAAA7EAAAOxAGVKw4bAAAAzElEQVQY02NgwABz0+tvp09gwAoKhBiCpjdg\n",
       "lxJmYOdTwCXFJXABRch99+4LcKkCZJlYD4Qupg6QgYzKjg4gAcYbSAY+PysAZIQJsP8ACfAKwKXE\n",
       "bv8GmcCRycC1ASyF5IyZvSCa6wMDtwGI8Ww3EBRApNg7QV5mK2DoDwAJtCPp4ltQAaT7HRjmgwW4\n",
       "kf21ThwkdYBBlwfkAhYHJKl2FqCJ7A48u7jAInfgUlIMnBNKgS5UsRPyA4s0lTbAQr6Qofz+AeTg\n",
       "CK7ejRxyAISENKeL/c93AAAAAElFTkSuQmCC\n",
       "\" style=\"display:inline;vertical-align:middle;\" /></a>, <a class=\"ProveItLink\" href=\"../../ordering/__pv_it/theorems/6e5cad5b2984ed0d75bd47bd0c542ec447a4f3570/expr.ipynb\"><img src=\"data:image/png;base64,iVBORw0KGgoAAAANSUhEUgAAADEAAAAQBAMAAABNQoq8AAAAMFBMVEX///8AAAAAAAAAAAAAAAAA\n",
       "AAAAAAAAAAAAAAAAAAAAAAAAAAAAAAAAAAAAAAAAAAAv3aB7AAAAD3RSTlMAELvv3c2ZVESJq3Yi\n",
       "MmZ3LnoBAAAACXBIWXMAAA7EAAAOxAGVKw4bAAAA1ElEQVQY02NgQAdPjfRDjB4AGYzKDmhSCqcY\n",
       "uh4JABmsCegyJxmYeBcAGfwFmDJsBwKAjH4BqMgmF5cAuIwCkDEFKtG6EaGHSxBkWtTu5SA+TyCS\n",
       "aZdKDwDd9lVA/gDIIQfgModDvoD0s39kYN4AkkFywTtREM0WwMA/AUhfdgECBYgMkxzIpywTGPpB\n",
       "7hZC0sOboAjxTj7I3SzI/sk9BJK5wGgH4nNvQJIR4gYax/WACRI84XCZYwx8DzSArl6ZBxGQ0hCA\n",
       "hbUOg1I8cph1qkBCBwoAxe43BugJR6MAAAAASUVORK5CYII=\n",
       "\" style=\"display:inline;vertical-align:middle;\" /></a>, <a class=\"ProveItLink\" href=\"../__pv_it/demonstrations/d550e8309ef79ca46e4c9fb5617a392ea678789b0/expr.ipynb\"><img src=\"data:image/png;base64,iVBORw0KGgoAAAANSUhEUgAAADEAAAAQBAMAAABNQoq8AAAAMFBMVEX///8AAAAAAAAAAAAAAAAA\n",
       "AAAAAAAAAAAAAAAAAAAAAAAAAAAAAAAAAAAAAAAAAAAv3aB7AAAAD3RSTlMAiXZmMiLdVJm77xBE\n",
       "zatgdeJyAAAACXBIWXMAAA7EAAAOxAGVKw4bAAAAvUlEQVQY02NgQAe2K+dfW2nAgA1MiGM4Z7kB\n",
       "q0wgAyfLAxwyHAEXkEU009IuwGUmIEmc1Ubo4dsNNk1I2QFIst5GMs2zNgDICCvgAGnlDYDLRF37\n",
       "BtafyMClAJJBcoHxXhDN8RvC90oDggkQGc7NIJ9yQV2xE0kPS8NsIL1fAcJnQ/ZPSySQ5gdqPACk\n",
       "mRSQZHYyAUWBDmMEuZrhOlwmgoHZYA6QIWgM8eK+ORtgYT2VYeb9AqRAODgtDTm0ALktNaaWdOV1\n",
       "AAAAAElFTkSuQmCC\n",
       "\" style=\"display:inline;vertical-align:middle;\" /></a>, <a class=\"ProveItLink\" href=\"../__pv_it/demonstrations/41c3ad9f29c40b69fd61c49f41684c1b813e9e850/expr.ipynb\"><img src=\"data:image/png;base64,iVBORw0KGgoAAAANSUhEUgAAADMAAAAQBAMAAABJt1qBAAAAMFBMVEX///8AAAAAAAAAAAAAAAAA\n",
       "AAAAAAAAAAAAAAAAAAAAAAAAAAAAAAAAAAAAAAAAAAAv3aB7AAAAD3RSTlMAMs3vmVREEIndIqt2\n",
       "u2aBbGR5AAAACXBIWXMAAA7EAAAOxAGVKw4bAAAA3klEQVQY02NgwACPbO9r2j6AsBmVHVDkLqxm\n",
       "yH5bAGHzB6BKrWDgZdwAYecXoEuxLFCAsDsh1NmZMxXgUhcgYipgMuk4Qhd3OchArh0Hv4IEuNSR\n",
       "DJQNWgBkJC/g/Q4SYFoAl1qs+RNkArsdAwvYBiYkZ7wrAtEsHxg4G0AM4ZlAcAEixVsH8jLzBYb6\n",
       "BJBALZIuRofrQLr+AMN7sAAnsr8c14KkAhg2sYJcwHMASaqWB2gi7wHWKSxgEVW41BIGvgfXgC7c\n",
       "07j6IFik+loBLORvMdzVRwnXjJszFZC4AHM6StvnxMwUAAAAAElFTkSuQmCC\n",
       "\" style=\"display:inline;vertical-align:middle;\" /></a> <a class=\"ProveItLink\" href=\"../__pv_it/demonstrations/0d1cbfe03dd8ac3a76e1b5ade9de9b0d3838d2c60/proof.ipynb\" style=\"text-decoration: none\">&nbsp;&#x22A2;&nbsp;&nbsp;</a><a class=\"ProveItLink\" href=\"../__pv_it/demonstrations/8dc0b831600ecfb8eb3b7369cad6f150145aeec20/expr.ipynb\"><img src=\"data:image/png;base64,iVBORw0KGgoAAAANSUhEUgAAAJYAAAAuBAMAAAA4tv3JAAAAMFBMVEX///8AAAAAAAAAAAAAAAAA\n",
       "AAAAAAAAAAAAAAAAAAAAAAAAAAAAAAAAAAAAAAAAAAAv3aB7AAAAD3RSTlMAInZUiRDNmWbv3US7\n",
       "qzJazP2FAAAACXBIWXMAAA7EAAAOxAGVKw4bAAACbElEQVRIx+2WMWgUQRSG/+Syt7nshdtaEljF\n",
       "QJrIGUTwGiUIAUG5VkjYa4I2whUSxCZXSQpBFMQkWgQMiCuBlLHKmUasDGcIlmdjYZPo5mwEyZvc\n",
       "xbw32YHhthKd4mbn35l/3755s98B8NF169HGvcXuvbxAji8kzHE+LFs4fX2GUbmskjQtW7UJK0a2\n",
       "zMdujY/WO33h6MW9mv5ax4LXQr94Zk7MHO/0G0fPy2gZ4UIfJeIpv3cx0esaLLxUIm7ze3fV1m6f\n",
       "DqTXnTOftKUTo00pDE/sUiKucy9l/NbPt4SX87Mc+mLpqaJbF4L3GB8pEQ/U9f1ItVW8pJULcJeF\n",
       "V6aFXCCWrujCzRpmqbvE43pOW7mHgStt+0VlT0oFBVLcKHq9FEVbdNWO+1jAnPIHdjWvXB3hmoiL\n",
       "rDeKPIxcXc/9Czi/VHq4F71jGOCR3Ecqr7kyXxoGmpfzA/171Jd4vjZpYhE7GV94NSmHfGmBKnRN\n",
       "eMUYrJwHHvK4aFPzQeaVK+IarOWrwos2sU/WxCZK1Wq7pP60b/SMxo3hc7Imtu9p6bk6PyKF6bNf\n",
       "GuT+hnsNNJPqHjZ1r6pcfE/k6VyH+SgnCfLLgHdI0YbkcCqNlxZIT9C9Va+P/y1N+4tYa0KrqMsl\n",
       "+rFhrQGtot1SKLJgrQGtQolPnOZk1prQykF0aG3BWhNamdK2tmCtCa1MyTbGrFhrRCtTwhnne4e1\n",
       "jEMnWWtEK1Mul/HEirUmtDKFrPdtWGtEq/hX4MU2rDWilXnFh9GXuFcya01oZV6/VQ4tWGtEK1M+\n",
       "4z1sWGtEK1cm1WFKxVqppGOtVP451h4A+FrOhO20ETQAAAAASUVORK5CYII=\n",
       "\" style=\"display:inline;vertical-align:middle;\" /></a></span>"
      ],
      "text/plain": [
       "{a in Real, b in Real, c in Real, d in Real} |- (a + b + c + d) =  \\\\ (a + c + d + b)"
      ]
     },
     "metadata": {},
     "output_type": "display_data"
    }
   ],
   "source": [
    "Add(a,b,c,d).commutation(1,3, assumptions=[InSet(a,Real), InSet(b,Real), InSet(c, Real), InSet(d,Real)])"
   ]
  },
  {
   "cell_type": "code",
   "execution_count": 85,
   "metadata": {},
   "outputs": [
    {
     "data": {
      "text/html": [
       "<span style=\"font-size:20px;\"> <a class=\"ProveItLink\" href=\"../__pv_it/demonstrations/87a6d064b3aefcef57e24ba23ff48088898053380/proof.ipynb\" style=\"text-decoration: none\">&nbsp;&#x22A2;&nbsp;&nbsp;</a><a class=\"ProveItLink\" href=\"../__pv_it/demonstrations/1a261800a9827484c067b9ffa8df29409ab24d430/expr.ipynb\"><img src=\"data:image/png;base64,iVBORw0KGgoAAAANSUhEUgAAAQQAAAAuBAMAAAA8ZnrdAAAAMFBMVEX///8AAAAAAAAAAAAAAAAA\n",
       "AAAAAAAAAAAAAAAAAAAAAAAAAAAAAAAAAAAAAAAAAAAv3aB7AAAAD3RSTlMAInZUiRDNmWbv3US7\n",
       "qzJazP2FAAAACXBIWXMAAA7EAAAOxAGVKw4bAAADYElEQVRYw+2XTWgTQRTHXzbZ5mOTNIpQ6Ske\n",
       "xJMopfSaHISeYuO9Yi6FohR7KE0VxeClJzEgCrZKA1XUQCDkYi9C2oNgK1JEqArRHApKLlZKAn5g\n",
       "OpvNtvve7qS7U8mpA5sw/7w38983s5P9AUAEut3ojNLZ/zVyGOCCrcAS6Q+yq5YkYt/0O6IcG14z\n",
       "DfUNd/2Ny09JhOfceeqThUgZJMkpkDeuEguuMowUcdgkxEzlKuBuYOEJHecKfMbKxek6+xxDmld1\n",
       "dEZPXdK+QhHwZ5EibcOlFFKYViBZu4Mq7dvsicJbrICkWpjF1QOjhYG2WIfQT6Qo89CbQgrA9wmc\n",
       "tWfBHdW+Y0mqaBb8qFpDVhZCOQj9IxNCLEOU+L4W3oC1hR60GaasLKgLu0UU5TmJkSLUwu1EFU/4\n",
       "YPNU0cqCZ91oYZxj4UcUK+HTX0jMcSAWgknXHzxhIwP3rCz4Wmt6Pa+2AixyLBRMiv5E6EqcWmBt\n",
       "FU0oNwGuJS0suLPGKszvWWCuHqquWg9KmSrqHjUqvohmAcXcYgefN59/MZfPs1rLvwHuFo1K20J4\n",
       "i2PBeD93ACvhKgS3kXIUaBVeMwtVvBDMQsaiCgqqgvVCuONwBCm9dWrhVaXy6wNS5gC+4pVf1apg\n",
       "XoiccS+sWFrYBDiJT4p1bSHQyj/GWXGAR+RcYHvBcjuWjVVIqB8jETyY61k6nUOKL2M+F+AvzuoD\n",
       "6T6eMBiX6RPhUY88b9xoocauysIEHj7QbDbJWfgyvUb3y43me2w8vZEkEw7fJCdF6FPjIxsf/QEF\n",
       "qsbegOnfUEjZtcBR+tFvvkljb8k0vJCiZDorM/jH5a6/NKnvAqiNdt9CkLy5uaJdt3ACDtthswkW\n",
       "B8+MOMwXRxmrzBbOlGwOUDowygzycEYyHY4dkUYcZeQUF2fGwAnSiKNMK9MaZ2YdIY04yvj5OONP\n",
       "OkEacZQZ4uOMjir2kEYcZab4OKOjij2kEUeZcT7O+FJOkEYcZRb5OKOjij2kEUYZNZOHMy1UsY00\n",
       "wiijZvJwRsmCA6QRRhk1k4cz7pwTpBFHmRU+zuioYg9pxFEmwccZHVXsIY04ytT4OBMoOkEacZTp\n",
       "kNnvCGnEUaZD5owzpBFHmWW7qLJfnDjKjNpFlf3ixFGGm2kXVbS4HQRRhJlpyKPXAAAAAElFTkSu\n",
       "QmCC\n",
       "\" style=\"display:inline;vertical-align:middle;\" /></a></span>"
      ],
      "text/plain": [
       "|- (1 + 2 + 3 + 4 + 5 + 6 + 1) =  \\\\ (1 + 2 + 3 + (4 + 5) + 6 + 1)"
      ]
     },
     "metadata": {},
     "output_type": "display_data"
    }
   ],
   "source": [
    "Add(one, two, three, four, five, six, one).association(3, length=2, assumptions = [], auto_simplify=False)\n",
    "#Equals(subtract(two, one),one), Equals(subtract(one, one), zero), Equals(subtract(three, one), two), Less(zero,Less(one, Less(two, three)))"
   ]
  },
  {
   "cell_type": "code",
   "execution_count": 86,
   "metadata": {},
   "outputs": [
    {
     "data": {
      "text/html": [
       "<a class=\"ProveItLink\" href=\"../__pv_it/demonstrations/9633bd47681fd34d000c170ab4a695e6e4932de80/expr.ipynb\"><img src=\"data:image/png;base64,iVBORw0KGgoAAAANSUhEUgAAAKkAAAAVBAMAAADP89MSAAAAMFBMVEX///8AAAAAAAAAAAAAAAAA\n",
       "AAAAAAAAAAAAAAAAAAAAAAAAAAAAAAAAAAAAAAAAAAAv3aB7AAAAD3RSTlMAInZUiRDNmWbv3US7\n",
       "qzJazP2FAAAACXBIWXMAAA7EAAAOxAGVKw4bAAAB2ElEQVQ4y2NgYBBgIB/g1MtkQIGpm3BJmADx\n",
       "qwA0QfGyc6gCjC41G9DU8C0FOqkB3TiIQtYEBtbr+WimMh5g8Ec1JJyB+TOqmtiyr0AyFd1UiEJ2\n",
       "kG36MFN3QCheAQbOCSgi+gas3yAsbpjzmECmtqObClHIyYBsqhGE4vzKwPsRRWTnBgaoqcwKyKZy\n",
       "gnWGIQICotAMm6m8Cxh4/6GIAE37gc1UNrB5rF4KCNeCFJZgMxUIuD6giexqwGYqywUIR8uVAVlh\n",
       "Bg5T3yugijy6+wCbqRwJUF5XKbLCxThMXYsuAksDqKYyT4DJmxUiKZyNMLVq1aqZq1ZBjGM/gC7C\n",
       "MB+oiH3VqpWzVq26ADeV7wPcHduuMsAVzsbu1l4GVJF3DAznDbC4lXsCwtSjCIXYQ4DZgUEQReR/\n",
       "AHZTmRfAQ+AiksJDWE19wsCgiiIyFxICmLF1ABZbhcgKfUFMfwFUUxmXl5cvQBHpwEyvLKB8wu6A\n",
       "lrIgCl8BWXfn5zagmMH1////BBQR7nJY6QIzlffmtxtAlWBRVi14LoAo5HqAnIuNMIo0DBFmBWSe\n",
       "FJiMQi+6OAqQeTswTMUQ4UYxoQJH+XqQgkIbVGRiBzGUmMqDq4phVKDAVEXswgBo4o6LI3UuYwAA\n",
       "AABJRU5ErkJggg==\n",
       "\" style=\"display:inline;vertical-align:middle;\" /></a>"
      ],
      "text/plain": [
       "(1 + 2 + 3 + 1) > 3"
      ]
     },
     "metadata": {},
     "output_type": "display_data"
    }
   ],
   "source": [
    "greater(Add(one, two, three, one), three)"
   ]
  },
  {
   "cell_type": "code",
   "execution_count": 87,
   "metadata": {},
   "outputs": [
    {
     "data": {
      "text/html": [
       "<span style=\"font-size:20px;\"><a class=\"ProveItLink\" href=\"../__pv_it/demonstrations/461319c14ad605ae443f7641bdd5329eb9aaaa9e0/expr.ipynb\"><img src=\"data:image/png;base64,iVBORw0KGgoAAAANSUhEUgAAADMAAAAQBAMAAABJt1qBAAAAMFBMVEX///8AAAAAAAAAAAAAAAAA\n",
       "AAAAAAAAAAAAAAAAAAAAAAAAAAAAAAAAAAAAAAAAAAAv3aB7AAAAD3RSTlMAIomZu0QQVHbN72bd\n",
       "Mqv0UZE7AAAACXBIWXMAAA7EAAAOxAGVKw4bAAAA1klEQVQY02NgwAA7l/jPWbIBxBJSdkWTc5Bj\n",
       "iNuSwMDAZsBQX4AmJcTAwvuAgYHjO0P+BAwpZgGgGOtSBn6IFIfPmZMIKQcwsx5sJ+uMBIQuvrQH\n",
       "YLHTYAHJBCQDr1QKABm8fW/BAhMRdknN+dMGYUJcOAHJGbszoUyubyDNa86cOXMEKsWSDbKe9wID\n",
       "y3cgzeaApIvXwA1I83+DSDEcQPaXrQjItAcQAxk6kKVSOIAmcm+A+osTHlwOwkBRUMAGG0OCl+1J\n",
       "GDzkHRlc5iMHLKsKNKCgAAD1NDiww7nWBQAAAABJRU5ErkJggg==\n",
       "\" style=\"display:inline;vertical-align:middle;\" /></a> <a class=\"ProveItLink\" href=\"../__pv_it/demonstrations/ac457a13296c9d43e816afd396bff8f11c36fb050/proof.ipynb\" style=\"text-decoration: none\">&nbsp;&#x22A2;&nbsp;&nbsp;</a><a class=\"ProveItLink\" href=\"../__pv_it/demonstrations/9633bd47681fd34d000c170ab4a695e6e4932de80/expr.ipynb\"><img src=\"data:image/png;base64,iVBORw0KGgoAAAANSUhEUgAAAKkAAAAVBAMAAADP89MSAAAAMFBMVEX///8AAAAAAAAAAAAAAAAA\n",
       "AAAAAAAAAAAAAAAAAAAAAAAAAAAAAAAAAAAAAAAAAAAv3aB7AAAAD3RSTlMAInZUiRDNmWbv3US7\n",
       "qzJazP2FAAAACXBIWXMAAA7EAAAOxAGVKw4bAAAB2ElEQVQ4y2NgYBBgIB/g1MtkQIGpm3BJmADx\n",
       "qwA0QfGyc6gCjC41G9DU8C0FOqkB3TiIQtYEBtbr+WimMh5g8Ec1JJyB+TOqmtiyr0AyFd1UiEJ2\n",
       "kG36MFN3QCheAQbOCSgi+gas3yAsbpjzmECmtqObClHIyYBsqhGE4vzKwPsRRWTnBgaoqcwKyKZy\n",
       "gnWGIQICotAMm6m8Cxh4/6GIAE37gc1UNrB5rF4KCNeCFJZgMxUIuD6giexqwGYqywUIR8uVAVlh\n",
       "Bg5T3yugijy6+wCbqRwJUF5XKbLCxThMXYsuAksDqKYyT4DJmxUiKZyNMLVq1aqZq1ZBjGM/gC7C\n",
       "MB+oiH3VqpWzVq26ADeV7wPcHduuMsAVzsbu1l4GVJF3DAznDbC4lXsCwtSjCIXYQ4DZgUEQReR/\n",
       "AHZTmRfAQ+AiksJDWE19wsCgiiIyFxICmLF1ABZbhcgKfUFMfwFUUxmXl5cvQBHpwEyvLKB8wu6A\n",
       "lrIgCl8BWXfn5zagmMH1////BBQR7nJY6QIzlffmtxtAlWBRVi14LoAo5HqAnIuNMIo0DBFmBWSe\n",
       "FJiMQi+6OAqQeTswTMUQ4UYxoQJH+XqQgkIbVGRiBzGUmMqDq4phVKDAVEXswgBo4o6LI3UuYwAA\n",
       "AABJRU5ErkJggg==\n",
       "\" style=\"display:inline;vertical-align:middle;\" /></a></span>"
      ],
      "text/plain": [
       "{3 in Real} |- (1 + 2 + 3 + 1) > 3"
      ]
     },
     "metadata": {},
     "output_type": "display_data"
    }
   ],
   "source": [
    "greater(Add(one, two, three, one), three).prove(\n",
    "    assumptions=[InSet(two, RealPos), InSet(three, Real), InSet(one, RealPos)])"
   ]
  },
  {
   "cell_type": "code",
   "execution_count": 88,
   "metadata": {},
   "outputs": [
    {
     "data": {
      "text/html": [
       "<span style=\"font-size:20px;\"><a class=\"ProveItLink\" href=\"../__pv_it/demonstrations/879f99c300f9269857d5c4cb0626278f8c71a27f0/expr.ipynb\"><img src=\"data:image/png;base64,iVBORw0KGgoAAAANSUhEUgAAAF0AAAAVBAMAAADWVP/xAAAAMFBMVEX///8AAAAAAAAAAAAAAAAA\n",
       "AAAAAAAAAAAAAAAAAAAAAAAAAAAAAAAAAAAAAAAAAAAv3aB7AAAAD3RSTlMAInZUiRDNmWbv3US7\n",
       "qzJazP2FAAAACXBIWXMAAA7EAAAOxAGVKw4bAAABOklEQVQoz2NgYBBgQAaMDAQAkwEKl1sBTb5t\n",
       "zvmsOQ0IvgmS3KsABgYNdAMPyDLs7QmA8VgT4BKs1/OBwmwB6OpFGHj4LjC8OQMEAgzsSFYx6APV\n",
       "chRgqmcXgJvKyYCmnmEqlKOzalUCXP0BmBIzDPUZEPY2VYT5vKEXYEpKMNT7QsI1Fck9b8zggZ6B\n",
       "ob4NzGSDqzggmfVLFa5kMYZ6S4h6JP92hCGUzAaGY9YqEHgAVf8eLP4SJHQAop4nogFZPZr5O8HM\n",
       "GCTz+QqO4nGPFZjJhRz+dTJw3iEM9T2QZKWApD6GCe4gX2T1/gKIEE6Gqxdn4Gg4DU9iSMrvzs8F\n",
       "mrMawok9HQBLnwcZzuTDUjHXA7TkwrgAythyalUCZvLHSF4oCRALOIjGlyGQv2II6EcHjKgZkEkA\n",
       "r2oAdAlSMqbt270AAAAASUVORK5CYII=\n",
       "\" style=\"display:inline;vertical-align:middle;\" /></a>, <a class=\"ProveItLink\" href=\"../__pv_it/demonstrations/848d97b53c207de8b25fe65dfea204e4b39adb320/expr.ipynb\"><img src=\"data:image/png;base64,iVBORw0KGgoAAAANSUhEUgAAAF0AAAAVBAMAAADWVP/xAAAAMFBMVEX///8AAAAAAAAAAAAAAAAA\n",
       "AAAAAAAAAAAAAAAAAAAAAAAAAAAAAAAAAAAAAAAAAAAv3aB7AAAAD3RSTlMAInZUiRDNmWbv3US7\n",
       "qzJazP2FAAAACXBIWXMAAA7EAAAOxAGVKw4bAAABaElEQVQoz2NgYBBgQAaMDAQAkwEKl1sBTb5t\n",
       "zvmsOQ0IvgmCKV52joFBA93AA7IMe3sCYDzWBIRTDjD4b2BgC0BXL8LAw3eB4c0ZIBBgYEdYxSvA\n",
       "wDmBgaMAUz27ANxUToQE51cG3o8MDFOhXJ1VqxLg6g/AFJkh1PMuYOD9x8CQAeFtU0WYzxt6Aaao\n",
       "BMVurg8MDL4Qz6QiueeNGTzQM1DUvweGZhuYxQZXcUAy65cqXMViFPVrgdgSoh7Jvx1hCBWzgUGa\n",
       "tQoEHjAwsIO89R4s/hIkdACinieiAVk9AvSCiJ1gZgyS+XwFR7G6h9mBQZCBwQric+Twr5OB8w4h\n",
       "qX/CwAD0WA8kWSkgqY9hgjvIFylpLi8vXwAP4WS4enEGjobTMN4rpMD///8/MEZXQ3ixpwNg6fMg\n",
       "w5l8WCrmeoCWXBgXQBlbTq1KwEz+GMkLKQFiBQfR+DIE8lcMAf3ogBE1AzIJ4FUNAE4EWigxkusz\n",
       "AAAAAElFTkSuQmCC\n",
       "\" style=\"display:inline;vertical-align:middle;\" /></a>, <a class=\"ProveItLink\" href=\"../__pv_it/demonstrations/461319c14ad605ae443f7641bdd5329eb9aaaa9e0/expr.ipynb\"><img src=\"data:image/png;base64,iVBORw0KGgoAAAANSUhEUgAAADMAAAAQBAMAAABJt1qBAAAAMFBMVEX///8AAAAAAAAAAAAAAAAA\n",
       "AAAAAAAAAAAAAAAAAAAAAAAAAAAAAAAAAAAAAAAAAAAv3aB7AAAAD3RSTlMAIomZu0QQVHbN72bd\n",
       "Mqv0UZE7AAAACXBIWXMAAA7EAAAOxAGVKw4bAAAA1klEQVQY02NgwAA7l/jPWbIBxBJSdkWTc5Bj\n",
       "iNuSwMDAZsBQX4AmJcTAwvuAgYHjO0P+BAwpZgGgGOtSBn6IFIfPmZMIKQcwsx5sJ+uMBIQuvrQH\n",
       "YLHTYAHJBCQDr1QKABm8fW/BAhMRdknN+dMGYUJcOAHJGbszoUyubyDNa86cOXMEKsWSDbKe9wID\n",
       "y3cgzeaApIvXwA1I83+DSDEcQPaXrQjItAcQAxk6kKVSOIAmcm+A+osTHlwOwkBRUMAGG0OCl+1J\n",
       "GDzkHRlc5iMHLKsKNKCgAAD1NDiww7nWBQAAAABJRU5ErkJggg==\n",
       "\" style=\"display:inline;vertical-align:middle;\" /></a>, <a class=\"ProveItLink\" href=\"../__pv_it/demonstrations/4b88c39a9a5bf5ae44b43027f888ac06b73f064d0/expr.ipynb\"><img src=\"data:image/png;base64,iVBORw0KGgoAAAANSUhEUgAAAD4AAAAQBAMAAAC8SdExAAAAMFBMVEX///8AAAAAAAAAAAAAAAAA\n",
       "AAAAAAAAAAAAAAAAAAAAAAAAAAAAAAAAAAAAAAAAAAAv3aB7AAAAD3RSTlMAIpnNuzKJRKvvEN12\n",
       "ZlQ4bmvwAAAACXBIWXMAAA7EAAAOxAGVKw4bAAAA3UlEQVQY02NgQAe8li6fd/rCuYxKJgGoClgY\n",
       "G9h7vWA8EQa27+jyCQwOEQysLkDgyNDIwDATU16RGcabv4ChXwDMOrJ7twFcngUm383A0A92QPEp\n",
       "JP1dK5AM3A92pxWS+ax+hghp1j8gklkAIT95/54FCHnuBrA8kvtybxkgGa8CJiN3A4ED1Hyvu0jh\n",
       "BdbOsATZf0EsCPOfMTCCrOZGlmcKdIC7LoGBB6SY5wCSPJfDWRhPWklJG8ywQ8grMNxlKYB5/v//\n",
       "z2DGCvcFsPj7IsDi/A8jYsu8dxtgCAIAygEzafNQ/d4AAAAASUVORK5CYII=\n",
       "\" style=\"display:inline;vertical-align:middle;\" /></a>, <a class=\"ProveItLink\" href=\"../__pv_it/demonstrations/e1b49d6dec826840ae3180859de1b35b7f8d2af00/expr.ipynb\"><img src=\"data:image/png;base64,iVBORw0KGgoAAAANSUhEUgAAAD4AAAAQBAMAAAC8SdExAAAAMFBMVEX///8AAAAAAAAAAAAAAAAA\n",
       "AAAAAAAAAAAAAAAAAAAAAAAAAAAAAAAAAAAAAAAAAAAv3aB7AAAAD3RSTlMAMt0Qq5nNdoki72a7\n",
       "RFSRpcO+AAAACXBIWXMAAA7EAAAOxAGVKw4bAAAAsUlEQVQY02NgQAfcWWe+aZ1G8BmV0RTwcDrw\n",
       "eh+G8UzCPmPINzAcEGFgPAMEJxkY2LHJR7LBuXD5GiWlBLg8D4b8tWIk/c4m6PKcyUjmM57LRJdn\n",
       "m4CQX6avboAhj+S+7s0JDOjyUkpAcABq/uHdGPI2yP4T5cEwnwlZnlXyALo8ewGSPPOBarg8x08I\n",
       "nYeQD2DYzXMBymPx+uYNiYizBrD4+zOB59g/jIi9cUgpAUMQADWoNcvxiS6lAAAAAElFTkSuQmCC\n",
       "\" style=\"display:inline;vertical-align:middle;\" /></a> <a class=\"ProveItLink\" href=\"../__pv_it/demonstrations/7d3a1cdc05d47c415fa3526636596689c5626a6f0/proof.ipynb\" style=\"text-decoration: none\">&nbsp;&#x22A2;&nbsp;&nbsp;</a><a class=\"ProveItLink\" href=\"../__pv_it/demonstrations/38da9b42a70c8c016ef1a444db36ee519416b4800/expr.ipynb\"><img src=\"data:image/png;base64,iVBORw0KGgoAAAANSUhEUgAAALkAAAAVBAMAAADoXVL6AAAAMFBMVEX///8AAAAAAAAAAAAAAAAA\n",
       "AAAAAAAAAAAAAAAAAAAAAAAAAAAAAAAAAAAAAAAAAAAv3aB7AAAAD3RSTlMAInZUiRDNmWbv3US7\n",
       "qzJazP2FAAAACXBIWXMAAA7EAAAOxAGVKw4bAAABxklEQVQ4y2NgYBBgoBzgNIPJgAqmb8IlYYLE\n",
       "fhWAJiledg5VgNGlZgOaGr6lQCc2oBsLUciaABdgvZ6PZjrjAQZ/VMPCGZg/o6qJLfsKJFPRTYco\n",
       "ZEe2VR/NdF4BBs4JEOYOqAoD1m/oQQsyvR3ddIhCTgY8pnN+ZeD9CGEaQaidGxiwms6J0MmciFBo\n",
       "hs903gUMvP9QTAdq/oHNdDZ4EHAsD0AoLMFnOhBwfUAzfVcDNtNZLsB4SwKQFGYQMP29Aqrpj+4+\n",
       "wGY6BzRxhCxiQFa4mIDpaxnQQ+YzNtOZIZEvvgIhDlI4G5gSs1aBwAOY6WFg7jqwEvYDILJq1aqZ\n",
       "q1ZBLZofgKwFajofOAB5k5GtBSqcjd/tvQyobn/HwHDeAIvbuSegmQ5RiD9kmB0YBFFM/x+A3XTm\n",
       "BWghA1F4CK/pTxgYVFFMnwsJGcxYPYAWqxCFvsgK/dHKOsbl5eULUEzvwEzvLKD8xu4A5QUtCkBS\n",
       "+ApJ3d35uaiJmev///8JKKZzl6OXYrw3v90AqoSLckASPEQh1wPiylgj/NJSCCZHIhK7gDjTd+CX\n",
       "rsAhfpAKlQeoqMYOYqhhOg+uqo9RgQqmK2IXBgAPGYweU8wGbgAAAABJRU5ErkJggg==\n",
       "\" style=\"display:inline;vertical-align:middle;\" /></a></span>"
      ],
      "text/plain": [
       "{(-1) in RealNeg, (-2) in RealNeg, 3 in Real, 2 in RealNeg, 1 in RealNeg} |- (-1 - 2 + 3 - 1) < 3"
      ]
     },
     "metadata": {},
     "output_type": "display_data"
    }
   ],
   "source": [
    "Less(Add(Neg(one), Neg(two), three, Neg(one)), three).prove(\n",
    "    assumptions=[InSet(two, RealNeg), InSet(three, Real), InSet(one, RealNeg),\n",
    "                 InSet(Neg(one), RealNeg), InSet(Neg(two), RealNeg)])"
   ]
  },
  {
   "cell_type": "code",
   "execution_count": 89,
   "metadata": {},
   "outputs": [
    {
     "data": {
      "text/html": [
       "<span style=\"font-size:20px;\"><a class=\"ProveItLink\" href=\"../../negation/__pv_it/theorems/6bf1a18c2e3498be826f1c5ef7caab578b7ee8c80/expr.ipynb\"><img src=\"data:image/png;base64,iVBORw0KGgoAAAANSUhEUgAAADQAAAAQBAMAAACra0H4AAAAMFBMVEX///8AAAAAAAAAAAAAAAAA\n",
       "AAAAAAAAAAAAAAAAAAAAAAAAAAAAAAAAAAAAAAAAAAAv3aB7AAAAD3RSTlMAEHarMolUmd1mIs3v\n",
       "RLtmgJDEAAAACXBIWXMAAA7EAAAOxAGVKw4bAAAA0klEQVQY02NgwAIY47o3LQnAJsOgfJJB/F8B\n",
       "Nhl2XaCOeVil3PkEGBiYUaT0Ojo2gGhDPpB9E5BkbitCGQ+WQxlCyiKhCUCaayNUgMvAFcoqYDJi\n",
       "bwDS3AugAiwBNyEMzgWcH5lB5nLDDOYquARVw8AOtpvBpwMIHoDtWgpTxaMApuTg7nnIB2PdX8AI\n",
       "9AcDB1zqOshfDBcY5C7YMLCCBJgUEKFhwACyJt+xhuEaWGQbwu/bF4i1MzCIK7FVJoAFhN8KwEP+\n",
       "fPsClLC7+gISUFAAAPAALk9BTu5+AAAAAElFTkSuQmCC\n",
       "\" style=\"display:inline;vertical-align:middle;\" /></a> <a class=\"ProveItLink\" href=\"../__pv_it/demonstrations/186ea9cba3aa3cf067feb3719c1c62a92abf45b40/proof.ipynb\" style=\"text-decoration: none\">&nbsp;&#x22A2;&nbsp;&nbsp;</a><a class=\"ProveItLink\" href=\"../__pv_it/demonstrations/ca49ba9a2301752cd854eee2e0227e9de2c3b6a50/expr.ipynb\"><img src=\"data:image/png;base64,iVBORw0KGgoAAAANSUhEUgAAAGUAAAAVBAMAAACtcD09AAAAMFBMVEX///8AAAAAAAAAAAAAAAAA\n",
       "AAAAAAAAAAAAAAAAAAAAAAAAAAAAAAAAAAAAAAAAAAAv3aB7AAAAD3RSTlMAInZUiRDNmWbv3US7\n",
       "qzJazP2FAAAACXBIWXMAAA7EAAAOxAGVKw4bAAABX0lEQVQ4y32TMUvDUBSFT5K+JjW2ZHaKXZwC\n",
       "GUTHBuyoEATtUsRFcCxSpHaKOIguBldBKm6CUvQHWF1VEEHQLYMuLioobuJ9cXovfXlDuJybL/fc\n",
       "kwSAA9VRdnRfyZyrGpNKBHqUkeoTNJwtqxmsyELRZ0eAGeUw27KwC8wCpRwEpVAS7oBaiKk8piib\n",
       "+AHefbSpmveW6mJ6rPr4MgMU7kWEcSbCKpUt/cHsCU0TntsFrDSg7gk/p1RpX8S4OKaOY32XRReb\n",
       "2AufACMW56RMgAOgAvM/8MX0gWdUJVjnQuVD8kbMpcsZysfNrL/PL3aczaDmc2/EOkxK1f7EAnnr\n",
       "ifvgFmQa10Cz/4yC6OGmHCOgTQfSnB1w03M07XUDF0LL+G3ENqVvBhIz4rND4A1oVI2O9HrW3Okt\n",
       "fktfYljbS0hOcr6DseGy1cphOgr9So1oA0WjqWZGVT+35iqZ8eHyH9zIT0vHTLzLAAAAAElFTkSu\n",
       "QmCC\n",
       "\" style=\"display:inline;vertical-align:middle;\" /></a></span>"
      ],
      "text/plain": [
       "{x in Complex} |- (x - x) = 0"
      ]
     },
     "metadata": {},
     "output_type": "display_data"
    }
   ],
   "source": [
    "subtract(x,x).evaluation(assumptions=[InSet(x, Complex)])"
   ]
  },
  {
   "cell_type": "code",
   "execution_count": 90,
   "metadata": {},
   "outputs": [
    {
     "data": {
      "text/html": [
       "<span style=\"font-size:20px;\"> <a class=\"ProveItLink\" href=\"../__pv_it/demonstrations/731ebf24b7dbc4ae17a1857cde7991b8dc84e9240/proof.ipynb\" style=\"text-decoration: none\">&nbsp;&#x22A2;&nbsp;&nbsp;</a><a class=\"ProveItLink\" href=\"../__pv_it/demonstrations/5a8110d4ec8f7a3c2d9e62f6fd4ff77d76d341ee0/expr.ipynb\"><img src=\"data:image/png;base64,iVBORw0KGgoAAAANSUhEUgAAAGEAAAAVBAMAAACkm51HAAAAMFBMVEX///8AAAAAAAAAAAAAAAAA\n",
       "AAAAAAAAAAAAAAAAAAAAAAAAAAAAAAAAAAAAAAAAAAAv3aB7AAAAD3RSTlMAInZUiRDNmWbv3US7\n",
       "qzJazP2FAAAACXBIWXMAAA7EAAAOxAGVKw4bAAABIElEQVQ4y2NgYBBgwA5wiTMwGeCQ2IRLhwkQ\n",
       "vwpAE+RbCjSqAUOtizrQYtYEBtbr+Wg6Ysu+AslUdA1sBqwLGRjYQSbpo9vBBNLRjq6ji4HBh4GB\n",
       "kwGnDk500bMMDPYBDGa4dbChe+Q7A8N7A4YS3DpYLqAKsoJ0NDBk4NbBkQBisq8CA6Buxi9AHQoM\n",
       "i3HrYJ6AKgjW4cAwG6EjDGzYOrgOvg9orgLq2K+ArAPdDu4JmD63N8DrqgWo/mA4w8DQH8BwCI/P\n",
       "D6CJdjIwlDEw+IKY/ujplOUjyHQHNFEuA9Z5wEQIZN2dn4saWbw3v90AKtiApoO1RPcBUPgBrkTN\n",
       "IIVdmKMAp44KHOIHcWlgPIBDIgaXDh5c2ZZRAYeEInZhALo9UNzMQYToAAAAAElFTkSuQmCC\n",
       "\" style=\"display:inline;vertical-align:middle;\" /></a></span>"
      ],
      "text/plain": [
       "|- (1 - 1) = 0"
      ]
     },
     "metadata": {},
     "output_type": "display_data"
    }
   ],
   "source": [
    "subtract(one,one).evaluation()"
   ]
  },
  {
   "cell_type": "code",
   "execution_count": 91,
   "metadata": {},
   "outputs": [
    {
     "data": {
      "text/html": [
       "<span style=\"font-size:20px;\"> <a class=\"ProveItLink\" href=\"../__pv_it/demonstrations/e1eab8c3039256f6e303e787c2948508f65147810/proof.ipynb\" style=\"text-decoration: none\">&nbsp;&#x22A2;&nbsp;&nbsp;</a><a class=\"ProveItLink\" href=\"../__pv_it/demonstrations/78af53a9c05d89d2d5bc37a5e8872e74422cb8570/expr.ipynb\"><img src=\"data:image/png;base64,iVBORw0KGgoAAAANSUhEUgAAAFEAAAAVBAMAAADMaB9/AAAAMFBMVEX///8AAAAAAAAAAAAAAAAA\n",
       "AAAAAAAAAAAAAAAAAAAAAAAAAAAAAAAAAAAAAAAAAAAv3aB7AAAAD3RSTlMAInZUiRDNmWbv3US7\n",
       "qzJazP2FAAAACXBIWXMAAA7EAAAOxAGVKw4bAAABMUlEQVQoz2NgYBBgQAaMDDgBkwEKl1sBTb5t\n",
       "zvmsOQ0glgmS6KsABgYNdKMOyDLs7QFKsCbAhViv5wMF2ALQVYow8PBdYGBgb0AS1Aeq4ijAVMku\n",
       "ADSPkwFNJcNUKEdn1aoEuMoDDAxmGCozIOxtqggzeUOBtpdgqPSFhFYqku1vzATgJiCpbAMz2eDB\n",
       "fEAy6xfI/MUYKi0hKpF81BEGomcDQydrFQg8gKp8D5Z/CRI6AFHJE9EAUYlm5k4wMwbJTL6Co1ht\n",
       "twIzuZDDs04GSB/CUNkDSQ4KSCpjmBpgYQIF/iAPQ8MtGa5SnIGj4TQwUSApvDs/F6h3NYQTezoA\n",
       "lpYOMpzJN2DgeoAWzYwLoIwtp1YlIEtgJAiUJIMCDqLxZXCm+RgCOpHchZodmARwqAMABllOBroE\n",
       "ZRcAAAAASUVORK5CYII=\n",
       "\" style=\"display:inline;vertical-align:middle;\" /></a></span>"
      ],
      "text/plain": [
       "|- (-1) in Real"
      ]
     },
     "metadata": {},
     "output_type": "display_data"
    }
   ],
   "source": [
    "InSet(Neg(one), Real).prove()"
   ]
  },
  {
   "cell_type": "code",
   "execution_count": 92,
   "metadata": {},
   "outputs": [
    {
     "data": {
      "text/html": [
       "<span style=\"font-size:20px;\"><a class=\"ProveItLink\" href=\"../../ordering/__pv_it/theorems/6e5cad5b2984ed0d75bd47bd0c542ec447a4f3570/expr.ipynb\"><img src=\"data:image/png;base64,iVBORw0KGgoAAAANSUhEUgAAADEAAAAQBAMAAABNQoq8AAAAMFBMVEX///8AAAAAAAAAAAAAAAAA\n",
       "AAAAAAAAAAAAAAAAAAAAAAAAAAAAAAAAAAAAAAAAAAAv3aB7AAAAD3RSTlMAELvv3c2ZVESJq3Yi\n",
       "MmZ3LnoBAAAACXBIWXMAAA7EAAAOxAGVKw4bAAAA1ElEQVQY02NgQAdPjfRDjB4AGYzKDmhSCqcY\n",
       "uh4JABmsCegyJxmYeBcAGfwFmDJsBwKAjH4BqMgmF5cAuIwCkDEFKtG6EaGHSxBkWtTu5SA+TyCS\n",
       "aZdKDwDd9lVA/gDIIQfgModDvoD0s39kYN4AkkFywTtREM0WwMA/AUhfdgECBYgMkxzIpywTGPpB\n",
       "7hZC0sOboAjxTj7I3SzI/sk9BJK5wGgH4nNvQJIR4gYax/WACRI84XCZYwx8DzSArl6ZBxGQ0hCA\n",
       "hbUOg1I8cph1qkBCBwoAxe43BugJR6MAAAAASUVORK5CYII=\n",
       "\" style=\"display:inline;vertical-align:middle;\" /></a> <a class=\"ProveItLink\" href=\"../__pv_it/demonstrations/b59d1a89af4033ff0a0023ff222bed06c7bc025a0/proof.ipynb\" style=\"text-decoration: none\">&nbsp;&#x22A2;&nbsp;&nbsp;</a><a class=\"ProveItLink\" href=\"../__pv_it/demonstrations/71f93cb9a646eed73acf034507d72c3b2dfcd6560/expr.ipynb\"><img src=\"data:image/png;base64,iVBORw0KGgoAAAANSUhEUgAAAZgAAAAVBAMAAACJTOXUAAAAMFBMVEX///8AAAAAAAAAAAAAAAAA\n",
       "AAAAAAAAAAAAAAAAAAAAAAAAAAAAAAAAAAAAAAAAAAAv3aB7AAAAD3RSTlMAInZUiRDNmWbv3US7\n",
       "qzJazP2FAAAACXBIWXMAAA7EAAAOxAGVKw4bAAADpklEQVRYw51XQUhUQRj+1+e67j533SIIooMR\n",
       "gRdRJIK66CHwFO7JCBT3InqJPIgr0WFP2SFBgg4p4YKFtZFIl7TT1qWDUNIlOxgSnTyUYkont5k3\n",
       "b+bNP//sY+iDee/t/773f/PNzP5vHgDkQTSMBPxnCBxZdll35G0iTT2iGfA7SOgiuLDAjdVA1h1v\n",
       "bCKXRTs7/UnFhxfYodN82uuHxPV7a/GsIEgCnbQvFlmBMwObJnevYARyz9lIlKlIshi0RA0Go36O\n",
       "s9ZiZhgCuAneIcSzxsESICy7bHBjEvrwhCW/3jEeH5k+YscxKpJiBlnL5iE9r+7xHrdOhj/Ww/MM\n",
       "QHdP8hisLL+sBRFQLgUqG8o0HcJoEQtDtzkWTdzMLBVJsxNr6SPIHqjlx7nwOPzVG56Z6MYaRGYQ\n",
       "y+vQg/pSRrkUqGwo4y9CexELNzCTLhCRK+zIWrYC2RN5r7nCjxPYjBdIeH/BypJmRFADzqVAZVXX\n",
       "oa/sZKalTESm2HEqiGT25b2WL11s2d7AZlL9/PguyoBY0owIasC5FKis6rr/ApzMNG8RkQk1br9V\n",
       "AR0dS7K5v49zBgPxY2cXrCxpRgQ1aKxUNcCWnCosK7ue6/ruZqa1SESW2fVyEHkdzXMBHgFcxTkz\n",
       "wYhr1QyxpBkR1IBzKVBZbZn1OJnx5onIIrteDMatFnjkdqcB/rAh47/vVqtPqlUumBYldIklFiUt\n",
       "YrEhf7kghlwEYSiYg1WcS4chG8lAUBVwRJiJcgozuX3SYZV1Tow/L6LPwGcTsIGHjJv5BfCZD9sK\n",
       "mCw5MyKoAeeiZuYAy+R2oe3QaWb8edJhOd/s/X4qqtopxr5Gl1m9IMxQljQjgugNoFj6f4bKhjLt\n",
       "R65mvAoR+cCuefsJcEneO4Fb7N/+EJtpY919KpaZhSXNiKAGnEuBysoFsCWWmUMBqBERXjRZS6yU\n",
       "SsrpNnxUlVPl5JXwgf6eQSxpRgQ14FwKVDaUaS3T98yguUNuPlDvCiSyxzdybBHV63VV6kYGeLpX\n",
       "xmJmon5J22giljQjgvo+CuWK9o5EVnb9bWnTqG87S7dx0uy34232LO1Khr04Mru2j5CKkXMVYlhe\n",
       "7LdAwtwXWGR7yVO98d8A56gI3wPSfWC4FUT7vVmIYfnlON0UuUtl18lT6/FmZiwi70E0E+fNQFve\n",
       "hWWFhdVI1hmJmkVkOGw2NfxdUXNhWWFhNZJ1BhlbLpLoEM2sfnQeToMLC9xYDWTdcYGK/APjVlHX\n",
       "DCXn1AAAAABJRU5ErkJggg==\n",
       "\" style=\"display:inline;vertical-align:middle;\" /></a></span>"
      ],
      "text/plain": [
       "{b in Real} |- ((2 * b) + (3 * b) + b - b) = ((2 + 3 + 1 - 1) * b)"
      ]
     },
     "metadata": {},
     "output_type": "display_data"
    }
   ],
   "source": [
    "#test = Add(Mult(two, b), Mult(three,b), b, Neg(b)).factor(b, assumptions=[InSet(two, Complex), InSet(three, Complex), InSet(b, Exp(Complex,one)),InSet(one, Complex), InSet(Neg(one), Complex), InSet(b, Real)])\n",
    "#test = Add(Mult(two, b), Mult(three,b), b, Neg(b)).factor(b, assumptions=[InSet(Neg(one), Complex), InSet(b, Real)])\n",
    "Add(Mult(two, b), Mult(three,b), b, Neg(b)).factorization(\n",
    "    b, pull='right', assumptions=[InSet(b, Real)], auto_simplify=False)"
   ]
  },
  {
   "cell_type": "code",
   "execution_count": 93,
   "metadata": {},
   "outputs": [
    {
     "data": {
      "text/html": [
       "<span style=\"font-size:20px;\"><a class=\"ProveItLink\" href=\"../../ordering/__pv_it/theorems/6e5cad5b2984ed0d75bd47bd0c542ec447a4f3570/expr.ipynb\"><img src=\"data:image/png;base64,iVBORw0KGgoAAAANSUhEUgAAADEAAAAQBAMAAABNQoq8AAAAMFBMVEX///8AAAAAAAAAAAAAAAAA\n",
       "AAAAAAAAAAAAAAAAAAAAAAAAAAAAAAAAAAAAAAAAAAAv3aB7AAAAD3RSTlMAELvv3c2ZVESJq3Yi\n",
       "MmZ3LnoBAAAACXBIWXMAAA7EAAAOxAGVKw4bAAAA1ElEQVQY02NgQAdPjfRDjB4AGYzKDmhSCqcY\n",
       "uh4JABmsCegyJxmYeBcAGfwFmDJsBwKAjH4BqMgmF5cAuIwCkDEFKtG6EaGHSxBkWtTu5SA+TyCS\n",
       "aZdKDwDd9lVA/gDIIQfgModDvoD0s39kYN4AkkFywTtREM0WwMA/AUhfdgECBYgMkxzIpywTGPpB\n",
       "7hZC0sOboAjxTj7I3SzI/sk9BJK5wGgH4nNvQJIR4gYax/WACRI84XCZYwx8DzSArl6ZBxGQ0hCA\n",
       "hbUOg1I8cph1qkBCBwoAxe43BugJR6MAAAAASUVORK5CYII=\n",
       "\" style=\"display:inline;vertical-align:middle;\" /></a> <a class=\"ProveItLink\" href=\"../__pv_it/demonstrations/a24efb255a53cfad04d28faf36a320ddd15c33ab0/proof.ipynb\" style=\"text-decoration: none\">&nbsp;&#x22A2;&nbsp;&nbsp;</a><a class=\"ProveItLink\" href=\"../__pv_it/demonstrations/8db4309c518ed592067890df21dc434987cf39a70/expr.ipynb\"><img src=\"data:image/png;base64,iVBORw0KGgoAAAANSUhEUgAAAZgAAAAVBAMAAACJTOXUAAAAMFBMVEX///8AAAAAAAAAAAAAAAAA\n",
       "AAAAAAAAAAAAAAAAAAAAAAAAAAAAAAAAAAAAAAAAAAAv3aB7AAAAD3RSTlMAInZUiRDNmWbv3US7\n",
       "qzJazP2FAAAACXBIWXMAAA7EAAAOxAGVKw4bAAAEEUlEQVRYw6VXQUhUQRj+n8/ddfe57hZBEB22\n",
       "IvAiikhgFz0EQhDuyQgM9yJ6kTyIKxG0J+1gEEFQSrhgYW0k0iXtonaJEEoqyA6GRCcPmdhKJ+2f\n",
       "mTfz5p/3Wp/1w8zy/+97//d/M/NmZgEgDaJRs+AfQxASlT7AP4ylJUlVk2iGORlf6AyEQUE4lEkZ\n",
       "UEJ4eyFJWkQ7PvxOPeuewK7efMNuB+vCjbnKKB70Ber9/C0QeVskPilB2LGOFfO9zawRqHuMI1EQ\n",
       "JJEcb9YSdHp19mGLmm91AVwGewcqo/ogIOBDcdroIPFpCTw4CG10wiKfrxmprg6Xse8VJDEUhS2Z\n",
       "hvgdhWAV10iqefd3BKCxKbILgSinoAWJkVzKGG2qifhaCS5l1Q705GgR0GiOSxUTMyZI4viDLV6G\n",
       "5LZa4+w53HO9ZvcXiRbmwBNDUHZGD+rfC8mljNEuZomvleBSOpOQytEi/iImnuUk57DHlixCck8+\n",
       "r+aLuZ+KsXla+zcEoqSY6qLBRXMpY7QXqa+VoEqHtkIoMdECJxnCfohHEz/l8+iHBlwBl6iYWDvr\n",
       "XxUgECXFiKBmNJcyRjlw+iPxvRJU6c4TCCWmehUYSb8aty21gfb0RnC+R2keLv7b+gYEoqQYEdRM\n",
       "Q8VK3FbdqYrsZnvU4UJLkKXXNXwNJ6aGLZtRmMZ+mkefe3ObhbsArTRPgo+4tpsRlBQjgprRXMqQ\n",
       "0i5DPKP5WgnaMmsKJcZmO0crTGI/ycdtiQ8kkzgM8AuHifnXS6UHpRIjiYttcyrLxhQICof86YQY\n",
       "chGELj4HszSXbkgZy0GqXSbTSvAoge8KNCLEePmFmDq2Prc8MbfF+LNN9BE4OAELdJiYmB8A79lQ\n",
       "zYCJkjMjgprRXLqYRDssqmRaCR5l3QbU7oSaGYfNzIJaZni+H/GOhhgizvuX2X5WiPGjpBgRJMeM\n",
       "QunfzDQ/Zm5m9WXmleBSpsphxdhszzwPr7Fn7TvAWfl8D67g1z5OxdRiuQ/FMgtASTEiqBnNpQwp\n",
       "UxuR+7qvlSAXw6pYZiE2ALZAx/mmic2ayefVEbEGb9RuqfKw3e+Wfs4QlBQjgprRXMqQMlmoHdR9\n",
       "rQSXsqbgP2c6zdt19bY8N4Zgk13ecBHt7+/n1H2ng6V4ZixgJHLy2kWToKQYEdTvTiSXd1/EL//T\n",
       "CPG1EmTpL/Mrxv62PjVACZJfdtfw3TlOksCDI7ER9CekaOSZhQoou+J/Acu8F/goqd/sy9Bc+T/A\n",
       "CUHC7oD+e6B7FSR3vDGogHIKlbhivqcmJfXnfRnmK4sZcUmWQTTTTpqB2nQYVKAFoJYP8A9l1pJL\n",
       "0u22g9ggshQGFWgBqO4D/EMZH2dGYmVEM3c8/zwchTAoCIcyKa3Mf4g5JUj+APhyT0NB6U+hAAAA\n",
       "AElFTkSuQmCC\n",
       "\" style=\"display:inline;vertical-align:middle;\" /></a></span>"
      ],
      "text/plain": [
       "{b in Real} |- ((2 * b) + (3 * b) + b - b) = (b * (2 + 3 + 1 - 1))"
      ]
     },
     "metadata": {},
     "output_type": "display_data"
    }
   ],
   "source": [
    "Add(Mult(two, b), Mult(three,b), b, Neg(b)).factorization(\n",
    "    b, pull='left', assumptions=[InSet(b, Real)], auto_simplify=False)"
   ]
  },
  {
   "cell_type": "code",
   "execution_count": 94,
   "metadata": {},
   "outputs": [
    {
     "data": {
      "text/html": [
       "<span style=\"font-size:20px;\"><a class=\"ProveItLink\" href=\"../../ordering/__pv_it/theorems/6e5cad5b2984ed0d75bd47bd0c542ec447a4f3570/expr.ipynb\"><img src=\"data:image/png;base64,iVBORw0KGgoAAAANSUhEUgAAADEAAAAQBAMAAABNQoq8AAAAMFBMVEX///8AAAAAAAAAAAAAAAAA\n",
       "AAAAAAAAAAAAAAAAAAAAAAAAAAAAAAAAAAAAAAAAAAAv3aB7AAAAD3RSTlMAELvv3c2ZVESJq3Yi\n",
       "MmZ3LnoBAAAACXBIWXMAAA7EAAAOxAGVKw4bAAAA1ElEQVQY02NgQAdPjfRDjB4AGYzKDmhSCqcY\n",
       "uh4JABmsCegyJxmYeBcAGfwFmDJsBwKAjH4BqMgmF5cAuIwCkDEFKtG6EaGHSxBkWtTu5SA+TyCS\n",
       "aZdKDwDd9lVA/gDIIQfgModDvoD0s39kYN4AkkFywTtREM0WwMA/AUhfdgECBYgMkxzIpywTGPpB\n",
       "7hZC0sOboAjxTj7I3SzI/sk9BJK5wGgH4nNvQJIR4gYax/WACRI84XCZYwx8DzSArl6ZBxGQ0hCA\n",
       "hbUOg1I8cph1qkBCBwoAxe43BugJR6MAAAAASUVORK5CYII=\n",
       "\" style=\"display:inline;vertical-align:middle;\" /></a> <a class=\"ProveItLink\" href=\"../__pv_it/demonstrations/c49ecaf7d216ac88a7f109e129b00738e8255d330/proof.ipynb\" style=\"text-decoration: none\">&nbsp;&#x22A2;&nbsp;&nbsp;</a><a class=\"ProveItLink\" href=\"../__pv_it/demonstrations/c635f8bee5f08f11e892536c8700eb2925ad29140/expr.ipynb\"><img src=\"data:image/png;base64,iVBORw0KGgoAAAANSUhEUgAAAR0AAAAVBAMAAACJYCeRAAAAMFBMVEX///8AAAAAAAAAAAAAAAAA\n",
       "AAAAAAAAAAAAAAAAAAAAAAAAAAAAAAAAAAAAAAAAAAAv3aB7AAAAD3RSTlMAInZUiRDNmWbv3US7\n",
       "qzJazP2FAAAACXBIWXMAAA7EAAAOxAGVKw4bAAACyElEQVRIx52WT2gTQRTGvyTGZDfZJIpQ6Ckq\n",
       "HoUg0mtzEwrFeOlJaC6FIgg5FBO8dPHSk5CLoEYwUKUitBQvekv0IKggBQVvmoMnL1ZKehGMb2Y2\n",
       "k5md2XXxg7fb+ebXnbdv/mwAVCAipP+2kIxKRWDpmoiwXhhOMsomG3UeJeCaiV0WMXfro/Sz7/o0\n",
       "uh9+AlFnrnyIp7hpGOazkKnDOb7x1MCyTR6pIa7uS/hkiy5roScQlW1hsRZPcdMw1ox8VgD38ZOG\n",
       "geV8Hl4FTld2ltmgW0HjVXAnKn2E1WY8VQ5PqkbN1AE8G+aAhzOG90t2DljeTpD8pcAkqtBDuRlP\n",
       "DRqhgTVqpm4onym2QDcKrw/vj+xc4hX09ZEW+HXRj6eWwgNr1Gz5NEP5TLENum1wxz2UnTfPfQJO\n",
       "HOgjcarwDPEUN1VplFSuTvncWR4Z2Dr9vc6dn1W5co8bqxXkm/pIjCpd/IpYSpjqLlCo28+ZdqcF\n",
       "KzZSvw1smxrb3NqdFXMMp4pMV89HULP9ZaWEqU6MRkm54jHvDaxHjR6v4JBd+fbJNVGuo3QoXulB\n",
       "8Eo9sarHsZQwscIrsadTqhxxuGxWWGlUTOZzV+TNjgG3jkENhVB9iCqNUDyKpYSpFkKjtHzeUj5s\n",
       "Ae2o2HS+6Lw8pZwFmw1k+sZ8lccin2hKmPq5Iill/bD5egh8M7A31GDxHbggO0fZ+0B+qOdDlHMg\n",
       "5iuaEqaaj0ZJFWmR0bw+MrBlalCkdtpt+eXx/GJLbEk1H6LyvnL+WClhKtIpKXYAzCF9z8B+UIPC\n",
       "nUwm8uTNfu6wku7r+TDyZVv5ntooYar7XaOkSvTyqfaXhoG5tKLcke1Hwjz0fJJRds0bzl4Elm+J\n",
       "gO2Lp30pk1F2dQxnKwp7HYTx+y28BBNSSEYVKxHY9SD+/Q/JKCSjssMILFUVEdZZM/1ElE026rQV\n",
       "+wthm+1YSZ6fPgAAAABJRU5ErkJggg==\n",
       "\" style=\"display:inline;vertical-align:middle;\" /></a></span>"
      ],
      "text/plain": [
       "{b in Real} |- ((2 * b) + (3 * b) + b - b) = (5 * b)"
      ]
     },
     "metadata": {},
     "output_type": "display_data"
    }
   ],
   "source": [
    "Add(Mult(two, b), Mult(three,b), b, Neg(b)).factorization(\n",
    "    b, pull='left', assumptions=[InSet(b, Real)])"
   ]
  },
  {
   "cell_type": "code",
   "execution_count": 95,
   "metadata": {},
   "outputs": [
    {
     "data": {
      "text/html": [
       "<span style=\"font-size:20px;\"><a class=\"ProveItLink\" href=\"../../ordering/__pv_it/theorems/4aa8d696b1f407d6126de9f51a052e8d90e0848c0/expr.ipynb\"><img src=\"data:image/png;base64,iVBORw0KGgoAAAANSUhEUgAAADMAAAAQBAMAAABJt1qBAAAAMFBMVEX///8AAAAAAAAAAAAAAAAA\n",
       "AAAAAAAAAAAAAAAAAAAAAAAAAAAAAAAAAAAAAAAAAAAv3aB7AAAAD3RSTlMAIquJdkTvuxBmmd1U\n",
       "zTKBpmoTAAAACXBIWXMAAA7EAAAOxAGVKw4bAAAAzElEQVQY02NgwABz0+tvp09gwAoKhBiCpjdg\n",
       "lxJmYOdTwCXFJXABRch99+4LcKkCZJlYD4Qupg6QgYzKjg4gAcYbSAY+PysAZIQJsP8ACfAKwKXE\n",
       "bv8GmcCRycC1ASyF5IyZvSCa6wMDtwGI8Ww3EBRApNg7QV5mK2DoDwAJtCPp4ltQAaT7HRjmgwW4\n",
       "kf21ThwkdYBBlwfkAhYHJKl2FqCJ7A48u7jAInfgUlIMnBNKgS5UsRPyA4s0lTbAQr6Qofz+AeTg\n",
       "CK7ejRxyAISENKeL/c93AAAAAElFTkSuQmCC\n",
       "\" style=\"display:inline;vertical-align:middle;\" /></a>, <a class=\"ProveItLink\" href=\"../../ordering/__pv_it/theorems/6e5cad5b2984ed0d75bd47bd0c542ec447a4f3570/expr.ipynb\"><img src=\"data:image/png;base64,iVBORw0KGgoAAAANSUhEUgAAADEAAAAQBAMAAABNQoq8AAAAMFBMVEX///8AAAAAAAAAAAAAAAAA\n",
       "AAAAAAAAAAAAAAAAAAAAAAAAAAAAAAAAAAAAAAAAAAAv3aB7AAAAD3RSTlMAELvv3c2ZVESJq3Yi\n",
       "MmZ3LnoBAAAACXBIWXMAAA7EAAAOxAGVKw4bAAAA1ElEQVQY02NgQAdPjfRDjB4AGYzKDmhSCqcY\n",
       "uh4JABmsCegyJxmYeBcAGfwFmDJsBwKAjH4BqMgmF5cAuIwCkDEFKtG6EaGHSxBkWtTu5SA+TyCS\n",
       "aZdKDwDd9lVA/gDIIQfgModDvoD0s39kYN4AkkFywTtREM0WwMA/AUhfdgECBYgMkxzIpywTGPpB\n",
       "7hZC0sOboAjxTj7I3SzI/sk9BJK5wGgH4nNvQJIR4gYax/WACRI84XCZYwx8DzSArl6ZBxGQ0hCA\n",
       "hbUOg1I8cph1qkBCBwoAxe43BugJR6MAAAAASUVORK5CYII=\n",
       "\" style=\"display:inline;vertical-align:middle;\" /></a>, <a class=\"ProveItLink\" href=\"../__pv_it/demonstrations/d550e8309ef79ca46e4c9fb5617a392ea678789b0/expr.ipynb\"><img src=\"data:image/png;base64,iVBORw0KGgoAAAANSUhEUgAAADEAAAAQBAMAAABNQoq8AAAAMFBMVEX///8AAAAAAAAAAAAAAAAA\n",
       "AAAAAAAAAAAAAAAAAAAAAAAAAAAAAAAAAAAAAAAAAAAv3aB7AAAAD3RSTlMAiXZmMiLdVJm77xBE\n",
       "zatgdeJyAAAACXBIWXMAAA7EAAAOxAGVKw4bAAAAvUlEQVQY02NgQAe2K+dfW2nAgA1MiGM4Z7kB\n",
       "q0wgAyfLAxwyHAEXkEU009IuwGUmIEmc1Ubo4dsNNk1I2QFIst5GMs2zNgDICCvgAGnlDYDLRF37\n",
       "BtafyMClAJJBcoHxXhDN8RvC90oDggkQGc7NIJ9yQV2xE0kPS8NsIL1fAcJnQ/ZPSySQ5gdqPACk\n",
       "mRSQZHYyAUWBDmMEuZrhOlwmgoHZYA6QIWgM8eK+ORtgYT2VYeb9AqRAODgtDTm0ALktNaaWdOV1\n",
       "AAAAAElFTkSuQmCC\n",
       "\" style=\"display:inline;vertical-align:middle;\" /></a>, <a class=\"ProveItLink\" href=\"../__pv_it/demonstrations/41c3ad9f29c40b69fd61c49f41684c1b813e9e850/expr.ipynb\"><img src=\"data:image/png;base64,iVBORw0KGgoAAAANSUhEUgAAADMAAAAQBAMAAABJt1qBAAAAMFBMVEX///8AAAAAAAAAAAAAAAAA\n",
       "AAAAAAAAAAAAAAAAAAAAAAAAAAAAAAAAAAAAAAAAAAAv3aB7AAAAD3RSTlMAMs3vmVREEIndIqt2\n",
       "u2aBbGR5AAAACXBIWXMAAA7EAAAOxAGVKw4bAAAA3klEQVQY02NgwACPbO9r2j6AsBmVHVDkLqxm\n",
       "yH5bAGHzB6BKrWDgZdwAYecXoEuxLFCAsDsh1NmZMxXgUhcgYipgMuk4Qhd3OchArh0Hv4IEuNSR\n",
       "DJQNWgBkJC/g/Q4SYFoAl1qs+RNkArsdAwvYBiYkZ7wrAtEsHxg4G0AM4ZlAcAEixVsH8jLzBYb6\n",
       "BJBALZIuRofrQLr+AMN7sAAnsr8c14KkAhg2sYJcwHMASaqWB2gi7wHWKSxgEVW41BIGvgfXgC7c\n",
       "07j6IFik+loBLORvMdzVRwnXjJszFZC4AHM6StvnxMwUAAAAAElFTkSuQmCC\n",
       "\" style=\"display:inline;vertical-align:middle;\" /></a>, <a class=\"ProveItLink\" href=\"../__pv_it/demonstrations/771bca1b7668afe1f4a079455244c3543a69d15a0/expr.ipynb\"><img src=\"data:image/png;base64,iVBORw0KGgoAAAANSUhEUgAAADIAAAAQBAMAAACmdTG/AAAAMFBMVEX///8AAAAAAAAAAAAAAAAA\n",
       "AAAAAAAAAAAAAAAAAAAAAAAAAAAAAAAAAAAAAAAAAAAv3aB7AAAAD3RSTlMAEIl2mUTdMiJmu6tU\n",
       "ze/kkN0jAAAACXBIWXMAAA7EAAAOxAGVKw4bAAAAwElEQVQY02NgQAec91b9zVvJgA1wcWxg3bkQ\n",
       "u4wCw4JqXDIevMgiVmlpF+AyXEgSsYZIejZKAxmMyiYCQIrjIpJp7GtuABlhBewKQIq3ASHzNj8Z\n",
       "qJjjJwNzAEgGyQWaE0EWcn02VgXx69KAYAHUtIUzgTT/BohKKWRXl3ABTeM3gPDZkGVYKoC62YDW\n",
       "HwDymQ2QZBgXWAID8AKDCNhZdxAyDgwzuYCuMpoJUS29VAAW1r8auNb+QQqEoGWQ0IECAEjfK+SE\n",
       "/ccWAAAAAElFTkSuQmCC\n",
       "\" style=\"display:inline;vertical-align:middle;\" /></a>, <a class=\"ProveItLink\" href=\"../__pv_it/demonstrations/43462719e9cd53d7943bf9d012670db2b04e1e660/expr.ipynb\"><img src=\"data:image/png;base64,iVBORw0KGgoAAAANSUhEUgAAADQAAAATBAMAAAAt/zNWAAAAMFBMVEX///8AAAAAAAAAAAAAAAAA\n",
       "AAAAAAAAAAAAAAAAAAAAAAAAAAAAAAAAAAAAAAAAAAAv3aB7AAAAD3RSTlMAmYkQqzLvVES73WZ2\n",
       "Is1wFLxSAAAACXBIWXMAAA7EAAAOxAGVKw4bAAAA20lEQVQoz2NgwADcz2b+WzYbwmZUMkCR4+R1\n",
       "4PCeDGaqhBWgSSkwTAgBM9M7DTCkZPlALI7PUKGTq1Y9gEtxglhMCyAyfYeRdDmbgBzktkQAJMD7\n",
       "GMlA1ulvQSz+A2ABvgsIqbz1a8DW3w+ASCE5Q3sz2FKGeohA2CogmAA1cPJusJgWRMoS2fGBnGAD\n",
       "p0AEuJClGGPB+nMgAjwHkKSYJ5wGOfoHVOQ5QkqAYTdnAwMD+weoiMkMA1jI/7zAOe87MNwdYKqb\n",
       "ZkECCgZK+AoYcICVdrhkGPbI4pIBALSQNWh/XdnsAAAAAElFTkSuQmCC\n",
       "\" style=\"display:inline;vertical-align:middle;\" /></a>, <a class=\"ProveItLink\" href=\"../__pv_it/demonstrations/87e016319e283ab0085ec31c893e4bd9170922980/expr.ipynb\"><img src=\"data:image/png;base64,iVBORw0KGgoAAAANSUhEUgAAADMAAAATBAMAAADPIygvAAAAMFBMVEX///8AAAAAAAAAAAAAAAAA\n",
       "AAAAAAAAAAAAAAAAAAAAAAAAAAAAAAAAAAAAAAAAAAAv3aB7AAAAD3RSTlMAVIl2ImbN77sQqzJE\n",
       "md23+iBgAAAACXBIWXMAAA7EAAAOxAGVKw4bAAAA3UlEQVQoz2NgwABhFf15FQEMWEGDF8OpiAnY\n",
       "pZwYOLgX4JLidUhAEbJ49y4BLtWALHPMEqGLaybYQCFjVxDFkolk4A4xByCDKYGlAiTA5gCXcs/7\n",
       "BzZBfgLDZ7AUkjNCp4EZVQzcX0D09ndA0ACR4pgK8jL3RwbmApDADCRd3Bc6gTTrFwYOsGv4kP11\n",
       "2wMk9YFhPjjAmA2QpGYwA8U4vzCsh4RXIlzKl4E1oAfIOGV0DyIyq2cCLORbGDryBUDsXKjqQ33v\n",
       "UEJu1wTu39jjhmH5hGkGOKROGd3BIQMAdHJANgABfuwAAAAASUVORK5CYII=\n",
       "\" style=\"display:inline;vertical-align:middle;\" /></a> <a class=\"ProveItLink\" href=\"../__pv_it/demonstrations/2578adc1bf911191eb598b49a7eb6d53cd1f00f80/proof.ipynb\" style=\"text-decoration: none\">&nbsp;&#x22A2;&nbsp;&nbsp;</a><a class=\"ProveItLink\" href=\"../__pv_it/demonstrations/9fecaeb5e3b34e30672d241b984df5e699418f4f0/expr.ipynb\"><img src=\"data:image/png;base64,iVBORw0KGgoAAAANSUhEUgAAAQQAAAAuBAMAAAA8ZnrdAAAAMFBMVEX///8AAAAAAAAAAAAAAAAA\n",
       "AAAAAAAAAAAAAAAAAAAAAAAAAAAAAAAAAAAAAAAAAAAv3aB7AAAAD3RSTlMAInZUiRDNmWbv3US7\n",
       "qzJazP2FAAAACXBIWXMAAA7EAAAOxAGVKw4bAAADXklEQVRYw+1XX0hTURj/tjm3OZs+hiBex6Ig\n",
       "khXSQxCJCImR3IcwgmR7EettQkVY0PChfOrvQ2UGgkI0MkZPFUnLl55CEYl8akEEBdF0CYIkfTed\n",
       "u7/v3LUF24VgB8a8P7/vd373O+c7Oz8iaiS7h5zRGbZdwjPx3G4VdHqsBKYvd4vHeLp0FXTG4dEd\n",
       "tUwdLOVtssVDjn+1KvIAygRF/rhg98dl+vN88KpE1KQ7r3QLnmsQ7oMnl4bs20B+HNj+q2ZCIkpS\n",
       "AR4frM5By+Qc+18l1MaKSijAUws1Occfx2KrhpG1C/vCmFoTvI4TNnf+CCPi7tytY5J3aTomJLQH\n",
       "dzLZvFnCGf68aKxfxcjIgHsZAMckXYYJ/bdoTkcJL9OBDvHKDZosb9QxztL+9MBwwhjTNMnq75Fn\n",
       "AiOP6HQbgLqOLSA34ak4XcClcayRMykktKRJIV7hp5vmKjzgpsgYM/B3IvF4LJEwisTsPwG4svnG\n",
       "LPy+IZwBoilE6leCx5CFZ9zsujz0kAJc3kBGSPClKJJEsVPkzwIwLrfjOLnXEWmYV7djj4ACWXJy\n",
       "BfxQBV6IiEY3RHKWPKtmwL0iJDDgzQgJmirhnYC8y1TPSl0T5r0wyxLC9N7VCMkbxlqbgTWWDhKy\n",
       "tCO6HyQYiynaKLd/8hIyFGFibwpOUF5EzfXIg/o/0FsEuB16YcJZOhTDc4G3+Ul8EXKsCwncZx95\n",
       "V3k6zBK+Mb7Q29yGM/YfjYtm6h7BFuwPfVpIY1OGRsXpQq6MXJuZ0LBRsKRZQl3a+lwr4XQsiGwn\n",
       "eSx2qPED2ATh3liBH5jiP1MFkVzS4dqwgL7rgQ3+uojxbyp3NXnSJ5ElvY/L4UiJ20nlJIwMSWQm\n",
       "dMk4xMTNzaHZfnFrpeqojhKNRdXK/JOVUUbgbMxuK6OMhrDNVkYNea3bbGXUkB67rYwaMlhRK3Mi\n",
       "eF5I6NyTRqux2JalCloZ/1P6jBKawp4UhKgsRayM6QZdipVpidNelDBFPg2uhcwSpQpamblgKAnG\n",
       "ZeuSnw+xYCmvlfklt6MvJbajBUtZrQxJK2MkYY4FSxErkxslWhn2jy70Tvx/MLEWLOW1MlfJPQQS\n",
       "uB1qoCktWMprZZzdI+Jo6hrdhewqi21WRg2x3cqoIVUr819amd+AbFLl2MpJfwAAAABJRU5ErkJg\n",
       "gg==\n",
       "\" style=\"display:inline;vertical-align:middle;\" /></a></span>"
      ],
      "text/plain": [
       "{a in Real, b in Real, c in Real, d in Real, e in Real, f in Real, g in Real} |- (a + b + c + d + e + f + g) =  \\\\ (a + b + e + c + d + f + g)"
      ]
     },
     "metadata": {},
     "output_type": "display_data"
    }
   ],
   "source": [
    "Add(a,b,c,d,e,f,g).commutation(4, 2, assumptions=[InSet(a,Real),InSet(b,Real),InSet(c,Real),InSet(d,Real),InSet(e,Real),InSet(f,Real),InSet(g,Real)])"
   ]
  },
  {
   "cell_type": "code",
   "execution_count": 96,
   "metadata": {},
   "outputs": [],
   "source": [
    "#m.prove([Add(m, subtract(one, one))])"
   ]
  },
  {
   "cell_type": "markdown",
   "metadata": {},
   "source": [
    "### Adding Fractions with Common Denominators: Basic Simplification and Automation"
   ]
  },
  {
   "cell_type": "markdown",
   "metadata": {},
   "source": [
    "Some working assumptions about some variables and parameters (side note: it might be useful to create an incidental derivation to produce the ExprRange $(a_1 \\in \\mathbb{C}), ..., (a_n \\in \\mathbb{C})$ from the Forall expression $\\forall_{k\\in\\{1, 2, \\ldots, n\\}}\\left(a_{k}\\in\\mathbb{C}\\right)$)."
   ]
  },
  {
   "cell_type": "code",
   "execution_count": 97,
   "metadata": {},
   "outputs": [
    {
     "data": {
      "text/html": [
       "<strong id=\"assumptions\">assumptions:</strong> <a class=\"ProveItLink\" href=\"../__pv_it/demonstrations/5c326fa33a462891c99e22ee166d776599b165410/expr.ipynb\"><img src=\"data:image/png;base64,iVBORw0KGgoAAAANSUhEUgAAAyQAAAAZCAMAAAD32BrYAAAAPFBMVEX///8AAAAAAAAAAAAAAAAA\n",
       "AAAAAAAAAAAAAAAAAAAAAAAAAAAAAAAAAAAAAAAAAAAAAAAAAAAAAAAAAAAo1xBWAAAAE3RSTlMA\n",
       "ZkRUmRDNuyLviTJ23avn9enzmrWLfwAAAAlwSFlzAAAOxAAADsQBlSsOGwAABsVJREFUeNrtXOmW\n",
       "tCgMBWUTkFl8/3cdELVQFkOsXs43lR99uqrr3iyEEJBqQrzQgXzktwr7hOA3BH/8jMMvFvl11OrL\n",
       "8OpHDVNvi4zao89FB5prOQthldG9evHIJ9BeLOPoosMfDw2fFylF4NHTMg1vmCRFxl3sSJ7Fc7CV\n",
       "D2GYQcQgQflVMYBuv0jaod9N/tOcLTJdfbicZhzygdIoRkzsjQabU0pqbVmhKhV1gpD3y8ZIBrda\n",
       "uLxpJSkw7g2ExiTgKZ62nDoYZhAxSFB+VQ2Y19qnpo5qaYdoAb3kq2BY5AOlUZbxjQZLk35mDKVY\n",
       "wXQCkTfiPEiv4zO9aZIUGBENRC2eorR8YphBxLAFQaBgNQPsWmEYfOIZRuSGdQyeqU3kA6WrDAt/\n",
       "n8HGJS/outhoCdIJRN6m9OhBIsyuQMGklyn8wBfWM2OaFQjOLJ60NJgIZhgxLNtRsaoawNexXupH\n",
       "W1bOXl4z0/GjrnHazBow8oHSrbGZ32LwVrXT4i/XvB8Ln9QzFnnrrPJNsBJpSvdNtSthiTHKhGDL\n",
       "4zkVfEQww4hBMqHiVDdA+JemOpSDsPx60KLKE/ySNR3IB0qzvglv8E7gTovNCjWFNSfv1aDIO2ed\n",
       "Is4Qq5GTJCcsMcbOXbxlLERetzDMIGLYjkS8Kct2A5gfALvHTjltVXKqoLK2UDlSOSMSzlo3YpA+\n",
       "X62lBgUNFieZiDf4eDddDvie6rShE4wcrONKW5ke2+QGh5QOs0IOrUny4jJay6FJWGIkpy77Ou59\n",
       "CaBd3u/0M8OIYd3WrfZOz6xfmtw284YpRDNZVkS27/Q0Q3F+88Vr5YvqRxI1j3Gy9kOvFuMNZvMq\n",
       "f/0dfu6DoxYdU902dIKR2vdgliQ6iwavKe3bYz7zxiQ5uMJD4HFqEpYYT4UyG/e+BKB54UYww4hB\n",
       "cq+907PQmcs4CDycf/kxT5jyhGaVA+zYfU+2H0lmnSJ7oJvF4g0GF2N3pLpu6IQiB1/I5fon04rw\n",
       "mtKEjmSUR+7nrd3BFeynS5OwxBgDP1bGvS+eY74FQDDDiEFyr73TM+OHTMT6x5YjZbe/TfMmMm3c\n",
       "it1LzJo9J7qQ56neBz1bjDd4Tz52WW10LCS2rhOMDOvWcNnMlwxeUzrsIl09R85cyYwtEVYZtyeL\n",
       "qUf8VL1h8TRLvnPOmLnWzjUdBxHD9u1Da6QQnikf7DkO8CTX0X01uLywYZS8vI1cbRn2Tr0HOZ3f\n",
       "7YYmFuMNrizCcWcxpp/KogRG+ldrsoq2szGluSO89XQ2csXpMekmYZVxS6bEI2Pt3D0Ww1RL04SZ\n",
       "nYt6gRlE3DNJKiOF8CyQiO1x7HXpJoVRGl6HySRVv2bDa1GAI/lyWeN6oanFeIPXncU//8bqcmwY\n",
       "YyNKk9qf64Qi9+nh9/K8ZXBMaZ+vzUOtyLXNdPVinAmcMbYlZ4/GuXssxrnS8KTMIVfTRnPGEXe0\n",
       "W4V8xnqmjnaLr2njgz8eRdEWunlm97POtYztrMH/2AR2I+k5geHQ3GK8wXE5uO7x6HSvE4rcKn7o\n",
       "kF6Vv2Dw/tzeGlnqs1KuWCa9MaoZ+AvjwRHP2c4enRMTEM/wfPpqXIGZ8vMkKTDXiQnogUnDL8qo\n",
       "XyQZ1jPjy5CTB/foW6+ESxSO+a0UzJeucW3S+LI1D84Pk0Qh47mWNghobjHeYFK8Ch2KEp9MUycU\n",
       "GXPECkJNK07HO/nhwJUrlkmpk1lXisCZ8eDYTzhPHl2q9208kxPXF3GR+fJkqsBcI34xN35p+cXp\n",
       "EMrhpJCehdMtG1sv7qw2ytlkCLmTQzaLuZbTMm+X9+Z4+8t/Up8uA8CRRGtK0wc7PUqvFuMNJsXL\n",
       "Qpxp60xbJxQ5zBFPx0acjFj2TVrpBtKZK9bGgVnViF7GeATezLlHl0lyH0/PN1yMKzP7N/kNc434\n",
       "xbynb+GXhl+K2+D5wpGehbagdfdp0PJ8xyHbQfK3I59AH2Bvro42dOKREIM7uDojMJv8b3Mvm5oL\n",
       "xhWYleR9zAkxxO2mX+Gh0vUcAO4Zc6/jAJToH0A+gdaxN7dOGzrxyG/1POMoXCHs3ywn6/HLuJw5\n",
       "XPlQCkkMc7vhV+h7GSMG59n6dJLhQ8/t9yOfQOtYqrE68chv9bzAIdXjSaJk0bgrs5LGmK4vpSXE\n",
       "MLcbfqllXV9Gg/Is3gI2Ezri9geQT6B17MyxOvHIb/W8wHF9XKC0WHSfjiQfU+CVeVqCIIlhbjf8\n",
       "Wk+trKY4z2g8CHAj+d+L+QHkj4t6Ouus+iJmq37Ur9SA7atzyK9yfeQjf77s33HHfin4Ix/50yXZ\n",
       "G33+79ZHPlKSeNrwH7pbXAq9pks3AAAAAElFTkSuQmCC\n",
       "\" style=\"display:inline;vertical-align:middle;\" /></a><br>"
      ],
      "text/plain": [
       "<IPython.core.display.HTML object>"
      ]
     },
     "metadata": {},
     "output_type": "display_data"
    }
   ],
   "source": [
    "assumptions = [InSet(a, Complex), InSet(b, Complex), InSet(c, Complex), InSet(d, Complex),\n",
    "              NotEquals(b, zero), NotEquals(d, zero), InSet(n, NaturalPos),\n",
    "              InSet(m, Natural), ExprRange(k, InSet(a_k, Complex), one, n)]"
   ]
  },
  {
   "cell_type": "markdown",
   "metadata": {},
   "source": [
    "Some example `Div`s to add together:"
   ]
  },
  {
   "cell_type": "code",
   "execution_count": 98,
   "metadata": {},
   "outputs": [
    {
     "data": {
      "text/html": [
       "<strong id=\"example_div_01\">example_div_01:</strong> <a class=\"ProveItLink\" href=\"../__pv_it/demonstrations/7ac32eab49b1d2c219badad8be6e2e345b2745b30/expr.ipynb\"><img src=\"data:image/png;base64,iVBORw0KGgoAAAANSUhEUgAAAAsAAAAlBAMAAABmJA5TAAAAMFBMVEX///8AAAAAAAAAAAAAAAAA\n",
       "AAAAAAAAAAAAAAAAAAAAAAAAAAAAAAAAAAAAAAAAAAAv3aB7AAAAD3RSTlMAIquJdkTvuxBmmd1U\n",
       "zTKBpmoTAAAACXBIWXMAAA7EAAAOxAGVKw4bAAAAaUlEQVQY02NgYFR2dGBgYAgTYP/BwMCRycC1\n",
       "gYGB6wMDtwEDA1sBQ38AA0O/A8N8oIr+Awy6PAIM7A48u7iAKlXshPwYyAb/QeADkYr5ri0A0/wH\n",
       "wFR8A5iyhkjeAmJGZb8/KH64QIIfAHwjIGhznneZAAAAAElFTkSuQmCC\n",
       "\" style=\"display:inline;vertical-align:middle;\" /></a><br>"
      ],
      "text/plain": [
       "<IPython.core.display.HTML object>"
      ]
     },
     "metadata": {},
     "output_type": "display_data"
    },
    {
     "data": {
      "text/html": [
       "<strong id=\"example_div_02\">example_div_02:</strong> <a class=\"ProveItLink\" href=\"../__pv_it/demonstrations/7935e8911a82b706fa1d1518619a0f9628a6510b0/expr.ipynb\"><img src=\"data:image/png;base64,iVBORw0KGgoAAAANSUhEUgAAAAsAAAArBAMAAABcLm8jAAAAMFBMVEX///8AAAAAAAAAAAAAAAAA\n",
       "AAAAAAAAAAAAAAAAAAAAAAAAAAAAAAAAAAAAAAAAAAAv3aB7AAAAD3RSTlMAELvv3c2ZVESJq3Yi\n",
       "MmZ3LnoBAAAACXBIWXMAAA7EAAAOxAGVKw4bAAAAmklEQVQY02NgEDJhAIMwCPUdTHJ8BFOcDmCK\n",
       "dfWuAiAlH8j4B0jVCzBYA6lUBoafQMqTgeM7WBsbSMtfBuEHQGodgxpIn9S0BwwUg/8g8IFIxbzB\n",
       "CWCavwBM9QuAqSkIH/Ks3AtybvMBJqBzGe0Y2AIYGNg+MLBMYGBgVmCQbwD6cgPDe5BnCxiWsh9g\n",
       "YNrA7sYGVLl67qm9DADcSCeQuWe35QAAAABJRU5ErkJggg==\n",
       "\" style=\"display:inline;vertical-align:middle;\" /></a><br>"
      ],
      "text/plain": [
       "<IPython.core.display.HTML object>"
      ]
     },
     "metadata": {},
     "output_type": "display_data"
    },
    {
     "data": {
      "text/html": [
       "<strong id=\"example_div_03\">example_div_03:</strong> <a class=\"ProveItLink\" href=\"../__pv_it/demonstrations/1bf12fb846a106d1438d9c04b73c012a1540e5520/expr.ipynb\"><img src=\"data:image/png;base64,iVBORw0KGgoAAAANSUhEUgAAAAkAAAAlBAMAAABi0d5uAAAAMFBMVEX///8AAAAAAAAAAAAAAAAA\n",
       "AAAAAAAAAAAAAAAAAAAAAAAAAAAAAAAAAAAAAAAAAAAv3aB7AAAAD3RSTlMAiXZmMiLdVJm77xBE\n",
       "zatgdeJyAAAACXBIWXMAAA7EAAAOxAGVKw4bAAAAf0lEQVQI12NgYBBSdmBgCCvgmMDAkMjApcDA\n",
       "8ZsBCLgmgMj9CiCS34CB4QADUAEjUKWgsTYDyeA/EHwgoIZ7VgKI4m0AW1kAIs9vAJFiYOl7Ss+B\n",
       "av5u2B/AwP4b7M4LDPwCDGwCDOcLQMr7NzDwO3AvZmDgM+AEGsH9sJmBAQBFeBzL2IAjmgAAAABJ\n",
       "RU5ErkJggg==\n",
       "\" style=\"display:inline;vertical-align:middle;\" /></a><br>"
      ],
      "text/plain": [
       "<IPython.core.display.HTML object>"
      ]
     },
     "metadata": {},
     "output_type": "display_data"
    }
   ],
   "source": [
    "example_div_01, example_div_02, example_div_03 = (\n",
    "    frac(a, d), frac(b, d), frac(c, b) )"
   ]
  },
  {
   "cell_type": "markdown",
   "metadata": {},
   "source": [
    "And (at last!), some example sums:"
   ]
  },
  {
   "cell_type": "code",
   "execution_count": 99,
   "metadata": {},
   "outputs": [
    {
     "data": {
      "text/html": [
       "<strong id=\"example_sum_01\">example_sum_01:</strong> <a class=\"ProveItLink\" href=\"../__pv_it/demonstrations/3b51c766ca49e5836322ebf89987ca9126e725d60/expr.ipynb\"><img src=\"data:image/png;base64,iVBORw0KGgoAAAANSUhEUgAAADQAAAArBAMAAADF1raWAAAAMFBMVEX///8AAAAAAAAAAAAAAAAA\n",
       "AAAAAAAAAAAAAAAAAAAAAAAAAAAAAAAAAAAAAAAAAAAv3aB7AAAAD3RSTlMAIquJdkTvuxBmmd1U\n",
       "zTKBpmoTAAAACXBIWXMAAA7EAAAOxAGVKw4bAAABF0lEQVQ4y2NgwAY4yjYw4AK8C3BK8R/AKRXf\n",
       "gFPKGkwyKjs6YEhdctEBkmEC7D8wXPi3oV+AgSOTgQvDpTw/GNgcGLg+MHAboEtxXWDgN2BgK2Do\n",
       "D0CXAiqOP8DQ78AwH5u31jcw9B9g0OURQJd6AHQCA7sDzy4udF1ME9iBIcWhYifkh+F45ZUM1ACs\n",
       "E3BK8TgMvBTX7t3bsnfvVkCI/AeBD6i6+MGCg8jxfNcWYAbv2yzcKfwPzhTO+gMphaMCZki6vYUj\n",
       "hzEq+/3BkBAyeX8Ae3ZgTWSobwBnhwvoUm0TGNYyYM8O6xkYNjNgzw7pDBxfGbBmB44vDJzAKMSW\n",
       "HTj+MDBdOIg9O5QwnF6wAHt2aHJ+qPIAAHSiVLEOo1CPAAAAAElFTkSuQmCC\n",
       "\" style=\"display:inline;vertical-align:middle;\" /></a><br>"
      ],
      "text/plain": [
       "<IPython.core.display.HTML object>"
      ]
     },
     "metadata": {},
     "output_type": "display_data"
    },
    {
     "data": {
      "text/html": [
       "<strong id=\"example_sum_02\">example_sum_02:</strong> <a class=\"ProveItLink\" href=\"../__pv_it/demonstrations/9901a906dd0fe92815db16751a02232125960f080/expr.ipynb\"><img src=\"data:image/png;base64,iVBORw0KGgoAAAANSUhEUgAAAK4AAAAlBAMAAAApVc/GAAAAMFBMVEX///8AAAAAAAAAAAAAAAAA\n",
       "AAAAAAAAAAAAAAAAAAAAAAAAAAAAAAAAAAAAAAAAAAAv3aB7AAAAD3RSTlMAIquJdkTvuxBmmd1U\n",
       "zTKBpmoTAAAACXBIWXMAAA7EAAAOxAGVKw4bAAAB7klEQVRIx+2Wv0sCYRjHv1eo12Vq1hBNka5B\n",
       "kFsQhluRNLlGU1QQDQ1NJQ1Bk/4DkWM/iIKgQSFsFsKpoaUCt6huKHCw7Lx71ffyfeseqc3v9J7P\n",
       "8/0cvnfvc19ACU1HIVQwMgiaeEci4CkLm1yL2E6SsLxDXYZ2DnW/tWs3jROoE6PO2aaDSdPRO47S\n",
       "bGvXGXABrXZXpzIdTO51pOaBQmvXEtR3+OeVT8dc08GUiuIAIq76hh4dPUnnXOY4Ks3UuHmMeQMi\n",
       "bgVdxWug2/E+WI69RNodADxRb1YT7sMGCpkM8OT8uZmOoTn4DYsangrGhdyd2GP4Acqm8/fMcoSR\n",
       "aP5UkPUOo594ONZw7PuVq2y9HNKwio6rm/rFwH2kcWjSfJe7WtWFBf6Y2QquEcREnV7JtGij0OH+\n",
       "H7faUO25a7nc5WouN2Is/c2KvWCX2FHt7G/b3FTRmFYfbPGH3F5jeCJbX/zMfV6RcH23Geo+cCyg\n",
       "Ipki8OdBmzs8C66y7J8s0CLEN5b8IzZJxdpYfRlZ1x2Z22QFI6958ewPxSvkiNZgyYOYNLs5imhG\n",
       "rDoVBwIjuxVpXJ7Fxyr7rDKzG0k8i49VNrHsRhHHsmKVSCy7EcSz6kFMwLWyG4XLs1gQaxXLbhTx\n",
       "LCtWie5uZTeK6qwvWzrE+34cY9kAAAAASUVORK5CYII=\n",
       "\" style=\"display:inline;vertical-align:middle;\" /></a><br>"
      ],
      "text/plain": [
       "<IPython.core.display.HTML object>"
      ]
     },
     "metadata": {},
     "output_type": "display_data"
    },
    {
     "data": {
      "text/html": [
       "<strong id=\"example_sum_03\">example_sum_03:</strong> <a class=\"ProveItLink\" href=\"../__pv_it/demonstrations/3f6e3a89b737a12296601a5699f87d6a74cef9b10/expr.ipynb\"><img src=\"data:image/png;base64,iVBORw0KGgoAAAANSUhEUgAAAQAAAAArBAMAAABlQEsUAAAAMFBMVEX///8AAAAAAAAAAAAAAAAA\n",
       "AAAAAAAAAAAAAAAAAAAAAAAAAAAAAAAAAAAAAAAAAAAv3aB7AAAAD3RSTlMAIquJdkTvuxBmmd1U\n",
       "zTKBpmoTAAAACXBIWXMAAA7EAAAOxAGVKw4bAAACrklEQVRYw+2Yv2sTYRjHv1dJcr3GXq0O4lRM\n",
       "RgXBboJE6qQYOgWciouigjiIOGlwEJySf0DMaC2houDQA4ngFpDg4NDFCt1Ee4NChtPzfjW9vO/z\n",
       "9p4LseeQZwjkue/zvN+79+5973MAFfr9V8g2DrcyNmB2MjawUs/YwLkDHEsrXahIyU8XT/GEQcwv\n",
       "Hks5aLyiNlfoS0/B73pjTkxSwiBy1/Ao3ZTFK/SbMKRnrthHXjzbUKg/k9s9aWIN+tmTfBNBRRSG\n",
       "jZkzosDowRSToXD7stxuHXgDgzgPZQQVUeTvorEsCryRVsQHMRJ25XY3oP+Cuaz9YRsIKqJoVPCc\n",
       "WgbWxQsaCWUD+k9M25iu8w1EFavbl/y+HZwuijecueXNuGggFBIGHEz13gOH2FMQVjytNfPewIVK\n",
       "ccMQFVPNgrQWR0JiCu6h2/Lk3/g3YVBx/ApMr0Qvn5+vShZLq7LtUEgYeLz0tbwF7QH/MQwryqiN\n",
       "sG51VQdO4EjKVnfwcnZ8BrSHP16kXIJtvPsoLFBNQnd16N/RL4u0Ou+69n5t5AO5BSwJyiK11n9Q\n",
       "nUGxMrYDEwMTA+FuZ1lvb1vWwlByzbKuW9ZrpnqkA64f9rBDM0gKV8AdBKmOlSRegViFO7kH/qWB\n",
       "Rs9/u0T0k4GBGX9L38Duz388BbOfW/Jm8f0WuRkN0uLWMmjC3oxivUgSdOgmzhhx0tmPBHMKCOmP\n",
       "Dyf3elEkqHjFVL95psfJvV6b/C8E6g8Hm6N+hNBKVYeAx50OyZQ7HQXhVp3UfBr1ophTgZtqClWC\n",
       "azKf+szZI+CxTTNlmyYNqkkin7bVcBqHx+S0ogmTT0k4jcNjclrRhMmnFJyG8AhmWkW4DD6FAk53\n",
       "cROstIpwGXwaY04SN5lpRRMGn8aYk4JHMNOKJhw+Bf4CZPInPBMWhb8AAAAASUVORK5CYII=\n",
       "\" style=\"display:inline;vertical-align:middle;\" /></a><br>"
      ],
      "text/plain": [
       "<IPython.core.display.HTML object>"
      ]
     },
     "metadata": {},
     "output_type": "display_data"
    },
    {
     "data": {
      "text/html": [
       "<strong id=\"example_sum_04\">example_sum_04:</strong> <a class=\"ProveItLink\" href=\"../__pv_it/demonstrations/5fc3f09e19d50ab5879a227a6cea471d4b8d4be10/expr.ipynb\"><img src=\"data:image/png;base64,iVBORw0KGgoAAAANSUhEUgAAAFsAAAArBAMAAADlOulrAAAAMFBMVEX///8AAAAAAAAAAAAAAAAA\n",
       "AAAAAAAAAAAAAAAAAAAAAAAAAAAAAAAAAAAAAAAAAAAv3aB7AAAAD3RSTlMAIquJdkTvuxBmmd1U\n",
       "zTKBpmoTAAAACXBIWXMAAA7EAAAOxAGVKw4bAAABfElEQVQ4y+WUMUvDUBSFjy1p4jOa0tVFaEcF\n",
       "wW4FieigS+kkOBUXRV06iKvBwTVZncwqIi0WHHxLBDeX4ODgFH+AmEEhQ0WTINS+dwNmcdA7nnu4\n",
       "777D5QOo0g56yFOTbi674eWyt61c9kZmZ6y6ZEri/cqs7KyvBcB6WY2kZN4tuyyK0x7rQNsBk1LT\n",
       "I5SkJ/uJxkJMzIsd5sMQRZbuUOrAbon2eEBbjDI2xmWbOKVi74pR2ul2toc5XfyWEcRfEjUHaEE1\n",
       "9WsmtgqOKl1BHEsxgFZbrDSlIKtncuwLJ6v4xVIcQtzItOsmId7+PTvj/GqP85kR8ZzzLc4vh8JH\n",
       "UuHodCMVhenffP8myKkHVz6x513hxIaYJYk4yMQsRUQlysQsRcRiLxOzjz8ifOMLqU1pTVTqLx6N\n",
       "WQqpyiYOLRKzCVJ90X7s4ILGLInUbsJbErMkUrehvdGYpZCqvWI8pDFLIVUboODfkJglkbqPO9cl\n",
       "MUsi9Wj5qRZQmP0ExuOBDqMxfu4AAAAASUVORK5CYII=\n",
       "\" style=\"display:inline;vertical-align:middle;\" /></a><br>"
      ],
      "text/plain": [
       "<IPython.core.display.HTML object>"
      ]
     },
     "metadata": {},
     "output_type": "display_data"
    },
    {
     "data": {
      "text/html": [
       "<strong id=\"example_sum_05\">example_sum_05:</strong> <a class=\"ProveItLink\" href=\"../__pv_it/demonstrations/5408cd96817e7c08237582011cde76a42dbc9daa0/expr.ipynb\"><img src=\"data:image/png;base64,iVBORw0KGgoAAAANSUhEUgAAAIMAAAArBAMAAACp/CbWAAAAMFBMVEX///8AAAAAAAAAAAAAAAAA\n",
       "AAAAAAAAAAAAAAAAAAAAAAAAAAAAAAAAAAAAAAAAAAAv3aB7AAAAD3RSTlMAIquJdkTvuxBmmd1U\n",
       "zTKBpmoTAAAACXBIWXMAAA7EAAAOxAGVKw4bAAAB9UlEQVRIx6WWsUvDUBDGL9Y2aRqbUtxchHZU\n",
       "yOAmSIqOUjqI4NS6KOrSQVwtDm6Szl3sWkRaFBwMSAU3l+Ag4lT/ADGDQoeKJm1KzHtXuZBbwl2T\n",
       "X17f3fe+AGAhHXUgasw0IyPUbmREuRYZsRzqbiFX0Lni09pCCMRmRuxzHfmuGRkyQdoDmeug0oeE\n",
       "TkbINqQ0rmiBqpERiSoYJbboQMv0tho6nGNj0aa31ejCosJundpztogcoq7cymxxqi7yEy5gj7sv\n",
       "l/Ir2SLXplyLv3sdQ2yEGUGFb1H6uTldD4E4w9X4EqzEMeSWd23hamwwa8Um8sG7VnA1JmpkhGIh\n",
       "v706h1OdjJA1VtVCrjgAiM2TEcO3BVQ9SpIWGZHqMqp2E+dx5c8eyaZ5c2CawXVdmOaOaV65ciz5\n",
       "qjYsX+JpG37csIOrUIfF4CpcxFjVqaYv8Xgl1B8JqNpLlA4ZIeqMqr0kWSUj3OYFVO0lskZGpDuM\n",
       "qr0kVaIP+B2uvrmxZnmZve8zMmvgiNY/DjpgjzfUWITqZAeNs/4kVdFzMzPZQWOcP81iiIKv2Uhf\n",
       "GCPNMpFd+gjxhYHZcnwbjulW5Gk2GKd1uKQvArXlNsA1HYHa8i5IX3QEZsvSJyTtEAjElqUBTFn3\n",
       "0Wz5EB6b9LlAbflk9S3foxJ+AbxlkepgUD0pAAAAAElFTkSuQmCC\n",
       "\" style=\"display:inline;vertical-align:middle;\" /></a><br>"
      ],
      "text/plain": [
       "<IPython.core.display.HTML object>"
      ]
     },
     "metadata": {},
     "output_type": "display_data"
    },
    {
     "data": {
      "text/html": [
       "<strong id=\"example_sum_06\">example_sum_06:</strong> <a class=\"ProveItLink\" href=\"../__pv_it/demonstrations/df29ec07ec6857bc0558e5dce176091f6e7eb34f0/expr.ipynb\"><img src=\"data:image/png;base64,iVBORw0KGgoAAAANSUhEUgAAALIAAAAuBAMAAAB+AF5jAAAAMFBMVEX///8AAAAAAAAAAAAAAAAA\n",
       "AAAAAAAAAAAAAAAAAAAAAAAAAAAAAAAAAAAAAAAAAAAv3aB7AAAAD3RSTlMAMs3vmVREEIndIqt2\n",
       "u2aBbGR5AAAACXBIWXMAAA7EAAAOxAGVKw4bAAAB9UlEQVRYw+1XP0gCURz+ytPLK7M/UyHk3BJR\n",
       "S0EhLdFSrkaD4B5CY5C1NTQEOXS0NARFBklTkIO19I+gppYgaZeuwFyCutT0Xr3f855URPRNJ9+f\n",
       "e7zz/e47oIC2fvBBEgKwnhwly8knMx5XnhCRhACMp2GZUJGEAIynPkCoSEIAiyex1BXkakhCAKvH\n",
       "NYjbKHfDKEK0yVbPTAYjXBVJCMB4JoBVrookBGA8Q1CfuCqSEMDqUZ/RbPBEJCEA41FzaPRP8lQU\n",
       "IUpmPDcIBbh/W5IQgPHMnnSmWngqkhCgFs8vxjR5ujKyxAdMUYQzLUv8J/988piu9+n62mdC0fWV\n",
       "AV1P2ifwUobBrtlbYWyu2eIom/78E4z5zWH5WLr40mT325CMv1/8it34von0j++Btn+WprrfjnRb\n",
       "tDoi65589e4n3xahDkNZhnrH7X5jUBcP7KcXHJUpaMA9D98p0f2Ut/vW1BbhuEQsDISI7ucNaw81\n",
       "tUVzrKRxD15ysfs1R+0nlxzjvvOmrFmTYkHsOdd5yaXuZ/8bqOiYi2QcySbzHeNJO+MKdzdK3a/D\n",
       "/hMsODaP4G1R5s0bpRYSh9zkYvfTrmXbYgrtcFc+nEKUegPbkselFxfYrauarF21jkqeacNcdVZ5\n",
       "/7nVs8TXOcrvdNsHMYluJI7xCqy2zYLtgVGcAAAAAElFTkSuQmCC\n",
       "\" style=\"display:inline;vertical-align:middle;\" /></a><br>"
      ],
      "text/plain": [
       "<IPython.core.display.HTML object>"
      ]
     },
     "metadata": {},
     "output_type": "display_data"
    }
   ],
   "source": [
    "example_sum_01, example_sum_02, example_sum_03, example_sum_04, example_sum_05, example_sum_06 = (\n",
    "    Add(example_div_01, example_div_02),\n",
    "    Add(ExprRange(k, frac(a_k, d), one, n)),\n",
    "    Add(example_div_01, example_div_02, ExprRange(k, frac(a_k, d), one, n)),\n",
    "    Add(example_div_01, example_div_02, example_div_03),\n",
    "    Add(example_div_01, example_div_02, Mult(a,d)),\n",
    "    Add(ExprRange(k, frac(d, a_k), one, m)))"
   ]
  },
  {
   "cell_type": "code",
   "execution_count": 100,
   "metadata": {},
   "outputs": [
    {
     "data": {
      "text/html": [
       "<a class=\"ProveItLink\" href=\"../__pv_it/demonstrations/3b51c766ca49e5836322ebf89987ca9126e725d60/expr.ipynb\"><img src=\"data:image/png;base64,iVBORw0KGgoAAAANSUhEUgAAADQAAAArBAMAAADF1raWAAAAMFBMVEX///8AAAAAAAAAAAAAAAAA\n",
       "AAAAAAAAAAAAAAAAAAAAAAAAAAAAAAAAAAAAAAAAAAAv3aB7AAAAD3RSTlMAIquJdkTvuxBmmd1U\n",
       "zTKBpmoTAAAACXBIWXMAAA7EAAAOxAGVKw4bAAABF0lEQVQ4y2NgwAY4yjYw4AK8C3BK8R/AKRXf\n",
       "gFPKGkwyKjs6YEhdctEBkmEC7D8wXPi3oV+AgSOTgQvDpTw/GNgcGLg+MHAboEtxXWDgN2BgK2Do\n",
       "D0CXAiqOP8DQ78AwH5u31jcw9B9g0OURQJd6AHQCA7sDzy4udF1ME9iBIcWhYifkh+F45ZUM1ACs\n",
       "E3BK8TgMvBTX7t3bsnfvVkCI/AeBD6i6+MGCg8jxfNcWYAbv2yzcKfwPzhTO+gMphaMCZki6vYUj\n",
       "hzEq+/3BkBAyeX8Ae3ZgTWSobwBnhwvoUm0TGNYyYM8O6xkYNjNgzw7pDBxfGbBmB44vDJzAKMSW\n",
       "HTj+MDBdOIg9O5QwnF6wAHt2aHJ+qPIAAHSiVLEOo1CPAAAAAElFTkSuQmCC\n",
       "\" style=\"display:inline;vertical-align:middle;\" /></a>"
      ],
      "text/plain": [
       "(a / d) + (b / d)"
      ]
     },
     "metadata": {},
     "output_type": "display_data"
    }
   ],
   "source": [
    "example_sum_01"
   ]
  },
  {
   "cell_type": "code",
   "execution_count": 101,
   "metadata": {},
   "outputs": [
    {
     "data": {
      "text/html": [
       "<span style=\"font-size:20px;\"><a class=\"ProveItLink\" href=\"../__pv_it/theorems/e9f87a0977d5044ea8daf1040d2f219396bb3d5b0/expr.ipynb\"><img src=\"data:image/png;base64,iVBORw0KGgoAAAANSUhEUgAAADMAAAAQBAMAAABJt1qBAAAAMFBMVEX///8AAAAAAAAAAAAAAAAA\n",
       "AAAAAAAAAAAAAAAAAAAAAAAAAAAAAAAAAAAAAAAAAAAv3aB7AAAAD3RSTlMAIquJdkTvuxBmmd1U\n",
       "zTKBpmoTAAAACXBIWXMAAA7EAAAOxAGVKw4bAAAA0ElEQVQY02NgwAKaq+86PsYmwcCiNoFjfRVW\n",
       "qSXBDAycWKX4FlQASS0UMffduy8AKaaGAiDZiSwT6wGh2RkXQEUYlR0dwPQNqIAQnwGUFSbA/gNE\n",
       "8wpABR6zToAwODIZuDaApWAGS7E6QBhcHxi4wQY82w0EBWC7oAayFTD0B4AY7TBd7GAXAkG/A8N8\n",
       "MIMbJsUK9hcrUOoAgy4PyAUsDvDQCAISa4HaHXh2cYFF7sDDsHYhx2mg3zhU7IT8wCJNpQ2wkC/7\n",
       "vRA18IKrwQEFAwCqvi28/xxvKQAAAABJRU5ErkJggg==\n",
       "\" style=\"display:inline;vertical-align:middle;\" /></a>, <a class=\"ProveItLink\" href=\"../__pv_it/theorems/a259ec76dfb0a5be60b7c83d797520fa82c1dba60/expr.ipynb\"><img src=\"data:image/png;base64,iVBORw0KGgoAAAANSUhEUgAAADEAAAAQBAMAAABNQoq8AAAAMFBMVEX///8AAAAAAAAAAAAAAAAA\n",
       "AAAAAAAAAAAAAAAAAAAAAAAAAAAAAAAAAAAAAAAAAAAv3aB7AAAAD3RSTlMAELvv3c2ZVESJq3Yi\n",
       "MmZ3LnoBAAAACXBIWXMAAA7EAAAOxAGVKw4bAAAA2UlEQVQY02NgwASSKqF7bjIwMCo7oElwL37A\n",
       "mK8GZLAmoMlkdzIw8IFk+AtQJXgTFIHkMiDuF4AKbXJxCQBSXAIKQFIOiKdAJVo3QmgmHpjxUbuX\n",
       "gyieQCj/FO8ECIPxq4D8AZBDDkBlbnI8gDDYPzIwbwDJwFxwjGMDhMEWwMAP0n7ZBQgUwPZATWOZ\n",
       "wNAPcrcQTA8T2G0Q7+SD3M0Ck+EA+4cDKHOB0Q4cJhvgYdAFJFKBHnvABHF/ODzcVHMYS4BijCvz\n",
       "IAJSGrDAkFT+koMSYJ0q4NCBAQD6uylQEVfDpgAAAABJRU5ErkJggg==\n",
       "\" style=\"display:inline;vertical-align:middle;\" /></a>, <a class=\"ProveItLink\" href=\"../subtraction/__pv_it/theorems/d6724abdc9486f838f4cf63bc1115e85255ce4c00/expr.ipynb\"><img src=\"data:image/png;base64,iVBORw0KGgoAAAANSUhEUgAAADMAAAAQBAMAAABJt1qBAAAAMFBMVEX///8AAAAAAAAAAAAAAAAA\n",
       "AAAAAAAAAAAAAAAAAAAAAAAAAAAAAAAAAAAAAAAAAAAv3aB7AAAAD3RSTlMAMs3vmVREEIndIqt2\n",
       "u2aBbGR5AAAACXBIWXMAAA7EAAAOxAGVKw4bAAAA4UlEQVQY02NgwAIqbiqdkgCzGJUdUGR4Nj9g\n",
       "978CYfMHoEj5ZDAw8EGl8guQZRgdrgPJLRBOJ4Q6O3OmApDiLrgAJOsgYipgMuk4hMfLBbOaa8fB\n",
       "r2BaHSqwmrEBykpewPsdRDMtgApIsD2AMNjtGFgUwFIwZyxhOwBhsHxg4AQbIDwTCC6A7YIayHyB\n",
       "oT4BxKiF6eIFuxAI6g8wvAczOGFSbGB/sQGlAhg2sYJcwHMAHhrZQMIJqP0A6xQWsIgqPAwvebFH\n",
       "Av3Gvqdx9UGwSPU1WHhVXP7phRoXGTfBAQUDAJ+SNfXA0lXRAAAAAElFTkSuQmCC\n",
       "\" style=\"display:inline;vertical-align:middle;\" /></a>, <a class=\"ProveItLink\" href=\"../__pv_it/demonstrations/4a82d58b126555a18b104ddba47c5351567eeaea0/expr.ipynb\"><img src=\"data:image/png;base64,iVBORw0KGgoAAAANSUhEUgAAADEAAAAUCAMAAAATIyWrAAAAPFBMVEX///8AAAAAAAAAAAAAAAAA\n",
       "AAAAAAAAAAAAAAAAAAAAAAAAAAAAAAAAAAAAAAAAAAAAAAAAAAAAAAAAAAAo1xBWAAAAE3RSTlMA\n",
       "Ms3vmVREEIndIqt2u2bn9enzePXnUgAAAAlwSFlzAAAOxAAADsQBlSsOGwAAAOJJREFUKM+VkukS\n",
       "hSAIhQU3zOUuvv+7XrHphjk5Ez8qoePHUZRahfH3NUBt5mSWK6JkNpmodlJkEAtsdR+ExNWpA4hi\n",
       "UULnCCqFGSF7yF1uxb442XBxaLrXYe99i5RgtoES4Q9F4b10K+UTZ0KP15ufB2ertCtSU2uWGVwi\n",
       "TkV7mcqfga4uRl9+Vzhm6NwTbok4nNtm17NKlSpGg/v/fHc3//PK/SZKs+v7IUVUdtgUr/dZtDrs\n",
       "5sawwaihbzsPWeAp0Tw3PiaCLSZYItp/hlKEu0m2pB4G+oeC8hgRniIUrIo/FvAG9zLswUoAAAAA\n",
       "SUVORK5CYII=\n",
       "\" style=\"display:inline;vertical-align:middle;\" /></a> <a class=\"ProveItLink\" href=\"../__pv_it/demonstrations/e64b8871e834c548823d213f299eb203935a2fb00/proof.ipynb\" style=\"text-decoration: none\">&nbsp;&#x22A2;&nbsp;&nbsp;</a><a class=\"ProveItLink\" href=\"../__pv_it/demonstrations/edc33cb670a4af05f3bae3fc9cd7ac079ef777980/expr.ipynb\"><img src=\"data:image/png;base64,iVBORw0KGgoAAAANSUhEUgAAAKAAAAAyBAMAAAApT81WAAAAMFBMVEX///8AAAAAAAAAAAAAAAAA\n",
       "AAAAAAAAAAAAAAAAAAAAAAAAAAAAAAAAAAAAAAAAAAAv3aB7AAAAD3RSTlMAuzKrZonNIu/ddhCZ\n",
       "VERetuGgAAAACXBIWXMAAA7EAAAOxAGVKw4bAAAC6ElEQVRIx61XO4sTURQ+k4eb7OSxpdqYSsuk\n",
       "cEUWZFOJ3QY7bRKwEVQY2D+QZV2iYBFQYQcV4oIINkYEscsUIlolne40SSFilxSLwg7jOnPvTOZx\n",
       "H3MGPEVuMvc7X+553jMAjig1kMi7IaSVi9LdzLO0fNmWYEM93XeXQySPBwe4KoScMtzPfAPJSOGw\n",
       "0hMiqhOyPEkg+hGFFwdC5JzG43tCWMwo/JoYeSNiSiKhB9+jhq+/Zk96680Vd6n84dEEGmYEvmqR\n",
       "H780xWLC9ns40giSRxhomBF4kcRQvQ+lflylbEGBHGLKcWJIw4zA66RMSgsoMulY6kCVPBxx4uZr\n",
       "fNX1B7r+OIBfJtuFNRjN4jqOwpxkgtJnCUMaZgS+C94ZtnhpOCbG5jhRCWmYYXjmiG5P4FJZixPW\n",
       "HEcRfx1xCAMNMwxfpX+uDMrPS0yRNxUvA3dZwpCGGYYrXXqGjevbB0wg1z95385wohxomGG441uE\n",
       "tFGVQl1hYAi3ZpjmQKTOplilyTyqD9DddTphHpVZbZwd1JgahrDaQBO+1VCEa2jC9hBDWOiQxalb\n",
       "ndatWMYowmIffcJNupy4snBbhq7vP9R112dV8pASdhnFE774hEkn7KJPmMpkjA/bWoqgoNIGlYeF\n",
       "xv9ObHylTJdln7ltsITnH9HSa0lJPBQt+2Z88Ig2BxvVHGyuMXPOZVmxRC2Eg6IJ0YkPHhHJ90UV\n",
       "z0HRiyBI2bviCW0TNccRyVn+pHJgM8Dtm3Vq646MbomisbVBONtUenCO+HXlWOZAHwXhG9KdVJhq\n",
       "+NiEzyC66FmUJ19AONuMAZ5SR8u61xLlJ8tMONvsgPqX5pYsDZcoP28M0WyjHkNuQetTMhMHqEiY\n",
       "ebONakO28839JmtYAcqXPeFscxYODUM4EsdRQb8Zimab968ubLjNSJE2Lx8VpHkrqSPN073tZXpJ\n",
       "iBcp3/VeJuznGykJswk2/0z9entP7pI7qQnlL+AfUoXkHwniDbRN7HtqAAAAAElFTkSuQmCC\n",
       "\" style=\"display:inline;vertical-align:middle;\" /></a></span>"
      ],
      "text/plain": [
       "{a in Complex, b in Complex, d in Complex, d != 0} |- ((a / d) + (b / d)) = ((a + b) / d)"
      ]
     },
     "metadata": {},
     "output_type": "display_data"
    }
   ],
   "source": [
    "example_sum_01.combining_terms(assumptions=assumptions)"
   ]
  },
  {
   "cell_type": "code",
   "execution_count": 102,
   "metadata": {},
   "outputs": [
    {
     "data": {
      "text/html": [
       "<span style=\"font-size:20px;\"> <a class=\"ProveItLink\" href=\"../__pv_it/demonstrations/bc3071fdf30b504d637d7008c7c0eb92946830a90/proof.ipynb\" style=\"text-decoration: none\">&nbsp;&#x22A2;&nbsp;&nbsp;</a><a class=\"ProveItLink\" href=\"../__pv_it/demonstrations/e0a89ad1a3a6f3c2736f749cc099082e14750e8a0/expr.ipynb\"><img src=\"data:image/png;base64,iVBORw0KGgoAAAANSUhEUgAAAMMAAAAyBAMAAAATn3IlAAAAMFBMVEX///8AAAAAAAAAAAAAAAAA\n",
       "AAAAAAAAAAAAAAAAAAAAAAAAAAAAAAAAAAAAAAAAAAAv3aB7AAAAD3RSTlMAuzKrZonNIu/ddhCZ\n",
       "VERetuGgAAAACXBIWXMAAA7EAAAOxAGVKw4bAAADu0lEQVRYw51YTWgTQRR++Wma7SZNwYvVgzlV\n",
       "PKUHK1oQcxJvCXqylwZ6EVoh0JsXU6pG0UOgCg0q1IIIXroiiLfsQaQ9NTetl+Yg4q0Vfwpto+7O\n",
       "25/uznvZaeeQ2bx5376Z9968+XYArBbLQ4+mn+THeiPfGN7jWejZzhjsUG9k/Kn7lChz8z/esLts\n",
       "g3tHFHLD/X+ZnUbKFN01bjwK2TeK//rrrGKuLTqtSA9HIx/jP22JVdzCKGQf0sPRyM/YXeHjdd3p\n",
       "Z+jhaKTj6bu46LFX8pymXl/EOVXJ9yByduIWcMjBHft3YE/Ivldje1Je/DFa4uWpUcoCIgfrcMpg\n",
       "kVPCoQKu34GMlJvZPUgvOQ9UKATyfRHWgEVu2tYLYoNmtkGTkjxTgZwQ6ruUCUSuAzwBFtmyDZ0X\n",
       "svQQtDrSNMuwhck3TJlA5Bzof4FFxmzXzINjrUQl9zq6uUTFe95ZYHKbRyateMd/oYk2nMuG35PL\n",
       "WyHCYWLzIVLvQqLyCTikbikN7GDJXMo+y0glqBjDvIY0kVIO8gRsmCaPtJYaq6G18auzy1LqjX1w\n",
       "izZRCR3k25enx/M8cljEWaH1ye5WRE5aXjZVFJNy0igiSx0oyGVjUI5tnNgYBPIrqbXZlremjNX3\n",
       "ZTCB/EKutZRXMQE/CRfkVUzkRmGlqmTihywikJSJIZg0lEzcw9LTFA03CYEkTKQrboWIMtGURetK\n",
       "JrQGXMKnf3bbxokuPsCJ5oQQxxdlMCJ9pbVm836zuRAUglZzTUStgjURuYra4RwViIWyoyarhwh3\n",
       "sDRUFcO9orYv5omkVdoXVo1W3Hr7R956Jmx6x2n8himbGHmEBeQ3UUA6IaWgCUfYKkOhGCaJwTLY\n",
       "5ctgMaQUKoNdtwzmzDBJDFZdpDfZLumCoBKJtIqlVpHoZeAsahw8RIPpWAkpkUirkiVqnnCGp/8J\n",
       "4tTzkSmTR1obNOkssn9sWXbG7EShzR6iLtJTIpFzViCdF1Oc1qert4k8dpAkp/WE/bveprI5bSWs\n",
       "aNHVjxBB1Q4oUUibqsEqsJzWp6sXqJN/FVhO6wkTdtC3Oiyn9ekqSZsRSXJaT5izPayZHKf16WqS\n",
       "Jv8mx2l9Ycnw4BSn9emqRn7CCCTJaX3hgv85RXJaj672+hAjOa0rxA8xXAvJaT26eoxhegbHaV1h\n",
       "DJefKkeRRrIGKSGdshevRylqbeaOIxL53OlfRCmyFxRRSPeCgr8scf1UOfQ1i9O+eU83eyuO8JdF\n",
       "vZHxacWLK336qFde78Tc/gPZVFrILDkNAQAAAABJRU5ErkJggg==\n",
       "\" style=\"display:inline;vertical-align:middle;\" /></a></span>"
      ],
      "text/plain": [
       "|- ((a / d) + (b / d)) = ((a / d) + (b / d))"
      ]
     },
     "metadata": {},
     "output_type": "display_data"
    }
   ],
   "source": [
    "# The Add.combine_like_denoms simplification directive is False by default:\n",
    "example_sum_01.simplification(assumptions=assumptions)"
   ]
  },
  {
   "cell_type": "code",
   "execution_count": 103,
   "metadata": {},
   "outputs": [
    {
     "data": {
      "text/html": [
       "<span style=\"font-size:20px;\"><a class=\"ProveItLink\" href=\"../__pv_it/theorems/e9f87a0977d5044ea8daf1040d2f219396bb3d5b0/expr.ipynb\"><img src=\"data:image/png;base64,iVBORw0KGgoAAAANSUhEUgAAADMAAAAQBAMAAABJt1qBAAAAMFBMVEX///8AAAAAAAAAAAAAAAAA\n",
       "AAAAAAAAAAAAAAAAAAAAAAAAAAAAAAAAAAAAAAAAAAAv3aB7AAAAD3RSTlMAIquJdkTvuxBmmd1U\n",
       "zTKBpmoTAAAACXBIWXMAAA7EAAAOxAGVKw4bAAAA0ElEQVQY02NgwAKaq+86PsYmwcCiNoFjfRVW\n",
       "qSXBDAycWKX4FlQASS0UMffduy8AKaaGAiDZiSwT6wGh2RkXQEUYlR0dwPQNqIAQnwGUFSbA/gNE\n",
       "8wpABR6zToAwODIZuDaApWAGS7E6QBhcHxi4wQY82w0EBWC7oAayFTD0B4AY7TBd7GAXAkG/A8N8\n",
       "MIMbJsUK9hcrUOoAgy4PyAUsDvDQCAISa4HaHXh2cYFF7sDDsHYhx2mg3zhU7IT8wCJNpQ2wkC/7\n",
       "vRA18IKrwQEFAwCqvi28/xxvKQAAAABJRU5ErkJggg==\n",
       "\" style=\"display:inline;vertical-align:middle;\" /></a>, <a class=\"ProveItLink\" href=\"../__pv_it/theorems/a259ec76dfb0a5be60b7c83d797520fa82c1dba60/expr.ipynb\"><img src=\"data:image/png;base64,iVBORw0KGgoAAAANSUhEUgAAADEAAAAQBAMAAABNQoq8AAAAMFBMVEX///8AAAAAAAAAAAAAAAAA\n",
       "AAAAAAAAAAAAAAAAAAAAAAAAAAAAAAAAAAAAAAAAAAAv3aB7AAAAD3RSTlMAELvv3c2ZVESJq3Yi\n",
       "MmZ3LnoBAAAACXBIWXMAAA7EAAAOxAGVKw4bAAAA2UlEQVQY02NgwASSKqF7bjIwMCo7oElwL37A\n",
       "mK8GZLAmoMlkdzIw8IFk+AtQJXgTFIHkMiDuF4AKbXJxCQBSXAIKQFIOiKdAJVo3QmgmHpjxUbuX\n",
       "gyieQCj/FO8ECIPxq4D8AZBDDkBlbnI8gDDYPzIwbwDJwFxwjGMDhMEWwMAP0n7ZBQgUwPZATWOZ\n",
       "wNAPcrcQTA8T2G0Q7+SD3M0Ck+EA+4cDKHOB0Q4cJhvgYdAFJFKBHnvABHF/ODzcVHMYS4BijCvz\n",
       "IAJSGrDAkFT+koMSYJ0q4NCBAQD6uylQEVfDpgAAAABJRU5ErkJggg==\n",
       "\" style=\"display:inline;vertical-align:middle;\" /></a>, <a class=\"ProveItLink\" href=\"../subtraction/__pv_it/theorems/d6724abdc9486f838f4cf63bc1115e85255ce4c00/expr.ipynb\"><img src=\"data:image/png;base64,iVBORw0KGgoAAAANSUhEUgAAADMAAAAQBAMAAABJt1qBAAAAMFBMVEX///8AAAAAAAAAAAAAAAAA\n",
       "AAAAAAAAAAAAAAAAAAAAAAAAAAAAAAAAAAAAAAAAAAAv3aB7AAAAD3RSTlMAMs3vmVREEIndIqt2\n",
       "u2aBbGR5AAAACXBIWXMAAA7EAAAOxAGVKw4bAAAA4UlEQVQY02NgwAIqbiqdkgCzGJUdUGR4Nj9g\n",
       "978CYfMHoEj5ZDAw8EGl8guQZRgdrgPJLRBOJ4Q6O3OmApDiLrgAJOsgYipgMuk4hMfLBbOaa8fB\n",
       "r2BaHSqwmrEBykpewPsdRDMtgApIsD2AMNjtGFgUwFIwZyxhOwBhsHxg4AQbIDwTCC6A7YIayHyB\n",
       "oT4BxKiF6eIFuxAI6g8wvAczOGFSbGB/sQGlAhg2sYJcwHMAHhrZQMIJqP0A6xQWsIgqPAwvebFH\n",
       "Av3Gvqdx9UGwSPU1WHhVXP7phRoXGTfBAQUDAJ+SNfXA0lXRAAAAAElFTkSuQmCC\n",
       "\" style=\"display:inline;vertical-align:middle;\" /></a>, <a class=\"ProveItLink\" href=\"../__pv_it/demonstrations/4a82d58b126555a18b104ddba47c5351567eeaea0/expr.ipynb\"><img src=\"data:image/png;base64,iVBORw0KGgoAAAANSUhEUgAAADEAAAAUCAMAAAATIyWrAAAAPFBMVEX///8AAAAAAAAAAAAAAAAA\n",
       "AAAAAAAAAAAAAAAAAAAAAAAAAAAAAAAAAAAAAAAAAAAAAAAAAAAAAAAAAAAo1xBWAAAAE3RSTlMA\n",
       "Ms3vmVREEIndIqt2u2bn9enzePXnUgAAAAlwSFlzAAAOxAAADsQBlSsOGwAAAOJJREFUKM+VkukS\n",
       "hSAIhQU3zOUuvv+7XrHphjk5Ez8qoePHUZRahfH3NUBt5mSWK6JkNpmodlJkEAtsdR+ExNWpA4hi\n",
       "UULnCCqFGSF7yF1uxb442XBxaLrXYe99i5RgtoES4Q9F4b10K+UTZ0KP15ufB2ertCtSU2uWGVwi\n",
       "TkV7mcqfga4uRl9+Vzhm6NwTbok4nNtm17NKlSpGg/v/fHc3//PK/SZKs+v7IUVUdtgUr/dZtDrs\n",
       "5sawwaihbzsPWeAp0Tw3PiaCLSZYItp/hlKEu0m2pB4G+oeC8hgRniIUrIo/FvAG9zLswUoAAAAA\n",
       "SUVORK5CYII=\n",
       "\" style=\"display:inline;vertical-align:middle;\" /></a> <a class=\"ProveItLink\" href=\"../__pv_it/demonstrations/e64b8871e834c548823d213f299eb203935a2fb00/proof.ipynb\" style=\"text-decoration: none\">&nbsp;&#x22A2;&nbsp;&nbsp;</a><a class=\"ProveItLink\" href=\"../__pv_it/demonstrations/edc33cb670a4af05f3bae3fc9cd7ac079ef777980/expr.ipynb\"><img src=\"data:image/png;base64,iVBORw0KGgoAAAANSUhEUgAAAKAAAAAyBAMAAAApT81WAAAAMFBMVEX///8AAAAAAAAAAAAAAAAA\n",
       "AAAAAAAAAAAAAAAAAAAAAAAAAAAAAAAAAAAAAAAAAAAv3aB7AAAAD3RSTlMAuzKrZonNIu/ddhCZ\n",
       "VERetuGgAAAACXBIWXMAAA7EAAAOxAGVKw4bAAAC6ElEQVRIx61XO4sTURQ+k4eb7OSxpdqYSsuk\n",
       "cEUWZFOJ3QY7bRKwEVQY2D+QZV2iYBFQYQcV4oIINkYEscsUIlolne40SSFilxSLwg7jOnPvTOZx\n",
       "H3MGPEVuMvc7X+553jMAjig1kMi7IaSVi9LdzLO0fNmWYEM93XeXQySPBwe4KoScMtzPfAPJSOGw\n",
       "0hMiqhOyPEkg+hGFFwdC5JzG43tCWMwo/JoYeSNiSiKhB9+jhq+/Zk96680Vd6n84dEEGmYEvmqR\n",
       "H780xWLC9ns40giSRxhomBF4kcRQvQ+lflylbEGBHGLKcWJIw4zA66RMSgsoMulY6kCVPBxx4uZr\n",
       "fNX1B7r+OIBfJtuFNRjN4jqOwpxkgtJnCUMaZgS+C94ZtnhpOCbG5jhRCWmYYXjmiG5P4FJZixPW\n",
       "HEcRfx1xCAMNMwxfpX+uDMrPS0yRNxUvA3dZwpCGGYYrXXqGjevbB0wg1z95385wohxomGG441uE\n",
       "tFGVQl1hYAi3ZpjmQKTOplilyTyqD9DddTphHpVZbZwd1JgahrDaQBO+1VCEa2jC9hBDWOiQxalb\n",
       "ndatWMYowmIffcJNupy4snBbhq7vP9R112dV8pASdhnFE774hEkn7KJPmMpkjA/bWoqgoNIGlYeF\n",
       "xv9ObHylTJdln7ltsITnH9HSa0lJPBQt+2Z88Ig2BxvVHGyuMXPOZVmxRC2Eg6IJ0YkPHhHJ90UV\n",
       "z0HRiyBI2bviCW0TNccRyVn+pHJgM8Dtm3Vq646MbomisbVBONtUenCO+HXlWOZAHwXhG9KdVJhq\n",
       "+NiEzyC66FmUJ19AONuMAZ5SR8u61xLlJ8tMONvsgPqX5pYsDZcoP28M0WyjHkNuQetTMhMHqEiY\n",
       "ebONakO28839JmtYAcqXPeFscxYODUM4EsdRQb8Zimab968ubLjNSJE2Lx8VpHkrqSPN073tZXpJ\n",
       "iBcp3/VeJuznGykJswk2/0z9entP7pI7qQnlL+AfUoXkHwniDbRN7HtqAAAAAElFTkSuQmCC\n",
       "\" style=\"display:inline;vertical-align:middle;\" /></a></span>"
      ],
      "text/plain": [
       "{a in Complex, b in Complex, d in Complex, d != 0} |- ((a / d) + (b / d)) = ((a + b) / d)"
      ]
     },
     "metadata": {},
     "output_type": "display_data"
    }
   ],
   "source": [
    "# We can temporarily set Add.combine_like_denoms to True\n",
    "with Add.temporary_simplification_directives() as tmp_directives:\n",
    "    tmp_directives.combine_like_denoms = True\n",
    "    example_sum_01.simplification(assumptions=assumptions)"
   ]
  },
  {
   "cell_type": "code",
   "execution_count": 104,
   "metadata": {},
   "outputs": [
    {
     "data": {
      "text/html": [
       "<a class=\"ProveItLink\" href=\"../__pv_it/demonstrations/9901a906dd0fe92815db16751a02232125960f080/expr.ipynb\"><img src=\"data:image/png;base64,iVBORw0KGgoAAAANSUhEUgAAAK4AAAAlBAMAAAApVc/GAAAAMFBMVEX///8AAAAAAAAAAAAAAAAA\n",
       "AAAAAAAAAAAAAAAAAAAAAAAAAAAAAAAAAAAAAAAAAAAv3aB7AAAAD3RSTlMAIquJdkTvuxBmmd1U\n",
       "zTKBpmoTAAAACXBIWXMAAA7EAAAOxAGVKw4bAAAB7klEQVRIx+2Wv0sCYRjHv1eo12Vq1hBNka5B\n",
       "kFsQhluRNLlGU1QQDQ1NJQ1Bk/4DkWM/iIKgQSFsFsKpoaUCt6huKHCw7Lx71ffyfeseqc3v9J7P\n",
       "8/0cvnfvc19ACU1HIVQwMgiaeEci4CkLm1yL2E6SsLxDXYZ2DnW/tWs3jROoE6PO2aaDSdPRO47S\n",
       "bGvXGXABrXZXpzIdTO51pOaBQmvXEtR3+OeVT8dc08GUiuIAIq76hh4dPUnnXOY4Ks3UuHmMeQMi\n",
       "bgVdxWug2/E+WI69RNodADxRb1YT7sMGCpkM8OT8uZmOoTn4DYsangrGhdyd2GP4Acqm8/fMcoSR\n",
       "aP5UkPUOo594ONZw7PuVq2y9HNKwio6rm/rFwH2kcWjSfJe7WtWFBf6Y2QquEcREnV7JtGij0OH+\n",
       "H7faUO25a7nc5WouN2Is/c2KvWCX2FHt7G/b3FTRmFYfbPGH3F5jeCJbX/zMfV6RcH23Geo+cCyg\n",
       "Ipki8OdBmzs8C66y7J8s0CLEN5b8IzZJxdpYfRlZ1x2Z22QFI6958ewPxSvkiNZgyYOYNLs5imhG\n",
       "rDoVBwIjuxVpXJ7Fxyr7rDKzG0k8i49VNrHsRhHHsmKVSCy7EcSz6kFMwLWyG4XLs1gQaxXLbhTx\n",
       "LCtWie5uZTeK6qwvWzrE+34cY9kAAAAASUVORK5CYII=\n",
       "\" style=\"display:inline;vertical-align:middle;\" /></a>"
      ],
      "text/plain": [
       "(a_{1} / d) +  (a_{2} / d) +  ... +  (a_{n} / d)"
      ]
     },
     "metadata": {},
     "output_type": "display_data"
    }
   ],
   "source": [
    "example_sum_02"
   ]
  },
  {
   "cell_type": "code",
   "execution_count": 105,
   "metadata": {},
   "outputs": [
    {
     "data": {
      "text/html": [
       "<span style=\"font-size:20px;\"><a class=\"ProveItLink\" href=\"../../number_sets/natural_numbers/__pv_it/theorems/132c57ec1224a4beaf274a23bd799047020206590/expr.ipynb\"><img src=\"data:image/png;base64,iVBORw0KGgoAAAANSUhEUgAAAEEAAAATBAMAAAA9n32KAAAAMFBMVEX///8AAAAAAAAAAAAAAAAA\n",
       "AAAAAAAAAAAAAAAAAAAAAAAAAAAAAAAAAAAAAAAAAAAv3aB7AAAAD3RSTlMARHarECKJu90yVM1m\n",
       "75kejotwAAAACXBIWXMAAA7EAAAOxAGVKw4bAAAA90lEQVQoz2NgwAf4GAgBdrJVeHyvdmDI/SuA\n",
       "x4wqRgMGlg/4bLEIyGFguMDwvLy2vPwAVhVWBdwBDA3YzFDv6NgAok0PsW7AqkJaBcowZZ6ghlDB\n",
       "qOyaVAQWZ90CU2rKUMAuAFfBxm7E4B8AYnEHIFTMY2lpgIWpIEcBQ/wEsAoGhAqeBcsvwHgO/gIM\n",
       "6x1ArLkdQFAAUcFgwgxXwbCegcEazHBHMoPBmaUBzgVK/2EBMTiQVXAqFMC51xi4vrCBGEwKMKFK\n",
       "INaEq2D9ycC04SSYuQsmBmLwbYDxGBsYWGwWgJnOhWAXM8z+C9TPsgFbfIhVdGCKAwDDkzTgOh63\n",
       "3AAAAABJRU5ErkJggg==\n",
       "\" style=\"display:inline;vertical-align:middle;\" /></a>, <a class=\"ProveItLink\" href=\"../__pv_it/demonstrations/8299fddf7b95e32355a06ac6ec851f23cef9a12a0/expr.ipynb\"><img src=\"data:image/png;base64,iVBORw0KGgoAAAANSUhEUgAAASMAAAAVBAMAAAD/WpUaAAAAMFBMVEX///8AAAAAAAAAAAAAAAAA\n",
       "AAAAAAAAAAAAAAAAAAAAAAAAAAAAAAAAAAAAAAAAAAAv3aB7AAAAD3RSTlMAInZUiRDNmWbv3US7\n",
       "qzJazP2FAAAACXBIWXMAAA7EAAAOxAGVKw4bAAACxklEQVRIx5WWPWjUUBzA/8k1zV3uetzgB0hL\n",
       "cwUXEbmhdehUnESsHOUGh8qdiuJmWkSKi120Q0HrVnTwQLQQHESq4FA4BS2ei4gfCA5BC6KDdKmD\n",
       "DvV95L0k/t/LNf/hJfm/3y9533cAUIH0qGgfesGZq0PArGnrG93z1Q14HMtkgnGk6HF/VP+Cz/PW\n",
       "1XUw56NUJhjHKOzEt1paanYVIL8OcE5mMsE4UvS4b2u7VfZekvITwIJMZYJx6PWEX8DVB32fdmeg\n",
       "3iHlSYLURQ2Gza7/ANQwDsW3VP5hRD3dz68lw+M3/bJzCC6eqWthHPhbSv8SuRjvq66kDLEahsoT\n",
       "/KbvrahD8J66HsaBdLV/gVyeVUpbkuoXZ8dGMexwXq5KBJ8GPYwD6Wr/HtkIy2C3wboeNklQe4th\n",
       "d3JLIiXhxuQHlmilwDikLkPp3yEbYROcCfh6gOd++CQ6bHrDsSxvClHCHlxhNbcJ+xDUMA6py32m\n",
       "9AlW6EDzEcA4z00LvsQ2AV2DS7F3cvgvDAf0oOmkwMomhd8SB5XSJ4PZdOEmyCY5cjewo6JIxrId\n",
       "G3kOX+NNgnYKrJw4ri/cGOEbTOm/IFgNPuYqokmm3BCza6S4TFYc7YBFMxEMxxgyAkoYn00Jfffi\n",
       "MtzS+5Nk0Nzcii1HCc7KY+zVjDVOemPTaW7SlRjB5ft8L9RUsPVbCLSInoRuTLVgS+//JM67E0OH\n",
       "oiadeiM62Xj9Z4ZOJZ18h7Yhggc5Y315AgrYJ7UOnRpWrCB9wA2XnNJ3ApETTYLVrp84XPaxcozy\n",
       "AjY8gx9fxeP8ByEJ5/DMJfRCYHuB1s97qEn/xxwr6exJePDX93oK3IfzCX0YnG+B3n8e3u+6eEQN\n",
       "GWx7WmzVC/ju9nYaPIWXd0JfA/Noij/d679nif/5TB5a6bCLf/F3pnPfcHtQ1XgnssCKMeilU/8f\n",
       "yjDubGpM3VAAAAAASUVORK5CYII=\n",
       "\" style=\"display:inline;vertical-align:middle;\" /></a>, <a class=\"ProveItLink\" href=\"../subtraction/__pv_it/theorems/d6724abdc9486f838f4cf63bc1115e85255ce4c00/expr.ipynb\"><img src=\"data:image/png;base64,iVBORw0KGgoAAAANSUhEUgAAADMAAAAQBAMAAABJt1qBAAAAMFBMVEX///8AAAAAAAAAAAAAAAAA\n",
       "AAAAAAAAAAAAAAAAAAAAAAAAAAAAAAAAAAAAAAAAAAAv3aB7AAAAD3RSTlMAMs3vmVREEIndIqt2\n",
       "u2aBbGR5AAAACXBIWXMAAA7EAAAOxAGVKw4bAAAA4UlEQVQY02NgwAIqbiqdkgCzGJUdUGR4Nj9g\n",
       "978CYfMHoEj5ZDAw8EGl8guQZRgdrgPJLRBOJ4Q6O3OmApDiLrgAJOsgYipgMuk4hMfLBbOaa8fB\n",
       "r2BaHSqwmrEBykpewPsdRDMtgApIsD2AMNjtGFgUwFIwZyxhOwBhsHxg4AQbIDwTCC6A7YIayHyB\n",
       "oT4BxKiF6eIFuxAI6g8wvAczOGFSbGB/sQGlAhg2sYJcwHMAHhrZQMIJqP0A6xQWsIgqPAwvebFH\n",
       "Av3Gvqdx9UGwSPU1WHhVXP7phRoXGTfBAQUDAJ+SNfXA0lXRAAAAAElFTkSuQmCC\n",
       "\" style=\"display:inline;vertical-align:middle;\" /></a>, <a class=\"ProveItLink\" href=\"../__pv_it/demonstrations/4a82d58b126555a18b104ddba47c5351567eeaea0/expr.ipynb\"><img src=\"data:image/png;base64,iVBORw0KGgoAAAANSUhEUgAAADEAAAAUCAMAAAATIyWrAAAAPFBMVEX///8AAAAAAAAAAAAAAAAA\n",
       "AAAAAAAAAAAAAAAAAAAAAAAAAAAAAAAAAAAAAAAAAAAAAAAAAAAAAAAAAAAo1xBWAAAAE3RSTlMA\n",
       "Ms3vmVREEIndIqt2u2bn9enzePXnUgAAAAlwSFlzAAAOxAAADsQBlSsOGwAAAOJJREFUKM+VkukS\n",
       "hSAIhQU3zOUuvv+7XrHphjk5Ez8qoePHUZRahfH3NUBt5mSWK6JkNpmodlJkEAtsdR+ExNWpA4hi\n",
       "UULnCCqFGSF7yF1uxb442XBxaLrXYe99i5RgtoES4Q9F4b10K+UTZ0KP15ufB2ertCtSU2uWGVwi\n",
       "TkV7mcqfga4uRl9+Vzhm6NwTbok4nNtm17NKlSpGg/v/fHc3//PK/SZKs+v7IUVUdtgUr/dZtDrs\n",
       "5sawwaihbzsPWeAp0Tw3PiaCLSZYItp/hlKEu0m2pB4G+oeC8hgRniIUrIo/FvAG9zLswUoAAAAA\n",
       "SUVORK5CYII=\n",
       "\" style=\"display:inline;vertical-align:middle;\" /></a> <a class=\"ProveItLink\" href=\"../__pv_it/demonstrations/24684e62cb2850b27425fdb4367c83d0524562cc0/proof.ipynb\" style=\"text-decoration: none\">&nbsp;&#x22A2;&nbsp;&nbsp;</a><a class=\"ProveItLink\" href=\"../__pv_it/demonstrations/d6de1d340624866f68bdd2f13ce7cdd5449b0f750/expr.ipynb\"><img src=\"data:image/png;base64,iVBORw0KGgoAAAANSUhEUgAAAYoAAAAoBAMAAAAS86ByAAAAMFBMVEX///8AAAAAAAAAAAAAAAAA\n",
       "AAAAAAAAAAAAAAAAAAAAAAAAAAAAAAAAAAAAAAAAAAAv3aB7AAAAD3RSTlMAmVSrZs0y7xCJ3bsi\n",
       "RHYwvcNTAAAACXBIWXMAAA7EAAAOxAGVKw4bAAAD7UlEQVRYw91YTWgTQRR+SWOSNht3RQXpxZw8\n",
       "BNkWRLAIJSCit8aTeLIerCDSqIiKCgZUigdJQBDsoVgFf4KHiiCeNFJEpWJyEHo0HqxUBENQ6aE1\n",
       "Zmc3szO7M+nMxt2CDxqmb+b9fDPz5r19AGtPH6XYHSbWlHQpNm8ilPLNwWv5wFBsbP0pQ99rbJnZ\n",
       "qQ+SrhMS0YesBQ5jemc2FwXlWSTb+pkvJ5aYIslL8DIvBYKS2MNa4TCmd2bzUNCeHWsN42cgdAfi\n",
       "e90iExnoh/jtHeJIkESbEozb6jSmk+zrN3cJoqDswCEjNOrQV4Txb26RrQCPIGToFyUkgT0+z4hD\n",
       "0lh/qXSuVLqH2Zrpms12kD1B2QkbpxibgUIVIO2WugjxFVCrym9hFEiCCjoHOY3pJHsFKqNiZ0HZ\n",
       "aeEHKNRgBFgo4n8gUodIXhyFJbFp/DP6t1J2rXAa00n2flEUtJ2cceMLKdgZLrNQNKAnux2gV/hG\n",
       "mRJX5zMx5H+i6EbhMKZTbJgUiwvazm5kqxaeDjFv1AtIaxrAcfHoRhJvv4CKRCInXQucxnSKjR/n\n",
       "dtD/MhBmrQExQdn5iZYO35pdYKK4snhieBSU5+IvrSkxDPNmEmi4T8thTKfYc3nHWUwb116zBsQE\n",
       "aSe6TOhP8zx7Be8lU99Z2BDFTjApzUwMiqaUZXK3aacVIaujUJ6NbZEDodTh/jY02rwqCqq6mxs7\n",
       "kpeoBi07PVmb9e7wFE7AGeptbDbrzAkyZVMTyUFYNBk/OOsJYyRdbjalCgXTTmyQORvmVFXyEwOj\n",
       "AZTFatFnFLlUECgyPqMoZAJAUUn5jEJF/FAJ0aBPKHK+oygGcBafqsZvE1Pd3LgHF8yNU+0ZesJR\n",
       "pjIl0Gujas7FzX9OAZyFFsBZ5P6LuKj4/UapQbxRhZo3Z3GVWch2lqgEkS9imjcUuMrs01bJetUA\n",
       "UKybscdHT3FQRA9qsjcK6xrIe3eOcKgzhcivmAantgM1BXLVoK1rsps9bgiuixAtoOQSN6tIbyjW\n",
       "9bQLEHyH3J/JmPgf1/IbinX97AKF+Nf+EyJGuAnqgHy8WbqSy90ErXDG3NcezE5xMqAytNCQNG/r\n",
       "6s16xsB1iJUwrJeQ35Dl9nD599nWFfOcLqQ6xO3NmshwPpGN/qnkhhK6vno+Cq5DnG4FIqrtSb3F\n",
       "dbN/KEGErtOeUXAdYpLVu6bbq2R2n8G3TpRsXeu9hwXXIfZDgNKV2fbkVFojcvYJXW/KXkHwHWIv\n",
       "f2zlDdSQZaCw+qcSGrGu+F3PR8F3iE2v0UtgNWTdZPVPZQjrSnRRlnMdYpOCOkZm25O1KWb/VIaw\n",
       "rhtdpDyuQ276C8pq0j6r0cf1AAAAAElFTkSuQmCC\n",
       "\" style=\"display:inline;vertical-align:middle;\" /></a></span>"
      ],
      "text/plain": [
       "{n in NaturalPos,(a_{1} in Complex), (a_{2} in Complex), ..., (a_{n} in Complex), d in Complex, d != 0} |- ((a_{1} / d) +  (a_{2} / d) +  ... +  (a_{n} / d)) = ((a_{1} +  a_{2} +  ... +  a_{n}) / d)"
      ]
     },
     "metadata": {},
     "output_type": "display_data"
    }
   ],
   "source": [
    "example_sum_02.combining_terms(assumptions=assumptions)"
   ]
  },
  {
   "cell_type": "code",
   "execution_count": 106,
   "metadata": {},
   "outputs": [
    {
     "data": {
      "text/html": [
       "<span style=\"font-size:20px;\"> <a class=\"ProveItLink\" href=\"../__pv_it/demonstrations/0bb389c2af807afd1250a4d0f8450203c99acccb0/proof.ipynb\" style=\"text-decoration: none\">&nbsp;&#x22A2;&nbsp;&nbsp;</a><a class=\"ProveItLink\" href=\"../__pv_it/demonstrations/f2edc6a8500702def78b0eee22e312175ff63bea0/expr.ipynb\"><img src=\"data:image/png;base64,iVBORw0KGgoAAAANSUhEUgAAAasAAAAmBAMAAACIZqnsAAAAMFBMVEX///8AAAAAAAAAAAAAAAAA\n",
       "AAAAAAAAAAAAAAAAAAAAAAAAAAAAAAAAAAAAAAAAAAAv3aB7AAAAD3RSTlMAmVSrZs0y7xCJ3bsi\n",
       "RHYwvcNTAAAACXBIWXMAAA7EAAAOxAGVKw4bAAAEdUlEQVRYw8VZTWhUVxQ+M05mnp03mVErLdk4\n",
       "KxdBmgFxIUIYEOkyEQpVXJiNClLy00or1cWALYIgk42CWYSmgq1DF6lK0Y2OBP9AmlkIWWZcmGIp\n",
       "dAxpiWAS3/15793xnvPmvpCrH+TOm3fu+b4599177n0nAACJIliCc4iybLUlCT9W5MU278/d+08T\n",
       "7zYz+WdMYsXjZAXvkihZk0z/Kj5Tg14zV88uow65s3CvEktC9UiV8D4H7EnCfvFxwrvhnILET+Ac\n",
       "0D3Ol6EHnCu7zXW4h48baJf0aYuSWbGmDrNJ0YKPxmH4b91jB8B1SLBfYAruEQiiv61r3KKkc5q1\n",
       "STYTMtNQbQD06h5nwFmBfMP931iDe6iLSEdfxaIkzxVsyACqTRgATMNZhVQLUhVzDenx8fBz9s19\n",
       "g/W5blMSZuteM8KmSbUIe5J1TGMRNg3uAthsPCOExw9z5QxjhzvY0lq2KpllD2ofv2ompxLojLgL\n",
       "vYUCnamB8Hj8AvLc5XOkx6Zpq5KpUa9Z4vH2X55ZQDXOvfyqfwjc2+bZVnj0w5yYEcheny9blXQX\n",
       "vQmhTv5eyu8+PI25QX4LW9J86RZ020jdqiRMAVtrnTXcP45/Gk/CbcG1nTwVDurGAbuSsN2b54rs\n",
       "k6OT/uWzNo/M2poffa5MsLZ75Erwkvfsbuld96CS7cwmku2GQBL+9dzx481n1JgkiXMc5ZFE0vQ3\n",
       "8ZhjG/qGID9uN6z0on7vteWwRooiK1kMy1nS7y1ZDqtaRhPwRoYFq+IQVeMo+QnYalj5JntgdsN6\n",
       "bTQvNzascZhvsIu1ACz99NRq39VqV3mP0CLG/Jfv5Zi3AfdgLvBKT2AruqTCbCiJe3DJfMH+03r1\n",
       "AZ7WewhLX1vp97C2Zi1nQiTtubYzoZfdq831hVX1TifOf/IiwgNJe87q+n59IMmbCA8vu2cK6wuL\n",
       "H2GnlLMstR2v6PfG1hdWICmaiO24AV3T4ddjY0RYisFwEqa/lNEmkerSEQPmgMB8EgZcfRVIjCqG\n",
       "ReLgqhgMj7qQl6kIe8f9xIQ5X+wo+a7B55rwXkyU0cwtU/7LsYur8/LdNoscpQcqBszzlbiSAddN\n",
       "XgcIQFYPzMsKASbUN+F3z2xFA+aJ2JIBF8u0vyvluwLhQBpoHPQHva7bsgUD5oOxJX2u3Bu1hjIz\n",
       "SWzNpIF+Ud274E+CS4g5NdqJWSEwRci1mW051YaMkap8xy+Jq+X1r7GXlZVOzGR9nl5YIVem6McG\n",
       "vI69HXUgDXTd7lRQwugexTpc6sCsEJhC4fpLFmw42urYKkgDCVFeD0dOQ2YomlkhMIXCJSaI/J9F\n",
       "ex1bAWkgIcvrDC/QDqnBaGaFwBQhV7cg7yrLg1qqhU4IykBDltfZ0j+L9/gimjkkMJ73IdcjkXud\n",
       "33grK9+6A2WICEuU1z1cIFLohXokc0hgHFbA5fwsbz3gGURWvnWQBhKyvO7hFrUDHIpkDgmMEXBl\n",
       "/f3f5QtY1LERkAZ66ER53bsgF8jDSOaAwBwB10XWvAVmQ/1FUJJeSwAAAABJRU5ErkJggg==\n",
       "\" style=\"display:inline;vertical-align:middle;\" /></a></span>"
      ],
      "text/plain": [
       "|- ((a_{1} / d) +  (a_{2} / d) +  ... +  (a_{n} / d)) = ((a_{1} / d) +  (a_{2} / d) +  ... +  (a_{n} / d))"
      ]
     },
     "metadata": {},
     "output_type": "display_data"
    }
   ],
   "source": [
    "# The Add.combine_like_denoms simplification directive is False by default:\n",
    "example_sum_02.simplification(assumptions=assumptions)"
   ]
  },
  {
   "cell_type": "code",
   "execution_count": 107,
   "metadata": {},
   "outputs": [
    {
     "data": {
      "text/html": [
       "<span style=\"font-size:20px;\"><a class=\"ProveItLink\" href=\"../../number_sets/natural_numbers/__pv_it/theorems/132c57ec1224a4beaf274a23bd799047020206590/expr.ipynb\"><img src=\"data:image/png;base64,iVBORw0KGgoAAAANSUhEUgAAAEEAAAATBAMAAAA9n32KAAAAMFBMVEX///8AAAAAAAAAAAAAAAAA\n",
       "AAAAAAAAAAAAAAAAAAAAAAAAAAAAAAAAAAAAAAAAAAAv3aB7AAAAD3RSTlMARHarECKJu90yVM1m\n",
       "75kejotwAAAACXBIWXMAAA7EAAAOxAGVKw4bAAAA90lEQVQoz2NgwAf4GAgBdrJVeHyvdmDI/SuA\n",
       "x4wqRgMGlg/4bLEIyGFguMDwvLy2vPwAVhVWBdwBDA3YzFDv6NgAok0PsW7AqkJaBcowZZ6ghlDB\n",
       "qOyaVAQWZ90CU2rKUMAuAFfBxm7E4B8AYnEHIFTMY2lpgIWpIEcBQ/wEsAoGhAqeBcsvwHgO/gIM\n",
       "6x1ArLkdQFAAUcFgwgxXwbCegcEazHBHMoPBmaUBzgVK/2EBMTiQVXAqFMC51xi4vrCBGEwKMKFK\n",
       "INaEq2D9ycC04SSYuQsmBmLwbYDxGBsYWGwWgJnOhWAXM8z+C9TPsgFbfIhVdGCKAwDDkzTgOh63\n",
       "3AAAAABJRU5ErkJggg==\n",
       "\" style=\"display:inline;vertical-align:middle;\" /></a>, <a class=\"ProveItLink\" href=\"../__pv_it/demonstrations/8299fddf7b95e32355a06ac6ec851f23cef9a12a0/expr.ipynb\"><img src=\"data:image/png;base64,iVBORw0KGgoAAAANSUhEUgAAASMAAAAVBAMAAAD/WpUaAAAAMFBMVEX///8AAAAAAAAAAAAAAAAA\n",
       "AAAAAAAAAAAAAAAAAAAAAAAAAAAAAAAAAAAAAAAAAAAv3aB7AAAAD3RSTlMAInZUiRDNmWbv3US7\n",
       "qzJazP2FAAAACXBIWXMAAA7EAAAOxAGVKw4bAAACxklEQVRIx5WWPWjUUBzA/8k1zV3uetzgB0hL\n",
       "cwUXEbmhdehUnESsHOUGh8qdiuJmWkSKi120Q0HrVnTwQLQQHESq4FA4BS2ei4gfCA5BC6KDdKmD\n",
       "DvV95L0k/t/LNf/hJfm/3y9533cAUIH0qGgfesGZq0PArGnrG93z1Q14HMtkgnGk6HF/VP+Cz/PW\n",
       "1XUw56NUJhjHKOzEt1paanYVIL8OcE5mMsE4UvS4b2u7VfZekvITwIJMZYJx6PWEX8DVB32fdmeg\n",
       "3iHlSYLURQ2Gza7/ANQwDsW3VP5hRD3dz68lw+M3/bJzCC6eqWthHPhbSv8SuRjvq66kDLEahsoT\n",
       "/KbvrahD8J66HsaBdLV/gVyeVUpbkuoXZ8dGMexwXq5KBJ8GPYwD6Wr/HtkIy2C3wboeNklQe4th\n",
       "d3JLIiXhxuQHlmilwDikLkPp3yEbYROcCfh6gOd++CQ6bHrDsSxvClHCHlxhNbcJ+xDUMA6py32m\n",
       "9AlW6EDzEcA4z00LvsQ2AV2DS7F3cvgvDAf0oOmkwMomhd8SB5XSJ4PZdOEmyCY5cjewo6JIxrId\n",
       "G3kOX+NNgnYKrJw4ri/cGOEbTOm/IFgNPuYqokmm3BCza6S4TFYc7YBFMxEMxxgyAkoYn00Jfffi\n",
       "MtzS+5Nk0Nzcii1HCc7KY+zVjDVOemPTaW7SlRjB5ft8L9RUsPVbCLSInoRuTLVgS+//JM67E0OH\n",
       "oiadeiM62Xj9Z4ZOJZ18h7Yhggc5Y315AgrYJ7UOnRpWrCB9wA2XnNJ3ApETTYLVrp84XPaxcozy\n",
       "AjY8gx9fxeP8ByEJ5/DMJfRCYHuB1s97qEn/xxwr6exJePDX93oK3IfzCX0YnG+B3n8e3u+6eEQN\n",
       "GWx7WmzVC/ju9nYaPIWXd0JfA/Noij/d679nif/5TB5a6bCLf/F3pnPfcHtQ1XgnssCKMeilU/8f\n",
       "yjDubGpM3VAAAAAASUVORK5CYII=\n",
       "\" style=\"display:inline;vertical-align:middle;\" /></a>, <a class=\"ProveItLink\" href=\"../subtraction/__pv_it/theorems/d6724abdc9486f838f4cf63bc1115e85255ce4c00/expr.ipynb\"><img src=\"data:image/png;base64,iVBORw0KGgoAAAANSUhEUgAAADMAAAAQBAMAAABJt1qBAAAAMFBMVEX///8AAAAAAAAAAAAAAAAA\n",
       "AAAAAAAAAAAAAAAAAAAAAAAAAAAAAAAAAAAAAAAAAAAv3aB7AAAAD3RSTlMAMs3vmVREEIndIqt2\n",
       "u2aBbGR5AAAACXBIWXMAAA7EAAAOxAGVKw4bAAAA4UlEQVQY02NgwAIqbiqdkgCzGJUdUGR4Nj9g\n",
       "978CYfMHoEj5ZDAw8EGl8guQZRgdrgPJLRBOJ4Q6O3OmApDiLrgAJOsgYipgMuk4hMfLBbOaa8fB\n",
       "r2BaHSqwmrEBykpewPsdRDMtgApIsD2AMNjtGFgUwFIwZyxhOwBhsHxg4AQbIDwTCC6A7YIayHyB\n",
       "oT4BxKiF6eIFuxAI6g8wvAczOGFSbGB/sQGlAhg2sYJcwHMAHhrZQMIJqP0A6xQWsIgqPAwvebFH\n",
       "Av3Gvqdx9UGwSPU1WHhVXP7phRoXGTfBAQUDAJ+SNfXA0lXRAAAAAElFTkSuQmCC\n",
       "\" style=\"display:inline;vertical-align:middle;\" /></a>, <a class=\"ProveItLink\" href=\"../__pv_it/demonstrations/4a82d58b126555a18b104ddba47c5351567eeaea0/expr.ipynb\"><img src=\"data:image/png;base64,iVBORw0KGgoAAAANSUhEUgAAADEAAAAUCAMAAAATIyWrAAAAPFBMVEX///8AAAAAAAAAAAAAAAAA\n",
       "AAAAAAAAAAAAAAAAAAAAAAAAAAAAAAAAAAAAAAAAAAAAAAAAAAAAAAAAAAAo1xBWAAAAE3RSTlMA\n",
       "Ms3vmVREEIndIqt2u2bn9enzePXnUgAAAAlwSFlzAAAOxAAADsQBlSsOGwAAAOJJREFUKM+VkukS\n",
       "hSAIhQU3zOUuvv+7XrHphjk5Ez8qoePHUZRahfH3NUBt5mSWK6JkNpmodlJkEAtsdR+ExNWpA4hi\n",
       "UULnCCqFGSF7yF1uxb442XBxaLrXYe99i5RgtoES4Q9F4b10K+UTZ0KP15ufB2ertCtSU2uWGVwi\n",
       "TkV7mcqfga4uRl9+Vzhm6NwTbok4nNtm17NKlSpGg/v/fHc3//PK/SZKs+v7IUVUdtgUr/dZtDrs\n",
       "5sawwaihbzsPWeAp0Tw3PiaCLSZYItp/hlKEu0m2pB4G+oeC8hgRniIUrIo/FvAG9zLswUoAAAAA\n",
       "SUVORK5CYII=\n",
       "\" style=\"display:inline;vertical-align:middle;\" /></a> <a class=\"ProveItLink\" href=\"../__pv_it/demonstrations/24684e62cb2850b27425fdb4367c83d0524562cc0/proof.ipynb\" style=\"text-decoration: none\">&nbsp;&#x22A2;&nbsp;&nbsp;</a><a class=\"ProveItLink\" href=\"../__pv_it/demonstrations/d6de1d340624866f68bdd2f13ce7cdd5449b0f750/expr.ipynb\"><img src=\"data:image/png;base64,iVBORw0KGgoAAAANSUhEUgAAAYoAAAAoBAMAAAAS86ByAAAAMFBMVEX///8AAAAAAAAAAAAAAAAA\n",
       "AAAAAAAAAAAAAAAAAAAAAAAAAAAAAAAAAAAAAAAAAAAv3aB7AAAAD3RSTlMAmVSrZs0y7xCJ3bsi\n",
       "RHYwvcNTAAAACXBIWXMAAA7EAAAOxAGVKw4bAAAD7UlEQVRYw91YTWgTQRR+SWOSNht3RQXpxZw8\n",
       "BNkWRLAIJSCit8aTeLIerCDSqIiKCgZUigdJQBDsoVgFf4KHiiCeNFJEpWJyEHo0HqxUBENQ6aE1\n",
       "Zmc3szO7M+nMxt2CDxqmb+b9fDPz5r19AGtPH6XYHSbWlHQpNm8ilPLNwWv5wFBsbP0pQ99rbJnZ\n",
       "qQ+SrhMS0YesBQ5jemc2FwXlWSTb+pkvJ5aYIslL8DIvBYKS2MNa4TCmd2bzUNCeHWsN42cgdAfi\n",
       "e90iExnoh/jtHeJIkESbEozb6jSmk+zrN3cJoqDswCEjNOrQV4Txb26RrQCPIGToFyUkgT0+z4hD\n",
       "0lh/qXSuVLqH2Zrpms12kD1B2QkbpxibgUIVIO2WugjxFVCrym9hFEiCCjoHOY3pJHsFKqNiZ0HZ\n",
       "aeEHKNRgBFgo4n8gUodIXhyFJbFp/DP6t1J2rXAa00n2flEUtJ2cceMLKdgZLrNQNKAnux2gV/hG\n",
       "mRJX5zMx5H+i6EbhMKZTbJgUiwvazm5kqxaeDjFv1AtIaxrAcfHoRhJvv4CKRCInXQucxnSKjR/n\n",
       "dtD/MhBmrQExQdn5iZYO35pdYKK4snhieBSU5+IvrSkxDPNmEmi4T8thTKfYc3nHWUwb116zBsQE\n",
       "aSe6TOhP8zx7Be8lU99Z2BDFTjApzUwMiqaUZXK3aacVIaujUJ6NbZEDodTh/jY02rwqCqq6mxs7\n",
       "kpeoBi07PVmb9e7wFE7AGeptbDbrzAkyZVMTyUFYNBk/OOsJYyRdbjalCgXTTmyQORvmVFXyEwOj\n",
       "AZTFatFnFLlUECgyPqMoZAJAUUn5jEJF/FAJ0aBPKHK+oygGcBafqsZvE1Pd3LgHF8yNU+0ZesJR\n",
       "pjIl0Gujas7FzX9OAZyFFsBZ5P6LuKj4/UapQbxRhZo3Z3GVWch2lqgEkS9imjcUuMrs01bJetUA\n",
       "UKybscdHT3FQRA9qsjcK6xrIe3eOcKgzhcivmAantgM1BXLVoK1rsps9bgiuixAtoOQSN6tIbyjW\n",
       "9bQLEHyH3J/JmPgf1/IbinX97AKF+Nf+EyJGuAnqgHy8WbqSy90ErXDG3NcezE5xMqAytNCQNG/r\n",
       "6s16xsB1iJUwrJeQ35Dl9nD599nWFfOcLqQ6xO3NmshwPpGN/qnkhhK6vno+Cq5DnG4FIqrtSb3F\n",
       "dbN/KEGErtOeUXAdYpLVu6bbq2R2n8G3TpRsXeu9hwXXIfZDgNKV2fbkVFojcvYJXW/KXkHwHWIv\n",
       "f2zlDdSQZaCw+qcSGrGu+F3PR8F3iE2v0UtgNWTdZPVPZQjrSnRRlnMdYpOCOkZm25O1KWb/VIaw\n",
       "rhtdpDyuQ276C8pq0j6r0cf1AAAAAElFTkSuQmCC\n",
       "\" style=\"display:inline;vertical-align:middle;\" /></a></span>"
      ],
      "text/plain": [
       "{n in NaturalPos,(a_{1} in Complex), (a_{2} in Complex), ..., (a_{n} in Complex), d in Complex, d != 0} |- ((a_{1} / d) +  (a_{2} / d) +  ... +  (a_{n} / d)) = ((a_{1} +  a_{2} +  ... +  a_{n}) / d)"
      ]
     },
     "metadata": {},
     "output_type": "display_data"
    }
   ],
   "source": [
    "# We can temporarily set Add.combine_like_denoms to True\n",
    "with Add.temporary_simplification_directives() as tmp_directives:\n",
    "    tmp_directives.combine_like_denoms = True\n",
    "    example_sum_02.simplification(assumptions=assumptions)"
   ]
  },
  {
   "cell_type": "markdown",
   "metadata": {},
   "source": [
    "Given that the simplification() process works with that single ExprRange of Divs, it's interesting to see that we run into trouble when taking the sum of two such sums. Consider:"
   ]
  },
  {
   "cell_type": "code",
   "execution_count": 108,
   "metadata": {},
   "outputs": [
    {
     "data": {
      "text/html": [
       "<strong id=\"sum_two_expr_ranges\">sum_two_expr_ranges:</strong> <a class=\"ProveItLink\" href=\"../__pv_it/demonstrations/fc2c9e4857d319880f30d40ebe788da96c4da29f0/expr.ipynb\"><img src=\"data:image/png;base64,iVBORw0KGgoAAAANSUhEUgAAAakAAAAmBAMAAACMk3nRAAAAMFBMVEX///8AAAAAAAAAAAAAAAAA\n",
       "AAAAAAAAAAAAAAAAAAAAAAAAAAAAAAAAAAAAAAAAAAAv3aB7AAAAD3RSTlMAmVSrZs0y7xCJ3bsi\n",
       "RHYwvcNTAAAACXBIWXMAAA7EAAAOxAGVKw4bAAADu0lEQVRYw72ZT2jTUBzHf+26NltTE1FBdrEn\n",
       "D0PcQDwMYQREPFpP4sldVBBZVWSKeiio7CTtSXCH4RT8EzxMBPGklSEqiO1B2HHx4GQiOMaUHaY1\n",
       "eU2al7z3a5JmeT9oecnvfX+f/NKX915+BQBIFSEpu13hnhZB3GF+5LGfBr/bwuzniIEpRfYJt4cA\n",
       "YqZkfi3W8xtcQeEGvKlEQngUh3k9RBDPmieky5C6D9IRVjGtwRBI9w6E5xCFY3neWBNBPGkN9FUY\n",
       "rMHkD1axB+AppKwrCGtE4Zh0ldNDADFtjYPcPFSbAMOs4jpIf0Fpyn9CM4jC8wj5TATRvGMAVQOO\n",
       "AY8h/YPMKmQq4Rm2YufkV3LYqDM9RBDL1vitFuFgus5jrEFfaR/AQOjx0FbcWtRyJJ98jekhgniI\n",
       "tIz0XIo7Hl7DsKoCnAv/7BLFh2+gEEnmAtNBBHGdpDt+d2GZy7i5cn58AuRX4efZtmIcFsmRvMZ0\n",
       "EEDMblLuYUz3Fj5FXBinYHuWNOb8HhFE8zkLZsgvz+yOhpBX4dFe0trFrMECiH0l1/Hx1KzT/OJR\n",
       "5Fot51IKGrbAexyFUVhpn/jlD4kQvfqYxNwoV7EfuyVpI6JjZMIXEiFGDtyNqNQSzqpc9IVEiFuX\n",
       "lUlUtISzqmr+rLSEszKJjWLCWSmGLyRC3LqsTGI58axqvpDlxLOqwVLTarQ6Zs08Q7p+Rdcfkh6u\n",
       "x9po6/rja7rOPu6Ug1K0SAQVvCF5RL6+d2Lyv5Uq/LcSkZUhPCsDGknPgYp/DmwkPQeaxKrRW1ZV\n",
       "c4cg/bYb3RgN/3qFEAMvPgoxp/aW1aBq71wH1YA1senfW6i9ZRWF2D/vHp6+iGRFOcKOh45kpOIL\n",
       "iRC9+uwJNQ4xRb/Vue9C3t0t5Qi513QlM/6QCNGnV4pxiBmqKFfYwPQbkWuoHckL5k0kDBGWKnGI\n",
       "EvWuipYKwtcQWMk6p8wQIvBMPOJz93y/ighQB26OpLDJuMIQ4Xg84lHn7MIssj6iDtxcyUCJcQYT\n",
       "5bHltXjEqj3zouXt6HVvWpJjrzuQiNfgQxOdmzmtsSWG7g7cKMl3zgMQRLRq8KWYxKn2gadYTRvq\n",
       "wI2SXOJWg7oHbtfg4xHtvyW8xWrKUAdurmQb754HEe0afCxiP1nM2sVq3nDAHLhRkvd13mzVnejU\n",
       "4GMRpWf2KkLK28BZXviOLoyORHrA9XcnOjX4eMR3ZPKwy9usoQ7cOpI8f7cTQLRr8PGIMqnYtYvV\n",
       "HEMduHUkd/j+AKJdg++d+B/uXP4NDV89lwAAAABJRU5ErkJggg==\n",
       "\" style=\"display:inline;vertical-align:middle;\" /></a><br>"
      ],
      "text/plain": [
       "<IPython.core.display.HTML object>"
      ]
     },
     "metadata": {},
     "output_type": "display_data"
    }
   ],
   "source": [
    "sum_two_expr_ranges = Add(example_sum_02, example_sum_02)"
   ]
  },
  {
   "cell_type": "code",
   "execution_count": 109,
   "metadata": {},
   "outputs": [
    {
     "name": "stdout",
     "output_type": "stream",
     "text": [
      "Exception: Unable to prove ((a_{1} / d) +  (a_{2} / d) +  ... +  (a_{n} / d)) in Complex assuming {a in Complex, b in Complex, c in Complex, d in Complex, b != 0, d != 0, n in NaturalPos, m in Natural, (a_{1} in Complex), (a_{2} in Complex), ..., (a_{n} in Complex)}:\n",
      "((a_{1} / d) +  (a_{2} / d) +  ... +  (a_{n} / d)).readily_provable_number_set() does not return a number set that is readily included by Complex\n"
     ]
    }
   ],
   "source": [
    "try:\n",
    "    InSet(example_sum_02, Complex).prove(assumptions=assumptions)\n",
    "except Exception as the_exception:\n",
    "    print(\"Exception: {}\".format(the_exception))"
   ]
  },
  {
   "cell_type": "markdown",
   "metadata": {},
   "source": [
    "In fact, that InstantiationFailure due to the unsatisfied condition of the sum being in Complex is an interesting error. Notice that we cannot even get that from a goal-oriented manual request, even if we augment the assumptions to be more explicit about each frac itself being Complex:"
   ]
  },
  {
   "cell_type": "code",
   "execution_count": 110,
   "metadata": {},
   "outputs": [
    {
     "name": "stdout",
     "output_type": "stream",
     "text": [
      "Exception: Unable to prove ((a_{1} / d) +  (a_{2} / d) +  ... +  (a_{n} / d)) in Complex assuming {a in Complex, b in Complex, c in Complex, d in Complex, b != 0, d != 0, n in NaturalPos, m in Natural, (a_{1} in Complex), (a_{2} in Complex), ..., (a_{n} in Complex), ((a_{1} / d) in Complex), ((a_{2} / d) in Complex), ..., ((a_{n} / d) in Complex)}:\n",
      "((a_{1} / d) +  (a_{2} / d) +  ... +  (a_{n} / d)).readily_provable_number_set() does not return a number set that is readily included by Complex\n"
     ]
    }
   ],
   "source": [
    "try:\n",
    "    InSet(example_sum_02, Complex).prove(\n",
    "        assumptions=assumptions+[ExprRange(k, InSet(frac(a_k, d), Complex), one, n)])\n",
    "except Exception as the_exception:\n",
    "    print(\"Exception: {}\".format(the_exception))"
   ]
  },
  {
   "cell_type": "markdown",
   "metadata": {},
   "source": [
    "Simplifying a term that is an Add consisting of both simple terms and an ExprRange leads to a problem not yet addressed."
   ]
  },
  {
   "cell_type": "code",
   "execution_count": 111,
   "metadata": {},
   "outputs": [
    {
     "data": {
      "text/html": [
       "<a class=\"ProveItLink\" href=\"../__pv_it/demonstrations/3f6e3a89b737a12296601a5699f87d6a74cef9b10/expr.ipynb\"><img src=\"data:image/png;base64,iVBORw0KGgoAAAANSUhEUgAAAQAAAAArBAMAAABlQEsUAAAAMFBMVEX///8AAAAAAAAAAAAAAAAA\n",
       "AAAAAAAAAAAAAAAAAAAAAAAAAAAAAAAAAAAAAAAAAAAv3aB7AAAAD3RSTlMAIquJdkTvuxBmmd1U\n",
       "zTKBpmoTAAAACXBIWXMAAA7EAAAOxAGVKw4bAAACrklEQVRYw+2Yv2sTYRjHv1dJcr3GXq0O4lRM\n",
       "RgXBboJE6qQYOgWciouigjiIOGlwEJySf0DMaC2houDQA4ngFpDg4NDFCt1Ee4NChtPzfjW9vO/z\n",
       "9p4LseeQZwjkue/zvN+79+5973MAFfr9V8g2DrcyNmB2MjawUs/YwLkDHEsrXahIyU8XT/GEQcwv\n",
       "Hks5aLyiNlfoS0/B73pjTkxSwiBy1/Ao3ZTFK/SbMKRnrthHXjzbUKg/k9s9aWIN+tmTfBNBRRSG\n",
       "jZkzosDowRSToXD7stxuHXgDgzgPZQQVUeTvorEsCryRVsQHMRJ25XY3oP+Cuaz9YRsIKqJoVPCc\n",
       "WgbWxQsaCWUD+k9M25iu8w1EFavbl/y+HZwuijecueXNuGggFBIGHEz13gOH2FMQVjytNfPewIVK\n",
       "ccMQFVPNgrQWR0JiCu6h2/Lk3/g3YVBx/ApMr0Qvn5+vShZLq7LtUEgYeLz0tbwF7QH/MQwryqiN\n",
       "sG51VQdO4EjKVnfwcnZ8BrSHP16kXIJtvPsoLFBNQnd16N/RL4u0Ou+69n5t5AO5BSwJyiK11n9Q\n",
       "nUGxMrYDEwMTA+FuZ1lvb1vWwlByzbKuW9ZrpnqkA64f9rBDM0gKV8AdBKmOlSRegViFO7kH/qWB\n",
       "Rs9/u0T0k4GBGX9L38Duz388BbOfW/Jm8f0WuRkN0uLWMmjC3oxivUgSdOgmzhhx0tmPBHMKCOmP\n",
       "Dyf3elEkqHjFVL95psfJvV6b/C8E6g8Hm6N+hNBKVYeAx50OyZQ7HQXhVp3UfBr1ophTgZtqClWC\n",
       "azKf+szZI+CxTTNlmyYNqkkin7bVcBqHx+S0ogmTT0k4jcNjclrRhMmnFJyG8AhmWkW4DD6FAk53\n",
       "cROstIpwGXwaY04SN5lpRRMGn8aYk4JHMNOKJhw+Bf4CZPInPBMWhb8AAAAASUVORK5CYII=\n",
       "\" style=\"display:inline;vertical-align:middle;\" /></a>"
      ],
      "text/plain": [
       "(a / d) + (b / d)+ (a_{1} / d) +  (a_{2} / d) +  ... +  (a_{n} / d)"
      ]
     },
     "metadata": {},
     "output_type": "display_data"
    }
   ],
   "source": [
    "example_sum_03"
   ]
  },
  {
   "cell_type": "markdown",
   "metadata": {},
   "source": [
    "The direct calling of the Add.combining_terms() works just fine:"
   ]
  },
  {
   "cell_type": "code",
   "execution_count": 112,
   "metadata": {},
   "outputs": [
    {
     "data": {
      "text/html": [
       "<span style=\"font-size:20px;\"><a class=\"ProveItLink\" href=\"../../number_sets/natural_numbers/__pv_it/theorems/132c57ec1224a4beaf274a23bd799047020206590/expr.ipynb\"><img src=\"data:image/png;base64,iVBORw0KGgoAAAANSUhEUgAAAEEAAAATBAMAAAA9n32KAAAAMFBMVEX///8AAAAAAAAAAAAAAAAA\n",
       "AAAAAAAAAAAAAAAAAAAAAAAAAAAAAAAAAAAAAAAAAAAv3aB7AAAAD3RSTlMARHarECKJu90yVM1m\n",
       "75kejotwAAAACXBIWXMAAA7EAAAOxAGVKw4bAAAA90lEQVQoz2NgwAf4GAgBdrJVeHyvdmDI/SuA\n",
       "x4wqRgMGlg/4bLEIyGFguMDwvLy2vPwAVhVWBdwBDA3YzFDv6NgAok0PsW7AqkJaBcowZZ6ghlDB\n",
       "qOyaVAQWZ90CU2rKUMAuAFfBxm7E4B8AYnEHIFTMY2lpgIWpIEcBQ/wEsAoGhAqeBcsvwHgO/gIM\n",
       "6x1ArLkdQFAAUcFgwgxXwbCegcEazHBHMoPBmaUBzgVK/2EBMTiQVXAqFMC51xi4vrCBGEwKMKFK\n",
       "INaEq2D9ycC04SSYuQsmBmLwbYDxGBsYWGwWgJnOhWAXM8z+C9TPsgFbfIhVdGCKAwDDkzTgOh63\n",
       "3AAAAABJRU5ErkJggg==\n",
       "\" style=\"display:inline;vertical-align:middle;\" /></a>, <a class=\"ProveItLink\" href=\"../__pv_it/theorems/e9f87a0977d5044ea8daf1040d2f219396bb3d5b0/expr.ipynb\"><img src=\"data:image/png;base64,iVBORw0KGgoAAAANSUhEUgAAADMAAAAQBAMAAABJt1qBAAAAMFBMVEX///8AAAAAAAAAAAAAAAAA\n",
       "AAAAAAAAAAAAAAAAAAAAAAAAAAAAAAAAAAAAAAAAAAAv3aB7AAAAD3RSTlMAIquJdkTvuxBmmd1U\n",
       "zTKBpmoTAAAACXBIWXMAAA7EAAAOxAGVKw4bAAAA0ElEQVQY02NgwAKaq+86PsYmwcCiNoFjfRVW\n",
       "qSXBDAycWKX4FlQASS0UMffduy8AKaaGAiDZiSwT6wGh2RkXQEUYlR0dwPQNqIAQnwGUFSbA/gNE\n",
       "8wpABR6zToAwODIZuDaApWAGS7E6QBhcHxi4wQY82w0EBWC7oAayFTD0B4AY7TBd7GAXAkG/A8N8\n",
       "MIMbJsUK9hcrUOoAgy4PyAUsDvDQCAISa4HaHXh2cYFF7sDDsHYhx2mg3zhU7IT8wCJNpQ2wkC/7\n",
       "vRA18IKrwQEFAwCqvi28/xxvKQAAAABJRU5ErkJggg==\n",
       "\" style=\"display:inline;vertical-align:middle;\" /></a>, <a class=\"ProveItLink\" href=\"../__pv_it/theorems/a259ec76dfb0a5be60b7c83d797520fa82c1dba60/expr.ipynb\"><img src=\"data:image/png;base64,iVBORw0KGgoAAAANSUhEUgAAADEAAAAQBAMAAABNQoq8AAAAMFBMVEX///8AAAAAAAAAAAAAAAAA\n",
       "AAAAAAAAAAAAAAAAAAAAAAAAAAAAAAAAAAAAAAAAAAAv3aB7AAAAD3RSTlMAELvv3c2ZVESJq3Yi\n",
       "MmZ3LnoBAAAACXBIWXMAAA7EAAAOxAGVKw4bAAAA2UlEQVQY02NgwASSKqF7bjIwMCo7oElwL37A\n",
       "mK8GZLAmoMlkdzIw8IFk+AtQJXgTFIHkMiDuF4AKbXJxCQBSXAIKQFIOiKdAJVo3QmgmHpjxUbuX\n",
       "gyieQCj/FO8ECIPxq4D8AZBDDkBlbnI8gDDYPzIwbwDJwFxwjGMDhMEWwMAP0n7ZBQgUwPZATWOZ\n",
       "wNAPcrcQTA8T2G0Q7+SD3M0Ck+EA+4cDKHOB0Q4cJhvgYdAFJFKBHnvABHF/ODzcVHMYS4BijCvz\n",
       "IAJSGrDAkFT+koMSYJ0q4NCBAQD6uylQEVfDpgAAAABJRU5ErkJggg==\n",
       "\" style=\"display:inline;vertical-align:middle;\" /></a>, <a class=\"ProveItLink\" href=\"../__pv_it/demonstrations/8299fddf7b95e32355a06ac6ec851f23cef9a12a0/expr.ipynb\"><img src=\"data:image/png;base64,iVBORw0KGgoAAAANSUhEUgAAASMAAAAVBAMAAAD/WpUaAAAAMFBMVEX///8AAAAAAAAAAAAAAAAA\n",
       "AAAAAAAAAAAAAAAAAAAAAAAAAAAAAAAAAAAAAAAAAAAv3aB7AAAAD3RSTlMAInZUiRDNmWbv3US7\n",
       "qzJazP2FAAAACXBIWXMAAA7EAAAOxAGVKw4bAAACxklEQVRIx5WWPWjUUBzA/8k1zV3uetzgB0hL\n",
       "cwUXEbmhdehUnESsHOUGh8qdiuJmWkSKi120Q0HrVnTwQLQQHESq4FA4BS2ei4gfCA5BC6KDdKmD\n",
       "DvV95L0k/t/LNf/hJfm/3y9533cAUIH0qGgfesGZq0PArGnrG93z1Q14HMtkgnGk6HF/VP+Cz/PW\n",
       "1XUw56NUJhjHKOzEt1paanYVIL8OcE5mMsE4UvS4b2u7VfZekvITwIJMZYJx6PWEX8DVB32fdmeg\n",
       "3iHlSYLURQ2Gza7/ANQwDsW3VP5hRD3dz68lw+M3/bJzCC6eqWthHPhbSv8SuRjvq66kDLEahsoT\n",
       "/KbvrahD8J66HsaBdLV/gVyeVUpbkuoXZ8dGMexwXq5KBJ8GPYwD6Wr/HtkIy2C3wboeNklQe4th\n",
       "d3JLIiXhxuQHlmilwDikLkPp3yEbYROcCfh6gOd++CQ6bHrDsSxvClHCHlxhNbcJ+xDUMA6py32m\n",
       "9AlW6EDzEcA4z00LvsQ2AV2DS7F3cvgvDAf0oOmkwMomhd8SB5XSJ4PZdOEmyCY5cjewo6JIxrId\n",
       "G3kOX+NNgnYKrJw4ri/cGOEbTOm/IFgNPuYqokmm3BCza6S4TFYc7YBFMxEMxxgyAkoYn00Jfffi\n",
       "MtzS+5Nk0Nzcii1HCc7KY+zVjDVOemPTaW7SlRjB5ft8L9RUsPVbCLSInoRuTLVgS+//JM67E0OH\n",
       "oiadeiM62Xj9Z4ZOJZ18h7Yhggc5Y315AgrYJ7UOnRpWrCB9wA2XnNJ3ApETTYLVrp84XPaxcozy\n",
       "AjY8gx9fxeP8ByEJ5/DMJfRCYHuB1s97qEn/xxwr6exJePDX93oK3IfzCX0YnG+B3n8e3u+6eEQN\n",
       "GWx7WmzVC/ju9nYaPIWXd0JfA/Noij/d679nif/5TB5a6bCLf/F3pnPfcHtQ1XgnssCKMeilU/8f\n",
       "yjDubGpM3VAAAAAASUVORK5CYII=\n",
       "\" style=\"display:inline;vertical-align:middle;\" /></a>, <a class=\"ProveItLink\" href=\"../subtraction/__pv_it/theorems/d6724abdc9486f838f4cf63bc1115e85255ce4c00/expr.ipynb\"><img src=\"data:image/png;base64,iVBORw0KGgoAAAANSUhEUgAAADMAAAAQBAMAAABJt1qBAAAAMFBMVEX///8AAAAAAAAAAAAAAAAA\n",
       "AAAAAAAAAAAAAAAAAAAAAAAAAAAAAAAAAAAAAAAAAAAv3aB7AAAAD3RSTlMAMs3vmVREEIndIqt2\n",
       "u2aBbGR5AAAACXBIWXMAAA7EAAAOxAGVKw4bAAAA4UlEQVQY02NgwAIqbiqdkgCzGJUdUGR4Nj9g\n",
       "978CYfMHoEj5ZDAw8EGl8guQZRgdrgPJLRBOJ4Q6O3OmApDiLrgAJOsgYipgMuk4hMfLBbOaa8fB\n",
       "r2BaHSqwmrEBykpewPsdRDMtgApIsD2AMNjtGFgUwFIwZyxhOwBhsHxg4AQbIDwTCC6A7YIayHyB\n",
       "oT4BxKiF6eIFuxAI6g8wvAczOGFSbGB/sQGlAhg2sYJcwHMAHhrZQMIJqP0A6xQWsIgqPAwvebFH\n",
       "Av3Gvqdx9UGwSPU1WHhVXP7phRoXGTfBAQUDAJ+SNfXA0lXRAAAAAElFTkSuQmCC\n",
       "\" style=\"display:inline;vertical-align:middle;\" /></a>, <a class=\"ProveItLink\" href=\"../__pv_it/demonstrations/4a82d58b126555a18b104ddba47c5351567eeaea0/expr.ipynb\"><img src=\"data:image/png;base64,iVBORw0KGgoAAAANSUhEUgAAADEAAAAUCAMAAAATIyWrAAAAPFBMVEX///8AAAAAAAAAAAAAAAAA\n",
       "AAAAAAAAAAAAAAAAAAAAAAAAAAAAAAAAAAAAAAAAAAAAAAAAAAAAAAAAAAAo1xBWAAAAE3RSTlMA\n",
       "Ms3vmVREEIndIqt2u2bn9enzePXnUgAAAAlwSFlzAAAOxAAADsQBlSsOGwAAAOJJREFUKM+VkukS\n",
       "hSAIhQU3zOUuvv+7XrHphjk5Ez8qoePHUZRahfH3NUBt5mSWK6JkNpmodlJkEAtsdR+ExNWpA4hi\n",
       "UULnCCqFGSF7yF1uxb442XBxaLrXYe99i5RgtoES4Q9F4b10K+UTZ0KP15ufB2ertCtSU2uWGVwi\n",
       "TkV7mcqfga4uRl9+Vzhm6NwTbok4nNtm17NKlSpGg/v/fHc3//PK/SZKs+v7IUVUdtgUr/dZtDrs\n",
       "5sawwaihbzsPWeAp0Tw3PiaCLSZYItp/hlKEu0m2pB4G+oeC8hgRniIUrIo/FvAG9zLswUoAAAAA\n",
       "SUVORK5CYII=\n",
       "\" style=\"display:inline;vertical-align:middle;\" /></a> <a class=\"ProveItLink\" href=\"../__pv_it/demonstrations/a72ae3fadf42ecf106a1291acb1717db2ffac5c80/proof.ipynb\" style=\"text-decoration: none\">&nbsp;&#x22A2;&nbsp;&nbsp;</a><a class=\"ProveItLink\" href=\"../__pv_it/demonstrations/42a15dc44363c8d39cd420a0141f5cd5586b82850/expr.ipynb\"><img src=\"data:image/png;base64,iVBORw0KGgoAAAANSUhEUgAAAicAAAAyBAMAAAB1+mbvAAAAMFBMVEX///8AAAAAAAAAAAAAAAAA\n",
       "AAAAAAAAAAAAAAAAAAAAAAAAAAAAAAAAAAAAAAAAAAAv3aB7AAAAD3RSTlMAuzKrZonNIu/ddhCZ\n",
       "VERetuGgAAAACXBIWXMAAA7EAAAOxAGVKw4bAAAFNklEQVRo3s1aTWhcVRQ+85PMTGcyU7qqdeHg\n",
       "QrGbCWhEAqWzKt0lCC7MJgPdCFYMBBHURaotUXARbAUfbWEstEURHFGku8miiEUhwY3mbpJFkewy\n",
       "SDHQEMeZd9+8d9+957x73+Rl5p7F/Jx77pnvfe/ec895ZwB6kqrC2OWHFtglr1iAIX3TLk4y88RA\n",
       "8fTa6FBsGdqNCNQFcmRyfXSkTEwbGo4EVG6VHKpsjnDB3tCMP5ZBPY62C0u5TrjFBwpNEsfeKKPf\n",
       "X5ofYzIoFm0XlinqKvGBizSON0cZ2nTbgsmgjpOUa3wTzdxXRy99e07dbZihK8sLH8TkITSjvB9t\n",
       "wmRQDEfEUDh6UkT7Ewfu2+5S6kAJ9P+22kuyEjPkF7UKz8XbbtKMS9EmTAbFcEQMda4lJWRfcKN+\n",
       "8SqUlKNu6gDysi9uWEROrAd1eATFN142J8adEch2K9KEyaAYjoihcLSkhMDU3HS21IGCkq6UGlCR\n",
       "ldzw7Deq9w2AL6GEcEuKOyOQdpM2eeQ4nzrO9QCUoBARBWoRTslxvvrMcdRDXxgIgXnNfc2fhPaO\n",
       "ci7Nw558KHuGSKp1BYr/QWUn948xKe6MQFJrkSZMBsVwRAyFo10pITCfDO7SHJambMhL2jNUSSk+\n",
       "hWwHsi1zUrwZD89+x79n9wmT0MUGoBiOiKFwdKSEwKSfcM+b8OqUHFQr1d5+lUnhhggph5Bp/NnL\n",
       "TI23D5/x0249z3+4+IR0KpLig2I4IobC0ZIigjnBb0+qOXWrpBRF9ZSSO3iGyPY5A1vrPfOXzAOt\n",
       "O+PDe1BpiYsWcypwEIBiOCKGwhmQ0m70DzDwXoQBEUxqhRM1+/ryHeU+zTxU7x03REj58e6Ls1XI\n",
       "PWt+JPMZs7DrfX+GMgkdNj4ohiNiKJzBtRf6jN6CwUswIILphalEa9qP4P2Yrj6G39P806JRRkso\n",
       "tlC1D8cwo+Vg2uuJkpI79fxvMevRDnzxB/84t2NSEBKKLUwdwDErCD0wtaZZ3RhG8N67C7h1vtvt\n",
       "xKtLy9Nw11PUmsNXTgIiHI5Zjs3BbG+alUgMYhVUQw0MuWqTl7mqPaRUpi0h5fsli0g5aQkpiy17\n",
       "SMk3BvWLw+uXccmGRaQU1ixZKef5W7cvnXDdWHGV4dqTG9LWgykmdakwo8tJWVE2VHcM0hmQYsdK\n",
       "WbFkpVi4fcYfUxYtOn28QGvBkXzseYpfl7YbOlJsyVOOP3nz69LCui5PsSWj3faLsPRbCOgXPkdJ\n",
       "8dXyJfpOzLdP4Ks9n+SVCRjjSq0uPn1UC7ZDvEY9pMrHoNNq3Kj0fR2lIETkcOiZwpLFmqRlosdz\n",
       "QPmL32kNfG0n2rqmMWqlEER8rElKPHGlH8TG77QGvpA67AgyMXx+nAkSpsvI8CQe+ybJkHg5NoLA\n",
       "1/lEd8/k8GE76y2y3MwddQ8uL9SwFU2oCSfRIvq6kiAlJEYTSXtXgbWIie4w3TQm+8z0xhd85Z4m\n",
       "GFBiN7ZDwvsK/Yaskk8+qMMvyAxCTTiJFtFXdj85UkiMZvIrL16xXrLU69WoCSea0kvwlUnwyQGJ\n",
       "0Uz23OwN7SVLvV6NmnASLaKvSoJpConR8Ex2gzTWSxYbuXo14SRaQr7mkvszGY0xzvGD9ZLFRq5e\n",
       "TTjRgBd9JfiwgMZoKO7fu9BestDINVATTqJF8FVOMM7SGE3r5P6qRXvJQiPXQE04iRbBVyrJBwck\n",
       "RtPML9Ha9AgR36Z/56dX7cBxG2ySr61AMTFtFSkZK/bP32CXvGPDJn7bMlJS1fFj+NmiMPs/Xj/a\n",
       "M5pGG6wAAAAASUVORK5CYII=\n",
       "\" style=\"display:inline;vertical-align:middle;\" /></a></span>"
      ],
      "text/plain": [
       "{n in NaturalPos, a in Complex, b in Complex,(a_{1} in Complex), (a_{2} in Complex), ..., (a_{n} in Complex), d in Complex, d != 0} |- ((a / d) + (b / d)+ (a_{1} / d) +  (a_{2} / d) +  ... +  (a_{n} / d)) = ((a + b+ a_{1} +  a_{2} +  ... +  a_{n}) / d)"
      ]
     },
     "metadata": {},
     "output_type": "display_data"
    }
   ],
   "source": [
    "example_sum_03.combining_terms(assumptions=assumptions)"
   ]
  },
  {
   "cell_type": "markdown",
   "metadata": {},
   "source": [
    "But the automatic simplification (<u>without</u> setting Add.combine_like_denoms to True) raises an AttributeError:"
   ]
  },
  {
   "cell_type": "code",
   "execution_count": 113,
   "metadata": {},
   "outputs": [
    {
     "name": "stdout",
     "output_type": "stream",
     "text": [
      "AttributeError: No attribute 'combining_operands' in '<class 'proveit._core_.expression.inner_expr.InnerExpr'>' or '<class 'proveit._core_.expression.composite.expr_tuple.ExprTuple'>'\n"
     ]
    }
   ],
   "source": [
    "try:\n",
    "    example_sum_03.simplification(assumptions=assumptions)\n",
    "except AttributeError as the_exception:\n",
    "    print(\"AttributeError: {}\".format(the_exception))"
   ]
  },
  {
   "cell_type": "markdown",
   "metadata": {},
   "source": [
    "But the automatic simplification when setting Add.combine_like_denoms to True works just fine:"
   ]
  },
  {
   "cell_type": "code",
   "execution_count": 114,
   "metadata": {},
   "outputs": [
    {
     "data": {
      "text/html": [
       "<span style=\"font-size:20px;\"><a class=\"ProveItLink\" href=\"../../number_sets/natural_numbers/__pv_it/theorems/132c57ec1224a4beaf274a23bd799047020206590/expr.ipynb\"><img src=\"data:image/png;base64,iVBORw0KGgoAAAANSUhEUgAAAEEAAAATBAMAAAA9n32KAAAAMFBMVEX///8AAAAAAAAAAAAAAAAA\n",
       "AAAAAAAAAAAAAAAAAAAAAAAAAAAAAAAAAAAAAAAAAAAv3aB7AAAAD3RSTlMARHarECKJu90yVM1m\n",
       "75kejotwAAAACXBIWXMAAA7EAAAOxAGVKw4bAAAA90lEQVQoz2NgwAf4GAgBdrJVeHyvdmDI/SuA\n",
       "x4wqRgMGlg/4bLEIyGFguMDwvLy2vPwAVhVWBdwBDA3YzFDv6NgAok0PsW7AqkJaBcowZZ6ghlDB\n",
       "qOyaVAQWZ90CU2rKUMAuAFfBxm7E4B8AYnEHIFTMY2lpgIWpIEcBQ/wEsAoGhAqeBcsvwHgO/gIM\n",
       "6x1ArLkdQFAAUcFgwgxXwbCegcEazHBHMoPBmaUBzgVK/2EBMTiQVXAqFMC51xi4vrCBGEwKMKFK\n",
       "INaEq2D9ycC04SSYuQsmBmLwbYDxGBsYWGwWgJnOhWAXM8z+C9TPsgFbfIhVdGCKAwDDkzTgOh63\n",
       "3AAAAABJRU5ErkJggg==\n",
       "\" style=\"display:inline;vertical-align:middle;\" /></a>, <a class=\"ProveItLink\" href=\"../__pv_it/theorems/e9f87a0977d5044ea8daf1040d2f219396bb3d5b0/expr.ipynb\"><img src=\"data:image/png;base64,iVBORw0KGgoAAAANSUhEUgAAADMAAAAQBAMAAABJt1qBAAAAMFBMVEX///8AAAAAAAAAAAAAAAAA\n",
       "AAAAAAAAAAAAAAAAAAAAAAAAAAAAAAAAAAAAAAAAAAAv3aB7AAAAD3RSTlMAIquJdkTvuxBmmd1U\n",
       "zTKBpmoTAAAACXBIWXMAAA7EAAAOxAGVKw4bAAAA0ElEQVQY02NgwAKaq+86PsYmwcCiNoFjfRVW\n",
       "qSXBDAycWKX4FlQASS0UMffduy8AKaaGAiDZiSwT6wGh2RkXQEUYlR0dwPQNqIAQnwGUFSbA/gNE\n",
       "8wpABR6zToAwODIZuDaApWAGS7E6QBhcHxi4wQY82w0EBWC7oAayFTD0B4AY7TBd7GAXAkG/A8N8\n",
       "MIMbJsUK9hcrUOoAgy4PyAUsDvDQCAISa4HaHXh2cYFF7sDDsHYhx2mg3zhU7IT8wCJNpQ2wkC/7\n",
       "vRA18IKrwQEFAwCqvi28/xxvKQAAAABJRU5ErkJggg==\n",
       "\" style=\"display:inline;vertical-align:middle;\" /></a>, <a class=\"ProveItLink\" href=\"../__pv_it/theorems/a259ec76dfb0a5be60b7c83d797520fa82c1dba60/expr.ipynb\"><img src=\"data:image/png;base64,iVBORw0KGgoAAAANSUhEUgAAADEAAAAQBAMAAABNQoq8AAAAMFBMVEX///8AAAAAAAAAAAAAAAAA\n",
       "AAAAAAAAAAAAAAAAAAAAAAAAAAAAAAAAAAAAAAAAAAAv3aB7AAAAD3RSTlMAELvv3c2ZVESJq3Yi\n",
       "MmZ3LnoBAAAACXBIWXMAAA7EAAAOxAGVKw4bAAAA2UlEQVQY02NgwASSKqF7bjIwMCo7oElwL37A\n",
       "mK8GZLAmoMlkdzIw8IFk+AtQJXgTFIHkMiDuF4AKbXJxCQBSXAIKQFIOiKdAJVo3QmgmHpjxUbuX\n",
       "gyieQCj/FO8ECIPxq4D8AZBDDkBlbnI8gDDYPzIwbwDJwFxwjGMDhMEWwMAP0n7ZBQgUwPZATWOZ\n",
       "wNAPcrcQTA8T2G0Q7+SD3M0Ck+EA+4cDKHOB0Q4cJhvgYdAFJFKBHnvABHF/ODzcVHMYS4BijCvz\n",
       "IAJSGrDAkFT+koMSYJ0q4NCBAQD6uylQEVfDpgAAAABJRU5ErkJggg==\n",
       "\" style=\"display:inline;vertical-align:middle;\" /></a>, <a class=\"ProveItLink\" href=\"../__pv_it/demonstrations/8299fddf7b95e32355a06ac6ec851f23cef9a12a0/expr.ipynb\"><img src=\"data:image/png;base64,iVBORw0KGgoAAAANSUhEUgAAASMAAAAVBAMAAAD/WpUaAAAAMFBMVEX///8AAAAAAAAAAAAAAAAA\n",
       "AAAAAAAAAAAAAAAAAAAAAAAAAAAAAAAAAAAAAAAAAAAv3aB7AAAAD3RSTlMAInZUiRDNmWbv3US7\n",
       "qzJazP2FAAAACXBIWXMAAA7EAAAOxAGVKw4bAAACxklEQVRIx5WWPWjUUBzA/8k1zV3uetzgB0hL\n",
       "cwUXEbmhdehUnESsHOUGh8qdiuJmWkSKi120Q0HrVnTwQLQQHESq4FA4BS2ei4gfCA5BC6KDdKmD\n",
       "DvV95L0k/t/LNf/hJfm/3y9533cAUIH0qGgfesGZq0PArGnrG93z1Q14HMtkgnGk6HF/VP+Cz/PW\n",
       "1XUw56NUJhjHKOzEt1paanYVIL8OcE5mMsE4UvS4b2u7VfZekvITwIJMZYJx6PWEX8DVB32fdmeg\n",
       "3iHlSYLURQ2Gza7/ANQwDsW3VP5hRD3dz68lw+M3/bJzCC6eqWthHPhbSv8SuRjvq66kDLEahsoT\n",
       "/KbvrahD8J66HsaBdLV/gVyeVUpbkuoXZ8dGMexwXq5KBJ8GPYwD6Wr/HtkIy2C3wboeNklQe4th\n",
       "d3JLIiXhxuQHlmilwDikLkPp3yEbYROcCfh6gOd++CQ6bHrDsSxvClHCHlxhNbcJ+xDUMA6py32m\n",
       "9AlW6EDzEcA4z00LvsQ2AV2DS7F3cvgvDAf0oOmkwMomhd8SB5XSJ4PZdOEmyCY5cjewo6JIxrId\n",
       "G3kOX+NNgnYKrJw4ri/cGOEbTOm/IFgNPuYqokmm3BCza6S4TFYc7YBFMxEMxxgyAkoYn00Jfffi\n",
       "MtzS+5Nk0Nzcii1HCc7KY+zVjDVOemPTaW7SlRjB5ft8L9RUsPVbCLSInoRuTLVgS+//JM67E0OH\n",
       "oiadeiM62Xj9Z4ZOJZ18h7Yhggc5Y315AgrYJ7UOnRpWrCB9wA2XnNJ3ApETTYLVrp84XPaxcozy\n",
       "AjY8gx9fxeP8ByEJ5/DMJfRCYHuB1s97qEn/xxwr6exJePDX93oK3IfzCX0YnG+B3n8e3u+6eEQN\n",
       "GWx7WmzVC/ju9nYaPIWXd0JfA/Noij/d679nif/5TB5a6bCLf/F3pnPfcHtQ1XgnssCKMeilU/8f\n",
       "yjDubGpM3VAAAAAASUVORK5CYII=\n",
       "\" style=\"display:inline;vertical-align:middle;\" /></a>, <a class=\"ProveItLink\" href=\"../subtraction/__pv_it/theorems/d6724abdc9486f838f4cf63bc1115e85255ce4c00/expr.ipynb\"><img src=\"data:image/png;base64,iVBORw0KGgoAAAANSUhEUgAAADMAAAAQBAMAAABJt1qBAAAAMFBMVEX///8AAAAAAAAAAAAAAAAA\n",
       "AAAAAAAAAAAAAAAAAAAAAAAAAAAAAAAAAAAAAAAAAAAv3aB7AAAAD3RSTlMAMs3vmVREEIndIqt2\n",
       "u2aBbGR5AAAACXBIWXMAAA7EAAAOxAGVKw4bAAAA4UlEQVQY02NgwAIqbiqdkgCzGJUdUGR4Nj9g\n",
       "978CYfMHoEj5ZDAw8EGl8guQZRgdrgPJLRBOJ4Q6O3OmApDiLrgAJOsgYipgMuk4hMfLBbOaa8fB\n",
       "r2BaHSqwmrEBykpewPsdRDMtgApIsD2AMNjtGFgUwFIwZyxhOwBhsHxg4AQbIDwTCC6A7YIayHyB\n",
       "oT4BxKiF6eIFuxAI6g8wvAczOGFSbGB/sQGlAhg2sYJcwHMAHhrZQMIJqP0A6xQWsIgqPAwvebFH\n",
       "Av3Gvqdx9UGwSPU1WHhVXP7phRoXGTfBAQUDAJ+SNfXA0lXRAAAAAElFTkSuQmCC\n",
       "\" style=\"display:inline;vertical-align:middle;\" /></a>, <a class=\"ProveItLink\" href=\"../__pv_it/demonstrations/4a82d58b126555a18b104ddba47c5351567eeaea0/expr.ipynb\"><img src=\"data:image/png;base64,iVBORw0KGgoAAAANSUhEUgAAADEAAAAUCAMAAAATIyWrAAAAPFBMVEX///8AAAAAAAAAAAAAAAAA\n",
       "AAAAAAAAAAAAAAAAAAAAAAAAAAAAAAAAAAAAAAAAAAAAAAAAAAAAAAAAAAAo1xBWAAAAE3RSTlMA\n",
       "Ms3vmVREEIndIqt2u2bn9enzePXnUgAAAAlwSFlzAAAOxAAADsQBlSsOGwAAAOJJREFUKM+VkukS\n",
       "hSAIhQU3zOUuvv+7XrHphjk5Ez8qoePHUZRahfH3NUBt5mSWK6JkNpmodlJkEAtsdR+ExNWpA4hi\n",
       "UULnCCqFGSF7yF1uxb442XBxaLrXYe99i5RgtoES4Q9F4b10K+UTZ0KP15ufB2ertCtSU2uWGVwi\n",
       "TkV7mcqfga4uRl9+Vzhm6NwTbok4nNtm17NKlSpGg/v/fHc3//PK/SZKs+v7IUVUdtgUr/dZtDrs\n",
       "5sawwaihbzsPWeAp0Tw3PiaCLSZYItp/hlKEu0m2pB4G+oeC8hgRniIUrIo/FvAG9zLswUoAAAAA\n",
       "SUVORK5CYII=\n",
       "\" style=\"display:inline;vertical-align:middle;\" /></a> <a class=\"ProveItLink\" href=\"../__pv_it/demonstrations/a72ae3fadf42ecf106a1291acb1717db2ffac5c80/proof.ipynb\" style=\"text-decoration: none\">&nbsp;&#x22A2;&nbsp;&nbsp;</a><a class=\"ProveItLink\" href=\"../__pv_it/demonstrations/42a15dc44363c8d39cd420a0141f5cd5586b82850/expr.ipynb\"><img src=\"data:image/png;base64,iVBORw0KGgoAAAANSUhEUgAAAicAAAAyBAMAAAB1+mbvAAAAMFBMVEX///8AAAAAAAAAAAAAAAAA\n",
       "AAAAAAAAAAAAAAAAAAAAAAAAAAAAAAAAAAAAAAAAAAAv3aB7AAAAD3RSTlMAuzKrZonNIu/ddhCZ\n",
       "VERetuGgAAAACXBIWXMAAA7EAAAOxAGVKw4bAAAFNklEQVRo3s1aTWhcVRQ+85PMTGcyU7qqdeHg\n",
       "QrGbCWhEAqWzKt0lCC7MJgPdCFYMBBHURaotUXARbAUfbWEstEURHFGku8miiEUhwY3mbpJFkewy\n",
       "SDHQEMeZd9+8d9+957x73+Rl5p7F/Jx77pnvfe/ec895ZwB6kqrC2OWHFtglr1iAIX3TLk4y88RA\n",
       "8fTa6FBsGdqNCNQFcmRyfXSkTEwbGo4EVG6VHKpsjnDB3tCMP5ZBPY62C0u5TrjFBwpNEsfeKKPf\n",
       "X5ofYzIoFm0XlinqKvGBizSON0cZ2nTbgsmgjpOUa3wTzdxXRy99e07dbZihK8sLH8TkITSjvB9t\n",
       "wmRQDEfEUDh6UkT7Ewfu2+5S6kAJ9P+22kuyEjPkF7UKz8XbbtKMS9EmTAbFcEQMda4lJWRfcKN+\n",
       "8SqUlKNu6gDysi9uWEROrAd1eATFN142J8adEch2K9KEyaAYjoihcLSkhMDU3HS21IGCkq6UGlCR\n",
       "ldzw7Deq9w2AL6GEcEuKOyOQdpM2eeQ4nzrO9QCUoBARBWoRTslxvvrMcdRDXxgIgXnNfc2fhPaO\n",
       "ci7Nw558KHuGSKp1BYr/QWUn948xKe6MQFJrkSZMBsVwRAyFo10pITCfDO7SHJambMhL2jNUSSk+\n",
       "hWwHsi1zUrwZD89+x79n9wmT0MUGoBiOiKFwdKSEwKSfcM+b8OqUHFQr1d5+lUnhhggph5Bp/NnL\n",
       "TI23D5/x0249z3+4+IR0KpLig2I4IobC0ZIigjnBb0+qOXWrpBRF9ZSSO3iGyPY5A1vrPfOXzAOt\n",
       "O+PDe1BpiYsWcypwEIBiOCKGwhmQ0m70DzDwXoQBEUxqhRM1+/ryHeU+zTxU7x03REj58e6Ls1XI\n",
       "PWt+JPMZs7DrfX+GMgkdNj4ohiNiKJzBtRf6jN6CwUswIILphalEa9qP4P2Yrj6G39P806JRRkso\n",
       "tlC1D8cwo+Vg2uuJkpI79fxvMevRDnzxB/84t2NSEBKKLUwdwDErCD0wtaZZ3RhG8N67C7h1vtvt\n",
       "xKtLy9Nw11PUmsNXTgIiHI5Zjs3BbG+alUgMYhVUQw0MuWqTl7mqPaRUpi0h5fsli0g5aQkpiy17\n",
       "SMk3BvWLw+uXccmGRaQU1ixZKef5W7cvnXDdWHGV4dqTG9LWgykmdakwo8tJWVE2VHcM0hmQYsdK\n",
       "WbFkpVi4fcYfUxYtOn28QGvBkXzseYpfl7YbOlJsyVOOP3nz69LCui5PsSWj3faLsPRbCOgXPkdJ\n",
       "8dXyJfpOzLdP4Ks9n+SVCRjjSq0uPn1UC7ZDvEY9pMrHoNNq3Kj0fR2lIETkcOiZwpLFmqRlosdz\n",
       "QPmL32kNfG0n2rqmMWqlEER8rElKPHGlH8TG77QGvpA67AgyMXx+nAkSpsvI8CQe+ybJkHg5NoLA\n",
       "1/lEd8/k8GE76y2y3MwddQ8uL9SwFU2oCSfRIvq6kiAlJEYTSXtXgbWIie4w3TQm+8z0xhd85Z4m\n",
       "GFBiN7ZDwvsK/Yaskk8+qMMvyAxCTTiJFtFXdj85UkiMZvIrL16xXrLU69WoCSea0kvwlUnwyQGJ\n",
       "0Uz23OwN7SVLvV6NmnASLaKvSoJpConR8Ex2gzTWSxYbuXo14SRaQr7mkvszGY0xzvGD9ZLFRq5e\n",
       "TTjRgBd9JfiwgMZoKO7fu9BestDINVATTqJF8FVOMM7SGE3r5P6qRXvJQiPXQE04iRbBVyrJBwck\n",
       "RtPML9Ha9AgR36Z/56dX7cBxG2ySr61AMTFtFSkZK/bP32CXvGPDJn7bMlJS1fFj+NmiMPs/Xj/a\n",
       "M5pGG6wAAAAASUVORK5CYII=\n",
       "\" style=\"display:inline;vertical-align:middle;\" /></a></span>"
      ],
      "text/plain": [
       "{n in NaturalPos, a in Complex, b in Complex,(a_{1} in Complex), (a_{2} in Complex), ..., (a_{n} in Complex), d in Complex, d != 0} |- ((a / d) + (b / d)+ (a_{1} / d) +  (a_{2} / d) +  ... +  (a_{n} / d)) = ((a + b+ a_{1} +  a_{2} +  ... +  a_{n}) / d)"
      ]
     },
     "metadata": {},
     "output_type": "display_data"
    }
   ],
   "source": [
    "# interestingly, this still works fine:\n",
    "with Add.temporary_simplification_directives() as tmp_directives:\n",
    "    tmp_directives.combine_like_denoms = True\n",
    "    example_sum_03.simplification(assumptions=assumptions)"
   ]
  },
  {
   "cell_type": "code",
   "execution_count": 115,
   "metadata": {},
   "outputs": [
    {
     "data": {
      "text/html": [
       "<a class=\"ProveItLink\" href=\"../__pv_it/demonstrations/5fc3f09e19d50ab5879a227a6cea471d4b8d4be10/expr.ipynb\"><img src=\"data:image/png;base64,iVBORw0KGgoAAAANSUhEUgAAAFsAAAArBAMAAADlOulrAAAAMFBMVEX///8AAAAAAAAAAAAAAAAA\n",
       "AAAAAAAAAAAAAAAAAAAAAAAAAAAAAAAAAAAAAAAAAAAv3aB7AAAAD3RSTlMAIquJdkTvuxBmmd1U\n",
       "zTKBpmoTAAAACXBIWXMAAA7EAAAOxAGVKw4bAAABfElEQVQ4y+WUMUvDUBSFjy1p4jOa0tVFaEcF\n",
       "wW4FieigS+kkOBUXRV06iKvBwTVZncwqIi0WHHxLBDeX4ODgFH+AmEEhQ0WTINS+dwNmcdA7nnu4\n",
       "777D5QOo0g56yFOTbi674eWyt61c9kZmZ6y6ZEri/cqs7KyvBcB6WY2kZN4tuyyK0x7rQNsBk1LT\n",
       "I5SkJ/uJxkJMzIsd5sMQRZbuUOrAbon2eEBbjDI2xmWbOKVi74pR2ul2toc5XfyWEcRfEjUHaEE1\n",
       "9WsmtgqOKl1BHEsxgFZbrDSlIKtncuwLJ6v4xVIcQtzItOsmId7+PTvj/GqP85kR8ZzzLc4vh8JH\n",
       "UuHodCMVhenffP8myKkHVz6x513hxIaYJYk4yMQsRUQlysQsRcRiLxOzjz8ifOMLqU1pTVTqLx6N\n",
       "WQqpyiYOLRKzCVJ90X7s4ILGLInUbsJbErMkUrehvdGYpZCqvWI8pDFLIVUboODfkJglkbqPO9cl\n",
       "MUsi9Wj5qRZQmP0ExuOBDqMxfu4AAAAASUVORK5CYII=\n",
       "\" style=\"display:inline;vertical-align:middle;\" /></a>"
      ],
      "text/plain": [
       "(a / d) + (b / d) + (c / b)"
      ]
     },
     "metadata": {},
     "output_type": "display_data"
    }
   ],
   "source": [
    "example_sum_04"
   ]
  },
  {
   "cell_type": "code",
   "execution_count": 116,
   "metadata": {},
   "outputs": [
    {
     "name": "stdout",
     "output_type": "stream",
     "text": [
      "ValueError: The likeness keys of the operands of (a / d) + (b / d) + (c / b) are not all the same: {b, d}\n"
     ]
    }
   ],
   "source": [
    "# this should raise an error, because the addends are not all like terms\n",
    "try:\n",
    "    example_sum_04.combining_terms(assumptions=assumptions)\n",
    "except ValueError as the_error:\n",
    "    print(\"ValueError: {}\".format(the_error))"
   ]
  },
  {
   "cell_type": "code",
   "execution_count": 117,
   "metadata": {},
   "outputs": [
    {
     "data": {
      "text/html": [
       "<span style=\"font-size:20px;\"> <a class=\"ProveItLink\" href=\"../__pv_it/demonstrations/6a39fd3ed96574336cd5510bac7bdd32c01b7d0f0/proof.ipynb\" style=\"text-decoration: none\">&nbsp;&#x22A2;&nbsp;&nbsp;</a><a class=\"ProveItLink\" href=\"../__pv_it/demonstrations/aae01f4833cac48c320b3e2146fd5edd7f969b5e0/expr.ipynb\"><img src=\"data:image/png;base64,iVBORw0KGgoAAAANSUhEUgAAAREAAAAyBAMAAACJ9fKRAAAAMFBMVEX///8AAAAAAAAAAAAAAAAA\n",
       "AAAAAAAAAAAAAAAAAAAAAAAAAAAAAAAAAAAAAAAAAAAv3aB7AAAAD3RSTlMAuzKrZonNIu/ddhCZ\n",
       "VERetuGgAAAACXBIWXMAAA7EAAAOxAGVKw4bAAAERUlEQVRYw62ZTWgTQRTHJ9mk+djNB56qCOak\n",
       "3tKDESlIi4iIl4SihxahARGEVgj0oreUKrXioRAVoy3Uqgj10JWCeEsEKXpKblov7UHEW0OpFtqm\n",
       "OvuZdN97STPbPYU3O799M/PmvflPGOOPJ8E6fN6rdNsRF7AznfZl3hdkk9QvDpMyxCty9zTVe4Xk\n",
       "psihT7WFXSKpXWWqxd9DNPiyJG20HSwwSfaNVcmmx4T9To7sUm8HC82Rb6zTgfmdaHpO9ojutINd\n",
       "pmNpkHW6cL482cM/3Q5231ij1Fs4NzcWzsNuQ6+1TR/dQpnBDAnr6n0FF9u/cMGGhY1J+53zgNmT\n",
       "/6olsOx3q0pc9xL1ZFGlYKw0IgPvA7Pskw0L6YEr32MKmL3IDguCsT0xbatooBRImNbhodMWyhg2\n",
       "HZbUE6xS06yOR8mymNOoWIMtYYHu3SBhbJmxP05bRW2CnTPWN85Ka4jH686lDcbNHx4sAKU8CeOT\n",
       "GQX7eLwZNmE5lcbSScW5BvZU+LCQDfaQMJ5OFGfwyNtNMO+m8YEqOxtxRmcswVfcaeNlRR+vvIl4\n",
       "kuwnYWyDfQQliTOiFixsDM0zF5lRYDHzgKzBN47fKN0T2NbJkTBeZ48DG984AxbMY6QiuXdgbB7s\n",
       "4tRn+LFrF98ZP44innTTMLZ0HVZp/9UrqgWzI7DjZxixjbuAlcqindNwe8i7LmBJmBai2FnnJ4xO\n",
       "2NO7fTAYNHLYKqwFESxn/YDZG85mpH4wGDRyWDoh6kkMHpZ8G6KecNhiTtgTGOvhLWFP4mxYFfUk\n",
       "aJwTvxa1p2Bsyh1RTzisIuxJCBYeRdgTDuszfv3TnpoGKxafTRWLWgzEdKM57gfmuK33eGd4PJNq\n",
       "JIz+ggXrY8JzQnoiMid596vTHCeuVmc45zJi95WRLRcRuyicT4Iwn4SF8wmHuchs5cPMbGW2atcx\n",
       "760yfO/kI4cnDa1cgkfVyF5LGDTaWpnDkv1Ae+6rT3VnBbQlF1YBN1vDoHG0AWuaY0x7Qglpa2Wk\n",
       "drLd1kIWGusNWCjbUntCCWnTkIrFnrYWsoPkQDlMyre8VYDy16YhOdGULOQVxSg5UA7zmV4FUvPw\n",
       "cDE2lKySWhk7KaZVGoYZba3MYV6zFZOy0Ul2QqW0cmAbUxlVEoYaLa2swwyxoElZkDO5PlkmtXIL\n",
       "5YXCUKOllXXYF0ZK2YomISmtLGFqVMnTIhszWlpZh62vkVJ2nMl7pFaOYckzukfCUKOllXVYqExJ\n",
       "Wa5afTVSK6fRW4sZUhejRksr6zBj82BSVq4zKfuN0soFXLeolC5GjZZWLjRut1Ape4ytlMuEVm51\n",
       "u4XCUKOplU2YPgxUyi69OdWbILSyB7+Q1WcYF9noFwytbMK6MiLykbogvekC5p0U6TxL2E/nXMBe\n",
       "CvQlb8vDcRcwSWB5fpEtKTew2x339Y6QTV1VFzBPotPOHw7znyYD9h84z7fTM3mjmQAAAABJRU5E\n",
       "rkJggg==\n",
       "\" style=\"display:inline;vertical-align:middle;\" /></a></span>"
      ],
      "text/plain": [
       "|- ((a / d) + (b / d) + (c / b)) = ((a / d) + (b / d) + (c / b))"
      ]
     },
     "metadata": {},
     "output_type": "display_data"
    }
   ],
   "source": [
    "example_sum_04.simplification(assumptions=assumptions)"
   ]
  },
  {
   "cell_type": "code",
   "execution_count": 118,
   "metadata": {},
   "outputs": [
    {
     "data": {
      "text/html": [
       "<span style=\"font-size:20px;\"><a class=\"ProveItLink\" href=\"../__pv_it/theorems/e9f87a0977d5044ea8daf1040d2f219396bb3d5b0/expr.ipynb\"><img src=\"data:image/png;base64,iVBORw0KGgoAAAANSUhEUgAAADMAAAAQBAMAAABJt1qBAAAAMFBMVEX///8AAAAAAAAAAAAAAAAA\n",
       "AAAAAAAAAAAAAAAAAAAAAAAAAAAAAAAAAAAAAAAAAAAv3aB7AAAAD3RSTlMAIquJdkTvuxBmmd1U\n",
       "zTKBpmoTAAAACXBIWXMAAA7EAAAOxAGVKw4bAAAA0ElEQVQY02NgwAKaq+86PsYmwcCiNoFjfRVW\n",
       "qSXBDAycWKX4FlQASS0UMffduy8AKaaGAiDZiSwT6wGh2RkXQEUYlR0dwPQNqIAQnwGUFSbA/gNE\n",
       "8wpABR6zToAwODIZuDaApWAGS7E6QBhcHxi4wQY82w0EBWC7oAayFTD0B4AY7TBd7GAXAkG/A8N8\n",
       "MIMbJsUK9hcrUOoAgy4PyAUsDvDQCAISa4HaHXh2cYFF7sDDsHYhx2mg3zhU7IT8wCJNpQ2wkC/7\n",
       "vRA18IKrwQEFAwCqvi28/xxvKQAAAABJRU5ErkJggg==\n",
       "\" style=\"display:inline;vertical-align:middle;\" /></a>, <a class=\"ProveItLink\" href=\"../subtraction/__pv_it/theorems/d6724abdc9486f838f4cf63bc1115e85255ce4c00/expr.ipynb\"><img src=\"data:image/png;base64,iVBORw0KGgoAAAANSUhEUgAAADMAAAAQBAMAAABJt1qBAAAAMFBMVEX///8AAAAAAAAAAAAAAAAA\n",
       "AAAAAAAAAAAAAAAAAAAAAAAAAAAAAAAAAAAAAAAAAAAv3aB7AAAAD3RSTlMAMs3vmVREEIndIqt2\n",
       "u2aBbGR5AAAACXBIWXMAAA7EAAAOxAGVKw4bAAAA4UlEQVQY02NgwAIqbiqdkgCzGJUdUGR4Nj9g\n",
       "978CYfMHoEj5ZDAw8EGl8guQZRgdrgPJLRBOJ4Q6O3OmApDiLrgAJOsgYipgMuk4hMfLBbOaa8fB\n",
       "r2BaHSqwmrEBykpewPsdRDMtgApIsD2AMNjtGFgUwFIwZyxhOwBhsHxg4AQbIDwTCC6A7YIayHyB\n",
       "oT4BxKiF6eIFuxAI6g8wvAczOGFSbGB/sQGlAhg2sYJcwHMAHhrZQMIJqP0A6xQWsIgqPAwvebFH\n",
       "Av3Gvqdx9UGwSPU1WHhVXP7phRoXGTfBAQUDAJ+SNfXA0lXRAAAAAElFTkSuQmCC\n",
       "\" style=\"display:inline;vertical-align:middle;\" /></a>, <a class=\"ProveItLink\" href=\"../__pv_it/demonstrations/4a82d58b126555a18b104ddba47c5351567eeaea0/expr.ipynb\"><img src=\"data:image/png;base64,iVBORw0KGgoAAAANSUhEUgAAADEAAAAUCAMAAAATIyWrAAAAPFBMVEX///8AAAAAAAAAAAAAAAAA\n",
       "AAAAAAAAAAAAAAAAAAAAAAAAAAAAAAAAAAAAAAAAAAAAAAAAAAAAAAAAAAAo1xBWAAAAE3RSTlMA\n",
       "Ms3vmVREEIndIqt2u2bn9enzePXnUgAAAAlwSFlzAAAOxAAADsQBlSsOGwAAAOJJREFUKM+VkukS\n",
       "hSAIhQU3zOUuvv+7XrHphjk5Ez8qoePHUZRahfH3NUBt5mSWK6JkNpmodlJkEAtsdR+ExNWpA4hi\n",
       "UULnCCqFGSF7yF1uxb442XBxaLrXYe99i5RgtoES4Q9F4b10K+UTZ0KP15ufB2ertCtSU2uWGVwi\n",
       "TkV7mcqfga4uRl9+Vzhm6NwTbok4nNtm17NKlSpGg/v/fHc3//PK/SZKs+v7IUVUdtgUr/dZtDrs\n",
       "5sawwaihbzsPWeAp0Tw3PiaCLSZYItp/hlKEu0m2pB4G+oeC8hgRniIUrIo/FvAG9zLswUoAAAAA\n",
       "SUVORK5CYII=\n",
       "\" style=\"display:inline;vertical-align:middle;\" /></a>, <a class=\"ProveItLink\" href=\"../__pv_it/theorems/a259ec76dfb0a5be60b7c83d797520fa82c1dba60/expr.ipynb\"><img src=\"data:image/png;base64,iVBORw0KGgoAAAANSUhEUgAAADEAAAAQBAMAAABNQoq8AAAAMFBMVEX///8AAAAAAAAAAAAAAAAA\n",
       "AAAAAAAAAAAAAAAAAAAAAAAAAAAAAAAAAAAAAAAAAAAv3aB7AAAAD3RSTlMAELvv3c2ZVESJq3Yi\n",
       "MmZ3LnoBAAAACXBIWXMAAA7EAAAOxAGVKw4bAAAA2UlEQVQY02NgwASSKqF7bjIwMCo7oElwL37A\n",
       "mK8GZLAmoMlkdzIw8IFk+AtQJXgTFIHkMiDuF4AKbXJxCQBSXAIKQFIOiKdAJVo3QmgmHpjxUbuX\n",
       "gyieQCj/FO8ECIPxq4D8AZBDDkBlbnI8gDDYPzIwbwDJwFxwjGMDhMEWwMAP0n7ZBQgUwPZATWOZ\n",
       "wNAPcrcQTA8T2G0Q7+SD3M0Ck+EA+4cDKHOB0Q4cJhvgYdAFJFKBHnvABHF/ODzcVHMYS4BijCvz\n",
       "IAJSGrDAkFT+koMSYJ0q4NCBAQD6uylQEVfDpgAAAABJRU5ErkJggg==\n",
       "\" style=\"display:inline;vertical-align:middle;\" /></a>, <a class=\"ProveItLink\" href=\"../__pv_it/theorems/b66b5547fa9b0b910f79351152926c658c2718190/expr.ipynb\"><img src=\"data:image/png;base64,iVBORw0KGgoAAAANSUhEUgAAADEAAAAQBAMAAABNQoq8AAAAMFBMVEX///8AAAAAAAAAAAAAAAAA\n",
       "AAAAAAAAAAAAAAAAAAAAAAAAAAAAAAAAAAAAAAAAAAAv3aB7AAAAD3RSTlMAiXZmMiLdVJm77xBE\n",
       "zatgdeJyAAAACXBIWXMAAA7EAAAOxAGVKw4bAAAAw0lEQVQY02NgwAQbp91VdcQizsD0yoC7fwY2\n",
       "maaDDAzM2GRYGmYDyRfIQpppaReAFN+GCUByM5LEWW0IzcnaABMSUnYAkqy3odw4FgEoK6yAA6Sd\n",
       "NwDKd+QxgLISGbgUQDIwIyJ4FCAMjt8Q2isNCCaA7YGaxjUBQu+E6eHcABXZD9XLBpPhAfuHh4GB\n",
       "H2jfAVCYKMDD4ByQ6AXaM4GBEeRqhuvwcJvbyl0G8pOgMcSL++ZsgIX1rG+tKAF2cBo4dGAAAHWD\n",
       "KgtwTxl0AAAAAElFTkSuQmCC\n",
       "\" style=\"display:inline;vertical-align:middle;\" /></a>, <a class=\"ProveItLink\" href=\"../../division/__pv_it/theorems/1157e8bc07ff5d23e5b8809064b9e77def3bc8980/expr.ipynb\"><img src=\"data:image/png;base64,iVBORw0KGgoAAAANSUhEUgAAAC8AAAAUCAMAAAAqRJTwAAAAPFBMVEX///8AAAAAAAAAAAAAAAAA\n",
       "AAAAAAAAAAAAAAAAAAAAAAAAAAAAAAAAAAAAAAAAAAAAAAAAAAAAAAAAAAAo1xBWAAAAE3RSTlMA\n",
       "ELvv3c2ZVESJq3YiMmbn9enzVleb9QAAAAlwSFlzAAAOxAAADsQBlSsOGwAAANlJREFUKM+VkusS\n",
       "xBAMhcUlGspevP+7LjG6bK0ZfmhSn+OICPF/IMz+glR6igfZZ0QezxoanPIydImxWVnXDclO5V2X\n",
       "RLZAfOKRpj7l2Se82TJJU/tHLy8SWw7sxDjv3c2S6eWh8bHEBvLUllHzeDzL3M44E1XeN1PKL+S/\n",
       "fP6gYYM0uh9LDHX5KPqaOLIL+XZfWygm8aop+3+96y2uGkmufCxUys8IKo7yvy8SFWsV6y6jcrRr\n",
       "7w2iSz+o0iHgCKNYy2cKybsw72NLYmsY2MLjprzekxdhtfgBfooGZl93KjkAAAAASUVORK5CYII=\n",
       "\" style=\"display:inline;vertical-align:middle;\" /></a> <a class=\"ProveItLink\" href=\"../__pv_it/demonstrations/4c812dc3c884ad1e2732b7000ce8e93cf65689c10/proof.ipynb\" style=\"text-decoration: none\">&nbsp;&#x22A2;&nbsp;&nbsp;</a><a class=\"ProveItLink\" href=\"../__pv_it/demonstrations/3eae3fb61d5631cbd1972430a046207d050166dc0/expr.ipynb\"><img src=\"data:image/png;base64,iVBORw0KGgoAAAANSUhEUgAAAH8AAAAzBAMAAABMCco3AAAAMFBMVEX///8AAAAAAAAAAAAAAAAA\n",
       "AAAAAAAAAAAAAAAAAAAAAAAAAAAAAAAAAAAAAAAAAAAv3aB7AAAAD3RSTlMAZkRUmRDNuyLviTJ2\n",
       "3asqG0tJAAAACXBIWXMAAA7EAAAOxAGVKw4bAAADB0lEQVRIx61Wz2sTQRSeNLttmt3YWKkiBNmC\n",
       "d/0Dckih4kXLXupBkaoXL1Imp1w87EHwmNAeVKSQ3gUjiNBTKliDpe1BDNRDJCBa8BQKhcAKOj92\n",
       "NzNvZrZqfdDH5uvstzPz5nvfIISmkTbeYD1egUC2oh94qqnHH0Pghn4cmmzp8cwmAKrkz17fDuDA\n",
       "9s435eUXJZK6MpZrkHQ7aCsEu/47CBW8DZL3ZNCiS51HG8rXqugshK6iWyQv+RI45ZG0MqKdjR+e\n",
       "o4XoaawYPaywPF6Ul0r47CGqLka/y/E/Bmg1rlO8bUM+Z7m+uzQ9dQ5nIEE3gyHBPZQn2W1IBN9p\n",
       "unhmuwgJXu8gSPDo9BZd0ZFEUAMbVVYrn5Ur74RsIT0WfbT81wS5Q+nnJ1qJXyQG5OF6r/es1/tC\n",
       "8RgiX/q8Rr/EhxHIlgn+YQbhCQmcobQHBxzNhyrByxYg4AoHVfgQzWugEtThDLjCM/I5uMRPtotV\n",
       "gg4k4Aq3+rLsPSbn95uQ4GbpASTgCgdaYGokcm4BMdn7TgjFxBUO1Og0mJzbcOutijPQK/wCQL8y\n",
       "nXaUjua5SlflCt9XeyKR88NFAC8FE1s+wJjClZ6YbVI5hzNwBkH7FSRgCle6MvUFQc5xjM2V1+FI\n",
       "pvAr6L/H9J8YkmV+X3CmitmQcthIIDgTTjGkkpFAcCasN6T8W1K5gm94X3QmrDekj/S0un0DgehM\n",
       "WGtIFrbJsuwjA0HiTFat9qRWFQxpVtQrQncNBKIzYcmQYmFPBZEx6kN0JiwZUkww7qHmqHUpIToT\n",
       "lgwpJsjNlfxR61JCdCac1p/bhgOybLw/AYK6pydInGkUGo+iDcI7fgapFlNvnZBAvUXxOBAPfagj\n",
       "cO6LBqKEWN7cQDuDHyyfN0xUJJb7cHnUjGksmC6kyeYK9iQv4eeen6IFK+lAgj1JYnK7biVFjU7i\n",
       "tRp7YjFRzNwhdmDqB8yZomtkx3Drpn5cCI7riTp74nJGk5fTemI23gSNPfErtn8utSsnvqCxJ75L\n",
       "10hxLFNP/Q1KJAUH2s+jmAAAAABJRU5ErkJggg==\n",
       "\" style=\"display:inline;vertical-align:middle;\" /></a></span>"
      ],
      "text/plain": [
       "{a in Complex, d in Complex, d != 0, b in Complex, c in Complex, b != 0} |- ((a / d) + (b / d) + (c / b)) =  \\\\ (((a + b) / d) + (c / b))"
      ]
     },
     "metadata": {},
     "output_type": "display_data"
    }
   ],
   "source": [
    "with Add.temporary_simplification_directives() as tmp_directives:\n",
    "    tmp_directives.combine_like_denoms = True\n",
    "    example_sum_04.simplification(assumptions=assumptions)"
   ]
  },
  {
   "cell_type": "code",
   "execution_count": 119,
   "metadata": {},
   "outputs": [
    {
     "data": {
      "text/html": [
       "<a class=\"ProveItLink\" href=\"../__pv_it/demonstrations/5408cd96817e7c08237582011cde76a42dbc9daa0/expr.ipynb\"><img src=\"data:image/png;base64,iVBORw0KGgoAAAANSUhEUgAAAIMAAAArBAMAAACp/CbWAAAAMFBMVEX///8AAAAAAAAAAAAAAAAA\n",
       "AAAAAAAAAAAAAAAAAAAAAAAAAAAAAAAAAAAAAAAAAAAv3aB7AAAAD3RSTlMAIquJdkTvuxBmmd1U\n",
       "zTKBpmoTAAAACXBIWXMAAA7EAAAOxAGVKw4bAAAB9UlEQVRIx6WWsUvDUBDGL9Y2aRqbUtxchHZU\n",
       "yOAmSIqOUjqI4NS6KOrSQVwtDm6Szl3sWkRaFBwMSAU3l+Ag4lT/ADGDQoeKJm1KzHtXuZBbwl2T\n",
       "X17f3fe+AGAhHXUgasw0IyPUbmREuRYZsRzqbiFX0Lni09pCCMRmRuxzHfmuGRkyQdoDmeug0oeE\n",
       "TkbINqQ0rmiBqpERiSoYJbboQMv0tho6nGNj0aa31ejCosJundpztogcoq7cymxxqi7yEy5gj7sv\n",
       "l/Ir2SLXplyLv3sdQ2yEGUGFb1H6uTldD4E4w9X4EqzEMeSWd23hamwwa8Um8sG7VnA1JmpkhGIh\n",
       "v706h1OdjJA1VtVCrjgAiM2TEcO3BVQ9SpIWGZHqMqp2E+dx5c8eyaZ5c2CawXVdmOaOaV65ciz5\n",
       "qjYsX+JpG37csIOrUIfF4CpcxFjVqaYv8Xgl1B8JqNpLlA4ZIeqMqr0kWSUj3OYFVO0lskZGpDuM\n",
       "qr0kVaIP+B2uvrmxZnmZve8zMmvgiNY/DjpgjzfUWITqZAeNs/4kVdFzMzPZQWOcP81iiIKv2Uhf\n",
       "GCPNMpFd+gjxhYHZcnwbjulW5Gk2GKd1uKQvArXlNsA1HYHa8i5IX3QEZsvSJyTtEAjElqUBTFn3\n",
       "0Wz5EB6b9LlAbflk9S3foxJ+AbxlkepgUD0pAAAAAElFTkSuQmCC\n",
       "\" style=\"display:inline;vertical-align:middle;\" /></a>"
      ],
      "text/plain": [
       "(a / d) + (b / d) + (a * d)"
      ]
     },
     "metadata": {},
     "output_type": "display_data"
    }
   ],
   "source": [
    "example_sum_05"
   ]
  },
  {
   "cell_type": "code",
   "execution_count": 120,
   "metadata": {},
   "outputs": [
    {
     "name": "stdout",
     "output_type": "stream",
     "text": [
      "Exception: @prover method <function Add.combining_terms at 0x7efe80dbe950> is expected to return a proven Judgment, not The likeness keys of the operands of (a / d) + (b / d) + (a * d) are not all the same: {b / d, a * d, a / d} of type <class 'ValueError'>.\n"
     ]
    }
   ],
   "source": [
    "# this should raise an error, because the addends are not all like terms\n",
    "try:\n",
    "    example_sum_05.combining_terms(assumptions=assumptions)\n",
    "except Exception as the_exception:\n",
    "    print(\"Exception: {}\".format(the_exception))"
   ]
  },
  {
   "cell_type": "code",
   "execution_count": 121,
   "metadata": {},
   "outputs": [
    {
     "data": {
      "text/html": [
       "<span style=\"font-size:20px;\"> <a class=\"ProveItLink\" href=\"../__pv_it/demonstrations/38b5889e163a064fffb8bd4ecdecf2300b1683150/proof.ipynb\" style=\"text-decoration: none\">&nbsp;&#x22A2;&nbsp;&nbsp;</a><a class=\"ProveItLink\" href=\"../__pv_it/demonstrations/59ed0405ec141dd3d4eb655a37c47b9987a691980/expr.ipynb\"><img src=\"data:image/png;base64,iVBORw0KGgoAAAANSUhEUgAAAV8AAAAyBAMAAAAJhsWCAAAAMFBMVEX///8AAAAAAAAAAAAAAAAA\n",
       "AAAAAAAAAAAAAAAAAAAAAAAAAAAAAAAAAAAAAAAAAAAv3aB7AAAAD3RSTlMAuzKrZonNIu/ddhCZ\n",
       "VERetuGgAAAACXBIWXMAAA7EAAAOxAGVKw4bAAAFLElEQVRo3q1ZTYhbVRS+yWQmySQvGXBRrQuz\n",
       "qnSVWTiiBTFuxEUhwa7sZgLtQhiFyKzsxpSqo1TK4A80aCUWpSBIU4TiLm/RSruabPwZN5NFkeJm\n",
       "RtQWmqb63jv35uW9+91HjrlnMfPufS/nO+/cc8797nlCeJKqiPml8KT5nhWAa73J5TPChhztGW9Z\n",
       "AUh/rq4WGianPb7NUOgYH7YEsKsuXjY+suRyXHDCdMMSwOIq/c9uGR8pDzgG52t43hrApxKna3xi\n",
       "v8fR55w3vIgtgF/p6VfMT7zGS4s38LQ1ABlA79G6rV3RHXHq2xc4CvdbcJoANk+eEXMClO77f5dH\n",
       "weBuKzXSkvher9/ieGAVzRJAaUs81ZsX4FQQYQFK4V1R1EqMMxK5LieIRzCEA4AfauK2mBdgz3/l\n",
       "arALFQ9EXquWxaYoNzib3QM0SwA7Qnwm5gXo+2/3XHCZWxH9oeabhthn1Z0n0CQBnBWFR2JegJQf\n",
       "BOeU7XVUJXdYdaeOAvKcdH7mYG6AjJd16b/J4IF41onDlSteaHOkD7YOAiiMxULzFzEnQMHTtXyf\n",
       "nN11vihqHKCWAlsn8qKcy4EyIQEOi13XnQkgizbLcLVSbbL92Kubl7UXWrsBDEBB98dUjMXjjgC+\n",
       "/+bpY5WZAL5DFbg7SRIv23jyk77or7vLFAuLepiyARy9bBz5SHxNV+te2Lk8fYUmpDAblBSPQFwz\n",
       "Aa6DubFYotysD0VVL9wlxLruqNJZgxTmOPkaFGIAcEckAIAgKY1ExlXK9vSQdNDm85taYUxhcoEH\n",
       "Cg/B7jQw6oKTbUCEvdQ4r5arXuEZ/DNmaUvk+L9Aba6wDHaamKWdpuBbFVdbPINvxplddu3yeHIa\n",
       "+FP/IQBIMrjYiDO7zZPVgTrOlFfEeo9n8Ok4s6NBhhzzPoF2AqF3AABJBvtLFWF2ckDHrFwTbY2J\n",
       "Bl+KMTt/4BnrUOh19B/u8AzOD2LMzhv86J826O62eJGm//XlgLxz8UPyTjmY9O/e7nQ+6HQ+8S8v\n",
       "hMyu3wxpXpoq8EXdEAKAutBkbhgyuwBADqpkcFsZPLOHL4TMLu+GNK/UTjZ4Zg/7BitmFwDIwV1l\n",
       "8P8IiQizkwPZlOjoMcwPiQizU4NdFRLrzCpxOMbs5CCzMpV0EVnnVYlUN8rs1OAllXRXmXX4RIzZ\n",
       "yUGxEXLfWFnj1WG/PkaYnRzcVHSQu3EcjTE7OcjTceXh3BtHejvG7OTgS8pdV+wNp0iXbrBHlKIg\n",
       "edyIfJus/wdszUOjLjj5Me4eUY70G6Ja0/pGEfIzjnGTDCZfN8zkp2bUBSePQ/2Sc3nkp+wm9o1K\n",
       "2sn9EHQA5ZwzBtzTNetCkynYqHhrwqTyzcS+0aJ2hrgGj7Ot6eNQ9GTcNOtCkwVI+A9NiMlCO7E1\n",
       "pvdDsyglr8gzGjhxhACwt6pPnkHdo9ZkF8qMpklXTIgozS7oOKQAoC4uwFkvT8bC2FuD/bAkeQd4\n",
       "XwJAXVyA7INJrZekKyqSKNlopGBdXAC/kSJuCWNvDfbDkuR5NHnLrIsLsOBn6P7Q2FuD/bAkgc1A\n",
       "AoC6uADlruJwsLeG+2FJK4bbra5JFxug3pugoN4a7oclSH7V+BpQFxsgoP3U0Ye9NdgPS5CkTwZQ\n",
       "FxOAPhmQn2FvDfbDEuSxhIWEupgAKVrBpYawI5Ar2ASQZCe9ZUlf3rBpWQO4JP9/ZUmf8dOtJQD1\n",
       "6db87ZoZEU1jvbcD8Pvk6k0r+o6YWYEVgPRGmH0VC/oKGwnpbQPgeuCQ/wDdPO56f5xCqAAAAABJ\n",
       "RU5ErkJggg==\n",
       "\" style=\"display:inline;vertical-align:middle;\" /></a></span>"
      ],
      "text/plain": [
       "|- ((a / d) + (b / d) + (a * d)) = ((a / d) + (b / d) + (a * d))"
      ]
     },
     "metadata": {},
     "output_type": "display_data"
    }
   ],
   "source": [
    "# The Add.combine_like_denoms simplification directive is False by default:\n",
    "example_sum_05.simplification(assumptions=assumptions)"
   ]
  },
  {
   "cell_type": "code",
   "execution_count": 122,
   "metadata": {},
   "outputs": [
    {
     "data": {
      "text/html": [
       "<span style=\"font-size:20px;\"><a class=\"ProveItLink\" href=\"../__pv_it/theorems/e9f87a0977d5044ea8daf1040d2f219396bb3d5b0/expr.ipynb\"><img src=\"data:image/png;base64,iVBORw0KGgoAAAANSUhEUgAAADMAAAAQBAMAAABJt1qBAAAAMFBMVEX///8AAAAAAAAAAAAAAAAA\n",
       "AAAAAAAAAAAAAAAAAAAAAAAAAAAAAAAAAAAAAAAAAAAv3aB7AAAAD3RSTlMAIquJdkTvuxBmmd1U\n",
       "zTKBpmoTAAAACXBIWXMAAA7EAAAOxAGVKw4bAAAA0ElEQVQY02NgwAKaq+86PsYmwcCiNoFjfRVW\n",
       "qSXBDAycWKX4FlQASS0UMffduy8AKaaGAiDZiSwT6wGh2RkXQEUYlR0dwPQNqIAQnwGUFSbA/gNE\n",
       "8wpABR6zToAwODIZuDaApWAGS7E6QBhcHxi4wQY82w0EBWC7oAayFTD0B4AY7TBd7GAXAkG/A8N8\n",
       "MIMbJsUK9hcrUOoAgy4PyAUsDvDQCAISa4HaHXh2cYFF7sDDsHYhx2mg3zhU7IT8wCJNpQ2wkC/7\n",
       "vRA18IKrwQEFAwCqvi28/xxvKQAAAABJRU5ErkJggg==\n",
       "\" style=\"display:inline;vertical-align:middle;\" /></a>, <a class=\"ProveItLink\" href=\"../subtraction/__pv_it/theorems/d6724abdc9486f838f4cf63bc1115e85255ce4c00/expr.ipynb\"><img src=\"data:image/png;base64,iVBORw0KGgoAAAANSUhEUgAAADMAAAAQBAMAAABJt1qBAAAAMFBMVEX///8AAAAAAAAAAAAAAAAA\n",
       "AAAAAAAAAAAAAAAAAAAAAAAAAAAAAAAAAAAAAAAAAAAv3aB7AAAAD3RSTlMAMs3vmVREEIndIqt2\n",
       "u2aBbGR5AAAACXBIWXMAAA7EAAAOxAGVKw4bAAAA4UlEQVQY02NgwAIqbiqdkgCzGJUdUGR4Nj9g\n",
       "978CYfMHoEj5ZDAw8EGl8guQZRgdrgPJLRBOJ4Q6O3OmApDiLrgAJOsgYipgMuk4hMfLBbOaa8fB\n",
       "r2BaHSqwmrEBykpewPsdRDMtgApIsD2AMNjtGFgUwFIwZyxhOwBhsHxg4AQbIDwTCC6A7YIayHyB\n",
       "oT4BxKiF6eIFuxAI6g8wvAczOGFSbGB/sQGlAhg2sYJcwHMAHhrZQMIJqP0A6xQWsIgqPAwvebFH\n",
       "Av3Gvqdx9UGwSPU1WHhVXP7phRoXGTfBAQUDAJ+SNfXA0lXRAAAAAElFTkSuQmCC\n",
       "\" style=\"display:inline;vertical-align:middle;\" /></a>, <a class=\"ProveItLink\" href=\"../__pv_it/demonstrations/4a82d58b126555a18b104ddba47c5351567eeaea0/expr.ipynb\"><img src=\"data:image/png;base64,iVBORw0KGgoAAAANSUhEUgAAADEAAAAUCAMAAAATIyWrAAAAPFBMVEX///8AAAAAAAAAAAAAAAAA\n",
       "AAAAAAAAAAAAAAAAAAAAAAAAAAAAAAAAAAAAAAAAAAAAAAAAAAAAAAAAAAAo1xBWAAAAE3RSTlMA\n",
       "Ms3vmVREEIndIqt2u2bn9enzePXnUgAAAAlwSFlzAAAOxAAADsQBlSsOGwAAAOJJREFUKM+VkukS\n",
       "hSAIhQU3zOUuvv+7XrHphjk5Ez8qoePHUZRahfH3NUBt5mSWK6JkNpmodlJkEAtsdR+ExNWpA4hi\n",
       "UULnCCqFGSF7yF1uxb442XBxaLrXYe99i5RgtoES4Q9F4b10K+UTZ0KP15ufB2ertCtSU2uWGVwi\n",
       "TkV7mcqfga4uRl9+Vzhm6NwTbok4nNtm17NKlSpGg/v/fHc3//PK/SZKs+v7IUVUdtgUr/dZtDrs\n",
       "5sawwaihbzsPWeAp0Tw3PiaCLSZYItp/hlKEu0m2pB4G+oeC8hgRniIUrIo/FvAG9zLswUoAAAAA\n",
       "SUVORK5CYII=\n",
       "\" style=\"display:inline;vertical-align:middle;\" /></a>, <a class=\"ProveItLink\" href=\"../__pv_it/theorems/a259ec76dfb0a5be60b7c83d797520fa82c1dba60/expr.ipynb\"><img src=\"data:image/png;base64,iVBORw0KGgoAAAANSUhEUgAAADEAAAAQBAMAAABNQoq8AAAAMFBMVEX///8AAAAAAAAAAAAAAAAA\n",
       "AAAAAAAAAAAAAAAAAAAAAAAAAAAAAAAAAAAAAAAAAAAv3aB7AAAAD3RSTlMAELvv3c2ZVESJq3Yi\n",
       "MmZ3LnoBAAAACXBIWXMAAA7EAAAOxAGVKw4bAAAA2UlEQVQY02NgwASSKqF7bjIwMCo7oElwL37A\n",
       "mK8GZLAmoMlkdzIw8IFk+AtQJXgTFIHkMiDuF4AKbXJxCQBSXAIKQFIOiKdAJVo3QmgmHpjxUbuX\n",
       "gyieQCj/FO8ECIPxq4D8AZBDDkBlbnI8gDDYPzIwbwDJwFxwjGMDhMEWwMAP0n7ZBQgUwPZATWOZ\n",
       "wNAPcrcQTA8T2G0Q7+SD3M0Ck+EA+4cDKHOB0Q4cJhvgYdAFJFKBHnvABHF/ODzcVHMYS4BijCvz\n",
       "IAJSGrDAkFT+koMSYJ0q4NCBAQD6uylQEVfDpgAAAABJRU5ErkJggg==\n",
       "\" style=\"display:inline;vertical-align:middle;\" /></a> <a class=\"ProveItLink\" href=\"../__pv_it/demonstrations/4b4f867649c0b9ba6b8ae13aed3741a46aab2fd90/proof.ipynb\" style=\"text-decoration: none\">&nbsp;&#x22A2;&nbsp;&nbsp;</a><a class=\"ProveItLink\" href=\"../__pv_it/demonstrations/46ec961728e2d0904401e95a1f4739d80568d6ff0/expr.ipynb\"><img src=\"data:image/png;base64,iVBORw0KGgoAAAANSUhEUgAAAKgAAAAzBAMAAADxxF4HAAAAMFBMVEX///8AAAAAAAAAAAAAAAAA\n",
       "AAAAAAAAAAAAAAAAAAAAAAAAAAAAAAAAAAAAAAAAAAAv3aB7AAAAD3RSTlMAZkRUmRDNuyLviTJ2\n",
       "3asqG0tJAAAACXBIWXMAAA7EAAAOxAGVKw4bAAADzUlEQVRYw72XTWgTQRTHX5pdk3aTGqoVhKIR\n",
       "vAhCexKRCltQhEJrLlUUNA3oQRDZnOKh4N68aBvroRUR2rNaI4jooSQHtd9SaAtViATEFsTD0lIp\n",
       "RNCZTWY7n/k6OLCzm7ez/3k78/a9XwCgDaTtrQU1N5M3+E35wNaJ2kXv84ZLioHNGdFmg9zmy3HG\n",
       "JDr0yXlhfHbxB28KdUlET+JujbUF06i7ZmcF0aXYB950RlA0bpmhCDp/Zs0aXrpz8F4Yn4RDnEUf\n",
       "FP3c3wU30SkeY61R1I3uTXWMXDyF/vJVU6Q8f0QU7YzBQXTax97Kojn0XUgOlH93kxsOPCbxUd6G\n",
       "ZsmKvkRmpKCx8beEu3Fjq50XXfNZnOgpieiNkpehNGPdwN3xA/MRXvTNInCivbgbfvFgb5N/LmwD\n",
       "tBTQCu0woilu6m7RGyKawOs7Dve8TTlhB5CYD+2fUXQNfXncvsGd2kVX0HElAn1eNDwCDQn60asH\n",
       "t5gnVnEE/EXNKc30BM+EGjFp+fyXZ/l8wY0RgIsAX7Heb3zLgTAKSAMN01nROjzFomPl57EvzRbE\n",
       "UUA2YU+LjYqi19f/gM8h9ngOjuLby8jbXWZNN0sDWoqi6KsMKzqERLehdfA0Ee2CDb8NOPS43Z8r\n",
       "R4cjio5wnk65wmdNkisDOf+qVvrQfWn+O3MTkCWKznCi0+i4Pv/uF8mJ+q/nwwsAYbSuWoFNm1E3\n",
       "9X3K8aJXO25zouGMNPE+FL99N0uh1JfhEoq+bhS5hOKT14geMUsZaTf1Zfmhmmk4vO2uTDOIF+4I\n",
       "Z/zuRuCMUE2iIaHyXZaJBnB6XxdrFEp9QwOcOW4HPsZ4p3IS0VlZjfJP4NRXbOc9tbOvYw1XU1z3\n",
       "qdRHWlNP92TNJfo8/JfW1iiYaOpbFKGY9YFJUD0/RShWnWDSoRSlCMWqE0zCqvCgCcWqE0xCBdVq\n",
       "U4Ri1Qkm+o5C1CMULZUaSyUpMCGppQKYJBSiNKFYDJiQJFgBTC4oRGlCsRgwIaIVwGROIUoTisWA\n",
       "CRHtdVlkNicBk07F9tOEYknrasJjEQFMsvJawJRoUyq6UmKRZQmYjETloh6h7DWOVUY9FoH4IAsm\n",
       "8Wh1T+VYMeqxCIRNFkxGMo2KrngsIoBJ1pY/ukldtxRlokMeiwhgotp9OtSCjkx0ymMRAUwOK16S\n",
       "noytn0R02mMRAUz6VX/svA2kMIURrQAmiUpZym0UpjAJRQ0myixleLwmwZQqYOJT5VOXUMrxOCMf\n",
       "oQSTsF2tRskwpQqYqGuUnyyqBFMarqZe3ZdgSpW6r6p7/wCigUcKV9xn7QAAAABJRU5ErkJggg==\n",
       "\" style=\"display:inline;vertical-align:middle;\" /></a></span>"
      ],
      "text/plain": [
       "{a in Complex, d in Complex, d != 0, b in Complex} |- ((a / d) + (b / d) + (a * d)) =  \\\\ (((a + b) / d) + (a * d))"
      ]
     },
     "metadata": {},
     "output_type": "display_data"
    }
   ],
   "source": [
    "# But we can temporarily set Add.combine_like_denoms to True:\n",
    "with Add.temporary_simplification_directives() as tmp_directives:\n",
    "    tmp_directives.combine_like_denoms = True\n",
    "    example_sum_05.simplification(assumptions=assumptions)"
   ]
  },
  {
   "cell_type": "markdown",
   "metadata": {},
   "source": [
    "We shouldn't be able to combine a sum of terms like $(\\frac{d}{a_1}+\\frac{d}{a_2}+\\ldots+\\frac{d}{a_m})$, but the error(s) being raised indicate that there is some other problem occurring that needs addressed (in fact there are both ValueError and NotImplementedError being raised):"
   ]
  },
  {
   "cell_type": "code",
   "execution_count": 123,
   "metadata": {},
   "outputs": [
    {
     "data": {
      "text/html": [
       "<a class=\"ProveItLink\" href=\"../__pv_it/demonstrations/df29ec07ec6857bc0558e5dce176091f6e7eb34f0/expr.ipynb\"><img src=\"data:image/png;base64,iVBORw0KGgoAAAANSUhEUgAAALIAAAAuBAMAAAB+AF5jAAAAMFBMVEX///8AAAAAAAAAAAAAAAAA\n",
       "AAAAAAAAAAAAAAAAAAAAAAAAAAAAAAAAAAAAAAAAAAAv3aB7AAAAD3RSTlMAMs3vmVREEIndIqt2\n",
       "u2aBbGR5AAAACXBIWXMAAA7EAAAOxAGVKw4bAAAB9UlEQVRYw+1XP0gCURz+ytPLK7M/UyHk3BJR\n",
       "S0EhLdFSrkaD4B5CY5C1NTQEOXS0NARFBklTkIO19I+gppYgaZeuwFyCutT0Xr3f855URPRNJ9+f\n",
       "e7zz/e47oIC2fvBBEgKwnhwly8knMx5XnhCRhACMp2GZUJGEAIynPkCoSEIAiyex1BXkakhCAKvH\n",
       "NYjbKHfDKEK0yVbPTAYjXBVJCMB4JoBVrookBGA8Q1CfuCqSEMDqUZ/RbPBEJCEA41FzaPRP8lQU\n",
       "IUpmPDcIBbh/W5IQgPHMnnSmWngqkhCgFs8vxjR5ujKyxAdMUYQzLUv8J/988piu9+n62mdC0fWV\n",
       "AV1P2ifwUobBrtlbYWyu2eIom/78E4z5zWH5WLr40mT325CMv1/8it34von0j++Btn+WprrfjnRb\n",
       "tDoi65589e4n3xahDkNZhnrH7X5jUBcP7KcXHJUpaMA9D98p0f2Ut/vW1BbhuEQsDISI7ucNaw81\n",
       "tUVzrKRxD15ysfs1R+0nlxzjvvOmrFmTYkHsOdd5yaXuZ/8bqOiYi2QcySbzHeNJO+MKdzdK3a/D\n",
       "/hMsODaP4G1R5s0bpRYSh9zkYvfTrmXbYgrtcFc+nEKUegPbkselFxfYrauarF21jkqeacNcdVZ5\n",
       "/7nVs8TXOcrvdNsHMYluJI7xCqy2zYLtgVGcAAAAAElFTkSuQmCC\n",
       "\" style=\"display:inline;vertical-align:middle;\" /></a>"
      ],
      "text/plain": [
       "(d / a_{1}) +  (d / a_{2}) +  ... +  (d / a_{m})"
      ]
     },
     "metadata": {},
     "output_type": "display_data"
    }
   ],
   "source": [
    "example_sum_06"
   ]
  },
  {
   "cell_type": "code",
   "execution_count": 124,
   "metadata": {},
   "outputs": [
    {
     "name": "stdout",
     "output_type": "stream",
     "text": [
      "Exception: Not enough supplied operands for extracting init args of a <class 'proveit.numbers.division.divide.Div'>: needed 2 got 1\n"
     ]
    }
   ],
   "source": [
    "# should raise an error when blindly calling combining_terms()\n",
    "# when not all terms are like-terms:\n",
    "try:\n",
    "    example_sum_06.combining_terms(assumptions=assumptions)\n",
    "except Exception as the_exception:\n",
    "    print(\"Exception: {}\".format(the_exception))"
   ]
  },
  {
   "cell_type": "code",
   "execution_count": 125,
   "metadata": {},
   "outputs": [
    {
     "data": {
      "text/html": [
       "<span style=\"font-size:20px;\"> <a class=\"ProveItLink\" href=\"../__pv_it/demonstrations/1c09764e6286371f5dcea2ad19b433528f21912f0/proof.ipynb\" style=\"text-decoration: none\">&nbsp;&#x22A2;&nbsp;&nbsp;</a><a class=\"ProveItLink\" href=\"../__pv_it/demonstrations/cdb76a244c141eb00ecd4f5b2a8f28ed851058600/expr.ipynb\"><img src=\"data:image/png;base64,iVBORw0KGgoAAAANSUhEUgAAAb0AAAAyBAMAAAA6kRjOAAAAMFBMVEX///8AAAAAAAAAAAAAAAAA\n",
       "AAAAAAAAAAAAAAAAAAAAAAAAAAAAAAAAAAAAAAAAAAAv3aB7AAAAD3RSTlMAuzKrZonNIu/ddhCZ\n",
       "VERetuGgAAAACXBIWXMAAA7EAAAOxAGVKw4bAAAFP0lEQVRo3sWaT2hcRRzHf/snefvnbXbJyerB\n",
       "pQetRciCRko8NPVQBMUsiofmkgURBStuCaJYIautREGwUBVXU9i2/kE9ZMU/iJfsQcXiobnVeknA\n",
       "Ir1lCcFA20Tfzsx7+2bn93vzJnTHOSzJ/t7v+5nf7JuZ35vfA/BaogzDa9+0adu4He6DQ8RA8hPS\n",
       "lJq2wk1V/a+e7xAX3/Ouub4vdpW8ZFIrT/eIbr5YwD0amIqrlNOO+QD6YiMV4oJ0TS9P94huOzLX\n",
       "WQwsG9RcGbtpjgnE3icueLWul99oG3MDMcHNtgLTMcpn5Ix5fIHYH0QfP44hf8ycG4gJ7qN903HK\n",
       "Z9R8GvTFCOd0I4b8cXNuICb+eEv860xeIKbB/OyE6TQIi41to5dkqjp5ukd0C4lxbs6/Xa/XE/g0\n",
       "GFuEu02ngST2DHrJclsnT/YoYvKFxRg3K5aZ/Glwa6jPj9PwqyFGFltDu39WJ0/3iG6SGONOiOTF\n",
       "7UK2ivpcBvjAECOLrbSwrW1TJ0/3iG6SGOMe8qdDCVbWUZ83IL9riJHFEtjymGro5Oke0U0SY9xT\n",
       "/WBn8NvkBqS7hhhZLI0tMJmKTp7sUcS8kMR63OSWr7YKDxXqmM8OpGpXDOOTxPJbyCUT0zp5skcR\n",
       "8UliPW7OH9tEq7Dkok53wtWO4f43IHYKWz7rOnm6R3STxTxuwp8G+akn5y+gPt9+du+U4RPUgNg+\n",
       "5JI7tPJ0j+gmi+1jk3j4bQ5dCaxwVzoWODPqMpi/ZYc70cJN18gMgXoovUZzEEjyhqG8uYFx14jM\n",
       "8k/Kp0AMCO2B3iSFHUN5cwPjzpQtxFdUH3HTmxbi87jLdRvxqYtYbttGfCWYa1uIL8PT5EvNXuN5\n",
       "9chNC/F53Ms24suqCahrIz6Pe5j/9W/Qunyg3xYDLRvcZvOjd5pNdTqhHsLJ4zTU9LoLkfLFviWK\n",
       "i3twJ8Y9DDZ+PzK+If9+Dav3Z3j+2bo/5+r21hfplGvbzvqyvMf9L/+P/7FS08enTpzcXve/Hq4P\n",
       "18RX2fv+vuR/ZDv6/a9z+/Z3hgvgmv2vA2vrNvIz9RilsGsjP6sGj9HW8+stO/l10cbzEZbE37LD\n",
       "zdYscLAk90M73FTDAgdLIg7Z4abFPutMfoHPU9JANtUDO4uYaWvk52dfMwxH8fC4SfGcSZ71mxcB\n",
       "FA8He1YXZZDbWPVQPBiXn931zvrPQP6oek7CDN8/9XD8szPmIe119Pkuye1VEi5B/ukH4sfIPBTu\n",
       "bzwdZGf9B79UE3Rm6Ax4RjW1bJDCzufdRiSXVxLcwaGKakohg3E32AYvzvrVdwG4YRcWynExatmg\n",
       "iM2wsd1ILq8kFNedzdjxKYUMxuXplTjrVznc8JhBfNzj8Ue+qnw6Li0lA20pkssrCel2/PiEx88H\n",
       "L+aOlPtcvoCKs34kPlEEiF8IZx4nnzjtzeyL/Juz6HWMTnL9SkL8yj/3+O76dKaSq4S4rD4tzvpV\n",
       "jjBEvKWDejg/1WATfuF3YkR9muT6lYT74q8vzOPk51Asu9UQl42jOOtHxpEbTsTHcI9UK9mAczxg\n",
       "/AUYduOQXFFJcO6Kvz9wjyk4ANnVEHc0tNhR7xo5HcesUAWZcq7kdNk8oN5heVbPhdfhFcNN/k04\n",
       "DwvJEDe5qOec2H+/4RsGC94vmC6xtescccmBun5cx/f/bpg8db1f8Igb5p4PjC+/NIt7vScOpOK3\n",
       "v2C07kz1BoV8PytX0nIz/glc/CSmAs/B/Ndhbsq0iG/W/iYtk5a4Lw4Tk3yBNI2u2uEmykPk/PA/\n",
       "vd/Kuf8B26JQX2xR/kcAAAAASUVORK5CYII=\n",
       "\" style=\"display:inline;vertical-align:middle;\" /></a></span>"
      ],
      "text/plain": [
       "|- ((d / a_{1}) +  (d / a_{2}) +  ... +  (d / a_{m})) = ((d / a_{1}) +  (d / a_{2}) +  ... +  (d / a_{m}))"
      ]
     },
     "metadata": {},
     "output_type": "display_data"
    }
   ],
   "source": [
    "# simplification should do nothing here:\n",
    "example_sum_06.simplification(assumptions=assumptions)"
   ]
  },
  {
   "cell_type": "code",
   "execution_count": 126,
   "metadata": {},
   "outputs": [
    {
     "name": "stdout",
     "output_type": "stream",
     "text": [
      "Exception: Not enough supplied operands for extracting init args of a <class 'proveit.numbers.division.divide.Div'>: needed 2 got 1\n"
     ]
    }
   ],
   "source": [
    "# Now, combine Div terms where possible,\n",
    "# BUT the parameter-dependent fractions are a problem\n",
    "try:\n",
    "    with Add.temporary_simplification_directives() as tmp_directives:\n",
    "        tmp_directives.combine_like_denoms = True\n",
    "        example_sum_06.simplification(assumptions=assumptions)\n",
    "except Exception as the_exception:\n",
    "    print(\"Exception: {}\".format(the_exception))"
   ]
  },
  {
   "cell_type": "markdown",
   "metadata": {},
   "source": [
    "### Deducing Bounds\n",
    "\n",
    "Testing the `deduce_bound()` method."
   ]
  },
  {
   "cell_type": "code",
   "execution_count": 127,
   "metadata": {},
   "outputs": [
    {
     "data": {
      "text/html": [
       "<span style=\"font-size:20px;\"><a class=\"ProveItLink\" href=\"../../ordering/__pv_it/theorems/6e5cad5b2984ed0d75bd47bd0c542ec447a4f3570/expr.ipynb\"><img src=\"data:image/png;base64,iVBORw0KGgoAAAANSUhEUgAAADEAAAAQBAMAAABNQoq8AAAAMFBMVEX///8AAAAAAAAAAAAAAAAA\n",
       "AAAAAAAAAAAAAAAAAAAAAAAAAAAAAAAAAAAAAAAAAAAv3aB7AAAAD3RSTlMAELvv3c2ZVESJq3Yi\n",
       "MmZ3LnoBAAAACXBIWXMAAA7EAAAOxAGVKw4bAAAA1ElEQVQY02NgQAdPjfRDjB4AGYzKDmhSCqcY\n",
       "uh4JABmsCegyJxmYeBcAGfwFmDJsBwKAjH4BqMgmF5cAuIwCkDEFKtG6EaGHSxBkWtTu5SA+TyCS\n",
       "aZdKDwDd9lVA/gDIIQfgModDvoD0s39kYN4AkkFywTtREM0WwMA/AUhfdgECBYgMkxzIpywTGPpB\n",
       "7hZC0sOboAjxTj7I3SzI/sk9BJK5wGgH4nNvQJIR4gYax/WACRI84XCZYwx8DzSArl6ZBxGQ0hCA\n",
       "hbUOg1I8cph1qkBCBwoAxe43BugJR6MAAAAASUVORK5CYII=\n",
       "\" style=\"display:inline;vertical-align:middle;\" /></a>, <a class=\"ProveItLink\" href=\"../../ordering/__pv_it/theorems/4aa8d696b1f407d6126de9f51a052e8d90e0848c0/expr.ipynb\"><img src=\"data:image/png;base64,iVBORw0KGgoAAAANSUhEUgAAADMAAAAQBAMAAABJt1qBAAAAMFBMVEX///8AAAAAAAAAAAAAAAAA\n",
       "AAAAAAAAAAAAAAAAAAAAAAAAAAAAAAAAAAAAAAAAAAAv3aB7AAAAD3RSTlMAIquJdkTvuxBmmd1U\n",
       "zTKBpmoTAAAACXBIWXMAAA7EAAAOxAGVKw4bAAAAzElEQVQY02NgwABz0+tvp09gwAoKhBiCpjdg\n",
       "lxJmYOdTwCXFJXABRch99+4LcKkCZJlYD4Qupg6QgYzKjg4gAcYbSAY+PysAZIQJsP8ACfAKwKXE\n",
       "bv8GmcCRycC1ASyF5IyZvSCa6wMDtwGI8Ww3EBRApNg7QV5mK2DoDwAJtCPp4ltQAaT7HRjmgwW4\n",
       "kf21ThwkdYBBlwfkAhYHJKl2FqCJ7A48u7jAInfgUlIMnBNKgS5UsRPyA4s0lTbAQr6Qofz+AeTg\n",
       "CK7ejRxyAISENKeL/c93AAAAAElFTkSuQmCC\n",
       "\" style=\"display:inline;vertical-align:middle;\" /></a>, <a class=\"ProveItLink\" href=\"../__pv_it/demonstrations/d550e8309ef79ca46e4c9fb5617a392ea678789b0/expr.ipynb\"><img src=\"data:image/png;base64,iVBORw0KGgoAAAANSUhEUgAAADEAAAAQBAMAAABNQoq8AAAAMFBMVEX///8AAAAAAAAAAAAAAAAA\n",
       "AAAAAAAAAAAAAAAAAAAAAAAAAAAAAAAAAAAAAAAAAAAv3aB7AAAAD3RSTlMAiXZmMiLdVJm77xBE\n",
       "zatgdeJyAAAACXBIWXMAAA7EAAAOxAGVKw4bAAAAvUlEQVQY02NgQAe2K+dfW2nAgA1MiGM4Z7kB\n",
       "q0wgAyfLAxwyHAEXkEU009IuwGUmIEmc1Ubo4dsNNk1I2QFIst5GMs2zNgDICCvgAGnlDYDLRF37\n",
       "BtafyMClAJJBcoHxXhDN8RvC90oDggkQGc7NIJ9yQV2xE0kPS8NsIL1fAcJnQ/ZPSySQ5gdqPACk\n",
       "mRSQZHYyAUWBDmMEuZrhOlwmgoHZYA6QIWgM8eK+ORtgYT2VYeb9AqRAODgtDTm0ALktNaaWdOV1\n",
       "AAAAAElFTkSuQmCC\n",
       "\" style=\"display:inline;vertical-align:middle;\" /></a>, <a class=\"ProveItLink\" href=\"../__pv_it/demonstrations/dd86d1372efbf67698edf88c9b06d2401dec63b90/expr.ipynb\"><img src=\"data:image/png;base64,iVBORw0KGgoAAAANSUhEUgAAADAAAAAOBAMAAACbXIJpAAAAMFBMVEX///8AAAAAAAAAAAAAAAAA\n",
       "AAAAAAAAAAAAAAAAAAAAAAAAAAAAAAAAAAAAAAAAAAAv3aB7AAAAD3RSTlMAIquJdkTvuxBmmd1U\n",
       "zTKBpmoTAAAACXBIWXMAAA7EAAAOxAGVKw4bAAAAlElEQVQY02NgIA7wXMQuzrmrAcFhVHZ0gDJZ\n",
       "NkPFmV3mMTCECbD/gHCbt8DU7mFYzsCRycC1AcyV2gkzhNuAIYWB6wOIBgKmO3DT14NMZCtg6A9A\n",
       "k0gHEf0ODPMZUI3i+AKWOMCgyyOAavlPBgZWBnYHnl1cUIGWLRDnLmdgsGPgULET8oN7EOIRZssp\n",
       "Dehev0gw1ADWRSBJPEIZ2AAAAABJRU5ErkJggg==\n",
       "\" style=\"display:inline;vertical-align:middle;\" /></a> <a class=\"ProveItLink\" href=\"../__pv_it/demonstrations/058307db3e475350ee4d741b6ebf0eff21df36200/proof.ipynb\" style=\"text-decoration: none\">&nbsp;&#x22A2;&nbsp;&nbsp;</a><a class=\"ProveItLink\" href=\"../__pv_it/demonstrations/0f950c51e0bcbca09609d25357fbcca8d44455310/expr.ipynb\"><img src=\"data:image/png;base64,iVBORw0KGgoAAAANSUhEUgAAAJEAAAAVBAMAAAC01xHeAAAAMFBMVEX///8AAAAAAAAAAAAAAAAA\n",
       "AAAAAAAAAAAAAAAAAAAAAAAAAAAAAAAAAAAAAAAAAAAv3aB7AAAAD3RSTlMAInZUiRDNmWbv3US7\n",
       "qzJazP2FAAAACXBIWXMAAA7EAAAOxAGVKw4bAAACIElEQVQ4y3VUPUhbURT+Ynz58amRjqIQpYII\n",
       "QhQRdGmQSkEQ3lpQkkXsImSoIll8k4o4qCC0tkOgLn1FECc7mbqUToqKdEzXLv6kuhRKz7kvMTkv\n",
       "91549+fc73z3nHO/+wB0QN9COqMBrMxNKQOTnWy0mcBH3I3odmb2qOtvtGvA1o8CneDSJKs9ZJ6+\n",
       "iNPgpQNHctTNAVFXZFRdlemL5YJOAnxcGROc8RoQF9BwpTb2A/e7tY1RVVMBHq6MJxx63MGolqm5\n",
       "wP2bJ/vGos+nY5pSKbp4y2P3xDPJFLkYpJinq04Dk/6owBP9JcG00HtJR5+rc+1tnDmCKTNn3QGr\n",
       "lTpPVfXA4M5UtFjPZD06mQ7EsvhEi9cu8jKmFw52gDFfofmnOjN4H/FkPVP4gQ3hLXygxQrv0814\n",
       "3uc9zzun6RLwB7hR0OuaGgkcVXeBvOe997wD9soikUb7rWL6COuvjGkfNungq4YpXgxUvCWNkxTs\n",
       "LQ7YukfsVjKV1dnjmuwyyQATyWnFQbiAU2Iqoy07JJj+ce2wGaw4gRNkPxRMJesdqbiobvoU47mc\n",
       "YPqJ79VLZ6qBPn9CYLq4ZqGCNreVfKNp/KbF7PNfFyXBNPuKM/pSU6YvKAa/XO8T2VlXy1ytQ7SU\n",
       "dBr3C1SozVfVaxHg4XrHzuAztV3Te1VNgI/rdziubzC1rkaTCRxibcwYmTRuJnArJx9KGnabNP9s\n",
       "E7gH+A+I/3Y6N/pnlQAAAABJRU5ErkJggg==\n",
       "\" style=\"display:inline;vertical-align:middle;\" /></a></span>"
      ],
      "text/plain": [
       "{b in Real, a in Real, c in Real, a < c} |- (a + b) < (c + b)"
      ]
     },
     "metadata": {},
     "output_type": "display_data"
    }
   ],
   "source": [
    "term_relations = [Less(a, c), Less(b, d)]\n",
    "assumptions = term_relations + [InSet(a, Real), InSet(b, Real), InSet(c, Real), InSet(d, Real)]\n",
    "Add(a, b).deduce_bound(term_relations[0], assumptions=assumptions)"
   ]
  },
  {
   "cell_type": "code",
   "execution_count": 128,
   "metadata": {},
   "outputs": [
    {
     "data": {
      "text/html": [
       "<span style=\"font-size:20px;\"><a class=\"ProveItLink\" href=\"../../ordering/__pv_it/theorems/4aa8d696b1f407d6126de9f51a052e8d90e0848c0/expr.ipynb\"><img src=\"data:image/png;base64,iVBORw0KGgoAAAANSUhEUgAAADMAAAAQBAMAAABJt1qBAAAAMFBMVEX///8AAAAAAAAAAAAAAAAA\n",
       "AAAAAAAAAAAAAAAAAAAAAAAAAAAAAAAAAAAAAAAAAAAv3aB7AAAAD3RSTlMAIquJdkTvuxBmmd1U\n",
       "zTKBpmoTAAAACXBIWXMAAA7EAAAOxAGVKw4bAAAAzElEQVQY02NgwABz0+tvp09gwAoKhBiCpjdg\n",
       "lxJmYOdTwCXFJXABRch99+4LcKkCZJlYD4Qupg6QgYzKjg4gAcYbSAY+PysAZIQJsP8ACfAKwKXE\n",
       "bv8GmcCRycC1ASyF5IyZvSCa6wMDtwGI8Ww3EBRApNg7QV5mK2DoDwAJtCPp4ltQAaT7HRjmgwW4\n",
       "kf21ThwkdYBBlwfkAhYHJKl2FqCJ7A48u7jAInfgUlIMnBNKgS5UsRPyA4s0lTbAQr6Qofz+AeTg\n",
       "CK7ejRxyAISENKeL/c93AAAAAElFTkSuQmCC\n",
       "\" style=\"display:inline;vertical-align:middle;\" /></a>, <a class=\"ProveItLink\" href=\"../../ordering/__pv_it/theorems/6e5cad5b2984ed0d75bd47bd0c542ec447a4f3570/expr.ipynb\"><img src=\"data:image/png;base64,iVBORw0KGgoAAAANSUhEUgAAADEAAAAQBAMAAABNQoq8AAAAMFBMVEX///8AAAAAAAAAAAAAAAAA\n",
       "AAAAAAAAAAAAAAAAAAAAAAAAAAAAAAAAAAAAAAAAAAAv3aB7AAAAD3RSTlMAELvv3c2ZVESJq3Yi\n",
       "MmZ3LnoBAAAACXBIWXMAAA7EAAAOxAGVKw4bAAAA1ElEQVQY02NgQAdPjfRDjB4AGYzKDmhSCqcY\n",
       "uh4JABmsCegyJxmYeBcAGfwFmDJsBwKAjH4BqMgmF5cAuIwCkDEFKtG6EaGHSxBkWtTu5SA+TyCS\n",
       "aZdKDwDd9lVA/gDIIQfgModDvoD0s39kYN4AkkFywTtREM0WwMA/AUhfdgECBYgMkxzIpywTGPpB\n",
       "7hZC0sOboAjxTj7I3SzI/sk9BJK5wGgH4nNvQJIR4gYax/WACRI84XCZYwx8DzSArl6ZBxGQ0hCA\n",
       "hbUOg1I8cph1qkBCBwoAxe43BugJR6MAAAAASUVORK5CYII=\n",
       "\" style=\"display:inline;vertical-align:middle;\" /></a>, <a class=\"ProveItLink\" href=\"../__pv_it/demonstrations/41c3ad9f29c40b69fd61c49f41684c1b813e9e850/expr.ipynb\"><img src=\"data:image/png;base64,iVBORw0KGgoAAAANSUhEUgAAADMAAAAQBAMAAABJt1qBAAAAMFBMVEX///8AAAAAAAAAAAAAAAAA\n",
       "AAAAAAAAAAAAAAAAAAAAAAAAAAAAAAAAAAAAAAAAAAAv3aB7AAAAD3RSTlMAMs3vmVREEIndIqt2\n",
       "u2aBbGR5AAAACXBIWXMAAA7EAAAOxAGVKw4bAAAA3klEQVQY02NgwACPbO9r2j6AsBmVHVDkLqxm\n",
       "yH5bAGHzB6BKrWDgZdwAYecXoEuxLFCAsDsh1NmZMxXgUhcgYipgMuk4Qhd3OchArh0Hv4IEuNSR\n",
       "DJQNWgBkJC/g/Q4SYFoAl1qs+RNkArsdAwvYBiYkZ7wrAtEsHxg4G0AM4ZlAcAEixVsH8jLzBYb6\n",
       "BJBALZIuRofrQLr+AMN7sAAnsr8c14KkAhg2sYJcwHMASaqWB2gi7wHWKSxgEVW41BIGvgfXgC7c\n",
       "07j6IFik+loBLORvMdzVRwnXjJszFZC4AHM6StvnxMwUAAAAAElFTkSuQmCC\n",
       "\" style=\"display:inline;vertical-align:middle;\" /></a>, <a class=\"ProveItLink\" href=\"../__pv_it/demonstrations/23fd8ccee81d3b6ba487f212961ed277aff750ff0/expr.ipynb\"><img src=\"data:image/png;base64,iVBORw0KGgoAAAANSUhEUgAAADAAAAAQBAMAAACigOGCAAAAMFBMVEX///8AAAAAAAAAAAAAAAAA\n",
       "AAAAAAAAAAAAAAAAAAAAAAAAAAAAAAAAAAAAAAAAAAAv3aB7AAAAD3RSTlMAELvv3c2ZVESJq3Yi\n",
       "MmZ3LnoBAAAACXBIWXMAAA7EAAAOxAGVKw4bAAAAwklEQVQY02NgVHZgwARXzRgYWBOwSDB8Z2Dg\n",
       "L8AizvGRgaFfAMFnj4EyOIHmT0GI87nBFIHMj9q9HMrj9oSKn5p9v4CB8auA/AEwV9IbZoENg74A\n",
       "A/tHBuYNIO4xP5iJwg8YUhkY2AIY+CcAeVzhcKvyGRg8GRhYJjD0F6BKGDEw/gB7I18AxSjG3wx8\n",
       "H4ASFxjtGFAsZ/zOwBVQw8D1gAkWJtLeEOdqM5QkJDAwrsxDeBDiEamdd1ZfQA0ivhgGggAAVKYn\n",
       "YGY5ThMAAAAASUVORK5CYII=\n",
       "\" style=\"display:inline;vertical-align:middle;\" /></a> <a class=\"ProveItLink\" href=\"../__pv_it/demonstrations/246398646bcea9eb9d0b55b409cfeaed5dc4f27d0/proof.ipynb\" style=\"text-decoration: none\">&nbsp;&#x22A2;&nbsp;&nbsp;</a><a class=\"ProveItLink\" href=\"../__pv_it/demonstrations/e95b6b6bd98a6b68ddad009322321b6ff6b413ff0/expr.ipynb\"><img src=\"data:image/png;base64,iVBORw0KGgoAAAANSUhEUgAAAJQAAAAVBAMAAABS/tqaAAAAMFBMVEX///8AAAAAAAAAAAAAAAAA\n",
       "AAAAAAAAAAAAAAAAAAAAAAAAAAAAAAAAAAAAAAAAAAAv3aB7AAAAD3RSTlMAInZUiRDNmWbv3US7\n",
       "qzJazP2FAAAACXBIWXMAAA7EAAAOxAGVKw4bAAACJ0lEQVQ4y3VUPWgUQRT+cuvmdu8nWdII4sFG\n",
       "U1jJKUFIqpBSiCxBBEG5ExFsAlsEkTS5yjRCkiKYv+KIgZgVw2FlqpzprJQYrM/GwiaH4WxsfG93\n",
       "7o6XnRnYmd3vzXzvfW/eWwAe9EOHDxj2JoZM2WD9qMGum6jyPk3jGoP9pU4+aincmtIT/XqDG3Sq\n",
       "qrMNhjQ9S8EPTEGdYzBAVvj+pNZhVr2UOvFSaOqfzHfghHDF3ttqPQpocoO+sifxsiLU+r3XS5SP\n",
       "NdzRUt2NVfbcOnsxq1U1UHE+nmOeb/J01JdUc9e+k69v6iuzm8SX5ayXpkcuUJWmzygfM0QGHHqF\n",
       "jqCy/wYVD44K4v5O1zmFmV/F10BQKeQV3tLBdWTrgsrqwPVhJam5/K6rI0fOH9awIKMi5AUtE9ii\n",
       "uNvIcegLUbQRRR9YSRXDUxhq887i015K3AawCOzyjija34wiToFCzpjKbaLSEFER81EZ+RUN1Tbs\n",
       "fzIqhRyywIqPZXmDVFaLAax6WqD9B05bUHWRSRwTVRk/LE9QtSh/cJoX0l7wYZ+jWL0lqBTymu6Q\n",
       "dlh7WRFVsVYI1d3zmN1J7oyr4xiTYSgEKmQev4n35F7ppiyGU26RXKNXoklhDZHix2M/T1qCSiHv\n",
       "kWvpqj0eV/qvTtI4B4Zq5zKvcxtq2jndvPFYMrQzVwd9fTb+GJspqGD64wJX6XlkMmrO2U0jFUc0\n",
       "4BuMoxpsxMSU8fAfu717zg4f7kMAAAAASUVORK5CYII=\n",
       "\" style=\"display:inline;vertical-align:middle;\" /></a></span>"
      ],
      "text/plain": [
       "{a in Real, b in Real, d in Real, b < d} |- (a + b) < (a + d)"
      ]
     },
     "metadata": {},
     "output_type": "display_data"
    }
   ],
   "source": [
    "Add(a, b).deduce_bound(term_relations[1], assumptions=assumptions)"
   ]
  },
  {
   "cell_type": "code",
   "execution_count": 129,
   "metadata": {},
   "outputs": [
    {
     "data": {
      "text/html": [
       "<span style=\"font-size:20px;\"><a class=\"ProveItLink\" href=\"../../ordering/__pv_it/theorems/6e5cad5b2984ed0d75bd47bd0c542ec447a4f3570/expr.ipynb\"><img src=\"data:image/png;base64,iVBORw0KGgoAAAANSUhEUgAAADEAAAAQBAMAAABNQoq8AAAAMFBMVEX///8AAAAAAAAAAAAAAAAA\n",
       "AAAAAAAAAAAAAAAAAAAAAAAAAAAAAAAAAAAAAAAAAAAv3aB7AAAAD3RSTlMAELvv3c2ZVESJq3Yi\n",
       "MmZ3LnoBAAAACXBIWXMAAA7EAAAOxAGVKw4bAAAA1ElEQVQY02NgQAdPjfRDjB4AGYzKDmhSCqcY\n",
       "uh4JABmsCegyJxmYeBcAGfwFmDJsBwKAjH4BqMgmF5cAuIwCkDEFKtG6EaGHSxBkWtTu5SA+TyCS\n",
       "aZdKDwDd9lVA/gDIIQfgModDvoD0s39kYN4AkkFywTtREM0WwMA/AUhfdgECBYgMkxzIpywTGPpB\n",
       "7hZC0sOboAjxTj7I3SzI/sk9BJK5wGgH4nNvQJIR4gYax/WACRI84XCZYwx8DzSArl6ZBxGQ0hCA\n",
       "hbUOg1I8cph1qkBCBwoAxe43BugJR6MAAAAASUVORK5CYII=\n",
       "\" style=\"display:inline;vertical-align:middle;\" /></a>, <a class=\"ProveItLink\" href=\"../../ordering/__pv_it/theorems/4aa8d696b1f407d6126de9f51a052e8d90e0848c0/expr.ipynb\"><img src=\"data:image/png;base64,iVBORw0KGgoAAAANSUhEUgAAADMAAAAQBAMAAABJt1qBAAAAMFBMVEX///8AAAAAAAAAAAAAAAAA\n",
       "AAAAAAAAAAAAAAAAAAAAAAAAAAAAAAAAAAAAAAAAAAAv3aB7AAAAD3RSTlMAIquJdkTvuxBmmd1U\n",
       "zTKBpmoTAAAACXBIWXMAAA7EAAAOxAGVKw4bAAAAzElEQVQY02NgwABz0+tvp09gwAoKhBiCpjdg\n",
       "lxJmYOdTwCXFJXABRch99+4LcKkCZJlYD4Qupg6QgYzKjg4gAcYbSAY+PysAZIQJsP8ACfAKwKXE\n",
       "bv8GmcCRycC1ASyF5IyZvSCa6wMDtwGI8Ww3EBRApNg7QV5mK2DoDwAJtCPp4ltQAaT7HRjmgwW4\n",
       "kf21ThwkdYBBlwfkAhYHJKl2FqCJ7A48u7jAInfgUlIMnBNKgS5UsRPyA4s0lTbAQr6Qofz+AeTg\n",
       "CK7ejRxyAISENKeL/c93AAAAAElFTkSuQmCC\n",
       "\" style=\"display:inline;vertical-align:middle;\" /></a>, <a class=\"ProveItLink\" href=\"../__pv_it/demonstrations/d550e8309ef79ca46e4c9fb5617a392ea678789b0/expr.ipynb\"><img src=\"data:image/png;base64,iVBORw0KGgoAAAANSUhEUgAAADEAAAAQBAMAAABNQoq8AAAAMFBMVEX///8AAAAAAAAAAAAAAAAA\n",
       "AAAAAAAAAAAAAAAAAAAAAAAAAAAAAAAAAAAAAAAAAAAv3aB7AAAAD3RSTlMAiXZmMiLdVJm77xBE\n",
       "zatgdeJyAAAACXBIWXMAAA7EAAAOxAGVKw4bAAAAvUlEQVQY02NgQAe2K+dfW2nAgA1MiGM4Z7kB\n",
       "q0wgAyfLAxwyHAEXkEU009IuwGUmIEmc1Ubo4dsNNk1I2QFIst5GMs2zNgDICCvgAGnlDYDLRF37\n",
       "BtafyMClAJJBcoHxXhDN8RvC90oDggkQGc7NIJ9yQV2xE0kPS8NsIL1fAcJnQ/ZPSySQ5gdqPACk\n",
       "mRSQZHYyAUWBDmMEuZrhOlwmgoHZYA6QIWgM8eK+ORtgYT2VYeb9AqRAODgtDTm0ALktNaaWdOV1\n",
       "AAAAAElFTkSuQmCC\n",
       "\" style=\"display:inline;vertical-align:middle;\" /></a>, <a class=\"ProveItLink\" href=\"../__pv_it/demonstrations/dd86d1372efbf67698edf88c9b06d2401dec63b90/expr.ipynb\"><img src=\"data:image/png;base64,iVBORw0KGgoAAAANSUhEUgAAADAAAAAOBAMAAACbXIJpAAAAMFBMVEX///8AAAAAAAAAAAAAAAAA\n",
       "AAAAAAAAAAAAAAAAAAAAAAAAAAAAAAAAAAAAAAAAAAAv3aB7AAAAD3RSTlMAIquJdkTvuxBmmd1U\n",
       "zTKBpmoTAAAACXBIWXMAAA7EAAAOxAGVKw4bAAAAlElEQVQY02NgIA7wXMQuzrmrAcFhVHZ0gDJZ\n",
       "NkPFmV3mMTCECbD/gHCbt8DU7mFYzsCRycC1AcyV2gkzhNuAIYWB6wOIBgKmO3DT14NMZCtg6A9A\n",
       "k0gHEf0ODPMZUI3i+AKWOMCgyyOAavlPBgZWBnYHnl1cUIGWLRDnLmdgsGPgULET8oN7EOIRZssp\n",
       "Dehev0gw1ADWRSBJPEIZ2AAAAABJRU5ErkJggg==\n",
       "\" style=\"display:inline;vertical-align:middle;\" /></a>, <a class=\"ProveItLink\" href=\"../__pv_it/demonstrations/41c3ad9f29c40b69fd61c49f41684c1b813e9e850/expr.ipynb\"><img src=\"data:image/png;base64,iVBORw0KGgoAAAANSUhEUgAAADMAAAAQBAMAAABJt1qBAAAAMFBMVEX///8AAAAAAAAAAAAAAAAA\n",
       "AAAAAAAAAAAAAAAAAAAAAAAAAAAAAAAAAAAAAAAAAAAv3aB7AAAAD3RSTlMAMs3vmVREEIndIqt2\n",
       "u2aBbGR5AAAACXBIWXMAAA7EAAAOxAGVKw4bAAAA3klEQVQY02NgwACPbO9r2j6AsBmVHVDkLqxm\n",
       "yH5bAGHzB6BKrWDgZdwAYecXoEuxLFCAsDsh1NmZMxXgUhcgYipgMuk4Qhd3OchArh0Hv4IEuNSR\n",
       "DJQNWgBkJC/g/Q4SYFoAl1qs+RNkArsdAwvYBiYkZ7wrAtEsHxg4G0AM4ZlAcAEixVsH8jLzBYb6\n",
       "BJBALZIuRofrQLr+AMN7sAAnsr8c14KkAhg2sYJcwHMASaqWB2gi7wHWKSxgEVW41BIGvgfXgC7c\n",
       "07j6IFik+loBLORvMdzVRwnXjJszFZC4AHM6StvnxMwUAAAAAElFTkSuQmCC\n",
       "\" style=\"display:inline;vertical-align:middle;\" /></a>, <a class=\"ProveItLink\" href=\"../__pv_it/demonstrations/23fd8ccee81d3b6ba487f212961ed277aff750ff0/expr.ipynb\"><img src=\"data:image/png;base64,iVBORw0KGgoAAAANSUhEUgAAADAAAAAQBAMAAACigOGCAAAAMFBMVEX///8AAAAAAAAAAAAAAAAA\n",
       "AAAAAAAAAAAAAAAAAAAAAAAAAAAAAAAAAAAAAAAAAAAv3aB7AAAAD3RSTlMAELvv3c2ZVESJq3Yi\n",
       "MmZ3LnoBAAAACXBIWXMAAA7EAAAOxAGVKw4bAAAAwklEQVQY02NgVHZgwARXzRgYWBOwSDB8Z2Dg\n",
       "L8AizvGRgaFfAMFnj4EyOIHmT0GI87nBFIHMj9q9HMrj9oSKn5p9v4CB8auA/AEwV9IbZoENg74A\n",
       "A/tHBuYNIO4xP5iJwg8YUhkY2AIY+CcAeVzhcKvyGRg8GRhYJjD0F6BKGDEw/gB7I18AxSjG3wx8\n",
       "H4ASFxjtGFAsZ/zOwBVQw8D1gAkWJtLeEOdqM5QkJDAwrsxDeBDiEamdd1ZfQA0ivhgGggAAVKYn\n",
       "YGY5ThMAAAAASUVORK5CYII=\n",
       "\" style=\"display:inline;vertical-align:middle;\" /></a> <a class=\"ProveItLink\" href=\"../__pv_it/demonstrations/7152561fd8b388d8c36b830fd5bdf4cd70348e910/proof.ipynb\" style=\"text-decoration: none\">&nbsp;&#x22A2;&nbsp;&nbsp;</a><a class=\"ProveItLink\" href=\"../__pv_it/demonstrations/6b9ea4073a71fb23621995b95d3513ab2ec47c040/expr.ipynb\"><img src=\"data:image/png;base64,iVBORw0KGgoAAAANSUhEUgAAAJIAAAAVBAMAAABf4KrdAAAAMFBMVEX///8AAAAAAAAAAAAAAAAA\n",
       "AAAAAAAAAAAAAAAAAAAAAAAAAAAAAAAAAAAAAAAAAAAv3aB7AAAAD3RSTlMAInZUiRDNmWbv3US7\n",
       "qzJazP2FAAAACXBIWXMAAA7EAAAOxAGVKw4bAAACNklEQVQ4y3VUPUgcURD+7vbW3b0fXdIEQoTV\n",
       "pEglFwmCVkeqEIgsQQJCwp0EIU3gChGRgIeFNsE/CPmzOFQw2aAcVrHyYpdKUUl9aSzSKJELARtn\n",
       "dte7e7fvPdj3dufnm/nmzSwAG/Ilk8cUtr48nlVodySyOwrblEPbA4lC/1mmEKWIXMtJcU7f4x45\n",
       "FWS6jiJt4xHxM0VKF+hwYQiRv4dnF1Oej3hMtRJqOqbqMIuwBNP+8NxzabPcJq0x/1hqZeo0XhNU\n",
       "i3cYkCI99ik2opqbPqhWkCNxLV5hgu/wpMcRkV73HlOow/ArvhFkZ3DBE70LIlL3wzOqxRPCAnbt\n",
       "dF1A0v+5eRtmmMLI2nVsSjK2jjcCUmoZBxRoDuvk9wFGWUDS6rAcaEFZbn65ZpGk2MkcVgSk0RIm\n",
       "6RjEZ0r6nPXAtOd99LwtplFAVw6d52yZedmoh1UBZnyihud9/eR5TH8G2KDjjJGsKvIVIScC3ssi\n",
       "tSRBWm2v+Cr0S64Qs8s7WBTvjtqJYmvlKDv9bxsSCUzOfQj7hJTFL80WkGpUO5jVtoqnyfk/1VhA\n",
       "ukCmcB94S7dHBtqmIeSUKaWL4aXzeroWdAG3BV3csMBuH0NFMp7AH4I9Gu7uE7vghOciWWl0ZtBQ\n",
       "nUQ38WjWFZBe3P19VAO+IVmT9bi/bjVfzWBatuU9zs1d5tGTTHBkXoM1L59gbgv6+gHVf7AaEaVV\n",
       "/1fcpue5Silx06sqY84n5iiUPRLZDYVt3MYV9nF1GIr+BgQAAAAASUVORK5CYII=\n",
       "\" style=\"display:inline;vertical-align:middle;\" /></a></span>"
      ],
      "text/plain": [
       "{b in Real, a in Real, c in Real, a < c, d in Real, b < d} |- (a + b) < (c + d)"
      ]
     },
     "metadata": {},
     "output_type": "display_data"
    }
   ],
   "source": [
    "Add(a, b).deduce_bound(term_relations, assumptions=assumptions)"
   ]
  },
  {
   "cell_type": "code",
   "execution_count": 130,
   "metadata": {},
   "outputs": [
    {
     "data": {
      "text/html": [
       "<strong id=\"assumptions\">assumptions:</strong> <a class=\"ProveItLink\" href=\"../__pv_it/demonstrations/5eb4d267226e3aef7f4ef8af30d4753f95b33c9d0/expr.ipynb\"><img src=\"data:image/png;base64,iVBORw0KGgoAAAANSUhEUgAAAWIAAAAVBAMAAACOIvmEAAAAMFBMVEX///8AAAAAAAAAAAAAAAAA\n",
       "AAAAAAAAAAAAAAAAAAAAAAAAAAAAAAAAAAAAAAAAAAAv3aB7AAAAD3RSTlMAInZUiRDNmWbv3US7\n",
       "qzJazP2FAAAACXBIWXMAAA7EAAAOxAGVKw4bAAADwklEQVRIx9WXT0gUURzHf7vr7OyfcR0iikJh\n",
       "kwSRiA1qIU+LFIRUDFJSoeyYRCZJK1REh9xLsoQQHfpDeVjMsqYgDyV4CEfDKBU00+jQYb0URaG0\n",
       "6KE69N7Me2/+7MwcpEvvsPOb+czv+/u9N7/3ZwFAhP+n+fCPP/HvBENnZtYev3Gjvf2znf3Z9UAm\n",
       "HI2jm92eOXBv8w5PP992eV3wzUU/Trq5qlXwsk9ycbVBWwgqXIt0Ze9hC2acnhZdM06B+sPNVd0I\n",
       "QmzOLWMbLDoKByXgs94ZVzgVTXTVI+PuoJsrSooXZfeMzdAWggqHMhA2VUCHg9CY/qGaLR0rs39v\n",
       "/5TykAkLVlcG9aRUm+sORZEdIAlBKRO+CUmT85GB0owbSW8a4x6lEj0pGUOx2Gp1ZRAnVX7UVhUj\n",
       "Nc5QD8EoE+6A83jNWNim5+MfZKXfUFvQrl3V7/UHdfspqmpYTlBrg3bdJBnCsVdt5Ia4MoiT+p4U\n",
       "LQF8pxwhCWFQJnwIcCWMigKpmtAQkd+a4LUvxK1JaSJz7QIZsxswK1mtNkP41rMBIkFd24xS3dL5\n",
       "iw4aCRAUnSAVNigT7oX7SPoO8LQwA6f1lwYhrA17YJUYqCW7tcvxLFwEal3WDNkQPnCV3lBX2TS5\n",
       "cs3UJgGCjpCGCEKJ8F64B8CvQCTFSrIL94SnM5WXoYKxkUX824PDgdmK3VUU5Sn5eJM5q6sBUVLC\n",
       "MTKDaYCvCCqqDTJhgzLhZZxxWIX0MMv4LM44TCct6soYW6RGtL2hH7jf+j21ONVUbl8EyeJqQJRU\n",
       "LEO2FxqgxQky4RYoER7FVZGOw3VKAl1aVaTjxpraQ2dO8p2W3k8IrYDVypuE+SXV6po3L7lXKnWT\n",
       "Bog4QSYcgRLhephA3gn4EBDJzNOvFej7DHPYKKAqJzNPL2OuCOXyLpCYhVq1SZhT0U4qmVyrzUm1\n",
       "+LPA0QB4dYo7QCZsUCoMfWi1ACEeGOKtqxuax2WFNCr18qyQsa1uE1CfyXBr1NJmSIIJZyAnDGuU\n",
       "ujII6mYIZacB62oB8LN2B2gIt4NVGNBq/A11af5w1U78uMnYQfblaiDyALGFS/rI1rHutm5fmi+A\n",
       "IlEL008v6BHrjyi8LmqUuRKIj2fjMHMugXW1AJratFQKmTClTBieQKRg7NKPbPvdHsM8YT9+BCxn\n",
       "sOhBshE7UTs06wI8n1JkV1hCfXl8tHBtKY8TUpnn+cmbptYNtYPbuPvZOO7h2uQp7Ek9dT0hQKVl\n",
       "zbM3v5ert7An9a8b6uPri/9H//P8IvwF5xZPInD5kFgAAAAASUVORK5CYII=\n",
       "\" style=\"display:inline;vertical-align:middle;\" /></a><br>"
      ],
      "text/plain": [
       "<IPython.core.display.HTML object>"
      ]
     },
     "metadata": {},
     "output_type": "display_data"
    }
   ],
   "source": [
    "term_relations = [greater(a, c), greater(b, d)]\n",
    "assumptions = term_relations + [InSet(a, Real), InSet(b, Real), InSet(c, Real), InSet(d, Real)]"
   ]
  },
  {
   "cell_type": "code",
   "execution_count": 131,
   "metadata": {},
   "outputs": [
    {
     "data": {
      "text/html": [
       "<span style=\"font-size:20px;\"><a class=\"ProveItLink\" href=\"../../ordering/__pv_it/theorems/6e5cad5b2984ed0d75bd47bd0c542ec447a4f3570/expr.ipynb\"><img src=\"data:image/png;base64,iVBORw0KGgoAAAANSUhEUgAAADEAAAAQBAMAAABNQoq8AAAAMFBMVEX///8AAAAAAAAAAAAAAAAA\n",
       "AAAAAAAAAAAAAAAAAAAAAAAAAAAAAAAAAAAAAAAAAAAv3aB7AAAAD3RSTlMAELvv3c2ZVESJq3Yi\n",
       "MmZ3LnoBAAAACXBIWXMAAA7EAAAOxAGVKw4bAAAA1ElEQVQY02NgQAdPjfRDjB4AGYzKDmhSCqcY\n",
       "uh4JABmsCegyJxmYeBcAGfwFmDJsBwKAjH4BqMgmF5cAuIwCkDEFKtG6EaGHSxBkWtTu5SA+TyCS\n",
       "aZdKDwDd9lVA/gDIIQfgModDvoD0s39kYN4AkkFywTtREM0WwMA/AUhfdgECBYgMkxzIpywTGPpB\n",
       "7hZC0sOboAjxTj7I3SzI/sk9BJK5wGgH4nNvQJIR4gYax/WACRI84XCZYwx8DzSArl6ZBxGQ0hCA\n",
       "hbUOg1I8cph1qkBCBwoAxe43BugJR6MAAAAASUVORK5CYII=\n",
       "\" style=\"display:inline;vertical-align:middle;\" /></a>, <a class=\"ProveItLink\" href=\"../__pv_it/demonstrations/d550e8309ef79ca46e4c9fb5617a392ea678789b0/expr.ipynb\"><img src=\"data:image/png;base64,iVBORw0KGgoAAAANSUhEUgAAADEAAAAQBAMAAABNQoq8AAAAMFBMVEX///8AAAAAAAAAAAAAAAAA\n",
       "AAAAAAAAAAAAAAAAAAAAAAAAAAAAAAAAAAAAAAAAAAAv3aB7AAAAD3RSTlMAiXZmMiLdVJm77xBE\n",
       "zatgdeJyAAAACXBIWXMAAA7EAAAOxAGVKw4bAAAAvUlEQVQY02NgQAe2K+dfW2nAgA1MiGM4Z7kB\n",
       "q0wgAyfLAxwyHAEXkEU009IuwGUmIEmc1Ubo4dsNNk1I2QFIst5GMs2zNgDICCvgAGnlDYDLRF37\n",
       "BtafyMClAJJBcoHxXhDN8RvC90oDggkQGc7NIJ9yQV2xE0kPS8NsIL1fAcJnQ/ZPSySQ5gdqPACk\n",
       "mRSQZHYyAUWBDmMEuZrhOlwmgoHZYA6QIWgM8eK+ORtgYT2VYeb9AqRAODgtDTm0ALktNaaWdOV1\n",
       "AAAAAElFTkSuQmCC\n",
       "\" style=\"display:inline;vertical-align:middle;\" /></a>, <a class=\"ProveItLink\" href=\"../../ordering/__pv_it/theorems/4aa8d696b1f407d6126de9f51a052e8d90e0848c0/expr.ipynb\"><img src=\"data:image/png;base64,iVBORw0KGgoAAAANSUhEUgAAADMAAAAQBAMAAABJt1qBAAAAMFBMVEX///8AAAAAAAAAAAAAAAAA\n",
       "AAAAAAAAAAAAAAAAAAAAAAAAAAAAAAAAAAAAAAAAAAAv3aB7AAAAD3RSTlMAIquJdkTvuxBmmd1U\n",
       "zTKBpmoTAAAACXBIWXMAAA7EAAAOxAGVKw4bAAAAzElEQVQY02NgwABz0+tvp09gwAoKhBiCpjdg\n",
       "lxJmYOdTwCXFJXABRch99+4LcKkCZJlYD4Qupg6QgYzKjg4gAcYbSAY+PysAZIQJsP8ACfAKwKXE\n",
       "bv8GmcCRycC1ASyF5IyZvSCa6wMDtwGI8Ww3EBRApNg7QV5mK2DoDwAJtCPp4ltQAaT7HRjmgwW4\n",
       "kf21ThwkdYBBlwfkAhYHJKl2FqCJ7A48u7jAInfgUlIMnBNKgS5UsRPyA4s0lTbAQr6Qofz+AeTg\n",
       "CK7ejRxyAISENKeL/c93AAAAAElFTkSuQmCC\n",
       "\" style=\"display:inline;vertical-align:middle;\" /></a>, <a class=\"ProveItLink\" href=\"../__pv_it/demonstrations/da2e2bd5e470732caa010f12d6cacc52043340bf0/expr.ipynb\"><img src=\"data:image/png;base64,iVBORw0KGgoAAAANSUhEUgAAADAAAAAOBAMAAACbXIJpAAAAMFBMVEX///8AAAAAAAAAAAAAAAAA\n",
       "AAAAAAAAAAAAAAAAAAAAAAAAAAAAAAAAAAAAAAAAAAAv3aB7AAAAD3RSTlMAIquJdkTvuxBmmd1U\n",
       "zTKBpmoTAAAACXBIWXMAAA7EAAAOxAGVKw4bAAAAmUlEQVQY02NgIAh6J+CQ4LB2QBVgVHaEinhb\n",
       "wMSYXeYxMIQJsP+A8mevgKrdw7CcgSOTgWsDTOXZhWCK24AhhYHrA4iGgVgNELm+AUiwFTD0ByAk\n",
       "KkBkOojod2CYDxc/qwh23xewxAEGXR4BqOUQKxh+MjCwMrA78OziQnPucgYGOwYOFTshP7AB3nAP\n",
       "MltOaUB4tHsCA1EAAGm+Hd1lODZQAAAAAElFTkSuQmCC\n",
       "\" style=\"display:inline;vertical-align:middle;\" /></a> <a class=\"ProveItLink\" href=\"../__pv_it/demonstrations/e55fc27495060d55813a8923286aabf0d143700d0/proof.ipynb\" style=\"text-decoration: none\">&nbsp;&#x22A2;&nbsp;&nbsp;</a><a class=\"ProveItLink\" href=\"../__pv_it/demonstrations/6b5f5c03337d9e7de937c02aba0502dd4ff3cfe80/expr.ipynb\"><img src=\"data:image/png;base64,iVBORw0KGgoAAAANSUhEUgAAAJEAAAAVBAMAAAC01xHeAAAAMFBMVEX///8AAAAAAAAAAAAAAAAA\n",
       "AAAAAAAAAAAAAAAAAAAAAAAAAAAAAAAAAAAAAAAAAAAv3aB7AAAAD3RSTlMAInZUiRDNmWbv3US7\n",
       "qzJazP2FAAAACXBIWXMAAA7EAAAOxAGVKw4bAAACKUlEQVQ4y3VUPUhbURT+Ynz58akRR2khLRZc\n",
       "ClGKUJcGEQqFwqN0KSjJInYw8AYp4uKbtEMHWxCs7RA0oH2lIJ3aydSldFK0Q8d0dfEntUuheM7N\n",
       "y3s5yb0X3v055zvfPX/3ARiAfsR0QgNYibtyBiY72ykzgT/zdE+nmd6kaaRTrgFbP8p0g0ebovaS\n",
       "OfoSToeVDpxwaZoFkp6IqHmq05dy240E+EuwZjjiVSAtoPEgN/YVz+vKj+eRWoDHgnWfXU87GNcy\n",
       "dZd5bnA83QrV4zqmRypEDwu83pwclEyJ47vk8+OgYJVmwhR4cqQmmEq3T+jqI3Wv/RqHjmAqzFoX\n",
       "wEqATe0EVAweyiWrrUzWX6cwgFQR23R45mFJ+vTAwRvgfhj0XKMjGVxBOtvKFL9iQXwN7+iwzHqq\n",
       "jO9/2PT9I9q+AP4AZ1FNS8orAidVLbDk+299/xNbFZHJo/9cMb2H9U/6VIFNffA1YppvMqWrbRnv\n",
       "yWM/B3uNHbYukTqXTHV190QYXSmMrpBtY6J2WnYQL+OAmOroK44Kpv+cO7wKMx48XAJnSL4nmGrW\n",
       "BkGqqtIHmHBdwfQL35tFb+0CAlPhukUX9Hm9ZJvM45QOM8O/j2uCaeYhv4uPav8k6kwGT728I6Kz\n",
       "fi5ytvbQU9P1eOMHpRrd2o0kAjzWajjU/kxtz/ReGwlzNS9YDfbrG0zjRqfIBI5xb0wbmTRmJnAv\n",
       "FzeWNWi7NP9sE/gWcA0aP3cktqXZSQAAAABJRU5ErkJggg==\n",
       "\" style=\"display:inline;vertical-align:middle;\" /></a></span>"
      ],
      "text/plain": [
       "{b in Real, c in Real, a in Real, a > c} |- (a + b) > (c + b)"
      ]
     },
     "metadata": {},
     "output_type": "display_data"
    }
   ],
   "source": [
    "Add(a, b).deduce_bound(term_relations[0], assumptions=assumptions)"
   ]
  },
  {
   "cell_type": "code",
   "execution_count": 132,
   "metadata": {},
   "outputs": [
    {
     "data": {
      "text/html": [
       "<span style=\"font-size:20px;\"><a class=\"ProveItLink\" href=\"../../ordering/__pv_it/theorems/4aa8d696b1f407d6126de9f51a052e8d90e0848c0/expr.ipynb\"><img src=\"data:image/png;base64,iVBORw0KGgoAAAANSUhEUgAAADMAAAAQBAMAAABJt1qBAAAAMFBMVEX///8AAAAAAAAAAAAAAAAA\n",
       "AAAAAAAAAAAAAAAAAAAAAAAAAAAAAAAAAAAAAAAAAAAv3aB7AAAAD3RSTlMAIquJdkTvuxBmmd1U\n",
       "zTKBpmoTAAAACXBIWXMAAA7EAAAOxAGVKw4bAAAAzElEQVQY02NgwABz0+tvp09gwAoKhBiCpjdg\n",
       "lxJmYOdTwCXFJXABRch99+4LcKkCZJlYD4Qupg6QgYzKjg4gAcYbSAY+PysAZIQJsP8ACfAKwKXE\n",
       "bv8GmcCRycC1ASyF5IyZvSCa6wMDtwGI8Ww3EBRApNg7QV5mK2DoDwAJtCPp4ltQAaT7HRjmgwW4\n",
       "kf21ThwkdYBBlwfkAhYHJKl2FqCJ7A48u7jAInfgUlIMnBNKgS5UsRPyA4s0lTbAQr6Qofz+AeTg\n",
       "CK7ejRxyAISENKeL/c93AAAAAElFTkSuQmCC\n",
       "\" style=\"display:inline;vertical-align:middle;\" /></a>, <a class=\"ProveItLink\" href=\"../__pv_it/demonstrations/41c3ad9f29c40b69fd61c49f41684c1b813e9e850/expr.ipynb\"><img src=\"data:image/png;base64,iVBORw0KGgoAAAANSUhEUgAAADMAAAAQBAMAAABJt1qBAAAAMFBMVEX///8AAAAAAAAAAAAAAAAA\n",
       "AAAAAAAAAAAAAAAAAAAAAAAAAAAAAAAAAAAAAAAAAAAv3aB7AAAAD3RSTlMAMs3vmVREEIndIqt2\n",
       "u2aBbGR5AAAACXBIWXMAAA7EAAAOxAGVKw4bAAAA3klEQVQY02NgwACPbO9r2j6AsBmVHVDkLqxm\n",
       "yH5bAGHzB6BKrWDgZdwAYecXoEuxLFCAsDsh1NmZMxXgUhcgYipgMuk4Qhd3OchArh0Hv4IEuNSR\n",
       "DJQNWgBkJC/g/Q4SYFoAl1qs+RNkArsdAwvYBiYkZ7wrAtEsHxg4G0AM4ZlAcAEixVsH8jLzBYb6\n",
       "BJBALZIuRofrQLr+AMN7sAAnsr8c14KkAhg2sYJcwHMASaqWB2gi7wHWKSxgEVW41BIGvgfXgC7c\n",
       "07j6IFik+loBLORvMdzVRwnXjJszFZC4AHM6StvnxMwUAAAAAElFTkSuQmCC\n",
       "\" style=\"display:inline;vertical-align:middle;\" /></a>, <a class=\"ProveItLink\" href=\"../../ordering/__pv_it/theorems/6e5cad5b2984ed0d75bd47bd0c542ec447a4f3570/expr.ipynb\"><img src=\"data:image/png;base64,iVBORw0KGgoAAAANSUhEUgAAADEAAAAQBAMAAABNQoq8AAAAMFBMVEX///8AAAAAAAAAAAAAAAAA\n",
       "AAAAAAAAAAAAAAAAAAAAAAAAAAAAAAAAAAAAAAAAAAAv3aB7AAAAD3RSTlMAELvv3c2ZVESJq3Yi\n",
       "MmZ3LnoBAAAACXBIWXMAAA7EAAAOxAGVKw4bAAAA1ElEQVQY02NgQAdPjfRDjB4AGYzKDmhSCqcY\n",
       "uh4JABmsCegyJxmYeBcAGfwFmDJsBwKAjH4BqMgmF5cAuIwCkDEFKtG6EaGHSxBkWtTu5SA+TyCS\n",
       "aZdKDwDd9lVA/gDIIQfgModDvoD0s39kYN4AkkFywTtREM0WwMA/AUhfdgECBYgMkxzIpywTGPpB\n",
       "7hZC0sOboAjxTj7I3SzI/sk9BJK5wGgH4nNvQJIR4gYax/WACRI84XCZYwx8DzSArl6ZBxGQ0hCA\n",
       "hbUOg1I8cph1qkBCBwoAxe43BugJR6MAAAAASUVORK5CYII=\n",
       "\" style=\"display:inline;vertical-align:middle;\" /></a>, <a class=\"ProveItLink\" href=\"../__pv_it/demonstrations/9f6013127c33e7427643bddb078ad86f3a5ee8e00/expr.ipynb\"><img src=\"data:image/png;base64,iVBORw0KGgoAAAANSUhEUgAAADAAAAAQBAMAAACigOGCAAAAMFBMVEX///8AAAAAAAAAAAAAAAAA\n",
       "AAAAAAAAAAAAAAAAAAAAAAAAAAAAAAAAAAAAAAAAAAAv3aB7AAAAD3RSTlMAELvv3c2ZVESJq3Yi\n",
       "MmZ3LnoBAAAACXBIWXMAAA7EAAAOxAGVKw4bAAAAx0lEQVQY02NgVHZgwARXzRgYWBOwSDB8Z2Dg\n",
       "L8AizvGRgaFfAMwUfYAswQk0fwqEyThlA5IEyPyo3cshnC0TYcKnZt8vYGD8KiB/AMJ/kgi1wIZB\n",
       "X4CB/SMDM8yQ0hwwJfyAIZWBgS2AgX8CzIzWhSAyn4HBk4GBZQJDP9zBrYog0oiB8QfYG/kCMKPW\n",
       "gN33m4HvA1DiAqMdVPwJxArG7wxcATUMXA+YEtCcq81QkpDAwLgyD6JuC9yDUjvvrL4A96vIAwbi\n",
       "AABYwi68YvilLQAAAABJRU5ErkJggg==\n",
       "\" style=\"display:inline;vertical-align:middle;\" /></a> <a class=\"ProveItLink\" href=\"../__pv_it/demonstrations/aeeccc5de8534e870d7972a0aa2f0a91a1a8c9090/proof.ipynb\" style=\"text-decoration: none\">&nbsp;&#x22A2;&nbsp;&nbsp;</a><a class=\"ProveItLink\" href=\"../__pv_it/demonstrations/da2d88f4d6bda7fb907d3c7c2f1ab64a2b30575d0/expr.ipynb\"><img src=\"data:image/png;base64,iVBORw0KGgoAAAANSUhEUgAAAJQAAAAVBAMAAABS/tqaAAAAMFBMVEX///8AAAAAAAAAAAAAAAAA\n",
       "AAAAAAAAAAAAAAAAAAAAAAAAAAAAAAAAAAAAAAAAAAAv3aB7AAAAD3RSTlMAInZUiRDNmWbv3US7\n",
       "qzJazP2FAAAACXBIWXMAAA7EAAAOxAGVKw4bAAACLklEQVQ4y3VUQUgUYRT+dBp3Z3fVwaO0MFaH\n",
       "8BBbhJAnEboIyZyCoti9BF2CCSzCi3tKCME8SFoeFgzEEUU8SJ7chA6dKrPO68VDF5dku3Tpvdl/\n",
       "xn3N/w/s/+9873/fe+/73xsALvSPDu8ynG0buksG644Gu2yiynu03NQY7M81ilFN4daYnujkDa6S\n",
       "V0Vn6wloeZSC75qSOkOPj4yI/UHt/Vz1bMrjhajp3DPfQjaAI87eUPu+T4vjR5l0xHotqvWSvxdI\n",
       "j0WMaKkmoiojEnsicbEqBirW4zGm+CaPhjxJ9eTSd4r1tf0yfFuhGVa9OD7wH1Vx/JT0uENkwJ5b\n",
       "aAkq+49fdpGNk3j1TAWnNPML+OILKoW8xCo5LiFTE1RWC44HK5Fm5Gm05Sj4vSqmZVaEPKftFt5R\n",
       "3k3kOPXpMFwOw02upIL+MfQ1EzF2f/DqbAMzwHs+EYbrb8OQJVDIKVM5dZS3RVbEvF9C/vzCdj/F\n",
       "VCuw/8qsFLLHBZY9zMsbpLaa8WHVkgK/xQXav5FtCqoYGcUBUZXw03IFVYP0Q7Yey96WCgUP9hl6\n",
       "K9cFlULm6A7phLWWEVn1VguBuvvOZuDuOMBoEIgCFTKFX8R7OFm8JpvhiEckFwloDyet2EcVP7xy\n",
       "fNgQVArZQK6h6/boGYzW+x2Ds2Xodm7zGo+hZpzTwxs9s4Zx5u6gt4/GD2M9BRVMX1zgIv0emIwa\n",
       "P7tupOKMujyDcUiDDZiYul38AwxWfHxjZe2NAAAAAElFTkSuQmCC\n",
       "\" style=\"display:inline;vertical-align:middle;\" /></a></span>"
      ],
      "text/plain": [
       "{a in Real, d in Real, b in Real, b > d} |- (a + b) > (a + d)"
      ]
     },
     "metadata": {},
     "output_type": "display_data"
    }
   ],
   "source": [
    "Add(a, b).deduce_bound(term_relations[1], assumptions=assumptions)"
   ]
  },
  {
   "cell_type": "code",
   "execution_count": 133,
   "metadata": {},
   "outputs": [
    {
     "data": {
      "text/html": [
       "<span style=\"font-size:20px;\"><a class=\"ProveItLink\" href=\"../__pv_it/demonstrations/d550e8309ef79ca46e4c9fb5617a392ea678789b0/expr.ipynb\"><img src=\"data:image/png;base64,iVBORw0KGgoAAAANSUhEUgAAADEAAAAQBAMAAABNQoq8AAAAMFBMVEX///8AAAAAAAAAAAAAAAAA\n",
       "AAAAAAAAAAAAAAAAAAAAAAAAAAAAAAAAAAAAAAAAAAAv3aB7AAAAD3RSTlMAiXZmMiLdVJm77xBE\n",
       "zatgdeJyAAAACXBIWXMAAA7EAAAOxAGVKw4bAAAAvUlEQVQY02NgQAe2K+dfW2nAgA1MiGM4Z7kB\n",
       "q0wgAyfLAxwyHAEXkEU009IuwGUmIEmc1Ubo4dsNNk1I2QFIst5GMs2zNgDICCvgAGnlDYDLRF37\n",
       "BtafyMClAJJBcoHxXhDN8RvC90oDggkQGc7NIJ9yQV2xE0kPS8NsIL1fAcJnQ/ZPSySQ5gdqPACk\n",
       "mRSQZHYyAUWBDmMEuZrhOlwmgoHZYA6QIWgM8eK+ORtgYT2VYeb9AqRAODgtDTm0ALktNaaWdOV1\n",
       "AAAAAElFTkSuQmCC\n",
       "\" style=\"display:inline;vertical-align:middle;\" /></a>, <a class=\"ProveItLink\" href=\"../__pv_it/demonstrations/41c3ad9f29c40b69fd61c49f41684c1b813e9e850/expr.ipynb\"><img src=\"data:image/png;base64,iVBORw0KGgoAAAANSUhEUgAAADMAAAAQBAMAAABJt1qBAAAAMFBMVEX///8AAAAAAAAAAAAAAAAA\n",
       "AAAAAAAAAAAAAAAAAAAAAAAAAAAAAAAAAAAAAAAAAAAv3aB7AAAAD3RSTlMAMs3vmVREEIndIqt2\n",
       "u2aBbGR5AAAACXBIWXMAAA7EAAAOxAGVKw4bAAAA3klEQVQY02NgwACPbO9r2j6AsBmVHVDkLqxm\n",
       "yH5bAGHzB6BKrWDgZdwAYecXoEuxLFCAsDsh1NmZMxXgUhcgYipgMuk4Qhd3OchArh0Hv4IEuNSR\n",
       "DJQNWgBkJC/g/Q4SYFoAl1qs+RNkArsdAwvYBiYkZ7wrAtEsHxg4G0AM4ZlAcAEixVsH8jLzBYb6\n",
       "BJBALZIuRofrQLr+AMN7sAAnsr8c14KkAhg2sYJcwHMASaqWB2gi7wHWKSxgEVW41BIGvgfXgC7c\n",
       "07j6IFik+loBLORvMdzVRwnXjJszFZC4AHM6StvnxMwUAAAAAElFTkSuQmCC\n",
       "\" style=\"display:inline;vertical-align:middle;\" /></a>, <a class=\"ProveItLink\" href=\"../../ordering/__pv_it/theorems/6e5cad5b2984ed0d75bd47bd0c542ec447a4f3570/expr.ipynb\"><img src=\"data:image/png;base64,iVBORw0KGgoAAAANSUhEUgAAADEAAAAQBAMAAABNQoq8AAAAMFBMVEX///8AAAAAAAAAAAAAAAAA\n",
       "AAAAAAAAAAAAAAAAAAAAAAAAAAAAAAAAAAAAAAAAAAAv3aB7AAAAD3RSTlMAELvv3c2ZVESJq3Yi\n",
       "MmZ3LnoBAAAACXBIWXMAAA7EAAAOxAGVKw4bAAAA1ElEQVQY02NgQAdPjfRDjB4AGYzKDmhSCqcY\n",
       "uh4JABmsCegyJxmYeBcAGfwFmDJsBwKAjH4BqMgmF5cAuIwCkDEFKtG6EaGHSxBkWtTu5SA+TyCS\n",
       "aZdKDwDd9lVA/gDIIQfgModDvoD0s39kYN4AkkFywTtREM0WwMA/AUhfdgECBYgMkxzIpywTGPpB\n",
       "7hZC0sOboAjxTj7I3SzI/sk9BJK5wGgH4nNvQJIR4gYax/WACRI84XCZYwx8DzSArl6ZBxGQ0hCA\n",
       "hbUOg1I8cph1qkBCBwoAxe43BugJR6MAAAAASUVORK5CYII=\n",
       "\" style=\"display:inline;vertical-align:middle;\" /></a>, <a class=\"ProveItLink\" href=\"../__pv_it/demonstrations/9f6013127c33e7427643bddb078ad86f3a5ee8e00/expr.ipynb\"><img src=\"data:image/png;base64,iVBORw0KGgoAAAANSUhEUgAAADAAAAAQBAMAAACigOGCAAAAMFBMVEX///8AAAAAAAAAAAAAAAAA\n",
       "AAAAAAAAAAAAAAAAAAAAAAAAAAAAAAAAAAAAAAAAAAAv3aB7AAAAD3RSTlMAELvv3c2ZVESJq3Yi\n",
       "MmZ3LnoBAAAACXBIWXMAAA7EAAAOxAGVKw4bAAAAx0lEQVQY02NgVHZgwARXzRgYWBOwSDB8Z2Dg\n",
       "L8AizvGRgaFfAMwUfYAswQk0fwqEyThlA5IEyPyo3cshnC0TYcKnZt8vYGD8KiB/AMJ/kgi1wIZB\n",
       "X4CB/SMDM8yQ0hwwJfyAIZWBgS2AgX8CzIzWhSAyn4HBk4GBZQJDP9zBrYog0oiB8QfYG/kCMKPW\n",
       "gN33m4HvA1DiAqMdVPwJxArG7wxcATUMXA+YEtCcq81QkpDAwLgyD6JuC9yDUjvvrL4A96vIAwbi\n",
       "AABYwi68YvilLQAAAABJRU5ErkJggg==\n",
       "\" style=\"display:inline;vertical-align:middle;\" /></a>, <a class=\"ProveItLink\" href=\"../../ordering/__pv_it/theorems/4aa8d696b1f407d6126de9f51a052e8d90e0848c0/expr.ipynb\"><img src=\"data:image/png;base64,iVBORw0KGgoAAAANSUhEUgAAADMAAAAQBAMAAABJt1qBAAAAMFBMVEX///8AAAAAAAAAAAAAAAAA\n",
       "AAAAAAAAAAAAAAAAAAAAAAAAAAAAAAAAAAAAAAAAAAAv3aB7AAAAD3RSTlMAIquJdkTvuxBmmd1U\n",
       "zTKBpmoTAAAACXBIWXMAAA7EAAAOxAGVKw4bAAAAzElEQVQY02NgwABz0+tvp09gwAoKhBiCpjdg\n",
       "lxJmYOdTwCXFJXABRch99+4LcKkCZJlYD4Qupg6QgYzKjg4gAcYbSAY+PysAZIQJsP8ACfAKwKXE\n",
       "bv8GmcCRycC1ASyF5IyZvSCa6wMDtwGI8Ww3EBRApNg7QV5mK2DoDwAJtCPp4ltQAaT7HRjmgwW4\n",
       "kf21ThwkdYBBlwfkAhYHJKl2FqCJ7A48u7jAInfgUlIMnBNKgS5UsRPyA4s0lTbAQr6Qofz+AeTg\n",
       "CK7ejRxyAISENKeL/c93AAAAAElFTkSuQmCC\n",
       "\" style=\"display:inline;vertical-align:middle;\" /></a>, <a class=\"ProveItLink\" href=\"../__pv_it/demonstrations/da2e2bd5e470732caa010f12d6cacc52043340bf0/expr.ipynb\"><img src=\"data:image/png;base64,iVBORw0KGgoAAAANSUhEUgAAADAAAAAOBAMAAACbXIJpAAAAMFBMVEX///8AAAAAAAAAAAAAAAAA\n",
       "AAAAAAAAAAAAAAAAAAAAAAAAAAAAAAAAAAAAAAAAAAAv3aB7AAAAD3RSTlMAIquJdkTvuxBmmd1U\n",
       "zTKBpmoTAAAACXBIWXMAAA7EAAAOxAGVKw4bAAAAmUlEQVQY02NgIAh6J+CQ4LB2QBVgVHaEinhb\n",
       "wMSYXeYxMIQJsP+A8mevgKrdw7CcgSOTgWsDTOXZhWCK24AhhYHrA4iGgVgNELm+AUiwFTD0ByAk\n",
       "KkBkOojod2CYDxc/qwh23xewxAEGXR4BqOUQKxh+MjCwMrA78OziQnPucgYGOwYOFTshP7AB3nAP\n",
       "MltOaUB4tHsCA1EAAGm+Hd1lODZQAAAAAElFTkSuQmCC\n",
       "\" style=\"display:inline;vertical-align:middle;\" /></a> <a class=\"ProveItLink\" href=\"../__pv_it/demonstrations/a5135a0116884d044ecafdaf70ed99fdab7cbafe0/proof.ipynb\" style=\"text-decoration: none\">&nbsp;&#x22A2;&nbsp;&nbsp;</a><a class=\"ProveItLink\" href=\"../__pv_it/demonstrations/8a10208f79c6a95d7636550a3ceea2e03ccb629c0/expr.ipynb\"><img src=\"data:image/png;base64,iVBORw0KGgoAAAANSUhEUgAAAJIAAAAVBAMAAABf4KrdAAAAMFBMVEX///8AAAAAAAAAAAAAAAAA\n",
       "AAAAAAAAAAAAAAAAAAAAAAAAAAAAAAAAAAAAAAAAAAAv3aB7AAAAD3RSTlMAInZUiRDNmWbv3US7\n",
       "qzJazP2FAAAACXBIWXMAAA7EAAAOxAGVKw4bAAACPUlEQVQ4y3VUTUgbURD+4mbdbBJ16VEUVtuD\n",
       "eJBYilBPoVAQQdmT0NKSXAq9FFKwIkUw9FChlP5B6Y8eAgriiiI9SHsyFXroSWttz+nFQy9KJSJ4\n",
       "6czLZt3nvreQ97Lz883MNzMLwIH6UckTGlshb8lptJ8Usssa24xLxzWFwvxeoRDlmNzIK3EO3qGP\n",
       "nIoqXWuJjnsx8YQmpWO0erCkyJ+Du4NLnot5TEcLOnfM1JEqwZZMrwb3lkeH7Yk8IqFeRSt1w79J\n",
       "4uIthpRIo6JEgWGOhi5GUY3EXNzHJPdwv8eVkR70/qRQu42X/puB1GLCk70vZKTuG4fExRhhAV+c\n",
       "bF1CMk+8goNUM4Vnj4LYlGRiETMSUuY1doiGp1gkv/ewKhKSUYftwghpGXoorjTFTufxRkK6VcYU\n",
       "XdcxT0kfsR547PsffH+NyyiiI4/2o5CJzV982hvArGiD5fsrH32fy58Flug6ZCS7isKGlBMBb+WQ\n",
       "OW/V5rcm0sJFxhdgnjFDXF3BxUu5dzROFNuohNX9aFZn/ruARIIU5z6MbULK4bfhSEg14g6papPx\n",
       "Bk3IkvMpcSwhHaOtOAg8p+6RgbFsSTm1lbOloOnRKeCxoMaNS9VtY7hExpP4S7B7490D8hTs816k\n",
       "BXlmfziC7VRucuSJJyHdvfJnrwasIl1Tzbh4OsV5O7It6+oZ5+Gu8OopNji2r41nTr3BPBb09hW6\n",
       "72A1Jsrqvq/oot8dnVLhZlZ1xpxPwtUoexSySxrbFgf/AT7MdcbmZr2DAAAAAElFTkSuQmCC\n",
       "\" style=\"display:inline;vertical-align:middle;\" /></a></span>"
      ],
      "text/plain": [
       "{c in Real, d in Real, b in Real, b > d, a in Real, a > c} |- (a + b) > (c + d)"
      ]
     },
     "metadata": {},
     "output_type": "display_data"
    }
   ],
   "source": [
    "Add(a, b).deduce_bound(term_relations, assumptions=assumptions)"
   ]
  },
  {
   "cell_type": "code",
   "execution_count": 134,
   "metadata": {},
   "outputs": [
    {
     "data": {
      "text/html": [
       "<span style=\"font-size:20px;\"><a class=\"ProveItLink\" href=\"../__pv_it/demonstrations/5a0c211ed8c0f89e15d717d80d4627baae693acb0/expr.ipynb\"><img src=\"data:image/png;base64,iVBORw0KGgoAAAANSUhEUgAAAD8AAAATBAMAAADVH8ihAAAAMFBMVEX///8AAAAAAAAAAAAAAAAA\n",
       "AAAAAAAAAAAAAAAAAAAAAAAAAAAAAAAAAAAAAAAAAAAv3aB7AAAAD3RSTlMAIquJdkTvuxBmmd1U\n",
       "zTKBpmoTAAAACXBIWXMAAA7EAAAOxAGVKw4bAAAA3UlEQVQoz2NgwAO4GAgAdjIVzE2vv50+AZ8J\n",
       "BUIMQdMb8CkQZmDnU2BYXl5WXj4BhwIugQtYTHDfvfsCXEEBpoJYD4QJTB0KcAWMyo4OYPoGkhXP\n",
       "zwrAFYQJsP8A0bwCcAVit397wEOSI5OBawNYAZIjZ/YihfcHBm4DEOPZbiAogChg70R4j62AoT8A\n",
       "xGhHMoFvQQWc1+/AMB/M4EYOh3XiCAUHGHR5QO5jcUBS0M4Ct4PdgWcXJN7vwBVIMXBOKIXxOFTs\n",
       "hPzArKbSBlhsFjKU3z+AGQfB1ZCgRgEAfyQ4BfovW/4AAAAASUVORK5CYII=\n",
       "\" style=\"display:inline;vertical-align:middle;\" /></a>, <a class=\"ProveItLink\" href=\"../__pv_it/demonstrations/8c5864665d603ebc7e84fdb786d604e60f56fcc70/expr.ipynb\"><img src=\"data:image/png;base64,iVBORw0KGgoAAAANSUhEUgAAAD0AAAATBAMAAADR6hicAAAAMFBMVEX///8AAAAAAAAAAAAAAAAA\n",
       "AAAAAAAAAAAAAAAAAAAAAAAAAAAAAAAAAAAAAAAAAAAv3aB7AAAAD3RSTlMAiXZmMiLdVJm77xBE\n",
       "zatgdeJyAAAACXBIWXMAAA7EAAAOxAGVKw4bAAAA0ElEQVQoz2NgwA04GPADTrLkbVfOv7bSAI/+\n",
       "CXEM5yw34JEPZOBkecDQOXPWzJkG2OU5Ai5g6tdMS7sAl5+AIX9WG6Gfb/cDhLyQsgOQZL2NZL5n\n",
       "bQBcPqyAA2QYbwBcPuraN21E+CUycCmA5JHcZ7wXKZB/Q2ivNCCYAJHn3IzwF9cECL0TST9Lw2w4\n",
       "b78ChGZD9n9LJJzHDzTqAJBmUkCS38kEtwDoeEaQ/xiuw+UjGJgN5sANEDSGBMy+ORtg8TeVYeb9\n",
       "AoxwPzgNEr4oAABdmzkc2vbi6QAAAABJRU5ErkJggg==\n",
       "\" style=\"display:inline;vertical-align:middle;\" /></a>, <a class=\"ProveItLink\" href=\"../__pv_it/demonstrations/47bc8cc554bef16e22bc6aac513e386b62872e270/expr.ipynb\"><img src=\"data:image/png;base64,iVBORw0KGgoAAAANSUhEUgAAAD8AAAATBAMAAADVH8ihAAAAMFBMVEX///8AAAAAAAAAAAAAAAAA\n",
       "AAAAAAAAAAAAAAAAAAAAAAAAAAAAAAAAAAAAAAAAAAAv3aB7AAAAD3RSTlMAMs3vmVREEIndIqt2\n",
       "u2aBbGR5AAAACXBIWXMAAA7EAAAOxAGVKw4bAAAA80lEQVQoz2NgwANYGAgAXjIVPLK9r2n7AFkB\n",
       "o7IDiooLqxmy3xYgm8AfgKpgBQMv4wYG37uX794Fm8SQX4CugGWBArIJnRDq7MyZCnAFF5AVqIDJ\n",
       "pOMIE7jLN8AVcO04+BVMqyNZIRu0AK4geQHvdxDNtACuYLHmz+PwkGS3Y2AB28yE5Mh3RUjh/YGB\n",
       "swHEEJ4JBBcgCnjrHsAVMF9gqE8AMWqRTGB0uA7n1R9geA9mcCKHg+NahIIAhk2sIPfxHEBSUMsD\n",
       "t4P3AOsUSLyrwhUsYeB7cA3GY9/TuPogmFV9rQAWm7cY7uoHYMZzxk1IUKMAALvkT+IOeAJ3AAAA\n",
       "AElFTkSuQmCC\n",
       "\" style=\"display:inline;vertical-align:middle;\" /></a>, <a class=\"ProveItLink\" href=\"../../ordering/__pv_it/theorems/6e5cad5b2984ed0d75bd47bd0c542ec447a4f3570/expr.ipynb\"><img src=\"data:image/png;base64,iVBORw0KGgoAAAANSUhEUgAAADEAAAAQBAMAAABNQoq8AAAAMFBMVEX///8AAAAAAAAAAAAAAAAA\n",
       "AAAAAAAAAAAAAAAAAAAAAAAAAAAAAAAAAAAAAAAAAAAv3aB7AAAAD3RSTlMAELvv3c2ZVESJq3Yi\n",
       "MmZ3LnoBAAAACXBIWXMAAA7EAAAOxAGVKw4bAAAA1ElEQVQY02NgQAdPjfRDjB4AGYzKDmhSCqcY\n",
       "uh4JABmsCegyJxmYeBcAGfwFmDJsBwKAjH4BqMgmF5cAuIwCkDEFKtG6EaGHSxBkWtTu5SA+TyCS\n",
       "aZdKDwDd9lVA/gDIIQfgModDvoD0s39kYN4AkkFywTtREM0WwMA/AUhfdgECBYgMkxzIpywTGPpB\n",
       "7hZC0sOboAjxTj7I3SzI/sk9BJK5wGgH4nNvQJIR4gYax/WACRI84XCZYwx8DzSArl6ZBxGQ0hCA\n",
       "hbUOg1I8cph1qkBCBwoAxe43BugJR6MAAAAASUVORK5CYII=\n",
       "\" style=\"display:inline;vertical-align:middle;\" /></a> <a class=\"ProveItLink\" href=\"../__pv_it/demonstrations/9f5c90f6592c9a8d0bfaf1d402538fcd9e5d972d0/proof.ipynb\" style=\"text-decoration: none\">&nbsp;&#x22A2;&nbsp;&nbsp;</a><a class=\"ProveItLink\" href=\"../__pv_it/demonstrations/19ecc285e8a2d431c5911ae026c7eafc9ea3d5510/expr.ipynb\"><img src=\"data:image/png;base64,iVBORw0KGgoAAAANSUhEUgAAAKcAAAAVBAMAAADROuOhAAAAMFBMVEX///8AAAAAAAAAAAAAAAAA\n",
       "AAAAAAAAAAAAAAAAAAAAAAAAAAAAAAAAAAAAAAAAAAAv3aB7AAAAD3RSTlMAInZUiRDNmWbv3US7\n",
       "qzJazP2FAAAACXBIWXMAAA7EAAAOxAGVKw4bAAAB+klEQVQ4y2NgYBBgIBsw4pJgMiDfUG4FHBIm\n",
       "2ARjZhFh5LPpDBroYqwnF4DIBKwa0olx6GcGtgB0MbYCIMHegOKfBrh6NAE42IFQ/JWBowBdmh8U\n",
       "mpwoQswKcPWoAghgBGexAH06FeznDIT0fpDbzbAaClJP0FCQTyHGhSyCC3qBiBIQIeskhGoG2yVd\n",
       "A1RDWZT6UA2VdXoPVOILTUJLYIGbq3QZYhX3RIbzAShmxKeyfkQRYFzMUINiKFRPG9QsjuUQA1i/\n",
       "BcQLMCwGsiIbGKpQXWofwDAJRYDLASoAMxSopwxIWcIDLh2ciZi/MnAqMMwGsuoZGJaAEsKqVStn\n",
       "rVp1AcgEqv+CIlAPcUjVqlUzV61ai9DzHpEWckFK2BMY+B3Ahs5hYP2N6tIlDNyfUQTmoEcUVM9O\n",
       "hKE5ARAf7TcAeZ/1EwPHB1RDPzOwf0UWACpBNRSmxwru/VwBaDIFeuoQUMFnBt4EQxRD/4HCDFng\n",
       "B9ApKIZC9fTAIwpSLvE/YJ0BSROHGKwKClDMuMFwHNXpwKj3Q/E+VE8JWpLibeABir4CsmJVHl56\n",
       "gGJGrHsDWm7waApAMRSqZzWYEwRP/KxXKkAh+wBbjsItgJSjQMkXnPNYV6CpQS0SMMoPfAUKRnGE\n",
       "AAcZKAAyOMRjKDEUl4sYFcg3kwl7/QYATzN9dHJAtXwAAAAASUVORK5CYII=\n",
       "\" style=\"display:inline;vertical-align:middle;\" /></a></span>"
      ],
      "text/plain": [
       "{a in RealPos, c in RealPos, d in RealPos, b in Real} |- (a + b + c + d) > b"
      ]
     },
     "metadata": {},
     "output_type": "display_data"
    }
   ],
   "source": [
    "Add(a, b, c, d).bound_by_term(\n",
    "    1, assumptions=[InSet(a, RealPos), InSet(b, Real), InSet(c, RealPos), InSet(d, RealPos)])"
   ]
  },
  {
   "cell_type": "code",
   "execution_count": 135,
   "metadata": {},
   "outputs": [
    {
     "data": {
      "text/html": [
       "<span style=\"font-size:20px;\"><a class=\"ProveItLink\" href=\"../__pv_it/demonstrations/d70a380bc05b43e909cb7708fe500d703d016a270/expr.ipynb\"><img src=\"data:image/png;base64,iVBORw0KGgoAAAANSUhEUgAAAD8AAAAQBAMAAABTi7oPAAAAMFBMVEX///8AAAAAAAAAAAAAAAAA\n",
       "AAAAAAAAAAAAAAAAAAAAAAAAAAAAAAAAAAAAAAAAAAAv3aB7AAAAD3RSTlMAIquJdkTvuxBmmd1U\n",
       "zTKBpmoTAAAACXBIWXMAAA7EAAAOxAGVKw4bAAAA00lEQVQoz2NgwABz0+tvp09gwAMKhBiCpjfg\n",
       "UyDMwM6nwPC8HAgEcCjgEriARcJ99+4LcAUFmPKxHggTmDoU4OKMyo4OYPoGkhXPzyIsDxNg/wGi\n",
       "eeFCBWK3f3vA5TkyGbg2gBUgOXJmL8Jmrg8M3AYgxrPdQFAAUcDeiQgotgKG/gAQox3JBL4FFXBe\n",
       "vwPDfDCDGzkc1okjFBxg0OUBuY/FAUlBOwvcDnYHnl1cYNYduAIpBs4JpXBfqNgJ+YFZTaUNsNgs\n",
       "ZCi/fwAzKIOrd2PGAACVlzd6VBBKDQAAAABJRU5ErkJggg==\n",
       "\" style=\"display:inline;vertical-align:middle;\" /></a>, <a class=\"ProveItLink\" href=\"../__pv_it/demonstrations/885cc228aa47f4d61d07e1691f08d60a4b0eb17d0/expr.ipynb\"><img src=\"data:image/png;base64,iVBORw0KGgoAAAANSUhEUgAAAD0AAAAQBAMAAABXfmoyAAAAMFBMVEX///8AAAAAAAAAAAAAAAAA\n",
       "AAAAAAAAAAAAAAAAAAAAAAAAAAAAAAAAAAAAAAAAAAAv3aB7AAAAD3RSTlMAELvv3c2ZVESJq3Yi\n",
       "MmZ3LnoBAAAACXBIWXMAAA7EAAAOxAGVKw4bAAAA3klEQVQY02NgQAdPjfRDjB7AuYzKDmgKFE4x\n",
       "dD0SgHNZE9DlTzIw8S5guKQEBAcYGPgLMOXZDgTAuf0woza5uATA5RXg8lOgdOtGhH4uwQVw+ajd\n",
       "y0EUTyCS+ZdKD8Dd/1VAHsRhhYsoHA75shGunf0jA/MGkDyS+96JIlzLFsDAPwFIX3YBAgWIPJMc\n",
       "InxYJjD0g3wohKSfN0ERzgN6Px/kQxZk/+ceQshfYLQD0dwbkOSFuOEWcD1gggRwOFz+GAPfAw24\n",
       "/1bmQRhSGgKw+NNhUIovwIjYThWXAAxBAA29OSA7wr9HAAAAAElFTkSuQmCC\n",
       "\" style=\"display:inline;vertical-align:middle;\" /></a>, <a class=\"ProveItLink\" href=\"../__pv_it/demonstrations/9c6c52ba5891078b8630ed0cff8bb5268ec7f9270/expr.ipynb\"><img src=\"data:image/png;base64,iVBORw0KGgoAAAANSUhEUgAAAD8AAAAQBAMAAABTi7oPAAAAMFBMVEX///8AAAAAAAAAAAAAAAAA\n",
       "AAAAAAAAAAAAAAAAAAAAAAAAAAAAAAAAAAAAAAAAAAAv3aB7AAAAD3RSTlMAMs3vmVREEIndIqt2\n",
       "u2aBbGR5AAAACXBIWXMAAA7EAAAOxAGVKw4bAAAA6ElEQVQoz2NgwACPbO9r2j5AFmFUdkBRcWE1\n",
       "Q/bbAmQR/gBUBSsYeBk3MMjeBYIFYJH8AnQFLAsUkEU6IdTZmTMV4AouICtQAZNJxxEmcJdvgMty\n",
       "7Tj4FUyrI1khG7QAriB5Ae93EM0EF7qwWPPncbg8ux0DC9hmJiRHvitC2M/ygYGzAcQQngkEFyAK\n",
       "eOsQAcV8gaE+AcSoRTKB0eE6nFd/gOE9mMGJHA6OaxEKAhg2sYLcx3MASUEtD9wO3gOsU1jALFW4\n",
       "giUMfA+uwX2xp3H1QTCr+loBLDZvMdzVD8CM54ybMxUwBAFR3E8MfkUKVQAAAABJRU5ErkJggg==\n",
       "\" style=\"display:inline;vertical-align:middle;\" /></a>, <a class=\"ProveItLink\" href=\"../__pv_it/demonstrations/d550e8309ef79ca46e4c9fb5617a392ea678789b0/expr.ipynb\"><img src=\"data:image/png;base64,iVBORw0KGgoAAAANSUhEUgAAADEAAAAQBAMAAABNQoq8AAAAMFBMVEX///8AAAAAAAAAAAAAAAAA\n",
       "AAAAAAAAAAAAAAAAAAAAAAAAAAAAAAAAAAAAAAAAAAAv3aB7AAAAD3RSTlMAiXZmMiLdVJm77xBE\n",
       "zatgdeJyAAAACXBIWXMAAA7EAAAOxAGVKw4bAAAAvUlEQVQY02NgQAe2K+dfW2nAgA1MiGM4Z7kB\n",
       "q0wgAyfLAxwyHAEXkEU009IuwGUmIEmc1Ubo4dsNNk1I2QFIst5GMs2zNgDICCvgAGnlDYDLRF37\n",
       "BtafyMClAJJBcoHxXhDN8RvC90oDggkQGc7NIJ9yQV2xE0kPS8NsIL1fAcJnQ/ZPSySQ5gdqPACk\n",
       "mRSQZHYyAUWBDmMEuZrhOlwmgoHZYA6QIWgM8eK+ORtgYT2VYeb9AqRAODgtDTm0ALktNaaWdOV1\n",
       "AAAAAElFTkSuQmCC\n",
       "\" style=\"display:inline;vertical-align:middle;\" /></a> <a class=\"ProveItLink\" href=\"../__pv_it/demonstrations/5c6b8bc0cfca6aaa49dceb593d496a4184f111db0/proof.ipynb\" style=\"text-decoration: none\">&nbsp;&#x22A2;&nbsp;&nbsp;</a><a class=\"ProveItLink\" href=\"../__pv_it/demonstrations/f45b9837d454aa6030586376427d5f7c616feec00/expr.ipynb\"><img src=\"data:image/png;base64,iVBORw0KGgoAAAANSUhEUgAAAKcAAAAVBAMAAADROuOhAAAAMFBMVEX///8AAAAAAAAAAAAAAAAA\n",
       "AAAAAAAAAAAAAAAAAAAAAAAAAAAAAAAAAAAAAAAAAAAv3aB7AAAAD3RSTlMAInZUiRDNmWbv3US7\n",
       "qzJazP2FAAAACXBIWXMAAA7EAAAOxAGVKw4bAAAB+klEQVQ4y6WVTShEURTH/2M+njFk1qIeUVI0\n",
       "JMWGRKRotorGRixngYWUyUKSiJLPxRQlT8qS3bCxpEmyHBsLGx9DKSXnvjfzrvO8h8bZ3Pv+99zf\n",
       "/Tjn3AcgiJzN5TSQF8odGlAdBhrtxIHNPyDv1lBtP+IdspVH/rLRNHxh2wElxs4TM/0tgmnH0vkV\n",
       "+VFbqJ99uVXTnwvSGsyeJw6syoEmGfEmW6jw/xXqo22Oml/z49JnTGTGVbnKGb5kbYhDPRWLHFrW\n",
       "/kAuvVlOTWem016d0pc6CRa+cmhk2PvEBNcOphg0sIwLitJsJtw92cVLQkoCO6SsQ4lzaGsYK0wo\n",
       "aMsIWWh/DBPUNBtLTprx3IVfxRYlwKOYQ62m7W9q2iV1yf+FCdNG7kxq2oamHQpBzAcedPnaLCBF\n",
       "PzJB/QlEjvhOdxFIM2HbGqhteN/FzVmgxCKj40dULFmCnc4smRW8zxYoCfmP1LZYjh/R/c+oE8K1\n",
       "O8igH+LOvgpvFBoGTaNoqB5YsASqmKYdiZwoVN17Ct/pDc65QKHvY8c/Q0s0amSkTq2pMu40AU8K\n",
       "9yQk+8rqOGOwK2aphu6ZMIMOVt4mU8CBTH4jUTvmiF6QsqsoZ+FLRYnLjMv+rCxT/iR8ez9+elC+\n",
       "PUfSTvEPK3XQB/4DddqRS82dmWf/f/sE75B0km0YEX0AAAAASUVORK5CYII=\n",
       "\" style=\"display:inline;vertical-align:middle;\" /></a></span>"
      ],
      "text/plain": [
       "{a in RealNeg, b in RealNeg, d in RealNeg, c in Real} |- (a + b + c + d) < c"
      ]
     },
     "metadata": {},
     "output_type": "display_data"
    }
   ],
   "source": [
    "Add(a, b, c, d).bound_by_term(\n",
    "    2, assumptions=[InSet(a, RealNeg), InSet(b, RealNeg), InSet(c, Real), InSet(d, RealNeg)])"
   ]
  },
  {
   "cell_type": "code",
   "execution_count": 136,
   "metadata": {},
   "outputs": [
    {
     "data": {
      "text/html": [
       "<span style=\"font-size:20px;\"><a class=\"ProveItLink\" href=\"../__pv_it/demonstrations/5a49c1d91f28aca05c3a7748e24771596ea841e40/expr.ipynb\"><img src=\"data:image/png;base64,iVBORw0KGgoAAAANSUhEUgAAAEYAAAAUBAMAAADCRlZLAAAAMFBMVEX///8AAAAAAAAAAAAAAAAA\n",
       "AAAAAAAAAAAAAAAAAAAAAAAAAAAAAAAAAAAAAAAAAAAv3aB7AAAAD3RSTlMAELvv3c2ZVESJq3Yi\n",
       "MmZ3LnoBAAAACXBIWXMAAA7EAAAOxAGVKw4bAAABNklEQVQoz2NgwAUuNYCpmTsZcAPGSQVAkm8D\n",
       "hwIeRQybHjAwMF9g+INPDcOjDQznBRjMMSWeGumHGD2AsB8fuC/A4MfAqOyApkjhFEPXIwEQS1KD\n",
       "AajGmoGBNQFdzUkGJt4FQMaxtQwgu74zMPAXYKphOxDAwHAKqATq5n4BmDdcXALgahQYpHJAHO4N\n",
       "HEAjp0CVtG5EmMMluIBBEMKbuQ1oRtTu5SA2TyCSXZdKD6AE51cBeZAAK1xU4XDIl40oLmT/yMC8\n",
       "AaQGyc3vREHxpQQEEI1sAQz8E4D0ZRcgUICoYZJ7gGIOywSGfpDvhZDM4U1QRFEDDJ58kO9ZkMMn\n",
       "9xCqmguMdpCAQFIjxI1iGdcDJkhkhMPVHGPge6CB4veVeRCGlIYALN51GJTiC7Cmlk4VSFxgAAC+\n",
       "YVHp3c6+3AAAAABJRU5ErkJggg==\n",
       "\" style=\"display:inline;vertical-align:middle;\" /></a>, <a class=\"ProveItLink\" href=\"../__pv_it/demonstrations/84cbcf197510cc837caa3d8421cfcaf73391b1600/expr.ipynb\"><img src=\"data:image/png;base64,iVBORw0KGgoAAAANSUhEUgAAAEYAAAAUBAMAAADCRlZLAAAAMFBMVEX///8AAAAAAAAAAAAAAAAA\n",
       "AAAAAAAAAAAAAAAAAAAAAAAAAAAAAAAAAAAAAAAAAAAv3aB7AAAAD3RSTlMAiXZmMiLdVJm77xBE\n",
       "zatgdeJyAAAACXBIWXMAAA7EAAAOxAGVKw4bAAABH0lEQVQoz2NgwAU8D4ApQUUG3IBbsgBIMivw\n",
       "TMCjiEHTgIGBy4HhKz41DJYKDPEbGJZjStiunH9tpQGEbRXgv4EhGYvuCXEM5yw3gFgb5zAA1SzC\n",
       "piaQgZPlAZAR8YQBZNd37Go4Ai4wMMQBlaC7WTMt7QJczQSGfa0gDpMCzwOEkrPaCHP4dj9g2A3h\n",
       "CWqAnCak7AAkWW8j2eVZG4BifVgBBygkeeGiE6KufdNGdWIiA5cCSA2Sm433guJrJhBANHL8hsh4\n",
       "pQHBBIgazs0GKMZwQaNsJ5I5LA2zUdTsV4DQbMjh0xKJooYfaOwBcEAgqdnJhGIZ0FOMIL8zXIer\n",
       "iWBgNpiDYpCgMcSj++ZsgMX7VIaZ9wuwppaD0yBxgQEAtkNNaj8uTC4AAAAASUVORK5CYII=\n",
       "\" style=\"display:inline;vertical-align:middle;\" /></a>, <a class=\"ProveItLink\" href=\"../__pv_it/demonstrations/4ee54216f1cc7e85ae647f149b54da0bdd6d29820/expr.ipynb\"><img src=\"data:image/png;base64,iVBORw0KGgoAAAANSUhEUgAAAEgAAAAUBAMAAADcj2b4AAAAMFBMVEX///8AAAAAAAAAAAAAAAAA\n",
       "AAAAAAAAAAAAAAAAAAAAAAAAAAAAAAAAAAAAAAAAAAAv3aB7AAAAD3RSTlMAMs3vmVREEIndIqt2\n",
       "u2aBbGR5AAAACXBIWXMAAA7EAAAOxAGVKw4bAAABPklEQVQoz2NgwAlkE8BUxwkGPIC9NwBI8h1g\n",
       "u4BPFcPZBwwMzAIMv/AqYnh7gGF9AYMpFplHtvc1bR9A2I8XyBcwzAOxGJUdUFRdWM2Q/bYAxKq4\n",
       "xgBUZAMW5Q9AVbSCgZdxA5CxZCMDyLqvYNH8AnRFLAsUGBhWA9UgHN4J9czMmQpwRRcYqr1AHJ4D\n",
       "bBvAsipgMuk4wiTu8g0M5RBexxGgPVw7DoIt5VJHsk42aAGKC5IX8H4H0Uxw4QuLNX8eRw18OwYW\n",
       "sEuYkBz+rggUd3eBAKKT5QMDZwOIITwTCC5AFPHWPUAxifkCQz04umuRTGJ0uI6iqP4Aw3swgxM5\n",
       "nBzXoioKYNjEugAcIEiKanlQ7OM9wDqFBcxShStawsD34BqK7/Y0rj4IZlVfK4ClglsMd/UDsKee\n",
       "jJuQaMEAAOUAaDEE3xx/AAAAAElFTkSuQmCC\n",
       "\" style=\"display:inline;vertical-align:middle;\" /></a>, <a class=\"ProveItLink\" href=\"../../ordering/__pv_it/theorems/4aa8d696b1f407d6126de9f51a052e8d90e0848c0/expr.ipynb\"><img src=\"data:image/png;base64,iVBORw0KGgoAAAANSUhEUgAAADMAAAAQBAMAAABJt1qBAAAAMFBMVEX///8AAAAAAAAAAAAAAAAA\n",
       "AAAAAAAAAAAAAAAAAAAAAAAAAAAAAAAAAAAAAAAAAAAv3aB7AAAAD3RSTlMAIquJdkTvuxBmmd1U\n",
       "zTKBpmoTAAAACXBIWXMAAA7EAAAOxAGVKw4bAAAAzElEQVQY02NgwABz0+tvp09gwAoKhBiCpjdg\n",
       "lxJmYOdTwCXFJXABRch99+4LcKkCZJlYD4Qupg6QgYzKjg4gAcYbSAY+PysAZIQJsP8ACfAKwKXE\n",
       "bv8GmcCRycC1ASyF5IyZvSCa6wMDtwGI8Ww3EBRApNg7QV5mK2DoDwAJtCPp4ltQAaT7HRjmgwW4\n",
       "kf21ThwkdYBBlwfkAhYHJKl2FqCJ7A48u7jAInfgUlIMnBNKgS5UsRPyA4s0lTbAQr6Qofz+AeTg\n",
       "CK7ejRxyAISENKeL/c93AAAAAElFTkSuQmCC\n",
       "\" style=\"display:inline;vertical-align:middle;\" /></a> <a class=\"ProveItLink\" href=\"../__pv_it/demonstrations/b73aab432835b705d95af9059e8e06fc2be1b2000/proof.ipynb\" style=\"text-decoration: none\">&nbsp;&#x22A2;&nbsp;&nbsp;</a><a class=\"ProveItLink\" href=\"../__pv_it/demonstrations/d4e614594071453f102ac6d4db6d33c53bc7815c0/expr.ipynb\"><img src=\"data:image/png;base64,iVBORw0KGgoAAAANSUhEUgAAAKkAAAAVBAMAAADP89MSAAAAMFBMVEX///8AAAAAAAAAAAAAAAAA\n",
       "AAAAAAAAAAAAAAAAAAAAAAAAAAAAAAAAAAAAAAAAAAAv3aB7AAAAD3RSTlMAInZUiRDNmWbv3US7\n",
       "qzJazP2FAAAACXBIWXMAAA7EAAAOxAGVKw4bAAAB9klEQVQ4y2NgYBBgIBsw4pRhMiDfVG4FXDIm\n",
       "2ARjZhFh5rPpDBo4pFgTsAqnE+PUzwxsAWAzMtBl2BtQvNQA14AmAAc7EIq/MnAUgFkhi9AUcaLw\n",
       "mBXgGlAFEMAIzmJZwMAwFRo5SwJQFJlhNRWkgaCpbECHwvzOgWpsCYiQdRJCNYTtkq4BqqksSn2o\n",
       "pso6vQcq8YW7Jx2SQhmvKCpALOOeyHA+AMWQ+FTWjygCjIsZalBMheppQ4RyLtiInQI8wNBbDGRF\n",
       "NjBUobrVPoBhEooAlwNUAGYqUE8ZkLJEmJoDMpV1BgM7MPRmA5n1DAxLQMlh1aqVs1atugBkAjV8\n",
       "QRGoh/ilatWqmatWrUXoeQ8PgVxwCLB/ADkAbOocBtbfqG5dwsD9GUVgDnpsQfXshMXWcoi1nAcY\n",
       "4jeAQ4D1EwPHB1RTPzOwf0UWACpBNRWmxwotZcUrMPQDqUNAFZ8ZeBMMUUz9Bwo3ZIEfwIBDMRWq\n",
       "pwctF8QbMFxjFgAnjUMMVgUFKIbcYDiO6nhgAvBDCQGonhK0HMujwLycnYHhFZAZq/Lw0gMUQ2Ld\n",
       "G9CyhUdTAIqpUD2r0YuVS36yesAk8wBb3sItgJS3QMl4AfZyB1o+4CpM8JUuGGUTEjjIQAGQgXh7\n",
       "FRgg+zqGElNxOolRgXxDmXDUeQDwHH/IuqDTsgAAAABJRU5ErkJggg==\n",
       "\" style=\"display:inline;vertical-align:middle;\" /></a></span>"
      ],
      "text/plain": [
       "{b in RealNonNeg, c in RealNonNeg, d in RealNonNeg, a in Real} |- (a + b + c + d) >= a"
      ]
     },
     "metadata": {},
     "output_type": "display_data"
    }
   ],
   "source": [
    "Add(a, b, c, d).bound_by_term(\n",
    "    0, assumptions=[InSet(a, Real), InSet(b, RealNonNeg), InSet(c, RealNonNeg), InSet(d, RealNonNeg)])"
   ]
  },
  {
   "cell_type": "code",
   "execution_count": 137,
   "metadata": {},
   "outputs": [
    {
     "data": {
      "text/html": [
       "<span style=\"font-size:20px;\"><a class=\"ProveItLink\" href=\"../__pv_it/demonstrations/920e908aac1d27ffc5f20d5112616345b2d7d7690/expr.ipynb\"><img src=\"data:image/png;base64,iVBORw0KGgoAAAANSUhEUgAAAEgAAAAUBAMAAADcj2b4AAAAMFBMVEX///8AAAAAAAAAAAAAAAAA\n",
       "AAAAAAAAAAAAAAAAAAAAAAAAAAAAAAAAAAAAAAAAAAAv3aB7AAAAD3RSTlMAIquJdkTvuxBmmd1U\n",
       "zTKBpmoTAAAACXBIWXMAAA7EAAAOxAGVKw4bAAABKElEQVQoz2NgwAuOCzAYOzMQUOPAwOnAWoBX\n",
       "zfQJDAxsDxg+4lPjfgBIyDcw5GCRm5tefzsdaMYzkBqG9w0MO7GZUCDEEDS9gYGnuAGiKAWrImEG\n",
       "dj4FBgZWkCqgdX9wKOISuABk8GkJYDjcfffuC3BFYH8zKjWwOLAqIKmJ9UCYxNQBkWFkYDD2AlrK\n",
       "qOzoAObfQLLu+VkBFBeECbD/ANG8cOECsdu/PVDUcGQycG0AK0Jy+MxeIPW8HAggOrk+MHAbgBjP\n",
       "dgNBAUQRe+cEFJPYChj6A0CMdiST+BZUoCjqd2CYD2ZwI4fTOnFURQcYdHlANrM4IClqZ0Gxj92B\n",
       "ZxcXmHUHrkiKgXNCKYrvVOyE/MCsptIGWCooZCi/fwB7+gmuhkQLBgAANnJM+MW35nsAAAAASUVO\n",
       "RK5CYII=\n",
       "\" style=\"display:inline;vertical-align:middle;\" /></a>, <a class=\"ProveItLink\" href=\"../__pv_it/demonstrations/ef31ab76b1665d54d012852a7775bae2ca16d98e0/expr.ipynb\"><img src=\"data:image/png;base64,iVBORw0KGgoAAAANSUhEUgAAAEYAAAAUBAMAAADCRlZLAAAAMFBMVEX///8AAAAAAAAAAAAAAAAA\n",
       "AAAAAAAAAAAAAAAAAAAAAAAAAAAAAAAAAAAAAAAAAAAv3aB7AAAAD3RSTlMAELvv3c2ZVESJq3Yi\n",
       "MmZ3LnoBAAAACXBIWXMAAA7EAAAOxAGVKw4bAAABNElEQVQoz2NgwAeKDjDM3MmAX8kGBr4NHAr4\n",
       "lDx6wMDAfIHhDx4lmwqAxHkBBnNMqadG+iFGQBMug5Qw3Bdg8GNgVHZAU6RwiqHrkQADu6YARI01\n",
       "AwNrArqakwxMvAsYGDhAioB2fWdg4C/AVMN2IADI4F12AOrmfgGYG11cAuBqwB7mWSXAvYEDaOQU\n",
       "qJLWjQhzuAQXgJk8DAwztwHNiNq9HMwNRLLrUukBZNsZvwrIgwRY4aIKh0O+bERxIftHBuYNIDVI\n",
       "bn4nCqQuKQEBRCNbAAP/BCB92QUIFCBqmOQeoJjDMoGhH+R7ISRzeBMUUdQAgycf5HsW5PDJPYSq\n",
       "5gKjHYjm3oCkRogbxTKuB0yQyAiHqznGwPdAA8XvK/MgDCkNAVi86zAoxRdgTS+dKpC4wAAAd6lQ\n",
       "TF6JzTsAAAAASUVORK5CYII=\n",
       "\" style=\"display:inline;vertical-align:middle;\" /></a>, <a class=\"ProveItLink\" href=\"../__pv_it/demonstrations/2cd9230215602db1f965a727ff99482a36ab0fcd0/expr.ipynb\"><img src=\"data:image/png;base64,iVBORw0KGgoAAAANSUhEUgAAAEYAAAAUBAMAAADCRlZLAAAAMFBMVEX///8AAAAAAAAAAAAAAAAA\n",
       "AAAAAAAAAAAAAAAAAAAAAAAAAAAAAAAAAAAAAAAAAAAv3aB7AAAAD3RSTlMAiXZmMiLdVJm77xBE\n",
       "zatgdeJyAAAACXBIWXMAAA7EAAAOxAGVKw4bAAABHElEQVQoz2NgwAcqAxgEFRnwK1FgYFbgmYBP\n",
       "iaUBAwOXA8NXPEo0C4BE/AaG5ZhStivnX1sJNMELpITBfwNDMhb9E+IYzlluYGCfuAGiZhE2NYEM\n",
       "nCwPGBh4QIqAdn3HroYj4AKQwfIiAN3NmmlpF+BqwB5mfbeBSYHnAULJWW2EOXy7IRKsDAyCGiBn\n",
       "CSk7gLi3kezyrA1AsT6sgANkMC9cdELUtW/aqE5MZOBSAKlBcrPxXiDlORMIIBo5fkNkvNKAYAJE\n",
       "DedmAxRjuKBRthPJHJaG2Shq9itAaDbk8GmJRFHDDzT2AJBmUkBSs5MJxTKgpxhBfme4DlcTwcBs\n",
       "MAfFIEFjiEf3zdkAi/epDDPvF2BNLwenQeICAwAAyx1NX4PZSUAAAAAASUVORK5CYII=\n",
       "\" style=\"display:inline;vertical-align:middle;\" /></a>, <a class=\"ProveItLink\" href=\"../__pv_it/demonstrations/41c3ad9f29c40b69fd61c49f41684c1b813e9e850/expr.ipynb\"><img src=\"data:image/png;base64,iVBORw0KGgoAAAANSUhEUgAAADMAAAAQBAMAAABJt1qBAAAAMFBMVEX///8AAAAAAAAAAAAAAAAA\n",
       "AAAAAAAAAAAAAAAAAAAAAAAAAAAAAAAAAAAAAAAAAAAv3aB7AAAAD3RSTlMAMs3vmVREEIndIqt2\n",
       "u2aBbGR5AAAACXBIWXMAAA7EAAAOxAGVKw4bAAAA3klEQVQY02NgwACPbO9r2j6AsBmVHVDkLqxm\n",
       "yH5bAGHzB6BKrWDgZdwAYecXoEuxLFCAsDsh1NmZMxXgUhcgYipgMuk4Qhd3OchArh0Hv4IEuNSR\n",
       "DJQNWgBkJC/g/Q4SYFoAl1qs+RNkArsdAwvYBiYkZ7wrAtEsHxg4G0AM4ZlAcAEixVsH8jLzBYb6\n",
       "BJBALZIuRofrQLr+AMN7sAAnsr8c14KkAhg2sYJcwHMASaqWB2gi7wHWKSxgEVW41BIGvgfXgC7c\n",
       "07j6IFik+loBLORvMdzVRwnXjJszFZC4AHM6StvnxMwUAAAAAElFTkSuQmCC\n",
       "\" style=\"display:inline;vertical-align:middle;\" /></a> <a class=\"ProveItLink\" href=\"../__pv_it/demonstrations/b0b697b83302eb4b01af983f2504b84f8f01538c0/proof.ipynb\" style=\"text-decoration: none\">&nbsp;&#x22A2;&nbsp;&nbsp;</a><a class=\"ProveItLink\" href=\"../__pv_it/demonstrations/a95f111e995021fef170f67df057c5b1cb46122b0/expr.ipynb\"><img src=\"data:image/png;base64,iVBORw0KGgoAAAANSUhEUgAAAKgAAAAVBAMAAAAgMbgsAAAAMFBMVEX///8AAAAAAAAAAAAAAAAA\n",
       "AAAAAAAAAAAAAAAAAAAAAAAAAAAAAAAAAAAAAAAAAAAv3aB7AAAAD3RSTlMAInZUiRDNmWbv3US7\n",
       "qzJazP2FAAAACXBIWXMAAA7EAAAOxAGVKw4bAAAB/ElEQVQ4y6WVP0hCQRjAv7TX01R0C6LgFQVO\n",
       "8YoIcpJoCoo3BFEkGi0thYNEtOQUDUE0RH+HKMG6KBpr0tyaCotmWxpalKKWlr57T733PZ4geoN3\n",
       "/t6939199909AAhAw6Wl1gOH2rjUo9R4MGzDpMfTOpQf+xC0x1LMrn9bvJ6JfkObVv3jXBBYTpq7\n",
       "3ZVrv2oBYsWiv+cHXNXBXWlNYDd5ZahcZzQLEBMSYWzFGO1VdialmfCIrXQC6pDyGC0ZzekzEroE\n",
       "z4zXHoU6lntfLNKxYIFKu8eKGKNJvT1zUVXqmA91H/D+EIf0q0UDRNqpylki9ezCE654k7cjiyLO\n",
       "Oj5HxQHIp0TqxFgrRJqqgIp0NgmrWI3ytk9IDXwMIJegPYxgnbFDxq6xJcfAHybAWInM2OURY8/Y\n",
       "3OADARR13lFdvoFR6s5C9JbMFMfIqGbgzlo36gSkPx45y0YZGJcfVWCHbjam6YZmBlHFIpW+wFXC\n",
       "OkRTqoxz+IYKb06yL/4CxpkATPlbIv0GX2wQYJsmfxljTngVZ1omDl/SGycAt76VplQOQnHskxAJ\n",
       "vCLwJ+rzU90DNKVe1yzJP77VT2Ma6XvP4zBXlrNh4PaC3YmCek4UPzb2t5krbneh1AYecgHR60iU\n",
       "B2iidOm/c4yXGxOfb0Zaa0YtSuNOh/337R/Ru4Qp5PSbSgAAAABJRU5ErkJggg==\n",
       "\" style=\"display:inline;vertical-align:middle;\" /></a></span>"
      ],
      "text/plain": [
       "{a in RealNonPos, b in RealNonPos, c in RealNonPos, d in Real} |- (a + b + c + d) <= d"
      ]
     },
     "metadata": {},
     "output_type": "display_data"
    }
   ],
   "source": [
    "Add(a, b, c, d).bound_by_term(\n",
    "    3, assumptions=[InSet(a, RealNonPos), InSet(b, RealNonPos), InSet(c, RealNonPos), InSet(d, Real)])"
   ]
  },
  {
   "cell_type": "markdown",
   "metadata": {},
   "source": [
    "### Automation via canonical forms\n",
    "\n",
    "Two expressions that have the same canonical form can be proven to be equal via automation."
   ]
  },
  {
   "cell_type": "code",
   "execution_count": 138,
   "metadata": {},
   "outputs": [
    {
     "data": {
      "text/html": [
       "<strong id=\"defaults.assumptions\">defaults.assumptions:</strong> <a class=\"ProveItLink\" href=\"../__pv_it/demonstrations/5e6a8d593a318b4894710c3c488e6db56a18e50d0/expr.ipynb\"><img src=\"data:image/png;base64,iVBORw0KGgoAAAANSUhEUgAAARwAAAAZBAMAAAARYIzUAAAAMFBMVEX///8AAAAAAAAAAAAAAAAA\n",
       "AAAAAAAAAAAAAAAAAAAAAAAAAAAAAAAAAAAAAAAAAAAv3aB7AAAAD3RSTlMAZkRUmRDNuyLviTJ2\n",
       "3asqG0tJAAAACXBIWXMAAA7EAAAOxAGVKw4bAAADB0lEQVRIx82XTWgTQRTH/012s2mS2kRQD4p6\n",
       "UdCD5qJXc/EDPLgetAiSLNhCC1a31ZpeijmIRQ8lXuzFQgqCh+JNqF40HkSltQSsnxhMEVsoPdgW\n",
       "a7EKzsx+ZCbZ3a70koHs7sz77fzfzJt5swGwGQ1SUvQSTDWKO4P0crZRvEFTkVx6nAxd2ZVPPeu8\n",
       "7IPB1uHr3cNxv9Z3QDjvBCrhSmCmT2hqG1mfqS/6EA5sU61atCvlYcUUIBWc3SlAf4polpR+s63d\n",
       "B1Pvzm0o0YpdbU06WcdpFzkgo6J1t5s7J0Ji27IPxskdKafZ1YOqlzUUxzMBeFkua7aUIrwa+Gk+\n",
       "xAbK710Yu1iMIajb7Q89rZKON3wve19wI/+eFhQiJdOti6orY7tuMVRw05lqsNo9rbE8ZsktPP+K\n",
       "7jGEO7hARK90ChKhhSkW+JuqO4PI5HaBoYLjh3PGc3h+YtndagQgS277cgqLRChXdefu1y9inDMd\n",
       "8iq9d3ow4bc4LjDQb3X/tabcknG20o23hkuAfAcSi0SIW6ajWzRx4EdU3KN3zYNpKdQwZPwJK89S\n",
       "Gc3VykazhGmygn7Qfkh5UiZFNwPRlxCljgG/6QhGCPPBhTllTFaVIYLKaTPRWTLOVubwEp2dZh0Z\n",
       "tt3b+E38SBED8RkBGnlZ92CGzW51bvzRlJkqLRlnK5sdFqxMEbuMuebdkR7rNWlHYpEvuTPyH/Oh\n",
       "xGeWk4Pm4rNkHK1sVlcxR7gkZoN0FceKnJSsP7c5OgdrOMfmddKDWSS7Q2CoYFssDhmcTJ2V21mv\n",
       "Sb/F4LTE6heqUikkFCthyyvkMoOrxoZPujNkW40JDPQbaIr3IqNxMnVW+1TO07QtL4wNTbB6ule1\n",
       "TutfOeWafSyUSXP6vjEMeW6PKxMZ3aHyDD2z+5G9nGwhh7UtU2e1s3IFzcKZtX+grDlk2SC/YgMP\n",
       "zBT/P8whrN8DPbOcT/SaEtkw40eFnujRvA/u/EYZuejHnZ3k980HV9woE/P1dfqx8b6Vg4VGccdI\n",
       "iA3zP+so8A/ychhdJXBgpAAAAABJRU5ErkJggg==\n",
       "\" style=\"display:inline;vertical-align:middle;\" /></a><br>"
      ],
      "text/plain": [
       "<IPython.core.display.HTML object>"
      ]
     },
     "metadata": {},
     "output_type": "display_data"
    }
   ],
   "source": [
    "defaults.assumptions = [InSet(a, RealNeg), InSet(b, RealNeg), InSet(c, Real), InSet(d, RealNeg)]"
   ]
  },
  {
   "cell_type": "code",
   "execution_count": 139,
   "metadata": {},
   "outputs": [
    {
     "data": {
      "text/html": [
       "<a class=\"ProveItLink\" href=\"../__pv_it/demonstrations/c5f8e6cc7c0fbf981c02009c3147d805757f244f0/expr.ipynb\"><img src=\"data:image/png;base64,iVBORw0KGgoAAAANSUhEUgAAAMMAAAAlBAMAAAANTEAGAAAAMFBMVEX///8AAAAAAAAAAAAAAAAA\n",
       "AAAAAAAAAAAAAAAAAAAAAAAAAAAAAAAAAAAAAAAAAAAv3aB7AAAAD3RSTlMAMs3vmVREEIndIqt2\n",
       "u2aBbGR5AAAACXBIWXMAAA7EAAAOxAGVKw4bAAACRElEQVRIx7VXQUvcQBh9MYm6iVn32JsLLfRQ\n",
       "hIWeCraK5OLBdY89Cl4FQ//Arsde7Jauh6UHc+hFW0EEYRXBeCgF8ZDSP7CCtwrdCu1CkW4niRl3\n",
       "ZrOd8TBzyebN9/K+fPPNmyygclitswBqx4rvdNUqjL2AUVcrYXSQq6mV0ENUl9VKVAP8ULza1Qr2\n",
       "TV+2+wYhCaoTmA1DNp/Pg9CqREcdr388jX9pD+cEsWYNljtdoNRvpBUn2vep2WRFEPAK2MX4b3o/\n",
       "EuX0+D4Sa158GeXzokAZOAKesjld8lEYBpDx+rYcvJ9QoATMejjxmZx0T0TrG48EsWYROAROCkxO\n",
       "I21ZCat1+oubGj+/YAAjcYEtynlyfkCi9gS0DDdMp6xNLDJAkq92Qzvq2qv6yBcFtH435GKJdc2w\n",
       "QNxxuT1aiS70AGZJQOPd0Gg23z1rNqPHLMXr2AfosZctJi8QTRUxWYPWEdDQi0an3w1T9ef8usUS\n",
       "+eQlGkm+axWMlgS0DDe8nRq74WPjQr2E5d9tC5KyWRfQMtwwnfpLdg8DOOSq1TDhpRIFsoLIh/g/\n",
       "LcMN0ylS9HUGiNpz23UXUo7dduZoKw+nDbrh3RM3rjwG0EhJtnq9a8pplaPyLQtoWX46dJu+zQrf\n",
       "FtLwYf6rwL4ocJklURbSrBBvZM9uJ+OIs0Ihzfahl2Q/iEI5Wf4LpAv7j+yJ8mkQOhOz7Drsn1A9\n",
       "ch3lElOBcon3yhWMULnEd+UK5PtrR7HEA+CLWgWr4bqK/8LkyLlaxD9jY8ChRliE+wAAAABJRU5E\n",
       "rkJggg==\n",
       "\" style=\"display:inline;vertical-align:middle;\" /></a>"
      ],
      "text/plain": [
       "d + c + (2 * b) + c + (a / 2)"
      ]
     },
     "metadata": {},
     "output_type": "display_data"
    },
    {
     "data": {
      "text/html": [
       "<a class=\"ProveItLink\" href=\"../__pv_it/demonstrations/b22d601abed0857bd1267e51ca4dc8d1bc002b860/expr.ipynb\"><img src=\"data:image/png;base64,iVBORw0KGgoAAAANSUhEUgAAAP8AAAAyBAMAAABhUBCTAAAAMFBMVEX///8AAAAAAAAAAAAAAAAA\n",
       "AAAAAAAAAAAAAAAAAAAAAAAAAAAAAAAAAAAAAAAAAAAv3aB7AAAAD3RSTlMAInZUiRDNmWbv3US7\n",
       "qzJazP2FAAAACXBIWXMAAA7EAAAOxAGVKw4bAAAEFklEQVRYw71ZT0hUQRj/3v59u+v+yUsgCkYF\n",
       "Hoq2kCAvLRJ0Cj0JgbILIXko8CBuieCesqBwjSI0owULa8NcOkSd2rwEHWrzlF12g+jQRVdTBEGb\n",
       "P7vz3ryZ91oQZljf4/3mzcxvvvm+7zdvBGi8NFVkaH8vqCrfpWjkuarxwwn5cF2qCNxCfwOjWwLu\n",
       "KakZX5vGV5dIAF6oIRBstyNwTo0b3gE7Ar5hJQQe2BIIVVWMXxtZRgCuK3GBkj2B8yqcYK1iTyDZ\n",
       "roDAKtgTaMopIPDEgYCuwAsjOw4EvDsH6jsmJj1JENQm6ak6mOc/qdRmaFdcDGzRqZqyVJBWt2Wa\n",
       "+LkRAkdF6A2+dAIcHv1iyPssunQIrwaKTn33SLDfj/hndwK09DV+S+HKoPVLgVaEngIDr+LkKgR2\n",
       "0jHdThUk4Cb/2AfQCp5dHhwE8GcgHINAlmun14d7x9KAY6iz2lDGWMctHrkB8A1ghm84iWyLflsQ\n",
       "rvLtHtaezrBkF3ciwOzjNnh6cjyCpvi0F8q8ywd64SzyrByE9/h2Q1YCUxUnAtGSSKCmkXXEnQL4\n",
       "AVDm+/FlYIRm+nUGrZxEk71kJXAqJhu4rbuZEihaCbR1r8U5xJ8gtyWjcXdHBe+mhixLnBz0Vun2\n",
       "iyPQI9Ob0DR8JXggZSHAahjiI74Q2WCNW+L+IugpmCdPi2Zlu482OVYCEzIClzMwRg2YsxBANaM8\n",
       "EoybNBWXZxBoB3cWHhP7EBMm8TxQu7/IIvh5LJ+fyecptzI19T4u7N0J3A3plwSRP59/OZvPl4wa\n",
       "ExIgkTpOMvc2riLOHlmnBO7RboYJsRAKxPdWC5St2wP87hx4d00ETPNlNQwhBHRqgAWW2UJZsgQo\n",
       "SR0y0gDm1tXIEng3QF+XLoFRwy9BJ2gxbg/hzsEyuv0COF7vdQ+vH9wVnFASBd5NCKdOy5zQqGEE\n",
       "mtA9kgBXfSJRNEoB9CIOOG0hnc4Z31+f0HVECENZHliGrmES7QFrHmA1DMGfLy3p9Fi9LXI7TwUH\n",
       "5x9kHeRY9SnAwEUcL68aSkQDx36uEDxqzYSshiERNMWl/f1t1vjCbWT1YAGCsp61nJCKqdwIelZb\n",
       "0ISYCa3Ia1kmazHpjrn4M4IYUUTUM1sxsiKTMgJIoeCjBG8Vsz3lKepZA1JV80KJG2s4FvslL4uk\n",
       "gtRJRD1zUApLzBRtSGmi0rvE/sI01Yh6Jk1T0tIsQkca37nqbDe8JKmdU7Atr2+wTHpmLOWGug8T\n",
       "s54p/TCBm7X7uOz0SMWn2QeaiXTZgVBUxcdpkCYCk56ZduUqPs9pGJj1zCiL6o5ozHqm+IiG2pnT\n",
       "M5bP1BwU+hK2/qnmmC4ybVczr+agEk7Y4KqOaulhtaS8BVXlinxpBpURkP/Dou9gLvgPhKATSg0O\n",
       "tt4AAAAASUVORK5CYII=\n",
       "\" style=\"display:inline;vertical-align:middle;\" /></a>"
      ],
      "text/plain": [
       "(2 * b) + ((1 / 2) * a) + d + (2 * c)"
      ]
     },
     "metadata": {},
     "output_type": "display_data"
    }
   ],
   "source": [
    "expr1 = Add(d, c, Mult(two, b), c, frac(a, two))\n",
    "display(expr1)\n",
    "expr1.canonical_form()"
   ]
  },
  {
   "cell_type": "code",
   "execution_count": 140,
   "metadata": {},
   "outputs": [
    {
     "data": {
      "text/html": [
       "<a class=\"ProveItLink\" href=\"../__pv_it/demonstrations/976b0fa7e0df8b0960dc0442bf3b9577a5b01d530/expr.ipynb\"><img src=\"data:image/png;base64,iVBORw0KGgoAAAANSUhEUgAAAOcAAAAlBAMAAABL+uOsAAAAMFBMVEX///8AAAAAAAAAAAAAAAAA\n",
       "AAAAAAAAAAAAAAAAAAAAAAAAAAAAAAAAAAAAAAAAAAAv3aB7AAAAD3RSTlMAIquJdkTvuxBmmd1U\n",
       "zTKBpmoTAAAACXBIWXMAAA7EAAAOxAGVKw4bAAACpUlEQVRYw8WXv2sTYRjHv9e0yeVy+UERHLJE\n",
       "0k2lAbsVJMUOClIyiJCpcamIgxnE1eDgJsmqi9lK0qHBQocemIjdXIKDii7xP8hQoUNLfN/Lvfe+\n",
       "b+6OO0N9+yyB732f93Pvc+9zzwXwi+W1K1AdS4/wsqEa+rqFPeU73QcOlEMfQ/+jmqmfIDlWDj3D\n",
       "wvCTaupzfGm3L2QlzSvlAqyv7vxeGV0I9L5XevAPJX/R82iZb+0Qi1mC1v0u3/9iKzo17VPv7CDE\n",
       "8ga4ithMJ/wIh1VnAVV+bXv62lpqzViYgA5wDdiRV3wXDj2WAVwgse4UsTxjYQJqwLMGVuWzE29E\n",
       "hq7DC/0pM1wLE8whcB1YlR9qmtRBK26UI0C/bt6QBa24dSYzXAsTjJL90+errd0bIVYAHuYSp+FQ\n",
       "/bzRzElQnucwuIVB0/azzZy4i+UHRh3JIfQnMHrhUPMU8bJ0FyRvKEG5hUFT9slKFdzFDqjDrMEY\n",
       "I0WroP+yaNDyZyc0qGnPsnYs6wOt1BDZkiQ4eYZlHT61rIJr4QLiFbrI7rQM1GuXJjNGvI5mJXyn\n",
       "BLA9EAUhz9kYt7Cd2tDkdKNH0xzaUDU0y3gf4fSSHtxviIKQ5zC4RSrvZ2isZZq2bvbQHOCmmQuH\n",
       "jshDlKA8j0FdC4MmyG+mhEXWmFlysCpI1skF88gI3+lCK9GWBCHPYXALg9LmyHe77qcPObqxEW0k\n",
       "feX28laElil2ZgSex1rGtTBohrRFfzI5dxe79fYuKbr/ERInw3HQ20KYJeUg4aPf6nn/3YmToRo0\n",
       "AYQv1laQ4Ptu7/hDvZNhzkj4nFCt7u/1ToZ5v7bq0W6EhncyzBs+/042gt19qA9hMqgLYTKoi91L\n",
       "YCYvY6PCZFB3jITJoCzEyaAspMnwH+IvhCPBd3AAwhYAAAAASUVORK5CYII=\n",
       "\" style=\"display:inline;vertical-align:middle;\" /></a>"
      ],
      "text/plain": [
       "a - (a / 2) + b + d + b + (2 * c)"
      ]
     },
     "metadata": {},
     "output_type": "display_data"
    },
    {
     "data": {
      "text/html": [
       "<a class=\"ProveItLink\" href=\"../__pv_it/demonstrations/b22d601abed0857bd1267e51ca4dc8d1bc002b860/expr.ipynb\"><img src=\"data:image/png;base64,iVBORw0KGgoAAAANSUhEUgAAAP8AAAAyBAMAAABhUBCTAAAAMFBMVEX///8AAAAAAAAAAAAAAAAA\n",
       "AAAAAAAAAAAAAAAAAAAAAAAAAAAAAAAAAAAAAAAAAAAv3aB7AAAAD3RSTlMAInZUiRDNmWbv3US7\n",
       "qzJazP2FAAAACXBIWXMAAA7EAAAOxAGVKw4bAAAEFklEQVRYw71ZT0hUQRj/3v59u+v+yUsgCkYF\n",
       "Hoq2kCAvLRJ0Cj0JgbILIXko8CBuieCesqBwjSI0owULa8NcOkSd2rwEHWrzlF12g+jQRVdTBEGb\n",
       "P7vz3ryZ91oQZljf4/3mzcxvvvm+7zdvBGi8NFVkaH8vqCrfpWjkuarxwwn5cF2qCNxCfwOjWwLu\n",
       "KakZX5vGV5dIAF6oIRBstyNwTo0b3gE7Ar5hJQQe2BIIVVWMXxtZRgCuK3GBkj2B8yqcYK1iTyDZ\n",
       "roDAKtgTaMopIPDEgYCuwAsjOw4EvDsH6jsmJj1JENQm6ak6mOc/qdRmaFdcDGzRqZqyVJBWt2Wa\n",
       "+LkRAkdF6A2+dAIcHv1iyPssunQIrwaKTn33SLDfj/hndwK09DV+S+HKoPVLgVaEngIDr+LkKgR2\n",
       "0jHdThUk4Cb/2AfQCp5dHhwE8GcgHINAlmun14d7x9KAY6iz2lDGWMctHrkB8A1ghm84iWyLflsQ\n",
       "rvLtHtaezrBkF3ciwOzjNnh6cjyCpvi0F8q8ywd64SzyrByE9/h2Q1YCUxUnAtGSSKCmkXXEnQL4\n",
       "AVDm+/FlYIRm+nUGrZxEk71kJXAqJhu4rbuZEihaCbR1r8U5xJ8gtyWjcXdHBe+mhixLnBz0Vun2\n",
       "iyPQI9Ob0DR8JXggZSHAahjiI74Q2WCNW+L+IugpmCdPi2Zlu482OVYCEzIClzMwRg2YsxBANaM8\n",
       "EoybNBWXZxBoB3cWHhP7EBMm8TxQu7/IIvh5LJ+fyecptzI19T4u7N0J3A3plwSRP59/OZvPl4wa\n",
       "ExIgkTpOMvc2riLOHlmnBO7RboYJsRAKxPdWC5St2wP87hx4d00ETPNlNQwhBHRqgAWW2UJZsgQo\n",
       "SR0y0gDm1tXIEng3QF+XLoFRwy9BJ2gxbg/hzsEyuv0COF7vdQ+vH9wVnFASBd5NCKdOy5zQqGEE\n",
       "mtA9kgBXfSJRNEoB9CIOOG0hnc4Z31+f0HVECENZHliGrmES7QFrHmA1DMGfLy3p9Fi9LXI7TwUH\n",
       "5x9kHeRY9SnAwEUcL68aSkQDx36uEDxqzYSshiERNMWl/f1t1vjCbWT1YAGCsp61nJCKqdwIelZb\n",
       "0ISYCa3Ia1kmazHpjrn4M4IYUUTUM1sxsiKTMgJIoeCjBG8Vsz3lKepZA1JV80KJG2s4FvslL4uk\n",
       "gtRJRD1zUApLzBRtSGmi0rvE/sI01Yh6Jk1T0tIsQkca37nqbDe8JKmdU7Atr2+wTHpmLOWGug8T\n",
       "s54p/TCBm7X7uOz0SMWn2QeaiXTZgVBUxcdpkCYCk56ZduUqPs9pGJj1zCiL6o5ozHqm+IiG2pnT\n",
       "M5bP1BwU+hK2/qnmmC4ybVczr+agEk7Y4KqOaulhtaS8BVXlinxpBpURkP/Dou9gLvgPhKATSg0O\n",
       "tt4AAAAASUVORK5CYII=\n",
       "\" style=\"display:inline;vertical-align:middle;\" /></a>"
      ],
      "text/plain": [
       "(2 * b) + ((1 / 2) * a) + d + (2 * c)"
      ]
     },
     "metadata": {},
     "output_type": "display_data"
    }
   ],
   "source": [
    "expr2 = Add(a, Neg(frac(a, two)), b, d, b, Mult(two, c))\n",
    "display(expr2)\n",
    "expr2.canonical_form()"
   ]
  },
  {
   "cell_type": "code",
   "execution_count": 141,
   "metadata": {},
   "outputs": [
    {
     "data": {
      "text/html": [
       "<span style=\"font-size:20px;\"><a class=\"ProveItLink\" href=\"../__pv_it/demonstrations/d70a380bc05b43e909cb7708fe500d703d016a270/expr.ipynb\"><img src=\"data:image/png;base64,iVBORw0KGgoAAAANSUhEUgAAAD8AAAAQBAMAAABTi7oPAAAAMFBMVEX///8AAAAAAAAAAAAAAAAA\n",
       "AAAAAAAAAAAAAAAAAAAAAAAAAAAAAAAAAAAAAAAAAAAv3aB7AAAAD3RSTlMAIquJdkTvuxBmmd1U\n",
       "zTKBpmoTAAAACXBIWXMAAA7EAAAOxAGVKw4bAAAA00lEQVQoz2NgwABz0+tvp09gwAMKhBiCpjfg\n",
       "UyDMwM6nwPC8HAgEcCjgEriARcJ99+4LcAUFmPKxHggTmDoU4OKMyo4OYPoGkhXPzyIsDxNg/wGi\n",
       "eeFCBWK3f3vA5TkyGbg2gBUgOXJmL8Jmrg8M3AYgxrPdQFAAUcDeiQgotgKG/gAQox3JBL4FFXBe\n",
       "vwPDfDCDGzkc1okjFBxg0OUBuY/FAUlBOwvcDnYHnl1cYNYduAIpBs4JpXBfqNgJ+YFZTaUNsNgs\n",
       "ZCi/fwAzKIOrd2PGAACVlzd6VBBKDQAAAABJRU5ErkJggg==\n",
       "\" style=\"display:inline;vertical-align:middle;\" /></a>, <a class=\"ProveItLink\" href=\"../__pv_it/demonstrations/9c6c52ba5891078b8630ed0cff8bb5268ec7f9270/expr.ipynb\"><img src=\"data:image/png;base64,iVBORw0KGgoAAAANSUhEUgAAAD8AAAAQBAMAAABTi7oPAAAAMFBMVEX///8AAAAAAAAAAAAAAAAA\n",
       "AAAAAAAAAAAAAAAAAAAAAAAAAAAAAAAAAAAAAAAAAAAv3aB7AAAAD3RSTlMAMs3vmVREEIndIqt2\n",
       "u2aBbGR5AAAACXBIWXMAAA7EAAAOxAGVKw4bAAAA6ElEQVQoz2NgwACPbO9r2j5AFmFUdkBRcWE1\n",
       "Q/bbAmQR/gBUBSsYeBk3MMjeBYIFYJH8AnQFLAsUkEU6IdTZmTMV4AouICtQAZNJxxEmcJdvgMty\n",
       "7Tj4FUyrI1khG7QAriB5Ae93EM0EF7qwWPPncbg8ux0DC9hmJiRHvitC2M/ygYGzAcQQngkEFyAK\n",
       "eOsQAcV8gaE+AcSoRTKB0eE6nFd/gOE9mMGJHA6OaxEKAhg2sYLcx3MASUEtD9wO3gOsU1jALFW4\n",
       "giUMfA+uwX2xp3H1QTCr+loBLDZvMdzVD8CM54ybMxUwBAFR3E8MfkUKVQAAAABJRU5ErkJggg==\n",
       "\" style=\"display:inline;vertical-align:middle;\" /></a>, <a class=\"ProveItLink\" href=\"../__pv_it/demonstrations/d550e8309ef79ca46e4c9fb5617a392ea678789b0/expr.ipynb\"><img src=\"data:image/png;base64,iVBORw0KGgoAAAANSUhEUgAAADEAAAAQBAMAAABNQoq8AAAAMFBMVEX///8AAAAAAAAAAAAAAAAA\n",
       "AAAAAAAAAAAAAAAAAAAAAAAAAAAAAAAAAAAAAAAAAAAv3aB7AAAAD3RSTlMAiXZmMiLdVJm77xBE\n",
       "zatgdeJyAAAACXBIWXMAAA7EAAAOxAGVKw4bAAAAvUlEQVQY02NgQAe2K+dfW2nAgA1MiGM4Z7kB\n",
       "q0wgAyfLAxwyHAEXkEU009IuwGUmIEmc1Ubo4dsNNk1I2QFIst5GMs2zNgDICCvgAGnlDYDLRF37\n",
       "BtafyMClAJJBcoHxXhDN8RvC90oDggkQGc7NIJ9yQV2xE0kPS8NsIL1fAcJnQ/ZPSySQ5gdqPACk\n",
       "mRSQZHYyAUWBDmMEuZrhOlwmgoHZYA6QIWgM8eK+ORtgYT2VYeb9AqRAODgtDTm0ALktNaaWdOV1\n",
       "AAAAAElFTkSuQmCC\n",
       "\" style=\"display:inline;vertical-align:middle;\" /></a>, <a class=\"ProveItLink\" href=\"../__pv_it/demonstrations/885cc228aa47f4d61d07e1691f08d60a4b0eb17d0/expr.ipynb\"><img src=\"data:image/png;base64,iVBORw0KGgoAAAANSUhEUgAAAD0AAAAQBAMAAABXfmoyAAAAMFBMVEX///8AAAAAAAAAAAAAAAAA\n",
       "AAAAAAAAAAAAAAAAAAAAAAAAAAAAAAAAAAAAAAAAAAAv3aB7AAAAD3RSTlMAELvv3c2ZVESJq3Yi\n",
       "MmZ3LnoBAAAACXBIWXMAAA7EAAAOxAGVKw4bAAAA3klEQVQY02NgQAdPjfRDjB7AuYzKDmgKFE4x\n",
       "dD0SgHNZE9DlTzIw8S5guKQEBAcYGPgLMOXZDgTAuf0woza5uATA5RXg8lOgdOtGhH4uwQVw+ajd\n",
       "y0EUTyCS+ZdKD8Dd/1VAHsRhhYsoHA75shGunf0jA/MGkDyS+96JIlzLFsDAPwFIX3YBAgWIPJMc\n",
       "InxYJjD0g3wohKSfN0ERzgN6Px/kQxZk/+ceQshfYLQD0dwbkOSFuOEWcD1gggRwOFz+GAPfAw24\n",
       "/1bmQRhSGgKw+NNhUIovwIjYThWXAAxBAA29OSA7wr9HAAAAAElFTkSuQmCC\n",
       "\" style=\"display:inline;vertical-align:middle;\" /></a> <a class=\"ProveItLink\" href=\"../__pv_it/demonstrations/a9955ee366a4c2db3168c448a68bcb93384fd63e0/proof.ipynb\" style=\"text-decoration: none\">&nbsp;&#x22A2;&nbsp;&nbsp;</a><a class=\"ProveItLink\" href=\"../__pv_it/demonstrations/5bc8da1b2eecdd4218d46bca049b0acf7f6c79f50/expr.ipynb\"><img src=\"data:image/png;base64,iVBORw0KGgoAAAANSUhEUgAAAfUAAAAmBAMAAAAvux8XAAAAMFBMVEX///8AAAAAAAAAAAAAAAAA\n",
       "AAAAAAAAAAAAAAAAAAAAAAAAAAAAAAAAAAAAAAAAAAAv3aB7AAAAD3RSTlMAmVSrZs0y7xCJ3bsi\n",
       "RHYwvcNTAAAACXBIWXMAAA7EAAAOxAGVKw4bAAAGEUlEQVRo3sVZXWhcRRQ+d/9/k40miO2D+yLS\n",
       "UmIQ+xCV9JZafRA0YsBqX/ZFiiIkVbGltbogIlhkI2rBPMRNAmqC0i2CvkhdCVZIxeRB8M0sWmqF\n",
       "UpclLRGSxvm7c2fuzOy9JR0c0mxzZs4535k5M2e+WQAApwzW2ztVQ8cd8H80DudOu34Wp38BSH2h\n",
       "73SGtOLC8NWWTUwenMSo1dCLb8D3aJYP6HsP6sW/NfPrVlExOEeqVr2868IO9JHXbqzUca1O5jVw\n",
       "6lZRMTjP2U35ewDmcTjaKJOT+p3QhtykVVQUTsxucsFJyGwaT5X79TmXbkBtxS4sAsf2BN+ERBv/\n",
       "Z7mp6Z3XK9Va8JTlk57AGbe73TMdiI/uwTtMM8cpQ87VyrA31rS74TGchyMPb0YSBdt52F0q4XIy\n",
       "ofbFGwZgrdiMc1tCLJhEBM5aVDM9mpP693C1t/9+eaSCXXbUvl7XkCwjZxYv35bY/9AUXXJzwHBS\n",
       "Gyz9ni2FmNkF8MPANz6+b1EV6nGjw5hRRePR85q4C7YXjkp/nj4RHBCbhELf4YosvOTBoQcRXoOQ\n",
       "m21mFAoN+NQ/fpN4sg5Fj31AFd3KgZbUrU0gl55W7q4AFyG7GbBUZXDi3q1ulZ55vyopwpbWcSHe\n",
       "hLS/a8lk7Wd/GNX89o8KfW+Ue6EbWBvBcnFdlnSCQ/oBHgE4JltMlBictHehnqIfg0rasIt1Gv2s\n",
       "Q3yDd5DJSldD1IRaXlHiejVC7J6h1apqOVuXJMX14BC0Um9VYV9gax1ncHon5XwxBnEvypE6xG/w\n",
       "DjJZSTdy7OPqpvr3FmKf0lhm+8CTZOuBITGU1A8B7AvM+hiDQ4/awvDlTiCI6UsVyc7d5HeuzS08\n",
       "c+0B5G4oRE0o2uq5uOYTvdDYiTvJ8uI0m05Pkhz5UxY4dGHP+tay1x4D+JDBWS7LvMkLYqnsNCQ7\n",
       "Y3TxeEiZ69Vak5NAo5pQ0KhkxwJuc8DLHiN6IbFTd1KGcz1PUjuU2ZAng0x36qZf22dhJyOPCA6Z\n",
       "OsybAkHMQ7ol2Zklv+d8TOt4RGwiRE2IXbnYpToC0QuJnboTLSO9ATkTEDt4UxLkyMLm/DcCdIFH\n",
       "I+5jcFZXBN6E1uQYXROHpoGzsPD5iYUFrHyK/E0WtYbnCU0WUk+1Q9R6t3AjzpQiVdwUid7zJCHI\n",
       "jiE6bckQdSdaZnqCZICcIIIgTSryTpo3xBdJlHEGh6y7wJsGOZMK7LdTPuXPlegUrpahOBGiJqx7\n",
       "Sb/uHtHrvu7UnWjZ1/Mk81DsyLUJB5UY8q9WJ+nLiBi7wJsGOZMKBDFLr0k/C+UdzWKsHqLWbb+T\n",
       "2DnR6x47dSceAL6e56vj5Z2U87ug0PRJJW67GZxlV+ZNg/5Ne0Wycx79exHgCg+lgk4JSDSgu1q3\n",
       "y3thTSR6IbETd2Lsvp7n6wY+A0RBHn2mJqGnKhSWIsATDA5ZKYE3sSDQxs7KxQoVhsJMXx+/Vcfd\n",
       "fIlXEbOawJjLGm4vEL3usVN38mJ4ep7kQTgnD8EVeKmvzz9K0dY/w8o1gpMuybzJO7A/efSKbOcl\n",
       "lELoBOIPm5nhfpxVKyFqwt1GfYk5KhK9kBpH3ImWfT0u+cCVh6TQSp3d2rrul/ePnkQ58BWDkwxQ\n",
       "aOMFLafFtxSm5vMozfvUYVPAAmFUJlGdVfOQz7Scvs7gOIEnBSMpSWjzsj+Uy3AeNaVq32V6cRAI\n",
       "o0KKVJZkHrJf+xLqMjiJyE+V3+lBhjXOo77WcFjDfU4mjNt5mdI9EFz04GQ6Ue2cjmpbbpxHrWnf\n",
       "5fTvtBJh3M5rYcO4iBjOuchPXy1VdjVczeNRRU0wecP5LhPG7TQNS+ohK0HgPA7WG+FRWc1XXwlz\n",
       "YufadjEROLa/BPB4VFqT310us+Mtu6AInOyo7dgpj/pL1/WxUWnOMigK53XbsRMeBa9oZ990qXEa\n",
       "lkFROActe6E8qkebXsbvvw9YBsXgJF27biiP+klfDccMF1mBMFppDE7mS7snHeFRmVl973v6KREJ\n",
       "o43G4fxYtemG8qi8IbkK2i83JMJoo3E4hYrV4k541Pum7gvayiASRhuNwPkPyk7wqYGxi3EAAAAA\n",
       "SUVORK5CYII=\n",
       "\" style=\"display:inline;vertical-align:middle;\" /></a></span>"
      ],
      "text/plain": [
       "{a in RealNeg, d in RealNeg, c in Real, b in RealNeg} |- (d + c + (2 * b) + c + (a / 2)) = (a - (a / 2) + b + d + b + (2 * c))"
      ]
     },
     "metadata": {},
     "output_type": "display_data"
    }
   ],
   "source": [
    "Equals(expr1, expr2).prove()"
   ]
  },
  {
   "cell_type": "code",
   "execution_count": 142,
   "metadata": {},
   "outputs": [
    {
     "data": {
      "text/html": [
       "<span style=\"font-size:20px;\"><a class=\"ProveItLink\" href=\"../__pv_it/demonstrations/d550e8309ef79ca46e4c9fb5617a392ea678789b0/expr.ipynb\"><img src=\"data:image/png;base64,iVBORw0KGgoAAAANSUhEUgAAADEAAAAQBAMAAABNQoq8AAAAMFBMVEX///8AAAAAAAAAAAAAAAAA\n",
       "AAAAAAAAAAAAAAAAAAAAAAAAAAAAAAAAAAAAAAAAAAAv3aB7AAAAD3RSTlMAiXZmMiLdVJm77xBE\n",
       "zatgdeJyAAAACXBIWXMAAA7EAAAOxAGVKw4bAAAAvUlEQVQY02NgQAe2K+dfW2nAgA1MiGM4Z7kB\n",
       "q0wgAyfLAxwyHAEXkEU009IuwGUmIEmc1Ubo4dsNNk1I2QFIst5GMs2zNgDICCvgAGnlDYDLRF37\n",
       "BtafyMClAJJBcoHxXhDN8RvC90oDggkQGc7NIJ9yQV2xE0kPS8NsIL1fAcJnQ/ZPSySQ5gdqPACk\n",
       "mRSQZHYyAUWBDmMEuZrhOlwmgoHZYA6QIWgM8eK+ORtgYT2VYeb9AqRAODgtDTm0ALktNaaWdOV1\n",
       "AAAAAElFTkSuQmCC\n",
       "\" style=\"display:inline;vertical-align:middle;\" /></a>, <a class=\"ProveItLink\" href=\"../__pv_it/demonstrations/885cc228aa47f4d61d07e1691f08d60a4b0eb17d0/expr.ipynb\"><img src=\"data:image/png;base64,iVBORw0KGgoAAAANSUhEUgAAAD0AAAAQBAMAAABXfmoyAAAAMFBMVEX///8AAAAAAAAAAAAAAAAA\n",
       "AAAAAAAAAAAAAAAAAAAAAAAAAAAAAAAAAAAAAAAAAAAv3aB7AAAAD3RSTlMAELvv3c2ZVESJq3Yi\n",
       "MmZ3LnoBAAAACXBIWXMAAA7EAAAOxAGVKw4bAAAA3klEQVQY02NgQAdPjfRDjB7AuYzKDmgKFE4x\n",
       "dD0SgHNZE9DlTzIw8S5guKQEBAcYGPgLMOXZDgTAuf0woza5uATA5RXg8lOgdOtGhH4uwQVw+ajd\n",
       "y0EUTyCS+ZdKD8Dd/1VAHsRhhYsoHA75shGunf0jA/MGkDyS+96JIlzLFsDAPwFIX3YBAgWIPJMc\n",
       "InxYJjD0g3wohKSfN0ERzgN6Px/kQxZk/+ceQshfYLQD0dwbkOSFuOEWcD1gggRwOFz+GAPfAw24\n",
       "/1bmQRhSGgKw+NNhUIovwIjYThWXAAxBAA29OSA7wr9HAAAAAElFTkSuQmCC\n",
       "\" style=\"display:inline;vertical-align:middle;\" /></a>, <a class=\"ProveItLink\" href=\"../__pv_it/demonstrations/9c6c52ba5891078b8630ed0cff8bb5268ec7f9270/expr.ipynb\"><img src=\"data:image/png;base64,iVBORw0KGgoAAAANSUhEUgAAAD8AAAAQBAMAAABTi7oPAAAAMFBMVEX///8AAAAAAAAAAAAAAAAA\n",
       "AAAAAAAAAAAAAAAAAAAAAAAAAAAAAAAAAAAAAAAAAAAv3aB7AAAAD3RSTlMAMs3vmVREEIndIqt2\n",
       "u2aBbGR5AAAACXBIWXMAAA7EAAAOxAGVKw4bAAAA6ElEQVQoz2NgwACPbO9r2j5AFmFUdkBRcWE1\n",
       "Q/bbAmQR/gBUBSsYeBk3MMjeBYIFYJH8AnQFLAsUkEU6IdTZmTMV4AouICtQAZNJxxEmcJdvgMty\n",
       "7Tj4FUyrI1khG7QAriB5Ae93EM0EF7qwWPPncbg8ux0DC9hmJiRHvitC2M/ygYGzAcQQngkEFyAK\n",
       "eOsQAcV8gaE+AcSoRTKB0eE6nFd/gOE9mMGJHA6OaxEKAhg2sYLcx3MASUEtD9wO3gOsU1jALFW4\n",
       "giUMfA+uwX2xp3H1QTCr+loBLDZvMdzVD8CM54ybMxUwBAFR3E8MfkUKVQAAAABJRU5ErkJggg==\n",
       "\" style=\"display:inline;vertical-align:middle;\" /></a>, <a class=\"ProveItLink\" href=\"../__pv_it/demonstrations/d70a380bc05b43e909cb7708fe500d703d016a270/expr.ipynb\"><img src=\"data:image/png;base64,iVBORw0KGgoAAAANSUhEUgAAAD8AAAAQBAMAAABTi7oPAAAAMFBMVEX///8AAAAAAAAAAAAAAAAA\n",
       "AAAAAAAAAAAAAAAAAAAAAAAAAAAAAAAAAAAAAAAAAAAv3aB7AAAAD3RSTlMAIquJdkTvuxBmmd1U\n",
       "zTKBpmoTAAAACXBIWXMAAA7EAAAOxAGVKw4bAAAA00lEQVQoz2NgwABz0+tvp09gwAMKhBiCpjfg\n",
       "UyDMwM6nwPC8HAgEcCjgEriARcJ99+4LcAUFmPKxHggTmDoU4OKMyo4OYPoGkhXPzyIsDxNg/wGi\n",
       "eeFCBWK3f3vA5TkyGbg2gBUgOXJmL8Jmrg8M3AYgxrPdQFAAUcDeiQgotgKG/gAQox3JBL4FFXBe\n",
       "vwPDfDCDGzkc1okjFBxg0OUBuY/FAUlBOwvcDnYHnl1cYNYduAIpBs4JpXBfqNgJ+YFZTaUNsNgs\n",
       "ZCi/fwAzKIOrd2PGAACVlzd6VBBKDQAAAABJRU5ErkJggg==\n",
       "\" style=\"display:inline;vertical-align:middle;\" /></a> <a class=\"ProveItLink\" href=\"../__pv_it/demonstrations/d01ac5b9824f04262bc397cc8e1c3b5b5163a1ff0/proof.ipynb\" style=\"text-decoration: none\">&nbsp;&#x22A2;&nbsp;&nbsp;</a><a class=\"ProveItLink\" href=\"../__pv_it/demonstrations/693b670e8482a5946cd90b5fe968c7d6b56662d00/expr.ipynb\"><img src=\"data:image/png;base64,iVBORw0KGgoAAAANSUhEUgAAAR8AAAAVBAMAAACNlfesAAAAMFBMVEX///8AAAAAAAAAAAAAAAAA\n",
       "AAAAAAAAAAAAAAAAAAAAAAAAAAAAAAAAAAAAAAAAAAAv3aB7AAAAD3RSTlMAInZUiRDNmWbv3US7\n",
       "qzJazP2FAAAACXBIWXMAAA7EAAAOxAGVKw4bAAACsklEQVRIx6WWP2gTURzHf5fL9ZJc2gbHYuEq\n",
       "Cp1KLCLYqRSngpJVUJJF1EHIUES6NJM6CK2D+HcIKIgRITi1U2I3J0sNznFxcGkwxMXF33v3Lvd+\n",
       "v/ckkHvDXe77fvf5fd/v3p8AQAmmbo5NTMGTr2bK0wOC0NTS8D6JywVT9740TfHnMwth2ZQkb+5O\n",
       "fSLQ0jINjK1ZOmbqFnFoC6wYg4l48+XJQEu7CeA39E+gHsa4IOkNRlzBljMSKV4ncroPDLhvfnYd\n",
       "+BAgr3e6ak50KkzAlm1yRbSnnK94m9FtFRhw1TBEgPkKXLR1blqiVdWZoducr3i3aP4xcIKhmQZs\n",
       "ifvGcp903j3zjUUvbpyUuXIKr1c4X/Cc3sqQ5h8DY8HpLYUshTCRPZJDXCj7Xb3T+1Oplkh08AS+\n",
       "VmzKAzlvWrIdxSU7KBVHJH8CjA0lITFQmsjV4A3+fgv5UO90R0yAaw24B1zZxtslXiHkec/BrxFD\n",
       "CTB2iCFNCpQm3D14hQOMvOI437+U40Tc/LouwI54waaccEOCN4ACvg7brdaLVusjjIGaoEK0nNLE\n",
       "3EAA8l02wTC2Q2fMa/D+gk05sBhCXrVNKpQAlaCFKGBkItgTJa6GzBDuGjtkxni/ITcAm7LG51DE\n",
       "26WLKgEqQQtRwMiE24RDDMetqU0M9fEbk/RDmK2dtymPeYWQVy3Dd5fM4QQYG0pC4pzSRK4r1i3O\n",
       "7ixZ9rONYp1+oENYq9dtyhY3hLxi6L7zSf4EqAQtRAEjE/46/MKHy4/O0YL07rNd68bZH8d9m/KB\n",
       "G0Ked3x1cYUu+zEwFpKQGChNFNpQ6P9v17QKTHGMU5zwzI15wk69wI5HenLaBKb4Rj89bo2zdMLh\n",
       "Kgr5GVK006aUhueItX89jSFL9jS8olh4Tjg9IGP5/5yGtwTwD2Fhy9Kl/pMMAAAAAElFTkSuQmCC\n",
       "\" style=\"display:inline;vertical-align:middle;\" /></a></span>"
      ],
      "text/plain": [
       "{c in Real, b in RealNeg, d in RealNeg, a in RealNeg} |- (c + b + d + a) = (d + b + a + c)"
      ]
     },
     "metadata": {},
     "output_type": "display_data"
    }
   ],
   "source": [
    "Equals(Add(c, b, d, a), Add(d, b, a, c)).prove()"
   ]
  },
  {
   "cell_type": "code",
   "execution_count": 143,
   "metadata": {},
   "outputs": [
    {
     "data": {
      "text/html": [
       "<span style=\"font-size:20px;\"><a class=\"ProveItLink\" href=\"../__pv_it/demonstrations/9c6c52ba5891078b8630ed0cff8bb5268ec7f9270/expr.ipynb\"><img src=\"data:image/png;base64,iVBORw0KGgoAAAANSUhEUgAAAD8AAAAQBAMAAABTi7oPAAAAMFBMVEX///8AAAAAAAAAAAAAAAAA\n",
       "AAAAAAAAAAAAAAAAAAAAAAAAAAAAAAAAAAAAAAAAAAAv3aB7AAAAD3RSTlMAMs3vmVREEIndIqt2\n",
       "u2aBbGR5AAAACXBIWXMAAA7EAAAOxAGVKw4bAAAA6ElEQVQoz2NgwACPbO9r2j5AFmFUdkBRcWE1\n",
       "Q/bbAmQR/gBUBSsYeBk3MMjeBYIFYJH8AnQFLAsUkEU6IdTZmTMV4AouICtQAZNJxxEmcJdvgMty\n",
       "7Tj4FUyrI1khG7QAriB5Ae93EM0EF7qwWPPncbg8ux0DC9hmJiRHvitC2M/ygYGzAcQQngkEFyAK\n",
       "eOsQAcV8gaE+AcSoRTKB0eE6nFd/gOE9mMGJHA6OaxEKAhg2sYLcx3MASUEtD9wO3gOsU1jALFW4\n",
       "giUMfA+uwX2xp3H1QTCr+loBLDZvMdzVD8CM54ybMxUwBAFR3E8MfkUKVQAAAABJRU5ErkJggg==\n",
       "\" style=\"display:inline;vertical-align:middle;\" /></a>, <a class=\"ProveItLink\" href=\"../__pv_it/demonstrations/d550e8309ef79ca46e4c9fb5617a392ea678789b0/expr.ipynb\"><img src=\"data:image/png;base64,iVBORw0KGgoAAAANSUhEUgAAADEAAAAQBAMAAABNQoq8AAAAMFBMVEX///8AAAAAAAAAAAAAAAAA\n",
       "AAAAAAAAAAAAAAAAAAAAAAAAAAAAAAAAAAAAAAAAAAAv3aB7AAAAD3RSTlMAiXZmMiLdVJm77xBE\n",
       "zatgdeJyAAAACXBIWXMAAA7EAAAOxAGVKw4bAAAAvUlEQVQY02NgQAe2K+dfW2nAgA1MiGM4Z7kB\n",
       "q0wgAyfLAxwyHAEXkEU009IuwGUmIEmc1Ubo4dsNNk1I2QFIst5GMs2zNgDICCvgAGnlDYDLRF37\n",
       "BtafyMClAJJBcoHxXhDN8RvC90oDggkQGc7NIJ9yQV2xE0kPS8NsIL1fAcJnQ/ZPSySQ5gdqPACk\n",
       "mRSQZHYyAUWBDmMEuZrhOlwmgoHZYA6QIWgM8eK+ORtgYT2VYeb9AqRAODgtDTm0ALktNaaWdOV1\n",
       "AAAAAElFTkSuQmCC\n",
       "\" style=\"display:inline;vertical-align:middle;\" /></a>, <a class=\"ProveItLink\" href=\"../__pv_it/demonstrations/885cc228aa47f4d61d07e1691f08d60a4b0eb17d0/expr.ipynb\"><img src=\"data:image/png;base64,iVBORw0KGgoAAAANSUhEUgAAAD0AAAAQBAMAAABXfmoyAAAAMFBMVEX///8AAAAAAAAAAAAAAAAA\n",
       "AAAAAAAAAAAAAAAAAAAAAAAAAAAAAAAAAAAAAAAAAAAv3aB7AAAAD3RSTlMAELvv3c2ZVESJq3Yi\n",
       "MmZ3LnoBAAAACXBIWXMAAA7EAAAOxAGVKw4bAAAA3klEQVQY02NgQAdPjfRDjB7AuYzKDmgKFE4x\n",
       "dD0SgHNZE9DlTzIw8S5guKQEBAcYGPgLMOXZDgTAuf0woza5uATA5RXg8lOgdOtGhH4uwQVw+ajd\n",
       "y0EUTyCS+ZdKD8Dd/1VAHsRhhYsoHA75shGunf0jA/MGkDyS+96JIlzLFsDAPwFIX3YBAgWIPJMc\n",
       "InxYJjD0g3wohKSfN0ERzgN6Px/kQxZk/+ceQshfYLQD0dwbkOSFuOEWcD1gggRwOFz+GAPfAw24\n",
       "/1bmQRhSGgKw+NNhUIovwIjYThWXAAxBAA29OSA7wr9HAAAAAElFTkSuQmCC\n",
       "\" style=\"display:inline;vertical-align:middle;\" /></a>, <a class=\"ProveItLink\" href=\"../__pv_it/demonstrations/d70a380bc05b43e909cb7708fe500d703d016a270/expr.ipynb\"><img src=\"data:image/png;base64,iVBORw0KGgoAAAANSUhEUgAAAD8AAAAQBAMAAABTi7oPAAAAMFBMVEX///8AAAAAAAAAAAAAAAAA\n",
       "AAAAAAAAAAAAAAAAAAAAAAAAAAAAAAAAAAAAAAAAAAAv3aB7AAAAD3RSTlMAIquJdkTvuxBmmd1U\n",
       "zTKBpmoTAAAACXBIWXMAAA7EAAAOxAGVKw4bAAAA00lEQVQoz2NgwABz0+tvp09gwAMKhBiCpjfg\n",
       "UyDMwM6nwPC8HAgEcCjgEriARcJ99+4LcAUFmPKxHggTmDoU4OKMyo4OYPoGkhXPzyIsDxNg/wGi\n",
       "eeFCBWK3f3vA5TkyGbg2gBUgOXJmL8Jmrg8M3AYgxrPdQFAAUcDeiQgotgKG/gAQox3JBL4FFXBe\n",
       "vwPDfDCDGzkc1okjFBxg0OUBuY/FAUlBOwvcDnYHnl1cYNYduAIpBs4JpXBfqNgJ+YFZTaUNsNgs\n",
       "ZCi/fwAzKIOrd2PGAACVlzd6VBBKDQAAAABJRU5ErkJggg==\n",
       "\" style=\"display:inline;vertical-align:middle;\" /></a> <a class=\"ProveItLink\" href=\"../__pv_it/demonstrations/653f6bf17198f1d6b687cc2c4107c06884cbce6c0/proof.ipynb\" style=\"text-decoration: none\">&nbsp;&#x22A2;&nbsp;&nbsp;</a><a class=\"ProveItLink\" href=\"../__pv_it/demonstrations/b7c0ce64568e134cb86519db0a3606f925ca4d8a0/expr.ipynb\"><img src=\"data:image/png;base64,iVBORw0KGgoAAAANSUhEUgAAAR8AAAAVBAMAAACNlfesAAAAMFBMVEX///8AAAAAAAAAAAAAAAAA\n",
       "AAAAAAAAAAAAAAAAAAAAAAAAAAAAAAAAAAAAAAAAAAAv3aB7AAAAD3RSTlMAInZUiRDNmWbv3US7\n",
       "qzJazP2FAAAACXBIWXMAAA7EAAAOxAGVKw4bAAACxElEQVRIx6WWQWgTQRSGX7LZbDZJm+CxWNiK\n",
       "Qi+WKKXQXgxFEApKrkIleynVg5CDiPTSPVkPQqsg1Ooh0IIYEYInPTX2Ip4sMYjHePViNMaLIM7s\n",
       "zDb73kzSkp3D7vBn5vvfvJk3GwDIw8gtphMj8Pyp8cLogIyjalF4b/hjlj/Gb1WGD13e0crTqjQL\n",
       "5sfqCcx1lnEPwHT9bu64da1q1WSJKpyXrJwkHTrLFQDL83v7gvxW2RRPdrpU8FtKsea8IysFF1ak\n",
       "JQJuANiityReFynAkKck0yOCbE/oBLtvpcGFlSUN0C7BHNqRgQElqvqAbtIJc32rYwJa1QCTHtzh\n",
       "1dua6ZLxi9NtNDzZPF/A8ycXT7HnVerIebfPfMa4WGvKoUpgeQTklolDf4nv8tkeHj9RsBpoeHnF\n",
       "/In38BF8Yjtz3z83Nb8dypSZf0rlPMKpBn0lAPqWKRd2GWAbLBeP3wPbQcMvleAxEq57sMZe8zRD\n",
       "jGf0gtkSxw2qQBUXB+RbGlvwjC2wA+kik9Zqtae12mu+ZBE9W/nLHbHyuwC/kbDOEQA/aECc50Ku\n",
       "iHCqgVT6QGE53uEAuwHlOlqA3aCHeg8yXSQ8B/MvT70mIGa1XyA41SBQJFBYZrZ4issObOIiKDs0\n",
       "oG6QNSmYvyDVYe8FeoZ2/WtovURwqsEmdhCWRhUOWL8AXwx0CnPssqqjgP7xQxMOqAtj7gWAhzRD\n",
       "jJdrsyOC7BWDkCKBwjLV4HWbdYwXFiKw857AZf8VPuCUHcBCpSKqHDXGG/OyFYRTDUKKBApLqwjf\n",
       "2Wqb1yZncJVdfnAO+9+44hHh7Lcmi/kVDYjzWvfwBqkGISUA+pbpOqTbAy5S7cVMhZjyXUe8oTe1\n",
       "DjhBP4+DP656waI/Y97Qj6sOyFP7HiK006oUhRfjtb8cJSCNexRelhdezBkdENf8f47CmwL4D/51\n",
       "ysT1x4uiAAAAAElFTkSuQmCC\n",
       "\" style=\"display:inline;vertical-align:middle;\" /></a></span>"
      ],
      "text/plain": [
       "{d in RealNeg, c in Real, b in RealNeg, a in RealNeg} |- (d + c + b + a) = (b + a + d + c)"
      ]
     },
     "metadata": {},
     "output_type": "display_data"
    }
   ],
   "source": [
    "Equals(Add(d, c, b, a), Add(b, a, d, c)).prove()"
   ]
  },
  {
   "cell_type": "markdown",
   "metadata": {},
   "source": [
    "This even works in a nested manner"
   ]
  },
  {
   "cell_type": "code",
   "execution_count": 144,
   "metadata": {},
   "outputs": [
    {
     "data": {
      "text/html": [
       "<span style=\"font-size:20px;\"><a class=\"ProveItLink\" href=\"../__pv_it/demonstrations/885cc228aa47f4d61d07e1691f08d60a4b0eb17d0/expr.ipynb\"><img src=\"data:image/png;base64,iVBORw0KGgoAAAANSUhEUgAAAD0AAAAQBAMAAABXfmoyAAAAMFBMVEX///8AAAAAAAAAAAAAAAAA\n",
       "AAAAAAAAAAAAAAAAAAAAAAAAAAAAAAAAAAAAAAAAAAAv3aB7AAAAD3RSTlMAELvv3c2ZVESJq3Yi\n",
       "MmZ3LnoBAAAACXBIWXMAAA7EAAAOxAGVKw4bAAAA3klEQVQY02NgQAdPjfRDjB7AuYzKDmgKFE4x\n",
       "dD0SgHNZE9DlTzIw8S5guKQEBAcYGPgLMOXZDgTAuf0woza5uATA5RXg8lOgdOtGhH4uwQVw+ajd\n",
       "y0EUTyCS+ZdKD8Dd/1VAHsRhhYsoHA75shGunf0jA/MGkDyS+96JIlzLFsDAPwFIX3YBAgWIPJMc\n",
       "InxYJjD0g3wohKSfN0ERzgN6Px/kQxZk/+ceQshfYLQD0dwbkOSFuOEWcD1gggRwOFz+GAPfAw24\n",
       "/1bmQRhSGgKw+NNhUIovwIjYThWXAAxBAA29OSA7wr9HAAAAAElFTkSuQmCC\n",
       "\" style=\"display:inline;vertical-align:middle;\" /></a>, <a class=\"ProveItLink\" href=\"../__pv_it/demonstrations/d70a380bc05b43e909cb7708fe500d703d016a270/expr.ipynb\"><img src=\"data:image/png;base64,iVBORw0KGgoAAAANSUhEUgAAAD8AAAAQBAMAAABTi7oPAAAAMFBMVEX///8AAAAAAAAAAAAAAAAA\n",
       "AAAAAAAAAAAAAAAAAAAAAAAAAAAAAAAAAAAAAAAAAAAv3aB7AAAAD3RSTlMAIquJdkTvuxBmmd1U\n",
       "zTKBpmoTAAAACXBIWXMAAA7EAAAOxAGVKw4bAAAA00lEQVQoz2NgwABz0+tvp09gwAMKhBiCpjfg\n",
       "UyDMwM6nwPC8HAgEcCjgEriARcJ99+4LcAUFmPKxHggTmDoU4OKMyo4OYPoGkhXPzyIsDxNg/wGi\n",
       "eeFCBWK3f3vA5TkyGbg2gBUgOXJmL8Jmrg8M3AYgxrPdQFAAUcDeiQgotgKG/gAQox3JBL4FFXBe\n",
       "vwPDfDCDGzkc1okjFBxg0OUBuY/FAUlBOwvcDnYHnl1cYNYduAIpBs4JpXBfqNgJ+YFZTaUNsNgs\n",
       "ZCi/fwAzKIOrd2PGAACVlzd6VBBKDQAAAABJRU5ErkJggg==\n",
       "\" style=\"display:inline;vertical-align:middle;\" /></a>, <a class=\"ProveItLink\" href=\"../__pv_it/demonstrations/9c6c52ba5891078b8630ed0cff8bb5268ec7f9270/expr.ipynb\"><img src=\"data:image/png;base64,iVBORw0KGgoAAAANSUhEUgAAAD8AAAAQBAMAAABTi7oPAAAAMFBMVEX///8AAAAAAAAAAAAAAAAA\n",
       "AAAAAAAAAAAAAAAAAAAAAAAAAAAAAAAAAAAAAAAAAAAv3aB7AAAAD3RSTlMAMs3vmVREEIndIqt2\n",
       "u2aBbGR5AAAACXBIWXMAAA7EAAAOxAGVKw4bAAAA6ElEQVQoz2NgwACPbO9r2j5AFmFUdkBRcWE1\n",
       "Q/bbAmQR/gBUBSsYeBk3MMjeBYIFYJH8AnQFLAsUkEU6IdTZmTMV4AouICtQAZNJxxEmcJdvgMty\n",
       "7Tj4FUyrI1khG7QAriB5Ae93EM0EF7qwWPPncbg8ux0DC9hmJiRHvitC2M/ygYGzAcQQngkEFyAK\n",
       "eOsQAcV8gaE+AcSoRTKB0eE6nFd/gOE9mMGJHA6OaxEKAhg2sYLcx3MASUEtD9wO3gOsU1jALFW4\n",
       "giUMfA+uwX2xp3H1QTCr+loBLDZvMdzVD8CM54ybMxUwBAFR3E8MfkUKVQAAAABJRU5ErkJggg==\n",
       "\" style=\"display:inline;vertical-align:middle;\" /></a>, <a class=\"ProveItLink\" href=\"../__pv_it/demonstrations/d550e8309ef79ca46e4c9fb5617a392ea678789b0/expr.ipynb\"><img src=\"data:image/png;base64,iVBORw0KGgoAAAANSUhEUgAAADEAAAAQBAMAAABNQoq8AAAAMFBMVEX///8AAAAAAAAAAAAAAAAA\n",
       "AAAAAAAAAAAAAAAAAAAAAAAAAAAAAAAAAAAAAAAAAAAv3aB7AAAAD3RSTlMAiXZmMiLdVJm77xBE\n",
       "zatgdeJyAAAACXBIWXMAAA7EAAAOxAGVKw4bAAAAvUlEQVQY02NgQAe2K+dfW2nAgA1MiGM4Z7kB\n",
       "q0wgAyfLAxwyHAEXkEU009IuwGUmIEmc1Ubo4dsNNk1I2QFIst5GMs2zNgDICCvgAGnlDYDLRF37\n",
       "BtafyMClAJJBcoHxXhDN8RvC90oDggkQGc7NIJ9yQV2xE0kPS8NsIL1fAcJnQ/ZPSySQ5gdqPACk\n",
       "mRSQZHYyAUWBDmMEuZrhOlwmgoHZYA6QIWgM8eK+ORtgYT2VYeb9AqRAODgtDTm0ALktNaaWdOV1\n",
       "AAAAAElFTkSuQmCC\n",
       "\" style=\"display:inline;vertical-align:middle;\" /></a> <a class=\"ProveItLink\" href=\"../__pv_it/demonstrations/a25bb1e5111610426f70838bb70974b792e060da0/proof.ipynb\" style=\"text-decoration: none\">&nbsp;&#x22A2;&nbsp;&nbsp;</a><a class=\"ProveItLink\" href=\"../__pv_it/demonstrations/98fb936110190ae167dff50a73ddea1aa5b02eea0/expr.ipynb\"><img src=\"data:image/png;base64,iVBORw0KGgoAAAANSUhEUgAAAXQAAAAVBAMAAACkkggrAAAAMFBMVEX///8AAAAAAAAAAAAAAAAA\n",
       "AAAAAAAAAAAAAAAAAAAAAAAAAAAAAAAAAAAAAAAAAAAv3aB7AAAAD3RSTlMAInZUiRDNmWbv3US7\n",
       "qzJazP2FAAAACXBIWXMAAA7EAAAOxAGVKw4bAAADP0lEQVRIx51XMUhbQRj+Y3zGaDTSUSokpQUn\n",
       "sY8QqJNIJ8HiWrDoUmqHQgYHcTFT7VBoOxTa2kGwIE0piJOdjG6dKlY629WlUrFLl/737u7d/f/d\n",
       "o5cc/C/Jl//7v+/9d7l3AYARkMGGBwobOR8YWC3YRyLSMymDj71urQ9WXMwnAGFpe9kitSSir1u8\n",
       "TNPJH37cCDEw7kK1MHqNfkxMeXwokWhJRp9T9qGbXw5qXt88R4RAAF2lWZUafh9SpIA3JcItu6Hn\n",
       "xtz2wTxHwAP0O10oNG36Pv96n6axVm1kiRTxpWjKWqOokLxZu7MO4gVeO6UIPeZfxzQNaKs8PqRI\n",
       "Ha91U9aekqZDeRRmfZmXqhN6pvU6/2I2w4cUWcGriCc3vpud57SKab3HlJI7nbhkRWbGzygwNnMN\n",
       "r3Pcwgqhp9Y1PSZpVWMxMcV9pCLLskvRn/nFdAf9MlK6wtW0RCkStZHRyUKbAIOv4BtO79Nk4baS\n",
       "caynwdC105QeW7Nl0rQp7iMV2cYPGPkrKOq7it5AAXel/EtCESgr8kFzNHC/CWv4cod3fZvQtdOU\n",
       "HtO0dJuWppgPI7KJVwwsW54W9yn6dQED+H74Qvbu47ukdwq1EdkeA8C68APwi1vfNPS1Vuttq/UZ\n",
       "UroB7DRpJDHFfBgRZR3zD8ROtCN+0m1Y3MWJoXerUIqwn+l7iP6KSfdYt+iqyYYee9KEEWmK+TAi\n",
       "asHgDrqut8fFCrwQqVuEolCKUCD6Df2iRVN8rW8TegyMbi0YK02bYj6MyBFeMcpnuMq09Un4kcef\n",
       "R5salaiFlHHX2iVVL2Fo6TbAc971I0JXTg099qZpU8yHEZmTm9lQs5Q+A0uV/E4B2zZNKAq1ENwf\n",
       "eunmeARTjYbc5MiYI3Tl1NBjb5o2xXwYkXP8gBGdrpqjxMm9sQlcaXRlK9QucvfZLQo8uPnzBN18\n",
       "4tbPCV07TemxN02bYj6MyABeB858B5xRyHh2/u9pmuOHUCaQ+TTtxAeKiLNSv/cwuuo99gQcv5xT\n",
       "FBPIPH514kOIHIIM539Iu9v/Gtdd6DCM2YEPIbKggo9S1//wPAYWwpgd+BAiuYoMPqrdOu/xaPkE\n",
       "ICytmiXyD8OpC57sz1cCAAAAAElFTkSuQmCC\n",
       "\" style=\"display:inline;vertical-align:middle;\" /></a></span>"
      ],
      "text/plain": [
       "{b in RealNeg, a in RealNeg, d in RealNeg, c in Real} |- ((b * a) + d + c + a) = (d + c + (a * b) + a)"
      ]
     },
     "metadata": {},
     "output_type": "display_data"
    }
   ],
   "source": [
    "Equals(Add(Mult(b, a), d, c, a), Add(d, c, Mult(a, b), a)).prove()"
   ]
  },
  {
   "cell_type": "code",
   "execution_count": 145,
   "metadata": {},
   "outputs": [],
   "source": [
    "%end demonstrations"
   ]
  },
  {
   "cell_type": "code",
   "execution_count": null,
   "metadata": {},
   "outputs": [],
   "source": []
  }
 ],
 "metadata": {
  "kernelspec": {
   "display_name": "Python 3",
   "language": "python",
   "name": "python3"
  }
 },
 "nbformat": 4,
 "nbformat_minor": 0
}