{
 "cells": [
  {
   "cell_type": "markdown",
   "metadata": {},
   "source": [
    "Demonstrations for the theory of <a class=\"ProveItLink\" href=\"theory.ipynb\">proveit.numbers.addition</a>\n",
    "========"
   ]
  },
  {
   "cell_type": "code",
   "execution_count": null,
   "metadata": {},
   "outputs": [],
   "source": [
    "import proveit\n",
    "from proveit import defaults\n",
    "from proveit import ExprTuple, ExprRange\n",
    "from proveit import a, b, c, d, e, f, g, k, l, m, n, x, y, A, B, C\n",
    "from proveit.core_expr_types import a_k\n",
    "from proveit.logic import Forall, Equals, InSet\n",
    "from proveit.numbers import Less, greater, LessEq, greater_eq, Neg, Exp, Mult, frac\n",
    "from proveit.numbers import zero, one,two, three,four, five, six, seven, eight\n",
    "from proveit.numbers import Integer, Natural, NaturalPos, Real, RealPos, RealNeg, RealPos, RealNonNeg, RealNonPos\n",
    "from proveit.numbers import Add, Complex, Neg, subtract, num\n",
    "%begin demonstrations"
   ]
  },
  {
   "cell_type": "markdown",
   "metadata": {},
   "source": [
    "### `quick_simplification` method\n",
    "\n",
    "The `quick_simplification` method performs simplifications with respect to combining integers and expanding expression ranges in a quick-n-dirty manner that is appropriate for displaying purposes (e.g, expression ranges) where an actual proof is not necessary."
   ]
  },
  {
   "cell_type": "code",
   "execution_count": null,
   "metadata": {},
   "outputs": [],
   "source": [
    "Add(Add(b, num(5)), num(4)).quick_simplification()"
   ]
  },
  {
   "cell_type": "code",
   "execution_count": null,
   "metadata": {},
   "outputs": [],
   "source": [
    "Add(num(5), num(5)).quick_simplification()"
   ]
  },
  {
   "cell_type": "code",
   "execution_count": null,
   "metadata": {},
   "outputs": [],
   "source": [
    "Add(num(5), num(-5)).quick_simplification()"
   ]
  },
  {
   "cell_type": "code",
   "execution_count": null,
   "metadata": {},
   "outputs": [],
   "source": [
    "Add(b, num(5)).quick_simplification()"
   ]
  },
  {
   "cell_type": "code",
   "execution_count": null,
   "metadata": {},
   "outputs": [],
   "source": [
    "Add(b, num(0)).quick_simplification()"
   ]
  },
  {
   "cell_type": "code",
   "execution_count": null,
   "metadata": {},
   "outputs": [],
   "source": [
    "Add(b, Add(Neg(c), num(-5))).quick_simplification()"
   ]
  },
  {
   "cell_type": "code",
   "execution_count": null,
   "metadata": {},
   "outputs": [],
   "source": [
    "Add(Add(b, num(2)), Add(c, num(5))).quick_simplification()"
   ]
  },
  {
   "cell_type": "code",
   "execution_count": null,
   "metadata": {},
   "outputs": [],
   "source": [
    "Add(Add(b, num(2)), Add(Neg(b), num(2))).quick_simplification()"
   ]
  },
  {
   "cell_type": "code",
   "execution_count": null,
   "metadata": {},
   "outputs": [],
   "source": [
    "Add(Add(b, num(5)), Add(c, num(-5))).quick_simplification()"
   ]
  },
  {
   "cell_type": "code",
   "execution_count": null,
   "metadata": {},
   "outputs": [],
   "source": [
    "Add(Add(b, num(5)), Add(Neg(c), num(5))).quick_simplification()"
   ]
  },
  {
   "cell_type": "code",
   "execution_count": null,
   "metadata": {},
   "outputs": [],
   "source": [
    "Add(num(-5), Add(c, num(5))).quick_simplification()"
   ]
  },
  {
   "cell_type": "code",
   "execution_count": null,
   "metadata": {},
   "outputs": [],
   "source": [
    "Add(num(-5), num(5)).quick_simplification()"
   ]
  },
  {
   "cell_type": "markdown",
   "metadata": {},
   "source": [
    "Can also handle ranges of terms."
   ]
  },
  {
   "cell_type": "code",
   "execution_count": null,
   "metadata": {},
   "outputs": [],
   "source": [
    "Add(Add(ExprRange(k, a_k, one, n), b), \n",
    "    Add(Neg(c), Neg(Add(ExprRange(k, a_k, one, n))))).quick_simplification()"
   ]
  },
  {
   "cell_type": "code",
   "execution_count": null,
   "metadata": {},
   "outputs": [],
   "source": [
    "Add(Add(ExprRange(k, a_k, one, n), b), \n",
    "    Add(c, ExprRange(k, a_k, one, n))).quick_simplification()"
   ]
  },
  {
   "cell_type": "code",
   "execution_count": null,
   "metadata": {},
   "outputs": [],
   "source": [
    "Add(Add(ExprRange(k, a_k, one, n), b), \n",
    "    Add(Neg(c), Neg(Add(ExprRange(k, a_k, one, subtract(n, two)))))).quick_simplification()"
   ]
  },
  {
   "cell_type": "code",
   "execution_count": null,
   "metadata": {},
   "outputs": [],
   "source": [
    "Add(Add(ExprRange(k, a_k, one, n), b), \n",
    "    Add(Neg(c), Add(ExprRange(k, a_k, one, subtract(n, two))))).quick_simplification()"
   ]
  },
  {
   "cell_type": "code",
   "execution_count": null,
   "metadata": {},
   "outputs": [],
   "source": [
    "Add(Add(ExprRange(k, a_k, one, n), b), \n",
    "    Add(Neg(c), Neg(Add(ExprRange(k, a_k, three, subtract(n, two)))))).quick_simplification()"
   ]
  },
  {
   "cell_type": "code",
   "execution_count": null,
   "metadata": {},
   "outputs": [],
   "source": [
    "Add(Add(ExprRange(k, a_k, one, n), b), \n",
    "    Add(Neg(c), Add(ExprRange(k, a_k, three, subtract(n, two))))).quick_simplification()"
   ]
  },
  {
   "cell_type": "code",
   "execution_count": null,
   "metadata": {},
   "outputs": [],
   "source": [
    "Add(Add(ExprRange(k, a_k, three, n), b), \n",
    "    Add(Neg(c), Neg(Add(ExprRange(k, a_k, one, subtract(n, two)))))).quick_simplification()"
   ]
  },
  {
   "cell_type": "code",
   "execution_count": null,
   "metadata": {},
   "outputs": [],
   "source": [
    "Add(Add(ExprRange(k, a_k, one, m), b), \n",
    "    Add(Neg(c), Neg(Add(ExprRange(k, a_k, one, n))))).quick_simplification()"
   ]
  },
  {
   "cell_type": "code",
   "execution_count": null,
   "metadata": {},
   "outputs": [],
   "source": [
    "Add(Add(ExprRange(k, Neg(a_k), one, m), b), \n",
    "    Add(Neg(c), Neg(Add(ExprRange(k, a_k, one, n))))).quick_simplification()"
   ]
  },
  {
   "cell_type": "code",
   "execution_count": null,
   "metadata": {},
   "outputs": [],
   "source": [
    "Add(Add(ExprRange(k, a_k, one, num(5)), b), \n",
    "    Add(Neg(c), Neg(Add(ExprRange(k, a_k, one, num(7)))))).quick_simplification()"
   ]
  },
  {
   "cell_type": "code",
   "execution_count": null,
   "metadata": {},
   "outputs": [],
   "source": [
    "Add(ExprRange(k, a_k, one, zero), b).quick_simplification()"
   ]
  },
  {
   "cell_type": "markdown",
   "metadata": {},
   "source": [
    "### Simplification\n",
    "\n",
    "The following simplifications come with actual proofs."
   ]
  },
  {
   "cell_type": "code",
   "execution_count": null,
   "metadata": {},
   "outputs": [],
   "source": [
    "Add(b, b, b, b).simplification(assumptions=[InSet(b, Complex)])"
   ]
  },
  {
   "cell_type": "code",
   "execution_count": null,
   "metadata": {},
   "outputs": [],
   "source": [
    "Add(b, b, b, b).simplified(assumptions=[InSet(b, Complex)])"
   ]
  },
  {
   "cell_type": "code",
   "execution_count": null,
   "metadata": {},
   "outputs": [],
   "source": [
    "help(Add(b, b, b, b).simplified)"
   ]
  },
  {
   "cell_type": "code",
   "execution_count": null,
   "metadata": {},
   "outputs": [],
   "source": [
    "help(Equals(c, Add(b, b, b, b)).prove(\n",
    "    assumptions=[Equals(c, Add(b, b, b, b))]).inner_expr().rhs.simplify)"
   ]
  },
  {
   "cell_type": "code",
   "execution_count": null,
   "metadata": {},
   "outputs": [],
   "source": [
    "Equals(c, Add(b, b, b, b)).prove(\n",
    "    assumptions=[Equals(c, Add(b, b, b, b))]).inner_expr().rhs.simplification(\n",
    "        assumptions=[InSet(b, Complex)])"
   ]
  },
  {
   "cell_type": "code",
   "execution_count": null,
   "metadata": {},
   "outputs": [],
   "source": [
    "Add(one, zero, four, three).evaluation()"
   ]
  },
  {
   "cell_type": "code",
   "execution_count": null,
   "metadata": {},
   "outputs": [],
   "source": [
    "Equals(Add(one, two, three, one), seven).prove()"
   ]
  },
  {
   "cell_type": "code",
   "execution_count": null,
   "metadata": {},
   "outputs": [],
   "source": [
    "Add(Mult(one, b), Mult(three, b)).simplification(assumptions=[InSet(b, Complex)])"
   ]
  },
  {
   "cell_type": "code",
   "execution_count": null,
   "metadata": {},
   "outputs": [],
   "source": [
    "Add(b, Mult(three, b)).factorization(b, pull='right', assumptions=[InSet(a, Complex), InSet(c, Complex), InSet(b, Complex)])"
   ]
  },
  {
   "cell_type": "code",
   "execution_count": null,
   "metadata": {},
   "outputs": [],
   "source": [
    "Add(b, Mult(three, b), Mult(two, b)).factorization(b, pull='right', assumptions=[InSet(a, Complex), InSet(c, Complex), InSet(b, Complex)])"
   ]
  },
  {
   "cell_type": "code",
   "execution_count": null,
   "metadata": {},
   "outputs": [],
   "source": [
    "Add(b, Mult(three, b), Mult(two, b)).simplification(\n",
    "    assumptions=[InSet(a, Complex), InSet(c, Complex), InSet(b, Complex)])"
   ]
  },
  {
   "cell_type": "code",
   "execution_count": null,
   "metadata": {},
   "outputs": [],
   "source": [
    "Add(Mult(one, two), b, c, Mult(three, b), Mult(two, b), Mult(one, c)).simplification(\n",
    "    assumptions=[InSet(a, Complex), InSet(c, Complex), InSet(b, Complex)])"
   ]
  },
  {
   "cell_type": "code",
   "execution_count": null,
   "metadata": {},
   "outputs": [],
   "source": [
    "Add(Mult(one, two), b, c, Mult(three, b), Mult(two, b), Neg(b), Mult(one, c)).simplification(\n",
    "    assumptions=[InSet(a, Complex), InSet(c, Complex), InSet(b, Complex)])"
   ]
  },
  {
   "cell_type": "code",
   "execution_count": null,
   "metadata": {},
   "outputs": [],
   "source": [
    "#Add(Mult(c,b), Mult(b,c), Mult(c, a), a, b, c, one, two, three, Mult(two, c), Mult(three,b), Mult(four, a)).simplification([InSet(a, Complex), InSet(b, Complex), InSet(c, Complex)])"
   ]
  },
  {
   "cell_type": "code",
   "execution_count": null,
   "metadata": {},
   "outputs": [],
   "source": [
    "#Add(Mult(a,b), c, b,a).simplification([InSet(a, Complex), InSet(b, Complex), InSet(c, Complex)])"
   ]
  },
  {
   "cell_type": "code",
   "execution_count": null,
   "metadata": {},
   "outputs": [],
   "source": [
    "Add(a, one, a).simplification(assumptions=[InSet(a, Complex)])"
   ]
  },
  {
   "cell_type": "code",
   "execution_count": null,
   "metadata": {},
   "outputs": [],
   "source": [
    "Add(Mult(two, b), b, a, c, Mult(zero, d)).simplification(\n",
    "    assumptions=[InSet(a, Complex), InSet(c, Complex), InSet(b, Complex), InSet(d, Complex)])"
   ]
  },
  {
   "cell_type": "code",
   "execution_count": null,
   "metadata": {},
   "outputs": [],
   "source": [
    "Add(a,b,c,a,b,a,c).simplification(assumptions=[InSet(a, Complex), InSet(b, Complex), InSet(c, Complex)])"
   ]
  },
  {
   "cell_type": "code",
   "execution_count": null,
   "metadata": {},
   "outputs": [],
   "source": [
    "Add(a,b,c,a,b,a,c,b,a,c,a).simplification(assumptions=[InSet(a, Complex), InSet(b, Complex), InSet(c, Complex)])"
   ]
  },
  {
   "cell_type": "code",
   "execution_count": null,
   "metadata": {},
   "outputs": [],
   "source": [
    "Add(Neg(one), Neg(two)).evaluation()"
   ]
  },
  {
   "cell_type": "code",
   "execution_count": null,
   "metadata": {},
   "outputs": [],
   "source": [
    "# Multi-digit arithmetic needs to be implemented in order to\n",
    "# get this to work w.r.t. indexing.  So we comment this out for now.\n",
    "#Add(a,b,c,a,b,a,c,b,a,c,a,a).simplification([InSet(a, Complex), InSet(b, Complex), InSet(c, Complex)]).proof()"
   ]
  },
  {
   "cell_type": "code",
   "execution_count": null,
   "metadata": {},
   "outputs": [],
   "source": [
    "Add(one, c, two, three, c, one,c).simplification(assumptions=[InSet(c, Complex)])"
   ]
  },
  {
   "cell_type": "code",
   "execution_count": null,
   "metadata": {},
   "outputs": [],
   "source": [
    "expr = Add(c, Neg(one), b, Add(two, three), Neg(c), Add(c, zero, c)).simplified(\n",
    "    assumptions=[InSet(c, Complex),InSet(b, Complex)])"
   ]
  },
  {
   "cell_type": "code",
   "execution_count": null,
   "metadata": {},
   "outputs": [],
   "source": [
    "Add(one, Neg(one), two, Neg(two)).cancelation(0, 1, auto_simplify=False)"
   ]
  },
  {
   "cell_type": "code",
   "execution_count": null,
   "metadata": {},
   "outputs": [],
   "source": [
    "Add(one, Neg(one), two, Neg(two)).cancelation(0, 1, auto_simplify=True)"
   ]
  },
  {
   "cell_type": "code",
   "execution_count": null,
   "metadata": {},
   "outputs": [],
   "source": [
    "Add(a, Neg(b), Neg(a), b).cancelations(assumptions=[InSet(a, Complex), InSet(b, Complex)], auto_simplify=False)"
   ]
  },
  {
   "cell_type": "code",
   "execution_count": null,
   "metadata": {},
   "outputs": [],
   "source": [
    "Add(a, Neg(b), Neg(a), b).cancelations(assumptions=[InSet(a, Complex), InSet(b, Complex)], auto_simplify=True)"
   ]
  },
  {
   "cell_type": "code",
   "execution_count": null,
   "metadata": {},
   "outputs": [],
   "source": [
    "Add(one, a, A, zero, b, B, C, c, one, three, A).simplification(\n",
    "    assumptions=[InSet(a, Complex), InSet(A, Complex), InSet(b, Complex), InSet(B, Complex), \n",
    "                 InSet(c, Complex), InSet(C, Complex)])"
   ]
  },
  {
   "cell_type": "code",
   "execution_count": null,
   "metadata": {},
   "outputs": [],
   "source": [
    "Add(a, one, two , c, b, a, zero, b, c, c, three).simplification(\n",
    "    assumptions=[InSet(a, Complex), InSet(b, Complex), InSet(c, Complex)])"
   ]
  },
  {
   "cell_type": "code",
   "execution_count": null,
   "metadata": {},
   "outputs": [],
   "source": [
    "Add(two, three, four, a, a, c, zero, c, b, b).simplification(\n",
    "    assumptions=[InSet(a, Complex), InSet(b, Complex), InSet(c, Complex)])"
   ]
  },
  {
   "cell_type": "code",
   "execution_count": null,
   "metadata": {},
   "outputs": [],
   "source": [
    "Add(Neg(one), Neg(one)).simplification()"
   ]
  },
  {
   "cell_type": "code",
   "execution_count": null,
   "metadata": {},
   "outputs": [],
   "source": [
    "subtract(three, one).evaluation()"
   ]
  },
  {
   "cell_type": "code",
   "execution_count": null,
   "metadata": {},
   "outputs": [],
   "source": [
    "Add(zero, two, three, zero).evaluation()"
   ]
  },
  {
   "cell_type": "code",
   "execution_count": null,
   "metadata": {},
   "outputs": [],
   "source": [
    "Add(one, zero, one, three).evaluation()"
   ]
  },
  {
   "cell_type": "code",
   "execution_count": null,
   "metadata": {},
   "outputs": [],
   "source": [
    "Add(a, one, two , c, b, a, zero, b, c, c, three).simplification(\n",
    "    assumptions=[InSet(a, Real), InSet(b, Real), InSet(c, Real)])"
   ]
  },
  {
   "cell_type": "code",
   "execution_count": null,
   "metadata": {},
   "outputs": [],
   "source": [
    "InSet(Add(a,b), Integer).prove(assumptions=[InSet(a, Integer), InSet(b,Integer)])"
   ]
  },
  {
   "cell_type": "code",
   "execution_count": null,
   "metadata": {},
   "outputs": [],
   "source": [
    "InSet(Add(a,b,c,d), Integer).prove(\n",
    "    assumptions=[InSet(a,Integer),InSet(b, Integer), InSet(c, Integer), InSet(d,Integer)])"
   ]
  },
  {
   "cell_type": "code",
   "execution_count": null,
   "metadata": {},
   "outputs": [],
   "source": [
    "InSet(Add(a,b), Natural).prove(assumptions=[InSet(a, Natural), InSet(b, Natural)])"
   ]
  },
  {
   "cell_type": "code",
   "execution_count": null,
   "metadata": {},
   "outputs": [],
   "source": [
    "InSet(Add(a,b,c,d), Natural).prove(assumptions=[InSet(a,Natural), InSet(b, Natural), InSet(c,Natural), InSet(d, Natural)])"
   ]
  },
  {
   "cell_type": "code",
   "execution_count": null,
   "metadata": {},
   "outputs": [],
   "source": [
    "InSet(Add(a,b), Real).prove(assumptions=[InSet(a, Real), InSet(b,Real)])"
   ]
  },
  {
   "cell_type": "code",
   "execution_count": null,
   "metadata": {},
   "outputs": [],
   "source": [
    "InSet(Add(a,b,c,d), Real).prove(assumptions=[InSet(a,Real), InSet(b,Real), InSet(c, Real), InSet(d, Real)])"
   ]
  },
  {
   "cell_type": "code",
   "execution_count": null,
   "metadata": {},
   "outputs": [],
   "source": [
    "InSet(Add(a,b), Complex).prove(assumptions=[InSet(a, Complex), InSet(b, Complex)])"
   ]
  },
  {
   "cell_type": "code",
   "execution_count": null,
   "metadata": {},
   "outputs": [],
   "source": [
    "InSet(Add(a,b,c,d), Complex).prove(assumptions=[InSet(a, Complex), InSet(b, Complex), InSet(c, Complex), InSet(d,Complex)])"
   ]
  },
  {
   "cell_type": "code",
   "execution_count": null,
   "metadata": {},
   "outputs": [],
   "source": [
    "InSet(Add(a,b,one,d), NaturalPos).prove(assumptions=[InSet(a, Natural), InSet(b, Natural), InSet(c, Natural), InSet(d, Natural)])"
   ]
  },
  {
   "cell_type": "code",
   "execution_count": null,
   "metadata": {},
   "outputs": [],
   "source": [
    "Add(zero, b).zero_eliminations(assumptions=[InSet(b,Complex)])"
   ]
  },
  {
   "cell_type": "code",
   "execution_count": null,
   "metadata": {},
   "outputs": [],
   "source": [
    "Add(a,b,c,d).commutation(1,3, assumptions=[InSet(a,Real), InSet(b,Real), InSet(c, Real), InSet(d,Real)])"
   ]
  },
  {
   "cell_type": "code",
   "execution_count": null,
   "metadata": {},
   "outputs": [],
   "source": [
    "Add(one, two, three, four, five, six, one).association(3, length=2, assumptions = [], auto_simplify=False)\n",
    "#Equals(subtract(two, one),one), Equals(subtract(one, one), zero), Equals(subtract(three, one), two), Less(zero,Less(one, Less(two, three)))"
   ]
  },
  {
   "cell_type": "code",
   "execution_count": null,
   "metadata": {},
   "outputs": [],
   "source": [
    "greater(Add(one, two, three, one), three).prove(\n",
    "    assumptions=[InSet(two, RealPos), InSet(three, Real), InSet(one, RealPos)])"
   ]
  },
  {
   "cell_type": "code",
   "execution_count": null,
   "metadata": {},
   "outputs": [],
   "source": [
    "Less(Add(Neg(one), Neg(two), three, Neg(one)), three).prove(\n",
    "    assumptions=[InSet(two, RealNeg), InSet(three, Real), InSet(one, RealNeg),\n",
    "                 InSet(Neg(one), RealNeg), InSet(Neg(two), RealNeg)])"
   ]
  },
  {
   "cell_type": "code",
   "execution_count": null,
   "metadata": {},
   "outputs": [],
   "source": [
    "subtract(x,x).evaluation(assumptions=[InSet(x, Complex)])"
   ]
  },
  {
   "cell_type": "code",
   "execution_count": null,
   "metadata": {},
   "outputs": [],
   "source": [
    "subtract(one,one).evaluation()"
   ]
  },
  {
   "cell_type": "code",
   "execution_count": null,
   "metadata": {},
   "outputs": [],
   "source": [
    "InSet(Neg(one), Real).prove()"
   ]
  },
  {
   "cell_type": "code",
   "execution_count": null,
   "metadata": {},
   "outputs": [],
   "source": [
    "#test = Add(Mult(two, b), Mult(three,b), b, Neg(b)).factor(b, assumptions=[InSet(two, Complex), InSet(three, Complex), InSet(b, Exp(Complex,one)),InSet(one, Complex), InSet(Neg(one), Complex), InSet(b, Real)])\n",
    "#test = Add(Mult(two, b), Mult(three,b), b, Neg(b)).factor(b, assumptions=[InSet(Neg(one), Complex), InSet(b, Real)])\n",
    "Add(Mult(two, b), Mult(three,b), b, Neg(b)).factorization(\n",
    "    b, pull='right', assumptions=[InSet(b, Real)], auto_simplify=False)"
   ]
  },
  {
   "cell_type": "code",
   "execution_count": null,
   "metadata": {},
   "outputs": [],
   "source": [
    "Add(Mult(two, b), Mult(three,b), b, Neg(b)).factorization(\n",
    "    b, pull='left', assumptions=[InSet(b, Real)], auto_simplify=False)"
   ]
  },
  {
   "cell_type": "code",
   "execution_count": null,
   "metadata": {},
   "outputs": [],
   "source": [
    "Add(Mult(two, b), Mult(three,b), b, Neg(b)).factorization(\n",
    "    b, pull='left', assumptions=[InSet(b, Real)])"
   ]
  },
  {
   "cell_type": "code",
   "execution_count": null,
   "metadata": {},
   "outputs": [],
   "source": [
    "Add(a,b,c,d,e,f,g).commutation(4, 2, assumptions=[InSet(a,Real),InSet(b,Real),InSet(c,Real),InSet(d,Real),InSet(e,Real),InSet(f,Real),InSet(g,Real)])"
   ]
  },
  {
   "cell_type": "code",
   "execution_count": null,
   "metadata": {},
   "outputs": [],
   "source": [
    "#m.prove([Add(m, subtract(one, one))])"
   ]
  },
  {
   "cell_type": "markdown",
   "metadata": {},
   "source": [
    "Testing `deduce_bound` method."
   ]
  },
  {
   "cell_type": "code",
   "execution_count": null,
   "metadata": {},
   "outputs": [],
   "source": [
    "term_relations = [Less(a, c), Less(b, d)]\n",
    "assumptions = term_relations + [InSet(a, Real), InSet(b, Real), InSet(c, Real), InSet(d, Real)]\n",
    "Add(a, b).deduce_bound(term_relations[0], assumptions=assumptions)"
   ]
  },
  {
   "cell_type": "code",
   "execution_count": null,
   "metadata": {},
   "outputs": [],
   "source": [
    "Add(a, b).deduce_bound(term_relations[1], assumptions=assumptions)"
   ]
  },
  {
   "cell_type": "code",
   "execution_count": null,
   "metadata": {},
   "outputs": [],
   "source": [
    "Add(a, b).deduce_bound(term_relations, assumptions=assumptions)"
   ]
  },
  {
   "cell_type": "code",
   "execution_count": null,
   "metadata": {},
   "outputs": [],
   "source": [
    "term_relations = [greater(a, c), greater(b, d)]\n",
    "assumptions = term_relations + [InSet(a, Real), InSet(b, Real), InSet(c, Real), InSet(d, Real)]"
   ]
  },
  {
   "cell_type": "code",
   "execution_count": null,
   "metadata": {},
   "outputs": [],
   "source": [
    "Add(a, b).deduce_bound(term_relations[0], assumptions=assumptions)"
   ]
  },
  {
   "cell_type": "code",
   "execution_count": null,
   "metadata": {},
   "outputs": [],
   "source": [
    "Add(a, b).deduce_bound(term_relations[1], assumptions=assumptions)"
   ]
  },
  {
   "cell_type": "code",
   "execution_count": null,
   "metadata": {},
   "outputs": [],
   "source": [
    "Add(a, b).deduce_bound(term_relations, assumptions=assumptions)"
   ]
  },
  {
   "cell_type": "code",
   "execution_count": null,
   "metadata": {},
   "outputs": [],
   "source": [
    "Add(a, b, c, d).bound_by_term(\n",
    "    1, assumptions=[InSet(a, RealPos), InSet(b, Real), InSet(c, RealPos), InSet(d, RealPos)])"
   ]
  },
  {
   "cell_type": "code",
   "execution_count": null,
   "metadata": {},
   "outputs": [],
   "source": [
    "Add(a, b, c, d).bound_by_term(\n",
    "    2, assumptions=[InSet(a, RealNeg), InSet(b, RealNeg), InSet(c, Real), InSet(d, RealNeg)])"
   ]
  },
  {
   "cell_type": "code",
   "execution_count": null,
   "metadata": {},
   "outputs": [],
   "source": [
    "Add(a, b, c, d).bound_by_term(\n",
    "    0, assumptions=[InSet(a, Real), InSet(b, RealNonNeg), InSet(c, RealNonNeg), InSet(d, RealNonNeg)])"
   ]
  },
  {
   "cell_type": "code",
   "execution_count": null,
   "metadata": {},
   "outputs": [],
   "source": [
    "Add(a, b, c, d).bound_by_term(\n",
    "    3, assumptions=[InSet(a, RealNonPos), InSet(b, RealNonPos), InSet(c, RealNonPos), InSet(d, Real)])"
   ]
  },
  {
   "cell_type": "markdown",
   "metadata": {},
   "source": [
    "### Automation via canonical forms\n",
    "\n",
    "Two expressions that have the same canonical form can be proven to be equal via automation."
   ]
  },
  {
   "cell_type": "code",
   "execution_count": null,
   "metadata": {},
   "outputs": [],
   "source": [
    "defaults.assumptions = [InSet(a, RealNeg), InSet(b, RealNeg), InSet(c, Real), InSet(d, RealNeg)]"
   ]
  },
  {
   "cell_type": "code",
   "execution_count": null,
   "metadata": {},
   "outputs": [],
   "source": [
    "expr1 = Add(d, Mult(two, b), c, frac(a, two))\n",
    "display(expr1)\n",
    "expr1.canonical_form()"
   ]
  },
  {
   "cell_type": "code",
   "execution_count": null,
   "metadata": {},
   "outputs": [],
   "source": [
    "expr2 = Add(a, Neg(frac(a, two)), b, d, b, c)\n",
    "display(expr2)\n",
    "expr2.canonical_form()"
   ]
  },
  {
   "cell_type": "code",
   "execution_count": null,
   "metadata": {},
   "outputs": [],
   "source": [
    "Equals(expr1, expr2).prove()"
   ]
  },
  {
   "cell_type": "code",
   "execution_count": null,
   "metadata": {},
   "outputs": [],
   "source": [
    "Equals(Add(c, b, d, a), Add(d, b, a, c)).prove()"
   ]
  },
  {
   "cell_type": "code",
   "execution_count": null,
   "metadata": {},
   "outputs": [],
   "source": [
    "Equals(Add(d, c, b, a), Add(b, a, d, c)).prove()"
   ]
  },
  {
   "cell_type": "markdown",
   "metadata": {},
   "source": [
    "This even works in a nested manner"
   ]
  },
  {
   "cell_type": "code",
   "execution_count": null,
   "metadata": {},
   "outputs": [],
   "source": [
    "Equals(Add(Mult(b, a), d, c, a), Add(d, c, Mult(a, b), a)).prove()"
   ]
  },
  {
   "cell_type": "code",
   "execution_count": null,
   "metadata": {},
   "outputs": [],
   "source": [
    "%end demonstrations"
   ]
  },
  {
   "cell_type": "code",
   "execution_count": null,
   "metadata": {},
   "outputs": [],
   "source": []
  }
 ],
 "metadata": {
  "kernelspec": {
   "display_name": "Python 3",
   "language": "python",
   "name": "python3"
  }
 },
 "nbformat": 4,
 "nbformat_minor": 0
}
