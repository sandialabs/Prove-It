{
 "cells": [
  {
   "cell_type": "markdown",
   "metadata": {},
   "source": [
    "Theorems (or conjectures) for the theory of <a class=\"ProveItLink\" href=\"theory.ipynb\">proveit.numbers.addition</a>\n",
    "========"
   ]
  },
  {
   "cell_type": "code",
   "execution_count": 1,
   "metadata": {},
   "outputs": [],
   "source": [
    "import proveit\n",
    "# Prepare this notebook for defining the theorems of a theory:\n",
    "%theorems_notebook # Keep this at the top following 'import proveit'.\n",
    "from proveit.logic import Forall, Equals, NotEquals\n",
    "\n",
    "from proveit import a, b, c, d, e\n",
    "from proveit.core_expr_types import (\n",
    "    a_1_to_i, b_1_to_j, c_1_to_j, c_1_to_k, d_1_to_k)\n",
    "from proveit import a, b, c, d, e, f, g, h, i,j,k, l, m, n, x, y\n",
    "from proveit.numbers import zero, one, two, three\n",
    "from proveit.numbers import (\n",
    "    Add, Neg, Mult, frac, Exp, \n",
    "    Less, LessEq, greater, greater_eq,\n",
    "    ZeroSet, Natural, NaturalPos,\n",
    "    Integer, IntegerNonZero, IntegerNeg, IntegerNonPos,\n",
    "    Rational, RationalNonZero, RationalPos, RationalNeg,\n",
    "    RationalNonNeg, RationalNonPos,\n",
    "    Real, RealNonZero, RealPos, RealNeg, RealNonNeg, RealNonPos,\n",
    "    Complex, ComplexNonZero)\n",
    "from proveit.logic.sets import InSet"
   ]
  },
  {
   "cell_type": "code",
   "execution_count": 2,
   "metadata": {},
   "outputs": [
    {
     "name": "stdout",
     "output_type": "stream",
     "text": [
      "Defining theorems for theory 'proveit.numbers.addition'\n",
      "Subsequent end-of-cell assignments will define theorems\n",
      "'%end theorems' will finalize the definitions\n"
     ]
    }
   ],
   "source": [
    "%begin theorems"
   ]
  },
  {
   "cell_type": "code",
   "execution_count": 3,
   "metadata": {},
   "outputs": [
    {
     "data": {
      "text/html": [
       "<strong id=\"unary_add_reduction\"><a class=\"ProveItLink\" href=\"proofs/unary_add_reduction/thm_proof.ipynb\">unary_add_reduction</a> (conjecture without proof):<br></strong> <a class=\"ProveItLink\" href=\"../__pv_it/theorems/edfb6f77d2b409563b98c77df9d7be7582a9542e0/theorem_expr.ipynb\"><img src=\"data:image/png;base64,iVBORw0KGgoAAAANSUhEUgAAAI8AAAAVBAMAAACNsKCFAAAAMFBMVEX///8AAAAAAAAAAAAAAAAA\n",
       "AAAAAAAAAAAAAAAAAAAAAAAAAAAAAAAAAAAAAAAAAAAv3aB7AAAAD3RSTlMAq1RmmUTNIjK7EInv\n",
       "3XZ/CtNrAAAACXBIWXMAAA7EAAAOxAGVKw4bAAACHUlEQVQ4y2NgwAQFDG9vwNhQFjsDMoVFBzbA\n",
       "p8CwFcGDMB9BOKwPsBsUB8QCIIYysqg2A4ZBTBugvMfYDeIzYGBwBTHSkQS5EjANWgbjsS3AblIW\n",
       "A0MjyOsTkMRYDKC6WQ3gBjnDJJkdsBtkArGDWwFJjAfunwdwgw7AZU9hN4hnAQMz0F42ZDE1TIOY\n",
       "EuCyydgNYgOacvbu3dPIYt6YBrGAwrpwXx2Q3IhuBLv0c6A6bmCceTAwzEKWScY0CGQf63GG+cBQ\n",
       "MAMH410wAEd4TAHnL2DYAd1cyMAugGzQJUyDeIFhuMaAwRfI1EFzENdhBpYLQLXAUORcwB2ALHUU\n",
       "rBto6Z2zIEtBBvEAFfgzMNwGMvvRDGL5wMAL9DjHB5DFKGENNQjFRSCDTjJwfQX5BD26JjCsB8qy\n",
       "guI1wQ5IrLbbjtdrXP8YmIG2MuiihdH6Bwz2ILVA7zFsAiZLrusc36EGzcM0iPMBA9cnBsYEdQYG\n",
       "SzQXrVdgEGMqYGAGJekaoMksDhywRLcR0yBQ5M5j0HVwgCQOZMD5gOkKCzSBMDaAQoEPFnW9mAZx\n",
       "AB2+8HW7HFDhVfRYk9tR+ALoeVh8rS/gtILmR94GzCwCL57YL2BP2bXwwC/oD16AyJfomdYEOUdj\n",
       "A/BczeqstxnGno5ZjHDCisBK7OagFB9wsBLTIK4JCEuwAU6sZS37A4a9iDL7KJiqg5aE2AtnhucM\n",
       "DAArLppTgoNQ5AAAAABJRU5ErkJggg==\n",
       "\" style=\"display:inline;vertical-align:middle;\" /></a><br>"
      ],
      "text/plain": [
       "<IPython.core.display.HTML object>"
      ]
     },
     "metadata": {},
     "output_type": "display_data"
    }
   ],
   "source": [
    "unary_add_reduction = Forall(a, Equals(Add(a), a))"
   ]
  },
  {
   "cell_type": "code",
   "execution_count": 4,
   "metadata": {},
   "outputs": [
    {
     "data": {
      "text/html": [
       "<strong id=\"add_zero_closure_bin\"><a class=\"ProveItLink\" href=\"proofs/add_zero_closure_bin/thm_proof.ipynb\">add_zero_closure_bin</a> (conjecture without proof):<br></strong> <a class=\"ProveItLink\" href=\"../__pv_it/theorems/7096939cdeb4e2f84c4fea76e5f07dfd40bfb87c0/theorem_expr.ipynb\"><img src=\"data:image/png;base64,iVBORw0KGgoAAAANSUhEUgAAANUAAAAXBAMAAABuThcPAAAAMFBMVEX///8AAAAAAAAAAAAAAAAA\n",
       "AAAAAAAAAAAAAAAAAAAAAAAAAAAAAAAAAAAAAAAAAAAv3aB7AAAAD3RSTlMAq1RmmUTNIjK7EInv\n",
       "3XZ/CtNrAAAACXBIWXMAAA7EAAAOxAGVKw4bAAADYklEQVRIx7VVXUgUURQ+7uzP7Mz+RSBFIAtB\n",
       "vmTtQwgWyIb9YVgbPhUVYknkg6wvUWC6QdSDgQZBrVCNUIFo7FpBBLUIPmQ/xhb0KwNrPQQlIhth\n",
       "bCCdc++d3RlnhQ3qwHfnzL279zv3nO+eAajcPAIrrS232zG+VEtjHP7KPguUM1fONhXo0LhzbgiH\n",
       "o4gQva2vhMqR5rDZyDQOX2zTm5FKzexG7zIxRwB20vSJSrjuCNjtOMKtLZ99gmiHu3HuQScekDI6\n",
       "WAlXk0DJWsUzj5CiZbikLKiDgmsLj0cNV8I1IVCyTaJWBRqfiypd198VubwhcBQEl08DCfPorqhc\n",
       "bRx2LjVL4zHO26WZzhWMgpwXXG4kmtb1F5VwOdMc0J3ptXK5a2YxMePMP6WZc5hCrh+CS0UV7gEY\n",
       "KrP1tgh79DcbExQXwfUUbmoWrlSnsghQD8tUtgugLw3yEsAcvUqYk27whIxl+WTRmyDBpo1w0fxh\n",
       "jrEItFjPheJ+BbCR+aUkeyY51298kB4cuKNXU2PFH6wjmtlkjFWmEQ4CbDCWfDGO/QAz9N6i6y91\n",
       "/TU/AG44wELEiugfGVU1/jaVBheeS6lGMnkB+XImaUwhdiSEEqYgGLdzPQPlp/VcM+BCARwmVynd\n",
       "nvNDTBsOXFI7SDWk4bZGHEYbH1JYS7NaICJU5ymAL1ziEjlUlkBasHLlwYnCrmN+thQ3dgvvIEgF\n",
       "3kHAQUv38EYr7+VFuhyfAtEREJWUC+CPwBHjr94cg5KHqrZaC9cvqiE0MH/eepcnwIkJesx2pCP3\n",
       "oDScURIDeCNSG28GFxLE5cuB+5v4K2mWcAPqolEL12q4guNertawpUe9gbGE0Dy7L1UJKkSAxOhL\n",
       "OEP1yWQyLK/SKIfBMDi6DGVmOYa/X6xJWLiGH1Da3zJfWXvIzHUrs0Z44DcUmIp7t2JSg1ihft5q\n",
       "QkIbPcU4PwjY+gaXuKiU65GpR5lY4WxRZPGBVm0U/FoD3gGjI83DAZPmqXky2HsvS1GkXJ83ecW2\n",
       "7WradB8uheV9OfBcM7jUTLOZyxvnKG9nbDNz5g5i+5bwuo4mxV1mVuKiu6Os+PW5apvpM2SiTIIt\n",
       "Spfpc+fK2rigV6CcBewH9mznZJ5xen61LkrmFyE/uR3+v8k8qNP/cMs/zsjabw64gQAAAAAASUVO\n",
       "RK5CYII=\n",
       "\" style=\"display:inline;vertical-align:middle;\" /></a><br>"
      ],
      "text/plain": [
       "<IPython.core.display.HTML object>"
      ]
     },
     "metadata": {},
     "output_type": "display_data"
    }
   ],
   "source": [
    "add_zero_closure_bin = Forall((a, b), InSet(Add(a, b), ZeroSet), domain=ZeroSet)"
   ]
  },
  {
   "cell_type": "code",
   "execution_count": 5,
   "metadata": {},
   "outputs": [
    {
     "data": {
      "text/html": [
       "<strong id=\"add_zero_closure\"><a class=\"ProveItLink\" href=\"proofs/add_zero_closure/thm_proof.ipynb\">add_zero_closure</a> (conjecture without proof):<br></strong> <a class=\"ProveItLink\" href=\"../__pv_it/theorems/535b67cf79e8886941b15f8f142f4e56d3d3efe00/theorem_expr.ipynb\"><img src=\"data:image/png;base64,iVBORw0KGgoAAAANSUhEUgAAAcIAAAAZBAMAAABQuDMuAAAAMFBMVEX///8AAAAAAAAAAAAAAAAA\n",
       "AAAAAAAAAAAAAAAAAAAAAAAAAAAAAAAAAAAAAAAAAAAv3aB7AAAAD3RSTlMAq1RmmUTNIjK7EInv\n",
       "3XZ/CtNrAAAACXBIWXMAAA7EAAAOxAGVKw4bAAAFRklEQVRYw92YfWgcRRTAX3b3br/ucuc/oVUM\n",
       "p2IM1IuH1YBF4kn9KJHi2fqP2kqoFD/AdgOiptb2IoKCaXMqpSZgXUX/0DTeJaFoUcNJkPgJZ4gV\n",
       "0YUtFaomllCplRMa583M5vZ270rWHKX64O0OM+/m5jfz5s2bBagvl1sG/Mel2Zo5X3MP/A9k7QUi\n",
       "NLg2UuQade9kWNM1zp9eKMLmBNOGSsj2/892kxX6h8njQUYYx9dVdQib8CWkVjyYNVwbKyd8NdcR\n",
       "QH3yTlJ6GXlTlPB2bHm4DqGEix5esXtpPUwbLGHTW/MJ0W0warASPEYJ+9Ftc3UIFVzhvhUPRUox\n",
       "9cjm2s5Xz2V8DWK6BqFYAj3HCW+ghDgReqLePsRZGF8xYYSrRzpqGgt2nV78DV/y3fe6dWyJUI2D\n",
       "UOaEERMJRTIz4bqRZm1DAk4b10YTPsTWdofpWsNYGpTTnDCcogTfWNZXdQkjlvVTYcWEd3GVLztp\n",
       "1yDsndwTiHDJfow+nzTdXponhH9wQj1OCTcAkNCqGTUJpSyoZkAecYK+XuqummvULYZa9hOGpuEN\n",
       "MwAhs8cBd4InTN4BsLcAyjmAeToS5oW9IBNUnf1cnj0CN8crhKSpN+iKDWDELjgzjDLDVJsCqQRa\n",
       "p4fwcAo2gvbRJeYyCak9HfC1nmNbnmKEf5MXhhahSAlVU2eJAOxffQCu0E3JdJ34w3AkABz2gDuu\n",
       "C+5z77zPmEoLEC3A/t9p3UbL+tqyviWluwF+BAnhiQnZFWTbxP3huNJA7akM4kMh1dYPFLCFgOQL\n",
       "ECJrqLUQRGWBEgo2DzTSBjz77bTuzmk6ggQa2gOSfQ4xw08YyUGejCHpWcMvQDsDsYz81zLXkNpT\n",
       "2UIP28pR9/wwjTQCiTT6dvTnIo+VXaR8nKcI7VfvqSIMi6RfbWLO2aYjXR/4/9upPMEjp1yGSMJF\n",
       "yL00b8Mt4CPUzoG4AKK5XEJmjwPmPZUqJiSTUXMglll2A0KJEY6TQ+/9mMnmol1/6wE3od5GTEeN\n",
       "QU6ofa+c9acsvJLPZicoZYimYOuSwSGm+QS0CIaP8DQ09ZBMWS8tk5DakwED3EQrTlWf+EWQyMA/\n",
       "ppEmxwh3E+feleQpQzukf3UTyp+Sx20YPfpwVqS0UoRNP2eqnRMrIcd7UB5BwogN4d8cgzGmqi3M\n",
       "Sn4vPQTJNMlO9nkiTR5TvT95wd1A7Xcl+QlE3CxRlbXNwOEsPy2kAiNsytKfiY8ODb1CCEfCVXeL\n",
       "VXQPHQcliSOIZJrjUNQWqlMWrMQpoz30X4peGkuAsMMx2MdUa/2w9xc/4ZtzL7RmQR72bLco5mSz\n",
       "TsHVwOzRL75ji7r6fjfh25OreAmimcrtSStnlQJbw1CH9/aknYVX34MoEuYNdZ1p4JK5hFausYH1\n",
       "QGaDRZrdSwbRLFMmyZo5zRPwVJCchgwYZO7XoaOurM3FCs+67odCTxroJN5IR+i5H04rZ9Yh4QhE\n",
       "jMHNJqgZUtQKzoNWXpkG1gNGmFNwj/u0wBS5kiYna2Xe8msvdgfJvHHA/mTeQ7jeRai1GtBHZlk5\n",
       "ZrBLYRXhvdfPpZBwIBFa3zFB06CBhDINAwY+WKVKft2X5YT6ZHdVJnqQK8ozOydrJeeLiwuBLmQ4\n",
       "YF/tvDu7YVcm9x1fOzp04Dx3fPRStqd103aKKKw0Kjg9tLnybS7vcm2sHPTV7HVGRdInEtmMQF8x\n",
       "lPlxCLFwt3Ox5BTReVhJXYqcW/2Ess20sd/R/Km0fCtDlMfwfTL4dxqxVlH0Xb0ZirLt4v/W9vi/\n",
       "/F76HH0+fXF8L536B5sTingHhsHHAAAAAElFTkSuQmCC\n",
       "\" style=\"display:inline;vertical-align:middle;\" /></a><br>"
      ],
      "text/plain": [
       "<IPython.core.display.HTML object>"
      ]
     },
     "metadata": {},
     "output_type": "display_data"
    }
   ],
   "source": [
    "add_zero_closure = Forall(i, Forall(a_1_to_i, InSet(Add(a_1_to_i),ZeroSet), domain = ZeroSet), domain=Natural)"
   ]
  },
  {
   "cell_type": "code",
   "execution_count": 6,
   "metadata": {},
   "outputs": [
    {
     "data": {
      "text/html": [
       "<strong id=\"add_int_closure_bin\"><a class=\"ProveItLink\" href=\"proofs/add_int_closure_bin/thm_proof.ipynb\">add_int_closure_bin</a> (conjecture without proof):<br></strong> <a class=\"ProveItLink\" href=\"../__pv_it/theorems/95e36c5b9ce55fab76137cd20c88c51b4c0ce09b0/theorem_expr.ipynb\"><img src=\"data:image/png;base64,iVBORw0KGgoAAAANSUhEUgAAALQAAAAWBAMAAACbN6vkAAAAMFBMVEX///8AAAAAAAAAAAAAAAAA\n",
       "AAAAAAAAAAAAAAAAAAAAAAAAAAAAAAAAAAAAAAAAAAAv3aB7AAAAD3RSTlMAq1RmmUTNIjK7EInv\n",
       "3XZ/CtNrAAAACXBIWXMAAA7EAAAOxAGVKw4bAAACzElEQVQ4y61US2gTQRj+ks3msUljxIOKUBY8\n",
       "KNjWFaRQDyVQlYJUA/UkPSwoSItIqiAIUqIIHhRaRapbX9uLECM11orYg3jTqNV48FkWEj0WpASk\n",
       "olKc1ybdPNYI/vDNznwzfPPP/1jg7xYQaLT3L3yVfRGoZ3KhivAe+T1oXdcoH6PrjW7K3ixHjaXn\n",
       "yPC1ioxeTEH3M34XXR92k74tUGuHCPymk/PFEdWmGX+aBmbMTbpHoGL94lsikOLO054k0soY4+mt\n",
       "YdVN+qlAxTpEnH/S8YUIxA3rPf0qQK8nxXhJI867hlrnqJUO5+l4kF9ztByYYOys4Ocs66WbtC/L\n",
       "geEnI05pf2uRPPc+m5+ohDxkTtAP4XuBCTdpv8YhP8Mt0yF9b0hZAjpRVQhbJFaQhB9GIFZ+y6Cd\n",
       "jNzMNZGfFpXjroY+p9dbTbwG2th8RcR0Ht826n84UaY3UP2ikWhJhqeEi5EExz5gnq77LOuVZb0l\n",
       "s93AL2CU+UTCan3i+VQfAibjvYUVWXxOsJPkV8KZ43BK56B8d3o9D5mU3wCri0r5pmkpr+W83k2G\n",
       "TPcjevly0Yxq7ETcrlcREGUZ0qJTugQfKb92Ns+XpdeRylYWOT89RG79EFyij/kcjafZAelYyk54\n",
       "gUEpwaNvckj/oPFHF5t/K6crvp+kKs/5UzHankHaFSFN0nmrTYXts+EYx0202y8R0mtwmYx7eB2p\n",
       "5dIbQuDSGOdp70QSUVomkZQv1mkYhorsLO4IN/IckwvnWlMO6ckZGrt3bK6sP8DJgfGc8SaXtXlS\n",
       "osnQDpLVVYio51lzbdYwK/Y+CtR0I/8xiyjLj3mjV/OIJEf7zQxazC7yIhoFH2R7b7tA7e+JNavW\n",
       "oIltXu7peIALanBvAYGrZL1t9cK43UihJEd9O9kcz1ORMYzESpbWrNLwt3ulKV42658aEahn0WRT\n",
       "vIT/an8ArqmyRskCmYIAAAAASUVORK5CYII=\n",
       "\" style=\"display:inline;vertical-align:middle;\" /></a><br>"
      ],
      "text/plain": [
       "<IPython.core.display.HTML object>"
      ]
     },
     "metadata": {},
     "output_type": "display_data"
    }
   ],
   "source": [
    "add_int_closure_bin = Forall((a, b), InSet(Add(a, b), Integer), domain=Integer)"
   ]
  },
  {
   "cell_type": "code",
   "execution_count": 7,
   "metadata": {},
   "outputs": [
    {
     "data": {
      "text/html": [
       "<strong id=\"add_int_closure\"><a class=\"ProveItLink\" href=\"proofs/add_int_closure/thm_proof.ipynb\">add_int_closure</a> (conjecture without proof):<br></strong> <a class=\"ProveItLink\" href=\"../__pv_it/theorems/762a79f4886574c0fa553a01cbb7fc395fdf2c230/theorem_expr.ipynb\"><img src=\"data:image/png;base64,iVBORw0KGgoAAAANSUhEUgAAAZ4AAAAWBAMAAAACxuc9AAAAMFBMVEX///8AAAAAAAAAAAAAAAAA\n",
       "AAAAAAAAAAAAAAAAAAAAAAAAAAAAAAAAAAAAAAAAAAAv3aB7AAAAD3RSTlMAq1RmmUTNIjK7EInv\n",
       "3XZ/CtNrAAAACXBIWXMAAA7EAAAOxAGVKw4bAAAEkklEQVRYw81XXYgbVRT+kkx2kkk2TV/UIixR\n",
       "URfaLRF0QZEaqMKiiMH6pCIBH6Sl2NkqylZZYhEUrNtYaO1UrdM+qOvqJlZDbUuXBSllLWIe1tpW\n",
       "A7MqVC0ri+APRVzvvefOZDKZWSZtHjxwkjPfSW7Ol3PuOfcCgbJ4DlcpqtSeiroCvmLI9av+6R+k\n",
       "9lTilgeIbv1nc/PtvMDryHLoJn8+wb5QEq2R9lh+9Dxn3iij1Ed4Hfdx6Cl/PsG+UPKe1B5Ln9n+\n",
       "rBSQyR8hvI6XeOlV/PkE+0LJRqmeesn7l1E+qL68jlih/TmiY1KrEF4XrFI5fz7BvlAyK9VThZZ/\n",
       "cVpBVdvh+FLW2TvNs/xdA0YiZcLriDH6fQH9INgXavuUSHvO50nK29NO3SWyL0uc9bCvms0zQf0t\n",
       "0BdGlBop1OsvWj7xjc6Md8Ontcon4vW51jZKmgckzmIeAdiTpvvxId+V7ts8KR7Xk5c744ufxrtm\n",
       "F3xolfeZNQxPn1obE58ZFjGPQmV9OUXfUufruDvr8CFfNxKZ++wtuV/7c6TaF1Aa0IY98X2Ux4PQ\n",
       "Tqw2w/GhVTDDzHUCcFVyiTbFOhFz0kwVCZ5Ysxc3pEzFdPi0fGEksWAU+/XUtPx+ukiqLKG/holF\n",
       "UYPN5vesiPmf9BDwHRQRpBv21KzjoFWE7BY/xuDmeWoMORaqKfA65y+3vDLCp6dVSLXqzfGFkntZ\n",
       "k4lh5zNo55OuoMrehjz5mYP2B1YV1b/D5UeuIipP5Ks1Ryb5TLlW4PxMU9rAinlBzt3Bm8ddfIQP\n",
       "UxuO2l91mS2RYIYGRcEeD3a9VS3cgw4+2r+ILSFmhuVDqzyRdVZqOJ+4jk0gbUngPOYjW4DpVSYR\n",
       "HkwdfszFh/u0bxN/SchltsQGJ2nabS/bXccireZwTVTv4PM7IqVb2cZthOTDV9lh8cZypwB+c8q8\n",
       "8Ajbtw2B85hfZJx3DMk5PIjCLy4+3KcUErNQD9DRgpkP/1T0nDcYiAo2iadpO71IZUmTVnRe6ay3\n",
       "gxjiqXzd0w+qbJ9rf0rD5RCrqIc5+weofeacbr0F6p6KwHnMYrYeRGyzYexhfKb6XHy4L13MZLHz\n",
       "Am0JZs7y3LpEgLxdGoaRQ+04PpT/W4NUG/h89OdOPocuvTJQlv+TC+7n5TpvG658ilV4vvENAWse\n",
       "ldtp35zx9VxN4PadQLtcTtQoP/H1nvtCVU/eZeKCY+qJ9kOMANdaeE1MlcE8jkvHOakkQ76D5lk8\n",
       "3835oPoBmymyQuPH6LzjXIAarZijpQJNzjuABQ+ftL57k+AzJc1kkZlazX4R4I0FlndeZAri9k69\n",
       "XWo7n7bzpbr/1fu7OY/ewgpXCfgkx538DOgYY7WVOKsj4uET37j+U3A+u3JkjnAzcRq7dP5CYJKV\n",
       "zn724dtWX9pnj5GkTirkhW0zPjGkl5eXuhnXhy4CYwG+Mc8dVDtm7A2+n/J6ox2YMi3bhAN+HGX5\n",
       "M4y2TsE7pnbl140geXMFfKU79Un3ZXziTA5xakXblhu2ybNHVvJXnxXGpfZUMnowvniqm5VifmYM\n",
       "/yv5Dwy1eH1pVW4vAAAAAElFTkSuQmCC\n",
       "\" style=\"display:inline;vertical-align:middle;\" /></a><br>"
      ],
      "text/plain": [
       "<IPython.core.display.HTML object>"
      ]
     },
     "metadata": {},
     "output_type": "display_data"
    }
   ],
   "source": [
    "add_int_closure = Forall(i, Forall(a_1_to_i, InSet(Add(a_1_to_i),Integer), domain = Integer), domain=Natural)"
   ]
  },
  {
   "cell_type": "code",
   "execution_count": 8,
   "metadata": {},
   "outputs": [
    {
     "data": {
      "text/html": [
       "<strong id=\"add_nat_closure_bin\"><a class=\"ProveItLink\" href=\"proofs/add_nat_closure_bin/thm_proof.ipynb\">add_nat_closure_bin</a> (conjecture without proof):<br></strong> <a class=\"ProveItLink\" href=\"../__pv_it/theorems/fe7c59e7a6719beb49bde33c1ba78f3d837bce210/theorem_expr.ipynb\"><img src=\"data:image/png;base64,iVBORw0KGgoAAAANSUhEUgAAALYAAAAWBAMAAACfwnvZAAAAMFBMVEX///8AAAAAAAAAAAAAAAAA\n",
       "AAAAAAAAAAAAAAAAAAAAAAAAAAAAAAAAAAAAAAAAAAAv3aB7AAAAD3RSTlMAq1RmmUTNIjK7EInv\n",
       "3XZ/CtNrAAAACXBIWXMAAA7EAAAOxAGVKw4bAAAC8ElEQVQ4y61VTWgTURCe7G6a3c1mGzyIEJEF\n",
       "URC1BJFCPdRAVcSirhb0YLHRHoq9uEUQBIXoTay2l6IrVdaLUEJJqgelIChS8BejKAVh6RYPVQ/S\n",
       "k0IP4ryfTfrys/TgwLdv3rzke/PmzcwDWIM4HK3WmkkC1iSmxdBUTtfN9QV3GJIf5uIBQJoYNkdy\n",
       "b+eoF32ygptm66yadQygBPANYD+ZD0VR63mGRmnL4We4zhibT2bBwEUPrpLYjEdxK1mGmvTxsZ0E\n",
       "anc99zZ0NQUg5wg9JK0oboOjJh18HPDIkscmP3yfHi52IbhIuOENyOhRW2S4t3I0cj+jgWFHOvEz\n",
       "9NvZYJYJ9yDAe99/G8ndy5HILAUi95lf6/DQNBsS1bDHHA0mCPcMwEGAu5Hcgxz9jrYicOu/vZID\n",
       "Mo1Em1PjVnPT06h0AoxAIh3a1XNcudJryy+4/olBfwlKReCWVsAIQHpOuWt36cAuaRKVHZiPXtKu\n",
       "LmTIBouuLaVn4RC3zTEoy5Aqo3rY99/5/keSQHloL4O6TH406qOMc+6YtxGVMdw9WHWVrxD7Cmjs\n",
       "VqAschvjULIFv3GrAQvi1O+p1X7raRKTfkS+Gz/F7ifE5b+LHi006drJoCzGpBTAXjFPML2PeiDR\n",
       "QKVWc8MtDZWdiEd4xfq8+od0jq9mjnogFWa3hNz3GUoWrJccgbuAdwAyjYQZVGsej21eR6ULcRmv\n",
       "Usmp5GhaVs73MW7FDIt1hkELpM+K4Hcsq2HRK8yHs9VGQArxAM/bGG5k2CZJFqOgpDtd17Wkgl4O\n",
       "W8hNBn3T05HvYg5mekg02CU8mGD1qZ5/jd+HiC/8/yVH24Nr7WBYN5jfcDw8ZarA0FiXLF35eOqe\n",
       "LzS0RCXsGc5Yn1eElNeFOYlz2QYzzHpsOhSNvYpKT0SLoxLv6XgMo5Z6JIDEHRKDId7ZidzmaP6+\n",
       "tOqhl8Qpa4dF17UF85SQv/VPQatHTfQm7rVwLWBoKkutHkJxTxn+r/wDBceu0plu/DMAAAAASUVO\n",
       "RK5CYII=\n",
       "\" style=\"display:inline;vertical-align:middle;\" /></a><br>"
      ],
      "text/plain": [
       "<IPython.core.display.HTML object>"
      ]
     },
     "metadata": {},
     "output_type": "display_data"
    }
   ],
   "source": [
    "add_nat_closure_bin = Forall((a, b), InSet(Add(a, b), Natural), domain=Natural) "
   ]
  },
  {
   "cell_type": "code",
   "execution_count": 9,
   "metadata": {},
   "outputs": [
    {
     "data": {
      "text/html": [
       "<strong id=\"add_nat_closure\"><a class=\"ProveItLink\" href=\"proofs/add_nat_closure/thm_proof.ipynb\">add_nat_closure</a> (conjecture without proof):<br></strong> <a class=\"ProveItLink\" href=\"../__pv_it/theorems/6c27c600d473e08863de41e1f711c6e9915b7b3c0/theorem_expr.ipynb\"><img src=\"data:image/png;base64,iVBORw0KGgoAAAANSUhEUgAAAaAAAAAWBAMAAAB0/FW2AAAAMFBMVEX///8AAAAAAAAAAAAAAAAA\n",
       "AAAAAAAAAAAAAAAAAAAAAAAAAAAAAAAAAAAAAAAAAAAv3aB7AAAAD3RSTlMAq1RmmUTNIjK7EInv\n",
       "3XZ/CtNrAAAACXBIWXMAAA7EAAAOxAGVKw4bAAAElklEQVRYw81XXWgcVRQ+Ozu787e77pP4R1iV\n",
       "aqQmBNGCReJAVYKluDagDy2ytA9iXzJBEFK1jkVQMaZBCHVE69QHocS4G6WohZaIhFJbaZRopTI4\n",
       "QaG2EghCFfpgvPeeO7Mzs3PtrN0HD5zZM+fMznzfPfeecy+AUFZ/hGsVi2tPRfRC5WqYj17zpys1\n",
       "1N7KU4l7/WdnDxhnFws+A12lvtvTCYlj2WQj195KZSjh0GqPAzQBfmGgH6aup9MJiWOZRG+g9lr2\n",
       "JO5z54whKAEUXQr6ZTr7ptMJiWOZRB5CTcho+tOjotd0BO5NErqLjHoZIG9S0JSWUUsnJI5lkhLX\n",
       "hAymPz0oek1HoOTi70XPY/nPPes/RwnB1xR0ngxhUVAUxLFMcgfXXhMqYtafuBRkyLqh0qKEdrNK\n",
       "9o3nnRZVOWEsk2zlqtx8wU8BKHALCY2f2IeGwYqVEi6lnKXBDCU0z0CPALxDFq+VRghj/1V2c91p\n",
       "aVdSAArcIkKFk/C+y3Dm2UQrWm1Cqjk3R4xNDPQ4KISxgYOlLB+FB6ohIYx1Iy9uree/5PZ3qPpX\n",
       "IC+BvikBEN2z8zdlJPTREGxDnNICI9QuChbcI71LjLsZaM016hiYunEGbjVc2Q0JtWNZRF1x6lL1\n",
       "GDzK7xdR5TUot2Bqlfm2ed4Zz/sWArdJUUbdCWkHHgP4iX9njV4nPSLTnFDOvYUYBxhoyedc5RHa\n",
       "Rn3TaE+5MJZJHrLJP4ZlaMUJlaahSYZlIDHi6L4ML9nZMnQK9Mt88rEMHYlmSK/SKbcTtzeNYfLM\n",
       "CjZa6N+wL0KIxWB2+LPgvxGzLdzJOri0/0m/FZ9yTR8ehE5C6N6clZD+N+TXGE6QlqijHCUEUxp+\n",
       "goL+hJSLj69zdZa+fuODHRFCNKafU/8Ken/bjGwIuJMNmWQf2xAQOoTarMH1ktVJCN1wPNsa0v+A\n",
       "XONOgpMUBYa0EpZIjQxJ5XVi3I+gXyDrfu8AFFh17wfzYoQQjcmmugAKq3bM3P5rfF0xJ0xjR5ds\n",
       "uRLsLeZRNV9aljszxN3q+USt+JOSbXAjEjgEA6a5l75FxhHbFfYl2vsfwR5BQeds9nj+Gcd5ixCa\n",
       "LUYI0VipXqnCfvZdZi7oa/HGTZ20aDqOU5NsvRVs395E1fs+H/+tkxB3T7iJDC3T6WRyIxI4/Pur\n",
       "fTbLehkH9PAM/lUdO0WuHxL9vn1E0K/YagszVBhMHB+alrbZhfOhaakLMULMudGHNzBDsD2YC2Ub\n",
       "FWUgteEopmJ1sVMgOElr4Dc73vNiW19lqQ1aapjYQu8DWEkQKlkHRhmhWW5qdWLqreDCnLeZpMaT\n",
       "h/N1qASti24WqSYIxTabE6+94naxOaU4Ycu/bIbDDPVZMEHIqz+Qmp4gVNgy+ClQQpM1NEeoqZ6E\n",
       "SYte0EkWpvI2nWLktBH24oNcqTw/diINxNn19a5OJASncP8/kTiV6l84M+ITK51yuPE2XD8wIXTO\n",
       "SSSDjhMvF0di7aJXoonO4Aevcsw+Hj2fT52uQQEnx9j6UmDS/KGlXUo75fuovZULopMsIbq62M2b\n",
       "8mlmHv5f8g8PTWD/cmi4dAAAAABJRU5ErkJggg==\n",
       "\" style=\"display:inline;vertical-align:middle;\" /></a><br>"
      ],
      "text/plain": [
       "<IPython.core.display.HTML object>"
      ]
     },
     "metadata": {},
     "output_type": "display_data"
    }
   ],
   "source": [
    "add_nat_closure = Forall(i, Forall(a_1_to_i, InSet(Add(a_1_to_i), Natural), domain=Natural), domain = Natural)"
   ]
  },
  {
   "cell_type": "code",
   "execution_count": 10,
   "metadata": {},
   "outputs": [
    {
     "data": {
      "text/html": [
       "<strong id=\"add_nat_pos_closure_bin\"><a class=\"ProveItLink\" href=\"proofs/add_nat_pos_closure_bin/thm_proof.ipynb\">add_nat_pos_closure_bin</a> (conjecture without proof):<br></strong> <a class=\"ProveItLink\" href=\"../__pv_it/theorems/6bfa0bd118075d0f6ee0cc800b1e24a0b0df67650/theorem_expr.ipynb\"><img src=\"data:image/png;base64,iVBORw0KGgoAAAANSUhEUgAAANEAAAAZBAMAAABdr9YFAAAAMFBMVEX///8AAAAAAAAAAAAAAAAA\n",
       "AAAAAAAAAAAAAAAAAAAAAAAAAAAAAAAAAAAAAAAAAAAv3aB7AAAAD3RSTlMAq1RmmUTNIjK7EInv\n",
       "3XZ/CtNrAAAACXBIWXMAAA7EAAAOxAGVKw4bAAADV0lEQVRIx7VWW2gTQRS9m2yaZDfdBgWxKCUg\n",
       "IoLVIFqoSIn0gVqqq/0QRDBSoZgPXREKgtboj4iPBlR0xcf2Ryi1ND5A7IfUD9Eq1X6oVWsw1U8f\n",
       "SEEqFYr37iO7s03StODADHd2duace+feswtQclsP82ox7Pycdnhi80NKYfen5rLjNg3+Aov+4khQ\n",
       "NxekizR8KbDoy7Jz4bOaAPH1UwupXAMIk7FsdiD/IEUwnWelZxiHr66HwcgOgP6cTxLCNJLRPjsS\n",
       "n7YiOKPtx16msc+4UTEKIeBVdUjFaAhTACdLvLAKGYd6JmJR05jA7nXlC7cS6ZfnfII2g4wYmR2p\n",
       "i0gPMslo3o1visYXxkS6kXmnIx3JdjiRtiAZZFZWQkL8oLPj+ZDEEZM0oR40o8gpi6W0A+k79uFM\n",
       "5mUJSIusuzr8uJNFKqsax5jc1e0O67o4JQiXHUh7cWEzwLVCx4u2qdKZ6L/vGdzSGKT+hDAJUANM\n",
       "anFKINbXZ2kEBj+JHMEfLphwtrmPqgK534lCC+vTGg1eAazS7biNBGs91+3tJzChgpooW/PAAdM4\n",
       "3ix7nzBIb7CH8MXtAGPEIZP5hHEnjk0Af5G0vh8fZT6YSJy21N7eLxM1R0IsodfHVdkTHoCtM3wi\n",
       "pCEQfrM+jYEP83yPLg0ph09CuM/hU5I8dojSc+wN+NBTx0NabGhpaHRFT5gG7y8WaQJ4zPNq3R5x\n",
       "IMGFoKNIcA73Ejj01j0kd6bHNYkK0nNqVzbN+FRJEpMFYQK4+AoG6Q/dHdTq9s+cGiFd6Yy9nXIP\n",
       "jmGwhdHAJNXdRynWo5+SHFjOIlFBiPjmTaiOxRikhXAJx2Yj4y0N0I0me/tG3VGE52MBqv9g1Btv\n",
       "NZB4KcUgEakABqf72+mqJIPU/YCi8NbQ8MrdRmodGmJlcpNlhGRSWwgl+XCNqqoRT1JIx5l6omyA\n",
       "9/k0wpB684Z8jww1cre2XBIqwQ1IugJCkbOGT7AzO1PL1+VVWH05WlRhhKkcY6WrVevFD1Yt1hdJ\n",
       "s6x/UhzNiK5S6KijxbXMmzvMV7/6PpyLBLZlwX8V5+fbzW+k3RYw9eJuV4ojlbsoGonTq6pyof+I\n",
       "zgInSUpxJNd/hE8r+m+Uhnk396fW+1/+9/R8QR/+AeEfyRbZuch4AAAAAElFTkSuQmCC\n",
       "\" style=\"display:inline;vertical-align:middle;\" /></a><br>"
      ],
      "text/plain": [
       "<IPython.core.display.HTML object>"
      ]
     },
     "metadata": {},
     "output_type": "display_data"
    }
   ],
   "source": [
    "add_nat_pos_closure_bin = Forall((a, b), InSet(Add(a, b), NaturalPos), domain=NaturalPos) "
   ]
  },
  {
   "cell_type": "code",
   "execution_count": 11,
   "metadata": {},
   "outputs": [
    {
     "data": {
      "text/html": [
       "<strong id=\"add_nat_pos_closure\"><a class=\"ProveItLink\" href=\"proofs/add_nat_pos_closure/thm_proof.ipynb\">add_nat_pos_closure</a> (conjecture without proof):<br></strong> <a class=\"ProveItLink\" href=\"../__pv_it/theorems/b388fd279bedae2dc6ac932ba2090e517ab2f3950/theorem_expr.ipynb\"><img src=\"data:image/png;base64,iVBORw0KGgoAAAANSUhEUgAAAcwAAAAZBAMAAABOcQOdAAAAMFBMVEX///8AAAAAAAAAAAAAAAAA\n",
       "AAAAAAAAAAAAAAAAAAAAAAAAAAAAAAAAAAAAAAAAAAAv3aB7AAAAD3RSTlMAq1RmmUTNIjK7EInv\n",
       "3XZ/CtNrAAAACXBIWXMAAA7EAAAOxAGVKw4bAAAFDElEQVRYw82YX4gbRRjAv2Q3yWbzp6EPPVvx\n",
       "OBXrSUmIVn045FzoFapSDFR8sKKpPoiCuPd4/qkRivpw9kLLqSl67vkgaKxJexb/oCVayiEqnhIs\n",
       "nC5s8aF/roVDOKtH9fxmZjf7P38uMTgws99+2fkyv5lvZr4ZgFbpOlWG3qQ7oK+JJ4WEOan+1Prr\n",
       "fK/+Nij1FzNKigkqbu8j5nukkHsNIzfH5LR+Yx4m/jPUa8xHHO9H/3pdgS+u5nRMWGSYKfK4sSlm\n",
       "gLpctsv2RGpYbOu5ayad7ToUSoG4bIwmnGWYO8njiaaYPHYNhLt1N74KIOZ7PwWfci6Z8hxADe4p\n",
       "vVUqYRdUFIr5EunoYlNMIdWYy12kDdhZvNsl9nh/7aOGkMvC7Y73jUUckYXGaIazFDOMtLGh5nOT\n",
       "dNjxbjGn8I/ibnXG++uM33KtOTVxhT0vqCr1lYHRSN6CyRcpJoe04RZL0PZerESXMW/9DzDDbHwf\n",
       "vKi/DwQKSxbMZI2ttN+r6rctMOOq+mu1W8xNmO8jM+Tac5oHj4/aF3P85H4mxOgiGmlM0QEoRnMm\n",
       "ZmiVYe4COOKyVrVh8gWIKutis9gpYX4c88NydNWDx0fthxmah3cUEHFd5KifmSvkABwQFxeMKAiE\n",
       "PxnmOESwP0T7QirZMPGD8fUNocXOPswYdImngF8A8U4HD1OXj21pE/PDLOzGkcS3YI1igonJDd1S\n",
       "M/exFYYZVWI5VoEo6yfgrpQTE4f7RIebpNtOHfNp7ONlSFTh4GWq262q36nqj2CoJdJ2q9qxJ+Hk\n",
       "wTlGvPR+gF+YUiB7JEyqmIoME7YETExRxwxqRk8c3DwN18cUXnFhZjpagbzt7GOY8SJUsFvTjtFk\n",
       "6hV4sdDeaH7D2k/clyK9bxlNmBUXzA7XnRbyo3pf7SLxkCbF4OOx+ljOihnmtA7iAG87utNWNLgb\n",
       "3JhMPdIupvgPcMsQIiFOkCIlrJiCZgYCwhUd8zguUqTCb0Q7fNP+mGtuQmwrjow4t2RMYItopvLo\n",
       "J/TpY2cz5hnkGYJNQdmNydTwZXtzU/wdAvmbP9qAzeIoUrIxDm9iPm9iGistPI++jhVE+tNw7N29\n",
       "bszIVyQolqcMNotoToIztOPAz84lzMdwKdCCdd49mrpaWHTQ5/VC/MPutDOQlqRn03oQiekxwyAR\n",
       "eHOOcfq+CQH0E6zAwqhhkC64MeEazGMwiTEf3ViIGMrstPuqJKDFoq+dR7Hma9jewU/Hz7sxdfWE\n",
       "YlcnJKOo2zFnl14ZLBDvgASbFrPTrOrLV4u22JlPWQ9iM8A9WSodwuaVw659k6XTGO0LacUQ41Cx\n",
       "B125JN2o/ezEsTmJgvGW9twgI1JE7iAKElfR3gv6y963Va91Uo9pGxWEKhuFUMb7vClegcMfQEIx\n",
       "xAgZXEuqyNERZZsGfnaIc3GSC9MWo0+8ekDpIHQP5tHejuYLon5CMSsc0e9rzvocq+eFlRGCKVaZ\n",
       "CNNELLOiDHF5ao9ygwR+dohLwxv6y3PPnPRq0w9ra53szuKg3Px0helW6+0BqTCBHiD8LLNTtAfm\n",
       "A7ctZQmm8DUTMQREcVIW5rGYHArtyMxBFG342IGNtu2tZzc+Lc7BZ5yXJOJnpemWlyTEaYNM/DzZ\n",
       "EDGxs9zRoK8dehcU0XqNea75z+u7CxIu4bnzITa31/42RDJn2JyKXmxys1eF/qe2b/aedt3TZj1E\n",
       "7v93T0vTvfSe9tS/2HJ5gjtyDFoAAAAASUVORK5CYII=\n",
       "\" style=\"display:inline;vertical-align:middle;\" /></a><br>"
      ],
      "text/plain": [
       "<IPython.core.display.HTML object>"
      ]
     },
     "metadata": {},
     "output_type": "display_data"
    }
   ],
   "source": [
    "add_nat_pos_closure = Forall(i, Forall(a_1_to_i, InSet(Add(a_1_to_i), NaturalPos), domain=NaturalPos), domain = NaturalPos)"
   ]
  },
  {
   "cell_type": "code",
   "execution_count": 12,
   "metadata": {},
   "outputs": [
    {
     "data": {
      "text/html": [
       "<strong id=\"add_int_neg_closure_bin\"><a class=\"ProveItLink\" href=\"proofs/add_int_neg_closure_bin/thm_proof.ipynb\">add_int_neg_closure_bin</a> (conjecture without proof):<br></strong> <a class=\"ProveItLink\" href=\"../__pv_it/theorems/073edd5d691ae307ded65e47ff1615ff966ea4bc0/theorem_expr.ipynb\"><img src=\"data:image/png;base64,iVBORw0KGgoAAAANSUhEUgAAANEAAAAZBAMAAABdr9YFAAAAMFBMVEX///8AAAAAAAAAAAAAAAAA\n",
       "AAAAAAAAAAAAAAAAAAAAAAAAAAAAAAAAAAAAAAAAAAAv3aB7AAAAD3RSTlMAq1RmmUTNIjK7EInv\n",
       "3XZ/CtNrAAAACXBIWXMAAA7EAAAOxAGVKw4bAAADPUlEQVRIx7VWS2gTQRj+02STzeZhxIOKUBYU\n",
       "FGprBClUpESaSkWqgXqSgoEK0iCyVRCEUqMIHixURVpTX9uLECNtrRWxB+lFNGo1HnyWhUSPFSmB\n",
       "UqlS/Gd3s7uzzWNTdGB25/HPfP9rvhkAy8UegdUWR3XiW1YNBK4r1UhzUbKk1FYVFjdXg+QO4udb\n",
       "iUkmaxqoOfGnW7oVLHR9IkCANDZbQOol68eLTCRn8PPdNOi/GoeoU+8iTCtpHLeAdADrvaIzx7A6\n",
       "RVMOhMAfnAA2gWUIXb8EcN5qwBawtlAjHeo/TxIzREvbBEhyhm27FGU8fGUgFrWCaWqoQY0RmYFX\n",
       "qptuSx/l/AFos8V12f2oDEbNacEkfwbDFC2G5MmoShPUk5oX2cBFg+wPrDOS9NoCkg1RHCQhep71\n",
       "0UjO2hz65KHcPqOHyy0OG5YfxYk2gGErSY5Od6L9zAu4K1JIYzFuEaARTKlVZzdm/gB6sgdcAQtI\n",
       "ThTyoe4PgtBO27RDhLcA2+W2wb1RKibnIsRKj0ZobHfBV+nJm3Q2+bDrRcFDALOk3y5JbyTpPbb2\n",
       "AfxGpeX1GArpixJX/jGA7ssxXFqTNYBvIuK5RMQneEbFFTYRpDRwC7RNs8BgnnfKGafndZIcnfW6\n",
       "TSQPowZSeok1jIN2uHAaXOFwuNXkPW4Z7PM0Uh4cmOf1cjuj7bQBTxQ3r8dJwM9EDD+p5ifEnOWc\n",
       "6FfIKmQ+iqiiOwtcHrNwK4X0i8QOmuT2Ty0OocO4JkPlHvSittwndpE496s/lFQuo1Nx03nCU+tB\n",
       "yTtQX1BCRVoH11WyQst5Lcdj4LqmO3OPrG2c0BQ7LfO1PapwzKjHzNboIRZ1HJm7VBunkEYmiRc+\n",
       "KFfLxiPKYOdgOvEurRPy3kLDGyFsC964I9CInMjD+BTcp6GeY/1cjCOUC0p1FPNUYSNz6dKSUHDv\n",
       "Rk+uAS9/WV6wLQhTK7l8V1GGlbk7WP4aXdJsEgY6xBReWE3oYcJlDmAytHA/8a5QaquzFd4gGjkw\n",
       "LQ2PoJ9nD2bBdQP7O9fODZqYw8ZT58VUhsoj+UwqKomTSiQipd4RfaWYXqjqHcGIZaXr/t3byP7/\n",
       "3ntow19997yMEAicSQAAAABJRU5ErkJggg==\n",
       "\" style=\"display:inline;vertical-align:middle;\" /></a><br>"
      ],
      "text/plain": [
       "<IPython.core.display.HTML object>"
      ]
     },
     "metadata": {},
     "output_type": "display_data"
    }
   ],
   "source": [
    "add_int_neg_closure_bin = Forall((a, b), InSet(Add(a, b), IntegerNeg), domain=IntegerNeg) "
   ]
  },
  {
   "cell_type": "code",
   "execution_count": 13,
   "metadata": {},
   "outputs": [
    {
     "data": {
      "text/html": [
       "<strong id=\"add_int_neg_closure\"><a class=\"ProveItLink\" href=\"proofs/add_int_neg_closure/thm_proof.ipynb\">add_int_neg_closure</a> (conjecture without proof):<br></strong> <a class=\"ProveItLink\" href=\"../__pv_it/theorems/e673322231ccb38b5d5a1629d0199606625a6ae60/theorem_expr.ipynb\"><img src=\"data:image/png;base64,iVBORw0KGgoAAAANSUhEUgAAAcoAAAAZBAMAAABDb3PaAAAAMFBMVEX///8AAAAAAAAAAAAAAAAA\n",
       "AAAAAAAAAAAAAAAAAAAAAAAAAAAAAAAAAAAAAAAAAAAv3aB7AAAAD3RSTlMAq1RmmUTNIjK7EInv\n",
       "3XZ/CtNrAAAACXBIWXMAAA7EAAAOxAGVKw4bAAAFNElEQVRYw81YfWhbVRQ/yXvJe3kvybJ/dEMs\n",
       "8WsWakp0OnCMGlkGVRGD218qGtgfsqHuVUXZHDWKoGBd62QfqTrf9ofadWtit6GbUCpjlCpikDoV\n",
       "DbyqMLVTilAnRazn3vte3me+SFZ2IS/nnvveufd3z+e9APXatWUF2tK4DCx74/EXLX9d/8Vsu2a8\n",
       "cflBgjBEnmuXD6VEBAlth1FnvGeZUYaS+Pip3SgDmoPhf+LfbeV3kkY3olKUMULfUBOlj36dbHE9\n",
       "u4mQYttt8mdHP/pmDrJBsxujKDcR+vGaKHkSNoKtxqD78Pd++z0vqDriTQqiyXEQ89gOoJ8sUpQv\n",
       "VXy0KkqR7MfOVpezgL+NbovzNpFANctxDXApe9+nwIhkwbOVoiR7Icdr++V2/BtvEaRINnXSxfZr\n",
       "nm9XYXsNfK6b5rvl8zTIAfT6cubwPRQlh5sTrBN91rYhCEVLuMTsZUC5len4qYrlirFXLMMXWYz9\n",
       "slz+og7KcLn8Y6txw4dyeCJEuOaC5rHqvon+ZlCaUj6iz+dM9wypw5YPHlMpyl6AYZewog0ln8NP\n",
       "W00k6CtB4lSPKKFF96oDU/Ce2gRKJuUDpNaBI352cdaPB3MUZR8IGF0kewhN2VDiC30tx0KcJIL+\n",
       "L50FvgTSOseqjyXhfpA+Xak2hpJJgQkkb3Fm9azNAV/MUJQhVUZCZl8LM6dgQ8yJEpV9qkn7nD75\n",
       "tj34RbAbxon4eYgUYc8fNOqjJ6DDkBD+AMAPWHWSpVvZjixRGWBSmLKoLyK7/D0LAHFcq2kWBYbS\n",
       "rxnY96zeB9fJKq+6UHY3E3zE2XwmoshjqkuXBGV4iE6ccOhyGqQFWJER/mlMl7oUartUt2buGCF5\n",
       "8WpTlzk9evboO9VLqiAtJcPJ9Ew6Y0UZ5LTGUaZRLgcvPwNCOp3e5LTYggZ3gQul9B9w88CpjaJk\n",
       "Uh6NVSSVKm+swowpzZt+qTCU45gOA7N6rdR5U7/s8kuQ16BipBNzhvOO9nzsXoDOjLK8nXJma9zh\n",
       "EC6xEIer/IoL5V8YhG/GiUoNoiRSdmkkjN1JGX9WLCm1BScrOWMs7MYdGVuhMqV3ykcedqMUPsPH\n",
       "cWVQRyl9K15ynzl05ggrSZ7OOfIlVgRyjCD1z/Buiz0ECbIvbziiTwFnl/7WCcsAlSIcKemVI5pK\n",
       "vJJHtoOw1zTgDfqZhFQKuxJ67dQJqd/cKGEVsUQYwEJPpbWiOAkP/pJxFJDIhCHYTHtjsrM0w30X\n",
       "cVVSxyd9v7pRHp57tSMHwrCDTWIWzBiERfdUCrEN+IYxVj+ku+n+6fxX02YmvNt68joE3LZ8fi+i\n",
       "HA268iVr52AWxARBGc5gqT9pMX4wmCR/YZkch+IZOGqHeQ5/31V6Cc/E+Cw830ztU/gQzUw3zsBp\n",
       "VuF5lUYGSmkxJxaZLgPd3udL6RK8dZSd1wpKaL2qiPaqlDK7NHidztmZhDPuM8ntLpS26ls4+Nq9\n",
       "zVTra9D0+donQv1Mom9RNsUqoDsANeZ9ip4SF9YTlKMQVgY3qxDKICkVjQdlXp9iVZLMQ6BklzNA\n",
       "nMYIXy/smPBYUnhpab6ZrHz4Qt2zEhez6rJDgZ3on+J5hR2aPVBuuW0uSVAOxAMbu0/Q0nAgLk7B\n",
       "gEIejBlC3zqI7966cm6/I6v74ra01q52oPZwRHHciEin8/vq3ogQi2XhTFY1gySNUcf9mFHy+Uy1\n",
       "e5/+doOMKpfh3ke8OA4BFu13LJUMkvgLo0K/VxfUdSXf4T3pvI/lvEjuCr2PVcl97Nn/ATWafCVs\n",
       "9C3zAAAAAElFTkSuQmCC\n",
       "\" style=\"display:inline;vertical-align:middle;\" /></a><br>"
      ],
      "text/plain": [
       "<IPython.core.display.HTML object>"
      ]
     },
     "metadata": {},
     "output_type": "display_data"
    }
   ],
   "source": [
    "add_int_neg_closure = Forall(i, Forall(a_1_to_i, InSet(Add(a_1_to_i), IntegerNeg), domain=IntegerNeg), domain = NaturalPos)"
   ]
  },
  {
   "cell_type": "code",
   "execution_count": 14,
   "metadata": {},
   "outputs": [
    {
     "data": {
      "text/html": [
       "<strong id=\"add_int_nonpos_closure_bin\"><a class=\"ProveItLink\" href=\"proofs/add_int_nonpos_closure_bin/thm_proof.ipynb\">add_int_nonpos_closure_bin</a> (conjecture without proof):<br></strong> <a class=\"ProveItLink\" href=\"../__pv_it/theorems/5f0ce43daeafbf145c9a2762eb862bdb849de08a0/theorem_expr.ipynb\"><img src=\"data:image/png;base64,iVBORw0KGgoAAAANSUhEUgAAAN8AAAAaBAMAAADF8pQYAAAAMFBMVEX///8AAAAAAAAAAAAAAAAA\n",
       "AAAAAAAAAAAAAAAAAAAAAAAAAAAAAAAAAAAAAAAAAAAv3aB7AAAAD3RSTlMAq1RmmUTNIjK7EInv\n",
       "3XZ/CtNrAAAACXBIWXMAAA7EAAAOxAGVKw4bAAADt0lEQVRIx71WW2gTQRQ92U2ym002rYoPLEhA\n",
       "PxShRCiCIjXSFquiRhRBLDbaD2nxY6t+1pqKfxasFR/xxfoj1IItPlAKSlHE1gdGUBRhIfWnvij9\n",
       "USGIeGc2WbPbbJtWdGB2d2Zn7uPcc+8M8D+acA7BB/0z2CjGZ6bvClCNXfBOe+eSGekTT9NjCGWa\n",
       "1DXNnUqCHpLbX81lPtzNdmURipCb02uBKD0+uP3d4wTywM9m41JUfsgGchZqFKoOlLPh4tIUtjEx\n",
       "xWKvXEqTJ1GHZ6eSSPiBZQOmwlAGYdJWx/7tL03hJurXiv7xx+jRYp/zxsiGm/Sxa4BDWhaBkgU6\n",
       "GMAlBvMb9RrbzPbcm4QBVfbVHg09Cpfcsd4kDdBEthGswUhJ+ggWYNA2VZl7N5IUhHRz8MkwGLsU\n",
       "oN6T5DOtCzGGbfSxgThLyPtLczBMgRISRRXe57iaQdz52bKw/LjF4OCDjfT+Sv2FYTwrTaGHlHkZ\n",
       "Z6SK0Yxd4d6x2QQUJ6D0J5QB/YJDBEOiHrgwSeoVZkVXzosGLZC1KVS+630aRO69/08+LhczDnEn\n",
       "CeJWSOXuRWIB2ivzEvy0TqVwK4/gTdsUCpz0Ao9vQXxYUkBOUTuXmzkaZ34HrQopN+fRG759kZje\n",
       "W8/Ing+bSjMhWusdh8qQ3WwYzw3jFcuABMr6IY+zVZ0GNU7OcOQOoNsc6KPtQqbApgqmdSQVV7Xg\n",
       "DR2H75I7g3ha4CFTGOriGws8JP2NEfi4hz2WsB6WbvNtCo8y1iYKKtwQ9VqaFHHsEKQ3jANpvHNA\n",
       "2pfBWjtLKQ236hA4zqolbAFlojJujyELz01Gq97qu8y5XyN6rkLFCD9xLvfwSR5nMjhANOiLYJ6g\n",
       "2RQmKa4QTSDzRJFjO2hPegJL0UaGK2/lH2zx+3DMhEQ8yJwX5hAAVgzDgyb1AxnhtdfmoScaiOVS\n",
       "BthnJUULpG57EVvDVydZ3ZMH+XEgJsxqdSNoWlmH9sV5lvooF2SyWFl0r/WjPS0qWMVTzcBePWMS\n",
       "peHscOrlsL3Wr8t/hOKskCOU9JavJBZH0D+A6xOS5DH1d0UrDW9Hcu/dl42ES5o1WXTVAqvJrjI6\n",
       "JU9wZ5ZGMSDV1tbWOU+LqqLFm7eaqU/wrOWhdnK73ksH5CqCnsZBL3zpCes7GepuB3spZ45olRhf\n",
       "TeUtdEbkLRlI52m8YtaXsxPrj4eVGVex7qZYTXUsMU+p3lQqPsmdpt1N2ujU5d9xp/HpU21Y/nfX\n",
       "Uyfo4r+6l1qXDvLoNzT32v/paIvpAAAAAElFTkSuQmCC\n",
       "\" style=\"display:inline;vertical-align:middle;\" /></a><br>"
      ],
      "text/plain": [
       "<IPython.core.display.HTML object>"
      ]
     },
     "metadata": {},
     "output_type": "display_data"
    }
   ],
   "source": [
    "add_int_nonpos_closure_bin = Forall((a, b), InSet(Add(a, b), IntegerNonPos), domain=IntegerNonPos) "
   ]
  },
  {
   "cell_type": "code",
   "execution_count": 15,
   "metadata": {},
   "outputs": [
    {
     "data": {
      "text/html": [
       "<strong id=\"add_int_nonpos_closure\"><a class=\"ProveItLink\" href=\"proofs/add_int_nonpos_closure/thm_proof.ipynb\">add_int_nonpos_closure</a> (conjecture without proof):<br></strong> <a class=\"ProveItLink\" href=\"../__pv_it/theorems/5a701740a82b12402432d4aebf389a63b15d33890/theorem_expr.ipynb\"><img src=\"data:image/png;base64,iVBORw0KGgoAAAANSUhEUgAAAc4AAAAaBAMAAADMEKEOAAAAMFBMVEX///8AAAAAAAAAAAAAAAAA\n",
       "AAAAAAAAAAAAAAAAAAAAAAAAAAAAAAAAAAAAAAAAAAAv3aB7AAAAD3RSTlMAq1RmmUTNIjK7EInv\n",
       "3XZ/CtNrAAAACXBIWXMAAA7EAAAOxAGVKw4bAAAFkElEQVRYw91Ye2gcRRj/srd7u7d7d01AbIo2\n",
       "pD7SlJpwtWppkbrQFGpL6WH9S6uc+IcoKhcoSkobr1hQIZpDCZrE6raCr7Qm9qGmgVIbaqjPU2Nj\n",
       "1YVtFGobKaEQU+IjfjOze9lncydrFBdu9rvv5mbm9z1+880A/F+fJVkYGCup50I9G960kfQcwzQg\n",
       "Ygh5UFFO6l9drmsmzHmvm1uYK1MA8RxMQgv9unyucMpkMDFsNIEDnqvF5gkNjqNT5xRnDO0Lo2Hj\n",
       "FAyXou6Lj3afHoQ2AhPaNfga4DuGs5K8rg3AWUFeXCqEFW0nA/WFHp4/uv1YDVFcN9etMZyfA5xh\n",
       "ONeS1wMBOHlCHtEw2GgDfl4PPw2jmvN7E0JX0JkCAYpxexGgV6M4d5IwzwfglIi3W8JY0AR+1njj\n",
       "zj9UhKAI2uxhcdX5fT7I+beIIF2RZTwE0RTFSSyi1Abl50P4OhACTGkKm2MeNWf49g5QAzR6NB+z\n",
       "V3K3foq8NeBz1YyiqrSkIaCf+DzFGUG40UAeWh4SHSULuPrMP4DzfhYAjxbjd6ekFrl44CdUJ48x\n",
       "vv1M1z8JxBnX9R/CYI8KHIsnAzUfbfUDFKAOwileddbs8i5tH5tJ066YK2WFKYZzHf6G+1vWFyef\n",
       "A/f/Sn7s/4vlWaIIQ/Cq5gUUoA7EuSUbw9W/gdIt4ORRrm+1O2UuMZzNIGIUK2xocfgw3Fo5gxN/\n",
       "av6bMJflxNGzRV7EMRPIAvtSsBHgtYwLEFXLA1VaaTjlQeAxEY6ieINrp49S+ZlOfEzPiRMMZ0xT\n",
       "zNLzuQUdsEjReM1WJ3TB4TLxXd19+yFcyqEcUlwx8ROYNHGcZhPA9yBdKBAdjzmBSUOsStU8Xbxd\n",
       "7Xw26vqnuv4l6TIOCTOb2qnLsL9+mn4fRTCysxIzcXKGuRp+HakYDFWx10ONZdEQsdQIHDkP4ga0\n",
       "5j6IazZ/Epwn6bRcweVPqp6XFi+V5s94HnpN32yhUIr7opzHXbDCkYOiGbeQwYgWzpi1Rf31rQ6c\n",
       "0YhROkxqqZS0OAU7yDJ2QCLnjFv5T4iMe3EydUQrFWevAbcB3Etc3kAVhSLf5ebjz878nDRxHsBN\n",
       "8p15GjNKvbL3bjtOpQ5dIh8cs0xkE2eentXv26ownifZmab+tPpW4OAxA+SLyLyLvTiZGpRCiThr\n",
       "4Upum0GIdCVVXLA67BIwQRb68i1sR7tsazCLkHpQz9lxih9isz/bbi3YJs5kwAi1mRU+K+pJuyiF\n",
       "nFDMT7KJKTjPK9Cgqt64ZWp41slD8q9W05tx4IwZ3DAv7i2Y9SSGi1XodGHZ07LEWTKZ+yf6ms4U\n",
       "ebCz83nE2RN1nFeqadXYhuWfBqYoNK51hqsq4Vh501KywShiV1ocXWE3qoTr2jP2VE3Oi5OpxS6X\n",
       "ethqEqqTb2s+aP6ZxAfAN0yx4C42zcmHO1/+vdu5ukrbuUyeykl9zJ9Co+dcdgKLfqlBs8S4KwPi\n",
       "6SRlR2YpRdFk75Z7Aj/fFje5gu9GuRUeL6ce6n0Tw80cSehndZ9fqZ+y4eQyKlBr3mweZOw45Ul4\n",
       "4W1IaJYoEvfaJ8zGVmlLDWCWuuNJULStTU1Nafd55SYPTkfBLr709Ppy6vg65AF+9jOjeV6xIiEL\n",
       "LRi/0qksO3Q6/DkkTawiOOU+JkIHEXtY04Ns075Zu0YFZqk+Fe7xzkYsE7N27vd+83NYfHp6vJyN\n",
       "es/Zks5Sy9z3CXJ/Z4f/fcKdN46lCE7pOBOxGkSxLSsNYdNWK6xpPAgxtBKxVKSqpv8+nwK31r7N\n",
       "hfa8OHuXkTLvTUjcckw8kiyK+DCu28/5WMp1P9QaNszk7FcA5d4PSb/gOZSxWnT6D0skycRIJ3b+\n",
       "8vMt/ZeucUu473vEc3+b8hEj/837W+tZT+9vB/8CP4WcnKMCnrQAAAAASUVORK5CYII=\n",
       "\" style=\"display:inline;vertical-align:middle;\" /></a><br>"
      ],
      "text/plain": [
       "<IPython.core.display.HTML object>"
      ]
     },
     "metadata": {},
     "output_type": "display_data"
    }
   ],
   "source": [
    "add_int_nonpos_closure = Forall(i, Forall(a_1_to_i, InSet(Add(a_1_to_i), IntegerNonPos), domain=IntegerNonPos), domain = Natural)"
   ]
  },
  {
   "cell_type": "code",
   "execution_count": 16,
   "metadata": {},
   "outputs": [
    {
     "data": {
      "text/html": [
       "<strong id=\"add_nat_pos_from_nonneg\"><a class=\"ProveItLink\" href=\"proofs/add_nat_pos_from_nonneg/thm_proof.ipynb\">add_nat_pos_from_nonneg</a> (conjecture without proof):<br></strong> <a class=\"ProveItLink\" href=\"../__pv_it/theorems/f3b763e044806d2ecef610383b6ebd3c1e2327f00/theorem_expr.ipynb\"><img src=\"data:image/png;base64,iVBORw0KGgoAAAANSUhEUgAAAyEAAAAZBAMAAADUATydAAAAMFBMVEX///8AAAAAAAAAAAAAAAAA\n",
       "AAAAAAAAAAAAAAAAAAAAAAAAAAAAAAAAAAAAAAAAAAAv3aB7AAAAD3RSTlMAq1RmmUTNIjK7EInv\n",
       "3XZ/CtNrAAAACXBIWXMAAA7EAAAOxAGVKw4bAAAHwUlEQVRo3t1aa2wUVRQ+Ozv7mtluiw8Casj6\n",
       "ADGRuuEVH6QuQQyPEBYwUZHommqI/JBtJBCM4GqMj1howyOyRHHABIFau4IYHklTMaRURaup4ION\n",
       "U2mCCm2aGoQs0XrPvTM7dx77+lFLucneOXPuuXPunO+ec+69swBFiitzGq6OMg2u2RIlPxGJ3ky4\n",
       "qLD3ahm1gMP2jWCzFxh7IzZjBe7IyEFkN1a/jWBEPKr5Xvo1tQLkb49riECNhkgVXm8vhIiLztDI\n",
       "cL/QZhxFekhV7D05pI8/a7kPhBcBtOg+AhUKQ2Q23iwvhIgYw0tiuH2+TfeTISzPDOnTvYolRZ+W\n",
       "IxDMIRKqYoi8kgth+RDxo+Ta4XYREd1jlj0UOPuuJ59LLykoPVCaWGmqbA3uqAWRu4grVICYSnWk\n",
       "SASQsgwRBE4OF8wjK8hl/3AjUome2mbP96rzMkDN85jqQtKebEliJaqyN3zJLqH3MqcoIi+oqwki\n",
       "uo9ALUMEk7u3cGafQi7x4UakgcwcIT60iMidQ4tILcP9eS16uRJjQmkOkbnaWutkJvNVYUSCmcyZ\n",
       "9HAj0qtHrrrW9U6vnYedDxHfzedUm7R3XHfYLCb33evwUGduXkRazyYZ8QmtV+vpxJUIwFYOkQsa\n",
       "InMAthdGRExCQBluREbjWMhwPe3wvuIQcJzZeRFZlghkbdItK6RLJjHf93TiWsScuXkRWRcWtTw9\n",
       "HUzLKFfCH21uNhB5SmGI1IGPpG6JraWSToiQ9rr/cfPqXFK4PiQz+KMILHB47TzsfIhIX4BIQtSH\n",
       "Zul7FPjGJFaR1hm8mDM3LyK/QFBllr2b3scNRGCy8K7x2g1JhkhAkUnSlFn3H9kk6DoIM6qMHeJ2\n",
       "OFiOWV9vLBOHdfNj7s9zm1euv9yai5ZPk1+QDHQhviJ8QF9LJOGUBF0cKWVLR0cpZra5LMhkvs5k\n",
       "vkORfrQrtJqlHwa4YhJbiI+z6yLcYqqMBjGbs2wDEn7CzvykIeJSbjH6vBxjiAiqObFvHLsVbpUV\n",
       "UTEQqS4vsbvKSTr+7lRMqDoC8wxESH+Jaa+Bx3W5Lg2RDpAugr+v0zIRKVukE78UHwk2QkvMYTZ7\n",
       "BkxiHThAB11QiiqtIWjMz2XUPRs5H5Gqmo0OLRoiEK8xgTsH9/BqVOZOUbxutRxEgskyhB8iwkKN\n",
       "CGkDEdLft4VG0RNQmeB8hEQt6V9w95MeFisxdmXMd7k0RFpUeNAeXwb0Ca2JkaeCoy4oRZXW0GK0\n",
       "T6J1J4cIbAxwPqJFLdhP9huebqqrJ8y2+hPHr+cRkSegnx44r1uHI7ljmhyzoe8musTIIS2ftY9a\n",
       "44VwBMKrj6ocItjfP4o8zJeFYJhDJKCCNACu+J12K1G2WykZkTCMFhJPVpmlL2M64sX+Ipax6aLc\n",
       "ElRpDZXkkTG0LMB9lNGXO0UhCITe4hb4CQ2Rl8i4Pq6kUVGIM5+aKO96gkPEh0G+OdGgw8CRRjGY\n",
       "vUoPTuhYvd70g9++tdN4e+nYk0fGc4jQ/r6ZSfBnoULf+I5FFMlId8CkaNRuJcbO7Sh0oP5G68f1\n",
       "yjB1QBW6REnNmh9yPWwxA0eWVIfsuijXqopqMPQZDWShJSdFupWazyyqTzJKPGyYRF9rgYtA9SJ1\n",
       "qH1ylG39J0L0D/7sdwyGFyAWXkvjO5Ke6tmW8IPtAXYmOJ2Oe48mLjZKycU9MXPmIzwguWoJQ0QM\n",
       "NRqIsP7S3BhBJKjPQFys+4kRdp5/Y1zSbiXGhg2KmY3ZpyKqV9xaa9yhut99uyxG3flpxIyIfKBG\n",
       "seuiXJsqqqGLU6U3HJ3yJ1oWZyHTPXYpy6ArO8xHdTOAP43fwcwfcT+XSm0iiDR5eUSwHIdu8E9S\n",
       "dDLITi2NgkxWTsBMeq+LY0Juk/rNuUYDaHoqlQoLSSkdNxBh/cHdTqJWZZibQNpS0CG26/u+7WXt\n",
       "2QNqPmlezFlXcVWmBtxK+bQHeQ6zUxRrmckjImVpNq5M+NPMRzzVFkTI3mnzPnZiTEkf1JvTCDIF\n",
       "XE5CPxwj9SX9gJlm54QlcCHPPRXgbeYjsFg1EGH9hR2mzE4hnGqzkvk4bxWsKeeksWVPPuklToiY\n",
       "xIqrMjXge4hFvmjU8ogI8ahEsKjX9u/TIDfhcz7S7r94P5qYyFEStiLZlKuQKdyB1M/uRlI/CzJF\n",
       "pAm8MbKSCsQ4WcZbsxvYYYA7xo6iNURIf8KrpUlwkensN5CwWsl8Yr/tzXnlLAoniKVIOeoqV1V9\n",
       "8fNz/exXj6sJ/zEKw1riLP5TCfadikfkkcnnI2hiIkdJMYlkfcLfjpXG3Ia81/qwXkXCJyJSH/bN\n",
       "InF3DlJMtl3nPYBvRh69YTkAhwjpD6FNbIeYe23qY/pa3vfZFadYERwc7C/HTDvPlfJhxlFXuapw\n",
       "gr9TWMRdBZavugL1G+lwaqvlFIUraGKBkUdCORJ0SuoMa5SQEweaCWRF1ShaGHUj+TWlUlzO13dP\n",
       "/k22AV+H1XoYoYVYNlTko19FworIUu9jbY4njdwG+8J+Isf4g//oJO2sLRAUjVqaE/fQXLJysFOj\n",
       "aIhVzHslGyIOZTeM3OJoWWvRv7MbJSL2KEUQYXJOpJUy7t35qNBt0XIQEdIjFxFHy1qjY8n/RRmy\n",
       "/2sJN9h5hRz7Gv6/FkUNQes9E/kPZreIbUNw8dAAAAAASUVORK5CYII=\n",
       "\" style=\"display:inline;vertical-align:middle;\" /></a><br>"
      ],
      "text/plain": [
       "<IPython.core.display.HTML object>"
      ]
     },
     "metadata": {},
     "output_type": "display_data"
    }
   ],
   "source": [
    "add_nat_pos_from_nonneg = Forall((i, j), Forall((a_1_to_i, b, c_1_to_j), \n",
    "                                            InSet(Add(a_1_to_i, b, c_1_to_j), NaturalPos), \n",
    "                                            domain=Natural, \n",
    "                                            condition=greater(b, zero)), \n",
    "                             domain=Natural)"
   ]
  },
  {
   "cell_type": "code",
   "execution_count": 17,
   "metadata": {},
   "outputs": [
    {
     "data": {
      "text/html": [
       "<strong id=\"add_int_neg_from_nonpos\"><a class=\"ProveItLink\" href=\"proofs/add_int_neg_from_nonpos/thm_proof.ipynb\">add_int_neg_from_nonpos</a> (conjecture without proof):<br></strong> <a class=\"ProveItLink\" href=\"../__pv_it/theorems/30b036a248fbe02bd1d92ea7e06f247eacf9715a0/theorem_expr.ipynb\"><img src=\"data:image/png;base64,iVBORw0KGgoAAAANSUhEUgAAAzIAAAAaBAMAAACeDHTYAAAAMFBMVEX///8AAAAAAAAAAAAAAAAA\n",
       "AAAAAAAAAAAAAAAAAAAAAAAAAAAAAAAAAAAAAAAAAAAv3aB7AAAAD3RSTlMAq1RmmUTNIjK7EInv\n",
       "3XZ/CtNrAAAACXBIWXMAAA7EAAAOxAGVKw4bAAAII0lEQVRo3uVaa4wTVRQ+2+d0ptstKoqQkCqK\n",
       "GLKb+iKiBotAghq1UX8YNFpjiMEYGZRoVmGphqiJla0P1CLiwA8VVukKGAUiQYhZ1+eqgIo2KbKJ\n",
       "j9XNBoOYjbKec++8Z/oYktWu3mSmZ869cx/nu+dxzxSgRmkqfQUNVvxp+C+XAF6x0hc124Uab+pn\n",
       "4RUey7KXq9aG83S/YAwiI2bw9v1YRuZW27Pv7j8XldYmtcdZHJk4/UyphkwTeznZMOuK4FR83aML\n",
       "/tq+0ew+ZhNm7KksZAwVaFYYMvOIvrMaMgEy6yG5YZBZhtcrozxGKDWq3d9l8ywpBGuLAVScIfOw\n",
       "btkqISNQw/bGsQVX4zXHwQ26K3Wwkq67V9yg/rYkbAz3Zic61IW2KEuGjWIehAKW51FjhxkyIVQd\n",
       "KVHVzxDCWxoHmaN47XZwfWXXxhXYlSra1N/bFBvDvdmJDhXl3cdeKh1gxhNgflPWqL6DIeNPVvfy\n",
       "IR4mZBoGGAF3lC8zysi8C6OKTIhpUfAeRV9UfKWp+koem31SKn1UHZloqfRdd8MgE0PnHKDphCf9\n",
       "UHZZ/pJdHV7EZe1FE/ntgyfZMNh1OOuCjJlbGxlp8GKVYHHX/YoR1ShrTC/8wpGZD7CmOjKBLL7Z\n",
       "MMg0ZdQ9d4scGXYuP9gDLysekLH2oopc/F0pyhYMlicCeScyFm7tTfAF0wY6K2dscdd0v/llsqWI\n",
       "zBIII4Iin0jWDRmsX/IPHVXqCZpRFs3oGMW9EOhzLv/1JFzjQWfUXl61itw3DNGyBYNvNUZlbk1k\n",
       "mrvhUzRcxGF+0mSSMxaH0pllyEQUCcNiib/9NQd331twWdw4aa6Bt/6ZtMsE6GjjW6Ry1BrCiUVx\n",
       "xoEhWqo4g4WdaG/RKtOUryN5iTvHKVa2LUzVK3gvsIu415RKH5dKn1N9Blq6LQzSKz6Wndv15sT6\n",
       "hoLrmC43o9iFIfItyC59wy10AgVsaPqKNEPGV7YGAKtOXw1nSEpAMZBp8xYAPJr3aqB6t72IUHTN\n",
       "pziQD8W6EBbpTXYO6OewFEcmmodiGlb9atuYvSAehYCuTrU2Mu/FrgwI1m0JMyNK89HHsnBTmo7W\n",
       "1JleI44mnRENMW2kc8tp+mMxrYZdsywYz6ecQDklmbIzIX/Zk6C9hAvCoUK6WZY2K7D0bZztbvjQ\n",
       "QAYmaUbOXw7mTTpD1qxYhsvxsdVmnY6Dfwha0uE/6hOX2otN5Hic4RtcYxRZ61ZbM8Y9Ciuy9RnO\n",
       "4waH7RvDFk/AE404ZOgMt2awBc8rwUPs3f4EHCZi2tkdZmSkqZ4CgGjWQ+O52NgPj9wH4f1kR/tU\n",
       "g8px+IAb19kKdnnMhEwE11pMwKk+2YHMEQwRzvErdSPDerk1bkMmi/7HwsCQI+1AhnEvqRcZ+A3l\n",
       "DJuvILPNljeo787UjbifDaA6ZY7MMpzW5hZml30ZrmLTpA03m5AJv0dr3jqgZWhMpMl768zOwYks\n",
       "otR1UTrsnLTKU1NIKTRR/vFMZ3pM1uz4IZyWME6GFQrs0TQyz6POSNm3L+DQGVgHrdSZZLNmxQxF\n",
       "XCphqmC9iOVhq8ibkpGUhYEhmJR1IMO52uHHMRS7mSowMHsHUlNBjfohlNBj5rsg/HTeHpsBnT4f\n",
       "ZINuklI8kzANUj+ZkIEJeL0hd2pwmEijGMxflX6y1emcVrVfcJ7ZVd5G7vrvpW3nO5niFZOfiR2M\n",
       "pSD4LHbbqcCX2nkG3xNQ7uLkd5b86ERm/cBjk7GzJxVbXESS3qcRJh2jXsIb+mxR86Q5tihs5wU/\n",
       "O60Z5woHKwzFb0aFtHWWIirbmGzYKKcvUCP353oLn/UaPuAyMH0FWKeeTf2LCoWnEZmukBkZZnYA\n",
       "Jd2uaGSwbZ7NLFF9hKhnYAbbIa+pzQN5MXt9v/VzF/EAowyegdrMbacwDzqmyAYykaQ/E3yR+kBk\n",
       "PtW857AeQ4LTz6glvMbTwTxSrnS4tzBaXbntiqccAKVelqtL2c6zM/Yy24SMOMxsZYssdHOdCbbZ\n",
       "kXkfDoHQqmhkFIrW7ogJqneYzZ615hRJ7TY5OI1HZUahUEhA9w7YZO0tzx1WIJ5jKo/W7IgxkDkl\n",
       "2OqaNlwKD3hJMxZfq5SqvMEVGTM3nArLXjKax1wTsmAHT0PGl0mJiElOzQdcBLqYNWTEY/DMJv7p\n",
       "gJFhyFndDDF97FwwxHwCzYA1R7wBZJtBI54f5fsEm/q0JOwIz507d54VmRaIJsTtCR5UHDPnmiOy\n",
       "Q1oWlXnh8au8xCxTA3U1cx2r/fGVXuIjkkO4+rFCzTWrD5NlYQ+Do50OQgdk/r3MrDM9wtFLSNSI\n",
       "ICNhNZFd+o2YvrOIOujP430hSAyZLgiloRsiaVNbznvgFeBpHykAwT4XnWlWZuL9J9xysXJQP8Tl\n",
       "zGeBhxbvcosOR0aGvCCz/od6WrmP9dnIiKe0X9y8r9wP3HGwfm32MTUStxdW27IzvNx4/kCSRI0I\n",
       "MjKQJTInCz10U5kvEG/lIN2XonckZHKJ8JxZCqXncgnetkfjXUq7G7s+b9zAc3EXZIRrmYWeidDs\n",
       "7Nc3ZhMpUQeM0UIpvxr7oFm2IbMgdNNu14ym+SWFIUhlR0wnQaPEvoRK+fTmwByFpJRVihVOjafk\n",
       "RqHg9lcYi76fa9ljYgbGblmYq91G/R+AUZKBfqUGMsIvWxBBzh/5SyMZrGqIp6jUAr15kHW6eKRP\n",
       "pZhj4VSVj+3VLPH0MYzMtbX9X93/nXH83yzpRtop49lfiYqdmToxZP7r/zdT6P9me//FGfhOqVIp\n",
       "w/+9/A1FM3wjNRzIlAAAAABJRU5ErkJggg==\n",
       "\" style=\"display:inline;vertical-align:middle;\" /></a><br>"
      ],
      "text/plain": [
       "<IPython.core.display.HTML object>"
      ]
     },
     "metadata": {},
     "output_type": "display_data"
    }
   ],
   "source": [
    "add_int_neg_from_nonpos = Forall((i, j), Forall((a_1_to_i, b, c_1_to_j), \n",
    "                                            InSet(Add(a_1_to_i, b, c_1_to_j), IntegerNeg), \n",
    "                                            domain=IntegerNonPos, \n",
    "                                            condition=Less(b, zero)), \n",
    "                             domain=Natural)"
   ]
  },
  {
   "cell_type": "code",
   "execution_count": 18,
   "metadata": {},
   "outputs": [
    {
     "data": {
      "text/html": [
       "<strong id=\"add_rational_closure_bin\"><a class=\"ProveItLink\" href=\"proofs/add_rational_closure_bin/thm_proof.ipynb\">add_rational_closure_bin</a> (conjecture without proof):<br></strong> <a class=\"ProveItLink\" href=\"../__pv_it/theorems/b7d2165770b498df985d47016de2d301d7a720060/theorem_expr.ipynb\"><img src=\"data:image/png;base64,iVBORw0KGgoAAAANSUhEUgAAALcAAAAWBAMAAABwABDnAAAAMFBMVEX///8AAAAAAAAAAAAAAAAA\n",
       "AAAAAAAAAAAAAAAAAAAAAAAAAAAAAAAAAAAAAAAAAAAv3aB7AAAAD3RSTlMAq1RmmUTNIjK7EInv\n",
       "3XZ/CtNrAAAACXBIWXMAAA7EAAAOxAGVKw4bAAADC0lEQVQ4y6VVX0hTURj/ubu7P3dz2b8HEWTk\n",
       "gy9ZFxNJAxmYEUQ62EtUxKIokojZQxCkLCIKDB0k1ITq+hKIgbMCkyB6ywrDh8rKBls99BCESGEU\n",
       "SN93z7nb7jaH0Ae/z3POLr/znd/5fUdgHeGWWOu3shHD+uKLRLlQM8Ur2kxyhJiP0bCG5w0VuR0p\n",
       "gZIYn6P0tXg1O4v+OiCgA108P12R/L5EaZwkuAz7mm+PDrUrAfQCl1m3REXyTom8FLocLBOUkP3r\n",
       "QRelRAfQIjb2BSuSP5fI6yR1Vv9wfiUmgTvp9/x3dIzSE9rBb0ChKlyVJY8KlJL75jmfEBudE/Jo\n",
       "iSHK25xxuIh5Lp1+XZHcmRJA37MBO7mrPktnnjLHF6T0nlSEckQJwkde2U8nqUjOFTDUF7hn2Mgn\n",
       "e7UVoBWFnlAzzZSHHDoUOm0f3DUWj+eMNZoY2Wh1QXVQ4IGOg/bKdxp4A2w3x5Zu7hT7OhIIw0H3\n",
       "5DV84VyVdbxDNhl2P4WvWa75wwI9wCKrlE5/Jim5oH3AX2DYLIuW0h95JDU34FniMgruc5awN05X\n",
       "dR7arpid/CW0X/bKF6GSGY+Ke7QoRvukW1R2WLSDZeiY5v1XswZ3Fq43ApmMTRZtFcqSnXwZTjJj\n",
       "kzmet8iPmD6nYzt46SG1krbgWWGvfgqExvmLdj1P7s2Y0JZRFW20kf/me0CbOf6RMxd36FY6iMKH\n",
       "uUTyOUMePoRXV6LsJJM4I58TthTjLppCIRv5ZoxQPiA8lWvEKXpbtkgLoyrOmgb4hvxxZ01rMpkM\n",
       "HiqQxTMvMPb9Wn3cRj72mCV8J5qn9rDll55TP/m7assnkzFvO3l4A/zBQbPaggvFB4mSDhVcUm11\n",
       "RrQ/V8u3iH7rC39sOGJMoNpoI2uadoQv9w63SJQ+XKbGeknb1Qc2XS1469TOHY9wI+jpzsB922yi\n",
       "t8fj1o/emED5uFjmNao9e7PkqRV3MpFMklrTV/L/WhKFPi6OW2usF5WjFj77zobuXOMOSJSLwFpH\n",
       "+mafKrbZ0G78b/wDChvGlS8iu1oAAAAASUVORK5CYII=\n",
       "\" style=\"display:inline;vertical-align:middle;\" /></a><br>"
      ],
      "text/plain": [
       "<IPython.core.display.HTML object>"
      ]
     },
     "metadata": {},
     "output_type": "display_data"
    }
   ],
   "source": [
    "add_rational_closure_bin = Forall((a, b), InSet(Add(a, b), Rational), domain=Rational)"
   ]
  },
  {
   "cell_type": "code",
   "execution_count": 19,
   "metadata": {},
   "outputs": [
    {
     "data": {
      "text/html": [
       "<strong id=\"add_rational_closure\"><a class=\"ProveItLink\" href=\"proofs/add_rational_closure/thm_proof.ipynb\">add_rational_closure</a> (conjecture without proof):<br></strong> <a class=\"ProveItLink\" href=\"../__pv_it/theorems/94f90000c3e67862da990cc1e66292b66cc48ad10/theorem_expr.ipynb\"><img src=\"data:image/png;base64,iVBORw0KGgoAAAANSUhEUgAAAaIAAAAWBAMAAABwCYWLAAAAMFBMVEX///8AAAAAAAAAAAAAAAAA\n",
       "AAAAAAAAAAAAAAAAAAAAAAAAAAAAAAAAAAAAAAAAAAAv3aB7AAAAD3RSTlMAq1RmmUTNIjK7EInv\n",
       "3XZ/CtNrAAAACXBIWXMAAA7EAAAOxAGVKw4bAAAEzUlEQVRYw8VYfYgbRRR/l81mv3LpVVQ4Ckds\n",
       "0R7oHeGsolVqoBYOpTZ4/4gtEhEURXRPRGmxR1TEQmsatMXugbpXwQ9OTaqcbSmUA5GqVYhw1lpd\n",
       "2FPh/MASxC8qeM7Mm93sbnbKxgZ88CYvv7eZnd/Om/feBkAoOacCFygK156KcEKT6C+nz/NLo3TB\n",
       "N/+Wa09FdqOIftTaR+jcRe05GKAfa+IZiX3JJNVA7bF8FwUWP4Kdq0hQFRijTRS6L56R2JdMXuPa\n",
       "Y8nYkYXeUAB5Uw3gAcboSRqZtXhGYl8y2cg1EjWF+GAqCGaZiAJSMfx9d4YMtQ0A6xgjStjIxzMS\n",
       "+5LJPNdILLrxIeoKZhntQD7hqesl5xT9nJ4hwxFCK2tTRhJ5NBlBZhD7kh2jMmrPGd2Dm/oQRp9e\n",
       "q5JxdboCmQJlBJ85zklRrhP6Ekm6gQqTx6fili6ARYyUVUv8kkNsfIwfJ7VB43JCyoMxwBiNk20j\n",
       "RM04Ruj7zye4gCqfgFfszqULYCGjbaZ2DuB1Yl0LwZQlu2NkrKYKIJUZo0lQCDUD51MW5uDGAZ8R\n",
       "+rqS2X0rvYfTn0d9qwCbAV4tR5bOYP3YSjsZI/0DSDcBjhPzKgZ48ykNWmAmciVIzTNGmu2V0urg\n",
       "frjMsNO2z6jtSyLqolVSjoExxr9nS6hbAL4G9WyTRaLjfENimT4nBqfZMoNwWDY7zqeO8zm9pAX9\n",
       "vLbtZXcj1ztfUYufIxvUFmOUcvnhT4/TeuoWjXbU+b5EcjPpmoxHQL/aDDP6GPTfyX2akT1i8IqS\n",
       "8leyPcrWoM4f7zZMCN4F05M818m4R1AmmVxe5KV4+PKpACPmg9kNh/2YapuBQEOQlexdawFcNxR1\n",
       "+j8gtToZISzZSRnVXbiJdDp0G0cY4M0HW1k9GsNbUEbvklL7zgobOQ8bB7cGGFGf/qX6p9dAtc1A\n",
       "V8XBN+mwvtBmpLlM9V+hr7y2kxHCYDQTMsrDpakdLkkOcD0Dzvo5lfYMl5DlSzVk9AShvWOE1+xh\n",
       "KP4YYER96aI6DwrLecy8/fvw2WIg1LC2UzYuD3eaTKm+DCPFYmfUIQzPRTJDnZx4/Q9uBBhpbmoh\n",
       "rRyks9yKqdSv/YdIX3cxLxeUUV+FTS/db1nPE0azmQAj6suWcgPw1Bk8GcSc11shRgykOdWyrPwd\n",
       "gahTm6gzPz87VOlkhLAyHYH7aY+z4BmBXDd0ZPIHtu/wBQKDd3rZbsu9v1ES/SVkxLznKmoD90ge\n",
       "jbxN1E1tvQ1nfNNUw50NA690YTf7USAzwGmuuOJmbOF5FB7vpmeov0EI8Jnko9gF0QdPzzvshDaj\n",
       "VLmItfQa0ptHGGXNvROM0Sw3tRIx9YY3MHB1kaR6lsHB8N8/1nENMwq1pMqBXbd006lekSbB1Xnl\n",
       "UO6iZ7Ar9vdoyITtZOPUUyb0RRjJG0ffA8poTx7NcWqqJ2CPSQcENRI/B1jiW7jbf/XVTFS29Pf/\n",
       "jtuE7PJyq5sCPrMEsD2mKRx88AV8TZgLvwnuF7/D0qjDo2jYrmeCD76dImQsi/zk8NPtGWvBstEz\n",
       "eVGAs4c3d7638uD/DNWTeZAxKz283PRMuoNoaT/5qW/Nbf6jmOLaU8mZAscS/Z/hw26mkuJMqeOy\n",
       "6nXwf8q/u/d8+gI/17EAAAAASUVORK5CYII=\n",
       "\" style=\"display:inline;vertical-align:middle;\" /></a><br>"
      ],
      "text/plain": [
       "<IPython.core.display.HTML object>"
      ]
     },
     "metadata": {},
     "output_type": "display_data"
    }
   ],
   "source": [
    "add_rational_closure = Forall(i, Forall(a_1_to_i, InSet(Add(a_1_to_i),Rational), domain=Rational), \n",
    "                        domain=Natural)"
   ]
  },
  {
   "cell_type": "code",
   "execution_count": 20,
   "metadata": {},
   "outputs": [
    {
     "data": {
      "text/html": [
       "<strong id=\"add_rational_nonneg_closure_bin\"><a class=\"ProveItLink\" href=\"proofs/add_rational_nonneg_closure_bin/thm_proof.ipynb\">add_rational_nonneg_closure_bin</a> (conjecture without proof):<br></strong> <a class=\"ProveItLink\" href=\"../__pv_it/theorems/96f1bc4c6570500345b5529ec31fd457d6ebe8570/theorem_expr.ipynb\"><img src=\"data:image/png;base64,iVBORw0KGgoAAAANSUhEUgAAAOMAAAAaBAMAAAC3PfauAAAAMFBMVEX///8AAAAAAAAAAAAAAAAA\n",
       "AAAAAAAAAAAAAAAAAAAAAAAAAAAAAAAAAAAAAAAAAAAv3aB7AAAAD3RSTlMAq1RmmUTNIjK7EInv\n",
       "3XZ/CtNrAAAACXBIWXMAAA7EAAAOxAGVKw4bAAAD20lEQVRIx7VWXUgUURQ+7uy6s7O7rkYPhRET\n",
       "BgaRLCX9SMiKK5qhrthD9qArPkQ91BrSi38TBQVKSv8bZSNEYUou+SAaiRChUoFC9MvCKIQPhUig\n",
       "gQ/SuXdmh72zs7VaXbh3Zu7ce8893znfdy/A/y/8Tfpwjkc2MpsLbGTWwDXSFkItWNc/eefG/My4\n",
       "js0UeEL2nvVOFYLY2JP9Df0GnV6wr4JLRFfXWRxebOaT/a1LRDQcLtVsTvKr4PaCWwbIJB05KZps\n",
       "xWoxSwLh3gzC5zXiuU2yz9LhwmgATboUyEB7JaTnZIomj2J9ZPon3YfNaUPn8DDAsVoSiyKJAOsR\n",
       "QVgFuEB6Ug3qMtZipqdGe+JqAPkGckQw9A5OAXuWpKUPQCNuD8F1iikSDLcIE0xXnvasx2XAJat4\n",
       "3o++p5F/gig6paCwmSbWIlRjewTjigFITzXXMWCWoKnJFxRdGkzbGdUy9PMKjhfLBFmTgnJsv2N9\n",
       "G42+TtFkGpqzknRoGm83mGxY3ISL0lw8r1mEThtuwebdy6xB4CgDuJsqR3pUT2yT8EBmTAor8lAI\n",
       "uCCTi3UcBoxXWDp0Y1ibwJ6ZxMTDMZJb8wt6WuJANy4z6IUK1ksLZYCFxllHvsVCvfzKh7Hc1jo7\n",
       "UDIdslMXTv6UTuIbWRjzllKSX3qo3cgEFw6uAvhCviui0TfR6Cy+WYPgiQC/RNbASEU/UVDUWJYz\n",
       "bgzhfIsSlz3ZZM5cOGB/Dk4Sg6clMBhLRNVLYnIahGXWS3cE6kWwES8FnXGOx2rGMiY7CF+Ccbo3\n",
       "hdWPnc5zIOwjqd0WaAO3xAIrrAG3xJpEWlbJYJkh7zOxxWwqL1kGdpNVnxHRGCgcIQ6uzclUtq7k\n",
       "AigIy6Ux4mVMr9PQAYcCwg/M3VzWpCS8RML1qPyLlWJUn+paSMhYaMW9Cx/4n4R4nzN8/eRHgZea\n",
       "rKak1YHPmFCJ0At7fD7GZJrX4dMIBOm6W06isT7W5GE6HHGz+vgJelJwQSphxEMl0ifSjD2gI4Xq\n",
       "wyNufd8ub5dYkmQTHXTTPBS2nohNaF45W2ZgQVHsxRUgEg8uyZq5HzNaPK4BayivsH40VR9a2rSd\n",
       "jaqCh2ULZ1ykUU/dkKMAQfbgKdpJIaHp0+z3+wPGkyTfVNbV2CXqlTK3i1mBnCSal6HuGnkAD9BD\n",
       "yFNKFHCaHKJdBPykh7/ZgbTj1jRzinK67NiK84ahS+Qr8aS5Q6XgXYNkIrJiPO8S9DD0Z810G8aI\n",
       "sdsDYjFyMdndpz3ZcgspyLTh7mOT4z6sOZUmF8jdf3mlNWLPMV9XD/6ze2ycI+jVL7wk6wfD1Wgk\n",
       "AAAAAElFTkSuQmCC\n",
       "\" style=\"display:inline;vertical-align:middle;\" /></a><br>"
      ],
      "text/plain": [
       "<IPython.core.display.HTML object>"
      ]
     },
     "metadata": {},
     "output_type": "display_data"
    }
   ],
   "source": [
    "add_rational_nonneg_closure_bin = Forall((a, b), InSet(Add(a, b), RationalNonNeg), domain=RationalNonNeg)"
   ]
  },
  {
   "cell_type": "code",
   "execution_count": 21,
   "metadata": {},
   "outputs": [
    {
     "data": {
      "text/html": [
       "<strong id=\"add_rational_nonneg_closure\"><a class=\"ProveItLink\" href=\"proofs/add_rational_nonneg_closure/thm_proof.ipynb\">add_rational_nonneg_closure</a> (conjecture without proof):<br></strong> <a class=\"ProveItLink\" href=\"../__pv_it/theorems/804a7feb46c8a1c0ee53cb5bbaf3451a2306bf720/theorem_expr.ipynb\"><img src=\"data:image/png;base64,iVBORw0KGgoAAAANSUhEUgAAAdIAAAAaBAMAAADxgsBoAAAAMFBMVEX///8AAAAAAAAAAAAAAAAA\n",
       "AAAAAAAAAAAAAAAAAAAAAAAAAAAAAAAAAAAAAAAAAAAv3aB7AAAAD3RSTlMAq1RmmUTNIjK7EInv\n",
       "3XZ/CtNrAAAACXBIWXMAAA7EAAAOxAGVKw4bAAAFwUlEQVRYw91Yf2gbVRz/Nskll0ualapzdVjq\n",
       "hrOgDbGbyuqo0bU6LGWFin9Y0aigOBQu4B92ahdF0WFpg7VIC87rCv5YnE1b56Zjo25I/W3Vzsn0\n",
       "4Oomc+uUMayVitbv97275C6XjETOCj7Iu+/dffPefb4/Pu/7HsD/s21vY5f9s0VpX6rKDs59zZIi\n",
       "ld6twd6tCUmIohBSvzqfdszJqV3RJfbqqQhAMAHz0Mlu1y4Z0lep8zkN53wDrtdgmwKH0LFLi7SP\n",
       "uh+cRipo9rAdeFFPug1yrwJfAxzjSCvosroA0jIWdxEnjD9BI6Udj9HjuQ9mPoQnVjIp1Q+I9HN8\n",
       "xJE20+WBAkg9xGBeJ3jJkzYi2NnmVaz3gesjIDQnUXpkBVD0ngMYURjSJ8ngyQJIRfJ4pxNftIxs\n",
       "ttEeffnjpb3QMLYX7hyie96LXbIRII5AOSOBN8KQklECNYXydAtexpxA2kt2nbAzspZXO1xoGPuL\n",
       "j3WmVVVGK4ND2O3zwtAtdBfSBPSVJ8mQuhGwtyAjrXWKmH4mWLF/Ael9rL/9tM5HyR7sV3kSu/j9\n",
       "/hNo4dAE597PVPWTgkiDqvq9IzSy3MjV+MGuPEh9K09qpSDN6o+y2y36czFN8d3utgSpsMCRbkKX\n",
       "ozHkvEg9CfArTiAdAJ4vwiS8otiR3in7F0pByvVfQ+laMJOmoNVj32NdLsTfOdI4+DCWA3xK3/Qe\n",
       "2FCRRYqv4v+oGGshOF3hjP3uwV85WvrNCLQCDMesSKXD4JmC1OglRSLl+nAQxasY0sxilqYFsz3U\n",
       "tn0Amz67b44j9SsBXg1DT1U/XBZQPIqpchiEPSVXnDdejKO/LROfZTJzmpgQ59kM8B2Iv0yxlQdT\n",
       "A3OHOOMslKexQG2lx62q+qmqfmkfOfuC63Oqo65bxcYWED1PLXEo6Uhdmm4RzyaqIbRowFwjhUsi\n",
       "JLLVY2kYR+dJJ9qkCYMZuU8J6UdsXteU1afBJIy0wRxsSxTnU67P45i6NzIKg3HOvZaqRY9eiOHq\n",
       "I8zo5Ubt5V0WpF63VkJ5QLbaWwPD19H4R3xT8G1O9Ep/gfusHemIBjcANBSNlOvfRWlWR/flGYUO\n",
       "tp7WW/4kzutIx5C43lqmSMz7tYGdHWakgTUYCNL4rJFwJjHbUo17M6WZ+JQMoRBeWxT06aShUoU/\n",
       "vwbSOSiLXWFHWgPLXTjugSLzlOlv1YjE1vN1M2NsqpEuslZCBvfC42iarXV6uVIL0VNmpL73sdst\n",
       "9xrwTGI2D44yqwGzlXsYCKlwARsgE/pnyGo40Q6oi0ZtSP2aa9qD1jmWQzy/EaqYLpheMH3fThql\n",
       "hT24N/Mxo1j3XphTR+nrKZRRyOwA94MDAy8g0pTXspehoqoJurEoZFlOohButgZtVMSxktxW5M9Q\n",
       "QKqkF12rM1a5G/8t4pcNzT5bnbAhlar3xX8ypjD5lHisPKoLZhMwfT/9+Qh7MNRv/NW3+f5fEzlJ\n",
       "VWHatUkLCTHNfSqEbbu2D3A7INYphhiEEctIwbYQW5iYrQQ9enMasVE2a3OR6h8Z9cml1Egjr+N/\n",
       "9JE6Xlb1zy1LNObuAiImpK5YlOoHdgYyk4tUmoe+XVCuGKKPXGyeUfY3KFdqwG3FGMnX1NTUbNvL\n",
       "rLMhtVT4nc89rZRS4a/BgPfYtwjVocpnrN+nmH1aLUMnOl38RuabUotPJ8W5BkIqpbkI/SSmeJeC\n",
       "oNzbrqyKArdVTwWM2aen+Aa/sZS/80c+Rv9icbGklXvoZN6NlqvqoT7Lg6tzzxxwt96f/8zhtvrZ\n",
       "CCEVD3ERa0QUu2VxErvuGmFjeBz8aCeyFUgHbl6R57MqDcpytr1UhM7REk9XKHpdXHwvlBGx8Wp6\n",
       "t8uwVeDRSKFzpC6ngYaKOCUo9RxJPIP71Dt4hi/+aYiUajy3/Kczqjet+zFPTDl/slJkK+Js8GHb\n",
       "eW8kj+i25+TxxH9+3mtqt7Lz3sN/A7LMo497YdDyAAAAAElFTkSuQmCC\n",
       "\" style=\"display:inline;vertical-align:middle;\" /></a><br>"
      ],
      "text/plain": [
       "<IPython.core.display.HTML object>"
      ]
     },
     "metadata": {},
     "output_type": "display_data"
    }
   ],
   "source": [
    "add_rational_nonneg_closure = Forall(i, Forall(a_1_to_i, InSet(Add(a_1_to_i), RationalNonNeg), \n",
    "                                        domain=RationalNonNeg), \n",
    "                              domain=Natural)"
   ]
  },
  {
   "cell_type": "code",
   "execution_count": 22,
   "metadata": {},
   "outputs": [
    {
     "data": {
      "text/html": [
       "<strong id=\"add_rational_nonpos_closure_bin\"><a class=\"ProveItLink\" href=\"proofs/add_rational_nonpos_closure_bin/thm_proof.ipynb\">add_rational_nonpos_closure_bin</a> (conjecture without proof):<br></strong> <a class=\"ProveItLink\" href=\"../__pv_it/theorems/c6177140dad06e9ea592f0c0281bae04f4689dfb0/theorem_expr.ipynb\"><img src=\"data:image/png;base64,iVBORw0KGgoAAAANSUhEUgAAAOMAAAAaBAMAAAC3PfauAAAAMFBMVEX///8AAAAAAAAAAAAAAAAA\n",
       "AAAAAAAAAAAAAAAAAAAAAAAAAAAAAAAAAAAAAAAAAAAv3aB7AAAAD3RSTlMAq1RmmUTNIjK7EInv\n",
       "3XZ/CtNrAAAACXBIWXMAAA7EAAAOxAGVKw4bAAAD3klEQVRIx71WW0gUURj+3dl1Zmd2V+upGzFR\n",
       "UBHJZtFFIjY07EK6UQ/Zg630EPVQa0QvpY4UFBQZFZnRZXopSkHJICoSKSKjAoPoysIoRA+FSJCB\n",
       "D9F3zuxOe8bZWi06MDNnzu073/dfziH6P8XXSlpP10RmSvEJIl4mWkU15B//1DkTQ5TO4NVHRUn5\n",
       "1Hinqgm85Fy9yVwdkdNs2iiFdFAdZwlG8RrM1Vs7pqW9ra2SSHnI6soohaMUNomK2e/sPCEPMbN4\n",
       "OYF6sR9kom52Mwz5JYbPv2dDhiyKAG8N69uZJ+QGPNc8ewpjeO12NXZ3E22pQaXmHhe2SCd1lKiZ\n",
       "yZyvUb/hKRdaNqe/WI1oiTha6YLpg5KFanOl7T5EO7A9iKvp+SFCG6Jeoakk/d2OZShk2npeSr3m\n",
       "lr8JFTWDuRzVT6Mh2oTKOvgvDFCYJ8kIDOZLeEI+4OpyYwb22Mh0QwFBn7427c5az3p8v+B5kUo9\n",
       "yxOyAHB+5j31PY0uyLqhyWDEffFAGpGOB7CFQLRUWIPJgU1c+A2MmR0jp2wmgSd0xRQg1RGzM0lS\n",
       "QvDFWgkGUywxHFoM7Jjk4tyIiwx58JPjlhgYxjIdUdoosvTxCPBxOzvKH/Rxlh+VNpTWdGMTUmbQ\n",
       "1JzEqexygvjsJLiXetuAfzmmDiMSQhhcTfSB/W9MpZ6nUi9R8yeoqIuUYbYGLJV6x0Wxbble4NCJ\n",
       "+T4ry3umszkDbXH5PmmlJG8AbEfGEW2WDPIpqd9EluEu2q5TgLFUnYgLXv/lsU5pMpgQWXmvD08F\n",
       "GrV9pC5ONjD6DRQ2RGHVHyQNi5AIy2qTfP2s3p9ZLGDHpRiBLSwT32JJo33VHUbwx4DJ09axuUSW\n",
       "RYvinGUmXxeAQNAi9St8d64IaaiPEHCc4JCzfDmyz6YaGuOxdAh7V98o31ngvY/EbrCOsiiHpFlR\n",
       "BK0jfKTXDoTLtDAWEyALosFYOoCo0KGlsRwbEyFX8uHQzR9TevlJISV4CmNwFlvgSFweXOYoheyj\n",
       "QLern4/ONMQgmc7yYJj7oTp1W2bC/pG9a10hsDpTCcVZiqeQ4S9eCo/Wt9rCustjPG89sw8vDemd\n",
       "3bUTHsoUyb3IDsd1k8EyiFyEU/Q4l4S7z/6Kioq4+yRZ4pnWbduNzVfWwDxhBXaSpFkmWzab7ThA\n",
       "VyBOeaCQ5nGInmDi5zz8vQ6kWeeeCqeo5KSdQHlJN53QlSqL5PM8FbyqMzySrJ4dd2PuDMk/p+mw\n",
       "a4yeuT1AizuHc919GnMt9ymPk8F19wlkp3D/7CqPC+SCv7zOurWXhL+Ty//hPdYhAlY/AQy86cyH\n",
       "ggJ9AAAAAElFTkSuQmCC\n",
       "\" style=\"display:inline;vertical-align:middle;\" /></a><br>"
      ],
      "text/plain": [
       "<IPython.core.display.HTML object>"
      ]
     },
     "metadata": {},
     "output_type": "display_data"
    }
   ],
   "source": [
    "add_rational_nonpos_closure_bin = Forall((a, b), InSet(Add(a, b), RationalNonPos), domain=RationalNonPos)"
   ]
  },
  {
   "cell_type": "code",
   "execution_count": 23,
   "metadata": {},
   "outputs": [
    {
     "data": {
      "text/html": [
       "<strong id=\"add_rational_nonpos_closure\"><a class=\"ProveItLink\" href=\"proofs/add_rational_nonpos_closure/thm_proof.ipynb\">add_rational_nonpos_closure</a> (conjecture without proof):<br></strong> <a class=\"ProveItLink\" href=\"../__pv_it/theorems/ba2989a24df59df0c019136c44d4d41d702d8b570/theorem_expr.ipynb\"><img src=\"data:image/png;base64,iVBORw0KGgoAAAANSUhEUgAAAdIAAAAaBAMAAADxgsBoAAAAMFBMVEX///8AAAAAAAAAAAAAAAAA\n",
       "AAAAAAAAAAAAAAAAAAAAAAAAAAAAAAAAAAAAAAAAAAAv3aB7AAAAD3RSTlMAq1RmmUTNIjK7EInv\n",
       "3XZ/CtNrAAAACXBIWXMAAA7EAAAOxAGVKw4bAAAFvklEQVRYw91YfWgcRRR/uc+9vcs11rYmFsPZ\n",
       "Yo1ojjOtSqPE0yYSlNBAxD+s6KmgWBQ24B+manqKomJIDmOQRKybBurHWXNJqGktLbFF4rdRUyvV\n",
       "hY1VapsqpRgjEY3vzezu7d7eyV1Zgziwb9/Ovp3Z3/uaNwPw/22XSbB/tijJixTJwXmvWnKgKrhV\n",
       "bwriyIeVL/9JNOHkvK74EgPdGAMIJWEeOtjj+iVDuouI32k4hQc8GUGyXYZDaNilRdpL5HunkXrV\n",
       "3B5xX/+LGHRdBBR6ZPgK4BhHWkG3tQWQljG/izmh/AkaKeO4jx7P7Zj5AB5fjVO9LHOkn2EXR9pE\n",
       "t/sLIPW04s3nRF7yZHQPdrb5ZOtz8NoYeJtSaG2Cit57FmBYZkifIIWnCiAVyOIdTvzRMtLZJrv3\n",
       "5feXtkLD2F64cxLd8z4kqQYkwgqJZyTwxRhSUkowUihOt+Jt1AmkPaTXCXtGVvNKRwsNY3/xkZaA\n",
       "FIWllYFBJHt9LGDOk8OqF23lSTGkbgTsK5iR1juVmH4mWIl/Aem9jN52SstHqW6kazxJLTHv/wE1\n",
       "HJ7gufdTRfm4INKQonznSBpZpcdq+8HOPEj9q0+opSDNyo+wx61av5Ah/25zW5zUu8CRNqPJURlS\n",
       "XqSonIB8juBE80M/8HjxTsKrsh3pHVJgoRSkXP415K4Gc9L0qnVIu63LhfA7R9oOfvTlIJ/SP70H\n",
       "rqvIIsVX7ecI1F0JnVFDf3fjVY6afisGLQBDCStS8TB4piA9cmGRSLk8HET2CobUWMwytGC2hVuf\n",
       "68emze6f40gDcrCV93RX9cHFQdkjmyqHAdhTqin33XAB3tLNlM+MyJzGK4TzbAb4FoRfptjKg6GB\n",
       "sUM54wyUZ7BAbaHuFkX5RFG+sI+cfcHleaoj0qVgYwuIFqcWPxQ1pC5V04inmWoINR4010jRkhIS\n",
       "6erRDIxF4OFxnGFCz4zcpoT0Qzava8pq01AKhlthDrYni7Mpl+d+TOQNQ2Cg3ci92apF815I4Orj\n",
       "ndHKjZpLOi1IfW61hPKAdDUegaFr/Edohin4Jsd7xb/AfcaOdFiF6wHqi0bK5e+kMKul53JDYAtb\n",
       "T+ssHwnzGtJRTFxvL5NFZv2a4M4tZqTBdegI4tisHnAmNtvSDeNGaSY8KUE4DO6VzKaTukgVXgEV\n",
       "xLNQlrjUjjQCq1w47oEi45TJb1MpiW2k57BhDg/VSCutlZCee+ExVM22Wq1cqYH4STNS/3tIdks9\n",
       "OjwTm42Do0xrwHTlHgJCCq7zaQDD9U+T1nCiHVAbj9uQBlTXtAe1dCwn8fxGqBIaY3rB5P07aZRb\n",
       "WMc9xs+MYN27Iic3ausplJHL7AD3A/39LyDStM+yl6nEqxG6sChkUU6sN9pkddq4gGOluK4IZZgC\n",
       "QGiCzrWGVu7CrwX8s8HZZ6qTNqRi9d72n/QpTDalPFYe1xizCph8gD4+wjoG+/RP/Zvv+zWZE1QV\n",
       "pl2buJAUMtym3qht1/Y+bgeEWllnQzBsGSnUGmYLE9OVl3tvbqNslI3aXKTaT8b9Uik10vDrLBfw\n",
       "+HxF0X63LNmQuwuImZC6EnGqH9gZyEwuUnEeet+Eclln/WRi84xSoF6+XAWuK56RGhsbm2x7mQ02\n",
       "pJYKv+PZp+RSKvx16PAe+xahOrz8aev/yWabVkvQgUYXvpb4ptRi00lhrp6QihnOQh+xaU7SEJJ6\n",
       "2uQ1ceC66q6AUfv05N8Q0Jfyd/7Il9E/X1wsaeUePJF3o+WqerDX0nFl7pkD7tb78p853Fo3GyOk\n",
       "wiHOYo2IbJckTCLping3RccggHoiXYF44KbKPL+1XE9ZzraXipA5WuLpCnmvi7Pvhg0WG6+md7t0\n",
       "XQUfiRU6R+p0Gmi4iFOCUs+RhNO4T72dR/jinzpLocZjK3DKEL1xw495fMr5k5UiWxFngw/Zzntj\n",
       "eVi3PSaPJ/8L5716u5md9x7+G8GNoM7GF6elAAAAAElFTkSuQmCC\n",
       "\" style=\"display:inline;vertical-align:middle;\" /></a><br>"
      ],
      "text/plain": [
       "<IPython.core.display.HTML object>"
      ]
     },
     "metadata": {},
     "output_type": "display_data"
    }
   ],
   "source": [
    "add_rational_nonpos_closure = Forall(i, Forall(a_1_to_i, InSet(Add(a_1_to_i), RationalNonPos), \n",
    "                                        domain=RationalNonPos), \n",
    "                              domain=Natural)"
   ]
  },
  {
   "cell_type": "code",
   "execution_count": 24,
   "metadata": {},
   "outputs": [
    {
     "data": {
      "text/html": [
       "<strong id=\"add_rational_pos_closure_bin\"><a class=\"ProveItLink\" href=\"proofs/add_rational_pos_closure_bin/thm_proof.ipynb\">add_rational_pos_closure_bin</a> (conjecture without proof):<br></strong> <a class=\"ProveItLink\" href=\"../__pv_it/theorems/c0759faaeebe33f5350ac15f9dac3c2cbf48f8290/theorem_expr.ipynb\"><img src=\"data:image/png;base64,iVBORw0KGgoAAAANSUhEUgAAANMAAAAZBAMAAABZWgY4AAAAMFBMVEX///8AAAAAAAAAAAAAAAAA\n",
       "AAAAAAAAAAAAAAAAAAAAAAAAAAAAAAAAAAAAAAAAAAAv3aB7AAAAD3RSTlMAq1RmmUTNIjK7EInv\n",
       "3XZ/CtNrAAAACXBIWXMAAA7EAAAOxAGVKw4bAAADeklEQVRIx61WXUgUURQ+zsw6M/un9RCBERNG\n",
       "BYIsFlEStqGRFdmGEUmhaz5EvTRGbxlt9BJoKfQ7UTE9hfngloFBBEIESQUaQhAMXB/CighfMtiH\n",
       "6Nw7M3dnZnd1lS7M35175zvfud/57gCU3cQUrKgl8ZCWN2XjypBgCA95aDkzwml61ku81ReHgqbl\n",
       "QKkJPMW1Em87C3pGDGNfHipmAlTTm9oyoProqa4Y3QdTGEMi0Btfl5Gnsxwqjjh76c3pMqAO8iQG\n",
       "WyVd+LOBzrExgKMdIBnGpHETZ+YArpS7aL+pkHyxtzvXKprVbf7RShajUkXisoIeDAmTGNGWRlIw\n",
       "LIj6uuqda5dJX5n2w3fLotTVp5ixSCbNofZjtWCglWWQiuOCwKaiUK9ZFm3Cx37YfcMKEhK0Vg71\n",
       "E4+PlvW+DKiKtLNecs0c8UN1/1qNDJi+ZHfJ+kMIHUo0cChKHYHvlwTI5rU+ZCccTupqzgcVXjBH\n",
       "dRCZYird+uoUcVEUUuu4BcBgBqAX5OpFTcWRGR30CT/8BqQpH5SQgygBYYKNcodfFBirr3z+ZbQ1\n",
       "1Yxwc1PO8AK8tUr3QcXo7VsU4TzEKNdDlvXBsqapLNNQlQVlno4asLBR/qq9Vgf4/FEEEYhHFTUU\n",
       "b9ZIya8g0lDICqGiQ2yWhxUid2kQYqyGeb6fcAU6rDCBkPb40zs8WrAzch7CW/UXLTMtqUACRwns\n",
       "9isQy+qwCQLLasz9UMiuq3wVDdIkPaeqGWkap4T+zprMYq5tBiDEy6qCpuURQmmwRtB9UBlcPxBt\n",
       "/yHu+GZ0iyMdeRKs+Pow3vBn5Q8d+SWeZDloTASh4jRBzzBSIsxIPlYVCRWHSbZYT7njI9QD89Nh\n",
       "FxuKCZOSygRzbzHN7IbCkKwXKkQVfh2DWv+y95tf7DXNNHV2ph/fdlwDLiyca/VoeY97E01R64Vo\n",
       "RqrebhiGdtxJYL6uqCQglinmFqxdcq4nHlqOFtaKxPO+h0tRVxsxnCqIav2MPpNFgbOLyWJ2a69N\n",
       "ob+Q2S28jMI5zkofbDdHcAPbiXXGBA+RwCY2QE93S9V6sc1hw51JvhOI3CZCzfVjMKApbQTke6yE\n",
       "Z7ozgSA1b90U7NH64hYaC7zX3J0aeY9fLfZvIZMSn5pbwq0D/xYh0/Mg1bYFfsbqYOUtmF/R93Rj\n",
       "x3/6D2SBI4t/vsHTuY1tcwEAAAAASUVORK5CYII=\n",
       "\" style=\"display:inline;vertical-align:middle;\" /></a><br>"
      ],
      "text/plain": [
       "<IPython.core.display.HTML object>"
      ]
     },
     "metadata": {},
     "output_type": "display_data"
    }
   ],
   "source": [
    "add_rational_pos_closure_bin = Forall((a, b), InSet(Add(a, b), RationalPos), domain=RationalPos)"
   ]
  },
  {
   "cell_type": "code",
   "execution_count": 25,
   "metadata": {},
   "outputs": [
    {
     "data": {
      "text/html": [
       "<strong id=\"add_rational_pos_closure\"><a class=\"ProveItLink\" href=\"proofs/add_rational_pos_closure/thm_proof.ipynb\">add_rational_pos_closure</a> (conjecture without proof):<br></strong> <a class=\"ProveItLink\" href=\"../__pv_it/theorems/e18265b21aaf6c2f7197a48769907561f31f3f040/theorem_expr.ipynb\"><img src=\"data:image/png;base64,iVBORw0KGgoAAAANSUhEUgAAAcIAAAAZBAMAAABQuDMuAAAAMFBMVEX///8AAAAAAAAAAAAAAAAA\n",
       "AAAAAAAAAAAAAAAAAAAAAAAAAAAAAAAAAAAAAAAAAAAv3aB7AAAAD3RSTlMAq1RmmUTNIjK7EInv\n",
       "3XZ/CtNrAAAACXBIWXMAAA7EAAAOxAGVKw4bAAAFXklEQVRYw8WYfWgcRRTAX+52b78u2yh+NBTD\n",
       "WW0N1IQzrYpV4mkTqZXQQPzLFjkQFEVlD0RtreEURMGYHNagF/zYNKDSWO+a0I8olmqR+AmnxNav\n",
       "hY1FqkZKEGNLROObmd293dtbk/POdGBn371MZvf33ps3bxYguF1iaFCbFu6GZW0c6RJ4qcaX/zYu\n",
       "WbMnXr68gCCRbgcV1y8LoUxmEmqNISxCGDaXj1CKY/dDrQl502fJiewLmkMI3zLCBnK7LICwjtxC\n",
       "8WrfZReZJV/zWDxZqpj+CB5fVSScZoSd5HZPACFHMkSk6nxzG16v1361RXTvb+X6OPCdGbg1+3I2\n",
       "i27J6ZTwCRLRmQBCscFZsdW0Obw2+aOsfGzwQSHT48vQCe/vZyPYZdodH0bilJAYQokFrcP78DZW\n",
       "LaA4j91Rnzpklh0doAZo9Wk+YTf1FeM4uQ8NY3c44hByGUoYRtBIYKZZX4uEoxbwvZP/A+FdzOkP\n",
       "smiVM/3Yr+bSNqF6lOXSzw3j00DCqGF8X3WKqMOJODJL6khvOZQAdRChsOqUNWQ/7R+2lqOYJ3Hc\n",
       "E47ZhPw8I9yM7kUDaGUJ0SCS/p+wFNdmkWFrgp+E13Q/SoA6kHC7JuGrv4HSNeBOk7zZhn0/Sf0c\n",
       "Qz7LCFMgYD5R2LzC1AG4oaFIiH9KVVE4WTkPJ6xHy74Vhy6AkWQJClXL756nL41QPgYchv0RFK/0\n",
       "bNtCnmx6PapTIQpzjFDSFUvX3zgIlyo6p7t2/CE4UGkBM3HTxV7Cesx5UXzGVoDvQDxdoAbA8Mf1\n",
       "QYxJ1Rx9bbfa27oM4zPD+IIMmYV6a+EMUE/heOMbIlnr0IkH2SIMmVai4TaTvd9MKO6aprWiRENs\n",
       "9FgexmM+HxLCj+kzQ4USH1L1im7h7NJ8GM1AznLJdpZg7AFDKTuXWj60ohSSuIPw01aJ0Lym10MY\n",
       "CZsVRCax0aEYjFyrdHR1dJZEqfw3hGf9hEwd1pdKmDPhRoA7iZtbqMKeD7bR/bCtuEudsQjHcNN7\n",
       "e4XObNGs7NnmJlTWotPl8Rk7EbnEYhttP+SUUeKTGqiqx4d1OLNkgvwbZtUr/IRMDUphiYQxuCi0\n",
       "0yR58jqqOO0YmNQ0FxarFzuXwi40x84Wq5ZohsTPbkLhfez2aQM2lkssrrwT1FosXsIjUEpI9iUF\n",
       "H/IqtCQS/ihlanjOm2nkP+wul/QQSmZoihP2FKxqEEPEqVf2Y116gavmsfZDqEvTx4TvzWafR8LR\n",
       "iOdssRKvDujD4o2+ARH51k5vcCZEnCvDbEToVMVDSGwp4hsNzzzdlPYTMrUwVKKesrv6hDeXNh1O\n",
       "/URiAuArpmi8w154W+/+Pe16rwbX6UmeT4t55kO+1Xd6+hDLdLFFt8Uo5DyE0W6VJj9qI96KUtd+\n",
       "iP8E8LWz3xXKbnwPwSOV1DS5NxHImomfYFUbcVa7uzKPuwhDyQRQI15tHTrchPIZ2L0X6nVbFIhL\n",
       "3U/TpI36OhOYjWim8Z8tNvgIPSW28NIzWyqpvNdijHD+kU3q+U8V30t3+7BJgx3oYPG4xg6FHh9O\n",
       "inMbCaGcZyIMEnGUdaMQ1QZ69NUJYDbqb4CxkkcTg0jW8hUO/lnOSdGFhdlKdt3hU2UPPaHG+3c7\n",
       "P64qPePjCXmw/Bn/9raZOCEUP2Ai1nIo9mniJHZ9MX5T6zhIaB9iI5Dfu2VlaWEac29bNWsvLvL3\n",
       "ExV+xSBRGmLiO6ojYmOpbF/ItpHyaLzcd5reWgOqi5zMK/1OI/6K50SWtCILf9kiWTcsy0u/OENv\n",
       "3vBjyUzr4By0JXxre8D3vTReRgz7T7wn0+f4eyltW+j30mP/AE03fxLN1dSmAAAAAElFTkSuQmCC\n",
       "\" style=\"display:inline;vertical-align:middle;\" /></a><br>"
      ],
      "text/plain": [
       "<IPython.core.display.HTML object>"
      ]
     },
     "metadata": {},
     "output_type": "display_data"
    }
   ],
   "source": [
    "add_rational_pos_closure = Forall(i, Forall(a_1_to_i, InSet(Add(a_1_to_i),RationalPos), domain=RationalPos), \n",
    "                        domain=Natural)"
   ]
  },
  {
   "cell_type": "code",
   "execution_count": 26,
   "metadata": {},
   "outputs": [
    {
     "data": {
      "text/html": [
       "<strong id=\"add_rational_neg_closure_bin\"><a class=\"ProveItLink\" href=\"proofs/add_rational_neg_closure_bin/thm_proof.ipynb\">add_rational_neg_closure_bin</a> (conjecture without proof):<br></strong> <a class=\"ProveItLink\" href=\"../__pv_it/theorems/138bc46c75a5265441364bc6f9f3b944a8c5a1310/theorem_expr.ipynb\"><img src=\"data:image/png;base64,iVBORw0KGgoAAAANSUhEUgAAANMAAAAZBAMAAABZWgY4AAAAMFBMVEX///8AAAAAAAAAAAAAAAAA\n",
       "AAAAAAAAAAAAAAAAAAAAAAAAAAAAAAAAAAAAAAAAAAAv3aB7AAAAD3RSTlMAq1RmmUTNIjK7EInv\n",
       "3XZ/CtNrAAAACXBIWXMAAA7EAAAOxAGVKw4bAAADaElEQVRIx61WXUgUURQ+zuw4/6v1EIEREwYF\n",
       "gSwmURK2oZEV2YYRSaFrPUS9NEZvWW70EijpQ38bBdNLYT7skoFBBEIERQUKQhEMjEFYEeFLBvsQ\n",
       "nXtn9u7M7C7uihfu/Nw5d757zvnOdy9AxY1PwIpbpDrzzStHAnGsGmslSaaU+2ouM7utGig5hpev\n",
       "5b72Fo1MpNP7C2+6BVBPHhorgBrEzmVLuftgBiAaC41GN6TE2YJ5FHH2kYezFUAdwv645JfaOF7O\n",
       "hwYnJwGO9YCUxnYX15MDuFZp0v5gbw+MdHv3OgMvLUFrKYuplXmHDZzBJWEQVWN5JAmXBdOBoSbv\n",
       "3oe/AM1yX37YNuGP/BQjpqaSzPgAVgsGubYCp6KYEC5ZEuoVjaKbrOM/3bFxCR3ijE5m/Av7R9t+\n",
       "XwFUDcJESJrFhgUnCNX/ey16QPkl5lM2LCC0EGtm84nrCHy/LECBQvKYt/JTppwLQClLVsYEnnpc\n",
       "m6+vXh6TIjkFao+mAAZArC8LFS/QDI10nK68hshMAIrLgeYAR/PIUnGZo159Y/OHUNZkS2XiJp1j\n",
       "BXhrjRmA0vFRQ8PIIujE18O2/cG2Z4m+JaEuC9IisRqxsRE+y26uDrL5GZzLOT5WNBC8+XRCfAlq\n",
       "c5FXBEobo7N8XiFynwEC9WqcxftJiIFDGEBI+vTpLfYOHFQvgrLdfN4x15EIBTDjwJ4gA7GsjljA\n",
       "0ajq+R8Jbl0VqmiUBOkZYc1E2xRx6N+8RSXmxhYAx/F7VYNhkXEkY8A6zgxApTB/wFMZiLKabUe1\n",
       "ONoDAQbCIK5X+ST9JZZfonEag9ZYGCo67RJadri5SMCrmpgc9woB4HTeXiUaWJgOu6kpBiwSl6ap\n",
       "evNJKjcExsn6oQRkuIRBUja+GPgeJHsD0SvdjfSj255qwKWlC50+Lu/NP2gJIr2gpSL1O1AfjRNe\n",
       "AH1K/gb755JqQdsV737yoe1xYb1PAakGelQ05VZcTh1oxjB1n9KiSNlbSsqtm5tifXHmt7IyUnLM\n",
       "K3O025rADWwX1hklPKihTWyEBNisZkffdOcd28V4JhNCe9MkjBhSlwPiPVrCc/2p0CKJVJTdbeRl\n",
       "dnw99N3I79To99T1UmeLq+V+tVDd2UKw/Mepxq7QYWzbKp6Y+MDbzZ2reQ5EL/4DrP7OZN4asNsA\n",
       "AAAASUVORK5CYII=\n",
       "\" style=\"display:inline;vertical-align:middle;\" /></a><br>"
      ],
      "text/plain": [
       "<IPython.core.display.HTML object>"
      ]
     },
     "metadata": {},
     "output_type": "display_data"
    }
   ],
   "source": [
    "add_rational_neg_closure_bin = Forall((a, b), InSet(Add(a, b), RationalNeg), domain=RationalPos)"
   ]
  },
  {
   "cell_type": "code",
   "execution_count": 27,
   "metadata": {},
   "outputs": [
    {
     "data": {
      "text/html": [
       "<strong id=\"add_rational_neg_closure\"><a class=\"ProveItLink\" href=\"proofs/add_rational_neg_closure/thm_proof.ipynb\">add_rational_neg_closure</a> (conjecture without proof):<br></strong> <a class=\"ProveItLink\" href=\"../__pv_it/theorems/3be7e4aadd66623acc23684f5d1750f3856bbe960/theorem_expr.ipynb\"><img src=\"data:image/png;base64,iVBORw0KGgoAAAANSUhEUgAAAc4AAAAZBAMAAABKhNOgAAAAMFBMVEX///8AAAAAAAAAAAAAAAAA\n",
       "AAAAAAAAAAAAAAAAAAAAAAAAAAAAAAAAAAAAAAAAAAAv3aB7AAAAD3RSTlMAq1RmmUTNIjK7EInv\n",
       "3XZ/CtNrAAAACXBIWXMAAA7EAAAOxAGVKw4bAAAFaElEQVRYw82Yf2gbVRzAv01yuctdknWiYhmW\n",
       "uOlWmC2hVdE6amQdTGUuWP8QJ1oZKIo/LjKUjdlFRJystsFtuBSc1wn+qrNZ59zKYFSG1J8QJU5F\n",
       "Dy4qTO0YRZyTCtbve+8uubt3aVoT6x7k5eV7L+/e573v+/54ANXK5boK9Sn+JCx+CeAnqn9ZvWNv\n",
       "3V555f+ACWKG1B2LyCmTkcS6c1Tr0LXYnKE4Vj/Um1MwuPUcz+6xHbWIRjkbSXvFnJwN5MsXr3VG\n",
       "28koubor5o9uQfEjeHpZ+We0kXKuI+0H5+QMEPsRrNka3Yaf1+t/AIOa87dyYxyEdRl4IYsFJy3P\n",
       "UM5nSme1IqdEVmRrzRM6h5+1vN5564lQSX16OCuecP7eFcQq01UWbKacZDmU2Nzn82H8GqsVUyLr\n",
       "OsGJfYZn7wpigDZO8ompn6/op8j30DBWx4Ll57dQTj8uXLCKHeqohzmK5nH2vf8B52amAI8x/ZUz\n",
       "A1gvD6RLz88we/u5rn9ahTOs69/XbEAacKAAGSV1os8LqIK4Eqe47LTZ5RCtnzSPqZQjmt3jL6vo\n",
       "fRrlXI9bzY2Wc3Di4oS0mt0KGoEgKo8wCa9qPFAFcUXOe9QQHoQ3sHUd2E2pYLRjPWBzD4NpypkC\n",
       "Ee2M7DSnCQcndkjVbhfxLRFc5XfisAHgtV4XEBXLx5dq8+OUT0IAD8IJbF7tcPNijjjJnmg5xtyR\n",
       "pJwhTcGGwsYVC0dgTaObEzf8yAKpRvYsdTmiCI4ZxjdtBPgOpLN5GnzigcBzQ+w5FQfo5O1iZ9mg\n",
       "65/p+hekyzRETKUbpOqK/fVvScs8n2XdGGWcPsMyQwNNe+EKRSNdXJxtCzFDUjGbFI+D0s7vJ+H8\n",
       "GGT0ML68az+peElS/HN++xnO0PlTDWbmx+owlHLZ2x1p05KaviawnkRGRkKB97oL3Uk7Z9BvzJ+z\n",
       "G8dVngC5Q93S3V0ex9Rb+W/wT/OcTOzX5ss5asBNAPeSLW+lAms82ET9p22RB1XGOYbuUSiaAVTL\n",
       "VX0Kdz5BWYl7LB+eslRxpOuoh6oyYZRYgJ2rAAznVBtwxUMGyL+h5V3FczIxKPl5csbgUt82g/jk\n",
       "G6jgbCkRI/HQJbbIx7S3sB0X5d0lGtv5FuXAJp5T/ACrg+qgySl/LZ3n0xFT+BapOuMcZxRjBAVf\n",
       "tR9aEwleb5kYXnTaIfkPqxrtdXCGDF8hIB7Im/EkqkvJkRzC+PZi24vXmPlKA+rZtlYz0mqBxC88\n",
       "J1xG9BH6Mfwj8wgkpAm44ydn2kyFkGGBGWE0nC5XwLWXcF7DU883p3lOJhaHXOKCVUUSTnvbfCz1\n",
       "M9EPgK+YoOluy+JufOD3tO3FN9vzsv3gfyibfQk5R4Kc/2TlQyiC1Eo4w0lMAibkaQcHFRJ3huFz\n",
       "7C5eb/H/AN+U/GPe01FugacWEg+NvolY5kjCOIv7yMZ1ueMli1OeSUs5tp9Cm3f+KZ+H3W+zbG5U\n",
       "DXVqquQMVqlwtQG7aNJA7RCfr1zDcToCdnHfzlsXEsevDKAe8T2boxc9Vz5PMzZOX2+CRUXXYv5W\n",
       "Ic+elM51Es4RCKuDPRqEktiUc1ZFhcsTLHKSiqC4k9p+cqxMdvH9v7w2LDw7O70QLz182jOR8jU9\n",
       "sruczzTa97NZha2o1NIplaXVHpx3tk/FCWd/TFjbdpgGjP0xaRL6VVIxYQiP2D5qfAv3p90Bbszu\n",
       "5upWXq7yPKK67k3k8ezeqvcmRG+ZZVM0w2qSwloHfYiYzaKFOvqs5/1QX70xo9Xy/391PySdGQOB\n",
       "mf7HZ/NWk5wn1gr9WjK/K253X2OuvqDv+x5139/6vZp+7n8D118Y97caub89+Q8uKIhtV/ouiAAA\n",
       "AABJRU5ErkJggg==\n",
       "\" style=\"display:inline;vertical-align:middle;\" /></a><br>"
      ],
      "text/plain": [
       "<IPython.core.display.HTML object>"
      ]
     },
     "metadata": {},
     "output_type": "display_data"
    }
   ],
   "source": [
    "add_rational_neg_closure = Forall(i, Forall(a_1_to_i, InSet(Add(a_1_to_i),RationalNeg), domain=RationalNeg), \n",
    "                        domain=NaturalPos)"
   ]
  },
  {
   "cell_type": "code",
   "execution_count": 28,
   "metadata": {},
   "outputs": [
    {
     "data": {
      "text/html": [
       "<strong id=\"add_rational_pos_from_nonneg\"><a class=\"ProveItLink\" href=\"proofs/add_rational_pos_from_nonneg/thm_proof.ipynb\">add_rational_pos_from_nonneg</a> (conjecture without proof):<br></strong> <a class=\"ProveItLink\" href=\"../__pv_it/theorems/9c200694631f412cea66b814f4fb4986ea03c0fb0/theorem_expr.ipynb\"><img src=\"data:image/png;base64,iVBORw0KGgoAAAANSUhEUgAAAzYAAAAaBAMAAACX59SiAAAAMFBMVEX///8AAAAAAAAAAAAAAAAA\n",
       "AAAAAAAAAAAAAAAAAAAAAAAAAAAAAAAAAAAAAAAAAAAv3aB7AAAAD3RSTlMAq1RmmUTNIjK7EInv\n",
       "3XZ/CtNrAAAACXBIWXMAAA7EAAAOxAGVKw4bAAAIOElEQVRo3uVaa2wUVRQ+3Z3dnZ3Zbmt8ooas\n",
       "glCjxQ0ovgguAeQVdVF+CBqtQWP0hyym0SAP12h8xEobAWVJ1AEJCFVaqajQpEGIQVRMVXyhm0yh\n",
       "BhFtmhrAlCiec+/M7NyZ2e1utLrFm8zs2XPP3nPnfPc87p0FGKBVZL+Bcmv+JJy2LYGXhFc0+8WA\n",
       "ssEynP9IvEJD2P6F5t5E/XSDcUMRG6UObweHMDYB3cVqzmSmWdjARI5NNX2MKIRNBX344uXzaGGc\n",
       "i691UFVs2jeowx9yMqIXpkOft1rYVGoMm6lE318IG4miezBVPtgswWvDIOu4d1BHD2oORlsbwJy5\n",
       "FjbRaobNE1Z8y4eNTIKLyigkzMJrsjtQeHt2IJ/D31ZQuq84seJUuTr8CfG73IphOuzXpUxmb2YF\n",
       "Ru1+hg1BqMYK5psH8WNrGWFzDK+dLq5P9xTOwwYYU0g60F+UWJGq3B0fG6HslezXLEpvxvWvputM\n",
       "v4H5DBt/vHC+D/KCoa58oJHRbr66wcVG7RxcbObzFfCQEds2ySjhi023sJnB67R92ewnhbGJZLM/\n",
       "tJYPNlG0m0TzWdixzMsAedj5sAldcFh3SQeHd8Uc2HQcSrsHVXuuKQUba4y32f0RM+08T1EvEB9r\n",
       "YfMLxwbBWlMYGykNYa18sKlAnwnSs+yB1zSPcOTNzovNnalwv0u65UHlhCi2NCY1ucRCX7AVXiw2\n",
       "uTHGg1CC3eXHlSDrIyxs7tYYNgshhMFO4XVY2gsb7F9YRukmjNOvxGd5Mw43eRggDzsfNspukNAR\n",
       "N4rSV2jwmYjN9xBxu1dlqylWFDZ8DLLx5ey7FZgX+5jf/GicCwA0phk2YU3FIlnlP/+WL4f922BC\n",
       "dW7vuQa2/Qs2X7+DVB88nDu7yOPJOLMITvkWelh4nT2ghGEXgzPNmbGV9jM0kS22m7LZT7PZz0mk\n",
       "lywMHaL0jQAnRTHyLWW8UxcqGUhVrkPqt2zcyBInsrPfseXG881M60ePJxk2Pl0sBZYPWwUXqZqk\n",
       "5bAZU1op8HRTqbA0rzwD/XbxNKr8g7mzC5AfsETaj5pUZYJjsxeUYyD3dDoWJ2NLzBmK8ZtIE7Qk\n",
       "PVZ4oM8phqb51aULilFldERydrmTuaz1PbzRqtOMmJo0SrCJAsxULIzQE6rtzCbo10tKCKUUDnJX\n",
       "JhlqB5Xy4Jap8CZEtBw2cAHAZr4j0ANNNr/BmKb8Cf5efG4HNpxdlQz9Xhw2LTrc4I4+feYit4lh\n",
       "q3XpgmJUGR0tuX4+kFUMBvj+JreVeZzHNNiK+5dAF9PVHePHCTWXLLNjo44qqRSIpEsQnoLC6sOg\n",
       "jKOEtzS5FCrTNmw+wl3vNGPMEzZswjoofVgVjHZjw9h+rWhsYnCOL3VXtSj9O6Utu1gVfk06sYHf\n",
       "0HJFqDI62BhkY4BrGaPHkpjcBjB7bu4XjSmOzRKc15YqFjN9ddzPatR1d9iwCX1AD9121Dy3sZG2\n",
       "E0iL2dhzPisYLX9UD7lnbfCiZIJnRwPo+PWpHeQ3KVtM+7NLgyfOpYWkwS7TLbFLxTm/CrWJhAsb\n",
       "g23tUEzIjpu3ljrB6GHdt19S9H5xkDNhpQghFlhq2oUNFmnvu1QxDYIqo4ONIbGt2SxuW8tRVDpP\n",
       "s6VYo06DClyojzGtm9UEP16ogcQRGzZwHl5vpRpNQGxkruWYv2rdlBaSDWbXV7J7G2/wNtHtujjD\n",
       "ZjbbBtvzTfRAFCdcj+obNfjS3N/gD2U0x9qjzwxPu7HhbHhBE9n7zVtlQqzThr+/8KfQOod5174T\n",
       "d5Ta7eN+dsU0UNsmam5VTINdldlBY6CN6em57mHzTHPUH18w3WadCWB7R/AqByLufyCTeRGxaQ7a\n",
       "sWHBB9DWizSTDIyZ6ghO1B8magUr32fAG4a41KSkb+0W34cRD7DeYMdV5DN669oYq9OutmETjvtp\n",
       "la1fRdiY1So7T/nWihednhVsaE1J5wJhPZ+0IFbrNejAqoQO2pqFjEkHtvMzG1r+Qk6fZMNG6WdR\n",
       "violt3K/CYxxYvMhdIFcq5lkBFrECRATjCQxiX03xamo2qn0ijnJgGp8JpOJ3W7ENHtr4llGYolg\n",
       "QgpjWl9OE8CVLmzEA8V6eLSUs86WN/JJ3+aFjSA2sCqhowqji+SWrNC7apLCmY6Jja8uoSAqDcYZ\n",
       "wVVgGdrEBvfJKzbzFwuMDEGDmG6I6aNtAvSy1HDCfA/BZpNyhDXi+dHAz7PQwGqB+ilTpiRFbKog\n",
       "Qs50qW6vBViwDqec2AgttPrZmaWUL6OkosRq/wFVDXlO9S96aa+FmHEObUbdlLyLAbIIHUj+OsXf\n",
       "qNn9Zo987DoyNmLISFhFZLN1I6ZvJFEH/E14vw9Uhk0zBJPQCuGkTZbzHt0A/DBI7gLV+XrPeMdE\n",
       "Bc14nHNUD1Tbn87cG4TePekVSSKnTvWWYrC1h4uRWryg4++rokX/8gAy/moQ30n7mCsp2zOrHGc2\n",
       "vM0ZezROxkYMGSmliWxIyXvoZjBXE++pHrrXY+IjbBpiocmYMacTxWX3mLzradWxvef+e9Je2Mg3\n",
       "o+GPsGqmvduq4yuIsQyGaEMbRwd6UVmZcmAzL3j7Ts+zTvuPNIYhtR1RiwSTUjpjBuWzxIGZVtV0\n",
       "g2KNU2cDe1GOgey9J8ELG2rPxVzVeh0M2eZpY1cz/i+Qa3GpWxsAG/mXrYgh55/6wyQZsEa5pxnU\n",
       "PEs8wAZdcKrToFhy1MR9MUgjbk7mwcajXTZ0sfG0sSuFFfs/G9f/0+JepJPKfffno6IX2zZby6+B\n",
       "4rE5nf+fxgDU6P9pu//DGfjOKtSbgv99+wvbWKNAZR5n9AAAAABJRU5ErkJggg==\n",
       "\" style=\"display:inline;vertical-align:middle;\" /></a><br>"
      ],
      "text/plain": [
       "<IPython.core.display.HTML object>"
      ]
     },
     "metadata": {},
     "output_type": "display_data"
    }
   ],
   "source": [
    "add_rational_pos_from_nonneg = Forall((i, j), Forall((a_1_to_i, b, c_1_to_j), \n",
    "                                                     InSet(Add(a_1_to_i, b, c_1_to_j), RationalPos), \n",
    "                                             domain=RationalNonNeg, \n",
    "                                             condition=greater(b, zero)), \n",
    "                              domain=Natural)"
   ]
  },
  {
   "cell_type": "code",
   "execution_count": 29,
   "metadata": {},
   "outputs": [
    {
     "data": {
      "text/html": [
       "<strong id=\"add_rational_neg_from_nonpos\"><a class=\"ProveItLink\" href=\"proofs/add_rational_neg_from_nonpos/thm_proof.ipynb\">add_rational_neg_from_nonpos</a> (conjecture without proof):<br></strong> <a class=\"ProveItLink\" href=\"../__pv_it/theorems/62b5428e604008ada787b6ade0609b11f2de2b720/theorem_expr.ipynb\"><img src=\"data:image/png;base64,iVBORw0KGgoAAAANSUhEUgAAAzYAAAAaBAMAAACX59SiAAAAMFBMVEX///8AAAAAAAAAAAAAAAAA\n",
       "AAAAAAAAAAAAAAAAAAAAAAAAAAAAAAAAAAAAAAAAAAAv3aB7AAAAD3RSTlMAq1RmmUTNIjK7EInv\n",
       "3XZ/CtNrAAAACXBIWXMAAA7EAAAOxAGVKw4bAAAIK0lEQVRo3uVafYwTRRR/1267291e74gfETWk\n",
       "iMoZPSygiGiwBFA+olbhD0WCNWqM/CHFEAnyVSNRE07voqAUoy6Y8HXqnRyoeAlBiMHvnIpfaJM9\n",
       "OIMIXC5n+MgRwTcz+zW723YbPezpJLt9++btvJn3m/fmzWwBSpSq/A9QaSWYgv90EfCK5b8pKReu\n",
       "wL5fjpc4gG1fqu9iE7mPHojYyGm8HRjA2IQ0F6s5l7vNehrPsKklP8OKYVNFfgKJyhlaBPsSaO1X\n",
       "FZu/7NfmDzoZsUuz4tfWkKpVis1kQj9SDBuBRPdwpnKwWYLXhn7W8VC/th5WHYy2NoCZ91pQ1VJs\n",
       "njLjWyFsJCK4qIJCwnS8JroDhbdnhwo5/Iyi0r3+xPypclUEk/yz1IphOhLUpByWVzBq91FsCIRK\n",
       "vOh6Mxd/tlYQNsfx2uXiBjRP4QJsgBHFpEN9vsR8qnJXfKb7x2v572mU3oLzX8mmzfoHKTbBRPH1\n",
       "PswShnTlQCOh3QLp/sVG6ehfbB5kM+AxPbZtllAiEJ9i1k9ledqX+fznxbGJ5vO/tFYONjG0m0D6\n",
       "M3/nMi8DFGAXwka85JDmkg4P6Yw7sNl5MOtuVOkeWw42Zhvv0vsTxrKzkkS9UGKU+cZRhg2CtbY4\n",
       "NkIWImrlYFOFPhMmY9kLb6ge4cibXRCb2ZlIn0u6Za58khdbGheaXGLiN3SG+8XGamMMcCnYnCDO\n",
       "BEmz0uX7VYrNfBAx2MksD8t6YYP188+R3f1MgQiOrxrH8lYCbvcwQAF2IWzkPSCgI27kpa9V4Sse\n",
       "m58h6nav6lZDzBc2rA1i42vosxmYFweo3/xqvtGYpdhEVAWTZIW9/iObDvu2w8211t5zLWw/N9CM\n",
       "zIoHDjEyWdiTsWdR7PKdZLDwJh2ggGEXgzPpM2XL7YNUns2X2/P5L/L5r4lID7Ew7OSlbwU4zYsR\n",
       "35LHOHWhklKqrAqhz7RxI104kZ3/iU43tt5MM19anqLYBDQ+FXhh8GoYqqiCamEzorxU4JmmcjFp\n",
       "XjUI/VbelsW0Ue8NbUN61BRpP2JuzJIMm09BPg5Sd4djclK2QJ3Bj99Em6Al5THDQ71OMTTNMZcu\n",
       "8KNKr4hadplNXdZ8jmx05GktKT0FG8/BTJKFYVpSsZ3ZhINaWQtCOYmD1JlLie2gjAJxOuLzFkRV\n",
       "Cxu4RA88ENRCTTa/wZgmn4FgD47bgQ1j16TEU/6wadHgFnf06TUmuU0MS71LF/hRpVe0WPWsITMZ\n",
       "DLH9jbWVWc5iGmzF/Uuok+rqirPjhLorltmxUa4sKxWIZssQnoTCyuMgj84sJdN3KVRnbdh8wmLs\n",
       "BBXbPGnDJqKB3ItZwXA3NpQdVH1jE4cLA5k5tbz0KbJs2cVq8DHlxAb+QMv5UKVX0DaIjQFupIxu\n",
       "U2JiG8Bd1rkANGYYNkuwX+/U0JgZSDM/q1PW32fDRvyIDLrtiHFuYyNtJ5Ams7H7Ypowmv6oHHT3\n",
       "WufFiAmeGw6gaTAyRf0mY4tpZzqxXxIGvOUq7DbcEqsU7PPrUJ9MurDR2eYOxYDshHFrSXNGj2iB\n",
       "fYKs9fGNnAereAgxwVKyLmwwSfvApYpq4FTpFbQNgW7NpjPbmo6ikPM02xKr52lQhRP1Sap1i5Jk\n",
       "xwt1kDxswwYuwuvtTKMBiI20isU8pnaRZSHVYFR9J7m38TpvM7mNS1BsYGgC1dnXm9j+WBJCq7Dd\n",
       "RhW+NfY3+KKE5lh35NkhWTc2jA3Pqzx7n3GrTvJ52pAP5v8mrneYd922hCPVbh/9uyumgdI2XnWr\n",
       "ohrsqowK0gbamIye6R48yzDHghPzptisczPYvhG8zoBIBB/N5V5EbJrDdmxo8AG09SLVIEMjJjuC\n",
       "E6mPEOolmr5PhU26uNAkZ+/u4r+HER5gvkGPqwguGlmkVqTEAzfYsIkkgunQq6SRRjOpZecpP5rx\n",
       "osMzgxXXlnUuENEKSXNi9V6NllbFVZCtmah3OrSDndmQ6c+t6RNs2Mh9NMrXZKRW5jehEU5sPoZO\n",
       "kOpVg4xCC98BwgR9kZhAnw1xklTtknv4NUmHakwul4vfw2IaV5rYyiXUNlDHx5jWa2kCuM6FDX+g\n",
       "uAAWlnPW2bKpkPQML2w4sdKquIoajAKCW7JK66xLOc7T9BGmkzKi0qCfEVwPpqENbHCf/NIW9mGB\n",
       "kiI08MsNYQbINgF66NJw0vgOQXuTcYQ1wguigVfS0EBzgQWTJk1K8djUQDQu74iz/OKk/Rw6knFi\n",
       "wxVxzXPTyklfrhR8idX/A6oaCpzqD335UxMx/RzaiLoZaTcFZBE6kPR9hn1Rs/vNXun4OGJsxJCS\n",
       "sJqQzeaNMAOXE2p/sAnvD4NCsWmGcApaIZKyyTLewg3ADoOkTlCcn/coNtUqSWgOY59jWqjWPjpj\n",
       "byC+d9orkkTPnu0px2DrDvmRWjxv599XRSb9KyVkgrXAf5MOUFeSd+RWO85sWJk56kiCGBsxpKSQ\n",
       "JWRDRtpLbjpzDeGt6Cb3BbjwEWwa4uJEXDGnEIrJ7jV4N5FZR/ee+x7IemEj3UENfyOC095l5vFV\n",
       "xJGWwQAtaONYqQ+V1RkHNrPC9+zyPOu0v6RSDEn5MGaSYFByR1ynAqY40PVCUTWdooVRFwD9UI6B\n",
       "7P2nwQsbo1zFDUZOw4AtnjZ2Ff3/AlZJCF1qCWyko1sRQ8Y/+6dBUmD1dE/VqVmmeIg2Ou9sh07R\n",
       "xVHl98UgDLsjVQQbR7l64GLjaWPXEub3fzau/6clvEgnZT0HC1Gxy2ybrRfGgn9s/vP/T1PJ/9P2\n",
       "/Is9CJxfrDYD//vyF4MynVaOTURJAAAAAElFTkSuQmCC\n",
       "\" style=\"display:inline;vertical-align:middle;\" /></a><br>"
      ],
      "text/plain": [
       "<IPython.core.display.HTML object>"
      ]
     },
     "metadata": {},
     "output_type": "display_data"
    }
   ],
   "source": [
    "add_rational_neg_from_nonpos = Forall((i, j), Forall((a_1_to_i, b, c_1_to_j), \n",
    "                                                     InSet(Add(a_1_to_i, b, c_1_to_j), RationalNeg), \n",
    "                                             domain=RationalNonPos, \n",
    "                                             condition=Less(b, zero)), \n",
    "                              domain=Natural)"
   ]
  },
  {
   "cell_type": "code",
   "execution_count": 30,
   "metadata": {},
   "outputs": [
    {
     "data": {
      "text/html": [
       "<strong id=\"add_real_closure_bin\"><a class=\"ProveItLink\" href=\"proofs/add_real_closure_bin/thm_proof.ipynb\">add_real_closure_bin</a> (conjecture without proof):<br></strong> <a class=\"ProveItLink\" href=\"../__pv_it/theorems/f13bdc9cbaaf21082a85edfa9d42a50a8f6ba0110/theorem_expr.ipynb\"><img src=\"data:image/png;base64,iVBORw0KGgoAAAANSUhEUgAAALYAAAAWBAMAAACfwnvZAAAAMFBMVEX///8AAAAAAAAAAAAAAAAA\n",
       "AAAAAAAAAAAAAAAAAAAAAAAAAAAAAAAAAAAAAAAAAAAv3aB7AAAAD3RSTlMAq1RmmUTNIjK7EInv\n",
       "3XZ/CtNrAAAACXBIWXMAAA7EAAAOxAGVKw4bAAAC50lEQVQ4y61VS2gTURS9TWYymUkyDQouLMiA\n",
       "4EZbApVCs6iR+ANRgwU3LTbahbSITJeCQgqCCysNip+JWqbgpnSR1IIVQRBEET9QRRHE0SmC1S6k\n",
       "uKjYhXjfZ5p5+QxdeOFk3mdy3n3nfgZgHWZyNNtrZAqsy3SDoaEdr5mHT1srn64CyC5AkixsDeTe\n",
       "zlFr2u15PDRVs6oqSXljCeArwF4yPxVEreUZ6i2SwZ/hOu4KFEdx04ZRok0xiFtKMVStlz9biVA7\n",
       "G3Dvj6A4GUIPMSOIO85RtQ7+HLDJls0mPxwnv8at4uAFhNGjSKDc2zjquR9RYdiVji35/N48iYNB\n",
       "gNeO8zKQ+yCH0rboitwnfm7AS9NsUIZ9mkSvkADOABwAKAVyD3L0m+qqwK2t2GUTwlSJiFnlfvbl\n",
       "M9GpC2AElKS3Hh3ig/b7u894i28ZtCcgzQvcoVWIuxB6TLl9sZxN0+N24NiO5dY22sgBC1ZOj8Fc\n",
       "ha89ZZCWIUGWDjnOK8d5QxIoD60ViC6Tl8YctCLXpNRJBuN4uusL5XPEngJWhA5pV+SOF6GcE/zG\n",
       "owYMkKnfU/4cvKASTfoR+R78me6ZIy7/XbBpoSH3UkbUpOzCLjFPML2P2BCiQiX83NJFcoN2xD0M\n",
       "sfYh+ptQftQz1AM9pkx45TLBUDZgU8gUuAsYAwhTJXTXx60VseChG3EOQyllouRqaiqcp0WnS7fW\n",
       "anWGQXVD7yTB75aUineTWFxOVrkz0KnmWN62oL7xnE6SJV6Qkl2WZRm6HjvqvXyZQdvyYOS7mINt\n",
       "WaIGC8LkNdvrg39M9fovgPf8/2VTTeNeK8SNS9RvXe7jtQyJAkN9XVI7z599dxyhoSnzXs8wx3vt\n",
       "aUjY3UBjjDn40IslNh2K+l5FLRvQ4qjJ2Y5ZGDOih11QbpLu8K1yd5/31g2Oxt+XZj30rDhl7XDa\n",
       "snLC8pSQv7UttdlHTfRGtpu45jI0tMVmH0LxzDD8X/sHsWi1O43otEIAAAAASUVORK5CYII=\n",
       "\" style=\"display:inline;vertical-align:middle;\" /></a><br>"
      ],
      "text/plain": [
       "<IPython.core.display.HTML object>"
      ]
     },
     "metadata": {},
     "output_type": "display_data"
    }
   ],
   "source": [
    "add_real_closure_bin = Forall((a, b), InSet(Add(a, b), Real), domain=Real)"
   ]
  },
  {
   "cell_type": "code",
   "execution_count": 31,
   "metadata": {},
   "outputs": [
    {
     "data": {
      "text/html": [
       "<strong id=\"add_real_closure\"><a class=\"ProveItLink\" href=\"proofs/add_real_closure/thm_proof.ipynb\">add_real_closure</a> (conjecture without proof):<br></strong> <a class=\"ProveItLink\" href=\"../__pv_it/theorems/0ea6d9518f7fda6aa296b0d5ecd48d9e745d95f30/theorem_expr.ipynb\"><img src=\"data:image/png;base64,iVBORw0KGgoAAAANSUhEUgAAAaAAAAAWBAMAAAB0/FW2AAAAMFBMVEX///8AAAAAAAAAAAAAAAAA\n",
       "AAAAAAAAAAAAAAAAAAAAAAAAAAAAAAAAAAAAAAAAAAAv3aB7AAAAD3RSTlMAq1RmmUTNIjK7EInv\n",
       "3XZ/CtNrAAAACXBIWXMAAA7EAAAOxAGVKw4bAAAEi0lEQVRYw81XXWgcVRQ+2Z3d+dtMA4JghbAq\n",
       "aqBNCNQWDFJH6k9AiqEBX1JksQ+lRezkMdXWrRQqGNOlEutUjBPxpayajaVWhZaA1GKrNC3Rlraj\n",
       "ExRrI4FQaMU+GO+9587Oz861s3YfPHA2Z86ZzHzfPWfOPRdAKIsX4U7F4tpSET1Qvh3mo3f8aqOI\n",
       "2lp5IXadfcm+eeVtgJzHQHdQ3wPJhMSxdLKKa2vF6I05VLkjd9chgF8Y6Keoa2syIXEslWgl1FbL\n",
       "9gZCNajsAcg7FPQeWn2VZELiWCqRelFjMph896DoMQ2BRxIIPZMntWdS0JSWXkwmJI6lkgLXmPQk\n",
       "390jekxDoODg32uuW6oTUolxmoLOkiXMC5qCOJZKHuLaakJ5zPrzC6EMrZwkxhbWyb533TOiLieM\n",
       "pZJnucr3XvUSAArcQkLDJ3ajobNmJW8PlZxygH7q0wx0PwDpEJqVRAhj/1W2cN1sqbcSAArcIkK5\n",
       "U/CBw3BmWaHlrYDQNz//RMtwHQM9DDJhrONiyXNH4bGOOiGMNSPdnz/xsm+fR9W+BmkWtHUxgOiu\n",
       "Tq9MSejjXtiIODMzjFCoKRzpYxxXM9Cqow9gYOyecbhPdySnTiiIpRFl3h4wdDhW49cnUaUlaK/B\n",
       "2CLzbXTd71z3HPhuk6IMu2MSBJ4DuMzfs0R/R10iFV5yh9ZQYz8DnfE4V6mfbqOeqQclV4+lkifL\n",
       "ZNczoM+LEipUYIosS3dsxdF9A14rp8vQt6Dd4MXHMnQ43Lb3qjQLm3G8Ka0n98zjRgtdD+4OEWIx\n",
       "qK4/5v9vyAyEO9kOTggtmNGSm/LgcWgkhO6+tIS0vyG7xHBCZpY62sOEpH0VfAUF/RlpF5+ucDSW\n",
       "vi79w6EQIRrTLih/+nt/YIYGAu5kS2bo8oS/l06gThXh7ozVSAjdcDzdN6Rdh7bSwwQnaQoMqeGF\n",
       "CGkVmo5HEfSr5Lvf2Q05hqMLzGshQjQmmcoMyKzbMXPTr9Hvijmhgju6Ib1XHy2mUVUvMyc1Zoi7\n",
       "lUuxXnGTki1xIxSYgG7T3EmfIuFH+mJAyIQ16gDbIyjotjK7PbvNtg8QQtV8iBCNFQaMDnidvZeZ\n",
       "M9pSdOOmTto0bdsuGoa+yQ+8hap1fjH8eyMh7h5xYhmao+VkciMUmPxjX2eZZb0dF3Ry3PGn7b8s\n",
       "9Z3rAD8ERwTtVlmpYYZyPbHjw5Sl9jlwqW5aykyEEHOu8uBNliEjN+RDbC+j8oaeuOHIpmw1MSkQ\n",
       "nAC7+MXQ+25k9JVnA9CZkolb6FqA+RihgrV/kBGqcpNktwpazf9hzvtNYI2GtO2v/KZAh8Ws2UAo\n",
       "MmyOvLHXaWI4pThhw78Mw/UMdVowQsgrP1rQFiOU29BzBCih0SKa/dRUTsGoRX/QqZZBfpcOWL/V\n",
       "Pnraf8NBrlRe2XEiCcTZ5eWmTiQEp3D+H4mdSrUv7XHxiZWWHA7euuP5JtSdn2RIBm072i4OR7aL\n",
       "VokqOoMfvM0x+3j4fD52pgg5LI4dy7O+SfOHlrqQdMr3UFsrV0UnWUJ08WQzT8ommVn4f8k/cuhn\n",
       "aFZUJCEAAAAASUVORK5CYII=\n",
       "\" style=\"display:inline;vertical-align:middle;\" /></a><br>"
      ],
      "text/plain": [
       "<IPython.core.display.HTML object>"
      ]
     },
     "metadata": {},
     "output_type": "display_data"
    }
   ],
   "source": [
    "add_real_closure = Forall(i, Forall(a_1_to_i, InSet(Add(a_1_to_i),Real), domain=Real), \n",
    "                        domain=Natural)"
   ]
  },
  {
   "cell_type": "code",
   "execution_count": 32,
   "metadata": {},
   "outputs": [
    {
     "data": {
      "text/html": [
       "<strong id=\"add_real_nonneg_closure_bin\"><a class=\"ProveItLink\" href=\"proofs/add_real_nonneg_closure_bin/thm_proof.ipynb\">add_real_nonneg_closure_bin</a> (conjecture without proof):<br></strong> <a class=\"ProveItLink\" href=\"../__pv_it/theorems/633bd6a166d421e78dbf7cbce4406d268cbdc3300/theorem_expr.ipynb\"><img src=\"data:image/png;base64,iVBORw0KGgoAAAANSUhEUgAAAOEAAAAaBAMAAACzyCaTAAAAMFBMVEX///8AAAAAAAAAAAAAAAAA\n",
       "AAAAAAAAAAAAAAAAAAAAAAAAAAAAAAAAAAAAAAAAAAAv3aB7AAAAD3RSTlMAq1RmmUTNIjK7EInv\n",
       "3XZ/CtNrAAAACXBIWXMAAA7EAAAOxAGVKw4bAAADrklEQVRIx7VWb0gTYRh/cnfe7rbdloZQggyE\n",
       "vpQmSIISNmnaHyGuhCAUWhlEEnF+DEIXBH3I2NDMZiQnRBALtJSsPoQQpRSGhFKUq4nRH6kIP2Qt\n",
       "iJ7ndpt3ty2n4Avvs3fvn/s9f37P874Aa96s3eqP7dHgak5vX82hcCfJajgMzIrP5nhWZaXYhWIc\n",
       "nDIXXOnRmyTkDItc5nOWPuBiYHejoStspKvozrDIRk0wp0I/Z7q08Zg1Bo4ycCgALpoozg6QG0Wx\n",
       "Jd3KrQkUc6ZJnnOx+b00Eh5IiGiPgohwtTRzIjtEBtkm+NIuHceeq5gRByF4jjSt8ZNXnW4QYgDq\n",
       "TJYBdUqIWmbwZOLfArnOk4q4Oxc/v96vMQegOa6YzZ0dYgD32o3k1WLHxkg+i//5Eon4kog8CBtU\n",
       "rn2HAyj3omKoZW6WxPmGfXNaRNskyWZ1fGheZ+OmfhAUrQLsQ/kV+0Qk8jxLxALs9RSFwk9RI2Ju\n",
       "0Sz66Y5KrxadV62dJoocQfg9AL1ZIoY0O5pkPmZEHGgRFgEqVHB5CfHp+3cmNgUwpK3AudIDCPW0\n",
       "va00+Ymj2F/i/GNgJo2I2xR4AbBVRdQxZ6gKA2oNYevR5tqRfLxik5JF96Q2KLlXcxodNIxgLZDM\n",
       "hynsT5CuP8BBVZmJRGYwJqRvHcAfNIA2dUSwBTWv9pabrBiQSE0dcQoJdjYkiTYYoeT7IAmjCQrG\n",
       "bUREe1A9qLfxLbCYH01qMdBnx3ne5NV2ShSfrtiNY/fipChCFX2Mm+Ym4bXJqwNR2Gni6gIwGNkS\n",
       "Gjr0iMwFU6oHKER3iVzh6hEy7++sIlJSI+I85rO1XkEbxxLbN2LvQ0Q3FOTIBsRfcBuPVaoXRVSH\n",
       "KATnUrkKZzEQwivrIu1+I3pUr4g2rq8M2HxywVIcKZkwA/hozhRjtDEfLmuZA3BsCdED5bxkQNxB\n",
       "Yh16kfFYqUrzZRZfg4rIXAuCkEfDtmJZr+AlVK/ofutnI2L/MHlmOj7uVhJ3x2+Zv7JgQKxJDOwS\n",
       "VXWw+xlXBXLZLYq2g6npYkd9Hf50NSd+tWgp03g94suU0s1J0sp8FWrmxFvzomqjyDYqnNfrrTXf\n",
       "HcZyzerrurHIp0/xWFJ7OdCghPHCrASVz5gdD1NfGKrnezJ+7szyVcuSLDbsrtIh6HBb90eBu0rV\n",
       "+OPgjbrUA3mGfDO3nuURHaYnS/zSCodC0n/eOVw00/tJXh7R9M5hlWXfcqt6cuq4ZaoHljV6r+q4\n",
       "hTb9AwgD7Yo0VieJAAAAAElFTkSuQmCC\n",
       "\" style=\"display:inline;vertical-align:middle;\" /></a><br>"
      ],
      "text/plain": [
       "<IPython.core.display.HTML object>"
      ]
     },
     "metadata": {},
     "output_type": "display_data"
    }
   ],
   "source": [
    "add_real_nonneg_closure_bin = Forall((a, b), InSet(Add(a, b), RealNonNeg), domain=RealNonNeg)"
   ]
  },
  {
   "cell_type": "code",
   "execution_count": 33,
   "metadata": {},
   "outputs": [
    {
     "data": {
      "text/html": [
       "<strong id=\"add_real_nonneg_closure\"><a class=\"ProveItLink\" href=\"proofs/add_real_nonneg_closure/thm_proof.ipynb\">add_real_nonneg_closure</a> (conjecture without proof):<br></strong> <a class=\"ProveItLink\" href=\"../__pv_it/theorems/ad621342882c2bc3ca52ae36b88113321179b5720/theorem_expr.ipynb\"><img src=\"data:image/png;base64,iVBORw0KGgoAAAANSUhEUgAAAdAAAAAaBAMAAAD1dxBVAAAAMFBMVEX///8AAAAAAAAAAAAAAAAA\n",
       "AAAAAAAAAAAAAAAAAAAAAAAAAAAAAAAAAAAAAAAAAAAv3aB7AAAAD3RSTlMAq1RmmUTNIjK7EInv\n",
       "3XZ/CtNrAAAACXBIWXMAAA7EAAAOxAGVKw4bAAAFkUlEQVRYw91Ya2gcVRQ+uzu7MzubrPlVfGBZ\n",
       "XzVQElajlYZSB5pgVIoprf6wIkEFsRI7C/mzTdquUNBCbBZlKQnYTjQIzbbZbUvQpFhqSwjBV9Rg\n",
       "oXXg+oDYRCEUYiRQ47n3zuzOYzfZlTGIF/bOmTuzd853Ht899wL8L9vRdna5MF/R23frqnefDrSv\n",
       "J1B5LEa/SYJpUFCI6t+u9naHl5++f519eiMOUJOCJUiy26b1AiqzyVSv4awy4VYChzW4jG5dV6Dh\n",
       "OI2gmNdAX3Tcb5k62TkV5/I2tU+D7wCucaB19HJfGaA+evHHPdCoh3abPQ/QqFO3dAJ2bdWolM0A\n",
       "Av0K4EcOtJVeXi0DVKAMEvIi4J4uhK+3bZ8TaDeEJeq8rtuBhu5NgJzGgL6JvZguA5T9JemFQov4\n",
       "E9yhsbvky8FyMeR+8IgbqKCiQROIk5MRhOIMaAjxRmLlcpQa7JwHOKVl+l33eGPJt/2kzDTuBzWa\n",
       "QbK63lEAmobBJ1hgkyB6SkgzoAHEGypLRk0ecVJ0GrtN/wLQEPfxc3NFj/qG62CY3134Be0QvcRZ\n",
       "90td/7ws0Bpd/yHvAVBfh5Gn4l2zpARQ+/DaQBMXD3EhwshU3GcJ3aOb7KQSXOZA2wAGkCjUkkCF\n",
       "FIQ1L1YXGj4v4+8FNbxcAqh9eE2gwUk4qTGdAyzeinyZ7um8NedImz850ASIaJUIn0KcGYVtdUWg\n",
       "+CjxT4ANjdPJfpotRBidE8sw+QoI0yBvcQDlw9mzd1YI9HQcdnKd/ZfY9BYyavqI1rr92Az04iIH\n",
       "GtYiRhl67I4M3BPRBM1SMAzAaHUQ/ddf2YAKdCMbhLSCArW04pzACFmA2jwc+50N7tT1L3T9GzCH\n",
       "Fao9CJgtmE51rpktD54BuG64a4H2vTq2NAca/tBBzbIB1E8MdYQ2WjoQJWKtjBqr4iJqKpKPdKM4\n",
       "0gqnC5zIPYpAa9KQQ7M2ODzKhxfhcKoyj05x7WkQM4+esnhUUgbsfxKN0IWO7fg+lg8/09H6Bw7Z\n",
       "gIYCpHKczFSEBEbozcH2g1CbcoRujsDj4AbKh5srBSr/BYEFpjP4p1nAWNfRNsfCLy0ZQM8hZY3c\n",
       "psnM9fWRD/ZagUY2oVPk8/NmtlvEYstu/5hdmakIiQ7h5cg49aj5ro9OfgIRxWCDX3UD5cPwaWU5\n",
       "Kt9EGn8QdUYySvMF0wL0lKMuNFkXetDaBxqMqqMelBtWoOJn2J1R+0yNLWIxCa4yowE3FcknEfAu\n",
       "tjwXcpStZWeREIh/RnB71BiWrtmB5lAD+Q8wOsuDE9CgKAfoLAJf/F4qAO3CyiBj3wkb6yj4Uuyv\n",
       "gdf6+99FoNmQbfdCS6kW6MVKkOUbFYONrfaIVSScK22Yijw5BjAYY6z7mM2q76DGGz9J/OoGagwn\n",
       "NTseRmEzYHbFB4Pzb21M0QiBWk6kgxnN3L0ch/79tkpPqLNs0+TllJTnHg02urZpE7gDkBo0U6yB\n",
       "nL0Ma48yjuSmImS0REU5QZUyM9YF1GANRVSrqIxQZ2QC42bv+3o51jRqXWOGDgUYWT1qbGusQOUl\n",
       "eG8YajVTFKmDLS2nhpu1zQS4qQh5dhy6Wlpa2p27l4DiAmor6pNvH9GqKOqpzrBjbYo0di9m7KiQ\n",
       "RANJ36t8E2rz6KS02EyBynkuQoaKWd5lkXL6dmv3KsBNhcvLkPtrzDTHjZvu/RdLafT1ykpVhxao\n",
       "c5l9l6095DxhkMf6M6VPGPY8PB+nQKXLXMTCEMVeVZrErjcW3NF4HsJoJmqq4Buvyy3uKPLFbMud\n",
       "ZwcXFeyVr1Z5lEJD18/F8WhBxMYz8oy/hKkcZ0Yi8RrobAXHj1WeGUm/4b70eZ7dK7dMkeYNz6vw\n",
       "3Orf8/4YpcJWwSlgp+tcN15CDPwXz3Ut7Sl2rnvlbzT3rFcjy4gOAAAAAElFTkSuQmCC\n",
       "\" style=\"display:inline;vertical-align:middle;\" /></a><br>"
      ],
      "text/plain": [
       "<IPython.core.display.HTML object>"
      ]
     },
     "metadata": {},
     "output_type": "display_data"
    }
   ],
   "source": [
    "add_real_nonneg_closure = Forall(i, Forall(a_1_to_i, InSet(Add(a_1_to_i), RealNonNeg), \n",
    "                                        domain=RealNonNeg), \n",
    "                              domain=Natural)"
   ]
  },
  {
   "cell_type": "code",
   "execution_count": 34,
   "metadata": {},
   "outputs": [
    {
     "data": {
      "text/html": [
       "<strong id=\"add_real_nonpos_closure_bin\"><a class=\"ProveItLink\" href=\"proofs/add_real_nonpos_closure_bin/thm_proof.ipynb\">add_real_nonpos_closure_bin</a> (conjecture without proof):<br></strong> <a class=\"ProveItLink\" href=\"../__pv_it/theorems/368fa7ac98737f48fe3c9dd60d4e171683a888700/theorem_expr.ipynb\"><img src=\"data:image/png;base64,iVBORw0KGgoAAAANSUhEUgAAAOEAAAAaBAMAAACzyCaTAAAAMFBMVEX///8AAAAAAAAAAAAAAAAA\n",
       "AAAAAAAAAAAAAAAAAAAAAAAAAAAAAAAAAAAAAAAAAAAv3aB7AAAAD3RSTlMAq1RmmUTNIjK7EInv\n",
       "3XZ/CtNrAAAACXBIWXMAAA7EAAAOxAGVKw4bAAADr0lEQVRIx71Wa0gUURQ+7c44M/uYXZKkFGRB\n",
       "CKI0QRKUsJVW7QGxJQSi0JZBJBEj9CcIHxD0I2MXe2xrJCNEEBvslpHhj5CiksKQUIpyakToIRXh\n",
       "j6wNonNndteZ2Z1cF+rCvXOf853Hd869AP+lWMJgvx/P5+SWPAEHAeqgBaiVn/TmBWg9j804uAQm\n",
       "tNKj10kjmCwyZqf4frKaAIcHFV1hIbLyHpNFWjZodizyfQZPsA/IiE2AsxKcIoCbDMtyA2TGsNmY\n",
       "beXGBDZzhkmOcdOFAwAbRlVEhww8wjWQtSO5IVLINlsg69JhrAWiETEOoV7stIwqVnV5wJYAIDO5\n",
       "OtTlR9RKnSVTowViRm8mYlMB6fU2qcwBaFcFs3tyQwziXoeevEnf0QnSPlUHnyQpkEbklKnOYvgK\n",
       "e7GzEwVDKQtyJM4XrOuzItonSduu9PfPa3QsHlL7AmaAXfj9jHVCkp7liFiEdTfxQskHWY9YUDqL\n",
       "drql0KtDY1W230CRA2imHQAD5iA27SCS1KNN4BJ6xFiHbRGgWgEXlhAfv3trYFOwB00MjNs8W6yF\n",
       "ror0Lw5ifYFSPARqUo+4WYTnAJsURA1zhmvRoWwESzg5143k40S7P7WHPZrslN+tP46fKBqgA9Lx\n",
       "MIX1EdL1GzhJVqYkaQZ9QuRtBPiFCpBNfRKWUNKqA1UGFWJ+IqaGOCUEdjbi5+0wEocTI6jQWIqC\n",
       "qo6I6AgpB7U6vgEa46NNSQba6DjNGazajVaFgCbZjWP14STPQ63MTBMiTMIrg1VjMmwzcHUBKPRs\n",
       "Oek6tYjUGUOoB4mLbhNyRetGiHq/Z0WeBDUiznvBukbR8Ulq+zqseO/EPFBkEXSIP+AmHqtR8ras\n",
       "QbSF5jK5CqfQEbaX7CLZ/Zr3Klbh7cwg/sJSiCZY8iMJJowATrZMUXodC+FCMnIADi0heqGK8+sQ\n",
       "t5JmFVqR8rIkS3OV1kCzgkhdUczBNkBXmaAV8ByKV3qv86MecegOscy02r8opu6OnwJ3aUGHWJ/q\n",
       "OPwkq4Ojh3JXI5c9PG/flxkrDpTX2ZMt56hXSzJkWq9KAbNwa0+TVuBqUTIX3ppnFR15ulVkfD5f\n",
       "g/Hu0KdrWpvX9Uk+e0JJpKUXgs1iFC/MGlD4jNExmvnCUCwfNv3dyRzeH+lkQ2+vGIY+D7tHBuYy\n",
       "ycbv49caMw+s1sWbsYSXR3QanizqpRWNRPx/eecwstlzRlge0fDOocVl33J5PTk13DLkA+s/e6+m\n",
       "uYU6/QG8q+sjPc/u1QAAAABJRU5ErkJggg==\n",
       "\" style=\"display:inline;vertical-align:middle;\" /></a><br>"
      ],
      "text/plain": [
       "<IPython.core.display.HTML object>"
      ]
     },
     "metadata": {},
     "output_type": "display_data"
    }
   ],
   "source": [
    "add_real_nonpos_closure_bin = Forall((a, b), InSet(Add(a, b), RealNonPos), domain=RealNonPos)"
   ]
  },
  {
   "cell_type": "code",
   "execution_count": 35,
   "metadata": {},
   "outputs": [
    {
     "data": {
      "text/html": [
       "<strong id=\"add_real_nonpos_closure\"><a class=\"ProveItLink\" href=\"proofs/add_real_nonpos_closure/thm_proof.ipynb\">add_real_nonpos_closure</a> (conjecture without proof):<br></strong> <a class=\"ProveItLink\" href=\"../__pv_it/theorems/78784dd24eacdc5d0ea7fba8938053dab628c7210/theorem_expr.ipynb\"><img src=\"data:image/png;base64,iVBORw0KGgoAAAANSUhEUgAAAdAAAAAaBAMAAAD1dxBVAAAAMFBMVEX///8AAAAAAAAAAAAAAAAA\n",
       "AAAAAAAAAAAAAAAAAAAAAAAAAAAAAAAAAAAAAAAAAAAv3aB7AAAAD3RSTlMAq1RmmUTNIjK7EInv\n",
       "3XZ/CtNrAAAACXBIWXMAAA7EAAAOxAGVKw4bAAAFkUlEQVRYw92Yf2gbVRzAv7lccpdLGivI8AeO\n",
       "zB+1Mlqi1cmKzIN1UB3DytQ/nEhRQZzUXWH/dO22CAMd1DUoZbTidtMhbN2WbLPoNhxzo5Tir6rF\n",
       "webBcwp1q0IZ1Eph1u/7ccn9SNZknkV8kJeXd5d338/3133fA/jftvsNODVV0Z13WkZwjw23LTYn\n",
       "gTCJZEHHcdL67nq3tgf53HsWmXNlGiCRgVnoYj+bFgtUY4sZQeOUXfByCrvtJpxFsy4qaCxNPSgV\n",
       "NOgLnt8rxvZ2jOGjetmT+kz4HuACB62lX3eXAQ3RLykdgEQ9tFseuIMmvbJlO+GplSZI75kc9GuA\n",
       "nzjoGvr1ShlQmWaQaBAOt7bgvsG2jV7QboipaLwIJUXXvQqQMxnoG9gr2TKg9C8imv9hm8GP7HeN\n",
       "9SVvjpTzIf+Fh/ygskEVqt5i8GQE0TQDjSJvPFUuRqnCjgXAqc5hl/DPN5a8WyJllvFfSJgi+VhW\n",
       "ewGU2U252UySCFpKzjLQMPJGyyajpoByUnIcu7p/ATTKbfzslaJFQwdZ3gEF4NQvqIfkGZ51v7Ks\n",
       "L8qCJizrx3wAoKF2EafKHZOkBKh7emHQztPb+CDOoJSNDtfdWedOKpE5DtoKMIiJwigJKmcgZt4g\n",
       "nPN/Meo+L+HneSM2VwLUPb0gaGQU9ppM5jDzt2K+zPZ0XLviCZs/OWgnKKiVOF9CmRiGR2uLoHip\n",
       "8wY5H8golyYLHkbXxDJMOwfyOGgrPKB8eujo7RWCHkrDOi6zdIYt70hGTR/h184BbIJemeGgMTMu\n",
       "ytBdt/XDsrgpm46CYRCGq+OTLr68BAXQPs5gnisIUEMrzhH0kGmoycOu39nkOsv60rK+BXtap9KD\n",
       "jNGC4VTrW9lx4UmAi8Jc07TvtbBlOWjsQ09q1gSoRIQ4cistHYged1ZGjVXlIqoqko93g7IW1Xmo\n",
       "kBO5RRE0kYUcqrXBY1E+PQPbM5VZdIxLT52YWfSAw6KqPuj+kyJcF9pX4f1YPvxMZ+vv3eYCjYZJ\n",
       "5ZxMVYSEj8BW6iRboSbjcd0cgcfAD8qnmysF1f6C8DSTGaRx5jDO92ir58WvzgrQY5iyjtxkasz0\n",
       "9fEPNjhB43VoFO34lB3tjmGxDa36hH0zVRGS3I8R2sYsat8boovvQaIULJEMPyifhs8qi1HtKqbx\n",
       "+1BmTEZM6iRxgB7w1IV21oUe1PaWBlF11IN+2QmqfI7dYaPPltgxLAbBeaY04Koi+S4KvCyNKaIQ\n",
       "o+xddhQTApEmZL9FxbR6wQ2aQwm0P0B0jgt7oEHXt9BVZP7ye7EAuhkrg373Tli8RyGUYX8Nvzow\n",
       "8A6CDkVdu5db8dMCvVgJsnijw0jjGrfH6iqulRWqIo+fYLM72pRLj7i0+jZKvPTTzl/9oGK6y3Tz\n",
       "sBQ2AXZXvLBv6s2lGeohUMMT6b5+09697IaBTa5KT651bNO0uYya5xaNNPq2aSO4A1AbTHuYgJy7\n",
       "DGtLshzJVUXIcImKcoQKZUesD1RkDV0xqqiMUGaaB3jb8L5VLmuKWles0K4DS1YPi22NE1SbhXcP\n",
       "Qo1pDxVqYEfLGbFmczkBripCnjkJm1taWtq8u5ew7gN1FfVdb+0wqyjqqcyweuEUKXYvtu8Y0IUK\n",
       "Un8w+CbUZdFRdaaZgmp5PoR+Ohzi3RCmnL715l06cFXh62W//2lMNbvFj+5Np0tJ9M38fFWHFihz\n",
       "mX2Xu3LxnjBoJwb6S58wPP3gVJqCqmf5EAtDHPYa6ih2vanI6sbjEEM1UVVFXn9Na/F7USjlet0F\n",
       "dnBRwV75fJVHKdR1JT48mSwMsfGIPCyVUJXnzEghQYNOVnD8WOWZkfob7kuf49E9f80e0rjhcRW7\n",
       "cv3nBX+MUmGr4BSww3eumy4xDP9Hz3Xt9gQ71z33NwqUqsJbjYRBAAAAAElFTkSuQmCC\n",
       "\" style=\"display:inline;vertical-align:middle;\" /></a><br>"
      ],
      "text/plain": [
       "<IPython.core.display.HTML object>"
      ]
     },
     "metadata": {},
     "output_type": "display_data"
    }
   ],
   "source": [
    "add_real_nonpos_closure = Forall(i, Forall(a_1_to_i, InSet(Add(a_1_to_i), RealNonPos), \n",
    "                                        domain=RealNonPos), \n",
    "                              domain=Natural)"
   ]
  },
  {
   "cell_type": "code",
   "execution_count": 36,
   "metadata": {},
   "outputs": [
    {
     "data": {
      "text/html": [
       "<strong id=\"add_real_pos_closure_bin\"><a class=\"ProveItLink\" href=\"proofs/add_real_pos_closure_bin/thm_proof.ipynb\">add_real_pos_closure_bin</a> (conjecture without proof):<br></strong> <a class=\"ProveItLink\" href=\"../__pv_it/theorems/ca23f6917a8bb3e6ac6dc8b905f371d81b9511540/theorem_expr.ipynb\"><img src=\"data:image/png;base64,iVBORw0KGgoAAAANSUhEUgAAANEAAAAZBAMAAABdr9YFAAAAMFBMVEX///8AAAAAAAAAAAAAAAAA\n",
       "AAAAAAAAAAAAAAAAAAAAAAAAAAAAAAAAAAAAAAAAAAAv3aB7AAAAD3RSTlMAq1RmmUTNIjK7EInv\n",
       "3XZ/CtNrAAAACXBIWXMAAA7EAAAOxAGVKw4bAAADTElEQVRIx7WWXUgUURTHj+3Mzs7MOi4JgQWy\n",
       "0EMvWQuWoISM+FER1pLQQwVtGEgSsr0EQegKgQ8FLhnVGNkIEYiBW0ZSD+FTZWH00LdurQU99EUs\n",
       "lGUgnTO7OzN39sNV6MK9nJk79/7OOfO/Zwag6LYVVtRU7NyyVqxSV0aKYheiy1lxnQYhz6RQmAT1\n",
       "yyEN0PAhzySfYK9dx7RfswMWqVQH8JGxfmmQMEkZjOWYGZnG4aPjpij4+PJBk6QgppmMjqVJXCyT\n",
       "wax2BLtbd5JiEO0FTtOmNIxNWgDoLfKFlQVxaGQyFkgbSUqXmk3a7jZjgvaUM7J/aVI/OT3JiDH9\n",
       "bvgFGh+nLpQr8ZcmSbRIO9EZ9MxdhCC+0d6hXCT5WdpponbpVkxrhy3SV+zT8fiTIkhrMu/q+P1u\n",
       "luSunMOc3DTsE7qVPc+5Dot0CCd2AAzm2162TI32xPj5h3BVZ0hjndI8QA0w0hKFB+/f6ZkagcmP\n",
       "oI8g+PIKzjIP06lA328EoJWNabMOTwE2GnbIIo3X2XPdg4ISdTmYufYcTRtVdxq6WNJz7F58cA/A\n",
       "DM3E47OYd/KxBeAvOm2sx1vxN+nsDVbbSGNBcs0miHX0+JwWVGSYiGXFRKQpkH6yMc0Ajzo/SKYU\n",
       "tan8tGg7Yz0RithWlB5hb8KbigJ1CbmptanZkT1pEVw/WFISONR5lWE/s5G4Ptsx7Q/jcKsTh9H6\n",
       "CQpncU5X6EAi6bPKxFRByxMgJaEktIEh/aZ3B7WG/d1GkqK2EkXag1OYbOmVZ54AbxV1xDiAsjAU\n",
       "YEh0IGR8cgiqVJUhlcN5HHelFO83SSpUi6YAYBsNJZgtTvXQ+RcDrlCbQeIuR1lFkFMeTM7wl77K\n",
       "CEMavk1ZeGHYUsX+TC3/ExYvJM3lDRnDG6RqC94I56vRNM2vKPJe9jyRGuB1rhqRKvXpN8TfTVUj\n",
       "Z2s3RRgW69DpMvD6zxgxKfwBPbuWb8lZYY3pQMEKIy2YHof72/RR/GDVgqFNVPk9tjqnshvOt9XJ\n",
       "wrXMZRYHvnHTOJz1e3YnQLiE1/s+xa61sA+vZs6Ls10sTCp1uJgSzqimBfP9R3Tn2UkJFyY5/iN4\n",
       "veC/UQxW3JyfWtd/+d8z9IIx/AOvLc9/8fScBgAAAABJRU5ErkJggg==\n",
       "\" style=\"display:inline;vertical-align:middle;\" /></a><br>"
      ],
      "text/plain": [
       "<IPython.core.display.HTML object>"
      ]
     },
     "metadata": {},
     "output_type": "display_data"
    }
   ],
   "source": [
    "add_real_pos_closure_bin = Forall((a, b), InSet(Add(a, b), RealPos), domain=RealPos)"
   ]
  },
  {
   "cell_type": "code",
   "execution_count": 37,
   "metadata": {},
   "outputs": [
    {
     "data": {
      "text/html": [
       "<strong id=\"add_real_pos_closure\"><a class=\"ProveItLink\" href=\"proofs/add_real_pos_closure/thm_proof.ipynb\">add_real_pos_closure</a> (conjecture without proof):<br></strong> <a class=\"ProveItLink\" href=\"../__pv_it/theorems/f765a27fb84c769c729db270b10a69127ea709c00/theorem_expr.ipynb\"><img src=\"data:image/png;base64,iVBORw0KGgoAAAANSUhEUgAAAcwAAAAZBAMAAABOcQOdAAAAMFBMVEX///8AAAAAAAAAAAAAAAAA\n",
       "AAAAAAAAAAAAAAAAAAAAAAAAAAAAAAAAAAAAAAAAAAAv3aB7AAAAD3RSTlMAq1RmmUTNIjK7EInv\n",
       "3XZ/CtNrAAAACXBIWXMAAA7EAAAOxAGVKw4bAAAFOElEQVRYw82YfWgcRRTAX2737vb2Pnr4R7CK\n",
       "4VSMgXLHabRgkLrQFFKlGKn6hxU9P0CsxO6B/5ypNYKgQmwOy1GuaLrVUmjP9q6tQVuwREsJQcUq\n",
       "h4XWhSn9ozZpIQixEqjxzc7u3n7cZ3IeDszs7Ludd/ObeW/mzQA0SnepMrQnPQwdTTwtJMwR9dfG\n",
       "X6fa9bceqbOYAVpktGp/BzEP0UJuN4xcH5MjncbcQ+0n1m7MFxzv62f3j8wmTUy4yDCj9HFvXcwu\n",
       "zeSSq+yPfxqLdW03zYizX9k0PPWIYmJeZpib6OO1upj8MD58qzU3vgQgptrvgtudmKMQEKKwOf9p\n",
       "Po9DUFQ0zPfoQGfrYgpR05dXkdbgYPFuk9ha/esaYvC6NDzkxuTllDmbvqSG6UPaYKy+b9IBO7Fa\n",
       "zAn8o5BbnKj+daLWck2ckpDCntdUNWViZk1MPqthckjra7AE9bdjJbqBufc/wPSx+X12rjKbXUei\n",
       "JmZkmq20P6nqDw0wQ6r6e2m1mN2Yn6AecudVUoWnhrgmZvrMLlYJaouof7vFaD/qlU1M7xLDHALY\n",
       "59JWsmHyYxBQVsRm0ZPH/Arm5+XAUhWeGuJamN4Z2K+AiDicZmeVFTK7c+TWnBkFgfA3w0yDH8dD\n",
       "tC+kkg0TP0ivbAotel7CjEGXeBb48yCud/AwceH4HU1ifpmELTiT+OaZ1jAtS1D/Ies+tsgwA0pw\n",
       "mDWgwvIUPBp1YuJ0T7UY2F16tZvYMcuYz+EYL0C4BLtvaLItqvqjqv4ChliifbeKHXsSOg/6GLXS\n",
       "JwEuMaGwQMtxFVOWYQa+sCzHoo7pIcZI7F6bg7uDCq+4MBMtrUBUDykFR92ziZihLBRxWOOO2WTi\n",
       "RXh3rLnZnGX9p+arzeZhy2wKksUL/brRQmqDPlZDNB4iUhC+GiwPDlsxfRxpIQ6gegjhjtn16EZb\n",
       "JPAYuDGZeKBZTPEf4BbAS0Mcz3kqCFv3zSHLJi/c1DFP4CJFG1yh0r77dgVdvgnBXpxh8eS84cCW\n",
       "aiUVNnytPTU9hEQO2vWsxTyJPDHo9shuTCaGb5vzTfFP6Erdf2wNdovTTDVCLJiHLRGgsdLCTrR1\n",
       "bCBqn/cFP9/mxvR/h8VRecJgs1QrTnBBGzhgekgpc8Wu5zrm47gUEE+Zd8+mLhYuOuhTeiH+ZTfa\n",
       "SYhL0ttxPYjE9LKJ+RbGAjnzbzl934QutBNswMKoPpCuuTHhdsyDMI4xn7ax0Ko3scluq5KAGrO6\n",
       "HrL5lGOlfRFbfoz97fkm/YcbUxdnFLs4LBlF2Y55YP6DnjFqHRBmbnEgpxgnlL2Q32HGdXzUehCb\n",
       "BO71fP4TxCz4XPsmS+cw2hfiilENQdEedA1HtI2a6SFkKmbXE8LuhMeMt3jVDdIv+eUWoiBxCfW9\n",
       "o79s+0yttk7qMa3ZQCix2fQmqp83xZuw5wiEFaPqp5NrSUU5MKCsI8D0EPLMafcJhZNcmLYYPfPh\n",
       "+0oLobsnhfo21l8Q9RNKpcE+/b7mco1j9YywOEAxxRKrQo5WC6woQEie2KrcI+kxFW4oB+16qEnD\n",
       "Xv1ldMeZan36eXm5ld1Z7JHrn64wPWC9PaANMmgBwm8yO0VXwXz6wfkkxRS+Z1UMAbE6LgszWIzH\n",
       "vBsTJyGAOqge75tviIMOG7rNtr217canwTn4gvOSRDyVzzW8JKFG62HV0xGzion5/FFPTT3aXZCf\n",
       "tBvzav2fV3YXJFzHc+dzzLeXbxlV6jPMpwJzdQLAEnQ+NX2zN+K6p01WqXL/v3taLT2u3dOe/Rce\n",
       "q4hqWsJp7wAAAABJRU5ErkJggg==\n",
       "\" style=\"display:inline;vertical-align:middle;\" /></a><br>"
      ],
      "text/plain": [
       "<IPython.core.display.HTML object>"
      ]
     },
     "metadata": {},
     "output_type": "display_data"
    }
   ],
   "source": [
    "add_real_pos_closure = Forall(i, Forall(a_1_to_i, InSet(Add(a_1_to_i),RealPos), domain=RealPos), \n",
    "                        domain=NaturalPos)"
   ]
  },
  {
   "cell_type": "code",
   "execution_count": 38,
   "metadata": {},
   "outputs": [
    {
     "data": {
      "text/html": [
       "<strong id=\"add_real_neg_closure_bin\"><a class=\"ProveItLink\" href=\"proofs/add_real_neg_closure_bin/thm_proof.ipynb\">add_real_neg_closure_bin</a> (conjecture without proof):<br></strong> <a class=\"ProveItLink\" href=\"../__pv_it/theorems/50934bf1576823967f3b1d257c2c71a50eab74730/theorem_expr.ipynb\"><img src=\"data:image/png;base64,iVBORw0KGgoAAAANSUhEUgAAANMAAAAZBAMAAABZWgY4AAAAMFBMVEX///8AAAAAAAAAAAAAAAAA\n",
       "AAAAAAAAAAAAAAAAAAAAAAAAAAAAAAAAAAAAAAAAAAAv3aB7AAAAD3RSTlMAq1RmmUTNIjK7EInv\n",
       "3XZ/CtNrAAAACXBIWXMAAA7EAAAOxAGVKw4bAAADNElEQVRIx7VWXUgUURQ+7szszOzPuBT0kBAD\n",
       "RS9SCEaQhK249kNQS0IvRm75EEnE+G64QtBDhktRtlYyQi/hg1tCRhAIYQQRSARBODUiZEmEBBnt\n",
       "Q3TunXXm3nG3nZW6sHfm7px7v3O++813ByBwE9Kw4SbWFr5j40gg52qJjmRIb1R4alSZ3VoLlNqE\n",
       "naZXeHraz/aF/Or8DW8cNwES5GZ7AKh+0jWWK/fuHObQ5M9MTkibR92hhjgd5OZcAKijLon+Fk5i\n",
       "17sOqgC5QVDy2EZwZhFgMOim/SBC4nKXSqN6wuqeMlCHwt64B1NCEqN6dSQF04IY91fIdq7dJnlk\n",
       "OoMvlpVxoVQv+AjuH6YWDlCUhhsCO8tCPaMsOiWeXGaq2jruBX/F32vLehUAqi5T2i+5Ycnmoc58\n",
       "24TMUH3JvQyBynVGA6T0wwCjQbSecwiHU4Za5KAiq+akAQKlLWx4UC8+fjC9+cNZgD6QEwGgwiTo\n",
       "DS78HMQ5DipUhJgNoRkaxchiqoXV6wDammpGXXNTzpdudj1uu8hDxYmiZ1GEKxAvEDFa1jxyjwmI\n",
       "GagvgLJCooYsbLkSgaPNzPzJNMmNUUUDwVvIp7UoTBfWV4VQsRydxVSFyN06SLSqB6zYL6sMgQNI\n",
       "IGQYf3qJvxT+qWnQYsupVKrDT+CkDQd4BeJrddyEEGU1zkKJV5j3dZjs4iOimonWaVLQ7wWTWgxC\n",
       "LSd5BZJpYwilw5aQwUFlcf9AoMtqNgMVyS3yCoR+zDfyTvlJIt9rScqBFpXHeFfTCEEPcQk79Fbk\n",
       "qqprUjEr0eH7rAeVhGbVO+L201AkTEwqM9S9hUwnXVi84zMriSj8Gia17UnfZ17sDe2EOmfV8Zvm\n",
       "mrP/MtRb3935bWs3sTSxXohlxcRe9Edd06InfGqfJetly7kFbZdK1657VllP7nGlaKgtmE49xPSr\n",
       "tCpN6jLXO7uQLGe3tLVXOViLblXGcKc5gQfYPqAKRbE/5WUBQ6Qb2eiJLrg2IbXvnoIhXTlmg3yb\n",
       "uOanwv2DPhPUuffG71tVTvy477lzlkzk8+lK3xayXWGppdq+LSTzr9GN//CLSfiP34FYxR+13san\n",
       "J7ZTUgAAAABJRU5ErkJggg==\n",
       "\" style=\"display:inline;vertical-align:middle;\" /></a><br>"
      ],
      "text/plain": [
       "<IPython.core.display.HTML object>"
      ]
     },
     "metadata": {},
     "output_type": "display_data"
    }
   ],
   "source": [
    "add_real_neg_closure_bin = Forall((a, b), InSet(Add(a, b), RealNeg), domain=RealNeg)"
   ]
  },
  {
   "cell_type": "code",
   "execution_count": 39,
   "metadata": {},
   "outputs": [
    {
     "data": {
      "text/html": [
       "<strong id=\"add_real_neg_closure\"><a class=\"ProveItLink\" href=\"proofs/add_real_neg_closure/thm_proof.ipynb\">add_real_neg_closure</a> (conjecture without proof):<br></strong> <a class=\"ProveItLink\" href=\"../__pv_it/theorems/615443b0a952c6ae6a9665d2d76dfb854f0af9e10/theorem_expr.ipynb\"><img src=\"data:image/png;base64,iVBORw0KGgoAAAANSUhEUgAAAcwAAAAZBAMAAABOcQOdAAAAMFBMVEX///8AAAAAAAAAAAAAAAAA\n",
       "AAAAAAAAAAAAAAAAAAAAAAAAAAAAAAAAAAAAAAAAAAAv3aB7AAAAD3RSTlMAq1RmmUTNIjK7EInv\n",
       "3XZ/CtNrAAAACXBIWXMAAA7EAAAOxAGVKw4bAAAFNElEQVRYw82Yf2gbVRzAv00uuV/JLSgMN7FE\n",
       "xVkYCcXq/gij3limExmGTfynotH9IQ511z/rjzWDwQTrGlbqTMV6FRE0zmbt5lRwRMYsomKVoqA7\n",
       "vTJxrt2gDLph/7B+33uX5nJ3+VGSVR/c5d039969z/v+eN/3AOqV2wwNWlPug7UvHF6K8WP9F9Ot\n",
       "+qJP/Q8w+Sy5d60h5vvkprWao16H3WuNOUTsJ9pqzCccz/7nctfOD5WfwzrFjJD6nTUx26jJdTZr\n",
       "PkW8bW65VSrOcYl8JHDzSPn/CMXcQerP1MTkUvgTbNbcuAKAlG699+1zYRYgexCEHJZj+Mklinlw\n",
       "xU+rYgpkQvqaHc46nCzObRJ7vN+uIoaAq4d7PTAfDJaf91LMINquHK3tm2TCJprFHMQPhdziuPfb\n",
       "8Wrh2nRKQjr7vWQY6RVMsfz/QxTTj9MTrBOCuloRia7gtekGYAaZfh+bs2lz41j5/8ss0n5nGN/U\n",
       "wQwZxvlCs5jr8XqYeMitF00Pniriqpi9Zw6wikyDKL/PZrTCUVuweVKnmDsBRly9FSowuQyIerOY\n",
       "OctPHtfEJQ+eKuJqmIEpeEcHCeOin9pZOUKK/Fe//2Yb7WCGYvYCj/MhVQZStQITX+htOiI+hRcm\n",
       "XdJZ4KZB2uLgYeL8iY0NYn7UCbtQk/jkK1JMWwiaTNg9rD9FMUVdTrEGRPczp2BrxImJ6j61OqbY\n",
       "J9tecIhm8DqHlrEA4QIcuUJluwzjW8P4AUpilYzdLnasSeg86GPESh8B+JUJhQVyHzCwZC2jHbFn\n",
       "PeMM02eWZuLIhmG4XdY53YUZX00EEmZzKUWG0wW3NhEzlKUfjjm0ycSL0J9pTJtfg7RomS/V5gf2\n",
       "BeWQ3cX6M1YM7bbmaifJh0xVhpPJmWTKjhn0m41jJrFfRYGEySeTyR1Oox034X5wYzJxolFM6R/w\n",
       "L0BglkimaU5nx+QO2xKBQY1hTmCQIg0uEGHHXQdkl2+CvAmnR5qcLzlwvvu0ewSWkGZfiDnn2JBs\n",
       "wGsUeaKw3qe5MZkYvmjMN6Wr0Ja+++N1OCw/RVJMG6aUveCKtPAy2jo2kOjrHfK7PW5M/ku8HdcG\n",
       "LUzpZ+G6awAlITUfReZHHfkKWb9O4ChM3wzn1qYlFn5xRKZrZArSVsVmtKMQU9UXY1YSieXpMqYK\n",
       "XeKKMcJWa4fShnaCDVga1QHqJTcm3EKMEQYw5yNWz6lCEXb/kaqMD0QIWZamKdxbzgSSzOrrON72\n",
       "T3v/cmNa4j7doU0SuMKqVbFhjs0fbs8Q64AwG8bYsF7aofytiW9cXfnuNvtGbBT8z+ZyRxEzH3St\n",
       "m6ycg1kQYqSzUArz/qK0UJl0pehmALZgyhxVFHm3MynD4YQzK6HYc4HkVV5bRRYkLWF/r1gPPW8b\n",
       "nnFyrw0TGwgFps1A3Hu/KV2HoQ/Z9m1cExO6JhQr3qPCzSa8RrWpBHp09w7Fr7owK3L0vlcP6atI\n",
       "3X1p7G977YBo7VDKDUas85rZKtvqKWExQTDzENIG9+iA9p8HqVC6UeEdKsuXcEH53BGC6Kwcsx5e\n",
       "2n/Ga0zfLy+vZnWW2rXauytixBG7NrFBH1qA8JPGdtEemI/eM99JMAeige3xSZolDkSFKRjQyI0J\n",
       "xQzwb5JE+s/Cew84PnhTxfLWqiLW2QeHNcchifRZbrjuIQkxWrZtk3WzVCWF1Y77cGHJ5VLVzoJ4\n",
       "s9WYF2/EWZBweQICzH32L0+XqsRnWE2cq3GyV4C1Lw2f7D3vPKf1e1X9/9dzWp2c0579F8aGdLuz\n",
       "HeF8AAAAAElFTkSuQmCC\n",
       "\" style=\"display:inline;vertical-align:middle;\" /></a><br>"
      ],
      "text/plain": [
       "<IPython.core.display.HTML object>"
      ]
     },
     "metadata": {},
     "output_type": "display_data"
    }
   ],
   "source": [
    "add_real_neg_closure = Forall(i, Forall(a_1_to_i, InSet(Add(a_1_to_i), RealNeg), domain=RealNeg), \n",
    "                        domain=NaturalPos)"
   ]
  },
  {
   "cell_type": "code",
   "execution_count": 40,
   "metadata": {},
   "outputs": [
    {
     "data": {
      "text/html": [
       "<strong id=\"add_real_pos_from_nonneg\"><a class=\"ProveItLink\" href=\"proofs/add_real_pos_from_nonneg/thm_proof.ipynb\">add_real_pos_from_nonneg</a> (conjecture without proof):<br></strong> <a class=\"ProveItLink\" href=\"../__pv_it/theorems/8db7e85dd2b39cc105cf5c60a04c093c1f1f4cef0/theorem_expr.ipynb\"><img src=\"data:image/png;base64,iVBORw0KGgoAAAANSUhEUgAAAzQAAAAaBAMAAACTEgSfAAAAMFBMVEX///8AAAAAAAAAAAAAAAAA\n",
       "AAAAAAAAAAAAAAAAAAAAAAAAAAAAAAAAAAAAAAAAAAAv3aB7AAAAD3RSTlMAq1RmmUTNIjK7EInv\n",
       "3XZ/CtNrAAAACXBIWXMAAA7EAAAOxAGVKw4bAAAH90lEQVRo3uVaC4hUZRQ+O3Nn7p17Z2e3l6SC\n",
       "TFkmxC5DmsQmNqKWJtJkEZVRUxFRRF0hCCt1BMmgTQfNcqy2a4VUW+2o2ZOWrajt3Rb2wJwacenh\n",
       "Y1kMlTbKzvn/e+/89zGvZGm2frgzZ84993+c7z+P/9wBqNKaCt9Co7Xz4T/bknhJeMUKX1WVDTfe\n",
       "9AM0f30M67/C3LN4yfQB08YiNFtpV8XHMDTXu34H78gd3bPBhgZmcWha6WtyJWia2E5NNM7KaBHn\n",
       "juoI6hMDo9l9zK3MiNwaOmWzDU2zwaCZR/StlaCRUvTVOA5E7kPdpUd3jHByVLu/3QNNHrKrbGhi\n",
       "rQyaVbZzKweNQoLLGsdopDxeXiO+wl+6DBtCiUrclnhNYrUN5b0x3QeaS9AIcrmPcugT1BEGTRiN\n",
       "R4tXjDWE8fbGgaYFrTjqZbf7S7eXyyWKlbg3GDWJ1TaU90bU7P7XQiFtQxOxrQZuZtAEE5VDfZjn\n",
       "CunGgWYdrmvKKEPzNowqNGFudVftF6xmwpYSNAt4hvZZofBJZWiihcKefONAcwivheSGJ/5c9Fl/\n",
       "GXZZ7S7tXeHl3jh0sktMG7rA5+HefZl6oLHENZZ8ybcLDk1Zf2sJmoMcmvkAmytDI2UgYjQONONM\n",
       "i79Oj4z4rL8Muxw0oX54ynBz1aNGj+4Qk79iW9n18PK4lK0DGls8yJxQKbWKyB/8+INRgob8KUKz\n",
       "FGTEUOViGT9o8P7SBjoV5PDCo7L6HkgD3vWXYZeF5sUELLKXb3EDIxAtOsSa8/C59+HvLbHaoOHi\n",
       "qONAn/PIGJF3dKTtagD67AyDJmJoGFc1PsR3fIvs2gkzW0tHzs2wc/Q1ri6kbbOinStJKi94I17v\n",
       "o8Qw6UudwXiLCoVPC4UvwWJ3b5vgZLuSPHTR6MhpiZeRxvjyS1wpDS15pxhN7pm082GJzLPKUOLU\n",
       "RiwdK8NEdBawZU2Htlk8/a9MMWgCRWcWsHb8RjhDMySjBE17fVnAA9k6UWl7dfaduCFe0Skb5ENF\n",
       "XD1pvXa028WhiWahJwVrD7m2JmcnyRRqspqPQD3i4SK4N8RdYqjQoQGnWDTL9vmiGq0maq8mxKzm\n",
       "eTF5Xi3GjJ6UmXzNcmyo+VQdKCY1oVATDhbr0XRTPTmDsjeXimnwGj6jDqbUPvhYgAZ7UvmMZ8E1\n",
       "otWgQ+spwkUEq2v9nH0EVmZqgkb9C4LDHi4eay4zXGL0wwVND31VH0qYmvU866hZhEZaI2zoldyh\n",
       "wXZMFEJ72QQG47CPiKlnrxCh0abUlQVEM3UIz0XhWAw6aNry1/KA6VMjVk/yI8zDfQgtugBNFy40\n",
       "DuMCuhcaxu6oGZrD0JQ+hy9fgCaDIcthNb+hjjzQtGAOnOqoGRomTjqGID/0FwVo1Ow+4Xygc2ju\n",
       "R6/5cgspXwqkVfbQVO3pJQI08ju0iB0HLOUIpBArbOa6IeZ9e21r1PZ5rc7ksXISQrMf45+y0ECr\n",
       "6RegoZ6Uk7BbGeOydS4ej9c2lCgGdkleqzHZ9snEyg6OEmxpkxB03gVtySRffonblIgknWKYnr3u\n",
       "gQbzLS1TfSjrBhNHHfOCBrabStAkYVokZSvHzNCgCXu/l63wBS3JSxBTIfmrAA2cjtdL+joLD4Es\n",
       "tRLzkDFI5prqtG59rfR5xE0e87cxTe5KQOgUdrQVYw3rSZ6dAWUEmq3iCCX9D+PCJ72+9BcvNCZb\n",
       "2e0KABShmpMmIeh8y4E1kzL3trlsaeIcV0jSdswyPNDAW9P21zCUfYPEUcekGz72RsOqPP+uRx49\n",
       "bCtnJggvBbrMU2rwtlxuPULTHRahYZ4HUNXLDIsMtc9zeSa6H+GV4Rlsnz1niktZNbN4MOXMkZAH\n",
       "mGqw8lJMejwLKjvkrZisC9DwntQFKWWklKbSlmq2fWabf+q6zKirGtBV7pjvYHigqW0o5w2qBCw3\n",
       "6SVPFnwTrNkCNOoIW2uLruS51YTa3dC8D3tBaTMsMgo9zu6IyduHrGtMokzxKKLSpw4745GJ1Ixc\n",
       "LhePxbTF7oKf0BME+9Gh2RVHejSY9EDjqCHKSVmvo7xpLt+nbulg2NCI3OpDOW9QzJxTJQDfLEAT\n",
       "SCdVBKXTrAycD7aeLWjUY7DhBf4mgZEydDpDDTEDvUQOw7v4ecx68cAmo7t8GvGC0wEeYlYTCy0x\n",
       "5Llz585zQcN7CnQ50gDmqB/zQOM0mgdX15O54PJrEhs48aFIbXKV04VZebY8tK68y/BYhvtH+Ubn\n",
       "L9BEq+lXjnSQrhFCRsJGIrvtD2IGziJqdzCLn7eAxqDphnAK8oBBrlt4gHj3bAVeAcLk+c2kn9Xs\n",
       "plQmSHtoCC630+0+4Uxw3129fov74vjxuo67k2p5HSW/+kfxhIciHUeqjBZsBecL6AAzJPWN3EZX\n",
       "oYa3K887kCBdI4SMlDJEdupKP32YzE3EWz1En3djzCNoOuPyHAyh84nisv0W70Jc7iaqwP6Uf/Zi\n",
       "P2iwJ4it50fOS+17FJTkuk5ajdRQxz9XEWnWXdBcG766z7e8KT5kMAipvRmzSbAodSBuUgFbHFiM\n",
       "0IyiSbHGqdOozpHLpXxmF7FtZL3n3lYYu81Xx+5m/jeg1BLSoFEFGuXgdoSQ84//aZEMVzPTMUzq\n",
       "Wls8xDq96/iASbEwyqkKL+AjlVx+fuxC46tjt+Os9R81nv+hJfxIN1X6HSxHxc5M/jNo/sv/Q2Pw\n",
       "GfQ/tPf+xRkETq20c+B/3/4GTpOBbygF58kAAAAASUVORK5CYII=\n",
       "\" style=\"display:inline;vertical-align:middle;\" /></a><br>"
      ],
      "text/plain": [
       "<IPython.core.display.HTML object>"
      ]
     },
     "metadata": {},
     "output_type": "display_data"
    }
   ],
   "source": [
    "add_real_pos_from_nonneg = Forall((i, j), Forall((a_1_to_i, b, c_1_to_j), \n",
    "                                             InSet(Add(a_1_to_i, b, c_1_to_j), RealPos), \n",
    "                                             domain=RealNonNeg, \n",
    "                                             condition=greater(b, zero)), \n",
    "                              domain=Natural)"
   ]
  },
  {
   "cell_type": "code",
   "execution_count": 41,
   "metadata": {},
   "outputs": [
    {
     "data": {
      "text/html": [
       "<strong id=\"add_real_neg_from_nonpos\"><a class=\"ProveItLink\" href=\"proofs/add_real_neg_from_nonpos/thm_proof.ipynb\">add_real_neg_from_nonpos</a> (conjecture without proof):<br></strong> <a class=\"ProveItLink\" href=\"../__pv_it/theorems/bc0b56c386083bec4d5423cd4e80152b201629c40/theorem_expr.ipynb\"><img src=\"data:image/png;base64,iVBORw0KGgoAAAANSUhEUgAAAzQAAAAaBAMAAACTEgSfAAAAMFBMVEX///8AAAAAAAAAAAAAAAAA\n",
       "AAAAAAAAAAAAAAAAAAAAAAAAAAAAAAAAAAAAAAAAAAAv3aB7AAAAD3RSTlMAq1RmmUTNIjK7EInv\n",
       "3XZ/CtNrAAAACXBIWXMAAA7EAAAOxAGVKw4bAAAH5klEQVRo3uVaC4hUVRj+d2Z27sy9s7NLpamB\n",
       "TFkmxC5DPohN7IaaVojTg8iMGpOIJPIKQlipI0gGbToopmO13R5ItdWOio+Mlq2o7d0mWmFOjShZ\n",
       "PpbFUGmj7P/PuffOuY95JWuzduDO/POf/55zz/+d/3H+OwBlWl3ue6i1NhEu6BbAK5rbU1YuWHuP\n",
       "7lPxQxvCui/z7FKaPscPRWg2066KDWFo7nP89j+SOX1gXeH3FA5NE32NKQVNHdup8dpZGS3imkGd\n",
       "QX6hdzCHjzqVGZaa6i/eZP1s0Bk004l+qBQ0gQR91Y4DkbpRd8nBnSOoDurwC1zQZCG9ogBdE4Nm\n",
       "heXcikETIsElNRQls3i5jfgOb+kibKiPl+I2xioSq2wqd8cED2hmoKYz2Dbgxhtg0ATReJRYyVhD\n",
       "GG+tHWga0YojbnaLt3RLsVwiX4p7v16RWGVTuTsixvC/5XJJC5pwoX8+g8YfLx3qgzxXSNYONGtw\n",
       "XWMHGZr3YVChCXKru+uoYDWjXi7038wztK9yuS9KQxPJ5Q5kaweaE3jdSm74siN5j/UXYRfV7qKu\n",
       "ZW7uvL6LHGJK33UeN3cdSlUDjSmusORLWiA4tNBaIeAf59DMBNhUGppACsJ67UAz3LD4e7XwgMf6\n",
       "i7CLQVPfAy/pTq58Wu/UbGLSHraVHTcvjQXSVUBjifuZEyqkVmHpk59/ElRM/hShWQQSYihzsZQX\n",
       "NNi/6PxoXa5EKIMXHpXljyDQ615/EXZRaN6Kwyxr+SbXNwCRvE2sIQtfu2/+0RSrDBoujjr2dduP\n",
       "jGFpW6sYMtakGDRhXcG4qvApfuBbZO92mNxUOHJugu3nBRn/CFjWolnFiiJtHl4fo0Q/6UuexHiz\n",
       "crkvc7lvwWR3bBllZzuSPHTR6MhpibNJY3z5BW4gCY1Zuxjt6VeT9psDZJ5lphIfbcDUcaifiLYc\n",
       "trTh0DaJp//lCQaNL2/PAlaPXA+XK3pAL0DTUl0W8FS6Skiad9z4KC1yJmWDfKqwYySly4p2ezk0\n",
       "kTR0JmD1CcfW5GyVTKEiq/kM5FMuLoJ7f8whhgrt67WLRejxyk8lPJqZfDOreUNMnleKMaMzYSRf\n",
       "U2wbaiZVB/KqIhRqgv58NZquqyZnCB3MJKIK7MzC4p3oWLrhcwEacyQdpsAc0WrQoXXm4QaC1bF+\n",
       "zj4Fy1MVQSP/Df5+FxePNbN1hxj9cEDTSV/lpxIezbyfDdQgQhNYJWzo5dyhwVZMFOoPsgc4HIND\n",
       "RIy7apkIjTK2qiwgkqpCeBoKR6PQmpf2kSvtNXxqWBxp8Sj4FBo1AZp2XGgMhvs0NzSM3VoxNCeh\n",
       "Lnk1X74ATQpDls1qfkcduaBpxBw40VoxNEycdAx+BkM0L0Ajpw8JsUbj0DyJXvOdRlJ+wJeU2U3j\n",
       "lFfmCtBIH9Aith0zlSOQQgi3mGv6mPftsqxROeS2OoPHykkIzVEV/MOY1fQI0PCRVlwKEsZl81w8\n",
       "Eq8tKJH37Q24rcZgWycTMzs4TbAlDULQeTs0qypffoFbFw+rdjFMz3a5oMF8S0mVn8rsYOKoY17Q\n",
       "wPZAARoVxocTzgwN6nD0x9kK31RUXoIYB+pvAjQwAq+3tTUmHgJZaAXmCf0wmWuizezaF+p2iRs8\n",
       "5m+jitSO8/oupqOtGGvYSHNmoNsbgIa4kPQ/iwsfvWvRr25oDHZovyMAUIRqUA1C0PnLx1aNTj3e\n",
       "7LCly6Y6QpKybYruggbeG3+0gqmsDhJHHZNu+NzrdbPy/IcWfu6kpZzJILwUaDdOqf6HM5m1CE1H\n",
       "UISGeR5AVS/RTbK+ZbrDM1F/mFeGJ7F99rohHkjLqdsPJ+w5EvIAUw1WXooGnmfGGpoOy8ZoAjQ0\n",
       "0pzdwKCx0lTaUg2Wz2z2Tl2X6FVVA9qLHfNtDBc0lU1l76BKwFKDnvtizjPBulGARh5ga23UQllu\n",
       "NfUtTmg+hoMQatZNMgKd9uGIydunbGhMogzxCKLSLffb45GB1KRMJhOLRpXbnQU/c6TQhyydHyhU\n",
       "HOlWv+qCxlZDlFRJq6K8aSzfo25pY1jQiNzyU9k7KGZOLROA5wvQ+JKqjKC0GZWBiWDp2YRGPgPr\n",
       "3uRvEhgpQZs91BDT10VkP5A6z4Dx4oE9jObwacTzTwB4hllNtH6uLk2bNm26AxoaqWMtB8lKA5ij\n",
       "3uCCxm40T6+sJnPB5Vck1nvuU5HapDKnC6PybHpojbYn4rEE90/oO42/QBOtpid0qpV0jRAyEtYT\n",
       "2WF9ENN3JVH7/Wn8fBAUBk0HBBOQBQxyHcINxHtsM/AKECbPu1Uvq9lPqUyUXp31wW1Wut0tnAme\n",
       "WNjltbhvzp6tqgoxupLXUdKOP/PnPBXpOFxmNn8T2F9A+5ghye9m1jsKNbzdee2xOOkaIWRkIEVk\n",
       "mxbqoQ+DuZF4K/voczHGPIKmLSZNxRA6kygu22PyrsflbqQK7C/Z127yggZHoiddR0fOW6w+qjxK\n",
       "VZ20aqmhjo+UEWnQHNDcE7y727O8Kd6kMwip7Y5aJJiU3BszKJ8lDixGKHreoFjj1DAqAWQyCY+n\n",
       "C9scyQZb32YYus1Tx85m/Deg0OKBw3oZaELHtyKEnH/2L5NkuBqZjm5Q91ji9WzQhWd7DYqFUU6V\n",
       "eAEfLuXys0MXGk8dOx1npf+ocf0PLe5FOqnCb38xKnqF+u+gueD/h6bT/9A++g+fwHdJqZ0D//v2\n",
       "D/mHexwBJX1BAAAAAElFTkSuQmCC\n",
       "\" style=\"display:inline;vertical-align:middle;\" /></a><br>"
      ],
      "text/plain": [
       "<IPython.core.display.HTML object>"
      ]
     },
     "metadata": {},
     "output_type": "display_data"
    }
   ],
   "source": [
    "add_real_neg_from_nonpos = Forall((i, j), Forall((a_1_to_i, b, c_1_to_j), \n",
    "                                             InSet(Add(a_1_to_i, b, c_1_to_j), RealNeg), \n",
    "                                             domain=RealNonPos, \n",
    "                                             condition=Less(b, zero)), \n",
    "                              domain=Natural)"
   ]
  },
  {
   "cell_type": "code",
   "execution_count": 42,
   "metadata": {},
   "outputs": [
    {
     "data": {
      "text/html": [
       "<strong id=\"add_complex_closure_bin\"><a class=\"ProveItLink\" href=\"proofs/add_complex_closure_bin/thm_proof.ipynb\">add_complex_closure_bin</a> (conjecture without proof):<br></strong> <a class=\"ProveItLink\" href=\"../__pv_it/theorems/d3cdfad2d01e8851e84783cf0b7c31a40f9cf7770/theorem_expr.ipynb\"><img src=\"data:image/png;base64,iVBORw0KGgoAAAANSUhEUgAAALYAAAAWBAMAAACfwnvZAAAAMFBMVEX///8AAAAAAAAAAAAAAAAA\n",
       "AAAAAAAAAAAAAAAAAAAAAAAAAAAAAAAAAAAAAAAAAAAv3aB7AAAAD3RSTlMAq1RmmUTNIjK7EInv\n",
       "3XZ/CtNrAAAACXBIWXMAAA7EAAAOxAGVKw4bAAAC4klEQVQ4y61VS2gTURQ9TSaZzDRJgwsXFsqA\n",
       "YBdqyUIKrVAHqiCIGqiIYLHRCtIuZAouFD9EUBCsNEJFUz+Mn00JmFQFdaEIRRA/WKUqCANTRGpd\n",
       "SFeKXYjvlxlfPkMXXjjzfjPn3XfveXeAZZgl0GitnqlYliUNjrq2r2ZGf/zx8NFyxAVSdLg6kHut\n",
       "QA3JtRmyabp6em4ad36b+AJsocNDQdR6lqPWoiZ5DFdNKl/LQJeJqI3TNDb5IG4lzeFbn2hbaKA2\n",
       "VL1+RrOBJhNhRo9mI4g7LuBbh2gHbLpk88GC47DDrdLoWYkvLxEmz2hguNcI1HI/YYHhR9r9XUzm\n",
       "j4jOIPDGcV4Fcm8TUFvnXZl7/48V5NBMDWol7GrqvOhNAVuBiUDuQYF+S1uSuPWfdslCmEUiWtF5\n",
       "rFzJRicwQraq0MSGPE2Pt50S3fcc+jSUGYk7tIS4i9Azxu3dGbOi+HWAZjdnPB9b6QZzhYx+0Qpd\n",
       "FXPPOZRFJIi6sN1xXjvOOyqgLFrKiC3Sl0YdYkxu+ePiuzGyu/tPKl8QbM6RIN4FNsrc8TxKGclv\n",
       "stWAgQjze9KjmNBEp58g20MexZ6H1OU/cza7aLfP+hVBxKTkYpOsEyLvnTZCLFAJj3sX1TeIF+tJ\n",
       "c4+kWP8U+0Wj/DlpMg/a2/2z3OAoGVgZsiTuHMkBwiwSSde/lykWLnSRwQnaN2P0aFo6nGVp7u72\n",
       "uac4NDc0q0h+N6U1cumVMhsc8N5fOGjdmhW6bSLxjWeSVCzxnJLqLBQKxrk9PvcFDr3t0cg3WYOt\n",
       "vTQaPAk3L9leHXw7S8/3QYxLltZN1loQN5j0aS51sZbIcdTeS2YnRbv3uiMVNHWmUjOssT67iITd\n",
       "BZYK9YGFp2KNFB2G2lrFrDegxDGL9Hbcx6gR2+FCvUInikPjnquXBer/XxrV0GPykJfDYqGQkaYn\n",
       "Jf1WmdbopyZ7E7EbuOZy1LX5Rj9Cec8w/q/9BcK5r17ryopvAAAAAElFTkSuQmCC\n",
       "\" style=\"display:inline;vertical-align:middle;\" /></a><br>"
      ],
      "text/plain": [
       "<IPython.core.display.HTML object>"
      ]
     },
     "metadata": {},
     "output_type": "display_data"
    }
   ],
   "source": [
    "add_complex_closure_bin = Forall((a, b), InSet(Add(a, b), Complex), domain=Complex)"
   ]
  },
  {
   "cell_type": "code",
   "execution_count": 43,
   "metadata": {},
   "outputs": [
    {
     "data": {
      "text/html": [
       "<strong id=\"add_complex_closure\"><a class=\"ProveItLink\" href=\"proofs/add_complex_closure/thm_proof.ipynb\">add_complex_closure</a> (conjecture without proof):<br></strong> <a class=\"ProveItLink\" href=\"../__pv_it/theorems/e221203a1f72beb1518ff0e951493a5bb2a527980/theorem_expr.ipynb\"><img src=\"data:image/png;base64,iVBORw0KGgoAAAANSUhEUgAAAaAAAAAWBAMAAAB0/FW2AAAAMFBMVEX///8AAAAAAAAAAAAAAAAA\n",
       "AAAAAAAAAAAAAAAAAAAAAAAAAAAAAAAAAAAAAAAAAAAv3aB7AAAAD3RSTlMAq1RmmUTNIjK7EInv\n",
       "3XZ/CtNrAAAACXBIWXMAAA7EAAAOxAGVKw4bAAAEhUlEQVRYw81XXWgcVRQ+2Z3d+dndmCfBCmFV\n",
       "NIGakActNEodqEJAisGICBVZrCD1wU7AB9PaukrFgjFdpaFOxTqtvpRos1GL9qEhUErRKk1L2kpl\n",
       "YIJKTUsgCFXsg/Hec+787OxcO2v3wQNnc+45NzPfd++dc84FkMryj3CrYgltq8geqN4M87FbfnVn\n",
       "mbS98lyTxzh+8eVX6zkPQXdxzz3JhOSxdLJWaHulcyDuWTwJn/5lws8I+jHueTGZkDyWSowKabvl\n",
       "pdhY+bUOsN6EvMNBv8FPXy2ZkDyWSpQB0piMJM8ekT2mKfBAbLxbZ0w6TMiaHDSnVSgnE5LHUklR\n",
       "aEz6k2f3yx7TFCg69HfJdXH/1+j8OLCV+46DzjIjL0kK8lgquU9ouwnladefvirGtVeEsQUz2Q+u\n",
       "e0aW5aSxVPK4UPXOK14CQIlbSmh0dhcZBUxWqv8pqV3vCGsGQQ8BHGA7ZiURoth/lS1Cn7X0GwkA\n",
       "JW4Zodxp+NhBnFk8aHkfsVb3v7J1CHqUUWSsabHUhWPwcFdAiGKtJdV93WIh4TypcRKUeTDWxQCS\n",
       "e2pmTUpCnw3AJsKZmUNCQUE1/cp0P4LWncIwjSfumIS7Co7iBITCWBrRFu1h4z0r86EYnyJVVqBU\n",
       "h4ll9G1y3e9d9xz4bpOjjLpjEgaeAPhJvGeF/467TDAF13aIyXsRdMYTXJUhXkY9sxAeuSCWSh6t\n",
       "shU8CvBQI6FiDabZsvTFVpzc1+H1arod+haM6+Lw4Q4dCSYc0P1DTO1NZQObswhYaKH33l0RQhiD\n",
       "qQ1f+/8bMUMRTqzgn7xFTVXkyE178Ag0EyL3YFpCxt+QXUGckJnnjlIw4Sleh4DWjIP+gqWLo7c5\n",
       "Bm5fb+Hw5gghHjMuaX/6tT80Iw2BcOKS9fSEgYOk02W4PWM1EyI3nEj3DRm/Q0elh+FkSQGRdnph\n",
       "p8A+dIVlivUE+jU23N4HOczuvWAuRQjxmGJqc6BitkPzyV8avyt0Qo0q+uBgGJgh1b3MgtK8Q8Kt\n",
       "XY7lij842YowIoGD0Gea2/lTlDo6ng9etPSCdXiBagQH3VHF6dmttv0+IzSVjxDiseJwZxe8ie9F\n",
       "c85YaSzc3MmTpm3b5T3PhIF3SY3ub0Z/ayYk3GNObIc4spIpjEjg0LW3u6u46yVa0EOTTtBtn13g\n",
       "SfxCeEUwblS1Ou1Qrj92fZi29EEHLgempc01EELnWg+wvPGkYIhAqUpK0pdYcFRTtVroFBhOgJ1i\n",
       "sPkjt6H1VedD0JmKSSX0QdaMxwgVrb0jSGhKmPowM426/4POu03AT1P9yoJZ8Y+8WeQaI9TQbI7t\n",
       "2e200JxynLDxX5rhYIe6LRhj5LWLFnTECOU29n8JnNB4mcwhbmqnYdziP+TUq6B+gClv675gU/YL\n",
       "5bJj22wSiLOrqy3dSBhOaf8/FruVGsftSfmNlR85arwLjuebEDg/zzAutt2YLo40lIt2iS67g++/\n",
       "yTX7RPR+PnGmDDk6HNtW532T7x9Z+tWkW75H2l65Imu6GNHlU608KZtkZuH/Jf8A2WRhiy2xNVwA\n",
       "AAAASUVORK5CYII=\n",
       "\" style=\"display:inline;vertical-align:middle;\" /></a><br>"
      ],
      "text/plain": [
       "<IPython.core.display.HTML object>"
      ]
     },
     "metadata": {},
     "output_type": "display_data"
    }
   ],
   "source": [
    "add_complex_closure = Forall(i, Forall(a_1_to_i, InSet(Add(a_1_to_i),Complex), domain = Complex), domain=Natural)"
   ]
  },
  {
   "cell_type": "markdown",
   "metadata": {},
   "source": [
    "### Adding fractions"
   ]
  },
  {
   "cell_type": "code",
   "execution_count": 44,
   "metadata": {},
   "outputs": [
    {
     "data": {
      "text/html": [
       "<strong id=\"rational_pair_addition\"><a class=\"ProveItLink\" href=\"proofs/rational_pair_addition/thm_proof.ipynb\">rational_pair_addition</a> (conjecture without proof):<br></strong> <a class=\"ProveItLink\" href=\"../__pv_it/theorems/2fd6947813a09aa62137c86133fdd53a3e165d4e0/theorem_expr.ipynb\"><img src=\"data:image/png;base64,iVBORw0KGgoAAAANSUhEUgAAAWcAAAAyBAMAAAByogdOAAAAMFBMVEX///8AAAAAAAAAAAAAAAAA\n",
       "AAAAAAAAAAAAAAAAAAAAAAAAAAAAAAAAAAAAAAAAAAAv3aB7AAAAD3RSTlMAq1RmmUTNIjK7EInv\n",
       "3XZ/CtNrAAAACXBIWXMAAA7EAAAOxAGVKw4bAAAGgElEQVRo3sVZX2gcRRj/7v/e/6rQl0hcEFSw\n",
       "ba5QgvUhOY0WpdYeFHwqJqUFMRa56ItCNaeCPhi5E0R7WnX7YCGm9q62aCnYRq1oqpU0piqtJxf7\n",
       "0Gqlhqs2IYXU+Xu3uzM5d+c8MnCzO9/NfPPbb7/55pvfAiiU3aBess5kIblk1FCd15NSx5zQJcJH\n",
       "RdFvgiRQRZV2VnXijhYMfacg0XamE4IVvGUYPWWTncfVasV5fQPqmCOSsUkdBu2yfei3wyYLYteI\n",
       "rlCbeFdWHbRf4ln9BqzjLsD/7kO/mt1YaVz/oDbxry14R0wi+wyJ2fryVplsHD3Agr3jSVytUlqK\n",
       "vnF2c2/Tbvukym+TyJAbBFNW0F7kRdFJe8ftxEnSSsYqszeNvWvo2PNij+jlu5Za5xtx7Oq4UG0E\n",
       "so6LtYanctB+NEewc0a3qjxIPGhOBfRfzITdWMPX8L5g0dAUPIgua2WDsbG2ZsONN08bfG1z0Njy\n",
       "pcHInFVlN7nfpgL6NItU2MP2p2CT0CFehu/RJSyLyFMogHwJ/vqbxw0E2DtuBR1HY7sMosakchW5\n",
       "71Jwam2eGQN7yWaAc0KPzVRr5KRk9Ffo1c9iDOj/q1BvaLP4vlL55VSlgj0llgHYAHCN9WIq80RF\n",
       "qaqwHTKjkAeegMg/Qo8Jdr1HDjpWgFIG309DvRGwWRqDPgeBGuvFVG4ldXhSYR2yNYMtHFkE36yw\n",
       "fyyym+Gs1D2QpXrrbdbwToruUQP/glUl3Q19CisxT6OThhVGauAZuN3e4wqyHDFJWRz9HsKpw0ov\n",
       "fx7W8BWsoMPoOo9XjEXlevoEVxSCB53PU6AYVqeFuInW+RFLQDeVgxiQd9rP26zhL1tB4xB4E7xh\n",
       "U7mRNj53D3oPSxiIFfZeeqUzJ4TpQz1k3YRq4ujXkKU6jwxdrPsSbcQzVtAacpe9h1M2lWdo410A\n",
       "4qK3OgfNllneQQIyLYriOWnP58C2jf8s6RRijn8c4H58fcx5mvY3vfY66LtBkgPIN+E+e8K0rkmy\n",
       "1ZuBF/AzFJyHaRYbVgr/bBHdXzL+LZlScf6w5EU+y0NBlWSpUd0xaG9tqdWwRpB0SXxhVKZUhBgp\n",
       "LP28pTT4kNGDLnI8tiFecwA6L7FFSLafXRBFYh6W4E+WRMsQ7ZzfujjjzdUj53+CLrVwlmxSkugt\n",
       "PADwtvMRUbpLScKZCDpJrIpSClxW/G+gYyjDGoJQXaH2uOXv49QpPROH3+Grnm2tmiPQ5bZYOo5C\n",
       "X9iIZpY4aA8jdDPFTDwbPcDzQQ/NNQIkT0pexwXfbapUvqtUSNZKZKRXUohv11ssFPQ4DuimdfiN\n",
       "ZY7fAe5DxvbBi0+DFbQzS6fbY2mcHgz0oGqs51MShWfIOf18lYieBMZINBIMV+7RHp/G7gEfD6K4\n",
       "+JOGw0LibALDO6ONE9E8C6u+p+oRN0qjR8hJ9Ei2J3rghQi7kBH8aYwTwil8WvMXIjkimmXb3IFo\n",
       "I+TNW5PmZqCH9faAxi/Nk8NHhQQ55uTwGTuWoaeHRAG6i8WiDuWj8KFtcznhZHPJtCdOc18tZcN3\n",
       "I29OQgxZJ5lloj+MV0mouCMFR/k2zo5XNDZG9kzKQGs70+6OoDbe7uUTzTqXeCSNZfNbjDGIG+th\n",
       "DIIZKI9h0UtGmKxLPwQ4OI0580PseJuWJkxJnVFHTouNt6s1PTvxTCDQt+YQjOjaw1VUh/p6jBGd\n",
       "iEKYil57w6U364ufp6aGCZ2MnkPldeegrShFRsySh1nn1IUaxopFq2f+WD/cNdDJ6DlpfrJUsaGM\n",
       "Tjo48PGhhr2WlJtZNpmGJh6wwyWBZUPZnK+7xZp2CrWkML9gp9Ztl28Us09CzyEkA45BW3i7oWN5\n",
       "3cGBzxWFQBVSkiZy1SgJCTzn6mLOw7SZt5Pyg2abLKqTNZ+QALgAMXtWz+g5gD+dKzXzdvtTssOl\n",
       "yR8UyBo/YzNieGdH6IT8k3N18IVzpRbeTsYPmnk5BVoswHYXws4idP12J+BcXcK5S9t4Owk/KKRh\n",
       "LgtnM7bTML3Z7n+cq3PzacbK24n8oCQSuCt80EcIVDKHPNgOmtJzkSkXOk28nZwfNJXTSkkWc+LQ\n",
       "IP4MGhZCKqPnwm7yUjNvJ+UHTe6p9PnCx1/kM8gsHX0iB0XpuQ/c6DTzdlJ+0GQTtdPEE7Ccpd9Q\n",
       "GjaSXU7QU2rDEoVlxKz6mbmlD/qtlkdUBwb1ZcOsDSoP3b1soOnH638BrOINgIk7jq0AAAAASUVO\n",
       "RK5CYII=\n",
       "\" style=\"display:inline;vertical-align:middle;\" /></a><br>"
      ],
      "text/plain": [
       "<IPython.core.display.HTML object>"
      ]
     },
     "metadata": {},
     "output_type": "display_data"
    }
   ],
   "source": [
    "rational_pair_addition = Forall(\n",
    "    (a, b, c, d), Equals(Add(frac(a, b), frac(c, d)),\n",
    "                         frac(Add(Mult(a, d), Mult(b, c)),\n",
    "                              Mult(b, d))),\n",
    "    domain=Integer)"
   ]
  },
  {
   "cell_type": "markdown",
   "metadata": {},
   "source": [
    "### Theorems for number relations"
   ]
  },
  {
   "cell_type": "code",
   "execution_count": 45,
   "metadata": {},
   "outputs": [
    {
     "data": {
      "text/html": [
       "<strong id=\"left_add_eq_nat\"><a class=\"ProveItLink\" href=\"proofs/left_add_eq_nat/thm_proof.ipynb\">left_add_eq_nat</a> (conjecture without proof):<br></strong> <a class=\"ProveItLink\" href=\"../__pv_it/theorems/0a240e6301ae415e4a47d9e51d95109a8edac51a0/theorem_expr.ipynb\"><img src=\"data:image/png;base64,iVBORw0KGgoAAAANSUhEUgAAAS0AAAAXBAMAAACsWwSiAAAAMFBMVEX///8AAAAAAAAAAAAAAAAA\n",
       "AAAAAAAAAAAAAAAAAAAAAAAAAAAAAAAAAAAAAAAAAAAv3aB7AAAAD3RSTlMAq1RmmUTNIjK7EInv\n",
       "3XZ/CtNrAAAACXBIWXMAAA7EAAAOxAGVKw4bAAADn0lEQVRIx81WTWgTQRR+2Wya7OanOQmlUgL+\n",
       "XLQ1BynUQ6xErVh/QgN6sNhgDwVP26NSJfaolUYKaj2UVAQtgSZVqFKhREUQtVLFogcDW6zUHyi9\n",
       "VXpyZt9sspPM9oeI+ODL7GTem/n2zdv3HsDfEI1BKG47i81vtUkJhBBiceliC7GcZQjSybbqeO1i\n",
       "sJGvYgubdwwjDtFJT1W01ATCTmrSIgs7OY+4QiMgVRUvOYwoSZxbd7aKLCwXzc32IujLeENV8fIx\n",
       "lKSJV3gtsiiJxAWgL23AScjWVBdeOxlseXWLLOx41YQRM4XCm+p4tTO46xd1ntf4/IOn5C4mRBYl\n",
       "bcZLXQjDKLm8IOIIwJ0NxNAaa90MnZqyyvNqDTTIswDNxg4FQ4JQoc14eaU87CfRmED0gjtoe+Sl\n",
       "9pjzGX1Q1uD1AaG+AErCwsupOVcd5Ep2Cyws2oxXP5nXkVkeoaS9MeFxnvnhmBScgqPr8XqJkJfB\n",
       "nyOPxwuFt4XCe7oDyEZCGBRYmNrEjV9mDDemfTq8I0bLCEm3CfuDSbIYkSG3QV6+FGRjZXHvM1zR\n",
       "KbCwaJtx35X2/CZZI4+ARIT8ZCKP6dJS2wIpTq55cBhJF6T+07qFV2DhcptZL4IQ5O8xq9Pw4Hl1\n",
       "aSr57BvL44vXNnkdhgC9w1kEPCTZVf3kWaHnanU15PsZr00PwJhhkpzaYeG16Eidk4eJDKn6qifP\n",
       "9h1BZEOwRdKsvMZiW8FLxpZyf/HaJq8boBDWzhQC+shEbjVOccKIhwwXG+EH5mwpKQdSJV5hRU+y\n",
       "JuHubMCsEhMIRZc+ypy/9lw9Bh0sLXDCa5u8DkAXrRw5BDjIUb5YAG9lxfithwZoJm4JSUk1l7DE\n",
       "V22xBXHkHGY6vI5QG570fud43VuSorSUzJXz4rVNXqPTJ8n2/hjCkKym7KPV1ZM3uqU5eAXX0F/Q\n",
       "oVt4DYCG90hMfcx14E8i7PK9e7acF69dyveTNDUx4HejDcbTGejzJmTIAHx2LZP8QS82BuhIg5c7\n",
       "Pwmtxa27rHWZr83xNap0ZSVnddubUJ+TIcqAS9GmRzAQkr9N/yQDbG9JgPs2dXgP69DQXyfOLJk9\n",
       "ixS9Wdz4FoONXKj8S6Tt1x057G3K+xvWVoRUTSGvkBkeLiXcivx1H4aKz2MMNiIgIdKWIrQXVDSE\n",
       "1Z9pNjj0U+VGFbwaXKXezq0jbDpQQbtur73IYL11c3BFcuvyiv+C/0Hc//i8PyKsA6ow2LkYAAAA\n",
       "AElFTkSuQmCC\n",
       "\" style=\"display:inline;vertical-align:middle;\" /></a><br>"
      ],
      "text/plain": [
       "<IPython.core.display.HTML object>"
      ]
     },
     "metadata": {},
     "output_type": "display_data"
    }
   ],
   "source": [
    "left_add_eq_nat = Forall((a, x, y), Equals(Add(a, x), Add(a, y)), condition=Equals(x, y), domain=Natural)"
   ]
  },
  {
   "cell_type": "code",
   "execution_count": 46,
   "metadata": {},
   "outputs": [
    {
     "data": {
      "text/html": [
       "<strong id=\"left_add_eq_int\"><a class=\"ProveItLink\" href=\"proofs/left_add_eq_int/thm_proof.ipynb\">left_add_eq_int</a> (conjecture without proof):<br></strong> <a class=\"ProveItLink\" href=\"../__pv_it/theorems/d298050c6574390fb341050d5e62d080da6e7c150/theorem_expr.ipynb\"><img src=\"data:image/png;base64,iVBORw0KGgoAAAANSUhEUgAAAS0AAAAXBAMAAACsWwSiAAAAMFBMVEX///8AAAAAAAAAAAAAAAAA\n",
       "AAAAAAAAAAAAAAAAAAAAAAAAAAAAAAAAAAAAAAAAAAAv3aB7AAAAD3RSTlMAq1RmmUTNIjK7EInv\n",
       "3XZ/CtNrAAAACXBIWXMAAA7EAAAOxAGVKw4bAAADfklEQVRIx81WTWgTQRR+u9ltsrtJGi9CqYSA\n",
       "HjzYGkEK9RAjsVbwL1jwYjFBD4KnrZ6UWmKPWmikUI2CbEXUGkjiD1UqlKAX/4lg0Utgq5WqhdJb\n",
       "pSdndybN/szYQor44Mtkdt/b9828N28ewDqIl4D9di3PsKgE6yFfCegi6nQLupwgCBmTzQ3R4ksY\n",
       "LPlGtWBIMIrRZUxON8TrLgFLmjSaBUvOYFwyop1tiFeCoC49tpknTrNgae/EMBajRBriVSaoS7td\n",
       "4Q3NgqXt10x4UCybGkuvNAab1ymKBVO7KYrxvlp92xAvoYQB3tY53e6pMHP/OYrFQ4qFW1uejcIY\n",
       "Cl4IYz/AjTU4/0takwVCryot23nFg2GhAtBhfqFqSghY2gpfht0oG9MYfeANMX1yr5/cNLNWYvMK\n",
       "RDDkl2CQsHjyqJ5lDnHYRrFwaw+ieQsKchlD0pQk1Z9vJpcMqEpBW4WXP4khLELACNChavVdtfrR\n",
       "+AIIZiYNUyzc2ppfhw/IaBGD1xlpvzeDVgyD52CNvPxZKCYdmew3U6iXZuHWTmm+3+h6KGNAOoZ+\n",
       "8rGnxquF7ll0OYkzwJlF10iRuIVXcHagu3ZfhCBkj2NRN9LDziulymi72xz5xdDeB0EjhhUMeISq\n",
       "q/zZt2T4VVuakE2hWRuCcZwiZzMWXnNc9qSQQzIi68s+UoUkHaMYgY28avU0ntwECho7HftF14ar\n",
       "ICHWniwG9KOJEDe9eOCWDw0X2uAnqcIFBSy8opKeIQ3B7UqQ3BK1gy3p/CfBtgPbLx+Eo2g84OBF\n",
       "14Y9kIpayg6XMSIexFFZMn9bIQwdaFsiUJqEB5b8al5pQbgSR8qPr4Ihh5/1/bB5urPAJ4yrZNp5\n",
       "oqjaMDZ1BH0+kMQwpahKu4xz5yubndE0vIIrZo+yNQqTFl5DoOI4IlM/2Tr4QsCq4N6K86iwtCcQ\n",
       "LhLgE6IO92h56FfSAuSRnbiI6oex4wKIlRVe3vIE1O7gQCbluGmZN7EQdfKiaitp+YWzCxAT7Y9h\n",
       "KCJ8n/qFBtjSmQbvdfR8x4b50VB9vw4fX6j1LHxidCWNVQyWnHc9oWoHdK6Eextnf0PaioisSmiJ\n",
       "+VyuXnBd9esejNT+ylkMllxzPaFq87Eu+iJFjQycfsy1QueDsFhvCgYIGB0oZXPY2nME1v6tNoix\n",
       "0qq8eubhfxDvP/b3B1fS+q3Vzdr1AAAAAElFTkSuQmCC\n",
       "\" style=\"display:inline;vertical-align:middle;\" /></a><br>"
      ],
      "text/plain": [
       "<IPython.core.display.HTML object>"
      ]
     },
     "metadata": {},
     "output_type": "display_data"
    }
   ],
   "source": [
    "left_add_eq_int = Forall((a, x, y), Equals(Add(a, x), Add(a, y)), condition=Equals(x, y), domain=Integer)"
   ]
  },
  {
   "cell_type": "code",
   "execution_count": 47,
   "metadata": {},
   "outputs": [
    {
     "data": {
      "text/html": [
       "<strong id=\"left_add_eq_rational\"><a class=\"ProveItLink\" href=\"proofs/left_add_eq_rational/thm_proof.ipynb\">left_add_eq_rational</a> (conjecture without proof):<br></strong> <a class=\"ProveItLink\" href=\"../__pv_it/theorems/ffdd2fe8220facf7c61ed2aba9cad2eb50c0511d0/theorem_expr.ipynb\"><img src=\"data:image/png;base64,iVBORw0KGgoAAAANSUhEUgAAAS4AAAAXBAMAAABHbL+hAAAAMFBMVEX///8AAAAAAAAAAAAAAAAA\n",
       "AAAAAAAAAAAAAAAAAAAAAAAAAAAAAAAAAAAAAAAAAAAv3aB7AAAAD3RSTlMAq1RmmUTNIjK7EInv\n",
       "3XZ/CtNrAAAACXBIWXMAAA7EAAAOxAGVKw4bAAADWElEQVRIx8VWT0gUURj/dmdmd3Z23RaCygQZ\n",
       "ULqkMYQkdlBLsiKMhaBTxEKHqNN4yzLYumZqgcR2kAW7lOFuClmHYiGCKBSJpA4ZIypWhCx0MDz1\n",
       "/ny18+e9Elbqg9++mX2/b77fe99733sAW2E2Qt67mf+YRRFbYUmTQ2JnxR5i0xyOFH1pqE7XXoRM\n",
       "tiX0kNgSxxH6fL4qWUaGQ2oXRR4yi+QZrtF8DlelS7U4XMnwzlCLyEPGVjoZqLy4WZWuBKJiYcdL\n",
       "yAs8pOzXDAoRG6luee1BSCNFLIGHlH2OY2Zh4U11uk4gonWrjjeSsbb7xiTJR0rgEWRPdIFBmI+A\n",
       "4RjA3U0E75R34QDhjB3b8EZSYdHpIcuFLnN1gVkKpOxiEyhlgAPA0AvRlHyrPT20kz/9YWu85TBe\n",
       "gDrnjdQKHfnt5LUU9AiydbMHQiRMEzDE8vG0MNxg7QhcKcKU+TddLznUMtQU+cR8nOETk4VuFrEc\n",
       "9AiyDZiFBJE4BAxhR7zsVZJgmDZhrHWTuhLDUEj7V/IsKwSloIeArW3AUJYkGDgy7eRnvH2adq0d\n",
       "XSYnl7YIIVZ39es2JJMuXbyffYRyPHksONDh32HaOjwgr3O+9SVmqxn4RppmxCQpx8Z7fZ2eGHZt\n",
       "hKRtYlt+wKBClDHw6GL9x3PELMrB745yFEzYEbbdkYyRUAlIshT/ZAvZEEvBLdK0IfrJENROnc61\n",
       "AqM6aS43wxdWhKmmZLyiC/sBOfiIGzvmhN+pnhkI/7hX0sg41aJPl5ANakr77io7IZLTRDrJN+U6\n",
       "+62DeuVCLndb8+cR+5GDTzc5jPonvZ89kYyTTuN+0tb4N5aQDUbdMv38PIJawY4dpIeFXmJ3n3l4\n",
       "pbMx+tc97ed5pBx0rslySCv4Vf9OkbHjpNBF5zj4gWUPncqPQ388o8I4wAetzIvtYAomrYou1o9G\n",
       "OZ6TVn5ud/l1idmP4aHpuwVoXfumYMBUV55/JQ00tmWgj47JeNa9y1VXWT8a5aDdQciuoMEaI2R/\n",
       "ImsDoA/hMrxWmIYds0ipz42Qmb1kies946DdR0gsFrw0C9kNy2nhILU8NiHn9O8/D7esCHW5OVGH\n",
       "Q2KrgimUspM2hzvrvxqtvbKx9aWsUJeb8z/N/rfhfgKK1BHAYISYiQAAAABJRU5ErkJggg==\n",
       "\" style=\"display:inline;vertical-align:middle;\" /></a><br>"
      ],
      "text/plain": [
       "<IPython.core.display.HTML object>"
      ]
     },
     "metadata": {},
     "output_type": "display_data"
    }
   ],
   "source": [
    "left_add_eq_rational = Forall((a, x, y), Equals(Add(a, x), Add(a, y)), condition=Equals(x, y), domain=Rational)"
   ]
  },
  {
   "cell_type": "code",
   "execution_count": 48,
   "metadata": {},
   "outputs": [
    {
     "data": {
      "text/html": [
       "<strong id=\"left_add_eq_real\"><a class=\"ProveItLink\" href=\"proofs/left_add_eq_real/thm_proof.ipynb\">left_add_eq_real</a> (conjecture without proof):<br></strong> <a class=\"ProveItLink\" href=\"../__pv_it/theorems/54bfb1f966efceb9f6d38f59110472ad693ae4df0/theorem_expr.ipynb\"><img src=\"data:image/png;base64,iVBORw0KGgoAAAANSUhEUgAAAS0AAAAXBAMAAACsWwSiAAAAMFBMVEX///8AAAAAAAAAAAAAAAAA\n",
       "AAAAAAAAAAAAAAAAAAAAAAAAAAAAAAAAAAAAAAAAAAAv3aB7AAAAD3RSTlMAq1RmmUTNIjK7EInv\n",
       "3XZ/CtNrAAAACXBIWXMAAA7EAAAOxAGVKw4bAAADn0lEQVRIx81WTWgTQRR+STbd7G66zUkolRJQ\n",
       "vGhrDlJoDzUl2gr+hQZ6aTHBHgQPsj0qVapHrTRSUKtQtlLQEmhShVYUSlAEUStRFD0Y2GK1WqH0\n",
       "VunJmZ3Z7k4y2x8i4oNvZ2f3vZlv57197wH8DdEouCK6WWx/qW2KGibgi9/gW/DlFEUIT3ZVxmsv\n",
       "hYt85Vu4fGOE4DCenKmIlpwicJMqnWfhJmcJLuMISFfES4gQ2JJg3vuiPAuHo5nZAQL8MUq4Il5B\n",
       "ClsaWYVXPAtbvEwABnUTPkS2qrLw2kPhyquXZ+HGqypCMFcsvq6M11EKsW7RYHlNzj94inwxxbOw\n",
       "tSkveSECY8h5IYIjAHe2EEMbvOul6NGkNZZXVK0XCgBN5gpFU0JQpk15Kd48HETRmCLoAzHkumXD\n",
       "dNs580bagNd7Avk5YBIOXj7Nt+ZBLtnHsXBoU15X0LwWzfIEkq7EudsF5kfiqgIzuc14vSAQVqAa\n",
       "6x4vFt8Ui+/wCiCYCWGIY2Fpo2P8Mmceox404C0yWiHwGi5hf2gAZTgVWowt8gqmIRsvifugadzD\n",
       "sXBoW3Gf1AO/UdbIE0CqFV0yrTP41XLHAipO/nnwmEkX81qK2rzUhUsdVr0IQYj1Y9bA4cHySmoy\n",
       "+u0bSuOL1bZ4tYOKfVgggIcou8qfAqt4X622Cv0/kzX6IEyYRBRxNGLzWvSkTwsjSIZlYy2Qp+uO\n",
       "EmTDsMOrOXlNxHeCgsbm0vNitS1eN0BCrH1pAuhHEyFq7uKD0QAaLjTAT5KzVeFu2hH3EckYoE3C\n",
       "vYJqVYkpAsnwfhCY89p/9Rh00rTACKtt8WqDJK4cOQLwoK2CcZV4ZdW81kE9NKFjCauq0un8H2vW\n",
       "WxBPzmOlw+sEcv3jvh8Mr/FlbwyXko+lvFhti9fY7Em0fHWcwJSsJrXg6hrIm93SR3gJ18zzUv3d\n",
       "uoPXIGjEj8g0SI8OqgcI3PK9WCjlxWrb+X4a4SIF+W+0oYSegX4lJUAG4LN/BeUPM77giR33Yn4a\n",
       "outLJ511ma3NiQ2qdHklp3VbScnP0BCjIK9ijY9gMCx8m11CA+xuToF4Gz3v+p4bb7fP60T3stWz\n",
       "eGM31xe+ReEi58sf8bSrDU+O9Dal/Q1tK8KyJqFPyIyM2Am3LH/dh+H1+wkKF+GQ4Gl7W3EvKGkE\n",
       "zvPU6eAxukqNynjV++3eTjQIXDpQTrvurr1I4fS6Nfhbc5vySvyC/0HEf7zfH/vRApatbWOcAAAA\n",
       "AElFTkSuQmCC\n",
       "\" style=\"display:inline;vertical-align:middle;\" /></a><br>"
      ],
      "text/plain": [
       "<IPython.core.display.HTML object>"
      ]
     },
     "metadata": {},
     "output_type": "display_data"
    }
   ],
   "source": [
    "left_add_eq_real = Forall((a, x, y), Equals(Add(a, x), Add(a, y)), condition=Equals(x, y), domain=Real)"
   ]
  },
  {
   "cell_type": "code",
   "execution_count": 49,
   "metadata": {},
   "outputs": [
    {
     "data": {
      "text/html": [
       "<strong id=\"left_add_eq\"><a class=\"ProveItLink\" href=\"proofs/left_add_eq/thm_proof.ipynb\">left_add_eq</a> (conjecture without proof):<br></strong> <a class=\"ProveItLink\" href=\"../__pv_it/theorems/de61bef8f3ea50442b03f6ebcd4efb9dd0b1a6b70/theorem_expr.ipynb\"><img src=\"data:image/png;base64,iVBORw0KGgoAAAANSUhEUgAAAS0AAAAXBAMAAACsWwSiAAAAMFBMVEX///8AAAAAAAAAAAAAAAAA\n",
       "AAAAAAAAAAAAAAAAAAAAAAAAAAAAAAAAAAAAAAAAAAAv3aB7AAAAD3RSTlMAq1RmmUTNIjK7EInv\n",
       "3XZ/CtNrAAAACXBIWXMAAA7EAAAOxAGVKw4bAAADnUlEQVRIx81WTWgTQRR+2Wya7OanOQmlEgKK\n",
       "PWg1Bym0QoxEreBfMCCCxQR7ED1tj0otURBEK01pUaNQUhW0BJpUpQpCCYogaiWKRQ8GtlipP1B6\n",
       "q/TkzM5sspPMpi0R8cGX2cm8N/Pte2/fG4C/IQoFV+xmFmvfao3i8RPwxabyLfhygsKLJxvq47WZ\n",
       "wkS+8i1M3jFAsAdPTtVFS44TmElDmmdhJmcILuAMSNbFSwwQlCXKrFtDPAtDoJnZdgL8Mk5/Xbxc\n",
       "FGXZyiq85lmURWAS0JXWYEVkG+pLr00Upry6eRZmvBoCBNPF4pv6eO2nsDfPqyyv8dkHz1AsJngW\n",
       "ZW3KS54LwCgKnpdgH8CtVeRQjbVuii5FWmZ5hTw+sQDQpu1Q1MQLVdqUl1PIw06UjXGCHrB7a5Sm\n",
       "YV8fHqUavD4QyC8AkzDwsirWZQsKyRaOhUGb8rqI5k1olieQ0s4I9zjHbCoiDyrC7ZV4vSQQF8Gd\n",
       "Q48Hi8W3xeJ7vAOIWkEY4Fjo2siNX6Y1N6ZdKrxDRosEgmqS9rsTyLfjADtWycuVhGykIu9dmiu6\n",
       "OBYGbT3vY2nHb1Q18gQQD6KfTPAJXlronEPNyTYLFq3owt1LtL8RXp65vk69X3jBy8Yxq+L0YHnF\n",
       "FBl99q2V+cVq67z2ggfHsEAAD1F1lT85lvC5SlMD+n7GG9P9MIZVW1qoLeE1b0meFFNIhmR12ZGn\n",
       "ayMEWT+sExQjr7HIenCisb3SX6y2zmsQJMTamiSAXjQRQ9opVhhxoOFcK/wgNbujg+EVkNQEvSTc\n",
       "KXj0LjFBIKnCR5Hx17YrB+AILQuMsNo6r10Qw50jRwAWdJQr4iFRWdJ+m8EHbcgt/svHGF7QWLqC\n",
       "WHIWvRxeI5B9T3u+M7zuLQhh3EpmKnmx2jqv0anDaHt3hECTrCJ14O7qyGvZNAOv4KpWU1DeywZe\n",
       "/aCQOCJTF3UduBMEZvXeXqjkxWqX6/0kwnkK8t0oA9F0BnqdcREyAJ9ti6h+4C0fKzBV4mXPT0Ko\n",
       "tHXM2JfZ3hyt0aWrOznt2864/BwNYQqyFN76CPr94repn2iAje1xsN/EC5nTw4myvw4dX9DvLEL4\n",
       "emnjGxQmcrb6L562W7XkyN2m8n5DrxV+WZHQK2RSqXLBrapf92Go9DxGYSIcEjxtIYjvgpJCYPRn\n",
       "mg4W9WilURUvn618t7OrBCatjHNdN9eepzBGXR9swdyKvKK/4H8Q+z8+7w/Q/gDeLXMCvQAAAABJ\n",
       "RU5ErkJggg==\n",
       "\" style=\"display:inline;vertical-align:middle;\" /></a><br>"
      ],
      "text/plain": [
       "<IPython.core.display.HTML object>"
      ]
     },
     "metadata": {},
     "output_type": "display_data"
    }
   ],
   "source": [
    "left_add_eq = Forall((a, x, y), Equals(Add(a, x), Add(a, y)), condition=Equals(x, y), domain=Complex)"
   ]
  },
  {
   "cell_type": "code",
   "execution_count": 50,
   "metadata": {},
   "outputs": [
    {
     "data": {
      "text/html": [
       "<strong id=\"right_add_eq_nat\"><a class=\"ProveItLink\" href=\"proofs/right_add_eq_nat/thm_proof.ipynb\">right_add_eq_nat</a> (conjecture without proof):<br></strong> <a class=\"ProveItLink\" href=\"../__pv_it/theorems/df150c25c8b29bd57ed96b07e72880ecda6682d70/theorem_expr.ipynb\"><img src=\"data:image/png;base64,iVBORw0KGgoAAAANSUhEUgAAAS0AAAAXBAMAAACsWwSiAAAAMFBMVEX///8AAAAAAAAAAAAAAAAA\n",
       "AAAAAAAAAAAAAAAAAAAAAAAAAAAAAAAAAAAAAAAAAAAv3aB7AAAAD3RSTlMAq1RmmUTNIjK7EInv\n",
       "3XZ/CtNrAAAACXBIWXMAAA7EAAAOxAGVKw4bAAADu0lEQVRIx81WTWgTQRR+u9k02U0acxJECQH/\n",
       "DlrNQQQ91EjVivUnWNCDYhc9CJ62R6WV6EXQipGCWg91K4KWikYFFYUSFfFfqigKGthipf5AKYIo\n",
       "PYhv9k2anXRWLRHxwbezuzPfzDdv3rwZgL9hFofUQn6MyXc1SYslCXILOnKG3LZxxNnHzOp0zePw\n",
       "sXdyhs8cU4SV7GNnVbIMk+BnNbaM4We7CPtYBOSq0qWlCJ6lE74CaRmjbM1C3SICm0wkWZWuKEfZ\n",
       "VDGkHsoYZVsg1tkuAii9prrwmsPhq2uHjOGnqyZFeFIsPqpOVxPHhcFzN5Oirtb+vfi8JGEYQyno\n",
       "EXWFpg8jLxInrAY4+Qcx9Iu6HRzpWEIbEHQF78EpXJbFbg9F1+KcEVELsEzUtdXSxzAaTUIrhOK+\n",
       "Q7Y3ZQK32Iv+C13PCQErMKakBF3nU7AOi/kSxn6cwjRBl3EH2LRQrwvdjmSkw4UHuzJq/Aas+Z2u\n",
       "u4QwaCZ3zNsn5JgNAG+wOCJh2FEHnuLrumLxcbH4jPFGoTaP3YwSVMcn7FdksbJeg/wf6sJt5FTE\n",
       "/QMwvrIFkjFa7PB3wV/RHFxEDwULBDDr8dFXf43VjTQO4eEUHATFTbqg7t/seHTFhvY2ls6LOMTF\n",
       "dcShLMP26jJ+QABnDnWV8cVar4JYQdB10XEDTh0gwGXMrsar8Dc2rjWtBnfUhSl2B/S6A2RvzPbo\n",
       "GlZy27UutE7DGQvzbqGb0JuZARHBX8YXUMy5AEsq/cUYR0GPi7qSMFW1IIBJngHasFpLu6MEoDuM\n",
       "xZ46+EhZWM1qsVxZV0p3snxPnx6IlU6JS4SFB9fCRnEdu6EunaYkIhhjLIeWlKBLd9QXuO21PAEU\n",
       "HCqaiZH4b+5zOiRgMbolqWaNvOmJrynjVxAlr5Si6TDhzIjakBR19Xw+kMDeX1bqYoye/g2WuB8T\n",
       "11s/ANRmCORDS1/KQiNccG9LL+E+HCJ/wUbHo6sDLFpHpEa566A2S/DL96GBSl3U+qo037dz0F6w\n",
       "jjTbfdAWMTXoA3gdHMX8wRY2A+RIV1eocBXS4123eM9l8WwWz23xlOaMiGnclp7bDRzUUcOCK9CR\n",
       "1N73f8ICZi0xIXSCOXwnv6GRv9ZvGSndWdSGY+NdHefwsd0Tfx2HWkfJS2+3uYn3Gx4dScPScYp9\n",
       "XV3lhDshf52FzvH3Xg4fk0juxcy4UtpYtwhe79u8UJxNE5pX/kgEy3e7kEPwuYFKruv+rYc5vKte\n",
       "KoL1+d/qav4M/4OF/vF4PwGXtwMyhAe6hQAAAABJRU5ErkJggg==\n",
       "\" style=\"display:inline;vertical-align:middle;\" /></a><br>"
      ],
      "text/plain": [
       "<IPython.core.display.HTML object>"
      ]
     },
     "metadata": {},
     "output_type": "display_data"
    }
   ],
   "source": [
    "right_add_eq_nat = Forall((a, x, y), Equals(Add(x, a), Add(y, a)), condition=Equals(x, y), domain=Natural)"
   ]
  },
  {
   "cell_type": "code",
   "execution_count": 51,
   "metadata": {},
   "outputs": [
    {
     "data": {
      "text/html": [
       "<strong id=\"right_add_eq_int\"><a class=\"ProveItLink\" href=\"proofs/right_add_eq_int/thm_proof.ipynb\">right_add_eq_int</a> (conjecture without proof):<br></strong> <a class=\"ProveItLink\" href=\"../__pv_it/theorems/5e8aed184b77eddb9fba9d2ff587dbf81c2fd8220/theorem_expr.ipynb\"><img src=\"data:image/png;base64,iVBORw0KGgoAAAANSUhEUgAAAS0AAAAXBAMAAACsWwSiAAAAMFBMVEX///8AAAAAAAAAAAAAAAAA\n",
       "AAAAAAAAAAAAAAAAAAAAAAAAAAAAAAAAAAAAAAAAAAAv3aB7AAAAD3RSTlMAq1RmmUTNIjK7EInv\n",
       "3XZ/CtNrAAAACXBIWXMAAA7EAAAOxAGVKw4bAAADvElEQVRIx81WTWjUQBR+ySbdJPvT9SKUyrKg\n",
       "oAerEaSgh1qpVcG/xYIXxS56EDylelK0rL0IWrAiVKtQUxH/KnX9QUWhLHrwX1ZQFHQh1UrVQimC\n",
       "KD2IbzKz3Uw60cKK+ODLZCbvZb55782bAfgLEmYI/jqdMSoWw9+Q9wxiUR2xhVi2MiRIZ3ZFtOQc\n",
       "RZB8EFoESNykaCadHRXxOscQJFW2yCJIdlIcINHuqohXE4MndKa3F2oUWZSlhestpiCLiaQq4pVn\n",
       "8MSJT6nHIouyLOB6UdtFCJdWVVl6ZSiCeW0XWATyqjIpnhWLTyripeQoYGDowt0Uz6ttsB2fVwUW\n",
       "xrAJfTyvcO0I2kUSFKsBTk5j8t+kNVsgNMaTSoHjpT6A0xiWevcPRVcSzCIi52EZz2uLpU9gNmYo\n",
       "2iCcCJxTenTjlJu1ejCvWIoiZIUmJJPjddmEddjMF1h04BJqOF7GfSDLQr4udDuSFs6nDfWkY1Zk\n",
       "wP4Dr2iaQgMlwxzz7hl1zAaAt9gcEVjYUQee4/u6YvFpsfiC2I1DDAOsjVPITkDar8iiD6BjN0yT\n",
       "Fz4dX94/AuMbCZDAAlpt7Qfnr2gXXMEPap4CMg346G+4Rb6NrRrGw0kdAsktuiRpGj284sPtq0rn\n",
       "RQISfBxxKsuwvbyMnxDClUOdL79c7ZUQz3O8rjhuwskFCriG1dV4rX0n81o1VWgzUG13wkVaE3dl\n",
       "PbxGpK5tSg/KMcOZ0NhvdYfiYnoWRDh/GV9ByswFWOLzF9GGo6AneF4pmClbEMIiTwD78LPS6M4S\n",
       "gl4Nm7118JlV4QE2E+Vl6k6W7ekzhTg7JUobe+GhtbCRj2Mv1BF/r/HxItqwHFpNjpfuyC8VT9mR\n",
       "siTicUr+u/ushSTUo1tSkLsDlzz5VT15BZFyEptcK1CcHZObUjyvvtGDSfz7K/+OImHqG9xg8fsx\n",
       "ebvtEwY5TUF9aOlLSWpoefdm9AoewmG3AM0z4Y6HVydYNI5oGmWugzcMQfU+XPBvFap9U1jv9zPQ\n",
       "vWAdabH7YV8ko0A/2qnjWD+IxxVQC5O8wvmbUDqDY9lW30kbeG4rpp8Xakcyxj3huc3dAtSmBdeh\n",
       "M6V8HPyCDcxZkoHwCRxfNGO0O1H21/rNY6U7i9zUPZnGFkWQ7JkygtoxRxJewsjdxn+/YdmRMiwd\n",
       "l9jf01MuuFPq13k4Vno1uiiC5PiUEdSWG5qFyoJFqjZrJGfTFHX/QFItXwraGQJuoAJXBmuPMHjv\n",
       "b6VGbcj9kVfLKPwPEv7H8/0CFxcBl1MfZbEAAAAASUVORK5CYII=\n",
       "\" style=\"display:inline;vertical-align:middle;\" /></a><br>"
      ],
      "text/plain": [
       "<IPython.core.display.HTML object>"
      ]
     },
     "metadata": {},
     "output_type": "display_data"
    }
   ],
   "source": [
    "right_add_eq_int = Forall((a, x, y), Equals(Add(x, a), Add(y, a)), condition=Equals(x, y), domain=Integer)"
   ]
  },
  {
   "cell_type": "code",
   "execution_count": 52,
   "metadata": {},
   "outputs": [
    {
     "data": {
      "text/html": [
       "<strong id=\"right_add_eq_rational\"><a class=\"ProveItLink\" href=\"proofs/right_add_eq_rational/thm_proof.ipynb\">right_add_eq_rational</a> (conjecture without proof):<br></strong> <a class=\"ProveItLink\" href=\"../__pv_it/theorems/cca2b7430e2b88c52539e96a5d7d652334d520b40/theorem_expr.ipynb\"><img src=\"data:image/png;base64,iVBORw0KGgoAAAANSUhEUgAAAS4AAAAXBAMAAABHbL+hAAAAMFBMVEX///8AAAAAAAAAAAAAAAAA\n",
       "AAAAAAAAAAAAAAAAAAAAAAAAAAAAAAAAAAAAAAAAAAAv3aB7AAAAD3RSTlMAq1RmmUTNIjK7EInv\n",
       "3XZ/CtNrAAAACXBIWXMAAA7EAAAOxAGVKw4bAAADk0lEQVRIx8VWXUgUURQ+uzOzOzvjbvtUiSED\n",
       "RT2UNg9S2IOtiVaUKAk9RS70EPU0vmVZmC9BmFogYg82Yg+JoaaQRSRLEf0aFklBLYyo2A+IBGH4\n",
       "EN2/2rmzd0pYqQ++uTN7ztn7zT3nnjsAqwGL0d+6kt8IwoyrgZhB6YOj4ggxFIcyjh825qZrK6Of\n",
       "bFMY4YMZykp8fzwnWVqS0hcnRRF+CNmE53E+O3LSJZuULtRxTyWiCFfquCcpQYjl6UZOuvIYXSjm\n",
       "HWxBRAZBh3t8RighsaHcymszo6+ukCmI8NV1jHIinX6em64DjIPTN+4ZvK5wwTyaVI9nR2izJvR6\n",
       "dDWMn0PXW5T7AK6uYPKEv4m9ICRihfIkr+uIFVlG5YLLXE4TxFmEHkzBbl6X8hiuoYzvAMIGCMf9\n",
       "t9rd8nX07g9b4zWlZEnLAZPTpT0ErBRJyIpoQYZ8XtdNE6rRsI0yYuu1wuna8jvhzDCMGn/T9YhS\n",
       "BZlu/+p0+kU6/Qqv0SJEh5FlMTvCznPgJV3GDxN0GWsA3qOhnTLoiMteRgmGMQP6dq5QF9pmjqfu\n",
       "8zpgCL20khJE1Nvqd369noL2DeeeMVmGLgNlY9i0sHcWnVzKNARI31VbLIjFXLqonRQD9uHyiKay\n",
       "NJvTNeSQGgpOeuoLe1dBLMXp0n6AhBe2iHEEtWPtrbqETwwrP4TSNrjGbtWwEKkPOF3Evr8bwcQ+\n",
       "TFcPZX/tBtD59RoyYG3QAsm72DjiMkTivK6vEEhuASgFyiZklhMqFi9Bj4qG00XwiTRhrCmmZ3Qx\n",
       "OzAfdss29vaLB+EQryviBN/I6N+HPbpwRDnUm3wee6Aokci0nUAzKoTaGBW/RK4FUCid6O6+onjz\n",
       "yOzMh91dory+EKwweF1a4Z2GjwBR78bCEb3jNRavq/fLhUKkZQooyYJbkV24NNQU+faZgicqeUdv\n",
       "3WM7zSP2YcHRZkrffn/Wu1Oo921hvw9PUtKNY7XX2QPQpCdlGAB4pyzSZtsWhxEzo4vYGbAPd9L6\n",
       "n9sVXl3IW09qD4TnNvcVoFQUj0KrIc+Nf0YDbCpNQiN+J+1+1XpXXyV2BuzD0MXo9wma3WO6IOoE\n",
       "hoXejYwusOowNCtiolbf3YmOi1OmuN8TH4Z+Rh9Esj+a+yFYVin2zn5JxWZDwDn8+8c9JXNCXW6f\n",
       "sEPpg3nBEvp6xyxKd9Z/DUpZZonVmWahLrfP/4T1b6f7CdSiCJw2nV8AAAAAAElFTkSuQmCC\n",
       "\" style=\"display:inline;vertical-align:middle;\" /></a><br>"
      ],
      "text/plain": [
       "<IPython.core.display.HTML object>"
      ]
     },
     "metadata": {},
     "output_type": "display_data"
    }
   ],
   "source": [
    "right_add_eq_rational = Forall((a, x, y), Equals(Add(x, a), Add(y, a)), condition=Equals(x, y), domain=Rational)"
   ]
  },
  {
   "cell_type": "code",
   "execution_count": 53,
   "metadata": {},
   "outputs": [
    {
     "data": {
      "text/html": [
       "<strong id=\"right_add_eq_real\"><a class=\"ProveItLink\" href=\"proofs/right_add_eq_real/thm_proof.ipynb\">right_add_eq_real</a> (conjecture without proof):<br></strong> <a class=\"ProveItLink\" href=\"../__pv_it/theorems/861d9150dfefddc6481cfaaa50a8ed8e69d3ea940/theorem_expr.ipynb\"><img src=\"data:image/png;base64,iVBORw0KGgoAAAANSUhEUgAAAS0AAAAXBAMAAACsWwSiAAAAMFBMVEX///8AAAAAAAAAAAAAAAAA\n",
       "AAAAAAAAAAAAAAAAAAAAAAAAAAAAAAAAAAAAAAAAAAAv3aB7AAAAD3RSTlMAq1RmmUTNIjK7EInv\n",
       "3XZ/CtNrAAAACXBIWXMAAA7EAAAOxAGVKw4bAAADvUlEQVRIx81WTWgTQRR+u9lks7vpmpNQKiGg\n",
       "6EFb9yCCPcSU2lbQ2mDBi2KDPQgeZHtUVKoXQSuNFKxVqFspaKloqlBFoQRF/K1EURQ0sMVq/YFS\n",
       "BKn0IM7sTLKZdFZbIuKDb2d3Z76Zb968eTMAf8NMCq7JXozFd7VI06MEfPPbfAbfdlOE8cfy8nSt\n",
       "pvCw93yGxxwNggb8sbcsWWqSwMsCFo/hZfsIjuIISJWlSzIIipaO+fLFeQzXWpm6dQR4Mlq0LF0h\n",
       "CtdENqQe8xiu1bB1lgMfkh4oL7xWUnjqaucxvHQFDILxXO5Jebq2UFyduHwnyurqGDuCniMchjpp\n",
       "wACrS66aQjwtTLAZ4NwCYug3de0UcT0iZRld/gdwAS3LeqeHnGNhytDEDGxkde0ylTkUjUmCDpDD\n",
       "nkNWj9btd16U3+h6QeAzfXOCwei6YkAzKtZwGMfQFCoZXeo9wNNCeh0olpbgDhec6EvoGtxM/0nX\n",
       "fYIgSEnqmHfjxDEtAG9R0c1hWCEbnqHX5lzuaS73HPNmoAKNFZwhEG2PsN/UiTKcDrX2AnWhbWSX\n",
       "xP0jUL/jBeIx2qzgD8ZfoRRcQx7yZwggGUOP4dhNXDfdNIkOJ/8ECE7Sxbq+xF1d+uSRpvx5EYYw\n",
       "u45oKFO1inWpP8E3g6OhNL5w60bQM4yua7YTcGKWAK6j7Kq+Ds7icc3KANpRV5dYXTDkCNHkfsPV\n",
       "NSWk9kh9yHpUey5Iu4V+gqHEMtAYf6nfQEiuAthQ6i/MOA1KmNUVhaWiCT6U5DHgEKqW4s4oPugP\n",
       "ouJgNXwmWViXzqeK4t5Q7E66py9m9fwpMUKw9sRW2M6uYz9Ux+MkiTCGGXXQZjC6FFt8iba9lCYA\n",
       "AQ0VSuhE/KzzrIIIrEduieq6tr14Py4pXEGEtJCPplMEg9NifZTVNfD1eAT1/qpUF2YMjLWY7H6M\n",
       "3Or4BFCRICA+NJVaHBrBjHNbegUP4aTjL92/0yrS1QUmWUdEDVHXQUUngVe+l7OlukjrUW6+P0xB\n",
       "9oLZ3WoNwyEtKcEwwBv/DMofTnzBbTfu5cwoxAtdtxWfy+zZzJ7b7ClNGVpSvcs9t+spSEf1NTeg\n",
       "Kyp9GPuCClixIQnyWfR/x8f0YKPrr207p/N3FrH+TKGrXgoPOzD/Vy9U2EKae7tNzb/f0OiIqqaC\n",
       "pjjc1+cm3Hn56xL0FN6HKDyMI3kIxFgDt7FiEhR736KFYO+Y17z0R8Tv3u1km8DjBsq5rnu3nqIo\n",
       "XvV84Y+l/6ir9Sv8Dyb/4/F+AXDrAh6K2az1AAAAAElFTkSuQmCC\n",
       "\" style=\"display:inline;vertical-align:middle;\" /></a><br>"
      ],
      "text/plain": [
       "<IPython.core.display.HTML object>"
      ]
     },
     "metadata": {},
     "output_type": "display_data"
    }
   ],
   "source": [
    "right_add_eq_real = Forall((a, x, y), Equals(Add(x, a), Add(y, a)), condition=Equals(x, y), domain=Real)"
   ]
  },
  {
   "cell_type": "code",
   "execution_count": 54,
   "metadata": {},
   "outputs": [
    {
     "data": {
      "text/html": [
       "<strong id=\"right_add_eq\"><a class=\"ProveItLink\" href=\"proofs/right_add_eq/thm_proof.ipynb\">right_add_eq</a> (conjecture without proof):<br></strong> <a class=\"ProveItLink\" href=\"../__pv_it/theorems/eefe4c4fbad6724fe3ef0873dc6c8112d02861810/theorem_expr.ipynb\"><img src=\"data:image/png;base64,iVBORw0KGgoAAAANSUhEUgAAAS0AAAAXBAMAAACsWwSiAAAAMFBMVEX///8AAAAAAAAAAAAAAAAA\n",
       "AAAAAAAAAAAAAAAAAAAAAAAAAAAAAAAAAAAAAAAAAAAv3aB7AAAAD3RSTlMAq1RmmUTNIjK7EInv\n",
       "3XZ/CtNrAAAACXBIWXMAAA7EAAAOxAGVKw4bAAADt0lEQVRIx81WXWgTQRCeuyRN7pLGPAmihICi\n",
       "D9qaBym0Qo1UreBfsCCCYoN9EH26Piq1VEEUrVixWKtQrypoidT4gwpCCYr4L1UsChq4YqVqoRRB\n",
       "lD6Iszebn033qhIRB77bu9ud2W9nZ2cW4G+IwSEVr5PGn5v6QwlGCHLxWHINuWzjCLGPuaXxWsjh\n",
       "IO/lGg5rjBJWso8dJdHSEwQnKTNlGk6yi7CPRUBHSbzcUULB1glfrphMIy8NQt8SAluMP1ISrwBH\n",
       "XlQxpB7LNPJSKfaZNlxIvay08JrP4cirSabhxKssSniWyTwpjdcajv7hS3ciIq/mgVZ8XpVo6CNR\n",
       "6BV5eWePop4/RFgNcPo3YmiaviaOWDDsHhR4eR7AWdyWKttCxpYQ1/CraVgm8tpqaJMYjQlCM3hD\n",
       "06SmzjBbMWjT8HpJcBmuSSUq8LochXXYLJJo7MclzBJ46feALQv52tBMf1w6nW+4O64fN9Qzv+J1\n",
       "n+ADd4I75t0zcswGgLfYHJNomAELnuPrukzmaSbzgulNQHkKzUwQVMsh7Fe0obf7AZb+Ji88RlZR\n",
       "3D8C/SvbIJlGo+n7Lvgr0AFX0EOeNAEStfhI1t5ifeP1I1icPMOg2EkXzh/g9Y14BUda67P1IgQh\n",
       "cR9xKkM3C3npP8CFK4eK4vhio1dBMC3wumLZAacOEuAaZlf9te8bm9eYVYYnqn+G2Q59bOyCBXxu\n",
       "4jWqdGx3d6Oc0K1JHzcLPYS++BzwC/7Sv4CSQAvVxf5iGsdBC4m8IjBTNcCFSZ4BWrDbHbNncUGP\n",
       "D5s9FfCJsnBNjcArqllt/EyfGwxmq8RVwuLDa2GjuI89UBGLURIRhGksh8aowEuz1Fd47N0pAig4\n",
       "VSAeJPLf7OdsCEMVuiVyaLPAC2bkriBKSslG01HChXG1LiLy6h07GEbrQ8W8mEbvwAZDPI/h280f\n",
       "AcrjBPKhodWw0PCl7WgagodwhL2wuNcLeLWDQfuIqgHuOihvIzjle+9gMS8afVOa7/dy0FkwjjWY\n",
       "SWjxJ9yQBHjjmcD8wUzeMGAgx8ubvgmxnOnGwros1maxbotVmmv4E/pdad2u4yBDdZXXoT3i/jDw\n",
       "GRuYV50A7ynWkdzZ2Zb31/ot49k7i1p3Mmeqi8NBdk/91QXllpKS3m47pt5veHREdEPDJSa7u/MJ\n",
       "d0r+uggncu99HA4iodwHau1K6WDNIBR63+SNYm2aMrz4R9iTv9t5LYJDKZNc151Hj3IU7nq28dSm\n",
       "fsmrYQz+B/H+4/l+AkYYAGYgjWSsAAAAAElFTkSuQmCC\n",
       "\" style=\"display:inline;vertical-align:middle;\" /></a><br>"
      ],
      "text/plain": [
       "<IPython.core.display.HTML object>"
      ]
     },
     "metadata": {},
     "output_type": "display_data"
    }
   ],
   "source": [
    "right_add_eq = Forall((a, x, y), Equals(Add(x, a), Add(y, a)), condition=Equals(x, y), domain=Complex)"
   ]
  },
  {
   "cell_type": "code",
   "execution_count": 55,
   "metadata": {},
   "outputs": [
    {
     "data": {
      "text/html": [
       "<strong id=\"left_add_neq_nat\"><a class=\"ProveItLink\" href=\"proofs/left_add_neq_nat/thm_proof.ipynb\">left_add_neq_nat</a> (conjecture without proof):<br></strong> <a class=\"ProveItLink\" href=\"../__pv_it/theorems/6e683499f8482f7558ffa089bce029fc81eefe950/theorem_expr.ipynb\"><img src=\"data:image/png;base64,iVBORw0KGgoAAAANSUhEUgAAAS0AAAAXCAMAAABpq+mjAAAARVBMVEX///8AAAAAAAAAAAAAAAAA\n",
       "AAAAAAAAAAAAAAAAAAAAAAAAAAAAAAAAAAAAAAAAAAAAAAAAAAAAAAAAAAAAAAAAAAAAAAAeYafp\n",
       "AAAAFnRSTlMAq1RmmUTNIjK7EInv3Xbt5cnn9enzas/lfgAAAAlwSFlzAAAOxAAADsQBlSsOGwAA\n",
       "A8JJREFUWMPdWAmTpCwMlUvu7H7H+v9/6gYUMTRia81WTy010ykPXuTxEgLT9G2abuyDrl/34ld8\n",
       "1Z9swKm90xScPJCu6+MB9GrZfp+LT5LFPbU3qe5/u7FdH4+gs5Wq3J4/KTY3U3u3za5315qej4fQ\n",
       "yZoiLm0/KS0pqO3FxEj7Qvakxbo+boIX6GwLdZ5/kq3Q2F6swhCgIy6ruz7ughfoZMXG6vxJsvhM\n",
       "7X225ldxKNb1cRu8QGcbYmrBfzQQPbWTZh40DAfkAJgzfosJz15Hqbs+etgNuIMctY4R6GxlToXW\n",
       "fc2wh6n8velLsgg4Uru4EVvoChhMMq5ZpSpH5umP//6XftmLjx52A+4nnsJWLAQ6W83Kz+3KLUqP\n",
       "S6oItfNoqfDq9FHkxLqQl+s40pbQaThuYisJPFxIa4hNwQ1fnzNLoFebZDUYSW+xAWYt9uBs8o7U\n",
       "gAO2RhMSFLEyT2r0RCxhTRkFJUWErIIyS5u1ZN9Hg90Dx+GExF4AAr3axOutHC+lKQUtpIA4pLwB\n",
       "W0y/zVZIMG5RV4k41FsqXEhriN2CqxSoZjEEerPzJLaXnRfgdzcAUuNfKf3ZVvrXwpkbrjBfnrBF\n",
       "uk/KNzDnkegWqFljwJZaENytwuaR5q3/f8VI89YIuwXPooUSgZFYz7eiy0WNjJbxgU6RO2/hDhPy\n",
       "bRDAVUa4wUjkqs/W3l3a1H7gvzjA0MoIjtYtySebJ67Ply3MBCxMu7CFvSruR9gtW5aVnwP0ZnVJ\n",
       "0xLDqo5EZA9b0GmXqAVLyl5kCyMRbJct0r0IssLQBYARmwbGo6QrLB0QX4yT+KmKN/XB9vh1cR5h\n",
       "v2iLJeWKfnnDTA1tOEbJcpgAhi/jio0LadaK5Stbzh+THqWhdq+CLDB02YjEOgbeaAZmUBJJAORE\n",
       "lB1IVFf7xhF2y5bDkkyWry/QjQuXnlvhdk9JZ/uA08sBfRhPtIWzCydsbd1TJP78x+ZIrDBN4jLU\n",
       "3q3ldbw+bRhg98D9TKEbFziKlLaUcEkwGJ+5g8zyWZ2phRayIrN9VGNlq3an+9sd5nzr+mBX3eyY\n",
       "u0cSA+wGPH24C/xiw69Q2eBFUgW+KkF5ALddJdnbeT2tMEXb6zLdZat2pzuFHaa/A7aPzo2aAxTR\n",
       "38a9jR1hzRhH6OEZDW+vXI7Src5IYdWtZ+2Vzg8wNAvYNsHdaQ0Psb/Hehsb68j93O+daVSuvcLM\n",
       "rK5r2P73HPqdwpR9roYH55vNSM4S1APsAg0jXYqXK4V16/SMLa6OCQI+etrxrZr+q0f3GzLDIX8h\n",
       "DBscAAAAAElFTkSuQmCC\n",
       "\" style=\"display:inline;vertical-align:middle;\" /></a><br>"
      ],
      "text/plain": [
       "<IPython.core.display.HTML object>"
      ]
     },
     "metadata": {},
     "output_type": "display_data"
    }
   ],
   "source": [
    "left_add_neq_nat = Forall((a, x, y), NotEquals(Add(a, x), Add(a, y)), condition=NotEquals(x, y), domain=Natural)"
   ]
  },
  {
   "cell_type": "code",
   "execution_count": 56,
   "metadata": {},
   "outputs": [
    {
     "data": {
      "text/html": [
       "<strong id=\"left_add_neq_int\"><a class=\"ProveItLink\" href=\"proofs/left_add_neq_int/thm_proof.ipynb\">left_add_neq_int</a> (conjecture without proof):<br></strong> <a class=\"ProveItLink\" href=\"../__pv_it/theorems/e0a2601cfbd8951e8c4788c89ca8f01e6dd109d90/theorem_expr.ipynb\"><img src=\"data:image/png;base64,iVBORw0KGgoAAAANSUhEUgAAAS0AAAAXCAMAAABpq+mjAAAARVBMVEX///8AAAAAAAAAAAAAAAAA\n",
       "AAAAAAAAAAAAAAAAAAAAAAAAAAAAAAAAAAAAAAAAAAAAAAAAAAAAAAAAAAAAAAAAAAAAAAAeYafp\n",
       "AAAAFnRSTlMAq1RmmUTNIjK7EInv3Xbt5cnn9enzas/lfgAAAAlwSFlzAAAOxAAADsQBlSsOGwAA\n",
       "A69JREFUWMPdWIvSnCwMlZtAgLT/pb7/o5agqHHRFefr7Ddlds2ocELCSQwMw3dp9iCfjP2qfl80\n",
       "rT/XUHLZ1QyevNDQ0vEEepZifS7VB50lA5e9vm7P3fmWjmfQRWpTH48fJBuMXHa3EVpPvWvoeApN\n",
       "0lVyWf9BamnFZTMmrrivdItaoqWjF7tCF1ldF+QHvRUPshmseInQIJe3LR3d2BWapFrcOn7QWXLk\n",
       "8oG3xld2GNHS0Y9doYuMiVoMnwzEwGXOCyKgxUuLAFGAC0tMBPFqpW3puIMNWMIWBIMuUpdU6OFr\n",
       "7L7M5bdWr9AiZkv9BFfeyqpQ4KDTnFU26uiy/Onf/+gqXsh3AzsMkuJWTQy6SCvqpbuJ6IPOv12q\n",
       "uOgdzNmbJLmEWD7X6Wr9lSVzYBCzF2S8plYPtpPze+EZ9CyJVueWNOsYFN7nESlPKADCLW9dLEg0\n",
       "XOqyqCkwssQ5ZVQUigi9EcpNx6yl2zpuYGd7IrkvIoOeJTm2K8drvdQxitbB7vPrhbeEve2tSDAw\n",
       "mXeZOG6PTLymVh+2oUB1k2PQixwHtfSGoDCsahC1zb9a+oul9GeFs+apau8tNnww4QBzHokw4ZY1\n",
       "LrxlpgwOM7Nl4nnr/1+JUbEPu5AWawQmJoNcii7IoeWmah9aitxx0YJD9rfLAOBZ9pDuxFvrcO2p\n",
       "/ch/tYNho5BJmEinGAdpTy2CnAlELBl5noh/U9x3YOfOol520Iu0UdQQG3aWqKJicYYFci16Xvdm\n",
       "43nlsZszG14JucGw/C+4JMtkOtCWWyQnBzpP1chjgTC/fvk4d2BnNEHMVe36RrgttnEfJdNuAUTu\n",
       "nL/Y+UNauOJlWdgAazC85q1t+EbICsO+GolLEBicFejOLQKNmH2i6g4kmTf7xg5s6hRQ19lX6IMK\n",
       "oPdebcYTz1aDqXPMOty2ikY68n848dYynCLx5z++ROIGwxOX47K73rZpeHfc0IsdRg59UJGtoLRl\n",
       "FORsT/FZBuih3BVtZuKFbCh8NqkVidtwvr9dYU53rk921Yctc+tIogObJg5Rvtnxm8xsDFQXUFeN\n",
       "JiAVU+WOaO/H+bSiFhBCZFr7UTTz1jqc7xRWmOYG2D87NjocoKjmNu4+dsI5Y+yhL89o5PEOSpQu\n",
       "dQaFVbOe9e+IvoPhn7hjfutqB0ek5h7rPrZUuJ773VlHA8e7nJnN+xq2PaHduDOYus21+OR882DJ\n",
       "SYZ6gl2h8YqY6uXO5Lp1eOYtafYZAj952vG9mv2rrfsNa7AheYoD8kgAAAAASUVORK5CYII=\n",
       "\" style=\"display:inline;vertical-align:middle;\" /></a><br>"
      ],
      "text/plain": [
       "<IPython.core.display.HTML object>"
      ]
     },
     "metadata": {},
     "output_type": "display_data"
    }
   ],
   "source": [
    "left_add_neq_int = Forall((a, x, y), NotEquals(Add(a, x), Add(a, y)), condition=NotEquals(x, y), domain=Integer)"
   ]
  },
  {
   "cell_type": "code",
   "execution_count": 57,
   "metadata": {},
   "outputs": [
    {
     "data": {
      "text/html": [
       "<strong id=\"left_add_neq_rational\"><a class=\"ProveItLink\" href=\"proofs/left_add_neq_rational/thm_proof.ipynb\">left_add_neq_rational</a> (conjecture without proof):<br></strong> <a class=\"ProveItLink\" href=\"../__pv_it/theorems/4c9d476e8ffcaf64cea0536d55ab6716be9786520/theorem_expr.ipynb\"><img src=\"data:image/png;base64,iVBORw0KGgoAAAANSUhEUgAAAS4AAAAXCAMAAACCnFKgAAAARVBMVEX///8AAAAAAAAAAAAAAAAA\n",
       "AAAAAAAAAAAAAAAAAAAAAAAAAAAAAAAAAAAAAAAAAAAAAAAAAAAAAAAAAAAAAAAAAAAAAAAeYafp\n",
       "AAAAFnRSTlMAq1RmmUTNIjK7EInv3Xbt5cnn9enzas/lfgAAAAlwSFlzAAAOxAAADsQBlSsOGwAA\n",
       "A7FJREFUWMPdWImypCAM5JQ7e/v/n7oERY2DB9Zszaul3puUBx1pOiHA2JdpZmef9H3Xe2/6rH/Y\n",
       "QFDb1TS07yvf9PEEerJ8uS/kJ9kSgdpespsfb13TxzPoYpWut4dPys0P1Ha3wTduOtvy8RQara3y\n",
       "Mu6T4lKS2mZYnMlfqoa4eNNHL3aFLrZyF8Qn6Yo724xXOEV4lZczTR/d2BUarZx5HT7JlhiofUDX\n",
       "8KIPzZs++rErdLExYYvho7EYqGWGBzBwPiQPwL0Nc1gE/jJK0/RxB9tDiVzPCXSxquRD59808NOE\n",
       "fmv+UBgxD9WN/pSu7Ao4MJWmzLKIR5X5Tz9/4S9/8XEHOzCBoStHAl2s4fWnfz0LTnFOJvFswQj6\n",
       "6EkSxPpYFu10qgBpcDye8YkGEc/F1YNtxfQCdwR6siis45G0yhngzuUOJqC+gxT36DqZkqiJVWVW\n",
       "U6B6iVPaqCgYFGrNR3bcZS7V9nEHOxMSkb8IBHqyyGxPoldqLmeCQaK8lOYWXdzcpSsiih/1ZTqO\n",
       "6y0dz8XVh60xWO1oCfRsByahRpeEsPgBUCb/1U0AnzYBSwFtrSjPgEGbLtKf6UBxjoPRj7AmjjO6\n",
       "9JjB/ZSFRCJ6+f0nJZq7urCLbKEGYSI2iLn48slkSuv4wGDwDnPIA8uE28j8Qoj0E3FHdC39lcP2\n",
       "Lf/LFYdWSLC1fkSffGDCHA/J53TAY0nL09e4iyq/Azu/zOvPBnq2JvIaZmwzEllczIFnPHILblP/\n",
       "VpqAhSZdpH8V5YJDFwFOLI5MJLVbZumQxGi9yt+qxa5OmJ6+rtAd2BmNo3Zlu8zhdg1v2MbJuJkC\n",
       "nl/O67YcilacYPoqGLf9V1HOOHTxSMR6DsEaDvZkSF4BZFaWdSbpiy1kBza+FUDVr6/Q1EUWKlYk\n",
       "0i+uUGnLgPHlaJldZ/Ey1c/9MRi//3AlGBecXfKy1HZX3iZdnj30YoeBQpu0XzwwdWnpc8rHEC0d\n",
       "FCtXxZseSUFrixIDOflZ6Vr7091uxTnexj7ZYtP9c/N8ogMbP9xHcbH911nbECTKIr+qQAcAP1+h\n",
       "8F0pa9djER+SGrg9KFOX/nTTUHHa22H37BiJnqfI9o7uPnaCKWlsoU+PbMT+ypdAnWt5V8rUEo+W\n",
       "cu6utL7i0ETg9jmuq1EmUnu3dR9bSFgOAu9MpPb7q5yddaOYVUJmFV3Rtel4gMPqptfAkxNPOpSj\n",
       "JPUEu0LDmTTly5XOBWx7RyTtlbqE3mYJ+Ojhx9dq5r8e3V8eviIq+JI+9gAAAABJRU5ErkJggg==\n",
       "\" style=\"display:inline;vertical-align:middle;\" /></a><br>"
      ],
      "text/plain": [
       "<IPython.core.display.HTML object>"
      ]
     },
     "metadata": {},
     "output_type": "display_data"
    }
   ],
   "source": [
    "left_add_neq_rational = Forall((a, x, y), NotEquals(Add(a, x), Add(a, y)), condition=NotEquals(x, y), domain=Rational)"
   ]
  },
  {
   "cell_type": "code",
   "execution_count": 58,
   "metadata": {},
   "outputs": [
    {
     "data": {
      "text/html": [
       "<strong id=\"left_add_neq_real\"><a class=\"ProveItLink\" href=\"proofs/left_add_neq_real/thm_proof.ipynb\">left_add_neq_real</a> (conjecture without proof):<br></strong> <a class=\"ProveItLink\" href=\"../__pv_it/theorems/dfe335c50e4dbbb2908014ef0c9eda0e793de5640/theorem_expr.ipynb\"><img src=\"data:image/png;base64,iVBORw0KGgoAAAANSUhEUgAAAS0AAAAXCAMAAABpq+mjAAAARVBMVEX///8AAAAAAAAAAAAAAAAA\n",
       "AAAAAAAAAAAAAAAAAAAAAAAAAAAAAAAAAAAAAAAAAAAAAAAAAAAAAAAAAAAAAAAAAAAAAAAeYafp\n",
       "AAAAFnRSTlMAq1RmmUTNIjK7EInv3Xbt5cnn9enzas/lfgAAAAlwSFlzAAAOxAAADsQBlSsOGwAA\n",
       "A8JJREFUWMPdWAuznCwM5SkSIO33qP//pxZQlLCIq3M7e6e0dzM+OJHDSQgw9m2aaeyDrl/34ld8\n",
       "1Z9sKKi90zSePFDQ9fEAerV8vy/kJ8kSjtqbVPe/fbZdH4+gs1W63J4+KTaYqL3bJujdtXPPx0Po\n",
       "ZOciLmM/KS0lqe3FxEj7UvWkxbs+boIX6GwLdU58ki3f2F6s4hCgIy5ruj7ughfoZOXG6vRJssRE\n",
       "7X22pldxaN71cRu8QGfrQ2refTQQHbXMcIcGhwMCRA6z22LC8ddRmq6PHnYDDpijFjiBzlblVGjh\n",
       "a4Y9TOXvTV+ShY8jtQuM2IqukCNTYc0qh3JUnv7w73/pl7/46GE34I6JFLZyIdDZGl5+bsdPcJPi\n",
       "U+1otFQ4ffooCGLB5+U6jLQlTRoOML6SIPyFtIbYFHwW63NuCfRqk6wGI+ktNsitjT0wzgJzxr3F\n",
       "1mhCvCZW5UkNjojFrymjoKSIUIeg5qXNWqrvo8HugUc+fGLPI4FebeL1Vo5XaqtjMP5jEvAttrh5\n",
       "my2fYGDRV4nYH7e0v5DWELsF1ylQ52Um0JudmNxeBifR7W4QlYn/S+nPt9L/KJwzWwiqzxbpzrRr\n",
       "YM4jERY8ssaALb1EcIAtK9C89f+vEGjeGmG34Fm0WCIwEOvEVnRBMJHRMj40KXKnLdyRRb7nCAAH\n",
       "IykSja23HRVbe3dlU/sR/2QFQysjrC0sySefmDDny1bMBNznjLymMXtV3I+wW7YsLz8V9GaN5yXE\n",
       "WDUSmT1sQWcgUYuWlL1xRbKOfGZ1QboXQR4wdAHgxKaBiaDoCksHJJYZVPxULZr6YHv8ujiPsF+0\n",
       "xZNyZb+84fMR2lhHyVJNAI8v85SnpqwVK9ZIdFqcrolH90OQBYYuG4FY4Ohmw3EelEQKMXIii/Og\n",
       "r/aNI+yWLYglmSpfX6AbF5CeWwm7p6SzfcDpZR99zI7VeUtrBydsbd1TJP78x+ZIPGCaxDVTe7eW\n",
       "N+H6tGGA3QN3E4VuXMRRpLSlJcRsn+Izd1AsX2VneqGF7FpB9LP80Z3ub3eY863rg111s2PuHkkM\n",
       "sBvw9OHgxcWGX0dlo5NJFfFVhdohwnaVZG+n9bRimyQ94eRiTFRlT6WtvTvdKeww/R2wfXRu1Byg\n",
       "yP427m3sgGvGqKGHZzSivYIcpVudkcKqW8/aK51XMDQL2DbB3WkND6G/x3obW0jcz/3emUYN7VXM\n",
       "zPq6hu1/T9XvFKbscw0+ON9sRnKWoB5gF2gc6VK+XOlYt7JnbAldJwj86GnHt2rmrx7dbxvSIh6l\n",
       "zUi+AAAAAElFTkSuQmCC\n",
       "\" style=\"display:inline;vertical-align:middle;\" /></a><br>"
      ],
      "text/plain": [
       "<IPython.core.display.HTML object>"
      ]
     },
     "metadata": {},
     "output_type": "display_data"
    }
   ],
   "source": [
    "left_add_neq_real = Forall((a, x, y), NotEquals(Add(a, x), Add(a, y)), condition=NotEquals(x, y), domain=Real)"
   ]
  },
  {
   "cell_type": "code",
   "execution_count": 59,
   "metadata": {},
   "outputs": [
    {
     "data": {
      "text/html": [
       "<strong id=\"left_add_neq\"><a class=\"ProveItLink\" href=\"proofs/left_add_neq/thm_proof.ipynb\">left_add_neq</a> (conjecture without proof):<br></strong> <a class=\"ProveItLink\" href=\"../__pv_it/theorems/b90b140e676fe465c4489a8275cf759d50a726e70/theorem_expr.ipynb\"><img src=\"data:image/png;base64,iVBORw0KGgoAAAANSUhEUgAAAS0AAAAXCAMAAABpq+mjAAAARVBMVEX///8AAAAAAAAAAAAAAAAA\n",
       "AAAAAAAAAAAAAAAAAAAAAAAAAAAAAAAAAAAAAAAAAAAAAAAAAAAAAAAAAAAAAAAAAAAAAAAeYafp\n",
       "AAAAFnRSTlMAq1RmmUTNIjK7EInv3Xbt5cnn9enzas/lfgAAAAlwSFlzAAAOxAAADsQBlSsOGwAA\n",
       "A7xJREFUWMPdWIuSpCoMlZdAgOzex/r/n7qAooRGbK3Z6qmlZjrlgxNzSELCNH2boRv5YOrXvfgV\n",
       "X/UnB3Iq7wyFJw8kdHU8gF4l2+9z8UmyuKPyJtX9bze2q+MRdJZSldvzJ50NZirvjhl6d63p6XgI\n",
       "naQpzqXtJ11LCip7MTHyfSF7rsW6Om6CF+gsC3WOf5It38herOIQoONcVnd13AUv0EmKjdX5k2Tx\n",
       "mcr7bM2vzqFYV8dt8AKdpQ9pePfRQHRUTpo51Dg0CBAZGLfFhGOvVuqujh52Aw6YoxYYgc5S5lRo\n",
       "4WvMHqby95YvuYWPltoFRmxFVchwkmHNKofnyLz84d//0i970dHDbsDdxFPYioVAZ6lZ+Xmyv1rJ\n",
       "6oUabRVOnT4KnEjwebsOI98SOpkDE1tJ4P7CtYbYFNzw9TmzBHqVya0GlvQ2G2TWxhlgWfwkbt07\n",
       "bI0WxCsiZV7U4Iiz+DVlFJQUEfJwKLO0WUv2dTTYPfDIh0/seSTQq0y83srxUm51jIOMJ95ii+m3\n",
       "2fIJBhZ1lYj9cUv5C9caYrfgKgWqWQyB3uQ8ie1lcALdrgZR6vhXSn+2lf574QzCqKaJqtki0yfl\n",
       "GpjzSIQFj6wxYEstERzWBMQDzVv//wqB5q0RdguenRZLBAYiHd+KLgg6MlrsQ50id97CHafIt/Ep\n",
       "/HYVmrcLWLG1T5c2jR/xX1QwdBrWEpakk80TgW+2rZgJmM8ZeU1j9qq4H2G3bFlWfiroTWrPSohN\n",
       "lSUia9iCTkOiFm1d9goQcM4WmV4c8oChGwAjMhnGg6Q7LDWILwZk/FTFm/pge/y6OY+wX3yLJc8V\n",
       "/fKGmSO0sY6SpVoAFl+OO3bcSLOvWD4Zo8w5W2T64ZAFhm4bgUhg6IxmaAYlkUSMnIjSgQR11TeO\n",
       "sFu2IJZksnx9gW5UQHpuBeyakp/tBqeXfdRhjlXcsnxVSBG2tukpEn/+Y3MkHjBN4jJU3q3ldbg+\n",
       "bRhg98DdTKEbFdGKlLZUDC9wKT7zBDnlq6xMLbSQ1S4ncdert47ptL/dYc5b1wddddMxd48kBtgN\n",
       "ePpw8Pyi4VfRs9GJ5BXxVYnKIcJ2ldzezutpxb5I4GJYStONxH067RR2mH4HbB+dGzUHKKLfxr2N\n",
       "HXDNGDX08IyGt1eQo3TjKIVVt561V35ewdAsYNsEd2c0PIR+j/U2Nhe4n/u9s4wK2quYmdV1Ddv/\n",
       "nmreKUxpnzQ+6L8aS84S1APsAo0jvxQvVyrWrdMztriqEwR+9LTjWw39V1v3G+63IaEKpGuTAAAA\n",
       "AElFTkSuQmCC\n",
       "\" style=\"display:inline;vertical-align:middle;\" /></a><br>"
      ],
      "text/plain": [
       "<IPython.core.display.HTML object>"
      ]
     },
     "metadata": {},
     "output_type": "display_data"
    }
   ],
   "source": [
    "left_add_neq = Forall((a, x, y), NotEquals(Add(a, x), Add(a, y)), condition=NotEquals(x, y), domain=Complex)"
   ]
  },
  {
   "cell_type": "code",
   "execution_count": 60,
   "metadata": {},
   "outputs": [
    {
     "data": {
      "text/html": [
       "<strong id=\"right_add_neq_nat\"><a class=\"ProveItLink\" href=\"proofs/right_add_neq_nat/thm_proof.ipynb\">right_add_neq_nat</a> (conjecture without proof):<br></strong> <a class=\"ProveItLink\" href=\"../__pv_it/theorems/d2a3274bc87e4b690ff7e12c944fd2df769594930/theorem_expr.ipynb\"><img src=\"data:image/png;base64,iVBORw0KGgoAAAANSUhEUgAAAS0AAAAXCAMAAABpq+mjAAAARVBMVEX///8AAAAAAAAAAAAAAAAA\n",
       "AAAAAAAAAAAAAAAAAAAAAAAAAAAAAAAAAAAAAAAAAAAAAAAAAAAAAAAAAAAAAAAAAAAAAAAeYafp\n",
       "AAAAFnRSTlMAq1RmmUTNIjK7EInv3Xbt5cnn9enzas/lfgAAAAlwSFlzAAAOxAAADsQBlSsOGwAA\n",
       "A6ZJREFUWMPdWIuSpCAMlJdAgNzb///UAwQFBnGx9mq2ztqdlDPSIW0nBJbly1yysQ+Gft6DnzGr\n",
       "f3khre3MJfDiBw5dHw+gd0uO7yl7J1nU1HaS6v7cle76eAQdLRf56/WdYoO1trPXCr1vter5eAgd\n",
       "rMrikvqd0uKstt2kGPzGeE9apOvjIXS0mTpD38mWbWw3WXEE0BGXll0fT6GDZYnW9Z1k0bW28yGt\n",
       "r+oQpOvjMXS01oXLmrcmoqktIBJQptb7S0iSGJTpS0Neo5Q9H4AxI4FMQ0fLYynU8DlhD0v5x17f\n",
       "DoMEF+5GIQnr6dDbjspO5fD4+t3PX+GTtD7MQkNKsm0aOlpJ8sd05+a48Usqs+fg0VJhxOVPjlaW\n",
       "yRAOLIQNQgIb1/REKLU30krYiu5DiJ6G3m2Q1SCS3mKDRGs/gpLFQNUDDtgavRArKhvUzosys6vF\n",
       "7jUjw/CoDpdyV21t1eJdH36qNlBjcRp6t4HYqRrPucoNLYakKUregC0iP8zWUoRzKQAbfMEmcu7c\n",
       "SOvAFiHB1KamoZNdF5aeBsPQHG4QufR/ufUnqfU/G2eqqPC18IKtavgiTAMzyMQYkx8IcB0SbFiW\n",
       "H+pqJf7+41xdtzJ2FC3aZRo6WUNT0wVOetZzfChDdq80LSWLfyfKO4GTEap8JlLRZ+sYznW4vvl/\n",
       "VsDUnRGWFnyWE7tUou2EFCZG1oXG+TJ919wfPkj+mIROVuYyzX1anZGw6CEpVkKgFnXV93q2fCai\n",
       "7rJVDc+CPGHqBaBcpBe6KeB+GoKOMjFETx1PyzBvmH1dnLMPToJy2Tx0tkSdqY0l61uR/MQ/7Fd1\n",
       "v5BGrWi6swWmLHo1DefwU5AZpl42XGmBI/p4GR3WLSBolCS4z92Ju31j9gG+leKbnIduXEDA0Oys\n",
       "FkFnB2x42PrxylTa8grAC7bS8JCJ33/omIknTFO4VG1nG27p7k8bCmyzzkM3LnwUoWwJBkEwPj8j\n",
       "KI/y2Z2JrW5kWWS7VOPJ1jm83t8eMNdb1wdb32bH3D2S2LHDpMDSeeiXTbnw6kfDgio8HEdhECHd\n",
       "hdTQ635aobK292W6y9Y5vN4pHDD9HbB+dG7UHKCw/jYuYjvcq8Es9PCMhrZ3ELM09Rkhrbr9rL7L\n",
       "oQKmrgK6LXAzV8Ox6++xIrbvEbl4AD16jQLaO1+ZxX0P24+1GHcJk/ewEh+cbzaRXBW/B9gZGkea\n",
       "Zy93wvetyzO2qCgrBL71tONLXfK/ju4vLUEhf1AXDB8AAAAASUVORK5CYII=\n",
       "\" style=\"display:inline;vertical-align:middle;\" /></a><br>"
      ],
      "text/plain": [
       "<IPython.core.display.HTML object>"
      ]
     },
     "metadata": {},
     "output_type": "display_data"
    }
   ],
   "source": [
    "right_add_neq_nat = Forall((a, x, y), NotEquals(Add(x, a), Add(y, a)), condition=NotEquals(x, y), domain=Natural)"
   ]
  },
  {
   "cell_type": "code",
   "execution_count": 61,
   "metadata": {},
   "outputs": [
    {
     "data": {
      "text/html": [
       "<strong id=\"right_add_neq_int\"><a class=\"ProveItLink\" href=\"proofs/right_add_neq_int/thm_proof.ipynb\">right_add_neq_int</a> (conjecture without proof):<br></strong> <a class=\"ProveItLink\" href=\"../__pv_it/theorems/69b2e180db610faeea433a1597c2f2eb3a2f82d30/theorem_expr.ipynb\"><img src=\"data:image/png;base64,iVBORw0KGgoAAAANSUhEUgAAAS0AAAAXCAMAAABpq+mjAAAARVBMVEX///8AAAAAAAAAAAAAAAAA\n",
       "AAAAAAAAAAAAAAAAAAAAAAAAAAAAAAAAAAAAAAAAAAAAAAAAAAAAAAAAAAAAAAAAAAAAAAAeYafp\n",
       "AAAAFnRSTlMAq1RmmUTNIjK7EInv3Xbt5cnn9enzas/lfgAAAAlwSFlzAAAOxAAADsQBlSsOGwAA\n",
       "A6BJREFUWMPdWIuyoyAM5SlPs2///1OXIFRikV6cu9M7y7TNaM0JCScxwNhXGeYk7+h+1nOfNK1/\n",
       "N0BQOTU0XPyhfM/GHehd8sd9Id8YLBGonI11f+7W9Wzcg85S6Xp7eSPZ/ELl9Fh8766zHRt3oVHa\n",
       "Si7j3kgtJansJ8XgT6l61OI9G3ehs6yhC+KN0Yon2c9WGCF0yOVMz8ZtaJSyhHV5Y7DEQuUNl5Zn\n",
       "dmjes3EfOsu44ojhnYkYqGQegHsbKN+fXDI8gCk3A3/20vRseMgp6fk0dJYql0LnP8fvYS3/0OoV\n",
       "GODA1DpySccUDrftqPKgjsrLv/78hb/8bCMwgTkpt2noLA2vP9ODRxdU+jSlYvB00Ff/rIJKadAd\n",
       "z7gcuORjfqeXgIo4plbFtmJX4W4aepdIq2tPun0McOeSxpomFDz4D0VrsCBRU4lsV02d2dkS95pR\n",
       "YVRmx1oSzG7nqqW6NtJcI4YmwjT0LjGwUzVeqdLHSFwr0xJgEC1uPhwt1rhzSYCItvyma+6MqXVg\n",
       "a0wwu9lp6CIXJsvTPkgIDzMAyqRPbf15af1J46xoqWqjRdSZDieYQSZmn5Ki99cu+Q3a8iNWysTf\n",
       "f1ZClwM7kxYim4YuMojSdPmUWnar/oHB7F5EeZWwtCY2GfFtRKQR9iJaD3XlcHxLX9nAEC0g0qcs\n",
       "5zFX5JFLODG+MJHnK92L5r7aYI7Xn0noIk3kNcVY44nMJkowjMfQgqN9b3KeetTMmahXQh4wpP5z\n",
       "IsVmvUrT0GKUiei+WCu31SmyTy/nR4uhODJXzkNXye2R29BGfWuSn6eH01s9vUgzV5zIix88SRga\n",
       "hkP9IGSFIW+NlUivAJK/UgzrlucQrOGwz33VL/aN1UbSC6A2Mw99MuERw8nDeeTZAxYfjknfHquo\n",
       "hcU1ChfRKuqYid9/uJyJBwwtXJbK6YbbrOzVcUOLHZZ56JOJ5AWWLS19qvaYnxlUsXyVremNNrIh\n",
       "c1WvvUw81On+9gFzuXO9s/U9bZl7RxIFGyflo5iHftqV68R+CNgXIJwCHQCbqXyFqeGW/bSiNhCc\n",
       "J8q6hXfr1kOd7hQeMN0NsLt3bHQ6QJHdbdyOvcJeDWahh2c04nzlc5aWPgPTqtvPulc51MCQIuDO\n",
       "9W1qnIK8dvdYO7aQoPQN6NE6an++SpVZv+5h+842elcwdQtr4M755smTi+p3B7tCw4j08ulKp76V\n",
       "3YuW0G2FgHeednytYf5r7/4CZM8heeIX8nAAAAAASUVORK5CYII=\n",
       "\" style=\"display:inline;vertical-align:middle;\" /></a><br>"
      ],
      "text/plain": [
       "<IPython.core.display.HTML object>"
      ]
     },
     "metadata": {},
     "output_type": "display_data"
    }
   ],
   "source": [
    "right_add_neq_int = Forall((a, x, y), NotEquals(Add(x, a), Add(y, a)), condition=NotEquals(x, y), domain=Integer)"
   ]
  },
  {
   "cell_type": "code",
   "execution_count": 62,
   "metadata": {},
   "outputs": [
    {
     "data": {
      "text/html": [
       "<strong id=\"right_add_neq_rational\"><a class=\"ProveItLink\" href=\"proofs/right_add_neq_rational/thm_proof.ipynb\">right_add_neq_rational</a> (conjecture without proof):<br></strong> <a class=\"ProveItLink\" href=\"../__pv_it/theorems/6c00137ed8e1e3cf4a9bb37c74cdc51eea701de00/theorem_expr.ipynb\"><img src=\"data:image/png;base64,iVBORw0KGgoAAAANSUhEUgAAAS4AAAAXCAMAAACCnFKgAAAARVBMVEX///8AAAAAAAAAAAAAAAAA\n",
       "AAAAAAAAAAAAAAAAAAAAAAAAAAAAAAAAAAAAAAAAAAAAAAAAAAAAAAAAAAAAAAAAAAAAAAAeYafp\n",
       "AAAAFnRSTlMAq1RmmUTNIjK7EInv3Xbt5cnn9enzas/lfgAAAAlwSFlzAAAOxAAADsQBlSsOGwAA\n",
       "A6ZJREFUWMPdWImSpCAM5ZQ7e/v/n7qAoMRGHKnZ6qmlZjql3byQ8BISCPkyQ53kzNzP+t0nLesf\n",
       "DmBYPhoS+u+F7eqYgd4k3d8z/k5vMYflU2d3F69NV8ccdJZC1tfLO+lmFywfj8V2Xhrd0zELnaSu\n",
       "9FLmneQSHMt+XAy+5KJDLtrVMQudZfWdY+90lz/JfsDCCOGVXkZ1dUxDJ8mLX5d3eostWE7YtLzw\n",
       "Q9KujnnoLH1Iw7u3xqLD0gJQq92J8S82KepAlZeOvlipejos5KC09Dl0liLnQ2M/yfBhQv/Q/m0o\n",
       "QIGIMLRJ+ugQs26ofCePyPsffv5Kn/SswxGWopKvz6GzVLR+PD/PnBGUok0cHRhOXn0TGJJcJXss\n",
       "oXxkk/X5aC8uZX5MroKt2TaDmufQm0zEurakV84ANSZOUC7x23H2MXcNtsRLJBPfRZtqNsL4LW9U\n",
       "GJEJEkr86vXED9HVEW31yTUenkNvMnn2SaIXopQzTiVHWc7Vh9xF1UfdRVp7Lingky67yho+Y3Lt\n",
       "2DKFmF71c+giF8KhRhcHt+sBECr+1SaAbk3AXkBrzfJ3QKDvLjSfSIdxBsGYjYrzrB3YZFdocxAL\n",
       "iIq//4SAc1fFzrQFT55DF+lYKb5sUNHv1T5QKcIXVg4UEndFe2J3h3C7Oe7KXft8YdL4Fv/5gYMr\n",
       "JGiljZFOfU7LQ5vSyuhCtk3j5qbK33XQ+vEUukjlaQ0z0ljCs4pCWmWTb8E09W91E7RmNYtG8ysp\n",
       "dxx8CLRHNWGrtiIuQ7JhMCb7WRDlMBbIt+z1hK46BE3c5RPQVVJ9hDe0fl+bBEDjj+PhzpfMFcOI\n",
       "vAvGdv5ByoKDD4/QSisAosGcjXOXpeC0orAtPsibFrLqsLGiEquagMYqIgdTscGPjJGYtuOmH3tN\n",
       "9LGLt6m+zE/B+P2HycG445ySl8bycemtwu3dQ4PtlglorCKxK6UuyW1M+SlEM6og+SlrkysqaHVm\n",
       "okM3P4e7jvm42604123sTB+M++fu/cSGndZkPZuAfmnRZQwAcDzRIuIJkA7AlqcUHSaXtce1iHVB\n",
       "LFRflKn7fNw0VJx+O2zmrpHwfQrvd3QZO8CWDx5DD69s2PnJ5kAttbzJZWqOR419bu7C6MDBicCc\n",
       "c9yjgb0c+t1WxmYchJyBHm2ktOenmJ1lp5gVjEcW3bmrmXiBQ2o/q2DmxhObcpUAZ7ArNIxoz1+e\n",
       "ZCxg+x0R13fsYrLNEvDWy4+vNdR/bd1fF8QiKpOKoDQAAAAASUVORK5CYII=\n",
       "\" style=\"display:inline;vertical-align:middle;\" /></a><br>"
      ],
      "text/plain": [
       "<IPython.core.display.HTML object>"
      ]
     },
     "metadata": {},
     "output_type": "display_data"
    }
   ],
   "source": [
    "right_add_neq_rational = Forall((a, x, y), NotEquals(Add(x, a), Add(y, a)), condition=NotEquals(x, y), domain=Rational)"
   ]
  },
  {
   "cell_type": "code",
   "execution_count": 63,
   "metadata": {},
   "outputs": [
    {
     "data": {
      "text/html": [
       "<strong id=\"right_add_neq_real\"><a class=\"ProveItLink\" href=\"proofs/right_add_neq_real/thm_proof.ipynb\">right_add_neq_real</a> (conjecture without proof):<br></strong> <a class=\"ProveItLink\" href=\"../__pv_it/theorems/3c316a150cd3e51131ddecce72b80eef29db3b960/theorem_expr.ipynb\"><img src=\"data:image/png;base64,iVBORw0KGgoAAAANSUhEUgAAAS0AAAAXCAMAAABpq+mjAAAARVBMVEX///8AAAAAAAAAAAAAAAAA\n",
       "AAAAAAAAAAAAAAAAAAAAAAAAAAAAAAAAAAAAAAAAAAAAAAAAAAAAAAAAAAAAAAAAAAAAAAAeYafp\n",
       "AAAAFnRSTlMAq1RmmUTNIjK7EInv3Xbt5cnn9enzas/lfgAAAAlwSFlzAAAOxAAADsQBlSsOGwAA\n",
       "A6NJREFUWMPdWAmS4yAM5MYI0N7+/1MXMNhAsBNc2crUMhOrfNBCoiUEhHyZpjt5o+v7PnzHqP5l\n",
       "Q9bKmSbx5IWAoY4b0Juk+3PGP+ksZls56erx2Bcz1HELOkkhy2P1SbKBauVsUzB6apaRjpvQUS6F\n",
       "XNp8klqCt3IYFBfvuBhRiw513IROsrjOsk96y3VyGKx4BTAgl9FDHXeho+TZreqTzmKqlfMmqUd2\n",
       "SDrUcRs6Sedjc/ajgWhbCYgUFtvy/cEkTS3q/NDSRyv1SAdgikig09BJipQKDbzH7MtU/tr0bTBI\n",
       "kQh/ZZJ0wR1m3VD5wRyRpt///BWvtNdhCYshyddp6CQ1LZfp+PFWCapqTVdLhZWnrzxrJNfRHCCU\n",
       "X5gELq3p2aHMPaFWxl7Y1oWaaehNRlpdWDJabJAaE3pgmClitX3JW1cT4mQjI9tFlWY2trgtZxQY\n",
       "kdjhs/Jl7bOWGOoItrroGofT0JuMjp3K8ULkOgbDH+GAL3mL6pe9RSpzTgngoi5YZYmdJ9TasWUM\n",
       "sGVdpqGzVITnr8FytLsaRKHDfyn9aS79j8I5eQtBjL3VdCfSdjAXkZhsCh0Bzk2CFev0w3zLxN9/\n",
       "vG/zVsFOpEVHpqGztCwXXeB18HqxD3WMbsXyUkLCnCxBCRweiZGoTb3tqLy1dxcmtm/hxyuYtjLC\n",
       "WkKIcupSRr4yKQ6MKsLSeLl5VtzvOmi5TEJnqR0tIUYqS3jSkBmrIboWTVP3hlXL2GaY1U3TvRDy\n",
       "gGkXgHqRJmxdQIRhSHYVidF65kVehkXn2cfFuegQNDKXz0MXSZcjtLH2+loFPw0f05inVOKKYVsk\n",
       "2sam1g1H94OQBaZdNnwtQSAGezm7zFtA0S6a4jZ2L5/tG4sOCKWUWPU8dKcCIobhR7aIPNth48cu\n",
       "9F8sqfOWlBZOvJW7x0j8/sOkSDxgusS1tHK24Nb++WlDhW3VPHSnIlgR05bkELJ9jM8EKki6S8rk\n",
       "2hayWwUxzvJH93Z/u8Ocb11vbH27HfPwSGLDjoMCx+ahHzblMrAfLY+sCHACpUWEfBdDw6jttCJP\n",
       "klSobIibqjSquLV3b3cKO8x4B2xunRt1Byh8vI1L2B63bDALfXlGw/o7SFGa64wYVsN61jyLoQqm\n",
       "zQKmT3AzrfOxH++xEjbjKOQN6KtplNDfhcwsn9ewY1urfqcwZQ+r8cb5ZmfJWfK7gV2g8Yrz/OFO\n",
       "hrqV3PMWk3WGwI+ednyppv9r6/4CFlAiHuu2jDAAAAAASUVORK5CYII=\n",
       "\" style=\"display:inline;vertical-align:middle;\" /></a><br>"
      ],
      "text/plain": [
       "<IPython.core.display.HTML object>"
      ]
     },
     "metadata": {},
     "output_type": "display_data"
    }
   ],
   "source": [
    "right_add_neq_real = Forall((a, x, y), NotEquals(Add(x, a), Add(y, a)), condition=NotEquals(x, y), domain=Real)"
   ]
  },
  {
   "cell_type": "code",
   "execution_count": 64,
   "metadata": {},
   "outputs": [
    {
     "data": {
      "text/html": [
       "<strong id=\"right_add_neq\"><a class=\"ProveItLink\" href=\"proofs/right_add_neq/thm_proof.ipynb\">right_add_neq</a> (conjecture without proof):<br></strong> <a class=\"ProveItLink\" href=\"../__pv_it/theorems/47432404781137528eb21c7257b8db837ccb50d90/theorem_expr.ipynb\"><img src=\"data:image/png;base64,iVBORw0KGgoAAAANSUhEUgAAAS0AAAAXCAMAAABpq+mjAAAARVBMVEX///8AAAAAAAAAAAAAAAAA\n",
       "AAAAAAAAAAAAAAAAAAAAAAAAAAAAAAAAAAAAAAAAAAAAAAAAAAAAAAAAAAAAAAAAAAAAAAAeYafp\n",
       "AAAAFnRSTlMAq1RmmUTNIjK7EInv3Xbt5cnn9enzas/lfgAAAAlwSFlzAAAOxAAADsQBlSsOGwAA\n",
       "A5xJREFUWMPdWImO4yAM5QxgiPfO/3/qAoEEKKEl6qqjRTN9yuFnbGxjQsiXGarBG6Lve/Eds/qX\n",
       "A1mNM0PixQMBXR03qHekx33GP+ksZmucdHV/7tp0ddyijihkvr18MthgqXF2LNC7a3RPx03qgDoH\n",
       "lzKfDC3Ba+wmxeAZF73Qol0dN6kjZtdZ9klvuQa7yYojgk5wGdXVcZc6IE9uXT7pLLbUOG/S8hgd\n",
       "knZ13KaO6NYwnP1oItoaAZGCtnW8P5ikqEWVblr6aKXq6QCMGQl0mjqiiKXQwHvMHpby15Zvp0GK\n",
       "RKwjk6Tz7jDbzsrPyBFx+defv8IvbXVYwkJK8m2aOqKi+efO/moEPRYhOH3wrpWXj1ZWIVfBHCCU\n",
       "D0wCF/f05FDmnoRW4tZsF6FmmnrHEFYDS3qbDVJjvAQY6qfEjH3FW6MFcbLCEO2iKDN7tLi9ZmQa\n",
       "EaNjTbr11lYt0dXhbXXBNQ6nqXcMjp2q8UKkPsZC1Mlf8hZVL3uLFOZcBoALumCTOXeehNbBLUOC\n",
       "6U1PUydcCE9vg+VoDzWIQvm/3PrT1PofjTNwLZtDVOmtSpxI29AMMjHa5AUBrk2CDcvyw9Y6En//\n",
       "Wde6bmXuGLToyDR1QstS0wWr8l7P9qEK2b2wtJUQvybahfQ7dCjWLmDhrUNcmDC++X9e0NRiWCL4\n",
       "LKcuVuSRSWFidCH7HLh51twfOmj+maROqBzNKUYKS3jUkCJWQXAtmrLv5cDh2luVeA7Ik6beAMpN\n",
       "mrBNg/DTkGyUicF6toq0DYvGs4+bc9YhaIhcPk+dkeoztbH0+lbEDvUv+13db6QxVgwjWkt97a1K\n",
       "/AzITFNvG2uJIBC9vZwN6xZQtFpR3KewymfnxqwDfCslNjVP3aiAwGH4WS1CnB204WXn5fW5iqnK\n",
       "F41U5a0kHjLx+w8TM/GkaQqXrnG24Vbr868NBbdd5qkbFd6KULakTy+wIT8jqSDxKiqTW93IKhuL\n",
       "uO31W6d4fb49aK6PrjeOvs2JuftJYucOkwLH5qkfDuXSRz9aHqLC0wmUFhHSVUgNs+xfK45FAuvT\n",
       "UuhuJh7i9UnhoOmfgM2t70bNBxTeP8ZF7hX3ajBLPfxGw9oriFmafBTSqtvPmmc5VNDUVcC0BW5m\n",
       "ND5e+2esyM04CnmDerSMEtorX5nl8x62b2shd0mTj08Kb5y/Gkuuit8N7kyNo5jnD1fS963knreY\n",
       "LCsEfvRrx5ca6r+27i/pNSGhyARQ0QAAAABJRU5ErkJggg==\n",
       "\" style=\"display:inline;vertical-align:middle;\" /></a><br>"
      ],
      "text/plain": [
       "<IPython.core.display.HTML object>"
      ]
     },
     "metadata": {},
     "output_type": "display_data"
    }
   ],
   "source": [
    "right_add_neq = Forall((a, x, y), NotEquals(Add(x, a), Add(y, a)), condition=NotEquals(x, y), domain=Complex)"
   ]
  },
  {
   "cell_type": "code",
   "execution_count": 65,
   "metadata": {},
   "outputs": [
    {
     "data": {
      "text/html": [
       "<strong id=\"strong_bound_via_right_term_bound\"><a class=\"ProveItLink\" href=\"proofs/strong_bound_via_right_term_bound/thm_proof.ipynb\">strong_bound_via_right_term_bound</a> (conjecture without proof):<br></strong> <a class=\"ProveItLink\" href=\"../__pv_it/theorems/3de44a9869f8cdcc52f4fe8d86540ba0806fa0c90/theorem_expr.ipynb\"><img src=\"data:image/png;base64,iVBORw0KGgoAAAANSUhEUgAAAS0AAAAXBAMAAACsWwSiAAAAMFBMVEX///8AAAAAAAAAAAAAAAAA\n",
       "AAAAAAAAAAAAAAAAAAAAAAAAAAAAAAAAAAAAAAAAAAAv3aB7AAAAD3RSTlMAq1RmmUTNIjK7EInv\n",
       "3XZ/CtNrAAAACXBIWXMAAA7EAAAOxAGVKw4bAAADuklEQVRIx81WTWjUQBR+m802m2Q37knxh7Kg\n",
       "eNHqHqRQwVqpVvF3aaEgil30IHiQCF6UKtWjVlwV1FUoUQpaFtqtQisVZVEEUZQiih4spFitVlp6\n",
       "U3ryzc9ukmZSLSvigy8zk3wv883MmzcD8DfM5BCaEuQx/1/N04wkg9gitthDbAc4EqSxvDJdqzgC\n",
       "7JPYI2CMKYYtpHG4IllahiHIqiyRR5AdYThDIiBbkS45xeBaOk8r3CDyCGKvYyCD0ZMV6YpxOCZ5\n",
       "Q+qFU11pwm/YMYsijGKrKguvlRyBug6Vaxu2lz2C2FUphlcjIy8r07WDQ1k6bnt76h29+xDXor/E\n",
       "nBxyPHxsbSwFt3DxEgzbAG78QQzN8e0Qx35TnfHqajCq5WGAWh7tj2yXh4+tS0XYiNGYYTgGSiKw\n",
       "y5qBTUdpRZ1D1xsG7SkQEa6ewmZ4JoRLsprl110pl4effRbbi7FVZFAtPS3sLjqaSxs6DBYEujw7\n",
       "/xmDPA1xwpVHRj5icOBgoyDThHCR0hYm3R5+thWz4TU6TTNIdkDYb+7ADGfAetuv6/gSga5YFvrS\n",
       "syI5Riv7BboE7DYr+hOzRpEBMvX4yNcPkk9TW8dwI0dGIUSTLtE10eDoMsZOb8XizCI8KxKQ8K5j\n",
       "n03Cw6urzdRwamsE6yhgN4FB1nCYAe5hdtXeR3+Qfs3FVTiq3gVWJ/RQIbrSlXJ0jYeyBwH2ojbN\n",
       "nokW+X+7GPqSsFAy3T31pJeBjmXd7LgXsuESqDjUcJYB2rEhN9BewtAVxeJkDXyDFqpLvpl1xX1K\n",
       "tTtgL9nsyu1ho3RK9DOotvRW9szA2nM7oZmnBSpscqLs4WfDJmgjJ0eBAUIYR7G0wVblB30uhWqo\n",
       "zeVyScPQm937cYEJ0Se0FiqESqO/wKBVPzj21dNT95TUSILqnZNXh0oefjbcerwHJzCeZqDWZ6rr\n",
       "yR6LFult6R08h/N0vozIPsulqxPvRvnLpBZPxzq4c7yDISiDK8NOvdYseYjYA4hTHGzfmBdbrDy0\n",
       "6xkZ8gAfItOYP2h8wZAT90pxALBlXKG/bnOfy96z2XsSe09p/0nO2XpGI0vRyME+Na65D51J+fPj\n",
       "CSxgRV0GlOv4vvVLobvJma/d+6aI2jAKkxqvln98jSPATvhfidhxO1Rgd5vZ9xueYJKaqeIQ8rmc\n",
       "k3C9+Uu6BnfgSrnZwxFgAhEitlRP7oKqyeCeT4sXIbt1tpPvHKqOOHc7xWYIuIEKruvB7HEO96qX\n",
       "ikh94be6Wr7D/2DKP+7vFyGkC8P8mM9lAAAAAElFTkSuQmCC\n",
       "\" style=\"display:inline;vertical-align:middle;\" /></a><br>"
      ],
      "text/plain": [
       "<IPython.core.display.HTML object>"
      ]
     },
     "metadata": {},
     "output_type": "display_data"
    }
   ],
   "source": [
    "strong_bound_via_right_term_bound = (\n",
    "    Forall((a, x, y), Less(Add(a, x), Add(a, y)), condition=Less(x, y), domain=Real))"
   ]
  },
  {
   "cell_type": "code",
   "execution_count": 66,
   "metadata": {},
   "outputs": [
    {
     "data": {
      "text/html": [
       "<strong id=\"strong_bound_via_left_term_bound\"><a class=\"ProveItLink\" href=\"proofs/strong_bound_via_left_term_bound/thm_proof.ipynb\">strong_bound_via_left_term_bound</a> (conjecture without proof):<br></strong> <a class=\"ProveItLink\" href=\"../__pv_it/theorems/27046f5f9e946e059537817105a3782ad06e1a660/theorem_expr.ipynb\"><img src=\"data:image/png;base64,iVBORw0KGgoAAAANSUhEUgAAAS0AAAAXBAMAAACsWwSiAAAAMFBMVEX///8AAAAAAAAAAAAAAAAA\n",
       "AAAAAAAAAAAAAAAAAAAAAAAAAAAAAAAAAAAAAAAAAAAv3aB7AAAAD3RSTlMAq1RmmUTNIjK7EInv\n",
       "3XZ/CtNrAAAACXBIWXMAAA7EAAAOxAGVKw4bAAAD90lEQVRIx81WX2gcRRj/3d5d9t/d9p4qtXIs\n",
       "KPVBU/dBAi0Yr8S2osYeDRRKxRz2QfBBNuCLUkvqi6CRnhaMpxA3UtBw0l4VUokYjopYW5UoFoX2\n",
       "YIPRaEpDEKSSB/GbnbnbndxutZyIH/x2/ux8M7+Z788M8G+IKxArapLGzU91k2LZHPGS9eM14uVx\n",
       "gQJr3N4br7sEEuTHeI2EPTocu1njyZ5oGRWOJOnz4jSS5CmOY8wDqj3xyjgcERmJNtKlOI2IoaXW\n",
       "vRxsM6bdE6+cQES2S60LYXWbi67RiuSAOS9Amsj29eZe2wQSeR3u1O57qKORxKvP4fiq1brYG6+H\n",
       "BU4tvvexLfMamz9K3zPtkdfmOhrGkoNpmZe6dZlqZoHjQeDNf+BDN/h3WKBkFTMLEq/s53ibzDIg\n",
       "vP0TP9QwlSbul3k95urr5I0VjjGohcQl+2d3PR1U9Bvw+pYj7abXU47E630Hw1TczY9j2IlovEBb\n",
       "2CLxMj4F2xbxDaB7Zjl2OW2xVrZMnG3E8JIi/zMODRke/sOt1pet1jdU2wdcpuJ40L3Zjmp4OR9f\n",
       "M0O0WlfIlehoMmvI01raGofiJ7j9A+OU4Szs9Lt5PXNrDC8KI3+D338B43dmoBheGPW0P6TzylVx\n",
       "mk4o2+RAZZA+9cGz7N/q3iUK5OwiUkHSZbxWSiEva+noXiqO3UJ3RQEF2Y60lGt4UV7Gn0ivMW+I\n",
       "sSP2wGpKvE77gcMpCxz4gLKr8b12na3rbumjXZ3a5E1gJiBiqlNOyGs5VX0COEjcDH9dE9NiimOm\n",
       "fBtM6byM35Cq3Ans2Oj3TONV6AWZl43Nios0JXkGHGG2LQWrpDGlUfFcP37lKdvKvFWN+L2j++M4\n",
       "yIJdfWfBat8SZzjueekR7JftOIX+UoknkYDYtZVQYxdGHYmX7ivfUdhnGhxIkR/lyhYnfz34bkUR\n",
       "A7VazbYsc380Hje50M4FtVQj1d79KxwnV5UhW+Y1ffXFIs1+Kcyrcx2N6fl9rhyPxY/GfgHyZQ5+\n",
       "hq6+k7mG1gxeS5dwHi8H52VlD3kRXhP0Nqq/xmr5cm5cKOfHOZLyvboQ1gfctgYwG5vvnxfgseAe\n",
       "H/HqOGJWMqgDP2TXKH8E/oW50O/V5iyoZZ0Iph6N3ssb7uaR5FtaaJgV41zsvT0kwH8Nbf8QE3bm\n",
       "p/kVKnDHjgrUN6j/wM+Nk3vC83r00CpjmyZiytDrnakmBRLk2e6uSeT9VCP2dVvtft8I77ANV6ct\n",
       "1Gu1MOHK+UuZxLs40WnOCCRIDOUZKIO7YwfrLkf0HeSJIuUf6Bq+saOYDd92qs+R8AKNea4nj14W\n",
       "iFq9XWQHG3/La+Qq/g+i/sfr/QWihQP43xiRNwAAAABJRU5ErkJggg==\n",
       "\" style=\"display:inline;vertical-align:middle;\" /></a><br>"
      ],
      "text/plain": [
       "<IPython.core.display.HTML object>"
      ]
     },
     "metadata": {},
     "output_type": "display_data"
    }
   ],
   "source": [
    "strong_bound_via_left_term_bound = (\n",
    "    Forall((a, x, y), Less(Add(x, a), Add(y, a)), condition=Less(x, y), domain=Real))"
   ]
  },
  {
   "cell_type": "code",
   "execution_count": 67,
   "metadata": {},
   "outputs": [
    {
     "data": {
      "text/html": [
       "<strong id=\"strong_bound_via_term_bound\"><a class=\"ProveItLink\" href=\"proofs/strong_bound_via_term_bound/thm_proof.ipynb\">strong_bound_via_term_bound</a> (conjecture without proof):<br></strong> <a class=\"ProveItLink\" href=\"../__pv_it/theorems/ed558e4253adc0d6753c3288a1bf0097426df0bd0/theorem_expr.ipynb\"><img src=\"data:image/png;base64,iVBORw0KGgoAAAANSUhEUgAABMMAAAAZBAMAAADOLfRSAAAAMFBMVEX///8AAAAAAAAAAAAAAAAA\n",
       "AAAAAAAAAAAAAAAAAAAAAAAAAAAAAAAAAAAAAAAAAAAv3aB7AAAAD3RSTlMAq1RmmUTNIjK7EInv\n",
       "3XZ/CtNrAAAACXBIWXMAAA7EAAAOxAGVKw4bAAAJyUlEQVRo3u1bf4wcVR3/7uyv2Zm96SpKLE0u\n",
       "q9RaondOsNb01LL1oBDMtRfOEEIJtwrG0D9k+pcpYl2JiSac7SlUXDDHFAmmrXJLgSJNuCwQUxWp\n",
       "JylCDjaZ09MKzV2aJrXNkVDfz/n13uzM9bqXXNOXvN133+/3ve/3853PvHnvzR5ATEm13roA1eVy\n",
       "uRitNwBmW+VYw9wFqZauWKjml/OVyEehWrbF4gC+gGraXO4UM/BN8s/lfEGyTgSqZVvuZJVTrITb\n",
       "V7fjUQp/KaaUYnG9O14+i2NrLLFT7deTiaWRZf/rrPEvOaolLW4wFwOQYdLKKXYDFn6nHcUyg/jL\n",
       "klIsrnfHL3YVfTy15G5zleTSyHI372ZLUS1tufsiAoLtrDKK/QgvB0bbUUzFU9VO+YMyrnenSwbf\n",
       "LP2CeEhuPRQ1jFSRNSPtVpRjpdmoNYirOM2+0xUpqkUhknsXpUIwCWBGBuGOsY5VRjF8D+nltgsu\n",
       "TMhDclVc706XIv5oCuJeuXVv1DBSheJE2g3bsVJJ76AiO88lf/GUaywX1aIQyb2LUjGYeJhRQXhj\n",
       "FG1aGcXwij/XfrmPLatyVVzvTpc1OE3VJafYS/HSWIrp7kLnLlf31ZtdVEtLMX0yOcyoILwxciat\n",
       "fEf5eqv1WnuKFVutdxsRO8qY3p0uX8ePFRzbjoldkmzkV51wFkKxwCg8/drcVQ8eCtp9c+6jkt4B\n",
       "aSzFct3TbPp/hqtmj3ioIkJPiMj1LkOkzZiwLyqYeJhR2fPG0Eu0cordBPBoe4plalCwIygW07vT\n",
       "5S52z2SPwuO2mI07rML8Qqb6wCg8/RmYdgYCdtr/7HFL6B2UxlJsfLt2lrbWs/4vOT5UEaEnROQ+\n",
       "AGWIdKUJ10UFEwszMnveGOkqrZxiOyCPCKfRsWoyHiH9jqhzMdq7s6XNvuYNVLvQvfM7EwZE0Nqr\n",
       "kJlcAMXoKCwVbvq/BNfZVwTslHkoOkLvoDSWYp+34RiAilqfo/PTgOlDFRF6UkTciRTRA2iIlbJg\n",
       "2gKKzZ4HCFGYVE6xgq0PImbTsd6maI8/D18peTx6FJ6Pohjtnbio94gtmRaVnsObvktbbXasf8SL\n",
       "SxTAVoB3AH5DVmUDrdZfW62/4/nnFHQ14OAzVwXFoeIp6CgkFRm0OECLgBK57TaH7DJVWNHQ1suk\n",
       "1Jmvd2iv6CnQoB+g+wPd1HuI6sqyHxUNXfSRBJHPiRSRjYhzTBKMkD4PUJLseYDUU7RyiilOcL2+\n",
       "e+Ve+KRuZ2yPR73S1T5RhXvHlVWSlqhVp+uDhg4vNCQU02QU+zNoZ0CdmwzeV8VRGB9Ek+BAwvuQ\n",
       "jCKZh46F7NBVHi7vnpVJXWexs9g7kGW7/DskFKOhCz6SIuJO5IiGbfWcGIyQviCg2Ox5gLJNWt0X\n",
       "SNWNgVsAra7gaqei+3iUSztRFAv1ji1/krRE7fXoVjAM6HNEiuU32eKDUvsQ0uiuUUI5GnfwmuMM\n",
       "/LCWKElsFIFi2bNwIDDAijJstaEnlGIidZ3FUuw0ZNiqqkfyoKShCz6SIuILezmizWA0JcGE0xcE\n",
       "FEsxDxAeCFeXYoe2oyxO061Gmb7OWPvpXX6K6WvQZTVmdt2I2neWoOSnGO4NBze+wP35mt7E8+xJ\n",
       "thpQP5y2wy3fg5LJyNsHRLH3Kz6Kzd04gwZRP2LhYFOsxxh+VjugnYZU9TMixcpwpWL1JaYYGYWm\n",
       "wneZ9qaa0AjmvobWRCLFsLQvMcXO4YXS019DrQ3h5f4YD12kWEJEPHYpIvg5FEqSYASKBQDFUswD\n",
       "lB6l1aXY/cjd0yvwtc0oVY1cz7X6E9t8PMq/jD5OpEa/hYJ25tWmn2K4t/aWyvcjvqZXfm/tYRQz\n",
       "poxKuOUVLttP/tDzY6ZHMcNamStD9mGLBDsC3n4fb4/HoKdSEXJUcJTjGd/5jrtTwheryho+BRmF\n",
       "psJLv3LuyWa2HLBLmYWKSDEq5c7cvRr3w51xxRXwMNrJrGFnFCSu2fddVCz0sI8IRNhJABF3IkUE\n",
       "m2DYlAQTTl8QUGz2PED4GAlXl2IpxNL7CJYDeoW+UVgLlff8PPoEqmbBQYb5JyaNUb8K985UEO3y\n",
       "5PCCNG+ZCW4BrgdEiQJJkZmuUkPcCtthGaBFIHkjYWQeG/Ut99MwpkL2MZwsFCyP7md47kOZ2Xfy\n",
       "J901IUda9x92/BcZTIVWE8fx47XCGj4FGeW+ntBMsMVZfW1o3FX9kocYlXJn/OJ5fo4HFfueM0Gz\n",
       "n0OtN72j1yMcFQtd8CFHRJz4EblOZIhg38RWSwxGTF8AUHz2XEBdg7QGf8wzxo5l0/fU679AFDuY\n",
       "8/OIzpskrFQj5YRVxUGjBA9Muc2mdiq07+NTdbGWKTFD1ArbYRk5KKrX62XD0G8J7CjR7DhSZruC\n",
       "btYD71/YNhjEHLGy017Q6f5Y/Om+bwkVlu60Ey733SOwvO8UYr3lomrjIx5R0ImI6LDMTp6+BWYP\n",
       "n+n9gNUAxbT5GmWR2qCzWLZXoNgI+Z1Z12CxFlaNW4U+G6bcpuU+S+ngZ+GhA8oEcQDFMjXErZAd\n",
       "kaXXATxIZjEju832UUxt5kF7kXDsTXdfQF4hrxNyFHhjm6/kLYnYX/wKloq2r8GDl39I5iz+NTi/\n",
       "b8SX3t6LcamPBIgCTsKI9Kr2isxOmr4FZg8DIr9L6A9TTKlWtAZmET2r/yK48w7nUb55GLBNV20Y\n",
       "hFnM2jNEKHaQNQuDqImM8Qf6Oqqe6VNWY3WXjda2U24L2TEr9EFl33sK6LsEQ4cjvuX+/XoVL0Le\n",
       "wxG/nXVnv0fw89UK5yh4y//0x/YC9rwoFckMey6CM3yPSX7E8khbH4tF1OWkpL+wk6bvAgDhn96Q\n",
       "n98EZ7FuS32F8GonPjr7h+Xu2Vwebdk2ZyMbpf+XAsWy/b3PEuaMlGnzJtxUj8KIpR5Ffb5x7UkT\n",
       "fkVkWxxmSFrIDqmxFfpgsi+j+JAt3PqfxpObPYpl/j1BFsMbUMirN7jndHhnoLEnaf7wB7Kn09/O\n",
       "n1/IsQpKRSK77987sXhnaFXh8ckr+9v6WCwiZeMNMjN5+i4AEL7lyW0v/LBaIQ9S7cX6XuHwy2fz\n",
       "W3hIriLPP7pW0m2HN+m4GOdkmctcQ2KnuANQ7cfxyUe97tsIBI9er7E0q+DGncdZ2QXLteRMtFWW\n",
       "XG1nGQOCE0CrSLHbc7c1I85XPRvozlblqt2vlSFL59R7z0/yJulD15w2k3mG2I6rgfcQZ+vwC6SU\n",
       "cytcGuXbI3BplSAggWJmZsaOo5gJQycjVPRkQdI0JbI0iGoiMz5ViaVYdmPjErkiW26+xCgWBJT0\n",
       "P5Ci/1ky14H/o1Q+JsosuFyWYTFarwLMvmv+H5trlBIW/PvYAAAAAElFTkSuQmCC\n",
       "\" style=\"display:inline;vertical-align:middle;\" /></a><br>"
      ],
      "text/plain": [
       "<IPython.core.display.HTML object>"
      ]
     },
     "metadata": {},
     "output_type": "display_data"
    }
   ],
   "source": [
    "strong_bound_via_term_bound = (\n",
    "    Forall((i, j), Forall((x, y), Forall((a_1_to_i, b_1_to_j),\n",
    "                                         Less(Add(a_1_to_i, x, b_1_to_j), Add(a_1_to_i, y, b_1_to_j)),\n",
    "                                         domain=Real, condition=Less(x, y))),\n",
    "           domain=Natural))"
   ]
  },
  {
   "cell_type": "code",
   "execution_count": 68,
   "metadata": {},
   "outputs": [
    {
     "data": {
      "text/html": [
       "<strong id=\"weak_bound_via_right_term_bound\"><a class=\"ProveItLink\" href=\"proofs/weak_bound_via_right_term_bound/thm_proof.ipynb\">weak_bound_via_right_term_bound</a> (conjecture without proof):<br></strong> <a class=\"ProveItLink\" href=\"../__pv_it/theorems/4042e89ea6772d6fe4b8a673b00721720f35075a0/theorem_expr.ipynb\"><img src=\"data:image/png;base64,iVBORw0KGgoAAAANSUhEUgAAAS0AAAAXBAMAAACsWwSiAAAAMFBMVEX///8AAAAAAAAAAAAAAAAA\n",
       "AAAAAAAAAAAAAAAAAAAAAAAAAAAAAAAAAAAAAAAAAAAv3aB7AAAAD3RSTlMAq1RmmUTNIjK7EInv\n",
       "3XZ/CtNrAAAACXBIWXMAAA7EAAAOxAGVKw4bAAADvElEQVRIx81WXUgUURQ+OzvrzOys4z4JZshC\n",
       "IURZ+xCCQptiafS7KAhh5JIPQQ8xPhYWa49luBVkWyBjCCWCrgUaRrIUQRSFRFIPLYxkWUbim+FT\n",
       "92+dn50byUZ04Nt778459373nnPPPQB/Q3QGT5F4FhufaoOiRSi8JWB6W3jLSYYwHmwpjtd2Bo58\n",
       "8rbg7DFKsR8PThdFK5ig4EmJYfWr9bwFT85Q9OIISBXFS4xS2FznGPkb1rt7Dq5b8LR3U+DNqJGi\n",
       "eIUYLBGcIfUy3/kxbVnwtEMGgR+RLSkuvKoZuLy6mL+fmDYLnnZJlOJ1LveqOF6HGKTKRdO50tj8\n",
       "/cfIFxOU1pGo3aJAO7gQhSHkvDDFAYDbfxBDv/nWxXBCV9acvBq0KnEWoJYsWx5xWBRoq0IW9qJo\n",
       "TFB0gxTmLlkz2XiWdBTnyQ/YR28pgs8Ak7Ct5Nf9az50SDvIyMbLU/sSGlegUZZCMdS4Jyd5Ph3X\n",
       "VJjKFPASBh2KzynEFSjFumIu9xEFB9qsDCJJCP0071t+9NQ2Qia8QUYrFILJCft9SZThNKg33bz8\n",
       "N8CLVygF43FXJIdI54Q77r21Ow35J8oaWQpIxNDPaGwKf1puWUCJLzAPPpJ0Ma+lBouXtnCxBbTr\n",
       "5L0IQ9jpx3ETh4eTV6ceRNe+xp0nvLWbQcM+nKWAByi7Bt/Lq3hdvaIERcFYmdEHI4SIKg1GLV6L\n",
       "vtQp+SnZu7kmZ9m8gxTjESgXdPtKI/HNoKK2zp1XPbXhGihoq/4UBfSggdhAVvHDoIya8zXwDdoI\n",
       "L/FOyhb3UcVMwja8aenurJZ/JSYoFFN4JzpOYNflw9DK0kI+cyWBpw2N0IlfjgwF+JBqKK5Rr6yS\n",
       "30qogtp0Oh3RNLXVfh/L8A6PY2K+jC/vrKsUwapH3V8dKw0vC034Es65Q9dTG4ZmjqHpS+MURMZ1\n",
       "pR6/rnKWVEtz8AKukPPSAh2GjVcfqY16W7BpKMmMS5MUvAwuzbp58bQnES4w0Huj97cZo9CjJkQY\n",
       "BfgQWEH5g8QXTFtxL2UngYy6N6GpO+3vsu1tLniJna+06yW3tNVEEIduEwP91LTzIfRFxM8zS6iB\n",
       "rXUJkG6h/9u/ZIabrfM62rFssKpSaLq5PvEAA0fO0SyRI5Jctyg4RNOXobWNu75hCTkS1BW0hdF0\n",
       "2kq4inuWe2BlsREGjniQ8NIWYrgWVHQK+3karPGZ7W6jAl5VAau2k0wKTgXqUa7ztRcZ7F7PN4FY\n",
       "hs9LRvc0PQBt3+F/EOkfr/cLEtATg9Ua9G8AAAAASUVORK5CYII=\n",
       "\" style=\"display:inline;vertical-align:middle;\" /></a><br>"
      ],
      "text/plain": [
       "<IPython.core.display.HTML object>"
      ]
     },
     "metadata": {},
     "output_type": "display_data"
    }
   ],
   "source": [
    "weak_bound_via_right_term_bound = (\n",
    "    Forall((a, x, y), LessEq(Add(a, x), Add(a, y)), condition=LessEq(x, y), domain=Real))"
   ]
  },
  {
   "cell_type": "code",
   "execution_count": 69,
   "metadata": {},
   "outputs": [
    {
     "data": {
      "text/html": [
       "<strong id=\"weak_bound_via_left_term_bound\"><a class=\"ProveItLink\" href=\"proofs/weak_bound_via_left_term_bound/thm_proof.ipynb\">weak_bound_via_left_term_bound</a> (conjecture without proof):<br></strong> <a class=\"ProveItLink\" href=\"../__pv_it/theorems/abcaadf1e141cf1e6d3a4924e9a4393a78323afd0/theorem_expr.ipynb\"><img src=\"data:image/png;base64,iVBORw0KGgoAAAANSUhEUgAAAS0AAAAXBAMAAACsWwSiAAAAMFBMVEX///8AAAAAAAAAAAAAAAAA\n",
       "AAAAAAAAAAAAAAAAAAAAAAAAAAAAAAAAAAAAAAAAAAAv3aB7AAAAD3RSTlMAq1RmmUTNIjK7EInv\n",
       "3XZ/CtNrAAAACXBIWXMAAA7EAAAOxAGVKw4bAAAEBElEQVRIx81Wb2gcRRR/u3eX/XfZ3qdCrRwL\n",
       "SkVs6n6QQgvGK7GNqLFHAwVpMUf7oeAH2XxUarn6RdBITwXjKZwbKWiItFeFVCqGo6Vo/Ucqlgq6\n",
       "sMFotMUQCqWSD+KbeXPZnc2uWE7EB7+dmd33dn4z782bB/BviCeQKlqWxe3/6jbFdgjpUgjTLdLl\n",
       "KYESG9zVG6/7BDLkp3SLjDW6hN1scKQnWmaNkCV9ftTf4nUtsuRpwnEWAY2eeOVdQkxG44NcZa37\n",
       "4KNrFjFHS6MHCGwxltMTr6JATLZJoy+6nd/PRRaRqFIAFn2OHJLt6y28tghk8jos/P1pGLPI4tXn\n",
       "Er4Ogi974/WYwKmF9z9xZF7jc8fweYZojbgxC3PRhSmZl7Z5CXtWifAIwFv/IIb+5tthgYpdzs9L\n",
       "vAqfwTvolu2c1kYnbmGpHXhI5nXQM1YxGmuEcdBKmVMOzO56hncMeecn46NvCTkvt6q4Eq8PXBjB\n",
       "ZisfxHih9gu4hE0SL/MCsGUhXw7Dt6qpnPSFZtW24Gx7HS+1JSleJOiQp+M/EgRfBcFl7O0F+AGb\n",
       "E+SmyI+o7RdD+IY5Igh+xFDCrcmvQD/Opa8Q1DAj7B+uY4azYWeY5JV7HdJ44TEKE3F/CcybzEHJ\n",
       "uGfaY77+h7RfxQacxh0qdAhQG8THzOBZ9m15eBETX2EBFJ50Ga9rlYiXvXhsGOzX+H1RgpLsR5zK\n",
       "M/04L/NPyK2waEjmCaa9B+yOxOt0yANOnSfAh5hdzav6LTavt6kPo+DUBn8CpjkRS2u5Ea8lpXFI\n",
       "P8+nDFd18VtoEaard4Il7Zd5A5TaPQA7knmVWbwKRknm5cBG1YMcJnkGOMp8W+Gz5KClY/PcAPxG\n",
       "KdvOv92Ixb1rhHW4ly1ae3fe7t4SZwj3v/Q47JP92IKBSoWSSDdz1bsWu2DMlXgZofodHvt8mwAK\n",
       "qharNpG/xZ+boQzbm82mY9vWvvh53MCutycZMaWtdKPlFcLJZXXIkXlNXX+xjH+/kgxdZjE1t9eT\n",
       "z2P54/FfAfqrBNpDz9jJQkPv8GrpCnwOL/P9sgsH/BivCV4bHR9mpsW6MO6vE7LyvTaf5EXas6n5\n",
       "/nkBOgveiVF/Bo5atTzMAHxfWMH8weMLzkVxr3VmgY/G78Bfj8Xv5djdvO7eTtzpZGHVzPOp9/aQ\n",
       "AH0a2vYRTDj5n+euYQN376iB9ia+3/9L++SeaL+eOLDsi6pSHXpj7VeTAhnyLLkp4FIXFv2h0k6t\n",
       "bhvr6xsRHY7pGbiEmWYzSrhG0v49iLLYtECGpFCeBnVwd6qy4RHidZAvGiXcv049+aJciGo7LSRk\n",
       "VKAp5Xq29pJA3OvdpjDYzual4zltTsLodfg/iPYfz/cXk7ELuPqyZIsAAAAASUVORK5CYII=\n",
       "\" style=\"display:inline;vertical-align:middle;\" /></a><br>"
      ],
      "text/plain": [
       "<IPython.core.display.HTML object>"
      ]
     },
     "metadata": {},
     "output_type": "display_data"
    }
   ],
   "source": [
    "weak_bound_via_left_term_bound = (\n",
    "    Forall((a, x, y), LessEq(Add(x, a), Add(y, a)), condition=LessEq(x, y), domain=Real))"
   ]
  },
  {
   "cell_type": "code",
   "execution_count": 70,
   "metadata": {},
   "outputs": [
    {
     "data": {
      "text/html": [
       "<strong id=\"weak_bound_via_term_bound\"><a class=\"ProveItLink\" href=\"proofs/weak_bound_via_term_bound/thm_proof.ipynb\">weak_bound_via_term_bound</a> (conjecture without proof):<br></strong> <a class=\"ProveItLink\" href=\"../__pv_it/theorems/bd9558c3f96bb0119d6ec3e170eb5ed3da4323930/theorem_expr.ipynb\"><img src=\"data:image/png;base64,iVBORw0KGgoAAAANSUhEUgAABMMAAAAZBAMAAADOLfRSAAAAMFBMVEX///8AAAAAAAAAAAAAAAAA\n",
       "AAAAAAAAAAAAAAAAAAAAAAAAAAAAAAAAAAAAAAAAAAAv3aB7AAAAD3RSTlMAq1RmmUTNIjK7EInv\n",
       "3XZ/CtNrAAAACXBIWXMAAA7EAAAOxAGVKw4bAAAJ10lEQVRo3u1bf4wcVR3/7uzvmb3pKkgsTS6r\n",
       "1Foid06wYji1LB4Ugrn2whliLOEWwRj6h0z/MkWsKzFRw9GeYtUFc06RYNoqtxQoSsJlhTRFgXo2\n",
       "VcjBJnN6WqHppWlS2xwJ9f2cmTfvzc5cr3fJNX3J23v9vu973+/nO5/3c6YAMSnVfvM8qi6lS8ls\n",
       "HwE40a7EKubOq2rpko1yfjk/iXwUqmWbbA7gMyinreVOMRMPkn8u5weSdSNQLdt0F8ucYmVcvqoT\n",
       "j1L4j2YpKRbXetHTp7BvzSU2qv9qMrE0Mu15gxX+pUa1pMlz5kIAMi2aOcVuxsJvdqJYZhD/sZUU\n",
       "i2u96A+7hn6eWnKzuWpyaWS6lzdzfNka20O1tOneCwgItrDMKPZ9vB0Y7USxAp6qtqkXyrjWi50y\n",
       "eLD0S+IhtfZQVDfKiqwVqbeiEivNRu1BvIpT7G/af5BfvM1HtSBEauuyVHImAcxIJ7w+1rHMKIbH\n",
       "kFHpuOHChNyvroprvdiphH9akrhXrd0b1Y2yQnMj9YadWKmitViRneOSv/DCiRcDqBaESG1dlsrO\n",
       "xMOMcsLvo+TQzCiGd/y5ztt9rFlTV8W1Xuy0BoeptuQUeyleGksxw9vo3MMW/ZfcAKqlpZgxmRxm\n",
       "lBN+HzmLZn6ifKPdfq0zxUrt9jvNiBNlTOvFTl/Gywr2bevEdkU08quOufOhmNALD78+e+XD+0W9\n",
       "u2c/rGgtSGMpluueZtP/M9TMgBVEFeF6QkSedRUifcaC3VHOxMOMip7fh1GmmVPsVoDHOlMsU4ei\n",
       "E0GxmNaLne5hYyZ7CH7tyNG40y7OzWeqF3rh4c/AtDsg6On/c8ZtqbUojaXY+Bb9DC1dR1pfURFQ\n",
       "RbieEJG3AKoQGVoLbohyJhZmZPT8PtI1mjnFtkIeEU6nfdVVPEL1W6PuxWjrxU0dzjVHUO5Cz+Z3\n",
       "FgzIoPVXIDM5D4rRXlgovPB/Dm5wLhP0tDkouVJrURpLsU87cBiggErXkH8HKHYk0vWkiLgRJaKH\n",
       "UBcrVc50BBQbPR8QojDJnGJFxxhEzKZ9vUVn46PPwxfKPo8eg+ejKEZbJ06F++SSqhalngM3fouW\n",
       "xBPr1cHrk4N4c4kc2ATwNsBvyK5soN1+vd3+G55/TkJXE/Y9c6UoDiW/gvZCQpFBmwO0CSiTYbch\n",
       "pJepwYqmfp1KSo0FWodOwH4F6vR9ND7QoN5Jg+4vlAe567KNJIgCRpSIHEScwwpnpPD5gJJEzwdU\n",
       "OEkzp5jmivv1HSt3wccMJ+P4POpV7vZJVbh1XFqlKMm1henGoGnAC02ZYlcLswOn2J9BPw2F2Ulx\n",
       "XJVGYXwQTYIDCcch6UUxDx0O6aGnPFzZcUIl9YzFzmJvQ5ad8u8Mb/cPctclG0kRcSNqRMNO4azs\n",
       "jBQ+EVBs9HxA2RbN3guk2nphCKDdFVzlVo0Aj3JpN4piodax6VVFSa69CQ0F04Q+V6LY9ZZqodQ/\n",
       "gDQaNVooRuMu3nOchu/VEwWJ9SJRLHsG9godrKjAJgd6QiEmUs9YLMVOQYbtqnrClxZHuOuSjaSI\n",
       "+MZejWgDmC2FM+HwiYBiKeYDwh3h7FFs/xYUxWl61KjQ1xlrP7E9SDFjDZrSzJntt6DyXWUoBymG\n",
       "W8O+9S9we4Gil/Rnj7PVrfDBtBMuBRZKJiNvHxDF3qsGKDZ7y4wN7+INC3I2xVqM4bXaBf0UpGqf\n",
       "lClWgSs0uy8xxUgvNBSBx7Qr1YKmGPs62hPJFMPSvsQUO4s3Sk9/CQ+b8NXrGHddplhCRNx3JSL4\n",
       "CRTLCmckigmAYinmA0qP0uxR7EFk7ukV+NlmtJpOnuda44nNAR7l/4R+jqVGv46cducKrSDFcGv9\n",
       "zQI/jwSKfvq9vZNRzJwyq+GSn7hsD/mHkR+zfIqZ9spcZYRsiZGzI+Cf9/HxeAx6qlUpRkVXO5oJ\n",
       "3O94JyX8sGqsEKggvdBQ+OHXzj7ZylYEvZRVrMoUo1JuzDurcTvcGK+4DH6GTjJr2B0FvxGrM1TM\n",
       "9bCNCETYiICIG1Eighth2FI4Ew6fCCg2ej4gfI2Es0exFIL1AMGy16jSNwprofpukEcfRdkqukgx\n",
       "/8SkORqswq0zVUS7PLm8IMXbZ8QjwE2AKFEkIbLSNaqIS2E9LAO0CSRvJMzM46OB7X4axgqgPY6D\n",
       "hZzl3j2C5z4Umd3Hf9hdl2Kkd/9h63+RwlRoN3EUL69VVghUkF4e6AnNBBvd1deG+l3Vr1jEqJQb\n",
       "4w/Pt3NUrNj9nAW68xwq/T081B7xXJdsqBERI0FEnhEVItg9scmWnZHDJwCKj54HqGuQZvFjnjF2\n",
       "LZu+r9H4KaLYvlyQR3TeJG6lmik3XFUaNMvw0JRXbOknQdyU86m6VM+UmSIqhfWwjFwUNRqNimka\n",
       "twsnSjw7ZgnHVkE3a4HPL+wYDHKMWNrmzOt2fyz+dl/cQvWqjMUulN4VWF76nqGr3tlGPCLRiIzo\n",
       "gEpPHb55Rg/f6X2XZYFi+lydsqjQpLNYtlei2Aj5zqxrsFQPV43bxT4Hpryi7a2ltPMz8OhebYIY\n",
       "gFKFKuJSSI/I0usAHiazmJnd7AQoVmjhj/cKl9t42PNzAXmFvE6KkfDGNl/N2wpxMAUrWCg6vgYX\n",
       "H/+Qylj8a3A+buSX3v6LcaWNBIgEI2FERk1/WaWnDN88o0cmgn6WBYpptarexCyid/WfBW/e4TzK\n",
       "tw4A1umqD4M0i9k7hwjF9rFicRAVkTL+QX8OFU73aatxdZeD9rZTXgnpMS30Q2XffgrouwTTgBcD\n",
       "2/0HjVqG+PEhB97KerPfL/D6aodjJA75H/3AmceZF4UimWLPBTCGxxj9iEVvk1T3UEXbWCiiLjel\n",
       "/MJOGb7zAIQ/vSGf34izWLddeJnwahu+OvuH7Z3ZPB5t3DzrIB2t/+cSxbL9vc8S5oxUaPFWXCwc\n",
       "ghG7cAi1+cq1xy34JZFtdJkiKSE9VI210A+TfR75h3Thjv80n9zgUyzz74n3KNcBVl/v3dPhk4HO\n",
       "VtL8gfdVq9Nfz52bz7UKCkUive/cP7FwY2hX4fPJT3s62lgoIm39zSo1dfjOAxAe8mTYSx9Wa2Qh\n",
       "1f/Y2CVdfgV0fguPqqvI+kdPXobj8iLtF+OcrHCZp0j0NK8DWvsRfPPRaAQOAuHv0XS76Pmdx1HZ\n",
       "Dss15Sx0VFY8bXcZA4JjQLNMsa/lvtqKuF/1daA7W1NX7XitAlk6p95/bpIXSRu653SYzFfEerwa\n",
       "eAt5tg5TLOXeARdH+sYIXFxJBCRRzMrMOHEUs2DoeEQVvVlQFC2FLA1yNZGZH692oNiP0VGzYWfX\n",
       "Ny+SJ7LxtouMYiKgpP8DKfo/S+YW4f9RapfLMhsupWWYzPYrACfesf4PZjicpDQIxZkAAAAASUVO\n",
       "RK5CYII=\n",
       "\" style=\"display:inline;vertical-align:middle;\" /></a><br>"
      ],
      "text/plain": [
       "<IPython.core.display.HTML object>"
      ]
     },
     "metadata": {},
     "output_type": "display_data"
    }
   ],
   "source": [
    "weak_bound_via_term_bound = (\n",
    "    Forall((i, j), Forall((x, y), Forall((a_1_to_i, b_1_to_j),\n",
    "                                         LessEq(Add(a_1_to_i, x, b_1_to_j), Add(a_1_to_i, y, b_1_to_j)),\n",
    "                                         domain=Real, condition=LessEq(x, y))),\n",
    "           domain=Natural))"
   ]
  },
  {
   "cell_type": "code",
   "execution_count": 71,
   "metadata": {},
   "outputs": [
    {
     "data": {
      "text/html": [
       "<strong id=\"elim_zero_left\"><a class=\"ProveItLink\" href=\"proofs/elim_zero_left/thm_proof.ipynb\">elim_zero_left</a> (conjecture without proof):<br></strong> <a class=\"ProveItLink\" href=\"../__pv_it/theorems/b9949a12d248fc19c0d60a728d85dd35465aaa5e0/theorem_expr.ipynb\"><img src=\"data:image/png;base64,iVBORw0KGgoAAAANSUhEUgAAAKkAAAAVBAMAAADP89MSAAAAMFBMVEX///8AAAAAAAAAAAAAAAAA\n",
       "AAAAAAAAAAAAAAAAAAAAAAAAAAAAAAAAAAAAAAAAAAAv3aB7AAAAD3RSTlMAq1RmmUTNIjK7EInv\n",
       "3XZ/CtNrAAAACXBIWXMAAA7EAAAOxAGVKw4bAAACL0lEQVQ4y5WUTWgTQRTHn7ub7Ec+uqciCCUg\n",
       "2INQehAPKdRAFQURAr30UErQg+hpe/cjHgShlEYotKsgC/VSom78AHsKgdKTCrEInhbWUz0WPQgK\n",
       "4pvOkNm3zIg++Gcnv5n3n9k3Mwvw1wiEtJ3/jmVUa1zqWNJjnzVOavJOc5X6F5VzToMOX2CN62pT\n",
       "r8V1FZ4rX+umOg3xPXzYHXW3NX0kcwglMWKe9J9RpyEuRviGmtKVuVwfjJ+cTNH+SJ0WgYnrKWrK\n",
       "eoprrAHON5VrUV1Yhj8kyTuN62WuGF2/U1f7xEGK7+jnEiS+BPBI43qN624PnN/UdTFwsSZmixU/\n",
       "OQqf4mWwyZTV9Yk7ornPxVx/EVdvF6whgDHInRmJ3ajUFNT5Eja9h4HxWPzf44p7UGBrvZIk75Pk\n",
       "I1vfIVR6OP4wd2YkNtLRZp1vY1FeAMxQV9wtg+5WuQMxLqWQW2sWt2bxpzv7lt+VrftYdFoBtwMm\n",
       "PVlxCufwYQxpXbP4Fd4F77PzA7ZZwuSknPsJlzkAq0VdazBuBGDmbk8W38JprIYz4BenXpejXgrt\n",
       "w7M2cXVT45OFWT3qmsXHMKPcrPpwNgzD2oMFOWpV6Gn/ONAzMLGz/BWg0sydgRyOA7cerbAW2y1P\n",
       "0EqbSwa9W7fVx3yEy8HafOSya22/CaAvqNngkkG/LnNq1xEuzE29BnuTNbs31kfL2xBSh+ZTl8fd\n",
       "MKSV2hZShxv8D85Mm3Kp40CL/wDa8p6gXNvtOAAAAABJRU5ErkJggg==\n",
       "\" style=\"display:inline;vertical-align:middle;\" /></a><br>"
      ],
      "text/plain": [
       "<IPython.core.display.HTML object>"
      ]
     },
     "metadata": {},
     "output_type": "display_data"
    }
   ],
   "source": [
    "elim_zero_left = Forall(a, Equals(Add(zero, a), a), domain=Complex)"
   ]
  },
  {
   "cell_type": "code",
   "execution_count": 72,
   "metadata": {},
   "outputs": [
    {
     "data": {
      "text/html": [
       "<strong id=\"elim_zero_right\"><a class=\"ProveItLink\" href=\"proofs/elim_zero_right/thm_proof.ipynb\">elim_zero_right</a> (conjecture without proof):<br></strong> <a class=\"ProveItLink\" href=\"../__pv_it/theorems/5451bad26a7d827231aaa1adc34cea85438081510/theorem_expr.ipynb\"><img src=\"data:image/png;base64,iVBORw0KGgoAAAANSUhEUgAAAKkAAAAVBAMAAADP89MSAAAAMFBMVEX///8AAAAAAAAAAAAAAAAA\n",
       "AAAAAAAAAAAAAAAAAAAAAAAAAAAAAAAAAAAAAAAAAAAv3aB7AAAAD3RSTlMAq1RmmUTNIjK7EInv\n",
       "3XZ/CtNrAAAACXBIWXMAAA7EAAAOxAGVKw4bAAACXElEQVQ4y4VVTWgTQRT+3N1k/5KakwhCCQj2\n",
       "oJYepGCEGqiiIMJCLh6KFHsQPW2Pgj/xIAhFGqGgqyALeilRk6qgpxAQL/5AFMXTwoqHeix6ECqI\n",
       "b3bGbHd3Nv3g253MvPfm5f0tMBKuoAz6CJ2RGKtySlEI5ftniRW22JujuF8wA7t3Avie48oUcJwt\n",
       "zsvPrXnOLM7hiYuiL1e7CFxnEWrJj7UpzhgN/lIHsFtQ63K1Q4gutHNCVxKMMclfZgXKJvA2R82H\n",
       "Sr4Uc8K6TzBjdWcdxk9gQa5WJJMfguBdjtVTgvqe9TBhtUNWfwFrmWKLBG2qgJPAvRyrC4JzrrmZ\n",
       "sHqtC+MvMB0FP4gQ1RIXVCnBi9AricJYGb8qlp84rdfQBhmrf4AD6ZrhgkqfIu/bjtg1vnmOddtV\n",
       "7ovfbzi1DZS7tDwdBO+D4COLQBcF8nU5XTNc0Nggy+EwWceaFJSnwJGk1VILHSedLYWyNZdOPhcs\n",
       "kK+Yn6FHe+Zl1BR4eCPucBGBToijqcqiYqUAHkzFVQgqLFzPqBesr8ZvrDKhiYn47gecnSp2Ke5W\n",
       "q2ofGqXkcMpXIaiyprpM12h1o88bp1aLpdY4zVD5rCV8pX/wuMmrbiuEoMaSsIPOS85YBdOe51Vv\n",
       "nomlbnFa468WfyStPurtpueXdA1wwfL/7Hdcs+YvRdOIsmWJ3XKTM9NbouYH8jK/Msyeu9zwTTaD\n",
       "9BcuemKXjY/kCGmkh48Ms8MJPDv5HPpdtmxfWBm6d0dQjks534jUBGx7npPYWBWUI+c+c7tPjB5y\n",
       "ymd+jvY68A/Dkp3ss1nNxgAAAABJRU5ErkJggg==\n",
       "\" style=\"display:inline;vertical-align:middle;\" /></a><br>"
      ],
      "text/plain": [
       "<IPython.core.display.HTML object>"
      ]
     },
     "metadata": {},
     "output_type": "display_data"
    }
   ],
   "source": [
    "elim_zero_right = Forall(a, Equals(Add(a, zero), a), domain=Complex)"
   ]
  },
  {
   "cell_type": "code",
   "execution_count": 73,
   "metadata": {},
   "outputs": [
    {
     "data": {
      "text/html": [
       "<strong id=\"elim_zero_any\"><a class=\"ProveItLink\" href=\"proofs/elim_zero_any/thm_proof.ipynb\">elim_zero_any</a> (conjecture without proof):<br></strong> <a class=\"ProveItLink\" href=\"../__pv_it/theorems/ed184e1b9786123c4ac71235ed40934128743bbe0/theorem_expr.ipynb\"><img src=\"data:image/png;base64,iVBORw0KGgoAAAANSUhEUgAABCsAAAAZBAMAAADqGLnXAAAAMFBMVEX///8AAAAAAAAAAAAAAAAA\n",
       "AAAAAAAAAAAAAAAAAAAAAAAAAAAAAAAAAAAAAAAAAAAv3aB7AAAAD3RSTlMAq1RmmUTNIjK7EInv\n",
       "3XZ/CtNrAAAACXBIWXMAAA7EAAAOxAGVKw4bAAAHgklEQVRo3u1be4hUVRj/5j1zZ3ZnKyhLWEYy\n",
       "M3K2IUsyosbMFMVcsD+iBKcsIv9pNoJQwybo9cfqLpXoSmzXisDnjKbRg5bNiC3L2EQr0oFZFUps\n",
       "ZdkwZSXtfOec+zj3np2dA3sXxzxwZr75zu9+j3N/97zuLsAYxVf+Fa6W/1UZLKfGxIQnLpwIfuTr\n",
       "uD8jMmW+rsKnKQQylxMtjpPamKpjWoQqbl0dJYTh0xQILZpQcXM1Wvjwy5/xPCp/iXzc7q2PeM98\n",
       "UaG91y+BbT2oYtSyccLd6G1C4xG+BT/BK6HFPPz9bDVaBFvxy/ux8GNMM+etj6dgpyORcFaGe1rJ\n",
       "qmkjrLvum8cJjUf4JhzDx0po8SpOKJ3VaBHFAWWV92PYXFKD7kFpqXzAG230kjdwI4F+iHeKZpMp\n",
       "2cXDSr5MGwHXTfI4ITF8U6sWvgnH8GnNUHbEU1XXFivJ1x7vadFLasKtbpHPOJXRpiJpAzcSawL/\n",
       "iGh2uS65ODSi5MuyccAJ8TghMXxDqxi+BT/AKqEFrjrD1ZecM8lXznNW+NHFNG97MZmF6LBo9ivZ\n",
       "xfF+JV+WjRVOiMcJieEbWsXwLfgKVpETB8vlH6rTIlEuHyt5TosguliEU9rkPyqSDmjrWavUiwKe\n",
       "GykSWvwtmn3yzLXui8PNAykFX5aN3U6IxwmJ4RtaxfAt+G5WkRYLADZXp0WwADHdc1qEM5yuy/Kx\n",
       "EcnA2Afv6yojo4DnRl4pQfSioNH+0Yt518XFldq52n3ZbMyiBC/T0gTeJySGb7JfKXwbfBarSIs2\n",
       "iJAENGa8IKMFaW/zfmnRgIw9RCL5BoL97l7ckYHFKg8Xw/O07LS4IGjIUiNRcV18hw4/1e6L28C+\n",
       "m+GEeJyQGL6hVQufw6M8/BmMFjE9TnagcQb5jR13Hd4H9zVZx1mbYZ/KDX6j0y3JWrGcmmMMsAnc\n",
       "B39LnrUhaCiBRp87WFwu/1gu/0ykJQBHQfvyGp09jscO8sdRnIisBopnaVlGiiUIXRQ0wRwkS9os\n",
       "x8UPA1yo3Re1wfquw4nyOCFb+DatWvgUTh7LAgu/g9HCXxFXnOtv3ABT4npQt2jRorbi9JXckqQV\n",
       "HW29AW4ribRIdEKxFdYPOp6A70E7C0HzuRvzEaB4yZLTLy45yQ1bnjKdGRcfhdBw7b6oDaZZJqGF\n",
       "lwmJ4RtatfAp3Ap/GT/8zt0vsGgBnnpWsnFrEoFwoKJCi0TBLblbqaMvKhAoiZNIsQIPECktpqpd\n",
       "hMAQJFsj52uc7ynetUHthIC4QSX7/iW66cywOgzBkdp9MRu0pJ1rC48TEsM3tGrhU7gVfprTYs9K\n",
       "sp4ZoK5Pptj57fRb1tppEZ9GstY+OW0sbmyi7TzPVHacuQmcklUMHTrS7mk13yXFMMhu0ospuN6f\n",
       "d/XiMPhytwb0mnuR4llaVn8FenHYFfq1QKZ+Fy3Ok5m8dl/UBvYdwGwnxOOExPANrVr4FA67HuTh\n",
       "z+a0eJnQeleSTkT+nEZn/unxD56w0SLyNfnYme8wuGATrWIpB/WT4JSswnXUkf8Fy068ie2OYhX/\n",
       "4aA71W5IZ7PWHttcRedwOc4FewPFs7Rs+7lDsKMgaHyZWNZNi+vgXajdF7URpOcui5zZepyQGL6h\n",
       "VQufwbPTePiLOC18pKNWU8vb4ll2IDodsqdstIBJpD4E7QCraFQohlrmiR1A22MovUM2OQxIJBcO\n",
       "W2EhO3kNfGhtuaKYxToSefNnbX+6U91y+s1mEug6XUypAY+bDxuCrYHiV6cd2/yPeiY5dniT54Kb\n",
       "Flv2YnS1+qI2SN8R8YiTFh4nJIZvmlYKn8I1fS8P/4j9xXo3PzsIPNfV9TahxfawnRZs8TQA0bRu\n",
       "iAkoOhdXxgD3HczhQCK5cERHx3N0FH3dtvjAlXyD+TstPRSMbFY7FOwe9WRR0KRlFyv6wnOXiOt9\n",
       "5oQkJDWtankFCx+rSQtthIafzEdLbLQItThooZ2Dd7ZBg26IERwc7EsLVPp7UByC/QyIkhNHW2dm\n",
       "gTkiS04wBoy7hHdNaembpRfhJZU3Szwt2euppbJ+FS5W9JXMy16MTUhCUtOKluEcCx+rSQt/LquR\n",
       "+9TOTzzvBvPRN0eLvujZe/FuExwVYQOK280PVPqnovR7oJMDUSI4C8V0kdU57mjNfOPEhExAuM7Y\n",
       "6EpVeLY2vbVQ7T1LtiZcehx8Ifsl75knIqHxCD/ay8LHao0WzfnofsqFVYSO0V/y7I9v7LR49M7T\n",
       "GbzbBEfFYAHF9ny0Dz+4chPqXjsDHIgSwUF7iqH6uA43pegItE+7FphPAi5Ct/Ifa57vkW19L10a\n",
       "UsmVpFULTOpM1deAnQNWmYCExiX8xiYW/kZw/NGen84v2uddGxyH3/apUqc4Ov43miIYktaf4pIF\n",
       "RBykRJyv1e0IAN8ERZROSC6nQvquUXLP6iUhsjTC8GkKAi0eDz/WC7J3IraR5q89BMf0l/41RHox\n",
       "XxHpTLKAFBfSRVwDXGlF2nd1VJ6xrwAFWmSCJ/UxaMFwMrG6FBB1x6decbSQ9l0dlUcWjkaLUR4D\n",
       "D/5PZEoWrpbLtwwey/wHFLo+89iYJGsAAAAASUVORK5CYII=\n",
       "\" style=\"display:inline;vertical-align:middle;\" /></a><br>"
      ],
      "text/plain": [
       "<IPython.core.display.HTML object>"
      ]
     },
     "metadata": {},
     "output_type": "display_data"
    }
   ],
   "source": [
    "elim_zero_any = Forall((i, j), Forall((a_1_to_i, b_1_to_j), Equals(Add(a_1_to_i, zero, b_1_to_j), \n",
    "                                                                 Add(a_1_to_i, b_1_to_j)), \n",
    "                                      domain=Complex),\n",
    "                       domain=Natural)"
   ]
  },
  {
   "cell_type": "code",
   "execution_count": 74,
   "metadata": {},
   "outputs": [
    {
     "data": {
      "text/html": [
       "<strong id=\"term_as_weak_lower_bound\"><a class=\"ProveItLink\" href=\"proofs/term_as_weak_lower_bound/thm_proof.ipynb\">term_as_weak_lower_bound</a> (conjecture without proof):<br></strong> <a class=\"ProveItLink\" href=\"../__pv_it/theorems/afe1a6ce3aabd65900e25e56c1950fce782b24560/theorem_expr.ipynb\"><img src=\"data:image/png;base64,iVBORw0KGgoAAAANSUhEUgAAAyQAAAAaBAMAAAC0vIV3AAAAMFBMVEX///8AAAAAAAAAAAAAAAAA\n",
       "AAAAAAAAAAAAAAAAAAAAAAAAAAAAAAAAAAAAAAAAAAAv3aB7AAAAD3RSTlMAq1RmmUTNIjK7EInv\n",
       "3XZ/CtNrAAAACXBIWXMAAA7EAAAOxAGVKw4bAAAHeUlEQVRo3u1afYhUVRQ/O/Pm673ZmU1LKmGZ\n",
       "ssw/2m1Ik7KwEVexRByyIlJ0JCM0kFkQZCuXCaKCtlwyydnCniambjmTX/lBy6bEZmVMspakE29T\n",
       "srSWZUOTlbL7+ebd97Wzf8yY6IH7PJ57vOfe87v3nHvuCDAM1RR/hOtUNYoUjw6r478S08q4dQdY\n",
       "u1rJYe5ptvCJ/0dIlKRr9y+sXa3k02zFC9nKJ0Id/us4N0hq8B+eeDUhcTPpydNWQdp6pKLDnzIL\n",
       "5PcL6IjEOSQzsOw5N0gkvGn96WpC4mZyM2uVpCUVHd2vEhyeMUgS6LOMQ/Iyjm7tbpAE8UFqqWrg\n",
       "cjM5nTVTNLA/Uj6nwz3PVXuwPLXyTFk6vAnyR+fPuiQaQ59JHBIMmRJzzSUIPthR3VziYrKbNVM4\n",
       "sw/QDmKARjdt31BZamWasnZ8za4xJ1QmWISZsMog8cbdU7if3gFS1YXE2aQnRVslIVEKlYWEhywv\n",
       "x+Rz4uk4gwSOFIvfuEMSLhZP5qsLibNJKU8bNHe12q3bQewESWDsGc2i7a/vi4lqSv/9NoPaSx0h\n",
       "6TrFLvef6l1LaL5c3D8KjVbHIZkF0OEOiZSBkFpdSJxN+uO0+XrgA9Um5tiLHSFZkA4NWbRzy+S/\n",
       "BbXAUXjEOqi91BGSVTGJ5ezJpTyzGE9WvqDm0uBNcUiaIYCSqUzhythBgvqbq1yXOJusjdH2cRzm\n",
       "2KzbQewEiXwIJBSlPhK171HhO0GtNs8FRjV7qSMkJyCsUQ/fXYJkKYbEM4S7PN0ckpCKGYX+u+MU\n",
       "/t7d8FBdqVTsgN2VhECejefV2pg2lIrE5KtsV3lOLBnDFxxO0jYXrxE+JFlFQmEOxV88YyKWD9yg\n",
       "imKR5hSL3xaL32OVAexY6BK1ZwJcEtTm4uGstpB0OFOlDmlI9/BqHa3FZM1SCqJ5CA5wSDyamN3f\n",
       "umUt3KaoklqCpLFi2b1hz7TlaAvsSuN7XcoACTFZk2fz0fLKiyZIDoN8HoL9BdNWJGKJbP1yTkm4\n",
       "HXJJm/3sGxTUDqNmZwvKMcU6wqVKYwFP770qP26LYuDTTwmkpgqwzsLVvJZQDA8qfq9WATiCfdlk\n",
       "RIHPkN/l00m5m98NycSIyXCGzUfTvNvFwCX/C94BtFyTm6g4mgxcLA+SnAYPW0PMIN/STA2NCra2\n",
       "oBxTrCNX6m8wXYJRWYJOHBqfQ7IDFQG+PmLkdIxW+xPubDVCooyvRHZvQg6PRGAKnmrgWKDAoiaF\n",
       "hJhc3X8rnY+mRTaxzpBGmjwINam7rG4iYq9aNiQxGONJL6wTtS/ilGRU+wt5yGKLSMswxTqiaMgk\n",
       "9jDAA6ZSMZpBOQ287TokL6EJbY+SiOhJyeR4TVA2zjdAEvgCr3bnOR7sDawhI5SEXfq565pqk71P\n",
       "kTniNx0MyVlUywZnq+iU9BggISb/VE/T+Wj5Fv4whK6KpK2HhkTC6iYq1isLjtQF/smlBF+HNE+v\n",
       "JGtD4iCj4R0ROXSx2mu1RaRmU8SCYIp1oOuWkpFISTXb9KBSEw8lyNWeQ1KDdusL5CxtUxK0+p8A\n",
       "id+NL8E3o/ZJejV3uYEtUUlYm2wDM2egY0FSfG8luCiB9XHwjSaVoTGXEJNrYDKdj/bIPj3cFWjb\n",
       "cO61+ozVTVQMb6qiuJd/ahPijat+b/NvgY0mr27YFRchUXZOVa22iNRiilgwmuIdByaexR7GHjDv\n",
       "5rHTibN0SNjuopd+79Js9m0ESaffCAmJM4Dc26Jy1tc4wxSHcH+I7p4tTBFxFj2pXc4AujyQ56OI\n",
       "9F47yKMw2zoubX6c/wqm0flo2m79zee4fjG0ie+8AOwYUfUe0py0jWr2toY3JXTgkipQsNVbBQIk\n",
       "8hCpSKLpYJ6eEl+jGZIvoQ+CDSpnw5ATR8RCzpUUrXph5vDJ2Ww2Fokoj9nVJZQG4CCdj6Y9sZ/3\n",
       "TmJNdJP4trcCVo7k2TG3xUl7nh0kgtrwpoSOKNp3UtzpPdUIiSeVkNHi21glfx/o/uWQoHp2zTao\n",
       "VTkbADEmEaEHX/ABV75EEXNmPTIpL/LpG+SURHzz1UBTU9MMO0h+Qhmvg+YSZZO+pdO0iW4SKLDu\n",
       "9UdHctEYL5WjZWtrpKba9CduuUhIL87xc7xwSurTwYMEhxakE/whTX+4Mp6SnuD5KdjTCDrCwlrM\n",
       "duofLPTcgblnQWGKmEN6Bq1O8Cchv3Iz0AcTdAnen3A8Ja/00/n4lj8vN/FMgxO+zO74gT2X7MJF\n",
       "+PLlgZH4acOZMpTsbY3UFN7p79r24G0m5BK8C8gTpbwvu9b0oELp8XvPxbGnEXSElTKYbUsHe/CH\n",
       "Cddh2QqUx6gi5pAetMWoFvrEAtNRUnwQ7y806JO/5jfNtEBi/O3dPB+UdFi7Kgl5OGL/0xzaFpGT\n",
       "Jkie9j/VbfvsaHxhUgl0mPZHdBY4JxdijCspYj0o/SBDuZvwvTybTcK1RbYeNpERkrh0Wh0GkuAf\n",
       "OxB0VH75H84SPNnFTaVcSZHo+fSBGVeAa5JsPewCiQOwlv/HFbdj3TmvyEVuT8B1sqVI8dAVseu5\n",
       "8brvnek/ldmXY0cqan0AAAAASUVORK5CYII=\n",
       "\" style=\"display:inline;vertical-align:middle;\" /></a><br>"
      ],
      "text/plain": [
       "<IPython.core.display.HTML object>"
      ]
     },
     "metadata": {},
     "output_type": "display_data"
    }
   ],
   "source": [
    "term_as_weak_lower_bound = \\\n",
    "    Forall((i,j), \n",
    "           Forall((a_1_to_i, c_1_to_j), \n",
    "                  Forall(b, greater_eq(Add(a_1_to_i, b, c_1_to_j), b),\n",
    "                         domain=Real),\n",
    "                  domain=RealNonNeg),\n",
    "           domain=Natural)"
   ]
  },
  {
   "cell_type": "code",
   "execution_count": 75,
   "metadata": {},
   "outputs": [
    {
     "data": {
      "text/html": [
       "<strong id=\"term_as_weak_upper_bound\"><a class=\"ProveItLink\" href=\"proofs/term_as_weak_upper_bound/thm_proof.ipynb\">term_as_weak_upper_bound</a> (conjecture without proof):<br></strong> <a class=\"ProveItLink\" href=\"../__pv_it/theorems/b243fce50e0f16e32deab5c1b03979665b93575a0/theorem_expr.ipynb\"><img src=\"data:image/png;base64,iVBORw0KGgoAAAANSUhEUgAAAyQAAAAaBAMAAAC0vIV3AAAAMFBMVEX///8AAAAAAAAAAAAAAAAA\n",
       "AAAAAAAAAAAAAAAAAAAAAAAAAAAAAAAAAAAAAAAAAAAv3aB7AAAAD3RSTlMAq1RmmUTNIjK7EInv\n",
       "3XZ/CtNrAAAACXBIWXMAAA7EAAAOxAGVKw4bAAAHfElEQVRo3u1afWwURRR/vdv72r3eVRGCkjSn\n",
       "KPKHrRdBoqh4hJYAhnARNUYInBFjxIRcExJSleZMjJpYpRGJXDW4IEGgyp0gXyU0FWIqKuYkoES4\n",
       "ZCtEFKRpakBSojhfu7ezO7u9/nFFAi+ZvXdvXufNvt/Me/PmCjAEVRV/hhs0YhQpHhlSx381ppVx\n",
       "6w6wdq2Sw9zT7MUn/R8hUZKu3b+ydq2STxOKF7E3nwQ1+Ot4N0iq8IcnPpKQuJn05GmrIG05XNHh\n",
       "T1kF8kcFtEXiOiSNWPaCGyQSXrT+9EhC4mZyE2uVpCUVHd2vlvgJ5CX9CfRYqkPyGo5ubW6QBPFG\n",
       "ah7RwOVmcgZrlmgg3lI+p80931V7oDy18kzZOrwJg31kDvmIxtBjsg4JhkyJueYSBB9sH9lc4mKy\n",
       "mzVLOBMHaAcxQL2btm+wLLUyTdk7vtWZ8530czHeN2GVQeKNu6dwPz0DpEYWEmeTnhRtlYREKVQW\n",
       "kudYCtmv9+wnno4zSOBwsfidOyThYvFkfmQhcTYp5WmDpq4W0Xs7iJ0gCYw7o9m0/bW9MV5N6XtA\n",
       "MKhY6ghJ1yl2uP+CIjLXiGjP9t2MRqvRIZkF0O4OiZSBkDqykDib9Mdp8/XAx6og5ojFjpAsTIcG\n",
       "bdq5pfLfnFrgCMy2DyqWOkKyMiaxnD2FIDLGSBfyRTWXBm9Kh6QJAiiZyvR4kxFBgvqbKg2DzEPi\n",
       "bLI6RttncZgreG8HsRMk8kGQUJT6lNe+V4UfOLXqvC4wq4mljpCcgLBGPXwP+V6CxDOIuzzdOiQh\n",
       "FTMK/bvjFP6jO+HhmlKp2A47K4yIdyy01KdNpSIx+QZbVZ4TS8boLxxO0jYPvyN8QrKKhMIcir94\n",
       "xkQs77tJ5cU8zS0Wvy8Wf8Qq/dix0MVrzwS4zKnNw8PZbSHpUKZKHdKg4eFV1MtG4JJSEM1DsF+H\n",
       "xKPx2f3dW9fA7YoqqSVI6iuW3et2TV+GPjpm4XNdygQJMVmVZ/PR8sorFkgOgXwBgn0Fy1IkYoks\n",
       "/XJ2SbgNcknBevYNcGqHUBPZgnJMsY5wqdJYaEnvaFUsjoHP2CWQmsbBOgtX81pCMV2o+L1aBeAI\n",
       "9maTEQV252H5bjS/buNsiCdGTIYzbD6a5t3GBy75X/D2o9e1uImKo8nApfIgyWnwqD3EDOhLmqmh\n",
       "UUFoC8oxxTpypf46yyEYlSVox6HxdUi2oyLA10uMnI7Ran/iXS1mSJQJlcjuDcjhkQhM1QLH8DYu\n",
       "sKhJISEmV/XdRuejaZGNrDOkkSYPQFXqbrubiNirlg1JDMZ40otqeO1LOCWZ1f5CHrLZItIyTLGO\n",
       "KBoyiT0M8KClVIxmUE4Db5sByatoQtuiJCJ6UjLZXhOVDQtMkAS+wm+745we7E2sKUGXhF3Gvuua\n",
       "JjhQnSJzxHc6GJKzCfCOJrukxwQJMXlePU3no+Wb9YshdFQkbR3UJRJ2N1GxUVnoSF3UH7kU5+uQ\n",
       "5jkqydogP8goeJ9HDh2s9thtEanVFLHAmWId6LilZCRSUj1mulDB6b4qHkqQo70OSRWSvkz20lYl\n",
       "Qav/iZD4w3wTPBa1z9OrdJeb2BKVhNXJVrByJjoWJMX3FoKLEliHLHpG4crQnEuIydUwhc5Hm73X\n",
       "CHcF2tafe7M2Y3cTFcM7Ki8+qj+qE/yJq3ZP0++BDRavrv8yzkOi7Jim2m0Rqc0UsWA2pXfsm3QW\n",
       "exh7wLqax80gzjIgYauLHvq9L2az7yFIOvxmSEicAeTeZlVnffWNljiE+0N09Wxmioiz6UltcgbQ\n",
       "4YFcH0WkD8k2CDZCy/i09XL+G5hO56NpO40T43HjYCiI73oB2D6s6j2kOWmb1cS2hjbFdeCSKlAQ\n",
       "6q0EDhJ5kFQk0XQwT3eJr94KydfQC8E6VWfDkONHxEKdKyna9cLM4VOy2WwsElEeF5WKlPrhAJ2P\n",
       "pj3ZqfdOZo13E3+3txxWDOfaMbfZSXu+CBJObWhTXEcUrTsp7nSfaobEk0rI6OVbWSV/Pxj+1SFB\n",
       "9ezqrVCt6mwA+JhEhB58wAdc+RJFzFn1yKS8yKdvk10S8S1QAw0NDY0iSH5BGa+d5hJlo7Gk07Tx\n",
       "buIosPatOcM5aEyQytES2hquqVbjilsuEjKKc3wdz+2S2nTwAMGhGekEf0rTH67Mu6QneGEq9jSC\n",
       "jrCwBrMdxgMLPXdi7nlQmCLmkJ5JqwP8Sciv2AT0wgQdgjsTjrvk9T46H9+yl+QGPdPghC+zM35g\n",
       "12VRuAhfudI/HD+tP1OGktjWcE3hlf6BsAcvMy6X4FVArijlvdk1lgsVSk/cdy6OPY2gI6yUwWxr\n",
       "OtiDH0y4FsuWozxGFTGH9KA1RrXQIxaYgZLiQ3h9oUGf+i2/caYNEvNv79b5ALSwdk0S8nBE/NMc\n",
       "WhaRkxZInvE/3S28djTfMKkEOkydEYMFnZMLMcaVFLEelH6QodxoXLJns0m4vkjoYQuZIYlLp9Uh\n",
       "IAn+uR1BR+VX/tFZgic7uKmUKykSPZ8xMOMKcF2S0MMukDgAa/s/rriIdee8PBe5IwE3SEiR4sGr\n",
       "Ytdzyw3fO9N/t8ySUj7a0TYAAAAASUVORK5CYII=\n",
       "\" style=\"display:inline;vertical-align:middle;\" /></a><br>"
      ],
      "text/plain": [
       "<IPython.core.display.HTML object>"
      ]
     },
     "metadata": {},
     "output_type": "display_data"
    }
   ],
   "source": [
    "term_as_weak_upper_bound = \\\n",
    "    Forall((i,j), Forall((a_1_to_i, c_1_to_j), \n",
    "                         Forall(b, LessEq(Add(a_1_to_i, b, c_1_to_j), b),\n",
    "                                domain=Real),\n",
    "                         domain=RealNonPos), \n",
    "           domain=Natural)"
   ]
  },
  {
   "cell_type": "code",
   "execution_count": 76,
   "metadata": {},
   "outputs": [
    {
     "data": {
      "text/html": [
       "<strong id=\"term_as_strong_lower_bound\"><a class=\"ProveItLink\" href=\"proofs/term_as_strong_lower_bound/thm_proof.ipynb\">term_as_strong_lower_bound</a> (conjecture without proof):<br></strong> <a class=\"ProveItLink\" href=\"../__pv_it/theorems/a26eb7dec7efe144680cb565440d4f47bdee55b10/theorem_expr.ipynb\"><img src=\"data:image/png;base64,iVBORw0KGgoAAAANSUhEUgAAA2sAAAAZBAMAAABdmav0AAAAMFBMVEX///8AAAAAAAAAAAAAAAAA\n",
       "AAAAAAAAAAAAAAAAAAAAAAAAAAAAAAAAAAAAAAAAAAAv3aB7AAAAD3RSTlMAq1RmmUTNIjK7EInv\n",
       "3XZ/CtNrAAAACXBIWXMAAA7EAAAOxAGVKw4bAAAIAUlEQVRo3u2aDYhUVRSAz8682TfzZt3dCKyM\n",
       "lrFMjXRbsCRFbEotfzCHJCgVGUkJjeoJQqyVjiGlsLlLtdhK1NMkzS13/Ct/SMwQM9O2XEtWJ57u\n",
       "gqnssmz4w0pu9++9d+97d9YZeCMseuDOnDnv7Dl37nf/ZwF8kgcyOtyRWyIdmZhvsZK3tuqlmVRf\n",
       "j1VW+quoWa0dpwCCVf0VWzTR5+NzrPRXCZlZrbsItnL8+SE/sPkVKUdsRfgtIO93gTQtBZSvjxU0\n",
       "fJs0X5uNbRK2veoHNr8i5YhNweOtWL6gfsVKIWV+QaMXG7J82EqxrcBzZp0f2PyKlCO2MB7d1fKn\n",
       "E1hxzTHyoTkzWw7pAztId59R87HKUgXjbks3s1JsGGA05gc2vyLlurYtQm/b5U8PsOKaOqULBlRm\n",
       "yyF9YAUJ9fQZNR+rNNUv+EV7xSHew6wUG96VFPuyJfErUq7YRmXdCAWStBQSW7S5sNgosMa/7S/c\n",
       "zKwUGxzLZI76s5P0KVKu2EoymTPybYeSpgUW718maTT1/vNmPtgEfytIccXZmIgi2vmkBJDcmhXb\n",
       "/jZ2sNnGDjqnDT7fNhvbZIB1/mDzKVKu2JQURAz5el5FS+gwfGF4G22OHunJB5vgbwVpWqRdFTvD\n",
       "HzBF0kWk1qyp3o0pbHcw2lrkWgwu32gb22JQ0eKu0S2Z+wzLFsZhAJtsWxhMOTYaqZCS5rGhZIvl\n",
       "bgNitHxTBdO9o037CZTmPLAx/01iyz9mwHHBMCDNDDlYs2I7DSUmpTDC/pv5upNvhI0tYuCja5QG\n",
       "PEW7SMsuGEcIUPRB5LDfaZSUYuv7LnHYaKRCSOD0/IGm04vYcXsd/grv14kuWEoStMzA7QBfklVO\n",
       "QVMqmsXRt1K6cGM2bhuEzdMzmV8zmd+9KZ0H1J80gBMEngW4Lhhm4FHhzkWs2r67DNGaNVWPTaHW\n",
       "2YzMM+x8tTa2gCnuI9bcVw+Do4ZiONjWW2uGFSgNWyhPM1TnYHNH8klwhcx09G0PtkqctCgtuvDY\n",
       "joB2GcKdrs1DSR00JVCo6TmONurvHjCnIdQtGI7gicidi1gVe3TfbLSVOOenOQ62hYadb46NDZLj\n",
       "heV8Mr7rMONRcLBNYs8iltMiqH6OpEnBVe5yS4zkk5AKmWZwqwdbcdAkVRBcuElSuwHBLtRWrqZs\n",
       "MuEpgMuwPJUbNurvxtZtDQ1r6r1BPrhyEWtZQr2WG7Ym5/lIO+E83ck30sG2HR2AQmdJkvYYvVUZ\n",
       "/vAyHhuqy9xyC9vWZ8hxacU9SF9uwEEOG44EjeO/tzJyqiOOMdpm13K/BDizkQqZZulG2DmxZWKC\n",
       "wxYdirphbecgzoV1L5MUrRuKksO82GIwMKCPzR0b8Z9bLrb8Nbxy8oZ/USt6chFr0MgVWxkKmcAU\n",
       "AMbYWxKdyzfGwfYOqtDWMjL7BpIaATU8umG2g01Ngmb2WNjiQwGGoPcl96I2M+AEhw1H0v4KWwOQ\n",
       "Ux3hjCfD1pF4QKLGu6+gNlohM13d5hlt6o9I6TDaBRfysJyWz2FkPO5pyogZaMHT/Q+unccVjCjJ\n",
       "FO4B8acNwLX83fCJaEAbxt1ebMRqH/KsMXiFz8elQtvIaEohR85prgMAzTfNwVaEet1SMia3ROP0\n",
       "+mU4xC842ND6pW5oZtg0YyfAy9i8sR5jO85hw5GUOIKhkoMAUV9oF7cpxEjiKnVaijqiL7c5VDlJ\n",
       "xIZsAFPZfZA5ZQ94sAHqOPAxjBZcyF63mZb1lz6oSHknrordi/9BDq2uta0F95U4U3ie2J82AMdj\n",
       "/c4q1/l7x3jDi41Y4UNDtLYI+bg67Bt1EVPAfZp83moft2m+kw42Ip+zA09wYUPDRwhbY7GDLVBO\n",
       "5pwpDZ81NFSRk/pq8nCcjibJbg4b3Q6UlsN7rbZ6QOsSaBCjvXGgjnAIfYImEdshNkmQCpnmrpgX\n",
       "G5af4WnBxd6KnbIXB/l9RrWR1y1JxMwyzwkGeS51XV63JPjIqZJA2gnRDVt5bFoPmejL9HCajrZQ\n",
       "pYMtjF6bNttbkqt0koRHTPeWhKwEemSsAa22qofFy0FifNQkydBLqxVSBdc8iQOPigOtkGm+uNd9\n",
       "bqPSBQcFFyKPsyI2pXCRq8ZVPZ+rZNIAsttgwSDPtQTeyucqGTeMIvXEVh5bIBnX0JevYfccTwCc\n",
       "FbckQxULG8bQiY/x6G9LzVC5e7TptTMJtkamRhJIRcHZCzE+GEdacQJhQI7IvADQDqie86I2dWmS\n",
       "VQjt7je6b0motAbrvC4RnRaxKQWpXrXSyGdDO1TJ6YApy6V+umpqPqlqsv60ga3CaKvQwwcJq2o0\n",
       "7MJ/6lDEYVuLptbzFjY8xyHDBTIj7Ws3XNhCEyp3kEFUE6PqZKyGD0ONjl+oMZJCmjphPOGLEi9B\n",
       "U7qSwhr10pktmKYVCr3xmjYxKcW2slPigjcpGjsDqd9dl01Nv/X25nUOIQ1wM5HnKunt7con1Vna\n",
       "5BJZ68JGegpZtrQ9DfWOjX712fy5Dc28qEVWx7yXW5zguY96RA3TUsE2fhuwtFaaGMneUksD21aU\n",
       "cFfIxsb/L4nXZRkr/VIQhVLpz7/Y2nHIhW1W8Uue36goNkV3bkkW1Difs2JbczQGIToO3+xttlQ8\n",
       "FqkWucg07AizSG/o/Y9ptDL0EAC3n0gouEXAVqW0G3JssNexPD+VLH19YyOxZapMg6ps2rkhtyE2\n",
       "CYU+scmEDStNtMrivl6A/5McHIc74pWOM1X/A9JN3o3pfBowAAAAAElFTkSuQmCC\n",
       "\" style=\"display:inline;vertical-align:middle;\" /></a><br>"
      ],
      "text/plain": [
       "<IPython.core.display.HTML object>"
      ]
     },
     "metadata": {},
     "output_type": "display_data"
    }
   ],
   "source": [
    "term_as_strong_lower_bound = \\\n",
    "    Forall((i,j), \n",
    "           Forall((a_1_to_i, c_1_to_j), \n",
    "                  Forall(b, greater(Add(a_1_to_i, b, c_1_to_j), b),\n",
    "                         domain=Real),\n",
    "                  domain=RealPos),\n",
    "           domain=Natural, condition=greater(Add(i, j), zero))"
   ]
  },
  {
   "cell_type": "code",
   "execution_count": 77,
   "metadata": {},
   "outputs": [
    {
     "data": {
      "text/html": [
       "<strong id=\"term_as_strong_upper_bound\"><a class=\"ProveItLink\" href=\"proofs/term_as_strong_upper_bound/thm_proof.ipynb\">term_as_strong_upper_bound</a> (conjecture without proof):<br></strong> <a class=\"ProveItLink\" href=\"../__pv_it/theorems/59368cd8cd1fc99f4783115149b12f2cd582418a0/theorem_expr.ipynb\"><img src=\"data:image/png;base64,iVBORw0KGgoAAAANSUhEUgAAA2wAAAAZBAMAAAC/RbCNAAAAMFBMVEX///8AAAAAAAAAAAAAAAAA\n",
       "AAAAAAAAAAAAAAAAAAAAAAAAAAAAAAAAAAAAAAAAAAAv3aB7AAAAD3RSTlMAq1RmmUTNIjK7EInv\n",
       "3XZ/CtNrAAAACXBIWXMAAA7EAAAOxAGVKw4bAAAIBklEQVRo3u2aC4hUVRiA/52587qz7m4F9pBk\n",
       "LFuN2m1gbamwbUot3VCHJCgVnUiJjHIEIdS0MaISNl0qqRWpq0mZljv5KB+4mCJmpmymJasDV10w\n",
       "FZdlo5SVsv+87uvc2b1LdwXRA2fmn//8c865/3ce/zkzAD6lOwtZuJGuSiorHPatrszV7nqup+II\n",
       "z9dqKtL3LH/wmmsVWzzdY/Epnq/VFNJd1dP4k9dABfl4tx/Y/KrJI7YS8hZIupYG8iz3Y/rqYL9W\n",
       "f9qpUFe24lRLCmxjiO4lP7D5VZNHbAqZb2H3DfULnvszzejX2sOapEnhyyyBbTFZSRv9wOZXTR6x\n",
       "RcnsnudeOopnx8rjPjWLqAEm9ajt8mbmrSmpIJhympQn8GWEwEawxhN+YPOrJq97G4482Oheuotn\n",
       "x9LpvmEUUQNU96QNdXsy89iUXPCTKVbSJWU6mX+lGscWRM5hX0ISv2ryiq2maCAUyLDcn9jirf2L\n",
       "7UVDerSevu2kK2WSY4ODhcIBfyJJn2ryiq20UDjhHnYoeZZhTssiN98UURfzfGTQGV3ShgefTDgA\n",
       "tZzOyV+OdzzUF2yG+bei6MJ29v5Cx81YXCGwjQVY4Q82n2ryik3JQUxz38+TLIf2wWea7Jsi6qLY\n",
       "pmZj3ZK2eZZ60W62MKE0SmaRwzCuD9hM81oeQO7kJerfWnMWghmBbQ5EcHNXWUjmPMPyjXEYwJeG\n",
       "Lgq6OzZW01XDho3NcS8ckGD56ySMd/FNEXUxbOoeUFpNB3DtAxocsmM7DqXypByQF2aesDHzKEr3\n",
       "M4zjRawS6CbVB3YJbDGNCHH2vWPM+MgWGEkJsOETRIMW0yk5xZB3nLdgYzX1RwocnzFQl47bK2AL\n",
       "wDuNsklpmuWJxJfwOd3lFFxScRUnT0XV6o6bNLvansYXCj8XCr8Qk07iTeYAU/skwGW7GZmRaq3j\n",
       "yxOxkd6asnZNYx4GWEaLBhohnpKB8jxEOwW2gG6PI5bevhyGxDVFM7GtEl8V4Woe1jGeeqjRxOas\n",
       "yadEOqTn4wskbNWk0ZK8bCKw7Qf1L4h2tDqGNFUrdAp5mW2ljdCclrTHIdTlNMOOXHCY7adu67Up\n",
       "s2siTXVgw5EzPQEhY7ZBps6Gfiy569BTcTCxjeFlMWE0C+Y9Rbuag4uWyy17TT4l2iFdD26QsIWD\n",
       "Ou2CZMIXSfVfCHaiSxzYmLo8HbnkDVuzDo/J2i42vWxmmKrsZtgWeGnK7JpIVY5FEo9tOBXxWQS2\n",
       "jXgACp2k32pPsFuV4fcssmLD555WIbBteIIelxbfivKbGuy2YCM1wfq670XTFtFMpjJ+2niKFhfg\n",
       "XEc7pOtla2Du6NGj0xZs8UpcEZZ13GEx4cNLp1ntgpLMMBkbVQc1z9gSMDCQnVZh114iW6RVUY4f\n",
       "005s8Cf61kNTooCYUw/Dw46QpDyHeywEGw1sb2CHNpTT1TeQUSmo4fHVU0xskQyoerfAlqoEGIrv\n",
       "c29Dn2nwqwUbqUn9PSomoEW03K2ZyqNRcSQekG6Q4wqmYx3S8/NOS7Mt8gOJj7V2yQTDZJo/hapU\n",
       "SsLG1cbJS6ibMyRe44LF8zE9cERhDrBob4GP7AoMI+M5CRvGhVs9NCUKqDnxMDwt/HXhHH0vScZS\n",
       "9FgjsJXgMjOfNrcunmK3LMMhddbEhvtXZHUrx6ZqmwGeJ+o1ywm2QxZspCYlhTAi9CBAxWfa7WEK\n",
       "VdJ6lUY1xwyxt2tD1WPs2FAHUM+vffRx26RIEgAHDnwItZJJtJXlVeffHZyTsTE1vK85ojgSNh8R\n",
       "giWSHLx1zh/MARbtqs1JxzlhR805aZGE+KY6zUNTooCYUw/DUfO4TQ9u6qBRdCwb2PgIZAee4MtN\n",
       "TR8gtvVhE1uggq4545pWNjUl6fl9CS0cmcVFssuCjYUDZRXwVpsh7lI7bf6mSiNwYIawFz9Bsx3M\n",
       "Xn45Rzuk61sSMjaSfoTHZZNjRlAM8t4mDtEr+nRLEtOLXX/YFFVu2t6bsheghyOt5sda8758Idiw\n",
       "qd30xFaejebZbAtVm9ii+Nq81ghJLrJFEu7VnSEJnf/Z2CMatBliNmq/HKTK+3TaGL60iSoj4Fgn\n",
       "ScU1KWAd0vVnt7tj64TdsskInu3Y7Pe1c+H1vlwlUwe43hFPcsU2qU9N2Qvw0ZVksTtyK7ZAJqXi\n",
       "wzfwe44HAU7aQ5JKRWAjGDrIGMCKy/RQhXO2ZZdNotjWczGWRhEr5y9UeVcKpXAa8sQQ1TMBI6Dl\n",
       "Fiumi8zP8A5hdL/GHVsb7tKSSSzLsh2bLUU+ea++LwFtpeLJrMqHpoiH3X/aID+w2Gbb4Gx0N2U1\n",
       "D6dd9LcslFiwfYxL+RmBjaxxqDhLV6Qd7ZoDW2hU9SY6iRoSTBxLxOg+aMiSF6aM5VCKjKqjfLHh\n",
       "ubgtKDkiMass1wXzrEOh115RR2dcsb3d4WJCghSVnygj3112W5pKr1zp7IsvqQN6TQtmt/z/priH\n",
       "XRIZira9jYxKuqiq25qWmzr26FOs57ZwknhkSUK+3LIksvYxi7imCxEM5TcBIbWxhjFtLxMSGLqS\n",
       "tLNDBjbrf0lkk0U8X5MJPVzm/vMvDp2yEw5sk8PPSb9RMWxK1rwlmdlgfi6KbekBPNCzeTj7SqsQ\n",
       "yVxkUuwcl4ghTKZ9vfIPl1hnWMQF12Ga2dCriRVbUmnX3LGBJRyYUE+3vp6x0RDQTXSTIFlMOjX0\n",
       "esQ2ob5P2NwSn1aqXev2c8mr/fA/ySEpuJFc9r7Cnv8AWFm8a/KHr3YAAAAASUVORK5CYII=\n",
       "\" style=\"display:inline;vertical-align:middle;\" /></a><br>"
      ],
      "text/plain": [
       "<IPython.core.display.HTML object>"
      ]
     },
     "metadata": {},
     "output_type": "display_data"
    }
   ],
   "source": [
    "term_as_strong_upper_bound = \\\n",
    "    Forall((i,j), Forall((a_1_to_i, c_1_to_j), \n",
    "                         Forall(b, Less(Add(a_1_to_i, b, c_1_to_j), b),\n",
    "                                domain=Real),\n",
    "                         domain=RealNeg), \n",
    "           domain=Natural, condition=greater(Add(i, j), zero))"
   ]
  },
  {
   "cell_type": "code",
   "execution_count": 78,
   "metadata": {},
   "outputs": [
    {
     "data": {
      "text/html": [
       "<strong id=\"strictly_decreasing_additions\"><a class=\"ProveItLink\" href=\"proofs/strictly_decreasing_additions/thm_proof.ipynb\">strictly_decreasing_additions</a> (conjecture without proof):<br></strong> <a class=\"ProveItLink\" href=\"../__pv_it/theorems/7a8d2c92814ba5bf035d01ebd4f16e844fc155d00/theorem_expr.ipynb\"><img src=\"data:image/png;base64,iVBORw0KGgoAAAANSUhEUgAAAxwAAAAZBAMAAABJDDUVAAAAMFBMVEX///8AAAAAAAAAAAAAAAAA\n",
       "AAAAAAAAAAAAAAAAAAAAAAAAAAAAAAAAAAAAAAAAAAAv3aB7AAAAD3RSTlMAq1RmmUTNIjK7EInv\n",
       "3XZ/CtNrAAAACXBIWXMAAA7EAAAOxAGVKw4bAAAHDklEQVRo3u1afYhVRRQ/+959X/e+fbv0RSUs\n",
       "ry8TardHmuQW2y1XsUJdKiJScssk9I96ghBraS8ICtp0qUSfxXaLiHTLXb/KDBdLxKyszdYK7clb\n",
       "lCxNEUONjbQ5M3M/Z+59b6P3SHRg7h7P/HbOmfnNnJkzK0CJUlP4ES6UqpRUYXdJTLTKPh39KbA5\n",
       "y+u5WuS+x/jAx/7v6NgYvIDSrJ6z5RGpNlJkIx8L9fjPa4LoqMEfoUzV6Ajy6AZeK1fUNwcqGpCE\n",
       "eVy1i3wOmHRMQtUTQXQobfgjWzU6AjxS21mtZInqFe1+nqB5HI0anI7nMXR1BdERx+XaUb1gFeCR\n",
       "kmHVU+6Xd+WjhkgmCF2XLgtWnimxYZwAOUFqWOd0IC9aOvDsQELXVY+OAI+SvHpKk7wrHzWEikHo\n",
       "WUZZsPJMiQ1Jw/aDhoDIMH6/5HSEM8HHdZSd9+3VoyPAo9G8VpKOLVBROqLWngsPUmY0elbN5nTA\n",
       "rkLhq2A6koXCz31VvFn5e3Qvr7FRh4qSMfuofemY379YRD967CIPrP9ATtKpXOtHh3bsVi7Um4f6\n",
       "PrZPog1DJBSsNemYArAymA4lBwmjinT4ezSb15nZxLBkzD5qPzoiO+Atw4tWTxm9WRdsUVrpEjuV\n",
       "a/3oiO2Gu/me4HGmZz9H9M5TTwOMN+mYDzFCmMpcyMnoIO3zq5l3MI9kZTer6jZQBsQx+6h96fgg\n",
       "A1OtkZvo0DAkiy7YPlPh6lSu9aOjtg++AYhjr1upYsH3JuImA5tuNOlIGBq5yWqsb5YSxwY3wu31\n",
       "dhq4skRy9u9L40d3PinQQT2Kz5VAtrOqHMfxqeOpbmqh8HWh8B2Y6p61V7rVnssZibwkGuLopuOk\n",
       "spE7OmmHuj4nTMENJ9pCbQlTjobpdBfWktUeP06fnh6zQJMB/gJYatIRKrrPzSVXLIOrNEMxbDqa\n",
       "KnKSx4fybSkNPu7z0sE8GiWBcDqSXdDbBkuOepYgU+u45MvaHTtBPSlbx7PSTlgSY5LMFpRhymzY\n",
       "ad+yt3ro2AcRctWdadIB7S2u1TMFc+KirjkeSaLhYgXoaCVrJZWC5qLwSEI9+kIC4cGqtwh34L7x\n",
       "jJmpT8JzubLoUM9A+LgwcSTtYEvZhPXSHxJb5ZjiDcSUZXzAE6xO0J3WaNGxjuQVkSH6WwfTNF2H\n",
       "MdctdtKhjSYOquuPmJm5Q3RkzLay3yK4v0X0UDtQtJ4LyFwf1mOtra2TnHSgR/EzQ4YN4Y3drPam\n",
       "4bJQVpwiqm4um44TUNN+PRu5g44cOYKcsDriRJtgi2qby6UD/iBTDGvuwqO8y3OU/4lnGEyw6HiW\n",
       "BMg1dbgilFC7StFjtHdmOOiIfUY+H2aXmtPtEO1iK2vbOsErOcqeON2vqygnWqw7I+wO9Ci1N6UL\n",
       "kLWsJoqhQUVcsVxtZQ4mS/iycgr4xxGsuqFR19nIbXRNJqG7YOQCpeUEW0zrNUUtWPYcDeRatQl0\n",
       "TJkUM/Cu2c8MXwyvs+s7p6OGdLuQmlut6exlYAzovzlfdC/HwAFkajtoFyhGmiZ5Yg+2J5jt9zmQ\n",
       "SAJO6VJzQE4m+nyQUt7oEl900aNEJtwuQF5hVW3YNP9XkQ6uju/1nAY4vYNgfmw63j7yYkNuYaOn\n",
       "k1ETPUfMp2MPi7aY1muKWrDt2Q3a+hZDNTbQFWqlgSzxeHsDTvkeiw4rDGDKGJ6bz79K6OiJeh/Y\n",
       "t8MQxBsNU0xCr3seUWkduBZQxCW5P+Pz+Xw6ldLukz+wJ3NKvQDBq0mtdRlvlF8zO4wRZeXdfmgX\n",
       "TG6rpCl3A6ZMi+x/hu130tiAiw51mA6yLhvvY7sj0uShg+Qqr62GWsMUY+COQ1QZ6kfxNE6cwSUv\n",
       "jtggjowDeJku/VRkhiGlow6SaQGCL21hXZgi1ztdTI9lR/CEyEcuQbtgUlulTbkbcGIm+r6NOugI\n",
       "tesqIaKT58O3gLXUrd2xI36yGWeZ4KgIy1DssT6oDF2L0hzQOBAlgnOgeiDaBn1Pvwcs0Se32M26\n",
       "lI5aY4IEspxX9xS5N8dLL4zkCYGMvKwE6T8whWemz1N1B7h3R0M2/jnloANTlR+y7I9OTjoeuPlI\n",
       "BmeZ4Kio5FDszMZ34IcrV6BuAQmrDIgSwUFnmqHIJx2b2GLAbcSxFaTTB3/pe3eylI74tKIEssq8\n",
       "A5DyzFP9spF9e/bsSK7bZORloOS2RmgqRW4oCbm15W466DqhwU39JL/M80jiKBiDQkzcnLJEMCV1\n",
       "IM0lG4g4sN/LmXQpXvXy+TbRsS3Ov5ULkFiR1XOy4GPuITlRhKSj2910PBx9aKv0CdGx3X5fR3BM\n",
       "f/ZvU6S/zM9Fg0k2kOIi1p7m0gCcf2VOZ0mIk46MctAoQQfDycRgKeyWUlfr5yEd0+4ZER0+O6wC\n",
       "/88qdAlcKJKQVdj2D56aWqNju+y3AAAAAElFTkSuQmCC\n",
       "\" style=\"display:inline;vertical-align:middle;\" /></a><br>"
      ],
      "text/plain": [
       "<IPython.core.display.HTML object>"
      ]
     },
     "metadata": {},
     "output_type": "display_data"
    }
   ],
   "source": [
    "strictly_decreasing_additions = \\\n",
    "    Forall((i,j), Forall((a_1_to_i, c_1_to_j), \n",
    "                         Forall(b, Less(Add(a_1_to_i, b, c_1_to_j), b),\n",
    "                                domain=Real),\n",
    "                         domain=RealNeg), \n",
    "           domain=Natural)"
   ]
  },
  {
   "cell_type": "code",
   "execution_count": 79,
   "metadata": {},
   "outputs": [
    {
     "data": {
      "text/html": [
       "<strong id=\"commutation\"><a class=\"ProveItLink\" href=\"proofs/commutation/thm_proof.ipynb\">commutation</a> (conjecture without proof):<br></strong> <a class=\"ProveItLink\" href=\"../__pv_it/theorems/06ce5822698a00a28af3c351f47bb1406cb523a50/theorem_expr.ipynb\"><img src=\"data:image/png;base64,iVBORw0KGgoAAAANSUhEUgAAAOcAAAAWBAMAAADJFJavAAAAMFBMVEX///8AAAAAAAAAAAAAAAAA\n",
       "AAAAAAAAAAAAAAAAAAAAAAAAAAAAAAAAAAAAAAAAAAAv3aB7AAAAD3RSTlMAq1RmmUTNIjK7EInv\n",
       "3XZ/CtNrAAAACXBIWXMAAA7EAAAOxAGVKw4bAAADG0lEQVRIx72WTWgTQRTHXzebj90kTVDwUigL\n",
       "gj2oNQcptEINREUQNdCLh2IjFaSetkdBSzwIgkorFDQqsiIIJWJaLehFKYggaqWKoqgLWz3Uk5Qe\n",
       "rFQQ3+ybJDuzm7UnH/yW7CRv/u/Nm3kTgHWYyQmy+DrH/jmRZO0GEWhRxz/2tdVMRzlZ9rI5VHQr\n",
       "x2dT8/j45htWpkG/sRAYfo7Yy15OhGnqJSLAjiMxSx69w0bzgQ4nibOsBhNhomqO8Cxp/W0Fifim\n",
       "LyCZejkGhK92EizQpBEmmuJ41o/XMbrGni9khzlkqJ5/tziX5RLBqGOhJd3C8Ysm3cINyyVlpXgM\n",
       "gaKxHDFv2y9DRQ9w4h1Ljiga61zENZqRyzGNj2M/Noii5J3MEvsBroWKDnMGTW1NFK2d1FcBelwl\n",
       "27Usz0b/adVMQZS8IyViFOLZ+vyJkcbmnuwc4x/fEvpTUBdE0R0WvAbYJgWZxuyVNUg5XlHurcwR\n",
       "mpUsNhw6mPJipahfNpXrfOwZoS5Deppy+jJPOe0D+A0wLm88nE4tQQZ/fNC2X9n2G2h4J5YJxfHs\n",
       "o+fInjKu+z2AXaJoagJqRTHTzxDFQzMYIIoCQ4Y3U+4dnSOg1I+Pav9DluSfRYt1DLh9rtlB+fLW\n",
       "HNgt7d4VULFO26WasuXFY3rY8opyb2WBgPvYIvQPiVVWyU/t+Sn2m66uZuQ3iZoBmxRTEP0FdzHC\n",
       "XilTDb/NlLGIgih5R7ANMeA0hqfmEyxpLRcpuS2kr685yQyhOco7Vcx0I0zy4+Q1diTaclpeEOXe\n",
       "7Di5R6qtzOrQzlYmVVazPZVKxTh/pDnJJULvfDT6XRS9NctK8V4STeDy6R0FsTlw73SRoOxNrQ9r\n",
       "kIGUccGNFjeSXj8CZcLfkejU++6Tj94XsSOd4dDmMscHrCqkrV48QmymWROe8O9YRxe7ejQn3Qfg\n",
       "6+oNG/DdBYXGNIXuB3DRSBxyIH6VDVRHJhvJXeEE2ynfiNbyzwG7zuQrjU5WtVIpinc1J9j84egt\n",
       "b0oWjhRS1GoRn0ME/5cJSGuslegSx2MR+E/2F+M/2DrrgEMbAAAAAElFTkSuQmCC\n",
       "\" style=\"display:inline;vertical-align:middle;\" /></a><br>"
      ],
      "text/plain": [
       "<IPython.core.display.HTML object>"
      ]
     },
     "metadata": {},
     "output_type": "display_data"
    }
   ],
   "source": [
    "commutation = Forall((a, b), Equals(Add(a, b), Add(b, a)), domain=Complex)"
   ]
  },
  {
   "cell_type": "code",
   "execution_count": 80,
   "metadata": {},
   "outputs": [
    {
     "data": {
      "text/html": [
       "<strong id=\"rightward_commutation\"><a class=\"ProveItLink\" href=\"proofs/rightward_commutation/thm_proof.ipynb\">rightward_commutation</a> (conjecture without proof):<br></strong> <a class=\"ProveItLink\" href=\"../__pv_it/theorems/4cb24ee6a06d685fc1214dd91132106771a50cb00/theorem_expr.ipynb\"><img src=\"data:image/png;base64,iVBORw0KGgoAAAANSUhEUgAABCcAAAAzBAMAAABWE38JAAAAMFBMVEX///8AAAAAAAAAAAAAAAAA\n",
       "AAAAAAAAAAAAAAAAAAAAAAAAAAAAAAAAAAAAAAAAAAAv3aB7AAAAD3RSTlMAq1RmmUTNIjK7EInv\n",
       "3XZ/CtNrAAAACXBIWXMAAA7EAAAOxAGVKw4bAAAK5ElEQVR42u1df2wbVx3/2j7b57PzA5D4VRQM\n",
       "jCIGySI6TV0lUo92sBaNWQsCNEHnaUwVA7HLNAm1WzszYCCRNhZTxTKNcmNSWZOtsRrYRqdlGTCF\n",
       "amwyY4IpW5DTVXRtWRa6lURBNLwfd/a9H+feufHVOfn9cXn3ve993733/bz3vu/dfRwAd0kbGTGg\n",
       "lYKfvDi6bXk509SVub/lzwtLBykWEsvLBdegyDZ3lUK9LbdeWFKnzUwkMKBYw57GW052SLrjle6g\n",
       "gSKSY8+PtbzvkLY5Xkl2BgwUd7EdIFxsbDD2YMnPcf070mju3j/WZaXdeZ79a8BA8Q/29ECDi4v5\n",
       "GnR3pKXiM/VZudVR49NGoEARmWTPNwkaUXkHiTr1G/mFft5N/VBLbSWKQulGQyaOLnmzbVm5/HxQ\n",
       "DwooUtx0MSlohMvSGx3EThd6eDf1QC21lSgKpael4mTJm23LSspxGyK6EChQvMVWNJxrMCieBj9B\n",
       "8U2p2D6FubFtWYk5BxU3BQoUf2FPFTxwDEzslrWOg9ipNeNrTpRFl9w0927ORxOv50W15Nx6L45j\n",
       "1C0b8TVvnJGAYmBiKO2pGhUr1iJDki4zAgQKdZGbHFFniE7BLw2xdRzEjq35dT2B5u5fsy7R/mOM\n",
       "6YyPdqWVguC5+EuwxYvjiLrKeZ8+AG+6vmrYVu/XzuDEdaaxcoBAEeJiiDbUiR7thWsBHs5xrUPE\n",
       "2lPvMty1pvYHUNDcPcG6JLwEqTLjuleRQLuC81xbEV50XxRRR8c8iz/0ADkQTKNqfN5jNXIQIWu0\n",
       "8KRjOyZKAQJFihsRU+hhr8OeUudINZWZmddemJnBWkSsEE/bxdz0U7mgzGNf0YQ6159p50IN3FFk\n",
       "BLgb7n2TU7sOucx9UURdLIo8gGi6rmo8R4bVeedF3EKAQDHUK4LiKGhnUbcocd2RiDuy8UV3XSxV\n",
       "gLGsMHijBr4xbRekSDt2c2pH8eLVdVFEXSjKfADRdB3ViBM4RJ1HCu3tAIHiLV2YPrRzEJkXQUHF\n",
       "EcNta6JZdiPAtk7WJR1pq1v32CdjznOoLPBQFFGHQ59ji6IPIDFdRzUihd1Fq0mkMQU8GyBQPMjP\n",
       "jWXQzkAo9wkRFFRcWeSftzXT8N7wzvISB4o8mqQZARqqskJ3Rv0u6r4oqp5Zy4ECP4AugKKeauih\n",
       "E5dO1fb5LwIEiqPcOV517YfuTEacPqgY9nAR2lgOrynMjO1Cohx+WYn/qsR6KtSbyDACtPRI5gVQ\n",
       "oLXEkzWKIgfbBayuGb9hbZAHEKePeqoBqWOQN9frDukZExRkZPyYG1CESClN+N2C9g6/REVOfOj0\n",
       "j7vyIiioOP4AH/ljJ79sZWwjS9eTA2/gkYddEqzZxC0cn1p3SvRccrzPqFEUPVQvEHW4mSuKPIBg\n",
       "uq5q3L05f57uvTFLQXE1PtnuBhQKviOmN+E2xTle8kpl+CxJV/J3wPe8bDOOPeK0VckIumVSj0XB\n",
       "grQoqWmvtq+MlpD3dtWK2MsUFN/H2yYFN6BQ8aCyowlnj7DwvvByARTMK6P4/T/ZKhHbE3NhrWJm\n",
       "hDdd/VLP9ddflDopLUpm2rPtLrVUlL0stKE/Q0ERQ0NWMu0qpsAvXQ83ISgii8IujDmexR//r6wP\n",
       "pZaX570U8NAJN1p33jZx4UW1d7o27dn2z+E9+doDQEcnBUUEYSnmLtBch/7mmhAU7QtClFGAVZpi\n",
       "jY7ZErXm/46Cufp4YWbmeXegSM3MvFZswoZMLgmi3asUE7cMNrqEmoNeKmeC4hoAFMRqFED5WqBQ\n",
       "8pAwmrAllSUISvrS1otafFvJBMUAxNFMkixXwvbPWtPwri9mI8/aQIH0BrwUca/XQfyZCiaTi7IR\n",
       "wS48edUJ6zlD89BKKwOKSRMUCSPJrlzxmwNQZ4ez4c4jsNW+efUA/NZLESGvc83d1cBa5mdLuPcD\n",
       "++Dg++CTxRYoGgWKcDkmcQ3e5wj3KVC0g6LHW5yZynt8ppPV2FE2yJhCBU14cKQMkWLwpo+LDQpr\n",
       "+oBcH1rPzpKg/Them14ZP00/BA/f89UyA4pYBI3Y2vhpK4Ad7XtCNFwVDs19EP+Z6LMuVXPVVJWN\n",
       "9n3XWjyM/1NcSVaEr+OT9dkqryW5IA4qLQc7JN1VoAmHbwU41IEjSIV83Nh1+6P6QbLzkz/ycQYU\n",
       "ybVI6zF9yDSs/V0V3WETvmkcJ3cOVmwMSgLYweqNVsyAihAHGSLcYi43w7fbKtcuBiAtMpBT2lYT\n",
       "FJ0WKO5CuZ1ky2wkmUHHF9Mq3TgL55XKME5AEcdh52ZAbtxBMJRRJ+H642xEQoRAbrsP8AdDW+AR\n",
       "qo5z0Z6r2cfAV2nggm6cN3fzN8MQCJpYCJeYm3SRh41am1fh4ip1mYxm5BsZCKAjY4EihHvl/srW\n",
       "SfwdNGdfMTw8nA7ntWLODgp4P+DPd2ZB7TZIRNreCZPaPBemVjbl/gRXEX1THedSMMY+xnP2Gwtw\n",
       "zzQVnpRpniR7tJFvDQ//TP2RbSgJn+Urd2DVdmQZzcgvMhDAWBFsr861JdLIHTqWfSMOP6UjBVxf\n",
       "ZkCBNRfgvhFow14e0xMbDL2yW2/axcJPkdvm4fdA3/AQdZyLAzeD4KvrMuaNpwyYpkXsH+E1iRC2\n",
       "7y6rZBRAgSZYg4X6Nl+5RpOBXKiuIM3ILzJQ9YWY2dlyGQ019iCMQqi8J0k3qSLZ6lZ89YXrlHp2\n",
       "A/byKKT0oX4DElmURTebByL8aAafTEcK6HgLJLG6mYN9UFWnsvjOHNAbf4BBgYRT6uIGrFm1agkX\n",
       "Li0AmWHu/IK1tYIS/+q84WQgF6orSDPyiwwEcFmaGSm6dBV161kYTCf00HqI498A2bMdQATFlz9z\n",
       "uhd7eTAd3dQzTnZEB9PqFAzq+ECFiTwgcz+cw8c71p3C6mZOydvUTRleW1rWprEiKUIhNqhV3RSq\n",
       "/0Y12oEHNe3x4Wsqdfkb3xS5VQsKGc3INzIQ/a6R+fIqTL7wMIev0eHhLLtKYBcNhqWZNMqVm8DK\n",
       "PRYm5sA6YnWaO9IONnUqC2WrsmlLSDTDwGq2PzGtg/a74X1sXT7E1a3hZCCG+yMn85zfT1L+kEAz\n",
       "8pMMBB8GHhQ3xL42CVGHwYUFhfqvw5bmbcsl201mLnEKmaNGLXWaiy3/D2zqVKeteuPe59OmkGje\n",
       "AKymoo/Lgq6N3EM3mgzEcn9YMo9ry9RGnrUs0owaRAaSp6MCKHqV4wZEwA0oyL2yrE3YazuyuQgr\n",
       "O3aJ7EbHu2XxEYeURpOBWO6PnczjgfvzKiEUvcJaFmhGvpKB4ucEUNTeAG3ch7sfyVyoBd/JQFXu\n",
       "D0fm8WDZ1v9r0YxaZKA6kzIpgqKRZCCW+2Mn83iyLAk0ZTQj/8hAoSDRBqNnhemjoWQglvtjJ/N4\n",
       "smy9bLJZltGMGkIGku9vlQMECutjeSs1nAzEcH8YMo9ry8SGUlk8O9GMfCUD0YA9KKDglh+NJgOx\n",
       "3B87mce9ZWKDvmyyWRZoRr6SgSiLMKA/b9RoMhDL/WHIPK4tUxuVnSQnmpGfZKCA/bxRhPvMxhcy\n",
       "ULdM1aPlDt1pr/QikIESnYECBXybPfWFDNQtUfVqufLSrzbNyB8ykPneJTCgGGQ/KPKDDLQi3J9Z\n",
       "d2r+kIFegmCBgvumc9WQgW72vURnMlDgfoaZ/8H21UEGwi+b/E7OZKCvgGdQbGjufwITS8PqS/hl\n",
       "U9MklX6SpY0ccg+K1j+BCXg6QAGK/wnM/wFKHyVvZBLaJQAAAABJRU5ErkJggg==\n",
       "\" style=\"display:inline;vertical-align:middle;\" /></a><br>"
      ],
      "text/plain": [
       "<IPython.core.display.HTML object>"
      ]
     },
     "metadata": {},
     "output_type": "display_data"
    }
   ],
   "source": [
    "rightward_commutation = \\\n",
    "    Forall((i,j,k),\n",
    "           Forall((a_1_to_i,b,c_1_to_j,d_1_to_k), \n",
    "                  Equals(Add(a_1_to_i, b, c_1_to_j, d_1_to_k), \n",
    "                         Add(a_1_to_i, c_1_to_j, b, d_1_to_k)) \\\n",
    "                  .with_wrapping_at(2), \n",
    "                  domain=Complex), \n",
    "           domain=Natural)"
   ]
  },
  {
   "cell_type": "code",
   "execution_count": 81,
   "metadata": {},
   "outputs": [
    {
     "data": {
      "text/html": [
       "<strong id=\"leftward_commutation\"><a class=\"ProveItLink\" href=\"proofs/leftward_commutation/thm_proof.ipynb\">leftward_commutation</a> (conjecture without proof):<br></strong> <a class=\"ProveItLink\" href=\"../__pv_it/theorems/0a08c8d4d5e8e193233d8a8c3e835d353c1136710/theorem_expr.ipynb\"><img src=\"data:image/png;base64,iVBORw0KGgoAAAANSUhEUgAABCcAAAAzBAMAAABWE38JAAAAMFBMVEX///8AAAAAAAAAAAAAAAAA\n",
       "AAAAAAAAAAAAAAAAAAAAAAAAAAAAAAAAAAAAAAAAAAAv3aB7AAAAD3RSTlMAq1RmmUTNIjK7EInv\n",
       "3XZ/CtNrAAAACXBIWXMAAA7EAAAOxAGVKw4bAAAK3klEQVR42u1deWwcVxn/dmaP2dm111CJK8gs\n",
       "VxGHU6upojQSzlbpjSpWDQJUQbIVoIqA6DqqVCVt0uUqSDj1ihLRrUqYUCltnLZeJVBKUIJbqEwE\n",
       "qZZSQdXWaBMi3MbUtdymtlwR867ZnXfMelbZy6N9f4y/+d4335v33u/d81sDeAvm2JgF3eD/UE9F\n",
       "9ywvpzo6Mw906/PiwiGKhejyct4zKNKdnaXAYLdaLy4YLzFB9w0o1vC3kW4lu4Ssa8yA30ChZ/j7\n",
       "M93adwlbXWNifT4Dxd18A9CKzR1+T3nXuk7oHip5tLz3T/WoXUeHb9M5Ya/7OPt3n4HiX/ztwSYn\n",
       "9/U6tG4h7HniPl+X2i0kkvTvdleLz1i+AoU+wd9vlixC6gYScms3W2pq55U+5uvybFeSi3X1BUJL\n",
       "SjsXtWs2trGV5hUrwdQvoIgLw8WEZKGVlQ+6qAHW1tI666PqQ6119bzNqmldfYFYSWnnonbNxnG7\n",
       "rFy3IUILvgLFG3xGtUxzQRErqXyota6ej4NHUDjHGYedi9o1G/bgFnafVNzqK1D8jb8N4o5j+MQe\n",
       "Vam7qN1KM7Jmuixpw/2nk7IPtdbV862z71ZYx2Y38GbDJ0aTymyMJuvKxqvzwiJDES6zfAQKY1EY\n",
       "HFFjCE3CLy1FH69Wu5bmV7JRNCo8wmvHt5sLsg+11s2z+bY1jpZMOd468jzcwI9UjcyGY/V+0xQO\n",
       "QmMaL/sIFAFhDtGDGtFjg3ATwMMZodiI2vz9uyyPVfdHCKJR4QSvRS3qOdk11nr3rC1BHJm8yFv3\n",
       "FJFnpxl632vV2bi2zmxkQCdrNG3CtRyjJR+BIi70iHH0sp8HeBmMWZLN4NTUK6emprAVUQdJTTvV\n",
       "fEDN6K+0GQXncD2JWlRN78iusbYOzxlIMM/O17MEs4Zm41nSrc65L+IWfASK0UEZFCfBPI+aRUlo\n",
       "YkSdSEcWvTWxeB7G05L2ZQjNy66x1rtnVEnbklL/f1I0a2Q2IgQOIfeewnzTR6B4IysNH+YF0Ofk\n",
       "0qRq3fJammiU3QSwtY/XzkNwSa4orPXuOZFE3YJ5Nim+Hm/W0Gzo+T1F25dyTgFP+wgUD4ljYxnM\n",
       "eQhkPiGXJlVXlo8rlmYS3qPtKi/x2kU8pkugIFrPnhM5PNDbi2fbGjXVEAeKBmYjG5j+1GTtOv+F\n",
       "j0BxUrjHq679MJBKyTVH1bCXn6GZb9uX8QxXmtGy9kIw8qsSX8aXwM8UXTrRevYcGIymYCyW4n2g\n",
       "pcdTnFkDswHxM3ixE6xxLvQHBgrSM37UCygCJPkO/G7BfEtcoqIyPDDzo/6cXJpUHXlQUL9gX3pS\n",
       "/LS9/6nhV3HPw2kP/HpQAQqi9e55zWbHTlJlA+zokMUn1cBs3HN1boXmvSlNQXENvrnNCyiC+Ilw\n",
       "tgO3KS6ImhcrE7iSciV/B9xZz47m+KMKrdp1nZ4T2ZV3NBuWjStDJZTc7loz9jIFxXfxlkneCygM\n",
       "3Kns7MDRQ5POC6+QSpM7Moo88OMbFWpn4A7ELg0qtErX9XoeATfrLbBSWnUn1m+UiqrDQgf6UxQU\n",
       "YdRdxZKe5hT40PVIB4JCX5R2YVgDjDz5jqoNxZeX5+pJ4MC0rFO7rtfzaU9WDcrGz+GSXO0OINFH\n",
       "QaEjkIW9TTTXob+ZDgRF74I0y8jD6ghfa3mK0VrjfyLPVh+npqb+4g0U8ampV4odWLKxJUm1Z1VA\n",
       "IvzliZanOV0rMp5hoLgeAE1iTQqgXC1QBHMQtTqwbINLsDpD8GyHFWdPiYFiGCJoJImVK9P2z9rj\n",
       "1+7PpfWnHaBAdsP1JHFvXpZUsZUWv6gSHatoJ2Rfu2rafs/AHHRDY0AxwUARtWL8yhWfHIBxupDW\n",
       "+o7Bjc7NqwfhN/UkESjKkiq2Mp+aU4nVcA/7e9/798Gh98Ini11QNAsUWjmsKHu8z6ENBaHoBMXa\n",
       "+uaZ8ZwsqWIrE8a8SnR0DqzTRQMeHCuDXlztw0fngcIePiAzhBa6ZG1Ez2eujMzQD8G1732pzIEi\n",
       "rKMe2zw6Y09gDw/9VnZcVY7OfkCSHBslVd2JIZz40f/Y44FDdPr9DhX+jS02pKu8ltiCvIjrVrBL\n",
       "yHqaaMKR7QBPJPCUh57P9O94LHuIbJnkjn2cA0XsUmT1eHaUOTb/acjV4VC+bp2VpGqo6nrSeA8H\n",
       "+bX7Dofo9LsIwTxbbmo7HJnrlScgXTKQW9haExR9NijuRtIuwhmj5zPPJQ26E6blgpVunIAigqed\n",
       "V+NtuJ0EQyljAm4+y89IiBLIY/fDemqIpdDaa/gXwLF0ynIDPEr8jjK/RBTtkd850FJs905/2Kq1\n",
       "eaW1eOWsZvY0iB3UMjIQQCJlgyKAW+V+unDGRzpvoTF7faFQSGo5s5hxggLeB/jzndNgDFhkRtrb\n",
       "BxPmnDBN7bW/PvgzXEUNsRSHcf4FkI5Jz7Lra8wvEUV75DcPQfR++jcLhZ8aP3R0Jdp5MXMHW93+\n",
       "1MyeBrGDWkUGAhgvguPo3FwihYzPZ/T8VyPwE9pTwM1lDhTYcgHuH4MeXHnj2ehGK2vwGzBE+Wny\n",
       "2Bw8Qw2xFKns87OAY9eRclhgfvczv0QU7ZHfc1b4zlkwSC+AJppgdxbGm2Lmmk0GkhRqZo83dpAd\n",
       "wfloBxmoeiDGGlsmZRbx+cxhCJT3xugmlZ6GSquvHrhOGuc34so7DPHs6BYLomkkoofZhSg/ksI3\n",
       "LyH3yJBJsM9hRXWRXRksfQNi6DppLG5k5kTk7Inf71uJHYfIVhvAXdfZWysoiEfnzSYDyQols8cj\n",
       "O8iO4Hy0gwwEcFmS6yn6s8Yz+HxmJBnNBjZABP8GyN7bAGRQfOHymUFceSPJ0Oa1R8mO6EjSmISR\n",
       "LL5QZTQHyN0PZgEbMilIdNQqy3RoVYmkO9adQ1fbry1y9szvKF6w7MSdmvlk4fpKXv4hFnOm1aBQ\n",
       "Mns8soPsiOMuSbWODES/a+S+vNLI+Qzrww4XCtwEUvg0A3fz1DJmlSsPgS09rhF3zJBKx3ptiSWG\n",
       "pzNpW9JAMBfsqd+Z3Y8gPPyusI/PyweFvDWbDCRTdpTMHo/sIDuC89EWMhB8CERQ3ILPZ0IunQsP\n",
       "CuO/R2zL25dLjoeYFD2H3NmGVAov/49JNDHqtSLdAry5YM/8Xhe7XPVym4SXbjYZSKLsMGaP4NQj\n",
       "O6jyLZ2THdRsMpA6nJRAMYjPZ3TwAgryrEp0KAdXls58rKIbVD1YFfWaE+vRpPCyyeaSgSTKDmH2\n",
       "mOuFtDyyg1gEzw5qCxkockECRe0N0GZ8uPvhVGP8tJoMJFF2CLPnvteFtLywg6oRDnZQlwzUgBCc\n",
       "kEHRTDKQRNmhzJ4BIS2P7CAWwbOD2kIGCviJNhg6Lw0fzSQDSZQdyuyRQOGRHcQieHZQs8lA6v2t\n",
       "so9AQT9tr4Zmk4FEyg5l9kig8MgOskHBsYPaQgaiE3a/gEJYfjSbDCRRdgizRwKFkh1EUuCSYhE8\n",
       "O6gtZCDKIvTpzxs1mwwkUXYos0cEhZodRFJwJmXXKMcOagcZyGc/b6QLn9m0ggwkKwZUaa2cFBdh\n",
       "s4PaQQaK9vkKFPAt/rYVZCBZMaBIy0NSXMSI0nNryEDs8MU3oBjhPyhqARlIDnfdfuLik1Kyg1pE\n",
       "Bnoe/AUK4ZvOVUMGkkLT2UHuZCDf/Qyz+IPte1YnJFrADnLv9L4IdYNiY2f/E5hwEnwQ2skOMugn\n",
       "WebYE95B0f0nMD4PByke8T+B+T9Q3Vr2FHCL9gAAAABJRU5ErkJggg==\n",
       "\" style=\"display:inline;vertical-align:middle;\" /></a><br>"
      ],
      "text/plain": [
       "<IPython.core.display.HTML object>"
      ]
     },
     "metadata": {},
     "output_type": "display_data"
    }
   ],
   "source": [
    "leftward_commutation = \\\n",
    "    Forall((i,j,k),\n",
    "           Forall((a_1_to_i,b_1_to_j,c,d_1_to_k),\n",
    "                  Equals(Add(a_1_to_i, b_1_to_j, c, d_1_to_k), \n",
    "                         Add(a_1_to_i, c, b_1_to_j, d_1_to_k)) \\\n",
    "                  .with_wrapping_at(2),\n",
    "                  domain = Complex), \n",
    "           domain = Natural)"
   ]
  },
  {
   "cell_type": "code",
   "execution_count": 82,
   "metadata": {},
   "outputs": [
    {
     "data": {
      "text/html": [
       "<strong id=\"association\"><a class=\"ProveItLink\" href=\"proofs/association/thm_proof.ipynb\">association</a> (conjecture without proof):<br></strong> <a class=\"ProveItLink\" href=\"../__pv_it/theorems/380f58cd26e906ec97405e401beec51a6f9c27630/theorem_expr.ipynb\"><img src=\"data:image/png;base64,iVBORw0KGgoAAAANSUhEUgAAA+8AAAAzBAMAAAAUQCTfAAAAMFBMVEX///8AAAAAAAAAAAAAAAAA\n",
       "AAAAAAAAAAAAAAAAAAAAAAAAAAAAAAAAAAAAAAAAAAAv3aB7AAAAD3RSTlMAq1RmmUTNIjK7EInv\n",
       "3XZ/CtNrAAAACXBIWXMAAA7EAAAOxAGVKw4bAAAKP0lEQVR42u1dbWwcRxl+727vdm/vfGeoxFeQ\n",
       "Ob6KgCa1mihKIuFclZZ+qeqpRYBQaa8KqKL84BJVqhKa9EB8STj4RInoVaXdUKltnLY+EiglFcEt\n",
       "qkKAVEdpIWprdPmQDDG4ltvUkSti5p3dtXd2Zte7ZSc5rzw/zrPvvvvc7Dw7M+/M7HMGCJb04WED\n",
       "llM8Uhgye+bmyl15E/ct8xg87TX5zs7NNQITX+nOW0n0L9MZPGmvWJnUkid+BXuoLpNLUs3zzMq4\n",
       "EJ+qsscnllkn6RbPM7nemBB/N/twJ1tyh8ijwa2egdUDbem1UvAe//4aE+L/wR4+IvnrvhLC6pUy\n",
       "5yFIvsPzzCVGLIhPjbLHmziPtPjhT3u1iZt8rdNCjOlQyMXSot5hrMIyr1nssVvqxOddXfso55Hs\n",
       "CC/0MAOs8rOmZ0UYYqsn8q3Got5hrMIy5z2n6emZWBD/OnuDyapc4nNtEYbY6on8W5BPfMZ7kL8t\n",
       "FsT/hT1UsAPYcminqLY8zF6VqK4Y73DWTN/xEo8htnoi3zb5boF3bnJdYKsn8YdO1tngXZAuNWJA\n",
       "vHaWf9DTh+EhQ9Afi82elXhzLUt68EdZ68gd+gyPIbZ6IetvGSNkKlJnvdUX4RoeQ2z1LPOOktJw\n",
       "znKvH8PkahwjnRgQn3CN6T2k5T3eD9cDPFx11RY168+8ywhIz+9BIT34IdZKWssLPDRagyMnZyFP\n",
       "XI6x3j0tETJagyPDqwQ5Rec5yVHPOsu2Y0B83tWj5Ukhb8AK0Cbp7SljY68dHRtDL2pWKJtOM5tI\n",
       "E/mz2USUKax1t/WzAG/z0GgNgVyFooXsLB4hV1BoYg2BTIPM52lXOOU9EZqJAfFD/TzxR0A/Qx75\n",
       "tqvxUHOxop4N1nryDRipcNZXIT3NQ6M1ODJ5nm4tcd33EXrQFlhDlZmMDpTytHeL19+IAfGv17iu\n",
       "Xj8HqSm+Dk1zyghaiWQk3AhwSy9rncZWxdGD1uDIZBp/g6GfKrmLB8JCQ7gyI6M7WzaScIyHZ2NA\n",
       "/APu8asD+jQkqp/g69A0z0+9Fq3EErwnub0zy1rPYqjAEU+tgZGLdYwf7Imn7U2aYZpHptbgyKQU\n",
       "lcT4pw778/qzGBB/xHWMs5gHYWW5zNehaYZdbKCkv2V/jFSZSsx2ki8p6s/bbNVeBD8RdMjUGhg5\n",
       "0Z8tw3CuzGKQ4P1pHplaAyOTkD5Xz5/ACYPis2fxO4t42pt9NAjxCfrtXbT/rb/pnt6Rmtsz8f2+\n",
       "Ol+Hplm932V+yf7oKbNRfd/TW/6JPQhj3fPLfgHx1BocecUmxwrL/CLQgQGDR6bWwMjwzOrTcM8V\n",
       "9UWa6caKSfyVeHB7EOIVvCJT66Jp/Dm35dh80NQWTn7vhLvCrIKNPCawiqFDIhdrAu8okNen2wR6\n",
       "h19EbIYC8C0MBRtBiNewc9jWRT19ctptWcPVIbOzod73g2sFZmdiNjwuVgRWIXRY5EFR8aJA7tPa\n",
       "LdFmleNpLpvEZ8gIkisFGuNxs29/FxGfOsutTlgNSX3qbVHzyM/NTYX5gj3jvE0MHRb5OEhC/ilc\n",
       "VPdvyMVek/gUeY4ywYK71eRvtYuIL8xwo34DlkbaLBU96zceFxtWVH90bOxPwYjPj4291uqi2svN\n",
       "cqadS4L2zBdHpeKP+y53Vi3irwYgcaNuPiR1P+KVOmSNLqo/ZRaWZlJOXcBq7GlbxG8BlfT6uc58\n",
       "WPwZe6TZcV0l9ayDeOK3JcxXfK/B50RnQ6V/XT5uly8xBcspPPGjFvFZI8fO+nDFG7TjzUqy9yBc\n",
       "61zAuR9+FeYrEi0+JzobNP3o/bth73vhk61l4qMgPtlxxXb34AeuAyQHFGg5iV8VLrbL1/mc6GzQ\n",
       "DpIMSnCwA6nWUu/qLyzxdlcP1QEyR6TzC3PvYL06Yb6gm/z2FzoM8ZkU6WX1AxN20Lhv4Nc88IJx\n",
       "aPIDXM6xkLBgOzTA5xwx3Emzbz+JJVxXWdAL5Gb4KZHkWlO7Gs6dar7BHewn8/MnixhumHsHfVsf\n",
       "r+2lCwr1gx9niM9dTLyeqA1ZgPrfNb7qHcb/GKe43EJasPVUBrmcI72sjeKbJXSqltzquJkCN4+X\n",
       "LqiIGD/dkVpaobAi32sTfzfJbafaGnPv4IWSZi4GJetKoeEkXsVQ7wpcdtpGn5OyNgo3nmIjBGoE\n",
       "etm9sNZ0xFx61ZVsAfCsGUJcA49ZfiTH+SkNvZ4sWwtXqYcNvwUcyYIKxI9WVHFS7kKHaK2vWLaJ\n",
       "T+Bg+6A5wcTthjfJWLq22WyWknW9VXUSD+8DfMXjOGgrDRoFFnphVJ9yhYYFexf7D3C56Yi5PIyw\n",
       "BSA2K/c8WICY4/ww1lRIuVJfazZ/rH3XERkkz7hvSragAvEjFVVk5M7rRMKKkRY4tmX1WVqhuHeQ\n",
       "anxZhR+aLR5u7DDEo+cM3DsMPVjgkVp2g1HT2MUIavw0vWwKnjMdMaeCqxfHs6tpBeDQYPrN4LDn\n",
       "8sMyZe6aBI22ZhLcgV1Z2hvum5ItqED8SEUVqbLfFVKEFfYmjdV4qmW9hXsH+yDR2ZUzF2pSFZhv\n",
       "vQsbfYe1MxuQp32Qrw3dZEC2QrLkYuuDGj9SxoNXCDxxtHKw2+Fl2tTtVcx9FXKWH+aIHwOYqUCr\n",
       "uHUvXWYC+OZV9pIDSe5tWdmCCsSPWFTxR78rpAgrLi0xLb6vpj2HeweDpWwtsQ5U/L2BXbcD8MR/\n",
       "7rKJfuRpsJTetOoAXfkbLGmHYbCGH6YxWwcC951J2pKtnEJtplfNspGZGcndufq05Yc54scAqpsG\n",
       "jCGcAGzDTkl/qnn1/D38zV0lVbnEI37EoorNUokXCSvo+2rMGzhJWgyrE9rXbDJBm2trH3tm0zNn\n",
       "dOYvAjv3RJLCWY5m7mDBzllfhuFFReznBpzY8Sjh/DfN3ew9fNA905csqED8iEUVv3BdIV9Y8SFw\n",
       "E/8l3DtIe0QbLPHav/fbnt+YazsusnLZ0wTOdjRzmbn/Wjnzy0xUEPu5Aa/KXSYq1EaDf8BlCioQ\n",
       "P2JRxVr2CinCCjYd4Yjvx72DFAQhnl4ryjqM/YvnTnzM46wQUBCnlFyFLMkVVCB+xKKKS9gr5Asr\n",
       "1HMc8f4LfTJetvxw+f+7/nwLKhA/YlHFEJxnYUUsBBXKKE+8TEEF4kcsqrjZXUyQLKxIxEFClT7D\n",
       "dfVSBRXY1UcsqljpLiZEL6xgl0U6MSDefNN4IckWVODr1hGLKtazV8gXVpgB8VIn3hXWyxZUIH4I\n",
       "UQUFXURUcR17RQhhhSe6v7DCVFTF7KdQZAsqKH4IUQUF9RdVvOxaCAohrPBC9xVWxOSnUFKuVzFk\n",
       "CyqO+cK/A1GFKuq+ZQorsr2xIB6+zh7KFlSs8YN/J6IKpV9whUxhhbVLsOSJH2RfMpEtqLDwoxNV\n",
       "iIRJUoUVL0I8iC+wNyBbUBEp/mbKj8zECyti85Om7h8xli2oiA6fiioKciWovLDi8xCa+A3d+Y8K\n",
       "MiVYmumCiCo085UcffjJ4MQv/6OCGKRHzIcN/1HB/wDfSP58Bj88VgAAAABJRU5ErkJggg==\n",
       "\" style=\"display:inline;vertical-align:middle;\" /></a><br>"
      ],
      "text/plain": [
       "<IPython.core.display.HTML object>"
      ]
     },
     "metadata": {},
     "output_type": "display_data"
    }
   ],
   "source": [
    "association = \\\n",
    "    Forall((i,j,k), \n",
    "           Forall((a_1_to_i,b_1_to_j,c_1_to_k), \n",
    "                  Equals(Add(a_1_to_i, b_1_to_j, c_1_to_k),\n",
    "                         Add(a_1_to_i, Add(b_1_to_j), c_1_to_k)) \\\n",
    "                  .with_wrapping_at(2),\n",
    "                  domain=Complex),\n",
    "           domain=Natural)"
   ]
  },
  {
   "cell_type": "code",
   "execution_count": 83,
   "metadata": {},
   "outputs": [
    {
     "data": {
      "text/html": [
       "<strong id=\"disassociation\"><a class=\"ProveItLink\" href=\"proofs/disassociation/thm_proof.ipynb\">disassociation</a> (conjecture without proof):<br></strong> <a class=\"ProveItLink\" href=\"../__pv_it/theorems/b9db8958c0a6f36a497f6644e98a1af3d08b9a7f0/theorem_expr.ipynb\"><img src=\"data:image/png;base64,iVBORw0KGgoAAAANSUhEUgAAA/8AAAAzBAMAAAAz7qU3AAAAMFBMVEX///8AAAAAAAAAAAAAAAAA\n",
       "AAAAAAAAAAAAAAAAAAAAAAAAAAAAAAAAAAAAAAAAAAAv3aB7AAAAD3RSTlMAq1RmmUTNIjK7EInv\n",
       "3XZ/CtNrAAAACXBIWXMAAA7EAAAOxAGVKw4bAAAKcElEQVR42u1de2wcRxn/bu+9d/YZKvEKMgd9\n",
       "IB5JrSaKkkg4V6WlL1U9tQgqVNKrUlQR/uASVaoSmvRAvCQcfKJE9KrSXqnU1k5bHwm0JRXBLapC\n",
       "gFRHaSEqNTonkQwxuJbb1JErYuab3T3vPPa8a3Zy55W/P87ffTvz29mZ38x8M7PfGcCd6MPDVViR\n",
       "YImXRu2an8915EM8sNKO3mXIaPfk/HzZNQHynfkoob6V5vQuiTdMJbzsCbCK/RpXfLt4R8PxUnS8\n",
       "sjooBAgX2O8nFd/PZ/xoQ2lptzpeSfUEhAD3siTXampvR/CHjksn1eOenK+H6qZ2Smlxu53nx78E\n",
       "hAD/YL8+rvh2iH+n9MqdnnBilkMdU7u02u545bPVQBAgPMp+3yIOsvJOEHXqG7e0tCL+jBRnxhN6\n",
       "Jms9QK5VDi9WadnXLUbB5U6ANDfkj4qDtnyW1Zwm3zUtrQQ/OifDkVsdcW5vdvw/tMrhxSote9px\n",
       "gInOBoIAb7EPqBXUEgDxU3UZjtzqiP6bpmWbUgLEnJ2AOwJBgD+zXyM4IOw4sldWWw5mp0qMr5po\n",
       "CFbEj/WOZ0UcudUR/Y6p95vaL7gcqakNEhy51ZEAR06VWGdfIpdXA0CAxDmR8NGj8EhVMkbLzY6V\n",
       "eFsxSUb1J1gr4o9s12dFHLnVCV1/tzpCli/YSuvZHPFX4ToRR251LPuebKRsXyXfOIbCdZaRRgAI\n",
       "EOLm/C7SC5/qgxsBHitwtUXN+gvvq7psot9BhIzqR1gr4pOe84oIj1b36NocpEmSE+iNszm6ajJ0\n",
       "tLpHh78T9DBdH2mjjnWXrAeAAGluhEuTQt6EFZCYoo8XGRt78/jYGKai5ghtVbuZFdJV/mR0lcg0\n",
       "1jpvRfzPA7wnwqPVA3oBMib6IFdM0siSwhOrB3TqkL5Mh8hp5wXUbAAIMNgnEuAY6GcJ9etcJ6Lm\n",
       "TD5+zl0vSpdhJC9a80ij6IwIj1b36IRbt5suw218MUFaePBWdjJr0KaPOo8A+tsBIMBbRWEK0M9D\n",
       "eFqsQ8McrrqtRDJDbgbY2iNOATPYw4QmQqt79EyWdGr9NHJgNV9MkBYevJUdW3ZvzUKS+gDwYgAI\n",
       "8BA/rzVAn4FQ4ZNiHRrm5nJt0UrMwge03Y051krw4Ry6EwIBqNU1eqaEPgZdtG5kc5BuGRXRqdU9\n",
       "OilJPjTx6aOt2/dnASDAMe47rnoehtW5nFiHhhn2sY6U/q71MVLgmlp7LRL/eZ2tWsS/CH4iGaSp\n",
       "lUenoDL0UF8yB8Mp3Iy7gc1BnP3nRXRqdY1OlgCpUvokLjIiLc5GfmsSgI5yF7shQIjevYPO3/V3\n",
       "+GUhqblHJ7/fWxLr0DDHH+TMr1kfXTl2FdD7/I5/0h5vt1L8X/ZJCECtAjoFlaGv2mLt0rzObSgd\n",
       "6q+K6NTqGh1eWHsG7ruqtEi33Zw3CHA1frnLDQEimCNW7KBtgPO85URzrVyXLprvhnu87KaNPMlZ\n",
       "T7SE94ieIVUZlw3rfqBvjNYJ/J5WHrThKsC30GUsuyFAAgeLXR00A2gzvGWdUIfMyUn8gR9cLzHb\n",
       "hTlQuSzCWde1gveKPoDDdZ8khx/ovYl6TXY4ZmN3ziAAHkimsq58ADxcPNhBBAifE3Y3zPEp/ux7\n",
       "sm6Snp+f9nKDRyfk+HJ4r+jjDv3JF/SfwkWl1h0702MQIEz4FHPnBK4lfwsdRIDuWcErKKu9o6/4\n",
       "22g7qZRkq/k6UzZXAcfHxv7ojgDpsbE3ax1EgNScYNqr+Jb+4cduHSUUVutRTbTcRi2YBLgWgPiX\n",
       "ulGUUisCREqQrHYQASJzsHwlcrrNVdlVNwmwA+JkNkg1mm7u56wZaM8N+fCLNgKQdDu83OJ7ZVGT\n",
       "XfUk/7pywipfaBpWZOkEGDUJkKym2NUi7nhDYryS13oOw/X2jaAH4VdebhGqiZrsqlv50Yf3w9AH\n",
       "4VO1FQL4SQCtwfmA9+EH7iNo/RGo2QmwxpsPmC6Jmuyq20GTTFZwuAHhWhCmgPYTwJoCoNBP1pbj\n",
       "1Mml5xMb45PGC8Xat7/UYAgQC5PRVz80abkuB/qfE4EXjINTHxE020bEgu1Iv6jZfL1TxpiPr1Dr\n",
       "G/IL8Q6pWXEJtdKw0CogROYEwkGyvn8mgy6JcT7Ru/Op4hDdkCgdvpQhQOoykurp4qB5A/1vCbEJ\n",
       "bMb/VE8L2oIs2LryA4Jmk9cTo/iGC12CaTttD9ct7AMoDwxZHrLVFQF6LALcS7Td9FjSOJ94JZsw\n",
       "NpW0UqS7bCdAHF3Cq3ALaxflSy4xCjefZj0IagSa7X5YbyRELbrmarYAeNVwMa6DJ810RBPSRcp6\n",
       "ScuZG2Dhx6qtNoIUB4b4GxSicIPEzYFNJmcRIIST8cPG4hSPNN4hc+36SqWS1Up6rWAnAHwI8FWT\n",
       "cUisrlJvsbsHRvVpzoXstk7Rfw9XGglRS8MIWwBiM7WXwQRETUiHPinumIa/Vqn8OPFdm+egneUf\n",
       "SnVgiK9BIQplu4s0IzWwHQfrc7Ri8XwiXP5KHH5ojABwc4MhAKachfuHoQvba6SY3FQtYoe346Lx\n",
       "MzTbNLxkJEQtDtzojlfX0srAKcNIN4uzOJcOyxS7ZwoStHcTJxCsQSDxNv9QqgNDfA0KcU6tMCDE\n",
       "5oM17ATQCjm9hucTByDU2JcyNnzCeWj25oWDxaOJs5uwvQ5Aujh4SxWSeaKSzOYHNX4ih1/eIPAk\n",
       "oanBflsqwxbfXUDtq5Ay06FG0jGAsTzUMjuH6HYVwDevsbYsiPDHwaoDQ3wOCoE2BIQsyOVZZgTo\n",
       "LSZewvOJgWyyGNoAcfzdhX13AYgE+MIVk33YXgPZ6JY1h+hO4kA2cRQGivhhGJMlIHDfmaI929Qi\n",
       "1GakKpo2sqIj2t1rz5jpUCPpGMD4lv7qIC4YduEgpT9bubb5DH/lq6iglgA+B4VAOwJCmkLfp2Pe\n",
       "CNLo+YQ5QB2oVBjnjnu1AEdsI2Wq2mhmAkt7WqNwZkJDO9xtaebN0P3Iy9PxgJN7niBt/+vKfvYZ\n",
       "PsrvFCgODPE5KATaERDSlI8BT4Av4/lE1GHwYAmQ+PdBK+U35uu2TKaWPEPgrISGFpv/r6kZNzNQ\n",
       "QZ6OB7wmdYWsUJurIvFVBob4HBQCigNCWssxgQB9eD4RBjcEoHllqs3Yt7h28hKHq1JAiR+T5QqZ\n",
       "VRsY4nNQCLQjIKS5ZXZeIEDrjUMVL4V+/P9cEV3owBCfg0LaEhDS7FlBCAyJjIoEUBkY4nNQCLQj\n",
       "IMSSUBBCw6JnhSlAaWCIz0EhoDggpPVGYCMABDDe6l4Q1YEhPgeFQFsCQhgHerkTgFsGqA4M8RAU\n",
       "4ohsCwqBJQWEOCK7DAgxxYgUC9hPxKgODPESFOKIvBAUAksLCHFCdhkQYs6ewfiJmDD3SojqwBBn\n",
       "6CUEhQipL0xAiDnE9QSCAPB19qvqwBBH6KUEhQipL0xAiCHmicSyJ8AA+/KL6sAQ8DMoRAny4gEh\n",
       "hrwKwSBAN/sAqgNDfJNtStGTi74TFpifiuV/LHrvsmh+GhSiUCYWTfFF8EyATZ35DyNiWVh+0vag\n",
       "kITxypA+/Ix7Aqz8w4gAyeMGAfEfRvwPGOH+fMNV/S0AAAAASUVORK5CYII=\n",
       "\" style=\"display:inline;vertical-align:middle;\" /></a><br>"
      ],
      "text/plain": [
       "<IPython.core.display.HTML object>"
      ]
     },
     "metadata": {},
     "output_type": "display_data"
    }
   ],
   "source": [
    "disassociation = \\\n",
    "    Forall((i,j,k), \n",
    "           Forall((a_1_to_i,b_1_to_j,c_1_to_k), \n",
    "                  Equals(Add(a_1_to_i, Add(b_1_to_j), c_1_to_k),\n",
    "                         Add(a_1_to_i, b_1_to_j, c_1_to_k)) \\\n",
    "                  .with_wrapping_at(2),\n",
    "                  domain=Complex),\n",
    "           domain=Natural)"
   ]
  },
  {
   "cell_type": "code",
   "execution_count": 84,
   "metadata": {},
   "outputs": [
    {
     "name": "stdout",
     "output_type": "stream",
     "text": [
      "These theorems may now be imported from the theory package: proveit.numbers.addition\n"
     ]
    }
   ],
   "source": [
    "%end theorems"
   ]
  },
  {
   "cell_type": "code",
   "execution_count": null,
   "metadata": {},
   "outputs": [],
   "source": []
  }
 ],
 "metadata": {
  "kernelspec": {
   "display_name": "Python 3",
   "language": "python",
   "name": "python3"
  }
 },
 "nbformat": 4,
 "nbformat_minor": 0
}