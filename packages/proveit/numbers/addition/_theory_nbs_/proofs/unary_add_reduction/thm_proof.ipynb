{
 "cells": [
  {
   "cell_type": "markdown",
   "metadata": {},
   "source": [
    "Proof of <a class=\"ProveItLink\" href=\"../../../../../_theory_nbs_/theory.ipynb\">proveit</a>.<a class=\"ProveItLink\" href=\"../../../../_theory_nbs_/theory.ipynb\">numbers</a>.<a class=\"ProveItLink\" href=\"../../theory.ipynb\">addition</a>.<a class=\"ProveItLink\" href=\"../../theorems.ipynb#unary_add_reduction\">unary_add_reduction</a> theorem\n",
    "========"
   ]
  },
  {
   "cell_type": "code",
   "execution_count": 1,
   "metadata": {},
   "outputs": [],
   "source": [
    "import proveit\n",
    "theory = proveit.Theory() # the theorem's theory"
   ]
  },
  {
   "cell_type": "code",
   "execution_count": 2,
   "metadata": {},
   "outputs": [
    {
     "data": {
      "text/html": [
       "With these <a href=\"allowed_presumptions.txt\">allowed</a>/<a href=\"disallowed_presumptions.txt\">disallowed</a> theorem/theory presumptions (e.g., to avoid circular dependencies), we begin our proof of<br><strong id=\"unary_add_reduction\">unary_add_reduction:</strong> <a class=\"ProveItLink\" href=\"../../../__pv_it/theorems/53b8791cd2b4a37f06022d43041634a4e53931140/expr.ipynb\"><img src=\"data:image/png;base64,iVBORw0KGgoAAAANSUhEUgAAAI8AAAAVBAMAAACNsKCFAAAAMFBMVEX///8AAAAAAAAAAAAAAAAA\n",
       "AAAAAAAAAAAAAAAAAAAAAAAAAAAAAAAAAAAAAAAAAAAv3aB7AAAAD3RSTlMAq1RmmUTNIjK7EInv\n",
       "3XZ/CtNrAAAACXBIWXMAAA7EAAAOxAGVKw4bAAACHUlEQVQ4y2NgwAQFDG9vwNhQFjsDMoVFBzbA\n",
       "p8CwFcGDMB9BOKwPsBsUB8QCIIYysqg2A4ZBTBugvMfYDeIzYGBwBTHSkQS5EjANWgbjsS3AblIW\n",
       "A0MjyOsTkMRYDKC6WQ3gBjnDJJkdsBtkArGDWwFJjAfunwdwgw7AZU9hN4hnAQMz0F42ZDE1TIOY\n",
       "EuCyydgNYgOacvbu3dPIYt6YBrGAwrpwXx2Q3IhuBLv0c6A6bmCceTAwzEKWScY0CGQf63GG+cBQ\n",
       "MAMH410wAEd4TAHnL2DYAd1cyMAugGzQJUyDeIFhuMaAwRfI1EFzENdhBpYLQLXAUORcwB2ALHUU\n",
       "rBto6Z2zIEtBBvEAFfgzMNwGMvvRDGL5wMAL9DjHB5DFKGENNQjFRSCDTjJwfQX5BD26JjCsB8qy\n",
       "guI1wQ5IrLbbjtdrXP8YmIG2MuiihdH6Bwz2ILVA7zFsAiZLrusc36EGzcM0iPMBA9cnBsYEdQYG\n",
       "SzQXrVdgEGMqYGAGJekaoMksDhywRLcR0yBQ5M5j0HVwgCQOZMD5gOkKCzSBMDaAQoEPFnW9mAZx\n",
       "AB2+8HW7HFDhVfRYk9tR+ALoeVh8rS/gtILmR94GzCwCL57YL2BP2bXwwC/oD16AyJfomdYEOUdj\n",
       "A/BczeqstxnGno5ZjHDCisBK7OagFB9wsBLTIK4JCEuwAU6sZS37A4a9iDL7KJiqg5aE2AtnhucM\n",
       "DAArLppTgoNQ5AAAAABJRU5ErkJggg==\n",
       "\" style=\"display:inline;vertical-align:middle;\" /></a><br>(see <a class=\"ProveItLink\" href=\"../../../__pv_it/theorems/edfb6f77d2b409563b98c77df9d7be7582a9542e0/dependencies.ipynb\">dependencies</a>)<br>"
      ],
      "text/plain": [
       "<IPython.core.display.HTML object>"
      ]
     },
     "metadata": {},
     "output_type": "display_data"
    },
    {
     "name": "stdout",
     "output_type": "stream",
     "text": [
      "unary_add_reduction may now be readily provable (assuming required theorems are usable).  Simply execute \"%qed\".\n"
     ]
    }
   ],
   "source": [
    "%proving unary_add_reduction"
   ]
  },
  {
   "cell_type": "code",
   "execution_count": null,
   "metadata": {},
   "outputs": [],
   "source": []
  }
 ],
 "metadata": {
  "kernelspec": {
   "display_name": "Python 3",
   "language": "python",
   "name": "python3"
  }
 },
 "nbformat": 4,
 "nbformat_minor": 0
}