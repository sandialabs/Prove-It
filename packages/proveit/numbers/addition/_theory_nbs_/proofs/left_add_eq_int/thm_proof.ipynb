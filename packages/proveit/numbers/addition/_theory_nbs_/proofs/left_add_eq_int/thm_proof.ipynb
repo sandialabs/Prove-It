{
 "cells": [
  {
   "cell_type": "markdown",
   "metadata": {},
   "source": [
    "Proof of <a class=\"ProveItLink\" href=\"../../../../../_theory_nbs_/theory.ipynb\">proveit</a>.<a class=\"ProveItLink\" href=\"../../../../_theory_nbs_/theory.ipynb\">numbers</a>.<a class=\"ProveItLink\" href=\"../../theory.ipynb\">addition</a>.<a class=\"ProveItLink\" href=\"../../theorems.ipynb#left_add_eq_int\">left_add_eq_int</a> theorem\n",
    "========"
   ]
  },
  {
   "cell_type": "code",
   "execution_count": 1,
   "metadata": {},
   "outputs": [],
   "source": [
    "import proveit\n",
    "theory = proveit.Theory() # the theorem's theory"
   ]
  },
  {
   "cell_type": "code",
   "execution_count": 2,
   "metadata": {},
   "outputs": [
    {
     "data": {
      "text/html": [
       "With these <a href=\"allowed_presumptions.txt\">allowed</a>/<a href=\"disallowed_presumptions.txt\">disallowed</a> theorem/theory presumptions (e.g., to avoid circular dependencies), we begin our proof of<br><strong id=\"left_add_eq_int\">left_add_eq_int:</strong> <a class=\"ProveItLink\" href=\"../../../__pv_it/theorems/e4669fde87ab4db0406e865cdf717b460882f7690/expr.ipynb\"><img src=\"data:image/png;base64,iVBORw0KGgoAAAANSUhEUgAAAS0AAAAXBAMAAACsWwSiAAAAMFBMVEX///8AAAAAAAAAAAAAAAAA\n",
       "AAAAAAAAAAAAAAAAAAAAAAAAAAAAAAAAAAAAAAAAAAAv3aB7AAAAD3RSTlMAq1RmmUTNIjK7EInv\n",
       "3XZ/CtNrAAAACXBIWXMAAA7EAAAOxAGVKw4bAAADfklEQVRIx81WTWgTQRR+u9ltsrtJGi9CqYSA\n",
       "HjzYGkEK9RAjsVbwL1jwYjFBD4KnrZ6UWmKPWmikUI2CbEXUGkjiD1UqlKAX/4lg0Utgq5WqhdJb\n",
       "pSdndybN/szYQor44Mtkdt/b9828N28ewDqIl4D9di3PsKgE6yFfCegi6nQLupwgCBmTzQ3R4ksY\n",
       "LPlGtWBIMIrRZUxON8TrLgFLmjSaBUvOYFwyop1tiFeCoC49tpknTrNgae/EMBajRBriVSaoS7td\n",
       "4Q3NgqXt10x4UCybGkuvNAab1ymKBVO7KYrxvlp92xAvoYQB3tY53e6pMHP/OYrFQ4qFW1uejcIY\n",
       "Cl4IYz/AjTU4/0takwVCryot23nFg2GhAtBhfqFqSghY2gpfht0oG9MYfeANMX1yr5/cNLNWYvMK\n",
       "RDDkl2CQsHjyqJ5lDnHYRrFwaw+ieQsKchlD0pQk1Z9vJpcMqEpBW4WXP4khLELACNChavVdtfrR\n",
       "+AIIZiYNUyzc2ppfhw/IaBGD1xlpvzeDVgyD52CNvPxZKCYdmew3U6iXZuHWTmm+3+h6KGNAOoZ+\n",
       "8rGnxquF7ll0OYkzwJlF10iRuIVXcHagu3ZfhCBkj2NRN9LDziulymi72xz5xdDeB0EjhhUMeISq\n",
       "q/zZt2T4VVuakE2hWRuCcZwiZzMWXnNc9qSQQzIi68s+UoUkHaMYgY28avU0ntwECho7HftF14ar\n",
       "ICHWniwG9KOJEDe9eOCWDw0X2uAnqcIFBSy8opKeIQ3B7UqQ3BK1gy3p/CfBtgPbLx+Eo2g84OBF\n",
       "14Y9kIpayg6XMSIexFFZMn9bIQwdaFsiUJqEB5b8al5pQbgSR8qPr4Ihh5/1/bB5urPAJ4yrZNp5\n",
       "oqjaMDZ1BH0+kMQwpahKu4xz5yubndE0vIIrZo+yNQqTFl5DoOI4IlM/2Tr4QsCq4N6K86iwtCcQ\n",
       "LhLgE6IO92h56FfSAuSRnbiI6oex4wKIlRVe3vIE1O7gQCbluGmZN7EQdfKiaitp+YWzCxAT7Y9h\n",
       "KCJ8n/qFBtjSmQbvdfR8x4b50VB9vw4fX6j1LHxidCWNVQyWnHc9oWoHdK6Eextnf0PaioisSmiJ\n",
       "+VyuXnBd9esejNT+ylkMllxzPaFq87Eu+iJFjQycfsy1QueDsFhvCgYIGB0oZXPY2nME1v6tNoix\n",
       "0qq8eubhfxDvP/b3B1fS+q3Vzdr1AAAAAElFTkSuQmCC\n",
       "\" style=\"display:inline;vertical-align:middle;\" /></a><br>(see <a class=\"ProveItLink\" href=\"../../../__pv_it/theorems/d298050c6574390fb341050d5e62d080da6e7c150/dependencies.ipynb\">dependencies</a>)<br>"
      ],
      "text/plain": [
       "<IPython.core.display.HTML object>"
      ]
     },
     "metadata": {},
     "output_type": "display_data"
    }
   ],
   "source": [
    "%proving left_add_eq_int"
   ]
  },
  {
   "cell_type": "code",
   "execution_count": null,
   "metadata": {},
   "outputs": [],
   "source": []
  }
 ],
 "metadata": {
  "kernelspec": {
   "display_name": "Python 3",
   "language": "python",
   "name": "python3"
  }
 },
 "nbformat": 4,
 "nbformat_minor": 0
}