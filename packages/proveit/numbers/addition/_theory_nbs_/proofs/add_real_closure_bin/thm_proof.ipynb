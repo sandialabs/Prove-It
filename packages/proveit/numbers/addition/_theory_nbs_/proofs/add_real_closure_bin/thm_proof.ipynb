{
 "cells": [
  {
   "cell_type": "markdown",
   "metadata": {},
   "source": [
    "Proof of <a class=\"ProveItLink\" href=\"../../../../../_theory_nbs_/theory.ipynb\">proveit</a>.<a class=\"ProveItLink\" href=\"../../../../_theory_nbs_/theory.ipynb\">numbers</a>.<a class=\"ProveItLink\" href=\"../../theory.ipynb\">addition</a>.<a class=\"ProveItLink\" href=\"../../theorems.ipynb#add_real_closure_bin\">add_real_closure_bin</a> theorem\n",
    "========"
   ]
  },
  {
   "cell_type": "code",
   "execution_count": 1,
   "metadata": {},
   "outputs": [],
   "source": [
    "import proveit\n",
    "theory = proveit.Theory() # the theorem's theory"
   ]
  },
  {
   "cell_type": "code",
   "execution_count": 2,
   "metadata": {},
   "outputs": [
    {
     "data": {
      "text/html": [
       "With these <a href=\"allowed_presumptions.txt\">allowed</a>/<a href=\"disallowed_presumptions.txt\">disallowed</a> theorem/theory presumptions (e.g., to avoid circular dependencies), we begin our proof of<br><strong id=\"add_real_closure_bin\">add_real_closure_bin:</strong> <a class=\"ProveItLink\" href=\"../../../__pv_it/theorems/df039533242651384cdd443c6e1baef1165f6d710/expr.ipynb\"><img src=\"data:image/png;base64,iVBORw0KGgoAAAANSUhEUgAAALYAAAAWBAMAAACfwnvZAAAAMFBMVEX///8AAAAAAAAAAAAAAAAA\n",
       "AAAAAAAAAAAAAAAAAAAAAAAAAAAAAAAAAAAAAAAAAAAv3aB7AAAAD3RSTlMAq1RmmUTNIjK7EInv\n",
       "3XZ/CtNrAAAACXBIWXMAAA7EAAAOxAGVKw4bAAAC50lEQVQ4y61VS2gTURS9TWYymUkyDQouLMiA\n",
       "4EZbApVCs6iR+ANRgwU3LTbahbSITJeCQgqCCysNip+JWqbgpnSR1IIVQRBEET9QRRHE0SmC1S6k\n",
       "uKjYhXjfZ5p5+QxdeOFk3mdy3n3nfgZgHWZyNNtrZAqsy3SDoaEdr5mHT1srn64CyC5AkixsDeTe\n",
       "zlFr2u15PDRVs6oqSXljCeArwF4yPxVEreUZ6i2SwZ/hOu4KFEdx04ZRok0xiFtKMVStlz9biVA7\n",
       "G3Dvj6A4GUIPMSOIO85RtQ7+HLDJls0mPxwnv8at4uAFhNGjSKDc2zjquR9RYdiVji35/N48iYNB\n",
       "gNeO8zKQ+yCH0rboitwnfm7AS9NsUIZ9mkSvkADOABwAKAVyD3L0m+qqwK2t2GUTwlSJiFnlfvbl\n",
       "M9GpC2AElKS3Hh3ig/b7u894i28ZtCcgzQvcoVWIuxB6TLl9sZxN0+N24NiO5dY22sgBC1ZOj8Fc\n",
       "ha89ZZCWIUGWDjnOK8d5QxIoD60ViC6Tl8YctCLXpNRJBuN4uusL5XPEngJWhA5pV+SOF6GcE/zG\n",
       "owYMkKnfU/4cvKASTfoR+R78me6ZIy7/XbBpoSH3UkbUpOzCLjFPML2P2BCiQiX83NJFcoN2xD0M\n",
       "sfYh+ptQftQz1AM9pkx45TLBUDZgU8gUuAsYAwhTJXTXx60VseChG3EOQyllouRqaiqcp0WnS7fW\n",
       "anWGQXVD7yTB75aUineTWFxOVrkz0KnmWN62oL7xnE6SJV6Qkl2WZRm6HjvqvXyZQdvyYOS7mINt\n",
       "WaIGC8LkNdvrg39M9fovgPf8/2VTTeNeK8SNS9RvXe7jtQyJAkN9XVI7z599dxyhoSnzXs8wx3vt\n",
       "aUjY3UBjjDn40IslNh2K+l5FLRvQ4qjJ2Y5ZGDOih11QbpLu8K1yd5/31g2Oxt+XZj30rDhl7XDa\n",
       "snLC8pSQv7UttdlHTfRGtpu45jI0tMVmH0LxzDD8X/sHsWi1O43otEIAAAAASUVORK5CYII=\n",
       "\" style=\"display:inline;vertical-align:middle;\" /></a><br>(see <a class=\"ProveItLink\" href=\"../../../__pv_it/theorems/f13bdc9cbaaf21082a85edfa9d42a50a8f6ba0110/dependencies.ipynb\">dependencies</a>)<br>"
      ],
      "text/plain": [
       "<IPython.core.display.HTML object>"
      ]
     },
     "metadata": {},
     "output_type": "display_data"
    },
    {
     "name": "stdout",
     "output_type": "stream",
     "text": [
      "add_real_closure_bin may now be readily provable (assuming required theorems are usable).  Simply execute \"%qed\".\n"
     ]
    }
   ],
   "source": [
    "%proving add_real_closure_bin"
   ]
  },
  {
   "cell_type": "code",
   "execution_count": null,
   "metadata": {},
   "outputs": [],
   "source": []
  }
 ],
 "metadata": {
  "kernelspec": {
   "display_name": "Python 3",
   "language": "python",
   "name": "python3"
  }
 },
 "nbformat": 4,
 "nbformat_minor": 0
}