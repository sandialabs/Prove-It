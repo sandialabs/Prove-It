{
 "cells": [
  {
   "cell_type": "markdown",
   "metadata": {},
   "source": [
    "Proof of <a class=\"ProveItLink\" href=\"../../../../../_theory_nbs_/theory.ipynb\">proveit</a>.<a class=\"ProveItLink\" href=\"../../../../_theory_nbs_/theory.ipynb\">numbers</a>.<a class=\"ProveItLink\" href=\"../../theory.ipynb\">addition</a>.<a class=\"ProveItLink\" href=\"../../theorems.ipynb#add_rational_nonpos_closure\">add_rational_nonpos_closure</a> theorem\n",
    "========"
   ]
  },
  {
   "cell_type": "code",
   "execution_count": 1,
   "metadata": {},
   "outputs": [],
   "source": [
    "import proveit\n",
    "theory = proveit.Theory() # the theorem's theory"
   ]
  },
  {
   "cell_type": "code",
   "execution_count": 2,
   "metadata": {},
   "outputs": [
    {
     "data": {
      "text/html": [
       "With these <a href=\"allowed_presumptions.txt\">allowed</a>/<a href=\"disallowed_presumptions.txt\">disallowed</a> theorem/theory presumptions (e.g., to avoid circular dependencies), we begin our proof of<br><strong id=\"add_rational_nonpos_closure\">add_rational_nonpos_closure:</strong> <a class=\"ProveItLink\" href=\"../../../__pv_it/theorems/af8fed2be6102330e8388b5cbeebf8be1c6a71170/expr.ipynb\"><img src=\"data:image/png;base64,iVBORw0KGgoAAAANSUhEUgAAAdIAAAAaBAMAAADxgsBoAAAAMFBMVEX///8AAAAAAAAAAAAAAAAA\n",
       "AAAAAAAAAAAAAAAAAAAAAAAAAAAAAAAAAAAAAAAAAAAv3aB7AAAAD3RSTlMAq1RmmUTNIjK7EInv\n",
       "3XZ/CtNrAAAACXBIWXMAAA7EAAAOxAGVKw4bAAAFvklEQVRYw91YfWgcRRR/uc+9vcs11rYmFsPZ\n",
       "Yo1ojjOtSqPE0yYSlNBAxD+s6KmgWBQ24B+manqKomJIDmOQRKybBurHWXNJqGktLbFF4rdRUyvV\n",
       "hY1VapsqpRgjEY3vzezu7d7eyV1Zgziwb9/Ovp3Z3/uaNwPw/22XSbB/tijJixTJwXmvWnKgKrhV\n",
       "bwriyIeVL/9JNOHkvK74EgPdGAMIJWEeOtjj+iVDuouI32k4hQc8GUGyXYZDaNilRdpL5HunkXrV\n",
       "3B5xX/+LGHRdBBR6ZPgK4BhHWkG3tQWQljG/izmh/AkaKeO4jx7P7Zj5AB5fjVO9LHOkn2EXR9pE\n",
       "t/sLIPW04s3nRF7yZHQPdrb5ZOtz8NoYeJtSaG2Cit57FmBYZkifIIWnCiAVyOIdTvzRMtLZJrv3\n",
       "5feXtkLD2F64cxLd8z4kqQYkwgqJZyTwxRhSUkowUihOt+Jt1AmkPaTXCXtGVvNKRwsNY3/xkZaA\n",
       "FIWllYFBJHt9LGDOk8OqF23lSTGkbgTsK5iR1juVmH4mWIl/Aem9jN52SstHqW6kazxJLTHv/wE1\n",
       "HJ7gufdTRfm4INKQonznSBpZpcdq+8HOPEj9q0+opSDNyo+wx61av5Ah/25zW5zUu8CRNqPJURlS\n",
       "XqSonIB8juBE80M/8HjxTsKrsh3pHVJgoRSkXP415K4Gc9L0qnVIu63LhfA7R9oOfvTlIJ/SP70H\n",
       "rqvIIsVX7ecI1F0JnVFDf3fjVY6afisGLQBDCStS8TB4piA9cmGRSLk8HET2CobUWMwytGC2hVuf\n",
       "68emze6f40gDcrCV93RX9cHFQdkjmyqHAdhTqin33XAB3tLNlM+MyJzGK4TzbAb4FoRfptjKg6GB\n",
       "sUM54wyUZ7BAbaHuFkX5RFG+sI+cfcHleaoj0qVgYwuIFqcWPxQ1pC5V04inmWoINR4010jRkhIS\n",
       "6erRDIxF4OFxnGFCz4zcpoT0Qzava8pq01AKhlthDrYni7Mpl+d+TOQNQ2Cg3ci92apF815I4Orj\n",
       "ndHKjZpLOi1IfW61hPKAdDUegaFr/Edohin4Jsd7xb/AfcaOdFiF6wHqi0bK5e+kMKul53JDYAtb\n",
       "T+ssHwnzGtJRTFxvL5NFZv2a4M4tZqTBdegI4tisHnAmNtvSDeNGaSY8KUE4DO6VzKaTukgVXgEV\n",
       "xLNQlrjUjjQCq1w47oEi45TJb1MpiW2k57BhDg/VSCutlZCee+ExVM22Wq1cqYH4STNS/3tIdks9\n",
       "OjwTm42Do0xrwHTlHgJCCq7zaQDD9U+T1nCiHVAbj9uQBlTXtAe1dCwn8fxGqBIaY3rB5P07aZRb\n",
       "WMc9xs+MYN27Iic3ausplJHL7AD3A/39LyDStM+yl6nEqxG6sChkUU6sN9pkddq4gGOluK4IZZgC\n",
       "QGiCzrWGVu7CrwX8s8HZZ6qTNqRi9d72n/QpTDalPFYe1xizCph8gD4+wjoG+/RP/Zvv+zWZE1QV\n",
       "pl2buJAUMtym3qht1/Y+bgeEWllnQzBsGSnUGmYLE9OVl3tvbqNslI3aXKTaT8b9Uik10vDrLBfw\n",
       "+HxF0X63LNmQuwuImZC6EnGqH9gZyEwuUnEeet+Eclln/WRi84xSoF6+XAWuK56RGhsbm2x7mQ02\n",
       "pJYKv+PZp+RSKvx16PAe+xahOrz8aev/yWabVkvQgUYXvpb4ptRi00lhrp6QihnOQh+xaU7SEJJ6\n",
       "2uQ1ceC66q6AUfv05N8Q0Jfyd/7Il9E/X1wsaeUePJF3o+WqerDX0nFl7pkD7tb78p853Fo3GyOk\n",
       "wiHOYo2IbJckTCLping3RccggHoiXYF44KbKPL+1XE9ZzraXipA5WuLpCnmvi7Pvhg0WG6+md7t0\n",
       "XQUfiRU6R+p0Gmi4iFOCUs+RhNO4T72dR/jinzpLocZjK3DKEL1xw495fMr5k5UiWxFngw/Zzntj\n",
       "eVi3PSaPJ/8L5716u5md9x7+G8GNoM7GF6elAAAAAElFTkSuQmCC\n",
       "\" style=\"display:inline;vertical-align:middle;\" /></a><br>(see <a class=\"ProveItLink\" href=\"../../../__pv_it/theorems/ba2989a24df59df0c019136c44d4d41d702d8b570/dependencies.ipynb\">dependencies</a>)<br>"
      ],
      "text/plain": [
       "<IPython.core.display.HTML object>"
      ]
     },
     "metadata": {},
     "output_type": "display_data"
    }
   ],
   "source": [
    "%proving add_rational_nonpos_closure"
   ]
  },
  {
   "cell_type": "code",
   "execution_count": null,
   "metadata": {},
   "outputs": [],
   "source": []
  }
 ],
 "metadata": {
  "kernelspec": {
   "display_name": "Python 3",
   "language": "python",
   "name": "python3"
  }
 },
 "nbformat": 4,
 "nbformat_minor": 0
}