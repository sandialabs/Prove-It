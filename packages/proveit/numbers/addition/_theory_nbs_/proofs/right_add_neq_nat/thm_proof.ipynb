{
 "cells": [
  {
   "cell_type": "markdown",
   "metadata": {},
   "source": [
    "Proof of <a class=\"ProveItLink\" href=\"../../../../../_theory_nbs_/theory.ipynb\">proveit</a>.<a class=\"ProveItLink\" href=\"../../../../_theory_nbs_/theory.ipynb\">numbers</a>.<a class=\"ProveItLink\" href=\"../../theory.ipynb\">addition</a>.<a class=\"ProveItLink\" href=\"../../theorems.ipynb#right_add_neq_nat\">right_add_neq_nat</a> theorem\n",
    "========"
   ]
  },
  {
   "cell_type": "code",
   "execution_count": 1,
   "metadata": {},
   "outputs": [],
   "source": [
    "import proveit\n",
    "theory = proveit.Theory() # the theorem's theory"
   ]
  },
  {
   "cell_type": "code",
   "execution_count": 2,
   "metadata": {},
   "outputs": [
    {
     "data": {
      "text/html": [
       "With these <a href=\"allowed_presumptions.txt\">allowed</a>/<a href=\"disallowed_presumptions.txt\">disallowed</a> theorem/theory presumptions (e.g., to avoid circular dependencies), we begin our proof of<br><strong id=\"right_add_neq_nat\">right_add_neq_nat:</strong> <a class=\"ProveItLink\" href=\"../../../__pv_it/theorems/8688950994db3d80c50b23373b69507d3a898b180/expr.ipynb\"><img src=\"data:image/png;base64,iVBORw0KGgoAAAANSUhEUgAAAS0AAAAXCAMAAABpq+mjAAAARVBMVEX///8AAAAAAAAAAAAAAAAA\n",
       "AAAAAAAAAAAAAAAAAAAAAAAAAAAAAAAAAAAAAAAAAAAAAAAAAAAAAAAAAAAAAAAAAAAAAAAeYafp\n",
       "AAAAFnRSTlMAq1RmmUTNIjK7EInv3Xbt5cnn9enzas/lfgAAAAlwSFlzAAAOxAAADsQBlSsOGwAA\n",
       "A6ZJREFUWMPdWIuSpCAMlJdAgNzb///UAwQFBnGx9mq2ztqdlDPSIW0nBJbly1yysQ+Gft6DnzGr\n",
       "f3khre3MJfDiBw5dHw+gd0uO7yl7J1nU1HaS6v7cle76eAQdLRf56/WdYoO1trPXCr1vter5eAgd\n",
       "rMrikvqd0uKstt2kGPzGeE9apOvjIXS0mTpD38mWbWw3WXEE0BGXll0fT6GDZYnW9Z1k0bW28yGt\n",
       "r+oQpOvjMXS01oXLmrcmoqktIBJQptb7S0iSGJTpS0Neo5Q9H4AxI4FMQ0fLYynU8DlhD0v5x17f\n",
       "DoMEF+5GIQnr6dDbjspO5fD4+t3PX+GTtD7MQkNKsm0aOlpJ8sd05+a48Usqs+fg0VJhxOVPjlaW\n",
       "yRAOLIQNQgIb1/REKLU30krYiu5DiJ6G3m2Q1SCS3mKDRGs/gpLFQNUDDtgavRArKhvUzosys6vF\n",
       "7jUjw/CoDpdyV21t1eJdH36qNlBjcRp6t4HYqRrPucoNLYakKUregC0iP8zWUoRzKQAbfMEmcu7c\n",
       "SOvAFiHB1KamoZNdF5aeBsPQHG4QufR/ufUnqfU/G2eqqPC18IKtavgiTAMzyMQYkx8IcB0SbFiW\n",
       "H+pqJf7+41xdtzJ2FC3aZRo6WUNT0wVOetZzfChDdq80LSWLfyfKO4GTEap8JlLRZ+sYznW4vvl/\n",
       "VsDUnRGWFnyWE7tUou2EFCZG1oXG+TJ919wfPkj+mIROVuYyzX1anZGw6CEpVkKgFnXV93q2fCai\n",
       "7rJVDc+CPGHqBaBcpBe6KeB+GoKOMjFETx1PyzBvmH1dnLMPToJy2Tx0tkSdqY0l61uR/MQ/7Fd1\n",
       "v5BGrWi6swWmLHo1DefwU5AZpl42XGmBI/p4GR3WLSBolCS4z92Ju31j9gG+leKbnIduXEDA0Oys\n",
       "FkFnB2x42PrxylTa8grAC7bS8JCJ33/omIknTFO4VG1nG27p7k8bCmyzzkM3LnwUoWwJBkEwPj8j\n",
       "KI/y2Z2JrW5kWWS7VOPJ1jm83t8eMNdb1wdb32bH3D2S2LHDpMDSeeiXTbnw6kfDgio8HEdhECHd\n",
       "hdTQ635aobK292W6y9Y5vN4pHDD9HbB+dG7UHKCw/jYuYjvcq8Es9PCMhrZ3ELM09Rkhrbr9rL7L\n",
       "oQKmrgK6LXAzV8Ox6++xIrbvEbl4AD16jQLaO1+ZxX0P24+1GHcJk/ewEh+cbzaRXBW/B9gZGkea\n",
       "Zy93wvetyzO2qCgrBL71tONLXfK/ju4vLUEhf1AXDB8AAAAASUVORK5CYII=\n",
       "\" style=\"display:inline;vertical-align:middle;\" /></a><br>(see <a class=\"ProveItLink\" href=\"../../../__pv_it/theorems/d2a3274bc87e4b690ff7e12c944fd2df769594930/dependencies.ipynb\">dependencies</a>)<br>"
      ],
      "text/plain": [
       "<IPython.core.display.HTML object>"
      ]
     },
     "metadata": {},
     "output_type": "display_data"
    }
   ],
   "source": [
    "%proving right_add_neq_nat"
   ]
  },
  {
   "cell_type": "code",
   "execution_count": null,
   "metadata": {},
   "outputs": [],
   "source": []
  }
 ],
 "metadata": {
  "kernelspec": {
   "display_name": "Python 3",
   "language": "python",
   "name": "python3"
  }
 },
 "nbformat": 4,
 "nbformat_minor": 0
}