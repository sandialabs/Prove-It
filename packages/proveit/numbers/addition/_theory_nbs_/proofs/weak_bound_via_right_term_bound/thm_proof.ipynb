{
 "cells": [
  {
   "cell_type": "markdown",
   "metadata": {},
   "source": [
    "Proof of <a class=\"ProveItLink\" href=\"../../../../../_theory_nbs_/theory.ipynb\">proveit</a>.<a class=\"ProveItLink\" href=\"../../../../_theory_nbs_/theory.ipynb\">numbers</a>.<a class=\"ProveItLink\" href=\"../../theory.ipynb\">addition</a>.<a class=\"ProveItLink\" href=\"../../theorems.ipynb#weak_bound_via_right_term_bound\">weak_bound_via_right_term_bound</a> theorem\n",
    "========"
   ]
  },
  {
   "cell_type": "code",
   "execution_count": 1,
   "metadata": {},
   "outputs": [],
   "source": [
    "import proveit\n",
    "theory = proveit.Theory() # the theorem's theory"
   ]
  },
  {
   "cell_type": "code",
   "execution_count": 2,
   "metadata": {},
   "outputs": [
    {
     "data": {
      "text/html": [
       "With these <a href=\"allowed_presumptions.txt\">allowed</a>/<a href=\"disallowed_presumptions.txt\">disallowed</a> theorem/theory presumptions (e.g., to avoid circular dependencies), we begin our proof of<br><strong id=\"weak_bound_via_right_term_bound\">weak_bound_via_right_term_bound:</strong> <a class=\"ProveItLink\" href=\"../../../__pv_it/theorems/fe33c36912103fd5b37c7bc6790ced94e624436e0/expr.ipynb\"><img src=\"data:image/png;base64,iVBORw0KGgoAAAANSUhEUgAAAS0AAAAXBAMAAACsWwSiAAAAMFBMVEX///8AAAAAAAAAAAAAAAAA\n",
       "AAAAAAAAAAAAAAAAAAAAAAAAAAAAAAAAAAAAAAAAAAAv3aB7AAAAD3RSTlMAq1RmmUTNIjK7EInv\n",
       "3XZ/CtNrAAAACXBIWXMAAA7EAAAOxAGVKw4bAAADvElEQVRIx81WXUgUURQ+OzvrzOys4z4JZshC\n",
       "IURZ+xCCQptiafS7KAhh5JIPQQ8xPhYWa49luBVkWyBjCCWCrgUaRrIUQRSFRFIPLYxkWUbim+FT\n",
       "92+dn50byUZ04Nt778459373nnPPPQB/Q3QGT5F4FhufaoOiRSi8JWB6W3jLSYYwHmwpjtd2Bo58\n",
       "8rbg7DFKsR8PThdFK5ig4EmJYfWr9bwFT85Q9OIISBXFS4xS2FznGPkb1rt7Dq5b8LR3U+DNqJGi\n",
       "eIUYLBGcIfUy3/kxbVnwtEMGgR+RLSkuvKoZuLy6mL+fmDYLnnZJlOJ1LveqOF6HGKTKRdO50tj8\n",
       "/cfIFxOU1pGo3aJAO7gQhSHkvDDFAYDbfxBDv/nWxXBCV9acvBq0KnEWoJYsWx5xWBRoq0IW9qJo\n",
       "TFB0gxTmLlkz2XiWdBTnyQ/YR28pgs8Ak7Ct5Nf9az50SDvIyMbLU/sSGlegUZZCMdS4Jyd5Ph3X\n",
       "VJjKFPASBh2KzynEFSjFumIu9xEFB9qsDCJJCP0071t+9NQ2Qia8QUYrFILJCft9SZThNKg33bz8\n",
       "N8CLVygF43FXJIdI54Q77r21Ow35J8oaWQpIxNDPaGwKf1puWUCJLzAPPpJ0Ma+lBouXtnCxBbTr\n",
       "5L0IQ9jpx3ETh4eTV6ceRNe+xp0nvLWbQcM+nKWAByi7Bt/Lq3hdvaIERcFYmdEHI4SIKg1GLV6L\n",
       "vtQp+SnZu7kmZ9m8gxTjESgXdPtKI/HNoKK2zp1XPbXhGihoq/4UBfSggdhAVvHDoIya8zXwDdoI\n",
       "L/FOyhb3UcVMwja8aenurJZ/JSYoFFN4JzpOYNflw9DK0kI+cyWBpw2N0IlfjgwF+JBqKK5Rr6yS\n",
       "30qogtp0Oh3RNLXVfh/L8A6PY2K+jC/vrKsUwapH3V8dKw0vC034Es65Q9dTG4ZmjqHpS+MURMZ1\n",
       "pR6/rnKWVEtz8AKukPPSAh2GjVcfqY16W7BpKMmMS5MUvAwuzbp58bQnES4w0Huj97cZo9CjJkQY\n",
       "BfgQWEH5g8QXTFtxL2UngYy6N6GpO+3vsu1tLniJna+06yW3tNVEEIduEwP91LTzIfRFxM8zS6iB\n",
       "rXUJkG6h/9u/ZIabrfM62rFssKpSaLq5PvEAA0fO0SyRI5Jctyg4RNOXobWNu75hCTkS1BW0hdF0\n",
       "2kq4inuWe2BlsREGjniQ8NIWYrgWVHQK+3karPGZ7W6jAl5VAau2k0wKTgXqUa7ztRcZ7F7PN4FY\n",
       "hs9LRvc0PQBt3+F/EOkfr/cLEtATg9Ua9G8AAAAASUVORK5CYII=\n",
       "\" style=\"display:inline;vertical-align:middle;\" /></a><br>(see <a class=\"ProveItLink\" href=\"../../../__pv_it/theorems/4042e89ea6772d6fe4b8a673b00721720f35075a0/dependencies.ipynb\">dependencies</a>)<br>"
      ],
      "text/plain": [
       "<IPython.core.display.HTML object>"
      ]
     },
     "metadata": {},
     "output_type": "display_data"
    },
    {
     "name": "stdout",
     "output_type": "stream",
     "text": [
      "weak_bound_via_right_term_bound may now be readily provable (assuming required theorems are usable).  Simply execute \"%qed\".\n"
     ]
    }
   ],
   "source": [
    "%proving weak_bound_via_right_term_bound"
   ]
  },
  {
   "cell_type": "code",
   "execution_count": null,
   "metadata": {},
   "outputs": [],
   "source": []
  }
 ],
 "metadata": {
  "kernelspec": {
   "display_name": "Python 3",
   "language": "python",
   "name": "python3"
  }
 },
 "nbformat": 4,
 "nbformat_minor": 0
}