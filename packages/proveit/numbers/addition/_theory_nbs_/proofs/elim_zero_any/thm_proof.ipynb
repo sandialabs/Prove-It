{
 "cells": [
  {
   "cell_type": "markdown",
   "metadata": {},
   "source": [
    "Proof of <a class=\"ProveItLink\" href=\"../../../../../_theory_nbs_/theory.ipynb\">proveit</a>.<a class=\"ProveItLink\" href=\"../../../../_theory_nbs_/theory.ipynb\">numbers</a>.<a class=\"ProveItLink\" href=\"../../theory.ipynb\">addition</a>.<a class=\"ProveItLink\" href=\"../../theorems.ipynb#elim_zero_any\">elim_zero_any</a> theorem\n",
    "========"
   ]
  },
  {
   "cell_type": "code",
   "execution_count": 1,
   "metadata": {},
   "outputs": [],
   "source": [
    "import proveit\n",
    "theory = proveit.Theory() # the theorem's theory"
   ]
  },
  {
   "cell_type": "code",
   "execution_count": 2,
   "metadata": {},
   "outputs": [
    {
     "data": {
      "text/html": [
       "With these <a href=\"allowed_presumptions.txt\">allowed</a>/<a href=\"disallowed_presumptions.txt\">disallowed</a> theorem/theory presumptions (e.g., to avoid circular dependencies), we begin our proof of<br><strong id=\"elim_zero_any\">elim_zero_any:</strong> <a class=\"ProveItLink\" href=\"../../../__pv_it/theorems/a95de93ea9552cbb36999b67a726ab78d2cf374a0/expr.ipynb\"><img src=\"data:image/png;base64,iVBORw0KGgoAAAANSUhEUgAABCsAAAAZBAMAAADqGLnXAAAAMFBMVEX///8AAAAAAAAAAAAAAAAA\n",
       "AAAAAAAAAAAAAAAAAAAAAAAAAAAAAAAAAAAAAAAAAAAv3aB7AAAAD3RSTlMAq1RmmUTNIjK7EInv\n",
       "3XZ/CtNrAAAACXBIWXMAAA7EAAAOxAGVKw4bAAAHgklEQVRo3u1be4hUVRj/5j1zZ3ZnKyhLWEYy\n",
       "M3K2IUsyosbMFMVcsD+iBKcsIv9pNoJQwybo9cfqLpXoSmzXisDnjKbRg5bNiC3L2EQr0oFZFUps\n",
       "ZdkwZSXtfOec+zj3np2dA3sXxzxwZr75zu9+j3N/97zuLsAYxVf+Fa6W/1UZLKfGxIQnLpwIfuTr\n",
       "uD8jMmW+rsKnKQQylxMtjpPamKpjWoQqbl0dJYTh0xQILZpQcXM1Wvjwy5/xPCp/iXzc7q2PeM98\n",
       "UaG91y+BbT2oYtSyccLd6G1C4xG+BT/BK6HFPPz9bDVaBFvxy/ux8GNMM+etj6dgpyORcFaGe1rJ\n",
       "qmkjrLvum8cJjUf4JhzDx0po8SpOKJ3VaBHFAWWV92PYXFKD7kFpqXzAG230kjdwI4F+iHeKZpMp\n",
       "2cXDSr5MGwHXTfI4ITF8U6sWvgnH8GnNUHbEU1XXFivJ1x7vadFLasKtbpHPOJXRpiJpAzcSawL/\n",
       "iGh2uS65ODSi5MuyccAJ8TghMXxDqxi+BT/AKqEFrjrD1ZecM8lXznNW+NHFNG97MZmF6LBo9ivZ\n",
       "xfF+JV+WjRVOiMcJieEbWsXwLfgKVpETB8vlH6rTIlEuHyt5TosguliEU9rkPyqSDmjrWavUiwKe\n",
       "GykSWvwtmn3yzLXui8PNAykFX5aN3U6IxwmJ4RtaxfAt+G5WkRYLADZXp0WwADHdc1qEM5yuy/Kx\n",
       "EcnA2Afv6yojo4DnRl4pQfSioNH+0Yt518XFldq52n3ZbMyiBC/T0gTeJySGb7JfKXwbfBarSIs2\n",
       "iJAENGa8IKMFaW/zfmnRgIw9RCL5BoL97l7ckYHFKg8Xw/O07LS4IGjIUiNRcV18hw4/1e6L28C+\n",
       "m+GEeJyQGL6hVQufw6M8/BmMFjE9TnagcQb5jR13Hd4H9zVZx1mbYZ/KDX6j0y3JWrGcmmMMsAnc\n",
       "B39LnrUhaCiBRp87WFwu/1gu/0ykJQBHQfvyGp09jscO8sdRnIisBopnaVlGiiUIXRQ0wRwkS9os\n",
       "x8UPA1yo3Re1wfquw4nyOCFb+DatWvgUTh7LAgu/g9HCXxFXnOtv3ABT4npQt2jRorbi9JXckqQV\n",
       "HW29AW4ribRIdEKxFdYPOp6A70E7C0HzuRvzEaB4yZLTLy45yQ1bnjKdGRcfhdBw7b6oDaZZJqGF\n",
       "lwmJ4RtatfAp3Ap/GT/8zt0vsGgBnnpWsnFrEoFwoKJCi0TBLblbqaMvKhAoiZNIsQIPECktpqpd\n",
       "hMAQJFsj52uc7ynetUHthIC4QSX7/iW66cywOgzBkdp9MRu0pJ1rC48TEsM3tGrhU7gVfprTYs9K\n",
       "sp4ZoK5Pptj57fRb1tppEZ9GstY+OW0sbmyi7TzPVHacuQmcklUMHTrS7mk13yXFMMhu0ospuN6f\n",
       "d/XiMPhytwb0mnuR4llaVn8FenHYFfq1QKZ+Fy3Ok5m8dl/UBvYdwGwnxOOExPANrVr4FA67HuTh\n",
       "z+a0eJnQeleSTkT+nEZn/unxD56w0SLyNfnYme8wuGATrWIpB/WT4JSswnXUkf8Fy068ie2OYhX/\n",
       "4aA71W5IZ7PWHttcRedwOc4FewPFs7Rs+7lDsKMgaHyZWNZNi+vgXajdF7URpOcui5zZepyQGL6h\n",
       "VQufwbPTePiLOC18pKNWU8vb4ll2IDodsqdstIBJpD4E7QCraFQohlrmiR1A22MovUM2OQxIJBcO\n",
       "W2EhO3kNfGhtuaKYxToSefNnbX+6U91y+s1mEug6XUypAY+bDxuCrYHiV6cd2/yPeiY5dniT54Kb\n",
       "Flv2YnS1+qI2SN8R8YiTFh4nJIZvmlYKn8I1fS8P/4j9xXo3PzsIPNfV9TahxfawnRZs8TQA0bRu\n",
       "iAkoOhdXxgD3HczhQCK5cERHx3N0FH3dtvjAlXyD+TstPRSMbFY7FOwe9WRR0KRlFyv6wnOXiOt9\n",
       "5oQkJDWtankFCx+rSQtthIafzEdLbLQItThooZ2Dd7ZBg26IERwc7EsLVPp7UByC/QyIkhNHW2dm\n",
       "gTkiS04wBoy7hHdNaembpRfhJZU3Szwt2euppbJ+FS5W9JXMy16MTUhCUtOKluEcCx+rSQt/LquR\n",
       "+9TOTzzvBvPRN0eLvujZe/FuExwVYQOK280PVPqnovR7oJMDUSI4C8V0kdU57mjNfOPEhExAuM7Y\n",
       "6EpVeLY2vbVQ7T1LtiZcehx8Ifsl75knIqHxCD/ay8LHao0WzfnofsqFVYSO0V/y7I9v7LR49M7T\n",
       "GbzbBEfFYAHF9ny0Dz+4chPqXjsDHIgSwUF7iqH6uA43pegItE+7FphPAi5Ct/Ifa57vkW19L10a\n",
       "UsmVpFULTOpM1deAnQNWmYCExiX8xiYW/kZw/NGen84v2uddGxyH3/apUqc4Ov43miIYktaf4pIF\n",
       "RBykRJyv1e0IAN8ERZROSC6nQvquUXLP6iUhsjTC8GkKAi0eDz/WC7J3IraR5q89BMf0l/41RHox\n",
       "XxHpTLKAFBfSRVwDXGlF2nd1VJ6xrwAFWmSCJ/UxaMFwMrG6FBB1x6decbSQ9l0dlUcWjkaLUR4D\n",
       "D/5PZEoWrpbLtwwey/wHFLo+89iYJGsAAAAASUVORK5CYII=\n",
       "\" style=\"display:inline;vertical-align:middle;\" /></a><br>(see <a class=\"ProveItLink\" href=\"../../../__pv_it/theorems/ed184e1b9786123c4ac71235ed40934128743bbe0/dependencies.ipynb\">dependencies</a>)<br>"
      ],
      "text/plain": [
       "<IPython.core.display.HTML object>"
      ]
     },
     "metadata": {},
     "output_type": "display_data"
    },
    {
     "name": "stdout",
     "output_type": "stream",
     "text": [
      "elim_zero_any may now be readily provable (assuming required theorems are usable).  Simply execute \"%qed\".\n"
     ]
    }
   ],
   "source": [
    "%proving elim_zero_any"
   ]
  },
  {
   "cell_type": "code",
   "execution_count": null,
   "metadata": {},
   "outputs": [],
   "source": []
  }
 ],
 "metadata": {
  "kernelspec": {
   "display_name": "Python 3",
   "language": "python",
   "name": "python3"
  }
 },
 "nbformat": 4,
 "nbformat_minor": 0
}