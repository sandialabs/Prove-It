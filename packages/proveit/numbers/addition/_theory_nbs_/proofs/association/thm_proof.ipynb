{
 "cells": [
  {
   "cell_type": "markdown",
   "metadata": {},
   "source": [
    "Proof of <a class=\"ProveItLink\" href=\"../../../../../_theory_nbs_/theory.ipynb\">proveit</a>.<a class=\"ProveItLink\" href=\"../../../../_theory_nbs_/theory.ipynb\">numbers</a>.<a class=\"ProveItLink\" href=\"../../theory.ipynb\">addition</a>.<a class=\"ProveItLink\" href=\"../../theorems.ipynb#association\">association</a> theorem\n",
    "========"
   ]
  },
  {
   "cell_type": "code",
   "execution_count": 1,
   "metadata": {},
   "outputs": [],
   "source": [
    "import proveit\n",
    "theory = proveit.Theory() # the theorem's theory"
   ]
  },
  {
   "cell_type": "code",
   "execution_count": 2,
   "metadata": {},
   "outputs": [
    {
     "data": {
      "text/html": [
       "With these <a href=\"allowed_presumptions.txt\">allowed</a>/<a href=\"disallowed_presumptions.txt\">disallowed</a> theorem/theory presumptions (e.g., to avoid circular dependencies), we begin our proof of<br><strong id=\"association\">association:</strong> <a class=\"ProveItLink\" href=\"../../../__pv_it/theorems/cdfdb58510fb54706748e460b816f681097ef76e0/expr.ipynb\"><img src=\"data:image/png;base64,iVBORw0KGgoAAAANSUhEUgAAA+8AAAAzBAMAAAAUQCTfAAAAMFBMVEX///8AAAAAAAAAAAAAAAAA\n",
       "AAAAAAAAAAAAAAAAAAAAAAAAAAAAAAAAAAAAAAAAAAAv3aB7AAAAD3RSTlMAq1RmmUTNIjK7EInv\n",
       "3XZ/CtNrAAAACXBIWXMAAA7EAAAOxAGVKw4bAAAKP0lEQVR42u1dbWwcRxl+727vdm/vfGeoxFeQ\n",
       "Ob6KgCa1mihKIuFclZZ+qeqpRYBQaa8KqKL84BJVqhKa9EB8STj4RInoVaXdUKltnLY+EiglFcEt\n",
       "qkKAVEdpIWprdPmQDDG4ltvUkSti5p3dtXd2Zte7ZSc5rzw/zrPvvvvc7Dw7M+/M7HMGCJb04WED\n",
       "llM8Uhgye+bmyl15E/ct8xg87TX5zs7NNQITX+nOW0n0L9MZPGmvWJnUkid+BXuoLpNLUs3zzMq4\n",
       "EJ+qsscnllkn6RbPM7nemBB/N/twJ1tyh8ijwa2egdUDbem1UvAe//4aE+L/wR4+IvnrvhLC6pUy\n",
       "5yFIvsPzzCVGLIhPjbLHmziPtPjhT3u1iZt8rdNCjOlQyMXSot5hrMIyr1nssVvqxOddXfso55Hs\n",
       "CC/0MAOs8rOmZ0UYYqsn8q3Got5hrMIy5z2n6emZWBD/OnuDyapc4nNtEYbY6on8W5BPfMZ7kL8t\n",
       "FsT/hT1UsAPYcminqLY8zF6VqK4Y73DWTN/xEo8htnoi3zb5boF3bnJdYKsn8YdO1tngXZAuNWJA\n",
       "vHaWf9DTh+EhQ9Afi82elXhzLUt68EdZ68gd+gyPIbZ6IetvGSNkKlJnvdUX4RoeQ2z1LPOOktJw\n",
       "znKvH8PkahwjnRgQn3CN6T2k5T3eD9cDPFx11RY168+8ywhIz+9BIT34IdZKWssLPDRagyMnZyFP\n",
       "XI6x3j0tETJagyPDqwQ5Rec5yVHPOsu2Y0B83tWj5Ukhb8AK0Cbp7SljY68dHRtDL2pWKJtOM5tI\n",
       "E/mz2USUKax1t/WzAG/z0GgNgVyFooXsLB4hV1BoYg2BTIPM52lXOOU9EZqJAfFD/TzxR0A/Qx75\n",
       "tqvxUHOxop4N1nryDRipcNZXIT3NQ6M1ODJ5nm4tcd33EXrQFlhDlZmMDpTytHeL19+IAfGv17iu\n",
       "Xj8HqSm+Dk1zyghaiWQk3AhwSy9rncZWxdGD1uDIZBp/g6GfKrmLB8JCQ7gyI6M7WzaScIyHZ2NA\n",
       "/APu8asD+jQkqp/g69A0z0+9Fq3EErwnub0zy1rPYqjAEU+tgZGLdYwf7Imn7U2aYZpHptbgyKQU\n",
       "lcT4pw778/qzGBB/xHWMs5gHYWW5zNehaYZdbKCkv2V/jFSZSsx2ki8p6s/bbNVeBD8RdMjUGhg5\n",
       "0Z8tw3CuzGKQ4P1pHplaAyOTkD5Xz5/ACYPis2fxO4t42pt9NAjxCfrtXbT/rb/pnt6Rmtsz8f2+\n",
       "Ol+Hplm932V+yf7oKbNRfd/TW/6JPQhj3fPLfgHx1BocecUmxwrL/CLQgQGDR6bWwMjwzOrTcM8V\n",
       "9UWa6caKSfyVeHB7EOIVvCJT66Jp/Dm35dh80NQWTn7vhLvCrIKNPCawiqFDIhdrAu8okNen2wR6\n",
       "h19EbIYC8C0MBRtBiNewc9jWRT19ctptWcPVIbOzod73g2sFZmdiNjwuVgRWIXRY5EFR8aJA7tPa\n",
       "LdFmleNpLpvEZ8gIkisFGuNxs29/FxGfOsutTlgNSX3qbVHzyM/NTYX5gj3jvE0MHRb5OEhC/ilc\n",
       "VPdvyMVek/gUeY4ywYK71eRvtYuIL8xwo34DlkbaLBU96zceFxtWVH90bOxPwYjPj4291uqi2svN\n",
       "cqadS4L2zBdHpeKP+y53Vi3irwYgcaNuPiR1P+KVOmSNLqo/ZRaWZlJOXcBq7GlbxG8BlfT6uc58\n",
       "WPwZe6TZcV0l9ayDeOK3JcxXfK/B50RnQ6V/XT5uly8xBcspPPGjFvFZI8fO+nDFG7TjzUqy9yBc\n",
       "61zAuR9+FeYrEi0+JzobNP3o/bth73vhk61l4qMgPtlxxXb34AeuAyQHFGg5iV8VLrbL1/mc6GzQ\n",
       "DpIMSnCwA6nWUu/qLyzxdlcP1QEyR6TzC3PvYL06Yb6gm/z2FzoM8ZkU6WX1AxN20Lhv4Nc88IJx\n",
       "aPIDXM6xkLBgOzTA5xwx3Emzbz+JJVxXWdAL5Gb4KZHkWlO7Gs6dar7BHewn8/MnixhumHsHfVsf\n",
       "r+2lCwr1gx9niM9dTLyeqA1ZgPrfNb7qHcb/GKe43EJasPVUBrmcI72sjeKbJXSqltzquJkCN4+X\n",
       "LqiIGD/dkVpaobAi32sTfzfJbafaGnPv4IWSZi4GJetKoeEkXsVQ7wpcdtpGn5OyNgo3nmIjBGoE\n",
       "etm9sNZ0xFx61ZVsAfCsGUJcA49ZfiTH+SkNvZ4sWwtXqYcNvwUcyYIKxI9WVHFS7kKHaK2vWLaJ\n",
       "T+Bg+6A5wcTthjfJWLq22WyWknW9VXUSD+8DfMXjOGgrDRoFFnphVJ9yhYYFexf7D3C56Yi5PIyw\n",
       "BSA2K/c8WICY4/ww1lRIuVJfazZ/rH3XERkkz7hvSragAvEjFVVk5M7rRMKKkRY4tmX1WVqhuHeQ\n",
       "anxZhR+aLR5u7DDEo+cM3DsMPVjgkVp2g1HT2MUIavw0vWwKnjMdMaeCqxfHs6tpBeDQYPrN4LDn\n",
       "8sMyZe6aBI22ZhLcgV1Z2hvum5ItqED8SEUVqbLfFVKEFfYmjdV4qmW9hXsH+yDR2ZUzF2pSFZhv\n",
       "vQsbfYe1MxuQp32Qrw3dZEC2QrLkYuuDGj9SxoNXCDxxtHKw2+Fl2tTtVcx9FXKWH+aIHwOYqUCr\n",
       "uHUvXWYC+OZV9pIDSe5tWdmCCsSPWFTxR78rpAgrLi0xLb6vpj2HeweDpWwtsQ5U/L2BXbcD8MR/\n",
       "7rKJfuRpsJTetOoAXfkbLGmHYbCGH6YxWwcC951J2pKtnEJtplfNspGZGcndufq05Yc54scAqpsG\n",
       "jCGcAGzDTkl/qnn1/D38zV0lVbnEI37EoorNUokXCSvo+2rMGzhJWgyrE9rXbDJBm2trH3tm0zNn\n",
       "dOYvAjv3RJLCWY5m7mDBzllfhuFFReznBpzY8Sjh/DfN3ew9fNA905csqED8iEUVv3BdIV9Y8SFw\n",
       "E/8l3DtIe0QbLPHav/fbnt+YazsusnLZ0wTOdjRzmbn/Wjnzy0xUEPu5Aa/KXSYq1EaDf8BlCioQ\n",
       "P2JRxVr2CinCCjYd4Yjvx72DFAQhnl4ryjqM/YvnTnzM46wQUBCnlFyFLMkVVCB+xKKKS9gr5Asr\n",
       "1HMc8f4LfTJetvxw+f+7/nwLKhA/YlHFEJxnYUUsBBXKKE+8TEEF4kcsqrjZXUyQLKxIxEFClT7D\n",
       "dfVSBRXY1UcsqljpLiZEL6xgl0U6MSDefNN4IckWVODr1hGLKtazV8gXVpgB8VIn3hXWyxZUIH4I\n",
       "UQUFXURUcR17RQhhhSe6v7DCVFTF7KdQZAsqKH4IUQUF9RdVvOxaCAohrPBC9xVWxOSnUFKuVzFk\n",
       "CyqO+cK/A1GFKuq+ZQorsr2xIB6+zh7KFlSs8YN/J6IKpV9whUxhhbVLsOSJH2RfMpEtqLDwoxNV\n",
       "iIRJUoUVL0I8iC+wNyBbUBEp/mbKj8zECyti85Om7h8xli2oiA6fiioKciWovLDi8xCa+A3d+Y8K\n",
       "MiVYmumCiCo085UcffjJ4MQv/6OCGKRHzIcN/1HB/wDfSP58Bj88VgAAAABJRU5ErkJggg==\n",
       "\" style=\"display:inline;vertical-align:middle;\" /></a><br>(see <a class=\"ProveItLink\" href=\"../../../__pv_it/theorems/380f58cd26e906ec97405e401beec51a6f9c27630/dependencies.ipynb\">dependencies</a>)<br>"
      ],
      "text/plain": [
       "<IPython.core.display.HTML object>"
      ]
     },
     "metadata": {},
     "output_type": "display_data"
    },
    {
     "name": "stdout",
     "output_type": "stream",
     "text": [
      "association may now be readily provable (assuming required theorems are usable).  Simply execute \"%qed\".\n"
     ]
    }
   ],
   "source": [
    "%proving association"
   ]
  },
  {
   "cell_type": "code",
   "execution_count": null,
   "metadata": {},
   "outputs": [],
   "source": []
  }
 ],
 "metadata": {
  "kernelspec": {
   "display_name": "Python 3",
   "language": "python",
   "name": "python3"
  }
 },
 "nbformat": 4,
 "nbformat_minor": 0
}