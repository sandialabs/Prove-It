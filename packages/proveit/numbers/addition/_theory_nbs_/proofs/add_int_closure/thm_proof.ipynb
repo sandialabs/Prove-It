{
 "cells": [
  {
   "cell_type": "markdown",
   "metadata": {},
   "source": [
    "Proof of <a class=\"ProveItLink\" href=\"../../../../../_theory_nbs_/theory.ipynb\">proveit</a>.<a class=\"ProveItLink\" href=\"../../../../_theory_nbs_/theory.ipynb\">numbers</a>.<a class=\"ProveItLink\" href=\"../../theory.ipynb\">addition</a>.<a class=\"ProveItLink\" href=\"../../theorems.ipynb#add_int_closure\">add_int_closure</a> theorem\n",
    "========"
   ]
  },
  {
   "cell_type": "code",
   "execution_count": 1,
   "metadata": {},
   "outputs": [],
   "source": [
    "import proveit\n",
    "theory = proveit.Theory() # the theorem's theory"
   ]
  },
  {
   "cell_type": "code",
   "execution_count": 2,
   "metadata": {},
   "outputs": [
    {
     "data": {
      "text/html": [
       "With these <a href=\"allowed_presumptions.txt\">allowed</a>/<a href=\"disallowed_presumptions.txt\">disallowed</a> theorem/theory presumptions (e.g., to avoid circular dependencies), we begin our proof of<br><strong id=\"add_int_closure\">add_int_closure:</strong> <a class=\"ProveItLink\" href=\"../../../__pv_it/theorems/fc0938a16f238152ecee553a0ed4d52b882f9bbc0/expr.ipynb\"><img src=\"data:image/png;base64,iVBORw0KGgoAAAANSUhEUgAAAZ4AAAAWBAMAAAACxuc9AAAAMFBMVEX///8AAAAAAAAAAAAAAAAA\n",
       "AAAAAAAAAAAAAAAAAAAAAAAAAAAAAAAAAAAAAAAAAAAv3aB7AAAAD3RSTlMAq1RmmUTNIjK7EInv\n",
       "3XZ/CtNrAAAACXBIWXMAAA7EAAAOxAGVKw4bAAAEkklEQVRYw81XXYgbVRT+kkx2kkk2TV/UIixR\n",
       "URfaLRF0QZEaqMKiiMH6pCIBH6Sl2NkqylZZYhEUrNtYaO1UrdM+qOvqJlZDbUuXBSllLWIe1tpW\n",
       "A7MqVC0ri+APRVzvvefOZDKZWSZtHjxwkjPfSW7Ol3PuOfcCgbJ4DlcpqtSeiroCvmLI9av+6R+k\n",
       "9lTilgeIbv1nc/PtvMDryHLoJn8+wb5QEq2R9lh+9Dxn3iij1Ed4Hfdx6Cl/PsG+UPKe1B5Ln9n+\n",
       "rBSQyR8hvI6XeOlV/PkE+0LJRqmeesn7l1E+qL68jlih/TmiY1KrEF4XrFI5fz7BvlAyK9VThZZ/\n",
       "cVpBVdvh+FLW2TvNs/xdA0YiZcLriDH6fQH9INgXavuUSHvO50nK29NO3SWyL0uc9bCvms0zQf0t\n",
       "0BdGlBop1OsvWj7xjc6Md8Ontcon4vW51jZKmgckzmIeAdiTpvvxId+V7ts8KR7Xk5c744ufxrtm\n",
       "F3xolfeZNQxPn1obE58ZFjGPQmV9OUXfUufruDvr8CFfNxKZ++wtuV/7c6TaF1Aa0IY98X2Ux4PQ\n",
       "Tqw2w/GhVTDDzHUCcFVyiTbFOhFz0kwVCZ5Ysxc3pEzFdPi0fGEksWAU+/XUtPx+ukiqLKG/holF\n",
       "UYPN5vesiPmf9BDwHRQRpBv21KzjoFWE7BY/xuDmeWoMORaqKfA65y+3vDLCp6dVSLXqzfGFkntZ\n",
       "k4lh5zNo55OuoMrehjz5mYP2B1YV1b/D5UeuIipP5Ks1Ryb5TLlW4PxMU9rAinlBzt3Bm8ddfIQP\n",
       "UxuO2l91mS2RYIYGRcEeD3a9VS3cgw4+2r+ILSFmhuVDqzyRdVZqOJ+4jk0gbUngPOYjW4DpVSYR\n",
       "HkwdfszFh/u0bxN/SchltsQGJ2nabS/bXccireZwTVTv4PM7IqVb2cZthOTDV9lh8cZypwB+c8q8\n",
       "8Ajbtw2B85hfZJx3DMk5PIjCLy4+3KcUErNQD9DRgpkP/1T0nDcYiAo2iadpO71IZUmTVnRe6ay3\n",
       "gxjiqXzd0w+qbJ9rf0rD5RCrqIc5+weofeacbr0F6p6KwHnMYrYeRGyzYexhfKb6XHy4L13MZLHz\n",
       "Am0JZs7y3LpEgLxdGoaRQ+04PpT/W4NUG/h89OdOPocuvTJQlv+TC+7n5TpvG658ilV4vvENAWse\n",
       "ldtp35zx9VxN4PadQLtcTtQoP/H1nvtCVU/eZeKCY+qJ9kOMANdaeE1MlcE8jkvHOakkQ76D5lk8\n",
       "3835oPoBmymyQuPH6LzjXIAarZijpQJNzjuABQ+ftL57k+AzJc1kkZlazX4R4I0FlndeZAri9k69\n",
       "XWo7n7bzpbr/1fu7OY/ewgpXCfgkx538DOgYY7WVOKsj4uET37j+U3A+u3JkjnAzcRq7dP5CYJKV\n",
       "zn724dtWX9pnj5GkTirkhW0zPjGkl5eXuhnXhy4CYwG+Mc8dVDtm7A2+n/J6ox2YMi3bhAN+HGX5\n",
       "M4y2TsE7pnbl140geXMFfKU79Un3ZXziTA5xakXblhu2ybNHVvJXnxXGpfZUMnowvniqm5VifmYM\n",
       "/yv5Dwy1eH1pVW4vAAAAAElFTkSuQmCC\n",
       "\" style=\"display:inline;vertical-align:middle;\" /></a><br>(see <a class=\"ProveItLink\" href=\"../../../__pv_it/theorems/762a79f4886574c0fa553a01cbb7fc395fdf2c230/dependencies.ipynb\">dependencies</a>)<br>"
      ],
      "text/plain": [
       "<IPython.core.display.HTML object>"
      ]
     },
     "metadata": {},
     "output_type": "display_data"
    }
   ],
   "source": [
    "%proving add_int_closure"
   ]
  },
  {
   "cell_type": "code",
   "execution_count": null,
   "metadata": {},
   "outputs": [],
   "source": []
  }
 ],
 "metadata": {
  "kernelspec": {
   "display_name": "Python 3",
   "language": "python",
   "name": "python3"
  }
 },
 "nbformat": 4,
 "nbformat_minor": 0
}