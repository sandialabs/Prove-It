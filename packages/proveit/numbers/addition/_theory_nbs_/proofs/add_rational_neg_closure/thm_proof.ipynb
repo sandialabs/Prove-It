{
 "cells": [
  {
   "cell_type": "markdown",
   "metadata": {},
   "source": [
    "Proof of <a class=\"ProveItLink\" href=\"../../../../../_theory_nbs_/theory.ipynb\">proveit</a>.<a class=\"ProveItLink\" href=\"../../../../_theory_nbs_/theory.ipynb\">numbers</a>.<a class=\"ProveItLink\" href=\"../../theory.ipynb\">addition</a>.<a class=\"ProveItLink\" href=\"../../theorems.ipynb#add_rational_neg_closure\">add_rational_neg_closure</a> theorem\n",
    "========"
   ]
  },
  {
   "cell_type": "code",
   "execution_count": 1,
   "metadata": {},
   "outputs": [],
   "source": [
    "import proveit\n",
    "theory = proveit.Theory() # the theorem's theory"
   ]
  },
  {
   "cell_type": "code",
   "execution_count": 2,
   "metadata": {},
   "outputs": [
    {
     "data": {
      "text/html": [
       "With these <a href=\"allowed_presumptions.txt\">allowed</a>/<a href=\"disallowed_presumptions.txt\">disallowed</a> theorem/theory presumptions (e.g., to avoid circular dependencies), we begin our proof of<br><strong id=\"add_rational_neg_closure\">add_rational_neg_closure:</strong> <a class=\"ProveItLink\" href=\"../../../__pv_it/theorems/1b3d367dacd5ac9764b69478a5f80a6f52968f410/expr.ipynb\"><img src=\"data:image/png;base64,iVBORw0KGgoAAAANSUhEUgAAAc4AAAAZBAMAAABKhNOgAAAAMFBMVEX///8AAAAAAAAAAAAAAAAA\n",
       "AAAAAAAAAAAAAAAAAAAAAAAAAAAAAAAAAAAAAAAAAAAv3aB7AAAAD3RSTlMAq1RmmUTNIjK7EInv\n",
       "3XZ/CtNrAAAACXBIWXMAAA7EAAAOxAGVKw4bAAAFaElEQVRYw82Yf2gbVRzAv01yuctdknWiYhmW\n",
       "uOlWmC2hVdE6amQdTGUuWP8QJ1oZKIo/LjKUjdlFRJystsFtuBSc1wn+qrNZ59zKYFSG1J8QJU5F\n",
       "Dy4qTO0YRZyTCtbve+8uubt3aVoT6x7k5eV7L+/e573v+/54ANXK5boK9Sn+JCx+CeAnqn9ZvWNv\n",
       "3V555f+ACWKG1B2LyCmTkcS6c1Tr0LXYnKE4Vj/Um1MwuPUcz+6xHbWIRjkbSXvFnJwN5MsXr3VG\n",
       "28koubor5o9uQfEjeHpZ+We0kXKuI+0H5+QMEPsRrNka3Yaf1+t/AIOa87dyYxyEdRl4IYsFJy3P\n",
       "UM5nSme1IqdEVmRrzRM6h5+1vN5564lQSX16OCuecP7eFcQq01UWbKacZDmU2Nzn82H8GqsVUyLr\n",
       "OsGJfYZn7wpigDZO8ompn6/op8j30DBWx4Ll57dQTj8uXLCKHeqohzmK5nH2vf8B52amAI8x/ZUz\n",
       "A1gvD6RLz88we/u5rn9ahTOs69/XbEAacKAAGSV1os8LqIK4Eqe47LTZ5RCtnzSPqZQjmt3jL6vo\n",
       "fRrlXI9bzY2Wc3Di4oS0mt0KGoEgKo8wCa9qPFAFcUXOe9QQHoQ3sHUd2E2pYLRjPWBzD4NpypkC\n",
       "Ee2M7DSnCQcndkjVbhfxLRFc5XfisAHgtV4XEBXLx5dq8+OUT0IAD8IJbF7tcPNijjjJnmg5xtyR\n",
       "pJwhTcGGwsYVC0dgTaObEzf8yAKpRvYsdTmiCI4ZxjdtBPgOpLN5GnzigcBzQ+w5FQfo5O1iZ9mg\n",
       "65/p+hekyzRETKUbpOqK/fVvScs8n2XdGGWcPsMyQwNNe+EKRSNdXJxtCzFDUjGbFI+D0s7vJ+H8\n",
       "GGT0ML68az+peElS/HN++xnO0PlTDWbmx+owlHLZ2x1p05KaviawnkRGRkKB97oL3Uk7Z9BvzJ+z\n",
       "G8dVngC5Q93S3V0ex9Rb+W/wT/OcTOzX5ss5asBNAPeSLW+lAms82ET9p22RB1XGOYbuUSiaAVTL\n",
       "VX0Kdz5BWYl7LB+eslRxpOuoh6oyYZRYgJ2rAAznVBtwxUMGyL+h5V3FczIxKPl5csbgUt82g/jk\n",
       "G6jgbCkRI/HQJbbIx7S3sB0X5d0lGtv5FuXAJp5T/ACrg+qgySl/LZ3n0xFT+BapOuMcZxRjBAVf\n",
       "tR9aEwleb5kYXnTaIfkPqxrtdXCGDF8hIB7Im/EkqkvJkRzC+PZi24vXmPlKA+rZtlYz0mqBxC88\n",
       "J1xG9BH6Mfwj8wgkpAm44ydn2kyFkGGBGWE0nC5XwLWXcF7DU883p3lOJhaHXOKCVUUSTnvbfCz1\n",
       "M9EPgK+YoOluy+JufOD3tO3FN9vzsv3gfyibfQk5R4Kc/2TlQyiC1Eo4w0lMAibkaQcHFRJ3huFz\n",
       "7C5eb/H/AN+U/GPe01FugacWEg+NvolY5kjCOIv7yMZ1ueMli1OeSUs5tp9Cm3f+KZ+H3W+zbG5U\n",
       "DXVqquQMVqlwtQG7aNJA7RCfr1zDcToCdnHfzlsXEsevDKAe8T2boxc9Vz5PMzZOX2+CRUXXYv5W\n",
       "Ic+elM51Es4RCKuDPRqEktiUc1ZFhcsTLHKSiqC4k9p+cqxMdvH9v7w2LDw7O70QLz182jOR8jU9\n",
       "sruczzTa97NZha2o1NIplaXVHpx3tk/FCWd/TFjbdpgGjP0xaRL6VVIxYQiP2D5qfAv3p90Bbszu\n",
       "5upWXq7yPKK67k3k8ezeqvcmRG+ZZVM0w2qSwloHfYiYzaKFOvqs5/1QX70xo9Xy/391PySdGQOB\n",
       "mf7HZ/NWk5wn1gr9WjK/K253X2OuvqDv+x5139/6vZp+7n8D118Y97caub89+Q8uKIhtV/ouiAAA\n",
       "AABJRU5ErkJggg==\n",
       "\" style=\"display:inline;vertical-align:middle;\" /></a><br>(see <a class=\"ProveItLink\" href=\"../../../__pv_it/theorems/3be7e4aadd66623acc23684f5d1750f3856bbe960/dependencies.ipynb\">dependencies</a>)<br>"
      ],
      "text/plain": [
       "<IPython.core.display.HTML object>"
      ]
     },
     "metadata": {},
     "output_type": "display_data"
    }
   ],
   "source": [
    "%proving add_rational_neg_closure"
   ]
  },
  {
   "cell_type": "code",
   "execution_count": null,
   "metadata": {},
   "outputs": [],
   "source": []
  }
 ],
 "metadata": {
  "kernelspec": {
   "display_name": "Python 3",
   "language": "python",
   "name": "python3"
  }
 },
 "nbformat": 4,
 "nbformat_minor": 0
}