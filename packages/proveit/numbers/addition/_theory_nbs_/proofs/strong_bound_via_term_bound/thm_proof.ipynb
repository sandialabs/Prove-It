{
 "cells": [
  {
   "cell_type": "markdown",
   "metadata": {},
   "source": [
    "Proof of <a class=\"ProveItLink\" href=\"../../../../../_theory_nbs_/theory.ipynb\">proveit</a>.<a class=\"ProveItLink\" href=\"../../../../_theory_nbs_/theory.ipynb\">numbers</a>.<a class=\"ProveItLink\" href=\"../../theory.ipynb\">addition</a>.<a class=\"ProveItLink\" href=\"../../theorems.ipynb#strong_bound_via_term_bound\">strong_bound_via_term_bound</a> theorem\n",
    "========"
   ]
  },
  {
   "cell_type": "code",
   "execution_count": 1,
   "metadata": {},
   "outputs": [],
   "source": [
    "import proveit\n",
    "theory = proveit.Theory() # the theorem's theory"
   ]
  },
  {
   "cell_type": "code",
   "execution_count": 2,
   "metadata": {},
   "outputs": [
    {
     "data": {
      "text/html": [
       "With these <a href=\"allowed_presumptions.txt\">allowed</a>/<a href=\"disallowed_presumptions.txt\">disallowed</a> theorem/theory presumptions (e.g., to avoid circular dependencies), we begin our proof of<br><strong id=\"strong_bound_via_term_bound\">strong_bound_via_term_bound:</strong> <a class=\"ProveItLink\" href=\"../../../__pv_it/theorems/c87323b88d4ea05f2698812a32bef25e484b54a40/expr.ipynb\"><img src=\"data:image/png;base64,iVBORw0KGgoAAAANSUhEUgAABMMAAAAZBAMAAADOLfRSAAAAMFBMVEX///8AAAAAAAAAAAAAAAAA\n",
       "AAAAAAAAAAAAAAAAAAAAAAAAAAAAAAAAAAAAAAAAAAAv3aB7AAAAD3RSTlMAq1RmmUTNIjK7EInv\n",
       "3XZ/CtNrAAAACXBIWXMAAA7EAAAOxAGVKw4bAAAJyUlEQVRo3u1bf4wcVR3/7uyv2Zm96SpKLE0u\n",
       "q9RaondOsNb01LL1oBDMtRfOEEIJtwrG0D9k+pcpYl2JiSac7SlUXDDHFAmmrXJLgSJNuCwQUxWp\n",
       "JylCDjaZ09MKzV2aJrXNkVDfz/n13uzM9bqXXNOXvN133+/3ve/3853PvHnvzR5ATEm13roA1eVy\n",
       "uRitNwBmW+VYw9wFqZauWKjml/OVyEehWrbF4gC+gGraXO4UM/BN8s/lfEGyTgSqZVvuZJVTrITb\n",
       "V7fjUQp/KaaUYnG9O14+i2NrLLFT7deTiaWRZf/rrPEvOaolLW4wFwOQYdLKKXYDFn6nHcUyg/jL\n",
       "klIsrnfHL3YVfTy15G5zleTSyHI372ZLUS1tufsiAoLtrDKK/QgvB0bbUUzFU9VO+YMyrnenSwbf\n",
       "LP2CeEhuPRQ1jFSRNSPtVpRjpdmoNYirOM2+0xUpqkUhknsXpUIwCWBGBuGOsY5VRjF8D+nltgsu\n",
       "TMhDclVc706XIv5oCuJeuXVv1DBSheJE2g3bsVJJ76AiO88lf/GUaywX1aIQyb2LUjGYeJhRQXhj\n",
       "FG1aGcXwij/XfrmPLatyVVzvTpc1OE3VJafYS/HSWIrp7kLnLlf31ZtdVEtLMX0yOcyoILwxciat\n",
       "fEf5eqv1WnuKFVutdxsRO8qY3p0uX8ePFRzbjoldkmzkV51wFkKxwCg8/drcVQ8eCtp9c+6jkt4B\n",
       "aSzFct3TbPp/hqtmj3ioIkJPiMj1LkOkzZiwLyqYeJhR2fPG0Eu0cordBPBoe4plalCwIygW07vT\n",
       "5S52z2SPwuO2mI07rML8Qqb6wCg8/RmYdgYCdtr/7HFL6B2UxlJsfLt2lrbWs/4vOT5UEaEnROQ+\n",
       "AGWIdKUJ10UFEwszMnveGOkqrZxiOyCPCKfRsWoyHiH9jqhzMdq7s6XNvuYNVLvQvfM7EwZE0Nqr\n",
       "kJlcAMXoKCwVbvq/BNfZVwTslHkoOkLvoDSWYp+34RiAilqfo/PTgOlDFRF6UkTciRTRA2iIlbJg\n",
       "2gKKzZ4HCFGYVE6xgq0PImbTsd6maI8/D18peTx6FJ6Pohjtnbio94gtmRaVnsObvktbbXasf8SL\n",
       "SxTAVoB3AH5DVmUDrdZfW62/4/nnFHQ14OAzVwXFoeIp6CgkFRm0OECLgBK57TaH7DJVWNHQ1suk\n",
       "1Jmvd2iv6CnQoB+g+wPd1HuI6sqyHxUNXfSRBJHPiRSRjYhzTBKMkD4PUJLseYDUU7RyiilOcL2+\n",
       "e+Ve+KRuZ2yPR73S1T5RhXvHlVWSlqhVp+uDhg4vNCQU02QU+zNoZ0CdmwzeV8VRGB9Ek+BAwvuQ\n",
       "jCKZh46F7NBVHi7vnpVJXWexs9g7kGW7/DskFKOhCz6SIuJO5IiGbfWcGIyQviCg2Ox5gLJNWt0X\n",
       "SNWNgVsAra7gaqei+3iUSztRFAv1ji1/krRE7fXoVjAM6HNEiuU32eKDUvsQ0uiuUUI5GnfwmuMM\n",
       "/LCWKElsFIFi2bNwIDDAijJstaEnlGIidZ3FUuw0ZNiqqkfyoKShCz6SIuILezmizWA0JcGE0xcE\n",
       "FEsxDxAeCFeXYoe2oyxO061Gmb7OWPvpXX6K6WvQZTVmdt2I2neWoOSnGO4NBze+wP35mt7E8+xJ\n",
       "thpQP5y2wy3fg5LJyNsHRLH3Kz6Kzd04gwZRP2LhYFOsxxh+VjugnYZU9TMixcpwpWL1JaYYGYWm\n",
       "wneZ9qaa0AjmvobWRCLFsLQvMcXO4YXS019DrQ3h5f4YD12kWEJEPHYpIvg5FEqSYASKBQDFUswD\n",
       "lB6l1aXY/cjd0yvwtc0oVY1cz7X6E9t8PMq/jD5OpEa/hYJ25tWmn2K4t/aWyvcjvqZXfm/tYRQz\n",
       "poxKuOUVLttP/tDzY6ZHMcNamStD9mGLBDsC3n4fb4/HoKdSEXJUcJTjGd/5jrtTwheryho+BRmF\n",
       "psJLv3LuyWa2HLBLmYWKSDEq5c7cvRr3w51xxRXwMNrJrGFnFCSu2fddVCz0sI8IRNhJABF3IkUE\n",
       "m2DYlAQTTl8QUGz2PED4GAlXl2IpxNL7CJYDeoW+UVgLlff8PPoEqmbBQYb5JyaNUb8K985UEO3y\n",
       "5PCCNG+ZCW4BrgdEiQJJkZmuUkPcCtthGaBFIHkjYWQeG/Ut99MwpkL2MZwsFCyP7md47kOZ2Xfy\n",
       "J901IUda9x92/BcZTIVWE8fx47XCGj4FGeW+ntBMsMVZfW1o3FX9kocYlXJn/OJ5fo4HFfueM0Gz\n",
       "n0OtN72j1yMcFQtd8CFHRJz4EblOZIhg38RWSwxGTF8AUHz2XEBdg7QGf8wzxo5l0/fU679AFDuY\n",
       "8/OIzpskrFQj5YRVxUGjBA9Muc2mdiq07+NTdbGWKTFD1ArbYRk5KKrX62XD0G8J7CjR7DhSZruC\n",
       "btYD71/YNhjEHLGy017Q6f5Y/Om+bwkVlu60Ey733SOwvO8UYr3lomrjIx5R0ImI6LDMTp6+BWYP\n",
       "n+n9gNUAxbT5GmWR2qCzWLZXoNgI+Z1Z12CxFlaNW4U+G6bcpuU+S+ngZ+GhA8oEcQDFMjXErZAd\n",
       "kaXXATxIZjEju832UUxt5kF7kXDsTXdfQF4hrxNyFHhjm6/kLYnYX/wKloq2r8GDl39I5iz+NTi/\n",
       "b8SX3t6LcamPBIgCTsKI9Kr2isxOmr4FZg8DIr9L6A9TTKlWtAZmET2r/yK48w7nUb55GLBNV20Y\n",
       "hFnM2jNEKHaQNQuDqImM8Qf6Oqqe6VNWY3WXjda2U24L2TEr9EFl33sK6LsEQ4cjvuX+/XoVL0Le\n",
       "wxG/nXVnv0fw89UK5yh4y//0x/YC9rwoFckMey6CM3yPSX7E8khbH4tF1OWkpL+wk6bvAgDhn96Q\n",
       "n98EZ7FuS32F8GonPjr7h+Xu2Vwebdk2ZyMbpf+XAsWy/b3PEuaMlGnzJtxUj8KIpR5Ffb5x7UkT\n",
       "fkVkWxxmSFrIDqmxFfpgsi+j+JAt3PqfxpObPYpl/j1BFsMbUMirN7jndHhnoLEnaf7wB7Kn09/O\n",
       "n1/IsQpKRSK77987sXhnaFXh8ckr+9v6WCwiZeMNMjN5+i4AEL7lyW0v/LBaIQ9S7cX6XuHwy2fz\n",
       "W3hIriLPP7pW0m2HN+m4GOdkmctcQ2KnuANQ7cfxyUe97tsIBI9er7E0q+DGncdZ2QXLteRMtFWW\n",
       "XG1nGQOCE0CrSLHbc7c1I85XPRvozlblqt2vlSFL59R7z0/yJulD15w2k3mG2I6rgfcQZ+vwC6SU\n",
       "cytcGuXbI3BplSAggWJmZsaOo5gJQycjVPRkQdI0JbI0iGoiMz5ViaVYdmPjErkiW26+xCgWBJT0\n",
       "P5Ci/1ky14H/o1Q+JsosuFyWYTFarwLMvmv+H5trlBIW/PvYAAAAAElFTkSuQmCC\n",
       "\" style=\"display:inline;vertical-align:middle;\" /></a><br>(see <a class=\"ProveItLink\" href=\"../../../__pv_it/theorems/ed558e4253adc0d6753c3288a1bf0097426df0bd0/dependencies.ipynb\">dependencies</a>)<br>"
      ],
      "text/plain": [
       "<IPython.core.display.HTML object>"
      ]
     },
     "metadata": {},
     "output_type": "display_data"
    }
   ],
   "source": [
    "%proving strong_bound_via_term_bound"
   ]
  },
  {
   "cell_type": "code",
   "execution_count": null,
   "metadata": {},
   "outputs": [],
   "source": []
  }
 ],
 "metadata": {
  "kernelspec": {
   "display_name": "Python 3",
   "language": "python",
   "name": "python3"
  }
 },
 "nbformat": 4,
 "nbformat_minor": 0
}