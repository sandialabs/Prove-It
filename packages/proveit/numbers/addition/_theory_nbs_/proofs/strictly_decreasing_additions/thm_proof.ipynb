{
 "cells": [
  {
   "cell_type": "markdown",
   "metadata": {},
   "source": [
    "Proof of <a class=\"ProveItLink\" href=\"../../../../../_theory_nbs_/theory.ipynb\">proveit</a>.<a class=\"ProveItLink\" href=\"../../../../_theory_nbs_/theory.ipynb\">numbers</a>.<a class=\"ProveItLink\" href=\"../../theory.ipynb\">addition</a>.<a class=\"ProveItLink\" href=\"../../theorems.ipynb#strictly_decreasing_additions\">strictly_decreasing_additions</a> theorem\n",
    "========"
   ]
  },
  {
   "cell_type": "code",
   "execution_count": 1,
   "metadata": {},
   "outputs": [],
   "source": [
    "import proveit\n",
    "theory = proveit.Theory() # the theorem's theory"
   ]
  },
  {
   "cell_type": "code",
   "execution_count": 2,
   "metadata": {},
   "outputs": [
    {
     "data": {
      "text/html": [
       "With these <a href=\"allowed_presumptions.txt\">allowed</a>/<a href=\"disallowed_presumptions.txt\">disallowed</a> theorem/theory presumptions (e.g., to avoid circular dependencies), we begin our proof of<br><strong id=\"strictly_decreasing_additions\">strictly_decreasing_additions:</strong> <a class=\"ProveItLink\" href=\"../../../__pv_it/theorems/55f3ae9f95056669dab306c997cde49b029c1e510/expr.ipynb\"><img src=\"data:image/png;base64,iVBORw0KGgoAAAANSUhEUgAAAxwAAAAZBAMAAABJDDUVAAAAMFBMVEX///8AAAAAAAAAAAAAAAAA\n",
       "AAAAAAAAAAAAAAAAAAAAAAAAAAAAAAAAAAAAAAAAAAAv3aB7AAAAD3RSTlMAq1RmmUTNIjK7EInv\n",
       "3XZ/CtNrAAAACXBIWXMAAA7EAAAOxAGVKw4bAAAHDklEQVRo3u1afYhVRRQ/+959X/e+fbv0RSUs\n",
       "ry8TardHmuQW2y1XsUJdKiJScssk9I96ghBraS8ICtp0qUSfxXaLiHTLXb/KDBdLxKyszdYK7clb\n",
       "lCxNEUONjbQ5M3M/Z+59b6P3SHRg7h7P/HbOmfnNnJkzK0CJUlP4ES6UqpRUYXdJTLTKPh39KbA5\n",
       "y+u5WuS+x/jAx/7v6NgYvIDSrJ6z5RGpNlJkIx8L9fjPa4LoqMEfoUzV6Ajy6AZeK1fUNwcqGpCE\n",
       "eVy1i3wOmHRMQtUTQXQobfgjWzU6AjxS21mtZInqFe1+nqB5HI0anI7nMXR1BdERx+XaUb1gFeCR\n",
       "kmHVU+6Xd+WjhkgmCF2XLgtWnimxYZwAOUFqWOd0IC9aOvDsQELXVY+OAI+SvHpKk7wrHzWEikHo\n",
       "WUZZsPJMiQ1Jw/aDhoDIMH6/5HSEM8HHdZSd9+3VoyPAo9G8VpKOLVBROqLWngsPUmY0elbN5nTA\n",
       "rkLhq2A6koXCz31VvFn5e3Qvr7FRh4qSMfuofemY379YRD967CIPrP9ATtKpXOtHh3bsVi7Um4f6\n",
       "PrZPog1DJBSsNemYArAymA4lBwmjinT4ezSb15nZxLBkzD5qPzoiO+Atw4tWTxm9WRdsUVrpEjuV\n",
       "a/3oiO2Gu/me4HGmZz9H9M5TTwOMN+mYDzFCmMpcyMnoIO3zq5l3MI9kZTer6jZQBsQx+6h96fgg\n",
       "A1OtkZvo0DAkiy7YPlPh6lSu9aOjtg++AYhjr1upYsH3JuImA5tuNOlIGBq5yWqsb5YSxwY3wu31\n",
       "dhq4skRy9u9L40d3PinQQT2Kz5VAtrOqHMfxqeOpbmqh8HWh8B2Y6p61V7rVnssZibwkGuLopuOk\n",
       "spE7OmmHuj4nTMENJ9pCbQlTjobpdBfWktUeP06fnh6zQJMB/gJYatIRKrrPzSVXLIOrNEMxbDqa\n",
       "KnKSx4fybSkNPu7z0sE8GiWBcDqSXdDbBkuOepYgU+u45MvaHTtBPSlbx7PSTlgSY5LMFpRhymzY\n",
       "ad+yt3ro2AcRctWdadIB7S2u1TMFc+KirjkeSaLhYgXoaCVrJZWC5qLwSEI9+kIC4cGqtwh34L7x\n",
       "jJmpT8JzubLoUM9A+LgwcSTtYEvZhPXSHxJb5ZjiDcSUZXzAE6xO0J3WaNGxjuQVkSH6WwfTNF2H\n",
       "MdctdtKhjSYOquuPmJm5Q3RkzLay3yK4v0X0UDtQtJ4LyFwf1mOtra2TnHSgR/EzQ4YN4Y3drPam\n",
       "4bJQVpwiqm4um44TUNN+PRu5g44cOYKcsDriRJtgi2qby6UD/iBTDGvuwqO8y3OU/4lnGEyw6HiW\n",
       "BMg1dbgilFC7StFjtHdmOOiIfUY+H2aXmtPtEO1iK2vbOsErOcqeON2vqygnWqw7I+wO9Ci1N6UL\n",
       "kLWsJoqhQUVcsVxtZQ4mS/iycgr4xxGsuqFR19nIbXRNJqG7YOQCpeUEW0zrNUUtWPYcDeRatQl0\n",
       "TJkUM/Cu2c8MXwyvs+s7p6OGdLuQmlut6exlYAzovzlfdC/HwAFkajtoFyhGmiZ5Yg+2J5jt9zmQ\n",
       "SAJO6VJzQE4m+nyQUt7oEl900aNEJtwuQF5hVW3YNP9XkQ6uju/1nAY4vYNgfmw63j7yYkNuYaOn\n",
       "k1ETPUfMp2MPi7aY1muKWrDt2Q3a+hZDNTbQFWqlgSzxeHsDTvkeiw4rDGDKGJ6bz79K6OiJeh/Y\n",
       "t8MQxBsNU0xCr3seUWkduBZQxCW5P+Pz+Xw6ldLukz+wJ3NKvQDBq0mtdRlvlF8zO4wRZeXdfmgX\n",
       "TG6rpCl3A6ZMi+x/hu130tiAiw51mA6yLhvvY7sj0uShg+Qqr62GWsMUY+COQ1QZ6kfxNE6cwSUv\n",
       "jtggjowDeJku/VRkhiGlow6SaQGCL21hXZgi1ztdTI9lR/CEyEcuQbtgUlulTbkbcGIm+r6NOugI\n",
       "tesqIaKT58O3gLXUrd2xI36yGWeZ4KgIy1DssT6oDF2L0hzQOBAlgnOgeiDaBn1Pvwcs0Se32M26\n",
       "lI5aY4IEspxX9xS5N8dLL4zkCYGMvKwE6T8whWemz1N1B7h3R0M2/jnloANTlR+y7I9OTjoeuPlI\n",
       "BmeZ4Kio5FDszMZ34IcrV6BuAQmrDIgSwUFnmqHIJx2b2GLAbcSxFaTTB3/pe3eylI74tKIEssq8\n",
       "A5DyzFP9spF9e/bsSK7bZORloOS2RmgqRW4oCbm15W466DqhwU39JL/M80jiKBiDQkzcnLJEMCV1\n",
       "IM0lG4g4sN/LmXQpXvXy+TbRsS3Ov5ULkFiR1XOy4GPuITlRhKSj2910PBx9aKv0CdGx3X5fR3BM\n",
       "f/ZvU6S/zM9Fg0k2kOIi1p7m0gCcf2VOZ0mIk46MctAoQQfDycRgKeyWUlfr5yEd0+4ZER0+O6wC\n",
       "/88qdAlcKJKQVdj2D56aWqNju+y3AAAAAElFTkSuQmCC\n",
       "\" style=\"display:inline;vertical-align:middle;\" /></a><br>(see <a class=\"ProveItLink\" href=\"../../../__pv_it/theorems/7a8d2c92814ba5bf035d01ebd4f16e844fc155d00/dependencies.ipynb\">dependencies</a>)<br>"
      ],
      "text/plain": [
       "<IPython.core.display.HTML object>"
      ]
     },
     "metadata": {},
     "output_type": "display_data"
    }
   ],
   "source": [
    "%proving strictly_decreasing_additions"
   ]
  },
  {
   "cell_type": "code",
   "execution_count": null,
   "metadata": {},
   "outputs": [],
   "source": []
  }
 ],
 "metadata": {
  "kernelspec": {
   "display_name": "Python 3",
   "language": "python",
   "name": "python3"
  }
 },
 "nbformat": 4,
 "nbformat_minor": 0
}