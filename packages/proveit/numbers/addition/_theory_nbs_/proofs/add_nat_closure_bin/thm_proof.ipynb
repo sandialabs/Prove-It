{
 "cells": [
  {
   "cell_type": "markdown",
   "metadata": {},
   "source": [
    "Proof of <a class=\"ProveItLink\" href=\"../../../../../_theory_nbs_/theory.ipynb\">proveit</a>.<a class=\"ProveItLink\" href=\"../../../../_theory_nbs_/theory.ipynb\">numbers</a>.<a class=\"ProveItLink\" href=\"../../theory.ipynb\">addition</a>.<a class=\"ProveItLink\" href=\"../../theorems.ipynb#add_nat_closure_bin\">add_nat_closure_bin</a> theorem\n",
    "========"
   ]
  },
  {
   "cell_type": "code",
   "execution_count": 1,
   "metadata": {},
   "outputs": [],
   "source": [
    "import proveit\n",
    "theory = proveit.Theory() # the theorem's theory"
   ]
  },
  {
   "cell_type": "code",
   "execution_count": 2,
   "metadata": {},
   "outputs": [
    {
     "data": {
      "text/html": [
       "With these <a href=\"allowed_presumptions.txt\">allowed</a>/<a href=\"disallowed_presumptions.txt\">disallowed</a> theorem/theory presumptions (e.g., to avoid circular dependencies), we begin our proof of<br><strong id=\"add_nat_closure_bin\">add_nat_closure_bin:</strong> <a class=\"ProveItLink\" href=\"../../../__pv_it/theorems/2d9e0bc6f35dbf06196c004cd25d14fec97e8b7b0/expr.ipynb\"><img src=\"data:image/png;base64,iVBORw0KGgoAAAANSUhEUgAAALYAAAAWBAMAAACfwnvZAAAAMFBMVEX///8AAAAAAAAAAAAAAAAA\n",
       "AAAAAAAAAAAAAAAAAAAAAAAAAAAAAAAAAAAAAAAAAAAv3aB7AAAAD3RSTlMAq1RmmUTNIjK7EInv\n",
       "3XZ/CtNrAAAACXBIWXMAAA7EAAAOxAGVKw4bAAAC8ElEQVQ4y61VTWgTURCe7G6a3c1mGzyIEJEF\n",
       "URC1BJFCPdRAVcSirhb0YLHRHoq9uEUQBIXoTay2l6IrVdaLUEJJqgelIChS8BejKAVh6RYPVQ/S\n",
       "k0IP4ryfTfrys/TgwLdv3rzke/PmzcwDWIM4HK3WmkkC1iSmxdBUTtfN9QV3GJIf5uIBQJoYNkdy\n",
       "b+eoF32ygptm66yadQygBPANYD+ZD0VR63mGRmnL4We4zhibT2bBwEUPrpLYjEdxK1mGmvTxsZ0E\n",
       "anc99zZ0NQUg5wg9JK0oboOjJh18HPDIkscmP3yfHi52IbhIuOENyOhRW2S4t3I0cj+jgWFHOvEz\n",
       "9NvZYJYJ9yDAe99/G8ndy5HILAUi95lf6/DQNBsS1bDHHA0mCPcMwEGAu5Hcgxz9jrYicOu/vZID\n",
       "Mo1Em1PjVnPT06h0AoxAIh3a1XNcudJryy+4/olBfwlKReCWVsAIQHpOuWt36cAuaRKVHZiPXtKu\n",
       "LmTIBouuLaVn4RC3zTEoy5Aqo3rY99/5/keSQHloL4O6TH406qOMc+6YtxGVMdw9WHWVrxD7Cmjs\n",
       "VqAschvjULIFv3GrAQvi1O+p1X7raRKTfkS+Gz/F7ifE5b+LHi006drJoCzGpBTAXjFPML2PeiDR\n",
       "QKVWc8MtDZWdiEd4xfq8+od0jq9mjnogFWa3hNz3GUoWrJccgbuAdwAyjYQZVGsej21eR6ULcRmv\n",
       "Usmp5GhaVs73MW7FDIt1hkELpM+K4Hcsq2HRK8yHs9VGQArxAM/bGG5k2CZJFqOgpDtd17Wkgl4O\n",
       "W8hNBn3T05HvYg5mekg02CU8mGD1qZ5/jd+HiC/8/yVH24Nr7WBYN5jfcDw8ZarA0FiXLF35eOqe\n",
       "LzS0RCXsGc5Yn1eElNeFOYlz2QYzzHpsOhSNvYpKT0SLoxLv6XgMo5Z6JIDEHRKDId7ZidzmaP6+\n",
       "tOqhl8Qpa4dF17UF85SQv/VPQatHTfQm7rVwLWBoKkutHkJxTxn+r/wDBceu0plu/DMAAAAASUVO\n",
       "RK5CYII=\n",
       "\" style=\"display:inline;vertical-align:middle;\" /></a><br>(see <a class=\"ProveItLink\" href=\"../../../__pv_it/theorems/fe7c59e7a6719beb49bde33c1ba78f3d837bce210/dependencies.ipynb\">dependencies</a>)<br>"
      ],
      "text/plain": [
       "<IPython.core.display.HTML object>"
      ]
     },
     "metadata": {},
     "output_type": "display_data"
    },
    {
     "name": "stdout",
     "output_type": "stream",
     "text": [
      "add_nat_closure_bin may now be readily provable (assuming required theorems are usable).  Simply execute \"%qed\".\n"
     ]
    }
   ],
   "source": [
    "%proving add_nat_closure_bin"
   ]
  },
  {
   "cell_type": "code",
   "execution_count": null,
   "metadata": {},
   "outputs": [],
   "source": []
  }
 ],
 "metadata": {
  "kernelspec": {
   "display_name": "Python 3",
   "language": "python",
   "name": "python3"
  }
 },
 "nbformat": 4,
 "nbformat_minor": 0
}