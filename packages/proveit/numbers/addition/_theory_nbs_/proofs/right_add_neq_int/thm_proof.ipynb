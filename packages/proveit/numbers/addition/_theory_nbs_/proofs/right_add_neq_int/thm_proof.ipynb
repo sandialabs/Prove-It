{
 "cells": [
  {
   "cell_type": "markdown",
   "metadata": {},
   "source": [
    "Proof of <a class=\"ProveItLink\" href=\"../../../../../_theory_nbs_/theory.ipynb\">proveit</a>.<a class=\"ProveItLink\" href=\"../../../../_theory_nbs_/theory.ipynb\">numbers</a>.<a class=\"ProveItLink\" href=\"../../theory.ipynb\">addition</a>.<a class=\"ProveItLink\" href=\"../../theorems.ipynb#right_add_neq_int\">right_add_neq_int</a> theorem\n",
    "========"
   ]
  },
  {
   "cell_type": "code",
   "execution_count": 1,
   "metadata": {},
   "outputs": [],
   "source": [
    "import proveit\n",
    "theory = proveit.Theory() # the theorem's theory"
   ]
  },
  {
   "cell_type": "code",
   "execution_count": 2,
   "metadata": {},
   "outputs": [
    {
     "data": {
      "text/html": [
       "With these <a href=\"allowed_presumptions.txt\">allowed</a>/<a href=\"disallowed_presumptions.txt\">disallowed</a> theorem/theory presumptions (e.g., to avoid circular dependencies), we begin our proof of<br><strong id=\"right_add_neq_int\">right_add_neq_int:</strong> <a class=\"ProveItLink\" href=\"../../../__pv_it/theorems/3faa5ba5eca4b77a43edca7a28f59cf11b6f18390/expr.ipynb\"><img src=\"data:image/png;base64,iVBORw0KGgoAAAANSUhEUgAAAS0AAAAXCAMAAABpq+mjAAAARVBMVEX///8AAAAAAAAAAAAAAAAA\n",
       "AAAAAAAAAAAAAAAAAAAAAAAAAAAAAAAAAAAAAAAAAAAAAAAAAAAAAAAAAAAAAAAAAAAAAAAeYafp\n",
       "AAAAFnRSTlMAq1RmmUTNIjK7EInv3Xbt5cnn9enzas/lfgAAAAlwSFlzAAAOxAAADsQBlSsOGwAA\n",
       "A6BJREFUWMPdWIuyoyAM5SlPs2///1OXIFRikV6cu9M7y7TNaM0JCScxwNhXGeYk7+h+1nOfNK1/\n",
       "N0BQOTU0XPyhfM/GHehd8sd9Id8YLBGonI11f+7W9Wzcg85S6Xp7eSPZ/ELl9Fh8766zHRt3oVHa\n",
       "Si7j3kgtJansJ8XgT6l61OI9G3ehs6yhC+KN0Yon2c9WGCF0yOVMz8ZtaJSyhHV5Y7DEQuUNl5Zn\n",
       "dmjes3EfOsu44ojhnYkYqGQegHsbKN+fXDI8gCk3A3/20vRseMgp6fk0dJYql0LnP8fvYS3/0OoV\n",
       "GODA1DpySccUDrftqPKgjsrLv/78hb/8bCMwgTkpt2noLA2vP9ODRxdU+jSlYvB00Ff/rIJKadAd\n",
       "z7gcuORjfqeXgIo4plbFtmJX4W4aepdIq2tPun0McOeSxpomFDz4D0VrsCBRU4lsV02d2dkS95pR\n",
       "YVRmx1oSzG7nqqW6NtJcI4YmwjT0LjGwUzVeqdLHSFwr0xJgEC1uPhwt1rhzSYCItvyma+6MqXVg\n",
       "a0wwu9lp6CIXJsvTPkgIDzMAyqRPbf15af1J46xoqWqjRdSZDieYQSZmn5Ki99cu+Q3a8iNWysTf\n",
       "f1ZClwM7kxYim4YuMojSdPmUWnar/oHB7F5EeZWwtCY2GfFtRKQR9iJaD3XlcHxLX9nAEC0g0qcs\n",
       "5zFX5JFLODG+MJHnK92L5r7aYI7Xn0noIk3kNcVY44nMJkowjMfQgqN9b3KeetTMmahXQh4wpP5z\n",
       "IsVmvUrT0GKUiei+WCu31SmyTy/nR4uhODJXzkNXye2R29BGfWuSn6eH01s9vUgzV5zIix88SRga\n",
       "hkP9IGSFIW+NlUivAJK/UgzrlucQrOGwz33VL/aN1UbSC6A2Mw99MuERw8nDeeTZAxYfjknfHquo\n",
       "hcU1ChfRKuqYid9/uJyJBwwtXJbK6YbbrOzVcUOLHZZ56JOJ5AWWLS19qvaYnxlUsXyVremNNrIh\n",
       "c1WvvUw81On+9gFzuXO9s/U9bZl7RxIFGyflo5iHftqV68R+CNgXIJwCHQCbqXyFqeGW/bSiNhCc\n",
       "J8q6hXfr1kOd7hQeMN0NsLt3bHQ6QJHdbdyOvcJeDWahh2c04nzlc5aWPgPTqtvPulc51MCQIuDO\n",
       "9W1qnIK8dvdYO7aQoPQN6NE6an++SpVZv+5h+842elcwdQtr4M755smTi+p3B7tCw4j08ulKp76V\n",
       "3YuW0G2FgHeednytYf5r7/4CZM8heeIX8nAAAAAASUVORK5CYII=\n",
       "\" style=\"display:inline;vertical-align:middle;\" /></a><br>(see <a class=\"ProveItLink\" href=\"../../../__pv_it/theorems/69b2e180db610faeea433a1597c2f2eb3a2f82d30/dependencies.ipynb\">dependencies</a>)<br>"
      ],
      "text/plain": [
       "<IPython.core.display.HTML object>"
      ]
     },
     "metadata": {},
     "output_type": "display_data"
    }
   ],
   "source": [
    "%proving right_add_neq_int"
   ]
  },
  {
   "cell_type": "code",
   "execution_count": null,
   "metadata": {},
   "outputs": [],
   "source": []
  }
 ],
 "metadata": {
  "kernelspec": {
   "display_name": "Python 3",
   "language": "python",
   "name": "python3"
  }
 },
 "nbformat": 4,
 "nbformat_minor": 0
}