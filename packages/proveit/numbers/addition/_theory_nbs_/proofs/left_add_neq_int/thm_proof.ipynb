{
 "cells": [
  {
   "cell_type": "markdown",
   "metadata": {},
   "source": [
    "Proof of <a class=\"ProveItLink\" href=\"../../../../../_theory_nbs_/theory.ipynb\">proveit</a>.<a class=\"ProveItLink\" href=\"../../../../_theory_nbs_/theory.ipynb\">numbers</a>.<a class=\"ProveItLink\" href=\"../../theory.ipynb\">addition</a>.<a class=\"ProveItLink\" href=\"../../theorems.ipynb#left_add_neq_int\">left_add_neq_int</a> theorem\n",
    "========"
   ]
  },
  {
   "cell_type": "code",
   "execution_count": 1,
   "metadata": {},
   "outputs": [],
   "source": [
    "import proveit\n",
    "theory = proveit.Theory() # the theorem's theory"
   ]
  },
  {
   "cell_type": "code",
   "execution_count": 2,
   "metadata": {},
   "outputs": [
    {
     "data": {
      "text/html": [
       "With these <a href=\"allowed_presumptions.txt\">allowed</a>/<a href=\"disallowed_presumptions.txt\">disallowed</a> theorem/theory presumptions (e.g., to avoid circular dependencies), we begin our proof of<br><strong id=\"left_add_neq_int\">left_add_neq_int:</strong> <a class=\"ProveItLink\" href=\"../../../__pv_it/theorems/e0908d693bdcd9fe2d82be4728197066ffae9abc0/expr.ipynb\"><img src=\"data:image/png;base64,iVBORw0KGgoAAAANSUhEUgAAAS0AAAAXCAMAAABpq+mjAAAARVBMVEX///8AAAAAAAAAAAAAAAAA\n",
       "AAAAAAAAAAAAAAAAAAAAAAAAAAAAAAAAAAAAAAAAAAAAAAAAAAAAAAAAAAAAAAAAAAAAAAAeYafp\n",
       "AAAAFnRSTlMAq1RmmUTNIjK7EInv3Xbt5cnn9enzas/lfgAAAAlwSFlzAAAOxAAADsQBlSsOGwAA\n",
       "A69JREFUWMPdWIvSnCwMlZtAgLT/pb7/o5agqHHRFefr7Ddlds2ocELCSQwMw3dp9iCfjP2qfl80\n",
       "rT/XUHLZ1QyevNDQ0vEEepZifS7VB50lA5e9vm7P3fmWjmfQRWpTH48fJBuMXHa3EVpPvWvoeApN\n",
       "0lVyWf9BamnFZTMmrrivdItaoqWjF7tCF1ldF+QHvRUPshmseInQIJe3LR3d2BWapFrcOn7QWXLk\n",
       "8oG3xld2GNHS0Y9doYuMiVoMnwzEwGXOCyKgxUuLAFGAC0tMBPFqpW3puIMNWMIWBIMuUpdU6OFr\n",
       "7L7M5bdWr9AiZkv9BFfeyqpQ4KDTnFU26uiy/Onf/+gqXsh3AzsMkuJWTQy6SCvqpbuJ6IPOv12q\n",
       "uOgdzNmbJLmEWD7X6Wr9lSVzYBCzF2S8plYPtpPze+EZ9CyJVueWNOsYFN7nESlPKADCLW9dLEg0\n",
       "XOqyqCkwssQ5ZVQUigi9EcpNx6yl2zpuYGd7IrkvIoOeJTm2K8drvdQxitbB7vPrhbeEve2tSDAw\n",
       "mXeZOG6PTLymVh+2oUB1k2PQixwHtfSGoDCsahC1zb9a+oul9GeFs+apau8tNnww4QBzHokw4ZY1\n",
       "LrxlpgwOM7Nl4nnr/1+JUbEPu5AWawQmJoNcii7IoeWmah9aitxx0YJD9rfLAOBZ9pDuxFvrcO2p\n",
       "/ch/tYNho5BJmEinGAdpTy2CnAlELBl5noh/U9x3YOfOol520Iu0UdQQG3aWqKJicYYFci16Xvdm\n",
       "43nlsZszG14JucGw/C+4JMtkOtCWWyQnBzpP1chjgTC/fvk4d2BnNEHMVe36RrgttnEfJdNuAUTu\n",
       "nL/Y+UNauOJlWdgAazC85q1t+EbICsO+GolLEBicFejOLQKNmH2i6g4kmTf7xg5s6hRQ19lX6IMK\n",
       "oPdebcYTz1aDqXPMOty2ikY68n848dYynCLx5z++ROIGwxOX47K73rZpeHfc0IsdRg59UJGtoLRl\n",
       "FORsT/FZBuih3BVtZuKFbCh8NqkVidtwvr9dYU53rk921Yctc+tIogObJg5Rvtnxm8xsDFQXUFeN\n",
       "JiAVU+WOaO/H+bSiFhBCZFr7UTTz1jqc7xRWmOYG2D87NjocoKjmNu4+dsI5Y+yhL89o5PEOSpQu\n",
       "dQaFVbOe9e+IvoPhn7hjfutqB0ek5h7rPrZUuJ773VlHA8e7nJnN+xq2PaHduDOYus21+OR882DJ\n",
       "SYZ6gl2h8YqY6uXO5Lp1eOYtafYZAj952vG9mv2rrfsNa7AheYoD8kgAAAAASUVORK5CYII=\n",
       "\" style=\"display:inline;vertical-align:middle;\" /></a><br>(see <a class=\"ProveItLink\" href=\"../../../__pv_it/theorems/e0a2601cfbd8951e8c4788c89ca8f01e6dd109d90/dependencies.ipynb\">dependencies</a>)<br>"
      ],
      "text/plain": [
       "<IPython.core.display.HTML object>"
      ]
     },
     "metadata": {},
     "output_type": "display_data"
    }
   ],
   "source": [
    "%proving left_add_neq_int"
   ]
  },
  {
   "cell_type": "code",
   "execution_count": null,
   "metadata": {},
   "outputs": [],
   "source": []
  }
 ],
 "metadata": {
  "kernelspec": {
   "display_name": "Python 3",
   "language": "python",
   "name": "python3"
  }
 },
 "nbformat": 4,
 "nbformat_minor": 0
}