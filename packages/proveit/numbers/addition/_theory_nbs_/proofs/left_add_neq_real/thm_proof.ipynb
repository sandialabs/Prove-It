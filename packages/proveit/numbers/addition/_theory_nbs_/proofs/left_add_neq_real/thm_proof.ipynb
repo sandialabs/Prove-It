{
 "cells": [
  {
   "cell_type": "markdown",
   "metadata": {},
   "source": [
    "Proof of <a class=\"ProveItLink\" href=\"../../../../../_theory_nbs_/theory.ipynb\">proveit</a>.<a class=\"ProveItLink\" href=\"../../../../_theory_nbs_/theory.ipynb\">numbers</a>.<a class=\"ProveItLink\" href=\"../../theory.ipynb\">addition</a>.<a class=\"ProveItLink\" href=\"../../theorems.ipynb#left_add_neq_real\">left_add_neq_real</a> theorem\n",
    "========"
   ]
  },
  {
   "cell_type": "code",
   "execution_count": 1,
   "metadata": {},
   "outputs": [],
   "source": [
    "import proveit\n",
    "theory = proveit.Theory() # the theorem's theory"
   ]
  },
  {
   "cell_type": "code",
   "execution_count": 2,
   "metadata": {},
   "outputs": [
    {
     "data": {
      "text/html": [
       "With these <a href=\"allowed_presumptions.txt\">allowed</a>/<a href=\"disallowed_presumptions.txt\">disallowed</a> theorem/theory presumptions (e.g., to avoid circular dependencies), we begin our proof of<br><strong id=\"left_add_neq_real\">left_add_neq_real:</strong> <a class=\"ProveItLink\" href=\"../../../__pv_it/theorems/55613a3fbd77b0b9a08eac8e533333284eaa58b20/expr.ipynb\"><img src=\"data:image/png;base64,iVBORw0KGgoAAAANSUhEUgAAAS0AAAAXCAMAAABpq+mjAAAARVBMVEX///8AAAAAAAAAAAAAAAAA\n",
       "AAAAAAAAAAAAAAAAAAAAAAAAAAAAAAAAAAAAAAAAAAAAAAAAAAAAAAAAAAAAAAAAAAAAAAAeYafp\n",
       "AAAAFnRSTlMAq1RmmUTNIjK7EInv3Xbt5cnn9enzas/lfgAAAAlwSFlzAAAOxAAADsQBlSsOGwAA\n",
       "A8JJREFUWMPdWAuznCwM5SkSIO33qP//pxZQlLCIq3M7e6e0dzM+OJHDSQgw9m2aaeyDrl/34ld8\n",
       "1Z9sKKi90zSePFDQ9fEAerV8vy/kJ8kSjtqbVPe/fbZdH4+gs1W63J4+KTaYqL3bJujdtXPPx0Po\n",
       "ZOciLmM/KS0lqe3FxEj7UvWkxbs+boIX6GwLdU58ki3f2F6s4hCgIy5ruj7ughfoZOXG6vRJssRE\n",
       "7X22pldxaN71cRu8QGfrQ2refTQQHbXMcIcGhwMCRA6z22LC8ddRmq6PHnYDDpijFjiBzlblVGjh\n",
       "a4Y9TOXvTV+ShY8jtQuM2IqukCNTYc0qh3JUnv7w73/pl7/46GE34I6JFLZyIdDZGl5+bsdPcJPi\n",
       "U+1otFQ4ffooCGLB5+U6jLQlTRoOML6SIPyFtIbYFHwW63NuCfRqk6wGI+ktNsitjT0wzgJzxr3F\n",
       "1mhCvCZW5UkNjojFrymjoKSIUIeg5qXNWqrvo8HugUc+fGLPI4FebeL1Vo5XaqtjMP5jEvAttrh5\n",
       "my2fYGDRV4nYH7e0v5DWELsF1ylQ52Um0JudmNxeBifR7W4QlYn/S+nPt9L/KJwzWwiqzxbpzrRr\n",
       "YM4jERY8ssaALb1EcIAtK9C89f+vEGjeGmG34Fm0WCIwEOvEVnRBMJHRMj40KXKnLdyRRb7nCAAH\n",
       "IykSja23HRVbe3dlU/sR/2QFQysjrC0sySefmDDny1bMBNznjLymMXtV3I+wW7YsLz8V9GaN5yXE\n",
       "WDUSmT1sQWcgUYuWlL1xRbKOfGZ1QboXQR4wdAHgxKaBiaDoCksHJJYZVPxULZr6YHv8ujiPsF+0\n",
       "xZNyZb+84fMR2lhHyVJNAI8v85SnpqwVK9ZIdFqcrolH90OQBYYuG4FY4Ohmw3EelEQKMXIii/Og\n",
       "r/aNI+yWLYglmSpfX6AbF5CeWwm7p6SzfcDpZR99zI7VeUtrBydsbd1TJP78x+ZIPGCaxDVTe7eW\n",
       "N+H6tGGA3QN3E4VuXMRRpLSlJcRsn+Izd1AsX2VneqGF7FpB9LP80Z3ub3eY863rg111s2PuHkkM\n",
       "sBvw9OHgxcWGX0dlo5NJFfFVhdohwnaVZG+n9bRimyQ94eRiTFRlT6WtvTvdKeww/R2wfXRu1Byg\n",
       "yP427m3sgGvGqKGHZzSivYIcpVudkcKqW8/aK51XMDQL2DbB3WkND6G/x3obW0jcz/3emUYN7VXM\n",
       "zPq6hu1/T9XvFKbscw0+ON9sRnKWoB5gF2gc6VK+XOlYt7JnbAldJwj86GnHt2rmrx7dbxvSIh6l\n",
       "zUi+AAAAAElFTkSuQmCC\n",
       "\" style=\"display:inline;vertical-align:middle;\" /></a><br>(see <a class=\"ProveItLink\" href=\"../../../__pv_it/theorems/dfe335c50e4dbbb2908014ef0c9eda0e793de5640/dependencies.ipynb\">dependencies</a>)<br>"
      ],
      "text/plain": [
       "<IPython.core.display.HTML object>"
      ]
     },
     "metadata": {},
     "output_type": "display_data"
    }
   ],
   "source": [
    "%proving left_add_neq_real"
   ]
  },
  {
   "cell_type": "code",
   "execution_count": null,
   "metadata": {},
   "outputs": [],
   "source": []
  }
 ],
 "metadata": {
  "kernelspec": {
   "display_name": "Python 3",
   "language": "python",
   "name": "python3"
  }
 },
 "nbformat": 4,
 "nbformat_minor": 0
}