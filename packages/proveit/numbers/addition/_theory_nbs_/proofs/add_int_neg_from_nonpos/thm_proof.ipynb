{
 "cells": [
  {
   "cell_type": "markdown",
   "metadata": {},
   "source": [
    "Proof of <a class=\"ProveItLink\" href=\"../../../../../_theory_nbs_/theory.ipynb\">proveit</a>.<a class=\"ProveItLink\" href=\"../../../../_theory_nbs_/theory.ipynb\">numbers</a>.<a class=\"ProveItLink\" href=\"../../theory.ipynb\">addition</a>.<a class=\"ProveItLink\" href=\"../../theorems.ipynb#add_int_neg_from_nonpos\">add_int_neg_from_nonpos</a> theorem\n",
    "========"
   ]
  },
  {
   "cell_type": "code",
   "execution_count": 1,
   "metadata": {},
   "outputs": [],
   "source": [
    "import proveit\n",
    "theory = proveit.Theory() # the theorem's theory"
   ]
  },
  {
   "cell_type": "code",
   "execution_count": 2,
   "metadata": {},
   "outputs": [
    {
     "data": {
      "text/html": [
       "With these <a href=\"allowed_presumptions.txt\">allowed</a>/<a href=\"disallowed_presumptions.txt\">disallowed</a> theorem/theory presumptions (e.g., to avoid circular dependencies), we begin our proof of<br><strong id=\"add_int_neg_from_nonpos\">add_int_neg_from_nonpos:</strong> <a class=\"ProveItLink\" href=\"../../../__pv_it/theorems/432372465d4709de5a1541607ec8d8e0b486fcc20/expr.ipynb\"><img src=\"data:image/png;base64,iVBORw0KGgoAAAANSUhEUgAAAzIAAAAaBAMAAACeDHTYAAAAMFBMVEX///8AAAAAAAAAAAAAAAAA\n",
       "AAAAAAAAAAAAAAAAAAAAAAAAAAAAAAAAAAAAAAAAAAAv3aB7AAAAD3RSTlMAq1RmmUTNIjK7EInv\n",
       "3XZ/CtNrAAAACXBIWXMAAA7EAAAOxAGVKw4bAAAII0lEQVRo3uVaa4wTVRQ+2+d0ptstKoqQkCqK\n",
       "GLKb+iKiBotAghq1UX8YNFpjiMEYGZRoVmGphqiJla0P1CLiwA8VVukKGAUiQYhZ1+eqgIo2KbKJ\n",
       "j9XNBoOYjbKec++8Z/oYktWu3mSmZ869cx/nu+dxzxSgRmkqfQUNVvxp+C+XAF6x0hc124Uab+pn\n",
       "4RUey7KXq9aG83S/YAwiI2bw9v1YRuZW27Pv7j8XldYmtcdZHJk4/UyphkwTeznZMOuK4FR83aML\n",
       "/tq+0ew+ZhNm7KksZAwVaFYYMvOIvrMaMgEy6yG5YZBZhtcrozxGKDWq3d9l8ywpBGuLAVScIfOw\n",
       "btkqISNQw/bGsQVX4zXHwQ26K3Wwkq67V9yg/rYkbAz3Zic61IW2KEuGjWIehAKW51FjhxkyIVQd\n",
       "KVHVzxDCWxoHmaN47XZwfWXXxhXYlSra1N/bFBvDvdmJDhXl3cdeKh1gxhNgflPWqL6DIeNPVvfy\n",
       "IR4mZBoGGAF3lC8zysi8C6OKTIhpUfAeRV9UfKWp+koem31SKn1UHZloqfRdd8MgE0PnHKDphCf9\n",
       "UHZZ/pJdHV7EZe1FE/ntgyfZMNh1OOuCjJlbGxlp8GKVYHHX/YoR1ShrTC/8wpGZD7CmOjKBLL7Z\n",
       "MMg0ZdQ9d4scGXYuP9gDLysekLH2oopc/F0pyhYMlicCeScyFm7tTfAF0wY6K2dscdd0v/llsqWI\n",
       "zBIII4Iin0jWDRmsX/IPHVXqCZpRFs3oGMW9EOhzLv/1JFzjQWfUXl61itw3DNGyBYNvNUZlbk1k\n",
       "mrvhUzRcxGF+0mSSMxaH0pllyEQUCcNiib/9NQd331twWdw4aa6Bt/6ZtMsE6GjjW6Ry1BrCiUVx\n",
       "xoEhWqo4g4WdaG/RKtOUryN5iTvHKVa2LUzVK3gvsIu415RKH5dKn1N9Blq6LQzSKz6Wndv15sT6\n",
       "hoLrmC43o9iFIfItyC59wy10AgVsaPqKNEPGV7YGAKtOXw1nSEpAMZBp8xYAPJr3aqB6t72IUHTN\n",
       "pziQD8W6EBbpTXYO6OewFEcmmodiGlb9atuYvSAehYCuTrU2Mu/FrgwI1m0JMyNK89HHsnBTmo7W\n",
       "1JleI44mnRENMW2kc8tp+mMxrYZdsywYz6ecQDklmbIzIX/Zk6C9hAvCoUK6WZY2K7D0bZztbvjQ\n",
       "QAYmaUbOXw7mTTpD1qxYhsvxsdVmnY6Dfwha0uE/6hOX2otN5Hic4RtcYxRZ61ZbM8Y9Ciuy9RnO\n",
       "4waH7RvDFk/AE404ZOgMt2awBc8rwUPs3f4EHCZi2tkdZmSkqZ4CgGjWQ+O52NgPj9wH4f1kR/tU\n",
       "g8px+IAb19kKdnnMhEwE11pMwKk+2YHMEQwRzvErdSPDerk1bkMmi/7HwsCQI+1AhnEvqRcZ+A3l\n",
       "DJuvILPNljeo787UjbifDaA6ZY7MMpzW5hZml30ZrmLTpA03m5AJv0dr3jqgZWhMpMl768zOwYks\n",
       "otR1UTrsnLTKU1NIKTRR/vFMZ3pM1uz4IZyWME6GFQrs0TQyz6POSNm3L+DQGVgHrdSZZLNmxQxF\n",
       "XCphqmC9iOVhq8ibkpGUhYEhmJR1IMO52uHHMRS7mSowMHsHUlNBjfohlNBj5rsg/HTeHpsBnT4f\n",
       "ZINuklI8kzANUj+ZkIEJeL0hd2pwmEijGMxflX6y1emcVrVfcJ7ZVd5G7vrvpW3nO5niFZOfiR2M\n",
       "pSD4LHbbqcCX2nkG3xNQ7uLkd5b86ERm/cBjk7GzJxVbXESS3qcRJh2jXsIb+mxR86Q5tihs5wU/\n",
       "O60Z5woHKwzFb0aFtHWWIirbmGzYKKcvUCP353oLn/UaPuAyMH0FWKeeTf2LCoWnEZmukBkZZnYA\n",
       "Jd2uaGSwbZ7NLFF9hKhnYAbbIa+pzQN5MXt9v/VzF/EAowyegdrMbacwDzqmyAYykaQ/E3yR+kBk\n",
       "PtW857AeQ4LTz6glvMbTwTxSrnS4tzBaXbntiqccAKVelqtL2c6zM/Yy24SMOMxsZYssdHOdCbbZ\n",
       "kXkfDoHQqmhkFIrW7ogJqneYzZ615hRJ7TY5OI1HZUahUEhA9w7YZO0tzx1WIJ5jKo/W7IgxkDkl\n",
       "2OqaNlwKD3hJMxZfq5SqvMEVGTM3nArLXjKax1wTsmAHT0PGl0mJiElOzQdcBLqYNWTEY/DMJv7p\n",
       "gJFhyFndDDF97FwwxHwCzYA1R7wBZJtBI54f5fsEm/q0JOwIz507d54VmRaIJsTtCR5UHDPnmiOy\n",
       "Q1oWlXnh8au8xCxTA3U1cx2r/fGVXuIjkkO4+rFCzTWrD5NlYQ+Do50OQgdk/r3MrDM9wtFLSNSI\n",
       "ICNhNZFd+o2YvrOIOujP430hSAyZLgiloRsiaVNbznvgFeBpHykAwT4XnWlWZuL9J9xysXJQP8Tl\n",
       "zGeBhxbvcosOR0aGvCCz/od6WrmP9dnIiKe0X9y8r9wP3HGwfm32MTUStxdW27IzvNx4/kCSRI0I\n",
       "MjKQJTInCz10U5kvEG/lIN2XonckZHKJ8JxZCqXncgnetkfjXUq7G7s+b9zAc3EXZIRrmYWeidDs\n",
       "7Nc3ZhMpUQeM0UIpvxr7oFm2IbMgdNNu14ym+SWFIUhlR0wnQaPEvoRK+fTmwByFpJRVihVOjafk\n",
       "RqHg9lcYi76fa9ljYgbGblmYq91G/R+AUZKBfqUGMsIvWxBBzh/5SyMZrGqIp6jUAr15kHW6eKRP\n",
       "pZhj4VSVj+3VLPH0MYzMtbX9X93/nXH83yzpRtop49lfiYqdmToxZP7r/zdT6P9me//FGfhOqVIp\n",
       "w/+9/A1FM3wjNRzIlAAAAABJRU5ErkJggg==\n",
       "\" style=\"display:inline;vertical-align:middle;\" /></a><br>(see <a class=\"ProveItLink\" href=\"../../../__pv_it/theorems/30b036a248fbe02bd1d92ea7e06f247eacf9715a0/dependencies.ipynb\">dependencies</a>)<br>"
      ],
      "text/plain": [
       "<IPython.core.display.HTML object>"
      ]
     },
     "metadata": {},
     "output_type": "display_data"
    }
   ],
   "source": [
    "%proving add_int_neg_from_nonpos"
   ]
  },
  {
   "cell_type": "code",
   "execution_count": null,
   "metadata": {},
   "outputs": [],
   "source": []
  }
 ],
 "metadata": {
  "kernelspec": {
   "display_name": "Python 3",
   "language": "python",
   "name": "python3"
  }
 },
 "nbformat": 4,
 "nbformat_minor": 0
}