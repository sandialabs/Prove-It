{
 "cells": [
  {
   "cell_type": "markdown",
   "metadata": {},
   "source": [
    "Proof of <a class=\"ProveItLink\" href=\"../../../../../_theory_nbs_/theory.ipynb\">proveit</a>.<a class=\"ProveItLink\" href=\"../../../../_theory_nbs_/theory.ipynb\">numbers</a>.<a class=\"ProveItLink\" href=\"../../theory.ipynb\">addition</a>.<a class=\"ProveItLink\" href=\"../../theorems.ipynb#weak_bound_via_left_term_bound\">weak_bound_via_left_term_bound</a> theorem\n",
    "========"
   ]
  },
  {
   "cell_type": "code",
   "execution_count": 1,
   "metadata": {},
   "outputs": [],
   "source": [
    "import proveit\n",
    "theory = proveit.Theory() # the theorem's theory"
   ]
  },
  {
   "cell_type": "code",
   "execution_count": 2,
   "metadata": {},
   "outputs": [
    {
     "data": {
      "text/html": [
       "With these <a href=\"allowed_presumptions.txt\">allowed</a>/<a href=\"disallowed_presumptions.txt\">disallowed</a> theorem/theory presumptions (e.g., to avoid circular dependencies), we begin our proof of<br><strong id=\"weak_bound_via_left_term_bound\">weak_bound_via_left_term_bound:</strong> <a class=\"ProveItLink\" href=\"../../../__pv_it/theorems/f0177d627769a4a40fd8d9d2f5bb658a7907a3ca0/expr.ipynb\"><img src=\"data:image/png;base64,iVBORw0KGgoAAAANSUhEUgAAAS0AAAAXBAMAAACsWwSiAAAAMFBMVEX///8AAAAAAAAAAAAAAAAA\n",
       "AAAAAAAAAAAAAAAAAAAAAAAAAAAAAAAAAAAAAAAAAAAv3aB7AAAAD3RSTlMAq1RmmUTNIjK7EInv\n",
       "3XZ/CtNrAAAACXBIWXMAAA7EAAAOxAGVKw4bAAAEBElEQVRIx81Wb2gcRRR/u3eX/XfZ3qdCrRwL\n",
       "SkVs6n6QQgvGK7GNqLFHAwVpMUf7oeAH2XxUarn6RdBITwXjKZwbKWiItFeFVCqGo6Vo/Ucqlgq6\n",
       "sMFotMUQCqWSD+KbeXPZnc2uWE7EB7+dmd33dn4z782bB/BviCeQKlqWxe3/6jbFdgjpUgjTLdLl\n",
       "KYESG9zVG6/7BDLkp3SLjDW6hN1scKQnWmaNkCV9ftTf4nUtsuRpwnEWAY2eeOVdQkxG44NcZa37\n",
       "4KNrFjFHS6MHCGwxltMTr6JATLZJoy+6nd/PRRaRqFIAFn2OHJLt6y28tghk8jos/P1pGLPI4tXn\n",
       "Er4Ogi974/WYwKmF9z9xZF7jc8fweYZojbgxC3PRhSmZl7Z5CXtWifAIwFv/IIb+5tthgYpdzs9L\n",
       "vAqfwTvolu2c1kYnbmGpHXhI5nXQM1YxGmuEcdBKmVMOzO56hncMeecn46NvCTkvt6q4Eq8PXBjB\n",
       "ZisfxHih9gu4hE0SL/MCsGUhXw7Dt6qpnPSFZtW24Gx7HS+1JSleJOiQp+M/EgRfBcFl7O0F+AGb\n",
       "E+SmyI+o7RdD+IY5Igh+xFDCrcmvQD/Opa8Q1DAj7B+uY4azYWeY5JV7HdJ44TEKE3F/CcybzEHJ\n",
       "uGfaY77+h7RfxQacxh0qdAhQG8THzOBZ9m15eBETX2EBFJ50Ga9rlYiXvXhsGOzX+H1RgpLsR5zK\n",
       "M/04L/NPyK2waEjmCaa9B+yOxOt0yANOnSfAh5hdzav6LTavt6kPo+DUBn8CpjkRS2u5Ea8lpXFI\n",
       "P8+nDFd18VtoEaard4Il7Zd5A5TaPQA7knmVWbwKRknm5cBG1YMcJnkGOMp8W+Gz5KClY/PcAPxG\n",
       "KdvOv92Ixb1rhHW4ly1ae3fe7t4SZwj3v/Q47JP92IKBSoWSSDdz1bsWu2DMlXgZofodHvt8mwAK\n",
       "qharNpG/xZ+boQzbm82mY9vWvvh53MCutycZMaWtdKPlFcLJZXXIkXlNXX+xjH+/kgxdZjE1t9eT\n",
       "z2P54/FfAfqrBNpDz9jJQkPv8GrpCnwOL/P9sgsH/BivCV4bHR9mpsW6MO6vE7LyvTaf5EXas6n5\n",
       "/nkBOgveiVF/Bo5atTzMAHxfWMH8weMLzkVxr3VmgY/G78Bfj8Xv5djdvO7eTtzpZGHVzPOp9/aQ\n",
       "AH0a2vYRTDj5n+euYQN376iB9ia+3/9L++SeaL+eOLDsi6pSHXpj7VeTAhnyLLkp4FIXFv2h0k6t\n",
       "bhvr6xsRHY7pGbiEmWYzSrhG0v49iLLYtECGpFCeBnVwd6qy4RHidZAvGiXcv049+aJciGo7LSRk\n",
       "VKAp5Xq29pJA3OvdpjDYzual4zltTsLodfg/iPYfz/cXk7ELuPqyZIsAAAAASUVORK5CYII=\n",
       "\" style=\"display:inline;vertical-align:middle;\" /></a><br>(see <a class=\"ProveItLink\" href=\"../../../__pv_it/theorems/abcaadf1e141cf1e6d3a4924e9a4393a78323afd0/dependencies.ipynb\">dependencies</a>)<br>"
      ],
      "text/plain": [
       "<IPython.core.display.HTML object>"
      ]
     },
     "metadata": {},
     "output_type": "display_data"
    },
    {
     "name": "stdout",
     "output_type": "stream",
     "text": [
      "weak_bound_via_left_term_bound may now be readily provable (assuming required theorems are usable).  Simply execute \"%qed\".\n"
     ]
    }
   ],
   "source": [
    "%proving weak_bound_via_left_term_bound"
   ]
  },
  {
   "cell_type": "code",
   "execution_count": null,
   "metadata": {},
   "outputs": [],
   "source": []
  }
 ],
 "metadata": {
  "kernelspec": {
   "display_name": "Python 3",
   "language": "python",
   "name": "python3"
  }
 },
 "nbformat": 4,
 "nbformat_minor": 0
}