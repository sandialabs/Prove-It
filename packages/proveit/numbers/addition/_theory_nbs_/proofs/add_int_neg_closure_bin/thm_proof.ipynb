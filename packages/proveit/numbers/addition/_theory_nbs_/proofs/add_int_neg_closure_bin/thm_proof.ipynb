{
 "cells": [
  {
   "cell_type": "markdown",
   "metadata": {},
   "source": [
    "Proof of <a class=\"ProveItLink\" href=\"../../../../../_theory_nbs_/theory.ipynb\">proveit</a>.<a class=\"ProveItLink\" href=\"../../../../_theory_nbs_/theory.ipynb\">numbers</a>.<a class=\"ProveItLink\" href=\"../../theory.ipynb\">addition</a>.<a class=\"ProveItLink\" href=\"../../theorems.ipynb#add_int_neg_closure_bin\">add_int_neg_closure_bin</a> theorem\n",
    "========"
   ]
  },
  {
   "cell_type": "code",
   "execution_count": 1,
   "metadata": {},
   "outputs": [],
   "source": [
    "import proveit\n",
    "theory = proveit.Theory() # the theorem's theory"
   ]
  },
  {
   "cell_type": "code",
   "execution_count": 2,
   "metadata": {},
   "outputs": [
    {
     "data": {
      "text/html": [
       "With these <a href=\"allowed_presumptions.txt\">allowed</a>/<a href=\"disallowed_presumptions.txt\">disallowed</a> theorem/theory presumptions (e.g., to avoid circular dependencies), we begin our proof of<br><strong id=\"add_int_neg_closure_bin\">add_int_neg_closure_bin:</strong> <a class=\"ProveItLink\" href=\"../../../__pv_it/theorems/67cee35a7c28ca8ca3b6572aadfde625bf920d450/expr.ipynb\"><img src=\"data:image/png;base64,iVBORw0KGgoAAAANSUhEUgAAANEAAAAZBAMAAABdr9YFAAAAMFBMVEX///8AAAAAAAAAAAAAAAAA\n",
       "AAAAAAAAAAAAAAAAAAAAAAAAAAAAAAAAAAAAAAAAAAAv3aB7AAAAD3RSTlMAq1RmmUTNIjK7EInv\n",
       "3XZ/CtNrAAAACXBIWXMAAA7EAAAOxAGVKw4bAAADPUlEQVRIx7VWS2gTQRj+02STzeZhxIOKUBYU\n",
       "FGprBClUpESaSkWqgXqSgoEK0iCyVRCEUqMIHixURVpTX9uLECNtrRWxB+lFNGo1HnyWhUSPFSmB\n",
       "UqlS/Gd3s7uzzWNTdGB25/HPfP9rvhkAy8UegdUWR3XiW1YNBK4r1UhzUbKk1FYVFjdXg+QO4udb\n",
       "iUkmaxqoOfGnW7oVLHR9IkCANDZbQOol68eLTCRn8PPdNOi/GoeoU+8iTCtpHLeAdADrvaIzx7A6\n",
       "RVMOhMAfnAA2gWUIXb8EcN5qwBawtlAjHeo/TxIzREvbBEhyhm27FGU8fGUgFrWCaWqoQY0RmYFX\n",
       "qptuSx/l/AFos8V12f2oDEbNacEkfwbDFC2G5MmoShPUk5oX2cBFg+wPrDOS9NoCkg1RHCQhep71\n",
       "0UjO2hz65KHcPqOHyy0OG5YfxYk2gGErSY5Od6L9zAu4K1JIYzFuEaARTKlVZzdm/gB6sgdcAQtI\n",
       "ThTyoe4PgtBO27RDhLcA2+W2wb1RKibnIsRKj0ZobHfBV+nJm3Q2+bDrRcFDALOk3y5JbyTpPbb2\n",
       "AfxGpeX1GArpixJX/jGA7ssxXFqTNYBvIuK5RMQneEbFFTYRpDRwC7RNs8BgnnfKGafndZIcnfW6\n",
       "TSQPowZSeok1jIN2uHAaXOFwuNXkPW4Z7PM0Uh4cmOf1cjuj7bQBTxQ3r8dJwM9EDD+p5ifEnOWc\n",
       "6FfIKmQ+iqiiOwtcHrNwK4X0i8QOmuT2Ty0OocO4JkPlHvSittwndpE496s/lFQuo1Nx03nCU+tB\n",
       "yTtQX1BCRVoH11WyQst5Lcdj4LqmO3OPrG2c0BQ7LfO1PapwzKjHzNboIRZ1HJm7VBunkEYmiRc+\n",
       "KFfLxiPKYOdgOvEurRPy3kLDGyFsC964I9CInMjD+BTcp6GeY/1cjCOUC0p1FPNUYSNz6dKSUHDv\n",
       "Rk+uAS9/WV6wLQhTK7l8V1GGlbk7WP4aXdJsEgY6xBReWE3oYcJlDmAytHA/8a5QaquzFd4gGjkw\n",
       "LQ2PoJ9nD2bBdQP7O9fODZqYw8ZT58VUhsoj+UwqKomTSiQipd4RfaWYXqjqHcGIZaXr/t3byP7/\n",
       "3ntow19997yMEAicSQAAAABJRU5ErkJggg==\n",
       "\" style=\"display:inline;vertical-align:middle;\" /></a><br>(see <a class=\"ProveItLink\" href=\"../../../__pv_it/theorems/073edd5d691ae307ded65e47ff1615ff966ea4bc0/dependencies.ipynb\">dependencies</a>)<br>"
      ],
      "text/plain": [
       "<IPython.core.display.HTML object>"
      ]
     },
     "metadata": {},
     "output_type": "display_data"
    },
    {
     "name": "stdout",
     "output_type": "stream",
     "text": [
      "add_int_neg_closure_bin may now be readily provable (assuming required theorems are usable).  Simply execute \"%qed\".\n"
     ]
    }
   ],
   "source": [
    "%proving add_int_neg_closure_bin"
   ]
  },
  {
   "cell_type": "code",
   "execution_count": null,
   "metadata": {},
   "outputs": [],
   "source": []
  }
 ],
 "metadata": {
  "kernelspec": {
   "display_name": "Python 3",
   "language": "python",
   "name": "python3"
  }
 },
 "nbformat": 4,
 "nbformat_minor": 0
}