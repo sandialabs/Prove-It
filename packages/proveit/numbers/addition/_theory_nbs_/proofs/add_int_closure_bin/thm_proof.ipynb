{
 "cells": [
  {
   "cell_type": "markdown",
   "metadata": {},
   "source": [
    "Proof of <a class=\"ProveItLink\" href=\"../../../../../_theory_nbs_/theory.ipynb\">proveit</a>.<a class=\"ProveItLink\" href=\"../../../../_theory_nbs_/theory.ipynb\">numbers</a>.<a class=\"ProveItLink\" href=\"../../theory.ipynb\">addition</a>.<a class=\"ProveItLink\" href=\"../../theorems.ipynb#add_int_closure_bin\">add_int_closure_bin</a> theorem\n",
    "========"
   ]
  },
  {
   "cell_type": "code",
   "execution_count": 1,
   "metadata": {},
   "outputs": [],
   "source": [
    "import proveit\n",
    "theory = proveit.Theory() # the theorem's theory"
   ]
  },
  {
   "cell_type": "code",
   "execution_count": 2,
   "metadata": {},
   "outputs": [
    {
     "data": {
      "text/html": [
       "With these <a href=\"allowed_presumptions.txt\">allowed</a>/<a href=\"disallowed_presumptions.txt\">disallowed</a> theorem/theory presumptions (e.g., to avoid circular dependencies), we begin our proof of<br><strong id=\"add_int_closure_bin\">add_int_closure_bin:</strong> <a class=\"ProveItLink\" href=\"../../../__pv_it/theorems/2b35ce06cdfeb875e0f6937e01d6820de71b5a1f0/expr.ipynb\"><img src=\"data:image/png;base64,iVBORw0KGgoAAAANSUhEUgAAALQAAAAWBAMAAACbN6vkAAAAMFBMVEX///8AAAAAAAAAAAAAAAAA\n",
       "AAAAAAAAAAAAAAAAAAAAAAAAAAAAAAAAAAAAAAAAAAAv3aB7AAAAD3RSTlMAq1RmmUTNIjK7EInv\n",
       "3XZ/CtNrAAAACXBIWXMAAA7EAAAOxAGVKw4bAAACzElEQVQ4y61US2gTQRj+ks3msUljxIOKUBY8\n",
       "KNjWFaRQDyVQlYJUA/UkPSwoSItIqiAIUqIIHhRaRapbX9uLECM11orYg3jTqNV48FkWEj0WpASk\n",
       "olKc1ybdPNYI/vDNznwzfPPP/1jg7xYQaLT3L3yVfRGoZ3KhivAe+T1oXdcoH6PrjW7K3ixHjaXn\n",
       "yPC1ioxeTEH3M34XXR92k74tUGuHCPymk/PFEdWmGX+aBmbMTbpHoGL94lsikOLO054k0soY4+mt\n",
       "YdVN+qlAxTpEnH/S8YUIxA3rPf0qQK8nxXhJI867hlrnqJUO5+l4kF9ztByYYOys4Ocs66WbtC/L\n",
       "geEnI05pf2uRPPc+m5+ohDxkTtAP4XuBCTdpv8YhP8Mt0yF9b0hZAjpRVQhbJFaQhB9GIFZ+y6Cd\n",
       "jNzMNZGfFpXjroY+p9dbTbwG2th8RcR0Ht826n84UaY3UP2ikWhJhqeEi5EExz5gnq77LOuVZb0l\n",
       "s93AL2CU+UTCan3i+VQfAibjvYUVWXxOsJPkV8KZ43BK56B8d3o9D5mU3wCri0r5pmkpr+W83k2G\n",
       "TPcjevly0Yxq7ETcrlcREGUZ0qJTugQfKb92Ns+XpdeRylYWOT89RG79EFyij/kcjafZAelYyk54\n",
       "gUEpwaNvckj/oPFHF5t/K6crvp+kKs/5UzHankHaFSFN0nmrTYXts+EYx0202y8R0mtwmYx7eB2p\n",
       "5dIbQuDSGOdp70QSUVomkZQv1mkYhorsLO4IN/IckwvnWlMO6ckZGrt3bK6sP8DJgfGc8SaXtXlS\n",
       "osnQDpLVVYio51lzbdYwK/Y+CtR0I/8xiyjLj3mjV/OIJEf7zQxazC7yIhoFH2R7b7tA7e+JNavW\n",
       "oIltXu7peIALanBvAYGrZL1t9cK43UihJEd9O9kcz1ORMYzESpbWrNLwt3ulKV42658aEahn0WRT\n",
       "vIT/an8ArqmyRskCmYIAAAAASUVORK5CYII=\n",
       "\" style=\"display:inline;vertical-align:middle;\" /></a><br>(see <a class=\"ProveItLink\" href=\"../../../__pv_it/theorems/95e36c5b9ce55fab76137cd20c88c51b4c0ce09b0/dependencies.ipynb\">dependencies</a>)<br>"
      ],
      "text/plain": [
       "<IPython.core.display.HTML object>"
      ]
     },
     "metadata": {},
     "output_type": "display_data"
    },
    {
     "name": "stdout",
     "output_type": "stream",
     "text": [
      "add_int_closure_bin may now be readily provable (assuming required theorems are usable).  Simply execute \"%qed\".\n"
     ]
    }
   ],
   "source": [
    "%proving add_int_closure_bin"
   ]
  },
  {
   "cell_type": "code",
   "execution_count": null,
   "metadata": {},
   "outputs": [],
   "source": []
  }
 ],
 "metadata": {
  "kernelspec": {
   "display_name": "Python 3",
   "language": "python",
   "name": "python3"
  }
 },
 "nbformat": 4,
 "nbformat_minor": 0
}