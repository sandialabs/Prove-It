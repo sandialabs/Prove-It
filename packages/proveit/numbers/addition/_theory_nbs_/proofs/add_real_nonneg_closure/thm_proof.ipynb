{
 "cells": [
  {
   "cell_type": "markdown",
   "metadata": {},
   "source": [
    "Proof of <a class=\"ProveItLink\" href=\"../../../../../_theory_nbs_/theory.ipynb\">proveit</a>.<a class=\"ProveItLink\" href=\"../../../../_theory_nbs_/theory.ipynb\">numbers</a>.<a class=\"ProveItLink\" href=\"../../theory.ipynb\">addition</a>.<a class=\"ProveItLink\" href=\"../../theorems.ipynb#add_real_nonneg_closure\">add_real_nonneg_closure</a> theorem\n",
    "========"
   ]
  },
  {
   "cell_type": "code",
   "execution_count": 1,
   "metadata": {},
   "outputs": [],
   "source": [
    "import proveit\n",
    "theory = proveit.Theory() # the theorem's theory"
   ]
  },
  {
   "cell_type": "code",
   "execution_count": 2,
   "metadata": {},
   "outputs": [
    {
     "data": {
      "text/html": [
       "With these <a href=\"allowed_presumptions.txt\">allowed</a>/<a href=\"disallowed_presumptions.txt\">disallowed</a> theorem/theory presumptions (e.g., to avoid circular dependencies), we begin our proof of<br><strong id=\"add_real_nonneg_closure\">add_real_nonneg_closure:</strong> <a class=\"ProveItLink\" href=\"../../../__pv_it/theorems/2d8a82e0da025a0d742ff4c199b766f4695d7eb80/expr.ipynb\"><img src=\"data:image/png;base64,iVBORw0KGgoAAAANSUhEUgAAAdAAAAAaBAMAAAD1dxBVAAAAMFBMVEX///8AAAAAAAAAAAAAAAAA\n",
       "AAAAAAAAAAAAAAAAAAAAAAAAAAAAAAAAAAAAAAAAAAAv3aB7AAAAD3RSTlMAq1RmmUTNIjK7EInv\n",
       "3XZ/CtNrAAAACXBIWXMAAA7EAAAOxAGVKw4bAAAFkUlEQVRYw91Ya2gcVRQ+uzu7MzubrPlVfGBZ\n",
       "XzVQElajlYZSB5pgVIoprf6wIkEFsRI7C/mzTdquUNBCbBZlKQnYTjQIzbbZbUvQpFhqSwjBV9Rg\n",
       "oXXg+oDYRCEUYiRQ47n3zuzOYzfZlTGIF/bOmTuzd853Ht899wL8L9vRdna5MF/R23frqnefDrSv\n",
       "J1B5LEa/SYJpUFCI6t+u9naHl5++f519eiMOUJOCJUiy26b1AiqzyVSv4awy4VYChzW4jG5dV6Dh\n",
       "OI2gmNdAX3Tcb5k62TkV5/I2tU+D7wCucaB19HJfGaA+evHHPdCoh3abPQ/QqFO3dAJ2bdWolM0A\n",
       "Av0K4EcOtJVeXi0DVKAMEvIi4J4uhK+3bZ8TaDeEJeq8rtuBhu5NgJzGgL6JvZguA5T9JemFQov4\n",
       "E9yhsbvky8FyMeR+8IgbqKCiQROIk5MRhOIMaAjxRmLlcpQa7JwHOKVl+l33eGPJt/2kzDTuBzWa\n",
       "QbK63lEAmobBJ1hgkyB6SkgzoAHEGypLRk0ecVJ0GrtN/wLQEPfxc3NFj/qG62CY3134Be0QvcRZ\n",
       "90td/7ws0Bpd/yHvAVBfh5Gn4l2zpARQ+/DaQBMXD3EhwshU3GcJ3aOb7KQSXOZA2wAGkCjUkkCF\n",
       "FIQ1L1YXGj4v4+8FNbxcAqh9eE2gwUk4qTGdAyzeinyZ7um8NedImz850ASIaJUIn0KcGYVtdUWg\n",
       "+CjxT4ANjdPJfpotRBidE8sw+QoI0yBvcQDlw9mzd1YI9HQcdnKd/ZfY9BYyavqI1rr92Az04iIH\n",
       "GtYiRhl67I4M3BPRBM1SMAzAaHUQ/ddf2YAKdCMbhLSCArW04pzACFmA2jwc+50N7tT1L3T9GzCH\n",
       "Fao9CJgtmE51rpktD54BuG64a4H2vTq2NAca/tBBzbIB1E8MdYQ2WjoQJWKtjBqr4iJqKpKPdKM4\n",
       "0gqnC5zIPYpAa9KQQ7M2ODzKhxfhcKoyj05x7WkQM4+esnhUUgbsfxKN0IWO7fg+lg8/09H6Bw7Z\n",
       "gIYCpHKczFSEBEbozcH2g1CbcoRujsDj4AbKh5srBSr/BYEFpjP4p1nAWNfRNsfCLy0ZQM8hZY3c\n",
       "psnM9fWRD/ZagUY2oVPk8/NmtlvEYstu/5hdmakIiQ7h5cg49aj5ro9OfgIRxWCDX3UD5cPwaWU5\n",
       "Kt9EGn8QdUYySvMF0wL0lKMuNFkXetDaBxqMqqMelBtWoOJn2J1R+0yNLWIxCa4yowE3FcknEfAu\n",
       "tjwXcpStZWeREIh/RnB71BiWrtmB5lAD+Q8wOsuDE9CgKAfoLAJf/F4qAO3CyiBj3wkb6yj4Uuyv\n",
       "gdf6+99FoNmQbfdCS6kW6MVKkOUbFYONrfaIVSScK22Yijw5BjAYY6z7mM2q76DGGz9J/OoGagwn\n",
       "NTseRmEzYHbFB4Pzb21M0QiBWk6kgxnN3L0ch/79tkpPqLNs0+TllJTnHg02urZpE7gDkBo0U6yB\n",
       "nL0Ma48yjuSmImS0REU5QZUyM9YF1GANRVSrqIxQZ2QC42bv+3o51jRqXWOGDgUYWT1qbGusQOUl\n",
       "eG8YajVTFKmDLS2nhpu1zQS4qQh5dhy6Wlpa2p27l4DiAmor6pNvH9GqKOqpzrBjbYo0di9m7KiQ\n",
       "RANJ36t8E2rz6KS02EyBynkuQoaKWd5lkXL6dmv3KsBNhcvLkPtrzDTHjZvu/RdLafT1ykpVhxao\n",
       "c5l9l6095DxhkMf6M6VPGPY8PB+nQKXLXMTCEMVeVZrErjcW3NF4HsJoJmqq4Buvyy3uKPLFbMud\n",
       "ZwcXFeyVr1Z5lEJD18/F8WhBxMYz8oy/hKkcZ0Yi8RrobAXHj1WeGUm/4b70eZ7dK7dMkeYNz6vw\n",
       "3Orf8/4YpcJWwSlgp+tcN15CDPwXz3Ut7Sl2rnvlbzT3rFcjy4gOAAAAAElFTkSuQmCC\n",
       "\" style=\"display:inline;vertical-align:middle;\" /></a><br>(see <a class=\"ProveItLink\" href=\"../../../__pv_it/theorems/ad621342882c2bc3ca52ae36b88113321179b5720/dependencies.ipynb\">dependencies</a>)<br>"
      ],
      "text/plain": [
       "<IPython.core.display.HTML object>"
      ]
     },
     "metadata": {},
     "output_type": "display_data"
    }
   ],
   "source": [
    "%proving add_real_nonneg_closure"
   ]
  },
  {
   "cell_type": "code",
   "execution_count": null,
   "metadata": {},
   "outputs": [],
   "source": []
  }
 ],
 "metadata": {
  "kernelspec": {
   "display_name": "Python 3",
   "language": "python",
   "name": "python3"
  }
 },
 "nbformat": 4,
 "nbformat_minor": 0
}