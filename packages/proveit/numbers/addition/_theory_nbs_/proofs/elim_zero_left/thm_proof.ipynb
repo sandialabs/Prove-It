{
 "cells": [
  {
   "cell_type": "markdown",
   "metadata": {},
   "source": [
    "Proof of <a class=\"ProveItLink\" href=\"../../../../../_theory_nbs_/theory.ipynb\">proveit</a>.<a class=\"ProveItLink\" href=\"../../../../_theory_nbs_/theory.ipynb\">numbers</a>.<a class=\"ProveItLink\" href=\"../../theory.ipynb\">addition</a>.<a class=\"ProveItLink\" href=\"../../theorems.ipynb#elim_zero_left\">elim_zero_left</a> theorem\n",
    "========"
   ]
  },
  {
   "cell_type": "code",
   "execution_count": 1,
   "metadata": {},
   "outputs": [],
   "source": [
    "import proveit\n",
    "theory = proveit.Theory() # the theorem's theory"
   ]
  },
  {
   "cell_type": "code",
   "execution_count": 2,
   "metadata": {},
   "outputs": [
    {
     "data": {
      "text/html": [
       "With these <a href=\"allowed_presumptions.txt\">allowed</a>/<a href=\"disallowed_presumptions.txt\">disallowed</a> theorem/theory presumptions (e.g., to avoid circular dependencies), we begin our proof of<br><strong id=\"elim_zero_left\">elim_zero_left:</strong> <a class=\"ProveItLink\" href=\"../../../__pv_it/theorems/7be1cd9043852fe4dd5d37d9b73126dace2b9a7f0/expr.ipynb\"><img src=\"data:image/png;base64,iVBORw0KGgoAAAANSUhEUgAAAKkAAAAVBAMAAADP89MSAAAAMFBMVEX///8AAAAAAAAAAAAAAAAA\n",
       "AAAAAAAAAAAAAAAAAAAAAAAAAAAAAAAAAAAAAAAAAAAv3aB7AAAAD3RSTlMAq1RmmUTNIjK7EInv\n",
       "3XZ/CtNrAAAACXBIWXMAAA7EAAAOxAGVKw4bAAACL0lEQVQ4y5WUTWgTQRTHn7ub7Ec+uqciCCUg\n",
       "2INQehAPKdRAFQURAr30UErQg+hpe/cjHgShlEYotKsgC/VSom78AHsKgdKTCrEInhbWUz0WPQgK\n",
       "4pvOkNm3zIg++Gcnv5n3n9k3Mwvw1wiEtJ3/jmVUa1zqWNJjnzVOavJOc5X6F5VzToMOX2CN62pT\n",
       "r8V1FZ4rX+umOg3xPXzYHXW3NX0kcwglMWKe9J9RpyEuRviGmtKVuVwfjJ+cTNH+SJ0WgYnrKWrK\n",
       "eoprrAHON5VrUV1Yhj8kyTuN62WuGF2/U1f7xEGK7+jnEiS+BPBI43qN624PnN/UdTFwsSZmixU/\n",
       "OQqf4mWwyZTV9Yk7ornPxVx/EVdvF6whgDHInRmJ3ajUFNT5Eja9h4HxWPzf44p7UGBrvZIk75Pk\n",
       "I1vfIVR6OP4wd2YkNtLRZp1vY1FeAMxQV9wtg+5WuQMxLqWQW2sWt2bxpzv7lt+VrftYdFoBtwMm\n",
       "PVlxCufwYQxpXbP4Fd4F77PzA7ZZwuSknPsJlzkAq0VdazBuBGDmbk8W38JprIYz4BenXpejXgrt\n",
       "w7M2cXVT45OFWT3qmsXHMKPcrPpwNgzD2oMFOWpV6Gn/ONAzMLGz/BWg0sydgRyOA7cerbAW2y1P\n",
       "0EqbSwa9W7fVx3yEy8HafOSya22/CaAvqNngkkG/LnNq1xEuzE29BnuTNbs31kfL2xBSh+ZTl8fd\n",
       "MKSV2hZShxv8D85Mm3Kp40CL/wDa8p6gXNvtOAAAAABJRU5ErkJggg==\n",
       "\" style=\"display:inline;vertical-align:middle;\" /></a><br>(see <a class=\"ProveItLink\" href=\"../../../__pv_it/theorems/b9949a12d248fc19c0d60a728d85dd35465aaa5e0/dependencies.ipynb\">dependencies</a>)<br>"
      ],
      "text/plain": [
       "<IPython.core.display.HTML object>"
      ]
     },
     "metadata": {},
     "output_type": "display_data"
    },
    {
     "name": "stdout",
     "output_type": "stream",
     "text": [
      "elim_zero_left may now be readily provable (assuming required theorems are usable).  Simply execute \"%qed\".\n"
     ]
    }
   ],
   "source": [
    "%proving elim_zero_left"
   ]
  },
  {
   "cell_type": "code",
   "execution_count": null,
   "metadata": {},
   "outputs": [],
   "source": []
  }
 ],
 "metadata": {
  "kernelspec": {
   "display_name": "Python 3",
   "language": "python",
   "name": "python3"
  }
 },
 "nbformat": 4,
 "nbformat_minor": 0
}