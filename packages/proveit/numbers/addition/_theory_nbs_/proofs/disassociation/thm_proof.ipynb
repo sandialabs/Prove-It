{
 "cells": [
  {
   "cell_type": "markdown",
   "metadata": {},
   "source": [
    "Proof of <a class=\"ProveItLink\" href=\"../../../../../_theory_nbs_/theory.ipynb\">proveit</a>.<a class=\"ProveItLink\" href=\"../../../../_theory_nbs_/theory.ipynb\">numbers</a>.<a class=\"ProveItLink\" href=\"../../theory.ipynb\">addition</a>.<a class=\"ProveItLink\" href=\"../../theorems.ipynb#disassociation\">disassociation</a> theorem\n",
    "========"
   ]
  },
  {
   "cell_type": "code",
   "execution_count": 1,
   "metadata": {},
   "outputs": [],
   "source": [
    "import proveit\n",
    "theory = proveit.Theory() # the theorem's theory"
   ]
  },
  {
   "cell_type": "code",
   "execution_count": 2,
   "metadata": {},
   "outputs": [
    {
     "data": {
      "text/html": [
       "With these <a href=\"allowed_presumptions.txt\">allowed</a>/<a href=\"disallowed_presumptions.txt\">disallowed</a> theorem/theory presumptions (e.g., to avoid circular dependencies), we begin our proof of<br><strong id=\"disassociation\">disassociation:</strong> <a class=\"ProveItLink\" href=\"../../../__pv_it/theorems/72db209c8fe099279cc023e5e34493f46d4b9b510/expr.ipynb\"><img src=\"data:image/png;base64,iVBORw0KGgoAAAANSUhEUgAAA/8AAAAzBAMAAAAz7qU3AAAAMFBMVEX///8AAAAAAAAAAAAAAAAA\n",
       "AAAAAAAAAAAAAAAAAAAAAAAAAAAAAAAAAAAAAAAAAAAv3aB7AAAAD3RSTlMAq1RmmUTNIjK7EInv\n",
       "3XZ/CtNrAAAACXBIWXMAAA7EAAAOxAGVKw4bAAAKcElEQVR42u1de2wcRxn/bu+9d/YZKvEKMgd9\n",
       "IB5JrSaKkkg4V6WlL1U9tQgqVNKrUlQR/uASVaoSmvRAvCQcfKJE9KrSXqnU1k5bHwm0JRXBLapC\n",
       "gFRHaSEqNTonkQwxuJbb1JErYuab3T3vPPa8a3Zy55W/P87ffTvz29mZ38x8M7PfGcCd6MPDVViR\n",
       "YImXRu2an8915EM8sNKO3mXIaPfk/HzZNQHynfkoob6V5vQuiTdMJbzsCbCK/RpXfLt4R8PxUnS8\n",
       "sjooBAgX2O8nFd/PZ/xoQ2lptzpeSfUEhAD3siTXampvR/CHjksn1eOenK+H6qZ2Smlxu53nx78E\n",
       "hAD/YL8+rvh2iH+n9MqdnnBilkMdU7u02u545bPVQBAgPMp+3yIOsvJOEHXqG7e0tCL+jBRnxhN6\n",
       "Jms9QK5VDi9WadnXLUbB5U6ANDfkj4qDtnyW1Zwm3zUtrQQ/OifDkVsdcW5vdvw/tMrhxSote9px\n",
       "gInOBoIAb7EPqBXUEgDxU3UZjtzqiP6bpmWbUgLEnJ2AOwJBgD+zXyM4IOw4sldWWw5mp0qMr5po\n",
       "CFbEj/WOZ0UcudUR/Y6p95vaL7gcqakNEhy51ZEAR06VWGdfIpdXA0CAxDmR8NGj8EhVMkbLzY6V\n",
       "eFsxSUb1J1gr4o9s12dFHLnVCV1/tzpCli/YSuvZHPFX4ToRR251LPuebKRsXyXfOIbCdZaRRgAI\n",
       "EOLm/C7SC5/qgxsBHitwtUXN+gvvq7psot9BhIzqR1gr4pOe84oIj1b36NocpEmSE+iNszm6ajJ0\n",
       "tLpHh78T9DBdH2mjjnWXrAeAAGluhEuTQt6EFZCYoo8XGRt78/jYGKai5ghtVbuZFdJV/mR0lcg0\n",
       "1jpvRfzPA7wnwqPVA3oBMib6IFdM0siSwhOrB3TqkL5Mh8hp5wXUbAAIMNgnEuAY6GcJ9etcJ6Lm\n",
       "TD5+zl0vSpdhJC9a80ij6IwIj1b36IRbt5suw218MUFaePBWdjJr0KaPOo8A+tsBIMBbRWEK0M9D\n",
       "eFqsQ8McrrqtRDJDbgbY2iNOATPYw4QmQqt79EyWdGr9NHJgNV9MkBYevJUdW3ZvzUKS+gDwYgAI\n",
       "8BA/rzVAn4FQ4ZNiHRrm5nJt0UrMwge03Y051krw4Ry6EwIBqNU1eqaEPgZdtG5kc5BuGRXRqdU9\n",
       "OilJPjTx6aOt2/dnASDAMe47rnoehtW5nFiHhhn2sY6U/q71MVLgmlp7LRL/eZ2tWsS/CH4iGaSp\n",
       "lUenoDL0UF8yB8Mp3Iy7gc1BnP3nRXRqdY1OlgCpUvokLjIiLc5GfmsSgI5yF7shQIjevYPO3/V3\n",
       "+GUhqblHJ7/fWxLr0DDHH+TMr1kfXTl2FdD7/I5/0h5vt1L8X/ZJCECtAjoFlaGv2mLt0rzObSgd\n",
       "6q+K6NTqGh1eWHsG7ruqtEi33Zw3CHA1frnLDQEimCNW7KBtgPO85URzrVyXLprvhnu87KaNPMlZ\n",
       "T7SE94ieIVUZlw3rfqBvjNYJ/J5WHrThKsC30GUsuyFAAgeLXR00A2gzvGWdUIfMyUn8gR9cLzHb\n",
       "hTlQuSzCWde1gveKPoDDdZ8khx/ovYl6TXY4ZmN3ziAAHkimsq58ADxcPNhBBAifE3Y3zPEp/ux7\n",
       "sm6Snp+f9nKDRyfk+HJ4r+jjDv3JF/SfwkWl1h0702MQIEz4FHPnBK4lfwsdRIDuWcErKKu9o6/4\n",
       "22g7qZRkq/k6UzZXAcfHxv7ojgDpsbE3ax1EgNScYNqr+Jb+4cduHSUUVutRTbTcRi2YBLgWgPiX\n",
       "ulGUUisCREqQrHYQASJzsHwlcrrNVdlVNwmwA+JkNkg1mm7u56wZaM8N+fCLNgKQdDu83OJ7ZVGT\n",
       "XfUk/7pywipfaBpWZOkEGDUJkKym2NUi7nhDYryS13oOw/X2jaAH4VdebhGqiZrsqlv50Yf3w9AH\n",
       "4VO1FQL4SQCtwfmA9+EH7iNo/RGo2QmwxpsPmC6Jmuyq20GTTFZwuAHhWhCmgPYTwJoCoNBP1pbj\n",
       "1Mml5xMb45PGC8Xat7/UYAgQC5PRVz80abkuB/qfE4EXjINTHxE020bEgu1Iv6jZfL1TxpiPr1Dr\n",
       "G/IL8Q6pWXEJtdKw0CogROYEwkGyvn8mgy6JcT7Ru/Op4hDdkCgdvpQhQOoykurp4qB5A/1vCbEJ\n",
       "bMb/VE8L2oIs2LryA4Jmk9cTo/iGC12CaTttD9ct7AMoDwxZHrLVFQF6LALcS7Td9FjSOJ94JZsw\n",
       "NpW0UqS7bCdAHF3Cq3ALaxflSy4xCjefZj0IagSa7X5YbyRELbrmarYAeNVwMa6DJ810RBPSRcp6\n",
       "ScuZG2Dhx6qtNoIUB4b4GxSicIPEzYFNJmcRIIST8cPG4hSPNN4hc+36SqWS1Up6rWAnAHwI8FWT\n",
       "cUisrlJvsbsHRvVpzoXstk7Rfw9XGglRS8MIWwBiM7WXwQRETUiHPinumIa/Vqn8OPFdm+egneUf\n",
       "SnVgiK9BIQplu4s0IzWwHQfrc7Ri8XwiXP5KHH5ojABwc4MhAKachfuHoQvba6SY3FQtYoe346Lx\n",
       "MzTbNLxkJEQtDtzojlfX0srAKcNIN4uzOJcOyxS7ZwoStHcTJxCsQSDxNv9QqgNDfA0KcU6tMCDE\n",
       "5oM17ATQCjm9hucTByDU2JcyNnzCeWj25oWDxaOJs5uwvQ5Aujh4SxWSeaKSzOYHNX4ih1/eIPAk\n",
       "oanBflsqwxbfXUDtq5Ay06FG0jGAsTzUMjuH6HYVwDevsbYsiPDHwaoDQ3wOCoE2BIQsyOVZZgTo\n",
       "LSZewvOJgWyyGNoAcfzdhX13AYgE+MIVk33YXgPZ6JY1h+hO4kA2cRQGivhhGJMlIHDfmaI929Qi\n",
       "1GakKpo2sqIj2t1rz5jpUCPpGMD4lv7qIC4YduEgpT9bubb5DH/lq6iglgA+B4VAOwJCmkLfp2Pe\n",
       "CNLo+YQ5QB2oVBjnjnu1AEdsI2Wq2mhmAkt7WqNwZkJDO9xtaebN0P3Iy9PxgJN7niBt/+vKfvYZ\n",
       "PsrvFCgODPE5KATaERDSlI8BT4Av4/lE1GHwYAmQ+PdBK+U35uu2TKaWPEPgrISGFpv/r6kZNzNQ\n",
       "QZ6OB7wmdYWsUJurIvFVBob4HBQCigNCWssxgQB9eD4RBjcEoHllqs3Yt7h28hKHq1JAiR+T5QqZ\n",
       "VRsY4nNQCLQjIKS5ZXZeIEDrjUMVL4V+/P9cEV3owBCfg0LaEhDS7FlBCAyJjIoEUBkY4nNQCLQj\n",
       "IMSSUBBCw6JnhSlAaWCIz0EhoDggpPVGYCMABDDe6l4Q1YEhPgeFQFsCQhgHerkTgFsGqA4M8RAU\n",
       "4ohsCwqBJQWEOCK7DAgxxYgUC9hPxKgODPESFOKIvBAUAksLCHFCdhkQYs6ewfiJmDD3SojqwBBn\n",
       "6CUEhQipL0xAiDnE9QSCAPB19qvqwBBH6KUEhQipL0xAiCHmicSyJ8AA+/KL6sAQ8DMoRAny4gEh\n",
       "hrwKwSBAN/sAqgNDfJNtStGTi74TFpifiuV/LHrvsmh+GhSiUCYWTfFF8EyATZ35DyNiWVh+0vag\n",
       "kITxypA+/Ix7Aqz8w4gAyeMGAfEfRvwPGOH+fMNV/S0AAAAASUVORK5CYII=\n",
       "\" style=\"display:inline;vertical-align:middle;\" /></a><br>(see <a class=\"ProveItLink\" href=\"../../../__pv_it/theorems/b9db8958c0a6f36a497f6644e98a1af3d08b9a7f0/dependencies.ipynb\">dependencies</a>)<br>"
      ],
      "text/plain": [
       "<IPython.core.display.HTML object>"
      ]
     },
     "metadata": {},
     "output_type": "display_data"
    },
    {
     "name": "stdout",
     "output_type": "stream",
     "text": [
      "disassociation may now be readily provable (assuming required theorems are usable).  Simply execute \"%qed\".\n"
     ]
    }
   ],
   "source": [
    "%proving disassociation"
   ]
  },
  {
   "cell_type": "code",
   "execution_count": null,
   "metadata": {},
   "outputs": [],
   "source": []
  }
 ],
 "metadata": {
  "kernelspec": {
   "display_name": "Python 3",
   "language": "python",
   "name": "python3"
  }
 },
 "nbformat": 4,
 "nbformat_minor": 0
}