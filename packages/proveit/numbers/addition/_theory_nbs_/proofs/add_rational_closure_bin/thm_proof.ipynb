{
 "cells": [
  {
   "cell_type": "markdown",
   "metadata": {},
   "source": [
    "Proof of <a class=\"ProveItLink\" href=\"../../../../../_theory_nbs_/theory.ipynb\">proveit</a>.<a class=\"ProveItLink\" href=\"../../../../_theory_nbs_/theory.ipynb\">numbers</a>.<a class=\"ProveItLink\" href=\"../../theory.ipynb\">addition</a>.<a class=\"ProveItLink\" href=\"../../theorems.ipynb#add_rational_closure_bin\">add_rational_closure_bin</a> theorem\n",
    "========"
   ]
  },
  {
   "cell_type": "code",
   "execution_count": 1,
   "metadata": {},
   "outputs": [],
   "source": [
    "import proveit\n",
    "theory = proveit.Theory() # the theorem's theory"
   ]
  },
  {
   "cell_type": "code",
   "execution_count": 2,
   "metadata": {},
   "outputs": [
    {
     "data": {
      "text/html": [
       "With these <a href=\"allowed_presumptions.txt\">allowed</a>/<a href=\"disallowed_presumptions.txt\">disallowed</a> theorem/theory presumptions (e.g., to avoid circular dependencies), we begin our proof of<br><strong id=\"add_rational_closure_bin\">add_rational_closure_bin:</strong> <a class=\"ProveItLink\" href=\"../../../__pv_it/theorems/e54687e9a0238c6aca9e97085a634d9a06d597f70/expr.ipynb\"><img src=\"data:image/png;base64,iVBORw0KGgoAAAANSUhEUgAAALcAAAAWBAMAAABwABDnAAAAMFBMVEX///8AAAAAAAAAAAAAAAAA\n",
       "AAAAAAAAAAAAAAAAAAAAAAAAAAAAAAAAAAAAAAAAAAAv3aB7AAAAD3RSTlMAq1RmmUTNIjK7EInv\n",
       "3XZ/CtNrAAAACXBIWXMAAA7EAAAOxAGVKw4bAAADC0lEQVQ4y6VVX0hTURj/ubu7P3dz2b8HEWTk\n",
       "gy9ZFxNJAxmYEUQ62EtUxKIokojZQxCkLCIKDB0k1ITq+hKIgbMCkyB6ywrDh8rKBls99BCESGEU\n",
       "SN93z7nb7jaH0Ae/z3POLr/znd/5fUdgHeGWWOu3shHD+uKLRLlQM8Ur2kxyhJiP0bCG5w0VuR0p\n",
       "gZIYn6P0tXg1O4v+OiCgA108P12R/L5EaZwkuAz7mm+PDrUrAfQCl1m3REXyTom8FLocLBOUkP3r\n",
       "QRelRAfQIjb2BSuSP5fI6yR1Vv9wfiUmgTvp9/x3dIzSE9rBb0ChKlyVJY8KlJL75jmfEBudE/Jo\n",
       "iSHK25xxuIh5Lp1+XZHcmRJA37MBO7mrPktnnjLHF6T0nlSEckQJwkde2U8nqUjOFTDUF7hn2Mgn\n",
       "e7UVoBWFnlAzzZSHHDoUOm0f3DUWj+eMNZoY2Wh1QXVQ4IGOg/bKdxp4A2w3x5Zu7hT7OhIIw0H3\n",
       "5DV84VyVdbxDNhl2P4WvWa75wwI9wCKrlE5/Jim5oH3AX2DYLIuW0h95JDU34FniMgruc5awN05X\n",
       "dR7arpid/CW0X/bKF6GSGY+Ke7QoRvukW1R2WLSDZeiY5v1XswZ3Fq43ApmMTRZtFcqSnXwZTjJj\n",
       "kzmet8iPmD6nYzt46SG1krbgWWGvfgqExvmLdj1P7s2Y0JZRFW20kf/me0CbOf6RMxd36FY6iMKH\n",
       "uUTyOUMePoRXV6LsJJM4I58TthTjLppCIRv5ZoxQPiA8lWvEKXpbtkgLoyrOmgb4hvxxZ01rMpkM\n",
       "HiqQxTMvMPb9Wn3cRj72mCV8J5qn9rDll55TP/m7assnkzFvO3l4A/zBQbPaggvFB4mSDhVcUm11\n",
       "RrQ/V8u3iH7rC39sOGJMoNpoI2uadoQv9w63SJQ+XKbGeknb1Qc2XS1469TOHY9wI+jpzsB922yi\n",
       "t8fj1o/emED5uFjmNao9e7PkqRV3MpFMklrTV/L/WhKFPi6OW2usF5WjFj77zobuXOMOSJSLwFpH\n",
       "+mafKrbZ0G78b/wDChvGlS8iu1oAAAAASUVORK5CYII=\n",
       "\" style=\"display:inline;vertical-align:middle;\" /></a><br>(see <a class=\"ProveItLink\" href=\"../../../__pv_it/theorems/b7d2165770b498df985d47016de2d301d7a720060/dependencies.ipynb\">dependencies</a>)<br>"
      ],
      "text/plain": [
       "<IPython.core.display.HTML object>"
      ]
     },
     "metadata": {},
     "output_type": "display_data"
    },
    {
     "name": "stdout",
     "output_type": "stream",
     "text": [
      "add_rational_closure_bin may now be readily provable (assuming required theorems are usable).  Simply execute \"%qed\".\n"
     ]
    }
   ],
   "source": [
    "%proving add_rational_closure_bin"
   ]
  },
  {
   "cell_type": "code",
   "execution_count": null,
   "metadata": {},
   "outputs": [],
   "source": []
  }
 ],
 "metadata": {
  "kernelspec": {
   "display_name": "Python 3",
   "language": "python",
   "name": "python3"
  }
 },
 "nbformat": 4,
 "nbformat_minor": 0
}