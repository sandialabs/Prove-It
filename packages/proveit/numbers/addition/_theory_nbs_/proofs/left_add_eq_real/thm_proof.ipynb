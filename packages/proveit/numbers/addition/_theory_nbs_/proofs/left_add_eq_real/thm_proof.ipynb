{
 "cells": [
  {
   "cell_type": "markdown",
   "metadata": {},
   "source": [
    "Proof of <a class=\"ProveItLink\" href=\"../../../../../_theory_nbs_/theory.ipynb\">proveit</a>.<a class=\"ProveItLink\" href=\"../../../../_theory_nbs_/theory.ipynb\">numbers</a>.<a class=\"ProveItLink\" href=\"../../theory.ipynb\">addition</a>.<a class=\"ProveItLink\" href=\"../../theorems.ipynb#left_add_eq_real\">left_add_eq_real</a> theorem\n",
    "========"
   ]
  },
  {
   "cell_type": "code",
   "execution_count": 1,
   "metadata": {},
   "outputs": [],
   "source": [
    "import proveit\n",
    "theory = proveit.Theory() # the theorem's theory"
   ]
  },
  {
   "cell_type": "code",
   "execution_count": 2,
   "metadata": {},
   "outputs": [
    {
     "data": {
      "text/html": [
       "With these <a href=\"allowed_presumptions.txt\">allowed</a>/<a href=\"disallowed_presumptions.txt\">disallowed</a> theorem/theory presumptions (e.g., to avoid circular dependencies), we begin our proof of<br><strong id=\"left_add_eq_real\">left_add_eq_real:</strong> <a class=\"ProveItLink\" href=\"../../../__pv_it/theorems/57264c950088b089559a741bba02888a25d408850/expr.ipynb\"><img src=\"data:image/png;base64,iVBORw0KGgoAAAANSUhEUgAAAS0AAAAXBAMAAACsWwSiAAAAMFBMVEX///8AAAAAAAAAAAAAAAAA\n",
       "AAAAAAAAAAAAAAAAAAAAAAAAAAAAAAAAAAAAAAAAAAAv3aB7AAAAD3RSTlMAq1RmmUTNIjK7EInv\n",
       "3XZ/CtNrAAAACXBIWXMAAA7EAAAOxAGVKw4bAAADn0lEQVRIx81WTWgTQRR+STbd7G66zUkolRJQ\n",
       "vGhrDlJoDzUl2gr+hQZ6aTHBHgQPsj0qVapHrTRSUKtQtlLQEmhShVYUSlAEUStRFD0Y2GK1WqH0\n",
       "VunJmZ3Z7k4y2x8i4oNvZ2f3vZlv57197wH8DdEouCK6WWx/qW2KGibgi9/gW/DlFEUIT3ZVxmsv\n",
       "hYt85Vu4fGOE4DCenKmIlpwicJMqnWfhJmcJLuMISFfES4gQ2JJg3vuiPAuHo5nZAQL8MUq4Il5B\n",
       "ClsaWYVXPAtbvEwABnUTPkS2qrLw2kPhyquXZ+HGqypCMFcsvq6M11EKsW7RYHlNzj94inwxxbOw\n",
       "tSkveSECY8h5IYIjAHe2EEMbvOul6NGkNZZXVK0XCgBN5gpFU0JQpk15Kd48HETRmCLoAzHkumXD\n",
       "dNs580bagNd7Avk5YBIOXj7Nt+ZBLtnHsXBoU15X0LwWzfIEkq7EudsF5kfiqgIzuc14vSAQVqAa\n",
       "6x4vFt8Ui+/wCiCYCWGIY2Fpo2P8Mmceox404C0yWiHwGi5hf2gAZTgVWowt8gqmIRsvifugadzD\n",
       "sXBoW3Gf1AO/UdbIE0CqFV0yrTP41XLHAipO/nnwmEkX81qK2rzUhUsdVr0IQYj1Y9bA4cHySmoy\n",
       "+u0bSuOL1bZ4tYOKfVgggIcou8qfAqt4X622Cv0/kzX6IEyYRBRxNGLzWvSkTwsjSIZlYy2Qp+uO\n",
       "EmTDsMOrOXlNxHeCgsbm0vNitS1eN0BCrH1pAuhHEyFq7uKD0QAaLjTAT5KzVeFu2hH3EckYoE3C\n",
       "vYJqVYkpAsnwfhCY89p/9Rh00rTACKtt8WqDJK4cOQLwoK2CcZV4ZdW81kE9NKFjCauq0un8H2vW\n",
       "WxBPzmOlw+sEcv3jvh8Mr/FlbwyXko+lvFhti9fY7Em0fHWcwJSsJrXg6hrIm93SR3gJ18zzUv3d\n",
       "uoPXIGjEj8g0SI8OqgcI3PK9WCjlxWrb+X4a4SIF+W+0oYSegX4lJUAG4LN/BeUPM77giR33Yn4a\n",
       "outLJ511ma3NiQ2qdHklp3VbScnP0BCjIK9ijY9gMCx8m11CA+xuToF4Gz3v+p4bb7fP60T3stWz\n",
       "eGM31xe+ReEi58sf8bSrDU+O9Dal/Q1tK8KyJqFPyIyM2Am3LH/dh+H1+wkKF+GQ4Gl7W3EvKGkE\n",
       "zvPU6eAxukqNynjV++3eTjQIXDpQTrvurr1I4fS6Nfhbc5vySvyC/0HEf7zfH/vRApatbWOcAAAA\n",
       "AElFTkSuQmCC\n",
       "\" style=\"display:inline;vertical-align:middle;\" /></a><br>(see <a class=\"ProveItLink\" href=\"../../../__pv_it/theorems/54bfb1f966efceb9f6d38f59110472ad693ae4df0/dependencies.ipynb\">dependencies</a>)<br>"
      ],
      "text/plain": [
       "<IPython.core.display.HTML object>"
      ]
     },
     "metadata": {},
     "output_type": "display_data"
    }
   ],
   "source": [
    "%proving left_add_eq_real"
   ]
  },
  {
   "cell_type": "code",
   "execution_count": null,
   "metadata": {},
   "outputs": [],
   "source": []
  }
 ],
 "metadata": {
  "kernelspec": {
   "display_name": "Python 3",
   "language": "python",
   "name": "python3"
  }
 },
 "nbformat": 4,
 "nbformat_minor": 0
}