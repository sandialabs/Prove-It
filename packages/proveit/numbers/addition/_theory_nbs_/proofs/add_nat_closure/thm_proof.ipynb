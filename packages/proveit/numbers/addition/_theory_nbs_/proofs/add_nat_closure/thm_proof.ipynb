{
 "cells": [
  {
   "cell_type": "markdown",
   "metadata": {},
   "source": [
    "Proof of <a class=\"ProveItLink\" href=\"../../../../../_theory_nbs_/theory.ipynb\">proveit</a>.<a class=\"ProveItLink\" href=\"../../../../_theory_nbs_/theory.ipynb\">numbers</a>.<a class=\"ProveItLink\" href=\"../../theory.ipynb\">addition</a>.<a class=\"ProveItLink\" href=\"../../theorems.ipynb#add_nat_closure\">add_nat_closure</a> theorem\n",
    "========"
   ]
  },
  {
   "cell_type": "code",
   "execution_count": 1,
   "metadata": {},
   "outputs": [],
   "source": [
    "import proveit\n",
    "theory = proveit.Theory() # the theorem's theory"
   ]
  },
  {
   "cell_type": "code",
   "execution_count": 2,
   "metadata": {},
   "outputs": [
    {
     "data": {
      "text/html": [
       "With these <a href=\"allowed_presumptions.txt\">allowed</a>/<a href=\"disallowed_presumptions.txt\">disallowed</a> theorem/theory presumptions (e.g., to avoid circular dependencies), we begin our proof of<br><strong id=\"add_nat_closure\">add_nat_closure:</strong> <a class=\"ProveItLink\" href=\"../../../__pv_it/theorems/77293f6040d7f18782ee965619dfb81ca95eaea00/expr.ipynb\"><img src=\"data:image/png;base64,iVBORw0KGgoAAAANSUhEUgAAAaAAAAAWBAMAAAB0/FW2AAAAMFBMVEX///8AAAAAAAAAAAAAAAAA\n",
       "AAAAAAAAAAAAAAAAAAAAAAAAAAAAAAAAAAAAAAAAAAAv3aB7AAAAD3RSTlMAq1RmmUTNIjK7EInv\n",
       "3XZ/CtNrAAAACXBIWXMAAA7EAAAOxAGVKw4bAAAElklEQVRYw81XXWgcVRQ+Ozu787e77pP4R1iV\n",
       "aqQmBNGCReJAVYKluDagDy2ytA9iXzJBEFK1jkVQMaZBCHVE69QHocS4G6WohZaIhFJbaZRopTI4\n",
       "QaG2EghCFfpgvPeeO7Mzs3PtrN0HD5zZM+fMznzfPfeecy+AUFZ/hGsVi2tPRfRC5WqYj17zpys1\n",
       "1N7KU4l7/WdnDxhnFws+A12lvtvTCYlj2WQj195KZSjh0GqPAzQBfmGgH6aup9MJiWOZRG+g9lr2\n",
       "JO5z54whKAEUXQr6ZTr7ptMJiWOZRB5CTcho+tOjotd0BO5NErqLjHoZIG9S0JSWUUsnJI5lkhLX\n",
       "hAymPz0oek1HoOTi70XPY/nPPes/RwnB1xR0ngxhUVAUxLFMcgfXXhMqYtafuBRkyLqh0qKEdrNK\n",
       "9o3nnRZVOWEsk2zlqtx8wU8BKHALCY2f2IeGwYqVEi6lnKXBDCU0z0CPALxDFq+VRghj/1V2c91p\n",
       "aVdSAArcIkKFk/C+y3Dm2UQrWm1Cqjk3R4xNDPQ4KISxgYOlLB+FB6ohIYx1Iy9uree/5PZ3qPpX\n",
       "IC+BvikBEN2z8zdlJPTREGxDnNICI9QuChbcI71LjLsZaM016hiYunEGbjVc2Q0JtWNZRF1x6lL1\n",
       "GDzK7xdR5TUot2Bqlfm2ed4Zz/sWArdJUUbdCWkHHgP4iX9njV4nPSLTnFDOvYUYBxhoyedc5RHa\n",
       "Rn3TaE+5MJZJHrLJP4ZlaMUJlaahSYZlIDHi6L4ML9nZMnQK9Mt88rEMHYlmSK/SKbcTtzeNYfLM\n",
       "CjZa6N+wL0KIxWB2+LPgvxGzLdzJOri0/0m/FZ9yTR8ehE5C6N6clZD+N+TXGE6QlqijHCUEUxp+\n",
       "goL+hJSLj69zdZa+fuODHRFCNKafU/8Ken/bjGwIuJMNmWQf2xAQOoTarMH1ktVJCN1wPNsa0v+A\n",
       "XONOgpMUBYa0EpZIjQxJ5XVi3I+gXyDrfu8AFFh17wfzYoQQjcmmugAKq3bM3P5rfF0xJ0xjR5ds\n",
       "uRLsLeZRNV9aljszxN3q+USt+JOSbXAjEjgEA6a5l75FxhHbFfYl2vsfwR5BQeds9nj+Gcd5ixCa\n",
       "LUYI0VipXqnCfvZdZi7oa/HGTZ20aDqOU5NsvRVs395E1fs+H/+tkxB3T7iJDC3T6WRyIxI4/Pur\n",
       "fTbLehkH9PAM/lUdO0WuHxL9vn1E0K/YagszVBhMHB+alrbZhfOhaakLMULMudGHNzBDsD2YC2Ub\n",
       "FWUgteEopmJ1sVMgOElr4Dc73vNiW19lqQ1aapjYQu8DWEkQKlkHRhmhWW5qdWLqreDCnLeZpMaT\n",
       "h/N1qASti24WqSYIxTabE6+94naxOaU4Ycu/bIbDDPVZMEHIqz+Qmp4gVNgy+ClQQpM1NEeoqZ6E\n",
       "SYte0EkWpvI2nWLktBH24oNcqTw/diINxNn19a5OJASncP8/kTiV6l84M+ITK51yuPE2XD8wIXTO\n",
       "SSSDjhMvF0di7aJXoonO4Aevcsw+Hj2fT52uQQEnx9j6UmDS/KGlXUo75fuovZULopMsIbq62M2b\n",
       "8mlmHv5f8g8PTWD/cmi4dAAAAABJRU5ErkJggg==\n",
       "\" style=\"display:inline;vertical-align:middle;\" /></a><br>(see <a class=\"ProveItLink\" href=\"../../../__pv_it/theorems/6c27c600d473e08863de41e1f711c6e9915b7b3c0/dependencies.ipynb\">dependencies</a>)<br>"
      ],
      "text/plain": [
       "<IPython.core.display.HTML object>"
      ]
     },
     "metadata": {},
     "output_type": "display_data"
    }
   ],
   "source": [
    "%proving add_nat_closure"
   ]
  },
  {
   "cell_type": "code",
   "execution_count": null,
   "metadata": {},
   "outputs": [],
   "source": []
  }
 ],
 "metadata": {
  "kernelspec": {
   "display_name": "Python 3",
   "language": "python",
   "name": "python3"
  }
 },
 "nbformat": 4,
 "nbformat_minor": 0
}