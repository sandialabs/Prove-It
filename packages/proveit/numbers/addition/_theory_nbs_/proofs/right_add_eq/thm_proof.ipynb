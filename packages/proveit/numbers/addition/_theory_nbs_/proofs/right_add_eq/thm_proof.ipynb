{
 "cells": [
  {
   "cell_type": "markdown",
   "metadata": {},
   "source": [
    "Proof of <a class=\"ProveItLink\" href=\"../../../../../_theory_nbs_/theory.ipynb\">proveit</a>.<a class=\"ProveItLink\" href=\"../../../../_theory_nbs_/theory.ipynb\">numbers</a>.<a class=\"ProveItLink\" href=\"../../theory.ipynb\">addition</a>.<a class=\"ProveItLink\" href=\"../../theorems.ipynb#right_add_eq\">right_add_eq</a> theorem\n",
    "========"
   ]
  },
  {
   "cell_type": "code",
   "execution_count": 1,
   "metadata": {},
   "outputs": [],
   "source": [
    "import proveit\n",
    "theory = proveit.Theory() # the theorem's theory"
   ]
  },
  {
   "cell_type": "code",
   "execution_count": 2,
   "metadata": {},
   "outputs": [
    {
     "data": {
      "text/html": [
       "With these <a href=\"allowed_presumptions.txt\">allowed</a>/<a href=\"disallowed_presumptions.txt\">disallowed</a> theorem/theory presumptions (e.g., to avoid circular dependencies), we begin our proof of<br><strong id=\"right_add_eq\">right_add_eq:</strong> <a class=\"ProveItLink\" href=\"../../../__pv_it/theorems/e998a39b7298af00dead87148860d6745eded08f0/expr.ipynb\"><img src=\"data:image/png;base64,iVBORw0KGgoAAAANSUhEUgAAAS0AAAAXBAMAAACsWwSiAAAAMFBMVEX///8AAAAAAAAAAAAAAAAA\n",
       "AAAAAAAAAAAAAAAAAAAAAAAAAAAAAAAAAAAAAAAAAAAv3aB7AAAAD3RSTlMAq1RmmUTNIjK7EInv\n",
       "3XZ/CtNrAAAACXBIWXMAAA7EAAAOxAGVKw4bAAADt0lEQVRIx81WXWgTQRCeuyRN7pLGPAmihICi\n",
       "D9qaBym0Qo1UreBfsCCCYoN9EH26Piq1VEEUrVixWKtQrypoidT4gwpCCYr4L1UsChq4YqVqoRRB\n",
       "lD6Iszebn033qhIRB77bu9ud2W9nZ2cW4G+IwSEVr5PGn5v6QwlGCHLxWHINuWzjCLGPuaXxWsjh\n",
       "IO/lGg5rjBJWso8dJdHSEwQnKTNlGk6yi7CPRUBHSbzcUULB1glfrphMIy8NQt8SAluMP1ISrwBH\n",
       "XlQxpB7LNPJSKfaZNlxIvay08JrP4cirSabhxKssSniWyTwpjdcajv7hS3ciIq/mgVZ8XpVo6CNR\n",
       "6BV5eWePop4/RFgNcPo3YmiaviaOWDDsHhR4eR7AWdyWKttCxpYQ1/CraVgm8tpqaJMYjQlCM3hD\n",
       "06SmzjBbMWjT8HpJcBmuSSUq8LochXXYLJJo7MclzBJ46feALQv52tBMf1w6nW+4O64fN9Qzv+J1\n",
       "n+ADd4I75t0zcswGgLfYHJNomAELnuPrukzmaSbzgulNQHkKzUwQVMsh7Fe0obf7AZb+Ji88RlZR\n",
       "3D8C/SvbIJlGo+n7Lvgr0AFX0EOeNAEStfhI1t5ifeP1I1icPMOg2EkXzh/g9Y14BUda67P1IgQh\n",
       "cR9xKkM3C3npP8CFK4eK4vhio1dBMC3wumLZAacOEuAaZlf9te8bm9eYVYYnqn+G2Q59bOyCBXxu\n",
       "4jWqdGx3d6Oc0K1JHzcLPYS++BzwC/7Sv4CSQAvVxf5iGsdBC4m8IjBTNcCFSZ4BWrDbHbNncUGP\n",
       "D5s9FfCJsnBNjcArqllt/EyfGwxmq8RVwuLDa2GjuI89UBGLURIRhGksh8aowEuz1Fd47N0pAig4\n",
       "VSAeJPLf7OdsCEMVuiVyaLPAC2bkriBKSslG01HChXG1LiLy6h07GEbrQ8W8mEbvwAZDPI/h280f\n",
       "AcrjBPKhodWw0PCl7WgagodwhL2wuNcLeLWDQfuIqgHuOihvIzjle+9gMS8afVOa7/dy0FkwjjWY\n",
       "SWjxJ9yQBHjjmcD8wUzeMGAgx8ubvgmxnOnGwros1maxbotVmmv4E/pdad2u4yBDdZXXoT3i/jDw\n",
       "GRuYV50A7ynWkdzZ2Zb31/ot49k7i1p3Mmeqi8NBdk/91QXllpKS3m47pt5veHREdEPDJSa7u/MJ\n",
       "d0r+uggncu99HA4iodwHau1K6WDNIBR63+SNYm2aMrz4R9iTv9t5LYJDKZNc151Hj3IU7nq28dSm\n",
       "fsmrYQz+B/H+4/l+AkYYAGYgjWSsAAAAAElFTkSuQmCC\n",
       "\" style=\"display:inline;vertical-align:middle;\" /></a><br>(see <a class=\"ProveItLink\" href=\"../../../__pv_it/theorems/eefe4c4fbad6724fe3ef0873dc6c8112d02861810/dependencies.ipynb\">dependencies</a>)<br>"
      ],
      "text/plain": [
       "<IPython.core.display.HTML object>"
      ]
     },
     "metadata": {},
     "output_type": "display_data"
    }
   ],
   "source": [
    "%proving right_add_eq"
   ]
  },
  {
   "cell_type": "code",
   "execution_count": null,
   "metadata": {},
   "outputs": [],
   "source": []
  }
 ],
 "metadata": {
  "kernelspec": {
   "display_name": "Python 3",
   "language": "python",
   "name": "python3"
  }
 },
 "nbformat": 4,
 "nbformat_minor": 0
}