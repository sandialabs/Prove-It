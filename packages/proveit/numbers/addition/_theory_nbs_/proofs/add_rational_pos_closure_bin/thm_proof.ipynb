{
 "cells": [
  {
   "cell_type": "markdown",
   "metadata": {},
   "source": [
    "Proof of <a class=\"ProveItLink\" href=\"../../../../../_theory_nbs_/theory.ipynb\">proveit</a>.<a class=\"ProveItLink\" href=\"../../../../_theory_nbs_/theory.ipynb\">numbers</a>.<a class=\"ProveItLink\" href=\"../../theory.ipynb\">addition</a>.<a class=\"ProveItLink\" href=\"../../theorems.ipynb#add_rational_pos_closure_bin\">add_rational_pos_closure_bin</a> theorem\n",
    "========"
   ]
  },
  {
   "cell_type": "code",
   "execution_count": 1,
   "metadata": {},
   "outputs": [],
   "source": [
    "import proveit\n",
    "theory = proveit.Theory() # the theorem's theory"
   ]
  },
  {
   "cell_type": "code",
   "execution_count": 2,
   "metadata": {},
   "outputs": [
    {
     "data": {
      "text/html": [
       "With these <a href=\"allowed_presumptions.txt\">allowed</a>/<a href=\"disallowed_presumptions.txt\">disallowed</a> theorem/theory presumptions (e.g., to avoid circular dependencies), we begin our proof of<br><strong id=\"add_rational_pos_closure_bin\">add_rational_pos_closure_bin:</strong> <a class=\"ProveItLink\" href=\"../../../__pv_it/theorems/487c33aec617be9af40a04fa121a5293b535f7fe0/expr.ipynb\"><img src=\"data:image/png;base64,iVBORw0KGgoAAAANSUhEUgAAANMAAAAZBAMAAABZWgY4AAAAMFBMVEX///8AAAAAAAAAAAAAAAAA\n",
       "AAAAAAAAAAAAAAAAAAAAAAAAAAAAAAAAAAAAAAAAAAAv3aB7AAAAD3RSTlMAq1RmmUTNIjK7EInv\n",
       "3XZ/CtNrAAAACXBIWXMAAA7EAAAOxAGVKw4bAAADeklEQVRIx61WXUgUURQ+zsw6M/un9RCBERNG\n",
       "BYIsFlEStqGRFdmGEUmhaz5EvTRGbxlt9BJoKfQ7UTE9hfngloFBBEIESQUaQhAMXB/CighfMtiH\n",
       "6Nw7M3dnZnd1lS7M35175zvfud/57gCU3cQUrKgl8ZCWN2XjypBgCA95aDkzwml61ku81ReHgqbl\n",
       "QKkJPMW1Em87C3pGDGNfHipmAlTTm9oyoProqa4Y3QdTGEMi0Btfl5Gnsxwqjjh76c3pMqAO8iQG\n",
       "WyVd+LOBzrExgKMdIBnGpHETZ+YArpS7aL+pkHyxtzvXKprVbf7RShajUkXisoIeDAmTGNGWRlIw\n",
       "LIj6uuqda5dJX5n2w3fLotTVp5ixSCbNofZjtWCglWWQiuOCwKaiUK9ZFm3Cx37YfcMKEhK0Vg71\n",
       "E4+PlvW+DKiKtLNecs0c8UN1/1qNDJi+ZHfJ+kMIHUo0cChKHYHvlwTI5rU+ZCccTupqzgcVXjBH\n",
       "dRCZYird+uoUcVEUUuu4BcBgBqAX5OpFTcWRGR30CT/8BqQpH5SQgygBYYKNcodfFBirr3z+ZbQ1\n",
       "1Yxwc1PO8AK8tUr3QcXo7VsU4TzEKNdDlvXBsqapLNNQlQVlno4asLBR/qq9Vgf4/FEEEYhHFTUU\n",
       "b9ZIya8g0lDICqGiQ2yWhxUid2kQYqyGeb6fcAU6rDCBkPb40zs8WrAzch7CW/UXLTMtqUACRwns\n",
       "9isQy+qwCQLLasz9UMiuq3wVDdIkPaeqGWkap4T+zprMYq5tBiDEy6qCpuURQmmwRtB9UBlcPxBt\n",
       "/yHu+GZ0iyMdeRKs+Pow3vBn5Q8d+SWeZDloTASh4jRBzzBSIsxIPlYVCRWHSbZYT7njI9QD89Nh\n",
       "FxuKCZOSygRzbzHN7IbCkKwXKkQVfh2DWv+y95tf7DXNNHV2ph/fdlwDLiyca/VoeY97E01R64Vo\n",
       "RqrebhiGdtxJYL6uqCQglinmFqxdcq4nHlqOFtaKxPO+h0tRVxsxnCqIav2MPpNFgbOLyWJ2a69N\n",
       "ob+Q2S28jMI5zkofbDdHcAPbiXXGBA+RwCY2QE93S9V6sc1hw51JvhOI3CZCzfVjMKApbQTke6yE\n",
       "Z7ozgSA1b90U7NH64hYaC7zX3J0aeY9fLfZvIZMSn5pbwq0D/xYh0/Mg1bYFfsbqYOUtmF/R93Rj\n",
       "x3/6D2SBI4t/vsHTuY1tcwEAAAAASUVORK5CYII=\n",
       "\" style=\"display:inline;vertical-align:middle;\" /></a><br>(see <a class=\"ProveItLink\" href=\"../../../__pv_it/theorems/c0759faaeebe33f5350ac15f9dac3c2cbf48f8290/dependencies.ipynb\">dependencies</a>)<br>"
      ],
      "text/plain": [
       "<IPython.core.display.HTML object>"
      ]
     },
     "metadata": {},
     "output_type": "display_data"
    },
    {
     "name": "stdout",
     "output_type": "stream",
     "text": [
      "add_rational_pos_closure_bin may now be readily provable (assuming required theorems are usable).  Simply execute \"%qed\".\n"
     ]
    }
   ],
   "source": [
    "%proving add_rational_pos_closure_bin"
   ]
  },
  {
   "cell_type": "code",
   "execution_count": null,
   "metadata": {},
   "outputs": [],
   "source": []
  }
 ],
 "metadata": {
  "kernelspec": {
   "display_name": "Python 3",
   "language": "python",
   "name": "python3"
  }
 },
 "nbformat": 4,
 "nbformat_minor": 0
}