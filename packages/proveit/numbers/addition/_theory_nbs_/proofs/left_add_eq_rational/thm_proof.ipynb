{
 "cells": [
  {
   "cell_type": "markdown",
   "metadata": {},
   "source": [
    "Proof of <a class=\"ProveItLink\" href=\"../../../../../_theory_nbs_/theory.ipynb\">proveit</a>.<a class=\"ProveItLink\" href=\"../../../../_theory_nbs_/theory.ipynb\">numbers</a>.<a class=\"ProveItLink\" href=\"../../theory.ipynb\">addition</a>.<a class=\"ProveItLink\" href=\"../../theorems.ipynb#left_add_eq_rational\">left_add_eq_rational</a> theorem\n",
    "========"
   ]
  },
  {
   "cell_type": "code",
   "execution_count": 1,
   "metadata": {},
   "outputs": [],
   "source": [
    "import proveit\n",
    "theory = proveit.Theory() # the theorem's theory"
   ]
  },
  {
   "cell_type": "code",
   "execution_count": 2,
   "metadata": {},
   "outputs": [
    {
     "data": {
      "text/html": [
       "With these <a href=\"allowed_presumptions.txt\">allowed</a>/<a href=\"disallowed_presumptions.txt\">disallowed</a> theorem/theory presumptions (e.g., to avoid circular dependencies), we begin our proof of<br><strong id=\"left_add_eq_rational\">left_add_eq_rational:</strong> <a class=\"ProveItLink\" href=\"../../../__pv_it/theorems/0144264b77845e1530c1d302ad725630bd7e7ce40/expr.ipynb\"><img src=\"data:image/png;base64,iVBORw0KGgoAAAANSUhEUgAAAS4AAAAXBAMAAABHbL+hAAAAMFBMVEX///8AAAAAAAAAAAAAAAAA\n",
       "AAAAAAAAAAAAAAAAAAAAAAAAAAAAAAAAAAAAAAAAAAAv3aB7AAAAD3RSTlMAq1RmmUTNIjK7EInv\n",
       "3XZ/CtNrAAAACXBIWXMAAA7EAAAOxAGVKw4bAAADWElEQVRIx8VWT0gUURj/dmdmd3Z23RaCygQZ\n",
       "ULqkMYQkdlBLsiKMhaBTxEKHqNN4yzLYumZqgcR2kAW7lOFuClmHYiGCKBSJpA4ZIypWhCx0MDz1\n",
       "/ny18+e9Elbqg9++mX2/b77fe99733sAW2E2Qt67mf+YRRFbYUmTQ2JnxR5i0xyOFH1pqE7XXoRM\n",
       "tiX0kNgSxxH6fL4qWUaGQ2oXRR4yi+QZrtF8DlelS7U4XMnwzlCLyEPGVjoZqLy4WZWuBKJiYcdL\n",
       "yAs8pOzXDAoRG6luee1BSCNFLIGHlH2OY2Zh4U11uk4gonWrjjeSsbb7xiTJR0rgEWRPdIFBmI+A\n",
       "4RjA3U0E75R34QDhjB3b8EZSYdHpIcuFLnN1gVkKpOxiEyhlgAPA0AvRlHyrPT20kz/9YWu85TBe\n",
       "gDrnjdQKHfnt5LUU9AiydbMHQiRMEzDE8vG0MNxg7QhcKcKU+TddLznUMtQU+cR8nOETk4VuFrEc\n",
       "9AiyDZiFBJE4BAxhR7zsVZJgmDZhrHWTuhLDUEj7V/IsKwSloIeArW3AUJYkGDgy7eRnvH2adq0d\n",
       "XSYnl7YIIVZ39es2JJMuXbyffYRyPHksONDh32HaOjwgr3O+9SVmqxn4RppmxCQpx8Z7fZ2eGHZt\n",
       "hKRtYlt+wKBClDHw6GL9x3PELMrB745yFEzYEbbdkYyRUAlIshT/ZAvZEEvBLdK0IfrJENROnc61\n",
       "AqM6aS43wxdWhKmmZLyiC/sBOfiIGzvmhN+pnhkI/7hX0sg41aJPl5ANakr77io7IZLTRDrJN+U6\n",
       "+62DeuVCLndb8+cR+5GDTzc5jPonvZ89kYyTTuN+0tb4N5aQDUbdMv38PIJawY4dpIeFXmJ3n3l4\n",
       "pbMx+tc97ed5pBx0rslySCv4Vf9OkbHjpNBF5zj4gWUPncqPQ388o8I4wAetzIvtYAomrYou1o9G\n",
       "OZ6TVn5ud/l1idmP4aHpuwVoXfumYMBUV55/JQ00tmWgj47JeNa9y1VXWT8a5aDdQciuoMEaI2R/\n",
       "ImsDoA/hMrxWmIYds0ipz42Qmb1kies946DdR0gsFrw0C9kNy2nhILU8NiHn9O8/D7esCHW5OVGH\n",
       "Q2KrgimUspM2hzvrvxqtvbKx9aWsUJeb8z/N/rfhfgKK1BHAYISYiQAAAABJRU5ErkJggg==\n",
       "\" style=\"display:inline;vertical-align:middle;\" /></a><br>(see <a class=\"ProveItLink\" href=\"../../../__pv_it/theorems/ffdd2fe8220facf7c61ed2aba9cad2eb50c0511d0/dependencies.ipynb\">dependencies</a>)<br>"
      ],
      "text/plain": [
       "<IPython.core.display.HTML object>"
      ]
     },
     "metadata": {},
     "output_type": "display_data"
    }
   ],
   "source": [
    "%proving left_add_eq_rational"
   ]
  },
  {
   "cell_type": "code",
   "execution_count": null,
   "metadata": {},
   "outputs": [],
   "source": []
  }
 ],
 "metadata": {
  "kernelspec": {
   "display_name": "Python 3",
   "language": "python",
   "name": "python3"
  }
 },
 "nbformat": 4,
 "nbformat_minor": 0
}