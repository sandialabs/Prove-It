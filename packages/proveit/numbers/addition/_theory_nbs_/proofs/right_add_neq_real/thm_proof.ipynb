{
 "cells": [
  {
   "cell_type": "markdown",
   "metadata": {},
   "source": [
    "Proof of <a class=\"ProveItLink\" href=\"../../../../../_theory_nbs_/theory.ipynb\">proveit</a>.<a class=\"ProveItLink\" href=\"../../../../_theory_nbs_/theory.ipynb\">numbers</a>.<a class=\"ProveItLink\" href=\"../../theory.ipynb\">addition</a>.<a class=\"ProveItLink\" href=\"../../theorems.ipynb#right_add_neq_real\">right_add_neq_real</a> theorem\n",
    "========"
   ]
  },
  {
   "cell_type": "code",
   "execution_count": 1,
   "metadata": {},
   "outputs": [],
   "source": [
    "import proveit\n",
    "theory = proveit.Theory() # the theorem's theory"
   ]
  },
  {
   "cell_type": "code",
   "execution_count": 2,
   "metadata": {},
   "outputs": [
    {
     "data": {
      "text/html": [
       "With these <a href=\"allowed_presumptions.txt\">allowed</a>/<a href=\"disallowed_presumptions.txt\">disallowed</a> theorem/theory presumptions (e.g., to avoid circular dependencies), we begin our proof of<br><strong id=\"right_add_neq_real\">right_add_neq_real:</strong> <a class=\"ProveItLink\" href=\"../../../__pv_it/theorems/022d758bfa3b8be3b7e039e452e3ff23554710940/expr.ipynb\"><img src=\"data:image/png;base64,iVBORw0KGgoAAAANSUhEUgAAAS0AAAAXCAMAAABpq+mjAAAARVBMVEX///8AAAAAAAAAAAAAAAAA\n",
       "AAAAAAAAAAAAAAAAAAAAAAAAAAAAAAAAAAAAAAAAAAAAAAAAAAAAAAAAAAAAAAAAAAAAAAAeYafp\n",
       "AAAAFnRSTlMAq1RmmUTNIjK7EInv3Xbt5cnn9enzas/lfgAAAAlwSFlzAAAOxAAADsQBlSsOGwAA\n",
       "A6NJREFUWMPdWAmS4yAM5MYI0N7+/1MXMNhAsBNc2crUMhOrfNBCoiUEhHyZpjt5o+v7PnzHqP5l\n",
       "Q9bKmSbx5IWAoY4b0Juk+3PGP+ksZls56erx2Bcz1HELOkkhy2P1SbKBauVsUzB6apaRjpvQUS6F\n",
       "XNp8klqCt3IYFBfvuBhRiw513IROsrjOsk96y3VyGKx4BTAgl9FDHXeho+TZreqTzmKqlfMmqUd2\n",
       "SDrUcRs6Sedjc/ajgWhbCYgUFtvy/cEkTS3q/NDSRyv1SAdgikig09BJipQKDbzH7MtU/tr0bTBI\n",
       "kQh/ZZJ0wR1m3VD5wRyRpt///BWvtNdhCYshyddp6CQ1LZfp+PFWCapqTVdLhZWnrzxrJNfRHCCU\n",
       "X5gELq3p2aHMPaFWxl7Y1oWaaehNRlpdWDJabJAaE3pgmClitX3JW1cT4mQjI9tFlWY2trgtZxQY\n",
       "kdjhs/Jl7bOWGOoItrroGofT0JuMjp3K8ULkOgbDH+GAL3mL6pe9RSpzTgngoi5YZYmdJ9TasWUM\n",
       "sGVdpqGzVITnr8FytLsaRKHDfyn9aS79j8I5eQtBjL3VdCfSdjAXkZhsCh0Bzk2CFev0w3zLxN9/\n",
       "vG/zVsFOpEVHpqGztCwXXeB18HqxD3WMbsXyUkLCnCxBCRweiZGoTb3tqLy1dxcmtm/hxyuYtjLC\n",
       "WkKIcupSRr4yKQ6MKsLSeLl5VtzvOmi5TEJnqR0tIUYqS3jSkBmrIboWTVP3hlXL2GaY1U3TvRDy\n",
       "gGkXgHqRJmxdQIRhSHYVidF65kVehkXn2cfFuegQNDKXz0MXSZcjtLH2+loFPw0f05inVOKKYVsk\n",
       "2sam1g1H94OQBaZdNnwtQSAGezm7zFtA0S6a4jZ2L5/tG4sOCKWUWPU8dKcCIobhR7aIPNth48cu\n",
       "9F8sqfOWlBZOvJW7x0j8/sOkSDxgusS1tHK24Nb++WlDhW3VPHSnIlgR05bkELJ9jM8EKki6S8rk\n",
       "2hayWwUxzvJH93Z/u8Ocb11vbH27HfPwSGLDjoMCx+ahHzblMrAfLY+sCHACpUWEfBdDw6jttCJP\n",
       "klSobIibqjSquLV3b3cKO8x4B2xunRt1Byh8vI1L2B63bDALfXlGw/o7SFGa64wYVsN61jyLoQqm\n",
       "zQKmT3AzrfOxH++xEjbjKOQN6KtplNDfhcwsn9ewY1urfqcwZQ+r8cb5ZmfJWfK7gV2g8Yrz/OFO\n",
       "hrqV3PMWk3WGwI+ednyppv9r6/4CFlAiHuu2jDAAAAAASUVORK5CYII=\n",
       "\" style=\"display:inline;vertical-align:middle;\" /></a><br>(see <a class=\"ProveItLink\" href=\"../../../__pv_it/theorems/3c316a150cd3e51131ddecce72b80eef29db3b960/dependencies.ipynb\">dependencies</a>)<br>"
      ],
      "text/plain": [
       "<IPython.core.display.HTML object>"
      ]
     },
     "metadata": {},
     "output_type": "display_data"
    }
   ],
   "source": [
    "%proving right_add_neq_real"
   ]
  },
  {
   "cell_type": "code",
   "execution_count": null,
   "metadata": {},
   "outputs": [],
   "source": []
  }
 ],
 "metadata": {
  "kernelspec": {
   "display_name": "Python 3",
   "language": "python",
   "name": "python3"
  }
 },
 "nbformat": 4,
 "nbformat_minor": 0
}