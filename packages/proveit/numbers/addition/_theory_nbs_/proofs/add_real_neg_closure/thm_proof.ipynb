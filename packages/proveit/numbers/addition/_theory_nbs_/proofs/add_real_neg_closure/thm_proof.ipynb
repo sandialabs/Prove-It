{
 "cells": [
  {
   "cell_type": "markdown",
   "metadata": {},
   "source": [
    "Proof of <a class=\"ProveItLink\" href=\"../../../../../_theory_nbs_/theory.ipynb\">proveit</a>.<a class=\"ProveItLink\" href=\"../../../../_theory_nbs_/theory.ipynb\">numbers</a>.<a class=\"ProveItLink\" href=\"../../theory.ipynb\">addition</a>.<a class=\"ProveItLink\" href=\"../../theorems.ipynb#add_real_neg_closure\">add_real_neg_closure</a> theorem\n",
    "========"
   ]
  },
  {
   "cell_type": "code",
   "execution_count": 1,
   "metadata": {},
   "outputs": [],
   "source": [
    "import proveit\n",
    "theory = proveit.Theory() # the theorem's theory"
   ]
  },
  {
   "cell_type": "code",
   "execution_count": 2,
   "metadata": {},
   "outputs": [
    {
     "data": {
      "text/html": [
       "With these <a href=\"allowed_presumptions.txt\">allowed</a>/<a href=\"disallowed_presumptions.txt\">disallowed</a> theorem/theory presumptions (e.g., to avoid circular dependencies), we begin our proof of<br><strong id=\"add_real_neg_closure\">add_real_neg_closure:</strong> <a class=\"ProveItLink\" href=\"../../../__pv_it/theorems/4587e0d43b3dd018b00bc270eb49874582ca9fc90/expr.ipynb\"><img src=\"data:image/png;base64,iVBORw0KGgoAAAANSUhEUgAAAcwAAAAZBAMAAABOcQOdAAAAMFBMVEX///8AAAAAAAAAAAAAAAAA\n",
       "AAAAAAAAAAAAAAAAAAAAAAAAAAAAAAAAAAAAAAAAAAAv3aB7AAAAD3RSTlMAq1RmmUTNIjK7EInv\n",
       "3XZ/CtNrAAAACXBIWXMAAA7EAAAOxAGVKw4bAAAFNElEQVRYw82Yf2gbVRzAv00uuV/JLSgMN7FE\n",
       "xVkYCcXq/gij3limExmGTfynotH9IQ511z/rjzWDwQTrGlbqTMV6FRE0zmbt5lRwRMYsomKVoqA7\n",
       "vTJxrt2gDLph/7B+33uX5nJ3+VGSVR/c5d039969z/v+eN/3AOqV2wwNWlPug7UvHF6K8WP9F9Ot\n",
       "+qJP/Q8w+Sy5d60h5vvkprWao16H3WuNOUTsJ9pqzCccz/7nctfOD5WfwzrFjJD6nTUx26jJdTZr\n",
       "PkW8bW65VSrOcYl8JHDzSPn/CMXcQerP1MTkUvgTbNbcuAKAlG699+1zYRYgexCEHJZj+Mklinlw\n",
       "xU+rYgpkQvqaHc46nCzObRJ7vN+uIoaAq4d7PTAfDJaf91LMINquHK3tm2TCJprFHMQPhdziuPfb\n",
       "8Wrh2nRKQjr7vWQY6RVMsfz/QxTTj9MTrBOCuloRia7gtekGYAaZfh+bs2lz41j5/8ss0n5nGN/U\n",
       "wQwZxvlCs5jr8XqYeMitF00Pniriqpi9Zw6wikyDKL/PZrTCUVuweVKnmDsBRly9FSowuQyIerOY\n",
       "OctPHtfEJQ+eKuJqmIEpeEcHCeOin9pZOUKK/Fe//2Yb7WCGYvYCj/MhVQZStQITX+htOiI+hRcm\n",
       "XdJZ4KZB2uLgYeL8iY0NYn7UCbtQk/jkK1JMWwiaTNg9rD9FMUVdTrEGRPczp2BrxImJ6j61OqbY\n",
       "J9tecIhm8DqHlrEA4QIcuUJluwzjW8P4AUpilYzdLnasSeg86GPESh8B+JUJhQVyHzCwZC2jHbFn\n",
       "PeMM02eWZuLIhmG4XdY53YUZX00EEmZzKUWG0wW3NhEzlKUfjjm0ycSL0J9pTJtfg7RomS/V5gf2\n",
       "BeWQ3cX6M1YM7bbmaifJh0xVhpPJmWTKjhn0m41jJrFfRYGEySeTyR1Oox034X5wYzJxolFM6R/w\n",
       "L0BglkimaU5nx+QO2xKBQY1hTmCQIg0uEGHHXQdkl2+CvAmnR5qcLzlwvvu0ewSWkGZfiDnn2JBs\n",
       "wGsUeaKw3qe5MZkYvmjMN6Wr0Ja+++N1OCw/RVJMG6aUveCKtPAy2jo2kOjrHfK7PW5M/ku8HdcG\n",
       "LUzpZ+G6awAlITUfReZHHfkKWb9O4ChM3wzn1qYlFn5xRKZrZArSVsVmtKMQU9UXY1YSieXpMqYK\n",
       "XeKKMcJWa4fShnaCDVga1QHqJTcm3EKMEQYw5yNWz6lCEXb/kaqMD0QIWZamKdxbzgSSzOrrON72\n",
       "T3v/cmNa4j7doU0SuMKqVbFhjs0fbs8Q64AwG8bYsF7aofytiW9cXfnuNvtGbBT8z+ZyRxEzH3St\n",
       "m6ycg1kQYqSzUArz/qK0UJl0pehmALZgyhxVFHm3MynD4YQzK6HYc4HkVV5bRRYkLWF/r1gPPW8b\n",
       "nnFyrw0TGwgFps1A3Hu/KV2HoQ/Z9m1cExO6JhQr3qPCzSa8RrWpBHp09w7Fr7owK3L0vlcP6atI\n",
       "3X1p7G977YBo7VDKDUas85rZKtvqKWExQTDzENIG9+iA9p8HqVC6UeEdKsuXcEH53BGC6Kwcsx5e\n",
       "2n/Ga0zfLy+vZnWW2rXauytixBG7NrFBH1qA8JPGdtEemI/eM99JMAeige3xSZolDkSFKRjQyI0J\n",
       "xQzwb5JE+s/Cew84PnhTxfLWqiLW2QeHNcchifRZbrjuIQkxWrZtk3WzVCWF1Y77cGHJ5VLVzoJ4\n",
       "s9WYF2/EWZBweQICzH32L0+XqsRnWE2cq3GyV4C1Lw2f7D3vPKf1e1X9/9dzWp2c0579F8aGdLuz\n",
       "HeF8AAAAAElFTkSuQmCC\n",
       "\" style=\"display:inline;vertical-align:middle;\" /></a><br>(see <a class=\"ProveItLink\" href=\"../../../__pv_it/theorems/615443b0a952c6ae6a9665d2d76dfb854f0af9e10/dependencies.ipynb\">dependencies</a>)<br>"
      ],
      "text/plain": [
       "<IPython.core.display.HTML object>"
      ]
     },
     "metadata": {},
     "output_type": "display_data"
    }
   ],
   "source": [
    "%proving add_real_neg_closure"
   ]
  },
  {
   "cell_type": "code",
   "execution_count": null,
   "metadata": {},
   "outputs": [],
   "source": []
  }
 ],
 "metadata": {
  "kernelspec": {
   "display_name": "Python 3",
   "language": "python",
   "name": "python3"
  }
 },
 "nbformat": 4,
 "nbformat_minor": 0
}