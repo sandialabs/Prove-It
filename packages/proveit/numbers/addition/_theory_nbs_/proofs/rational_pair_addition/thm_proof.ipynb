{
 "cells": [
  {
   "cell_type": "markdown",
   "metadata": {},
   "source": [
    "Proof of <a class=\"ProveItLink\" href=\"../../../../../_theory_nbs_/theory.ipynb\">proveit</a>.<a class=\"ProveItLink\" href=\"../../../../_theory_nbs_/theory.ipynb\">numbers</a>.<a class=\"ProveItLink\" href=\"../../theory.ipynb\">addition</a>.<a class=\"ProveItLink\" href=\"../../theorems.ipynb#rational_pair_addition\">rational_pair_addition</a> theorem\n",
    "========"
   ]
  },
  {
   "cell_type": "code",
   "execution_count": 1,
   "metadata": {},
   "outputs": [],
   "source": [
    "import proveit\n",
    "theory = proveit.Theory() # the theorem's theory"
   ]
  },
  {
   "cell_type": "code",
   "execution_count": 2,
   "metadata": {},
   "outputs": [
    {
     "data": {
      "text/html": [
       "With these <a href=\"allowed_presumptions.txt\">allowed</a>/<a href=\"disallowed_presumptions.txt\">disallowed</a> theorem/theory presumptions (e.g., to avoid circular dependencies), we begin our proof of<br><strong id=\"rational_pair_addition\">rational_pair_addition:</strong> <a class=\"ProveItLink\" href=\"../../../__pv_it/theorems/97377aebde80b14bafb68422eb4f69e7c74eb0c20/expr.ipynb\"><img src=\"data:image/png;base64,iVBORw0KGgoAAAANSUhEUgAAAWcAAAAyBAMAAAByogdOAAAAMFBMVEX///8AAAAAAAAAAAAAAAAA\n",
       "AAAAAAAAAAAAAAAAAAAAAAAAAAAAAAAAAAAAAAAAAAAv3aB7AAAAD3RSTlMAq1RmmUTNIjK7EInv\n",
       "3XZ/CtNrAAAACXBIWXMAAA7EAAAOxAGVKw4bAAAGgElEQVRo3sVZX2gcRRj/7v/e/6rQl0hcEFSw\n",
       "ba5QgvUhOY0WpdYeFHwqJqUFMRa56ItCNaeCPhi5E0R7WnX7YCGm9q62aCnYRq1oqpU0piqtJxf7\n",
       "0Gqlhqs2IYXU+Xu3uzM5d+c8MnCzO9/NfPPbb7/55pvfAiiU3aBess5kIblk1FCd15NSx5zQJcJH\n",
       "RdFvgiRQRZV2VnXijhYMfacg0XamE4IVvGUYPWWTncfVasV5fQPqmCOSsUkdBu2yfei3wyYLYteI\n",
       "rlCbeFdWHbRf4ln9BqzjLsD/7kO/mt1YaVz/oDbxry14R0wi+wyJ2fryVplsHD3Agr3jSVytUlqK\n",
       "vnF2c2/Tbvukym+TyJAbBFNW0F7kRdFJe8ftxEnSSsYqszeNvWvo2PNij+jlu5Za5xtx7Oq4UG0E\n",
       "so6LtYanctB+NEewc0a3qjxIPGhOBfRfzITdWMPX8L5g0dAUPIgua2WDsbG2ZsONN08bfG1z0Njy\n",
       "pcHInFVlN7nfpgL6NItU2MP2p2CT0CFehu/RJSyLyFMogHwJ/vqbxw0E2DtuBR1HY7sMosakchW5\n",
       "71Jwam2eGQN7yWaAc0KPzVRr5KRk9Ffo1c9iDOj/q1BvaLP4vlL55VSlgj0llgHYAHCN9WIq80RF\n",
       "qaqwHTKjkAeegMg/Qo8Jdr1HDjpWgFIG309DvRGwWRqDPgeBGuvFVG4ldXhSYR2yNYMtHFkE36yw\n",
       "fyyym+Gs1D2QpXrrbdbwToruUQP/glUl3Q19CisxT6OThhVGauAZuN3e4wqyHDFJWRz9HsKpw0ov\n",
       "fx7W8BWsoMPoOo9XjEXlevoEVxSCB53PU6AYVqeFuInW+RFLQDeVgxiQd9rP26zhL1tB4xB4E7xh\n",
       "U7mRNj53D3oPSxiIFfZeeqUzJ4TpQz1k3YRq4ujXkKU6jwxdrPsSbcQzVtAacpe9h1M2lWdo410A\n",
       "4qK3OgfNllneQQIyLYriOWnP58C2jf8s6RRijn8c4H58fcx5mvY3vfY66LtBkgPIN+E+e8K0rkmy\n",
       "1ZuBF/AzFJyHaRYbVgr/bBHdXzL+LZlScf6w5EU+y0NBlWSpUd0xaG9tqdWwRpB0SXxhVKZUhBgp\n",
       "LP28pTT4kNGDLnI8tiFecwA6L7FFSLafXRBFYh6W4E+WRMsQ7ZzfujjjzdUj53+CLrVwlmxSkugt\n",
       "PADwtvMRUbpLScKZCDpJrIpSClxW/G+gYyjDGoJQXaH2uOXv49QpPROH3+Grnm2tmiPQ5bZYOo5C\n",
       "X9iIZpY4aA8jdDPFTDwbPcDzQQ/NNQIkT0pexwXfbapUvqtUSNZKZKRXUohv11ssFPQ4DuimdfiN\n",
       "ZY7fAe5DxvbBi0+DFbQzS6fbY2mcHgz0oGqs51MShWfIOf18lYieBMZINBIMV+7RHp/G7gEfD6K4\n",
       "+JOGw0LibALDO6ONE9E8C6u+p+oRN0qjR8hJ9Ei2J3rghQi7kBH8aYwTwil8WvMXIjkimmXb3IFo\n",
       "I+TNW5PmZqCH9faAxi/Nk8NHhQQ55uTwGTuWoaeHRAG6i8WiDuWj8KFtcznhZHPJtCdOc18tZcN3\n",
       "I29OQgxZJ5lloj+MV0mouCMFR/k2zo5XNDZG9kzKQGs70+6OoDbe7uUTzTqXeCSNZfNbjDGIG+th\n",
       "DIIZKI9h0UtGmKxLPwQ4OI0580PseJuWJkxJnVFHTouNt6s1PTvxTCDQt+YQjOjaw1VUh/p6jBGd\n",
       "iEKYil57w6U364ufp6aGCZ2MnkPldeegrShFRsySh1nn1IUaxopFq2f+WD/cNdDJ6DlpfrJUsaGM\n",
       "Tjo48PGhhr2WlJtZNpmGJh6wwyWBZUPZnK+7xZp2CrWkML9gp9Ztl28Us09CzyEkA45BW3i7oWN5\n",
       "3cGBzxWFQBVSkiZy1SgJCTzn6mLOw7SZt5Pyg2abLKqTNZ+QALgAMXtWz+g5gD+dKzXzdvtTssOl\n",
       "yR8UyBo/YzNieGdH6IT8k3N18IVzpRbeTsYPmnk5BVoswHYXws4idP12J+BcXcK5S9t4Owk/KKRh\n",
       "LgtnM7bTML3Z7n+cq3PzacbK24n8oCQSuCt80EcIVDKHPNgOmtJzkSkXOk28nZwfNJXTSkkWc+LQ\n",
       "IP4MGhZCKqPnwm7yUjNvJ+UHTe6p9PnCx1/kM8gsHX0iB0XpuQ/c6DTzdlJ+0GQTtdPEE7Ccpd9Q\n",
       "GjaSXU7QU2rDEoVlxKz6mbmlD/qtlkdUBwb1ZcOsDSoP3b1soOnH638BrOINgIk7jq0AAAAASUVO\n",
       "RK5CYII=\n",
       "\" style=\"display:inline;vertical-align:middle;\" /></a><br>(see <a class=\"ProveItLink\" href=\"../../../__pv_it/theorems/2fd6947813a09aa62137c86133fdd53a3e165d4e0/dependencies.ipynb\">dependencies</a>)<br>"
      ],
      "text/plain": [
       "<IPython.core.display.HTML object>"
      ]
     },
     "metadata": {},
     "output_type": "display_data"
    }
   ],
   "source": [
    "%proving rational_pair_addition"
   ]
  },
  {
   "cell_type": "code",
   "execution_count": null,
   "metadata": {},
   "outputs": [],
   "source": []
  }
 ],
 "metadata": {
  "kernelspec": {
   "display_name": "Python 3",
   "language": "python",
   "name": "python3"
  }
 },
 "nbformat": 4,
 "nbformat_minor": 0
}