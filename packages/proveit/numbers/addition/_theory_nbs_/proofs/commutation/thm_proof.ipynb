{
 "cells": [
  {
   "cell_type": "markdown",
   "metadata": {},
   "source": [
    "Proof of <a class=\"ProveItLink\" href=\"../../../../../_theory_nbs_/theory.ipynb\">proveit</a>.<a class=\"ProveItLink\" href=\"../../../../_theory_nbs_/theory.ipynb\">numbers</a>.<a class=\"ProveItLink\" href=\"../../theory.ipynb\">addition</a>.<a class=\"ProveItLink\" href=\"../../theorems.ipynb#commutation\">commutation</a> theorem\n",
    "========"
   ]
  },
  {
   "cell_type": "code",
   "execution_count": 1,
   "metadata": {},
   "outputs": [],
   "source": [
    "import proveit\n",
    "theory = proveit.Theory() # the theorem's theory"
   ]
  },
  {
   "cell_type": "code",
   "execution_count": 2,
   "metadata": {},
   "outputs": [
    {
     "data": {
      "text/html": [
       "With these <a href=\"allowed_presumptions.txt\">allowed</a>/<a href=\"disallowed_presumptions.txt\">disallowed</a> theorem/theory presumptions (e.g., to avoid circular dependencies), we begin our proof of<br><strong id=\"commutation\">commutation:</strong> <a class=\"ProveItLink\" href=\"../../../__pv_it/theorems/0530bd5996625fe7e23368b80795a751706d3cca0/expr.ipynb\"><img src=\"data:image/png;base64,iVBORw0KGgoAAAANSUhEUgAAAOcAAAAWBAMAAADJFJavAAAAMFBMVEX///8AAAAAAAAAAAAAAAAA\n",
       "AAAAAAAAAAAAAAAAAAAAAAAAAAAAAAAAAAAAAAAAAAAv3aB7AAAAD3RSTlMAq1RmmUTNIjK7EInv\n",
       "3XZ/CtNrAAAACXBIWXMAAA7EAAAOxAGVKw4bAAADG0lEQVRIx72WTWgTQRTHXzebj90kTVDwUigL\n",
       "gj2oNQcptEINREUQNdCLh2IjFaSetkdBSzwIgkorFDQqsiIIJWJaLehFKYggaqWKoqgLWz3Uk5Qe\n",
       "rFQQ3+ybJDuzm7UnH/yW7CRv/u/Nm3kTgHWYyQmy+DrH/jmRZO0GEWhRxz/2tdVMRzlZ9rI5VHQr\n",
       "x2dT8/j45htWpkG/sRAYfo7Yy15OhGnqJSLAjiMxSx69w0bzgQ4nibOsBhNhomqO8Cxp/W0Fifim\n",
       "LyCZejkGhK92EizQpBEmmuJ41o/XMbrGni9khzlkqJ5/tziX5RLBqGOhJd3C8Ysm3cINyyVlpXgM\n",
       "gaKxHDFv2y9DRQ9w4h1Ljiga61zENZqRyzGNj2M/Noii5J3MEvsBroWKDnMGTW1NFK2d1FcBelwl\n",
       "27Usz0b/adVMQZS8IyViFOLZ+vyJkcbmnuwc4x/fEvpTUBdE0R0WvAbYJgWZxuyVNUg5XlHurcwR\n",
       "mpUsNhw6mPJipahfNpXrfOwZoS5Deppy+jJPOe0D+A0wLm88nE4tQQZ/fNC2X9n2G2h4J5YJxfHs\n",
       "o+fInjKu+z2AXaJoagJqRTHTzxDFQzMYIIoCQ4Y3U+4dnSOg1I+Pav9DluSfRYt1DLh9rtlB+fLW\n",
       "HNgt7d4VULFO26WasuXFY3rY8opyb2WBgPvYIvQPiVVWyU/t+Sn2m66uZuQ3iZoBmxRTEP0FdzHC\n",
       "XilTDb/NlLGIgih5R7ANMeA0hqfmEyxpLRcpuS2kr685yQyhOco7Vcx0I0zy4+Q1diTaclpeEOXe\n",
       "7Di5R6qtzOrQzlYmVVazPZVKxTh/pDnJJULvfDT6XRS9NctK8V4STeDy6R0FsTlw73SRoOxNrQ9r\n",
       "kIGUccGNFjeSXj8CZcLfkejU++6Tj94XsSOd4dDmMscHrCqkrV48QmymWROe8O9YRxe7ejQn3Qfg\n",
       "6+oNG/DdBYXGNIXuB3DRSBxyIH6VDVRHJhvJXeEE2ynfiNbyzwG7zuQrjU5WtVIpinc1J9j84egt\n",
       "b0oWjhRS1GoRn0ME/5cJSGuslegSx2MR+E/2F+M/2DrrgEMbAAAAAElFTkSuQmCC\n",
       "\" style=\"display:inline;vertical-align:middle;\" /></a><br>(see <a class=\"ProveItLink\" href=\"../../../__pv_it/theorems/06ce5822698a00a28af3c351f47bb1406cb523a50/dependencies.ipynb\">dependencies</a>)<br>"
      ],
      "text/plain": [
       "<IPython.core.display.HTML object>"
      ]
     },
     "metadata": {},
     "output_type": "display_data"
    },
    {
     "name": "stdout",
     "output_type": "stream",
     "text": [
      "commutation may now be readily provable (assuming required theorems are usable).  Simply execute \"%qed\".\n"
     ]
    }
   ],
   "source": [
    "%proving commutation"
   ]
  },
  {
   "cell_type": "code",
   "execution_count": null,
   "metadata": {},
   "outputs": [],
   "source": []
  }
 ],
 "metadata": {
  "kernelspec": {
   "display_name": "Python 3",
   "language": "python",
   "name": "python3"
  }
 },
 "nbformat": 4,
 "nbformat_minor": 0
}