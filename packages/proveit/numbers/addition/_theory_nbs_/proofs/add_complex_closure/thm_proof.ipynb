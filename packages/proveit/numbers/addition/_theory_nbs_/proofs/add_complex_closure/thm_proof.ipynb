{
 "cells": [
  {
   "cell_type": "markdown",
   "metadata": {},
   "source": [
    "Proof of <a class=\"ProveItLink\" href=\"../../../../../_theory_nbs_/theory.ipynb\">proveit</a>.<a class=\"ProveItLink\" href=\"../../../../_theory_nbs_/theory.ipynb\">numbers</a>.<a class=\"ProveItLink\" href=\"../../theory.ipynb\">addition</a>.<a class=\"ProveItLink\" href=\"../../theorems.ipynb#add_complex_closure\">add_complex_closure</a> theorem\n",
    "========"
   ]
  },
  {
   "cell_type": "code",
   "execution_count": 1,
   "metadata": {},
   "outputs": [],
   "source": [
    "import proveit\n",
    "theory = proveit.Theory() # the theorem's theory"
   ]
  },
  {
   "cell_type": "code",
   "execution_count": 2,
   "metadata": {},
   "outputs": [
    {
     "data": {
      "text/html": [
       "With these <a href=\"allowed_presumptions.txt\">allowed</a>/<a href=\"disallowed_presumptions.txt\">disallowed</a> theorem/theory presumptions (e.g., to avoid circular dependencies), we begin our proof of<br><strong id=\"add_complex_closure\">add_complex_closure:</strong> <a class=\"ProveItLink\" href=\"../../../__pv_it/theorems/2b0e4d9bb036ec8dea616e4327156d2a2172252a0/expr.ipynb\"><img src=\"data:image/png;base64,iVBORw0KGgoAAAANSUhEUgAAAaAAAAAWBAMAAAB0/FW2AAAAMFBMVEX///8AAAAAAAAAAAAAAAAA\n",
       "AAAAAAAAAAAAAAAAAAAAAAAAAAAAAAAAAAAAAAAAAAAv3aB7AAAAD3RSTlMAq1RmmUTNIjK7EInv\n",
       "3XZ/CtNrAAAACXBIWXMAAA7EAAAOxAGVKw4bAAAEhUlEQVRYw81XXWgcVRQ+2Z3d+dndmCfBCmFV\n",
       "NIGakActNEodqEJAisGICBVZrCD1wU7AB9PaukrFgjFdpaFOxTqtvpRos1GL9qEhUErRKk1L2kpl\n",
       "YIJKTUsgCFXsg/Hec+787OxcO2v3wQNnc+45NzPfd++dc84FkMryj3CrYgltq8geqN4M87FbfnVn\n",
       "mbS98lyTxzh+8eVX6zkPQXdxzz3JhOSxdLJWaHulcyDuWTwJn/5lws8I+jHueTGZkDyWSowKabvl\n",
       "pdhY+bUOsN6EvMNBv8FPXy2ZkDyWSpQB0piMJM8ekT2mKfBAbLxbZ0w6TMiaHDSnVSgnE5LHUklR\n",
       "aEz6k2f3yx7TFCg69HfJdXH/1+j8OLCV+46DzjIjL0kK8lgquU9ouwnladefvirGtVeEsQUz2Q+u\n",
       "e0aW5aSxVPK4UPXOK14CQIlbSmh0dhcZBUxWqv8pqV3vCGsGQQ8BHGA7ZiURoth/lS1Cn7X0GwkA\n",
       "JW4Zodxp+NhBnFk8aHkfsVb3v7J1CHqUUWSsabHUhWPwcFdAiGKtJdV93WIh4TypcRKUeTDWxQCS\n",
       "e2pmTUpCnw3AJsKZmUNCQUE1/cp0P4LWncIwjSfumIS7Co7iBITCWBrRFu1h4z0r86EYnyJVVqBU\n",
       "h4ll9G1y3e9d9xz4bpOjjLpjEgaeAPhJvGeF/467TDAF13aIyXsRdMYTXJUhXkY9sxAeuSCWSh6t\n",
       "shU8CvBQI6FiDabZsvTFVpzc1+H1arod+haM6+Lw4Q4dCSYc0P1DTO1NZQObswhYaKH33l0RQhiD\n",
       "qQ1f+/8bMUMRTqzgn7xFTVXkyE178Ag0EyL3YFpCxt+QXUGckJnnjlIw4Sleh4DWjIP+gqWLo7c5\n",
       "Bm5fb+Hw5gghHjMuaX/6tT80Iw2BcOKS9fSEgYOk02W4PWM1EyI3nEj3DRm/Q0elh+FkSQGRdnph\n",
       "p8A+dIVlivUE+jU23N4HOczuvWAuRQjxmGJqc6BitkPzyV8avyt0Qo0q+uBgGJgh1b3MgtK8Q8Kt\n",
       "XY7lij842YowIoGD0Gea2/lTlDo6ng9etPSCdXiBagQH3VHF6dmttv0+IzSVjxDiseJwZxe8ie9F\n",
       "c85YaSzc3MmTpm3b5T3PhIF3SY3ub0Z/ayYk3GNObIc4spIpjEjg0LW3u6u46yVa0EOTTtBtn13g\n",
       "SfxCeEUwblS1Ou1Qrj92fZi29EEHLgempc01EELnWg+wvPGkYIhAqUpK0pdYcFRTtVroFBhOgJ1i\n",
       "sPkjt6H1VedD0JmKSSX0QdaMxwgVrb0jSGhKmPowM426/4POu03AT1P9yoJZ8Y+8WeQaI9TQbI7t\n",
       "2e200JxynLDxX5rhYIe6LRhj5LWLFnTECOU29n8JnNB4mcwhbmqnYdziP+TUq6B+gClv675gU/YL\n",
       "5bJj22wSiLOrqy3dSBhOaf8/FruVGsftSfmNlR85arwLjuebEDg/zzAutt2YLo40lIt2iS67g++/\n",
       "yTX7RPR+PnGmDDk6HNtW532T7x9Z+tWkW75H2l65Imu6GNHlU608KZtkZuH/Jf8A2WRhiy2xNVwA\n",
       "AAAASUVORK5CYII=\n",
       "\" style=\"display:inline;vertical-align:middle;\" /></a><br>(see <a class=\"ProveItLink\" href=\"../../../__pv_it/theorems/e221203a1f72beb1518ff0e951493a5bb2a527980/dependencies.ipynb\">dependencies</a>)<br>"
      ],
      "text/plain": [
       "<IPython.core.display.HTML object>"
      ]
     },
     "metadata": {},
     "output_type": "display_data"
    }
   ],
   "source": [
    "%proving add_complex_closure"
   ]
  },
  {
   "cell_type": "code",
   "execution_count": null,
   "metadata": {},
   "outputs": [],
   "source": []
  }
 ],
 "metadata": {
  "kernelspec": {
   "display_name": "Python 3",
   "language": "python",
   "name": "python3"
  }
 },
 "nbformat": 4,
 "nbformat_minor": 0
}