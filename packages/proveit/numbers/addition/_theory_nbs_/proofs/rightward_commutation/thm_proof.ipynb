{
 "cells": [
  {
   "cell_type": "markdown",
   "metadata": {},
   "source": [
    "Proof of <a class=\"ProveItLink\" href=\"../../../../../_theory_nbs_/theory.ipynb\">proveit</a>.<a class=\"ProveItLink\" href=\"../../../../_theory_nbs_/theory.ipynb\">numbers</a>.<a class=\"ProveItLink\" href=\"../../theory.ipynb\">addition</a>.<a class=\"ProveItLink\" href=\"../../theorems.ipynb#rightward_commutation\">rightward_commutation</a> theorem\n",
    "========"
   ]
  },
  {
   "cell_type": "code",
   "execution_count": 1,
   "metadata": {},
   "outputs": [],
   "source": [
    "import proveit\n",
    "theory = proveit.Theory() # the theorem's theory"
   ]
  },
  {
   "cell_type": "code",
   "execution_count": 2,
   "metadata": {},
   "outputs": [
    {
     "data": {
      "text/html": [
       "With these <a href=\"allowed_presumptions.txt\">allowed</a>/<a href=\"disallowed_presumptions.txt\">disallowed</a> theorem/theory presumptions (e.g., to avoid circular dependencies), we begin our proof of<br><strong id=\"rightward_commutation\">rightward_commutation:</strong> <a class=\"ProveItLink\" href=\"../../../__pv_it/theorems/575e0b712e0527270b1091e740e6895ad612063e0/expr.ipynb\"><img src=\"data:image/png;base64,iVBORw0KGgoAAAANSUhEUgAABCcAAAAzBAMAAABWE38JAAAAMFBMVEX///8AAAAAAAAAAAAAAAAA\n",
       "AAAAAAAAAAAAAAAAAAAAAAAAAAAAAAAAAAAAAAAAAAAv3aB7AAAAD3RSTlMAq1RmmUTNIjK7EInv\n",
       "3XZ/CtNrAAAACXBIWXMAAA7EAAAOxAGVKw4bAAAK5ElEQVR42u1df2wbVx3/2j7b57PzA5D4VRQM\n",
       "jCIGySI6TV0lUo92sBaNWQsCNEHnaUwVA7HLNAm1WzszYCCRNhZTxTKNcmNSWZOtsRrYRqdlGTCF\n",
       "amwyY4IpW5DTVXRtWRa6lURBNLwfd/a9H+feufHVOfn9cXn3ve993733/bz3vu/dfRwAd0kbGTGg\n",
       "lYKfvDi6bXk509SVub/lzwtLBykWEsvLBdegyDZ3lUK9LbdeWFKnzUwkMKBYw57GW052SLrjle6g\n",
       "gSKSY8+PtbzvkLY5Xkl2BgwUd7EdIFxsbDD2YMnPcf070mju3j/WZaXdeZ79a8BA8Q/29ECDi4v5\n",
       "GnR3pKXiM/VZudVR49NGoEARmWTPNwkaUXkHiTr1G/mFft5N/VBLbSWKQulGQyaOLnmzbVm5/HxQ\n",
       "DwooUtx0MSlohMvSGx3EThd6eDf1QC21lSgKpael4mTJm23LSspxGyK6EChQvMVWNJxrMCieBj9B\n",
       "8U2p2D6FubFtWYk5BxU3BQoUf2FPFTxwDEzslrWOg9ipNeNrTpRFl9w0927ORxOv50W15Nx6L45j\n",
       "1C0b8TVvnJGAYmBiKO2pGhUr1iJDki4zAgQKdZGbHFFniE7BLw2xdRzEjq35dT2B5u5fsy7R/mOM\n",
       "6YyPdqWVguC5+EuwxYvjiLrKeZ8+AG+6vmrYVu/XzuDEdaaxcoBAEeJiiDbUiR7thWsBHs5xrUPE\n",
       "2lPvMty1pvYHUNDcPcG6JLwEqTLjuleRQLuC81xbEV50XxRRR8c8iz/0ADkQTKNqfN5jNXIQIWu0\n",
       "8KRjOyZKAQJFihsRU+hhr8OeUudINZWZmddemJnBWkSsEE/bxdz0U7mgzGNf0YQ6159p50IN3FFk\n",
       "BLgb7n2TU7sOucx9UURdLIo8gGi6rmo8R4bVeedF3EKAQDHUK4LiKGhnUbcocd2RiDuy8UV3XSxV\n",
       "gLGsMHijBr4xbRekSDt2c2pH8eLVdVFEXSjKfADRdB3ViBM4RJ1HCu3tAIHiLV2YPrRzEJkXQUHF\n",
       "EcNta6JZdiPAtk7WJR1pq1v32CdjznOoLPBQFFGHQ59ji6IPIDFdRzUihd1Fq0mkMQU8GyBQPMjP\n",
       "jWXQzkAo9wkRFFRcWeSftzXT8N7wzvISB4o8mqQZARqqskJ3Rv0u6r4oqp5Zy4ECP4AugKKeauih\n",
       "E5dO1fb5LwIEiqPcOV517YfuTEacPqgY9nAR2lgOrynMjO1Cohx+WYn/qsR6KtSbyDACtPRI5gVQ\n",
       "oLXEkzWKIgfbBayuGb9hbZAHEKePeqoBqWOQN9frDukZExRkZPyYG1CESClN+N2C9g6/REVOfOj0\n",
       "j7vyIiioOP4AH/ljJ79sZWwjS9eTA2/gkYddEqzZxC0cn1p3SvRccrzPqFEUPVQvEHW4mSuKPIBg\n",
       "uq5q3L05f57uvTFLQXE1PtnuBhQKviOmN+E2xTle8kpl+CxJV/J3wPe8bDOOPeK0VckIumVSj0XB\n",
       "grQoqWmvtq+MlpD3dtWK2MsUFN/H2yYFN6BQ8aCyowlnj7DwvvByARTMK6P4/T/ZKhHbE3NhrWJm\n",
       "hDdd/VLP9ddflDopLUpm2rPtLrVUlL0stKE/Q0ERQ0NWMu0qpsAvXQ83ISgii8IujDmexR//r6wP\n",
       "pZaX570U8NAJN1p33jZx4UW1d7o27dn2z+E9+doDQEcnBUUEYSnmLtBch/7mmhAU7QtClFGAVZpi\n",
       "jY7ZErXm/46Cufp4YWbmeXegSM3MvFZswoZMLgmi3asUE7cMNrqEmoNeKmeC4hoAFMRqFED5WqBQ\n",
       "8pAwmrAllSUISvrS1otafFvJBMUAxNFMkixXwvbPWtPwri9mI8/aQIH0BrwUca/XQfyZCiaTi7IR\n",
       "wS48edUJ6zlD89BKKwOKSRMUCSPJrlzxmwNQZ4ez4c4jsNW+efUA/NZLESGvc83d1cBa5mdLuPcD\n",
       "++Dg++CTxRYoGgWKcDkmcQ3e5wj3KVC0g6LHW5yZynt8ppPV2FE2yJhCBU14cKQMkWLwpo+LDQpr\n",
       "+oBcH1rPzpKg/Them14ZP00/BA/f89UyA4pYBI3Y2vhpK4Ad7XtCNFwVDs19EP+Z6LMuVXPVVJWN\n",
       "9n3XWjyM/1NcSVaEr+OT9dkqryW5IA4qLQc7JN1VoAmHbwU41IEjSIV83Nh1+6P6QbLzkz/ycQYU\n",
       "ybVI6zF9yDSs/V0V3WETvmkcJ3cOVmwMSgLYweqNVsyAihAHGSLcYi43w7fbKtcuBiAtMpBT2lYT\n",
       "FJ0WKO5CuZ1ky2wkmUHHF9Mq3TgL55XKME5AEcdh52ZAbtxBMJRRJ+H642xEQoRAbrsP8AdDW+AR\n",
       "qo5z0Z6r2cfAV2nggm6cN3fzN8MQCJpYCJeYm3SRh41am1fh4ip1mYxm5BsZCKAjY4EihHvl/srW\n",
       "SfwdNGdfMTw8nA7ntWLODgp4P+DPd2ZB7TZIRNreCZPaPBemVjbl/gRXEX1THedSMMY+xnP2Gwtw\n",
       "zzQVnpRpniR7tJFvDQ//TP2RbSgJn+Urd2DVdmQZzcgvMhDAWBFsr861JdLIHTqWfSMOP6UjBVxf\n",
       "ZkCBNRfgvhFow14e0xMbDL2yW2/axcJPkdvm4fdA3/AQdZyLAzeD4KvrMuaNpwyYpkXsH+E1iRC2\n",
       "7y6rZBRAgSZYg4X6Nl+5RpOBXKiuIM3ILzJQ9YWY2dlyGQ019iCMQqi8J0k3qSLZ6lZ89YXrlHp2\n",
       "A/byKKT0oX4DElmURTebByL8aAafTEcK6HgLJLG6mYN9UFWnsvjOHNAbf4BBgYRT6uIGrFm1agkX\n",
       "Li0AmWHu/IK1tYIS/+q84WQgF6orSDPyiwwEcFmaGSm6dBV161kYTCf00HqI498A2bMdQATFlz9z\n",
       "uhd7eTAd3dQzTnZEB9PqFAzq+ECFiTwgcz+cw8c71p3C6mZOydvUTRleW1rWprEiKUIhNqhV3RSq\n",
       "/0Y12oEHNe3x4Wsqdfkb3xS5VQsKGc3INzIQ/a6R+fIqTL7wMIev0eHhLLtKYBcNhqWZNMqVm8DK\n",
       "PRYm5sA6YnWaO9IONnUqC2WrsmlLSDTDwGq2PzGtg/a74X1sXT7E1a3hZCCG+yMn85zfT1L+kEAz\n",
       "8pMMBB8GHhQ3xL42CVGHwYUFhfqvw5bmbcsl201mLnEKmaNGLXWaiy3/D2zqVKeteuPe59OmkGje\n",
       "AKymoo/Lgq6N3EM3mgzEcn9YMo9ry9RGnrUs0owaRAaSp6MCKHqV4wZEwA0oyL2yrE3YazuyuQgr\n",
       "O3aJ7EbHu2XxEYeURpOBWO6PnczjgfvzKiEUvcJaFmhGvpKB4ucEUNTeAG3ch7sfyVyoBd/JQFXu\n",
       "D0fm8WDZ1v9r0YxaZKA6kzIpgqKRZCCW+2Mn83iyLAk0ZTQj/8hAoSDRBqNnhemjoWQglvtjJ/N4\n",
       "smy9bLJZltGMGkIGku9vlQMECutjeSs1nAzEcH8YMo9ry8SGUlk8O9GMfCUD0YA9KKDglh+NJgOx\n",
       "3B87mce9ZWKDvmyyWRZoRr6SgSiLMKA/b9RoMhDL/WHIPK4tUxuVnSQnmpGfZKCA/bxRhPvMxhcy\n",
       "ULdM1aPlDt1pr/QikIESnYECBXybPfWFDNQtUfVqufLSrzbNyB8ykPneJTCgGGQ/KPKDDLQi3J9Z\n",
       "d2r+kIFegmCBgvumc9WQgW72vURnMlDgfoaZ/8H21UEGwi+b/E7OZKCvgGdQbGjufwITS8PqS/hl\n",
       "U9MklX6SpY0ccg+K1j+BCXg6QAGK/wnM/wFKHyVvZBLaJQAAAABJRU5ErkJggg==\n",
       "\" style=\"display:inline;vertical-align:middle;\" /></a><br>(see <a class=\"ProveItLink\" href=\"../../../__pv_it/theorems/4cb24ee6a06d685fc1214dd91132106771a50cb00/dependencies.ipynb\">dependencies</a>)<br>"
      ],
      "text/plain": [
       "<IPython.core.display.HTML object>"
      ]
     },
     "metadata": {},
     "output_type": "display_data"
    },
    {
     "name": "stdout",
     "output_type": "stream",
     "text": [
      "rightward_commutation may now be readily provable (assuming required theorems are usable).  Simply execute \"%qed\".\n"
     ]
    }
   ],
   "source": [
    "%proving rightward_commutation"
   ]
  },
  {
   "cell_type": "code",
   "execution_count": null,
   "metadata": {},
   "outputs": [],
   "source": []
  }
 ],
 "metadata": {
  "kernelspec": {
   "display_name": "Python 3",
   "language": "python",
   "name": "python3"
  }
 },
 "nbformat": 4,
 "nbformat_minor": 0
}