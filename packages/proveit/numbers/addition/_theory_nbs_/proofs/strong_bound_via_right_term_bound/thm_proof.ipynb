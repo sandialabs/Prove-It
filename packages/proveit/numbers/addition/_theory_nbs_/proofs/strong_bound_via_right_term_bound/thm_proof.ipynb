{
 "cells": [
  {
   "cell_type": "markdown",
   "metadata": {},
   "source": [
    "Proof of <a class=\"ProveItLink\" href=\"../../../../../_theory_nbs_/theory.ipynb\">proveit</a>.<a class=\"ProveItLink\" href=\"../../../../_theory_nbs_/theory.ipynb\">numbers</a>.<a class=\"ProveItLink\" href=\"../../theory.ipynb\">addition</a>.<a class=\"ProveItLink\" href=\"../../theorems.ipynb#strong_bound_via_right_term_bound\">strong_bound_via_right_term_bound</a> theorem\n",
    "========"
   ]
  },
  {
   "cell_type": "code",
   "execution_count": 1,
   "metadata": {},
   "outputs": [],
   "source": [
    "import proveit\n",
    "theory = proveit.Theory() # the theorem's theory"
   ]
  },
  {
   "cell_type": "code",
   "execution_count": 2,
   "metadata": {},
   "outputs": [
    {
     "data": {
      "text/html": [
       "With these <a href=\"allowed_presumptions.txt\">allowed</a>/<a href=\"disallowed_presumptions.txt\">disallowed</a> theorem/theory presumptions (e.g., to avoid circular dependencies), we begin our proof of<br><strong id=\"strong_bound_via_right_term_bound\">strong_bound_via_right_term_bound:</strong> <a class=\"ProveItLink\" href=\"../../../__pv_it/theorems/0900a04983c40a833485baafaa8c7e8f6f9e89660/expr.ipynb\"><img src=\"data:image/png;base64,iVBORw0KGgoAAAANSUhEUgAAAS0AAAAXBAMAAACsWwSiAAAAMFBMVEX///8AAAAAAAAAAAAAAAAA\n",
       "AAAAAAAAAAAAAAAAAAAAAAAAAAAAAAAAAAAAAAAAAAAv3aB7AAAAD3RSTlMAq1RmmUTNIjK7EInv\n",
       "3XZ/CtNrAAAACXBIWXMAAA7EAAAOxAGVKw4bAAADuklEQVRIx81WTWjUQBR+m802m2Q37knxh7Kg\n",
       "eNHqHqRQwVqpVvF3aaEgil30IHiQCF6UKtWjVlwV1FUoUQpaFtqtQisVZVEEUZQiih4spFitVlp6\n",
       "U3ryzc9ukmZSLSvigy8zk3wv883MmzcD8DfM5BCaEuQx/1/N04wkg9gitthDbAc4EqSxvDJdqzgC\n",
       "7JPYI2CMKYYtpHG4IllahiHIqiyRR5AdYThDIiBbkS45xeBaOk8r3CDyCGKvYyCD0ZMV6YpxOCZ5\n",
       "Q+qFU11pwm/YMYsijGKrKguvlRyBug6Vaxu2lz2C2FUphlcjIy8r07WDQ1k6bnt76h29+xDXor/E\n",
       "nBxyPHxsbSwFt3DxEgzbAG78QQzN8e0Qx35TnfHqajCq5WGAWh7tj2yXh4+tS0XYiNGYYTgGSiKw\n",
       "y5qBTUdpRZ1D1xsG7SkQEa6ewmZ4JoRLsprl110pl4effRbbi7FVZFAtPS3sLjqaSxs6DBYEujw7\n",
       "/xmDPA1xwpVHRj5icOBgoyDThHCR0hYm3R5+thWz4TU6TTNIdkDYb+7ADGfAetuv6/gSga5YFvrS\n",
       "syI5Riv7BboE7DYr+hOzRpEBMvX4yNcPkk9TW8dwI0dGIUSTLtE10eDoMsZOb8XizCI8KxKQ8K5j\n",
       "n03Cw6urzdRwamsE6yhgN4FB1nCYAe5hdtXeR3+Qfs3FVTiq3gVWJ/RQIbrSlXJ0jYeyBwH2ojbN\n",
       "nokW+X+7GPqSsFAy3T31pJeBjmXd7LgXsuESqDjUcJYB2rEhN9BewtAVxeJkDXyDFqpLvpl1xX1K\n",
       "tTtgL9nsyu1ho3RK9DOotvRW9szA2nM7oZmnBSpscqLs4WfDJmgjJ0eBAUIYR7G0wVblB30uhWqo\n",
       "zeVyScPQm937cYEJ0Se0FiqESqO/wKBVPzj21dNT95TUSILqnZNXh0oefjbcerwHJzCeZqDWZ6rr\n",
       "yR6LFult6R08h/N0vozIPsulqxPvRvnLpBZPxzq4c7yDISiDK8NOvdYseYjYA4hTHGzfmBdbrDy0\n",
       "6xkZ8gAfItOYP2h8wZAT90pxALBlXKG/bnOfy96z2XsSe09p/0nO2XpGI0vRyME+Na65D51J+fPj\n",
       "CSxgRV0GlOv4vvVLobvJma/d+6aI2jAKkxqvln98jSPATvhfidhxO1Rgd5vZ9xueYJKaqeIQ8rmc\n",
       "k3C9+Uu6BnfgSrnZwxFgAhEitlRP7oKqyeCeT4sXIbt1tpPvHKqOOHc7xWYIuIEKruvB7HEO96qX\n",
       "ikh94be6Wr7D/2DKP+7vFyGkC8P8mM9lAAAAAElFTkSuQmCC\n",
       "\" style=\"display:inline;vertical-align:middle;\" /></a><br>(see <a class=\"ProveItLink\" href=\"../../../__pv_it/theorems/3de44a9869f8cdcc52f4fe8d86540ba0806fa0c90/dependencies.ipynb\">dependencies</a>)<br>"
      ],
      "text/plain": [
       "<IPython.core.display.HTML object>"
      ]
     },
     "metadata": {},
     "output_type": "display_data"
    },
    {
     "name": "stdout",
     "output_type": "stream",
     "text": [
      "strong_bound_via_right_term_bound may now be readily provable (assuming required theorems are usable).  Simply execute \"%qed\".\n"
     ]
    }
   ],
   "source": [
    "%proving strong_bound_via_right_term_bound"
   ]
  },
  {
   "cell_type": "code",
   "execution_count": null,
   "metadata": {},
   "outputs": [],
   "source": []
  }
 ],
 "metadata": {
  "kernelspec": {
   "display_name": "Python 3",
   "language": "python",
   "name": "python3"
  }
 },
 "nbformat": 4,
 "nbformat_minor": 0
}