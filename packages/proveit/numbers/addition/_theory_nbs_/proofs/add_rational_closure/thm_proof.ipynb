{
 "cells": [
  {
   "cell_type": "markdown",
   "metadata": {},
   "source": [
    "Proof of <a class=\"ProveItLink\" href=\"../../../../../_theory_nbs_/theory.ipynb\">proveit</a>.<a class=\"ProveItLink\" href=\"../../../../_theory_nbs_/theory.ipynb\">numbers</a>.<a class=\"ProveItLink\" href=\"../../theory.ipynb\">addition</a>.<a class=\"ProveItLink\" href=\"../../theorems.ipynb#add_rational_closure\">add_rational_closure</a> theorem\n",
    "========"
   ]
  },
  {
   "cell_type": "code",
   "execution_count": 1,
   "metadata": {},
   "outputs": [],
   "source": [
    "import proveit\n",
    "theory = proveit.Theory() # the theorem's theory"
   ]
  },
  {
   "cell_type": "code",
   "execution_count": 2,
   "metadata": {},
   "outputs": [
    {
     "data": {
      "text/html": [
       "With these <a href=\"allowed_presumptions.txt\">allowed</a>/<a href=\"disallowed_presumptions.txt\">disallowed</a> theorem/theory presumptions (e.g., to avoid circular dependencies), we begin our proof of<br><strong id=\"add_rational_closure\">add_rational_closure:</strong> <a class=\"ProveItLink\" href=\"../../../__pv_it/theorems/7662c86e39c29ba9049414bb2f9af18d6b91aee60/expr.ipynb\"><img src=\"data:image/png;base64,iVBORw0KGgoAAAANSUhEUgAAAaIAAAAWBAMAAABwCYWLAAAAMFBMVEX///8AAAAAAAAAAAAAAAAA\n",
       "AAAAAAAAAAAAAAAAAAAAAAAAAAAAAAAAAAAAAAAAAAAv3aB7AAAAD3RSTlMAq1RmmUTNIjK7EInv\n",
       "3XZ/CtNrAAAACXBIWXMAAA7EAAAOxAGVKw4bAAAEzUlEQVRYw8VYfYgbRRR/l81mv3LpVVQ4Ckds\n",
       "0R7oHeGsolVqoBYOpTZ4/4gtEhEURXRPRGmxR1TEQmsatMXugbpXwQ9OTaqcbSmUA5GqVYhw1lpd\n",
       "2FPh/MASxC8qeM7Mm93sbnbKxgZ88CYvv7eZnd/Om/feBkAoOacCFygK156KcEKT6C+nz/NLo3TB\n",
       "N/+Wa09FdqOIftTaR+jcRe05GKAfa+IZiX3JJNVA7bF8FwUWP4Kdq0hQFRijTRS6L56R2JdMXuPa\n",
       "Y8nYkYXeUAB5Uw3gAcboSRqZtXhGYl8y2cg1EjWF+GAqCGaZiAJSMfx9d4YMtQ0A6xgjStjIxzMS\n",
       "+5LJPNdILLrxIeoKZhntQD7hqesl5xT9nJ4hwxFCK2tTRhJ5NBlBZhD7kh2jMmrPGd2Dm/oQRp9e\n",
       "q5JxdboCmQJlBJ85zklRrhP6Ekm6gQqTx6fili6ARYyUVUv8kkNsfIwfJ7VB43JCyoMxwBiNk20j\n",
       "RM04Ruj7zye4gCqfgFfszqULYCGjbaZ2DuB1Yl0LwZQlu2NkrKYKIJUZo0lQCDUD51MW5uDGAZ8R\n",
       "+rqS2X0rvYfTn0d9qwCbAV4tR5bOYP3YSjsZI/0DSDcBjhPzKgZ48ykNWmAmciVIzTNGmu2V0urg\n",
       "frjMsNO2z6jtSyLqolVSjoExxr9nS6hbAL4G9WyTRaLjfENimT4nBqfZMoNwWDY7zqeO8zm9pAX9\n",
       "vLbtZXcj1ztfUYufIxvUFmOUcvnhT4/TeuoWjXbU+b5EcjPpmoxHQL/aDDP6GPTfyX2akT1i8IqS\n",
       "8leyPcrWoM4f7zZMCN4F05M818m4R1AmmVxe5KV4+PKpACPmg9kNh/2YapuBQEOQlexdawFcNxR1\n",
       "+j8gtToZISzZSRnVXbiJdDp0G0cY4M0HW1k9GsNbUEbvklL7zgobOQ8bB7cGGFGf/qX6p9dAtc1A\n",
       "V8XBN+mwvtBmpLlM9V+hr7y2kxHCYDQTMsrDpakdLkkOcD0Dzvo5lfYMl5DlSzVk9AShvWOE1+xh\n",
       "KP4YYER96aI6DwrLecy8/fvw2WIg1LC2UzYuD3eaTKm+DCPFYmfUIQzPRTJDnZx4/Q9uBBhpbmoh\n",
       "rRyks9yKqdSv/YdIX3cxLxeUUV+FTS/db1nPE0azmQAj6suWcgPw1Bk8GcSc11shRgykOdWyrPwd\n",
       "gahTm6gzPz87VOlkhLAyHYH7aY+z4BmBXDd0ZPIHtu/wBQKDd3rZbsu9v1ES/SVkxLznKmoD90ge\n",
       "jbxN1E1tvQ1nfNNUw50NA690YTf7USAzwGmuuOJmbOF5FB7vpmeov0EI8Jnko9gF0QdPzzvshDaj\n",
       "VLmItfQa0ptHGGXNvROM0Sw3tRIx9YY3MHB1kaR6lsHB8N8/1nENMwq1pMqBXbd006lekSbB1Xnl\n",
       "UO6iZ7Ar9vdoyITtZOPUUyb0RRjJG0ffA8poTx7NcWqqJ2CPSQcENRI/B1jiW7jbf/XVTFS29Pf/\n",
       "jtuE7PJyq5sCPrMEsD2mKRx88AV8TZgLvwnuF7/D0qjDo2jYrmeCD76dImQsi/zk8NPtGWvBstEz\n",
       "eVGAs4c3d7638uD/DNWTeZAxKz283PRMuoNoaT/5qW/Nbf6jmOLaU8mZAscS/Z/hw26mkuJMqeOy\n",
       "6nXwf8q/u/d8+gI/17EAAAAASUVORK5CYII=\n",
       "\" style=\"display:inline;vertical-align:middle;\" /></a><br>(see <a class=\"ProveItLink\" href=\"../../../__pv_it/theorems/94f90000c3e67862da990cc1e66292b66cc48ad10/dependencies.ipynb\">dependencies</a>)<br>"
      ],
      "text/plain": [
       "<IPython.core.display.HTML object>"
      ]
     },
     "metadata": {},
     "output_type": "display_data"
    }
   ],
   "source": [
    "%proving add_rational_closure"
   ]
  },
  {
   "cell_type": "code",
   "execution_count": null,
   "metadata": {},
   "outputs": [],
   "source": []
  }
 ],
 "metadata": {
  "kernelspec": {
   "display_name": "Python 3",
   "language": "python",
   "name": "python3"
  }
 },
 "nbformat": 4,
 "nbformat_minor": 0
}