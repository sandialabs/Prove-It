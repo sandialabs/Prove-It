{
 "cells": [
  {
   "cell_type": "markdown",
   "metadata": {},
   "source": [
    "Proof of <a class=\"ProveItLink\" href=\"../../../../../_theory_nbs_/theory.ipynb\">proveit</a>.<a class=\"ProveItLink\" href=\"../../../../_theory_nbs_/theory.ipynb\">numbers</a>.<a class=\"ProveItLink\" href=\"../../theory.ipynb\">addition</a>.<a class=\"ProveItLink\" href=\"../../theorems.ipynb#right_add_eq_rational\">right_add_eq_rational</a> theorem\n",
    "========"
   ]
  },
  {
   "cell_type": "code",
   "execution_count": 1,
   "metadata": {},
   "outputs": [],
   "source": [
    "import proveit\n",
    "theory = proveit.Theory() # the theorem's theory"
   ]
  },
  {
   "cell_type": "code",
   "execution_count": 2,
   "metadata": {},
   "outputs": [
    {
     "data": {
      "text/html": [
       "With these <a href=\"allowed_presumptions.txt\">allowed</a>/<a href=\"disallowed_presumptions.txt\">disallowed</a> theorem/theory presumptions (e.g., to avoid circular dependencies), we begin our proof of<br><strong id=\"right_add_eq_rational\">right_add_eq_rational:</strong> <a class=\"ProveItLink\" href=\"../../../__pv_it/theorems/e594413f0a5138c31072aba945fef73d8ff6edbf0/expr.ipynb\"><img src=\"data:image/png;base64,iVBORw0KGgoAAAANSUhEUgAAAS4AAAAXBAMAAABHbL+hAAAAMFBMVEX///8AAAAAAAAAAAAAAAAA\n",
       "AAAAAAAAAAAAAAAAAAAAAAAAAAAAAAAAAAAAAAAAAAAv3aB7AAAAD3RSTlMAq1RmmUTNIjK7EInv\n",
       "3XZ/CtNrAAAACXBIWXMAAA7EAAAOxAGVKw4bAAADk0lEQVRIx8VWXUgUURQ+uzOzOzvjbvtUiSED\n",
       "RT2UNg9S2IOtiVaUKAk9RS70EPU0vmVZmC9BmFogYg82Yg+JoaaQRSRLEf0aFklBLYyo2A+IBGH4\n",
       "EN2/2rmzd0pYqQ++uTN7ztn7zT3nnjsAqwGL0d+6kt8IwoyrgZhB6YOj4ggxFIcyjh825qZrK6Of\n",
       "bFMY4YMZykp8fzwnWVqS0hcnRRF+CNmE53E+O3LSJZuULtRxTyWiCFfquCcpQYjl6UZOuvIYXSjm\n",
       "HWxBRAZBh3t8RighsaHcymszo6+ukCmI8NV1jHIinX6em64DjIPTN+4ZvK5wwTyaVI9nR2izJvR6\n",
       "dDWMn0PXW5T7AK6uYPKEv4m9ICRihfIkr+uIFVlG5YLLXE4TxFmEHkzBbl6X8hiuoYzvAMIGCMf9\n",
       "t9rd8nX07g9b4zWlZEnLAZPTpT0ErBRJyIpoQYZ8XtdNE6rRsI0yYuu1wuna8jvhzDCMGn/T9YhS\n",
       "BZlu/+p0+kU6/Qqv0SJEh5FlMTvCznPgJV3GDxN0GWsA3qOhnTLoiMteRgmGMQP6dq5QF9pmjqfu\n",
       "8zpgCL20khJE1Nvqd369noL2DeeeMVmGLgNlY9i0sHcWnVzKNARI31VbLIjFXLqonRQD9uHyiKay\n",
       "NJvTNeSQGgpOeuoLe1dBLMXp0n6AhBe2iHEEtWPtrbqETwwrP4TSNrjGbtWwEKkPOF3Evr8bwcQ+\n",
       "TFcPZX/tBtD59RoyYG3QAsm72DjiMkTivK6vEEhuASgFyiZklhMqFi9Bj4qG00XwiTRhrCmmZ3Qx\n",
       "OzAfdss29vaLB+EQryviBN/I6N+HPbpwRDnUm3wee6Aokci0nUAzKoTaGBW/RK4FUCid6O6+onjz\n",
       "yOzMh91dory+EKwweF1a4Z2GjwBR78bCEb3jNRavq/fLhUKkZQooyYJbkV24NNQU+faZgicqeUdv\n",
       "3WM7zSP2YcHRZkrffn/Wu1Oo921hvw9PUtKNY7XX2QPQpCdlGAB4pyzSZtsWhxEzo4vYGbAPd9L6\n",
       "n9sVXl3IW09qD4TnNvcVoFQUj0KrIc+Nf0YDbCpNQiN+J+1+1XpXXyV2BuzD0MXo9wma3WO6IOoE\n",
       "hoXejYwusOowNCtiolbf3YmOi1OmuN8TH4Z+Rh9Esj+a+yFYVin2zn5JxWZDwDn8+8c9JXNCXW6f\n",
       "sEPpg3nBEvp6xyxKd9Z/DUpZZonVmWahLrfP/4T1b6f7CdSiCJw2nV8AAAAAAElFTkSuQmCC\n",
       "\" style=\"display:inline;vertical-align:middle;\" /></a><br>(see <a class=\"ProveItLink\" href=\"../../../__pv_it/theorems/cca2b7430e2b88c52539e96a5d7d652334d520b40/dependencies.ipynb\">dependencies</a>)<br>"
      ],
      "text/plain": [
       "<IPython.core.display.HTML object>"
      ]
     },
     "metadata": {},
     "output_type": "display_data"
    }
   ],
   "source": [
    "%proving right_add_eq_rational"
   ]
  },
  {
   "cell_type": "code",
   "execution_count": null,
   "metadata": {},
   "outputs": [],
   "source": []
  }
 ],
 "metadata": {
  "kernelspec": {
   "display_name": "Python 3",
   "language": "python",
   "name": "python3"
  }
 },
 "nbformat": 4,
 "nbformat_minor": 0
}