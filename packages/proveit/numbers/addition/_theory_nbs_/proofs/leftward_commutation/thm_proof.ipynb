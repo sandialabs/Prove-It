{
 "cells": [
  {
   "cell_type": "markdown",
   "metadata": {},
   "source": [
    "Proof of <a class=\"ProveItLink\" href=\"../../../../../_theory_nbs_/theory.ipynb\">proveit</a>.<a class=\"ProveItLink\" href=\"../../../../_theory_nbs_/theory.ipynb\">numbers</a>.<a class=\"ProveItLink\" href=\"../../theory.ipynb\">addition</a>.<a class=\"ProveItLink\" href=\"../../theorems.ipynb#leftward_commutation\">leftward_commutation</a> theorem\n",
    "========"
   ]
  },
  {
   "cell_type": "code",
   "execution_count": 1,
   "metadata": {},
   "outputs": [],
   "source": [
    "import proveit\n",
    "theory = proveit.Theory() # the theorem's theory"
   ]
  },
  {
   "cell_type": "code",
   "execution_count": 2,
   "metadata": {},
   "outputs": [
    {
     "data": {
      "text/html": [
       "With these <a href=\"allowed_presumptions.txt\">allowed</a>/<a href=\"disallowed_presumptions.txt\">disallowed</a> theorem/theory presumptions (e.g., to avoid circular dependencies), we begin our proof of<br><strong id=\"leftward_commutation\">leftward_commutation:</strong> <a class=\"ProveItLink\" href=\"../../../__pv_it/theorems/ce884f4ddc455e8aa5ab1ea3923b843a3059b1340/expr.ipynb\"><img src=\"data:image/png;base64,iVBORw0KGgoAAAANSUhEUgAABCcAAAAzBAMAAABWE38JAAAAMFBMVEX///8AAAAAAAAAAAAAAAAA\n",
       "AAAAAAAAAAAAAAAAAAAAAAAAAAAAAAAAAAAAAAAAAAAv3aB7AAAAD3RSTlMAq1RmmUTNIjK7EInv\n",
       "3XZ/CtNrAAAACXBIWXMAAA7EAAAOxAGVKw4bAAAK3klEQVR42u1deWwcVxn/dmaP2dm111CJK8gs\n",
       "VxGHU6upojQSzlbpjSpWDQJUQbIVoIqA6DqqVCVt0uUqSDj1ihLRrUqYUCltnLZeJVBKUIJbqEwE\n",
       "qZZSQdXWaBMi3MbUtdymtlwR867ZnXfMelbZy6N9f4y/+d4335v33u/d81sDeAvm2JgF3eD/UE9F\n",
       "9ywvpzo6Mw906/PiwiGKhejyct4zKNKdnaXAYLdaLy4YLzFB9w0o1vC3kW4lu4Ssa8yA30ChZ/j7\n",
       "M93adwlbXWNifT4Dxd18A9CKzR1+T3nXuk7oHip5tLz3T/WoXUeHb9M5Ya/7OPt3n4HiX/ztwSYn\n",
       "9/U6tG4h7HniPl+X2i0kkvTvdleLz1i+AoU+wd9vlixC6gYScms3W2pq55U+5uvybFeSi3X1BUJL\n",
       "SjsXtWs2trGV5hUrwdQvoIgLw8WEZKGVlQ+6qAHW1tI666PqQ6119bzNqmldfYFYSWnnonbNxnG7\n",
       "rFy3IUILvgLFG3xGtUxzQRErqXyota6ej4NHUDjHGYedi9o1G/bgFnafVNzqK1D8jb8N4o5j+MQe\n",
       "Vam7qN1KM7Jmuixpw/2nk7IPtdbV862z71ZYx2Y38GbDJ0aTymyMJuvKxqvzwiJDES6zfAQKY1EY\n",
       "HFFjCE3CLy1FH69Wu5bmV7JRNCo8wmvHt5sLsg+11s2z+bY1jpZMOd468jzcwI9UjcyGY/V+0xQO\n",
       "QmMaL/sIFAFhDtGDGtFjg3ATwMMZodiI2vz9uyyPVfdHCKJR4QSvRS3qOdk11nr3rC1BHJm8yFv3\n",
       "FJFnpxl632vV2bi2zmxkQCdrNG3CtRyjJR+BIi70iHH0sp8HeBmMWZLN4NTUK6emprAVUQdJTTvV\n",
       "fEDN6K+0GQXncD2JWlRN78iusbYOzxlIMM/O17MEs4Zm41nSrc65L+IWfASK0UEZFCfBPI+aRUlo\n",
       "YkSdSEcWvTWxeB7G05L2ZQjNy66x1rtnVEnbklL/f1I0a2Q2IgQOIfeewnzTR6B4IysNH+YF0Ofk\n",
       "0qRq3fJammiU3QSwtY/XzkNwSa4orPXuOZFE3YJ5Nim+Hm/W0Gzo+T1F25dyTgFP+wgUD4ljYxnM\n",
       "eQhkPiGXJlVXlo8rlmYS3qPtKi/x2kU8pkugIFrPnhM5PNDbi2fbGjXVEAeKBmYjG5j+1GTtOv+F\n",
       "j0BxUrjHq679MJBKyTVH1bCXn6GZb9uX8QxXmtGy9kIw8qsSX8aXwM8UXTrRevYcGIymYCyW4n2g\n",
       "pcdTnFkDswHxM3ixE6xxLvQHBgrSM37UCygCJPkO/G7BfEtcoqIyPDDzo/6cXJpUHXlQUL9gX3pS\n",
       "/LS9/6nhV3HPw2kP/HpQAQqi9e55zWbHTlJlA+zokMUn1cBs3HN1boXmvSlNQXENvrnNCyiC+Ilw\n",
       "tgO3KS6ImhcrE7iSciV/B9xZz47m+KMKrdp1nZ4T2ZV3NBuWjStDJZTc7loz9jIFxXfxlkneCygM\n",
       "3Kns7MDRQ5POC6+QSpM7Moo88OMbFWpn4A7ELg0qtErX9XoeATfrLbBSWnUn1m+UiqrDQgf6UxQU\n",
       "YdRdxZKe5hT40PVIB4JCX5R2YVgDjDz5jqoNxZeX5+pJ4MC0rFO7rtfzaU9WDcrGz+GSXO0OINFH\n",
       "QaEjkIW9TTTXob+ZDgRF74I0y8jD6ghfa3mK0VrjfyLPVh+npqb+4g0U8ampV4odWLKxJUm1Z1VA\n",
       "IvzliZanOV0rMp5hoLgeAE1iTQqgXC1QBHMQtTqwbINLsDpD8GyHFWdPiYFiGCJoJImVK9P2z9rj\n",
       "1+7PpfWnHaBAdsP1JHFvXpZUsZUWv6gSHatoJ2Rfu2rafs/AHHRDY0AxwUARtWL8yhWfHIBxupDW\n",
       "+o7Bjc7NqwfhN/UkESjKkiq2Mp+aU4nVcA/7e9/798Gh98Ini11QNAsUWjmsKHu8z6ENBaHoBMXa\n",
       "+uaZ8ZwsqWIrE8a8SnR0DqzTRQMeHCuDXlztw0fngcIePiAzhBa6ZG1Ez2eujMzQD8G1732pzIEi\n",
       "rKMe2zw6Y09gDw/9VnZcVY7OfkCSHBslVd2JIZz40f/Y44FDdPr9DhX+jS02pKu8ltiCvIjrVrBL\n",
       "yHqaaMKR7QBPJPCUh57P9O94LHuIbJnkjn2cA0XsUmT1eHaUOTb/acjV4VC+bp2VpGqo6nrSeA8H\n",
       "+bX7Dofo9LsIwTxbbmo7HJnrlScgXTKQW9haExR9NijuRtIuwhmj5zPPJQ26E6blgpVunIAigqed\n",
       "V+NtuJ0EQyljAm4+y89IiBLIY/fDemqIpdDaa/gXwLF0ynIDPEr8jjK/RBTtkd850FJs905/2Kq1\n",
       "eaW1eOWsZvY0iB3UMjIQQCJlgyKAW+V+unDGRzpvoTF7faFQSGo5s5hxggLeB/jzndNgDFhkRtrb\n",
       "BxPmnDBN7bW/PvgzXEUNsRSHcf4FkI5Jz7Lra8wvEUV75DcPQfR++jcLhZ8aP3R0Jdp5MXMHW93+\n",
       "1MyeBrGDWkUGAhgvguPo3FwihYzPZ/T8VyPwE9pTwM1lDhTYcgHuH4MeXHnj2ehGK2vwGzBE+Wny\n",
       "2Bw8Qw2xFKns87OAY9eRclhgfvczv0QU7ZHfc1b4zlkwSC+AJppgdxbGm2Lmmk0GkhRqZo83dpAd\n",
       "wfloBxmoeiDGGlsmZRbx+cxhCJT3xugmlZ6GSquvHrhOGuc34so7DPHs6BYLomkkoofZhSg/ksI3\n",
       "LyH3yJBJsM9hRXWRXRksfQNi6DppLG5k5kTk7Inf71uJHYfIVhvAXdfZWysoiEfnzSYDyQols8cj\n",
       "O8iO4Hy0gwwEcFmS6yn6s8Yz+HxmJBnNBjZABP8GyN7bAGRQfOHymUFceSPJ0Oa1R8mO6EjSmISR\n",
       "LL5QZTQHyN0PZgEbMilIdNQqy3RoVYmkO9adQ1fbry1y9szvKF6w7MSdmvlk4fpKXv4hFnOm1aBQ\n",
       "Mns8soPsiOMuSbWODES/a+S+vNLI+Qzrww4XCtwEUvg0A3fz1DJmlSsPgS09rhF3zJBKx3ptiSWG\n",
       "pzNpW9JAMBfsqd+Z3Y8gPPyusI/PyweFvDWbDCRTdpTMHo/sIDuC89EWMhB8CERQ3ILPZ0IunQsP\n",
       "CuO/R2zL25dLjoeYFD2H3NmGVAov/49JNDHqtSLdAry5YM/8Xhe7XPVym4SXbjYZSKLsMGaP4NQj\n",
       "O6jyLZ2THdRsMpA6nJRAMYjPZ3TwAgryrEp0KAdXls58rKIbVD1YFfWaE+vRpPCyyeaSgSTKDmH2\n",
       "mOuFtDyyg1gEzw5qCxkockECRe0N0GZ8uPvhVGP8tJoMJFF2CLPnvteFtLywg6oRDnZQlwzUgBCc\n",
       "kEHRTDKQRNmhzJ4BIS2P7CAWwbOD2kIGCviJNhg6Lw0fzSQDSZQdyuyRQOGRHcQieHZQs8lA6v2t\n",
       "so9AQT9tr4Zmk4FEyg5l9kig8MgOskHBsYPaQgaiE3a/gEJYfjSbDCRRdgizRwKFkh1EUuCSYhE8\n",
       "O6gtZCDKIvTpzxs1mwwkUXYos0cEhZodRFJwJmXXKMcOagcZyGc/b6QLn9m0ggwkKwZUaa2cFBdh\n",
       "s4PaQQaK9vkKFPAt/rYVZCBZMaBIy0NSXMSI0nNryEDs8MU3oBjhPyhqARlIDnfdfuLik1Kyg1pE\n",
       "Bnoe/AUK4ZvOVUMGkkLT2UHuZCDf/Qyz+IPte1YnJFrADnLv9L4IdYNiY2f/E5hwEnwQ2skOMugn\n",
       "WebYE95B0f0nMD4PByke8T+B+T9Q3Vr2FHCL9gAAAABJRU5ErkJggg==\n",
       "\" style=\"display:inline;vertical-align:middle;\" /></a><br>(see <a class=\"ProveItLink\" href=\"../../../__pv_it/theorems/0a08c8d4d5e8e193233d8a8c3e835d353c1136710/dependencies.ipynb\">dependencies</a>)<br>"
      ],
      "text/plain": [
       "<IPython.core.display.HTML object>"
      ]
     },
     "metadata": {},
     "output_type": "display_data"
    },
    {
     "name": "stdout",
     "output_type": "stream",
     "text": [
      "leftward_commutation may now be readily provable (assuming required theorems are usable).  Simply execute \"%qed\".\n"
     ]
    }
   ],
   "source": [
    "%proving leftward_commutation"
   ]
  },
  {
   "cell_type": "code",
   "execution_count": null,
   "metadata": {},
   "outputs": [],
   "source": []
  }
 ],
 "metadata": {
  "kernelspec": {
   "display_name": "Python 3",
   "language": "python",
   "name": "python3"
  }
 },
 "nbformat": 4,
 "nbformat_minor": 0
}