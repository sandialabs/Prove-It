{
 "cells": [
  {
   "cell_type": "markdown",
   "metadata": {},
   "source": [
    "Proof of <a class=\"ProveItLink\" href=\"../../../../../_theory_nbs_/theory.ipynb\">proveit</a>.<a class=\"ProveItLink\" href=\"../../../../_theory_nbs_/theory.ipynb\">numbers</a>.<a class=\"ProveItLink\" href=\"../../theory.ipynb\">addition</a>.<a class=\"ProveItLink\" href=\"../../theorems.ipynb#left_add_eq_nat\">left_add_eq_nat</a> theorem\n",
    "========"
   ]
  },
  {
   "cell_type": "code",
   "execution_count": 1,
   "metadata": {},
   "outputs": [],
   "source": [
    "import proveit\n",
    "theory = proveit.Theory() # the theorem's theory"
   ]
  },
  {
   "cell_type": "code",
   "execution_count": 2,
   "metadata": {},
   "outputs": [
    {
     "data": {
      "text/html": [
       "With these <a href=\"allowed_presumptions.txt\">allowed</a>/<a href=\"disallowed_presumptions.txt\">disallowed</a> theorem/theory presumptions (e.g., to avoid circular dependencies), we begin our proof of<br><strong id=\"left_add_eq_nat\">left_add_eq_nat:</strong> <a class=\"ProveItLink\" href=\"../../../__pv_it/theorems/2d26c2eb3ac79e02a08d918975e48a12bdd05e6a0/expr.ipynb\"><img src=\"data:image/png;base64,iVBORw0KGgoAAAANSUhEUgAAAS0AAAAXBAMAAACsWwSiAAAAMFBMVEX///8AAAAAAAAAAAAAAAAA\n",
       "AAAAAAAAAAAAAAAAAAAAAAAAAAAAAAAAAAAAAAAAAAAv3aB7AAAAD3RSTlMAq1RmmUTNIjK7EInv\n",
       "3XZ/CtNrAAAACXBIWXMAAA7EAAAOxAGVKw4bAAADn0lEQVRIx81WTWgTQRR+2Wya7OanOQmlUgL+\n",
       "XLQ1BynUQ6xErVh/QgN6sNhgDwVP26NSJfaolUYKaj2UVAQtgSZVqFKhREUQtVLFogcDW6zUHyi9\n",
       "VXpyZt9sspPM9oeI+ODL7GTem/n2zdv3HsDfEI1BKG47i81vtUkJhBBiceliC7GcZQjSybbqeO1i\n",
       "sJGvYgubdwwjDtFJT1W01ATCTmrSIgs7OY+4QiMgVRUvOYwoSZxbd7aKLCwXzc32IujLeENV8fIx\n",
       "lKSJV3gtsiiJxAWgL23AScjWVBdeOxlseXWLLOx41YQRM4XCm+p4tTO46xd1ntf4/IOn5C4mRBYl\n",
       "bcZLXQjDKLm8IOIIwJ0NxNAaa90MnZqyyvNqDTTIswDNxg4FQ4JQoc14eaU87CfRmED0gjtoe+Sl\n",
       "9pjzGX1Q1uD1AaG+AErCwsupOVcd5Ep2Cyws2oxXP5nXkVkeoaS9MeFxnvnhmBScgqPr8XqJkJfB\n",
       "nyOPxwuFt4XCe7oDyEZCGBRYmNrEjV9mDDemfTq8I0bLCEm3CfuDSbIYkSG3QV6+FGRjZXHvM1zR\n",
       "KbCwaJtx35X2/CZZI4+ARIT8ZCKP6dJS2wIpTq55cBhJF6T+07qFV2DhcptZL4IQ5O8xq9Pw4Hl1\n",
       "aSr57BvL44vXNnkdhgC9w1kEPCTZVf3kWaHnanU15PsZr00PwJhhkpzaYeG16Eidk4eJDKn6qifP\n",
       "9h1BZEOwRdKsvMZiW8FLxpZyf/HaJq8boBDWzhQC+shEbjVOccKIhwwXG+EH5mwpKQdSJV5hRU+y\n",
       "JuHubMCsEhMIRZc+ypy/9lw9Bh0sLXDCa5u8DkAXrRw5BDjIUb5YAG9lxfithwZoJm4JSUk1l7DE\n",
       "V22xBXHkHGY6vI5QG570fud43VuSorSUzJXz4rVNXqPTJ8n2/hjCkKym7KPV1ZM3uqU5eAXX0F/Q\n",
       "oVt4DYCG90hMfcx14E8i7PK9e7acF69dyveTNDUx4HejDcbTGejzJmTIAHx2LZP8QS82BuhIg5c7\n",
       "Pwmtxa27rHWZr83xNap0ZSVnddubUJ+TIcqAS9GmRzAQkr9N/yQDbG9JgPs2dXgP69DQXyfOLJk9\n",
       "ixS9Wdz4FoONXKj8S6Tt1x057G3K+xvWVoRUTSGvkBkeLiXcivx1H4aKz2MMNiIgIdKWIrQXVDSE\n",
       "1Z9pNjj0U+VGFbwaXKXezq0jbDpQQbtur73IYL11c3BFcuvyiv+C/0Hc//i8PyKsA6ow2LkYAAAA\n",
       "AElFTkSuQmCC\n",
       "\" style=\"display:inline;vertical-align:middle;\" /></a><br>(see <a class=\"ProveItLink\" href=\"../../../__pv_it/theorems/0a240e6301ae415e4a47d9e51d95109a8edac51a0/dependencies.ipynb\">dependencies</a>)<br>"
      ],
      "text/plain": [
       "<IPython.core.display.HTML object>"
      ]
     },
     "metadata": {},
     "output_type": "display_data"
    }
   ],
   "source": [
    "%proving left_add_eq_nat"
   ]
  },
  {
   "cell_type": "code",
   "execution_count": null,
   "metadata": {},
   "outputs": [],
   "source": []
  }
 ],
 "metadata": {
  "kernelspec": {
   "display_name": "Python 3",
   "language": "python",
   "name": "python3"
  }
 },
 "nbformat": 4,
 "nbformat_minor": 0
}