{
 "cells": [
  {
   "cell_type": "markdown",
   "metadata": {},
   "source": [
    "Proof of <a class=\"ProveItLink\" href=\"../../../../../_theory_nbs_/theory.ipynb\">proveit</a>.<a class=\"ProveItLink\" href=\"../../../../_theory_nbs_/theory.ipynb\">numbers</a>.<a class=\"ProveItLink\" href=\"../../theory.ipynb\">addition</a>.<a class=\"ProveItLink\" href=\"../../theorems.ipynb#strong_bound_via_left_term_bound\">strong_bound_via_left_term_bound</a> theorem\n",
    "========"
   ]
  },
  {
   "cell_type": "code",
   "execution_count": 1,
   "metadata": {},
   "outputs": [],
   "source": [
    "import proveit\n",
    "theory = proveit.Theory() # the theorem's theory"
   ]
  },
  {
   "cell_type": "code",
   "execution_count": 2,
   "metadata": {},
   "outputs": [
    {
     "data": {
      "text/html": [
       "With these <a href=\"allowed_presumptions.txt\">allowed</a>/<a href=\"disallowed_presumptions.txt\">disallowed</a> theorem/theory presumptions (e.g., to avoid circular dependencies), we begin our proof of<br><strong id=\"strong_bound_via_left_term_bound\">strong_bound_via_left_term_bound:</strong> <a class=\"ProveItLink\" href=\"../../../__pv_it/theorems/5b832fc2ff9f945d2807a753c90e3c22309ad14f0/expr.ipynb\"><img src=\"data:image/png;base64,iVBORw0KGgoAAAANSUhEUgAAAS0AAAAXBAMAAACsWwSiAAAAMFBMVEX///8AAAAAAAAAAAAAAAAA\n",
       "AAAAAAAAAAAAAAAAAAAAAAAAAAAAAAAAAAAAAAAAAAAv3aB7AAAAD3RSTlMAq1RmmUTNIjK7EInv\n",
       "3XZ/CtNrAAAACXBIWXMAAA7EAAAOxAGVKw4bAAAD90lEQVRIx81WX2gcRRj/3d5d9t/d9p4qtXIs\n",
       "KPVBU/dBAi0Yr8S2osYeDRRKxRz2QfBBNuCLUkvqi6CRnhaMpxA3UtBw0l4VUokYjopYW5UoFoX2\n",
       "YIPRaEpDEKSSB/GbnbnbndxutZyIH/x2/ux8M7+Z788M8G+IKxArapLGzU91k2LZHPGS9eM14uVx\n",
       "gQJr3N4br7sEEuTHeI2EPTocu1njyZ5oGRWOJOnz4jSS5CmOY8wDqj3xyjgcERmJNtKlOI2IoaXW\n",
       "vRxsM6bdE6+cQES2S60LYXWbi67RiuSAOS9Amsj29eZe2wQSeR3u1O57qKORxKvP4fiq1brYG6+H\n",
       "BU4tvvexLfMamz9K3zPtkdfmOhrGkoNpmZe6dZlqZoHjQeDNf+BDN/h3WKBkFTMLEq/s53ibzDIg\n",
       "vP0TP9QwlSbul3k95urr5I0VjjGohcQl+2d3PR1U9Bvw+pYj7abXU47E630Hw1TczY9j2IlovEBb\n",
       "2CLxMj4F2xbxDaB7Zjl2OW2xVrZMnG3E8JIi/zMODRke/sOt1pet1jdU2wdcpuJ40L3Zjmp4OR9f\n",
       "M0O0WlfIlehoMmvI01raGofiJ7j9A+OU4Szs9Lt5PXNrDC8KI3+D338B43dmoBheGPW0P6TzylVx\n",
       "mk4o2+RAZZA+9cGz7N/q3iUK5OwiUkHSZbxWSiEva+noXiqO3UJ3RQEF2Y60lGt4UV7Gn0ivMW+I\n",
       "sSP2wGpKvE77gcMpCxz4gLKr8b12na3rbumjXZ3a5E1gJiBiqlNOyGs5VX0COEjcDH9dE9NiimOm\n",
       "fBtM6byM35Cq3Ans2Oj3TONV6AWZl43Nios0JXkGHGG2LQWrpDGlUfFcP37lKdvKvFWN+L2j++M4\n",
       "yIJdfWfBat8SZzjueekR7JftOIX+UoknkYDYtZVQYxdGHYmX7ivfUdhnGhxIkR/lyhYnfz34bkUR\n",
       "A7VazbYsc380Hje50M4FtVQj1d79KxwnV5UhW+Y1ffXFIs1+Kcyrcx2N6fl9rhyPxY/GfgHyZQ5+\n",
       "hq6+k7mG1gxeS5dwHi8H52VlD3kRXhP0Nqq/xmr5cm5cKOfHOZLyvboQ1gfctgYwG5vvnxfgseAe\n",
       "H/HqOGJWMqgDP2TXKH8E/oW50O/V5iyoZZ0Iph6N3ssb7uaR5FtaaJgV41zsvT0kwH8Nbf8QE3bm\n",
       "p/kVKnDHjgrUN6j/wM+Nk3vC83r00CpjmyZiytDrnakmBRLk2e6uSeT9VCP2dVvtft8I77ANV6ct\n",
       "1Gu1MOHK+UuZxLs40WnOCCRIDOUZKIO7YwfrLkf0HeSJIuUf6Bq+saOYDd92qs+R8AKNea4nj14W\n",
       "iFq9XWQHG3/La+Qq/g+i/sfr/QWihQP43xiRNwAAAABJRU5ErkJggg==\n",
       "\" style=\"display:inline;vertical-align:middle;\" /></a><br>(see <a class=\"ProveItLink\" href=\"../../../__pv_it/theorems/27046f5f9e946e059537817105a3782ad06e1a660/dependencies.ipynb\">dependencies</a>)<br>"
      ],
      "text/plain": [
       "<IPython.core.display.HTML object>"
      ]
     },
     "metadata": {},
     "output_type": "display_data"
    },
    {
     "name": "stdout",
     "output_type": "stream",
     "text": [
      "strong_bound_via_left_term_bound may now be readily provable (assuming required theorems are usable).  Simply execute \"%qed\".\n"
     ]
    }
   ],
   "source": [
    "%proving strong_bound_via_left_term_bound"
   ]
  },
  {
   "cell_type": "code",
   "execution_count": null,
   "metadata": {},
   "outputs": [],
   "source": []
  }
 ],
 "metadata": {
  "kernelspec": {
   "display_name": "Python 3",
   "language": "python",
   "name": "python3"
  }
 },
 "nbformat": 4,
 "nbformat_minor": 0
}