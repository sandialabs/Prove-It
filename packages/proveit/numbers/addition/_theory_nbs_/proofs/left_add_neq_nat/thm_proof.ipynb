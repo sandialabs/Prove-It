{
 "cells": [
  {
   "cell_type": "markdown",
   "metadata": {},
   "source": [
    "Proof of <a class=\"ProveItLink\" href=\"../../../../../_theory_nbs_/theory.ipynb\">proveit</a>.<a class=\"ProveItLink\" href=\"../../../../_theory_nbs_/theory.ipynb\">numbers</a>.<a class=\"ProveItLink\" href=\"../../theory.ipynb\">addition</a>.<a class=\"ProveItLink\" href=\"../../theorems.ipynb#left_add_neq_nat\">left_add_neq_nat</a> theorem\n",
    "========"
   ]
  },
  {
   "cell_type": "code",
   "execution_count": 1,
   "metadata": {},
   "outputs": [],
   "source": [
    "import proveit\n",
    "theory = proveit.Theory() # the theorem's theory"
   ]
  },
  {
   "cell_type": "code",
   "execution_count": 2,
   "metadata": {},
   "outputs": [
    {
     "data": {
      "text/html": [
       "With these <a href=\"allowed_presumptions.txt\">allowed</a>/<a href=\"disallowed_presumptions.txt\">disallowed</a> theorem/theory presumptions (e.g., to avoid circular dependencies), we begin our proof of<br><strong id=\"left_add_neq_nat\">left_add_neq_nat:</strong> <a class=\"ProveItLink\" href=\"../../../__pv_it/theorems/1a98ded78a14f632010bc229311991f82b1ee7fc0/expr.ipynb\"><img src=\"data:image/png;base64,iVBORw0KGgoAAAANSUhEUgAAAS0AAAAXCAMAAABpq+mjAAAARVBMVEX///8AAAAAAAAAAAAAAAAA\n",
       "AAAAAAAAAAAAAAAAAAAAAAAAAAAAAAAAAAAAAAAAAAAAAAAAAAAAAAAAAAAAAAAAAAAAAAAeYafp\n",
       "AAAAFnRSTlMAq1RmmUTNIjK7EInv3Xbt5cnn9enzas/lfgAAAAlwSFlzAAAOxAAADsQBlSsOGwAA\n",
       "A8JJREFUWMPdWAmTpCwMlUvu7H7H+v9/6gYUMTRia81WTy010ykPXuTxEgLT9G2abuyDrl/34ld8\n",
       "1Z9swKm90xScPJCu6+MB9GrZfp+LT5LFPbU3qe5/u7FdH4+gs5Wq3J4/KTY3U3u3za5315qej4fQ\n",
       "yZoiLm0/KS0pqO3FxEj7Qvakxbo+boIX6GwLdZ5/kq3Q2F6swhCgIy6ruz7ughfoZMXG6vxJsvhM\n",
       "7X225ldxKNb1cRu8QGcbYmrBfzQQPbWTZh40DAfkAJgzfosJz15Hqbs+etgNuIMctY4R6GxlToXW\n",
       "fc2wh6n8velLsgg4Uru4EVvoChhMMq5ZpSpH5umP//6XftmLjx52A+4nnsJWLAQ6W83Kz+3KLUqP\n",
       "S6oItfNoqfDq9FHkxLqQl+s40pbQaThuYisJPFxIa4hNwQ1fnzNLoFebZDUYSW+xAWYt9uBs8o7U\n",
       "gAO2RhMSFLEyT2r0RCxhTRkFJUWErIIyS5u1ZN9Hg90Dx+GExF4AAr3axOutHC+lKQUtpIA4pLwB\n",
       "W0y/zVZIMG5RV4k41FsqXEhriN2CqxSoZjEEerPzJLaXnRfgdzcAUuNfKf3ZVvrXwpkbrjBfnrBF\n",
       "uk/KNzDnkegWqFljwJZaENytwuaR5q3/f8VI89YIuwXPooUSgZFYz7eiy0WNjJbxgU6RO2/hDhPy\n",
       "bRDAVUa4wUjkqs/W3l3a1H7gvzjA0MoIjtYtySebJ67Ply3MBCxMu7CFvSruR9gtW5aVnwP0ZnVJ\n",
       "0xLDqo5EZA9b0GmXqAVLyl5kCyMRbJct0r0IssLQBYARmwbGo6QrLB0QX4yT+KmKN/XB9vh1cR5h\n",
       "v2iLJeWKfnnDTA1tOEbJcpgAhi/jio0LadaK5Stbzh+THqWhdq+CLDB02YjEOgbeaAZmUBJJAORE\n",
       "lB1IVFf7xhF2y5bDkkyWry/QjQuXnlvhdk9JZ/uA08sBfRhPtIWzCydsbd1TJP78x+ZIrDBN4jLU\n",
       "3q3ldbw+bRhg98D9TKEbFziKlLaUcEkwGJ+5g8zyWZ2phRayIrN9VGNlq3an+9sd5nzr+mBX3eyY\n",
       "u0cSA+wGPH24C/xiw69Q2eBFUgW+KkF5ALddJdnbeT2tMEXb6zLdZat2pzuFHaa/A7aPzo2aAxTR\n",
       "38a9jR1hzRhH6OEZDW+vXI7Src5IYdWtZ+2Vzg8wNAvYNsHdaQ0Psb/Hehsb68j93O+daVSuvcLM\n",
       "rK5r2P73HPqdwpR9roYH55vNSM4S1APsAg0jXYqXK4V16/SMLa6OCQI+etrxrZr+q0f3GzLDIX8h\n",
       "DBscAAAAAElFTkSuQmCC\n",
       "\" style=\"display:inline;vertical-align:middle;\" /></a><br>(see <a class=\"ProveItLink\" href=\"../../../__pv_it/theorems/6e683499f8482f7558ffa089bce029fc81eefe950/dependencies.ipynb\">dependencies</a>)<br>"
      ],
      "text/plain": [
       "<IPython.core.display.HTML object>"
      ]
     },
     "metadata": {},
     "output_type": "display_data"
    }
   ],
   "source": [
    "%proving left_add_neq_nat"
   ]
  },
  {
   "cell_type": "code",
   "execution_count": null,
   "metadata": {},
   "outputs": [],
   "source": []
  }
 ],
 "metadata": {
  "kernelspec": {
   "display_name": "Python 3",
   "language": "python",
   "name": "python3"
  }
 },
 "nbformat": 4,
 "nbformat_minor": 0
}