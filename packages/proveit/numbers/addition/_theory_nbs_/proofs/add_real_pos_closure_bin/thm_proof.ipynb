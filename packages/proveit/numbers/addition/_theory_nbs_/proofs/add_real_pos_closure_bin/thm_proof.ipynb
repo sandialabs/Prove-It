{
 "cells": [
  {
   "cell_type": "markdown",
   "metadata": {},
   "source": [
    "Proof of <a class=\"ProveItLink\" href=\"../../../../../_theory_nbs_/theory.ipynb\">proveit</a>.<a class=\"ProveItLink\" href=\"../../../../_theory_nbs_/theory.ipynb\">numbers</a>.<a class=\"ProveItLink\" href=\"../../theory.ipynb\">addition</a>.<a class=\"ProveItLink\" href=\"../../theorems.ipynb#add_real_pos_closure_bin\">add_real_pos_closure_bin</a> theorem\n",
    "========"
   ]
  },
  {
   "cell_type": "code",
   "execution_count": 1,
   "metadata": {},
   "outputs": [],
   "source": [
    "import proveit\n",
    "theory = proveit.Theory() # the theorem's theory"
   ]
  },
  {
   "cell_type": "code",
   "execution_count": 2,
   "metadata": {},
   "outputs": [
    {
     "data": {
      "text/html": [
       "With these <a href=\"allowed_presumptions.txt\">allowed</a>/<a href=\"disallowed_presumptions.txt\">disallowed</a> theorem/theory presumptions (e.g., to avoid circular dependencies), we begin our proof of<br><strong id=\"add_real_pos_closure_bin\">add_real_pos_closure_bin:</strong> <a class=\"ProveItLink\" href=\"../../../__pv_it/theorems/7074e4f895ecd9bd739dc0064380965f443a6e7b0/expr.ipynb\"><img src=\"data:image/png;base64,iVBORw0KGgoAAAANSUhEUgAAANEAAAAZBAMAAABdr9YFAAAAMFBMVEX///8AAAAAAAAAAAAAAAAA\n",
       "AAAAAAAAAAAAAAAAAAAAAAAAAAAAAAAAAAAAAAAAAAAv3aB7AAAAD3RSTlMAq1RmmUTNIjK7EInv\n",
       "3XZ/CtNrAAAACXBIWXMAAA7EAAAOxAGVKw4bAAADTElEQVRIx7WWXUgUURTHj+3Mzs7MOi4JgQWy\n",
       "0EMvWQuWoISM+FER1pLQQwVtGEgSsr0EQegKgQ8FLhnVGNkIEYiBW0ZSD+FTZWH00LdurQU99EUs\n",
       "lGUgnTO7OzN39sNV6MK9nJk79/7OOfO/Zwag6LYVVtRU7NyyVqxSV0aKYheiy1lxnQYhz6RQmAT1\n",
       "yyEN0PAhzySfYK9dx7RfswMWqVQH8JGxfmmQMEkZjOWYGZnG4aPjpij4+PJBk6QgppmMjqVJXCyT\n",
       "wax2BLtbd5JiEO0FTtOmNIxNWgDoLfKFlQVxaGQyFkgbSUqXmk3a7jZjgvaUM7J/aVI/OT3JiDH9\n",
       "bvgFGh+nLpQr8ZcmSbRIO9EZ9MxdhCC+0d6hXCT5WdpponbpVkxrhy3SV+zT8fiTIkhrMu/q+P1u\n",
       "luSunMOc3DTsE7qVPc+5Dot0CCd2AAzm2162TI32xPj5h3BVZ0hjndI8QA0w0hKFB+/f6ZkagcmP\n",
       "oI8g+PIKzjIP06lA328EoJWNabMOTwE2GnbIIo3X2XPdg4ISdTmYufYcTRtVdxq6WNJz7F58cA/A\n",
       "DM3E47OYd/KxBeAvOm2sx1vxN+nsDVbbSGNBcs0miHX0+JwWVGSYiGXFRKQpkH6yMc0Ajzo/SKYU\n",
       "tan8tGg7Yz0RithWlB5hb8KbigJ1CbmptanZkT1pEVw/WFISONR5lWE/s5G4Ptsx7Q/jcKsTh9H6\n",
       "CQpncU5X6EAi6bPKxFRByxMgJaEktIEh/aZ3B7WG/d1GkqK2EkXag1OYbOmVZ54AbxV1xDiAsjAU\n",
       "YEh0IGR8cgiqVJUhlcN5HHelFO83SSpUi6YAYBsNJZgtTvXQ+RcDrlCbQeIuR1lFkFMeTM7wl77K\n",
       "CEMavk1ZeGHYUsX+TC3/ExYvJM3lDRnDG6RqC94I56vRNM2vKPJe9jyRGuB1rhqRKvXpN8TfTVUj\n",
       "Z2s3RRgW69DpMvD6zxgxKfwBPbuWb8lZYY3pQMEKIy2YHof72/RR/GDVgqFNVPk9tjqnshvOt9XJ\n",
       "wrXMZRYHvnHTOJz1e3YnQLiE1/s+xa61sA+vZs6Ls10sTCp1uJgSzqimBfP9R3Tn2UkJFyY5/iN4\n",
       "veC/UQxW3JyfWtd/+d8z9IIx/AOvLc9/8fScBgAAAABJRU5ErkJggg==\n",
       "\" style=\"display:inline;vertical-align:middle;\" /></a><br>(see <a class=\"ProveItLink\" href=\"../../../__pv_it/theorems/ca23f6917a8bb3e6ac6dc8b905f371d81b9511540/dependencies.ipynb\">dependencies</a>)<br>"
      ],
      "text/plain": [
       "<IPython.core.display.HTML object>"
      ]
     },
     "metadata": {},
     "output_type": "display_data"
    },
    {
     "name": "stdout",
     "output_type": "stream",
     "text": [
      "add_real_pos_closure_bin may now be readily provable (assuming required theorems are usable).  Simply execute \"%qed\".\n"
     ]
    }
   ],
   "source": [
    "%proving add_real_pos_closure_bin"
   ]
  },
  {
   "cell_type": "code",
   "execution_count": null,
   "metadata": {},
   "outputs": [],
   "source": []
  }
 ],
 "metadata": {
  "kernelspec": {
   "display_name": "Python 3",
   "language": "python",
   "name": "python3"
  }
 },
 "nbformat": 4,
 "nbformat_minor": 0
}