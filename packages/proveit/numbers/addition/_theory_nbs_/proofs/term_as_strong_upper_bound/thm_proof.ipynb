{
 "cells": [
  {
   "cell_type": "markdown",
   "metadata": {},
   "source": [
    "Proof of <a class=\"ProveItLink\" href=\"../../../../../_theory_nbs_/theory.ipynb\">proveit</a>.<a class=\"ProveItLink\" href=\"../../../../_theory_nbs_/theory.ipynb\">numbers</a>.<a class=\"ProveItLink\" href=\"../../theory.ipynb\">addition</a>.<a class=\"ProveItLink\" href=\"../../theorems.ipynb#term_as_strong_upper_bound\">term_as_strong_upper_bound</a> theorem\n",
    "========"
   ]
  },
  {
   "cell_type": "code",
   "execution_count": 1,
   "metadata": {},
   "outputs": [],
   "source": [
    "import proveit\n",
    "theory = proveit.Theory() # the theorem's theory"
   ]
  },
  {
   "cell_type": "code",
   "execution_count": 2,
   "metadata": {},
   "outputs": [
    {
     "data": {
      "text/html": [
       "With these <a href=\"allowed_presumptions.txt\">allowed</a>/<a href=\"disallowed_presumptions.txt\">disallowed</a> theorem/theory presumptions (e.g., to avoid circular dependencies), we begin our proof of<br><strong id=\"term_as_strong_upper_bound\">term_as_strong_upper_bound:</strong> <a class=\"ProveItLink\" href=\"../../../__pv_it/theorems/62f1c9d4229db65314c776330cd2e7f9aaf944540/expr.ipynb\"><img src=\"data:image/png;base64,iVBORw0KGgoAAAANSUhEUgAAA2wAAAAZBAMAAAC/RbCNAAAAMFBMVEX///8AAAAAAAAAAAAAAAAA\n",
       "AAAAAAAAAAAAAAAAAAAAAAAAAAAAAAAAAAAAAAAAAAAv3aB7AAAAD3RSTlMAq1RmmUTNIjK7EInv\n",
       "3XZ/CtNrAAAACXBIWXMAAA7EAAAOxAGVKw4bAAAIBklEQVRo3u2aC4hUVRiA/52587qz7m4F9pBk\n",
       "LFuN2m1gbamwbUot3VCHJCgVnUiJjHIEIdS0MaISNl0qqRWpq0mZljv5KB+4mCJmpmymJasDV10w\n",
       "FZdlo5SVsv+87uvc2b1LdwXRA2fmn//8c865/3ce/zkzAD6lOwtZuJGuSiorHPatrszV7nqup+II\n",
       "z9dqKtL3LH/wmmsVWzzdY/Epnq/VFNJd1dP4k9dABfl4tx/Y/KrJI7YS8hZIupYG8iz3Y/rqYL9W\n",
       "f9qpUFe24lRLCmxjiO4lP7D5VZNHbAqZb2H3DfULnvszzejX2sOapEnhyyyBbTFZSRv9wOZXTR6x\n",
       "RcnsnudeOopnx8rjPjWLqAEm9ajt8mbmrSmpIJhympQn8GWEwEawxhN+YPOrJq97G4482Oheuotn\n",
       "x9LpvmEUUQNU96QNdXsy89iUXPCTKVbSJWU6mX+lGscWRM5hX0ISv2ryiq2maCAUyLDcn9jirf2L\n",
       "7UVDerSevu2kK2WSY4ODhcIBfyJJn2ryiq20UDjhHnYoeZZhTssiN98UURfzfGTQGV3ShgefTDgA\n",
       "tZzOyV+OdzzUF2yG+bei6MJ29v5Cx81YXCGwjQVY4Q82n2ryik3JQUxz38+TLIf2wWea7Jsi6qLY\n",
       "pmZj3ZK2eZZ60W62MKE0SmaRwzCuD9hM81oeQO7kJerfWnMWghmBbQ5EcHNXWUjmPMPyjXEYwJeG\n",
       "Lgq6OzZW01XDho3NcS8ckGD56ySMd/FNEXUxbOoeUFpNB3DtAxocsmM7DqXypByQF2aesDHzKEr3\n",
       "M4zjRawS6CbVB3YJbDGNCHH2vWPM+MgWGEkJsOETRIMW0yk5xZB3nLdgYzX1RwocnzFQl47bK2AL\n",
       "wDuNsklpmuWJxJfwOd3lFFxScRUnT0XV6o6bNLvansYXCj8XCr8Qk07iTeYAU/skwGW7GZmRaq3j\n",
       "yxOxkd6asnZNYx4GWEaLBhohnpKB8jxEOwW2gG6PI5bevhyGxDVFM7GtEl8V4Woe1jGeeqjRxOas\n",
       "yadEOqTn4wskbNWk0ZK8bCKw7Qf1L4h2tDqGNFUrdAp5mW2ljdCclrTHIdTlNMOOXHCY7adu67Up\n",
       "s2siTXVgw5EzPQEhY7ZBps6Gfiy569BTcTCxjeFlMWE0C+Y9Rbuag4uWyy17TT4l2iFdD26QsIWD\n",
       "Ou2CZMIXSfVfCHaiSxzYmLo8HbnkDVuzDo/J2i42vWxmmKrsZtgWeGnK7JpIVY5FEo9tOBXxWQS2\n",
       "jXgACp2k32pPsFuV4fcssmLD555WIbBteIIelxbfivKbGuy2YCM1wfq670XTFtFMpjJ+2niKFhfg\n",
       "XEc7pOtla2Du6NGj0xZs8UpcEZZ13GEx4cNLp1ntgpLMMBkbVQc1z9gSMDCQnVZh114iW6RVUY4f\n",
       "005s8Cf61kNTooCYUw/Dw46QpDyHeywEGw1sb2CHNpTT1TeQUSmo4fHVU0xskQyoerfAlqoEGIrv\n",
       "c29Dn2nwqwUbqUn9PSomoEW03K2ZyqNRcSQekG6Q4wqmYx3S8/NOS7Mt8gOJj7V2yQTDZJo/hapU\n",
       "SsLG1cbJS6ibMyRe44LF8zE9cERhDrBob4GP7AoMI+M5CRvGhVs9NCUKqDnxMDwt/HXhHH0vScZS\n",
       "9FgjsJXgMjOfNrcunmK3LMMhddbEhvtXZHUrx6ZqmwGeJ+o1ywm2QxZspCYlhTAi9CBAxWfa7WEK\n",
       "VdJ6lUY1xwyxt2tD1WPs2FAHUM+vffRx26RIEgAHDnwItZJJtJXlVeffHZyTsTE1vK85ojgSNh8R\n",
       "giWSHLx1zh/MARbtqs1JxzlhR805aZGE+KY6zUNTooCYUw/DUfO4TQ9u6qBRdCwb2PgIZAee4MtN\n",
       "TR8gtvVhE1uggq4545pWNjUl6fl9CS0cmcVFssuCjYUDZRXwVpsh7lI7bf6mSiNwYIawFz9Bsx3M\n",
       "Xn45Rzuk61sSMjaSfoTHZZNjRlAM8t4mDtEr+nRLEtOLXX/YFFVu2t6bsheghyOt5sda8758Idiw\n",
       "qd30xFaejebZbAtVm9ii+Nq81ghJLrJFEu7VnSEJnf/Z2CMatBliNmq/HKTK+3TaGL60iSoj4Fgn\n",
       "ScU1KWAd0vVnt7tj64TdsskInu3Y7Pe1c+H1vlwlUwe43hFPcsU2qU9N2Qvw0ZVksTtyK7ZAJqXi\n",
       "wzfwe44HAU7aQ5JKRWAjGDrIGMCKy/RQhXO2ZZdNotjWczGWRhEr5y9UeVcKpXAa8sQQ1TMBI6Dl\n",
       "Fiumi8zP8A5hdL/GHVsb7tKSSSzLsh2bLUU+ea++LwFtpeLJrMqHpoiH3X/aID+w2Gbb4Gx0N2U1\n",
       "D6dd9LcslFiwfYxL+RmBjaxxqDhLV6Qd7ZoDW2hU9SY6iRoSTBxLxOg+aMiSF6aM5VCKjKqjfLHh\n",
       "ubgtKDkiMass1wXzrEOh115RR2dcsb3d4WJCghSVnygj3112W5pKr1zp7IsvqQN6TQtmt/z/priH\n",
       "XRIZira9jYxKuqiq25qWmzr26FOs57ZwknhkSUK+3LIksvYxi7imCxEM5TcBIbWxhjFtLxMSGLqS\n",
       "tLNDBjbrf0lkk0U8X5MJPVzm/vMvDp2yEw5sk8PPSb9RMWxK1rwlmdlgfi6KbekBPNCzeTj7SqsQ\n",
       "yVxkUuwcl4ghTKZ9vfIPl1hnWMQF12Ga2dCriRVbUmnX3LGBJRyYUE+3vp6x0RDQTXSTIFlMOjX0\n",
       "esQ2ob5P2NwSn1aqXev2c8mr/fA/ySEpuJFc9r7Cnv8AWFm8a/KHr3YAAAAASUVORK5CYII=\n",
       "\" style=\"display:inline;vertical-align:middle;\" /></a><br>(see <a class=\"ProveItLink\" href=\"../../../__pv_it/theorems/59368cd8cd1fc99f4783115149b12f2cd582418a0/dependencies.ipynb\">dependencies</a>)<br>"
      ],
      "text/plain": [
       "<IPython.core.display.HTML object>"
      ]
     },
     "metadata": {},
     "output_type": "display_data"
    }
   ],
   "source": [
    "%proving term_as_strong_upper_bound"
   ]
  },
  {
   "cell_type": "code",
   "execution_count": null,
   "metadata": {},
   "outputs": [],
   "source": []
  }
 ],
 "metadata": {
  "kernelspec": {
   "display_name": "Python 3",
   "language": "python",
   "name": "python3"
  }
 },
 "nbformat": 4,
 "nbformat_minor": 0
}