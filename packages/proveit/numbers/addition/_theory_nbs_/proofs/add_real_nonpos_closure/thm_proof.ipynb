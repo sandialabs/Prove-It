{
 "cells": [
  {
   "cell_type": "markdown",
   "metadata": {},
   "source": [
    "Proof of <a class=\"ProveItLink\" href=\"../../../../../_theory_nbs_/theory.ipynb\">proveit</a>.<a class=\"ProveItLink\" href=\"../../../../_theory_nbs_/theory.ipynb\">numbers</a>.<a class=\"ProveItLink\" href=\"../../theory.ipynb\">addition</a>.<a class=\"ProveItLink\" href=\"../../theorems.ipynb#add_real_nonpos_closure\">add_real_nonpos_closure</a> theorem\n",
    "========"
   ]
  },
  {
   "cell_type": "code",
   "execution_count": 1,
   "metadata": {},
   "outputs": [],
   "source": [
    "import proveit\n",
    "theory = proveit.Theory() # the theorem's theory"
   ]
  },
  {
   "cell_type": "code",
   "execution_count": 2,
   "metadata": {},
   "outputs": [
    {
     "data": {
      "text/html": [
       "With these <a href=\"allowed_presumptions.txt\">allowed</a>/<a href=\"disallowed_presumptions.txt\">disallowed</a> theorem/theory presumptions (e.g., to avoid circular dependencies), we begin our proof of<br><strong id=\"add_real_nonpos_closure\">add_real_nonpos_closure:</strong> <a class=\"ProveItLink\" href=\"../../../__pv_it/theorems/798e382e7afe25bb289204a70d0b3ccba4af40e10/expr.ipynb\"><img src=\"data:image/png;base64,iVBORw0KGgoAAAANSUhEUgAAAdAAAAAaBAMAAAD1dxBVAAAAMFBMVEX///8AAAAAAAAAAAAAAAAA\n",
       "AAAAAAAAAAAAAAAAAAAAAAAAAAAAAAAAAAAAAAAAAAAv3aB7AAAAD3RSTlMAq1RmmUTNIjK7EInv\n",
       "3XZ/CtNrAAAACXBIWXMAAA7EAAAOxAGVKw4bAAAFkUlEQVRYw92Yf2gbVRzAv7lccpdLGivI8AeO\n",
       "zB+1Mlqi1cmKzIN1UB3DytQ/nEhRQZzUXWH/dO22CAMd1DUoZbTidtMhbN2WbLPoNhxzo5Tir6rF\n",
       "webBcwp1q0IZ1Eph1u/7ccn9SNZknkV8kJeXd5d338/3133fA/jftvsNODVV0Z13WkZwjw23LTYn\n",
       "gTCJZEHHcdL67nq3tgf53HsWmXNlGiCRgVnoYj+bFgtUY4sZQeOUXfByCrvtJpxFsy4qaCxNPSgV\n",
       "NOgLnt8rxvZ2jOGjetmT+kz4HuACB62lX3eXAQ3RLykdgEQ9tFseuIMmvbJlO+GplSZI75kc9GuA\n",
       "nzjoGvr1ShlQmWaQaBAOt7bgvsG2jV7QboipaLwIJUXXvQqQMxnoG9gr2TKg9C8imv9hm8GP7HeN\n",
       "9SVvjpTzIf+Fh/ygskEVqt5i8GQE0TQDjSJvPFUuRqnCjgXAqc5hl/DPN5a8WyJllvFfSJgi+VhW\n",
       "ewGU2U252UySCFpKzjLQMPJGyyajpoByUnIcu7p/ATTKbfzslaJFQwdZ3gEF4NQvqIfkGZ51v7Ks\n",
       "L8qCJizrx3wAoKF2EafKHZOkBKh7emHQztPb+CDOoJSNDtfdWedOKpE5DtoKMIiJwigJKmcgZt4g\n",
       "nPN/Meo+L+HneSM2VwLUPb0gaGQU9ppM5jDzt2K+zPZ0XLviCZs/OWgnKKiVOF9CmRiGR2uLoHip\n",
       "8wY5H8golyYLHkbXxDJMOwfyOGgrPKB8eujo7RWCHkrDOi6zdIYt70hGTR/h184BbIJemeGgMTMu\n",
       "ytBdt/XDsrgpm46CYRCGq+OTLr68BAXQPs5gnisIUEMrzhH0kGmoycOu39nkOsv60rK+BXtap9KD\n",
       "jNGC4VTrW9lx4UmAi8Jc07TvtbBlOWjsQ09q1gSoRIQ4cistHYged1ZGjVXlIqoqko93g7IW1Xmo\n",
       "kBO5RRE0kYUcqrXBY1E+PQPbM5VZdIxLT52YWfSAw6KqPuj+kyJcF9pX4f1YPvxMZ+vv3eYCjYZJ\n",
       "5ZxMVYSEj8BW6iRboSbjcd0cgcfAD8qnmysF1f6C8DSTGaRx5jDO92ir58WvzgrQY5iyjtxkasz0\n",
       "9fEPNjhB43VoFO34lB3tjmGxDa36hH0zVRGS3I8R2sYsat8boovvQaIULJEMPyifhs8qi1HtKqbx\n",
       "+1BmTEZM6iRxgB7w1IV21oUe1PaWBlF11IN+2QmqfI7dYaPPltgxLAbBeaY04Koi+S4KvCyNKaIQ\n",
       "o+xddhQTApEmZL9FxbR6wQ2aQwm0P0B0jgt7oEHXt9BVZP7ye7EAuhkrg373Tli8RyGUYX8Nvzow\n",
       "8A6CDkVdu5db8dMCvVgJsnijw0jjGrfH6iqulRWqIo+fYLM72pRLj7i0+jZKvPTTzl/9oGK6y3Tz\n",
       "sBQ2AXZXvLBv6s2lGeohUMMT6b5+09697IaBTa5KT651bNO0uYya5xaNNPq2aSO4A1AbTHuYgJy7\n",
       "DGtLshzJVUXIcImKcoQKZUesD1RkDV0xqqiMUGaaB3jb8L5VLmuKWles0K4DS1YPi22NE1SbhXcP\n",
       "Qo1pDxVqYEfLGbFmczkBripCnjkJm1taWtq8u5ew7gN1FfVdb+0wqyjqqcyweuEUKXYvtu8Y0IUK\n",
       "Un8w+CbUZdFRdaaZgmp5PoR+Ohzi3RCmnL715l06cFXh62W//2lMNbvFj+5Np0tJ9M38fFWHFihz\n",
       "mX2Xu3LxnjBoJwb6S58wPP3gVJqCqmf5EAtDHPYa6ih2vanI6sbjEEM1UVVFXn9Na/F7USjlet0F\n",
       "dnBRwV75fJVHKdR1JT48mSwMsfGIPCyVUJXnzEghQYNOVnD8WOWZkfob7kuf49E9f80e0rjhcRW7\n",
       "cv3nBX+MUmGr4BSww3eumy4xDP9Hz3Xt9gQ71z33NwqUqsJbjYRBAAAAAElFTkSuQmCC\n",
       "\" style=\"display:inline;vertical-align:middle;\" /></a><br>(see <a class=\"ProveItLink\" href=\"../../../__pv_it/theorems/78784dd24eacdc5d0ea7fba8938053dab628c7210/dependencies.ipynb\">dependencies</a>)<br>"
      ],
      "text/plain": [
       "<IPython.core.display.HTML object>"
      ]
     },
     "metadata": {},
     "output_type": "display_data"
    }
   ],
   "source": [
    "%proving add_real_nonpos_closure"
   ]
  },
  {
   "cell_type": "code",
   "execution_count": null,
   "metadata": {},
   "outputs": [],
   "source": []
  }
 ],
 "metadata": {
  "kernelspec": {
   "display_name": "Python 3",
   "language": "python",
   "name": "python3"
  }
 },
 "nbformat": 4,
 "nbformat_minor": 0
}