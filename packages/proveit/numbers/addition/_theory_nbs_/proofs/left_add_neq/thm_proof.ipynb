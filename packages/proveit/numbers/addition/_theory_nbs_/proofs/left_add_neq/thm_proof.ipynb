{
 "cells": [
  {
   "cell_type": "markdown",
   "metadata": {},
   "source": [
    "Proof of <a class=\"ProveItLink\" href=\"../../../../../_theory_nbs_/theory.ipynb\">proveit</a>.<a class=\"ProveItLink\" href=\"../../../../_theory_nbs_/theory.ipynb\">numbers</a>.<a class=\"ProveItLink\" href=\"../../theory.ipynb\">addition</a>.<a class=\"ProveItLink\" href=\"../../theorems.ipynb#left_add_neq\">left_add_neq</a> theorem\n",
    "========"
   ]
  },
  {
   "cell_type": "code",
   "execution_count": 1,
   "metadata": {},
   "outputs": [],
   "source": [
    "import proveit\n",
    "theory = proveit.Theory() # the theorem's theory"
   ]
  },
  {
   "cell_type": "code",
   "execution_count": 2,
   "metadata": {},
   "outputs": [
    {
     "data": {
      "text/html": [
       "With these <a href=\"allowed_presumptions.txt\">allowed</a>/<a href=\"disallowed_presumptions.txt\">disallowed</a> theorem/theory presumptions (e.g., to avoid circular dependencies), we begin our proof of<br><strong id=\"left_add_neq\">left_add_neq:</strong> <a class=\"ProveItLink\" href=\"../../../__pv_it/theorems/e8d10ef8f4d5c8f2f801e2807b4549b933939afc0/expr.ipynb\"><img src=\"data:image/png;base64,iVBORw0KGgoAAAANSUhEUgAAAS0AAAAXCAMAAABpq+mjAAAARVBMVEX///8AAAAAAAAAAAAAAAAA\n",
       "AAAAAAAAAAAAAAAAAAAAAAAAAAAAAAAAAAAAAAAAAAAAAAAAAAAAAAAAAAAAAAAAAAAAAAAeYafp\n",
       "AAAAFnRSTlMAq1RmmUTNIjK7EInv3Xbt5cnn9enzas/lfgAAAAlwSFlzAAAOxAAADsQBlSsOGwAA\n",
       "A7xJREFUWMPdWIuSpCoMlZdAgOzex/r/n7qAooRGbK3Z6qmlZjrlgxNzSELCNH2boRv5YOrXvfgV\n",
       "X/UnB3Iq7wyFJw8kdHU8gF4l2+9z8UmyuKPyJtX9bze2q+MRdJZSldvzJ50NZirvjhl6d63p6XgI\n",
       "naQpzqXtJ11LCip7MTHyfSF7rsW6Om6CF+gsC3WOf5It38herOIQoONcVnd13AUv0EmKjdX5k2Tx\n",
       "mcr7bM2vzqFYV8dt8AKdpQ9pePfRQHRUTpo51Dg0CBAZGLfFhGOvVuqujh52Aw6YoxYYgc5S5lRo\n",
       "4WvMHqby95YvuYWPltoFRmxFVchwkmHNKofnyLz84d//0i970dHDbsDdxFPYioVAZ6lZ+Xmyv1rJ\n",
       "6oUabRVOnT4KnEjwebsOI98SOpkDE1tJ4P7CtYbYFNzw9TmzBHqVya0GlvQ2G2TWxhlgWfwkbt07\n",
       "bI0WxCsiZV7U4Iiz+DVlFJQUEfJwKLO0WUv2dTTYPfDIh0/seSTQq0y83srxUm51jIOMJ95ii+m3\n",
       "2fIJBhZ1lYj9cUv5C9caYrfgKgWqWQyB3uQ8ie1lcALdrgZR6vhXSn+2lf574QzCqKaJqtki0yfl\n",
       "GpjzSIQFj6wxYEstERzWBMQDzVv//wqB5q0RdguenRZLBAYiHd+KLgg6MlrsQ50id97CHafIt/Ep\n",
       "/HYVmrcLWLG1T5c2jR/xX1QwdBrWEpakk80TgW+2rZgJmM8ZeU1j9qq4H2G3bFlWfiroTWrPSohN\n",
       "lSUia9iCTkOiFm1d9goQcM4WmV4c8oChGwAjMhnGg6Q7LDWILwZk/FTFm/pge/y6OY+wX3yLJc8V\n",
       "/fKGmSO0sY6SpVoAFl+OO3bcSLOvWD4Zo8w5W2T64ZAFhm4bgUhg6IxmaAYlkUSMnIjSgQR11TeO\n",
       "sFu2IJZksnx9gW5UQHpuBeyakp/tBqeXfdRhjlXcsnxVSBG2tukpEn/+Y3MkHjBN4jJU3q3ldbg+\n",
       "bRhg98DdTKEbFdGKlLZUDC9wKT7zBDnlq6xMLbSQ1S4ncdert47ptL/dYc5b1wddddMxd48kBtgN\n",
       "ePpw8Pyi4VfRs9GJ5BXxVYnKIcJ2ldzezutpxb5I4GJYStONxH067RR2mH4HbB+dGzUHKKLfxr2N\n",
       "HXDNGDX08IyGt1eQo3TjKIVVt561V35ewdAsYNsEd2c0PIR+j/U2Nhe4n/u9s4wK2quYmdV1Ddv/\n",
       "nmreKUxpnzQ+6L8aS84S1APsAo0jvxQvVyrWrdMztriqEwR+9LTjWw39V1v3G+63IaEKpGuTAAAA\n",
       "AElFTkSuQmCC\n",
       "\" style=\"display:inline;vertical-align:middle;\" /></a><br>(see <a class=\"ProveItLink\" href=\"../../../__pv_it/theorems/b90b140e676fe465c4489a8275cf759d50a726e70/dependencies.ipynb\">dependencies</a>)<br>"
      ],
      "text/plain": [
       "<IPython.core.display.HTML object>"
      ]
     },
     "metadata": {},
     "output_type": "display_data"
    }
   ],
   "source": [
    "%proving left_add_neq"
   ]
  },
  {
   "cell_type": "code",
   "execution_count": null,
   "metadata": {},
   "outputs": [],
   "source": []
  }
 ],
 "metadata": {
  "kernelspec": {
   "display_name": "Python 3",
   "language": "python",
   "name": "python3"
  }
 },
 "nbformat": 4,
 "nbformat_minor": 0
}