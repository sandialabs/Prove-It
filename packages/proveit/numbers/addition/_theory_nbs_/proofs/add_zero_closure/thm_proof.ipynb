{
 "cells": [
  {
   "cell_type": "markdown",
   "metadata": {},
   "source": [
    "Proof of <a class=\"ProveItLink\" href=\"../../../../../_theory_nbs_/theory.ipynb\">proveit</a>.<a class=\"ProveItLink\" href=\"../../../../_theory_nbs_/theory.ipynb\">numbers</a>.<a class=\"ProveItLink\" href=\"../../theory.ipynb\">addition</a>.<a class=\"ProveItLink\" href=\"../../theorems.ipynb#add_zero_closure\">add_zero_closure</a> theorem\n",
    "========"
   ]
  },
  {
   "cell_type": "code",
   "execution_count": 1,
   "metadata": {},
   "outputs": [],
   "source": [
    "import proveit\n",
    "theory = proveit.Theory() # the theorem's theory"
   ]
  },
  {
   "cell_type": "code",
   "execution_count": 2,
   "metadata": {},
   "outputs": [
    {
     "data": {
      "text/html": [
       "With these <a href=\"allowed_presumptions.txt\">allowed</a>/<a href=\"disallowed_presumptions.txt\">disallowed</a> theorem/theory presumptions (e.g., to avoid circular dependencies), we begin our proof of<br><strong id=\"add_zero_closure\">add_zero_closure:</strong> <a class=\"ProveItLink\" href=\"../../../__pv_it/theorems/fc7911c491335ff7252bb0c74cdaf0ab8a5110c10/expr.ipynb\"><img src=\"data:image/png;base64,iVBORw0KGgoAAAANSUhEUgAAAcIAAAAZBAMAAABQuDMuAAAAMFBMVEX///8AAAAAAAAAAAAAAAAA\n",
       "AAAAAAAAAAAAAAAAAAAAAAAAAAAAAAAAAAAAAAAAAAAv3aB7AAAAD3RSTlMAq1RmmUTNIjK7EInv\n",
       "3XZ/CtNrAAAACXBIWXMAAA7EAAAOxAGVKw4bAAAFRklEQVRYw92YfWgcRRTAX3b3br/ucuc/oVUM\n",
       "p2IM1IuH1YBF4kn9KJHi2fqP2kqoFD/AdgOiptb2IoKCaXMqpSZgXUX/0DTeJaFoUcNJkPgJZ4gV\n",
       "0YUtFaomllCplRMa583M5vZ270rWHKX64O0OM+/m5jfz5s2bBagvl1sG/Mel2Zo5X3MP/A9k7QUi\n",
       "NLg2UuQade9kWNM1zp9eKMLmBNOGSsj2/892kxX6h8njQUYYx9dVdQib8CWkVjyYNVwbKyd8NdcR\n",
       "QH3yTlJ6GXlTlPB2bHm4DqGEix5esXtpPUwbLGHTW/MJ0W0warASPEYJ+9Ftc3UIFVzhvhUPRUox\n",
       "9cjm2s5Xz2V8DWK6BqFYAj3HCW+ghDgReqLePsRZGF8xYYSrRzpqGgt2nV78DV/y3fe6dWyJUI2D\n",
       "UOaEERMJRTIz4bqRZm1DAk4b10YTPsTWdofpWsNYGpTTnDCcogTfWNZXdQkjlvVTYcWEd3GVLztp\n",
       "1yDsndwTiHDJfow+nzTdXponhH9wQj1OCTcAkNCqGTUJpSyoZkAecYK+XuqummvULYZa9hOGpuEN\n",
       "MwAhs8cBd4InTN4BsLcAyjmAeToS5oW9IBNUnf1cnj0CN8crhKSpN+iKDWDELjgzjDLDVJsCqQRa\n",
       "p4fwcAo2gvbRJeYyCak9HfC1nmNbnmKEf5MXhhahSAlVU2eJAOxffQCu0E3JdJ34w3AkABz2gDuu\n",
       "C+5z77zPmEoLEC3A/t9p3UbL+tqyviWluwF+BAnhiQnZFWTbxP3huNJA7akM4kMh1dYPFLCFgOQL\n",
       "ECJrqLUQRGWBEgo2DzTSBjz77bTuzmk6ggQa2gOSfQ4xw08YyUGejCHpWcMvQDsDsYz81zLXkNpT\n",
       "2UIP28pR9/wwjTQCiTT6dvTnIo+VXaR8nKcI7VfvqSIMi6RfbWLO2aYjXR/4/9upPMEjp1yGSMJF\n",
       "yL00b8Mt4CPUzoG4AKK5XEJmjwPmPZUqJiSTUXMglll2A0KJEY6TQ+/9mMnmol1/6wE3od5GTEeN\n",
       "QU6ofa+c9acsvJLPZicoZYimYOuSwSGm+QS0CIaP8DQ09ZBMWS8tk5DakwED3EQrTlWf+EWQyMA/\n",
       "ppEmxwh3E+feleQpQzukf3UTyp+Sx20YPfpwVqS0UoRNP2eqnRMrIcd7UB5BwogN4d8cgzGmqi3M\n",
       "Sn4vPQTJNMlO9nkiTR5TvT95wd1A7Xcl+QlE3CxRlbXNwOEsPy2kAiNsytKfiY8ODb1CCEfCVXeL\n",
       "VXQPHQcliSOIZJrjUNQWqlMWrMQpoz30X4peGkuAsMMx2MdUa/2w9xc/4ZtzL7RmQR72bLco5mSz\n",
       "TsHVwOzRL75ji7r6fjfh25OreAmimcrtSStnlQJbw1CH9/aknYVX34MoEuYNdZ1p4JK5hFausYH1\n",
       "QGaDRZrdSwbRLFMmyZo5zRPwVJCchgwYZO7XoaOurM3FCs+67odCTxroJN5IR+i5H04rZ9Yh4QhE\n",
       "jMHNJqgZUtQKzoNWXpkG1gNGmFNwj/u0wBS5kiYna2Xe8msvdgfJvHHA/mTeQ7jeRai1GtBHZlk5\n",
       "ZrBLYRXhvdfPpZBwIBFa3zFB06CBhDINAwY+WKVKft2X5YT6ZHdVJnqQK8ozOydrJeeLiwuBLmQ4\n",
       "YF/tvDu7YVcm9x1fOzp04Dx3fPRStqd103aKKKw0Kjg9tLnybS7vcm2sHPTV7HVGRdInEtmMQF8x\n",
       "lPlxCLFwt3Ox5BTReVhJXYqcW/2Ess20sd/R/Km0fCtDlMfwfTL4dxqxVlH0Xb0ZirLt4v/W9vi/\n",
       "/F76HH0+fXF8L536B5sTingHhsHHAAAAAElFTkSuQmCC\n",
       "\" style=\"display:inline;vertical-align:middle;\" /></a><br>(see <a class=\"ProveItLink\" href=\"../../../__pv_it/theorems/535b67cf79e8886941b15f8f142f4e56d3d3efe00/dependencies.ipynb\">dependencies</a>)<br>"
      ],
      "text/plain": [
       "<IPython.core.display.HTML object>"
      ]
     },
     "metadata": {},
     "output_type": "display_data"
    }
   ],
   "source": [
    "%proving add_zero_closure"
   ]
  },
  {
   "cell_type": "code",
   "execution_count": null,
   "metadata": {},
   "outputs": [],
   "source": []
  }
 ],
 "metadata": {
  "kernelspec": {
   "display_name": "Python 3",
   "language": "python",
   "name": "python3"
  }
 },
 "nbformat": 4,
 "nbformat_minor": 0
}