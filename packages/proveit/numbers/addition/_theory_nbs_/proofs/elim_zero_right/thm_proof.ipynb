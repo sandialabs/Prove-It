{
 "cells": [
  {
   "cell_type": "markdown",
   "metadata": {},
   "source": [
    "Proof of <a class=\"ProveItLink\" href=\"../../../../../_theory_nbs_/theory.ipynb\">proveit</a>.<a class=\"ProveItLink\" href=\"../../../../_theory_nbs_/theory.ipynb\">numbers</a>.<a class=\"ProveItLink\" href=\"../../theory.ipynb\">addition</a>.<a class=\"ProveItLink\" href=\"../../theorems.ipynb#elim_zero_right\">elim_zero_right</a> theorem\n",
    "========"
   ]
  },
  {
   "cell_type": "code",
   "execution_count": 1,
   "metadata": {},
   "outputs": [],
   "source": [
    "import proveit\n",
    "theory = proveit.Theory() # the theorem's theory"
   ]
  },
  {
   "cell_type": "code",
   "execution_count": 2,
   "metadata": {},
   "outputs": [
    {
     "data": {
      "text/html": [
       "With these <a href=\"allowed_presumptions.txt\">allowed</a>/<a href=\"disallowed_presumptions.txt\">disallowed</a> theorem/theory presumptions (e.g., to avoid circular dependencies), we begin our proof of<br><strong id=\"elim_zero_right\">elim_zero_right:</strong> <a class=\"ProveItLink\" href=\"../../../__pv_it/theorems/4719abd3480fde2fd7d0a3999c43fe5d37b4f4580/expr.ipynb\"><img src=\"data:image/png;base64,iVBORw0KGgoAAAANSUhEUgAAAKkAAAAVBAMAAADP89MSAAAAMFBMVEX///8AAAAAAAAAAAAAAAAA\n",
       "AAAAAAAAAAAAAAAAAAAAAAAAAAAAAAAAAAAAAAAAAAAv3aB7AAAAD3RSTlMAq1RmmUTNIjK7EInv\n",
       "3XZ/CtNrAAAACXBIWXMAAA7EAAAOxAGVKw4bAAACXElEQVQ4y4VVTWgTQRT+3N1k/5KakwhCCQj2\n",
       "oJYepGCEGqiiIMJCLh6KFHsQPW2Pgj/xIAhFGqGgqyALeilRk6qgpxAQL/5AFMXTwoqHeix6ECqI\n",
       "b3bGbHd3Nv3g253MvPfm5f0tMBKuoAz6CJ2RGKtySlEI5ftniRW22JujuF8wA7t3Avie48oUcJwt\n",
       "zsvPrXnOLM7hiYuiL1e7CFxnEWrJj7UpzhgN/lIHsFtQ63K1Q4gutHNCVxKMMclfZgXKJvA2R82H\n",
       "Sr4Uc8K6TzBjdWcdxk9gQa5WJJMfguBdjtVTgvqe9TBhtUNWfwFrmWKLBG2qgJPAvRyrC4JzrrmZ\n",
       "sHqtC+MvMB0FP4gQ1RIXVCnBi9AricJYGb8qlp84rdfQBhmrf4AD6ZrhgkqfIu/bjtg1vnmOddtV\n",
       "7ovfbzi1DZS7tDwdBO+D4COLQBcF8nU5XTNc0Nggy+EwWceaFJSnwJGk1VILHSedLYWyNZdOPhcs\n",
       "kK+Yn6FHe+Zl1BR4eCPucBGBToijqcqiYqUAHkzFVQgqLFzPqBesr8ZvrDKhiYn47gecnSp2Ke5W\n",
       "q2ofGqXkcMpXIaiyprpM12h1o88bp1aLpdY4zVD5rCV8pX/wuMmrbiuEoMaSsIPOS85YBdOe51Vv\n",
       "nomlbnFa468WfyStPurtpueXdA1wwfL/7Hdcs+YvRdOIsmWJ3XKTM9NbouYH8jK/Msyeu9zwTTaD\n",
       "9BcuemKXjY/kCGmkh48Ms8MJPDv5HPpdtmxfWBm6d0dQjks534jUBGx7npPYWBWUI+c+c7tPjB5y\n",
       "ymd+jvY68A/Dkp3ss1nNxgAAAABJRU5ErkJggg==\n",
       "\" style=\"display:inline;vertical-align:middle;\" /></a><br>(see <a class=\"ProveItLink\" href=\"../../../__pv_it/theorems/5451bad26a7d827231aaa1adc34cea85438081510/dependencies.ipynb\">dependencies</a>)<br>"
      ],
      "text/plain": [
       "<IPython.core.display.HTML object>"
      ]
     },
     "metadata": {},
     "output_type": "display_data"
    },
    {
     "name": "stdout",
     "output_type": "stream",
     "text": [
      "elim_zero_right may now be readily provable (assuming required theorems are usable).  Simply execute \"%qed\".\n"
     ]
    }
   ],
   "source": [
    "%proving elim_zero_right"
   ]
  },
  {
   "cell_type": "code",
   "execution_count": null,
   "metadata": {},
   "outputs": [],
   "source": []
  }
 ],
 "metadata": {
  "kernelspec": {
   "display_name": "Python 3",
   "language": "python",
   "name": "python3"
  }
 },
 "nbformat": 4,
 "nbformat_minor": 0
}