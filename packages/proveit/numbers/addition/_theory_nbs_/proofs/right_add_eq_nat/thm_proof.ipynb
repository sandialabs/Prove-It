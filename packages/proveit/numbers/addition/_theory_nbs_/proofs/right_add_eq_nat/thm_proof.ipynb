{
 "cells": [
  {
   "cell_type": "markdown",
   "metadata": {},
   "source": [
    "Proof of <a class=\"ProveItLink\" href=\"../../../../../_theory_nbs_/theory.ipynb\">proveit</a>.<a class=\"ProveItLink\" href=\"../../../../_theory_nbs_/theory.ipynb\">numbers</a>.<a class=\"ProveItLink\" href=\"../../theory.ipynb\">addition</a>.<a class=\"ProveItLink\" href=\"../../theorems.ipynb#right_add_eq_nat\">right_add_eq_nat</a> theorem\n",
    "========"
   ]
  },
  {
   "cell_type": "code",
   "execution_count": 1,
   "metadata": {},
   "outputs": [],
   "source": [
    "import proveit\n",
    "theory = proveit.Theory() # the theorem's theory"
   ]
  },
  {
   "cell_type": "code",
   "execution_count": 2,
   "metadata": {},
   "outputs": [
    {
     "data": {
      "text/html": [
       "With these <a href=\"allowed_presumptions.txt\">allowed</a>/<a href=\"disallowed_presumptions.txt\">disallowed</a> theorem/theory presumptions (e.g., to avoid circular dependencies), we begin our proof of<br><strong id=\"right_add_eq_nat\">right_add_eq_nat:</strong> <a class=\"ProveItLink\" href=\"../../../__pv_it/theorems/bae22536fdf274f8e0fcf63cef9033e2cb39c8bd0/expr.ipynb\"><img src=\"data:image/png;base64,iVBORw0KGgoAAAANSUhEUgAAAS0AAAAXBAMAAACsWwSiAAAAMFBMVEX///8AAAAAAAAAAAAAAAAA\n",
       "AAAAAAAAAAAAAAAAAAAAAAAAAAAAAAAAAAAAAAAAAAAv3aB7AAAAD3RSTlMAq1RmmUTNIjK7EInv\n",
       "3XZ/CtNrAAAACXBIWXMAAA7EAAAOxAGVKw4bAAADu0lEQVRIx81WTWgTQRR+u9k02U0acxJECQH/\n",
       "DlrNQQQ91EjVivUnWNCDYhc9CJ62R6WV6EXQipGCWg91K4KWikYFFYUSFfFfqigKGthipf5AKYIo\n",
       "PYhv9k2anXRWLRHxwbezuzPfzDdv3rwZgL9hFofUQn6MyXc1SYslCXILOnKG3LZxxNnHzOp0zePw\n",
       "sXdyhs8cU4SV7GNnVbIMk+BnNbaM4We7CPtYBOSq0qWlCJ6lE74CaRmjbM1C3SICm0wkWZWuKEfZ\n",
       "VDGkHsoYZVsg1tkuAii9prrwmsPhq2uHjOGnqyZFeFIsPqpOVxPHhcFzN5Oirtb+vfi8JGEYQyno\n",
       "EXWFpg8jLxInrAY4+Qcx9Iu6HRzpWEIbEHQF78EpXJbFbg9F1+KcEVELsEzUtdXSxzAaTUIrhOK+\n",
       "Q7Y3ZQK32Iv+C13PCQErMKakBF3nU7AOi/kSxn6cwjRBl3EH2LRQrwvdjmSkw4UHuzJq/Aas+Z2u\n",
       "u4QwaCZ3zNsn5JgNAG+wOCJh2FEHnuLrumLxcbH4jPFGoTaP3YwSVMcn7FdksbJeg/wf6sJt5FTE\n",
       "/QMwvrIFkjFa7PB3wV/RHFxEDwULBDDr8dFXf43VjTQO4eEUHATFTbqg7t/seHTFhvY2ls6LOMTF\n",
       "dcShLMP26jJ+QABnDnWV8cVar4JYQdB10XEDTh0gwGXMrsar8Dc2rjWtBnfUhSl2B/S6A2RvzPbo\n",
       "GlZy27UutE7DGQvzbqGb0JuZARHBX8YXUMy5AEsq/cUYR0GPi7qSMFW1IIBJngHasFpLu6MEoDuM\n",
       "xZ46+EhZWM1qsVxZV0p3snxPnx6IlU6JS4SFB9fCRnEdu6EunaYkIhhjLIeWlKBLd9QXuO21PAEU\n",
       "HCqaiZH4b+5zOiRgMbolqWaNvOmJrynjVxAlr5Si6TDhzIjakBR19Xw+kMDeX1bqYoye/g2WuB8T\n",
       "11s/ANRmCORDS1/KQiNccG9LL+E+HCJ/wUbHo6sDLFpHpEa566A2S/DL96GBSl3U+qo037dz0F6w\n",
       "jjTbfdAWMTXoA3gdHMX8wRY2A+RIV1eocBXS4123eM9l8WwWz23xlOaMiGnclp7bDRzUUcOCK9CR\n",
       "1N73f8ICZi0xIXSCOXwnv6GRv9ZvGSndWdSGY+NdHefwsd0Tfx2HWkfJS2+3uYn3Gx4dScPScYp9\n",
       "XV3lhDshf52FzvH3Xg4fk0juxcy4UtpYtwhe79u8UJxNE5pX/kgEy3e7kEPwuYFKruv+rYc5vKte\n",
       "KoL1+d/qav4M/4OF/vF4PwGXtwMyhAe6hQAAAABJRU5ErkJggg==\n",
       "\" style=\"display:inline;vertical-align:middle;\" /></a><br>(see <a class=\"ProveItLink\" href=\"../../../__pv_it/theorems/df150c25c8b29bd57ed96b07e72880ecda6682d70/dependencies.ipynb\">dependencies</a>)<br>"
      ],
      "text/plain": [
       "<IPython.core.display.HTML object>"
      ]
     },
     "metadata": {},
     "output_type": "display_data"
    }
   ],
   "source": [
    "%proving right_add_eq_nat"
   ]
  },
  {
   "cell_type": "code",
   "execution_count": null,
   "metadata": {},
   "outputs": [],
   "source": []
  }
 ],
 "metadata": {
  "kernelspec": {
   "display_name": "Python 3",
   "language": "python",
   "name": "python3"
  }
 },
 "nbformat": 4,
 "nbformat_minor": 0
}