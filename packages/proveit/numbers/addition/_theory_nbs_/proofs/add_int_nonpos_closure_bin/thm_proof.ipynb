{
 "cells": [
  {
   "cell_type": "markdown",
   "metadata": {},
   "source": [
    "Proof of <a class=\"ProveItLink\" href=\"../../../../../_theory_nbs_/theory.ipynb\">proveit</a>.<a class=\"ProveItLink\" href=\"../../../../_theory_nbs_/theory.ipynb\">numbers</a>.<a class=\"ProveItLink\" href=\"../../theory.ipynb\">addition</a>.<a class=\"ProveItLink\" href=\"../../theorems.ipynb#add_int_nonpos_closure_bin\">add_int_nonpos_closure_bin</a> theorem\n",
    "========"
   ]
  },
  {
   "cell_type": "code",
   "execution_count": 1,
   "metadata": {},
   "outputs": [],
   "source": [
    "import proveit\n",
    "theory = proveit.Theory() # the theorem's theory"
   ]
  },
  {
   "cell_type": "code",
   "execution_count": 2,
   "metadata": {},
   "outputs": [
    {
     "data": {
      "text/html": [
       "With these <a href=\"allowed_presumptions.txt\">allowed</a>/<a href=\"disallowed_presumptions.txt\">disallowed</a> theorem/theory presumptions (e.g., to avoid circular dependencies), we begin our proof of<br><strong id=\"add_int_nonpos_closure_bin\">add_int_nonpos_closure_bin:</strong> <a class=\"ProveItLink\" href=\"../../../__pv_it/theorems/2025e8da663aa9186ae9686f3fefae5845c22cf30/expr.ipynb\"><img src=\"data:image/png;base64,iVBORw0KGgoAAAANSUhEUgAAAN8AAAAaBAMAAADF8pQYAAAAMFBMVEX///8AAAAAAAAAAAAAAAAA\n",
       "AAAAAAAAAAAAAAAAAAAAAAAAAAAAAAAAAAAAAAAAAAAv3aB7AAAAD3RSTlMAq1RmmUTNIjK7EInv\n",
       "3XZ/CtNrAAAACXBIWXMAAA7EAAAOxAGVKw4bAAADt0lEQVRIx71WW2gTQRQ92U2ym002rYoPLEhA\n",
       "PxShRCiCIjXSFquiRhRBLDbaD2nxY6t+1pqKfxasFR/xxfoj1IItPlAKSlHE1gdGUBRhIfWnvij9\n",
       "USGIeGc2WbPbbJtWdGB2d2Zn7uPcc+8M8D+acA7BB/0z2CjGZ6bvClCNXfBOe+eSGekTT9NjCGWa\n",
       "1DXNnUqCHpLbX81lPtzNdmURipCb02uBKD0+uP3d4wTywM9m41JUfsgGchZqFKoOlLPh4tIUtjEx\n",
       "xWKvXEqTJ1GHZ6eSSPiBZQOmwlAGYdJWx/7tL03hJurXiv7xx+jRYp/zxsiGm/Sxa4BDWhaBkgU6\n",
       "GMAlBvMb9RrbzPbcm4QBVfbVHg09Cpfcsd4kDdBEthGswUhJ+ggWYNA2VZl7N5IUhHRz8MkwGLsU\n",
       "oN6T5DOtCzGGbfSxgThLyPtLczBMgRISRRXe57iaQdz52bKw/LjF4OCDjfT+Sv2FYTwrTaGHlHkZ\n",
       "Z6SK0Yxd4d6x2QQUJ6D0J5QB/YJDBEOiHrgwSeoVZkVXzosGLZC1KVS+630aRO69/08+LhczDnEn\n",
       "CeJWSOXuRWIB2ivzEvy0TqVwK4/gTdsUCpz0Ao9vQXxYUkBOUTuXmzkaZ34HrQopN+fRG759kZje\n",
       "W8/Ing+bSjMhWusdh8qQ3WwYzw3jFcuABMr6IY+zVZ0GNU7OcOQOoNsc6KPtQqbApgqmdSQVV7Xg\n",
       "DR2H75I7g3ha4CFTGOriGws8JP2NEfi4hz2WsB6WbvNtCo8y1iYKKtwQ9VqaFHHsEKQ3jANpvHNA\n",
       "2pfBWjtLKQ236hA4zqolbAFlojJujyELz01Gq97qu8y5XyN6rkLFCD9xLvfwSR5nMjhANOiLYJ6g\n",
       "2RQmKa4QTSDzRJFjO2hPegJL0UaGK2/lH2zx+3DMhEQ8yJwX5hAAVgzDgyb1AxnhtdfmoScaiOVS\n",
       "BthnJUULpG57EVvDVydZ3ZMH+XEgJsxqdSNoWlmH9sV5lvooF2SyWFl0r/WjPS0qWMVTzcBePWMS\n",
       "peHscOrlsL3Wr8t/hOKskCOU9JavJBZH0D+A6xOS5DH1d0UrDW9Hcu/dl42ES5o1WXTVAqvJrjI6\n",
       "JU9wZ5ZGMSDV1tbWOU+LqqLFm7eaqU/wrOWhdnK73ksH5CqCnsZBL3zpCes7GepuB3spZ45olRhf\n",
       "TeUtdEbkLRlI52m8YtaXsxPrj4eVGVex7qZYTXUsMU+p3lQqPsmdpt1N2ujU5d9xp/HpU21Y/nfX\n",
       "Uyfo4r+6l1qXDvLoNzT32v/paIvpAAAAAElFTkSuQmCC\n",
       "\" style=\"display:inline;vertical-align:middle;\" /></a><br>(see <a class=\"ProveItLink\" href=\"../../../__pv_it/theorems/5f0ce43daeafbf145c9a2762eb862bdb849de08a0/dependencies.ipynb\">dependencies</a>)<br>"
      ],
      "text/plain": [
       "<IPython.core.display.HTML object>"
      ]
     },
     "metadata": {},
     "output_type": "display_data"
    },
    {
     "name": "stdout",
     "output_type": "stream",
     "text": [
      "add_int_nonpos_closure_bin may now be readily provable (assuming required theorems are usable).  Simply execute \"%qed\".\n"
     ]
    }
   ],
   "source": [
    "%proving add_int_nonpos_closure_bin"
   ]
  },
  {
   "cell_type": "code",
   "execution_count": null,
   "metadata": {},
   "outputs": [],
   "source": []
  }
 ],
 "metadata": {
  "kernelspec": {
   "display_name": "Python 3",
   "language": "python",
   "name": "python3"
  }
 },
 "nbformat": 4,
 "nbformat_minor": 0
}