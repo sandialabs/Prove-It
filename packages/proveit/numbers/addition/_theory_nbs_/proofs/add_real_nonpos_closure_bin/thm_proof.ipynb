{
 "cells": [
  {
   "cell_type": "markdown",
   "metadata": {},
   "source": [
    "Proof of <a class=\"ProveItLink\" href=\"../../../../../_theory_nbs_/theory.ipynb\">proveit</a>.<a class=\"ProveItLink\" href=\"../../../../_theory_nbs_/theory.ipynb\">numbers</a>.<a class=\"ProveItLink\" href=\"../../theory.ipynb\">addition</a>.<a class=\"ProveItLink\" href=\"../../theorems.ipynb#add_real_nonpos_closure_bin\">add_real_nonpos_closure_bin</a> theorem\n",
    "========"
   ]
  },
  {
   "cell_type": "code",
   "execution_count": 1,
   "metadata": {},
   "outputs": [],
   "source": [
    "import proveit\n",
    "theory = proveit.Theory() # the theorem's theory"
   ]
  },
  {
   "cell_type": "code",
   "execution_count": 2,
   "metadata": {},
   "outputs": [
    {
     "data": {
      "text/html": [
       "With these <a href=\"allowed_presumptions.txt\">allowed</a>/<a href=\"disallowed_presumptions.txt\">disallowed</a> theorem/theory presumptions (e.g., to avoid circular dependencies), we begin our proof of<br><strong id=\"add_real_nonpos_closure_bin\">add_real_nonpos_closure_bin:</strong> <a class=\"ProveItLink\" href=\"../../../__pv_it/theorems/3f118a02ae2f6d85b2a859cf944edeaca34ec2b30/expr.ipynb\"><img src=\"data:image/png;base64,iVBORw0KGgoAAAANSUhEUgAAAOEAAAAaBAMAAACzyCaTAAAAMFBMVEX///8AAAAAAAAAAAAAAAAA\n",
       "AAAAAAAAAAAAAAAAAAAAAAAAAAAAAAAAAAAAAAAAAAAv3aB7AAAAD3RSTlMAq1RmmUTNIjK7EInv\n",
       "3XZ/CtNrAAAACXBIWXMAAA7EAAAOxAGVKw4bAAADr0lEQVRIx71Wa0gUURQ+7c44M/uYXZKkFGRB\n",
       "CKI0QRKUsJVW7QGxJQSi0JZBJBEj9CcIHxD0I2MXe2xrJCNEEBvslpHhj5CiksKQUIpyakToIRXh\n",
       "j6wNonNndteZ2Z1cF+rCvXOf853Hd869AP+lWMJgvx/P5+SWPAEHAeqgBaiVn/TmBWg9j804uAQm\n",
       "tNKj10kjmCwyZqf4frKaAIcHFV1hIbLyHpNFWjZodizyfQZPsA/IiE2AsxKcIoCbDMtyA2TGsNmY\n",
       "beXGBDZzhkmOcdOFAwAbRlVEhww8wjWQtSO5IVLINlsg69JhrAWiETEOoV7stIwqVnV5wJYAIDO5\n",
       "OtTlR9RKnSVTowViRm8mYlMB6fU2qcwBaFcFs3tyQwziXoeevEnf0QnSPlUHnyQpkEbklKnOYvgK\n",
       "e7GzEwVDKQtyJM4XrOuzItonSduu9PfPa3QsHlL7AmaAXfj9jHVCkp7liFiEdTfxQskHWY9YUDqL\n",
       "drql0KtDY1W230CRA2imHQAD5iA27SCS1KNN4BJ6xFiHbRGgWgEXlhAfv3trYFOwB00MjNs8W6yF\n",
       "ror0Lw5ifYFSPARqUo+4WYTnAJsURA1zhmvRoWwESzg5143k40S7P7WHPZrslN+tP46fKBqgA9Lx\n",
       "MIX1EdL1GzhJVqYkaQZ9QuRtBPiFCpBNfRKWUNKqA1UGFWJ+IqaGOCUEdjbi5+0wEocTI6jQWIqC\n",
       "qo6I6AgpB7U6vgEa46NNSQba6DjNGazajVaFgCbZjWP14STPQ63MTBMiTMIrg1VjMmwzcHUBKPRs\n",
       "Oek6tYjUGUOoB4mLbhNyRetGiHq/Z0WeBDUiznvBukbR8Ulq+zqseO/EPFBkEXSIP+AmHqtR8ras\n",
       "QbSF5jK5CqfQEbaX7CLZ/Zr3Klbh7cwg/sJSiCZY8iMJJowATrZMUXodC+FCMnIADi0heqGK8+sQ\n",
       "t5JmFVqR8rIkS3OV1kCzgkhdUczBNkBXmaAV8ByKV3qv86MecegOscy02r8opu6OnwJ3aUGHWJ/q\n",
       "OPwkq4Ojh3JXI5c9PG/flxkrDpTX2ZMt56hXSzJkWq9KAbNwa0+TVuBqUTIX3ppnFR15ulVkfD5f\n",
       "g/Hu0KdrWpvX9Uk+e0JJpKUXgs1iFC/MGlD4jNExmvnCUCwfNv3dyRzeH+lkQ2+vGIY+D7tHBuYy\n",
       "ycbv49caMw+s1sWbsYSXR3QanizqpRWNRPx/eecwstlzRlge0fDOocVl33J5PTk13DLkA+s/e6+m\n",
       "uYU6/QG8q+sjPc/u1QAAAABJRU5ErkJggg==\n",
       "\" style=\"display:inline;vertical-align:middle;\" /></a><br>(see <a class=\"ProveItLink\" href=\"../../../__pv_it/theorems/368fa7ac98737f48fe3c9dd60d4e171683a888700/dependencies.ipynb\">dependencies</a>)<br>"
      ],
      "text/plain": [
       "<IPython.core.display.HTML object>"
      ]
     },
     "metadata": {},
     "output_type": "display_data"
    },
    {
     "name": "stdout",
     "output_type": "stream",
     "text": [
      "add_real_nonpos_closure_bin may now be readily provable (assuming required theorems are usable).  Simply execute \"%qed\".\n"
     ]
    }
   ],
   "source": [
    "%proving add_real_nonpos_closure_bin"
   ]
  },
  {
   "cell_type": "code",
   "execution_count": null,
   "metadata": {},
   "outputs": [],
   "source": []
  }
 ],
 "metadata": {
  "kernelspec": {
   "display_name": "Python 3",
   "language": "python",
   "name": "python3"
  }
 },
 "nbformat": 4,
 "nbformat_minor": 0
}