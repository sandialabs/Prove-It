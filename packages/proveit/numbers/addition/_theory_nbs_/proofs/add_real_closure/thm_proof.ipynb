{
 "cells": [
  {
   "cell_type": "markdown",
   "metadata": {},
   "source": [
    "Proof of <a class=\"ProveItLink\" href=\"../../../../../_theory_nbs_/theory.ipynb\">proveit</a>.<a class=\"ProveItLink\" href=\"../../../../_theory_nbs_/theory.ipynb\">numbers</a>.<a class=\"ProveItLink\" href=\"../../theory.ipynb\">addition</a>.<a class=\"ProveItLink\" href=\"../../theorems.ipynb#add_real_closure\">add_real_closure</a> theorem\n",
    "========"
   ]
  },
  {
   "cell_type": "code",
   "execution_count": 1,
   "metadata": {},
   "outputs": [],
   "source": [
    "import proveit\n",
    "theory = proveit.Theory() # the theorem's theory"
   ]
  },
  {
   "cell_type": "code",
   "execution_count": 2,
   "metadata": {},
   "outputs": [
    {
     "data": {
      "text/html": [
       "With these <a href=\"allowed_presumptions.txt\">allowed</a>/<a href=\"disallowed_presumptions.txt\">disallowed</a> theorem/theory presumptions (e.g., to avoid circular dependencies), we begin our proof of<br><strong id=\"add_real_closure\">add_real_closure:</strong> <a class=\"ProveItLink\" href=\"../../../__pv_it/theorems/78d9a0ea1b07b4e99430e26e4811276179c449c80/expr.ipynb\"><img src=\"data:image/png;base64,iVBORw0KGgoAAAANSUhEUgAAAaAAAAAWBAMAAAB0/FW2AAAAMFBMVEX///8AAAAAAAAAAAAAAAAA\n",
       "AAAAAAAAAAAAAAAAAAAAAAAAAAAAAAAAAAAAAAAAAAAv3aB7AAAAD3RSTlMAq1RmmUTNIjK7EInv\n",
       "3XZ/CtNrAAAACXBIWXMAAA7EAAAOxAGVKw4bAAAEi0lEQVRYw81XXWgcVRQ+2Z3d+dtMA4JghbAq\n",
       "aqBNCNQWDFJH6k9AiqEBX1JksQ+lRezkMdXWrRQqGNOlEutUjBPxpayajaVWhZaA1GKrNC3Rlraj\n",
       "ExRrI4FQaMU+GO+9587Oz861s3YfPHA2Z86ZzHzfPWfOPRdAKIsX4U7F4tpSET1Qvh3mo3f8aqOI\n",
       "2lp5IXadfcm+eeVtgJzHQHdQ3wPJhMSxdLKKa2vF6I05VLkjd9chgF8Y6Keoa2syIXEslWgl1FbL\n",
       "9gZCNajsAcg7FPQeWn2VZELiWCqRelFjMph896DoMQ2BRxIIPZMntWdS0JSWXkwmJI6lkgLXmPQk\n",
       "390jekxDoODg32uuW6oTUolxmoLOkiXMC5qCOJZKHuLaakJ5zPrzC6EMrZwkxhbWyb533TOiLieM\n",
       "pZJnucr3XvUSAArcQkLDJ3ajobNmJW8PlZxygH7q0wx0PwDpEJqVRAhj/1W2cN1sqbcSAArcIkK5\n",
       "U/CBw3BmWaHlrYDQNz//RMtwHQM9DDJhrONiyXNH4bGOOiGMNSPdnz/xsm+fR9W+BmkWtHUxgOiu\n",
       "Tq9MSejjXtiIODMzjFCoKRzpYxxXM9Cqow9gYOyecbhPdySnTiiIpRFl3h4wdDhW49cnUaUlaK/B\n",
       "2CLzbXTd71z3HPhuk6IMu2MSBJ4DuMzfs0R/R10iFV5yh9ZQYz8DnfE4V6mfbqOeqQclV4+lkifL\n",
       "ZNczoM+LEipUYIosS3dsxdF9A14rp8vQt6Dd4MXHMnQ43Lb3qjQLm3G8Ka0n98zjRgtdD+4OEWIx\n",
       "qK4/5v9vyAyEO9kOTggtmNGSm/LgcWgkhO6+tIS0vyG7xHBCZpY62sOEpH0VfAUF/RlpF5+ucDSW\n",
       "vi79w6EQIRrTLih/+nt/YIYGAu5kS2bo8oS/l06gThXh7ozVSAjdcDzdN6Rdh7bSwwQnaQoMqeGF\n",
       "CGkVmo5HEfSr5Lvf2Q05hqMLzGshQjQmmcoMyKzbMXPTr9Hvijmhgju6Ib1XHy2mUVUvMyc1Zoi7\n",
       "lUuxXnGTki1xIxSYgG7T3EmfIuFH+mJAyIQ16gDbIyjotjK7PbvNtg8QQtV8iBCNFQaMDnidvZeZ\n",
       "M9pSdOOmTto0bdsuGoa+yQ+8hap1fjH8eyMh7h5xYhmao+VkciMUmPxjX2eZZb0dF3Ry3PGn7b8s\n",
       "9Z3rAD8ERwTtVlmpYYZyPbHjw5Sl9jlwqW5aykyEEHOu8uBNliEjN+RDbC+j8oaeuOHIpmw1MSkQ\n",
       "nAC7+MXQ+25k9JVnA9CZkolb6FqA+RihgrV/kBGqcpNktwpazf9hzvtNYI2GtO2v/KZAh8Ws2UAo\n",
       "MmyOvLHXaWI4pThhw78Mw/UMdVowQsgrP1rQFiOU29BzBCih0SKa/dRUTsGoRX/QqZZBfpcOWL/V\n",
       "Pnraf8NBrlRe2XEiCcTZ5eWmTiQEp3D+H4mdSrUv7XHxiZWWHA7euuP5JtSdn2RIBm072i4OR7aL\n",
       "VokqOoMfvM0x+3j4fD52pgg5LI4dy7O+SfOHlrqQdMr3UFsrV0UnWUJ08WQzT8ommVn4f8k/cuhn\n",
       "aFZUJCEAAAAASUVORK5CYII=\n",
       "\" style=\"display:inline;vertical-align:middle;\" /></a><br>(see <a class=\"ProveItLink\" href=\"../../../__pv_it/theorems/0ea6d9518f7fda6aa296b0d5ecd48d9e745d95f30/dependencies.ipynb\">dependencies</a>)<br>"
      ],
      "text/plain": [
       "<IPython.core.display.HTML object>"
      ]
     },
     "metadata": {},
     "output_type": "display_data"
    }
   ],
   "source": [
    "%proving add_real_closure"
   ]
  },
  {
   "cell_type": "code",
   "execution_count": null,
   "metadata": {},
   "outputs": [],
   "source": []
  }
 ],
 "metadata": {
  "kernelspec": {
   "display_name": "Python 3",
   "language": "python",
   "name": "python3"
  }
 },
 "nbformat": 4,
 "nbformat_minor": 0
}