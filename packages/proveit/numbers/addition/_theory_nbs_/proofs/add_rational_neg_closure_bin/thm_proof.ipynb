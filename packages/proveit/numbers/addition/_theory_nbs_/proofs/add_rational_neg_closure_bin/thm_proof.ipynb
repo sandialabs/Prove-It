{
 "cells": [
  {
   "cell_type": "markdown",
   "metadata": {},
   "source": [
    "Proof of <a class=\"ProveItLink\" href=\"../../../../../_theory_nbs_/theory.ipynb\">proveit</a>.<a class=\"ProveItLink\" href=\"../../../../_theory_nbs_/theory.ipynb\">numbers</a>.<a class=\"ProveItLink\" href=\"../../theory.ipynb\">addition</a>.<a class=\"ProveItLink\" href=\"../../theorems.ipynb#add_rational_neg_closure_bin\">add_rational_neg_closure_bin</a> theorem\n",
    "========"
   ]
  },
  {
   "cell_type": "code",
   "execution_count": 1,
   "metadata": {},
   "outputs": [],
   "source": [
    "import proveit\n",
    "theory = proveit.Theory() # the theorem's theory"
   ]
  },
  {
   "cell_type": "code",
   "execution_count": 2,
   "metadata": {},
   "outputs": [
    {
     "data": {
      "text/html": [
       "With these <a href=\"allowed_presumptions.txt\">allowed</a>/<a href=\"disallowed_presumptions.txt\">disallowed</a> theorem/theory presumptions (e.g., to avoid circular dependencies), we begin our proof of<br><strong id=\"add_rational_neg_closure_bin\">add_rational_neg_closure_bin:</strong> <a class=\"ProveItLink\" href=\"../../../__pv_it/theorems/ee0fcb88f8b101e4e1acb71a1d8aa26c77a34d2c0/expr.ipynb\"><img src=\"data:image/png;base64,iVBORw0KGgoAAAANSUhEUgAAANMAAAAZBAMAAABZWgY4AAAAMFBMVEX///8AAAAAAAAAAAAAAAAA\n",
       "AAAAAAAAAAAAAAAAAAAAAAAAAAAAAAAAAAAAAAAAAAAv3aB7AAAAD3RSTlMAq1RmmUTNIjK7EInv\n",
       "3XZ/CtNrAAAACXBIWXMAAA7EAAAOxAGVKw4bAAADaElEQVRIx61WXUgUURQ+zuw4/6v1EIEREwYF\n",
       "gSwmURK2oZEV2YYRSaFrPUS9NEZvWW70EijpQ38bBdNLYT7skoFBBEIERQUKQhEMjEFYEeFLBvsQ\n",
       "nXtn9u7M7C7uihfu/Nw5d757zvnOdy9AxY1PwIpbpDrzzStHAnGsGmslSaaU+2ouM7utGig5hpev\n",
       "5b72Fo1MpNP7C2+6BVBPHhorgBrEzmVLuftgBiAaC41GN6TE2YJ5FHH2kYezFUAdwv645JfaOF7O\n",
       "hwYnJwGO9YCUxnYX15MDuFZp0v5gbw+MdHv3OgMvLUFrKYuplXmHDZzBJWEQVWN5JAmXBdOBoSbv\n",
       "3oe/AM1yX37YNuGP/BQjpqaSzPgAVgsGubYCp6KYEC5ZEuoVjaKbrOM/3bFxCR3ijE5m/Av7R9t+\n",
       "XwFUDcJESJrFhgUnCNX/ey16QPkl5lM2LCC0EGtm84nrCHy/LECBQvKYt/JTppwLQClLVsYEnnpc\n",
       "m6+vXh6TIjkFao+mAAZArC8LFS/QDI10nK68hshMAIrLgeYAR/PIUnGZo159Y/OHUNZkS2XiJp1j\n",
       "BXhrjRmA0vFRQ8PIIujE18O2/cG2Z4m+JaEuC9IisRqxsRE+y26uDrL5GZzLOT5WNBC8+XRCfAlq\n",
       "c5FXBEobo7N8XiFynwEC9WqcxftJiIFDGEBI+vTpLfYOHFQvgrLdfN4x15EIBTDjwJ4gA7GsjljA\n",
       "0ajq+R8Jbl0VqmiUBOkZYc1E2xRx6N+8RSXmxhYAx/F7VYNhkXEkY8A6zgxApTB/wFMZiLKabUe1\n",
       "ONoDAQbCIK5X+ST9JZZfonEag9ZYGCo67RJadri5SMCrmpgc9woB4HTeXiUaWJgOu6kpBiwSl6ap\n",
       "evNJKjcExsn6oQRkuIRBUja+GPgeJHsD0SvdjfSj255qwKWlC50+Lu/NP2gJIr2gpSL1O1AfjRNe\n",
       "AH1K/gb755JqQdsV737yoe1xYb1PAakGelQ05VZcTh1oxjB1n9KiSNlbSsqtm5tifXHmt7IyUnLM\n",
       "K3O025rADWwX1hklPKihTWyEBNisZkffdOcd28V4JhNCe9MkjBhSlwPiPVrCc/2p0CKJVJTdbeRl\n",
       "dnw99N3I79To99T1UmeLq+V+tVDd2UKw/Mepxq7QYWzbKp6Y+MDbzZ2reQ5EL/4DrP7OZN4asNsA\n",
       "AAAASUVORK5CYII=\n",
       "\" style=\"display:inline;vertical-align:middle;\" /></a><br>(see <a class=\"ProveItLink\" href=\"../../../__pv_it/theorems/138bc46c75a5265441364bc6f9f3b944a8c5a1310/dependencies.ipynb\">dependencies</a>)<br>"
      ],
      "text/plain": [
       "<IPython.core.display.HTML object>"
      ]
     },
     "metadata": {},
     "output_type": "display_data"
    }
   ],
   "source": [
    "%proving add_rational_neg_closure_bin"
   ]
  },
  {
   "cell_type": "code",
   "execution_count": null,
   "metadata": {},
   "outputs": [],
   "source": []
  }
 ],
 "metadata": {
  "kernelspec": {
   "display_name": "Python 3",
   "language": "python",
   "name": "python3"
  }
 },
 "nbformat": 4,
 "nbformat_minor": 0
}