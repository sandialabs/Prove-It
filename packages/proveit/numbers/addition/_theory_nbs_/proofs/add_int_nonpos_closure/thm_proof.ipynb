{
 "cells": [
  {
   "cell_type": "markdown",
   "metadata": {},
   "source": [
    "Proof of <a class=\"ProveItLink\" href=\"../../../../../_theory_nbs_/theory.ipynb\">proveit</a>.<a class=\"ProveItLink\" href=\"../../../../_theory_nbs_/theory.ipynb\">numbers</a>.<a class=\"ProveItLink\" href=\"../../theory.ipynb\">addition</a>.<a class=\"ProveItLink\" href=\"../../theorems.ipynb#add_int_nonpos_closure\">add_int_nonpos_closure</a> theorem\n",
    "========"
   ]
  },
  {
   "cell_type": "code",
   "execution_count": 1,
   "metadata": {},
   "outputs": [],
   "source": [
    "import proveit\n",
    "theory = proveit.Theory() # the theorem's theory"
   ]
  },
  {
   "cell_type": "code",
   "execution_count": 2,
   "metadata": {},
   "outputs": [
    {
     "data": {
      "text/html": [
       "With these <a href=\"allowed_presumptions.txt\">allowed</a>/<a href=\"disallowed_presumptions.txt\">disallowed</a> theorem/theory presumptions (e.g., to avoid circular dependencies), we begin our proof of<br><strong id=\"add_int_nonpos_closure\">add_int_nonpos_closure:</strong> <a class=\"ProveItLink\" href=\"../../../__pv_it/theorems/8d0fd5c97ec22e378f7420380f9df637e626ef780/expr.ipynb\"><img src=\"data:image/png;base64,iVBORw0KGgoAAAANSUhEUgAAAc4AAAAaBAMAAADMEKEOAAAAMFBMVEX///8AAAAAAAAAAAAAAAAA\n",
       "AAAAAAAAAAAAAAAAAAAAAAAAAAAAAAAAAAAAAAAAAAAv3aB7AAAAD3RSTlMAq1RmmUTNIjK7EInv\n",
       "3XZ/CtNrAAAACXBIWXMAAA7EAAAOxAGVKw4bAAAFkElEQVRYw91Ye2gcRRj/srd7u7d7d01AbIo2\n",
       "pD7SlJpwtWppkbrQFGpL6WH9S6uc+IcoKhcoSkobr1hQIZpDCZrE6raCr7Qm9qGmgVIbaqjPU2Nj\n",
       "1YVtFGobKaEQU+IjfjOze9lncydrFBdu9rvv5mbm9z1+880A/F+fJVkYGCup50I9G960kfQcwzQg\n",
       "Ygh5UFFO6l9drmsmzHmvm1uYK1MA8RxMQgv9unyucMpkMDFsNIEDnqvF5gkNjqNT5xRnDO0Lo2Hj\n",
       "FAyXou6Lj3afHoQ2AhPaNfga4DuGs5K8rg3AWUFeXCqEFW0nA/WFHp4/uv1YDVFcN9etMZyfA5xh\n",
       "ONeS1wMBOHlCHtEw2GgDfl4PPw2jmvN7E0JX0JkCAYpxexGgV6M4d5IwzwfglIi3W8JY0AR+1njj\n",
       "zj9UhKAI2uxhcdX5fT7I+beIIF2RZTwE0RTFSSyi1Abl50P4OhACTGkKm2MeNWf49g5QAzR6NB+z\n",
       "V3K3foq8NeBz1YyiqrSkIaCf+DzFGUG40UAeWh4SHSULuPrMP4DzfhYAjxbjd6ekFrl44CdUJ48x\n",
       "vv1M1z8JxBnX9R/CYI8KHIsnAzUfbfUDFKAOwileddbs8i5tH5tJ066YK2WFKYZzHf6G+1vWFyef\n",
       "A/f/Sn7s/4vlWaIIQ/Cq5gUUoA7EuSUbw9W/gdIt4ORRrm+1O2UuMZzNIGIUK2xocfgw3Fo5gxN/\n",
       "av6bMJflxNGzRV7EMRPIAvtSsBHgtYwLEFXLA1VaaTjlQeAxEY6ieINrp49S+ZlOfEzPiRMMZ0xT\n",
       "zNLzuQUdsEjReM1WJ3TB4TLxXd19+yFcyqEcUlwx8ROYNHGcZhPA9yBdKBAdjzmBSUOsStU8Xbxd\n",
       "7Xw26vqnuv4l6TIOCTOb2qnLsL9+mn4fRTCysxIzcXKGuRp+HakYDFWx10ONZdEQsdQIHDkP4ga0\n",
       "5j6IazZ/Epwn6bRcweVPqp6XFi+V5s94HnpN32yhUIr7opzHXbDCkYOiGbeQwYgWzpi1Rf31rQ6c\n",
       "0YhROkxqqZS0OAU7yDJ2QCLnjFv5T4iMe3EydUQrFWevAbcB3Etc3kAVhSLf5ebjz878nDRxHsBN\n",
       "8p15GjNKvbL3bjtOpQ5dIh8cs0xkE2eentXv26ownifZmab+tPpW4OAxA+SLyLyLvTiZGpRCiThr\n",
       "4Upum0GIdCVVXLA67BIwQRb68i1sR7tsazCLkHpQz9lxih9isz/bbi3YJs5kwAi1mRU+K+pJuyiF\n",
       "nFDMT7KJKTjPK9Cgqt64ZWp41slD8q9W05tx4IwZ3DAv7i2Y9SSGi1XodGHZ07LEWTKZ+yf6ms4U\n",
       "ebCz83nE2RN1nFeqadXYhuWfBqYoNK51hqsq4Vh501KywShiV1ocXWE3qoTr2jP2VE3Oi5OpxS6X\n",
       "ethqEqqTb2s+aP6ZxAfAN0yx4C42zcmHO1/+vdu5ukrbuUyeykl9zJ9Co+dcdgKLfqlBs8S4KwPi\n",
       "6SRlR2YpRdFk75Z7Aj/fFje5gu9GuRUeL6ce6n0Tw80cSehndZ9fqZ+y4eQyKlBr3mweZOw45Ul4\n",
       "4W1IaJYoEvfaJ8zGVmlLDWCWuuNJULStTU1Nafd55SYPTkfBLr709Ppy6vg65AF+9jOjeV6xIiEL\n",
       "LRi/0qksO3Q6/DkkTawiOOU+JkIHEXtY04Ns075Zu0YFZqk+Fe7xzkYsE7N27vd+83NYfHp6vJyN\n",
       "es/Zks5Sy9z3CXJ/Z4f/fcKdN46lCE7pOBOxGkSxLSsNYdNWK6xpPAgxtBKxVKSqpv8+nwK31r7N\n",
       "hfa8OHuXkTLvTUjcckw8kiyK+DCu28/5WMp1P9QaNszk7FcA5d4PSb/gOZSxWnT6D0skycRIJ3b+\n",
       "8vMt/ZeucUu473vEc3+b8hEj/837W+tZT+9vB/8CP4WcnKMCnrQAAAAASUVORK5CYII=\n",
       "\" style=\"display:inline;vertical-align:middle;\" /></a><br>(see <a class=\"ProveItLink\" href=\"../../../__pv_it/theorems/5a701740a82b12402432d4aebf389a63b15d33890/dependencies.ipynb\">dependencies</a>)<br>"
      ],
      "text/plain": [
       "<IPython.core.display.HTML object>"
      ]
     },
     "metadata": {},
     "output_type": "display_data"
    }
   ],
   "source": [
    "%proving add_int_nonpos_closure"
   ]
  },
  {
   "cell_type": "code",
   "execution_count": null,
   "metadata": {},
   "outputs": [],
   "source": []
  }
 ],
 "metadata": {
  "kernelspec": {
   "display_name": "Python 3",
   "language": "python",
   "name": "python3"
  }
 },
 "nbformat": 4,
 "nbformat_minor": 0
}