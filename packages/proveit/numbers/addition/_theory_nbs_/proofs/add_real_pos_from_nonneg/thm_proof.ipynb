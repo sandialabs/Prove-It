{
 "cells": [
  {
   "cell_type": "markdown",
   "metadata": {},
   "source": [
    "Proof of <a class=\"ProveItLink\" href=\"../../../../../_theory_nbs_/theory.ipynb\">proveit</a>.<a class=\"ProveItLink\" href=\"../../../../_theory_nbs_/theory.ipynb\">numbers</a>.<a class=\"ProveItLink\" href=\"../../theory.ipynb\">addition</a>.<a class=\"ProveItLink\" href=\"../../theorems.ipynb#add_real_pos_from_nonneg\">add_real_pos_from_nonneg</a> theorem\n",
    "========"
   ]
  },
  {
   "cell_type": "code",
   "execution_count": 1,
   "metadata": {},
   "outputs": [],
   "source": [
    "import proveit\n",
    "theory = proveit.Theory() # the theorem's theory"
   ]
  },
  {
   "cell_type": "code",
   "execution_count": 2,
   "metadata": {},
   "outputs": [
    {
     "data": {
      "text/html": [
       "With these <a href=\"allowed_presumptions.txt\">allowed</a>/<a href=\"disallowed_presumptions.txt\">disallowed</a> theorem/theory presumptions (e.g., to avoid circular dependencies), we begin our proof of<br><strong id=\"add_real_pos_from_nonneg\">add_real_pos_from_nonneg:</strong> <a class=\"ProveItLink\" href=\"../../../__pv_it/theorems/f0e530d2ee8b41af7baae3f171340c02672423340/expr.ipynb\"><img src=\"data:image/png;base64,iVBORw0KGgoAAAANSUhEUgAAAzQAAAAaBAMAAACTEgSfAAAAMFBMVEX///8AAAAAAAAAAAAAAAAA\n",
       "AAAAAAAAAAAAAAAAAAAAAAAAAAAAAAAAAAAAAAAAAAAv3aB7AAAAD3RSTlMAq1RmmUTNIjK7EInv\n",
       "3XZ/CtNrAAAACXBIWXMAAA7EAAAOxAGVKw4bAAAH90lEQVRo3uVaC4hUZRQ+O3Nn7p17Z2e3l6SC\n",
       "TFkmxC5DmsQmNqKWJtJkEZVRUxFRRF0hCCt1BMmgTQfNcqy2a4VUW+2o2ZOWrajt3Rb2wJwacenh\n",
       "Y1kMlTbKzvn/e+/89zGvZGm2frgzZ84993+c7z+P/9wBqNKaCt9Co7Xz4T/bknhJeMUKX1WVDTfe\n",
       "9AM0f30M67/C3LN4yfQB08YiNFtpV8XHMDTXu34H78gd3bPBhgZmcWha6WtyJWia2E5NNM7KaBHn\n",
       "juoI6hMDo9l9zK3MiNwaOmWzDU2zwaCZR/StlaCRUvTVOA5E7kPdpUd3jHByVLu/3QNNHrKrbGhi\n",
       "rQyaVbZzKweNQoLLGsdopDxeXiO+wl+6DBtCiUrclnhNYrUN5b0x3QeaS9AIcrmPcugT1BEGTRiN\n",
       "R4tXjDWE8fbGgaYFrTjqZbf7S7eXyyWKlbg3GDWJ1TaU90bU7P7XQiFtQxOxrQZuZtAEE5VDfZjn\n",
       "CunGgWYdrmvKKEPzNowqNGFudVftF6xmwpYSNAt4hvZZofBJZWiihcKefONAcwivheSGJ/5c9Fl/\n",
       "GXZZ7S7tXeHl3jh0sktMG7rA5+HefZl6oLHENZZ8ybcLDk1Zf2sJmoMcmvkAmytDI2UgYjQONONM\n",
       "i79Oj4z4rL8Muxw0oX54ynBz1aNGj+4Qk79iW9n18PK4lK0DGls8yJxQKbWKyB/8+INRgob8KUKz\n",
       "FGTEUOViGT9o8P7SBjoV5PDCo7L6HkgD3vWXYZeF5sUELLKXb3EDIxAtOsSa8/C59+HvLbHaoOHi\n",
       "qONAn/PIGJF3dKTtagD67AyDJmJoGFc1PsR3fIvs2gkzW0tHzs2wc/Q1ri6kbbOinStJKi94I17v\n",
       "o8Qw6UudwXiLCoVPC4UvwWJ3b5vgZLuSPHTR6MhpiZeRxvjyS1wpDS15pxhN7pm082GJzLPKUOLU\n",
       "RiwdK8NEdBawZU2Htlk8/a9MMWgCRWcWsHb8RjhDMySjBE17fVnAA9k6UWl7dfaduCFe0Skb5ENF\n",
       "XD1pvXa028WhiWahJwVrD7m2JmcnyRRqspqPQD3i4SK4N8RdYqjQoQGnWDTL9vmiGq0maq8mxKzm\n",
       "eTF5Xi3GjJ6UmXzNcmyo+VQdKCY1oVATDhbr0XRTPTmDsjeXimnwGj6jDqbUPvhYgAZ7UvmMZ8E1\n",
       "otWgQ+spwkUEq2v9nH0EVmZqgkb9C4LDHi4eay4zXGL0wwVND31VH0qYmvU866hZhEZaI2zoldyh\n",
       "wXZMFEJ72QQG47CPiKlnrxCh0abUlQVEM3UIz0XhWAw6aNry1/KA6VMjVk/yI8zDfQgtugBNFy40\n",
       "DuMCuhcaxu6oGZrD0JQ+hy9fgCaDIcthNb+hjjzQtGAOnOqoGRomTjqGID/0FwVo1Ow+4Xygc2ju\n",
       "R6/5cgspXwqkVfbQVO3pJQI08ju0iB0HLOUIpBArbOa6IeZ9e21r1PZ5rc7ksXISQrMf45+y0ECr\n",
       "6RegoZ6Uk7BbGeOydS4ej9c2lCgGdkleqzHZ9snEyg6OEmxpkxB03gVtySRffonblIgknWKYnr3u\n",
       "gQbzLS1TfSjrBhNHHfOCBrabStAkYVokZSvHzNCgCXu/l63wBS3JSxBTIfmrAA2cjtdL+joLD4Es\n",
       "tRLzkDFI5prqtG59rfR5xE0e87cxTe5KQOgUdrQVYw3rSZ6dAWUEmq3iCCX9D+PCJ72+9BcvNCZb\n",
       "2e0KABShmpMmIeh8y4E1kzL3trlsaeIcV0jSdswyPNDAW9P21zCUfYPEUcekGz72RsOqPP+uRx49\n",
       "bCtnJggvBbrMU2rwtlxuPULTHRahYZ4HUNXLDIsMtc9zeSa6H+GV4Rlsnz1niktZNbN4MOXMkZAH\n",
       "mGqw8lJMejwLKjvkrZisC9DwntQFKWWklKbSlmq2fWabf+q6zKirGtBV7pjvYHigqW0o5w2qBCw3\n",
       "6SVPFnwTrNkCNOoIW2uLruS51YTa3dC8D3tBaTMsMgo9zu6IyduHrGtMokzxKKLSpw4745GJ1Ixc\n",
       "LhePxbTF7oKf0BME+9Gh2RVHejSY9EDjqCHKSVmvo7xpLt+nbulg2NCI3OpDOW9QzJxTJQDfLEAT\n",
       "SCdVBKXTrAycD7aeLWjUY7DhBf4mgZEydDpDDTEDvUQOw7v4ecx68cAmo7t8GvGC0wEeYlYTCy0x\n",
       "5Llz585zQcN7CnQ50gDmqB/zQOM0mgdX15O54PJrEhs48aFIbXKV04VZebY8tK68y/BYhvtH+Ubn\n",
       "L9BEq+lXjnSQrhFCRsJGIrvtD2IGziJqdzCLn7eAxqDphnAK8oBBrlt4gHj3bAVeAcLk+c2kn9Xs\n",
       "plQmSHtoCC630+0+4Uxw3129fov74vjxuo67k2p5HSW/+kfxhIciHUeqjBZsBecL6AAzJPWN3EZX\n",
       "oYa3K887kCBdI4SMlDJEdupKP32YzE3EWz1En3djzCNoOuPyHAyh84nisv0W70Jc7iaqwP6Uf/Zi\n",
       "P2iwJ4it50fOS+17FJTkuk5ajdRQxz9XEWnWXdBcG766z7e8KT5kMAipvRmzSbAodSBuUgFbHFiM\n",
       "0IyiSbHGqdOozpHLpXxmF7FtZL3n3lYYu81Xx+5m/jeg1BLSoFEFGuXgdoSQ84//aZEMVzPTMUzq\n",
       "Wls8xDq96/iASbEwyqkKL+AjlVx+fuxC46tjt+Os9R81nv+hJfxIN1X6HSxHxc5M/jNo/sv/Q2Pw\n",
       "GfQ/tPf+xRkETq20c+B/3/4GTpOBbygF58kAAAAASUVORK5CYII=\n",
       "\" style=\"display:inline;vertical-align:middle;\" /></a><br>(see <a class=\"ProveItLink\" href=\"../../../__pv_it/theorems/8db7e85dd2b39cc105cf5c60a04c093c1f1f4cef0/dependencies.ipynb\">dependencies</a>)<br>"
      ],
      "text/plain": [
       "<IPython.core.display.HTML object>"
      ]
     },
     "metadata": {},
     "output_type": "display_data"
    }
   ],
   "source": [
    "%proving add_real_pos_from_nonneg"
   ]
  },
  {
   "cell_type": "code",
   "execution_count": null,
   "metadata": {},
   "outputs": [],
   "source": []
  }
 ],
 "metadata": {
  "kernelspec": {
   "display_name": "Python 3",
   "language": "python",
   "name": "python3"
  }
 },
 "nbformat": 4,
 "nbformat_minor": 0
}