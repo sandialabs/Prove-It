{
 "cells": [
  {
   "cell_type": "markdown",
   "metadata": {},
   "source": [
    "Proof of <a class=\"ProveItLink\" href=\"../../../../../_theory_nbs_/theory.ipynb\">proveit</a>.<a class=\"ProveItLink\" href=\"../../../../_theory_nbs_/theory.ipynb\">numbers</a>.<a class=\"ProveItLink\" href=\"../../theory.ipynb\">addition</a>.<a class=\"ProveItLink\" href=\"../../theorems.ipynb#add_real_neg_closure_bin\">add_real_neg_closure_bin</a> theorem\n",
    "========"
   ]
  },
  {
   "cell_type": "code",
   "execution_count": 1,
   "metadata": {},
   "outputs": [],
   "source": [
    "import proveit\n",
    "theory = proveit.Theory() # the theorem's theory"
   ]
  },
  {
   "cell_type": "code",
   "execution_count": 2,
   "metadata": {},
   "outputs": [
    {
     "data": {
      "text/html": [
       "With these <a href=\"allowed_presumptions.txt\">allowed</a>/<a href=\"disallowed_presumptions.txt\">disallowed</a> theorem/theory presumptions (e.g., to avoid circular dependencies), we begin our proof of<br><strong id=\"add_real_neg_closure_bin\">add_real_neg_closure_bin:</strong> <a class=\"ProveItLink\" href=\"../../../__pv_it/theorems/667ecee2a44a4a3bd63d3d9dda83eb981f4e9d0a0/expr.ipynb\"><img src=\"data:image/png;base64,iVBORw0KGgoAAAANSUhEUgAAANMAAAAZBAMAAABZWgY4AAAAMFBMVEX///8AAAAAAAAAAAAAAAAA\n",
       "AAAAAAAAAAAAAAAAAAAAAAAAAAAAAAAAAAAAAAAAAAAv3aB7AAAAD3RSTlMAq1RmmUTNIjK7EInv\n",
       "3XZ/CtNrAAAACXBIWXMAAA7EAAAOxAGVKw4bAAADNElEQVRIx7VWXUgUURQ+7szszOzPuBT0kBAD\n",
       "RS9SCEaQhK249kNQS0IvRm75EEnE+G64QtBDhktRtlYyQi/hg1tCRhAIYQQRSARBODUiZEmEBBnt\n",
       "Q3TunXXm3nG3nZW6sHfm7px7v3O++813ByBwE9Kw4SbWFr5j40gg52qJjmRIb1R4alSZ3VoLlNqE\n",
       "naZXeHraz/aF/Or8DW8cNwES5GZ7AKh+0jWWK/fuHObQ5M9MTkibR92hhjgd5OZcAKijLon+Fk5i\n",
       "17sOqgC5QVDy2EZwZhFgMOim/SBC4nKXSqN6wuqeMlCHwt64B1NCEqN6dSQF04IY91fIdq7dJnlk\n",
       "OoMvlpVxoVQv+AjuH6YWDlCUhhsCO8tCPaMsOiWeXGaq2jruBX/F32vLehUAqi5T2i+5Ycnmoc58\n",
       "24TMUH3JvQyBynVGA6T0wwCjQbSecwiHU4Za5KAiq+akAQKlLWx4UC8+fjC9+cNZgD6QEwGgwiTo\n",
       "DS78HMQ5DipUhJgNoRkaxchiqoXV6wDammpGXXNTzpdudj1uu8hDxYmiZ1GEKxAvEDFa1jxyjwmI\n",
       "GagvgLJCooYsbLkSgaPNzPzJNMmNUUUDwVvIp7UoTBfWV4VQsRydxVSFyN06SLSqB6zYL6sMgQNI\n",
       "IGQYf3qJvxT+qWnQYsupVKrDT+CkDQd4BeJrddyEEGU1zkKJV5j3dZjs4iOimonWaVLQ7wWTWgxC\n",
       "LSd5BZJpYwilw5aQwUFlcf9AoMtqNgMVyS3yCoR+zDfyTvlJIt9rScqBFpXHeFfTCEEPcQk79Fbk\n",
       "qqprUjEr0eH7rAeVhGbVO+L201AkTEwqM9S9hUwnXVi84zMriSj8Gia17UnfZ17sDe2EOmfV8Zvm\n",
       "mrP/MtRb3935bWs3sTSxXohlxcRe9Edd06InfGqfJetly7kFbZdK1657VllP7nGlaKgtmE49xPSr\n",
       "tCpN6jLXO7uQLGe3tLVXOViLblXGcKc5gQfYPqAKRbE/5WUBQ6Qb2eiJLrg2IbXvnoIhXTlmg3yb\n",
       "uOanwv2DPhPUuffG71tVTvy477lzlkzk8+lK3xayXWGppdq+LSTzr9GN//CLSfiP34FYxR+13san\n",
       "J7ZTUgAAAABJRU5ErkJggg==\n",
       "\" style=\"display:inline;vertical-align:middle;\" /></a><br>(see <a class=\"ProveItLink\" href=\"../../../__pv_it/theorems/50934bf1576823967f3b1d257c2c71a50eab74730/dependencies.ipynb\">dependencies</a>)<br>"
      ],
      "text/plain": [
       "<IPython.core.display.HTML object>"
      ]
     },
     "metadata": {},
     "output_type": "display_data"
    },
    {
     "name": "stdout",
     "output_type": "stream",
     "text": [
      "add_real_neg_closure_bin may now be readily provable (assuming required theorems are usable).  Simply execute \"%qed\".\n"
     ]
    }
   ],
   "source": [
    "%proving add_real_neg_closure_bin"
   ]
  },
  {
   "cell_type": "code",
   "execution_count": null,
   "metadata": {},
   "outputs": [],
   "source": []
  }
 ],
 "metadata": {
  "kernelspec": {
   "display_name": "Python 3",
   "language": "python",
   "name": "python3"
  }
 },
 "nbformat": 4,
 "nbformat_minor": 0
}