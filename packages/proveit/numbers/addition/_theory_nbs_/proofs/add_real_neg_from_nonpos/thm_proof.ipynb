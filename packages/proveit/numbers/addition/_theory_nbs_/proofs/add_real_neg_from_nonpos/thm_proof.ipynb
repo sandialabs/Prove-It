{
 "cells": [
  {
   "cell_type": "markdown",
   "metadata": {},
   "source": [
    "Proof of <a class=\"ProveItLink\" href=\"../../../../../_theory_nbs_/theory.ipynb\">proveit</a>.<a class=\"ProveItLink\" href=\"../../../../_theory_nbs_/theory.ipynb\">numbers</a>.<a class=\"ProveItLink\" href=\"../../theory.ipynb\">addition</a>.<a class=\"ProveItLink\" href=\"../../theorems.ipynb#add_real_neg_from_nonpos\">add_real_neg_from_nonpos</a> theorem\n",
    "========"
   ]
  },
  {
   "cell_type": "code",
   "execution_count": 1,
   "metadata": {},
   "outputs": [],
   "source": [
    "import proveit\n",
    "theory = proveit.Theory() # the theorem's theory"
   ]
  },
  {
   "cell_type": "code",
   "execution_count": 2,
   "metadata": {},
   "outputs": [
    {
     "data": {
      "text/html": [
       "With these <a href=\"allowed_presumptions.txt\">allowed</a>/<a href=\"disallowed_presumptions.txt\">disallowed</a> theorem/theory presumptions (e.g., to avoid circular dependencies), we begin our proof of<br><strong id=\"add_real_neg_from_nonpos\">add_real_neg_from_nonpos:</strong> <a class=\"ProveItLink\" href=\"../../../__pv_it/theorems/7a65722e561ca39d7f0ee59d18998c17acb6148f0/expr.ipynb\"><img src=\"data:image/png;base64,iVBORw0KGgoAAAANSUhEUgAAAzQAAAAaBAMAAACTEgSfAAAAMFBMVEX///8AAAAAAAAAAAAAAAAA\n",
       "AAAAAAAAAAAAAAAAAAAAAAAAAAAAAAAAAAAAAAAAAAAv3aB7AAAAD3RSTlMAq1RmmUTNIjK7EInv\n",
       "3XZ/CtNrAAAACXBIWXMAAA7EAAAOxAGVKw4bAAAH5klEQVRo3uVaC4hUVRj+d2Z27sy9s7NLpamB\n",
       "TFkmxC5DPohN7IaaVojTg8iMGpOIJPIKQlipI0gGbToopmO13R5ItdWOio+Mlq2o7d0mWmFOjShZ\n",
       "PpbFUGmj7P/PuffOuY95JWuzduDO/POf/55zz/+d/3H+OwBlWl3ue6i1NhEu6BbAK5rbU1YuWHuP\n",
       "7lPxQxvCui/z7FKaPscPRWg2066KDWFo7nP89j+SOX1gXeH3FA5NE32NKQVNHdup8dpZGS3imkGd\n",
       "QX6hdzCHjzqVGZaa6i/eZP1s0Bk004l+qBQ0gQR91Y4DkbpRd8nBnSOoDurwC1zQZCG9ogBdE4Nm\n",
       "heXcikETIsElNRQls3i5jfgOb+kibKiPl+I2xioSq2wqd8cED2hmoKYz2Dbgxhtg0ATReJRYyVhD\n",
       "GG+tHWga0YojbnaLt3RLsVwiX4p7v16RWGVTuTsixvC/5XJJC5pwoX8+g8YfLx3qgzxXSNYONGtw\n",
       "XWMHGZr3YVChCXKru+uoYDWjXi7038wztK9yuS9KQxPJ5Q5kaweaE3jdSm74siN5j/UXYRfV7qKu\n",
       "ZW7uvL6LHGJK33UeN3cdSlUDjSmusORLWiA4tNBaIeAf59DMBNhUGppACsJ67UAz3LD4e7XwgMf6\n",
       "i7CLQVPfAy/pTq58Wu/UbGLSHraVHTcvjQXSVUBjifuZEyqkVmHpk59/ElRM/hShWQQSYihzsZQX\n",
       "NNi/6PxoXa5EKIMXHpXljyDQ615/EXZRaN6Kwyxr+SbXNwCRvE2sIQtfu2/+0RSrDBoujjr2dduP\n",
       "jGFpW6sYMtakGDRhXcG4qvApfuBbZO92mNxUOHJugu3nBRn/CFjWolnFiiJtHl4fo0Q/6UuexHiz\n",
       "crkvc7lvwWR3bBllZzuSPHTR6MhpibNJY3z5BW4gCY1Zuxjt6VeT9psDZJ5lphIfbcDUcaifiLYc\n",
       "trTh0DaJp//lCQaNL2/PAlaPXA+XK3pAL0DTUl0W8FS6Skiad9z4KC1yJmWDfKqwYySly4p2ezk0\n",
       "kTR0JmD1CcfW5GyVTKEiq/kM5FMuLoJ7f8whhgrt67WLRejxyk8lPJqZfDOreUNMnleKMaMzYSRf\n",
       "U2wbaiZVB/KqIhRqgv58NZquqyZnCB3MJKIK7MzC4p3oWLrhcwEacyQdpsAc0WrQoXXm4QaC1bF+\n",
       "zj4Fy1MVQSP/Df5+FxePNbN1hxj9cEDTSV/lpxIezbyfDdQgQhNYJWzo5dyhwVZMFOoPsgc4HIND\n",
       "RIy7apkIjTK2qiwgkqpCeBoKR6PQmpf2kSvtNXxqWBxp8Sj4FBo1AZp2XGgMhvs0NzSM3VoxNCeh\n",
       "Lnk1X74ATQpDls1qfkcduaBpxBw40VoxNEycdAx+BkM0L0Ajpw8JsUbj0DyJXvOdRlJ+wJeU2U3j\n",
       "lFfmCtBIH9Aith0zlSOQQgi3mGv6mPftsqxROeS2OoPHykkIzVEV/MOY1fQI0PCRVlwKEsZl81w8\n",
       "Eq8tKJH37Q24rcZgWycTMzs4TbAlDULQeTs0qypffoFbFw+rdjFMz3a5oMF8S0mVn8rsYOKoY17Q\n",
       "wPZAARoVxocTzgwN6nD0x9kK31RUXoIYB+pvAjQwAq+3tTUmHgJZaAXmCf0wmWuizezaF+p2iRs8\n",
       "5m+jitSO8/oupqOtGGvYSHNmoNsbgIa4kPQ/iwsfvWvRr25oDHZovyMAUIRqUA1C0PnLx1aNTj3e\n",
       "7LCly6Y6QpKybYruggbeG3+0gqmsDhJHHZNu+NzrdbPy/IcWfu6kpZzJILwUaDdOqf6HM5m1CE1H\n",
       "UISGeR5AVS/RTbK+ZbrDM1F/mFeGJ7F99rohHkjLqdsPJ+w5EvIAUw1WXooGnmfGGpoOy8ZoAjQ0\n",
       "0pzdwKCx0lTaUg2Wz2z2Tl2X6FVVA9qLHfNtDBc0lU1l76BKwFKDnvtizjPBulGARh5ga23UQllu\n",
       "NfUtTmg+hoMQatZNMgKd9uGIydunbGhMogzxCKLSLffb45GB1KRMJhOLRpXbnQU/c6TQhyydHyhU\n",
       "HOlWv+qCxlZDlFRJq6K8aSzfo25pY1jQiNzyU9k7KGZOLROA5wvQ+JKqjKC0GZWBiWDp2YRGPgPr\n",
       "3uRvEhgpQZs91BDT10VkP5A6z4Dx4oE9jObwacTzTwB4hllNtH6uLk2bNm26AxoaqWMtB8lKA5ij\n",
       "3uCCxm40T6+sJnPB5Vck1nvuU5HapDKnC6PybHpojbYn4rEE90/oO42/QBOtpid0qpV0jRAyEtYT\n",
       "2WF9ENN3JVH7/Wn8fBAUBk0HBBOQBQxyHcINxHtsM/AKECbPu1Uvq9lPqUyUXp31wW1Wut0tnAme\n",
       "WNjltbhvzp6tqgoxupLXUdKOP/PnPBXpOFxmNn8T2F9A+5ghye9m1jsKNbzdee2xOOkaIWRkIEVk\n",
       "mxbqoQ+DuZF4K/voczHGPIKmLSZNxRA6kygu22PyrsflbqQK7C/Z127yggZHoiddR0fOW6w+qjxK\n",
       "VZ20aqmhjo+UEWnQHNDcE7y727O8Kd6kMwip7Y5aJJiU3BszKJ8lDixGKHreoFjj1DAqAWQyCY+n\n",
       "C9scyQZb32YYus1Tx85m/Deg0OKBw3oZaELHtyKEnH/2L5NkuBqZjm5Q91ji9WzQhWd7DYqFUU6V\n",
       "eAEfLuXys0MXGk8dOx1npf+ocf0PLe5FOqnCb38xKnqF+u+gueD/h6bT/9A++g+fwHdJqZ0D//v2\n",
       "D/mHexwBJX1BAAAAAElFTkSuQmCC\n",
       "\" style=\"display:inline;vertical-align:middle;\" /></a><br>(see <a class=\"ProveItLink\" href=\"../../../__pv_it/theorems/bc0b56c386083bec4d5423cd4e80152b201629c40/dependencies.ipynb\">dependencies</a>)<br>"
      ],
      "text/plain": [
       "<IPython.core.display.HTML object>"
      ]
     },
     "metadata": {},
     "output_type": "display_data"
    }
   ],
   "source": [
    "%proving add_real_neg_from_nonpos"
   ]
  },
  {
   "cell_type": "code",
   "execution_count": null,
   "metadata": {},
   "outputs": [],
   "source": []
  }
 ],
 "metadata": {
  "kernelspec": {
   "display_name": "Python 3",
   "language": "python",
   "name": "python3"
  }
 },
 "nbformat": 4,
 "nbformat_minor": 0
}