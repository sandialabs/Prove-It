{
 "cells": [
  {
   "cell_type": "markdown",
   "metadata": {},
   "source": [
    "Proof of <a class=\"ProveItLink\" href=\"../../../../../_theory_nbs_/theory.ipynb\">proveit</a>.<a class=\"ProveItLink\" href=\"../../../../_theory_nbs_/theory.ipynb\">numbers</a>.<a class=\"ProveItLink\" href=\"../../theory.ipynb\">addition</a>.<a class=\"ProveItLink\" href=\"../../theorems.ipynb#weak_bound_via_term_bound\">weak_bound_via_term_bound</a> theorem\n",
    "========"
   ]
  },
  {
   "cell_type": "code",
   "execution_count": 1,
   "metadata": {},
   "outputs": [],
   "source": [
    "import proveit\n",
    "theory = proveit.Theory() # the theorem's theory"
   ]
  },
  {
   "cell_type": "code",
   "execution_count": 2,
   "metadata": {},
   "outputs": [
    {
     "data": {
      "text/html": [
       "With these <a href=\"allowed_presumptions.txt\">allowed</a>/<a href=\"disallowed_presumptions.txt\">disallowed</a> theorem/theory presumptions (e.g., to avoid circular dependencies), we begin our proof of<br><strong id=\"weak_bound_via_term_bound\">weak_bound_via_term_bound:</strong> <a class=\"ProveItLink\" href=\"../../../__pv_it/theorems/6856b45fe8798bc8b60a14518dfaf4521bf563df0/expr.ipynb\"><img src=\"data:image/png;base64,iVBORw0KGgoAAAANSUhEUgAABMMAAAAZBAMAAADOLfRSAAAAMFBMVEX///8AAAAAAAAAAAAAAAAA\n",
       "AAAAAAAAAAAAAAAAAAAAAAAAAAAAAAAAAAAAAAAAAAAv3aB7AAAAD3RSTlMAq1RmmUTNIjK7EInv\n",
       "3XZ/CtNrAAAACXBIWXMAAA7EAAAOxAGVKw4bAAAJ10lEQVRo3u1bf4wcVR3/7uzvmb3pKkgsTS6r\n",
       "1Foid06wYji1LB4Ugrn2whliLOEWwRj6h0z/MkWsKzFRw9GeYtUFc06RYNoqtxQoSsJlhTRFgXo2\n",
       "VcjBJnN6WqHppWlS2xwJ9f2cmTfvzc5cr3fJNX3J23v9vu973+/nO5/3c6YAMSnVfvM8qi6lS8ls\n",
       "HwE40a7EKubOq2rpko1yfjk/iXwUqmWbbA7gMyinreVOMRMPkn8u5weSdSNQLdt0F8ucYmVcvqoT\n",
       "j1L4j2YpKRbXetHTp7BvzSU2qv9qMrE0Mu15gxX+pUa1pMlz5kIAMi2aOcVuxsJvdqJYZhD/sZUU\n",
       "i2u96A+7hn6eWnKzuWpyaWS6lzdzfNka20O1tOneCwgItrDMKPZ9vB0Y7USxAp6qtqkXyrjWi50y\n",
       "eLD0S+IhtfZQVDfKiqwVqbeiEivNRu1BvIpT7G/af5BfvM1HtSBEauuyVHImAcxIJ7w+1rHMKIbH\n",
       "kFHpuOHChNyvroprvdiphH9akrhXrd0b1Y2yQnMj9YadWKmitViRneOSv/DCiRcDqBaESG1dlsrO\n",
       "xMOMcsLvo+TQzCiGd/y5ztt9rFlTV8W1Xuy0BoeptuQUeyleGksxw9vo3MMW/ZfcAKqlpZgxmRxm\n",
       "lBN+HzmLZn6ifKPdfq0zxUrt9jvNiBNlTOvFTl/Gywr2bevEdkU08quOufOhmNALD78+e+XD+0W9\n",
       "u2c/rGgtSGMpluueZtP/M9TMgBVEFeF6QkSedRUifcaC3VHOxMOMip7fh1GmmVPsVoDHOlMsU4ei\n",
       "E0GxmNaLne5hYyZ7CH7tyNG40y7OzWeqF3rh4c/AtDsg6On/c8ZtqbUojaXY+Bb9DC1dR1pfURFQ\n",
       "RbieEJG3AKoQGVoLbohyJhZmZPT8PtI1mjnFtkIeEU6nfdVVPEL1W6PuxWjrxU0dzjVHUO5Cz+Z3\n",
       "FgzIoPVXIDM5D4rRXlgovPB/Dm5wLhP0tDkouVJrURpLsU87cBiggErXkH8HKHYk0vWkiLgRJaKH\n",
       "UBcrVc50BBQbPR8QojDJnGJFxxhEzKZ9vUVn46PPwxfKPo8eg+ejKEZbJ06F++SSqhalngM3fouW\n",
       "xBPr1cHrk4N4c4kc2ATwNsBvyK5soN1+vd3+G55/TkJXE/Y9c6UoDiW/gvZCQpFBmwO0CSiTYbch\n",
       "pJepwYqmfp1KSo0FWodOwH4F6vR9ND7QoN5Jg+4vlAe567KNJIgCRpSIHEScwwpnpPD5gJJEzwdU\n",
       "OEkzp5jmivv1HSt3wccMJ+P4POpV7vZJVbh1XFqlKMm1henGoGnAC02ZYlcLswOn2J9BPw2F2Ulx\n",
       "XJVGYXwQTYIDCcch6UUxDx0O6aGnPFzZcUIl9YzFzmJvQ5ad8u8Mb/cPctclG0kRcSNqRMNO4azs\n",
       "jBQ+EVBs9HxA2RbN3guk2nphCKDdFVzlVo0Aj3JpN4piodax6VVFSa69CQ0F04Q+V6LY9ZZqodQ/\n",
       "gDQaNVooRuMu3nOchu/VEwWJ9SJRLHsG9godrKjAJgd6QiEmUs9YLMVOQYbtqnrClxZHuOuSjaSI\n",
       "+MZejWgDmC2FM+HwiYBiKeYDwh3h7FFs/xYUxWl61KjQ1xlrP7E9SDFjDZrSzJntt6DyXWUoBymG\n",
       "W8O+9S9we4Gil/Rnj7PVrfDBtBMuBRZKJiNvHxDF3qsGKDZ7y4wN7+INC3I2xVqM4bXaBf0UpGqf\n",
       "lClWgSs0uy8xxUgvNBSBx7Qr1YKmGPs62hPJFMPSvsQUO4s3Sk9/CQ+b8NXrGHddplhCRNx3JSL4\n",
       "CRTLCmckigmAYinmA0qP0uxR7EFk7ukV+NlmtJpOnuda44nNAR7l/4R+jqVGv46cducKrSDFcGv9\n",
       "zQI/jwSKfvq9vZNRzJwyq+GSn7hsD/mHkR+zfIqZ9spcZYRsiZGzI+Cf9/HxeAx6qlUpRkVXO5oJ\n",
       "3O94JyX8sGqsEKggvdBQ+OHXzj7ZylYEvZRVrMoUo1JuzDurcTvcGK+4DH6GTjJr2B0FvxGrM1TM\n",
       "9bCNCETYiICIG1Eighth2FI4Ew6fCCg2ej4gfI2Es0exFIL1AMGy16jSNwprofpukEcfRdkqukgx\n",
       "/8SkORqswq0zVUS7PLm8IMXbZ8QjwE2AKFEkIbLSNaqIS2E9LAO0CSRvJMzM46OB7X4axgqgPY6D\n",
       "hZzl3j2C5z4Umd3Hf9hdl2Kkd/9h63+RwlRoN3EUL69VVghUkF4e6AnNBBvd1deG+l3Vr1jEqJQb\n",
       "4w/Pt3NUrNj9nAW68xwq/T081B7xXJdsqBERI0FEnhEVItg9scmWnZHDJwCKj54HqGuQZvFjnjF2\n",
       "LZu+r9H4KaLYvlyQR3TeJG6lmik3XFUaNMvw0JRXbOknQdyU86m6VM+UmSIqhfWwjFwUNRqNimka\n",
       "twsnSjw7ZgnHVkE3a4HPL+wYDHKMWNrmzOt2fyz+dl/cQvWqjMUulN4VWF76nqGr3tlGPCLRiIzo\n",
       "gEpPHb55Rg/f6X2XZYFi+lydsqjQpLNYtlei2Aj5zqxrsFQPV43bxT4Hpryi7a2ltPMz8OhebYIY\n",
       "gFKFKuJSSI/I0usAHiazmJnd7AQoVmjhj/cKl9t42PNzAXmFvE6KkfDGNl/N2wpxMAUrWCg6vgYX\n",
       "H/+Qylj8a3A+buSX3v6LcaWNBIgEI2FERk1/WaWnDN88o0cmgn6WBYpptarexCyid/WfBW/e4TzK\n",
       "tw4A1umqD4M0i9k7hwjF9rFicRAVkTL+QX8OFU73aatxdZeD9rZTXgnpMS30Q2XffgrouwTTgBcD\n",
       "2/0HjVqG+PEhB97KerPfL/D6aodjJA75H/3AmceZF4UimWLPBTCGxxj9iEVvk1T3UEXbWCiiLjel\n",
       "/MJOGb7zAIQ/vSGf34izWLddeJnwahu+OvuH7Z3ZPB5t3DzrIB2t/+cSxbL9vc8S5oxUaPFWXCwc\n",
       "ghG7cAi1+cq1xy34JZFtdJkiKSE9VI210A+TfR75h3Thjv80n9zgUyzz74n3KNcBVl/v3dPhk4HO\n",
       "VtL8gfdVq9Nfz52bz7UKCkUive/cP7FwY2hX4fPJT3s62lgoIm39zSo1dfjOAxAe8mTYSx9Wa2Qh\n",
       "1f/Y2CVdfgV0fguPqqvI+kdPXobj8iLtF+OcrHCZp0j0NK8DWvsRfPPRaAQOAuHv0XS76Pmdx1HZ\n",
       "Dss15Sx0VFY8bXcZA4JjQLNMsa/lvtqKuF/1daA7W1NX7XitAlk6p95/bpIXSRu653SYzFfEerwa\n",
       "eAt5tg5TLOXeARdH+sYIXFxJBCRRzMrMOHEUs2DoeEQVvVlQFC2FLA1yNZGZH692oNiP0VGzYWfX\n",
       "Ny+SJ7LxtouMYiKgpP8DKfo/S+YW4f9RapfLMhsupWWYzPYrACfesf4PZjicpDQIxZkAAAAASUVO\n",
       "RK5CYII=\n",
       "\" style=\"display:inline;vertical-align:middle;\" /></a><br>(see <a class=\"ProveItLink\" href=\"../../../__pv_it/theorems/bd9558c3f96bb0119d6ec3e170eb5ed3da4323930/dependencies.ipynb\">dependencies</a>)<br>"
      ],
      "text/plain": [
       "<IPython.core.display.HTML object>"
      ]
     },
     "metadata": {},
     "output_type": "display_data"
    }
   ],
   "source": [
    "%proving weak_bound_via_term_bound"
   ]
  },
  {
   "cell_type": "code",
   "execution_count": null,
   "metadata": {},
   "outputs": [],
   "source": []
  }
 ],
 "metadata": {
  "kernelspec": {
   "display_name": "Python 3",
   "language": "python",
   "name": "python3"
  }
 },
 "nbformat": 4,
 "nbformat_minor": 0
}