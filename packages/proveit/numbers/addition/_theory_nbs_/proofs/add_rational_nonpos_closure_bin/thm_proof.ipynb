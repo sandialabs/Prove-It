{
 "cells": [
  {
   "cell_type": "markdown",
   "metadata": {},
   "source": [
    "Proof of <a class=\"ProveItLink\" href=\"../../../../../_theory_nbs_/theory.ipynb\">proveit</a>.<a class=\"ProveItLink\" href=\"../../../../_theory_nbs_/theory.ipynb\">numbers</a>.<a class=\"ProveItLink\" href=\"../../theory.ipynb\">addition</a>.<a class=\"ProveItLink\" href=\"../../theorems.ipynb#add_rational_nonpos_closure_bin\">add_rational_nonpos_closure_bin</a> theorem\n",
    "========"
   ]
  },
  {
   "cell_type": "code",
   "execution_count": 1,
   "metadata": {},
   "outputs": [],
   "source": [
    "import proveit\n",
    "theory = proveit.Theory() # the theorem's theory"
   ]
  },
  {
   "cell_type": "code",
   "execution_count": 2,
   "metadata": {},
   "outputs": [
    {
     "data": {
      "text/html": [
       "With these <a href=\"allowed_presumptions.txt\">allowed</a>/<a href=\"disallowed_presumptions.txt\">disallowed</a> theorem/theory presumptions (e.g., to avoid circular dependencies), we begin our proof of<br><strong id=\"add_rational_nonpos_closure_bin\">add_rational_nonpos_closure_bin:</strong> <a class=\"ProveItLink\" href=\"../../../__pv_it/theorems/0012ce096b60fae1a4e0346d1be8c5ab3c0550e90/expr.ipynb\"><img src=\"data:image/png;base64,iVBORw0KGgoAAAANSUhEUgAAAOMAAAAaBAMAAAC3PfauAAAAMFBMVEX///8AAAAAAAAAAAAAAAAA\n",
       "AAAAAAAAAAAAAAAAAAAAAAAAAAAAAAAAAAAAAAAAAAAv3aB7AAAAD3RSTlMAq1RmmUTNIjK7EInv\n",
       "3XZ/CtNrAAAACXBIWXMAAA7EAAAOxAGVKw4bAAAD3klEQVRIx71WW0gUURj+3dl1Zmd2V+upGzFR\n",
       "UBHJZtFFIjY07EK6UQ/Zg630EPVQa0QvpY4UFBQZFZnRZXopSkHJICoSKSKjAoPoysIoRA+FSJCB\n",
       "D9F3zuxOe8bZWi06MDNnzu073/dfziH6P8XXSlpP10RmSvEJIl4mWkU15B//1DkTQ5TO4NVHRUn5\n",
       "1Hinqgm85Fy9yVwdkdNs2iiFdFAdZwlG8RrM1Vs7pqW9ra2SSHnI6soohaMUNomK2e/sPCEPMbN4\n",
       "OYF6sR9kom52Mwz5JYbPv2dDhiyKAG8N69uZJ+QGPNc8ewpjeO12NXZ3E22pQaXmHhe2SCd1lKiZ\n",
       "yZyvUb/hKRdaNqe/WI1oiTha6YLpg5KFanOl7T5EO7A9iKvp+SFCG6Jeoakk/d2OZShk2npeSr3m\n",
       "lr8JFTWDuRzVT6Mh2oTKOvgvDFCYJ8kIDOZLeEI+4OpyYwb22Mh0QwFBn7427c5az3p8v+B5kUo9\n",
       "yxOyAHB+5j31PY0uyLqhyWDEffFAGpGOB7CFQLRUWIPJgU1c+A2MmR0jp2wmgSd0xRQg1RGzM0lS\n",
       "QvDFWgkGUywxHFoM7Jjk4tyIiwx58JPjlhgYxjIdUdoosvTxCPBxOzvKH/Rxlh+VNpTWdGMTUmbQ\n",
       "1JzEqexygvjsJLiXetuAfzmmDiMSQhhcTfSB/W9MpZ6nUi9R8yeoqIuUYbYGLJV6x0Wxbble4NCJ\n",
       "+T4ry3umszkDbXH5PmmlJG8AbEfGEW2WDPIpqd9EluEu2q5TgLFUnYgLXv/lsU5pMpgQWXmvD08F\n",
       "GrV9pC5ONjD6DRQ2RGHVHyQNi5AIy2qTfP2s3p9ZLGDHpRiBLSwT32JJo33VHUbwx4DJ09axuUSW\n",
       "RYvinGUmXxeAQNAi9St8d64IaaiPEHCc4JCzfDmyz6YaGuOxdAh7V98o31ngvY/EbrCOsiiHpFlR\n",
       "BK0jfKTXDoTLtDAWEyALosFYOoCo0KGlsRwbEyFX8uHQzR9TevlJISV4CmNwFlvgSFweXOYoheyj\n",
       "QLern4/ONMQgmc7yYJj7oTp1W2bC/pG9a10hsDpTCcVZiqeQ4S9eCo/Wt9rCustjPG89sw8vDemd\n",
       "3bUTHsoUyb3IDsd1k8EyiFyEU/Q4l4S7z/6Kioq4+yRZ4pnWbduNzVfWwDxhBXaSpFkmWzab7ThA\n",
       "VyBOeaCQ5nGInmDi5zz8vQ6kWeeeCqeo5KSdQHlJN53QlSqL5PM8FbyqMzySrJ4dd2PuDMk/p+mw\n",
       "a4yeuT1AizuHc919GnMt9ymPk8F19wlkp3D/7CqPC+SCv7zOurWXhL+Ty//hPdYhAlY/AQy86cyH\n",
       "ggJ9AAAAAElFTkSuQmCC\n",
       "\" style=\"display:inline;vertical-align:middle;\" /></a><br>(see <a class=\"ProveItLink\" href=\"../../../__pv_it/theorems/c6177140dad06e9ea592f0c0281bae04f4689dfb0/dependencies.ipynb\">dependencies</a>)<br>"
      ],
      "text/plain": [
       "<IPython.core.display.HTML object>"
      ]
     },
     "metadata": {},
     "output_type": "display_data"
    },
    {
     "name": "stdout",
     "output_type": "stream",
     "text": [
      "add_rational_nonpos_closure_bin may now be readily provable (assuming required theorems are usable).  Simply execute \"%qed\".\n"
     ]
    }
   ],
   "source": [
    "%proving add_rational_nonpos_closure_bin"
   ]
  },
  {
   "cell_type": "code",
   "execution_count": null,
   "metadata": {},
   "outputs": [],
   "source": []
  }
 ],
 "metadata": {
  "kernelspec": {
   "display_name": "Python 3",
   "language": "python",
   "name": "python3"
  }
 },
 "nbformat": 4,
 "nbformat_minor": 0
}