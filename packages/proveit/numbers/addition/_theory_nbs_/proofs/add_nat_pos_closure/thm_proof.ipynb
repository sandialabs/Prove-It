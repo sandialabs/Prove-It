{
 "cells": [
  {
   "cell_type": "markdown",
   "metadata": {},
   "source": [
    "Proof of <a class=\"ProveItLink\" href=\"../../../../../_theory_nbs_/theory.ipynb\">proveit</a>.<a class=\"ProveItLink\" href=\"../../../../_theory_nbs_/theory.ipynb\">numbers</a>.<a class=\"ProveItLink\" href=\"../../theory.ipynb\">addition</a>.<a class=\"ProveItLink\" href=\"../../theorems.ipynb#add_nat_pos_closure\">add_nat_pos_closure</a> theorem\n",
    "========"
   ]
  },
  {
   "cell_type": "code",
   "execution_count": 1,
   "metadata": {},
   "outputs": [],
   "source": [
    "import proveit\n",
    "theory = proveit.Theory() # the theorem's theory"
   ]
  },
  {
   "cell_type": "code",
   "execution_count": 2,
   "metadata": {},
   "outputs": [
    {
     "data": {
      "text/html": [
       "With these <a href=\"allowed_presumptions.txt\">allowed</a>/<a href=\"disallowed_presumptions.txt\">disallowed</a> theorem/theory presumptions (e.g., to avoid circular dependencies), we begin our proof of<br><strong id=\"add_nat_pos_closure\">add_nat_pos_closure:</strong> <a class=\"ProveItLink\" href=\"../../../__pv_it/theorems/ae8fb9dd46a35469e1f4215838d8418d2e7ff27a0/expr.ipynb\"><img src=\"data:image/png;base64,iVBORw0KGgoAAAANSUhEUgAAAcwAAAAZBAMAAABOcQOdAAAAMFBMVEX///8AAAAAAAAAAAAAAAAA\n",
       "AAAAAAAAAAAAAAAAAAAAAAAAAAAAAAAAAAAAAAAAAAAv3aB7AAAAD3RSTlMAq1RmmUTNIjK7EInv\n",
       "3XZ/CtNrAAAACXBIWXMAAA7EAAAOxAGVKw4bAAAFDElEQVRYw82YX4gbRRjAv2Q3yWbzp6EPPVvx\n",
       "OBXrSUmIVn045FzoFapSDFR8sKKpPoiCuPd4/qkRivpw9kLLqSl67vkgaKxJexb/oCVayiEqnhIs\n",
       "nC5s8aF/roVDOKtH9fxmZjf7P38uMTgws99+2fkyv5lvZr4ZgFbpOlWG3qQ7oK+JJ4WEOan+1Prr\n",
       "fK/+Nij1FzNKigkqbu8j5nukkHsNIzfH5LR+Yx4m/jPUa8xHHO9H/3pdgS+u5nRMWGSYKfK4sSlm\n",
       "gLpctsv2RGpYbOu5ayad7ToUSoG4bIwmnGWYO8njiaaYPHYNhLt1N74KIOZ7PwWfci6Z8hxADe4p\n",
       "vVUqYRdUFIr5EunoYlNMIdWYy12kDdhZvNsl9nh/7aOGkMvC7Y73jUUckYXGaIazFDOMtLGh5nOT\n",
       "dNjxbjGn8I/ibnXG++uM33KtOTVxhT0vqCr1lYHRSN6CyRcpJoe04RZL0PZerESXMW/9DzDDbHwf\n",
       "vKi/DwQKSxbMZI2ttN+r6rctMOOq+mu1W8xNmO8jM+Tac5oHj4/aF3P85H4mxOgiGmlM0QEoRnMm\n",
       "ZmiVYe4COOKyVrVh8gWIKutis9gpYX4c88NydNWDx0fthxmah3cUEHFd5KifmSvkABwQFxeMKAiE\n",
       "PxnmOESwP0T7QirZMPGD8fUNocXOPswYdImngF8A8U4HD1OXj21pE/PDLOzGkcS3YI1igonJDd1S\n",
       "M/exFYYZVWI5VoEo6yfgrpQTE4f7RIebpNtOHfNp7ONlSFTh4GWq262q36nqj2CoJdJ2q9qxJ+Hk\n",
       "wTlGvPR+gF+YUiB7JEyqmIoME7YETExRxwxqRk8c3DwN18cUXnFhZjpagbzt7GOY8SJUsFvTjtFk\n",
       "6hV4sdDeaH7D2k/clyK9bxlNmBUXzA7XnRbyo3pf7SLxkCbF4OOx+ljOihnmtA7iAG87utNWNLgb\n",
       "3JhMPdIupvgPcMsQIiFOkCIlrJiCZgYCwhUd8zguUqTCb0Q7fNP+mGtuQmwrjow4t2RMYItopvLo\n",
       "J/TpY2cz5hnkGYJNQdmNydTwZXtzU/wdAvmbP9qAzeIoUrIxDm9iPm9iGistPI++jhVE+tNw7N29\n",
       "bszIVyQolqcMNotoToIztOPAz84lzMdwKdCCdd49mrpaWHTQ5/VC/MPutDOQlqRn03oQiekxwyAR\n",
       "eHOOcfq+CQH0E6zAwqhhkC64MeEazGMwiTEf3ViIGMrstPuqJKDFoq+dR7Hma9jewU/Hz7sxdfWE\n",
       "YlcnJKOo2zFnl14ZLBDvgASbFrPTrOrLV4u22JlPWQ9iM8A9WSodwuaVw659k6XTGO0LacUQ41Cx\n",
       "B125JN2o/ezEsTmJgvGW9twgI1JE7iAKElfR3gv6y963Va91Uo9pGxWEKhuFUMb7vClegcMfQEIx\n",
       "xAgZXEuqyNERZZsGfnaIc3GSC9MWo0+8ekDpIHQP5tHejuYLon5CMSsc0e9rzvocq+eFlRGCKVaZ\n",
       "CNNELLOiDHF5ao9ygwR+dohLwxv6y3PPnPRq0w9ra53szuKg3Px0helW6+0BqTCBHiD8LLNTtAfm\n",
       "A7ctZQmm8DUTMQREcVIW5rGYHArtyMxBFG342IGNtu2tZzc+Lc7BZ5yXJOJnpemWlyTEaYNM/DzZ\n",
       "EDGxs9zRoK8dehcU0XqNea75z+u7CxIu4bnzITa31/42RDJn2JyKXmxys1eF/qe2b/aedt3TZj1E\n",
       "7v93T0vTvfSe9tS/2HJ5gjtyDFoAAAAASUVORK5CYII=\n",
       "\" style=\"display:inline;vertical-align:middle;\" /></a><br>(see <a class=\"ProveItLink\" href=\"../../../__pv_it/theorems/b388fd279bedae2dc6ac932ba2090e517ab2f3950/dependencies.ipynb\">dependencies</a>)<br>"
      ],
      "text/plain": [
       "<IPython.core.display.HTML object>"
      ]
     },
     "metadata": {},
     "output_type": "display_data"
    }
   ],
   "source": [
    "%proving add_nat_pos_closure"
   ]
  },
  {
   "cell_type": "code",
   "execution_count": null,
   "metadata": {},
   "outputs": [],
   "source": []
  }
 ],
 "metadata": {
  "kernelspec": {
   "display_name": "Python 3",
   "language": "python",
   "name": "python3"
  }
 },
 "nbformat": 4,
 "nbformat_minor": 0
}