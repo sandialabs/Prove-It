{
 "cells": [
  {
   "cell_type": "markdown",
   "metadata": {},
   "source": [
    "Proof of <a class=\"ProveItLink\" href=\"../../../../../_theory_nbs_/theory.ipynb\">proveit</a>.<a class=\"ProveItLink\" href=\"../../../../_theory_nbs_/theory.ipynb\">numbers</a>.<a class=\"ProveItLink\" href=\"../../theory.ipynb\">addition</a>.<a class=\"ProveItLink\" href=\"../../theorems.ipynb#add_nat_pos_closure_bin\">add_nat_pos_closure_bin</a> theorem\n",
    "========"
   ]
  },
  {
   "cell_type": "code",
   "execution_count": 1,
   "metadata": {},
   "outputs": [],
   "source": [
    "import proveit\n",
    "theory = proveit.Theory() # the theorem's theory"
   ]
  },
  {
   "cell_type": "code",
   "execution_count": 2,
   "metadata": {},
   "outputs": [
    {
     "data": {
      "text/html": [
       "With these <a href=\"allowed_presumptions.txt\">allowed</a>/<a href=\"disallowed_presumptions.txt\">disallowed</a> theorem/theory presumptions (e.g., to avoid circular dependencies), we begin our proof of<br><strong id=\"add_nat_pos_closure_bin\">add_nat_pos_closure_bin:</strong> <a class=\"ProveItLink\" href=\"../../../__pv_it/theorems/f6598110e2bbbc721ab41e7dcf0c53894ddd14b00/expr.ipynb\"><img src=\"data:image/png;base64,iVBORw0KGgoAAAANSUhEUgAAANEAAAAZBAMAAABdr9YFAAAAMFBMVEX///8AAAAAAAAAAAAAAAAA\n",
       "AAAAAAAAAAAAAAAAAAAAAAAAAAAAAAAAAAAAAAAAAAAv3aB7AAAAD3RSTlMAq1RmmUTNIjK7EInv\n",
       "3XZ/CtNrAAAACXBIWXMAAA7EAAAOxAGVKw4bAAADV0lEQVRIx7VWW2gTQRS9m2yaZDfdBgWxKCUg\n",
       "IoLVIFqoSIn0gVqqq/0QRDBSoZgPXREKgtboj4iPBlR0xcf2Ryi1ND5A7IfUD9Eq1X6oVWsw1U8f\n",
       "SEEqFYr37iO7s03StODADHd2duace+feswtQclsP82ox7Pycdnhi80NKYfen5rLjNg3+Aov+4khQ\n",
       "NxekizR8KbDoy7Jz4bOaAPH1UwupXAMIk7FsdiD/IEUwnWelZxiHr66HwcgOgP6cTxLCNJLRPjsS\n",
       "n7YiOKPtx16msc+4UTEKIeBVdUjFaAhTACdLvLAKGYd6JmJR05jA7nXlC7cS6ZfnfII2g4wYmR2p\n",
       "i0gPMslo3o1visYXxkS6kXmnIx3JdjiRtiAZZFZWQkL8oLPj+ZDEEZM0oR40o8gpi6W0A+k79uFM\n",
       "5mUJSIusuzr8uJNFKqsax5jc1e0O67o4JQiXHUh7cWEzwLVCx4u2qdKZ6L/vGdzSGKT+hDAJUANM\n",
       "anFKINbXZ2kEBj+JHMEfLphwtrmPqgK534lCC+vTGg1eAazS7biNBGs91+3tJzChgpooW/PAAdM4\n",
       "3ix7nzBIb7CH8MXtAGPEIZP5hHEnjk0Af5G0vh8fZT6YSJy21N7eLxM1R0IsodfHVdkTHoCtM3wi\n",
       "pCEQfrM+jYEP83yPLg0ph09CuM/hU5I8dojSc+wN+NBTx0NabGhpaHRFT5gG7y8WaQJ4zPNq3R5x\n",
       "IMGFoKNIcA73Ejj01j0kd6bHNYkK0nNqVzbN+FRJEpMFYQK4+AoG6Q/dHdTq9s+cGiFd6Yy9nXIP\n",
       "jmGwhdHAJNXdRynWo5+SHFjOIlFBiPjmTaiOxRikhXAJx2Yj4y0N0I0me/tG3VGE52MBqv9g1Btv\n",
       "NZB4KcUgEakABqf72+mqJIPU/YCi8NbQ8MrdRmodGmJlcpNlhGRSWwgl+XCNqqoRT1JIx5l6omyA\n",
       "9/k0wpB684Z8jww1cre2XBIqwQ1IugJCkbOGT7AzO1PL1+VVWH05WlRhhKkcY6WrVevFD1Yt1hdJ\n",
       "s6x/UhzNiK5S6KijxbXMmzvMV7/6PpyLBLZlwX8V5+fbzW+k3RYw9eJuV4ojlbsoGonTq6pyof+I\n",
       "zgInSUpxJNd/hE8r+m+Uhnk396fW+1/+9/R8QR/+AeEfyRbZuch4AAAAAElFTkSuQmCC\n",
       "\" style=\"display:inline;vertical-align:middle;\" /></a><br>(see <a class=\"ProveItLink\" href=\"../../../__pv_it/theorems/6bfa0bd118075d0f6ee0cc800b1e24a0b0df67650/dependencies.ipynb\">dependencies</a>)<br>"
      ],
      "text/plain": [
       "<IPython.core.display.HTML object>"
      ]
     },
     "metadata": {},
     "output_type": "display_data"
    },
    {
     "name": "stdout",
     "output_type": "stream",
     "text": [
      "add_nat_pos_closure_bin may now be readily provable (assuming required theorems are usable).  Simply execute \"%qed\".\n"
     ]
    }
   ],
   "source": [
    "%proving add_nat_pos_closure_bin"
   ]
  },
  {
   "cell_type": "code",
   "execution_count": null,
   "metadata": {},
   "outputs": [],
   "source": []
  }
 ],
 "metadata": {
  "kernelspec": {
   "display_name": "Python 3",
   "language": "python",
   "name": "python3"
  }
 },
 "nbformat": 4,
 "nbformat_minor": 0
}