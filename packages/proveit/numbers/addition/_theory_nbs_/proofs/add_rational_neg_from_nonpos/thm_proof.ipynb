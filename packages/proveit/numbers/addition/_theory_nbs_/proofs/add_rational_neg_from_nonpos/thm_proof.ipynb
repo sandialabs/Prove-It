{
 "cells": [
  {
   "cell_type": "markdown",
   "metadata": {},
   "source": [
    "Proof of <a class=\"ProveItLink\" href=\"../../../../../_theory_nbs_/theory.ipynb\">proveit</a>.<a class=\"ProveItLink\" href=\"../../../../_theory_nbs_/theory.ipynb\">numbers</a>.<a class=\"ProveItLink\" href=\"../../theory.ipynb\">addition</a>.<a class=\"ProveItLink\" href=\"../../theorems.ipynb#add_rational_neg_from_nonpos\">add_rational_neg_from_nonpos</a> theorem\n",
    "========"
   ]
  },
  {
   "cell_type": "code",
   "execution_count": 1,
   "metadata": {},
   "outputs": [],
   "source": [
    "import proveit\n",
    "theory = proveit.Theory() # the theorem's theory"
   ]
  },
  {
   "cell_type": "code",
   "execution_count": 2,
   "metadata": {},
   "outputs": [
    {
     "data": {
      "text/html": [
       "With these <a href=\"allowed_presumptions.txt\">allowed</a>/<a href=\"disallowed_presumptions.txt\">disallowed</a> theorem/theory presumptions (e.g., to avoid circular dependencies), we begin our proof of<br><strong id=\"add_rational_neg_from_nonpos\">add_rational_neg_from_nonpos:</strong> <a class=\"ProveItLink\" href=\"../../../__pv_it/theorems/233d050349141e26392b85a0e4601b5fb7908cf10/expr.ipynb\"><img src=\"data:image/png;base64,iVBORw0KGgoAAAANSUhEUgAAAzYAAAAaBAMAAACX59SiAAAAMFBMVEX///8AAAAAAAAAAAAAAAAA\n",
       "AAAAAAAAAAAAAAAAAAAAAAAAAAAAAAAAAAAAAAAAAAAv3aB7AAAAD3RSTlMAq1RmmUTNIjK7EInv\n",
       "3XZ/CtNrAAAACXBIWXMAAA7EAAAOxAGVKw4bAAAIK0lEQVRo3uVafYwTRRR/1267291e74gfETWk\n",
       "iMoZPSygiGiwBFA+olbhD0WCNWqM/CHFEAnyVSNRE07voqAUoy6Y8HXqnRyoeAlBiMHvnIpfaJM9\n",
       "OIMIXC5n+MgRwTcz+zW723YbPezpJLt9++btvJn3m/fmzWwBSpSq/A9QaSWYgv90EfCK5b8pKReu\n",
       "wL5fjpc4gG1fqu9iE7mPHojYyGm8HRjA2IQ0F6s5l7vNehrPsKklP8OKYVNFfgKJyhlaBPsSaO1X\n",
       "FZu/7NfmDzoZsUuz4tfWkKpVis1kQj9SDBuBRPdwpnKwWYLXhn7W8VC/th5WHYy2NoCZ91pQ1VJs\n",
       "njLjWyFsJCK4qIJCwnS8JroDhbdnhwo5/Iyi0r3+xPypclUEk/yz1IphOhLUpByWVzBq91FsCIRK\n",
       "vOh6Mxd/tlYQNsfx2uXiBjRP4QJsgBHFpEN9vsR8qnJXfKb7x2v572mU3oLzX8mmzfoHKTbBRPH1\n",
       "PswShnTlQCOh3QLp/sVG6ehfbB5kM+AxPbZtllAiEJ9i1k9ledqX+fznxbGJ5vO/tFYONjG0m0D6\n",
       "M3/nMi8DFGAXwka85JDmkg4P6Yw7sNl5MOtuVOkeWw42Zhvv0vsTxrKzkkS9UGKU+cZRhg2CtbY4\n",
       "NkIWImrlYFOFPhMmY9kLb6ge4cibXRCb2ZlIn0u6Za58khdbGheaXGLiN3SG+8XGamMMcCnYnCDO\n",
       "BEmz0uX7VYrNfBAx2MksD8t6YYP188+R3f1MgQiOrxrH8lYCbvcwQAF2IWzkPSCgI27kpa9V4Sse\n",
       "m58h6nav6lZDzBc2rA1i42vosxmYFweo3/xqvtGYpdhEVAWTZIW9/iObDvu2w8211t5zLWw/N9CM\n",
       "zIoHDjEyWdiTsWdR7PKdZLDwJh2ggGEXgzPpM2XL7YNUns2X2/P5L/L5r4lID7Ew7OSlbwU4zYsR\n",
       "35LHOHWhklKqrAqhz7RxI104kZ3/iU43tt5MM19anqLYBDQ+FXhh8GoYqqiCamEzorxU4JmmcjFp\n",
       "XjUI/VbelsW0Ue8NbUN61BRpP2JuzJIMm09BPg5Sd4djclK2QJ3Bj99Em6Al5THDQ71OMTTNMZcu\n",
       "8KNKr4hadplNXdZ8jmx05GktKT0FG8/BTJKFYVpSsZ3ZhINaWQtCOYmD1JlLie2gjAJxOuLzFkRV\n",
       "Cxu4RA88ENRCTTa/wZgmn4FgD47bgQ1j16TEU/6wadHgFnf06TUmuU0MS71LF/hRpVe0WPWsITMZ\n",
       "DLH9jbWVWc5iGmzF/Uuok+rqirPjhLorltmxUa4sKxWIZssQnoTCyuMgj84sJdN3KVRnbdh8wmLs\n",
       "BBXbPGnDJqKB3ItZwXA3NpQdVH1jE4cLA5k5tbz0KbJs2cVq8DHlxAb+QMv5UKVX0DaIjQFupIxu\n",
       "U2JiG8Bd1rkANGYYNkuwX+/U0JgZSDM/q1PW32fDRvyIDLrtiHFuYyNtJ5Ams7H7Ypowmv6oHHT3\n",
       "WufFiAmeGw6gaTAyRf0mY4tpZzqxXxIGvOUq7DbcEqsU7PPrUJ9MurDR2eYOxYDshHFrSXNGj2iB\n",
       "fYKs9fGNnAereAgxwVKyLmwwSfvApYpq4FTpFbQNgW7NpjPbmo6ikPM02xKr52lQhRP1Sap1i5Jk\n",
       "xwt1kDxswwYuwuvtTKMBiI20isU8pnaRZSHVYFR9J7m38TpvM7mNS1BsYGgC1dnXm9j+WBJCq7Dd\n",
       "RhW+NfY3+KKE5lh35NkhWTc2jA3Pqzx7n3GrTvJ52pAP5v8mrneYd922hCPVbh/9uyumgdI2XnWr\n",
       "ohrsqowK0gbamIye6R48yzDHghPzptisczPYvhG8zoBIBB/N5V5EbJrDdmxo8AG09SLVIEMjJjuC\n",
       "E6mPEOolmr5PhU26uNAkZ+/u4r+HER5gvkGPqwguGlmkVqTEAzfYsIkkgunQq6SRRjOpZecpP5rx\n",
       "osMzgxXXlnUuENEKSXNi9V6NllbFVZCtmah3OrSDndmQ6c+t6RNs2Mh9NMrXZKRW5jehEU5sPoZO\n",
       "kOpVg4xCC98BwgR9kZhAnw1xklTtknv4NUmHakwul4vfw2IaV5rYyiXUNlDHx5jWa2kCuM6FDX+g\n",
       "uAAWlnPW2bKpkPQML2w4sdKquIoajAKCW7JK66xLOc7T9BGmkzKi0qCfEVwPpqENbHCf/NIW9mGB\n",
       "kiI08MsNYQbINgF66NJw0vgOQXuTcYQ1wguigVfS0EBzgQWTJk1K8djUQDQu74iz/OKk/Rw6knFi\n",
       "wxVxzXPTyklfrhR8idX/A6oaCpzqD335UxMx/RzaiLoZaTcFZBE6kPR9hn1Rs/vNXun4OGJsxJCS\n",
       "sJqQzeaNMAOXE2p/sAnvD4NCsWmGcApaIZKyyTLewg3ADoOkTlCcn/coNtUqSWgOY59jWqjWPjpj\n",
       "byC+d9orkkTPnu0px2DrDvmRWjxv599XRSb9KyVkgrXAf5MOUFeSd+RWO85sWJk56kiCGBsxpKSQ\n",
       "JWRDRtpLbjpzDeGt6Cb3BbjwEWwa4uJEXDGnEIrJ7jV4N5FZR/ee+x7IemEj3UENfyOC095l5vFV\n",
       "xJGWwQAtaONYqQ+V1RkHNrPC9+zyPOu0v6RSDEn5MGaSYFByR1ynAqY40PVCUTWdooVRFwD9UI6B\n",
       "7P2nwQsbo1zFDUZOw4AtnjZ2Ff3/AlZJCF1qCWyko1sRQ8Y/+6dBUmD1dE/VqVmmeIg2Ou9sh07R\n",
       "xVHl98UgDLsjVQQbR7l64GLjaWPXEub3fzau/6clvEgnZT0HC1Gxy2ybrRfGgn9s/vP/T1PJ/9P2\n",
       "/Is9CJxfrDYD//vyF4MynVaOTURJAAAAAElFTkSuQmCC\n",
       "\" style=\"display:inline;vertical-align:middle;\" /></a><br>(see <a class=\"ProveItLink\" href=\"../../../__pv_it/theorems/62b5428e604008ada787b6ade0609b11f2de2b720/dependencies.ipynb\">dependencies</a>)<br>"
      ],
      "text/plain": [
       "<IPython.core.display.HTML object>"
      ]
     },
     "metadata": {},
     "output_type": "display_data"
    }
   ],
   "source": [
    "%proving add_rational_neg_from_nonpos"
   ]
  },
  {
   "cell_type": "code",
   "execution_count": null,
   "metadata": {},
   "outputs": [],
   "source": []
  }
 ],
 "metadata": {
  "kernelspec": {
   "display_name": "Python 3",
   "language": "python",
   "name": "python3"
  }
 },
 "nbformat": 4,
 "nbformat_minor": 0
}