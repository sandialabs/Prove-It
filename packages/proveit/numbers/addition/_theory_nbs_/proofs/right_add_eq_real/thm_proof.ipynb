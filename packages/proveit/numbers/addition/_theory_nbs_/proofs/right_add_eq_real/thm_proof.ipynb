{
 "cells": [
  {
   "cell_type": "markdown",
   "metadata": {},
   "source": [
    "Proof of <a class=\"ProveItLink\" href=\"../../../../../_theory_nbs_/theory.ipynb\">proveit</a>.<a class=\"ProveItLink\" href=\"../../../../_theory_nbs_/theory.ipynb\">numbers</a>.<a class=\"ProveItLink\" href=\"../../theory.ipynb\">addition</a>.<a class=\"ProveItLink\" href=\"../../theorems.ipynb#right_add_eq_real\">right_add_eq_real</a> theorem\n",
    "========"
   ]
  },
  {
   "cell_type": "code",
   "execution_count": 1,
   "metadata": {},
   "outputs": [],
   "source": [
    "import proveit\n",
    "theory = proveit.Theory() # the theorem's theory"
   ]
  },
  {
   "cell_type": "code",
   "execution_count": 2,
   "metadata": {},
   "outputs": [
    {
     "data": {
      "text/html": [
       "With these <a href=\"allowed_presumptions.txt\">allowed</a>/<a href=\"disallowed_presumptions.txt\">disallowed</a> theorem/theory presumptions (e.g., to avoid circular dependencies), we begin our proof of<br><strong id=\"right_add_eq_real\">right_add_eq_real:</strong> <a class=\"ProveItLink\" href=\"../../../__pv_it/theorems/7419d8e609136f91e60de745c736005fbc451f100/expr.ipynb\"><img src=\"data:image/png;base64,iVBORw0KGgoAAAANSUhEUgAAAS0AAAAXBAMAAACsWwSiAAAAMFBMVEX///8AAAAAAAAAAAAAAAAA\n",
       "AAAAAAAAAAAAAAAAAAAAAAAAAAAAAAAAAAAAAAAAAAAv3aB7AAAAD3RSTlMAq1RmmUTNIjK7EInv\n",
       "3XZ/CtNrAAAACXBIWXMAAA7EAAAOxAGVKw4bAAADvUlEQVRIx81WTWgTQRR+u9lks7vpmpNQKiGg\n",
       "6EFb9yCCPcSU2lbQ2mDBi2KDPQgeZHtUVKoXQSuNFKxVqFspaKloqlBFoQRF/K1EURQ0sMVq/YFS\n",
       "BKn0IM7sTLKZdFZbIuKDb2d3Z76Zb968eTMAf8NMCq7JXozFd7VI06MEfPPbfAbfdlOE8cfy8nSt\n",
       "pvCw93yGxxwNggb8sbcsWWqSwMsCFo/hZfsIjuIISJWlSzIIipaO+fLFeQzXWpm6dQR4Mlq0LF0h\n",
       "CtdENqQe8xiu1bB1lgMfkh4oL7xWUnjqaucxvHQFDILxXO5Jebq2UFyduHwnyurqGDuCniMchjpp\n",
       "wACrS66aQjwtTLAZ4NwCYug3de0UcT0iZRld/gdwAS3LeqeHnGNhytDEDGxkde0ylTkUjUmCDpDD\n",
       "nkNWj9btd16U3+h6QeAzfXOCwei6YkAzKtZwGMfQFCoZXeo9wNNCeh0olpbgDhec6EvoGtxM/0nX\n",
       "fYIgSEnqmHfjxDEtAG9R0c1hWCEbnqHX5lzuaS73HPNmoAKNFZwhEG2PsN/UiTKcDrX2AnWhbWSX\n",
       "xP0jUL/jBeIx2qzgD8ZfoRRcQx7yZwggGUOP4dhNXDfdNIkOJ/8ECE7Sxbq+xF1d+uSRpvx5EYYw\n",
       "u45oKFO1inWpP8E3g6OhNL5w60bQM4yua7YTcGKWAK6j7Kq+Ds7icc3KANpRV5dYXTDkCNHkfsPV\n",
       "NSWk9kh9yHpUey5Iu4V+gqHEMtAYf6nfQEiuAthQ6i/MOA1KmNUVhaWiCT6U5DHgEKqW4s4oPugP\n",
       "ouJgNXwmWViXzqeK4t5Q7E66py9m9fwpMUKw9sRW2M6uYz9Ux+MkiTCGGXXQZjC6FFt8iba9lCYA\n",
       "AQ0VSuhE/KzzrIIIrEduieq6tr14Py4pXEGEtJCPplMEg9NifZTVNfD1eAT1/qpUF2YMjLWY7H6M\n",
       "3Or4BFCRICA+NJVaHBrBjHNbegUP4aTjL92/0yrS1QUmWUdEDVHXQUUngVe+l7OlukjrUW6+P0xB\n",
       "9oLZ3WoNwyEtKcEwwBv/DMofTnzBbTfu5cwoxAtdtxWfy+zZzJ7b7ClNGVpSvcs9t+spSEf1NTeg\n",
       "Kyp9GPuCClixIQnyWfR/x8f0YKPrr207p/N3FrH+TKGrXgoPOzD/Vy9U2EKae7tNzb/f0OiIqqaC\n",
       "pjjc1+cm3Hn56xL0FN6HKDyMI3kIxFgDt7FiEhR736KFYO+Y17z0R8Tv3u1km8DjBsq5rnu3nqIo\n",
       "XvV84Y+l/6ir9Sv8Dyb/4/F+AXDrAh6K2az1AAAAAElFTkSuQmCC\n",
       "\" style=\"display:inline;vertical-align:middle;\" /></a><br>(see <a class=\"ProveItLink\" href=\"../../../__pv_it/theorems/861d9150dfefddc6481cfaaa50a8ed8e69d3ea940/dependencies.ipynb\">dependencies</a>)<br>"
      ],
      "text/plain": [
       "<IPython.core.display.HTML object>"
      ]
     },
     "metadata": {},
     "output_type": "display_data"
    }
   ],
   "source": [
    "%proving right_add_eq_real"
   ]
  },
  {
   "cell_type": "code",
   "execution_count": null,
   "metadata": {},
   "outputs": [],
   "source": []
  }
 ],
 "metadata": {
  "kernelspec": {
   "display_name": "Python 3",
   "language": "python",
   "name": "python3"
  }
 },
 "nbformat": 4,
 "nbformat_minor": 0
}