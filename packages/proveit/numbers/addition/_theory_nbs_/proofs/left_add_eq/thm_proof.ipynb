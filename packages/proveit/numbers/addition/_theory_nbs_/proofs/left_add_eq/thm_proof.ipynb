{
 "cells": [
  {
   "cell_type": "markdown",
   "metadata": {},
   "source": [
    "Proof of <a class=\"ProveItLink\" href=\"../../../../../_theory_nbs_/theory.ipynb\">proveit</a>.<a class=\"ProveItLink\" href=\"../../../../_theory_nbs_/theory.ipynb\">numbers</a>.<a class=\"ProveItLink\" href=\"../../theory.ipynb\">addition</a>.<a class=\"ProveItLink\" href=\"../../theorems.ipynb#left_add_eq\">left_add_eq</a> theorem\n",
    "========"
   ]
  },
  {
   "cell_type": "code",
   "execution_count": 1,
   "metadata": {},
   "outputs": [],
   "source": [
    "import proveit\n",
    "theory = proveit.Theory() # the theorem's theory"
   ]
  },
  {
   "cell_type": "code",
   "execution_count": 2,
   "metadata": {},
   "outputs": [
    {
     "data": {
      "text/html": [
       "With these <a href=\"allowed_presumptions.txt\">allowed</a>/<a href=\"disallowed_presumptions.txt\">disallowed</a> theorem/theory presumptions (e.g., to avoid circular dependencies), we begin our proof of<br><strong id=\"left_add_eq\">left_add_eq:</strong> <a class=\"ProveItLink\" href=\"../../../__pv_it/theorems/02bf4a41178b7d81ba07de7b325ebf5192811c570/expr.ipynb\"><img src=\"data:image/png;base64,iVBORw0KGgoAAAANSUhEUgAAAS0AAAAXBAMAAACsWwSiAAAAMFBMVEX///8AAAAAAAAAAAAAAAAA\n",
       "AAAAAAAAAAAAAAAAAAAAAAAAAAAAAAAAAAAAAAAAAAAv3aB7AAAAD3RSTlMAq1RmmUTNIjK7EInv\n",
       "3XZ/CtNrAAAACXBIWXMAAA7EAAAOxAGVKw4bAAADnUlEQVRIx81WTWgTQRR+2Wya7OanOQmlEgKK\n",
       "PWg1Bym0QoxEreBfMCCCxQR7ED1tj0otURBEK01pUaNQUhW0BJpUpQpCCYogaiWKRQ8GtlipP1B6\n",
       "q/TkzM5sspPMpi0R8cGX2cm8N/Pte2/fG4C/IQoFV+xmFmvfao3i8RPwxabyLfhygsKLJxvq47WZ\n",
       "wkS+8i1M3jFAsAdPTtVFS44TmElDmmdhJmcILuAMSNbFSwwQlCXKrFtDPAtDoJnZdgL8Mk5/Xbxc\n",
       "FGXZyiq85lmURWAS0JXWYEVkG+pLr00Upry6eRZmvBoCBNPF4pv6eO2nsDfPqyyv8dkHz1AsJngW\n",
       "ZW3KS54LwCgKnpdgH8CtVeRQjbVuii5FWmZ5hTw+sQDQpu1Q1MQLVdqUl1PIw06UjXGCHrB7a5Sm\n",
       "YV8fHqUavD4QyC8AkzDwsirWZQsKyRaOhUGb8rqI5k1olieQ0s4I9zjHbCoiDyrC7ZV4vSQQF8Gd\n",
       "Q48Hi8W3xeJ7vAOIWkEY4Fjo2siNX6Y1N6ZdKrxDRosEgmqS9rsTyLfjADtWycuVhGykIu9dmiu6\n",
       "OBYGbT3vY2nHb1Q18gQQD6KfTPAJXlronEPNyTYLFq3owt1LtL8RXp65vk69X3jBy8Yxq+L0YHnF\n",
       "FBl99q2V+cVq67z2ggfHsEAAD1F1lT85lvC5SlMD+n7GG9P9MIZVW1qoLeE1b0meFFNIhmR12ZGn\n",
       "ayMEWT+sExQjr7HIenCisb3SX6y2zmsQJMTamiSAXjQRQ9opVhhxoOFcK/wgNbujg+EVkNQEvSTc\n",
       "KXj0LjFBIKnCR5Hx17YrB+AILQuMsNo6r10Qw50jRwAWdJQr4iFRWdJ+m8EHbcgt/svHGF7QWLqC\n",
       "WHIWvRxeI5B9T3u+M7zuLQhh3EpmKnmx2jqv0anDaHt3hECTrCJ14O7qyGvZNAOv4KpWU1DeywZe\n",
       "/aCQOCJTF3UduBMEZvXeXqjkxWqX6/0kwnkK8t0oA9F0BnqdcREyAJ9ti6h+4C0fKzBV4mXPT0Ko\n",
       "tHXM2JfZ3hyt0aWrOznt2864/BwNYQqyFN76CPr94repn2iAje1xsN/EC5nTw4myvw4dX9DvLEL4\n",
       "emnjGxQmcrb6L562W7XkyN2m8n5DrxV+WZHQK2RSqXLBrapf92Go9DxGYSIcEjxtIYjvgpJCYPRn\n",
       "mg4W9WilURUvn618t7OrBCatjHNdN9eepzBGXR9swdyKvKK/4H8Q+z8+7w/Q/gDeLXMCvQAAAABJ\n",
       "RU5ErkJggg==\n",
       "\" style=\"display:inline;vertical-align:middle;\" /></a><br>(see <a class=\"ProveItLink\" href=\"../../../__pv_it/theorems/de61bef8f3ea50442b03f6ebcd4efb9dd0b1a6b70/dependencies.ipynb\">dependencies</a>)<br>"
      ],
      "text/plain": [
       "<IPython.core.display.HTML object>"
      ]
     },
     "metadata": {},
     "output_type": "display_data"
    }
   ],
   "source": [
    "%proving left_add_eq"
   ]
  },
  {
   "cell_type": "code",
   "execution_count": null,
   "metadata": {},
   "outputs": [],
   "source": []
  }
 ],
 "metadata": {
  "kernelspec": {
   "display_name": "Python 3",
   "language": "python",
   "name": "python3"
  }
 },
 "nbformat": 4,
 "nbformat_minor": 0
}