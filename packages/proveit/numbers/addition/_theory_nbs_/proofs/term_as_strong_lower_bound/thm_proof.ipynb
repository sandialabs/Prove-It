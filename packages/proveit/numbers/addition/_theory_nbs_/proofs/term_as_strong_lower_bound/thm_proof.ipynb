{
 "cells": [
  {
   "cell_type": "markdown",
   "metadata": {},
   "source": [
    "Proof of <a class=\"ProveItLink\" href=\"../../../../../_theory_nbs_/theory.ipynb\">proveit</a>.<a class=\"ProveItLink\" href=\"../../../../_theory_nbs_/theory.ipynb\">numbers</a>.<a class=\"ProveItLink\" href=\"../../theory.ipynb\">addition</a>.<a class=\"ProveItLink\" href=\"../../theorems.ipynb#term_as_strong_lower_bound\">term_as_strong_lower_bound</a> theorem\n",
    "========"
   ]
  },
  {
   "cell_type": "code",
   "execution_count": 1,
   "metadata": {},
   "outputs": [],
   "source": [
    "import proveit\n",
    "theory = proveit.Theory() # the theorem's theory"
   ]
  },
  {
   "cell_type": "code",
   "execution_count": 2,
   "metadata": {},
   "outputs": [
    {
     "data": {
      "text/html": [
       "With these <a href=\"allowed_presumptions.txt\">allowed</a>/<a href=\"disallowed_presumptions.txt\">disallowed</a> theorem/theory presumptions (e.g., to avoid circular dependencies), we begin our proof of<br><strong id=\"term_as_strong_lower_bound\">term_as_strong_lower_bound:</strong> <a class=\"ProveItLink\" href=\"../../../__pv_it/theorems/0c31b3f1f48620645a900039221bedbf817b3acd0/expr.ipynb\"><img src=\"data:image/png;base64,iVBORw0KGgoAAAANSUhEUgAAA2sAAAAZBAMAAABdmav0AAAAMFBMVEX///8AAAAAAAAAAAAAAAAA\n",
       "AAAAAAAAAAAAAAAAAAAAAAAAAAAAAAAAAAAAAAAAAAAv3aB7AAAAD3RSTlMAq1RmmUTNIjK7EInv\n",
       "3XZ/CtNrAAAACXBIWXMAAA7EAAAOxAGVKw4bAAAIAUlEQVRo3u2aDYhUVRSAz8682TfzZt3dCKyM\n",
       "lrFMjXRbsCRFbEotfzCHJCgVGUkJjeoJQqyVjiGlsLlLtdhK1NMkzS13/Ct/SMwQM9O2XEtWJ57u\n",
       "gqnssmz4w0pu9++9d+97d9YZeCMseuDOnDnv7Dl37nf/ZwF8kgcyOtyRWyIdmZhvsZK3tuqlmVRf\n",
       "j1VW+quoWa0dpwCCVf0VWzTR5+NzrPRXCZlZrbsItnL8+SE/sPkVKUdsRfgtIO93gTQtBZSvjxU0\n",
       "fJs0X5uNbRK2veoHNr8i5YhNweOtWL6gfsVKIWV+QaMXG7J82EqxrcBzZp0f2PyKlCO2MB7d1fKn\n",
       "E1hxzTHyoTkzWw7pAztId59R87HKUgXjbks3s1JsGGA05gc2vyLlurYtQm/b5U8PsOKaOqULBlRm\n",
       "yyF9YAUJ9fQZNR+rNNUv+EV7xSHew6wUG96VFPuyJfErUq7YRmXdCAWStBQSW7S5sNgosMa/7S/c\n",
       "zKwUGxzLZI76s5P0KVKu2EoymTPybYeSpgUW718maTT1/vNmPtgEfytIccXZmIgi2vmkBJDcmhXb\n",
       "/jZ2sNnGDjqnDT7fNhvbZIB1/mDzKVKu2JQURAz5el5FS+gwfGF4G22OHunJB5vgbwVpWqRdFTvD\n",
       "HzBF0kWk1qyp3o0pbHcw2lrkWgwu32gb22JQ0eKu0S2Z+wzLFsZhAJtsWxhMOTYaqZCS5rGhZIvl\n",
       "bgNitHxTBdO9o037CZTmPLAx/01iyz9mwHHBMCDNDDlYs2I7DSUmpTDC/pv5upNvhI0tYuCja5QG\n",
       "PEW7SMsuGEcIUPRB5LDfaZSUYuv7LnHYaKRCSOD0/IGm04vYcXsd/grv14kuWEoStMzA7QBfklVO\n",
       "QVMqmsXRt1K6cGM2bhuEzdMzmV8zmd+9KZ0H1J80gBMEngW4Lhhm4FHhzkWs2r67DNGaNVWPTaHW\n",
       "2YzMM+x8tTa2gCnuI9bcVw+Do4ZiONjWW2uGFSgNWyhPM1TnYHNH8klwhcx09G0PtkqctCgtuvDY\n",
       "joB2GcKdrs1DSR00JVCo6TmONurvHjCnIdQtGI7gicidi1gVe3TfbLSVOOenOQ62hYadb46NDZLj\n",
       "heV8Mr7rMONRcLBNYs8iltMiqH6OpEnBVe5yS4zkk5AKmWZwqwdbcdAkVRBcuElSuwHBLtRWrqZs\n",
       "MuEpgMuwPJUbNurvxtZtDQ1r6r1BPrhyEWtZQr2WG7Ym5/lIO+E83ck30sG2HR2AQmdJkvYYvVUZ\n",
       "/vAyHhuqy9xyC9vWZ8hxacU9SF9uwEEOG44EjeO/tzJyqiOOMdpm13K/BDizkQqZZulG2DmxZWKC\n",
       "wxYdirphbecgzoV1L5MUrRuKksO82GIwMKCPzR0b8Z9bLrb8Nbxy8oZ/USt6chFr0MgVWxkKmcAU\n",
       "AMbYWxKdyzfGwfYOqtDWMjL7BpIaATU8umG2g01Ngmb2WNjiQwGGoPcl96I2M+AEhw1H0v4KWwOQ\n",
       "Ux3hjCfD1pF4QKLGu6+gNlohM13d5hlt6o9I6TDaBRfysJyWz2FkPO5pyogZaMHT/Q+unccVjCjJ\n",
       "FO4B8acNwLX83fCJaEAbxt1ebMRqH/KsMXiFz8elQtvIaEohR85prgMAzTfNwVaEet1SMia3ROP0\n",
       "+mU4xC842ND6pW5oZtg0YyfAy9i8sR5jO85hw5GUOIKhkoMAUV9oF7cpxEjiKnVaijqiL7c5VDlJ\n",
       "xIZsAFPZfZA5ZQ94sAHqOPAxjBZcyF63mZb1lz6oSHknrordi/9BDq2uta0F95U4U3ie2J82AMdj\n",
       "/c4q1/l7x3jDi41Y4UNDtLYI+bg67Bt1EVPAfZp83moft2m+kw42Ip+zA09wYUPDRwhbY7GDLVBO\n",
       "5pwpDZ81NFSRk/pq8nCcjibJbg4b3Q6UlsN7rbZ6QOsSaBCjvXGgjnAIfYImEdshNkmQCpnmrpgX\n",
       "G5af4WnBxd6KnbIXB/l9RrWR1y1JxMwyzwkGeS51XV63JPjIqZJA2gnRDVt5bFoPmejL9HCajrZQ\n",
       "pYMtjF6bNttbkqt0koRHTPeWhKwEemSsAa22qofFy0FifNQkydBLqxVSBdc8iQOPigOtkGm+uNd9\n",
       "bqPSBQcFFyKPsyI2pXCRq8ZVPZ+rZNIAsttgwSDPtQTeyucqGTeMIvXEVh5bIBnX0JevYfccTwCc\n",
       "FbckQxULG8bQiY/x6G9LzVC5e7TptTMJtkamRhJIRcHZCzE+GEdacQJhQI7IvADQDqie86I2dWmS\n",
       "VQjt7je6b0motAbrvC4RnRaxKQWpXrXSyGdDO1TJ6YApy6V+umpqPqlqsv60ga3CaKvQwwcJq2o0\n",
       "7MJ/6lDEYVuLptbzFjY8xyHDBTIj7Ws3XNhCEyp3kEFUE6PqZKyGD0ONjl+oMZJCmjphPOGLEi9B\n",
       "U7qSwhr10pktmKYVCr3xmjYxKcW2slPigjcpGjsDqd9dl01Nv/X25nUOIQ1wM5HnKunt7con1Vna\n",
       "5BJZ68JGegpZtrQ9DfWOjX712fy5Dc28qEVWx7yXW5zguY96RA3TUsE2fhuwtFaaGMneUksD21aU\n",
       "cFfIxsb/L4nXZRkr/VIQhVLpz7/Y2nHIhW1W8Uue36goNkV3bkkW1Difs2JbczQGIToO3+xttlQ8\n",
       "FqkWucg07AizSG/o/Y9ptDL0EAC3n0gouEXAVqW0G3JssNexPD+VLH19YyOxZapMg6ps2rkhtyE2\n",
       "CYU+scmEDStNtMrivl6A/5McHIc74pWOM1X/A9JN3o3pfBowAAAAAElFTkSuQmCC\n",
       "\" style=\"display:inline;vertical-align:middle;\" /></a><br>(see <a class=\"ProveItLink\" href=\"../../../__pv_it/theorems/a26eb7dec7efe144680cb565440d4f47bdee55b10/dependencies.ipynb\">dependencies</a>)<br>"
      ],
      "text/plain": [
       "<IPython.core.display.HTML object>"
      ]
     },
     "metadata": {},
     "output_type": "display_data"
    }
   ],
   "source": [
    "%proving term_as_strong_lower_bound"
   ]
  },
  {
   "cell_type": "code",
   "execution_count": null,
   "metadata": {},
   "outputs": [],
   "source": []
  }
 ],
 "metadata": {
  "kernelspec": {
   "display_name": "Python 3",
   "language": "python",
   "name": "python3"
  }
 },
 "nbformat": 4,
 "nbformat_minor": 0
}