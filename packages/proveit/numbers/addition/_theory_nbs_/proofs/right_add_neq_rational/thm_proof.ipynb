{
 "cells": [
  {
   "cell_type": "markdown",
   "metadata": {},
   "source": [
    "Proof of <a class=\"ProveItLink\" href=\"../../../../../_theory_nbs_/theory.ipynb\">proveit</a>.<a class=\"ProveItLink\" href=\"../../../../_theory_nbs_/theory.ipynb\">numbers</a>.<a class=\"ProveItLink\" href=\"../../theory.ipynb\">addition</a>.<a class=\"ProveItLink\" href=\"../../theorems.ipynb#right_add_neq_rational\">right_add_neq_rational</a> theorem\n",
    "========"
   ]
  },
  {
   "cell_type": "code",
   "execution_count": 1,
   "metadata": {},
   "outputs": [],
   "source": [
    "import proveit\n",
    "theory = proveit.Theory() # the theorem's theory"
   ]
  },
  {
   "cell_type": "code",
   "execution_count": 2,
   "metadata": {},
   "outputs": [
    {
     "data": {
      "text/html": [
       "With these <a href=\"allowed_presumptions.txt\">allowed</a>/<a href=\"disallowed_presumptions.txt\">disallowed</a> theorem/theory presumptions (e.g., to avoid circular dependencies), we begin our proof of<br><strong id=\"right_add_neq_rational\">right_add_neq_rational:</strong> <a class=\"ProveItLink\" href=\"../../../__pv_it/theorems/4fc678cd4cb994e9fdfcd032d8e3d0a9aa7f43fd0/expr.ipynb\"><img src=\"data:image/png;base64,iVBORw0KGgoAAAANSUhEUgAAAS4AAAAXCAMAAACCnFKgAAAARVBMVEX///8AAAAAAAAAAAAAAAAA\n",
       "AAAAAAAAAAAAAAAAAAAAAAAAAAAAAAAAAAAAAAAAAAAAAAAAAAAAAAAAAAAAAAAAAAAAAAAeYafp\n",
       "AAAAFnRSTlMAq1RmmUTNIjK7EInv3Xbt5cnn9enzas/lfgAAAAlwSFlzAAAOxAAADsQBlSsOGwAA\n",
       "A6ZJREFUWMPdWImSpCAM5ZQ7e/v/n7qAoMRGHKnZ6qmlZjql3byQ8BISCPkyQ53kzNzP+t0nLesf\n",
       "DmBYPhoS+u+F7eqYgd4k3d8z/k5vMYflU2d3F69NV8ccdJZC1tfLO+lmFywfj8V2Xhrd0zELnaSu\n",
       "9FLmneQSHMt+XAy+5KJDLtrVMQudZfWdY+90lz/JfsDCCOGVXkZ1dUxDJ8mLX5d3eostWE7YtLzw\n",
       "Q9KujnnoLH1Iw7u3xqLD0gJQq92J8S82KepAlZeOvlipejos5KC09Dl0liLnQ2M/yfBhQv/Q/m0o\n",
       "QIGIMLRJ+ugQs26ofCePyPsffv5Kn/SswxGWopKvz6GzVLR+PD/PnBGUok0cHRhOXn0TGJJcJXss\n",
       "oXxkk/X5aC8uZX5MroKt2TaDmufQm0zEurakV84ANSZOUC7x23H2MXcNtsRLJBPfRZtqNsL4LW9U\n",
       "GJEJEkr86vXED9HVEW31yTUenkNvMnn2SaIXopQzTiVHWc7Vh9xF1UfdRVp7Lingky67yho+Y3Lt\n",
       "2DKFmF71c+giF8KhRhcHt+sBECr+1SaAbk3AXkBrzfJ3QKDvLjSfSIdxBsGYjYrzrB3YZFdocxAL\n",
       "iIq//4SAc1fFzrQFT55DF+lYKb5sUNHv1T5QKcIXVg4UEndFe2J3h3C7Oe7KXft8YdL4Fv/5gYMr\n",
       "JGiljZFOfU7LQ5vSyuhCtk3j5qbK33XQ+vEUukjlaQ0z0ljCs4pCWmWTb8E09W91E7RmNYtG8ysp\n",
       "dxx8CLRHNWGrtiIuQ7JhMCb7WRDlMBbIt+z1hK46BE3c5RPQVVJ9hDe0fl+bBEDjj+PhzpfMFcOI\n",
       "vAvGdv5ByoKDD4/QSisAosGcjXOXpeC0orAtPsibFrLqsLGiEquagMYqIgdTscGPjJGYtuOmH3tN\n",
       "9LGLt6m+zE/B+P2HycG445ySl8bycemtwu3dQ4PtlglorCKxK6UuyW1M+SlEM6og+SlrkysqaHVm\n",
       "okM3P4e7jvm42604123sTB+M++fu/cSGndZkPZuAfmnRZQwAcDzRIuIJkA7AlqcUHSaXtce1iHVB\n",
       "LFRflKn7fNw0VJx+O2zmrpHwfQrvd3QZO8CWDx5DD69s2PnJ5kAttbzJZWqOR419bu7C6MDBicCc\n",
       "c9yjgb0c+t1WxmYchJyBHm2ktOenmJ1lp5gVjEcW3bmrmXiBQ2o/q2DmxhObcpUAZ7ArNIxoz1+e\n",
       "ZCxg+x0R13fsYrLNEvDWy4+vNdR/bd1fF8QiKpOKoDQAAAAASUVORK5CYII=\n",
       "\" style=\"display:inline;vertical-align:middle;\" /></a><br>(see <a class=\"ProveItLink\" href=\"../../../__pv_it/theorems/6c00137ed8e1e3cf4a9bb37c74cdc51eea701de00/dependencies.ipynb\">dependencies</a>)<br>"
      ],
      "text/plain": [
       "<IPython.core.display.HTML object>"
      ]
     },
     "metadata": {},
     "output_type": "display_data"
    }
   ],
   "source": [
    "%proving right_add_neq_rational"
   ]
  },
  {
   "cell_type": "code",
   "execution_count": null,
   "metadata": {},
   "outputs": [],
   "source": []
  }
 ],
 "metadata": {
  "kernelspec": {
   "display_name": "Python 3",
   "language": "python",
   "name": "python3"
  }
 },
 "nbformat": 4,
 "nbformat_minor": 0
}