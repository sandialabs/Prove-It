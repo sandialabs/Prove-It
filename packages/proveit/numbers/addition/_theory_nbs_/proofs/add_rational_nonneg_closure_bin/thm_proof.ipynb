{
 "cells": [
  {
   "cell_type": "markdown",
   "metadata": {},
   "source": [
    "Proof of <a class=\"ProveItLink\" href=\"../../../../../_theory_nbs_/theory.ipynb\">proveit</a>.<a class=\"ProveItLink\" href=\"../../../../_theory_nbs_/theory.ipynb\">numbers</a>.<a class=\"ProveItLink\" href=\"../../theory.ipynb\">addition</a>.<a class=\"ProveItLink\" href=\"../../theorems.ipynb#add_rational_nonneg_closure_bin\">add_rational_nonneg_closure_bin</a> theorem\n",
    "========"
   ]
  },
  {
   "cell_type": "code",
   "execution_count": 1,
   "metadata": {},
   "outputs": [],
   "source": [
    "import proveit\n",
    "theory = proveit.Theory() # the theorem's theory"
   ]
  },
  {
   "cell_type": "code",
   "execution_count": 2,
   "metadata": {},
   "outputs": [
    {
     "data": {
      "text/html": [
       "With these <a href=\"allowed_presumptions.txt\">allowed</a>/<a href=\"disallowed_presumptions.txt\">disallowed</a> theorem/theory presumptions (e.g., to avoid circular dependencies), we begin our proof of<br><strong id=\"add_rational_nonneg_closure_bin\">add_rational_nonneg_closure_bin:</strong> <a class=\"ProveItLink\" href=\"../../../__pv_it/theorems/2798141f1b6e2d4a70c6fdb48d7ae1ac4eb4ab4b0/expr.ipynb\"><img src=\"data:image/png;base64,iVBORw0KGgoAAAANSUhEUgAAAOMAAAAaBAMAAAC3PfauAAAAMFBMVEX///8AAAAAAAAAAAAAAAAA\n",
       "AAAAAAAAAAAAAAAAAAAAAAAAAAAAAAAAAAAAAAAAAAAv3aB7AAAAD3RSTlMAq1RmmUTNIjK7EInv\n",
       "3XZ/CtNrAAAACXBIWXMAAA7EAAAOxAGVKw4bAAAD20lEQVRIx7VWXUgUURQ+7uy6s7O7rkYPhRET\n",
       "BgaRLCX9SMiKK5qhrthD9qArPkQ91BrSi38TBQVKSv8bZSNEYUou+SAaiRChUoFC9MvCKIQPhUig\n",
       "gQ/SuXdmh72zs7VaXbh3Zu7ce8893znfdy/A/y/8Tfpwjkc2MpsLbGTWwDXSFkItWNc/eefG/My4\n",
       "js0UeEL2nvVOFYLY2JP9Df0GnV6wr4JLRFfXWRxebOaT/a1LRDQcLtVsTvKr4PaCWwbIJB05KZps\n",
       "xWoxSwLh3gzC5zXiuU2yz9LhwmgATboUyEB7JaTnZIomj2J9ZPon3YfNaUPn8DDAsVoSiyKJAOsR\n",
       "QVgFuEB6Ug3qMtZipqdGe+JqAPkGckQw9A5OAXuWpKUPQCNuD8F1iikSDLcIE0xXnvasx2XAJat4\n",
       "3o++p5F/gig6paCwmSbWIlRjewTjigFITzXXMWCWoKnJFxRdGkzbGdUy9PMKjhfLBFmTgnJsv2N9\n",
       "G42+TtFkGpqzknRoGm83mGxY3ISL0lw8r1mEThtuwebdy6xB4CgDuJsqR3pUT2yT8EBmTAor8lAI\n",
       "uCCTi3UcBoxXWDp0Y1ibwJ6ZxMTDMZJb8wt6WuJANy4z6IUK1ksLZYCFxllHvsVCvfzKh7Hc1jo7\n",
       "UDIdslMXTv6UTuIbWRjzllKSX3qo3cgEFw6uAvhCviui0TfR6Cy+WYPgiQC/RNbASEU/UVDUWJYz\n",
       "bgzhfIsSlz3ZZM5cOGB/Dk4Sg6clMBhLRNVLYnIahGXWS3cE6kWwES8FnXGOx2rGMiY7CF+Ccbo3\n",
       "hdWPnc5zIOwjqd0WaAO3xAIrrAG3xJpEWlbJYJkh7zOxxWwqL1kGdpNVnxHRGCgcIQ6uzclUtq7k\n",
       "AigIy6Ux4mVMr9PQAYcCwg/M3VzWpCS8RML1qPyLlWJUn+paSMhYaMW9Cx/4n4R4nzN8/eRHgZea\n",
       "rKak1YHPmFCJ0At7fD7GZJrX4dMIBOm6W06isT7W5GE6HHGz+vgJelJwQSphxEMl0ifSjD2gI4Xq\n",
       "wyNufd8ub5dYkmQTHXTTPBS2nohNaF45W2ZgQVHsxRUgEg8uyZq5HzNaPK4BayivsH40VR9a2rSd\n",
       "jaqCh2ULZ1ykUU/dkKMAQfbgKdpJIaHp0+z3+wPGkyTfVNbV2CXqlTK3i1mBnCSal6HuGnkAD9BD\n",
       "yFNKFHCaHKJdBPykh7/ZgbTj1jRzinK67NiK84ahS+Qr8aS5Q6XgXYNkIrJiPO8S9DD0Z810G8aI\n",
       "sdsDYjFyMdndpz3ZcgspyLTh7mOT4z6sOZUmF8jdf3mlNWLPMV9XD/6ze2ycI+jVL7wk6wfD1Wgk\n",
       "AAAAAElFTkSuQmCC\n",
       "\" style=\"display:inline;vertical-align:middle;\" /></a><br>(see <a class=\"ProveItLink\" href=\"../../../__pv_it/theorems/96f1bc4c6570500345b5529ec31fd457d6ebe8570/dependencies.ipynb\">dependencies</a>)<br>"
      ],
      "text/plain": [
       "<IPython.core.display.HTML object>"
      ]
     },
     "metadata": {},
     "output_type": "display_data"
    },
    {
     "name": "stdout",
     "output_type": "stream",
     "text": [
      "add_rational_nonneg_closure_bin may now be readily provable (assuming required theorems are usable).  Simply execute \"%qed\".\n"
     ]
    }
   ],
   "source": [
    "%proving add_rational_nonneg_closure_bin"
   ]
  },
  {
   "cell_type": "code",
   "execution_count": null,
   "metadata": {},
   "outputs": [],
   "source": []
  }
 ],
 "metadata": {
  "kernelspec": {
   "display_name": "Python 3",
   "language": "python",
   "name": "python3"
  }
 },
 "nbformat": 4,
 "nbformat_minor": 0
}