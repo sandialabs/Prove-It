{
 "cells": [
  {
   "cell_type": "markdown",
   "metadata": {},
   "source": [
    "Proof of <a class=\"ProveItLink\" href=\"../../../../../_theory_nbs_/theory.ipynb\">proveit</a>.<a class=\"ProveItLink\" href=\"../../../../_theory_nbs_/theory.ipynb\">numbers</a>.<a class=\"ProveItLink\" href=\"../../theory.ipynb\">addition</a>.<a class=\"ProveItLink\" href=\"../../theorems.ipynb#add_real_nonneg_closure_bin\">add_real_nonneg_closure_bin</a> theorem\n",
    "========"
   ]
  },
  {
   "cell_type": "code",
   "execution_count": 1,
   "metadata": {},
   "outputs": [],
   "source": [
    "import proveit\n",
    "theory = proveit.Theory() # the theorem's theory"
   ]
  },
  {
   "cell_type": "code",
   "execution_count": 2,
   "metadata": {},
   "outputs": [
    {
     "data": {
      "text/html": [
       "With these <a href=\"allowed_presumptions.txt\">allowed</a>/<a href=\"disallowed_presumptions.txt\">disallowed</a> theorem/theory presumptions (e.g., to avoid circular dependencies), we begin our proof of<br><strong id=\"add_real_nonneg_closure_bin\">add_real_nonneg_closure_bin:</strong> <a class=\"ProveItLink\" href=\"../../../__pv_it/theorems/5567b7d567efad76351bd999e087ee7b1bbb9a8c0/expr.ipynb\"><img src=\"data:image/png;base64,iVBORw0KGgoAAAANSUhEUgAAAOEAAAAaBAMAAACzyCaTAAAAMFBMVEX///8AAAAAAAAAAAAAAAAA\n",
       "AAAAAAAAAAAAAAAAAAAAAAAAAAAAAAAAAAAAAAAAAAAv3aB7AAAAD3RSTlMAq1RmmUTNIjK7EInv\n",
       "3XZ/CtNrAAAACXBIWXMAAA7EAAAOxAGVKw4bAAADrklEQVRIx7VWb0gTYRh/cnfe7rbdloZQggyE\n",
       "vpQmSIISNmnaHyGuhCAUWhlEEnF+DEIXBH3I2NDMZiQnRBALtJSsPoQQpRSGhFKUq4nRH6kIP2Qt\n",
       "iJ7ndpt3ty2n4Avvs3fvn/s9f37P874Aa96s3eqP7dHgak5vX82hcCfJajgMzIrP5nhWZaXYhWIc\n",
       "nDIXXOnRmyTkDItc5nOWPuBiYHejoStspKvozrDIRk0wp0I/Z7q08Zg1Bo4ycCgALpoozg6QG0Wx\n",
       "Jd3KrQkUc6ZJnnOx+b00Eh5IiGiPgohwtTRzIjtEBtkm+NIuHceeq5gRByF4jjSt8ZNXnW4QYgDq\n",
       "TJYBdUqIWmbwZOLfArnOk4q4Oxc/v96vMQegOa6YzZ0dYgD32o3k1WLHxkg+i//5Eon4kog8CBtU\n",
       "rn2HAyj3omKoZW6WxPmGfXNaRNskyWZ1fGheZ+OmfhAUrQLsQ/kV+0Qk8jxLxALs9RSFwk9RI2Ju\n",
       "0Sz66Y5KrxadV62dJoocQfg9AL1ZIoY0O5pkPmZEHGgRFgEqVHB5CfHp+3cmNgUwpK3AudIDCPW0\n",
       "va00+Ymj2F/i/GNgJo2I2xR4AbBVRdQxZ6gKA2oNYevR5tqRfLxik5JF96Q2KLlXcxodNIxgLZDM\n",
       "hynsT5CuP8BBVZmJRGYwJqRvHcAfNIA2dUSwBTWv9pabrBiQSE0dcQoJdjYkiTYYoeT7IAmjCQrG\n",
       "bUREe1A9qLfxLbCYH01qMdBnx3ne5NV2ShSfrtiNY/fipChCFX2Mm+Ym4bXJqwNR2Gni6gIwGNkS\n",
       "Gjr0iMwFU6oHKER3iVzh6hEy7++sIlJSI+I85rO1XkEbxxLbN2LvQ0Q3FOTIBsRfcBuPVaoXRVSH\n",
       "KATnUrkKZzEQwivrIu1+I3pUr4g2rq8M2HxywVIcKZkwA/hozhRjtDEfLmuZA3BsCdED5bxkQNxB\n",
       "Yh16kfFYqUrzZRZfg4rIXAuCkEfDtmJZr+AlVK/ofutnI2L/MHlmOj7uVhJ3x2+Zv7JgQKxJDOwS\n",
       "VXWw+xlXBXLZLYq2g6npYkd9Hf50NSd+tWgp03g94suU0s1J0sp8FWrmxFvzomqjyDYqnNfrrTXf\n",
       "HcZyzerrurHIp0/xWFJ7OdCghPHCrASVz5gdD1NfGKrnezJ+7szyVcuSLDbsrtIh6HBb90eBu0rV\n",
       "+OPgjbrUA3mGfDO3nuURHaYnS/zSCodC0n/eOVw00/tJXh7R9M5hlWXfcqt6cuq4ZaoHljV6r+q4\n",
       "hTb9AwgD7Yo0VieJAAAAAElFTkSuQmCC\n",
       "\" style=\"display:inline;vertical-align:middle;\" /></a><br>(see <a class=\"ProveItLink\" href=\"../../../__pv_it/theorems/633bd6a166d421e78dbf7cbce4406d268cbdc3300/dependencies.ipynb\">dependencies</a>)<br>"
      ],
      "text/plain": [
       "<IPython.core.display.HTML object>"
      ]
     },
     "metadata": {},
     "output_type": "display_data"
    },
    {
     "name": "stdout",
     "output_type": "stream",
     "text": [
      "add_real_nonneg_closure_bin may now be readily provable (assuming required theorems are usable).  Simply execute \"%qed\".\n"
     ]
    }
   ],
   "source": [
    "%proving add_real_nonneg_closure_bin"
   ]
  },
  {
   "cell_type": "code",
   "execution_count": null,
   "metadata": {},
   "outputs": [],
   "source": []
  }
 ],
 "metadata": {
  "kernelspec": {
   "display_name": "Python 3",
   "language": "python",
   "name": "python3"
  }
 },
 "nbformat": 4,
 "nbformat_minor": 0
}