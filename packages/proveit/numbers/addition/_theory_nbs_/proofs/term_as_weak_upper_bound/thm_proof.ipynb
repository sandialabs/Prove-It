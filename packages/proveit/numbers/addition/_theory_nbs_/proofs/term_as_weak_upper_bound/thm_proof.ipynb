{
 "cells": [
  {
   "cell_type": "markdown",
   "metadata": {},
   "source": [
    "Proof of <a class=\"ProveItLink\" href=\"../../../../../_theory_nbs_/theory.ipynb\">proveit</a>.<a class=\"ProveItLink\" href=\"../../../../_theory_nbs_/theory.ipynb\">numbers</a>.<a class=\"ProveItLink\" href=\"../../theory.ipynb\">addition</a>.<a class=\"ProveItLink\" href=\"../../theorems.ipynb#term_as_weak_upper_bound\">term_as_weak_upper_bound</a> theorem\n",
    "========"
   ]
  },
  {
   "cell_type": "code",
   "execution_count": 1,
   "metadata": {},
   "outputs": [],
   "source": [
    "import proveit\n",
    "theory = proveit.Theory() # the theorem's theory"
   ]
  },
  {
   "cell_type": "code",
   "execution_count": 2,
   "metadata": {},
   "outputs": [
    {
     "data": {
      "text/html": [
       "With these <a href=\"allowed_presumptions.txt\">allowed</a>/<a href=\"disallowed_presumptions.txt\">disallowed</a> theorem/theory presumptions (e.g., to avoid circular dependencies), we begin our proof of<br><strong id=\"term_as_weak_upper_bound\">term_as_weak_upper_bound:</strong> <a class=\"ProveItLink\" href=\"../../../__pv_it/theorems/0f48afe7491bff7864c5e1c6ce11761f69b004e40/expr.ipynb\"><img src=\"data:image/png;base64,iVBORw0KGgoAAAANSUhEUgAAAyQAAAAaBAMAAAC0vIV3AAAAMFBMVEX///8AAAAAAAAAAAAAAAAA\n",
       "AAAAAAAAAAAAAAAAAAAAAAAAAAAAAAAAAAAAAAAAAAAv3aB7AAAAD3RSTlMAq1RmmUTNIjK7EInv\n",
       "3XZ/CtNrAAAACXBIWXMAAA7EAAAOxAGVKw4bAAAHfElEQVRo3u1afWwURRR/vdv72r3eVRGCkjSn\n",
       "KPKHrRdBoqh4hJYAhnARNUYInBFjxIRcExJSleZMjJpYpRGJXDW4IEGgyp0gXyU0FWIqKuYkoES4\n",
       "ZCtEFKRpakBSojhfu7ezO7u9/nFFAi+ZvXdvXufNvt/Me/PmCjAEVRV/hhs0YhQpHhlSx381ppVx\n",
       "6w6wdq2Sw9zT7MUn/R8hUZKu3b+ydq2STxOKF7E3nwQ1+Ot4N0iq8IcnPpKQuJn05GmrIG05XNHh\n",
       "T1kF8kcFtEXiOiSNWPaCGyQSXrT+9EhC4mZyE2uVpCUVHd2vlvgJ5CX9CfRYqkPyGo5ubW6QBPFG\n",
       "ah7RwOVmcgZrlmgg3lI+p80931V7oDy18kzZOrwJg31kDvmIxtBjsg4JhkyJueYSBB9sH9lc4mKy\n",
       "mzVLOBMHaAcxQL2btm+wLLUyTdk7vtWZ8530czHeN2GVQeKNu6dwPz0DpEYWEmeTnhRtlYREKVQW\n",
       "kudYCtmv9+wnno4zSOBwsfidOyThYvFkfmQhcTYp5WmDpq4W0Xs7iJ0gCYw7o9m0/bW9MV5N6XtA\n",
       "MKhY6ghJ1yl2uP+CIjLXiGjP9t2MRqvRIZkF0O4OiZSBkDqykDib9Mdp8/XAx6og5ojFjpAsTIcG\n",
       "bdq5pfLfnFrgCMy2DyqWOkKyMiaxnD2FIDLGSBfyRTWXBm9Kh6QJAiiZyvR4kxFBgvqbKg2DzEPi\n",
       "bLI6RttncZgreG8HsRMk8kGQUJT6lNe+V4UfOLXqvC4wq4mljpCcgLBGPXwP+V6CxDOIuzzdOiQh\n",
       "FTMK/bvjFP6jO+HhmlKp2A47K4yIdyy01KdNpSIx+QZbVZ4TS8boLxxO0jYPvyN8QrKKhMIcir94\n",
       "xkQs77tJ5cU8zS0Wvy8Wf8Qq/dix0MVrzwS4zKnNw8PZbSHpUKZKHdKg4eFV1MtG4JJSEM1DsF+H\n",
       "xKPx2f3dW9fA7YoqqSVI6iuW3et2TV+GPjpm4XNdygQJMVmVZ/PR8sorFkgOgXwBgn0Fy1IkYoks\n",
       "/XJ2SbgNcknBevYNcGqHUBPZgnJMsY5wqdJYaEnvaFUsjoHP2CWQmsbBOgtX81pCMV2o+L1aBeAI\n",
       "9maTEQV252H5bjS/buNsiCdGTIYzbD6a5t3GBy75X/D2o9e1uImKo8nApfIgyWnwqD3EDOhLmqmh\n",
       "UUFoC8oxxTpypf46yyEYlSVox6HxdUi2oyLA10uMnI7Ran/iXS1mSJQJlcjuDcjhkQhM1QLH8DYu\n",
       "sKhJISEmV/XdRuejaZGNrDOkkSYPQFXqbrubiNirlg1JDMZ40otqeO1LOCWZ1f5CHrLZItIyTLGO\n",
       "KBoyiT0M8KClVIxmUE4Db5sByatoQtuiJCJ6UjLZXhOVDQtMkAS+wm+745we7E2sKUGXhF3Gvuua\n",
       "JjhQnSJzxHc6GJKzCfCOJrukxwQJMXlePU3no+Wb9YshdFQkbR3UJRJ2N1GxUVnoSF3UH7kU5+uQ\n",
       "5jkqydogP8goeJ9HDh2s9thtEanVFLHAmWId6LilZCRSUj1mulDB6b4qHkqQo70OSRWSvkz20lYl\n",
       "Qav/iZD4w3wTPBa1z9OrdJeb2BKVhNXJVrByJjoWJMX3FoKLEliHLHpG4crQnEuIydUwhc5Hm73X\n",
       "CHcF2tafe7M2Y3cTFcM7Ki8+qj+qE/yJq3ZP0++BDRavrv8yzkOi7Jim2m0Rqc0UsWA2pXfsm3QW\n",
       "exh7wLqax80gzjIgYauLHvq9L2az7yFIOvxmSEicAeTeZlVnffWNljiE+0N09Wxmioiz6UltcgbQ\n",
       "4YFcH0WkD8k2CDZCy/i09XL+G5hO56NpO40T43HjYCiI73oB2D6s6j2kOWmb1cS2hjbFdeCSKlAQ\n",
       "6q0EDhJ5kFQk0XQwT3eJr94KydfQC8E6VWfDkONHxEKdKyna9cLM4VOy2WwsElEeF5WKlPrhAJ2P\n",
       "pj3ZqfdOZo13E3+3txxWDOfaMbfZSXu+CBJObWhTXEcUrTsp7nSfaobEk0rI6OVbWSV/Pxj+1SFB\n",
       "9ezqrVCt6mwA+JhEhB58wAdc+RJFzFn1yKS8yKdvk10S8S1QAw0NDY0iSH5BGa+d5hJlo7Gk07Tx\n",
       "buIosPatOcM5aEyQytES2hquqVbjilsuEjKKc3wdz+2S2nTwAMGhGekEf0rTH67Mu6QneGEq9jSC\n",
       "jrCwBrMdxgMLPXdi7nlQmCLmkJ5JqwP8Sciv2AT0wgQdgjsTjrvk9T46H9+yl+QGPdPghC+zM35g\n",
       "12VRuAhfudI/HD+tP1OGktjWcE3hlf6BsAcvMy6X4FVArijlvdk1lgsVSk/cdy6OPY2gI6yUwWxr\n",
       "OtiDH0y4FsuWozxGFTGH9KA1RrXQIxaYgZLiQ3h9oUGf+i2/caYNEvNv79b5ALSwdk0S8nBE/NMc\n",
       "WhaRkxZInvE/3S28djTfMKkEOkydEYMFnZMLMcaVFLEelH6QodxoXLJns0m4vkjoYQuZIYlLp9Uh\n",
       "IAn+uR1BR+VX/tFZgic7uKmUKykSPZ8xMOMKcF2S0MMukDgAa/s/rriIdee8PBe5IwE3SEiR4sGr\n",
       "Ytdzyw3fO9N/t8ySUj7a0TYAAAAASUVORK5CYII=\n",
       "\" style=\"display:inline;vertical-align:middle;\" /></a><br>(see <a class=\"ProveItLink\" href=\"../../../__pv_it/theorems/b243fce50e0f16e32deab5c1b03979665b93575a0/dependencies.ipynb\">dependencies</a>)<br>"
      ],
      "text/plain": [
       "<IPython.core.display.HTML object>"
      ]
     },
     "metadata": {},
     "output_type": "display_data"
    }
   ],
   "source": [
    "%proving term_as_weak_upper_bound"
   ]
  },
  {
   "cell_type": "code",
   "execution_count": null,
   "metadata": {},
   "outputs": [],
   "source": []
  }
 ],
 "metadata": {
  "kernelspec": {
   "display_name": "Python 3",
   "language": "python",
   "name": "python3"
  }
 },
 "nbformat": 4,
 "nbformat_minor": 0
}