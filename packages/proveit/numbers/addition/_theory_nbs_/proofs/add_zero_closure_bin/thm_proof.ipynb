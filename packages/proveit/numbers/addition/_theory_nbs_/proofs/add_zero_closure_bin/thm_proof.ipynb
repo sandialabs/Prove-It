{
 "cells": [
  {
   "cell_type": "markdown",
   "metadata": {},
   "source": [
    "Proof of <a class=\"ProveItLink\" href=\"../../../../../_theory_nbs_/theory.ipynb\">proveit</a>.<a class=\"ProveItLink\" href=\"../../../../_theory_nbs_/theory.ipynb\">numbers</a>.<a class=\"ProveItLink\" href=\"../../theory.ipynb\">addition</a>.<a class=\"ProveItLink\" href=\"../../theorems.ipynb#add_zero_closure_bin\">add_zero_closure_bin</a> theorem\n",
    "========"
   ]
  },
  {
   "cell_type": "code",
   "execution_count": 1,
   "metadata": {},
   "outputs": [],
   "source": [
    "import proveit\n",
    "theory = proveit.Theory() # the theorem's theory"
   ]
  },
  {
   "cell_type": "code",
   "execution_count": 2,
   "metadata": {},
   "outputs": [
    {
     "data": {
      "text/html": [
       "With these <a href=\"allowed_presumptions.txt\">allowed</a>/<a href=\"disallowed_presumptions.txt\">disallowed</a> theorem/theory presumptions (e.g., to avoid circular dependencies), we begin our proof of<br><strong id=\"add_zero_closure_bin\">add_zero_closure_bin:</strong> <a class=\"ProveItLink\" href=\"../../../__pv_it/theorems/028228837801d2577e743fe2cc66d17d8a5f2b670/expr.ipynb\"><img src=\"data:image/png;base64,iVBORw0KGgoAAAANSUhEUgAAANUAAAAXBAMAAABuThcPAAAAMFBMVEX///8AAAAAAAAAAAAAAAAA\n",
       "AAAAAAAAAAAAAAAAAAAAAAAAAAAAAAAAAAAAAAAAAAAv3aB7AAAAD3RSTlMAq1RmmUTNIjK7EInv\n",
       "3XZ/CtNrAAAACXBIWXMAAA7EAAAOxAGVKw4bAAADYklEQVRIx7VVXUgUURQ+7uzP7Mz+RSBFIAtB\n",
       "vmTtQwgWyIb9YVgbPhUVYknkg6wvUWC6QdSDgQZBrVCNUIFo7FpBBLUIPmQ/xhb0KwNrPQQlIhth\n",
       "bCCdc++d3RlnhQ3qwHfnzL279zv3nO+eAajcPAIrrS232zG+VEtjHP7KPguUM1fONhXo0LhzbgiH\n",
       "o4gQva2vhMqR5rDZyDQOX2zTm5FKzexG7zIxRwB20vSJSrjuCNjtOMKtLZ99gmiHu3HuQScekDI6\n",
       "WAlXk0DJWsUzj5CiZbikLKiDgmsLj0cNV8I1IVCyTaJWBRqfiypd198VubwhcBQEl08DCfPorqhc\n",
       "bRx2LjVL4zHO26WZzhWMgpwXXG4kmtb1F5VwOdMc0J3ptXK5a2YxMePMP6WZc5hCrh+CS0UV7gEY\n",
       "KrP1tgh79DcbExQXwfUUbmoWrlSnsghQD8tUtgugLw3yEsAcvUqYk27whIxl+WTRmyDBpo1w0fxh\n",
       "jrEItFjPheJ+BbCR+aUkeyY51298kB4cuKNXU2PFH6wjmtlkjFWmEQ4CbDCWfDGO/QAz9N6i6y91\n",
       "/TU/AG44wELEiugfGVU1/jaVBheeS6lGMnkB+XImaUwhdiSEEqYgGLdzPQPlp/VcM+BCARwmVynd\n",
       "nvNDTBsOXFI7SDWk4bZGHEYbH1JYS7NaICJU5ymAL1ziEjlUlkBasHLlwYnCrmN+thQ3dgvvIEgF\n",
       "3kHAQUv38EYr7+VFuhyfAtEREJWUC+CPwBHjr94cg5KHqrZaC9cvqiE0MH/eepcnwIkJesx2pCP3\n",
       "oDScURIDeCNSG28GFxLE5cuB+5v4K2mWcAPqolEL12q4guNertawpUe9gbGE0Dy7L1UJKkSAxOhL\n",
       "OEP1yWQyLK/SKIfBMDi6DGVmOYa/X6xJWLiGH1Da3zJfWXvIzHUrs0Z44DcUmIp7t2JSg1ihft5q\n",
       "QkIbPcU4PwjY+gaXuKiU65GpR5lY4WxRZPGBVm0U/FoD3gGjI83DAZPmqXky2HsvS1GkXJ83ecW2\n",
       "7WradB8uheV9OfBcM7jUTLOZyxvnKG9nbDNz5g5i+5bwuo4mxV1mVuKiu6Os+PW5apvpM2SiTIIt\n",
       "Spfpc+fK2rigV6CcBewH9mznZJ5xen61LkrmFyE/uR3+v8k8qNP/cMs/zsjabw64gQAAAAAASUVO\n",
       "RK5CYII=\n",
       "\" style=\"display:inline;vertical-align:middle;\" /></a><br>(see <a class=\"ProveItLink\" href=\"../../../__pv_it/theorems/7096939cdeb4e2f84c4fea76e5f07dfd40bfb87c0/dependencies.ipynb\">dependencies</a>)<br>"
      ],
      "text/plain": [
       "<IPython.core.display.HTML object>"
      ]
     },
     "metadata": {},
     "output_type": "display_data"
    }
   ],
   "source": [
    "%proving add_zero_closure_bin"
   ]
  },
  {
   "cell_type": "code",
   "execution_count": null,
   "metadata": {},
   "outputs": [],
   "source": []
  }
 ],
 "metadata": {
  "kernelspec": {
   "display_name": "Python 3",
   "language": "python",
   "name": "python3"
  }
 },
 "nbformat": 4,
 "nbformat_minor": 0
}