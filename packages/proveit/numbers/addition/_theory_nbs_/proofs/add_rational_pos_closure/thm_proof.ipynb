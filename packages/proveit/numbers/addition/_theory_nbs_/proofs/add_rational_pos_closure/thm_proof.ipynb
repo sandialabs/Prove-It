{
 "cells": [
  {
   "cell_type": "markdown",
   "metadata": {},
   "source": [
    "Proof of <a class=\"ProveItLink\" href=\"../../../../../_theory_nbs_/theory.ipynb\">proveit</a>.<a class=\"ProveItLink\" href=\"../../../../_theory_nbs_/theory.ipynb\">numbers</a>.<a class=\"ProveItLink\" href=\"../../theory.ipynb\">addition</a>.<a class=\"ProveItLink\" href=\"../../theorems.ipynb#add_rational_pos_closure\">add_rational_pos_closure</a> theorem\n",
    "========"
   ]
  },
  {
   "cell_type": "code",
   "execution_count": 1,
   "metadata": {},
   "outputs": [],
   "source": [
    "import proveit\n",
    "theory = proveit.Theory() # the theorem's theory"
   ]
  },
  {
   "cell_type": "code",
   "execution_count": 2,
   "metadata": {},
   "outputs": [
    {
     "data": {
      "text/html": [
       "With these <a href=\"allowed_presumptions.txt\">allowed</a>/<a href=\"disallowed_presumptions.txt\">disallowed</a> theorem/theory presumptions (e.g., to avoid circular dependencies), we begin our proof of<br><strong id=\"add_rational_pos_closure\">add_rational_pos_closure:</strong> <a class=\"ProveItLink\" href=\"../../../__pv_it/theorems/6056082423d72c9c41b53405cdd93c3676732c730/expr.ipynb\"><img src=\"data:image/png;base64,iVBORw0KGgoAAAANSUhEUgAAAcIAAAAZBAMAAABQuDMuAAAAMFBMVEX///8AAAAAAAAAAAAAAAAA\n",
       "AAAAAAAAAAAAAAAAAAAAAAAAAAAAAAAAAAAAAAAAAAAv3aB7AAAAD3RSTlMAq1RmmUTNIjK7EInv\n",
       "3XZ/CtNrAAAACXBIWXMAAA7EAAAOxAGVKw4bAAAFXklEQVRYw8WYfWgcRRTAX+52b78u2yh+NBTD\n",
       "WW0N1IQzrYpV4mkTqZXQQPzLFjkQFEVlD0RtreEURMGYHNagF/zYNKDSWO+a0I8olmqR+AmnxNav\n",
       "hY1FqkZKEGNLROObmd293dtbk/POdGBn371MZvf33ps3bxYguF1iaFCbFu6GZW0c6RJ4qcaX/zYu\n",
       "WbMnXr68gCCRbgcV1y8LoUxmEmqNISxCGDaXj1CKY/dDrQl502fJiewLmkMI3zLCBnK7LICwjtxC\n",
       "8WrfZReZJV/zWDxZqpj+CB5fVSScZoSd5HZPACFHMkSk6nxzG16v1361RXTvb+X6OPCdGbg1+3I2\n",
       "i27J6ZTwCRLRmQBCscFZsdW0Obw2+aOsfGzwQSHT48vQCe/vZyPYZdodH0bilJAYQokFrcP78DZW\n",
       "LaA4j91Rnzpklh0doAZo9Wk+YTf1FeM4uQ8NY3c44hByGUoYRtBIYKZZX4uEoxbwvZP/A+FdzOkP\n",
       "smiVM/3Yr+bSNqF6lOXSzw3j00DCqGF8X3WKqMOJODJL6khvOZQAdRChsOqUNWQ/7R+2lqOYJ3Hc\n",
       "E47ZhPw8I9yM7kUDaGUJ0SCS/p+wFNdmkWFrgp+E13Q/SoA6kHC7JuGrv4HSNeBOk7zZhn0/Sf0c\n",
       "Qz7LCFMgYD5R2LzC1AG4oaFIiH9KVVE4WTkPJ6xHy74Vhy6AkWQJClXL756nL41QPgYchv0RFK/0\n",
       "bNtCnmx6PapTIQpzjFDSFUvX3zgIlyo6p7t2/CE4UGkBM3HTxV7Cesx5UXzGVoDvQDxdoAbA8Mf1\n",
       "QYxJ1Rx9bbfa27oM4zPD+IIMmYV6a+EMUE/heOMbIlnr0IkH2SIMmVai4TaTvd9MKO6aprWiRENs\n",
       "9FgexmM+HxLCj+kzQ4USH1L1im7h7NJ8GM1AznLJdpZg7AFDKTuXWj60ohSSuIPw01aJ0Lym10MY\n",
       "CZsVRCax0aEYjFyrdHR1dJZEqfw3hGf9hEwd1pdKmDPhRoA7iZtbqMKeD7bR/bCtuEudsQjHcNN7\n",
       "e4XObNGs7NnmJlTWotPl8Rk7EbnEYhttP+SUUeKTGqiqx4d1OLNkgvwbZtUr/IRMDUphiYQxuCi0\n",
       "0yR58jqqOO0YmNQ0FxarFzuXwi40x84Wq5ZohsTPbkLhfez2aQM2lkssrrwT1FosXsIjUEpI9iUF\n",
       "H/IqtCQS/ihlanjOm2nkP+wul/QQSmZoihP2FKxqEEPEqVf2Y116gavmsfZDqEvTx4TvzWafR8LR\n",
       "iOdssRKvDujD4o2+ARH51k5vcCZEnCvDbEToVMVDSGwp4hsNzzzdlPYTMrUwVKKesrv6hDeXNh1O\n",
       "/URiAuArpmi8w154W+/+Pe16rwbX6UmeT4t55kO+1Xd6+hDLdLFFt8Uo5DyE0W6VJj9qI96KUtd+\n",
       "iP8E8LWz3xXKbnwPwSOV1DS5NxHImomfYFUbcVa7uzKPuwhDyQRQI15tHTrchPIZ2L0X6nVbFIhL\n",
       "3U/TpI36OhOYjWim8Z8tNvgIPSW28NIzWyqpvNdijHD+kU3q+U8V30t3+7BJgx3oYPG4xg6FHh9O\n",
       "inMbCaGcZyIMEnGUdaMQ1QZ69NUJYDbqb4CxkkcTg0jW8hUO/lnOSdGFhdlKdt3hU2UPPaHG+3c7\n",
       "P64qPePjCXmw/Bn/9raZOCEUP2Ai1nIo9mniJHZ9MX5T6zhIaB9iI5Dfu2VlaWEac29bNWsvLvL3\n",
       "ExV+xSBRGmLiO6ojYmOpbF/ItpHyaLzcd5reWgOqi5zMK/1OI/6K50SWtCILf9kiWTcsy0u/OENv\n",
       "3vBjyUzr4By0JXxre8D3vTReRgz7T7wn0+f4eyltW+j30mP/AE03fxLN1dSmAAAAAElFTkSuQmCC\n",
       "\" style=\"display:inline;vertical-align:middle;\" /></a><br>(see <a class=\"ProveItLink\" href=\"../../../__pv_it/theorems/e18265b21aaf6c2f7197a48769907561f31f3f040/dependencies.ipynb\">dependencies</a>)<br>"
      ],
      "text/plain": [
       "<IPython.core.display.HTML object>"
      ]
     },
     "metadata": {},
     "output_type": "display_data"
    }
   ],
   "source": [
    "%proving add_rational_pos_closure"
   ]
  },
  {
   "cell_type": "code",
   "execution_count": null,
   "metadata": {},
   "outputs": [],
   "source": []
  }
 ],
 "metadata": {
  "kernelspec": {
   "display_name": "Python 3",
   "language": "python",
   "name": "python3"
  }
 },
 "nbformat": 4,
 "nbformat_minor": 0
}