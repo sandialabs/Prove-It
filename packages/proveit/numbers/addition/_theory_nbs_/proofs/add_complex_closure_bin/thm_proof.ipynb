{
 "cells": [
  {
   "cell_type": "markdown",
   "metadata": {},
   "source": [
    "Proof of <a class=\"ProveItLink\" href=\"../../../../../_theory_nbs_/theory.ipynb\">proveit</a>.<a class=\"ProveItLink\" href=\"../../../../_theory_nbs_/theory.ipynb\">numbers</a>.<a class=\"ProveItLink\" href=\"../../theory.ipynb\">addition</a>.<a class=\"ProveItLink\" href=\"../../theorems.ipynb#add_complex_closure_bin\">add_complex_closure_bin</a> theorem\n",
    "========"
   ]
  },
  {
   "cell_type": "code",
   "execution_count": 1,
   "metadata": {},
   "outputs": [],
   "source": [
    "import proveit\n",
    "theory = proveit.Theory() # the theorem's theory"
   ]
  },
  {
   "cell_type": "code",
   "execution_count": 2,
   "metadata": {},
   "outputs": [
    {
     "data": {
      "text/html": [
       "With these <a href=\"allowed_presumptions.txt\">allowed</a>/<a href=\"disallowed_presumptions.txt\">disallowed</a> theorem/theory presumptions (e.g., to avoid circular dependencies), we begin our proof of<br><strong id=\"add_complex_closure_bin\">add_complex_closure_bin:</strong> <a class=\"ProveItLink\" href=\"../../../__pv_it/theorems/d1ebd80831b2ec29c1e710770e38a609f5fb38630/expr.ipynb\"><img src=\"data:image/png;base64,iVBORw0KGgoAAAANSUhEUgAAALYAAAAWBAMAAACfwnvZAAAAMFBMVEX///8AAAAAAAAAAAAAAAAA\n",
       "AAAAAAAAAAAAAAAAAAAAAAAAAAAAAAAAAAAAAAAAAAAv3aB7AAAAD3RSTlMAq1RmmUTNIjK7EInv\n",
       "3XZ/CtNrAAAACXBIWXMAAA7EAAAOxAGVKw4bAAAC4klEQVQ4y61VS2gTURQ9TSaZzDRJgwsXFsqA\n",
       "YBdqyUIKrVAHqiCIGqiIYLHRCtIuZAouFD9EUBCsNEJFUz+Mn00JmFQFdaEIRRA/WKUqCANTRGpd\n",
       "SFeKXYjvlxlfPkMXXjjzfjPn3XfveXeAZZgl0GitnqlYliUNjrq2r2ZGf/zx8NFyxAVSdLg6kHut\n",
       "QA3JtRmyabp6em4ad36b+AJsocNDQdR6lqPWoiZ5DFdNKl/LQJeJqI3TNDb5IG4lzeFbn2hbaKA2\n",
       "VL1+RrOBJhNhRo9mI4g7LuBbh2gHbLpk88GC47DDrdLoWYkvLxEmz2hguNcI1HI/YYHhR9r9XUzm\n",
       "j4jOIPDGcV4Fcm8TUFvnXZl7/48V5NBMDWol7GrqvOhNAVuBiUDuQYF+S1uSuPWfdslCmEUiWtF5\n",
       "rFzJRicwQraq0MSGPE2Pt50S3fcc+jSUGYk7tIS4i9Azxu3dGbOi+HWAZjdnPB9b6QZzhYx+0Qpd\n",
       "FXPPOZRFJIi6sN1xXjvOOyqgLFrKiC3Sl0YdYkxu+ePiuzGyu/tPKl8QbM6RIN4FNsrc8TxKGclv\n",
       "stWAgQjze9KjmNBEp58g20MexZ6H1OU/cza7aLfP+hVBxKTkYpOsEyLvnTZCLFAJj3sX1TeIF+tJ\n",
       "c4+kWP8U+0Wj/DlpMg/a2/2z3OAoGVgZsiTuHMkBwiwSSde/lykWLnSRwQnaN2P0aFo6nGVp7u72\n",
       "uac4NDc0q0h+N6U1cumVMhsc8N5fOGjdmhW6bSLxjWeSVCzxnJLqLBQKxrk9PvcFDr3t0cg3WYOt\n",
       "vTQaPAk3L9leHXw7S8/3QYxLltZN1loQN5j0aS51sZbIcdTeS2YnRbv3uiMVNHWmUjOssT67iITd\n",
       "BZYK9YGFp2KNFB2G2lrFrDegxDGL9Hbcx6gR2+FCvUInikPjnquXBer/XxrV0GPykJfDYqGQkaYn\n",
       "Jf1WmdbopyZ7E7EbuOZy1LX5Rj9Cec8w/q/9BcK5r17ryopvAAAAAElFTkSuQmCC\n",
       "\" style=\"display:inline;vertical-align:middle;\" /></a><br>(see <a class=\"ProveItLink\" href=\"../../../__pv_it/theorems/d3cdfad2d01e8851e84783cf0b7c31a40f9cf7770/dependencies.ipynb\">dependencies</a>)<br>"
      ],
      "text/plain": [
       "<IPython.core.display.HTML object>"
      ]
     },
     "metadata": {},
     "output_type": "display_data"
    },
    {
     "name": "stdout",
     "output_type": "stream",
     "text": [
      "add_complex_closure_bin may now be readily provable (assuming required theorems are usable).  Simply execute \"%qed\".\n"
     ]
    }
   ],
   "source": [
    "%proving add_complex_closure_bin"
   ]
  },
  {
   "cell_type": "code",
   "execution_count": null,
   "metadata": {},
   "outputs": [],
   "source": []
  }
 ],
 "metadata": {
  "kernelspec": {
   "display_name": "Python 3",
   "language": "python",
   "name": "python3"
  }
 },
 "nbformat": 4,
 "nbformat_minor": 0
}