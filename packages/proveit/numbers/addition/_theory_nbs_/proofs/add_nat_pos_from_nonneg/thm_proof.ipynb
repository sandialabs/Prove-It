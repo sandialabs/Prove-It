{
 "cells": [
  {
   "cell_type": "markdown",
   "metadata": {},
   "source": [
    "Proof of <a class=\"ProveItLink\" href=\"../../../../../_theory_nbs_/theory.ipynb\">proveit</a>.<a class=\"ProveItLink\" href=\"../../../../_theory_nbs_/theory.ipynb\">numbers</a>.<a class=\"ProveItLink\" href=\"../../theory.ipynb\">addition</a>.<a class=\"ProveItLink\" href=\"../../theorems.ipynb#add_nat_pos_from_nonneg\">add_nat_pos_from_nonneg</a> theorem\n",
    "========"
   ]
  },
  {
   "cell_type": "code",
   "execution_count": 1,
   "metadata": {},
   "outputs": [],
   "source": [
    "import proveit\n",
    "theory = proveit.Theory() # the theorem's theory"
   ]
  },
  {
   "cell_type": "code",
   "execution_count": 2,
   "metadata": {},
   "outputs": [
    {
     "data": {
      "text/html": [
       "With these <a href=\"allowed_presumptions.txt\">allowed</a>/<a href=\"disallowed_presumptions.txt\">disallowed</a> theorem/theory presumptions (e.g., to avoid circular dependencies), we begin our proof of<br><strong id=\"add_nat_pos_from_nonneg\">add_nat_pos_from_nonneg:</strong> <a class=\"ProveItLink\" href=\"../../../__pv_it/theorems/2dd73f7a76083dc2c62bb8360dbc2d770b74bba90/expr.ipynb\"><img src=\"data:image/png;base64,iVBORw0KGgoAAAANSUhEUgAAAyEAAAAZBAMAAADUATydAAAAMFBMVEX///8AAAAAAAAAAAAAAAAA\n",
       "AAAAAAAAAAAAAAAAAAAAAAAAAAAAAAAAAAAAAAAAAAAv3aB7AAAAD3RSTlMAq1RmmUTNIjK7EInv\n",
       "3XZ/CtNrAAAACXBIWXMAAA7EAAAOxAGVKw4bAAAHwUlEQVRo3t1aa2wUVRQ+Ozv7mtluiw8Casj6\n",
       "ADGRuuEVH6QuQQyPEBYwUZHommqI/JBtJBCM4GqMj1howyOyRHHABIFau4IYHklTMaRURaup4ION\n",
       "U2mCCm2aGoQs0XrPvTM7dx77+lFLucneOXPuuXPunO+ec+69swBFiitzGq6OMg2u2RIlPxGJ3ky4\n",
       "qLD3ahm1gMP2jWCzFxh7IzZjBe7IyEFkN1a/jWBEPKr5Xvo1tQLkb49riECNhkgVXm8vhIiLztDI\n",
       "cL/QZhxFekhV7D05pI8/a7kPhBcBtOg+AhUKQ2Q23iwvhIgYw0tiuH2+TfeTISzPDOnTvYolRZ+W\n",
       "IxDMIRKqYoi8kgth+RDxo+Ta4XYREd1jlj0UOPuuJ59LLykoPVCaWGmqbA3uqAWRu4grVICYSnWk\n",
       "SASQsgwRBE4OF8wjK8hl/3AjUome2mbP96rzMkDN85jqQtKebEliJaqyN3zJLqH3MqcoIi+oqwki\n",
       "uo9ALUMEk7u3cGafQi7x4UakgcwcIT60iMidQ4tILcP9eS16uRJjQmkOkbnaWutkJvNVYUSCmcyZ\n",
       "9HAj0qtHrrrW9U6vnYedDxHfzedUm7R3XHfYLCb33evwUGduXkRazyYZ8QmtV+vpxJUIwFYOkQsa\n",
       "InMAthdGRExCQBluREbjWMhwPe3wvuIQcJzZeRFZlghkbdItK6RLJjHf93TiWsScuXkRWRcWtTw9\n",
       "HUzLKFfCH21uNhB5SmGI1IGPpG6JraWSToiQ9rr/cfPqXFK4PiQz+KMILHB47TzsfIhIX4BIQtSH\n",
       "Zul7FPjGJFaR1hm8mDM3LyK/QFBllr2b3scNRGCy8K7x2g1JhkhAkUnSlFn3H9kk6DoIM6qMHeJ2\n",
       "OFiOWV9vLBOHdfNj7s9zm1euv9yai5ZPk1+QDHQhviJ8QF9LJOGUBF0cKWVLR0cpZra5LMhkvs5k\n",
       "vkORfrQrtJqlHwa4YhJbiI+z6yLcYqqMBjGbs2wDEn7CzvykIeJSbjH6vBxjiAiqObFvHLsVbpUV\n",
       "UTEQqS4vsbvKSTr+7lRMqDoC8wxESH+Jaa+Bx3W5Lg2RDpAugr+v0zIRKVukE78UHwk2QkvMYTZ7\n",
       "BkxiHThAB11QiiqtIWjMz2XUPRs5H5Gqmo0OLRoiEK8xgTsH9/BqVOZOUbxutRxEgskyhB8iwkKN\n",
       "CGkDEdLft4VG0RNQmeB8hEQt6V9w95MeFisxdmXMd7k0RFpUeNAeXwb0Ca2JkaeCoy4oRZXW0GK0\n",
       "T6J1J4cIbAxwPqJFLdhP9huebqqrJ8y2+hPHr+cRkSegnx44r1uHI7ljmhyzoe8musTIIS2ftY9a\n",
       "44VwBMKrj6ocItjfP4o8zJeFYJhDJKCCNACu+J12K1G2WykZkTCMFhJPVpmlL2M64sX+Ipax6aLc\n",
       "ElRpDZXkkTG0LMB9lNGXO0UhCITe4hb4CQ2Rl8i4Pq6kUVGIM5+aKO96gkPEh0G+OdGgw8CRRjGY\n",
       "vUoPTuhYvd70g9++tdN4e+nYk0fGc4jQ/r6ZSfBnoULf+I5FFMlId8CkaNRuJcbO7Sh0oP5G68f1\n",
       "yjB1QBW6REnNmh9yPWwxA0eWVIfsuijXqopqMPQZDWShJSdFupWazyyqTzJKPGyYRF9rgYtA9SJ1\n",
       "qH1ylG39J0L0D/7sdwyGFyAWXkvjO5Ke6tmW8IPtAXYmOJ2Oe48mLjZKycU9MXPmIzwguWoJQ0QM\n",
       "NRqIsP7S3BhBJKjPQFys+4kRdp5/Y1zSbiXGhg2KmY3ZpyKqV9xaa9yhut99uyxG3flpxIyIfKBG\n",
       "seuiXJsqqqGLU6U3HJ3yJ1oWZyHTPXYpy6ArO8xHdTOAP43fwcwfcT+XSm0iiDR5eUSwHIdu8E9S\n",
       "dDLITi2NgkxWTsBMeq+LY0Juk/rNuUYDaHoqlQoLSSkdNxBh/cHdTqJWZZibQNpS0CG26/u+7WXt\n",
       "2QNqPmlezFlXcVWmBtxK+bQHeQ6zUxRrmckjImVpNq5M+NPMRzzVFkTI3mnzPnZiTEkf1JvTCDIF\n",
       "XE5CPxwj9SX9gJlm54QlcCHPPRXgbeYjsFg1EGH9hR2mzE4hnGqzkvk4bxWsKeeksWVPPuklToiY\n",
       "xIqrMjXge4hFvmjU8ogI8ahEsKjX9u/TIDfhcz7S7r94P5qYyFEStiLZlKuQKdyB1M/uRlI/CzJF\n",
       "pAm8MbKSCsQ4WcZbsxvYYYA7xo6iNURIf8KrpUlwkensN5CwWsl8Yr/tzXnlLAoniKVIOeoqV1V9\n",
       "8fNz/exXj6sJ/zEKw1riLP5TCfadikfkkcnnI2hiIkdJMYlkfcLfjpXG3Ia81/qwXkXCJyJSH/bN\n",
       "InF3DlJMtl3nPYBvRh69YTkAhwjpD6FNbIeYe23qY/pa3vfZFadYERwc7C/HTDvPlfJhxlFXuapw\n",
       "gr9TWMRdBZavugL1G+lwaqvlFIUraGKBkUdCORJ0SuoMa5SQEweaCWRF1ShaGHUj+TWlUlzO13dP\n",
       "/k22AV+H1XoYoYVYNlTko19FworIUu9jbY4njdwG+8J+Isf4g//oJO2sLRAUjVqaE/fQXLJysFOj\n",
       "aIhVzHslGyIOZTeM3OJoWWvRv7MbJSL2KEUQYXJOpJUy7t35qNBt0XIQEdIjFxFHy1qjY8n/RRmy\n",
       "/2sJN9h5hRz7Gv6/FkUNQes9E/kPZreIbUNw8dAAAAAASUVORK5CYII=\n",
       "\" style=\"display:inline;vertical-align:middle;\" /></a><br>(see <a class=\"ProveItLink\" href=\"../../../__pv_it/theorems/f3b763e044806d2ecef610383b6ebd3c1e2327f00/dependencies.ipynb\">dependencies</a>)<br>"
      ],
      "text/plain": [
       "<IPython.core.display.HTML object>"
      ]
     },
     "metadata": {},
     "output_type": "display_data"
    }
   ],
   "source": [
    "%proving add_nat_pos_from_nonneg"
   ]
  },
  {
   "cell_type": "code",
   "execution_count": null,
   "metadata": {},
   "outputs": [],
   "source": []
  }
 ],
 "metadata": {
  "kernelspec": {
   "display_name": "Python 3",
   "language": "python",
   "name": "python3"
  }
 },
 "nbformat": 4,
 "nbformat_minor": 0
}