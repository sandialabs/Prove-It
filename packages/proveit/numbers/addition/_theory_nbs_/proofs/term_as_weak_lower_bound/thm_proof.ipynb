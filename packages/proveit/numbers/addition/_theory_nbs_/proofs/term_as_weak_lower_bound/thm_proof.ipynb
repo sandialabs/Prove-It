{
 "cells": [
  {
   "cell_type": "markdown",
   "metadata": {},
   "source": [
    "Proof of <a class=\"ProveItLink\" href=\"../../../../../_theory_nbs_/theory.ipynb\">proveit</a>.<a class=\"ProveItLink\" href=\"../../../../_theory_nbs_/theory.ipynb\">numbers</a>.<a class=\"ProveItLink\" href=\"../../theory.ipynb\">addition</a>.<a class=\"ProveItLink\" href=\"../../theorems.ipynb#term_as_weak_lower_bound\">term_as_weak_lower_bound</a> theorem\n",
    "========"
   ]
  },
  {
   "cell_type": "code",
   "execution_count": 1,
   "metadata": {},
   "outputs": [],
   "source": [
    "import proveit\n",
    "theory = proveit.Theory() # the theorem's theory"
   ]
  },
  {
   "cell_type": "code",
   "execution_count": 2,
   "metadata": {},
   "outputs": [
    {
     "data": {
      "text/html": [
       "With these <a href=\"allowed_presumptions.txt\">allowed</a>/<a href=\"disallowed_presumptions.txt\">disallowed</a> theorem/theory presumptions (e.g., to avoid circular dependencies), we begin our proof of<br><strong id=\"term_as_weak_lower_bound\">term_as_weak_lower_bound:</strong> <a class=\"ProveItLink\" href=\"../../../__pv_it/theorems/795c774a865c1781d4276990a233e58e2407dcc90/expr.ipynb\"><img src=\"data:image/png;base64,iVBORw0KGgoAAAANSUhEUgAAAyQAAAAaBAMAAAC0vIV3AAAAMFBMVEX///8AAAAAAAAAAAAAAAAA\n",
       "AAAAAAAAAAAAAAAAAAAAAAAAAAAAAAAAAAAAAAAAAAAv3aB7AAAAD3RSTlMAq1RmmUTNIjK7EInv\n",
       "3XZ/CtNrAAAACXBIWXMAAA7EAAAOxAGVKw4bAAAHeUlEQVRo3u1afYhUVRQ/O/Pm673ZmU1LKmGZ\n",
       "ssw/2m1Ik7KwEVexRByyIlJ0JCM0kFkQZCuXCaKCtlwyydnCniambjmTX/lBy6bEZmVMspakE29T\n",
       "srSWZUOTlbL7+ebd97Wzf8yY6IH7PJ57vOfe87v3nHvuCDAM1RR/hOtUNYoUjw6r478S08q4dQdY\n",
       "u1rJYe5ptvCJ/0dIlKRr9y+sXa3k02zFC9nKJ0Id/us4N0hq8B+eeDUhcTPpydNWQdp6pKLDnzIL\n",
       "5PcL6IjEOSQzsOw5N0gkvGn96WpC4mZyM2uVpCUVHd2vEhyeMUgS6LOMQ/Iyjm7tbpAE8UFqqWrg\n",
       "cjM5nTVTNLA/Uj6nwz3PVXuwPLXyTFk6vAnyR+fPuiQaQ59JHBIMmRJzzSUIPthR3VziYrKbNVM4\n",
       "sw/QDmKARjdt31BZamWasnZ8za4xJ1QmWISZsMog8cbdU7if3gFS1YXE2aQnRVslIVEKlYWEhywv\n",
       "x+Rz4uk4gwSOFIvfuEMSLhZP5qsLibNJKU8bNHe12q3bQewESWDsGc2i7a/vi4lqSv/9NoPaSx0h\n",
       "6TrFLvef6l1LaL5c3D8KjVbHIZkF0OEOiZSBkFpdSJxN+uO0+XrgA9Um5tiLHSFZkA4NWbRzy+S/\n",
       "BbXAUXjEOqi91BGSVTGJ5ezJpTyzGE9WvqDm0uBNcUiaIYCSqUzhythBgvqbq1yXOJusjdH2cRzm\n",
       "2KzbQewEiXwIJBSlPhK171HhO0GtNs8FRjV7qSMkJyCsUQ/fXYJkKYbEM4S7PN0ckpCKGYX+u+MU\n",
       "/t7d8FBdqVTsgN2VhECejefV2pg2lIrE5KtsV3lOLBnDFxxO0jYXrxE+JFlFQmEOxV88YyKWD9yg\n",
       "imKR5hSL3xaL32OVAexY6BK1ZwJcEtTm4uGstpB0OFOlDmlI9/BqHa3FZM1SCqJ5CA5wSDyamN3f\n",
       "umUt3KaoklqCpLFi2b1hz7TlaAvsSuN7XcoACTFZk2fz0fLKiyZIDoN8HoL9BdNWJGKJbP1yTkm4\n",
       "HXJJm/3sGxTUDqNmZwvKMcU6wqVKYwFP770qP26LYuDTTwmkpgqwzsLVvJZQDA8qfq9WATiCfdlk\n",
       "RIHPkN/l00m5m98NycSIyXCGzUfTvNvFwCX/C94BtFyTm6g4mgxcLA+SnAYPW0PMIN/STA2NCra2\n",
       "oBxTrCNX6m8wXYJRWYJOHBqfQ7IDFQG+PmLkdIxW+xPubDVCooyvRHZvQg6PRGAKnmrgWKDAoiaF\n",
       "hJhc3X8rnY+mRTaxzpBGmjwINam7rG4iYq9aNiQxGONJL6wTtS/ilGRU+wt5yGKLSMswxTqiaMgk\n",
       "9jDAA6ZSMZpBOQ287TokL6EJbY+SiOhJyeR4TVA2zjdAEvgCr3bnOR7sDawhI5SEXfq565pqk71P\n",
       "kTniNx0MyVlUywZnq+iU9BggISb/VE/T+Wj5Fv4whK6KpK2HhkTC6iYq1isLjtQF/smlBF+HNE+v\n",
       "JGtD4iCj4R0ROXSx2mu1RaRmU8SCYIp1oOuWkpFISTXb9KBSEw8lyNWeQ1KDdusL5CxtUxK0+p8A\n",
       "id+NL8E3o/ZJejV3uYEtUUlYm2wDM2egY0FSfG8luCiB9XHwjSaVoTGXEJNrYDKdj/bIPj3cFWjb\n",
       "cO61+ozVTVQMb6qiuJd/ahPijat+b/NvgY0mr27YFRchUXZOVa22iNRiilgwmuIdByaexR7GHjDv\n",
       "5rHTibN0SNjuopd+79Js9m0ESaffCAmJM4Dc26Jy1tc4wxSHcH+I7p4tTBFxFj2pXc4AujyQ56OI\n",
       "9F47yKMw2zoubX6c/wqm0flo2m79zee4fjG0ie+8AOwYUfUe0py0jWr2toY3JXTgkipQsNVbBQIk\n",
       "8hCpSKLpYJ6eEl+jGZIvoQ+CDSpnw5ATR8RCzpUUrXph5vDJ2Ww2Fokoj9nVJZQG4CCdj6Y9sZ/3\n",
       "TmJNdJP4trcCVo7k2TG3xUl7nh0kgtrwpoSOKNp3UtzpPdUIiSeVkNHi21glfx/o/uWQoHp2zTao\n",
       "VTkbADEmEaEHX/ABV75EEXNmPTIpL/LpG+SURHzz1UBTU9MMO0h+Qhmvg+YSZZO+pdO0iW4SKLDu\n",
       "9UdHctEYL5WjZWtrpKba9CduuUhIL87xc7xwSurTwYMEhxakE/whTX+4Mp6SnuD5KdjTCDrCwlrM\n",
       "duofLPTcgblnQWGKmEN6Bq1O8Cchv3Iz0AcTdAnen3A8Ja/00/n4lj8vN/FMgxO+zO74gT2X7MJF\n",
       "+PLlgZH4acOZMpTsbY3UFN7p79r24G0m5BK8C8gTpbwvu9b0oELp8XvPxbGnEXSElTKYbUsHe/CH\n",
       "Cddh2QqUx6gi5pAetMWoFvrEAtNRUnwQ7y806JO/5jfNtEBi/O3dPB+UdFi7Kgl5OGL/0xzaFpGT\n",
       "Jkie9j/VbfvsaHxhUgl0mPZHdBY4JxdijCspYj0o/SBDuZvwvTybTcK1RbYeNpERkrh0Wh0GkuAf\n",
       "OxB0VH75H84SPNnFTaVcSZHo+fSBGVeAa5JsPewCiQOwlv/HFbdj3TmvyEVuT8B1sqVI8dAVseu5\n",
       "8brvnek/ldmXY0cqan0AAAAASUVORK5CYII=\n",
       "\" style=\"display:inline;vertical-align:middle;\" /></a><br>(see <a class=\"ProveItLink\" href=\"../../../__pv_it/theorems/afe1a6ce3aabd65900e25e56c1950fce782b24560/dependencies.ipynb\">dependencies</a>)<br>"
      ],
      "text/plain": [
       "<IPython.core.display.HTML object>"
      ]
     },
     "metadata": {},
     "output_type": "display_data"
    }
   ],
   "source": [
    "%proving term_as_weak_lower_bound"
   ]
  },
  {
   "cell_type": "code",
   "execution_count": null,
   "metadata": {},
   "outputs": [],
   "source": []
  }
 ],
 "metadata": {
  "kernelspec": {
   "display_name": "Python 3",
   "language": "python",
   "name": "python3"
  }
 },
 "nbformat": 4,
 "nbformat_minor": 0
}