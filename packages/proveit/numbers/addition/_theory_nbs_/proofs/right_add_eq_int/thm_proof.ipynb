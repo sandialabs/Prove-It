{
 "cells": [
  {
   "cell_type": "markdown",
   "metadata": {},
   "source": [
    "Proof of <a class=\"ProveItLink\" href=\"../../../../../_theory_nbs_/theory.ipynb\">proveit</a>.<a class=\"ProveItLink\" href=\"../../../../_theory_nbs_/theory.ipynb\">numbers</a>.<a class=\"ProveItLink\" href=\"../../theory.ipynb\">addition</a>.<a class=\"ProveItLink\" href=\"../../theorems.ipynb#right_add_eq_int\">right_add_eq_int</a> theorem\n",
    "========"
   ]
  },
  {
   "cell_type": "code",
   "execution_count": 1,
   "metadata": {},
   "outputs": [],
   "source": [
    "import proveit\n",
    "theory = proveit.Theory() # the theorem's theory"
   ]
  },
  {
   "cell_type": "code",
   "execution_count": 2,
   "metadata": {},
   "outputs": [
    {
     "data": {
      "text/html": [
       "With these <a href=\"allowed_presumptions.txt\">allowed</a>/<a href=\"disallowed_presumptions.txt\">disallowed</a> theorem/theory presumptions (e.g., to avoid circular dependencies), we begin our proof of<br><strong id=\"right_add_eq_int\">right_add_eq_int:</strong> <a class=\"ProveItLink\" href=\"../../../__pv_it/theorems/8ad9eeba61f79fd55754c8da23cd4211252a0de10/expr.ipynb\"><img src=\"data:image/png;base64,iVBORw0KGgoAAAANSUhEUgAAAS0AAAAXBAMAAACsWwSiAAAAMFBMVEX///8AAAAAAAAAAAAAAAAA\n",
       "AAAAAAAAAAAAAAAAAAAAAAAAAAAAAAAAAAAAAAAAAAAv3aB7AAAAD3RSTlMAq1RmmUTNIjK7EInv\n",
       "3XZ/CtNrAAAACXBIWXMAAA7EAAAOxAGVKw4bAAADvElEQVRIx81WTWjUQBR+ySbdJPvT9SKUyrKg\n",
       "oAerEaSgh1qpVcG/xYIXxS56EDylelK0rL0IWrAiVKtQUxH/KnX9QUWhLHrwX1ZQFHQh1UrVQimC\n",
       "KD2IbzKz3Uw60cKK+ODLZCbvZb55782bAfgLEmYI/jqdMSoWw9+Q9wxiUR2xhVi2MiRIZ3ZFtOQc\n",
       "RZB8EFoESNykaCadHRXxOscQJFW2yCJIdlIcINHuqohXE4MndKa3F2oUWZSlhestpiCLiaQq4pVn\n",
       "8MSJT6nHIouyLOB6UdtFCJdWVVl6ZSiCeW0XWATyqjIpnhWLTyripeQoYGDowt0Uz6ttsB2fVwUW\n",
       "xrAJfTyvcO0I2kUSFKsBTk5j8t+kNVsgNMaTSoHjpT6A0xiWevcPRVcSzCIi52EZz2uLpU9gNmYo\n",
       "2iCcCJxTenTjlJu1ejCvWIoiZIUmJJPjddmEddjMF1h04BJqOF7GfSDLQr4udDuSFs6nDfWkY1Zk\n",
       "wP4Dr2iaQgMlwxzz7hl1zAaAt9gcEVjYUQee4/u6YvFpsfiC2I1DDAOsjVPITkDar8iiD6BjN0yT\n",
       "Fz4dX94/AuMbCZDAAlpt7Qfnr2gXXMEPap4CMg346G+4Rb6NrRrGw0kdAsktuiRpGj284sPtq0rn\n",
       "RQISfBxxKsuwvbyMnxDClUOdL79c7ZUQz3O8rjhuwskFCriG1dV4rX0n81o1VWgzUG13wkVaE3dl\n",
       "PbxGpK5tSg/KMcOZ0NhvdYfiYnoWRDh/GV9ByswFWOLzF9GGo6AneF4pmClbEMIiTwD78LPS6M4S\n",
       "gl4Nm7118JlV4QE2E+Vl6k6W7ekzhTg7JUobe+GhtbCRj2Mv1BF/r/HxItqwHFpNjpfuyC8VT9mR\n",
       "siTicUr+u/ushSTUo1tSkLsDlzz5VT15BZFyEptcK1CcHZObUjyvvtGDSfz7K/+OImHqG9xg8fsx\n",
       "ebvtEwY5TUF9aOlLSWpoefdm9AoewmG3AM0z4Y6HVydYNI5oGmWugzcMQfU+XPBvFap9U1jv9zPQ\n",
       "vWAdabH7YV8ko0A/2qnjWD+IxxVQC5O8wvmbUDqDY9lW30kbeG4rpp8Xakcyxj3huc3dAtSmBdeh\n",
       "M6V8HPyCDcxZkoHwCRxfNGO0O1H21/rNY6U7i9zUPZnGFkWQ7JkygtoxRxJewsjdxn+/YdmRMiwd\n",
       "l9jf01MuuFPq13k4Vno1uiiC5PiUEdSWG5qFyoJFqjZrJGfTFHX/QFItXwraGQJuoAJXBmuPMHjv\n",
       "b6VGbcj9kVfLKPwPEv7H8/0CFxcBl1MfZbEAAAAASUVORK5CYII=\n",
       "\" style=\"display:inline;vertical-align:middle;\" /></a><br>(see <a class=\"ProveItLink\" href=\"../../../__pv_it/theorems/5e8aed184b77eddb9fba9d2ff587dbf81c2fd8220/dependencies.ipynb\">dependencies</a>)<br>"
      ],
      "text/plain": [
       "<IPython.core.display.HTML object>"
      ]
     },
     "metadata": {},
     "output_type": "display_data"
    }
   ],
   "source": [
    "%proving right_add_eq_int"
   ]
  },
  {
   "cell_type": "code",
   "execution_count": null,
   "metadata": {},
   "outputs": [],
   "source": []
  }
 ],
 "metadata": {
  "kernelspec": {
   "display_name": "Python 3",
   "language": "python",
   "name": "python3"
  }
 },
 "nbformat": 4,
 "nbformat_minor": 0
}