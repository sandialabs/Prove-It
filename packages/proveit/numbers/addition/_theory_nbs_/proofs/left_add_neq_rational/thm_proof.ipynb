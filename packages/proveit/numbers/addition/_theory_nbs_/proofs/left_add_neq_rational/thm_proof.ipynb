{
 "cells": [
  {
   "cell_type": "markdown",
   "metadata": {},
   "source": [
    "Proof of <a class=\"ProveItLink\" href=\"../../../../../_theory_nbs_/theory.ipynb\">proveit</a>.<a class=\"ProveItLink\" href=\"../../../../_theory_nbs_/theory.ipynb\">numbers</a>.<a class=\"ProveItLink\" href=\"../../theory.ipynb\">addition</a>.<a class=\"ProveItLink\" href=\"../../theorems.ipynb#left_add_neq_rational\">left_add_neq_rational</a> theorem\n",
    "========"
   ]
  },
  {
   "cell_type": "code",
   "execution_count": 1,
   "metadata": {},
   "outputs": [],
   "source": [
    "import proveit\n",
    "theory = proveit.Theory() # the theorem's theory"
   ]
  },
  {
   "cell_type": "code",
   "execution_count": 2,
   "metadata": {},
   "outputs": [
    {
     "data": {
      "text/html": [
       "With these <a href=\"allowed_presumptions.txt\">allowed</a>/<a href=\"disallowed_presumptions.txt\">disallowed</a> theorem/theory presumptions (e.g., to avoid circular dependencies), we begin our proof of<br><strong id=\"left_add_neq_rational\">left_add_neq_rational:</strong> <a class=\"ProveItLink\" href=\"../../../__pv_it/theorems/0c2742453fd2d36da1ef472ef8149f4c7c9acf6a0/expr.ipynb\"><img src=\"data:image/png;base64,iVBORw0KGgoAAAANSUhEUgAAAS4AAAAXCAMAAACCnFKgAAAARVBMVEX///8AAAAAAAAAAAAAAAAA\n",
       "AAAAAAAAAAAAAAAAAAAAAAAAAAAAAAAAAAAAAAAAAAAAAAAAAAAAAAAAAAAAAAAAAAAAAAAeYafp\n",
       "AAAAFnRSTlMAq1RmmUTNIjK7EInv3Xbt5cnn9enzas/lfgAAAAlwSFlzAAAOxAAADsQBlSsOGwAA\n",
       "A7FJREFUWMPdWImypCAM5JQ7e/v/n7oERY2DB9Zszaul3puUBx1pOiHA2JdpZmef9H3Xe2/6rH/Y\n",
       "QFDb1TS07yvf9PEEerJ8uS/kJ9kSgdpespsfb13TxzPoYpWut4dPys0P1Ha3wTduOtvy8RQara3y\n",
       "Mu6T4lKS2mZYnMlfqoa4eNNHL3aFLrZyF8Qn6Yo724xXOEV4lZczTR/d2BUarZx5HT7JlhiofUDX\n",
       "8KIPzZs++rErdLExYYvho7EYqGWGBzBwPiQPwL0Nc1gE/jJK0/RxB9tDiVzPCXSxquRD59808NOE\n",
       "fmv+UBgxD9WN/pSu7Ao4MJWmzLKIR5X5Tz9/4S9/8XEHOzCBoStHAl2s4fWnfz0LTnFOJvFswQj6\n",
       "6EkSxPpYFu10qgBpcDye8YkGEc/F1YNtxfQCdwR6siis45G0yhngzuUOJqC+gxT36DqZkqiJVWVW\n",
       "U6B6iVPaqCgYFGrNR3bcZS7V9nEHOxMSkb8IBHqyyGxPoldqLmeCQaK8lOYWXdzcpSsiih/1ZTqO\n",
       "6y0dz8XVh60xWO1oCfRsByahRpeEsPgBUCb/1U0AnzYBSwFtrSjPgEGbLtKf6UBxjoPRj7AmjjO6\n",
       "9JjB/ZSFRCJ6+f0nJZq7urCLbKEGYSI2iLn48slkSuv4wGDwDnPIA8uE28j8Qoj0E3FHdC39lcP2\n",
       "Lf/LFYdWSLC1fkSffGDCHA/J53TAY0nL09e4iyq/Azu/zOvPBnq2JvIaZmwzEllczIFnPHILblP/\n",
       "VpqAhSZdpH8V5YJDFwFOLI5MJLVbZumQxGi9yt+qxa5OmJ6+rtAd2BmNo3Zlu8zhdg1v2MbJuJkC\n",
       "nl/O67YcilacYPoqGLf9V1HOOHTxSMR6DsEaDvZkSF4BZFaWdSbpiy1kBza+FUDVr6/Q1EUWKlYk\n",
       "0i+uUGnLgPHlaJldZ/Ey1c/9MRi//3AlGBecXfKy1HZX3iZdnj30YoeBQpu0XzwwdWnpc8rHEC0d\n",
       "FCtXxZseSUFrixIDOflZ6Vr7091uxTnexj7ZYtP9c/N8ogMbP9xHcbH911nbECTKIr+qQAcAP1+h\n",
       "8F0pa9djER+SGrg9KFOX/nTTUHHa22H37BiJnqfI9o7uPnaCKWlsoU+PbMT+ypdAnWt5V8rUEo+W\n",
       "cu6utL7i0ETg9jmuq1EmUnu3dR9bSFgOAu9MpPb7q5yddaOYVUJmFV3Rtel4gMPqptfAkxNPOpSj\n",
       "JPUEu0LDmTTly5XOBWx7RyTtlbqE3mYJ+Ojhx9dq5r8e3V8eviIq+JI+9gAAAABJRU5ErkJggg==\n",
       "\" style=\"display:inline;vertical-align:middle;\" /></a><br>(see <a class=\"ProveItLink\" href=\"../../../__pv_it/theorems/4c9d476e8ffcaf64cea0536d55ab6716be9786520/dependencies.ipynb\">dependencies</a>)<br>"
      ],
      "text/plain": [
       "<IPython.core.display.HTML object>"
      ]
     },
     "metadata": {},
     "output_type": "display_data"
    }
   ],
   "source": [
    "%proving left_add_neq_rational"
   ]
  },
  {
   "cell_type": "code",
   "execution_count": null,
   "metadata": {},
   "outputs": [],
   "source": []
  }
 ],
 "metadata": {
  "kernelspec": {
   "display_name": "Python 3",
   "language": "python",
   "name": "python3"
  }
 },
 "nbformat": 4,
 "nbformat_minor": 0
}