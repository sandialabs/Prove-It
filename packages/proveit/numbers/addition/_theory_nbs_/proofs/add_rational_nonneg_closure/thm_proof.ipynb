{
 "cells": [
  {
   "cell_type": "markdown",
   "metadata": {},
   "source": [
    "Proof of <a class=\"ProveItLink\" href=\"../../../../../_theory_nbs_/theory.ipynb\">proveit</a>.<a class=\"ProveItLink\" href=\"../../../../_theory_nbs_/theory.ipynb\">numbers</a>.<a class=\"ProveItLink\" href=\"../../theory.ipynb\">addition</a>.<a class=\"ProveItLink\" href=\"../../theorems.ipynb#add_rational_nonneg_closure\">add_rational_nonneg_closure</a> theorem\n",
    "========"
   ]
  },
  {
   "cell_type": "code",
   "execution_count": 1,
   "metadata": {},
   "outputs": [],
   "source": [
    "import proveit\n",
    "theory = proveit.Theory() # the theorem's theory"
   ]
  },
  {
   "cell_type": "code",
   "execution_count": 2,
   "metadata": {},
   "outputs": [
    {
     "data": {
      "text/html": [
       "With these <a href=\"allowed_presumptions.txt\">allowed</a>/<a href=\"disallowed_presumptions.txt\">disallowed</a> theorem/theory presumptions (e.g., to avoid circular dependencies), we begin our proof of<br><strong id=\"add_rational_nonneg_closure\">add_rational_nonneg_closure:</strong> <a class=\"ProveItLink\" href=\"../../../__pv_it/theorems/f768723faf68503ba0e870a7b629d9d25a92847d0/expr.ipynb\"><img src=\"data:image/png;base64,iVBORw0KGgoAAAANSUhEUgAAAdIAAAAaBAMAAADxgsBoAAAAMFBMVEX///8AAAAAAAAAAAAAAAAA\n",
       "AAAAAAAAAAAAAAAAAAAAAAAAAAAAAAAAAAAAAAAAAAAv3aB7AAAAD3RSTlMAq1RmmUTNIjK7EInv\n",
       "3XZ/CtNrAAAACXBIWXMAAA7EAAAOxAGVKw4bAAAFwUlEQVRYw91Yf2gbVRz/Nskll0ualapzdVjq\n",
       "hrOgDbGbyuqo0bU6LGWFin9Y0aigOBQu4B92ahdF0WFpg7VIC87rCv5YnE1b56Zjo25I/W3Vzsn0\n",
       "4Oomc+uUMayVitbv97275C6XjETOCj7Iu+/dffPefb4/Pu/7HsD/s21vY5f9s0VpX6rKDs59zZIi\n",
       "ld6twd6tCUmIohBSvzqfdszJqV3RJfbqqQhAMAHz0Mlu1y4Z0lep8zkN53wDrtdgmwKH0LFLi7SP\n",
       "uh+cRipo9rAdeFFPug1yrwJfAxzjSCvosroA0jIWdxEnjD9BI6Udj9HjuQ9mPoQnVjIp1Q+I9HN8\n",
       "xJE20+WBAkg9xGBeJ3jJkzYi2NnmVaz3gesjIDQnUXpkBVD0ngMYURjSJ8ngyQJIRfJ4pxNftIxs\n",
       "ttEeffnjpb3QMLYX7hyie96LXbIRII5AOSOBN8KQklECNYXydAtexpxA2kt2nbAzspZXO1xoGPuL\n",
       "j3WmVVVGK4ND2O3zwtAtdBfSBPSVJ8mQuhGwtyAjrXWKmH4mWLF/Ael9rL/9tM5HyR7sV3kSu/j9\n",
       "/hNo4dAE597PVPWTgkiDqvq9IzSy3MjV+MGuPEh9K09qpSDN6o+y2y36czFN8d3utgSpsMCRbkKX\n",
       "ozHkvEg9CfArTiAdAJ4vwiS8otiR3in7F0pByvVfQ+laMJOmoNVj32NdLsTfOdI4+DCWA3xK3/Qe\n",
       "2FCRRYqv4v+oGGshOF3hjP3uwV85WvrNCLQCDMesSKXD4JmC1OglRSLl+nAQxasY0sxilqYFsz3U\n",
       "tn0Amz67b44j9SsBXg1DT1U/XBZQPIqpchiEPSVXnDdejKO/LROfZTJzmpgQ59kM8B2Iv0yxlQdT\n",
       "A3OHOOMslKexQG2lx62q+qmqfmkfOfuC63Oqo65bxcYWED1PLXEo6Uhdmm4RzyaqIbRowFwjhUsi\n",
       "JLLVY2kYR+dJJ9qkCYMZuU8J6UdsXteU1afBJIy0wRxsSxTnU67P45i6NzIKg3HOvZaqRY9eiOHq\n",
       "I8zo5Ubt5V0WpF63VkJ5QLbaWwPD19H4R3xT8G1O9Ep/gfusHemIBjcANBSNlOvfRWlWR/flGYUO\n",
       "tp7WW/4kzutIx5C43lqmSMz7tYGdHWakgTUYCNL4rJFwJjHbUo17M6WZ+JQMoRBeWxT06aShUoU/\n",
       "vwbSOSiLXWFHWgPLXTjugSLzlOlv1YjE1vN1M2NsqpEuslZCBvfC42iarXV6uVIL0VNmpL73sdst\n",
       "9xrwTGI2D44yqwGzlXsYCKlwARsgE/pnyGo40Q6oi0ZtSP2aa9qD1jmWQzy/EaqYLpheMH3fThql\n",
       "hT24N/Mxo1j3XphTR+nrKZRRyOwA94MDAy8g0pTXspehoqoJurEoZFlOohButgZtVMSxktxW5M9Q\n",
       "QKqkF12rM1a5G/8t4pcNzT5bnbAhlar3xX8ypjD5lHisPKoLZhMwfT/9+Qh7MNRv/NW3+f5fEzlJ\n",
       "VWHatUkLCTHNfSqEbbu2D3A7INYphhiEEctIwbYQW5iYrQQ9enMasVE2a3OR6h8Z9cml1Egjr+N/\n",
       "9JE6Xlb1zy1LNObuAiImpK5YlOoHdgYyk4tUmoe+XVCuGKKPXGyeUfY3KFdqwG3FGMnX1NTUbNvL\n",
       "rLMhtVT4nc89rZRS4a/BgPfYtwjVocpnrN+nmH1aLUMnOl38RuabUotPJ8W5BkIqpbkI/SSmeJeC\n",
       "oNzbrqyKArdVTwWM2aen+Aa/sZS/80c+Rv9icbGklXvoZN6NlqvqoT7Lg6tzzxxwt96f/8zhtvrZ\n",
       "CCEVD3ERa0QUu2VxErvuGmFjeBz8aCeyFUgHbl6R57MqDcpytr1UhM7REk9XKHpdXHwvlBGx8Wp6\n",
       "t8uwVeDRSKFzpC6ngYaKOCUo9RxJPIP71Dt4hi/+aYiUajy3/Kczqjet+zFPTDl/slJkK+Js8GHb\n",
       "eW8kj+i25+TxxH9+3mtqt7Lz3sN/A7LMo497YdDyAAAAAElFTkSuQmCC\n",
       "\" style=\"display:inline;vertical-align:middle;\" /></a><br>(see <a class=\"ProveItLink\" href=\"../../../__pv_it/theorems/804a7feb46c8a1c0ee53cb5bbaf3451a2306bf720/dependencies.ipynb\">dependencies</a>)<br>"
      ],
      "text/plain": [
       "<IPython.core.display.HTML object>"
      ]
     },
     "metadata": {},
     "output_type": "display_data"
    }
   ],
   "source": [
    "%proving add_rational_nonneg_closure"
   ]
  },
  {
   "cell_type": "code",
   "execution_count": null,
   "metadata": {},
   "outputs": [],
   "source": []
  }
 ],
 "metadata": {
  "kernelspec": {
   "display_name": "Python 3",
   "language": "python",
   "name": "python3"
  }
 },
 "nbformat": 4,
 "nbformat_minor": 0
}