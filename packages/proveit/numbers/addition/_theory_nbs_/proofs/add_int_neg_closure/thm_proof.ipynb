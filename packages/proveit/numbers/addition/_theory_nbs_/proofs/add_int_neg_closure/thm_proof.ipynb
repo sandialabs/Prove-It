{
 "cells": [
  {
   "cell_type": "markdown",
   "metadata": {},
   "source": [
    "Proof of <a class=\"ProveItLink\" href=\"../../../../../_theory_nbs_/theory.ipynb\">proveit</a>.<a class=\"ProveItLink\" href=\"../../../../_theory_nbs_/theory.ipynb\">numbers</a>.<a class=\"ProveItLink\" href=\"../../theory.ipynb\">addition</a>.<a class=\"ProveItLink\" href=\"../../theorems.ipynb#add_int_neg_closure\">add_int_neg_closure</a> theorem\n",
    "========"
   ]
  },
  {
   "cell_type": "code",
   "execution_count": 1,
   "metadata": {},
   "outputs": [],
   "source": [
    "import proveit\n",
    "theory = proveit.Theory() # the theorem's theory"
   ]
  },
  {
   "cell_type": "code",
   "execution_count": 2,
   "metadata": {},
   "outputs": [
    {
     "data": {
      "text/html": [
       "With these <a href=\"allowed_presumptions.txt\">allowed</a>/<a href=\"disallowed_presumptions.txt\">disallowed</a> theorem/theory presumptions (e.g., to avoid circular dependencies), we begin our proof of<br><strong id=\"add_int_neg_closure\">add_int_neg_closure:</strong> <a class=\"ProveItLink\" href=\"../../../__pv_it/theorems/d90df6987802ff7ca6ff70c5819de204c2a721180/expr.ipynb\"><img src=\"data:image/png;base64,iVBORw0KGgoAAAANSUhEUgAAAcoAAAAZBAMAAABDb3PaAAAAMFBMVEX///8AAAAAAAAAAAAAAAAA\n",
       "AAAAAAAAAAAAAAAAAAAAAAAAAAAAAAAAAAAAAAAAAAAv3aB7AAAAD3RSTlMAq1RmmUTNIjK7EInv\n",
       "3XZ/CtNrAAAACXBIWXMAAA7EAAAOxAGVKw4bAAAFNElEQVRYw81YfWhbVRQ/yXvJe3kvybJ/dEMs\n",
       "8WsWakp0OnCMGlkGVRGD218qGtgfsqHuVUXZHDWKoGBd62QfqTrf9ofadWtit6GbUCpjlCpikDoV\n",
       "DbyqMLVTilAnRazn3vte3me+SFZ2IS/nnvveufd3z+e9APXatWUF2tK4DCx74/EXLX9d/8Vsu2a8\n",
       "cflBgjBEnmuXD6VEBAlth1FnvGeZUYaS+Pip3SgDmoPhf+LfbeV3kkY3olKUMULfUBOlj36dbHE9\n",
       "u4mQYttt8mdHP/pmDrJBsxujKDcR+vGaKHkSNoKtxqD78Pd++z0vqDriTQqiyXEQ89gOoJ8sUpQv\n",
       "VXy0KkqR7MfOVpezgL+NbovzNpFANctxDXApe9+nwIhkwbOVoiR7Icdr++V2/BtvEaRINnXSxfZr\n",
       "nm9XYXsNfK6b5rvl8zTIAfT6cubwPRQlh5sTrBN91rYhCEVLuMTsZUC5len4qYrlirFXLMMXWYz9\n",
       "slz+og7KcLn8Y6txw4dyeCJEuOaC5rHqvon+ZlCaUj6iz+dM9wypw5YPHlMpyl6AYZewog0ln8NP\n",
       "W00k6CtB4lSPKKFF96oDU/Ce2gRKJuUDpNaBI352cdaPB3MUZR8IGF0kewhN2VDiC30tx0KcJIL+\n",
       "L50FvgTSOseqjyXhfpA+Xak2hpJJgQkkb3Fm9azNAV/MUJQhVUZCZl8LM6dgQ8yJEpV9qkn7nD75\n",
       "tj34RbAbxon4eYgUYc8fNOqjJ6DDkBD+AMAPWHWSpVvZjixRGWBSmLKoLyK7/D0LAHFcq2kWBYbS\n",
       "rxnY96zeB9fJKq+6UHY3E3zE2XwmoshjqkuXBGV4iE6ccOhyGqQFWJER/mlMl7oUartUt2buGCF5\n",
       "8WpTlzk9evboO9VLqiAtJcPJ9Ew6Y0UZ5LTGUaZRLgcvPwNCOp3e5LTYggZ3gQul9B9w88CpjaJk\n",
       "Uh6NVSSVKm+swowpzZt+qTCU45gOA7N6rdR5U7/s8kuQ16BipBNzhvOO9nzsXoDOjLK8nXJma9zh\n",
       "EC6xEIer/IoL5V8YhG/GiUoNoiRSdmkkjN1JGX9WLCm1BScrOWMs7MYdGVuhMqV3ykcedqMUPsPH\n",
       "cWVQRyl9K15ynzl05ggrSZ7OOfIlVgRyjCD1z/Buiz0ECbIvbziiTwFnl/7WCcsAlSIcKemVI5pK\n",
       "vJJHtoOw1zTgDfqZhFQKuxJ67dQJqd/cKGEVsUQYwEJPpbWiOAkP/pJxFJDIhCHYTHtjsrM0w30X\n",
       "cVVSxyd9v7pRHp57tSMHwrCDTWIWzBiERfdUCrEN+IYxVj+ku+n+6fxX02YmvNt68joE3LZ8fi+i\n",
       "HA268iVr52AWxARBGc5gqT9pMX4wmCR/YZkch+IZOGqHeQ5/31V6Cc/E+Cw830ztU/gQzUw3zsBp\n",
       "VuF5lUYGSmkxJxaZLgPd3udL6RK8dZSd1wpKaL2qiPaqlDK7NHidztmZhDPuM8ntLpS26ls4+Nq9\n",
       "zVTra9D0+donQv1Mom9RNsUqoDsANeZ9ip4SF9YTlKMQVgY3qxDKICkVjQdlXp9iVZLMQ6BklzNA\n",
       "nMYIXy/smPBYUnhpab6ZrHz4Qt2zEhez6rJDgZ3on+J5hR2aPVBuuW0uSVAOxAMbu0/Q0nAgLk7B\n",
       "gEIejBlC3zqI7966cm6/I6v74ra01q52oPZwRHHciEin8/vq3ogQi2XhTFY1gySNUcf9mFHy+Uy1\n",
       "e5/+doOMKpfh3ke8OA4BFu13LJUMkvgLo0K/VxfUdSXf4T3pvI/lvEjuCr2PVcl97Nn/ATWafCVs\n",
       "9C3zAAAAAElFTkSuQmCC\n",
       "\" style=\"display:inline;vertical-align:middle;\" /></a><br>(see <a class=\"ProveItLink\" href=\"../../../__pv_it/theorems/e673322231ccb38b5d5a1629d0199606625a6ae60/dependencies.ipynb\">dependencies</a>)<br>"
      ],
      "text/plain": [
       "<IPython.core.display.HTML object>"
      ]
     },
     "metadata": {},
     "output_type": "display_data"
    }
   ],
   "source": [
    "%proving add_int_neg_closure"
   ]
  },
  {
   "cell_type": "code",
   "execution_count": null,
   "metadata": {},
   "outputs": [],
   "source": []
  }
 ],
 "metadata": {
  "kernelspec": {
   "display_name": "Python 3",
   "language": "python",
   "name": "python3"
  }
 },
 "nbformat": 4,
 "nbformat_minor": 0
}