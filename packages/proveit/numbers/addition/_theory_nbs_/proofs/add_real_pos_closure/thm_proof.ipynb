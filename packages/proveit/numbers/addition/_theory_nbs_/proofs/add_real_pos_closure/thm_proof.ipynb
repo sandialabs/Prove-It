{
 "cells": [
  {
   "cell_type": "markdown",
   "metadata": {},
   "source": [
    "Proof of <a class=\"ProveItLink\" href=\"../../../../../_theory_nbs_/theory.ipynb\">proveit</a>.<a class=\"ProveItLink\" href=\"../../../../_theory_nbs_/theory.ipynb\">numbers</a>.<a class=\"ProveItLink\" href=\"../../theory.ipynb\">addition</a>.<a class=\"ProveItLink\" href=\"../../theorems.ipynb#add_real_pos_closure\">add_real_pos_closure</a> theorem\n",
    "========"
   ]
  },
  {
   "cell_type": "code",
   "execution_count": 1,
   "metadata": {},
   "outputs": [],
   "source": [
    "import proveit\n",
    "theory = proveit.Theory() # the theorem's theory"
   ]
  },
  {
   "cell_type": "code",
   "execution_count": 2,
   "metadata": {},
   "outputs": [
    {
     "data": {
      "text/html": [
       "With these <a href=\"allowed_presumptions.txt\">allowed</a>/<a href=\"disallowed_presumptions.txt\">disallowed</a> theorem/theory presumptions (e.g., to avoid circular dependencies), we begin our proof of<br><strong id=\"add_real_pos_closure\">add_real_pos_closure:</strong> <a class=\"ProveItLink\" href=\"../../../__pv_it/theorems/e69f2efafcb76b99c789d01b7a837053d582cdfd0/expr.ipynb\"><img src=\"data:image/png;base64,iVBORw0KGgoAAAANSUhEUgAAAcwAAAAZBAMAAABOcQOdAAAAMFBMVEX///8AAAAAAAAAAAAAAAAA\n",
       "AAAAAAAAAAAAAAAAAAAAAAAAAAAAAAAAAAAAAAAAAAAv3aB7AAAAD3RSTlMAq1RmmUTNIjK7EInv\n",
       "3XZ/CtNrAAAACXBIWXMAAA7EAAAOxAGVKw4bAAAFOElEQVRYw82YfWgcRRTAX2737vb2Pnr4R7CK\n",
       "4VSMgXLHabRgkLrQFFKlGKn6hxU9P0CsxO6B/5ypNYKgQmwOy1GuaLrVUmjP9q6tQVuwREsJQcUq\n",
       "h4XWhSn9ozZpIQixEqjxzc7u3n7cZ3IeDszs7Ludd/ObeW/mzQA0SnepMrQnPQwdTTwtJMwR9dfG\n",
       "X6fa9bceqbOYAVpktGp/BzEP0UJuN4xcH5MjncbcQ+0n1m7MFxzv62f3j8wmTUy4yDCj9HFvXcwu\n",
       "zeSSq+yPfxqLdW03zYizX9k0PPWIYmJeZpib6OO1upj8MD58qzU3vgQgptrvgtudmKMQEKKwOf9p\n",
       "Po9DUFQ0zPfoQGfrYgpR05dXkdbgYPFuk9ha/esaYvC6NDzkxuTllDmbvqSG6UPaYKy+b9IBO7Fa\n",
       "zAn8o5BbnKj+daLWck2ckpDCntdUNWViZk1MPqthckjra7AE9bdjJbqBufc/wPSx+X12rjKbXUei\n",
       "JmZkmq20P6nqDw0wQ6r6e2m1mN2Yn6AecudVUoWnhrgmZvrMLlYJaouof7vFaD/qlU1M7xLDHALY\n",
       "59JWsmHyYxBQVsRm0ZPH/Arm5+XAUhWeGuJamN4Z2K+AiDicZmeVFTK7c+TWnBkFgfA3w0yDH8dD\n",
       "tC+kkg0TP0ivbAotel7CjEGXeBb48yCud/AwceH4HU1ifpmELTiT+OaZ1jAtS1D/Ies+tsgwA0pw\n",
       "mDWgwvIUPBp1YuJ0T7UY2F16tZvYMcuYz+EYL0C4BLtvaLItqvqjqv4ChliifbeKHXsSOg/6GLXS\n",
       "JwEuMaGwQMtxFVOWYQa+sCzHoo7pIcZI7F6bg7uDCq+4MBMtrUBUDykFR92ziZihLBRxWOOO2WTi\n",
       "RXh3rLnZnGX9p+arzeZhy2wKksUL/brRQmqDPlZDNB4iUhC+GiwPDlsxfRxpIQ6gegjhjtn16EZb\n",
       "JPAYuDGZeKBZTPEf4BbAS0Mcz3kqCFv3zSHLJi/c1DFP4CJFG1yh0r77dgVdvgnBXpxh8eS84cCW\n",
       "aiUVNnytPTU9hEQO2vWsxTyJPDHo9shuTCaGb5vzTfFP6Erdf2wNdovTTDVCLJiHLRGgsdLCTrR1\n",
       "bCBqn/cFP9/mxvR/h8VRecJgs1QrTnBBGzhgekgpc8Wu5zrm47gUEE+Zd8+mLhYuOuhTeiH+ZTfa\n",
       "SYhL0ttxPYjE9LKJ+RbGAjnzbzl934QutBNswMKoPpCuuTHhdsyDMI4xn7ax0Ko3scluq5KAGrO6\n",
       "HrL5lGOlfRFbfoz97fkm/YcbUxdnFLs4LBlF2Y55YP6DnjFqHRBmbnEgpxgnlL2Q32HGdXzUehCb\n",
       "BO71fP4TxCz4XPsmS+cw2hfiilENQdEedA1HtI2a6SFkKmbXE8LuhMeMt3jVDdIv+eUWoiBxCfW9\n",
       "o79s+0yttk7qMa3ZQCix2fQmqp83xZuw5wiEFaPqp5NrSUU5MKCsI8D0EPLMafcJhZNcmLYYPfPh\n",
       "+0oLobsnhfo21l8Q9RNKpcE+/b7mco1j9YywOEAxxRKrQo5WC6woQEie2KrcI+kxFW4oB+16qEnD\n",
       "Xv1ldMeZan36eXm5ld1Z7JHrn64wPWC9PaANMmgBwm8yO0VXwXz6wfkkxRS+Z1UMAbE6LgszWIzH\n",
       "vBsTJyGAOqge75tviIMOG7rNtr217canwTn4gvOSRDyVzzW8JKFG62HV0xGzion5/FFPTT3aXZCf\n",
       "tBvzav2fV3YXJFzHc+dzzLeXbxlV6jPMpwJzdQLAEnQ+NX2zN+K6p01WqXL/v3taLT2u3dOe/Rce\n",
       "q4hqWsJp7wAAAABJRU5ErkJggg==\n",
       "\" style=\"display:inline;vertical-align:middle;\" /></a><br>(see <a class=\"ProveItLink\" href=\"../../../__pv_it/theorems/f765a27fb84c769c729db270b10a69127ea709c00/dependencies.ipynb\">dependencies</a>)<br>"
      ],
      "text/plain": [
       "<IPython.core.display.HTML object>"
      ]
     },
     "metadata": {},
     "output_type": "display_data"
    }
   ],
   "source": [
    "%proving add_real_pos_closure"
   ]
  },
  {
   "cell_type": "code",
   "execution_count": null,
   "metadata": {},
   "outputs": [],
   "source": []
  }
 ],
 "metadata": {
  "kernelspec": {
   "display_name": "Python 3",
   "language": "python",
   "name": "python3"
  }
 },
 "nbformat": 4,
 "nbformat_minor": 0
}