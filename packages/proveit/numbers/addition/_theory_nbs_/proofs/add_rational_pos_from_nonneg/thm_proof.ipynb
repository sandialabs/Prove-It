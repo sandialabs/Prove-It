{
 "cells": [
  {
   "cell_type": "markdown",
   "metadata": {},
   "source": [
    "Proof of <a class=\"ProveItLink\" href=\"../../../../../_theory_nbs_/theory.ipynb\">proveit</a>.<a class=\"ProveItLink\" href=\"../../../../_theory_nbs_/theory.ipynb\">numbers</a>.<a class=\"ProveItLink\" href=\"../../theory.ipynb\">addition</a>.<a class=\"ProveItLink\" href=\"../../theorems.ipynb#add_rational_pos_from_nonneg\">add_rational_pos_from_nonneg</a> theorem\n",
    "========"
   ]
  },
  {
   "cell_type": "code",
   "execution_count": 1,
   "metadata": {},
   "outputs": [],
   "source": [
    "import proveit\n",
    "theory = proveit.Theory() # the theorem's theory"
   ]
  },
  {
   "cell_type": "code",
   "execution_count": 2,
   "metadata": {},
   "outputs": [
    {
     "data": {
      "text/html": [
       "With these <a href=\"allowed_presumptions.txt\">allowed</a>/<a href=\"disallowed_presumptions.txt\">disallowed</a> theorem/theory presumptions (e.g., to avoid circular dependencies), we begin our proof of<br><strong id=\"add_rational_pos_from_nonneg\">add_rational_pos_from_nonneg:</strong> <a class=\"ProveItLink\" href=\"../../../__pv_it/theorems/ab22d96cfc67f96a786cf99ad0f92639c96df7050/expr.ipynb\"><img src=\"data:image/png;base64,iVBORw0KGgoAAAANSUhEUgAAAzYAAAAaBAMAAACX59SiAAAAMFBMVEX///8AAAAAAAAAAAAAAAAA\n",
       "AAAAAAAAAAAAAAAAAAAAAAAAAAAAAAAAAAAAAAAAAAAv3aB7AAAAD3RSTlMAq1RmmUTNIjK7EInv\n",
       "3XZ/CtNrAAAACXBIWXMAAA7EAAAOxAGVKw4bAAAIOElEQVRo3uVaa2wUVRQ+3Z3dnZ3Zbmt8ooas\n",
       "glCjxQ0ovgguAeQVdVF+CBqtQWP0hyym0SAP12h8xEobAWVJ1AEJCFVaqajQpEGIQVRMVXyhm0yh\n",
       "BhFtmhrAlCiec+/M7NyZ2e1utLrFm8zs2XPP3nPnfPc87p0FGKBVZL+Bcmv+JJy2LYGXhFc0+8WA\n",
       "ssEynP9IvEJD2P6F5t5E/XSDcUMRG6UObweHMDYB3cVqzmSmWdjARI5NNX2MKIRNBX344uXzaGGc\n",
       "i691UFVs2jeowx9yMqIXpkOft1rYVGoMm6lE318IG4miezBVPtgswWvDIOu4d1BHD2oORlsbwJy5\n",
       "FjbRaobNE1Z8y4eNTIKLyigkzMJrsjtQeHt2IJ/D31ZQuq84seJUuTr8CfG73IphOuzXpUxmb2YF\n",
       "Ru1+hg1BqMYK5psH8WNrGWFzDK+dLq5P9xTOwwYYU0g60F+UWJGq3B0fG6HslezXLEpvxvWvputM\n",
       "v4H5DBt/vHC+D/KCoa58oJHRbr66wcVG7RxcbObzFfCQEds2ySjhi023sJnB67R92ewnhbGJZLM/\n",
       "tJYPNlG0m0TzWdixzMsAedj5sAldcFh3SQeHd8Uc2HQcSrsHVXuuKQUba4y32f0RM+08T1EvEB9r\n",
       "YfMLxwbBWlMYGykNYa18sKlAnwnSs+yB1zSPcOTNzovNnalwv0u65UHlhCi2NCY1ucRCX7AVXiw2\n",
       "uTHGg1CC3eXHlSDrIyxs7tYYNgshhMFO4XVY2gsb7F9YRukmjNOvxGd5Mw43eRggDzsfNspukNAR\n",
       "N4rSV2jwmYjN9xBxu1dlqylWFDZ8DLLx5ey7FZgX+5jf/GicCwA0phk2YU3FIlnlP/+WL4f922BC\n",
       "dW7vuQa2/Qs2X7+DVB88nDu7yOPJOLMITvkWelh4nT2ghGEXgzPNmbGV9jM0kS22m7LZT7PZz0mk\n",
       "lywMHaL0jQAnRTHyLWW8UxcqGUhVrkPqt2zcyBInsrPfseXG881M60ePJxk2Pl0sBZYPWwUXqZqk\n",
       "5bAZU1op8HRTqbA0rzwD/XbxNKr8g7mzC5AfsETaj5pUZYJjsxeUYyD3dDoWJ2NLzBmK8ZtIE7Qk\n",
       "PVZ4oM8phqb51aULilFldERydrmTuaz1PbzRqtOMmJo0SrCJAsxULIzQE6rtzCbo10tKCKUUDnJX\n",
       "JhlqB5Xy4Jap8CZEtBw2cAHAZr4j0ANNNr/BmKb8Cf5efG4HNpxdlQz9Xhw2LTrc4I4+feYit4lh\n",
       "q3XpgmJUGR0tuX4+kFUMBvj+JreVeZzHNNiK+5dAF9PVHePHCTWXLLNjo44qqRSIpEsQnoLC6sOg\n",
       "jKOEtzS5FCrTNmw+wl3vNGPMEzZswjoofVgVjHZjw9h+rWhsYnCOL3VXtSj9O6Utu1gVfk06sYHf\n",
       "0HJFqDI62BhkY4BrGaPHkpjcBjB7bu4XjSmOzRKc15YqFjN9ddzPatR1d9iwCX1AD9121Dy3sZG2\n",
       "E0iL2dhzPisYLX9UD7lnbfCiZIJnRwPo+PWpHeQ3KVtM+7NLgyfOpYWkwS7TLbFLxTm/CrWJhAsb\n",
       "g23tUEzIjpu3ljrB6GHdt19S9H5xkDNhpQghFlhq2oUNFmnvu1QxDYIqo4ONIbGt2SxuW8tRVDpP\n",
       "s6VYo06DClyojzGtm9UEP16ogcQRGzZwHl5vpRpNQGxkruWYv2rdlBaSDWbXV7J7G2/wNtHtujjD\n",
       "ZjbbBtvzTfRAFCdcj+obNfjS3N/gD2U0x9qjzwxPu7HhbHhBE9n7zVtlQqzThr+/8KfQOod5174T\n",
       "d5Ta7eN+dsU0UNsmam5VTINdldlBY6CN6em57mHzTHPUH18w3WadCWB7R/AqByLufyCTeRGxaQ7a\n",
       "sWHBB9DWizSTDIyZ6ghO1B8magUr32fAG4a41KSkb+0W34cRD7DeYMdV5DN669oYq9OutmETjvtp\n",
       "la1fRdiY1So7T/nWihednhVsaE1J5wJhPZ+0IFbrNejAqoQO2pqFjEkHtvMzG1r+Qk6fZMNG6WdR\n",
       "violt3K/CYxxYvMhdIFcq5lkBFrECRATjCQxiX03xamo2qn0ijnJgGp8JpOJ3W7ENHtr4llGYolg\n",
       "QgpjWl9OE8CVLmzEA8V6eLSUs86WN/JJ3+aFjSA2sCqhowqji+SWrNC7apLCmY6Jja8uoSAqDcYZ\n",
       "wVVgGdrEBvfJKzbzFwuMDEGDmG6I6aNtAvSy1HDCfA/BZpNyhDXi+dHAz7PQwGqB+ilTpiRFbKog\n",
       "Qs50qW6vBViwDqec2AgttPrZmaWUL6OkosRq/wFVDXlO9S96aa+FmHEObUbdlLyLAbIIHUj+OsXf\n",
       "qNn9Zo987DoyNmLISFhFZLN1I6ZvJFEH/E14vw9Uhk0zBJPQCuGkTZbzHt0A/DBI7gLV+XrPeMdE\n",
       "Bc14nHNUD1Tbn87cG4TePekVSSKnTvWWYrC1h4uRWryg4++rokX/8gAy/moQ30n7mCsp2zOrHGc2\n",
       "vM0ZezROxkYMGSmliWxIyXvoZjBXE++pHrrXY+IjbBpiocmYMacTxWX3mLzradWxvef+e9Je2Mg3\n",
       "o+GPsGqmvduq4yuIsQyGaEMbRwd6UVmZcmAzL3j7Ts+zTvuPNIYhtR1RiwSTUjpjBuWzxIGZVtV0\n",
       "g2KNU2cDe1GOgey9J8ELG2rPxVzVeh0M2eZpY1cz/i+Qa3GpWxsAG/mXrYgh55/6wyQZsEa5pxnU\n",
       "PEs8wAZdcKrToFhy1MR9MUgjbk7mwcajXTZ0sfG0sSuFFfs/G9f/0+JepJPKfffno6IX2zZby6+B\n",
       "4rE5nf+fxgDU6P9pu//DGfjOKtSbgv99+wvbWKNAZR5n9AAAAABJRU5ErkJggg==\n",
       "\" style=\"display:inline;vertical-align:middle;\" /></a><br>(see <a class=\"ProveItLink\" href=\"../../../__pv_it/theorems/9c200694631f412cea66b814f4fb4986ea03c0fb0/dependencies.ipynb\">dependencies</a>)<br>"
      ],
      "text/plain": [
       "<IPython.core.display.HTML object>"
      ]
     },
     "metadata": {},
     "output_type": "display_data"
    }
   ],
   "source": [
    "%proving add_rational_pos_from_nonneg"
   ]
  },
  {
   "cell_type": "code",
   "execution_count": null,
   "metadata": {},
   "outputs": [],
   "source": []
  }
 ],
 "metadata": {
  "kernelspec": {
   "display_name": "Python 3",
   "language": "python",
   "name": "python3"
  }
 },
 "nbformat": 4,
 "nbformat_minor": 0
}