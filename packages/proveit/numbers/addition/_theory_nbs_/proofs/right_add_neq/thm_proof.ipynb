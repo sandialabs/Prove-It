{
 "cells": [
  {
   "cell_type": "markdown",
   "metadata": {},
   "source": [
    "Proof of <a class=\"ProveItLink\" href=\"../../../../../_theory_nbs_/theory.ipynb\">proveit</a>.<a class=\"ProveItLink\" href=\"../../../../_theory_nbs_/theory.ipynb\">numbers</a>.<a class=\"ProveItLink\" href=\"../../theory.ipynb\">addition</a>.<a class=\"ProveItLink\" href=\"../../theorems.ipynb#right_add_neq\">right_add_neq</a> theorem\n",
    "========"
   ]
  },
  {
   "cell_type": "code",
   "execution_count": 1,
   "metadata": {},
   "outputs": [],
   "source": [
    "import proveit\n",
    "theory = proveit.Theory() # the theorem's theory"
   ]
  },
  {
   "cell_type": "code",
   "execution_count": 2,
   "metadata": {},
   "outputs": [
    {
     "data": {
      "text/html": [
       "With these <a href=\"allowed_presumptions.txt\">allowed</a>/<a href=\"disallowed_presumptions.txt\">disallowed</a> theorem/theory presumptions (e.g., to avoid circular dependencies), we begin our proof of<br><strong id=\"right_add_neq\">right_add_neq:</strong> <a class=\"ProveItLink\" href=\"../../../__pv_it/theorems/028e6b944c55da69b103d9281909915fa2bcf5cb0/expr.ipynb\"><img src=\"data:image/png;base64,iVBORw0KGgoAAAANSUhEUgAAAS0AAAAXCAMAAABpq+mjAAAARVBMVEX///8AAAAAAAAAAAAAAAAA\n",
       "AAAAAAAAAAAAAAAAAAAAAAAAAAAAAAAAAAAAAAAAAAAAAAAAAAAAAAAAAAAAAAAAAAAAAAAeYafp\n",
       "AAAAFnRSTlMAq1RmmUTNIjK7EInv3Xbt5cnn9enzas/lfgAAAAlwSFlzAAAOxAAADsQBlSsOGwAA\n",
       "A5xJREFUWMPdWImO4yAM5QxgiPfO/3/qAoEEKKEl6qqjRTN9yuFnbGxjQsiXGarBG6Lve/Eds/qX\n",
       "A1mNM0PixQMBXR03qHekx33GP+ksZmucdHV/7tp0ddyijihkvr18MthgqXF2LNC7a3RPx03qgDoH\n",
       "lzKfDC3Ba+wmxeAZF73Qol0dN6kjZtdZ9klvuQa7yYojgk5wGdXVcZc6IE9uXT7pLLbUOG/S8hgd\n",
       "knZ13KaO6NYwnP1oItoaAZGCtnW8P5ikqEWVblr6aKXq6QCMGQl0mjqiiKXQwHvMHpby15Zvp0GK\n",
       "RKwjk6Tz7jDbzsrPyBFx+defv8IvbXVYwkJK8m2aOqKi+efO/moEPRYhOH3wrpWXj1ZWIVfBHCCU\n",
       "D0wCF/f05FDmnoRW4tZsF6FmmnrHEFYDS3qbDVJjvAQY6qfEjH3FW6MFcbLCEO2iKDN7tLi9ZmQa\n",
       "EaNjTbr11lYt0dXhbXXBNQ6nqXcMjp2q8UKkPsZC1Mlf8hZVL3uLFOZcBoALumCTOXeehNbBLUOC\n",
       "6U1PUydcCE9vg+VoDzWIQvm/3PrT1PofjTNwLZtDVOmtSpxI29AMMjHa5AUBrk2CDcvyw9Y6En//\n",
       "Wde6bmXuGLToyDR1QstS0wWr8l7P9qEK2b2wtJUQvybahfQ7dCjWLmDhrUNcmDC++X9e0NRiWCL4\n",
       "LKcuVuSRSWFidCH7HLh51twfOmj+maROqBzNKUYKS3jUkCJWQXAtmrLv5cDh2luVeA7Ik6beAMpN\n",
       "mrBNg/DTkGyUicF6toq0DYvGs4+bc9YhaIhcPk+dkeoztbH0+lbEDvUv+13db6QxVgwjWkt97a1K\n",
       "/AzITFNvG2uJIBC9vZwN6xZQtFpR3KewymfnxqwDfCslNjVP3aiAwGH4WS1CnB204WXn5fW5iqnK\n",
       "F41U5a0kHjLx+w8TM/GkaQqXrnG24Vbr868NBbdd5qkbFd6KULakTy+wIT8jqSDxKiqTW93IKhuL\n",
       "uO31W6d4fb49aK6PrjeOvs2JuftJYucOkwLH5qkfDuXSRz9aHqLC0wmUFhHSVUgNs+xfK45FAuvT\n",
       "UuhuJh7i9UnhoOmfgM2t70bNBxTeP8ZF7hX3ajBLPfxGw9oriFmafBTSqtvPmmc5VNDUVcC0BW5m\n",
       "ND5e+2esyM04CnmDerSMEtorX5nl8x62b2shd0mTj08Kb5y/Gkuuit8N7kyNo5jnD1fS963knreY\n",
       "LCsEfvRrx5ca6r+27i/pNSGhyARQ0QAAAABJRU5ErkJggg==\n",
       "\" style=\"display:inline;vertical-align:middle;\" /></a><br>(see <a class=\"ProveItLink\" href=\"../../../__pv_it/theorems/47432404781137528eb21c7257b8db837ccb50d90/dependencies.ipynb\">dependencies</a>)<br>"
      ],
      "text/plain": [
       "<IPython.core.display.HTML object>"
      ]
     },
     "metadata": {},
     "output_type": "display_data"
    }
   ],
   "source": [
    "%proving right_add_neq"
   ]
  },
  {
   "cell_type": "code",
   "execution_count": null,
   "metadata": {},
   "outputs": [],
   "source": []
  }
 ],
 "metadata": {
  "kernelspec": {
   "display_name": "Python 3",
   "language": "python",
   "name": "python3"
  }
 },
 "nbformat": 4,
 "nbformat_minor": 0
}