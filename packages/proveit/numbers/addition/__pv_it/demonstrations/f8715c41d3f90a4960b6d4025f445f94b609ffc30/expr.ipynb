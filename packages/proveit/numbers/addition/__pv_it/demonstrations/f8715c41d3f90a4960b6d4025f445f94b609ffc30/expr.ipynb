{
 "cells": [
  {
   "cell_type": "markdown",
   "metadata": {},
   "source": [
    "Expression of type <a class=\"ProveItLink\" href=\"../../../../../../../doc/html/api/proveit.ExprTuple.html\">ExprTuple</a>\n",
    "=======================\n",
    "# from the theory of <a class=\"ProveItLink\" href=\"../../../_theory_nbs_/theory.ipynb\">proveit.numbers.addition</a>"
   ]
  },
  {
   "cell_type": "code",
   "execution_count": 1,
   "metadata": {},
   "outputs": [],
   "source": [
    "import proveit\n",
    "# Automation is not needed when building an expression:\n",
    "proveit.defaults.automation = False # This will speed things up.\n",
    "proveit.defaults.inline_pngs = False # Makes files smaller.\n",
    "%load_expr # Load the stored expression as 'stored_expr'\n",
    "# import Expression classes needed to build the expression\n",
    "from proveit import ExprRange, ExprTuple, IndexedVar, Variable, a, b, c\n",
    "from proveit.numbers import Add, Neg, five, one, seven, six, subtract"
   ]
  },
  {
   "cell_type": "code",
   "execution_count": 2,
   "metadata": {},
   "outputs": [
    {
     "data": {
      "text/html": [
       "<strong id=\"expr\">expr:</strong> <a class=\"ProveItLink\" href=\"expr.ipynb\"><img src=\"expr.png\" style=\"display:inline;vertical-align:middle;\" /></a><br>"
      ],
      "text/plain": [
       "<IPython.core.display.HTML object>"
      ]
     },
     "metadata": {},
     "output_type": "display_data"
    }
   ],
   "source": [
    "# build up the expression from sub-expressions\n",
    "sub_expr1 = Variable(\"_a\", latex_format = r\"{_{-}a}\")\n",
    "sub_expr2 = IndexedVar(a, sub_expr1)\n",
    "sub_expr3 = Neg(c)\n",
    "expr = ExprTuple(Add(Add(ExprRange(sub_expr1, sub_expr2, one, five), b), subtract(sub_expr3, Add(ExprRange(sub_expr1, sub_expr2, one, seven)))), Add(b, sub_expr3, Neg(IndexedVar(a, six)), Neg(IndexedVar(a, seven))))"
   ]
  },
  {
   "cell_type": "code",
   "execution_count": 3,
   "metadata": {},
   "outputs": [
    {
     "name": "stdout",
     "output_type": "stream",
     "text": [
      "Passed sanity check: expr matches stored_expr\n"
     ]
    }
   ],
   "source": [
    "# check that the built expression is the same as the stored expression\n",
    "assert expr == stored_expr\n",
    "assert expr._style_id == stored_expr._style_id\n",
    "print(\"Passed sanity check: expr matches stored_expr\")"
   ]
  },
  {
   "cell_type": "code",
   "execution_count": 4,
   "metadata": {},
   "outputs": [
    {
     "name": "stdout",
     "output_type": "stream",
     "text": [
      "\\left(\\left(a_{1} +  a_{2} +  \\ldots +  a_{5} + b\\right) + \\left(-c - \\left(a_{1} +  a_{2} +  \\ldots +  a_{7}\\right)\\right), b - c - a_{6} - a_{7}\\right)\n"
     ]
    }
   ],
   "source": [
    "# Show the LaTeX representation of the expression for convenience if you need it.\n",
    "print(stored_expr.latex())"
   ]
  },
  {
   "cell_type": "code",
   "execution_count": 5,
   "metadata": {},
   "outputs": [
    {
     "data": {
      "text/html": [
       "<table>\n",
       "<tr><th>name</th><th>description</th><th>default</th><th>current value</th><th>related methods</th></tr><tr><td>wrap_positions</td><td>position(s) at which wrapping is to occur; 'n' is after the nth comma.</td><td>()</td><td>()</td><td>('with_wrapping_at',)</td></tr>\n",
       "<tr><td>justification</td><td>if any wrap positions are set, justify to the 'left', 'center', or 'right'</td><td>left</td><td>left</td><td>('with_justification',)</td></tr>\n",
       "</table>\n"
      ],
      "text/plain": [
       "style name: wrap_positions\n",
       "description: position(s) at which wrapping is to occur; 'n' is after the nth comma.\n",
       "default: ()\n",
       "current value: ()\n",
       "related methods: ('with_wrapping_at',)\n",
       "style name: justification\n",
       "description: if any wrap positions are set, justify to the 'left', 'center', or 'right'\n",
       "default: left\n",
       "current value: left\n",
       "related methods: ('with_justification',)"
      ]
     },
     "metadata": {},
     "output_type": "display_data"
    }
   ],
   "source": [
    "stored_expr.style_options()"
   ]
  },
  {
   "cell_type": "code",
   "execution_count": 6,
   "metadata": {},
   "outputs": [
    {
     "data": {
      "text/html": [
       "<table><tr><th>&nbsp;</th><th>core type</th><th>sub-expressions</th><th>expression</th></tr>\n",
       "<tr><td>0</td><td>ExprTuple</td><td>1, 2</td><td><a class=\"ProveItLink\" href=\"expr.ipynb\"><img src=\"expr.png\" style=\"display:inline;vertical-align:middle;\" /></a></td></tr>\n",
       "<tr><td>1</td><td>Operation</td><td>operator:&nbsp;28<br>operands:&nbsp;3<br></td><td><a class=\"ProveItLink\" href=\"../73bfa991c2e6db74432da1cab6dd67767bf2f17c0/expr.ipynb\"><img src=\"../73bfa991c2e6db74432da1cab6dd67767bf2f17c0/expr.png\" style=\"display:inline;vertical-align:middle;\" /></a></td></tr>\n",
       "<tr><td>2</td><td>Operation</td><td>operator:&nbsp;28<br>operands:&nbsp;4<br></td><td><a class=\"ProveItLink\" href=\"../061f246eed29e42dcd389c43e1bfc5532de2236c0/expr.ipynb\"><img src=\"../061f246eed29e42dcd389c43e1bfc5532de2236c0/expr.png\" style=\"display:inline;vertical-align:middle;\" /></a></td></tr>\n",
       "<tr><td>3</td><td>ExprTuple</td><td>5, 6</td><td><a class=\"ProveItLink\" href=\"../7e521967be8061bc87c3265fe0ef66408030ff7a0/expr.ipynb\"><img src=\"../7e521967be8061bc87c3265fe0ef66408030ff7a0/expr.png\" style=\"display:inline;vertical-align:middle;\" /></a></td></tr>\n",
       "<tr><td>4</td><td>ExprTuple</td><td>14, 15, 7, 8</td><td><a class=\"ProveItLink\" href=\"../350d8c03817c5763117badc4f9e8deca783060450/expr.ipynb\"><img src=\"../350d8c03817c5763117badc4f9e8deca783060450/expr.png\" style=\"display:inline;vertical-align:middle;\" /></a></td></tr>\n",
       "<tr><td>5</td><td>Operation</td><td>operator:&nbsp;28<br>operands:&nbsp;9<br></td><td><a class=\"ProveItLink\" href=\"../8205f7a855ea9fc13814bf6699315a30b933f9940/expr.ipynb\"><img src=\"../8205f7a855ea9fc13814bf6699315a30b933f9940/expr.png\" style=\"display:inline;vertical-align:middle;\" /></a></td></tr>\n",
       "<tr><td>6</td><td>Operation</td><td>operator:&nbsp;28<br>operands:&nbsp;10<br></td><td><a class=\"ProveItLink\" href=\"../dff7a9b59c1aa517339b226d300733b56e1525250/expr.ipynb\"><img src=\"../dff7a9b59c1aa517339b226d300733b56e1525250/expr.png\" style=\"display:inline;vertical-align:middle;\" /></a></td></tr>\n",
       "<tr><td>7</td><td>Operation</td><td>operator:&nbsp;21<br>operand:&nbsp;17<br></td><td><a class=\"ProveItLink\" href=\"../2c1d63ed20e39d3d91df55c20f0461c2ea7970360/expr.ipynb\"><img src=\"../2c1d63ed20e39d3d91df55c20f0461c2ea7970360/expr.png\" style=\"display:inline;vertical-align:middle;\" /></a></td></tr>\n",
       "<tr><td>8</td><td>Operation</td><td>operator:&nbsp;21<br>operand:&nbsp;18<br></td><td><a class=\"ProveItLink\" href=\"../85996f04abe0be9a5ace12ab0d2e92e7c05ec5e40/expr.ipynb\"><img src=\"../85996f04abe0be9a5ace12ab0d2e92e7c05ec5e40/expr.png\" style=\"display:inline;vertical-align:middle;\" /></a></td></tr>\n",
       "<tr><td>9</td><td>ExprTuple</td><td>13, 14</td><td><a class=\"ProveItLink\" href=\"../2c19f5e18b22e5647db5a3f9ee46ee22058582f10/expr.ipynb\"><img src=\"../2c19f5e18b22e5647db5a3f9ee46ee22058582f10/expr.png\" style=\"display:inline;vertical-align:middle;\" /></a></td></tr>\n",
       "<tr><td>10</td><td>ExprTuple</td><td>15, 16</td><td><a class=\"ProveItLink\" href=\"../63e7a8d1d56a7565ae5144241959d310efb745e80/expr.ipynb\"><img src=\"../63e7a8d1d56a7565ae5144241959d310efb745e80/expr.png\" style=\"display:inline;vertical-align:middle;\" /></a></td></tr>\n",
       "<tr><td>11</td><td>ExprTuple</td><td>17</td><td><a class=\"ProveItLink\" href=\"../3a6ae42efd8e8ff1c7bcf6ce905c75f89eceb1d20/expr.ipynb\"><img src=\"../3a6ae42efd8e8ff1c7bcf6ce905c75f89eceb1d20/expr.png\" style=\"display:inline;vertical-align:middle;\" /></a></td></tr>\n",
       "<tr><td>12</td><td>ExprTuple</td><td>18</td><td><a class=\"ProveItLink\" href=\"../e01bfc8515d12d2ce3b6ae0f7a5afd3aa87bf2f20/expr.ipynb\"><img src=\"../e01bfc8515d12d2ce3b6ae0f7a5afd3aa87bf2f20/expr.png\" style=\"display:inline;vertical-align:middle;\" /></a></td></tr>\n",
       "<tr><td>13</td><td>ExprRange</td><td>lambda_map:&nbsp;31<br>start_index:&nbsp;32<br>end_index:&nbsp;19<br></td><td><a class=\"ProveItLink\" href=\"../db77986dbb1235ac642b64a300b552781d5846d10/expr.ipynb\"><img src=\"../db77986dbb1235ac642b64a300b552781d5846d10/expr.png\" style=\"display:inline;vertical-align:middle;\" /></a></td></tr>\n",
       "<tr><td>14</td><td>Variable</td><td></td><td><a class=\"ProveItLink\" href=\"../../../../../__pv_it/common/195236b98c6c564a75b5dbada74b173bc52d5c3e0/expr.ipynb\"><img src=\"../../../../../__pv_it/common/195236b98c6c564a75b5dbada74b173bc52d5c3e0/expr.png\" style=\"display:inline;vertical-align:middle;\" /></a></td></tr>\n",
       "<tr><td>15</td><td>Operation</td><td>operator:&nbsp;21<br>operand:&nbsp;25<br></td><td><a class=\"ProveItLink\" href=\"../../../subtraction/__pv_it/theorems/cfca012e53a60bdf4c271dc7f264e6cb68dcd3450/expr.ipynb\"><img src=\"../../../subtraction/__pv_it/theorems/cfca012e53a60bdf4c271dc7f264e6cb68dcd3450/expr.png\" style=\"display:inline;vertical-align:middle;\" /></a></td></tr>\n",
       "<tr><td>16</td><td>Operation</td><td>operator:&nbsp;21<br>operand:&nbsp;26<br></td><td><a class=\"ProveItLink\" href=\"../9758a4b24372ad6da3fdbaa4c173b287fc3b69940/expr.ipynb\"><img src=\"../9758a4b24372ad6da3fdbaa4c173b287fc3b69940/expr.png\" style=\"display:inline;vertical-align:middle;\" /></a></td></tr>\n",
       "<tr><td>17</td><td>IndexedVar</td><td>variable:&nbsp;35<br>index:&nbsp;27<br></td><td><a class=\"ProveItLink\" href=\"../d586329796f4c513d3bc744440b96f87319702a50/expr.ipynb\"><img src=\"../d586329796f4c513d3bc744440b96f87319702a50/expr.png\" style=\"display:inline;vertical-align:middle;\" /></a></td></tr>\n",
       "<tr><td>18</td><td>IndexedVar</td><td>variable:&nbsp;35<br>index:&nbsp;33<br></td><td><a class=\"ProveItLink\" href=\"../4bc6868d6b2fa4fe3b6d0216cbdd73486fcd301f0/expr.ipynb\"><img src=\"../4bc6868d6b2fa4fe3b6d0216cbdd73486fcd301f0/expr.png\" style=\"display:inline;vertical-align:middle;\" /></a></td></tr>\n",
       "<tr><td>19</td><td>Literal</td><td></td><td><a class=\"ProveItLink\" href=\"../../../../numerals/__pv_it/common/16e9923976ab933f6783588485130530d25dafab0/expr.ipynb\"><img src=\"../../../../numerals/__pv_it/common/16e9923976ab933f6783588485130530d25dafab0/expr.png\" style=\"display:inline;vertical-align:middle;\" /></a></td></tr>\n",
       "<tr><td>20</td><td>ExprTuple</td><td>25</td><td><a class=\"ProveItLink\" href=\"../../../subtraction/__pv_it/theorems/25c776cc10fb7df90a1cddbf8213d6561f6b7bd20/expr.ipynb\"><img src=\"../../../subtraction/__pv_it/theorems/25c776cc10fb7df90a1cddbf8213d6561f6b7bd20/expr.png\" style=\"display:inline;vertical-align:middle;\" /></a></td></tr>\n",
       "<tr><td>21</td><td>Literal</td><td></td><td><a class=\"ProveItLink\" href=\"../../../../negation/__pv_it/common/221b3c4d1770ee9051b7c044c3f9ec61196fc34b0/expr.ipynb\"><img src=\"../../../../negation/__pv_it/common/221b3c4d1770ee9051b7c044c3f9ec61196fc34b0/expr.png\" style=\"display:inline;vertical-align:middle;\" /></a></td></tr>\n",
       "<tr><td>22</td><td>ExprTuple</td><td>26</td><td><a class=\"ProveItLink\" href=\"../64c5d458c9137b2f3b9f67e11216b22404cf63ab0/expr.ipynb\"><img src=\"../64c5d458c9137b2f3b9f67e11216b22404cf63ab0/expr.png\" style=\"display:inline;vertical-align:middle;\" /></a></td></tr>\n",
       "<tr><td>23</td><td>ExprTuple</td><td>27</td><td><a class=\"ProveItLink\" href=\"../1aae7f12a086604cae65111eb9edb6f64f8b0c140/expr.ipynb\"><img src=\"../1aae7f12a086604cae65111eb9edb6f64f8b0c140/expr.png\" style=\"display:inline;vertical-align:middle;\" /></a></td></tr>\n",
       "<tr><td>24</td><td>ExprTuple</td><td>33</td><td><a class=\"ProveItLink\" href=\"../4c185e6e2fff33b7c43f265334839c4cb13a3d9c0/expr.ipynb\"><img src=\"../4c185e6e2fff33b7c43f265334839c4cb13a3d9c0/expr.png\" style=\"display:inline;vertical-align:middle;\" /></a></td></tr>\n",
       "<tr><td>25</td><td>Variable</td><td></td><td><a class=\"ProveItLink\" href=\"../../../../../__pv_it/common/ceef4280a2f1cc604b455b54e735507244cc62cd0/expr.ipynb\"><img src=\"../../../../../__pv_it/common/ceef4280a2f1cc604b455b54e735507244cc62cd0/expr.png\" style=\"display:inline;vertical-align:middle;\" /></a></td></tr>\n",
       "<tr><td>26</td><td>Operation</td><td>operator:&nbsp;28<br>operands:&nbsp;29<br></td><td><a class=\"ProveItLink\" href=\"../3972a94586c1deb686ad2659dba5f86c255c92ce0/expr.ipynb\"><img src=\"../3972a94586c1deb686ad2659dba5f86c255c92ce0/expr.png\" style=\"display:inline;vertical-align:middle;\" /></a></td></tr>\n",
       "<tr><td>27</td><td>Literal</td><td></td><td><a class=\"ProveItLink\" href=\"../../../../numerals/__pv_it/common/3376a962e50366e1ce3b003524f11b59146ac6970/expr.ipynb\"><img src=\"../../../../numerals/__pv_it/common/3376a962e50366e1ce3b003524f11b59146ac6970/expr.png\" style=\"display:inline;vertical-align:middle;\" /></a></td></tr>\n",
       "<tr><td>28</td><td>Literal</td><td></td><td><a class=\"ProveItLink\" href=\"../../common/4b7effaab3619a1c2c38fe2dee8601df8ec714590/expr.ipynb\"><img src=\"../../common/4b7effaab3619a1c2c38fe2dee8601df8ec714590/expr.png\" style=\"display:inline;vertical-align:middle;\" /></a></td></tr>\n",
       "<tr><td>29</td><td>ExprTuple</td><td>30</td><td><a class=\"ProveItLink\" href=\"../4bffd62f743b87c48ba6e47863d3a905980c7fc60/expr.ipynb\"><img src=\"../4bffd62f743b87c48ba6e47863d3a905980c7fc60/expr.png\" style=\"display:inline;vertical-align:middle;\" /></a></td></tr>\n",
       "<tr><td>30</td><td>ExprRange</td><td>lambda_map:&nbsp;31<br>start_index:&nbsp;32<br>end_index:&nbsp;33<br></td><td><a class=\"ProveItLink\" href=\"../cdcd991dffe3c0c4bd72666e7ebe8e717c997df00/expr.ipynb\"><img src=\"../cdcd991dffe3c0c4bd72666e7ebe8e717c997df00/expr.png\" style=\"display:inline;vertical-align:middle;\" /></a></td></tr>\n",
       "<tr><td>31</td><td>Lambda</td><td>parameter:&nbsp;37<br>body:&nbsp;34<br></td><td><a class=\"ProveItLink\" href=\"../../../../../core_expr_types/__pv_it/common/1527ad383e12f9c6ed6b371c9a7dd1892d80da1b0/expr.ipynb\"><img src=\"../../../../../core_expr_types/__pv_it/common/1527ad383e12f9c6ed6b371c9a7dd1892d80da1b0/expr.png\" style=\"display:inline;vertical-align:middle;\" /></a></td></tr>\n",
       "<tr><td>32</td><td>Literal</td><td></td><td><a class=\"ProveItLink\" href=\"../../../../numerals/__pv_it/common/682157d4892d216d9e5626ed533aff9b56b9506e0/expr.ipynb\"><img src=\"../../../../numerals/__pv_it/common/682157d4892d216d9e5626ed533aff9b56b9506e0/expr.png\" style=\"display:inline;vertical-align:middle;\" /></a></td></tr>\n",
       "<tr><td>33</td><td>Literal</td><td></td><td><a class=\"ProveItLink\" href=\"../../../../numerals/__pv_it/common/3dfdb143be8c2c1b027a0bc361bad6a4ea13be240/expr.ipynb\"><img src=\"../../../../numerals/__pv_it/common/3dfdb143be8c2c1b027a0bc361bad6a4ea13be240/expr.png\" style=\"display:inline;vertical-align:middle;\" /></a></td></tr>\n",
       "<tr><td>34</td><td>IndexedVar</td><td>variable:&nbsp;35<br>index:&nbsp;37<br></td><td><a class=\"ProveItLink\" href=\"../../../../../core_expr_types/__pv_it/common/3a62c13e156d62d52fe585fa37cc2172fcf685260/expr.ipynb\"><img src=\"../../../../../core_expr_types/__pv_it/common/3a62c13e156d62d52fe585fa37cc2172fcf685260/expr.png\" style=\"display:inline;vertical-align:middle;\" /></a></td></tr>\n",
       "<tr><td>35</td><td>Variable</td><td></td><td><a class=\"ProveItLink\" href=\"../../../../../__pv_it/common/c06c606ec12678c58933ac85412ecadc2ae28be60/expr.ipynb\"><img src=\"../../../../../__pv_it/common/c06c606ec12678c58933ac85412ecadc2ae28be60/expr.png\" style=\"display:inline;vertical-align:middle;\" /></a></td></tr>\n",
       "<tr><td>36</td><td>ExprTuple</td><td>37</td><td><a class=\"ProveItLink\" href=\"../../../../../core_expr_types/__pv_it/common/4b0dd6be36d76552eda6a95d5b4a27f5a5b62f900/expr.ipynb\"><img src=\"../../../../../core_expr_types/__pv_it/common/4b0dd6be36d76552eda6a95d5b4a27f5a5b62f900/expr.png\" style=\"display:inline;vertical-align:middle;\" /></a></td></tr>\n",
       "<tr><td>37</td><td>Variable</td><td></td><td><a class=\"ProveItLink\" href=\"../../../../../core_expr_types/__pv_it/common/006c465e50948aa2b52285e2de47974f741255cc0/expr.ipynb\"><img src=\"../../../../../core_expr_types/__pv_it/common/006c465e50948aa2b52285e2de47974f741255cc0/expr.png\" style=\"display:inline;vertical-align:middle;\" /></a></td></tr>\n",
       "</table>\n"
      ],
      "text/plain": [
       "0. ((a_{1} +  a_{2} +  ... +  a_{5} + b) + (-c - (a_{1} +  a_{2} +  ... +  a_{7})), b - c - a_{6} - a_{7})\n",
       "   core type: ExprTuple\n",
       "   sub-expressions: 1, 2\n",
       "1. (a_{1} +  a_{2} +  ... +  a_{5} + b) + (-c - (a_{1} +  a_{2} +  ... +  a_{7}))\n",
       "   core type: Operation\n",
       "   operator: 28\n",
       "   operands: 3\n",
       "2. b - c - a_{6} - a_{7}\n",
       "   core type: Operation\n",
       "   operator: 28\n",
       "   operands: 4\n",
       "3. (a_{1} +  a_{2} +  ... +  a_{5} + b, -c - (a_{1} +  a_{2} +  ... +  a_{7}))\n",
       "   core type: ExprTuple\n",
       "   sub-expressions: 5, 6\n",
       "4. (b, -c, -a_{6}, -a_{7})\n",
       "   core type: ExprTuple\n",
       "   sub-expressions: 14, 15, 7, 8\n",
       "5. a_{1} +  a_{2} +  ... +  a_{5} + b\n",
       "   core type: Operation\n",
       "   operator: 28\n",
       "   operands: 9\n",
       "6. -c - (a_{1} +  a_{2} +  ... +  a_{7})\n",
       "   core type: Operation\n",
       "   operator: 28\n",
       "   operands: 10\n",
       "7. -a_{6}\n",
       "   core type: Operation\n",
       "   operator: 21\n",
       "   operand: 17\n",
       "8. -a_{7}\n",
       "   core type: Operation\n",
       "   operator: 21\n",
       "   operand: 18\n",
       "9. (a_{1}, a_{2}, ..., a_{5}, b)\n",
       "   core type: ExprTuple\n",
       "   sub-expressions: 13, 14\n",
       "10. (-c, -(a_{1} +  a_{2} +  ... +  a_{7}))\n",
       "    core type: ExprTuple\n",
       "    sub-expressions: 15, 16\n",
       "11. (a_{6})\n",
       "    core type: ExprTuple\n",
       "    sub-expressions: 17\n",
       "12. (a_{7})\n",
       "    core type: ExprTuple\n",
       "    sub-expressions: 18\n",
       "13. a_{1}, a_{2}, ..., a_{5}\n",
       "    core type: ExprRange\n",
       "    lambda_map: 31\n",
       "    start_index: 32\n",
       "    end_index: 19\n",
       "14. b\n",
       "    core type: Variable\n",
       "    sub-expressions: \n",
       "15. -c\n",
       "    core type: Operation\n",
       "    operator: 21\n",
       "    operand: 25\n",
       "16. -(a_{1} +  a_{2} +  ... +  a_{7})\n",
       "    core type: Operation\n",
       "    operator: 21\n",
       "    operand: 26\n",
       "17. a_{6}\n",
       "    core type: IndexedVar\n",
       "variable: 35\n",
       "index: 27\n",
       "18. a_{7}\n",
       "    core type: IndexedVar\n",
       "variable: 35\n",
       "index: 33\n",
       "19. 5\n",
       "    core type: Literal\n",
       "    sub-expressions: \n",
       "20. (c)\n",
       "    core type: ExprTuple\n",
       "    sub-expressions: 25\n",
       "21. -\n",
       "    core type: Literal\n",
       "    sub-expressions: \n",
       "22. (a_{1} +  a_{2} +  ... +  a_{7})\n",
       "    core type: ExprTuple\n",
       "    sub-expressions: 26\n",
       "23. (6)\n",
       "    core type: ExprTuple\n",
       "    sub-expressions: 27\n",
       "24. (7)\n",
       "    core type: ExprTuple\n",
       "    sub-expressions: 33\n",
       "25. c\n",
       "    core type: Variable\n",
       "    sub-expressions: \n",
       "26. a_{1} +  a_{2} +  ... +  a_{7}\n",
       "    core type: Operation\n",
       "    operator: 28\n",
       "    operands: 29\n",
       "27. 6\n",
       "    core type: Literal\n",
       "    sub-expressions: \n",
       "28. +\n",
       "    core type: Literal\n",
       "    sub-expressions: \n",
       "29. (a_{1}, a_{2}, ..., a_{7})\n",
       "    core type: ExprTuple\n",
       "    sub-expressions: 30\n",
       "30. a_{1}, a_{2}, ..., a_{7}\n",
       "    core type: ExprRange\n",
       "    lambda_map: 31\n",
       "    start_index: 32\n",
       "    end_index: 33\n",
       "31. _a -> a_{_a}\n",
       "    core type: Lambda\n",
       "    parameter: 37\n",
       "    body: 34\n",
       "32. 1\n",
       "    core type: Literal\n",
       "    sub-expressions: \n",
       "33. 7\n",
       "    core type: Literal\n",
       "    sub-expressions: \n",
       "34. a_{_a}\n",
       "    core type: IndexedVar\n",
       "variable: 35\n",
       "index: 37\n",
       "35. a\n",
       "    core type: Variable\n",
       "    sub-expressions: \n",
       "36. (_a)\n",
       "    core type: ExprTuple\n",
       "    sub-expressions: 37\n",
       "37. _a\n",
       "    core type: Variable\n",
       "    sub-expressions: "
      ]
     },
     "metadata": {},
     "output_type": "display_data"
    }
   ],
   "source": [
    "# display the expression information\n",
    "stored_expr.expr_info()"
   ]
  },
  {
   "cell_type": "code",
   "execution_count": null,
   "metadata": {},
   "outputs": [],
   "source": []
  }
 ],
 "metadata": {
  "kernelspec": {
   "display_name": "Python 3",
   "language": "python",
   "name": "python3"
  }
 },
 "nbformat": 4,
 "nbformat_minor": 0
}