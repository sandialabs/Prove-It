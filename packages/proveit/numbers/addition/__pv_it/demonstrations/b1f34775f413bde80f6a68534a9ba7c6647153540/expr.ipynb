{
 "cells": [
  {
   "cell_type": "markdown",
   "metadata": {},
   "source": [
    "Expression of type <a class=\"ProveItLink\" href=\"../../../../../../../doc/html/api/proveit.logic.Equals.html\">Equals</a>\n",
    "=======================\n",
    "# from the theory of <a class=\"ProveItLink\" href=\"../../../_theory_nbs_/theory.ipynb\">proveit.numbers.addition</a>"
   ]
  },
  {
   "cell_type": "code",
   "execution_count": 1,
   "metadata": {},
   "outputs": [],
   "source": [
    "import proveit\n",
    "# Automation is not needed when building an expression:\n",
    "proveit.defaults.automation = False # This will speed things up.\n",
    "proveit.defaults.inline_pngs = False # Makes files smaller.\n",
    "%load_expr # Load the stored expression as 'stored_expr'\n",
    "# import Expression classes needed to build the expression\n",
    "from proveit import ExprRange, IndexedVar, Variable, a, b, c, n\n",
    "from proveit.logic import Equals\n",
    "from proveit.numbers import Add, Neg, one, subtract, three, two"
   ]
  },
  {
   "cell_type": "code",
   "execution_count": 2,
   "metadata": {},
   "outputs": [
    {
     "data": {
      "text/html": [
       "<strong id=\"expr\">expr:</strong> <a class=\"ProveItLink\" href=\"expr.ipynb\"><img src=\"expr.png\" style=\"display:inline;vertical-align:middle;\" /></a><br>"
      ],
      "text/plain": [
       "<IPython.core.display.HTML object>"
      ]
     },
     "metadata": {},
     "output_type": "display_data"
    }
   ],
   "source": [
    "# build up the expression from sub-expressions\n",
    "sub_expr1 = Variable(\"_a\", latex_format = r\"{_{-}a}\")\n",
    "sub_expr2 = IndexedVar(a, sub_expr1)\n",
    "sub_expr3 = Neg(c)\n",
    "expr = Equals(Add(Add(ExprRange(sub_expr1, sub_expr2, three, n), b), subtract(sub_expr3, Add(ExprRange(sub_expr1, sub_expr2, one, subtract(n, two))))), Add(IndexedVar(a, subtract(n, one)), IndexedVar(a, n), b, sub_expr3, Neg(IndexedVar(a, one)), Neg(IndexedVar(a, two))))"
   ]
  },
  {
   "cell_type": "code",
   "execution_count": 3,
   "metadata": {},
   "outputs": [
    {
     "name": "stdout",
     "output_type": "stream",
     "text": [
      "Passed sanity check: expr matches stored_expr\n"
     ]
    }
   ],
   "source": [
    "# check that the built expression is the same as the stored expression\n",
    "assert expr == stored_expr\n",
    "assert expr._style_id == stored_expr._style_id\n",
    "print(\"Passed sanity check: expr matches stored_expr\")"
   ]
  },
  {
   "cell_type": "code",
   "execution_count": 4,
   "metadata": {},
   "outputs": [
    {
     "name": "stdout",
     "output_type": "stream",
     "text": [
      "\\left(\\left(a_{3} +  a_{4} +  \\ldots +  a_{n} + b\\right) + \\left(-c - \\left(a_{1} +  a_{2} +  \\ldots +  a_{n - 2}\\right)\\right)\\right) = \\left(a_{n - 1} + a_{n} + b - c - a_{1} - a_{2}\\right)\n"
     ]
    }
   ],
   "source": [
    "# Show the LaTeX representation of the expression for convenience if you need it.\n",
    "print(stored_expr.latex())"
   ]
  },
  {
   "cell_type": "code",
   "execution_count": 5,
   "metadata": {},
   "outputs": [
    {
     "data": {
      "text/html": [
       "<table>\n",
       "<tr><th>name</th><th>description</th><th>default</th><th>current value</th><th>related methods</th></tr><tr><td>operation</td><td>'infix' or 'function' style formatting</td><td>infix</td><td>infix</td><td></td></tr>\n",
       "<tr><td>wrap_positions</td><td>position(s) at which wrapping is to occur; '2 n - 1' is after the nth operand, '2 n' is after the nth operation.</td><td>()</td><td>()</td><td>('with_wrapping_at', 'with_wrap_before_operator', 'with_wrap_after_operator', 'without_wrapping', 'wrap_positions')</td></tr>\n",
       "<tr><td>justification</td><td>if any wrap positions are set, justify to the 'left', 'center', or 'right'</td><td>center</td><td>center</td><td>('with_justification',)</td></tr>\n",
       "<tr><td>direction</td><td>Direction of the relation (normal or reversed)</td><td>normal</td><td>normal</td><td>('with_direction_reversed', 'is_reversed')</td></tr>\n",
       "</table>\n"
      ],
      "text/plain": [
       "style name: operation\n",
       "description: 'infix' or 'function' style formatting\n",
       "default: infix\n",
       "current value: infix\n",
       "related methods: ()\n",
       "style name: wrap_positions\n",
       "description: position(s) at which wrapping is to occur; '2 n - 1' is after the nth operand, '2 n' is after the nth operation.\n",
       "default: ()\n",
       "current value: ()\n",
       "related methods: ('with_wrapping_at', 'with_wrap_before_operator', 'with_wrap_after_operator', 'without_wrapping', 'wrap_positions')\n",
       "style name: justification\n",
       "description: if any wrap positions are set, justify to the 'left', 'center', or 'right'\n",
       "default: center\n",
       "current value: center\n",
       "related methods: ('with_justification',)\n",
       "style name: direction\n",
       "description: Direction of the relation (normal or reversed)\n",
       "default: normal\n",
       "current value: normal\n",
       "related methods: ('with_direction_reversed', 'is_reversed')"
      ]
     },
     "metadata": {},
     "output_type": "display_data"
    }
   ],
   "source": [
    "stored_expr.style_options()"
   ]
  },
  {
   "cell_type": "code",
   "execution_count": 6,
   "metadata": {},
   "outputs": [
    {
     "data": {
      "text/html": [
       "<table><tr><th>&nbsp;</th><th>core type</th><th>sub-expressions</th><th>expression</th></tr>\n",
       "<tr><td>0</td><td>Operation</td><td>operator:&nbsp;1<br>operands:&nbsp;2<br></td><td><a class=\"ProveItLink\" href=\"expr.ipynb\"><img src=\"expr.png\" style=\"display:inline;vertical-align:middle;\" /></a></td></tr>\n",
       "<tr><td>1</td><td>Literal</td><td></td><td><a class=\"ProveItLink\" href=\"../../../../../logic/equality/__pv_it/common/fb96dc12b2aa8801dda64d0132b396c63d1502bb0/expr.ipynb\"><img src=\"../../../../../logic/equality/__pv_it/common/fb96dc12b2aa8801dda64d0132b396c63d1502bb0/expr.png\" style=\"display:inline;vertical-align:middle;\" /></a></td></tr>\n",
       "<tr><td>2</td><td>ExprTuple</td><td>3, 4</td><td><a class=\"ProveItLink\" href=\"../620afb517998c5afa18b8ba2842b134c0e50b0980/expr.ipynb\"><img src=\"../620afb517998c5afa18b8ba2842b134c0e50b0980/expr.png\" style=\"display:inline;vertical-align:middle;\" /></a></td></tr>\n",
       "<tr><td>3</td><td>Operation</td><td>operator:&nbsp;40<br>operands:&nbsp;5<br></td><td><a class=\"ProveItLink\" href=\"../a4d51eb84004215e84f72ed02d89f8eef2beec560/expr.ipynb\"><img src=\"../a4d51eb84004215e84f72ed02d89f8eef2beec560/expr.png\" style=\"display:inline;vertical-align:middle;\" /></a></td></tr>\n",
       "<tr><td>4</td><td>Operation</td><td>operator:&nbsp;40<br>operands:&nbsp;6<br></td><td><a class=\"ProveItLink\" href=\"../eebf653aee27b92bc20f547dff79b583748741ce0/expr.ipynb\"><img src=\"../eebf653aee27b92bc20f547dff79b583748741ce0/expr.png\" style=\"display:inline;vertical-align:middle;\" /></a></td></tr>\n",
       "<tr><td>5</td><td>ExprTuple</td><td>7, 8</td><td><a class=\"ProveItLink\" href=\"../b56845f1d26cf3cecf598bbdb6bd5ef2b303a3c10/expr.ipynb\"><img src=\"../b56845f1d26cf3cecf598bbdb6bd5ef2b303a3c10/expr.png\" style=\"display:inline;vertical-align:middle;\" /></a></td></tr>\n",
       "<tr><td>6</td><td>ExprTuple</td><td>9, 10, 20, 21, 11, 12</td><td><a class=\"ProveItLink\" href=\"../66ae7eb7b219c43d6220139eb0e0b41330b785ae0/expr.ipynb\"><img src=\"../66ae7eb7b219c43d6220139eb0e0b41330b785ae0/expr.png\" style=\"display:inline;vertical-align:middle;\" /></a></td></tr>\n",
       "<tr><td>7</td><td>Operation</td><td>operator:&nbsp;40<br>operands:&nbsp;13<br></td><td><a class=\"ProveItLink\" href=\"../ed82812af8b93b15e3266aebc462deff6373accc0/expr.ipynb\"><img src=\"../ed82812af8b93b15e3266aebc462deff6373accc0/expr.png\" style=\"display:inline;vertical-align:middle;\" /></a></td></tr>\n",
       "<tr><td>8</td><td>Operation</td><td>operator:&nbsp;40<br>operands:&nbsp;14<br></td><td><a class=\"ProveItLink\" href=\"../adbe9d4aef12a92a1536efff672aaf87608d92810/expr.ipynb\"><img src=\"../adbe9d4aef12a92a1536efff672aaf87608d92810/expr.png\" style=\"display:inline;vertical-align:middle;\" /></a></td></tr>\n",
       "<tr><td>9</td><td>IndexedVar</td><td>variable:&nbsp;42<br>index:&nbsp;23<br></td><td><a class=\"ProveItLink\" href=\"../7914f63ed7c2c821c9ac90fe130651a6ad1fd2f70/expr.ipynb\"><img src=\"../7914f63ed7c2c821c9ac90fe130651a6ad1fd2f70/expr.png\" style=\"display:inline;vertical-align:middle;\" /></a></td></tr>\n",
       "<tr><td>10</td><td>IndexedVar</td><td>variable:&nbsp;42<br>index:&nbsp;44<br></td><td><a class=\"ProveItLink\" href=\"../c7504dd88bf7f7019eff96be045e868c0ad11eaf0/expr.ipynb\"><img src=\"../c7504dd88bf7f7019eff96be045e868c0ad11eaf0/expr.png\" style=\"display:inline;vertical-align:middle;\" /></a></td></tr>\n",
       "<tr><td>11</td><td>Operation</td><td>operator:&nbsp;47<br>operand:&nbsp;24<br></td><td><a class=\"ProveItLink\" href=\"../4b9f8b2eda7b65f63870d3b59e62099d05ab7ae80/expr.ipynb\"><img src=\"../4b9f8b2eda7b65f63870d3b59e62099d05ab7ae80/expr.png\" style=\"display:inline;vertical-align:middle;\" /></a></td></tr>\n",
       "<tr><td>12</td><td>Operation</td><td>operator:&nbsp;47<br>operand:&nbsp;25<br></td><td><a class=\"ProveItLink\" href=\"../325e6f864b99014154d9645746908558c138295c0/expr.ipynb\"><img src=\"../325e6f864b99014154d9645746908558c138295c0/expr.png\" style=\"display:inline;vertical-align:middle;\" /></a></td></tr>\n",
       "<tr><td>13</td><td>ExprTuple</td><td>19, 20</td><td><a class=\"ProveItLink\" href=\"../89503b60df418bd837e72556fa510ca33c965acd0/expr.ipynb\"><img src=\"../89503b60df418bd837e72556fa510ca33c965acd0/expr.png\" style=\"display:inline;vertical-align:middle;\" /></a></td></tr>\n",
       "<tr><td>14</td><td>ExprTuple</td><td>21, 22</td><td><a class=\"ProveItLink\" href=\"../862a811debfbe42ff9c5ce6c4fa1f0718122c4c40/expr.ipynb\"><img src=\"../862a811debfbe42ff9c5ce6c4fa1f0718122c4c40/expr.png\" style=\"display:inline;vertical-align:middle;\" /></a></td></tr>\n",
       "<tr><td>15</td><td>ExprTuple</td><td>23</td><td><a class=\"ProveItLink\" href=\"../f1af1e9a7b34dc7d40811e61e34bbe300eb8f9bf0/expr.ipynb\"><img src=\"../f1af1e9a7b34dc7d40811e61e34bbe300eb8f9bf0/expr.png\" style=\"display:inline;vertical-align:middle;\" /></a></td></tr>\n",
       "<tr><td>16</td><td>ExprTuple</td><td>44</td><td><a class=\"ProveItLink\" href=\"../../../../__pv_it/common/ca565dff2751ea9a3b48fe855133b9e0c2eca83f0/expr.ipynb\"><img src=\"../../../../__pv_it/common/ca565dff2751ea9a3b48fe855133b9e0c2eca83f0/expr.png\" style=\"display:inline;vertical-align:middle;\" /></a></td></tr>\n",
       "<tr><td>17</td><td>ExprTuple</td><td>24</td><td><a class=\"ProveItLink\" href=\"../13a6725b5bbe9335a5435dc862233e76e661cfd60/expr.ipynb\"><img src=\"../13a6725b5bbe9335a5435dc862233e76e661cfd60/expr.png\" style=\"display:inline;vertical-align:middle;\" /></a></td></tr>\n",
       "<tr><td>18</td><td>ExprTuple</td><td>25</td><td><a class=\"ProveItLink\" href=\"../13540e03af00ba7277391d246dcab0cb93db58750/expr.ipynb\"><img src=\"../13540e03af00ba7277391d246dcab0cb93db58750/expr.png\" style=\"display:inline;vertical-align:middle;\" /></a></td></tr>\n",
       "<tr><td>19</td><td>ExprRange</td><td>lambda_map:&nbsp;36<br>start_index:&nbsp;26<br>end_index:&nbsp;44<br></td><td><a class=\"ProveItLink\" href=\"../8208d15875493afa7da42412f20c3d3f251adbd30/expr.ipynb\"><img src=\"../8208d15875493afa7da42412f20c3d3f251adbd30/expr.png\" style=\"display:inline;vertical-align:middle;\" /></a></td></tr>\n",
       "<tr><td>20</td><td>Variable</td><td></td><td><a class=\"ProveItLink\" href=\"../../../../../__pv_it/common/195236b98c6c564a75b5dbada74b173bc52d5c3e0/expr.ipynb\"><img src=\"../../../../../__pv_it/common/195236b98c6c564a75b5dbada74b173bc52d5c3e0/expr.png\" style=\"display:inline;vertical-align:middle;\" /></a></td></tr>\n",
       "<tr><td>21</td><td>Operation</td><td>operator:&nbsp;47<br>operand:&nbsp;30<br></td><td><a class=\"ProveItLink\" href=\"../../../subtraction/__pv_it/theorems/cfca012e53a60bdf4c271dc7f264e6cb68dcd3450/expr.ipynb\"><img src=\"../../../subtraction/__pv_it/theorems/cfca012e53a60bdf4c271dc7f264e6cb68dcd3450/expr.png\" style=\"display:inline;vertical-align:middle;\" /></a></td></tr>\n",
       "<tr><td>22</td><td>Operation</td><td>operator:&nbsp;47<br>operand:&nbsp;31<br></td><td><a class=\"ProveItLink\" href=\"../7048956e00cd6c356e29bea1f0c076c3c16895e70/expr.ipynb\"><img src=\"../7048956e00cd6c356e29bea1f0c076c3c16895e70/expr.png\" style=\"display:inline;vertical-align:middle;\" /></a></td></tr>\n",
       "<tr><td>23</td><td>Operation</td><td>operator:&nbsp;40<br>operands:&nbsp;29<br></td><td><a class=\"ProveItLink\" href=\"../f6373c9df5fb30a12cf1503d0db3dfb89f4c1c450/expr.ipynb\"><img src=\"../f6373c9df5fb30a12cf1503d0db3dfb89f4c1c450/expr.png\" style=\"display:inline;vertical-align:middle;\" /></a></td></tr>\n",
       "<tr><td>24</td><td>IndexedVar</td><td>variable:&nbsp;42<br>index:&nbsp;37<br></td><td><a class=\"ProveItLink\" href=\"../29a7b7594c266b657d8e579ef086a3c5e071438f0/expr.ipynb\"><img src=\"../29a7b7594c266b657d8e579ef086a3c5e071438f0/expr.png\" style=\"display:inline;vertical-align:middle;\" /></a></td></tr>\n",
       "<tr><td>25</td><td>IndexedVar</td><td>variable:&nbsp;42<br>index:&nbsp;49<br></td><td><a class=\"ProveItLink\" href=\"../d17b5ab603975a5e81dbad9e880e81b7429a718d0/expr.ipynb\"><img src=\"../d17b5ab603975a5e81dbad9e880e81b7429a718d0/expr.png\" style=\"display:inline;vertical-align:middle;\" /></a></td></tr>\n",
       "<tr><td>26</td><td>Literal</td><td></td><td><a class=\"ProveItLink\" href=\"../../../../numerals/__pv_it/common/1943b60945420e340d305780feff5c1aff2740ff0/expr.ipynb\"><img src=\"../../../../numerals/__pv_it/common/1943b60945420e340d305780feff5c1aff2740ff0/expr.png\" style=\"display:inline;vertical-align:middle;\" /></a></td></tr>\n",
       "<tr><td>27</td><td>ExprTuple</td><td>30</td><td><a class=\"ProveItLink\" href=\"../../../subtraction/__pv_it/theorems/25c776cc10fb7df90a1cddbf8213d6561f6b7bd20/expr.ipynb\"><img src=\"../../../subtraction/__pv_it/theorems/25c776cc10fb7df90a1cddbf8213d6561f6b7bd20/expr.png\" style=\"display:inline;vertical-align:middle;\" /></a></td></tr>\n",
       "<tr><td>28</td><td>ExprTuple</td><td>31</td><td><a class=\"ProveItLink\" href=\"../5c2957ec14d0c3bbd6dca9bac33df7215d4f32450/expr.ipynb\"><img src=\"../5c2957ec14d0c3bbd6dca9bac33df7215d4f32450/expr.png\" style=\"display:inline;vertical-align:middle;\" /></a></td></tr>\n",
       "<tr><td>29</td><td>ExprTuple</td><td>44, 32</td><td><a class=\"ProveItLink\" href=\"../7324c7782694ef27830a6affdc5c354bab287e4f0/expr.ipynb\"><img src=\"../7324c7782694ef27830a6affdc5c354bab287e4f0/expr.png\" style=\"display:inline;vertical-align:middle;\" /></a></td></tr>\n",
       "<tr><td>30</td><td>Variable</td><td></td><td><a class=\"ProveItLink\" href=\"../../../../../__pv_it/common/ceef4280a2f1cc604b455b54e735507244cc62cd0/expr.ipynb\"><img src=\"../../../../../__pv_it/common/ceef4280a2f1cc604b455b54e735507244cc62cd0/expr.png\" style=\"display:inline;vertical-align:middle;\" /></a></td></tr>\n",
       "<tr><td>31</td><td>Operation</td><td>operator:&nbsp;40<br>operands:&nbsp;33<br></td><td><a class=\"ProveItLink\" href=\"../2e10c55c44d7e8750e6bd188fb47b2d3b87c421d0/expr.ipynb\"><img src=\"../2e10c55c44d7e8750e6bd188fb47b2d3b87c421d0/expr.png\" style=\"display:inline;vertical-align:middle;\" /></a></td></tr>\n",
       "<tr><td>32</td><td>Operation</td><td>operator:&nbsp;47<br>operand:&nbsp;37<br></td><td><a class=\"ProveItLink\" href=\"../bf4beda21975fe8a0a5007615b5bcc943da59bb20/expr.ipynb\"><img src=\"../bf4beda21975fe8a0a5007615b5bcc943da59bb20/expr.png\" style=\"display:inline;vertical-align:middle;\" /></a></td></tr>\n",
       "<tr><td>33</td><td>ExprTuple</td><td>35</td><td><a class=\"ProveItLink\" href=\"../d5a3a5ba9714a1a720bceed14f011ba0ee0394870/expr.ipynb\"><img src=\"../d5a3a5ba9714a1a720bceed14f011ba0ee0394870/expr.png\" style=\"display:inline;vertical-align:middle;\" /></a></td></tr>\n",
       "<tr><td>34</td><td>ExprTuple</td><td>37</td><td><a class=\"ProveItLink\" href=\"../b9e4f0dffece176bbe2f36127440684a20e0468e0/expr.ipynb\"><img src=\"../b9e4f0dffece176bbe2f36127440684a20e0468e0/expr.png\" style=\"display:inline;vertical-align:middle;\" /></a></td></tr>\n",
       "<tr><td>35</td><td>ExprRange</td><td>lambda_map:&nbsp;36<br>start_index:&nbsp;37<br>end_index:&nbsp;38<br></td><td><a class=\"ProveItLink\" href=\"../d011ab2fe1cfe6902a505cf0d951b7db60f5fb720/expr.ipynb\"><img src=\"../d011ab2fe1cfe6902a505cf0d951b7db60f5fb720/expr.png\" style=\"display:inline;vertical-align:middle;\" /></a></td></tr>\n",
       "<tr><td>36</td><td>Lambda</td><td>parameter:&nbsp;46<br>body:&nbsp;39<br></td><td><a class=\"ProveItLink\" href=\"../../../../../core_expr_types/__pv_it/common/1527ad383e12f9c6ed6b371c9a7dd1892d80da1b0/expr.ipynb\"><img src=\"../../../../../core_expr_types/__pv_it/common/1527ad383e12f9c6ed6b371c9a7dd1892d80da1b0/expr.png\" style=\"display:inline;vertical-align:middle;\" /></a></td></tr>\n",
       "<tr><td>37</td><td>Literal</td><td></td><td><a class=\"ProveItLink\" href=\"../../../../numerals/__pv_it/common/682157d4892d216d9e5626ed533aff9b56b9506e0/expr.ipynb\"><img src=\"../../../../numerals/__pv_it/common/682157d4892d216d9e5626ed533aff9b56b9506e0/expr.png\" style=\"display:inline;vertical-align:middle;\" /></a></td></tr>\n",
       "<tr><td>38</td><td>Operation</td><td>operator:&nbsp;40<br>operands:&nbsp;41<br></td><td><a class=\"ProveItLink\" href=\"../ba6d6630b7ac3ffcee1c898a291d992167148ca50/expr.ipynb\"><img src=\"../ba6d6630b7ac3ffcee1c898a291d992167148ca50/expr.png\" style=\"display:inline;vertical-align:middle;\" /></a></td></tr>\n",
       "<tr><td>39</td><td>IndexedVar</td><td>variable:&nbsp;42<br>index:&nbsp;46<br></td><td><a class=\"ProveItLink\" href=\"../../../../../core_expr_types/__pv_it/common/3a62c13e156d62d52fe585fa37cc2172fcf685260/expr.ipynb\"><img src=\"../../../../../core_expr_types/__pv_it/common/3a62c13e156d62d52fe585fa37cc2172fcf685260/expr.png\" style=\"display:inline;vertical-align:middle;\" /></a></td></tr>\n",
       "<tr><td>40</td><td>Literal</td><td></td><td><a class=\"ProveItLink\" href=\"../../common/4b7effaab3619a1c2c38fe2dee8601df8ec714590/expr.ipynb\"><img src=\"../../common/4b7effaab3619a1c2c38fe2dee8601df8ec714590/expr.png\" style=\"display:inline;vertical-align:middle;\" /></a></td></tr>\n",
       "<tr><td>41</td><td>ExprTuple</td><td>44, 45</td><td><a class=\"ProveItLink\" href=\"../872e83a5f39cd50ddfef33074256c98229923e0e0/expr.ipynb\"><img src=\"../872e83a5f39cd50ddfef33074256c98229923e0e0/expr.png\" style=\"display:inline;vertical-align:middle;\" /></a></td></tr>\n",
       "<tr><td>42</td><td>Variable</td><td></td><td><a class=\"ProveItLink\" href=\"../../../../../__pv_it/common/c06c606ec12678c58933ac85412ecadc2ae28be60/expr.ipynb\"><img src=\"../../../../../__pv_it/common/c06c606ec12678c58933ac85412ecadc2ae28be60/expr.png\" style=\"display:inline;vertical-align:middle;\" /></a></td></tr>\n",
       "<tr><td>43</td><td>ExprTuple</td><td>46</td><td><a class=\"ProveItLink\" href=\"../../../../../core_expr_types/__pv_it/common/4b0dd6be36d76552eda6a95d5b4a27f5a5b62f900/expr.ipynb\"><img src=\"../../../../../core_expr_types/__pv_it/common/4b0dd6be36d76552eda6a95d5b4a27f5a5b62f900/expr.png\" style=\"display:inline;vertical-align:middle;\" /></a></td></tr>\n",
       "<tr><td>44</td><td>Variable</td><td></td><td><a class=\"ProveItLink\" href=\"../../../../../__pv_it/common/8968bb04eb3f7dfa02353397ce929b025bbd79c20/expr.ipynb\"><img src=\"../../../../../__pv_it/common/8968bb04eb3f7dfa02353397ce929b025bbd79c20/expr.png\" style=\"display:inline;vertical-align:middle;\" /></a></td></tr>\n",
       "<tr><td>45</td><td>Operation</td><td>operator:&nbsp;47<br>operand:&nbsp;49<br></td><td><a class=\"ProveItLink\" href=\"../16bf7762f473cc2cfad370a096ed5f2eb39b6b2c0/expr.ipynb\"><img src=\"../16bf7762f473cc2cfad370a096ed5f2eb39b6b2c0/expr.png\" style=\"display:inline;vertical-align:middle;\" /></a></td></tr>\n",
       "<tr><td>46</td><td>Variable</td><td></td><td><a class=\"ProveItLink\" href=\"../../../../../core_expr_types/__pv_it/common/006c465e50948aa2b52285e2de47974f741255cc0/expr.ipynb\"><img src=\"../../../../../core_expr_types/__pv_it/common/006c465e50948aa2b52285e2de47974f741255cc0/expr.png\" style=\"display:inline;vertical-align:middle;\" /></a></td></tr>\n",
       "<tr><td>47</td><td>Literal</td><td></td><td><a class=\"ProveItLink\" href=\"../../../../negation/__pv_it/common/221b3c4d1770ee9051b7c044c3f9ec61196fc34b0/expr.ipynb\"><img src=\"../../../../negation/__pv_it/common/221b3c4d1770ee9051b7c044c3f9ec61196fc34b0/expr.png\" style=\"display:inline;vertical-align:middle;\" /></a></td></tr>\n",
       "<tr><td>48</td><td>ExprTuple</td><td>49</td><td><a class=\"ProveItLink\" href=\"../56953b0728fa2850398ae7a13d530612ae194a390/expr.ipynb\"><img src=\"../56953b0728fa2850398ae7a13d530612ae194a390/expr.png\" style=\"display:inline;vertical-align:middle;\" /></a></td></tr>\n",
       "<tr><td>49</td><td>Literal</td><td></td><td><a class=\"ProveItLink\" href=\"../../../../numerals/__pv_it/common/af4aab8a07465db063742696e006d04670f30cf10/expr.ipynb\"><img src=\"../../../../numerals/__pv_it/common/af4aab8a07465db063742696e006d04670f30cf10/expr.png\" style=\"display:inline;vertical-align:middle;\" /></a></td></tr>\n",
       "</table>\n"
      ],
      "text/plain": [
       "0. ((a_{3} +  a_{4} +  ... +  a_{n} + b) + (-c - (a_{1} +  a_{2} +  ... +  a_{n - 2}))) = (a_{n - 1} + a_{n} + b - c - a_{1} - a_{2})\n",
       "   core type: Operation\n",
       "   operator: 1\n",
       "   operands: 2\n",
       "1. =\n",
       "   core type: Literal\n",
       "   sub-expressions: \n",
       "2. ((a_{3} +  a_{4} +  ... +  a_{n} + b) + (-c - (a_{1} +  a_{2} +  ... +  a_{n - 2})), a_{n - 1} + a_{n} + b - c - a_{1} - a_{2})\n",
       "   core type: ExprTuple\n",
       "   sub-expressions: 3, 4\n",
       "3. (a_{3} +  a_{4} +  ... +  a_{n} + b) + (-c - (a_{1} +  a_{2} +  ... +  a_{n - 2}))\n",
       "   core type: Operation\n",
       "   operator: 40\n",
       "   operands: 5\n",
       "4. a_{n - 1} + a_{n} + b - c - a_{1} - a_{2}\n",
       "   core type: Operation\n",
       "   operator: 40\n",
       "   operands: 6\n",
       "5. (a_{3} +  a_{4} +  ... +  a_{n} + b, -c - (a_{1} +  a_{2} +  ... +  a_{n - 2}))\n",
       "   core type: ExprTuple\n",
       "   sub-expressions: 7, 8\n",
       "6. (a_{n - 1}, a_{n}, b, -c, -a_{1}, -a_{2})\n",
       "   core type: ExprTuple\n",
       "   sub-expressions: 9, 10, 20, 21, 11, 12\n",
       "7. a_{3} +  a_{4} +  ... +  a_{n} + b\n",
       "   core type: Operation\n",
       "   operator: 40\n",
       "   operands: 13\n",
       "8. -c - (a_{1} +  a_{2} +  ... +  a_{n - 2})\n",
       "   core type: Operation\n",
       "   operator: 40\n",
       "   operands: 14\n",
       "9. a_{n - 1}\n",
       "   core type: IndexedVar\n",
       "variable: 42\n",
       "index: 23\n",
       "10. a_{n}\n",
       "    core type: IndexedVar\n",
       "variable: 42\n",
       "index: 44\n",
       "11. -a_{1}\n",
       "    core type: Operation\n",
       "    operator: 47\n",
       "    operand: 24\n",
       "12. -a_{2}\n",
       "    core type: Operation\n",
       "    operator: 47\n",
       "    operand: 25\n",
       "13. (a_{3}, a_{4}, ..., a_{n}, b)\n",
       "    core type: ExprTuple\n",
       "    sub-expressions: 19, 20\n",
       "14. (-c, -(a_{1} +  a_{2} +  ... +  a_{n - 2}))\n",
       "    core type: ExprTuple\n",
       "    sub-expressions: 21, 22\n",
       "15. (n - 1)\n",
       "    core type: ExprTuple\n",
       "    sub-expressions: 23\n",
       "16. (n)\n",
       "    core type: ExprTuple\n",
       "    sub-expressions: 44\n",
       "17. (a_{1})\n",
       "    core type: ExprTuple\n",
       "    sub-expressions: 24\n",
       "18. (a_{2})\n",
       "    core type: ExprTuple\n",
       "    sub-expressions: 25\n",
       "19. a_{3}, a_{4}, ..., a_{n}\n",
       "    core type: ExprRange\n",
       "    lambda_map: 36\n",
       "    start_index: 26\n",
       "    end_index: 44\n",
       "20. b\n",
       "    core type: Variable\n",
       "    sub-expressions: \n",
       "21. -c\n",
       "    core type: Operation\n",
       "    operator: 47\n",
       "    operand: 30\n",
       "22. -(a_{1} +  a_{2} +  ... +  a_{n - 2})\n",
       "    core type: Operation\n",
       "    operator: 47\n",
       "    operand: 31\n",
       "23. n - 1\n",
       "    core type: Operation\n",
       "    operator: 40\n",
       "    operands: 29\n",
       "24. a_{1}\n",
       "    core type: IndexedVar\n",
       "variable: 42\n",
       "index: 37\n",
       "25. a_{2}\n",
       "    core type: IndexedVar\n",
       "variable: 42\n",
       "index: 49\n",
       "26. 3\n",
       "    core type: Literal\n",
       "    sub-expressions: \n",
       "27. (c)\n",
       "    core type: ExprTuple\n",
       "    sub-expressions: 30\n",
       "28. (a_{1} +  a_{2} +  ... +  a_{n - 2})\n",
       "    core type: ExprTuple\n",
       "    sub-expressions: 31\n",
       "29. (n, -1)\n",
       "    core type: ExprTuple\n",
       "    sub-expressions: 44, 32\n",
       "30. c\n",
       "    core type: Variable\n",
       "    sub-expressions: \n",
       "31. a_{1} +  a_{2} +  ... +  a_{n - 2}\n",
       "    core type: Operation\n",
       "    operator: 40\n",
       "    operands: 33\n",
       "32. -1\n",
       "    core type: Operation\n",
       "    operator: 47\n",
       "    operand: 37\n",
       "33. (a_{1}, a_{2}, ..., a_{n - 2})\n",
       "    core type: ExprTuple\n",
       "    sub-expressions: 35\n",
       "34. (1)\n",
       "    core type: ExprTuple\n",
       "    sub-expressions: 37\n",
       "35. a_{1}, a_{2}, ..., a_{n - 2}\n",
       "    core type: ExprRange\n",
       "    lambda_map: 36\n",
       "    start_index: 37\n",
       "    end_index: 38\n",
       "36. _a -> a_{_a}\n",
       "    core type: Lambda\n",
       "    parameter: 46\n",
       "    body: 39\n",
       "37. 1\n",
       "    core type: Literal\n",
       "    sub-expressions: \n",
       "38. n - 2\n",
       "    core type: Operation\n",
       "    operator: 40\n",
       "    operands: 41\n",
       "39. a_{_a}\n",
       "    core type: IndexedVar\n",
       "variable: 42\n",
       "index: 46\n",
       "40. +\n",
       "    core type: Literal\n",
       "    sub-expressions: \n",
       "41. (n, -2)\n",
       "    core type: ExprTuple\n",
       "    sub-expressions: 44, 45\n",
       "42. a\n",
       "    core type: Variable\n",
       "    sub-expressions: \n",
       "43. (_a)\n",
       "    core type: ExprTuple\n",
       "    sub-expressions: 46\n",
       "44. n\n",
       "    core type: Variable\n",
       "    sub-expressions: \n",
       "45. -2\n",
       "    core type: Operation\n",
       "    operator: 47\n",
       "    operand: 49\n",
       "46. _a\n",
       "    core type: Variable\n",
       "    sub-expressions: \n",
       "47. -\n",
       "    core type: Literal\n",
       "    sub-expressions: \n",
       "48. (2)\n",
       "    core type: ExprTuple\n",
       "    sub-expressions: 49\n",
       "49. 2\n",
       "    core type: Literal\n",
       "    sub-expressions: "
      ]
     },
     "metadata": {},
     "output_type": "display_data"
    }
   ],
   "source": [
    "# display the expression information\n",
    "stored_expr.expr_info()"
   ]
  },
  {
   "cell_type": "code",
   "execution_count": null,
   "metadata": {},
   "outputs": [],
   "source": []
  }
 ],
 "metadata": {
  "kernelspec": {
   "display_name": "Python 3",
   "language": "python",
   "name": "python3"
  }
 },
 "nbformat": 4,
 "nbformat_minor": 0
}