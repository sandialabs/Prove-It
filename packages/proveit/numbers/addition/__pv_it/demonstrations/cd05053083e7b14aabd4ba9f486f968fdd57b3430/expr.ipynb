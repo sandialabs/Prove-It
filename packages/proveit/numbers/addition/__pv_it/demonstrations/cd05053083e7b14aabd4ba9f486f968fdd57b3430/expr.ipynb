{
 "cells": [
  {
   "cell_type": "markdown",
   "metadata": {},
   "source": [
    "Expression of type <a class=\"ProveItLink\" href=\"../../../../../../../doc/html/api/proveit.ExprTuple.html\">ExprTuple</a>\n",
    "=======================\n",
    "# from the theory of <a class=\"ProveItLink\" href=\"../../../_theory_nbs_/theory.ipynb\">proveit.numbers.addition</a>"
   ]
  },
  {
   "cell_type": "code",
   "execution_count": 1,
   "metadata": {},
   "outputs": [],
   "source": [
    "import proveit\n",
    "# Automation is not needed when building an expression:\n",
    "proveit.defaults.automation = False # This will speed things up.\n",
    "proveit.defaults.inline_pngs = False # Makes files smaller.\n",
    "%load_expr # Load the stored expression as 'stored_expr'\n",
    "# import Expression classes needed to build the expression\n",
    "from proveit import ExprTuple, a, b, c\n",
    "from proveit.numbers import Add, Mult, four, nine, three, two, zero"
   ]
  },
  {
   "cell_type": "code",
   "execution_count": 2,
   "metadata": {},
   "outputs": [
    {
     "data": {
      "text/html": [
       "<strong id=\"expr\">expr:</strong> <a class=\"ProveItLink\" href=\"expr.ipynb\"><img src=\"expr.png\" style=\"display:inline;vertical-align:middle;\" /></a><br>"
      ],
      "text/plain": [
       "<IPython.core.display.HTML object>"
      ]
     },
     "metadata": {},
     "output_type": "display_data"
    }
   ],
   "source": [
    "# build up the expression from sub-expressions\n",
    "expr = ExprTuple(Add(two, three, four, a, a, c, zero, c, b, b), Add(nine, Mult(two, a), Mult(two, c), Mult(two, b)))"
   ]
  },
  {
   "cell_type": "code",
   "execution_count": 3,
   "metadata": {},
   "outputs": [
    {
     "name": "stdout",
     "output_type": "stream",
     "text": [
      "Passed sanity check: expr matches stored_expr\n"
     ]
    }
   ],
   "source": [
    "# check that the built expression is the same as the stored expression\n",
    "assert expr == stored_expr\n",
    "assert expr._style_id == stored_expr._style_id\n",
    "print(\"Passed sanity check: expr matches stored_expr\")"
   ]
  },
  {
   "cell_type": "code",
   "execution_count": 4,
   "metadata": {},
   "outputs": [
    {
     "name": "stdout",
     "output_type": "stream",
     "text": [
      "\\left(2 + 3 + 4 + a + a + c + 0 + c + b + b, 9 + \\left(2 \\cdot a\\right) + \\left(2 \\cdot c\\right) + \\left(2 \\cdot b\\right)\\right)\n"
     ]
    }
   ],
   "source": [
    "# Show the LaTeX representation of the expression for convenience if you need it.\n",
    "print(stored_expr.latex())"
   ]
  },
  {
   "cell_type": "code",
   "execution_count": 5,
   "metadata": {},
   "outputs": [
    {
     "data": {
      "text/html": [
       "<table>\n",
       "<tr><th>name</th><th>description</th><th>default</th><th>current value</th><th>related methods</th></tr><tr><td>wrap_positions</td><td>position(s) at which wrapping is to occur; 'n' is after the nth comma.</td><td>()</td><td>()</td><td>('with_wrapping_at',)</td></tr>\n",
       "<tr><td>justification</td><td>if any wrap positions are set, justify to the 'left', 'center', or 'right'</td><td>left</td><td>left</td><td>('with_justification',)</td></tr>\n",
       "</table>\n"
      ],
      "text/plain": [
       "style name: wrap_positions\n",
       "description: position(s) at which wrapping is to occur; 'n' is after the nth comma.\n",
       "default: ()\n",
       "current value: ()\n",
       "related methods: ('with_wrapping_at',)\n",
       "style name: justification\n",
       "description: if any wrap positions are set, justify to the 'left', 'center', or 'right'\n",
       "default: left\n",
       "current value: left\n",
       "related methods: ('with_justification',)"
      ]
     },
     "metadata": {},
     "output_type": "display_data"
    }
   ],
   "source": [
    "stored_expr.style_options()"
   ]
  },
  {
   "cell_type": "code",
   "execution_count": 6,
   "metadata": {},
   "outputs": [
    {
     "data": {
      "text/html": [
       "<table><tr><th>&nbsp;</th><th>core type</th><th>sub-expressions</th><th>expression</th></tr>\n",
       "<tr><td>0</td><td>ExprTuple</td><td>1, 2</td><td><a class=\"ProveItLink\" href=\"expr.ipynb\"><img src=\"expr.png\" style=\"display:inline;vertical-align:middle;\" /></a></td></tr>\n",
       "<tr><td>1</td><td>Operation</td><td>operator:&nbsp;4<br>operands:&nbsp;3<br></td><td><a class=\"ProveItLink\" href=\"../fc88f3e4a278dd12857fd6a773234e39556bc55c0/expr.ipynb\"><img src=\"../fc88f3e4a278dd12857fd6a773234e39556bc55c0/expr.png\" style=\"display:inline;vertical-align:middle;\" /></a></td></tr>\n",
       "<tr><td>2</td><td>Operation</td><td>operator:&nbsp;4<br>operands:&nbsp;5<br></td><td><a class=\"ProveItLink\" href=\"../c65062c9e878625158a01506e832aecefd88b49a0/expr.ipynb\"><img src=\"../c65062c9e878625158a01506e832aecefd88b49a0/expr.png\" style=\"display:inline;vertical-align:middle;\" /></a></td></tr>\n",
       "<tr><td>3</td><td>ExprTuple</td><td>19, 6, 7, 17, 17, 18, 8, 18, 20, 20</td><td><a class=\"ProveItLink\" href=\"../66d455dd0d4a8291f12280847bae2b3f256f0d920/expr.ipynb\"><img src=\"../66d455dd0d4a8291f12280847bae2b3f256f0d920/expr.png\" style=\"display:inline;vertical-align:middle;\" /></a></td></tr>\n",
       "<tr><td>4</td><td>Literal</td><td></td><td><a class=\"ProveItLink\" href=\"../../common/4b7effaab3619a1c2c38fe2dee8601df8ec714590/expr.ipynb\"><img src=\"../../common/4b7effaab3619a1c2c38fe2dee8601df8ec714590/expr.png\" style=\"display:inline;vertical-align:middle;\" /></a></td></tr>\n",
       "<tr><td>5</td><td>ExprTuple</td><td>9, 10, 11, 12</td><td><a class=\"ProveItLink\" href=\"../0742f3cca68e917cf3f36f7b9d7f4f6792418c8e0/expr.ipynb\"><img src=\"../0742f3cca68e917cf3f36f7b9d7f4f6792418c8e0/expr.png\" style=\"display:inline;vertical-align:middle;\" /></a></td></tr>\n",
       "<tr><td>6</td><td>Literal</td><td></td><td><a class=\"ProveItLink\" href=\"../../../../numerals/__pv_it/common/1943b60945420e340d305780feff5c1aff2740ff0/expr.ipynb\"><img src=\"../../../../numerals/__pv_it/common/1943b60945420e340d305780feff5c1aff2740ff0/expr.png\" style=\"display:inline;vertical-align:middle;\" /></a></td></tr>\n",
       "<tr><td>7</td><td>Literal</td><td></td><td><a class=\"ProveItLink\" href=\"../../../../numerals/__pv_it/common/48a1d915c1e9490b9a94e5c77a208938d3ee20ce0/expr.ipynb\"><img src=\"../../../../numerals/__pv_it/common/48a1d915c1e9490b9a94e5c77a208938d3ee20ce0/expr.png\" style=\"display:inline;vertical-align:middle;\" /></a></td></tr>\n",
       "<tr><td>8</td><td>Literal</td><td></td><td><a class=\"ProveItLink\" href=\"../../../../numerals/__pv_it/common/dd4e19e8b134dfb293470ea55fe3589b0ab9f8040/expr.ipynb\"><img src=\"../../../../numerals/__pv_it/common/dd4e19e8b134dfb293470ea55fe3589b0ab9f8040/expr.png\" style=\"display:inline;vertical-align:middle;\" /></a></td></tr>\n",
       "<tr><td>9</td><td>Literal</td><td></td><td><a class=\"ProveItLink\" href=\"../../../../numerals/__pv_it/common/22593540f11ac41f656b6119a111361a0782e98b0/expr.ipynb\"><img src=\"../../../../numerals/__pv_it/common/22593540f11ac41f656b6119a111361a0782e98b0/expr.png\" style=\"display:inline;vertical-align:middle;\" /></a></td></tr>\n",
       "<tr><td>10</td><td>Operation</td><td>operator:&nbsp;15<br>operands:&nbsp;13<br></td><td><a class=\"ProveItLink\" href=\"../da7e00453034e3b0fc70a218d9b1631f24d6486c0/expr.ipynb\"><img src=\"../da7e00453034e3b0fc70a218d9b1631f24d6486c0/expr.png\" style=\"display:inline;vertical-align:middle;\" /></a></td></tr>\n",
       "<tr><td>11</td><td>Operation</td><td>operator:&nbsp;15<br>operands:&nbsp;14<br></td><td><a class=\"ProveItLink\" href=\"../fd0f5251a6f278c650d15e590fc58adf0e74eec30/expr.ipynb\"><img src=\"../fd0f5251a6f278c650d15e590fc58adf0e74eec30/expr.png\" style=\"display:inline;vertical-align:middle;\" /></a></td></tr>\n",
       "<tr><td>12</td><td>Operation</td><td>operator:&nbsp;15<br>operands:&nbsp;16<br></td><td><a class=\"ProveItLink\" href=\"../45232ef80a252baac4cf03e21f6295344ff632100/expr.ipynb\"><img src=\"../45232ef80a252baac4cf03e21f6295344ff632100/expr.png\" style=\"display:inline;vertical-align:middle;\" /></a></td></tr>\n",
       "<tr><td>13</td><td>ExprTuple</td><td>19, 17</td><td><a class=\"ProveItLink\" href=\"../c44829fbf8e03f542e72475f1f9bb7bf98cba2ce0/expr.ipynb\"><img src=\"../c44829fbf8e03f542e72475f1f9bb7bf98cba2ce0/expr.png\" style=\"display:inline;vertical-align:middle;\" /></a></td></tr>\n",
       "<tr><td>14</td><td>ExprTuple</td><td>19, 18</td><td><a class=\"ProveItLink\" href=\"../e91868fb103805e87eeedee946089e21e6b108440/expr.ipynb\"><img src=\"../e91868fb103805e87eeedee946089e21e6b108440/expr.png\" style=\"display:inline;vertical-align:middle;\" /></a></td></tr>\n",
       "<tr><td>15</td><td>Literal</td><td></td><td><a class=\"ProveItLink\" href=\"../../../../multiplication/__pv_it/common/ed719cef37831779c16481533a4d380a2f95ab270/expr.ipynb\"><img src=\"../../../../multiplication/__pv_it/common/ed719cef37831779c16481533a4d380a2f95ab270/expr.png\" style=\"display:inline;vertical-align:middle;\" /></a></td></tr>\n",
       "<tr><td>16</td><td>ExprTuple</td><td>19, 20</td><td><a class=\"ProveItLink\" href=\"../ee1a0801a874972d38610f4246b3ddcbc80bfc320/expr.ipynb\"><img src=\"../ee1a0801a874972d38610f4246b3ddcbc80bfc320/expr.png\" style=\"display:inline;vertical-align:middle;\" /></a></td></tr>\n",
       "<tr><td>17</td><td>Variable</td><td></td><td><a class=\"ProveItLink\" href=\"../../../../../__pv_it/common/c06c606ec12678c58933ac85412ecadc2ae28be60/expr.ipynb\"><img src=\"../../../../../__pv_it/common/c06c606ec12678c58933ac85412ecadc2ae28be60/expr.png\" style=\"display:inline;vertical-align:middle;\" /></a></td></tr>\n",
       "<tr><td>18</td><td>Variable</td><td></td><td><a class=\"ProveItLink\" href=\"../../../../../__pv_it/common/ceef4280a2f1cc604b455b54e735507244cc62cd0/expr.ipynb\"><img src=\"../../../../../__pv_it/common/ceef4280a2f1cc604b455b54e735507244cc62cd0/expr.png\" style=\"display:inline;vertical-align:middle;\" /></a></td></tr>\n",
       "<tr><td>19</td><td>Literal</td><td></td><td><a class=\"ProveItLink\" href=\"../../../../numerals/__pv_it/common/af4aab8a07465db063742696e006d04670f30cf10/expr.ipynb\"><img src=\"../../../../numerals/__pv_it/common/af4aab8a07465db063742696e006d04670f30cf10/expr.png\" style=\"display:inline;vertical-align:middle;\" /></a></td></tr>\n",
       "<tr><td>20</td><td>Variable</td><td></td><td><a class=\"ProveItLink\" href=\"../../../../../__pv_it/common/195236b98c6c564a75b5dbada74b173bc52d5c3e0/expr.ipynb\"><img src=\"../../../../../__pv_it/common/195236b98c6c564a75b5dbada74b173bc52d5c3e0/expr.png\" style=\"display:inline;vertical-align:middle;\" /></a></td></tr>\n",
       "</table>\n"
      ],
      "text/plain": [
       "0. (2 + 3 + 4 + a + a + c + 0 + c + b + b, 9 + (2 * a) + (2 * c) + (2 * b))\n",
       "   core type: ExprTuple\n",
       "   sub-expressions: 1, 2\n",
       "1. 2 + 3 + 4 + a + a + c + 0 + c + b + b\n",
       "   core type: Operation\n",
       "   operator: 4\n",
       "   operands: 3\n",
       "2. 9 + (2 * a) + (2 * c) + (2 * b)\n",
       "   core type: Operation\n",
       "   operator: 4\n",
       "   operands: 5\n",
       "3. (2, 3, 4, a, a, c, 0, c, b, b)\n",
       "   core type: ExprTuple\n",
       "   sub-expressions: 19, 6, 7, 17, 17, 18, 8, 18, 20, 20\n",
       "4. +\n",
       "   core type: Literal\n",
       "   sub-expressions: \n",
       "5. (9, 2 * a, 2 * c, 2 * b)\n",
       "   core type: ExprTuple\n",
       "   sub-expressions: 9, 10, 11, 12\n",
       "6. 3\n",
       "   core type: Literal\n",
       "   sub-expressions: \n",
       "7. 4\n",
       "   core type: Literal\n",
       "   sub-expressions: \n",
       "8. 0\n",
       "   core type: Literal\n",
       "   sub-expressions: \n",
       "9. 9\n",
       "   core type: Literal\n",
       "   sub-expressions: \n",
       "10. 2 * a\n",
       "    core type: Operation\n",
       "    operator: 15\n",
       "    operands: 13\n",
       "11. 2 * c\n",
       "    core type: Operation\n",
       "    operator: 15\n",
       "    operands: 14\n",
       "12. 2 * b\n",
       "    core type: Operation\n",
       "    operator: 15\n",
       "    operands: 16\n",
       "13. (2, a)\n",
       "    core type: ExprTuple\n",
       "    sub-expressions: 19, 17\n",
       "14. (2, c)\n",
       "    core type: ExprTuple\n",
       "    sub-expressions: 19, 18\n",
       "15. *\n",
       "    core type: Literal\n",
       "    sub-expressions: \n",
       "16. (2, b)\n",
       "    core type: ExprTuple\n",
       "    sub-expressions: 19, 20\n",
       "17. a\n",
       "    core type: Variable\n",
       "    sub-expressions: \n",
       "18. c\n",
       "    core type: Variable\n",
       "    sub-expressions: \n",
       "19. 2\n",
       "    core type: Literal\n",
       "    sub-expressions: \n",
       "20. b\n",
       "    core type: Variable\n",
       "    sub-expressions: "
      ]
     },
     "metadata": {},
     "output_type": "display_data"
    }
   ],
   "source": [
    "# display the expression information\n",
    "stored_expr.expr_info()"
   ]
  },
  {
   "cell_type": "code",
   "execution_count": null,
   "metadata": {},
   "outputs": [],
   "source": []
  }
 ],
 "metadata": {
  "kernelspec": {
   "display_name": "Python 3",
   "language": "python",
   "name": "python3"
  }
 },
 "nbformat": 4,
 "nbformat_minor": 0
}