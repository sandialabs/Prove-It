{
 "cells": [
  {
   "cell_type": "markdown",
   "metadata": {},
   "source": [
    "Expression of type <a class=\"ProveItLink\" href=\"../../../../../../../doc/html/api/proveit.numbers.Add.html\">Add</a>\n",
    "=======================\n",
    "# from the theory of <a class=\"ProveItLink\" href=\"../../../_theory_nbs_/theory.ipynb\">proveit.numbers.addition</a>"
   ]
  },
  {
   "cell_type": "code",
   "execution_count": 1,
   "metadata": {},
   "outputs": [],
   "source": [
    "import proveit\n",
    "# Automation is not needed when building an expression:\n",
    "proveit.defaults.automation = False # This will speed things up.\n",
    "proveit.defaults.inline_pngs = False # Makes files smaller.\n",
    "%load_expr # Load the stored expression as 'stored_expr'\n",
    "# import Expression classes needed to build the expression\n",
    "from proveit import ExprRange, IndexedVar, Variable, a, b, c, m\n",
    "from proveit.core_expr_types import a_1_to_n\n",
    "from proveit.numbers import Add, Neg, one, subtract"
   ]
  },
  {
   "cell_type": "code",
   "execution_count": 2,
   "metadata": {},
   "outputs": [
    {
     "data": {
      "text/html": [
       "<strong id=\"expr\">expr:</strong> <a class=\"ProveItLink\" href=\"expr.ipynb\"><img src=\"expr.png\" style=\"display:inline;vertical-align:middle;\" /></a><br>"
      ],
      "text/plain": [
       "<IPython.core.display.HTML object>"
      ]
     },
     "metadata": {},
     "output_type": "display_data"
    }
   ],
   "source": [
    "# build up the expression from sub-expressions\n",
    "sub_expr1 = Variable(\"_a\", latex_format = r\"{_{-}a}\")\n",
    "expr = Add(Add(ExprRange(sub_expr1, Neg(IndexedVar(a, sub_expr1)), one, m), b), subtract(Neg(c), Add(a_1_to_n)))"
   ]
  },
  {
   "cell_type": "code",
   "execution_count": 3,
   "metadata": {},
   "outputs": [
    {
     "name": "stdout",
     "output_type": "stream",
     "text": [
      "Passed sanity check: expr matches stored_expr\n"
     ]
    }
   ],
   "source": [
    "# check that the built expression is the same as the stored expression\n",
    "assert expr == stored_expr\n",
    "assert expr._style_id == stored_expr._style_id\n",
    "print(\"Passed sanity check: expr matches stored_expr\")"
   ]
  },
  {
   "cell_type": "code",
   "execution_count": 4,
   "metadata": {},
   "outputs": [
    {
     "name": "stdout",
     "output_type": "stream",
     "text": [
      "\\left(- a_{1} -  a_{2} -  \\ldots -  a_{m} + b\\right) + \\left(-c - \\left(a_{1} +  a_{2} +  \\ldots +  a_{n}\\right)\\right)\n"
     ]
    }
   ],
   "source": [
    "# Show the LaTeX representation of the expression for convenience if you need it.\n",
    "print(stored_expr.latex())"
   ]
  },
  {
   "cell_type": "code",
   "execution_count": 5,
   "metadata": {},
   "outputs": [
    {
     "data": {
      "text/html": [
       "<table>\n",
       "<tr><th>name</th><th>description</th><th>default</th><th>current value</th><th>related methods</th></tr><tr><td>operation</td><td>'infix' or 'function' style formatting</td><td>infix</td><td>infix</td><td></td></tr>\n",
       "<tr><td>wrap_positions</td><td>position(s) at which wrapping is to occur; '2 n - 1' is after the nth operand, '2 n' is after the nth operation.</td><td>()</td><td>()</td><td>('with_wrapping_at', 'with_wrap_before_operator', 'with_wrap_after_operator', 'without_wrapping', 'wrap_positions')</td></tr>\n",
       "<tr><td>justification</td><td>if any wrap positions are set, justify to the 'left', 'center', or 'right'</td><td>center</td><td>center</td><td>('with_justification',)</td></tr>\n",
       "</table>\n"
      ],
      "text/plain": [
       "style name: operation\n",
       "description: 'infix' or 'function' style formatting\n",
       "default: infix\n",
       "current value: infix\n",
       "related methods: ()\n",
       "style name: wrap_positions\n",
       "description: position(s) at which wrapping is to occur; '2 n - 1' is after the nth operand, '2 n' is after the nth operation.\n",
       "default: ()\n",
       "current value: ()\n",
       "related methods: ('with_wrapping_at', 'with_wrap_before_operator', 'with_wrap_after_operator', 'without_wrapping', 'wrap_positions')\n",
       "style name: justification\n",
       "description: if any wrap positions are set, justify to the 'left', 'center', or 'right'\n",
       "default: center\n",
       "current value: center\n",
       "related methods: ('with_justification',)"
      ]
     },
     "metadata": {},
     "output_type": "display_data"
    }
   ],
   "source": [
    "stored_expr.style_options()"
   ]
  },
  {
   "cell_type": "code",
   "execution_count": 6,
   "metadata": {},
   "outputs": [
    {
     "data": {
      "text/html": [
       "<table><tr><th>&nbsp;</th><th>core type</th><th>sub-expressions</th><th>expression</th></tr>\n",
       "<tr><td>0</td><td>Operation</td><td>operator:&nbsp;19<br>operands:&nbsp;1<br></td><td><a class=\"ProveItLink\" href=\"expr.ipynb\"><img src=\"expr.png\" style=\"display:inline;vertical-align:middle;\" /></a></td></tr>\n",
       "<tr><td>1</td><td>ExprTuple</td><td>2, 3</td><td><a class=\"ProveItLink\" href=\"../d0f5791a1ef937ed641ef7671f41c92ba35f0f5d0/expr.ipynb\"><img src=\"../d0f5791a1ef937ed641ef7671f41c92ba35f0f5d0/expr.png\" style=\"display:inline;vertical-align:middle;\" /></a></td></tr>\n",
       "<tr><td>2</td><td>Operation</td><td>operator:&nbsp;19<br>operands:&nbsp;4<br></td><td><a class=\"ProveItLink\" href=\"../f0e9c8ba44b060059d33f78ff465e10511f837a30/expr.ipynb\"><img src=\"../f0e9c8ba44b060059d33f78ff465e10511f837a30/expr.png\" style=\"display:inline;vertical-align:middle;\" /></a></td></tr>\n",
       "<tr><td>3</td><td>Operation</td><td>operator:&nbsp;19<br>operands:&nbsp;5<br></td><td><a class=\"ProveItLink\" href=\"../8489354acf7a27a0ae5b41fde04e5939fe04f3c10/expr.ipynb\"><img src=\"../8489354acf7a27a0ae5b41fde04e5939fe04f3c10/expr.png\" style=\"display:inline;vertical-align:middle;\" /></a></td></tr>\n",
       "<tr><td>4</td><td>ExprTuple</td><td>6, 7</td><td><a class=\"ProveItLink\" href=\"../1cafc15ceac667a92d37e4c14b93e9f7673445030/expr.ipynb\"><img src=\"../1cafc15ceac667a92d37e4c14b93e9f7673445030/expr.png\" style=\"display:inline;vertical-align:middle;\" /></a></td></tr>\n",
       "<tr><td>5</td><td>ExprTuple</td><td>8, 9</td><td><a class=\"ProveItLink\" href=\"../88d43d2c54e3fa652b12633e549fe0f984e789df0/expr.ipynb\"><img src=\"../88d43d2c54e3fa652b12633e549fe0f984e789df0/expr.png\" style=\"display:inline;vertical-align:middle;\" /></a></td></tr>\n",
       "<tr><td>6</td><td>ExprRange</td><td>lambda_map:&nbsp;10<br>start_index:&nbsp;23<br>end_index:&nbsp;11<br></td><td><a class=\"ProveItLink\" href=\"../98ac68722c4c92c2151beb8cbde0384453f1e7a50/expr.ipynb\"><img src=\"../98ac68722c4c92c2151beb8cbde0384453f1e7a50/expr.png\" style=\"display:inline;vertical-align:middle;\" /></a></td></tr>\n",
       "<tr><td>7</td><td>Variable</td><td></td><td><a class=\"ProveItLink\" href=\"../../../../../__pv_it/common/195236b98c6c564a75b5dbada74b173bc52d5c3e0/expr.ipynb\"><img src=\"../../../../../__pv_it/common/195236b98c6c564a75b5dbada74b173bc52d5c3e0/expr.png\" style=\"display:inline;vertical-align:middle;\" /></a></td></tr>\n",
       "<tr><td>8</td><td>Operation</td><td>operator:&nbsp;17<br>operand:&nbsp;15<br></td><td><a class=\"ProveItLink\" href=\"../../../subtraction/__pv_it/theorems/cfca012e53a60bdf4c271dc7f264e6cb68dcd3450/expr.ipynb\"><img src=\"../../../subtraction/__pv_it/theorems/cfca012e53a60bdf4c271dc7f264e6cb68dcd3450/expr.png\" style=\"display:inline;vertical-align:middle;\" /></a></td></tr>\n",
       "<tr><td>9</td><td>Operation</td><td>operator:&nbsp;17<br>operand:&nbsp;16<br></td><td><a class=\"ProveItLink\" href=\"../ede5a153e01bd7c71e11ce480015fdaf615f62060/expr.ipynb\"><img src=\"../ede5a153e01bd7c71e11ce480015fdaf615f62060/expr.png\" style=\"display:inline;vertical-align:middle;\" /></a></td></tr>\n",
       "<tr><td>10</td><td>Lambda</td><td>parameter:&nbsp;28<br>body:&nbsp;14<br></td><td><a class=\"ProveItLink\" href=\"../27458c615eae85da8b2c623b22685e551ce141870/expr.ipynb\"><img src=\"../27458c615eae85da8b2c623b22685e551ce141870/expr.png\" style=\"display:inline;vertical-align:middle;\" /></a></td></tr>\n",
       "<tr><td>11</td><td>Variable</td><td></td><td><a class=\"ProveItLink\" href=\"../../../../../__pv_it/common/674a03b9c3ca221b3aabd5636837b31528ff33830/expr.ipynb\"><img src=\"../../../../../__pv_it/common/674a03b9c3ca221b3aabd5636837b31528ff33830/expr.png\" style=\"display:inline;vertical-align:middle;\" /></a></td></tr>\n",
       "<tr><td>12</td><td>ExprTuple</td><td>15</td><td><a class=\"ProveItLink\" href=\"../../../subtraction/__pv_it/theorems/25c776cc10fb7df90a1cddbf8213d6561f6b7bd20/expr.ipynb\"><img src=\"../../../subtraction/__pv_it/theorems/25c776cc10fb7df90a1cddbf8213d6561f6b7bd20/expr.png\" style=\"display:inline;vertical-align:middle;\" /></a></td></tr>\n",
       "<tr><td>13</td><td>ExprTuple</td><td>16</td><td><a class=\"ProveItLink\" href=\"../4a4aa7cd0dc1a7be177e7e9a8b672f32f9db28a10/expr.ipynb\"><img src=\"../4a4aa7cd0dc1a7be177e7e9a8b672f32f9db28a10/expr.png\" style=\"display:inline;vertical-align:middle;\" /></a></td></tr>\n",
       "<tr><td>14</td><td>Operation</td><td>operator:&nbsp;17<br>operand:&nbsp;25<br></td><td><a class=\"ProveItLink\" href=\"../e811319a457fa9d6a910fb694c7f31d45285cd6c0/expr.ipynb\"><img src=\"../e811319a457fa9d6a910fb694c7f31d45285cd6c0/expr.png\" style=\"display:inline;vertical-align:middle;\" /></a></td></tr>\n",
       "<tr><td>15</td><td>Variable</td><td></td><td><a class=\"ProveItLink\" href=\"../../../../../__pv_it/common/ceef4280a2f1cc604b455b54e735507244cc62cd0/expr.ipynb\"><img src=\"../../../../../__pv_it/common/ceef4280a2f1cc604b455b54e735507244cc62cd0/expr.png\" style=\"display:inline;vertical-align:middle;\" /></a></td></tr>\n",
       "<tr><td>16</td><td>Operation</td><td>operator:&nbsp;19<br>operands:&nbsp;20<br></td><td><a class=\"ProveItLink\" href=\"../db41ade0e984b14a2704fa5ef5cfb6d636dd88430/expr.ipynb\"><img src=\"../db41ade0e984b14a2704fa5ef5cfb6d636dd88430/expr.png\" style=\"display:inline;vertical-align:middle;\" /></a></td></tr>\n",
       "<tr><td>17</td><td>Literal</td><td></td><td><a class=\"ProveItLink\" href=\"../../../../negation/__pv_it/common/221b3c4d1770ee9051b7c044c3f9ec61196fc34b0/expr.ipynb\"><img src=\"../../../../negation/__pv_it/common/221b3c4d1770ee9051b7c044c3f9ec61196fc34b0/expr.png\" style=\"display:inline;vertical-align:middle;\" /></a></td></tr>\n",
       "<tr><td>18</td><td>ExprTuple</td><td>25</td><td><a class=\"ProveItLink\" href=\"../a3eb177b041ff24c34663b2470f576ebeb9c87390/expr.ipynb\"><img src=\"../a3eb177b041ff24c34663b2470f576ebeb9c87390/expr.png\" style=\"display:inline;vertical-align:middle;\" /></a></td></tr>\n",
       "<tr><td>19</td><td>Literal</td><td></td><td><a class=\"ProveItLink\" href=\"../../common/4b7effaab3619a1c2c38fe2dee8601df8ec714590/expr.ipynb\"><img src=\"../../common/4b7effaab3619a1c2c38fe2dee8601df8ec714590/expr.png\" style=\"display:inline;vertical-align:middle;\" /></a></td></tr>\n",
       "<tr><td>20</td><td>ExprTuple</td><td>21</td><td><a class=\"ProveItLink\" href=\"../../../../numerals/decimals/__pv_it/theorems/7b420e2a84f53537bd285f3baa95d83c0ea120860/expr.ipynb\"><img src=\"../../../../numerals/decimals/__pv_it/theorems/7b420e2a84f53537bd285f3baa95d83c0ea120860/expr.png\" style=\"display:inline;vertical-align:middle;\" /></a></td></tr>\n",
       "<tr><td>21</td><td>ExprRange</td><td>lambda_map:&nbsp;22<br>start_index:&nbsp;23<br>end_index:&nbsp;24<br></td><td><a class=\"ProveItLink\" href=\"../../../../../core_expr_types/__pv_it/common/7ee2dd28754734e63298daa7955625a3d904698e0/expr.ipynb\"><img src=\"../../../../../core_expr_types/__pv_it/common/7ee2dd28754734e63298daa7955625a3d904698e0/expr.png\" style=\"display:inline;vertical-align:middle;\" /></a></td></tr>\n",
       "<tr><td>22</td><td>Lambda</td><td>parameter:&nbsp;28<br>body:&nbsp;25<br></td><td><a class=\"ProveItLink\" href=\"../../../../../core_expr_types/__pv_it/common/1527ad383e12f9c6ed6b371c9a7dd1892d80da1b0/expr.ipynb\"><img src=\"../../../../../core_expr_types/__pv_it/common/1527ad383e12f9c6ed6b371c9a7dd1892d80da1b0/expr.png\" style=\"display:inline;vertical-align:middle;\" /></a></td></tr>\n",
       "<tr><td>23</td><td>Literal</td><td></td><td><a class=\"ProveItLink\" href=\"../../../../numerals/__pv_it/common/682157d4892d216d9e5626ed533aff9b56b9506e0/expr.ipynb\"><img src=\"../../../../numerals/__pv_it/common/682157d4892d216d9e5626ed533aff9b56b9506e0/expr.png\" style=\"display:inline;vertical-align:middle;\" /></a></td></tr>\n",
       "<tr><td>24</td><td>Variable</td><td></td><td><a class=\"ProveItLink\" href=\"../../../../../__pv_it/common/8968bb04eb3f7dfa02353397ce929b025bbd79c20/expr.ipynb\"><img src=\"../../../../../__pv_it/common/8968bb04eb3f7dfa02353397ce929b025bbd79c20/expr.png\" style=\"display:inline;vertical-align:middle;\" /></a></td></tr>\n",
       "<tr><td>25</td><td>IndexedVar</td><td>variable:&nbsp;26<br>index:&nbsp;28<br></td><td><a class=\"ProveItLink\" href=\"../../../../../core_expr_types/__pv_it/common/3a62c13e156d62d52fe585fa37cc2172fcf685260/expr.ipynb\"><img src=\"../../../../../core_expr_types/__pv_it/common/3a62c13e156d62d52fe585fa37cc2172fcf685260/expr.png\" style=\"display:inline;vertical-align:middle;\" /></a></td></tr>\n",
       "<tr><td>26</td><td>Variable</td><td></td><td><a class=\"ProveItLink\" href=\"../../../../../__pv_it/common/c06c606ec12678c58933ac85412ecadc2ae28be60/expr.ipynb\"><img src=\"../../../../../__pv_it/common/c06c606ec12678c58933ac85412ecadc2ae28be60/expr.png\" style=\"display:inline;vertical-align:middle;\" /></a></td></tr>\n",
       "<tr><td>27</td><td>ExprTuple</td><td>28</td><td><a class=\"ProveItLink\" href=\"../../../../../core_expr_types/__pv_it/common/4b0dd6be36d76552eda6a95d5b4a27f5a5b62f900/expr.ipynb\"><img src=\"../../../../../core_expr_types/__pv_it/common/4b0dd6be36d76552eda6a95d5b4a27f5a5b62f900/expr.png\" style=\"display:inline;vertical-align:middle;\" /></a></td></tr>\n",
       "<tr><td>28</td><td>Variable</td><td></td><td><a class=\"ProveItLink\" href=\"../../../../../core_expr_types/__pv_it/common/006c465e50948aa2b52285e2de47974f741255cc0/expr.ipynb\"><img src=\"../../../../../core_expr_types/__pv_it/common/006c465e50948aa2b52285e2de47974f741255cc0/expr.png\" style=\"display:inline;vertical-align:middle;\" /></a></td></tr>\n",
       "</table>\n"
      ],
      "text/plain": [
       "0. (- a_{1} -  a_{2} -  ... -  a_{m} + b) + (-c - (a_{1} +  a_{2} +  ... +  a_{n}))\n",
       "   core type: Operation\n",
       "   operator: 19\n",
       "   operands: 1\n",
       "1. (- a_{1} -  a_{2} -  ... -  a_{m} + b, -c - (a_{1} +  a_{2} +  ... +  a_{n}))\n",
       "   core type: ExprTuple\n",
       "   sub-expressions: 2, 3\n",
       "2. - a_{1} -  a_{2} -  ... -  a_{m} + b\n",
       "   core type: Operation\n",
       "   operator: 19\n",
       "   operands: 4\n",
       "3. -c - (a_{1} +  a_{2} +  ... +  a_{n})\n",
       "   core type: Operation\n",
       "   operator: 19\n",
       "   operands: 5\n",
       "4. ((-a_{1}), (-a_{2}), ..., (-a_{m}), b)\n",
       "   core type: ExprTuple\n",
       "   sub-expressions: 6, 7\n",
       "5. (-c, -(a_{1} +  a_{2} +  ... +  a_{n}))\n",
       "   core type: ExprTuple\n",
       "   sub-expressions: 8, 9\n",
       "6. (-a_{1}), (-a_{2}), ..., (-a_{m})\n",
       "   core type: ExprRange\n",
       "   lambda_map: 10\n",
       "   start_index: 23\n",
       "   end_index: 11\n",
       "7. b\n",
       "   core type: Variable\n",
       "   sub-expressions: \n",
       "8. -c\n",
       "   core type: Operation\n",
       "   operator: 17\n",
       "   operand: 15\n",
       "9. -(a_{1} +  a_{2} +  ... +  a_{n})\n",
       "   core type: Operation\n",
       "   operator: 17\n",
       "   operand: 16\n",
       "10. _a -> (-a_{_a})\n",
       "    core type: Lambda\n",
       "    parameter: 28\n",
       "    body: 14\n",
       "11. m\n",
       "    core type: Variable\n",
       "    sub-expressions: \n",
       "12. (c)\n",
       "    core type: ExprTuple\n",
       "    sub-expressions: 15\n",
       "13. (a_{1} +  a_{2} +  ... +  a_{n})\n",
       "    core type: ExprTuple\n",
       "    sub-expressions: 16\n",
       "14. -a_{_a}\n",
       "    core type: Operation\n",
       "    operator: 17\n",
       "    operand: 25\n",
       "15. c\n",
       "    core type: Variable\n",
       "    sub-expressions: \n",
       "16. a_{1} +  a_{2} +  ... +  a_{n}\n",
       "    core type: Operation\n",
       "    operator: 19\n",
       "    operands: 20\n",
       "17. -\n",
       "    core type: Literal\n",
       "    sub-expressions: \n",
       "18. (a_{_a})\n",
       "    core type: ExprTuple\n",
       "    sub-expressions: 25\n",
       "19. +\n",
       "    core type: Literal\n",
       "    sub-expressions: \n",
       "20. (a_{1}, a_{2}, ..., a_{n})\n",
       "    core type: ExprTuple\n",
       "    sub-expressions: 21\n",
       "21. a_{1}, a_{2}, ..., a_{n}\n",
       "    core type: ExprRange\n",
       "    lambda_map: 22\n",
       "    start_index: 23\n",
       "    end_index: 24\n",
       "22. _a -> a_{_a}\n",
       "    core type: Lambda\n",
       "    parameter: 28\n",
       "    body: 25\n",
       "23. 1\n",
       "    core type: Literal\n",
       "    sub-expressions: \n",
       "24. n\n",
       "    core type: Variable\n",
       "    sub-expressions: \n",
       "25. a_{_a}\n",
       "    core type: IndexedVar\n",
       "variable: 26\n",
       "index: 28\n",
       "26. a\n",
       "    core type: Variable\n",
       "    sub-expressions: \n",
       "27. (_a)\n",
       "    core type: ExprTuple\n",
       "    sub-expressions: 28\n",
       "28. _a\n",
       "    core type: Variable\n",
       "    sub-expressions: "
      ]
     },
     "metadata": {},
     "output_type": "display_data"
    }
   ],
   "source": [
    "# display the expression information\n",
    "stored_expr.expr_info()"
   ]
  },
  {
   "cell_type": "code",
   "execution_count": null,
   "metadata": {},
   "outputs": [],
   "source": []
  }
 ],
 "metadata": {
  "kernelspec": {
   "display_name": "Python 3",
   "language": "python",
   "name": "python3"
  }
 },
 "nbformat": 4,
 "nbformat_minor": 0
}