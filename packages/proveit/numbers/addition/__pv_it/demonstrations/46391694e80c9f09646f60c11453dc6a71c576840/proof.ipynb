{
 "cells": [
  {
   "cell_type": "markdown",
   "metadata": {},
   "source": [
    "Show the Proof\n",
    "========"
   ]
  },
  {
   "cell_type": "code",
   "execution_count": 1,
   "metadata": {},
   "outputs": [
    {
     "data": {
      "text/html": [
       "<table><tr><th>&nbsp;</th><th>step type</th><th>requirements</th><th>statement</th></tr>\n",
       "<tr><td><a name=\"proveit.numbers.addition.demonstrations.46391694e80c9f09646f60c11453dc6a71c576840_step0\">0</a></td><td>instantiation</td><td><a href=\"#proveit.numbers.addition.demonstrations.46391694e80c9f09646f60c11453dc6a71c576840_step1\">1</a>, <a href=\"#proveit.numbers.addition.demonstrations.46391694e80c9f09646f60c11453dc6a71c576840_step2\">2</a>, <a href=\"#proveit.numbers.addition.demonstrations.46391694e80c9f09646f60c11453dc6a71c576840_step3\">3</a>, <a href=\"#proveit.numbers.addition.demonstrations.46391694e80c9f09646f60c11453dc6a71c576840_step4\">4</a></td><td><span style=\"font-size:20px;\"><a class=\"ProveItLink\" href=\"../../theorems/a259ec76dfb0a5be60b7c83d797520fa82c1dba60/expr.ipynb\"><img src=\"../../theorems/a259ec76dfb0a5be60b7c83d797520fa82c1dba60/expr.png\" style=\"display:inline;vertical-align:middle;\" /></a>, <a class=\"ProveItLink\" href=\"../../../subtraction/__pv_it/theorems/d6724abdc9486f838f4cf63bc1115e85255ce4c00/expr.ipynb\"><img src=\"../../../subtraction/__pv_it/theorems/d6724abdc9486f838f4cf63bc1115e85255ce4c00/expr.png\" style=\"display:inline;vertical-align:middle;\" /></a>, <a class=\"ProveItLink\" href=\"../4a82d58b126555a18b104ddba47c5351567eeaea0/expr.ipynb\"><img src=\"../4a82d58b126555a18b104ddba47c5351567eeaea0/expr.png\" style=\"display:inline;vertical-align:middle;\" /></a> <a class=\"ProveItLink\" href=\"proof.ipynb\" style=\"text-decoration: none\">&nbsp;&#x22A2;&nbsp;&nbsp;</a><a class=\"ProveItLink\" href=\"../ae96584fb7f05a7c64ad5b398ebd5956ea1b111e0/expr.ipynb\"><img src=\"../ae96584fb7f05a7c64ad5b398ebd5956ea1b111e0/expr.png\" style=\"display:inline;vertical-align:middle;\" /></a></span></td></tr>\n",
       "<tr><td>&nbsp;</td><td colspan=4 style=\"text-align:left\"><span style=\"font-size:20px;\"><a class=\"ProveItLink\" href=\"../../../../../__pv_it/common/c06c606ec12678c58933ac85412ecadc2ae28be60/expr.ipynb\"><img src=\"../../../../../__pv_it/common/c06c606ec12678c58933ac85412ecadc2ae28be60/expr.png\" style=\"display:inline;vertical-align:middle;\" /></a> : <a class=\"ProveItLink\" href=\"../../../../../__pv_it/common/195236b98c6c564a75b5dbada74b173bc52d5c3e0/expr.ipynb\"><img src=\"../../../../../__pv_it/common/195236b98c6c564a75b5dbada74b173bc52d5c3e0/expr.png\" style=\"display:inline;vertical-align:middle;\" /></a>, <a class=\"ProveItLink\" href=\"../../../../../__pv_it/common/195236b98c6c564a75b5dbada74b173bc52d5c3e0/expr.ipynb\"><img src=\"../../../../../__pv_it/common/195236b98c6c564a75b5dbada74b173bc52d5c3e0/expr.png\" style=\"display:inline;vertical-align:middle;\" /></a> : <a class=\"ProveItLink\" href=\"../../../../../__pv_it/common/4f5c524ffda87296de1c79b96880123fe2efedd50/expr.ipynb\"><img src=\"../../../../../__pv_it/common/4f5c524ffda87296de1c79b96880123fe2efedd50/expr.png\" style=\"display:inline;vertical-align:middle;\" /></a></span></td></tr><tr><td><a name=\"proveit.numbers.addition.demonstrations.46391694e80c9f09646f60c11453dc6a71c576840_step1\">1</a></td><td>theorem</td><td></td><td><span style=\"font-size:20px;\"> <a class=\"ProveItLink\" href=\"../../../../division/_theory_nbs_/proofs/div_complex_closure/thm_proof.ipynb\" style=\"text-decoration: none\">&nbsp;&#x22A2;&nbsp;&nbsp;</a><a class=\"ProveItLink\" href=\"../../../../division/__pv_it/theorems/0a001803abdc7edf90c0692227a968e53b84b0680/expr.ipynb\"><img src=\"../../../../division/__pv_it/theorems/0a001803abdc7edf90c0692227a968e53b84b0680/expr.png\" style=\"display:inline;vertical-align:middle;\" /></a></span></td></tr>\n",
       "<tr><td>&nbsp;</td><td colspan=4 style-\"text-align:left\"><a class=\"ProveItLink\" href=\"../../../../division/_theory_nbs_/proofs/div_complex_closure/thm_proof.ipynb\">proveit.numbers.division.div_complex_closure</a></td></tr><tr><td><a name=\"proveit.numbers.addition.demonstrations.46391694e80c9f09646f60c11453dc6a71c576840_step2\">2</a></td><td>assumption</td><td></td><td><span style=\"font-size:20px;\"><a class=\"ProveItLink\" href=\"../../theorems/a259ec76dfb0a5be60b7c83d797520fa82c1dba60/expr.ipynb\"><img src=\"../../theorems/a259ec76dfb0a5be60b7c83d797520fa82c1dba60/expr.png\" style=\"display:inline;vertical-align:middle;\" /></a> <a class=\"ProveItLink\" href=\"../064a6e13ba5bd5bb10213960816c2fa3f4f29dc60/proof.ipynb\" style=\"text-decoration: none\">&nbsp;&#x22A2;&nbsp;&nbsp;</a><a class=\"ProveItLink\" href=\"../../theorems/a259ec76dfb0a5be60b7c83d797520fa82c1dba60/expr.ipynb\"><img src=\"../../theorems/a259ec76dfb0a5be60b7c83d797520fa82c1dba60/expr.png\" style=\"display:inline;vertical-align:middle;\" /></a></span></td></tr>\n",
       "<tr><td><a name=\"proveit.numbers.addition.demonstrations.46391694e80c9f09646f60c11453dc6a71c576840_step3\">3</a></td><td>assumption</td><td></td><td><span style=\"font-size:20px;\"><a class=\"ProveItLink\" href=\"../../../subtraction/__pv_it/theorems/d6724abdc9486f838f4cf63bc1115e85255ce4c00/expr.ipynb\"><img src=\"../../../subtraction/__pv_it/theorems/d6724abdc9486f838f4cf63bc1115e85255ce4c00/expr.png\" style=\"display:inline;vertical-align:middle;\" /></a> <a class=\"ProveItLink\" href=\"../00d3d35fbc0db1760143d65cc488c6cefc8f69450/proof.ipynb\" style=\"text-decoration: none\">&nbsp;&#x22A2;&nbsp;&nbsp;</a><a class=\"ProveItLink\" href=\"../../../subtraction/__pv_it/theorems/d6724abdc9486f838f4cf63bc1115e85255ce4c00/expr.ipynb\"><img src=\"../../../subtraction/__pv_it/theorems/d6724abdc9486f838f4cf63bc1115e85255ce4c00/expr.png\" style=\"display:inline;vertical-align:middle;\" /></a></span></td></tr>\n",
       "<tr><td><a name=\"proveit.numbers.addition.demonstrations.46391694e80c9f09646f60c11453dc6a71c576840_step4\">4</a></td><td>assumption</td><td></td><td><span style=\"font-size:20px;\"><a class=\"ProveItLink\" href=\"../4a82d58b126555a18b104ddba47c5351567eeaea0/expr.ipynb\"><img src=\"../4a82d58b126555a18b104ddba47c5351567eeaea0/expr.png\" style=\"display:inline;vertical-align:middle;\" /></a> <a class=\"ProveItLink\" href=\"../d5125adeaab6616f7871b325081040feeb930c400/proof.ipynb\" style=\"text-decoration: none\">&nbsp;&#x22A2;&nbsp;&nbsp;</a><a class=\"ProveItLink\" href=\"../4a82d58b126555a18b104ddba47c5351567eeaea0/expr.ipynb\"><img src=\"../4a82d58b126555a18b104ddba47c5351567eeaea0/expr.png\" style=\"display:inline;vertical-align:middle;\" /></a></span></td></tr>\n",
       "</table>"
      ],
      "text/plain": [
       "<proveit._core_.proof._ShowProof at 0x7f2132e34b70>"
      ]
     },
     "execution_count": 1,
     "metadata": {},
     "output_type": "execute_result"
    }
   ],
   "source": [
    "import proveit\n",
    "# Automation is not needed when only showing a stored proof:\n",
    "proveit.defaults.automation = False # This will speed things up.\n",
    "proveit.defaults.inline_pngs = False # Makes files smaller.\n",
    "%show_proof"
   ]
  },
  {
   "cell_type": "code",
   "execution_count": null,
   "metadata": {},
   "outputs": [],
   "source": []
  }
 ],
 "metadata": {
  "kernelspec": {
   "display_name": "Python 3",
   "language": "python",
   "name": "python3"
  }
 },
 "nbformat": 4,
 "nbformat_minor": 0
}