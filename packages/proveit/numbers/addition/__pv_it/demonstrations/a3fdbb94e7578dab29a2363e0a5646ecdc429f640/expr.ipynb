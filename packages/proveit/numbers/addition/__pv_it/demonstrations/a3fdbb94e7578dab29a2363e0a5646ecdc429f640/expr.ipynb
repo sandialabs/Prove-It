{
 "cells": [
  {
   "cell_type": "markdown",
   "metadata": {},
   "source": [
    "Expression of type <a class=\"ProveItLink\" href=\"../../../../../../../doc/html/api/proveit.ExprTuple.html\">ExprTuple</a>\n",
    "=======================\n",
    "# from the theory of <a class=\"ProveItLink\" href=\"../../../_theory_nbs_/theory.ipynb\">proveit.numbers.addition</a>"
   ]
  },
  {
   "cell_type": "code",
   "execution_count": 1,
   "metadata": {},
   "outputs": [],
   "source": [
    "import proveit\n",
    "# Automation is not needed when building an expression:\n",
    "proveit.defaults.automation = False # This will speed things up.\n",
    "proveit.defaults.inline_pngs = False # Makes files smaller.\n",
    "%load_expr # Load the stored expression as 'stored_expr'\n",
    "# import Expression classes needed to build the expression\n",
    "from proveit import ExprRange, ExprTuple, IndexedVar, Variable, a, b, c, n\n",
    "from proveit.core_expr_types import a_1_to_n\n",
    "from proveit.numbers import Add, Neg, one, subtract, three, two"
   ]
  },
  {
   "cell_type": "code",
   "execution_count": 2,
   "metadata": {},
   "outputs": [
    {
     "data": {
      "text/html": [
       "<strong id=\"expr\">expr:</strong> <a class=\"ProveItLink\" href=\"expr.ipynb\"><img src=\"expr.png\" style=\"display:inline;vertical-align:middle;\" /></a><br>"
      ],
      "text/plain": [
       "<IPython.core.display.HTML object>"
      ]
     },
     "metadata": {},
     "output_type": "display_data"
    }
   ],
   "source": [
    "# build up the expression from sub-expressions\n",
    "sub_expr1 = Variable(\"_a\", latex_format = r\"{_{-}a}\")\n",
    "sub_expr2 = Neg(c)\n",
    "expr = ExprTuple(Add(Add(a_1_to_n, b), subtract(sub_expr2, Add(ExprRange(sub_expr1, IndexedVar(a, sub_expr1), three, subtract(n, two))))), Add(IndexedVar(a, one), IndexedVar(a, two), IndexedVar(a, subtract(n, one)), IndexedVar(a, n), b, sub_expr2))"
   ]
  },
  {
   "cell_type": "code",
   "execution_count": 3,
   "metadata": {},
   "outputs": [
    {
     "name": "stdout",
     "output_type": "stream",
     "text": [
      "Passed sanity check: expr matches stored_expr\n"
     ]
    }
   ],
   "source": [
    "# check that the built expression is the same as the stored expression\n",
    "assert expr == stored_expr\n",
    "assert expr._style_id == stored_expr._style_id\n",
    "print(\"Passed sanity check: expr matches stored_expr\")"
   ]
  },
  {
   "cell_type": "code",
   "execution_count": 4,
   "metadata": {},
   "outputs": [
    {
     "name": "stdout",
     "output_type": "stream",
     "text": [
      "\\left(\\left(a_{1} +  a_{2} +  \\ldots +  a_{n} + b\\right) + \\left(-c - \\left(a_{3} +  a_{4} +  \\ldots +  a_{n - 2}\\right)\\right), a_{1} + a_{2} + a_{n - 1} + a_{n} + b - c\\right)\n"
     ]
    }
   ],
   "source": [
    "# Show the LaTeX representation of the expression for convenience if you need it.\n",
    "print(stored_expr.latex())"
   ]
  },
  {
   "cell_type": "code",
   "execution_count": 5,
   "metadata": {},
   "outputs": [
    {
     "data": {
      "text/html": [
       "<table>\n",
       "<tr><th>name</th><th>description</th><th>default</th><th>current value</th><th>related methods</th></tr><tr><td>wrap_positions</td><td>position(s) at which wrapping is to occur; 'n' is after the nth comma.</td><td>()</td><td>()</td><td>('with_wrapping_at',)</td></tr>\n",
       "<tr><td>justification</td><td>if any wrap positions are set, justify to the 'left', 'center', or 'right'</td><td>left</td><td>left</td><td>('with_justification',)</td></tr>\n",
       "</table>\n"
      ],
      "text/plain": [
       "style name: wrap_positions\n",
       "description: position(s) at which wrapping is to occur; 'n' is after the nth comma.\n",
       "default: ()\n",
       "current value: ()\n",
       "related methods: ('with_wrapping_at',)\n",
       "style name: justification\n",
       "description: if any wrap positions are set, justify to the 'left', 'center', or 'right'\n",
       "default: left\n",
       "current value: left\n",
       "related methods: ('with_justification',)"
      ]
     },
     "metadata": {},
     "output_type": "display_data"
    }
   ],
   "source": [
    "stored_expr.style_options()"
   ]
  },
  {
   "cell_type": "code",
   "execution_count": 6,
   "metadata": {},
   "outputs": [
    {
     "data": {
      "text/html": [
       "<table><tr><th>&nbsp;</th><th>core type</th><th>sub-expressions</th><th>expression</th></tr>\n",
       "<tr><td>0</td><td>ExprTuple</td><td>1, 2</td><td><a class=\"ProveItLink\" href=\"expr.ipynb\"><img src=\"expr.png\" style=\"display:inline;vertical-align:middle;\" /></a></td></tr>\n",
       "<tr><td>1</td><td>Operation</td><td>operator:&nbsp;34<br>operands:&nbsp;3<br></td><td><a class=\"ProveItLink\" href=\"../c6ef5e00e5a891941f309696ce2a812aac82bc9a0/expr.ipynb\"><img src=\"../c6ef5e00e5a891941f309696ce2a812aac82bc9a0/expr.png\" style=\"display:inline;vertical-align:middle;\" /></a></td></tr>\n",
       "<tr><td>2</td><td>Operation</td><td>operator:&nbsp;34<br>operands:&nbsp;4<br></td><td><a class=\"ProveItLink\" href=\"../706e66cd0e0fe4cfbe71ca18ba2b00add625e6d30/expr.ipynb\"><img src=\"../706e66cd0e0fe4cfbe71ca18ba2b00add625e6d30/expr.png\" style=\"display:inline;vertical-align:middle;\" /></a></td></tr>\n",
       "<tr><td>3</td><td>ExprTuple</td><td>5, 6</td><td><a class=\"ProveItLink\" href=\"../d6ab20759c88708d4bba3ecef8cd6afe6b1a48e70/expr.ipynb\"><img src=\"../d6ab20759c88708d4bba3ecef8cd6afe6b1a48e70/expr.png\" style=\"display:inline;vertical-align:middle;\" /></a></td></tr>\n",
       "<tr><td>4</td><td>ExprTuple</td><td>7, 8, 9, 10, 16, 17</td><td><a class=\"ProveItLink\" href=\"../627ab8e7610eb3babab1716869e0a585d57e40520/expr.ipynb\"><img src=\"../627ab8e7610eb3babab1716869e0a585d57e40520/expr.png\" style=\"display:inline;vertical-align:middle;\" /></a></td></tr>\n",
       "<tr><td>5</td><td>Operation</td><td>operator:&nbsp;34<br>operands:&nbsp;11<br></td><td><a class=\"ProveItLink\" href=\"../e3ac7a26d8645d4926bc0045c6dc818ccf829bf60/expr.ipynb\"><img src=\"../e3ac7a26d8645d4926bc0045c6dc818ccf829bf60/expr.png\" style=\"display:inline;vertical-align:middle;\" /></a></td></tr>\n",
       "<tr><td>6</td><td>Operation</td><td>operator:&nbsp;34<br>operands:&nbsp;12<br></td><td><a class=\"ProveItLink\" href=\"../0199a905a05f494379c4fa88f5ce0fd6b908dc420/expr.ipynb\"><img src=\"../0199a905a05f494379c4fa88f5ce0fd6b908dc420/expr.png\" style=\"display:inline;vertical-align:middle;\" /></a></td></tr>\n",
       "<tr><td>7</td><td>IndexedVar</td><td>variable:&nbsp;36<br>index:&nbsp;29<br></td><td><a class=\"ProveItLink\" href=\"../29a7b7594c266b657d8e579ef086a3c5e071438f0/expr.ipynb\"><img src=\"../29a7b7594c266b657d8e579ef086a3c5e071438f0/expr.png\" style=\"display:inline;vertical-align:middle;\" /></a></td></tr>\n",
       "<tr><td>8</td><td>IndexedVar</td><td>variable:&nbsp;36<br>index:&nbsp;43<br></td><td><a class=\"ProveItLink\" href=\"../d17b5ab603975a5e81dbad9e880e81b7429a718d0/expr.ipynb\"><img src=\"../d17b5ab603975a5e81dbad9e880e81b7429a718d0/expr.png\" style=\"display:inline;vertical-align:middle;\" /></a></td></tr>\n",
       "<tr><td>9</td><td>IndexedVar</td><td>variable:&nbsp;36<br>index:&nbsp;19<br></td><td><a class=\"ProveItLink\" href=\"../7914f63ed7c2c821c9ac90fe130651a6ad1fd2f70/expr.ipynb\"><img src=\"../7914f63ed7c2c821c9ac90fe130651a6ad1fd2f70/expr.png\" style=\"display:inline;vertical-align:middle;\" /></a></td></tr>\n",
       "<tr><td>10</td><td>IndexedVar</td><td>variable:&nbsp;36<br>index:&nbsp;38<br></td><td><a class=\"ProveItLink\" href=\"../c7504dd88bf7f7019eff96be045e868c0ad11eaf0/expr.ipynb\"><img src=\"../c7504dd88bf7f7019eff96be045e868c0ad11eaf0/expr.png\" style=\"display:inline;vertical-align:middle;\" /></a></td></tr>\n",
       "<tr><td>11</td><td>ExprTuple</td><td>15, 16</td><td><a class=\"ProveItLink\" href=\"../0b21882792e917a401261fec11852d0c8fbff9c50/expr.ipynb\"><img src=\"../0b21882792e917a401261fec11852d0c8fbff9c50/expr.png\" style=\"display:inline;vertical-align:middle;\" /></a></td></tr>\n",
       "<tr><td>12</td><td>ExprTuple</td><td>17, 18</td><td><a class=\"ProveItLink\" href=\"../3e6a72e1b9a510a51fbe0f0d2764637b6daf7db40/expr.ipynb\"><img src=\"../3e6a72e1b9a510a51fbe0f0d2764637b6daf7db40/expr.png\" style=\"display:inline;vertical-align:middle;\" /></a></td></tr>\n",
       "<tr><td>13</td><td>ExprTuple</td><td>19</td><td><a class=\"ProveItLink\" href=\"../f1af1e9a7b34dc7d40811e61e34bbe300eb8f9bf0/expr.ipynb\"><img src=\"../f1af1e9a7b34dc7d40811e61e34bbe300eb8f9bf0/expr.png\" style=\"display:inline;vertical-align:middle;\" /></a></td></tr>\n",
       "<tr><td>14</td><td>ExprTuple</td><td>38</td><td><a class=\"ProveItLink\" href=\"../../../../__pv_it/common/ca565dff2751ea9a3b48fe855133b9e0c2eca83f0/expr.ipynb\"><img src=\"../../../../__pv_it/common/ca565dff2751ea9a3b48fe855133b9e0c2eca83f0/expr.png\" style=\"display:inline;vertical-align:middle;\" /></a></td></tr>\n",
       "<tr><td>15</td><td>ExprRange</td><td>lambda_map:&nbsp;30<br>start_index:&nbsp;29<br>end_index:&nbsp;38<br></td><td><a class=\"ProveItLink\" href=\"../../../../../core_expr_types/__pv_it/common/7ee2dd28754734e63298daa7955625a3d904698e0/expr.ipynb\"><img src=\"../../../../../core_expr_types/__pv_it/common/7ee2dd28754734e63298daa7955625a3d904698e0/expr.png\" style=\"display:inline;vertical-align:middle;\" /></a></td></tr>\n",
       "<tr><td>16</td><td>Variable</td><td></td><td><a class=\"ProveItLink\" href=\"../../../../../__pv_it/common/195236b98c6c564a75b5dbada74b173bc52d5c3e0/expr.ipynb\"><img src=\"../../../../../__pv_it/common/195236b98c6c564a75b5dbada74b173bc52d5c3e0/expr.png\" style=\"display:inline;vertical-align:middle;\" /></a></td></tr>\n",
       "<tr><td>17</td><td>Operation</td><td>operator:&nbsp;41<br>operand:&nbsp;23<br></td><td><a class=\"ProveItLink\" href=\"../../../subtraction/__pv_it/theorems/cfca012e53a60bdf4c271dc7f264e6cb68dcd3450/expr.ipynb\"><img src=\"../../../subtraction/__pv_it/theorems/cfca012e53a60bdf4c271dc7f264e6cb68dcd3450/expr.png\" style=\"display:inline;vertical-align:middle;\" /></a></td></tr>\n",
       "<tr><td>18</td><td>Operation</td><td>operator:&nbsp;41<br>operand:&nbsp;24<br></td><td><a class=\"ProveItLink\" href=\"../06227d809dc85090569807768fb7ae8961ea7a890/expr.ipynb\"><img src=\"../06227d809dc85090569807768fb7ae8961ea7a890/expr.png\" style=\"display:inline;vertical-align:middle;\" /></a></td></tr>\n",
       "<tr><td>19</td><td>Operation</td><td>operator:&nbsp;34<br>operands:&nbsp;22<br></td><td><a class=\"ProveItLink\" href=\"../f6373c9df5fb30a12cf1503d0db3dfb89f4c1c450/expr.ipynb\"><img src=\"../f6373c9df5fb30a12cf1503d0db3dfb89f4c1c450/expr.png\" style=\"display:inline;vertical-align:middle;\" /></a></td></tr>\n",
       "<tr><td>20</td><td>ExprTuple</td><td>23</td><td><a class=\"ProveItLink\" href=\"../../../subtraction/__pv_it/theorems/25c776cc10fb7df90a1cddbf8213d6561f6b7bd20/expr.ipynb\"><img src=\"../../../subtraction/__pv_it/theorems/25c776cc10fb7df90a1cddbf8213d6561f6b7bd20/expr.png\" style=\"display:inline;vertical-align:middle;\" /></a></td></tr>\n",
       "<tr><td>21</td><td>ExprTuple</td><td>24</td><td><a class=\"ProveItLink\" href=\"../ea43298a7dfa384953e8939517f08c2f870b479d0/expr.ipynb\"><img src=\"../ea43298a7dfa384953e8939517f08c2f870b479d0/expr.png\" style=\"display:inline;vertical-align:middle;\" /></a></td></tr>\n",
       "<tr><td>22</td><td>ExprTuple</td><td>38, 25</td><td><a class=\"ProveItLink\" href=\"../7324c7782694ef27830a6affdc5c354bab287e4f0/expr.ipynb\"><img src=\"../7324c7782694ef27830a6affdc5c354bab287e4f0/expr.png\" style=\"display:inline;vertical-align:middle;\" /></a></td></tr>\n",
       "<tr><td>23</td><td>Variable</td><td></td><td><a class=\"ProveItLink\" href=\"../../../../../__pv_it/common/ceef4280a2f1cc604b455b54e735507244cc62cd0/expr.ipynb\"><img src=\"../../../../../__pv_it/common/ceef4280a2f1cc604b455b54e735507244cc62cd0/expr.png\" style=\"display:inline;vertical-align:middle;\" /></a></td></tr>\n",
       "<tr><td>24</td><td>Operation</td><td>operator:&nbsp;34<br>operands:&nbsp;26<br></td><td><a class=\"ProveItLink\" href=\"../4daca195b133a0e10c27a5ba521bb2c80a7607f50/expr.ipynb\"><img src=\"../4daca195b133a0e10c27a5ba521bb2c80a7607f50/expr.png\" style=\"display:inline;vertical-align:middle;\" /></a></td></tr>\n",
       "<tr><td>25</td><td>Operation</td><td>operator:&nbsp;41<br>operand:&nbsp;29<br></td><td><a class=\"ProveItLink\" href=\"../bf4beda21975fe8a0a5007615b5bcc943da59bb20/expr.ipynb\"><img src=\"../bf4beda21975fe8a0a5007615b5bcc943da59bb20/expr.png\" style=\"display:inline;vertical-align:middle;\" /></a></td></tr>\n",
       "<tr><td>26</td><td>ExprTuple</td><td>28</td><td><a class=\"ProveItLink\" href=\"../a6e616ab01c9622c4d3d392e457412a1196b834c0/expr.ipynb\"><img src=\"../a6e616ab01c9622c4d3d392e457412a1196b834c0/expr.png\" style=\"display:inline;vertical-align:middle;\" /></a></td></tr>\n",
       "<tr><td>27</td><td>ExprTuple</td><td>29</td><td><a class=\"ProveItLink\" href=\"../b9e4f0dffece176bbe2f36127440684a20e0468e0/expr.ipynb\"><img src=\"../b9e4f0dffece176bbe2f36127440684a20e0468e0/expr.png\" style=\"display:inline;vertical-align:middle;\" /></a></td></tr>\n",
       "<tr><td>28</td><td>ExprRange</td><td>lambda_map:&nbsp;30<br>start_index:&nbsp;31<br>end_index:&nbsp;32<br></td><td><a class=\"ProveItLink\" href=\"../c233af5a24a7b9f632d05fa170c49a3f4382ba520/expr.ipynb\"><img src=\"../c233af5a24a7b9f632d05fa170c49a3f4382ba520/expr.png\" style=\"display:inline;vertical-align:middle;\" /></a></td></tr>\n",
       "<tr><td>29</td><td>Literal</td><td></td><td><a class=\"ProveItLink\" href=\"../../../../numerals/__pv_it/common/682157d4892d216d9e5626ed533aff9b56b9506e0/expr.ipynb\"><img src=\"../../../../numerals/__pv_it/common/682157d4892d216d9e5626ed533aff9b56b9506e0/expr.png\" style=\"display:inline;vertical-align:middle;\" /></a></td></tr>\n",
       "<tr><td>30</td><td>Lambda</td><td>parameter:&nbsp;40<br>body:&nbsp;33<br></td><td><a class=\"ProveItLink\" href=\"../../../../../core_expr_types/__pv_it/common/1527ad383e12f9c6ed6b371c9a7dd1892d80da1b0/expr.ipynb\"><img src=\"../../../../../core_expr_types/__pv_it/common/1527ad383e12f9c6ed6b371c9a7dd1892d80da1b0/expr.png\" style=\"display:inline;vertical-align:middle;\" /></a></td></tr>\n",
       "<tr><td>31</td><td>Literal</td><td></td><td><a class=\"ProveItLink\" href=\"../../../../numerals/__pv_it/common/1943b60945420e340d305780feff5c1aff2740ff0/expr.ipynb\"><img src=\"../../../../numerals/__pv_it/common/1943b60945420e340d305780feff5c1aff2740ff0/expr.png\" style=\"display:inline;vertical-align:middle;\" /></a></td></tr>\n",
       "<tr><td>32</td><td>Operation</td><td>operator:&nbsp;34<br>operands:&nbsp;35<br></td><td><a class=\"ProveItLink\" href=\"../ba6d6630b7ac3ffcee1c898a291d992167148ca50/expr.ipynb\"><img src=\"../ba6d6630b7ac3ffcee1c898a291d992167148ca50/expr.png\" style=\"display:inline;vertical-align:middle;\" /></a></td></tr>\n",
       "<tr><td>33</td><td>IndexedVar</td><td>variable:&nbsp;36<br>index:&nbsp;40<br></td><td><a class=\"ProveItLink\" href=\"../../../../../core_expr_types/__pv_it/common/3a62c13e156d62d52fe585fa37cc2172fcf685260/expr.ipynb\"><img src=\"../../../../../core_expr_types/__pv_it/common/3a62c13e156d62d52fe585fa37cc2172fcf685260/expr.png\" style=\"display:inline;vertical-align:middle;\" /></a></td></tr>\n",
       "<tr><td>34</td><td>Literal</td><td></td><td><a class=\"ProveItLink\" href=\"../../common/4b7effaab3619a1c2c38fe2dee8601df8ec714590/expr.ipynb\"><img src=\"../../common/4b7effaab3619a1c2c38fe2dee8601df8ec714590/expr.png\" style=\"display:inline;vertical-align:middle;\" /></a></td></tr>\n",
       "<tr><td>35</td><td>ExprTuple</td><td>38, 39</td><td><a class=\"ProveItLink\" href=\"../872e83a5f39cd50ddfef33074256c98229923e0e0/expr.ipynb\"><img src=\"../872e83a5f39cd50ddfef33074256c98229923e0e0/expr.png\" style=\"display:inline;vertical-align:middle;\" /></a></td></tr>\n",
       "<tr><td>36</td><td>Variable</td><td></td><td><a class=\"ProveItLink\" href=\"../../../../../__pv_it/common/c06c606ec12678c58933ac85412ecadc2ae28be60/expr.ipynb\"><img src=\"../../../../../__pv_it/common/c06c606ec12678c58933ac85412ecadc2ae28be60/expr.png\" style=\"display:inline;vertical-align:middle;\" /></a></td></tr>\n",
       "<tr><td>37</td><td>ExprTuple</td><td>40</td><td><a class=\"ProveItLink\" href=\"../../../../../core_expr_types/__pv_it/common/4b0dd6be36d76552eda6a95d5b4a27f5a5b62f900/expr.ipynb\"><img src=\"../../../../../core_expr_types/__pv_it/common/4b0dd6be36d76552eda6a95d5b4a27f5a5b62f900/expr.png\" style=\"display:inline;vertical-align:middle;\" /></a></td></tr>\n",
       "<tr><td>38</td><td>Variable</td><td></td><td><a class=\"ProveItLink\" href=\"../../../../../__pv_it/common/8968bb04eb3f7dfa02353397ce929b025bbd79c20/expr.ipynb\"><img src=\"../../../../../__pv_it/common/8968bb04eb3f7dfa02353397ce929b025bbd79c20/expr.png\" style=\"display:inline;vertical-align:middle;\" /></a></td></tr>\n",
       "<tr><td>39</td><td>Operation</td><td>operator:&nbsp;41<br>operand:&nbsp;43<br></td><td><a class=\"ProveItLink\" href=\"../16bf7762f473cc2cfad370a096ed5f2eb39b6b2c0/expr.ipynb\"><img src=\"../16bf7762f473cc2cfad370a096ed5f2eb39b6b2c0/expr.png\" style=\"display:inline;vertical-align:middle;\" /></a></td></tr>\n",
       "<tr><td>40</td><td>Variable</td><td></td><td><a class=\"ProveItLink\" href=\"../../../../../core_expr_types/__pv_it/common/006c465e50948aa2b52285e2de47974f741255cc0/expr.ipynb\"><img src=\"../../../../../core_expr_types/__pv_it/common/006c465e50948aa2b52285e2de47974f741255cc0/expr.png\" style=\"display:inline;vertical-align:middle;\" /></a></td></tr>\n",
       "<tr><td>41</td><td>Literal</td><td></td><td><a class=\"ProveItLink\" href=\"../../../../negation/__pv_it/common/221b3c4d1770ee9051b7c044c3f9ec61196fc34b0/expr.ipynb\"><img src=\"../../../../negation/__pv_it/common/221b3c4d1770ee9051b7c044c3f9ec61196fc34b0/expr.png\" style=\"display:inline;vertical-align:middle;\" /></a></td></tr>\n",
       "<tr><td>42</td><td>ExprTuple</td><td>43</td><td><a class=\"ProveItLink\" href=\"../56953b0728fa2850398ae7a13d530612ae194a390/expr.ipynb\"><img src=\"../56953b0728fa2850398ae7a13d530612ae194a390/expr.png\" style=\"display:inline;vertical-align:middle;\" /></a></td></tr>\n",
       "<tr><td>43</td><td>Literal</td><td></td><td><a class=\"ProveItLink\" href=\"../../../../numerals/__pv_it/common/af4aab8a07465db063742696e006d04670f30cf10/expr.ipynb\"><img src=\"../../../../numerals/__pv_it/common/af4aab8a07465db063742696e006d04670f30cf10/expr.png\" style=\"display:inline;vertical-align:middle;\" /></a></td></tr>\n",
       "</table>\n"
      ],
      "text/plain": [
       "0. ((a_{1} +  a_{2} +  ... +  a_{n} + b) + (-c - (a_{3} +  a_{4} +  ... +  a_{n - 2})), a_{1} + a_{2} + a_{n - 1} + a_{n} + b - c)\n",
       "   core type: ExprTuple\n",
       "   sub-expressions: 1, 2\n",
       "1. (a_{1} +  a_{2} +  ... +  a_{n} + b) + (-c - (a_{3} +  a_{4} +  ... +  a_{n - 2}))\n",
       "   core type: Operation\n",
       "   operator: 34\n",
       "   operands: 3\n",
       "2. a_{1} + a_{2} + a_{n - 1} + a_{n} + b - c\n",
       "   core type: Operation\n",
       "   operator: 34\n",
       "   operands: 4\n",
       "3. (a_{1} +  a_{2} +  ... +  a_{n} + b, -c - (a_{3} +  a_{4} +  ... +  a_{n - 2}))\n",
       "   core type: ExprTuple\n",
       "   sub-expressions: 5, 6\n",
       "4. (a_{1}, a_{2}, a_{n - 1}, a_{n}, b, -c)\n",
       "   core type: ExprTuple\n",
       "   sub-expressions: 7, 8, 9, 10, 16, 17\n",
       "5. a_{1} +  a_{2} +  ... +  a_{n} + b\n",
       "   core type: Operation\n",
       "   operator: 34\n",
       "   operands: 11\n",
       "6. -c - (a_{3} +  a_{4} +  ... +  a_{n - 2})\n",
       "   core type: Operation\n",
       "   operator: 34\n",
       "   operands: 12\n",
       "7. a_{1}\n",
       "   core type: IndexedVar\n",
       "variable: 36\n",
       "index: 29\n",
       "8. a_{2}\n",
       "   core type: IndexedVar\n",
       "variable: 36\n",
       "index: 43\n",
       "9. a_{n - 1}\n",
       "   core type: IndexedVar\n",
       "variable: 36\n",
       "index: 19\n",
       "10. a_{n}\n",
       "    core type: IndexedVar\n",
       "variable: 36\n",
       "index: 38\n",
       "11. (a_{1}, a_{2}, ..., a_{n}, b)\n",
       "    core type: ExprTuple\n",
       "    sub-expressions: 15, 16\n",
       "12. (-c, -(a_{3} +  a_{4} +  ... +  a_{n - 2}))\n",
       "    core type: ExprTuple\n",
       "    sub-expressions: 17, 18\n",
       "13. (n - 1)\n",
       "    core type: ExprTuple\n",
       "    sub-expressions: 19\n",
       "14. (n)\n",
       "    core type: ExprTuple\n",
       "    sub-expressions: 38\n",
       "15. a_{1}, a_{2}, ..., a_{n}\n",
       "    core type: ExprRange\n",
       "    lambda_map: 30\n",
       "    start_index: 29\n",
       "    end_index: 38\n",
       "16. b\n",
       "    core type: Variable\n",
       "    sub-expressions: \n",
       "17. -c\n",
       "    core type: Operation\n",
       "    operator: 41\n",
       "    operand: 23\n",
       "18. -(a_{3} +  a_{4} +  ... +  a_{n - 2})\n",
       "    core type: Operation\n",
       "    operator: 41\n",
       "    operand: 24\n",
       "19. n - 1\n",
       "    core type: Operation\n",
       "    operator: 34\n",
       "    operands: 22\n",
       "20. (c)\n",
       "    core type: ExprTuple\n",
       "    sub-expressions: 23\n",
       "21. (a_{3} +  a_{4} +  ... +  a_{n - 2})\n",
       "    core type: ExprTuple\n",
       "    sub-expressions: 24\n",
       "22. (n, -1)\n",
       "    core type: ExprTuple\n",
       "    sub-expressions: 38, 25\n",
       "23. c\n",
       "    core type: Variable\n",
       "    sub-expressions: \n",
       "24. a_{3} +  a_{4} +  ... +  a_{n - 2}\n",
       "    core type: Operation\n",
       "    operator: 34\n",
       "    operands: 26\n",
       "25. -1\n",
       "    core type: Operation\n",
       "    operator: 41\n",
       "    operand: 29\n",
       "26. (a_{3}, a_{4}, ..., a_{n - 2})\n",
       "    core type: ExprTuple\n",
       "    sub-expressions: 28\n",
       "27. (1)\n",
       "    core type: ExprTuple\n",
       "    sub-expressions: 29\n",
       "28. a_{3}, a_{4}, ..., a_{n - 2}\n",
       "    core type: ExprRange\n",
       "    lambda_map: 30\n",
       "    start_index: 31\n",
       "    end_index: 32\n",
       "29. 1\n",
       "    core type: Literal\n",
       "    sub-expressions: \n",
       "30. _a -> a_{_a}\n",
       "    core type: Lambda\n",
       "    parameter: 40\n",
       "    body: 33\n",
       "31. 3\n",
       "    core type: Literal\n",
       "    sub-expressions: \n",
       "32. n - 2\n",
       "    core type: Operation\n",
       "    operator: 34\n",
       "    operands: 35\n",
       "33. a_{_a}\n",
       "    core type: IndexedVar\n",
       "variable: 36\n",
       "index: 40\n",
       "34. +\n",
       "    core type: Literal\n",
       "    sub-expressions: \n",
       "35. (n, -2)\n",
       "    core type: ExprTuple\n",
       "    sub-expressions: 38, 39\n",
       "36. a\n",
       "    core type: Variable\n",
       "    sub-expressions: \n",
       "37. (_a)\n",
       "    core type: ExprTuple\n",
       "    sub-expressions: 40\n",
       "38. n\n",
       "    core type: Variable\n",
       "    sub-expressions: \n",
       "39. -2\n",
       "    core type: Operation\n",
       "    operator: 41\n",
       "    operand: 43\n",
       "40. _a\n",
       "    core type: Variable\n",
       "    sub-expressions: \n",
       "41. -\n",
       "    core type: Literal\n",
       "    sub-expressions: \n",
       "42. (2)\n",
       "    core type: ExprTuple\n",
       "    sub-expressions: 43\n",
       "43. 2\n",
       "    core type: Literal\n",
       "    sub-expressions: "
      ]
     },
     "metadata": {},
     "output_type": "display_data"
    }
   ],
   "source": [
    "# display the expression information\n",
    "stored_expr.expr_info()"
   ]
  },
  {
   "cell_type": "code",
   "execution_count": null,
   "metadata": {},
   "outputs": [],
   "source": []
  }
 ],
 "metadata": {
  "kernelspec": {
   "display_name": "Python 3",
   "language": "python",
   "name": "python3"
  }
 },
 "nbformat": 4,
 "nbformat_minor": 0
}