{
 "cells": [
  {
   "cell_type": "markdown",
   "metadata": {},
   "source": [
    "Show the Proof\n",
    "========"
   ]
  },
  {
   "cell_type": "code",
   "execution_count": 1,
   "metadata": {},
   "outputs": [
    {
     "data": {
      "text/html": [
       "<table><tr><th>&nbsp;</th><th>step type</th><th>requirements</th><th>statement</th></tr>\n",
       "<tr><td><a name=\"proveit.numbers.addition.demonstrations.8c80cb3c4f8923a1bf9dbf49baf4fde40e8a79500_step0\">0</a></td><td>instantiation</td><td><a href=\"#proveit.numbers.addition.demonstrations.8c80cb3c4f8923a1bf9dbf49baf4fde40e8a79500_step1\">1</a>, <a href=\"#proveit.numbers.addition.demonstrations.8c80cb3c4f8923a1bf9dbf49baf4fde40e8a79500_step2\">2</a>, <a href=\"#proveit.numbers.addition.demonstrations.8c80cb3c4f8923a1bf9dbf49baf4fde40e8a79500_step3\">3</a></td><td><span style=\"font-size:20px;\"> <a class=\"ProveItLink\" href=\"proof.ipynb\" style=\"text-decoration: none\">&nbsp;&#x22A2;&nbsp;&nbsp;</a><a class=\"ProveItLink\" href=\"../ed9f488216a10885edf39a3e56778a787976d2280/expr.ipynb\"><img src=\"../ed9f488216a10885edf39a3e56778a787976d2280/expr.png\" style=\"display:inline;vertical-align:middle;\" /></a></span></td></tr>\n",
       "<tr><td>&nbsp;</td><td colspan=4 style=\"text-align:left\"><span style=\"font-size:20px;\"><a class=\"ProveItLink\" href=\"../../../../../__pv_it/common/a0d9d672aa5e272d907247690c152cc2c6daafb70/expr.ipynb\"><img src=\"../../../../../__pv_it/common/a0d9d672aa5e272d907247690c152cc2c6daafb70/expr.png\" style=\"display:inline;vertical-align:middle;\" /></a> : <a class=\"ProveItLink\" href=\"../8096910d60c64f5a6e2c29cd86b749f26c0ce8540/expr.ipynb\"><img src=\"../8096910d60c64f5a6e2c29cd86b749f26c0ce8540/expr.png\" style=\"display:inline;vertical-align:middle;\" /></a>, <a class=\"ProveItLink\" href=\"../../../../../__pv_it/common/ff7dba4ef0bbe791ab573bf2d9c220a304399ac80/expr.ipynb\"><img src=\"../../../../../__pv_it/common/ff7dba4ef0bbe791ab573bf2d9c220a304399ac80/expr.png\" style=\"display:inline;vertical-align:middle;\" /></a> : <a class=\"ProveItLink\" href=\"../../../../numerals/decimals/__pv_it/theorems/4d1bffb9d692c4443a5dff415f4e355c164db7870/expr.ipynb\"><img src=\"../../../../numerals/decimals/__pv_it/theorems/4d1bffb9d692c4443a5dff415f4e355c164db7870/expr.png\" style=\"display:inline;vertical-align:middle;\" /></a>, <a class=\"ProveItLink\" href=\"../../../../../__pv_it/common/95a8f6b9b9f29b83f192ad7fd05708d6be097a3f0/expr.ipynb\"><img src=\"../../../../../__pv_it/common/95a8f6b9b9f29b83f192ad7fd05708d6be097a3f0/expr.png\" style=\"display:inline;vertical-align:middle;\" /></a> : <a class=\"ProveItLink\" href=\"../../../../numerals/__pv_it/common/16e9923976ab933f6783588485130530d25dafab0/expr.ipynb\"><img src=\"../../../../numerals/__pv_it/common/16e9923976ab933f6783588485130530d25dafab0/expr.png\" style=\"display:inline;vertical-align:middle;\" /></a></span></td></tr><tr><td><a name=\"proveit.numbers.addition.demonstrations.8c80cb3c4f8923a1bf9dbf49baf4fde40e8a79500_step1\">1</a></td><td>axiom</td><td></td><td><span style=\"font-size:20px;\"> <a class=\"ProveItLink\" href=\"../../../../../logic/equality/_theory_nbs_/axioms.ipynb#equals_transitivity\" style=\"text-decoration: none\">&nbsp;&#x22A2;&nbsp;&nbsp;</a><a class=\"ProveItLink\" href=\"../../../../../logic/equality/__pv_it/axioms/b5b3cf1e74e7e4fc2d5f197f08b661e6992950090/expr.ipynb\"><img src=\"../../../../../logic/equality/__pv_it/axioms/b5b3cf1e74e7e4fc2d5f197f08b661e6992950090/expr.png\" style=\"display:inline;vertical-align:middle;\" /></a></span></td></tr>\n",
       "<tr><td>&nbsp;</td><td colspan=4 style-\"text-align:left\"><a class=\"ProveItLink\" href=\"../../../../../logic/equality/_theory_nbs_/axioms.ipynb#equals_transitivity\">proveit.logic.equality.equals_transitivity</a></td></tr><tr><td><a name=\"proveit.numbers.addition.demonstrations.8c80cb3c4f8923a1bf9dbf49baf4fde40e8a79500_step2\">2</a></td><td>instantiation</td><td><a href=\"#proveit.numbers.addition.demonstrations.8c80cb3c4f8923a1bf9dbf49baf4fde40e8a79500_step4\">4</a>, <a href=\"#proveit.numbers.addition.demonstrations.8c80cb3c4f8923a1bf9dbf49baf4fde40e8a79500_step5\">5</a></td><td><span style=\"font-size:20px;\"> <a class=\"ProveItLink\" href=\"../dcd3be1d0a7e82a56d5d8fb8fe761c7c44c5db940/proof.ipynb\" style=\"text-decoration: none\">&nbsp;&#x22A2;&nbsp;&nbsp;</a><a class=\"ProveItLink\" href=\"../ffed92bb977ef163095bc99df2db51f9f32326170/expr.ipynb\"><img src=\"../ffed92bb977ef163095bc99df2db51f9f32326170/expr.png\" style=\"display:inline;vertical-align:middle;\" /></a></span></td></tr>\n",
       "<tr><td>&nbsp;</td><td colspan=4 style=\"text-align:left\"><span style=\"font-size:20px;\"><a class=\"ProveItLink\" href=\"../../../../../core_expr_types/__pv_it/common/1fec0eaf1cfb24a7fd0f169d6d2b28f8410bcd7c0/expr.ipynb\"><img src=\"../../../../../core_expr_types/__pv_it/common/1fec0eaf1cfb24a7fd0f169d6d2b28f8410bcd7c0/expr.png\" style=\"display:inline;vertical-align:middle;\" /></a> : <a class=\"ProveItLink\" href=\"../4f7f68e48851877ce18442ac0a4fa743fbd71e060/expr.ipynb\"><img src=\"../4f7f68e48851877ce18442ac0a4fa743fbd71e060/expr.png\" style=\"display:inline;vertical-align:middle;\" /></a>, <a class=\"ProveItLink\" href=\"../../../../../__pv_it/common/a0d9d672aa5e272d907247690c152cc2c6daafb70/expr.ipynb\"><img src=\"../../../../../__pv_it/common/a0d9d672aa5e272d907247690c152cc2c6daafb70/expr.png\" style=\"display:inline;vertical-align:middle;\" /></a> : <a class=\"ProveItLink\" href=\"../../../../numerals/decimals/__pv_it/theorems/e2f494275305e3661e79d1f0372c8f3883d80c070/expr.ipynb\"><img src=\"../../../../numerals/decimals/__pv_it/theorems/e2f494275305e3661e79d1f0372c8f3883d80c070/expr.png\" style=\"display:inline;vertical-align:middle;\" /></a>, <a class=\"ProveItLink\" href=\"../../../../../__pv_it/common/ff7dba4ef0bbe791ab573bf2d9c220a304399ac80/expr.ipynb\"><img src=\"../../../../../__pv_it/common/ff7dba4ef0bbe791ab573bf2d9c220a304399ac80/expr.png\" style=\"display:inline;vertical-align:middle;\" /></a> : <a class=\"ProveItLink\" href=\"../../../../numerals/__pv_it/common/48a1d915c1e9490b9a94e5c77a208938d3ee20ce0/expr.ipynb\"><img src=\"../../../../numerals/__pv_it/common/48a1d915c1e9490b9a94e5c77a208938d3ee20ce0/expr.png\" style=\"display:inline;vertical-align:middle;\" /></a></span></td></tr><tr><td><a name=\"proveit.numbers.addition.demonstrations.8c80cb3c4f8923a1bf9dbf49baf4fde40e8a79500_step3\">3</a></td><td>theorem</td><td></td><td><span style=\"font-size:20px;\"> <a class=\"ProveItLink\" href=\"../../../../numerals/decimals/_theory_nbs_/proofs/add_4_1/thm_proof.ipynb\" style=\"text-decoration: none\">&nbsp;&#x22A2;&nbsp;&nbsp;</a><a class=\"ProveItLink\" href=\"../../../../numerals/decimals/__pv_it/theorems/b38ae7aa6f3dc7804565a90403b0552355c1167e0/expr.ipynb\"><img src=\"../../../../numerals/decimals/__pv_it/theorems/b38ae7aa6f3dc7804565a90403b0552355c1167e0/expr.png\" style=\"display:inline;vertical-align:middle;\" /></a></span></td></tr>\n",
       "<tr><td>&nbsp;</td><td colspan=4 style-\"text-align:left\"><a class=\"ProveItLink\" href=\"../../../../numerals/decimals/_theory_nbs_/proofs/add_4_1/thm_proof.ipynb\">proveit.numbers.numerals.decimals.add_4_1</a></td></tr><tr><td><a name=\"proveit.numbers.addition.demonstrations.8c80cb3c4f8923a1bf9dbf49baf4fde40e8a79500_step4\">4</a></td><td>axiom</td><td></td><td><span style=\"font-size:20px;\"> <a class=\"ProveItLink\" href=\"../../../../../logic/equality/_theory_nbs_/axioms.ipynb#substitution\" style=\"text-decoration: none\">&nbsp;&#x22A2;&nbsp;&nbsp;</a><a class=\"ProveItLink\" href=\"../../../../../logic/equality/__pv_it/axioms/b3647e5bced6c805148d96be1aa0946871a946d20/expr.ipynb\"><img src=\"../../../../../logic/equality/__pv_it/axioms/b3647e5bced6c805148d96be1aa0946871a946d20/expr.png\" style=\"display:inline;vertical-align:middle;\" /></a></span></td></tr>\n",
       "<tr><td>&nbsp;</td><td colspan=4 style-\"text-align:left\"><a class=\"ProveItLink\" href=\"../../../../../logic/equality/_theory_nbs_/axioms.ipynb#substitution\">proveit.logic.equality.substitution</a></td></tr><tr><td><a name=\"proveit.numbers.addition.demonstrations.8c80cb3c4f8923a1bf9dbf49baf4fde40e8a79500_step5\">5</a></td><td>theorem</td><td></td><td><span style=\"font-size:20px;\"> <a class=\"ProveItLink\" href=\"../../../../numerals/decimals/_theory_nbs_/proofs/add_3_1/thm_proof.ipynb\" style=\"text-decoration: none\">&nbsp;&#x22A2;&nbsp;&nbsp;</a><a class=\"ProveItLink\" href=\"../../../../numerals/decimals/__pv_it/theorems/e527e70e7c6b3b4f50652871d571f5b978836f3d0/expr.ipynb\"><img src=\"../../../../numerals/decimals/__pv_it/theorems/e527e70e7c6b3b4f50652871d571f5b978836f3d0/expr.png\" style=\"display:inline;vertical-align:middle;\" /></a></span></td></tr>\n",
       "<tr><td>&nbsp;</td><td colspan=4 style-\"text-align:left\"><a class=\"ProveItLink\" href=\"../../../../numerals/decimals/_theory_nbs_/proofs/add_3_1/thm_proof.ipynb\">proveit.numbers.numerals.decimals.add_3_1</a></td></tr></table>"
      ],
      "text/plain": [
       "<proveit._core_.proof._ShowProof at 0x7f9317dd1cc0>"
      ]
     },
     "execution_count": 1,
     "metadata": {},
     "output_type": "execute_result"
    }
   ],
   "source": [
    "import proveit\n",
    "# Automation is not needed when only showing a stored proof:\n",
    "proveit.defaults.automation = False # This will speed things up.\n",
    "proveit.defaults.inline_pngs = False # Makes files smaller.\n",
    "%show_proof"
   ]
  },
  {
   "cell_type": "code",
   "execution_count": null,
   "metadata": {},
   "outputs": [],
   "source": []
  }
 ],
 "metadata": {
  "kernelspec": {
   "display_name": "Python 3",
   "language": "python",
   "name": "python3"
  }
 },
 "nbformat": 4,
 "nbformat_minor": 0
}