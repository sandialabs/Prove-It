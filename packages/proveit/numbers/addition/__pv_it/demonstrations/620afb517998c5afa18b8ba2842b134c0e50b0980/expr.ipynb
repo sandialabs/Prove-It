{
 "cells": [
  {
   "cell_type": "markdown",
   "metadata": {},
   "source": [
    "Expression of type <a class=\"ProveItLink\" href=\"../../../../../../../doc/html/api/proveit.ExprTuple.html\">ExprTuple</a>\n",
    "=======================\n",
    "# from the theory of <a class=\"ProveItLink\" href=\"../../../_theory_nbs_/theory.ipynb\">proveit.numbers.addition</a>"
   ]
  },
  {
   "cell_type": "code",
   "execution_count": 1,
   "metadata": {},
   "outputs": [],
   "source": [
    "import proveit\n",
    "# Automation is not needed when building an expression:\n",
    "proveit.defaults.automation = False # This will speed things up.\n",
    "proveit.defaults.inline_pngs = False # Makes files smaller.\n",
    "%load_expr # Load the stored expression as 'stored_expr'\n",
    "# import Expression classes needed to build the expression\n",
    "from proveit import ExprRange, ExprTuple, IndexedVar, Variable, a, b, c, n\n",
    "from proveit.numbers import Add, Neg, one, subtract, three, two"
   ]
  },
  {
   "cell_type": "code",
   "execution_count": 2,
   "metadata": {},
   "outputs": [
    {
     "data": {
      "text/html": [
       "<strong id=\"expr\">expr:</strong> <a class=\"ProveItLink\" href=\"expr.ipynb\"><img src=\"expr.png\" style=\"display:inline;vertical-align:middle;\" /></a><br>"
      ],
      "text/plain": [
       "<IPython.core.display.HTML object>"
      ]
     },
     "metadata": {},
     "output_type": "display_data"
    }
   ],
   "source": [
    "# build up the expression from sub-expressions\n",
    "sub_expr1 = Variable(\"_a\", latex_format = r\"{_{-}a}\")\n",
    "sub_expr2 = IndexedVar(a, sub_expr1)\n",
    "sub_expr3 = Neg(c)\n",
    "expr = ExprTuple(Add(Add(ExprRange(sub_expr1, sub_expr2, three, n), b), subtract(sub_expr3, Add(ExprRange(sub_expr1, sub_expr2, one, subtract(n, two))))), Add(IndexedVar(a, subtract(n, one)), IndexedVar(a, n), b, sub_expr3, Neg(IndexedVar(a, one)), Neg(IndexedVar(a, two))))"
   ]
  },
  {
   "cell_type": "code",
   "execution_count": 3,
   "metadata": {},
   "outputs": [
    {
     "name": "stdout",
     "output_type": "stream",
     "text": [
      "Passed sanity check: expr matches stored_expr\n"
     ]
    }
   ],
   "source": [
    "# check that the built expression is the same as the stored expression\n",
    "assert expr == stored_expr\n",
    "assert expr._style_id == stored_expr._style_id\n",
    "print(\"Passed sanity check: expr matches stored_expr\")"
   ]
  },
  {
   "cell_type": "code",
   "execution_count": 4,
   "metadata": {},
   "outputs": [
    {
     "name": "stdout",
     "output_type": "stream",
     "text": [
      "\\left(\\left(a_{3} +  a_{4} +  \\ldots +  a_{n} + b\\right) + \\left(-c - \\left(a_{1} +  a_{2} +  \\ldots +  a_{n - 2}\\right)\\right), a_{n - 1} + a_{n} + b - c - a_{1} - a_{2}\\right)\n"
     ]
    }
   ],
   "source": [
    "# Show the LaTeX representation of the expression for convenience if you need it.\n",
    "print(stored_expr.latex())"
   ]
  },
  {
   "cell_type": "code",
   "execution_count": 5,
   "metadata": {},
   "outputs": [
    {
     "data": {
      "text/html": [
       "<table>\n",
       "<tr><th>name</th><th>description</th><th>default</th><th>current value</th><th>related methods</th></tr><tr><td>wrap_positions</td><td>position(s) at which wrapping is to occur; 'n' is after the nth comma.</td><td>()</td><td>()</td><td>('with_wrapping_at',)</td></tr>\n",
       "<tr><td>justification</td><td>if any wrap positions are set, justify to the 'left', 'center', or 'right'</td><td>left</td><td>left</td><td>('with_justification',)</td></tr>\n",
       "</table>\n"
      ],
      "text/plain": [
       "style name: wrap_positions\n",
       "description: position(s) at which wrapping is to occur; 'n' is after the nth comma.\n",
       "default: ()\n",
       "current value: ()\n",
       "related methods: ('with_wrapping_at',)\n",
       "style name: justification\n",
       "description: if any wrap positions are set, justify to the 'left', 'center', or 'right'\n",
       "default: left\n",
       "current value: left\n",
       "related methods: ('with_justification',)"
      ]
     },
     "metadata": {},
     "output_type": "display_data"
    }
   ],
   "source": [
    "stored_expr.style_options()"
   ]
  },
  {
   "cell_type": "code",
   "execution_count": 6,
   "metadata": {},
   "outputs": [
    {
     "data": {
      "text/html": [
       "<table><tr><th>&nbsp;</th><th>core type</th><th>sub-expressions</th><th>expression</th></tr>\n",
       "<tr><td>0</td><td>ExprTuple</td><td>1, 2</td><td><a class=\"ProveItLink\" href=\"expr.ipynb\"><img src=\"expr.png\" style=\"display:inline;vertical-align:middle;\" /></a></td></tr>\n",
       "<tr><td>1</td><td>Operation</td><td>operator:&nbsp;38<br>operands:&nbsp;3<br></td><td><a class=\"ProveItLink\" href=\"../a4d51eb84004215e84f72ed02d89f8eef2beec560/expr.ipynb\"><img src=\"../a4d51eb84004215e84f72ed02d89f8eef2beec560/expr.png\" style=\"display:inline;vertical-align:middle;\" /></a></td></tr>\n",
       "<tr><td>2</td><td>Operation</td><td>operator:&nbsp;38<br>operands:&nbsp;4<br></td><td><a class=\"ProveItLink\" href=\"../eebf653aee27b92bc20f547dff79b583748741ce0/expr.ipynb\"><img src=\"../eebf653aee27b92bc20f547dff79b583748741ce0/expr.png\" style=\"display:inline;vertical-align:middle;\" /></a></td></tr>\n",
       "<tr><td>3</td><td>ExprTuple</td><td>5, 6</td><td><a class=\"ProveItLink\" href=\"../b56845f1d26cf3cecf598bbdb6bd5ef2b303a3c10/expr.ipynb\"><img src=\"../b56845f1d26cf3cecf598bbdb6bd5ef2b303a3c10/expr.png\" style=\"display:inline;vertical-align:middle;\" /></a></td></tr>\n",
       "<tr><td>4</td><td>ExprTuple</td><td>7, 8, 18, 19, 9, 10</td><td><a class=\"ProveItLink\" href=\"../66ae7eb7b219c43d6220139eb0e0b41330b785ae0/expr.ipynb\"><img src=\"../66ae7eb7b219c43d6220139eb0e0b41330b785ae0/expr.png\" style=\"display:inline;vertical-align:middle;\" /></a></td></tr>\n",
       "<tr><td>5</td><td>Operation</td><td>operator:&nbsp;38<br>operands:&nbsp;11<br></td><td><a class=\"ProveItLink\" href=\"../ed82812af8b93b15e3266aebc462deff6373accc0/expr.ipynb\"><img src=\"../ed82812af8b93b15e3266aebc462deff6373accc0/expr.png\" style=\"display:inline;vertical-align:middle;\" /></a></td></tr>\n",
       "<tr><td>6</td><td>Operation</td><td>operator:&nbsp;38<br>operands:&nbsp;12<br></td><td><a class=\"ProveItLink\" href=\"../adbe9d4aef12a92a1536efff672aaf87608d92810/expr.ipynb\"><img src=\"../adbe9d4aef12a92a1536efff672aaf87608d92810/expr.png\" style=\"display:inline;vertical-align:middle;\" /></a></td></tr>\n",
       "<tr><td>7</td><td>IndexedVar</td><td>variable:&nbsp;40<br>index:&nbsp;21<br></td><td><a class=\"ProveItLink\" href=\"../7914f63ed7c2c821c9ac90fe130651a6ad1fd2f70/expr.ipynb\"><img src=\"../7914f63ed7c2c821c9ac90fe130651a6ad1fd2f70/expr.png\" style=\"display:inline;vertical-align:middle;\" /></a></td></tr>\n",
       "<tr><td>8</td><td>IndexedVar</td><td>variable:&nbsp;40<br>index:&nbsp;42<br></td><td><a class=\"ProveItLink\" href=\"../c7504dd88bf7f7019eff96be045e868c0ad11eaf0/expr.ipynb\"><img src=\"../c7504dd88bf7f7019eff96be045e868c0ad11eaf0/expr.png\" style=\"display:inline;vertical-align:middle;\" /></a></td></tr>\n",
       "<tr><td>9</td><td>Operation</td><td>operator:&nbsp;45<br>operand:&nbsp;22<br></td><td><a class=\"ProveItLink\" href=\"../4b9f8b2eda7b65f63870d3b59e62099d05ab7ae80/expr.ipynb\"><img src=\"../4b9f8b2eda7b65f63870d3b59e62099d05ab7ae80/expr.png\" style=\"display:inline;vertical-align:middle;\" /></a></td></tr>\n",
       "<tr><td>10</td><td>Operation</td><td>operator:&nbsp;45<br>operand:&nbsp;23<br></td><td><a class=\"ProveItLink\" href=\"../325e6f864b99014154d9645746908558c138295c0/expr.ipynb\"><img src=\"../325e6f864b99014154d9645746908558c138295c0/expr.png\" style=\"display:inline;vertical-align:middle;\" /></a></td></tr>\n",
       "<tr><td>11</td><td>ExprTuple</td><td>17, 18</td><td><a class=\"ProveItLink\" href=\"../89503b60df418bd837e72556fa510ca33c965acd0/expr.ipynb\"><img src=\"../89503b60df418bd837e72556fa510ca33c965acd0/expr.png\" style=\"display:inline;vertical-align:middle;\" /></a></td></tr>\n",
       "<tr><td>12</td><td>ExprTuple</td><td>19, 20</td><td><a class=\"ProveItLink\" href=\"../862a811debfbe42ff9c5ce6c4fa1f0718122c4c40/expr.ipynb\"><img src=\"../862a811debfbe42ff9c5ce6c4fa1f0718122c4c40/expr.png\" style=\"display:inline;vertical-align:middle;\" /></a></td></tr>\n",
       "<tr><td>13</td><td>ExprTuple</td><td>21</td><td><a class=\"ProveItLink\" href=\"../f1af1e9a7b34dc7d40811e61e34bbe300eb8f9bf0/expr.ipynb\"><img src=\"../f1af1e9a7b34dc7d40811e61e34bbe300eb8f9bf0/expr.png\" style=\"display:inline;vertical-align:middle;\" /></a></td></tr>\n",
       "<tr><td>14</td><td>ExprTuple</td><td>42</td><td><a class=\"ProveItLink\" href=\"../../../../__pv_it/common/ca565dff2751ea9a3b48fe855133b9e0c2eca83f0/expr.ipynb\"><img src=\"../../../../__pv_it/common/ca565dff2751ea9a3b48fe855133b9e0c2eca83f0/expr.png\" style=\"display:inline;vertical-align:middle;\" /></a></td></tr>\n",
       "<tr><td>15</td><td>ExprTuple</td><td>22</td><td><a class=\"ProveItLink\" href=\"../13a6725b5bbe9335a5435dc862233e76e661cfd60/expr.ipynb\"><img src=\"../13a6725b5bbe9335a5435dc862233e76e661cfd60/expr.png\" style=\"display:inline;vertical-align:middle;\" /></a></td></tr>\n",
       "<tr><td>16</td><td>ExprTuple</td><td>23</td><td><a class=\"ProveItLink\" href=\"../13540e03af00ba7277391d246dcab0cb93db58750/expr.ipynb\"><img src=\"../13540e03af00ba7277391d246dcab0cb93db58750/expr.png\" style=\"display:inline;vertical-align:middle;\" /></a></td></tr>\n",
       "<tr><td>17</td><td>ExprRange</td><td>lambda_map:&nbsp;34<br>start_index:&nbsp;24<br>end_index:&nbsp;42<br></td><td><a class=\"ProveItLink\" href=\"../8208d15875493afa7da42412f20c3d3f251adbd30/expr.ipynb\"><img src=\"../8208d15875493afa7da42412f20c3d3f251adbd30/expr.png\" style=\"display:inline;vertical-align:middle;\" /></a></td></tr>\n",
       "<tr><td>18</td><td>Variable</td><td></td><td><a class=\"ProveItLink\" href=\"../../../../../__pv_it/common/195236b98c6c564a75b5dbada74b173bc52d5c3e0/expr.ipynb\"><img src=\"../../../../../__pv_it/common/195236b98c6c564a75b5dbada74b173bc52d5c3e0/expr.png\" style=\"display:inline;vertical-align:middle;\" /></a></td></tr>\n",
       "<tr><td>19</td><td>Operation</td><td>operator:&nbsp;45<br>operand:&nbsp;28<br></td><td><a class=\"ProveItLink\" href=\"../../../subtraction/__pv_it/theorems/cfca012e53a60bdf4c271dc7f264e6cb68dcd3450/expr.ipynb\"><img src=\"../../../subtraction/__pv_it/theorems/cfca012e53a60bdf4c271dc7f264e6cb68dcd3450/expr.png\" style=\"display:inline;vertical-align:middle;\" /></a></td></tr>\n",
       "<tr><td>20</td><td>Operation</td><td>operator:&nbsp;45<br>operand:&nbsp;29<br></td><td><a class=\"ProveItLink\" href=\"../7048956e00cd6c356e29bea1f0c076c3c16895e70/expr.ipynb\"><img src=\"../7048956e00cd6c356e29bea1f0c076c3c16895e70/expr.png\" style=\"display:inline;vertical-align:middle;\" /></a></td></tr>\n",
       "<tr><td>21</td><td>Operation</td><td>operator:&nbsp;38<br>operands:&nbsp;27<br></td><td><a class=\"ProveItLink\" href=\"../f6373c9df5fb30a12cf1503d0db3dfb89f4c1c450/expr.ipynb\"><img src=\"../f6373c9df5fb30a12cf1503d0db3dfb89f4c1c450/expr.png\" style=\"display:inline;vertical-align:middle;\" /></a></td></tr>\n",
       "<tr><td>22</td><td>IndexedVar</td><td>variable:&nbsp;40<br>index:&nbsp;35<br></td><td><a class=\"ProveItLink\" href=\"../29a7b7594c266b657d8e579ef086a3c5e071438f0/expr.ipynb\"><img src=\"../29a7b7594c266b657d8e579ef086a3c5e071438f0/expr.png\" style=\"display:inline;vertical-align:middle;\" /></a></td></tr>\n",
       "<tr><td>23</td><td>IndexedVar</td><td>variable:&nbsp;40<br>index:&nbsp;47<br></td><td><a class=\"ProveItLink\" href=\"../d17b5ab603975a5e81dbad9e880e81b7429a718d0/expr.ipynb\"><img src=\"../d17b5ab603975a5e81dbad9e880e81b7429a718d0/expr.png\" style=\"display:inline;vertical-align:middle;\" /></a></td></tr>\n",
       "<tr><td>24</td><td>Literal</td><td></td><td><a class=\"ProveItLink\" href=\"../../../../numerals/__pv_it/common/1943b60945420e340d305780feff5c1aff2740ff0/expr.ipynb\"><img src=\"../../../../numerals/__pv_it/common/1943b60945420e340d305780feff5c1aff2740ff0/expr.png\" style=\"display:inline;vertical-align:middle;\" /></a></td></tr>\n",
       "<tr><td>25</td><td>ExprTuple</td><td>28</td><td><a class=\"ProveItLink\" href=\"../../../subtraction/__pv_it/theorems/25c776cc10fb7df90a1cddbf8213d6561f6b7bd20/expr.ipynb\"><img src=\"../../../subtraction/__pv_it/theorems/25c776cc10fb7df90a1cddbf8213d6561f6b7bd20/expr.png\" style=\"display:inline;vertical-align:middle;\" /></a></td></tr>\n",
       "<tr><td>26</td><td>ExprTuple</td><td>29</td><td><a class=\"ProveItLink\" href=\"../5c2957ec14d0c3bbd6dca9bac33df7215d4f32450/expr.ipynb\"><img src=\"../5c2957ec14d0c3bbd6dca9bac33df7215d4f32450/expr.png\" style=\"display:inline;vertical-align:middle;\" /></a></td></tr>\n",
       "<tr><td>27</td><td>ExprTuple</td><td>42, 30</td><td><a class=\"ProveItLink\" href=\"../7324c7782694ef27830a6affdc5c354bab287e4f0/expr.ipynb\"><img src=\"../7324c7782694ef27830a6affdc5c354bab287e4f0/expr.png\" style=\"display:inline;vertical-align:middle;\" /></a></td></tr>\n",
       "<tr><td>28</td><td>Variable</td><td></td><td><a class=\"ProveItLink\" href=\"../../../../../__pv_it/common/ceef4280a2f1cc604b455b54e735507244cc62cd0/expr.ipynb\"><img src=\"../../../../../__pv_it/common/ceef4280a2f1cc604b455b54e735507244cc62cd0/expr.png\" style=\"display:inline;vertical-align:middle;\" /></a></td></tr>\n",
       "<tr><td>29</td><td>Operation</td><td>operator:&nbsp;38<br>operands:&nbsp;31<br></td><td><a class=\"ProveItLink\" href=\"../2e10c55c44d7e8750e6bd188fb47b2d3b87c421d0/expr.ipynb\"><img src=\"../2e10c55c44d7e8750e6bd188fb47b2d3b87c421d0/expr.png\" style=\"display:inline;vertical-align:middle;\" /></a></td></tr>\n",
       "<tr><td>30</td><td>Operation</td><td>operator:&nbsp;45<br>operand:&nbsp;35<br></td><td><a class=\"ProveItLink\" href=\"../bf4beda21975fe8a0a5007615b5bcc943da59bb20/expr.ipynb\"><img src=\"../bf4beda21975fe8a0a5007615b5bcc943da59bb20/expr.png\" style=\"display:inline;vertical-align:middle;\" /></a></td></tr>\n",
       "<tr><td>31</td><td>ExprTuple</td><td>33</td><td><a class=\"ProveItLink\" href=\"../d5a3a5ba9714a1a720bceed14f011ba0ee0394870/expr.ipynb\"><img src=\"../d5a3a5ba9714a1a720bceed14f011ba0ee0394870/expr.png\" style=\"display:inline;vertical-align:middle;\" /></a></td></tr>\n",
       "<tr><td>32</td><td>ExprTuple</td><td>35</td><td><a class=\"ProveItLink\" href=\"../b9e4f0dffece176bbe2f36127440684a20e0468e0/expr.ipynb\"><img src=\"../b9e4f0dffece176bbe2f36127440684a20e0468e0/expr.png\" style=\"display:inline;vertical-align:middle;\" /></a></td></tr>\n",
       "<tr><td>33</td><td>ExprRange</td><td>lambda_map:&nbsp;34<br>start_index:&nbsp;35<br>end_index:&nbsp;36<br></td><td><a class=\"ProveItLink\" href=\"../d011ab2fe1cfe6902a505cf0d951b7db60f5fb720/expr.ipynb\"><img src=\"../d011ab2fe1cfe6902a505cf0d951b7db60f5fb720/expr.png\" style=\"display:inline;vertical-align:middle;\" /></a></td></tr>\n",
       "<tr><td>34</td><td>Lambda</td><td>parameter:&nbsp;44<br>body:&nbsp;37<br></td><td><a class=\"ProveItLink\" href=\"../../../../../core_expr_types/__pv_it/common/1527ad383e12f9c6ed6b371c9a7dd1892d80da1b0/expr.ipynb\"><img src=\"../../../../../core_expr_types/__pv_it/common/1527ad383e12f9c6ed6b371c9a7dd1892d80da1b0/expr.png\" style=\"display:inline;vertical-align:middle;\" /></a></td></tr>\n",
       "<tr><td>35</td><td>Literal</td><td></td><td><a class=\"ProveItLink\" href=\"../../../../numerals/__pv_it/common/682157d4892d216d9e5626ed533aff9b56b9506e0/expr.ipynb\"><img src=\"../../../../numerals/__pv_it/common/682157d4892d216d9e5626ed533aff9b56b9506e0/expr.png\" style=\"display:inline;vertical-align:middle;\" /></a></td></tr>\n",
       "<tr><td>36</td><td>Operation</td><td>operator:&nbsp;38<br>operands:&nbsp;39<br></td><td><a class=\"ProveItLink\" href=\"../ba6d6630b7ac3ffcee1c898a291d992167148ca50/expr.ipynb\"><img src=\"../ba6d6630b7ac3ffcee1c898a291d992167148ca50/expr.png\" style=\"display:inline;vertical-align:middle;\" /></a></td></tr>\n",
       "<tr><td>37</td><td>IndexedVar</td><td>variable:&nbsp;40<br>index:&nbsp;44<br></td><td><a class=\"ProveItLink\" href=\"../../../../../core_expr_types/__pv_it/common/3a62c13e156d62d52fe585fa37cc2172fcf685260/expr.ipynb\"><img src=\"../../../../../core_expr_types/__pv_it/common/3a62c13e156d62d52fe585fa37cc2172fcf685260/expr.png\" style=\"display:inline;vertical-align:middle;\" /></a></td></tr>\n",
       "<tr><td>38</td><td>Literal</td><td></td><td><a class=\"ProveItLink\" href=\"../../common/4b7effaab3619a1c2c38fe2dee8601df8ec714590/expr.ipynb\"><img src=\"../../common/4b7effaab3619a1c2c38fe2dee8601df8ec714590/expr.png\" style=\"display:inline;vertical-align:middle;\" /></a></td></tr>\n",
       "<tr><td>39</td><td>ExprTuple</td><td>42, 43</td><td><a class=\"ProveItLink\" href=\"../872e83a5f39cd50ddfef33074256c98229923e0e0/expr.ipynb\"><img src=\"../872e83a5f39cd50ddfef33074256c98229923e0e0/expr.png\" style=\"display:inline;vertical-align:middle;\" /></a></td></tr>\n",
       "<tr><td>40</td><td>Variable</td><td></td><td><a class=\"ProveItLink\" href=\"../../../../../__pv_it/common/c06c606ec12678c58933ac85412ecadc2ae28be60/expr.ipynb\"><img src=\"../../../../../__pv_it/common/c06c606ec12678c58933ac85412ecadc2ae28be60/expr.png\" style=\"display:inline;vertical-align:middle;\" /></a></td></tr>\n",
       "<tr><td>41</td><td>ExprTuple</td><td>44</td><td><a class=\"ProveItLink\" href=\"../../../../../core_expr_types/__pv_it/common/4b0dd6be36d76552eda6a95d5b4a27f5a5b62f900/expr.ipynb\"><img src=\"../../../../../core_expr_types/__pv_it/common/4b0dd6be36d76552eda6a95d5b4a27f5a5b62f900/expr.png\" style=\"display:inline;vertical-align:middle;\" /></a></td></tr>\n",
       "<tr><td>42</td><td>Variable</td><td></td><td><a class=\"ProveItLink\" href=\"../../../../../__pv_it/common/8968bb04eb3f7dfa02353397ce929b025bbd79c20/expr.ipynb\"><img src=\"../../../../../__pv_it/common/8968bb04eb3f7dfa02353397ce929b025bbd79c20/expr.png\" style=\"display:inline;vertical-align:middle;\" /></a></td></tr>\n",
       "<tr><td>43</td><td>Operation</td><td>operator:&nbsp;45<br>operand:&nbsp;47<br></td><td><a class=\"ProveItLink\" href=\"../16bf7762f473cc2cfad370a096ed5f2eb39b6b2c0/expr.ipynb\"><img src=\"../16bf7762f473cc2cfad370a096ed5f2eb39b6b2c0/expr.png\" style=\"display:inline;vertical-align:middle;\" /></a></td></tr>\n",
       "<tr><td>44</td><td>Variable</td><td></td><td><a class=\"ProveItLink\" href=\"../../../../../core_expr_types/__pv_it/common/006c465e50948aa2b52285e2de47974f741255cc0/expr.ipynb\"><img src=\"../../../../../core_expr_types/__pv_it/common/006c465e50948aa2b52285e2de47974f741255cc0/expr.png\" style=\"display:inline;vertical-align:middle;\" /></a></td></tr>\n",
       "<tr><td>45</td><td>Literal</td><td></td><td><a class=\"ProveItLink\" href=\"../../../../negation/__pv_it/common/221b3c4d1770ee9051b7c044c3f9ec61196fc34b0/expr.ipynb\"><img src=\"../../../../negation/__pv_it/common/221b3c4d1770ee9051b7c044c3f9ec61196fc34b0/expr.png\" style=\"display:inline;vertical-align:middle;\" /></a></td></tr>\n",
       "<tr><td>46</td><td>ExprTuple</td><td>47</td><td><a class=\"ProveItLink\" href=\"../56953b0728fa2850398ae7a13d530612ae194a390/expr.ipynb\"><img src=\"../56953b0728fa2850398ae7a13d530612ae194a390/expr.png\" style=\"display:inline;vertical-align:middle;\" /></a></td></tr>\n",
       "<tr><td>47</td><td>Literal</td><td></td><td><a class=\"ProveItLink\" href=\"../../../../numerals/__pv_it/common/af4aab8a07465db063742696e006d04670f30cf10/expr.ipynb\"><img src=\"../../../../numerals/__pv_it/common/af4aab8a07465db063742696e006d04670f30cf10/expr.png\" style=\"display:inline;vertical-align:middle;\" /></a></td></tr>\n",
       "</table>\n"
      ],
      "text/plain": [
       "0. ((a_{3} +  a_{4} +  ... +  a_{n} + b) + (-c - (a_{1} +  a_{2} +  ... +  a_{n - 2})), a_{n - 1} + a_{n} + b - c - a_{1} - a_{2})\n",
       "   core type: ExprTuple\n",
       "   sub-expressions: 1, 2\n",
       "1. (a_{3} +  a_{4} +  ... +  a_{n} + b) + (-c - (a_{1} +  a_{2} +  ... +  a_{n - 2}))\n",
       "   core type: Operation\n",
       "   operator: 38\n",
       "   operands: 3\n",
       "2. a_{n - 1} + a_{n} + b - c - a_{1} - a_{2}\n",
       "   core type: Operation\n",
       "   operator: 38\n",
       "   operands: 4\n",
       "3. (a_{3} +  a_{4} +  ... +  a_{n} + b, -c - (a_{1} +  a_{2} +  ... +  a_{n - 2}))\n",
       "   core type: ExprTuple\n",
       "   sub-expressions: 5, 6\n",
       "4. (a_{n - 1}, a_{n}, b, -c, -a_{1}, -a_{2})\n",
       "   core type: ExprTuple\n",
       "   sub-expressions: 7, 8, 18, 19, 9, 10\n",
       "5. a_{3} +  a_{4} +  ... +  a_{n} + b\n",
       "   core type: Operation\n",
       "   operator: 38\n",
       "   operands: 11\n",
       "6. -c - (a_{1} +  a_{2} +  ... +  a_{n - 2})\n",
       "   core type: Operation\n",
       "   operator: 38\n",
       "   operands: 12\n",
       "7. a_{n - 1}\n",
       "   core type: IndexedVar\n",
       "variable: 40\n",
       "index: 21\n",
       "8. a_{n}\n",
       "   core type: IndexedVar\n",
       "variable: 40\n",
       "index: 42\n",
       "9. -a_{1}\n",
       "   core type: Operation\n",
       "   operator: 45\n",
       "   operand: 22\n",
       "10. -a_{2}\n",
       "    core type: Operation\n",
       "    operator: 45\n",
       "    operand: 23\n",
       "11. (a_{3}, a_{4}, ..., a_{n}, b)\n",
       "    core type: ExprTuple\n",
       "    sub-expressions: 17, 18\n",
       "12. (-c, -(a_{1} +  a_{2} +  ... +  a_{n - 2}))\n",
       "    core type: ExprTuple\n",
       "    sub-expressions: 19, 20\n",
       "13. (n - 1)\n",
       "    core type: ExprTuple\n",
       "    sub-expressions: 21\n",
       "14. (n)\n",
       "    core type: ExprTuple\n",
       "    sub-expressions: 42\n",
       "15. (a_{1})\n",
       "    core type: ExprTuple\n",
       "    sub-expressions: 22\n",
       "16. (a_{2})\n",
       "    core type: ExprTuple\n",
       "    sub-expressions: 23\n",
       "17. a_{3}, a_{4}, ..., a_{n}\n",
       "    core type: ExprRange\n",
       "    lambda_map: 34\n",
       "    start_index: 24\n",
       "    end_index: 42\n",
       "18. b\n",
       "    core type: Variable\n",
       "    sub-expressions: \n",
       "19. -c\n",
       "    core type: Operation\n",
       "    operator: 45\n",
       "    operand: 28\n",
       "20. -(a_{1} +  a_{2} +  ... +  a_{n - 2})\n",
       "    core type: Operation\n",
       "    operator: 45\n",
       "    operand: 29\n",
       "21. n - 1\n",
       "    core type: Operation\n",
       "    operator: 38\n",
       "    operands: 27\n",
       "22. a_{1}\n",
       "    core type: IndexedVar\n",
       "variable: 40\n",
       "index: 35\n",
       "23. a_{2}\n",
       "    core type: IndexedVar\n",
       "variable: 40\n",
       "index: 47\n",
       "24. 3\n",
       "    core type: Literal\n",
       "    sub-expressions: \n",
       "25. (c)\n",
       "    core type: ExprTuple\n",
       "    sub-expressions: 28\n",
       "26. (a_{1} +  a_{2} +  ... +  a_{n - 2})\n",
       "    core type: ExprTuple\n",
       "    sub-expressions: 29\n",
       "27. (n, -1)\n",
       "    core type: ExprTuple\n",
       "    sub-expressions: 42, 30\n",
       "28. c\n",
       "    core type: Variable\n",
       "    sub-expressions: \n",
       "29. a_{1} +  a_{2} +  ... +  a_{n - 2}\n",
       "    core type: Operation\n",
       "    operator: 38\n",
       "    operands: 31\n",
       "30. -1\n",
       "    core type: Operation\n",
       "    operator: 45\n",
       "    operand: 35\n",
       "31. (a_{1}, a_{2}, ..., a_{n - 2})\n",
       "    core type: ExprTuple\n",
       "    sub-expressions: 33\n",
       "32. (1)\n",
       "    core type: ExprTuple\n",
       "    sub-expressions: 35\n",
       "33. a_{1}, a_{2}, ..., a_{n - 2}\n",
       "    core type: ExprRange\n",
       "    lambda_map: 34\n",
       "    start_index: 35\n",
       "    end_index: 36\n",
       "34. _a -> a_{_a}\n",
       "    core type: Lambda\n",
       "    parameter: 44\n",
       "    body: 37\n",
       "35. 1\n",
       "    core type: Literal\n",
       "    sub-expressions: \n",
       "36. n - 2\n",
       "    core type: Operation\n",
       "    operator: 38\n",
       "    operands: 39\n",
       "37. a_{_a}\n",
       "    core type: IndexedVar\n",
       "variable: 40\n",
       "index: 44\n",
       "38. +\n",
       "    core type: Literal\n",
       "    sub-expressions: \n",
       "39. (n, -2)\n",
       "    core type: ExprTuple\n",
       "    sub-expressions: 42, 43\n",
       "40. a\n",
       "    core type: Variable\n",
       "    sub-expressions: \n",
       "41. (_a)\n",
       "    core type: ExprTuple\n",
       "    sub-expressions: 44\n",
       "42. n\n",
       "    core type: Variable\n",
       "    sub-expressions: \n",
       "43. -2\n",
       "    core type: Operation\n",
       "    operator: 45\n",
       "    operand: 47\n",
       "44. _a\n",
       "    core type: Variable\n",
       "    sub-expressions: \n",
       "45. -\n",
       "    core type: Literal\n",
       "    sub-expressions: \n",
       "46. (2)\n",
       "    core type: ExprTuple\n",
       "    sub-expressions: 47\n",
       "47. 2\n",
       "    core type: Literal\n",
       "    sub-expressions: "
      ]
     },
     "metadata": {},
     "output_type": "display_data"
    }
   ],
   "source": [
    "# display the expression information\n",
    "stored_expr.expr_info()"
   ]
  },
  {
   "cell_type": "code",
   "execution_count": null,
   "metadata": {},
   "outputs": [],
   "source": []
  }
 ],
 "metadata": {
  "kernelspec": {
   "display_name": "Python 3",
   "language": "python",
   "name": "python3"
  }
 },
 "nbformat": 4,
 "nbformat_minor": 0
}