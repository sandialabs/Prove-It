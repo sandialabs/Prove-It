{
 "cells": [
  {
   "cell_type": "markdown",
   "metadata": {},
   "source": [
    "Expression of type <a class=\"ProveItLink\" href=\"../../../../../../../doc/html/api/proveit.numbers.Add.html\">Add</a>\n",
    "=======================\n",
    "# from the theory of <a class=\"ProveItLink\" href=\"../../../_theory_nbs_/theory.ipynb\">proveit.numbers.addition</a>"
   ]
  },
  {
   "cell_type": "code",
   "execution_count": 1,
   "metadata": {},
   "outputs": [],
   "source": [
    "import proveit\n",
    "# Automation is not needed when building an expression:\n",
    "proveit.defaults.automation = False # This will speed things up.\n",
    "proveit.defaults.inline_pngs = False # Makes files smaller.\n",
    "%load_expr # Load the stored expression as 'stored_expr'\n",
    "# import Expression classes needed to build the expression\n",
    "from proveit import IndexedVar, a, b, c, n\n",
    "from proveit.numbers import Add, Neg, one, subtract, two"
   ]
  },
  {
   "cell_type": "code",
   "execution_count": 2,
   "metadata": {},
   "outputs": [
    {
     "data": {
      "text/html": [
       "<strong id=\"expr\">expr:</strong> <a class=\"ProveItLink\" href=\"expr.ipynb\"><img src=\"expr.png\" style=\"display:inline;vertical-align:middle;\" /></a><br>"
      ],
      "text/plain": [
       "<IPython.core.display.HTML object>"
      ]
     },
     "metadata": {},
     "output_type": "display_data"
    }
   ],
   "source": [
    "# build up the expression from sub-expressions\n",
    "expr = Add(IndexedVar(a, subtract(n, one)), IndexedVar(a, n), b, Neg(c), Neg(IndexedVar(a, one)), Neg(IndexedVar(a, two)))"
   ]
  },
  {
   "cell_type": "code",
   "execution_count": 3,
   "metadata": {},
   "outputs": [
    {
     "name": "stdout",
     "output_type": "stream",
     "text": [
      "Passed sanity check: expr matches stored_expr\n"
     ]
    }
   ],
   "source": [
    "# check that the built expression is the same as the stored expression\n",
    "assert expr == stored_expr\n",
    "assert expr._style_id == stored_expr._style_id\n",
    "print(\"Passed sanity check: expr matches stored_expr\")"
   ]
  },
  {
   "cell_type": "code",
   "execution_count": 4,
   "metadata": {},
   "outputs": [
    {
     "name": "stdout",
     "output_type": "stream",
     "text": [
      "a_{n - 1} + a_{n} + b - c - a_{1} - a_{2}\n"
     ]
    }
   ],
   "source": [
    "# Show the LaTeX representation of the expression for convenience if you need it.\n",
    "print(stored_expr.latex())"
   ]
  },
  {
   "cell_type": "code",
   "execution_count": 5,
   "metadata": {},
   "outputs": [
    {
     "data": {
      "text/html": [
       "<table>\n",
       "<tr><th>name</th><th>description</th><th>default</th><th>current value</th><th>related methods</th></tr><tr><td>operation</td><td>'infix' or 'function' style formatting</td><td>infix</td><td>infix</td><td></td></tr>\n",
       "<tr><td>wrap_positions</td><td>position(s) at which wrapping is to occur; '2 n - 1' is after the nth operand, '2 n' is after the nth operation.</td><td>()</td><td>()</td><td>('with_wrapping_at', 'with_wrap_before_operator', 'with_wrap_after_operator', 'without_wrapping', 'wrap_positions')</td></tr>\n",
       "<tr><td>justification</td><td>if any wrap positions are set, justify to the 'left', 'center', or 'right'</td><td>center</td><td>center</td><td>('with_justification',)</td></tr>\n",
       "</table>\n"
      ],
      "text/plain": [
       "style name: operation\n",
       "description: 'infix' or 'function' style formatting\n",
       "default: infix\n",
       "current value: infix\n",
       "related methods: ()\n",
       "style name: wrap_positions\n",
       "description: position(s) at which wrapping is to occur; '2 n - 1' is after the nth operand, '2 n' is after the nth operation.\n",
       "default: ()\n",
       "current value: ()\n",
       "related methods: ('with_wrapping_at', 'with_wrap_before_operator', 'with_wrap_after_operator', 'without_wrapping', 'wrap_positions')\n",
       "style name: justification\n",
       "description: if any wrap positions are set, justify to the 'left', 'center', or 'right'\n",
       "default: center\n",
       "current value: center\n",
       "related methods: ('with_justification',)"
      ]
     },
     "metadata": {},
     "output_type": "display_data"
    }
   ],
   "source": [
    "stored_expr.style_options()"
   ]
  },
  {
   "cell_type": "code",
   "execution_count": 6,
   "metadata": {},
   "outputs": [
    {
     "data": {
      "text/html": [
       "<table><tr><th>&nbsp;</th><th>core type</th><th>sub-expressions</th><th>expression</th></tr>\n",
       "<tr><td>0</td><td>Operation</td><td>operator:&nbsp;17<br>operands:&nbsp;1<br></td><td><a class=\"ProveItLink\" href=\"expr.ipynb\"><img src=\"expr.png\" style=\"display:inline;vertical-align:middle;\" /></a></td></tr>\n",
       "<tr><td>1</td><td>ExprTuple</td><td>2, 3, 4, 5, 6, 7</td><td><a class=\"ProveItLink\" href=\"../66ae7eb7b219c43d6220139eb0e0b41330b785ae0/expr.ipynb\"><img src=\"../66ae7eb7b219c43d6220139eb0e0b41330b785ae0/expr.png\" style=\"display:inline;vertical-align:middle;\" /></a></td></tr>\n",
       "<tr><td>2</td><td>IndexedVar</td><td>variable:&nbsp;19<br>index:&nbsp;13<br></td><td><a class=\"ProveItLink\" href=\"../7914f63ed7c2c821c9ac90fe130651a6ad1fd2f70/expr.ipynb\"><img src=\"../7914f63ed7c2c821c9ac90fe130651a6ad1fd2f70/expr.png\" style=\"display:inline;vertical-align:middle;\" /></a></td></tr>\n",
       "<tr><td>3</td><td>IndexedVar</td><td>variable:&nbsp;19<br>index:&nbsp;21<br></td><td><a class=\"ProveItLink\" href=\"../c7504dd88bf7f7019eff96be045e868c0ad11eaf0/expr.ipynb\"><img src=\"../c7504dd88bf7f7019eff96be045e868c0ad11eaf0/expr.png\" style=\"display:inline;vertical-align:middle;\" /></a></td></tr>\n",
       "<tr><td>4</td><td>Variable</td><td></td><td><a class=\"ProveItLink\" href=\"../../../../../__pv_it/common/195236b98c6c564a75b5dbada74b173bc52d5c3e0/expr.ipynb\"><img src=\"../../../../../__pv_it/common/195236b98c6c564a75b5dbada74b173bc52d5c3e0/expr.png\" style=\"display:inline;vertical-align:middle;\" /></a></td></tr>\n",
       "<tr><td>5</td><td>Operation</td><td>operator:&nbsp;24<br>operand:&nbsp;14<br></td><td><a class=\"ProveItLink\" href=\"../../../subtraction/__pv_it/theorems/cfca012e53a60bdf4c271dc7f264e6cb68dcd3450/expr.ipynb\"><img src=\"../../../subtraction/__pv_it/theorems/cfca012e53a60bdf4c271dc7f264e6cb68dcd3450/expr.png\" style=\"display:inline;vertical-align:middle;\" /></a></td></tr>\n",
       "<tr><td>6</td><td>Operation</td><td>operator:&nbsp;24<br>operand:&nbsp;15<br></td><td><a class=\"ProveItLink\" href=\"../4b9f8b2eda7b65f63870d3b59e62099d05ab7ae80/expr.ipynb\"><img src=\"../4b9f8b2eda7b65f63870d3b59e62099d05ab7ae80/expr.png\" style=\"display:inline;vertical-align:middle;\" /></a></td></tr>\n",
       "<tr><td>7</td><td>Operation</td><td>operator:&nbsp;24<br>operand:&nbsp;16<br></td><td><a class=\"ProveItLink\" href=\"../325e6f864b99014154d9645746908558c138295c0/expr.ipynb\"><img src=\"../325e6f864b99014154d9645746908558c138295c0/expr.png\" style=\"display:inline;vertical-align:middle;\" /></a></td></tr>\n",
       "<tr><td>8</td><td>ExprTuple</td><td>13</td><td><a class=\"ProveItLink\" href=\"../f1af1e9a7b34dc7d40811e61e34bbe300eb8f9bf0/expr.ipynb\"><img src=\"../f1af1e9a7b34dc7d40811e61e34bbe300eb8f9bf0/expr.png\" style=\"display:inline;vertical-align:middle;\" /></a></td></tr>\n",
       "<tr><td>9</td><td>ExprTuple</td><td>21</td><td><a class=\"ProveItLink\" href=\"../../../../__pv_it/common/ca565dff2751ea9a3b48fe855133b9e0c2eca83f0/expr.ipynb\"><img src=\"../../../../__pv_it/common/ca565dff2751ea9a3b48fe855133b9e0c2eca83f0/expr.png\" style=\"display:inline;vertical-align:middle;\" /></a></td></tr>\n",
       "<tr><td>10</td><td>ExprTuple</td><td>14</td><td><a class=\"ProveItLink\" href=\"../../../subtraction/__pv_it/theorems/25c776cc10fb7df90a1cddbf8213d6561f6b7bd20/expr.ipynb\"><img src=\"../../../subtraction/__pv_it/theorems/25c776cc10fb7df90a1cddbf8213d6561f6b7bd20/expr.png\" style=\"display:inline;vertical-align:middle;\" /></a></td></tr>\n",
       "<tr><td>11</td><td>ExprTuple</td><td>15</td><td><a class=\"ProveItLink\" href=\"../13a6725b5bbe9335a5435dc862233e76e661cfd60/expr.ipynb\"><img src=\"../13a6725b5bbe9335a5435dc862233e76e661cfd60/expr.png\" style=\"display:inline;vertical-align:middle;\" /></a></td></tr>\n",
       "<tr><td>12</td><td>ExprTuple</td><td>16</td><td><a class=\"ProveItLink\" href=\"../13540e03af00ba7277391d246dcab0cb93db58750/expr.ipynb\"><img src=\"../13540e03af00ba7277391d246dcab0cb93db58750/expr.png\" style=\"display:inline;vertical-align:middle;\" /></a></td></tr>\n",
       "<tr><td>13</td><td>Operation</td><td>operator:&nbsp;17<br>operands:&nbsp;18<br></td><td><a class=\"ProveItLink\" href=\"../f6373c9df5fb30a12cf1503d0db3dfb89f4c1c450/expr.ipynb\"><img src=\"../f6373c9df5fb30a12cf1503d0db3dfb89f4c1c450/expr.png\" style=\"display:inline;vertical-align:middle;\" /></a></td></tr>\n",
       "<tr><td>14</td><td>Variable</td><td></td><td><a class=\"ProveItLink\" href=\"../../../../../__pv_it/common/ceef4280a2f1cc604b455b54e735507244cc62cd0/expr.ipynb\"><img src=\"../../../../../__pv_it/common/ceef4280a2f1cc604b455b54e735507244cc62cd0/expr.png\" style=\"display:inline;vertical-align:middle;\" /></a></td></tr>\n",
       "<tr><td>15</td><td>IndexedVar</td><td>variable:&nbsp;19<br>index:&nbsp;26<br></td><td><a class=\"ProveItLink\" href=\"../29a7b7594c266b657d8e579ef086a3c5e071438f0/expr.ipynb\"><img src=\"../29a7b7594c266b657d8e579ef086a3c5e071438f0/expr.png\" style=\"display:inline;vertical-align:middle;\" /></a></td></tr>\n",
       "<tr><td>16</td><td>IndexedVar</td><td>variable:&nbsp;19<br>index:&nbsp;23<br></td><td><a class=\"ProveItLink\" href=\"../d17b5ab603975a5e81dbad9e880e81b7429a718d0/expr.ipynb\"><img src=\"../d17b5ab603975a5e81dbad9e880e81b7429a718d0/expr.png\" style=\"display:inline;vertical-align:middle;\" /></a></td></tr>\n",
       "<tr><td>17</td><td>Literal</td><td></td><td><a class=\"ProveItLink\" href=\"../../common/4b7effaab3619a1c2c38fe2dee8601df8ec714590/expr.ipynb\"><img src=\"../../common/4b7effaab3619a1c2c38fe2dee8601df8ec714590/expr.png\" style=\"display:inline;vertical-align:middle;\" /></a></td></tr>\n",
       "<tr><td>18</td><td>ExprTuple</td><td>21, 22</td><td><a class=\"ProveItLink\" href=\"../7324c7782694ef27830a6affdc5c354bab287e4f0/expr.ipynb\"><img src=\"../7324c7782694ef27830a6affdc5c354bab287e4f0/expr.png\" style=\"display:inline;vertical-align:middle;\" /></a></td></tr>\n",
       "<tr><td>19</td><td>Variable</td><td></td><td><a class=\"ProveItLink\" href=\"../../../../../__pv_it/common/c06c606ec12678c58933ac85412ecadc2ae28be60/expr.ipynb\"><img src=\"../../../../../__pv_it/common/c06c606ec12678c58933ac85412ecadc2ae28be60/expr.png\" style=\"display:inline;vertical-align:middle;\" /></a></td></tr>\n",
       "<tr><td>20</td><td>ExprTuple</td><td>23</td><td><a class=\"ProveItLink\" href=\"../56953b0728fa2850398ae7a13d530612ae194a390/expr.ipynb\"><img src=\"../56953b0728fa2850398ae7a13d530612ae194a390/expr.png\" style=\"display:inline;vertical-align:middle;\" /></a></td></tr>\n",
       "<tr><td>21</td><td>Variable</td><td></td><td><a class=\"ProveItLink\" href=\"../../../../../__pv_it/common/8968bb04eb3f7dfa02353397ce929b025bbd79c20/expr.ipynb\"><img src=\"../../../../../__pv_it/common/8968bb04eb3f7dfa02353397ce929b025bbd79c20/expr.png\" style=\"display:inline;vertical-align:middle;\" /></a></td></tr>\n",
       "<tr><td>22</td><td>Operation</td><td>operator:&nbsp;24<br>operand:&nbsp;26<br></td><td><a class=\"ProveItLink\" href=\"../bf4beda21975fe8a0a5007615b5bcc943da59bb20/expr.ipynb\"><img src=\"../bf4beda21975fe8a0a5007615b5bcc943da59bb20/expr.png\" style=\"display:inline;vertical-align:middle;\" /></a></td></tr>\n",
       "<tr><td>23</td><td>Literal</td><td></td><td><a class=\"ProveItLink\" href=\"../../../../numerals/__pv_it/common/af4aab8a07465db063742696e006d04670f30cf10/expr.ipynb\"><img src=\"../../../../numerals/__pv_it/common/af4aab8a07465db063742696e006d04670f30cf10/expr.png\" style=\"display:inline;vertical-align:middle;\" /></a></td></tr>\n",
       "<tr><td>24</td><td>Literal</td><td></td><td><a class=\"ProveItLink\" href=\"../../../../negation/__pv_it/common/221b3c4d1770ee9051b7c044c3f9ec61196fc34b0/expr.ipynb\"><img src=\"../../../../negation/__pv_it/common/221b3c4d1770ee9051b7c044c3f9ec61196fc34b0/expr.png\" style=\"display:inline;vertical-align:middle;\" /></a></td></tr>\n",
       "<tr><td>25</td><td>ExprTuple</td><td>26</td><td><a class=\"ProveItLink\" href=\"../b9e4f0dffece176bbe2f36127440684a20e0468e0/expr.ipynb\"><img src=\"../b9e4f0dffece176bbe2f36127440684a20e0468e0/expr.png\" style=\"display:inline;vertical-align:middle;\" /></a></td></tr>\n",
       "<tr><td>26</td><td>Literal</td><td></td><td><a class=\"ProveItLink\" href=\"../../../../numerals/__pv_it/common/682157d4892d216d9e5626ed533aff9b56b9506e0/expr.ipynb\"><img src=\"../../../../numerals/__pv_it/common/682157d4892d216d9e5626ed533aff9b56b9506e0/expr.png\" style=\"display:inline;vertical-align:middle;\" /></a></td></tr>\n",
       "</table>\n"
      ],
      "text/plain": [
       "0. a_{n - 1} + a_{n} + b - c - a_{1} - a_{2}\n",
       "   core type: Operation\n",
       "   operator: 17\n",
       "   operands: 1\n",
       "1. (a_{n - 1}, a_{n}, b, -c, -a_{1}, -a_{2})\n",
       "   core type: ExprTuple\n",
       "   sub-expressions: 2, 3, 4, 5, 6, 7\n",
       "2. a_{n - 1}\n",
       "   core type: IndexedVar\n",
       "variable: 19\n",
       "index: 13\n",
       "3. a_{n}\n",
       "   core type: IndexedVar\n",
       "variable: 19\n",
       "index: 21\n",
       "4. b\n",
       "   core type: Variable\n",
       "   sub-expressions: \n",
       "5. -c\n",
       "   core type: Operation\n",
       "   operator: 24\n",
       "   operand: 14\n",
       "6. -a_{1}\n",
       "   core type: Operation\n",
       "   operator: 24\n",
       "   operand: 15\n",
       "7. -a_{2}\n",
       "   core type: Operation\n",
       "   operator: 24\n",
       "   operand: 16\n",
       "8. (n - 1)\n",
       "   core type: ExprTuple\n",
       "   sub-expressions: 13\n",
       "9. (n)\n",
       "   core type: ExprTuple\n",
       "   sub-expressions: 21\n",
       "10. (c)\n",
       "    core type: ExprTuple\n",
       "    sub-expressions: 14\n",
       "11. (a_{1})\n",
       "    core type: ExprTuple\n",
       "    sub-expressions: 15\n",
       "12. (a_{2})\n",
       "    core type: ExprTuple\n",
       "    sub-expressions: 16\n",
       "13. n - 1\n",
       "    core type: Operation\n",
       "    operator: 17\n",
       "    operands: 18\n",
       "14. c\n",
       "    core type: Variable\n",
       "    sub-expressions: \n",
       "15. a_{1}\n",
       "    core type: IndexedVar\n",
       "variable: 19\n",
       "index: 26\n",
       "16. a_{2}\n",
       "    core type: IndexedVar\n",
       "variable: 19\n",
       "index: 23\n",
       "17. +\n",
       "    core type: Literal\n",
       "    sub-expressions: \n",
       "18. (n, -1)\n",
       "    core type: ExprTuple\n",
       "    sub-expressions: 21, 22\n",
       "19. a\n",
       "    core type: Variable\n",
       "    sub-expressions: \n",
       "20. (2)\n",
       "    core type: ExprTuple\n",
       "    sub-expressions: 23\n",
       "21. n\n",
       "    core type: Variable\n",
       "    sub-expressions: \n",
       "22. -1\n",
       "    core type: Operation\n",
       "    operator: 24\n",
       "    operand: 26\n",
       "23. 2\n",
       "    core type: Literal\n",
       "    sub-expressions: \n",
       "24. -\n",
       "    core type: Literal\n",
       "    sub-expressions: \n",
       "25. (1)\n",
       "    core type: ExprTuple\n",
       "    sub-expressions: 26\n",
       "26. 1\n",
       "    core type: Literal\n",
       "    sub-expressions: "
      ]
     },
     "metadata": {},
     "output_type": "display_data"
    }
   ],
   "source": [
    "# display the expression information\n",
    "stored_expr.expr_info()"
   ]
  },
  {
   "cell_type": "code",
   "execution_count": null,
   "metadata": {},
   "outputs": [],
   "source": []
  }
 ],
 "metadata": {
  "kernelspec": {
   "display_name": "Python 3",
   "language": "python",
   "name": "python3"
  }
 },
 "nbformat": 4,
 "nbformat_minor": 0
}