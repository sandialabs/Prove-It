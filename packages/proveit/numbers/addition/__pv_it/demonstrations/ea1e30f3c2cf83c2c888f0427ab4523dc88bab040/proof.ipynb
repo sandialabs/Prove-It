{
 "cells": [
  {
   "cell_type": "markdown",
   "metadata": {},
   "source": [
    "Show the Proof\n",
    "========"
   ]
  },
  {
   "cell_type": "code",
   "execution_count": 1,
   "metadata": {},
   "outputs": [
    {
     "data": {
      "text/html": [
       "<table><tr><th>&nbsp;</th><th>step type</th><th>requirements</th><th>statement</th></tr>\n",
       "<tr><td><a name=\"proveit.numbers.addition.demonstrations.ea1e30f3c2cf83c2c888f0427ab4523dc88bab040_step0\">0</a></td><td>instantiation</td><td><a href=\"#proveit.numbers.addition.demonstrations.ea1e30f3c2cf83c2c888f0427ab4523dc88bab040_step1\">1</a>, <a href=\"#proveit.numbers.addition.demonstrations.ea1e30f3c2cf83c2c888f0427ab4523dc88bab040_step2\">2</a>, <a href=\"#proveit.numbers.addition.demonstrations.ea1e30f3c2cf83c2c888f0427ab4523dc88bab040_step3\">3</a></td><td><span style=\"font-size:20px;\"><a class=\"ProveItLink\" href=\"../../../../ordering/__pv_it/theorems/27094ede24067904bb8353fa305df8461a3a4be40/expr.ipynb\"><img src=\"../../../../ordering/__pv_it/theorems/27094ede24067904bb8353fa305df8461a3a4be40/expr.png\" style=\"display:inline;vertical-align:middle;\" /></a>, <a class=\"ProveItLink\" href=\"../../../../ordering/__pv_it/theorems/5d56aa038eb34c97b005be8161434236efec38e90/expr.ipynb\"><img src=\"../../../../ordering/__pv_it/theorems/5d56aa038eb34c97b005be8161434236efec38e90/expr.png\" style=\"display:inline;vertical-align:middle;\" /></a> <a class=\"ProveItLink\" href=\"proof.ipynb\" style=\"text-decoration: none\">&nbsp;&#x22A2;&nbsp;&nbsp;</a><a class=\"ProveItLink\" href=\"../../theorems/a15e4ee9d247bc510c6a0dacbe0fa69a74e91f040/expr.ipynb\"><img src=\"../../theorems/a15e4ee9d247bc510c6a0dacbe0fa69a74e91f040/expr.png\" style=\"display:inline;vertical-align:middle;\" /></a></span></td></tr>\n",
       "<tr><td>&nbsp;</td><td colspan=4 style=\"text-align:left\"><span style=\"font-size:20px;\"><a class=\"ProveItLink\" href=\"../../../../../__pv_it/common/c06c606ec12678c58933ac85412ecadc2ae28be60/expr.ipynb\"><img src=\"../../../../../__pv_it/common/c06c606ec12678c58933ac85412ecadc2ae28be60/expr.png\" style=\"display:inline;vertical-align:middle;\" /></a> : <a class=\"ProveItLink\" href=\"../../../../../__pv_it/common/c06c606ec12678c58933ac85412ecadc2ae28be60/expr.ipynb\"><img src=\"../../../../../__pv_it/common/c06c606ec12678c58933ac85412ecadc2ae28be60/expr.png\" style=\"display:inline;vertical-align:middle;\" /></a>, <a class=\"ProveItLink\" href=\"../../../../../__pv_it/common/195236b98c6c564a75b5dbada74b173bc52d5c3e0/expr.ipynb\"><img src=\"../../../../../__pv_it/common/195236b98c6c564a75b5dbada74b173bc52d5c3e0/expr.png\" style=\"display:inline;vertical-align:middle;\" /></a> : <a class=\"ProveItLink\" href=\"../../../../../__pv_it/common/195236b98c6c564a75b5dbada74b173bc52d5c3e0/expr.ipynb\"><img src=\"../../../../../__pv_it/common/195236b98c6c564a75b5dbada74b173bc52d5c3e0/expr.png\" style=\"display:inline;vertical-align:middle;\" /></a></span></td></tr><tr><td><a name=\"proveit.numbers.addition.demonstrations.ea1e30f3c2cf83c2c888f0427ab4523dc88bab040_step1\">1</a></td><td>theorem</td><td></td><td><span style=\"font-size:20px;\"> <a class=\"ProveItLink\" href=\"../../../_theory_nbs_/proofs/add_nat_closure_bin/thm_proof.ipynb\" style=\"text-decoration: none\">&nbsp;&#x22A2;&nbsp;&nbsp;</a><a class=\"ProveItLink\" href=\"../../theorems/2d9e0bc6f35dbf06196c004cd25d14fec97e8b7b0/expr.ipynb\"><img src=\"../../theorems/2d9e0bc6f35dbf06196c004cd25d14fec97e8b7b0/expr.png\" style=\"display:inline;vertical-align:middle;\" /></a></span></td></tr>\n",
       "<tr><td>&nbsp;</td><td colspan=4 style-\"text-align:left\"><a class=\"ProveItLink\" href=\"../../../_theory_nbs_/proofs/add_nat_closure_bin/thm_proof.ipynb\">proveit.numbers.addition.add_nat_closure_bin</a></td></tr><tr><td><a name=\"proveit.numbers.addition.demonstrations.ea1e30f3c2cf83c2c888f0427ab4523dc88bab040_step2\">2</a></td><td>assumption</td><td></td><td><span style=\"font-size:20px;\"><a class=\"ProveItLink\" href=\"../../../../ordering/__pv_it/theorems/27094ede24067904bb8353fa305df8461a3a4be40/expr.ipynb\"><img src=\"../../../../ordering/__pv_it/theorems/27094ede24067904bb8353fa305df8461a3a4be40/expr.png\" style=\"display:inline;vertical-align:middle;\" /></a> <a class=\"ProveItLink\" href=\"../5e56ce86a6ccf39f7e24962397c3af92b21bcd670/proof.ipynb\" style=\"text-decoration: none\">&nbsp;&#x22A2;&nbsp;&nbsp;</a><a class=\"ProveItLink\" href=\"../../../../ordering/__pv_it/theorems/27094ede24067904bb8353fa305df8461a3a4be40/expr.ipynb\"><img src=\"../../../../ordering/__pv_it/theorems/27094ede24067904bb8353fa305df8461a3a4be40/expr.png\" style=\"display:inline;vertical-align:middle;\" /></a></span></td></tr>\n",
       "<tr><td><a name=\"proveit.numbers.addition.demonstrations.ea1e30f3c2cf83c2c888f0427ab4523dc88bab040_step3\">3</a></td><td>assumption</td><td></td><td><span style=\"font-size:20px;\"><a class=\"ProveItLink\" href=\"../../../../ordering/__pv_it/theorems/5d56aa038eb34c97b005be8161434236efec38e90/expr.ipynb\"><img src=\"../../../../ordering/__pv_it/theorems/5d56aa038eb34c97b005be8161434236efec38e90/expr.png\" style=\"display:inline;vertical-align:middle;\" /></a> <a class=\"ProveItLink\" href=\"../b17908ea1cc5fec44397ab0929ac58a87d01319d0/proof.ipynb\" style=\"text-decoration: none\">&nbsp;&#x22A2;&nbsp;&nbsp;</a><a class=\"ProveItLink\" href=\"../../../../ordering/__pv_it/theorems/5d56aa038eb34c97b005be8161434236efec38e90/expr.ipynb\"><img src=\"../../../../ordering/__pv_it/theorems/5d56aa038eb34c97b005be8161434236efec38e90/expr.png\" style=\"display:inline;vertical-align:middle;\" /></a></span></td></tr>\n",
       "</table>"
      ],
      "text/plain": [
       "<proveit._core_.proof._ShowProof at 0x7f0c7e52dba8>"
      ]
     },
     "execution_count": 1,
     "metadata": {},
     "output_type": "execute_result"
    }
   ],
   "source": [
    "import proveit\n",
    "# Automation is not needed when only showing a stored proof:\n",
    "proveit.defaults.automation = False # This will speed things up.\n",
    "proveit.defaults.inline_pngs = False # Makes files smaller.\n",
    "%show_proof"
   ]
  },
  {
   "cell_type": "code",
   "execution_count": null,
   "metadata": {},
   "outputs": [],
   "source": []
  }
 ],
 "metadata": {
  "kernelspec": {
   "display_name": "Python 3",
   "language": "python",
   "name": "python3"
  }
 },
 "nbformat": 4,
 "nbformat_minor": 0
}