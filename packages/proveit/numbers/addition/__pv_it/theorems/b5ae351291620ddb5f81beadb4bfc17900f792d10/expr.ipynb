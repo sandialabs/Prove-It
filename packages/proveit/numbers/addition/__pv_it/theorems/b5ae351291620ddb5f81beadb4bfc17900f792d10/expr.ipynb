{
 "cells": [
  {
   "cell_type": "markdown",
   "metadata": {},
   "source": [
    "Expression of type <a class=\"ProveItLink\" href=\"../../../../../../../doc/html/api/proveit.Conditional.html\">Conditional</a>\n",
    "=======================\n",
    "# from the theory of <a class=\"ProveItLink\" href=\"../../../_theory_nbs_/theory.ipynb\">proveit.numbers.addition</a>"
   ]
  },
  {
   "cell_type": "code",
   "execution_count": 1,
   "metadata": {},
   "outputs": [],
   "source": [
    "import proveit\n",
    "# Automation is not needed when building an expression:\n",
    "proveit.defaults.automation = False # This will speed things up.\n",
    "proveit.defaults.inline_pngs = False # Makes files smaller.\n",
    "%load_expr # Load the stored expression as 'stored_expr'\n",
    "# import Expression classes needed to build the expression\n",
    "from proveit import Conditional, b, i, j\n",
    "from proveit.core_expr_types import a_1_to_i, c_1_to_j\n",
    "from proveit.logic import And, Forall, InSet\n",
    "from proveit.numbers import Add, Natural, NaturalPos, greater, zero"
   ]
  },
  {
   "cell_type": "code",
   "execution_count": 2,
   "metadata": {},
   "outputs": [
    {
     "data": {
      "text/html": [
       "<strong id=\"expr\">expr:</strong> <a class=\"ProveItLink\" href=\"expr.ipynb\"><img src=\"expr.png\" style=\"display:inline;vertical-align:middle;\" /></a><br>"
      ],
      "text/plain": [
       "<IPython.core.display.HTML object>"
      ]
     },
     "metadata": {},
     "output_type": "display_data"
    }
   ],
   "source": [
    "# build up the expression from sub-expressions\n",
    "expr = Conditional(Forall(instance_param_or_params = [a_1_to_i, b, c_1_to_j], instance_expr = InSet(Add(a_1_to_i, b, c_1_to_j), NaturalPos), domain = Natural, condition = greater(b, zero)), And(InSet(i, Natural), InSet(j, Natural)))"
   ]
  },
  {
   "cell_type": "code",
   "execution_count": 3,
   "metadata": {},
   "outputs": [
    {
     "name": "stdout",
     "output_type": "stream",
     "text": [
      "Passed sanity check: expr matches stored_expr\n"
     ]
    }
   ],
   "source": [
    "# check that the built expression is the same as the stored expression\n",
    "assert expr == stored_expr\n",
    "assert expr._style_id == stored_expr._style_id\n",
    "print(\"Passed sanity check: expr matches stored_expr\")"
   ]
  },
  {
   "cell_type": "code",
   "execution_count": 4,
   "metadata": {},
   "outputs": [
    {
     "name": "stdout",
     "output_type": "stream",
     "text": [
      "\\left\\{\\forall_{a_{1}, a_{2}, \\ldots, a_{i}, b, c_{1}, c_{2}, \\ldots, c_{j} \\in \\mathbb{N}~|~b > 0}~\\left(\\left(a_{1} +  a_{2} +  \\ldots +  a_{i} + b+ c_{1} +  c_{2} +  \\ldots +  c_{j}\\right) \\in \\mathbb{N}^+\\right) \\textrm{ if } i \\in \\mathbb{N} ,  j \\in \\mathbb{N}\\right..\n"
     ]
    }
   ],
   "source": [
    "# Show the LaTeX representation of the expression for convenience if you need it.\n",
    "print(stored_expr.latex())"
   ]
  },
  {
   "cell_type": "code",
   "execution_count": 5,
   "metadata": {},
   "outputs": [
    {
     "data": {
      "text/html": [
       "<table>\n",
       "<tr><th>name</th><th>description</th><th>default</th><th>current value</th><th>related methods</th></tr><tr><td>condition_delimiter</td><td>'comma' or 'and'</td><td>comma</td><td>comma</td><td>('with_comma_delimiter', 'with_conjunction_delimiter')</td></tr>\n",
       "</table>\n"
      ],
      "text/plain": [
       "style name: condition_delimiter\n",
       "description: 'comma' or 'and'\n",
       "default: comma\n",
       "current value: comma\n",
       "related methods: ('with_comma_delimiter', 'with_conjunction_delimiter')"
      ]
     },
     "metadata": {},
     "output_type": "display_data"
    }
   ],
   "source": [
    "stored_expr.style_options()"
   ]
  },
  {
   "cell_type": "code",
   "execution_count": 6,
   "metadata": {},
   "outputs": [
    {
     "data": {
      "text/html": [
       "<table><tr><th>&nbsp;</th><th>core type</th><th>sub-expressions</th><th>expression</th></tr>\n",
       "<tr><td>0</td><td>Conditional</td><td>value:&nbsp;1<br>condition:&nbsp;2<br></td><td><a class=\"ProveItLink\" href=\"expr.ipynb\"><img src=\"expr.png\" style=\"display:inline;vertical-align:middle;\" /></a></td></tr>\n",
       "<tr><td>1</td><td>Operation</td><td>operator:&nbsp;3<br>operand:&nbsp;6<br></td><td><a class=\"ProveItLink\" href=\"../562b26904d3cd8d785588c80ac69f88cb366ffb60/expr.ipynb\"><img src=\"../562b26904d3cd8d785588c80ac69f88cb366ffb60/expr.png\" style=\"display:inline;vertical-align:middle;\" /></a></td></tr>\n",
       "<tr><td>2</td><td>Operation</td><td>operator:&nbsp;15<br>operands:&nbsp;5<br></td><td><a class=\"ProveItLink\" href=\"../f5d9619703604b55666a74ce8b6b93818bc634bb0/expr.ipynb\"><img src=\"../f5d9619703604b55666a74ce8b6b93818bc634bb0/expr.png\" style=\"display:inline;vertical-align:middle;\" /></a></td></tr>\n",
       "<tr><td>3</td><td>Literal</td><td></td><td><a class=\"ProveItLink\" href=\"../../../../../logic/booleans/quantification/universality/__pv_it/common/083d2baa0b8ecab1d230f9ec29a15aa1355809fb0/expr.ipynb\"><img src=\"../../../../../logic/booleans/quantification/universality/__pv_it/common/083d2baa0b8ecab1d230f9ec29a15aa1355809fb0/expr.png\" style=\"display:inline;vertical-align:middle;\" /></a></td></tr>\n",
       "<tr><td>4</td><td>ExprTuple</td><td>6</td><td><a class=\"ProveItLink\" href=\"../a31fcb5b5d3ad5ffe53a5232fce71267f62867c20/expr.ipynb\"><img src=\"../a31fcb5b5d3ad5ffe53a5232fce71267f62867c20/expr.png\" style=\"display:inline;vertical-align:middle;\" /></a></td></tr>\n",
       "<tr><td>5</td><td>ExprTuple</td><td>7, 8</td><td><a class=\"ProveItLink\" href=\"../ee48d8077493fceb1212e72214d6f918e35080800/expr.ipynb\"><img src=\"../ee48d8077493fceb1212e72214d6f918e35080800/expr.png\" style=\"display:inline;vertical-align:middle;\" /></a></td></tr>\n",
       "<tr><td>6</td><td>Lambda</td><td>parameters:&nbsp;24<br>body:&nbsp;9<br></td><td><a class=\"ProveItLink\" href=\"../ccf74878c3cb3a5dc443f7559302c288dc70f7360/expr.ipynb\"><img src=\"../ccf74878c3cb3a5dc443f7559302c288dc70f7360/expr.png\" style=\"display:inline;vertical-align:middle;\" /></a></td></tr>\n",
       "<tr><td>7</td><td>Operation</td><td>operator:&nbsp;42<br>operands:&nbsp;10<br></td><td><a class=\"ProveItLink\" href=\"../10cfe086dee5530e9b3b60486d89c6cb824c41920/expr.ipynb\"><img src=\"../10cfe086dee5530e9b3b60486d89c6cb824c41920/expr.png\" style=\"display:inline;vertical-align:middle;\" /></a></td></tr>\n",
       "<tr><td>8</td><td>Operation</td><td>operator:&nbsp;42<br>operands:&nbsp;11<br></td><td><a class=\"ProveItLink\" href=\"../a66b1fb5d205d2e8007a39dfc31bf38e465e0de50/expr.ipynb\"><img src=\"../a66b1fb5d205d2e8007a39dfc31bf38e465e0de50/expr.png\" style=\"display:inline;vertical-align:middle;\" /></a></td></tr>\n",
       "<tr><td>9</td><td>Conditional</td><td>value:&nbsp;12<br>condition:&nbsp;13<br></td><td><a class=\"ProveItLink\" href=\"../b9240e2499492b5b76cd05146fd5b17d92ad75bc0/expr.ipynb\"><img src=\"../b9240e2499492b5b76cd05146fd5b17d92ad75bc0/expr.png\" style=\"display:inline;vertical-align:middle;\" /></a></td></tr>\n",
       "<tr><td>10</td><td>ExprTuple</td><td>37, 46</td><td><a class=\"ProveItLink\" href=\"../1e0eb14b674d1cdf4a94a1df57c3bb998311774a0/expr.ipynb\"><img src=\"../1e0eb14b674d1cdf4a94a1df57c3bb998311774a0/expr.png\" style=\"display:inline;vertical-align:middle;\" /></a></td></tr>\n",
       "<tr><td>11</td><td>ExprTuple</td><td>40, 46</td><td><a class=\"ProveItLink\" href=\"../7a128213361f018e3a5fb4107c35c71018499dc90/expr.ipynb\"><img src=\"../7a128213361f018e3a5fb4107c35c71018499dc90/expr.png\" style=\"display:inline;vertical-align:middle;\" /></a></td></tr>\n",
       "<tr><td>12</td><td>Operation</td><td>operator:&nbsp;42<br>operands:&nbsp;14<br></td><td><a class=\"ProveItLink\" href=\"../9a769e4d40600544b2d61183def4db1dd69ce79f0/expr.ipynb\"><img src=\"../9a769e4d40600544b2d61183def4db1dd69ce79f0/expr.png\" style=\"display:inline;vertical-align:middle;\" /></a></td></tr>\n",
       "<tr><td>13</td><td>Operation</td><td>operator:&nbsp;15<br>operands:&nbsp;16<br></td><td><a class=\"ProveItLink\" href=\"../7e302147de82769a099ca41104e25a27283a23fa0/expr.ipynb\"><img src=\"../7e302147de82769a099ca41104e25a27283a23fa0/expr.png\" style=\"display:inline;vertical-align:middle;\" /></a></td></tr>\n",
       "<tr><td>14</td><td>ExprTuple</td><td>17, 18</td><td><a class=\"ProveItLink\" href=\"../7672a75a4c807f706fb47c5081acddc84e7335150/expr.ipynb\"><img src=\"../7672a75a4c807f706fb47c5081acddc84e7335150/expr.png\" style=\"display:inline;vertical-align:middle;\" /></a></td></tr>\n",
       "<tr><td>15</td><td>Literal</td><td></td><td><a class=\"ProveItLink\" href=\"../../../../../logic/booleans/conjunction/__pv_it/common/42118ff318bd65d98b1393f64ce7c2269feef76e0/expr.ipynb\"><img src=\"../../../../../logic/booleans/conjunction/__pv_it/common/42118ff318bd65d98b1393f64ce7c2269feef76e0/expr.png\" style=\"display:inline;vertical-align:middle;\" /></a></td></tr>\n",
       "<tr><td>16</td><td>ExprTuple</td><td>19, 20, 21, 22</td><td><a class=\"ProveItLink\" href=\"../7cbbec3715a694cd2c10dbdba7dc1e5f186d47220/expr.ipynb\"><img src=\"../7cbbec3715a694cd2c10dbdba7dc1e5f186d47220/expr.png\" style=\"display:inline;vertical-align:middle;\" /></a></td></tr>\n",
       "<tr><td>17</td><td>Operation</td><td>operator:&nbsp;23<br>operands:&nbsp;24<br></td><td><a class=\"ProveItLink\" href=\"../219a4871a33df7e94921f69ec15c765af99a32930/expr.ipynb\"><img src=\"../219a4871a33df7e94921f69ec15c765af99a32930/expr.png\" style=\"display:inline;vertical-align:middle;\" /></a></td></tr>\n",
       "<tr><td>18</td><td>Literal</td><td></td><td><a class=\"ProveItLink\" href=\"../../../../number_sets/natural_numbers/__pv_it/common/6111329435c43892c831c4793de96afbf80bdb3e0/expr.ipynb\"><img src=\"../../../../number_sets/natural_numbers/__pv_it/common/6111329435c43892c831c4793de96afbf80bdb3e0/expr.png\" style=\"display:inline;vertical-align:middle;\" /></a></td></tr>\n",
       "<tr><td>19</td><td>ExprRange</td><td>lambda_map:&nbsp;25<br>start_index:&nbsp;39<br>end_index:&nbsp;37<br></td><td><a class=\"ProveItLink\" href=\"../66f714239bd071e76f56936a77ad2c6f4e4fb11b0/expr.ipynb\"><img src=\"../66f714239bd071e76f56936a77ad2c6f4e4fb11b0/expr.png\" style=\"display:inline;vertical-align:middle;\" /></a></td></tr>\n",
       "<tr><td>20</td><td>Operation</td><td>operator:&nbsp;42<br>operands:&nbsp;26<br></td><td><a class=\"ProveItLink\" href=\"../5d56aa038eb34c97b005be8161434236efec38e90/expr.ipynb\"><img src=\"../5d56aa038eb34c97b005be8161434236efec38e90/expr.png\" style=\"display:inline;vertical-align:middle;\" /></a></td></tr>\n",
       "<tr><td>21</td><td>ExprRange</td><td>lambda_map:&nbsp;27<br>start_index:&nbsp;39<br>end_index:&nbsp;40<br></td><td><a class=\"ProveItLink\" href=\"../b6beee64775fdafcec45fdf926da85267b8e4c470/expr.ipynb\"><img src=\"../b6beee64775fdafcec45fdf926da85267b8e4c470/expr.png\" style=\"display:inline;vertical-align:middle;\" /></a></td></tr>\n",
       "<tr><td>22</td><td>Operation</td><td>operator:&nbsp;28<br>operands:&nbsp;29<br></td><td><a class=\"ProveItLink\" href=\"../e58b4ca895708d2ee40cf0afddbef30a2626f5b20/expr.ipynb\"><img src=\"../e58b4ca895708d2ee40cf0afddbef30a2626f5b20/expr.png\" style=\"display:inline;vertical-align:middle;\" /></a></td></tr>\n",
       "<tr><td>23</td><td>Literal</td><td></td><td><a class=\"ProveItLink\" href=\"../../common/4b7effaab3619a1c2c38fe2dee8601df8ec714590/expr.ipynb\"><img src=\"../../common/4b7effaab3619a1c2c38fe2dee8601df8ec714590/expr.png\" style=\"display:inline;vertical-align:middle;\" /></a></td></tr>\n",
       "<tr><td>24</td><td>ExprTuple</td><td>30, 35, 31</td><td><a class=\"ProveItLink\" href=\"../d84a0b397d95592bd7106c405306a567e64b1ad30/expr.ipynb\"><img src=\"../d84a0b397d95592bd7106c405306a567e64b1ad30/expr.png\" style=\"display:inline;vertical-align:middle;\" /></a></td></tr>\n",
       "<tr><td>25</td><td>Lambda</td><td>parameter:&nbsp;50<br>body:&nbsp;32<br></td><td><a class=\"ProveItLink\" href=\"../84dc05f8a03389c40cd34cb745e7058c3d45fe2d0/expr.ipynb\"><img src=\"../84dc05f8a03389c40cd34cb745e7058c3d45fe2d0/expr.png\" style=\"display:inline;vertical-align:middle;\" /></a></td></tr>\n",
       "<tr><td>26</td><td>ExprTuple</td><td>35, 46</td><td><a class=\"ProveItLink\" href=\"../002fe358a6420f06acbf206127002fb6838085890/expr.ipynb\"><img src=\"../002fe358a6420f06acbf206127002fb6838085890/expr.png\" style=\"display:inline;vertical-align:middle;\" /></a></td></tr>\n",
       "<tr><td>27</td><td>Lambda</td><td>parameter:&nbsp;50<br>body:&nbsp;33<br></td><td><a class=\"ProveItLink\" href=\"../e896ec058a92ee2b571043fc6ff4462f46d7db6f0/expr.ipynb\"><img src=\"../e896ec058a92ee2b571043fc6ff4462f46d7db6f0/expr.png\" style=\"display:inline;vertical-align:middle;\" /></a></td></tr>\n",
       "<tr><td>28</td><td>Literal</td><td></td><td><a class=\"ProveItLink\" href=\"../../../../ordering/__pv_it/common/fa503ed52033522c609eef1cf3e1b45796489da50/expr.ipynb\"><img src=\"../../../../ordering/__pv_it/common/fa503ed52033522c609eef1cf3e1b45796489da50/expr.png\" style=\"display:inline;vertical-align:middle;\" /></a></td></tr>\n",
       "<tr><td>29</td><td>ExprTuple</td><td>34, 35</td><td><a class=\"ProveItLink\" href=\"../c73b683501086dc2eac4735ea9354aa899c31a1a0/expr.ipynb\"><img src=\"../c73b683501086dc2eac4735ea9354aa899c31a1a0/expr.png\" style=\"display:inline;vertical-align:middle;\" /></a></td></tr>\n",
       "<tr><td>30</td><td>ExprRange</td><td>lambda_map:&nbsp;36<br>start_index:&nbsp;39<br>end_index:&nbsp;37<br></td><td><a class=\"ProveItLink\" href=\"../../../../../core_expr_types/__pv_it/common/7230c683fcd56948c826ac1be71b01b6fb2913950/expr.ipynb\"><img src=\"../../../../../core_expr_types/__pv_it/common/7230c683fcd56948c826ac1be71b01b6fb2913950/expr.png\" style=\"display:inline;vertical-align:middle;\" /></a></td></tr>\n",
       "<tr><td>31</td><td>ExprRange</td><td>lambda_map:&nbsp;38<br>start_index:&nbsp;39<br>end_index:&nbsp;40<br></td><td><a class=\"ProveItLink\" href=\"../../../../../core_expr_types/__pv_it/common/197f625500e1374c769a9a88f526b5b80f714d350/expr.ipynb\"><img src=\"../../../../../core_expr_types/__pv_it/common/197f625500e1374c769a9a88f526b5b80f714d350/expr.png\" style=\"display:inline;vertical-align:middle;\" /></a></td></tr>\n",
       "<tr><td>32</td><td>Operation</td><td>operator:&nbsp;42<br>operands:&nbsp;41<br></td><td><a class=\"ProveItLink\" href=\"../0f2c0f77a94b8bfbf83abdb24da211b7a639149a0/expr.ipynb\"><img src=\"../0f2c0f77a94b8bfbf83abdb24da211b7a639149a0/expr.png\" style=\"display:inline;vertical-align:middle;\" /></a></td></tr>\n",
       "<tr><td>33</td><td>Operation</td><td>operator:&nbsp;42<br>operands:&nbsp;43<br></td><td><a class=\"ProveItLink\" href=\"../3998e40028942dfbce3698936f28139bd7e461fa0/expr.ipynb\"><img src=\"../3998e40028942dfbce3698936f28139bd7e461fa0/expr.png\" style=\"display:inline;vertical-align:middle;\" /></a></td></tr>\n",
       "<tr><td>34</td><td>Literal</td><td></td><td><a class=\"ProveItLink\" href=\"../../../../numerals/__pv_it/common/dd4e19e8b134dfb293470ea55fe3589b0ab9f8040/expr.ipynb\"><img src=\"../../../../numerals/__pv_it/common/dd4e19e8b134dfb293470ea55fe3589b0ab9f8040/expr.png\" style=\"display:inline;vertical-align:middle;\" /></a></td></tr>\n",
       "<tr><td>35</td><td>Variable</td><td></td><td><a class=\"ProveItLink\" href=\"../../../../../__pv_it/common/195236b98c6c564a75b5dbada74b173bc52d5c3e0/expr.ipynb\"><img src=\"../../../../../__pv_it/common/195236b98c6c564a75b5dbada74b173bc52d5c3e0/expr.png\" style=\"display:inline;vertical-align:middle;\" /></a></td></tr>\n",
       "<tr><td>36</td><td>Lambda</td><td>parameter:&nbsp;50<br>body:&nbsp;44<br></td><td><a class=\"ProveItLink\" href=\"../../../../../core_expr_types/__pv_it/common/1527ad383e12f9c6ed6b371c9a7dd1892d80da1b0/expr.ipynb\"><img src=\"../../../../../core_expr_types/__pv_it/common/1527ad383e12f9c6ed6b371c9a7dd1892d80da1b0/expr.png\" style=\"display:inline;vertical-align:middle;\" /></a></td></tr>\n",
       "<tr><td>37</td><td>Variable</td><td></td><td><a class=\"ProveItLink\" href=\"../../../../../__pv_it/common/ae955345c83abf786c3aff8681cd5465beae262d0/expr.ipynb\"><img src=\"../../../../../__pv_it/common/ae955345c83abf786c3aff8681cd5465beae262d0/expr.png\" style=\"display:inline;vertical-align:middle;\" /></a></td></tr>\n",
       "<tr><td>38</td><td>Lambda</td><td>parameter:&nbsp;50<br>body:&nbsp;45<br></td><td><a class=\"ProveItLink\" href=\"../../../../../core_expr_types/__pv_it/common/89a29b5b02ce6c37577f6352274a3d503dcdde3e0/expr.ipynb\"><img src=\"../../../../../core_expr_types/__pv_it/common/89a29b5b02ce6c37577f6352274a3d503dcdde3e0/expr.png\" style=\"display:inline;vertical-align:middle;\" /></a></td></tr>\n",
       "<tr><td>39</td><td>Literal</td><td></td><td><a class=\"ProveItLink\" href=\"../../../../numerals/__pv_it/common/682157d4892d216d9e5626ed533aff9b56b9506e0/expr.ipynb\"><img src=\"../../../../numerals/__pv_it/common/682157d4892d216d9e5626ed533aff9b56b9506e0/expr.png\" style=\"display:inline;vertical-align:middle;\" /></a></td></tr>\n",
       "<tr><td>40</td><td>Variable</td><td></td><td><a class=\"ProveItLink\" href=\"../../../../../__pv_it/common/1ed21df18baca2f42b561a7ffbf30a2743d594650/expr.ipynb\"><img src=\"../../../../../__pv_it/common/1ed21df18baca2f42b561a7ffbf30a2743d594650/expr.png\" style=\"display:inline;vertical-align:middle;\" /></a></td></tr>\n",
       "<tr><td>41</td><td>ExprTuple</td><td>44, 46</td><td><a class=\"ProveItLink\" href=\"../be8e59511bdb982cd5d44781af0bc24ce701bb960/expr.ipynb\"><img src=\"../be8e59511bdb982cd5d44781af0bc24ce701bb960/expr.png\" style=\"display:inline;vertical-align:middle;\" /></a></td></tr>\n",
       "<tr><td>42</td><td>Literal</td><td></td><td><a class=\"ProveItLink\" href=\"../../../../../logic/sets/membership/__pv_it/common/477487d8796864d23d5810f83761435f25167f690/expr.ipynb\"><img src=\"../../../../../logic/sets/membership/__pv_it/common/477487d8796864d23d5810f83761435f25167f690/expr.png\" style=\"display:inline;vertical-align:middle;\" /></a></td></tr>\n",
       "<tr><td>43</td><td>ExprTuple</td><td>45, 46</td><td><a class=\"ProveItLink\" href=\"../2985e53fe48ea33cfce02cad429eab83540a32b70/expr.ipynb\"><img src=\"../2985e53fe48ea33cfce02cad429eab83540a32b70/expr.png\" style=\"display:inline;vertical-align:middle;\" /></a></td></tr>\n",
       "<tr><td>44</td><td>IndexedVar</td><td>variable:&nbsp;47<br>index:&nbsp;50<br></td><td><a class=\"ProveItLink\" href=\"../../../../../core_expr_types/__pv_it/common/3a62c13e156d62d52fe585fa37cc2172fcf685260/expr.ipynb\"><img src=\"../../../../../core_expr_types/__pv_it/common/3a62c13e156d62d52fe585fa37cc2172fcf685260/expr.png\" style=\"display:inline;vertical-align:middle;\" /></a></td></tr>\n",
       "<tr><td>45</td><td>IndexedVar</td><td>variable:&nbsp;48<br>index:&nbsp;50<br></td><td><a class=\"ProveItLink\" href=\"../../../../../core_expr_types/__pv_it/common/8ffbefe913f7c934b2e3a2a12315d5900822d9d00/expr.ipynb\"><img src=\"../../../../../core_expr_types/__pv_it/common/8ffbefe913f7c934b2e3a2a12315d5900822d9d00/expr.png\" style=\"display:inline;vertical-align:middle;\" /></a></td></tr>\n",
       "<tr><td>46</td><td>Literal</td><td></td><td><a class=\"ProveItLink\" href=\"../../../../number_sets/natural_numbers/__pv_it/common/8b7c321957f52ed3b05b36af612eeae4fa4783bc0/expr.ipynb\"><img src=\"../../../../number_sets/natural_numbers/__pv_it/common/8b7c321957f52ed3b05b36af612eeae4fa4783bc0/expr.png\" style=\"display:inline;vertical-align:middle;\" /></a></td></tr>\n",
       "<tr><td>47</td><td>Variable</td><td></td><td><a class=\"ProveItLink\" href=\"../../../../../__pv_it/common/c06c606ec12678c58933ac85412ecadc2ae28be60/expr.ipynb\"><img src=\"../../../../../__pv_it/common/c06c606ec12678c58933ac85412ecadc2ae28be60/expr.png\" style=\"display:inline;vertical-align:middle;\" /></a></td></tr>\n",
       "<tr><td>48</td><td>Variable</td><td></td><td><a class=\"ProveItLink\" href=\"../../../../../__pv_it/common/ceef4280a2f1cc604b455b54e735507244cc62cd0/expr.ipynb\"><img src=\"../../../../../__pv_it/common/ceef4280a2f1cc604b455b54e735507244cc62cd0/expr.png\" style=\"display:inline;vertical-align:middle;\" /></a></td></tr>\n",
       "<tr><td>49</td><td>ExprTuple</td><td>50</td><td><a class=\"ProveItLink\" href=\"../../../../../core_expr_types/__pv_it/common/4b0dd6be36d76552eda6a95d5b4a27f5a5b62f900/expr.ipynb\"><img src=\"../../../../../core_expr_types/__pv_it/common/4b0dd6be36d76552eda6a95d5b4a27f5a5b62f900/expr.png\" style=\"display:inline;vertical-align:middle;\" /></a></td></tr>\n",
       "<tr><td>50</td><td>Variable</td><td></td><td><a class=\"ProveItLink\" href=\"../../../../../core_expr_types/__pv_it/common/006c465e50948aa2b52285e2de47974f741255cc0/expr.ipynb\"><img src=\"../../../../../core_expr_types/__pv_it/common/006c465e50948aa2b52285e2de47974f741255cc0/expr.png\" style=\"display:inline;vertical-align:middle;\" /></a></td></tr>\n",
       "</table>\n"
      ],
      "text/plain": [
       "0. {forall_{a_{1}, a_{2}, ..., a_{i}, b, c_{1}, c_{2}, ..., c_{j} in Natural | b > 0} ((a_{1} +  a_{2} +  ... +  a_{i} + b+ c_{1} +  c_{2} +  ... +  c_{j}) in NaturalPos) if i in Natural ,  j in Natural.\n",
       "   core type: Conditional\n",
       "   value: 1\n",
       "   condition: 2\n",
       "1. forall_{a_{1}, a_{2}, ..., a_{i}, b, c_{1}, c_{2}, ..., c_{j} in Natural | b > 0} ((a_{1} +  a_{2} +  ... +  a_{i} + b+ c_{1} +  c_{2} +  ... +  c_{j}) in NaturalPos)\n",
       "   core type: Operation\n",
       "   operator: 3\n",
       "   operand: 6\n",
       "2. (i in Natural) and (j in Natural)\n",
       "   core type: Operation\n",
       "   operator: 15\n",
       "   operands: 5\n",
       "3. forall\n",
       "   core type: Literal\n",
       "   sub-expressions: \n",
       "4. ((a_{1}, a_{2}, ..., a_{i}, b, c_{1}, c_{2}, ..., c_{j}) -> {(a_{1} +  a_{2} +  ... +  a_{i} + b+ c_{1} +  c_{2} +  ... +  c_{j}) in NaturalPos if (a_{1} in Natural) ,  (a_{2} in Natural) ,  ... ,  (a_{i} in Natural) ,  b in Natural, (c_{1} in Natural) ,  (c_{2} in Natural) ,  ... ,  (c_{j} in Natural) ,  b > 0.)\n",
       "   core type: ExprTuple\n",
       "   sub-expressions: 6\n",
       "5. (i in Natural, j in Natural)\n",
       "   core type: ExprTuple\n",
       "   sub-expressions: 7, 8\n",
       "6. (a_{1}, a_{2}, ..., a_{i}, b, c_{1}, c_{2}, ..., c_{j}) -> {(a_{1} +  a_{2} +  ... +  a_{i} + b+ c_{1} +  c_{2} +  ... +  c_{j}) in NaturalPos if (a_{1} in Natural) ,  (a_{2} in Natural) ,  ... ,  (a_{i} in Natural) ,  b in Natural, (c_{1} in Natural) ,  (c_{2} in Natural) ,  ... ,  (c_{j} in Natural) ,  b > 0.\n",
       "   core type: Lambda\n",
       "   parameters: 24\\n   body: 9\n",
       "7. i in Natural\n",
       "   core type: Operation\n",
       "   operator: 42\n",
       "   operands: 10\n",
       "8. j in Natural\n",
       "   core type: Operation\n",
       "   operator: 42\n",
       "   operands: 11\n",
       "9. {(a_{1} +  a_{2} +  ... +  a_{i} + b+ c_{1} +  c_{2} +  ... +  c_{j}) in NaturalPos if (a_{1} in Natural) ,  (a_{2} in Natural) ,  ... ,  (a_{i} in Natural) ,  b in Natural, (c_{1} in Natural) ,  (c_{2} in Natural) ,  ... ,  (c_{j} in Natural) ,  b > 0.\n",
       "   core type: Conditional\n",
       "   value: 12\n",
       "   condition: 13\n",
       "10. (i, Natural)\n",
       "    core type: ExprTuple\n",
       "    sub-expressions: 37, 46\n",
       "11. (j, Natural)\n",
       "    core type: ExprTuple\n",
       "    sub-expressions: 40, 46\n",
       "12. (a_{1} +  a_{2} +  ... +  a_{i} + b+ c_{1} +  c_{2} +  ... +  c_{j}) in NaturalPos\n",
       "    core type: Operation\n",
       "    operator: 42\n",
       "    operands: 14\n",
       "13. (a_{1} in Natural) and  (a_{2} in Natural) and  ... and  (a_{i} in Natural) and (b in Natural)and (c_{1} in Natural) and  (c_{2} in Natural) and  ... and  (c_{j} in Natural) and (b > 0)\n",
       "    core type: Operation\n",
       "    operator: 15\n",
       "    operands: 16\n",
       "14. (a_{1} +  a_{2} +  ... +  a_{i} + b+ c_{1} +  c_{2} +  ... +  c_{j}, NaturalPos)\n",
       "    core type: ExprTuple\n",
       "    sub-expressions: 17, 18\n",
       "15. and\n",
       "    core type: Literal\n",
       "    sub-expressions: \n",
       "16. ((a_{1} in Natural), (a_{2} in Natural), ..., (a_{i} in Natural), b in Natural,(c_{1} in Natural), (c_{2} in Natural), ..., (c_{j} in Natural), b > 0)\n",
       "    core type: ExprTuple\n",
       "    sub-expressions: 19, 20, 21, 22\n",
       "17. a_{1} +  a_{2} +  ... +  a_{i} + b+ c_{1} +  c_{2} +  ... +  c_{j}\n",
       "    core type: Operation\n",
       "    operator: 23\n",
       "    operands: 24\n",
       "18. NaturalPos\n",
       "    core type: Literal\n",
       "    sub-expressions: \n",
       "19. (a_{1} in Natural), (a_{2} in Natural), ..., (a_{i} in Natural)\n",
       "    core type: ExprRange\n",
       "    lambda_map: 25\n",
       "    start_index: 39\n",
       "    end_index: 37\n",
       "20. b in Natural\n",
       "    core type: Operation\n",
       "    operator: 42\n",
       "    operands: 26\n",
       "21. (c_{1} in Natural), (c_{2} in Natural), ..., (c_{j} in Natural)\n",
       "    core type: ExprRange\n",
       "    lambda_map: 27\n",
       "    start_index: 39\n",
       "    end_index: 40\n",
       "22. b > 0\n",
       "    core type: Operation\n",
       "    operator: 28\n",
       "    operands: 29\n",
       "23. +\n",
       "    core type: Literal\n",
       "    sub-expressions: \n",
       "24. (a_{1}, a_{2}, ..., a_{i}, b,c_{1}, c_{2}, ..., c_{j})\n",
       "    core type: ExprTuple\n",
       "    sub-expressions: 30, 35, 31\n",
       "25. _a -> (a_{_a} in Natural)\n",
       "    core type: Lambda\n",
       "    parameter: 50\n",
       "    body: 32\n",
       "26. (b, Natural)\n",
       "    core type: ExprTuple\n",
       "    sub-expressions: 35, 46\n",
       "27. _a -> (c_{_a} in Natural)\n",
       "    core type: Lambda\n",
       "    parameter: 50\n",
       "    body: 33\n",
       "28. <\n",
       "    core type: Literal\n",
       "    sub-expressions: \n",
       "29. (0, b)\n",
       "    core type: ExprTuple\n",
       "    sub-expressions: 34, 35\n",
       "30. a_{1}, a_{2}, ..., a_{i}\n",
       "    core type: ExprRange\n",
       "    lambda_map: 36\n",
       "    start_index: 39\n",
       "    end_index: 37\n",
       "31. c_{1}, c_{2}, ..., c_{j}\n",
       "    core type: ExprRange\n",
       "    lambda_map: 38\n",
       "    start_index: 39\n",
       "    end_index: 40\n",
       "32. a_{_a} in Natural\n",
       "    core type: Operation\n",
       "    operator: 42\n",
       "    operands: 41\n",
       "33. c_{_a} in Natural\n",
       "    core type: Operation\n",
       "    operator: 42\n",
       "    operands: 43\n",
       "34. 0\n",
       "    core type: Literal\n",
       "    sub-expressions: \n",
       "35. b\n",
       "    core type: Variable\n",
       "    sub-expressions: \n",
       "36. _a -> a_{_a}\n",
       "    core type: Lambda\n",
       "    parameter: 50\n",
       "    body: 44\n",
       "37. i\n",
       "    core type: Variable\n",
       "    sub-expressions: \n",
       "38. _a -> c_{_a}\n",
       "    core type: Lambda\n",
       "    parameter: 50\n",
       "    body: 45\n",
       "39. 1\n",
       "    core type: Literal\n",
       "    sub-expressions: \n",
       "40. j\n",
       "    core type: Variable\n",
       "    sub-expressions: \n",
       "41. (a_{_a}, Natural)\n",
       "    core type: ExprTuple\n",
       "    sub-expressions: 44, 46\n",
       "42. in\n",
       "    core type: Literal\n",
       "    sub-expressions: \n",
       "43. (c_{_a}, Natural)\n",
       "    core type: ExprTuple\n",
       "    sub-expressions: 45, 46\n",
       "44. a_{_a}\n",
       "    core type: IndexedVar\n",
       "variable: 47\n",
       "index: 50\n",
       "45. c_{_a}\n",
       "    core type: IndexedVar\n",
       "variable: 48\n",
       "index: 50\n",
       "46. Natural\n",
       "    core type: Literal\n",
       "    sub-expressions: \n",
       "47. a\n",
       "    core type: Variable\n",
       "    sub-expressions: \n",
       "48. c\n",
       "    core type: Variable\n",
       "    sub-expressions: \n",
       "49. (_a)\n",
       "    core type: ExprTuple\n",
       "    sub-expressions: 50\n",
       "50. _a\n",
       "    core type: Variable\n",
       "    sub-expressions: "
      ]
     },
     "metadata": {},
     "output_type": "display_data"
    }
   ],
   "source": [
    "# display the expression information\n",
    "stored_expr.expr_info()"
   ]
  },
  {
   "cell_type": "code",
   "execution_count": null,
   "metadata": {},
   "outputs": [],
   "source": []
  }
 ],
 "metadata": {
  "kernelspec": {
   "display_name": "Python 3",
   "language": "python",
   "name": "python3"
  }
 },
 "nbformat": 4,
 "nbformat_minor": 0
}