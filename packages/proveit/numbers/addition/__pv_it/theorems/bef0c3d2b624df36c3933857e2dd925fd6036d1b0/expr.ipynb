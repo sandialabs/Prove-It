{
 "cells": [
  {
   "cell_type": "markdown",
   "metadata": {},
   "source": [
    "Expression of type <a class=\"ProveItLink\" href=\"../../../../../../../doc/html/api/proveit.logic.Forall.html\">Forall</a>\n",
    "=======================\n",
    "# from the theory of <a class=\"ProveItLink\" href=\"../../../_theory_nbs_/theory.ipynb\">proveit.numbers.addition</a>"
   ]
  },
  {
   "cell_type": "code",
   "execution_count": 1,
   "metadata": {},
   "outputs": [],
   "source": [
    "import proveit\n",
    "# Automation is not needed when building an expression:\n",
    "proveit.defaults.automation = False # This will speed things up.\n",
    "proveit.defaults.inline_pngs = False # Makes files smaller.\n",
    "%load_expr # Load the stored expression as 'stored_expr'\n",
    "# import Expression classes needed to build the expression\n",
    "from proveit import b\n",
    "from proveit.core_expr_types import a_1_to_i, c_1_to_j\n",
    "from proveit.logic import Forall, InSet\n",
    "from proveit.numbers import Add, IntegerNeg, IntegerNonPos, Less, zero"
   ]
  },
  {
   "cell_type": "code",
   "execution_count": 2,
   "metadata": {},
   "outputs": [
    {
     "data": {
      "text/html": [
       "<strong id=\"expr\">expr:</strong> <a class=\"ProveItLink\" href=\"expr.ipynb\"><img src=\"expr.png\" style=\"display:inline;vertical-align:middle;\" /></a><br>"
      ],
      "text/plain": [
       "<IPython.core.display.HTML object>"
      ]
     },
     "metadata": {},
     "output_type": "display_data"
    }
   ],
   "source": [
    "# build up the expression from sub-expressions\n",
    "expr = Forall(instance_param_or_params = [a_1_to_i, b, c_1_to_j], instance_expr = InSet(Add(a_1_to_i, b, c_1_to_j), IntegerNeg), domain = IntegerNonPos, condition = Less(b, zero))"
   ]
  },
  {
   "cell_type": "code",
   "execution_count": 3,
   "metadata": {},
   "outputs": [
    {
     "name": "stdout",
     "output_type": "stream",
     "text": [
      "Passed sanity check: expr matches stored_expr\n"
     ]
    }
   ],
   "source": [
    "# check that the built expression is the same as the stored expression\n",
    "assert expr == stored_expr\n",
    "assert expr._style_id == stored_expr._style_id\n",
    "print(\"Passed sanity check: expr matches stored_expr\")"
   ]
  },
  {
   "cell_type": "code",
   "execution_count": 4,
   "metadata": {},
   "outputs": [
    {
     "name": "stdout",
     "output_type": "stream",
     "text": [
      "\\forall_{a_{1}, a_{2}, \\ldots, a_{i}, b, c_{1}, c_{2}, \\ldots, c_{j} \\in \\mathbb{Z}^{\\leq 0}~|~b < 0}~\\left(\\left(a_{1} +  a_{2} +  \\ldots +  a_{i} + b+ c_{1} +  c_{2} +  \\ldots +  c_{j}\\right) \\in \\mathbb{Z}^{-}\\right)\n"
     ]
    }
   ],
   "source": [
    "# Show the LaTeX representation of the expression for convenience if you need it.\n",
    "print(stored_expr.latex())"
   ]
  },
  {
   "cell_type": "code",
   "execution_count": 5,
   "metadata": {},
   "outputs": [
    {
     "data": {
      "text/html": [
       "<table>\n",
       "<tr><th>name</th><th>description</th><th>default</th><th>current value</th><th>related methods</th></tr><tr><td>with_wrapping</td><td>If 'True', wrap the Expression after the parameters</td><td>None</td><td>None/False</td><td>('with_wrapping',)</td></tr>\n",
       "<tr><td>condition_wrapping</td><td>Wrap 'before' or 'after' the condition (or None).</td><td>None</td><td>None/False</td><td>('with_wrap_after_condition', 'with_wrap_before_condition')</td></tr>\n",
       "<tr><td>wrap_params</td><td>If 'True', wraps every two parameters AND wraps the Expression after the parameters</td><td>None</td><td>None/False</td><td>('with_params',)</td></tr>\n",
       "<tr><td>justification</td><td>justify to the 'left', 'center', or 'right' in the array cells</td><td>center</td><td>center</td><td>('with_justification',)</td></tr>\n",
       "</table>\n"
      ],
      "text/plain": [
       "style name: with_wrapping\n",
       "description: If 'True', wrap the Expression after the parameters\n",
       "default: None\n",
       "current value: None/False\n",
       "related methods: ('with_wrapping',)\n",
       "style name: condition_wrapping\n",
       "description: Wrap 'before' or 'after' the condition (or None).\n",
       "default: None\n",
       "current value: None/False\n",
       "related methods: ('with_wrap_after_condition', 'with_wrap_before_condition')\n",
       "style name: wrap_params\n",
       "description: If 'True', wraps every two parameters AND wraps the Expression after the parameters\n",
       "default: None\n",
       "current value: None/False\n",
       "related methods: ('with_params',)\n",
       "style name: justification\n",
       "description: justify to the 'left', 'center', or 'right' in the array cells\n",
       "default: center\n",
       "current value: center\n",
       "related methods: ('with_justification',)"
      ]
     },
     "metadata": {},
     "output_type": "display_data"
    }
   ],
   "source": [
    "stored_expr.style_options()"
   ]
  },
  {
   "cell_type": "code",
   "execution_count": 6,
   "metadata": {},
   "outputs": [
    {
     "data": {
      "text/html": [
       "<table><tr><th>&nbsp;</th><th>core type</th><th>sub-expressions</th><th>expression</th></tr>\n",
       "<tr><td>0</td><td>Operation</td><td>operator:&nbsp;1<br>operand:&nbsp;3<br></td><td><a class=\"ProveItLink\" href=\"expr.ipynb\"><img src=\"expr.png\" style=\"display:inline;vertical-align:middle;\" /></a></td></tr>\n",
       "<tr><td>1</td><td>Literal</td><td></td><td><a class=\"ProveItLink\" href=\"../../../../../logic/booleans/quantification/universality/__pv_it/common/083d2baa0b8ecab1d230f9ec29a15aa1355809fb0/expr.ipynb\"><img src=\"../../../../../logic/booleans/quantification/universality/__pv_it/common/083d2baa0b8ecab1d230f9ec29a15aa1355809fb0/expr.png\" style=\"display:inline;vertical-align:middle;\" /></a></td></tr>\n",
       "<tr><td>2</td><td>ExprTuple</td><td>3</td><td><a class=\"ProveItLink\" href=\"../fd6b10312b800e21e931b66f52543712f16b114f0/expr.ipynb\"><img src=\"../fd6b10312b800e21e931b66f52543712f16b114f0/expr.png\" style=\"display:inline;vertical-align:middle;\" /></a></td></tr>\n",
       "<tr><td>3</td><td>Lambda</td><td>parameters:&nbsp;17<br>body:&nbsp;4<br></td><td><a class=\"ProveItLink\" href=\"../fa4869f8e4374dcdb49e472009b183ef5398c26a0/expr.ipynb\"><img src=\"../fa4869f8e4374dcdb49e472009b183ef5398c26a0/expr.png\" style=\"display:inline;vertical-align:middle;\" /></a></td></tr>\n",
       "<tr><td>4</td><td>Conditional</td><td>value:&nbsp;5<br>condition:&nbsp;6<br></td><td><a class=\"ProveItLink\" href=\"../13a6500b93d322acddcc75640dd13859a18979b60/expr.ipynb\"><img src=\"../13a6500b93d322acddcc75640dd13859a18979b60/expr.png\" style=\"display:inline;vertical-align:middle;\" /></a></td></tr>\n",
       "<tr><td>5</td><td>Operation</td><td>operator:&nbsp;35<br>operands:&nbsp;7<br></td><td><a class=\"ProveItLink\" href=\"../8c21ddae34f076dbdc366fb518a74b7eea7cd6ff0/expr.ipynb\"><img src=\"../8c21ddae34f076dbdc366fb518a74b7eea7cd6ff0/expr.png\" style=\"display:inline;vertical-align:middle;\" /></a></td></tr>\n",
       "<tr><td>6</td><td>Operation</td><td>operator:&nbsp;8<br>operands:&nbsp;9<br></td><td><a class=\"ProveItLink\" href=\"../ddb7b662cbe77143a5f830baabf62b9b9a6a16690/expr.ipynb\"><img src=\"../ddb7b662cbe77143a5f830baabf62b9b9a6a16690/expr.png\" style=\"display:inline;vertical-align:middle;\" /></a></td></tr>\n",
       "<tr><td>7</td><td>ExprTuple</td><td>10, 11</td><td><a class=\"ProveItLink\" href=\"../596a3b8e7d1627a7d769e01a2d8b741d47552fee0/expr.ipynb\"><img src=\"../596a3b8e7d1627a7d769e01a2d8b741d47552fee0/expr.png\" style=\"display:inline;vertical-align:middle;\" /></a></td></tr>\n",
       "<tr><td>8</td><td>Literal</td><td></td><td><a class=\"ProveItLink\" href=\"../../../../../logic/booleans/conjunction/__pv_it/common/42118ff318bd65d98b1393f64ce7c2269feef76e0/expr.ipynb\"><img src=\"../../../../../logic/booleans/conjunction/__pv_it/common/42118ff318bd65d98b1393f64ce7c2269feef76e0/expr.png\" style=\"display:inline;vertical-align:middle;\" /></a></td></tr>\n",
       "<tr><td>9</td><td>ExprTuple</td><td>12, 13, 14, 15</td><td><a class=\"ProveItLink\" href=\"../cacec6c5dda4652c4bdbc52d604d9b8f00c389a90/expr.ipynb\"><img src=\"../cacec6c5dda4652c4bdbc52d604d9b8f00c389a90/expr.png\" style=\"display:inline;vertical-align:middle;\" /></a></td></tr>\n",
       "<tr><td>10</td><td>Operation</td><td>operator:&nbsp;16<br>operands:&nbsp;17<br></td><td><a class=\"ProveItLink\" href=\"../219a4871a33df7e94921f69ec15c765af99a32930/expr.ipynb\"><img src=\"../219a4871a33df7e94921f69ec15c765af99a32930/expr.png\" style=\"display:inline;vertical-align:middle;\" /></a></td></tr>\n",
       "<tr><td>11</td><td>Literal</td><td></td><td><a class=\"ProveItLink\" href=\"../../../../number_sets/integers/__pv_it/common/10351cb496c4f8d93f519e6e5ea45196220732110/expr.ipynb\"><img src=\"../../../../number_sets/integers/__pv_it/common/10351cb496c4f8d93f519e6e5ea45196220732110/expr.png\" style=\"display:inline;vertical-align:middle;\" /></a></td></tr>\n",
       "<tr><td>12</td><td>ExprRange</td><td>lambda_map:&nbsp;18<br>start_index:&nbsp;32<br>end_index:&nbsp;30<br></td><td><a class=\"ProveItLink\" href=\"../1c9f32c579bb6ce64a948cfcbe9af0f27d5bf9740/expr.ipynb\"><img src=\"../1c9f32c579bb6ce64a948cfcbe9af0f27d5bf9740/expr.png\" style=\"display:inline;vertical-align:middle;\" /></a></td></tr>\n",
       "<tr><td>13</td><td>Operation</td><td>operator:&nbsp;35<br>operands:&nbsp;19<br></td><td><a class=\"ProveItLink\" href=\"../fd51057557502c353e333dab1efc540aa0074c4c0/expr.ipynb\"><img src=\"../fd51057557502c353e333dab1efc540aa0074c4c0/expr.png\" style=\"display:inline;vertical-align:middle;\" /></a></td></tr>\n",
       "<tr><td>14</td><td>ExprRange</td><td>lambda_map:&nbsp;20<br>start_index:&nbsp;32<br>end_index:&nbsp;33<br></td><td><a class=\"ProveItLink\" href=\"../b096fdb642f32ac530871e278ed20fc7f25711a30/expr.ipynb\"><img src=\"../b096fdb642f32ac530871e278ed20fc7f25711a30/expr.png\" style=\"display:inline;vertical-align:middle;\" /></a></td></tr>\n",
       "<tr><td>15</td><td>Operation</td><td>operator:&nbsp;21<br>operands:&nbsp;22<br></td><td><a class=\"ProveItLink\" href=\"../937b5f9529b96e9512f5cd5d8bb64bf7384a4e610/expr.ipynb\"><img src=\"../937b5f9529b96e9512f5cd5d8bb64bf7384a4e610/expr.png\" style=\"display:inline;vertical-align:middle;\" /></a></td></tr>\n",
       "<tr><td>16</td><td>Literal</td><td></td><td><a class=\"ProveItLink\" href=\"../../common/4b7effaab3619a1c2c38fe2dee8601df8ec714590/expr.ipynb\"><img src=\"../../common/4b7effaab3619a1c2c38fe2dee8601df8ec714590/expr.png\" style=\"display:inline;vertical-align:middle;\" /></a></td></tr>\n",
       "<tr><td>17</td><td>ExprTuple</td><td>23, 27, 24</td><td><a class=\"ProveItLink\" href=\"../d84a0b397d95592bd7106c405306a567e64b1ad30/expr.ipynb\"><img src=\"../d84a0b397d95592bd7106c405306a567e64b1ad30/expr.png\" style=\"display:inline;vertical-align:middle;\" /></a></td></tr>\n",
       "<tr><td>18</td><td>Lambda</td><td>parameter:&nbsp;43<br>body:&nbsp;25<br></td><td><a class=\"ProveItLink\" href=\"../e7654ca89d5ce81646b7479538e517b100239cce0/expr.ipynb\"><img src=\"../e7654ca89d5ce81646b7479538e517b100239cce0/expr.png\" style=\"display:inline;vertical-align:middle;\" /></a></td></tr>\n",
       "<tr><td>19</td><td>ExprTuple</td><td>27, 39</td><td><a class=\"ProveItLink\" href=\"../b1915c59332347538b6f208b3b57ee8060ffe0570/expr.ipynb\"><img src=\"../b1915c59332347538b6f208b3b57ee8060ffe0570/expr.png\" style=\"display:inline;vertical-align:middle;\" /></a></td></tr>\n",
       "<tr><td>20</td><td>Lambda</td><td>parameter:&nbsp;43<br>body:&nbsp;26<br></td><td><a class=\"ProveItLink\" href=\"../7ee320219ba33e83a847baf758281cef24dd26580/expr.ipynb\"><img src=\"../7ee320219ba33e83a847baf758281cef24dd26580/expr.png\" style=\"display:inline;vertical-align:middle;\" /></a></td></tr>\n",
       "<tr><td>21</td><td>Literal</td><td></td><td><a class=\"ProveItLink\" href=\"../../../../ordering/__pv_it/common/fa503ed52033522c609eef1cf3e1b45796489da50/expr.ipynb\"><img src=\"../../../../ordering/__pv_it/common/fa503ed52033522c609eef1cf3e1b45796489da50/expr.png\" style=\"display:inline;vertical-align:middle;\" /></a></td></tr>\n",
       "<tr><td>22</td><td>ExprTuple</td><td>27, 28</td><td><a class=\"ProveItLink\" href=\"../714d61b82b53d478c6f5e033e3a508b8ceb0cf280/expr.ipynb\"><img src=\"../714d61b82b53d478c6f5e033e3a508b8ceb0cf280/expr.png\" style=\"display:inline;vertical-align:middle;\" /></a></td></tr>\n",
       "<tr><td>23</td><td>ExprRange</td><td>lambda_map:&nbsp;29<br>start_index:&nbsp;32<br>end_index:&nbsp;30<br></td><td><a class=\"ProveItLink\" href=\"../../../../../core_expr_types/__pv_it/common/7230c683fcd56948c826ac1be71b01b6fb2913950/expr.ipynb\"><img src=\"../../../../../core_expr_types/__pv_it/common/7230c683fcd56948c826ac1be71b01b6fb2913950/expr.png\" style=\"display:inline;vertical-align:middle;\" /></a></td></tr>\n",
       "<tr><td>24</td><td>ExprRange</td><td>lambda_map:&nbsp;31<br>start_index:&nbsp;32<br>end_index:&nbsp;33<br></td><td><a class=\"ProveItLink\" href=\"../../../../../core_expr_types/__pv_it/common/197f625500e1374c769a9a88f526b5b80f714d350/expr.ipynb\"><img src=\"../../../../../core_expr_types/__pv_it/common/197f625500e1374c769a9a88f526b5b80f714d350/expr.png\" style=\"display:inline;vertical-align:middle;\" /></a></td></tr>\n",
       "<tr><td>25</td><td>Operation</td><td>operator:&nbsp;35<br>operands:&nbsp;34<br></td><td><a class=\"ProveItLink\" href=\"../19c926024539e80d46ed4a05c6049363ee82e4350/expr.ipynb\"><img src=\"../19c926024539e80d46ed4a05c6049363ee82e4350/expr.png\" style=\"display:inline;vertical-align:middle;\" /></a></td></tr>\n",
       "<tr><td>26</td><td>Operation</td><td>operator:&nbsp;35<br>operands:&nbsp;36<br></td><td><a class=\"ProveItLink\" href=\"../c4eab090f378a85d7923120f6f981bd35a34d1570/expr.ipynb\"><img src=\"../c4eab090f378a85d7923120f6f981bd35a34d1570/expr.png\" style=\"display:inline;vertical-align:middle;\" /></a></td></tr>\n",
       "<tr><td>27</td><td>Variable</td><td></td><td><a class=\"ProveItLink\" href=\"../../../../../__pv_it/common/195236b98c6c564a75b5dbada74b173bc52d5c3e0/expr.ipynb\"><img src=\"../../../../../__pv_it/common/195236b98c6c564a75b5dbada74b173bc52d5c3e0/expr.png\" style=\"display:inline;vertical-align:middle;\" /></a></td></tr>\n",
       "<tr><td>28</td><td>Literal</td><td></td><td><a class=\"ProveItLink\" href=\"../../../../numerals/__pv_it/common/dd4e19e8b134dfb293470ea55fe3589b0ab9f8040/expr.ipynb\"><img src=\"../../../../numerals/__pv_it/common/dd4e19e8b134dfb293470ea55fe3589b0ab9f8040/expr.png\" style=\"display:inline;vertical-align:middle;\" /></a></td></tr>\n",
       "<tr><td>29</td><td>Lambda</td><td>parameter:&nbsp;43<br>body:&nbsp;37<br></td><td><a class=\"ProveItLink\" href=\"../../../../../core_expr_types/__pv_it/common/1527ad383e12f9c6ed6b371c9a7dd1892d80da1b0/expr.ipynb\"><img src=\"../../../../../core_expr_types/__pv_it/common/1527ad383e12f9c6ed6b371c9a7dd1892d80da1b0/expr.png\" style=\"display:inline;vertical-align:middle;\" /></a></td></tr>\n",
       "<tr><td>30</td><td>Variable</td><td></td><td><a class=\"ProveItLink\" href=\"../../../../../__pv_it/common/ae955345c83abf786c3aff8681cd5465beae262d0/expr.ipynb\"><img src=\"../../../../../__pv_it/common/ae955345c83abf786c3aff8681cd5465beae262d0/expr.png\" style=\"display:inline;vertical-align:middle;\" /></a></td></tr>\n",
       "<tr><td>31</td><td>Lambda</td><td>parameter:&nbsp;43<br>body:&nbsp;38<br></td><td><a class=\"ProveItLink\" href=\"../../../../../core_expr_types/__pv_it/common/89a29b5b02ce6c37577f6352274a3d503dcdde3e0/expr.ipynb\"><img src=\"../../../../../core_expr_types/__pv_it/common/89a29b5b02ce6c37577f6352274a3d503dcdde3e0/expr.png\" style=\"display:inline;vertical-align:middle;\" /></a></td></tr>\n",
       "<tr><td>32</td><td>Literal</td><td></td><td><a class=\"ProveItLink\" href=\"../../../../numerals/__pv_it/common/682157d4892d216d9e5626ed533aff9b56b9506e0/expr.ipynb\"><img src=\"../../../../numerals/__pv_it/common/682157d4892d216d9e5626ed533aff9b56b9506e0/expr.png\" style=\"display:inline;vertical-align:middle;\" /></a></td></tr>\n",
       "<tr><td>33</td><td>Variable</td><td></td><td><a class=\"ProveItLink\" href=\"../../../../../__pv_it/common/1ed21df18baca2f42b561a7ffbf30a2743d594650/expr.ipynb\"><img src=\"../../../../../__pv_it/common/1ed21df18baca2f42b561a7ffbf30a2743d594650/expr.png\" style=\"display:inline;vertical-align:middle;\" /></a></td></tr>\n",
       "<tr><td>34</td><td>ExprTuple</td><td>37, 39</td><td><a class=\"ProveItLink\" href=\"../f3202a95f902c6a0fa0d10ccfacd851e104656310/expr.ipynb\"><img src=\"../f3202a95f902c6a0fa0d10ccfacd851e104656310/expr.png\" style=\"display:inline;vertical-align:middle;\" /></a></td></tr>\n",
       "<tr><td>35</td><td>Literal</td><td></td><td><a class=\"ProveItLink\" href=\"../../../../../logic/sets/membership/__pv_it/common/477487d8796864d23d5810f83761435f25167f690/expr.ipynb\"><img src=\"../../../../../logic/sets/membership/__pv_it/common/477487d8796864d23d5810f83761435f25167f690/expr.png\" style=\"display:inline;vertical-align:middle;\" /></a></td></tr>\n",
       "<tr><td>36</td><td>ExprTuple</td><td>38, 39</td><td><a class=\"ProveItLink\" href=\"../46e29eb2415c91d5eb374d61a20aa5784af8ff600/expr.ipynb\"><img src=\"../46e29eb2415c91d5eb374d61a20aa5784af8ff600/expr.png\" style=\"display:inline;vertical-align:middle;\" /></a></td></tr>\n",
       "<tr><td>37</td><td>IndexedVar</td><td>variable:&nbsp;40<br>index:&nbsp;43<br></td><td><a class=\"ProveItLink\" href=\"../../../../../core_expr_types/__pv_it/common/3a62c13e156d62d52fe585fa37cc2172fcf685260/expr.ipynb\"><img src=\"../../../../../core_expr_types/__pv_it/common/3a62c13e156d62d52fe585fa37cc2172fcf685260/expr.png\" style=\"display:inline;vertical-align:middle;\" /></a></td></tr>\n",
       "<tr><td>38</td><td>IndexedVar</td><td>variable:&nbsp;41<br>index:&nbsp;43<br></td><td><a class=\"ProveItLink\" href=\"../../../../../core_expr_types/__pv_it/common/8ffbefe913f7c934b2e3a2a12315d5900822d9d00/expr.ipynb\"><img src=\"../../../../../core_expr_types/__pv_it/common/8ffbefe913f7c934b2e3a2a12315d5900822d9d00/expr.png\" style=\"display:inline;vertical-align:middle;\" /></a></td></tr>\n",
       "<tr><td>39</td><td>Literal</td><td></td><td><a class=\"ProveItLink\" href=\"../../../../number_sets/integers/__pv_it/common/911dadb7000e770357de5f618335e280f17f98600/expr.ipynb\"><img src=\"../../../../number_sets/integers/__pv_it/common/911dadb7000e770357de5f618335e280f17f98600/expr.png\" style=\"display:inline;vertical-align:middle;\" /></a></td></tr>\n",
       "<tr><td>40</td><td>Variable</td><td></td><td><a class=\"ProveItLink\" href=\"../../../../../__pv_it/common/c06c606ec12678c58933ac85412ecadc2ae28be60/expr.ipynb\"><img src=\"../../../../../__pv_it/common/c06c606ec12678c58933ac85412ecadc2ae28be60/expr.png\" style=\"display:inline;vertical-align:middle;\" /></a></td></tr>\n",
       "<tr><td>41</td><td>Variable</td><td></td><td><a class=\"ProveItLink\" href=\"../../../../../__pv_it/common/ceef4280a2f1cc604b455b54e735507244cc62cd0/expr.ipynb\"><img src=\"../../../../../__pv_it/common/ceef4280a2f1cc604b455b54e735507244cc62cd0/expr.png\" style=\"display:inline;vertical-align:middle;\" /></a></td></tr>\n",
       "<tr><td>42</td><td>ExprTuple</td><td>43</td><td><a class=\"ProveItLink\" href=\"../../../../../core_expr_types/__pv_it/common/4b0dd6be36d76552eda6a95d5b4a27f5a5b62f900/expr.ipynb\"><img src=\"../../../../../core_expr_types/__pv_it/common/4b0dd6be36d76552eda6a95d5b4a27f5a5b62f900/expr.png\" style=\"display:inline;vertical-align:middle;\" /></a></td></tr>\n",
       "<tr><td>43</td><td>Variable</td><td></td><td><a class=\"ProveItLink\" href=\"../../../../../core_expr_types/__pv_it/common/006c465e50948aa2b52285e2de47974f741255cc0/expr.ipynb\"><img src=\"../../../../../core_expr_types/__pv_it/common/006c465e50948aa2b52285e2de47974f741255cc0/expr.png\" style=\"display:inline;vertical-align:middle;\" /></a></td></tr>\n",
       "</table>\n"
      ],
      "text/plain": [
       "0. forall_{a_{1}, a_{2}, ..., a_{i}, b, c_{1}, c_{2}, ..., c_{j} in IntegerNonPos | b < 0} ((a_{1} +  a_{2} +  ... +  a_{i} + b+ c_{1} +  c_{2} +  ... +  c_{j}) in IntegerNeg)\n",
       "   core type: Operation\n",
       "   operator: 1\n",
       "   operand: 3\n",
       "1. forall\n",
       "   core type: Literal\n",
       "   sub-expressions: \n",
       "2. ((a_{1}, a_{2}, ..., a_{i}, b, c_{1}, c_{2}, ..., c_{j}) -> {(a_{1} +  a_{2} +  ... +  a_{i} + b+ c_{1} +  c_{2} +  ... +  c_{j}) in IntegerNeg if (a_{1} in IntegerNonPos) ,  (a_{2} in IntegerNonPos) ,  ... ,  (a_{i} in IntegerNonPos) ,  b in IntegerNonPos, (c_{1} in IntegerNonPos) ,  (c_{2} in IntegerNonPos) ,  ... ,  (c_{j} in IntegerNonPos) ,  b < 0.)\n",
       "   core type: ExprTuple\n",
       "   sub-expressions: 3\n",
       "3. (a_{1}, a_{2}, ..., a_{i}, b, c_{1}, c_{2}, ..., c_{j}) -> {(a_{1} +  a_{2} +  ... +  a_{i} + b+ c_{1} +  c_{2} +  ... +  c_{j}) in IntegerNeg if (a_{1} in IntegerNonPos) ,  (a_{2} in IntegerNonPos) ,  ... ,  (a_{i} in IntegerNonPos) ,  b in IntegerNonPos, (c_{1} in IntegerNonPos) ,  (c_{2} in IntegerNonPos) ,  ... ,  (c_{j} in IntegerNonPos) ,  b < 0.\n",
       "   core type: Lambda\n",
       "   parameters: 17\\n   body: 4\n",
       "4. {(a_{1} +  a_{2} +  ... +  a_{i} + b+ c_{1} +  c_{2} +  ... +  c_{j}) in IntegerNeg if (a_{1} in IntegerNonPos) ,  (a_{2} in IntegerNonPos) ,  ... ,  (a_{i} in IntegerNonPos) ,  b in IntegerNonPos, (c_{1} in IntegerNonPos) ,  (c_{2} in IntegerNonPos) ,  ... ,  (c_{j} in IntegerNonPos) ,  b < 0.\n",
       "   core type: Conditional\n",
       "   value: 5\n",
       "   condition: 6\n",
       "5. (a_{1} +  a_{2} +  ... +  a_{i} + b+ c_{1} +  c_{2} +  ... +  c_{j}) in IntegerNeg\n",
       "   core type: Operation\n",
       "   operator: 35\n",
       "   operands: 7\n",
       "6. (a_{1} in IntegerNonPos) and  (a_{2} in IntegerNonPos) and  ... and  (a_{i} in IntegerNonPos) and (b in IntegerNonPos)and (c_{1} in IntegerNonPos) and  (c_{2} in IntegerNonPos) and  ... and  (c_{j} in IntegerNonPos) and (b < 0)\n",
       "   core type: Operation\n",
       "   operator: 8\n",
       "   operands: 9\n",
       "7. (a_{1} +  a_{2} +  ... +  a_{i} + b+ c_{1} +  c_{2} +  ... +  c_{j}, IntegerNeg)\n",
       "   core type: ExprTuple\n",
       "   sub-expressions: 10, 11\n",
       "8. and\n",
       "   core type: Literal\n",
       "   sub-expressions: \n",
       "9. ((a_{1} in IntegerNonPos), (a_{2} in IntegerNonPos), ..., (a_{i} in IntegerNonPos), b in IntegerNonPos,(c_{1} in IntegerNonPos), (c_{2} in IntegerNonPos), ..., (c_{j} in IntegerNonPos), b < 0)\n",
       "   core type: ExprTuple\n",
       "   sub-expressions: 12, 13, 14, 15\n",
       "10. a_{1} +  a_{2} +  ... +  a_{i} + b+ c_{1} +  c_{2} +  ... +  c_{j}\n",
       "    core type: Operation\n",
       "    operator: 16\n",
       "    operands: 17\n",
       "11. IntegerNeg\n",
       "    core type: Literal\n",
       "    sub-expressions: \n",
       "12. (a_{1} in IntegerNonPos), (a_{2} in IntegerNonPos), ..., (a_{i} in IntegerNonPos)\n",
       "    core type: ExprRange\n",
       "    lambda_map: 18\n",
       "    start_index: 32\n",
       "    end_index: 30\n",
       "13. b in IntegerNonPos\n",
       "    core type: Operation\n",
       "    operator: 35\n",
       "    operands: 19\n",
       "14. (c_{1} in IntegerNonPos), (c_{2} in IntegerNonPos), ..., (c_{j} in IntegerNonPos)\n",
       "    core type: ExprRange\n",
       "    lambda_map: 20\n",
       "    start_index: 32\n",
       "    end_index: 33\n",
       "15. b < 0\n",
       "    core type: Operation\n",
       "    operator: 21\n",
       "    operands: 22\n",
       "16. +\n",
       "    core type: Literal\n",
       "    sub-expressions: \n",
       "17. (a_{1}, a_{2}, ..., a_{i}, b,c_{1}, c_{2}, ..., c_{j})\n",
       "    core type: ExprTuple\n",
       "    sub-expressions: 23, 27, 24\n",
       "18. _a -> (a_{_a} in IntegerNonPos)\n",
       "    core type: Lambda\n",
       "    parameter: 43\n",
       "    body: 25\n",
       "19. (b, IntegerNonPos)\n",
       "    core type: ExprTuple\n",
       "    sub-expressions: 27, 39\n",
       "20. _a -> (c_{_a} in IntegerNonPos)\n",
       "    core type: Lambda\n",
       "    parameter: 43\n",
       "    body: 26\n",
       "21. <\n",
       "    core type: Literal\n",
       "    sub-expressions: \n",
       "22. (b, 0)\n",
       "    core type: ExprTuple\n",
       "    sub-expressions: 27, 28\n",
       "23. a_{1}, a_{2}, ..., a_{i}\n",
       "    core type: ExprRange\n",
       "    lambda_map: 29\n",
       "    start_index: 32\n",
       "    end_index: 30\n",
       "24. c_{1}, c_{2}, ..., c_{j}\n",
       "    core type: ExprRange\n",
       "    lambda_map: 31\n",
       "    start_index: 32\n",
       "    end_index: 33\n",
       "25. a_{_a} in IntegerNonPos\n",
       "    core type: Operation\n",
       "    operator: 35\n",
       "    operands: 34\n",
       "26. c_{_a} in IntegerNonPos\n",
       "    core type: Operation\n",
       "    operator: 35\n",
       "    operands: 36\n",
       "27. b\n",
       "    core type: Variable\n",
       "    sub-expressions: \n",
       "28. 0\n",
       "    core type: Literal\n",
       "    sub-expressions: \n",
       "29. _a -> a_{_a}\n",
       "    core type: Lambda\n",
       "    parameter: 43\n",
       "    body: 37\n",
       "30. i\n",
       "    core type: Variable\n",
       "    sub-expressions: \n",
       "31. _a -> c_{_a}\n",
       "    core type: Lambda\n",
       "    parameter: 43\n",
       "    body: 38\n",
       "32. 1\n",
       "    core type: Literal\n",
       "    sub-expressions: \n",
       "33. j\n",
       "    core type: Variable\n",
       "    sub-expressions: \n",
       "34. (a_{_a}, IntegerNonPos)\n",
       "    core type: ExprTuple\n",
       "    sub-expressions: 37, 39\n",
       "35. in\n",
       "    core type: Literal\n",
       "    sub-expressions: \n",
       "36. (c_{_a}, IntegerNonPos)\n",
       "    core type: ExprTuple\n",
       "    sub-expressions: 38, 39\n",
       "37. a_{_a}\n",
       "    core type: IndexedVar\n",
       "variable: 40\n",
       "index: 43\n",
       "38. c_{_a}\n",
       "    core type: IndexedVar\n",
       "variable: 41\n",
       "index: 43\n",
       "39. IntegerNonPos\n",
       "    core type: Literal\n",
       "    sub-expressions: \n",
       "40. a\n",
       "    core type: Variable\n",
       "    sub-expressions: \n",
       "41. c\n",
       "    core type: Variable\n",
       "    sub-expressions: \n",
       "42. (_a)\n",
       "    core type: ExprTuple\n",
       "    sub-expressions: 43\n",
       "43. _a\n",
       "    core type: Variable\n",
       "    sub-expressions: "
      ]
     },
     "metadata": {},
     "output_type": "display_data"
    }
   ],
   "source": [
    "# display the expression information\n",
    "stored_expr.expr_info()"
   ]
  },
  {
   "cell_type": "code",
   "execution_count": null,
   "metadata": {},
   "outputs": [],
   "source": []
  }
 ],
 "metadata": {
  "kernelspec": {
   "display_name": "Python 3",
   "language": "python",
   "name": "python3"
  }
 },
 "nbformat": 4,
 "nbformat_minor": 0
}