{
 "cells": [
  {
   "cell_type": "markdown",
   "metadata": {},
   "source": [
    "Expression of type <a class=\"ProveItLink\" href=\"../../../../../../../doc/html/api/proveit.Lambda.html\">Lambda</a>\n",
    "=======================\n",
    "# from the theory of <a class=\"ProveItLink\" href=\"../../../_theory_nbs_/theory.ipynb\">proveit.numbers.addition</a>"
   ]
  },
  {
   "cell_type": "code",
   "execution_count": 1,
   "metadata": {},
   "outputs": [],
   "source": [
    "import proveit\n",
    "# Automation is not needed when building an expression:\n",
    "proveit.defaults.automation = False # This will speed things up.\n",
    "proveit.defaults.inline_pngs = False # Makes files smaller.\n",
    "%load_expr # Load the stored expression as 'stored_expr'\n",
    "# import Expression classes needed to build the expression\n",
    "from proveit import Conditional, ExprRange, IndexedVar, Lambda, Variable, a, b, c, i, j\n",
    "from proveit.core_expr_types import a_1_to_i, c_1_to_j\n",
    "from proveit.logic import And, InSet\n",
    "from proveit.numbers import Add, IntegerNeg, IntegerNonPos, Less, one, zero"
   ]
  },
  {
   "cell_type": "code",
   "execution_count": 2,
   "metadata": {},
   "outputs": [
    {
     "data": {
      "text/html": [
       "<strong id=\"expr\">expr:</strong> <a class=\"ProveItLink\" href=\"expr.ipynb\"><img src=\"expr.png\" style=\"display:inline;vertical-align:middle;\" /></a><br>"
      ],
      "text/plain": [
       "<IPython.core.display.HTML object>"
      ]
     },
     "metadata": {},
     "output_type": "display_data"
    }
   ],
   "source": [
    "# build up the expression from sub-expressions\n",
    "sub_expr1 = Variable(\"_a\", latex_format = r\"{_{-}a}\")\n",
    "expr = Lambda([a_1_to_i, b, c_1_to_j], Conditional(InSet(Add(a_1_to_i, b, c_1_to_j), IntegerNeg), And(ExprRange(sub_expr1, InSet(IndexedVar(a, sub_expr1), IntegerNonPos), one, i), InSet(b, IntegerNonPos), ExprRange(sub_expr1, InSet(IndexedVar(c, sub_expr1), IntegerNonPos), one, j), Less(b, zero))))"
   ]
  },
  {
   "cell_type": "code",
   "execution_count": 3,
   "metadata": {},
   "outputs": [
    {
     "name": "stdout",
     "output_type": "stream",
     "text": [
      "Passed sanity check: expr matches stored_expr\n"
     ]
    }
   ],
   "source": [
    "# check that the built expression is the same as the stored expression\n",
    "assert expr == stored_expr\n",
    "assert expr._style_id == stored_expr._style_id\n",
    "print(\"Passed sanity check: expr matches stored_expr\")"
   ]
  },
  {
   "cell_type": "code",
   "execution_count": 4,
   "metadata": {},
   "outputs": [
    {
     "name": "stdout",
     "output_type": "stream",
     "text": [
      "\\left(a_{1}, a_{2}, \\ldots, a_{i}, b, c_{1}, c_{2}, \\ldots, c_{j}\\right) \\mapsto \\left\\{\\left(a_{1} +  a_{2} +  \\ldots +  a_{i} + b+ c_{1} +  c_{2} +  \\ldots +  c_{j}\\right) \\in \\mathbb{Z}^{-} \\textrm{ if } \\left(a_{1} \\in \\mathbb{Z}^{\\leq 0}\\right) ,  \\left(a_{2} \\in \\mathbb{Z}^{\\leq 0}\\right) ,  \\ldots ,  \\left(a_{i} \\in \\mathbb{Z}^{\\leq 0}\\right) ,  b \\in \\mathbb{Z}^{\\leq 0}, \\left(c_{1} \\in \\mathbb{Z}^{\\leq 0}\\right) ,  \\left(c_{2} \\in \\mathbb{Z}^{\\leq 0}\\right) ,  \\ldots ,  \\left(c_{j} \\in \\mathbb{Z}^{\\leq 0}\\right) ,  b < 0\\right..\n"
     ]
    }
   ],
   "source": [
    "# Show the LaTeX representation of the expression for convenience if you need it.\n",
    "print(stored_expr.latex())"
   ]
  },
  {
   "cell_type": "code",
   "execution_count": 5,
   "metadata": {},
   "outputs": [
    {
     "data": {
      "text/html": [
       "no style options"
      ],
      "text/plain": [
       "no style options"
      ]
     },
     "metadata": {},
     "output_type": "display_data"
    }
   ],
   "source": [
    "stored_expr.style_options()"
   ]
  },
  {
   "cell_type": "code",
   "execution_count": 6,
   "metadata": {},
   "outputs": [
    {
     "data": {
      "text/html": [
       "<table><tr><th>&nbsp;</th><th>core type</th><th>sub-expressions</th><th>expression</th></tr>\n",
       "<tr><td>0</td><td>Lambda</td><td>parameters:&nbsp;14<br>body:&nbsp;1<br></td><td><a class=\"ProveItLink\" href=\"expr.ipynb\"><img src=\"expr.png\" style=\"display:inline;vertical-align:middle;\" /></a></td></tr>\n",
       "<tr><td>1</td><td>Conditional</td><td>value:&nbsp;2<br>condition:&nbsp;3<br></td><td><a class=\"ProveItLink\" href=\"../13a6500b93d322acddcc75640dd13859a18979b60/expr.ipynb\"><img src=\"../13a6500b93d322acddcc75640dd13859a18979b60/expr.png\" style=\"display:inline;vertical-align:middle;\" /></a></td></tr>\n",
       "<tr><td>2</td><td>Operation</td><td>operator:&nbsp;32<br>operands:&nbsp;4<br></td><td><a class=\"ProveItLink\" href=\"../8c21ddae34f076dbdc366fb518a74b7eea7cd6ff0/expr.ipynb\"><img src=\"../8c21ddae34f076dbdc366fb518a74b7eea7cd6ff0/expr.png\" style=\"display:inline;vertical-align:middle;\" /></a></td></tr>\n",
       "<tr><td>3</td><td>Operation</td><td>operator:&nbsp;5<br>operands:&nbsp;6<br></td><td><a class=\"ProveItLink\" href=\"../ddb7b662cbe77143a5f830baabf62b9b9a6a16690/expr.ipynb\"><img src=\"../ddb7b662cbe77143a5f830baabf62b9b9a6a16690/expr.png\" style=\"display:inline;vertical-align:middle;\" /></a></td></tr>\n",
       "<tr><td>4</td><td>ExprTuple</td><td>7, 8</td><td><a class=\"ProveItLink\" href=\"../596a3b8e7d1627a7d769e01a2d8b741d47552fee0/expr.ipynb\"><img src=\"../596a3b8e7d1627a7d769e01a2d8b741d47552fee0/expr.png\" style=\"display:inline;vertical-align:middle;\" /></a></td></tr>\n",
       "<tr><td>5</td><td>Literal</td><td></td><td><a class=\"ProveItLink\" href=\"../../../../../logic/booleans/conjunction/__pv_it/common/42118ff318bd65d98b1393f64ce7c2269feef76e0/expr.ipynb\"><img src=\"../../../../../logic/booleans/conjunction/__pv_it/common/42118ff318bd65d98b1393f64ce7c2269feef76e0/expr.png\" style=\"display:inline;vertical-align:middle;\" /></a></td></tr>\n",
       "<tr><td>6</td><td>ExprTuple</td><td>9, 10, 11, 12</td><td><a class=\"ProveItLink\" href=\"../cacec6c5dda4652c4bdbc52d604d9b8f00c389a90/expr.ipynb\"><img src=\"../cacec6c5dda4652c4bdbc52d604d9b8f00c389a90/expr.png\" style=\"display:inline;vertical-align:middle;\" /></a></td></tr>\n",
       "<tr><td>7</td><td>Operation</td><td>operator:&nbsp;13<br>operands:&nbsp;14<br></td><td><a class=\"ProveItLink\" href=\"../219a4871a33df7e94921f69ec15c765af99a32930/expr.ipynb\"><img src=\"../219a4871a33df7e94921f69ec15c765af99a32930/expr.png\" style=\"display:inline;vertical-align:middle;\" /></a></td></tr>\n",
       "<tr><td>8</td><td>Literal</td><td></td><td><a class=\"ProveItLink\" href=\"../../../../number_sets/integers/__pv_it/common/10351cb496c4f8d93f519e6e5ea45196220732110/expr.ipynb\"><img src=\"../../../../number_sets/integers/__pv_it/common/10351cb496c4f8d93f519e6e5ea45196220732110/expr.png\" style=\"display:inline;vertical-align:middle;\" /></a></td></tr>\n",
       "<tr><td>9</td><td>ExprRange</td><td>lambda_map:&nbsp;15<br>start_index:&nbsp;29<br>end_index:&nbsp;27<br></td><td><a class=\"ProveItLink\" href=\"../1c9f32c579bb6ce64a948cfcbe9af0f27d5bf9740/expr.ipynb\"><img src=\"../1c9f32c579bb6ce64a948cfcbe9af0f27d5bf9740/expr.png\" style=\"display:inline;vertical-align:middle;\" /></a></td></tr>\n",
       "<tr><td>10</td><td>Operation</td><td>operator:&nbsp;32<br>operands:&nbsp;16<br></td><td><a class=\"ProveItLink\" href=\"../fd51057557502c353e333dab1efc540aa0074c4c0/expr.ipynb\"><img src=\"../fd51057557502c353e333dab1efc540aa0074c4c0/expr.png\" style=\"display:inline;vertical-align:middle;\" /></a></td></tr>\n",
       "<tr><td>11</td><td>ExprRange</td><td>lambda_map:&nbsp;17<br>start_index:&nbsp;29<br>end_index:&nbsp;30<br></td><td><a class=\"ProveItLink\" href=\"../b096fdb642f32ac530871e278ed20fc7f25711a30/expr.ipynb\"><img src=\"../b096fdb642f32ac530871e278ed20fc7f25711a30/expr.png\" style=\"display:inline;vertical-align:middle;\" /></a></td></tr>\n",
       "<tr><td>12</td><td>Operation</td><td>operator:&nbsp;18<br>operands:&nbsp;19<br></td><td><a class=\"ProveItLink\" href=\"../937b5f9529b96e9512f5cd5d8bb64bf7384a4e610/expr.ipynb\"><img src=\"../937b5f9529b96e9512f5cd5d8bb64bf7384a4e610/expr.png\" style=\"display:inline;vertical-align:middle;\" /></a></td></tr>\n",
       "<tr><td>13</td><td>Literal</td><td></td><td><a class=\"ProveItLink\" href=\"../../common/4b7effaab3619a1c2c38fe2dee8601df8ec714590/expr.ipynb\"><img src=\"../../common/4b7effaab3619a1c2c38fe2dee8601df8ec714590/expr.png\" style=\"display:inline;vertical-align:middle;\" /></a></td></tr>\n",
       "<tr><td>14</td><td>ExprTuple</td><td>20, 24, 21</td><td><a class=\"ProveItLink\" href=\"../d84a0b397d95592bd7106c405306a567e64b1ad30/expr.ipynb\"><img src=\"../d84a0b397d95592bd7106c405306a567e64b1ad30/expr.png\" style=\"display:inline;vertical-align:middle;\" /></a></td></tr>\n",
       "<tr><td>15</td><td>Lambda</td><td>parameter:&nbsp;40<br>body:&nbsp;22<br></td><td><a class=\"ProveItLink\" href=\"../e7654ca89d5ce81646b7479538e517b100239cce0/expr.ipynb\"><img src=\"../e7654ca89d5ce81646b7479538e517b100239cce0/expr.png\" style=\"display:inline;vertical-align:middle;\" /></a></td></tr>\n",
       "<tr><td>16</td><td>ExprTuple</td><td>24, 36</td><td><a class=\"ProveItLink\" href=\"../b1915c59332347538b6f208b3b57ee8060ffe0570/expr.ipynb\"><img src=\"../b1915c59332347538b6f208b3b57ee8060ffe0570/expr.png\" style=\"display:inline;vertical-align:middle;\" /></a></td></tr>\n",
       "<tr><td>17</td><td>Lambda</td><td>parameter:&nbsp;40<br>body:&nbsp;23<br></td><td><a class=\"ProveItLink\" href=\"../7ee320219ba33e83a847baf758281cef24dd26580/expr.ipynb\"><img src=\"../7ee320219ba33e83a847baf758281cef24dd26580/expr.png\" style=\"display:inline;vertical-align:middle;\" /></a></td></tr>\n",
       "<tr><td>18</td><td>Literal</td><td></td><td><a class=\"ProveItLink\" href=\"../../../../ordering/__pv_it/common/fa503ed52033522c609eef1cf3e1b45796489da50/expr.ipynb\"><img src=\"../../../../ordering/__pv_it/common/fa503ed52033522c609eef1cf3e1b45796489da50/expr.png\" style=\"display:inline;vertical-align:middle;\" /></a></td></tr>\n",
       "<tr><td>19</td><td>ExprTuple</td><td>24, 25</td><td><a class=\"ProveItLink\" href=\"../714d61b82b53d478c6f5e033e3a508b8ceb0cf280/expr.ipynb\"><img src=\"../714d61b82b53d478c6f5e033e3a508b8ceb0cf280/expr.png\" style=\"display:inline;vertical-align:middle;\" /></a></td></tr>\n",
       "<tr><td>20</td><td>ExprRange</td><td>lambda_map:&nbsp;26<br>start_index:&nbsp;29<br>end_index:&nbsp;27<br></td><td><a class=\"ProveItLink\" href=\"../../../../../core_expr_types/__pv_it/common/7230c683fcd56948c826ac1be71b01b6fb2913950/expr.ipynb\"><img src=\"../../../../../core_expr_types/__pv_it/common/7230c683fcd56948c826ac1be71b01b6fb2913950/expr.png\" style=\"display:inline;vertical-align:middle;\" /></a></td></tr>\n",
       "<tr><td>21</td><td>ExprRange</td><td>lambda_map:&nbsp;28<br>start_index:&nbsp;29<br>end_index:&nbsp;30<br></td><td><a class=\"ProveItLink\" href=\"../../../../../core_expr_types/__pv_it/common/197f625500e1374c769a9a88f526b5b80f714d350/expr.ipynb\"><img src=\"../../../../../core_expr_types/__pv_it/common/197f625500e1374c769a9a88f526b5b80f714d350/expr.png\" style=\"display:inline;vertical-align:middle;\" /></a></td></tr>\n",
       "<tr><td>22</td><td>Operation</td><td>operator:&nbsp;32<br>operands:&nbsp;31<br></td><td><a class=\"ProveItLink\" href=\"../19c926024539e80d46ed4a05c6049363ee82e4350/expr.ipynb\"><img src=\"../19c926024539e80d46ed4a05c6049363ee82e4350/expr.png\" style=\"display:inline;vertical-align:middle;\" /></a></td></tr>\n",
       "<tr><td>23</td><td>Operation</td><td>operator:&nbsp;32<br>operands:&nbsp;33<br></td><td><a class=\"ProveItLink\" href=\"../c4eab090f378a85d7923120f6f981bd35a34d1570/expr.ipynb\"><img src=\"../c4eab090f378a85d7923120f6f981bd35a34d1570/expr.png\" style=\"display:inline;vertical-align:middle;\" /></a></td></tr>\n",
       "<tr><td>24</td><td>Variable</td><td></td><td><a class=\"ProveItLink\" href=\"../../../../../__pv_it/common/195236b98c6c564a75b5dbada74b173bc52d5c3e0/expr.ipynb\"><img src=\"../../../../../__pv_it/common/195236b98c6c564a75b5dbada74b173bc52d5c3e0/expr.png\" style=\"display:inline;vertical-align:middle;\" /></a></td></tr>\n",
       "<tr><td>25</td><td>Literal</td><td></td><td><a class=\"ProveItLink\" href=\"../../../../numerals/__pv_it/common/dd4e19e8b134dfb293470ea55fe3589b0ab9f8040/expr.ipynb\"><img src=\"../../../../numerals/__pv_it/common/dd4e19e8b134dfb293470ea55fe3589b0ab9f8040/expr.png\" style=\"display:inline;vertical-align:middle;\" /></a></td></tr>\n",
       "<tr><td>26</td><td>Lambda</td><td>parameter:&nbsp;40<br>body:&nbsp;34<br></td><td><a class=\"ProveItLink\" href=\"../../../../../core_expr_types/__pv_it/common/1527ad383e12f9c6ed6b371c9a7dd1892d80da1b0/expr.ipynb\"><img src=\"../../../../../core_expr_types/__pv_it/common/1527ad383e12f9c6ed6b371c9a7dd1892d80da1b0/expr.png\" style=\"display:inline;vertical-align:middle;\" /></a></td></tr>\n",
       "<tr><td>27</td><td>Variable</td><td></td><td><a class=\"ProveItLink\" href=\"../../../../../__pv_it/common/ae955345c83abf786c3aff8681cd5465beae262d0/expr.ipynb\"><img src=\"../../../../../__pv_it/common/ae955345c83abf786c3aff8681cd5465beae262d0/expr.png\" style=\"display:inline;vertical-align:middle;\" /></a></td></tr>\n",
       "<tr><td>28</td><td>Lambda</td><td>parameter:&nbsp;40<br>body:&nbsp;35<br></td><td><a class=\"ProveItLink\" href=\"../../../../../core_expr_types/__pv_it/common/89a29b5b02ce6c37577f6352274a3d503dcdde3e0/expr.ipynb\"><img src=\"../../../../../core_expr_types/__pv_it/common/89a29b5b02ce6c37577f6352274a3d503dcdde3e0/expr.png\" style=\"display:inline;vertical-align:middle;\" /></a></td></tr>\n",
       "<tr><td>29</td><td>Literal</td><td></td><td><a class=\"ProveItLink\" href=\"../../../../numerals/__pv_it/common/682157d4892d216d9e5626ed533aff9b56b9506e0/expr.ipynb\"><img src=\"../../../../numerals/__pv_it/common/682157d4892d216d9e5626ed533aff9b56b9506e0/expr.png\" style=\"display:inline;vertical-align:middle;\" /></a></td></tr>\n",
       "<tr><td>30</td><td>Variable</td><td></td><td><a class=\"ProveItLink\" href=\"../../../../../__pv_it/common/1ed21df18baca2f42b561a7ffbf30a2743d594650/expr.ipynb\"><img src=\"../../../../../__pv_it/common/1ed21df18baca2f42b561a7ffbf30a2743d594650/expr.png\" style=\"display:inline;vertical-align:middle;\" /></a></td></tr>\n",
       "<tr><td>31</td><td>ExprTuple</td><td>34, 36</td><td><a class=\"ProveItLink\" href=\"../f3202a95f902c6a0fa0d10ccfacd851e104656310/expr.ipynb\"><img src=\"../f3202a95f902c6a0fa0d10ccfacd851e104656310/expr.png\" style=\"display:inline;vertical-align:middle;\" /></a></td></tr>\n",
       "<tr><td>32</td><td>Literal</td><td></td><td><a class=\"ProveItLink\" href=\"../../../../../logic/sets/membership/__pv_it/common/477487d8796864d23d5810f83761435f25167f690/expr.ipynb\"><img src=\"../../../../../logic/sets/membership/__pv_it/common/477487d8796864d23d5810f83761435f25167f690/expr.png\" style=\"display:inline;vertical-align:middle;\" /></a></td></tr>\n",
       "<tr><td>33</td><td>ExprTuple</td><td>35, 36</td><td><a class=\"ProveItLink\" href=\"../46e29eb2415c91d5eb374d61a20aa5784af8ff600/expr.ipynb\"><img src=\"../46e29eb2415c91d5eb374d61a20aa5784af8ff600/expr.png\" style=\"display:inline;vertical-align:middle;\" /></a></td></tr>\n",
       "<tr><td>34</td><td>IndexedVar</td><td>variable:&nbsp;37<br>index:&nbsp;40<br></td><td><a class=\"ProveItLink\" href=\"../../../../../core_expr_types/__pv_it/common/3a62c13e156d62d52fe585fa37cc2172fcf685260/expr.ipynb\"><img src=\"../../../../../core_expr_types/__pv_it/common/3a62c13e156d62d52fe585fa37cc2172fcf685260/expr.png\" style=\"display:inline;vertical-align:middle;\" /></a></td></tr>\n",
       "<tr><td>35</td><td>IndexedVar</td><td>variable:&nbsp;38<br>index:&nbsp;40<br></td><td><a class=\"ProveItLink\" href=\"../../../../../core_expr_types/__pv_it/common/8ffbefe913f7c934b2e3a2a12315d5900822d9d00/expr.ipynb\"><img src=\"../../../../../core_expr_types/__pv_it/common/8ffbefe913f7c934b2e3a2a12315d5900822d9d00/expr.png\" style=\"display:inline;vertical-align:middle;\" /></a></td></tr>\n",
       "<tr><td>36</td><td>Literal</td><td></td><td><a class=\"ProveItLink\" href=\"../../../../number_sets/integers/__pv_it/common/911dadb7000e770357de5f618335e280f17f98600/expr.ipynb\"><img src=\"../../../../number_sets/integers/__pv_it/common/911dadb7000e770357de5f618335e280f17f98600/expr.png\" style=\"display:inline;vertical-align:middle;\" /></a></td></tr>\n",
       "<tr><td>37</td><td>Variable</td><td></td><td><a class=\"ProveItLink\" href=\"../../../../../__pv_it/common/c06c606ec12678c58933ac85412ecadc2ae28be60/expr.ipynb\"><img src=\"../../../../../__pv_it/common/c06c606ec12678c58933ac85412ecadc2ae28be60/expr.png\" style=\"display:inline;vertical-align:middle;\" /></a></td></tr>\n",
       "<tr><td>38</td><td>Variable</td><td></td><td><a class=\"ProveItLink\" href=\"../../../../../__pv_it/common/ceef4280a2f1cc604b455b54e735507244cc62cd0/expr.ipynb\"><img src=\"../../../../../__pv_it/common/ceef4280a2f1cc604b455b54e735507244cc62cd0/expr.png\" style=\"display:inline;vertical-align:middle;\" /></a></td></tr>\n",
       "<tr><td>39</td><td>ExprTuple</td><td>40</td><td><a class=\"ProveItLink\" href=\"../../../../../core_expr_types/__pv_it/common/4b0dd6be36d76552eda6a95d5b4a27f5a5b62f900/expr.ipynb\"><img src=\"../../../../../core_expr_types/__pv_it/common/4b0dd6be36d76552eda6a95d5b4a27f5a5b62f900/expr.png\" style=\"display:inline;vertical-align:middle;\" /></a></td></tr>\n",
       "<tr><td>40</td><td>Variable</td><td></td><td><a class=\"ProveItLink\" href=\"../../../../../core_expr_types/__pv_it/common/006c465e50948aa2b52285e2de47974f741255cc0/expr.ipynb\"><img src=\"../../../../../core_expr_types/__pv_it/common/006c465e50948aa2b52285e2de47974f741255cc0/expr.png\" style=\"display:inline;vertical-align:middle;\" /></a></td></tr>\n",
       "</table>\n"
      ],
      "text/plain": [
       "0. (a_{1}, a_{2}, ..., a_{i}, b, c_{1}, c_{2}, ..., c_{j}) -> {(a_{1} +  a_{2} +  ... +  a_{i} + b+ c_{1} +  c_{2} +  ... +  c_{j}) in IntegerNeg if (a_{1} in IntegerNonPos) ,  (a_{2} in IntegerNonPos) ,  ... ,  (a_{i} in IntegerNonPos) ,  b in IntegerNonPos, (c_{1} in IntegerNonPos) ,  (c_{2} in IntegerNonPos) ,  ... ,  (c_{j} in IntegerNonPos) ,  b < 0.\n",
       "   core type: Lambda\n",
       "   parameters: 14\\n   body: 1\n",
       "1. {(a_{1} +  a_{2} +  ... +  a_{i} + b+ c_{1} +  c_{2} +  ... +  c_{j}) in IntegerNeg if (a_{1} in IntegerNonPos) ,  (a_{2} in IntegerNonPos) ,  ... ,  (a_{i} in IntegerNonPos) ,  b in IntegerNonPos, (c_{1} in IntegerNonPos) ,  (c_{2} in IntegerNonPos) ,  ... ,  (c_{j} in IntegerNonPos) ,  b < 0.\n",
       "   core type: Conditional\n",
       "   value: 2\n",
       "   condition: 3\n",
       "2. (a_{1} +  a_{2} +  ... +  a_{i} + b+ c_{1} +  c_{2} +  ... +  c_{j}) in IntegerNeg\n",
       "   core type: Operation\n",
       "   operator: 32\n",
       "   operands: 4\n",
       "3. (a_{1} in IntegerNonPos) and  (a_{2} in IntegerNonPos) and  ... and  (a_{i} in IntegerNonPos) and (b in IntegerNonPos)and (c_{1} in IntegerNonPos) and  (c_{2} in IntegerNonPos) and  ... and  (c_{j} in IntegerNonPos) and (b < 0)\n",
       "   core type: Operation\n",
       "   operator: 5\n",
       "   operands: 6\n",
       "4. (a_{1} +  a_{2} +  ... +  a_{i} + b+ c_{1} +  c_{2} +  ... +  c_{j}, IntegerNeg)\n",
       "   core type: ExprTuple\n",
       "   sub-expressions: 7, 8\n",
       "5. and\n",
       "   core type: Literal\n",
       "   sub-expressions: \n",
       "6. ((a_{1} in IntegerNonPos), (a_{2} in IntegerNonPos), ..., (a_{i} in IntegerNonPos), b in IntegerNonPos,(c_{1} in IntegerNonPos), (c_{2} in IntegerNonPos), ..., (c_{j} in IntegerNonPos), b < 0)\n",
       "   core type: ExprTuple\n",
       "   sub-expressions: 9, 10, 11, 12\n",
       "7. a_{1} +  a_{2} +  ... +  a_{i} + b+ c_{1} +  c_{2} +  ... +  c_{j}\n",
       "   core type: Operation\n",
       "   operator: 13\n",
       "   operands: 14\n",
       "8. IntegerNeg\n",
       "   core type: Literal\n",
       "   sub-expressions: \n",
       "9. (a_{1} in IntegerNonPos), (a_{2} in IntegerNonPos), ..., (a_{i} in IntegerNonPos)\n",
       "   core type: ExprRange\n",
       "   lambda_map: 15\n",
       "   start_index: 29\n",
       "   end_index: 27\n",
       "10. b in IntegerNonPos\n",
       "    core type: Operation\n",
       "    operator: 32\n",
       "    operands: 16\n",
       "11. (c_{1} in IntegerNonPos), (c_{2} in IntegerNonPos), ..., (c_{j} in IntegerNonPos)\n",
       "    core type: ExprRange\n",
       "    lambda_map: 17\n",
       "    start_index: 29\n",
       "    end_index: 30\n",
       "12. b < 0\n",
       "    core type: Operation\n",
       "    operator: 18\n",
       "    operands: 19\n",
       "13. +\n",
       "    core type: Literal\n",
       "    sub-expressions: \n",
       "14. (a_{1}, a_{2}, ..., a_{i}, b,c_{1}, c_{2}, ..., c_{j})\n",
       "    core type: ExprTuple\n",
       "    sub-expressions: 20, 24, 21\n",
       "15. _a -> (a_{_a} in IntegerNonPos)\n",
       "    core type: Lambda\n",
       "    parameter: 40\n",
       "    body: 22\n",
       "16. (b, IntegerNonPos)\n",
       "    core type: ExprTuple\n",
       "    sub-expressions: 24, 36\n",
       "17. _a -> (c_{_a} in IntegerNonPos)\n",
       "    core type: Lambda\n",
       "    parameter: 40\n",
       "    body: 23\n",
       "18. <\n",
       "    core type: Literal\n",
       "    sub-expressions: \n",
       "19. (b, 0)\n",
       "    core type: ExprTuple\n",
       "    sub-expressions: 24, 25\n",
       "20. a_{1}, a_{2}, ..., a_{i}\n",
       "    core type: ExprRange\n",
       "    lambda_map: 26\n",
       "    start_index: 29\n",
       "    end_index: 27\n",
       "21. c_{1}, c_{2}, ..., c_{j}\n",
       "    core type: ExprRange\n",
       "    lambda_map: 28\n",
       "    start_index: 29\n",
       "    end_index: 30\n",
       "22. a_{_a} in IntegerNonPos\n",
       "    core type: Operation\n",
       "    operator: 32\n",
       "    operands: 31\n",
       "23. c_{_a} in IntegerNonPos\n",
       "    core type: Operation\n",
       "    operator: 32\n",
       "    operands: 33\n",
       "24. b\n",
       "    core type: Variable\n",
       "    sub-expressions: \n",
       "25. 0\n",
       "    core type: Literal\n",
       "    sub-expressions: \n",
       "26. _a -> a_{_a}\n",
       "    core type: Lambda\n",
       "    parameter: 40\n",
       "    body: 34\n",
       "27. i\n",
       "    core type: Variable\n",
       "    sub-expressions: \n",
       "28. _a -> c_{_a}\n",
       "    core type: Lambda\n",
       "    parameter: 40\n",
       "    body: 35\n",
       "29. 1\n",
       "    core type: Literal\n",
       "    sub-expressions: \n",
       "30. j\n",
       "    core type: Variable\n",
       "    sub-expressions: \n",
       "31. (a_{_a}, IntegerNonPos)\n",
       "    core type: ExprTuple\n",
       "    sub-expressions: 34, 36\n",
       "32. in\n",
       "    core type: Literal\n",
       "    sub-expressions: \n",
       "33. (c_{_a}, IntegerNonPos)\n",
       "    core type: ExprTuple\n",
       "    sub-expressions: 35, 36\n",
       "34. a_{_a}\n",
       "    core type: IndexedVar\n",
       "variable: 37\n",
       "index: 40\n",
       "35. c_{_a}\n",
       "    core type: IndexedVar\n",
       "variable: 38\n",
       "index: 40\n",
       "36. IntegerNonPos\n",
       "    core type: Literal\n",
       "    sub-expressions: \n",
       "37. a\n",
       "    core type: Variable\n",
       "    sub-expressions: \n",
       "38. c\n",
       "    core type: Variable\n",
       "    sub-expressions: \n",
       "39. (_a)\n",
       "    core type: ExprTuple\n",
       "    sub-expressions: 40\n",
       "40. _a\n",
       "    core type: Variable\n",
       "    sub-expressions: "
      ]
     },
     "metadata": {},
     "output_type": "display_data"
    }
   ],
   "source": [
    "# display the expression information\n",
    "stored_expr.expr_info()"
   ]
  },
  {
   "cell_type": "code",
   "execution_count": null,
   "metadata": {},
   "outputs": [],
   "source": []
  }
 ],
 "metadata": {
  "kernelspec": {
   "display_name": "Python 3",
   "language": "python",
   "name": "python3"
  }
 },
 "nbformat": 4,
 "nbformat_minor": 0
}