{
 "cells": [
  {
   "cell_type": "markdown",
   "metadata": {},
   "source": [
    "Expression of type <a class=\"ProveItLink\" href=\"../../../../../../../doc/html/api/proveit.Lambda.html\">Lambda</a>\n",
    "=======================\n",
    "# from the theory of <a class=\"ProveItLink\" href=\"../../../_theory_nbs_/theory.ipynb\">proveit.numbers.addition</a>"
   ]
  },
  {
   "cell_type": "code",
   "execution_count": 1,
   "metadata": {},
   "outputs": [],
   "source": [
    "import proveit\n",
    "# Automation is not needed when building an expression:\n",
    "proveit.defaults.automation = False # This will speed things up.\n",
    "proveit.defaults.inline_pngs = False # Makes files smaller.\n",
    "%load_expr # Load the stored expression as 'stored_expr'\n",
    "# import Expression classes needed to build the expression\n",
    "from proveit import Conditional, ExprRange, IndexedVar, Lambda, Variable, a, b, c, i, j\n",
    "from proveit.core_expr_types import a_1_to_i, c_1_to_j\n",
    "from proveit.logic import And, Forall, InSet\n",
    "from proveit.numbers import Add, Less, Real, RealNeg, one"
   ]
  },
  {
   "cell_type": "code",
   "execution_count": 2,
   "metadata": {},
   "outputs": [
    {
     "data": {
      "text/html": [
       "<strong id=\"expr\">expr:</strong> <a class=\"ProveItLink\" href=\"expr.ipynb\"><img src=\"expr.png\" style=\"display:inline;vertical-align:middle;\" /></a><br>"
      ],
      "text/plain": [
       "<IPython.core.display.HTML object>"
      ]
     },
     "metadata": {},
     "output_type": "display_data"
    }
   ],
   "source": [
    "# build up the expression from sub-expressions\n",
    "sub_expr1 = Variable(\"_a\", latex_format = r\"{_{-}a}\")\n",
    "expr = Lambda([a_1_to_i, c_1_to_j], Conditional(Forall(instance_param_or_params = [b], instance_expr = Less(Add(a_1_to_i, b, c_1_to_j), b), domain = Real), And(ExprRange(sub_expr1, InSet(IndexedVar(a, sub_expr1), RealNeg), one, i), ExprRange(sub_expr1, InSet(IndexedVar(c, sub_expr1), RealNeg), one, j))))"
   ]
  },
  {
   "cell_type": "code",
   "execution_count": 3,
   "metadata": {},
   "outputs": [
    {
     "name": "stdout",
     "output_type": "stream",
     "text": [
      "Passed sanity check: expr matches stored_expr\n"
     ]
    }
   ],
   "source": [
    "# check that the built expression is the same as the stored expression\n",
    "assert expr == stored_expr\n",
    "assert expr._style_id == stored_expr._style_id\n",
    "print(\"Passed sanity check: expr matches stored_expr\")"
   ]
  },
  {
   "cell_type": "code",
   "execution_count": 4,
   "metadata": {},
   "outputs": [
    {
     "name": "stdout",
     "output_type": "stream",
     "text": [
      "\\left(a_{1}, a_{2}, \\ldots, a_{i}, c_{1}, c_{2}, \\ldots, c_{j}\\right) \\mapsto \\left\\{\\forall_{b \\in \\mathbb{R}}~\\left(\\left(a_{1} +  a_{2} +  \\ldots +  a_{i} + b+ c_{1} +  c_{2} +  \\ldots +  c_{j}\\right) < b\\right) \\textrm{ if } \\left(a_{1} \\in \\mathbb{R}^-\\right) ,  \\left(a_{2} \\in \\mathbb{R}^-\\right) ,  \\ldots ,  \\left(a_{i} \\in \\mathbb{R}^-\\right), \\left(c_{1} \\in \\mathbb{R}^-\\right) ,  \\left(c_{2} \\in \\mathbb{R}^-\\right) ,  \\ldots ,  \\left(c_{j} \\in \\mathbb{R}^-\\right)\\right..\n"
     ]
    }
   ],
   "source": [
    "# Show the LaTeX representation of the expression for convenience if you need it.\n",
    "print(stored_expr.latex())"
   ]
  },
  {
   "cell_type": "code",
   "execution_count": 5,
   "metadata": {},
   "outputs": [
    {
     "data": {
      "text/html": [
       "no style options"
      ],
      "text/plain": [
       "no style options"
      ]
     },
     "metadata": {},
     "output_type": "display_data"
    }
   ],
   "source": [
    "stored_expr.style_options()"
   ]
  },
  {
   "cell_type": "code",
   "execution_count": 6,
   "metadata": {},
   "outputs": [
    {
     "data": {
      "text/html": [
       "<table><tr><th>&nbsp;</th><th>core type</th><th>sub-expressions</th><th>expression</th></tr>\n",
       "<tr><td>0</td><td>Lambda</td><td>parameters:&nbsp;1<br>body:&nbsp;2<br></td><td><a class=\"ProveItLink\" href=\"expr.ipynb\"><img src=\"expr.png\" style=\"display:inline;vertical-align:middle;\" /></a></td></tr>\n",
       "<tr><td>1</td><td>ExprTuple</td><td>31, 33</td><td><a class=\"ProveItLink\" href=\"../043e536c50c9ee198e381078c86a9bdc801809d80/expr.ipynb\"><img src=\"../043e536c50c9ee198e381078c86a9bdc801809d80/expr.png\" style=\"display:inline;vertical-align:middle;\" /></a></td></tr>\n",
       "<tr><td>2</td><td>Conditional</td><td>value:&nbsp;3<br>condition:&nbsp;4<br></td><td><a class=\"ProveItLink\" href=\"../b3e59b3e80306a0c721c5232ff4607c624eb6eba0/expr.ipynb\"><img src=\"../b3e59b3e80306a0c721c5232ff4607c624eb6eba0/expr.png\" style=\"display:inline;vertical-align:middle;\" /></a></td></tr>\n",
       "<tr><td>3</td><td>Operation</td><td>operator:&nbsp;5<br>operand:&nbsp;9<br></td><td><a class=\"ProveItLink\" href=\"../b7bd68659533a0cba5710348a6f08a524303637e0/expr.ipynb\"><img src=\"../b7bd68659533a0cba5710348a6f08a524303637e0/expr.png\" style=\"display:inline;vertical-align:middle;\" /></a></td></tr>\n",
       "<tr><td>4</td><td>Operation</td><td>operator:&nbsp;7<br>operands:&nbsp;8<br></td><td><a class=\"ProveItLink\" href=\"../06d7262d7f3e9bbd4ac7c2b77a85bbb3c64e86060/expr.ipynb\"><img src=\"../06d7262d7f3e9bbd4ac7c2b77a85bbb3c64e86060/expr.png\" style=\"display:inline;vertical-align:middle;\" /></a></td></tr>\n",
       "<tr><td>5</td><td>Literal</td><td></td><td><a class=\"ProveItLink\" href=\"../../../../../logic/booleans/quantification/universality/__pv_it/common/083d2baa0b8ecab1d230f9ec29a15aa1355809fb0/expr.ipynb\"><img src=\"../../../../../logic/booleans/quantification/universality/__pv_it/common/083d2baa0b8ecab1d230f9ec29a15aa1355809fb0/expr.png\" style=\"display:inline;vertical-align:middle;\" /></a></td></tr>\n",
       "<tr><td>6</td><td>ExprTuple</td><td>9</td><td><a class=\"ProveItLink\" href=\"../565e4c363af9f519ee302a71a23d7412cad1a0240/expr.ipynb\"><img src=\"../565e4c363af9f519ee302a71a23d7412cad1a0240/expr.png\" style=\"display:inline;vertical-align:middle;\" /></a></td></tr>\n",
       "<tr><td>7</td><td>Literal</td><td></td><td><a class=\"ProveItLink\" href=\"../../../../../logic/booleans/conjunction/__pv_it/common/42118ff318bd65d98b1393f64ce7c2269feef76e0/expr.ipynb\"><img src=\"../../../../../logic/booleans/conjunction/__pv_it/common/42118ff318bd65d98b1393f64ce7c2269feef76e0/expr.png\" style=\"display:inline;vertical-align:middle;\" /></a></td></tr>\n",
       "<tr><td>8</td><td>ExprTuple</td><td>10, 11</td><td><a class=\"ProveItLink\" href=\"../e4c6a44b73b9eef1405016efc5ef5c814d0628330/expr.ipynb\"><img src=\"../e4c6a44b73b9eef1405016efc5ef5c814d0628330/expr.png\" style=\"display:inline;vertical-align:middle;\" /></a></td></tr>\n",
       "<tr><td>9</td><td>Lambda</td><td>parameter:&nbsp;32<br>body:&nbsp;13<br></td><td><a class=\"ProveItLink\" href=\"../98f7b71ac8dcb4799c76e644f72535fb40b078fc0/expr.ipynb\"><img src=\"../98f7b71ac8dcb4799c76e644f72535fb40b078fc0/expr.png\" style=\"display:inline;vertical-align:middle;\" /></a></td></tr>\n",
       "<tr><td>10</td><td>ExprRange</td><td>lambda_map:&nbsp;14<br>start_index:&nbsp;37<br>end_index:&nbsp;35<br></td><td><a class=\"ProveItLink\" href=\"../cc9529eb61db94fa3f0c06697a9bdec0ce1f0ff00/expr.ipynb\"><img src=\"../cc9529eb61db94fa3f0c06697a9bdec0ce1f0ff00/expr.png\" style=\"display:inline;vertical-align:middle;\" /></a></td></tr>\n",
       "<tr><td>11</td><td>ExprRange</td><td>lambda_map:&nbsp;15<br>start_index:&nbsp;37<br>end_index:&nbsp;38<br></td><td><a class=\"ProveItLink\" href=\"../08e25cad0210b27fd4a4a4ad0bf8bef6987d9bb30/expr.ipynb\"><img src=\"../08e25cad0210b27fd4a4a4ad0bf8bef6987d9bb30/expr.png\" style=\"display:inline;vertical-align:middle;\" /></a></td></tr>\n",
       "<tr><td>12</td><td>ExprTuple</td><td>32</td><td><a class=\"ProveItLink\" href=\"../2172b6b5a562721cf67ce94593b8be1eb7f26c660/expr.ipynb\"><img src=\"../2172b6b5a562721cf67ce94593b8be1eb7f26c660/expr.png\" style=\"display:inline;vertical-align:middle;\" /></a></td></tr>\n",
       "<tr><td>13</td><td>Conditional</td><td>value:&nbsp;16<br>condition:&nbsp;17<br></td><td><a class=\"ProveItLink\" href=\"../58a06384ff4803a87cd892a158293c41ad89efcd0/expr.ipynb\"><img src=\"../58a06384ff4803a87cd892a158293c41ad89efcd0/expr.png\" style=\"display:inline;vertical-align:middle;\" /></a></td></tr>\n",
       "<tr><td>14</td><td>Lambda</td><td>parameter:&nbsp;44<br>body:&nbsp;18<br></td><td><a class=\"ProveItLink\" href=\"../b405acf027743931412804dd2eb1b0c7ca400e6d0/expr.ipynb\"><img src=\"../b405acf027743931412804dd2eb1b0c7ca400e6d0/expr.png\" style=\"display:inline;vertical-align:middle;\" /></a></td></tr>\n",
       "<tr><td>15</td><td>Lambda</td><td>parameter:&nbsp;44<br>body:&nbsp;19<br></td><td><a class=\"ProveItLink\" href=\"../444fddf300fa4f362e88c8eb5a53ef4b8279dcd80/expr.ipynb\"><img src=\"../444fddf300fa4f362e88c8eb5a53ef4b8279dcd80/expr.png\" style=\"display:inline;vertical-align:middle;\" /></a></td></tr>\n",
       "<tr><td>16</td><td>Operation</td><td>operator:&nbsp;20<br>operands:&nbsp;21<br></td><td><a class=\"ProveItLink\" href=\"../47c52cb31f428ad57affca90ee7c1a331b6d77de0/expr.ipynb\"><img src=\"../47c52cb31f428ad57affca90ee7c1a331b6d77de0/expr.png\" style=\"display:inline;vertical-align:middle;\" /></a></td></tr>\n",
       "<tr><td>17</td><td>Operation</td><td>operator:&nbsp;24<br>operands:&nbsp;22<br></td><td><a class=\"ProveItLink\" href=\"../6e5cad5b2984ed0d75bd47bd0c542ec447a4f3570/expr.ipynb\"><img src=\"../6e5cad5b2984ed0d75bd47bd0c542ec447a4f3570/expr.png\" style=\"display:inline;vertical-align:middle;\" /></a></td></tr>\n",
       "<tr><td>18</td><td>Operation</td><td>operator:&nbsp;24<br>operands:&nbsp;23<br></td><td><a class=\"ProveItLink\" href=\"../dd980dfdfb67ae926aed457a7ed3fba796ca596f0/expr.ipynb\"><img src=\"../dd980dfdfb67ae926aed457a7ed3fba796ca596f0/expr.png\" style=\"display:inline;vertical-align:middle;\" /></a></td></tr>\n",
       "<tr><td>19</td><td>Operation</td><td>operator:&nbsp;24<br>operands:&nbsp;25<br></td><td><a class=\"ProveItLink\" href=\"../056fd1c8eba28f2aac43a125b15f76769b1c6ec50/expr.ipynb\"><img src=\"../056fd1c8eba28f2aac43a125b15f76769b1c6ec50/expr.png\" style=\"display:inline;vertical-align:middle;\" /></a></td></tr>\n",
       "<tr><td>20</td><td>Literal</td><td></td><td><a class=\"ProveItLink\" href=\"../../../../ordering/__pv_it/common/fa503ed52033522c609eef1cf3e1b45796489da50/expr.ipynb\"><img src=\"../../../../ordering/__pv_it/common/fa503ed52033522c609eef1cf3e1b45796489da50/expr.png\" style=\"display:inline;vertical-align:middle;\" /></a></td></tr>\n",
       "<tr><td>21</td><td>ExprTuple</td><td>26, 32</td><td><a class=\"ProveItLink\" href=\"../f27d8153d9e689d770d3f697c415a65346e6b41c0/expr.ipynb\"><img src=\"../f27d8153d9e689d770d3f697c415a65346e6b41c0/expr.png\" style=\"display:inline;vertical-align:middle;\" /></a></td></tr>\n",
       "<tr><td>22</td><td>ExprTuple</td><td>32, 27</td><td><a class=\"ProveItLink\" href=\"../3cf9b209cada40f4dbeb74780e8d7cfa407b10aa0/expr.ipynb\"><img src=\"../3cf9b209cada40f4dbeb74780e8d7cfa407b10aa0/expr.png\" style=\"display:inline;vertical-align:middle;\" /></a></td></tr>\n",
       "<tr><td>23</td><td>ExprTuple</td><td>39, 28</td><td><a class=\"ProveItLink\" href=\"../461d4702c13b1ff4213baeb8bb71861c081444b50/expr.ipynb\"><img src=\"../461d4702c13b1ff4213baeb8bb71861c081444b50/expr.png\" style=\"display:inline;vertical-align:middle;\" /></a></td></tr>\n",
       "<tr><td>24</td><td>Literal</td><td></td><td><a class=\"ProveItLink\" href=\"../../../../../logic/sets/membership/__pv_it/common/477487d8796864d23d5810f83761435f25167f690/expr.ipynb\"><img src=\"../../../../../logic/sets/membership/__pv_it/common/477487d8796864d23d5810f83761435f25167f690/expr.png\" style=\"display:inline;vertical-align:middle;\" /></a></td></tr>\n",
       "<tr><td>25</td><td>ExprTuple</td><td>40, 28</td><td><a class=\"ProveItLink\" href=\"../6eca815fa80314b2ccb904689b8e6cf913a8e7330/expr.ipynb\"><img src=\"../6eca815fa80314b2ccb904689b8e6cf913a8e7330/expr.png\" style=\"display:inline;vertical-align:middle;\" /></a></td></tr>\n",
       "<tr><td>26</td><td>Operation</td><td>operator:&nbsp;29<br>operands:&nbsp;30<br></td><td><a class=\"ProveItLink\" href=\"../219a4871a33df7e94921f69ec15c765af99a32930/expr.ipynb\"><img src=\"../219a4871a33df7e94921f69ec15c765af99a32930/expr.png\" style=\"display:inline;vertical-align:middle;\" /></a></td></tr>\n",
       "<tr><td>27</td><td>Literal</td><td></td><td><a class=\"ProveItLink\" href=\"../../../../number_sets/real_numbers/__pv_it/common/93cac87a1a47e613f7a83b23ef7891599a1a4cca0/expr.ipynb\"><img src=\"../../../../number_sets/real_numbers/__pv_it/common/93cac87a1a47e613f7a83b23ef7891599a1a4cca0/expr.png\" style=\"display:inline;vertical-align:middle;\" /></a></td></tr>\n",
       "<tr><td>28</td><td>Literal</td><td></td><td><a class=\"ProveItLink\" href=\"../../../../number_sets/real_numbers/__pv_it/common/22049b0ceade1b5eb1b88ec78deb486d547c9b580/expr.ipynb\"><img src=\"../../../../number_sets/real_numbers/__pv_it/common/22049b0ceade1b5eb1b88ec78deb486d547c9b580/expr.png\" style=\"display:inline;vertical-align:middle;\" /></a></td></tr>\n",
       "<tr><td>29</td><td>Literal</td><td></td><td><a class=\"ProveItLink\" href=\"../../common/4b7effaab3619a1c2c38fe2dee8601df8ec714590/expr.ipynb\"><img src=\"../../common/4b7effaab3619a1c2c38fe2dee8601df8ec714590/expr.png\" style=\"display:inline;vertical-align:middle;\" /></a></td></tr>\n",
       "<tr><td>30</td><td>ExprTuple</td><td>31, 32, 33</td><td><a class=\"ProveItLink\" href=\"../d84a0b397d95592bd7106c405306a567e64b1ad30/expr.ipynb\"><img src=\"../d84a0b397d95592bd7106c405306a567e64b1ad30/expr.png\" style=\"display:inline;vertical-align:middle;\" /></a></td></tr>\n",
       "<tr><td>31</td><td>ExprRange</td><td>lambda_map:&nbsp;34<br>start_index:&nbsp;37<br>end_index:&nbsp;35<br></td><td><a class=\"ProveItLink\" href=\"../../../../../core_expr_types/__pv_it/common/7230c683fcd56948c826ac1be71b01b6fb2913950/expr.ipynb\"><img src=\"../../../../../core_expr_types/__pv_it/common/7230c683fcd56948c826ac1be71b01b6fb2913950/expr.png\" style=\"display:inline;vertical-align:middle;\" /></a></td></tr>\n",
       "<tr><td>32</td><td>Variable</td><td></td><td><a class=\"ProveItLink\" href=\"../../../../../__pv_it/common/195236b98c6c564a75b5dbada74b173bc52d5c3e0/expr.ipynb\"><img src=\"../../../../../__pv_it/common/195236b98c6c564a75b5dbada74b173bc52d5c3e0/expr.png\" style=\"display:inline;vertical-align:middle;\" /></a></td></tr>\n",
       "<tr><td>33</td><td>ExprRange</td><td>lambda_map:&nbsp;36<br>start_index:&nbsp;37<br>end_index:&nbsp;38<br></td><td><a class=\"ProveItLink\" href=\"../../../../../core_expr_types/__pv_it/common/197f625500e1374c769a9a88f526b5b80f714d350/expr.ipynb\"><img src=\"../../../../../core_expr_types/__pv_it/common/197f625500e1374c769a9a88f526b5b80f714d350/expr.png\" style=\"display:inline;vertical-align:middle;\" /></a></td></tr>\n",
       "<tr><td>34</td><td>Lambda</td><td>parameter:&nbsp;44<br>body:&nbsp;39<br></td><td><a class=\"ProveItLink\" href=\"../../../../../core_expr_types/__pv_it/common/1527ad383e12f9c6ed6b371c9a7dd1892d80da1b0/expr.ipynb\"><img src=\"../../../../../core_expr_types/__pv_it/common/1527ad383e12f9c6ed6b371c9a7dd1892d80da1b0/expr.png\" style=\"display:inline;vertical-align:middle;\" /></a></td></tr>\n",
       "<tr><td>35</td><td>Variable</td><td></td><td><a class=\"ProveItLink\" href=\"../../../../../__pv_it/common/ae955345c83abf786c3aff8681cd5465beae262d0/expr.ipynb\"><img src=\"../../../../../__pv_it/common/ae955345c83abf786c3aff8681cd5465beae262d0/expr.png\" style=\"display:inline;vertical-align:middle;\" /></a></td></tr>\n",
       "<tr><td>36</td><td>Lambda</td><td>parameter:&nbsp;44<br>body:&nbsp;40<br></td><td><a class=\"ProveItLink\" href=\"../../../../../core_expr_types/__pv_it/common/89a29b5b02ce6c37577f6352274a3d503dcdde3e0/expr.ipynb\"><img src=\"../../../../../core_expr_types/__pv_it/common/89a29b5b02ce6c37577f6352274a3d503dcdde3e0/expr.png\" style=\"display:inline;vertical-align:middle;\" /></a></td></tr>\n",
       "<tr><td>37</td><td>Literal</td><td></td><td><a class=\"ProveItLink\" href=\"../../../../numerals/__pv_it/common/682157d4892d216d9e5626ed533aff9b56b9506e0/expr.ipynb\"><img src=\"../../../../numerals/__pv_it/common/682157d4892d216d9e5626ed533aff9b56b9506e0/expr.png\" style=\"display:inline;vertical-align:middle;\" /></a></td></tr>\n",
       "<tr><td>38</td><td>Variable</td><td></td><td><a class=\"ProveItLink\" href=\"../../../../../__pv_it/common/1ed21df18baca2f42b561a7ffbf30a2743d594650/expr.ipynb\"><img src=\"../../../../../__pv_it/common/1ed21df18baca2f42b561a7ffbf30a2743d594650/expr.png\" style=\"display:inline;vertical-align:middle;\" /></a></td></tr>\n",
       "<tr><td>39</td><td>IndexedVar</td><td>variable:&nbsp;41<br>index:&nbsp;44<br></td><td><a class=\"ProveItLink\" href=\"../../../../../core_expr_types/__pv_it/common/3a62c13e156d62d52fe585fa37cc2172fcf685260/expr.ipynb\"><img src=\"../../../../../core_expr_types/__pv_it/common/3a62c13e156d62d52fe585fa37cc2172fcf685260/expr.png\" style=\"display:inline;vertical-align:middle;\" /></a></td></tr>\n",
       "<tr><td>40</td><td>IndexedVar</td><td>variable:&nbsp;42<br>index:&nbsp;44<br></td><td><a class=\"ProveItLink\" href=\"../../../../../core_expr_types/__pv_it/common/8ffbefe913f7c934b2e3a2a12315d5900822d9d00/expr.ipynb\"><img src=\"../../../../../core_expr_types/__pv_it/common/8ffbefe913f7c934b2e3a2a12315d5900822d9d00/expr.png\" style=\"display:inline;vertical-align:middle;\" /></a></td></tr>\n",
       "<tr><td>41</td><td>Variable</td><td></td><td><a class=\"ProveItLink\" href=\"../../../../../__pv_it/common/c06c606ec12678c58933ac85412ecadc2ae28be60/expr.ipynb\"><img src=\"../../../../../__pv_it/common/c06c606ec12678c58933ac85412ecadc2ae28be60/expr.png\" style=\"display:inline;vertical-align:middle;\" /></a></td></tr>\n",
       "<tr><td>42</td><td>Variable</td><td></td><td><a class=\"ProveItLink\" href=\"../../../../../__pv_it/common/ceef4280a2f1cc604b455b54e735507244cc62cd0/expr.ipynb\"><img src=\"../../../../../__pv_it/common/ceef4280a2f1cc604b455b54e735507244cc62cd0/expr.png\" style=\"display:inline;vertical-align:middle;\" /></a></td></tr>\n",
       "<tr><td>43</td><td>ExprTuple</td><td>44</td><td><a class=\"ProveItLink\" href=\"../../../../../core_expr_types/__pv_it/common/4b0dd6be36d76552eda6a95d5b4a27f5a5b62f900/expr.ipynb\"><img src=\"../../../../../core_expr_types/__pv_it/common/4b0dd6be36d76552eda6a95d5b4a27f5a5b62f900/expr.png\" style=\"display:inline;vertical-align:middle;\" /></a></td></tr>\n",
       "<tr><td>44</td><td>Variable</td><td></td><td><a class=\"ProveItLink\" href=\"../../../../../core_expr_types/__pv_it/common/006c465e50948aa2b52285e2de47974f741255cc0/expr.ipynb\"><img src=\"../../../../../core_expr_types/__pv_it/common/006c465e50948aa2b52285e2de47974f741255cc0/expr.png\" style=\"display:inline;vertical-align:middle;\" /></a></td></tr>\n",
       "</table>\n"
      ],
      "text/plain": [
       "0. (a_{1}, a_{2}, ..., a_{i}, c_{1}, c_{2}, ..., c_{j}) -> {forall_{b in Real} ((a_{1} +  a_{2} +  ... +  a_{i} + b+ c_{1} +  c_{2} +  ... +  c_{j}) < b) if (a_{1} in RealNeg) ,  (a_{2} in RealNeg) ,  ... ,  (a_{i} in RealNeg), (c_{1} in RealNeg) ,  (c_{2} in RealNeg) ,  ... ,  (c_{j} in RealNeg).\n",
       "   core type: Lambda\n",
       "   parameters: 1\\n   body: 2\n",
       "1. (a_{1}, a_{2}, ..., a_{i},c_{1}, c_{2}, ..., c_{j})\n",
       "   core type: ExprTuple\n",
       "   sub-expressions: 31, 33\n",
       "2. {forall_{b in Real} ((a_{1} +  a_{2} +  ... +  a_{i} + b+ c_{1} +  c_{2} +  ... +  c_{j}) < b) if (a_{1} in RealNeg) ,  (a_{2} in RealNeg) ,  ... ,  (a_{i} in RealNeg), (c_{1} in RealNeg) ,  (c_{2} in RealNeg) ,  ... ,  (c_{j} in RealNeg).\n",
       "   core type: Conditional\n",
       "   value: 3\n",
       "   condition: 4\n",
       "3. forall_{b in Real} ((a_{1} +  a_{2} +  ... +  a_{i} + b+ c_{1} +  c_{2} +  ... +  c_{j}) < b)\n",
       "   core type: Operation\n",
       "   operator: 5\n",
       "   operand: 9\n",
       "4. (a_{1} in RealNeg) and  (a_{2} in RealNeg) and  ... and  (a_{i} in RealNeg)and (c_{1} in RealNeg) and  (c_{2} in RealNeg) and  ... and  (c_{j} in RealNeg)\n",
       "   core type: Operation\n",
       "   operator: 7\n",
       "   operands: 8\n",
       "5. forall\n",
       "   core type: Literal\n",
       "   sub-expressions: \n",
       "6. (b -> {(a_{1} +  a_{2} +  ... +  a_{i} + b+ c_{1} +  c_{2} +  ... +  c_{j}) < b if b in Real.)\n",
       "   core type: ExprTuple\n",
       "   sub-expressions: 9\n",
       "7. and\n",
       "   core type: Literal\n",
       "   sub-expressions: \n",
       "8. ((a_{1} in RealNeg), (a_{2} in RealNeg), ..., (a_{i} in RealNeg),(c_{1} in RealNeg), (c_{2} in RealNeg), ..., (c_{j} in RealNeg))\n",
       "   core type: ExprTuple\n",
       "   sub-expressions: 10, 11\n",
       "9. b -> {(a_{1} +  a_{2} +  ... +  a_{i} + b+ c_{1} +  c_{2} +  ... +  c_{j}) < b if b in Real.\n",
       "   core type: Lambda\n",
       "   parameter: 32\n",
       "   body: 13\n",
       "10. (a_{1} in RealNeg), (a_{2} in RealNeg), ..., (a_{i} in RealNeg)\n",
       "    core type: ExprRange\n",
       "    lambda_map: 14\n",
       "    start_index: 37\n",
       "    end_index: 35\n",
       "11. (c_{1} in RealNeg), (c_{2} in RealNeg), ..., (c_{j} in RealNeg)\n",
       "    core type: ExprRange\n",
       "    lambda_map: 15\n",
       "    start_index: 37\n",
       "    end_index: 38\n",
       "12. (b)\n",
       "    core type: ExprTuple\n",
       "    sub-expressions: 32\n",
       "13. {(a_{1} +  a_{2} +  ... +  a_{i} + b+ c_{1} +  c_{2} +  ... +  c_{j}) < b if b in Real.\n",
       "    core type: Conditional\n",
       "    value: 16\n",
       "    condition: 17\n",
       "14. _a -> (a_{_a} in RealNeg)\n",
       "    core type: Lambda\n",
       "    parameter: 44\n",
       "    body: 18\n",
       "15. _a -> (c_{_a} in RealNeg)\n",
       "    core type: Lambda\n",
       "    parameter: 44\n",
       "    body: 19\n",
       "16. (a_{1} +  a_{2} +  ... +  a_{i} + b+ c_{1} +  c_{2} +  ... +  c_{j}) < b\n",
       "    core type: Operation\n",
       "    operator: 20\n",
       "    operands: 21\n",
       "17. b in Real\n",
       "    core type: Operation\n",
       "    operator: 24\n",
       "    operands: 22\n",
       "18. a_{_a} in RealNeg\n",
       "    core type: Operation\n",
       "    operator: 24\n",
       "    operands: 23\n",
       "19. c_{_a} in RealNeg\n",
       "    core type: Operation\n",
       "    operator: 24\n",
       "    operands: 25\n",
       "20. <\n",
       "    core type: Literal\n",
       "    sub-expressions: \n",
       "21. (a_{1} +  a_{2} +  ... +  a_{i} + b+ c_{1} +  c_{2} +  ... +  c_{j}, b)\n",
       "    core type: ExprTuple\n",
       "    sub-expressions: 26, 32\n",
       "22. (b, Real)\n",
       "    core type: ExprTuple\n",
       "    sub-expressions: 32, 27\n",
       "23. (a_{_a}, RealNeg)\n",
       "    core type: ExprTuple\n",
       "    sub-expressions: 39, 28\n",
       "24. in\n",
       "    core type: Literal\n",
       "    sub-expressions: \n",
       "25. (c_{_a}, RealNeg)\n",
       "    core type: ExprTuple\n",
       "    sub-expressions: 40, 28\n",
       "26. a_{1} +  a_{2} +  ... +  a_{i} + b+ c_{1} +  c_{2} +  ... +  c_{j}\n",
       "    core type: Operation\n",
       "    operator: 29\n",
       "    operands: 30\n",
       "27. Real\n",
       "    core type: Literal\n",
       "    sub-expressions: \n",
       "28. RealNeg\n",
       "    core type: Literal\n",
       "    sub-expressions: \n",
       "29. +\n",
       "    core type: Literal\n",
       "    sub-expressions: \n",
       "30. (a_{1}, a_{2}, ..., a_{i}, b,c_{1}, c_{2}, ..., c_{j})\n",
       "    core type: ExprTuple\n",
       "    sub-expressions: 31, 32, 33\n",
       "31. a_{1}, a_{2}, ..., a_{i}\n",
       "    core type: ExprRange\n",
       "    lambda_map: 34\n",
       "    start_index: 37\n",
       "    end_index: 35\n",
       "32. b\n",
       "    core type: Variable\n",
       "    sub-expressions: \n",
       "33. c_{1}, c_{2}, ..., c_{j}\n",
       "    core type: ExprRange\n",
       "    lambda_map: 36\n",
       "    start_index: 37\n",
       "    end_index: 38\n",
       "34. _a -> a_{_a}\n",
       "    core type: Lambda\n",
       "    parameter: 44\n",
       "    body: 39\n",
       "35. i\n",
       "    core type: Variable\n",
       "    sub-expressions: \n",
       "36. _a -> c_{_a}\n",
       "    core type: Lambda\n",
       "    parameter: 44\n",
       "    body: 40\n",
       "37. 1\n",
       "    core type: Literal\n",
       "    sub-expressions: \n",
       "38. j\n",
       "    core type: Variable\n",
       "    sub-expressions: \n",
       "39. a_{_a}\n",
       "    core type: IndexedVar\n",
       "variable: 41\n",
       "index: 44\n",
       "40. c_{_a}\n",
       "    core type: IndexedVar\n",
       "variable: 42\n",
       "index: 44\n",
       "41. a\n",
       "    core type: Variable\n",
       "    sub-expressions: \n",
       "42. c\n",
       "    core type: Variable\n",
       "    sub-expressions: \n",
       "43. (_a)\n",
       "    core type: ExprTuple\n",
       "    sub-expressions: 44\n",
       "44. _a\n",
       "    core type: Variable\n",
       "    sub-expressions: "
      ]
     },
     "metadata": {},
     "output_type": "display_data"
    }
   ],
   "source": [
    "# display the expression information\n",
    "stored_expr.expr_info()"
   ]
  },
  {
   "cell_type": "code",
   "execution_count": null,
   "metadata": {},
   "outputs": [],
   "source": []
  }
 ],
 "metadata": {
  "kernelspec": {
   "display_name": "Python 3",
   "language": "python",
   "name": "python3"
  }
 },
 "nbformat": 4,
 "nbformat_minor": 0
}