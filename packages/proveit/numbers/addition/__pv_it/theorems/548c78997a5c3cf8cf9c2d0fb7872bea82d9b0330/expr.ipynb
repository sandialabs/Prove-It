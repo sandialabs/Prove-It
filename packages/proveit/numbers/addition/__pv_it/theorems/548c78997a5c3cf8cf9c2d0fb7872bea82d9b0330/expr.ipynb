{
 "cells": [
  {
   "cell_type": "markdown",
   "metadata": {},
   "source": [
    "Expression of type <a class=\"ProveItLink\" href=\"../../../../../../../doc/html/api/proveit.Conditional.html\">Conditional</a>\n",
    "=======================\n",
    "# from the theory of <a class=\"ProveItLink\" href=\"../../../_theory_nbs_/theory.ipynb\">proveit.numbers.addition</a>"
   ]
  },
  {
   "cell_type": "code",
   "execution_count": 1,
   "metadata": {},
   "outputs": [],
   "source": [
    "import proveit\n",
    "# Automation is not needed when building an expression:\n",
    "proveit.defaults.automation = False # This will speed things up.\n",
    "proveit.defaults.inline_pngs = False # Makes files smaller.\n",
    "%load_expr # Load the stored expression as 'stored_expr'\n",
    "# import Expression classes needed to build the expression\n",
    "from proveit import Conditional, a, x, y\n",
    "from proveit.logic import And, Equals, InSet\n",
    "from proveit.numbers import Add, Natural"
   ]
  },
  {
   "cell_type": "code",
   "execution_count": 2,
   "metadata": {},
   "outputs": [
    {
     "data": {
      "text/html": [
       "<strong id=\"expr\">expr:</strong> <a class=\"ProveItLink\" href=\"expr.ipynb\"><img src=\"expr.png\" style=\"display:inline;vertical-align:middle;\" /></a><br>"
      ],
      "text/plain": [
       "<IPython.core.display.HTML object>"
      ]
     },
     "metadata": {},
     "output_type": "display_data"
    }
   ],
   "source": [
    "# build up the expression from sub-expressions\n",
    "expr = Conditional(Equals(Add(a, x), Add(a, y)), And(InSet(a, Natural), InSet(x, Natural), InSet(y, Natural), Equals(x, y)))"
   ]
  },
  {
   "cell_type": "code",
   "execution_count": 3,
   "metadata": {},
   "outputs": [
    {
     "name": "stdout",
     "output_type": "stream",
     "text": [
      "Passed sanity check: expr matches stored_expr\n"
     ]
    }
   ],
   "source": [
    "# check that the built expression is the same as the stored expression\n",
    "assert expr == stored_expr\n",
    "assert expr._style_id == stored_expr._style_id\n",
    "print(\"Passed sanity check: expr matches stored_expr\")"
   ]
  },
  {
   "cell_type": "code",
   "execution_count": 4,
   "metadata": {},
   "outputs": [
    {
     "name": "stdout",
     "output_type": "stream",
     "text": [
      "\\left\\{\\left(a + x\\right) = \\left(a + y\\right) \\textrm{ if } a \\in \\mathbb{N} ,  x \\in \\mathbb{N} ,  y \\in \\mathbb{N} ,  x = y\\right..\n"
     ]
    }
   ],
   "source": [
    "# Show the LaTeX representation of the expression for convenience if you need it.\n",
    "print(stored_expr.latex())"
   ]
  },
  {
   "cell_type": "code",
   "execution_count": 5,
   "metadata": {},
   "outputs": [
    {
     "data": {
      "text/html": [
       "<table>\n",
       "<tr><th>name</th><th>description</th><th>default</th><th>current value</th><th>related methods</th></tr><tr><td>condition_delimiter</td><td>'comma' or 'and'</td><td>comma</td><td>comma</td><td>('with_comma_delimiter', 'with_conjunction_delimiter')</td></tr>\n",
       "</table>\n"
      ],
      "text/plain": [
       "style name: condition_delimiter\n",
       "description: 'comma' or 'and'\n",
       "default: comma\n",
       "current value: comma\n",
       "related methods: ('with_comma_delimiter', 'with_conjunction_delimiter')"
      ]
     },
     "metadata": {},
     "output_type": "display_data"
    }
   ],
   "source": [
    "stored_expr.style_options()"
   ]
  },
  {
   "cell_type": "code",
   "execution_count": 6,
   "metadata": {},
   "outputs": [
    {
     "data": {
      "text/html": [
       "<table><tr><th>&nbsp;</th><th>core type</th><th>sub-expressions</th><th>expression</th></tr>\n",
       "<tr><td>0</td><td>Conditional</td><td>value:&nbsp;1<br>condition:&nbsp;2<br></td><td><a class=\"ProveItLink\" href=\"expr.ipynb\"><img src=\"expr.png\" style=\"display:inline;vertical-align:middle;\" /></a></td></tr>\n",
       "<tr><td>1</td><td>Operation</td><td>operator:&nbsp;19<br>operands:&nbsp;3<br></td><td><a class=\"ProveItLink\" href=\"../d81520a5f3e4aeb51dd085706b53e41fa1f68a1e0/expr.ipynb\"><img src=\"../d81520a5f3e4aeb51dd085706b53e41fa1f68a1e0/expr.png\" style=\"display:inline;vertical-align:middle;\" /></a></td></tr>\n",
       "<tr><td>2</td><td>Operation</td><td>operator:&nbsp;4<br>operands:&nbsp;5<br></td><td><a class=\"ProveItLink\" href=\"../4c811b3109cebe53a5c0be2a1bf20ea91ab0001e0/expr.ipynb\"><img src=\"../4c811b3109cebe53a5c0be2a1bf20ea91ab0001e0/expr.png\" style=\"display:inline;vertical-align:middle;\" /></a></td></tr>\n",
       "<tr><td>3</td><td>ExprTuple</td><td>6, 7</td><td><a class=\"ProveItLink\" href=\"../706581e8f81b4d587fcaf8df3f4d737834d82bf40/expr.ipynb\"><img src=\"../706581e8f81b4d587fcaf8df3f4d737834d82bf40/expr.png\" style=\"display:inline;vertical-align:middle;\" /></a></td></tr>\n",
       "<tr><td>4</td><td>Literal</td><td></td><td><a class=\"ProveItLink\" href=\"../../../../../logic/booleans/conjunction/__pv_it/common/42118ff318bd65d98b1393f64ce7c2269feef76e0/expr.ipynb\"><img src=\"../../../../../logic/booleans/conjunction/__pv_it/common/42118ff318bd65d98b1393f64ce7c2269feef76e0/expr.png\" style=\"display:inline;vertical-align:middle;\" /></a></td></tr>\n",
       "<tr><td>5</td><td>ExprTuple</td><td>8, 9, 10, 11</td><td><a class=\"ProveItLink\" href=\"../6409a393739933eea579ce592e605d813c07e9ac0/expr.ipynb\"><img src=\"../6409a393739933eea579ce592e605d813c07e9ac0/expr.png\" style=\"display:inline;vertical-align:middle;\" /></a></td></tr>\n",
       "<tr><td>6</td><td>Operation</td><td>operator:&nbsp;13<br>operands:&nbsp;12<br></td><td><a class=\"ProveItLink\" href=\"../59292eca4a1ad7045774a016f3e5210c3ee76ab20/expr.ipynb\"><img src=\"../59292eca4a1ad7045774a016f3e5210c3ee76ab20/expr.png\" style=\"display:inline;vertical-align:middle;\" /></a></td></tr>\n",
       "<tr><td>7</td><td>Operation</td><td>operator:&nbsp;13<br>operands:&nbsp;14<br></td><td><a class=\"ProveItLink\" href=\"../a45af0212cde7ff60daf9558d11700f0d5ae42920/expr.ipynb\"><img src=\"../a45af0212cde7ff60daf9558d11700f0d5ae42920/expr.png\" style=\"display:inline;vertical-align:middle;\" /></a></td></tr>\n",
       "<tr><td>8</td><td>Operation</td><td>operator:&nbsp;17<br>operands:&nbsp;15<br></td><td><a class=\"ProveItLink\" href=\"../27094ede24067904bb8353fa305df8461a3a4be40/expr.ipynb\"><img src=\"../27094ede24067904bb8353fa305df8461a3a4be40/expr.png\" style=\"display:inline;vertical-align:middle;\" /></a></td></tr>\n",
       "<tr><td>9</td><td>Operation</td><td>operator:&nbsp;17<br>operands:&nbsp;16<br></td><td><a class=\"ProveItLink\" href=\"../b7153c0033e407b6f25af7375428bbdcf12a6b600/expr.ipynb\"><img src=\"../b7153c0033e407b6f25af7375428bbdcf12a6b600/expr.png\" style=\"display:inline;vertical-align:middle;\" /></a></td></tr>\n",
       "<tr><td>10</td><td>Operation</td><td>operator:&nbsp;17<br>operands:&nbsp;18<br></td><td><a class=\"ProveItLink\" href=\"../17c23827fca080b752568c5794e0898dfd342a790/expr.ipynb\"><img src=\"../17c23827fca080b752568c5794e0898dfd342a790/expr.png\" style=\"display:inline;vertical-align:middle;\" /></a></td></tr>\n",
       "<tr><td>11</td><td>Operation</td><td>operator:&nbsp;19<br>operands:&nbsp;20<br></td><td><a class=\"ProveItLink\" href=\"../680522f9aa82e4bb4cad5aa4dcd4f7121ab952350/expr.ipynb\"><img src=\"../680522f9aa82e4bb4cad5aa4dcd4f7121ab952350/expr.png\" style=\"display:inline;vertical-align:middle;\" /></a></td></tr>\n",
       "<tr><td>12</td><td>ExprTuple</td><td>21, 23</td><td><a class=\"ProveItLink\" href=\"../16542dff4296b36f053bf5d488afb46dffba9b230/expr.ipynb\"><img src=\"../16542dff4296b36f053bf5d488afb46dffba9b230/expr.png\" style=\"display:inline;vertical-align:middle;\" /></a></td></tr>\n",
       "<tr><td>13</td><td>Literal</td><td></td><td><a class=\"ProveItLink\" href=\"../../common/4b7effaab3619a1c2c38fe2dee8601df8ec714590/expr.ipynb\"><img src=\"../../common/4b7effaab3619a1c2c38fe2dee8601df8ec714590/expr.png\" style=\"display:inline;vertical-align:middle;\" /></a></td></tr>\n",
       "<tr><td>14</td><td>ExprTuple</td><td>21, 24</td><td><a class=\"ProveItLink\" href=\"../ef6376c7c6407225d32b6b693cda698fb64ddaa30/expr.ipynb\"><img src=\"../ef6376c7c6407225d32b6b693cda698fb64ddaa30/expr.png\" style=\"display:inline;vertical-align:middle;\" /></a></td></tr>\n",
       "<tr><td>15</td><td>ExprTuple</td><td>21, 22</td><td><a class=\"ProveItLink\" href=\"../d8b6a0eba6558e88710687f1f05fc014c3126b8f0/expr.ipynb\"><img src=\"../d8b6a0eba6558e88710687f1f05fc014c3126b8f0/expr.png\" style=\"display:inline;vertical-align:middle;\" /></a></td></tr>\n",
       "<tr><td>16</td><td>ExprTuple</td><td>23, 22</td><td><a class=\"ProveItLink\" href=\"../da44d349efb3c50857776608658da1461768e23d0/expr.ipynb\"><img src=\"../da44d349efb3c50857776608658da1461768e23d0/expr.png\" style=\"display:inline;vertical-align:middle;\" /></a></td></tr>\n",
       "<tr><td>17</td><td>Literal</td><td></td><td><a class=\"ProveItLink\" href=\"../../../../../logic/sets/membership/__pv_it/common/477487d8796864d23d5810f83761435f25167f690/expr.ipynb\"><img src=\"../../../../../logic/sets/membership/__pv_it/common/477487d8796864d23d5810f83761435f25167f690/expr.png\" style=\"display:inline;vertical-align:middle;\" /></a></td></tr>\n",
       "<tr><td>18</td><td>ExprTuple</td><td>24, 22</td><td><a class=\"ProveItLink\" href=\"../b6095962e627e9c5ebd88a58f1e538faea65520d0/expr.ipynb\"><img src=\"../b6095962e627e9c5ebd88a58f1e538faea65520d0/expr.png\" style=\"display:inline;vertical-align:middle;\" /></a></td></tr>\n",
       "<tr><td>19</td><td>Literal</td><td></td><td><a class=\"ProveItLink\" href=\"../../../../../logic/equality/__pv_it/common/fb96dc12b2aa8801dda64d0132b396c63d1502bb0/expr.ipynb\"><img src=\"../../../../../logic/equality/__pv_it/common/fb96dc12b2aa8801dda64d0132b396c63d1502bb0/expr.png\" style=\"display:inline;vertical-align:middle;\" /></a></td></tr>\n",
       "<tr><td>20</td><td>ExprTuple</td><td>23, 24</td><td><a class=\"ProveItLink\" href=\"../bbaa48af4605eceb7fbc4af345a1eb6de480e1c50/expr.ipynb\"><img src=\"../bbaa48af4605eceb7fbc4af345a1eb6de480e1c50/expr.png\" style=\"display:inline;vertical-align:middle;\" /></a></td></tr>\n",
       "<tr><td>21</td><td>Variable</td><td></td><td><a class=\"ProveItLink\" href=\"../../../../../__pv_it/common/c06c606ec12678c58933ac85412ecadc2ae28be60/expr.ipynb\"><img src=\"../../../../../__pv_it/common/c06c606ec12678c58933ac85412ecadc2ae28be60/expr.png\" style=\"display:inline;vertical-align:middle;\" /></a></td></tr>\n",
       "<tr><td>22</td><td>Literal</td><td></td><td><a class=\"ProveItLink\" href=\"../../../../number_sets/natural_numbers/__pv_it/common/8b7c321957f52ed3b05b36af612eeae4fa4783bc0/expr.ipynb\"><img src=\"../../../../number_sets/natural_numbers/__pv_it/common/8b7c321957f52ed3b05b36af612eeae4fa4783bc0/expr.png\" style=\"display:inline;vertical-align:middle;\" /></a></td></tr>\n",
       "<tr><td>23</td><td>Variable</td><td></td><td><a class=\"ProveItLink\" href=\"../../../../../__pv_it/common/a0d9d672aa5e272d907247690c152cc2c6daafb70/expr.ipynb\"><img src=\"../../../../../__pv_it/common/a0d9d672aa5e272d907247690c152cc2c6daafb70/expr.png\" style=\"display:inline;vertical-align:middle;\" /></a></td></tr>\n",
       "<tr><td>24</td><td>Variable</td><td></td><td><a class=\"ProveItLink\" href=\"../../../../../__pv_it/common/ff7dba4ef0bbe791ab573bf2d9c220a304399ac80/expr.ipynb\"><img src=\"../../../../../__pv_it/common/ff7dba4ef0bbe791ab573bf2d9c220a304399ac80/expr.png\" style=\"display:inline;vertical-align:middle;\" /></a></td></tr>\n",
       "</table>\n"
      ],
      "text/plain": [
       "0. {(a + x) = (a + y) if a in Natural ,  x in Natural ,  y in Natural ,  x = y.\n",
       "   core type: Conditional\n",
       "   value: 1\n",
       "   condition: 2\n",
       "1. (a + x) = (a + y)\n",
       "   core type: Operation\n",
       "   operator: 19\n",
       "   operands: 3\n",
       "2. (a in Natural) and (x in Natural) and (y in Natural) and (x = y)\n",
       "   core type: Operation\n",
       "   operator: 4\n",
       "   operands: 5\n",
       "3. (a + x, a + y)\n",
       "   core type: ExprTuple\n",
       "   sub-expressions: 6, 7\n",
       "4. and\n",
       "   core type: Literal\n",
       "   sub-expressions: \n",
       "5. (a in Natural, x in Natural, y in Natural, x = y)\n",
       "   core type: ExprTuple\n",
       "   sub-expressions: 8, 9, 10, 11\n",
       "6. a + x\n",
       "   core type: Operation\n",
       "   operator: 13\n",
       "   operands: 12\n",
       "7. a + y\n",
       "   core type: Operation\n",
       "   operator: 13\n",
       "   operands: 14\n",
       "8. a in Natural\n",
       "   core type: Operation\n",
       "   operator: 17\n",
       "   operands: 15\n",
       "9. x in Natural\n",
       "   core type: Operation\n",
       "   operator: 17\n",
       "   operands: 16\n",
       "10. y in Natural\n",
       "    core type: Operation\n",
       "    operator: 17\n",
       "    operands: 18\n",
       "11. x = y\n",
       "    core type: Operation\n",
       "    operator: 19\n",
       "    operands: 20\n",
       "12. (a, x)\n",
       "    core type: ExprTuple\n",
       "    sub-expressions: 21, 23\n",
       "13. +\n",
       "    core type: Literal\n",
       "    sub-expressions: \n",
       "14. (a, y)\n",
       "    core type: ExprTuple\n",
       "    sub-expressions: 21, 24\n",
       "15. (a, Natural)\n",
       "    core type: ExprTuple\n",
       "    sub-expressions: 21, 22\n",
       "16. (x, Natural)\n",
       "    core type: ExprTuple\n",
       "    sub-expressions: 23, 22\n",
       "17. in\n",
       "    core type: Literal\n",
       "    sub-expressions: \n",
       "18. (y, Natural)\n",
       "    core type: ExprTuple\n",
       "    sub-expressions: 24, 22\n",
       "19. =\n",
       "    core type: Literal\n",
       "    sub-expressions: \n",
       "20. (x, y)\n",
       "    core type: ExprTuple\n",
       "    sub-expressions: 23, 24\n",
       "21. a\n",
       "    core type: Variable\n",
       "    sub-expressions: \n",
       "22. Natural\n",
       "    core type: Literal\n",
       "    sub-expressions: \n",
       "23. x\n",
       "    core type: Variable\n",
       "    sub-expressions: \n",
       "24. y\n",
       "    core type: Variable\n",
       "    sub-expressions: "
      ]
     },
     "metadata": {},
     "output_type": "display_data"
    }
   ],
   "source": [
    "# display the expression information\n",
    "stored_expr.expr_info()"
   ]
  },
  {
   "cell_type": "code",
   "execution_count": null,
   "metadata": {},
   "outputs": [],
   "source": []
  }
 ],
 "metadata": {
  "kernelspec": {
   "display_name": "Python 3",
   "language": "python",
   "name": "python3"
  }
 },
 "nbformat": 4,
 "nbformat_minor": 0
}