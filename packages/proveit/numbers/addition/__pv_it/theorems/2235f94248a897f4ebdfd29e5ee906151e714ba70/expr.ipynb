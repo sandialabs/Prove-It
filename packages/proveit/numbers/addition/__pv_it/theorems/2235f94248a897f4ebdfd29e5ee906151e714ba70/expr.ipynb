{
 "cells": [
  {
   "cell_type": "markdown",
   "metadata": {},
   "source": [
    "Expression of type <a class=\"ProveItLink\" href=\"../../../../../../../doc/html/api/proveit.ExprTuple.html\">ExprTuple</a>\n",
    "=======================\n",
    "# from the theory of <a class=\"ProveItLink\" href=\"../../../_theory_nbs_/theory.ipynb\">proveit.numbers.addition</a>"
   ]
  },
  {
   "cell_type": "code",
   "execution_count": 1,
   "metadata": {},
   "outputs": [],
   "source": [
    "import proveit\n",
    "# Automation is not needed when building an expression:\n",
    "proveit.defaults.automation = False # This will speed things up.\n",
    "proveit.defaults.inline_pngs = False # Makes files smaller.\n",
    "%load_expr # Load the stored expression as 'stored_expr'\n",
    "# import Expression classes needed to build the expression\n",
    "from proveit import Conditional, ExprTuple, Lambda, b, i, j\n",
    "from proveit.core_expr_types import a_1_to_i, c_1_to_j\n",
    "from proveit.logic import And, Forall, InSet\n",
    "from proveit.numbers import Add, Less, Natural, RationalNeg, RationalNonPos, zero"
   ]
  },
  {
   "cell_type": "code",
   "execution_count": 2,
   "metadata": {},
   "outputs": [
    {
     "data": {
      "text/html": [
       "<strong id=\"expr\">expr:</strong> <a class=\"ProveItLink\" href=\"expr.ipynb\"><img src=\"expr.png\" style=\"display:inline;vertical-align:middle;\" /></a><br>"
      ],
      "text/plain": [
       "<IPython.core.display.HTML object>"
      ]
     },
     "metadata": {},
     "output_type": "display_data"
    }
   ],
   "source": [
    "# build up the expression from sub-expressions\n",
    "expr = ExprTuple(Lambda([i, j], Conditional(Forall(instance_param_or_params = [a_1_to_i, b, c_1_to_j], instance_expr = InSet(Add(a_1_to_i, b, c_1_to_j), RationalNeg), domain = RationalNonPos, condition = Less(b, zero)), And(InSet(i, Natural), InSet(j, Natural)))))"
   ]
  },
  {
   "cell_type": "code",
   "execution_count": 3,
   "metadata": {},
   "outputs": [
    {
     "name": "stdout",
     "output_type": "stream",
     "text": [
      "Passed sanity check: expr matches stored_expr\n"
     ]
    }
   ],
   "source": [
    "# check that the built expression is the same as the stored expression\n",
    "assert expr == stored_expr\n",
    "assert expr._style_id == stored_expr._style_id\n",
    "print(\"Passed sanity check: expr matches stored_expr\")"
   ]
  },
  {
   "cell_type": "code",
   "execution_count": 4,
   "metadata": {},
   "outputs": [
    {
     "name": "stdout",
     "output_type": "stream",
     "text": [
      "\\left(\\left(i, j\\right) \\mapsto \\left\\{\\forall_{a_{1}, a_{2}, \\ldots, a_{i}, b, c_{1}, c_{2}, \\ldots, c_{j} \\in \\mathbb{Q}^{\\leq 0}~|~b < 0}~\\left(\\left(a_{1} +  a_{2} +  \\ldots +  a_{i} + b+ c_{1} +  c_{2} +  \\ldots +  c_{j}\\right) \\in \\mathbb{Q}^-\\right) \\textrm{ if } i \\in \\mathbb{N} ,  j \\in \\mathbb{N}\\right..\\right)\n"
     ]
    }
   ],
   "source": [
    "# Show the LaTeX representation of the expression for convenience if you need it.\n",
    "print(stored_expr.latex())"
   ]
  },
  {
   "cell_type": "code",
   "execution_count": 5,
   "metadata": {},
   "outputs": [
    {
     "data": {
      "text/html": [
       "no style options"
      ],
      "text/plain": [
       "no style options"
      ]
     },
     "metadata": {},
     "output_type": "display_data"
    }
   ],
   "source": [
    "stored_expr.style_options()"
   ]
  },
  {
   "cell_type": "code",
   "execution_count": 6,
   "metadata": {},
   "outputs": [
    {
     "data": {
      "text/html": [
       "<table><tr><th>&nbsp;</th><th>core type</th><th>sub-expressions</th><th>expression</th></tr>\n",
       "<tr><td>0</td><td>ExprTuple</td><td>1</td><td><a class=\"ProveItLink\" href=\"expr.ipynb\"><img src=\"expr.png\" style=\"display:inline;vertical-align:middle;\" /></a></td></tr>\n",
       "<tr><td>1</td><td>Lambda</td><td>parameters:&nbsp;2<br>body:&nbsp;3<br></td><td><a class=\"ProveItLink\" href=\"../5db2cf046d5e2def5e957bacf6ea2e11e0705c2e0/expr.ipynb\"><img src=\"../5db2cf046d5e2def5e957bacf6ea2e11e0705c2e0/expr.png\" style=\"display:inline;vertical-align:middle;\" /></a></td></tr>\n",
       "<tr><td>2</td><td>ExprTuple</td><td>41, 44</td><td><a class=\"ProveItLink\" href=\"../fd5db4d3d282981293a7ef32c5ae50e0675f01460/expr.ipynb\"><img src=\"../fd5db4d3d282981293a7ef32c5ae50e0675f01460/expr.png\" style=\"display:inline;vertical-align:middle;\" /></a></td></tr>\n",
       "<tr><td>3</td><td>Conditional</td><td>value:&nbsp;4<br>condition:&nbsp;5<br></td><td><a class=\"ProveItLink\" href=\"../1a12c0efc6fa22114a79efee9610860198cb43950/expr.ipynb\"><img src=\"../1a12c0efc6fa22114a79efee9610860198cb43950/expr.png\" style=\"display:inline;vertical-align:middle;\" /></a></td></tr>\n",
       "<tr><td>4</td><td>Operation</td><td>operator:&nbsp;6<br>operand:&nbsp;9<br></td><td><a class=\"ProveItLink\" href=\"../4b4bff5f4e1c20cb14d83f4c10beeba5b6afa1390/expr.ipynb\"><img src=\"../4b4bff5f4e1c20cb14d83f4c10beeba5b6afa1390/expr.png\" style=\"display:inline;vertical-align:middle;\" /></a></td></tr>\n",
       "<tr><td>5</td><td>Operation</td><td>operator:&nbsp;19<br>operands:&nbsp;8<br></td><td><a class=\"ProveItLink\" href=\"../f5d9619703604b55666a74ce8b6b93818bc634bb0/expr.ipynb\"><img src=\"../f5d9619703604b55666a74ce8b6b93818bc634bb0/expr.png\" style=\"display:inline;vertical-align:middle;\" /></a></td></tr>\n",
       "<tr><td>6</td><td>Literal</td><td></td><td><a class=\"ProveItLink\" href=\"../../../../../logic/booleans/quantification/universality/__pv_it/common/083d2baa0b8ecab1d230f9ec29a15aa1355809fb0/expr.ipynb\"><img src=\"../../../../../logic/booleans/quantification/universality/__pv_it/common/083d2baa0b8ecab1d230f9ec29a15aa1355809fb0/expr.png\" style=\"display:inline;vertical-align:middle;\" /></a></td></tr>\n",
       "<tr><td>7</td><td>ExprTuple</td><td>9</td><td><a class=\"ProveItLink\" href=\"../795c4543af56ae102c2a98e80cf5862680e0b8200/expr.ipynb\"><img src=\"../795c4543af56ae102c2a98e80cf5862680e0b8200/expr.png\" style=\"display:inline;vertical-align:middle;\" /></a></td></tr>\n",
       "<tr><td>8</td><td>ExprTuple</td><td>10, 11</td><td><a class=\"ProveItLink\" href=\"../ee48d8077493fceb1212e72214d6f918e35080800/expr.ipynb\"><img src=\"../ee48d8077493fceb1212e72214d6f918e35080800/expr.png\" style=\"display:inline;vertical-align:middle;\" /></a></td></tr>\n",
       "<tr><td>9</td><td>Lambda</td><td>parameters:&nbsp;28<br>body:&nbsp;12<br></td><td><a class=\"ProveItLink\" href=\"../cd5d465c87fa668ce9f8c3316a0e9636c9cd43310/expr.ipynb\"><img src=\"../cd5d465c87fa668ce9f8c3316a0e9636c9cd43310/expr.png\" style=\"display:inline;vertical-align:middle;\" /></a></td></tr>\n",
       "<tr><td>10</td><td>Operation</td><td>operator:&nbsp;46<br>operands:&nbsp;13<br></td><td><a class=\"ProveItLink\" href=\"../10cfe086dee5530e9b3b60486d89c6cb824c41920/expr.ipynb\"><img src=\"../10cfe086dee5530e9b3b60486d89c6cb824c41920/expr.png\" style=\"display:inline;vertical-align:middle;\" /></a></td></tr>\n",
       "<tr><td>11</td><td>Operation</td><td>operator:&nbsp;46<br>operands:&nbsp;14<br></td><td><a class=\"ProveItLink\" href=\"../a66b1fb5d205d2e8007a39dfc31bf38e465e0de50/expr.ipynb\"><img src=\"../a66b1fb5d205d2e8007a39dfc31bf38e465e0de50/expr.png\" style=\"display:inline;vertical-align:middle;\" /></a></td></tr>\n",
       "<tr><td>12</td><td>Conditional</td><td>value:&nbsp;15<br>condition:&nbsp;16<br></td><td><a class=\"ProveItLink\" href=\"../1e12dd90170f2552cef2b52bed8a636f134ed8890/expr.ipynb\"><img src=\"../1e12dd90170f2552cef2b52bed8a636f134ed8890/expr.png\" style=\"display:inline;vertical-align:middle;\" /></a></td></tr>\n",
       "<tr><td>13</td><td>ExprTuple</td><td>41, 17</td><td><a class=\"ProveItLink\" href=\"../1e0eb14b674d1cdf4a94a1df57c3bb998311774a0/expr.ipynb\"><img src=\"../1e0eb14b674d1cdf4a94a1df57c3bb998311774a0/expr.png\" style=\"display:inline;vertical-align:middle;\" /></a></td></tr>\n",
       "<tr><td>14</td><td>ExprTuple</td><td>44, 17</td><td><a class=\"ProveItLink\" href=\"../7a128213361f018e3a5fb4107c35c71018499dc90/expr.ipynb\"><img src=\"../7a128213361f018e3a5fb4107c35c71018499dc90/expr.png\" style=\"display:inline;vertical-align:middle;\" /></a></td></tr>\n",
       "<tr><td>15</td><td>Operation</td><td>operator:&nbsp;46<br>operands:&nbsp;18<br></td><td><a class=\"ProveItLink\" href=\"../f837d2f46779c302ce81cbe79bf97f2fa13e11890/expr.ipynb\"><img src=\"../f837d2f46779c302ce81cbe79bf97f2fa13e11890/expr.png\" style=\"display:inline;vertical-align:middle;\" /></a></td></tr>\n",
       "<tr><td>16</td><td>Operation</td><td>operator:&nbsp;19<br>operands:&nbsp;20<br></td><td><a class=\"ProveItLink\" href=\"../270688f226b420002f4b128ffb29dc0ec8f91e4c0/expr.ipynb\"><img src=\"../270688f226b420002f4b128ffb29dc0ec8f91e4c0/expr.png\" style=\"display:inline;vertical-align:middle;\" /></a></td></tr>\n",
       "<tr><td>17</td><td>Literal</td><td></td><td><a class=\"ProveItLink\" href=\"../../../../number_sets/natural_numbers/__pv_it/common/8b7c321957f52ed3b05b36af612eeae4fa4783bc0/expr.ipynb\"><img src=\"../../../../number_sets/natural_numbers/__pv_it/common/8b7c321957f52ed3b05b36af612eeae4fa4783bc0/expr.png\" style=\"display:inline;vertical-align:middle;\" /></a></td></tr>\n",
       "<tr><td>18</td><td>ExprTuple</td><td>21, 22</td><td><a class=\"ProveItLink\" href=\"../1edcc4ddf6e3219d1f4a89c102e6539ad9c6579d0/expr.ipynb\"><img src=\"../1edcc4ddf6e3219d1f4a89c102e6539ad9c6579d0/expr.png\" style=\"display:inline;vertical-align:middle;\" /></a></td></tr>\n",
       "<tr><td>19</td><td>Literal</td><td></td><td><a class=\"ProveItLink\" href=\"../../../../../logic/booleans/conjunction/__pv_it/common/42118ff318bd65d98b1393f64ce7c2269feef76e0/expr.ipynb\"><img src=\"../../../../../logic/booleans/conjunction/__pv_it/common/42118ff318bd65d98b1393f64ce7c2269feef76e0/expr.png\" style=\"display:inline;vertical-align:middle;\" /></a></td></tr>\n",
       "<tr><td>20</td><td>ExprTuple</td><td>23, 24, 25, 26</td><td><a class=\"ProveItLink\" href=\"../36c79b6cbfcfd4f118a71623cf7cbab2f655cd9f0/expr.ipynb\"><img src=\"../36c79b6cbfcfd4f118a71623cf7cbab2f655cd9f0/expr.png\" style=\"display:inline;vertical-align:middle;\" /></a></td></tr>\n",
       "<tr><td>21</td><td>Operation</td><td>operator:&nbsp;27<br>operands:&nbsp;28<br></td><td><a class=\"ProveItLink\" href=\"../219a4871a33df7e94921f69ec15c765af99a32930/expr.ipynb\"><img src=\"../219a4871a33df7e94921f69ec15c765af99a32930/expr.png\" style=\"display:inline;vertical-align:middle;\" /></a></td></tr>\n",
       "<tr><td>22</td><td>Literal</td><td></td><td><a class=\"ProveItLink\" href=\"../../../../number_sets/rational_numbers/__pv_it/common/8bb622a2affbd9b51f8297e370d9686794d654340/expr.ipynb\"><img src=\"../../../../number_sets/rational_numbers/__pv_it/common/8bb622a2affbd9b51f8297e370d9686794d654340/expr.png\" style=\"display:inline;vertical-align:middle;\" /></a></td></tr>\n",
       "<tr><td>23</td><td>ExprRange</td><td>lambda_map:&nbsp;29<br>start_index:&nbsp;43<br>end_index:&nbsp;41<br></td><td><a class=\"ProveItLink\" href=\"../b0205e94cd99591d40ff31cc635c59c0ce0a2a440/expr.ipynb\"><img src=\"../b0205e94cd99591d40ff31cc635c59c0ce0a2a440/expr.png\" style=\"display:inline;vertical-align:middle;\" /></a></td></tr>\n",
       "<tr><td>24</td><td>Operation</td><td>operator:&nbsp;46<br>operands:&nbsp;30<br></td><td><a class=\"ProveItLink\" href=\"../8d840d6cfeadce092cee4156b8fb4cab441ed3ee0/expr.ipynb\"><img src=\"../8d840d6cfeadce092cee4156b8fb4cab441ed3ee0/expr.png\" style=\"display:inline;vertical-align:middle;\" /></a></td></tr>\n",
       "<tr><td>25</td><td>ExprRange</td><td>lambda_map:&nbsp;31<br>start_index:&nbsp;43<br>end_index:&nbsp;44<br></td><td><a class=\"ProveItLink\" href=\"../46a00da9217f72629850af581218b1ec6b984e720/expr.ipynb\"><img src=\"../46a00da9217f72629850af581218b1ec6b984e720/expr.png\" style=\"display:inline;vertical-align:middle;\" /></a></td></tr>\n",
       "<tr><td>26</td><td>Operation</td><td>operator:&nbsp;32<br>operands:&nbsp;33<br></td><td><a class=\"ProveItLink\" href=\"../937b5f9529b96e9512f5cd5d8bb64bf7384a4e610/expr.ipynb\"><img src=\"../937b5f9529b96e9512f5cd5d8bb64bf7384a4e610/expr.png\" style=\"display:inline;vertical-align:middle;\" /></a></td></tr>\n",
       "<tr><td>27</td><td>Literal</td><td></td><td><a class=\"ProveItLink\" href=\"../../common/4b7effaab3619a1c2c38fe2dee8601df8ec714590/expr.ipynb\"><img src=\"../../common/4b7effaab3619a1c2c38fe2dee8601df8ec714590/expr.png\" style=\"display:inline;vertical-align:middle;\" /></a></td></tr>\n",
       "<tr><td>28</td><td>ExprTuple</td><td>34, 38, 35</td><td><a class=\"ProveItLink\" href=\"../d84a0b397d95592bd7106c405306a567e64b1ad30/expr.ipynb\"><img src=\"../d84a0b397d95592bd7106c405306a567e64b1ad30/expr.png\" style=\"display:inline;vertical-align:middle;\" /></a></td></tr>\n",
       "<tr><td>29</td><td>Lambda</td><td>parameter:&nbsp;54<br>body:&nbsp;36<br></td><td><a class=\"ProveItLink\" href=\"../b80a4e09dc62367781d3d1fe2d5f6c107c13518b0/expr.ipynb\"><img src=\"../b80a4e09dc62367781d3d1fe2d5f6c107c13518b0/expr.png\" style=\"display:inline;vertical-align:middle;\" /></a></td></tr>\n",
       "<tr><td>30</td><td>ExprTuple</td><td>38, 50</td><td><a class=\"ProveItLink\" href=\"../59976f6014eb17840412c4d3f6c089f99702c05f0/expr.ipynb\"><img src=\"../59976f6014eb17840412c4d3f6c089f99702c05f0/expr.png\" style=\"display:inline;vertical-align:middle;\" /></a></td></tr>\n",
       "<tr><td>31</td><td>Lambda</td><td>parameter:&nbsp;54<br>body:&nbsp;37<br></td><td><a class=\"ProveItLink\" href=\"../be74353a81965f500ebcf8b9f907c8b48ee672480/expr.ipynb\"><img src=\"../be74353a81965f500ebcf8b9f907c8b48ee672480/expr.png\" style=\"display:inline;vertical-align:middle;\" /></a></td></tr>\n",
       "<tr><td>32</td><td>Literal</td><td></td><td><a class=\"ProveItLink\" href=\"../../../../ordering/__pv_it/common/fa503ed52033522c609eef1cf3e1b45796489da50/expr.ipynb\"><img src=\"../../../../ordering/__pv_it/common/fa503ed52033522c609eef1cf3e1b45796489da50/expr.png\" style=\"display:inline;vertical-align:middle;\" /></a></td></tr>\n",
       "<tr><td>33</td><td>ExprTuple</td><td>38, 39</td><td><a class=\"ProveItLink\" href=\"../714d61b82b53d478c6f5e033e3a508b8ceb0cf280/expr.ipynb\"><img src=\"../714d61b82b53d478c6f5e033e3a508b8ceb0cf280/expr.png\" style=\"display:inline;vertical-align:middle;\" /></a></td></tr>\n",
       "<tr><td>34</td><td>ExprRange</td><td>lambda_map:&nbsp;40<br>start_index:&nbsp;43<br>end_index:&nbsp;41<br></td><td><a class=\"ProveItLink\" href=\"../../../../../core_expr_types/__pv_it/common/7230c683fcd56948c826ac1be71b01b6fb2913950/expr.ipynb\"><img src=\"../../../../../core_expr_types/__pv_it/common/7230c683fcd56948c826ac1be71b01b6fb2913950/expr.png\" style=\"display:inline;vertical-align:middle;\" /></a></td></tr>\n",
       "<tr><td>35</td><td>ExprRange</td><td>lambda_map:&nbsp;42<br>start_index:&nbsp;43<br>end_index:&nbsp;44<br></td><td><a class=\"ProveItLink\" href=\"../../../../../core_expr_types/__pv_it/common/197f625500e1374c769a9a88f526b5b80f714d350/expr.ipynb\"><img src=\"../../../../../core_expr_types/__pv_it/common/197f625500e1374c769a9a88f526b5b80f714d350/expr.png\" style=\"display:inline;vertical-align:middle;\" /></a></td></tr>\n",
       "<tr><td>36</td><td>Operation</td><td>operator:&nbsp;46<br>operands:&nbsp;45<br></td><td><a class=\"ProveItLink\" href=\"../7214233b0fe4b8d2a86633ed7925678156d9306a0/expr.ipynb\"><img src=\"../7214233b0fe4b8d2a86633ed7925678156d9306a0/expr.png\" style=\"display:inline;vertical-align:middle;\" /></a></td></tr>\n",
       "<tr><td>37</td><td>Operation</td><td>operator:&nbsp;46<br>operands:&nbsp;47<br></td><td><a class=\"ProveItLink\" href=\"../75dc93862b0b2abde05430addf6ef664b821235b0/expr.ipynb\"><img src=\"../75dc93862b0b2abde05430addf6ef664b821235b0/expr.png\" style=\"display:inline;vertical-align:middle;\" /></a></td></tr>\n",
       "<tr><td>38</td><td>Variable</td><td></td><td><a class=\"ProveItLink\" href=\"../../../../../__pv_it/common/195236b98c6c564a75b5dbada74b173bc52d5c3e0/expr.ipynb\"><img src=\"../../../../../__pv_it/common/195236b98c6c564a75b5dbada74b173bc52d5c3e0/expr.png\" style=\"display:inline;vertical-align:middle;\" /></a></td></tr>\n",
       "<tr><td>39</td><td>Literal</td><td></td><td><a class=\"ProveItLink\" href=\"../../../../numerals/__pv_it/common/dd4e19e8b134dfb293470ea55fe3589b0ab9f8040/expr.ipynb\"><img src=\"../../../../numerals/__pv_it/common/dd4e19e8b134dfb293470ea55fe3589b0ab9f8040/expr.png\" style=\"display:inline;vertical-align:middle;\" /></a></td></tr>\n",
       "<tr><td>40</td><td>Lambda</td><td>parameter:&nbsp;54<br>body:&nbsp;48<br></td><td><a class=\"ProveItLink\" href=\"../../../../../core_expr_types/__pv_it/common/1527ad383e12f9c6ed6b371c9a7dd1892d80da1b0/expr.ipynb\"><img src=\"../../../../../core_expr_types/__pv_it/common/1527ad383e12f9c6ed6b371c9a7dd1892d80da1b0/expr.png\" style=\"display:inline;vertical-align:middle;\" /></a></td></tr>\n",
       "<tr><td>41</td><td>Variable</td><td></td><td><a class=\"ProveItLink\" href=\"../../../../../__pv_it/common/ae955345c83abf786c3aff8681cd5465beae262d0/expr.ipynb\"><img src=\"../../../../../__pv_it/common/ae955345c83abf786c3aff8681cd5465beae262d0/expr.png\" style=\"display:inline;vertical-align:middle;\" /></a></td></tr>\n",
       "<tr><td>42</td><td>Lambda</td><td>parameter:&nbsp;54<br>body:&nbsp;49<br></td><td><a class=\"ProveItLink\" href=\"../../../../../core_expr_types/__pv_it/common/89a29b5b02ce6c37577f6352274a3d503dcdde3e0/expr.ipynb\"><img src=\"../../../../../core_expr_types/__pv_it/common/89a29b5b02ce6c37577f6352274a3d503dcdde3e0/expr.png\" style=\"display:inline;vertical-align:middle;\" /></a></td></tr>\n",
       "<tr><td>43</td><td>Literal</td><td></td><td><a class=\"ProveItLink\" href=\"../../../../numerals/__pv_it/common/682157d4892d216d9e5626ed533aff9b56b9506e0/expr.ipynb\"><img src=\"../../../../numerals/__pv_it/common/682157d4892d216d9e5626ed533aff9b56b9506e0/expr.png\" style=\"display:inline;vertical-align:middle;\" /></a></td></tr>\n",
       "<tr><td>44</td><td>Variable</td><td></td><td><a class=\"ProveItLink\" href=\"../../../../../__pv_it/common/1ed21df18baca2f42b561a7ffbf30a2743d594650/expr.ipynb\"><img src=\"../../../../../__pv_it/common/1ed21df18baca2f42b561a7ffbf30a2743d594650/expr.png\" style=\"display:inline;vertical-align:middle;\" /></a></td></tr>\n",
       "<tr><td>45</td><td>ExprTuple</td><td>48, 50</td><td><a class=\"ProveItLink\" href=\"../29ee63debd4d2a7133926b73cd359675e1e008b60/expr.ipynb\"><img src=\"../29ee63debd4d2a7133926b73cd359675e1e008b60/expr.png\" style=\"display:inline;vertical-align:middle;\" /></a></td></tr>\n",
       "<tr><td>46</td><td>Literal</td><td></td><td><a class=\"ProveItLink\" href=\"../../../../../logic/sets/membership/__pv_it/common/477487d8796864d23d5810f83761435f25167f690/expr.ipynb\"><img src=\"../../../../../logic/sets/membership/__pv_it/common/477487d8796864d23d5810f83761435f25167f690/expr.png\" style=\"display:inline;vertical-align:middle;\" /></a></td></tr>\n",
       "<tr><td>47</td><td>ExprTuple</td><td>49, 50</td><td><a class=\"ProveItLink\" href=\"../bce14e64bf3dc5cdfb6716827f00393292d7de9d0/expr.ipynb\"><img src=\"../bce14e64bf3dc5cdfb6716827f00393292d7de9d0/expr.png\" style=\"display:inline;vertical-align:middle;\" /></a></td></tr>\n",
       "<tr><td>48</td><td>IndexedVar</td><td>variable:&nbsp;51<br>index:&nbsp;54<br></td><td><a class=\"ProveItLink\" href=\"../../../../../core_expr_types/__pv_it/common/3a62c13e156d62d52fe585fa37cc2172fcf685260/expr.ipynb\"><img src=\"../../../../../core_expr_types/__pv_it/common/3a62c13e156d62d52fe585fa37cc2172fcf685260/expr.png\" style=\"display:inline;vertical-align:middle;\" /></a></td></tr>\n",
       "<tr><td>49</td><td>IndexedVar</td><td>variable:&nbsp;52<br>index:&nbsp;54<br></td><td><a class=\"ProveItLink\" href=\"../../../../../core_expr_types/__pv_it/common/8ffbefe913f7c934b2e3a2a12315d5900822d9d00/expr.ipynb\"><img src=\"../../../../../core_expr_types/__pv_it/common/8ffbefe913f7c934b2e3a2a12315d5900822d9d00/expr.png\" style=\"display:inline;vertical-align:middle;\" /></a></td></tr>\n",
       "<tr><td>50</td><td>Literal</td><td></td><td><a class=\"ProveItLink\" href=\"../../../../number_sets/rational_numbers/__pv_it/common/53ec401a884d6301923442b9ce9a74696b2fb0810/expr.ipynb\"><img src=\"../../../../number_sets/rational_numbers/__pv_it/common/53ec401a884d6301923442b9ce9a74696b2fb0810/expr.png\" style=\"display:inline;vertical-align:middle;\" /></a></td></tr>\n",
       "<tr><td>51</td><td>Variable</td><td></td><td><a class=\"ProveItLink\" href=\"../../../../../__pv_it/common/c06c606ec12678c58933ac85412ecadc2ae28be60/expr.ipynb\"><img src=\"../../../../../__pv_it/common/c06c606ec12678c58933ac85412ecadc2ae28be60/expr.png\" style=\"display:inline;vertical-align:middle;\" /></a></td></tr>\n",
       "<tr><td>52</td><td>Variable</td><td></td><td><a class=\"ProveItLink\" href=\"../../../../../__pv_it/common/ceef4280a2f1cc604b455b54e735507244cc62cd0/expr.ipynb\"><img src=\"../../../../../__pv_it/common/ceef4280a2f1cc604b455b54e735507244cc62cd0/expr.png\" style=\"display:inline;vertical-align:middle;\" /></a></td></tr>\n",
       "<tr><td>53</td><td>ExprTuple</td><td>54</td><td><a class=\"ProveItLink\" href=\"../../../../../core_expr_types/__pv_it/common/4b0dd6be36d76552eda6a95d5b4a27f5a5b62f900/expr.ipynb\"><img src=\"../../../../../core_expr_types/__pv_it/common/4b0dd6be36d76552eda6a95d5b4a27f5a5b62f900/expr.png\" style=\"display:inline;vertical-align:middle;\" /></a></td></tr>\n",
       "<tr><td>54</td><td>Variable</td><td></td><td><a class=\"ProveItLink\" href=\"../../../../../core_expr_types/__pv_it/common/006c465e50948aa2b52285e2de47974f741255cc0/expr.ipynb\"><img src=\"../../../../../core_expr_types/__pv_it/common/006c465e50948aa2b52285e2de47974f741255cc0/expr.png\" style=\"display:inline;vertical-align:middle;\" /></a></td></tr>\n",
       "</table>\n"
      ],
      "text/plain": [
       "0. ((i, j) -> {forall_{a_{1}, a_{2}, ..., a_{i}, b, c_{1}, c_{2}, ..., c_{j} in RationalNonPos | b < 0} ((a_{1} +  a_{2} +  ... +  a_{i} + b+ c_{1} +  c_{2} +  ... +  c_{j}) in RationalNeg) if i in Natural ,  j in Natural.)\n",
       "   core type: ExprTuple\n",
       "   sub-expressions: 1\n",
       "1. (i, j) -> {forall_{a_{1}, a_{2}, ..., a_{i}, b, c_{1}, c_{2}, ..., c_{j} in RationalNonPos | b < 0} ((a_{1} +  a_{2} +  ... +  a_{i} + b+ c_{1} +  c_{2} +  ... +  c_{j}) in RationalNeg) if i in Natural ,  j in Natural.\n",
       "   core type: Lambda\n",
       "   parameters: 2\\n   body: 3\n",
       "2. (i, j)\n",
       "   core type: ExprTuple\n",
       "   sub-expressions: 41, 44\n",
       "3. {forall_{a_{1}, a_{2}, ..., a_{i}, b, c_{1}, c_{2}, ..., c_{j} in RationalNonPos | b < 0} ((a_{1} +  a_{2} +  ... +  a_{i} + b+ c_{1} +  c_{2} +  ... +  c_{j}) in RationalNeg) if i in Natural ,  j in Natural.\n",
       "   core type: Conditional\n",
       "   value: 4\n",
       "   condition: 5\n",
       "4. forall_{a_{1}, a_{2}, ..., a_{i}, b, c_{1}, c_{2}, ..., c_{j} in RationalNonPos | b < 0} ((a_{1} +  a_{2} +  ... +  a_{i} + b+ c_{1} +  c_{2} +  ... +  c_{j}) in RationalNeg)\n",
       "   core type: Operation\n",
       "   operator: 6\n",
       "   operand: 9\n",
       "5. (i in Natural) and (j in Natural)\n",
       "   core type: Operation\n",
       "   operator: 19\n",
       "   operands: 8\n",
       "6. forall\n",
       "   core type: Literal\n",
       "   sub-expressions: \n",
       "7. ((a_{1}, a_{2}, ..., a_{i}, b, c_{1}, c_{2}, ..., c_{j}) -> {(a_{1} +  a_{2} +  ... +  a_{i} + b+ c_{1} +  c_{2} +  ... +  c_{j}) in RationalNeg if (a_{1} in RationalNonPos) ,  (a_{2} in RationalNonPos) ,  ... ,  (a_{i} in RationalNonPos) ,  b in RationalNonPos, (c_{1} in RationalNonPos) ,  (c_{2} in RationalNonPos) ,  ... ,  (c_{j} in RationalNonPos) ,  b < 0.)\n",
       "   core type: ExprTuple\n",
       "   sub-expressions: 9\n",
       "8. (i in Natural, j in Natural)\n",
       "   core type: ExprTuple\n",
       "   sub-expressions: 10, 11\n",
       "9. (a_{1}, a_{2}, ..., a_{i}, b, c_{1}, c_{2}, ..., c_{j}) -> {(a_{1} +  a_{2} +  ... +  a_{i} + b+ c_{1} +  c_{2} +  ... +  c_{j}) in RationalNeg if (a_{1} in RationalNonPos) ,  (a_{2} in RationalNonPos) ,  ... ,  (a_{i} in RationalNonPos) ,  b in RationalNonPos, (c_{1} in RationalNonPos) ,  (c_{2} in RationalNonPos) ,  ... ,  (c_{j} in RationalNonPos) ,  b < 0.\n",
       "   core type: Lambda\n",
       "   parameters: 28\\n   body: 12\n",
       "10. i in Natural\n",
       "    core type: Operation\n",
       "    operator: 46\n",
       "    operands: 13\n",
       "11. j in Natural\n",
       "    core type: Operation\n",
       "    operator: 46\n",
       "    operands: 14\n",
       "12. {(a_{1} +  a_{2} +  ... +  a_{i} + b+ c_{1} +  c_{2} +  ... +  c_{j}) in RationalNeg if (a_{1} in RationalNonPos) ,  (a_{2} in RationalNonPos) ,  ... ,  (a_{i} in RationalNonPos) ,  b in RationalNonPos, (c_{1} in RationalNonPos) ,  (c_{2} in RationalNonPos) ,  ... ,  (c_{j} in RationalNonPos) ,  b < 0.\n",
       "    core type: Conditional\n",
       "    value: 15\n",
       "    condition: 16\n",
       "13. (i, Natural)\n",
       "    core type: ExprTuple\n",
       "    sub-expressions: 41, 17\n",
       "14. (j, Natural)\n",
       "    core type: ExprTuple\n",
       "    sub-expressions: 44, 17\n",
       "15. (a_{1} +  a_{2} +  ... +  a_{i} + b+ c_{1} +  c_{2} +  ... +  c_{j}) in RationalNeg\n",
       "    core type: Operation\n",
       "    operator: 46\n",
       "    operands: 18\n",
       "16. (a_{1} in RationalNonPos) and  (a_{2} in RationalNonPos) and  ... and  (a_{i} in RationalNonPos) and (b in RationalNonPos)and (c_{1} in RationalNonPos) and  (c_{2} in RationalNonPos) and  ... and  (c_{j} in RationalNonPos) and (b < 0)\n",
       "    core type: Operation\n",
       "    operator: 19\n",
       "    operands: 20\n",
       "17. Natural\n",
       "    core type: Literal\n",
       "    sub-expressions: \n",
       "18. (a_{1} +  a_{2} +  ... +  a_{i} + b+ c_{1} +  c_{2} +  ... +  c_{j}, RationalNeg)\n",
       "    core type: ExprTuple\n",
       "    sub-expressions: 21, 22\n",
       "19. and\n",
       "    core type: Literal\n",
       "    sub-expressions: \n",
       "20. ((a_{1} in RationalNonPos), (a_{2} in RationalNonPos), ..., (a_{i} in RationalNonPos), b in RationalNonPos,(c_{1} in RationalNonPos), (c_{2} in RationalNonPos), ..., (c_{j} in RationalNonPos), b < 0)\n",
       "    core type: ExprTuple\n",
       "    sub-expressions: 23, 24, 25, 26\n",
       "21. a_{1} +  a_{2} +  ... +  a_{i} + b+ c_{1} +  c_{2} +  ... +  c_{j}\n",
       "    core type: Operation\n",
       "    operator: 27\n",
       "    operands: 28\n",
       "22. RationalNeg\n",
       "    core type: Literal\n",
       "    sub-expressions: \n",
       "23. (a_{1} in RationalNonPos), (a_{2} in RationalNonPos), ..., (a_{i} in RationalNonPos)\n",
       "    core type: ExprRange\n",
       "    lambda_map: 29\n",
       "    start_index: 43\n",
       "    end_index: 41\n",
       "24. b in RationalNonPos\n",
       "    core type: Operation\n",
       "    operator: 46\n",
       "    operands: 30\n",
       "25. (c_{1} in RationalNonPos), (c_{2} in RationalNonPos), ..., (c_{j} in RationalNonPos)\n",
       "    core type: ExprRange\n",
       "    lambda_map: 31\n",
       "    start_index: 43\n",
       "    end_index: 44\n",
       "26. b < 0\n",
       "    core type: Operation\n",
       "    operator: 32\n",
       "    operands: 33\n",
       "27. +\n",
       "    core type: Literal\n",
       "    sub-expressions: \n",
       "28. (a_{1}, a_{2}, ..., a_{i}, b,c_{1}, c_{2}, ..., c_{j})\n",
       "    core type: ExprTuple\n",
       "    sub-expressions: 34, 38, 35\n",
       "29. _a -> (a_{_a} in RationalNonPos)\n",
       "    core type: Lambda\n",
       "    parameter: 54\n",
       "    body: 36\n",
       "30. (b, RationalNonPos)\n",
       "    core type: ExprTuple\n",
       "    sub-expressions: 38, 50\n",
       "31. _a -> (c_{_a} in RationalNonPos)\n",
       "    core type: Lambda\n",
       "    parameter: 54\n",
       "    body: 37\n",
       "32. <\n",
       "    core type: Literal\n",
       "    sub-expressions: \n",
       "33. (b, 0)\n",
       "    core type: ExprTuple\n",
       "    sub-expressions: 38, 39\n",
       "34. a_{1}, a_{2}, ..., a_{i}\n",
       "    core type: ExprRange\n",
       "    lambda_map: 40\n",
       "    start_index: 43\n",
       "    end_index: 41\n",
       "35. c_{1}, c_{2}, ..., c_{j}\n",
       "    core type: ExprRange\n",
       "    lambda_map: 42\n",
       "    start_index: 43\n",
       "    end_index: 44\n",
       "36. a_{_a} in RationalNonPos\n",
       "    core type: Operation\n",
       "    operator: 46\n",
       "    operands: 45\n",
       "37. c_{_a} in RationalNonPos\n",
       "    core type: Operation\n",
       "    operator: 46\n",
       "    operands: 47\n",
       "38. b\n",
       "    core type: Variable\n",
       "    sub-expressions: \n",
       "39. 0\n",
       "    core type: Literal\n",
       "    sub-expressions: \n",
       "40. _a -> a_{_a}\n",
       "    core type: Lambda\n",
       "    parameter: 54\n",
       "    body: 48\n",
       "41. i\n",
       "    core type: Variable\n",
       "    sub-expressions: \n",
       "42. _a -> c_{_a}\n",
       "    core type: Lambda\n",
       "    parameter: 54\n",
       "    body: 49\n",
       "43. 1\n",
       "    core type: Literal\n",
       "    sub-expressions: \n",
       "44. j\n",
       "    core type: Variable\n",
       "    sub-expressions: \n",
       "45. (a_{_a}, RationalNonPos)\n",
       "    core type: ExprTuple\n",
       "    sub-expressions: 48, 50\n",
       "46. in\n",
       "    core type: Literal\n",
       "    sub-expressions: \n",
       "47. (c_{_a}, RationalNonPos)\n",
       "    core type: ExprTuple\n",
       "    sub-expressions: 49, 50\n",
       "48. a_{_a}\n",
       "    core type: IndexedVar\n",
       "variable: 51\n",
       "index: 54\n",
       "49. c_{_a}\n",
       "    core type: IndexedVar\n",
       "variable: 52\n",
       "index: 54\n",
       "50. RationalNonPos\n",
       "    core type: Literal\n",
       "    sub-expressions: \n",
       "51. a\n",
       "    core type: Variable\n",
       "    sub-expressions: \n",
       "52. c\n",
       "    core type: Variable\n",
       "    sub-expressions: \n",
       "53. (_a)\n",
       "    core type: ExprTuple\n",
       "    sub-expressions: 54\n",
       "54. _a\n",
       "    core type: Variable\n",
       "    sub-expressions: "
      ]
     },
     "metadata": {},
     "output_type": "display_data"
    }
   ],
   "source": [
    "# display the expression information\n",
    "stored_expr.expr_info()"
   ]
  },
  {
   "cell_type": "code",
   "execution_count": null,
   "metadata": {},
   "outputs": [],
   "source": []
  }
 ],
 "metadata": {
  "kernelspec": {
   "display_name": "Python 3",
   "language": "python",
   "name": "python3"
  }
 },
 "nbformat": 4,
 "nbformat_minor": 0
}