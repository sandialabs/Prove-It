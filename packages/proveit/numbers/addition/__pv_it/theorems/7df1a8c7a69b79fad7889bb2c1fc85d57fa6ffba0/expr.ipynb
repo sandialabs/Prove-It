{
 "cells": [
  {
   "cell_type": "markdown",
   "metadata": {},
   "source": [
    "Expression of type <a class=\"ProveItLink\" href=\"../../../../../../../doc/html/api/proveit.logic.And.html\">And</a>\n",
    "=======================\n",
    "# from the theory of <a class=\"ProveItLink\" href=\"../../../_theory_nbs_/theory.ipynb\">proveit.numbers.addition</a>"
   ]
  },
  {
   "cell_type": "code",
   "execution_count": 1,
   "metadata": {},
   "outputs": [],
   "source": [
    "import proveit\n",
    "# Automation is not needed when building an expression:\n",
    "proveit.defaults.automation = False # This will speed things up.\n",
    "proveit.defaults.inline_pngs = False # Makes files smaller.\n",
    "%load_expr # Load the stored expression as 'stored_expr'\n",
    "# import Expression classes needed to build the expression\n",
    "from proveit import ExprRange, IndexedVar, Variable, a, b, c, i, j\n",
    "from proveit.logic import And, InSet\n",
    "from proveit.numbers import RationalNonNeg, greater, one, zero"
   ]
  },
  {
   "cell_type": "code",
   "execution_count": 2,
   "metadata": {},
   "outputs": [
    {
     "data": {
      "text/html": [
       "<strong id=\"expr\">expr:</strong> <a class=\"ProveItLink\" href=\"expr.ipynb\"><img src=\"expr.png\" style=\"display:inline;vertical-align:middle;\" /></a><br>"
      ],
      "text/plain": [
       "<IPython.core.display.HTML object>"
      ]
     },
     "metadata": {},
     "output_type": "display_data"
    }
   ],
   "source": [
    "# build up the expression from sub-expressions\n",
    "sub_expr1 = Variable(\"_a\", latex_format = r\"{_{-}a}\")\n",
    "expr = And(ExprRange(sub_expr1, InSet(IndexedVar(a, sub_expr1), RationalNonNeg), one, i), InSet(b, RationalNonNeg), ExprRange(sub_expr1, InSet(IndexedVar(c, sub_expr1), RationalNonNeg), one, j), greater(b, zero))"
   ]
  },
  {
   "cell_type": "code",
   "execution_count": 3,
   "metadata": {},
   "outputs": [
    {
     "name": "stdout",
     "output_type": "stream",
     "text": [
      "Passed sanity check: expr matches stored_expr\n"
     ]
    }
   ],
   "source": [
    "# check that the built expression is the same as the stored expression\n",
    "assert expr == stored_expr\n",
    "assert expr._style_id == stored_expr._style_id\n",
    "print(\"Passed sanity check: expr matches stored_expr\")"
   ]
  },
  {
   "cell_type": "code",
   "execution_count": 4,
   "metadata": {},
   "outputs": [
    {
     "name": "stdout",
     "output_type": "stream",
     "text": [
      "\\left(a_{1} \\in \\mathbb{Q}^{\\geq 0}\\right) \\land  \\left(a_{2} \\in \\mathbb{Q}^{\\geq 0}\\right) \\land  \\ldots \\land  \\left(a_{i} \\in \\mathbb{Q}^{\\geq 0}\\right) \\land \\left(b \\in \\mathbb{Q}^{\\geq 0}\\right)\\land \\left(c_{1} \\in \\mathbb{Q}^{\\geq 0}\\right) \\land  \\left(c_{2} \\in \\mathbb{Q}^{\\geq 0}\\right) \\land  \\ldots \\land  \\left(c_{j} \\in \\mathbb{Q}^{\\geq 0}\\right) \\land \\left(b > 0\\right)\n"
     ]
    }
   ],
   "source": [
    "# Show the LaTeX representation of the expression for convenience if you need it.\n",
    "print(stored_expr.latex())"
   ]
  },
  {
   "cell_type": "code",
   "execution_count": 5,
   "metadata": {},
   "outputs": [
    {
     "data": {
      "text/html": [
       "<table>\n",
       "<tr><th>name</th><th>description</th><th>default</th><th>current value</th><th>related methods</th></tr><tr><td>operation</td><td>'infix' or 'function' style formatting</td><td>infix</td><td>infix</td><td></td></tr>\n",
       "<tr><td>wrap_positions</td><td>position(s) at which wrapping is to occur; '2 n - 1' is after the nth operand, '2 n' is after the nth operation.</td><td>()</td><td>()</td><td>('with_wrapping_at', 'with_wrap_before_operator', 'with_wrap_after_operator', 'without_wrapping', 'wrap_positions')</td></tr>\n",
       "<tr><td>justification</td><td>if any wrap positions are set, justify to the 'left', 'center', or 'right'</td><td>center</td><td>center</td><td>('with_justification',)</td></tr>\n",
       "</table>\n"
      ],
      "text/plain": [
       "style name: operation\n",
       "description: 'infix' or 'function' style formatting\n",
       "default: infix\n",
       "current value: infix\n",
       "related methods: ()\n",
       "style name: wrap_positions\n",
       "description: position(s) at which wrapping is to occur; '2 n - 1' is after the nth operand, '2 n' is after the nth operation.\n",
       "default: ()\n",
       "current value: ()\n",
       "related methods: ('with_wrapping_at', 'with_wrap_before_operator', 'with_wrap_after_operator', 'without_wrapping', 'wrap_positions')\n",
       "style name: justification\n",
       "description: if any wrap positions are set, justify to the 'left', 'center', or 'right'\n",
       "default: center\n",
       "current value: center\n",
       "related methods: ('with_justification',)"
      ]
     },
     "metadata": {},
     "output_type": "display_data"
    }
   ],
   "source": [
    "stored_expr.style_options()"
   ]
  },
  {
   "cell_type": "code",
   "execution_count": 6,
   "metadata": {},
   "outputs": [
    {
     "data": {
      "text/html": [
       "<table><tr><th>&nbsp;</th><th>core type</th><th>sub-expressions</th><th>expression</th></tr>\n",
       "<tr><td>0</td><td>Operation</td><td>operator:&nbsp;1<br>operands:&nbsp;2<br></td><td><a class=\"ProveItLink\" href=\"expr.ipynb\"><img src=\"expr.png\" style=\"display:inline;vertical-align:middle;\" /></a></td></tr>\n",
       "<tr><td>1</td><td>Literal</td><td></td><td><a class=\"ProveItLink\" href=\"../../../../../logic/booleans/conjunction/__pv_it/common/42118ff318bd65d98b1393f64ce7c2269feef76e0/expr.ipynb\"><img src=\"../../../../../logic/booleans/conjunction/__pv_it/common/42118ff318bd65d98b1393f64ce7c2269feef76e0/expr.png\" style=\"display:inline;vertical-align:middle;\" /></a></td></tr>\n",
       "<tr><td>2</td><td>ExprTuple</td><td>3, 4, 5, 6</td><td><a class=\"ProveItLink\" href=\"../01ccd85dc99a99cf47dfc006709af2ad2921e1380/expr.ipynb\"><img src=\"../01ccd85dc99a99cf47dfc006709af2ad2921e1380/expr.png\" style=\"display:inline;vertical-align:middle;\" /></a></td></tr>\n",
       "<tr><td>3</td><td>ExprRange</td><td>lambda_map:&nbsp;7<br>start_index:&nbsp;11<br>end_index:&nbsp;8<br></td><td><a class=\"ProveItLink\" href=\"../0d07cf0880f28ea6acd85d1e5432ed69373a49a20/expr.ipynb\"><img src=\"../0d07cf0880f28ea6acd85d1e5432ed69373a49a20/expr.png\" style=\"display:inline;vertical-align:middle;\" /></a></td></tr>\n",
       "<tr><td>4</td><td>Operation</td><td>operator:&nbsp;20<br>operands:&nbsp;9<br></td><td><a class=\"ProveItLink\" href=\"../7e2345b85f67ad39c84c4fd57500dba74076159c0/expr.ipynb\"><img src=\"../7e2345b85f67ad39c84c4fd57500dba74076159c0/expr.png\" style=\"display:inline;vertical-align:middle;\" /></a></td></tr>\n",
       "<tr><td>5</td><td>ExprRange</td><td>lambda_map:&nbsp;10<br>start_index:&nbsp;11<br>end_index:&nbsp;12<br></td><td><a class=\"ProveItLink\" href=\"../feb1b68b79b82eb7b87eb1ade553ff7577ffb0070/expr.ipynb\"><img src=\"../feb1b68b79b82eb7b87eb1ade553ff7577ffb0070/expr.png\" style=\"display:inline;vertical-align:middle;\" /></a></td></tr>\n",
       "<tr><td>6</td><td>Operation</td><td>operator:&nbsp;13<br>operands:&nbsp;14<br></td><td><a class=\"ProveItLink\" href=\"../e58b4ca895708d2ee40cf0afddbef30a2626f5b20/expr.ipynb\"><img src=\"../e58b4ca895708d2ee40cf0afddbef30a2626f5b20/expr.png\" style=\"display:inline;vertical-align:middle;\" /></a></td></tr>\n",
       "<tr><td>7</td><td>Lambda</td><td>parameter:&nbsp;28<br>body:&nbsp;15<br></td><td><a class=\"ProveItLink\" href=\"../14d11581f0d5b138ff2d900db995dcc9956261b00/expr.ipynb\"><img src=\"../14d11581f0d5b138ff2d900db995dcc9956261b00/expr.png\" style=\"display:inline;vertical-align:middle;\" /></a></td></tr>\n",
       "<tr><td>8</td><td>Variable</td><td></td><td><a class=\"ProveItLink\" href=\"../../../../../__pv_it/common/ae955345c83abf786c3aff8681cd5465beae262d0/expr.ipynb\"><img src=\"../../../../../__pv_it/common/ae955345c83abf786c3aff8681cd5465beae262d0/expr.png\" style=\"display:inline;vertical-align:middle;\" /></a></td></tr>\n",
       "<tr><td>9</td><td>ExprTuple</td><td>18, 24</td><td><a class=\"ProveItLink\" href=\"../78c93fcb516c4da9897f6496af85f799947b4be50/expr.ipynb\"><img src=\"../78c93fcb516c4da9897f6496af85f799947b4be50/expr.png\" style=\"display:inline;vertical-align:middle;\" /></a></td></tr>\n",
       "<tr><td>10</td><td>Lambda</td><td>parameter:&nbsp;28<br>body:&nbsp;16<br></td><td><a class=\"ProveItLink\" href=\"../59bb1bad96d9c5f6e78660448df72d07592212b40/expr.ipynb\"><img src=\"../59bb1bad96d9c5f6e78660448df72d07592212b40/expr.png\" style=\"display:inline;vertical-align:middle;\" /></a></td></tr>\n",
       "<tr><td>11</td><td>Literal</td><td></td><td><a class=\"ProveItLink\" href=\"../../../../numerals/__pv_it/common/682157d4892d216d9e5626ed533aff9b56b9506e0/expr.ipynb\"><img src=\"../../../../numerals/__pv_it/common/682157d4892d216d9e5626ed533aff9b56b9506e0/expr.png\" style=\"display:inline;vertical-align:middle;\" /></a></td></tr>\n",
       "<tr><td>12</td><td>Variable</td><td></td><td><a class=\"ProveItLink\" href=\"../../../../../__pv_it/common/1ed21df18baca2f42b561a7ffbf30a2743d594650/expr.ipynb\"><img src=\"../../../../../__pv_it/common/1ed21df18baca2f42b561a7ffbf30a2743d594650/expr.png\" style=\"display:inline;vertical-align:middle;\" /></a></td></tr>\n",
       "<tr><td>13</td><td>Literal</td><td></td><td><a class=\"ProveItLink\" href=\"../../../../ordering/__pv_it/common/fa503ed52033522c609eef1cf3e1b45796489da50/expr.ipynb\"><img src=\"../../../../ordering/__pv_it/common/fa503ed52033522c609eef1cf3e1b45796489da50/expr.png\" style=\"display:inline;vertical-align:middle;\" /></a></td></tr>\n",
       "<tr><td>14</td><td>ExprTuple</td><td>17, 18</td><td><a class=\"ProveItLink\" href=\"../c73b683501086dc2eac4735ea9354aa899c31a1a0/expr.ipynb\"><img src=\"../c73b683501086dc2eac4735ea9354aa899c31a1a0/expr.png\" style=\"display:inline;vertical-align:middle;\" /></a></td></tr>\n",
       "<tr><td>15</td><td>Operation</td><td>operator:&nbsp;20<br>operands:&nbsp;19<br></td><td><a class=\"ProveItLink\" href=\"../ade8c910a252fa79f081876321a0bb819ee8b4190/expr.ipynb\"><img src=\"../ade8c910a252fa79f081876321a0bb819ee8b4190/expr.png\" style=\"display:inline;vertical-align:middle;\" /></a></td></tr>\n",
       "<tr><td>16</td><td>Operation</td><td>operator:&nbsp;20<br>operands:&nbsp;21<br></td><td><a class=\"ProveItLink\" href=\"../191c1c4316a680b3907654e856b7bd8dcc15ac6b0/expr.ipynb\"><img src=\"../191c1c4316a680b3907654e856b7bd8dcc15ac6b0/expr.png\" style=\"display:inline;vertical-align:middle;\" /></a></td></tr>\n",
       "<tr><td>17</td><td>Literal</td><td></td><td><a class=\"ProveItLink\" href=\"../../../../numerals/__pv_it/common/dd4e19e8b134dfb293470ea55fe3589b0ab9f8040/expr.ipynb\"><img src=\"../../../../numerals/__pv_it/common/dd4e19e8b134dfb293470ea55fe3589b0ab9f8040/expr.png\" style=\"display:inline;vertical-align:middle;\" /></a></td></tr>\n",
       "<tr><td>18</td><td>Variable</td><td></td><td><a class=\"ProveItLink\" href=\"../../../../../__pv_it/common/195236b98c6c564a75b5dbada74b173bc52d5c3e0/expr.ipynb\"><img src=\"../../../../../__pv_it/common/195236b98c6c564a75b5dbada74b173bc52d5c3e0/expr.png\" style=\"display:inline;vertical-align:middle;\" /></a></td></tr>\n",
       "<tr><td>19</td><td>ExprTuple</td><td>22, 24</td><td><a class=\"ProveItLink\" href=\"../0c999ee38ac86136e9d5bdd52371124819b297200/expr.ipynb\"><img src=\"../0c999ee38ac86136e9d5bdd52371124819b297200/expr.png\" style=\"display:inline;vertical-align:middle;\" /></a></td></tr>\n",
       "<tr><td>20</td><td>Literal</td><td></td><td><a class=\"ProveItLink\" href=\"../../../../../logic/sets/membership/__pv_it/common/477487d8796864d23d5810f83761435f25167f690/expr.ipynb\"><img src=\"../../../../../logic/sets/membership/__pv_it/common/477487d8796864d23d5810f83761435f25167f690/expr.png\" style=\"display:inline;vertical-align:middle;\" /></a></td></tr>\n",
       "<tr><td>21</td><td>ExprTuple</td><td>23, 24</td><td><a class=\"ProveItLink\" href=\"../d79fd9e6af15742e32106e9b8e312ca598edc8280/expr.ipynb\"><img src=\"../d79fd9e6af15742e32106e9b8e312ca598edc8280/expr.png\" style=\"display:inline;vertical-align:middle;\" /></a></td></tr>\n",
       "<tr><td>22</td><td>IndexedVar</td><td>variable:&nbsp;25<br>index:&nbsp;28<br></td><td><a class=\"ProveItLink\" href=\"../../../../../core_expr_types/__pv_it/common/3a62c13e156d62d52fe585fa37cc2172fcf685260/expr.ipynb\"><img src=\"../../../../../core_expr_types/__pv_it/common/3a62c13e156d62d52fe585fa37cc2172fcf685260/expr.png\" style=\"display:inline;vertical-align:middle;\" /></a></td></tr>\n",
       "<tr><td>23</td><td>IndexedVar</td><td>variable:&nbsp;26<br>index:&nbsp;28<br></td><td><a class=\"ProveItLink\" href=\"../../../../../core_expr_types/__pv_it/common/8ffbefe913f7c934b2e3a2a12315d5900822d9d00/expr.ipynb\"><img src=\"../../../../../core_expr_types/__pv_it/common/8ffbefe913f7c934b2e3a2a12315d5900822d9d00/expr.png\" style=\"display:inline;vertical-align:middle;\" /></a></td></tr>\n",
       "<tr><td>24</td><td>Literal</td><td></td><td><a class=\"ProveItLink\" href=\"../../../../number_sets/rational_numbers/__pv_it/common/334713a1412a740e3b6042e36ac15dceb087af040/expr.ipynb\"><img src=\"../../../../number_sets/rational_numbers/__pv_it/common/334713a1412a740e3b6042e36ac15dceb087af040/expr.png\" style=\"display:inline;vertical-align:middle;\" /></a></td></tr>\n",
       "<tr><td>25</td><td>Variable</td><td></td><td><a class=\"ProveItLink\" href=\"../../../../../__pv_it/common/c06c606ec12678c58933ac85412ecadc2ae28be60/expr.ipynb\"><img src=\"../../../../../__pv_it/common/c06c606ec12678c58933ac85412ecadc2ae28be60/expr.png\" style=\"display:inline;vertical-align:middle;\" /></a></td></tr>\n",
       "<tr><td>26</td><td>Variable</td><td></td><td><a class=\"ProveItLink\" href=\"../../../../../__pv_it/common/ceef4280a2f1cc604b455b54e735507244cc62cd0/expr.ipynb\"><img src=\"../../../../../__pv_it/common/ceef4280a2f1cc604b455b54e735507244cc62cd0/expr.png\" style=\"display:inline;vertical-align:middle;\" /></a></td></tr>\n",
       "<tr><td>27</td><td>ExprTuple</td><td>28</td><td><a class=\"ProveItLink\" href=\"../../../../../core_expr_types/__pv_it/common/4b0dd6be36d76552eda6a95d5b4a27f5a5b62f900/expr.ipynb\"><img src=\"../../../../../core_expr_types/__pv_it/common/4b0dd6be36d76552eda6a95d5b4a27f5a5b62f900/expr.png\" style=\"display:inline;vertical-align:middle;\" /></a></td></tr>\n",
       "<tr><td>28</td><td>Variable</td><td></td><td><a class=\"ProveItLink\" href=\"../../../../../core_expr_types/__pv_it/common/006c465e50948aa2b52285e2de47974f741255cc0/expr.ipynb\"><img src=\"../../../../../core_expr_types/__pv_it/common/006c465e50948aa2b52285e2de47974f741255cc0/expr.png\" style=\"display:inline;vertical-align:middle;\" /></a></td></tr>\n",
       "</table>\n"
      ],
      "text/plain": [
       "0. (a_{1} in RationalNonNeg) and  (a_{2} in RationalNonNeg) and  ... and  (a_{i} in RationalNonNeg) and (b in RationalNonNeg)and (c_{1} in RationalNonNeg) and  (c_{2} in RationalNonNeg) and  ... and  (c_{j} in RationalNonNeg) and (b > 0)\n",
       "   core type: Operation\n",
       "   operator: 1\n",
       "   operands: 2\n",
       "1. and\n",
       "   core type: Literal\n",
       "   sub-expressions: \n",
       "2. ((a_{1} in RationalNonNeg), (a_{2} in RationalNonNeg), ..., (a_{i} in RationalNonNeg), b in RationalNonNeg,(c_{1} in RationalNonNeg), (c_{2} in RationalNonNeg), ..., (c_{j} in RationalNonNeg), b > 0)\n",
       "   core type: ExprTuple\n",
       "   sub-expressions: 3, 4, 5, 6\n",
       "3. (a_{1} in RationalNonNeg), (a_{2} in RationalNonNeg), ..., (a_{i} in RationalNonNeg)\n",
       "   core type: ExprRange\n",
       "   lambda_map: 7\n",
       "   start_index: 11\n",
       "   end_index: 8\n",
       "4. b in RationalNonNeg\n",
       "   core type: Operation\n",
       "   operator: 20\n",
       "   operands: 9\n",
       "5. (c_{1} in RationalNonNeg), (c_{2} in RationalNonNeg), ..., (c_{j} in RationalNonNeg)\n",
       "   core type: ExprRange\n",
       "   lambda_map: 10\n",
       "   start_index: 11\n",
       "   end_index: 12\n",
       "6. b > 0\n",
       "   core type: Operation\n",
       "   operator: 13\n",
       "   operands: 14\n",
       "7. _a -> (a_{_a} in RationalNonNeg)\n",
       "   core type: Lambda\n",
       "   parameter: 28\n",
       "   body: 15\n",
       "8. i\n",
       "   core type: Variable\n",
       "   sub-expressions: \n",
       "9. (b, RationalNonNeg)\n",
       "   core type: ExprTuple\n",
       "   sub-expressions: 18, 24\n",
       "10. _a -> (c_{_a} in RationalNonNeg)\n",
       "    core type: Lambda\n",
       "    parameter: 28\n",
       "    body: 16\n",
       "11. 1\n",
       "    core type: Literal\n",
       "    sub-expressions: \n",
       "12. j\n",
       "    core type: Variable\n",
       "    sub-expressions: \n",
       "13. <\n",
       "    core type: Literal\n",
       "    sub-expressions: \n",
       "14. (0, b)\n",
       "    core type: ExprTuple\n",
       "    sub-expressions: 17, 18\n",
       "15. a_{_a} in RationalNonNeg\n",
       "    core type: Operation\n",
       "    operator: 20\n",
       "    operands: 19\n",
       "16. c_{_a} in RationalNonNeg\n",
       "    core type: Operation\n",
       "    operator: 20\n",
       "    operands: 21\n",
       "17. 0\n",
       "    core type: Literal\n",
       "    sub-expressions: \n",
       "18. b\n",
       "    core type: Variable\n",
       "    sub-expressions: \n",
       "19. (a_{_a}, RationalNonNeg)\n",
       "    core type: ExprTuple\n",
       "    sub-expressions: 22, 24\n",
       "20. in\n",
       "    core type: Literal\n",
       "    sub-expressions: \n",
       "21. (c_{_a}, RationalNonNeg)\n",
       "    core type: ExprTuple\n",
       "    sub-expressions: 23, 24\n",
       "22. a_{_a}\n",
       "    core type: IndexedVar\n",
       "variable: 25\n",
       "index: 28\n",
       "23. c_{_a}\n",
       "    core type: IndexedVar\n",
       "variable: 26\n",
       "index: 28\n",
       "24. RationalNonNeg\n",
       "    core type: Literal\n",
       "    sub-expressions: \n",
       "25. a\n",
       "    core type: Variable\n",
       "    sub-expressions: \n",
       "26. c\n",
       "    core type: Variable\n",
       "    sub-expressions: \n",
       "27. (_a)\n",
       "    core type: ExprTuple\n",
       "    sub-expressions: 28\n",
       "28. _a\n",
       "    core type: Variable\n",
       "    sub-expressions: "
      ]
     },
     "metadata": {},
     "output_type": "display_data"
    }
   ],
   "source": [
    "# display the expression information\n",
    "stored_expr.expr_info()"
   ]
  },
  {
   "cell_type": "code",
   "execution_count": null,
   "metadata": {},
   "outputs": [],
   "source": []
  }
 ],
 "metadata": {
  "kernelspec": {
   "display_name": "Python 3",
   "language": "python",
   "name": "python3"
  }
 },
 "nbformat": 4,
 "nbformat_minor": 0
}