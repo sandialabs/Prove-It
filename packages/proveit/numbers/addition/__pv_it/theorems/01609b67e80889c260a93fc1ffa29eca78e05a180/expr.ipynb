{
 "cells": [
  {
   "cell_type": "markdown",
   "metadata": {},
   "source": [
    "Expression of type <a class=\"ProveItLink\" href=\"../../../../../../../doc/html/api/proveit.Lambda.html\">Lambda</a>\n",
    "=======================\n",
    "# from the theory of <a class=\"ProveItLink\" href=\"../../../_theory_nbs_/theory.ipynb\">proveit.numbers.addition</a>"
   ]
  },
  {
   "cell_type": "code",
   "execution_count": 1,
   "metadata": {},
   "outputs": [],
   "source": [
    "import proveit\n",
    "# Automation is not needed when building an expression:\n",
    "proveit.defaults.automation = False # This will speed things up.\n",
    "proveit.defaults.inline_pngs = False # Makes files smaller.\n",
    "%load_expr # Load the stored expression as 'stored_expr'\n",
    "# import Expression classes needed to build the expression\n",
    "from proveit import Conditional, Lambda, b, i, j\n",
    "from proveit.core_expr_types import a_1_to_i, c_1_to_j\n",
    "from proveit.logic import And, Forall, InSet\n",
    "from proveit.numbers import Add, Natural, RationalNonNeg, RationalPos, greater, zero"
   ]
  },
  {
   "cell_type": "code",
   "execution_count": 2,
   "metadata": {},
   "outputs": [
    {
     "data": {
      "text/html": [
       "<strong id=\"expr\">expr:</strong> <a class=\"ProveItLink\" href=\"expr.ipynb\"><img src=\"expr.png\" style=\"display:inline;vertical-align:middle;\" /></a><br>"
      ],
      "text/plain": [
       "<IPython.core.display.HTML object>"
      ]
     },
     "metadata": {},
     "output_type": "display_data"
    }
   ],
   "source": [
    "# build up the expression from sub-expressions\n",
    "expr = Lambda([i, j], Conditional(Forall(instance_param_or_params = [a_1_to_i, b, c_1_to_j], instance_expr = InSet(Add(a_1_to_i, b, c_1_to_j), RationalPos), domain = RationalNonNeg, condition = greater(b, zero)), And(InSet(i, Natural), InSet(j, Natural))))"
   ]
  },
  {
   "cell_type": "code",
   "execution_count": 3,
   "metadata": {},
   "outputs": [
    {
     "name": "stdout",
     "output_type": "stream",
     "text": [
      "Passed sanity check: expr matches stored_expr\n"
     ]
    }
   ],
   "source": [
    "# check that the built expression is the same as the stored expression\n",
    "assert expr == stored_expr\n",
    "assert expr._style_id == stored_expr._style_id\n",
    "print(\"Passed sanity check: expr matches stored_expr\")"
   ]
  },
  {
   "cell_type": "code",
   "execution_count": 4,
   "metadata": {},
   "outputs": [
    {
     "name": "stdout",
     "output_type": "stream",
     "text": [
      "\\left(i, j\\right) \\mapsto \\left\\{\\forall_{a_{1}, a_{2}, \\ldots, a_{i}, b, c_{1}, c_{2}, \\ldots, c_{j} \\in \\mathbb{Q}^{\\geq 0}~|~b > 0}~\\left(\\left(a_{1} +  a_{2} +  \\ldots +  a_{i} + b+ c_{1} +  c_{2} +  \\ldots +  c_{j}\\right) \\in \\mathbb{Q}^+\\right) \\textrm{ if } i \\in \\mathbb{N} ,  j \\in \\mathbb{N}\\right..\n"
     ]
    }
   ],
   "source": [
    "# Show the LaTeX representation of the expression for convenience if you need it.\n",
    "print(stored_expr.latex())"
   ]
  },
  {
   "cell_type": "code",
   "execution_count": 5,
   "metadata": {},
   "outputs": [
    {
     "data": {
      "text/html": [
       "no style options"
      ],
      "text/plain": [
       "no style options"
      ]
     },
     "metadata": {},
     "output_type": "display_data"
    }
   ],
   "source": [
    "stored_expr.style_options()"
   ]
  },
  {
   "cell_type": "code",
   "execution_count": 6,
   "metadata": {},
   "outputs": [
    {
     "data": {
      "text/html": [
       "<table><tr><th>&nbsp;</th><th>core type</th><th>sub-expressions</th><th>expression</th></tr>\n",
       "<tr><td>0</td><td>Lambda</td><td>parameters:&nbsp;1<br>body:&nbsp;2<br></td><td><a class=\"ProveItLink\" href=\"expr.ipynb\"><img src=\"expr.png\" style=\"display:inline;vertical-align:middle;\" /></a></td></tr>\n",
       "<tr><td>1</td><td>ExprTuple</td><td>40, 43</td><td><a class=\"ProveItLink\" href=\"../fd5db4d3d282981293a7ef32c5ae50e0675f01460/expr.ipynb\"><img src=\"../fd5db4d3d282981293a7ef32c5ae50e0675f01460/expr.png\" style=\"display:inline;vertical-align:middle;\" /></a></td></tr>\n",
       "<tr><td>2</td><td>Conditional</td><td>value:&nbsp;3<br>condition:&nbsp;4<br></td><td><a class=\"ProveItLink\" href=\"../a10a93f59647d0c0e377861218ce3b319863cecf0/expr.ipynb\"><img src=\"../a10a93f59647d0c0e377861218ce3b319863cecf0/expr.png\" style=\"display:inline;vertical-align:middle;\" /></a></td></tr>\n",
       "<tr><td>3</td><td>Operation</td><td>operator:&nbsp;5<br>operand:&nbsp;8<br></td><td><a class=\"ProveItLink\" href=\"../2dba2ffba40d07966dd60ebf51c569f2efe987fb0/expr.ipynb\"><img src=\"../2dba2ffba40d07966dd60ebf51c569f2efe987fb0/expr.png\" style=\"display:inline;vertical-align:middle;\" /></a></td></tr>\n",
       "<tr><td>4</td><td>Operation</td><td>operator:&nbsp;18<br>operands:&nbsp;7<br></td><td><a class=\"ProveItLink\" href=\"../f5d9619703604b55666a74ce8b6b93818bc634bb0/expr.ipynb\"><img src=\"../f5d9619703604b55666a74ce8b6b93818bc634bb0/expr.png\" style=\"display:inline;vertical-align:middle;\" /></a></td></tr>\n",
       "<tr><td>5</td><td>Literal</td><td></td><td><a class=\"ProveItLink\" href=\"../../../../../logic/booleans/quantification/universality/__pv_it/common/083d2baa0b8ecab1d230f9ec29a15aa1355809fb0/expr.ipynb\"><img src=\"../../../../../logic/booleans/quantification/universality/__pv_it/common/083d2baa0b8ecab1d230f9ec29a15aa1355809fb0/expr.png\" style=\"display:inline;vertical-align:middle;\" /></a></td></tr>\n",
       "<tr><td>6</td><td>ExprTuple</td><td>8</td><td><a class=\"ProveItLink\" href=\"../dded2fc9cdedb3a97977e3dc944ce965f6ae6f220/expr.ipynb\"><img src=\"../dded2fc9cdedb3a97977e3dc944ce965f6ae6f220/expr.png\" style=\"display:inline;vertical-align:middle;\" /></a></td></tr>\n",
       "<tr><td>7</td><td>ExprTuple</td><td>9, 10</td><td><a class=\"ProveItLink\" href=\"../ee48d8077493fceb1212e72214d6f918e35080800/expr.ipynb\"><img src=\"../ee48d8077493fceb1212e72214d6f918e35080800/expr.png\" style=\"display:inline;vertical-align:middle;\" /></a></td></tr>\n",
       "<tr><td>8</td><td>Lambda</td><td>parameters:&nbsp;27<br>body:&nbsp;11<br></td><td><a class=\"ProveItLink\" href=\"../53a28ecd16f0c3a8f44dfd8c35e86f9d45b1326e0/expr.ipynb\"><img src=\"../53a28ecd16f0c3a8f44dfd8c35e86f9d45b1326e0/expr.png\" style=\"display:inline;vertical-align:middle;\" /></a></td></tr>\n",
       "<tr><td>9</td><td>Operation</td><td>operator:&nbsp;45<br>operands:&nbsp;12<br></td><td><a class=\"ProveItLink\" href=\"../10cfe086dee5530e9b3b60486d89c6cb824c41920/expr.ipynb\"><img src=\"../10cfe086dee5530e9b3b60486d89c6cb824c41920/expr.png\" style=\"display:inline;vertical-align:middle;\" /></a></td></tr>\n",
       "<tr><td>10</td><td>Operation</td><td>operator:&nbsp;45<br>operands:&nbsp;13<br></td><td><a class=\"ProveItLink\" href=\"../a66b1fb5d205d2e8007a39dfc31bf38e465e0de50/expr.ipynb\"><img src=\"../a66b1fb5d205d2e8007a39dfc31bf38e465e0de50/expr.png\" style=\"display:inline;vertical-align:middle;\" /></a></td></tr>\n",
       "<tr><td>11</td><td>Conditional</td><td>value:&nbsp;14<br>condition:&nbsp;15<br></td><td><a class=\"ProveItLink\" href=\"../01de03758cd80a61c6ef5416968b8dc02f862fb10/expr.ipynb\"><img src=\"../01de03758cd80a61c6ef5416968b8dc02f862fb10/expr.png\" style=\"display:inline;vertical-align:middle;\" /></a></td></tr>\n",
       "<tr><td>12</td><td>ExprTuple</td><td>40, 16</td><td><a class=\"ProveItLink\" href=\"../1e0eb14b674d1cdf4a94a1df57c3bb998311774a0/expr.ipynb\"><img src=\"../1e0eb14b674d1cdf4a94a1df57c3bb998311774a0/expr.png\" style=\"display:inline;vertical-align:middle;\" /></a></td></tr>\n",
       "<tr><td>13</td><td>ExprTuple</td><td>43, 16</td><td><a class=\"ProveItLink\" href=\"../7a128213361f018e3a5fb4107c35c71018499dc90/expr.ipynb\"><img src=\"../7a128213361f018e3a5fb4107c35c71018499dc90/expr.png\" style=\"display:inline;vertical-align:middle;\" /></a></td></tr>\n",
       "<tr><td>14</td><td>Operation</td><td>operator:&nbsp;45<br>operands:&nbsp;17<br></td><td><a class=\"ProveItLink\" href=\"../c02b30c730788789242f96729498f595d5dcd7b50/expr.ipynb\"><img src=\"../c02b30c730788789242f96729498f595d5dcd7b50/expr.png\" style=\"display:inline;vertical-align:middle;\" /></a></td></tr>\n",
       "<tr><td>15</td><td>Operation</td><td>operator:&nbsp;18<br>operands:&nbsp;19<br></td><td><a class=\"ProveItLink\" href=\"../7df1a8c7a69b79fad7889bb2c1fc85d57fa6ffba0/expr.ipynb\"><img src=\"../7df1a8c7a69b79fad7889bb2c1fc85d57fa6ffba0/expr.png\" style=\"display:inline;vertical-align:middle;\" /></a></td></tr>\n",
       "<tr><td>16</td><td>Literal</td><td></td><td><a class=\"ProveItLink\" href=\"../../../../number_sets/natural_numbers/__pv_it/common/8b7c321957f52ed3b05b36af612eeae4fa4783bc0/expr.ipynb\"><img src=\"../../../../number_sets/natural_numbers/__pv_it/common/8b7c321957f52ed3b05b36af612eeae4fa4783bc0/expr.png\" style=\"display:inline;vertical-align:middle;\" /></a></td></tr>\n",
       "<tr><td>17</td><td>ExprTuple</td><td>20, 21</td><td><a class=\"ProveItLink\" href=\"../019446a0aaae7059cb90ceb7db59a12c593c09400/expr.ipynb\"><img src=\"../019446a0aaae7059cb90ceb7db59a12c593c09400/expr.png\" style=\"display:inline;vertical-align:middle;\" /></a></td></tr>\n",
       "<tr><td>18</td><td>Literal</td><td></td><td><a class=\"ProveItLink\" href=\"../../../../../logic/booleans/conjunction/__pv_it/common/42118ff318bd65d98b1393f64ce7c2269feef76e0/expr.ipynb\"><img src=\"../../../../../logic/booleans/conjunction/__pv_it/common/42118ff318bd65d98b1393f64ce7c2269feef76e0/expr.png\" style=\"display:inline;vertical-align:middle;\" /></a></td></tr>\n",
       "<tr><td>19</td><td>ExprTuple</td><td>22, 23, 24, 25</td><td><a class=\"ProveItLink\" href=\"../01ccd85dc99a99cf47dfc006709af2ad2921e1380/expr.ipynb\"><img src=\"../01ccd85dc99a99cf47dfc006709af2ad2921e1380/expr.png\" style=\"display:inline;vertical-align:middle;\" /></a></td></tr>\n",
       "<tr><td>20</td><td>Operation</td><td>operator:&nbsp;26<br>operands:&nbsp;27<br></td><td><a class=\"ProveItLink\" href=\"../219a4871a33df7e94921f69ec15c765af99a32930/expr.ipynb\"><img src=\"../219a4871a33df7e94921f69ec15c765af99a32930/expr.png\" style=\"display:inline;vertical-align:middle;\" /></a></td></tr>\n",
       "<tr><td>21</td><td>Literal</td><td></td><td><a class=\"ProveItLink\" href=\"../../../../number_sets/rational_numbers/__pv_it/common/39fff3ae65f6d9157cfa06ec86121d04eceb9fae0/expr.ipynb\"><img src=\"../../../../number_sets/rational_numbers/__pv_it/common/39fff3ae65f6d9157cfa06ec86121d04eceb9fae0/expr.png\" style=\"display:inline;vertical-align:middle;\" /></a></td></tr>\n",
       "<tr><td>22</td><td>ExprRange</td><td>lambda_map:&nbsp;28<br>start_index:&nbsp;42<br>end_index:&nbsp;40<br></td><td><a class=\"ProveItLink\" href=\"../0d07cf0880f28ea6acd85d1e5432ed69373a49a20/expr.ipynb\"><img src=\"../0d07cf0880f28ea6acd85d1e5432ed69373a49a20/expr.png\" style=\"display:inline;vertical-align:middle;\" /></a></td></tr>\n",
       "<tr><td>23</td><td>Operation</td><td>operator:&nbsp;45<br>operands:&nbsp;29<br></td><td><a class=\"ProveItLink\" href=\"../7e2345b85f67ad39c84c4fd57500dba74076159c0/expr.ipynb\"><img src=\"../7e2345b85f67ad39c84c4fd57500dba74076159c0/expr.png\" style=\"display:inline;vertical-align:middle;\" /></a></td></tr>\n",
       "<tr><td>24</td><td>ExprRange</td><td>lambda_map:&nbsp;30<br>start_index:&nbsp;42<br>end_index:&nbsp;43<br></td><td><a class=\"ProveItLink\" href=\"../feb1b68b79b82eb7b87eb1ade553ff7577ffb0070/expr.ipynb\"><img src=\"../feb1b68b79b82eb7b87eb1ade553ff7577ffb0070/expr.png\" style=\"display:inline;vertical-align:middle;\" /></a></td></tr>\n",
       "<tr><td>25</td><td>Operation</td><td>operator:&nbsp;31<br>operands:&nbsp;32<br></td><td><a class=\"ProveItLink\" href=\"../e58b4ca895708d2ee40cf0afddbef30a2626f5b20/expr.ipynb\"><img src=\"../e58b4ca895708d2ee40cf0afddbef30a2626f5b20/expr.png\" style=\"display:inline;vertical-align:middle;\" /></a></td></tr>\n",
       "<tr><td>26</td><td>Literal</td><td></td><td><a class=\"ProveItLink\" href=\"../../common/4b7effaab3619a1c2c38fe2dee8601df8ec714590/expr.ipynb\"><img src=\"../../common/4b7effaab3619a1c2c38fe2dee8601df8ec714590/expr.png\" style=\"display:inline;vertical-align:middle;\" /></a></td></tr>\n",
       "<tr><td>27</td><td>ExprTuple</td><td>33, 38, 34</td><td><a class=\"ProveItLink\" href=\"../d84a0b397d95592bd7106c405306a567e64b1ad30/expr.ipynb\"><img src=\"../d84a0b397d95592bd7106c405306a567e64b1ad30/expr.png\" style=\"display:inline;vertical-align:middle;\" /></a></td></tr>\n",
       "<tr><td>28</td><td>Lambda</td><td>parameter:&nbsp;53<br>body:&nbsp;35<br></td><td><a class=\"ProveItLink\" href=\"../14d11581f0d5b138ff2d900db995dcc9956261b00/expr.ipynb\"><img src=\"../14d11581f0d5b138ff2d900db995dcc9956261b00/expr.png\" style=\"display:inline;vertical-align:middle;\" /></a></td></tr>\n",
       "<tr><td>29</td><td>ExprTuple</td><td>38, 49</td><td><a class=\"ProveItLink\" href=\"../78c93fcb516c4da9897f6496af85f799947b4be50/expr.ipynb\"><img src=\"../78c93fcb516c4da9897f6496af85f799947b4be50/expr.png\" style=\"display:inline;vertical-align:middle;\" /></a></td></tr>\n",
       "<tr><td>30</td><td>Lambda</td><td>parameter:&nbsp;53<br>body:&nbsp;36<br></td><td><a class=\"ProveItLink\" href=\"../59bb1bad96d9c5f6e78660448df72d07592212b40/expr.ipynb\"><img src=\"../59bb1bad96d9c5f6e78660448df72d07592212b40/expr.png\" style=\"display:inline;vertical-align:middle;\" /></a></td></tr>\n",
       "<tr><td>31</td><td>Literal</td><td></td><td><a class=\"ProveItLink\" href=\"../../../../ordering/__pv_it/common/fa503ed52033522c609eef1cf3e1b45796489da50/expr.ipynb\"><img src=\"../../../../ordering/__pv_it/common/fa503ed52033522c609eef1cf3e1b45796489da50/expr.png\" style=\"display:inline;vertical-align:middle;\" /></a></td></tr>\n",
       "<tr><td>32</td><td>ExprTuple</td><td>37, 38</td><td><a class=\"ProveItLink\" href=\"../c73b683501086dc2eac4735ea9354aa899c31a1a0/expr.ipynb\"><img src=\"../c73b683501086dc2eac4735ea9354aa899c31a1a0/expr.png\" style=\"display:inline;vertical-align:middle;\" /></a></td></tr>\n",
       "<tr><td>33</td><td>ExprRange</td><td>lambda_map:&nbsp;39<br>start_index:&nbsp;42<br>end_index:&nbsp;40<br></td><td><a class=\"ProveItLink\" href=\"../../../../../core_expr_types/__pv_it/common/7230c683fcd56948c826ac1be71b01b6fb2913950/expr.ipynb\"><img src=\"../../../../../core_expr_types/__pv_it/common/7230c683fcd56948c826ac1be71b01b6fb2913950/expr.png\" style=\"display:inline;vertical-align:middle;\" /></a></td></tr>\n",
       "<tr><td>34</td><td>ExprRange</td><td>lambda_map:&nbsp;41<br>start_index:&nbsp;42<br>end_index:&nbsp;43<br></td><td><a class=\"ProveItLink\" href=\"../../../../../core_expr_types/__pv_it/common/197f625500e1374c769a9a88f526b5b80f714d350/expr.ipynb\"><img src=\"../../../../../core_expr_types/__pv_it/common/197f625500e1374c769a9a88f526b5b80f714d350/expr.png\" style=\"display:inline;vertical-align:middle;\" /></a></td></tr>\n",
       "<tr><td>35</td><td>Operation</td><td>operator:&nbsp;45<br>operands:&nbsp;44<br></td><td><a class=\"ProveItLink\" href=\"../ade8c910a252fa79f081876321a0bb819ee8b4190/expr.ipynb\"><img src=\"../ade8c910a252fa79f081876321a0bb819ee8b4190/expr.png\" style=\"display:inline;vertical-align:middle;\" /></a></td></tr>\n",
       "<tr><td>36</td><td>Operation</td><td>operator:&nbsp;45<br>operands:&nbsp;46<br></td><td><a class=\"ProveItLink\" href=\"../191c1c4316a680b3907654e856b7bd8dcc15ac6b0/expr.ipynb\"><img src=\"../191c1c4316a680b3907654e856b7bd8dcc15ac6b0/expr.png\" style=\"display:inline;vertical-align:middle;\" /></a></td></tr>\n",
       "<tr><td>37</td><td>Literal</td><td></td><td><a class=\"ProveItLink\" href=\"../../../../numerals/__pv_it/common/dd4e19e8b134dfb293470ea55fe3589b0ab9f8040/expr.ipynb\"><img src=\"../../../../numerals/__pv_it/common/dd4e19e8b134dfb293470ea55fe3589b0ab9f8040/expr.png\" style=\"display:inline;vertical-align:middle;\" /></a></td></tr>\n",
       "<tr><td>38</td><td>Variable</td><td></td><td><a class=\"ProveItLink\" href=\"../../../../../__pv_it/common/195236b98c6c564a75b5dbada74b173bc52d5c3e0/expr.ipynb\"><img src=\"../../../../../__pv_it/common/195236b98c6c564a75b5dbada74b173bc52d5c3e0/expr.png\" style=\"display:inline;vertical-align:middle;\" /></a></td></tr>\n",
       "<tr><td>39</td><td>Lambda</td><td>parameter:&nbsp;53<br>body:&nbsp;47<br></td><td><a class=\"ProveItLink\" href=\"../../../../../core_expr_types/__pv_it/common/1527ad383e12f9c6ed6b371c9a7dd1892d80da1b0/expr.ipynb\"><img src=\"../../../../../core_expr_types/__pv_it/common/1527ad383e12f9c6ed6b371c9a7dd1892d80da1b0/expr.png\" style=\"display:inline;vertical-align:middle;\" /></a></td></tr>\n",
       "<tr><td>40</td><td>Variable</td><td></td><td><a class=\"ProveItLink\" href=\"../../../../../__pv_it/common/ae955345c83abf786c3aff8681cd5465beae262d0/expr.ipynb\"><img src=\"../../../../../__pv_it/common/ae955345c83abf786c3aff8681cd5465beae262d0/expr.png\" style=\"display:inline;vertical-align:middle;\" /></a></td></tr>\n",
       "<tr><td>41</td><td>Lambda</td><td>parameter:&nbsp;53<br>body:&nbsp;48<br></td><td><a class=\"ProveItLink\" href=\"../../../../../core_expr_types/__pv_it/common/89a29b5b02ce6c37577f6352274a3d503dcdde3e0/expr.ipynb\"><img src=\"../../../../../core_expr_types/__pv_it/common/89a29b5b02ce6c37577f6352274a3d503dcdde3e0/expr.png\" style=\"display:inline;vertical-align:middle;\" /></a></td></tr>\n",
       "<tr><td>42</td><td>Literal</td><td></td><td><a class=\"ProveItLink\" href=\"../../../../numerals/__pv_it/common/682157d4892d216d9e5626ed533aff9b56b9506e0/expr.ipynb\"><img src=\"../../../../numerals/__pv_it/common/682157d4892d216d9e5626ed533aff9b56b9506e0/expr.png\" style=\"display:inline;vertical-align:middle;\" /></a></td></tr>\n",
       "<tr><td>43</td><td>Variable</td><td></td><td><a class=\"ProveItLink\" href=\"../../../../../__pv_it/common/1ed21df18baca2f42b561a7ffbf30a2743d594650/expr.ipynb\"><img src=\"../../../../../__pv_it/common/1ed21df18baca2f42b561a7ffbf30a2743d594650/expr.png\" style=\"display:inline;vertical-align:middle;\" /></a></td></tr>\n",
       "<tr><td>44</td><td>ExprTuple</td><td>47, 49</td><td><a class=\"ProveItLink\" href=\"../0c999ee38ac86136e9d5bdd52371124819b297200/expr.ipynb\"><img src=\"../0c999ee38ac86136e9d5bdd52371124819b297200/expr.png\" style=\"display:inline;vertical-align:middle;\" /></a></td></tr>\n",
       "<tr><td>45</td><td>Literal</td><td></td><td><a class=\"ProveItLink\" href=\"../../../../../logic/sets/membership/__pv_it/common/477487d8796864d23d5810f83761435f25167f690/expr.ipynb\"><img src=\"../../../../../logic/sets/membership/__pv_it/common/477487d8796864d23d5810f83761435f25167f690/expr.png\" style=\"display:inline;vertical-align:middle;\" /></a></td></tr>\n",
       "<tr><td>46</td><td>ExprTuple</td><td>48, 49</td><td><a class=\"ProveItLink\" href=\"../d79fd9e6af15742e32106e9b8e312ca598edc8280/expr.ipynb\"><img src=\"../d79fd9e6af15742e32106e9b8e312ca598edc8280/expr.png\" style=\"display:inline;vertical-align:middle;\" /></a></td></tr>\n",
       "<tr><td>47</td><td>IndexedVar</td><td>variable:&nbsp;50<br>index:&nbsp;53<br></td><td><a class=\"ProveItLink\" href=\"../../../../../core_expr_types/__pv_it/common/3a62c13e156d62d52fe585fa37cc2172fcf685260/expr.ipynb\"><img src=\"../../../../../core_expr_types/__pv_it/common/3a62c13e156d62d52fe585fa37cc2172fcf685260/expr.png\" style=\"display:inline;vertical-align:middle;\" /></a></td></tr>\n",
       "<tr><td>48</td><td>IndexedVar</td><td>variable:&nbsp;51<br>index:&nbsp;53<br></td><td><a class=\"ProveItLink\" href=\"../../../../../core_expr_types/__pv_it/common/8ffbefe913f7c934b2e3a2a12315d5900822d9d00/expr.ipynb\"><img src=\"../../../../../core_expr_types/__pv_it/common/8ffbefe913f7c934b2e3a2a12315d5900822d9d00/expr.png\" style=\"display:inline;vertical-align:middle;\" /></a></td></tr>\n",
       "<tr><td>49</td><td>Literal</td><td></td><td><a class=\"ProveItLink\" href=\"../../../../number_sets/rational_numbers/__pv_it/common/334713a1412a740e3b6042e36ac15dceb087af040/expr.ipynb\"><img src=\"../../../../number_sets/rational_numbers/__pv_it/common/334713a1412a740e3b6042e36ac15dceb087af040/expr.png\" style=\"display:inline;vertical-align:middle;\" /></a></td></tr>\n",
       "<tr><td>50</td><td>Variable</td><td></td><td><a class=\"ProveItLink\" href=\"../../../../../__pv_it/common/c06c606ec12678c58933ac85412ecadc2ae28be60/expr.ipynb\"><img src=\"../../../../../__pv_it/common/c06c606ec12678c58933ac85412ecadc2ae28be60/expr.png\" style=\"display:inline;vertical-align:middle;\" /></a></td></tr>\n",
       "<tr><td>51</td><td>Variable</td><td></td><td><a class=\"ProveItLink\" href=\"../../../../../__pv_it/common/ceef4280a2f1cc604b455b54e735507244cc62cd0/expr.ipynb\"><img src=\"../../../../../__pv_it/common/ceef4280a2f1cc604b455b54e735507244cc62cd0/expr.png\" style=\"display:inline;vertical-align:middle;\" /></a></td></tr>\n",
       "<tr><td>52</td><td>ExprTuple</td><td>53</td><td><a class=\"ProveItLink\" href=\"../../../../../core_expr_types/__pv_it/common/4b0dd6be36d76552eda6a95d5b4a27f5a5b62f900/expr.ipynb\"><img src=\"../../../../../core_expr_types/__pv_it/common/4b0dd6be36d76552eda6a95d5b4a27f5a5b62f900/expr.png\" style=\"display:inline;vertical-align:middle;\" /></a></td></tr>\n",
       "<tr><td>53</td><td>Variable</td><td></td><td><a class=\"ProveItLink\" href=\"../../../../../core_expr_types/__pv_it/common/006c465e50948aa2b52285e2de47974f741255cc0/expr.ipynb\"><img src=\"../../../../../core_expr_types/__pv_it/common/006c465e50948aa2b52285e2de47974f741255cc0/expr.png\" style=\"display:inline;vertical-align:middle;\" /></a></td></tr>\n",
       "</table>\n"
      ],
      "text/plain": [
       "0. (i, j) -> {forall_{a_{1}, a_{2}, ..., a_{i}, b, c_{1}, c_{2}, ..., c_{j} in RationalNonNeg | b > 0} ((a_{1} +  a_{2} +  ... +  a_{i} + b+ c_{1} +  c_{2} +  ... +  c_{j}) in RationalPos) if i in Natural ,  j in Natural.\n",
       "   core type: Lambda\n",
       "   parameters: 1\\n   body: 2\n",
       "1. (i, j)\n",
       "   core type: ExprTuple\n",
       "   sub-expressions: 40, 43\n",
       "2. {forall_{a_{1}, a_{2}, ..., a_{i}, b, c_{1}, c_{2}, ..., c_{j} in RationalNonNeg | b > 0} ((a_{1} +  a_{2} +  ... +  a_{i} + b+ c_{1} +  c_{2} +  ... +  c_{j}) in RationalPos) if i in Natural ,  j in Natural.\n",
       "   core type: Conditional\n",
       "   value: 3\n",
       "   condition: 4\n",
       "3. forall_{a_{1}, a_{2}, ..., a_{i}, b, c_{1}, c_{2}, ..., c_{j} in RationalNonNeg | b > 0} ((a_{1} +  a_{2} +  ... +  a_{i} + b+ c_{1} +  c_{2} +  ... +  c_{j}) in RationalPos)\n",
       "   core type: Operation\n",
       "   operator: 5\n",
       "   operand: 8\n",
       "4. (i in Natural) and (j in Natural)\n",
       "   core type: Operation\n",
       "   operator: 18\n",
       "   operands: 7\n",
       "5. forall\n",
       "   core type: Literal\n",
       "   sub-expressions: \n",
       "6. ((a_{1}, a_{2}, ..., a_{i}, b, c_{1}, c_{2}, ..., c_{j}) -> {(a_{1} +  a_{2} +  ... +  a_{i} + b+ c_{1} +  c_{2} +  ... +  c_{j}) in RationalPos if (a_{1} in RationalNonNeg) ,  (a_{2} in RationalNonNeg) ,  ... ,  (a_{i} in RationalNonNeg) ,  b in RationalNonNeg, (c_{1} in RationalNonNeg) ,  (c_{2} in RationalNonNeg) ,  ... ,  (c_{j} in RationalNonNeg) ,  b > 0.)\n",
       "   core type: ExprTuple\n",
       "   sub-expressions: 8\n",
       "7. (i in Natural, j in Natural)\n",
       "   core type: ExprTuple\n",
       "   sub-expressions: 9, 10\n",
       "8. (a_{1}, a_{2}, ..., a_{i}, b, c_{1}, c_{2}, ..., c_{j}) -> {(a_{1} +  a_{2} +  ... +  a_{i} + b+ c_{1} +  c_{2} +  ... +  c_{j}) in RationalPos if (a_{1} in RationalNonNeg) ,  (a_{2} in RationalNonNeg) ,  ... ,  (a_{i} in RationalNonNeg) ,  b in RationalNonNeg, (c_{1} in RationalNonNeg) ,  (c_{2} in RationalNonNeg) ,  ... ,  (c_{j} in RationalNonNeg) ,  b > 0.\n",
       "   core type: Lambda\n",
       "   parameters: 27\\n   body: 11\n",
       "9. i in Natural\n",
       "   core type: Operation\n",
       "   operator: 45\n",
       "   operands: 12\n",
       "10. j in Natural\n",
       "    core type: Operation\n",
       "    operator: 45\n",
       "    operands: 13\n",
       "11. {(a_{1} +  a_{2} +  ... +  a_{i} + b+ c_{1} +  c_{2} +  ... +  c_{j}) in RationalPos if (a_{1} in RationalNonNeg) ,  (a_{2} in RationalNonNeg) ,  ... ,  (a_{i} in RationalNonNeg) ,  b in RationalNonNeg, (c_{1} in RationalNonNeg) ,  (c_{2} in RationalNonNeg) ,  ... ,  (c_{j} in RationalNonNeg) ,  b > 0.\n",
       "    core type: Conditional\n",
       "    value: 14\n",
       "    condition: 15\n",
       "12. (i, Natural)\n",
       "    core type: ExprTuple\n",
       "    sub-expressions: 40, 16\n",
       "13. (j, Natural)\n",
       "    core type: ExprTuple\n",
       "    sub-expressions: 43, 16\n",
       "14. (a_{1} +  a_{2} +  ... +  a_{i} + b+ c_{1} +  c_{2} +  ... +  c_{j}) in RationalPos\n",
       "    core type: Operation\n",
       "    operator: 45\n",
       "    operands: 17\n",
       "15. (a_{1} in RationalNonNeg) and  (a_{2} in RationalNonNeg) and  ... and  (a_{i} in RationalNonNeg) and (b in RationalNonNeg)and (c_{1} in RationalNonNeg) and  (c_{2} in RationalNonNeg) and  ... and  (c_{j} in RationalNonNeg) and (b > 0)\n",
       "    core type: Operation\n",
       "    operator: 18\n",
       "    operands: 19\n",
       "16. Natural\n",
       "    core type: Literal\n",
       "    sub-expressions: \n",
       "17. (a_{1} +  a_{2} +  ... +  a_{i} + b+ c_{1} +  c_{2} +  ... +  c_{j}, RationalPos)\n",
       "    core type: ExprTuple\n",
       "    sub-expressions: 20, 21\n",
       "18. and\n",
       "    core type: Literal\n",
       "    sub-expressions: \n",
       "19. ((a_{1} in RationalNonNeg), (a_{2} in RationalNonNeg), ..., (a_{i} in RationalNonNeg), b in RationalNonNeg,(c_{1} in RationalNonNeg), (c_{2} in RationalNonNeg), ..., (c_{j} in RationalNonNeg), b > 0)\n",
       "    core type: ExprTuple\n",
       "    sub-expressions: 22, 23, 24, 25\n",
       "20. a_{1} +  a_{2} +  ... +  a_{i} + b+ c_{1} +  c_{2} +  ... +  c_{j}\n",
       "    core type: Operation\n",
       "    operator: 26\n",
       "    operands: 27\n",
       "21. RationalPos\n",
       "    core type: Literal\n",
       "    sub-expressions: \n",
       "22. (a_{1} in RationalNonNeg), (a_{2} in RationalNonNeg), ..., (a_{i} in RationalNonNeg)\n",
       "    core type: ExprRange\n",
       "    lambda_map: 28\n",
       "    start_index: 42\n",
       "    end_index: 40\n",
       "23. b in RationalNonNeg\n",
       "    core type: Operation\n",
       "    operator: 45\n",
       "    operands: 29\n",
       "24. (c_{1} in RationalNonNeg), (c_{2} in RationalNonNeg), ..., (c_{j} in RationalNonNeg)\n",
       "    core type: ExprRange\n",
       "    lambda_map: 30\n",
       "    start_index: 42\n",
       "    end_index: 43\n",
       "25. b > 0\n",
       "    core type: Operation\n",
       "    operator: 31\n",
       "    operands: 32\n",
       "26. +\n",
       "    core type: Literal\n",
       "    sub-expressions: \n",
       "27. (a_{1}, a_{2}, ..., a_{i}, b,c_{1}, c_{2}, ..., c_{j})\n",
       "    core type: ExprTuple\n",
       "    sub-expressions: 33, 38, 34\n",
       "28. _a -> (a_{_a} in RationalNonNeg)\n",
       "    core type: Lambda\n",
       "    parameter: 53\n",
       "    body: 35\n",
       "29. (b, RationalNonNeg)\n",
       "    core type: ExprTuple\n",
       "    sub-expressions: 38, 49\n",
       "30. _a -> (c_{_a} in RationalNonNeg)\n",
       "    core type: Lambda\n",
       "    parameter: 53\n",
       "    body: 36\n",
       "31. <\n",
       "    core type: Literal\n",
       "    sub-expressions: \n",
       "32. (0, b)\n",
       "    core type: ExprTuple\n",
       "    sub-expressions: 37, 38\n",
       "33. a_{1}, a_{2}, ..., a_{i}\n",
       "    core type: ExprRange\n",
       "    lambda_map: 39\n",
       "    start_index: 42\n",
       "    end_index: 40\n",
       "34. c_{1}, c_{2}, ..., c_{j}\n",
       "    core type: ExprRange\n",
       "    lambda_map: 41\n",
       "    start_index: 42\n",
       "    end_index: 43\n",
       "35. a_{_a} in RationalNonNeg\n",
       "    core type: Operation\n",
       "    operator: 45\n",
       "    operands: 44\n",
       "36. c_{_a} in RationalNonNeg\n",
       "    core type: Operation\n",
       "    operator: 45\n",
       "    operands: 46\n",
       "37. 0\n",
       "    core type: Literal\n",
       "    sub-expressions: \n",
       "38. b\n",
       "    core type: Variable\n",
       "    sub-expressions: \n",
       "39. _a -> a_{_a}\n",
       "    core type: Lambda\n",
       "    parameter: 53\n",
       "    body: 47\n",
       "40. i\n",
       "    core type: Variable\n",
       "    sub-expressions: \n",
       "41. _a -> c_{_a}\n",
       "    core type: Lambda\n",
       "    parameter: 53\n",
       "    body: 48\n",
       "42. 1\n",
       "    core type: Literal\n",
       "    sub-expressions: \n",
       "43. j\n",
       "    core type: Variable\n",
       "    sub-expressions: \n",
       "44. (a_{_a}, RationalNonNeg)\n",
       "    core type: ExprTuple\n",
       "    sub-expressions: 47, 49\n",
       "45. in\n",
       "    core type: Literal\n",
       "    sub-expressions: \n",
       "46. (c_{_a}, RationalNonNeg)\n",
       "    core type: ExprTuple\n",
       "    sub-expressions: 48, 49\n",
       "47. a_{_a}\n",
       "    core type: IndexedVar\n",
       "variable: 50\n",
       "index: 53\n",
       "48. c_{_a}\n",
       "    core type: IndexedVar\n",
       "variable: 51\n",
       "index: 53\n",
       "49. RationalNonNeg\n",
       "    core type: Literal\n",
       "    sub-expressions: \n",
       "50. a\n",
       "    core type: Variable\n",
       "    sub-expressions: \n",
       "51. c\n",
       "    core type: Variable\n",
       "    sub-expressions: \n",
       "52. (_a)\n",
       "    core type: ExprTuple\n",
       "    sub-expressions: 53\n",
       "53. _a\n",
       "    core type: Variable\n",
       "    sub-expressions: "
      ]
     },
     "metadata": {},
     "output_type": "display_data"
    }
   ],
   "source": [
    "# display the expression information\n",
    "stored_expr.expr_info()"
   ]
  },
  {
   "cell_type": "code",
   "execution_count": null,
   "metadata": {},
   "outputs": [],
   "source": []
  }
 ],
 "metadata": {
  "kernelspec": {
   "display_name": "Python 3",
   "language": "python",
   "name": "python3"
  }
 },
 "nbformat": 4,
 "nbformat_minor": 0
}