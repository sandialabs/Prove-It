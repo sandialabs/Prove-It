{
 "cells": [
  {
   "cell_type": "markdown",
   "metadata": {},
   "source": [
    "Expression of type <a class=\"ProveItLink\" href=\"../../../../../../../doc/html/api/proveit.Conditional.html\">Conditional</a>\n",
    "=======================\n",
    "# from the theory of <a class=\"ProveItLink\" href=\"../../../_theory_nbs_/theory.ipynb\">proveit.numbers.addition</a>"
   ]
  },
  {
   "cell_type": "code",
   "execution_count": 1,
   "metadata": {},
   "outputs": [],
   "source": [
    "import proveit\n",
    "# Automation is not needed when building an expression:\n",
    "proveit.defaults.automation = False # This will speed things up.\n",
    "proveit.defaults.inline_pngs = False # Makes files smaller.\n",
    "%load_expr # Load the stored expression as 'stored_expr'\n",
    "# import Expression classes needed to build the expression\n",
    "from proveit import Conditional, i, j, x, y\n",
    "from proveit.core_expr_types import a_1_to_i, b_1_to_j\n",
    "from proveit.logic import And, Forall, InSet\n",
    "from proveit.numbers import Add, LessEq, Natural, Real"
   ]
  },
  {
   "cell_type": "code",
   "execution_count": 2,
   "metadata": {},
   "outputs": [
    {
     "data": {
      "text/html": [
       "<strong id=\"expr\">expr:</strong> <a class=\"ProveItLink\" href=\"expr.ipynb\"><img src=\"expr.png\" style=\"display:inline;vertical-align:middle;\" /></a><br>"
      ],
      "text/plain": [
       "<IPython.core.display.HTML object>"
      ]
     },
     "metadata": {},
     "output_type": "display_data"
    }
   ],
   "source": [
    "# build up the expression from sub-expressions\n",
    "expr = Conditional(Forall(instance_param_or_params = [x, y], instance_expr = Forall(instance_param_or_params = [a_1_to_i, b_1_to_j], instance_expr = LessEq(Add(a_1_to_i, x, b_1_to_j), Add(a_1_to_i, y, b_1_to_j)), domain = Real, condition = LessEq(x, y))), And(InSet(i, Natural), InSet(j, Natural)))"
   ]
  },
  {
   "cell_type": "code",
   "execution_count": 3,
   "metadata": {},
   "outputs": [
    {
     "name": "stdout",
     "output_type": "stream",
     "text": [
      "Passed sanity check: expr matches stored_expr\n"
     ]
    }
   ],
   "source": [
    "# check that the built expression is the same as the stored expression\n",
    "assert expr == stored_expr\n",
    "assert expr._style_id == stored_expr._style_id\n",
    "print(\"Passed sanity check: expr matches stored_expr\")"
   ]
  },
  {
   "cell_type": "code",
   "execution_count": 4,
   "metadata": {},
   "outputs": [
    {
     "name": "stdout",
     "output_type": "stream",
     "text": [
      "\\left\\{\\forall_{x, y}~\\left[\\forall_{a_{1}, a_{2}, \\ldots, a_{i}, b_{1}, b_{2}, \\ldots, b_{j} \\in \\mathbb{R}~|~x \\leq y}~\\left(\\left(a_{1} +  a_{2} +  \\ldots +  a_{i} + x+ b_{1} +  b_{2} +  \\ldots +  b_{j}\\right) \\leq \\left(a_{1} +  a_{2} +  \\ldots +  a_{i} + y+ b_{1} +  b_{2} +  \\ldots +  b_{j}\\right)\\right)\\right] \\textrm{ if } i \\in \\mathbb{N} ,  j \\in \\mathbb{N}\\right..\n"
     ]
    }
   ],
   "source": [
    "# Show the LaTeX representation of the expression for convenience if you need it.\n",
    "print(stored_expr.latex())"
   ]
  },
  {
   "cell_type": "code",
   "execution_count": 5,
   "metadata": {},
   "outputs": [
    {
     "data": {
      "text/html": [
       "<table>\n",
       "<tr><th>name</th><th>description</th><th>default</th><th>current value</th><th>related methods</th></tr><tr><td>condition_delimiter</td><td>'comma' or 'and'</td><td>comma</td><td>comma</td><td>('with_comma_delimiter', 'with_conjunction_delimiter')</td></tr>\n",
       "</table>\n"
      ],
      "text/plain": [
       "style name: condition_delimiter\n",
       "description: 'comma' or 'and'\n",
       "default: comma\n",
       "current value: comma\n",
       "related methods: ('with_comma_delimiter', 'with_conjunction_delimiter')"
      ]
     },
     "metadata": {},
     "output_type": "display_data"
    }
   ],
   "source": [
    "stored_expr.style_options()"
   ]
  },
  {
   "cell_type": "code",
   "execution_count": 6,
   "metadata": {},
   "outputs": [
    {
     "data": {
      "text/html": [
       "<table><tr><th>&nbsp;</th><th>core type</th><th>sub-expressions</th><th>expression</th></tr>\n",
       "<tr><td>0</td><td>Conditional</td><td>value:&nbsp;1<br>condition:&nbsp;2<br></td><td><a class=\"ProveItLink\" href=\"expr.ipynb\"><img src=\"expr.png\" style=\"display:inline;vertical-align:middle;\" /></a></td></tr>\n",
       "<tr><td>1</td><td>Operation</td><td>operator:&nbsp;11<br>operand:&nbsp;5<br></td><td><a class=\"ProveItLink\" href=\"../52731d0253e5fc6f39ecb150b611bb47bbaf44660/expr.ipynb\"><img src=\"../52731d0253e5fc6f39ecb150b611bb47bbaf44660/expr.png\" style=\"display:inline;vertical-align:middle;\" /></a></td></tr>\n",
       "<tr><td>2</td><td>Operation</td><td>operator:&nbsp;20<br>operands:&nbsp;4<br></td><td><a class=\"ProveItLink\" href=\"../f5d9619703604b55666a74ce8b6b93818bc634bb0/expr.ipynb\"><img src=\"../f5d9619703604b55666a74ce8b6b93818bc634bb0/expr.png\" style=\"display:inline;vertical-align:middle;\" /></a></td></tr>\n",
       "<tr><td>3</td><td>ExprTuple</td><td>5</td><td><a class=\"ProveItLink\" href=\"../a6e88b66ac3ba10356184a912454040f2a3078db0/expr.ipynb\"><img src=\"../a6e88b66ac3ba10356184a912454040f2a3078db0/expr.png\" style=\"display:inline;vertical-align:middle;\" /></a></td></tr>\n",
       "<tr><td>4</td><td>ExprTuple</td><td>6, 7</td><td><a class=\"ProveItLink\" href=\"../ee48d8077493fceb1212e72214d6f918e35080800/expr.ipynb\"><img src=\"../ee48d8077493fceb1212e72214d6f918e35080800/expr.png\" style=\"display:inline;vertical-align:middle;\" /></a></td></tr>\n",
       "<tr><td>5</td><td>Lambda</td><td>parameters:&nbsp;33<br>body:&nbsp;8<br></td><td><a class=\"ProveItLink\" href=\"../c704f711acacd0c9157ae03a2947c51fdf0791750/expr.ipynb\"><img src=\"../c704f711acacd0c9157ae03a2947c51fdf0791750/expr.png\" style=\"display:inline;vertical-align:middle;\" /></a></td></tr>\n",
       "<tr><td>6</td><td>Operation</td><td>operator:&nbsp;46<br>operands:&nbsp;9<br></td><td><a class=\"ProveItLink\" href=\"../10cfe086dee5530e9b3b60486d89c6cb824c41920/expr.ipynb\"><img src=\"../10cfe086dee5530e9b3b60486d89c6cb824c41920/expr.png\" style=\"display:inline;vertical-align:middle;\" /></a></td></tr>\n",
       "<tr><td>7</td><td>Operation</td><td>operator:&nbsp;46<br>operands:&nbsp;10<br></td><td><a class=\"ProveItLink\" href=\"../a66b1fb5d205d2e8007a39dfc31bf38e465e0de50/expr.ipynb\"><img src=\"../a66b1fb5d205d2e8007a39dfc31bf38e465e0de50/expr.png\" style=\"display:inline;vertical-align:middle;\" /></a></td></tr>\n",
       "<tr><td>8</td><td>Operation</td><td>operator:&nbsp;11<br>operand:&nbsp;14<br></td><td><a class=\"ProveItLink\" href=\"../18d521c84002ce967608a77d6b539d9e56b086950/expr.ipynb\"><img src=\"../18d521c84002ce967608a77d6b539d9e56b086950/expr.png\" style=\"display:inline;vertical-align:middle;\" /></a></td></tr>\n",
       "<tr><td>9</td><td>ExprTuple</td><td>41, 13</td><td><a class=\"ProveItLink\" href=\"../1e0eb14b674d1cdf4a94a1df57c3bb998311774a0/expr.ipynb\"><img src=\"../1e0eb14b674d1cdf4a94a1df57c3bb998311774a0/expr.png\" style=\"display:inline;vertical-align:middle;\" /></a></td></tr>\n",
       "<tr><td>10</td><td>ExprTuple</td><td>44, 13</td><td><a class=\"ProveItLink\" href=\"../7a128213361f018e3a5fb4107c35c71018499dc90/expr.ipynb\"><img src=\"../7a128213361f018e3a5fb4107c35c71018499dc90/expr.png\" style=\"display:inline;vertical-align:middle;\" /></a></td></tr>\n",
       "<tr><td>11</td><td>Literal</td><td></td><td><a class=\"ProveItLink\" href=\"../../../../../logic/booleans/quantification/universality/__pv_it/common/083d2baa0b8ecab1d230f9ec29a15aa1355809fb0/expr.ipynb\"><img src=\"../../../../../logic/booleans/quantification/universality/__pv_it/common/083d2baa0b8ecab1d230f9ec29a15aa1355809fb0/expr.png\" style=\"display:inline;vertical-align:middle;\" /></a></td></tr>\n",
       "<tr><td>12</td><td>ExprTuple</td><td>14</td><td><a class=\"ProveItLink\" href=\"../9b2257ffe267097a182857b16bd84533a0d9d07c0/expr.ipynb\"><img src=\"../9b2257ffe267097a182857b16bd84533a0d9d07c0/expr.png\" style=\"display:inline;vertical-align:middle;\" /></a></td></tr>\n",
       "<tr><td>13</td><td>Literal</td><td></td><td><a class=\"ProveItLink\" href=\"../../../../number_sets/natural_numbers/__pv_it/common/8b7c321957f52ed3b05b36af612eeae4fa4783bc0/expr.ipynb\"><img src=\"../../../../number_sets/natural_numbers/__pv_it/common/8b7c321957f52ed3b05b36af612eeae4fa4783bc0/expr.png\" style=\"display:inline;vertical-align:middle;\" /></a></td></tr>\n",
       "<tr><td>14</td><td>Lambda</td><td>parameters:&nbsp;15<br>body:&nbsp;16<br></td><td><a class=\"ProveItLink\" href=\"../4dd41c95bd4683f83b4e867889489e320dabc7940/expr.ipynb\"><img src=\"../4dd41c95bd4683f83b4e867889489e320dabc7940/expr.png\" style=\"display:inline;vertical-align:middle;\" /></a></td></tr>\n",
       "<tr><td>15</td><td>ExprTuple</td><td>34, 35</td><td><a class=\"ProveItLink\" href=\"../c5089ea885d0d039c1b86cae9247f045689fa2030/expr.ipynb\"><img src=\"../c5089ea885d0d039c1b86cae9247f045689fa2030/expr.png\" style=\"display:inline;vertical-align:middle;\" /></a></td></tr>\n",
       "<tr><td>16</td><td>Conditional</td><td>value:&nbsp;17<br>condition:&nbsp;18<br></td><td><a class=\"ProveItLink\" href=\"../53edf80432fd3b13605322a817011c328eb6443f0/expr.ipynb\"><img src=\"../53edf80432fd3b13605322a817011c328eb6443f0/expr.png\" style=\"display:inline;vertical-align:middle;\" /></a></td></tr>\n",
       "<tr><td>17</td><td>Operation</td><td>operator:&nbsp;32<br>operands:&nbsp;19<br></td><td><a class=\"ProveItLink\" href=\"../1b6f40083c4813f7c6ef3ae9132850dd8422f64b0/expr.ipynb\"><img src=\"../1b6f40083c4813f7c6ef3ae9132850dd8422f64b0/expr.png\" style=\"display:inline;vertical-align:middle;\" /></a></td></tr>\n",
       "<tr><td>18</td><td>Operation</td><td>operator:&nbsp;20<br>operands:&nbsp;21<br></td><td><a class=\"ProveItLink\" href=\"../9253a617039d6fd1abb45fbefaf4b75374b593cb0/expr.ipynb\"><img src=\"../9253a617039d6fd1abb45fbefaf4b75374b593cb0/expr.png\" style=\"display:inline;vertical-align:middle;\" /></a></td></tr>\n",
       "<tr><td>19</td><td>ExprTuple</td><td>22, 23</td><td><a class=\"ProveItLink\" href=\"../41c1dd8f10d9c5cf7bcc328a1f77c2d116723cc00/expr.ipynb\"><img src=\"../41c1dd8f10d9c5cf7bcc328a1f77c2d116723cc00/expr.png\" style=\"display:inline;vertical-align:middle;\" /></a></td></tr>\n",
       "<tr><td>20</td><td>Literal</td><td></td><td><a class=\"ProveItLink\" href=\"../../../../../logic/booleans/conjunction/__pv_it/common/42118ff318bd65d98b1393f64ce7c2269feef76e0/expr.ipynb\"><img src=\"../../../../../logic/booleans/conjunction/__pv_it/common/42118ff318bd65d98b1393f64ce7c2269feef76e0/expr.png\" style=\"display:inline;vertical-align:middle;\" /></a></td></tr>\n",
       "<tr><td>21</td><td>ExprTuple</td><td>24, 25, 26</td><td><a class=\"ProveItLink\" href=\"../08f60bb30c3470baff2910ccf70237d0fcf89cc70/expr.ipynb\"><img src=\"../08f60bb30c3470baff2910ccf70237d0fcf89cc70/expr.png\" style=\"display:inline;vertical-align:middle;\" /></a></td></tr>\n",
       "<tr><td>22</td><td>Operation</td><td>operator:&nbsp;28<br>operands:&nbsp;27<br></td><td><a class=\"ProveItLink\" href=\"../93edd30244837a597883c13d45684e605bb7d35e0/expr.ipynb\"><img src=\"../93edd30244837a597883c13d45684e605bb7d35e0/expr.png\" style=\"display:inline;vertical-align:middle;\" /></a></td></tr>\n",
       "<tr><td>23</td><td>Operation</td><td>operator:&nbsp;28<br>operands:&nbsp;29<br></td><td><a class=\"ProveItLink\" href=\"../20d295226e61c88b8a91e5707ab3e2d0a1d42a3b0/expr.ipynb\"><img src=\"../20d295226e61c88b8a91e5707ab3e2d0a1d42a3b0/expr.png\" style=\"display:inline;vertical-align:middle;\" /></a></td></tr>\n",
       "<tr><td>24</td><td>ExprRange</td><td>lambda_map:&nbsp;30<br>start_index:&nbsp;43<br>end_index:&nbsp;41<br></td><td><a class=\"ProveItLink\" href=\"../8a0f824dfa50daa918a6ebf41f27ee04f9742d490/expr.ipynb\"><img src=\"../8a0f824dfa50daa918a6ebf41f27ee04f9742d490/expr.png\" style=\"display:inline;vertical-align:middle;\" /></a></td></tr>\n",
       "<tr><td>25</td><td>ExprRange</td><td>lambda_map:&nbsp;31<br>start_index:&nbsp;43<br>end_index:&nbsp;44<br></td><td><a class=\"ProveItLink\" href=\"../19620c902326b1e9d867f59f0e2bbac7346816a40/expr.ipynb\"><img src=\"../19620c902326b1e9d867f59f0e2bbac7346816a40/expr.png\" style=\"display:inline;vertical-align:middle;\" /></a></td></tr>\n",
       "<tr><td>26</td><td>Operation</td><td>operator:&nbsp;32<br>operands:&nbsp;33<br></td><td><a class=\"ProveItLink\" href=\"../189359405c55ba932e335515a38c5f31be3935960/expr.ipynb\"><img src=\"../189359405c55ba932e335515a38c5f31be3935960/expr.png\" style=\"display:inline;vertical-align:middle;\" /></a></td></tr>\n",
       "<tr><td>27</td><td>ExprTuple</td><td>34, 38, 35</td><td><a class=\"ProveItLink\" href=\"../6bed4a1ed7e5e8976be24b6e5434d616c0c414cf0/expr.ipynb\"><img src=\"../6bed4a1ed7e5e8976be24b6e5434d616c0c414cf0/expr.png\" style=\"display:inline;vertical-align:middle;\" /></a></td></tr>\n",
       "<tr><td>28</td><td>Literal</td><td></td><td><a class=\"ProveItLink\" href=\"../../common/4b7effaab3619a1c2c38fe2dee8601df8ec714590/expr.ipynb\"><img src=\"../../common/4b7effaab3619a1c2c38fe2dee8601df8ec714590/expr.png\" style=\"display:inline;vertical-align:middle;\" /></a></td></tr>\n",
       "<tr><td>29</td><td>ExprTuple</td><td>34, 39, 35</td><td><a class=\"ProveItLink\" href=\"../32e3eb1a7626dc97ddad5fe2e154a0f9ccb8b09b0/expr.ipynb\"><img src=\"../32e3eb1a7626dc97ddad5fe2e154a0f9ccb8b09b0/expr.png\" style=\"display:inline;vertical-align:middle;\" /></a></td></tr>\n",
       "<tr><td>30</td><td>Lambda</td><td>parameter:&nbsp;54<br>body:&nbsp;36<br></td><td><a class=\"ProveItLink\" href=\"../673f2e509e0b4134da2bfb83fcd2e814659f6d9a0/expr.ipynb\"><img src=\"../673f2e509e0b4134da2bfb83fcd2e814659f6d9a0/expr.png\" style=\"display:inline;vertical-align:middle;\" /></a></td></tr>\n",
       "<tr><td>31</td><td>Lambda</td><td>parameter:&nbsp;54<br>body:&nbsp;37<br></td><td><a class=\"ProveItLink\" href=\"../6ab7f12a26a0b49c17f993ad31c50f2de133641f0/expr.ipynb\"><img src=\"../6ab7f12a26a0b49c17f993ad31c50f2de133641f0/expr.png\" style=\"display:inline;vertical-align:middle;\" /></a></td></tr>\n",
       "<tr><td>32</td><td>Literal</td><td></td><td><a class=\"ProveItLink\" href=\"../../../../ordering/__pv_it/common/68379698d72b4689bbda4b5c5cca29ee599d70280/expr.ipynb\"><img src=\"../../../../ordering/__pv_it/common/68379698d72b4689bbda4b5c5cca29ee599d70280/expr.png\" style=\"display:inline;vertical-align:middle;\" /></a></td></tr>\n",
       "<tr><td>33</td><td>ExprTuple</td><td>38, 39</td><td><a class=\"ProveItLink\" href=\"../bbaa48af4605eceb7fbc4af345a1eb6de480e1c50/expr.ipynb\"><img src=\"../bbaa48af4605eceb7fbc4af345a1eb6de480e1c50/expr.png\" style=\"display:inline;vertical-align:middle;\" /></a></td></tr>\n",
       "<tr><td>34</td><td>ExprRange</td><td>lambda_map:&nbsp;40<br>start_index:&nbsp;43<br>end_index:&nbsp;41<br></td><td><a class=\"ProveItLink\" href=\"../../../../../core_expr_types/__pv_it/common/7230c683fcd56948c826ac1be71b01b6fb2913950/expr.ipynb\"><img src=\"../../../../../core_expr_types/__pv_it/common/7230c683fcd56948c826ac1be71b01b6fb2913950/expr.png\" style=\"display:inline;vertical-align:middle;\" /></a></td></tr>\n",
       "<tr><td>35</td><td>ExprRange</td><td>lambda_map:&nbsp;42<br>start_index:&nbsp;43<br>end_index:&nbsp;44<br></td><td><a class=\"ProveItLink\" href=\"../../../../../core_expr_types/__pv_it/common/d0e70829681f7e0560cecc174fdf76cb311d43400/expr.ipynb\"><img src=\"../../../../../core_expr_types/__pv_it/common/d0e70829681f7e0560cecc174fdf76cb311d43400/expr.png\" style=\"display:inline;vertical-align:middle;\" /></a></td></tr>\n",
       "<tr><td>36</td><td>Operation</td><td>operator:&nbsp;46<br>operands:&nbsp;45<br></td><td><a class=\"ProveItLink\" href=\"../45d548b97d067920a871df03d8504195cfdf15220/expr.ipynb\"><img src=\"../45d548b97d067920a871df03d8504195cfdf15220/expr.png\" style=\"display:inline;vertical-align:middle;\" /></a></td></tr>\n",
       "<tr><td>37</td><td>Operation</td><td>operator:&nbsp;46<br>operands:&nbsp;47<br></td><td><a class=\"ProveItLink\" href=\"../1e8819d0f4c49a87e09bd54a8ebef1bffb8af0ea0/expr.ipynb\"><img src=\"../1e8819d0f4c49a87e09bd54a8ebef1bffb8af0ea0/expr.png\" style=\"display:inline;vertical-align:middle;\" /></a></td></tr>\n",
       "<tr><td>38</td><td>Variable</td><td></td><td><a class=\"ProveItLink\" href=\"../../../../../__pv_it/common/a0d9d672aa5e272d907247690c152cc2c6daafb70/expr.ipynb\"><img src=\"../../../../../__pv_it/common/a0d9d672aa5e272d907247690c152cc2c6daafb70/expr.png\" style=\"display:inline;vertical-align:middle;\" /></a></td></tr>\n",
       "<tr><td>39</td><td>Variable</td><td></td><td><a class=\"ProveItLink\" href=\"../../../../../__pv_it/common/ff7dba4ef0bbe791ab573bf2d9c220a304399ac80/expr.ipynb\"><img src=\"../../../../../__pv_it/common/ff7dba4ef0bbe791ab573bf2d9c220a304399ac80/expr.png\" style=\"display:inline;vertical-align:middle;\" /></a></td></tr>\n",
       "<tr><td>40</td><td>Lambda</td><td>parameter:&nbsp;54<br>body:&nbsp;48<br></td><td><a class=\"ProveItLink\" href=\"../../../../../core_expr_types/__pv_it/common/1527ad383e12f9c6ed6b371c9a7dd1892d80da1b0/expr.ipynb\"><img src=\"../../../../../core_expr_types/__pv_it/common/1527ad383e12f9c6ed6b371c9a7dd1892d80da1b0/expr.png\" style=\"display:inline;vertical-align:middle;\" /></a></td></tr>\n",
       "<tr><td>41</td><td>Variable</td><td></td><td><a class=\"ProveItLink\" href=\"../../../../../__pv_it/common/ae955345c83abf786c3aff8681cd5465beae262d0/expr.ipynb\"><img src=\"../../../../../__pv_it/common/ae955345c83abf786c3aff8681cd5465beae262d0/expr.png\" style=\"display:inline;vertical-align:middle;\" /></a></td></tr>\n",
       "<tr><td>42</td><td>Lambda</td><td>parameter:&nbsp;54<br>body:&nbsp;49<br></td><td><a class=\"ProveItLink\" href=\"../../../../../core_expr_types/__pv_it/common/d763764ede9c88a33f4b750791da02d1a21cb6820/expr.ipynb\"><img src=\"../../../../../core_expr_types/__pv_it/common/d763764ede9c88a33f4b750791da02d1a21cb6820/expr.png\" style=\"display:inline;vertical-align:middle;\" /></a></td></tr>\n",
       "<tr><td>43</td><td>Literal</td><td></td><td><a class=\"ProveItLink\" href=\"../../../../numerals/__pv_it/common/682157d4892d216d9e5626ed533aff9b56b9506e0/expr.ipynb\"><img src=\"../../../../numerals/__pv_it/common/682157d4892d216d9e5626ed533aff9b56b9506e0/expr.png\" style=\"display:inline;vertical-align:middle;\" /></a></td></tr>\n",
       "<tr><td>44</td><td>Variable</td><td></td><td><a class=\"ProveItLink\" href=\"../../../../../__pv_it/common/1ed21df18baca2f42b561a7ffbf30a2743d594650/expr.ipynb\"><img src=\"../../../../../__pv_it/common/1ed21df18baca2f42b561a7ffbf30a2743d594650/expr.png\" style=\"display:inline;vertical-align:middle;\" /></a></td></tr>\n",
       "<tr><td>45</td><td>ExprTuple</td><td>48, 50</td><td><a class=\"ProveItLink\" href=\"../fe3b7639f3a3f460dce10a0148189b5a8a2af3560/expr.ipynb\"><img src=\"../fe3b7639f3a3f460dce10a0148189b5a8a2af3560/expr.png\" style=\"display:inline;vertical-align:middle;\" /></a></td></tr>\n",
       "<tr><td>46</td><td>Literal</td><td></td><td><a class=\"ProveItLink\" href=\"../../../../../logic/sets/membership/__pv_it/common/477487d8796864d23d5810f83761435f25167f690/expr.ipynb\"><img src=\"../../../../../logic/sets/membership/__pv_it/common/477487d8796864d23d5810f83761435f25167f690/expr.png\" style=\"display:inline;vertical-align:middle;\" /></a></td></tr>\n",
       "<tr><td>47</td><td>ExprTuple</td><td>49, 50</td><td><a class=\"ProveItLink\" href=\"../4027fb4405fe773de55cfd888c3d04a03bbb1f7e0/expr.ipynb\"><img src=\"../4027fb4405fe773de55cfd888c3d04a03bbb1f7e0/expr.png\" style=\"display:inline;vertical-align:middle;\" /></a></td></tr>\n",
       "<tr><td>48</td><td>IndexedVar</td><td>variable:&nbsp;51<br>index:&nbsp;54<br></td><td><a class=\"ProveItLink\" href=\"../../../../../core_expr_types/__pv_it/common/3a62c13e156d62d52fe585fa37cc2172fcf685260/expr.ipynb\"><img src=\"../../../../../core_expr_types/__pv_it/common/3a62c13e156d62d52fe585fa37cc2172fcf685260/expr.png\" style=\"display:inline;vertical-align:middle;\" /></a></td></tr>\n",
       "<tr><td>49</td><td>IndexedVar</td><td>variable:&nbsp;52<br>index:&nbsp;54<br></td><td><a class=\"ProveItLink\" href=\"../../../../../core_expr_types/__pv_it/common/8542342c36565a593724a99f9c08d995c1c21af20/expr.ipynb\"><img src=\"../../../../../core_expr_types/__pv_it/common/8542342c36565a593724a99f9c08d995c1c21af20/expr.png\" style=\"display:inline;vertical-align:middle;\" /></a></td></tr>\n",
       "<tr><td>50</td><td>Literal</td><td></td><td><a class=\"ProveItLink\" href=\"../../../../number_sets/real_numbers/__pv_it/common/93cac87a1a47e613f7a83b23ef7891599a1a4cca0/expr.ipynb\"><img src=\"../../../../number_sets/real_numbers/__pv_it/common/93cac87a1a47e613f7a83b23ef7891599a1a4cca0/expr.png\" style=\"display:inline;vertical-align:middle;\" /></a></td></tr>\n",
       "<tr><td>51</td><td>Variable</td><td></td><td><a class=\"ProveItLink\" href=\"../../../../../__pv_it/common/c06c606ec12678c58933ac85412ecadc2ae28be60/expr.ipynb\"><img src=\"../../../../../__pv_it/common/c06c606ec12678c58933ac85412ecadc2ae28be60/expr.png\" style=\"display:inline;vertical-align:middle;\" /></a></td></tr>\n",
       "<tr><td>52</td><td>Variable</td><td></td><td><a class=\"ProveItLink\" href=\"../../../../../__pv_it/common/195236b98c6c564a75b5dbada74b173bc52d5c3e0/expr.ipynb\"><img src=\"../../../../../__pv_it/common/195236b98c6c564a75b5dbada74b173bc52d5c3e0/expr.png\" style=\"display:inline;vertical-align:middle;\" /></a></td></tr>\n",
       "<tr><td>53</td><td>ExprTuple</td><td>54</td><td><a class=\"ProveItLink\" href=\"../../../../../core_expr_types/__pv_it/common/4b0dd6be36d76552eda6a95d5b4a27f5a5b62f900/expr.ipynb\"><img src=\"../../../../../core_expr_types/__pv_it/common/4b0dd6be36d76552eda6a95d5b4a27f5a5b62f900/expr.png\" style=\"display:inline;vertical-align:middle;\" /></a></td></tr>\n",
       "<tr><td>54</td><td>Variable</td><td></td><td><a class=\"ProveItLink\" href=\"../../../../../core_expr_types/__pv_it/common/006c465e50948aa2b52285e2de47974f741255cc0/expr.ipynb\"><img src=\"../../../../../core_expr_types/__pv_it/common/006c465e50948aa2b52285e2de47974f741255cc0/expr.png\" style=\"display:inline;vertical-align:middle;\" /></a></td></tr>\n",
       "</table>\n"
      ],
      "text/plain": [
       "0. {forall_{x, y} [forall_{a_{1}, a_{2}, ..., a_{i}, b_{1}, b_{2}, ..., b_{j} in Real | x <= y} ((a_{1} +  a_{2} +  ... +  a_{i} + x+ b_{1} +  b_{2} +  ... +  b_{j}) <= (a_{1} +  a_{2} +  ... +  a_{i} + y+ b_{1} +  b_{2} +  ... +  b_{j}))] if i in Natural ,  j in Natural.\n",
       "   core type: Conditional\n",
       "   value: 1\n",
       "   condition: 2\n",
       "1. forall_{x, y} [forall_{a_{1}, a_{2}, ..., a_{i}, b_{1}, b_{2}, ..., b_{j} in Real | x <= y} ((a_{1} +  a_{2} +  ... +  a_{i} + x+ b_{1} +  b_{2} +  ... +  b_{j}) <= (a_{1} +  a_{2} +  ... +  a_{i} + y+ b_{1} +  b_{2} +  ... +  b_{j}))]\n",
       "   core type: Operation\n",
       "   operator: 11\n",
       "   operand: 5\n",
       "2. (i in Natural) and (j in Natural)\n",
       "   core type: Operation\n",
       "   operator: 20\n",
       "   operands: 4\n",
       "3. ((x, y) -> [forall_{a_{1}, a_{2}, ..., a_{i}, b_{1}, b_{2}, ..., b_{j} in Real | x <= y} ((a_{1} +  a_{2} +  ... +  a_{i} + x+ b_{1} +  b_{2} +  ... +  b_{j}) <= (a_{1} +  a_{2} +  ... +  a_{i} + y+ b_{1} +  b_{2} +  ... +  b_{j}))])\n",
       "   core type: ExprTuple\n",
       "   sub-expressions: 5\n",
       "4. (i in Natural, j in Natural)\n",
       "   core type: ExprTuple\n",
       "   sub-expressions: 6, 7\n",
       "5. (x, y) -> [forall_{a_{1}, a_{2}, ..., a_{i}, b_{1}, b_{2}, ..., b_{j} in Real | x <= y} ((a_{1} +  a_{2} +  ... +  a_{i} + x+ b_{1} +  b_{2} +  ... +  b_{j}) <= (a_{1} +  a_{2} +  ... +  a_{i} + y+ b_{1} +  b_{2} +  ... +  b_{j}))]\n",
       "   core type: Lambda\n",
       "   parameters: 33\\n   body: 8\n",
       "6. i in Natural\n",
       "   core type: Operation\n",
       "   operator: 46\n",
       "   operands: 9\n",
       "7. j in Natural\n",
       "   core type: Operation\n",
       "   operator: 46\n",
       "   operands: 10\n",
       "8. forall_{a_{1}, a_{2}, ..., a_{i}, b_{1}, b_{2}, ..., b_{j} in Real | x <= y} ((a_{1} +  a_{2} +  ... +  a_{i} + x+ b_{1} +  b_{2} +  ... +  b_{j}) <= (a_{1} +  a_{2} +  ... +  a_{i} + y+ b_{1} +  b_{2} +  ... +  b_{j}))\n",
       "   core type: Operation\n",
       "   operator: 11\n",
       "   operand: 14\n",
       "9. (i, Natural)\n",
       "   core type: ExprTuple\n",
       "   sub-expressions: 41, 13\n",
       "10. (j, Natural)\n",
       "    core type: ExprTuple\n",
       "    sub-expressions: 44, 13\n",
       "11. forall\n",
       "    core type: Literal\n",
       "    sub-expressions: \n",
       "12. ((a_{1}, a_{2}, ..., a_{i}, b_{1}, b_{2}, ..., b_{j}) -> {(a_{1} +  a_{2} +  ... +  a_{i} + x+ b_{1} +  b_{2} +  ... +  b_{j}) <= (a_{1} +  a_{2} +  ... +  a_{i} + y+ b_{1} +  b_{2} +  ... +  b_{j}) if (a_{1} in Real) ,  (a_{2} in Real) ,  ... ,  (a_{i} in Real), (b_{1} in Real) ,  (b_{2} in Real) ,  ... ,  (b_{j} in Real) ,  x <= y.)\n",
       "    core type: ExprTuple\n",
       "    sub-expressions: 14\n",
       "13. Natural\n",
       "    core type: Literal\n",
       "    sub-expressions: \n",
       "14. (a_{1}, a_{2}, ..., a_{i}, b_{1}, b_{2}, ..., b_{j}) -> {(a_{1} +  a_{2} +  ... +  a_{i} + x+ b_{1} +  b_{2} +  ... +  b_{j}) <= (a_{1} +  a_{2} +  ... +  a_{i} + y+ b_{1} +  b_{2} +  ... +  b_{j}) if (a_{1} in Real) ,  (a_{2} in Real) ,  ... ,  (a_{i} in Real), (b_{1} in Real) ,  (b_{2} in Real) ,  ... ,  (b_{j} in Real) ,  x <= y.\n",
       "    core type: Lambda\n",
       "    parameters: 15\\n    body: 16\n",
       "15. (a_{1}, a_{2}, ..., a_{i},b_{1}, b_{2}, ..., b_{j})\n",
       "    core type: ExprTuple\n",
       "    sub-expressions: 34, 35\n",
       "16. {(a_{1} +  a_{2} +  ... +  a_{i} + x+ b_{1} +  b_{2} +  ... +  b_{j}) <= (a_{1} +  a_{2} +  ... +  a_{i} + y+ b_{1} +  b_{2} +  ... +  b_{j}) if (a_{1} in Real) ,  (a_{2} in Real) ,  ... ,  (a_{i} in Real), (b_{1} in Real) ,  (b_{2} in Real) ,  ... ,  (b_{j} in Real) ,  x <= y.\n",
       "    core type: Conditional\n",
       "    value: 17\n",
       "    condition: 18\n",
       "17. (a_{1} +  a_{2} +  ... +  a_{i} + x+ b_{1} +  b_{2} +  ... +  b_{j}) <= (a_{1} +  a_{2} +  ... +  a_{i} + y+ b_{1} +  b_{2} +  ... +  b_{j})\n",
       "    core type: Operation\n",
       "    operator: 32\n",
       "    operands: 19\n",
       "18. (a_{1} in Real) and  (a_{2} in Real) and  ... and  (a_{i} in Real)and (b_{1} in Real) and  (b_{2} in Real) and  ... and  (b_{j} in Real) and (x <= y)\n",
       "    core type: Operation\n",
       "    operator: 20\n",
       "    operands: 21\n",
       "19. (a_{1} +  a_{2} +  ... +  a_{i} + x+ b_{1} +  b_{2} +  ... +  b_{j}, a_{1} +  a_{2} +  ... +  a_{i} + y+ b_{1} +  b_{2} +  ... +  b_{j})\n",
       "    core type: ExprTuple\n",
       "    sub-expressions: 22, 23\n",
       "20. and\n",
       "    core type: Literal\n",
       "    sub-expressions: \n",
       "21. ((a_{1} in Real), (a_{2} in Real), ..., (a_{i} in Real),(b_{1} in Real), (b_{2} in Real), ..., (b_{j} in Real), x <= y)\n",
       "    core type: ExprTuple\n",
       "    sub-expressions: 24, 25, 26\n",
       "22. a_{1} +  a_{2} +  ... +  a_{i} + x+ b_{1} +  b_{2} +  ... +  b_{j}\n",
       "    core type: Operation\n",
       "    operator: 28\n",
       "    operands: 27\n",
       "23. a_{1} +  a_{2} +  ... +  a_{i} + y+ b_{1} +  b_{2} +  ... +  b_{j}\n",
       "    core type: Operation\n",
       "    operator: 28\n",
       "    operands: 29\n",
       "24. (a_{1} in Real), (a_{2} in Real), ..., (a_{i} in Real)\n",
       "    core type: ExprRange\n",
       "    lambda_map: 30\n",
       "    start_index: 43\n",
       "    end_index: 41\n",
       "25. (b_{1} in Real), (b_{2} in Real), ..., (b_{j} in Real)\n",
       "    core type: ExprRange\n",
       "    lambda_map: 31\n",
       "    start_index: 43\n",
       "    end_index: 44\n",
       "26. x <= y\n",
       "    core type: Operation\n",
       "    operator: 32\n",
       "    operands: 33\n",
       "27. (a_{1}, a_{2}, ..., a_{i}, x,b_{1}, b_{2}, ..., b_{j})\n",
       "    core type: ExprTuple\n",
       "    sub-expressions: 34, 38, 35\n",
       "28. +\n",
       "    core type: Literal\n",
       "    sub-expressions: \n",
       "29. (a_{1}, a_{2}, ..., a_{i}, y,b_{1}, b_{2}, ..., b_{j})\n",
       "    core type: ExprTuple\n",
       "    sub-expressions: 34, 39, 35\n",
       "30. _a -> (a_{_a} in Real)\n",
       "    core type: Lambda\n",
       "    parameter: 54\n",
       "    body: 36\n",
       "31. _a -> (b_{_a} in Real)\n",
       "    core type: Lambda\n",
       "    parameter: 54\n",
       "    body: 37\n",
       "32. <=\n",
       "    core type: Literal\n",
       "    sub-expressions: \n",
       "33. (x, y)\n",
       "    core type: ExprTuple\n",
       "    sub-expressions: 38, 39\n",
       "34. a_{1}, a_{2}, ..., a_{i}\n",
       "    core type: ExprRange\n",
       "    lambda_map: 40\n",
       "    start_index: 43\n",
       "    end_index: 41\n",
       "35. b_{1}, b_{2}, ..., b_{j}\n",
       "    core type: ExprRange\n",
       "    lambda_map: 42\n",
       "    start_index: 43\n",
       "    end_index: 44\n",
       "36. a_{_a} in Real\n",
       "    core type: Operation\n",
       "    operator: 46\n",
       "    operands: 45\n",
       "37. b_{_a} in Real\n",
       "    core type: Operation\n",
       "    operator: 46\n",
       "    operands: 47\n",
       "38. x\n",
       "    core type: Variable\n",
       "    sub-expressions: \n",
       "39. y\n",
       "    core type: Variable\n",
       "    sub-expressions: \n",
       "40. _a -> a_{_a}\n",
       "    core type: Lambda\n",
       "    parameter: 54\n",
       "    body: 48\n",
       "41. i\n",
       "    core type: Variable\n",
       "    sub-expressions: \n",
       "42. _a -> b_{_a}\n",
       "    core type: Lambda\n",
       "    parameter: 54\n",
       "    body: 49\n",
       "43. 1\n",
       "    core type: Literal\n",
       "    sub-expressions: \n",
       "44. j\n",
       "    core type: Variable\n",
       "    sub-expressions: \n",
       "45. (a_{_a}, Real)\n",
       "    core type: ExprTuple\n",
       "    sub-expressions: 48, 50\n",
       "46. in\n",
       "    core type: Literal\n",
       "    sub-expressions: \n",
       "47. (b_{_a}, Real)\n",
       "    core type: ExprTuple\n",
       "    sub-expressions: 49, 50\n",
       "48. a_{_a}\n",
       "    core type: IndexedVar\n",
       "variable: 51\n",
       "index: 54\n",
       "49. b_{_a}\n",
       "    core type: IndexedVar\n",
       "variable: 52\n",
       "index: 54\n",
       "50. Real\n",
       "    core type: Literal\n",
       "    sub-expressions: \n",
       "51. a\n",
       "    core type: Variable\n",
       "    sub-expressions: \n",
       "52. b\n",
       "    core type: Variable\n",
       "    sub-expressions: \n",
       "53. (_a)\n",
       "    core type: ExprTuple\n",
       "    sub-expressions: 54\n",
       "54. _a\n",
       "    core type: Variable\n",
       "    sub-expressions: "
      ]
     },
     "metadata": {},
     "output_type": "display_data"
    }
   ],
   "source": [
    "# display the expression information\n",
    "stored_expr.expr_info()"
   ]
  },
  {
   "cell_type": "code",
   "execution_count": null,
   "metadata": {},
   "outputs": [],
   "source": []
  }
 ],
 "metadata": {
  "kernelspec": {
   "display_name": "Python 3",
   "language": "python",
   "name": "python3"
  }
 },
 "nbformat": 4,
 "nbformat_minor": 0
}