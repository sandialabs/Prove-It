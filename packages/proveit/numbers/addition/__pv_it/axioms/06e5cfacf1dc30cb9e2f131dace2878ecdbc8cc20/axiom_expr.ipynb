{
 "cells": [
  {
   "cell_type": "markdown",
   "metadata": {},
   "source": [
    "Axiom <a class=\"ProveItLink\" href=\"../../../_axioms_.ipynb#nat_plus_successor\">nat_plus_successor</a> of type <a class=\"ProveItLink\" href=\"../../../../../../../doc/html/api/proveit.logic.Forall.html\">Forall</a>\n",
    "=======================\n",
    "# from the theory of <a class=\"ProveItLink\" href=\"../../../_theory_nbs_/theory.ipynb\">proveit.numbers.addition</a>\n",
    "*** see <a class=\"ProveItLink\" href=\"dependencies.ipynb\">dependencies</a> ***"
   ]
  },
  {
   "cell_type": "code",
   "execution_count": 1,
   "metadata": {},
   "outputs": [],
   "source": [
    "import proveit\n",
    "# Automation is not needed when only building an expression:\n",
    "proveit.defaults.automation = False # This will speed things up.\n",
    "proveit.defaults.inline_pngs = False # Makes files smaller.\n",
    "%load_axiom_expr # Load the stored axiom expression as 'stored_expr'\n",
    "# import the special expression\n",
    "from proveit.numbers.addition import nat_plus_successor"
   ]
  },
  {
   "cell_type": "code",
   "execution_count": 2,
   "metadata": {},
   "outputs": [
    {
     "name": "stdout",
     "output_type": "stream",
     "text": [
      "Passed sanity check: nat_plus_successor matches stored_expr\n"
     ]
    }
   ],
   "source": [
    "# check that the built expression is the same as the stored expression\n",
    "assert nat_plus_successor.expr == stored_expr\n",
    "assert nat_plus_successor.expr._style_id == stored_expr._style_id\n",
    "print(\"Passed sanity check: nat_plus_successor matches stored_expr\")"
   ]
  },
  {
   "cell_type": "code",
   "execution_count": 3,
   "metadata": {},
   "outputs": [
    {
     "name": "stdout",
     "output_type": "stream",
     "text": [
      "\\forall_{a, b \\in \\mathbb{N}}~\\left(\\left(a + \\left(b + 1\\right)\\right) = \\left(\\left(a + b\\right) + 1\\right)\\right)\n"
     ]
    }
   ],
   "source": [
    "# Show the LaTeX representation of the expression for convenience if you need it.\n",
    "print(stored_expr.latex())"
   ]
  },
  {
   "cell_type": "code",
   "execution_count": 4,
   "metadata": {},
   "outputs": [
    {
     "data": {
      "text/html": [
       "<table>\n",
       "<tr><th>name</th><th>description</th><th>default</th><th>current value</th><th>related methods</th></tr><tr><td>with_wrapping</td><td>If 'True', wrap the Expression after the parameters</td><td>None</td><td>None/False</td><td>('with_wrapping',)</td></tr>\n",
       "<tr><td>condition_wrapping</td><td>Wrap 'before' or 'after' the condition (or None).</td><td>None</td><td>None/False</td><td>('with_wrap_after_condition', 'with_wrap_before_condition')</td></tr>\n",
       "<tr><td>wrap_params</td><td>If 'True', wraps every two parameters AND wraps the Expression after the parameters</td><td>None</td><td>None/False</td><td>('with_params',)</td></tr>\n",
       "<tr><td>justification</td><td>justify to the 'left', 'center', or 'right' in the array cells</td><td>center</td><td>center</td><td>('with_justification',)</td></tr>\n",
       "</table>\n"
      ],
      "text/plain": [
       "style name: with_wrapping\n",
       "description: If 'True', wrap the Expression after the parameters\n",
       "default: None\n",
       "current value: None/False\n",
       "related methods: ('with_wrapping',)\n",
       "style name: condition_wrapping\n",
       "description: Wrap 'before' or 'after' the condition (or None).\n",
       "default: None\n",
       "current value: None/False\n",
       "related methods: ('with_wrap_after_condition', 'with_wrap_before_condition')\n",
       "style name: wrap_params\n",
       "description: If 'True', wraps every two parameters AND wraps the Expression after the parameters\n",
       "default: None\n",
       "current value: None/False\n",
       "related methods: ('with_params',)\n",
       "style name: justification\n",
       "description: justify to the 'left', 'center', or 'right' in the array cells\n",
       "default: center\n",
       "current value: center\n",
       "related methods: ('with_justification',)"
      ]
     },
     "metadata": {},
     "output_type": "display_data"
    }
   ],
   "source": [
    "stored_expr.style_options()"
   ]
  },
  {
   "cell_type": "code",
   "execution_count": 5,
   "metadata": {},
   "outputs": [
    {
     "data": {
      "text/html": [
       "<table><tr><th>&nbsp;</th><th>core type</th><th>sub-expressions</th><th>expression</th></tr>\n",
       "<tr><td>0</td><td>Operation</td><td>operator:&nbsp;1<br>operand:&nbsp;3<br></td><td><a class=\"ProveItLink\" href=\"../d3201edcad63f2d484dff912040f1af275c55b980/expr.ipynb\"><img src=\"../d3201edcad63f2d484dff912040f1af275c55b980/expr.png\" style=\"display:inline;vertical-align:middle;\" /></a></td></tr>\n",
       "<tr><td>1</td><td>Literal</td><td></td><td><a class=\"ProveItLink\" href=\"../../../../../logic/booleans/quantification/universality/__pv_it/common/083d2baa0b8ecab1d230f9ec29a15aa1355809fb0/expr.ipynb\"><img src=\"../../../../../logic/booleans/quantification/universality/__pv_it/common/083d2baa0b8ecab1d230f9ec29a15aa1355809fb0/expr.png\" style=\"display:inline;vertical-align:middle;\" /></a></td></tr>\n",
       "<tr><td>2</td><td>ExprTuple</td><td>3</td><td><a class=\"ProveItLink\" href=\"../a5d41ae47bdd24b3342b5c5beea827ed3d61efcc0/expr.ipynb\"><img src=\"../a5d41ae47bdd24b3342b5c5beea827ed3d61efcc0/expr.png\" style=\"display:inline;vertical-align:middle;\" /></a></td></tr>\n",
       "<tr><td>3</td><td>Lambda</td><td>parameters:&nbsp;25<br>body:&nbsp;4<br></td><td><a class=\"ProveItLink\" href=\"../d5bbc9f09a7ab8ef05f11352fc1cd568d09efec70/expr.ipynb\"><img src=\"../d5bbc9f09a7ab8ef05f11352fc1cd568d09efec70/expr.png\" style=\"display:inline;vertical-align:middle;\" /></a></td></tr>\n",
       "<tr><td>4</td><td>Conditional</td><td>value:&nbsp;5<br>condition:&nbsp;6<br></td><td><a class=\"ProveItLink\" href=\"../d2ea7fc679337b5d566e3b2e3d8be5b29bd025890/expr.ipynb\"><img src=\"../d2ea7fc679337b5d566e3b2e3d8be5b29bd025890/expr.png\" style=\"display:inline;vertical-align:middle;\" /></a></td></tr>\n",
       "<tr><td>5</td><td>Operation</td><td>operator:&nbsp;7<br>operands:&nbsp;8<br></td><td><a class=\"ProveItLink\" href=\"../5b9f8ed1abf7702b0ab63922d06103bbe993fb7d0/expr.ipynb\"><img src=\"../5b9f8ed1abf7702b0ab63922d06103bbe993fb7d0/expr.png\" style=\"display:inline;vertical-align:middle;\" /></a></td></tr>\n",
       "<tr><td>6</td><td>Operation</td><td>operator:&nbsp;9<br>operands:&nbsp;10<br></td><td><a class=\"ProveItLink\" href=\"../589bc29916b29964b1bd15189ff638894f44ddb40/expr.ipynb\"><img src=\"../589bc29916b29964b1bd15189ff638894f44ddb40/expr.png\" style=\"display:inline;vertical-align:middle;\" /></a></td></tr>\n",
       "<tr><td>7</td><td>Literal</td><td></td><td><a class=\"ProveItLink\" href=\"../../../../../logic/equality/__pv_it/common/fb96dc12b2aa8801dda64d0132b396c63d1502bb0/expr.ipynb\"><img src=\"../../../../../logic/equality/__pv_it/common/fb96dc12b2aa8801dda64d0132b396c63d1502bb0/expr.png\" style=\"display:inline;vertical-align:middle;\" /></a></td></tr>\n",
       "<tr><td>8</td><td>ExprTuple</td><td>11, 12</td><td><a class=\"ProveItLink\" href=\"../ca8ab8d036f1e2fe323a09cd5a58c2ace091a5520/expr.ipynb\"><img src=\"../ca8ab8d036f1e2fe323a09cd5a58c2ace091a5520/expr.png\" style=\"display:inline;vertical-align:middle;\" /></a></td></tr>\n",
       "<tr><td>9</td><td>Literal</td><td></td><td><a class=\"ProveItLink\" href=\"../../../../../logic/booleans/conjunction/__pv_it/common/42118ff318bd65d98b1393f64ce7c2269feef76e0/expr.ipynb\"><img src=\"../../../../../logic/booleans/conjunction/__pv_it/common/42118ff318bd65d98b1393f64ce7c2269feef76e0/expr.png\" style=\"display:inline;vertical-align:middle;\" /></a></td></tr>\n",
       "<tr><td>10</td><td>ExprTuple</td><td>13, 14</td><td><a class=\"ProveItLink\" href=\"../b603f50dea524496602f8ff609b38d8a5246ed750/expr.ipynb\"><img src=\"../b603f50dea524496602f8ff609b38d8a5246ed750/expr.png\" style=\"display:inline;vertical-align:middle;\" /></a></td></tr>\n",
       "<tr><td>11</td><td>Operation</td><td>operator:&nbsp;24<br>operands:&nbsp;15<br></td><td><a class=\"ProveItLink\" href=\"../865e2b7c375f325b66f81ea43afa752a92da1d3d0/expr.ipynb\"><img src=\"../865e2b7c375f325b66f81ea43afa752a92da1d3d0/expr.png\" style=\"display:inline;vertical-align:middle;\" /></a></td></tr>\n",
       "<tr><td>12</td><td>Operation</td><td>operator:&nbsp;24<br>operands:&nbsp;16<br></td><td><a class=\"ProveItLink\" href=\"../29872162be95e37347cdc91479cca4a1f81d6d8f0/expr.ipynb\"><img src=\"../29872162be95e37347cdc91479cca4a1f81d6d8f0/expr.png\" style=\"display:inline;vertical-align:middle;\" /></a></td></tr>\n",
       "<tr><td>13</td><td>Operation</td><td>operator:&nbsp;18<br>operands:&nbsp;17<br></td><td><a class=\"ProveItLink\" href=\"../27094ede24067904bb8353fa305df8461a3a4be40/expr.ipynb\"><img src=\"../27094ede24067904bb8353fa305df8461a3a4be40/expr.png\" style=\"display:inline;vertical-align:middle;\" /></a></td></tr>\n",
       "<tr><td>14</td><td>Operation</td><td>operator:&nbsp;18<br>operands:&nbsp;19<br></td><td><a class=\"ProveItLink\" href=\"../5d56aa038eb34c97b005be8161434236efec38e90/expr.ipynb\"><img src=\"../5d56aa038eb34c97b005be8161434236efec38e90/expr.png\" style=\"display:inline;vertical-align:middle;\" /></a></td></tr>\n",
       "<tr><td>15</td><td>ExprTuple</td><td>27, 20</td><td><a class=\"ProveItLink\" href=\"../fa75cb8ef1f5dc0802ae40940608c88a4f165e9a0/expr.ipynb\"><img src=\"../fa75cb8ef1f5dc0802ae40940608c88a4f165e9a0/expr.png\" style=\"display:inline;vertical-align:middle;\" /></a></td></tr>\n",
       "<tr><td>16</td><td>ExprTuple</td><td>21, 26</td><td><a class=\"ProveItLink\" href=\"../3ff0aa5f5d9fecd06d5e21556fa09ebc17418fbe0/expr.ipynb\"><img src=\"../3ff0aa5f5d9fecd06d5e21556fa09ebc17418fbe0/expr.png\" style=\"display:inline;vertical-align:middle;\" /></a></td></tr>\n",
       "<tr><td>17</td><td>ExprTuple</td><td>27, 22</td><td><a class=\"ProveItLink\" href=\"../d8b6a0eba6558e88710687f1f05fc014c3126b8f0/expr.ipynb\"><img src=\"../d8b6a0eba6558e88710687f1f05fc014c3126b8f0/expr.png\" style=\"display:inline;vertical-align:middle;\" /></a></td></tr>\n",
       "<tr><td>18</td><td>Literal</td><td></td><td><a class=\"ProveItLink\" href=\"../../../../../logic/sets/membership/__pv_it/common/477487d8796864d23d5810f83761435f25167f690/expr.ipynb\"><img src=\"../../../../../logic/sets/membership/__pv_it/common/477487d8796864d23d5810f83761435f25167f690/expr.png\" style=\"display:inline;vertical-align:middle;\" /></a></td></tr>\n",
       "<tr><td>19</td><td>ExprTuple</td><td>28, 22</td><td><a class=\"ProveItLink\" href=\"../002fe358a6420f06acbf206127002fb6838085890/expr.ipynb\"><img src=\"../002fe358a6420f06acbf206127002fb6838085890/expr.png\" style=\"display:inline;vertical-align:middle;\" /></a></td></tr>\n",
       "<tr><td>20</td><td>Operation</td><td>operator:&nbsp;24<br>operands:&nbsp;23<br></td><td><a class=\"ProveItLink\" href=\"../e89959fb64f9439302f26eefdb76c6322d1dba280/expr.ipynb\"><img src=\"../e89959fb64f9439302f26eefdb76c6322d1dba280/expr.png\" style=\"display:inline;vertical-align:middle;\" /></a></td></tr>\n",
       "<tr><td>21</td><td>Operation</td><td>operator:&nbsp;24<br>operands:&nbsp;25<br></td><td><a class=\"ProveItLink\" href=\"../89a168a13153c99bc04f669d338e1591180cde600/expr.ipynb\"><img src=\"../89a168a13153c99bc04f669d338e1591180cde600/expr.png\" style=\"display:inline;vertical-align:middle;\" /></a></td></tr>\n",
       "<tr><td>22</td><td>Literal</td><td></td><td><a class=\"ProveItLink\" href=\"../../../../number_sets/natural_numbers/__pv_it/common/8b7c321957f52ed3b05b36af612eeae4fa4783bc0/expr.ipynb\"><img src=\"../../../../number_sets/natural_numbers/__pv_it/common/8b7c321957f52ed3b05b36af612eeae4fa4783bc0/expr.png\" style=\"display:inline;vertical-align:middle;\" /></a></td></tr>\n",
       "<tr><td>23</td><td>ExprTuple</td><td>28, 26</td><td><a class=\"ProveItLink\" href=\"../785f25e3398d9efe89e724aefea92dc0142fbb340/expr.ipynb\"><img src=\"../785f25e3398d9efe89e724aefea92dc0142fbb340/expr.png\" style=\"display:inline;vertical-align:middle;\" /></a></td></tr>\n",
       "<tr><td>24</td><td>Literal</td><td></td><td><a class=\"ProveItLink\" href=\"../../common/4b7effaab3619a1c2c38fe2dee8601df8ec714590/expr.ipynb\"><img src=\"../../common/4b7effaab3619a1c2c38fe2dee8601df8ec714590/expr.png\" style=\"display:inline;vertical-align:middle;\" /></a></td></tr>\n",
       "<tr><td>25</td><td>ExprTuple</td><td>27, 28</td><td><a class=\"ProveItLink\" href=\"../3dcd5ceea6334d8cb48fe14fdae236293aa9a6050/expr.ipynb\"><img src=\"../3dcd5ceea6334d8cb48fe14fdae236293aa9a6050/expr.png\" style=\"display:inline;vertical-align:middle;\" /></a></td></tr>\n",
       "<tr><td>26</td><td>Literal</td><td></td><td><a class=\"ProveItLink\" href=\"../../../../numerals/__pv_it/common/682157d4892d216d9e5626ed533aff9b56b9506e0/expr.ipynb\"><img src=\"../../../../numerals/__pv_it/common/682157d4892d216d9e5626ed533aff9b56b9506e0/expr.png\" style=\"display:inline;vertical-align:middle;\" /></a></td></tr>\n",
       "<tr><td>27</td><td>Variable</td><td></td><td><a class=\"ProveItLink\" href=\"../../../../../__pv_it/common/c06c606ec12678c58933ac85412ecadc2ae28be60/expr.ipynb\"><img src=\"../../../../../__pv_it/common/c06c606ec12678c58933ac85412ecadc2ae28be60/expr.png\" style=\"display:inline;vertical-align:middle;\" /></a></td></tr>\n",
       "<tr><td>28</td><td>Variable</td><td></td><td><a class=\"ProveItLink\" href=\"../../../../../__pv_it/common/195236b98c6c564a75b5dbada74b173bc52d5c3e0/expr.ipynb\"><img src=\"../../../../../__pv_it/common/195236b98c6c564a75b5dbada74b173bc52d5c3e0/expr.png\" style=\"display:inline;vertical-align:middle;\" /></a></td></tr>\n",
       "</table>\n"
      ],
      "text/plain": [
       "0. forall_{a, b in Natural} ((a + (b + 1)) = ((a + b) + 1))\n",
       "   core type: Operation\n",
       "   operator: 1\n",
       "   operand: 3\n",
       "1. forall\n",
       "   core type: Literal\n",
       "   sub-expressions: \n",
       "2. ((a, b) -> {(a + (b + 1)) = ((a + b) + 1) if a in Natural ,  b in Natural.)\n",
       "   core type: ExprTuple\n",
       "   sub-expressions: 3\n",
       "3. (a, b) -> {(a + (b + 1)) = ((a + b) + 1) if a in Natural ,  b in Natural.\n",
       "   core type: Lambda\n",
       "   parameters: 25\\n   body: 4\n",
       "4. {(a + (b + 1)) = ((a + b) + 1) if a in Natural ,  b in Natural.\n",
       "   core type: Conditional\n",
       "   value: 5\n",
       "   condition: 6\n",
       "5. (a + (b + 1)) = ((a + b) + 1)\n",
       "   core type: Operation\n",
       "   operator: 7\n",
       "   operands: 8\n",
       "6. (a in Natural) and (b in Natural)\n",
       "   core type: Operation\n",
       "   operator: 9\n",
       "   operands: 10\n",
       "7. =\n",
       "   core type: Literal\n",
       "   sub-expressions: \n",
       "8. (a + (b + 1), (a + b) + 1)\n",
       "   core type: ExprTuple\n",
       "   sub-expressions: 11, 12\n",
       "9. and\n",
       "   core type: Literal\n",
       "   sub-expressions: \n",
       "10. (a in Natural, b in Natural)\n",
       "    core type: ExprTuple\n",
       "    sub-expressions: 13, 14\n",
       "11. a + (b + 1)\n",
       "    core type: Operation\n",
       "    operator: 24\n",
       "    operands: 15\n",
       "12. (a + b) + 1\n",
       "    core type: Operation\n",
       "    operator: 24\n",
       "    operands: 16\n",
       "13. a in Natural\n",
       "    core type: Operation\n",
       "    operator: 18\n",
       "    operands: 17\n",
       "14. b in Natural\n",
       "    core type: Operation\n",
       "    operator: 18\n",
       "    operands: 19\n",
       "15. (a, b + 1)\n",
       "    core type: ExprTuple\n",
       "    sub-expressions: 27, 20\n",
       "16. (a + b, 1)\n",
       "    core type: ExprTuple\n",
       "    sub-expressions: 21, 26\n",
       "17. (a, Natural)\n",
       "    core type: ExprTuple\n",
       "    sub-expressions: 27, 22\n",
       "18. in\n",
       "    core type: Literal\n",
       "    sub-expressions: \n",
       "19. (b, Natural)\n",
       "    core type: ExprTuple\n",
       "    sub-expressions: 28, 22\n",
       "20. b + 1\n",
       "    core type: Operation\n",
       "    operator: 24\n",
       "    operands: 23\n",
       "21. a + b\n",
       "    core type: Operation\n",
       "    operator: 24\n",
       "    operands: 25\n",
       "22. Natural\n",
       "    core type: Literal\n",
       "    sub-expressions: \n",
       "23. (b, 1)\n",
       "    core type: ExprTuple\n",
       "    sub-expressions: 28, 26\n",
       "24. +\n",
       "    core type: Literal\n",
       "    sub-expressions: \n",
       "25. (a, b)\n",
       "    core type: ExprTuple\n",
       "    sub-expressions: 27, 28\n",
       "26. 1\n",
       "    core type: Literal\n",
       "    sub-expressions: \n",
       "27. a\n",
       "    core type: Variable\n",
       "    sub-expressions: \n",
       "28. b\n",
       "    core type: Variable\n",
       "    sub-expressions: "
      ]
     },
     "metadata": {},
     "output_type": "display_data"
    }
   ],
   "source": [
    "# display the expression information\n",
    "stored_expr.expr_info()"
   ]
  },
  {
   "cell_type": "code",
   "execution_count": null,
   "metadata": {},
   "outputs": [],
   "source": []
  }
 ],
 "metadata": {
  "kernelspec": {
   "display_name": "Python 3",
   "language": "python",
   "name": "python3"
  }
 },
 "nbformat": 4,
 "nbformat_minor": 0
}