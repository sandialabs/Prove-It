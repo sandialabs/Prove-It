{
 "cells": [
  {
   "cell_type": "markdown",
   "metadata": {},
   "source": [
    "Theorems (or conjectures) for the theory of <a class=\"ProveItLink\" href=\"theory.ipynb\">proveit.numbers.division</a>\n",
    "========"
   ]
  },
  {
   "cell_type": "code",
   "execution_count": null,
   "metadata": {},
   "outputs": [],
   "source": [
    "import proveit\n",
    "# Prepare this notebook for defining the theorems of a theory:\n",
    "%theorems_notebook # Keep this at the top following 'import proveit'.\n",
    "from proveit.logic import Forall, InSet, Equals, NotEquals, Implies\n",
    "from proveit.numbers import (Integer, NaturalPos, Rational, \n",
    "                             RationalNonZero, RationalPos, RationalNonNeg,\n",
    "                             Real, RealPos, RealNeg, RealNonPos, RealNonNeg, \n",
    "                             Complex, ComplexNonZero)\n",
    "from proveit.numbers import Div, frac, Add, subtract, Sum, Mult, Exp, zero, one\n",
    "from proveit.numbers import Less, LessEq, greater, greater_eq, number_ordering\n",
    "from proveit import a, b, c, d, e, n, w, x, y, z, P, S #, w_multi, x_multi, y_multi, z_multi, w_etc, x_etc, y_etc, z_etc, Py_etc"
   ]
  },
  {
   "cell_type": "code",
   "execution_count": null,
   "metadata": {},
   "outputs": [],
   "source": [
    "%begin theorems"
   ]
  },
  {
   "cell_type": "code",
   "execution_count": null,
   "metadata": {},
   "outputs": [],
   "source": [
    "div_rational_closure = Forall(\n",
    "    [a, b],\n",
    "    InSet(frac(a, b), Rational),\n",
    "    domain=Rational,\n",
    "    conditions=[NotEquals(b, zero)])"
   ]
  },
  {
   "cell_type": "code",
   "execution_count": null,
   "metadata": {},
   "outputs": [],
   "source": [
    "div_rational_non_zero_closure = Forall(\n",
    "    [a, b],\n",
    "    InSet(frac(a, b), RationalNonZero),\n",
    "    domain=RationalNonZero)"
   ]
  },
  {
   "cell_type": "code",
   "execution_count": null,
   "metadata": {},
   "outputs": [],
   "source": [
    "div_rational_pos_closure = Forall(\n",
    "    [a, b],\n",
    "    InSet(frac(a, b), RationalPos),\n",
    "    domain=RationalPos)"
   ]
  },
  {
   "cell_type": "code",
   "execution_count": null,
   "metadata": {},
   "outputs": [],
   "source": [
    "div_rational_non_neg_closure = Forall(\n",
    "    [a, b],\n",
    "    InSet(frac(a, b), RationalNonNeg),\n",
    "    domains=(RationalNonNeg, RationalPos))"
   ]
  },
  {
   "cell_type": "code",
   "execution_count": null,
   "metadata": {},
   "outputs": [],
   "source": [
    "div_real_closure = Forall(\n",
    "    [a, b],\n",
    "    InSet(frac(a, b), Real),\n",
    "    domain=Real,\n",
    "    conditions=[NotEquals(b, zero)])"
   ]
  },
  {
   "cell_type": "code",
   "execution_count": null,
   "metadata": {},
   "outputs": [],
   "source": [
    "divide_real_pos_closure = Forall([a, b], InSet(frac(a, b), RealPos), domain=RealPos, conditions=[NotEquals(b, zero)])"
   ]
  },
  {
   "cell_type": "code",
   "execution_count": null,
   "metadata": {},
   "outputs": [],
   "source": [
    "divide_complex_closure = Forall([a, b], InSet(frac(a, b), Complex), domain=Complex, conditions=[NotEquals(b, zero)])"
   ]
  },
  {
   "cell_type": "code",
   "execution_count": null,
   "metadata": {},
   "outputs": [],
   "source": [
    "frac_not_eq_zero = Forall([a, b], NotEquals(frac(a,b), zero), domain=ComplexNonZero)"
   ]
  },
  {
   "cell_type": "code",
   "execution_count": null,
   "metadata": {},
   "outputs": [],
   "source": [
    "frac_zero_numer = Forall(\n",
    "        x, Equals(frac(zero, x), zero), domain=Complex,\n",
    "        conditions=[NotEquals(x, zero)])"
   ]
  },
  {
   "cell_type": "code",
   "execution_count": null,
   "metadata": {},
   "outputs": [],
   "source": [
    "frac_one_denom = Forall(x, Equals(frac(x, one), x), domain=Complex)"
   ]
  },
  {
   "cell_type": "markdown",
   "metadata": {},
   "source": [
    "### Theorems for the NumberRelation class"
   ]
  },
  {
   "cell_type": "code",
   "execution_count": null,
   "metadata": {},
   "outputs": [],
   "source": [
    "div_eq = Forall((a, x, y), Equals(frac(x, a), frac(y, a)), \n",
    "                conditions=[Equals(x, y), NotEquals(a, zero)], domain=Complex)"
   ]
  },
  {
   "cell_type": "code",
   "execution_count": null,
   "metadata": {},
   "outputs": [],
   "source": [
    "div_neq = Forall((a, x, y), NotEquals(frac(x, a), frac(y, a)), \n",
    "                 conditions=[NotEquals(x, y), NotEquals(a, zero)], domain=Complex)"
   ]
  },
  {
   "cell_type": "code",
   "execution_count": null,
   "metadata": {},
   "outputs": [],
   "source": [
    "strong_div_from_numer_bound__pos_denom = Forall((a, x, y), Less(frac(x, a), frac(y, a)), \n",
    "                               conditions=[Less(x, y), greater(a, zero)], domain=Real)"
   ]
  },
  {
   "cell_type": "code",
   "execution_count": null,
   "metadata": {},
   "outputs": [],
   "source": [
    "weak_div_from_numer_bound__pos_denom = Forall(\n",
    "    (a, x, y), LessEq(frac(x, a), frac(y, a)),\n",
    "    conditions=[LessEq(x, y), greater(a, zero)], domain=Real)"
   ]
  },
  {
   "cell_type": "code",
   "execution_count": null,
   "metadata": {},
   "outputs": [],
   "source": [
    "strong_div_from_numer_bound__neg_denom = Forall(\n",
    "    (a, x, y), greater(frac(x, a), frac(y, a)),\n",
    "    conditions=[Less(x, y), Less(a, zero)], domain=Real)"
   ]
  },
  {
   "cell_type": "code",
   "execution_count": null,
   "metadata": {},
   "outputs": [],
   "source": [
    "weak_div_from_numer_bound__neg_denom = Forall(\n",
    "    (a, x, y), greater_eq(frac(x, a), frac(y, a)),\n",
    "    conditions=[LessEq(x, y), Less(a, zero)], domain=Real)"
   ]
  },
  {
   "cell_type": "code",
   "execution_count": null,
   "metadata": {},
   "outputs": [],
   "source": [
    "strong_div_from_denom_bound__all_pos = Forall(\n",
    "    (a, x, y), greater(frac(a, x), frac(a, y)), \n",
    "    condition=Less(x, y), domain=RealPos)"
   ]
  },
  {
   "cell_type": "code",
   "execution_count": null,
   "metadata": {},
   "outputs": [],
   "source": [
    "weak_div_from_denom_bound__all_pos = Forall(\n",
    "    a, Forall((x, y), greater_eq(frac(a, x), frac(a, y)),\n",
    "              condition=LessEq(x, y), domain=RealPos),\n",
    "    domain=RealNonNeg)"
   ]
  },
  {
   "cell_type": "code",
   "execution_count": null,
   "metadata": {},
   "outputs": [],
   "source": [
    "strong_div_from_denom_bound__all_neg = Forall(\n",
    "    (a, x, y), Less(frac(a, x), frac(a, y)), \n",
    "    condition=Less(x, y), domain=RealNeg)"
   ]
  },
  {
   "cell_type": "code",
   "execution_count": null,
   "metadata": {},
   "outputs": [],
   "source": [
    "weak_div_from_denom_bound__all_neg = Forall(\n",
    "    a, Forall((x, y), LessEq(frac(a, x), frac(a, y)), \n",
    "              condition=LessEq(x, y), domain=RealNeg),\n",
    "    domain=RealNonPos)"
   ]
  },
  {
   "cell_type": "code",
   "execution_count": null,
   "metadata": {},
   "outputs": [],
   "source": [
    "strong_div_from_denom_bound__neg_over_pos = Forall(\n",
    "    a, Forall((x, y), Less(frac(a, x), frac(a, y)), \n",
    "              condition=Less(x, y), domain=RealPos), \n",
    "    domain=RealNeg)"
   ]
  },
  {
   "cell_type": "code",
   "execution_count": null,
   "metadata": {},
   "outputs": [],
   "source": [
    "weak_div_from_denom_bound__neg_over_pos = Forall(\n",
    "    a, Forall((x, y), LessEq(frac(a, x), frac(a, y)), \n",
    "              condition=LessEq(x, y), domain=RealPos), \n",
    "    domain=RealNonPos)"
   ]
  },
  {
   "cell_type": "code",
   "execution_count": null,
   "metadata": {},
   "outputs": [],
   "source": [
    "strong_div_from_denom_bound__pos_over_neg = Forall(\n",
    "    a, Forall((x, y), greater(frac(a, x), frac(a, y)), \n",
    "              condition=Less(x, y), domain=RealNeg), \n",
    "    domain=RealPos)"
   ]
  },
  {
   "cell_type": "code",
   "execution_count": null,
   "metadata": {},
   "outputs": [],
   "source": [
    "weak_div_from_denom_bound__pos_over_neg = Forall(\n",
    "    a, Forall((x, y), greater_eq(frac(a, x), frac(a, y)), \n",
    "              condition=LessEq(x, y), domain=RealNeg), \n",
    "    domain=RealNonNeg)"
   ]
  },
  {
   "cell_type": "code",
   "execution_count": null,
   "metadata": {},
   "outputs": [],
   "source": [
    "\"\"\"\n",
    "distribute_fraction_through_sum = Forall([x_multi, y], \n",
    "                                      Equals(frac(Add(x_etc), y),\n",
    "                                             Add(Etcetera(frac(x_multi, y)))), \n",
    "                                      domain=Complex, conditions=[NotEquals(y, zero)])\n",
    "\"\"\""
   ]
  },
  {
   "cell_type": "code",
   "execution_count": null,
   "metadata": {},
   "outputs": [],
   "source": [
    "\"\"\"\n",
    "distribute_fraction_through_subtract = Forall([x, y, z], \n",
    "                                          Equals(frac(Sub(x, y), z),\n",
    "                                                 Sub(frac(x, z), frac(y, z))), \n",
    "                                          domain=Complex, conditions=[NotEquals(z, zero)])\n",
    "\"\"\""
   ]
  },
  {
   "cell_type": "code",
   "execution_count": null,
   "metadata": {},
   "outputs": [],
   "source": [
    "\"\"\"\n",
    "distribute_fraction_through_summation = Forall([P, S],\n",
    "                                    Implies(Forall(y_multi, InSet(Py_etc, Complex), domain=S),\n",
    "                                            Forall(z,\n",
    "                                                   Equals(frac(Sum(y_multi, Py_etc, domain=S), z),\n",
    "                                                          Sum(y_multi, frac(Py_etc, z), domain=S)),\n",
    "                                                  domain=Complex)))\n",
    "\"\"\""
   ]
  },
  {
   "cell_type": "code",
   "execution_count": null,
   "metadata": {},
   "outputs": [],
   "source": [
    "\"\"\"\n",
    "frac_in_prod = Forall([w_multi, x, y, z_multi], Equals(Mult(w_etc, frac(x, y), z_etc),\n",
    "                                                   frac(Mult(w_etc, x, z_etc), y)), domain=Complex)\n",
    "\"\"\""
   ]
  },
  {
   "cell_type": "markdown",
   "metadata": {},
   "source": [
    "***We certainly should not be able to cancel when there is division by zero.  However, equivalences when both sides have zero in the denominator could be okay if we have axioms that allow us to treat division flexibly -- both sides are undefined.***"
   ]
  },
  {
   "cell_type": "code",
   "execution_count": null,
   "metadata": {},
   "outputs": [],
   "source": [
    "mult_frac_right = Forall([x, y, z], Equals(Mult(x, frac(y, z)),\n",
    "                                              frac(Mult(x, y), z)), \n",
    "                         domain=Complex, condition=NotEquals(z, zero))"
   ]
  },
  {
   "cell_type": "code",
   "execution_count": null,
   "metadata": {},
   "outputs": [],
   "source": [
    "mult_frac_left = Forall([x, y, z], Equals(Mult(frac(x, z), y),\n",
    "                                             frac(Mult(x, y), z)), \n",
    "                        domain=Complex, condition=NotEquals(z, zero))"
   ]
  },
  {
   "cell_type": "code",
   "execution_count": null,
   "metadata": {},
   "outputs": [],
   "source": [
    "prod_of_fracs = Forall((x, y), Forall((z, w), \n",
    "                                      Equals(Mult(frac(x, z), frac(y, w)),\n",
    "                                             frac(Mult(x, y), Mult(z, w))), \n",
    "                                      domain=ComplexNonZero),\n",
    "                       domain=Complex)"
   ]
  },
  {
   "cell_type": "code",
   "execution_count": null,
   "metadata": {},
   "outputs": [],
   "source": [
    "frac_cancel_left = Forall((x, z), Forall(y,\n",
    "                                         Equals(frac(Mult(x,y),Mult(x,z)),\n",
    "                                                frac(y,z)),\n",
    "                                         domain=Complex),\n",
    "                          domain=ComplexNonZero)"
   ]
  },
  {
   "cell_type": "code",
   "execution_count": null,
   "metadata": {},
   "outputs": [],
   "source": [
    "frac_cancel_denom_left = Forall([x,y],\n",
    "                             Equals(frac(Mult(x,y),x), y),\n",
    "                             domain=Complex, conditions=[NotEquals(x, zero)])"
   ]
  },
  {
   "cell_type": "code",
   "execution_count": null,
   "metadata": {},
   "outputs": [],
   "source": [
    "frac_cancel_numer_left = Forall([x,y],\n",
    "                             Equals(frac(x,Mult(x,y)),\n",
    "                                    frac(one,y)),\n",
    "                                domain=ComplexNonZero)"
   ]
  },
  {
   "cell_type": "code",
   "execution_count": null,
   "metadata": {},
   "outputs": [],
   "source": [
    "mult_frac_cancel_numer_left = Forall(\n",
    "    (a, d), Forall((b, c, e),\n",
    "                   Equals(Mult(frac(Mult(a, b), c), frac(d, Mult(b, e))),\n",
    "                          Mult(frac(a, c), frac(d, e))),\n",
    "                   domain=ComplexNonZero),\n",
    "    domain=Complex)"
   ]
  },
  {
   "cell_type": "code",
   "execution_count": null,
   "metadata": {},
   "outputs": [],
   "source": [
    "mult_frac_cancel_denom_left = Forall(\n",
    "    (a, d), Forall((b, c, e), Equals(Mult(frac(a, Mult(b, c)),\n",
    "                                          frac(Mult(c, d), e)),\n",
    "                                     Mult(frac(a, b), frac(d, e))),\n",
    "                   domain=ComplexNonZero), \n",
    "    domain=Complex)"
   ]
  },
  {
   "cell_type": "code",
   "execution_count": null,
   "metadata": {},
   "outputs": [],
   "source": [
    "# mult_frac_left_cancel = Forall([x,y],\n",
    "#                       Equals(Mult(frac(x,y),y),x),\n",
    "#                       domain = Complex, conditions = [NotEquals(y, zero)])"
   ]
  },
  {
   "cell_type": "code",
   "execution_count": null,
   "metadata": {},
   "outputs": [],
   "source": [
    "# mult_frac_left_partial_cancel = Forall(\n",
    "#     [x,y,z], Equals(Mult(frac(x,Mult(y, z)),z),frac(x, y)),\n",
    "#     domain = Complex, conditions = [NotEquals(y, zero), NotEquals(z, zero)])"
   ]
  },
  {
   "cell_type": "code",
   "execution_count": null,
   "metadata": {},
   "outputs": [],
   "source": [
    "# mult_frac_right_cancel = Forall([x,y],\n",
    "#                              Equals(Mult(x, frac(y, x)),y),\n",
    "#                              domain = Complex, conditions = [NotEquals(x, zero)])"
   ]
  },
  {
   "cell_type": "code",
   "execution_count": null,
   "metadata": {},
   "outputs": [],
   "source": [
    "# mult_frac_right_partical_cancel = Forall(\n",
    "#     [x,y, z], Equals(Mult(x, frac(y, Mult(x, z))),frac(y, z)),\n",
    "#     domain = Complex, conditions = [NotEquals(x, zero)])"
   ]
  },
  {
   "cell_type": "code",
   "execution_count": null,
   "metadata": {},
   "outputs": [],
   "source": [
    "frac_cancel_complete = Forall(x, Equals(frac(x, x), one), \n",
    "                            domain=Complex, conditions = [NotEquals(x, zero)])"
   ]
  },
  {
   "cell_type": "code",
   "execution_count": null,
   "metadata": {},
   "outputs": [],
   "source": [
    "reverse_fraction_of_subtractions = Forall(\n",
    "    [w, x, y, z], Equals(frac(subtract(w, x), subtract(y, z)),\n",
    "                         frac(subtract(x, w), subtract(z, y))), \n",
    "    domain=Complex, condition=NotEquals(y, z))"
   ]
  },
  {
   "cell_type": "code",
   "execution_count": null,
   "metadata": {},
   "outputs": [],
   "source": [
    "# frac_int_exp = Forall(n, Forall((a, b), \n",
    "#                               Equals(frac(Exp(a, n), Exp(b, n)),\n",
    "#                                      Exp(frac(a, b), n)),\n",
    "#                              conditions = [NotEquals(a, zero), NotEquals(b, zero)]),\n",
    "#                     domain=Integer)"
   ]
  },
  {
   "cell_type": "code",
   "execution_count": null,
   "metadata": {},
   "outputs": [],
   "source": [
    "# frac_nat_pos_exp = Forall(n, Forall((a, b), \n",
    "#                               Equals(frac(Exp(a, n), Exp(b, n)),\n",
    "#                                      Exp(frac(a, b), n)),\n",
    "#                              conditions = [NotEquals(b, zero)]),\n",
    "#                     domain=NaturalPos)"
   ]
  },
  {
   "cell_type": "code",
   "execution_count": null,
   "metadata": {},
   "outputs": [],
   "source": [
    "%end theorems"
   ]
  },
  {
   "cell_type": "code",
   "execution_count": null,
   "metadata": {},
   "outputs": [],
   "source": []
  }
 ],
 "metadata": {
  "kernelspec": {
   "display_name": "Python 3",
   "language": "python",
   "name": "python3"
  }
 },
 "nbformat": 4,
 "nbformat_minor": 0
}
