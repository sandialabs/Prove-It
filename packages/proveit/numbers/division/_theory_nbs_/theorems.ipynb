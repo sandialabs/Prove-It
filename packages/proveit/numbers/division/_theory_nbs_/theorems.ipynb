{
 "cells": [
  {
   "cell_type": "markdown",
   "metadata": {},
   "source": [
    "Theorems (or conjectures) for the theory of <a class=\"ProveItLink\" href=\"theory.ipynb\">proveit.numbers.division</a>\n",
    "========"
   ]
  },
  {
   "cell_type": "code",
   "execution_count": 1,
   "metadata": {},
   "outputs": [],
   "source": [
    "import proveit\n",
    "# Prepare this notebook for defining the theorems of a theory:\n",
    "%theorems_notebook # Keep this at the top following 'import proveit'.\n",
    "from proveit import ExprRange, IndexedVar\n",
    "from proveit.core_expr_types import x_j, x_1_to_n, w_1_to_m, z_1_to_n\n",
    "from proveit.logic import Forall, InSet, Equals, NotEquals, Implies\n",
    "from proveit.numbers import (ZeroSet, Integer, Natural, NaturalPos, Rational, RationalNonPos,\n",
    "                             RationalNonZero, RationalPos, RationalNonNeg, RationalNeg,\n",
    "                             Real, RealPos, RealNeg, RealNonPos, RealNonNeg, \n",
    "                             RealNonZero, Complex, ComplexNonZero)\n",
    "from proveit.numbers import Div, frac, Add, subtract, Sum, Mult, Neg, Exp, zero, one\n",
    "from proveit.numbers import Less, LessEq, greater, greater_eq, number_ordering\n",
    "from proveit import a, b, c, d, e, j, k, m, n, w, x, y, z, P, S, Py"
   ]
  },
  {
   "cell_type": "code",
   "execution_count": 2,
   "metadata": {},
   "outputs": [
    {
     "name": "stdout",
     "output_type": "stream",
     "text": [
      "Defining theorems for theory 'proveit.numbers.division'\n",
      "Subsequent end-of-cell assignments will define theorems\n",
      "'%end theorems' will finalize the definitions\n"
     ]
    }
   ],
   "source": [
    "%begin theorems"
   ]
  },
  {
   "cell_type": "code",
   "execution_count": 3,
   "metadata": {},
   "outputs": [
    {
     "data": {
      "text/html": [
       "<strong id=\"div_rational_closure\"><a class=\"ProveItLink\" href=\"proofs/div_rational_closure/thm_proof.ipynb\">div_rational_closure</a> (conjecture without proof):<br></strong> <a class=\"ProveItLink\" href=\"../__pv_it/theorems/e0f043310f6867102a6e9429a224575367539f3d0/theorem_expr.ipynb\"><img src=\"data:image/png;base64,iVBORw0KGgoAAAANSUhEUgAAAMAAAAAmCAMAAAClH2SqAAAAOVBMVEX///8AAAAAAAAAAAAAAAAA\n",
       "AAAAAAAAAAAAAAAAAAAAAAAAAAAAAAAAAAAAAAAAAAAAAAAAAAAAAAACXHtMAAAAEnRSTlMAq1Rm\n",
       "mUTNIjK7EInv3Xbt5cmRiLwgAAAACXBIWXMAAA7EAAAOxAGVKw4bAAADp0lEQVRYw81ZiZLrKAwE\n",
       "xCWEebv8/8cu2IDxETv2boWlamaSKXB0dKslwti4JcX7s047NnpJXl4YTsGEh6ftNNoD0OWF8oYx\n",
       "jE/tAT7WfuuLxc5DTsf0+AkohjqgqSIp5t8TPaeBHwki0SDjMRsT1b8g0YjVIu5ipi/EF88w0Yxj\n",
       "QEuAixnKXDPx3BqkYQ5wXK1IGRCTZPJFIfPDHIiwcpEHsoYHe89awrSk6TCUsrcSQcAPEfQCvYH7\n",
       "5KSZ+AqclDgmG/317yjxhrMENEdYSdXwJ5MY2ibo+EMK6OdJI1YOIYPad4QciNoV0Q+FzX9RwQNO\n",
       "aTVP0blyiGx1JalJAhUU6Otfcvi2/ikdNjrrkNkSdyGYtJVLOeo+ezp5GlOEPmjUvltOCFLlUPoL\n",
       "oorI3EfZJUUvm+KLsvdZQu/geigoKjSrUyZawZxl3PD6a88bjSelWHLePx0/7qe5vhEFOlbRWwcO\n",
       "PlOzOmUgqA0Wc/DprJlqFdcGjqjyY2guaOLUAcZ7U5eQ5IKh9nFQXesW19X32lNZuH5Oz4Ga3DgD\n",
       "QIQPFPaFK7KShkw23QGYUwd8r6ZLnuZ/7WXrNgPuWNLRmWMVKg6k97WyOoJApn1OCDz5GirirF06\n",
       "rsDCKYTK/iXKtKA9v/fiKYSO443qdaAdj6FIQCG9m0wn8yGNnUF24QC3uPLBgbJf5o4F/6QfKF3n\n",
       "BHsS31WhcByRZVVi3kGyPMhUYZEy46/ZBvPkqtqnVcMDozMHyv5lC3Rts9+Z4+LtCK+POaLaC8lj\n",
       "OeMFvF7lnqmHdJp6QM8hTSOouoZQ2d+DeIHQATH+tnd2HNW+DBsZtY7S9lhUu8jk+wFw5WRc4GvX\n",
       "cF+TuOzPEPrrb5whdE5itqm3Dv3ZRK8I+1aiBhrC6WBaI5MpoMAlMmfoOga40Tg7p4f6xrszpe7v\n",
       "OsQZzOqgMXI7ieivhxmeks+FrXGnvedKggiZKzYXDisXLhm0q5BNUnP7Qchk5V4n60nIpDu205t/\n",
       "xe/7SMFRe6wBxIumUBxGIVVQZDcl5KwJF3ccdRuTVXx7P3JRzZT7fKMJMqhLB+4bW+xBQ9NL+9XF\n",
       "YHdRqG0Ae5kBcX/HsxnHNU8C+GYaof9iBHg3h/YXWS4mGXVvpmQ/8HKxC544Fbtvpvxxtyqbxk/q\n",
       "74a0/1UCutv15ZZRxcfWBM2GLg29CsjHpdR4M9aB3PkuDtj6JcGz42O/HugGdw47XfhqIbDhy9jS\n",
       "eJJ8bI2rZfgf7GgdVx4fcjkAAAAASUVORK5CYII=\n",
       "\" style=\"display:inline;vertical-align:middle;\" /></a><br>"
      ],
      "text/plain": [
       "<IPython.core.display.HTML object>"
      ]
     },
     "metadata": {},
     "output_type": "display_data"
    }
   ],
   "source": [
    "div_rational_closure = Forall(\n",
    "    [a, b],\n",
    "    InSet(frac(a, b), Rational),\n",
    "    domain=Rational,\n",
    "    conditions=[NotEquals(b, zero)])"
   ]
  },
  {
   "cell_type": "code",
   "execution_count": 4,
   "metadata": {},
   "outputs": [
    {
     "data": {
      "text/html": [
       "<strong id=\"div_rational_nonzero_closure\"><a class=\"ProveItLink\" href=\"proofs/div_rational_nonzero_closure/thm_proof.ipynb\">div_rational_nonzero_closure</a> (conjecture without proof):<br></strong> <a class=\"ProveItLink\" href=\"../__pv_it/theorems/605162bc3d463917d40539d1e87e4f15cf34bbbe0/theorem_expr.ipynb\"><img src=\"data:image/png;base64,iVBORw0KGgoAAAANSUhEUgAAALoAAAAmCAMAAABEdHH7AAAARVBMVEX///8AAAAAAAAAAAAAAAAA\n",
       "AAAAAAAAAAAAAAAAAAAAAAAAAAAAAAAAAAAAAAAAAAAAAAAAAAAAAAAAAAAAAAAAAAAAAAAeYafp\n",
       "AAAAFnRSTlMAq1RmmUTNIjK7EInv3Xah18O17eXJ8+7nKwAAAAlwSFlzAAAOxAAADsQBlSsOGwAA\n",
       "A7pJREFUWMPNWIly5SgMBMQN1uzOwf9/6iAMvmM7Dk4NVUmcV88gmla3BGPvDil6z+i1Z98xJK8P\n",
       "hgc02GVOO3xH7KDrg4qGMZf6rAn8/chtrLH6CHQEQ6d5nXg9dB0abxL9HsJjfm/+jW9TRkwEiY4W\n",
       "TOrhRKG8GAKGbQq9NSaUfaIEhfRwHlMChTyHcvWTZN5l+gS6T0ROrpl4tCIvb0Wbf7WQXXg1dO7m\n",
       "vMqIiUEy+WQeFUagCYhYExTiq6EnmPOKY7CGo71OyODykCO4kp7dr/wD9QwHaIzJe5gJL6AzXx6w\n",
       "Aznxwgx8JgTCgn6xuVo+QiantNd9qf8kKwOEEqiSLSGZnzKTQk9N0WU2OztZtetMdf35gwqsvuSK\n",
       "oBBhfv9xhTDrNGVIwLRqJnS2qHitveiGPOYtOu/rS8HWTUzIMiRx5LNn5J1ApbjunaVX+qU0rk0x\n",
       "c8NWLgvBpB13M7MpoPRzJhHSkbY+xPCewBwbza54zXxR9aX8Fyg28VGx6cv0u+11GSZdEHCvCgrH\n",
       "eGkXOArex1QoBl181jyrCjydlUGBZq+NV6Hvdxsmgc6oY5Y+oS74SICHgy9Z7Q4cQ3I+x1nskU5+\n",
       "F4haFFtpHouCeKhjYborrp/TIJWliVCHJzMZg0XunCJcQlHfBiioUoJSwvhPou4PtNh5s1WYi9Dz\n",
       "t+AwHWI1binrQzAUjwcwLEgpf/wns6MZ6iAG+1nCDIfVyqzrF68nrJLest0HwGCm1RG5n6w4f2DH\n",
       "0g8ZznSpqJtdml4oDB6gJZubcuXuCZhp9uEHs6g9MPevKBdHC378PoWeUf//pyTUC1J6r15XTbQ+\n",
       "wDW0GkbeFTA+MYPyZ6IelMZYTfA1tHPgFFybPisM7OufeLW6507tUtHIpHWSlyWm3bZcUVHxtqR6\n",
       "bqVAl9oz97JqRZgLCVjJk3fxkNtuVQg0GOH61kNsbhc8ccWBr5+msba3s88u0nRUl7MrmHU3oG+3\n",
       "GTwjw4U9nz5skYhEdQV+tJpMdXAro7XlSMKtyh7WuKT71Z3gTkd3vobbWqiSIJCS3FInZeWoAsbZ\n",
       "2ZIGqbm9E4BfBatS30LjTL/ErutSlTP2Zjfl5NkBf22okxZM+Y8vQEHinRuVVeurefaIfh1BOPHa\n",
       "E2Qtwk3GqMVzNj3f7/Ykvnx1t4BGrJvirw589y5jUQONXfCNxulfAX1xRz3e4anUaUXU7PWhYanq\n",
       "spNAmmjeD53KuTF02y7Ze0z6/vX6onfmsNH5LwwH7FuGsbVKDLLTir5J7l/U0x6H141ZEgAAAABJ\n",
       "RU5ErkJggg==\n",
       "\" style=\"display:inline;vertical-align:middle;\" /></a><br>"
      ],
      "text/plain": [
       "<IPython.core.display.HTML object>"
      ]
     },
     "metadata": {},
     "output_type": "display_data"
    }
   ],
   "source": [
    "div_rational_nonzero_closure = Forall(\n",
    "    [a, b],\n",
    "    InSet(frac(a, b), RationalNonZero),\n",
    "    domain=RationalNonZero)"
   ]
  },
  {
   "cell_type": "code",
   "execution_count": 5,
   "metadata": {},
   "outputs": [
    {
     "data": {
      "text/html": [
       "<strong id=\"div_rational_pos_closure\"><a class=\"ProveItLink\" href=\"proofs/div_rational_pos_closure/thm_proof.ipynb\">div_rational_pos_closure</a> (conjecture without proof):<br></strong> <a class=\"ProveItLink\" href=\"../__pv_it/theorems/727b7ac303dd7f45448dc762cf6244d3d49e8fa90/theorem_expr.ipynb\"><img src=\"data:image/png;base64,iVBORw0KGgoAAAANSUhEUgAAAKsAAAAmBAMAAABJ6HYsAAAAMFBMVEX///8AAAAAAAAAAAAAAAAA\n",
       "AAAAAAAAAAAAAAAAAAAAAAAAAAAAAAAAAAAAAAAAAAAv3aB7AAAAD3RSTlMAq1RmmUTNIjK7EInv\n",
       "3XZ/CtNrAAAACXBIWXMAAA7EAAAOxAGVKw4bAAADZ0lEQVRIx5VWXUgUQRz/3+2dt7e73lkPURhx\n",
       "4UO9lJuBlA96pZVE6YU9ZA+50kPUQ50RESR50UOBkUYRbfRxPVSYhUdGElH0BaURVBxFxsH60FNh\n",
       "YaRgYP1n9m6/ct2bgRtndv7z8//xm98MAENbX4zRzTSwtUAZdh1Pjs1txY8ywlbjL/gKrnm4s4oN\n",
       "lR/B7o4MWz3swjEm2JIMds0AXzzshBEm2EoS/DAIv70M1zHBEi+FGeB+upvEad+VZEntNIGdAJ+y\n",
       "zNWmV09uhgHWR/dchRXxuAcs95QBNiqT/vq3k0tSzqV+Vd1kgQ1NABCKQ0URsD2uGYssToXeZ0xY\n",
       "yAJsIH/3FAFb57oyOAiwvRUCqjqsniMfNgIcJ173FgG7wLWWGQXLxGmmtz+Q5MhGsZhz8ey/2K/k\n",
       "PtLC38ZEiinFhK1MAYeVKCmmZH8c8+D+vDb08eioP9Zowvagm29zuTfFwP5yzA8XFKc7iJ4F5SoT\n",
       "dgA/4H+55IplEpuwxtaMMu/i0DleqzBOGUTR/Q4IlXmcRloYJ6xSGBz1U2+/WiiO3oTTYsLYu9dg\n",
       "+Pl5SRtskCpM9C9p1BSTl/tMS6bndrMFFrf5NUvFysmGMTURegRi1ZzeCgYpw7cMJlhgQak1P7zG\n",
       "XwMeTvEgCKuT9xuyDQm3JLwz4tB5ayEpyS3c20eCrh0ie2fG0hFy9k+hSmma1duQkwnjxqgeT9m2\n",
       "Vqd8dGIMwid+ijB8NBLvIws1shMWldZxWRjuiUQTrLLWRZZ8GHQgzhM1C8uc0kIWCKSWscLCS+fd\n",
       "smhnYXho8kCjTZUKmZMSEcIyKRUoq1ZVNbYjnwSLIOskES6bOX2oH15sC6ki2K8nei6S4RocR0GK\n",
       "ddO4aMls3m3Jxz6biPu0seUJc/q4MJCSPS3pfihNr0UeU5KB6BDhOt2F6KyytPTCsGzOzhoB1a8c\n",
       "hNMxvkmD0EV6HLLtjktgQMdrSzPLR6xwhWBAQyecr4q4PUD3FpyyT62OBCqaErbV/MXXPj7fC1ZU\n",
       "7BttszNrHISioiBMpge8ngES02vpAen80yBpHobfmV41EqlhQKGyN2d7zgTLkZSVZqDNI8aIwvYS\n",
       "3a3TttmDYp1JNti7aB9NCS883qEfGF/jIVRQnxyOe7yaZUZYOIK+lNd7GN0g3T/I8tOJHzZCJwAA\n",
       "AABJRU5ErkJggg==\n",
       "\" style=\"display:inline;vertical-align:middle;\" /></a><br>"
      ],
      "text/plain": [
       "<IPython.core.display.HTML object>"
      ]
     },
     "metadata": {},
     "output_type": "display_data"
    }
   ],
   "source": [
    "div_rational_pos_closure = Forall(\n",
    "    [a, b],\n",
    "    InSet(frac(a, b), RationalPos),\n",
    "    domain=RationalPos)"
   ]
  },
  {
   "cell_type": "code",
   "execution_count": 6,
   "metadata": {},
   "outputs": [
    {
     "data": {
      "text/html": [
       "<strong id=\"div_rational_pos_from_double_neg\"><a class=\"ProveItLink\" href=\"proofs/div_rational_pos_from_double_neg/thm_proof.ipynb\">div_rational_pos_from_double_neg</a> (conjecture without proof):<br></strong> <a class=\"ProveItLink\" href=\"../__pv_it/theorems/bf32c38ab012f3015f601e21ec67847c694789be0/theorem_expr.ipynb\"><img src=\"data:image/png;base64,iVBORw0KGgoAAAANSUhEUgAAAKwAAAAmBAMAAACrNG1VAAAAMFBMVEX///8AAAAAAAAAAAAAAAAA\n",
       "AAAAAAAAAAAAAAAAAAAAAAAAAAAAAAAAAAAAAAAAAAAv3aB7AAAAD3RSTlMAq1RmmUTNIjK7EInv\n",
       "3XZ/CtNrAAAACXBIWXMAAA7EAAAOxAGVKw4bAAADV0lEQVRIx5VXXWjTUBQ+a9MkS9ps/sIYjOAe\n",
       "fNMwYeiUWrETfZmFgggKqyKK04dWxCdlFRGE1a24CWYqdI+jk84f3MSXoQ8OZOLDYDAppC/+PY06\n",
       "cUyY3nvTpEm6NrkXcpI0J1/Oz3fOuQWgWIzsQUkYAMp1BB1c+zetsdb9HB2qP4HE2WTzuotaKx1s\n",
       "BpkhvAfms4veAzrYKzi8KxCadtGbooqCDzsfzEIh5pZZqigQKwsaHG4ASCT3hwZ2BPtWkGGnL1lP\n",
       "pVk/PaaBbSMvar5FBlxgD9HA/iJk75hNfa+pgDfqWNICOygDCW+nB1S+fsRK83Cr3QIbikAvPl/y\n",
       "Ugwr9Z6IBxUI9GbhhPpEVRWcuQTcxqnLeoBtStR7MsQikQ1XrZVWgEX5Fb20kGANG38Ui+RT4xNI\n",
       "zLJVWN8a+JHVrJeMtTiL69TPSsKyw0juYtImLF8GWCgWP3qCVez3nNEA+ek4knG/bMIKiDTHkRde\n",
       "YAcdkWKNoghoXUgO+xSjygA2AFLAearhESesafY05mdcsrSKv8jwnGj+wF82rvJjWxwl2k+0/uFF\n",
       "qJYpokUoVImtpW+torRploxhUvMlNca9BbGrsbWT5tV4ymCCBRYS4er9PDqiKKXiNRD2Ja9Ho9FY\n",
       "PdiQeXWG8NZqBYotvMApzYdnsKEbpZyEM35vN4Bmn1mDDiZI5mMGV9mOrKN93EQZE5ZIyUvLUoQ4\n",
       "16PUwBack/G8efUc9YTtVu6VcVUip5kIP4erRPEnMAkJpGbnfzDigJ14aCSJO3lxNW3tSr+Nd2IS\n",
       "ZlkwzbR2q6oqn64NAqt7OblQjenTYqVPNKXDNeOJeJhs7kHfboGgPESaEkmZfaDM6ecLm5G6Q9p6\n",
       "19LSjNkcTI7Ec3kI5Q4gHhOSgehowv6KCeVNx2fb1VHLkDDqK3B0z0vIyHyfBtwjUg6L59KOEaDj\n",
       "Bdap24fOzLyqIrLO3HEqj9kdbLD6beELWLcNTGefYz+gDz62o+TanV/bo2e7G97vUNa3HYUBwXUb\n",
       "8I5m8oqETXtz8MlFUZqj2oPhhgHHSNtrPJ5kKthuLL5AoOyi95Vux8gqhLaMC8W4D3SwwhISazCl\n",
       "NFZ7RhcDgBuIgdsq/K2/Rmn/O3Co8CZeuRgrYB7+B3zwzo+d5V/0AAAAAElFTkSuQmCC\n",
       "\" style=\"display:inline;vertical-align:middle;\" /></a><br>"
      ],
      "text/plain": [
       "<IPython.core.display.HTML object>"
      ]
     },
     "metadata": {},
     "output_type": "display_data"
    }
   ],
   "source": [
    "div_rational_pos_from_double_neg = Forall(\n",
    "    [a, b],\n",
    "    InSet(frac(a, b), RationalPos),\n",
    "    domain=RationalNeg)"
   ]
  },
  {
   "cell_type": "code",
   "execution_count": 7,
   "metadata": {},
   "outputs": [
    {
     "data": {
      "text/html": [
       "<strong id=\"div_rational_neg_from_neg_denom\"><a class=\"ProveItLink\" href=\"proofs/div_rational_neg_from_neg_denom/thm_proof.ipynb\">div_rational_neg_from_neg_denom</a> (conjecture without proof):<br></strong> <a class=\"ProveItLink\" href=\"../__pv_it/theorems/eb604946efc083d470ff949d138642e62202c1be0/theorem_expr.ipynb\"><img src=\"data:image/png;base64,iVBORw0KGgoAAAANSUhEUgAAAM4AAAAmBAMAAAB+JrkYAAAAMFBMVEX///8AAAAAAAAAAAAAAAAA\n",
       "AAAAAAAAAAAAAAAAAAAAAAAAAAAAAAAAAAAAAAAAAAAv3aB7AAAAD3RSTlMAq1RmmUTNIjK7EInv\n",
       "3XZ/CtNrAAAACXBIWXMAAA7EAAAOxAGVKw4bAAADeUlEQVRIx6VXTWgTQRR+TTbZZJOu9RdKoSz2\n",
       "4E1DhaJVasRUPNVAQASFRhHF6iEV8aQ0IoLS2gZbwVSE7bGkkqjFVrwUPViQiodCQQlsLv6dQqxY\n",
       "KlRnJrub2c0mo5kHmd28fdlv5r3vfTMB4DFB+YcgaQB47TD6iG1ftPpR91ROGHccDacT/nVGWAsn\n",
       "zgiaqPQGhA+MuPucOJdwiYrQnGPEzfAlzoXzFUxBNsqiC1/iyDqyGhxiBYq/uHDGcDqyCuxwJRiR\n",
       "j7hwWvHg11zLAivyIBfOD9KF7fODX6ta82V6gl7jkAKkRB2NwPhqZ72wCDfa6EqGoRdfLzTUpcVa\n",
       "TwIHQuDpTcHdNDK8LiEONzEfUo3gNMVrPRn2oiHVU3HIRfAi0gSURnCCVV3xLZ8n2JNTaJj3Up22\n",
       "Bu4QgLchGmyyy8CJ7zoLUqNo3CkkK6UsASzl8+8awwnZutHQf18uhsaYu5IlCVHzGFqnw1tyTJwh\n",
       "W7a9BpM9WicaR13UPDYABkF0kp8wWw7sOObCcrhPYjIle79RQ6sBiw5mJjYnTBzfRZubsn7ysz/Y\n",
       "CMNH8sgIc/X6UCq9irigmRPxFdJR8RUEOivrabO566xn2rybHLTxDeNA3CR6BDEkcAWkvYnZyHKE\n",
       "THfR4r4aiUSitXCazbtTpH/oaaH6wDPMk0zPHMi4cHd2AWiambeNgmpx0zyw8U02HwtYD7anbFJ4\n",
       "HdFAWkFqRRbeHaJx5I9y2OKmLGs/fpw1754ifdtGU76E9QOlRQj7FgCznrxMyxk4/pA7bnHTemCn\n",
       "5NQDo/Li8fOrSVpyfxq/icot0IVUTzmpJ6j8zmBSaLG4aR6XEzO9VKnL47yueU3JnqodnuQg4e9W\n",
       "h4nWkoKbPQ9BxcFdrsJC+XrOqbna5S23KQE3TkTBxFhM9auExBAwtqMMNKv7ocpt7Av6JEuOZ5TW\n",
       "y+OVb35DCTxHdj8H8SF5+fIZI7Ujiq9Pq3YbolUG8Kz/txRm0mnUHXO3TIfi7NZtwpqTOtbvdFAR\n",
       "Ovr0XvSojm7r6cLbXmBuXy8cvaP7jAo4u80GIrjZAYl5PHvNdd4JEBLvUeE9I1Be4DtfY/GDo0T1\n",
       "6+/wCh9OFx4+gafEiPvM+X/BGyLtIzCYLb7lxJFW0LAGM6H6YU840wZwDRF/q95HtW2c+/+piCRi\n",
       "apaxHAnT/y900PNk1uWGWwAAAABJRU5ErkJggg==\n",
       "\" style=\"display:inline;vertical-align:middle;\" /></a><br>"
      ],
      "text/plain": [
       "<IPython.core.display.HTML object>"
      ]
     },
     "metadata": {},
     "output_type": "display_data"
    }
   ],
   "source": [
    "div_rational_neg_from_neg_denom = Forall(\n",
    "    [a, b],\n",
    "    InSet(frac(a, b), RationalNeg),\n",
    "    domains=(RationalPos, RationalNeg))"
   ]
  },
  {
   "cell_type": "code",
   "execution_count": 8,
   "metadata": {},
   "outputs": [
    {
     "data": {
      "text/html": [
       "<strong id=\"div_rational_neg_from_neg_numer\"><a class=\"ProveItLink\" href=\"proofs/div_rational_neg_from_neg_numer/thm_proof.ipynb\">div_rational_neg_from_neg_numer</a> (conjecture without proof):<br></strong> <a class=\"ProveItLink\" href=\"../__pv_it/theorems/11d9c93815deafff9e07036bb7f6cca96bb028380/theorem_expr.ipynb\"><img src=\"data:image/png;base64,iVBORw0KGgoAAAANSUhEUgAAAM4AAAAmBAMAAAB+JrkYAAAAMFBMVEX///8AAAAAAAAAAAAAAAAA\n",
       "AAAAAAAAAAAAAAAAAAAAAAAAAAAAAAAAAAAAAAAAAAAv3aB7AAAAD3RSTlMAq1RmmUTNIjK7EInv\n",
       "3XZ/CtNrAAAACXBIWXMAAA7EAAAOxAGVKw4bAAADeUlEQVRIx6VXTWgTQRR+TTa7ySZd6y+UQlns\n",
       "wZuGCkWr1IipeKqBgAgKjSKK1UMq4klpRASltQ22gqkI22NJJVGLrXgperAgFQ+FghLYXPw7lVix\n",
       "VKjOTPZndrPJtpmBvGzevt1v5r3vfTMBYBmcvIEgsQ9Yx1H0EVq+qbWjHiiMMN4EMmeTgTWXsCZG\n",
       "nCE0UfEdcJ9c4h4y4lzBJVqGxrxL3BRb4jw4X6E05GJudGFLHFlHToUjboHCHyacEZyOnAy7PEmX\n",
       "yCdMOM3YBFTPIucWeZgJ5xfpwtbZ/u8Vrfk6M0avcUAGUqK2emD81bNenIdbLXQlI9CNvy/V1aXL\n",
       "1e4ED4XB152G+xk08Lq4BNzGfEjXg9OQqHZnkEcm3WU6pGXgEWmCcj04oYqu+FEoEOzxCWRmearT\n",
       "VsEbBuDrosEWuwyc+qmxID2M7G4uZZayBLBQKHyoDyds60Zd//35OLJxr5klEVHzBFrnxl+et5DV\n",
       "MnidyT61HdlhDzWPdYB+EDYhPxFKDuw4xsLyuE/iEiV7f1FDK0GLDmbHtpot5r9sc1M4veSxf3gQ\n",
       "hg8V0CDM1epDqfQK4oJqTMRfzMSENxBsNwNabO4a65k0rsb7bXzDOJAwiB5FDAleA3F/8no0GiXT\n",
       "nbe4p6OL0Vg1nEbj6gzpH2q2uD7wAvMk2zUDEi7cvT0AqrHh+9eLisVNrWfAxjfJeIrDerAzbZPC\n",
       "m4gG4hJSK7LwzjCNI32WIhY3hZOzHz/OG1fPkb7toClfwvqB0sJF/HOAWU9ephrsDYS9CYubwglF\n",
       "bDgTj/TKCycvrqRoyf2tPxOTmqADqZ582pK3UIprsrip/uHLiZlcMOvytKBpXkOqq2KHJzlIBjqV\n",
       "QaK1pOBGz0NIdnCXqzBX/r7g1Get0ra7lIDrJ6JQciSuBBRCYgjq21EWGpWDUOHW9wVtkiXHM0rz\n",
       "1VHzV0BXAt+xvS9BeExevnhOT+2Q7O9RK926aJUBfGublsJsJoO6Y+aO4ZCd3doYs+akxuh1Oqhw\n",
       "bT1aL/oUR7f1dMG3Fl23r1eO3uEDegWc3UYDEdxcn+h6PHvLdN4JEhLvU+CjS6A0x3a+xuIHx4nq\n",
       "197hZTacDmy+gK/kEveV8f8CHybtw7kwW3jPiCMuIbMKU+HaYc8Y0wZwAxF/u9ZH1cco8/9TAUnE\n",
       "xLTLckRM//8gAPNknpnP0gAAAABJRU5ErkJggg==\n",
       "\" style=\"display:inline;vertical-align:middle;\" /></a><br>"
      ],
      "text/plain": [
       "<IPython.core.display.HTML object>"
      ]
     },
     "metadata": {},
     "output_type": "display_data"
    }
   ],
   "source": [
    "div_rational_neg_from_neg_numer = Forall(\n",
    "    [a, b],\n",
    "    InSet(frac(a, b), RationalNeg),\n",
    "    domains=(RationalNeg, RationalPos))"
   ]
  },
  {
   "cell_type": "code",
   "execution_count": 9,
   "metadata": {},
   "outputs": [
    {
     "data": {
      "text/html": [
       "<strong id=\"div_rational_nonneg_closure\"><a class=\"ProveItLink\" href=\"proofs/div_rational_nonneg_closure/thm_proof.ipynb\">div_rational_nonneg_closure</a> (conjecture without proof):<br></strong> <a class=\"ProveItLink\" href=\"../__pv_it/theorems/0517a0c496c4f6d431dc35fd048bc774f5534bd80/theorem_expr.ipynb\"><img src=\"data:image/png;base64,iVBORw0KGgoAAAANSUhEUgAAAN4AAAAmBAMAAABZiDjwAAAAMFBMVEX///8AAAAAAAAAAAAAAAAA\n",
       "AAAAAAAAAAAAAAAAAAAAAAAAAAAAAAAAAAAAAAAAAAAv3aB7AAAAD3RSTlMAq1RmmUTNIjK7EInv\n",
       "3XZ/CtNrAAAACXBIWXMAAA7EAAAOxAGVKw4bAAAD70lEQVRYw61XXWjTUBQ+W9omTdp0Ex8URSI+\n",
       "6ItSFKYOGR2rOAZqhyIOwVVfRH2wyvBlzkUUFDadqFPrbwaC6KYrThxOHEMfNhFBYTBQCpmgosIY\n",
       "U6dMmJ5709Q0TSQ0vdCb23tu7nfvOd/5CYDb5pEcLuT3QTFaNf4ODh51sPK0UgQ4Jg7gHYabDvZi\n",
       "yoqA145APWHY6GTtuSLg7cffZoB3Ttb2uFdo6Qx2L4D/YSPnOulDGEwRarlXaBD34WeBmbRb0E2V\n",
       "WAUN2LM/XeN1oIr4KSiJL7VbIZ7HbgRCCXxcdY03n3Q3YHkkYk/LG8DOQIC46TrXeN9I1/X15CI5\n",
       "T5HJ5IYM4DA3A8EwjloloCZcUigcZ2sRcaHMvknRuPI4hngBlVg7AuvJ1J6Cvd2WJ319AFspSapl\n",
       "os8Q0acnDsfI1NlC8UridhdPocTPqMCWy//4Ik6CDwkmSIXiBfI86nM6Tc7gv4sSQY7zcwkOTEA9\n",
       "9dZfwKAdfQXTJZQyTWz7oj3vcGivUqmWVzL+XkdvPQXwKp1+WTheOPc/q+ecNi9KvOGVppSEdK4F\n",
       "uFIwXqvJEr5EZrCTQQmnmok/i7kL2PywdmuAHPb9J0sQgw47zHj6oLmU3u8Dl8R2KSv/jZZVhFiO\n",
       "n14ox0M2o6/6FPo6tzdXBIZQ0kheDf0hTctOaWyE7X7NfnWmo37HSTV7KG48GWOfgEC0fn899ECA\n",
       "WnuBSRSxv98dfeC/rfEzHw/iVfq/KLqKcAj4VeQWLbEWCNIoNWIS/QcvqA+8mv9J+faDB4RT3VX9\n",
       "IBKyncJAr6IuTgyQ+xFgbnZcMYgeRkejWQO0mvgpqvqoBuNLfYNVuD2CN+fHMBJSZVSGKV49dUuq\n",
       "afGtGDGKjPfrVU0b7tYHAomf5qTBTpGYhKryRLgh2EKmyIZqqkui/FxNTRFm4gZRDl7AvGNXp14z\n",
       "NE0fqM2LcnoZEIiJZVCB1JW2Z/Rp2FP2lOWIDBg+Gnn5a6+zMzuupzMkmceoltUH1UvCX6m0UT1Q\n",
       "UjRFo1kjhTBXGkQ5/ucZ0mCtsm2JOr4sljsl6OcKJDq2KH6FEh8EY1TohqCyFixFJB9pBw5ZBvzF\n",
       "F1+Y6OTXI4u3ZkUfsJcpwOguY65ul7hNqrUIaOlC3V4pKNxiCYAK6D+eMynZi7BdoP1Th+G2MWH1\n",
       "AbJkk0HtXsVWBNkKaNfEHEd4jyxnz6wxWsheRIlG8PlppTfhBO+Z6/pMiGs0D6gOFotD7r8fRrQy\n",
       "KC/RW1Yfknu8Cq2ob3Sy1ccifB/5wtT9NjvwCHa4CHj8GOLJ/HMHS+8VQZ0AhxUoCfsjDlaeL8r3\n",
       "OysDv6DGiSaI6/wFolQSx2b9o28AAAAASUVORK5CYII=\n",
       "\" style=\"display:inline;vertical-align:middle;\" /></a><br>"
      ],
      "text/plain": [
       "<IPython.core.display.HTML object>"
      ]
     },
     "metadata": {},
     "output_type": "display_data"
    }
   ],
   "source": [
    "div_rational_nonneg_closure = Forall(\n",
    "    [a, b],\n",
    "    InSet(frac(a, b), RationalNonNeg),\n",
    "    domains=(RationalNonNeg, RationalPos))"
   ]
  },
  {
   "cell_type": "code",
   "execution_count": 10,
   "metadata": {},
   "outputs": [
    {
     "data": {
      "text/html": [
       "<strong id=\"div_rational_nonneg_from_double_neg\"><a class=\"ProveItLink\" href=\"proofs/div_rational_nonneg_from_double_neg/thm_proof.ipynb\">div_rational_nonneg_from_double_neg</a> (conjecture without proof):<br></strong> <a class=\"ProveItLink\" href=\"../__pv_it/theorems/95f5f9d9a48a425a1b0107d8fcf1916fe3a5dbfe0/theorem_expr.ipynb\"><img src=\"data:image/png;base64,iVBORw0KGgoAAAANSUhEUgAAAN4AAAAmBAMAAABZiDjwAAAAMFBMVEX///8AAAAAAAAAAAAAAAAA\n",
       "AAAAAAAAAAAAAAAAAAAAAAAAAAAAAAAAAAAAAAAAAAAv3aB7AAAAD3RSTlMAq1RmmUTNIjK7EInv\n",
       "3XZ/CtNrAAAACXBIWXMAAA7EAAAOxAGVKw4bAAAELUlEQVRYw61Xa2gTSxQ+TXazyaZd6/O2VyhR\n",
       "f/hP0yr1SW+rrQoXNFC4iApWEcXHj1REFC2NTxQ1DbYF40VI8Ze2l8QHt0oRSv1hQRRBQVACW61v\n",
       "lFIVRUE9Zza7JtNNs2QzkMnsztk9M9/5zjdnAew2wWfRUN4BhWh1+JOmv1JzW56JFcCdswm7DUHP\n",
       "NwumpQXwdxoXLd8G4YEF27MF8LeTQjgCJQkLtj32AXUQjsURiAeyGJzUJvre0brsA8r2FVfhr6ys\n",
       "vEn8dapiBGn1xba/NoIo7oNpjmA2kzd+RCAE5Otf2/7KqfOojkdCdptFKrTGYABHS237+8gwq7jR\n",
       "/HoskNGO1J6XBhGGhzho9QEL4ax83bmzR2RoEFqms1F3J8F+n6JdCw10Z1ve2T6Sbca7xA9iA5IE\n",
       "9pQB4TlKBG2CQyRHkXz9FTVlmznlwi5SA9BcBgZflBFwIcG8vnz9FY/JqDfJJFvD+S7sbrigayVd\n",
       "KapIlo6v4ES2uvKmywReVv55m2JLJIz9TCF0WbvuG6bEcSOo95LJu/n782deS/qZ4040Yt/ozERO\n",
       "Rjqvwr2bvsuK2LVykXDpWS+qVdiHHdx6fmA8QTKVtcqQ9OxVTnnh/RkbTVCONSqBk1FshvZ8R3GI\n",
       "eTO0trtjIk7L10NIJfb48YiRwXV/cP42skd/UmOZcTqJjdmn4seB9Ak5oxqLcg9FA1IfeKtA+ht9\n",
       "9kAxmRcRJ8LlnXAgAdd84+/vkjE636zxc4w/aKrRr+pDmBu7QZ4XbKF1t0BJSMsdEDDK0OuDiwvG\n",
       "91dijNaz/KuCMfGDq8Sp7ppeUCi4J2YDqCpUBtj+CPi2D3/Cc9r94SAoilRfX9/wmy8cHxSjjBFI\n",
       "X6ZGTOT2INJFfoxKyMBY7Gf+YIYfg8/geB8bluk550V8n5L5fJwvkzYboyuon1O4WYlErYjwqnX3\n",
       "A2UM86VSxI4GpGcMvXaoFmkb5EvxcvpSy72xq1NniLRm66cQL++f9ecCSilUI3N9azU809og1Dm3\n",
       "R6NnRYYnx38NsEv3fsftQjKlqUWhGtPqg+ES9CyOnWK6zviyB6OkZ8kIDLiZbJnwRejX/reYJWeF\n",
       "MukYd2joVVxxsK0x5mESNwTetONQTsATZ0RToHApXOX44UwteNS0lirf1Z55x6Mri7h8zjWQzrF8\n",
       "f7QpDXb3ABz9ALCfbsm3VpTxh7jmSPyWl9x2R6MIYu+RjEXqxUEnwrHPz7+hIxOnHG2jWVElzFqd\n",
       "JnDr0qeWzX/BGWsVkKtiyNIR+r/p3fDCtIuMHbmf8wzX6tz4DtlSaTlguz7zMvLP1cqhXE3pt//9\n",
       "MEjdCnbS5K4+fPb9VVP3FMRRC7YvC/B95PKz9BMsZIR0pwD+5MfYfYUef27T/woAJ8BeVKXJqTwc\n",
       "v7UX5PtdwhTpum5hezKlzi8MjxQbY0ZvHgAAAABJRU5ErkJggg==\n",
       "\" style=\"display:inline;vertical-align:middle;\" /></a><br>"
      ],
      "text/plain": [
       "<IPython.core.display.HTML object>"
      ]
     },
     "metadata": {},
     "output_type": "display_data"
    }
   ],
   "source": [
    "div_rational_nonneg_from_double_neg = Forall(\n",
    "    [a, b],\n",
    "    InSet(frac(a, b), RationalNonNeg),\n",
    "    domains=(RationalNonPos, RationalNeg))"
   ]
  },
  {
   "cell_type": "code",
   "execution_count": 11,
   "metadata": {},
   "outputs": [
    {
     "data": {
      "text/html": [
       "<strong id=\"div_rational_nonpos_from_neg_denom\"><a class=\"ProveItLink\" href=\"proofs/div_rational_nonpos_from_neg_denom/thm_proof.ipynb\">div_rational_nonpos_from_neg_denom</a> (conjecture without proof):<br></strong> <a class=\"ProveItLink\" href=\"../__pv_it/theorems/c246699f14f712411abb14bd55e06d0e651d4a9f0/theorem_expr.ipynb\"><img src=\"data:image/png;base64,iVBORw0KGgoAAAANSUhEUgAAAN4AAAAmBAMAAABZiDjwAAAAMFBMVEX///8AAAAAAAAAAAAAAAAA\n",
       "AAAAAAAAAAAAAAAAAAAAAAAAAAAAAAAAAAAAAAAAAAAv3aB7AAAAD3RSTlMAq1RmmUTNIjK7EInv\n",
       "3XZ/CtNrAAAACXBIWXMAAA7EAAAOxAGVKw4bAAAEL0lEQVRYw61Xa2gUVxQ+2Z3Z2Z1NxvhuDIRB\n",
       "f0j/1EUlrVpi0ibRX7oSkNIKSYsoPn5sikiLBqNVUYybxSTQTRAm6B9JdNcHxhqEkP4wICmFCoKy\n",
       "MPH9oLJES8VC9Zy7O5Odm30MO3th787MPXe+e7/znXPPADhtgmrTUN4NpWgN+JOqn+mFLU9rJYBz\n",
       "t2G3LeR7b8O0sgR4Xbho+XcQ/rRhe6YEeHvIhUmoiNuwHXZOqIt4LI9ALJjH6NMQjL6idTknlO0r\n",
       "psP6fHA6uHUxgrL61zFeN1EUU2GRK5TLZE0AGegEwhpwjFdFnU933RVyWbyg+DykwTj+fekY7w2L\n",
       "5Job7c9nhfdv0V7cc5eapuEvglWBuXBZsXDe3B6ZmoCOahTUgJbC+4O8XQ9NNLaz6GhP5hrxrwuA\n",
       "2IQiEQkQ+ZwmgbbBYUpHkWLxytpyjZzyYBepIw4WhAy9KEnwILpfLRavfFZEvUgk2Br6B7G7QaAg\n",
       "zdUUXSRL1ztwo1o9RctlDp9Wtr5MqyUSxn6p0MkAAUYfkxu9SOpkInGneLyA9V4yzhxvvAX7FreV\n",
       "ORnlvBH3XjTeIc4THiPqRX0l9mEXt57/AdpBmp3Wzt+kxT58VjC98HjmRuMUYy1K8GQUm5l7/sPk\n",
       "oPktuXaody4OH9iAkzU2/XjEjOCGxRxeK5v6gRqLjK4ENmaf9h93IrxFzejmorxT0aA0Cn6i4lIT\n",
       "DEM5mZeRJsJVfXAgDlfV/Pu7YF71t5v6tOJBW51x14hq8v8I8iraf0ewAypIXhg7IKCXYUSFc5/n\n",
       "x6swr75j8bcSZvkPrpCmhupGQCHnnlgOoGMxcvQm7Y+Au18vgUe0+yMhUBSpsbGxaUYvnB4Us4wR\n",
       "KL8sjGRJtwdRLvI9zISMjLUBhreFhSWj42/tsUzz3OfwfYp1fowvk34wry5j/lzAjUqU1MqIr3rv\n",
       "GFDEsL3p8UGV6ZOx1wO1Im2DsBQ/l1/quTcO9hkKkTbveNvJp/d/jHlBpRJqUbnqN2k+Z9oENLh3\n",
       "RaNnRMYnp/8UYRcmZ/x2NpHOqWWddVmrD8ZLyLdWO8XyOtPLPvSSESVJGPeytJVFL8JY6n97tuCs\n",
       "UeYd4w4No4orD3W3aD6W4qbAn3EcynG4746kMlC4Eq5w+nCnFzydtZaq2ttjfeIzMov49WdXQfqV\n",
       "xfvd7zNo947D0dcAP9Mj+VbzJ/whngIS3xeVboeiUSRx5BfLIo3ioA/p+CnAv6HXylOB1pqtqBKW\n",
       "bcpIcN9mDn21+glnnKqAPDVTto7Q61mfhr/IuLHsyPuIV3iqzo3tlm2VluOO6zM/E/+KVDlUqClj\n",
       "zr8fJqhrZidN4epDdY5XS90DEKdt2D4twfeRJ8DCT7AREdLtEuDJ97B7B8OBwqYXS0AnwH7MSvPT\n",
       "cZi/9ZTk+13CEBm8ZmN7MoXORxxBE75C3Vc6AAAAAElFTkSuQmCC\n",
       "\" style=\"display:inline;vertical-align:middle;\" /></a><br>"
      ],
      "text/plain": [
       "<IPython.core.display.HTML object>"
      ]
     },
     "metadata": {},
     "output_type": "display_data"
    }
   ],
   "source": [
    "div_rational_nonpos_from_neg_denom = Forall(\n",
    "    [a, b],\n",
    "    InSet(frac(a, b), RationalNonPos),\n",
    "    domains=(RationalNonNeg, RationalNeg))"
   ]
  },
  {
   "cell_type": "code",
   "execution_count": 12,
   "metadata": {},
   "outputs": [
    {
     "data": {
      "text/html": [
       "<strong id=\"div_rational_nonpos_from_nonpos_numer\"><a class=\"ProveItLink\" href=\"proofs/div_rational_nonpos_from_nonpos_numer/thm_proof.ipynb\">div_rational_nonpos_from_nonpos_numer</a> (conjecture without proof):<br></strong> <a class=\"ProveItLink\" href=\"../__pv_it/theorems/692a79b1866536e922b1ec3fc14a91f4b82aaf190/theorem_expr.ipynb\"><img src=\"data:image/png;base64,iVBORw0KGgoAAAANSUhEUgAAAN4AAAAmBAMAAABZiDjwAAAAMFBMVEX///8AAAAAAAAAAAAAAAAA\n",
       "AAAAAAAAAAAAAAAAAAAAAAAAAAAAAAAAAAAAAAAAAAAv3aB7AAAAD3RSTlMAq1RmmUTNIjK7EInv\n",
       "3XZ/CtNrAAAACXBIWXMAAA7EAAAOxAGVKw4bAAAD8klEQVRYw61XW2jUQBS9233ktZutfvlCIv1Q\n",
       "P5RUoWqRstKViqJuqYhFsFt/RP0wivijtSsKCj4qWh/1Gb+kttJii4WKUvTDiggKhYKykAoqKkip\n",
       "TypU70zMmqRJCZsM7GQyd3bOzLnn3pkA+C0RyeNAfhcEUVbhb++jwx5GnlYDgAtnAaJP4aaHucKl\n",
       "AeCdQqBOGdZ7GXsuALzd+NsI8MbL2E7/hJaMY/UM+O9TjbkEwqNuIi3/hCZwHn4CwqNTwN0AqIJ6\n",
       "bDE/feO1IEX8GISy811Vch6rQUgq+LjqG28mqW7AolTKZYBIRMKMQ5yE6UrfeF9Jdevz8bk5u6Wj\n",
       "ra0GgH1M2uw4JGR8NktAXVhWLBzr6hFxTo55hc5d2K/jxTXi7RSsJsYdRUe7q056egA2EZHU91M+\n",
       "k4TPSBaOEHrPFosXyrptvBstXJhs6khNQS/iKMRQYIJULF58UkR9zOfJGrg7aBFydDl7Z8EXqKWh\n",
       "8QvC6MdY0XJJdts6Nn/Sn+0sbq1EWkNfFIz3tXTXYwAv8vnnxePJ1nfGOHNORtESlZfYjiSUMy7h\n",
       "iuNcXpJds80TMeVfY1sYLaxmF/4EsguMY1orzzFvPziCmDhsseMZjYMldH/v2DYslwr23+hZVchY\n",
       "4rR1Gi6S782hlOjf2Z1WE5hSSQP5a/IPKfrplMdC1M7p/ltrW+o37NQKi2JH2jLMAxCWALMOJ+6E\n",
       "OOV0tsVkwbPvr91ocLf/69OKB9kq4y2NSUnYB/xSpYmsuwkSNEsNWkxT4iWMRlSPP2my/+Ae0VRH\n",
       "VR+IRGwnMNFrGpRn6P4IfezEiGoy9aaH0gUHNNv0KWpGqxrzS229U7o9hDvnhzETUjIqZYoH82R0\n",
       "PmVafC2mLCbT/ro024TbjYZA8qf90GDGSE5CqiIpdgDqSBeZUCMKPJZh3i6jrpDDWYvJNEvcPuOt\n",
       "C0YY7f+xZ82kLGdcA+IZsRQqULrSFp1Pc87KRUotJhNGjGZe/trLQs/W6/l/IpkR1hxvH5QXhatU\n",
       "T1IeqCj2p9MFJyXxrDSZLPEXGdBhnU7bkDayIGPtEox1xZWWOpVTqfBBMGeFDkioK8DRRM4jfcFJ\n",
       "x4Q/7+Izm5w4I7NEqxf3AHOZAgw1ms/qUxK7QXM2Ab260LBXi0q3eAVAAvqOWjoldxOWVlo/9Jje\n",
       "GxSnD5CyDSbao6qrCQo3oMYv0z3h3XfsPbPc7CF3ExUawed/qF2KF7zHvu9nQlaXeVzzMFgc8P/9\n",
       "MKhfgyYd9I63D8k/XoV+qW/wMtX7AL6PYjINv40eIoJ5GgAeP4x4Of6Jh6F3A6AT4IAKIZlLeRh5\n",
       "PpDvdyYH/OxqL0yQ0PkLY9wRjN0KKgEAAAAASUVORK5CYII=\n",
       "\" style=\"display:inline;vertical-align:middle;\" /></a><br>"
      ],
      "text/plain": [
       "<IPython.core.display.HTML object>"
      ]
     },
     "metadata": {},
     "output_type": "display_data"
    }
   ],
   "source": [
    "div_rational_nonpos_from_nonpos_numer = Forall(\n",
    "    [a, b],\n",
    "    InSet(frac(a, b), RationalNonPos),\n",
    "    domains=(RationalNonPos, RationalPos))"
   ]
  },
  {
   "cell_type": "code",
   "execution_count": 13,
   "metadata": {},
   "outputs": [
    {
     "data": {
      "text/html": [
       "<strong id=\"div_real_nonzero_closure\"><a class=\"ProveItLink\" href=\"proofs/div_real_nonzero_closure/thm_proof.ipynb\">div_real_nonzero_closure</a> (conjecture without proof):<br></strong> <a class=\"ProveItLink\" href=\"../__pv_it/theorems/27d605c90679a0d9a562d3997d0757dc518013a00/theorem_expr.ipynb\"><img src=\"data:image/png;base64,iVBORw0KGgoAAAANSUhEUgAAALgAAAAmCAMAAABAgaHGAAAARVBMVEX///8AAAAAAAAAAAAAAAAA\n",
       "AAAAAAAAAAAAAAAAAAAAAAAAAAAAAAAAAAAAAAAAAAAAAAAAAAAAAAAAAAAAAAAAAAAAAAAeYafp\n",
       "AAAAFnRSTlMAq1RmmUTNIjK7EInv3Xah18O17eXJ8+7nKwAAAAlwSFlzAAAOxAAADsQBlSsOGwAA\n",
       "A5RJREFUWMPNWIl24yoMBYtNYpn3ZuH/P3WQDd7ixKmDe4aeuq4Tw0W6upIQ4tahhs4TkiHxDUPJ\n",
       "emOlTzb1mNLFb0AOpt7oYIXA3GVJkLfjdqEipQBs/thnWhzuBm58Y0zma/RXeb37N9xMlmGmRkBe\n",
       "L+tr8/jxPe+T30fOTWO2MGUOS8jXprEjTChTaKxPsr2V4bPBKTMrpRHDlQXl+FJw5dIAo78TuMQl\n",
       "nIq5hqiEujCN9pOR2QqhhiWEO4FnWMJJJu+sTO5EPANiNjHg9KZCHr/KL1T3RWhcKTtYiD5AX6Z8\n",
       "nRc4ElpLwFk3Eqx4F1oKK94Tao5105XyV2KxAPfjH9fMSXM8MvDcFFyVzDZ/x2JfipvLwJUVplLl\n",
       "9x8cqbINTpHYKq1q8X0TUnhDbBPGMswB8GrE2aoisRzKJUWUfUCltukcm6eSpU2iQ4tLogpx4Ton\n",
       "IEVLALGVA287Bn+bqDxJLI8F6gTc4VDDbXhWT9I4u3K7zfUYNp8x70ALCvBgYo7NE89JMObiMafa\n",
       "S/mf2E02Dck+quEp8OPgBKD2yaBPiMjG9gdfcmYnNEP0RkmzOHBMhezyBxR6VVLlZaxr3lgHbqmC\n",
       "BOcJJatGpUOvyMZ7lyRiQZJEeeJtewx6rDI5TuirFid8IodOvUHbCXhBDYdhEGqOVqrepPIjgMrF\n",
       "K6V+/KdK+rLcH0T3ZarEZzqu3HlKyalKeItw8pC8nRdPSdKcdhvwRGpFlGpx+xCcZ/5O6Qnw4osE\n",
       "72mWbdmCol0VGan0pUmtncpUscjTFov//1OxxUeWmUfBOm2NzXAAnI1ROI76Pc2SMyc4auZ5YOx3\n",
       "NayAK/R1H83urCrwKG3htIYliZoeqkPkthrNa6a5fTcVOADlmuKlTQIz1pfcozJVvJ7mVK8jaKNI\n",
       "hCEe1tq4SfkXusLmX94uUH2ap9rdebHmuNaemqK8OlLZFvvmShPxvA3dmyEwxTXQlFkKxQE3SXWS\n",
       "Q3oHBGyNkruWcLhPl1rBkDww0ctCTk2Rb9HNZZHxhdzqDe/SBqrOXSuKV5I1bDI7c/yLpwuoXvn2\n",
       "o6FfdFf6YwttOlojS0roxhb/wuOf95/rAyDKJcNRt+OQcO8h3Mouw7bX/XCkW08nVqXO1Ny+0xT9\n",
       "EwZfnTJPp3G6kyQmI+4eBtYqrvpIog32duBcs03AXTsk7zDn7cfjq4ZYwk7XP0iaIL5jWFcLQa/6\n",
       "LEhNY/8Czhwek4QEGEIAAAAASUVORK5CYII=\n",
       "\" style=\"display:inline;vertical-align:middle;\" /></a><br>"
      ],
      "text/plain": [
       "<IPython.core.display.HTML object>"
      ]
     },
     "metadata": {},
     "output_type": "display_data"
    }
   ],
   "source": [
    "div_real_nonzero_closure = Forall(\n",
    "    [a, b],\n",
    "    InSet(frac(a, b), RealNonZero),\n",
    "    domain=RealNonZero)"
   ]
  },
  {
   "cell_type": "code",
   "execution_count": 14,
   "metadata": {},
   "outputs": [
    {
     "data": {
      "text/html": [
       "<strong id=\"div_real_closure\"><a class=\"ProveItLink\" href=\"proofs/div_real_closure/thm_proof.ipynb\">div_real_closure</a> (conjecture without proof):<br></strong> <a class=\"ProveItLink\" href=\"../__pv_it/theorems/df461eb7d20797939ed7165e067484272d41e6210/theorem_expr.ipynb\"><img src=\"data:image/png;base64,iVBORw0KGgoAAAANSUhEUgAAAL4AAAAmCAMAAABNn9GBAAAAOVBMVEX///8AAAAAAAAAAAAAAAAA\n",
       "AAAAAAAAAAAAAAAAAAAAAAAAAAAAAAAAAAAAAAAAAAAAAAAAAAAAAAACXHtMAAAAEnRSTlMAq1Rm\n",
       "mUTNIjK7EInv3Xbt5cmRiLwgAAAACXBIWXMAAA7EAAAOxAGVKw4bAAADf0lEQVRYw9VYDZOrKBAE\n",
       "hq8ZkLvj///YB4qKETVYV6EeW5vNpoC0Q3fPDIyNG1K8XUma2OgheXljuAsmdK2102j8oMsb5Q1j\n",
       "GPvwAB+L3vqClzzko5g616MYCl+7lUMxv06ul/5+JH3ERhaPGUxUr6UzYmzRpphFC7F7BxPNOOZv\n",
       "waeYScw1E71o0A2Dz3FHkaIvJslkt3X5YfAj7BrkwVnDg713WY8Y9eQRKvakc9sFIOCH3OnmLabs\n",
       "lnIEB9wcJx0Zk5vk9e+k8EKpCb6b/9gt4DIlvu0/gz+kvn4LXxq2rQ05CGv1436YxvyzZwec0tAN\n",
       "+LjnjqQXKJTXv1Tuk+cpHagZfU7EdwXliPv8mJN3Y4ynnZLOBfEC36LYJUrzNnK2LHxXQty4Nd0k\n",
       "zAeiNlwkwfd6ilN9KnPCzoa0vHzam/5Qs5icllyHw65X091sac4F1/DNJ/ht6QKQPnMwB961Sia+\n",
       "frMNHDHNCCx94oxrwt+nsy0ekB5VnSxNVQVa3EdVTE9l4JE8SFDTLs5nL8KFcH3JhFKWNyH9MKDQ\n",
       "hu/rxMnN9tEpRz1Fn/DCOK08kHyBn7BDQUQOgjPbt4TA0+ywPfEMP5Bsk6dMXwLsFpLn/73oJc90\n",
       "5fvS1ukphmL5Rek0mSqhh9RQBlnHIpPHYIAm/DJdYh7/pF8oheUEJ+k+OE8IF/ATlurbyzZmTSNS\n",
       "ZuJtK2DuSBVU8CU6ZG3plunLRKjqYv8JhuJTY65FA34+9MR9VJ8GxgtrfZYnr7mcehrQczxzc5nJ\n",
       "45Rowy/Ta/Iu5DlTxT9Vx8RR0anixNzTo173sx8tGmXeIFBZGBfeWsdq7ivlqAm/TM/k+fc/nMlz\n",
       "IV12sFhC3+C6cngoGm4bzjUqmfoKKEk4c5YY4CGjLcZ5Id11elUGziRW55Qij52G7m5VFsl+PrWS\n",
       "IIKDLIB0QFYuEjJot0pEO0ZS6qbzyFVxlbmltCWpUTAfPovvqkW8KfzqHcllLqh2HdtY+nhjRgfA\n",
       "Kr4rWG78S325I36X8k/L5B0JvhvqpmX7tnFswBdfXNkc2mzNU77r54/7H0r8lw1mfS1FMSVN6u9+\n",
       "/cBrwip0op3bHtuxcfckh/pu8bHo/qLgV/fjy32h6jXPoNnQoaF2fdlpnsabsfBzdbvAt+slf8/i\n",
       "sdf7VT/O4SMPfOPXwIYPY0t16WQnGlpt9w/Y/x1brXZSfgAAAABJRU5ErkJggg==\n",
       "\" style=\"display:inline;vertical-align:middle;\" /></a><br>"
      ],
      "text/plain": [
       "<IPython.core.display.HTML object>"
      ]
     },
     "metadata": {},
     "output_type": "display_data"
    }
   ],
   "source": [
    "div_real_closure = Forall(\n",
    "    [a, b],\n",
    "    InSet(frac(a, b), Real),\n",
    "    domain=Real,\n",
    "    conditions=[NotEquals(b, zero)])"
   ]
  },
  {
   "cell_type": "code",
   "execution_count": 15,
   "metadata": {},
   "outputs": [
    {
     "data": {
      "text/html": [
       "<strong id=\"div_real_pos_closure\"><a class=\"ProveItLink\" href=\"proofs/div_real_pos_closure/thm_proof.ipynb\">div_real_pos_closure</a> (conjecture without proof):<br></strong> <a class=\"ProveItLink\" href=\"../__pv_it/theorems/30dc11688f4edf8d2bd2a25edb6f138c8f46fa3f0/theorem_expr.ipynb\"><img src=\"data:image/png;base64,iVBORw0KGgoAAAANSUhEUgAAANgAAAAmCAMAAACRZqW2AAAAOVBMVEX///8AAAAAAAAAAAAAAAAA\n",
       "AAAAAAAAAAAAAAAAAAAAAAAAAAAAAAAAAAAAAAAAAAAAAAAAAAAAAAACXHtMAAAAEnRSTlMAq1Rm\n",
       "mUTNIjK7EInv3Xbt5cmRiLwgAAAACXBIWXMAAA7EAAAOxAGVKw4bAAADsElEQVRo3s1Zi7KDKAwF\n",
       "wivhsbv8/8cuiFqsKLfamcqdq30MyCHJyUnK2DOGFN9ZhzSxJw3J691wF028s5INT0IGut6VN4xh\n",
       "urU14M/BZX2FQh6K9cK91VA8Bph2s0Omcg3uZpj5pzijWHzPY9lXUl8K2J+PxUSUCm1AugSmeW2S\n",
       "eUaELQajVKKDayY+3xhu3rhHAOPrpjBbTAS5Of4rwMA/AliCNex5dNbwaAe5wSMmHTzCATBTTP8K\n",
       "NAE/8kTzuXlM3rbigNQFxrLVmVw5SP8m5C6QRQbmppstZpGYhy+X1TIyJ3y7mMzgj0JMXwUmDdN9\n",
       "i8VyWItqdD9K2H6cdSKGPHQHGPaBiZTDFGYD6l9xx4iblY7UtRgn4n1gdkocvhxH8L/i/jTgLLMv\n",
       "RCowi+JFC1tgNC0qJ3bFzwXWV45iouZTIWl6MeZ1SKGx5FvqmzRMoc56uSFjeu/bIzxh+xGwPnkA\n",
       "kB75dzGW6yhPq9+IUgSnJdfxAAgeTq2rOxf3RlYvzZteoy1pwjxw64pIcOzEadqbiAfUwZd92MgR\n",
       "8wZicT9n3BDYaypb3QHyYxR+ajHCA7q38iR8KrCMCrrluJ+1jZTzi5j/GFC+OCllyP/qAJhvZRE3\n",
       "60c7mTF0xXCUx6Q9Tr0pzilsYR5yEJ1Znxkjz1/E1eQTsEhy7Irz1OptrrJEee/FjjwGrBjjAbBs\n",
       "ywjnVGuWJEnBNNotBmJRts5QXNHgstwJsHnqpHbwn0nt1OokvG+F0qh3o0UHWHl2jjFU51TLV58r\n",
       "0brOh6nNoqABJtEhG5PHPLVOgqbs8jsYflSkEEdFO3WPpe2Duu/I9r0K94UgeBsnucwGPZ176ZEU\n",
       "V3RKHOQx3IbYXKEvBq+uuN/Ihj8JfSemlMONpPp7s2F1i3IMQPOnqcaEdayNMaUcDYu9eWpxxX//\n",
       "m4V3nzyY3FaF+kKVuZcO76fjS4gpoEwiJR6IAW5ESaV7kkNgy9SmephYQPFO2bI5p/QNLY7vj1ES\n",
       "RHRQAi2vb2VlJIN2laPaMZJSj4AtUzdSLSdouTc2baCo9I3e2RnTtk8jV7xp2BXrZRUx7lejPHOi\n",
       "K0OdFOXqwsHh35TezhfbINM8J8C73uhOnnql/9EBJv7Q/Gw7pJSyVKC7fUH/5ZrZ3D9gcZDsPhrx\n",
       "Gd23jbCstJTcowx2o1G1mmzqdqt7lB81e8zQ0GYxeYvyjTfPAVbEdwVml1/Jri/1nJ/Hmo4Nh7e8\n",
       "9jk1A3vUMHZW8k7e2hktqeN/0Nkeafd/y30AAAAASUVORK5CYII=\n",
       "\" style=\"display:inline;vertical-align:middle;\" /></a><br>"
      ],
      "text/plain": [
       "<IPython.core.display.HTML object>"
      ]
     },
     "metadata": {},
     "output_type": "display_data"
    }
   ],
   "source": [
    "div_real_pos_closure = Forall([a, b], InSet(frac(a, b), RealPos), domain=RealPos, conditions=[NotEquals(b, zero)])"
   ]
  },
  {
   "cell_type": "code",
   "execution_count": 16,
   "metadata": {},
   "outputs": [
    {
     "data": {
      "text/html": [
       "<strong id=\"div_real_pos_from_double_neg\"><a class=\"ProveItLink\" href=\"proofs/div_real_pos_from_double_neg/thm_proof.ipynb\">div_real_pos_from_double_neg</a> (conjecture without proof):<br></strong> <a class=\"ProveItLink\" href=\"../__pv_it/theorems/74ef6555e65780703d7793a1cccdc0c64e77e5ba0/theorem_expr.ipynb\"><img src=\"data:image/png;base64,iVBORw0KGgoAAAANSUhEUgAAAKoAAAAmBAMAAACmKh0SAAAAMFBMVEX///8AAAAAAAAAAAAAAAAA\n",
       "AAAAAAAAAAAAAAAAAAAAAAAAAAAAAAAAAAAAAAAAAAAv3aB7AAAAD3RSTlMAq1RmmUTNIjK7EInv\n",
       "3XZ/CtNrAAAACXBIWXMAAA7EAAAOxAGVKw4bAAADLklEQVRIx5WXX0gUQRzHf+fduX/unDt6CEKI\n",
       "haCerIVAUEK3PMOg8krooR686CEKtBMiiqSup4gKlyJq1XSjCEzDo0ApKOwPmEXQU1FxcL74YCBi\n",
       "fzG6mtk9b/eGbmdnYGd3dn/z2d/85vub2QXgKNt82MhHga+E4rjqeXrG2+qyyUetx0d4Goa9uwXj\n",
       "XFDxNa7GVNjFsLvCRa3O4qod4DPDbowrBJuI9QzI3/2E33chPsoFCC5W5lm18JMnrMuEugSB1IZK\n",
       "JpJ9GuCgBnRSD0GdpjGoWzioMZXUt76cX5uhBDcz3DWjuqhnFbBCu84HtS9d6YneA3saTIdao0Er\n",
       "OR/2QW2u+EQ/DZIYhx3GoGEQn0MpOEdmTfdBXe1FDaVTjq9oEaqx6xHFB/UZfQPdzL13qLpDrfoF\n",
       "QexztZ/Z+k21w92m42vgXtyhiksAb3O5N36oX6n2CdMVgQvr0w5VxqZtAP0+oMISdcOZYb2368+8\n",
       "k1sABbxgguAncUWamnLN1ua7dLAkM5IsdT1SvKib2NpNhdFaVGJ/SbFMceRyH4tU6bbqtv2GZyzv\n",
       "mqxaYj9rJFEEJrOevsq6y1dR66eokGpy2q/wkcAZiRA05oVEItFaMQLv3HptO+V+hOMKD8j+Ndo0\n",
       "SboWZk1EBoOp8+WLiEBrYMFNHUEqJZdePFnyB5GsiugT0kYshUeEIbV8xAV6ayiljn4cq/4aJZcA\n",
       "HnFIE6eI4NRgqsOihgboLH5Jb9Fr9pfWrOtgHHPyU1zZLaJJROQVzYTi9YZhKAhF9lIUWx7yYCme\n",
       "4UfFjKVL1XLxYjwtNeJciUFUuWj5isIHqE1tZ3HgGlPakZUXR9N9HeYo1JgNWL9WXOEx1b3ZfkuM\n",
       "vRJJK1kVbtn4EC4p4u48CDdwe99c9s72cttxG9dp+tw1SsXuN2oYyf95YPv+hJ3cnWW7RtjTjeCU\n",
       "dTq4sIpFnSjv5/2xZ+lF/mGOpxnU5zxfGRNF1UTz3nZoiocazdg7XSzLsFN4qEGyotZkoZPRa47v\n",
       "+/WQLdd2b20J03zU+3iaYhn5BcNK4aMKeMkMqBIjZa9y/hfASays2hbG3wbJoH+oycTirAxdBwAA\n",
       "AABJRU5ErkJggg==\n",
       "\" style=\"display:inline;vertical-align:middle;\" /></a><br>"
      ],
      "text/plain": [
       "<IPython.core.display.HTML object>"
      ]
     },
     "metadata": {},
     "output_type": "display_data"
    }
   ],
   "source": [
    "div_real_pos_from_double_neg = Forall(\n",
    "    [a, b],\n",
    "    InSet(frac(a, b), RealPos),\n",
    "    domain=RealNeg)"
   ]
  },
  {
   "cell_type": "code",
   "execution_count": 17,
   "metadata": {},
   "outputs": [
    {
     "data": {
      "text/html": [
       "<strong id=\"div_real_neg_from_neg_denom\"><a class=\"ProveItLink\" href=\"proofs/div_real_neg_from_neg_denom/thm_proof.ipynb\">div_real_neg_from_neg_denom</a> (conjecture without proof):<br></strong> <a class=\"ProveItLink\" href=\"../__pv_it/theorems/5a2c51a34deae9347cb1e036e383293cb10004550/theorem_expr.ipynb\"><img src=\"data:image/png;base64,iVBORw0KGgoAAAANSUhEUgAAAMsAAAAmBAMAAACYD3JcAAAAMFBMVEX///8AAAAAAAAAAAAAAAAA\n",
       "AAAAAAAAAAAAAAAAAAAAAAAAAAAAAAAAAAAAAAAAAAAv3aB7AAAAD3RSTlMAq1RmmUTNIjK7EInv\n",
       "3XZ/CtNrAAAACXBIWXMAAA7EAAAOxAGVKw4bAAADUElEQVRIx6WXXUgUURTHj7uzOzM767ggBCXI\n",
       "QM/lhCAkYStt1kuxJPRi0BCBZBHjS0+CCkEPCU6fNEYxQgViMEtGRhBIQVhhSAiCtbUi9CFBYpBl\n",
       "UN353Dvj7ozMveB19+zZ+5tz7v+eexaAYFDCJpzuaUA42tEf3fC5FOjELBBS4hKajsnserDbLkLM\n",
       "EEpH6jlQs8FurECGOW1szwrUFoLdUq+IKDEjWWkF9PwmtjD6MKPQS7C3ukvWnPtlEsywoVRdgC2x\n",
       "qsso1uYUSDBbzSVKsTkKgjHxKRLMD3N/Gx/3fvHp/Iz68/0VDEOvAmSMF9sjUJi1qgqmM4n6kTIG\n",
       "5gD2G/+7oxzOleqYAiiDQKnqS9WMqgNg0IhKiYCpkYIwB5JYNN8BkkgvXJRzms74LV+LRcnFsBim\n",
       "aQDiIkJFUUCdX6ZHl7Foto1imGEUxkyx+DoSRvS+p3uwpDGXuzGMjlwPAoxsXIQLxfT7Mp2Uy5gX\n",
       "Hz9o5SoAdeiq6AU6U+HGCi8CfgwmgYlWyZ9fVuPw2rfjUftZF8Oc8lrxcdz81j9jmNIeKqKh2Ekb\n",
       "afZgUFSxkvsczKKa5zmYLLjRNHitQdGM4YI+z2o+DEhtztvcAADPQ2uJyx3Kmed2GrfSuZxlrYip\n",
       "xTHUBfwoGnsDDwyJjLdNAm9oBy24nHWT9ndRw60eCfiUxpcwTEpZ8ouyDykgNY9KlBk2z9G3RQfD\n",
       "L/BZ3IoP3d9pnChjstDM5n2irEFJobLMFHSaC1I3FVcCrBiXcKunCviig9FrmlOhf8vs9VVsGx1k\n",
       "Os9noEVVVYHnuSPuuUkPUBnc6hGwxR2bcS1dt4qV61yTowddZlu1i+Zz84kuVyV1kBY2Wu2TZV9W\n",
       "J8MLxlM3A/Jwp2aKEEn3iZ2OcajVdoPf6l4Ednu2Go655LxI7Ns5AfQNowB+KtzpsPswgTlc2mB1\n",
       "+yJr/cT6Ju/Z8hhXVU8zJFS0OuOqVfxmQymJteCPg5vsPZYSGhfDbitOCr6Gg79ttYF6T2ot7AIk\n",
       "6m6th0RifRPi+I2sh56224k/IX7PyDAtxvQOEiGS5iUyTFI0jw0VIuk+mQyTmkfTL7gvBnu9Jf1R\n",
       "eA4pvt4+P9V/RYmkGBrV9tGHIcvcNab/oGfhO2nNP/MAAAAASUVORK5CYII=\n",
       "\" style=\"display:inline;vertical-align:middle;\" /></a><br>"
      ],
      "text/plain": [
       "<IPython.core.display.HTML object>"
      ]
     },
     "metadata": {},
     "output_type": "display_data"
    }
   ],
   "source": [
    "div_real_neg_from_neg_denom = Forall(\n",
    "    [a, b],\n",
    "    InSet(frac(a, b), RealPos),\n",
    "    domains=(RealPos, RealNeg))"
   ]
  },
  {
   "cell_type": "code",
   "execution_count": 18,
   "metadata": {},
   "outputs": [
    {
     "data": {
      "text/html": [
       "<strong id=\"div_real_neg_from_neg_numer\"><a class=\"ProveItLink\" href=\"proofs/div_real_neg_from_neg_numer/thm_proof.ipynb\">div_real_neg_from_neg_numer</a> (conjecture without proof):<br></strong> <a class=\"ProveItLink\" href=\"../__pv_it/theorems/3365ce2e710111f256aa476ae794449be9db370b0/theorem_expr.ipynb\"><img src=\"data:image/png;base64,iVBORw0KGgoAAAANSUhEUgAAAMwAAAAmBAMAAAB602klAAAAMFBMVEX///8AAAAAAAAAAAAAAAAA\n",
       "AAAAAAAAAAAAAAAAAAAAAAAAAAAAAAAAAAAAAAAAAAAv3aB7AAAAD3RSTlMAq1RmmUTNIjK7EInv\n",
       "3XZ/CtNrAAAACXBIWXMAAA7EAAAOxAGVKw4bAAADVElEQVRIx6VXTWgTQRR+6e52/9Ld4EGQgiwI\n",
       "eqoGhEKL1Gij9GBttOBBD414EIXWFEQUi8aTFJUuimhabVcUobbSoNCioMQfqFUET4pKIL30UKGU\n",
       "+lOpGJ3d7GYn23YnZAYym/nm7Xwzb773ZhaApuwsw0Y6DpSFDaGq+/k5f6srBiVNPfpxkzDkPw4T\n",
       "omMR3qJqNAytBLurdDTVaVS1AXwl2I3SeW2L+foUSD/L2cLKi7kKKQ/MPMGOX6TamiWTZgEC8U0E\n",
       "ywEamoBu1oNQF4kQLLfR0Khhs77z7eL6pEfnU0OdU2EMOK+BtT0bKqHpS6zWo3fDvgZMXjUR2GU+\n",
       "j1ZCs33VHv0siEIIelOomHNh43DBlIJeCc1aPxo2EXfbyjxUo8XJWiU0L7yAcjv70aXBpl71Gxi0\n",
       "V9UVSeCPp811Ge5qAg+wmBQWAN5ns+8qovnuaZ8yMKf1bsQEIiHTFoD+soeWsdhe8PS5OtJ7Ov/O\n",
       "4l15dF4AX37OYUs9UVLimAS23vf6VzTkGIbUje/owsY6VgpjNJyVMdV/ZrFMkfezn20a8S4envAD\n",
       "ySBXVIAwnYopMkykXYPaUthnNZKOrUaI9HtoIN7ktKIoaygKNOb4aDRqxS28wWE52mrDKzntAx43\n",
       "LWc8ewOPzDvBSNMEKOZC0XizbioU8tMGDmOr4b1Km8NphpWwR5Q9SAHSJ2ERhq0Yk/lB10L5okRw\n",
       "GKOR8t7DtBjk+kkUjtc9ogwgn7ARIQPt1njsABa/YpiJ4zBGA6+9N6V1B4sZ+gakTripRXDO12BM\n",
       "CUE9ynSaosj73VeDSTaEw1jcQEGE0q3innBP7GTjLVVL9p+xhNhoXLKmrXCH3ByuQlBbAbbKHttX\n",
       "EXJQOzMJJvraDdGwNgGeOi+OQI3RAMtg5yAo0KrkvCs68c81b34M/E3078BM+t5uG72sCXtzy2HH\n",
       "A4XxO8jXI7UkVmEklYqVANrKsD3HwuqekVNUR8K3m/OdKJOxHofn1pBoxv27Gf+rviVT6ZcxliDQ\n",
       "vKS6Do7bYg3m/O2UDBVNMFm4Tqhpgp1GRcOYJ0xNGjoIw8xQft8cKYRNm7+k+UlKmodo79Wk9Ipg\n",
       "pVHS8OgICYRFQra5RvvtCaeRoGubCZ+4Zmj/B4iL3YpE6M0eAAAAAElFTkSuQmCC\n",
       "\" style=\"display:inline;vertical-align:middle;\" /></a><br>"
      ],
      "text/plain": [
       "<IPython.core.display.HTML object>"
      ]
     },
     "metadata": {},
     "output_type": "display_data"
    }
   ],
   "source": [
    "div_real_neg_from_neg_numer = Forall(\n",
    "    [a, b],\n",
    "    InSet(frac(a, b), RealNeg),\n",
    "    domains=(RealNeg, RealPos))"
   ]
  },
  {
   "cell_type": "code",
   "execution_count": 19,
   "metadata": {},
   "outputs": [
    {
     "data": {
      "text/html": [
       "<strong id=\"div_real_nonneg_closure\"><a class=\"ProveItLink\" href=\"proofs/div_real_nonneg_closure/thm_proof.ipynb\">div_real_nonneg_closure</a> (conjecture without proof):<br></strong> <a class=\"ProveItLink\" href=\"../__pv_it/theorems/399983065919a7239fd229de7659e84ed3f29abb0/theorem_expr.ipynb\"><img src=\"data:image/png;base64,iVBORw0KGgoAAAANSUhEUgAAANoAAAAmBAMAAABQY5iKAAAAMFBMVEX///8AAAAAAAAAAAAAAAAA\n",
       "AAAAAAAAAAAAAAAAAAAAAAAAAAAAAAAAAAAAAAAAAAAv3aB7AAAAD3RSTlMAq1RmmUTNIjK7EInv\n",
       "3XZ/CtNrAAAACXBIWXMAAA7EAAAOxAGVKw4bAAADzklEQVRYw61XXUgUURQ+6+44s7Pr7GIQhRAD\n",
       "Qj1pA4GgiG25lmDmltBDPbjRQyRoK0gUiW5PIRUOhdRq6UgR6BpKhWJSbBaYRSFE/yysEEIKIvZj\n",
       "GG2dO/s3O+26w04X9s6de87e7557vvvdOwA6y26Nfmwj6C8mO1Ytj9oze16S9KOV4I+ahv7MQxnt\n",
       "usGY51gNC1CrwfeybrTcUazqAD5p8B3WvZTbyQgzwH5PY+90yY/JxViKdRUSExsG43I6Jk7wJGUh\n",
       "SgSgV/WmbY2MuAIG97Z0Ll8EAKsXCFKvTjSDSOo+KHI40vqUhqBDgilsletEswmkHlg8v8Wr2hgz\n",
       "/U0zQqRd7umS4DU2OniQU1eYJVqXJ51FbIEDpTIJ/d2AaK+wleeAKtJzPEu0nWkt4lkwMySS1k1A\n",
       "VnKFkNIN5/BBi1mibVwPzeRxo6ghWIwl3DLkYrgWPku0x+oO7kbwbQJNhIG9cm+IImHm/AQj5jI3\n",
       "W5b8Ur1TzVIiNsOQHYYib5OfST+Dy/kyGHyRLdpX1fspSbGSnVtVHGLRvRqgJ0swekXVkWCb2Nb0\n",
       "e0HtH8Y8Av2PgLE1ZJLtxakIblFIiRrNrWDJjttEJ31YPIqFN0sWl+IPRWO7mnHW99GlUf43cyLJ\n",
       "AiZFmmQxtv0hRUbHrAQ/RNHMNwX1RL8hU0JxkjBzPhdngXE8RtjPLjYA5PSCgmSLKX1srKiIjXH0\n",
       "pEADd0XszYn6w3FQFiI5eUPPwnvS+yzZsg4azCr3W/WZFHmDu+R+4q8YB46EjmMuoMQyNRLGNk2G\n",
       "DM9JCYvFWeusirNEzcklJdogJ6SgcBuShH3HrMKgvBMtdJ8A1AY55yRv3EfOobAoY2PD6qM8LhNi\n",
       "K+7k7hQUNuAqmRxMAOrlMU29IrD5pNleSNhkFozuhCUJDZ6qubz5cPwMuAq+k8kaxcROeKuLs0MJ\n",
       "spXnOMvBJB+r12RXWpRoEbqy1+P5oiaiypWq5KxFGyMec5l0QY6Ao45ItNMZz44NrHzCkrTfYF90\n",
       "AR2axMASm5TV01UvmSU5O/BA8Wc/5EmlkMoinzgRpbJpU3VzTEWoyuJ7QF/D1qH50Vt7Eh4XeWZ/\n",
       "KKVFXpIITIO2u5stmaN+n8+lduHTWshsI7E+1CarDZ5MHtS60zYG5MfRpXwtaGOZb+/rf7jInGZ/\n",
       "SCMeDWhTem+vY1FmW0OZfbmAXjSrN3K7sY1q8OX1ohmJtuWNQoOGkeb1f78di2y3usx7gJ7Wj3YH\n",
       "6WHzsk80ePL60Wg8rgyCWYN0XfkP391wGndAQaWGr3yiDn8BzOQFXe3r/n8AAAAASUVORK5CYII=\n",
       "\" style=\"display:inline;vertical-align:middle;\" /></a><br>"
      ],
      "text/plain": [
       "<IPython.core.display.HTML object>"
      ]
     },
     "metadata": {},
     "output_type": "display_data"
    }
   ],
   "source": [
    "div_real_nonneg_closure = Forall(\n",
    "    [a, b],\n",
    "    InSet(frac(a, b), RealNonNeg),\n",
    "    domains=(RealNonNeg, RealPos))"
   ]
  },
  {
   "cell_type": "code",
   "execution_count": 20,
   "metadata": {},
   "outputs": [
    {
     "data": {
      "text/html": [
       "<strong id=\"div_real_nonneg_from_double_neg\"><a class=\"ProveItLink\" href=\"proofs/div_real_nonneg_from_double_neg/thm_proof.ipynb\">div_real_nonneg_from_double_neg</a> (conjecture without proof):<br></strong> <a class=\"ProveItLink\" href=\"../__pv_it/theorems/ccc11b3e982fedd9ca6503d876374b5bf6d083fc0/theorem_expr.ipynb\"><img src=\"data:image/png;base64,iVBORw0KGgoAAAANSUhEUgAAANwAAAAmBAMAAABdfejNAAAAMFBMVEX///8AAAAAAAAAAAAAAAAA\n",
       "AAAAAAAAAAAAAAAAAAAAAAAAAAAAAAAAAAAAAAAAAAAv3aB7AAAAD3RSTlMAq1RmmUTNIjK7EInv\n",
       "3XZ/CtNrAAAACXBIWXMAAA7EAAAOxAGVKw4bAAAD90lEQVRYw61YW0gUURj+3Ytz2XXWsiQVYsHn\n",
       "TBB8kLA1124EbUlBFmgUiBaygkRSmIHUQ5SLYrVaMoEvYbVDkmZQmEWKEfjQ3awJwyJIxFLLwPrP\n",
       "mb057rrDzh7Yue2/55vz/d//nXMWQG/bojGOr4YENFMqAJP1VY4deVFMAFw+fg65uYXYkcZU/Wjs\n",
       "CNL0BEyjGmJb9MMlS8jnNKRIGmJv6WdzI3Zh9YDPFWXwbfRkeST506yzjeHHJ8PmaN93UwYL4QAe\n",
       "mXndqSMS8dkh3eCOEiG04mEYbOT7Dr1wSR48cLLhpSm6IDuBWQCrHS836YWz5ZICXn+/9psK47h3\n",
       "7kOr/3oIOUghgWfsQNOXHS9cczQOOSbVnNZO3aTfhXBW4gMpDighjyrjhYsqEY6RwHOW6KOokZBp\n",
       "I2SaKoA+8sQLl74S3LZk7HpVY0gqwjQkY+FY7PHCPV4mxOvjr4NwHPBrKNtTsIecDL/BiDlMjlsq\n",
       "f1X35hoxNLrMG8CL/jLfSctmBuDF+PjzuOF+qu5PiCEy2Ra1JHgM3w7QHnF+0oDGzKgeVIZy9+zT\n",
       "x2UeuQhQC0wkLzOug4YcdyxTUcNVhOB6CvCG9WK7Es49J1rC/XVDb1EN8TocdLXy63N+3RrGjqar\n",
       "ZlHzLDn+I22awmNmxt/5yWzPW/Z6v7AXOagU9rPXJVigT4K6PmRzAEaoURE3v5TRBrJkObXy6HhP\n",
       "WCE0cWIEOKgoDNw5sUYEAQpk5hVJzCi8JU+t+NSEgwVZNt6JQeZoGJzpvCdC7uAuWbN0F/aBQHwN\n",
       "4b47wLiWjm6IGtVUJkwAhRO6oM7pdAbJZ9TKnAqD4z0TkYR8GpXCv2Hn4SatUwvTibCGNJJ3mrsf\n",
       "4heFJFmqV3XAL6ond3sQzgF5nCuCkJMIWQ52AEopnKmD9s2WQEM2VWYr5JtzKdyOfvXrPlVXT0ZZ\n",
       "YEb44+Yuq7hmZ/0XVpeQCvkoWrsgWPYuDRqGImOV19uCZN5Tu12VAnItmDNzv2JiEZshsF7zubkC\n",
       "8QIdnWA+KDKYoJJA0DQMspKSu30PVB3s8nPo0ORBlsBbWd3NpSIVLhbCg7Af8xK8N3oU38FC6FJP\n",
       "QIrWbdo8ngv4ibk4pweYq3i1f1Lq2hpG9yA0odzqG4n9HuOdFUs78Ck45dqWdHTuD1s2eb3LFnAG\n",
       "ZZD93raI76sQ8VCboZe7Y4aUrbwQH6Cnw1OrtcD1xg7JXXlbQ6XNz4k+twa4Qd3L2l6/wK0atkDC\n",
       "gG44YqhkyWPTsEmw2nXDGYlUcUNSrqGryQTs744oZbc7dikwQwmAu40asTXiFi92pD0BcAxOX0m5\n",
       "nAYXa03E3hxOYiFkFWv4K4A4yH8j6AjrqFv9MAAAAABJRU5ErkJggg==\n",
       "\" style=\"display:inline;vertical-align:middle;\" /></a><br>"
      ],
      "text/plain": [
       "<IPython.core.display.HTML object>"
      ]
     },
     "metadata": {},
     "output_type": "display_data"
    }
   ],
   "source": [
    "div_real_nonneg_from_double_neg = Forall(\n",
    "    [a, b],\n",
    "    InSet(frac(a, b), RealNonNeg),\n",
    "    domains=(RealNonPos, RealNeg))"
   ]
  },
  {
   "cell_type": "code",
   "execution_count": 21,
   "metadata": {},
   "outputs": [
    {
     "data": {
      "text/html": [
       "<strong id=\"div_real_nonpos_from_neg_denom\"><a class=\"ProveItLink\" href=\"proofs/div_real_nonpos_from_neg_denom/thm_proof.ipynb\">div_real_nonpos_from_neg_denom</a> (conjecture without proof):<br></strong> <a class=\"ProveItLink\" href=\"../__pv_it/theorems/1fcb10acf1c017ac6abf742f6d707097e6180ae00/theorem_expr.ipynb\"><img src=\"data:image/png;base64,iVBORw0KGgoAAAANSUhEUgAAANwAAAAmBAMAAABdfejNAAAAMFBMVEX///8AAAAAAAAAAAAAAAAA\n",
       "AAAAAAAAAAAAAAAAAAAAAAAAAAAAAAAAAAAAAAAAAAAv3aB7AAAAD3RSTlMAq1RmmUTNIjK7EInv\n",
       "3XZ/CtNrAAAACXBIWXMAAA7EAAAOxAGVKw4bAAAD+ElEQVRYw61YW0gUURj+3Ytz2XVWFIQMYsGn\n",
       "HrIFwQcJW2vLyqCtKNACjQLRIkaISApTiHqIclCsVksm8CW67JClKRRmkVEEPnQva0OxCBKx7ArV\n",
       "f87szdnbsLMHdvfM7L/nm/P93/+dcxbAaFulM45vhAw0Sy4As/hjIHXkKTkDcKX42ilyv1NHmnON\n",
       "o7GPkKZ7YBnXEdthHC5bQT5nIUfREXvFOJvLcQi7BH5v4hDTWbDdUYJpNtje4MsfgJVJ0HoByqEa\n",
       "e8wPw6kjEvE7ocAkJhJIJ749BAf5vscoXJaEb1zA9NSSIEAg+mB+g92JnyuMwjlcpICX3Gr6pJnT\n",
       "Pt/3tzgvdjTIQQ4JPOoEmr6idOHaE3HIMbnW/G6ApcMqnJ34QI4b1pAv69OFSygRjlFAasNO9TAl\n",
       "00HItNQBucVI6cIVJIOrzCa9tsqwVIRZyMbCsTnThbsbI40LE8/DcBy91VQIM7CZ1sRPMGMOs9OW\n",
       "yh/NtXW/HJld4UW1L2KZb6CSmQN4MjHxOG24r5rrg3KETLZDKwkew9cBdKeLxsxpbtRHcvfg/bsY\n",
       "j/yL1AIT42V8FYlsKRZTmYoWri4C11+GF6wP29lo7jnZFu2vywYq9uNj30CkRvXXx4O6Nb3ZU6BZ\n",
       "Ra3z5P0fabMUHjMz8SpIZndJzON9w1ECYaWwH3xewQaDaN/8lJcfgUfUqIibn17UBQHFdjj57Hgp\n",
       "qhCOcXIcOKgrD115WlHJApSROTDPmHF4Se7a8a4FMwyBgPlaCjLHo+AsJ6Q4uYPrZM9yuXwQBOJr\n",
       "CPfZjQNVyTi7MWpUM4UwCRRO6IMDHo8nTD6jVeZMFBwvTcYT8hFUCv+C/QGXaJ3amF4XWPNp3mnu\n",
       "vshTKkkBpVkzAP9Xu7g7w3BuKOG8cYScRchysyOwlcJZeiTg80i3pYgqsxNKrS4Kt35I+7j3tZJe\n",
       "VBNaEX6J3BkN1+x8sGP3CrlQiqJ1CoJty8Kgh1BhbvD5OpDMm1q3a1BBzodzZh1STSz+wh7ar/lF\n",
       "rkw+SWcnWHfIDCZoTShoFkZZRc3dtmHNABuDHLp1uYIt9FR2sX2rTIWLhTAc9WNegddmSfUdLIQ+\n",
       "7QKkat2hz+O5kJ9YVxf3A3MOe9unlb61UXSPwjGUW3Mrsd+9vKdu4QB+FadW35aOrv2Rdtnni9nA\n",
       "mdRJDvm64j6vSsRtfRZbK6YMqUm+ER+hH7tm8vTADaQOcSU/1lBp899lv6gDbtTwtnYgKHC7jiOQ\n",
       "MGIYjhgq2fI4dBwS7E7DcGYiVTyQ1OoYajoD57vdatltSl0KzFgG4K6iRhyteMRLHenMAByDy1eW\n",
       "i9PhYp2ZOJvDISyExat1/BVAHOQ/pEcKFJdt2wQAAAAASUVORK5CYII=\n",
       "\" style=\"display:inline;vertical-align:middle;\" /></a><br>"
      ],
      "text/plain": [
       "<IPython.core.display.HTML object>"
      ]
     },
     "metadata": {},
     "output_type": "display_data"
    }
   ],
   "source": [
    "div_real_nonpos_from_neg_denom = Forall(\n",
    "    [a, b],\n",
    "    InSet(frac(a, b), RealNonPos),\n",
    "    domains=(RealNonNeg, RealNeg))"
   ]
  },
  {
   "cell_type": "code",
   "execution_count": 22,
   "metadata": {},
   "outputs": [
    {
     "data": {
      "text/html": [
       "<strong id=\"div_real_nonpos_from_nonpos_numer\"><a class=\"ProveItLink\" href=\"proofs/div_real_nonpos_from_nonpos_numer/thm_proof.ipynb\">div_real_nonpos_from_nonpos_numer</a> (conjecture without proof):<br></strong> <a class=\"ProveItLink\" href=\"../__pv_it/theorems/3ddc0984719094f9bfd5ff7c23acf49ee22af43b0/theorem_expr.ipynb\"><img src=\"data:image/png;base64,iVBORw0KGgoAAAANSUhEUgAAANoAAAAmBAMAAABQY5iKAAAAMFBMVEX///8AAAAAAAAAAAAAAAAA\n",
       "AAAAAAAAAAAAAAAAAAAAAAAAAAAAAAAAAAAAAAAAAAAv3aB7AAAAD3RSTlMAq1RmmUTNIjK7EInv\n",
       "3XZ/CtNrAAAACXBIWXMAAA7EAAAOxAGVKw4bAAADyElEQVRYw61XXUgUURQ+6+w4s7PrrP1SCDEg\n",
       "FD1oC4GghG25hg+ZltBDPbjRQyRoI0gUiW1PIRkuRdRq6UQR2BouBUpJYT9gFoUQ/SOsEEIKIvZj\n",
       "GG2dO/t3d5jdHXa6sPfuzDlzv3vO+c659wKYbDsN6glNYL5ZC7FrfdSRXfO8Yh6tDH/sOPRnn4op\n",
       "NA3Gv8Bu0AW1BnQvmEbLD2FXB/DZgO6gaVduITNMgPAjg85mGUbn4iE21YhNQgSYhQxgYWDCrB+A\n",
       "WzIbtmWCtggW76Z0KuUuAIcPCFKvSTSLn/R9UOJ2p9H4KmF3WoEnOGwzieZ0kf763NkNPk1iTPQ3\n",
       "T6Cwi4BBtwJvCKgEauiKc0TrltNJ/K2wt1yBvF4livYahwI3VBPZkRzRtqeV+E+BjUdLWAKHnlwk\n",
       "pPTCGRw4f45oazOhWWUvIdJqOc4ScQHyEdsu5Yj2WPtCvDb1LommGsGtUMQwSwKW9wsYjGV+riz5\n",
       "rXlmW5SkbZbb0XTmAEa/kPc8uvPV1NTLXNG+aZ6PK5QnOzdqOCSgeg1Aj+6GlB2MW9S8SLLN3978\n",
       "Z1arH8HNCTi9Asasg45SPYLbqVKiRfNSLNl6C4fOADaZcrxNsddTH5QM72jBIYgmN6lf80dTJVYq\n",
       "TGoxdv4lTUXHqEx9jKHZbri0C/2OTAknSMJPB+pFO4yEoG0EXTkGZPeCohQJjaa1TfBTtvHuHh00\n",
       "8FbGnzxYf0QRKsLcWxKVSfhA3j6nJRnRYJLOt5qTOnGDu+R8EqwcAZGYjnPOuoFZo9o2TqaMTCtJ\n",
       "id1T66lOsETLyXkabUB06VC4HUkivOeXYEDNTzvXh1p5q0jMSdzET6KbllC2CRHtVp4oE/42zORL\n",
       "OhS2oJesbn4MGtQ5rb2q9/lq6CgmbLK5GC8todDgmTZr1h9I7AGXIXAstUbx8R3eUS8WQhmyVRJF\n",
       "+74UHYfPWkhLaLQoXYWriXix92OVS6/lLcf+DMm2CuWcaoHIHlQ4jycRHSc4pKQkJd9gd8yBbkOV\n",
       "xx5flEPublBsihodeEB9HIQCpRz0JOqOE61UTmNV3RavImxV6T3gruC//TOhm7uSGl0SvyesK1Fd\n",
       "EoVpNHZ2c6ZyNBgI1GtVpLQSstqorQ+N1fBGOZsGm3HZzJg6HJpfaQRtOPvpPfPFReW08FMZkg2g\n",
       "PTF7eh2OMdsRzq4rjplFc/iipxtnyICuZBaNIbWtIASNBmaaMX9/OxxNt7rsOcCNm0e7g/Rw+oSn\n",
       "BjQl82gcblcWl81A6br4H+7dcAIzoKjKwC2fVId/iQYCnFnvh+MAAAAASUVORK5CYII=\n",
       "\" style=\"display:inline;vertical-align:middle;\" /></a><br>"
      ],
      "text/plain": [
       "<IPython.core.display.HTML object>"
      ]
     },
     "metadata": {},
     "output_type": "display_data"
    }
   ],
   "source": [
    "div_real_nonpos_from_nonpos_numer = Forall(\n",
    "    [a, b],\n",
    "    InSet(frac(a, b), RealNonPos),\n",
    "    domains=(RealNonPos, RealPos))"
   ]
  },
  {
   "cell_type": "code",
   "execution_count": 23,
   "metadata": {},
   "outputs": [
    {
     "data": {
      "text/html": [
       "<strong id=\"div_complex_nonzero_closure\"><a class=\"ProveItLink\" href=\"proofs/div_complex_nonzero_closure/thm_proof.ipynb\">div_complex_nonzero_closure</a> (conjecture without proof):<br></strong> <a class=\"ProveItLink\" href=\"../__pv_it/theorems/163cf2ebb3b52e350caedfd1e20bc4614f858ef90/theorem_expr.ipynb\"><img src=\"data:image/png;base64,iVBORw0KGgoAAAANSUhEUgAAALgAAAAmCAMAAABAgaHGAAAARVBMVEX///8AAAAAAAAAAAAAAAAA\n",
       "AAAAAAAAAAAAAAAAAAAAAAAAAAAAAAAAAAAAAAAAAAAAAAAAAAAAAAAAAAAAAAAAAAAAAAAeYafp\n",
       "AAAAFnRSTlMAq1RmmUTNIjK7EInv3Xah18O17eXJ8+7nKwAAAAlwSFlzAAAOxAAADsQBlSsOGwAA\n",
       "A49JREFUWMPVWImS4yoMBCRuzL63B///qYswGB9JnHHwVC1Vk8qkElmIVncLxm5dKAYHdMqxb1jI\n",
       "6xvNfdRxREgzfUPmoOobGTRjNg15JPDb8zahZuoCUPmnMWGtuDtx5RtiEr1O/iqud/+Gm8EiFmgE\n",
       "S89L8locX37nffT7zrlpLRV2idoS0rUwuqQJOYS09ZOkb0X4UnCXCJVcMXHlgbz8KJj80hK2/s7E\n",
       "ue3tlMslJmR4IYz0c5GpCqG2JYQ7E0/Q24lHbzSP5rwPvZ2UitrkdNHS+pX/oB7fBA0reQcd6ALG\n",
       "IuUCLiIn4nSYbDucCCvchSZh+fQYLr2uhkL+Si9inIHBoCXuln6kxFNjcMzKZhZVtmMhrr5+SMhs\n",
       "bWiOM1R+/7EFKtvmZJGq0lyLHytI4Q2yjXbKa9khd6wVz1WELEEi0SHvEpH3ARXaanBvnlKWVHEr\n",
       "gZbpHe/Y/oUsQOh6A1GVA217Cv42UnkiLHuDmpXGbJMQz/ykK9HR7DY3Yul0hrwDF+Ss5Xa3z0FQ\n",
       "tLhoqr6k/44qpKOI+siGp4kf9opMbkos5AkQqdj+wZeMsg/6CXkfCQok6cgPWciVpUp9rT3vVJdd\n",
       "YfxdvCZsUHp4KrzFMZFbK4lWyTmI5hVAFpdJfeK+WnF3LIrtrPJe4jlreNgGoWo0Yn3jXfkeeOYR\n",
       "8cd/mOVL03wwmS9D5ThWyM7j7MQCp1gpvHW48xC9Xh4eY+bWJrvErmYOqDtQasX1oTnPWCXGR8rJ\n",
       "uzS+wVm6qYWb9MpkxDyXRlwdqtCLMc0V//8nUsULytSRsE5HYyUedJBCzRw5yfc4iy+YoK5ZMAdl\n",
       "3u0cBQ46ll0LnlkFjjYnnHpYx610R3cY0oRnrsnsp6kgyaGtIZ7HJFDFX+YZ1RjZsYyviX/DSM6G\n",
       "6aHXtmvJvzIVtvOlWwRw9dM0e/eVnNXmpPEVTtoHt2ZfXRkino+h+zIEgrjMeCjKkiEOdiOq2pdT\n",
       "9G9c7cC2KGmohbP8QEggogcCuiCbOXe+tqZjMOMGzRux3SZVmYY6ileUJbYtY4sAfakq+OpsP1ry\n",
       "xXQlP67QZqJVPEvCMLT4F/38+fy5vgByKSucG3YdEu69hFvVRWxn3Q9XvPV2YmV1moIn/08UfHXL\n",
       "PN/GyUGUGBW7eylYsziOoUQd9O2Jk2ebEzftknxAzNuvx1cDMYcdr38gmsC+Y2lTjaDHMQ90jWP/\n",
       "AgW8HQ3MOnpAAAAAAElFTkSuQmCC\n",
       "\" style=\"display:inline;vertical-align:middle;\" /></a><br>"
      ],
      "text/plain": [
       "<IPython.core.display.HTML object>"
      ]
     },
     "metadata": {},
     "output_type": "display_data"
    }
   ],
   "source": [
    "div_complex_nonzero_closure = Forall(\n",
    "    [a, b],\n",
    "    InSet(frac(a, b), ComplexNonZero),\n",
    "    domain=ComplexNonZero)"
   ]
  },
  {
   "cell_type": "code",
   "execution_count": 24,
   "metadata": {},
   "outputs": [
    {
     "data": {
      "text/html": [
       "<strong id=\"div_complex_closure\"><a class=\"ProveItLink\" href=\"proofs/div_complex_closure/thm_proof.ipynb\">div_complex_closure</a> (conjecture without proof):<br></strong> <a class=\"ProveItLink\" href=\"../__pv_it/theorems/b8104cdaace0ee5256323aff830587fd5932481d0/theorem_expr.ipynb\"><img src=\"data:image/png;base64,iVBORw0KGgoAAAANSUhEUgAAAL4AAAAmCAMAAABNn9GBAAAAOVBMVEX///8AAAAAAAAAAAAAAAAA\n",
       "AAAAAAAAAAAAAAAAAAAAAAAAAAAAAAAAAAAAAAAAAAAAAAAAAAAAAAACXHtMAAAAEnRSTlMAq1Rm\n",
       "mUTNIjK7EInv3Xbt5cmRiLwgAAAACXBIWXMAAA7EAAAOxAGVKw4bAAADc0lEQVRYw9VYjQ6zKBAE\n",
       "lr8F5O54/4f9QEGxoBZzKflI2tgGdFxmZ3YhZN7g7O1KIw2ZPTjNF4par/zQWr3Mxg8yXwinCMEw\n",
       "hgfoXPTaZbzGQdqKZXA9sqnwpS0cCul7saP0dzPpw3ayOExggnidOjPGHm0TUtJCGL6DCmoe8/fg\n",
       "m5BITCVho2jQToNP8UARo88WTviwdLlp8AMcOUi91Yp6/ZisFhcpvdK2sCfu25EADH7InXHeepoU\n",
       "1vCAZZ/ilhG+p7z8XSq8yFTuxRZ12OHzaHx6t278IfXl8H5xgjnbaYHvUxBK9WN/aGPuWbM9LnHs\n",
       "r0kNKeE1sHtHzBfIv+QvM/dJ84T0Z1NFonibQSniLr3m4uwc4elb0mdBrCjRDUCz3oavkoXvSogb\n",
       "tTY3hvlA1EZFInbRvvJq2IqWr881EjuU5LQuzvFyul0lzVpvSX/X7+A3L8yJ8BccTIG3vZKJlidr\n",
       "TxHjDIM0xoVVdo296WSPB8RniiYIoirQwjGqYnrJAyvut2EI694zf5G4Ljsh5/nCmjUE0IfvauOk\n",
       "av+r8ain6Jt219EQvIAfsYMvxgzeqv0p3kfBIh52ydJb2FSXPHn6FmC7kTz9dmyUPG3vIg7dJ+LE\n",
       "/ST5OdPNoipD97Gh9LyKBVNNWVjBz9M5pvFP/EAuLBdoUvdBebzvuS49zPYkYKrYCOeJeDs0WDvS\n",
       "I+XBgLmGn6dvz4eqLna+UbynxlyyjmhIrohJxemngNHMWidSaVRzOfY0INd4xuZSa6Gv4efpNXk3\n",
       "8rRUcU/VsaEoTFtxurBwVXFQfEQl9fxg8sKw8bbyi5y6laRX8PP0RJ5//8OVPBepS04Sa9B1+nRh\n",
       "sS4a7hvOEpVEfREZYhLkyGXAk6Mpu7687ep+mV6VgSuJRWsp/NxpyOFWZQvm0uQ3MG8hJQBLVd6W\n",
       "Qgr1sYGRSVx3yVOmnxw82hY3nYL59F94Vy3iTeHHzqzD1bY6t+gtfTwxMyfAIrwrWG70S3x5R/zG\n",
       "8jvL+B0JvhvipmX7tnHswGdfHNmc2mxJo9+N88f+DyX+ywazPpYyIZqmGe9+3cRjwip0rO9tj+3Y\n",
       "vHOSU323FQHB/kXBr87Ht/NCMSqeXpKpQ0Kt+nxQPJVTc+Gn6naDr8sh/8jiucf7VT9O4cMHvtFr\n",
       "INOH0rm6tHwQjSmy+weSVxvdvnf1gwAAAABJRU5ErkJggg==\n",
       "\" style=\"display:inline;vertical-align:middle;\" /></a><br>"
      ],
      "text/plain": [
       "<IPython.core.display.HTML object>"
      ]
     },
     "metadata": {},
     "output_type": "display_data"
    }
   ],
   "source": [
    "div_complex_closure = Forall([a, b], InSet(frac(a, b), Complex), domain=Complex, conditions=[NotEquals(b, zero)])"
   ]
  },
  {
   "cell_type": "code",
   "execution_count": 25,
   "metadata": {},
   "outputs": [
    {
     "data": {
      "text/html": [
       "<strong id=\"frac_not_eq_zero\"><a class=\"ProveItLink\" href=\"proofs/frac_not_eq_zero/thm_proof.ipynb\">frac_not_eq_zero</a> (conjecture without proof):<br></strong> <a class=\"ProveItLink\" href=\"../__pv_it/theorems/3a217ca19efb4b1af6002869e719c26beaa280b80/theorem_expr.ipynb\"><img src=\"data:image/png;base64,iVBORw0KGgoAAAANSUhEUgAAAKAAAAAmCAMAAAB0+GDaAAAASFBMVEX///8AAAAAAAAAAAAAAAAA\n",
       "AAAAAAAAAAAAAAAAAAAAAAAAAAAAAAAAAAAAAAAAAAAAAAAAAAAAAAAAAAAAAAAAAAAAAAAAAACC\n",
       "gUnDAAAAF3RSTlMAq1RmmUTNIjK7EInv3Xah18O15/Xp87zmPDoAAAAJcEhZcwAADsQAAA7EAZUr\n",
       "DhsAAAM4SURBVFjDzVjZtqQgDASC7DL78P9/OgTZ1B5b7sg9w4NH20ZCpVJJIGTu4Oxj84ww5DMG\n",
       "p/lGUuulH5ip1s+wEES+WZwkRIeRNYHOt0+5bJFxgHCuQ7M1m26gsMXTAa+rHaOhm+1kVl3qNC4Y\n",
       "lg8SeNaoiJmA4QFhcL4Mci4DK4AmIJ2oIGxsRW2nGkh1WykiyFZO+KAIuKkGBmh8p94qSb16zTXz\n",
       "Vx9H5BsRGTzs4Zv+VLp/stbzOjGCTngNLfEsJW/HhO5xFREzsxZLeBR6VZORfpiC4iaAvZhA0nJb\n",
       "TPG4yZKV7cPC7W6qmO4dp+lOQFmI6EKmnng6Ru5pxLLbR+AbfVnhMd64FYez84L4Mh32AJpiIJTn\n",
       "lMMTSfXDiU+Ga8rwBMv64ydeaxxssKtQCrN0I2m5jJeV+D3pmZcvVIYNA9gMtDueIHj2RSJX4hzY\n",
       "XnPaKs/kEIyyM4GXrjQIbRz/tc8tZjNoaQim98z/JURo2YjyVOu4oNE07piVHAlLqoqQx+ZjCB61\n",
       "NxtU527P0Tp4WY27LKGc5xtr0v/AEss5//KVR5mXKF2rGjUwcfDX742JlV9abxpveg6iBBYxNBa8\n",
       "lXUN72l84Us8GlCb32RzcEZQnoPkRhSfOqOtPODiIAWyiCommZZDfexbPI9+rdla1nopIvjtO0cE\n",
       "EzvODDHhfYvEztXNiqmueK5JAa2+xEai4g2p7VkqFGCgbdmUr8cohhdp3PFxAPGr1lPVeHKIXRef\n",
       "Pe0pGMtuEDoNRpRa1PsiqazeS4DR7twxsbe5gR36QIPe1WDyr6gJLprVvpODhJgcwZdRsK82Bb8D\n",
       "4GHY464cUnCJfkwKHCkIepdkpE21mr3TgcN+9+eghvfJVdOTbgLzFpCI8XuKe78VYqqljuhvrm5l\n",
       "mZ1Jy7lpv3F0cKUEbJfRkIODTSPR/MpZcf/vK52Lonz599ph1/IIGjV1tOK0FyXgA/1J36ibECPC\n",
       "jPa5bvLhRwfAphfOD833c7vOLpeX5BXsfwVgd/q2nYIsYWhFL8j0IaBXQT50PiidnG9g7XCxO9sO\n",
       "Ce9PnX88iDDkdEbhoIvvVRTIpwyp8uGM5UMrmiJRfwApthra+4yJ6AAAAABJRU5ErkJggg==\n",
       "\" style=\"display:inline;vertical-align:middle;\" /></a><br>"
      ],
      "text/plain": [
       "<IPython.core.display.HTML object>"
      ]
     },
     "metadata": {},
     "output_type": "display_data"
    }
   ],
   "source": [
    "frac_not_eq_zero = Forall([a, b], NotEquals(frac(a,b), zero), domain=ComplexNonZero)"
   ]
  },
  {
   "cell_type": "code",
   "execution_count": 26,
   "metadata": {},
   "outputs": [
    {
     "data": {
      "text/html": [
       "<strong id=\"frac_zero_numer\"><a class=\"ProveItLink\" href=\"proofs/frac_zero_numer/thm_proof.ipynb\">frac_zero_numer</a> (conjecture without proof):<br></strong> <a class=\"ProveItLink\" href=\"../__pv_it/theorems/de7ec833ab06d7b08e6036df72ad7f40a82d9f780/theorem_expr.ipynb\"><img src=\"data:image/png;base64,iVBORw0KGgoAAAANSUhEUgAAALgAAAAyCAMAAADYxuFLAAAAOVBMVEX///8AAAAAAAAAAAAAAAAA\n",
       "AAAAAAAAAAAAAAAAAAAAAAAAAAAAAAAAAAAAAAAAAAAAAAAAAAAAAAACXHtMAAAAEnRSTlMAq1Rm\n",
       "mUTNIjK7EInv3Xbt5cmRiLwgAAAACXBIWXMAAA7EAAAOxAGVKw4bAAADWklEQVRo3sVaibLiIBDk\n",
       "vmF3+f+PXY4cRDAKJoGq90rLgrRMT08zCMCMIcXYPCUVmDkgHp0p7EzkUK+vtHaEd81Fdh5uzNZX\n",
       "DIXo2z7kGs7Czc2KFKfd07JvvsWTgFu3pWjaPOT7aIvMHJpjs730JOWbR30rMDIFuNkyU63AO2NP\n",
       "PZ+A2+3E4F5n4K5zDTYjP+3+0A247lyjNyuuGMLvNVNlxLR7x1X3jAtqjyneZI6j3uQMcvR8FTIl\n",
       "PWVScNwfePx4eh4VJCsjYf1ey+PHNeWwVTaWfCN+DNwjdtYcd45oB0ccbiT5jh3dv/9GDk58sZHa\n",
       "B4rRTddvZ/xSK/vHq43EngKxbjmXD+TmmABXNjItxBY10uh24AOS3baRKXR4oTa7PzexHztr1jbS\n",
       "x69ibBxG3w/cjRWOho30kTYkbcMT52f9sUgSWwz43kaayA8O13/fjlNtOMFGxmxdw0Zau262picR\n",
       "lgQ6XgjCmf7khYLuNqgHfUncYnyiSmUjbapkyLVSUzgoJY1NGBiYiaT+CniOHA4rUnkOvDs5S03K\n",
       "wANqXAksIYsCaJU+w98Bhyn9kv+oM5GMcbxhIzNVgoSvYu5CZU3F1a0ZrLDILOJt4NuMfB7UmZRx\n",
       "OYPq5BwrzrWNNGxpdSxfznEAZSywasOGOKqeVgDfZhAZx5/wh0MaqWYDxA3qeG0jV8CrRQuPkg6E\n",
       "N3R7KFZYnQDfZmRkeKnIacfdVQWotpEN05OjiVnaQImAEFScAD9weY1Tpkpd35GnV7m1SrOESWwW\n",
       "+wdLcpb6LBszIlX+/pOJKu+SU1x1cnl1a9wAzXJ92Qsp1yn1dFPHixlgN5ohYwPb4Dtdu8GtEUe1\n",
       "cyqZ3I0gSgfeENGmyj7j4Bqi8W9In73IyZ2ZHqVj2NucbOs4+my2obmoyzFYydrAv9jNYytCOQeV\n",
       "0AMHgdEjYHMaot8kFTp6NQddqJb9rmuwlTV+OC37CpjnEPTfCD3fEAKkILkY6wZFij/fgqMvJcgM\n",
       "xXxC0xNYcvweIeZKdTNlwmXK/lAVtDbJY/dh1065eNsO5cgLFSlPUTfdZlyl7FuuSDAGiOD+7vik\n",
       "m06mf83vSbfiwvwWaYvApOF+alLOuxIvf4QwQBQGJg42HG3B5v5gZfiHNjvu/2smHQzRABnnAAAA\n",
       "AElFTkSuQmCC\n",
       "\" style=\"display:inline;vertical-align:middle;\" /></a><br>"
      ],
      "text/plain": [
       "<IPython.core.display.HTML object>"
      ]
     },
     "metadata": {},
     "output_type": "display_data"
    }
   ],
   "source": [
    "frac_zero_numer = Forall(\n",
    "        x, Equals(frac(zero, x), zero), domain=Complex,\n",
    "        conditions=[NotEquals(x, zero)])"
   ]
  },
  {
   "cell_type": "code",
   "execution_count": 27,
   "metadata": {},
   "outputs": [
    {
     "data": {
      "text/html": [
       "<strong id=\"frac_in_zero_set\"><a class=\"ProveItLink\" href=\"proofs/frac_in_zero_set/thm_proof.ipynb\">frac_in_zero_set</a> (conjecture without proof):<br></strong> <a class=\"ProveItLink\" href=\"../__pv_it/theorems/220eda8e51918c578e1f038b656d779f4108bd9b0/theorem_expr.ipynb\"><img src=\"data:image/png;base64,iVBORw0KGgoAAAANSUhEUgAAAPIAAAAmCAMAAADJGTavAAAAOVBMVEX///8AAAAAAAAAAAAAAAAA\n",
       "AAAAAAAAAAAAAAAAAAAAAAAAAAAAAAAAAAAAAAAAAAAAAAAAAAAAAAACXHtMAAAAEnRSTlMAq1Rm\n",
       "mUTNIjK7EInv3Xbt5cmRiLwgAAAACXBIWXMAAA7EAAAOxAGVKw4bAAAD+klEQVRo3t1Z25KcIBDl\n",
       "jtBIEv7/YwOCSCuO7jipYsLDrMVCy6Fvp1tChh6CfUyUVZZ8wRC0PGgKXvtnwqb5CzBzVR6k04SY\n",
       "8PDInA6PeHIFo3U8qXx+KtCw0SErWO07pN8ZHruzG9y0WTVkZ9J5g/xcbBh0VK3akAIXD89F6qCH\n",
       "9uSqZBuSD1JF2OMDGxgZMjXbQaOW2SyIuOOvEtm/xtfE3ciQA99gUA+Tpn663uWVxCFqosa2lh0N\n",
       "ZnNoxsey63esuIY8AC+KANPGrGgrRFQ7UEO59nvRCkruVlGZdtZoLsdslRS/6tyM5crqAWS+/AFz\n",
       "hOzTTa5sG8aiJu46hXozx6E6kLMtFytHkFmIAYEXF1ZDISbhKp1I5e2ZloPI4YAdIOc5l+5qdoNl\n",
       "rHARTHW3Fszw7AqZHyDbZU4ssd+8ST/FE1z2BU+68LN+sBUqb4YMeSk3PcrFy5ym688+TyjT8R9B\n",
       "UeV6GfRiuoATiSD3C3YG+Apy96KWkmuDDMfby3NJwdDj7HQ9yuSpMXGFNTReLmtp2xVkHq9HmoNE\n",
       "Uq8ZL6ie2hQRYRtNYTmXYRp5ShbrhSzDFyajNtDZ5pk/uTRX6I4Q5QHsIoT/APIio9IK1xIoqo8L\n",
       "7mrZ9t47ieKeBVeRAarRZ/5XxMuLqVrgHnR9rfc0yvBrJLF8ypt1FzLaXH0yHcIxLDErEo4L7ht2\n",
       "v19QmJYxmc1YXIRWX04puYS/RFg2pudnS7xoLpTpYy2zQa6bhVkHL/XQzJHEvOBXZ0FzVRcR2/tX\n",
       "VMRtsYyA62QCveZ9IZKXVDR8aT/J+nJuuT2HjDejEtB5JDGfmXcWNMnkqrmn2AvCOSfCWbwIJaka\n",
       "y2hxMRft1tPWDQWNZ8wqY2Sa5HQOGW9Ghr2+p0hsnREvaGLAVfaz1Eh7BtkK8CuoHRWRu6tNjURu\n",
       "i6SQnWzaglUJX20+NcfNrWHj6FQkpgW///QWNEo0KFi5ju9KMCeEk5zOsX2b1CVvlNF6bYIZHY8b\n",
       "xFI0LBUZdPNy3XzwOUkJlthUM3XBnlRgF1H3KM8l5MMCKTjzwJNPshTzc4zQZtqCcrRyMXUNu24+\n",
       "UBFhdxIR2SsLDsUjmgv3ih7vzhgZ6RTP+2K7tStIRthvMN4vOVuJ7PLLg0Ug5c22fYen5ib4Deou\n",
       "71Lu25CRxBtlmxEXBtvHLCgCrYHiqzvvg9xuCt2G3EpkN1rSqDOnaOQwHyjo4RMl8j/rHrWtehsi\n",
       "V7IfaEK7sT/RNBphfb7y4+GH7umiGiQH3QD/uZKbb635W40MTw/sFRl9KN5mZfH0+7J2enjIayea\n",
       "pLYkzq9vSRv+83LT06N8l6ffGYaTbxh6KlUTiKcHtmvO+wueFiPm3MmrwAAAAABJRU5ErkJggg==\n",
       "\" style=\"display:inline;vertical-align:middle;\" /></a><br>"
      ],
      "text/plain": [
       "<IPython.core.display.HTML object>"
      ]
     },
     "metadata": {},
     "output_type": "display_data"
    }
   ],
   "source": [
    "frac_in_zero_set = Forall(\n",
    "        (a, b), InSet(frac(a, b), ZeroSet), domain=Complex,\n",
    "        conditions=[Equals(a, zero), NotEquals(b, zero)])"
   ]
  },
  {
   "cell_type": "code",
   "execution_count": 28,
   "metadata": {},
   "outputs": [
    {
     "data": {
      "text/html": [
       "<strong id=\"frac_one_denom\"><a class=\"ProveItLink\" href=\"proofs/frac_one_denom/thm_proof.ipynb\">frac_one_denom</a> (conjecture without proof):<br></strong> <a class=\"ProveItLink\" href=\"../__pv_it/theorems/3701df6180c708b620b540c8ae942745fa8f756b0/theorem_expr.ipynb\"><img src=\"data:image/png;base64,iVBORw0KGgoAAAANSUhEUgAAAIQAAAAmBAMAAAD3vi5xAAAAMFBMVEX///8AAAAAAAAAAAAAAAAA\n",
       "AAAAAAAAAAAAAAAAAAAAAAAAAAAAAAAAAAAAAAAAAAAv3aB7AAAAD3RSTlMAq1RmmUTNIjK7EInv\n",
       "3XZ/CtNrAAAACXBIWXMAAA7EAAAOxAGVKw4bAAACU0lEQVRIx2NgIACc8ElyZTEQBiwCQIXvpLo3\n",
       "YZfuXUDYCDOQMQwPH/hil2YWIGgCxykgYc5gv0AYh4JJBI1g2wAkGhjccCpYQ9An+hAV5/CGFX5w\n",
       "G0yyfmdYhUMB+3dCQfELFHNTGQ8wbMClZDYBIxgnAAmmH0sOsCrgUmJDwAh+A5Ar/B6oGOFUUq/A\n",
       "AA4OZRzy/QUE44zXgcEVRKfjkLcnIvkmMDSCgnUCDnkxwkbwfWBgA8Y8N67AOkjYCKYfDMzAEGPD\n",
       "Jf+bsBEcnxgYzt69exqX/Gc8+RyafbmAajwYGGbhSnqf0AR874LARQbk7PuPgaGQgR0lnfNNkatD\n",
       "ciQuAM++QM9yLuAOgGl5ODOAa2IBEyzRsn4Fp6//IPABzQh49v0CDNIH8NB0aQDGzjoGBmsiXAHP\n",
       "vkAjGBLsgMQ79ycFfKDkvLgVGAa4jEAKC3j2BYYFwyZgGcpXIMmmsBIkoq6OFJy4YwSRfUFqaoCh\n",
       "ycwwj4MhGCRiZYWk7h+eFAXNvuBYY2wAiQGLDrOZM2cqdEQgKTyC2xWw7MvxFZ7IDrAzdIMYoODk\n",
       "golmEi7rmX5BGTXcCSzA6AU5bEsBwz6YvA/ERpF83EZwX4Bl2af7XjGwzwAxV2dOaYBndqjW97iN\n",
       "4EQtf1fPnBmAIrBegaAR4IIND+B0IGhEPIGCjfkAQSO2ESgMuL4SNOIQoQJlGyEj+A4QMoKngYAR\n",
       "PAqEjGBOIGDEM8JFYzJ+I9iPEzZibQFeI9YqEDaCHdya2o8r8icT0dZiqABiwfOJ2NMgFygxAwCA\n",
       "X6NaBbi/QwAAAABJRU5ErkJggg==\n",
       "\" style=\"display:inline;vertical-align:middle;\" /></a><br>"
      ],
      "text/plain": [
       "<IPython.core.display.HTML object>"
      ]
     },
     "metadata": {},
     "output_type": "display_data"
    }
   ],
   "source": [
    "frac_one_denom = Forall(x, Equals(frac(x, one), x), domain=Complex)"
   ]
  },
  {
   "cell_type": "code",
   "execution_count": 29,
   "metadata": {},
   "outputs": [
    {
     "data": {
      "text/html": [
       "<strong id=\"div_by_frac_is_mult_by_reciprocal\"><a class=\"ProveItLink\" href=\"proofs/div_by_frac_is_mult_by_reciprocal/thm_proof.ipynb\">div_by_frac_is_mult_by_reciprocal</a> (conjecture without proof):<br></strong> <a class=\"ProveItLink\" href=\"../__pv_it/theorems/7de2cbc3c94d88e08c48541adee2bfa9be2bd6430/theorem_expr.ipynb\"><img src=\"data:image/png;base64,iVBORw0KGgoAAAANSUhEUgAAATcAAAAzCAMAAADFGr+iAAAAOVBMVEX///8AAAAAAAAAAAAAAAAA\n",
       "AAAAAAAAAAAAAAAAAAAAAAAAAAAAAAAAAAAAAAAAAAAAAAAAAAAAAAACXHtMAAAAEnRSTlMAq1Rm\n",
       "mUTNIjK7EInv3Xbt5cmRiLwgAAAACXBIWXMAAA7EAAAOxAGVKw4bAAAFH0lEQVRo3u1biZLjKAzl\n",
       "Pg0z6///2AV8CWyIj+4kbC0109Wq5uEgdDwJB6HuhlZvQxttGmJfA9M3opUzDbErtdm3oolrif0M\n",
       "Kt6Mtrgl9jLkIN+NdrQldjKcfzuaDKYhduKlwwfQgrXELsYAw7rxHhtlLbmFbuVQp5Dc3JGPmXcX\n",
       "Yg/Dj9BHwrl77BFzt9B1zia81Vn4F3kuEN2lBgc/MQ3HToMqTjMyd26/MmrXQhWTXOFk7CzCqRFy\n",
       "/fg7E3fRbZOzeZkw+obYAeXdxfXBP0FXLa5cVbuW+P1ZoXS0FKKNuYmuDR4dP1uU5qmA9pUZ1Eiz\n",
       "GptPJmTvoFt8LeVnnHsmbYjfn01lFp2VYUFvnNxBN/SrrfbWqZatDl1lVJ0FKMO8R4RRcgvdqEdj\n",
       "SSD4ywC3qY58ufUN+mNoO+5EtqpWfHe0MyP7GJqOvBTVYnBSf7e5qUe06UfRSRRzyj1f531mkJF8\n",
       "DF1YaxLpHNbEd6stOIf6GBqNeC8OLo7Bfrne/CO2maEvd1LQqPciSyfx9Vc19kw5zRwYuIa+2kkJ\n",
       "tiX2osTLjx8Yzaz1euONGexRGwKiL3dSEHLuQIymZvk989cMe1gHt5Ly9Axrvb0zA2ccaszGiap+\n",
       "rHdSzCiO1s0UlbPmSST+YlZQHutQHoYaEYejI9qe0ttk0jQ8jOsbM/D4xA9KdNZJcS+53aHegtLo\n",
       "FXbD2JybrEkwek5vOEXmIWIrIb45gz2KbwX6Uiel5qeBui0kznsmw795cY9hZ0A5IXmwMr+EBUPV\n",
       "5N3yUG8FnCftyvT5B1KsWZ8BIvuTfArQVzsptbwQ7xXn3XmJsEaCzNkahS2o1UKZ4pbFx65cUpLd\n",
       "VjRI9guc6Tj+hP80UO2olfUScl6zMQMwiYKBFefyioeou52URkMEz4uGD6s9mgVp4q2+BxYk4wnx\n",
       "dUfUUFPXWwGfrXTSCogucj312owKcy2P9TTvvdpJSemCtURUBJb4NgX2IB2kTyCScWiClOKqrrcc\n",
       "vljp5IVb0aP85j7HMzYzyVP+/ljbdRZ/4OVmtA0x7WMA4crxOUpPfkHTZY/aMHNegKwLbmOBRy/8\n",
       "+49OXlhE/XnNxgxQTJeuWxzri8r8SZfsqK6HRzggKxJ3NUk5ToXEg2ZJCqISPdgqC2lTCrEV/rbA\n",
       "45PW+OAjy8DlmkczXvhKeazXPO1RV2DXJGCeW+9NNLv4lxAEtECzxAwdUotObq/eGRuclqmKny7w\n",
       "vIoLrJaZcs2jGTsuUHJMcC4nmMSTvkVRG7dK5bArE/6q6SIB97bRo47jBdAbhPvjJwDhtb/tLvLA\n",
       "uaDr6AesuUHBuUmxg4tVOjeA3jb4YTWSr3li/7QgvuBc0HV0NQV4lu4Bs0BRNNkbPXeagvZSJ56P\n",
       "qZD3rnDCK0/YTIefCc55VAHngq6jqwQZkSGpGcb9PA/IX7iw/807ioJ8budyB11TL5naS1hnttrz\n",
       "vTNiw2FH5Ba60chKlDvj3TivTnFn7znwR9z1LJrHQJi/hFP4ZW/v1Zzo9/wAOnXm/FBPKbS397ge\n",
       "fuKTaI2XH6vC88jo+nul/Nnl0Tk0w9FXadGrq4r/G9ySGXAoV6BuNN7bY29DQJPJmp6X0U0SJ4o8\n",
       "URU7GQp+c2Nuet5EN1RmYLfZ5XzZEdTjyPtt0j5BH2ddn3+L67/xPaN8T8o/QVf6GdQz4PtFJccF\n",
       "6nUIshVa81vzt9DnPFuYhtjXWNp/oOl5A32uOZLryfSsti0tbE3P949/AT2xMW2noniJAAAAAElF\n",
       "TkSuQmCC\n",
       "\" style=\"display:inline;vertical-align:middle;\" /></a><br>"
      ],
      "text/plain": [
       "<IPython.core.display.HTML object>"
      ]
     },
     "metadata": {},
     "output_type": "display_data"
    }
   ],
   "source": [
    "div_by_frac_is_mult_by_reciprocal = (\n",
    "        Forall((x, y, z),\n",
    "        Equals(frac(x, frac(y, z)), Mult(x, frac(z, y))),\n",
    "        domain=Complex,\n",
    "        conditions=[NotEquals(y, zero), NotEquals(z, zero)]))"
   ]
  },
  {
   "cell_type": "code",
   "execution_count": 30,
   "metadata": {},
   "outputs": [
    {
     "data": {
      "text/html": [
       "<strong id=\"numerator_frac_reduction\"><a class=\"ProveItLink\" href=\"proofs/numerator_frac_reduction/thm_proof.ipynb\">numerator_frac_reduction</a> (conjecture without proof):<br></strong> <a class=\"ProveItLink\" href=\"../__pv_it/theorems/df2619047577d32569fa40084e6ef8e35dd81be20/theorem_expr.ipynb\"><img src=\"data:image/png;base64,iVBORw0KGgoAAAANSUhEUgAAARcAAAA1CAMAAABcHl9vAAAAOVBMVEX///8AAAAAAAAAAAAAAAAA\n",
       "AAAAAAAAAAAAAAAAAAAAAAAAAAAAAAAAAAAAAAAAAAAAAAAAAAAAAAACXHtMAAAAEnRSTlMAq1Rm\n",
       "mUTNIjK7EInv3Xbt5cmRiLwgAAAACXBIWXMAAA7EAAAOxAGVKw4bAAAEeUlEQVRo3u1biZKrKhBl\n",
       "3+n7Hv//sRcxLiAYMletUDXUTCqmsNG2l3OaFqFxBwCT8Q/9jlwtEmGNBPnVRD4oQhqQ+lXEPPRO\n",
       "E+FaJzLaDKsWTLfvyiF0qWaUH1Ux2C7fpENWIMQuFU/8oDFFbN8ZcAtw8QO2eES1SHd7VvZ0QL14\n",
       "uH0J4sYLMdTtDsI6rl1EsOH04uxF+RgAG2VtFRLyMBqChnCRiUeLAAyI1ZOPGC30+osumEaDoFHH\n",
       "uB5iSRgrwqhwEeafxDDR9rIAQ+kFuytD1cm967HAnSvciMP0w898KwVX0/AXOlTkVYEWSQXFQKA+\n",
       "NyKj+Wx7tulII2E7KJ6iNBOZAf05cgvKsKgXTnot87vrC67GIfHnMdIwAEQYJacBZlMN+W7rcQfL\n",
       "8Dz+ekddykYIzfiKZ7462phwwOdexfh5C98IHKnFYKT+anNRR1QRfUGL29YSr2xlv7uATEJ5fSba\n",
       "t6a32SZ9iRZfrZZo22UkiSGX33TRYXIi56dxFVd9Kk3HPEvhrmsOU0xh6UF8eyncdrE55nfj5yjE\n",
       "TXYo8fJxDYU/8dv3nt0W/CTL9X4xFct/Zt2aYZC7THGW1OY1rG2b/8kMHB40Tp8wJIEPo64CrCPJ\n",
       "iEwDR6cn2nbpZTZJGhfj+vMZuV5CPt7Gi55x0EtUCv0ETjP2Sg3WpNNon15wCpwJoDYI69kM9mR8\n",
       "mf0oQpcFxGQtAgWRV15IHq0EFsxgqJq9T1b1UpzOk/Zkuj1HCpntGVvcfRCOu9l95EIgsxaBksgz\n",
       "xS2bnGeFWpIcrlVX6gBMT+NP/KcRSk53vW7SvGSezNjy9IM79Is+8GvNrEXgSOSlTbBhhVqGmrZe\n",
       "itNfVjbf9a5aJlcnbM1o4bobx5GLZY5dEHk1RxORHq4mSCmu2nrJT1+sbPaSDdMr2MpF9RkrD+CP\n",
       "qcWEQz7MWgRyIj8ZioyesZ3zirt71KErdYDJS/77XycvKaLqS+bJjFa57kmOurUIGLsn8ulICqJS\n",
       "+tyQsbQpRNsGftnVAVbWHiN71AYuZdZmvLftxzjq2iKgUj5YiHw6Yoa6VKKRW2eOsdGpmGr40a4O\n",
       "sGMZEbUxU8qszShz53PEFk5yH8mIfKY/YyeLr7u7rtYBCNRX2B28BVCXbpO8WaoNFLnZE3nezU10\n",
       "tQ4gGits470x0OcIkmujU5oR+f6Qp2t1AMIbK2zmwjuCYZmilI8RTHZdmwE2zTM1CHwQI2/YcLwR\n",
       "lJa7F0aA1Z39TRYRl2yuorKDmLH21RArAow0CSp0JV4yNy/gioMcxeCx9mH5EdmZPrVMACsB6BVF\n",
       "myDaYgbbt0e+RDASPlCqyToi9rIKMXSwPo/DBSem1nkPqa8Dqqm+FOOHa8nMa/Mk5afOm9B4+TjA\n",
       "qELMeH1kucEobTVY38myGZ7uuJLTD2L0gB28wu5Tb8y9opdkGxzJRc0SSjE8DNgKr/6pr9n2MCw/\n",
       "5Hs7oH+uEuM6bnnMPvj9exOfpXjoO5ULNOj42ftphALrCEVKjPsCkr6vzms2tfwFnOAp/J5GGf0A\n",
       "AAAASUVORK5CYII=\n",
       "\" style=\"display:inline;vertical-align:middle;\" /></a><br>"
      ],
      "text/plain": [
       "<IPython.core.display.HTML object>"
      ]
     },
     "metadata": {},
     "output_type": "display_data"
    }
   ],
   "source": [
    "numerator_frac_reduction = (\n",
    "        Forall((x, y, z),\n",
    "        Equals(frac(frac(x, y), z), frac(x, Mult(y, z))),\n",
    "        domain=Complex,\n",
    "        conditions=[NotEquals(y, zero), NotEquals(z, zero)]))"
   ]
  },
  {
   "cell_type": "code",
   "execution_count": 31,
   "metadata": {},
   "outputs": [
    {
     "data": {
      "text/html": [
       "<strong id=\"div_as_mult\"><a class=\"ProveItLink\" href=\"proofs/div_as_mult/thm_proof.ipynb\">div_as_mult</a> (conjecture without proof):<br></strong> <a class=\"ProveItLink\" href=\"../__pv_it/theorems/4a94c3d03fbdfc3a8b944789783e21f660df71d40/theorem_expr.ipynb\"><img src=\"data:image/png;base64,iVBORw0KGgoAAAANSUhEUgAAAQsAAAAyCAMAAAB8iQ6xAAAAOVBMVEX///8AAAAAAAAAAAAAAAAA\n",
       "AAAAAAAAAAAAAAAAAAAAAAAAAAAAAAAAAAAAAAAAAAAAAAAAAAAAAAACXHtMAAAAEnRSTlMAq1Rm\n",
       "mUTNIjK7EInv3Xbt5cmRiLwgAAAACXBIWXMAAA7EAAAOxAGVKw4bAAAEaklEQVRo3s1biZajIBDk\n",
       "vu3d5f8/dsETYgRGR5E3kzd5kxYsuosqMAh1b1r17N1og17TMO3bvxpeAwa2vUdAhpdAQUX/MVj8\n",
       "Ciikky8YxUDfgMUAbxgFcS+gDOreUamC9R+DS4jTAGCjrCUdxsF991IFn+RmmBrAgFgXVhfd6XNI\n",
       "RkDDzNCATR+5QXxnxlA+UZzxT9ZtgTW+M4njT+Z09w/IHAga3VlwOfyFwUxjslJ+KhUBhoWd8sv1\n",
       "ZU/laWqR+JQnjZKcnF0FZ8Ut9WeRdNVbkE4F8cqwgAVvW1LNaWZZ3AeFcpI+7NVTujAMIEw2bVQX\n",
       "ml7FAn3Y00gYGxzk4Sxx+oKNue5KIU8E6wOJrBwknmUP488LX/YDo6/00mSGhcklBfUcqQUeqZ9N\n",
       "C3VhSff8el4gQXfDETM8TxsB4sl5GM0vYMH0Lk3pDM/Tmo/60/uccFoYSSu8nfMRctLxsUDcEJt7\n",
       "eq8NzqsbLGrW1gCLU2xw0Zxm2eVjmrBxfh7fDrb1RGdD0pLb0rpmbS0ibsy9VjsUUiICLPHycpLU\n",
       "i6vFcdj5op8d9rG1VWQCCJfWA5kz8DAsKWGbmRk0wyCTNaDU33RZa2FfgTibM5+0utdn362t8WKd\n",
       "gdHnFc2e+cBipA8CdeZUgHWwDME34DAbRNsmLKZsi3KX6zIWZ3de8rsdWEYGqkjPMv/vhEUAglbW\n",
       "esbmOGvGT9I2LPBIjy7G7piSneeLDYtDazvmC7jyyiz3NRKkxSIyAJgMP3NHo0yNv0BX+6+mxJJf\n",
       "sdgiprd2wj9e3JEdd55fR3TV2mq8vLSuI07M8n4OAhn7EWRel1D4tHKx11WpSLK7A52sZEsEG0Xv\n",
       "n/BLZ2W0O4OAC/rCVa0tw/Fmiw7rYxN+wQDPwwqxGtD8Rpqo0SDcKl+vSQ01x1hsEdOQaaISdzR2\n",
       "QWtNM1q0tgZbYOXMY3nWfLFHaXw86wzrN6JiMjcEKcXVMRZbxJTDC0fFke8UN7lgKlxTqC0vCLkf\n",
       "MX5XajHBVzQGPhGf2j42c2eqG1IslohYI3//6bFGDrhTXdhJqvrUCINxpOyTTckqSjdeJCSLGTsb\n",
       "VEjHXJRKOzKrPdAXawTaDHAg5JDWexq74NlVbf8ink1WTvApLltFBtwCxJV5xDQUoxaTn18rw9hQ\n",
       "MEwd1MgakYn6oLXYft0bLrhBXPG4hAKr1NEgm+1R6MzIdTPN2Jjv36+eYJFEkOruBL5wmGouu+pP\n",
       "RVWQftyMJMgb+kywSCLqgTQr2BZnmU7VRVu927kq7DjGcXEKLT2mWmuNIHWmV1mFtjjLbID8Ehaf\n",
       "NSt/5+DstHxMt+GbnOWtO0t9T9qZy7x93Vne2HDnM0Seqa0GZ3lj6322nFjsNmd5Z4n0fkopG0GD\n",
       "s7xxVvo/ypduODc4yxurtf/jhGliNDjL25p+wxOewv7EWd6XFm94DFqtz7o2OMv72IKgN7R146fB\n",
       "Wd7VXvIM9Hb/Dc7yrgoR6C1NdE5QJV70BZLO36XZoPgPoHskYxhr0Z4AAAAASUVORK5CYII=\n",
       "\" style=\"display:inline;vertical-align:middle;\" /></a><br>"
      ],
      "text/plain": [
       "<IPython.core.display.HTML object>"
      ]
     },
     "metadata": {},
     "output_type": "display_data"
    }
   ],
   "source": [
    "div_as_mult = Forall((x, y), Equals(frac(x, y), Mult(x, Exp(y, Neg(one)))),\n",
    "                     domain=Complex, condition=NotEquals(y, zero))"
   ]
  },
  {
   "cell_type": "markdown",
   "metadata": {},
   "source": [
    "### Equals and not equals"
   ]
  },
  {
   "cell_type": "code",
   "execution_count": 32,
   "metadata": {},
   "outputs": [
    {
     "data": {
      "text/html": [
       "<strong id=\"div_eq_nat\"><a class=\"ProveItLink\" href=\"proofs/div_eq_nat/thm_proof.ipynb\">div_eq_nat</a> (conjecture without proof):<br></strong> <a class=\"ProveItLink\" href=\"../__pv_it/theorems/4c3da9fb5fb6385e62e86f5982a848b8af4e398f0/theorem_expr.ipynb\"><img src=\"data:image/png;base64,iVBORw0KGgoAAAANSUhEUgAAAPgAAAAmCAMAAADeO6ZmAAAAOVBMVEX///8AAAAAAAAAAAAAAAAA\n",
       "AAAAAAAAAAAAAAAAAAAAAAAAAAAAAAAAAAAAAAAAAAAAAAAAAAAAAAACXHtMAAAAEnRSTlMAq1Rm\n",
       "mUTNIjK7EInv3Xbt5cmRiLwgAAAACXBIWXMAAA7EAAAOxAGVKw4bAAAD2UlEQVRo3tVZiXLjIAzl\n",
       "NLd21///sYswGEycmDTuTGDadJgiwUNPFyFksiHYR+J2sWTKIWgGAECtdm7kGiwIjn+SqA5TIudL\n",
       "uQBCgAIRYUDIEeZRdt1U0Alxa5/NxRUCsYTyASG23Q8129yw+YAvroBBoy+Dbk2IB5I/cO6nIztb\n",
       "2yMXINdDopxedRcn5hnBHdBEutsh4yVugC9ThZJTefhucGskoT7FrZFhaPnIczcX8BKdkPPaighc\n",
       "jsUp5LZcaxzkfi7g9ehWABAm+GB8ttSBaPit1ihYCcD4tzP9E9d0bQ4IsQwQcs8VX+7yuQD5GWbr\n",
       "WRftdDG5Mt/u4ssPBUPMe/QQzwDvsFTt7tsLGv/T9Ms4VF6X4BgZlF17+XLcZHU3hgu0sg84/Nfn\n",
       "tvW+4GuTLpFKOXNPASs+PtOzf6Qc9HLr0IwLt1ix3FW0fLw5VBBOYjnQyH4aIV1yRufAndPzVrdB\n",
       "Yzv5josANbFoJIwSF2WFvQ34dv882kOah06jHnFtxjXIk7VrYiaD90KbEHoPl8jt1jgfAqeplvCo\n",
       "vy9X7rW4yAGdl17VcXD7jgBCxZ9844DWiL+wBxmmmVTwFPhBfDdcUXO2oXSbNyOFPHsT+Ns+jik8\n",
       "J3MbVFMZgsK+YGH54YrE82gfO6OaDnWkOpNPgO/iwpTBqxpy3HBb8yet2bqwwPvgdmNJnXWpEp6E\n",
       "IPVQJP7TAMm0VpaFCMYQyVvgkepgzoEfxPfjFzVnG2YubcD7dwa7wm249wxB8/G8xDe89mYaomLV\n",
       "R4HwZbMe24Bbd4gPRx8/ayuympMNC5c2qj8w24vbgOtVdpcaD2p4fdZAY+xnDzKFHe0OFo89MTwD\n",
       "nsVbqu9qug1xzd9/ec1pcCPLfc3E8Q0LLxU9TnKLdowOkPoakayKJ9YxpRxKHZ7u7UCRergq3rUM\n",
       "WU1Sum9ImnYpRsV4nw/hSdz3fOD6V2kZe3twHG0ViSZAOgCbZ9j4myW1cdleOmyd7DnwKt7ddlaT\n",
       "lO4bHmvHWMAI+9iW3vY6al4EfdbPbGLlloKQkucVzyUdq5p+i6vYZe9L5C8ShLT9LAYkeV3mXAKv\n",
       "ao5bDJRQ5q7oJl+85fCHmeQw0MBdAq9qjluw65r5+EaoqAM1mOG6te4XWvDffL6ybRKSHn1mzO37\n",
       "tX62L5EaS1mfOuowdGHdWpjsdZnU/B9hpE4rDL2e9Gv9fN8a7t8SE2967r+4ruNaWMh8Y+Ft4T72\n",
       "4NytVV5NCBy7uZrT6UKYGgDerrVhwq/H0V65gY59H2FBDL3xHdYaTuYcaotvloLTioIeoUmz1hZP\n",
       "/w/OWCIu7f/LQAAAAABJRU5ErkJggg==\n",
       "\" style=\"display:inline;vertical-align:middle;\" /></a><br>"
      ],
      "text/plain": [
       "<IPython.core.display.HTML object>"
      ]
     },
     "metadata": {},
     "output_type": "display_data"
    }
   ],
   "source": [
    "div_eq_nat = Forall((a, x, y), Equals(frac(x, a), frac(y, a)), \n",
    "                    conditions=[Equals(x, y), NotEquals(a, zero)], domain=Natural)"
   ]
  },
  {
   "cell_type": "code",
   "execution_count": 33,
   "metadata": {},
   "outputs": [
    {
     "data": {
      "text/html": [
       "<strong id=\"div_eq_int\"><a class=\"ProveItLink\" href=\"proofs/div_eq_int/thm_proof.ipynb\">div_eq_int</a> (conjecture without proof):<br></strong> <a class=\"ProveItLink\" href=\"../__pv_it/theorems/2255fc1d8e97b85e633f44e6b62dced0fb7fd3810/theorem_expr.ipynb\"><img src=\"data:image/png;base64,iVBORw0KGgoAAAANSUhEUgAAAPgAAAAmCAMAAADeO6ZmAAAAOVBMVEX///8AAAAAAAAAAAAAAAAA\n",
       "AAAAAAAAAAAAAAAAAAAAAAAAAAAAAAAAAAAAAAAAAAAAAAAAAAAAAAACXHtMAAAAEnRSTlMAq1Rm\n",
       "mUTNIjK7EInv3Xbt5cmRiLwgAAAACXBIWXMAAA7EAAAOxAGVKw4bAAAD3ElEQVRo3tVZi3LjKgzl\n",
       "ad66d/3/H7sIYwzYjUnjnQlMm45TSXDQWyZksiXYR+x2sWTKJWgGAECtdm7gGiwIjn82Th2mRM6X\n",
       "/QIIAQpEhHseR5hH1jWLoBPi1j6riytEYgnl9zxsux5q8heGzQd8cTsaVPoy5tWEeCD5I33hpzN2\n",
       "ttZHLkjulkQ2veo+TsyzgmvgRHO3I8pLpgG+PCvknMrDi8KtkYT6FLgGlqH7x/6Fmwt4CU/R5rUV\n",
       "EbgcilNo2nKtwiD3cwE/zm4FAGGCj8VnSx2I2rzVGhkPC2D82y39A9d0TQoIsQwQsuSKL3f5vQL5\n",
       "DWbrWR/u9K5yZb7dxZff8YWY9mgbzgDvcK/a3bcXNP6X6ZdxOMy6BMdoQdm1ly/HTVb3YLhALfuA\n",
       "y399blufC742yRKpljPPFLDi4zP99I+Ug15uHap14xYrlruK7h/vxxtvnIg/VVH0IW6XvNE5cNfm\n",
       "+ajboLKdfMtHgJpYNZIQM6CzYB8Dvt0/j/qQ5tRqHEdcq3WL8Yp0Tbpi8GZoEyJ3OhzbXVX73ofA\n",
       "aaolPIrvy5VnNS5yQOe5xbOOgys7AggVf/KNA2oDf4E3Tt24dQ28YS+KK2IuNpRu82Y0Ic/eBP62\n",
       "j2MKz8ncRts9KkNQ2BcsLE+uSDyP9tga1eWUYvoH4IVdmH3xSky74UbzX6LZurDA++D2YEmdZam9\n",
       "NhCCHIdCQzZAMi5lWYhgIjBZHSDiaKNQBbxhL8cvYi42zKa0Ae/nDHaFx3CXDEHz8bzEGV59M5Wh\n",
       "YtlHAQd+m/pY6oedbcYBrY9ftRW7mPOGuyltpn6ybC8eA65X2V1qPKjhBw5URjl7kFvY0YeOJdOo\n",
       "JPcD8Mxem/ohpt0Qaf7/k2kugxtZnmsm2hkWXip6nOQ2xhx0gNTYCJKe4ol1TCltreNSZJPhytQP\n",
       "9q5nyGKS0LIhqdqlGBWj0FN4Es+ND1w/lZaxtweHSQpjqgDpAJN0esLG3yxbH7dnM0opOLPQSx8v\n",
       "7N1tZzFJaNmwrR1jASPsuS19bDpqXgR91j/ZZJU5B6FNXpY8t+ZYiem2uItd9rlE/iJBSNs/xYAk\n",
       "78ucW+CHmHaLgRLKPBXd5ItZDj89SQ4DDdwt8ENMuwW7r5mbGaGiDtRggutp3T9owf/l+MpWSUh6\n",
       "dJkxrz/R+tleIh2asj411GHovnpamGy6TI78T0TKq2FoeHKi9fO9NSxvib3pTP/VbXW0sJD51sKr\n",
       "un1s3tzTKq8mBI7dXEnpdCFMDQBvaG2Y8PU46mtroGPbR1gQQyO+ltZwMudSKb7ZWCprRUGPWElN\n",
       "a3dX/wsBgSIoQZ/eYQAAAABJRU5ErkJggg==\n",
       "\" style=\"display:inline;vertical-align:middle;\" /></a><br>"
      ],
      "text/plain": [
       "<IPython.core.display.HTML object>"
      ]
     },
     "metadata": {},
     "output_type": "display_data"
    }
   ],
   "source": [
    "div_eq_int = Forall((a, x, y), Equals(frac(x, a), frac(y, a)), \n",
    "                    conditions=[Equals(x, y), NotEquals(a, zero)], domain=Integer)"
   ]
  },
  {
   "cell_type": "code",
   "execution_count": 34,
   "metadata": {},
   "outputs": [
    {
     "data": {
      "text/html": [
       "<strong id=\"div_eq_rational\"><a class=\"ProveItLink\" href=\"proofs/div_eq_rational/thm_proof.ipynb\">div_eq_rational</a> (conjecture without proof):<br></strong> <a class=\"ProveItLink\" href=\"../__pv_it/theorems/0fc61531b05a1f56fef3f7ee981471bfcd4330610/theorem_expr.ipynb\"><img src=\"data:image/png;base64,iVBORw0KGgoAAAANSUhEUgAAAPoAAAAmCAMAAADaznZbAAAAOVBMVEX///8AAAAAAAAAAAAAAAAA\n",
       "AAAAAAAAAAAAAAAAAAAAAAAAAAAAAAAAAAAAAAAAAAAAAAAAAAAAAAACXHtMAAAAEnRSTlMAq1Rm\n",
       "mUTNIjK7EInv3Xbt5cmRiLwgAAAACXBIWXMAAA7EAAAOxAGVKw4bAAAD4ElEQVRo3tVZiZLjKAzl\n",
       "NLd2x///sYMwYLDdMel4qgI1ky4nkuChWyZkuiXYR+x2sWTSJWiGAECtdm7gIiwIjn82Th0mxc6X\n",
       "cgWEAAUiwj2PI8wj65pF0CmRa59VxhVisYTyex62XRA1+QvDZoS+uIIHFb+MeTchHkj+SF/4CU2e\n",
       "re2hK5a7JZFNr/oYL2ZawXWAotHbEQUm8wBfnxVyTubpVenWSEJ9CmEDy9DyUb5ws0GvgSpavrYi\n",
       "QpdDEQsNXK5NQOR+Nuj76a0AIEzwsVhtqQPRGrlaI+NuBYx/v71/4KKuSwchlgVC1rzx9a5fapLf\n",
       "oLaeHQOfLmpX5vtdffkdX4hJkPaBDfAWSzXvvr/E8b9Mx4zDbtw1TEYryi6+fD1ysroHwwZq2gdc\n",
       "foJMtz4XiG2SJVJ9Zx4qa8XHh/rxl5SRXu4dmnXjHCsWwYqWj1+c0xlBaZsaPg2WLjmlc+B+MNJH\n",
       "nQcV7uRbngLUxEqSKIcCXFtYfAh9UwGPKpHm3ITsh1ybdYvyinRN5sngzSAnRO6BnELQlnP1FPTN\n",
       "gjzKP9Uvz2pd5ODOoRgwB1e3BBAq/st3DqgQ/A8l2mjN0o9A4BJ6x191V+Vc7Cjd5tTo8J69C/1t\n",
       "X8eUnpO7DaqpFkFhv7Bs+1kg8UDaY9NUqyu7XcIP0Cu/MGXxRk6/40bzX6LZGrTAT2HuwVI7y1Kl\n",
       "VhCC7Kci8UcDJNu2sixENBGZrAcokKFpHRvoHX89f5VzsWO2pw36aRBhV3gMec0WNJ/PS5z1tXfT\n",
       "WCuWghRwMLhpkBF5Y/AX/trIOe9Y7Gkz+LN5e/EYdL3Kw7XGkxq+Dz5QH/XwQW7xR+8qvgtzmb81\n",
       "+F1OvyPS/P8n01yHObI812b0ky68VnQ8yW0MPugGqeURJD3FI+uYXvrqRyeFubbd3U+38x+aiSwn\n",
       "Sa07kqaTivEx+tU5TonnBgzuOMOWsfcHx1FdUZ0CpAOw+QkHA2bZejy9x+cgFqqvS5rKf7jwLCdJ\n",
       "rTv2BWUsaYS9aFofm6SaFwmAHZ9sMs1Sw5lU0iSb113cvbXJRs5hj9sgZp9L7C+ShbTHpxiZ5FXh\n",
       "IxiP6h2Hvsvp9xipqsxTcU6+mPfw05Pk4H6oarl+Q+u7nH4PNlBKd9NERR2owXR3pHX/okX/p1Mu\n",
       "26Qk6dFzxrz/ROvne/W0a8v61HCHoRs70sJ0s2iyFwREpDwbhgYsJ1o/4/vG+o7Zm4MDvLqvAy0s\n",
       "ZMa18KaeH5tOH2mVV1NCx1avpni6EKYGoHe0Nkz5eh11tjXYsSckLIihWWBPaziZdakU6SwFpxUF\n",
       "PWIpLa0tLv8Xyp4i2SlQiTEAAAAASUVORK5CYII=\n",
       "\" style=\"display:inline;vertical-align:middle;\" /></a><br>"
      ],
      "text/plain": [
       "<IPython.core.display.HTML object>"
      ]
     },
     "metadata": {},
     "output_type": "display_data"
    }
   ],
   "source": [
    "div_eq_rational = Forall((a, x, y), Equals(frac(x, a), frac(y, a)), \n",
    "                         conditions=[Equals(x, y), NotEquals(a, zero)], domain=Rational)"
   ]
  },
  {
   "cell_type": "code",
   "execution_count": 35,
   "metadata": {},
   "outputs": [
    {
     "data": {
      "text/html": [
       "<strong id=\"div_eq_real\"><a class=\"ProveItLink\" href=\"proofs/div_eq_real/thm_proof.ipynb\">div_eq_real</a> (conjecture without proof):<br></strong> <a class=\"ProveItLink\" href=\"../__pv_it/theorems/f2a4d4af6083b13cf8dc0e9c1764a0ede3be5a820/theorem_expr.ipynb\"><img src=\"data:image/png;base64,iVBORw0KGgoAAAANSUhEUgAAAPgAAAAmCAMAAADeO6ZmAAAAOVBMVEX///8AAAAAAAAAAAAAAAAA\n",
       "AAAAAAAAAAAAAAAAAAAAAAAAAAAAAAAAAAAAAAAAAAAAAAAAAAAAAAACXHtMAAAAEnRSTlMAq1Rm\n",
       "mUTNIjK7EInv3Xbt5cmRiLwgAAAACXBIWXMAAA7EAAAOxAGVKw4bAAAD2klEQVRo3tVZiZLbIAwV\n",
       "t7nU1v//sQUMNhAnJhvvTKDb7DArCR66FYDJFqcfsRtpYMrFSQaASMxi7cgzGOQs/kqsi58SOZPl\n",
       "AQCQIHA/wGSBusi7biLIhLgXl9XFVARigLABJrq9D9HbXtP5gEtbwESly0G3BnAI+SPu3XTGTtf6\n",
       "ygXI9RKRb1mXLk7Ms7xt0ARzN0PKS7aBrmxV5JzKw3eFGy2AuBS3RpYm5SPv7VzAS3SKNr8YHoCL\n",
       "sTgVbVusRxxkbi7gx9UNRwTK2WB8NsQir+xbrYHxMADKvt3SP3FNW+cAH8oALvZc8eUunwuQn2E2\n",
       "jnbRbikqV/rbXVz+kNGHvEeaeIbxDUvVbr+9oHE/Tb+U4WHXJTgGC8quLb8cN6z2xnARtex8XO7r\n",
       "c9t6X/A1SRZPpZy+p4DlH9/p2R9SDnp5tK/WhVussdxVpHy86zveSk5kUzJ/GiFtckZr0Z6b561u\n",
       "E5VtxTsugkSHohEwloxW2fuAb+/PwlsK/dBpHFdcq3UN8oR2TZZJ8b3QxnnuczD8A2bwPuAk1RIu\n",
       "yu/LlXs1znNAZ6VXtQztfiIiV+EnvzhGbYT/uAeZBBwNfwK8Yd8VV8ScHSjs5s3R0R19E/jbPh5T\n",
       "eE7mxquqMkQV+wJJ8+AKwn0WFzqjA1kwdaWRnQPf2bkuix1ioD1wo/mTaLYuzLM+uN1YUmdZqtQG\n",
       "nMNxKQh/1AjZrJWhPoDRIFgFnGvbGne1a9j36xcxZwfmJ9yA93MGs+JtuPcMQfL1XIxYtZXUjhar\n",
       "PoLA5KY9upm6bVvD9hnO2oos5uTAYkubqT9YtuO3AV9W0T1quKhmx1gjKmO/uxcp7CwWah8Xwppn\n",
       "wDN7beq7mO7ASPP3X6Y5DW4g72sm2hlWfNTocYKZEHOiA6S+hkPahRsvIaU0pc6Wzp4Et4O9axmy\n",
       "mCR0PxCqdilExRDnHsITv298YPuptAi9PVoWdRUMjaOwiCbvYuOvZWrjsr6ERGnB8HrcWWllZ+9e\n",
       "O4tJQvcD29oxFDDcPLalt01H9YugT/udSVa5paBokucVz6U5HmL6I65il7kvkb9IEML0uxCQxHWZ\n",
       "cwn8ENMeMVBC6buim3gxy2EPO8FwoIG7BH6IaY+g1zVzOyNUxKIazHAdrf2FFvw3x1emTkLCRZ8Z\n",
       "c/ue1s32JVKlKeNSR+2HHqyjxcmmy3Dk/wAjdVp+aHrS07r5vjXcvyUGp3vbf/FcLS1KmG9JVhfu\n",
       "YwPnjlY5NSHw2M0dOZ1IoGoAeE1r/IRfj0d95QY69H1APR+a8TW0msGcS23xzRC0iyK4jJhJRWuK\n",
       "p/8H4lAizdrO6dMAAAAASUVORK5CYII=\n",
       "\" style=\"display:inline;vertical-align:middle;\" /></a><br>"
      ],
      "text/plain": [
       "<IPython.core.display.HTML object>"
      ]
     },
     "metadata": {},
     "output_type": "display_data"
    }
   ],
   "source": [
    "div_eq_real = Forall((a, x, y), Equals(frac(x, a), frac(y, a)), \n",
    "                     conditions=[Equals(x, y), NotEquals(a, zero)], domain=Real)"
   ]
  },
  {
   "cell_type": "code",
   "execution_count": 36,
   "metadata": {},
   "outputs": [
    {
     "data": {
      "text/html": [
       "<strong id=\"div_eq\"><a class=\"ProveItLink\" href=\"proofs/div_eq/thm_proof.ipynb\">div_eq</a> (conjecture without proof):<br></strong> <a class=\"ProveItLink\" href=\"../__pv_it/theorems/f35b14d6d2722cb2f5f5c81f4b8350d2febd573f0/theorem_expr.ipynb\"><img src=\"data:image/png;base64,iVBORw0KGgoAAAANSUhEUgAAAPgAAAAmCAMAAADeO6ZmAAAAOVBMVEX///8AAAAAAAAAAAAAAAAA\n",
       "AAAAAAAAAAAAAAAAAAAAAAAAAAAAAAAAAAAAAAAAAAAAAAAAAAAAAAACXHtMAAAAEnRSTlMAq1Rm\n",
       "mUTNIjK7EInv3Xbt5cmRiLwgAAAACXBIWXMAAA7EAAAOxAGVKw4bAAAD2UlEQVRo3tVZiZLbIAzl\n",
       "NKfV1v//sUUYzBHXJht3JjC72WEWCR6SniRCyGRDsI/E7WLJlEPQBACAWu3cyDVYEBz/RFG9Tomc\n",
       "L/kCCAEKRKwDQo4wj7LbroJOiFv7ZC6uEIgllA8Isf1+qNnnhs0HfHEZDBp9GQxrQjyQ9IFzP52z\n",
       "s60+cgZyPyTK6U13PDHPWF2DJri7HTJe9A3weapQcqoIPwxujSTUR94aGYbmjzR3cwHP7IQ+r60I\n",
       "wOUYT6Fvy63wIPdzAS9HtwKAMMEH+dlSB6Lyb7UFweIAjH+7p38Smq7OAWsoA4Q8csWXh3wqQH6G\n",
       "2XrWsZ3OJlfm20N8+aHgGvIebfgM8A5z1e6+vaDxP02/jEPx60yOwYNSaC9fjpts7kG6QCv7FYf/\n",
       "+ty2PUe+NuoSsZQzzxSw4uMz/esfMQddbr1W4yYsNix3Fc0f7w8wgoKqiuZPGdLFYHQO3Ll7Pho2\n",
       "aGwn3wkRoCYUjaFypCEFsroC/BD4fv883KQ0L51GOeJWjXuQJ2u36JkM3qM2IVKf42y0NX8OOI21\n",
       "hEf9fbnyrMVFInSee1XHwR07AggVftKNA1oj/EImGcv1bgR1DrwRPwyX1ZxtKN0ezRjonr0J/O0Y\n",
       "xxSekrldVVUZgsK+YGHp4YqE82gf/PvIhoq9FHsV8ENcmDx4UUPaDfc1v+KavQtbeU9uD5bUSZfK\n",
       "tYEQpByKhH8aIMmtlWUrkhmRx/7ccnsBvBE/jp/VnG2YfGkH3r8z2A0ew31kCJqO5yW+4dU3U5kU\n",
       "qz4KhC+79RjRWuoL4CdxWqk52TD70u7qL57txWPA9Sa7Sw0HNbw8a6AxjrOvMtKOLlSWyK3OvQ3w\n",
       "JF67+qGm2xDX/P6T1pySG1meaybaNyy8VIw4GRzYOgyA2NcIEmfhxDqklKbUUS5SlzvN40W8axmS\n",
       "mqj02JBU7VJgxcBzL/Qknns+cP2rtAy9PTiOtgqOJkA6AJtm2PibJbZxunBy8Huhz139EO9uO6mJ\n",
       "So8N29oxFDDCvralj72OmgvSZ/3MRq/c4aJLnlc8t+5Y1PRb3HGXfS6RXyQIaftZICR5X+bcAi9q\n",
       "2i0GSijzFLvJi7cc/jKTHAYauFvgRU27Bbuvmds3QkVd0yVcV8LNWvcfWvD/+Xxl6yQkPcbMWNj3\n",
       "a/1sXyJVlrI+dtTr0IV1a2Gy12VS8n+AETutdej1pF/r5/vW8PiWmHjT+/7FdbVrYSHzjYXXhfvY\n",
       "g3O3Vnk1IXDs5kpOpwthagB4vdauE349jvZKDXTo+whbxdAbX7PWcDLnUDu/WQpOKwp6xE2qtTZH\n",
       "+l9PrCJQiU60bAAAAABJRU5ErkJggg==\n",
       "\" style=\"display:inline;vertical-align:middle;\" /></a><br>"
      ],
      "text/plain": [
       "<IPython.core.display.HTML object>"
      ]
     },
     "metadata": {},
     "output_type": "display_data"
    }
   ],
   "source": [
    "div_eq = Forall((a, x, y), Equals(frac(x, a), frac(y, a)), \n",
    "                conditions=[Equals(x, y), NotEquals(a, zero)], domain=Complex)"
   ]
  },
  {
   "cell_type": "code",
   "execution_count": 37,
   "metadata": {},
   "outputs": [
    {
     "data": {
      "text/html": [
       "<strong id=\"div_neq_nat\"><a class=\"ProveItLink\" href=\"proofs/div_neq_nat/thm_proof.ipynb\">div_neq_nat</a> (conjecture without proof):<br></strong> <a class=\"ProveItLink\" href=\"../__pv_it/theorems/626d1680d53792e6f831cd8d50c5249fd93ef5000/theorem_expr.ipynb\"><img src=\"data:image/png;base64,iVBORw0KGgoAAAANSUhEUgAAAPgAAAAmCAMAAADeO6ZmAAAARVBMVEX///8AAAAAAAAAAAAAAAAA\n",
       "AAAAAAAAAAAAAAAAAAAAAAAAAAAAAAAAAAAAAAAAAAAAAAAAAAAAAAAAAAAAAAAAAAAAAAAeYafp\n",
       "AAAAFnRSTlMAq1RmmUTNIjK7EInv3Xbt5cnn9enzas/lfgAAAAlwSFlzAAAOxAAADsQBlSsOGwAA\n",
       "BBtJREFUaN7VWYmS3CgM5TS3kuxu/P+fGoTBHO3u1tROqtrUjKdcIwEPPV2YsZsNJf6Xut88u+VQ\n",
       "vAIA4N6GQDkGD0rin6Jq0y2Ry60dAGPAgalEUApMRNTdjyn4DXHbWM0lDQLxjEuCkjjOh7vj3Yn7\n",
       "Ad9CA4NG34huzVgEVh/4Hm9HdrGPW25A3g+Nena3S5y4z0hhQpPp7knGK9yA2F4Nat7Kw0+De6cZ\n",
       "jyVuUYbj7VHfw72At+iEnLdeZeCaFqeQ23rvcVDGewHvW/cKgAkln+FWswd4HkAN/DZ7VuwEEPLT\n",
       "mU51TesukvmYA1IuA5Q+c8WHu3wtQCg+bR8w+yiWaGebyY37dBffqAZf0lXKeY9P8QzwDFvVHj69\n",
       "oInU9OsW6goJndctOGYGVdfePhw324lJSHNCuEArx4Qjfnxu24nBlxCrfJlLlVDgvqeAVW+qZkpl\n",
       "fT1KDnq5dDFg+udffL6x+o7lruHt8cVhkgoay4FB91WEDJrQQhaZECBc0/NbDN7cBo1N2VTfA3CX\n",
       "i0YmOAt+LhdeAKec7SEjsz20e+g0+hb3YaxiD5y7kt2LlICvhTal7BkukdujcV4A5wRTHDIR51/L\n",
       "FaLFadXIATyjlq1XDRLCqQqgTP6pRwlojfwLZ5ARVmgDT4FP6kyHeZqrBQ8ZU5qRKL4IvPj4f78P\n",
       "T6f4OKbwmsx9MkNlCAb7gk3UiyuW92Nj7ox6OrSZ6kI/AX6qK4fjR/6VfRo2LzjKHF1Ykmtwo0R1\n",
       "4l1incu08KQU65ti+Z8OWKW18SJlMI5pOQLPVAd3DXxSbzw5p7lasMocwNd7Br8TLh6EooXlxh5e\n",
       "txc13uGNJzN4DFZ9HJjcinHw5gqB+zDFh9nHu3rnSZ3mYsEmc1D9gdlRfZvB7a6XQ80bdbJfa6Ax\n",
       "zr0nXcKODZPFc08Mz4BXdaTxz1+u0PicZllwkrkMbmx730wIYhU232HhoaLHaenRjtkBSl+jilVx\n",
       "xzanlKnUkeXcJor0zXX1uW9o05RJzwUnGYCrwlPF7zI4C+khCUoBQaKtMtEU6ADg6xs2/m4rbVy1\n",
       "l01H7rgG3tXnurBNUyY9F5xlcgGj/GNb+g6WpJbd7kXQF+ubL6w8UhBS8rriuabj4A19mnWJd7HL\n",
       "v03k5I8kLxKE9utbDkj6fZlzDXzQ69PMSxBKKPcuulkibv3iLkc+vGkJBCZdAhcDO/o08qnMsz3F\n",
       "uboNYIhX64ts+Ast+N+8vvJjEtIRfWYnkXuVjXf7iDRYysfSUSfSgS2ycLPbZdbzf4ZROq1ECuOr\n",
       "bLzfV8PzKzGLbuX+i+OaZWFj9xubHAt32oXzImuiuSFw7OZ6TucbE5QLtlHWpxt+Hkd71ao0931M\n",
       "JMUo3dgk6yS75zBHfPMcgjUcKDXLKOubp/8BIjglYxmYKXcAAAAASUVORK5CYII=\n",
       "\" style=\"display:inline;vertical-align:middle;\" /></a><br>"
      ],
      "text/plain": [
       "<IPython.core.display.HTML object>"
      ]
     },
     "metadata": {},
     "output_type": "display_data"
    }
   ],
   "source": [
    "div_neq_nat = Forall((a, x, y), NotEquals(frac(x, a), frac(y, a)), \n",
    "                     conditions=[NotEquals(x, y), NotEquals(a, zero)], domain=Natural)"
   ]
  },
  {
   "cell_type": "code",
   "execution_count": 38,
   "metadata": {},
   "outputs": [
    {
     "data": {
      "text/html": [
       "<strong id=\"div_neq_int\"><a class=\"ProveItLink\" href=\"proofs/div_neq_int/thm_proof.ipynb\">div_neq_int</a> (conjecture without proof):<br></strong> <a class=\"ProveItLink\" href=\"../__pv_it/theorems/0f0ffe35cf5c558cade2f3cbf3c4642c520ff5900/theorem_expr.ipynb\"><img src=\"data:image/png;base64,iVBORw0KGgoAAAANSUhEUgAAAPgAAAAmCAMAAADeO6ZmAAAARVBMVEX///8AAAAAAAAAAAAAAAAA\n",
       "AAAAAAAAAAAAAAAAAAAAAAAAAAAAAAAAAAAAAAAAAAAAAAAAAAAAAAAAAAAAAAAAAAAAAAAeYafp\n",
       "AAAAFnRSTlMAq1RmmUTNIjK7EInv3Xbt5cnn9enzas/lfgAAAAlwSFlzAAAOxAAADsQBlSsOGwAA\n",
       "BB1JREFUaN7VWYmO2zgM1WndbLu79f9/akX50GEn5mCnQCRkMnBAUnriTTM22VLif7H7xbMpl+I7\n",
       "AADubQiEa/CgJP7bOG2aErlcjgtgDDgwlZ55AhMRWdddBJ8Qt427uqRBJJ5x+cwjtuvhbv/BifmA\n",
       "L+FAg0pfaF7NWAS2f5Uf4nTGLtb2yCeSp6WRza52jBPzrBQ6ONncPUV5xTQgns8GOafy8FPh3mnG\n",
       "YwlchOX48XX8EOYCfoanbPPWqwxck+IUmrZemzAo41zA69m9AmBCyVe4VecBngdQrXmbNTNWCxDy\n",
       "0y2d6prWXZN5lwJSLgOUPnPFh7v8UYEQnNqOmH0UY7izh8qN+3QXX6gK79NVymmP9+EM8A6Pqj18\n",
       "ekETqenX9aYrJFSzPoNjtqDdtZcPx81WYhLSnBAuUMsx4Yofn9tWYvAlxCpfZKkSCtz3FLDqoWym\n",
       "lNb3q+Sgt1sXBaZ//sXvB62vWO4afnx9Pd5EF1T+NP71rj/UhB6y0IQA4d48v0Xhh9ugsimHag4B\n",
       "3OWqkaW8SfDgScApd7vRyKwP7S6tRj3i2qyRbLS5W9K1UAn4YmhTak+UEttd0/reG+CcoIqNJqL4\n",
       "sVwhapxWjWzAM2q5t3g+SAgnK4Ay+bNfJaA28A9k59TdFbfAO3amwyDmZsONxpRmJIovAi8+/t/v\n",
       "zdMpPo4pfE/mPtturQzBYF+wiH1yxfJ5bMTWqC2njLAvgJ/syuH6kf9kI6bfsKXZurAkx+BGierE\n",
       "WeIuyxy1gVKsHgoN2QHbcRkvUgaTgenmABlHH4Ua4B37YSZVzM2GO80GfJwz+JUweBCKhPvMEHw/\n",
       "XtQ4w2tvpvEYLPs44MCvaKeMrkKObd04oPfxyl7N5BBz3fCg2Uz9YtlRfZvC7aqHS80HdbLiQGWc\n",
       "Z096Czu26lgLi0oKL4Dv7GjGP3+5YsZVTL9hR3Mb3Njy3EwIYhXWz7DwUtHjtPQ55qADlMZGsfKU\n",
       "T2xzSulrnVAim053pl7Z+77hEFOEnht2NAB3haeK36VwFtIlCUoBAZMUxlQFOgAm6fKEjb9btj7u\n",
       "yGaccwhu4bc+frL3deEhpgg9N+xpcgGj/LUtfYIlqWW3exP0xfjki1XuOQht8rbkuTdHUeNSI0a8\n",
       "onlVYD8lcvJLkjcJQvvxKQck/Vzm3ANv+KqYfgtCCeWeopsl4tZvZjny8qQlECzpFrhojKOKkS9p\n",
       "Xp0pdsVtAEOcrI+04S+04H9zfOWbJKQjusxKsu0LbZztJVLVlI+loU6k+xppYbLpMqv5n6mSVxMp\n",
       "il9o43xvDc+3xNENpv/utgZaWNh8a5FN3U6bN4+0JpoJgWM3d6Z0vjBBma91tD5N+Hoc9bVVpbnt\n",
       "YyIpRmnGelon2ZzLlPjmc6lsDQdKydLR+sPV/wBVwiVdjUeMrgAAAABJRU5ErkJggg==\n",
       "\" style=\"display:inline;vertical-align:middle;\" /></a><br>"
      ],
      "text/plain": [
       "<IPython.core.display.HTML object>"
      ]
     },
     "metadata": {},
     "output_type": "display_data"
    }
   ],
   "source": [
    "div_neq_int = Forall((a, x, y), NotEquals(frac(x, a), frac(y, a)), \n",
    "                     conditions=[NotEquals(x, y), NotEquals(a, zero)], domain=Integer)"
   ]
  },
  {
   "cell_type": "code",
   "execution_count": 39,
   "metadata": {},
   "outputs": [
    {
     "data": {
      "text/html": [
       "<strong id=\"div_neq_rational\"><a class=\"ProveItLink\" href=\"proofs/div_neq_rational/thm_proof.ipynb\">div_neq_rational</a> (conjecture without proof):<br></strong> <a class=\"ProveItLink\" href=\"../__pv_it/theorems/cd13ebc6b61d3d36f47e3a3718a64cd30d21cf870/theorem_expr.ipynb\"><img src=\"data:image/png;base64,iVBORw0KGgoAAAANSUhEUgAAAPoAAAAmCAMAAADaznZbAAAARVBMVEX///8AAAAAAAAAAAAAAAAA\n",
       "AAAAAAAAAAAAAAAAAAAAAAAAAAAAAAAAAAAAAAAAAAAAAAAAAAAAAAAAAAAAAAAAAAAAAAAeYafp\n",
       "AAAAFnRSTlMAq1RmmUTNIjK7EInv3Xbt5cnn9enzas/lfgAAAAlwSFlzAAAOxAAADsQBlSsOGwAA\n",
       "BCBJREFUaN7VWYdy5CAMpZpqXff/f+ohbAy4rJW7ZGZhks14IwmE2pPM2HBLif9i95Nngy7FNxUA\n",
       "uLchEC7Cg5L4Z+W086C6y6lcAWPAgan5mScwEZF12UTwITW3cTOZNKiLZ1w+84j1grjbvnBiRNWn\n",
       "UPRBw0+06GYsAts+8hdxQJcXS3voXZenpZHNLvaYL0Zac+gUSk7vKQbM7gFxfzbIOVik70b3TjMe\n",
       "cwojLMfLR/kijKb6nqiS51uvkuqalLHQwfXSJEQZR1O9nt4rACaUvNNcdXHgeQDVOrlZEmP1AiHf\n",
       "39+pIWrdubh35WBOsEDpvW68fegXTEIIbnvU2kdxTHy2mN249w/1iWr0vnjNqQjyPrEB3mJB8+H9\n",
       "IU6klmPXO7CQUJ17T5PJi7YQn95ec7YQS5LmhLSBlo4zrjhApVuIiZiQtXyWpXJKcJ8Ea9UDmqYg\n",
       "7puVK9LLvbMR55+/8PPB8guCYMPLxz/0/cEpzttLfpUsgyY0mJkmBAg3TvopRi/BgwannKo5BHCX\n",
       "kCQzAQWEFli8UJ1yvSuNTCbR7tyE1EMuzTqSHR3vknTJVAI+mOSU2spmMKi0l9JQVOcEa6w0EeWf\n",
       "8AvR6jR8sqqe9JZQHFhC2FkBlEk/22UCGgR/oWQba0X+JzC4VL3jZzoc5FzsuNKY3KVE8VHVc6z/\n",
       "/rNGPCXWsaRvxd3PpkGLYLBfmMQ232LpQDZi07SjK79ewo3qO79yuL6lX9nI6XdsadYGbZanNEfJ\n",
       "8MSp4ybLFKygFKunYumfDtjm28aLOWmTNNP7AYrK0LSOjeodf/GVKudix41mVf00iPALYTQhFEnz\n",
       "vVrw7XxR46yvvZsmbhAKcsDBYDaQE0w/OHzLX32lyDnvWGhWhz+7d1SfZnS76MO1ppM6WQcfaI/9\n",
       "8LNe84+tJn5Kcxs/OvP3Hy47c5XT79jRXKc5Nj23GYKIzPpJF14rBp6WPiUfDIPc8iiWn9KRbSov\n",
       "Pfqx2WChbXfr6Sp/31AUOVnqvmNHA3CJRlX8LKOzMJ9KohQQJJormVOBDgB+e8LBgJvWHs/W/Dyr\n",
       "idtrSLPz92CxyMlS9x17mgRplL9oWp8Uk1Q47l4UAHF88tk1C4ZzGdJkn7dd3r32SVGTQSNH3NHc\n",
       "Au+nwk5+sfKiWGh/fEqZSV8BHyVkMu+D6g1jldPvQUFV7inPWaLm+sW8R56etIRwg2qlfbC6aNJp\n",
       "lSNvaW5PFTvMG8AQJ/FH2vAVLfqXTrl8U5J0xMhZSB5+oo3jvXqq1vIxN9wz6caOtDDcLJpVQMBU\n",
       "rrMzKaOfaOOI7xv3d8zRHQLg1X0daGFiI65JNnieNp0+0ppohlQdW729xPOJCcocrqP185Cv19Fm\n",
       "K1ZNPSETs2KURq2ndZKNukzOdJ5DsIYDBcR0tL6E/F+N2CYOIhuowAAAAABJRU5ErkJggg==\n",
       "\" style=\"display:inline;vertical-align:middle;\" /></a><br>"
      ],
      "text/plain": [
       "<IPython.core.display.HTML object>"
      ]
     },
     "metadata": {},
     "output_type": "display_data"
    }
   ],
   "source": [
    "div_neq_rational = Forall((a, x, y), NotEquals(frac(x, a), frac(y, a)), \n",
    "                          conditions=[NotEquals(x, y), NotEquals(a, zero)], domain=Rational)"
   ]
  },
  {
   "cell_type": "code",
   "execution_count": 40,
   "metadata": {},
   "outputs": [
    {
     "data": {
      "text/html": [
       "<strong id=\"div_neq_real\"><a class=\"ProveItLink\" href=\"proofs/div_neq_real/thm_proof.ipynb\">div_neq_real</a> (conjecture without proof):<br></strong> <a class=\"ProveItLink\" href=\"../__pv_it/theorems/451047e181e0dbc81a30f24ec72e0e751d3bde350/theorem_expr.ipynb\"><img src=\"data:image/png;base64,iVBORw0KGgoAAAANSUhEUgAAAPgAAAAmCAMAAADeO6ZmAAAARVBMVEX///8AAAAAAAAAAAAAAAAA\n",
       "AAAAAAAAAAAAAAAAAAAAAAAAAAAAAAAAAAAAAAAAAAAAAAAAAAAAAAAAAAAAAAAAAAAAAAAeYafp\n",
       "AAAAFnRSTlMAq1RmmUTNIjK7EInv3Xbt5cnn9enzas/lfgAAAAlwSFlzAAAOxAAADsQBlSsOGwAA\n",
       "BB5JREFUaN7VWYmS3CgMFZcxh5Vkd+P//9QgDOZod7emdlLVJjM9RUUCHnq6aICbDS3/l7pfPNxy\n",
       "aFEAIAq/hsC5Bo9a0Z+sum63RK6WegEAKBD0xlAKICPp7scS4oa411jMpSwB8SAUQ0ke9yPcMXfy\n",
       "fsCXUMGQ0RemWwNEhPJB83g7ssu9P3IF8n4Y0lv3dYoT9xlbGNAkunuW8TI3MNapJc1befhpcO8M\n",
       "iJjjFmc4UT/KPNwLeI1OxPnV6wTc8OIUcdvsLQ6qeC/g7eheI4LU6hluPXqAFwF1x2+7J8VGAKk+\n",
       "nelc11zdRTLvc8CWygBtzlzx4S5fChCOT68PmH2UU7Rbq8mt+3QXX7gGn9LVlvKeGOIZ0h3Wqj18\n",
       "ekETuenXTdSVChuva3BMDCquvXw4btiZScgIRrggK8eNRvz43LYzgy8jVvm8ls6hwH1PAavfVM2c\n",
       "yvp65Bz0cutswO2ff+nzjdV3KnetqB9fLZ23sGixDCXzqwgZDKOFzDIhYLim57cYvLoNGZtzqHYG\n",
       "FC4VjYBUMgYbeMA5d3vIqHSXxj10Gu2IezdmsQfOXcnuWUri10Kb1iVPYvoHyiMPuGCY4pCJtP5c\n",
       "rjAtzqtGDuAJtaq9alAYTlVEbdNPuUoka6RfPINMBo5ePwE+qIMJ4zJXGx4yNjcjUX4RePbx/34f\n",
       "ns7xcUrhJZn7zXaVIVrqCxZZHq4gnWeNqTNqyBLVrUN1DfxU147Gj/Sr2jIwbtjLHF3Ypubgxonq\n",
       "zLfEspattYHW0A4F6T8dQqG19XJLYBwY1QHXLozk7maDeuXJuczVhkXmAD6/M/id8fAgNQv3mSFE\n",
       "OV6kiNWzpHc0qvoEglqycejliqgextZwvIam3nhSlrnYsMocVH9gdtTfZvB1N9OlpoM61Z41yBjn\n",
       "2TeTw84aoPdxY4J/BryoE41//nKZxucy04aDzGVwg+V9MyGZVdj4hkWXSh5nlE8xhxwg9zUa8iyd\n",
       "eE0pZSh1jnT2JLg19bFvqMvkRc8NBxnEq8JTx+8yOITtIQkqiUGRrRLRNJqA6MuMGn+35Dau2Mss\n",
       "uATwun/u7Kxyqo91YV0mL3puOMqkAkb7x7b0HSzFLbvdi6Av55nPrDxSEFHyuuK5pqNscaktM2/x\n",
       "Lnb5t4mc/SXJiwRh/DxLAcm8L3OugXd6bZlxC0YJ5d5Ft5WJ27x4y1EPM6OQwaRL4LJjR1tGPZV5\n",
       "dqY4VrcBLfNpfZINf6EF/5vPV75PQiaSz+wscs+y8W5fInWW8jF31BvrwiZZvNnrMrT8n2DkTmtj\n",
       "hfFZNt7vW8PzW2KIbub+i+saZXGB+41F9YU778F5krXR3hA4dXMtp4sFJOeBrZf12w2/Hid7lao0\n",
       "9X0gNw2cbmyQdQruOewR37zAsFqBnJqll/XV0/8ANjAmAk+4nzsAAAAASUVORK5CYII=\n",
       "\" style=\"display:inline;vertical-align:middle;\" /></a><br>"
      ],
      "text/plain": [
       "<IPython.core.display.HTML object>"
      ]
     },
     "metadata": {},
     "output_type": "display_data"
    }
   ],
   "source": [
    "div_neq_real = Forall((a, x, y), NotEquals(frac(x, a), frac(y, a)), \n",
    "                      conditions=[NotEquals(x, y), NotEquals(a, zero)], domain=Real)"
   ]
  },
  {
   "cell_type": "code",
   "execution_count": 41,
   "metadata": {},
   "outputs": [
    {
     "data": {
      "text/html": [
       "<strong id=\"div_neq\"><a class=\"ProveItLink\" href=\"proofs/div_neq/thm_proof.ipynb\">div_neq</a> (conjecture without proof):<br></strong> <a class=\"ProveItLink\" href=\"../__pv_it/theorems/bb5614c4c1e47a2cd8296be70655428f33186c240/theorem_expr.ipynb\"><img src=\"data:image/png;base64,iVBORw0KGgoAAAANSUhEUgAAAPgAAAAmCAMAAADeO6ZmAAAARVBMVEX///8AAAAAAAAAAAAAAAAA\n",
       "AAAAAAAAAAAAAAAAAAAAAAAAAAAAAAAAAAAAAAAAAAAAAAAAAAAAAAAAAAAAAAAAAAAAAAAeYafp\n",
       "AAAAFnRSTlMAq1RmmUTNIjK7EInv3Xbt5cnn9enzas/lfgAAAAlwSFlzAAAOxAAADsQBlSsOGwAA\n",
       "BBZJREFUaN7VWQlu5SAMZQ1rPHvuf9TBBMLy08TVdKQf1KaKagMPP2+EsYcNJf5J3S+ePXIoXgAA\n",
       "cG9DoByDByXxT1a16yORy6UeAGPAgamVoBSYiKi77VPwB+K2sZhLGgTiGZcEJbGfD3f7uxPPA76E\n",
       "CgaNvhDdmrEIrDzwPT6O7GLrt1yB3A+NenazU5x4zljDgCbR3ZOMl7kBsb4a1HyUhx8G904zHnPc\n",
       "ogzH66O8h2cBr9EJOW+9SsA1LU4ht/XW4qCMzwLetu4VABNKfoRbjR7geQDV8dtsSbERQMh3ZzrV\n",
       "Na07SeZ9DlhTGaD0kSve3OVLAULxafuC2UcxRTtbTW7cu7v4QjX4lK7WlPf4EM8Az7BW7eHdC5pI\n",
       "Tb9uoq6Q0Hhdg2NiUHHt5c1xs42YhDQnhAu0clxxxLfPbRsx+BJilc9zqRwK3NcUsOqmaqZU1ucj\n",
       "56DLpbMB15+/8Hlj9Q3LXcPr4/MDnOJguqL5KkIGTWghs0wIEM7p+SUGr26DxqZsqu0BuEtFY6oc\n",
       "eVpF9BXgBXDK2e4yMp2kdi+dRtvi1o1Z7IVzZ7JblhLwudCmVMmTwWdbSxpwTjDFLhNx/rlcIVqc\n",
       "Vo3swBNqWXvVICEcqgDKpJ9ylIDWSL9Qg4yXdjeCOQc+qDMdxmnOFtxlTG5Govgk8Ozjv//snk7x\n",
       "cUzhJZn71XSVIRjsCxZRLq5Y2o+Nid9HNjTi5Xg74Ie6cji+pV/ZpmHjgr3M3oWtcg5ulKhOvEss\n",
       "c5laGyjF2qZY+qcDVmhtvFgxmDF9rC+99BfAB/XKk2OaswWLzA58vmfwG+HiQSgS7iND8LK9qPEO\n",
       "rz+ZzqRY9XFgcsnGcYJZq+0F8EG98aRMc7Jgldmp/sLsqL7M4HbT06GmjTrZrjXQGMfeV53Djm2h\n",
       "rAS3PvcOwIs60vj7D5dpfEwzLTjInAY3ttw3E4JYhY13WHio6HE6EdgHdIDc1yiW39KObUopQ6lj\n",
       "Qg5d4TSPN/Wxb6jT5EmPBQcZgLPCU8WvMjgL60sSlAKCRFsloinQAcCXN2z83ZLbONticuK9sudU\n",
       "P9THurBOkyc9FhxlUgGj/GtbegdLUstudxH0xfzmMyt3uEjJ84rnnI6icaJNMy9xF7v8bSInfyS5\n",
       "SBDaz28pIOn7MucceKfXphmXIJRQ7i66WSJufXGXI1/etAQCk06Bi44dbRr5ocxHe4pjdRuGLuG6\n",
       "Eh5kw39owf/n9ZXvk5CO6DMbidyzbHzaR6TOUj7mjnolHdgkCw+7XWYt/ycYudNaSWF8lo3P+2p4\n",
       "fCVm0c3cvziuURYW9ryxyL5wp104T7ImmgcCx26u5XS+MEG5YOtl/frAz+Nor1KVpr6PiVUxSjc2\n",
       "yDrJnjnMHt88h2ANB0rN0sv66ul/AaN9JYV2jxoFAAAAAElFTkSuQmCC\n",
       "\" style=\"display:inline;vertical-align:middle;\" /></a><br>"
      ],
      "text/plain": [
       "<IPython.core.display.HTML object>"
      ]
     },
     "metadata": {},
     "output_type": "display_data"
    }
   ],
   "source": [
    "div_neq = Forall((a, x, y), NotEquals(frac(x, a), frac(y, a)), \n",
    "                 conditions=[NotEquals(x, y), NotEquals(a, zero)], domain=Complex)"
   ]
  },
  {
   "cell_type": "markdown",
   "metadata": {},
   "source": [
    "### Bounding division"
   ]
  },
  {
   "cell_type": "code",
   "execution_count": 42,
   "metadata": {},
   "outputs": [
    {
     "data": {
      "text/html": [
       "<strong id=\"strong_div_from_numer_bound__pos_denom\"><a class=\"ProveItLink\" href=\"proofs/strong_div_from_numer_bound__pos_denom/thm_proof.ipynb\">strong_div_from_numer_bound__pos_denom</a> (conjecture without proof):<br></strong> <a class=\"ProveItLink\" href=\"../__pv_it/theorems/b70d64e3667abbb186ecb191ac334d26482774970/theorem_expr.ipynb\"><img src=\"data:image/png;base64,iVBORw0KGgoAAAANSUhEUgAAAPgAAAAmBAMAAAAby0tnAAAAMFBMVEX///8AAAAAAAAAAAAAAAAA\n",
       "AAAAAAAAAAAAAAAAAAAAAAAAAAAAAAAAAAAAAAAAAAAv3aB7AAAAD3RSTlMAq1RmmUTNIjK7EInv\n",
       "3XZ/CtNrAAAACXBIWXMAAA7EAAAOxAGVKw4bAAAEMklEQVRYw7VYb2gTZxj/JZfkLu+lV/elo1PK\n",
       "wYbfdGEfhInGSv075papE+qGPTZhbIKcIIJT1riPI7O1VUcnSBzCptUaJtZ/rARlVBgbfpgoiHDF\n",
       "zn/FUrqJEmHb876XxCR3qSnkPcg95Hlz7+99/v2e5wJIukLmjMvsC0i8ltNnaOyny54zsPE4jgHf\n",
       "ZuRhKxbd2o220PXqFT2YwzL6wRx54GkyTLGVfCBevfI1naeVZJ888G300RCyvCuZmIM/SJ6S5vdg\n",
       "XgjC8V5dGe0Zz0hpfm/Kujg289q3CkaOhPpUFngPxzyRnAfdu3YAUWH0EVngPKPw5jfvYr1fEXaJ\n",
       "LFwiC/xvfjs+GezwoZpjI+/bXHabEB54vcHY2szxHHbzoh0rufys0RQzVXtNt9gVl4At7OOJ19tg\n",
       "8IA1QyE4AbcUjClEKC91s8HgMd8ani9CHUysLHDBMyiUeZFG51tz1ke59J2qxJgGfr9z57eGg8e9\n",
       "useXqtsblcQa4Ps62vOswLu9jfQXL9P+C+yAWpNlg7e3trgPRV+OqI+UnN1TDa6u8/HFc9o2oyd9\n",
       "N9vfeghOVt/jB17B2AX+TqCz1DvEjv+JSyhaXpxGKEUp/kPWOf75FqJ4wHGUIR/wna9VmHVQpPE1\n",
       "NNu1LG/xqycCh5Wg22DiPP8+uXqcNgiPIYC7EODG8TJwY/yr1ST2vQpsmSPIkZ2dsKG9Qg+pecTM\n",
       "WbmdYo6faZZjNwUjGnZrhJ4bas6kmSAeJ7v7bhn4/UDvJ0AnHYA5eY03xtN2DwdenoKWR1MRoTte\n",
       "T8LxBrCXLAi1i60UHNVIfLkAD8PieWftRZSBx6NOCp28ZtQfrhv8eCuQFnuvTRJ4aXY440Vijx9V\n",
       "e2Oac2GKKClpuCnvdoS5aFM+HxjoI7efM8tjTlHVXGYOZAMc4VeMuWw+Sm5vLno71u5HMlWFrj0p\n",
       "HtWOLuY5q+VU/vUGrmlZN+YfXioHT8PGoBj9mpIxOjR7iv6TvCaPViRcxLdZLLL9Ri06qt2zITOI\n",
       "vboVwiBwKzzlMg+VWlnCqblhkE1GPwdPdYFlMao9WUx2f8qTFR+UKiVXBxPpxak63LHwLNJm6K+R\n",
       "RyTwxtsWdpNh4e3b2ArrheXvfTTJ/aMQerDjMI/Axrcm4jD6XJIpkbeSrwM8WslthZCZzI7GwS4O\n",
       "HCr7ZaXHvsOP4Cdwg+cZwdn0rBtAOFMQAWeT55jVirYweWRzrY0P1gHeVZECSlGEE9mXgm+Y4KVX\n",
       "a2N3OFTn3vcZ3Iva4br7lDq7nnpGkPvHdtQn+EXtFVnTq86zlF2F9z2xpDVyssCp6KngpopvLhUN\n",
       "q6CNmdLAF/Htewvur5zvCtp78t5SI3HB8Mt80sHVqqPywNlNgjHRErQ94K72tDyvA7syiDrBP72z\n",
       "X0HbL/M/GTUF1nZhxwOvT4SW8bD/D0l0GnMB+atQAAAAAElFTkSuQmCC\n",
       "\" style=\"display:inline;vertical-align:middle;\" /></a><br>"
      ],
      "text/plain": [
       "<IPython.core.display.HTML object>"
      ]
     },
     "metadata": {},
     "output_type": "display_data"
    }
   ],
   "source": [
    "strong_div_from_numer_bound__pos_denom = Forall((a, x, y), Less(frac(x, a), frac(y, a)), \n",
    "                               conditions=[Less(x, y), greater(a, zero)], domain=Real)"
   ]
  },
  {
   "cell_type": "code",
   "execution_count": 43,
   "metadata": {},
   "outputs": [
    {
     "data": {
      "text/html": [
       "<strong id=\"weak_div_from_numer_bound__pos_denom\"><a class=\"ProveItLink\" href=\"proofs/weak_div_from_numer_bound__pos_denom/thm_proof.ipynb\">weak_div_from_numer_bound__pos_denom</a> (conjecture without proof):<br></strong> <a class=\"ProveItLink\" href=\"../__pv_it/theorems/f33cf957daa9d28cc07a81effc4ae60b99a68e3a0/theorem_expr.ipynb\"><img src=\"data:image/png;base64,iVBORw0KGgoAAAANSUhEUgAAAPgAAAAmBAMAAAAby0tnAAAAMFBMVEX///8AAAAAAAAAAAAAAAAA\n",
       "AAAAAAAAAAAAAAAAAAAAAAAAAAAAAAAAAAAAAAAAAAAv3aB7AAAAD3RSTlMAq1RmmUTNIjK7EInv\n",
       "3XZ/CtNrAAAACXBIWXMAAA7EAAAOxAGVKw4bAAAEP0lEQVRYw7VYXWgcVRT+dmZ3Z/bOZlJfArES\n",
       "BpSCD+rig9Ci25S0xoo/W6uFqphFhaIFmbwI1WK2PspqYtNaolC2UvAnNl0sprbFsFQkBVH6oFSQ\n",
       "wIRGqwZDiJaWFVrPvXd2s7N3tmxg58LO3T135n73nPOdn1kgohF3brnMXkWEYwt9puY/PaecgS1k\n",
       "cAx4txQdtp6nS7/dF7/YvGJpFWymG9ZFB14kxXRXr8YyzStv03l6aT4YHfhe+piI59WVUtrDjzR/\n",
       "EZndtaqYCEcdQyXzOmdkZHbvKkscl6n6PQy7QpNxLSrwUY75We4OWOra+0gJpT+KCpwzCve98xie\n",
       "CgvCIcHCB6MC/4dfji9pAyGp5tjMky6fRxwIC9zZYWzz1v6clrzoxzY+7+l0ilkOk24QClt5dl4m\n",
       "4DwOcOKNdRg8FhLfeOhRqbAXk6FgLyNJvLScDoOnQ2L477N+Cshu879ch07MS3aab91lpZx8o+Qb\n",
       "cwX4YW7u+46DN2d09nhGraoUEo8AH7ZRntcEPtLkR9YT5tgbwDCMlllW+/XlHmmuVFB+JORma6Zu\n",
       "7NFmrFDw/2jbkpULRX6v9zC8svWmCq4dDeol83cWu+u1Q+x4UwwhMFbNLoQiFP+lnbxwvsXJH/A8\n",
       "fUoB18eDdxqHRABfQLfbSvMwwnFw5LN0mcye5r+XBhdog8Q8YrgMAW4fbwC3F94ahC3agBfWieTI\n",
       "Ti26MG+jh4wq0k5L8NVQC/gcX1Ivxy6JjGi7vUl6bqq7VGQi8XjlfZcbwK/Exl40RX5iXtXkhfGE\n",
       "O8qBtxRgVtFVs+1IpnWSCRaA/aRBvF9speOoSdMb9+DPhHje234GDeCZlFfA3VwF4+OLNj/eVhTF\n",
       "WbbnCLzeO5z0QtNrIeitFZ4LSZbO2ZLysiKsR5/+ysTEQTL7V06jz4VXd3P0WDnGEb7DvOTBLJm9\n",
       "u2btdH871edq7ahuahPnrFkx+M+fccEsS58/c7YRvAiOfmCQUnQuTYdm1zD+uc//BsIl2ykWfqtF\n",
       "R3VHd5Ymsd/KxzEJ/JJYlpmHQq2BcEZlGkKn4dvRVRgCK2PWvLqJ9H6JkxU76pFSaQPcqnXViYF7\n",
       "T6HoxH+b+Ysm3LUxj32kWOK1vWxrflXzJ55bkjHtQhv4AMS9p+9fzPj8t2bqjNKrTYE2J0bQ56lg\n",
       "bvNd5jA3lQE7M3G44c7mc38CinZNOk9pwdnKmgtAouRPMW9X850KeF+CLPJsq40PtQE+5Ab6j9qU\n",
       "yJZbg5sTNI5g5yIPvVYby+bQWH8lJOZq0um265Sxtpp6UiT3591UVV2rSc9H1b1anKXsW6jviXWp\n",
       "XYkKnIKeAm659uYSKFi+NO1EBv4A337MN3+wv/Olv0f3lprMiAy/OYQOUmrMRgfOLhGMgx7NVcCl\n",
       "9ER0VgdeLyHlaT+pvZ8vHY/yPxmjANb39fAfqk2ElHG3/w//uyIzFpRSfAAAAABJRU5ErkJggg==\n",
       "\" style=\"display:inline;vertical-align:middle;\" /></a><br>"
      ],
      "text/plain": [
       "<IPython.core.display.HTML object>"
      ]
     },
     "metadata": {},
     "output_type": "display_data"
    }
   ],
   "source": [
    "weak_div_from_numer_bound__pos_denom = Forall(\n",
    "    (a, x, y), LessEq(frac(x, a), frac(y, a)),\n",
    "    conditions=[LessEq(x, y), greater(a, zero)], domain=Real)"
   ]
  },
  {
   "cell_type": "code",
   "execution_count": 44,
   "metadata": {},
   "outputs": [
    {
     "data": {
      "text/html": [
       "<strong id=\"strong_div_from_numer_bound__neg_denom\"><a class=\"ProveItLink\" href=\"proofs/strong_div_from_numer_bound__neg_denom/thm_proof.ipynb\">strong_div_from_numer_bound__neg_denom</a> (conjecture without proof):<br></strong> <a class=\"ProveItLink\" href=\"../__pv_it/theorems/fafb64bc1ab7b3945da14454421299addf7581320/theorem_expr.ipynb\"><img src=\"data:image/png;base64,iVBORw0KGgoAAAANSUhEUgAAAPgAAAAmBAMAAAAby0tnAAAAMFBMVEX///8AAAAAAAAAAAAAAAAA\n",
       "AAAAAAAAAAAAAAAAAAAAAAAAAAAAAAAAAAAAAAAAAAAv3aB7AAAAD3RSTlMAq1RmmUTNIjK7EInv\n",
       "3XZ/CtNrAAAACXBIWXMAAA7EAAAOxAGVKw4bAAAEJElEQVRYw7VYb4gUZRj/7c7Ozuw7e3N+Mi7j\n",
       "GKiv1dKHIJH15DQ1oq6s4Cq6sYRQQUaIwJLu7KNs3ullcQUxhtCfy3NJutLgWIxQCEXIMBBlDq+s\n",
       "Do7jSpQVqud9Z3adnZld92Dfgd1n9/fOvr/nfd7n+T3vLCDpylgth9kOSLzW0Wtq9vPvYz6wuQKO\n",
       "AO+58rgVm976zN7MheiIka5gLd2wQh55iRamOEo1VYiOvEv+9JA9JI98J710ZOz4iJv3cJ7sV9Li\n",
       "nq4KQzzxa8jVb/GMlBb3rrLP47D4+h6HWSGj3ZRFPso5vxi4D0Z87CByYtEfyyLnGYWH9z+JZ5OK\n",
       "cEhk4RpZ5H/zt6ML6f4EqTky87TD7bAFEYH7O8ytt97PaT8v+rCB29c7LTGLzccMm532BdjGPp54\n",
       "Yx0mT9ktCsFL+aVgLiJLeWlYHSbPR2qYvRaSgOKG4MMtKJR52U7nW3c5AkxeTUiMJeDclSs/dZw8\n",
       "pujm5ZjaMCqJTcBHbbTnZZEPx/dRuRhj/xfYDa2pyqYvb1vpy3Pu7ozGTD3YowlJlN7mRJDbNK1r\n",
       "DCROdqDnMLyy8XYSeVyxXRQxWO8dYsb/xFW/Q93q1lFRiv+QR15yvmVoP+B5ylQC+Rv3Ru8m5Cy6\n",
       "nRYrh7o94jKRwy7ydCx+y78vbJyjCdRZpHANgtw8GiI3597ZSGbfPcArK4Q4shPzjo9oVeStVmHf\n",
       "6sT3HF/TWY5dEopoOj1Z+t1Ut1tiQni88p5rIfLrqbFXgUFygHlVnTfGY86o4yN6FV21JB8uJCSc\n",
       "k9QA9tIKMn1iKgWf6GTeehB/quL33uaTCJEXct4IBk9xUfz0gsndW48SfITI62eH414bpaYtcS0c\n",
       "IUkaMP2U9zvCKvQq2ycmDlHYv7HCe067qvvKnCqnOMOPmA0QCnt3Ldr5vgjRVJLI3Ki56uRWc9f0\n",
       "isa//oKzetnf8+dPhclLcDApjn5dA3lymt3E+JcBEkq4bKRZsJ+bH7XIVWd0izuJvYadwSTwq7ro\n",
       "Kw+VWijhtMo0aE3mOCcfGQIr44x+Y3WALOCZeqVU2lAio3aqVvsfOoGSlflt5i8yeOAxG3toYequ\n",
       "nWy9fWflT720wOOjEFe6/wMe7+cemS8EiDHzRD27qm2Q5xq1Ldgyizm5AtjJicOhOxsj9iE+A/cg\n",
       "jITDvLTsBqC6gUl5L8TcjAK9KkXkxWYTv98G+VBD7Sk1oxbLdyXfMs9Lr9nE/uFQW3U94eBeQ6fb\n",
       "7lPa8nrqcSHuLzu5hM2voadlnV4NnqXsB8SfE+uoWZFFTkVPBbdYe3JpaFgBmrekkT/Kpx8Lwt94\n",
       "vgvQ3+U9pWYLQuHXJqSDj2pn5JGzS0RjYWU61ssC9Ji8qANvush56Yvxs1+Ajsv8T0YbAev9bvcf\n",
       "8ZgIlPFt/x9MFR34t4XMfgAAAABJRU5ErkJggg==\n",
       "\" style=\"display:inline;vertical-align:middle;\" /></a><br>"
      ],
      "text/plain": [
       "<IPython.core.display.HTML object>"
      ]
     },
     "metadata": {},
     "output_type": "display_data"
    }
   ],
   "source": [
    "strong_div_from_numer_bound__neg_denom = Forall(\n",
    "    (a, x, y), greater(frac(x, a), frac(y, a)),\n",
    "    conditions=[Less(x, y), Less(a, zero)], domain=Real)"
   ]
  },
  {
   "cell_type": "code",
   "execution_count": 45,
   "metadata": {},
   "outputs": [
    {
     "data": {
      "text/html": [
       "<strong id=\"weak_div_from_numer_bound__neg_denom\"><a class=\"ProveItLink\" href=\"proofs/weak_div_from_numer_bound__neg_denom/thm_proof.ipynb\">weak_div_from_numer_bound__neg_denom</a> (conjecture without proof):<br></strong> <a class=\"ProveItLink\" href=\"../__pv_it/theorems/e093ef6a4b66a2773551e73eb741fec6000627690/theorem_expr.ipynb\"><img src=\"data:image/png;base64,iVBORw0KGgoAAAANSUhEUgAAAPgAAAAmBAMAAAAby0tnAAAAMFBMVEX///8AAAAAAAAAAAAAAAAA\n",
       "AAAAAAAAAAAAAAAAAAAAAAAAAAAAAAAAAAAAAAAAAAAv3aB7AAAAD3RSTlMAq1RmmUTNIjK7EInv\n",
       "3XZ/CtNrAAAACXBIWXMAAA7EAAAOxAGVKw4bAAAEO0lEQVRYw7VYXWgcVRT+dmZnZ/bOZtKnSloJ\n",
       "A/rig7r4IFhkG0lrVESjVaEqZqsFqQWZgAjVYrY+ympiYy1RKFsp+BObLhajrRCWirQgSh8qFUJk\n",
       "QqNVAyFES8sK6rl3Zrazc2fKBnYu7J7suXfud+/5+c6ZACmNrH3DafYSUhz30Wdm8ZNvpDOwpSKO\n",
       "Am/X0sNWy/Q1YPVnz0dnTKWBrbRgQ3rgVbqY6qjNTDE68yadp4/kwfTA99LHQLYsz9QKLn4k+Xlq\n",
       "dleaQhCOPEZqxjUekanZvafu4ThMvt/9sBok9KtpgY9zzE+Hb4Ypz72LvLj0h2mB84jCnW89jMfj\n",
       "knBEROG9aYH/xb+OrSiDMVRzdO5Rh8sxG8ICt3QZ27ixP2e9uBjAdi5f7DbFrEZY7YUQyZTZGY+A\n",
       "yzjAA2+iy+CZaH5P/3I9EdyMlwrWKnIUl6bdZfCClMPWfJBzSmm7/8c1qBR5uW7HW29d9sR8NOON\n",
       "NeCHhYXvuw5ejCG93U4kECglHgA+6KA8rwt8LM6P2q7I3f8FRqEnsqwyv3ujR8/5dv3hmMXmXMvY\n",
       "47HgeyLg/9C2NXM4FvmdvkNw6+brMrhyJKZYoYSdrdohdvxPjNZDuzyzC6VIxb9J6cbHW5b8AddV\n",
       "ZyRwdVJe/comnEOvk3xz9YJUYggc5RJPxNJX/PfK0BJtoC0ig0sQ4NaxELi19MYQLNEGPLdBkCM7\n",
       "ucwRD9wEvYmCnQhuzcvljXyOL6iXYxcFI1pOX46em+mtVZkgHre+71II/HJm4nlD8BNzmwYvjMed\n",
       "cQLfOUSZ00RPEORjxWSSaS8A++kG2QGxlYojBonXbscfmnjeffAUQuDFvFvBbac5KX503uLH24Yq\n",
       "YXMNgbd6hxNuMr22hr7GubBClDRseSHvVYTN6Ff3TE0dJLN/aYd9LrwqsDL1DEf4DovwbEFm7w2s\n",
       "XRjopPpcCY7q5LdwpxgNnf/8CeeMuufzJ0+HwasQHiYr9wwX6NDsKiY/w7SIglDA5TopFn6rRUd1\n",
       "xnfUprHfLGcxDfysrXrMQ6kWCji9MQtxp9FN6KmMgNVx1riyhWKFx/8KHmtlSqMDcDPoqrXBO06i\n",
       "amd/nfuTBG69p4x9dDHt5b1sW/n6zR95ZsULWgfK4Pvc3k/ctVz0s8+ce6iVV82IzxfEqLQp8+3c\n",
       "5rvMZk6+CHZq6lBoZfTcH4PwlATOY2vrLgBazRcZ96noSgm8XyOLPJ208XsdgI+0FRo1EFqpngxu\n",
       "TNE4jB3LPPWSNvaaQ33z5ZjGPdDOdlyn9PXV1BOC3J918k15LtCeSat7NXmUsm8hvye2tFYjLXBK\n",
       "ekq41eDNpa1g+dqCnRr43Xz7Cd/87f2dr/0tvbfUXFEw/NaYcPC0+tn0wNlFgrGxUXEkcE97PD2r\n",
       "A6/WkHeVC3Lv52sn0/yfjF4B6/969HfZJkLLuNv/B0xDJhlbqRRoAAAAAElFTkSuQmCC\n",
       "\" style=\"display:inline;vertical-align:middle;\" /></a><br>"
      ],
      "text/plain": [
       "<IPython.core.display.HTML object>"
      ]
     },
     "metadata": {},
     "output_type": "display_data"
    }
   ],
   "source": [
    "weak_div_from_numer_bound__neg_denom = Forall(\n",
    "    (a, x, y), greater_eq(frac(x, a), frac(y, a)),\n",
    "    conditions=[LessEq(x, y), Less(a, zero)], domain=Real)"
   ]
  },
  {
   "cell_type": "code",
   "execution_count": 46,
   "metadata": {},
   "outputs": [
    {
     "data": {
      "text/html": [
       "<strong id=\"strong_div_from_denom_bound__all_pos\"><a class=\"ProveItLink\" href=\"proofs/strong_div_from_denom_bound__all_pos/thm_proof.ipynb\">strong_div_from_denom_bound__all_pos</a> (conjecture without proof):<br></strong> <a class=\"ProveItLink\" href=\"../__pv_it/theorems/9cfa9de44d15153995f82fa5960a6cbbad7981ae0/theorem_expr.ipynb\"><img src=\"data:image/png;base64,iVBORw0KGgoAAAANSUhEUgAAAOcAAAAyBAMAAABVKdGPAAAAMFBMVEX///8AAAAAAAAAAAAAAAAA\n",
       "AAAAAAAAAAAAAAAAAAAAAAAAAAAAAAAAAAAAAAAAAAAv3aB7AAAAD3RSTlMAq1RmmUTNIjK7EInv\n",
       "3XZ/CtNrAAAACXBIWXMAAA7EAAAOxAGVKw4bAAAEFUlEQVRYw7VYTWgTQRR+2c02+5NsC4JSKzWg\n",
       "R7U5FSzSH/qjh6rBQkEUk6ogepAteJIirUctNFpQoyhbKWoJNEGhioJN9aBSlPqHoihbqNZWqMUe\n",
       "lB7U2Z3NbprZJFuZzqGTvpndb+fN9755bwCoNqG78PiQCvTbqiLj/Af6mJ5UsRmb6YNWF50hldHG\n",
       "9D0pPuc1bdCAVnzOJtpU2uZiTkk9ZdBx7OSKaYcVZ6zcL7qY8qLR7VeERXLQsnZQ3lKDmeJj8E4Q\n",
       "Y7a1iu6m9hly5J2HABmutjWpUQVdZ/z1xyAZJsZsqzBBFXQss5I6csy2slSZxC/g1wdhNaMQoJZV\n",
       "XKBKXrwEQWPeeMnjx7aOUT3W0pinlfc6v5Hsta1XAQyab6ABirjiqo0CNOv9ERqgSZcCVxeGHl2i\n",
       "YlTCVHM9rwQJhBSkAVqV+xbxUD6PsCGk/FSIVEfkR4nPTvNKEY2ef/o0TgX0h0JG0UcHoS1Fm7kD\n",
       "4DIV0FEHAPYNafRHATrBVzRvkTKyXWjSbqfjgzlMrD+AxFdQpXD+5G2k4XgWmFAIdD3u/hrNsnId\n",
       "qmWdx6BIRBgtD4/4yXhYluBuKi+o6gSa07ijuQ7QQSFa6wzahNgoy1Cj5QM9sdaFezsc3Qu3j+ns\n",
       "rr2rG+a2T6FJ3CR4QA6BATpbLzXtbGrOApWnTm1HXc8agANlYBFiVHEikuJIJOhCj4nveP2MkJXy\n",
       "EhTiw6VqLwwZ75d810K5K532xA4C7EXAorbIp62Q6XYXMn79Mz1osrfeeJiFazzqTm6GGWgznvJe\n",
       "iRFECglaN+y9r+vn9Qk5ll8chp3FIaPR/rCM3YTPxAqohOp4PB6UZWkPyd5SBfhHZvHisRS3KjcI\n",
       "ROdsPpnJoJKKUKN7gk/79H/fwlM4a6xU5vapdpyaoL2gQOK8QYqw31pfX2iZB4Nf6WtTE9AlRb2Q\n",
       "AHjPzaP4NfYU7medWAaoLz0CyCb366DdEdJtbg8GrnHLHegNer88nEUdbNwaBd8lZG//mhpsyQGF\n",
       "Xfvm9A9iESrTeMEOheh/abT5CUFREZCrEvF47i4tjVPmItyEfrs4TbsDXSoinGp2Hq09TxqUa6jk\n",
       "7OWxZjExPHnrAXFAi1MhGMA/ny2N5EzH1aZcgrZ9z5LNn7ivlyvJukJi0mbi6/uz3KrXRbLNKuyi\n",
       "hyDyafQd5SuQbEMrXjB4HRil+jV4gbeeblkRMXnnd8rQIir/G0cW3QIqYAZqRBFJyW0BGbO7jm6p\n",
       "iOk7FF5nKVhWOwcCFtqXK1H+V51phT3kWANEQitR/mPPDc4xjQ559MDD3YYSCbQvkkoKXpiNmISi\n",
       "DMrnv7ySoiI+DF9Rv6abKXCvhe8N6V/TFbiQZGpxltUO9NvBYhtwbAVAi10y3zBo9A9e0Afp4T6S\n",
       "cwAAAABJRU5ErkJggg==\n",
       "\" style=\"display:inline;vertical-align:middle;\" /></a><br>"
      ],
      "text/plain": [
       "<IPython.core.display.HTML object>"
      ]
     },
     "metadata": {},
     "output_type": "display_data"
    }
   ],
   "source": [
    "strong_div_from_denom_bound__all_pos = Forall(\n",
    "    (a, x, y), greater(frac(a, x), frac(a, y)), \n",
    "    condition=Less(x, y), domain=RealPos)"
   ]
  },
  {
   "cell_type": "code",
   "execution_count": 47,
   "metadata": {},
   "outputs": [
    {
     "data": {
      "text/html": [
       "<strong id=\"weak_div_from_denom_bound__all_pos\"><a class=\"ProveItLink\" href=\"proofs/weak_div_from_denom_bound__all_pos/thm_proof.ipynb\">weak_div_from_denom_bound__all_pos</a> (conjecture without proof):<br></strong> <a class=\"ProveItLink\" href=\"../__pv_it/theorems/90dade168eeacec8cfc4eb96df851112dd17519d0/theorem_expr.ipynb\"><img src=\"data:image/png;base64,iVBORw0KGgoAAAANSUhEUgAAATcAAAAzBAMAAAAA6lKjAAAAMFBMVEX///8AAAAAAAAAAAAAAAAA\n",
       "AAAAAAAAAAAAAAAAAAAAAAAAAAAAAAAAAAAAAAAAAAAv3aB7AAAAD3RSTlMAq1RmmUTNIjK7EInv\n",
       "3XZ/CtNrAAAACXBIWXMAAA7EAAAOxAGVKw4bAAAE/klEQVRYw8WZXWgcVRSAz87+zM/uThYFpanG\n",
       "hZaCD20XHyoWTVK6bcTadjFQkIpZiiDkQSavUuLWB18ayapo3YphKkVxg91YJZWA7VbBlhbLghbz\n",
       "YHAC0WrFuNZI6gpZ79z5n7mZvWrMvQ+zkzPnzHw5955zz70XgK5Vq1VY1yZVqyqt7nftpTX6qlgK\n",
       "hzppqrXbZdpXXl8zl9zZ4fnLlsOi6w8XmeqgwDXYwe3oqPEhMzj+UkeVdI4VXFrrqMJdYQX3MIXO\n",
       "M6zgrhqdu/EGwYOWdEhhAye38M9TitgKPrSkiQwbuDT+rvQ5xBrB9GtJuRYbuHE8PcSakA6mO1sq\n",
       "rbCBuwdfU2WoFQLPHOnbbOAu4mtNg77gM0fap7CAE343MLJwF6cE4GxpLccCTl42Kg6N+zoWLFds\n",
       "aSrDAk6sG3HZ88nIj8FotaViw4TDkJto4Cg1w1qKzhnJpgm3R/99lgaOUjOs1fp9gndzJLXoHybc\n",
       "MX3eKNPAUWqGpjn/pCV9SioEhBUTLoEKz2SWBo5SM6xtD5r/MkMo1ZdMuChybIIqICg1w1ofYf3w\n",
       "CIHuNytav5ybu0oXrXSaYe1XhSDcMhAQ/WnBPQpwkg6OTjOsXSCu9g51+yVfWHAjwGcCnb5Pf8vo\n",
       "NsUDR9J0wt+avsPgDpLhAv/ynAUnqkn3JLx1etdzKCo/RlzDUPTA+TQ9BjaU6C25T3j+vA9fu9p6\n",
       "a9rderfx65J+a8Fxmj3KhflKQU7COVS4SAsFqQ5XPHAuzaABEY6bAAKcLyAeC8psOCj2WrI8CiZZ\n",
       "hp167uGv8w2Y9U5fjmbQgAQXfa1zt5JSidOtcHYYXSZ7z4Gsp2v0rZsojwv7VOS5S144rLk4sIC6\n",
       "PD4PEZdBMr8/v8cFJy+MDoD8qn77dAbskXpBoUrCTkDAUWQrfSMsw/v4tUl+IgdxfdOg6BtzWFNW\n",
       "NiRQKj3TpY65DXyeuxEpHxE+w5/XWkLdTiUlqunLKPswXARZxPrRGwbxt2JvlUG6Q78d3eSNVqwZ\n",
       "hQkB3T6/FX5yGfjhcqJWgvv1HuPfacjlsCRMakuekilVkDOwo1KpZGU5+UR4yWTUZBuhx2PgG3Nd\n",
       "+v/15AzeHInYXbe9QLf99ZcHrqaIO9Xj2BFy/LDK5/PmEArCCXXeEFwGx8DJcybcGOh0x1DyTxdS\n",
       "tr/Gc3QF84rXc8r4oCqqeAjBTH+I544mizGYBJiNN4FkgOH4+jRg2Ug3pEtD9sMu/5s/mNPbrH9D\n",
       "4pYHLr5720fAv6mn6x+mTu8NgYt9f/4mjGVh80NFooHhuQOHF42soQC3+w1n2Vr8B9W8r0yfrFQK\n",
       "dGV6VlLEHNFA9Fu+B062i9Tp9vCa/2UNEVcj2qFVlgl+QU/ccVfUWMtLi93HzwbDYCEHp1zV/L+F\n",
       "i0K8d6oTnIBiuXICBn92jfRbZnEwr+0Plg5c3Vy4vqD9T6svnmJR/SD0qcGt4RdjDdjAcFENj+Nr\n",
       "CQghB2pKg2v47l422xFDZvxcIz5Uhdv4htFGTtpIdPFlIJy57AW57gqbdYfD35VeRymFEE+vgJhx\n",
       "NvEYbbtyt0/X44Q15i4YyrHcdkVhijx3QNv8AOHZqfMHFcODjOASoQc403hAtljBCasfkiSLEi5P\n",
       "01lWcKhEXTWSNeNcjN3xUsjBHNeLS0h7KqaH+2rNDoOPdHj+klFrSdUz1HDrdxg8bKq12+W/AR4r\n",
       "lsEEgWNpAAAAAElFTkSuQmCC\n",
       "\" style=\"display:inline;vertical-align:middle;\" /></a><br>"
      ],
      "text/plain": [
       "<IPython.core.display.HTML object>"
      ]
     },
     "metadata": {},
     "output_type": "display_data"
    }
   ],
   "source": [
    "weak_div_from_denom_bound__all_pos = Forall(\n",
    "    a, Forall((x, y), greater_eq(frac(a, x), frac(a, y)),\n",
    "              condition=LessEq(x, y), domain=RealPos),\n",
    "    domain=RealNonNeg)"
   ]
  },
  {
   "cell_type": "code",
   "execution_count": 48,
   "metadata": {},
   "outputs": [
    {
     "data": {
      "text/html": [
       "<strong id=\"strong_div_from_denom_bound__all_neg\"><a class=\"ProveItLink\" href=\"proofs/strong_div_from_denom_bound__all_neg/thm_proof.ipynb\">strong_div_from_denom_bound__all_neg</a> (conjecture without proof):<br></strong> <a class=\"ProveItLink\" href=\"../__pv_it/theorems/56aea67ca3262ed30392635c78bad751c30a4b3c0/theorem_expr.ipynb\"><img src=\"data:image/png;base64,iVBORw0KGgoAAAANSUhEUgAAAOcAAAAyBAMAAABVKdGPAAAAMFBMVEX///8AAAAAAAAAAAAAAAAA\n",
       "AAAAAAAAAAAAAAAAAAAAAAAAAAAAAAAAAAAAAAAAAAAv3aB7AAAAD3RSTlMAq1RmmUTNIjK7EInv\n",
       "3XZ/CtNrAAAACXBIWXMAAA7EAAAOxAGVKw4bAAAD5ElEQVRYw7VYXUgUQRz/n3fr7u2eexeBEIod\n",
       "GEWgeU+CUnriWRGKh4IvPXj1EvgQ22tI1FNQghf00CXZBhLJiR4FSkZ+PFlI0QdRFMYJFmhpooTg\n",
       "gzU7s3t33uzdrjI3Dzd3//nt/m5mfv+PGQCmzX09//iwCuzbQYtx4St7TkfCClHNnrTWEiH5WHPy\n",
       "c9aYj6xJS5LWmCrWUjppA1McZEw6T7orU9dMBnUrt8WWU97GHTcHD+k1TFkvMN5SosyRALTRgylr\n",
       "DdtN7SfhqB3gGz2Yso4lmZKWk+41iH/pwZTV/Y4p6Sz+FHfAuU6Npa1OpkoSNsnrN8AROUaRpqzi\n",
       "JlPx6lMYhOog7Yxp6yzTtDZD+ke/blbQGS5tfQCAZV7JgtQTtYebBmjR+kssSMdsBrjGMNzQskOU\n",
       "iZsmbeOKUYCQ/CxIa8zfclShV8QZQJGfiZAaTeujU+eyLV4kozcLC/NMSP8oJsbVScrkRZt5FuA+\n",
       "E9JpOpKLL0322RNBeQ54+3VLPoG2U6R8W8AsGaHg61alcO7ibbzpcubvfDI/TLp/uOGvpWlpedPW\n",
       "EhREipI5dCQsxsKyBBOJnKSiGWlGKzXVs0YKkQZz0hBSoyxDfTIXKd+k7nd54WkP+og3TGiGtTNL\n",
       "SIPcIjhA1h5ApCtBPhQKtWSSEpRwQCFIQ0iKfSFBL9KR+FnQcoSsHCpGSzLqVftgGGcOiR8MZM+U\n",
       "oLi7io40XMbET8XVFZpU060DgV1BQVtpJwwKqLtaDcvQid/vGohSQsIobkA1kPmDA+WoXsMFPGGZ\n",
       "+A3JiWVQAbWxWMwvy1KHiXoRqs+fQhph0NwJaqkwaChzTHHXa/9cmOG1n5/gFdzGM5W58ypFqqHE\n",
       "534DaQTywB4Tg0fp71Tj0CtFXBAH+MKtI//FewqTwWxSjAJY1kg0ZPay2U0MXPOJZ2jFXD+mVrSF\n",
       "O1IXAf4esnf9TAydzibFKNTqEKuGNFwhsq8Yrf8Fv6i40fvisRi1S7uDw3GFIPXD6Yw90t1BhFP1\n",
       "zpHsyvFAdhjMRDrJqQJGF5+8oEPRaDOIPr0CzmxOo+MaEjZJM5HChp4U5AoXXVAnqvTCl9/Za/pS\n",
       "rIttp+LcdlBCFvxt4IiyL7ahlbweXCaKEuEteLCvONgeK7p13XnMKjRuWz9gedkeoEp0R+1WRLqI\n",
       "QNP/TaIl26Mike9wuBwkk/rfB3fwl/eFOP7X3GqFDnrM5eM2C3H8Jys3tFbUbFIxiGVLW/qM2bbi\n",
       "vBdmEhZ1N+srHSHP5dU4jOD5f2B+Tbece+g7Sr0FuabLdyFZuYS9uAvYt4tWG9BTAFKrS+bHWEb/\n",
       "AZmoB/AeELOtAAAAAElFTkSuQmCC\n",
       "\" style=\"display:inline;vertical-align:middle;\" /></a><br>"
      ],
      "text/plain": [
       "<IPython.core.display.HTML object>"
      ]
     },
     "metadata": {},
     "output_type": "display_data"
    }
   ],
   "source": [
    "strong_div_from_denom_bound__all_neg = Forall(\n",
    "    (a, x, y), Less(frac(a, x), frac(a, y)), \n",
    "    condition=Less(x, y), domain=RealNeg)"
   ]
  },
  {
   "cell_type": "code",
   "execution_count": 49,
   "metadata": {},
   "outputs": [
    {
     "data": {
      "text/html": [
       "<strong id=\"weak_div_from_denom_bound__all_neg\"><a class=\"ProveItLink\" href=\"proofs/weak_div_from_denom_bound__all_neg/thm_proof.ipynb\">weak_div_from_denom_bound__all_neg</a> (conjecture without proof):<br></strong> <a class=\"ProveItLink\" href=\"../__pv_it/theorems/3a0527f8a1f001a32d4305d4166c6f9e595c7cd80/theorem_expr.ipynb\"><img src=\"data:image/png;base64,iVBORw0KGgoAAAANSUhEUgAAATcAAAAzBAMAAAAA6lKjAAAAMFBMVEX///8AAAAAAAAAAAAAAAAA\n",
       "AAAAAAAAAAAAAAAAAAAAAAAAAAAAAAAAAAAAAAAAAAAv3aB7AAAAD3RSTlMAq1RmmUTNIjK7EInv\n",
       "3XZ/CtNrAAAACXBIWXMAAA7EAAAOxAGVKw4bAAAFKElEQVRYw8WZb2gcRRTA393eZf/dbQLFYGxJ\n",
       "DyoFwTT3qWDR5EqSRqXaw2BBKuYsghihbKBfqiWkftRgzkqtpxi2EtRcIDkUExuxueqHqkWJVrEo\n",
       "wQ2N1laMwQqRfDDOzWx273bm9qY0ZubD7d6bd7u/e/PemzczAHwtn8/DpjYtn7d4dX9e+3uD3qoO\n",
       "BvePESZ1bS3L+8jvN8wkW2r0Kz86N9Lmw4UKtTRaxMHtrqmhN4iCky/U1rkkCi5u19a52xIEdy+H\n",
       "Tl1KENxFMrhbrzIsuC6NroiBM1bx5XFTXaU7XemTYuDiOBK1zyAyR88JrrTVEgI3jKeHyDLE6XTn\n",
       "SSdtIXDb8GcsC5Npqs+TqnNC4M6vW6ad7vOk0ooIOOUGwUhAY9ik4FypdkMEnEGShGqHv4vQ5Yon\n",
       "PS8CTi2SuGz+qP83Olo96VsOHI7tHTxwnJpBLcZpjFkHrqt0fZoHjlMzqE2mmOKdfv9rTxO4E6V5\n",
       "I8sDx6kZmOaY0/59DzL1EFwdysZ6ggeOUzOotbJ+/scM28IITkqi13IFBKdmUGun1w/aJwxr1jc4\n",
       "0frV/PxFvmjl0wxqf1LJTXsoydCrzzpw9wO8wVybUXDVNPnbrH+1pzUy/SSWceD6QW5g9Eu3w8Au\n",
       "swKuiqZv+g7qPEAtRdlw8TkHTrX08km4ZWrvEXQZR2bqg0wFnE+TtPBPTzWWe41a2Xu64ut2clnD\n",
       "jRSY3rBi4TKBKzpwYdv1cmUhlzZ0mC7A0Wlk8iJ8WQFXpum0l5tOgV3Qn68GFx4BFlzNgHDhINO2\n",
       "LutEwWQYsMeWSyzyHFyunL48TWcIkXnBtqWJKnDSqzWHlZ1K3GGF9/tKw9g2DUbJwgjuegqk27Dl\n",
       "LlTCYc2l7kXkitEFCMEVwHDGKBzt7OxMl8EZiwPdYJws3T7RAK6nzpp8SdgNCDiOfqv9oKzAGH6s\n",
       "Lo8gyPAWZCifz2FNw2yqQ048UW8NaXi6sAvHrlCWuxrKHlY+xcNmrypFN5Ww90l2+sWx9TwHIdQV\n",
       "SaEn9GC4yJv4nUoXDOyojFasKcGIgm6fa4FrUezL9gNngYJLqvYg3FUaL/ntOSMbkISZrT5VXjLF\n",
       "0kYD7M7lcgnD0B8JLplITbYVmqVncrmTaFg/TNA+V1/6X4/N4M2RkOvyrWnOAqFQDjdpqnusl7Dl\n",
       "jOghS0Yu1FUFTinKRPC5UiA+9+gMDTcEJboT3ci50zHXXsPJmygQPMuZwz2WamGfg5lUgOWO65kI\n",
       "jANcji6T+QKlklE/nFycAvyQ/jsgPthbOVwViWQet0FWgeDCRTt2fQDy6+ju4K+F0X0BcJFfzl2H\n",
       "oQTceU8GjqGHRo88q3Vm/JZ7+NASyRomhDte81JE5ibmYF+ZPp7LpfnK9IRmqknQzuZOUZW4X/Au\n",
       "eNkuVOSD234ra4ioFbIPVlkm+AXNUc9ckrMJMbHw3sfUpKotJuEMuf3iVuAkiLYVasEpKPhzp6Hn\n",
       "97Kl4V/kmjKa6f0IPVx0Fq7yv//T6kvmWFRLprQaogL3BcTbJHBRDfuJASHCiAwrZsPXxDXFbEf0\n",
       "OgEXY610ei3lH5JxxGzkxJ1E12tqdIGyDwwSze1itsBIuI6lt4FOd74CKqlfvhG57dr64n5gTOB7\n",
       "oTcpctuVjNjoUriDsXY4c+4ALoMc+20+XF3gAc6UExiC4JTqhyR6RsPlKXwLguDgWvVItsm5mLjj\n",
       "pYCDuXAbKSHXJ21+uEsbdhh8uNbA95EyID/BDbd5h8HvkHAoHQb/B0DUml3jRkcNAAAAAElFTkSu\n",
       "QmCC\n",
       "\" style=\"display:inline;vertical-align:middle;\" /></a><br>"
      ],
      "text/plain": [
       "<IPython.core.display.HTML object>"
      ]
     },
     "metadata": {},
     "output_type": "display_data"
    }
   ],
   "source": [
    "weak_div_from_denom_bound__all_neg = Forall(\n",
    "    a, Forall((x, y), LessEq(frac(a, x), frac(a, y)), \n",
    "              condition=LessEq(x, y), domain=RealNeg),\n",
    "    domain=RealNonPos)"
   ]
  },
  {
   "cell_type": "code",
   "execution_count": 50,
   "metadata": {},
   "outputs": [
    {
     "data": {
      "text/html": [
       "<strong id=\"strong_div_from_denom_bound__neg_over_pos\"><a class=\"ProveItLink\" href=\"proofs/strong_div_from_denom_bound__neg_over_pos/thm_proof.ipynb\">strong_div_from_denom_bound__neg_over_pos</a> (conjecture without proof):<br></strong> <a class=\"ProveItLink\" href=\"../__pv_it/theorems/9b48e06ab65b6e4083dce1c32fe2a488589df6cb0/theorem_expr.ipynb\"><img src=\"data:image/png;base64,iVBORw0KGgoAAAANSUhEUgAAATAAAAAzBAMAAADiNknaAAAAMFBMVEX///8AAAAAAAAAAAAAAAAA\n",
       "AAAAAAAAAAAAAAAAAAAAAAAAAAAAAAAAAAAAAAAAAAAv3aB7AAAAD3RSTlMAq1RmmUTNIjK7EInv\n",
       "3XZ/CtNrAAAACXBIWXMAAA7EAAAOxAGVKw4bAAAFD0lEQVRYw8WZXWgcVRSAz+zO7M7ObCYrglir\n",
       "YaFFKZiyKCjJQ7ol21YfWheDfbBgl1IotlAm4Es11PVFHxrN+hNxU01WCYibko7VpqQPZeuD2ool\n",
       "YvyBdMOERiWtpLFtyI/Q9e69sz/Zeycz6caZhezdnHs298u55+eeOwDWLymbzYCjr2w2a0etoVCI\n",
       "rtOKH1mYoI+MA4UlW2Dx9bIEF7FQeLu0NS3Ogm20UvCMuQLmTViqfOkKWJdqvVbEDbBJaxXPZRfA\n",
       "vDkbSgddAAtqeOi8cJwxWZLuV50Hu4lzgfAdDND5uiz1hZwH+wm/n4rAbnquLPUsOw4mLuLhOYAJ\n",
       "erIsle46DsYR378E0jw9WZF+4jhYMGRYxDtHF8mKdJvqNFgPzp3SLeASj1FgFenpiNNgN0ki6Ifm\n",
       "KH1YqUiJYZ0E+5gMn954qylJTVakgTEChvk2WYFxOJIjdYFdsqcmzxGwHcXhkBUYXzSaT62HS7pj\n",
       "s3DNE7A30Ls/ZQUmFg17rL40dnctei3gQ4VADlv62GE0nqkLzHOLLT7EtGwLeJHj+Kyd/0k0JuoC\n",
       "8y4ypeNU3fzHiMof8/kfrMGC+fxVrS4wZYElnKDr+ZIB9gxAnzUYn4RAfT2cvEzLhlhHx28NsE7w\n",
       "h6zBkE6nuUbJlqt1eTwN9srPLMW8ARbIyNUJtHlk+1FWgu2DswzPnTj4gF4FtFp0c6QWNhaKL/yZ\n",
       "O1CeJFLy+aoB5tHLvi9OpeOKDOc0BthWyvff2dALuia/ZgomscCqJQeY/0EJDBJtJVEMFQVFgVad\n",
       "Aebz1kh55Jyg695hMzD/9kxdWwlnijlqqO0cKMWSg8CuR/2xWGzHSjD5UbSMMn18F/r8UghVsmuA\n",
       "wZRB+Do2HotXgc3umkY1QrxPBWGKFDPs/AtrdH7oQr4v/SYuwBc4gGV/f4RhMf9F9PYXl0Lml/Rl\n",
       "MSdhCF07dq3WYoq6wRcG4QMEN9yY6S5nBlYeG56kQ/1iCYxDG8hHxRx04O/zJ1PM08WD6CcS0JGy\n",
       "/7MxJSVgev3ZUagF80K/CMLJ4oqvNsOMRYKlE9md6mNPMK6E4Kl0Oh1WFPl582NPI67jnMbp3pfT\n",
       "6ffQVp4N0z6GNq07bFxWNJUjeJ5dEKiS9G812Gk10Jo5gS2mCPsypmDdoGJBMClqxMdeOF+VxwiY\n",
       "mPODNIrJfoHvyyF/e21F3LCY2tORwakdpYvzURMwf24EopIGDcn9RrlA6WKwShODdckJHg0zxb3+\n",
       "XZhbuUV2i30JTGjf+hX4i9dqe//UBneaWWzPvtmM+A142j9EhyDkbcLRI1IsUQPG/3HhOv7biGxz\n",
       "S2X217XU1JVH66F0Om59tPbA5/A+8oXRdG+t5sqw2aJKaqAS4Q/b7PLm7vXM/yI0CSYnoNp45vS9\n",
       "lV+2EdeVZh86QZ/shttBIiU7mLpXsAh03AB7YEJbVXXrIYHKw5RO3xFoj5cay9f1/6FLUq0bXnga\n",
       "me5+KhTDu4FLudTw8uSKIAk7GZ0KXIEgKcaPOH5FIJQy7BXW5DL0kL7S+UsVGDcYFoB+vMAn4G9S\n",
       "CZy/hiJhKfVyOaC7h0AI3iWLuXBxh686PYuDOYFuF/mQcNu1q068S9IeffMTDO/fOE3Oa8RuDl+n\n",
       "H1m1i0oYQeACWLd5nhuBU3h/G8JugCnmXdSk8ZzJnUc2qzzk2jSNFykXYXtgrev1INUXtlB4kyyU\n",
       "zc7YAnPuQephMg4Ulv4D2jdwuwBTuPwAAAAASUVORK5CYII=\n",
       "\" style=\"display:inline;vertical-align:middle;\" /></a><br>"
      ],
      "text/plain": [
       "<IPython.core.display.HTML object>"
      ]
     },
     "metadata": {},
     "output_type": "display_data"
    }
   ],
   "source": [
    "strong_div_from_denom_bound__neg_over_pos = Forall(\n",
    "    a, Forall((x, y), Less(frac(a, x), frac(a, y)), \n",
    "              condition=Less(x, y), domain=RealPos), \n",
    "    domain=RealNeg)"
   ]
  },
  {
   "cell_type": "code",
   "execution_count": 51,
   "metadata": {},
   "outputs": [
    {
     "data": {
      "text/html": [
       "<strong id=\"weak_div_from_denom_bound__neg_over_pos\"><a class=\"ProveItLink\" href=\"proofs/weak_div_from_denom_bound__neg_over_pos/thm_proof.ipynb\">weak_div_from_denom_bound__neg_over_pos</a> (conjecture without proof):<br></strong> <a class=\"ProveItLink\" href=\"../__pv_it/theorems/a454b4b4e9a290cfd11eb6c2f23a805f4a315bed0/theorem_expr.ipynb\"><img src=\"data:image/png;base64,iVBORw0KGgoAAAANSUhEUgAAATcAAAAzBAMAAAAA6lKjAAAAMFBMVEX///8AAAAAAAAAAAAAAAAA\n",
       "AAAAAAAAAAAAAAAAAAAAAAAAAAAAAAAAAAAAAAAAAAAv3aB7AAAAD3RSTlMAq1RmmUTNIjK7EInv\n",
       "3XZ/CtNrAAAACXBIWXMAAA7EAAAOxAGVKw4bAAAE/UlEQVRYw8WZX2gcRRjAv9u7vf1zd5uDothW\n",
       "40H74kPbw4eKRZKUXhofbHsYKEjFHEFQ8iAb6JOUmPrgSyM5Fa1XMWwkIF6wFyskkof2VLClxXLQ\n",
       "igGNbiBarRBjjaSekHN29t/t7tzeqDEzD5vNN9+3+7tv5/vmmxkAulYul2FLm1wua7S63zfWNumt\n",
       "0mg41DlLrdEo0j7yq01zybY2/a/aDotuPVxkpo0CV2MHt7+txkfM4ITLbVVSWVZwKb2tCneVFdxj\n",
       "FDrPsoK7Zn7cnbcIHrSlAyobOKWO/zytSvVgpy2Np9nApfB75c8hVgumX1vK1dnAjePpIbYKqWC6\n",
       "c6TyBhu4+/E1WYRKPtDnSt9lA/cpvlZ06A72udJulQWc+LuJkYF7OTUA50grWRZwyrpZcejczViw\n",
       "XHGkyTQLOKlqxmXnJ8M/BaPVkUo1Cw5D7qKBo9QMa0k6ZyRWLbhe4+9zNHCUmmGt0kOcTP0Pjf5h\n",
       "wZ025o0iDRylZmiaI0370Zv+elzcsODiqCeRoYGj1Axr+wjmyjeBtYK8ZsFFUdjGqQKCUjOsdQfX\n",
       "D9PfEfR+s6P1y8XFa3TRSqcZ1n4NJLepGyS9P224xwHOEZdBAbhWmvTtkv8LTg4S9b6w4YZBSJOG\n",
       "6X0wslf1wLXQtMLfnr7D4I754SJkuEUbTtISzZPwntmDLxhDAblpCAoeOJ+m18CGkrxZ4qzn3wfx\n",
       "taNhNJzL4KT7WZuk39pwnO6McnGplFcSMDcDJ+fQd63CVQ9ck2bAgAzHTQABrn1AOHBQ6LJlORRM\n",
       "igIHdMFgEWqw4J2+XE2/ARku+ka7z0pOJe5nhQtDxg/omgPFKAbQu273QPQe7LnLXjisudK3jIYi\n",
       "vwSRJoNE7kiutwlOWR7pA+V14/aZNDgj9ZJKlYTdgIBTyFb+WlyHD/BjE8IEeie3DTnKN+awpqJu\n",
       "j6NUer5DG/MYeD13K1IcFD/DQa/XxaqTSoj7JNzzxLIPw0WQRawHPaEfvyv2Dp6ixF4Y2eWNVqwZ\n",
       "hQkR3b64B372GHjhspI+Cg/NG4PjvZpSDEnCxLbmKZmSeSUN+0ulUkZREk+Gl0xmTbYTOj0GvjHX\n",
       "Yfyup+bx5kjEmVH35em2v/7ywFVU6YB2BjtC4U9oQi5nDaEgnFgVTMEVcA3cPGfBjYFBd7oPLbjy\n",
       "Scdf41m6gnnD6zl1vF+TNDyEYL4nxHOnEoUYTAMs8KtAMsBwQnUWsGx4B6RGB5zODv+TP1w02oJ/\n",
       "EN7xwPGH9n4Mwtvo7viPM1OHQ+BiP1y8DWMZ2P1ogWhgeu7oiRUzBFXgDr3lLlsL/6Ca95Xp06VS\n",
       "nq5Mz8iqlCUaSH7L98HNdpEq3R7e6n9ZQ/BaRD/eYpngF3Tyrrui5lpeXtlx5kIwDJazMNlUzf9b\n",
       "uCjwXTPt4EQUy6Wz0P9L00i/YxUHS/qRYOnAVa2F60v6/7T6EigW1Y9AtxbcGn45VoPtDBfV8AS+\n",
       "jgIh5EBL6nAd3z3AZjtiwIqf68ROTbyLbxht5KTMRMevA+HM5TAo1aaw2XI4/F75TZRSCPH0Gkhp\n",
       "dxOP0bYrd3eqyhMWiQdhIMty2xWFKfLcUX33w4S+yYvHVNODjODioQc4s3hA1lnBia0PSRIFGZen\n",
       "qQwrOFSitoxk3TwXY3e8FHIwx3XhEtKZiunhbmzaYfBgm/5XzFpLLp+nhtu6w+AhS63RKP4NdtyX\n",
       "MlNfW/IAAAAASUVORK5CYII=\n",
       "\" style=\"display:inline;vertical-align:middle;\" /></a><br>"
      ],
      "text/plain": [
       "<IPython.core.display.HTML object>"
      ]
     },
     "metadata": {},
     "output_type": "display_data"
    }
   ],
   "source": [
    "weak_div_from_denom_bound__neg_over_pos = Forall(\n",
    "    a, Forall((x, y), LessEq(frac(a, x), frac(a, y)), \n",
    "              condition=LessEq(x, y), domain=RealPos), \n",
    "    domain=RealNonPos)"
   ]
  },
  {
   "cell_type": "code",
   "execution_count": 52,
   "metadata": {},
   "outputs": [
    {
     "data": {
      "text/html": [
       "<strong id=\"strong_div_from_denom_bound__pos_over_neg\"><a class=\"ProveItLink\" href=\"proofs/strong_div_from_denom_bound__pos_over_neg/thm_proof.ipynb\">strong_div_from_denom_bound__pos_over_neg</a> (conjecture without proof):<br></strong> <a class=\"ProveItLink\" href=\"../__pv_it/theorems/db44bd65a2e00cd38d919ec48897e08bd3031ed80/theorem_expr.ipynb\"><img src=\"data:image/png;base64,iVBORw0KGgoAAAANSUhEUgAAATAAAAAzBAMAAADiNknaAAAAMFBMVEX///8AAAAAAAAAAAAAAAAA\n",
       "AAAAAAAAAAAAAAAAAAAAAAAAAAAAAAAAAAAAAAAAAAAv3aB7AAAAD3RSTlMAq1RmmUTNIjK7EInv\n",
       "3XZ/CtNrAAAACXBIWXMAAA7EAAAOxAGVKw4bAAAFGElEQVRYw8WZb2gcRRTA397t3u3tXrYngtpW\n",
       "w0FLRTDlUFASML2Sa6NCajA0HyzYQwpiC2UDfqmGen7RD43m/BPxUk1OCYrXmp6VpiRgufpBrWKJ\n",
       "4D9or2xoVNLaNPYP+SP0nJ3Zu73s7N5uenF3ITvkzbudH2/evPdmBsD+EXK5LLj65HI5J2oNpVJ8\n",
       "lUZ838YEg6QdLi06AutcLUswMRuFN8pT0+wu2Ho7Bd+kJ2D+pK3KF56A9cr2Y8W8ALtgr+L73gMw\n",
       "f8GB0h4PwMJ53PScOmjSWZbult0Hu4pjAfctDNPxuiINRNwH+wm/j8agg+6rSH1LroPxC7h5CuAc\n",
       "3VmRCrdcB2OI758B4SbdqUs/dB0sHNEs4p+jk6Qu3SK7DdaPY6dwDZjk/RSYLj0WcxvsKgkEQ9AU\n",
       "p4sVXUoM6ybYB6T56PLrjSmqU5eGJgkY5ttgB8bglRyrC+yMMzVxjoBtU5vn7cBY1WgBuR4u4YbD\n",
       "xHWTgL2K3sG0HRivGvZAfWHs1kr0miGAEoEYtfWxvag9XheY75pR8knM2rLN4Ee9AXvnfxi1ybrA\n",
       "/AsUwleKmeI/2qr8sVj8wR4sXCyez9cFJs3TsisTJoqLGtjjAIP2YGwKQvXt4cQlE+FjT9KybzSw\n",
       "HghGTD5jAEM6PfaD19rlsWZgsKmdEhU1sFBWrA6gTWNb96ufMQbYQThh4tDn9txV7Se1VjdDcuGa\n",
       "kvro2bJ7nS4lkvMamE+p+D4/lemURDiZNwHbTPn+m2sHQMmLL1uCCWZgxqeb8qMyGCRby6IESgqS\n",
       "BC2KCVjAb1hCLHJOUBT/qBVYcGvWwVTebTmVcFyNUUdaT4KkxhUEdikuJjoS25aDiZvQMNL0QdUn\n",
       "no2gTHYRMJg0Ai8mEonOKrDZ9mmUI/g7ZOCmSDLDXjtv5vzt1s4Pvcj3hd/4efgMr2oxOBQzsVjw\n",
       "NHr9xaSfQ8rKEl8QMISSP3DRaDFJXhuIAvcughtdk+2rhIsFh+HidBmMQRPIxvkCdOHfs4fTZs4P\n",
       "96C/WEhBysGPJ6U0h8O28sQ4GMH8MMQDd1idx5eaYKZGgL1iGmBvVJc94U4pAo9kMpmoJIlPm4KR\n",
       "NYXzOJNnFP8LmczbaCpPRGkfQ5PWF9UOKxorK5gqqD83T0n/VoMdk0Mt2UPYYhK3K0vHMe3pAxkL\n",
       "wik+T3xs5wQFxheCIIxjsl/gu8qSv76yJK5ZTO7vyuLQjsLFRNyiUAwWxiAu5KEhtVtLFyhcjBjB\n",
       "esWkau8Z1R6/c3PLp8hpsi+DcW2bv4SgeqzW/Wd+ZLtVBbtj12yW/xp8be+hIgh5G7d/n5BIGsDY\n",
       "P05dwt9GZBub9d5fV5JTl5fWRzKZTvvS2gefwjvIF8YzA0bN5QH2AVmQQ7of3etwlzd3uzX/M9DI\n",
       "WVRAxpTEKN36P1tIvBVm1x2iK7vRNhBIyg6nbxcsBl2XwRkY11pVKvWThcrClEKfEeQfLG8sX1H+\n",
       "h12SbL/hhUeR6e6klmK0A5i0RxtelhwRpGC7SfCCsxAm4fY+148IuHKEPWvWuQT9ZF/p/qEK/Kwx\n",
       "zAN9vcAm4W+Sudw/hiLLUhhgCkDvHkIReIsM5sHBHT7q9C2MFDh6u8hGuOueHXXiWRJ2KBsfMvH+\n",
       "9dOkXiN2c/k4fV/NXVRSWwQegPVZx7kxOIrntyHqBZhkvYu6oN0zeXNlU+OSa8M0HqSShJ2BtazW\n",
       "RWogaqPwGhkol5txBObeRepe0g6XFv8DLStq9//nk24AAAAASUVORK5CYII=\n",
       "\" style=\"display:inline;vertical-align:middle;\" /></a><br>"
      ],
      "text/plain": [
       "<IPython.core.display.HTML object>"
      ]
     },
     "metadata": {},
     "output_type": "display_data"
    }
   ],
   "source": [
    "strong_div_from_denom_bound__pos_over_neg = Forall(\n",
    "    a, Forall((x, y), greater(frac(a, x), frac(a, y)), \n",
    "              condition=Less(x, y), domain=RealNeg), \n",
    "    domain=RealPos)"
   ]
  },
  {
   "cell_type": "code",
   "execution_count": 53,
   "metadata": {},
   "outputs": [
    {
     "data": {
      "text/html": [
       "<strong id=\"weak_div_from_denom_bound__pos_over_neg\"><a class=\"ProveItLink\" href=\"proofs/weak_div_from_denom_bound__pos_over_neg/thm_proof.ipynb\">weak_div_from_denom_bound__pos_over_neg</a> (conjecture without proof):<br></strong> <a class=\"ProveItLink\" href=\"../__pv_it/theorems/982098b95cc05c23f562f11fb8ff924edb2909ec0/theorem_expr.ipynb\"><img src=\"data:image/png;base64,iVBORw0KGgoAAAANSUhEUgAAATcAAAAzBAMAAAAA6lKjAAAAMFBMVEX///8AAAAAAAAAAAAAAAAA\n",
       "AAAAAAAAAAAAAAAAAAAAAAAAAAAAAAAAAAAAAAAAAAAv3aB7AAAAD3RSTlMAq1RmmUTNIjK7EInv\n",
       "3XZ/CtNrAAAACXBIWXMAAA7EAAAOxAGVKw4bAAAFJklEQVRYw8WZX2gcRRjAv7u9zf672wSFQmxJ\n",
       "D+qLYJp7KlgkuZK0UVrsYbAgFe9SC9IIZQO+VEtIfdRgzkqtpxi2EtRcIDn8k9oI7bU+VC1KtC0W\n",
       "S3RDo7UVYrBCJA/G2ZnN7u3N3t6Uxsw8ZOe++W7vl2/m+zMzAGytWCzCuja1WDRZdX9Z+XuNflUZ\n",
       "DB8fI0zKykqe9ZVX18wk99cZl39yOsL6w0VK9TRa+cFtq6uhNfGCky7W17nMCy5h1dd52OQE9yiD\n",
       "TkOaE9wlMrkbbwZYcFUqLvGB05fx4xlDWaYHXWkvH7gE9kT1S4jN0DnBlbaZXOCGcXqILUKCDnee\n",
       "dNLiArcJ/43nYTJDjXlSZYYL3PlVy3TQY55UWOIBJ98hGEnYEDUoOFeq3uEBp5MgoVjRKzG6XPGk\n",
       "53nAKWXily2f9/9Oe6snfc+Bw769hQWOUTOsxRmNcc6B22k/n2eBY9QMa5Ppams9F6jXkSFwx+y8\n",
       "kWeBY9QMDXNU0hr/uaYegmtA0VhLssAxaoa1Nvrr+nWzhoURnJBCP8vkEIyaYa0jYP8gBNA1Njne\n",
       "+u3s7CU2b2XTDGt/GgHC6EFK2ph34B4DeIcNjk0z1AsDd3tib7U4nnPg+kFqokLOblt9YKvhgwvS\n",
       "pNN32ODeYLhD1eLEjAOnmFplEm6d2nEYeeWniKsPcj64Kk1nUq4f3FDpg4p/9KTv42byWMHN1ek1\n",
       "POkigSs7cFHLXeXyXCGja3AaFS7qfEYtwzc+uApNp73efAKskvZyLbjoCATB+R3iCm1OFw5y7auy\n",
       "LuRMug7bbUtIV6UZuOZPX56mM4VoFYJlCRM14IQ3609rYChxpxU+7rODYftp0FOA4W6jKCPvNpHl\n",
       "LvrhsOZC9zyaBnEOInADMJw+Ci92dXVlKuD0+YFu0I/b3WebwF2p5wy2IOw6BBxF31V/lJdgDL9W\n",
       "k0ZSINqHBrmqNYc1daO5AYXSiUZzSMXpwioduUFZ7mYkf0C+gH3LWpbLbigZZEtf8dU4BxH0jVga\n",
       "vaEHw8XezYN6n90d2OL3VqwpwIiMui+1wi0xheEePwMUXEqxBuGhaXt5vD+j58OCcFBrTFeWTPGM\n",
       "3gTbCoVCUte1J8NLJlKTbYQW4VChcBxN62dJes012v/X09P4cCTienNbhrFAKFXCTRrKdvM1bDld\n",
       "3G9KaAntrAEnlyUi+EoukTX31DQNNwQ23bFutLgzcddew6m7KBA8yxnDPaZi4jUH0+kQyx3VcjEY\n",
       "B7gmLpJ8gULJaDWcVJ4C/JL+ByAxmPVPl2/NzeI2GFQguHBi59ZPQHob9fb9VhrdFQIX+/XsbRhK\n",
       "woOP5OAIeql4+AW1K1dtuSf2L5AIYUC08y0vROTuIgdXlenjhUKGrUxPqoaSAvVM4QRViVcLPgQv\n",
       "2kXKbHCb72UPIZoRa1+NbUK1oEX0zCU4hxATcx99QZV26nwKTpHu1/cCJ4DYXqoHJyPnL5yEnj8q\n",
       "toZ/kWdab6HPI7Ro2dm4Sv/+T7sviWFTLRjCcoRy3FcQbzPHTTXsIQaEWIBnmHELviNLk89xRNZx\n",
       "uHjQAWfWlP8hEYfPQU7CCXRZQ6WLkV2gE2/u4HMERtx1LLMJNHrwDVBI/fI9z2PXtlf3QEAC3wHZ\n",
       "FM9jVzJjowvRzoAN8Kmze3EZ5Nhv/eEaQi9wphzH4AQn174k0XIqLk/hB+AEB7dqe7JF7sX4XS+F\n",
       "XMxF20kJuZq02eEur9ll8IF6E99HyoDiBDPc+l0Gf0Dcwb4M/g/gMJ9uwURtHQAAAABJRU5ErkJg\n",
       "gg==\n",
       "\" style=\"display:inline;vertical-align:middle;\" /></a><br>"
      ],
      "text/plain": [
       "<IPython.core.display.HTML object>"
      ]
     },
     "metadata": {},
     "output_type": "display_data"
    }
   ],
   "source": [
    "weak_div_from_denom_bound__pos_over_neg = Forall(\n",
    "    a, Forall((x, y), greater_eq(frac(a, x), frac(a, y)), \n",
    "              condition=LessEq(x, y), domain=RealNeg), \n",
    "    domain=RealNonNeg)"
   ]
  },
  {
   "cell_type": "code",
   "execution_count": 54,
   "metadata": {},
   "outputs": [
    {
     "data": {
      "text/html": [
       "<strong id=\"distribute_frac_through_sum\"><a class=\"ProveItLink\" href=\"proofs/distribute_frac_through_sum/thm_proof.ipynb\">distribute_frac_through_sum</a> (conjecture without proof):<br></strong> <a class=\"ProveItLink\" href=\"../__pv_it/theorems/dccdca0ad1524f2b47620cbf46a4d4ed81f7a4d80/theorem_expr.ipynb\"><img src=\"data:image/png;base64,iVBORw0KGgoAAAANSUhEUgAAAskAAAAzCAMAAABSfWWJAAAAOVBMVEX///8AAAAAAAAAAAAAAAAA\n",
       "AAAAAAAAAAAAAAAAAAAAAAAAAAAAAAAAAAAAAAAAAAAAAAAAAAAAAAACXHtMAAAAEnRSTlMAq1Rm\n",
       "mUTNIjK7EInv3Xbt5cmRiLwgAAAACXBIWXMAAA7EAAAOxAGVKw4bAAAIHElEQVR42u1diZakKgxl\n",
       "U1mUec///9gBtBTZXAqXYsyZ6e5YCLl6gQSiBUAO4UbAK6/cIDnZ1/VKSElXh9ES7/mPouKMJ1TA\n",
       "NPtYJiZXhd1yiEsk8s+ioh1PqFrwy+TwLRdFEvl3UaEupb5MjgmuSyTyT6MSMKW+TA5L0zYFEvnH\n",
       "UXU4pb5MDqORW0tWuxzParebWuE7UD3Tv2h5Qn2ZHJyF2+2Xdxc70G4uIXkHqmdKTVLqy+SAtKJE\n",
       "Jre/HsRWfZNQXyb7Intr3uJSQk6FQNuYli7+PZNXzMmEKiTHWwa5GqlhQn2ZHMBiXyE1hUkoAem2\n",
       "MS1d/Hsmr5iTCVVIjrcMcjWCeh5XXyZ7QntrHwyrGQyrK2a2FLi/jOUwzS7OhYCQ52XywpzzUIW8\n",
       "7DSyTK58Gh7vZVx9mewJtCMjffvJeKeplNZYQTotbWt+wUBxYgqlSqeHp7X6T0EV7wkxZFkHkRV4\n",
       "rIurL5P9yMglWjt1fX9nKTDKfor36pI0Pc0e8bXydFSxOuLIMl7+BDzsBHm2+jLZn4ZxIGQeMq22\n",
       "MHkqjvkpTJ7rJ1iNp+QMVIm1gwiyvAsUMXh8iWKhvkz2Y3yro3NWDfOy2DQmO8XV7y6rn2zXz3HV\n",
       "qhu5cd9uH6qAi7qCLM/KxSo8Z2ax1ZfJni/WLsJjyok6UKFNTHaKeylbDpN5Xzt/WH+t1d9wqYv2\n",
       "/ARUoWWDNLIssg4v4Si/TPb8NPuKcCIlQASjbX6yU7xx0mi9Mbkj7h/WX6v1Q/VZ1Z6BKjBcriDL\n",
       "MyavwhN9VFVMnkdohL9kcpaq7hWeel5gU8Q3SaNqaprsEd/MTuWpEgJoflRr4iM7Y0gJwMN9FVMV\n",
       "k8mk1c2XTM5S1d0Bn9xzzxMZPg2jlBK+sXQsAErUrwekjiKaH9UakX1k+SUIz8Fhq4rJFE4Gfutd\n",
       "ZKnqXkF9dDu2EXUvto+qrX4kpz/P0kpfbCnwKaiSfS6CbHc/TZ4QhOfMLbaq/eR67F3fbKmPfnKO\n",
       "qu4V3Jf4/N5uVEcyl3afc6CRHsZUzWQ88v6bJwpGJueo6l6RfYlJ9rtRPZbJLKaatYthR/SrrL/P\n",
       "2kWGqu4V0Zf4roPdqJ7K5LaOqYbJxEw9WxdWRIrJ+6o6U5KbX3H7yC8zecjVGAV+g+qpTO66mGqY\n",
       "3MDPj8MU+TB5X1VZJ1BGoGzma5OKOYWxVgjp90rYgwJlN6rHMrmNqcPOiB5DRXRvo+mI/hCPe4NJ\n",
       "Jq9UlV2ohIxVeqMTKk8QMbGFyUNPw3rlnaXvef8TspfJyVrCWXvphndn+u1pZIFvjcm6c9RxmiAI\n",
       "hCLouIKYZnKkqrOmUzLG5IKb/o03MRma8EevvAMvEiJF+sn/inehuYdlnCZIfUiMgywIIZ36X0WZ\n",
       "bFUlJWnUP9cLCB4N+guRkpXUvdgsN35WGzmmgwFNiMnzCYNq6N6Ym9siLzb64bWLqJ8sSlm7WIn4\n",
       "9PrvuBJs5dJNNAGIokp5oGKDn2xVJRsAGagdqoSPBokcKalGX0VC2mqXYrKwQe6tYoETCNPyR/3H\n",
       "gBomu29NALLI9WRZynpyPBluZHIzHrJy6WaaKCar2RtV25j8qQqoepj0sgLCR0MSK9lwvb0qmb1H\n",
       "hDnmUSbPJwCrhw5M9vK6352RTEwO5PelE/02iZM/4uzxGdeRjjd9yqWzthL13jeZqLDC5E9VYPZC\n",
       "ncyp4WiFJFmLDCNzon69mc6UwrUZYxkClFY0yuT5BHM5xw8G78LbxUV9VSCTd6PKMCYH8vuSiX5b\n",
       "hPcipnpZnVMu3UwTw2QuPoGcWGGyFTG2xnGlaJHMOh7V3sFK1D2WDDam4zU6mzJGfNZCMQucoL2L\n",
       "//5nxruIRHzewxVFyG5UD/Uu0hlEjiPyyaWzaGLykapkuz6TmxaIehzBByarzmAdbQammqOhH3NJ\n",
       "TCqMBmvMp6CjoOo/S35ja8KEhiK8njydYCU5qYByTFNJzl+FyF5UR97ilTeDKDK3oJjqMtnKpZtp\n",
       "gg1NJdzFZEBkJaTkM5OpXiiwjgK9wjccpW2z/GGXRNqv6cBUhU7GZvXgtkw+BRdqDiE07F1MJyy2\n",
       "H4WQgdTErsjXdBaCyskfsVWXyVYu3UQT2g3ZxjuZbH86EmbplE6LfKHOt/B4KGjq+QOurGF45K92\n",
       "FYJtW8CsE9YnNNiWyORCUDl7lXD5zEjcvY7T5BiTq8UIKDiQ/lEQKKlXHvBwSP9Urny1PsSwhe//\n",
       "OWH9PFzk1kghqFoWVa94jo/KdshXXrhFdd/3nXd0XoGzepSaDNCYco2NeyU35NrZOyPTCWi9X9L+\n",
       "vNxqLgkeAV0e8qEMxlxkf7SZZhnwLdRyn0g9vFXXnnefBEBmWeiGLCUf1QFjLrI/2sz75pZdQk5z\n",
       "KSkaXkIF2QNQHTDmIvvjzcAurr5M9n300/ZG+Lin2MoHoDpgzEX2x5txnqt933C4hoWcyCfuvDbz\n",
       "RlQHjLnI/kgzTtiK37fO3hfnmxdRyvYZqA4Yc5H9kWac1OfufRP4anR02mOIDH5+PADVAWMusj/c\n",
       "zPvtDA8alAnUdwA/A9UBYy6yP9yMQ21HfZkckvqsQZlDIcldufwuqgPGXGR/sJlq2RMd9WVyUOiZ\n",
       "38Eo6gehOmDMRfZ7zXQopb5MDotkp90d3qJnoDpgzEX2B5t5v+33mJzzXeX6W0rv/Bb0RdsHjLnI\n",
       "/lAzTqaNn3iTjcmYc15S6k19xsiD8PpzMpehOmDMRfYHmqE1T6iae7mm0U6/l6CoHHVW4vN8v4qK\n",
       "O8ytnVfda/axv3NmZ/5UUei5AAAAAElFTkSuQmCC\n",
       "\" style=\"display:inline;vertical-align:middle;\" /></a><br>"
      ],
      "text/plain": [
       "<IPython.core.display.HTML object>"
      ]
     },
     "metadata": {},
     "output_type": "display_data"
    }
   ],
   "source": [
    "distribute_frac_through_sum = Forall(\n",
    "    n, Forall([x_1_to_n, y], Equals(frac(Add(x_1_to_n), y),\n",
    "                                    Add(ExprRange(j, frac(x_j, y), one, n))), \n",
    "              domain=Complex, conditions=[NotEquals(y, zero)]),\n",
    "    domain=NaturalPos)"
   ]
  },
  {
   "cell_type": "code",
   "execution_count": 55,
   "metadata": {},
   "outputs": [
    {
     "data": {
      "text/html": [
       "<strong id=\"distribute_frac_through_subtract\"><a class=\"ProveItLink\" href=\"proofs/distribute_frac_through_subtract/thm_proof.ipynb\">distribute_frac_through_subtract</a> (conjecture without proof):<br></strong> <a class=\"ProveItLink\" href=\"../__pv_it/theorems/21946483eadc44ac7de7dc1d2e972283396c81a20/theorem_expr.ipynb\"><img src=\"data:image/png;base64,iVBORw0KGgoAAAANSUhEUgAAAT8AAAAyCAMAAAAdkSzzAAAAOVBMVEX///8AAAAAAAAAAAAAAAAA\n",
       "AAAAAAAAAAAAAAAAAAAAAAAAAAAAAAAAAAAAAAAAAAAAAAAAAAAAAAACXHtMAAAAEnRSTlMAq1Rm\n",
       "mUTNIjK7EInv3Xbt5cmRiLwgAAAACXBIWXMAAA7EAAAOxAGVKw4bAAAFFElEQVRo3tVbibacIAyV\n",
       "fact//+xBdwAHURHz6Cnfae+YgIxyb0JOAxdXYIPL7ikkH1ODKDhFRc3XRoQqOElFzQdTgrR4TWX\n",
       "At1NiWn2HvsNprtUY+yLzDdA3VkKRPppDRh+g7m0sBfFfdlPJ+AhrQWSK1VbsLQ4hJBsTkQYtAvf\n",
       "UVFiLnFdpRvrkun5V2uBHXAN5ZQPoeC27iw6tQjfU4GKN0W7ghCTzAaxMGlZpYMcjhYAopGyzfmq\n",
       "Rfi+CpF7LHQdZUDuksoj/BPTLPmY9RoH+rnrADi6EXWo+iT8c/gWKmQOGdJ1BHigRI9ju5Dw/jO7\n",
       "1+Ayc5ZWoxcqcB6xoiMSrcGwzc6yGiDRiWwjaht1TviuCpZDBuoHQbhDaXlORn+sl3MCzD9a5Mtz\n",
       "wvdVCJUHcDcc2qavEjousV8igYd8hDQuYUWZRuH7KgqOqrtBYJFOTGJrB4jRwQolUBY3htBqg0bh\n",
       "+yqYg2UCXE0If+iNWlx7TtHG8L2eqTIVJis6lCeGmCwI/7tsKB2+tC6p20qyZpJ9pCInPsiRgc8O\n",
       "yMTv3I9foFKh3dDaMATXOmNbFdZtpj3XxQr+zn7QnVcOkV1j5yQ7uqwCZnQzhg2a0t4vm5fIPbvv\n",
       "4dRtgZK9aBfei45Vkf5l79w+zERvI2oF5XMh5+H47n+6paRuKsVxUiYnDQnmbstNeaLWIWgZmH/c\n",
       "sYJ6Pf7pqWdbGfxG+2VhaszseopcCzyBgWXJO6mA+KhCKbvNFCCDNXf2Om4DkF3hlfZOMXT9XeYg\n",
       "JtJ+aE+iB7dA+DLS15LA5y2YVoWf7Td6OPK6iKjbr2v/27GfNx46w78wnt6RkvEx1GQ/ECFCh0c3\n",
       "aIGfzX/8qfw3xq+nfjMJtBYz/2dyexumsEyDG8qI9zo7Q5BEfIwLtmu/efwkTI2ZPCjaVA3qWfxl\n",
       "9zVKckl6DFs280vLQqeCjsvzzuVXy5fKHnOicAjahUwyuFl2Yr9p/IBFuP74v2jqI232Tu2z/O++\n",
       "TnGB5LPdwDR9vy5hh+mGyXBKwSYWYcGHyLJ4JJGs2G8aP1kIJX24Tfv3af6s79pr5I58zobjrxKX\n",
       "CrUfsAlsxLXS6E8CDpwTXrMfXx+dnXaM3006go48aj96V22fbwPIbV0TwnWxoCFTwh8zGAo+OfD1\n",
       "mQk/UmKXTHQaH+P37z8R4/cDfvCHO7n4rr15ZWptD6ZjyyYkuWgkz4VIYBbxjlHII/NYKxWmItSo\n",
       "Xf63jA+KFhCygb+AA1rwQH19Ez/Ptws2bQ9sibI27DlFiIQYCTpMd1giHVuEbD3kKJUPZsx343cZ\n",
       "nxeHnj/j7WLMs90LeReByeOkVrZ7hdL/r0DzXTIbFYJxP2PtJhp4CH/g4cMv4h7/Ls5sVGg/kRE6\n",
       "CF3uGie6m77vCDAeSit2MU/mGz/tooqRxXZBZdcBRQCYS9X2We9JhMfgelwhSGqVuHxqUaYA3y6q\n",
       "HJkTf/bAAYSrdcRhhzgguQf8y8BJr4gqRhab9R3tnzcxDKm+QFHNr4lKRxZ1J+jo/AY5ZtDsq2jJ\n",
       "Dle3i0pHWlrrJfz4MkcIGevGLxyQogui0pHl+WzU0/m1w9nAGDtfdMmlYadFpSOlKSDO9HUEv76B\n",
       "xYUSVplv2gxsatK1i8pGClTlgp07oAon3ul3XQbGT4pKR0pSLeU6uOhrvj4a3a+3T7j4u76fgd1N\n",
       "yYr3mK/D77fe9P0g6fNTPQrfYT5OO/0A+CXfT6/m+w8w4i/mLJT3RgAAAABJRU5ErkJggg==\n",
       "\" style=\"display:inline;vertical-align:middle;\" /></a><br>"
      ],
      "text/plain": [
       "<IPython.core.display.HTML object>"
      ]
     },
     "metadata": {},
     "output_type": "display_data"
    }
   ],
   "source": [
    "distribute_frac_through_subtract = Forall([x, y, z], \n",
    "                                          Equals(frac(subtract(x, y), z),\n",
    "                                                 subtract(frac(x, z), frac(y, z))), \n",
    "                                          domain=Complex, conditions=[NotEquals(z, zero)])"
   ]
  },
  {
   "cell_type": "code",
   "execution_count": 56,
   "metadata": {},
   "outputs": [],
   "source": [
    "# distribute_frac_through_summation = Forall([P, S],\n",
    "#                                     Implies(Forall(y_multi, InSet(Py_etc, Complex), domain=S),\n",
    "#                                             Forall(z,\n",
    "#                                                    Equals(frac(Sum(y_multi, Py_etc, domain=S), z),\n",
    "#                                                           Sum(y_multi, frac(Py_etc, z), domain=S)),\n",
    "#                                                   domain=Complex)))"
   ]
  },
  {
   "cell_type": "code",
   "execution_count": 57,
   "metadata": {},
   "outputs": [
    {
     "data": {
      "text/html": [
       "<strong id=\"distribute_frac_through_summation\"><a class=\"ProveItLink\" href=\"proofs/distribute_frac_through_summation/thm_proof.ipynb\">distribute_frac_through_summation</a> (conjecture without proof):<br></strong> <a class=\"ProveItLink\" href=\"../__pv_it/theorems/9b87e8a59dfeac8f08de5be7261e0a574ad71c3e0/theorem_expr.ipynb\"><img src=\"data:image/png;base64,iVBORw0KGgoAAAANSUhEUgAAAscAAABMCAMAAAC2wOouAAAAOVBMVEX///8AAAAAAAAAAAAAAAAA\n",
       "AAAAAAAAAAAAAAAAAAAAAAAAAAAAAAAAAAAAAAAAAAAAAAAAAAAAAAACXHtMAAAAEnRSTlMAq1Rm\n",
       "mUTNIjK7EInv3Xbt5cmRiLwgAAAACXBIWXMAAA7EAAAOxAGVKw4bAAAM20lEQVR42u1dibKtKAyU\n",
       "TQSUmeH/P3bcZVMM6tVjmaqZqnfjcWmb2AlBi+Kglax4l1WmN3TP0Z8K55+g0gwHGf/FGwn0HzCK\n",
       "itfxWJHW7uHTY+H8E1S6IxA08bRQCOjPN1zL9/GY33bs58L5d6iQmadFTTL8OSZP29PH42fDeQuP\n",
       "WeygKX+OobL4eHyePRjOW3hcIAH3Z10c+3h85pHZh4rDU24w2J+TXL8wHN/I4yfDeQ+PC9GA/RlZ\n",
       "yRvD8X08fjScN/G4Mhrqz4gfTfHx+MRw3Hyo+DwtRA31Z1ya/nh85nH1h0rAUxwo4JQfnl0b+fH4\n",
       "xGLFAmdp6ma0uu6nsE5Cmm/865k8LkwJ9ENNGlF8PD7NbDiZsSSGZMqcFKq1G7uY/gEeI1PB/PDj\n",
       "4Y/HZ94+C05lqMNxBJfOWhgjEBIlnWM5Vv425Pk8ZkbB/FAT75QVd/HYhbP0ahco45zGJ66Y5rpl\n",
       "+AQu5S2obMobj6eFqWF+8HPwldWKu3jswcmN22khdcZ16DETGn9Lw+hL6B2obMsbn6fCEw4pPzj8\n",
       "q4/HZz5Nlffvo9mHHu+vnvYci1u7+5JyUYHLG5+nOkBm2w9Or9nH4zOrFcz/w8HcThg3XuFYYl+S\n",
       "y1GByhufp5VXkUj5gVab4uPxeRbAKeuDifgY0OeyNFWTROkFhuybd3e38GajApY3Pk8Lr+qY8n/y\n",
       "+EYeR+CsjiE88IerBnuhVxW4nulAyqtRAcubgKdezpvywwy/tHp8E49jcHrFNzB/kFLKWsAxErrC\n",
       "Be0GyNDyiOurUQHLm4Cn1FVYKT/M6FvTvHt4HIWzPHImwr/d9UDpNvLV3X3v/9de7NWorMgbR904\n",
       "8ibgqZfypvwwK186C3ITj6NwqiPxOMh+6ik0s05PVkN4ZFfH4zV546gbR94EPK3cCnHKD81Lqo/H\n",
       "Z6Z5IZxsX5hhSmuiq+Aq/AA/M4l2pNHDvcfNxaisyBtX3TjyJuCpNGaTx54fONxfOpt3E48jcG4u\n",
       "a680EqInB9ZReaCD5EdMKlKg6X8tKQQUldKsmIbIG1fdOOcf8LQFpyr2+0HGzVvLbrfwOAZnuXFz\n",
       "KJ2dQyRDoVAJVMq0TfduAWaIrVYBqGDj0UZyplFtVh7uq/LGVjeOvAl52jiiK+UH5tfNx+MzyxUB\n",
       "nMIts8pu/haNjLUnwAZCeqdMu1k0L0BW0yEkUpqOF9kwMCrIxO49iZNpXd7Y6saRNyFPSyfWp/xA\n",
       "2VN+PD7PQji1m+Nx3bVYtCGsau+8FM5Pjdg3KddYYVSVo3bJQKWJv1aIiuiFrckbW9048ibkKXIG\n",
       "Q8oPMuXUOnTTHMr6+G4fz9sz5ATv4LHyS0fM43UpCy67qKXbDZnDW4npvtdVjbNmHYVlPURFSjJQ\n",
       "6V6RFfsd5bE6zJq8sdWNI29CnrrXl/KDDDk/VcdaLTTe7dvT+i2VaMpS80pZ2+8/xTt4jLw74eV4\n",
       "uO5pjdoLQrqrUone8KA3Oj7sOoroL6zRw566w+wvvNqotI+AKEYkDNHr8sZWN468CXmqnKfVin8B\n",
       "EANeZiOcuaaOJHn76bcfB2OkNSqn9btNOtptJDWCWtvDeZx/QXAT3tRdg+VgnFdMl2P86+523T5X\n",
       "qgUUhgF8HPQIJpoym9jw0S3MgfTIejKO6saVNzGe7vDT+QaXgDhUBjzO20/h9D/5rVE5rd9UMzVq\n",
       "LmptD+dx9gVlmAtn+6D0TY4MGCKvmDEY3mu4t8ueu7FRA67L4bGsTf6c+SBvbHXjyhsSqSHWaX81\n",
       "xR0Omd1rHGndkSRvP85FBK1RGa3fFZ3vMqK2KgTzOPuCcmLUrkwFUyLK4YymmEYrSpX6AyHkqi3W\n",
       "Dq3sWlf/FLDUjQdwyFPiVCXX/FOAU5ATqwMe5+2nsPufgtaoPa3fWnTLiue4jWQxoSKJtX2cx0Ju\n",
       "3LHcC8qweg+PJZ+rcW0KIMZ5kHuqOMqY7FeD9vLGUjeevMnlMRljXgkDXvs8ztqP0//kt0btaP1m\n",
       "pXbhFAWnse3jPK7Exh3LvKA8Hu/IX9sUj91W7fSz31azZ5/LtrwJeYoTPB79w7sSagUDngT1ipz9\n",
       "OCUXvzUq3RvFfbXMkZ0FWduv6AqiNu5Y3gXl8XhHKsmIvq/H0OdxJ5GvOZtsHg9znAL0mDARHufs\n",
       "xw6vQWtUujcqyMBaEjOPEsP2Fo9pY1mYryx3LO+CcsyYR7z42EEGbVcjg/np63jMEjwe/RxN/+v+\n",
       "JgxVFM0ZcLybqnBl/kASZz/xiBLZ2cLaoDUq3RsVPNpaUeGXmIftV/M8XOI1HqcvyOfBlirc5vHT\n",
       "u2DDqjo9IJFhPK6cLqp1fxdx5vtM+lqdGit2K91UrXaUAY/d/SxH2W7Nmttiw9aoZG9UNb8+Slj6\n",
       "WPlXuV2vkGXt+ORyafELslJMirQt9jYKG8NulIpLAxdO88e2KzkjMiyyJFR93mlwEh7b/tO6v+PX\n",
       "kvDTITbaBQMUOUUW8tjZzzxsE61ZC4nCxCHVGyVFrALhT/Fux2NeemUrK/JEL2gal1J0Dy0s1B4e\n",
       "D1Gd6JWuYvP4xeeRWU5+Ta9Yfjxu7xWZR9ZQm57UUbSbakVXWPsBtGbNuiJsjUr3RoVAsqV+XDBr\n",
       "+zV93IQS27pjNjD+uFTDu1HILh4POq2bjCtiU7oP0RUQfdzdEP4wHis85/28+xNHdNas8W6qOI+n\n",
       "/UBas+b597A1Kt0bpcMHG9UMWeyftl+Jx5HoaN+xBZiqJTxj1riUpBp2yeM8nn4wJgYztkWN36GP\n",
       "2UUrgqI83efn9Tz4SK21xgv9V7qpYnW3ZT+Q1qy5jBa2RqV7o4oSR1RrSXl7qIba28d5zMvtO7YA\n",
       "QyvWLZdbxiXmOAhHNo/HH9C+o+ef9j/S7rnDtSGZdbdn8bi6auhl1yu6x948tBAKkuxYN1Wcx8t+\n",
       "9rdmjf1PsdaodG9U6xHMT0CkErVp5i7CYfuV+bwqcccWYIb8cRmXJJL5uMF9STjHID7wuNZv4LGs\n",
       "r3rr+BEeW4g6s2Wr3VRNnMeLf39r1lZncKo3qn9kC3teOgy5TbERj/dlNEN614M4j8uqYtUmjyvt\n",
       "p6ODrojFsebneFzS4sk85tPpSlVsdVOV4by0T8C9rVlbjT+p3qg9uQsptutu+3jcBWIu7XE55nl2\n",
       "YViEP+h0xb//iV5XrOd55eM/UeGhIq7rnYrN19UA/6AtjZJjaRZvdVOJsE/I3TWgNWurCzbRG5W2\n",
       "afuDPOYlrvqccBmXXPXSRcXrx/MPrMa5Pi1lKAnn83lMo2u58UU8Jon+Y7JZANw8KxT0H7vqCdKa\n",
       "JUXCt94blbZp+4M8ppLUfYVuGZftlbUig1ZxXTH/wJnYVq3Ol0k4H89jEq24kat4rBPrQTYXi7LN\n",
       "OUe37qD85W+w1iyud/s0kMbj9rqpz1rXtDUuowMS75AMB1aY3cDjeMUN18VFPHZXL6b8/u42D6a2\n",
       "36l1a2vW2RUmQPCP/XHPeFYnvPWx6oIJJ9ejEv0YrqQ7HynJ04ytI6UAP3DQfOv+9/EYs7+BU5Za\n",
       "CYWuRyVSceMY7e1+S59myFOReH+FyM+Smak/Hoci6EY4uexrKNejUprStqYZvvC3s9kifZqx96xg\n",
       "gB+G2vderDPtHDjldTReUKFr7WrkpNMMeVon3u925J2Z5q6vML+Sx6fAyfVPoJI6zdh7CCXAD7Pm\n",
       "rZ+5uYfHJ8DZT5nLx6OSPM2Apzzx/mN+RJShx8+k/hSPj8OJe42Ino5K+jQDnjI3CU75YaYfX7n/\n",
       "KR4fhrMSSmjVVA9HZcdpBjz1PpCX8kMz7PLj8Xl2GE7VvwWOPR2VHacZ8BS55YiUH5gbm+/7eSfa\n",
       "4+G87TvpXe4gIX5wZsI/Hp+Z6PFfRmVlWf0ZPJZeGpfyQ58Qb0307uHx0+GMoZL8SMkpPMZe70nK\n",
       "D1Z06OPxmQIZ/Roq6Y+UnMJjX/6m/FB76wem7+Hx0+GcUZmXwidXwp/EYx+YlB9q9KVf0LuJxw+H\n",
       "c0JlXgqf+ZESMI8r/0GV8sOfhOrj8ZnCQv0CKvNS+MyPlIB5rH3ZkPLDn4T1x+MzhUX9G6iMS+Fz\n",
       "P1IC5XFZA/1g0+9ssbiLx8+Gc0FlXAqf+5ESII/Dt0yl/HB7Z8XiLh4/G06Lx+NS+NyPlMB4jIJJ\n",
       "jpQfbuqV35i+jcePhnNBZVoKf9VHShyeynBwp/xwk6/M9G7j8aPhnFFZlsJf9JESh6c6vBkpf5ak\n",
       "kx+Pz1TI8vmoXP6VEoenNQX7c6xRH49PtAfDucyDXL0U3uZpbGSn/DmGX9gsdCOPHwznLf1uMtZ0\n",
       "kvJnGRUfj0+058J5C4+RyPBnPgrJx+MzlQX5eDzzlEW/o5PyZ15fLV/H497uKeY+Fs4/QaVxv7vT\n",
       "MKD/iLG3KWRJertpcu2pcP4JKsMx5i9XMID/f+kBpvWE4sKSAAAAAElFTkSuQmCC\n",
       "\" style=\"display:inline;vertical-align:middle;\" /></a><br>"
      ],
      "text/plain": [
       "<IPython.core.display.HTML object>"
      ]
     },
     "metadata": {},
     "output_type": "display_data"
    }
   ],
   "source": [
    "# Here is a best guess for the summation version:\n",
    "distribute_frac_through_summation = (\n",
    "    Forall((P, S),\n",
    "       Implies(Forall(y, InSet(Py, Complex) , domain=S),\n",
    "        Forall(z,\n",
    "        Equals(frac(Sum(y, Py, domain=S), z), Sum(y, frac(Py, z), domain=S)),\n",
    "        domain=Complex,\n",
    "        conditions=[NotEquals(z, zero)]))))"
   ]
  },
  {
   "cell_type": "code",
   "execution_count": 58,
   "metadata": {},
   "outputs": [
    {
     "data": {
      "text/html": [
       "<strong id=\"frac_in_prod\"><a class=\"ProveItLink\" href=\"proofs/frac_in_prod/thm_proof.ipynb\">frac_in_prod</a> (conjecture without proof):<br></strong> <a class=\"ProveItLink\" href=\"../__pv_it/theorems/6fba1696b3a1c4528d6b819771120bef7baf0af40/theorem_expr.ipynb\"><img src=\"data:image/png;base64,iVBORw0KGgoAAAANSUhEUgAABHEAAAAzCAMAAAAn6WQHAAAAOVBMVEX///8AAAAAAAAAAAAAAAAA\n",
       "AAAAAAAAAAAAAAAAAAAAAAAAAAAAAAAAAAAAAAAAAAAAAAAAAAAAAAACXHtMAAAAEnRSTlMAq1Rm\n",
       "mUTNIjK7EInv3Xbt5cmRiLwgAAAACXBIWXMAAA7EAAAOxAGVKw4bAAAKdUlEQVR42u1diZq0qA5V\n",
       "FkVQ5l7f/2EHUEtEtnJpsSbnm7+n0TTGlDmGQKiqugvcoAIAAIA/YIRhVCBg56PoWLwNOPLQd/AO\n",
       "fMzanWaE7kbGoWDyE6hxvA04BDYA5TxpbQyMUyrhiHgbcBBoABs8aG1gnEKBm3gbcBiiBhs8Z21g\n",
       "nDLR9m20DTjzYML49DlrA+MU+jHJeBtwJtLvIZXzmLWBccocU/XxNuAUGphBfczawDhFohfxNuAU\n",
       "6Ahj1KesDYxTIuTIo+3SwaWsORMCFfvarXNvROgsBCN60oWfl7v2qmlrs2FgVRtLW6UlMhHpaGNt\n",
       "YJwSMdTxdulQriJrWZFi56FRJoWLCunxbN3pNzU9L1ddetWktXkjRRedmktL5LJkpKONtYFxCgQb\n",
       "WbRdOrCKorF6yspds8jHrEw8Q5Mf91q6UXfF/YsUXDkuRF0fDnV2Vz1s7VbrIPSPgOKrxDmV7Usl\n",
       "rA2MUyDqPt4unjH1i7fs9UNdVvjFJ7efGF+FEkzKwXakJiCnU6WfkGMVS7Fg4+8tKry39vZ63LBA\n",
       "SPFVYqNyrs6+jlLWBsYpEH0db7/iHsqezseZuWMzIJCG8c0NbZbQDiQgp4dC7ScwHTJnxlY596pR\n",
       "4Z217VPtciKk+CKxVTlXZ++l4tYGxilxUIWj7TfAzE8UvHEAz7SpCR46zfiM7hw3KIf5xn2/htMb\n",
       "wSpGqSuJQ7W8QWtTPMVMYcUXibMqrx0ZbUnQ2sA45UE671/5srlc3tFpIFjylH5m3GjcfhCfmwk5\n",
       "riun/n8ibb7pjWPa40lhWX9nbWSmr+qI4pbEOZWXjhZt25C1gXEKzDH08XbpQCPjROlMUclGzvMu\n",
       "oeeLtL9QGmUcV85for6mana/hHtrudQyOv4g4itrs050UgwsrLgtkVA5rvOno0VbHrI2ME6Br98u\n",
       "3i4+xiFSVojgkgmnEmPmAIcIyWsicBVlHFeu9W/D88l77H+J9FbrPLJ+7QzoK2sLXWLQxKjSlkip\n",
       "HNXZ6khrS/ugtRXjrAEPwjcwzm3d/yr4SKJtwBXAx5bNZG510aqPrL1sLNyrGER2Os9SHU60JBW/\n",
       "TGWtLSFbTS1rK8Yhn0Zzbb5gYpzbuv9VMGetCBuhivN+K1/KOG3HGCNX5c3bcY4ctLPexTiXqWy0\n",
       "HRhiAWurm2D156J3jKpu6/5XgUYUbQPuiCTzvEk0o8hgql7vrjlepSqt59d1W8uDlJBW/DKVjbZS\n",
       "4JC1dR6nmW/j6jKYOY9zV/e/G++zaBtwCUbYl+sRa2vGwTMfXb1KdGacu7r/Vbx9cvwtPgAh9yPW\n",
       "NnNV/aBx+Y4Iy1zVTd3/KoQzs2i3M6uKHy1lTqdQiiho7uEN+IdYrW0Yh5iw/czXaogY45zv/p2I\n",
       "JgrC1iAO49jtzKriR0uZkwRWRkHzYKdSyWABhlvXY7W2YZy2Xn5c6lwL45zv/iXDoY7U0qouiYXt\n",
       "wthGCLnn6noMtjNrmR8tZU6ikILmAbZV/EvG6TeMY+IP8dXbqx2I/gM8L1+OMs6B7l8EJuuuo3q1\n",
       "ea28EXUih3Em/sV6rVT3BeNk1jJHS5m/rgvOKWXedDpa8F/UU9DsaOUpaP66Btvq6CDjjIAziDAO\n",
       "ktmJ3cXBUG1eHvMMfpxxvuj+fUMnMs8kCW6iG5zFOLUJFfRaqWqXF46NqnJrmWOlzN/XBWeUMic7\n",
       "TRY0bzrwFjR/X4MdK2ge4GurnhtVaT7A8jsHQ+oPiEngCELIoP7RIOOs3VNdi8ZJxZ1Kr9BxL1LC\n",
       "UpJW/WcJrwuf2dC0lO7yi56D/kSkKyiXrCTHbF4s7mMcRwtqaKk1VNK7iwaEw0GbdmYt87OlzKnP\n",
       "r4iC5k3mGPI4N8PJHOu1MvOqGd/jZH1cHwerEENUvUBERh5n7V6FAcrLzBqgjd+Gjvuj5oSwbHWS\n",
       "s0GWMPvEdIRRsVPWe9Dreq4g/7AKapHLf52jstaCdBr/qH9YjVO0UXZfniQdF9u0M2uZnytlTqOQ\n",
       "guYeiOUvGad2GKedj/geJ+vjWh1MMY4aRyCaxzhL9y3Xz5hesC3bbYbPfzyQDowLK107uZR1TMLS\n",
       "Cjda37xamzt17wjSD11gjnmQcRwtZt6eGGe3dVV0BWBmLfPRUmZ/suSbUuZ0nHhlQXO8Bjta0AzV\n",
       "an+J7Zpj8x5gs2vsHyfr41odTDOO4pnFiRKMs3Q/fXt2T6d8gF2sah2nSJJ4pGN34r+/ditcSysP\n",
       "Nd3UZrJ+Opi+8PLXKxs0JmbpUMUYZUHG2Wqx8PY0qtrVMCBnBnrbzqxlPlrK7E+WfFHKnMS1Bc3R\n",
       "GuxYQTMfYX3Y38Gy9m63Ct/j9Pm4VgczjMPFkhAWCcaxj/FxCkSYvZzMOt5X06+RNNQq7OeF3kqn\n",
       "aC16ZgclLd9eezmYvvAsaF1pvfE5c2wttOkcW5iiWmW9//2/M6OqQOb4qy0AMysLiytlztT+voJm\n",
       "qI/9S2wrOdOP0+fjshzM1IZSJOPEsEPDKjpO+88rAbMoQzjH25nyzAnfD1sYE4QxoUgYZfXptq9E\n",
       "Y6KuSXiYhKdW2yA2zUdPjLM5mLzwIqguiNFkivUV3AqTrBb+9TiLFpVV2lpJORe+hSLQdPyfxTgF\n",
       "ljLnaX9jQTPUx/4lLGu7jOM8TpOjrR/X6mDY0Ek0d+hjHFpLjMX0x5PXMzNZszle6en36QTr2+0P\n",
       "RxhpdlQjrIkAzGkiqZC6yHYSRgR3zeccx32zsp17MHHhRdBcdFh84hM5ChUBEuYfVS1abEhKrwD0\n",
       "+NPQxNt2Vimrlrm4UuZc7W8saIZqtb+EZW2XcZzHyTia9XF9HEzPE5sB15eMsxWYHtjdy+YzA+9j\n",
       "SzdZwiquQxrkO61aXKnZ4f25ZVSFjly4ZireWXhGD5G8d2qZ1tYiyRBv//KYV6AewQaPWDu566jj\n",
       "fBEHO8o41H1RCj7lhKlvc3r3mAo1dHwzTEmd7WndUvEabTx/OjPO5mD2hfXEE6apF3y3yY7NWmQs\n",
       "hcTOEkA8cnhmr0YPpePPWDvFOPTEw55gHCZ7s2WOmxdtVCBthiy+hKl7jOt5fKpdut2f1i2Kl9Il\n",
       "7Ln25mD2hfVFkUiWNtsrAD9aoDRbMyfFwN6WcuCS4NlMpaJ9e+L4BTb2WzvFOGd2DPiv76x+OFHw\n",
       "9m/Im4vNccEDF/z2NM4LbOy3NnyXQ4EgfbxdOJZi87rggUv98qqqN9jYb21gnALh7kJzxa40fxnw\n",
       "zwupS/4i4NcPql5gY7+1gXFKhLuAdnjZinyqc92s4P2ZfyAZX7yNA9YGxnmDQ7zNQUyxuSx4LPgD\n",
       "9eHF2zhgbWCcIuFuCv2yTaJNsXlXrlfTH1j+V7qNQ9YGxoEg54b3r64zH3HZ3vr2GKdwG4esDYxT\n",
       "JhoRb5cNXgtJyo0j6C8sqSzcxkFrA+OUCebsb8j6t40DRLn7zA6/UsQp3rCXr2NtYJxCIbt4u3RH\n",
       "4H2xbi1+Yfe/wm0ctjYwTqmoRbxd8ltNlqwu/YlN/su2ccTatzIO5grAHQfRoHi7XCCc3EzxwfFq\n",
       "8xOPZNE2Dllb88GdwfqgNzeB3WQPw/2qhI6BTU6DN/AOfMzanWaE7l9UlIizKAgyqwAAAABJRU5E\n",
       "rkJggg==\n",
       "\" style=\"display:inline;vertical-align:middle;\" /></a><br>"
      ],
      "text/plain": [
       "<IPython.core.display.HTML object>"
      ]
     },
     "metadata": {},
     "output_type": "display_data"
    }
   ],
   "source": [
    "frac_in_prod = (\n",
    "    Forall((m, n),\n",
    "       Forall((w_1_to_m, x, y, z_1_to_n),\n",
    "              Equals(Mult(w_1_to_m, frac(x, y), z_1_to_n), frac(Mult(w_1_to_m, x, z_1_to_n), y)),\n",
    "              domain=Complex,\n",
    "              conditions=[NotEquals(y, zero)]),\n",
    "       domain=NaturalPos))"
   ]
  },
  {
   "cell_type": "markdown",
   "metadata": {},
   "source": [
    "***We certainly should not be able to cancel when there is division by zero.  However, equivalences when both sides have zero in the denominator could be okay if we have axioms that allow us to treat division flexibly -- both sides are undefined.***"
   ]
  },
  {
   "cell_type": "code",
   "execution_count": 59,
   "metadata": {},
   "outputs": [
    {
     "data": {
      "text/html": [
       "<strong id=\"mult_frac_right\"><a class=\"ProveItLink\" href=\"proofs/mult_frac_right/thm_proof.ipynb\">mult_frac_right</a> (conjecture without proof):<br></strong> <a class=\"ProveItLink\" href=\"../__pv_it/theorems/bc2512398639eaf8469298b086c689d429627cc50/theorem_expr.ipynb\"><img src=\"data:image/png;base64,iVBORw0KGgoAAAANSUhEUgAAASIAAAAmCAMAAABXhmYmAAAAOVBMVEX///8AAAAAAAAAAAAAAAAA\n",
       "AAAAAAAAAAAAAAAAAAAAAAAAAAAAAAAAAAAAAAAAAAAAAAAAAAAAAAACXHtMAAAAEnRSTlMAq1Rm\n",
       "mUTNIjK7EInv3Xbt5cmRiLwgAAAACXBIWXMAAA7EAAAOxAGVKw4bAAAEbklEQVRo3s1ai7KkKgzk\n",
       "/ZZ71///2AVERSXKOKxjandOtaU5GJJOhzkIvcgYgcCVGWF6L+YfuOwQIQyB6it4RuOP6T41NL+Q\n",
       "8R4bZS3p5/IpowICVbOIuHjjmB/AzTuBkMcesaGfy4dMOQOA+u1kekms8wXdWJhUxiAYhGk3l0+Z\n",
       "sBColwtCzqP8kS64trpQMZHKHDWj+NLlQ0ZGAwDIeLxJjaqZvVZbgpBsYB1cPmCDhQDIKXHzvVuw\n",
       "HGXj7+LxTmN6unyCicq8US1JhDSeP+YLLYE1miPsEjf3cvmQLRR5AKcagY8F6VLXVNDKsHAjJ91c\n",
       "PmTlurYAzgdsPSsrQY4NHcgw7xFhlLS7XLOK0F/WmQTAhTgSdd79wo4uGV8a7Q+paVZrR3D6KsaR\n",
       "A9t+GZ2KSzWnkdS/pCIBAbgFhsaNt2zqx+9WAbmcpzX7SynpMARg3qV+rYCFir/TZoBLmilI/DBC\n",
       "aLQQ+IzRum/z5NIN0dxPFQDQ0OChvN6txu4dZ3LJUnbqPuMIu5ir6rZp1wWAh3Ig0sVgwYbC7g8S\n",
       "yaXE88cN85phL9eVnXG+TXVurbenFbICeChvqdeeFBATyPKPKtRjHYR8UPM4vAUpZPpJiKZdoCGc\n",
       "XB+GJl4D+6F8mcnj0lcr3udaGI1NtndJ/IdkzVjuHNak/KFNIcJJd7n46F4bAll0GMqvtOHI+mcR\n",
       "y82M5oV4z2T4l7fTx31fKlANQvK4wX7Oe0PVtOGyGqLlgcmbnYgmEpIjrSECh/JHuShKoiyOvIwj\n",
       "pCC5naDwPmoZ5JjilqVZeRENkuwVeRmi+QGmo/0X/tM8xA90T9e0Ak6H8uvG2LXXylmsBag9ylUk\n",
       "DRkiHxeLT2vlyzqooeYkRPMDU/Rpcc6xPdKKJOMr4HQov2yMfWxxiVdVWtJEFOPYFyQ9BUakrNAE\n",
       "KcXVWYiUL45p5l8ZQ3R4Fccq4HQor+s83jtEFZexrpYgDTzTK5qzR8aDyzU1Ml0XgqcM0fxALLT/\n",
       "/+hUaHW6RkJD4KMBYux+1rx3KV0adsMmmhSGQQW6RBlJQdTUrVeVKW2idlvVResDxbAcGkKI3YE9\n",
       "mYPAR5P60J2KDi6Z59b7mCmp54Qk1wJlxAx103mJ1EtmGRuqjqlqoa0PbLR7kI7MHA9DDAA+Md3/\n",
       "NP7MZQiKCe+n6YxKdrWxaqp1X68R4i9HIQKA25PePxged3rXJKbmYkGNUa9evRammkGg3Xj/7yvO\n",
       "XNJEt/M01b471RCR60azOUdvPFRXQyBLSTeHhjd61s7L4Ryyu464fejAAQA/IrzVtuAKd6c+D162\n",
       "YuRNX1lv9qtp86KeCLJjFae3GuHey/Yc40XfEaFSgO3BSQqU73Z7xw0UoXcl0cd/O5MyoGyU/i5t\n",
       "SLDdeoHeZYJCAGo3tBD20t2kwY2XnZKWLwuRGSQAAOWWqgDP99+siY2X3Xpe9udFaWIxAKg2a221\n",
       "t0MmLX1TNW69bPULRe8zqSBQa4EhA5zI6sDcHfE3XrZJNF/8C+F5KSBk/H8YAAAAAElFTkSuQmCC\n",
       "\" style=\"display:inline;vertical-align:middle;\" /></a><br>"
      ],
      "text/plain": [
       "<IPython.core.display.HTML object>"
      ]
     },
     "metadata": {},
     "output_type": "display_data"
    }
   ],
   "source": [
    "mult_frac_right = Forall([x, y, z], Equals(Mult(x, frac(y, z)),\n",
    "                                              frac(Mult(x, y), z)), \n",
    "                         domain=Complex, condition=NotEquals(z, zero))"
   ]
  },
  {
   "cell_type": "code",
   "execution_count": 60,
   "metadata": {},
   "outputs": [
    {
     "data": {
      "text/html": [
       "<strong id=\"mult_frac_left\"><a class=\"ProveItLink\" href=\"proofs/mult_frac_left/thm_proof.ipynb\">mult_frac_left</a> (conjecture without proof):<br></strong> <a class=\"ProveItLink\" href=\"../__pv_it/theorems/e6e27a8b54e9eb8179455b693c841652093724aa0/theorem_expr.ipynb\"><img src=\"data:image/png;base64,iVBORw0KGgoAAAANSUhEUgAAASIAAAAmCAMAAABXhmYmAAAAOVBMVEX///8AAAAAAAAAAAAAAAAA\n",
       "AAAAAAAAAAAAAAAAAAAAAAAAAAAAAAAAAAAAAAAAAAAAAAAAAAAAAAACXHtMAAAAEnRSTlMAq1Rm\n",
       "mUTNIjK7EInv3Xbt5cmRiLwgAAAACXBIWXMAAA7EAAAOxAGVKw4bAAAEaUlEQVRo3s1aiZasKAxl\n",
       "XwIyM/7/xw7ghgoItmVVzut6ffvIFUNySbAQ+iFjpASuDAQ8PZkPUD7gIXwG4BwGZcyVv9TQ/EBl\n",
       "SnCMhv9wL+VbRkUGMIQcdogNl6Nx80oUKQ0iNlCNvZQvmbJwBlSGGQPC9HK8bkzMMqUik9+w7qR8\n",
       "y4TJABVWXbTlj23LixMljDPy461D80cP5UtGRiiAdcY9Ula3PeXAlt94uK8a1Q3KF2wwBcBHnxnQ\n",
       "sJwyXNhkRcoYXc7eoHxDidK4WQFojrCNQtpguuWqKqXGy0cP5Uu2SuQOkFEB88/Dm3ST2qaErlCG\n",
       "xOIj7aR8ydJ5bQCYc4gw2razyLHhuiolYONYmlyRcosqQr+ZZ7IAuvSMPTAVI46UjK8b7RelaanW\n",
       "zqCrPBd/9w5YcqRUSxhJ/U0pEiXQY2782ywGXwtgc6ZcujXzzVLS4hLoq63U32oz6rakSijpLEHi\n",
       "ix5CoymBPkV7fJknSjsEs1+tAPIb2nXPnnbmoZV4fMeZKFmMTv1MO1LdU6Bpu5bNsXDozL1zk8aC\n",
       "DYndbyQipcTLxx2F1Aw7uc2spvkm5rkxzlQzpDldTp35/RS9koAQQIZ3ZajD2hfyvprHvlIgSZle\n",
       "cdG0CtS7k+tT08SzYEzs1JifO3M0XhdGY5Ml10dK4jrFmrF55zAQZ0ebXIRj3WXD0GNt2BVFSYF4\n",
       "7MxH9nwUsXkzo/NCOMek/zdPwIV1XzNQDULysMBu7Q+omhZcZl20DpjYzCQ0QZAseSLRzp35p7Qo\n",
       "lERzceRkSGxB5v0C+edR6wSY4obFXnktGiQ5VuSpi5YBTAf7x//QuYkf6FGuaQFc9PaHzvz5HW2h\n",
       "lEux5qF2aI5bCWQIepxMPgYCX+dBgULFRcuAyfs0Oec4npJBuvw7cH2KlnTm8vm6aKXEW1WaykQo\n",
       "xrFLRHpyjIhRoQlSiquai5RLjmmWWwYXnR7FshKoVy37zlyN/GkXZShDXq23HPgsr2iJHhnkcQuN\n",
       "Wa6Tgid10TIgJNq//+mYaHm5RkKXQE9nvjvPfcaOlNLGG/pFhOiGQfkwRjOSgqhpt96qTGmitJts\n",
       "XbQNSJplvyF4353Uk9kS6OnMzfC4FJ0omePGuRAp8caEUS3QjBhQO52XSL1GFhifdUxlE20bsKvd\n",
       "fenI4HwYAgXQ05nr50/ja5TeKeCfT9MFpRJgQtZk8z6fI+RKgCFVJ2hV3WNn/rkNLWccolJzsaJG\n",
       "r2f/el2YalYC7caff19Ro6RRbpduqn11si4i1xvN7hx9B9TgJVHSRmm6sWfV+M0HjojuriOkm2sK\n",
       "QDijTZPI2DtVUZ3f/tIr6916JSBUDb64aDl0uPVCp8rvfugdEUoLsCOAJg/dX/Eyv/2t7z1kvzsT\n",
       "17mtH3F3ZaPM7wT6LRM0C2JLeB1G0t6UwTL/bcqPGQwyA0iMdXw9+GZOlPlvU37QZPrtwhkobbQz\n",
       "w+XLH32zaqzwa4p+z6Q6AV+YESsu6yq42+KX+VfK/wF0gykyM6krHwAAAABJRU5ErkJggg==\n",
       "\" style=\"display:inline;vertical-align:middle;\" /></a><br>"
      ],
      "text/plain": [
       "<IPython.core.display.HTML object>"
      ]
     },
     "metadata": {},
     "output_type": "display_data"
    }
   ],
   "source": [
    "mult_frac_left = Forall([x, y, z], Equals(Mult(frac(x, z), y),\n",
    "                                             frac(Mult(x, y), z)), \n",
    "                        domain=Complex, condition=NotEquals(z, zero))"
   ]
  },
  {
   "cell_type": "code",
   "execution_count": 61,
   "metadata": {},
   "outputs": [
    {
     "data": {
      "text/html": [
       "<strong id=\"prod_of_fracs\"><a class=\"ProveItLink\" href=\"proofs/prod_of_fracs/thm_proof.ipynb\">prod_of_fracs</a> (conjecture without proof):<br></strong> <a class=\"ProveItLink\" href=\"../__pv_it/theorems/1e3f91cbf35c9a865daa226e5a02b7a8177453d20/theorem_expr.ipynb\"><img src=\"data:image/png;base64,iVBORw0KGgoAAAANSUhEUgAAAVwAAAAmCAMAAAC/BtMNAAAAPFBMVEX///8AAAAAAAAAAAAAAAAA\n",
       "AAAAAAAAAAAAAAAAAAAAAAAAAAAAAAAAAAAAAAAAAAAAAAAAAAAAAAAAAAAo1xBWAAAAE3RSTlMA\n",
       "q1RmmUTNIjK7EInv3Xah18O1XjQ+CwAAAAlwSFlzAAAOxAAADsQBlSsOGwAABTlJREFUaN7VW4vS\n",
       "oywM5So3zX/x/d91AbWgBqQtdtbMTifj1vPJSchNSkgnYbMXTu4XwXD9DbGDveHBclQR2Oj3Rxgl\n",
       "PxFBz7oFoFY7V6Taggh2t9u9enpj4WX0A+wBdXwcuXxAdEEIUCBiKt3lCBvDDfPr1jeetox+hN2j\n",
       "Po5cnT3xS+cqLNASWopKmi3UUPO6ZJoDShn9DLtDfRy5g0N0HdxrqG1sv1Ig68d6qXnpR3Q7D0XY\n",
       "HerTyGVZkmC7hJHxhokMX9azxmP3pezQJ1GGzVGfRu7kcN2v0m9eW15NdD0Ysysq3NEoRfQTbI76\n",
       "MHJ15qxJt0YSOsb8UhRDt490ybXVCjX0M2yG+jBys4SU6WzWVvjlS1Yv4OS+DOdjYySqoJ9hM9SH\n",
       "kZsvI+lWABAmeC3/W+pA7AOBmpsKhir6GTZD9eQmThj/mtxeYKWooFC9UdyhoMgS0zdygE2onlwh\n",
       "X6WN+prcXmCFinPG9TYC7MiQbPQ1r0fYhOrJ1Zu3KfN9WOgFVgi5A643VBm+lKLHjATztw+EwSbU\n",
       "EHO3cYNj35PbC6xQbVJcb3g4DmlTZanq2zyDwCbUQC5fo+OXm2QhtxNYIZ85XP84hN/hAQk1Vgvj\n",
       "FGR0PcjtBPZOsfCx2FsmpAk1kiuiHxvbhdw+YKjktZPq4XVz1tSKKRPaBTWSq+j20SJgBAUFJXLf\n",
       "A0MMH3xeAQNV3cZdtvR8z/5yuyYi+JmT9UgC1Pg+0DeD1K+aIa3j1kQ0gNWsJba0OCAdvkT1OZPz\n",
       "6Gr///l3yHxd6M6tQs6oC7kMrjKQEGsKdDaywMvkXoPVrMVlHNyhzeNbntvSIcziFs/dk+vJ4Kvn\n",
       "AAjl/63uAWvXBVuMtlwvHqPK7W8Ce89aTgjxz7/C1zYqTKAnfX9Y+EHMDVXpWp/6SEcNGZYH98ue\n",
       "fZMxeu96MaiYupotvMCIngYlZWYoK7xXBoCStRajL56rzgmNo3qX6uOGmmYlV20lub9ugKw+oyyb\n",
       "Qkgk8vUQ3HJ7Re4LzFcO0q17ZDEU91YaYixArOU997//RfDcGFYGpMgBVO9RfdxR02yBjaY9mA9E\n",
       "QmtHgfDBRGFEa6kvp2IZmNpi82IojxU2R8ladotWvlrgyA4ZBa5/XO7LG8hNqEjWGLOAOvnvjZro\n",
       "lL7WEEls08hRw95Qo8cLlwrWEhfV8WBw/dPKfL6jGk+oB3LVGAc9Yi03Q1KR864nUC5mOwct5AYH\n",
       "VTYZys5L5ClYi185khhx/dOZ1nRHyE2oR88VIB1AeOkWB2lMcDPEGZdORb73OqFJA7lqYFqazVDD\n",
       "Yqhlu7dYCxs5WlT/UMwt4/2EWnkT4cm1ftmGL5SGXSwb2t/cUpaPYay7GEpS4Nyt3tliLaxtZ6j+\n",
       "dxYLFXKljflHNo+3aq95kINA19bCvELg+kci5xvm+TlqmVweYya0d98VcmWvxJG/U9y9X9STTw+q\n",
       "5IkWXIz03hwsHedyjX5Twr5E/c0Lym7bz2bF004fwBlXfID1SFd4X5zNJMa2uFLEvkR92qGQ3Nsy\n",
       "PZYkrrSW7UhXPDbzercHjeVGCfsa9XFnxUaN6z6IF5eyHulaTh2JNx33gH06KFZBfRy56AnS2NNd\n",
       "FvaLU23fg/YXUapwUOwK9XnncweO6bGfvjgpFgvQdUzk26XmUqGIfYX6PHLtpM46i5uR1gv7eHDP\n",
       "bXc2B4Uy9hVqT3J/9JsIlf3yYNW1cQbcVG5EXMjoYVi3DUBN84NWsGuonX8T8TNR+qh7x2HjUOtI\n",
       "hHBgqXDr6m1791LDvkT9Az2TN1W8dUCJAAAAAElFTkSuQmCC\n",
       "\" style=\"display:inline;vertical-align:middle;\" /></a><br>"
      ],
      "text/plain": [
       "<IPython.core.display.HTML object>"
      ]
     },
     "metadata": {},
     "output_type": "display_data"
    }
   ],
   "source": [
    "prod_of_fracs = Forall((x, y), Forall((z, w), \n",
    "                                      Equals(Mult(frac(x, z), frac(y, w)),\n",
    "                                             frac(Mult(x, y), Mult(z, w))), \n",
    "                                      domain=ComplexNonZero),\n",
    "                       domain=Complex)"
   ]
  },
  {
   "cell_type": "code",
   "execution_count": 62,
   "metadata": {},
   "outputs": [
    {
     "data": {
      "text/html": [
       "<strong id=\"frac_cancel_left\"><a class=\"ProveItLink\" href=\"proofs/frac_cancel_left/thm_proof.ipynb\">frac_cancel_left</a> (conjecture without proof):<br></strong> <a class=\"ProveItLink\" href=\"../__pv_it/theorems/dda001852dc00c80367985d017f49e1d2633a8d90/theorem_expr.ipynb\"><img src=\"data:image/png;base64,iVBORw0KGgoAAAANSUhEUgAAAQsAAAAmCAMAAADkzk48AAAAPFBMVEX///8AAAAAAAAAAAAAAAAA\n",
       "AAAAAAAAAAAAAAAAAAAAAAAAAAAAAAAAAAAAAAAAAAAAAAAAAAAAAAAAAAAo1xBWAAAAE3RSTlMA\n",
       "q1RmmUTNIjK7EInv3Xah18O1XjQ+CwAAAAlwSFlzAAAOxAAADsQBlSsOGwAABCJJREFUaN7VWouy\n",
       "oyAM5REEAmYf/v+/LmhRUFHqrd2W2encnUljOIaTk1DG7ltiCEv+0AmIm6LDDpeHxEiR3YkF/7kP\n",
       "ePhAIo7GuS0ySBDxxoaHlaamL3bvPx0L2SVMGCNODPqNiWPCR8vh3NvKVPJvwsKkAKWOW0DGN0fO\n",
       "iAkgbs+9rU2t+CIsOpe2EVOjy7J9SP8JO/DEHh8nR2Rtivn+PxwLUfBZsdse5j9VtDKDaXC4NgX+\n",
       "NVj0rthHOCe4E/CYL+SbmHhlqqPPr8DCzGmBVjHuR/bbLsvTx+namFr3JVgsdCgGgxCwUKJSdlWb\n",
       "jtmYSv8lWCxBIxAxAXJXdyF3BFmyH7Hn2lQPIsNiiVfIO7C47t+07W9SDt1F04WDAxag5gKm78Di\n",
       "uv8W9fTYG3px0XQp1AELk16ctreckev+edu77kOp5e6qKQ05X6QWxYl7+OKyf99GN0LSkntPm4pZ\n",
       "bEQs5OMYd+weLC77Hxy7f5mZPMc64vu4vLsJi8v+B/kGLHB+yogFjFli8S4sLvrPyt3TjX6frZOT\n",
       "NlCOhebp4wqu8XVrEqSrWJz6JwucNFWz99Y1n8RJa8VX5lTrl8vIIdFjV9da+/4NcRukddDXPOAo\n",
       "rNv0UctXhqZ1uu090wEKLASdM1slcqnG1ndfwiYsdv0DPAjc4YirdP8pL0osQqDypPvfidwBwK/f\n",
       "EIqUjgOS3tQ1+OxfUZKilCgLpZnev34dFtf5Ipb+JAKIQId/KZy+00odRA6PkUh0petYJP8Bx9B6\n",
       "Gh/TazbSQle4U74lL2SJhU6yJjBgaA679ELAKAesEnnIiz9/IebFeAAO+GL2r1H0kXBCgsz7lCix\n",
       "Uu3oDVDoUl/ErH0keIjQEsuyXY+nuBI5pqMW6ojUR31q8j8qYE5xpmvHJZgxqjKR8vAWraXqPXvR\n",
       "HJrp1VQiB3y6Z+/Dk33wYBamfDAQ2zjr7BuwWMaIWyziYZ7RiPmgsRa5PCvDe1iYUCtL6aXdyE9u\n",
       "cyLAvwEL11dmOdqPbS0kCdUJo2xj5G1YCJC2m7pWs8i1kHZgdnp2vB+LZeC3zgsg5YhiJsQuH1D6\n",
       "aejQEHkTFhi8WfnwE0+dOmwV3iAwlmJ1MOMTK6l9FnkTFoE2VXu/au8nT7XQYx0L9YL83GKhJD3R\n",
       "rmaD2YP71CiDAg3pNjWyss0GfnUsXqFzfjr7xawjqd+nMuzIWdf2rLVtNvD78Lui5a3V71OnShfq\n",
       "W5u0Km3zG6ZPv0/1iaPX96nZhepEZ+0byW3zOfCnYyHzDZe3x9mFKtNPqPXclgr3n/77i06WlL93\n",
       "nzq1CI07yW110U9+PBbYj+Ee3qeKMdEbh+aZLfZFUboZixf8XkuP3f7RfaqxzpLrm9RfYWuX0O7/\n",
       "vdZrmmrDju9TQ6oI37XJwNwWN1/5B4ZBKQf27lQcAAAAAElFTkSuQmCC\n",
       "\" style=\"display:inline;vertical-align:middle;\" /></a><br>"
      ],
      "text/plain": [
       "<IPython.core.display.HTML object>"
      ]
     },
     "metadata": {},
     "output_type": "display_data"
    }
   ],
   "source": [
    "frac_cancel_left = (\n",
    "    Forall((x, z),\n",
    "        Forall(y,\n",
    "            Equals(frac(Mult(x,y),Mult(x,z)),frac(y,z)),\n",
    "        domain=Complex),\n",
    "    domain=ComplexNonZero))"
   ]
  },
  {
   "cell_type": "code",
   "execution_count": 63,
   "metadata": {},
   "outputs": [
    {
     "data": {
      "text/html": [
       "<strong id=\"frac_cancel_right\"><a class=\"ProveItLink\" href=\"proofs/frac_cancel_right/thm_proof.ipynb\">frac_cancel_right</a> (conjecture without proof):<br></strong> <a class=\"ProveItLink\" href=\"../__pv_it/theorems/66b133e516031b5e8420502f5c4493f15589ea450/theorem_expr.ipynb\"><img src=\"data:image/png;base64,iVBORw0KGgoAAAANSUhEUgAAAQsAAAAmCAMAAADkzk48AAAAPFBMVEX///8AAAAAAAAAAAAAAAAA\n",
       "AAAAAAAAAAAAAAAAAAAAAAAAAAAAAAAAAAAAAAAAAAAAAAAAAAAAAAAAAAAo1xBWAAAAE3RSTlMA\n",
       "q1RmmUTNIjK7EInv3Xah18O1XjQ+CwAAAAlwSFlzAAAOxAAADsQBlSsOGwAABB5JREFUaN7VWguX\n",
       "qywM5BEEguZ7+P//6wUVBZVKbeltOXu62z3tNAxhMoEy1m6I0Q/5IgiIRtFhh9uHhEiRteSCv44B\n",
       "MwYSBFLxBBGJOBrnKjjLUcyQzb7/di5kN/92TPTh6XjCFmPEicFwjbZDkfyXuDBLgEbMc+X2yJYO\n",
       "k0PGrzfjAcWKH+Kic0ty+1CJLQ/h+ditEwyp0dUpxA6FYTr/L+dCbHqmwp9mNMvTAbL0pkrAHUpU\n",
       "o1/gYnCbKoSlp74wQ79PsGYqexQd3vkTXJikzFkeH3Z5bxXj/aSLFeOAYt2PcJEqZchmdWJWxGgQ\n",
       "PBeqyoYcUGT/I1ykQSN3BElGr/8HIiZA1jmyA4oeRcLFFq+QLbi4j2/2U3fdO6LKUTYR9lyAWguY\n",
       "bsHFffzUWIUJYC/eQMMOZSvHngsTF07bJnvkPj5PFnDwVZO7VwM6QaEx1YvYojjRRi9u4/eJ3AhJ\n",
       "W4LdD+iIIlazEbiQyzbuWBsubuOPjrUfZhXPqY70Qxi9a8TFbfxRfoALXD9l4gKmLLHYioub+Em5\n",
       "e7rRH5JxUdhHSrnQPD7c4TUstyZBusjFJT5Z4KSpmL1Nx7oTZ68VlsxVK1MeOUR57Mpe6xzfELfe\n",
       "QHsXzT2PwrpDl7G9Zawal9M+e+kIGReCrpWtELlUU+t7bmEjF6f4AIuAO5x4le4v5UXOhQ9UXnS9\n",
       "J5E7APjnX/BFSocDksGUPfiKryhaUYqShdLM66/fx8V9vQilP5oAItD+J4YzdFqpB5HDciQSoHSZ\n",
       "i4jvefStp+lDeq0v0kIXtFN+JC9kzoWOtsYroG8Ou7ggYJQDVojc58V//0PIi2kDPNCLFV+jGILg\n",
       "+ARZ5ylRYqHa0Qeo0Lm/CFm7JLiP0BJLsl1Pu7gQOcat5uuI1I/61Ig/OWBO4UzXTkMwY5Qp+E74\n",
       "iNdS5Z49aw7NvDSFyAGf7tkH/8m9RzCbUi4KxA5gnf0AF9sx4pGLsJlXNkI+aCxFLq/K8BkXxtfK\n",
       "3HppN+mTO+wI6D/AhRsKZzm6n9paiBaqE0bZysjruBAgbTd3rWazaz7twJz07Niei+3Ab58XQMoR\n",
       "hUwIXT6g7OdDh4rIq7hAj2blghN2nXrYKnzAYGzF6sEZn9hZ7avIq7jwsqnq+1XbXjzVJo9lLtQb\n",
       "8vPIhZL0RLsqU8Ewg9cafWI5nrhPPcIkB35lLt7hc149+8WkI8GOnHVngE/cpx5hkgO/L78rSlYt\n",
       "lDNfxE4Wrf4+9QiTXj59+31qbzLNwi1j7tynHmDStPh6LmQyyeyA4+Z96g6GUg6//vsXnUx9H8Ny\n",
       "McC6qaQwOusnv54LHJZwxZTNr96nZjA4ZKWnMRdv+L6Wnrt9Y50ld3ZG8tR9agZjt9Daf1/rPU31\n",
       "FLhfddF3J17vufvUFAYPaH8Ai4cpB8DlbIIAAAAASUVORK5CYII=\n",
       "\" style=\"display:inline;vertical-align:middle;\" /></a><br>"
      ],
      "text/plain": [
       "<IPython.core.display.HTML object>"
      ]
     },
     "metadata": {},
     "output_type": "display_data"
    }
   ],
   "source": [
    "frac_cancel_right = (\n",
    "    Forall((x, z),\n",
    "        Forall(y,\n",
    "            Equals(frac(Mult(y, x), Mult(z, x)), frac(y,z)),\n",
    "        domain=Complex),\n",
    "    domain=ComplexNonZero))"
   ]
  },
  {
   "cell_type": "code",
   "execution_count": 64,
   "metadata": {},
   "outputs": [
    {
     "data": {
      "text/html": [
       "<strong id=\"mult_frac_cancel_numer_left\"><a class=\"ProveItLink\" href=\"proofs/mult_frac_cancel_numer_left/thm_proof.ipynb\">mult_frac_cancel_numer_left</a> (conjecture without proof):<br></strong> <a class=\"ProveItLink\" href=\"../__pv_it/theorems/96be40f388fac83ec00e3bfb403cdb9c357ff0680/theorem_expr.ipynb\"><img src=\"data:image/png;base64,iVBORw0KGgoAAAANSUhEUgAAAbcAAAAzCAMAAAAjH7ajAAAAPFBMVEX///8AAAAAAAAAAAAAAAAA\n",
       "AAAAAAAAAAAAAAAAAAAAAAAAAAAAAAAAAAAAAAAAAAAAAAAAAAAAAAAAAAAo1xBWAAAAE3RSTlMA\n",
       "q1RmmUTNIjK7EInv3Xah18O1XjQ+CwAAAAlwSFlzAAAOxAAADsQBlSsOGwAABrtJREFUeNrtXOuS\n",
       "tCgMlYuCoOzF93/XBbwjhIh012fX8mOqzziTpDkhkAA2TaWmfGv+b59ulTt6nGzj3/wCvYRx7f7q\n",
       "VRUzbysKcO86uq/HW/tlvyMMxtWbHFUFMwsUXRWz9/JGNIxjfjyMNzqvG8LoQcfnZqJ0hoouit/L\n",
       "G+tgHG3drTg+0fA3mjw1E6kzVBTi1/ImBgFiLBNAa6drWBzZMzPROkNFAX4tb6OBMZqJdNORqEgH\n",
       "9chMtM5QUYDfyhsbYIxn4mZQvRdpcWZFxYeKzvitvA0awIJoI2KO3hFjCCZUOgkyGlTbSZSamTQr\n",
       "qjNUdMYv5c0EAe+EWzen9JGQqKZO2R/5jk9K8NwXmgkJjT0OFZ3wS3kbSRqrwU3hPDY5+V4ZslPO\n",
       "IiG+EqQ35kicWQmdoaITfidvcpJpzCdvjd4H2fbEf5qyCVUgIRy0pshMUGjscajohN/JGxkAPPT+\n",
       "S27WjNuE7nulzecCoYRz68ciM2GhscehoiN+J28DSePZLdmUyt54Ns4BEnyXoVcmSLNSj0NFR/xK\n",
       "3uTE0lh5dkjX0Ev3urA1zyMZ3pIS5seswMys0OvjUNERv5I3EzjiGffG1fN4c020XIW3R+RfaQnR\n",
       "0Y4zMyM09hgIK6/krR8grIjRUhBz3T1RRHPMWElLuDXBYc1KPgYmOMvbTiJlz3mrJS27bgDwh5ue\n",
       "ysx8rOiALW98GyedeM5bLWng/MNB/OnGprbEzOeKDtjyJtchIp75x8xbLWngfG9A/Pllkan4Z2Vf\n",
       "1M1v3bIw1rQCb7WkAY0GGRid6Fd5Qw6k52YBgcXxxpaJqGtq8FZJGhg+JIg/3iZSYmYFRTv268lh\n",
       "dG3QVXirJK04DfgGb32JmRUU7djzxr1j9KoOb3WkgcssBeLPl2uOsYSPh0bqmjV0Kex5E2T9Ee+m\n",
       "YLybnpPIRtLKGywNHdvdeBWGmqvThpUq/m3eRlQCV8GsUNGO57zbDQ6dWtyKOWuQhvR96w5FEduV\n",
       "tNfJvHuXJrsbi8qzO/B1jXOdJ8kE4Snf9nm+w//X8ZuidrGTZkXUNzhFO555owZYRxj/J5wvo04r\n",
       "37UszdtBWv4QWsIdmBOmnJnXAx0wb7f8uSzDKuGtSH2ON9vNzKzxiRkt9mjFTOeemLX4oZic+RHp\n",
       "OtcubcgtqSLuoDnnf/3NbQIvXFgY5Z8dJ5Pz2xfipE22lrRLjcKmdysnM3JV9C3eUUEFvC45SLOJ\n",
       "oiGb9dqsdHp/YIA7zI44jzdxnXAFiL+7LgGWT6K2omBd4o75kdX/bW8P+2hwfW8/tFutkSmmcrxt\n",
       "0syoGsP356tk5QYRSbiDHW///MvdePPRtosssCWIP88batFVwaz0hsC6H0AWHYPtLbM99cj9Bet6\n",
       "32gjZStzvG3SerYf2OVWjlp+T0gjNEu6g1qptutJJv7AvBs1LdbIu3kKB/s4/rBTz5ZbOjMyFsl9\n",
       "fbFMRI0CeNt4t5ZzsvvA9nvOqEq7A1eZAlIL4rK8A393QE2omsJzs0JFBxzuvw1uQmut7/v8ySPp\n",
       "RsKeRgvNhZ+sELy5EDssVbpjtF8/x92BZb4vuN1d3tAnWtF15admZerKx9bakWBcCJOuvzfUiP0S\n",
       "l9J2lHDZIHiz05tT4H2gc4/1/Lmn/jPKHW6Fj0dBCVsGxhaMH5sFFNCB/W4a1C9cQGsRda6jg3Dj\n",
       "ePA+IDhjRs2fFTfuM8odYpo6GBc1/N0BbOHxsVlAITbNW3s3+4DOKdCUP+TdIZbRDjAuq3rij9dN\n",
       "ZWbebkCBIc3b7eAM8Hb0gfZ5ksyCocGgoaKNYZhRnLw7oKyE00oJe/7gahZsS1bRAX/nXBB74g+x\n",
       "+ZqC+FhcHemcguTXbom7A63LNQ8LqEZg97FDszK2ZBUd8e+dew2M8stiREen7g4Ivyo07XEYiTIz\n",
       "YVvyil5/7rXhA4wLaoTnuwN7qb6fjDGnvRIylpmZsSWviLz+nHkbpLRtKsXFH4UL7g5spfrrmQT8\n",
       "cZ+zWRlb8oref6/jsgOS2BG5cXcmdXfgIoHduUfF8bZkFbH336NCryiXkgXCstTdgeVm077CGEmh\n",
       "mRlbsorGH7i3CN8TPswp/utpRB6Qujvgy+KKiz32ld4TztiSU/QT94TRA05rNldmsnlA6u6AcRIO\n",
       "ywdSbGbGloyiM37tezA6DeOPrYjUIzOLFQX4tbzJYB9cDl/Z9B7pMzOLFQX4ve95Mj2MP9Luv+ep\n",
       "0Kyffc9TyXvVnkfJ7rmZRYouimvyxr783tCOwrh+bO5UBTMLFJ2x6+aK0eX33xvafeu9oYGiAM/v\n",
       "Df0PIJlRflXkf9oAAAAASUVORK5CYII=\n",
       "\" style=\"display:inline;vertical-align:middle;\" /></a><br>"
      ],
      "text/plain": [
       "<IPython.core.display.HTML object>"
      ]
     },
     "metadata": {},
     "output_type": "display_data"
    }
   ],
   "source": [
    "mult_frac_cancel_numer_left = Forall(\n",
    "    (a, d), Forall((b, c, e),\n",
    "                   Equals(Mult(frac(Mult(a, b), c), frac(d, Mult(b, e))),\n",
    "                          Mult(frac(a, c), frac(d, e))),\n",
    "                   domain=ComplexNonZero),\n",
    "    domain=Complex)"
   ]
  },
  {
   "cell_type": "code",
   "execution_count": 65,
   "metadata": {},
   "outputs": [
    {
     "data": {
      "text/html": [
       "<strong id=\"mult_frac_cancel_denom_left\"><a class=\"ProveItLink\" href=\"proofs/mult_frac_cancel_denom_left/thm_proof.ipynb\">mult_frac_cancel_denom_left</a> (conjecture without proof):<br></strong> <a class=\"ProveItLink\" href=\"../__pv_it/theorems/24b6c809428b685ff992389e19c5991af326717b0/theorem_expr.ipynb\"><img src=\"data:image/png;base64,iVBORw0KGgoAAAANSUhEUgAAAbcAAAAzCAMAAAAjH7ajAAAAPFBMVEX///8AAAAAAAAAAAAAAAAA\n",
       "AAAAAAAAAAAAAAAAAAAAAAAAAAAAAAAAAAAAAAAAAAAAAAAAAAAAAAAAAAAo1xBWAAAAE3RSTlMA\n",
       "q1RmmUTNIjK7EInv3Xah18O1XjQ+CwAAAAlwSFlzAAAOxAAADsQBlSsOGwAABqhJREFUeNrtXNkW\n",
       "oygQFUF2mcX//9cB3AkUiJjT5gwP3d5OmrrhFkWx2XWNivSl+788XRo39DjZQr76CwSHYPP2ErIF\n",
       "y8uGQrvCNbRop9vwbcdDGILtCx/lfZYVhiJ28Yt1QwqCTQWj2geSfrzNssrQp90X64YpBBuXqfd/\n",
       "KXSTZaWhD7vv1Y1pBsDGZZiWSDXiWyyrDYV236vbaCDYuKg1UPVa3mFZbSi0+1rdsIZg60LJ51MF\n",
       "yxuGAvha3bSC4B6nkDKszOeVMZjHa+DLqOMDGatlmeECGwrgW3UzkwTg/mvd8CKmgtjGRttiRORr\n",
       "oKiSZYZLztAZvlW3EUFwm7FqN5yTkux9dD1Dm0QNh6Swn2QVywyXrKEzfKlufOIA3AqZNkkyhRxb\n",
       "RU40XYOcTBXLDJesoTN8qW5IQ3AfXoT/wQXE9KkdRgLUIMYqlhkueUMn+FLdNILg2UXxlK8v1Yli\n",
       "NeDizORIK8OlwNAJvlM3PmEAHhrDZWeIdn22pZcahoIa5IQrWGa4FBg6wXfqZs6eaFI9QBi3tke6\n",
       "/JxrziQVL6lBoxqWGS4Fho7wnboJDcGDiyKjOEOmYCNFKYyNLKqhdIA708pwKTB0hFa3XcUe39et\n",
       "VW0XsogQPl3UVMXytqEjtLqRrZ9Qdl+3VrXBWQQB4OMFT0MFy/uGjtDqxtcuwu75x6xbq9rgAd8A\n",
       "8AtZkWn4tbrf6cY3uoR11bcY3xrVBpV+6gH4eCnsSPdpAXHF6YaXgejmxuOiW6Pa4PjBAfh8mVAF\n",
       "ywaGDtDnk3p0RasmujWqrcU04DHdRAXLBoYO0OtGvGMI2Ua3NrXBeZYE4BdWa46xhIyHgtrS0jQF\n",
       "vW4MrX/EWyno70YQFNlIWnWDayuO7a6/MtObiNOSc4uQb+s2Fk3gGtAKDB3gPO92nUOlkls2Txu4\n",
       "QUIM7jQfsk3ZC5Wcd++1cXohqTy7A1lznMg4iSYATrmyD/O0/D9NRxtj0S52klaGQNrQAc669QbI\n",
       "I4z/CiFLr1PSNy1O63aoLX8ILeEO2FUmHc/IgQ5QtwveXDu/qtGtikBON9vM2KzxCRvF9miFDXWf\n",
       "mHXxQ2I+68PS61x7bTqXUkXcQRFC/vqb2Ak8c3Fh5H92nEyOb1+Ik3aytUy75Mjs/G7VZEbc9YZt\n",
       "VsJSi+u7blttdqZo0MZemVVO7w8YcIfZEef+xiIjLgPgl/MSIHtijQ2FeYk75odW/7etrffe4Nre\n",
       "PgzbWiOWWOZ022ozo+wM2T9fa5auE6GEO9j+9s+/xPU3H21pLMPmAPyCbkVJVwNa6Q2BdT8ALTa0\n",
       "bS2zfeyR+wamwpe+43zgOd222gTeD+y6nRK5/DtCHVM46Q5yldrmk5j9gfPuooGxxbybpGCwjyNd\n",
       "3xZ4uaUzI2MR3/OLZSDqJKDbprtlTtDuA9u/E9zLtDsQmVtBGgAohR4flU1ORWsKAa0KXoGhIwz3\n",
       "37Qb0Abr+37+5BF3PWGfRjNFmB+sCnRzIVYvq3THaL8+x90B55bbc9vd9Nn9geJ15XAj6yqvzLry\n",
       "sQy2JxgXwrhr7w11bL/EJZXtJYR3BbrZ4c0Z8D5A3cdqfha9fy5yh2vxY8bPrjOXLhh/hNOrvID1\n",
       "c2C/uw/WL1xAGwrWuY4eQozTwfsAI35D2T9LYubN5QJ3iJqiEBwenheULjwGtK7zAtZh07oNV388\n",
       "dE6hT/lD3h2iU1rwGJ56dngrnueHpwMv8wLWF9K6XT5lAOh29IGhQWfAZ88NIEV21hgNSYkrAJHF\n",
       "UWPSyVHp+YOAFsArYRQ4jvGdc0H4jj9EB+w+DeVkZ/0yEstSVwA+3cxNL3kqaWSl+9gByySvlNHA\n",
       "0An+4LnX+SD951H/1BWAiDB+KWdIdiNWxTLJK2X09869dkSn4Xw3YpnrnI76F0ZoMRljktsjHRrr\n",
       "WJ54lRgNDKEfOGc+nOe0J+i71bDGqOCof1H+Di9jlR/3ObM88yowGhj6hXsd4RbIEfqW+exc5fdo\n",
       "4C/iK/eoSJfllTQKJl9v1Q34UX7/Qn+mP4krAF18HAznr/unqJJlilfKKHjF7wfvCbv3vIjIilLq\n",
       "CsBna7uBSBKWiH2194RTvBJGf/OeMNDhJFIk6tWJKwCRdQr3xVTSgmpZJnnFjQaGAvje92BQBcHn\n",
       "EiJ5h2W1odDue3Xj541wrr+y6T32t1hWGwrtvvg9T0ZA8Jly/T1PlbR+9z1P33yv2hat6G2WVYY+\n",
       "7bbUDX/7vaG0h+ADoZnK+ywrDAXQNXPD6PL77w2l33pvaKATjb039D+Ej1FrR4vg5gAAAABJRU5E\n",
       "rkJggg==\n",
       "\" style=\"display:inline;vertical-align:middle;\" /></a><br>"
      ],
      "text/plain": [
       "<IPython.core.display.HTML object>"
      ]
     },
     "metadata": {},
     "output_type": "display_data"
    }
   ],
   "source": [
    "mult_frac_cancel_denom_left = Forall(\n",
    "    (a, d), Forall((b, c, e), Equals(Mult(frac(a, Mult(b, c)),\n",
    "                                          frac(Mult(c, d), e)),\n",
    "                                     Mult(frac(a, b), frac(d, e))),\n",
    "                   domain=ComplexNonZero), \n",
    "    domain=Complex)"
   ]
  },
  {
   "cell_type": "code",
   "execution_count": 66,
   "metadata": {},
   "outputs": [],
   "source": [
    "# mult_frac_left_cancel = Forall([x,y],\n",
    "#                       Equals(Mult(frac(x,y),y),x),\n",
    "#                       domain = Complex, conditions = [NotEquals(y, zero)])"
   ]
  },
  {
   "cell_type": "code",
   "execution_count": 67,
   "metadata": {},
   "outputs": [],
   "source": [
    "# mult_frac_left_partial_cancel = Forall(\n",
    "#     [x,y,z], Equals(Mult(frac(x,Mult(y, z)),z),frac(x, y)),\n",
    "#     domain = Complex, conditions = [NotEquals(y, zero), NotEquals(z, zero)])"
   ]
  },
  {
   "cell_type": "code",
   "execution_count": 68,
   "metadata": {},
   "outputs": [],
   "source": [
    "# mult_frac_right_cancel = Forall([x,y],\n",
    "#                              Equals(Mult(x, frac(y, x)),y),\n",
    "#                              domain = Complex, conditions = [NotEquals(x, zero)])"
   ]
  },
  {
   "cell_type": "code",
   "execution_count": 69,
   "metadata": {},
   "outputs": [],
   "source": [
    "# mult_frac_right_partical_cancel = Forall(\n",
    "#     [x,y, z], Equals(Mult(x, frac(y, Mult(x, z))),frac(y, z)),\n",
    "#     domain = Complex, conditions = [NotEquals(x, zero)])"
   ]
  },
  {
   "cell_type": "code",
   "execution_count": 70,
   "metadata": {},
   "outputs": [
    {
     "data": {
      "text/html": [
       "<strong id=\"frac_cancel_complete\"><a class=\"ProveItLink\" href=\"proofs/frac_cancel_complete/thm_proof.ipynb\">frac_cancel_complete</a> (conjecture without proof):<br></strong> <a class=\"ProveItLink\" href=\"../__pv_it/theorems/1dd26cbc8ab680f2f6af09d8755f447db4ab22140/theorem_expr.ipynb\"><img src=\"data:image/png;base64,iVBORw0KGgoAAAANSUhEUgAAALMAAAAmCAMAAAC4YVoxAAAAOVBMVEX///8AAAAAAAAAAAAAAAAA\n",
       "AAAAAAAAAAAAAAAAAAAAAAAAAAAAAAAAAAAAAAAAAAAAAAAAAAAAAAACXHtMAAAAEnRSTlMAq1Rm\n",
       "mUTNIjK7EInv3Xbt5cmRiLwgAAAACXBIWXMAAA7EAAAOxAGVKw4bAAACx0lEQVRYw8VYiXLrIAzk\n",
       "PgRWX/n/j63AF4ld90F8aJJMMhPhRaxWQozdbUp0OoIB9owpPiFA5OBCaNiBG54BLc2MnTHkyNTQ\n",
       "4syfgOziFCpp6Z2Acdni7sUDmE2YwedQm2ZKx/vZIVL9zIjd2XCjDaH6oRPxA9oCZ7PPvWxewgxe\n",
       "Mx7pS2hcwoebMXO/ksSBIsy6NalkvBlzWkQCFCITSjbrgE3kspJayMup0UnGupgMJOxKLzp0Nb1l\n",
       "6irZXJlKbrJAujnQ1l9OZ9PpiBVmzBufO49weY2J/ATMlL10YhONzfUpGE7A7HISsjhki+FG2fgA\n",
       "M5RVlCti3VCQ1GHOHMrU4bJDZfwXzCzlim/5/PHbNr3iaKvm4ChbQ9GhEDBspU6cEOeJYTnEQW8e\n",
       "gdxThaUyy0kERV00DzCPe5e0Qf3+L53WZ6TKWjGXUxa4k4FqpAztBkqE5f9h5kXkY/Z9ryBnxVlN\n",
       "kiGnk0dUll70Zc4XkG4Mj93HvHiMsQwjc/MzomjE3MDnLM2TSKPNfYwRRIhFD63Y1McK8+KhfLYv\n",
       "esupfxvkew7KU+I8rmJntaefHvMdQi/LS5BwgHnxGBeXVc/53tJDwk7MoaLZoj7crduw41WzhI3u\n",
       "X85pd4D5hbfz6Yzc2FAhqr6Sz2Myy73Rpa1axMJct2bclIO17vodj8yNf9++cGM/B5k5o6N5vZ5l\n",
       "jrBgxpKxlhgbSoaFXX2uPKp2ixKT6LVRfHVGvx7ehwsKdUCE0uUtjIBARFFunxurx0sppZqiYNuL\n",
       "nnBr9gfFD0I+Z73vt39qf6UYpBNax17x2cf8d2Po1ceQde9dZxez0E0X0I55XSFdb8vcewmDSqd6\n",
       "5nU7xfV6W6PUN69jePeoYG6e+ud1D4S5GuX2zevQsAfMyA/mdTbaJzDDYLvndTA8MX7OsSptb9e8\n",
       "zkv2kFnXOa+DWSh/AAWsGJCTCamPAAAAAElFTkSuQmCC\n",
       "\" style=\"display:inline;vertical-align:middle;\" /></a><br>"
      ],
      "text/plain": [
       "<IPython.core.display.HTML object>"
      ]
     },
     "metadata": {},
     "output_type": "display_data"
    }
   ],
   "source": [
    "frac_cancel_complete = Forall(x, Equals(frac(x, x), one), \n",
    "                            domain=Complex, conditions = [NotEquals(x, zero)])"
   ]
  },
  {
   "cell_type": "code",
   "execution_count": 71,
   "metadata": {},
   "outputs": [
    {
     "data": {
      "text/html": [
       "<strong id=\"reverse_fraction_of_subtractions\"><a class=\"ProveItLink\" href=\"proofs/reverse_fraction_of_subtractions/thm_proof.ipynb\">reverse_fraction_of_subtractions</a> (conjecture without proof):<br></strong> <a class=\"ProveItLink\" href=\"../__pv_it/theorems/fe6eddd6b13c5243a810fddc38cd687d7804ea790/theorem_expr.ipynb\"><img src=\"data:image/png;base64,iVBORw0KGgoAAAANSUhEUgAAAT0AAAAyCAMAAAAZZPzOAAAAOVBMVEX///8AAAAAAAAAAAAAAAAA\n",
       "AAAAAAAAAAAAAAAAAAAAAAAAAAAAAAAAAAAAAAAAAAAAAAAAAAAAAAACXHtMAAAAEnRSTlMAq1Rm\n",
       "mUTNIjK7EInv3Xbt5cmRiLwgAAAACXBIWXMAAA7EAAAOxAGVKw4bAAAEuElEQVRo3tUbiZKlKIz7\n",
       "NrPL/3/sAB4oTxGne6Yj1f2qFEIg5CYSgr1Zg2xBzjrylkY5uiWZ6S3kox7hotj0DuJxhXJZnr6B\n",
       "eDponAub+AuoNwHShbGAX/XxgHZpSqCnXqgmw4HPwmJE1tm9c3cA1Bnv2ZDzMTD4HLOMGjnxIFYy\n",
       "+SQs2QTbvHDZAUqbBApEDJnFkcEXmBV2wzHVBRo2bzFkRag6x85TH09UH3ITRwZfYWYRt+YzsUYZ\n",
       "bl7+/GpVOU5NtS1jS/+om9MOPpvwFHN+HwE19ejBZpSzhvLqbtnhyb7uB19gtrhd5nDQLIVHbH5l\n",
       "ZB+uKHQ3KFcDgy8wc9R2w8SDNirLn3xR470IXs48OxLgDQ6+wOwiZo8Zjmfrs83L7ChlV8qME4kg\n",
       "csRhGRx8hTlgtrq2cZWF8OCo8N0TdwKAMMHHvL3BwReYs+KrBGS4ODFY5A6Vj4mwGzsqVFrQReyx\n",
       "EE++s1mZT+M6a4Pcn1pWqBZzPRYZ/rssRmTIqVekgy/qTmGTC4OceiRmsQ0lMAnIUuCAPolBYtZ1\n",
       "ohwytosi/31RuNhFr9M3Omkhi6um68/faF3L2SGQiOizt9O0sp2X3yVxVlDQ1V72LHkPKY0HIfmT\n",
       "dit5X5x0Kv48gy/bDAPUpqgxhY40qStm/Qj1uvxOI0HPe2Ext/xrzpUQi4H0rkzEh6hHe3ZB4Nd7\n",
       "s+QmV29x+iTQHP4Rt90EAgid/kjtrrGdmZQukTOsMZ7jSxJHn1GvAZe+maaxGuhtbpgFVi/pgsQ4\n",
       "6cR52rBadgM6J/QV23WbLXoXRnpRMj2bi6tZu+dKvQoubG6/0j/fTdN6LOj9vTXJQueVapdrDCgU\n",
       "qs0+a9o+kGUfczfsuEkX9pFbeoE77i6p14ADb6Z5n7fcnnkuGwnykILeS1DuprCzFfNGVeEly4gx\n",
       "0lxS7wheGXadpo3UJHLiudge+iTTy5nn1q2FnRZL3SRs9Mk8pxOvmTrLYjV2jpw9zl7As+T+979d\n",
       "JHedpo3BsRc7fOYxlCEyzld1zmeFSLwqHq8rFJrm7vlJK2akPcYp2hcL48/9vRU8o96MR53mRi6w\n",
       "tc88hqTAueeyMF3qFCA9gFueciLWqq3P8TDnBHWtUHQ+ibEw55K7gh8IXqdpxEAhp95NJM7aJ5eG\n",
       "W37S53wWw1NFtaPeHvzev6QBOfX6/rx07VPS+FKd9PXajnoVfCS04Y277EBkyrsbd9fke2z9QGfe\n",
       "A1xg7l8d8I8nycGf9Q1Sr4KzAXtqGrWy1JPwfgTnFHj7pDhxAOAcs/4Xye8/jxiON35rPQntXyAU\n",
       "4+0fBHn3ABeYcd+GExGaZFYpmtgqJ86KThYl/DBC3gF0Klnamg2KuxKjrTSTWRGa2xBEPxWoe4BT\n",
       "zNhvraajx1fqSeDOEpew8QnzDQCcYebYs7fNAks9ib0xCKyYmgdWYwTgDPOEvmz+eFMlcinJTfxm\n",
       "rLfgp/EEwxDACWb8lbcN8znqQdws2udydvUgvzAEcILZvuCLDdVmMfyPhW9HzDK+4GMrs/vaJS/f\n",
       "BfZDhGswT4y8oO1SsfnLl5/5au0T8zu+tNqvmnEQP5Mw/cAsFXlJU/hkxKj3fKCL7+vmSrzfU9sx\n",
       "UPYakLsAAAAASUVORK5CYII=\n",
       "\" style=\"display:inline;vertical-align:middle;\" /></a><br>"
      ],
      "text/plain": [
       "<IPython.core.display.HTML object>"
      ]
     },
     "metadata": {},
     "output_type": "display_data"
    }
   ],
   "source": [
    "reverse_fraction_of_subtractions = Forall(\n",
    "    [w, x, y, z], Equals(frac(subtract(w, x), subtract(y, z)),\n",
    "                         frac(subtract(x, w), subtract(z, y))), \n",
    "    domain=Complex, condition=NotEquals(y, z))"
   ]
  },
  {
   "cell_type": "code",
   "execution_count": 72,
   "metadata": {},
   "outputs": [
    {
     "data": {
      "text/html": [
       "<strong id=\"cancel_negations\"><a class=\"ProveItLink\" href=\"proofs/cancel_negations/thm_proof.ipynb\">cancel_negations</a> (conjecture without proof):<br></strong> <a class=\"ProveItLink\" href=\"../__pv_it/theorems/4a3f35cb8f714cc401eb9952f062182e466794960/theorem_expr.ipynb\"><img src=\"data:image/png;base64,iVBORw0KGgoAAAANSUhEUgAAAN0AAAAyCAMAAADvCC5/AAAAOVBMVEX///8AAAAAAAAAAAAAAAAA\n",
       "AAAAAAAAAAAAAAAAAAAAAAAAAAAAAAAAAAAAAAAAAAAAAAAAAAAAAAACXHtMAAAAEnRSTlMAq1Rm\n",
       "mUTNIjK7EInv3Xbt5cmRiLwgAAAACXBIWXMAAA7EAAAOxAGVKw4bAAADw0lEQVRo3s1aCZLjIAzk\n",
       "NLd2l/8/dgFfJNiYmTLG1CRVmQhCg9RqZBAa3pS8dzytNHpNw/TuEaV7DTxs7h+TuJeAo1OPUQ1+\n",
       "BThhRZdxHX0DOgd9xiX2BaFHba+RJzYena1QigbAWhpDWpJAYcu9GA0OfMV/wuIDBsRa+O/AdhpO\n",
       "LK4yAxrWngb0LenwyJb4wZEnfaZS9OT2Fv4fv2KN6eLIVnsYiw5fcYr9wQQLWzU4pduL0EjMoNsc\n",
       "rLSlY3lFelqTwnze2wahdmyr/dCMDrXFJV5qFmbMGxLCia0dypqqFnaaASDCaFO2O7aNgbcDJA/v\n",
       "pFV9xzc+MCnf8t+zUah9Z7FEPUdy3TyhniYVeOAHpoVGmwTdnTLekwecgy7hNj1MKtTLzr/go1va\n",
       "JH6seRgddM+2PsYaS2v4eCHJ/FzmskyKuutsZqM7Cry+/a5Vqe8cAesu4p1bt83wZo9SDIPI+K7G\n",
       "tfOwxkDp99h/eFGtXXngialLcoHANadIwCrIuaDpcAgXokwTutkjaBifqzq6LntnF7qkF7mHsYXg\n",
       "jE6WtA0dTsRhY9+CQ1j3uJs9M6S6NekBMBH+llMFxBHiC1aRpqmcXVgcott7zB/TGogEw5KCVXpz\n",
       "pp0dUqxyGgTCCk1kKcWgMC9poztuKViQYk4qK96sPZiK7U940aAZIrqiwgjd892KCi8/FGagAC0f\n",
       "hI4VawiT59vMqKb6HN3eY54/XRSRPjo7P5DNSzbP/SXW+DHEcnjaCkWQlFyeo9t7zIfKBXNCV+gu\n",
       "4nlfcNoXRB3dasPn+EwJcjdbWCXPYzm6tUf0zL//VPLME1aRvc/O3zJdWGSmlJ51wuMk4v5TyAiT\n",
       "OMec5LutB9oPH4GqgnPjFsfpK9MZcAOg4xbGb8J5V03z6WjzR22CmzJ54plbjw9pF7I5K+nfddbt\n",
       "NSEb0OnwraILpuhlx4GSoct6kMvTG7Z90VXkAteJHnjD+mbosh7XHWk1nWtgcZl0k/49NK5UNqIx\n",
       "p9ByLMqz+daD8Iaorx1fDSI2LUHTeePAWNxz9v+15KiV5CSZn3nglnrIofHgai1ieeB9PUfQS/5v\n",
       "KrYfGuPBlXZezec8hqVsFDQHxqOfkiBXy3jpoQ408mppTEc/4arPQOH1rYXZCmM3/tpDrVTFcHS4\n",
       "RrVWGL/gyXJ18zQOCqd1joWxesONlameUM1PxFpuzP0bLlPJ09s4ca7aknZgH8aOoDc0OMvW8Z5O\n",
       "8x2yb+OX3KQ6R0AosObj7Zcxn9Bb2nS7E8npRRc0b799uoP7D3zkIqZoxaH8AAAAAElFTkSuQmCC\n",
       "\" style=\"display:inline;vertical-align:middle;\" /></a><br>"
      ],
      "text/plain": [
       "<IPython.core.display.HTML object>"
      ]
     },
     "metadata": {},
     "output_type": "display_data"
    }
   ],
   "source": [
    "cancel_negations = Forall(\n",
    "    [x, y],\n",
    "    Equals(frac(Neg(x), Neg(y)), frac(x, y)),\n",
    "    domain=Complex,\n",
    "    conditions=[NotEquals(y, zero)])"
   ]
  },
  {
   "cell_type": "code",
   "execution_count": 73,
   "metadata": {},
   "outputs": [
    {
     "data": {
      "text/html": [
       "<strong id=\"neg_frac_neg_numerator\"><a class=\"ProveItLink\" href=\"proofs/neg_frac_neg_numerator/thm_proof.ipynb\">neg_frac_neg_numerator</a> (conjecture without proof):<br></strong> <a class=\"ProveItLink\" href=\"../__pv_it/theorems/bfe74217662f386368935f1fa9238cd16d279f590/theorem_expr.ipynb\"><img src=\"data:image/png;base64,iVBORw0KGgoAAAANSUhEUgAAAQsAAAAyCAMAAAB8iQ6xAAAAOVBMVEX///8AAAAAAAAAAAAAAAAA\n",
       "AAAAAAAAAAAAAAAAAAAAAAAAAAAAAAAAAAAAAAAAAAAAAAAAAAAAAAACXHtMAAAAEnRSTlMAq1Rm\n",
       "mUTNIjK7EInv3Xbt5cmRiLwgAAAACXBIWXMAAA7EAAAOxAGVKw4bAAAERUlEQVRo3s1bi7LiIAzl\n",
       "XZ7ZXf7/YxdotS2lWBGLGXUmt3KEkIQT4CI0XJS8FUsrXVHHCqY3Y0mnK+pQU5jbsYirqeOEigFY\n",
       "BtfUUTLZaQSWozV1kDgYgkWsrqiDIsQOwhKspg4Re57sNADW0hjyFSzud/GUqSME/LlvhpkCDIi5\n",
       "72CJfb4Uw9OnO+8BDRNFw/Aus483scjedMQPzhjSryxRC7dK+HN8wkQb1uFZAUt7qKgDaNaLbGfh\n",
       "i1jK1dT7M2c9SFNC0/pLWHSfLunY7Ck9rRRQfJ5q8y0svW+h/VC+BZWpIF5qFvrPydewMk+yQ1cS\n",
       "VQlxzQAQYZR8D6uQMFZzkJu9xKqhWMYfVMaffOPe7KE9G4pFPc9V+XCMSd3rFrLjkt6ClbVJqlhW\n",
       "muvMv48QT4ZiZb6UVLqkCXGvKYJTyrFYHh9Vm3ivNTfbAjqymyYsr44qSza9fTvYvF8OsU3NsqvF\n",
       "TEtpZcVRnfDjo0mqGbzSRdaxNGzCcq6gRpcw/LI/KoZhWnNwbfmZUY2BQgDi7frua3KhMtt8J694\n",
       "0RmU2/OzWSXwOnNKwCrw+kDucQhNoswVW8zORgM8V3VbfFrxtmAVbREMQV+sz4wtidro9E16yRY4\n",
       "ZTSbJmfq4Nen+aJfjARq8SAZAGwKr6XQhfh78Q0Peq6pnINpKtlibTCryWBT6qclx9zZbx1pwirl\n",
       "zniysPQfJoQVEnO/gweEYUgbA+NJaiaS/+pqi7UBU1H+hDcNhC7a4ngEAR35RRPWSaGKF6jQYQVo\n",
       "USYdT9cgjJU/B0I11ae2WBvMHaQLudXFParxXIvVVJQFdjyfxBAP59I8K4Kk5PLUFmuDeQtlsVCy\n",
       "xZEkE8+72aIFS3tTUdMs2k0ucHzOfHL92pI7N8Rha4tHgxgjf/+pFCNnuVN23ElqwSrVZts10CIj\n",
       "EnvSafRheeZ+T0onkzKrKfOLZwO01r8hH4cowy999CNpwMrquUN5x4AbAB3dIz4hjCox1/PPyNAm\n",
       "BAyT5Rh5Nthx+sC1WGHNcx2rwQasrIap7hKGYYenii4WiA5fDMqNLTYNyOsNBdzxMLUBK+NnFbrG\n",
       "dcqC/LW9N7bYNLgwT7RIkDSwaE39Xn1Eq2SriJltC1Z2CWNbTuFCIb/lWs8GhF9JXqUNGIOITYN7\n",
       "MxHWNnNKmNM+V05ddtna2WNpG16S+QgYq8+xqpi/dVaEmC0W+YmWWfgcq4qJ99UIHnyGyIsMicfQ\n",
       "l+8SSV5lWwXMLCZGny0jV2IF6UQcbBesc8ws2dLRdw7KPVD48dFvJTliZtc13PirfKUNZ4ajT9Mu\n",
       "WKeYv3dHqTiZGgea2tC3mmMcMDO/U79ww1OUJ9OIflglTL63G/e/cA1aHu6nxi5rS7pgnWK6Pb4j\n",
       "6BcEck4Vb6w23hGHM36WY/7mHejjuAkFxjthnWBmRRYX6FdEkJuxpNAVdazc/b80+7Fv1P9EUSwK\n",
       "jnWx3QAAAABJRU5ErkJggg==\n",
       "\" style=\"display:inline;vertical-align:middle;\" /></a><br>"
      ],
      "text/plain": [
       "<IPython.core.display.HTML object>"
      ]
     },
     "metadata": {},
     "output_type": "display_data"
    }
   ],
   "source": [
    "neg_frac_neg_numerator = Forall(\n",
    "    [x, y],\n",
    "    Equals(frac(Neg(x), y), Neg(frac(x, y))),\n",
    "    domain=Complex,\n",
    "    conditions=[NotEquals(y, zero)])"
   ]
  },
  {
   "cell_type": "code",
   "execution_count": 74,
   "metadata": {},
   "outputs": [
    {
     "data": {
      "text/html": [
       "<strong id=\"neg_frac_neg_numerator_gen\"><a class=\"ProveItLink\" href=\"proofs/neg_frac_neg_numerator_gen/thm_proof.ipynb\">neg_frac_neg_numerator_gen</a> (conjecture without proof):<br></strong> <a class=\"ProveItLink\" href=\"../__pv_it/theorems/b13259a4dd7db4e92b3c23313084340631654f800/theorem_expr.ipynb\"><img src=\"data:image/png;base64,iVBORw0KGgoAAAANSUhEUgAABIAAAAAzCAMAAADYZ4OgAAAAOVBMVEX///8AAAAAAAAAAAAAAAAA\n",
       "AAAAAAAAAAAAAAAAAAAAAAAAAAAAAAAAAAAAAAAAAAAAAAAAAAAAAAACXHtMAAAAEnRSTlMAq1Rm\n",
       "mUTNIjK7EInv3Xbt5cmRiLwgAAAACXBIWXMAAA7EAAAOxAGVKw4bAAAKFklEQVR42u1dibakJhCV\n",
       "RdmUJP7/xwbQVqBZ1O7n8l7VSWamtFgvXAoEummOiXTSgICAgJxPIcNohEItHhbBoQ4AjV9OMUIW\n",
       "VGEpRBwmoBbq9xNB5FHZZR+9BjT+qPBBFlQjBAjoohavHpVdjcvvWw1ogCQEDyUVCOgqId2zmlG1\n",
       "g2oCaIAkRKGSCgR00YSmf9ScRW7ooJ0ENEBSREFKKhDQNaA8a8ZCN7g3hAIaICnvuZcFFQjoEpe/\n",
       "f1Z+N2W3l4AGSMo3pgUVCOiSDv2sNU+8aYmkI4AGSELakeVVIKALRI+rsyC1sh2XU/uFIO9DbDTb\n",
       "KDtjoyoXjUaSKzV9IYuXFyfhw8AbVuKmusVGORiRj8bBivouOjujC1G4Y+13KK8CAV2x5uAhoMyk\n",
       "2PyFhB0a8lW60Wyj7Iwt59uYDqKRbuj0aTX5KUl2Wok0NW222NptD0Y0oI8r6rvo7IwuROGOtY9D\n",
       "ig9UIKDzhY/rrluOp5bT23XQzvimMtmPYzOpFEKHh9q3RGtQpzcBEROSmMY0b+LDqaUUZjOp7B8y\n",
       "8617sfisTH5Sh9GoVtQZ6OyEJ0LhjrUvR51VgYDOF+T1VDm1s6kXmLGMaz34UHVpM7uOtw55i1ll\n",
       "kMrFVrY2xu08yA2rmKAudOf15HR+pGuWmYJ5Fp+VyYvoOBpvsV+BziZ4VusIhVvWvhiyKhDQ+dKj\n",
       "N4dUu17gBoZgr+hA02bWMWfr0D1s+wSei61m3eeh7tfgbd+k8sNeFpmCLRaflslL6jgaydnD2ehs\n",
       "gSeItNfVKrm09km4DO2rQEAXzMACZ9mNXsL2At6+tZScGZFBc9ktUWyUmCESNZqkj2QO2XMY7ovG\n",
       "fKA5nfGWTGN6tmCLxadlWiNyxaGH0ChX1Eno7IQnQOGWtS/DSvZVIKDTRYfDgWtng3Jrj4WWEpuZ\n",
       "v4fjeQhik6TtyeQK6KQ7IJJjmxTtNH9RhaaEHXehQsE8i8/K9IroVRx2BI1atZ+Czh54YhTuWfuR\n",
       "m+mpQECniwgXHZT91mERadtSE4/NEgeLg2WJdUUhNZ0PYmNSWxM7/KU/uKc/buCRS2rK0s7+USos\n",
       "F0poNfB8wXyLrWVKFmmJ6FUceQSNWrV/B51KUfbAE6Pw87WfzHOl9vOLQEBA5y8BRVVOqdISUUWa\n",
       "UhOPzZiQxUn5OjtPTufD2JBd8+yzky2ezJKkWjeYElxoEMp+HOtKfde32FymVJG8iGxx2v4YGpVq\n",
       "/xI65aLsgSdG4YTaT+W5UvtqzKmGgNbhDZPdBHQw8B8WWbnFDW/yg5mJhH3tCGVvhkAt7CJAk14E\n",
       "2rA2wGr5rhbsa2WyxaG04V9A4w7oVOH5SsZ/tPZJuJ3JUw0B0UXp2G4COhj4Dwsf9edNnAnOOf3W\n",
       "4Ss2zgOXbQ0pgy0HTasHVmsF+1qZXHEGjvkX0LgBOnV4vpHxn639qJo91ZSJoyUP+6dgBwP/YcFj\n",
       "6W4vprpR1ftEby+zHL+VpRbNAwhDOt0EBat3usr7asG+ViZXHK3I52jcAp0N8Hwh4z9b+5Gj6al2\n",
       "Deh1k4vC+wnoYOA/LGR84O3Dsjq8CAZogGRlRBnVEhCZ2WrftXAzAR0L/Iel8t33plLb46cZoAFS\n",
       "ICCRUd1XsN5trt95K8Hro8ehwH9Y1Ai/ZQRo/DXpu4zqCIg6N1Tsg+JFQIcC/wYprgfmq4NCk78A\n",
       "K+8UW3D6HdA4R4YhozoCYuj1xwECOhT4ic66oEj7M5HSsohylaOUfncM0QjN8T4CaJxEQH1GnTYi\n",
       "Wv9F7dxYuOw7OxL4McI1EqK1q7CINQ0WahMBTXxM7I4sUW7yI8hPyj4Cio/7Azpfq/0KAWG9fxV5\n",
       "IaAjgR/jutP5I4mSzvch2wgIuZXN3rVhBlOwOwMMaNxgCmYJhEyTi9TJ2/Tp4nXn/RK4tYflJG1k\n",
       "fBAw+yIlFWOTE2b+82y97dh86FgbeWOpZ2lv581w+bErSfi8Xz1JQFE2WkdTzLXtPt6eoOC7y43W\n",
       "gACNc6S8CG138Uz7eVInbzOni1cCWgJrewbN7SwK+3v2RUoqxprZqyo77Nny1b2jvFUxU6aepVtp\n",
       "bLjufsEMvzVUEWXZZoMKK/+Y/0nDHQEN8X44DTtP7rSyB2icQ0C54/AzAbH5SerkbeZ08UpAa2C7\n",
       "39vuGY92hWRfJNdPysbE3Q7BfVvtT4ZYYj8A27pHIDJsF/Igksg8AUXZmP2miYD6eAMNbH27kwAa\n",
       "50h05C7cCe1WLV44pE7eJk8Xe4ef18Bquj7PdrrgcK33osWalv0gP5ZkYVhoizxDPv07SHx6Vk/3\n",
       "FXhtnZ1zaARuOG95noDCbLz8pmkK9rbVH49wjcB9BNA4ReSoMurbdRypk7fJ08Wp2xfMMzlObgoP\n",
       "flDEe9E30z8LC1arcZImem8pxuai54HPwmSY+Pysnu5s6KW01tq8CO3v7xFRZbhaMnT173/CTcEy\n",
       "i9CVK/hAThVA46RqLhxGDSch4clbqZrc6eIUAXW8acfpon5jMC0MqegFmz0s9yL1h29MKCaEtljx\n",
       "+S3rG9U1S9bsRRHtuKTDOsynD98u8eBZNd2XoUmP4Il6Vj+KKbfurTL7gJZseMdzG63no3lFbxTk\n",
       "TnMDkB9yNHFGjQkoOnnL7Uec9OniFAG1SBOiyPRmIiAXQ/iisRtrphe8Z+EfkTG2zpiZjjlCcG+p\n",
       "bpVesmavYhLdkg6VpO9W9oueVdJ9Gbo0h3kmt5CuVGY+RnlmCrZkI9gTrpROXHAwwLG5GwmgcYZE\n",
       "R+48tXojIi5MlCrQykwMr26MNyRnGEBajwcn3hpNmoIIkgg6J46PpIu48YZetGOnU+mSejXnZQNX\n",
       "b2tA8FPkNxJA45RaHnNqjYBa+SkBvcWg5LS8nIr67ZnxRKz3M7gFofCt1cxkse1SQafEg2eb07Vf\n",
       "tEhb3aDm1ZyXjfqASmDv240E0DhDootvPbVGQPklugoBcd1PVwTFMXTjOA65qONn0m5Iam0PZ29v\n",
       "HSWR5bQVSSROjqRr08QbrrPyNyIu2cD1jyp8fOTVSVK7Ow/lLzv191A0ngUHC9egfRUupT9eq4eH\n",
       "g0f24fkHy8lvO735TDSeBQf8MOGthD5x2eH1g+VIABoAx05BQ1YFAjpf2idufpt/sPx9ZzegAXDU\n",
       "JLr531eBgC6QgT6zp9rND7/v6MIz0XgSHNFCf6ACAV0PyFPmKvYDn+4BDYBjL1WgvAoEdIU88gZt\n",
       "94PlAgEaAMdeX43lVSAgGHS3Drn2t8p/49Gphzqkj4EjYslQBQK6RLoHDroSKU1/5f1dT0TjOXC0\n",
       "Ib9HKhDQJcL7Z3Zk1QEaAMdOosAlFQjoGtHiiY1d9hjQADj2ZRSVVCCgqwQ9ze0f9AMz/WvReAwc\n",
       "bVdSPyIgIo0AkxxeeHiYM4FJ9UZJQAPgiGe3ncyrlkCOO5+D/eUfuM3puAi4jRjQ+OUiQ/6JVGEp\n",
       "RPwPSBChNn663fYAAAAASUVORK5CYII=\n",
       "\" style=\"display:inline;vertical-align:middle;\" /></a><br>"
      ],
      "text/plain": [
       "<IPython.core.display.HTML object>"
      ]
     },
     "metadata": {},
     "output_type": "display_data"
    }
   ],
   "source": [
    "neg_frac_neg_numerator_gen = (\n",
    "    Forall((m, n),\n",
    "    Forall((w_1_to_m, x, y, z_1_to_n),\n",
    "    Equals(frac(Mult(w_1_to_m, Neg(x), z_1_to_n), y), Neg(frac(Mult(w_1_to_m, x, z_1_to_n), y))),\n",
    "    domain=Complex,\n",
    "    conditions=[NotEquals(y, zero)])))"
   ]
  },
  {
   "cell_type": "code",
   "execution_count": 75,
   "metadata": {},
   "outputs": [
    {
     "data": {
      "text/html": [
       "<strong id=\"neg_frac_neg_denominator\"><a class=\"ProveItLink\" href=\"proofs/neg_frac_neg_denominator/thm_proof.ipynb\">neg_frac_neg_denominator</a> (conjecture without proof):<br></strong> <a class=\"ProveItLink\" href=\"../__pv_it/theorems/cb043c20f2d16bc99c389fa1de17796c7688d19d0/theorem_expr.ipynb\"><img src=\"data:image/png;base64,iVBORw0KGgoAAAANSUhEUgAAAQsAAAAyCAMAAAB8iQ6xAAAAOVBMVEX///8AAAAAAAAAAAAAAAAA\n",
       "AAAAAAAAAAAAAAAAAAAAAAAAAAAAAAAAAAAAAAAAAAAAAAAAAAAAAAACXHtMAAAAEnRSTlMAq1Rm\n",
       "mUTNIjK7EInv3Xbt5cmRiLwgAAAACXBIWXMAAA7EAAAOxAGVKw4bAAAEOUlEQVRo3s1bi5ajIAyV\n",
       "pxAgu8v/f+wC2taiRqtWypn2nMyUW4jJ5QaYrmverLkTCiyQdtPGxL1QJgBpt3SFuxuKB9pu1oS+\n",
       "H8ox2m7Uet83gAqCttu0gC2guAfSbpMhvg2UlrTdovk52wEiA+McPw+1jqniez7VdoOGcR6b6Qkh\n",
       "w06G81AEpq7oUjenzzAfgUgPSKR5fao6AjGZBUxeuY7Hxoxh4lwm5t9IfQkUhQkRSft+mbVCdx4v\n",
       "g1rFtIG2b2fO5bguRAZwBdQ6pqjYUrRlTxPFQuWkhmfsTkPRmFD1gNhUb+HCo+DRgEzjVvw01AZm\n",
       "HUm+6UpiF3IcJGLHpeDnoTYwlwjj5Q5+c5R42xLKxbkt1VNv3MseEGVLKBHVzDaPwOjtvWFhrlvS\n",
       "j0DVfYqtx5Xm4wrgZOORt4SqY6nYYqQJfa8rUlCaplCRLdg+5Obdzb7A69TNIahoF2xZnHr7drD7\n",
       "uBySYdLYKagcAnrB7tnj7VgjOXx9kPK60vAQVAhLdg4Jp3YHpJUM+wkJU+vPAOsczjOQvS3wkWjb\n",
       "ldnkI6AnwWNq6OncK3022By3mdMgs0nXJ3HPUm5y63b5Yog2kfCVpX1xruA9ArXsi+QIsbFASzky\n",
       "tYPySbHPF6xwms99Z/Qmr+OLC3MkSYuHyECUffoZC13MX5hf+JDnIMyQTP2iL149BrN4rC8j9XzG\n",
       "nZetI4egFrkzHy2Mw8e+Y7bTw7BTBKRZGJ8T46lqej772pcvXj2kze1Peomk6LIvZmcQeJ2+OAS1\n",
       "VqiyESuN12I3Gj3k0zVMU1XPeQgQsO6LV49hiGJUt7C0WdVca0narvI6H1AyzKdz5TFb3hmjzLov\n",
       "Xj2GPZTRQ8UXM5nMo7rKF0egIDrSzg/RT7ggqIH4zOtjI3dOdcPUF48eOUf+/rMlR1a401y3k3QE\n",
       "arE2my6BvnO6iCcos0/rs4rvorR3hVndir549uheBXAi5JRmbDNIT7QDUHU9N6vvJCqHCDk88l+4\n",
       "FFYP9fwzM8ClhJFmJUeePd5EfdJacr7qheuqwQNQdQ1D1TTJF5D+asXogRzvy1k58cWkB9/cUmDX\n",
       "HaYegKr1GaHXFBQSVDscPvHFpMd2R0EqJECZnQq76qQDUPW2ILFNmDsrgXsK+anWevbgagd7UTsw\n",
       "ruO+zHIfEX4K1ddUec0u22H5SG3DGz4cBTP7HagfOyvq5DTLq/oSRnW28zxRenLbYA7FqmqENT5D\n",
       "VKREUpkDzE5F+TFUnRKtz5a7QMmCcjKO/jtQNdmK1ncO6BFY9nj7AlR9XSO0v8pHbThLloNbfAXq\n",
       "B+8okU8TWFKr+8f4EVQdbvYXbnhqWsA4/RUoVflNxV+4Bm1WL6jmsYPnX4EKFWzg3S80XNNS+erq\n",
       "Z3fFd0P96B3o9flygVJ9BaqusZTufqVpfi+U0UDaTdvN/0tTTX1i/wdH8iv4Q6a26QAAAABJRU5E\n",
       "rkJggg==\n",
       "\" style=\"display:inline;vertical-align:middle;\" /></a><br>"
      ],
      "text/plain": [
       "<IPython.core.display.HTML object>"
      ]
     },
     "metadata": {},
     "output_type": "display_data"
    }
   ],
   "source": [
    "neg_frac_neg_denominator = Forall(\n",
    "    [x, y],\n",
    "    Equals(frac(x, Neg(y)), Neg(frac(x, y))),\n",
    "    domain=Complex,\n",
    "    conditions=[NotEquals(y, zero)])"
   ]
  },
  {
   "cell_type": "code",
   "execution_count": 76,
   "metadata": {},
   "outputs": [
    {
     "data": {
      "text/html": [
       "<strong id=\"neg_frac_neg_denominator_gen\"><a class=\"ProveItLink\" href=\"proofs/neg_frac_neg_denominator_gen/thm_proof.ipynb\">neg_frac_neg_denominator_gen</a> (conjecture without proof):<br></strong> <a class=\"ProveItLink\" href=\"../__pv_it/theorems/b7bce6b0dd67ba5b12bd5f502abe940acd5633c30/theorem_expr.ipynb\"><img src=\"data:image/png;base64,iVBORw0KGgoAAAANSUhEUgAABgMAAAAzCAMAAACNOYhjAAAAOVBMVEX///8AAAAAAAAAAAAAAAAA\n",
       "AAAAAAAAAAAAAAAAAAAAAAAAAAAAAAAAAAAAAAAAAAAAAAAAAAAAAAACXHtMAAAAEnRSTlMAq1Rm\n",
       "mUTNIjK7EInv3Xbt5cmRiLwgAAAACXBIWXMAAA7EAAAOxAGVKw4bAAAMRklEQVR42u1didqsrA2W\n",
       "RdmUtt7/xVZwA4ZFcc7M+Jn3ac//oSSQZCAQFpumDtKiAQAAAMAtca0XH8YJFLQIuDMEBx2AMf50\n",
       "Ly9kJilMLy6qfUAL+gXcHIiADsAYfxt8kJnkBAI+APDcXkeBDsAYfx14yCXBBwAeDNKBDsAYfx8K\n",
       "5ZLgAwCPBesZKAGM8QAMJJcEHwB4bMvQoAMwxhOAe5lJgg8APBSkBx2AMZ6BjmaS4AMAD0UPa5Bg\n",
       "jIegHVk6CT4A8Ezo8Y4HHKXWSHKlMBgDjHFmIoDSSfABgGdiQHes9TSJ10g3dABjgDFOAPtO1kuC\n",
       "DwA8Eny846FUMs3hydR+/9hxKjDGP5+yjDqZBB8AeCTQLRchTVdJOzAGGOMsxJBMgg8APBI9um3N\n",
       "NRgDjHF60uKvCrtJ8AGAJ4KPd42m2D0df+vCXjDGv4f0dewmwQcAngg93vFYqhTtHDdRYAwwxqW5\n",
       "lpMEHwB4IsQtI9B45JJONW8xGAOMcVLJyQUB8AGAJ6IXd6y1pFo3mBIMxgBjnIQaU8nJB+yTAnwm\n",
       "LDf7gEpiAOCr7Re+fgTGeBbI2CaSkw+gW6I7E5abfUAlMQDwTfARrigDYzxZy05y8gF8HcuzU1Oy\n",
       "2QdUEgMA3wQeMSgBjPHg2ZaTNOsB3bK36dy9F8t6QB0xAPDdiTF8uhaM8SyMKJE0PoAskfxzR94W\n",
       "H1BHDAB8E/fcjQjGAFzwASKRtPuC+sHg5PWt676gKmIA4JtQowQlgDEehb5LJK0PoHYuJs5ZYvUB\n",
       "VcR/AdnNDDF14MJwx6XRbyOtqEiRaY5BpRTnJCiIUGRGodv5QoMZHCAwxocxDImk9QEMrf9U+IAq\n",
       "4jvOWAVFmjk9Sm4RXFnlKKWd6REpHKjwafwv/dSTRkCOnexIM80xqJTinAQFEcrM0Ah9ws8AjPEZ\n",
       "H9AnkvMZMTOKVyfPfG1nxGqIbwOukRCtORiOppEnFuqQD5hdIpkcRrvlkgU3GdC0TkkXSGOD5GP+\n",
       "Os00x6BSinMSFEQ4wMzvdkbAP8Q5HyA7Z7LAwTjvU37BB2B9flF38wE1xLeZvtJly4KSdgZAjvkA\n",
       "ZCMVvf0Jr0ELWnCTIU23T5AvkMZkOuav00xzDCqlOCdBQYQDzCD88EuNDIzx/ViQ6cPJHOUglHCt\n",
       "UaOJ2DZszc9oygfsxO1E2EjayD6I1iZfxFDIPNWETf9z8jqHlfnQsTboIGLP4mP+l4x6PfssCZ9f\n",
       "sKgPCKoxjzyZ/Wn3657ZIS/bC42z2fYCaey3cMgkGaZDWq1FKc6TpUVIGPYIMwVbUb7Q1yfWA8AY\n",
       "H0F+Tdg0k3mwJEnbk/lSOY22/m9+xlI+YCPWzdTw7IkDv2UmX0Tn+fnMmjVINB128vJ9kkN5q0Jn\n",
       "FXsW/42GGeXWzWP2uggpgiqbalBh8J/p/6ThthcaFjfCupRsCRq8VeUCaSxS0hW0XGI6Mwi1dUyK\n",
       "82RpEV7tdZyZhi3pvwMwxmd8QOri0MUHsOUJk9q0L2MUuoY91mcy5QN2YjwN0JC2HbXXZlMvog08\n",
       "n3lq1EI33M2r3agMi0R/2dGNq0HGdrsCiUgi0z4gqMYye5h7ofUjEzY0nZbtlWZfSbhAGhvgiyMm\n",
       "yTDd/nhVa1GK82RpERKGPcTspseS2IW3vws4I/YRBLcy+eeEDdBqBtMt2IH1sM+gzbO2T8aCHOKp\n",
       "TfbtvB+PudtFnRct1oWItMslKgzz8yInI5//9gqfn5XLXYn3H2dnB5YCN5y3PO0D/Gqss4c5GrGe\n",
       "g8cop6EIDd8nISinwyxpBAu3vJZzTFcGr6o+IkXEGmclCGtwuOYOh/GOmxg0LgRR79k53dMYd4Mc\n",
       "VSL5cne0WUozI1o2Ntx9RmnDUz7AfSbHebDO8SCjL/pm/jMNJ3O0p+6dIY+pRc+9kTuTfuHLs3K5\n",
       "S0anpF1ry5qwu/NcBMqwWpo8xn//J2w0wl8TXjqiiIYSNHsE45V0laVIGlOfKGi5xHRhEKj6qBSB\n",
       "NWokCFgdr7nD4Y5frsKl6ay+59W99/2M2L20nLkzzp9Pjsu431woOrVTtT4bOC77gI437ZSZ2H5v\n",
       "7hssB/cFW+YZ9kXsHzczoZgQ2mLFl7esb1TXbFWbqmXzrjXtMJ9n/rZw71mx3DXjVB5Zmts+xGXK\n",
       "LkOrxPmArRrOLXqNNiN2tNU0paEozfxXinSVpUjq/+NyS2o5x9RhEKj6qBShNU5KEGPl2CvDLD8x\n",
       "vsVArrz5rrvnBhu4O/ojsy2cSIY+wLYacw00Q1qadoqXZ1qRpugDWqQJUcsBnrlvsBz8F43ZcD+/\n",
       "4D3z/wkyYzMl6dt5CGTfUt0qvVXNfMNBdFs5VJK+27vX4Fmh3DWjLXNY4hyb35OqE4LyRCxoq4Z3\n",
       "YlopTbeaCpbQUJRmyZ8knWUpkvpyutySWs4xdRgEqj4qRWiNkxLEWDn2yjAL55r3281My6Nlcs/O\n",
       "dIDLxj4QSPR3XznJ4nfEcCZiU7CsTHBYe1J8oLipEzbjH4ojb6eUnAQRJEK6FI5rykV83Xky9fwm\n",
       "shCX1NGcUw2sE9wjR5U2DWXi2gnSTZYC6bGK+FrOMY0wqJSiUoIIK8deOWYe0P0+X3ikxv0tJwLo\n",
       "lt+SvJuSx1Sy5ANaedUHvHBQcl6HjLF+eTbMYdDBhq39tyaFdNN2MdK5cO/Z4XLNHh/SFluTozmn\n",
       "Gl1SiZSlfECMZsmdIF1lKZMeq4ir5RzTGIM6KSoliLFy7JVhFoyYb3cuCR8ZLHe3jKwTOCT2gSGE\n",
       "SCVLPiD9myr4AK77+WxOyKEbx3FIsQ6fmUsBdGs6Wfby1noFst3IQyKFk5pyTZlYlRuTe0ZsqwZu\n",
       "09yVjGsoRrOGfOKkmywHSMsVCbScY/rKoFKKWgkirBx75ZgFP08vOirnSCenE4sh3R8dzHYQJ7lR\n",
       "leBiY0TL7RkqeokGN7cusNwvupzjIKoY8exHZL5inHPsfCP8pPKZvyTsJuGb8tU4vx1b1meVby1F\n",
       "Xq26/KdSyHfqMpHROzGjGmzCEWhqDG1mo+LBbAdxkltiiL9wIfPUnsQmC7LTSqjcFUvlHEeVXceo\n",
       "R9f19F7jnGPnG+EnlU/85QA3CT4A8EhQJwbNcUPNpMSeKDPLzDLal4bZpFIIVY84XwottTec44KW\n",
       "5ZpYZN3un7UTp7hcTo5rIrlFVRujqKdPGOecdQIj/KTy0ZBMgg8APBLu4E7ObZ3b86rUxLe000Tk\n",
       "2MWzmU04dHjJVhispbjlc8/n+ZqXezUXLutxdD7GqyNt15CQy8lxTSSHUb0xIvO4zxvnkHXCsrc7\n",
       "AX5R+X4oyEuCDwA8E4PbsrFZldR2NGobBx6iOf1spuNi+z0HAz1ZblhoPnffpvpPufZV3ml+tzrb\n",
       "Zy8Scm05rorkFFVvjBBfMc4R6+y5PSP8ovKDZXcvCT4A8Ex4zYCawZQwodT5flg8xGMWXjZzhRS7\n",
       "cNdNwC1yY285FrRw0X2km9ndBGmWdZGEXFuOqyLtjKJ3DR8zRl5PHzLOOet4RvhF5Q/+MoGXBB8A\n",
       "eCjcT2Dbtj6YByrTl75km/471FfA4xa7sdfPrTNcBMo0Z2y9B8rI5eS4JtLKKHHX8DFjlLT+EeOc\n",
       "s45nhB9UfuuvCPtJ8AEAmAg0ymz/MC18+R5BormG2Roe2za4x4n38HIsuOtxi93Y6+dObPighsF6\n",
       "406MlAsltLLf5ErI5ea4JNLGKHHXcN1E4K3GiYgSj7yfso5nhH+m/HyVc8oP3JOfBB8AeCo6pzVT\n",
       "qrREdD0Wkpq2B9m862mdpkHDP+LBXZ9b7MZet4knqiSR0nQd18UapTLbhbpc9+nmuCSSwyh61/BB\n",
       "YxS0fs04EVHikfcz1vGM8O+Un61yRvmt72GDJPgAwFPB06EKfGhKzqaGyN52a3/sxl6vwaUjxWoZ\n",
       "FbJStYtyvU2k6F3Ddcb4BeMUrbMb4QeVH/itIAk+APBYaHGpm2GCc07fdc1BcGNvJFxCUz2PXD9Y\n",
       "WrxWriTX20SK3zVcZ4wfME7BOp4Rfk/5QRgxjCqCDwA8FygegGCqG1V5j2M/GryrLsGNvRHE7j9t\n",
       "Br2LwQqNuSzX20SK3zVcY4yfME7BOq4Rfk/5rT9BacP5ygUfQOQE6EcAN0aHb1TZ6AWomOwfZBMM\n",
       "jPEVuEb4OXD/qxJ+0vThut4HGKcFH38A3BriTp+yLZy/0gyMAXgZOfguIEgK04uL/wOjB8xT74Bs\n",
       "igAAAABJRU5ErkJggg==\n",
       "\" style=\"display:inline;vertical-align:middle;\" /></a><br>"
      ],
      "text/plain": [
       "<IPython.core.display.HTML object>"
      ]
     },
     "metadata": {},
     "output_type": "display_data"
    }
   ],
   "source": [
    "neg_frac_neg_denominator_gen = (\n",
    "    Forall((m, n),\n",
    "    Forall((w_1_to_m, x, y, z_1_to_n),\n",
    "    Equals(frac(x, Mult(w_1_to_m, Neg(y), z_1_to_n)), Neg(frac(x, Mult(w_1_to_m, y, z_1_to_n)))),\n",
    "    domain=Complex,\n",
    "    conditions=[NotEquals(y, zero),\n",
    "                ExprRange(k, NotEquals(IndexedVar(w, k), zero), one, m),\n",
    "                ExprRange(k, NotEquals(IndexedVar(z, k), zero), one, n)])))"
   ]
  },
  {
   "cell_type": "code",
   "execution_count": 77,
   "metadata": {},
   "outputs": [],
   "source": [
    "# frac_int_exp = Forall(n, Forall((a, b), \n",
    "#                               Equals(frac(Exp(a, n), Exp(b, n)),\n",
    "#                                      Exp(frac(a, b), n)),\n",
    "#                              conditions = [NotEquals(a, zero), NotEquals(b, zero)]),\n",
    "#                     domain=Integer)"
   ]
  },
  {
   "cell_type": "code",
   "execution_count": 78,
   "metadata": {},
   "outputs": [],
   "source": [
    "# frac_nat_pos_exp = Forall(n, Forall((a, b), \n",
    "#                               Equals(frac(Exp(a, n), Exp(b, n)),\n",
    "#                                      Exp(frac(a, b), n)),\n",
    "#                              conditions = [NotEquals(b, zero)]),\n",
    "#                     domain=NaturalPos)"
   ]
  },
  {
   "cell_type": "code",
   "execution_count": 79,
   "metadata": {},
   "outputs": [
    {
     "name": "stdout",
     "output_type": "stream",
     "text": [
      "These theorems may now be imported from the theory package: proveit.numbers.division\n"
     ]
    }
   ],
   "source": [
    "%end theorems"
   ]
  },
  {
   "cell_type": "code",
   "execution_count": null,
   "metadata": {},
   "outputs": [],
   "source": []
  }
 ],
 "metadata": {
  "kernelspec": {
   "display_name": "Python 3",
   "language": "python",
   "name": "python3"
  }
 },
 "nbformat": 4,
 "nbformat_minor": 0
}