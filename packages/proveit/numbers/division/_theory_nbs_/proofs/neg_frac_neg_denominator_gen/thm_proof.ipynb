{
 "cells": [
  {
   "cell_type": "markdown",
   "metadata": {},
   "source": [
    "Proof of <a class=\"ProveItLink\" href=\"../../../../../_theory_nbs_/theory.ipynb\">proveit</a>.<a class=\"ProveItLink\" href=\"../../../../_theory_nbs_/theory.ipynb\">numbers</a>.<a class=\"ProveItLink\" href=\"../../theory.ipynb\">division</a>.<a class=\"ProveItLink\" href=\"../../theorems.ipynb#neg_frac_neg_denominator_gen\">neg_frac_neg_denominator_gen</a> theorem\n",
    "========"
   ]
  },
  {
   "cell_type": "code",
   "execution_count": 1,
   "metadata": {},
   "outputs": [],
   "source": [
    "import proveit\n",
    "theory = proveit.Theory() # the theorem's theory"
   ]
  },
  {
   "cell_type": "code",
   "execution_count": 2,
   "metadata": {},
   "outputs": [
    {
     "data": {
      "text/html": [
       "With these <a href=\"allowed_presumptions.txt\">allowed</a>/<a href=\"disallowed_presumptions.txt\">disallowed</a> theorem/theory presumptions (e.g., to avoid circular dependencies), we begin our proof of<br><strong id=\"neg_frac_neg_denominator_gen\">neg_frac_neg_denominator_gen:</strong> <a class=\"ProveItLink\" href=\"../../../__pv_it/theorems/3c9d7cb41eaccccd14f6401cded038e73b6d6a8e0/expr.ipynb\"><img src=\"data:image/png;base64,iVBORw0KGgoAAAANSUhEUgAABgMAAAAzCAMAAACNOYhjAAAAOVBMVEX///8AAAAAAAAAAAAAAAAA\n",
       "AAAAAAAAAAAAAAAAAAAAAAAAAAAAAAAAAAAAAAAAAAAAAAAAAAAAAAACXHtMAAAAEnRSTlMAq1Rm\n",
       "mUTNIjK7EInv3Xbt5cmRiLwgAAAACXBIWXMAAA7EAAAOxAGVKw4bAAAMRklEQVR42u1didqsrA2W\n",
       "RdmUtt7/xVZwA4ZFcc7M+Jn3ac//oSSQZCAQFpumDtKiAQAAAMAtca0XH8YJFLQIuDMEBx2AMf50\n",
       "Ly9kJilMLy6qfUAL+gXcHIiADsAYfxt8kJnkBAI+APDcXkeBDsAYfx14yCXBBwAeDNKBDsAYfx8K\n",
       "5ZLgAwCPBesZKAGM8QAMJJcEHwB4bMvQoAMwxhOAe5lJgg8APBSkBx2AMZ6BjmaS4AMAD0UPa5Bg\n",
       "jIegHVk6CT4A8Ezo8Y4HHKXWSHKlMBgDjHFmIoDSSfABgGdiQHes9TSJ10g3dABjgDFOAPtO1kuC\n",
       "DwA8Eny846FUMs3hydR+/9hxKjDGP5+yjDqZBB8AeCTQLRchTVdJOzAGGOMsxJBMgg8APBI9um3N\n",
       "NRgDjHF60uKvCrtJ8AGAJ4KPd42m2D0df+vCXjDGv4f0dewmwQcAngg93vFYqhTtHDdRYAwwxqW5\n",
       "lpMEHwB4IsQtI9B45JJONW8xGAOMcVLJyQUB8AGAJ6IXd6y1pFo3mBIMxgBjnIQaU8nJB+yTAnwm\n",
       "LDf7gEpiAOCr7Re+fgTGeBbI2CaSkw+gW6I7E5abfUAlMQDwTfARrigDYzxZy05y8gF8HcuzU1Oy\n",
       "2QdUEgMA3wQeMSgBjPHg2ZaTNOsB3bK36dy9F8t6QB0xAPDdiTF8uhaM8SyMKJE0PoAskfxzR94W\n",
       "H1BHDAB8E/fcjQjGAFzwASKRtPuC+sHg5PWt676gKmIA4JtQowQlgDEehb5LJK0PoHYuJs5ZYvUB\n",
       "VcR/AdnNDDF14MJwx6XRbyOtqEiRaY5BpRTnJCiIUGRGodv5QoMZHCAwxocxDImk9QEMrf9U+IAq\n",
       "4jvOWAVFmjk9Sm4RXFnlKKWd6REpHKjwafwv/dSTRkCOnexIM80xqJTinAQFEcrM0Ah9ws8AjPEZ\n",
       "H9AnkvMZMTOKVyfPfG1nxGqIbwOukRCtORiOppEnFuqQD5hdIpkcRrvlkgU3GdC0TkkXSGOD5GP+\n",
       "Os00x6BSinMSFEQ4wMzvdkbAP8Q5HyA7Z7LAwTjvU37BB2B9flF38wE1xLeZvtJly4KSdgZAjvkA\n",
       "ZCMVvf0Jr0ELWnCTIU23T5AvkMZkOuav00xzDCqlOCdBQYQDzCD88EuNDIzx/ViQ6cPJHOUglHCt\n",
       "UaOJ2DZszc9oygfsxO1E2EjayD6I1iZfxFDIPNWETf9z8jqHlfnQsTboIGLP4mP+l4x6PfssCZ9f\n",
       "sKgPCKoxjzyZ/Wn3657ZIS/bC42z2fYCaey3cMgkGaZDWq1FKc6TpUVIGPYIMwVbUb7Q1yfWA8AY\n",
       "H0F+Tdg0k3mwJEnbk/lSOY22/m9+xlI+YCPWzdTw7IkDv2UmX0Tn+fnMmjVINB128vJ9kkN5q0Jn\n",
       "FXsW/42GGeXWzWP2uggpgiqbalBh8J/p/6ThthcaFjfCupRsCRq8VeUCaSxS0hW0XGI6Mwi1dUyK\n",
       "82RpEV7tdZyZhi3pvwMwxmd8QOri0MUHsOUJk9q0L2MUuoY91mcy5QN2YjwN0JC2HbXXZlMvog08\n",
       "n3lq1EI33M2r3agMi0R/2dGNq0HGdrsCiUgi0z4gqMYye5h7ofUjEzY0nZbtlWZfSbhAGhvgiyMm\n",
       "yTDd/nhVa1GK82RpERKGPcTspseS2IW3vws4I/YRBLcy+eeEDdBqBtMt2IH1sM+gzbO2T8aCHOKp\n",
       "TfbtvB+PudtFnRct1oWItMslKgzz8yInI5//9gqfn5XLXYn3H2dnB5YCN5y3PO0D/Gqss4c5GrGe\n",
       "g8cop6EIDd8nISinwyxpBAu3vJZzTFcGr6o+IkXEGmclCGtwuOYOh/GOmxg0LgRR79k53dMYd4Mc\n",
       "VSL5cne0WUozI1o2Ntx9RmnDUz7AfSbHebDO8SCjL/pm/jMNJ3O0p+6dIY+pRc+9kTuTfuHLs3K5\n",
       "S0anpF1ry5qwu/NcBMqwWpo8xn//J2w0wl8TXjqiiIYSNHsE45V0laVIGlOfKGi5xHRhEKj6qBSB\n",
       "NWokCFgdr7nD4Y5frsKl6ay+59W99/2M2L20nLkzzp9Pjsu431woOrVTtT4bOC77gI437ZSZ2H5v\n",
       "7hssB/cFW+YZ9kXsHzczoZgQ2mLFl7esb1TXbFWbqmXzrjXtMJ9n/rZw71mx3DXjVB5Zmts+xGXK\n",
       "LkOrxPmArRrOLXqNNiN2tNU0paEozfxXinSVpUjq/+NyS2o5x9RhEKj6qBShNU5KEGPl2CvDLD8x\n",
       "vsVArrz5rrvnBhu4O/ojsy2cSIY+wLYacw00Q1qadoqXZ1qRpugDWqQJUcsBnrlvsBz8F43ZcD+/\n",
       "4D3z/wkyYzMl6dt5CGTfUt0qvVXNfMNBdFs5VJK+27vX4Fmh3DWjLXNY4hyb35OqE4LyRCxoq4Z3\n",
       "YlopTbeaCpbQUJRmyZ8knWUpkvpyutySWs4xdRgEqj4qRWiNkxLEWDn2yjAL55r3281My6Nlcs/O\n",
       "dIDLxj4QSPR3XznJ4nfEcCZiU7CsTHBYe1J8oLipEzbjH4ojb6eUnAQRJEK6FI5rykV83Xky9fwm\n",
       "shCX1NGcUw2sE9wjR5U2DWXi2gnSTZYC6bGK+FrOMY0wqJSiUoIIK8deOWYe0P0+X3ikxv0tJwLo\n",
       "lt+SvJuSx1Sy5ANaedUHvHBQcl6HjLF+eTbMYdDBhq39tyaFdNN2MdK5cO/Z4XLNHh/SFluTozmn\n",
       "Gl1SiZSlfECMZsmdIF1lKZMeq4ir5RzTGIM6KSoliLFy7JVhFoyYb3cuCR8ZLHe3jKwTOCT2gSGE\n",
       "SCVLPiD9myr4AK77+WxOyKEbx3FIsQ6fmUsBdGs6Wfby1noFst3IQyKFk5pyTZlYlRuTe0ZsqwZu\n",
       "09yVjGsoRrOGfOKkmywHSMsVCbScY/rKoFKKWgkirBx75ZgFP08vOirnSCenE4sh3R8dzHYQJ7lR\n",
       "leBiY0TL7RkqeokGN7cusNwvupzjIKoY8exHZL5inHPsfCP8pPKZvyTsJuGb8tU4vx1b1meVby1F\n",
       "Xq26/KdSyHfqMpHROzGjGmzCEWhqDG1mo+LBbAdxkltiiL9wIfPUnsQmC7LTSqjcFUvlHEeVXceo\n",
       "R9f19F7jnGPnG+EnlU/85QA3CT4A8EhQJwbNcUPNpMSeKDPLzDLal4bZpFIIVY84XwottTec44KW\n",
       "5ZpYZN3un7UTp7hcTo5rIrlFVRujqKdPGOecdQIj/KTy0ZBMgg8APBLu4E7ObZ3b86rUxLe000Tk\n",
       "2MWzmU04dHjJVhispbjlc8/n+ZqXezUXLutxdD7GqyNt15CQy8lxTSSHUb0xIvO4zxvnkHXCsrc7\n",
       "AX5R+X4oyEuCDwA8E4PbsrFZldR2NGobBx6iOf1spuNi+z0HAz1ZblhoPnffpvpPufZV3ml+tzrb\n",
       "Zy8Scm05rorkFFVvjBBfMc4R6+y5PSP8ovKDZXcvCT4A8Ex4zYCawZQwodT5flg8xGMWXjZzhRS7\n",
       "cNdNwC1yY285FrRw0X2km9ndBGmWdZGEXFuOqyLtjKJ3DR8zRl5PHzLOOet4RvhF5Q/+MoGXBB8A\n",
       "eCjcT2Dbtj6YByrTl75km/471FfA4xa7sdfPrTNcBMo0Z2y9B8rI5eS4JtLKKHHX8DFjlLT+EeOc\n",
       "s45nhB9UfuuvCPtJ8AEAmAg0ymz/MC18+R5BormG2Roe2za4x4n38HIsuOtxi93Y6+dObPighsF6\n",
       "406MlAsltLLf5ErI5ea4JNLGKHHXcN1E4K3GiYgSj7yfso5nhH+m/HyVc8oP3JOfBB8AeCo6pzVT\n",
       "qrREdD0Wkpq2B9m862mdpkHDP+LBXZ9b7MZet4knqiSR0nQd18UapTLbhbpc9+nmuCSSwyh61/BB\n",
       "YxS0fs04EVHikfcz1vGM8O+Un61yRvmt72GDJPgAwFPB06EKfGhKzqaGyN52a3/sxl6vwaUjxWoZ\n",
       "FbJStYtyvU2k6F3Ddcb4BeMUrbMb4QeVH/itIAk+APBYaHGpm2GCc07fdc1BcGNvJFxCUz2PXD9Y\n",
       "WrxWriTX20SK3zVcZ4wfME7BOp4Rfk/5QRgxjCqCDwA8FygegGCqG1V5j2M/GryrLsGNvRHE7j9t\n",
       "Br2LwQqNuSzX20SK3zVcY4yfME7BOq4Rfk/5rT9BacP5ygUfQOQE6EcAN0aHb1TZ6AWomOwfZBMM\n",
       "jPEVuEb4OXD/qxJ+0vThut4HGKcFH38A3BriTp+yLZy/0gyMAXgZOfguIEgK04uL/wOjB8xT74Bs\n",
       "igAAAABJRU5ErkJggg==\n",
       "\" style=\"display:inline;vertical-align:middle;\" /></a><br>(see <a class=\"ProveItLink\" href=\"../../../__pv_it/theorems/b7bce6b0dd67ba5b12bd5f502abe940acd5633c30/dependencies.ipynb\">dependencies</a>)<br>"
      ],
      "text/plain": [
       "<IPython.core.display.HTML object>"
      ]
     },
     "metadata": {},
     "output_type": "display_data"
    }
   ],
   "source": [
    "%proving neg_frac_neg_denominator_gen"
   ]
  },
  {
   "cell_type": "code",
   "execution_count": null,
   "metadata": {},
   "outputs": [],
   "source": []
  }
 ],
 "metadata": {
  "kernelspec": {
   "display_name": "Python 3",
   "language": "python",
   "name": "python3"
  }
 },
 "nbformat": 4,
 "nbformat_minor": 0
}