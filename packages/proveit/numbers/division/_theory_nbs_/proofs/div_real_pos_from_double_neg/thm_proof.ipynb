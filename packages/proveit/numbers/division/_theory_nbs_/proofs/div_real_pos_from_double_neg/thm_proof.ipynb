{
 "cells": [
  {
   "cell_type": "markdown",
   "metadata": {},
   "source": [
    "Proof of <a class=\"ProveItLink\" href=\"../../../../../_theory_nbs_/theory.ipynb\">proveit</a>.<a class=\"ProveItLink\" href=\"../../../../_theory_nbs_/theory.ipynb\">numbers</a>.<a class=\"ProveItLink\" href=\"../../theory.ipynb\">division</a>.<a class=\"ProveItLink\" href=\"../../theorems.ipynb#div_real_pos_from_double_neg\">div_real_pos_from_double_neg</a> theorem\n",
    "========"
   ]
  },
  {
   "cell_type": "code",
   "execution_count": 1,
   "metadata": {},
   "outputs": [],
   "source": [
    "import proveit\n",
    "theory = proveit.Theory() # the theorem's theory"
   ]
  },
  {
   "cell_type": "code",
   "execution_count": 2,
   "metadata": {},
   "outputs": [
    {
     "data": {
      "text/html": [
       "With these <a href=\"allowed_presumptions.txt\">allowed</a>/<a href=\"disallowed_presumptions.txt\">disallowed</a> theorem/theory presumptions (e.g., to avoid circular dependencies), we begin our proof of<br><strong id=\"div_real_pos_from_double_neg\">div_real_pos_from_double_neg:</strong> <a class=\"ProveItLink\" href=\"../../../__pv_it/theorems/86692813ea880abac9bc73e22cfc9987e69c8f5e0/expr.ipynb\"><img src=\"data:image/png;base64,iVBORw0KGgoAAAANSUhEUgAAAKoAAAAmBAMAAACmKh0SAAAAMFBMVEX///8AAAAAAAAAAAAAAAAA\n",
       "AAAAAAAAAAAAAAAAAAAAAAAAAAAAAAAAAAAAAAAAAAAv3aB7AAAAD3RSTlMAq1RmmUTNIjK7EInv\n",
       "3XZ/CtNrAAAACXBIWXMAAA7EAAAOxAGVKw4bAAADLklEQVRIx5WXX0gUQRzHf+fduX/unDt6CEKI\n",
       "haCerIVAUEK3PMOg8krooR686CEKtBMiiqSup4gKlyJq1XSjCEzDo0ApKOwPmEXQU1FxcL74YCBi\n",
       "fzG6mtk9b/eGbmdnYGd3dn/z2d/85vub2QXgKNt82MhHga+E4rjqeXrG2+qyyUetx0d4Goa9uwXj\n",
       "XFDxNa7GVNjFsLvCRa3O4qod4DPDbowrBJuI9QzI3/2E33chPsoFCC5W5lm18JMnrMuEugSB1IZK\n",
       "JpJ9GuCgBnRSD0GdpjGoWzioMZXUt76cX5uhBDcz3DWjuqhnFbBCu84HtS9d6YneA3saTIdao0Er\n",
       "OR/2QW2u+EQ/DZIYhx3GoGEQn0MpOEdmTfdBXe1FDaVTjq9oEaqx6xHFB/UZfQPdzL13qLpDrfoF\n",
       "QexztZ/Z+k21w92m42vgXtyhiksAb3O5N36oX6n2CdMVgQvr0w5VxqZtAP0+oMISdcOZYb2368+8\n",
       "k1sABbxgguAncUWamnLN1ua7dLAkM5IsdT1SvKib2NpNhdFaVGJ/SbFMceRyH4tU6bbqtv2GZyzv\n",
       "mqxaYj9rJFEEJrOevsq6y1dR66eokGpy2q/wkcAZiRA05oVEItFaMQLv3HptO+V+hOMKD8j+Ndo0\n",
       "SboWZk1EBoOp8+WLiEBrYMFNHUEqJZdePFnyB5GsiugT0kYshUeEIbV8xAV6ayiljn4cq/4aJZcA\n",
       "HnFIE6eI4NRgqsOihgboLH5Jb9Fr9pfWrOtgHHPyU1zZLaJJROQVzYTi9YZhKAhF9lIUWx7yYCme\n",
       "4UfFjKVL1XLxYjwtNeJciUFUuWj5isIHqE1tZ3HgGlPakZUXR9N9HeYo1JgNWL9WXOEx1b3ZfkuM\n",
       "vRJJK1kVbtn4EC4p4u48CDdwe99c9s72cttxG9dp+tw1SsXuN2oYyf95YPv+hJ3cnWW7RtjTjeCU\n",
       "dTq4sIpFnSjv5/2xZ+lF/mGOpxnU5zxfGRNF1UTz3nZoiocazdg7XSzLsFN4qEGyotZkoZPRa47v\n",
       "+/WQLdd2b20J03zU+3iaYhn5BcNK4aMKeMkMqBIjZa9y/hfASays2hbG3wbJoH+oycTirAxdBwAA\n",
       "AABJRU5ErkJggg==\n",
       "\" style=\"display:inline;vertical-align:middle;\" /></a><br>(see <a class=\"ProveItLink\" href=\"../../../__pv_it/theorems/74ef6555e65780703d7793a1cccdc0c64e77e5ba0/dependencies.ipynb\">dependencies</a>)<br>"
      ],
      "text/plain": [
       "<IPython.core.display.HTML object>"
      ]
     },
     "metadata": {},
     "output_type": "display_data"
    },
    {
     "name": "stdout",
     "output_type": "stream",
     "text": [
      "div_real_pos_from_double_neg may now be readily provable (assuming required theorems are usable).  Simply execute \"%qed\".\n"
     ]
    }
   ],
   "source": [
    "%proving div_real_pos_from_double_neg"
   ]
  },
  {
   "cell_type": "code",
   "execution_count": null,
   "metadata": {},
   "outputs": [],
   "source": []
  }
 ],
 "metadata": {
  "kernelspec": {
   "display_name": "Python 3",
   "language": "python",
   "name": "python3"
  }
 },
 "nbformat": 4,
 "nbformat_minor": 0
}