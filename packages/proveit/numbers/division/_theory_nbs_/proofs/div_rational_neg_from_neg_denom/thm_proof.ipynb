{
 "cells": [
  {
   "cell_type": "markdown",
   "metadata": {},
   "source": [
    "Proof of <a class=\"ProveItLink\" href=\"../../../../../_theory_nbs_/theory.ipynb\">proveit</a>.<a class=\"ProveItLink\" href=\"../../../../_theory_nbs_/theory.ipynb\">numbers</a>.<a class=\"ProveItLink\" href=\"../../theory.ipynb\">division</a>.<a class=\"ProveItLink\" href=\"../../theorems.ipynb#div_rational_neg_from_neg_denom\">div_rational_neg_from_neg_denom</a> theorem\n",
    "========"
   ]
  },
  {
   "cell_type": "code",
   "execution_count": 1,
   "metadata": {},
   "outputs": [],
   "source": [
    "import proveit\n",
    "theory = proveit.Theory() # the theorem's theory"
   ]
  },
  {
   "cell_type": "code",
   "execution_count": 2,
   "metadata": {},
   "outputs": [
    {
     "data": {
      "text/html": [
       "With these <a href=\"allowed_presumptions.txt\">allowed</a>/<a href=\"disallowed_presumptions.txt\">disallowed</a> theorem/theory presumptions (e.g., to avoid circular dependencies), we begin our proof of<br><strong id=\"div_rational_neg_from_neg_denom\">div_rational_neg_from_neg_denom:</strong> <a class=\"ProveItLink\" href=\"../../../__pv_it/theorems/dae58fe6c632d6bca31481a62e08b649f7e23be40/expr.ipynb\"><img src=\"data:image/png;base64,iVBORw0KGgoAAAANSUhEUgAAAM4AAAAmBAMAAAB+JrkYAAAAMFBMVEX///8AAAAAAAAAAAAAAAAA\n",
       "AAAAAAAAAAAAAAAAAAAAAAAAAAAAAAAAAAAAAAAAAAAv3aB7AAAAD3RSTlMAq1RmmUTNIjK7EInv\n",
       "3XZ/CtNrAAAACXBIWXMAAA7EAAAOxAGVKw4bAAADeUlEQVRIx6VXTWgTQRR+TTbZZJOu9RdKoSz2\n",
       "4E1DhaJVasRUPNVAQASFRhHF6iEV8aQ0IoLS2gZbwVSE7bGkkqjFVrwUPViQiodCQQlsLv6dQqxY\n",
       "KlRnJrub2c0mo5kHmd28fdlv5r3vfTMB4DFB+YcgaQB47TD6iG1ftPpR91ROGHccDacT/nVGWAsn\n",
       "zgiaqPQGhA+MuPucOJdwiYrQnGPEzfAlzoXzFUxBNsqiC1/iyDqyGhxiBYq/uHDGcDqyCuxwJRiR\n",
       "j7hwWvHg11zLAivyIBfOD9KF7fODX6ta82V6gl7jkAKkRB2NwPhqZ72wCDfa6EqGoRdfLzTUpcVa\n",
       "TwIHQuDpTcHdNDK8LiEONzEfUo3gNMVrPRn2oiHVU3HIRfAi0gSURnCCVV3xLZ8n2JNTaJj3Up22\n",
       "Bu4QgLchGmyyy8CJ7zoLUqNo3CkkK6UsASzl8+8awwnZutHQf18uhsaYu5IlCVHzGFqnw1tyTJwh\n",
       "W7a9BpM9WicaR13UPDYABkF0kp8wWw7sOObCcrhPYjIle79RQ6sBiw5mJjYnTBzfRZubsn7ysz/Y\n",
       "CMNH8sgIc/X6UCq9irigmRPxFdJR8RUEOivrabO566xn2rybHLTxDeNA3CR6BDEkcAWkvYnZyHKE\n",
       "THfR4r4aiUSitXCazbtTpH/oaaH6wDPMk0zPHMi4cHd2AWiambeNgmpx0zyw8U02HwtYD7anbFJ4\n",
       "HdFAWkFqRRbeHaJx5I9y2OKmLGs/fpw1754ifdtGU76E9QOlRQj7FgCznrxMyxk4/pA7bnHTemCn\n",
       "5NQDo/Li8fOrSVpyfxq/icot0IVUTzmpJ6j8zmBSaLG4aR6XEzO9VKnL47yueU3JnqodnuQg4e9W\n",
       "h4nWkoKbPQ9BxcFdrsJC+XrOqbna5S23KQE3TkTBxFhM9auExBAwtqMMNKv7ocpt7Av6JEuOZ5TW\n",
       "y+OVb35DCTxHdj8H8SF5+fIZI7Ujiq9Pq3YbolUG8Kz/txRm0mnUHXO3TIfi7NZtwpqTOtbvdFAR\n",
       "Ovr0XvSojm7r6cLbXmBuXy8cvaP7jAo4u80GIrjZAYl5PHvNdd4JEBLvUeE9I1Be4DtfY/GDo0T1\n",
       "6+/wCh9OFx4+gafEiPvM+X/BGyLtIzCYLb7lxJFW0LAGM6H6YU840wZwDRF/q95HtW2c+/+piCRi\n",
       "apaxHAnT/y900PNk1uWGWwAAAABJRU5ErkJggg==\n",
       "\" style=\"display:inline;vertical-align:middle;\" /></a><br>(see <a class=\"ProveItLink\" href=\"../../../__pv_it/theorems/eb604946efc083d470ff949d138642e62202c1be0/dependencies.ipynb\">dependencies</a>)<br>"
      ],
      "text/plain": [
       "<IPython.core.display.HTML object>"
      ]
     },
     "metadata": {},
     "output_type": "display_data"
    },
    {
     "name": "stdout",
     "output_type": "stream",
     "text": [
      "div_rational_neg_from_neg_denom may now be readily provable (assuming required theorems are usable).  Simply execute \"%qed\".\n"
     ]
    }
   ],
   "source": [
    "%proving div_rational_neg_from_neg_denom"
   ]
  },
  {
   "cell_type": "code",
   "execution_count": null,
   "metadata": {},
   "outputs": [],
   "source": []
  }
 ],
 "metadata": {
  "kernelspec": {
   "display_name": "Python 3",
   "language": "python",
   "name": "python3"
  }
 },
 "nbformat": 4,
 "nbformat_minor": 0
}