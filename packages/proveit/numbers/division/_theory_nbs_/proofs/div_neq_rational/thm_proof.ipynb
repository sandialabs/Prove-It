{
 "cells": [
  {
   "cell_type": "markdown",
   "metadata": {},
   "source": [
    "Proof of <a class=\"ProveItLink\" href=\"../../../../../_theory_nbs_/theory.ipynb\">proveit</a>.<a class=\"ProveItLink\" href=\"../../../../_theory_nbs_/theory.ipynb\">numbers</a>.<a class=\"ProveItLink\" href=\"../../theory.ipynb\">division</a>.<a class=\"ProveItLink\" href=\"../../theorems.ipynb#div_neq_rational\">div_neq_rational</a> theorem\n",
    "========"
   ]
  },
  {
   "cell_type": "code",
   "execution_count": 1,
   "metadata": {},
   "outputs": [],
   "source": [
    "import proveit\n",
    "theory = proveit.Theory() # the theorem's theory"
   ]
  },
  {
   "cell_type": "code",
   "execution_count": 2,
   "metadata": {},
   "outputs": [
    {
     "data": {
      "text/html": [
       "With these <a href=\"allowed_presumptions.txt\">allowed</a>/<a href=\"disallowed_presumptions.txt\">disallowed</a> theorem/theory presumptions (e.g., to avoid circular dependencies), we begin our proof of<br><strong id=\"div_neq_rational\">div_neq_rational:</strong> <a class=\"ProveItLink\" href=\"../../../__pv_it/theorems/e71c00ffb58fc4a4a800563a095b1b1f5922176b0/expr.ipynb\"><img src=\"data:image/png;base64,iVBORw0KGgoAAAANSUhEUgAAAPoAAAAmCAMAAADaznZbAAAARVBMVEX///8AAAAAAAAAAAAAAAAA\n",
       "AAAAAAAAAAAAAAAAAAAAAAAAAAAAAAAAAAAAAAAAAAAAAAAAAAAAAAAAAAAAAAAAAAAAAAAeYafp\n",
       "AAAAFnRSTlMAq1RmmUTNIjK7EInv3Xbt5cnn9enzas/lfgAAAAlwSFlzAAAOxAAADsQBlSsOGwAA\n",
       "BCBJREFUaN7VWYdy5CAMpZpqXff/f+ohbAy4rJW7ZGZhks14IwmE2pPM2HBLif9i95Nngy7FNxUA\n",
       "uLchEC7Cg5L4Z+W086C6y6lcAWPAgan5mScwEZF12UTwITW3cTOZNKiLZ1w+84j1grjbvnBiRNWn\n",
       "UPRBw0+06GYsAts+8hdxQJcXS3voXZenpZHNLvaYL0Zac+gUSk7vKQbM7gFxfzbIOVik70b3TjMe\n",
       "cwojLMfLR/kijKb6nqiS51uvkuqalLHQwfXSJEQZR1O9nt4rACaUvNNcdXHgeQDVOrlZEmP1AiHf\n",
       "39+pIWrdubh35WBOsEDpvW68fegXTEIIbnvU2kdxTHy2mN249w/1iWr0vnjNqQjyPrEB3mJB8+H9\n",
       "IU6klmPXO7CQUJ17T5PJi7YQn95ec7YQS5LmhLSBlo4zrjhApVuIiZiQtXyWpXJKcJ8Ea9UDmqYg\n",
       "7puVK9LLvbMR55+/8PPB8guCYMPLxz/0/cEpzttLfpUsgyY0mJkmBAg3TvopRi/BgwannKo5BHCX\n",
       "kCQzAQWEFli8UJ1yvSuNTCbR7tyE1EMuzTqSHR3vknTJVAI+mOSU2spmMKi0l9JQVOcEa6w0EeWf\n",
       "8AvR6jR8sqqe9JZQHFhC2FkBlEk/22UCGgR/oWQba0X+JzC4VL3jZzoc5FzsuNKY3KVE8VHVc6z/\n",
       "/rNGPCXWsaRvxd3PpkGLYLBfmMQ232LpQDZi07SjK79ewo3qO79yuL6lX9nI6XdsadYGbZanNEfJ\n",
       "8MSp4ybLFKygFKunYumfDtjm28aLOWmTNNP7AYrK0LSOjeodf/GVKudix41mVf00iPALYTQhFEnz\n",
       "vVrw7XxR46yvvZsmbhAKcsDBYDaQE0w/OHzLX32lyDnvWGhWhz+7d1SfZnS76MO1ppM6WQcfaI/9\n",
       "8LNe84+tJn5Kcxs/OvP3Hy47c5XT79jRXKc5Nj23GYKIzPpJF14rBp6WPiUfDIPc8iiWn9KRbSov\n",
       "Pfqx2WChbXfr6Sp/31AUOVnqvmNHA3CJRlX8LKOzMJ9KohQQJJormVOBDgB+e8LBgJvWHs/W/Dyr\n",
       "idtrSLPz92CxyMlS9x17mgRplL9oWp8Uk1Q47l4UAHF88tk1C4ZzGdJkn7dd3r32SVGTQSNH3NHc\n",
       "Au+nwk5+sfKiWGh/fEqZSV8BHyVkMu+D6g1jldPvQUFV7inPWaLm+sW8R56etIRwg2qlfbC6aNJp\n",
       "lSNvaW5PFTvMG8AQJ/FH2vAVLfqXTrl8U5J0xMhZSB5+oo3jvXqq1vIxN9wz6caOtDDcLJpVQMBU\n",
       "rrMzKaOfaOOI7xv3d8zRHQLg1X0daGFiI65JNnieNp0+0ppohlQdW729xPOJCcocrqP185Cv19Fm\n",
       "K1ZNPSETs2KURq2ndZKNukzOdJ5DsIYDBcR0tL6E/F+N2CYOIhuowAAAAABJRU5ErkJggg==\n",
       "\" style=\"display:inline;vertical-align:middle;\" /></a><br>(see <a class=\"ProveItLink\" href=\"../../../__pv_it/theorems/cd13ebc6b61d3d36f47e3a3718a64cd30d21cf870/dependencies.ipynb\">dependencies</a>)<br>"
      ],
      "text/plain": [
       "<IPython.core.display.HTML object>"
      ]
     },
     "metadata": {},
     "output_type": "display_data"
    }
   ],
   "source": [
    "%proving div_neq_rational"
   ]
  },
  {
   "cell_type": "code",
   "execution_count": null,
   "metadata": {},
   "outputs": [],
   "source": []
  }
 ],
 "metadata": {
  "kernelspec": {
   "display_name": "Python 3",
   "language": "python",
   "name": "python3"
  }
 },
 "nbformat": 4,
 "nbformat_minor": 0
}