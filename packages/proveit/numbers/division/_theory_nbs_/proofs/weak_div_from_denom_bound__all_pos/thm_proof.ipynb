{
 "cells": [
  {
   "cell_type": "markdown",
   "metadata": {},
   "source": [
    "Proof of <a class=\"ProveItLink\" href=\"../../../../../_theory_nbs_/theory.ipynb\">proveit</a>.<a class=\"ProveItLink\" href=\"../../../../_theory_nbs_/theory.ipynb\">numbers</a>.<a class=\"ProveItLink\" href=\"../../theory.ipynb\">division</a>.<a class=\"ProveItLink\" href=\"../../theorems.ipynb#weak_div_from_denom_bound__all_pos\">weak_div_from_denom_bound__all_pos</a> theorem\n",
    "========"
   ]
  },
  {
   "cell_type": "code",
   "execution_count": 1,
   "metadata": {},
   "outputs": [],
   "source": [
    "import proveit\n",
    "theory = proveit.Theory() # the theorem's theory"
   ]
  },
  {
   "cell_type": "code",
   "execution_count": 2,
   "metadata": {},
   "outputs": [
    {
     "data": {
      "text/html": [
       "With these <a href=\"allowed_presumptions.txt\">allowed</a>/<a href=\"disallowed_presumptions.txt\">disallowed</a> theorem/theory presumptions (e.g., to avoid circular dependencies), we begin our proof of<br><strong id=\"weak_div_from_denom_bound__all_pos\">weak_div_from_denom_bound__all_pos:</strong> <a class=\"ProveItLink\" href=\"../../../__pv_it/theorems/31fa40c4a9667652e6853853dd25ac54eb9893fa0/expr.ipynb\"><img src=\"data:image/png;base64,iVBORw0KGgoAAAANSUhEUgAAATcAAAAzBAMAAAAA6lKjAAAAMFBMVEX///8AAAAAAAAAAAAAAAAA\n",
       "AAAAAAAAAAAAAAAAAAAAAAAAAAAAAAAAAAAAAAAAAAAv3aB7AAAAD3RSTlMAq1RmmUTNIjK7EInv\n",
       "3XZ/CtNrAAAACXBIWXMAAA7EAAAOxAGVKw4bAAAE/klEQVRYw8WZXWgcVRSAz87+zM/uThYFpanG\n",
       "hZaCD20XHyoWTVK6bcTadjFQkIpZiiDkQSavUuLWB18ayapo3YphKkVxg91YJZWA7VbBlhbLghbz\n",
       "YHAC0WrFuNZI6gpZ79z5n7mZvWrMvQ+zkzPnzHw5955zz70XgK5Vq1VY1yZVqyqt7nftpTX6qlgK\n",
       "hzppqrXbZdpXXl8zl9zZ4fnLlsOi6w8XmeqgwDXYwe3oqPEhMzj+UkeVdI4VXFrrqMJdYQX3MIXO\n",
       "M6zgrhqdu/EGwYOWdEhhAye38M9TitgKPrSkiQwbuDT+rvQ5xBrB9GtJuRYbuHE8PcSakA6mO1sq\n",
       "rbCBuwdfU2WoFQLPHOnbbOAu4mtNg77gM0fap7CAE343MLJwF6cE4GxpLccCTl42Kg6N+zoWLFds\n",
       "aSrDAk6sG3HZ88nIj8FotaViw4TDkJto4Cg1w1qKzhnJpgm3R/99lgaOUjOs1fp9gndzJLXoHybc\n",
       "MX3eKNPAUWqGpjn/pCV9SioEhBUTLoEKz2SWBo5SM6xtD5r/MkMo1ZdMuChybIIqICg1w1ofYf3w\n",
       "CIHuNytav5ybu0oXrXSaYe1XhSDcMhAQ/WnBPQpwkg6OTjOsXSCu9g51+yVfWHAjwGcCnb5Pf8vo\n",
       "NsUDR9J0wt+avsPgDpLhAv/ynAUnqkn3JLx1etdzKCo/RlzDUPTA+TQ9BjaU6C25T3j+vA9fu9p6\n",
       "a9rderfx65J+a8Fxmj3KhflKQU7COVS4SAsFqQ5XPHAuzaABEY6bAAKcLyAeC8psOCj2WrI8CiZZ\n",
       "hp167uGv8w2Y9U5fjmbQgAQXfa1zt5JSidOtcHYYXSZ7z4Gsp2v0rZsojwv7VOS5S144rLk4sIC6\n",
       "PD4PEZdBMr8/v8cFJy+MDoD8qn77dAbskXpBoUrCTkDAUWQrfSMsw/v4tUl+IgdxfdOg6BtzWFNW\n",
       "NiRQKj3TpY65DXyeuxEpHxE+w5/XWkLdTiUlqunLKPswXARZxPrRGwbxt2JvlUG6Q78d3eSNVqwZ\n",
       "hQkB3T6/FX5yGfjhcqJWgvv1HuPfacjlsCRMakuekilVkDOwo1KpZGU5+UR4yWTUZBuhx2PgG3Nd\n",
       "+v/15AzeHInYXbe9QLf99ZcHrqaIO9Xj2BFy/LDK5/PmEArCCXXeEFwGx8DJcybcGOh0x1DyTxdS\n",
       "tr/Gc3QF84rXc8r4oCqqeAjBTH+I544mizGYBJiNN4FkgOH4+jRg2Ug3pEtD9sMu/5s/mNPbrH9D\n",
       "4pYHLr5720fAv6mn6x+mTu8NgYt9f/4mjGVh80NFooHhuQOHF42soQC3+w1n2Vr8B9W8r0yfrFQK\n",
       "dGV6VlLEHNFA9Fu+B062i9Tp9vCa/2UNEVcj2qFVlgl+QU/ccVfUWMtLi93HzwbDYCEHp1zV/L+F\n",
       "i0K8d6oTnIBiuXICBn92jfRbZnEwr+0Plg5c3Vy4vqD9T6svnmJR/SD0qcGt4RdjDdjAcFENj+Nr\n",
       "CQghB2pKg2v47l422xFDZvxcIz5Uhdv4htFGTtpIdPFlIJy57AW57gqbdYfD35VeRymFEE+vgJhx\n",
       "NvEYbbtyt0/X44Q15i4YyrHcdkVhijx3QNv8AOHZqfMHFcODjOASoQc403hAtljBCasfkiSLEi5P\n",
       "01lWcKhEXTWSNeNcjN3xUsjBHNeLS0h7KqaH+2rNDoOPdHj+klFrSdUz1HDrdxg8bKq12+W/AR4r\n",
       "lsEEgWNpAAAAAElFTkSuQmCC\n",
       "\" style=\"display:inline;vertical-align:middle;\" /></a><br>(see <a class=\"ProveItLink\" href=\"../../../__pv_it/theorems/90dade168eeacec8cfc4eb96df851112dd17519d0/dependencies.ipynb\">dependencies</a>)<br>"
      ],
      "text/plain": [
       "<IPython.core.display.HTML object>"
      ]
     },
     "metadata": {},
     "output_type": "display_data"
    }
   ],
   "source": [
    "%proving weak_div_from_denom_bound__all_pos"
   ]
  },
  {
   "cell_type": "code",
   "execution_count": null,
   "metadata": {},
   "outputs": [],
   "source": []
  }
 ],
 "metadata": {
  "kernelspec": {
   "display_name": "Python 3",
   "language": "python",
   "name": "python3"
  }
 },
 "nbformat": 4,
 "nbformat_minor": 0
}