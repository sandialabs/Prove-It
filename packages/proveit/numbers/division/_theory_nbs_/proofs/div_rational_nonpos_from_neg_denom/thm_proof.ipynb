{
 "cells": [
  {
   "cell_type": "markdown",
   "metadata": {},
   "source": [
    "Proof of <a class=\"ProveItLink\" href=\"../../../../../_theory_nbs_/theory.ipynb\">proveit</a>.<a class=\"ProveItLink\" href=\"../../../../_theory_nbs_/theory.ipynb\">numbers</a>.<a class=\"ProveItLink\" href=\"../../theory.ipynb\">division</a>.<a class=\"ProveItLink\" href=\"../../theorems.ipynb#div_rational_nonpos_from_neg_denom\">div_rational_nonpos_from_neg_denom</a> theorem\n",
    "========"
   ]
  },
  {
   "cell_type": "code",
   "execution_count": 1,
   "metadata": {},
   "outputs": [],
   "source": [
    "import proveit\n",
    "theory = proveit.Theory() # the theorem's theory"
   ]
  },
  {
   "cell_type": "code",
   "execution_count": 2,
   "metadata": {},
   "outputs": [
    {
     "data": {
      "text/html": [
       "With these <a href=\"allowed_presumptions.txt\">allowed</a>/<a href=\"disallowed_presumptions.txt\">disallowed</a> theorem/theory presumptions (e.g., to avoid circular dependencies), we begin our proof of<br><strong id=\"div_rational_nonpos_from_neg_denom\">div_rational_nonpos_from_neg_denom:</strong> <a class=\"ProveItLink\" href=\"../../../__pv_it/theorems/bb313c2f1fb01b4b87d45518f2fdec0eac000cb60/expr.ipynb\"><img src=\"data:image/png;base64,iVBORw0KGgoAAAANSUhEUgAAAN4AAAAmBAMAAABZiDjwAAAAMFBMVEX///8AAAAAAAAAAAAAAAAA\n",
       "AAAAAAAAAAAAAAAAAAAAAAAAAAAAAAAAAAAAAAAAAAAv3aB7AAAAD3RSTlMAq1RmmUTNIjK7EInv\n",
       "3XZ/CtNrAAAACXBIWXMAAA7EAAAOxAGVKw4bAAAEL0lEQVRYw61Xa2gUVxQ+2Z3Z2Z1NxvhuDIRB\n",
       "f0j/1EUlrVpi0ibRX7oSkNIKSYsoPn5sikiLBqNVUYybxSTQTRAm6B9JdNcHxhqEkP4wICmFCoKy\n",
       "MPH9oLJES8VC9Zy7O5Odm30MO3th787MPXe+e7/znXPPADhtgmrTUN4NpWgN+JOqn+mFLU9rJYBz\n",
       "t2G3LeR7b8O0sgR4Xbho+XcQ/rRhe6YEeHvIhUmoiNuwHXZOqIt4LI9ALJjH6NMQjL6idTknlO0r\n",
       "psP6fHA6uHUxgrL61zFeN1EUU2GRK5TLZE0AGegEwhpwjFdFnU933RVyWbyg+DykwTj+fekY7w2L\n",
       "5Job7c9nhfdv0V7cc5eapuEvglWBuXBZsXDe3B6ZmoCOahTUgJbC+4O8XQ9NNLaz6GhP5hrxrwuA\n",
       "2IQiEQkQ+ZwmgbbBYUpHkWLxytpyjZzyYBepIw4WhAy9KEnwILpfLRavfFZEvUgk2Br6B7G7QaAg\n",
       "zdUUXSRL1ztwo1o9RctlDp9Wtr5MqyUSxn6p0MkAAUYfkxu9SOpkInGneLyA9V4yzhxvvAX7FreV\n",
       "ORnlvBH3XjTeIc4THiPqRX0l9mEXt57/AdpBmp3Wzt+kxT58VjC98HjmRuMUYy1K8GQUm5l7/sPk\n",
       "oPktuXaody4OH9iAkzU2/XjEjOCGxRxeK5v6gRqLjK4ENmaf9h93IrxFzejmorxT0aA0Cn6i4lIT\n",
       "DEM5mZeRJsJVfXAgDlfV/Pu7YF71t5v6tOJBW51x14hq8v8I8iraf0ewAypIXhg7IKCXYUSFc5/n\n",
       "x6swr75j8bcSZvkPrpCmhupGQCHnnlgOoGMxcvQm7Y+Au18vgUe0+yMhUBSpsbGxaUYvnB4Us4wR\n",
       "KL8sjGRJtwdRLvI9zISMjLUBhreFhSWj42/tsUzz3OfwfYp1fowvk34wry5j/lzAjUqU1MqIr3rv\n",
       "GFDEsL3p8UGV6ZOx1wO1Im2DsBQ/l1/quTcO9hkKkTbveNvJp/d/jHlBpRJqUbnqN2k+Z9oENLh3\n",
       "RaNnRMYnp/8UYRcmZ/x2NpHOqWWddVmrD8ZLyLdWO8XyOtPLPvSSESVJGPeytJVFL8JY6n97tuCs\n",
       "UeYd4w4No4orD3W3aD6W4qbAn3EcynG4746kMlC4Eq5w+nCnFzydtZaq2ttjfeIzMov49WdXQfqV\n",
       "xfvd7zNo947D0dcAP9Mj+VbzJ/whngIS3xeVboeiUSRx5BfLIo3ioA/p+CnAv6HXylOB1pqtqBKW\n",
       "bcpIcN9mDn21+glnnKqAPDVTto7Q61mfhr/IuLHsyPuIV3iqzo3tlm2VluOO6zM/E/+KVDlUqClj\n",
       "zr8fJqhrZidN4epDdY5XS90DEKdt2D4twfeRJ8DCT7AREdLtEuDJ97B7B8OBwqYXS0AnwH7MSvPT\n",
       "cZi/9ZTk+13CEBm8ZmN7MoXORxxBE75C3Vc6AAAAAElFTkSuQmCC\n",
       "\" style=\"display:inline;vertical-align:middle;\" /></a><br>(see <a class=\"ProveItLink\" href=\"../../../__pv_it/theorems/c246699f14f712411abb14bd55e06d0e651d4a9f0/dependencies.ipynb\">dependencies</a>)<br>"
      ],
      "text/plain": [
       "<IPython.core.display.HTML object>"
      ]
     },
     "metadata": {},
     "output_type": "display_data"
    },
    {
     "name": "stdout",
     "output_type": "stream",
     "text": [
      "div_rational_nonpos_from_neg_denom may now be readily provable (assuming required theorems are usable).  Simply execute \"%qed\".\n"
     ]
    }
   ],
   "source": [
    "%proving div_rational_nonpos_from_neg_denom"
   ]
  },
  {
   "cell_type": "code",
   "execution_count": null,
   "metadata": {},
   "outputs": [],
   "source": []
  }
 ],
 "metadata": {
  "kernelspec": {
   "display_name": "Python 3",
   "language": "python",
   "name": "python3"
  }
 },
 "nbformat": 4,
 "nbformat_minor": 0
}