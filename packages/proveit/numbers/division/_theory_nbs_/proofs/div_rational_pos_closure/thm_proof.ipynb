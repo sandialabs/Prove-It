{
 "cells": [
  {
   "cell_type": "markdown",
   "metadata": {},
   "source": [
    "Proof of <a class=\"ProveItLink\" href=\"../../../../../_theory_nbs_/theory.ipynb\">proveit</a>.<a class=\"ProveItLink\" href=\"../../../../_theory_nbs_/theory.ipynb\">numbers</a>.<a class=\"ProveItLink\" href=\"../../theory.ipynb\">division</a>.<a class=\"ProveItLink\" href=\"../../theorems.ipynb#div_rational_pos_closure\">div_rational_pos_closure</a> theorem\n",
    "========"
   ]
  },
  {
   "cell_type": "code",
   "execution_count": 1,
   "metadata": {},
   "outputs": [],
   "source": [
    "import proveit\n",
    "theory = proveit.Theory() # the theorem's theory"
   ]
  },
  {
   "cell_type": "code",
   "execution_count": 2,
   "metadata": {},
   "outputs": [
    {
     "data": {
      "text/html": [
       "With these <a href=\"allowed_presumptions.txt\">allowed</a>/<a href=\"disallowed_presumptions.txt\">disallowed</a> theorem/theory presumptions (e.g., to avoid circular dependencies), we begin our proof of<br><strong id=\"div_rational_pos_closure\">div_rational_pos_closure:</strong> <a class=\"ProveItLink\" href=\"../../../__pv_it/theorems/3873e9a828d8fd60cf3cb2f045e4a73ff102eee60/expr.ipynb\"><img src=\"data:image/png;base64,iVBORw0KGgoAAAANSUhEUgAAAKsAAAAmBAMAAABJ6HYsAAAAMFBMVEX///8AAAAAAAAAAAAAAAAA\n",
       "AAAAAAAAAAAAAAAAAAAAAAAAAAAAAAAAAAAAAAAAAAAv3aB7AAAAD3RSTlMAq1RmmUTNIjK7EInv\n",
       "3XZ/CtNrAAAACXBIWXMAAA7EAAAOxAGVKw4bAAADZ0lEQVRIx5VWXUgUQRz/3+2dt7e73lkPURhx\n",
       "4UO9lJuBlA96pZVE6YU9ZA+50kPUQ50RESR50UOBkUYRbfRxPVSYhUdGElH0BaURVBxFxsH60FNh\n",
       "YaRgYP1n9m6/ct2bgRtndv7z8//xm98MAENbX4zRzTSwtUAZdh1Pjs1txY8ywlbjL/gKrnm4s4oN\n",
       "lR/B7o4MWz3swjEm2JIMds0AXzzshBEm2EoS/DAIv70M1zHBEi+FGeB+upvEad+VZEntNIGdAJ+y\n",
       "zNWmV09uhgHWR/dchRXxuAcs95QBNiqT/vq3k0tSzqV+Vd1kgQ1NABCKQ0URsD2uGYssToXeZ0xY\n",
       "yAJsIH/3FAFb57oyOAiwvRUCqjqsniMfNgIcJ173FgG7wLWWGQXLxGmmtz+Q5MhGsZhz8ey/2K/k\n",
       "PtLC38ZEiinFhK1MAYeVKCmmZH8c8+D+vDb08eioP9Zowvagm29zuTfFwP5yzA8XFKc7iJ4F5SoT\n",
       "dgA/4H+55IplEpuwxtaMMu/i0DleqzBOGUTR/Q4IlXmcRloYJ6xSGBz1U2+/WiiO3oTTYsLYu9dg\n",
       "+Pl5SRtskCpM9C9p1BSTl/tMS6bndrMFFrf5NUvFysmGMTURegRi1ZzeCgYpw7cMJlhgQak1P7zG\n",
       "XwMeTvEgCKuT9xuyDQm3JLwz4tB5ayEpyS3c20eCrh0ie2fG0hFy9k+hSmma1duQkwnjxqgeT9m2\n",
       "Vqd8dGIMwid+ijB8NBLvIws1shMWldZxWRjuiUQTrLLWRZZ8GHQgzhM1C8uc0kIWCKSWscLCS+fd\n",
       "smhnYXho8kCjTZUKmZMSEcIyKRUoq1ZVNbYjnwSLIOskES6bOX2oH15sC6ki2K8nei6S4RocR0GK\n",
       "ddO4aMls3m3Jxz6biPu0seUJc/q4MJCSPS3pfihNr0UeU5KB6BDhOt2F6KyytPTCsGzOzhoB1a8c\n",
       "hNMxvkmD0EV6HLLtjktgQMdrSzPLR6xwhWBAQyecr4q4PUD3FpyyT62OBCqaErbV/MXXPj7fC1ZU\n",
       "7BttszNrHISioiBMpge8ngES02vpAen80yBpHobfmV41EqlhQKGyN2d7zgTLkZSVZqDNI8aIwvYS\n",
       "3a3TttmDYp1JNti7aB9NCS883qEfGF/jIVRQnxyOe7yaZUZYOIK+lNd7GN0g3T/I8tOJHzZCJwAA\n",
       "AABJRU5ErkJggg==\n",
       "\" style=\"display:inline;vertical-align:middle;\" /></a><br>(see <a class=\"ProveItLink\" href=\"../../../__pv_it/theorems/727b7ac303dd7f45448dc762cf6244d3d49e8fa90/dependencies.ipynb\">dependencies</a>)<br>"
      ],
      "text/plain": [
       "<IPython.core.display.HTML object>"
      ]
     },
     "metadata": {},
     "output_type": "display_data"
    },
    {
     "name": "stdout",
     "output_type": "stream",
     "text": [
      "div_rational_pos_closure may now be readily provable (assuming required theorems are usable).  Simply execute \"%qed\".\n"
     ]
    }
   ],
   "source": [
    "%proving div_rational_pos_closure"
   ]
  },
  {
   "cell_type": "code",
   "execution_count": null,
   "metadata": {},
   "outputs": [],
   "source": []
  }
 ],
 "metadata": {
  "kernelspec": {
   "display_name": "Python 3",
   "language": "python",
   "name": "python3"
  }
 },
 "nbformat": 4,
 "nbformat_minor": 0
}