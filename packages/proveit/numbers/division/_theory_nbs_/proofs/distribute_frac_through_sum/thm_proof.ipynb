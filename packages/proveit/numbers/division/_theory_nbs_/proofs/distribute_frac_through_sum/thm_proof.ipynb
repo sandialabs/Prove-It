{
 "cells": [
  {
   "cell_type": "markdown",
   "metadata": {},
   "source": [
    "Proof of <a class=\"ProveItLink\" href=\"../../../../../_theory_nbs_/theory.ipynb\">proveit</a>.<a class=\"ProveItLink\" href=\"../../../../_theory_nbs_/theory.ipynb\">numbers</a>.<a class=\"ProveItLink\" href=\"../../theory.ipynb\">division</a>.<a class=\"ProveItLink\" href=\"../../theorems.ipynb#distribute_frac_through_sum\">distribute_frac_through_sum</a> theorem\n",
    "========"
   ]
  },
  {
   "cell_type": "code",
   "execution_count": 1,
   "metadata": {},
   "outputs": [],
   "source": [
    "import proveit\n",
    "theory = proveit.Theory() # the theorem's theory"
   ]
  },
  {
   "cell_type": "code",
   "execution_count": 2,
   "metadata": {},
   "outputs": [
    {
     "data": {
      "text/html": [
       "With these <a href=\"allowed_presumptions.txt\">allowed</a>/<a href=\"disallowed_presumptions.txt\">disallowed</a> theorem/theory presumptions (e.g., to avoid circular dependencies), we begin our proof of<br><strong id=\"distribute_frac_through_sum\">distribute_frac_through_sum:</strong> <a class=\"ProveItLink\" href=\"../../../__pv_it/theorems/61396e76a9ca9fb57978c7dee906814db2ab79a90/expr.ipynb\"><img src=\"data:image/png;base64,iVBORw0KGgoAAAANSUhEUgAAAskAAAAzCAMAAABSfWWJAAAAOVBMVEX///8AAAAAAAAAAAAAAAAA\n",
       "AAAAAAAAAAAAAAAAAAAAAAAAAAAAAAAAAAAAAAAAAAAAAAAAAAAAAAACXHtMAAAAEnRSTlMAq1Rm\n",
       "mUTNIjK7EInv3Xbt5cmRiLwgAAAACXBIWXMAAA7EAAAOxAGVKw4bAAAIHElEQVR42u1diZakKgxl\n",
       "U1mUec///9gBtBTZXAqXYsyZ6e5YCLl6gQSiBUAO4UbAK6/cIDnZ1/VKSElXh9ES7/mPouKMJ1TA\n",
       "NPtYJiZXhd1yiEsk8s+ioh1PqFrwy+TwLRdFEvl3UaEupb5MjgmuSyTyT6MSMKW+TA5L0zYFEvnH\n",
       "UXU4pb5MDqORW0tWuxzParebWuE7UD3Tv2h5Qn2ZHJyF2+2Xdxc70G4uIXkHqmdKTVLqy+SAtKJE\n",
       "Jre/HsRWfZNQXyb7Intr3uJSQk6FQNuYli7+PZNXzMmEKiTHWwa5GqlhQn2ZHMBiXyE1hUkoAem2\n",
       "MS1d/Hsmr5iTCVVIjrcMcjWCeh5XXyZ7QntrHwyrGQyrK2a2FLi/jOUwzS7OhYCQ52XywpzzUIW8\n",
       "7DSyTK58Gh7vZVx9mewJtCMjffvJeKeplNZYQTotbWt+wUBxYgqlSqeHp7X6T0EV7wkxZFkHkRV4\n",
       "rIurL5P9yMglWjt1fX9nKTDKfor36pI0Pc0e8bXydFSxOuLIMl7+BDzsBHm2+jLZn4ZxIGQeMq22\n",
       "MHkqjvkpTJ7rJ1iNp+QMVIm1gwiyvAsUMXh8iWKhvkz2Y3yro3NWDfOy2DQmO8XV7y6rn2zXz3HV\n",
       "qhu5cd9uH6qAi7qCLM/KxSo8Z2ax1ZfJni/WLsJjyok6UKFNTHaKeylbDpN5Xzt/WH+t1d9wqYv2\n",
       "/ARUoWWDNLIssg4v4Si/TPb8NPuKcCIlQASjbX6yU7xx0mi9Mbkj7h/WX6v1Q/VZ1Z6BKjBcriDL\n",
       "MyavwhN9VFVMnkdohL9kcpaq7hWeel5gU8Q3SaNqaprsEd/MTuWpEgJoflRr4iM7Y0gJwMN9FVMV\n",
       "k8mk1c2XTM5S1d0Bn9xzzxMZPg2jlBK+sXQsAErUrwekjiKaH9UakX1k+SUIz8Fhq4rJFE4Gfutd\n",
       "ZKnqXkF9dDu2EXUvto+qrX4kpz/P0kpfbCnwKaiSfS6CbHc/TZ4QhOfMLbaq/eR67F3fbKmPfnKO\n",
       "qu4V3Jf4/N5uVEcyl3afc6CRHsZUzWQ88v6bJwpGJueo6l6RfYlJ9rtRPZbJLKaatYthR/SrrL/P\n",
       "2kWGqu4V0Zf4roPdqJ7K5LaOqYbJxEw9WxdWRIrJ+6o6U5KbX3H7yC8zecjVGAV+g+qpTO66mGqY\n",
       "3MDPj8MU+TB5X1VZJ1BGoGzma5OKOYWxVgjp90rYgwJlN6rHMrmNqcPOiB5DRXRvo+mI/hCPe4NJ\n",
       "Jq9UlV2ohIxVeqMTKk8QMbGFyUNPw3rlnaXvef8TspfJyVrCWXvphndn+u1pZIFvjcm6c9RxmiAI\n",
       "hCLouIKYZnKkqrOmUzLG5IKb/o03MRma8EevvAMvEiJF+sn/inehuYdlnCZIfUiMgywIIZ36X0WZ\n",
       "bFUlJWnUP9cLCB4N+guRkpXUvdgsN35WGzmmgwFNiMnzCYNq6N6Ym9siLzb64bWLqJ8sSlm7WIn4\n",
       "9PrvuBJs5dJNNAGIokp5oGKDn2xVJRsAGagdqoSPBokcKalGX0VC2mqXYrKwQe6tYoETCNPyR/3H\n",
       "gBomu29NALLI9WRZynpyPBluZHIzHrJy6WaaKCar2RtV25j8qQqoepj0sgLCR0MSK9lwvb0qmb1H\n",
       "hDnmUSbPJwCrhw5M9vK6352RTEwO5PelE/02iZM/4uzxGdeRjjd9yqWzthL13jeZqLDC5E9VYPZC\n",
       "ncyp4WiFJFmLDCNzon69mc6UwrUZYxkClFY0yuT5BHM5xw8G78LbxUV9VSCTd6PKMCYH8vuSiX5b\n",
       "hPcipnpZnVMu3UwTw2QuPoGcWGGyFTG2xnGlaJHMOh7V3sFK1D2WDDam4zU6mzJGfNZCMQucoL2L\n",
       "//5nxruIRHzewxVFyG5UD/Uu0hlEjiPyyaWzaGLykapkuz6TmxaIehzBByarzmAdbQammqOhH3NJ\n",
       "TCqMBmvMp6CjoOo/S35ja8KEhiK8njydYCU5qYByTFNJzl+FyF5UR97ilTeDKDK3oJjqMtnKpZtp\n",
       "gg1NJdzFZEBkJaTkM5OpXiiwjgK9wjccpW2z/GGXRNqv6cBUhU7GZvXgtkw+BRdqDiE07F1MJyy2\n",
       "H4WQgdTErsjXdBaCyskfsVWXyVYu3UQT2g3ZxjuZbH86EmbplE6LfKHOt/B4KGjq+QOurGF45K92\n",
       "FYJtW8CsE9YnNNiWyORCUDl7lXD5zEjcvY7T5BiTq8UIKDiQ/lEQKKlXHvBwSP9Urny1PsSwhe//\n",
       "OWH9PFzk1kghqFoWVa94jo/KdshXXrhFdd/3nXd0XoGzepSaDNCYco2NeyU35NrZOyPTCWi9X9L+\n",
       "vNxqLgkeAV0e8qEMxlxkf7SZZhnwLdRyn0g9vFXXnnefBEBmWeiGLCUf1QFjLrI/2sz75pZdQk5z\n",
       "KSkaXkIF2QNQHTDmIvvjzcAurr5M9n300/ZG+Lin2MoHoDpgzEX2x5txnqt933C4hoWcyCfuvDbz\n",
       "RlQHjLnI/kgzTtiK37fO3hfnmxdRyvYZqA4Yc5H9kWac1OfufRP4anR02mOIDH5+PADVAWMusj/c\n",
       "zPvtDA8alAnUdwA/A9UBYy6yP9yMQ21HfZkckvqsQZlDIcldufwuqgPGXGR/sJlq2RMd9WVyUOiZ\n",
       "38Eo6gehOmDMRfZ7zXQopb5MDotkp90d3qJnoDpgzEX2B5t5v+33mJzzXeX6W0rv/Bb0RdsHjLnI\n",
       "/lAzTqaNn3iTjcmYc15S6k19xsiD8PpzMpehOmDMRfYHmqE1T6iae7mm0U6/l6CoHHVW4vN8v4qK\n",
       "O8ytnVfda/axv3NmZ/5UUei5AAAAAElFTkSuQmCC\n",
       "\" style=\"display:inline;vertical-align:middle;\" /></a><br>(see <a class=\"ProveItLink\" href=\"../../../__pv_it/theorems/dccdca0ad1524f2b47620cbf46a4d4ed81f7a4d80/dependencies.ipynb\">dependencies</a>)<br>"
      ],
      "text/plain": [
       "<IPython.core.display.HTML object>"
      ]
     },
     "metadata": {},
     "output_type": "display_data"
    }
   ],
   "source": [
    "%proving distribute_frac_through_sum"
   ]
  },
  {
   "cell_type": "code",
   "execution_count": null,
   "metadata": {},
   "outputs": [],
   "source": []
  }
 ],
 "metadata": {
  "kernelspec": {
   "display_name": "Python 3",
   "language": "python",
   "name": "python3"
  }
 },
 "nbformat": 4,
 "nbformat_minor": 0
}