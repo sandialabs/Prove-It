{
 "cells": [
  {
   "cell_type": "markdown",
   "metadata": {},
   "source": [
    "Proof of <a class=\"ProveItLink\" href=\"../../../../../_theory_nbs_/theory.ipynb\">proveit</a>.<a class=\"ProveItLink\" href=\"../../../../_theory_nbs_/theory.ipynb\">numbers</a>.<a class=\"ProveItLink\" href=\"../../theory.ipynb\">division</a>.<a class=\"ProveItLink\" href=\"../../theorems.ipynb#div_real_closure\">div_real_closure</a> theorem\n",
    "========"
   ]
  },
  {
   "cell_type": "code",
   "execution_count": 1,
   "metadata": {},
   "outputs": [],
   "source": [
    "import proveit\n",
    "theory = proveit.Theory() # the theorem's theory"
   ]
  },
  {
   "cell_type": "code",
   "execution_count": 2,
   "metadata": {},
   "outputs": [
    {
     "data": {
      "text/html": [
       "With these <a href=\"allowed_presumptions.txt\">allowed</a>/<a href=\"disallowed_presumptions.txt\">disallowed</a> theorem/theory presumptions (e.g., to avoid circular dependencies), we begin our proof of<br><strong id=\"div_real_closure\">div_real_closure:</strong> <a class=\"ProveItLink\" href=\"../../../__pv_it/theorems/c427bc0d4958ad51bb8674ffef2fe75dcd5121960/expr.ipynb\"><img src=\"data:image/png;base64,iVBORw0KGgoAAAANSUhEUgAAAL4AAAAmCAMAAABNn9GBAAAAOVBMVEX///8AAAAAAAAAAAAAAAAA\n",
       "AAAAAAAAAAAAAAAAAAAAAAAAAAAAAAAAAAAAAAAAAAAAAAAAAAAAAAACXHtMAAAAEnRSTlMAq1Rm\n",
       "mUTNIjK7EInv3Xbt5cmRiLwgAAAACXBIWXMAAA7EAAAOxAGVKw4bAAADf0lEQVRYw9VYDZOrKBAE\n",
       "hq8ZkLvj///YB4qKETVYV6EeW5vNpoC0Q3fPDIyNG1K8XUma2OgheXljuAsmdK2102j8oMsb5Q1j\n",
       "GPvwAB+L3vqClzzko5g616MYCl+7lUMxv06ul/5+JH3ERhaPGUxUr6UzYmzRpphFC7F7BxPNOOZv\n",
       "waeYScw1E71o0A2Dz3FHkaIvJslkt3X5YfAj7BrkwVnDg713WY8Y9eQRKvakc9sFIOCH3OnmLabs\n",
       "lnIEB9wcJx0Zk5vk9e+k8EKpCb6b/9gt4DIlvu0/gz+kvn4LXxq2rQ05CGv1436YxvyzZwec0tAN\n",
       "+LjnjqQXKJTXv1Tuk+cpHagZfU7EdwXliPv8mJN3Y4ynnZLOBfEC36LYJUrzNnK2LHxXQty4Nd0k\n",
       "zAeiNlwkwfd6ilN9KnPCzoa0vHzam/5Qs5icllyHw65X091sac4F1/DNJ/ht6QKQPnMwB961Sia+\n",
       "frMNHDHNCCx94oxrwt+nsy0ekB5VnSxNVQVa3EdVTE9l4JE8SFDTLs5nL8KFcH3JhFKWNyH9MKDQ\n",
       "hu/rxMnN9tEpRz1Fn/DCOK08kHyBn7BDQUQOgjPbt4TA0+ywPfEMP5Bsk6dMXwLsFpLn/73oJc90\n",
       "5fvS1ukphmL5Rek0mSqhh9RQBlnHIpPHYIAm/DJdYh7/pF8oheUEJ+k+OE8IF/ATlurbyzZmTSNS\n",
       "ZuJtK2DuSBVU8CU6ZG3plunLRKjqYv8JhuJTY65FA34+9MR9VJ8GxgtrfZYnr7mcehrQczxzc5nJ\n",
       "45Rowy/Ta/Iu5DlTxT9Vx8RR0anixNzTo173sx8tGmXeIFBZGBfeWsdq7ivlqAm/TM/k+fc/nMlz\n",
       "IV12sFhC3+C6cngoGm4bzjUqmfoKKEk4c5YY4CGjLcZ5Id11elUGziRW55Qij52G7m5VFsl+PrWS\n",
       "IIKDLIB0QFYuEjJot0pEO0ZS6qbzyFVxlbmltCWpUTAfPovvqkW8KfzqHcllLqh2HdtY+nhjRgfA\n",
       "Kr4rWG78S325I36X8k/L5B0JvhvqpmX7tnFswBdfXNkc2mzNU77r54/7H0r8lw1mfS1FMSVN6u9+\n",
       "/cBrwip0op3bHtuxcfckh/pu8bHo/qLgV/fjy32h6jXPoNnQoaF2fdlpnsabsfBzdbvAt+slf8/i\n",
       "sdf7VT/O4SMPfOPXwIYPY0t16WQnGlpt9w/Y/x1brXZSfgAAAABJRU5ErkJggg==\n",
       "\" style=\"display:inline;vertical-align:middle;\" /></a><br>(see <a class=\"ProveItLink\" href=\"../../../__pv_it/theorems/df461eb7d20797939ed7165e067484272d41e6210/dependencies.ipynb\">dependencies</a>)<br>"
      ],
      "text/plain": [
       "<IPython.core.display.HTML object>"
      ]
     },
     "metadata": {},
     "output_type": "display_data"
    },
    {
     "name": "stdout",
     "output_type": "stream",
     "text": [
      "div_real_closure may now be readily provable (assuming required theorems are usable).  Simply execute \"%qed\".\n"
     ]
    }
   ],
   "source": [
    "%proving div_real_closure"
   ]
  },
  {
   "cell_type": "code",
   "execution_count": null,
   "metadata": {},
   "outputs": [],
   "source": []
  }
 ],
 "metadata": {
  "kernelspec": {
   "display_name": "Python 3",
   "language": "python",
   "name": "python3"
  }
 },
 "nbformat": 4,
 "nbformat_minor": 0
}