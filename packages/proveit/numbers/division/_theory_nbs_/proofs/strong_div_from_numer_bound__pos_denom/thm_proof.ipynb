{
 "cells": [
  {
   "cell_type": "markdown",
   "metadata": {},
   "source": [
    "Proof of <a class=\"ProveItLink\" href=\"../../../../../_theory_nbs_/theory.ipynb\">proveit</a>.<a class=\"ProveItLink\" href=\"../../../../_theory_nbs_/theory.ipynb\">numbers</a>.<a class=\"ProveItLink\" href=\"../../theory.ipynb\">division</a>.<a class=\"ProveItLink\" href=\"../../theorems.ipynb#strong_div_from_numer_bound__pos_denom\">strong_div_from_numer_bound__pos_denom</a> theorem\n",
    "========"
   ]
  },
  {
   "cell_type": "code",
   "execution_count": 1,
   "metadata": {},
   "outputs": [],
   "source": [
    "import proveit\n",
    "theory = proveit.Theory() # the theorem's theory"
   ]
  },
  {
   "cell_type": "code",
   "execution_count": 2,
   "metadata": {},
   "outputs": [
    {
     "data": {
      "text/html": [
       "With these <a href=\"allowed_presumptions.txt\">allowed</a>/<a href=\"disallowed_presumptions.txt\">disallowed</a> theorem/theory presumptions (e.g., to avoid circular dependencies), we begin our proof of<br><strong id=\"strong_div_from_numer_bound__pos_denom\">strong_div_from_numer_bound__pos_denom:</strong> <a class=\"ProveItLink\" href=\"../../../__pv_it/theorems/420b17a41369b7fea765113b2dc032d115b060a80/expr.ipynb\"><img src=\"data:image/png;base64,iVBORw0KGgoAAAANSUhEUgAAAPgAAAAmBAMAAAAby0tnAAAAMFBMVEX///8AAAAAAAAAAAAAAAAA\n",
       "AAAAAAAAAAAAAAAAAAAAAAAAAAAAAAAAAAAAAAAAAAAv3aB7AAAAD3RSTlMAq1RmmUTNIjK7EInv\n",
       "3XZ/CtNrAAAACXBIWXMAAA7EAAAOxAGVKw4bAAAEMklEQVRYw7VYb2gTZxj/JZfkLu+lV/elo1PK\n",
       "wYbfdGEfhInGSv075papE+qGPTZhbIKcIIJT1riPI7O1VUcnSBzCptUaJtZ/rARlVBgbfpgoiHDF\n",
       "zn/FUrqJEmHb876XxCR3qSnkPcg95Hlz7+99/v2e5wJIukLmjMvsC0i8ltNnaOyny54zsPE4jgHf\n",
       "ZuRhKxbd2o220PXqFT2YwzL6wRx54GkyTLGVfCBevfI1naeVZJ888G300RCyvCuZmIM/SJ6S5vdg\n",
       "XgjC8V5dGe0Zz0hpfm/Kujg289q3CkaOhPpUFngPxzyRnAfdu3YAUWH0EVngPKPw5jfvYr1fEXaJ\n",
       "LFwiC/xvfjs+GezwoZpjI+/bXHabEB54vcHY2szxHHbzoh0rufys0RQzVXtNt9gVl4At7OOJ19tg\n",
       "8IA1QyE4AbcUjClEKC91s8HgMd8ani9CHUysLHDBMyiUeZFG51tz1ke59J2qxJgGfr9z57eGg8e9\n",
       "useXqtsblcQa4Ps62vOswLu9jfQXL9P+C+yAWpNlg7e3trgPRV+OqI+UnN1TDa6u8/HFc9o2oyd9\n",
       "N9vfeghOVt/jB17B2AX+TqCz1DvEjv+JSyhaXpxGKEUp/kPWOf75FqJ4wHGUIR/wna9VmHVQpPE1\n",
       "NNu1LG/xqycCh5Wg22DiPP8+uXqcNgiPIYC7EODG8TJwY/yr1ST2vQpsmSPIkZ2dsKG9Qg+pecTM\n",
       "WbmdYo6faZZjNwUjGnZrhJ4bas6kmSAeJ7v7bhn4/UDvJ0AnHYA5eY03xtN2DwdenoKWR1MRoTte\n",
       "T8LxBrCXLAi1i60UHNVIfLkAD8PieWftRZSBx6NOCp28ZtQfrhv8eCuQFnuvTRJ4aXY440Vijx9V\n",
       "e2Oac2GKKClpuCnvdoS5aFM+HxjoI7efM8tjTlHVXGYOZAMc4VeMuWw+Sm5vLno71u5HMlWFrj0p\n",
       "HtWOLuY5q+VU/vUGrmlZN+YfXioHT8PGoBj9mpIxOjR7iv6TvCaPViRcxLdZLLL9Ri06qt2zITOI\n",
       "vboVwiBwKzzlMg+VWlnCqblhkE1GPwdPdYFlMao9WUx2f8qTFR+UKiVXBxPpxak63LHwLNJm6K+R\n",
       "RyTwxtsWdpNh4e3b2ArrheXvfTTJ/aMQerDjMI/Axrcm4jD6XJIpkbeSrwM8WslthZCZzI7GwS4O\n",
       "HCr7ZaXHvsOP4Cdwg+cZwdn0rBtAOFMQAWeT55jVirYweWRzrY0P1gHeVZECSlGEE9mXgm+Y4KVX\n",
       "a2N3OFTn3vcZ3Iva4br7lDq7nnpGkPvHdtQn+EXtFVnTq86zlF2F9z2xpDVyssCp6KngpopvLhUN\n",
       "q6CNmdLAF/Htewvur5zvCtp78t5SI3HB8Mt80sHVqqPywNlNgjHRErQ94K72tDyvA7syiDrBP72z\n",
       "X0HbL/M/GTUF1nZhxwOvT4SW8bD/D0l0GnMB+atQAAAAAElFTkSuQmCC\n",
       "\" style=\"display:inline;vertical-align:middle;\" /></a><br>(see <a class=\"ProveItLink\" href=\"../../../__pv_it/theorems/b70d64e3667abbb186ecb191ac334d26482774970/dependencies.ipynb\">dependencies</a>)<br>"
      ],
      "text/plain": [
       "<IPython.core.display.HTML object>"
      ]
     },
     "metadata": {},
     "output_type": "display_data"
    }
   ],
   "source": [
    "%proving strong_div_from_numer_bound__pos_denom"
   ]
  },
  {
   "cell_type": "code",
   "execution_count": null,
   "metadata": {},
   "outputs": [],
   "source": []
  }
 ],
 "metadata": {
  "kernelspec": {
   "display_name": "Python 3",
   "language": "python",
   "name": "python3"
  }
 },
 "nbformat": 4,
 "nbformat_minor": 0
}