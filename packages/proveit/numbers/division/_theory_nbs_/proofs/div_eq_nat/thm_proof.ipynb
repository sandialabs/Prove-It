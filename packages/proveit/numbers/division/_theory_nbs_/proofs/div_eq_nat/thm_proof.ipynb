{
 "cells": [
  {
   "cell_type": "markdown",
   "metadata": {},
   "source": [
    "Proof of <a class=\"ProveItLink\" href=\"../../../../../_theory_nbs_/theory.ipynb\">proveit</a>.<a class=\"ProveItLink\" href=\"../../../../_theory_nbs_/theory.ipynb\">numbers</a>.<a class=\"ProveItLink\" href=\"../../theory.ipynb\">division</a>.<a class=\"ProveItLink\" href=\"../../theorems.ipynb#div_eq_nat\">div_eq_nat</a> theorem\n",
    "========"
   ]
  },
  {
   "cell_type": "code",
   "execution_count": 1,
   "metadata": {},
   "outputs": [],
   "source": [
    "import proveit\n",
    "theory = proveit.Theory() # the theorem's theory"
   ]
  },
  {
   "cell_type": "code",
   "execution_count": 2,
   "metadata": {},
   "outputs": [
    {
     "data": {
      "text/html": [
       "With these <a href=\"allowed_presumptions.txt\">allowed</a>/<a href=\"disallowed_presumptions.txt\">disallowed</a> theorem/theory presumptions (e.g., to avoid circular dependencies), we begin our proof of<br><strong id=\"div_eq_nat\">div_eq_nat:</strong> <a class=\"ProveItLink\" href=\"../../../__pv_it/theorems/5ce62a5d9ca972d27d873dde85b130f51a3ade1c0/expr.ipynb\"><img src=\"data:image/png;base64,iVBORw0KGgoAAAANSUhEUgAAAPgAAAAmCAMAAADeO6ZmAAAAOVBMVEX///8AAAAAAAAAAAAAAAAA\n",
       "AAAAAAAAAAAAAAAAAAAAAAAAAAAAAAAAAAAAAAAAAAAAAAAAAAAAAAACXHtMAAAAEnRSTlMAq1Rm\n",
       "mUTNIjK7EInv3Xbt5cmRiLwgAAAACXBIWXMAAA7EAAAOxAGVKw4bAAAD2UlEQVRo3tVZiXLjIAzl\n",
       "NLd21///sYswGEycmDTuTGDadJgiwUNPFyFksiHYR+J2sWTKIWgGAECtdm7kGiwIjn+SqA5TIudL\n",
       "uQBCgAIRYUDIEeZRdt1U0Alxa5/NxRUCsYTyASG23Q8129yw+YAvroBBoy+Dbk2IB5I/cO6nIztb\n",
       "2yMXINdDopxedRcn5hnBHdBEutsh4yVugC9ThZJTefhucGskoT7FrZFhaPnIczcX8BKdkPPaighc\n",
       "jsUp5LZcaxzkfi7g9ehWABAm+GB8ttSBaPit1ihYCcD4tzP9E9d0bQ4IsQwQcs8VX+7yuQD5GWbr\n",
       "WRftdDG5Mt/u4ssPBUPMe/QQzwDvsFTt7tsLGv/T9Ms4VF6X4BgZlF17+XLcZHU3hgu0sg84/Nfn\n",
       "tvW+4GuTLpFKOXNPASs+PtOzf6Qc9HLr0IwLt1ix3FW0fLw5VBBOYjnQyH4aIV1yRufAndPzVrdB\n",
       "Yzv5josANbFoJIwSF2WFvQ34dv882kOah06jHnFtxjXIk7VrYiaD90KbEHoPl8jt1jgfAqeplvCo\n",
       "vy9X7rW4yAGdl17VcXD7jgBCxZ9844DWiL+wBxmmmVTwFPhBfDdcUXO2oXSbNyOFPHsT+Ns+jik8\n",
       "J3MbVFMZgsK+YGH54YrE82gfO6OaDnWkOpNPgO/iwpTBqxpy3HBb8yet2bqwwPvgdmNJnXWpEp6E\n",
       "IPVQJP7TAMm0VpaFCMYQyVvgkepgzoEfxPfjFzVnG2YubcD7dwa7wm249wxB8/G8xDe89mYaomLV\n",
       "R4HwZbMe24Bbd4gPRx8/ayuympMNC5c2qj8w24vbgOtVdpcaD2p4fdZAY+xnDzKFHe0OFo89MTwD\n",
       "nsVbqu9qug1xzd9/ec1pcCPLfc3E8Q0LLxU9TnKLdowOkPoakayKJ9YxpRxKHZ7u7UCRergq3rUM\n",
       "WU1Sum9ImnYpRsV4nw/hSdz3fOD6V2kZe3twHG0ViSZAOgCbZ9j4myW1cdleOmyd7DnwKt7ddlaT\n",
       "lO4bHmvHWMAI+9iW3vY6al4EfdbPbGLlloKQkucVzyUdq5p+i6vYZe9L5C8ShLT9LAYkeV3mXAKv\n",
       "ao5bDJRQ5q7oJl+85fCHmeQw0MBdAq9qjluw65r5+EaoqAM1mOG6te4XWvDffL6ybRKSHn1mzO37\n",
       "tX62L5EaS1mfOuowdGHdWpjsdZnU/B9hpE4rDL2e9Gv9fN8a7t8SE2967r+4ruNaWMh8Y+Ft4T72\n",
       "4NytVV5NCBy7uZrT6UKYGgDerrVhwq/H0V65gY59H2FBDL3xHdYaTuYcaotvloLTioIeoUmz1hZP\n",
       "/w/OWCIu7f/LQAAAAABJRU5ErkJggg==\n",
       "\" style=\"display:inline;vertical-align:middle;\" /></a><br>(see <a class=\"ProveItLink\" href=\"../../../__pv_it/theorems/4c3da9fb5fb6385e62e86f5982a848b8af4e398f0/dependencies.ipynb\">dependencies</a>)<br>"
      ],
      "text/plain": [
       "<IPython.core.display.HTML object>"
      ]
     },
     "metadata": {},
     "output_type": "display_data"
    }
   ],
   "source": [
    "%proving div_eq_nat"
   ]
  },
  {
   "cell_type": "code",
   "execution_count": null,
   "metadata": {},
   "outputs": [],
   "source": []
  }
 ],
 "metadata": {
  "kernelspec": {
   "display_name": "Python 3",
   "language": "python",
   "name": "python3"
  }
 },
 "nbformat": 4,
 "nbformat_minor": 0
}