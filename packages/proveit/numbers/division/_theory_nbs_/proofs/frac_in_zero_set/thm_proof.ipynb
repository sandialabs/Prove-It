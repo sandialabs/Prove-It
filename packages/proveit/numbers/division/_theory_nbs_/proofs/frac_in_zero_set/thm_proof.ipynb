{
 "cells": [
  {
   "cell_type": "markdown",
   "metadata": {},
   "source": [
    "Proof of <a class=\"ProveItLink\" href=\"../../../../../_theory_nbs_/theory.ipynb\">proveit</a>.<a class=\"ProveItLink\" href=\"../../../../_theory_nbs_/theory.ipynb\">numbers</a>.<a class=\"ProveItLink\" href=\"../../theory.ipynb\">division</a>.<a class=\"ProveItLink\" href=\"../../theorems.ipynb#frac_in_zero_set\">frac_in_zero_set</a> theorem\n",
    "========"
   ]
  },
  {
   "cell_type": "code",
   "execution_count": 1,
   "metadata": {},
   "outputs": [],
   "source": [
    "import proveit\n",
    "theory = proveit.Theory() # the theorem's theory"
   ]
  },
  {
   "cell_type": "code",
   "execution_count": 2,
   "metadata": {},
   "outputs": [
    {
     "data": {
      "text/html": [
       "With these <a href=\"allowed_presumptions.txt\">allowed</a>/<a href=\"disallowed_presumptions.txt\">disallowed</a> theorem/theory presumptions (e.g., to avoid circular dependencies), we begin our proof of<br><strong id=\"frac_in_zero_set\">frac_in_zero_set:</strong> <a class=\"ProveItLink\" href=\"../../../__pv_it/theorems/a224b962c8aced7f191756c4696a51a1a55e46570/expr.ipynb\"><img src=\"data:image/png;base64,iVBORw0KGgoAAAANSUhEUgAAAPIAAAAmCAMAAADJGTavAAAAOVBMVEX///8AAAAAAAAAAAAAAAAA\n",
       "AAAAAAAAAAAAAAAAAAAAAAAAAAAAAAAAAAAAAAAAAAAAAAAAAAAAAAACXHtMAAAAEnRSTlMAq1Rm\n",
       "mUTNIjK7EInv3Xbt5cmRiLwgAAAACXBIWXMAAA7EAAAOxAGVKw4bAAAD+klEQVRo3t1Z25KcIBDl\n",
       "jtBIEv7/YwOCSCuO7jipYsLDrMVCy6Fvp1tChh6CfUyUVZZ8wRC0PGgKXvtnwqb5CzBzVR6k04SY\n",
       "8PDInA6PeHIFo3U8qXx+KtCw0SErWO07pN8ZHruzG9y0WTVkZ9J5g/xcbBh0VK3akAIXD89F6qCH\n",
       "9uSqZBuSD1JF2OMDGxgZMjXbQaOW2SyIuOOvEtm/xtfE3ciQA99gUA+Tpn663uWVxCFqosa2lh0N\n",
       "ZnNoxsey63esuIY8AC+KANPGrGgrRFQ7UEO59nvRCkruVlGZdtZoLsdslRS/6tyM5crqAWS+/AFz\n",
       "hOzTTa5sG8aiJu46hXozx6E6kLMtFytHkFmIAYEXF1ZDISbhKp1I5e2ZloPI4YAdIOc5l+5qdoNl\n",
       "rHARTHW3Fszw7AqZHyDbZU4ssd+8ST/FE1z2BU+68LN+sBUqb4YMeSk3PcrFy5ym688+TyjT8R9B\n",
       "UeV6GfRiuoATiSD3C3YG+Apy96KWkmuDDMfby3NJwdDj7HQ9yuSpMXGFNTReLmtp2xVkHq9HmoNE\n",
       "Uq8ZL6ie2hQRYRtNYTmXYRp5ShbrhSzDFyajNtDZ5pk/uTRX6I4Q5QHsIoT/APIio9IK1xIoqo8L\n",
       "7mrZ9t47ieKeBVeRAarRZ/5XxMuLqVrgHnR9rfc0yvBrJLF8ypt1FzLaXH0yHcIxLDErEo4L7ht2\n",
       "v19QmJYxmc1YXIRWX04puYS/RFg2pudnS7xoLpTpYy2zQa6bhVkHL/XQzJHEvOBXZ0FzVRcR2/tX\n",
       "VMRtsYyA62QCveZ9IZKXVDR8aT/J+nJuuT2HjDejEtB5JDGfmXcWNMnkqrmn2AvCOSfCWbwIJaka\n",
       "y2hxMRft1tPWDQWNZ8wqY2Sa5HQOGW9Ghr2+p0hsnREvaGLAVfaz1Eh7BtkK8CuoHRWRu6tNjURu\n",
       "i6SQnWzaglUJX20+NcfNrWHj6FQkpgW///QWNEo0KFi5ju9KMCeEk5zOsX2b1CVvlNF6bYIZHY8b\n",
       "xFI0LBUZdPNy3XzwOUkJlthUM3XBnlRgF1H3KM8l5MMCKTjzwJNPshTzc4zQZtqCcrRyMXUNu24+\n",
       "UBFhdxIR2SsLDsUjmgv3ih7vzhgZ6RTP+2K7tStIRthvMN4vOVuJ7PLLg0Ug5c22fYen5ib4Deou\n",
       "71Lu25CRxBtlmxEXBtvHLCgCrYHiqzvvg9xuCt2G3EpkN1rSqDOnaOQwHyjo4RMl8j/rHrWtehsi\n",
       "V7IfaEK7sT/RNBphfb7y4+GH7umiGiQH3QD/uZKbb635W40MTw/sFRl9KN5mZfH0+7J2enjIayea\n",
       "pLYkzq9vSRv+83LT06N8l6ffGYaTbxh6KlUTiKcHtmvO+wueFiPm3MmrwAAAAABJRU5ErkJggg==\n",
       "\" style=\"display:inline;vertical-align:middle;\" /></a><br>(see <a class=\"ProveItLink\" href=\"../../../__pv_it/theorems/220eda8e51918c578e1f038b656d779f4108bd9b0/dependencies.ipynb\">dependencies</a>)<br>"
      ],
      "text/plain": [
       "<IPython.core.display.HTML object>"
      ]
     },
     "metadata": {},
     "output_type": "display_data"
    }
   ],
   "source": [
    "%proving frac_in_zero_set"
   ]
  },
  {
   "cell_type": "code",
   "execution_count": null,
   "metadata": {},
   "outputs": [],
   "source": []
  }
 ],
 "metadata": {
  "kernelspec": {
   "display_name": "Python 3",
   "language": "python",
   "name": "python3"
  }
 },
 "nbformat": 4,
 "nbformat_minor": 0
}