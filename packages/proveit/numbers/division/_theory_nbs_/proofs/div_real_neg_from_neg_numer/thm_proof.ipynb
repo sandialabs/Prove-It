{
 "cells": [
  {
   "cell_type": "markdown",
   "metadata": {},
   "source": [
    "Proof of <a class=\"ProveItLink\" href=\"../../../../../_theory_nbs_/theory.ipynb\">proveit</a>.<a class=\"ProveItLink\" href=\"../../../../_theory_nbs_/theory.ipynb\">numbers</a>.<a class=\"ProveItLink\" href=\"../../theory.ipynb\">division</a>.<a class=\"ProveItLink\" href=\"../../theorems.ipynb#div_real_neg_from_neg_numer\">div_real_neg_from_neg_numer</a> theorem\n",
    "========"
   ]
  },
  {
   "cell_type": "code",
   "execution_count": 1,
   "metadata": {},
   "outputs": [],
   "source": [
    "import proveit\n",
    "theory = proveit.Theory() # the theorem's theory"
   ]
  },
  {
   "cell_type": "code",
   "execution_count": 2,
   "metadata": {},
   "outputs": [
    {
     "data": {
      "text/html": [
       "With these <a href=\"allowed_presumptions.txt\">allowed</a>/<a href=\"disallowed_presumptions.txt\">disallowed</a> theorem/theory presumptions (e.g., to avoid circular dependencies), we begin our proof of<br><strong id=\"div_real_neg_from_neg_numer\">div_real_neg_from_neg_numer:</strong> <a class=\"ProveItLink\" href=\"../../../__pv_it/theorems/9fc2ced4bb34a70e7762574f658ac01660f8873f0/expr.ipynb\"><img src=\"data:image/png;base64,iVBORw0KGgoAAAANSUhEUgAAAMwAAAAmBAMAAAB602klAAAAMFBMVEX///8AAAAAAAAAAAAAAAAA\n",
       "AAAAAAAAAAAAAAAAAAAAAAAAAAAAAAAAAAAAAAAAAAAv3aB7AAAAD3RSTlMAq1RmmUTNIjK7EInv\n",
       "3XZ/CtNrAAAACXBIWXMAAA7EAAAOxAGVKw4bAAADVElEQVRIx6VXTWgTQRR+6e52/9Ld4EGQgiwI\n",
       "eqoGhEKL1Gij9GBttOBBD414EIXWFEQUi8aTFJUuimhabVcUobbSoNCioMQfqFUET4pKIL30UKGU\n",
       "+lOpGJ3d7GYn23YnZAYym/nm7Xwzb773ZhaApuwsw0Y6DpSFDaGq+/k5f6srBiVNPfpxkzDkPw4T\n",
       "omMR3qJqNAytBLurdDTVaVS1AXwl2I3SeW2L+foUSD/L2cLKi7kKKQ/MPMGOX6TamiWTZgEC8U0E\n",
       "ywEamoBu1oNQF4kQLLfR0Khhs77z7eL6pEfnU0OdU2EMOK+BtT0bKqHpS6zWo3fDvgZMXjUR2GU+\n",
       "j1ZCs33VHv0siEIIelOomHNh43DBlIJeCc1aPxo2EXfbyjxUo8XJWiU0L7yAcjv70aXBpl71Gxi0\n",
       "V9UVSeCPp811Ge5qAg+wmBQWAN5ns+8qovnuaZ8yMKf1bsQEIiHTFoD+soeWsdhe8PS5OtJ7Ov/O\n",
       "4l15dF4AX37OYUs9UVLimAS23vf6VzTkGIbUje/owsY6VgpjNJyVMdV/ZrFMkfezn20a8S4envAD\n",
       "ySBXVIAwnYopMkykXYPaUthnNZKOrUaI9HtoIN7ktKIoaygKNOb4aDRqxS28wWE52mrDKzntAx43\n",
       "LWc8ewOPzDvBSNMEKOZC0XizbioU8tMGDmOr4b1Km8NphpWwR5Q9SAHSJ2ERhq0Yk/lB10L5okRw\n",
       "GKOR8t7DtBjk+kkUjtc9ogwgn7ARIQPt1njsABa/YpiJ4zBGA6+9N6V1B4sZ+gakTripRXDO12BM\n",
       "CUE9ynSaosj73VeDSTaEw1jcQEGE0q3innBP7GTjLVVL9p+xhNhoXLKmrXCH3ByuQlBbAbbKHttX\n",
       "EXJQOzMJJvraDdGwNgGeOi+OQI3RAMtg5yAo0KrkvCs68c81b34M/E3078BM+t5uG72sCXtzy2HH\n",
       "A4XxO8jXI7UkVmEklYqVANrKsD3HwuqekVNUR8K3m/OdKJOxHofn1pBoxv27Gf+rviVT6ZcxliDQ\n",
       "vKS6Do7bYg3m/O2UDBVNMFm4Tqhpgp1GRcOYJ0xNGjoIw8xQft8cKYRNm7+k+UlKmodo79Wk9Ipg\n",
       "pVHS8OgICYRFQra5RvvtCaeRoGubCZ+4Zmj/B4iL3YpE6M0eAAAAAElFTkSuQmCC\n",
       "\" style=\"display:inline;vertical-align:middle;\" /></a><br>(see <a class=\"ProveItLink\" href=\"../../../__pv_it/theorems/3365ce2e710111f256aa476ae794449be9db370b0/dependencies.ipynb\">dependencies</a>)<br>"
      ],
      "text/plain": [
       "<IPython.core.display.HTML object>"
      ]
     },
     "metadata": {},
     "output_type": "display_data"
    },
    {
     "name": "stdout",
     "output_type": "stream",
     "text": [
      "div_real_neg_from_neg_numer may now be readily provable (assuming required theorems are usable).  Simply execute \"%qed\".\n"
     ]
    }
   ],
   "source": [
    "%proving div_real_neg_from_neg_numer"
   ]
  },
  {
   "cell_type": "code",
   "execution_count": null,
   "metadata": {},
   "outputs": [],
   "source": []
  }
 ],
 "metadata": {
  "kernelspec": {
   "display_name": "Python 3",
   "language": "python",
   "name": "python3"
  }
 },
 "nbformat": 4,
 "nbformat_minor": 0
}