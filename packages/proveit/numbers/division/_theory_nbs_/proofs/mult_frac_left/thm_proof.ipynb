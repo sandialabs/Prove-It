{
 "cells": [
  {
   "cell_type": "markdown",
   "metadata": {},
   "source": [
    "Proof of <a class=\"ProveItLink\" href=\"../../../../../_theory_nbs_/theory.ipynb\">proveit</a>.<a class=\"ProveItLink\" href=\"../../../../_theory_nbs_/theory.ipynb\">numbers</a>.<a class=\"ProveItLink\" href=\"../../theory.ipynb\">division</a>.<a class=\"ProveItLink\" href=\"../../theorems.ipynb#mult_frac_left\">mult_frac_left</a> theorem\n",
    "========"
   ]
  },
  {
   "cell_type": "code",
   "execution_count": 1,
   "metadata": {},
   "outputs": [],
   "source": [
    "import proveit\n",
    "theory = proveit.Theory() # the theorem's theory"
   ]
  },
  {
   "cell_type": "code",
   "execution_count": 2,
   "metadata": {},
   "outputs": [
    {
     "data": {
      "text/html": [
       "With these <a href=\"allowed_presumptions.txt\">allowed</a>/<a href=\"disallowed_presumptions.txt\">disallowed</a> theorem/theory presumptions (e.g., to avoid circular dependencies), we begin our proof of<br><strong id=\"mult_frac_left\">mult_frac_left:</strong> <a class=\"ProveItLink\" href=\"../../../__pv_it/theorems/d13d4983e56e474ba44d0fe469ade39eddc1fee60/expr.ipynb\"><img src=\"data:image/png;base64,iVBORw0KGgoAAAANSUhEUgAAASIAAAAmCAMAAABXhmYmAAAAOVBMVEX///8AAAAAAAAAAAAAAAAA\n",
       "AAAAAAAAAAAAAAAAAAAAAAAAAAAAAAAAAAAAAAAAAAAAAAAAAAAAAAACXHtMAAAAEnRSTlMAq1Rm\n",
       "mUTNIjK7EInv3Xbt5cmRiLwgAAAACXBIWXMAAA7EAAAOxAGVKw4bAAAEaUlEQVRo3s1aiZasKAxl\n",
       "XwIyM/7/xw7ghgoItmVVzut6ffvIFUNySbAQ+iFjpASuDAQ8PZkPUD7gIXwG4BwGZcyVv9TQ/EBl\n",
       "SnCMhv9wL+VbRkUGMIQcdogNl6Nx80oUKQ0iNlCNvZQvmbJwBlSGGQPC9HK8bkzMMqUik9+w7qR8\n",
       "y4TJABVWXbTlj23LixMljDPy461D80cP5UtGRiiAdcY9Ula3PeXAlt94uK8a1Q3KF2wwBcBHnxnQ\n",
       "sJwyXNhkRcoYXc7eoHxDidK4WQFojrCNQtpguuWqKqXGy0cP5Uu2SuQOkFEB88/Dm3ST2qaErlCG\n",
       "xOIj7aR8ydJ5bQCYc4gw2razyLHhuiolYONYmlyRcosqQr+ZZ7IAuvSMPTAVI46UjK8b7RelaanW\n",
       "zqCrPBd/9w5YcqRUSxhJ/U0pEiXQY2782ywGXwtgc6ZcujXzzVLS4hLoq63U32oz6rakSijpLEHi\n",
       "ix5CoymBPkV7fJknSjsEs1+tAPIb2nXPnnbmoZV4fMeZKFmMTv1MO1LdU6Bpu5bNsXDozL1zk8aC\n",
       "DYndbyQipcTLxx2F1Aw7uc2spvkm5rkxzlQzpDldTp35/RS9koAQQIZ3ZajD2hfyvprHvlIgSZle\n",
       "cdG0CtS7k+tT08SzYEzs1JifO3M0XhdGY5Ml10dK4jrFmrF55zAQZ0ebXIRj3WXD0GNt2BVFSYF4\n",
       "7MxH9nwUsXkzo/NCOMek/zdPwIV1XzNQDULysMBu7Q+omhZcZl20DpjYzCQ0QZAseSLRzp35p7Qo\n",
       "lERzceRkSGxB5v0C+edR6wSY4obFXnktGiQ5VuSpi5YBTAf7x//QuYkf6FGuaQFc9PaHzvz5HW2h\n",
       "lEux5qF2aI5bCWQIepxMPgYCX+dBgULFRcuAyfs0Oec4npJBuvw7cH2KlnTm8vm6aKXEW1WaykQo\n",
       "xrFLRHpyjIhRoQlSiquai5RLjmmWWwYXnR7FshKoVy37zlyN/GkXZShDXq23HPgsr2iJHhnkcQuN\n",
       "Wa6Tgid10TIgJNq//+mYaHm5RkKXQE9nvjvPfcaOlNLGG/pFhOiGQfkwRjOSgqhpt96qTGmitJts\n",
       "XbQNSJplvyF4353Uk9kS6OnMzfC4FJ0omePGuRAp8caEUS3QjBhQO52XSL1GFhifdUxlE20bsKvd\n",
       "fenI4HwYAgXQ05nr50/ja5TeKeCfT9MFpRJgQtZk8z6fI+RKgCFVJ2hV3WNn/rkNLWccolJzsaJG\n",
       "r2f/el2YalYC7caff19Ro6RRbpduqn11si4i1xvN7hx9B9TgJVHSRmm6sWfV+M0HjojuriOkm2sK\n",
       "QDijTZPI2DtVUZ3f/tIr6916JSBUDb64aDl0uPVCp8rvfugdEUoLsCOAJg/dX/Eyv/2t7z1kvzsT\n",
       "17mtH3F3ZaPM7wT6LRM0C2JLeB1G0t6UwTL/bcqPGQwyA0iMdXw9+GZOlPlvU37QZPrtwhkobbQz\n",
       "w+XLH32zaqzwa4p+z6Q6AV+YESsu6yq42+KX+VfK/wF0gykyM6krHwAAAABJRU5ErkJggg==\n",
       "\" style=\"display:inline;vertical-align:middle;\" /></a><br>(see <a class=\"ProveItLink\" href=\"../../../__pv_it/theorems/e6e27a8b54e9eb8179455b693c841652093724aa0/dependencies.ipynb\">dependencies</a>)<br>"
      ],
      "text/plain": [
       "<IPython.core.display.HTML object>"
      ]
     },
     "metadata": {},
     "output_type": "display_data"
    },
    {
     "name": "stdout",
     "output_type": "stream",
     "text": [
      "mult_frac_left may now be readily provable (assuming required theorems are usable).  Simply execute \"%qed\".\n"
     ]
    }
   ],
   "source": [
    "%proving mult_frac_left"
   ]
  },
  {
   "cell_type": "code",
   "execution_count": null,
   "metadata": {},
   "outputs": [],
   "source": []
  }
 ],
 "metadata": {
  "kernelspec": {
   "display_name": "Python 3",
   "language": "python",
   "name": "python3"
  }
 },
 "nbformat": 4,
 "nbformat_minor": 0
}