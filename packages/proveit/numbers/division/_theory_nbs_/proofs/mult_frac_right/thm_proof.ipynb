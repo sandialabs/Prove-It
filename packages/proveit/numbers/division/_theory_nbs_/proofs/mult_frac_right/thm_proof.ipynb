{
 "cells": [
  {
   "cell_type": "markdown",
   "metadata": {},
   "source": [
    "Proof of <a class=\"ProveItLink\" href=\"../../../../../_theory_nbs_/theory.ipynb\">proveit</a>.<a class=\"ProveItLink\" href=\"../../../../_theory_nbs_/theory.ipynb\">numbers</a>.<a class=\"ProveItLink\" href=\"../../theory.ipynb\">division</a>.<a class=\"ProveItLink\" href=\"../../theorems.ipynb#mult_frac_right\">mult_frac_right</a> theorem\n",
    "========"
   ]
  },
  {
   "cell_type": "code",
   "execution_count": 1,
   "metadata": {},
   "outputs": [],
   "source": [
    "import proveit\n",
    "theory = proveit.Theory() # the theorem's theory"
   ]
  },
  {
   "cell_type": "code",
   "execution_count": 2,
   "metadata": {},
   "outputs": [
    {
     "data": {
      "text/html": [
       "With these <a href=\"allowed_presumptions.txt\">allowed</a>/<a href=\"disallowed_presumptions.txt\">disallowed</a> theorem/theory presumptions (e.g., to avoid circular dependencies), we begin our proof of<br><strong id=\"mult_frac_right\">mult_frac_right:</strong> <a class=\"ProveItLink\" href=\"../../../__pv_it/theorems/04329622426b1871a525b7d55f0ba08f380d05320/expr.ipynb\"><img src=\"data:image/png;base64,iVBORw0KGgoAAAANSUhEUgAAASIAAAAmCAMAAABXhmYmAAAAOVBMVEX///8AAAAAAAAAAAAAAAAA\n",
       "AAAAAAAAAAAAAAAAAAAAAAAAAAAAAAAAAAAAAAAAAAAAAAAAAAAAAAACXHtMAAAAEnRSTlMAq1Rm\n",
       "mUTNIjK7EInv3Xbt5cmRiLwgAAAACXBIWXMAAA7EAAAOxAGVKw4bAAAEbklEQVRo3s1ai7KkKgzk\n",
       "/ZZ71///2AVERSXKOKxjandOtaU5GJJOhzkIvcgYgcCVGWF6L+YfuOwQIQyB6it4RuOP6T41NL+Q\n",
       "8R4bZS3p5/IpowICVbOIuHjjmB/AzTuBkMcesaGfy4dMOQOA+u1kekms8wXdWJhUxiAYhGk3l0+Z\n",
       "sBColwtCzqP8kS64trpQMZHKHDWj+NLlQ0ZGAwDIeLxJjaqZvVZbgpBsYB1cPmCDhQDIKXHzvVuw\n",
       "HGXj7+LxTmN6unyCicq8US1JhDSeP+YLLYE1miPsEjf3cvmQLRR5AKcagY8F6VLXVNDKsHAjJ91c\n",
       "PmTlurYAzgdsPSsrQY4NHcgw7xFhlLS7XLOK0F/WmQTAhTgSdd79wo4uGV8a7Q+paVZrR3D6KsaR\n",
       "A9t+GZ2KSzWnkdS/pCIBAbgFhsaNt2zqx+9WAbmcpzX7SynpMARg3qV+rYCFir/TZoBLmilI/DBC\n",
       "aLQQ+IzRum/z5NIN0dxPFQDQ0OChvN6txu4dZ3LJUnbqPuMIu5ir6rZp1wWAh3Ig0sVgwYbC7g8S\n",
       "yaXE88cN85phL9eVnXG+TXVurbenFbICeChvqdeeFBATyPKPKtRjHYR8UPM4vAUpZPpJiKZdoCGc\n",
       "XB+GJl4D+6F8mcnj0lcr3udaGI1NtndJ/IdkzVjuHNak/KFNIcJJd7n46F4bAll0GMqvtOHI+mcR\n",
       "y82M5oV4z2T4l7fTx31fKlANQvK4wX7Oe0PVtOGyGqLlgcmbnYgmEpIjrSECh/JHuShKoiyOvIwj\n",
       "pCC5naDwPmoZ5JjilqVZeRENkuwVeRmi+QGmo/0X/tM8xA90T9e0Ak6H8uvG2LXXylmsBag9ylUk\n",
       "DRkiHxeLT2vlyzqooeYkRPMDU/Rpcc6xPdKKJOMr4HQov2yMfWxxiVdVWtJEFOPYFyQ9BUakrNAE\n",
       "KcXVWYiUL45p5l8ZQ3R4Fccq4HQor+s83jtEFZexrpYgDTzTK5qzR8aDyzU1Ml0XgqcM0fxALLT/\n",
       "/+hUaHW6RkJD4KMBYux+1rx3KV0adsMmmhSGQQW6RBlJQdTUrVeVKW2idlvVResDxbAcGkKI3YE9\n",
       "mYPAR5P60J2KDi6Z59b7mCmp54Qk1wJlxAx103mJ1EtmGRuqjqlqoa0PbLR7kI7MHA9DDAA+Md3/\n",
       "NP7MZQiKCe+n6YxKdrWxaqp1X68R4i9HIQKA25PePxged3rXJKbmYkGNUa9evRammkGg3Xj/7yvO\n",
       "XNJEt/M01b471RCR60azOUdvPFRXQyBLSTeHhjd61s7L4Ryyu464fejAAQA/IrzVtuAKd6c+D162\n",
       "YuRNX1lv9qtp86KeCLJjFae3GuHey/Yc40XfEaFSgO3BSQqU73Z7xw0UoXcl0cd/O5MyoGyU/i5t\n",
       "SLDdeoHeZYJCAGo3tBD20t2kwY2XnZKWLwuRGSQAAOWWqgDP99+siY2X3Xpe9udFaWIxAKg2a221\n",
       "t0MmLX1TNW69bPULRe8zqSBQa4EhA5zI6sDcHfE3XrZJNF/8C+F5KSBk/H8YAAAAAElFTkSuQmCC\n",
       "\" style=\"display:inline;vertical-align:middle;\" /></a><br>(see <a class=\"ProveItLink\" href=\"../../../__pv_it/theorems/bc2512398639eaf8469298b086c689d429627cc50/dependencies.ipynb\">dependencies</a>)<br>"
      ],
      "text/plain": [
       "<IPython.core.display.HTML object>"
      ]
     },
     "metadata": {},
     "output_type": "display_data"
    },
    {
     "name": "stdout",
     "output_type": "stream",
     "text": [
      "mult_frac_right may now be readily provable (assuming required theorems are usable).  Simply execute \"%qed\".\n"
     ]
    }
   ],
   "source": [
    "%proving mult_frac_right"
   ]
  },
  {
   "cell_type": "code",
   "execution_count": null,
   "metadata": {},
   "outputs": [],
   "source": []
  }
 ],
 "metadata": {
  "kernelspec": {
   "display_name": "Python 3",
   "language": "python",
   "name": "python3"
  }
 },
 "nbformat": 4,
 "nbformat_minor": 0
}