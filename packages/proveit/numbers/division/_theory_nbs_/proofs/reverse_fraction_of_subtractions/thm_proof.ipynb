{
 "cells": [
  {
   "cell_type": "markdown",
   "metadata": {},
   "source": [
    "Proof of <a class=\"ProveItLink\" href=\"../../../../../_theory_nbs_/theory.ipynb\">proveit</a>.<a class=\"ProveItLink\" href=\"../../../../_theory_nbs_/theory.ipynb\">numbers</a>.<a class=\"ProveItLink\" href=\"../../theory.ipynb\">division</a>.<a class=\"ProveItLink\" href=\"../../theorems.ipynb#reverse_fraction_of_subtractions\">reverse_fraction_of_subtractions</a> theorem\n",
    "========"
   ]
  },
  {
   "cell_type": "code",
   "execution_count": 1,
   "metadata": {},
   "outputs": [],
   "source": [
    "import proveit\n",
    "theory = proveit.Theory() # the theorem's theory"
   ]
  },
  {
   "cell_type": "code",
   "execution_count": 2,
   "metadata": {},
   "outputs": [
    {
     "data": {
      "text/html": [
       "With these <a href=\"allowed_presumptions.txt\">allowed</a>/<a href=\"disallowed_presumptions.txt\">disallowed</a> theorem/theory presumptions (e.g., to avoid circular dependencies), we begin our proof of<br><strong id=\"reverse_fraction_of_subtractions\">reverse_fraction_of_subtractions:</strong> <a class=\"ProveItLink\" href=\"../../../__pv_it/theorems/6950a2dadf566e49af9eef7b97672e2eacf206df0/expr.ipynb\"><img src=\"data:image/png;base64,iVBORw0KGgoAAAANSUhEUgAAAT0AAAAyCAMAAAAZZPzOAAAAOVBMVEX///8AAAAAAAAAAAAAAAAA\n",
       "AAAAAAAAAAAAAAAAAAAAAAAAAAAAAAAAAAAAAAAAAAAAAAAAAAAAAAACXHtMAAAAEnRSTlMAq1Rm\n",
       "mUTNIjK7EInv3Xbt5cmRiLwgAAAACXBIWXMAAA7EAAAOxAGVKw4bAAAEuElEQVRo3tUbiZKlKIz7\n",
       "NrPL/3/sAB4oTxGne6Yj1f2qFEIg5CYSgr1Zg2xBzjrylkY5uiWZ6S3kox7hotj0DuJxhXJZnr6B\n",
       "eDponAub+AuoNwHShbGAX/XxgHZpSqCnXqgmw4HPwmJE1tm9c3cA1Bnv2ZDzMTD4HLOMGjnxIFYy\n",
       "+SQs2QTbvHDZAUqbBApEDJnFkcEXmBV2wzHVBRo2bzFkRag6x85TH09UH3ITRwZfYWYRt+YzsUYZ\n",
       "bl7+/GpVOU5NtS1jS/+om9MOPpvwFHN+HwE19ejBZpSzhvLqbtnhyb7uB19gtrhd5nDQLIVHbH5l\n",
       "ZB+uKHQ3KFcDgy8wc9R2w8SDNirLn3xR470IXs48OxLgDQ6+wOwiZo8Zjmfrs83L7ChlV8qME4kg\n",
       "csRhGRx8hTlgtrq2cZWF8OCo8N0TdwKAMMHHvL3BwReYs+KrBGS4ODFY5A6Vj4mwGzsqVFrQReyx\n",
       "EE++s1mZT+M6a4Pcn1pWqBZzPRYZ/rssRmTIqVekgy/qTmGTC4OceiRmsQ0lMAnIUuCAPolBYtZ1\n",
       "ohwytosi/31RuNhFr9M3Omkhi6um68/faF3L2SGQiOizt9O0sp2X3yVxVlDQ1V72LHkPKY0HIfmT\n",
       "dit5X5x0Kv48gy/bDAPUpqgxhY40qStm/Qj1uvxOI0HPe2Ext/xrzpUQi4H0rkzEh6hHe3ZB4Nd7\n",
       "s+QmV29x+iTQHP4Rt90EAgid/kjtrrGdmZQukTOsMZ7jSxJHn1GvAZe+maaxGuhtbpgFVi/pgsQ4\n",
       "6cR52rBadgM6J/QV23WbLXoXRnpRMj2bi6tZu+dKvQoubG6/0j/fTdN6LOj9vTXJQueVapdrDCgU\n",
       "qs0+a9o+kGUfczfsuEkX9pFbeoE77i6p14ADb6Z5n7fcnnkuGwnykILeS1DuprCzFfNGVeEly4gx\n",
       "0lxS7wheGXadpo3UJHLiudge+iTTy5nn1q2FnRZL3SRs9Mk8pxOvmTrLYjV2jpw9zl7As+T+979d\n",
       "JHedpo3BsRc7fOYxlCEyzld1zmeFSLwqHq8rFJrm7vlJK2akPcYp2hcL48/9vRU8o96MR53mRi6w\n",
       "tc88hqTAueeyMF3qFCA9gFueciLWqq3P8TDnBHWtUHQ+ibEw55K7gh8IXqdpxEAhp95NJM7aJ5eG\n",
       "W37S53wWw1NFtaPeHvzev6QBOfX6/rx07VPS+FKd9PXajnoVfCS04Y277EBkyrsbd9fke2z9QGfe\n",
       "A1xg7l8d8I8nycGf9Q1Sr4KzAXtqGrWy1JPwfgTnFHj7pDhxAOAcs/4Xye8/jxiON35rPQntXyAU\n",
       "4+0fBHn3ABeYcd+GExGaZFYpmtgqJ86KThYl/DBC3gF0Klnamg2KuxKjrTSTWRGa2xBEPxWoe4BT\n",
       "zNhvraajx1fqSeDOEpew8QnzDQCcYebYs7fNAks9ib0xCKyYmgdWYwTgDPOEvmz+eFMlcinJTfxm\n",
       "rLfgp/EEwxDACWb8lbcN8znqQdws2udydvUgvzAEcILZvuCLDdVmMfyPhW9HzDK+4GMrs/vaJS/f\n",
       "BfZDhGswT4y8oO1SsfnLl5/5au0T8zu+tNqvmnEQP5Mw/cAsFXlJU/hkxKj3fKCL7+vmSrzfU9sx\n",
       "UPYakLsAAAAASUVORK5CYII=\n",
       "\" style=\"display:inline;vertical-align:middle;\" /></a><br>(see <a class=\"ProveItLink\" href=\"../../../__pv_it/theorems/fe6eddd6b13c5243a810fddc38cd687d7804ea790/dependencies.ipynb\">dependencies</a>)<br>"
      ],
      "text/plain": [
       "<IPython.core.display.HTML object>"
      ]
     },
     "metadata": {},
     "output_type": "display_data"
    }
   ],
   "source": [
    "%proving reverse_fraction_of_subtractions"
   ]
  },
  {
   "cell_type": "code",
   "execution_count": null,
   "metadata": {},
   "outputs": [],
   "source": []
  }
 ],
 "metadata": {
  "kernelspec": {
   "display_name": "Python 3",
   "language": "python",
   "name": "python3"
  }
 },
 "nbformat": 4,
 "nbformat_minor": 0
}