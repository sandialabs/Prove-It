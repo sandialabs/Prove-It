{
 "cells": [
  {
   "cell_type": "markdown",
   "metadata": {},
   "source": [
    "Proof of <a class=\"ProveItLink\" href=\"../../../../../_theory_nbs_/theory.ipynb\">proveit</a>.<a class=\"ProveItLink\" href=\"../../../../_theory_nbs_/theory.ipynb\">numbers</a>.<a class=\"ProveItLink\" href=\"../../theory.ipynb\">division</a>.<a class=\"ProveItLink\" href=\"../../theorems.ipynb#div_as_mult\">div_as_mult</a> theorem\n",
    "========"
   ]
  },
  {
   "cell_type": "code",
   "execution_count": 1,
   "metadata": {},
   "outputs": [],
   "source": [
    "import proveit\n",
    "theory = proveit.Theory() # the theorem's theory"
   ]
  },
  {
   "cell_type": "code",
   "execution_count": 2,
   "metadata": {},
   "outputs": [
    {
     "data": {
      "text/html": [
       "With these <a href=\"allowed_presumptions.txt\">allowed</a>/<a href=\"disallowed_presumptions.txt\">disallowed</a> theorem/theory presumptions (e.g., to avoid circular dependencies), we begin our proof of<br><strong id=\"div_as_mult\">div_as_mult:</strong> <a class=\"ProveItLink\" href=\"../../../__pv_it/theorems/abefb2e9cae66b7b5660367da428da42f3bca1990/expr.ipynb\"><img src=\"data:image/png;base64,iVBORw0KGgoAAAANSUhEUgAAAQsAAAAyCAMAAAB8iQ6xAAAAOVBMVEX///8AAAAAAAAAAAAAAAAA\n",
       "AAAAAAAAAAAAAAAAAAAAAAAAAAAAAAAAAAAAAAAAAAAAAAAAAAAAAAACXHtMAAAAEnRSTlMAq1Rm\n",
       "mUTNIjK7EInv3Xbt5cmRiLwgAAAACXBIWXMAAA7EAAAOxAGVKw4bAAAEaklEQVRo3s1biZajIBDk\n",
       "vu3d5f8/dsETYgRGR5E3kzd5kxYsuosqMAh1b1r17N1og17TMO3bvxpeAwa2vUdAhpdAQUX/MVj8\n",
       "Ciikky8YxUDfgMUAbxgFcS+gDOreUamC9R+DS4jTAGCjrCUdxsF991IFn+RmmBrAgFgXVhfd6XNI\n",
       "RkDDzNCATR+5QXxnxlA+UZzxT9ZtgTW+M4njT+Z09w/IHAga3VlwOfyFwUxjslJ+KhUBhoWd8sv1\n",
       "ZU/laWqR+JQnjZKcnF0FZ8Ut9WeRdNVbkE4F8cqwgAVvW1LNaWZZ3AeFcpI+7NVTujAMIEw2bVQX\n",
       "ml7FAn3Y00gYGxzk4Sxx+oKNue5KIU8E6wOJrBwknmUP488LX/YDo6/00mSGhcklBfUcqQUeqZ9N\n",
       "C3VhSff8el4gQXfDETM8TxsB4sl5GM0vYMH0Lk3pDM/Tmo/60/uccFoYSSu8nfMRctLxsUDcEJt7\n",
       "eq8NzqsbLGrW1gCLU2xw0Zxm2eVjmrBxfh7fDrb1RGdD0pLb0rpmbS0ibsy9VjsUUiICLPHycpLU\n",
       "i6vFcdj5op8d9rG1VWQCCJfWA5kz8DAsKWGbmRk0wyCTNaDU33RZa2FfgTibM5+0utdn362t8WKd\n",
       "gdHnFc2e+cBipA8CdeZUgHWwDME34DAbRNsmLKZsi3KX6zIWZ3de8rsdWEYGqkjPMv/vhEUAglbW\n",
       "esbmOGvGT9I2LPBIjy7G7piSneeLDYtDazvmC7jyyiz3NRKkxSIyAJgMP3NHo0yNv0BX+6+mxJJf\n",
       "sdgiprd2wj9e3JEdd55fR3TV2mq8vLSuI07M8n4OAhn7EWRel1D4tHKx11WpSLK7A52sZEsEG0Xv\n",
       "n/BLZ2W0O4OAC/rCVa0tw/Fmiw7rYxN+wQDPwwqxGtD8Rpqo0SDcKl+vSQ01x1hsEdOQaaISdzR2\n",
       "QWtNM1q0tgZbYOXMY3nWfLFHaXw86wzrN6JiMjcEKcXVMRZbxJTDC0fFke8UN7lgKlxTqC0vCLkf\n",
       "MX5XajHBVzQGPhGf2j42c2eqG1IslohYI3//6bFGDrhTXdhJqvrUCINxpOyTTckqSjdeJCSLGTsb\n",
       "VEjHXJRKOzKrPdAXawTaDHAg5JDWexq74NlVbf8ink1WTvApLltFBtwCxJV5xDQUoxaTn18rw9hQ\n",
       "MEwd1MgakYn6oLXYft0bLrhBXPG4hAKr1NEgm+1R6MzIdTPN2Jjv36+eYJFEkOruBL5wmGouu+pP\n",
       "RVWQftyMJMgb+kywSCLqgTQr2BZnmU7VRVu927kq7DjGcXEKLT2mWmuNIHWmV1mFtjjLbID8Ehaf\n",
       "NSt/5+DstHxMt+GbnOWtO0t9T9qZy7x93Vne2HDnM0Seqa0GZ3lj6322nFjsNmd5Z4n0fkopG0GD\n",
       "s7xxVvo/ypduODc4yxurtf/jhGliNDjL25p+wxOewv7EWd6XFm94DFqtz7o2OMv72IKgN7R146fB\n",
       "Wd7VXvIM9Hb/Dc7yrgoR6C1NdE5QJV70BZLO36XZoPgPoHskYxhr0Z4AAAAASUVORK5CYII=\n",
       "\" style=\"display:inline;vertical-align:middle;\" /></a><br>(see <a class=\"ProveItLink\" href=\"../../../__pv_it/theorems/4a94c3d03fbdfc3a8b944789783e21f660df71d40/dependencies.ipynb\">dependencies</a>)<br>"
      ],
      "text/plain": [
       "<IPython.core.display.HTML object>"
      ]
     },
     "metadata": {},
     "output_type": "display_data"
    },
    {
     "name": "stdout",
     "output_type": "stream",
     "text": [
      "div_as_mult may now be readily provable (assuming required theorems are usable).  Simply execute \"%qed\".\n"
     ]
    }
   ],
   "source": [
    "%proving div_as_mult"
   ]
  },
  {
   "cell_type": "code",
   "execution_count": null,
   "metadata": {},
   "outputs": [],
   "source": []
  }
 ],
 "metadata": {
  "kernelspec": {
   "display_name": "Python 3",
   "language": "python",
   "name": "python3"
  }
 },
 "nbformat": 4,
 "nbformat_minor": 0
}