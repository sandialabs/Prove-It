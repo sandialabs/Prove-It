{
 "cells": [
  {
   "cell_type": "markdown",
   "metadata": {},
   "source": [
    "Proof of <a class=\"ProveItLink\" href=\"../../../../../_theory_nbs_/theory.ipynb\">proveit</a>.<a class=\"ProveItLink\" href=\"../../../../_theory_nbs_/theory.ipynb\">numbers</a>.<a class=\"ProveItLink\" href=\"../../theory.ipynb\">division</a>.<a class=\"ProveItLink\" href=\"../../theorems.ipynb#div_neq_int\">div_neq_int</a> theorem\n",
    "========"
   ]
  },
  {
   "cell_type": "code",
   "execution_count": 1,
   "metadata": {},
   "outputs": [],
   "source": [
    "import proveit\n",
    "theory = proveit.Theory() # the theorem's theory"
   ]
  },
  {
   "cell_type": "code",
   "execution_count": 2,
   "metadata": {},
   "outputs": [
    {
     "data": {
      "text/html": [
       "With these <a href=\"allowed_presumptions.txt\">allowed</a>/<a href=\"disallowed_presumptions.txt\">disallowed</a> theorem/theory presumptions (e.g., to avoid circular dependencies), we begin our proof of<br><strong id=\"div_neq_int\">div_neq_int:</strong> <a class=\"ProveItLink\" href=\"../../../__pv_it/theorems/1b1be76c0ba4e1f2d7bb7075872b13cf6093bd4b0/expr.ipynb\"><img src=\"data:image/png;base64,iVBORw0KGgoAAAANSUhEUgAAAPgAAAAmCAMAAADeO6ZmAAAARVBMVEX///8AAAAAAAAAAAAAAAAA\n",
       "AAAAAAAAAAAAAAAAAAAAAAAAAAAAAAAAAAAAAAAAAAAAAAAAAAAAAAAAAAAAAAAAAAAAAAAeYafp\n",
       "AAAAFnRSTlMAq1RmmUTNIjK7EInv3Xbt5cnn9enzas/lfgAAAAlwSFlzAAAOxAAADsQBlSsOGwAA\n",
       "BB1JREFUaN7VWYmO2zgM1WndbLu79f9/akX50GEn5mCnQCRkMnBAUnriTTM22VLif7H7xbMpl+I7\n",
       "AADubQiEa/CgJP7bOG2aErlcjgtgDDgwlZ55AhMRWdddBJ8Qt427uqRBJJ5x+cwjtuvhbv/BifmA\n",
       "L+FAg0pfaF7NWAS2f5Uf4nTGLtb2yCeSp6WRza52jBPzrBQ6ONncPUV5xTQgns8GOafy8FPh3mnG\n",
       "YwlchOX48XX8EOYCfoanbPPWqwxck+IUmrZemzAo41zA69m9AmBCyVe4VecBngdQrXmbNTNWCxDy\n",
       "0y2d6prWXZN5lwJSLgOUPnPFh7v8UYEQnNqOmH0UY7izh8qN+3QXX6gK79NVymmP9+EM8A6Pqj18\n",
       "ekETqenX9aYrJFSzPoNjtqDdtZcPx81WYhLSnBAuUMsx4Yofn9tWYvAlxCpfZKkSCtz3FLDqoWym\n",
       "lNb3q+Sgt1sXBaZ//sXvB62vWO4afnx9Pd5EF1T+NP71rj/UhB6y0IQA4d48v0Xhh9ugsimHag4B\n",
       "3OWqkaW8SfDgScApd7vRyKwP7S6tRj3i2qyRbLS5W9K1UAn4YmhTak+UEttd0/reG+CcoIqNJqL4\n",
       "sVwhapxWjWzAM2q5t3g+SAgnK4Ay+bNfJaA28A9k59TdFbfAO3amwyDmZsONxpRmJIovAi8+/t/v\n",
       "zdMpPo4pfE/mPtturQzBYF+wiH1yxfJ5bMTWqC2njLAvgJ/syuH6kf9kI6bfsKXZurAkx+BGierE\n",
       "WeIuyxy1gVKsHgoN2QHbcRkvUgaTgenmABlHH4Ua4B37YSZVzM2GO80GfJwz+JUweBCKhPvMEHw/\n",
       "XtQ4w2tvpvEYLPs44MCvaKeMrkKObd04oPfxyl7N5BBz3fCg2Uz9YtlRfZvC7aqHS80HdbLiQGWc\n",
       "Z096Czu26lgLi0oKL4Dv7GjGP3+5YsZVTL9hR3Mb3Njy3EwIYhXWz7DwUtHjtPQ55qADlMZGsfKU\n",
       "T2xzSulrnVAim053pl7Z+77hEFOEnht2NAB3haeK36VwFtIlCUoBAZMUxlQFOgAm6fKEjb9btj7u\n",
       "yGaccwhu4bc+frL3deEhpgg9N+xpcgGj/LUtfYIlqWW3exP0xfjki1XuOQht8rbkuTdHUeNSI0a8\n",
       "onlVYD8lcvJLkjcJQvvxKQck/Vzm3ANv+KqYfgtCCeWeopsl4tZvZjny8qQlECzpFrhojKOKkS9p\n",
       "Xp0pdsVtAEOcrI+04S+04H9zfOWbJKQjusxKsu0LbZztJVLVlI+loU6k+xppYbLpMqv5n6mSVxMp\n",
       "il9o43xvDc+3xNENpv/utgZaWNh8a5FN3U6bN4+0JpoJgWM3d6Z0vjBBma91tD5N+Hoc9bVVpbnt\n",
       "YyIpRmnGelon2ZzLlPjmc6lsDQdKydLR+sPV/wBVwiVdjUeMrgAAAABJRU5ErkJggg==\n",
       "\" style=\"display:inline;vertical-align:middle;\" /></a><br>(see <a class=\"ProveItLink\" href=\"../../../__pv_it/theorems/0f0ffe35cf5c558cade2f3cbf3c4642c520ff5900/dependencies.ipynb\">dependencies</a>)<br>"
      ],
      "text/plain": [
       "<IPython.core.display.HTML object>"
      ]
     },
     "metadata": {},
     "output_type": "display_data"
    }
   ],
   "source": [
    "%proving div_neq_int"
   ]
  },
  {
   "cell_type": "code",
   "execution_count": null,
   "metadata": {},
   "outputs": [],
   "source": []
  }
 ],
 "metadata": {
  "kernelspec": {
   "display_name": "Python 3",
   "language": "python",
   "name": "python3"
  }
 },
 "nbformat": 4,
 "nbformat_minor": 0
}