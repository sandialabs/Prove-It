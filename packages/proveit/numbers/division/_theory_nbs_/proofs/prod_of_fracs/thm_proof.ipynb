{
 "cells": [
  {
   "cell_type": "markdown",
   "metadata": {},
   "source": [
    "Proof of <a class=\"ProveItLink\" href=\"../../../../../_theory_nbs_/theory.ipynb\">proveit</a>.<a class=\"ProveItLink\" href=\"../../../../_theory_nbs_/theory.ipynb\">numbers</a>.<a class=\"ProveItLink\" href=\"../../theory.ipynb\">division</a>.<a class=\"ProveItLink\" href=\"../../theorems.ipynb#prod_of_fracs\">prod_of_fracs</a> theorem\n",
    "========"
   ]
  },
  {
   "cell_type": "code",
   "execution_count": 1,
   "metadata": {},
   "outputs": [],
   "source": [
    "import proveit\n",
    "theory = proveit.Theory() # the theorem's theory"
   ]
  },
  {
   "cell_type": "code",
   "execution_count": 2,
   "metadata": {},
   "outputs": [
    {
     "data": {
      "text/html": [
       "With these <a href=\"allowed_presumptions.txt\">allowed</a>/<a href=\"disallowed_presumptions.txt\">disallowed</a> theorem/theory presumptions (e.g., to avoid circular dependencies), we begin our proof of<br><strong id=\"prod_of_fracs\">prod_of_fracs:</strong> <a class=\"ProveItLink\" href=\"../../../__pv_it/theorems/ddd757e1f650db7c8c8492b2f044bc90ab7a949a0/expr.ipynb\"><img src=\"data:image/png;base64,iVBORw0KGgoAAAANSUhEUgAAAVwAAAAmCAMAAAC/BtMNAAAAPFBMVEX///8AAAAAAAAAAAAAAAAA\n",
       "AAAAAAAAAAAAAAAAAAAAAAAAAAAAAAAAAAAAAAAAAAAAAAAAAAAAAAAAAAAo1xBWAAAAE3RSTlMA\n",
       "q1RmmUTNIjK7EInv3Xah18O1XjQ+CwAAAAlwSFlzAAAOxAAADsQBlSsOGwAABTlJREFUaN7VW4vS\n",
       "oywM5So3zX/x/d91AbWgBqQtdtbMTifj1vPJSchNSkgnYbMXTu4XwXD9DbGDveHBclQR2Oj3Rxgl\n",
       "PxFBz7oFoFY7V6Taggh2t9u9enpj4WX0A+wBdXwcuXxAdEEIUCBiKt3lCBvDDfPr1jeetox+hN2j\n",
       "Po5cnT3xS+cqLNASWopKmi3UUPO6ZJoDShn9DLtDfRy5g0N0HdxrqG1sv1Ig68d6qXnpR3Q7D0XY\n",
       "HerTyGVZkmC7hJHxhokMX9azxmP3pezQJ1GGzVGfRu7kcN2v0m9eW15NdD0Ysysq3NEoRfQTbI76\n",
       "MHJ15qxJt0YSOsb8UhRDt490ybXVCjX0M2yG+jBys4SU6WzWVvjlS1Yv4OS+DOdjYySqoJ9hM9SH\n",
       "kZsvI+lWABAmeC3/W+pA7AOBmpsKhir6GTZD9eQmThj/mtxeYKWooFC9UdyhoMgS0zdygE2onlwh\n",
       "X6WN+prcXmCFinPG9TYC7MiQbPQ1r0fYhOrJ1Zu3KfN9WOgFVgi5A643VBm+lKLHjATztw+EwSbU\n",
       "EHO3cYNj35PbC6xQbVJcb3g4DmlTZanq2zyDwCbUQC5fo+OXm2QhtxNYIZ85XP84hN/hAQk1Vgvj\n",
       "FGR0PcjtBPZOsfCx2FsmpAk1kiuiHxvbhdw+YKjktZPq4XVz1tSKKRPaBTWSq+j20SJgBAUFJXLf\n",
       "A0MMH3xeAQNV3cZdtvR8z/5yuyYi+JmT9UgC1Pg+0DeD1K+aIa3j1kQ0gNWsJba0OCAdvkT1OZPz\n",
       "6Gr///l3yHxd6M6tQs6oC7kMrjKQEGsKdDaywMvkXoPVrMVlHNyhzeNbntvSIcziFs/dk+vJ4Kvn\n",
       "AAjl/63uAWvXBVuMtlwvHqPK7W8Ce89aTgjxz7/C1zYqTKAnfX9Y+EHMDVXpWp/6SEcNGZYH98ue\n",
       "fZMxeu96MaiYupotvMCIngYlZWYoK7xXBoCStRajL56rzgmNo3qX6uOGmmYlV20lub9ugKw+oyyb\n",
       "Qkgk8vUQ3HJ7Re4LzFcO0q17ZDEU91YaYixArOU997//RfDcGFYGpMgBVO9RfdxR02yBjaY9mA9E\n",
       "QmtHgfDBRGFEa6kvp2IZmNpi82IojxU2R8ladotWvlrgyA4ZBa5/XO7LG8hNqEjWGLOAOvnvjZro\n",
       "lL7WEEls08hRw95Qo8cLlwrWEhfV8WBw/dPKfL6jGk+oB3LVGAc9Yi03Q1KR864nUC5mOwct5AYH\n",
       "VTYZys5L5ClYi185khhx/dOZ1nRHyE2oR88VIB1AeOkWB2lMcDPEGZdORb73OqFJA7lqYFqazVDD\n",
       "Yqhlu7dYCxs5WlT/UMwt4/2EWnkT4cm1ftmGL5SGXSwb2t/cUpaPYay7GEpS4Nyt3tliLaxtZ6j+\n",
       "dxYLFXKljflHNo+3aq95kINA19bCvELg+kci5xvm+TlqmVweYya0d98VcmWvxJG/U9y9X9STTw+q\n",
       "5IkWXIz03hwsHedyjX5Twr5E/c0Lym7bz2bF004fwBlXfID1SFd4X5zNJMa2uFLEvkR92qGQ3Nsy\n",
       "PZYkrrSW7UhXPDbzercHjeVGCfsa9XFnxUaN6z6IF5eyHulaTh2JNx33gH06KFZBfRy56AnS2NNd\n",
       "FvaLU23fg/YXUapwUOwK9XnncweO6bGfvjgpFgvQdUzk26XmUqGIfYX6PHLtpM46i5uR1gv7eHDP\n",
       "bXc2B4Uy9hVqT3J/9JsIlf3yYNW1cQbcVG5EXMjoYVi3DUBN84NWsGuonX8T8TNR+qh7x2HjUOtI\n",
       "hHBgqXDr6m1791LDvkT9Az2TN1W8dUCJAAAAAElFTkSuQmCC\n",
       "\" style=\"display:inline;vertical-align:middle;\" /></a><br>(see <a class=\"ProveItLink\" href=\"../../../__pv_it/theorems/1e3f91cbf35c9a865daa226e5a02b7a8177453d20/dependencies.ipynb\">dependencies</a>)<br>"
      ],
      "text/plain": [
       "<IPython.core.display.HTML object>"
      ]
     },
     "metadata": {},
     "output_type": "display_data"
    },
    {
     "name": "stdout",
     "output_type": "stream",
     "text": [
      "prod_of_fracs may now be readily provable (assuming required theorems are usable).  Simply execute \"%qed\".\n"
     ]
    }
   ],
   "source": [
    "%proving prod_of_fracs"
   ]
  },
  {
   "cell_type": "code",
   "execution_count": null,
   "metadata": {},
   "outputs": [],
   "source": []
  }
 ],
 "metadata": {
  "kernelspec": {
   "display_name": "Python 3",
   "language": "python",
   "name": "python3"
  }
 },
 "nbformat": 4,
 "nbformat_minor": 0
}