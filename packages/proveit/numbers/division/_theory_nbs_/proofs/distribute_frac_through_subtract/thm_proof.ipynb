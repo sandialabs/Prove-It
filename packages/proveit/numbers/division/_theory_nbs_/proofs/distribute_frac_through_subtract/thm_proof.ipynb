{
 "cells": [
  {
   "cell_type": "markdown",
   "metadata": {},
   "source": [
    "Proof of <a class=\"ProveItLink\" href=\"../../../../../_theory_nbs_/theory.ipynb\">proveit</a>.<a class=\"ProveItLink\" href=\"../../../../_theory_nbs_/theory.ipynb\">numbers</a>.<a class=\"ProveItLink\" href=\"../../theory.ipynb\">division</a>.<a class=\"ProveItLink\" href=\"../../theorems.ipynb#distribute_frac_through_subtract\">distribute_frac_through_subtract</a> theorem\n",
    "========"
   ]
  },
  {
   "cell_type": "code",
   "execution_count": 1,
   "metadata": {},
   "outputs": [],
   "source": [
    "import proveit\n",
    "theory = proveit.Theory() # the theorem's theory"
   ]
  },
  {
   "cell_type": "code",
   "execution_count": 2,
   "metadata": {},
   "outputs": [
    {
     "data": {
      "text/html": [
       "With these <a href=\"allowed_presumptions.txt\">allowed</a>/<a href=\"disallowed_presumptions.txt\">disallowed</a> theorem/theory presumptions (e.g., to avoid circular dependencies), we begin our proof of<br><strong id=\"distribute_frac_through_subtract\">distribute_frac_through_subtract:</strong> <a class=\"ProveItLink\" href=\"../../../__pv_it/theorems/ac974d29a788c8154f209f3be076705b0ecbc5630/expr.ipynb\"><img src=\"data:image/png;base64,iVBORw0KGgoAAAANSUhEUgAAAT8AAAAyCAMAAAAdkSzzAAAAOVBMVEX///8AAAAAAAAAAAAAAAAA\n",
       "AAAAAAAAAAAAAAAAAAAAAAAAAAAAAAAAAAAAAAAAAAAAAAAAAAAAAAACXHtMAAAAEnRSTlMAq1Rm\n",
       "mUTNIjK7EInv3Xbt5cmRiLwgAAAACXBIWXMAAA7EAAAOxAGVKw4bAAAFFElEQVRo3tVbibacIAyV\n",
       "fact//+xBdwAHURHz6Cnfae+YgIxyb0JOAxdXYIPL7ikkH1ODKDhFRc3XRoQqOElFzQdTgrR4TWX\n",
       "At1NiWn2HvsNprtUY+yLzDdA3VkKRPppDRh+g7m0sBfFfdlPJ+AhrQWSK1VbsLQ4hJBsTkQYtAvf\n",
       "UVFiLnFdpRvrkun5V2uBHXAN5ZQPoeC27iw6tQjfU4GKN0W7ghCTzAaxMGlZpYMcjhYAopGyzfmq\n",
       "Rfi+CpF7LHQdZUDuksoj/BPTLPmY9RoH+rnrADi6EXWo+iT8c/gWKmQOGdJ1BHigRI9ju5Dw/jO7\n",
       "1+Ayc5ZWoxcqcB6xoiMSrcGwzc6yGiDRiWwjaht1TviuCpZDBuoHQbhDaXlORn+sl3MCzD9a5Mtz\n",
       "wvdVCJUHcDcc2qavEjousV8igYd8hDQuYUWZRuH7KgqOqrtBYJFOTGJrB4jRwQolUBY3htBqg0bh\n",
       "+yqYg2UCXE0If+iNWlx7TtHG8L2eqTIVJis6lCeGmCwI/7tsKB2+tC6p20qyZpJ9pCInPsiRgc8O\n",
       "yMTv3I9foFKh3dDaMATXOmNbFdZtpj3XxQr+zn7QnVcOkV1j5yQ7uqwCZnQzhg2a0t4vm5fIPbvv\n",
       "4dRtgZK9aBfei45Vkf5l79w+zERvI2oF5XMh5+H47n+6paRuKsVxUiYnDQnmbstNeaLWIWgZmH/c\n",
       "sYJ6Pf7pqWdbGfxG+2VhaszseopcCzyBgWXJO6mA+KhCKbvNFCCDNXf2Om4DkF3hlfZOMXT9XeYg\n",
       "JtJ+aE+iB7dA+DLS15LA5y2YVoWf7Td6OPK6iKjbr2v/27GfNx46w78wnt6RkvEx1GQ/ECFCh0c3\n",
       "aIGfzX/8qfw3xq+nfjMJtBYz/2dyexumsEyDG8qI9zo7Q5BEfIwLtmu/efwkTI2ZPCjaVA3qWfxl\n",
       "9zVKckl6DFs280vLQqeCjsvzzuVXy5fKHnOicAjahUwyuFl2Yr9p/IBFuP74v2jqI232Tu2z/O++\n",
       "TnGB5LPdwDR9vy5hh+mGyXBKwSYWYcGHyLJ4JJGs2G8aP1kIJX24Tfv3af6s79pr5I58zobjrxKX\n",
       "CrUfsAlsxLXS6E8CDpwTXrMfXx+dnXaM3006go48aj96V22fbwPIbV0TwnWxoCFTwh8zGAo+OfD1\n",
       "mQk/UmKXTHQaH+P37z8R4/cDfvCHO7n4rr15ZWptD6ZjyyYkuWgkz4VIYBbxjlHII/NYKxWmItSo\n",
       "Xf63jA+KFhCygb+AA1rwQH19Ez/Ptws2bQ9sibI27DlFiIQYCTpMd1giHVuEbD3kKJUPZsx343cZ\n",
       "nxeHnj/j7WLMs90LeReByeOkVrZ7hdL/r0DzXTIbFYJxP2PtJhp4CH/g4cMv4h7/Ls5sVGg/kRE6\n",
       "CF3uGie6m77vCDAeSit2MU/mGz/tooqRxXZBZdcBRQCYS9X2We9JhMfgelwhSGqVuHxqUaYA3y6q\n",
       "HJkTf/bAAYSrdcRhhzgguQf8y8BJr4gqRhab9R3tnzcxDKm+QFHNr4lKRxZ1J+jo/AY5ZtDsq2jJ\n",
       "Dle3i0pHWlrrJfz4MkcIGevGLxyQogui0pHl+WzU0/m1w9nAGDtfdMmlYadFpSOlKSDO9HUEv76B\n",
       "xYUSVplv2gxsatK1i8pGClTlgp07oAon3ul3XQbGT4pKR0pSLeU6uOhrvj4a3a+3T7j4u76fgd1N\n",
       "yYr3mK/D77fe9P0g6fNTPQrfYT5OO/0A+CXfT6/m+w8w4i/mLJT3RgAAAABJRU5ErkJggg==\n",
       "\" style=\"display:inline;vertical-align:middle;\" /></a><br>(see <a class=\"ProveItLink\" href=\"../../../__pv_it/theorems/21946483eadc44ac7de7dc1d2e972283396c81a20/dependencies.ipynb\">dependencies</a>)<br>"
      ],
      "text/plain": [
       "<IPython.core.display.HTML object>"
      ]
     },
     "metadata": {},
     "output_type": "display_data"
    }
   ],
   "source": [
    "%proving distribute_frac_through_subtract"
   ]
  },
  {
   "cell_type": "code",
   "execution_count": null,
   "metadata": {},
   "outputs": [],
   "source": []
  }
 ],
 "metadata": {
  "kernelspec": {
   "display_name": "Python 3",
   "language": "python",
   "name": "python3"
  }
 },
 "nbformat": 4,
 "nbformat_minor": 0
}