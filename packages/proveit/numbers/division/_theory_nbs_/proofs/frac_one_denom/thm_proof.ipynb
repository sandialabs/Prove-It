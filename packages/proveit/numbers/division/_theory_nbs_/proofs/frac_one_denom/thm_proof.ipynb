{
 "cells": [
  {
   "cell_type": "markdown",
   "metadata": {},
   "source": [
    "Proof of <a class=\"ProveItLink\" href=\"../../../../../_theory_nbs_/theory.ipynb\">proveit</a>.<a class=\"ProveItLink\" href=\"../../../../_theory_nbs_/theory.ipynb\">numbers</a>.<a class=\"ProveItLink\" href=\"../../theory.ipynb\">division</a>.<a class=\"ProveItLink\" href=\"../../theorems.ipynb#frac_one_denom\">frac_one_denom</a> theorem\n",
    "========"
   ]
  },
  {
   "cell_type": "code",
   "execution_count": 1,
   "metadata": {},
   "outputs": [],
   "source": [
    "import proveit\n",
    "theory = proveit.Theory() # the theorem's theory"
   ]
  },
  {
   "cell_type": "code",
   "execution_count": 2,
   "metadata": {},
   "outputs": [
    {
     "data": {
      "text/html": [
       "With these <a href=\"allowed_presumptions.txt\">allowed</a>/<a href=\"disallowed_presumptions.txt\">disallowed</a> theorem/theory presumptions (e.g., to avoid circular dependencies), we begin our proof of<br><strong id=\"frac_one_denom\">frac_one_denom:</strong> <a class=\"ProveItLink\" href=\"../../../__pv_it/theorems/fa046ea1cf1f5f530c92039971f3aecc11c525b30/expr.ipynb\"><img src=\"data:image/png;base64,iVBORw0KGgoAAAANSUhEUgAAAIQAAAAmBAMAAAD3vi5xAAAAMFBMVEX///8AAAAAAAAAAAAAAAAA\n",
       "AAAAAAAAAAAAAAAAAAAAAAAAAAAAAAAAAAAAAAAAAAAv3aB7AAAAD3RSTlMAq1RmmUTNIjK7EInv\n",
       "3XZ/CtNrAAAACXBIWXMAAA7EAAAOxAGVKw4bAAACU0lEQVRIx2NgIACc8ElyZTEQBiwCQIXvpLo3\n",
       "YZfuXUDYCDOQMQwPH/hil2YWIGgCxykgYc5gv0AYh4JJBI1g2wAkGhjccCpYQ9An+hAV5/CGFX5w\n",
       "G0yyfmdYhUMB+3dCQfELFHNTGQ8wbMClZDYBIxgnAAmmH0sOsCrgUmJDwAh+A5Ar/B6oGOFUUq/A\n",
       "AA4OZRzy/QUE44zXgcEVRKfjkLcnIvkmMDSCgnUCDnkxwkbwfWBgA8Y8N67AOkjYCKYfDMzAEGPD\n",
       "Jf+bsBEcnxgYzt69exqX/Gc8+RyafbmAajwYGGbhSnqf0AR874LARQbk7PuPgaGQgR0lnfNNkatD\n",
       "ciQuAM++QM9yLuAOgGl5ODOAa2IBEyzRsn4Fp6//IPABzQh49v0CDNIH8NB0aQDGzjoGBmsiXAHP\n",
       "vkAjGBLsgMQ79ycFfKDkvLgVGAa4jEAKC3j2BYYFwyZgGcpXIMmmsBIkoq6OFJy4YwSRfUFqaoCh\n",
       "ycwwj4MhGCRiZYWk7h+eFAXNvuBYY2wAiQGLDrOZM2cqdEQgKTyC2xWw7MvxFZ7IDrAzdIMYoODk\n",
       "golmEi7rmX5BGTXcCSzA6AU5bEsBwz6YvA/ERpF83EZwX4Bl2af7XjGwzwAxV2dOaYBndqjW97iN\n",
       "4EQtf1fPnBmAIrBegaAR4IIND+B0IGhEPIGCjfkAQSO2ESgMuL4SNOIQoQJlGyEj+A4QMoKngYAR\n",
       "PAqEjGBOIGDEM8JFYzJ+I9iPEzZibQFeI9YqEDaCHdya2o8r8icT0dZiqABiwfOJ2NMgFygxAwCA\n",
       "X6NaBbi/QwAAAABJRU5ErkJggg==\n",
       "\" style=\"display:inline;vertical-align:middle;\" /></a><br>(see <a class=\"ProveItLink\" href=\"../../../__pv_it/theorems/3701df6180c708b620b540c8ae942745fa8f756b0/dependencies.ipynb\">dependencies</a>)<br>"
      ],
      "text/plain": [
       "<IPython.core.display.HTML object>"
      ]
     },
     "metadata": {},
     "output_type": "display_data"
    },
    {
     "name": "stdout",
     "output_type": "stream",
     "text": [
      "frac_one_denom may now be readily provable (assuming required theorems are usable).  Simply execute \"%qed\".\n"
     ]
    }
   ],
   "source": [
    "%proving frac_one_denom"
   ]
  },
  {
   "cell_type": "code",
   "execution_count": null,
   "metadata": {},
   "outputs": [],
   "source": []
  }
 ],
 "metadata": {
  "kernelspec": {
   "display_name": "Python 3",
   "language": "python",
   "name": "python3"
  }
 },
 "nbformat": 4,
 "nbformat_minor": 0
}