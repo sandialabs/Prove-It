{
 "cells": [
  {
   "cell_type": "markdown",
   "metadata": {},
   "source": [
    "Proof of <a class=\"ProveItLink\" href=\"../../../../../_theory_nbs_/theory.ipynb\">proveit</a>.<a class=\"ProveItLink\" href=\"../../../../_theory_nbs_/theory.ipynb\">numbers</a>.<a class=\"ProveItLink\" href=\"../../theory.ipynb\">division</a>.<a class=\"ProveItLink\" href=\"../../theorems.ipynb#weak_div_from_numer_bound__neg_denom\">weak_div_from_numer_bound__neg_denom</a> theorem\n",
    "========"
   ]
  },
  {
   "cell_type": "code",
   "execution_count": 1,
   "metadata": {},
   "outputs": [],
   "source": [
    "import proveit\n",
    "theory = proveit.Theory() # the theorem's theory"
   ]
  },
  {
   "cell_type": "code",
   "execution_count": 2,
   "metadata": {},
   "outputs": [
    {
     "data": {
      "text/html": [
       "With these <a href=\"allowed_presumptions.txt\">allowed</a>/<a href=\"disallowed_presumptions.txt\">disallowed</a> theorem/theory presumptions (e.g., to avoid circular dependencies), we begin our proof of<br><strong id=\"weak_div_from_numer_bound__neg_denom\">weak_div_from_numer_bound__neg_denom:</strong> <a class=\"ProveItLink\" href=\"../../../__pv_it/theorems/e733e580628031c974a376cc3fff0892490fb3400/expr.ipynb\"><img src=\"data:image/png;base64,iVBORw0KGgoAAAANSUhEUgAAAPgAAAAmBAMAAAAby0tnAAAAMFBMVEX///8AAAAAAAAAAAAAAAAA\n",
       "AAAAAAAAAAAAAAAAAAAAAAAAAAAAAAAAAAAAAAAAAAAv3aB7AAAAD3RSTlMAq1RmmUTNIjK7EInv\n",
       "3XZ/CtNrAAAACXBIWXMAAA7EAAAOxAGVKw4bAAAEO0lEQVRYw7VYXWgcVRT+dmZnZ/bOZtKnSloJ\n",
       "A/rig7r4IFhkG0lrVESjVaEqZqsFqQWZgAjVYrY+ympiYy1RKFsp+BObLhajrRCWirQgSh8qFUJk\n",
       "QqNVAyFES8sK6rl3Zrazc2fKBnYu7J7suXfud+/5+c6ZACmNrH3DafYSUhz30Wdm8ZNvpDOwpSKO\n",
       "Am/X0sNWy/Q1YPVnz0dnTKWBrbRgQ3rgVbqY6qjNTDE68yadp4/kwfTA99LHQLYsz9QKLn4k+Xlq\n",
       "dleaQhCOPEZqxjUekanZvafu4ThMvt/9sBok9KtpgY9zzE+Hb4Ypz72LvLj0h2mB84jCnW89jMfj\n",
       "knBEROG9aYH/xb+OrSiDMVRzdO5Rh8sxG8ICt3QZ27ixP2e9uBjAdi5f7DbFrEZY7YUQyZTZGY+A\n",
       "yzjAA2+iy+CZaH5P/3I9EdyMlwrWKnIUl6bdZfCClMPWfJBzSmm7/8c1qBR5uW7HW29d9sR8NOON\n",
       "NeCHhYXvuw5ejCG93U4kECglHgA+6KA8rwt8LM6P2q7I3f8FRqEnsqwyv3ujR8/5dv3hmMXmXMvY\n",
       "47HgeyLg/9C2NXM4FvmdvkNw6+brMrhyJKZYoYSdrdohdvxPjNZDuzyzC6VIxb9J6cbHW5b8AddV\n",
       "ZyRwdVJe/comnEOvk3xz9YJUYggc5RJPxNJX/PfK0BJtoC0ig0sQ4NaxELi19MYQLNEGPLdBkCM7\n",
       "ucwRD9wEvYmCnQhuzcvljXyOL6iXYxcFI1pOX46em+mtVZkgHre+71II/HJm4nlD8BNzmwYvjMed\n",
       "cQLfOUSZ00RPEORjxWSSaS8A++kG2QGxlYojBonXbscfmnjeffAUQuDFvFvBbac5KX503uLH24Yq\n",
       "YXMNgbd6hxNuMr22hr7GubBClDRseSHvVYTN6Ff3TE0dJLN/aYd9LrwqsDL1DEf4DovwbEFm7w2s\n",
       "XRjopPpcCY7q5LdwpxgNnf/8CeeMuufzJ0+HwasQHiYr9wwX6NDsKiY/w7SIglDA5TopFn6rRUd1\n",
       "xnfUprHfLGcxDfysrXrMQ6kWCji9MQtxp9FN6KmMgNVx1riyhWKFx/8KHmtlSqMDcDPoqrXBO06i\n",
       "amd/nfuTBG69p4x9dDHt5b1sW/n6zR95ZsULWgfK4Pvc3k/ctVz0s8+ce6iVV82IzxfEqLQp8+3c\n",
       "5rvMZk6+CHZq6lBoZfTcH4PwlATOY2vrLgBazRcZ96noSgm8XyOLPJ208XsdgI+0FRo1EFqpngxu\n",
       "TNE4jB3LPPWSNvaaQ33z5ZjGPdDOdlyn9PXV1BOC3J918k15LtCeSat7NXmUsm8hvye2tFYjLXBK\n",
       "ekq41eDNpa1g+dqCnRr43Xz7Cd/87f2dr/0tvbfUXFEw/NaYcPC0+tn0wNlFgrGxUXEkcE97PD2r\n",
       "A6/WkHeVC3Lv52sn0/yfjF4B6/969HfZJkLLuNv/B0xDJhlbqRRoAAAAAElFTkSuQmCC\n",
       "\" style=\"display:inline;vertical-align:middle;\" /></a><br>(see <a class=\"ProveItLink\" href=\"../../../__pv_it/theorems/e093ef6a4b66a2773551e73eb741fec6000627690/dependencies.ipynb\">dependencies</a>)<br>"
      ],
      "text/plain": [
       "<IPython.core.display.HTML object>"
      ]
     },
     "metadata": {},
     "output_type": "display_data"
    }
   ],
   "source": [
    "%proving weak_div_from_numer_bound__neg_denom"
   ]
  },
  {
   "cell_type": "code",
   "execution_count": null,
   "metadata": {},
   "outputs": [],
   "source": []
  }
 ],
 "metadata": {
  "kernelspec": {
   "display_name": "Python 3",
   "language": "python",
   "name": "python3"
  }
 },
 "nbformat": 4,
 "nbformat_minor": 0
}