{
 "cells": [
  {
   "cell_type": "markdown",
   "metadata": {},
   "source": [
    "Proof of <a class=\"ProveItLink\" href=\"../../../../../_theory_nbs_/theory.ipynb\">proveit</a>.<a class=\"ProveItLink\" href=\"../../../../_theory_nbs_/theory.ipynb\">numbers</a>.<a class=\"ProveItLink\" href=\"../../theory.ipynb\">division</a>.<a class=\"ProveItLink\" href=\"../../theorems.ipynb#weak_div_from_numer_bound__pos_denom\">weak_div_from_numer_bound__pos_denom</a> theorem\n",
    "========"
   ]
  },
  {
   "cell_type": "code",
   "execution_count": 1,
   "metadata": {},
   "outputs": [],
   "source": [
    "import proveit\n",
    "theory = proveit.Theory() # the theorem's theory"
   ]
  },
  {
   "cell_type": "code",
   "execution_count": 2,
   "metadata": {},
   "outputs": [
    {
     "data": {
      "text/html": [
       "With these <a href=\"allowed_presumptions.txt\">allowed</a>/<a href=\"disallowed_presumptions.txt\">disallowed</a> theorem/theory presumptions (e.g., to avoid circular dependencies), we begin our proof of<br><strong id=\"weak_div_from_numer_bound__pos_denom\">weak_div_from_numer_bound__pos_denom:</strong> <a class=\"ProveItLink\" href=\"../../../__pv_it/theorems/cafed8b01992e73966a12c559cfeabcd58d0d34c0/expr.ipynb\"><img src=\"data:image/png;base64,iVBORw0KGgoAAAANSUhEUgAAAPgAAAAmBAMAAAAby0tnAAAAMFBMVEX///8AAAAAAAAAAAAAAAAA\n",
       "AAAAAAAAAAAAAAAAAAAAAAAAAAAAAAAAAAAAAAAAAAAv3aB7AAAAD3RSTlMAq1RmmUTNIjK7EInv\n",
       "3XZ/CtNrAAAACXBIWXMAAA7EAAAOxAGVKw4bAAAEP0lEQVRYw7VYXWgcVRT+dmZ3Z/bOZlJfArES\n",
       "BpSCD+rig9Ci25S0xoo/W6uFqphFhaIFmbwI1WK2PspqYtNaolC2UvAnNl0sprbFsFQkBVH6oFSQ\n",
       "wIRGqwZDiJaWFVrPvXd2s7N3tmxg58LO3T135n73nPOdn1kgohF3brnMXkWEYwt9puY/PaecgS1k\n",
       "cAx4txQdtp6nS7/dF7/YvGJpFWymG9ZFB14kxXRXr8YyzStv03l6aT4YHfhe+piI59WVUtrDjzR/\n",
       "EZndtaqYCEcdQyXzOmdkZHbvKkscl6n6PQy7QpNxLSrwUY75We4OWOra+0gJpT+KCpwzCve98xie\n",
       "CgvCIcHCB6MC/4dfji9pAyGp5tjMky6fRxwIC9zZYWzz1v6clrzoxzY+7+l0ilkOk24QClt5dl4m\n",
       "4DwOcOKNdRg8FhLfeOhRqbAXk6FgLyNJvLScDoOnQ2L477N+Cshu879ch07MS3aab91lpZx8o+Qb\n",
       "cwX4YW7u+46DN2d09nhGraoUEo8AH7ZRntcEPtLkR9YT5tgbwDCMlllW+/XlHmmuVFB+JORma6Zu\n",
       "7NFmrFDw/2jbkpULRX6v9zC8svWmCq4dDeol83cWu+u1Q+x4UwwhMFbNLoQiFP+lnbxwvsXJH/A8\n",
       "fUoB18eDdxqHRABfQLfbSvMwwnFw5LN0mcye5r+XBhdog8Q8YrgMAW4fbwC3F94ahC3agBfWieTI\n",
       "Ti26MG+jh4wq0k5L8NVQC/gcX1Ivxy6JjGi7vUl6bqq7VGQi8XjlfZcbwK/Exl40RX5iXtXkhfGE\n",
       "O8qBtxRgVtFVs+1IpnWSCRaA/aRBvF9speOoSdMb9+DPhHje234GDeCZlFfA3VwF4+OLNj/eVhTF\n",
       "WbbnCLzeO5z0QtNrIeitFZ4LSZbO2ZLysiKsR5/+ysTEQTL7V06jz4VXd3P0WDnGEb7DvOTBLJm9\n",
       "u2btdH871edq7ahuahPnrFkx+M+fccEsS58/c7YRvAiOfmCQUnQuTYdm1zD+uc//BsIl2ykWfqtF\n",
       "R3VHd5Ymsd/KxzEJ/JJYlpmHQq2BcEZlGkKn4dvRVRgCK2PWvLqJ9H6JkxU76pFSaQPcqnXViYF7\n",
       "T6HoxH+b+Ysm3LUxj32kWOK1vWxrflXzJ55bkjHtQhv4AMS9p+9fzPj8t2bqjNKrTYE2J0bQ56lg\n",
       "bvNd5jA3lQE7M3G44c7mc38CinZNOk9pwdnKmgtAouRPMW9X850KeF+CLPJsq40PtQE+5Ab6j9qU\n",
       "yJZbg5sTNI5g5yIPvVYby+bQWH8lJOZq0um265Sxtpp6UiT3591UVV2rSc9H1b1anKXsW6jviXWp\n",
       "XYkKnIKeAm659uYSKFi+NO1EBv4A337MN3+wv/Olv0f3lprMiAy/OYQOUmrMRgfOLhGMgx7NVcCl\n",
       "9ER0VgdeLyHlaT+pvZ8vHY/yPxmjANb39fAfqk2ElHG3/w//uyIzFpRSfAAAAABJRU5ErkJggg==\n",
       "\" style=\"display:inline;vertical-align:middle;\" /></a><br>(see <a class=\"ProveItLink\" href=\"../../../__pv_it/theorems/f33cf957daa9d28cc07a81effc4ae60b99a68e3a0/dependencies.ipynb\">dependencies</a>)<br>"
      ],
      "text/plain": [
       "<IPython.core.display.HTML object>"
      ]
     },
     "metadata": {},
     "output_type": "display_data"
    }
   ],
   "source": [
    "%proving weak_div_from_numer_bound__pos_denom"
   ]
  },
  {
   "cell_type": "code",
   "execution_count": null,
   "metadata": {},
   "outputs": [],
   "source": []
  }
 ],
 "metadata": {
  "kernelspec": {
   "display_name": "Python 3",
   "language": "python",
   "name": "python3"
  }
 },
 "nbformat": 4,
 "nbformat_minor": 0
}