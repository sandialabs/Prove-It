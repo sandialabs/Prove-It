{
 "cells": [
  {
   "cell_type": "markdown",
   "metadata": {},
   "source": [
    "Proof of <a class=\"ProveItLink\" href=\"../../../../../_theory_nbs_/theory.ipynb\">proveit</a>.<a class=\"ProveItLink\" href=\"../../../../_theory_nbs_/theory.ipynb\">numbers</a>.<a class=\"ProveItLink\" href=\"../../theory.ipynb\">division</a>.<a class=\"ProveItLink\" href=\"../../theorems.ipynb#div_neq_nat\">div_neq_nat</a> theorem\n",
    "========"
   ]
  },
  {
   "cell_type": "code",
   "execution_count": 1,
   "metadata": {},
   "outputs": [],
   "source": [
    "import proveit\n",
    "theory = proveit.Theory() # the theorem's theory"
   ]
  },
  {
   "cell_type": "code",
   "execution_count": 2,
   "metadata": {},
   "outputs": [
    {
     "data": {
      "text/html": [
       "With these <a href=\"allowed_presumptions.txt\">allowed</a>/<a href=\"disallowed_presumptions.txt\">disallowed</a> theorem/theory presumptions (e.g., to avoid circular dependencies), we begin our proof of<br><strong id=\"div_neq_nat\">div_neq_nat:</strong> <a class=\"ProveItLink\" href=\"../../../__pv_it/theorems/112c4f18334d012eb9974f326b261f1d663073c40/expr.ipynb\"><img src=\"data:image/png;base64,iVBORw0KGgoAAAANSUhEUgAAAPgAAAAmCAMAAADeO6ZmAAAARVBMVEX///8AAAAAAAAAAAAAAAAA\n",
       "AAAAAAAAAAAAAAAAAAAAAAAAAAAAAAAAAAAAAAAAAAAAAAAAAAAAAAAAAAAAAAAAAAAAAAAeYafp\n",
       "AAAAFnRSTlMAq1RmmUTNIjK7EInv3Xbt5cnn9enzas/lfgAAAAlwSFlzAAAOxAAADsQBlSsOGwAA\n",
       "BBtJREFUaN7VWYmS3CgM5TS3kuxu/P+fGoTBHO3u1tROqtrUjKdcIwEPPV2YsZsNJf6Xut88u+VQ\n",
       "vAIA4N6GQDkGD0rin6Jq0y2Ry60dAGPAgalEUApMRNTdjyn4DXHbWM0lDQLxjEuCkjjOh7vj3Yn7\n",
       "Ad9CA4NG34huzVgEVh/4Hm9HdrGPW25A3g+Nena3S5y4z0hhQpPp7knGK9yA2F4Nat7Kw0+De6cZ\n",
       "jyVuUYbj7VHfw72At+iEnLdeZeCaFqeQ23rvcVDGewHvW/cKgAkln+FWswd4HkAN/DZ7VuwEEPLT\n",
       "mU51TesukvmYA1IuA5Q+c8WHu3wtQCg+bR8w+yiWaGebyY37dBffqAZf0lXKeY9P8QzwDFvVHj69\n",
       "oInU9OsW6goJndctOGYGVdfePhw324lJSHNCuEArx4Qjfnxu24nBlxCrfJlLlVDgvqeAVW+qZkpl\n",
       "fT1KDnq5dDFg+udffL6x+o7lruHt8cVhkgoay4FB91WEDJrQQhaZECBc0/NbDN7cBo1N2VTfA3CX\n",
       "i0YmOAt+LhdeAKec7SEjsz20e+g0+hb3YaxiD5y7kt2LlICvhTal7BkukdujcV4A5wRTHDIR51/L\n",
       "FaLFadXIATyjlq1XDRLCqQqgTP6pRwlojfwLZ5ARVmgDT4FP6kyHeZqrBQ8ZU5qRKL4IvPj4f78P\n",
       "T6f4OKbwmsx9MkNlCAb7gk3UiyuW92Nj7ox6OrSZ6kI/AX6qK4fjR/6VfRo2LzjKHF1Ykmtwo0R1\n",
       "4l1incu08KQU65ti+Z8OWKW18SJlMI5pOQLPVAd3DXxSbzw5p7lasMocwNd7Br8TLh6EooXlxh5e\n",
       "txc13uGNJzN4DFZ9HJjcinHw5gqB+zDFh9nHu3rnSZ3mYsEmc1D9gdlRfZvB7a6XQ80bdbJfa6Ax\n",
       "zr0nXcKODZPFc08Mz4BXdaTxz1+u0PicZllwkrkMbmx730wIYhU232HhoaLHaenRjtkBSl+jilVx\n",
       "xzanlKnUkeXcJor0zXX1uW9o05RJzwUnGYCrwlPF7zI4C+khCUoBQaKtMtEU6ADg6xs2/m4rbVy1\n",
       "l01H7rgG3tXnurBNUyY9F5xlcgGj/GNb+g6WpJbd7kXQF+ubL6w8UhBS8rriuabj4A19mnWJd7HL\n",
       "v03k5I8kLxKE9utbDkj6fZlzDXzQ69PMSxBKKPcuulkibv3iLkc+vGkJBCZdAhcDO/o08qnMsz3F\n",
       "uboNYIhX64ts+Ast+N+8vvJjEtIRfWYnkXuVjXf7iDRYysfSUSfSgS2ycLPbZdbzf4ZROq1ECuOr\n",
       "bLzfV8PzKzGLbuX+i+OaZWFj9xubHAt32oXzImuiuSFw7OZ6TucbE5QLtlHWpxt+Hkd71ao0931M\n",
       "JMUo3dgk6yS75zBHfPMcgjUcKDXLKOubp/8BIjglYxmYKXcAAAAASUVORK5CYII=\n",
       "\" style=\"display:inline;vertical-align:middle;\" /></a><br>(see <a class=\"ProveItLink\" href=\"../../../__pv_it/theorems/626d1680d53792e6f831cd8d50c5249fd93ef5000/dependencies.ipynb\">dependencies</a>)<br>"
      ],
      "text/plain": [
       "<IPython.core.display.HTML object>"
      ]
     },
     "metadata": {},
     "output_type": "display_data"
    }
   ],
   "source": [
    "%proving div_neq_nat"
   ]
  },
  {
   "cell_type": "code",
   "execution_count": null,
   "metadata": {},
   "outputs": [],
   "source": []
  }
 ],
 "metadata": {
  "kernelspec": {
   "display_name": "Python 3",
   "language": "python",
   "name": "python3"
  }
 },
 "nbformat": 4,
 "nbformat_minor": 0
}