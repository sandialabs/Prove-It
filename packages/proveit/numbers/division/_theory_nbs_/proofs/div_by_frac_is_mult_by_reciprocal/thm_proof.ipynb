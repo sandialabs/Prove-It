{
 "cells": [
  {
   "cell_type": "markdown",
   "metadata": {},
   "source": [
    "Proof of <a class=\"ProveItLink\" href=\"../../../../../_theory_nbs_/theory.ipynb\">proveit</a>.<a class=\"ProveItLink\" href=\"../../../../_theory_nbs_/theory.ipynb\">numbers</a>.<a class=\"ProveItLink\" href=\"../../theory.ipynb\">division</a>.<a class=\"ProveItLink\" href=\"../../theorems.ipynb#div_by_frac_is_mult_by_reciprocal\">div_by_frac_is_mult_by_reciprocal</a> theorem\n",
    "========"
   ]
  },
  {
   "cell_type": "code",
   "execution_count": 1,
   "metadata": {},
   "outputs": [],
   "source": [
    "import proveit\n",
    "theory = proveit.Theory() # the theorem's theory"
   ]
  },
  {
   "cell_type": "code",
   "execution_count": 2,
   "metadata": {},
   "outputs": [
    {
     "data": {
      "text/html": [
       "With these <a href=\"allowed_presumptions.txt\">allowed</a>/<a href=\"disallowed_presumptions.txt\">disallowed</a> theorem/theory presumptions (e.g., to avoid circular dependencies), we begin our proof of<br><strong id=\"div_by_frac_is_mult_by_reciprocal\">div_by_frac_is_mult_by_reciprocal:</strong> <a class=\"ProveItLink\" href=\"../../../__pv_it/theorems/e2ee646dc85b850f3ef689309accae10506150490/expr.ipynb\"><img src=\"data:image/png;base64,iVBORw0KGgoAAAANSUhEUgAAATcAAAAzCAMAAADFGr+iAAAAOVBMVEX///8AAAAAAAAAAAAAAAAA\n",
       "AAAAAAAAAAAAAAAAAAAAAAAAAAAAAAAAAAAAAAAAAAAAAAAAAAAAAAACXHtMAAAAEnRSTlMAq1Rm\n",
       "mUTNIjK7EInv3Xbt5cmRiLwgAAAACXBIWXMAAA7EAAAOxAGVKw4bAAAFH0lEQVRo3u1biZLjKAzl\n",
       "Pg0z6///2AV8CWyIj+4kbC0109Wq5uEgdDwJB6HuhlZvQxttGmJfA9M3opUzDbErtdm3oolrif0M\n",
       "Kt6Mtrgl9jLkIN+NdrQldjKcfzuaDKYhduKlwwfQgrXELsYAw7rxHhtlLbmFbuVQp5Dc3JGPmXcX\n",
       "Yg/Dj9BHwrl77BFzt9B1zia81Vn4F3kuEN2lBgc/MQ3HToMqTjMyd26/MmrXQhWTXOFk7CzCqRFy\n",
       "/fg7E3fRbZOzeZkw+obYAeXdxfXBP0FXLa5cVbuW+P1ZoXS0FKKNuYmuDR4dP1uU5qmA9pUZ1Eiz\n",
       "GptPJmTvoFt8LeVnnHsmbYjfn01lFp2VYUFvnNxBN/SrrfbWqZatDl1lVJ0FKMO8R4RRcgvdqEdj\n",
       "SSD4ywC3qY58ufUN+mNoO+5EtqpWfHe0MyP7GJqOvBTVYnBSf7e5qUe06UfRSRRzyj1f531mkJF8\n",
       "DF1YaxLpHNbEd6stOIf6GBqNeC8OLo7Bfrne/CO2maEvd1LQqPciSyfx9Vc19kw5zRwYuIa+2kkJ\n",
       "tiX2osTLjx8Yzaz1euONGexRGwKiL3dSEHLuQIymZvk989cMe1gHt5Ly9Axrvb0zA2ccaszGiap+\n",
       "rHdSzCiO1s0UlbPmSST+YlZQHutQHoYaEYejI9qe0ttk0jQ8jOsbM/D4xA9KdNZJcS+53aHegtLo\n",
       "FXbD2JybrEkwek5vOEXmIWIrIb45gz2KbwX6Uiel5qeBui0kznsmw795cY9hZ0A5IXmwMr+EBUPV\n",
       "5N3yUG8FnCftyvT5B1KsWZ8BIvuTfArQVzsptbwQ7xXn3XmJsEaCzNkahS2o1UKZ4pbFx65cUpLd\n",
       "VjRI9guc6Tj+hP80UO2olfUScl6zMQMwiYKBFefyioeou52URkMEz4uGD6s9mgVp4q2+BxYk4wnx\n",
       "dUfUUFPXWwGfrXTSCogucj312owKcy2P9TTvvdpJSemCtURUBJb4NgX2IB2kTyCScWiClOKqrrcc\n",
       "vljp5IVb0aP85j7HMzYzyVP+/ljbdRZ/4OVmtA0x7WMA4crxOUpPfkHTZY/aMHNegKwLbmOBRy/8\n",
       "+49OXlhE/XnNxgxQTJeuWxzri8r8SZfsqK6HRzggKxJ3NUk5ToXEg2ZJCqISPdgqC2lTCrEV/rbA\n",
       "45PW+OAjy8DlmkczXvhKeazXPO1RV2DXJGCeW+9NNLv4lxAEtECzxAwdUotObq/eGRuclqmKny7w\n",
       "vIoLrJaZcs2jGTsuUHJMcC4nmMSTvkVRG7dK5bArE/6q6SIB97bRo47jBdAbhPvjJwDhtb/tLvLA\n",
       "uaDr6AesuUHBuUmxg4tVOjeA3jb4YTWSr3li/7QgvuBc0HV0NQV4lu4Bs0BRNNkbPXeagvZSJ56P\n",
       "qZD3rnDCK0/YTIefCc55VAHngq6jqwQZkSGpGcb9PA/IX7iw/807ioJ8budyB11TL5naS1hnttrz\n",
       "vTNiw2FH5Ba60chKlDvj3TivTnFn7znwR9z1LJrHQJi/hFP4ZW/v1Zzo9/wAOnXm/FBPKbS397ge\n",
       "fuKTaI2XH6vC88jo+nul/Nnl0Tk0w9FXadGrq4r/G9ySGXAoV6BuNN7bY29DQJPJmp6X0U0SJ4o8\n",
       "URU7GQp+c2Nuet5EN1RmYLfZ5XzZEdTjyPtt0j5BH2ddn3+L67/xPaN8T8o/QVf6GdQz4PtFJccF\n",
       "6nUIshVa81vzt9DnPFuYhtjXWNp/oOl5A32uOZLryfSsti0tbE3P949/AT2xMW2noniJAAAAAElF\n",
       "TkSuQmCC\n",
       "\" style=\"display:inline;vertical-align:middle;\" /></a><br>(see <a class=\"ProveItLink\" href=\"../../../__pv_it/theorems/7de2cbc3c94d88e08c48541adee2bfa9be2bd6430/dependencies.ipynb\">dependencies</a>)<br>"
      ],
      "text/plain": [
       "<IPython.core.display.HTML object>"
      ]
     },
     "metadata": {},
     "output_type": "display_data"
    },
    {
     "name": "stdout",
     "output_type": "stream",
     "text": [
      "div_by_frac_is_mult_by_reciprocal may now be readily provable (assuming required theorems are usable).  Simply execute \"%qed\".\n"
     ]
    }
   ],
   "source": [
    "%proving div_by_frac_is_mult_by_reciprocal"
   ]
  },
  {
   "cell_type": "code",
   "execution_count": null,
   "metadata": {},
   "outputs": [],
   "source": []
  }
 ],
 "metadata": {
  "kernelspec": {
   "display_name": "Python 3",
   "language": "python",
   "name": "python3"
  }
 },
 "nbformat": 4,
 "nbformat_minor": 0
}