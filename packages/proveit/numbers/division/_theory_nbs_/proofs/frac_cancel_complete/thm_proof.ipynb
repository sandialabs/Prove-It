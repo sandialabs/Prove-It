{
 "cells": [
  {
   "cell_type": "markdown",
   "metadata": {},
   "source": [
    "Proof of <a class=\"ProveItLink\" href=\"../../../../../_theory_nbs_/theory.ipynb\">proveit</a>.<a class=\"ProveItLink\" href=\"../../../../_theory_nbs_/theory.ipynb\">numbers</a>.<a class=\"ProveItLink\" href=\"../../theory.ipynb\">division</a>.<a class=\"ProveItLink\" href=\"../../theorems.ipynb#frac_cancel_complete\">frac_cancel_complete</a> theorem\n",
    "========"
   ]
  },
  {
   "cell_type": "code",
   "execution_count": 1,
   "metadata": {},
   "outputs": [],
   "source": [
    "import proveit\n",
    "theory = proveit.Theory() # the theorem's theory"
   ]
  },
  {
   "cell_type": "code",
   "execution_count": 2,
   "metadata": {},
   "outputs": [
    {
     "data": {
      "text/html": [
       "With these <a href=\"allowed_presumptions.txt\">allowed</a>/<a href=\"disallowed_presumptions.txt\">disallowed</a> theorem/theory presumptions (e.g., to avoid circular dependencies), we begin our proof of<br><strong id=\"frac_cancel_complete\">frac_cancel_complete:</strong> <a class=\"ProveItLink\" href=\"../../../__pv_it/theorems/f41c3c3f684e39b51123e3450ed7effdf2423e1d0/expr.ipynb\"><img src=\"data:image/png;base64,iVBORw0KGgoAAAANSUhEUgAAALMAAAAmCAMAAAC4YVoxAAAAOVBMVEX///8AAAAAAAAAAAAAAAAA\n",
       "AAAAAAAAAAAAAAAAAAAAAAAAAAAAAAAAAAAAAAAAAAAAAAAAAAAAAAACXHtMAAAAEnRSTlMAq1Rm\n",
       "mUTNIjK7EInv3Xbt5cmRiLwgAAAACXBIWXMAAA7EAAAOxAGVKw4bAAACx0lEQVRYw8VYiXLrIAzk\n",
       "PgRWX/n/j63AF4ld90F8aJJMMhPhRaxWQozdbUp0OoIB9owpPiFA5OBCaNiBG54BLc2MnTHkyNTQ\n",
       "4syfgOziFCpp6Z2Acdni7sUDmE2YwedQm2ZKx/vZIVL9zIjd2XCjDaH6oRPxA9oCZ7PPvWxewgxe\n",
       "Mx7pS2hcwoebMXO/ksSBIsy6NalkvBlzWkQCFCITSjbrgE3kspJayMup0UnGupgMJOxKLzp0Nb1l\n",
       "6irZXJlKbrJAujnQ1l9OZ9PpiBVmzBufO49weY2J/ATMlL10YhONzfUpGE7A7HISsjhki+FG2fgA\n",
       "M5RVlCti3VCQ1GHOHMrU4bJDZfwXzCzlim/5/PHbNr3iaKvm4ChbQ9GhEDBspU6cEOeJYTnEQW8e\n",
       "gdxThaUyy0kERV00DzCPe5e0Qf3+L53WZ6TKWjGXUxa4k4FqpAztBkqE5f9h5kXkY/Z9ryBnxVlN\n",
       "kiGnk0dUll70Zc4XkG4Mj93HvHiMsQwjc/MzomjE3MDnLM2TSKPNfYwRRIhFD63Y1McK8+KhfLYv\n",
       "esupfxvkew7KU+I8rmJntaefHvMdQi/LS5BwgHnxGBeXVc/53tJDwk7MoaLZoj7crduw41WzhI3u\n",
       "X85pd4D5hbfz6Yzc2FAhqr6Sz2Myy73Rpa1axMJct2bclIO17vodj8yNf9++cGM/B5k5o6N5vZ5l\n",
       "jrBgxpKxlhgbSoaFXX2uPKp2ixKT6LVRfHVGvx7ehwsKdUCE0uUtjIBARFFunxurx0sppZqiYNuL\n",
       "nnBr9gfFD0I+Z73vt39qf6UYpBNax17x2cf8d2Po1ceQde9dZxez0E0X0I55XSFdb8vcewmDSqd6\n",
       "5nU7xfV6W6PUN69jePeoYG6e+ud1D4S5GuX2zevQsAfMyA/mdTbaJzDDYLvndTA8MX7OsSptb9e8\n",
       "zkv2kFnXOa+DWSh/AAWsGJCTCamPAAAAAElFTkSuQmCC\n",
       "\" style=\"display:inline;vertical-align:middle;\" /></a><br>(see <a class=\"ProveItLink\" href=\"../../../__pv_it/theorems/1dd26cbc8ab680f2f6af09d8755f447db4ab22140/dependencies.ipynb\">dependencies</a>)<br>"
      ],
      "text/plain": [
       "<IPython.core.display.HTML object>"
      ]
     },
     "metadata": {},
     "output_type": "display_data"
    },
    {
     "name": "stdout",
     "output_type": "stream",
     "text": [
      "frac_cancel_complete may now be readily provable (assuming required theorems are usable).  Simply execute \"%qed\".\n"
     ]
    }
   ],
   "source": [
    "%proving frac_cancel_complete"
   ]
  },
  {
   "cell_type": "code",
   "execution_count": null,
   "metadata": {},
   "outputs": [],
   "source": []
  }
 ],
 "metadata": {
  "kernelspec": {
   "display_name": "Python 3",
   "language": "python",
   "name": "python3"
  }
 },
 "nbformat": 4,
 "nbformat_minor": 0
}