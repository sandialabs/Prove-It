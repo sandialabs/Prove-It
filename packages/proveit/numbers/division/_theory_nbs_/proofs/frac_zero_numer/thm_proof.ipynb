{
 "cells": [
  {
   "cell_type": "markdown",
   "metadata": {},
   "source": [
    "Proof of <a class=\"ProveItLink\" href=\"../../../../../_theory_nbs_/theory.ipynb\">proveit</a>.<a class=\"ProveItLink\" href=\"../../../../_theory_nbs_/theory.ipynb\">numbers</a>.<a class=\"ProveItLink\" href=\"../../theory.ipynb\">division</a>.<a class=\"ProveItLink\" href=\"../../theorems.ipynb#frac_zero_numer\">frac_zero_numer</a> theorem\n",
    "========"
   ]
  },
  {
   "cell_type": "code",
   "execution_count": 1,
   "metadata": {},
   "outputs": [],
   "source": [
    "import proveit\n",
    "theory = proveit.Theory() # the theorem's theory"
   ]
  },
  {
   "cell_type": "code",
   "execution_count": 2,
   "metadata": {},
   "outputs": [
    {
     "data": {
      "text/html": [
       "With these <a href=\"allowed_presumptions.txt\">allowed</a>/<a href=\"disallowed_presumptions.txt\">disallowed</a> theorem/theory presumptions (e.g., to avoid circular dependencies), we begin our proof of<br><strong id=\"frac_zero_numer\">frac_zero_numer:</strong> <a class=\"ProveItLink\" href=\"../../../__pv_it/theorems/57d03b769c205cb8e0ff5838d1b154cb02649fe70/expr.ipynb\"><img src=\"data:image/png;base64,iVBORw0KGgoAAAANSUhEUgAAALgAAAAyCAMAAADYxuFLAAAAOVBMVEX///8AAAAAAAAAAAAAAAAA\n",
       "AAAAAAAAAAAAAAAAAAAAAAAAAAAAAAAAAAAAAAAAAAAAAAAAAAAAAAACXHtMAAAAEnRSTlMAq1Rm\n",
       "mUTNIjK7EInv3Xbt5cmRiLwgAAAACXBIWXMAAA7EAAAOxAGVKw4bAAADWklEQVRo3sVaibLiIBDk\n",
       "vmF3+f+PXY4cRDAKJoGq90rLgrRMT08zCMCMIcXYPCUVmDkgHp0p7EzkUK+vtHaEd81Fdh5uzNZX\n",
       "DIXo2z7kGs7Czc2KFKfd07JvvsWTgFu3pWjaPOT7aIvMHJpjs730JOWbR30rMDIFuNkyU63AO2NP\n",
       "PZ+A2+3E4F5n4K5zDTYjP+3+0A247lyjNyuuGMLvNVNlxLR7x1X3jAtqjyneZI6j3uQMcvR8FTIl\n",
       "PWVScNwfePx4eh4VJCsjYf1ey+PHNeWwVTaWfCN+DNwjdtYcd45oB0ccbiT5jh3dv/9GDk58sZHa\n",
       "B4rRTddvZ/xSK/vHq43EngKxbjmXD+TmmABXNjItxBY10uh24AOS3baRKXR4oTa7PzexHztr1jbS\n",
       "x69ibBxG3w/cjRWOho30kTYkbcMT52f9sUgSWwz43kaayA8O13/fjlNtOMFGxmxdw0Zau262picR\n",
       "lgQ6XgjCmf7khYLuNqgHfUncYnyiSmUjbapkyLVSUzgoJY1NGBiYiaT+CniOHA4rUnkOvDs5S03K\n",
       "wANqXAksIYsCaJU+w98Bhyn9kv+oM5GMcbxhIzNVgoSvYu5CZU3F1a0ZrLDILOJt4NuMfB7UmZRx\n",
       "OYPq5BwrzrWNNGxpdSxfznEAZSywasOGOKqeVgDfZhAZx5/wh0MaqWYDxA3qeG0jV8CrRQuPkg6E\n",
       "N3R7KFZYnQDfZmRkeKnIacfdVQWotpEN05OjiVnaQImAEFScAD9weY1Tpkpd35GnV7m1SrOESWwW\n",
       "+wdLcpb6LBszIlX+/pOJKu+SU1x1cnl1a9wAzXJ92Qsp1yn1dFPHixlgN5ohYwPb4Dtdu8GtEUe1\n",
       "cyqZ3I0gSgfeENGmyj7j4Bqi8W9In73IyZ2ZHqVj2NucbOs4+my2obmoyzFYydrAv9jNYytCOQeV\n",
       "0AMHgdEjYHMaot8kFTp6NQddqJb9rmuwlTV+OC37CpjnEPTfCD3fEAKkILkY6wZFij/fgqMvJcgM\n",
       "xXxC0xNYcvweIeZKdTNlwmXK/lAVtDbJY/dh1065eNsO5cgLFSlPUTfdZlyl7FuuSDAGiOD+7vik\n",
       "m06mf83vSbfiwvwWaYvApOF+alLOuxIvf4QwQBQGJg42HG3B5v5gZfiHNjvu/2smHQzRABnnAAAA\n",
       "AElFTkSuQmCC\n",
       "\" style=\"display:inline;vertical-align:middle;\" /></a><br>(see <a class=\"ProveItLink\" href=\"../../../__pv_it/theorems/de7ec833ab06d7b08e6036df72ad7f40a82d9f780/dependencies.ipynb\">dependencies</a>)<br>"
      ],
      "text/plain": [
       "<IPython.core.display.HTML object>"
      ]
     },
     "metadata": {},
     "output_type": "display_data"
    },
    {
     "name": "stdout",
     "output_type": "stream",
     "text": [
      "frac_zero_numer may now be readily provable (assuming required theorems are usable).  Simply execute \"%qed\".\n"
     ]
    }
   ],
   "source": [
    "%proving frac_zero_numer"
   ]
  },
  {
   "cell_type": "code",
   "execution_count": null,
   "metadata": {},
   "outputs": [],
   "source": []
  }
 ],
 "metadata": {
  "kernelspec": {
   "display_name": "Python 3",
   "language": "python",
   "name": "python3"
  }
 },
 "nbformat": 4,
 "nbformat_minor": 0
}