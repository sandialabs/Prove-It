{
 "cells": [
  {
   "cell_type": "markdown",
   "metadata": {},
   "source": [
    "Proof of <a class=\"ProveItLink\" href=\"../../../../../_theory_nbs_/theory.ipynb\">proveit</a>.<a class=\"ProveItLink\" href=\"../../../../_theory_nbs_/theory.ipynb\">numbers</a>.<a class=\"ProveItLink\" href=\"../../theory.ipynb\">division</a>.<a class=\"ProveItLink\" href=\"../../theorems.ipynb#strong_div_from_denom_bound__all_pos\">strong_div_from_denom_bound__all_pos</a> theorem\n",
    "========"
   ]
  },
  {
   "cell_type": "code",
   "execution_count": 1,
   "metadata": {},
   "outputs": [],
   "source": [
    "import proveit\n",
    "theory = proveit.Theory() # the theorem's theory"
   ]
  },
  {
   "cell_type": "code",
   "execution_count": 2,
   "metadata": {},
   "outputs": [
    {
     "data": {
      "text/html": [
       "With these <a href=\"allowed_presumptions.txt\">allowed</a>/<a href=\"disallowed_presumptions.txt\">disallowed</a> theorem/theory presumptions (e.g., to avoid circular dependencies), we begin our proof of<br><strong id=\"strong_div_from_denom_bound__all_pos\">strong_div_from_denom_bound__all_pos:</strong> <a class=\"ProveItLink\" href=\"../../../__pv_it/theorems/2985f6b9618dbd4ac1644eeee6fafc5e988f5cfa0/expr.ipynb\"><img src=\"data:image/png;base64,iVBORw0KGgoAAAANSUhEUgAAAOcAAAAyBAMAAABVKdGPAAAAMFBMVEX///8AAAAAAAAAAAAAAAAA\n",
       "AAAAAAAAAAAAAAAAAAAAAAAAAAAAAAAAAAAAAAAAAAAv3aB7AAAAD3RSTlMAq1RmmUTNIjK7EInv\n",
       "3XZ/CtNrAAAACXBIWXMAAA7EAAAOxAGVKw4bAAAEFUlEQVRYw7VYTWgTQRR+2c02+5NsC4JSKzWg\n",
       "R7U5FSzSH/qjh6rBQkEUk6ogepAteJIirUctNFpQoyhbKWoJNEGhioJN9aBSlPqHoihbqNZWqMUe\n",
       "lB7U2Z3NbprZJFuZzqGTvpndb+fN9755bwCoNqG78PiQCvTbqiLj/Af6mJ5UsRmb6YNWF50hldHG\n",
       "9D0pPuc1bdCAVnzOJtpU2uZiTkk9ZdBx7OSKaYcVZ6zcL7qY8qLR7VeERXLQsnZQ3lKDmeJj8E4Q\n",
       "Y7a1iu6m9hly5J2HABmutjWpUQVdZ/z1xyAZJsZsqzBBFXQss5I6csy2slSZxC/g1wdhNaMQoJZV\n",
       "XKBKXrwEQWPeeMnjx7aOUT3W0pinlfc6v5Hsta1XAQyab6ABirjiqo0CNOv9ERqgSZcCVxeGHl2i\n",
       "YlTCVHM9rwQJhBSkAVqV+xbxUD6PsCGk/FSIVEfkR4nPTvNKEY2ef/o0TgX0h0JG0UcHoS1Fm7kD\n",
       "4DIV0FEHAPYNafRHATrBVzRvkTKyXWjSbqfjgzlMrD+AxFdQpXD+5G2k4XgWmFAIdD3u/hrNsnId\n",
       "qmWdx6BIRBgtD4/4yXhYluBuKi+o6gSa07ijuQ7QQSFa6wzahNgoy1Cj5QM9sdaFezsc3Qu3j+ns\n",
       "rr2rG+a2T6FJ3CR4QA6BATpbLzXtbGrOApWnTm1HXc8agANlYBFiVHEikuJIJOhCj4nveP2MkJXy\n",
       "EhTiw6VqLwwZ75d810K5K532xA4C7EXAorbIp62Q6XYXMn79Mz1osrfeeJiFazzqTm6GGWgznvJe\n",
       "iRFECglaN+y9r+vn9Qk5ll8chp3FIaPR/rCM3YTPxAqohOp4PB6UZWkPyd5SBfhHZvHisRS3KjcI\n",
       "ROdsPpnJoJKKUKN7gk/79H/fwlM4a6xU5vapdpyaoL2gQOK8QYqw31pfX2iZB4Nf6WtTE9AlRb2Q\n",
       "AHjPzaP4NfYU7medWAaoLz0CyCb366DdEdJtbg8GrnHLHegNer88nEUdbNwaBd8lZG//mhpsyQGF\n",
       "Xfvm9A9iESrTeMEOheh/abT5CUFREZCrEvF47i4tjVPmItyEfrs4TbsDXSoinGp2Hq09TxqUa6jk\n",
       "7OWxZjExPHnrAXFAi1MhGMA/ny2N5EzH1aZcgrZ9z5LNn7ivlyvJukJi0mbi6/uz3KrXRbLNKuyi\n",
       "hyDyafQd5SuQbEMrXjB4HRil+jV4gbeeblkRMXnnd8rQIir/G0cW3QIqYAZqRBFJyW0BGbO7jm6p\n",
       "iOk7FF5nKVhWOwcCFtqXK1H+V51phT3kWANEQitR/mPPDc4xjQ559MDD3YYSCbQvkkoKXpiNmISi\n",
       "DMrnv7ySoiI+DF9Rv6abKXCvhe8N6V/TFbiQZGpxltUO9NvBYhtwbAVAi10y3zBo9A9e0Afp4T6S\n",
       "cwAAAABJRU5ErkJggg==\n",
       "\" style=\"display:inline;vertical-align:middle;\" /></a><br>(see <a class=\"ProveItLink\" href=\"../../../__pv_it/theorems/9cfa9de44d15153995f82fa5960a6cbbad7981ae0/dependencies.ipynb\">dependencies</a>)<br>"
      ],
      "text/plain": [
       "<IPython.core.display.HTML object>"
      ]
     },
     "metadata": {},
     "output_type": "display_data"
    }
   ],
   "source": [
    "%proving strong_div_from_denom_bound__all_pos"
   ]
  },
  {
   "cell_type": "code",
   "execution_count": null,
   "metadata": {},
   "outputs": [],
   "source": []
  }
 ],
 "metadata": {
  "kernelspec": {
   "display_name": "Python 3",
   "language": "python",
   "name": "python3"
  }
 },
 "nbformat": 4,
 "nbformat_minor": 0
}