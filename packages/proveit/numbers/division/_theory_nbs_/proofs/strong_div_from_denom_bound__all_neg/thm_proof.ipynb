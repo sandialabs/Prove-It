{
 "cells": [
  {
   "cell_type": "markdown",
   "metadata": {},
   "source": [
    "Proof of <a class=\"ProveItLink\" href=\"../../../../../_theory_nbs_/theory.ipynb\">proveit</a>.<a class=\"ProveItLink\" href=\"../../../../_theory_nbs_/theory.ipynb\">numbers</a>.<a class=\"ProveItLink\" href=\"../../theory.ipynb\">division</a>.<a class=\"ProveItLink\" href=\"../../theorems.ipynb#strong_div_from_denom_bound__all_neg\">strong_div_from_denom_bound__all_neg</a> theorem\n",
    "========"
   ]
  },
  {
   "cell_type": "code",
   "execution_count": 1,
   "metadata": {},
   "outputs": [],
   "source": [
    "import proveit\n",
    "theory = proveit.Theory() # the theorem's theory"
   ]
  },
  {
   "cell_type": "code",
   "execution_count": 2,
   "metadata": {},
   "outputs": [
    {
     "data": {
      "text/html": [
       "With these <a href=\"allowed_presumptions.txt\">allowed</a>/<a href=\"disallowed_presumptions.txt\">disallowed</a> theorem/theory presumptions (e.g., to avoid circular dependencies), we begin our proof of<br><strong id=\"strong_div_from_denom_bound__all_neg\">strong_div_from_denom_bound__all_neg:</strong> <a class=\"ProveItLink\" href=\"../../../__pv_it/theorems/327e11f1b9da3d8c007ed097afa54f66cd7b496d0/expr.ipynb\"><img src=\"data:image/png;base64,iVBORw0KGgoAAAANSUhEUgAAAOcAAAAyBAMAAABVKdGPAAAAMFBMVEX///8AAAAAAAAAAAAAAAAA\n",
       "AAAAAAAAAAAAAAAAAAAAAAAAAAAAAAAAAAAAAAAAAAAv3aB7AAAAD3RSTlMAq1RmmUTNIjK7EInv\n",
       "3XZ/CtNrAAAACXBIWXMAAA7EAAAOxAGVKw4bAAAD5ElEQVRYw7VYXUgUQRz/n3fr7u2eexeBEIod\n",
       "GEWgeU+CUnriWRGKh4IvPXj1EvgQ22tI1FNQghf00CXZBhLJiR4FSkZ+PFlI0QdRFMYJFmhpooTg\n",
       "gzU7s3t33uzdrjI3Dzd3//nt/m5mfv+PGQCmzX09//iwCuzbQYtx4St7TkfCClHNnrTWEiH5WHPy\n",
       "c9aYj6xJS5LWmCrWUjppA1McZEw6T7orU9dMBnUrt8WWU97GHTcHD+k1TFkvMN5SosyRALTRgylr\n",
       "DdtN7SfhqB3gGz2Yso4lmZKWk+41iH/pwZTV/Y4p6Sz+FHfAuU6Npa1OpkoSNsnrN8AROUaRpqzi\n",
       "JlPx6lMYhOog7Yxp6yzTtDZD+ke/blbQGS5tfQCAZV7JgtQTtYebBmjR+kssSMdsBrjGMNzQskOU\n",
       "iZsmbeOKUYCQ/CxIa8zfclShV8QZQJGfiZAaTeujU+eyLV4kozcLC/NMSP8oJsbVScrkRZt5FuA+\n",
       "E9JpOpKLL0322RNBeQ54+3VLPoG2U6R8W8AsGaHg61alcO7ibbzpcubvfDI/TLp/uOGvpWlpedPW\n",
       "EhREipI5dCQsxsKyBBOJnKSiGWlGKzXVs0YKkQZz0hBSoyxDfTIXKd+k7nd54WkP+og3TGiGtTNL\n",
       "SIPcIjhA1h5ApCtBPhQKtWSSEpRwQCFIQ0iKfSFBL9KR+FnQcoSsHCpGSzLqVftgGGcOiR8MZM+U\n",
       "oLi7io40XMbET8XVFZpU060DgV1BQVtpJwwKqLtaDcvQid/vGohSQsIobkA1kPmDA+WoXsMFPGGZ\n",
       "+A3JiWVQAbWxWMwvy1KHiXoRqs+fQhph0NwJaqkwaChzTHHXa/9cmOG1n5/gFdzGM5W58ypFqqHE\n",
       "534DaQTywB4Tg0fp71Tj0CtFXBAH+MKtI//FewqTwWxSjAJY1kg0ZPay2U0MXPOJZ2jFXD+mVrSF\n",
       "O1IXAf4esnf9TAydzibFKNTqEKuGNFwhsq8Yrf8Fv6i40fvisRi1S7uDw3GFIPXD6Yw90t1BhFP1\n",
       "zpHsyvFAdhjMRDrJqQJGF5+8oEPRaDOIPr0CzmxOo+MaEjZJM5HChp4U5AoXXVAnqvTCl9/Za/pS\n",
       "rIttp+LcdlBCFvxt4IiyL7ahlbweXCaKEuEteLCvONgeK7p13XnMKjRuWz9gedkeoEp0R+1WRLqI\n",
       "QNP/TaIl26Mike9wuBwkk/rfB3fwl/eFOP7X3GqFDnrM5eM2C3H8Jys3tFbUbFIxiGVLW/qM2bbi\n",
       "vBdmEhZ1N+srHSHP5dU4jOD5f2B+Tbece+g7Sr0FuabLdyFZuYS9uAvYt4tWG9BTAFKrS+bHWEb/\n",
       "AZmoB/AeELOtAAAAAElFTkSuQmCC\n",
       "\" style=\"display:inline;vertical-align:middle;\" /></a><br>(see <a class=\"ProveItLink\" href=\"../../../__pv_it/theorems/56aea67ca3262ed30392635c78bad751c30a4b3c0/dependencies.ipynb\">dependencies</a>)<br>"
      ],
      "text/plain": [
       "<IPython.core.display.HTML object>"
      ]
     },
     "metadata": {},
     "output_type": "display_data"
    }
   ],
   "source": [
    "%proving strong_div_from_denom_bound__all_neg"
   ]
  },
  {
   "cell_type": "code",
   "execution_count": null,
   "metadata": {},
   "outputs": [],
   "source": []
  }
 ],
 "metadata": {
  "kernelspec": {
   "display_name": "Python 3",
   "language": "python",
   "name": "python3"
  }
 },
 "nbformat": 4,
 "nbformat_minor": 0
}