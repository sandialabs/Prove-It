{
 "cells": [
  {
   "cell_type": "markdown",
   "metadata": {},
   "source": [
    "Proof of <a class=\"ProveItLink\" href=\"../../../../../_theory_nbs_/theory.ipynb\">proveit</a>.<a class=\"ProveItLink\" href=\"../../../../_theory_nbs_/theory.ipynb\">numbers</a>.<a class=\"ProveItLink\" href=\"../../theory.ipynb\">division</a>.<a class=\"ProveItLink\" href=\"../../theorems.ipynb#div_rational_nonzero_closure\">div_rational_nonzero_closure</a> theorem\n",
    "========"
   ]
  },
  {
   "cell_type": "code",
   "execution_count": 1,
   "metadata": {},
   "outputs": [],
   "source": [
    "import proveit\n",
    "theory = proveit.Theory() # the theorem's theory"
   ]
  },
  {
   "cell_type": "code",
   "execution_count": 2,
   "metadata": {},
   "outputs": [
    {
     "data": {
      "text/html": [
       "With these <a href=\"allowed_presumptions.txt\">allowed</a>/<a href=\"disallowed_presumptions.txt\">disallowed</a> theorem/theory presumptions (e.g., to avoid circular dependencies), we begin our proof of<br><strong id=\"div_rational_nonzero_closure\">div_rational_nonzero_closure:</strong> <a class=\"ProveItLink\" href=\"../../../__pv_it/theorems/8fb7a6f8a63b9a388dfcab155c5ddcc368f583540/expr.ipynb\"><img src=\"data:image/png;base64,iVBORw0KGgoAAAANSUhEUgAAALoAAAAmCAMAAABEdHH7AAAARVBMVEX///8AAAAAAAAAAAAAAAAA\n",
       "AAAAAAAAAAAAAAAAAAAAAAAAAAAAAAAAAAAAAAAAAAAAAAAAAAAAAAAAAAAAAAAAAAAAAAAeYafp\n",
       "AAAAFnRSTlMAq1RmmUTNIjK7EInv3Xah18O17eXJ8+7nKwAAAAlwSFlzAAAOxAAADsQBlSsOGwAA\n",
       "A7pJREFUWMPNWIly5SgMBMQN1uzOwf9/6iAMvmM7Dk4NVUmcV88gmla3BGPvDil6z+i1Z98xJK8P\n",
       "hgc02GVOO3xH7KDrg4qGMZf6rAn8/chtrLH6CHQEQ6d5nXg9dB0abxL9HsJjfm/+jW9TRkwEiY4W\n",
       "TOrhRKG8GAKGbQq9NSaUfaIEhfRwHlMChTyHcvWTZN5l+gS6T0ROrpl4tCIvb0Wbf7WQXXg1dO7m\n",
       "vMqIiUEy+WQeFUagCYhYExTiq6EnmPOKY7CGo71OyODykCO4kp7dr/wD9QwHaIzJe5gJL6AzXx6w\n",
       "Aznxwgx8JgTCgn6xuVo+QiantNd9qf8kKwOEEqiSLSGZnzKTQk9N0WU2OztZtetMdf35gwqsvuSK\n",
       "oBBhfv9xhTDrNGVIwLRqJnS2qHitveiGPOYtOu/rS8HWTUzIMiRx5LNn5J1ApbjunaVX+qU0rk0x\n",
       "c8NWLgvBpB13M7MpoPRzJhHSkbY+xPCewBwbza54zXxR9aX8Fyg28VGx6cv0u+11GSZdEHCvCgrH\n",
       "eGkXOArex1QoBl181jyrCjydlUGBZq+NV6Hvdxsmgc6oY5Y+oS74SICHgy9Z7Q4cQ3I+x1nskU5+\n",
       "F4haFFtpHouCeKhjYborrp/TIJWliVCHJzMZg0XunCJcQlHfBiioUoJSwvhPou4PtNh5s1WYi9Dz\n",
       "t+AwHWI1binrQzAUjwcwLEgpf/wns6MZ6iAG+1nCDIfVyqzrF68nrJLest0HwGCm1RG5n6w4f2DH\n",
       "0g8ZznSpqJtdml4oDB6gJZubcuXuCZhp9uEHs6g9MPevKBdHC378PoWeUf//pyTUC1J6r15XTbQ+\n",
       "wDW0GkbeFTA+MYPyZ6IelMZYTfA1tHPgFFybPisM7OufeLW6507tUtHIpHWSlyWm3bZcUVHxtqR6\n",
       "bqVAl9oz97JqRZgLCVjJk3fxkNtuVQg0GOH61kNsbhc8ccWBr5+msba3s88u0nRUl7MrmHU3oG+3\n",
       "GTwjw4U9nz5skYhEdQV+tJpMdXAro7XlSMKtyh7WuKT71Z3gTkd3vobbWqiSIJCS3FInZeWoAsbZ\n",
       "2ZIGqbm9E4BfBatS30LjTL/ErutSlTP2Zjfl5NkBf22okxZM+Y8vQEHinRuVVeurefaIfh1BOPHa\n",
       "E2Qtwk3GqMVzNj3f7/Ykvnx1t4BGrJvirw589y5jUQONXfCNxulfAX1xRz3e4anUaUXU7PWhYanq\n",
       "spNAmmjeD53KuTF02y7Ze0z6/vX6onfmsNH5LwwH7FuGsbVKDLLTir5J7l/U0x6H141ZEgAAAABJ\n",
       "RU5ErkJggg==\n",
       "\" style=\"display:inline;vertical-align:middle;\" /></a><br>(see <a class=\"ProveItLink\" href=\"../../../__pv_it/theorems/605162bc3d463917d40539d1e87e4f15cf34bbbe0/dependencies.ipynb\">dependencies</a>)<br>"
      ],
      "text/plain": [
       "<IPython.core.display.HTML object>"
      ]
     },
     "metadata": {},
     "output_type": "display_data"
    },
    {
     "name": "stdout",
     "output_type": "stream",
     "text": [
      "div_rational_nonzero_closure may now be readily provable (assuming required theorems are usable).  Simply execute \"%qed\".\n"
     ]
    }
   ],
   "source": [
    "%proving div_rational_nonzero_closure"
   ]
  },
  {
   "cell_type": "code",
   "execution_count": null,
   "metadata": {},
   "outputs": [],
   "source": []
  }
 ],
 "metadata": {
  "kernelspec": {
   "display_name": "Python 3",
   "language": "python",
   "name": "python3"
  }
 },
 "nbformat": 4,
 "nbformat_minor": 0
}