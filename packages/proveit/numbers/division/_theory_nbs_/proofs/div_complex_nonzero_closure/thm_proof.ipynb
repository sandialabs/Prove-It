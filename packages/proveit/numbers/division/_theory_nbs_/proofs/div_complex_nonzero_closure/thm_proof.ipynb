{
 "cells": [
  {
   "cell_type": "markdown",
   "metadata": {},
   "source": [
    "Proof of <a class=\"ProveItLink\" href=\"../../../../../_theory_nbs_/theory.ipynb\">proveit</a>.<a class=\"ProveItLink\" href=\"../../../../_theory_nbs_/theory.ipynb\">numbers</a>.<a class=\"ProveItLink\" href=\"../../theory.ipynb\">division</a>.<a class=\"ProveItLink\" href=\"../../theorems.ipynb#div_complex_nonzero_closure\">div_complex_nonzero_closure</a> theorem\n",
    "========"
   ]
  },
  {
   "cell_type": "code",
   "execution_count": 1,
   "metadata": {},
   "outputs": [],
   "source": [
    "import proveit\n",
    "theory = proveit.Theory() # the theorem's theory"
   ]
  },
  {
   "cell_type": "code",
   "execution_count": 2,
   "metadata": {},
   "outputs": [
    {
     "data": {
      "text/html": [
       "With these <a href=\"allowed_presumptions.txt\">allowed</a>/<a href=\"disallowed_presumptions.txt\">disallowed</a> theorem/theory presumptions (e.g., to avoid circular dependencies), we begin our proof of<br><strong id=\"div_complex_nonzero_closure\">div_complex_nonzero_closure:</strong> <a class=\"ProveItLink\" href=\"../../../__pv_it/theorems/3a72b6ca75f268b08deffd2d78e9ab2e3689cc020/expr.ipynb\"><img src=\"data:image/png;base64,iVBORw0KGgoAAAANSUhEUgAAALgAAAAmCAMAAABAgaHGAAAARVBMVEX///8AAAAAAAAAAAAAAAAA\n",
       "AAAAAAAAAAAAAAAAAAAAAAAAAAAAAAAAAAAAAAAAAAAAAAAAAAAAAAAAAAAAAAAAAAAAAAAeYafp\n",
       "AAAAFnRSTlMAq1RmmUTNIjK7EInv3Xah18O17eXJ8+7nKwAAAAlwSFlzAAAOxAAADsQBlSsOGwAA\n",
       "A49JREFUWMPVWImS4yoMBCRuzL63B///qYswGB9JnHHwVC1Vk8qkElmIVncLxm5dKAYHdMqxb1jI\n",
       "6xvNfdRxREgzfUPmoOobGTRjNg15JPDb8zahZuoCUPmnMWGtuDtx5RtiEr1O/iqud/+Gm8EiFmgE\n",
       "S89L8locX37nffT7zrlpLRV2idoS0rUwuqQJOYS09ZOkb0X4UnCXCJVcMXHlgbz8KJj80hK2/s7E\n",
       "ue3tlMslJmR4IYz0c5GpCqG2JYQ7E0/Q24lHbzSP5rwPvZ2UitrkdNHS+pX/oB7fBA0reQcd6ALG\n",
       "IuUCLiIn4nSYbDucCCvchSZh+fQYLr2uhkL+Si9inIHBoCXuln6kxFNjcMzKZhZVtmMhrr5+SMhs\n",
       "bWiOM1R+/7EFKtvmZJGq0lyLHytI4Q2yjXbKa9khd6wVz1WELEEi0SHvEpH3ARXaanBvnlKWVHEr\n",
       "gZbpHe/Y/oUsQOh6A1GVA217Cv42UnkiLHuDmpXGbJMQz/ykK9HR7DY3Yul0hrwDF+Ss5Xa3z0FQ\n",
       "tLhoqr6k/44qpKOI+siGp4kf9opMbkos5AkQqdj+wZeMsg/6CXkfCQok6cgPWciVpUp9rT3vVJdd\n",
       "YfxdvCZsUHp4KrzFMZFbK4lWyTmI5hVAFpdJfeK+WnF3LIrtrPJe4jlreNgGoWo0Yn3jXfkeeOYR\n",
       "8cd/mOVL03wwmS9D5ThWyM7j7MQCp1gpvHW48xC9Xh4eY+bWJrvErmYOqDtQasX1oTnPWCXGR8rJ\n",
       "uzS+wVm6qYWb9MpkxDyXRlwdqtCLMc0V//8nUsULytSRsE5HYyUedJBCzRw5yfc4iy+YoK5ZMAdl\n",
       "3u0cBQ46ll0LnlkFjjYnnHpYx610R3cY0oRnrsnsp6kgyaGtIZ7HJFDFX+YZ1RjZsYyviX/DSM6G\n",
       "6aHXtmvJvzIVtvOlWwRw9dM0e/eVnNXmpPEVTtoHt2ZfXRkino+h+zIEgrjMeCjKkiEOdiOq2pdT\n",
       "9G9c7cC2KGmohbP8QEggogcCuiCbOXe+tqZjMOMGzRux3SZVmYY6ileUJbYtY4sAfakq+OpsP1ry\n",
       "xXQlP67QZqJVPEvCMLT4F/38+fy5vgByKSucG3YdEu69hFvVRWxn3Q9XvPV2YmV1moIn/08UfHXL\n",
       "PN/GyUGUGBW7eylYsziOoUQd9O2Jk2ebEzftknxAzNuvx1cDMYcdr38gmsC+Y2lTjaDHMQ90jWP/\n",
       "AgW8HQ3MOnpAAAAAAElFTkSuQmCC\n",
       "\" style=\"display:inline;vertical-align:middle;\" /></a><br>(see <a class=\"ProveItLink\" href=\"../../../__pv_it/theorems/163cf2ebb3b52e350caedfd1e20bc4614f858ef90/dependencies.ipynb\">dependencies</a>)<br>"
      ],
      "text/plain": [
       "<IPython.core.display.HTML object>"
      ]
     },
     "metadata": {},
     "output_type": "display_data"
    },
    {
     "name": "stdout",
     "output_type": "stream",
     "text": [
      "div_complex_nonzero_closure may now be readily provable (assuming required theorems are usable).  Simply execute \"%qed\".\n"
     ]
    }
   ],
   "source": [
    "%proving div_complex_nonzero_closure"
   ]
  },
  {
   "cell_type": "code",
   "execution_count": null,
   "metadata": {},
   "outputs": [],
   "source": []
  }
 ],
 "metadata": {
  "kernelspec": {
   "display_name": "Python 3",
   "language": "python",
   "name": "python3"
  }
 },
 "nbformat": 4,
 "nbformat_minor": 0
}