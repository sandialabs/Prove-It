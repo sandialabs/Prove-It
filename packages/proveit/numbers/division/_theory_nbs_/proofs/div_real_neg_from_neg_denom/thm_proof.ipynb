{
 "cells": [
  {
   "cell_type": "markdown",
   "metadata": {},
   "source": [
    "Proof of <a class=\"ProveItLink\" href=\"../../../../../_theory_nbs_/theory.ipynb\">proveit</a>.<a class=\"ProveItLink\" href=\"../../../../_theory_nbs_/theory.ipynb\">numbers</a>.<a class=\"ProveItLink\" href=\"../../theory.ipynb\">division</a>.<a class=\"ProveItLink\" href=\"../../theorems.ipynb#div_real_neg_from_neg_denom\">div_real_neg_from_neg_denom</a> theorem\n",
    "========"
   ]
  },
  {
   "cell_type": "code",
   "execution_count": 1,
   "metadata": {},
   "outputs": [],
   "source": [
    "import proveit\n",
    "theory = proveit.Theory() # the theorem's theory"
   ]
  },
  {
   "cell_type": "code",
   "execution_count": 2,
   "metadata": {},
   "outputs": [
    {
     "data": {
      "text/html": [
       "With these <a href=\"allowed_presumptions.txt\">allowed</a>/<a href=\"disallowed_presumptions.txt\">disallowed</a> theorem/theory presumptions (e.g., to avoid circular dependencies), we begin our proof of<br><strong id=\"div_real_neg_from_neg_denom\">div_real_neg_from_neg_denom:</strong> <a class=\"ProveItLink\" href=\"../../../__pv_it/theorems/1fc8f1530dd4783345cd93b86d00e58586c4d4a10/expr.ipynb\"><img src=\"data:image/png;base64,iVBORw0KGgoAAAANSUhEUgAAAMsAAAAmBAMAAACYD3JcAAAAMFBMVEX///8AAAAAAAAAAAAAAAAA\n",
       "AAAAAAAAAAAAAAAAAAAAAAAAAAAAAAAAAAAAAAAAAAAv3aB7AAAAD3RSTlMAq1RmmUTNIjK7EInv\n",
       "3XZ/CtNrAAAACXBIWXMAAA7EAAAOxAGVKw4bAAADUElEQVRIx6WXXUgUURTHj7uzOzM767ggBCXI\n",
       "QM/lhCAkYStt1kuxJPRi0BCBZBHjS0+CCkEPCU6fNEYxQgViMEtGRhBIQVhhSAiCtbUi9CFBYpBl\n",
       "UN353Dvj7ozMveB19+zZ+5tz7v+eexaAYFDCJpzuaUA42tEf3fC5FOjELBBS4hKajsnserDbLkLM\n",
       "EEpH6jlQs8FurECGOW1szwrUFoLdUq+IKDEjWWkF9PwmtjD6MKPQS7C3ukvWnPtlEsywoVRdgC2x\n",
       "qsso1uYUSDBbzSVKsTkKgjHxKRLMD3N/Gx/3fvHp/Iz68/0VDEOvAmSMF9sjUJi1qgqmM4n6kTIG\n",
       "5gD2G/+7oxzOleqYAiiDQKnqS9WMqgNg0IhKiYCpkYIwB5JYNN8BkkgvXJRzms74LV+LRcnFsBim\n",
       "aQDiIkJFUUCdX6ZHl7Foto1imGEUxkyx+DoSRvS+p3uwpDGXuzGMjlwPAoxsXIQLxfT7Mp2Uy5gX\n",
       "Hz9o5SoAdeiq6AU6U+HGCi8CfgwmgYlWyZ9fVuPw2rfjUftZF8Oc8lrxcdz81j9jmNIeKqKh2Ekb\n",
       "afZgUFSxkvsczKKa5zmYLLjRNHitQdGM4YI+z2o+DEhtztvcAADPQ2uJyx3Kmed2GrfSuZxlrYip\n",
       "xTHUBfwoGnsDDwyJjLdNAm9oBy24nHWT9ndRw60eCfiUxpcwTEpZ8ouyDykgNY9KlBk2z9G3RQfD\n",
       "L/BZ3IoP3d9pnChjstDM5n2irEFJobLMFHSaC1I3FVcCrBiXcKunCviig9FrmlOhf8vs9VVsGx1k\n",
       "Os9noEVVVYHnuSPuuUkPUBnc6hGwxR2bcS1dt4qV61yTowddZlu1i+Zz84kuVyV1kBY2Wu2TZV9W\n",
       "J8MLxlM3A/Jwp2aKEEn3iZ2OcajVdoPf6l4Ednu2Go655LxI7Ns5AfQNowB+KtzpsPswgTlc2mB1\n",
       "+yJr/cT6Ju/Z8hhXVU8zJFS0OuOqVfxmQymJteCPg5vsPZYSGhfDbitOCr6Gg79ttYF6T2ot7AIk\n",
       "6m6th0RifRPi+I2sh56224k/IX7PyDAtxvQOEiGS5iUyTFI0jw0VIuk+mQyTmkfTL7gvBnu9Jf1R\n",
       "eA4pvt4+P9V/RYmkGBrV9tGHIcvcNab/oGfhO2nNP/MAAAAASUVORK5CYII=\n",
       "\" style=\"display:inline;vertical-align:middle;\" /></a><br>(see <a class=\"ProveItLink\" href=\"../../../__pv_it/theorems/5a2c51a34deae9347cb1e036e383293cb10004550/dependencies.ipynb\">dependencies</a>)<br>"
      ],
      "text/plain": [
       "<IPython.core.display.HTML object>"
      ]
     },
     "metadata": {},
     "output_type": "display_data"
    }
   ],
   "source": [
    "%proving div_real_neg_from_neg_denom"
   ]
  },
  {
   "cell_type": "code",
   "execution_count": null,
   "metadata": {},
   "outputs": [],
   "source": []
  }
 ],
 "metadata": {
  "kernelspec": {
   "display_name": "Python 3",
   "language": "python",
   "name": "python3"
  }
 },
 "nbformat": 4,
 "nbformat_minor": 0
}