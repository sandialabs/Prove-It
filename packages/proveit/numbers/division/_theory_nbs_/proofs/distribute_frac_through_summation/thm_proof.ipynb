{
 "cells": [
  {
   "cell_type": "markdown",
   "metadata": {},
   "source": [
    "Proof of <a class=\"ProveItLink\" href=\"../../../../../_theory_nbs_/theory.ipynb\">proveit</a>.<a class=\"ProveItLink\" href=\"../../../../_theory_nbs_/theory.ipynb\">numbers</a>.<a class=\"ProveItLink\" href=\"../../theory.ipynb\">division</a>.<a class=\"ProveItLink\" href=\"../../theorems.ipynb#distribute_frac_through_summation\">distribute_frac_through_summation</a> theorem\n",
    "========"
   ]
  },
  {
   "cell_type": "code",
   "execution_count": 1,
   "metadata": {},
   "outputs": [],
   "source": [
    "import proveit\n",
    "theory = proveit.Theory() # the theorem's theory"
   ]
  },
  {
   "cell_type": "code",
   "execution_count": 2,
   "metadata": {},
   "outputs": [
    {
     "data": {
      "text/html": [
       "With these <a href=\"allowed_presumptions.txt\">allowed</a>/<a href=\"disallowed_presumptions.txt\">disallowed</a> theorem/theory presumptions (e.g., to avoid circular dependencies), we begin our proof of<br><strong id=\"distribute_frac_through_summation\">distribute_frac_through_summation:</strong> <a class=\"ProveItLink\" href=\"../../../__pv_it/theorems/56ec75d1e006ae00f70305888eec71508038e27a0/expr.ipynb\"><img src=\"data:image/png;base64,iVBORw0KGgoAAAANSUhEUgAAAscAAABMCAMAAAC2wOouAAAAOVBMVEX///8AAAAAAAAAAAAAAAAA\n",
       "AAAAAAAAAAAAAAAAAAAAAAAAAAAAAAAAAAAAAAAAAAAAAAAAAAAAAAACXHtMAAAAEnRSTlMAq1Rm\n",
       "mUTNIjK7EInv3Xbt5cmRiLwgAAAACXBIWXMAAA7EAAAOxAGVKw4bAAAM20lEQVR42u1dibKtKAyU\n",
       "TQSUmeH/P3bcZVMM6tVjmaqZqnfjcWmb2AlBi+Kglax4l1WmN3TP0Z8K55+g0gwHGf/FGwn0HzCK\n",
       "itfxWJHW7uHTY+H8E1S6IxA08bRQCOjPN1zL9/GY33bs58L5d6iQmadFTTL8OSZP29PH42fDeQuP\n",
       "WeygKX+OobL4eHyePRjOW3hcIAH3Z10c+3h85pHZh4rDU24w2J+TXL8wHN/I4yfDeQ+PC9GA/RlZ\n",
       "yRvD8X08fjScN/G4Mhrqz4gfTfHx+MRw3Hyo+DwtRA31Z1ya/nh85nH1h0rAUxwo4JQfnl0b+fH4\n",
       "xGLFAmdp6ma0uu6nsE5Cmm/865k8LkwJ9ENNGlF8PD7NbDiZsSSGZMqcFKq1G7uY/gEeI1PB/PDj\n",
       "4Y/HZ94+C05lqMNxBJfOWhgjEBIlnWM5Vv425Pk8ZkbB/FAT75QVd/HYhbP0ahco45zGJ66Y5rpl\n",
       "+AQu5S2obMobj6eFqWF+8HPwldWKu3jswcmN22khdcZ16DETGn9Lw+hL6B2obMsbn6fCEw4pPzj8\n",
       "q4/HZz5Nlffvo9mHHu+vnvYci1u7+5JyUYHLG5+nOkBm2w9Or9nH4zOrFcz/w8HcThg3XuFYYl+S\n",
       "y1GByhufp5VXkUj5gVab4uPxeRbAKeuDifgY0OeyNFWTROkFhuybd3e38GajApY3Pk8Lr+qY8n/y\n",
       "+EYeR+CsjiE88IerBnuhVxW4nulAyqtRAcubgKdezpvywwy/tHp8E49jcHrFNzB/kFLKWsAxErrC\n",
       "Be0GyNDyiOurUQHLm4Cn1FVYKT/M6FvTvHt4HIWzPHImwr/d9UDpNvLV3X3v/9de7NWorMgbR904\n",
       "8ibgqZfypvwwK186C3ITj6NwqiPxOMh+6ik0s05PVkN4ZFfH4zV546gbR94EPK3cCnHKD81Lqo/H\n",
       "Z6Z5IZxsX5hhSmuiq+Aq/AA/M4l2pNHDvcfNxaisyBtX3TjyJuCpNGaTx54fONxfOpt3E48jcG4u\n",
       "a680EqInB9ZReaCD5EdMKlKg6X8tKQQUldKsmIbIG1fdOOcf8LQFpyr2+0HGzVvLbrfwOAZnuXFz\n",
       "KJ2dQyRDoVAJVMq0TfduAWaIrVYBqGDj0UZyplFtVh7uq/LGVjeOvAl52jiiK+UH5tfNx+MzyxUB\n",
       "nMIts8pu/haNjLUnwAZCeqdMu1k0L0BW0yEkUpqOF9kwMCrIxO49iZNpXd7Y6saRNyFPSyfWp/xA\n",
       "2VN+PD7PQji1m+Nx3bVYtCGsau+8FM5Pjdg3KddYYVSVo3bJQKWJv1aIiuiFrckbW9048ibkKXIG\n",
       "Q8oPMuXUOnTTHMr6+G4fz9sz5ATv4LHyS0fM43UpCy67qKXbDZnDW4npvtdVjbNmHYVlPURFSjJQ\n",
       "6V6RFfsd5bE6zJq8sdWNI29CnrrXl/KDDDk/VcdaLTTe7dvT+i2VaMpS80pZ2+8/xTt4jLw74eV4\n",
       "uO5pjdoLQrqrUone8KA3Oj7sOoroL6zRw566w+wvvNqotI+AKEYkDNHr8sZWN468CXmqnKfVin8B\n",
       "EANeZiOcuaaOJHn76bcfB2OkNSqn9btNOtptJDWCWtvDeZx/QXAT3tRdg+VgnFdMl2P86+523T5X\n",
       "qgUUhgF8HPQIJpoym9jw0S3MgfTIejKO6saVNzGe7vDT+QaXgDhUBjzO20/h9D/5rVE5rd9UMzVq\n",
       "LmptD+dx9gVlmAtn+6D0TY4MGCKvmDEY3mu4t8ueu7FRA67L4bGsTf6c+SBvbHXjyhsSqSHWaX81\n",
       "xR0Omd1rHGndkSRvP85FBK1RGa3fFZ3vMqK2KgTzOPuCcmLUrkwFUyLK4YymmEYrSpX6AyHkqi3W\n",
       "Dq3sWlf/FLDUjQdwyFPiVCXX/FOAU5ATqwMe5+2nsPufgtaoPa3fWnTLiue4jWQxoSKJtX2cx0Ju\n",
       "3LHcC8qweg+PJZ+rcW0KIMZ5kHuqOMqY7FeD9vLGUjeevMnlMRljXgkDXvs8ztqP0//kt0btaP1m\n",
       "pXbhFAWnse3jPK7Exh3LvKA8Hu/IX9sUj91W7fSz31azZ5/LtrwJeYoTPB79w7sSagUDngT1ipz9\n",
       "OCUXvzUq3RvFfbXMkZ0FWduv6AqiNu5Y3gXl8XhHKsmIvq/H0OdxJ5GvOZtsHg9znAL0mDARHufs\n",
       "xw6vQWtUujcqyMBaEjOPEsP2Fo9pY1mYryx3LO+CcsyYR7z42EEGbVcjg/np63jMEjwe/RxN/+v+\n",
       "JgxVFM0ZcLybqnBl/kASZz/xiBLZ2cLaoDUq3RsVPNpaUeGXmIftV/M8XOI1HqcvyOfBlirc5vHT\n",
       "u2DDqjo9IJFhPK6cLqp1fxdx5vtM+lqdGit2K91UrXaUAY/d/SxH2W7Nmttiw9aoZG9UNb8+Slj6\n",
       "WPlXuV2vkGXt+ORyafELslJMirQt9jYKG8NulIpLAxdO88e2KzkjMiyyJFR93mlwEh7b/tO6v+PX\n",
       "kvDTITbaBQMUOUUW8tjZzzxsE61ZC4nCxCHVGyVFrALhT/Fux2NeemUrK/JEL2gal1J0Dy0s1B4e\n",
       "D1Gd6JWuYvP4xeeRWU5+Ta9Yfjxu7xWZR9ZQm57UUbSbakVXWPsBtGbNuiJsjUr3RoVAsqV+XDBr\n",
       "+zV93IQS27pjNjD+uFTDu1HILh4POq2bjCtiU7oP0RUQfdzdEP4wHis85/28+xNHdNas8W6qOI+n\n",
       "/UBas+b597A1Kt0bpcMHG9UMWeyftl+Jx5HoaN+xBZiqJTxj1riUpBp2yeM8nn4wJgYztkWN36GP\n",
       "2UUrgqI83efn9Tz4SK21xgv9V7qpYnW3ZT+Q1qy5jBa2RqV7o4oSR1RrSXl7qIba28d5zMvtO7YA\n",
       "QyvWLZdbxiXmOAhHNo/HH9C+o+ef9j/S7rnDtSGZdbdn8bi6auhl1yu6x948tBAKkuxYN1Wcx8t+\n",
       "9rdmjf1PsdaodG9U6xHMT0CkErVp5i7CYfuV+bwqcccWYIb8cRmXJJL5uMF9STjHID7wuNZv4LGs\n",
       "r3rr+BEeW4g6s2Wr3VRNnMeLf39r1lZncKo3qn9kC3teOgy5TbERj/dlNEN614M4j8uqYtUmjyvt\n",
       "p6ODrojFsebneFzS4sk85tPpSlVsdVOV4by0T8C9rVlbjT+p3qg9uQsptutu+3jcBWIu7XE55nl2\n",
       "YViEP+h0xb//iV5XrOd55eM/UeGhIq7rnYrN19UA/6AtjZJjaRZvdVOJsE/I3TWgNWurCzbRG5W2\n",
       "afuDPOYlrvqccBmXXPXSRcXrx/MPrMa5Pi1lKAnn83lMo2u58UU8Jon+Y7JZANw8KxT0H7vqCdKa\n",
       "JUXCt94blbZp+4M8ppLUfYVuGZftlbUig1ZxXTH/wJnYVq3Ol0k4H89jEq24kat4rBPrQTYXi7LN\n",
       "OUe37qD85W+w1iyud/s0kMbj9rqpz1rXtDUuowMS75AMB1aY3cDjeMUN18VFPHZXL6b8/u42D6a2\n",
       "36l1a2vW2RUmQPCP/XHPeFYnvPWx6oIJJ9ejEv0YrqQ7HynJ04ytI6UAP3DQfOv+9/EYs7+BU5Za\n",
       "CYWuRyVSceMY7e1+S59myFOReH+FyM+Smak/Hoci6EY4uexrKNejUprStqYZvvC3s9kifZqx96xg\n",
       "gB+G2vderDPtHDjldTReUKFr7WrkpNMMeVon3u925J2Z5q6vML+Sx6fAyfVPoJI6zdh7CCXAD7Pm\n",
       "rZ+5uYfHJ8DZT5nLx6OSPM2Apzzx/mN+RJShx8+k/hSPj8OJe42Ino5K+jQDnjI3CU75YaYfX7n/\n",
       "KR4fhrMSSmjVVA9HZcdpBjz1PpCX8kMz7PLj8Xl2GE7VvwWOPR2VHacZ8BS55YiUH5gbm+/7eSfa\n",
       "4+G87TvpXe4gIX5wZsI/Hp+Z6PFfRmVlWf0ZPJZeGpfyQ58Qb0307uHx0+GMoZL8SMkpPMZe70nK\n",
       "D1Z06OPxmQIZ/Roq6Y+UnMJjX/6m/FB76wem7+Hx0+GcUZmXwidXwp/EYx+YlB9q9KVf0LuJxw+H\n",
       "c0JlXgqf+ZESMI8r/0GV8sOfhOrj8ZnCQv0CKvNS+MyPlIB5rH3ZkPLDn4T1x+MzhUX9G6iMS+Fz\n",
       "P1IC5XFZA/1g0+9ssbiLx8+Gc0FlXAqf+5ESII/Dt0yl/HB7Z8XiLh4/G06Lx+NS+NyPlMB4jIJJ\n",
       "jpQfbuqV35i+jcePhnNBZVoKf9VHShyeynBwp/xwk6/M9G7j8aPhnFFZlsJf9JESh6c6vBkpf5ak\n",
       "kx+Pz1TI8vmoXP6VEoenNQX7c6xRH49PtAfDucyDXL0U3uZpbGSn/DmGX9gsdCOPHwznLf1uMtZ0\n",
       "kvJnGRUfj0+058J5C4+RyPBnPgrJx+MzlQX5eDzzlEW/o5PyZ15fLV/H497uKeY+Fs4/QaVxv7vT\n",
       "MKD/iLG3KWRJertpcu2pcP4JKsMx5i9XMID/f+kBpvWE4sKSAAAAAElFTkSuQmCC\n",
       "\" style=\"display:inline;vertical-align:middle;\" /></a><br>(see <a class=\"ProveItLink\" href=\"../../../__pv_it/theorems/9b87e8a59dfeac8f08de5be7261e0a574ad71c3e0/dependencies.ipynb\">dependencies</a>)<br>"
      ],
      "text/plain": [
       "<IPython.core.display.HTML object>"
      ]
     },
     "metadata": {},
     "output_type": "display_data"
    },
    {
     "name": "stdout",
     "output_type": "stream",
     "text": [
      "distribute_frac_through_summation may now be readily provable (assuming required theorems are usable).  Simply execute \"%qed\".\n"
     ]
    }
   ],
   "source": [
    "%proving distribute_frac_through_summation"
   ]
  },
  {
   "cell_type": "code",
   "execution_count": null,
   "metadata": {},
   "outputs": [],
   "source": []
  }
 ],
 "metadata": {
  "kernelspec": {
   "display_name": "Python 3",
   "language": "python",
   "name": "python3"
  }
 },
 "nbformat": 4,
 "nbformat_minor": 0
}