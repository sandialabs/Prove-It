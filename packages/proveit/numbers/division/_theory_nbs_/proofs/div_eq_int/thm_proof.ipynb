{
 "cells": [
  {
   "cell_type": "markdown",
   "metadata": {},
   "source": [
    "Proof of <a class=\"ProveItLink\" href=\"../../../../../_theory_nbs_/theory.ipynb\">proveit</a>.<a class=\"ProveItLink\" href=\"../../../../_theory_nbs_/theory.ipynb\">numbers</a>.<a class=\"ProveItLink\" href=\"../../theory.ipynb\">division</a>.<a class=\"ProveItLink\" href=\"../../theorems.ipynb#div_eq_int\">div_eq_int</a> theorem\n",
    "========"
   ]
  },
  {
   "cell_type": "code",
   "execution_count": 1,
   "metadata": {},
   "outputs": [],
   "source": [
    "import proveit\n",
    "theory = proveit.Theory() # the theorem's theory"
   ]
  },
  {
   "cell_type": "code",
   "execution_count": 2,
   "metadata": {},
   "outputs": [
    {
     "data": {
      "text/html": [
       "With these <a href=\"allowed_presumptions.txt\">allowed</a>/<a href=\"disallowed_presumptions.txt\">disallowed</a> theorem/theory presumptions (e.g., to avoid circular dependencies), we begin our proof of<br><strong id=\"div_eq_int\">div_eq_int:</strong> <a class=\"ProveItLink\" href=\"../../../__pv_it/theorems/d7aa68343b61f12e67a1c582c04cebe43407255b0/expr.ipynb\"><img src=\"data:image/png;base64,iVBORw0KGgoAAAANSUhEUgAAAPgAAAAmCAMAAADeO6ZmAAAAOVBMVEX///8AAAAAAAAAAAAAAAAA\n",
       "AAAAAAAAAAAAAAAAAAAAAAAAAAAAAAAAAAAAAAAAAAAAAAAAAAAAAAACXHtMAAAAEnRSTlMAq1Rm\n",
       "mUTNIjK7EInv3Xbt5cmRiLwgAAAACXBIWXMAAA7EAAAOxAGVKw4bAAAD3ElEQVRo3tVZi3LjKgzl\n",
       "ad66d/3/H7sIYwzYjUnjnQlMm45TSXDQWyZksiXYR+x2sWTKJWgGAECtdm7gGiwIjn82Th2mRM6X\n",
       "/QIIAQpEhHseR5hH1jWLoBPi1j6riytEYgnl9zxsux5q8heGzQd8cTsaVPoy5tWEeCD5I33hpzN2\n",
       "ttZHLkjulkQ2veo+TsyzgmvgRHO3I8pLpgG+PCvknMrDi8KtkYT6FLgGlqH7x/6Fmwt4CU/R5rUV\n",
       "EbgcilNo2nKtwiD3cwE/zm4FAGGCj8VnSx2I2rzVGhkPC2D82y39A9d0TQoIsQwQsuSKL3f5vQL5\n",
       "DWbrWR/u9K5yZb7dxZff8YWY9mgbzgDvcK/a3bcXNP6X6ZdxOMy6BMdoQdm1ly/HTVb3YLhALfuA\n",
       "y399blufC742yRKpljPPFLDi4zP99I+Ug15uHap14xYrlruK7h/vxxtvnIg/VVH0IW6XvNE5cNfm\n",
       "+ajboLKdfMtHgJpYNZIQM6CzYB8Dvt0/j/qQ5tRqHEdcq3WL8Yp0Tbpi8GZoEyJ3OhzbXVX73ofA\n",
       "aaolPIrvy5VnNS5yQOe5xbOOgys7AggVf/KNA2oDf4E3Tt24dQ28YS+KK2IuNpRu82Y0Ic/eBP62\n",
       "j2MKz8ncRts9KkNQ2BcsLE+uSDyP9tga1eWUYvoH4IVdmH3xSky74UbzX6LZurDA++D2YEmdZam9\n",
       "NhCCHIdCQzZAMi5lWYhgIjBZHSDiaKNQBbxhL8cvYi42zKa0Ae/nDHaFx3CXDEHz8bzEGV59M5Wh\n",
       "YtlHAQd+m/pY6oedbcYBrY9ftRW7mPOGuyltpn6ybC8eA65X2V1qPKjhBw5URjl7kFvY0YeOJdOo\n",
       "JPcD8Mxem/ohpt0Qaf7/k2kugxtZnmsm2hkWXip6nOQ2xhx0gNTYCJKe4ol1TCltreNSZJPhytQP\n",
       "9q5nyGKS0LIhqdqlGBWj0FN4Es+ND1w/lZaxtweHSQpjqgDpAJN0esLG3yxbH7dnM0opOLPQSx8v\n",
       "7N1tZzFJaNmwrR1jASPsuS19bDpqXgR91j/ZZJU5B6FNXpY8t+ZYiem2uItd9rlE/iJBSNs/xYAk\n",
       "78ucW+CHmHaLgRLKPBXd5ItZDj89SQ4DDdwt8ENMuwW7r5mbGaGiDtRggutp3T9owf/l+MpWSUh6\n",
       "dJkxrz/R+tleIh2asj411GHovnpamGy6TI78T0TKq2FoeHKi9fO9NSxvib3pTP/VbXW0sJD51sKr\n",
       "un1s3tzTKq8mBI7dXEnpdCFMDQBvaG2Y8PU46mtroGPbR1gQQyO+ltZwMudSKb7ZWCprRUGPWElN\n",
       "a3dX/wsBgSIoQZ/eYQAAAABJRU5ErkJggg==\n",
       "\" style=\"display:inline;vertical-align:middle;\" /></a><br>(see <a class=\"ProveItLink\" href=\"../../../__pv_it/theorems/2255fc1d8e97b85e633f44e6b62dced0fb7fd3810/dependencies.ipynb\">dependencies</a>)<br>"
      ],
      "text/plain": [
       "<IPython.core.display.HTML object>"
      ]
     },
     "metadata": {},
     "output_type": "display_data"
    }
   ],
   "source": [
    "%proving div_eq_int"
   ]
  },
  {
   "cell_type": "code",
   "execution_count": null,
   "metadata": {},
   "outputs": [],
   "source": []
  }
 ],
 "metadata": {
  "kernelspec": {
   "display_name": "Python 3",
   "language": "python",
   "name": "python3"
  }
 },
 "nbformat": 4,
 "nbformat_minor": 0
}