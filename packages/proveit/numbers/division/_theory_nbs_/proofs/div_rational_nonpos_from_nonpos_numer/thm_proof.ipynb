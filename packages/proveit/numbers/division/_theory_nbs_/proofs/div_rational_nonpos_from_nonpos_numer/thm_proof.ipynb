{
 "cells": [
  {
   "cell_type": "markdown",
   "metadata": {},
   "source": [
    "Proof of <a class=\"ProveItLink\" href=\"../../../../../_theory_nbs_/theory.ipynb\">proveit</a>.<a class=\"ProveItLink\" href=\"../../../../_theory_nbs_/theory.ipynb\">numbers</a>.<a class=\"ProveItLink\" href=\"../../theory.ipynb\">division</a>.<a class=\"ProveItLink\" href=\"../../theorems.ipynb#div_rational_nonpos_from_nonpos_numer\">div_rational_nonpos_from_nonpos_numer</a> theorem\n",
    "========"
   ]
  },
  {
   "cell_type": "code",
   "execution_count": 1,
   "metadata": {},
   "outputs": [],
   "source": [
    "import proveit\n",
    "theory = proveit.Theory() # the theorem's theory"
   ]
  },
  {
   "cell_type": "code",
   "execution_count": 2,
   "metadata": {},
   "outputs": [
    {
     "data": {
      "text/html": [
       "With these <a href=\"allowed_presumptions.txt\">allowed</a>/<a href=\"disallowed_presumptions.txt\">disallowed</a> theorem/theory presumptions (e.g., to avoid circular dependencies), we begin our proof of<br><strong id=\"div_rational_nonpos_from_nonpos_numer\">div_rational_nonpos_from_nonpos_numer:</strong> <a class=\"ProveItLink\" href=\"../../../__pv_it/theorems/fd55e0ab8ea908d3427c96df50a22d06050857dd0/expr.ipynb\"><img src=\"data:image/png;base64,iVBORw0KGgoAAAANSUhEUgAAAN4AAAAmBAMAAABZiDjwAAAAMFBMVEX///8AAAAAAAAAAAAAAAAA\n",
       "AAAAAAAAAAAAAAAAAAAAAAAAAAAAAAAAAAAAAAAAAAAv3aB7AAAAD3RSTlMAq1RmmUTNIjK7EInv\n",
       "3XZ/CtNrAAAACXBIWXMAAA7EAAAOxAGVKw4bAAAD8klEQVRYw61XW2jUQBS9233ktZutfvlCIv1Q\n",
       "P5RUoWqRstKViqJuqYhFsFt/RP0wivijtSsKCj4qWh/1Gb+kttJii4WKUvTDiggKhYKykAoqKkip\n",
       "TypU70zMmqRJCZsM7GQyd3bOzLnn3pkA+C0RyeNAfhcEUVbhb++jwx5GnlYDgAtnAaJP4aaHucKl\n",
       "AeCdQqBOGdZ7GXsuALzd+NsI8MbL2E7/hJaMY/UM+O9TjbkEwqNuIi3/hCZwHn4CwqNTwN0AqIJ6\n",
       "bDE/feO1IEX8GISy811Vch6rQUgq+LjqG28mqW7AolTKZYBIRMKMQ5yE6UrfeF9Jdevz8bk5u6Wj\n",
       "ra0GgH1M2uw4JGR8NktAXVhWLBzr6hFxTo55hc5d2K/jxTXi7RSsJsYdRUe7q056egA2EZHU91M+\n",
       "k4TPSBaOEHrPFosXyrptvBstXJhs6khNQS/iKMRQYIJULF58UkR9zOfJGrg7aBFydDl7Z8EXqKWh\n",
       "8QvC6MdY0XJJdts6Nn/Sn+0sbq1EWkNfFIz3tXTXYwAv8vnnxePJ1nfGOHNORtESlZfYjiSUMy7h\n",
       "iuNcXpJds80TMeVfY1sYLaxmF/4EsguMY1orzzFvPziCmDhsseMZjYMldH/v2DYslwr23+hZVchY\n",
       "4rR1Gi6S782hlOjf2Z1WE5hSSQP5a/IPKfrplMdC1M7p/ltrW+o37NQKi2JH2jLMAxCWALMOJ+6E\n",
       "OOV0tsVkwbPvr91ocLf/69OKB9kq4y2NSUnYB/xSpYmsuwkSNEsNWkxT4iWMRlSPP2my/+Ae0VRH\n",
       "VR+IRGwnMNFrGpRn6P4IfezEiGoy9aaH0gUHNNv0KWpGqxrzS229U7o9hDvnhzETUjIqZYoH82R0\n",
       "PmVafC2mLCbT/ro024TbjYZA8qf90GDGSE5CqiIpdgDqSBeZUCMKPJZh3i6jrpDDWYvJNEvcPuOt\n",
       "C0YY7f+xZ82kLGdcA+IZsRQqULrSFp1Pc87KRUotJhNGjGZe/trLQs/W6/l/IpkR1hxvH5QXhatU\n",
       "T1IeqCj2p9MFJyXxrDSZLPEXGdBhnU7bkDayIGPtEox1xZWWOpVTqfBBMGeFDkioK8DRRM4jfcFJ\n",
       "x4Q/7+Izm5w4I7NEqxf3AHOZAgw1ms/qUxK7QXM2Ab260LBXi0q3eAVAAvqOWjoldxOWVlo/9Jje\n",
       "GxSnD5CyDSbao6qrCQo3oMYv0z3h3XfsPbPc7CF3ExUawed/qF2KF7zHvu9nQlaXeVzzMFgc8P/9\n",
       "MKhfgyYd9I63D8k/XoV+qW/wMtX7AL6PYjINv40eIoJ5GgAeP4x4Of6Jh6F3A6AT4IAKIZlLeRh5\n",
       "PpDvdyYH/OxqL0yQ0PkLY9wRjN0KKgEAAAAASUVORK5CYII=\n",
       "\" style=\"display:inline;vertical-align:middle;\" /></a><br>(see <a class=\"ProveItLink\" href=\"../../../__pv_it/theorems/692a79b1866536e922b1ec3fc14a91f4b82aaf190/dependencies.ipynb\">dependencies</a>)<br>"
      ],
      "text/plain": [
       "<IPython.core.display.HTML object>"
      ]
     },
     "metadata": {},
     "output_type": "display_data"
    },
    {
     "name": "stdout",
     "output_type": "stream",
     "text": [
      "div_rational_nonpos_from_nonpos_numer may now be readily provable (assuming required theorems are usable).  Simply execute \"%qed\".\n"
     ]
    }
   ],
   "source": [
    "%proving div_rational_nonpos_from_nonpos_numer"
   ]
  },
  {
   "cell_type": "code",
   "execution_count": null,
   "metadata": {},
   "outputs": [],
   "source": []
  }
 ],
 "metadata": {
  "kernelspec": {
   "display_name": "Python 3",
   "language": "python",
   "name": "python3"
  }
 },
 "nbformat": 4,
 "nbformat_minor": 0
}