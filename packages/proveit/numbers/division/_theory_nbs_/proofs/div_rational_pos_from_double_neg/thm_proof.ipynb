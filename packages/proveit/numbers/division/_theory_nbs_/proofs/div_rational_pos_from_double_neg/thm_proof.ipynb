{
 "cells": [
  {
   "cell_type": "markdown",
   "metadata": {},
   "source": [
    "Proof of <a class=\"ProveItLink\" href=\"../../../../../_theory_nbs_/theory.ipynb\">proveit</a>.<a class=\"ProveItLink\" href=\"../../../../_theory_nbs_/theory.ipynb\">numbers</a>.<a class=\"ProveItLink\" href=\"../../theory.ipynb\">division</a>.<a class=\"ProveItLink\" href=\"../../theorems.ipynb#div_rational_pos_from_double_neg\">div_rational_pos_from_double_neg</a> theorem\n",
    "========"
   ]
  },
  {
   "cell_type": "code",
   "execution_count": 1,
   "metadata": {},
   "outputs": [],
   "source": [
    "import proveit\n",
    "theory = proveit.Theory() # the theorem's theory"
   ]
  },
  {
   "cell_type": "code",
   "execution_count": 2,
   "metadata": {},
   "outputs": [
    {
     "data": {
      "text/html": [
       "With these <a href=\"allowed_presumptions.txt\">allowed</a>/<a href=\"disallowed_presumptions.txt\">disallowed</a> theorem/theory presumptions (e.g., to avoid circular dependencies), we begin our proof of<br><strong id=\"div_rational_pos_from_double_neg\">div_rational_pos_from_double_neg:</strong> <a class=\"ProveItLink\" href=\"../../../__pv_it/theorems/0515813b90584a6efa90c0c66ecd84adbe6d62c80/expr.ipynb\"><img src=\"data:image/png;base64,iVBORw0KGgoAAAANSUhEUgAAAKwAAAAmBAMAAACrNG1VAAAAMFBMVEX///8AAAAAAAAAAAAAAAAA\n",
       "AAAAAAAAAAAAAAAAAAAAAAAAAAAAAAAAAAAAAAAAAAAv3aB7AAAAD3RSTlMAq1RmmUTNIjK7EInv\n",
       "3XZ/CtNrAAAACXBIWXMAAA7EAAAOxAGVKw4bAAADV0lEQVRIx5VXXWjTUBQ+a9MkS9ps/sIYjOAe\n",
       "fNMwYeiUWrETfZmFgggKqyKK04dWxCdlFRGE1a24CWYqdI+jk84f3MSXoQ8OZOLDYDAppC/+PY06\n",
       "cUyY3nvTpEm6NrkXcpI0J1/Oz3fOuQWgWIzsQUkYAMp1BB1c+zetsdb9HB2qP4HE2WTzuotaKx1s\n",
       "BpkhvAfms4veAzrYKzi8KxCadtGbooqCDzsfzEIh5pZZqigQKwsaHG4ASCT3hwZ2BPtWkGGnL1lP\n",
       "pVk/PaaBbSMvar5FBlxgD9HA/iJk75hNfa+pgDfqWNICOygDCW+nB1S+fsRK83Cr3QIbikAvPl/y\n",
       "Ugwr9Z6IBxUI9GbhhPpEVRWcuQTcxqnLeoBtStR7MsQikQ1XrZVWgEX5Fb20kGANG38Ui+RT4xNI\n",
       "zLJVWN8a+JHVrJeMtTiL69TPSsKyw0juYtImLF8GWCgWP3qCVez3nNEA+ek4knG/bMIKiDTHkRde\n",
       "YAcdkWKNoghoXUgO+xSjygA2AFLAearhESesafY05mdcsrSKv8jwnGj+wF82rvJjWxwl2k+0/uFF\n",
       "qJYpokUoVImtpW+torRploxhUvMlNca9BbGrsbWT5tV4ymCCBRYS4er9PDqiKKXiNRD2Ja9Ho9FY\n",
       "PdiQeXWG8NZqBYotvMApzYdnsKEbpZyEM35vN4Bmn1mDDiZI5mMGV9mOrKN93EQZE5ZIyUvLUoQ4\n",
       "16PUwBack/G8efUc9YTtVu6VcVUip5kIP4erRPEnMAkJpGbnfzDigJ14aCSJO3lxNW3tSr+Nd2IS\n",
       "ZlkwzbR2q6oqn64NAqt7OblQjenTYqVPNKXDNeOJeJhs7kHfboGgPESaEkmZfaDM6ecLm5G6Q9p6\n",
       "19LSjNkcTI7Ec3kI5Q4gHhOSgehowv6KCeVNx2fb1VHLkDDqK3B0z0vIyHyfBtwjUg6L59KOEaDj\n",
       "Bdap24fOzLyqIrLO3HEqj9kdbLD6beELWLcNTGefYz+gDz62o+TanV/bo2e7G97vUNa3HYUBwXUb\n",
       "8I5m8oqETXtz8MlFUZqj2oPhhgHHSNtrPJ5kKthuLL5AoOyi95Vux8gqhLaMC8W4D3SwwhISazCl\n",
       "NFZ7RhcDgBuIgdsq/K2/Rmn/O3Co8CZeuRgrYB7+B3zwzo+d5V/0AAAAAElFTkSuQmCC\n",
       "\" style=\"display:inline;vertical-align:middle;\" /></a><br>(see <a class=\"ProveItLink\" href=\"../../../__pv_it/theorems/bf32c38ab012f3015f601e21ec67847c694789be0/dependencies.ipynb\">dependencies</a>)<br>"
      ],
      "text/plain": [
       "<IPython.core.display.HTML object>"
      ]
     },
     "metadata": {},
     "output_type": "display_data"
    },
    {
     "name": "stdout",
     "output_type": "stream",
     "text": [
      "div_rational_pos_from_double_neg may now be readily provable (assuming required theorems are usable).  Simply execute \"%qed\".\n"
     ]
    }
   ],
   "source": [
    "%proving div_rational_pos_from_double_neg"
   ]
  },
  {
   "cell_type": "code",
   "execution_count": null,
   "metadata": {},
   "outputs": [],
   "source": []
  }
 ],
 "metadata": {
  "kernelspec": {
   "display_name": "Python 3",
   "language": "python",
   "name": "python3"
  }
 },
 "nbformat": 4,
 "nbformat_minor": 0
}