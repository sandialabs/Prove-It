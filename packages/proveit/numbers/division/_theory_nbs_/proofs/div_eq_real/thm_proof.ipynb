{
 "cells": [
  {
   "cell_type": "markdown",
   "metadata": {},
   "source": [
    "Proof of <a class=\"ProveItLink\" href=\"../../../../../_theory_nbs_/theory.ipynb\">proveit</a>.<a class=\"ProveItLink\" href=\"../../../../_theory_nbs_/theory.ipynb\">numbers</a>.<a class=\"ProveItLink\" href=\"../../theory.ipynb\">division</a>.<a class=\"ProveItLink\" href=\"../../theorems.ipynb#div_eq_real\">div_eq_real</a> theorem\n",
    "========"
   ]
  },
  {
   "cell_type": "code",
   "execution_count": 1,
   "metadata": {},
   "outputs": [],
   "source": [
    "import proveit\n",
    "theory = proveit.Theory() # the theorem's theory"
   ]
  },
  {
   "cell_type": "code",
   "execution_count": 2,
   "metadata": {},
   "outputs": [
    {
     "data": {
      "text/html": [
       "With these <a href=\"allowed_presumptions.txt\">allowed</a>/<a href=\"disallowed_presumptions.txt\">disallowed</a> theorem/theory presumptions (e.g., to avoid circular dependencies), we begin our proof of<br><strong id=\"div_eq_real\">div_eq_real:</strong> <a class=\"ProveItLink\" href=\"../../../__pv_it/theorems/d2368d78e7751e1c73f793c274a3c4af5614e65d0/expr.ipynb\"><img src=\"data:image/png;base64,iVBORw0KGgoAAAANSUhEUgAAAPgAAAAmCAMAAADeO6ZmAAAAOVBMVEX///8AAAAAAAAAAAAAAAAA\n",
       "AAAAAAAAAAAAAAAAAAAAAAAAAAAAAAAAAAAAAAAAAAAAAAAAAAAAAAACXHtMAAAAEnRSTlMAq1Rm\n",
       "mUTNIjK7EInv3Xbt5cmRiLwgAAAACXBIWXMAAA7EAAAOxAGVKw4bAAAD2klEQVRo3tVZiZLbIAwV\n",
       "t7nU1v//sQUMNhAnJhvvTKDb7DArCR66FYDJFqcfsRtpYMrFSQaASMxi7cgzGOQs/kqsi58SOZPl\n",
       "AQCQIHA/wGSBusi7biLIhLgXl9XFVARigLABJrq9D9HbXtP5gEtbwESly0G3BnAI+SPu3XTGTtf6\n",
       "ygXI9RKRb1mXLk7Ms7xt0ARzN0PKS7aBrmxV5JzKw3eFGy2AuBS3RpYm5SPv7VzAS3SKNr8YHoCL\n",
       "sTgVbVusRxxkbi7gx9UNRwTK2WB8NsQir+xbrYHxMADKvt3SP3FNW+cAH8oALvZc8eUunwuQn2E2\n",
       "jnbRbikqV/rbXVz+kNGHvEeaeIbxDUvVbr+9oHE/Tb+U4WHXJTgGC8quLb8cN6z2xnARtex8XO7r\n",
       "c9t6X/A1SRZPpZy+p4DlH9/p2R9SDnp5tK/WhVussdxVpHy86zveSk5kUzJ/GiFtckZr0Z6b561u\n",
       "E5VtxTsugkSHohEwloxW2fuAb+/PwlsK/dBpHFdcq3UN8oR2TZZJ8b3QxnnuczD8A2bwPuAk1RIu\n",
       "yu/LlXs1znNAZ6VXtQztfiIiV+EnvzhGbYT/uAeZBBwNfwK8Yd8VV8ScHSjs5s3R0R19E/jbPh5T\n",
       "eE7mxquqMkQV+wJJ8+AKwn0WFzqjA1kwdaWRnQPf2bkuix1ioD1wo/mTaLYuzLM+uN1YUmdZqtQG\n",
       "nMNxKQh/1AjZrJWhPoDRIFgFnGvbGne1a9j36xcxZwfmJ9yA93MGs+JtuPcMQfL1XIxYtZXUjhar\n",
       "PoLA5KY9upm6bVvD9hnO2oos5uTAYkubqT9YtuO3AV9W0T1quKhmx1gjKmO/uxcp7CwWah8Xwppn\n",
       "wDN7beq7mO7ASPP3X6Y5DW4g72sm2hlWfNTocYKZEHOiA6S+hkPahRsvIaU0pc6Wzp4Et4O9axmy\n",
       "mCR0PxCqdilExRDnHsITv298YPuptAi9PVoWdRUMjaOwiCbvYuOvZWrjsr6ERGnB8HrcWWllZ+9e\n",
       "O4tJQvcD29oxFDDcPLalt01H9YugT/udSVa5paBokucVz6U5HmL6I65il7kvkb9IEML0uxCQxHWZ\n",
       "cwn8ENMeMVBC6buim3gxy2EPO8FwoIG7BH6IaY+g1zVzOyNUxKIazHAdrf2FFvw3x1emTkLCRZ8Z\n",
       "c/ue1s32JVKlKeNSR+2HHqyjxcmmy3Dk/wAjdVp+aHrS07r5vjXcvyUGp3vbf/FcLS1KmG9JVhfu\n",
       "YwPnjlY5NSHw2M0dOZ1IoGoAeE1r/IRfj0d95QY69H1APR+a8TW0msGcS23xzRC0iyK4jJhJRWuK\n",
       "p/8H4lAizdrO6dMAAAAASUVORK5CYII=\n",
       "\" style=\"display:inline;vertical-align:middle;\" /></a><br>(see <a class=\"ProveItLink\" href=\"../../../__pv_it/theorems/f2a4d4af6083b13cf8dc0e9c1764a0ede3be5a820/dependencies.ipynb\">dependencies</a>)<br>"
      ],
      "text/plain": [
       "<IPython.core.display.HTML object>"
      ]
     },
     "metadata": {},
     "output_type": "display_data"
    }
   ],
   "source": [
    "%proving div_eq_real"
   ]
  },
  {
   "cell_type": "code",
   "execution_count": null,
   "metadata": {},
   "outputs": [],
   "source": []
  }
 ],
 "metadata": {
  "kernelspec": {
   "display_name": "Python 3",
   "language": "python",
   "name": "python3"
  }
 },
 "nbformat": 4,
 "nbformat_minor": 0
}