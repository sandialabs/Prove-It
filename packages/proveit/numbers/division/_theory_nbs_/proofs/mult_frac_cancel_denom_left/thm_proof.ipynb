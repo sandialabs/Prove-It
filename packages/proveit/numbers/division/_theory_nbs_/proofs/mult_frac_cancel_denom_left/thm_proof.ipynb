{
 "cells": [
  {
   "cell_type": "markdown",
   "metadata": {},
   "source": [
    "Proof of <a class=\"ProveItLink\" href=\"../../../../../_theory_nbs_/theory.ipynb\">proveit</a>.<a class=\"ProveItLink\" href=\"../../../../_theory_nbs_/theory.ipynb\">numbers</a>.<a class=\"ProveItLink\" href=\"../../theory.ipynb\">division</a>.<a class=\"ProveItLink\" href=\"../../theorems.ipynb#mult_frac_cancel_denom_left\">mult_frac_cancel_denom_left</a> theorem\n",
    "========"
   ]
  },
  {
   "cell_type": "code",
   "execution_count": 1,
   "metadata": {},
   "outputs": [],
   "source": [
    "import proveit\n",
    "theory = proveit.Theory() # the theorem's theory"
   ]
  },
  {
   "cell_type": "code",
   "execution_count": 2,
   "metadata": {},
   "outputs": [
    {
     "data": {
      "text/html": [
       "With these <a href=\"allowed_presumptions.txt\">allowed</a>/<a href=\"disallowed_presumptions.txt\">disallowed</a> theorem/theory presumptions (e.g., to avoid circular dependencies), we begin our proof of<br><strong id=\"mult_frac_cancel_denom_left\">mult_frac_cancel_denom_left:</strong> <a class=\"ProveItLink\" href=\"../../../__pv_it/theorems/376ef381a19fb5442b8ec26eb7ac8c8d5c7d299e0/expr.ipynb\"><img src=\"data:image/png;base64,iVBORw0KGgoAAAANSUhEUgAAAbcAAAAzCAMAAAAjH7ajAAAAPFBMVEX///8AAAAAAAAAAAAAAAAA\n",
       "AAAAAAAAAAAAAAAAAAAAAAAAAAAAAAAAAAAAAAAAAAAAAAAAAAAAAAAAAAAo1xBWAAAAE3RSTlMA\n",
       "q1RmmUTNIjK7EInv3Xah18O1XjQ+CwAAAAlwSFlzAAAOxAAADsQBlSsOGwAABqhJREFUeNrtXNkW\n",
       "oygQFUF2mcX//9cB3AkUiJjT5gwP3d5OmrrhFkWx2XWNivSl+788XRo39DjZQr76CwSHYPP2ErIF\n",
       "y8uGQrvCNbRop9vwbcdDGILtCx/lfZYVhiJ28Yt1QwqCTQWj2geSfrzNssrQp90X64YpBBuXqfd/\n",
       "KXSTZaWhD7vv1Y1pBsDGZZiWSDXiWyyrDYV236vbaCDYuKg1UPVa3mFZbSi0+1rdsIZg60LJ51MF\n",
       "yxuGAvha3bSC4B6nkDKszOeVMZjHa+DLqOMDGatlmeECGwrgW3UzkwTg/mvd8CKmgtjGRttiRORr\n",
       "oKiSZYZLztAZvlW3EUFwm7FqN5yTkux9dD1Dm0QNh6Swn2QVywyXrKEzfKlufOIA3AqZNkkyhRxb\n",
       "RU40XYOcTBXLDJesoTN8qW5IQ3AfXoT/wQXE9KkdRgLUIMYqlhkueUMn+FLdNILg2UXxlK8v1Yli\n",
       "NeDizORIK8OlwNAJvlM3PmEAHhrDZWeIdn22pZcahoIa5IQrWGa4FBg6wXfqZs6eaFI9QBi3tke6\n",
       "/JxrziQVL6lBoxqWGS4Fho7wnboJDcGDiyKjOEOmYCNFKYyNLKqhdIA708pwKTB0hFa3XcUe39et\n",
       "VW0XsogQPl3UVMXytqEjtLqRrZ9Qdl+3VrXBWQQB4OMFT0MFy/uGjtDqxtcuwu75x6xbq9rgAd8A\n",
       "8AtZkWn4tbrf6cY3uoR11bcY3xrVBpV+6gH4eCnsSPdpAXHF6YaXgejmxuOiW6Pa4PjBAfh8mVAF\n",
       "ywaGDtDnk3p0RasmujWqrcU04DHdRAXLBoYO0OtGvGMI2Ua3NrXBeZYE4BdWa46xhIyHgtrS0jQF\n",
       "vW4MrX/EWyno70YQFNlIWnWDayuO7a6/MtObiNOSc4uQb+s2Fk3gGtAKDB3gPO92nUOlkls2Txu4\n",
       "QUIM7jQfsk3ZC5Wcd++1cXohqTy7A1lznMg4iSYATrmyD/O0/D9NRxtj0S52klaGQNrQAc669QbI\n",
       "I4z/CiFLr1PSNy1O63aoLX8ILeEO2FUmHc/IgQ5QtwveXDu/qtGtikBON9vM2KzxCRvF9miFDXWf\n",
       "mHXxQ2I+68PS61x7bTqXUkXcQRFC/vqb2Ak8c3Fh5H92nEyOb1+Ik3aytUy75Mjs/G7VZEbc9YZt\n",
       "VsJSi+u7blttdqZo0MZemVVO7w8YcIfZEef+xiIjLgPgl/MSIHtijQ2FeYk75odW/7etrffe4Nre\n",
       "PgzbWiOWWOZ022ozo+wM2T9fa5auE6GEO9j+9s+/xPU3H21pLMPmAPyCbkVJVwNa6Q2BdT8ALTa0\n",
       "bS2zfeyR+wamwpe+43zgOd222gTeD+y6nRK5/DtCHVM46Q5yldrmk5j9gfPuooGxxbybpGCwjyNd\n",
       "3xZ4uaUzI2MR3/OLZSDqJKDbprtlTtDuA9u/E9zLtDsQmVtBGgAohR4flU1ORWsKAa0KXoGhIwz3\n",
       "37Qb0Abr+37+5BF3PWGfRjNFmB+sCnRzIVYvq3THaL8+x90B55bbc9vd9Nn9geJ15XAj6yqvzLry\n",
       "sQy2JxgXwrhr7w11bL/EJZXtJYR3BbrZ4c0Z8D5A3cdqfha9fy5yh2vxY8bPrjOXLhh/hNOrvID1\n",
       "c2C/uw/WL1xAGwrWuY4eQozTwfsAI35D2T9LYubN5QJ3iJqiEBwenheULjwGtK7zAtZh07oNV388\n",
       "dE6hT/lD3h2iU1rwGJ56dngrnueHpwMv8wLWF9K6XT5lAOh29IGhQWfAZ88NIEV21hgNSYkrAJHF\n",
       "UWPSyVHp+YOAFsArYRQ4jvGdc0H4jj9EB+w+DeVkZ/0yEstSVwA+3cxNL3kqaWSl+9gByySvlNHA\n",
       "0An+4LnX+SD951H/1BWAiDB+KWdIdiNWxTLJK2X09869dkSn4Xw3YpnrnI76F0ZoMRljktsjHRrr\n",
       "WJ54lRgNDKEfOGc+nOe0J+i71bDGqOCof1H+Di9jlR/3ObM88yowGhj6hXsd4RbIEfqW+exc5fdo\n",
       "4C/iK/eoSJfllTQKJl9v1Q34UX7/Qn+mP4krAF18HAznr/unqJJlilfKKHjF7wfvCbv3vIjIilLq\n",
       "CsBna7uBSBKWiH2194RTvBJGf/OeMNDhJFIk6tWJKwCRdQr3xVTSgmpZJnnFjQaGAvje92BQBcHn\n",
       "EiJ5h2W1odDue3Xj541wrr+y6T32t1hWGwrtvvg9T0ZA8Jly/T1PlbR+9z1P33yv2hat6G2WVYY+\n",
       "7bbUDX/7vaG0h+ADoZnK+ywrDAXQNXPD6PL77w2l33pvaKATjb039D+Ej1FrR4vg5gAAAABJRU5E\n",
       "rkJggg==\n",
       "\" style=\"display:inline;vertical-align:middle;\" /></a><br>(see <a class=\"ProveItLink\" href=\"../../../__pv_it/theorems/24b6c809428b685ff992389e19c5991af326717b0/dependencies.ipynb\">dependencies</a>)<br>"
      ],
      "text/plain": [
       "<IPython.core.display.HTML object>"
      ]
     },
     "metadata": {},
     "output_type": "display_data"
    },
    {
     "name": "stdout",
     "output_type": "stream",
     "text": [
      "mult_frac_cancel_denom_left may now be readily provable (assuming required theorems are usable).  Simply execute \"%qed\".\n"
     ]
    }
   ],
   "source": [
    "%proving mult_frac_cancel_denom_left"
   ]
  },
  {
   "cell_type": "code",
   "execution_count": null,
   "metadata": {},
   "outputs": [],
   "source": []
  }
 ],
 "metadata": {
  "kernelspec": {
   "display_name": "Python 3",
   "language": "python",
   "name": "python3"
  }
 },
 "nbformat": 4,
 "nbformat_minor": 0
}