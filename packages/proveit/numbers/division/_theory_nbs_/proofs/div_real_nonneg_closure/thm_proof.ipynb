{
 "cells": [
  {
   "cell_type": "markdown",
   "metadata": {},
   "source": [
    "Proof of <a class=\"ProveItLink\" href=\"../../../../../_theory_nbs_/theory.ipynb\">proveit</a>.<a class=\"ProveItLink\" href=\"../../../../_theory_nbs_/theory.ipynb\">numbers</a>.<a class=\"ProveItLink\" href=\"../../theory.ipynb\">division</a>.<a class=\"ProveItLink\" href=\"../../theorems.ipynb#div_real_nonneg_closure\">div_real_nonneg_closure</a> theorem\n",
    "========"
   ]
  },
  {
   "cell_type": "code",
   "execution_count": 1,
   "metadata": {},
   "outputs": [],
   "source": [
    "import proveit\n",
    "theory = proveit.Theory() # the theorem's theory"
   ]
  },
  {
   "cell_type": "code",
   "execution_count": 2,
   "metadata": {},
   "outputs": [
    {
     "data": {
      "text/html": [
       "With these <a href=\"allowed_presumptions.txt\">allowed</a>/<a href=\"disallowed_presumptions.txt\">disallowed</a> theorem/theory presumptions (e.g., to avoid circular dependencies), we begin our proof of<br><strong id=\"div_real_nonneg_closure\">div_real_nonneg_closure:</strong> <a class=\"ProveItLink\" href=\"../../../__pv_it/theorems/717ddd2aef1c0c26a35e1a6f786c2bb70dfed70e0/expr.ipynb\"><img src=\"data:image/png;base64,iVBORw0KGgoAAAANSUhEUgAAANoAAAAmBAMAAABQY5iKAAAAMFBMVEX///8AAAAAAAAAAAAAAAAA\n",
       "AAAAAAAAAAAAAAAAAAAAAAAAAAAAAAAAAAAAAAAAAAAv3aB7AAAAD3RSTlMAq1RmmUTNIjK7EInv\n",
       "3XZ/CtNrAAAACXBIWXMAAA7EAAAOxAGVKw4bAAADzklEQVRYw61XXUgUURQ+6+44s7Pr7GIQhRAD\n",
       "Qj1pA4GgiG25lmDmltBDPbjRQyRoK0gUiW5PIRUOhdRq6UgR6BpKhWJSbBaYRSFE/yysEEIKIvZj\n",
       "GG2dO/s3O+26w04X9s6de87e7557vvvdOwA6y26Nfmwj6C8mO1Ytj9oze16S9KOV4I+ahv7MQxnt\n",
       "usGY51gNC1CrwfeybrTcUazqAD5p8B3WvZTbyQgzwH5PY+90yY/JxViKdRUSExsG43I6Jk7wJGUh\n",
       "SgSgV/WmbY2MuAIG97Z0Ll8EAKsXCFKvTjSDSOo+KHI40vqUhqBDgilsletEswmkHlg8v8Wr2hgz\n",
       "/U0zQqRd7umS4DU2OniQU1eYJVqXJ51FbIEDpTIJ/d2AaK+wleeAKtJzPEu0nWkt4lkwMySS1k1A\n",
       "VnKFkNIN5/BBi1mibVwPzeRxo6ghWIwl3DLkYrgWPku0x+oO7kbwbQJNhIG9cm+IImHm/AQj5jI3\n",
       "W5b8Ur1TzVIiNsOQHYYib5OfST+Dy/kyGHyRLdpX1fspSbGSnVtVHGLRvRqgJ0swekXVkWCb2Nb0\n",
       "e0HtH8Y8Av2PgLE1ZJLtxakIblFIiRrNrWDJjttEJ31YPIqFN0sWl+IPRWO7mnHW99GlUf43cyLJ\n",
       "AiZFmmQxtv0hRUbHrAQ/RNHMNwX1RL8hU0JxkjBzPhdngXE8RtjPLjYA5PSCgmSLKX1srKiIjXH0\n",
       "pEADd0XszYn6w3FQFiI5eUPPwnvS+yzZsg4azCr3W/WZFHmDu+R+4q8YB46EjmMuoMQyNRLGNk2G\n",
       "DM9JCYvFWeusirNEzcklJdogJ6SgcBuShH3HrMKgvBMtdJ8A1AY55yRv3EfOobAoY2PD6qM8LhNi\n",
       "K+7k7hQUNuAqmRxMAOrlMU29IrD5pNleSNhkFozuhCUJDZ6qubz5cPwMuAq+k8kaxcROeKuLs0MJ\n",
       "spXnOMvBJB+r12RXWpRoEbqy1+P5oiaiypWq5KxFGyMec5l0QY6Ao45ItNMZz44NrHzCkrTfYF90\n",
       "AR2axMASm5TV01UvmSU5O/BA8Wc/5EmlkMoinzgRpbJpU3VzTEWoyuJ7QF/D1qH50Vt7Eh4XeWZ/\n",
       "KKVFXpIITIO2u5stmaN+n8+lduHTWshsI7E+1CarDZ5MHtS60zYG5MfRpXwtaGOZb+/rf7jInGZ/\n",
       "SCMeDWhTem+vY1FmW0OZfbmAXjSrN3K7sY1q8OX1ohmJtuWNQoOGkeb1f78di2y3usx7gJ7Wj3YH\n",
       "6WHzsk80ePL60Wg8rgyCWYN0XfkP391wGndAQaWGr3yiDn8BzOQFXe3r/n8AAAAASUVORK5CYII=\n",
       "\" style=\"display:inline;vertical-align:middle;\" /></a><br>(see <a class=\"ProveItLink\" href=\"../../../__pv_it/theorems/399983065919a7239fd229de7659e84ed3f29abb0/dependencies.ipynb\">dependencies</a>)<br>"
      ],
      "text/plain": [
       "<IPython.core.display.HTML object>"
      ]
     },
     "metadata": {},
     "output_type": "display_data"
    },
    {
     "name": "stdout",
     "output_type": "stream",
     "text": [
      "div_real_nonneg_closure may now be readily provable (assuming required theorems are usable).  Simply execute \"%qed\".\n"
     ]
    }
   ],
   "source": [
    "%proving div_real_nonneg_closure"
   ]
  },
  {
   "cell_type": "code",
   "execution_count": null,
   "metadata": {},
   "outputs": [],
   "source": []
  }
 ],
 "metadata": {
  "kernelspec": {
   "display_name": "Python 3",
   "language": "python",
   "name": "python3"
  }
 },
 "nbformat": 4,
 "nbformat_minor": 0
}