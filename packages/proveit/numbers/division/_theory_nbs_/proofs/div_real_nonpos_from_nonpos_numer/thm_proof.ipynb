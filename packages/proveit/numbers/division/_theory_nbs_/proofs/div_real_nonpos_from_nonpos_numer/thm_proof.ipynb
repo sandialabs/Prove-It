{
 "cells": [
  {
   "cell_type": "markdown",
   "metadata": {},
   "source": [
    "Proof of <a class=\"ProveItLink\" href=\"../../../../../_theory_nbs_/theory.ipynb\">proveit</a>.<a class=\"ProveItLink\" href=\"../../../../_theory_nbs_/theory.ipynb\">numbers</a>.<a class=\"ProveItLink\" href=\"../../theory.ipynb\">division</a>.<a class=\"ProveItLink\" href=\"../../theorems.ipynb#div_real_nonpos_from_nonpos_numer\">div_real_nonpos_from_nonpos_numer</a> theorem\n",
    "========"
   ]
  },
  {
   "cell_type": "code",
   "execution_count": 1,
   "metadata": {},
   "outputs": [],
   "source": [
    "import proveit\n",
    "theory = proveit.Theory() # the theorem's theory"
   ]
  },
  {
   "cell_type": "code",
   "execution_count": 2,
   "metadata": {},
   "outputs": [
    {
     "data": {
      "text/html": [
       "With these <a href=\"allowed_presumptions.txt\">allowed</a>/<a href=\"disallowed_presumptions.txt\">disallowed</a> theorem/theory presumptions (e.g., to avoid circular dependencies), we begin our proof of<br><strong id=\"div_real_nonpos_from_nonpos_numer\">div_real_nonpos_from_nonpos_numer:</strong> <a class=\"ProveItLink\" href=\"../../../__pv_it/theorems/628e01cc28827053f381b38f14fb3c4df50331350/expr.ipynb\"><img src=\"data:image/png;base64,iVBORw0KGgoAAAANSUhEUgAAANoAAAAmBAMAAABQY5iKAAAAMFBMVEX///8AAAAAAAAAAAAAAAAA\n",
       "AAAAAAAAAAAAAAAAAAAAAAAAAAAAAAAAAAAAAAAAAAAv3aB7AAAAD3RSTlMAq1RmmUTNIjK7EInv\n",
       "3XZ/CtNrAAAACXBIWXMAAA7EAAAOxAGVKw4bAAADyElEQVRYw61XXUgUURQ+6+w4s7PrrP1SCDEg\n",
       "FD1oC4GghG25hg+ZltBDPbjRQyRoI0gUiW1PIRkuRdRq6UQR2BouBUpJYT9gFoUQ/SOsEEIKIvZj\n",
       "GG2dO/t3d5jdHXa6sPfuzDlzv3vO+c659wKYbDsN6glNYL5ZC7FrfdSRXfO8Yh6tDH/sOPRnn4op\n",
       "NA3Gv8Bu0AW1BnQvmEbLD2FXB/DZgO6gaVduITNMgPAjg85mGUbn4iE21YhNQgSYhQxgYWDCrB+A\n",
       "WzIbtmWCtggW76Z0KuUuAIcPCFKvSTSLn/R9UOJ2p9H4KmF3WoEnOGwzieZ0kf763NkNPk1iTPQ3\n",
       "T6Cwi4BBtwJvCKgEauiKc0TrltNJ/K2wt1yBvF4livYahwI3VBPZkRzRtqeV+E+BjUdLWAKHnlwk\n",
       "pPTCGRw4f45oazOhWWUvIdJqOc4ScQHyEdsu5Yj2WPtCvDb1LommGsGtUMQwSwKW9wsYjGV+riz5\n",
       "rXlmW5SkbZbb0XTmAEa/kPc8uvPV1NTLXNG+aZ6PK5QnOzdqOCSgeg1Aj+6GlB2MW9S8SLLN3978\n",
       "Z1arH8HNCTi9Asasg45SPYLbqVKiRfNSLNl6C4fOADaZcrxNsddTH5QM72jBIYgmN6lf80dTJVYq\n",
       "TGoxdv4lTUXHqEx9jKHZbri0C/2OTAknSMJPB+pFO4yEoG0EXTkGZPeCohQJjaa1TfBTtvHuHh00\n",
       "8FbGnzxYf0QRKsLcWxKVSfhA3j6nJRnRYJLOt5qTOnGDu+R8EqwcAZGYjnPOuoFZo9o2TqaMTCtJ\n",
       "id1T66lOsETLyXkabUB06VC4HUkivOeXYEDNTzvXh1p5q0jMSdzET6KbllC2CRHtVp4oE/42zORL\n",
       "OhS2oJesbn4MGtQ5rb2q9/lq6CgmbLK5GC8todDgmTZr1h9I7AGXIXAstUbx8R3eUS8WQhmyVRJF\n",
       "+74UHYfPWkhLaLQoXYWriXix92OVS6/lLcf+DMm2CuWcaoHIHlQ4jycRHSc4pKQkJd9gd8yBbkOV\n",
       "xx5flEPublBsihodeEB9HIQCpRz0JOqOE61UTmNV3RavImxV6T3gruC//TOhm7uSGl0SvyesK1Fd\n",
       "EoVpNHZ2c6ZyNBgI1GtVpLQSstqorQ+N1fBGOZsGm3HZzJg6HJpfaQRtOPvpPfPFReW08FMZkg2g\n",
       "PTF7eh2OMdsRzq4rjplFc/iipxtnyICuZBaNIbWtIASNBmaaMX9/OxxNt7rsOcCNm0e7g/Rw+oSn\n",
       "BjQl82gcblcWl81A6br4H+7dcAIzoKjKwC2fVId/iQYCnFnvh+MAAAAASUVORK5CYII=\n",
       "\" style=\"display:inline;vertical-align:middle;\" /></a><br>(see <a class=\"ProveItLink\" href=\"../../../__pv_it/theorems/3ddc0984719094f9bfd5ff7c23acf49ee22af43b0/dependencies.ipynb\">dependencies</a>)<br>"
      ],
      "text/plain": [
       "<IPython.core.display.HTML object>"
      ]
     },
     "metadata": {},
     "output_type": "display_data"
    },
    {
     "name": "stdout",
     "output_type": "stream",
     "text": [
      "div_real_nonpos_from_nonpos_numer may now be readily provable (assuming required theorems are usable).  Simply execute \"%qed\".\n"
     ]
    }
   ],
   "source": [
    "%proving div_real_nonpos_from_nonpos_numer"
   ]
  },
  {
   "cell_type": "code",
   "execution_count": null,
   "metadata": {},
   "outputs": [],
   "source": []
  }
 ],
 "metadata": {
  "kernelspec": {
   "display_name": "Python 3",
   "language": "python",
   "name": "python3"
  }
 },
 "nbformat": 4,
 "nbformat_minor": 0
}