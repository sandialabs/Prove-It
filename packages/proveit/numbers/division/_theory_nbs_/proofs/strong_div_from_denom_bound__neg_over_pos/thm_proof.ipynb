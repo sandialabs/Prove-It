{
 "cells": [
  {
   "cell_type": "markdown",
   "metadata": {},
   "source": [
    "Proof of <a class=\"ProveItLink\" href=\"../../../../../_theory_nbs_/theory.ipynb\">proveit</a>.<a class=\"ProveItLink\" href=\"../../../../_theory_nbs_/theory.ipynb\">numbers</a>.<a class=\"ProveItLink\" href=\"../../theory.ipynb\">division</a>.<a class=\"ProveItLink\" href=\"../../theorems.ipynb#strong_div_from_denom_bound__neg_over_pos\">strong_div_from_denom_bound__neg_over_pos</a> theorem\n",
    "========"
   ]
  },
  {
   "cell_type": "code",
   "execution_count": 1,
   "metadata": {},
   "outputs": [],
   "source": [
    "import proveit\n",
    "theory = proveit.Theory() # the theorem's theory"
   ]
  },
  {
   "cell_type": "code",
   "execution_count": 2,
   "metadata": {},
   "outputs": [
    {
     "data": {
      "text/html": [
       "With these <a href=\"allowed_presumptions.txt\">allowed</a>/<a href=\"disallowed_presumptions.txt\">disallowed</a> theorem/theory presumptions (e.g., to avoid circular dependencies), we begin our proof of<br><strong id=\"strong_div_from_denom_bound__neg_over_pos\">strong_div_from_denom_bound__neg_over_pos:</strong> <a class=\"ProveItLink\" href=\"../../../__pv_it/theorems/aa5a3d671c1e6a7eaca7577c1168c7e33552f3a50/expr.ipynb\"><img src=\"data:image/png;base64,iVBORw0KGgoAAAANSUhEUgAAATAAAAAzBAMAAADiNknaAAAAMFBMVEX///8AAAAAAAAAAAAAAAAA\n",
       "AAAAAAAAAAAAAAAAAAAAAAAAAAAAAAAAAAAAAAAAAAAv3aB7AAAAD3RSTlMAq1RmmUTNIjK7EInv\n",
       "3XZ/CtNrAAAACXBIWXMAAA7EAAAOxAGVKw4bAAAFD0lEQVRYw8WZXWgcVRSAz+zO7M7ObCYrglir\n",
       "YaFFKZiyKCjJQ7ol21YfWheDfbBgl1IotlAm4Es11PVFHxrN+hNxU01WCYibko7VpqQPZeuD2ool\n",
       "YvyBdMOERiWtpLFtyI/Q9e69sz/Zeycz6caZhezdnHs298u55+eeOwDWLymbzYCjr2w2a0etoVCI\n",
       "rtOKH1mYoI+MA4UlW2Dx9bIEF7FQeLu0NS3Ogm20UvCMuQLmTViqfOkKWJdqvVbEDbBJaxXPZRfA\n",
       "vDkbSgddAAtqeOi8cJwxWZLuV50Hu4lzgfAdDND5uiz1hZwH+wm/n4rAbnquLPUsOw4mLuLhOYAJ\n",
       "erIsle46DsYR378E0jw9WZF+4jhYMGRYxDtHF8mKdJvqNFgPzp3SLeASj1FgFenpiNNgN0ki6Ifm\n",
       "KH1YqUiJYZ0E+5gMn954qylJTVakgTEChvk2WYFxOJIjdYFdsqcmzxGwHcXhkBUYXzSaT62HS7pj\n",
       "s3DNE7A30Ls/ZQUmFg17rL40dnctei3gQ4VADlv62GE0nqkLzHOLLT7EtGwLeJHj+Kyd/0k0JuoC\n",
       "8y4ypeNU3fzHiMof8/kfrMGC+fxVrS4wZYElnKDr+ZIB9gxAnzUYn4RAfT2cvEzLhlhHx28NsE7w\n",
       "h6zBkE6nuUbJlqt1eTwN9srPLMW8ARbIyNUJtHlk+1FWgu2DswzPnTj4gF4FtFp0c6QWNhaKL/yZ\n",
       "O1CeJFLy+aoB5tHLvi9OpeOKDOc0BthWyvff2dALuia/ZgomscCqJQeY/0EJDBJtJVEMFQVFgVad\n",
       "Aebz1kh55Jyg695hMzD/9kxdWwlnijlqqO0cKMWSg8CuR/2xWGzHSjD5UbSMMn18F/r8UghVsmuA\n",
       "wZRB+Do2HotXgc3umkY1QrxPBWGKFDPs/AtrdH7oQr4v/SYuwBc4gGV/f4RhMf9F9PYXl0Lml/Rl\n",
       "MSdhCF07dq3WYoq6wRcG4QMEN9yY6S5nBlYeG56kQ/1iCYxDG8hHxRx04O/zJ1PM08WD6CcS0JGy\n",
       "/7MxJSVgev3ZUagF80K/CMLJ4oqvNsOMRYKlE9md6mNPMK6E4Kl0Oh1WFPl582NPI67jnMbp3pfT\n",
       "6ffQVp4N0z6GNq07bFxWNJUjeJ5dEKiS9G812Gk10Jo5gS2mCPsypmDdoGJBMClqxMdeOF+VxwiY\n",
       "mPODNIrJfoHvyyF/e21F3LCY2tORwakdpYvzURMwf24EopIGDcn9RrlA6WKwShODdckJHg0zxb3+\n",
       "XZhbuUV2i30JTGjf+hX4i9dqe//UBneaWWzPvtmM+A142j9EhyDkbcLRI1IsUQPG/3HhOv7biGxz\n",
       "S2X217XU1JVH66F0Om59tPbA5/A+8oXRdG+t5sqw2aJKaqAS4Q/b7PLm7vXM/yI0CSYnoNp45vS9\n",
       "lV+2EdeVZh86QZ/shttBIiU7mLpXsAh03AB7YEJbVXXrIYHKw5RO3xFoj5cay9f1/6FLUq0bXnga\n",
       "me5+KhTDu4FLudTw8uSKIAk7GZ0KXIEgKcaPOH5FIJQy7BXW5DL0kL7S+UsVGDcYFoB+vMAn4G9S\n",
       "CZy/hiJhKfVyOaC7h0AI3iWLuXBxh686PYuDOYFuF/mQcNu1q068S9IeffMTDO/fOE3Oa8RuDl+n\n",
       "H1m1i0oYQeACWLd5nhuBU3h/G8JugCnmXdSk8ZzJnUc2qzzk2jSNFykXYXtgrev1INUXtlB4kyyU\n",
       "zc7YAnPuQephMg4Ulv4D2jdwuwBTuPwAAAAASUVORK5CYII=\n",
       "\" style=\"display:inline;vertical-align:middle;\" /></a><br>(see <a class=\"ProveItLink\" href=\"../../../__pv_it/theorems/9b48e06ab65b6e4083dce1c32fe2a488589df6cb0/dependencies.ipynb\">dependencies</a>)<br>"
      ],
      "text/plain": [
       "<IPython.core.display.HTML object>"
      ]
     },
     "metadata": {},
     "output_type": "display_data"
    }
   ],
   "source": [
    "%proving strong_div_from_denom_bound__neg_over_pos"
   ]
  },
  {
   "cell_type": "code",
   "execution_count": null,
   "metadata": {},
   "outputs": [],
   "source": []
  }
 ],
 "metadata": {
  "kernelspec": {
   "display_name": "Python 3",
   "language": "python",
   "name": "python3"
  }
 },
 "nbformat": 4,
 "nbformat_minor": 0
}