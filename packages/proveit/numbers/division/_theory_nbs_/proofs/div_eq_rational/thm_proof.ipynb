{
 "cells": [
  {
   "cell_type": "markdown",
   "metadata": {},
   "source": [
    "Proof of <a class=\"ProveItLink\" href=\"../../../../../_theory_nbs_/theory.ipynb\">proveit</a>.<a class=\"ProveItLink\" href=\"../../../../_theory_nbs_/theory.ipynb\">numbers</a>.<a class=\"ProveItLink\" href=\"../../theory.ipynb\">division</a>.<a class=\"ProveItLink\" href=\"../../theorems.ipynb#div_eq_rational\">div_eq_rational</a> theorem\n",
    "========"
   ]
  },
  {
   "cell_type": "code",
   "execution_count": 1,
   "metadata": {},
   "outputs": [],
   "source": [
    "import proveit\n",
    "theory = proveit.Theory() # the theorem's theory"
   ]
  },
  {
   "cell_type": "code",
   "execution_count": 2,
   "metadata": {},
   "outputs": [
    {
     "data": {
      "text/html": [
       "With these <a href=\"allowed_presumptions.txt\">allowed</a>/<a href=\"disallowed_presumptions.txt\">disallowed</a> theorem/theory presumptions (e.g., to avoid circular dependencies), we begin our proof of<br><strong id=\"div_eq_rational\">div_eq_rational:</strong> <a class=\"ProveItLink\" href=\"../../../__pv_it/theorems/8c7f7e4fbb483f982ba4e54f44632122cbc594b90/expr.ipynb\"><img src=\"data:image/png;base64,iVBORw0KGgoAAAANSUhEUgAAAPoAAAAmCAMAAADaznZbAAAAOVBMVEX///8AAAAAAAAAAAAAAAAA\n",
       "AAAAAAAAAAAAAAAAAAAAAAAAAAAAAAAAAAAAAAAAAAAAAAAAAAAAAAACXHtMAAAAEnRSTlMAq1Rm\n",
       "mUTNIjK7EInv3Xbt5cmRiLwgAAAACXBIWXMAAA7EAAAOxAGVKw4bAAAD4ElEQVRo3tVZiZLjKAzl\n",
       "NLd2x///sYMwYLDdMel4qgI1ky4nkuChWyZkuiXYR+x2sWTSJWiGAECtdm7gIiwIjn82Th0mxc6X\n",
       "cgWEAAUiwj2PI8wj65pF0CmRa59VxhVisYTyex62XRA1+QvDZoS+uIIHFb+MeTchHkj+SF/4CU2e\n",
       "re2hK5a7JZFNr/oYL2ZawXWAotHbEQUm8wBfnxVyTubpVenWSEJ9CmEDy9DyUb5ws0GvgSpavrYi\n",
       "QpdDEQsNXK5NQOR+Nuj76a0AIEzwsVhtqQPRGrlaI+NuBYx/v71/4KKuSwchlgVC1rzx9a5fapLf\n",
       "oLaeHQOfLmpX5vtdffkdX4hJkPaBDfAWSzXvvr/E8b9Mx4zDbtw1TEYryi6+fD1ysroHwwZq2gdc\n",
       "foJMtz4XiG2SJVJ9Zx4qa8XHh/rxl5SRXu4dmnXjHCsWwYqWj1+c0xlBaZsaPg2WLjmlc+B+MNJH\n",
       "nQcV7uRbngLUxEqSKIcCXFtYfAh9UwGPKpHm3ITsh1ybdYvyinRN5sngzSAnRO6BnELQlnP1FPTN\n",
       "gjzKP9Uvz2pd5ODOoRgwB1e3BBAq/st3DqgQ/A8l2mjN0o9A4BJ6x191V+Vc7Cjd5tTo8J69C/1t\n",
       "X8eUnpO7DaqpFkFhv7Bs+1kg8UDaY9NUqyu7XcIP0Cu/MGXxRk6/40bzX6LZGrTAT2HuwVI7y1Kl\n",
       "VhCC7Kci8UcDJNu2sixENBGZrAcokKFpHRvoHX89f5VzsWO2pw36aRBhV3gMec0WNJ/PS5z1tXfT\n",
       "WCuWghRwMLhpkBF5Y/AX/trIOe9Y7Gkz+LN5e/EYdL3Kw7XGkxq+Dz5QH/XwQW7xR+8qvgtzmb81\n",
       "+F1OvyPS/P8n01yHObI812b0ky68VnQ8yW0MPugGqeURJD3FI+uYXvrqRyeFubbd3U+38x+aiSwn\n",
       "Sa07kqaTivEx+tU5TonnBgzuOMOWsfcHx1FdUZ0CpAOw+QkHA2bZejy9x+cgFqqvS5rKf7jwLCdJ\n",
       "rTv2BWUsaYS9aFofm6SaFwmAHZ9sMs1Sw5lU0iSb113cvbXJRs5hj9sgZp9L7C+ShbTHpxiZ5FXh\n",
       "IxiP6h2Hvsvp9xipqsxTcU6+mPfw05Pk4H6oarl+Q+u7nH4PNlBKd9NERR2owXR3pHX/okX/p1Mu\n",
       "26Qk6dFzxrz/ROvne/W0a8v61HCHoRs70sJ0s2iyFwREpDwbhgYsJ1o/4/vG+o7Zm4MDvLqvAy0s\n",
       "ZMa18KaeH5tOH2mVV1NCx1avpni6EKYGoHe0Nkz5eh11tjXYsSckLIihWWBPaziZdakU6SwFpxUF\n",
       "PWIpLa0tLv8Xyp4i2SlQiTEAAAAASUVORK5CYII=\n",
       "\" style=\"display:inline;vertical-align:middle;\" /></a><br>(see <a class=\"ProveItLink\" href=\"../../../__pv_it/theorems/0fc61531b05a1f56fef3f7ee981471bfcd4330610/dependencies.ipynb\">dependencies</a>)<br>"
      ],
      "text/plain": [
       "<IPython.core.display.HTML object>"
      ]
     },
     "metadata": {},
     "output_type": "display_data"
    }
   ],
   "source": [
    "%proving div_eq_rational"
   ]
  },
  {
   "cell_type": "code",
   "execution_count": null,
   "metadata": {},
   "outputs": [],
   "source": []
  }
 ],
 "metadata": {
  "kernelspec": {
   "display_name": "Python 3",
   "language": "python",
   "name": "python3"
  }
 },
 "nbformat": 4,
 "nbformat_minor": 0
}