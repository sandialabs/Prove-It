{
 "cells": [
  {
   "cell_type": "markdown",
   "metadata": {},
   "source": [
    "Proof of <a class=\"ProveItLink\" href=\"../../../../../_theory_nbs_/theory.ipynb\">proveit</a>.<a class=\"ProveItLink\" href=\"../../../../_theory_nbs_/theory.ipynb\">numbers</a>.<a class=\"ProveItLink\" href=\"../../theory.ipynb\">division</a>.<a class=\"ProveItLink\" href=\"../../theorems.ipynb#frac_in_prod\">frac_in_prod</a> theorem\n",
    "========"
   ]
  },
  {
   "cell_type": "code",
   "execution_count": 1,
   "metadata": {},
   "outputs": [],
   "source": [
    "import proveit\n",
    "theory = proveit.Theory() # the theorem's theory"
   ]
  },
  {
   "cell_type": "code",
   "execution_count": 2,
   "metadata": {},
   "outputs": [
    {
     "data": {
      "text/html": [
       "With these <a href=\"allowed_presumptions.txt\">allowed</a>/<a href=\"disallowed_presumptions.txt\">disallowed</a> theorem/theory presumptions (e.g., to avoid circular dependencies), we begin our proof of<br><strong id=\"frac_in_prod\">frac_in_prod:</strong> <a class=\"ProveItLink\" href=\"../../../__pv_it/theorems/ca54f29660a1c11633493e1844ed90a01f510c820/expr.ipynb\"><img src=\"data:image/png;base64,iVBORw0KGgoAAAANSUhEUgAABHEAAAAzCAMAAAAn6WQHAAAAOVBMVEX///8AAAAAAAAAAAAAAAAA\n",
       "AAAAAAAAAAAAAAAAAAAAAAAAAAAAAAAAAAAAAAAAAAAAAAAAAAAAAAACXHtMAAAAEnRSTlMAq1Rm\n",
       "mUTNIjK7EInv3Xbt5cmRiLwgAAAACXBIWXMAAA7EAAAOxAGVKw4bAAAKdUlEQVR42u1diZq0qA5V\n",
       "FkVQ5l7f/2EHUEtEtnJpsSbnm7+n0TTGlDmGQKiqugvcoAIAAIA/YIRhVCBg56PoWLwNOPLQd/AO\n",
       "fMzanWaE7kbGoWDyE6hxvA04BDYA5TxpbQyMUyrhiHgbcBBoABs8aG1gnEKBm3gbcBiiBhs8Z21g\n",
       "nDLR9m20DTjzYML49DlrA+MU+jHJeBtwJtLvIZXzmLWBccocU/XxNuAUGphBfczawDhFohfxNuAU\n",
       "6Ahj1KesDYxTIuTIo+3SwaWsORMCFfvarXNvROgsBCN60oWfl7v2qmlrs2FgVRtLW6UlMhHpaGNt\n",
       "YJwSMdTxdulQriJrWZFi56FRJoWLCunxbN3pNzU9L1ddetWktXkjRRedmktL5LJkpKONtYFxCgQb\n",
       "WbRdOrCKorF6yspds8jHrEw8Q5Mf91q6UXfF/YsUXDkuRF0fDnV2Vz1s7VbrIPSPgOKrxDmV7Usl\n",
       "rA2MUyDqPt4unjH1i7fs9UNdVvjFJ7efGF+FEkzKwXakJiCnU6WfkGMVS7Fg4+8tKry39vZ63LBA\n",
       "SPFVYqNyrs6+jlLWBsYpEH0db7/iHsqezseZuWMzIJCG8c0NbZbQDiQgp4dC7ScwHTJnxlY596pR\n",
       "4Z217VPtciKk+CKxVTlXZ++l4tYGxilxUIWj7TfAzE8UvHEAz7SpCR46zfiM7hw3KIf5xn2/htMb\n",
       "wSpGqSuJQ7W8QWtTPMVMYcUXibMqrx0ZbUnQ2sA45UE671/5srlc3tFpIFjylH5m3GjcfhCfmwk5\n",
       "riun/n8ibb7pjWPa40lhWX9nbWSmr+qI4pbEOZWXjhZt25C1gXEKzDH08XbpQCPjROlMUclGzvMu\n",
       "oeeLtL9QGmUcV85for6mana/hHtrudQyOv4g4itrs050UgwsrLgtkVA5rvOno0VbHrI2ME6Br98u\n",
       "3i4+xiFSVojgkgmnEmPmAIcIyWsicBVlHFeu9W/D88l77H+J9FbrPLJ+7QzoK2sLXWLQxKjSlkip\n",
       "HNXZ6khrS/ugtRXjrAEPwjcwzm3d/yr4SKJtwBXAx5bNZG510aqPrL1sLNyrGER2Os9SHU60JBW/\n",
       "TGWtLSFbTS1rK8Yhn0Zzbb5gYpzbuv9VMGetCBuhivN+K1/KOG3HGCNX5c3bcY4ctLPexTiXqWy0\n",
       "HRhiAWurm2D156J3jKpu6/5XgUYUbQPuiCTzvEk0o8hgql7vrjlepSqt59d1W8uDlJBW/DKVjbZS\n",
       "4JC1dR6nmW/j6jKYOY9zV/e/G++zaBtwCUbYl+sRa2vGwTMfXb1KdGacu7r/Vbx9cvwtPgAh9yPW\n",
       "NnNV/aBx+Y4Iy1zVTd3/KoQzs2i3M6uKHy1lTqdQiiho7uEN+IdYrW0Yh5iw/czXaogY45zv/p2I\n",
       "JgrC1iAO49jtzKriR0uZkwRWRkHzYKdSyWABhlvXY7W2YZy2Xn5c6lwL45zv/iXDoY7U0qouiYXt\n",
       "wthGCLnn6noMtjNrmR8tZU6ikILmAbZV/EvG6TeMY+IP8dXbqx2I/gM8L1+OMs6B7l8EJuuuo3q1\n",
       "ea28EXUih3Em/sV6rVT3BeNk1jJHS5m/rgvOKWXedDpa8F/UU9DsaOUpaP66Btvq6CDjjIAziDAO\n",
       "ktmJ3cXBUG1eHvMMfpxxvuj+fUMnMs8kCW6iG5zFOLUJFfRaqWqXF46NqnJrmWOlzN/XBWeUMic7\n",
       "TRY0bzrwFjR/X4MdK2ge4GurnhtVaT7A8jsHQ+oPiEngCELIoP7RIOOs3VNdi8ZJxZ1Kr9BxL1LC\n",
       "UpJW/WcJrwuf2dC0lO7yi56D/kSkKyiXrCTHbF4s7mMcRwtqaKk1VNK7iwaEw0GbdmYt87OlzKnP\n",
       "r4iC5k3mGPI4N8PJHOu1MvOqGd/jZH1cHwerEENUvUBERh5n7V6FAcrLzBqgjd+Gjvuj5oSwbHWS\n",
       "s0GWMPvEdIRRsVPWe9Dreq4g/7AKapHLf52jstaCdBr/qH9YjVO0UXZfniQdF9u0M2uZnytlTqOQ\n",
       "guYeiOUvGad2GKedj/geJ+vjWh1MMY4aRyCaxzhL9y3Xz5hesC3bbYbPfzyQDowLK107uZR1TMLS\n",
       "Cjda37xamzt17wjSD11gjnmQcRwtZt6eGGe3dVV0BWBmLfPRUmZ/suSbUuZ0nHhlQXO8Bjta0AzV\n",
       "an+J7Zpj8x5gs2vsHyfr41odTDOO4pnFiRKMs3Q/fXt2T6d8gF2sah2nSJJ4pGN34r+/ditcSysP\n",
       "Nd3UZrJ+Opi+8PLXKxs0JmbpUMUYZUHG2Wqx8PY0qtrVMCBnBnrbzqxlPlrK7E+WfFHKnMS1Bc3R\n",
       "GuxYQTMfYX3Y38Gy9m63Ct/j9Pm4VgczjMPFkhAWCcaxj/FxCkSYvZzMOt5X06+RNNQq7OeF3kqn\n",
       "aC16ZgclLd9eezmYvvAsaF1pvfE5c2wttOkcW5iiWmW9//2/M6OqQOb4qy0AMysLiytlztT+voJm\n",
       "qI/9S2wrOdOP0+fjshzM1IZSJOPEsEPDKjpO+88rAbMoQzjH25nyzAnfD1sYE4QxoUgYZfXptq9E\n",
       "Y6KuSXiYhKdW2yA2zUdPjLM5mLzwIqguiNFkivUV3AqTrBb+9TiLFpVV2lpJORe+hSLQdPyfxTgF\n",
       "ljLnaX9jQTPUx/4lLGu7jOM8TpOjrR/X6mDY0Ek0d+hjHFpLjMX0x5PXMzNZszle6en36QTr2+0P\n",
       "RxhpdlQjrIkAzGkiqZC6yHYSRgR3zeccx32zsp17MHHhRdBcdFh84hM5ChUBEuYfVS1abEhKrwD0\n",
       "+NPQxNt2Vimrlrm4UuZc7W8saIZqtb+EZW2XcZzHyTia9XF9HEzPE5sB15eMsxWYHtjdy+YzA+9j\n",
       "SzdZwiquQxrkO61aXKnZ4f25ZVSFjly4ZireWXhGD5G8d2qZ1tYiyRBv//KYV6AewQaPWDu566jj\n",
       "fBEHO8o41H1RCj7lhKlvc3r3mAo1dHwzTEmd7WndUvEabTx/OjPO5mD2hfXEE6apF3y3yY7NWmQs\n",
       "hcTOEkA8cnhmr0YPpePPWDvFOPTEw55gHCZ7s2WOmxdtVCBthiy+hKl7jOt5fKpdut2f1i2Kl9Il\n",
       "7Ln25mD2hfVFkUiWNtsrAD9aoDRbMyfFwN6WcuCS4NlMpaJ9e+L4BTb2WzvFOGd2DPiv76x+OFHw\n",
       "9m/Im4vNccEDF/z2NM4LbOy3NnyXQ4EgfbxdOJZi87rggUv98qqqN9jYb21gnALh7kJzxa40fxnw\n",
       "zwupS/4i4NcPql5gY7+1gXFKhLuAdnjZinyqc92s4P2ZfyAZX7yNA9YGxnmDQ7zNQUyxuSx4LPgD\n",
       "9eHF2zhgbWCcIuFuCv2yTaJNsXlXrlfTH1j+V7qNQ9YGxoEg54b3r64zH3HZ3vr2GKdwG4esDYxT\n",
       "JhoRb5cNXgtJyo0j6C8sqSzcxkFrA+OUCebsb8j6t40DRLn7zA6/UsQp3rCXr2NtYJxCIbt4u3RH\n",
       "4H2xbi1+Yfe/wm0ctjYwTqmoRbxd8ltNlqwu/YlN/su2ccTatzIO5grAHQfRoHi7XCCc3EzxwfFq\n",
       "8xOPZNE2Dllb88GdwfqgNzeB3WQPw/2qhI6BTU6DN/AOfMzanWaE7l9UlIizKAgyqwAAAABJRU5E\n",
       "rkJggg==\n",
       "\" style=\"display:inline;vertical-align:middle;\" /></a><br>(see <a class=\"ProveItLink\" href=\"../../../__pv_it/theorems/6fba1696b3a1c4528d6b819771120bef7baf0af40/dependencies.ipynb\">dependencies</a>)<br>"
      ],
      "text/plain": [
       "<IPython.core.display.HTML object>"
      ]
     },
     "metadata": {},
     "output_type": "display_data"
    },
    {
     "name": "stdout",
     "output_type": "stream",
     "text": [
      "frac_in_prod may now be readily provable (assuming required theorems are usable).  Simply execute \"%qed\".\n"
     ]
    }
   ],
   "source": [
    "%proving frac_in_prod"
   ]
  },
  {
   "cell_type": "code",
   "execution_count": null,
   "metadata": {},
   "outputs": [],
   "source": []
  }
 ],
 "metadata": {
  "kernelspec": {
   "display_name": "Python 3",
   "language": "python",
   "name": "python3"
  }
 },
 "nbformat": 4,
 "nbformat_minor": 0
}