{
 "cells": [
  {
   "cell_type": "markdown",
   "metadata": {},
   "source": [
    "Proof of <a class=\"ProveItLink\" href=\"../../../../../_theory_nbs_/theory.ipynb\">proveit</a>.<a class=\"ProveItLink\" href=\"../../../../_theory_nbs_/theory.ipynb\">numbers</a>.<a class=\"ProveItLink\" href=\"../../theory.ipynb\">division</a>.<a class=\"ProveItLink\" href=\"../../theorems.ipynb#neg_frac_neg_numerator_gen\">neg_frac_neg_numerator_gen</a> theorem\n",
    "========"
   ]
  },
  {
   "cell_type": "code",
   "execution_count": 1,
   "metadata": {},
   "outputs": [],
   "source": [
    "import proveit\n",
    "theory = proveit.Theory() # the theorem's theory"
   ]
  },
  {
   "cell_type": "code",
   "execution_count": 2,
   "metadata": {},
   "outputs": [
    {
     "data": {
      "text/html": [
       "With these <a href=\"allowed_presumptions.txt\">allowed</a>/<a href=\"disallowed_presumptions.txt\">disallowed</a> theorem/theory presumptions (e.g., to avoid circular dependencies), we begin our proof of<br><strong id=\"neg_frac_neg_numerator_gen\">neg_frac_neg_numerator_gen:</strong> <a class=\"ProveItLink\" href=\"../../../__pv_it/theorems/dcb2d9484743c6dac6d00b9aa2a85759153465710/expr.ipynb\"><img src=\"data:image/png;base64,iVBORw0KGgoAAAANSUhEUgAABIAAAAAzCAMAAADYZ4OgAAAAOVBMVEX///8AAAAAAAAAAAAAAAAA\n",
       "AAAAAAAAAAAAAAAAAAAAAAAAAAAAAAAAAAAAAAAAAAAAAAAAAAAAAAACXHtMAAAAEnRSTlMAq1Rm\n",
       "mUTNIjK7EInv3Xbt5cmRiLwgAAAACXBIWXMAAA7EAAAOxAGVKw4bAAAKFklEQVR42u1dibakJhCV\n",
       "RdmUJP7/xwbQVqBZ1O7n8l7VSWamtFgvXAoEummOiXTSgICAgJxPIcNohEItHhbBoQ4AjV9OMUIW\n",
       "VGEpRBwmoBbq9xNB5FHZZR+9BjT+qPBBFlQjBAjoohavHpVdjcvvWw1ogCQEDyUVCOgqId2zmlG1\n",
       "g2oCaIAkRKGSCgR00YSmf9ScRW7ooJ0ENEBSREFKKhDQNaA8a8ZCN7g3hAIaICnvuZcFFQjoEpe/\n",
       "f1Z+N2W3l4AGSMo3pgUVCOiSDv2sNU+8aYmkI4AGSELakeVVIKALRI+rsyC1sh2XU/uFIO9DbDTb\n",
       "KDtjoyoXjUaSKzV9IYuXFyfhw8AbVuKmusVGORiRj8bBivouOjujC1G4Y+13KK8CAV2x5uAhoMyk\n",
       "2PyFhB0a8lW60Wyj7Iwt59uYDqKRbuj0aTX5KUl2Wok0NW222NptD0Y0oI8r6rvo7IwuROGOtY9D\n",
       "ig9UIKDzhY/rrluOp5bT23XQzvimMtmPYzOpFEKHh9q3RGtQpzcBEROSmMY0b+LDqaUUZjOp7B8y\n",
       "8617sfisTH5Sh9GoVtQZ6OyEJ0LhjrUvR51VgYDOF+T1VDm1s6kXmLGMaz34UHVpM7uOtw55i1ll\n",
       "kMrFVrY2xu08yA2rmKAudOf15HR+pGuWmYJ5Fp+VyYvoOBpvsV+BziZ4VusIhVvWvhiyKhDQ+dKj\n",
       "N4dUu17gBoZgr+hA02bWMWfr0D1s+wSei61m3eeh7tfgbd+k8sNeFpmCLRaflslL6jgaydnD2ehs\n",
       "gSeItNfVKrm09km4DO2rQEAXzMACZ9mNXsL2At6+tZScGZFBc9ktUWyUmCESNZqkj2QO2XMY7ovG\n",
       "fKA5nfGWTGN6tmCLxadlWiNyxaGH0ChX1Eno7IQnQOGWtS/DSvZVIKDTRYfDgWtng3Jrj4WWEpuZ\n",
       "v4fjeQhik6TtyeQK6KQ7IJJjmxTtNH9RhaaEHXehQsE8i8/K9IroVRx2BI1atZ+Czh54YhTuWfuR\n",
       "m+mpQECniwgXHZT91mERadtSE4/NEgeLg2WJdUUhNZ0PYmNSWxM7/KU/uKc/buCRS2rK0s7+USos\n",
       "F0poNfB8wXyLrWVKFmmJ6FUceQSNWrV/B51KUfbAE6Pw87WfzHOl9vOLQEBA5y8BRVVOqdISUUWa\n",
       "UhOPzZiQxUn5OjtPTufD2JBd8+yzky2ezJKkWjeYElxoEMp+HOtKfde32FymVJG8iGxx2v4YGpVq\n",
       "/xI65aLsgSdG4YTaT+W5UvtqzKmGgNbhDZPdBHQw8B8WWbnFDW/yg5mJhH3tCGVvhkAt7CJAk14E\n",
       "2rA2wGr5rhbsa2WyxaG04V9A4w7oVOH5SsZ/tPZJuJ3JUw0B0UXp2G4COhj4Dwsf9edNnAnOOf3W\n",
       "4Ss2zgOXbQ0pgy0HTasHVmsF+1qZXHEGjvkX0LgBOnV4vpHxn639qJo91ZSJoyUP+6dgBwP/YcFj\n",
       "6W4vprpR1ftEby+zHL+VpRbNAwhDOt0EBat3usr7asG+ViZXHK3I52jcAp0N8Hwh4z9b+5Gj6al2\n",
       "Deh1k4vC+wnoYOA/LGR84O3Dsjq8CAZogGRlRBnVEhCZ2WrftXAzAR0L/Iel8t33plLb46cZoAFS\n",
       "ICCRUd1XsN5trt95K8Hro8ehwH9Y1Ai/ZQRo/DXpu4zqCIg6N1Tsg+JFQIcC/wYprgfmq4NCk78A\n",
       "K+8UW3D6HdA4R4YhozoCYuj1xwECOhT4ic66oEj7M5HSsohylaOUfncM0QjN8T4CaJxEQH1GnTYi\n",
       "Wv9F7dxYuOw7OxL4McI1EqK1q7CINQ0WahMBTXxM7I4sUW7yI8hPyj4Cio/7Azpfq/0KAWG9fxV5\n",
       "IaAjgR/jutP5I4mSzvch2wgIuZXN3rVhBlOwOwMMaNxgCmYJhEyTi9TJ2/Tp4nXn/RK4tYflJG1k\n",
       "fBAw+yIlFWOTE2b+82y97dh86FgbeWOpZ2lv581w+bErSfi8Xz1JQFE2WkdTzLXtPt6eoOC7y43W\n",
       "gACNc6S8CG138Uz7eVInbzOni1cCWgJrewbN7SwK+3v2RUoqxprZqyo77Nny1b2jvFUxU6aepVtp\n",
       "bLjufsEMvzVUEWXZZoMKK/+Y/0nDHQEN8X44DTtP7rSyB2icQ0C54/AzAbH5SerkbeZ08UpAa2C7\n",
       "39vuGY92hWRfJNdPysbE3Q7BfVvtT4ZYYj8A27pHIDJsF/Igksg8AUXZmP2miYD6eAMNbH27kwAa\n",
       "50h05C7cCe1WLV44pE7eJk8Xe4ef18Bquj7PdrrgcK33osWalv0gP5ZkYVhoizxDPv07SHx6Vk/3\n",
       "FXhtnZ1zaARuOG95noDCbLz8pmkK9rbVH49wjcB9BNA4ReSoMurbdRypk7fJ08Wp2xfMMzlObgoP\n",
       "flDEe9E30z8LC1arcZImem8pxuai54HPwmSY+Pysnu5s6KW01tq8CO3v7xFRZbhaMnT173/CTcEy\n",
       "i9CVK/hAThVA46RqLhxGDSch4clbqZrc6eIUAXW8acfpon5jMC0MqegFmz0s9yL1h29MKCaEtljx\n",
       "+S3rG9U1S9bsRRHtuKTDOsynD98u8eBZNd2XoUmP4Il6Vj+KKbfurTL7gJZseMdzG63no3lFbxTk\n",
       "TnMDkB9yNHFGjQkoOnnL7Uec9OniFAG1SBOiyPRmIiAXQ/iisRtrphe8Z+EfkTG2zpiZjjlCcG+p\n",
       "bpVesmavYhLdkg6VpO9W9oueVdJ9Gbo0h3kmt5CuVGY+RnlmCrZkI9gTrpROXHAwwLG5GwmgcYZE\n",
       "R+48tXojIi5MlCrQykwMr26MNyRnGEBajwcn3hpNmoIIkgg6J46PpIu48YZetGOnU+mSejXnZQNX\n",
       "b2tA8FPkNxJA45RaHnNqjYBa+SkBvcWg5LS8nIr67ZnxRKz3M7gFofCt1cxkse1SQafEg2eb07Vf\n",
       "tEhb3aDm1ZyXjfqASmDv240E0DhDootvPbVGQPklugoBcd1PVwTFMXTjOA65qONn0m5Iam0PZ29v\n",
       "HSWR5bQVSSROjqRr08QbrrPyNyIu2cD1jyp8fOTVSVK7Ow/lLzv191A0ngUHC9egfRUupT9eq4eH\n",
       "g0f24fkHy8lvO735TDSeBQf8MOGthD5x2eH1g+VIABoAx05BQ1YFAjpf2idufpt/sPx9ZzegAXDU\n",
       "JLr531eBgC6QgT6zp9rND7/v6MIz0XgSHNFCf6ACAV0PyFPmKvYDn+4BDYBjL1WgvAoEdIU88gZt\n",
       "94PlAgEaAMdeX43lVSAgGHS3Drn2t8p/49Gphzqkj4EjYslQBQK6RLoHDroSKU1/5f1dT0TjOXC0\n",
       "Ib9HKhDQJcL7Z3Zk1QEaAMdOosAlFQjoGtHiiY1d9hjQADj2ZRSVVCCgqwQ9ze0f9AMz/WvReAwc\n",
       "bVdSPyIgIo0AkxxeeHiYM4FJ9UZJQAPgiGe3ncyrlkCOO5+D/eUfuM3puAi4jRjQ+OUiQ/6JVGEp\n",
       "RPwPSBChNn663fYAAAAASUVORK5CYII=\n",
       "\" style=\"display:inline;vertical-align:middle;\" /></a><br>(see <a class=\"ProveItLink\" href=\"../../../__pv_it/theorems/b13259a4dd7db4e92b3c23313084340631654f800/dependencies.ipynb\">dependencies</a>)<br>"
      ],
      "text/plain": [
       "<IPython.core.display.HTML object>"
      ]
     },
     "metadata": {},
     "output_type": "display_data"
    }
   ],
   "source": [
    "%proving neg_frac_neg_numerator_gen"
   ]
  },
  {
   "cell_type": "code",
   "execution_count": null,
   "metadata": {},
   "outputs": [],
   "source": []
  }
 ],
 "metadata": {
  "kernelspec": {
   "display_name": "Python 3",
   "language": "python",
   "name": "python3"
  }
 },
 "nbformat": 4,
 "nbformat_minor": 0
}