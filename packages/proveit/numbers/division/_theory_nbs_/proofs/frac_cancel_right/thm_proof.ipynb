{
 "cells": [
  {
   "cell_type": "markdown",
   "metadata": {},
   "source": [
    "Proof of <a class=\"ProveItLink\" href=\"../../../../../_theory_nbs_/theory.ipynb\">proveit</a>.<a class=\"ProveItLink\" href=\"../../../../_theory_nbs_/theory.ipynb\">numbers</a>.<a class=\"ProveItLink\" href=\"../../theory.ipynb\">division</a>.<a class=\"ProveItLink\" href=\"../../theorems.ipynb#frac_cancel_right\">frac_cancel_right</a> theorem\n",
    "========"
   ]
  },
  {
   "cell_type": "code",
   "execution_count": 1,
   "metadata": {},
   "outputs": [],
   "source": [
    "import proveit\n",
    "theory = proveit.Theory() # the theorem's theory"
   ]
  },
  {
   "cell_type": "code",
   "execution_count": 2,
   "metadata": {},
   "outputs": [
    {
     "data": {
      "text/html": [
       "With these <a href=\"allowed_presumptions.txt\">allowed</a>/<a href=\"disallowed_presumptions.txt\">disallowed</a> theorem/theory presumptions (e.g., to avoid circular dependencies), we begin our proof of<br><strong id=\"frac_cancel_right\">frac_cancel_right:</strong> <a class=\"ProveItLink\" href=\"../../../__pv_it/theorems/2b5da68865682b2f1b83722c002f48172f6ddfe90/expr.ipynb\"><img src=\"data:image/png;base64,iVBORw0KGgoAAAANSUhEUgAAAQsAAAAmCAMAAADkzk48AAAAPFBMVEX///8AAAAAAAAAAAAAAAAA\n",
       "AAAAAAAAAAAAAAAAAAAAAAAAAAAAAAAAAAAAAAAAAAAAAAAAAAAAAAAAAAAo1xBWAAAAE3RSTlMA\n",
       "q1RmmUTNIjK7EInv3Xah18O1XjQ+CwAAAAlwSFlzAAAOxAAADsQBlSsOGwAABB5JREFUaN7VWguX\n",
       "qywM5BEEguZ7+P//6wUVBZVKbeltOXu62z3tNAxhMoEy1m6I0Q/5IgiIRtFhh9uHhEiRteSCv44B\n",
       "MwYSBFLxBBGJOBrnKjjLUcyQzb7/di5kN/92TPTh6XjCFmPEicFwjbZDkfyXuDBLgEbMc+X2yJYO\n",
       "k0PGrzfjAcWKH+Kic0ty+1CJLQ/h+ditEwyp0dUpxA6FYTr/L+dCbHqmwp9mNMvTAbL0pkrAHUpU\n",
       "o1/gYnCbKoSlp74wQ79PsGYqexQd3vkTXJikzFkeH3Z5bxXj/aSLFeOAYt2PcJEqZchmdWJWxGgQ\n",
       "PBeqyoYcUGT/I1ykQSN3BElGr/8HIiZA1jmyA4oeRcLFFq+QLbi4j2/2U3fdO6LKUTYR9lyAWguY\n",
       "bsHFffzUWIUJYC/eQMMOZSvHngsTF07bJnvkPj5PFnDwVZO7VwM6QaEx1YvYojjRRi9u4/eJ3AhJ\n",
       "W4LdD+iIIlazEbiQyzbuWBsubuOPjrUfZhXPqY70Qxi9a8TFbfxRfoALXD9l4gKmLLHYioub+Em5\n",
       "e7rRH5JxUdhHSrnQPD7c4TUstyZBusjFJT5Z4KSpmL1Nx7oTZ68VlsxVK1MeOUR57Mpe6xzfELfe\n",
       "QHsXzT2PwrpDl7G9Zawal9M+e+kIGReCrpWtELlUU+t7bmEjF6f4AIuAO5x4le4v5UXOhQ9UXnS9\n",
       "J5E7APjnX/BFSocDksGUPfiKryhaUYqShdLM66/fx8V9vQilP5oAItD+J4YzdFqpB5HDciQSoHSZ\n",
       "i4jvefStp+lDeq0v0kIXtFN+JC9kzoWOtsYroG8Ou7ggYJQDVojc58V//0PIi2kDPNCLFV+jGILg\n",
       "+ARZ5ylRYqHa0Qeo0Lm/CFm7JLiP0BJLsl1Pu7gQOcat5uuI1I/61Ig/OWBO4UzXTkMwY5Qp+E74\n",
       "iNdS5Z49aw7NvDSFyAGf7tkH/8m9RzCbUi4KxA5gnf0AF9sx4pGLsJlXNkI+aCxFLq/K8BkXxtfK\n",
       "3HppN+mTO+wI6D/AhRsKZzm6n9paiBaqE0bZysjruBAgbTd3rWazaz7twJz07Niei+3Ab58XQMoR\n",
       "hUwIXT6g7OdDh4rIq7hAj2blghN2nXrYKnzAYGzF6sEZn9hZ7avIq7jwsqnq+1XbXjzVJo9lLtQb\n",
       "8vPIhZL0RLsqU8Ewg9cafWI5nrhPPcIkB35lLt7hc149+8WkI8GOnHVngE/cpx5hkgO/L78rSlYt\n",
       "lDNfxE4Wrf4+9QiTXj59+31qbzLNwi1j7tynHmDStPh6LmQyyeyA4+Z96g6GUg6//vsXnUx9H8Ny\n",
       "McC6qaQwOusnv54LHJZwxZTNr96nZjA4ZKWnMRdv+L6Wnrt9Y50ld3ZG8tR9agZjt9Daf1/rPU31\n",
       "FLhfddF3J17vufvUFAYPaH8Ai4cpB8DlbIIAAAAASUVORK5CYII=\n",
       "\" style=\"display:inline;vertical-align:middle;\" /></a><br>(see <a class=\"ProveItLink\" href=\"../../../__pv_it/theorems/66b133e516031b5e8420502f5c4493f15589ea450/dependencies.ipynb\">dependencies</a>)<br>"
      ],
      "text/plain": [
       "<IPython.core.display.HTML object>"
      ]
     },
     "metadata": {},
     "output_type": "display_data"
    },
    {
     "name": "stdout",
     "output_type": "stream",
     "text": [
      "frac_cancel_right may now be readily provable (assuming required theorems are usable).  Simply execute \"%qed\".\n"
     ]
    }
   ],
   "source": [
    "%proving frac_cancel_right"
   ]
  },
  {
   "cell_type": "code",
   "execution_count": null,
   "metadata": {},
   "outputs": [],
   "source": []
  }
 ],
 "metadata": {
  "kernelspec": {
   "display_name": "Python 3",
   "language": "python",
   "name": "python3"
  }
 },
 "nbformat": 4,
 "nbformat_minor": 0
}