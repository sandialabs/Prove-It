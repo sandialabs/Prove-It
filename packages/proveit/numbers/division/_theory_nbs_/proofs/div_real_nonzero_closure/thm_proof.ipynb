{
 "cells": [
  {
   "cell_type": "markdown",
   "metadata": {},
   "source": [
    "Proof of <a class=\"ProveItLink\" href=\"../../../../../_theory_nbs_/theory.ipynb\">proveit</a>.<a class=\"ProveItLink\" href=\"../../../../_theory_nbs_/theory.ipynb\">numbers</a>.<a class=\"ProveItLink\" href=\"../../theory.ipynb\">division</a>.<a class=\"ProveItLink\" href=\"../../theorems.ipynb#div_real_nonzero_closure\">div_real_nonzero_closure</a> theorem\n",
    "========"
   ]
  },
  {
   "cell_type": "code",
   "execution_count": 1,
   "metadata": {},
   "outputs": [],
   "source": [
    "import proveit\n",
    "theory = proveit.Theory() # the theorem's theory"
   ]
  },
  {
   "cell_type": "code",
   "execution_count": 2,
   "metadata": {},
   "outputs": [
    {
     "data": {
      "text/html": [
       "With these <a href=\"allowed_presumptions.txt\">allowed</a>/<a href=\"disallowed_presumptions.txt\">disallowed</a> theorem/theory presumptions (e.g., to avoid circular dependencies), we begin our proof of<br><strong id=\"div_real_nonzero_closure\">div_real_nonzero_closure:</strong> <a class=\"ProveItLink\" href=\"../../../__pv_it/theorems/a28d8e84ec8145cf57471b7b57a6b74a6f8333590/expr.ipynb\"><img src=\"data:image/png;base64,iVBORw0KGgoAAAANSUhEUgAAALgAAAAmCAMAAABAgaHGAAAARVBMVEX///8AAAAAAAAAAAAAAAAA\n",
       "AAAAAAAAAAAAAAAAAAAAAAAAAAAAAAAAAAAAAAAAAAAAAAAAAAAAAAAAAAAAAAAAAAAAAAAeYafp\n",
       "AAAAFnRSTlMAq1RmmUTNIjK7EInv3Xah18O17eXJ8+7nKwAAAAlwSFlzAAAOxAAADsQBlSsOGwAA\n",
       "A5RJREFUWMPNWIl24yoMBYtNYpn3ZuH/P3WQDd7ixKmDe4aeuq4Tw0W6upIQ4tahhs4TkiHxDUPJ\n",
       "emOlTzb1mNLFb0AOpt7oYIXA3GVJkLfjdqEipQBs/thnWhzuBm58Y0zma/RXeb37N9xMlmGmRkBe\n",
       "L+tr8/jxPe+T30fOTWO2MGUOS8jXprEjTChTaKxPsr2V4bPBKTMrpRHDlQXl+FJw5dIAo78TuMQl\n",
       "nIq5hqiEujCN9pOR2QqhhiWEO4FnWMJJJu+sTO5EPANiNjHg9KZCHr/KL1T3RWhcKTtYiD5AX6Z8\n",
       "nRc4ElpLwFk3Eqx4F1oKK94Tao5105XyV2KxAPfjH9fMSXM8MvDcFFyVzDZ/x2JfipvLwJUVplLl\n",
       "9x8cqbINTpHYKq1q8X0TUnhDbBPGMswB8GrE2aoisRzKJUWUfUCltukcm6eSpU2iQ4tLogpx4Ton\n",
       "IEVLALGVA287Bn+bqDxJLI8F6gTc4VDDbXhWT9I4u3K7zfUYNp8x70ALCvBgYo7NE89JMObiMafa\n",
       "S/mf2E02Dck+quEp8OPgBKD2yaBPiMjG9gdfcmYnNEP0RkmzOHBMhezyBxR6VVLlZaxr3lgHbqmC\n",
       "BOcJJatGpUOvyMZ7lyRiQZJEeeJtewx6rDI5TuirFid8IodOvUHbCXhBDYdhEGqOVqrepPIjgMrF\n",
       "K6V+/KdK+rLcH0T3ZarEZzqu3HlKyalKeItw8pC8nRdPSdKcdhvwRGpFlGpx+xCcZ/5O6Qnw4osE\n",
       "72mWbdmCol0VGan0pUmtncpUscjTFov//1OxxUeWmUfBOm2NzXAAnI1ROI76Pc2SMyc4auZ5YOx3\n",
       "NayAK/R1H83urCrwKG3htIYliZoeqkPkthrNa6a5fTcVOADlmuKlTQIz1pfcozJVvJ7mVK8jaKNI\n",
       "hCEe1tq4SfkXusLmX94uUH2ap9rdebHmuNaemqK8OlLZFvvmShPxvA3dmyEwxTXQlFkKxQE3SXWS\n",
       "Q3oHBGyNkruWcLhPl1rBkDww0ctCTk2Rb9HNZZHxhdzqDe/SBqrOXSuKV5I1bDI7c/yLpwuoXvn2\n",
       "o6FfdFf6YwttOlojS0roxhb/wuOf95/rAyDKJcNRt+OQcO8h3Mouw7bX/XCkW08nVqXO1Ny+0xT9\n",
       "EwZfnTJPp3G6kyQmI+4eBtYqrvpIog32duBcs03AXTsk7zDn7cfjq4ZYwk7XP0iaIL5jWFcLQa/6\n",
       "LEhNY/8Czhwek4QEGEIAAAAASUVORK5CYII=\n",
       "\" style=\"display:inline;vertical-align:middle;\" /></a><br>(see <a class=\"ProveItLink\" href=\"../../../__pv_it/theorems/27d605c90679a0d9a562d3997d0757dc518013a00/dependencies.ipynb\">dependencies</a>)<br>"
      ],
      "text/plain": [
       "<IPython.core.display.HTML object>"
      ]
     },
     "metadata": {},
     "output_type": "display_data"
    }
   ],
   "source": [
    "%proving div_real_nonzero_closure"
   ]
  },
  {
   "cell_type": "code",
   "execution_count": null,
   "metadata": {},
   "outputs": [],
   "source": []
  }
 ],
 "metadata": {
  "kernelspec": {
   "display_name": "Python 3",
   "language": "python",
   "name": "python3"
  }
 },
 "nbformat": 4,
 "nbformat_minor": 0
}