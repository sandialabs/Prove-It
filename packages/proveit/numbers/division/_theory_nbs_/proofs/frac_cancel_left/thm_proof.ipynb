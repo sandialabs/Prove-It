{
 "cells": [
  {
   "cell_type": "markdown",
   "metadata": {},
   "source": [
    "Proof of <a class=\"ProveItLink\" href=\"../../../../../_theory_nbs_/theory.ipynb\">proveit</a>.<a class=\"ProveItLink\" href=\"../../../../_theory_nbs_/theory.ipynb\">numbers</a>.<a class=\"ProveItLink\" href=\"../../theory.ipynb\">division</a>.<a class=\"ProveItLink\" href=\"../../theorems.ipynb#frac_cancel_left\">frac_cancel_left</a> theorem\n",
    "========"
   ]
  },
  {
   "cell_type": "code",
   "execution_count": 1,
   "metadata": {},
   "outputs": [],
   "source": [
    "import proveit\n",
    "theory = proveit.Theory() # the theorem's theory"
   ]
  },
  {
   "cell_type": "code",
   "execution_count": 2,
   "metadata": {},
   "outputs": [
    {
     "data": {
      "text/html": [
       "With these <a href=\"allowed_presumptions.txt\">allowed</a>/<a href=\"disallowed_presumptions.txt\">disallowed</a> theorem/theory presumptions (e.g., to avoid circular dependencies), we begin our proof of<br><strong id=\"frac_cancel_left\">frac_cancel_left:</strong> <a class=\"ProveItLink\" href=\"../../../__pv_it/theorems/abe087c1f6db10e358eccd628b01da34e490c1220/expr.ipynb\"><img src=\"data:image/png;base64,iVBORw0KGgoAAAANSUhEUgAAAQsAAAAmCAMAAADkzk48AAAAPFBMVEX///8AAAAAAAAAAAAAAAAA\n",
       "AAAAAAAAAAAAAAAAAAAAAAAAAAAAAAAAAAAAAAAAAAAAAAAAAAAAAAAAAAAo1xBWAAAAE3RSTlMA\n",
       "q1RmmUTNIjK7EInv3Xah18O1XjQ+CwAAAAlwSFlzAAAOxAAADsQBlSsOGwAABCJJREFUaN7VWouy\n",
       "oyAM5REEAmYf/v+/LmhRUFHqrd2W2encnUljOIaTk1DG7ltiCEv+0AmIm6LDDpeHxEiR3YkF/7kP\n",
       "ePhAIo7GuS0ySBDxxoaHlaamL3bvPx0L2SVMGCNODPqNiWPCR8vh3NvKVPJvwsKkAKWOW0DGN0fO\n",
       "iAkgbs+9rU2t+CIsOpe2EVOjy7J9SP8JO/DEHh8nR2Rtivn+PxwLUfBZsdse5j9VtDKDaXC4NgX+\n",
       "NVj0rthHOCe4E/CYL+SbmHhlqqPPr8DCzGmBVjHuR/bbLsvTx+namFr3JVgsdCgGgxCwUKJSdlWb\n",
       "jtmYSv8lWCxBIxAxAXJXdyF3BFmyH7Hn2lQPIsNiiVfIO7C47t+07W9SDt1F04WDAxag5gKm78Di\n",
       "uv8W9fTYG3px0XQp1AELk16ctreckev+edu77kOp5e6qKQ05X6QWxYl7+OKyf99GN0LSkntPm4pZ\n",
       "bEQs5OMYd+weLC77Hxy7f5mZPMc64vu4vLsJi8v+B/kGLHB+yogFjFli8S4sLvrPyt3TjX6frZOT\n",
       "NlCOhebp4wqu8XVrEqSrWJz6JwucNFWz99Y1n8RJa8VX5lTrl8vIIdFjV9da+/4NcRukddDXPOAo\n",
       "rNv0UctXhqZ1uu090wEKLASdM1slcqnG1ndfwiYsdv0DPAjc4YirdP8pL0osQqDypPvfidwBwK/f\n",
       "EIqUjgOS3tQ1+OxfUZKilCgLpZnev34dFtf5Ipb+JAKIQId/KZy+00odRA6PkUh0petYJP8Bx9B6\n",
       "Gh/TazbSQle4U74lL2SJhU6yJjBgaA679ELAKAesEnnIiz9/IebFeAAO+GL2r1H0kXBCgsz7lCix\n",
       "Uu3oDVDoUl/ErH0keIjQEsuyXY+nuBI5pqMW6ojUR31q8j8qYE5xpmvHJZgxqjKR8vAWraXqPXvR\n",
       "HJrp1VQiB3y6Z+/Dk33wYBamfDAQ2zjr7BuwWMaIWyziYZ7RiPmgsRa5PCvDe1iYUCtL6aXdyE9u\n",
       "cyLAvwEL11dmOdqPbS0kCdUJo2xj5G1YCJC2m7pWs8i1kHZgdnp2vB+LZeC3zgsg5YhiJsQuH1D6\n",
       "aejQEHkTFhi8WfnwE0+dOmwV3iAwlmJ1MOMTK6l9FnkTFoE2VXu/au8nT7XQYx0L9YL83GKhJD3R\n",
       "rmaD2YP71CiDAg3pNjWyss0GfnUsXqFzfjr7xawjqd+nMuzIWdf2rLVtNvD78Lui5a3V71OnShfq\n",
       "W5u0Km3zG6ZPv0/1iaPX96nZhepEZ+0byW3zOfCnYyHzDZe3x9mFKtNPqPXclgr3n/77i06WlL93\n",
       "nzq1CI07yW110U9+PBbYj+Ee3qeKMdEbh+aZLfZFUboZixf8XkuP3f7RfaqxzpLrm9RfYWuX0O7/\n",
       "vdZrmmrDju9TQ6oI37XJwNwWN1/5B4ZBKQf27lQcAAAAAElFTkSuQmCC\n",
       "\" style=\"display:inline;vertical-align:middle;\" /></a><br>(see <a class=\"ProveItLink\" href=\"../../../__pv_it/theorems/dda001852dc00c80367985d017f49e1d2633a8d90/dependencies.ipynb\">dependencies</a>)<br>"
      ],
      "text/plain": [
       "<IPython.core.display.HTML object>"
      ]
     },
     "metadata": {},
     "output_type": "display_data"
    },
    {
     "name": "stdout",
     "output_type": "stream",
     "text": [
      "frac_cancel_left may now be readily provable (assuming required theorems are usable).  Simply execute \"%qed\".\n"
     ]
    }
   ],
   "source": [
    "%proving frac_cancel_left"
   ]
  },
  {
   "cell_type": "code",
   "execution_count": null,
   "metadata": {},
   "outputs": [],
   "source": []
  }
 ],
 "metadata": {
  "kernelspec": {
   "display_name": "Python 3",
   "language": "python",
   "name": "python3"
  }
 },
 "nbformat": 4,
 "nbformat_minor": 0
}