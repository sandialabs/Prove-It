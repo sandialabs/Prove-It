{
 "cells": [
  {
   "cell_type": "markdown",
   "metadata": {},
   "source": [
    "Proof of <a class=\"ProveItLink\" href=\"../../../../../_theory_nbs_/theory.ipynb\">proveit</a>.<a class=\"ProveItLink\" href=\"../../../../_theory_nbs_/theory.ipynb\">numbers</a>.<a class=\"ProveItLink\" href=\"../../theory.ipynb\">division</a>.<a class=\"ProveItLink\" href=\"../../theorems.ipynb#div_rational_closure\">div_rational_closure</a> theorem\n",
    "========"
   ]
  },
  {
   "cell_type": "code",
   "execution_count": 1,
   "metadata": {},
   "outputs": [],
   "source": [
    "import proveit\n",
    "theory = proveit.Theory() # the theorem's theory"
   ]
  },
  {
   "cell_type": "code",
   "execution_count": 2,
   "metadata": {},
   "outputs": [
    {
     "data": {
      "text/html": [
       "With these <a href=\"allowed_presumptions.txt\">allowed</a>/<a href=\"disallowed_presumptions.txt\">disallowed</a> theorem/theory presumptions (e.g., to avoid circular dependencies), we begin our proof of<br><strong id=\"div_rational_closure\">div_rational_closure:</strong> <a class=\"ProveItLink\" href=\"../../../__pv_it/theorems/a6006a51b2c391bdf33859c4600473657031ec6c0/expr.ipynb\"><img src=\"data:image/png;base64,iVBORw0KGgoAAAANSUhEUgAAAMAAAAAmCAMAAAClH2SqAAAAOVBMVEX///8AAAAAAAAAAAAAAAAA\n",
       "AAAAAAAAAAAAAAAAAAAAAAAAAAAAAAAAAAAAAAAAAAAAAAAAAAAAAAACXHtMAAAAEnRSTlMAq1Rm\n",
       "mUTNIjK7EInv3Xbt5cmRiLwgAAAACXBIWXMAAA7EAAAOxAGVKw4bAAADp0lEQVRYw81ZiZLrKAwE\n",
       "xCWEebv8/8cu2IDxETv2boWlamaSKXB0dKslwti4JcX7s047NnpJXl4YTsGEh6ftNNoD0OWF8oYx\n",
       "jE/tAT7WfuuLxc5DTsf0+AkohjqgqSIp5t8TPaeBHwki0SDjMRsT1b8g0YjVIu5ipi/EF88w0Yxj\n",
       "QEuAixnKXDPx3BqkYQ5wXK1IGRCTZPJFIfPDHIiwcpEHsoYHe89awrSk6TCUsrcSQcAPEfQCvYH7\n",
       "5KSZ+AqclDgmG/317yjxhrMENEdYSdXwJ5MY2ibo+EMK6OdJI1YOIYPad4QciNoV0Q+FzX9RwQNO\n",
       "aTVP0blyiGx1JalJAhUU6Otfcvi2/ikdNjrrkNkSdyGYtJVLOeo+ezp5GlOEPmjUvltOCFLlUPoL\n",
       "oorI3EfZJUUvm+KLsvdZQu/geigoKjSrUyZawZxl3PD6a88bjSelWHLePx0/7qe5vhEFOlbRWwcO\n",
       "PlOzOmUgqA0Wc/DprJlqFdcGjqjyY2guaOLUAcZ7U5eQ5IKh9nFQXesW19X32lNZuH5Oz4Ga3DgD\n",
       "QIQPFPaFK7KShkw23QGYUwd8r6ZLnuZ/7WXrNgPuWNLRmWMVKg6k97WyOoJApn1OCDz5GirirF06\n",
       "rsDCKYTK/iXKtKA9v/fiKYSO443qdaAdj6FIQCG9m0wn8yGNnUF24QC3uPLBgbJf5o4F/6QfKF3n\n",
       "BHsS31WhcByRZVVi3kGyPMhUYZEy46/ZBvPkqtqnVcMDozMHyv5lC3Rts9+Z4+LtCK+POaLaC8lj\n",
       "OeMFvF7lnqmHdJp6QM8hTSOouoZQ2d+DeIHQATH+tnd2HNW+DBsZtY7S9lhUu8jk+wFw5WRc4GvX\n",
       "cF+TuOzPEPrrb5whdE5itqm3Dv3ZRK8I+1aiBhrC6WBaI5MpoMAlMmfoOga40Tg7p4f6xrszpe7v\n",
       "OsQZzOqgMXI7ieivhxmeks+FrXGnvedKggiZKzYXDisXLhm0q5BNUnP7Qchk5V4n60nIpDu205t/\n",
       "xe/7SMFRe6wBxIumUBxGIVVQZDcl5KwJF3ccdRuTVXx7P3JRzZT7fKMJMqhLB+4bW+xBQ9NL+9XF\n",
       "YHdRqG0Ae5kBcX/HsxnHNU8C+GYaof9iBHg3h/YXWS4mGXVvpmQ/8HKxC544Fbtvpvxxtyqbxk/q\n",
       "74a0/1UCutv15ZZRxcfWBM2GLg29CsjHpdR4M9aB3PkuDtj6JcGz42O/HugGdw47XfhqIbDhy9jS\n",
       "eJJ8bI2rZfgf7GgdVx4fcjkAAAAASUVORK5CYII=\n",
       "\" style=\"display:inline;vertical-align:middle;\" /></a><br>(see <a class=\"ProveItLink\" href=\"../../../__pv_it/theorems/e0f043310f6867102a6e9429a224575367539f3d0/dependencies.ipynb\">dependencies</a>)<br>"
      ],
      "text/plain": [
       "<IPython.core.display.HTML object>"
      ]
     },
     "metadata": {},
     "output_type": "display_data"
    },
    {
     "name": "stdout",
     "output_type": "stream",
     "text": [
      "div_rational_closure may now be readily provable (assuming required theorems are usable).  Simply execute \"%qed\".\n"
     ]
    }
   ],
   "source": [
    "%proving div_rational_closure"
   ]
  },
  {
   "cell_type": "code",
   "execution_count": null,
   "metadata": {},
   "outputs": [],
   "source": []
  }
 ],
 "metadata": {
  "kernelspec": {
   "display_name": "Python 3",
   "language": "python",
   "name": "python3"
  }
 },
 "nbformat": 4,
 "nbformat_minor": 0
}