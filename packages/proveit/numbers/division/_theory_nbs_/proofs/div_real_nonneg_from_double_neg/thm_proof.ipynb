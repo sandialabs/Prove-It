{
 "cells": [
  {
   "cell_type": "markdown",
   "metadata": {},
   "source": [
    "Proof of <a class=\"ProveItLink\" href=\"../../../../../_theory_nbs_/theory.ipynb\">proveit</a>.<a class=\"ProveItLink\" href=\"../../../../_theory_nbs_/theory.ipynb\">numbers</a>.<a class=\"ProveItLink\" href=\"../../theory.ipynb\">division</a>.<a class=\"ProveItLink\" href=\"../../theorems.ipynb#div_real_nonneg_from_double_neg\">div_real_nonneg_from_double_neg</a> theorem\n",
    "========"
   ]
  },
  {
   "cell_type": "code",
   "execution_count": 1,
   "metadata": {},
   "outputs": [],
   "source": [
    "import proveit\n",
    "theory = proveit.Theory() # the theorem's theory"
   ]
  },
  {
   "cell_type": "code",
   "execution_count": 2,
   "metadata": {},
   "outputs": [
    {
     "data": {
      "text/html": [
       "With these <a href=\"allowed_presumptions.txt\">allowed</a>/<a href=\"disallowed_presumptions.txt\">disallowed</a> theorem/theory presumptions (e.g., to avoid circular dependencies), we begin our proof of<br><strong id=\"div_real_nonneg_from_double_neg\">div_real_nonneg_from_double_neg:</strong> <a class=\"ProveItLink\" href=\"../../../__pv_it/theorems/1a1fdcd9ceaf07b27c9c11cfbd6ce0a83376673d0/expr.ipynb\"><img src=\"data:image/png;base64,iVBORw0KGgoAAAANSUhEUgAAANwAAAAmBAMAAABdfejNAAAAMFBMVEX///8AAAAAAAAAAAAAAAAA\n",
       "AAAAAAAAAAAAAAAAAAAAAAAAAAAAAAAAAAAAAAAAAAAv3aB7AAAAD3RSTlMAq1RmmUTNIjK7EInv\n",
       "3XZ/CtNrAAAACXBIWXMAAA7EAAAOxAGVKw4bAAAD90lEQVRYw61YW0gUURj+3Ytz2XXWsiQVYsHn\n",
       "TBB8kLA1124EbUlBFmgUiBaygkRSmIHUQ5SLYrVaMoEvYbVDkmZQmEWKEfjQ3awJwyJIxFLLwPrP\n",
       "mb057rrDzh7Yue2/55vz/d//nXMWQG/bojGOr4YENFMqAJP1VY4deVFMAFw+fg65uYXYkcZU/Wjs\n",
       "CNL0BEyjGmJb9MMlS8jnNKRIGmJv6WdzI3Zh9YDPFWXwbfRkeST506yzjeHHJ8PmaN93UwYL4QAe\n",
       "mXndqSMS8dkh3eCOEiG04mEYbOT7Dr1wSR48cLLhpSm6IDuBWQCrHS836YWz5ZICXn+/9psK47h3\n",
       "7kOr/3oIOUghgWfsQNOXHS9cczQOOSbVnNZO3aTfhXBW4gMpDighjyrjhYsqEY6RwHOW6KOokZBp\n",
       "I2SaKoA+8sQLl74S3LZk7HpVY0gqwjQkY+FY7PHCPV4mxOvjr4NwHPBrKNtTsIecDL/BiDlMjlsq\n",
       "f1X35hoxNLrMG8CL/jLfSctmBuDF+PjzuOF+qu5PiCEy2Ra1JHgM3w7QHnF+0oDGzKgeVIZy9+zT\n",
       "x2UeuQhQC0wkLzOug4YcdyxTUcNVhOB6CvCG9WK7Es49J1rC/XVDb1EN8TocdLXy63N+3RrGjqar\n",
       "ZlHzLDn+I22awmNmxt/5yWzPW/Z6v7AXOagU9rPXJVigT4K6PmRzAEaoURE3v5TRBrJkObXy6HhP\n",
       "WCE0cWIEOKgoDNw5sUYEAQpk5hVJzCi8JU+t+NSEgwVZNt6JQeZoGJzpvCdC7uAuWbN0F/aBQHwN\n",
       "4b47wLiWjm6IGtVUJkwAhRO6oM7pdAbJZ9TKnAqD4z0TkYR8GpXCv2Hn4SatUwvTibCGNJJ3mrsf\n",
       "4heFJFmqV3XAL6ond3sQzgF5nCuCkJMIWQ52AEopnKmD9s2WQEM2VWYr5JtzKdyOfvXrPlVXT0ZZ\n",
       "YEb44+Yuq7hmZ/0XVpeQCvkoWrsgWPYuDRqGImOV19uCZN5Tu12VAnItmDNzv2JiEZshsF7zubkC\n",
       "8QIdnWA+KDKYoJJA0DQMspKSu30PVB3s8nPo0ORBlsBbWd3NpSIVLhbCg7Af8xK8N3oU38FC6FJP\n",
       "QIrWbdo8ngv4ibk4pweYq3i1f1Lq2hpG9yA0odzqG4n9HuOdFUs78Ck45dqWdHTuD1s2eb3LFnAG\n",
       "ZZD93raI76sQ8VCboZe7Y4aUrbwQH6Cnw1OrtcD1xg7JXXlbQ6XNz4k+twa4Qd3L2l6/wK0atkDC\n",
       "gG44YqhkyWPTsEmw2nXDGYlUcUNSrqGryQTs744oZbc7dikwQwmAu40asTXiFi92pD0BcAxOX0m5\n",
       "nAYXa03E3hxOYiFkFWv4K4A4yH8j6AjrqFv9MAAAAABJRU5ErkJggg==\n",
       "\" style=\"display:inline;vertical-align:middle;\" /></a><br>(see <a class=\"ProveItLink\" href=\"../../../__pv_it/theorems/ccc11b3e982fedd9ca6503d876374b5bf6d083fc0/dependencies.ipynb\">dependencies</a>)<br>"
      ],
      "text/plain": [
       "<IPython.core.display.HTML object>"
      ]
     },
     "metadata": {},
     "output_type": "display_data"
    },
    {
     "name": "stdout",
     "output_type": "stream",
     "text": [
      "div_real_nonneg_from_double_neg may now be readily provable (assuming required theorems are usable).  Simply execute \"%qed\".\n"
     ]
    }
   ],
   "source": [
    "%proving div_real_nonneg_from_double_neg"
   ]
  },
  {
   "cell_type": "code",
   "execution_count": null,
   "metadata": {},
   "outputs": [],
   "source": []
  }
 ],
 "metadata": {
  "kernelspec": {
   "display_name": "Python 3",
   "language": "python",
   "name": "python3"
  }
 },
 "nbformat": 4,
 "nbformat_minor": 0
}