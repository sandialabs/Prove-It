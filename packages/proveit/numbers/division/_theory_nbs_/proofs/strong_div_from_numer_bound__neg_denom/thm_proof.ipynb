{
 "cells": [
  {
   "cell_type": "markdown",
   "metadata": {},
   "source": [
    "Proof of <a class=\"ProveItLink\" href=\"../../../../../_theory_nbs_/theory.ipynb\">proveit</a>.<a class=\"ProveItLink\" href=\"../../../../_theory_nbs_/theory.ipynb\">numbers</a>.<a class=\"ProveItLink\" href=\"../../theory.ipynb\">division</a>.<a class=\"ProveItLink\" href=\"../../theorems.ipynb#strong_div_from_numer_bound__neg_denom\">strong_div_from_numer_bound__neg_denom</a> theorem\n",
    "========"
   ]
  },
  {
   "cell_type": "code",
   "execution_count": 1,
   "metadata": {},
   "outputs": [],
   "source": [
    "import proveit\n",
    "theory = proveit.Theory() # the theorem's theory"
   ]
  },
  {
   "cell_type": "code",
   "execution_count": 2,
   "metadata": {},
   "outputs": [
    {
     "data": {
      "text/html": [
       "With these <a href=\"allowed_presumptions.txt\">allowed</a>/<a href=\"disallowed_presumptions.txt\">disallowed</a> theorem/theory presumptions (e.g., to avoid circular dependencies), we begin our proof of<br><strong id=\"strong_div_from_numer_bound__neg_denom\">strong_div_from_numer_bound__neg_denom:</strong> <a class=\"ProveItLink\" href=\"../../../__pv_it/theorems/e9e00909513424baaf2213fe91e773193ad90c570/expr.ipynb\"><img src=\"data:image/png;base64,iVBORw0KGgoAAAANSUhEUgAAAPgAAAAmBAMAAAAby0tnAAAAMFBMVEX///8AAAAAAAAAAAAAAAAA\n",
       "AAAAAAAAAAAAAAAAAAAAAAAAAAAAAAAAAAAAAAAAAAAv3aB7AAAAD3RSTlMAq1RmmUTNIjK7EInv\n",
       "3XZ/CtNrAAAACXBIWXMAAA7EAAAOxAGVKw4bAAAEJElEQVRYw7VYb4gUZRj/7c7Ozuw7e3N+Mi7j\n",
       "GKiv1dKHIJH15DQ1oq6s4Cq6sYRQQUaIwJLu7KNs3ullcQUxhtCfy3NJutLgWIxQCEXIMBBlDq+s\n",
       "Do7jSpQVqud9Z3adnZld92Dfgd1n9/fOvr/nfd7n+T3vLCDpylgth9kOSLzW0Wtq9vPvYz6wuQKO\n",
       "AO+58rgVm976zN7MheiIka5gLd2wQh55iRamOEo1VYiOvEv+9JA9JI98J710ZOz4iJv3cJ7sV9Li\n",
       "nq4KQzzxa8jVb/GMlBb3rrLP47D4+h6HWSGj3ZRFPso5vxi4D0Z87CByYtEfyyLnGYWH9z+JZ5OK\n",
       "cEhk4RpZ5H/zt6ML6f4EqTky87TD7bAFEYH7O8ytt97PaT8v+rCB29c7LTGLzccMm532BdjGPp54\n",
       "Yx0mT9ktCsFL+aVgLiJLeWlYHSbPR2qYvRaSgOKG4MMtKJR52U7nW3c5AkxeTUiMJeDclSs/dZw8\n",
       "pujm5ZjaMCqJTcBHbbTnZZEPx/dRuRhj/xfYDa2pyqYvb1vpy3Pu7ozGTD3YowlJlN7mRJDbNK1r\n",
       "DCROdqDnMLyy8XYSeVyxXRQxWO8dYsb/xFW/Q93q1lFRiv+QR15yvmVoP+B5ylQC+Rv3Ru8m5Cy6\n",
       "nRYrh7o94jKRwy7ydCx+y78vbJyjCdRZpHANgtw8GiI3597ZSGbfPcArK4Q4shPzjo9oVeStVmHf\n",
       "6sT3HF/TWY5dEopoOj1Z+t1Ut1tiQni88p5rIfLrqbFXgUFygHlVnTfGY86o4yN6FV21JB8uJCSc\n",
       "k9QA9tIKMn1iKgWf6GTeehB/quL33uaTCJEXct4IBk9xUfz0gsndW48SfITI62eH414bpaYtcS0c\n",
       "IUkaMP2U9zvCKvQq2ycmDlHYv7HCe067qvvKnCqnOMOPmA0QCnt3Ldr5vgjRVJLI3Ki56uRWc9f0\n",
       "isa//oKzetnf8+dPhclLcDApjn5dA3lymt3E+JcBEkq4bKRZsJ+bH7XIVWd0izuJvYadwSTwq7ro\n",
       "Kw+VWijhtMo0aE3mOCcfGQIr44x+Y3WALOCZeqVU2lAio3aqVvsfOoGSlflt5i8yeOAxG3toYequ\n",
       "nWy9fWflT720wOOjEFe6/wMe7+cemS8EiDHzRD27qm2Q5xq1Ldgyizm5AtjJicOhOxsj9iE+A/cg\n",
       "jITDvLTsBqC6gUl5L8TcjAK9KkXkxWYTv98G+VBD7Sk1oxbLdyXfMs9Lr9nE/uFQW3U94eBeQ6fb\n",
       "7lPa8nrqcSHuLzu5hM2voadlnV4NnqXsB8SfE+uoWZFFTkVPBbdYe3JpaFgBmrekkT/Kpx8Lwt94\n",
       "vgvQ3+U9pWYLQuHXJqSDj2pn5JGzS0RjYWU61ssC9Ji8qANvush56Yvxs1+Ajsv8T0YbAev9bvcf\n",
       "8ZgIlPFt/x9MFR34t4XMfgAAAABJRU5ErkJggg==\n",
       "\" style=\"display:inline;vertical-align:middle;\" /></a><br>(see <a class=\"ProveItLink\" href=\"../../../__pv_it/theorems/fafb64bc1ab7b3945da14454421299addf7581320/dependencies.ipynb\">dependencies</a>)<br>"
      ],
      "text/plain": [
       "<IPython.core.display.HTML object>"
      ]
     },
     "metadata": {},
     "output_type": "display_data"
    }
   ],
   "source": [
    "%proving strong_div_from_numer_bound__neg_denom"
   ]
  },
  {
   "cell_type": "code",
   "execution_count": null,
   "metadata": {},
   "outputs": [],
   "source": []
  }
 ],
 "metadata": {
  "kernelspec": {
   "display_name": "Python 3",
   "language": "python",
   "name": "python3"
  }
 },
 "nbformat": 4,
 "nbformat_minor": 0
}