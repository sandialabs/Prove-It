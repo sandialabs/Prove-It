{
 "cells": [
  {
   "cell_type": "markdown",
   "metadata": {},
   "source": [
    "Proof of <a class=\"ProveItLink\" href=\"../../../../../_theory_nbs_/theory.ipynb\">proveit</a>.<a class=\"ProveItLink\" href=\"../../../../_theory_nbs_/theory.ipynb\">numbers</a>.<a class=\"ProveItLink\" href=\"../../theory.ipynb\">division</a>.<a class=\"ProveItLink\" href=\"../../theorems.ipynb#strong_div_from_denom_bound__pos_over_neg\">strong_div_from_denom_bound__pos_over_neg</a> theorem\n",
    "========"
   ]
  },
  {
   "cell_type": "code",
   "execution_count": 1,
   "metadata": {},
   "outputs": [],
   "source": [
    "import proveit\n",
    "theory = proveit.Theory() # the theorem's theory"
   ]
  },
  {
   "cell_type": "code",
   "execution_count": 2,
   "metadata": {},
   "outputs": [
    {
     "data": {
      "text/html": [
       "With these <a href=\"allowed_presumptions.txt\">allowed</a>/<a href=\"disallowed_presumptions.txt\">disallowed</a> theorem/theory presumptions (e.g., to avoid circular dependencies), we begin our proof of<br><strong id=\"strong_div_from_denom_bound__pos_over_neg\">strong_div_from_denom_bound__pos_over_neg:</strong> <a class=\"ProveItLink\" href=\"../../../__pv_it/theorems/71333513c1b05aa874e75a9fe65da7831c0e057d0/expr.ipynb\"><img src=\"data:image/png;base64,iVBORw0KGgoAAAANSUhEUgAAATAAAAAzBAMAAADiNknaAAAAMFBMVEX///8AAAAAAAAAAAAAAAAA\n",
       "AAAAAAAAAAAAAAAAAAAAAAAAAAAAAAAAAAAAAAAAAAAv3aB7AAAAD3RSTlMAq1RmmUTNIjK7EInv\n",
       "3XZ/CtNrAAAACXBIWXMAAA7EAAAOxAGVKw4bAAAFGElEQVRYw8WZb2gcRRTA397t3u3tXrYngtpW\n",
       "w0FLRTDlUFASML2Sa6NCajA0HyzYQwpiC2UDfqmGen7RD43m/BPxUk1OCYrXmp6VpiRgufpBrWKJ\n",
       "4D9or2xoVNLaNPYP+SP0nJ3Zu73s7N5uenF3ITvkzbudH2/evPdmBsD+EXK5LLj65HI5J2oNpVJ8\n",
       "lUZ838YEg6QdLi06AutcLUswMRuFN8pT0+wu2Ho7Bd+kJ2D+pK3KF56A9cr2Y8W8ALtgr+L73gMw\n",
       "f8GB0h4PwMJ53PScOmjSWZbult0Hu4pjAfctDNPxuiINRNwH+wm/j8agg+6rSH1LroPxC7h5CuAc\n",
       "3VmRCrdcB2OI758B4SbdqUs/dB0sHNEs4p+jk6Qu3SK7DdaPY6dwDZjk/RSYLj0WcxvsKgkEQ9AU\n",
       "p4sVXUoM6ybYB6T56PLrjSmqU5eGJgkY5ttgB8bglRyrC+yMMzVxjoBtU5vn7cBY1WgBuR4u4YbD\n",
       "xHWTgL2K3sG0HRivGvZAfWHs1kr0miGAEoEYtfWxvag9XheY75pR8knM2rLN4Ee9AXvnfxi1ybrA\n",
       "/AsUwleKmeI/2qr8sVj8wR4sXCyez9cFJs3TsisTJoqLGtjjAIP2YGwKQvXt4cQlE+FjT9KybzSw\n",
       "HghGTD5jAEM6PfaD19rlsWZgsKmdEhU1sFBWrA6gTWNb96ufMQbYQThh4tDn9txV7Se1VjdDcuGa\n",
       "kvro2bJ7nS4lkvMamE+p+D4/lemURDiZNwHbTPn+m2sHQMmLL1uCCWZgxqeb8qMyGCRby6IESgqS\n",
       "BC2KCVjAb1hCLHJOUBT/qBVYcGvWwVTebTmVcFyNUUdaT4KkxhUEdikuJjoS25aDiZvQMNL0QdUn\n",
       "no2gTHYRMJg0Ai8mEonOKrDZ9mmUI/g7ZOCmSDLDXjtv5vzt1s4Pvcj3hd/4efgMr2oxOBQzsVjw\n",
       "NHr9xaSfQ8rKEl8QMISSP3DRaDFJXhuIAvcughtdk+2rhIsFh+HidBmMQRPIxvkCdOHfs4fTZs4P\n",
       "96C/WEhBysGPJ6U0h8O28sQ4GMH8MMQDd1idx5eaYKZGgL1iGmBvVJc94U4pAo9kMpmoJIlPm4KR\n",
       "NYXzOJNnFP8LmczbaCpPRGkfQ5PWF9UOKxorK5gqqD83T0n/VoMdk0Mt2UPYYhK3K0vHMe3pAxkL\n",
       "wik+T3xs5wQFxheCIIxjsl/gu8qSv76yJK5ZTO7vyuLQjsLFRNyiUAwWxiAu5KEhtVtLFyhcjBjB\n",
       "esWkau8Z1R6/c3PLp8hpsi+DcW2bv4SgeqzW/Wd+ZLtVBbtj12yW/xp8be+hIgh5G7d/n5BIGsDY\n",
       "P05dwt9GZBub9d5fV5JTl5fWRzKZTvvS2gefwjvIF8YzA0bN5QH2AVmQQ7of3etwlzd3uzX/M9DI\n",
       "WVRAxpTEKN36P1tIvBVm1x2iK7vRNhBIyg6nbxcsBl2XwRkY11pVKvWThcrClEKfEeQfLG8sX1H+\n",
       "h12SbL/hhUeR6e6klmK0A5i0RxtelhwRpGC7SfCCsxAm4fY+148IuHKEPWvWuQT9ZF/p/qEK/Kwx\n",
       "zAN9vcAm4W+Sudw/hiLLUhhgCkDvHkIReIsM5sHBHT7q9C2MFDh6u8hGuOueHXXiWRJ2KBsfMvH+\n",
       "9dOkXiN2c/k4fV/NXVRSWwQegPVZx7kxOIrntyHqBZhkvYu6oN0zeXNlU+OSa8M0HqSShJ2BtazW\n",
       "RWogaqPwGhkol5txBObeRepe0g6XFv8DLStq9//nk24AAAAASUVORK5CYII=\n",
       "\" style=\"display:inline;vertical-align:middle;\" /></a><br>(see <a class=\"ProveItLink\" href=\"../../../__pv_it/theorems/db44bd65a2e00cd38d919ec48897e08bd3031ed80/dependencies.ipynb\">dependencies</a>)<br>"
      ],
      "text/plain": [
       "<IPython.core.display.HTML object>"
      ]
     },
     "metadata": {},
     "output_type": "display_data"
    }
   ],
   "source": [
    "%proving strong_div_from_denom_bound__pos_over_neg"
   ]
  },
  {
   "cell_type": "code",
   "execution_count": null,
   "metadata": {},
   "outputs": [],
   "source": []
  }
 ],
 "metadata": {
  "kernelspec": {
   "display_name": "Python 3",
   "language": "python",
   "name": "python3"
  }
 },
 "nbformat": 4,
 "nbformat_minor": 0
}