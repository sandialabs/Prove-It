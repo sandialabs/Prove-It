{
 "cells": [
  {
   "cell_type": "markdown",
   "metadata": {},
   "source": [
    "Proof of <a class=\"ProveItLink\" href=\"../../../../../_theory_nbs_/theory.ipynb\">proveit</a>.<a class=\"ProveItLink\" href=\"../../../../_theory_nbs_/theory.ipynb\">numbers</a>.<a class=\"ProveItLink\" href=\"../../theory.ipynb\">division</a>.<a class=\"ProveItLink\" href=\"../../theorems.ipynb#mult_frac_cancel_numer_left\">mult_frac_cancel_numer_left</a> theorem\n",
    "========"
   ]
  },
  {
   "cell_type": "code",
   "execution_count": 1,
   "metadata": {},
   "outputs": [],
   "source": [
    "import proveit\n",
    "theory = proveit.Theory() # the theorem's theory"
   ]
  },
  {
   "cell_type": "code",
   "execution_count": 2,
   "metadata": {},
   "outputs": [
    {
     "data": {
      "text/html": [
       "With these <a href=\"allowed_presumptions.txt\">allowed</a>/<a href=\"disallowed_presumptions.txt\">disallowed</a> theorem/theory presumptions (e.g., to avoid circular dependencies), we begin our proof of<br><strong id=\"mult_frac_cancel_numer_left\">mult_frac_cancel_numer_left:</strong> <a class=\"ProveItLink\" href=\"../../../__pv_it/theorems/40e8c013eef8715776fbb4db26403c6e86ee47170/expr.ipynb\"><img src=\"data:image/png;base64,iVBORw0KGgoAAAANSUhEUgAAAbcAAAAzCAMAAAAjH7ajAAAAPFBMVEX///8AAAAAAAAAAAAAAAAA\n",
       "AAAAAAAAAAAAAAAAAAAAAAAAAAAAAAAAAAAAAAAAAAAAAAAAAAAAAAAAAAAo1xBWAAAAE3RSTlMA\n",
       "q1RmmUTNIjK7EInv3Xah18O1XjQ+CwAAAAlwSFlzAAAOxAAADsQBlSsOGwAABrtJREFUeNrtXOuS\n",
       "tCgMlYuCoOzF93/XBbwjhIh012fX8mOqzziTpDkhkAA2TaWmfGv+b59ulTt6nGzj3/wCvYRx7f7q\n",
       "VRUzbysKcO86uq/HW/tlvyMMxtWbHFUFMwsUXRWz9/JGNIxjfjyMNzqvG8LoQcfnZqJ0hoouit/L\n",
       "G+tgHG3drTg+0fA3mjw1E6kzVBTi1/ImBgFiLBNAa6drWBzZMzPROkNFAX4tb6OBMZqJdNORqEgH\n",
       "9chMtM5QUYDfyhsbYIxn4mZQvRdpcWZFxYeKzvitvA0awIJoI2KO3hFjCCZUOgkyGlTbSZSamTQr\n",
       "qjNUdMYv5c0EAe+EWzen9JGQqKZO2R/5jk9K8NwXmgkJjT0OFZ3wS3kbSRqrwU3hPDY5+V4ZslPO\n",
       "IiG+EqQ35kicWQmdoaITfidvcpJpzCdvjd4H2fbEf5qyCVUgIRy0pshMUGjscajohN/JGxkAPPT+\n",
       "S27WjNuE7nulzecCoYRz68ciM2GhscehoiN+J28DSePZLdmUyt54Ns4BEnyXoVcmSLNSj0NFR/xK\n",
       "3uTE0lh5dkjX0Ev3urA1zyMZ3pIS5seswMys0OvjUNERv5I3EzjiGffG1fN4c020XIW3R+RfaQnR\n",
       "0Y4zMyM09hgIK6/krR8grIjRUhBz3T1RRHPMWElLuDXBYc1KPgYmOMvbTiJlz3mrJS27bgDwh5ue\n",
       "ysx8rOiALW98GyedeM5bLWng/MNB/OnGprbEzOeKDtjyJtchIp75x8xbLWngfG9A/Pllkan4Z2Vf\n",
       "1M1v3bIw1rQCb7WkAY0GGRid6Fd5Qw6k52YBgcXxxpaJqGtq8FZJGhg+JIg/3iZSYmYFRTv268lh\n",
       "dG3QVXirJK04DfgGb32JmRUU7djzxr1j9KoOb3WkgcssBeLPl2uOsYSPh0bqmjV0Kex5E2T9Ee+m\n",
       "YLybnpPIRtLKGywNHdvdeBWGmqvThpUq/m3eRlQCV8GsUNGO57zbDQ6dWtyKOWuQhvR96w5FEduV\n",
       "tNfJvHuXJrsbi8qzO/B1jXOdJ8kE4Snf9nm+w//X8ZuidrGTZkXUNzhFO555owZYRxj/J5wvo04r\n",
       "37UszdtBWv4QWsIdmBOmnJnXAx0wb7f8uSzDKuGtSH2ON9vNzKzxiRkt9mjFTOeemLX4oZic+RHp\n",
       "OtcubcgtqSLuoDnnf/3NbQIvXFgY5Z8dJ5Pz2xfipE22lrRLjcKmdysnM3JV9C3eUUEFvC45SLOJ\n",
       "oiGb9dqsdHp/YIA7zI44jzdxnXAFiL+7LgGWT6K2omBd4o75kdX/bW8P+2hwfW8/tFutkSmmcrxt\n",
       "0syoGsP356tk5QYRSbiDHW///MvdePPRtosssCWIP88batFVwaz0hsC6H0AWHYPtLbM99cj9Bet6\n",
       "32gjZStzvG3SerYf2OVWjlp+T0gjNEu6g1qptutJJv7AvBs1LdbIu3kKB/s4/rBTz5ZbOjMyFsl9\n",
       "fbFMRI0CeNt4t5ZzsvvA9nvOqEq7A1eZAlIL4rK8A393QE2omsJzs0JFBxzuvw1uQmut7/v8ySPp\n",
       "RsKeRgvNhZ+sELy5EDssVbpjtF8/x92BZb4vuN1d3tAnWtF15admZerKx9bakWBcCJOuvzfUiP0S\n",
       "l9J2lHDZIHiz05tT4H2gc4/1/Lmn/jPKHW6Fj0dBCVsGxhaMH5sFFNCB/W4a1C9cQGsRda6jg3Dj\n",
       "ePA+IDhjRs2fFTfuM8odYpo6GBc1/N0BbOHxsVlAITbNW3s3+4DOKdCUP+TdIZbRDjAuq3rij9dN\n",
       "ZWbebkCBIc3b7eAM8Hb0gfZ5ksyCocGgoaKNYZhRnLw7oKyE00oJe/7gahZsS1bRAX/nXBB74g+x\n",
       "+ZqC+FhcHemcguTXbom7A63LNQ8LqEZg97FDszK2ZBUd8e+dew2M8stiREen7g4Ivyo07XEYiTIz\n",
       "YVvyil5/7rXhA4wLaoTnuwN7qb6fjDGnvRIylpmZsSWviLz+nHkbpLRtKsXFH4UL7g5spfrrmQT8\n",
       "cZ+zWRlb8oref6/jsgOS2BG5cXcmdXfgIoHduUfF8bZkFbH336NCryiXkgXCstTdgeVm077CGEmh\n",
       "mRlbsorGH7i3CN8TPswp/utpRB6Qujvgy+KKiz32ld4TztiSU/QT94TRA05rNldmsnlA6u6AcRIO\n",
       "ywdSbGbGloyiM37tezA6DeOPrYjUIzOLFQX4tbzJYB9cDl/Z9B7pMzOLFQX4ve95Mj2MP9Luv+ep\n",
       "0Kyffc9TyXvVnkfJ7rmZRYouimvyxr783tCOwrh+bO5UBTMLFJ2x6+aK0eX33xvafeu9oYGiAM/v\n",
       "Df0PIJlRflXkf9oAAAAASUVORK5CYII=\n",
       "\" style=\"display:inline;vertical-align:middle;\" /></a><br>(see <a class=\"ProveItLink\" href=\"../../../__pv_it/theorems/96be40f388fac83ec00e3bfb403cdb9c357ff0680/dependencies.ipynb\">dependencies</a>)<br>"
      ],
      "text/plain": [
       "<IPython.core.display.HTML object>"
      ]
     },
     "metadata": {},
     "output_type": "display_data"
    },
    {
     "name": "stdout",
     "output_type": "stream",
     "text": [
      "mult_frac_cancel_numer_left may now be readily provable (assuming required theorems are usable).  Simply execute \"%qed\".\n"
     ]
    }
   ],
   "source": [
    "%proving mult_frac_cancel_numer_left"
   ]
  },
  {
   "cell_type": "code",
   "execution_count": null,
   "metadata": {},
   "outputs": [],
   "source": []
  }
 ],
 "metadata": {
  "kernelspec": {
   "display_name": "Python 3",
   "language": "python",
   "name": "python3"
  }
 },
 "nbformat": 4,
 "nbformat_minor": 0
}