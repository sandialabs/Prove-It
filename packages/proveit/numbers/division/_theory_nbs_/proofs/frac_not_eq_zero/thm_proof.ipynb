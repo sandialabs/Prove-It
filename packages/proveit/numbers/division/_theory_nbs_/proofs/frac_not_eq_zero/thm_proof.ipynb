{
 "cells": [
  {
   "cell_type": "markdown",
   "metadata": {},
   "source": [
    "Proof of <a class=\"ProveItLink\" href=\"../../../../../_theory_nbs_/theory.ipynb\">proveit</a>.<a class=\"ProveItLink\" href=\"../../../../_theory_nbs_/theory.ipynb\">numbers</a>.<a class=\"ProveItLink\" href=\"../../theory.ipynb\">division</a>.<a class=\"ProveItLink\" href=\"../../theorems.ipynb#frac_not_eq_zero\">frac_not_eq_zero</a> theorem\n",
    "========"
   ]
  },
  {
   "cell_type": "code",
   "execution_count": 1,
   "metadata": {},
   "outputs": [],
   "source": [
    "import proveit\n",
    "theory = proveit.Theory() # the theorem's theory"
   ]
  },
  {
   "cell_type": "code",
   "execution_count": 2,
   "metadata": {},
   "outputs": [
    {
     "data": {
      "text/html": [
       "With these <a href=\"allowed_presumptions.txt\">allowed</a>/<a href=\"disallowed_presumptions.txt\">disallowed</a> theorem/theory presumptions (e.g., to avoid circular dependencies), we begin our proof of<br><strong id=\"frac_not_eq_zero\">frac_not_eq_zero:</strong> <a class=\"ProveItLink\" href=\"../../../__pv_it/theorems/4c605fda31488c8d297f65d5206c24533ad3b6cf0/expr.ipynb\"><img src=\"data:image/png;base64,iVBORw0KGgoAAAANSUhEUgAAAKAAAAAmCAMAAAB0+GDaAAAASFBMVEX///8AAAAAAAAAAAAAAAAA\n",
       "AAAAAAAAAAAAAAAAAAAAAAAAAAAAAAAAAAAAAAAAAAAAAAAAAAAAAAAAAAAAAAAAAAAAAAAAAACC\n",
       "gUnDAAAAF3RSTlMAq1RmmUTNIjK7EInv3Xah18O15/Xp87zmPDoAAAAJcEhZcwAADsQAAA7EAZUr\n",
       "DhsAAAM4SURBVFjDzVjZtqQgDASC7DL78P9/OgTZ1B5b7sg9w4NH20ZCpVJJIGTu4Oxj84ww5DMG\n",
       "p/lGUuulH5ip1s+wEES+WZwkRIeRNYHOt0+5bJFxgHCuQ7M1m26gsMXTAa+rHaOhm+1kVl3qNC4Y\n",
       "lg8SeNaoiJmA4QFhcL4Mci4DK4AmIJ2oIGxsRW2nGkh1WykiyFZO+KAIuKkGBmh8p94qSb16zTXz\n",
       "Vx9H5BsRGTzs4Zv+VLp/stbzOjGCTngNLfEsJW/HhO5xFREzsxZLeBR6VZORfpiC4iaAvZhA0nJb\n",
       "TPG4yZKV7cPC7W6qmO4dp+lOQFmI6EKmnng6Ru5pxLLbR+AbfVnhMd64FYez84L4Mh32AJpiIJTn\n",
       "lMMTSfXDiU+Ga8rwBMv64ydeaxxssKtQCrN0I2m5jJeV+D3pmZcvVIYNA9gMtDueIHj2RSJX4hzY\n",
       "XnPaKs/kEIyyM4GXrjQIbRz/tc8tZjNoaQim98z/JURo2YjyVOu4oNE07piVHAlLqoqQx+ZjCB61\n",
       "NxtU527P0Tp4WY27LKGc5xtr0v/AEss5//KVR5mXKF2rGjUwcfDX742JlV9abxpveg6iBBYxNBa8\n",
       "lXUN72l84Us8GlCb32RzcEZQnoPkRhSfOqOtPODiIAWyiCommZZDfexbPI9+rdla1nopIvjtO0cE\n",
       "EzvODDHhfYvEztXNiqmueK5JAa2+xEai4g2p7VkqFGCgbdmUr8cohhdp3PFxAPGr1lPVeHKIXRef\n",
       "Pe0pGMtuEDoNRpRa1PsiqazeS4DR7twxsbe5gR36QIPe1WDyr6gJLprVvpODhJgcwZdRsK82Bb8D\n",
       "4GHY464cUnCJfkwKHCkIepdkpE21mr3TgcN+9+eghvfJVdOTbgLzFpCI8XuKe78VYqqljuhvrm5l\n",
       "mZ1Jy7lpv3F0cKUEbJfRkIODTSPR/MpZcf/vK52Lonz599ph1/IIGjV1tOK0FyXgA/1J36ibECPC\n",
       "jPa5bvLhRwfAphfOD833c7vOLpeX5BXsfwVgd/q2nYIsYWhFL8j0IaBXQT50PiidnG9g7XCxO9sO\n",
       "Ce9PnX88iDDkdEbhoIvvVRTIpwyp8uGM5UMrmiJRfwApthra+4yJ6AAAAABJRU5ErkJggg==\n",
       "\" style=\"display:inline;vertical-align:middle;\" /></a><br>(see <a class=\"ProveItLink\" href=\"../../../__pv_it/theorems/3a217ca19efb4b1af6002869e719c26beaa280b80/dependencies.ipynb\">dependencies</a>)<br>"
      ],
      "text/plain": [
       "<IPython.core.display.HTML object>"
      ]
     },
     "metadata": {},
     "output_type": "display_data"
    }
   ],
   "source": [
    "%proving frac_not_eq_zero"
   ]
  },
  {
   "cell_type": "code",
   "execution_count": null,
   "metadata": {},
   "outputs": [],
   "source": []
  }
 ],
 "metadata": {
  "kernelspec": {
   "display_name": "Python 3",
   "language": "python",
   "name": "python3"
  }
 },
 "nbformat": 4,
 "nbformat_minor": 0
}