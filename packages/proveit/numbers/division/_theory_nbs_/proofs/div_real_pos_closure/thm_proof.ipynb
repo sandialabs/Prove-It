{
 "cells": [
  {
   "cell_type": "markdown",
   "metadata": {},
   "source": [
    "Proof of <a class=\"ProveItLink\" href=\"../../../../../_theory_nbs_/theory.ipynb\">proveit</a>.<a class=\"ProveItLink\" href=\"../../../../_theory_nbs_/theory.ipynb\">numbers</a>.<a class=\"ProveItLink\" href=\"../../theory.ipynb\">division</a>.<a class=\"ProveItLink\" href=\"../../theorems.ipynb#div_real_pos_closure\">div_real_pos_closure</a> theorem\n",
    "========"
   ]
  },
  {
   "cell_type": "code",
   "execution_count": 1,
   "metadata": {},
   "outputs": [],
   "source": [
    "import proveit\n",
    "theory = proveit.Theory() # the theorem's theory"
   ]
  },
  {
   "cell_type": "code",
   "execution_count": 2,
   "metadata": {},
   "outputs": [
    {
     "data": {
      "text/html": [
       "With these <a href=\"allowed_presumptions.txt\">allowed</a>/<a href=\"disallowed_presumptions.txt\">disallowed</a> theorem/theory presumptions (e.g., to avoid circular dependencies), we begin our proof of<br><strong id=\"div_real_pos_closure\">div_real_pos_closure:</strong> <a class=\"ProveItLink\" href=\"../../../__pv_it/theorems/f4144635836b33c7ce15fa0e6bee5deb8ffcb5440/expr.ipynb\"><img src=\"data:image/png;base64,iVBORw0KGgoAAAANSUhEUgAAANgAAAAmCAMAAACRZqW2AAAAOVBMVEX///8AAAAAAAAAAAAAAAAA\n",
       "AAAAAAAAAAAAAAAAAAAAAAAAAAAAAAAAAAAAAAAAAAAAAAAAAAAAAAACXHtMAAAAEnRSTlMAq1Rm\n",
       "mUTNIjK7EInv3Xbt5cmRiLwgAAAACXBIWXMAAA7EAAAOxAGVKw4bAAADsElEQVRo3s1Zi7KDKAwF\n",
       "wivhsbv8/8cuiFqsKLfamcqdq30MyCHJyUnK2DOGFN9ZhzSxJw3J691wF028s5INT0IGut6VN4xh\n",
       "urU14M/BZX2FQh6K9cK91VA8Bph2s0Omcg3uZpj5pzijWHzPY9lXUl8K2J+PxUSUCm1AugSmeW2S\n",
       "eUaELQajVKKDayY+3xhu3rhHAOPrpjBbTAS5Of4rwMA/AliCNex5dNbwaAe5wSMmHTzCATBTTP8K\n",
       "NAE/8kTzuXlM3rbigNQFxrLVmVw5SP8m5C6QRQbmppstZpGYhy+X1TIyJ3y7mMzgj0JMXwUmDdN9\n",
       "i8VyWItqdD9K2H6cdSKGPHQHGPaBiZTDFGYD6l9xx4iblY7UtRgn4n1gdkocvhxH8L/i/jTgLLMv\n",
       "RCowi+JFC1tgNC0qJ3bFzwXWV45iouZTIWl6MeZ1SKGx5FvqmzRMoc56uSFjeu/bIzxh+xGwPnkA\n",
       "kB75dzGW6yhPq9+IUgSnJdfxAAgeTq2rOxf3RlYvzZteoy1pwjxw64pIcOzEadqbiAfUwZd92MgR\n",
       "8wZicT9n3BDYaypb3QHyYxR+ajHCA7q38iR8KrCMCrrluJ+1jZTzi5j/GFC+OCllyP/qAJhvZRE3\n",
       "60c7mTF0xXCUx6Q9Tr0pzilsYR5yEJ1Znxkjz1/E1eQTsEhy7Irz1OptrrJEee/FjjwGrBjjAbBs\n",
       "ywjnVGuWJEnBNNotBmJRts5QXNHgstwJsHnqpHbwn0nt1OokvG+F0qh3o0UHWHl2jjFU51TLV58r\n",
       "0brOh6nNoqABJtEhG5PHPLVOgqbs8jsYflSkEEdFO3WPpe2Duu/I9r0K94UgeBsnucwGPZ176ZEU\n",
       "V3RKHOQx3IbYXKEvBq+uuN/Ihj8JfSemlMONpPp7s2F1i3IMQPOnqcaEdayNMaUcDYu9eWpxxX//\n",
       "m4V3nzyY3FaF+kKVuZcO76fjS4gpoEwiJR6IAW5ESaV7kkNgy9SmephYQPFO2bI5p/QNLY7vj1ES\n",
       "RHRQAi2vb2VlJIN2laPaMZJSj4AtUzdSLSdouTc2baCo9I3e2RnTtk8jV7xp2BXrZRUx7lejPHOi\n",
       "K0OdFOXqwsHh35TezhfbINM8J8C73uhOnnql/9EBJv7Q/Gw7pJSyVKC7fUH/5ZrZ3D9gcZDsPhrx\n",
       "Gd23jbCstJTcowx2o1G1mmzqdqt7lB81e8zQ0GYxeYvyjTfPAVbEdwVml1/Jri/1nJ/Hmo4Nh7e8\n",
       "9jk1A3vUMHZW8k7e2hktqeN/0Nkeafd/y30AAAAASUVORK5CYII=\n",
       "\" style=\"display:inline;vertical-align:middle;\" /></a><br>(see <a class=\"ProveItLink\" href=\"../../../__pv_it/theorems/30dc11688f4edf8d2bd2a25edb6f138c8f46fa3f0/dependencies.ipynb\">dependencies</a>)<br>"
      ],
      "text/plain": [
       "<IPython.core.display.HTML object>"
      ]
     },
     "metadata": {},
     "output_type": "display_data"
    },
    {
     "name": "stdout",
     "output_type": "stream",
     "text": [
      "div_real_pos_closure may now be readily provable (assuming required theorems are usable).  Simply execute \"%qed\".\n"
     ]
    }
   ],
   "source": [
    "%proving div_real_pos_closure"
   ]
  },
  {
   "cell_type": "code",
   "execution_count": null,
   "metadata": {},
   "outputs": [],
   "source": []
  }
 ],
 "metadata": {
  "kernelspec": {
   "display_name": "Python 3",
   "language": "python",
   "name": "python3"
  }
 },
 "nbformat": 4,
 "nbformat_minor": 0
}