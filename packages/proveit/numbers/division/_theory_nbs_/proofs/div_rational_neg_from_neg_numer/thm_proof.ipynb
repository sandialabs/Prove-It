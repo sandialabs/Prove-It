{
 "cells": [
  {
   "cell_type": "markdown",
   "metadata": {},
   "source": [
    "Proof of <a class=\"ProveItLink\" href=\"../../../../../_theory_nbs_/theory.ipynb\">proveit</a>.<a class=\"ProveItLink\" href=\"../../../../_theory_nbs_/theory.ipynb\">numbers</a>.<a class=\"ProveItLink\" href=\"../../theory.ipynb\">division</a>.<a class=\"ProveItLink\" href=\"../../theorems.ipynb#div_rational_neg_from_neg_numer\">div_rational_neg_from_neg_numer</a> theorem\n",
    "========"
   ]
  },
  {
   "cell_type": "code",
   "execution_count": 1,
   "metadata": {},
   "outputs": [],
   "source": [
    "import proveit\n",
    "theory = proveit.Theory() # the theorem's theory"
   ]
  },
  {
   "cell_type": "code",
   "execution_count": 2,
   "metadata": {},
   "outputs": [
    {
     "data": {
      "text/html": [
       "With these <a href=\"allowed_presumptions.txt\">allowed</a>/<a href=\"disallowed_presumptions.txt\">disallowed</a> theorem/theory presumptions (e.g., to avoid circular dependencies), we begin our proof of<br><strong id=\"div_rational_neg_from_neg_numer\">div_rational_neg_from_neg_numer:</strong> <a class=\"ProveItLink\" href=\"../../../__pv_it/theorems/563f529c171d3d39ccb30a141b7e4319b79743a50/expr.ipynb\"><img src=\"data:image/png;base64,iVBORw0KGgoAAAANSUhEUgAAAM4AAAAmBAMAAAB+JrkYAAAAMFBMVEX///8AAAAAAAAAAAAAAAAA\n",
       "AAAAAAAAAAAAAAAAAAAAAAAAAAAAAAAAAAAAAAAAAAAv3aB7AAAAD3RSTlMAq1RmmUTNIjK7EInv\n",
       "3XZ/CtNrAAAACXBIWXMAAA7EAAAOxAGVKw4bAAADeUlEQVRIx6VXTWgTQRR+TTa7ySZd6y+UQlns\n",
       "wZuGCkWr1IipeKqBgAgKjSKK1UMq4klpRASltQ22gqkI22NJJVGLrXgperAgFQ+FghLYXPw7lVix\n",
       "VKjOTPZndrPJtpmBvGzevt1v5r3vfTMBYBmcvIEgsQ9Yx1H0EVq+qbWjHiiMMN4EMmeTgTWXsCZG\n",
       "nCE0UfEdcJ9c4h4y4lzBJVqGxrxL3BRb4jw4X6E05GJudGFLHFlHToUjboHCHyacEZyOnAy7PEmX\n",
       "yCdMOM3YBFTPIucWeZgJ5xfpwtbZ/u8Vrfk6M0avcUAGUqK2emD81bNenIdbLXQlI9CNvy/V1aXL\n",
       "1e4ED4XB152G+xk08Lq4BNzGfEjXg9OQqHZnkEcm3WU6pGXgEWmCcj04oYqu+FEoEOzxCWRmearT\n",
       "VsEbBuDrosEWuwyc+qmxID2M7G4uZZayBLBQKHyoDyds60Zd//35OLJxr5klEVHzBFrnxl+et5DV\n",
       "MnidyT61HdlhDzWPdYB+EDYhPxFKDuw4xsLyuE/iEiV7f1FDK0GLDmbHtpot5r9sc1M4veSxf3gQ\n",
       "hg8V0CDM1epDqfQK4oJqTMRfzMSENxBsNwNabO4a65k0rsb7bXzDOJAwiB5FDAleA3F/8no0GiXT\n",
       "nbe4p6OL0Vg1nEbj6gzpH2q2uD7wAvMk2zUDEi7cvT0AqrHh+9eLisVNrWfAxjfJeIrDerAzbZPC\n",
       "m4gG4hJSK7LwzjCNI32WIhY3hZOzHz/OG1fPkb7toClfwvqB0sJF/HOAWU9ephrsDYS9CYubwglF\n",
       "bDgTj/TKCycvrqRoyf2tPxOTmqADqZ582pK3UIprsrip/uHLiZlcMOvytKBpXkOqq2KHJzlIBjqV\n",
       "QaK1pOBGz0NIdnCXqzBX/r7g1Get0ra7lIDrJ6JQciSuBBRCYgjq21EWGpWDUOHW9wVtkiXHM0rz\n",
       "1VHzV0BXAt+xvS9BeExevnhOT+2Q7O9RK926aJUBfGublsJsJoO6Y+aO4ZCd3doYs+akxuh1Oqhw\n",
       "bT1aL/oUR7f1dMG3Fl23r1eO3uEDegWc3UYDEdxcn+h6PHvLdN4JEhLvU+CjS6A0x3a+xuIHx4nq\n",
       "197hZTacDmy+gK/kEveV8f8CHybtw7kwW3jPiCMuIbMKU+HaYc8Y0wZwAxF/u9ZH1cco8/9TAUnE\n",
       "xLTLckRM//8gAPNknpnP0gAAAABJRU5ErkJggg==\n",
       "\" style=\"display:inline;vertical-align:middle;\" /></a><br>(see <a class=\"ProveItLink\" href=\"../../../__pv_it/theorems/11d9c93815deafff9e07036bb7f6cca96bb028380/dependencies.ipynb\">dependencies</a>)<br>"
      ],
      "text/plain": [
       "<IPython.core.display.HTML object>"
      ]
     },
     "metadata": {},
     "output_type": "display_data"
    },
    {
     "name": "stdout",
     "output_type": "stream",
     "text": [
      "div_rational_neg_from_neg_numer may now be readily provable (assuming required theorems are usable).  Simply execute \"%qed\".\n"
     ]
    }
   ],
   "source": [
    "%proving div_rational_neg_from_neg_numer"
   ]
  },
  {
   "cell_type": "code",
   "execution_count": null,
   "metadata": {},
   "outputs": [],
   "source": []
  }
 ],
 "metadata": {
  "kernelspec": {
   "display_name": "Python 3",
   "language": "python",
   "name": "python3"
  }
 },
 "nbformat": 4,
 "nbformat_minor": 0
}