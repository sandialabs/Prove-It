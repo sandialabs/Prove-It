{
 "cells": [
  {
   "cell_type": "markdown",
   "metadata": {},
   "source": [
    "Proof of <a class=\"ProveItLink\" href=\"../../../../../_theory_nbs_/theory.ipynb\">proveit</a>.<a class=\"ProveItLink\" href=\"../../../../_theory_nbs_/theory.ipynb\">numbers</a>.<a class=\"ProveItLink\" href=\"../../theory.ipynb\">division</a>.<a class=\"ProveItLink\" href=\"../../theorems.ipynb#div_eq\">div_eq</a> theorem\n",
    "========"
   ]
  },
  {
   "cell_type": "code",
   "execution_count": 1,
   "metadata": {},
   "outputs": [],
   "source": [
    "import proveit\n",
    "theory = proveit.Theory() # the theorem's theory"
   ]
  },
  {
   "cell_type": "code",
   "execution_count": 2,
   "metadata": {},
   "outputs": [
    {
     "data": {
      "text/html": [
       "With these <a href=\"allowed_presumptions.txt\">allowed</a>/<a href=\"disallowed_presumptions.txt\">disallowed</a> theorem/theory presumptions (e.g., to avoid circular dependencies), we begin our proof of<br><strong id=\"div_eq\">div_eq:</strong> <a class=\"ProveItLink\" href=\"../../../__pv_it/theorems/3d0e88255297a773ecf8078c74187558784987640/expr.ipynb\"><img src=\"data:image/png;base64,iVBORw0KGgoAAAANSUhEUgAAAPgAAAAmCAMAAADeO6ZmAAAAOVBMVEX///8AAAAAAAAAAAAAAAAA\n",
       "AAAAAAAAAAAAAAAAAAAAAAAAAAAAAAAAAAAAAAAAAAAAAAAAAAAAAAACXHtMAAAAEnRSTlMAq1Rm\n",
       "mUTNIjK7EInv3Xbt5cmRiLwgAAAACXBIWXMAAA7EAAAOxAGVKw4bAAAD2UlEQVRo3tVZiZLbIAzl\n",
       "NKfV1v//sUUYzBHXJht3JjC72WEWCR6SniRCyGRDsI/E7WLJlEPQBACAWu3cyDVYEBz/RFG9Tomc\n",
       "L/kCCAEKRKwDQo4wj7LbroJOiFv7ZC6uEIgllA8Isf1+qNnnhs0HfHEZDBp9GQxrQjyQ9IFzP52z\n",
       "s60+cgZyPyTK6U13PDHPWF2DJri7HTJe9A3weapQcqoIPwxujSTUR94aGYbmjzR3cwHP7IQ+r60I\n",
       "wOUYT6Fvy63wIPdzAS9HtwKAMMEH+dlSB6Lyb7UFweIAjH+7p38Smq7OAWsoA4Q8csWXh3wqQH6G\n",
       "2XrWsZ3OJlfm20N8+aHgGvIebfgM8A5z1e6+vaDxP02/jEPx60yOwYNSaC9fjpts7kG6QCv7FYf/\n",
       "+ty2PUe+NuoSsZQzzxSw4uMz/esfMQddbr1W4yYsNix3Fc0f7w8wgoKqiuZPGdLFYHQO3Ll7Pho2\n",
       "aGwn3wkRoCYUjaFypCEFsroC/BD4fv883KQ0L51GOeJWjXuQJ2u36JkM3qM2IVKf42y0NX8OOI21\n",
       "hEf9fbnyrMVFInSee1XHwR07AggVftKNA1oj/EImGcv1bgR1DrwRPwyX1ZxtKN0ezRjonr0J/O0Y\n",
       "xxSekrldVVUZgsK+YGHp4YqE82gf/PvIhoq9FHsV8ENcmDx4UUPaDfc1v+KavQtbeU9uD5bUSZfK\n",
       "tYEQpByKhH8aIMmtlWUrkhmRx/7ccnsBvBE/jp/VnG2YfGkH3r8z2A0ew31kCJqO5yW+4dU3U5kU\n",
       "qz4KhC+79RjRWuoL4CdxWqk52TD70u7qL57txWPA9Sa7Sw0HNbw8a6AxjrOvMtKOLlSWyK3OvQ3w\n",
       "JF67+qGm2xDX/P6T1pySG1meaybaNyy8VIw4GRzYOgyA2NcIEmfhxDqklKbUUS5SlzvN40W8axmS\n",
       "mqj02JBU7VJgxcBzL/Qknns+cP2rtAy9PTiOtgqOJkA6AJtm2PibJbZxunBy8Huhz139EO9uO6mJ\n",
       "So8N29oxFDDCvralj72OmgvSZ/3MRq/c4aJLnlc8t+5Y1PRb3HGXfS6RXyQIaftZICR5X+bcAi9q\n",
       "2i0GSijzFLvJi7cc/jKTHAYauFvgRU27Bbuvmds3QkVd0yVcV8LNWvcfWvD/+Xxl6yQkPcbMWNj3\n",
       "a/1sXyJVlrI+dtTr0IV1a2Gy12VS8n+AETutdej1pF/r5/vW8PiWmHjT+/7FdbVrYSHzjYXXhfvY\n",
       "g3O3Vnk1IXDs5kpOpwthagB4vdauE349jvZKDXTo+whbxdAbX7PWcDLnUDu/WQpOKwp6xE2qtTZH\n",
       "+l9PrCJQiU60bAAAAABJRU5ErkJggg==\n",
       "\" style=\"display:inline;vertical-align:middle;\" /></a><br>(see <a class=\"ProveItLink\" href=\"../../../__pv_it/theorems/f35b14d6d2722cb2f5f5c81f4b8350d2febd573f0/dependencies.ipynb\">dependencies</a>)<br>"
      ],
      "text/plain": [
       "<IPython.core.display.HTML object>"
      ]
     },
     "metadata": {},
     "output_type": "display_data"
    }
   ],
   "source": [
    "%proving div_eq"
   ]
  },
  {
   "cell_type": "code",
   "execution_count": null,
   "metadata": {},
   "outputs": [],
   "source": []
  }
 ],
 "metadata": {
  "kernelspec": {
   "display_name": "Python 3",
   "language": "python",
   "name": "python3"
  }
 },
 "nbformat": 4,
 "nbformat_minor": 0
}