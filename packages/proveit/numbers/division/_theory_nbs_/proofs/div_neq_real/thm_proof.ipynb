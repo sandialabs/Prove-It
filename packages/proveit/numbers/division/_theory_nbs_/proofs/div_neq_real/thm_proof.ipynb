{
 "cells": [
  {
   "cell_type": "markdown",
   "metadata": {},
   "source": [
    "Proof of <a class=\"ProveItLink\" href=\"../../../../../_theory_nbs_/theory.ipynb\">proveit</a>.<a class=\"ProveItLink\" href=\"../../../../_theory_nbs_/theory.ipynb\">numbers</a>.<a class=\"ProveItLink\" href=\"../../theory.ipynb\">division</a>.<a class=\"ProveItLink\" href=\"../../theorems.ipynb#div_neq_real\">div_neq_real</a> theorem\n",
    "========"
   ]
  },
  {
   "cell_type": "code",
   "execution_count": 1,
   "metadata": {},
   "outputs": [],
   "source": [
    "import proveit\n",
    "theory = proveit.Theory() # the theorem's theory"
   ]
  },
  {
   "cell_type": "code",
   "execution_count": 2,
   "metadata": {},
   "outputs": [
    {
     "data": {
      "text/html": [
       "With these <a href=\"allowed_presumptions.txt\">allowed</a>/<a href=\"disallowed_presumptions.txt\">disallowed</a> theorem/theory presumptions (e.g., to avoid circular dependencies), we begin our proof of<br><strong id=\"div_neq_real\">div_neq_real:</strong> <a class=\"ProveItLink\" href=\"../../../__pv_it/theorems/0fed3ce84a40178bc5dd9042cb46ab7424df86900/expr.ipynb\"><img src=\"data:image/png;base64,iVBORw0KGgoAAAANSUhEUgAAAPgAAAAmCAMAAADeO6ZmAAAARVBMVEX///8AAAAAAAAAAAAAAAAA\n",
       "AAAAAAAAAAAAAAAAAAAAAAAAAAAAAAAAAAAAAAAAAAAAAAAAAAAAAAAAAAAAAAAAAAAAAAAeYafp\n",
       "AAAAFnRSTlMAq1RmmUTNIjK7EInv3Xbt5cnn9enzas/lfgAAAAlwSFlzAAAOxAAADsQBlSsOGwAA\n",
       "BB5JREFUaN7VWYmS3CgMFZcxh5Vkd+P//9QgDOZod7emdlLVJjM9RUUCHnq6aICbDS3/l7pfPNxy\n",
       "aFEAIAq/hsC5Bo9a0Z+sum63RK6WegEAKBD0xlAKICPp7scS4oa411jMpSwB8SAUQ0ke9yPcMXfy\n",
       "fsCXUMGQ0RemWwNEhPJB83g7ssu9P3IF8n4Y0lv3dYoT9xlbGNAkunuW8TI3MNapJc1befhpcO8M\n",
       "iJjjFmc4UT/KPNwLeI1OxPnV6wTc8OIUcdvsLQ6qeC/g7eheI4LU6hluPXqAFwF1x2+7J8VGAKk+\n",
       "nelc11zdRTLvc8CWygBtzlzx4S5fChCOT68PmH2UU7Rbq8mt+3QXX7gGn9LVlvKeGOIZ0h3Wqj18\n",
       "ekETuenXTdSVChuva3BMDCquvXw4btiZScgIRrggK8eNRvz43LYzgy8jVvm8ls6hwH1PAavfVM2c\n",
       "yvp65Bz0cutswO2ff+nzjdV3KnetqB9fLZ23sGixDCXzqwgZDKOFzDIhYLim57cYvLoNGZtzqHYG\n",
       "FC4VjYBUMgYbeMA5d3vIqHSXxj10Gu2IezdmsQfOXcnuWUri10Kb1iVPYvoHyiMPuGCY4pCJtP5c\n",
       "rjAtzqtGDuAJtaq9alAYTlVEbdNPuUoka6RfPINMBo5ePwE+qIMJ4zJXGx4yNjcjUX4RePbx/34f\n",
       "ns7xcUrhJZn7zXaVIVrqCxZZHq4gnWeNqTNqyBLVrUN1DfxU147Gj/Sr2jIwbtjLHF3Ypubgxonq\n",
       "zLfEspattYHW0A4F6T8dQqG19XJLYBwY1QHXLozk7maDeuXJuczVhkXmAD6/M/id8fAgNQv3mSFE\n",
       "OV6kiNWzpHc0qvoEglqycejliqgextZwvIam3nhSlrnYsMocVH9gdtTfZvB1N9OlpoM61Z41yBjn\n",
       "2TeTw84aoPdxY4J/BryoE41//nKZxucy04aDzGVwg+V9MyGZVdj4hkWXSh5nlE8xhxwg9zUa8iyd\n",
       "eE0pZSh1jnT2JLg19bFvqMvkRc8NBxnEq8JTx+8yOITtIQkqiUGRrRLRNJqA6MuMGn+35Dau2Mss\n",
       "uATwun/u7Kxyqo91YV0mL3puOMqkAkb7x7b0HSzFLbvdi6Av55nPrDxSEFHyuuK5pqNscaktM2/x\n",
       "Lnb5t4mc/SXJiwRh/DxLAcm8L3OugXd6bZlxC0YJ5d5Ft5WJ27x4y1EPM6OQwaRL4LJjR1tGPZV5\n",
       "dqY4VrcBLfNpfZINf6EF/5vPV75PQiaSz+wscs+y8W5fInWW8jF31BvrwiZZvNnrMrT8n2DkTmtj\n",
       "hfFZNt7vW8PzW2KIbub+i+saZXGB+41F9YU778F5krXR3hA4dXMtp4sFJOeBrZf12w2/Hid7lao0\n",
       "9X0gNw2cbmyQdQruOewR37zAsFqBnJqll/XV0/8ANjAmAk+4nzsAAAAASUVORK5CYII=\n",
       "\" style=\"display:inline;vertical-align:middle;\" /></a><br>(see <a class=\"ProveItLink\" href=\"../../../__pv_it/theorems/451047e181e0dbc81a30f24ec72e0e751d3bde350/dependencies.ipynb\">dependencies</a>)<br>"
      ],
      "text/plain": [
       "<IPython.core.display.HTML object>"
      ]
     },
     "metadata": {},
     "output_type": "display_data"
    }
   ],
   "source": [
    "%proving div_neq_real"
   ]
  },
  {
   "cell_type": "code",
   "execution_count": null,
   "metadata": {},
   "outputs": [],
   "source": []
  }
 ],
 "metadata": {
  "kernelspec": {
   "display_name": "Python 3",
   "language": "python",
   "name": "python3"
  }
 },
 "nbformat": 4,
 "nbformat_minor": 0
}