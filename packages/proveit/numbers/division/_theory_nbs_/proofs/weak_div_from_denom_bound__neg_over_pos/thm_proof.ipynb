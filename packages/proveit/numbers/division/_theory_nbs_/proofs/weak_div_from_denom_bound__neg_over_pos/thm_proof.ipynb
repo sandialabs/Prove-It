{
 "cells": [
  {
   "cell_type": "markdown",
   "metadata": {},
   "source": [
    "Proof of <a class=\"ProveItLink\" href=\"../../../../../_theory_nbs_/theory.ipynb\">proveit</a>.<a class=\"ProveItLink\" href=\"../../../../_theory_nbs_/theory.ipynb\">numbers</a>.<a class=\"ProveItLink\" href=\"../../theory.ipynb\">division</a>.<a class=\"ProveItLink\" href=\"../../theorems.ipynb#weak_div_from_denom_bound__neg_over_pos\">weak_div_from_denom_bound__neg_over_pos</a> theorem\n",
    "========"
   ]
  },
  {
   "cell_type": "code",
   "execution_count": 1,
   "metadata": {},
   "outputs": [],
   "source": [
    "import proveit\n",
    "theory = proveit.Theory() # the theorem's theory"
   ]
  },
  {
   "cell_type": "code",
   "execution_count": 2,
   "metadata": {},
   "outputs": [
    {
     "data": {
      "text/html": [
       "With these <a href=\"allowed_presumptions.txt\">allowed</a>/<a href=\"disallowed_presumptions.txt\">disallowed</a> theorem/theory presumptions (e.g., to avoid circular dependencies), we begin our proof of<br><strong id=\"weak_div_from_denom_bound__neg_over_pos\">weak_div_from_denom_bound__neg_over_pos:</strong> <a class=\"ProveItLink\" href=\"../../../__pv_it/theorems/4bd5f15461460bf9443c70b6bedf79e8c9fa754d0/expr.ipynb\"><img src=\"data:image/png;base64,iVBORw0KGgoAAAANSUhEUgAAATcAAAAzBAMAAAAA6lKjAAAAMFBMVEX///8AAAAAAAAAAAAAAAAA\n",
       "AAAAAAAAAAAAAAAAAAAAAAAAAAAAAAAAAAAAAAAAAAAv3aB7AAAAD3RSTlMAq1RmmUTNIjK7EInv\n",
       "3XZ/CtNrAAAACXBIWXMAAA7EAAAOxAGVKw4bAAAE/UlEQVRYw8WZX2gcRRjAv9u7vf1zd5uDothW\n",
       "40H74kPbw4eKRZKUXhofbHsYKEjFHEFQ8iAb6JOUmPrgSyM5Fa1XMWwkIF6wFyskkof2VLClxXLQ\n",
       "igGNbiBarRBjjaSekHN29t/t7tzeqDEzD5vNN9+3+7tv5/vmmxkAulYul2FLm1wua7S63zfWNumt\n",
       "0mg41DlLrdEo0j7yq01zybY2/a/aDotuPVxkpo0CV2MHt7+txkfM4ITLbVVSWVZwKb2tCneVFdxj\n",
       "FDrPsoK7Zn7cnbcIHrSlAyobOKWO/zytSvVgpy2Np9nApfB75c8hVgumX1vK1dnAjePpIbYKqWC6\n",
       "c6TyBhu4+/E1WYRKPtDnSt9lA/cpvlZ06A72udJulQWc+LuJkYF7OTUA50grWRZwyrpZcejczViw\n",
       "XHGkyTQLOKlqxmXnJ8M/BaPVkUo1Cw5D7qKBo9QMa0k6ZyRWLbhe4+9zNHCUmmGt0kOcTP0Pjf5h\n",
       "wZ025o0iDRylZmiaI0370Zv+elzcsODiqCeRoYGj1Axr+wjmyjeBtYK8ZsFFUdjGqQKCUjOsdQfX\n",
       "D9PfEfR+s6P1y8XFa3TRSqcZ1n4NJLepGyS9P224xwHOEZdBAbhWmvTtkv8LTg4S9b6w4YZBSJOG\n",
       "6X0wslf1wLXQtMLfnr7D4I754SJkuEUbTtISzZPwntmDLxhDAblpCAoeOJ+m18CGkrxZ4qzn3wfx\n",
       "taNhNJzL4KT7WZuk39pwnO6McnGplFcSMDcDJ+fQd63CVQ9ck2bAgAzHTQABrn1AOHBQ6LJlORRM\n",
       "igIHdMFgEWqw4J2+XE2/ARku+ka7z0pOJe5nhQtDxg/omgPFKAbQu273QPQe7LnLXjisudK3jIYi\n",
       "vwSRJoNE7kiutwlOWR7pA+V14/aZNDgj9ZJKlYTdgIBTyFb+WlyHD/BjE8IEeie3DTnKN+awpqJu\n",
       "j6NUer5DG/MYeD13K1IcFD/DQa/XxaqTSoj7JNzzxLIPw0WQRawHPaEfvyv2Dp6ixF4Y2eWNVqwZ\n",
       "hQkR3b64B372GHjhspI+Cg/NG4PjvZpSDEnCxLbmKZmSeSUN+0ulUkZREk+Gl0xmTbYTOj0GvjHX\n",
       "Yfyup+bx5kjEmVH35em2v/7ywFVU6YB2BjtC4U9oQi5nDaEgnFgVTMEVcA3cPGfBjYFBd7oPLbjy\n",
       "Scdf41m6gnnD6zl1vF+TNDyEYL4nxHOnEoUYTAMs8KtAMsBwQnUWsGx4B6RGB5zODv+TP1w02oJ/\n",
       "EN7xwPGH9n4Mwtvo7viPM1OHQ+BiP1y8DWMZ2P1ogWhgeu7oiRUzBFXgDr3lLlsL/6Ca95Xp06VS\n",
       "nq5Mz8iqlCUaSH7L98HNdpEq3R7e6n9ZQ/BaRD/eYpngF3Tyrrui5lpeXtlx5kIwDJazMNlUzf9b\n",
       "uCjwXTPt4EQUy6Wz0P9L00i/YxUHS/qRYOnAVa2F60v6/7T6EigW1Y9AtxbcGn45VoPtDBfV8AS+\n",
       "jgIh5EBL6nAd3z3AZjtiwIqf68ROTbyLbxht5KTMRMevA+HM5TAo1aaw2XI4/F75TZRSCPH0Gkhp\n",
       "dxOP0bYrd3eqyhMWiQdhIMty2xWFKfLcUX33w4S+yYvHVNODjODioQc4s3hA1lnBia0PSRIFGZen\n",
       "qQwrOFSitoxk3TwXY3e8FHIwx3XhEtKZiunhbmzaYfBgm/5XzFpLLp+nhtu6w+AhS63RKP4NdtyX\n",
       "MlNfW/IAAAAASUVORK5CYII=\n",
       "\" style=\"display:inline;vertical-align:middle;\" /></a><br>(see <a class=\"ProveItLink\" href=\"../../../__pv_it/theorems/a454b4b4e9a290cfd11eb6c2f23a805f4a315bed0/dependencies.ipynb\">dependencies</a>)<br>"
      ],
      "text/plain": [
       "<IPython.core.display.HTML object>"
      ]
     },
     "metadata": {},
     "output_type": "display_data"
    }
   ],
   "source": [
    "%proving weak_div_from_denom_bound__neg_over_pos"
   ]
  },
  {
   "cell_type": "code",
   "execution_count": null,
   "metadata": {},
   "outputs": [],
   "source": []
  }
 ],
 "metadata": {
  "kernelspec": {
   "display_name": "Python 3",
   "language": "python",
   "name": "python3"
  }
 },
 "nbformat": 4,
 "nbformat_minor": 0
}