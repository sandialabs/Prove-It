{
 "cells": [
  {
   "cell_type": "markdown",
   "metadata": {},
   "source": [
    "Proof of <a class=\"ProveItLink\" href=\"../../../../../_theory_nbs_/theory.ipynb\">proveit</a>.<a class=\"ProveItLink\" href=\"../../../../_theory_nbs_/theory.ipynb\">numbers</a>.<a class=\"ProveItLink\" href=\"../../theory.ipynb\">division</a>.<a class=\"ProveItLink\" href=\"../../theorems.ipynb#div_neq\">div_neq</a> theorem\n",
    "========"
   ]
  },
  {
   "cell_type": "code",
   "execution_count": 1,
   "metadata": {},
   "outputs": [],
   "source": [
    "import proveit\n",
    "theory = proveit.Theory() # the theorem's theory"
   ]
  },
  {
   "cell_type": "code",
   "execution_count": 2,
   "metadata": {},
   "outputs": [
    {
     "data": {
      "text/html": [
       "With these <a href=\"allowed_presumptions.txt\">allowed</a>/<a href=\"disallowed_presumptions.txt\">disallowed</a> theorem/theory presumptions (e.g., to avoid circular dependencies), we begin our proof of<br><strong id=\"div_neq\">div_neq:</strong> <a class=\"ProveItLink\" href=\"../../../__pv_it/theorems/dfc2f4e11222882824f4c0843f88968dfe5ad4290/expr.ipynb\"><img src=\"data:image/png;base64,iVBORw0KGgoAAAANSUhEUgAAAPgAAAAmCAMAAADeO6ZmAAAARVBMVEX///8AAAAAAAAAAAAAAAAA\n",
       "AAAAAAAAAAAAAAAAAAAAAAAAAAAAAAAAAAAAAAAAAAAAAAAAAAAAAAAAAAAAAAAAAAAAAAAeYafp\n",
       "AAAAFnRSTlMAq1RmmUTNIjK7EInv3Xbt5cnn9enzas/lfgAAAAlwSFlzAAAOxAAADsQBlSsOGwAA\n",
       "BBZJREFUaN7VWQlu5SAMZQ1rPHvuf9TBBMLy08TVdKQf1KaKagMPP2+EsYcNJf5J3S+ePXIoXgAA\n",
       "cG9DoByDByXxT1a16yORy6UeAGPAgamVoBSYiKi77VPwB+K2sZhLGgTiGZcEJbGfD3f7uxPPA76E\n",
       "CgaNvhDdmrEIrDzwPT6O7GLrt1yB3A+NenazU5x4zljDgCbR3ZOMl7kBsb4a1HyUhx8G904zHnPc\n",
       "ogzH66O8h2cBr9EJOW+9SsA1LU4ht/XW4qCMzwLetu4VABNKfoRbjR7geQDV8dtsSbERQMh3ZzrV\n",
       "Na07SeZ9DlhTGaD0kSve3OVLAULxafuC2UcxRTtbTW7cu7v4QjX4lK7WlPf4EM8Az7BW7eHdC5pI\n",
       "Tb9uoq6Q0Hhdg2NiUHHt5c1xs42YhDQnhAu0clxxxLfPbRsx+BJilc9zqRwK3NcUsOqmaqZU1ucj\n",
       "56DLpbMB15+/8Hlj9Q3LXcPr4/MDnOJguqL5KkIGTWghs0wIEM7p+SUGr26DxqZsqu0BuEtFY6oc\n",
       "eVpF9BXgBXDK2e4yMp2kdi+dRtvi1o1Z7IVzZ7JblhLwudCmVMmTwWdbSxpwTjDFLhNx/rlcIVqc\n",
       "Vo3swBNqWXvVICEcqgDKpJ9ylIDWSL9Qg4yXdjeCOQc+qDMdxmnOFtxlTG5Govgk8Ozjv//snk7x\n",
       "cUzhJZn71XSVIRjsCxZRLq5Y2o+Nid9HNjTi5Xg74Ie6cji+pV/ZpmHjgr3M3oWtcg5ulKhOvEss\n",
       "c5laGyjF2qZY+qcDVmhtvFgxmDF9rC+99BfAB/XKk2OaswWLzA58vmfwG+HiQSgS7iND8LK9qPEO\n",
       "rz+ZzqRY9XFgcsnGcYJZq+0F8EG98aRMc7Jgldmp/sLsqL7M4HbT06GmjTrZrjXQGMfeV53Djm2h\n",
       "rAS3PvcOwIs60vj7D5dpfEwzLTjInAY3ttw3E4JYhY13WHio6HE6EdgHdIDc1yiW39KObUopQ6lj\n",
       "Qg5d4TSPN/Wxb6jT5EmPBQcZgLPCU8WvMjgL60sSlAKCRFsloinQAcCXN2z83ZLbONticuK9sudU\n",
       "P9THurBOkyc9FhxlUgGj/GtbegdLUstudxH0xfzmMyt3uEjJ84rnnI6icaJNMy9xF7v8bSInfyS5\n",
       "SBDaz28pIOn7MucceKfXphmXIJRQ7i66WSJufXGXI1/etAQCk06Bi44dbRr5ocxHe4pjdRuGLuG6\n",
       "Eh5kw39owf/n9ZXvk5CO6DMbidyzbHzaR6TOUj7mjnolHdgkCw+7XWYt/ycYudNaSWF8lo3P+2p4\n",
       "fCVm0c3cvziuURYW9ryxyL5wp104T7ImmgcCx26u5XS+MEG5YOtl/frAz+Nor1KVpr6PiVUxSjc2\n",
       "yDrJnjnMHt88h2ANB0rN0sv66ul/AaN9JYV2jxoFAAAAAElFTkSuQmCC\n",
       "\" style=\"display:inline;vertical-align:middle;\" /></a><br>(see <a class=\"ProveItLink\" href=\"../../../__pv_it/theorems/bb5614c4c1e47a2cd8296be70655428f33186c240/dependencies.ipynb\">dependencies</a>)<br>"
      ],
      "text/plain": [
       "<IPython.core.display.HTML object>"
      ]
     },
     "metadata": {},
     "output_type": "display_data"
    }
   ],
   "source": [
    "%proving div_neq"
   ]
  },
  {
   "cell_type": "code",
   "execution_count": null,
   "metadata": {},
   "outputs": [],
   "source": []
  }
 ],
 "metadata": {
  "kernelspec": {
   "display_name": "Python 3",
   "language": "python",
   "name": "python3"
  }
 },
 "nbformat": 4,
 "nbformat_minor": 0
}