{
 "cells": [
  {
   "cell_type": "markdown",
   "metadata": {},
   "source": [
    "Proof of <a class=\"ProveItLink\" href=\"../../../../../_theory_nbs_/theory.ipynb\">proveit</a>.<a class=\"ProveItLink\" href=\"../../../../_theory_nbs_/theory.ipynb\">numbers</a>.<a class=\"ProveItLink\" href=\"../../theory.ipynb\">division</a>.<a class=\"ProveItLink\" href=\"../../theorems.ipynb#cancel_negations\">cancel_negations</a> theorem\n",
    "========"
   ]
  },
  {
   "cell_type": "code",
   "execution_count": 1,
   "metadata": {},
   "outputs": [],
   "source": [
    "import proveit\n",
    "theory = proveit.Theory() # the theorem's theory"
   ]
  },
  {
   "cell_type": "code",
   "execution_count": 2,
   "metadata": {},
   "outputs": [
    {
     "data": {
      "text/html": [
       "With these <a href=\"allowed_presumptions.txt\">allowed</a>/<a href=\"disallowed_presumptions.txt\">disallowed</a> theorem/theory presumptions (e.g., to avoid circular dependencies), we begin our proof of<br><strong id=\"cancel_negations\">cancel_negations:</strong> <a class=\"ProveItLink\" href=\"../../../__pv_it/theorems/992abd66b6b0677a679c7302ef338fc2de5bb18d0/expr.ipynb\"><img src=\"data:image/png;base64,iVBORw0KGgoAAAANSUhEUgAAAN0AAAAyCAMAAADvCC5/AAAAOVBMVEX///8AAAAAAAAAAAAAAAAA\n",
       "AAAAAAAAAAAAAAAAAAAAAAAAAAAAAAAAAAAAAAAAAAAAAAAAAAAAAAACXHtMAAAAEnRSTlMAq1Rm\n",
       "mUTNIjK7EInv3Xbt5cmRiLwgAAAACXBIWXMAAA7EAAAOxAGVKw4bAAADw0lEQVRo3s1aCZLjIAzk\n",
       "NLd2l/8/dgFfJNiYmTLG1CRVmQhCg9RqZBAa3pS8dzytNHpNw/TuEaV7DTxs7h+TuJeAo1OPUQ1+\n",
       "BThhRZdxHX0DOgd9xiX2BaFHba+RJzYena1QigbAWhpDWpJAYcu9GA0OfMV/wuIDBsRa+O/AdhpO\n",
       "LK4yAxrWngb0LenwyJb4wZEnfaZS9OT2Fv4fv2KN6eLIVnsYiw5fcYr9wQQLWzU4pduL0EjMoNsc\n",
       "rLSlY3lFelqTwnze2wahdmyr/dCMDrXFJV5qFmbMGxLCia0dypqqFnaaASDCaFO2O7aNgbcDJA/v\n",
       "pFV9xzc+MCnf8t+zUah9Z7FEPUdy3TyhniYVeOAHpoVGmwTdnTLekwecgy7hNj1MKtTLzr/go1va\n",
       "JH6seRgddM+2PsYaS2v4eCHJ/FzmskyKuutsZqM7Cry+/a5Vqe8cAesu4p1bt83wZo9SDIPI+K7G\n",
       "tfOwxkDp99h/eFGtXXngialLcoHANadIwCrIuaDpcAgXokwTutkjaBifqzq6LntnF7qkF7mHsYXg\n",
       "jE6WtA0dTsRhY9+CQ1j3uJs9M6S6NekBMBH+llMFxBHiC1aRpqmcXVgcott7zB/TGogEw5KCVXpz\n",
       "pp0dUqxyGgTCCk1kKcWgMC9poztuKViQYk4qK96sPZiK7U940aAZIrqiwgjd892KCi8/FGagAC0f\n",
       "hI4VawiT59vMqKb6HN3eY54/XRSRPjo7P5DNSzbP/SXW+DHEcnjaCkWQlFyeo9t7zIfKBXNCV+gu\n",
       "4nlfcNoXRB3dasPn+EwJcjdbWCXPYzm6tUf0zL//VPLME1aRvc/O3zJdWGSmlJ51wuMk4v5TyAiT\n",
       "OMec5LutB9oPH4GqgnPjFsfpK9MZcAOg4xbGb8J5V03z6WjzR22CmzJ54plbjw9pF7I5K+nfddbt\n",
       "NSEb0OnwraILpuhlx4GSoct6kMvTG7Z90VXkAteJHnjD+mbosh7XHWk1nWtgcZl0k/49NK5UNqIx\n",
       "p9ByLMqz+daD8Iaorx1fDSI2LUHTeePAWNxz9v+15KiV5CSZn3nglnrIofHgai1ieeB9PUfQS/5v\n",
       "KrYfGuPBlXZezec8hqVsFDQHxqOfkiBXy3jpoQ408mppTEc/4arPQOH1rYXZCmM3/tpDrVTFcHS4\n",
       "RrVWGL/gyXJ18zQOCqd1joWxesONlameUM1PxFpuzP0bLlPJ09s4ca7aknZgH8aOoDc0OMvW8Z5O\n",
       "8x2yb+OX3KQ6R0AosObj7Zcxn9Bb2nS7E8npRRc0b799uoP7D3zkIqZoxaH8AAAAAElFTkSuQmCC\n",
       "\" style=\"display:inline;vertical-align:middle;\" /></a><br>(see <a class=\"ProveItLink\" href=\"../../../__pv_it/theorems/4a3f35cb8f714cc401eb9952f062182e466794960/dependencies.ipynb\">dependencies</a>)<br>"
      ],
      "text/plain": [
       "<IPython.core.display.HTML object>"
      ]
     },
     "metadata": {},
     "output_type": "display_data"
    },
    {
     "name": "stdout",
     "output_type": "stream",
     "text": [
      "cancel_negations may now be readily provable (assuming required theorems are usable).  Simply execute \"%qed\".\n"
     ]
    }
   ],
   "source": [
    "%proving cancel_negations"
   ]
  },
  {
   "cell_type": "code",
   "execution_count": null,
   "metadata": {},
   "outputs": [],
   "source": []
  }
 ],
 "metadata": {
  "kernelspec": {
   "display_name": "Python 3",
   "language": "python",
   "name": "python3"
  }
 },
 "nbformat": 4,
 "nbformat_minor": 0
}