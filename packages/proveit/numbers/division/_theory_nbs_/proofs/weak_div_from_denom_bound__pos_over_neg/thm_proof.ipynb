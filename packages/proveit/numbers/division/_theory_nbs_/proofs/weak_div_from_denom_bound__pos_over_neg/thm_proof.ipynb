{
 "cells": [
  {
   "cell_type": "markdown",
   "metadata": {},
   "source": [
    "Proof of <a class=\"ProveItLink\" href=\"../../../../../_theory_nbs_/theory.ipynb\">proveit</a>.<a class=\"ProveItLink\" href=\"../../../../_theory_nbs_/theory.ipynb\">numbers</a>.<a class=\"ProveItLink\" href=\"../../theory.ipynb\">division</a>.<a class=\"ProveItLink\" href=\"../../theorems.ipynb#weak_div_from_denom_bound__pos_over_neg\">weak_div_from_denom_bound__pos_over_neg</a> theorem\n",
    "========"
   ]
  },
  {
   "cell_type": "code",
   "execution_count": 1,
   "metadata": {},
   "outputs": [],
   "source": [
    "import proveit\n",
    "theory = proveit.Theory() # the theorem's theory"
   ]
  },
  {
   "cell_type": "code",
   "execution_count": 2,
   "metadata": {},
   "outputs": [
    {
     "data": {
      "text/html": [
       "With these <a href=\"allowed_presumptions.txt\">allowed</a>/<a href=\"disallowed_presumptions.txt\">disallowed</a> theorem/theory presumptions (e.g., to avoid circular dependencies), we begin our proof of<br><strong id=\"weak_div_from_denom_bound__pos_over_neg\">weak_div_from_denom_bound__pos_over_neg:</strong> <a class=\"ProveItLink\" href=\"../../../__pv_it/theorems/2e14cf85afe486bb9eceaf44ee18e8b78b642a730/expr.ipynb\"><img src=\"data:image/png;base64,iVBORw0KGgoAAAANSUhEUgAAATcAAAAzBAMAAAAA6lKjAAAAMFBMVEX///8AAAAAAAAAAAAAAAAA\n",
       "AAAAAAAAAAAAAAAAAAAAAAAAAAAAAAAAAAAAAAAAAAAv3aB7AAAAD3RSTlMAq1RmmUTNIjK7EInv\n",
       "3XZ/CtNrAAAACXBIWXMAAA7EAAAOxAGVKw4bAAAFJklEQVRYw8WZX2gcRRjAv7u9zf672wSFQmxJ\n",
       "D+qLYJp7KlgkuZK0UVrsYbAgFe9SC9IIZQO+VEtIfdRgzkqtpxi2EtRcIDn8k9oI7bU+VC1KtC0W\n",
       "S3RDo7UVYrBCJA/G2ZnN7u3N3t6Uxsw8ZOe++W7vl2/m+zMzAGytWCzCuja1WDRZdX9Z+XuNflUZ\n",
       "DB8fI0zKykqe9ZVX18wk99cZl39yOsL6w0VK9TRa+cFtq6uhNfGCky7W17nMCy5h1dd52OQE9yiD\n",
       "TkOaE9wlMrkbbwZYcFUqLvGB05fx4xlDWaYHXWkvH7gE9kT1S4jN0DnBlbaZXOCGcXqILUKCDnee\n",
       "dNLiArcJ/43nYTJDjXlSZYYL3PlVy3TQY55UWOIBJ98hGEnYEDUoOFeq3uEBp5MgoVjRKzG6XPGk\n",
       "53nAKWXily2f9/9Oe6snfc+Bw769hQWOUTOsxRmNcc6B22k/n2eBY9QMa5Ppams9F6jXkSFwx+y8\n",
       "kWeBY9QMDXNU0hr/uaYegmtA0VhLssAxaoa1Nvrr+nWzhoURnJBCP8vkEIyaYa0jYP8gBNA1Njne\n",
       "+u3s7CU2b2XTDGt/GgHC6EFK2ph34B4DeIcNjk0z1AsDd3tib7U4nnPg+kFqokLOblt9YKvhgwvS\n",
       "pNN32ODeYLhD1eLEjAOnmFplEm6d2nEYeeWniKsPcj64Kk1nUq4f3FDpg4p/9KTv42byWMHN1ek1\n",
       "POkigSs7cFHLXeXyXCGja3AaFS7qfEYtwzc+uApNp73efAKskvZyLbjoCATB+R3iCm1OFw5y7auy\n",
       "LuRMug7bbUtIV6UZuOZPX56mM4VoFYJlCRM14IQ3609rYChxpxU+7rODYftp0FOA4W6jKCPvNpHl\n",
       "LvrhsOZC9zyaBnEOInADMJw+Ci92dXVlKuD0+YFu0I/b3WebwF2p5wy2IOw6BBxF31V/lJdgDL9W\n",
       "k0ZSINqHBrmqNYc1daO5AYXSiUZzSMXpwioduUFZ7mYkf0C+gH3LWpbLbigZZEtf8dU4BxH0jVga\n",
       "vaEHw8XezYN6n90d2OL3VqwpwIiMui+1wi0xheEePwMUXEqxBuGhaXt5vD+j58OCcFBrTFeWTPGM\n",
       "3gTbCoVCUte1J8NLJlKTbYQW4VChcBxN62dJes012v/X09P4cCTienNbhrFAKFXCTRrKdvM1bDld\n",
       "3G9KaAntrAEnlyUi+EoukTX31DQNNwQ23bFutLgzcddew6m7KBA8yxnDPaZi4jUH0+kQyx3VcjEY\n",
       "B7gmLpJ8gULJaDWcVJ4C/JL+ByAxmPVPl2/NzeI2GFQguHBi59ZPQHob9fb9VhrdFQIX+/XsbRhK\n",
       "woOP5OAIeql4+AW1K1dtuSf2L5AIYUC08y0vROTuIgdXlenjhUKGrUxPqoaSAvVM4QRViVcLPgQv\n",
       "2kXKbHCb72UPIZoRa1+NbUK1oEX0zCU4hxATcx99QZV26nwKTpHu1/cCJ4DYXqoHJyPnL5yEnj8q\n",
       "toZ/kWdab6HPI7Ro2dm4Sv/+T7sviWFTLRjCcoRy3FcQbzPHTTXsIQaEWIBnmHELviNLk89xRNZx\n",
       "uHjQAWfWlP8hEYfPQU7CCXRZQ6WLkV2gE2/u4HMERtx1LLMJNHrwDVBI/fI9z2PXtlf3QEAC3wHZ\n",
       "FM9jVzJjowvRzoAN8Kmze3EZ5Nhv/eEaQi9wphzH4AQn174k0XIqLk/hB+AEB7dqe7JF7sX4XS+F\n",
       "XMxF20kJuZq02eEur9ll8IF6E99HyoDiBDPc+l0Gf0Dcwb4M/g/gMJ9uwURtHQAAAABJRU5ErkJg\n",
       "gg==\n",
       "\" style=\"display:inline;vertical-align:middle;\" /></a><br>(see <a class=\"ProveItLink\" href=\"../../../__pv_it/theorems/982098b95cc05c23f562f11fb8ff924edb2909ec0/dependencies.ipynb\">dependencies</a>)<br>"
      ],
      "text/plain": [
       "<IPython.core.display.HTML object>"
      ]
     },
     "metadata": {},
     "output_type": "display_data"
    }
   ],
   "source": [
    "%proving weak_div_from_denom_bound__pos_over_neg"
   ]
  },
  {
   "cell_type": "code",
   "execution_count": null,
   "metadata": {},
   "outputs": [],
   "source": []
  }
 ],
 "metadata": {
  "kernelspec": {
   "display_name": "Python 3",
   "language": "python",
   "name": "python3"
  }
 },
 "nbformat": 4,
 "nbformat_minor": 0
}