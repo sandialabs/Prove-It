{
 "cells": [
  {
   "cell_type": "markdown",
   "metadata": {},
   "source": [
    "Proof of <a class=\"ProveItLink\" href=\"../../../../../_theory_nbs_/theory.ipynb\">proveit</a>.<a class=\"ProveItLink\" href=\"../../../../_theory_nbs_/theory.ipynb\">numbers</a>.<a class=\"ProveItLink\" href=\"../../theory.ipynb\">division</a>.<a class=\"ProveItLink\" href=\"../../theorems.ipynb#div_rational_nonneg_closure\">div_rational_nonneg_closure</a> theorem\n",
    "========"
   ]
  },
  {
   "cell_type": "code",
   "execution_count": 1,
   "metadata": {},
   "outputs": [],
   "source": [
    "import proveit\n",
    "theory = proveit.Theory() # the theorem's theory"
   ]
  },
  {
   "cell_type": "code",
   "execution_count": 2,
   "metadata": {},
   "outputs": [
    {
     "data": {
      "text/html": [
       "With these <a href=\"allowed_presumptions.txt\">allowed</a>/<a href=\"disallowed_presumptions.txt\">disallowed</a> theorem/theory presumptions (e.g., to avoid circular dependencies), we begin our proof of<br><strong id=\"div_rational_nonneg_closure\">div_rational_nonneg_closure:</strong> <a class=\"ProveItLink\" href=\"../../../__pv_it/theorems/9da51437f7ad76336f9455974577fbd6a72b8d240/expr.ipynb\"><img src=\"data:image/png;base64,iVBORw0KGgoAAAANSUhEUgAAAN4AAAAmBAMAAABZiDjwAAAAMFBMVEX///8AAAAAAAAAAAAAAAAA\n",
       "AAAAAAAAAAAAAAAAAAAAAAAAAAAAAAAAAAAAAAAAAAAv3aB7AAAAD3RSTlMAq1RmmUTNIjK7EInv\n",
       "3XZ/CtNrAAAACXBIWXMAAA7EAAAOxAGVKw4bAAAD70lEQVRYw61XXWjTUBQ+W9omTdp0Ex8URSI+\n",
       "6ItSFKYOGR2rOAZqhyIOwVVfRH2wyvBlzkUUFDadqFPrbwaC6KYrThxOHEMfNhFBYTBQCpmgosIY\n",
       "U6dMmJ5709Q0TSQ0vdCb23tu7nfvOd/5CYDb5pEcLuT3QTFaNf4ODh51sPK0UgQ4Jg7gHYabDvZi\n",
       "yoqA145APWHY6GTtuSLg7cffZoB3Ttb2uFdo6Qx2L4D/YSPnOulDGEwRarlXaBD34WeBmbRb0E2V\n",
       "WAUN2LM/XeN1oIr4KSiJL7VbIZ7HbgRCCXxcdY03n3Q3YHkkYk/LG8DOQIC46TrXeN9I1/X15CI5\n",
       "T5HJ5IYM4DA3A8EwjloloCZcUigcZ2sRcaHMvknRuPI4hngBlVg7AuvJ1J6Cvd2WJ319AFspSapl\n",
       "os8Q0acnDsfI1NlC8UridhdPocTPqMCWy//4Ik6CDwkmSIXiBfI86nM6Tc7gv4sSQY7zcwkOTEA9\n",
       "9dZfwKAdfQXTJZQyTWz7oj3vcGivUqmWVzL+XkdvPQXwKp1+WTheOPc/q+ecNi9KvOGVppSEdK4F\n",
       "uFIwXqvJEr5EZrCTQQmnmok/i7kL2PywdmuAHPb9J0sQgw47zHj6oLmU3u8Dl8R2KSv/jZZVhFiO\n",
       "n14ox0M2o6/6FPo6tzdXBIZQ0kheDf0hTctOaWyE7X7NfnWmo37HSTV7KG48GWOfgEC0fn899ECA\n",
       "WnuBSRSxv98dfeC/rfEzHw/iVfq/KLqKcAj4VeQWLbEWCNIoNWIS/QcvqA+8mv9J+faDB4RT3VX9\n",
       "IBKyncJAr6IuTgyQ+xFgbnZcMYgeRkejWQO0mvgpqvqoBuNLfYNVuD2CN+fHMBJSZVSGKV49dUuq\n",
       "afGtGDGKjPfrVU0b7tYHAomf5qTBTpGYhKryRLgh2EKmyIZqqkui/FxNTRFm4gZRDl7AvGNXp14z\n",
       "NE0fqM2LcnoZEIiJZVCB1JW2Z/Rp2FP2lOWIDBg+Gnn5a6+zMzuupzMkmceoltUH1UvCX6m0UT1Q\n",
       "UjRFo1kjhTBXGkQ5/ucZ0mCtsm2JOr4sljsl6OcKJDq2KH6FEh8EY1TohqCyFixFJB9pBw5ZBvzF\n",
       "F1+Y6OTXI4u3ZkUfsJcpwOguY65ul7hNqrUIaOlC3V4pKNxiCYAK6D+eMynZi7BdoP1Th+G2MWH1\n",
       "AbJkk0HtXsVWBNkKaNfEHEd4jyxnz6wxWsheRIlG8PlppTfhBO+Z6/pMiGs0D6gOFotD7r8fRrQy\n",
       "KC/RW1Yfknu8Cq2ob3Sy1ccifB/5wtT9NjvwCHa4CHj8GOLJ/HMHS+8VQZ0AhxUoCfsjDlaeL8r3\n",
       "OysDv6DGiSaI6/wFolQSx2b9o28AAAAASUVORK5CYII=\n",
       "\" style=\"display:inline;vertical-align:middle;\" /></a><br>(see <a class=\"ProveItLink\" href=\"../../../__pv_it/theorems/0517a0c496c4f6d431dc35fd048bc774f5534bd80/dependencies.ipynb\">dependencies</a>)<br>"
      ],
      "text/plain": [
       "<IPython.core.display.HTML object>"
      ]
     },
     "metadata": {},
     "output_type": "display_data"
    },
    {
     "name": "stdout",
     "output_type": "stream",
     "text": [
      "div_rational_nonneg_closure may now be readily provable (assuming required theorems are usable).  Simply execute \"%qed\".\n"
     ]
    }
   ],
   "source": [
    "%proving div_rational_nonneg_closure"
   ]
  },
  {
   "cell_type": "code",
   "execution_count": null,
   "metadata": {},
   "outputs": [],
   "source": []
  }
 ],
 "metadata": {
  "kernelspec": {
   "display_name": "Python 3",
   "language": "python",
   "name": "python3"
  }
 },
 "nbformat": 4,
 "nbformat_minor": 0
}