{
 "cells": [
  {
   "cell_type": "markdown",
   "metadata": {},
   "source": [
    "Proof of <a class=\"ProveItLink\" href=\"../../../../../_theory_nbs_/theory.ipynb\">proveit</a>.<a class=\"ProveItLink\" href=\"../../../../_theory_nbs_/theory.ipynb\">numbers</a>.<a class=\"ProveItLink\" href=\"../../theory.ipynb\">division</a>.<a class=\"ProveItLink\" href=\"../../theorems.ipynb#div_complex_closure\">div_complex_closure</a> theorem\n",
    "========"
   ]
  },
  {
   "cell_type": "code",
   "execution_count": 1,
   "metadata": {},
   "outputs": [],
   "source": [
    "import proveit\n",
    "theory = proveit.Theory() # the theorem's theory"
   ]
  },
  {
   "cell_type": "code",
   "execution_count": 2,
   "metadata": {},
   "outputs": [
    {
     "data": {
      "text/html": [
       "With these <a href=\"allowed_presumptions.txt\">allowed</a>/<a href=\"disallowed_presumptions.txt\">disallowed</a> theorem/theory presumptions (e.g., to avoid circular dependencies), we begin our proof of<br><strong id=\"div_complex_closure\">div_complex_closure:</strong> <a class=\"ProveItLink\" href=\"../../../__pv_it/theorems/0a001803abdc7edf90c0692227a968e53b84b0680/expr.ipynb\"><img src=\"data:image/png;base64,iVBORw0KGgoAAAANSUhEUgAAAL4AAAAmCAMAAABNn9GBAAAAOVBMVEX///8AAAAAAAAAAAAAAAAA\n",
       "AAAAAAAAAAAAAAAAAAAAAAAAAAAAAAAAAAAAAAAAAAAAAAAAAAAAAAACXHtMAAAAEnRSTlMAq1Rm\n",
       "mUTNIjK7EInv3Xbt5cmRiLwgAAAACXBIWXMAAA7EAAAOxAGVKw4bAAADc0lEQVRYw9VYjQ6zKBAE\n",
       "lr8F5O54/4f9QEGxoBZzKflI2tgGdFxmZ3YhZN7g7O1KIw2ZPTjNF4par/zQWr3Mxg8yXwinCMEw\n",
       "hgfoXPTaZbzGQdqKZXA9sqnwpS0cCul7saP0dzPpw3ayOExggnidOjPGHm0TUtJCGL6DCmoe8/fg\n",
       "m5BITCVho2jQToNP8UARo88WTviwdLlp8AMcOUi91Yp6/ZisFhcpvdK2sCfu25EADH7InXHeepoU\n",
       "1vCAZZ/ilhG+p7z8XSq8yFTuxRZ12OHzaHx6t278IfXl8H5xgjnbaYHvUxBK9WN/aGPuWbM9LnHs\n",
       "r0kNKeE1sHtHzBfIv+QvM/dJ84T0Z1NFonibQSniLr3m4uwc4elb0mdBrCjRDUCz3oavkoXvSogb\n",
       "tTY3hvlA1EZFInbRvvJq2IqWr881EjuU5LQuzvFyul0lzVpvSX/X7+A3L8yJ8BccTIG3vZKJlidr\n",
       "TxHjDIM0xoVVdo296WSPB8RniiYIoirQwjGqYnrJAyvut2EI694zf5G4Ljsh5/nCmjUE0IfvauOk\n",
       "av+r8ain6Jt219EQvIAfsYMvxgzeqv0p3kfBIh52ydJb2FSXPHn6FmC7kTz9dmyUPG3vIg7dJ+LE\n",
       "/ST5OdPNoipD97Gh9LyKBVNNWVjBz9M5pvFP/EAuLBdoUvdBebzvuS49zPYkYKrYCOeJeDs0WDvS\n",
       "I+XBgLmGn6dvz4eqLna+UbynxlyyjmhIrohJxemngNHMWidSaVRzOfY0INd4xuZSa6Gv4efpNXk3\n",
       "8rRUcU/VsaEoTFtxurBwVXFQfEQl9fxg8sKw8bbyi5y6laRX8PP0RJ5//8OVPBepS04Sa9B1+nRh\n",
       "sS4a7hvOEpVEfREZYhLkyGXAk6Mpu7687ep+mV6VgSuJRWsp/NxpyOFWZQvm0uQ3MG8hJQBLVd6W\n",
       "Qgr1sYGRSVx3yVOmnxw82hY3nYL59F94Vy3iTeHHzqzD1bY6t+gtfTwxMyfAIrwrWG70S3x5R/zG\n",
       "8jvL+B0JvhvipmX7tnHswGdfHNmc2mxJo9+N88f+DyX+ywazPpYyIZqmGe9+3cRjwip0rO9tj+3Y\n",
       "vHOSU323FQHB/kXBr87Ht/NCMSqeXpKpQ0Kt+nxQPJVTc+Gn6naDr8sh/8jiucf7VT9O4cMHvtFr\n",
       "INOH0rm6tHwQjSmy+weSVxvdvnf1gwAAAABJRU5ErkJggg==\n",
       "\" style=\"display:inline;vertical-align:middle;\" /></a><br>(see <a class=\"ProveItLink\" href=\"../../../__pv_it/theorems/b8104cdaace0ee5256323aff830587fd5932481d0/dependencies.ipynb\">dependencies</a>)<br>"
      ],
      "text/plain": [
       "<IPython.core.display.HTML object>"
      ]
     },
     "metadata": {},
     "output_type": "display_data"
    },
    {
     "name": "stdout",
     "output_type": "stream",
     "text": [
      "div_complex_closure may now be readily provable (assuming required theorems are usable).  Simply execute \"%qed\".\n"
     ]
    }
   ],
   "source": [
    "%proving div_complex_closure"
   ]
  },
  {
   "cell_type": "code",
   "execution_count": null,
   "metadata": {},
   "outputs": [],
   "source": []
  }
 ],
 "metadata": {
  "kernelspec": {
   "display_name": "Python 3",
   "language": "python",
   "name": "python3"
  }
 },
 "nbformat": 4,
 "nbformat_minor": 0
}