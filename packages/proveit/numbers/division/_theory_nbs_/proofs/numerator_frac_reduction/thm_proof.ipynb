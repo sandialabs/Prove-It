{
 "cells": [
  {
   "cell_type": "markdown",
   "metadata": {},
   "source": [
    "Proof of <a class=\"ProveItLink\" href=\"../../../../../_theory_nbs_/theory.ipynb\">proveit</a>.<a class=\"ProveItLink\" href=\"../../../../_theory_nbs_/theory.ipynb\">numbers</a>.<a class=\"ProveItLink\" href=\"../../theory.ipynb\">division</a>.<a class=\"ProveItLink\" href=\"../../theorems.ipynb#numerator_frac_reduction\">numerator_frac_reduction</a> theorem\n",
    "========"
   ]
  },
  {
   "cell_type": "code",
   "execution_count": 1,
   "metadata": {},
   "outputs": [],
   "source": [
    "import proveit\n",
    "theory = proveit.Theory() # the theorem's theory"
   ]
  },
  {
   "cell_type": "code",
   "execution_count": 2,
   "metadata": {},
   "outputs": [
    {
     "data": {
      "text/html": [
       "With these <a href=\"allowed_presumptions.txt\">allowed</a>/<a href=\"disallowed_presumptions.txt\">disallowed</a> theorem/theory presumptions (e.g., to avoid circular dependencies), we begin our proof of<br><strong id=\"numerator_frac_reduction\">numerator_frac_reduction:</strong> <a class=\"ProveItLink\" href=\"../../../__pv_it/theorems/dbfdc1e9f76b2d0ed18127d755d7eac75d1660290/expr.ipynb\"><img src=\"data:image/png;base64,iVBORw0KGgoAAAANSUhEUgAAARcAAAA1CAMAAABcHl9vAAAAOVBMVEX///8AAAAAAAAAAAAAAAAA\n",
       "AAAAAAAAAAAAAAAAAAAAAAAAAAAAAAAAAAAAAAAAAAAAAAAAAAAAAAACXHtMAAAAEnRSTlMAq1Rm\n",
       "mUTNIjK7EInv3Xbt5cmRiLwgAAAACXBIWXMAAA7EAAAOxAGVKw4bAAAEeUlEQVRo3u1biZKrKhBl\n",
       "3+n7Hv//sRcxLiAYMletUDXUTCqmsNG2l3OaFqFxBwCT8Q/9jlwtEmGNBPnVRD4oQhqQ+lXEPPRO\n",
       "E+FaJzLaDKsWTLfvyiF0qWaUH1Ux2C7fpENWIMQuFU/8oDFFbN8ZcAtw8QO2eES1SHd7VvZ0QL14\n",
       "uH0J4sYLMdTtDsI6rl1EsOH04uxF+RgAG2VtFRLyMBqChnCRiUeLAAyI1ZOPGC30+osumEaDoFHH\n",
       "uB5iSRgrwqhwEeafxDDR9rIAQ+kFuytD1cm967HAnSvciMP0w898KwVX0/AXOlTkVYEWSQXFQKA+\n",
       "NyKj+Wx7tulII2E7KJ6iNBOZAf05cgvKsKgXTnot87vrC67GIfHnMdIwAEQYJacBZlMN+W7rcQfL\n",
       "8Dz+ekddykYIzfiKZ7462phwwOdexfh5C98IHKnFYKT+anNRR1QRfUGL29YSr2xlv7uATEJ5fSba\n",
       "t6a32SZ9iRZfrZZo22UkiSGX33TRYXIi56dxFVd9Kk3HPEvhrmsOU0xh6UF8eyncdrE55nfj5yjE\n",
       "TXYo8fJxDYU/8dv3nt0W/CTL9X4xFct/Zt2aYZC7THGW1OY1rG2b/8kMHB40Tp8wJIEPo64CrCPJ\n",
       "iEwDR6cn2nbpZTZJGhfj+vMZuV5CPt7Gi55x0EtUCv0ETjP2Sg3WpNNon15wCpwJoDYI69kM9mR8\n",
       "mf0oQpcFxGQtAgWRV15IHq0EFsxgqJq9T1b1UpzOk/Zkuj1HCpntGVvcfRCOu9l95EIgsxaBksgz\n",
       "xS2bnGeFWpIcrlVX6gBMT+NP/KcRSk53vW7SvGSezNjy9IM79Is+8GvNrEXgSOSlTbBhhVqGmrZe\n",
       "itNfVjbf9a5aJlcnbM1o4bobx5GLZY5dEHk1RxORHq4mSCmu2nrJT1+sbPaSDdMr2MpF9RkrD+CP\n",
       "qcWEQz7MWgRyIj8ZioyesZ3zirt71KErdYDJS/77XycvKaLqS+bJjFa57kmOurUIGLsn8ulICqJS\n",
       "+tyQsbQpRNsGftnVAVbWHiN71AYuZdZmvLftxzjq2iKgUj5YiHw6Yoa6VKKRW2eOsdGpmGr40a4O\n",
       "sGMZEbUxU8qszShz53PEFk5yH8mIfKY/YyeLr7u7rtYBCNRX2B28BVCXbpO8WaoNFLnZE3nezU10\n",
       "tQ4gGits470x0OcIkmujU5oR+f6Qp2t1AMIbK2zmwjuCYZmilI8RTHZdmwE2zTM1CHwQI2/YcLwR\n",
       "lJa7F0aA1Z39TRYRl2yuorKDmLH21RArAow0CSp0JV4yNy/gioMcxeCx9mH5EdmZPrVMACsB6BVF\n",
       "myDaYgbbt0e+RDASPlCqyToi9rIKMXSwPo/DBSem1nkPqa8Dqqm+FOOHa8nMa/Mk5afOm9B4+TjA\n",
       "qELMeH1kucEobTVY38myGZ7uuJLTD2L0gB28wu5Tb8y9opdkGxzJRc0SSjE8DNgKr/6pr9n2MCw/\n",
       "5Hs7oH+uEuM6bnnMPvj9exOfpXjoO5ULNOj42ftphALrCEVKjPsCkr6vzms2tfwFnOAp/J5GGf0A\n",
       "AAAASUVORK5CYII=\n",
       "\" style=\"display:inline;vertical-align:middle;\" /></a><br>(see <a class=\"ProveItLink\" href=\"../../../__pv_it/theorems/df2619047577d32569fa40084e6ef8e35dd81be20/dependencies.ipynb\">dependencies</a>)<br>"
      ],
      "text/plain": [
       "<IPython.core.display.HTML object>"
      ]
     },
     "metadata": {},
     "output_type": "display_data"
    },
    {
     "name": "stdout",
     "output_type": "stream",
     "text": [
      "numerator_frac_reduction may now be readily provable (assuming required theorems are usable).  Simply execute \"%qed\".\n"
     ]
    }
   ],
   "source": [
    "%proving numerator_frac_reduction"
   ]
  },
  {
   "cell_type": "code",
   "execution_count": null,
   "metadata": {},
   "outputs": [],
   "source": []
  }
 ],
 "metadata": {
  "kernelspec": {
   "display_name": "Python 3",
   "language": "python",
   "name": "python3"
  }
 },
 "nbformat": 4,
 "nbformat_minor": 0
}