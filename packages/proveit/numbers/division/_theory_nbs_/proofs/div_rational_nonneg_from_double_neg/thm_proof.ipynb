{
 "cells": [
  {
   "cell_type": "markdown",
   "metadata": {},
   "source": [
    "Proof of <a class=\"ProveItLink\" href=\"../../../../../_theory_nbs_/theory.ipynb\">proveit</a>.<a class=\"ProveItLink\" href=\"../../../../_theory_nbs_/theory.ipynb\">numbers</a>.<a class=\"ProveItLink\" href=\"../../theory.ipynb\">division</a>.<a class=\"ProveItLink\" href=\"../../theorems.ipynb#div_rational_nonneg_from_double_neg\">div_rational_nonneg_from_double_neg</a> theorem\n",
    "========"
   ]
  },
  {
   "cell_type": "code",
   "execution_count": 1,
   "metadata": {},
   "outputs": [],
   "source": [
    "import proveit\n",
    "theory = proveit.Theory() # the theorem's theory"
   ]
  },
  {
   "cell_type": "code",
   "execution_count": 2,
   "metadata": {},
   "outputs": [
    {
     "data": {
      "text/html": [
       "With these <a href=\"allowed_presumptions.txt\">allowed</a>/<a href=\"disallowed_presumptions.txt\">disallowed</a> theorem/theory presumptions (e.g., to avoid circular dependencies), we begin our proof of<br><strong id=\"div_rational_nonneg_from_double_neg\">div_rational_nonneg_from_double_neg:</strong> <a class=\"ProveItLink\" href=\"../../../__pv_it/theorems/bf1eb44d25a379b99f086c183c61e636eb3656350/expr.ipynb\"><img src=\"data:image/png;base64,iVBORw0KGgoAAAANSUhEUgAAAN4AAAAmBAMAAABZiDjwAAAAMFBMVEX///8AAAAAAAAAAAAAAAAA\n",
       "AAAAAAAAAAAAAAAAAAAAAAAAAAAAAAAAAAAAAAAAAAAv3aB7AAAAD3RSTlMAq1RmmUTNIjK7EInv\n",
       "3XZ/CtNrAAAACXBIWXMAAA7EAAAOxAGVKw4bAAAELUlEQVRYw61Xa2gTSxQ+TXazyaZd6/O2VyhR\n",
       "f/hP0yr1SW+rrQoXNFC4iApWEcXHj1REFC2NTxQ1DbYF40VI8Ze2l8QHt0oRSv1hQRRBQVACW61v\n",
       "lFIVRUE9Zza7JtNNs2QzkMnsztk9M9/5zjdnAew2wWfRUN4BhWh1+JOmv1JzW56JFcCdswm7DUHP\n",
       "NwumpQXwdxoXLd8G4YEF27MF8LeTQjgCJQkLtj32AXUQjsURiAeyGJzUJvre0brsA8r2FVfhr6ys\n",
       "vEn8dapiBGn1xba/NoIo7oNpjmA2kzd+RCAE5Otf2/7KqfOojkdCdptFKrTGYABHS237+8gwq7jR\n",
       "/HoskNGO1J6XBhGGhzho9QEL4ax83bmzR2RoEFqms1F3J8F+n6JdCw10Z1ve2T6Sbca7xA9iA5IE\n",
       "9pQB4TlKBG2CQyRHkXz9FTVlmznlwi5SA9BcBgZflBFwIcG8vnz9FY/JqDfJJFvD+S7sbrigayVd\n",
       "KapIlo6v4ES2uvKmywReVv55m2JLJIz9TCF0WbvuG6bEcSOo95LJu/n782deS/qZ4040Yt/ozERO\n",
       "Rjqvwr2bvsuK2LVykXDpWS+qVdiHHdx6fmA8QTKVtcqQ9OxVTnnh/RkbTVCONSqBk1FshvZ8R3GI\n",
       "eTO0trtjIk7L10NIJfb48YiRwXV/cP42skd/UmOZcTqJjdmn4seB9Ak5oxqLcg9FA1IfeKtA+ht9\n",
       "9kAxmRcRJ8LlnXAgAdd84+/vkjE636zxc4w/aKrRr+pDmBu7QZ4XbKF1t0BJSMsdEDDK0OuDiwvG\n",
       "91dijNaz/KuCMfGDq8Sp7ppeUCi4J2YDqCpUBtj+CPi2D3/Cc9r94SAoilRfX9/wmy8cHxSjjBFI\n",
       "X6ZGTOT2INJFfoxKyMBY7Gf+YIYfg8/geB8bluk550V8n5L5fJwvkzYboyuon1O4WYlErYjwqnX3\n",
       "A2UM86VSxI4GpGcMvXaoFmkb5EvxcvpSy72xq1NniLRm66cQL++f9ecCSilUI3N9azU809og1Dm3\n",
       "R6NnRYYnx38NsEv3fsftQjKlqUWhGtPqg+ES9CyOnWK6zviyB6OkZ8kIDLiZbJnwRejX/reYJWeF\n",
       "MukYd2joVVxxsK0x5mESNwTetONQTsATZ0RToHApXOX44UwteNS0lirf1Z55x6Mri7h8zjWQzrF8\n",
       "f7QpDXb3ABz9ALCfbsm3VpTxh7jmSPyWl9x2R6MIYu+RjEXqxUEnwrHPz7+hIxOnHG2jWVElzFqd\n",
       "JnDr0qeWzX/BGWsVkKtiyNIR+r/p3fDCtIuMHbmf8wzX6tz4DtlSaTlguz7zMvLP1cqhXE3pt//9\n",
       "MEjdCnbS5K4+fPb9VVP3FMRRC7YvC/B95PKz9BMsZIR0pwD+5MfYfYUef27T/woAJ8BeVKXJqTwc\n",
       "v7UX5PtdwhTpum5hezKlzi8MjxQbY0ZvHgAAAABJRU5ErkJggg==\n",
       "\" style=\"display:inline;vertical-align:middle;\" /></a><br>(see <a class=\"ProveItLink\" href=\"../../../__pv_it/theorems/95f5f9d9a48a425a1b0107d8fcf1916fe3a5dbfe0/dependencies.ipynb\">dependencies</a>)<br>"
      ],
      "text/plain": [
       "<IPython.core.display.HTML object>"
      ]
     },
     "metadata": {},
     "output_type": "display_data"
    },
    {
     "name": "stdout",
     "output_type": "stream",
     "text": [
      "div_rational_nonneg_from_double_neg may now be readily provable (assuming required theorems are usable).  Simply execute \"%qed\".\n"
     ]
    }
   ],
   "source": [
    "%proving div_rational_nonneg_from_double_neg"
   ]
  },
  {
   "cell_type": "code",
   "execution_count": null,
   "metadata": {},
   "outputs": [],
   "source": []
  }
 ],
 "metadata": {
  "kernelspec": {
   "display_name": "Python 3",
   "language": "python",
   "name": "python3"
  }
 },
 "nbformat": 4,
 "nbformat_minor": 0
}