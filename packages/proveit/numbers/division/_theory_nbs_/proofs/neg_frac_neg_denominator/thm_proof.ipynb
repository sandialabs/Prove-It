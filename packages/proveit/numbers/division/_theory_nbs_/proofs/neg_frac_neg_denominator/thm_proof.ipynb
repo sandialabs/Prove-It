{
 "cells": [
  {
   "cell_type": "markdown",
   "metadata": {},
   "source": [
    "Proof of <a class=\"ProveItLink\" href=\"../../../../../_theory_nbs_/theory.ipynb\">proveit</a>.<a class=\"ProveItLink\" href=\"../../../../_theory_nbs_/theory.ipynb\">numbers</a>.<a class=\"ProveItLink\" href=\"../../theory.ipynb\">division</a>.<a class=\"ProveItLink\" href=\"../../theorems.ipynb#neg_frac_neg_denominator\">neg_frac_neg_denominator</a> theorem\n",
    "========"
   ]
  },
  {
   "cell_type": "code",
   "execution_count": 1,
   "metadata": {},
   "outputs": [],
   "source": [
    "import proveit\n",
    "theory = proveit.Theory() # the theorem's theory"
   ]
  },
  {
   "cell_type": "code",
   "execution_count": 2,
   "metadata": {},
   "outputs": [
    {
     "data": {
      "text/html": [
       "With these <a href=\"allowed_presumptions.txt\">allowed</a>/<a href=\"disallowed_presumptions.txt\">disallowed</a> theorem/theory presumptions (e.g., to avoid circular dependencies), we begin our proof of<br><strong id=\"neg_frac_neg_denominator\">neg_frac_neg_denominator:</strong> <a class=\"ProveItLink\" href=\"../../../__pv_it/theorems/4a1746a2e075c2cffc2c350b12e8c1266442c91e0/expr.ipynb\"><img src=\"data:image/png;base64,iVBORw0KGgoAAAANSUhEUgAAAQsAAAAyCAMAAAB8iQ6xAAAAOVBMVEX///8AAAAAAAAAAAAAAAAA\n",
       "AAAAAAAAAAAAAAAAAAAAAAAAAAAAAAAAAAAAAAAAAAAAAAAAAAAAAAACXHtMAAAAEnRSTlMAq1Rm\n",
       "mUTNIjK7EInv3Xbt5cmRiLwgAAAACXBIWXMAAA7EAAAOxAGVKw4bAAAEOUlEQVRo3s1bi5ajIAyV\n",
       "pxAgu8v/f+wC2taiRqtWypn2nMyUW4jJ5QaYrmverLkTCiyQdtPGxL1QJgBpt3SFuxuKB9pu1oS+\n",
       "H8ox2m7Uet83gAqCttu0gC2guAfSbpMhvg2UlrTdovk52wEiA+McPw+1jqniez7VdoOGcR6b6Qkh\n",
       "w06G81AEpq7oUjenzzAfgUgPSKR5fao6AjGZBUxeuY7Hxoxh4lwm5t9IfQkUhQkRSft+mbVCdx4v\n",
       "g1rFtIG2b2fO5bguRAZwBdQ6pqjYUrRlTxPFQuWkhmfsTkPRmFD1gNhUb+HCo+DRgEzjVvw01AZm\n",
       "HUm+6UpiF3IcJGLHpeDnoTYwlwjj5Q5+c5R42xLKxbkt1VNv3MseEGVLKBHVzDaPwOjtvWFhrlvS\n",
       "j0DVfYqtx5Xm4wrgZOORt4SqY6nYYqQJfa8rUlCaplCRLdg+5Obdzb7A69TNIahoF2xZnHr7drD7\n",
       "uBySYdLYKagcAnrB7tnj7VgjOXx9kPK60vAQVAhLdg4Jp3YHpJUM+wkJU+vPAOsczjOQvS3wkWjb\n",
       "ldnkI6AnwWNq6OncK3022By3mdMgs0nXJ3HPUm5y63b5Yog2kfCVpX1xruA9ArXsi+QIsbFASzky\n",
       "tYPySbHPF6xwms99Z/Qmr+OLC3MkSYuHyECUffoZC13MX5hf+JDnIMyQTP2iL149BrN4rC8j9XzG\n",
       "nZetI4egFrkzHy2Mw8e+Y7bTw7BTBKRZGJ8T46lqej772pcvXj2kze1Peomk6LIvZmcQeJ2+OAS1\n",
       "VqiyESuN12I3Gj3k0zVMU1XPeQgQsO6LV49hiGJUt7C0WdVca0narvI6H1AyzKdz5TFb3hmjzLov\n",
       "Xj2GPZTRQ8UXM5nMo7rKF0egIDrSzg/RT7ggqIH4zOtjI3dOdcPUF48eOUf+/rMlR1a401y3k3QE\n",
       "arE2my6BvnO6iCcos0/rs4rvorR3hVndir549uheBXAi5JRmbDNIT7QDUHU9N6vvJCqHCDk88l+4\n",
       "FFYP9fwzM8ClhJFmJUeePd5EfdJacr7qheuqwQNQdQ1D1TTJF5D+asXogRzvy1k58cWkB9/cUmDX\n",
       "HaYegKr1GaHXFBQSVDscPvHFpMd2R0EqJECZnQq76qQDUPW2ILFNmDsrgXsK+anWevbgagd7UTsw\n",
       "ruO+zHIfEX4K1ddUec0u22H5SG3DGz4cBTP7HagfOyvq5DTLq/oSRnW28zxRenLbYA7FqmqENT5D\n",
       "VKREUpkDzE5F+TFUnRKtz5a7QMmCcjKO/jtQNdmK1ncO6BFY9nj7AlR9XSO0v8pHbThLloNbfAXq\n",
       "B+8okU8TWFKr+8f4EVQdbvYXbnhqWsA4/RUoVflNxV+4Bm1WL6jmsYPnX4EKFWzg3S80XNNS+erq\n",
       "Z3fFd0P96B3o9flygVJ9BaqusZTufqVpfi+U0UDaTdvN/0tTTX1i/wdH8iv4Q6a26QAAAABJRU5E\n",
       "rkJggg==\n",
       "\" style=\"display:inline;vertical-align:middle;\" /></a><br>(see <a class=\"ProveItLink\" href=\"../../../__pv_it/theorems/cb043c20f2d16bc99c389fa1de17796c7688d19d0/dependencies.ipynb\">dependencies</a>)<br>"
      ],
      "text/plain": [
       "<IPython.core.display.HTML object>"
      ]
     },
     "metadata": {},
     "output_type": "display_data"
    }
   ],
   "source": [
    "%proving neg_frac_neg_denominator"
   ]
  },
  {
   "cell_type": "code",
   "execution_count": null,
   "metadata": {},
   "outputs": [],
   "source": []
  }
 ],
 "metadata": {
  "kernelspec": {
   "display_name": "Python 3",
   "language": "python",
   "name": "python3"
  }
 },
 "nbformat": 4,
 "nbformat_minor": 0
}