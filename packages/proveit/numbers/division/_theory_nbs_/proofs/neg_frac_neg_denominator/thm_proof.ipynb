{
 "cells": [
  {
   "cell_type": "markdown",
   "metadata": {},
   "source": [
<<<<<<< HEAD:packages/proveit/numbers/division/_theory_nbs_/proofs/neg_frac_neg_denominator/thm_proof.ipynb
    "Proof of <a class=\"ProveItLink\" href=\"../../../../../_theory_nbs_/theory.ipynb\">proveit</a>.<a class=\"ProveItLink\" href=\"../../../../_theory_nbs_/theory.ipynb\">numbers</a>.<a class=\"ProveItLink\" href=\"../../theory.ipynb\">division</a>.<a class=\"ProveItLink\" href=\"../../theorems.ipynb#neg_frac_neg_denominator\">neg_frac_neg_denominator</a> theorem\n",
=======
    "Proof of <a class=\"ProveItLink\" href=\"../../../../../../_theory_nbs_/theory.ipynb\">proveit</a>.<a class=\"ProveItLink\" href=\"../../../../../_theory_nbs_/theory.ipynb\">physics</a>.<a class=\"ProveItLink\" href=\"../../../../_theory_nbs_/theory.ipynb\">quantum</a>.<a class=\"ProveItLink\" href=\"../../theory.ipynb\">algebra</a>.<a class=\"ProveItLink\" href=\"../../theorems.ipynb#num_ket0\">num_ket0</a> theorem\n",
>>>>>>> 97-QPE-Content-Working-Backwards:packages/proveit/physics/quantum/algebra/_theory_nbs_/proofs/num_ket0/thm_proof.ipynb
    "========"
   ]
  },
  {
   "cell_type": "code",
   "execution_count": null,
   "metadata": {},
   "outputs": [],
   "source": [
    "import proveit\n",
    "theory = proveit.Theory() # the theorem's theory"
   ]
  },
  {
   "cell_type": "code",
   "execution_count": null,
   "metadata": {},
   "outputs": [],
   "source": [
<<<<<<< HEAD:packages/proveit/numbers/division/_theory_nbs_/proofs/neg_frac_neg_denominator/thm_proof.ipynb
    "%proving neg_frac_neg_denominator"
=======
    "%proving num_ket0"
>>>>>>> 97-QPE-Content-Working-Backwards:packages/proveit/physics/quantum/algebra/_theory_nbs_/proofs/num_ket0/thm_proof.ipynb
   ]
  },
  {
   "cell_type": "code",
   "execution_count": null,
   "metadata": {},
   "outputs": [],
   "source": []
  }
 ],
 "metadata": {
  "kernelspec": {
   "display_name": "Python 3",
   "language": "python",
   "name": "python3"
  }
 },
 "nbformat": 4,
 "nbformat_minor": 0
}
