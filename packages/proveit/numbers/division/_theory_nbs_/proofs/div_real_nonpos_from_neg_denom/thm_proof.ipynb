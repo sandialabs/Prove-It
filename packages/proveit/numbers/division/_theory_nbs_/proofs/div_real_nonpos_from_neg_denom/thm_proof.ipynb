{
 "cells": [
  {
   "cell_type": "markdown",
   "metadata": {},
   "source": [
    "Proof of <a class=\"ProveItLink\" href=\"../../../../../_theory_nbs_/theory.ipynb\">proveit</a>.<a class=\"ProveItLink\" href=\"../../../../_theory_nbs_/theory.ipynb\">numbers</a>.<a class=\"ProveItLink\" href=\"../../theory.ipynb\">division</a>.<a class=\"ProveItLink\" href=\"../../theorems.ipynb#div_real_nonpos_from_neg_denom\">div_real_nonpos_from_neg_denom</a> theorem\n",
    "========"
   ]
  },
  {
   "cell_type": "code",
   "execution_count": 1,
   "metadata": {},
   "outputs": [],
   "source": [
    "import proveit\n",
    "theory = proveit.Theory() # the theorem's theory"
   ]
  },
  {
   "cell_type": "code",
   "execution_count": 2,
   "metadata": {},
   "outputs": [
    {
     "data": {
      "text/html": [
       "With these <a href=\"allowed_presumptions.txt\">allowed</a>/<a href=\"disallowed_presumptions.txt\">disallowed</a> theorem/theory presumptions (e.g., to avoid circular dependencies), we begin our proof of<br><strong id=\"div_real_nonpos_from_neg_denom\">div_real_nonpos_from_neg_denom:</strong> <a class=\"ProveItLink\" href=\"../../../__pv_it/theorems/62df0407ee7edd5fdeb1007e6b4045c42fe1bf920/expr.ipynb\"><img src=\"data:image/png;base64,iVBORw0KGgoAAAANSUhEUgAAANwAAAAmBAMAAABdfejNAAAAMFBMVEX///8AAAAAAAAAAAAAAAAA\n",
       "AAAAAAAAAAAAAAAAAAAAAAAAAAAAAAAAAAAAAAAAAAAv3aB7AAAAD3RSTlMAq1RmmUTNIjK7EInv\n",
       "3XZ/CtNrAAAACXBIWXMAAA7EAAAOxAGVKw4bAAAD+ElEQVRYw61YW0gUURj+3Ytz2XVWFIQMYsGn\n",
       "HrIFwQcJW2vLyqCtKNACjQLRIkaISApTiHqIclCsVksm8CW67JClKRRmkVEEPnQva0OxCBKx7ArV\n",
       "f87szdnbsLMHdvfM7L/nm/P93/+dcxbAaFulM45vhAw0Sy4As/hjIHXkKTkDcKX42ilyv1NHmnON\n",
       "o7GPkKZ7YBnXEdthHC5bQT5nIUfREXvFOJvLcQi7BH5v4hDTWbDdUYJpNtje4MsfgJVJ0HoByqEa\n",
       "e8wPw6kjEvE7ocAkJhJIJ749BAf5vscoXJaEb1zA9NSSIEAg+mB+g92JnyuMwjlcpICX3Gr6pJnT\n",
       "Pt/3tzgvdjTIQQ4JPOoEmr6idOHaE3HIMbnW/G6ApcMqnJ34QI4b1pAv69OFSygRjlFAasNO9TAl\n",
       "00HItNQBucVI6cIVJIOrzCa9tsqwVIRZyMbCsTnThbsbI40LE8/DcBy91VQIM7CZ1sRPMGMOs9OW\n",
       "yh/NtXW/HJld4UW1L2KZb6CSmQN4MjHxOG24r5rrg3KETLZDKwkew9cBdKeLxsxpbtRHcvfg/bsY\n",
       "j/yL1AIT42V8FYlsKRZTmYoWri4C11+GF6wP29lo7jnZFu2vywYq9uNj30CkRvXXx4O6Nb3ZU6BZ\n",
       "Ra3z5P0fabMUHjMz8SpIZndJzON9w1ECYaWwH3xewQaDaN/8lJcfgUfUqIibn17UBQHFdjj57Hgp\n",
       "qhCOcXIcOKgrD115WlHJApSROTDPmHF4Se7a8a4FMwyBgPlaCjLHo+AsJ6Q4uYPrZM9yuXwQBOJr\n",
       "CPfZjQNVyTi7MWpUM4UwCRRO6IMDHo8nTD6jVeZMFBwvTcYT8hFUCv+C/QGXaJ3amF4XWPNp3mnu\n",
       "vshTKkkBpVkzAP9Xu7g7w3BuKOG8cYScRchysyOwlcJZeiTg80i3pYgqsxNKrS4Kt35I+7j3tZJe\n",
       "VBNaEX6J3BkN1+x8sGP3CrlQiqJ1CoJty8Kgh1BhbvD5OpDMm1q3a1BBzodzZh1STSz+wh7ar/lF\n",
       "rkw+SWcnWHfIDCZoTShoFkZZRc3dtmHNABuDHLp1uYIt9FR2sX2rTIWLhTAc9WNegddmSfUdLIQ+\n",
       "7QKkat2hz+O5kJ9YVxf3A3MOe9unlb61UXSPwjGUW3Mrsd+9vKdu4QB+FadW35aOrv2Rdtnni9nA\n",
       "mdRJDvm64j6vSsRtfRZbK6YMqUm+ER+hH7tm8vTADaQOcSU/1lBp899lv6gDbtTwtnYgKHC7jiOQ\n",
       "MGIYjhgq2fI4dBwS7E7DcGYiVTyQ1OoYajoD57vdatltSl0KzFgG4K6iRhyteMRLHenMAByDy1eW\n",
       "i9PhYp2ZOJvDISyExat1/BVAHOQ/pEcKFJdt2wQAAAAASUVORK5CYII=\n",
       "\" style=\"display:inline;vertical-align:middle;\" /></a><br>(see <a class=\"ProveItLink\" href=\"../../../__pv_it/theorems/1fcb10acf1c017ac6abf742f6d707097e6180ae00/dependencies.ipynb\">dependencies</a>)<br>"
      ],
      "text/plain": [
       "<IPython.core.display.HTML object>"
      ]
     },
     "metadata": {},
     "output_type": "display_data"
    },
    {
     "name": "stdout",
     "output_type": "stream",
     "text": [
      "div_real_nonpos_from_neg_denom may now be readily provable (assuming required theorems are usable).  Simply execute \"%qed\".\n"
     ]
    }
   ],
   "source": [
    "%proving div_real_nonpos_from_neg_denom"
   ]
  },
  {
   "cell_type": "code",
   "execution_count": null,
   "metadata": {},
   "outputs": [],
   "source": []
  }
 ],
 "metadata": {
  "kernelspec": {
   "display_name": "Python 3",
   "language": "python",
   "name": "python3"
  }
 },
 "nbformat": 4,
 "nbformat_minor": 0
}