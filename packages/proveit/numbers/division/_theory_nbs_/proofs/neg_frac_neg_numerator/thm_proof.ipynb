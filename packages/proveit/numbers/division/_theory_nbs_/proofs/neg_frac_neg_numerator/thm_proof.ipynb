{
 "cells": [
  {
   "cell_type": "markdown",
   "metadata": {},
   "source": [
    "Proof of <a class=\"ProveItLink\" href=\"../../../../../_theory_nbs_/theory.ipynb\">proveit</a>.<a class=\"ProveItLink\" href=\"../../../../_theory_nbs_/theory.ipynb\">numbers</a>.<a class=\"ProveItLink\" href=\"../../theory.ipynb\">division</a>.<a class=\"ProveItLink\" href=\"../../theorems.ipynb#neg_frac_neg_numerator\">neg_frac_neg_numerator</a> theorem\n",
    "========"
   ]
  },
  {
   "cell_type": "code",
   "execution_count": 1,
   "metadata": {},
   "outputs": [],
   "source": [
    "import proveit\n",
    "theory = proveit.Theory() # the theorem's theory"
   ]
  },
  {
   "cell_type": "code",
   "execution_count": 2,
   "metadata": {},
   "outputs": [
    {
     "data": {
      "text/html": [
       "With these <a href=\"allowed_presumptions.txt\">allowed</a>/<a href=\"disallowed_presumptions.txt\">disallowed</a> theorem/theory presumptions (e.g., to avoid circular dependencies), we begin our proof of<br><strong id=\"neg_frac_neg_numerator\">neg_frac_neg_numerator:</strong> <a class=\"ProveItLink\" href=\"../../../__pv_it/theorems/47c291dbcf0549ef466d8dea5b01c96650b2546b0/expr.ipynb\"><img src=\"data:image/png;base64,iVBORw0KGgoAAAANSUhEUgAAAQsAAAAyCAMAAAB8iQ6xAAAAOVBMVEX///8AAAAAAAAAAAAAAAAA\n",
       "AAAAAAAAAAAAAAAAAAAAAAAAAAAAAAAAAAAAAAAAAAAAAAAAAAAAAAACXHtMAAAAEnRSTlMAq1Rm\n",
       "mUTNIjK7EInv3Xbt5cmRiLwgAAAACXBIWXMAAA7EAAAOxAGVKw4bAAAERUlEQVRo3s1bi7LiIAzl\n",
       "XZ7ZXf7/YxdotS2lWBGLGXUmt3KEkIQT4CI0XJS8FUsrXVHHCqY3Y0mnK+pQU5jbsYirqeOEigFY\n",
       "BtfUUTLZaQSWozV1kDgYgkWsrqiDIsQOwhKspg4Re57sNADW0hjyFSzud/GUqSME/LlvhpkCDIi5\n",
       "72CJfb4Uw9OnO+8BDRNFw/Aus483scjedMQPzhjSryxRC7dK+HN8wkQb1uFZAUt7qKgDaNaLbGfh\n",
       "i1jK1dT7M2c9SFNC0/pLWHSfLunY7Ck9rRRQfJ5q8y0svW+h/VC+BZWpIF5qFvrPydewMk+yQ1cS\n",
       "VQlxzQAQYZR8D6uQMFZzkJu9xKqhWMYfVMaffOPe7KE9G4pFPc9V+XCMSd3rFrLjkt6ClbVJqlhW\n",
       "muvMv48QT4ZiZb6UVLqkCXGvKYJTyrFYHh9Vm3ivNTfbAjqymyYsr44qSza9fTvYvF8OsU3NsqvF\n",
       "TEtpZcVRnfDjo0mqGbzSRdaxNGzCcq6gRpcw/LI/KoZhWnNwbfmZUY2BQgDi7frua3KhMtt8J694\n",
       "0RmU2/OzWSXwOnNKwCrw+kDucQhNoswVW8zORgM8V3VbfFrxtmAVbREMQV+sz4wtidro9E16yRY4\n",
       "ZTSbJmfq4Nen+aJfjARq8SAZAGwKr6XQhfh78Q0Peq6pnINpKtlibTCryWBT6qclx9zZbx1pwirl\n",
       "zniysPQfJoQVEnO/gweEYUgbA+NJaiaS/+pqi7UBU1H+hDcNhC7a4ngEAR35RRPWSaGKF6jQYQVo\n",
       "USYdT9cgjJU/B0I11ae2WBvMHaQLudXFParxXIvVVJQFdjyfxBAP59I8K4Kk5PLUFmuDeQtlsVCy\n",
       "xZEkE8+72aIFS3tTUdMs2k0ucHzOfHL92pI7N8Rha4tHgxgjf/+pFCNnuVN23ElqwSrVZts10CIj\n",
       "EnvSafRheeZ+T0onkzKrKfOLZwO01r8hH4cowy999CNpwMrquUN5x4AbAB3dIz4hjCox1/PPyNAm\n",
       "BAyT5Rh5Nthx+sC1WGHNcx2rwQasrIap7hKGYYenii4WiA5fDMqNLTYNyOsNBdzxMLUBK+NnFbrG\n",
       "dcqC/LW9N7bYNLgwT7RIkDSwaE39Xn1Eq2SriJltC1Z2CWNbTuFCIb/lWs8GhF9JXqUNGIOITYN7\n",
       "MxHWNnNKmNM+V05ddtna2WNpG16S+QgYq8+xqpi/dVaEmC0W+YmWWfgcq4qJ99UIHnyGyIsMicfQ\n",
       "l+8SSV5lWwXMLCZGny0jV2IF6UQcbBesc8ws2dLRdw7KPVD48dFvJTliZtc13PirfKUNZ4ajT9Mu\n",
       "WKeYv3dHqTiZGgea2tC3mmMcMDO/U79ww1OUJ9OIflglTL63G/e/cA1aHu6nxi5rS7pgnWK6Pb4j\n",
       "6BcEck4Vb6w23hGHM36WY/7mHejjuAkFxjthnWBmRRYX6FdEkJuxpNAVdazc/b80+7Fv1P9EUSwK\n",
       "jnWx3QAAAABJRU5ErkJggg==\n",
       "\" style=\"display:inline;vertical-align:middle;\" /></a><br>(see <a class=\"ProveItLink\" href=\"../../../__pv_it/theorems/bfe74217662f386368935f1fa9238cd16d279f590/dependencies.ipynb\">dependencies</a>)<br>"
      ],
      "text/plain": [
       "<IPython.core.display.HTML object>"
      ]
     },
     "metadata": {},
     "output_type": "display_data"
    }
   ],
   "source": [
    "%proving neg_frac_neg_numerator"
   ]
  },
  {
   "cell_type": "code",
   "execution_count": null,
   "metadata": {},
   "outputs": [],
   "source": []
  }
 ],
 "metadata": {
  "kernelspec": {
   "display_name": "Python 3",
   "language": "python",
   "name": "python3"
  }
 },
 "nbformat": 4,
 "nbformat_minor": 0
}