{
 "cells": [
  {
   "cell_type": "markdown",
   "metadata": {},
   "source": [
    "Proof of <a class=\"ProveItLink\" href=\"../../../../../_theory_nbs_/theory.ipynb\">proveit</a>.<a class=\"ProveItLink\" href=\"../../../../_theory_nbs_/theory.ipynb\">numbers</a>.<a class=\"ProveItLink\" href=\"../../theory.ipynb\">division</a>.<a class=\"ProveItLink\" href=\"../../theorems.ipynb#weak_div_from_denom_bound__all_neg\">weak_div_from_denom_bound__all_neg</a> theorem\n",
    "========"
   ]
  },
  {
   "cell_type": "code",
   "execution_count": 1,
   "metadata": {},
   "outputs": [],
   "source": [
    "import proveit\n",
    "theory = proveit.Theory() # the theorem's theory"
   ]
  },
  {
   "cell_type": "code",
   "execution_count": 2,
   "metadata": {},
   "outputs": [
    {
     "data": {
      "text/html": [
       "With these <a href=\"allowed_presumptions.txt\">allowed</a>/<a href=\"disallowed_presumptions.txt\">disallowed</a> theorem/theory presumptions (e.g., to avoid circular dependencies), we begin our proof of<br><strong id=\"weak_div_from_denom_bound__all_neg\">weak_div_from_denom_bound__all_neg:</strong> <a class=\"ProveItLink\" href=\"../../../__pv_it/theorems/ced792b66a9beb0757590cde697d56352ed903940/expr.ipynb\"><img src=\"data:image/png;base64,iVBORw0KGgoAAAANSUhEUgAAATcAAAAzBAMAAAAA6lKjAAAAMFBMVEX///8AAAAAAAAAAAAAAAAA\n",
       "AAAAAAAAAAAAAAAAAAAAAAAAAAAAAAAAAAAAAAAAAAAv3aB7AAAAD3RSTlMAq1RmmUTNIjK7EInv\n",
       "3XZ/CtNrAAAACXBIWXMAAA7EAAAOxAGVKw4bAAAFKElEQVRYw8WZb2gcRRTA393eZf/dbQLFYGxJ\n",
       "DyoFwTT3qWDR5EqSRqXaw2BBKuYsghihbKBfqiWkftRgzkqtpxi2EtRcIDkUExuxueqHqkWJVrEo\n",
       "wQ2N1laMwQqRfDDOzWx273bm9qY0ZubD7d6bd7u/e/PemzczAHwtn8/DpjYtn7d4dX9e+3uD3qoO\n",
       "BvePESZ1bS3L+8jvN8wkW2r0Kz86N9Lmw4UKtTRaxMHtrqmhN4iCky/U1rkkCi5u19a52xIEdy+H\n",
       "Tl1KENxFMrhbrzIsuC6NroiBM1bx5XFTXaU7XemTYuDiOBK1zyAyR88JrrTVEgI3jKeHyDLE6XTn\n",
       "SSdtIXDb8GcsC5Npqs+TqnNC4M6vW6ad7vOk0ooIOOUGwUhAY9ik4FypdkMEnEGShGqHv4vQ5Yon\n",
       "PS8CTi2SuGz+qP83Olo96VsOHI7tHTxwnJpBLcZpjFkHrqt0fZoHjlMzqE2mmOKdfv9rTxO4E6V5\n",
       "I8sDx6kZmOaY0/59DzL1EFwdysZ6ggeOUzOotbJ+/scM28IITkqi13IFBKdmUGun1w/aJwxr1jc4\n",
       "0frV/PxFvmjl0wxqf1LJTXsoydCrzzpw9wO8wVybUXDVNPnbrH+1pzUy/SSWceD6QW5g9Eu3w8Au\n",
       "swKuiqZv+g7qPEAtRdlw8TkHTrX08km4ZWrvEXQZR2bqg0wFnE+TtPBPTzWWe41a2Xu64ut2clnD\n",
       "jRSY3rBi4TKBKzpwYdv1cmUhlzZ0mC7A0Wlk8iJ8WQFXpum0l5tOgV3Qn68GFx4BFlzNgHDhINO2\n",
       "LutEwWQYsMeWSyzyHFyunL48TWcIkXnBtqWJKnDSqzWHlZ1K3GGF9/tKw9g2DUbJwgjuegqk27Dl\n",
       "LlTCYc2l7kXkitEFCMEVwHDGKBzt7OxMl8EZiwPdYJws3T7RAK6nzpp8SdgNCDiOfqv9oKzAGH6s\n",
       "Lo8gyPAWZCifz2FNw2yqQ048UW8NaXi6sAvHrlCWuxrKHlY+xcNmrypFN5Ww90l2+sWx9TwHIdQV\n",
       "SaEn9GC4yJv4nUoXDOyojFasKcGIgm6fa4FrUezL9gNngYJLqvYg3FUaL/ntOSMbkISZrT5VXjLF\n",
       "0kYD7M7lcgnD0B8JLplITbYVmqVncrmTaFg/TNA+V1/6X4/N4M2RkOvyrWnOAqFQDjdpqnusl7Dl\n",
       "jOghS0Yu1FUFTinKRPC5UiA+9+gMDTcEJboT3ci50zHXXsPJmygQPMuZwz2WamGfg5lUgOWO65kI\n",
       "jANcji6T+QKlklE/nFycAvyQ/jsgPthbOVwViWQet0FWgeDCRTt2fQDy6+ju4K+F0X0BcJFfzl2H\n",
       "oQTceU8GjqGHRo88q3Vm/JZ7+NASyRomhDte81JE5ibmYF+ZPp7LpfnK9IRmqknQzuZOUZW4X/Au\n",
       "eNkuVOSD234ra4ioFbIPVlkm+AXNUc9ckrMJMbHw3sfUpKotJuEMuf3iVuAkiLYVasEpKPhzp6Hn\n",
       "97Kl4V/kmjKa6f0IPVx0Fq7yv//T6kvmWFRLprQaogL3BcTbJHBRDfuJASHCiAwrZsPXxDXFbEf0\n",
       "OgEXY610ei3lH5JxxGzkxJ1E12tqdIGyDwwSze1itsBIuI6lt4FOd74CKqlfvhG57dr64n5gTOB7\n",
       "oTcpctuVjNjoUriDsXY4c+4ALoMc+20+XF3gAc6UExiC4JTqhyR6RsPlKXwLguDgWvVItsm5mLjj\n",
       "pYCDuXAbKSHXJ21+uEsbdhh8uNbA95EyID/BDbd5h8HvkHAoHQb/B0DUml3jRkcNAAAAAElFTkSu\n",
       "QmCC\n",
       "\" style=\"display:inline;vertical-align:middle;\" /></a><br>(see <a class=\"ProveItLink\" href=\"../../../__pv_it/theorems/3a0527f8a1f001a32d4305d4166c6f9e595c7cd80/dependencies.ipynb\">dependencies</a>)<br>"
      ],
      "text/plain": [
       "<IPython.core.display.HTML object>"
      ]
     },
     "metadata": {},
     "output_type": "display_data"
    }
   ],
   "source": [
    "%proving weak_div_from_denom_bound__all_neg"
   ]
  },
  {
   "cell_type": "code",
   "execution_count": null,
   "metadata": {},
   "outputs": [],
   "source": []
  }
 ],
 "metadata": {
  "kernelspec": {
   "display_name": "Python 3",
   "language": "python",
   "name": "python3"
  }
 },
 "nbformat": 4,
 "nbformat_minor": 0
}