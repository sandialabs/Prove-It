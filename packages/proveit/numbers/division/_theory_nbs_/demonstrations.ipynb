{
 "cells": [
  {
   "cell_type": "markdown",
   "metadata": {},
   "source": [
    "Demonstrations for the theory of <a class=\"ProveItLink\" href=\"theory.ipynb\">proveit.numbers.division</a>\n",
    "========"
   ]
  },
  {
   "cell_type": "code",
   "execution_count": null,
   "metadata": {},
   "outputs": [],
   "source": [
    "from proveit import defaults\n",
    "from proveit.logic import Forall, InSet, NotEquals\n",
    "from proveit.numbers import (zero, one, two, three, four, frac, Add, Neg, subtract, Sum, Mult,\n",
    "                             Exp, Less, LessEq, greater, greater_eq, num,\n",
    "                             Integer, Interval, Real, Complex)\n",
    "from proveit import a, b, c, d, m, n, w, x, y, z, P, S, Px\n",
    "%begin demonstrations"
   ]
  },
  {
   "cell_type": "code",
   "execution_count": null,
   "metadata": {},
   "outputs": [],
   "source": [
    "assumptions = [InSet(var, Complex) for var in [a, b, c, d, x, y, z]]\n",
    "assumptions = assumptions + [InSet(var, Integer) for var in [a, b]]\n",
    "assumptions += [NotEquals(var, zero) for var in [a, b, c, d]]\n",
    "#assupmtions += [InSet(var, Complex) for var in [c, d, x, y, z]]"
   ]
  },
  {
   "cell_type": "markdown",
   "metadata": {},
   "source": [
    "## Reducing rationals"
   ]
  },
  {
   "cell_type": "code",
   "execution_count": null,
   "metadata": {},
   "outputs": [],
   "source": [
    "frac(Neg(four), four).evaluation()"
   ]
  },
  {
   "cell_type": "code",
   "execution_count": null,
   "metadata": {},
   "outputs": [],
   "source": [
    "frac(four, Neg(four)).evaluation()"
   ]
  },
  {
   "cell_type": "code",
   "execution_count": null,
   "metadata": {},
   "outputs": [],
   "source": [
    "frac(frac(four, three), two).evaluation()"
   ]
  },
  {
   "cell_type": "code",
   "execution_count": null,
   "metadata": {},
   "outputs": [],
   "source": [
    "frac(frac(four, three), frac(two, three)).evaluation()"
   ]
  },
  {
   "cell_type": "code",
   "execution_count": null,
   "metadata": {},
   "outputs": [],
   "source": [
    "frac(Mult(frac(four, three), a, b), Mult(frac(two, three), c)).simplification(assumptions=assumptions)"
   ]
  },
  {
   "cell_type": "markdown",
   "metadata": {},
   "source": [
    "## Factorization"
   ]
  },
  {
   "cell_type": "code",
   "execution_count": null,
   "metadata": {},
   "outputs": [],
   "source": [
    "expr_01 = frac(Add(a, b, c), d)"
   ]
  },
  {
   "cell_type": "code",
   "execution_count": null,
   "metadata": {},
   "outputs": [],
   "source": [
    "expr_01.factorization(frac(one, d), assumptions=assumptions)"
   ]
  },
  {
   "cell_type": "code",
   "execution_count": null,
   "metadata": {},
   "outputs": [],
   "source": [
    "expr_01.factorization(frac(one, d), pull='right', assumptions=assumptions)"
   ]
  },
  {
   "cell_type": "markdown",
   "metadata": {},
   "source": [
    "***Test trivial cases where the factor is the entire expression.***"
   ]
  },
  {
   "cell_type": "code",
   "execution_count": null,
   "metadata": {},
   "outputs": [],
   "source": [
    "expr_01.factorization(frac(expr_01.numerator, d), assumptions=assumptions)"
   ]
  },
  {
   "cell_type": "code",
   "execution_count": null,
   "metadata": {},
   "outputs": [],
   "source": [
    "expr_01.factorization(frac(expr_01.numerator, d), pull='right', assumptions=assumptions)"
   ]
  },
  {
   "cell_type": "code",
   "execution_count": null,
   "metadata": {},
   "outputs": [],
   "source": [
    "expr_02 = frac(Mult(Add(a, b, c), b), d)"
   ]
  },
  {
   "cell_type": "code",
   "execution_count": null,
   "metadata": {},
   "outputs": [],
   "source": [
    "expr_02.factorization(frac(b, d), assumptions=assumptions)"
   ]
  },
  {
   "cell_type": "code",
   "execution_count": null,
   "metadata": {},
   "outputs": [],
   "source": [
    "expr_02.factorization(frac(b, d), pull='right', assumptions=assumptions)"
   ]
  },
  {
   "cell_type": "code",
   "execution_count": null,
   "metadata": {},
   "outputs": [],
   "source": [
    "expr_03 = frac(Mult(Add(a, b, c), b), Mult(a, d))"
   ]
  },
  {
   "cell_type": "code",
   "execution_count": null,
   "metadata": {},
   "outputs": [],
   "source": [
    "expr_03.factorization(frac(b, d), assumptions=assumptions)"
   ]
  },
  {
   "cell_type": "code",
   "execution_count": null,
   "metadata": {},
   "outputs": [],
   "source": [
    "expr_03.factorization(frac(b, d), pull='right', assumptions=assumptions)"
   ]
  },
  {
   "cell_type": "code",
   "execution_count": null,
   "metadata": {},
   "outputs": [],
   "source": [
    "expr_03.factorization(frac(one, d), assumptions=assumptions)"
   ]
  },
  {
   "cell_type": "code",
   "execution_count": null,
   "metadata": {},
   "outputs": [],
   "source": [
    "expr_03.factorization(frac(one, d), pull='right', assumptions=assumptions)"
   ]
  },
  {
   "cell_type": "code",
   "execution_count": null,
   "metadata": {},
   "outputs": [],
   "source": [
    "expr_03.factorization(frac(expr_03.numerator, d), pull='right', assumptions=assumptions)"
   ]
  },
  {
   "cell_type": "code",
   "execution_count": null,
   "metadata": {},
   "outputs": [],
   "source": [
    "expr_03.factorization(frac(expr_03.numerator, d), pull='left', assumptions=assumptions)"
   ]
  },
  {
   "cell_type": "code",
   "execution_count": null,
   "metadata": {},
   "outputs": [],
   "source": [
    "expr_03.reduction_to_mult(assumptions=assumptions).rhs.factorization(b, assumptions=assumptions)"
   ]
  },
  {
   "cell_type": "code",
   "execution_count": null,
   "metadata": {},
   "outputs": [],
   "source": [
    "expr_03.factorization(Exp(d, Neg(one)), pull='left', assumptions=assumptions)"
   ]
  },
  {
   "cell_type": "code",
   "execution_count": null,
   "metadata": {},
   "outputs": [],
   "source": [
    "expr_03.factorization(frac(Mult(b, Exp(a, Neg(one))), d), pull='right', assumptions=assumptions)"
   ]
  },
  {
   "cell_type": "markdown",
   "metadata": {},
   "source": [
    "## Distribution"
   ]
  },
  {
   "cell_type": "code",
   "execution_count": null,
   "metadata": {},
   "outputs": [],
   "source": [
    "expr_01"
   ]
  },
  {
   "cell_type": "code",
   "execution_count": null,
   "metadata": {},
   "outputs": [],
   "source": [
    "our_assumptions = [InSet(var, Real) for var in [a, b, c, d]]\n",
    "our_assumptions = our_assumptions + [NotEquals(d, zero)]\n",
    "our_assumptions = our_assumptions + [InSet(Px, Real)]"
   ]
  },
  {
   "cell_type": "code",
   "execution_count": null,
   "metadata": {},
   "outputs": [],
   "source": [
    "# distribute_frac_through_sum"
   ]
  },
  {
   "cell_type": "code",
   "execution_count": null,
   "metadata": {},
   "outputs": [],
   "source": [
    "from proveit.numbers.division import distribute_frac_through_sum\n",
    "distribute_frac_through_sum"
   ]
  },
  {
   "cell_type": "code",
   "execution_count": null,
   "metadata": {},
   "outputs": [],
   "source": [
    "_n_sub = num(expr_01.numerator.operands.num_entries())\n",
    "_x_sub = expr_01.numerator.operands\n",
    "_y_sub = expr_01.denominator\n",
    "distribute_frac_through_sum.instantiate(\n",
    "        {n: _n_sub, x: _x_sub, y: _y_sub}, assumptions=our_assumptions)"
   ]
  },
  {
   "cell_type": "code",
   "execution_count": null,
   "metadata": {},
   "outputs": [],
   "source": [
    "expr_01.distribution(assumptions=our_assumptions)"
   ]
  },
  {
   "cell_type": "code",
   "execution_count": null,
   "metadata": {},
   "outputs": [],
   "source": [
    "expr_04 = frac(subtract(a, b), d)"
   ]
  },
  {
   "cell_type": "code",
   "execution_count": null,
   "metadata": {},
   "outputs": [],
   "source": [
    "expr_04_dist = expr_04.distribution(assumptions=our_assumptions)"
   ]
  },
  {
   "cell_type": "code",
   "execution_count": null,
   "metadata": {},
   "outputs": [],
   "source": [
    "expr_05 = frac(Sum(x, Px, domain=Interval(y, z)), d)"
   ]
  },
  {
   "cell_type": "code",
   "execution_count": null,
   "metadata": {},
   "outputs": [],
   "source": [
    "from proveit.numbers.division import distribute_frac_through_summation\n",
    "distribute_frac_through_summation"
   ]
  },
  {
   "cell_type": "code",
   "execution_count": null,
   "metadata": {},
   "outputs": [],
   "source": [
    "# We have a theorem for distributing a non-zero divisor over a summation\n",
    "distribute_frac_through_summation.instantiate(\n",
    "    {P: P, S: Interval(y, z), y: x, z: d},\n",
    "    assumptions=our_assumptions+[Forall(x, InSet(Px, Complex), domain=Interval(y, z))])"
   ]
  },
  {
   "cell_type": "code",
   "execution_count": null,
   "metadata": {},
   "outputs": [],
   "source": [
    "# but we have not integrated the distribute_frac_through_summation\n",
    "# into the general distribution() method:\n",
    "try:\n",
    "    expr_05.distribution(\n",
    "        assumptions=our_assumptions+[Forall(x, InSet(Px, Complex), domain=Interval(y, z))])\n",
    "    assert False, \"Expecting NotImplementedError; should not make it this far!\"\n",
    "except NotImplementedError as the_error:\n",
    "    print(\"NotImplementedError: {}\".format(the_error))"
   ]
  },
  {
   "cell_type": "markdown",
   "metadata": {},
   "source": [
    "### Div.neg_extraction()"
   ]
  },
  {
   "cell_type": "code",
   "execution_count": null,
   "metadata": {},
   "outputs": [],
   "source": [
    "from proveit.numbers import Neg\n",
    "from proveit.numbers.division import neg_frac_neg_numerator, neg_frac_neg_numerator_gen"
   ]
  },
  {
   "cell_type": "code",
   "execution_count": null,
   "metadata": {},
   "outputs": [],
   "source": [
    "# create a few example expressions\n",
    "neg_a_over_b, a_over_neg_b, neg_mult_over_b, neg_mult_02_over_b, a_over_neg_mult = (\n",
    "    frac(Neg(a), b), frac(a, Neg(b)), frac(Mult(Neg(a), c), b),\n",
    "    frac(Mult(a, Neg(c)), b), frac(a, Mult(Neg(b), c)))"
   ]
  },
  {
   "cell_type": "code",
   "execution_count": null,
   "metadata": {},
   "outputs": [],
   "source": [
    "# with no neg_loc kwarg supplied, finds the Neg to factor out of numerator\n",
    "neg_a_over_b.neg_extraction(assumptions=[InSet(a, Real), InSet(b, Real), NotEquals(b, zero)])"
   ]
  },
  {
   "cell_type": "code",
   "execution_count": null,
   "metadata": {},
   "outputs": [],
   "source": [
    "# with no neg_loc kwarg supplied, finds the Neg to factor out of numerator\n",
    "neg_a_over_b.simplification(assumptions=[InSet(a, Real), InSet(b, Real), NotEquals(b, zero)])"
   ]
  },
  {
   "cell_type": "code",
   "execution_count": null,
   "metadata": {},
   "outputs": [],
   "source": [
    "# with no neg_loc kwarg supplied, finds the Neg to factor out of denominator\n",
    "a_over_neg_b.neg_extraction(assumptions=[InSet(a, Real), InSet(b, Real), NotEquals(b, zero)])"
   ]
  },
  {
   "cell_type": "code",
   "execution_count": null,
   "metadata": {},
   "outputs": [],
   "source": [
    "# can instead specify to factor out Neg from numerator\n",
    "neg_a_over_b.neg_extraction(neg_loc = 'numerator', assumptions=[InSet(a, Real), InSet(b, Real), NotEquals(b, zero)])"
   ]
  },
  {
   "cell_type": "code",
   "execution_count": null,
   "metadata": {},
   "outputs": [],
   "source": [
    "# can instead specify to factor out Neg from denominator\n",
    "a_over_neg_b.neg_extraction(neg_loc = 'denominator', assumptions=[InSet(a, Real), InSet(b, Real), NotEquals(b, zero)])"
   ]
  },
  {
   "cell_type": "code",
   "execution_count": null,
   "metadata": {},
   "outputs": [],
   "source": [
    "neg_mult_over_b.neg_extraction(\n",
    "    assumptions=[InSet(a, Real), InSet(b, Real), InSet(c, Real), NotEquals(b, zero)])"
   ]
  },
  {
   "cell_type": "code",
   "execution_count": null,
   "metadata": {},
   "outputs": [],
   "source": [
    "neg_mult_02_over_b.neg_extraction(\n",
    "    assumptions=[InSet(a, Real), InSet(b, Real), InSet(c, Real), NotEquals(b, zero)])"
   ]
  },
  {
   "cell_type": "code",
   "execution_count": null,
   "metadata": {},
   "outputs": [],
   "source": [
    "a_over_neg_mult"
   ]
  },
  {
   "cell_type": "code",
   "execution_count": null,
   "metadata": {},
   "outputs": [],
   "source": [
    "a_over_neg_mult.neg_extraction(\n",
    "    assumptions=[InSet(a, Real), InSet(b, Real), InSet(c, Real),\n",
    "                 NotEquals(b, zero), NotEquals(c, zero)])"
   ]
  },
  {
   "cell_type": "code",
   "execution_count": null,
   "metadata": {},
   "outputs": [],
   "source": [
    "# notice that the neg_extraction has been integrated into the\n",
    "# shallow_simplification() method\n",
    "neg_a_over_b.shallow_simplification(assumptions=[InSet(a, Real), InSet(b, Real), NotEquals(b, zero)])"
   ]
  },
  {
   "cell_type": "code",
   "execution_count": null,
   "metadata": {},
   "outputs": [],
   "source": [
    "# notice that the neg_extraction has been integrated into the\n",
    "# simplification() method\n",
    "neg_mult_over_b.simplification(assumptions=[InSet(a, Real), InSet(b, Real), NotEquals(b, zero),\n",
    "                                           InSet(c, Real), NotEquals(c, zero)])"
   ]
  },
  {
   "cell_type": "code",
   "execution_count": null,
   "metadata": {},
   "outputs": [],
   "source": [
    "# notice that the neg_extraction has been integrated into the\n",
    "# simplification() method\n",
    "neg_mult_02_over_b.simplification(assumptions=[InSet(a, Real), InSet(b, Real), NotEquals(b, zero),\n",
    "                                           InSet(c, Real), NotEquals(c, zero)])"
   ]
  },
  {
   "cell_type": "code",
   "execution_count": null,
   "metadata": {},
   "outputs": [],
   "source": [
    "# example expression with no Neg component\n",
    "no_neg_expr = frac(a, Mult(b, c))"
   ]
  },
  {
   "cell_type": "code",
   "execution_count": null,
   "metadata": {},
   "outputs": [],
   "source": [
    "# informative error message when no Neg available to extract:\n",
    "try:\n",
    "    no_neg_expr.neg_extraction(\n",
    "            assumptions=[InSet(a, Real), InSet(b, Real), InSet(c, Real),\n",
    "                         NotEquals(b, zero), NotEquals(c, zero)])\n",
    "except ValueError as the_error:\n",
    "    print(\"ValueError: {}\".format(the_error))"
   ]
  },
  {
   "cell_type": "markdown",
   "metadata": {},
   "source": [
    "## Deduce bounds"
   ]
  },
  {
   "cell_type": "code",
   "execution_count": null,
   "metadata": {},
   "outputs": [],
   "source": [
    "assumptions = [InSet(var, Real) for var in [a, b, c, d, w, x, y]]\n",
    "assumptions += [greater(var, zero) for var in [a, x, y]] + [greater_eq(b, zero)]\n",
    "assumptions += [LessEq(c, zero)] + [Less(var, zero) for var in [d, w]]\n",
    "assumptions += [InSet(z, Real)]"
   ]
  },
  {
   "cell_type": "markdown",
   "metadata": {},
   "source": [
    "Bound by the numerator with a positive denominator"
   ]
  },
  {
   "cell_type": "code",
   "execution_count": null,
   "metadata": {},
   "outputs": [],
   "source": [
    "relation = greater(a, x)\n",
    "frac(a, y).deduce_bound(relation, assumptions=assumptions+[relation])"
   ]
  },
  {
   "cell_type": "code",
   "execution_count": null,
   "metadata": {},
   "outputs": [],
   "source": [
    "relation = Less(a, x)\n",
    "frac(a, y).deduce_bound(relation, assumptions=assumptions+[relation])"
   ]
  },
  {
   "cell_type": "code",
   "execution_count": null,
   "metadata": {},
   "outputs": [],
   "source": [
    "relation = greater_eq(a, x)\n",
    "frac(a, y).deduce_bound(relation, assumptions=assumptions+[relation])"
   ]
  },
  {
   "cell_type": "code",
   "execution_count": null,
   "metadata": {},
   "outputs": [],
   "source": [
    "relation = LessEq(a, x)\n",
    "frac(a, y).deduce_bound(relation, assumptions=assumptions+[relation])"
   ]
  },
  {
   "cell_type": "markdown",
   "metadata": {},
   "source": [
    "Bound by the numerator with a negative denominator"
   ]
  },
  {
   "cell_type": "code",
   "execution_count": null,
   "metadata": {},
   "outputs": [],
   "source": [
    "relation = greater(a, x)\n",
    "frac(a, d).deduce_bound(relation, assumptions=assumptions+[relation])"
   ]
  },
  {
   "cell_type": "code",
   "execution_count": null,
   "metadata": {},
   "outputs": [],
   "source": [
    "relation = Less(a, x)\n",
    "frac(a, d).deduce_bound(relation, assumptions=assumptions+[relation])"
   ]
  },
  {
   "cell_type": "code",
   "execution_count": null,
   "metadata": {},
   "outputs": [],
   "source": [
    "relation = greater_eq(a, x)\n",
    "frac(a, d).deduce_bound(relation, assumptions=assumptions+[relation])"
   ]
  },
  {
   "cell_type": "code",
   "execution_count": null,
   "metadata": {},
   "outputs": [],
   "source": [
    "relation = LessEq(a, x)\n",
    "frac(a, d).deduce_bound(relation, assumptions=assumptions+[relation])"
   ]
  },
  {
   "cell_type": "markdown",
   "metadata": {},
   "source": [
    "Bound by the denominator with everything positive"
   ]
  },
  {
   "cell_type": "code",
   "execution_count": null,
   "metadata": {},
   "outputs": [],
   "source": [
    "relation = greater(x, y)\n",
    "frac(a, x).deduce_bound(relation, assumptions=assumptions+[relation])"
   ]
  },
  {
   "cell_type": "code",
   "execution_count": null,
   "metadata": {},
   "outputs": [],
   "source": [
    "relation = Less(x, y)\n",
    "frac(a, x).deduce_bound(relation, assumptions=assumptions+[relation])"
   ]
  },
  {
   "cell_type": "code",
   "execution_count": null,
   "metadata": {},
   "outputs": [],
   "source": [
    "relation = greater_eq(x, y)\n",
    "frac(b, x).deduce_bound(relation, assumptions=assumptions+[relation])"
   ]
  },
  {
   "cell_type": "code",
   "execution_count": null,
   "metadata": {},
   "outputs": [],
   "source": [
    "relation = LessEq(x, y)\n",
    "frac(b, x).deduce_bound(relation, assumptions=assumptions+[relation])"
   ]
  },
  {
   "cell_type": "markdown",
   "metadata": {},
   "source": [
    "Bound by the denominator with everything negative"
   ]
  },
  {
   "cell_type": "code",
   "execution_count": null,
   "metadata": {},
   "outputs": [],
   "source": [
    "relation = greater(w, c)\n",
    "frac(w, d).deduce_bound(relation, assumptions=assumptions+[relation])"
   ]
  },
  {
   "cell_type": "code",
   "execution_count": null,
   "metadata": {},
   "outputs": [],
   "source": [
    "relation = Less(w, c)\n",
    "frac(w, d).deduce_bound(relation, assumptions=assumptions+[relation])"
   ]
  },
  {
   "cell_type": "code",
   "execution_count": null,
   "metadata": {},
   "outputs": [],
   "source": [
    "relation = greater_eq(c, w)\n",
    "frac(c, d).deduce_bound(relation, assumptions=assumptions+[relation])"
   ]
  },
  {
   "cell_type": "code",
   "execution_count": null,
   "metadata": {},
   "outputs": [],
   "source": [
    "relation = LessEq(c, w)\n",
    "frac(c, d).deduce_bound(relation, assumptions=assumptions+[relation])"
   ]
  },
  {
   "cell_type": "markdown",
   "metadata": {},
   "source": [
    "Bound by the denominator with the numerator positive and denominator negative"
   ]
  },
  {
   "cell_type": "code",
   "execution_count": null,
   "metadata": {},
   "outputs": [],
   "source": [
    "relation = greater(d, w)\n",
    "frac(a, d).deduce_bound(relation, assumptions=assumptions+[relation])"
   ]
  },
  {
   "cell_type": "code",
   "execution_count": null,
   "metadata": {},
   "outputs": [],
   "source": [
    "relation = Less(d, w)\n",
    "frac(a, d).deduce_bound(relation, assumptions=assumptions+[relation])"
   ]
  },
  {
   "cell_type": "code",
   "execution_count": null,
   "metadata": {},
   "outputs": [],
   "source": [
    "relation = greater_eq(d, w)\n",
    "frac(b, d).deduce_bound(relation, assumptions=assumptions+[relation])"
   ]
  },
  {
   "cell_type": "code",
   "execution_count": null,
   "metadata": {},
   "outputs": [],
   "source": [
    "relation = LessEq(d, w)\n",
    "frac(b, d).deduce_bound(relation, assumptions=assumptions+[relation])"
   ]
  },
  {
   "cell_type": "markdown",
   "metadata": {},
   "source": [
    "Bound by the denominator with the numerator negative and denominator positive"
   ]
  },
  {
   "cell_type": "code",
   "execution_count": null,
   "metadata": {},
   "outputs": [],
   "source": [
    "relation = greater(a, x)\n",
    "frac(d, a).deduce_bound(relation, assumptions=assumptions+[relation])"
   ]
  },
  {
   "cell_type": "code",
   "execution_count": null,
   "metadata": {},
   "outputs": [],
   "source": [
    "relation = Less(a, x)\n",
    "frac(d, a).deduce_bound(relation, assumptions=assumptions+[relation])"
   ]
  },
  {
   "cell_type": "code",
   "execution_count": null,
   "metadata": {},
   "outputs": [],
   "source": [
    "relation = greater_eq(a, x)\n",
    "frac(c, a).deduce_bound(relation, assumptions=assumptions+[relation])"
   ]
  },
  {
   "cell_type": "code",
   "execution_count": null,
   "metadata": {},
   "outputs": [],
   "source": [
    "relation = LessEq(a, x)\n",
    "frac(c, a).deduce_bound(relation, assumptions=assumptions+[relation])"
   ]
  },
  {
   "cell_type": "markdown",
   "metadata": {},
   "source": [
    "Bound numerator and denominator simultaneously"
   ]
  },
  {
   "cell_type": "code",
   "execution_count": null,
   "metadata": {},
   "outputs": [],
   "source": [
    "# Here, we automatically prove that z < 0 indirectly.\n",
    "relations = [greater(d, z), greater(a, x)]\n",
    "frac(a, d).deduce_bound(relations, assumptions=assumptions+relations)"
   ]
  },
  {
   "cell_type": "code",
   "execution_count": null,
   "metadata": {},
   "outputs": [],
   "source": [
    "# Here, we automatically prove that z > 0 indirectly.\n",
    "relations = [LessEq(a, z), LessEq(c, d)]\n",
    "frac(c, a).deduce_bound(relations, assumptions=assumptions+relations)"
   ]
  },
  {
   "cell_type": "markdown",
   "metadata": {},
   "source": [
    "## Distribution"
   ]
  },
  {
   "cell_type": "code",
   "execution_count": null,
   "metadata": {},
   "outputs": [],
   "source": [
    "defaults.assumptions = [InSet(_x, Complex) for _x in (a, b, c, d)] + [NotEquals(d, zero)]"
   ]
  },
  {
   "cell_type": "code",
   "execution_count": null,
   "metadata": {},
   "outputs": [],
   "source": [
    "frac(Add(a, b, c), d).distribution()"
   ]
  },
  {
   "cell_type": "code",
   "execution_count": null,
   "metadata": {},
   "outputs": [],
   "source": [
    "frac(subtract(a, b), d).distribution()"
   ]
  },
  {
   "cell_type": "markdown",
   "metadata": {},
   "source": [
    "## Testing `Div.div_in_denominator_reduction()`"
   ]
  },
  {
   "cell_type": "code",
   "execution_count": null,
   "metadata": {},
   "outputs": [],
   "source": [
    "frac(a, frac(b, c)).div_in_denominator_reduction(\n",
    "        assumptions=[InSet(a, Complex), InSet(b, Complex), InSet(c, Complex),\n",
    "                    NotEquals(b, zero), NotEquals(c, zero)])"
   ]
  },
  {
   "cell_type": "code",
   "execution_count": null,
   "metadata": {},
   "outputs": [],
   "source": [
    "# and the div_in_denominator_reduction() should be integrated into the shallow_simplification() method\n",
    "frac(a, frac(b, c)).simplification(\n",
    "        assumptions=[InSet(a, Complex), InSet(b, Complex), InSet(c, Complex),\n",
    "                    NotEquals(b, zero), NotEquals(c, zero)])"
   ]
  },
  {
   "cell_type": "code",
   "execution_count": null,
   "metadata": {},
   "outputs": [],
   "source": [
    "%end demonstrations"
   ]
  }
 ],
 "metadata": {
  "kernelspec": {
   "display_name": "Python 3",
   "language": "python",
   "name": "python3"
  }
 },
 "nbformat": 4,
 "nbformat_minor": 0
}
