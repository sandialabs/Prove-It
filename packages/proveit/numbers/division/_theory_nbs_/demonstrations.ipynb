{
 "cells": [
  {
   "cell_type": "markdown",
   "metadata": {},
   "source": [
    "Demonstrations for the theory of <a class=\"ProveItLink\" href=\"theory.ipynb\">proveit.numbers.division</a>\n",
    "========"
   ]
  },
  {
   "cell_type": "code",
   "execution_count": null,
   "metadata": {},
   "outputs": [],
   "source": [
    "from proveit.logic import InSet, NotEquals\n",
    "from proveit.numbers import (zero, one, frac, Add, subtract, Sum, Mult,\n",
    "                             Less, LessEq, greater, greater_eq,\n",
    "                             Integer, Interval, Real, Complex)\n",
    "from proveit import a, b, c, d, w, x, y, z, Px\n",
    "%begin demonstrations"
   ]
  },
  {
   "cell_type": "code",
   "execution_count": null,
   "metadata": {},
   "outputs": [],
   "source": [
    "assumptions = [InSet(var, Complex) for var in [c, d, x, y, z]]\n",
    "assumptions = assumptions + [InSet(var, Integer) for var in [a, b]]\n",
    "assumptions += [NotEquals(var, zero) for var in [a, b, c, d]]\n",
    "#assupmtions += [InSet(var, Complex) for var in [c, d, x, y, z]]"
   ]
  },
  {
   "cell_type": "markdown",
   "metadata": {},
   "source": [
    "## Factorization"
   ]
  },
  {
   "cell_type": "code",
   "execution_count": null,
   "metadata": {},
   "outputs": [],
   "source": [
    "expr = frac(Add(a, b, c), d)"
   ]
  },
  {
   "cell_type": "code",
   "execution_count": null,
   "metadata": {},
   "outputs": [],
   "source": [
    "expr.factorization(frac(one, d), assumptions=assumptions)"
   ]
  },
  {
   "cell_type": "code",
   "execution_count": null,
   "metadata": {},
   "outputs": [],
   "source": [
    "expr.factorization(frac(one, d), pull='right', assumptions=assumptions)"
   ]
  },
  {
   "cell_type": "code",
   "execution_count": null,
   "metadata": {},
   "outputs": [],
   "source": [
    "expr.factorization(frac(expr.numerator, d), assumptions=assumptions)"
   ]
  },
  {
   "cell_type": "code",
   "execution_count": null,
   "metadata": {},
   "outputs": [],
   "source": [
    "expr.factorization(frac(expr.numerator, d), pull='right', assumptions=assumptions)"
   ]
  },
  {
   "cell_type": "code",
   "execution_count": null,
   "metadata": {},
   "outputs": [],
   "source": [
    "expr = frac(Mult(Add(a, b, c), b), d)"
   ]
  },
  {
   "cell_type": "code",
   "execution_count": null,
   "metadata": {},
   "outputs": [],
   "source": [
    "expr.factorization(frac(b, d), assumptions=assumptions)"
   ]
  },
  {
   "cell_type": "code",
   "execution_count": null,
   "metadata": {},
   "outputs": [],
   "source": [
    "expr.factorization(frac(b, d), pull='right', assumptions=assumptions)"
   ]
  },
  {
   "cell_type": "code",
   "execution_count": null,
   "metadata": {},
   "outputs": [],
   "source": [
    "expr = frac(Mult(Add(a, b, c), b), Mult(a, d))"
   ]
  },
  {
   "cell_type": "code",
   "execution_count": null,
   "metadata": {},
   "outputs": [],
   "source": [
    "expr.factorization(frac(b, d), assumptions=assumptions)"
   ]
  },
  {
   "cell_type": "code",
   "execution_count": null,
   "metadata": {},
   "outputs": [],
   "source": [
    "expr.factorization(frac(b, d), pull='right', assumptions=assumptions)"
   ]
  },
  {
   "cell_type": "code",
   "execution_count": null,
   "metadata": {},
   "outputs": [],
   "source": [
    "expr.factorization(frac(one, d), assumptions=assumptions)"
   ]
  },
  {
   "cell_type": "code",
   "execution_count": null,
   "metadata": {},
   "outputs": [],
   "source": [
    "expr.factorization(frac(one, d), pull='right', assumptions=assumptions)"
   ]
  },
  {
   "cell_type": "code",
   "execution_count": null,
   "metadata": {},
   "outputs": [],
   "source": [
    "expr.factorization(frac(expr.numerator, d), pull='right', assumptions=assumptions)"
   ]
  },
  {
   "cell_type": "code",
   "execution_count": null,
   "metadata": {},
   "outputs": [],
   "source": [
    "expr.factorization(frac(expr.numerator, d), pull='left', assumptions=assumptions)"
   ]
  },
  {
   "cell_type": "markdown",
   "metadata": {},
   "source": [
    "## Deduce bounds"
   ]
  },
  {
   "cell_type": "code",
   "execution_count": null,
   "metadata": {},
   "outputs": [],
   "source": [
    "assumptions = [InSet(var, Real) for var in [a, b, c, d, w, x, y]]\n",
    "assumptions += [greater(var, zero) for var in [a, x, y]] + [greater_eq(b, zero)]\n",
    "assumptions += [LessEq(c, zero)] + [Less(var, zero) for var in [d, w]]\n",
    "assumptions += [InSet(z, Real)]"
   ]
  },
  {
   "cell_type": "markdown",
   "metadata": {},
   "source": [
    "Bound by the numerator with a positive denominator"
   ]
  },
  {
   "cell_type": "code",
   "execution_count": null,
   "metadata": {},
   "outputs": [],
   "source": [
    "relation = greater(a, x)\n",
    "frac(a, y).deduce_bound(relation, assumptions+[relation])"
   ]
  },
  {
   "cell_type": "code",
   "execution_count": null,
   "metadata": {},
   "outputs": [],
   "source": [
    "relation = Less(a, x)\n",
    "frac(a, y).deduce_bound(relation, assumptions+[relation])"
   ]
  },
  {
   "cell_type": "code",
   "execution_count": null,
   "metadata": {},
   "outputs": [],
   "source": [
    "relation = greater_eq(a, x)\n",
    "frac(a, y).deduce_bound(relation, assumptions+[relation])"
   ]
  },
  {
   "cell_type": "code",
   "execution_count": null,
   "metadata": {},
   "outputs": [],
   "source": [
    "relation = LessEq(a, x)\n",
    "frac(a, y).deduce_bound(relation, assumptions+[relation])"
   ]
  },
  {
   "cell_type": "markdown",
   "metadata": {},
   "source": [
    "Bound by the numerator with a negative denominator"
   ]
  },
  {
   "cell_type": "code",
   "execution_count": null,
   "metadata": {},
   "outputs": [],
   "source": [
    "relation = greater(a, x)\n",
    "frac(a, d).deduce_bound(relation, assumptions+[relation])"
   ]
  },
  {
   "cell_type": "code",
   "execution_count": null,
   "metadata": {},
   "outputs": [],
   "source": [
    "relation = Less(a, x)\n",
    "frac(a, d).deduce_bound(relation, assumptions+[relation])"
   ]
  },
  {
   "cell_type": "code",
   "execution_count": null,
   "metadata": {},
   "outputs": [],
   "source": [
    "relation = greater_eq(a, x)\n",
    "frac(a, d).deduce_bound(relation, assumptions+[relation])"
   ]
  },
  {
   "cell_type": "code",
   "execution_count": null,
   "metadata": {},
   "outputs": [],
   "source": [
    "relation = LessEq(a, x)\n",
    "frac(a, d).deduce_bound(relation, assumptions+[relation])"
   ]
  },
  {
   "cell_type": "markdown",
   "metadata": {},
   "source": [
    "Bound by the denominator with everything positive"
   ]
  },
  {
   "cell_type": "code",
   "execution_count": null,
   "metadata": {},
   "outputs": [],
   "source": [
    "relation = greater(x, y)\n",
    "frac(a, x).deduce_bound(relation, assumptions+[relation])"
   ]
  },
  {
   "cell_type": "code",
   "execution_count": null,
   "metadata": {},
   "outputs": [],
   "source": [
    "relation = Less(x, y)\n",
    "frac(a, x).deduce_bound(relation, assumptions+[relation])"
   ]
  },
  {
   "cell_type": "code",
   "execution_count": null,
   "metadata": {},
   "outputs": [],
   "source": [
    "relation = greater_eq(x, y)\n",
    "frac(b, x).deduce_bound(relation, assumptions+[relation])"
   ]
  },
  {
   "cell_type": "code",
   "execution_count": null,
   "metadata": {},
   "outputs": [],
   "source": [
    "relation = LessEq(x, y)\n",
    "frac(b, x).deduce_bound(relation, assumptions+[relation])"
   ]
  },
  {
   "cell_type": "markdown",
   "metadata": {},
   "source": [
    "Bound by the denominator with everything negative"
   ]
  },
  {
   "cell_type": "code",
   "execution_count": null,
   "metadata": {},
   "outputs": [],
   "source": [
    "relation = greater(w, c)\n",
    "frac(w, d).deduce_bound(relation, assumptions+[relation])"
   ]
  },
  {
   "cell_type": "code",
   "execution_count": null,
   "metadata": {},
   "outputs": [],
   "source": [
    "relation = Less(w, c)\n",
    "frac(w, d).deduce_bound(relation, assumptions+[relation])"
   ]
  },
  {
   "cell_type": "code",
   "execution_count": null,
   "metadata": {},
   "outputs": [],
   "source": [
    "relation = greater_eq(c, w)\n",
    "frac(c, d).deduce_bound(relation, assumptions+[relation])"
   ]
  },
  {
   "cell_type": "code",
   "execution_count": null,
   "metadata": {},
   "outputs": [],
   "source": [
    "relation = LessEq(c, w)\n",
    "frac(c, d).deduce_bound(relation, assumptions+[relation])"
   ]
  },
  {
   "cell_type": "markdown",
   "metadata": {},
   "source": [
    "Bound by the denominator with the numerator positive and denominator negative"
   ]
  },
  {
   "cell_type": "code",
   "execution_count": null,
   "metadata": {},
   "outputs": [],
   "source": [
    "relation = greater(d, w)\n",
    "frac(a, d).deduce_bound(relation, assumptions+[relation])"
   ]
  },
  {
   "cell_type": "code",
   "execution_count": null,
   "metadata": {},
   "outputs": [],
   "source": [
    "relation = Less(d, w)\n",
    "frac(a, d).deduce_bound(relation, assumptions+[relation])"
   ]
  },
  {
   "cell_type": "code",
   "execution_count": null,
   "metadata": {},
   "outputs": [],
   "source": [
    "relation = greater_eq(d, w)\n",
    "frac(b, d).deduce_bound(relation, assumptions+[relation])"
   ]
  },
  {
   "cell_type": "code",
   "execution_count": null,
   "metadata": {},
   "outputs": [],
   "source": [
    "relation = LessEq(d, w)\n",
    "frac(b, d).deduce_bound(relation, assumptions+[relation])"
   ]
  },
  {
   "cell_type": "markdown",
   "metadata": {},
   "source": [
    "Bound by the denominator with the numerator negative and denominator positive"
   ]
  },
  {
   "cell_type": "code",
   "execution_count": null,
   "metadata": {},
   "outputs": [],
   "source": [
    "relation = greater(a, x)\n",
    "frac(d, a).deduce_bound(relation, assumptions+[relation])"
   ]
  },
  {
   "cell_type": "code",
   "execution_count": null,
   "metadata": {},
   "outputs": [],
   "source": [
    "relation = Less(a, x)\n",
    "frac(d, a).deduce_bound(relation, assumptions+[relation])"
   ]
  },
  {
   "cell_type": "code",
   "execution_count": null,
   "metadata": {},
   "outputs": [],
   "source": [
    "relation = greater_eq(a, x)\n",
    "frac(c, a).deduce_bound(relation, assumptions+[relation])"
   ]
  },
  {
   "cell_type": "code",
   "execution_count": null,
   "metadata": {},
   "outputs": [],
   "source": [
    "relation = LessEq(a, x)\n",
    "frac(c, a).deduce_bound(relation, assumptions+[relation])"
   ]
  },
  {
   "cell_type": "markdown",
   "metadata": {},
   "source": [
    "Bound numerator and denominator simulataneously"
   ]
  },
  {
   "cell_type": "code",
   "execution_count": null,
   "metadata": {},
   "outputs": [],
   "source": [
    "# Here, we automatically prove that z < 0 indirectly.\n",
    "relations = [Less(z, d), greater(a, x)]\n",
    "frac(a, d).deduce_bound(relations, assumptions+relations)"
   ]
  },
  {
   "cell_type": "code",
   "execution_count": null,
   "metadata": {},
   "outputs": [],
   "source": [
    "# Here, we automatically prove that z > 0 indirectly.\n",
    "relations = [LessEq(a, z), LessEq(c, d)]\n",
    "frac(c, a).deduce_bound(relations, assumptions+relations)"
   ]
  },
  {
   "cell_type": "code",
   "execution_count": null,
   "metadata": {},
   "outputs": [],
   "source": [
    "%end demonstrations"
   ]
  },
  {
   "cell_type": "markdown",
   "metadata": {},
   "source": [
    "*Broken demonstrations below need to be fixed*<br\\>\n",
    "*Shown as markdown instead of code temporarily*"
   ]
  },
  {
   "cell_type": "markdown",
   "metadata": {},
   "source": [
    "## Distribution"
   ]
  },
  {
   "cell_type": "markdown",
   "metadata": {},
   "source": [
    "expr.distribution(assumptions=assumptions)"
   ]
  },
  {
   "cell_type": "markdown",
   "metadata": {},
   "source": [
    "expr = frac(Sub(a, b), d)"
   ]
  },
  {
   "cell_type": "markdown",
   "metadata": {},
   "source": [
    "sub.distribute(assumptions=assumptions)"
   ]
  },
  {
   "cell_type": "markdown",
   "metadata": {},
   "source": [
    "expr = frac(Sum(x, Px, Interval(y, z)), d)"
   ]
  },
  {
   "cell_type": "markdown",
   "metadata": {},
   "source": [
    "expr.distribute(assumptions=assumptions)"
   ]
  },
  {
   "cell_type": "markdown",
   "metadata": {},
   "source": [
    "%end demonstrations"
   ]
  }
 ],
 "metadata": {
  "kernelspec": {
   "display_name": "Python 3",
   "language": "python",
   "name": "python3"
  }
 },
 "nbformat": 4,
 "nbformat_minor": 0
}
