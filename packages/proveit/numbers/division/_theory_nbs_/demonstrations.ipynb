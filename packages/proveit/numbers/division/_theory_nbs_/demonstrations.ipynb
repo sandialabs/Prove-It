{
 "cells": [
  {
   "cell_type": "markdown",
   "metadata": {},
   "source": [
    "Demonstrations for the theory of <a class=\"ProveItLink\" href=\"theory.ipynb\">proveit.numbers.division</a>\n",
    "========"
   ]
  },
  {
   "cell_type": "code",
   "execution_count": 1,
   "metadata": {},
   "outputs": [],
   "source": [
    "from proveit import defaults\n",
    "from proveit import a, b, c, d, m, n, w, x, y, z, P, S, Px\n",
    "from proveit.logic import Forall, InSet, NotEquals\n",
    "from proveit.numbers import (\n",
    "        zero, one, two, three, four, Add, frac, Div, Exp, greater,\n",
    "        greater_eq, Less, LessEq, Mult, Neg, num, subtract, Sum)\n",
    "from proveit.numbers import Complex, ComplexNonZero, Integer, Interval, Real\n",
    "%begin demonstrations"
   ]
  },
  {
   "cell_type": "code",
   "execution_count": 2,
   "metadata": {},
   "outputs": [],
   "source": [
    "assumptions = [InSet(var, Complex) for var in [a, b, c, d, x, y, z]]\n",
    "assumptions = assumptions + [InSet(var, Integer) for var in [a, b]]\n",
    "assumptions += [NotEquals(var, zero) for var in [a, b, c, d]]\n",
    "#assumptions += [InSet(var, Complex) for var in [c, d, x, y, z]]"
   ]
  },
  {
   "cell_type": "markdown",
   "metadata": {},
   "source": [
    "## Reducing rationals"
   ]
  },
  {
   "cell_type": "code",
   "execution_count": 3,
   "metadata": {},
   "outputs": [
    {
     "data": {
      "text/html": [
       "<span style=\"font-size:20px;\"> <a class=\"ProveItLink\" href=\"../__pv_it/demonstrations/11998f34ce02eb89e56c43c0a3a917ebb64f1d5e0/proof.ipynb\" style=\"text-decoration: none\">&nbsp;&#x22A2;&nbsp;&nbsp;</a><a class=\"ProveItLink\" href=\"../__pv_it/demonstrations/eae4fcd183f642a340d55dbc1aaf579489a653fb0/expr.ipynb\"><img src=\"data:image/png;base64,iVBORw0KGgoAAAANSUhEUgAAAGEAAAAqBAMAAABRtyg/AAAAMFBMVEX///8AAAAAAAAAAAAAAAAA\n",
       "AAAAAAAAAAAAAAAAAAAAAAAAAAAAAAAAAAAAAAAAAAAv3aB7AAAAD3RSTlMAEM3dMpmrdmaJIkTv\n",
       "u1QvnDACAAAACXBIWXMAAA7EAAAOxAGVKw4bAAABF0lEQVRIx2NgQABXBlKBGaka2EnW4aFGqo4J\n",
       "pOpgX0CqjhUMpOqYQKwORmVjEHDgWECqHcsZSNWxLS3tTyapwXuM5FTyF4sYFyp3AQov9n86po46\n",
       "VO52gtbyTUCwWQyB0dxASIcQgikW9BFIKhLSEYGcjEA6WgnpOICug0eAgDcU0HUwEfAI6wR0HZwJ\n",
       "WJQFgxMaOEOimAjWwaGA3w7mB+g6+A4w/EcGH9B08GwABjDYShOoDpYP+O0A6UC1g/sAfn9gcZUB\n",
       "fjt4CzB8fgG/DpSw5PyFHt5YAAuSG9hyPmUA3bmBQJlrgi6wmFCZ24ozaeIqc3kXoGXJC4TKXMYL\n",
       "uEzAWeYuR+VWDcoyFwaGeZmLF2Atc7EDAMeNUHiQscVVAAAAAElFTkSuQmCC\n",
       "\" style=\"display:inline;vertical-align:middle;\" /></a></span>"
      ],
      "text/plain": [
       "|- ((-4) / 4) = (-1)"
      ]
     },
     "metadata": {},
     "output_type": "display_data"
    }
   ],
   "source": [
    "frac(Neg(four), four).evaluation()"
   ]
  },
  {
   "cell_type": "code",
   "execution_count": 4,
   "metadata": {},
   "outputs": [
    {
     "data": {
      "text/html": [
       "<span style=\"font-size:20px;\"> <a class=\"ProveItLink\" href=\"../__pv_it/demonstrations/26ee9e8f10b3f11f3b92b653499e9861ea1ee9e90/proof.ipynb\" style=\"text-decoration: none\">&nbsp;&#x22A2;&nbsp;&nbsp;</a><a class=\"ProveItLink\" href=\"../__pv_it/demonstrations/21d7ee9e4054ae00185caf82b9df634856575de30/expr.ipynb\"><img src=\"data:image/png;base64,iVBORw0KGgoAAAANSUhEUgAAAGEAAAAqBAMAAABRtyg/AAAAMFBMVEX///8AAAAAAAAAAAAAAAAA\n",
       "AAAAAAAAAAAAAAAAAAAAAAAAAAAAAAAAAAAAAAAAAAAv3aB7AAAAD3RSTlMAMpndq3ZmzYkiRO+7\n",
       "EFRAb64nAAAACXBIWXMAAA7EAAAOxAGVKw4bAAABF0lEQVRIx2NggAAhBlKBCakaWEnWIVZCqo4G\n",
       "UnWwTiBVxzQGUnU0kKqDbQKpOqYykKpjiYvLbw9Sg3cLyankDw5xTlTuBDhL578rdh1xqNylBK3m\n",
       "a0CwGW2BUZ1ASMd1BPOK+l8gWUtIhxpyUgLpSCKkYwO6Du4LBLxRgK6DnYBHmBrQdXA4YFGmbAwC\n",
       "4EyJYiJYB1sBfjuYH6Dr4NvA8B8ZfEDTwb0AGMBgKw2hOhg/4LcDpAPVDq4N+P2BxVUG+O3gCcDw\n",
       "+QH8OlDCkuMnenhjAYxIbmDx/u4GdCeyz7CVvYboApMJlb1J+JIm1rKXZwJaljxAqOzlPYDPBKxl\n",
       "71RUbuSgLXt5i8HJSGAElL04Ac6yFxUAAFvVUlaZMlJrAAAAAElFTkSuQmCC\n",
       "\" style=\"display:inline;vertical-align:middle;\" /></a></span>"
      ],
      "text/plain": [
       "|- (4 / (-4)) = (-1)"
      ]
     },
     "metadata": {},
     "output_type": "display_data"
    }
   ],
   "source": [
    "frac(four, Neg(four)).evaluation()"
   ]
  },
  {
   "cell_type": "code",
   "execution_count": 5,
   "metadata": {},
   "outputs": [
    {
     "data": {
      "text/html": [
       "<span style=\"font-size:20px;\"> <a class=\"ProveItLink\" href=\"../__pv_it/demonstrations/f956962b34792de84b778e68722bb46d2667b1490/proof.ipynb\" style=\"text-decoration: none\">&nbsp;&#x22A2;&nbsp;&nbsp;</a><a class=\"ProveItLink\" href=\"../__pv_it/demonstrations/72f68249af4f2b764cc2d1f2c76e8cb084e45cc00/expr.ipynb\"><img src=\"data:image/png;base64,iVBORw0KGgoAAAANSUhEUgAAADgAAAAwBAMAAAC2+6RAAAAAMFBMVEX///8AAAAAAAAAAAAAAAAA\n",
       "AAAAAAAAAAAAAAAAAAAAAAAAAAAAAAAAAAAAAAAAAAAv3aB7AAAAD3RSTlMAzXZEVBAiZjKJmavv\n",
       "3bukDcS4AAAACXBIWXMAAA7EAAAOxAGVKw4bAAABMUlEQVQ4y2NgYGBgZMAD9PHIMfvjkQyKxyOp\n",
       "gEeSJQGPZDoDNkm2VXINQKpz5vopmJJ5DJyfwYz8AEzJbQwMZ0A0+/4lmJLnAxj2J+ByyV4Ghv0N\n",
       "eLx4H48cxycg8R8IPmCR5N2AR+c6PHLsYI1sJdrYnOXJwAb0CvcEpgNYnDOBgQkYNhwNnBcwJXNX\n",
       "rVoLcVcBFk/+//8RRDMJ4UtDcQr4wuIHTqmYBrbvOCV5A9iP4jZ0knYCA2Gw9i4I3GYgEvyHADRR\n",
       "fmyCVLOTAgDNFeiiM9cZIOcKFBDFwPIFKVegFQUOrB9x5gobA4aPeHIFy3c8ucK2AJEr0EHT7gY8\n",
       "uQLsWpy54nwAPFeggQ4GhvcO8FyBHs0BYElorkADpyHGwnMFCiiH+BOWK9BKy1XAgAcAyTprNdLD\n",
       "rB8AAAAASUVORK5CYII=\n",
       "\" style=\"display:inline;vertical-align:middle;\" /></a></span>"
      ],
      "text/plain": [
       "|- ((4 / 3) / 2) = (2 / 3)"
      ]
     },
     "metadata": {},
     "output_type": "display_data"
    }
   ],
   "source": [
    "frac(frac(four, three), two).evaluation()"
   ]
  },
  {
   "cell_type": "code",
   "execution_count": 6,
   "metadata": {},
   "outputs": [
    {
     "data": {
      "text/html": [
       "<span style=\"font-size:20px;\"> <a class=\"ProveItLink\" href=\"../__pv_it/demonstrations/b139d7b501908600e79ccfb1e53f470d457348cc0/proof.ipynb\" style=\"text-decoration: none\">&nbsp;&#x22A2;&nbsp;&nbsp;</a><a class=\"ProveItLink\" href=\"../__pv_it/demonstrations/36394d358c954703b1d6c69b001b9603d3d7acf30/expr.ipynb\"><img src=\"data:image/png;base64,iVBORw0KGgoAAAANSUhEUgAAADUAAAA4BAMAAACvVq2dAAAAMFBMVEX///8AAAAAAAAAAAAAAAAA\n",
       "AAAAAAAAAAAAAAAAAAAAAAAAAAAAAAAAAAAAAAAAAAAv3aB7AAAAD3RSTlMAzXZEVBAiZjKJmavv\n",
       "3bukDcS4AAAACXBIWXMAAA7EAAAOxAGVKw4bAAABDElEQVQ4y2NgAAIBBpyA6QNuORPccqyquOWY\n",
       "WHHLueGWYyvALccxc9ZPB5yGsn3F7YfqX7j1UR/w/wcCahua7rQDp9xOBh2cch0Mc/GYeh23lKIC\n",
       "ZhCvkmuARPwjDLk8Bs7PEFZ/A7rcNgaGMyBdJxjyC9Dlzgcw7E8A0lcZagLQ5fYyMOwHGdaptA2b\n",
       "C++j8LjugsEGSFL5hNtjvEAl/yEAQ24dbm3sGxhw2ufJwAbyQ+TsrZiJdgIDE8hjCxjWYsjlrloF\n",
       "FvzMkI8RZvf///8IokuxyCEAnrjluIpbLi8AdzZaAPYKdm0dXTg1nqd+kh+2+QhRgD7CY2Y/rnjH\n",
       "mo9gAFs+ggEc+YiBAQB0rV+QwNqyYgAAAABJRU5ErkJggg==\n",
       "\" style=\"display:inline;vertical-align:middle;\" /></a></span>"
      ],
      "text/plain": [
       "|- ((4 / 3) / (2 / 3)) = 2"
      ]
     },
     "metadata": {},
     "output_type": "display_data"
    }
   ],
   "source": [
    "frac(frac(four, three), frac(two, three)).evaluation()"
   ]
  },
  {
   "cell_type": "code",
   "execution_count": 7,
   "metadata": {},
   "outputs": [
    {
     "data": {
      "text/html": [
       "<span style=\"font-size:20px;\"><a class=\"ProveItLink\" href=\"../__pv_it/theorems/e9f87a0977d5044ea8daf1040d2f219396bb3d5b0/expr.ipynb\"><img src=\"data:image/png;base64,iVBORw0KGgoAAAANSUhEUgAAADMAAAAQBAMAAABJt1qBAAAAMFBMVEX///8AAAAAAAAAAAAAAAAA\n",
       "AAAAAAAAAAAAAAAAAAAAAAAAAAAAAAAAAAAAAAAAAAAv3aB7AAAAD3RSTlMAIquJdkTvuxBmmd1U\n",
       "zTKBpmoTAAAACXBIWXMAAA7EAAAOxAGVKw4bAAAA0ElEQVQY02NgwAKaq+86PsYmwcCiNoFjfRVW\n",
       "qSXBDAycWKX4FlQASS0UMffduy8AKaaGAiDZiSwT6wGh2RkXQEUYlR0dwPQNqIAQnwGUFSbA/gNE\n",
       "8wpABR6zToAwODIZuDaApWAGS7E6QBhcHxi4wQY82w0EBWC7oAayFTD0B4AY7TBd7GAXAkG/A8N8\n",
       "MIMbJsUK9hcrUOoAgy4PyAUsDvDQCAISa4HaHXh2cYFF7sDDsHYhx2mg3zhU7IT8wCJNpQ2wkC/7\n",
       "vRA18IKrwQEFAwCqvi28/xxvKQAAAABJRU5ErkJggg==\n",
       "\" style=\"display:inline;vertical-align:middle;\" /></a>, <a class=\"ProveItLink\" href=\"../__pv_it/theorems/a259ec76dfb0a5be60b7c83d797520fa82c1dba60/expr.ipynb\"><img src=\"data:image/png;base64,iVBORw0KGgoAAAANSUhEUgAAADEAAAAQBAMAAABNQoq8AAAAMFBMVEX///8AAAAAAAAAAAAAAAAA\n",
       "AAAAAAAAAAAAAAAAAAAAAAAAAAAAAAAAAAAAAAAAAAAv3aB7AAAAD3RSTlMAELvv3c2ZVESJq3Yi\n",
       "MmZ3LnoBAAAACXBIWXMAAA7EAAAOxAGVKw4bAAAA2UlEQVQY02NgwASSKqF7bjIwMCo7oElwL37A\n",
       "mK8GZLAmoMlkdzIw8IFk+AtQJXgTFIHkMiDuF4AKbXJxCQBSXAIKQFIOiKdAJVo3QmgmHpjxUbuX\n",
       "gyieQCj/FO8ECIPxq4D8AZBDDkBlbnI8gDDYPzIwbwDJwFxwjGMDhMEWwMAP0n7ZBQgUwPZATWOZ\n",
       "wNAPcrcQTA8T2G0Q7+SD3M0Ck+EA+4cDKHOB0Q4cJhvgYdAFJFKBHnvABHF/ODzcVHMYS4BijCvz\n",
       "IAJSGrDAkFT+koMSYJ0q4NCBAQD6uylQEVfDpgAAAABJRU5ErkJggg==\n",
       "\" style=\"display:inline;vertical-align:middle;\" /></a>, <a class=\"ProveItLink\" href=\"../../addition/subtraction/__pv_it/theorems/b66b5547fa9b0b910f79351152926c658c2718190/expr.ipynb\"><img src=\"data:image/png;base64,iVBORw0KGgoAAAANSUhEUgAAADEAAAAQBAMAAABNQoq8AAAAMFBMVEX///8AAAAAAAAAAAAAAAAA\n",
       "AAAAAAAAAAAAAAAAAAAAAAAAAAAAAAAAAAAAAAAAAAAv3aB7AAAAD3RSTlMAiXZmMiLdVJm77xBE\n",
       "zatgdeJyAAAACXBIWXMAAA7EAAAOxAGVKw4bAAAAw0lEQVQY02NgwAQbp91VdcQizsD0yoC7fwY2\n",
       "maaDDAzM2GRYGmYDyRfIQpppaReAFN+GCUByM5LEWW0IzcnaABMSUnYAkqy3odw4FgEoK6yAA6Sd\n",
       "NwDKd+QxgLISGbgUQDIwIyJ4FCAMjt8Q2isNCCaA7YGaxjUBQu+E6eHcABXZD9XLBpPhAfuHh4GB\n",
       "H2jfAVCYKMDD4ByQ6AXaM4GBEeRqhuvwcJvbyl0G8pOgMcSL++ZsgIX1rG+tKAF2cBo4dGAAAHWD\n",
       "KgtwTxl0AAAAAElFTkSuQmCC\n",
       "\" style=\"display:inline;vertical-align:middle;\" /></a>, <a class=\"ProveItLink\" href=\"../__pv_it/demonstrations/1034b099268ebc68ab71d757a423d98a8a315f520/expr.ipynb\"><img src=\"data:image/png;base64,iVBORw0KGgoAAAANSUhEUgAAAC8AAAAUCAMAAAAqRJTwAAAAPFBMVEX///8AAAAAAAAAAAAAAAAA\n",
       "AAAAAAAAAAAAAAAAAAAAAAAAAAAAAAAAAAAAAAAAAAAAAAAAAAAAAAAAAAAo1xBWAAAAE3RSTlMA\n",
       "iXZmMiLdVJm77xBEq83n9enzzp4SPQAAAAlwSFlzAAAOxAAADsQBlSsOGwAAAMxJREFUKM+VkusS\n",
       "hCAIhVFMUcu9+P7vuorjrrXGjPywmA4fBxLgPijCShg/Zkpp2kS9N0OSHEC0UoE5hgQt9/ASfoR5\n",
       "Lnb5fqJ9xEMmbpldm0VrNBd9GvGx67Gcmy1V1K2R5Xg869l7bFk1vS6nre9BC/ifvjxoNsROpzQ2\n",
       "/V75YbakdNl08+/KvDGfnbD/17tN8d2RZyhWKzxz6XXCXy1iYFaCvhk17tPRn8G6wxhMu0mIOor4\n",
       "oiWlDzP/tU4t3eMZXgpcxNs1PBjp4wcaEgV/DsHsSgAAAABJRU5ErkJggg==\n",
       "\" style=\"display:inline;vertical-align:middle;\" /></a> <a class=\"ProveItLink\" href=\"../__pv_it/demonstrations/3df77d4573aeacb34db9f215eb000c62fabd4d740/proof.ipynb\" style=\"text-decoration: none\">&nbsp;&#x22A2;&nbsp;&nbsp;</a><a class=\"ProveItLink\" href=\"../__pv_it/demonstrations/20c9dc85cdabcbc07eb154a7d89c51ad1a99fbc10/expr.ipynb\"><img src=\"data:image/png;base64,iVBORw0KGgoAAAANSUhEUgAAAJwAAAA4BAMAAAD6G4yGAAAAMFBMVEX///8AAAAAAAAAAAAAAAAA\n",
       "AAAAAAAAAAAAAAAAAAAAAAAAAAAAAAAAAAAAAAAAAAAv3aB7AAAAD3RSTlMAzXZEVBAiZjKJmavv\n",
       "3bukDcS4AAAACXBIWXMAAA7EAAAOxAGVKw4bAAACiklEQVRYw2NgYGBgZKAq0Keqacz+VDUuKJ6q\n",
       "xingMo71zQXSTWNJwOk6xgWkG5fOgNM4fgdMMbZVcg3YVcedBZGdM9dPwWGcfQCmWB4D52ccyqUg\n",
       "VH4ADvm5WMS2MTCcwaH8C5hk378EyS871RTgHGmlLRh6zgcw7E/AnuC+YorZJPDBRVk/BsRj6NzL\n",
       "wLAfe+BxYqYD1uMMXHBRlq8MPApY9N1HMLMnJSHSwSZtpKhj/QgkuD4w8E6AcwQY+CdgmsbxCeG/\n",
       "Ywzv4QEfL8r6jYHhPxB8AHFvATHPA4Z4AxgHaLA9lqTCuwHOjClgWAvn+AcwHEJTGq/AUI+c7NZj\n",
       "ifR1cL8wrGdguAnnLGRg+IlunAPDRhZY8PM3AIMSA7BDHAdyPsM5BtbPcM5NBmZgUmEr0UbEFJ8C\n",
       "yy0uGIe7gA9LLvNkYIPZx/qJgf0DUrLjAiYK7glMBxDxsWlGtgacs3M5loiYwMAECwHWLwzcAm4w\n",
       "mR+goGTgaOAkpeDIXbUKEfqPGHwXwD2wneEVJKoKSDDu/v//H+GcaM22TfCQip4FNodJiLp1RZwC\n",
       "VY3j+EFFw2Ia2L5T0TjeAPaj1PTqJO0EBrqCtXdB4DYD/cF/AgC9ciNJ9WANu8jZW6npggVIxTQV\n",
       "wGeG/AYqGldKXeOwNyEoyGxXqWpcXgA1TWNbwEbNkiCvo4sM53EqVWCXOI+S4XAqQ/PSFUibgDrK\n",
       "QK2YQ9RThrUJgyh4wK0UAXzK0MA5wg5bQJQyWBuFisoYGIBVIDOO7oXTDmKUYTT1ZmCX2cmgQ4wy\n",
       "tGQ3vQhHKHcgFwG4lREPrlO1CFCkbsOH9RF166t+KpbGrCcY8guo6LarDDXULD87lbZRwRQAaoHs\n",
       "a7J6SsMAAAAASUVORK5CYII=\n",
       "\" style=\"display:inline;vertical-align:middle;\" /></a></span>"
      ],
      "text/plain": [
       "{a in Complex, b in Complex, c in Complex, c != 0} |- (((4 / 3) * a * b) / ((2 / 3) * c)) = ((2 * a * b) / c)"
      ]
     },
     "metadata": {},
     "output_type": "display_data"
    }
   ],
   "source": [
    "frac(Mult(frac(four, three), a, b), Mult(frac(two, three), c)).simplification(assumptions=assumptions)"
   ]
  },
  {
   "cell_type": "markdown",
   "metadata": {},
   "source": [
    "## Factorization"
   ]
  },
  {
   "cell_type": "code",
   "execution_count": 8,
   "metadata": {},
   "outputs": [
    {
     "data": {
      "text/html": [
       "<strong id=\"expr_01\">expr_01:</strong> <a class=\"ProveItLink\" href=\"../__pv_it/demonstrations/2cd5fb79d140c239824e711e25e4ba973f8ad5890/expr.ipynb\"><img src=\"data:image/png;base64,iVBORw0KGgoAAAANSUhEUgAAAFAAAAArBAMAAAAd2hKcAAAAMFBMVEX///8AAAAAAAAAAAAAAAAA\n",
       "AAAAAAAAAAAAAAAAAAAAAAAAAAAAAAAAAAAAAAAAAAAv3aB7AAAAD3RSTlMAIquJdkTvuxBmmd1U\n",
       "zTKBpmoTAAAACXBIWXMAAA7EAAAOxAGVKw4bAAABOElEQVQ4y2NgwAAcZRsYiAO8CwgoiITS/Aeg\n",
       "DNYJ2BUegdLxDVAGjwN+hdYMWBUyKjs6oCq85KKDppDZZR4DQ5gA+w8UhRx/G/oFUBQy7mFYzsCR\n",
       "ycC1AUUhzw8GNgcUhdwGDCkMXB9ANAPD6t2703bv3gRkcV1g4AeKcO3evS17924FoMh6kO/YChj6\n",
       "A1BMBOqLP4BiYjqI6HdgmI/qa2Awrm9AVsjxBazwAIMujwCKwgdAd6OY+BMY9gzsDjy7uFBMZJrA\n",
       "vgBV4XIGBjsGDhU7IT/U4FFeiRbgzJZTGrDFDAMDgSiMRBfAlShGASb4TyQY/iHBd20BkSrhpQ8h\n",
       "EN9ApEJrYh15iyhVjMp+f4hSiCi18ANQqXWBGIWwUosgQCq18AOkUouAQkSphR8glVoEfI0otZAB\n",
       "AJ1mccbhc0EzAAAAAElFTkSuQmCC\n",
       "\" style=\"display:inline;vertical-align:middle;\" /></a><br>"
      ],
      "text/plain": [
       "<IPython.core.display.HTML object>"
      ]
     },
     "metadata": {},
     "output_type": "display_data"
    }
   ],
   "source": [
    "expr_01 = frac(Add(a, b, c), d)"
   ]
  },
  {
   "cell_type": "code",
   "execution_count": 9,
   "metadata": {},
   "outputs": [
    {
     "data": {
      "text/html": [
       "<span style=\"font-size:20px;\"><a class=\"ProveItLink\" href=\"../__pv_it/theorems/e9f87a0977d5044ea8daf1040d2f219396bb3d5b0/expr.ipynb\"><img src=\"data:image/png;base64,iVBORw0KGgoAAAANSUhEUgAAADMAAAAQBAMAAABJt1qBAAAAMFBMVEX///8AAAAAAAAAAAAAAAAA\n",
       "AAAAAAAAAAAAAAAAAAAAAAAAAAAAAAAAAAAAAAAAAAAv3aB7AAAAD3RSTlMAIquJdkTvuxBmmd1U\n",
       "zTKBpmoTAAAACXBIWXMAAA7EAAAOxAGVKw4bAAAA0ElEQVQY02NgwAKaq+86PsYmwcCiNoFjfRVW\n",
       "qSXBDAycWKX4FlQASS0UMffduy8AKaaGAiDZiSwT6wGh2RkXQEUYlR0dwPQNqIAQnwGUFSbA/gNE\n",
       "8wpABR6zToAwODIZuDaApWAGS7E6QBhcHxi4wQY82w0EBWC7oAayFTD0B4AY7TBd7GAXAkG/A8N8\n",
       "MIMbJsUK9hcrUOoAgy4PyAUsDvDQCAISa4HaHXh2cYFF7sDDsHYhx2mg3zhU7IT8wCJNpQ2wkC/7\n",
       "vRA18IKrwQEFAwCqvi28/xxvKQAAAABJRU5ErkJggg==\n",
       "\" style=\"display:inline;vertical-align:middle;\" /></a>, <a class=\"ProveItLink\" href=\"../__pv_it/theorems/a259ec76dfb0a5be60b7c83d797520fa82c1dba60/expr.ipynb\"><img src=\"data:image/png;base64,iVBORw0KGgoAAAANSUhEUgAAADEAAAAQBAMAAABNQoq8AAAAMFBMVEX///8AAAAAAAAAAAAAAAAA\n",
       "AAAAAAAAAAAAAAAAAAAAAAAAAAAAAAAAAAAAAAAAAAAv3aB7AAAAD3RSTlMAELvv3c2ZVESJq3Yi\n",
       "MmZ3LnoBAAAACXBIWXMAAA7EAAAOxAGVKw4bAAAA2UlEQVQY02NgwASSKqF7bjIwMCo7oElwL37A\n",
       "mK8GZLAmoMlkdzIw8IFk+AtQJXgTFIHkMiDuF4AKbXJxCQBSXAIKQFIOiKdAJVo3QmgmHpjxUbuX\n",
       "gyieQCj/FO8ECIPxq4D8AZBDDkBlbnI8gDDYPzIwbwDJwFxwjGMDhMEWwMAP0n7ZBQgUwPZATWOZ\n",
       "wNAPcrcQTA8T2G0Q7+SD3M0Ck+EA+4cDKHOB0Q4cJhvgYdAFJFKBHnvABHF/ODzcVHMYS4BijCvz\n",
       "IAJSGrDAkFT+koMSYJ0q4NCBAQD6uylQEVfDpgAAAABJRU5ErkJggg==\n",
       "\" style=\"display:inline;vertical-align:middle;\" /></a>, <a class=\"ProveItLink\" href=\"../../addition/subtraction/__pv_it/theorems/b66b5547fa9b0b910f79351152926c658c2718190/expr.ipynb\"><img src=\"data:image/png;base64,iVBORw0KGgoAAAANSUhEUgAAADEAAAAQBAMAAABNQoq8AAAAMFBMVEX///8AAAAAAAAAAAAAAAAA\n",
       "AAAAAAAAAAAAAAAAAAAAAAAAAAAAAAAAAAAAAAAAAAAv3aB7AAAAD3RSTlMAiXZmMiLdVJm77xBE\n",
       "zatgdeJyAAAACXBIWXMAAA7EAAAOxAGVKw4bAAAAw0lEQVQY02NgwAQbp91VdcQizsD0yoC7fwY2\n",
       "maaDDAzM2GRYGmYDyRfIQpppaReAFN+GCUByM5LEWW0IzcnaABMSUnYAkqy3odw4FgEoK6yAA6Sd\n",
       "NwDKd+QxgLISGbgUQDIwIyJ4FCAMjt8Q2isNCCaA7YGaxjUBQu+E6eHcABXZD9XLBpPhAfuHh4GB\n",
       "H2jfAVCYKMDD4ByQ6AXaM4GBEeRqhuvwcJvbyl0G8pOgMcSL++ZsgIX1rG+tKAF2cBo4dGAAAHWD\n",
       "KgtwTxl0AAAAAElFTkSuQmCC\n",
       "\" style=\"display:inline;vertical-align:middle;\" /></a>, <a class=\"ProveItLink\" href=\"../__pv_it/theorems/d6724abdc9486f838f4cf63bc1115e85255ce4c00/expr.ipynb\"><img src=\"data:image/png;base64,iVBORw0KGgoAAAANSUhEUgAAADMAAAAQBAMAAABJt1qBAAAAMFBMVEX///8AAAAAAAAAAAAAAAAA\n",
       "AAAAAAAAAAAAAAAAAAAAAAAAAAAAAAAAAAAAAAAAAAAv3aB7AAAAD3RSTlMAMs3vmVREEIndIqt2\n",
       "u2aBbGR5AAAACXBIWXMAAA7EAAAOxAGVKw4bAAAA4UlEQVQY02NgwAIqbiqdkgCzGJUdUGR4Nj9g\n",
       "978CYfMHoEj5ZDAw8EGl8guQZRgdrgPJLRBOJ4Q6O3OmApDiLrgAJOsgYipgMuk4hMfLBbOaa8fB\n",
       "r2BaHSqwmrEBykpewPsdRDMtgApIsD2AMNjtGFgUwFIwZyxhOwBhsHxg4AQbIDwTCC6A7YIayHyB\n",
       "oT4BxKiF6eIFuxAI6g8wvAczOGFSbGB/sQGlAhg2sYJcwHMAHhrZQMIJqP0A6xQWsIgqPAwvebFH\n",
       "Av3Gvqdx9UGwSPU1WHhVXP7phRoXGTfBAQUDAJ+SNfXA0lXRAAAAAElFTkSuQmCC\n",
       "\" style=\"display:inline;vertical-align:middle;\" /></a>, <a class=\"ProveItLink\" href=\"../__pv_it/demonstrations/4a82d58b126555a18b104ddba47c5351567eeaea0/expr.ipynb\"><img src=\"data:image/png;base64,iVBORw0KGgoAAAANSUhEUgAAADEAAAAUCAMAAAATIyWrAAAAPFBMVEX///8AAAAAAAAAAAAAAAAA\n",
       "AAAAAAAAAAAAAAAAAAAAAAAAAAAAAAAAAAAAAAAAAAAAAAAAAAAAAAAAAAAo1xBWAAAAE3RSTlMA\n",
       "Ms3vmVREEIndIqt2u2bn9enzePXnUgAAAAlwSFlzAAAOxAAADsQBlSsOGwAAAOJJREFUKM+VkukS\n",
       "hSAIhQU3zOUuvv+7XrHphjk5Ez8qoePHUZRahfH3NUBt5mSWK6JkNpmodlJkEAtsdR+ExNWpA4hi\n",
       "UULnCCqFGSF7yF1uxb442XBxaLrXYe99i5RgtoES4Q9F4b10K+UTZ0KP15ufB2ertCtSU2uWGVwi\n",
       "TkV7mcqfga4uRl9+Vzhm6NwTbok4nNtm17NKlSpGg/v/fHc3//PK/SZKs+v7IUVUdtgUr/dZtDrs\n",
       "5sawwaihbzsPWeAp0Tw3PiaCLSZYItp/hlKEu0m2pB4G+oeC8hgRniIUrIo/FvAG9zLswUoAAAAA\n",
       "SUVORK5CYII=\n",
       "\" style=\"display:inline;vertical-align:middle;\" /></a> <a class=\"ProveItLink\" href=\"../__pv_it/demonstrations/61e343d15f665f7828a047cfbc57051ca6ec95490/proof.ipynb\" style=\"text-decoration: none\">&nbsp;&#x22A2;&nbsp;&nbsp;</a><a class=\"ProveItLink\" href=\"../__pv_it/demonstrations/c19e7cd795add81b104c0dea06236797268c65a70/expr.ipynb\"><img src=\"data:image/png;base64,iVBORw0KGgoAAAANSUhEUgAAAQYAAAAyBAMAAABMh2gAAAAAMFBMVEX///8AAAAAAAAAAAAAAAAA\n",
       "AAAAAAAAAAAAAAAAAAAAAAAAAAAAAAAAAAAAAAAAAAAv3aB7AAAAD3RSTlMAIquJdkTvuxBmmd1U\n",
       "zTKBpmoTAAAACXBIWXMAAA7EAAAOxAGVKw4bAAADp0lEQVRYw61ZTWjUUBCedv+S7F8oxUsPFrYU\n",
       "RIVSexNkix4UpO1BBE+7erAqCEFEBEFDD94ke9VL91pKaVERaVAiePOyKIh4qhcvUrrVLlbZVl/6\n",
       "0k1e8jY7m5c5JLuzvJkv82bme5MFEJGHICbSfRCVwZqohR96F3D31pAWSval8FoAQ66bq3wdZ0Bu\n",
       "kMvCyq5IICZ9368496LlU3SRI6p9TQphyPq2871zr+g+RRd5CeIYcjf4GE4DCoNcjQEDfLUvA6Xp\n",
       "Muvy47kTPgxTFzaCq9MTcWCo2Bt6Wc3sMi6lPd1QGQwjlqIFV8/qcWDIjxKPN0FZYzDkdiFdZjC8\n",
       "OFQw8hziwEC8gdKErB3UZdO8bpq2XaUBxQlGwfVS2I8Fg7RDdlUDY46JA4FUsbyKtMZtktVYMMAD\n",
       "AKMMi2wZkPawqnsVRpm3Nj0aD4ZFFQwLTuaYFCxukBxhFKSPzAXWbtXiwWDUIFPOrSuMy8Faps4o\n",
       "SFEkgrU5S4FDYptRD6Cdq514SmNnhmbY2iwt+XrUqafngybuOYjH94551RfRGC7RW2aN1ycB1Sfn\n",
       "+aU2gWbiJN3MRJPHWd0VXrt/ueonfTDxF9ryW5FTqbDDVS/1wcTPwgyh+lubq672wcRpPSSgqAPM\n",
       "PhdZow8mztOE+BkZQ3Kbp1XslByaGgYMEydol/vdl19CISalEJLO3NZkP1rqKjzSMUws06DdjhwH\n",
       "PpFlSfI9rsEyYJg4R5PHhH9ICVAWLeti50fDfqo06emrtgsMExeoiVfRZ4umPwR1B8M8SC3AMHGq\n",
       "GgGDNx+67gU5EMhNFBM7w4UZOQ4Jbl1kyiC1YbDxDhBMLGuCOZnk9ge73O7Ch3odw8QK5ZZrMfeo\n",
       "AgnvwtlvYxsYJs7SQwm/TxY+9572ci7VbN5y1W8Bz8QjFOAvvoMOx4Rw1h/3c9vPQzgmXgrlrIre\n",
       "ezPcEKY8JZJR0bs5oIWRn8sxIfLGTUTPCUXS0BgcuHzicYbAHjLOP6EMozFMd2l2dACdaWPO5M5+\n",
       "DU1tWSAg3OnFHUBDxfHsYclocpQzvdgDaAODn7I/YckV0RknSMrOANqTvCnjHLJkZDnO3x9jDrE2\n",
       "1XKO+FJLCAOvPXgG0HBZd8ZmuSkCQeblnmcARRSGlyWjvRQb5dJvZwDtkZQHWeNhyejvggJ14Q6g\n",
       "mCh6WDKS3BGb2j+BuKQE3xx8V8UxZC2x9UlNHMOkqIGS+FY0RC3kLVELm7rwYwj/h3LwCuI//zNP\n",
       "kxAgOSgAAAAASUVORK5CYII=\n",
       "\" style=\"display:inline;vertical-align:middle;\" /></a></span>"
      ],
      "text/plain": [
       "{a in Complex, b in Complex, c in Complex, d in Complex, d != 0} |- ((a + b + c) / d) = ((1 / d) * (a + b + c))"
      ]
     },
     "metadata": {},
     "output_type": "display_data"
    }
   ],
   "source": [
    "expr_01.factorization(frac(one, d), assumptions=assumptions)"
   ]
  },
  {
   "cell_type": "code",
   "execution_count": 10,
   "metadata": {},
   "outputs": [
    {
     "data": {
      "text/html": [
       "<span style=\"font-size:20px;\"><a class=\"ProveItLink\" href=\"../__pv_it/theorems/e9f87a0977d5044ea8daf1040d2f219396bb3d5b0/expr.ipynb\"><img src=\"data:image/png;base64,iVBORw0KGgoAAAANSUhEUgAAADMAAAAQBAMAAABJt1qBAAAAMFBMVEX///8AAAAAAAAAAAAAAAAA\n",
       "AAAAAAAAAAAAAAAAAAAAAAAAAAAAAAAAAAAAAAAAAAAv3aB7AAAAD3RSTlMAIquJdkTvuxBmmd1U\n",
       "zTKBpmoTAAAACXBIWXMAAA7EAAAOxAGVKw4bAAAA0ElEQVQY02NgwAKaq+86PsYmwcCiNoFjfRVW\n",
       "qSXBDAycWKX4FlQASS0UMffduy8AKaaGAiDZiSwT6wGh2RkXQEUYlR0dwPQNqIAQnwGUFSbA/gNE\n",
       "8wpABR6zToAwODIZuDaApWAGS7E6QBhcHxi4wQY82w0EBWC7oAayFTD0B4AY7TBd7GAXAkG/A8N8\n",
       "MIMbJsUK9hcrUOoAgy4PyAUsDvDQCAISa4HaHXh2cYFF7sDDsHYhx2mg3zhU7IT8wCJNpQ2wkC/7\n",
       "vRA18IKrwQEFAwCqvi28/xxvKQAAAABJRU5ErkJggg==\n",
       "\" style=\"display:inline;vertical-align:middle;\" /></a>, <a class=\"ProveItLink\" href=\"../__pv_it/theorems/a259ec76dfb0a5be60b7c83d797520fa82c1dba60/expr.ipynb\"><img src=\"data:image/png;base64,iVBORw0KGgoAAAANSUhEUgAAADEAAAAQBAMAAABNQoq8AAAAMFBMVEX///8AAAAAAAAAAAAAAAAA\n",
       "AAAAAAAAAAAAAAAAAAAAAAAAAAAAAAAAAAAAAAAAAAAv3aB7AAAAD3RSTlMAELvv3c2ZVESJq3Yi\n",
       "MmZ3LnoBAAAACXBIWXMAAA7EAAAOxAGVKw4bAAAA2UlEQVQY02NgwASSKqF7bjIwMCo7oElwL37A\n",
       "mK8GZLAmoMlkdzIw8IFk+AtQJXgTFIHkMiDuF4AKbXJxCQBSXAIKQFIOiKdAJVo3QmgmHpjxUbuX\n",
       "gyieQCj/FO8ECIPxq4D8AZBDDkBlbnI8gDDYPzIwbwDJwFxwjGMDhMEWwMAP0n7ZBQgUwPZATWOZ\n",
       "wNAPcrcQTA8T2G0Q7+SD3M0Ck+EA+4cDKHOB0Q4cJhvgYdAFJFKBHnvABHF/ODzcVHMYS4BijCvz\n",
       "IAJSGrDAkFT+koMSYJ0q4NCBAQD6uylQEVfDpgAAAABJRU5ErkJggg==\n",
       "\" style=\"display:inline;vertical-align:middle;\" /></a>, <a class=\"ProveItLink\" href=\"../../addition/subtraction/__pv_it/theorems/b66b5547fa9b0b910f79351152926c658c2718190/expr.ipynb\"><img src=\"data:image/png;base64,iVBORw0KGgoAAAANSUhEUgAAADEAAAAQBAMAAABNQoq8AAAAMFBMVEX///8AAAAAAAAAAAAAAAAA\n",
       "AAAAAAAAAAAAAAAAAAAAAAAAAAAAAAAAAAAAAAAAAAAv3aB7AAAAD3RSTlMAiXZmMiLdVJm77xBE\n",
       "zatgdeJyAAAACXBIWXMAAA7EAAAOxAGVKw4bAAAAw0lEQVQY02NgwAQbp91VdcQizsD0yoC7fwY2\n",
       "maaDDAzM2GRYGmYDyRfIQpppaReAFN+GCUByM5LEWW0IzcnaABMSUnYAkqy3odw4FgEoK6yAA6Sd\n",
       "NwDKd+QxgLISGbgUQDIwIyJ4FCAMjt8Q2isNCCaA7YGaxjUBQu+E6eHcABXZD9XLBpPhAfuHh4GB\n",
       "H2jfAVCYKMDD4ByQ6AXaM4GBEeRqhuvwcJvbyl0G8pOgMcSL++ZsgIX1rG+tKAF2cBo4dGAAAHWD\n",
       "KgtwTxl0AAAAAElFTkSuQmCC\n",
       "\" style=\"display:inline;vertical-align:middle;\" /></a>, <a class=\"ProveItLink\" href=\"../__pv_it/theorems/d6724abdc9486f838f4cf63bc1115e85255ce4c00/expr.ipynb\"><img src=\"data:image/png;base64,iVBORw0KGgoAAAANSUhEUgAAADMAAAAQBAMAAABJt1qBAAAAMFBMVEX///8AAAAAAAAAAAAAAAAA\n",
       "AAAAAAAAAAAAAAAAAAAAAAAAAAAAAAAAAAAAAAAAAAAv3aB7AAAAD3RSTlMAMs3vmVREEIndIqt2\n",
       "u2aBbGR5AAAACXBIWXMAAA7EAAAOxAGVKw4bAAAA4UlEQVQY02NgwAIqbiqdkgCzGJUdUGR4Nj9g\n",
       "978CYfMHoEj5ZDAw8EGl8guQZRgdrgPJLRBOJ4Q6O3OmApDiLrgAJOsgYipgMuk4hMfLBbOaa8fB\n",
       "r2BaHSqwmrEBykpewPsdRDMtgApIsD2AMNjtGFgUwFIwZyxhOwBhsHxg4AQbIDwTCC6A7YIayHyB\n",
       "oT4BxKiF6eIFuxAI6g8wvAczOGFSbGB/sQGlAhg2sYJcwHMAHhrZQMIJqP0A6xQWsIgqPAwvebFH\n",
       "Av3Gvqdx9UGwSPU1WHhVXP7phRoXGTfBAQUDAJ+SNfXA0lXRAAAAAElFTkSuQmCC\n",
       "\" style=\"display:inline;vertical-align:middle;\" /></a>, <a class=\"ProveItLink\" href=\"../__pv_it/demonstrations/4a82d58b126555a18b104ddba47c5351567eeaea0/expr.ipynb\"><img src=\"data:image/png;base64,iVBORw0KGgoAAAANSUhEUgAAADEAAAAUCAMAAAATIyWrAAAAPFBMVEX///8AAAAAAAAAAAAAAAAA\n",
       "AAAAAAAAAAAAAAAAAAAAAAAAAAAAAAAAAAAAAAAAAAAAAAAAAAAAAAAAAAAo1xBWAAAAE3RSTlMA\n",
       "Ms3vmVREEIndIqt2u2bn9enzePXnUgAAAAlwSFlzAAAOxAAADsQBlSsOGwAAAOJJREFUKM+VkukS\n",
       "hSAIhQU3zOUuvv+7XrHphjk5Ez8qoePHUZRahfH3NUBt5mSWK6JkNpmodlJkEAtsdR+ExNWpA4hi\n",
       "UULnCCqFGSF7yF1uxb442XBxaLrXYe99i5RgtoES4Q9F4b10K+UTZ0KP15ufB2ertCtSU2uWGVwi\n",
       "TkV7mcqfga4uRl9+Vzhm6NwTbok4nNtm17NKlSpGg/v/fHc3//PK/SZKs+v7IUVUdtgUr/dZtDrs\n",
       "5sawwaihbzsPWeAp0Tw3PiaCLSZYItp/hlKEu0m2pB4G+oeC8hgRniIUrIo/FvAG9zLswUoAAAAA\n",
       "SUVORK5CYII=\n",
       "\" style=\"display:inline;vertical-align:middle;\" /></a> <a class=\"ProveItLink\" href=\"../__pv_it/demonstrations/8eb93bbe10d2df0c444f27ffb708127f16d3c7780/proof.ipynb\" style=\"text-decoration: none\">&nbsp;&#x22A2;&nbsp;&nbsp;</a><a class=\"ProveItLink\" href=\"../__pv_it/demonstrations/828fc083bdfd82b7c6a19c2f28a399f4444d58980/expr.ipynb\"><img src=\"data:image/png;base64,iVBORw0KGgoAAAANSUhEUgAAAQYAAAAyBAMAAABMh2gAAAAAMFBMVEX///8AAAAAAAAAAAAAAAAA\n",
       "AAAAAAAAAAAAAAAAAAAAAAAAAAAAAAAAAAAAAAAAAAAv3aB7AAAAD3RSTlMAIquJdkTvuxBmmd1U\n",
       "zTKBpmoTAAAACXBIWXMAAA7EAAAOxAGVKw4bAAAD/ElEQVRYw7VZTWgTQRR+SZpkk2zSUIoePFhM\n",
       "EfyDUnvRQo3agwVpeyp4ShWxShGjSBEFDT3oSZKDIAqagAcpRRqs9tBViVC89GCoILUX68WLSFPb\n",
       "YiqxOpvZbHY2b5N1Z32HDEyS7/v2zfuZlwDw2E3gM+Ea8JozxYvwLWEgbixrEiHCTS8aUQUz5lB8\n",
       "eY5T2Pu57IJO3f4pZW3O6TYMbFuYxw8DZQ0B3XHOKWssodswsBfAr0E8j2voBlMafMM2aIAl+cUR\n",
       "ORplKRd69+s0dPUt14J4OuzQEJMPdCjsLTKUwu9EMsxo2JHzxw1BODUE2wjjBfBnGQ1iETxRRsN0\n",
       "ZYOx52CHBsIG/gIEZKdOStI5SZJx/Xlo7mA2ihhGaMsWDcI6OdU4JAcZPxBJsZx2wxNHi+SwLRrg\n",
       "BkAyCmk2DUh5mEpoN5JRDMPTZo+GdBiSOTggMiHYvExihNkgdWSwBmMlZY+GZAq8UXHWz1A6U94M\n",
       "s0GSwlWbmwNKlXSYJdV98EhY9afQ3tPSz+ZmZEJXow4+OFELOaasJ81qcDNHuuvSAnWkN4vVSTBV\n",
       "J0eUTMYq1Z1R7Bt9KI6rgPUs4w1t4/tF17vou0toP0aLmm/DckiF1uk6wbi7Eqcl7DF8mXpAFkxU\n",
       "aJgqISpH7i6ix3m+nkMtmI+WSTGPaXBlUQ2fUKQfljU0rdK8lUOypauV1RBsP5ZjNbh6H9demqj9\n",
       "/Cde0kIk2kIIKHV3kESA+zTcSjAakovCKqPB8QqeAjxCUS9a9oPSyALkeW+nYJL1w/sEnNX3ILLx\n",
       "DkWS4I9Jq2lZNK09pIhPyd2dqJKkmVFJktvIM4A1phfTBrRS9lE5gsqYFGLG+mxR1TACwgbrh2lw\n",
       "lxg/0II2VHaJPkNnLMdD9SzIDcBXYDWU1DvHnHpJIDZvcBZWzUWDzhsFoQTO/FtGw5YcI1o/bJLI\n",
       "Bbhvc0w20frgIsd/FeYzGUbDHrjO1geSFD0AT1CkM7w1KkSq0fjxL+3LjIbxwylWg+vQPRKVL1Ek\n",
       "vE6GPjae9kQlDN9gdRJvvY4sxiKs4QTqtFenZ23S9SHas9DW609hLEY9K2ZidFBc6DU/dG5HWcQS\n",
       "/uluE4ivlbYXN63hMsqiNB5zVxCd7VbWVtOZFEZZnAXs7hnpL5mATPONeioLOr1UB9C6tpLj0qCy\n",
       "7ESmF3kANfMDC9+MU2VJI0FdGUAbNm+uWa/Ksg97vuoAWn9c2ODRUGXByoNmAK1vszwaVBYfFnua\n",
       "AfQ/JobKEsDCSjOANnAnz29BKksMe1zNANqgcxZ58qLCcoVvev8A/OYu8n3/a5hfQ4Cv0kFTnF9D\n",
       "Jy9AhP8o8rwIwRwvwvcE92Nw/4eyKL/+BTYhRhXULMBGAAAAAElFTkSuQmCC\n",
       "\" style=\"display:inline;vertical-align:middle;\" /></a></span>"
      ],
      "text/plain": [
       "{a in Complex, b in Complex, c in Complex, d in Complex, d != 0} |- ((a + b + c) / d) = ((a + b + c) * (1 / d))"
      ]
     },
     "metadata": {},
     "output_type": "display_data"
    }
   ],
   "source": [
    "expr_01.factorization(frac(one, d), pull='right', assumptions=assumptions)"
   ]
  },
  {
   "cell_type": "markdown",
   "metadata": {},
   "source": [
    "***Test trivial cases where the factor is the entire expression.***"
   ]
  },
  {
   "cell_type": "code",
   "execution_count": 11,
   "metadata": {},
   "outputs": [
    {
     "data": {
      "text/html": [
       "<span style=\"font-size:20px;\"> <a class=\"ProveItLink\" href=\"../__pv_it/demonstrations/68e264262e2bafa0e10630b2a807525fb6257bad0/proof.ipynb\" style=\"text-decoration: none\">&nbsp;&#x22A2;&nbsp;&nbsp;</a><a class=\"ProveItLink\" href=\"../__pv_it/demonstrations/ecfdca311d0ab715b7c797ef855d77a601d5cf780/expr.ipynb\"><img src=\"data:image/png;base64,iVBORw0KGgoAAAANSUhEUgAAAMAAAAArBAMAAADccZp1AAAAMFBMVEX///8AAAAAAAAAAAAAAAAA\n",
       "AAAAAAAAAAAAAAAAAAAAAAAAAAAAAAAAAAAAAAAAAAAv3aB7AAAAD3RSTlMAIquJdkTvuxBmmd1U\n",
       "zTKBpmoTAAAACXBIWXMAAA7EAAAOxAGVKw4bAAAB5ElEQVRYw+2XMUvDQBiGv1psQ4y2uLoU6qgg\n",
       "6CKFEqGDLqWT0KmLKOLSyTn/IB1cXLSbiEOLgoPnkMEfUBwcnPoTHBwqKHqRO3OXS8l3h4LQvkNz\n",
       "hPe5t7l8d/0KoMg67oOJ8Nx81yggnWuyayFgg9kOamJuS+Ue2LXlsYHjogK4LZXjARUwCxjDZcpb\n",
       "rhzwWFuJGTd2hsq0EcdtKpetnQHsFvMjKcD68PyiZFwK7LYSEHHMpnKZe7gA6xDsvhTgjCDnSsYb\n",
       "fkMsyohjNpWbW4M9sF/CK8AVIfuEXNORPYACvWMTcntESImORgkLzznBFuegF771XBv8hvQElGsF\n",
       "4jfJtRMCBI7ZFA4Owg/fhXO5img59zzR6CcVk8Axm8JZr9/GAFadohQwpOsrkXTfNJSAiOO2OAdv\n",
       "dM9B3nXubOkJZjr5rmSkJZRVylTgmE3haAlBFazl6mJdLtPyZWzDrJ9uq0dbxPEVUbjs5omXtJPB\n",
       "cCencs1xpxjysNPlpvqPosdMqNKEPfYnUr/FTd/BpGjhqfvH3E+XqSk01/LMAtBcxXBt0dyzYQCO\n",
       "y5Tr7yazo7moq9UTlgu72oHJXzQsx7ta7V8jLCd0tVpCc0JXqyU0J3S1egFYTuhqtYTmhK5Wr4qS\n",
       "uS9ppuggVQTVrQAAAABJRU5ErkJggg==\n",
       "\" style=\"display:inline;vertical-align:middle;\" /></a></span>"
      ],
      "text/plain": [
       "|- ((a + b + c) / d) = ((a + b + c) / d)"
      ]
     },
     "metadata": {},
     "output_type": "display_data"
    }
   ],
   "source": [
    "expr_01.factorization(frac(expr_01.numerator, d), assumptions=assumptions)"
   ]
  },
  {
   "cell_type": "code",
   "execution_count": 12,
   "metadata": {},
   "outputs": [
    {
     "data": {
      "text/html": [
       "<span style=\"font-size:20px;\"> <a class=\"ProveItLink\" href=\"../__pv_it/demonstrations/68e264262e2bafa0e10630b2a807525fb6257bad0/proof.ipynb\" style=\"text-decoration: none\">&nbsp;&#x22A2;&nbsp;&nbsp;</a><a class=\"ProveItLink\" href=\"../__pv_it/demonstrations/ecfdca311d0ab715b7c797ef855d77a601d5cf780/expr.ipynb\"><img src=\"data:image/png;base64,iVBORw0KGgoAAAANSUhEUgAAAMAAAAArBAMAAADccZp1AAAAMFBMVEX///8AAAAAAAAAAAAAAAAA\n",
       "AAAAAAAAAAAAAAAAAAAAAAAAAAAAAAAAAAAAAAAAAAAv3aB7AAAAD3RSTlMAIquJdkTvuxBmmd1U\n",
       "zTKBpmoTAAAACXBIWXMAAA7EAAAOxAGVKw4bAAAB5ElEQVRYw+2XMUvDQBiGv1psQ4y2uLoU6qgg\n",
       "6CKFEqGDLqWT0KmLKOLSyTn/IB1cXLSbiEOLgoPnkMEfUBwcnPoTHBwqKHqRO3OXS8l3h4LQvkNz\n",
       "hPe5t7l8d/0KoMg67oOJ8Nx81yggnWuyayFgg9kOamJuS+Ue2LXlsYHjogK4LZXjARUwCxjDZcpb\n",
       "rhzwWFuJGTd2hsq0EcdtKpetnQHsFvMjKcD68PyiZFwK7LYSEHHMpnKZe7gA6xDsvhTgjCDnSsYb\n",
       "fkMsyohjNpWbW4M9sF/CK8AVIfuEXNORPYACvWMTcntESImORgkLzznBFuegF771XBv8hvQElGsF\n",
       "4jfJtRMCBI7ZFA4Owg/fhXO5img59zzR6CcVk8Axm8JZr9/GAFadohQwpOsrkXTfNJSAiOO2OAdv\n",
       "dM9B3nXubOkJZjr5rmSkJZRVylTgmE3haAlBFazl6mJdLtPyZWzDrJ9uq0dbxPEVUbjs5omXtJPB\n",
       "cCencs1xpxjysNPlpvqPosdMqNKEPfYnUr/FTd/BpGjhqfvH3E+XqSk01/LMAtBcxXBt0dyzYQCO\n",
       "y5Tr7yazo7moq9UTlgu72oHJXzQsx7ta7V8jLCd0tVpCc0JXqyU0J3S1egFYTuhqtYTmhK5Wr4qS\n",
       "uS9ppuggVQTVrQAAAABJRU5ErkJggg==\n",
       "\" style=\"display:inline;vertical-align:middle;\" /></a></span>"
      ],
      "text/plain": [
       "|- ((a + b + c) / d) = ((a + b + c) / d)"
      ]
     },
     "metadata": {},
     "output_type": "display_data"
    }
   ],
   "source": [
    "expr_01.factorization(frac(expr_01.numerator, d), pull='right', assumptions=assumptions)"
   ]
  },
  {
   "cell_type": "code",
   "execution_count": 13,
   "metadata": {},
   "outputs": [
    {
     "data": {
      "text/html": [
       "<strong id=\"expr_02\">expr_02:</strong> <a class=\"ProveItLink\" href=\"../__pv_it/demonstrations/c6cd4fc48e0dd8483837aba2dc9240a0ace025a80/expr.ipynb\"><img src=\"data:image/png;base64,iVBORw0KGgoAAAANSUhEUgAAAHgAAAAtBAMAAACXCbKlAAAAMFBMVEX///8AAAAAAAAAAAAAAAAA\n",
       "AAAAAAAAAAAAAAAAAAAAAAAAAAAAAAAAAAAAAAAAAAAv3aB7AAAAD3RSTlMAInZUiRDNmWbv3US7\n",
       "qzJazP2FAAAACXBIWXMAAA7EAAAOxAGVKw4bAAAB5ElEQVRIx2NgYGAQYCASMGIKMRkQq5lbAUPI\n",
       "BIsy1pMLsOnWQDBjZoHVJWBTxlaAVTQAwU4HEewNKC6D8vgN0ATAgAPJyM8gghPFbGaot/YHoAlA\n",
       "wFSELV9BpBlWzV4MWDVnwFks4EApAcXBFUUFVLW5SpfRNLMo9TEw+CK8f0nXAGLYTgGeryhqWb8F\n",
       "xAugaGZczFDDwNAG1xyfyvqRgWExUOkMBvYFKJqZvzJwKqBo5nJgmMTAYAnXbB8A4s8GBvgHkByQ\n",
       "XrVq5axVqy4AWQkM/A7IAgz14BB8D3YViFXGwPAFrJnzAEP8BhSbgWbtN0CxeQ6Y3AkiloOIJQzc\n",
       "n8HOjldg6EcNXGA0Q6yCB8InMGWFFM3swGA6BNRswHCNGSV8+B8AwwHF5h/AqGVg6IFr/scQ2QAO\n",
       "fR4F5uXsKGp5G3gKUDUDg9oPEq8QcIPhOJB8BXTTJT9ZPdSoulKBlkhYPJqA/lgN1xzrDkq3XA+w\n",
       "pTDsAozoeY2jAFvGwC7Aji7LcJCBaCCDIRJDvGZMexgViNXLJMAwCv5TAEZDj7qAL7OAAt38BhRo\n",
       "3h9AgWYvSjydTrZOxit6n8nWjKj/SAeg+i+BXM2w+o8sgFT/kQ6Q6j8yNCPqP9IBUv1HRmgj6j/s\n",
       "AAATu6JS4seo5QAAAABJRU5ErkJggg==\n",
       "\" style=\"display:inline;vertical-align:middle;\" /></a><br>"
      ],
      "text/plain": [
       "<IPython.core.display.HTML object>"
      ]
     },
     "metadata": {},
     "output_type": "display_data"
    }
   ],
   "source": [
    "expr_02 = frac(Mult(Add(a, b, c), b), d)"
   ]
  },
  {
   "cell_type": "code",
   "execution_count": 14,
   "metadata": {},
   "outputs": [
    {
     "data": {
      "text/html": [
       "<span style=\"font-size:20px;\"><a class=\"ProveItLink\" href=\"../__pv_it/theorems/e9f87a0977d5044ea8daf1040d2f219396bb3d5b0/expr.ipynb\"><img src=\"data:image/png;base64,iVBORw0KGgoAAAANSUhEUgAAADMAAAAQBAMAAABJt1qBAAAAMFBMVEX///8AAAAAAAAAAAAAAAAA\n",
       "AAAAAAAAAAAAAAAAAAAAAAAAAAAAAAAAAAAAAAAAAAAv3aB7AAAAD3RSTlMAIquJdkTvuxBmmd1U\n",
       "zTKBpmoTAAAACXBIWXMAAA7EAAAOxAGVKw4bAAAA0ElEQVQY02NgwAKaq+86PsYmwcCiNoFjfRVW\n",
       "qSXBDAycWKX4FlQASS0UMffduy8AKaaGAiDZiSwT6wGh2RkXQEUYlR0dwPQNqIAQnwGUFSbA/gNE\n",
       "8wpABR6zToAwODIZuDaApWAGS7E6QBhcHxi4wQY82w0EBWC7oAayFTD0B4AY7TBd7GAXAkG/A8N8\n",
       "MIMbJsUK9hcrUOoAgy4PyAUsDvDQCAISa4HaHXh2cYFF7sDDsHYhx2mg3zhU7IT8wCJNpQ2wkC/7\n",
       "vRA18IKrwQEFAwCqvi28/xxvKQAAAABJRU5ErkJggg==\n",
       "\" style=\"display:inline;vertical-align:middle;\" /></a>, <a class=\"ProveItLink\" href=\"../__pv_it/theorems/a259ec76dfb0a5be60b7c83d797520fa82c1dba60/expr.ipynb\"><img src=\"data:image/png;base64,iVBORw0KGgoAAAANSUhEUgAAADEAAAAQBAMAAABNQoq8AAAAMFBMVEX///8AAAAAAAAAAAAAAAAA\n",
       "AAAAAAAAAAAAAAAAAAAAAAAAAAAAAAAAAAAAAAAAAAAv3aB7AAAAD3RSTlMAELvv3c2ZVESJq3Yi\n",
       "MmZ3LnoBAAAACXBIWXMAAA7EAAAOxAGVKw4bAAAA2UlEQVQY02NgwASSKqF7bjIwMCo7oElwL37A\n",
       "mK8GZLAmoMlkdzIw8IFk+AtQJXgTFIHkMiDuF4AKbXJxCQBSXAIKQFIOiKdAJVo3QmgmHpjxUbuX\n",
       "gyieQCj/FO8ECIPxq4D8AZBDDkBlbnI8gDDYPzIwbwDJwFxwjGMDhMEWwMAP0n7ZBQgUwPZATWOZ\n",
       "wNAPcrcQTA8T2G0Q7+SD3M0Ck+EA+4cDKHOB0Q4cJhvgYdAFJFKBHnvABHF/ODzcVHMYS4BijCvz\n",
       "IAJSGrDAkFT+koMSYJ0q4NCBAQD6uylQEVfDpgAAAABJRU5ErkJggg==\n",
       "\" style=\"display:inline;vertical-align:middle;\" /></a>, <a class=\"ProveItLink\" href=\"../../addition/subtraction/__pv_it/theorems/b66b5547fa9b0b910f79351152926c658c2718190/expr.ipynb\"><img src=\"data:image/png;base64,iVBORw0KGgoAAAANSUhEUgAAADEAAAAQBAMAAABNQoq8AAAAMFBMVEX///8AAAAAAAAAAAAAAAAA\n",
       "AAAAAAAAAAAAAAAAAAAAAAAAAAAAAAAAAAAAAAAAAAAv3aB7AAAAD3RSTlMAiXZmMiLdVJm77xBE\n",
       "zatgdeJyAAAACXBIWXMAAA7EAAAOxAGVKw4bAAAAw0lEQVQY02NgwAQbp91VdcQizsD0yoC7fwY2\n",
       "maaDDAzM2GRYGmYDyRfIQpppaReAFN+GCUByM5LEWW0IzcnaABMSUnYAkqy3odw4FgEoK6yAA6Sd\n",
       "NwDKd+QxgLISGbgUQDIwIyJ4FCAMjt8Q2isNCCaA7YGaxjUBQu+E6eHcABXZD9XLBpPhAfuHh4GB\n",
       "H2jfAVCYKMDD4ByQ6AXaM4GBEeRqhuvwcJvbyl0G8pOgMcSL++ZsgIX1rG+tKAF2cBo4dGAAAHWD\n",
       "KgtwTxl0AAAAAElFTkSuQmCC\n",
       "\" style=\"display:inline;vertical-align:middle;\" /></a>, <a class=\"ProveItLink\" href=\"../__pv_it/theorems/d6724abdc9486f838f4cf63bc1115e85255ce4c00/expr.ipynb\"><img src=\"data:image/png;base64,iVBORw0KGgoAAAANSUhEUgAAADMAAAAQBAMAAABJt1qBAAAAMFBMVEX///8AAAAAAAAAAAAAAAAA\n",
       "AAAAAAAAAAAAAAAAAAAAAAAAAAAAAAAAAAAAAAAAAAAv3aB7AAAAD3RSTlMAMs3vmVREEIndIqt2\n",
       "u2aBbGR5AAAACXBIWXMAAA7EAAAOxAGVKw4bAAAA4UlEQVQY02NgwAIqbiqdkgCzGJUdUGR4Nj9g\n",
       "978CYfMHoEj5ZDAw8EGl8guQZRgdrgPJLRBOJ4Q6O3OmApDiLrgAJOsgYipgMuk4hMfLBbOaa8fB\n",
       "r2BaHSqwmrEBykpewPsdRDMtgApIsD2AMNjtGFgUwFIwZyxhOwBhsHxg4AQbIDwTCC6A7YIayHyB\n",
       "oT4BxKiF6eIFuxAI6g8wvAczOGFSbGB/sQGlAhg2sYJcwHMAHhrZQMIJqP0A6xQWsIgqPAwvebFH\n",
       "Av3Gvqdx9UGwSPU1WHhVXP7phRoXGTfBAQUDAJ+SNfXA0lXRAAAAAElFTkSuQmCC\n",
       "\" style=\"display:inline;vertical-align:middle;\" /></a>, <a class=\"ProveItLink\" href=\"../__pv_it/demonstrations/4a82d58b126555a18b104ddba47c5351567eeaea0/expr.ipynb\"><img src=\"data:image/png;base64,iVBORw0KGgoAAAANSUhEUgAAADEAAAAUCAMAAAATIyWrAAAAPFBMVEX///8AAAAAAAAAAAAAAAAA\n",
       "AAAAAAAAAAAAAAAAAAAAAAAAAAAAAAAAAAAAAAAAAAAAAAAAAAAAAAAAAAAo1xBWAAAAE3RSTlMA\n",
       "Ms3vmVREEIndIqt2u2bn9enzePXnUgAAAAlwSFlzAAAOxAAADsQBlSsOGwAAAOJJREFUKM+VkukS\n",
       "hSAIhQU3zOUuvv+7XrHphjk5Ez8qoePHUZRahfH3NUBt5mSWK6JkNpmodlJkEAtsdR+ExNWpA4hi\n",
       "UULnCCqFGSF7yF1uxb442XBxaLrXYe99i5RgtoES4Q9F4b10K+UTZ0KP15ufB2ertCtSU2uWGVwi\n",
       "TkV7mcqfga4uRl9+Vzhm6NwTbok4nNtm17NKlSpGg/v/fHc3//PK/SZKs+v7IUVUdtgUr/dZtDrs\n",
       "5sawwaihbzsPWeAp0Tw3PiaCLSZYItp/hlKEu0m2pB4G+oeC8hgRniIUrIo/FvAG9zLswUoAAAAA\n",
       "SUVORK5CYII=\n",
       "\" style=\"display:inline;vertical-align:middle;\" /></a> <a class=\"ProveItLink\" href=\"../__pv_it/demonstrations/d88e102e46a94a5d2f3775c1b9a3cdd301dbadde0/proof.ipynb\" style=\"text-decoration: none\">&nbsp;&#x22A2;&nbsp;&nbsp;</a><a class=\"ProveItLink\" href=\"../__pv_it/demonstrations/a2bd1ea2048156c8c969645aa478b6bd71b5828b0/expr.ipynb\"><img src=\"data:image/png;base64,iVBORw0KGgoAAAANSUhEUgAAAS4AAAAyBAMAAAAQDSskAAAAMFBMVEX///8AAAAAAAAAAAAAAAAA\n",
       "AAAAAAAAAAAAAAAAAAAAAAAAAAAAAAAAAAAAAAAAAAAv3aB7AAAAD3RSTlMAInZUiRDNmWbv3US7\n",
       "qzJazP2FAAAACXBIWXMAAA7EAAAOxAGVKw4bAAAEHklEQVRYw7VZTWgTQRR++f9tEnqzUEz9AU9t\n",
       "FPHgKRRPhcqeBEFJDop6EHIQKb00N70lHvzDCkXFYkAJnvSUWPBQQS01CHqKl4K9NDbGCtHq7E93\n",
       "Z9KX2Zns9oMmy3uzs1/evPfm2ykAQAoEITTwAzhD4K1x4c2I3vJSYMxQ0SEvWFf07+MY6eUFxOot\n",
       "2gwgaPCcQvDpNwfymDNYwKwX7QZAOM9xCmJa+wwxgX9lfCczPQYNN6zLJL76+1IcpyCiGqMIYztm\n",
       "fNeUHoOGiGJe1hR0zkc8p+hC3lY/T6C8pgDjFbRiO4UvY5njFMYl9eMa+fM0xtIsjasHPvXwmjzS\n",
       "BP+Kea85gEEky3EKo6Ymw2Xy9zoV7zA0Ar+UXIrhNZIJ1Y2sZgcwmFA4TmEE1Z//mMxzD0ILDC9f\n",
       "ByJphtcT1eArmzlgDmDwnOcUTzA1SA9ISbYgqi7AbKVyv1JR5w7lIZllDFo8Ey0tGtaAHiS29RJH\n",
       "nRItf1PnFalDrsrEi9CsZWgDGUIQ0+K1yAxgmn255+4B8U5fx1waSmz5kQY0p9CGXJpqxcwAJu1X\n",
       "OE4JlEh2LpGHZuCzj0nzZJPkHGMgHaIK4brJyxxAY6PIcUogV9S6fjztWwwxNIaK8QJjIMXob0Io\n",
       "a23PcWSvmUihTo8woZQV93WSZ6unR8fZPtGY6emrp24eJolTNVPTHEBjGXceFOZlKJY4yZdoE+v3\n",
       "uGHEZtp5vOyzsorFT+o+XMD2bdwwY1PfW6j5DMgqlnCXfLwRjrKnzvcnNlHzDMgqFm2ic8K84jab\n",
       "i6+NmsvSikULvEd4yxiz8Ye3UbZ5ecXyF9yE9wdm1ZrL6OQwSCiWP465kC20om+hpIw6aIKTEMRu\n",
       "wUdFQrHccTVeIZRXlCT42SLMgoRiqcA/B9i1bbf0SjOdOfXXR0gznlMfK6xYAJ65Gi+DFxWqgsFr\n",
       "HgJdEFcsLvCi86vvOhJBFW7JKJaKq/Hyo/UYT0OgDUP5oyCuWNzNey/av9TSX4KThYKEYnnoKi+8\n",
       "rybI0pw/9G21KaFYtmyelLgi80bv65qXa3ct8wuQVSyBn3aPknqjT/y2rtvo6YGgYukjAOhXTCmd\n",
       "boU/1hHf7ncrlj4CgILcG/1TK9kp1ReoyyoWfKPddVQgjC+46hsWnmCsT4PuiWpjvC3Fq2Ss+ujk\n",
       "hqP3xwg/wtaxhSAMNpR6GAz7uZJQPbbIy/1OXT0R9XDdUSMscStl59hCQujou+6OehgYX+1WOVeV\n",
       "mi/WNV7XAl1HvPjtizq2EMWicRwTbjnaz/hZTR1bSBUkrR4GQnSF3+SsYwvhxNfykVIPg59jcurR\n",
       "OraQWwFKPQyE9+A6LrgwR6zjPq/vKedzRDPu8/LWnc8xDXuAhvNlzO8Fr6DjRVhT9oKX8/+Lakdg\n",
       "/wGgoG12UPRn7wAAAABJRU5ErkJggg==\n",
       "\" style=\"display:inline;vertical-align:middle;\" /></a></span>"
      ],
      "text/plain": [
       "{a in Complex, b in Complex, c in Complex, d in Complex, d != 0} |- (((a + b + c) * b) / d) = ((b / d) * (a + b + c))"
      ]
     },
     "metadata": {},
     "output_type": "display_data"
    }
   ],
   "source": [
    "expr_02.factorization(frac(b, d), assumptions=assumptions)"
   ]
  },
  {
   "cell_type": "code",
   "execution_count": 15,
   "metadata": {},
   "outputs": [
    {
     "data": {
      "text/html": [
       "<span style=\"font-size:20px;\"><a class=\"ProveItLink\" href=\"../__pv_it/theorems/e9f87a0977d5044ea8daf1040d2f219396bb3d5b0/expr.ipynb\"><img src=\"data:image/png;base64,iVBORw0KGgoAAAANSUhEUgAAADMAAAAQBAMAAABJt1qBAAAAMFBMVEX///8AAAAAAAAAAAAAAAAA\n",
       "AAAAAAAAAAAAAAAAAAAAAAAAAAAAAAAAAAAAAAAAAAAv3aB7AAAAD3RSTlMAIquJdkTvuxBmmd1U\n",
       "zTKBpmoTAAAACXBIWXMAAA7EAAAOxAGVKw4bAAAA0ElEQVQY02NgwAKaq+86PsYmwcCiNoFjfRVW\n",
       "qSXBDAycWKX4FlQASS0UMffduy8AKaaGAiDZiSwT6wGh2RkXQEUYlR0dwPQNqIAQnwGUFSbA/gNE\n",
       "8wpABR6zToAwODIZuDaApWAGS7E6QBhcHxi4wQY82w0EBWC7oAayFTD0B4AY7TBd7GAXAkG/A8N8\n",
       "MIMbJsUK9hcrUOoAgy4PyAUsDvDQCAISa4HaHXh2cYFF7sDDsHYhx2mg3zhU7IT8wCJNpQ2wkC/7\n",
       "vRA18IKrwQEFAwCqvi28/xxvKQAAAABJRU5ErkJggg==\n",
       "\" style=\"display:inline;vertical-align:middle;\" /></a>, <a class=\"ProveItLink\" href=\"../__pv_it/theorems/a259ec76dfb0a5be60b7c83d797520fa82c1dba60/expr.ipynb\"><img src=\"data:image/png;base64,iVBORw0KGgoAAAANSUhEUgAAADEAAAAQBAMAAABNQoq8AAAAMFBMVEX///8AAAAAAAAAAAAAAAAA\n",
       "AAAAAAAAAAAAAAAAAAAAAAAAAAAAAAAAAAAAAAAAAAAv3aB7AAAAD3RSTlMAELvv3c2ZVESJq3Yi\n",
       "MmZ3LnoBAAAACXBIWXMAAA7EAAAOxAGVKw4bAAAA2UlEQVQY02NgwASSKqF7bjIwMCo7oElwL37A\n",
       "mK8GZLAmoMlkdzIw8IFk+AtQJXgTFIHkMiDuF4AKbXJxCQBSXAIKQFIOiKdAJVo3QmgmHpjxUbuX\n",
       "gyieQCj/FO8ECIPxq4D8AZBDDkBlbnI8gDDYPzIwbwDJwFxwjGMDhMEWwMAP0n7ZBQgUwPZATWOZ\n",
       "wNAPcrcQTA8T2G0Q7+SD3M0Ck+EA+4cDKHOB0Q4cJhvgYdAFJFKBHnvABHF/ODzcVHMYS4BijCvz\n",
       "IAJSGrDAkFT+koMSYJ0q4NCBAQD6uylQEVfDpgAAAABJRU5ErkJggg==\n",
       "\" style=\"display:inline;vertical-align:middle;\" /></a>, <a class=\"ProveItLink\" href=\"../../addition/subtraction/__pv_it/theorems/b66b5547fa9b0b910f79351152926c658c2718190/expr.ipynb\"><img src=\"data:image/png;base64,iVBORw0KGgoAAAANSUhEUgAAADEAAAAQBAMAAABNQoq8AAAAMFBMVEX///8AAAAAAAAAAAAAAAAA\n",
       "AAAAAAAAAAAAAAAAAAAAAAAAAAAAAAAAAAAAAAAAAAAv3aB7AAAAD3RSTlMAiXZmMiLdVJm77xBE\n",
       "zatgdeJyAAAACXBIWXMAAA7EAAAOxAGVKw4bAAAAw0lEQVQY02NgwAQbp91VdcQizsD0yoC7fwY2\n",
       "maaDDAzM2GRYGmYDyRfIQpppaReAFN+GCUByM5LEWW0IzcnaABMSUnYAkqy3odw4FgEoK6yAA6Sd\n",
       "NwDKd+QxgLISGbgUQDIwIyJ4FCAMjt8Q2isNCCaA7YGaxjUBQu+E6eHcABXZD9XLBpPhAfuHh4GB\n",
       "H2jfAVCYKMDD4ByQ6AXaM4GBEeRqhuvwcJvbyl0G8pOgMcSL++ZsgIX1rG+tKAF2cBo4dGAAAHWD\n",
       "KgtwTxl0AAAAAElFTkSuQmCC\n",
       "\" style=\"display:inline;vertical-align:middle;\" /></a>, <a class=\"ProveItLink\" href=\"../__pv_it/theorems/d6724abdc9486f838f4cf63bc1115e85255ce4c00/expr.ipynb\"><img src=\"data:image/png;base64,iVBORw0KGgoAAAANSUhEUgAAADMAAAAQBAMAAABJt1qBAAAAMFBMVEX///8AAAAAAAAAAAAAAAAA\n",
       "AAAAAAAAAAAAAAAAAAAAAAAAAAAAAAAAAAAAAAAAAAAv3aB7AAAAD3RSTlMAMs3vmVREEIndIqt2\n",
       "u2aBbGR5AAAACXBIWXMAAA7EAAAOxAGVKw4bAAAA4UlEQVQY02NgwAIqbiqdkgCzGJUdUGR4Nj9g\n",
       "978CYfMHoEj5ZDAw8EGl8guQZRgdrgPJLRBOJ4Q6O3OmApDiLrgAJOsgYipgMuk4hMfLBbOaa8fB\n",
       "r2BaHSqwmrEBykpewPsdRDMtgApIsD2AMNjtGFgUwFIwZyxhOwBhsHxg4AQbIDwTCC6A7YIayHyB\n",
       "oT4BxKiF6eIFuxAI6g8wvAczOGFSbGB/sQGlAhg2sYJcwHMAHhrZQMIJqP0A6xQWsIgqPAwvebFH\n",
       "Av3Gvqdx9UGwSPU1WHhVXP7phRoXGTfBAQUDAJ+SNfXA0lXRAAAAAElFTkSuQmCC\n",
       "\" style=\"display:inline;vertical-align:middle;\" /></a>, <a class=\"ProveItLink\" href=\"../__pv_it/demonstrations/4a82d58b126555a18b104ddba47c5351567eeaea0/expr.ipynb\"><img src=\"data:image/png;base64,iVBORw0KGgoAAAANSUhEUgAAADEAAAAUCAMAAAATIyWrAAAAPFBMVEX///8AAAAAAAAAAAAAAAAA\n",
       "AAAAAAAAAAAAAAAAAAAAAAAAAAAAAAAAAAAAAAAAAAAAAAAAAAAAAAAAAAAo1xBWAAAAE3RSTlMA\n",
       "Ms3vmVREEIndIqt2u2bn9enzePXnUgAAAAlwSFlzAAAOxAAADsQBlSsOGwAAAOJJREFUKM+VkukS\n",
       "hSAIhQU3zOUuvv+7XrHphjk5Ez8qoePHUZRahfH3NUBt5mSWK6JkNpmodlJkEAtsdR+ExNWpA4hi\n",
       "UULnCCqFGSF7yF1uxb442XBxaLrXYe99i5RgtoES4Q9F4b10K+UTZ0KP15ufB2ertCtSU2uWGVwi\n",
       "TkV7mcqfga4uRl9+Vzhm6NwTbok4nNtm17NKlSpGg/v/fHc3//PK/SZKs+v7IUVUdtgUr/dZtDrs\n",
       "5sawwaihbzsPWeAp0Tw3PiaCLSZYItp/hlKEu0m2pB4G+oeC8hgRniIUrIo/FvAG9zLswUoAAAAA\n",
       "SUVORK5CYII=\n",
       "\" style=\"display:inline;vertical-align:middle;\" /></a> <a class=\"ProveItLink\" href=\"../__pv_it/demonstrations/62927767a073395516c4225935127274eb92e0a80/proof.ipynb\" style=\"text-decoration: none\">&nbsp;&#x22A2;&nbsp;&nbsp;</a><a class=\"ProveItLink\" href=\"../__pv_it/demonstrations/ce9ca8e903e4980ac408fc14a02b87962f71cd600/expr.ipynb\"><img src=\"data:image/png;base64,iVBORw0KGgoAAAANSUhEUgAAAS4AAAAyBAMAAAAQDSskAAAAMFBMVEX///8AAAAAAAAAAAAAAAAA\n",
       "AAAAAAAAAAAAAAAAAAAAAAAAAAAAAAAAAAAAAAAAAAAv3aB7AAAAD3RSTlMAInZUiRDNmWbv3US7\n",
       "qzJazP2FAAAACXBIWXMAAA7EAAAOxAGVKw4bAAAEt0lEQVRYw71ZTYhTVxQ+yUsmv5MEd4rSaFtw\n",
       "U40igm46iFAZUN6qUFCSRaV2UciiFBHB4EJdiKOCUv8gaHGYV1qGruoqUSjFQtthGkrbVbop1M2M\n",
       "jnGE8e++e++79503N+/dcN94IO+Fm5Nzvpx77nfOOwEAqICmaCn+BmaS/om/SdZ0v/KDhs54yxAX\n",
       "PLLZfZcK9MO2YjXZilAg0jNAdPi6e7WY5XRDpTLWVK0ejVKAbMMkVJ/R60F6zaDA/8jv5VpggcpZ\n",
       "+bas3v31FRNcS/Sap4hy6JOd/N6xAwtUcrZ427GVlm+bwCoM6M264l53K3FNggrXmIztpHobL5rg\n",
       "SrV92/kleSV6m6sYxhdb/gjg2re1D6k5YUMoIMlNmOAam/+AZkfHTYZj5HWvUhwgGOlndr2CcG2o\n",
       "Zbq+rJYKSLbbJrjqR9OPKT73598hTr6GTBvhsgaQqyJc37gLltgmqYDkOyPm+tCGy9w4wA1yJBch\n",
       "727ACce55jiu7UwDyhNogcaztEhDJRUCUnplhOsrgKd0M54wXLku1GdRvAjMTs2/QFTcA0PjNY0U\n",
       "ENkbpT3ZkwJjil/YPtarMIWPH2GnU7Z/oV71UTFSQGk/B2b0xbYFpkjqPiBOa/CnhdK83Cc5hxYI\n",
       "Q8xCtitwCQW/LJgVx1fwCTNQb1HWL1at6QyCMd4qNtECOYypPmQmZHkuKgrRdn5EE7pIsOJf8LOM\n",
       "+yOSZ/OHNm3DPNE7HuDV/efeJ1k1K3hCKPjlIb+/q83w6Ewf+YjHu0jyJd9X8b16YUOEm5ucRCaG\n",
       "NgtB2aomfnLus01V3VYvHI9o6ZbZ/eOQZiFI8Uoizq6Qy33tvEx0wz8vPVHAL7RQsxD4qdnmUEOH\n",
       "tXEVI5oYi7tGLGZVUbMQTI0rQwOfqOri2hzxeZbRvdVQ4Uq1lbiOKS29hDgl+Zhxipv2m/atw7i8\n",
       "ZkHiSm254DWnQXlhjIWUUIeVUOJoILq0wiX43Ua4vGZB4ErcgZMAZ5RWr8YaL15F8iQuhLhP4Hh5\n",
       "zYK/BpOFPUpLDrw2kFVle5GxNWHfU24VJkgdZ+a648zJZkG2KKy+LtBY0oykNpmJmVjj5cN1E9Ir\n",
       "OF6iWfDixUj4Hg1dkC1mYs0vuY+kg8ouYlyiWeC40ozs9g7ZxzglxRK7WIX0Eow3diBcolnw4vWc\n",
       "nA6A828h75OMv9ynkwewt9lEuESz4OEih/EQe+xZLbdixcV5tUQY9Mh7/873ES7RLHi4UgdOk8z/\n",
       "VmlpOcJT6fPmCLgsnurfq/he3aIk2ip/6adRrsq1EXCVnq8aF/jqtrJFybRU/rwGYLh0RnogXNar\n",
       "7z7ZqPRnLUV9b3KkBLvL24Gu9jfuK/3xQhs5+dGVv/l9nfYJrij9cYIe2gf2ti2NhGvKaAwg/eXC\n",
       "Ay7HFpqyUDPCJfy9E9oSumOL0cZ/Zs+10t9U6MHxxhYjNDpGcwDp75/wXy/HFrqPgysmuKS/cPry\n",
       "jS10Zdpo/OX5y4ZntW9s8VYOpPCXD09T39hCeytM5pjCXyc8GL6xhXZHMTA5j56/XyF2+TQGG4VB\n",
       "/Lj+r5jbyNfix5Xsmts4CGsgPfNtbKwFrjHjTfjPXgtc5v+L0j/t3gB8UWwOz9oKsAAAAABJRU5E\n",
       "rkJggg==\n",
       "\" style=\"display:inline;vertical-align:middle;\" /></a></span>"
      ],
      "text/plain": [
       "{a in Complex, b in Complex, c in Complex, d in Complex, d != 0} |- (((a + b + c) * b) / d) = ((a + b + c) * (b / d))"
      ]
     },
     "metadata": {},
     "output_type": "display_data"
    }
   ],
   "source": [
    "expr_02.factorization(frac(b, d), pull='right', assumptions=assumptions)"
   ]
  },
  {
   "cell_type": "code",
   "execution_count": 16,
   "metadata": {},
   "outputs": [
    {
     "data": {
      "text/html": [
       "<strong id=\"expr_03\">expr_03:</strong> <a class=\"ProveItLink\" href=\"../__pv_it/demonstrations/a4079a6c7308851cbf5ed158f293ccfed5f11c960/expr.ipynb\"><img src=\"data:image/png;base64,iVBORw0KGgoAAAANSUhEUgAAAHgAAAAtBAMAAACXCbKlAAAAMFBMVEX///8AAAAAAAAAAAAAAAAA\n",
       "AAAAAAAAAAAAAAAAAAAAAAAAAAAAAAAAAAAAAAAAAAAv3aB7AAAAD3RSTlMAInZUiRDNmWbv3US7\n",
       "qzJazP2FAAAACXBIWXMAAA7EAAAOxAGVKw4bAAACCklEQVRIx+1VQSgEURj+1u6aXbvazZkacnCh\n",
       "UVJcyIUUzVWtdi/iouYgScrm4CSiRDhsUbIurk7Yi5xoSY7r4uCyy1ophffeaHbe7FNPk5vv8M/7\n",
       "//m/97/3/W/mAUAUkvBUhqo0WXJIrQh1CNL8FykRu6U8jG2xvIQordoQRvXyeJwaJcmt7NuLaI4A\n",
       "Q8A2ZZGaIDe393tbJ7ojYGK9XKVEbaeQPAghecIa+ZgoU7QHN40qnzvZdO0g+5qWgaHy9rOtmjnZ\n",
       "cTRc4nL9r3o8ypE9u5gDFi1yfMz/BOyS1E0oKY7sLSGocuSaXqwBXRa5R6f+NhG8QN+RZzp9sJVO\n",
       "X5FRApFeewDzTME8WxUdTQMvjBw8RfyIq0zmOtG4yjvMHlOzT80eQkW27LiKFV5c0mazlCXCM3t0\n",
       "29qsEJkyhKzh1svpE8kRHbjKb6S1wJJF/sBIkqkfVr37CpdbmwwbPJlIPWz21cQdzol9JGvKDje0\n",
       "8a26mXEcEt/AAtnHoUUe7afntiYnOmHigMf5rQUM0YchDijOtziDNOorIjF5cmUdjyrLrYriH58u\n",
       "8K/en+Bhww276IIbKrkg+1IuyOLb+ic09NXZnbz2mz2u4lIXOhIg//NZuzP9m1XP07uI3qMJmyOL\n",
       "Hfjf2X1n2BxJkFstUBA6MuQiahPtIkcGGXQbhtCRwGjzfTYndDh8AW7+tu6OhTbPAAAAAElFTkSu\n",
       "QmCC\n",
       "\" style=\"display:inline;vertical-align:middle;\" /></a><br>"
      ],
      "text/plain": [
       "<IPython.core.display.HTML object>"
      ]
     },
     "metadata": {},
     "output_type": "display_data"
    }
   ],
   "source": [
    "expr_03 = frac(Mult(Add(a, b, c), b), Mult(a, d))"
   ]
  },
  {
   "cell_type": "code",
   "execution_count": 17,
   "metadata": {},
   "outputs": [
    {
     "data": {
      "text/html": [
       "<span style=\"font-size:20px;\"><a class=\"ProveItLink\" href=\"../__pv_it/theorems/e9f87a0977d5044ea8daf1040d2f219396bb3d5b0/expr.ipynb\"><img src=\"data:image/png;base64,iVBORw0KGgoAAAANSUhEUgAAADMAAAAQBAMAAABJt1qBAAAAMFBMVEX///8AAAAAAAAAAAAAAAAA\n",
       "AAAAAAAAAAAAAAAAAAAAAAAAAAAAAAAAAAAAAAAAAAAv3aB7AAAAD3RSTlMAIquJdkTvuxBmmd1U\n",
       "zTKBpmoTAAAACXBIWXMAAA7EAAAOxAGVKw4bAAAA0ElEQVQY02NgwAKaq+86PsYmwcCiNoFjfRVW\n",
       "qSXBDAycWKX4FlQASS0UMffduy8AKaaGAiDZiSwT6wGh2RkXQEUYlR0dwPQNqIAQnwGUFSbA/gNE\n",
       "8wpABR6zToAwODIZuDaApWAGS7E6QBhcHxi4wQY82w0EBWC7oAayFTD0B4AY7TBd7GAXAkG/A8N8\n",
       "MIMbJsUK9hcrUOoAgy4PyAUsDvDQCAISa4HaHXh2cYFF7sDDsHYhx2mg3zhU7IT8wCJNpQ2wkC/7\n",
       "vRA18IKrwQEFAwCqvi28/xxvKQAAAABJRU5ErkJggg==\n",
       "\" style=\"display:inline;vertical-align:middle;\" /></a>, <a class=\"ProveItLink\" href=\"../__pv_it/theorems/d6724abdc9486f838f4cf63bc1115e85255ce4c00/expr.ipynb\"><img src=\"data:image/png;base64,iVBORw0KGgoAAAANSUhEUgAAADMAAAAQBAMAAABJt1qBAAAAMFBMVEX///8AAAAAAAAAAAAAAAAA\n",
       "AAAAAAAAAAAAAAAAAAAAAAAAAAAAAAAAAAAAAAAAAAAv3aB7AAAAD3RSTlMAMs3vmVREEIndIqt2\n",
       "u2aBbGR5AAAACXBIWXMAAA7EAAAOxAGVKw4bAAAA4UlEQVQY02NgwAIqbiqdkgCzGJUdUGR4Nj9g\n",
       "978CYfMHoEj5ZDAw8EGl8guQZRgdrgPJLRBOJ4Q6O3OmApDiLrgAJOsgYipgMuk4hMfLBbOaa8fB\n",
       "r2BaHSqwmrEBykpewPsdRDMtgApIsD2AMNjtGFgUwFIwZyxhOwBhsHxg4AQbIDwTCC6A7YIayHyB\n",
       "oT4BxKiF6eIFuxAI6g8wvAczOGFSbGB/sQGlAhg2sYJcwHMAHhrZQMIJqP0A6xQWsIgqPAwvebFH\n",
       "Av3Gvqdx9UGwSPU1WHhVXP7phRoXGTfBAQUDAJ+SNfXA0lXRAAAAAElFTkSuQmCC\n",
       "\" style=\"display:inline;vertical-align:middle;\" /></a>, <a class=\"ProveItLink\" href=\"../__pv_it/theorems/a259ec76dfb0a5be60b7c83d797520fa82c1dba60/expr.ipynb\"><img src=\"data:image/png;base64,iVBORw0KGgoAAAANSUhEUgAAADEAAAAQBAMAAABNQoq8AAAAMFBMVEX///8AAAAAAAAAAAAAAAAA\n",
       "AAAAAAAAAAAAAAAAAAAAAAAAAAAAAAAAAAAAAAAAAAAv3aB7AAAAD3RSTlMAELvv3c2ZVESJq3Yi\n",
       "MmZ3LnoBAAAACXBIWXMAAA7EAAAOxAGVKw4bAAAA2UlEQVQY02NgwASSKqF7bjIwMCo7oElwL37A\n",
       "mK8GZLAmoMlkdzIw8IFk+AtQJXgTFIHkMiDuF4AKbXJxCQBSXAIKQFIOiKdAJVo3QmgmHpjxUbuX\n",
       "gyieQCj/FO8ECIPxq4D8AZBDDkBlbnI8gDDYPzIwbwDJwFxwjGMDhMEWwMAP0n7ZBQgUwPZATWOZ\n",
       "wNAPcrcQTA8T2G0Q7+SD3M0Ck+EA+4cDKHOB0Q4cJhvgYdAFJFKBHnvABHF/ODzcVHMYS4BijCvz\n",
       "IAJSGrDAkFT+koMSYJ0q4NCBAQD6uylQEVfDpgAAAABJRU5ErkJggg==\n",
       "\" style=\"display:inline;vertical-align:middle;\" /></a>, <a class=\"ProveItLink\" href=\"../../addition/subtraction/__pv_it/theorems/b66b5547fa9b0b910f79351152926c658c2718190/expr.ipynb\"><img src=\"data:image/png;base64,iVBORw0KGgoAAAANSUhEUgAAADEAAAAQBAMAAABNQoq8AAAAMFBMVEX///8AAAAAAAAAAAAAAAAA\n",
       "AAAAAAAAAAAAAAAAAAAAAAAAAAAAAAAAAAAAAAAAAAAv3aB7AAAAD3RSTlMAiXZmMiLdVJm77xBE\n",
       "zatgdeJyAAAACXBIWXMAAA7EAAAOxAGVKw4bAAAAw0lEQVQY02NgwAQbp91VdcQizsD0yoC7fwY2\n",
       "maaDDAzM2GRYGmYDyRfIQpppaReAFN+GCUByM5LEWW0IzcnaABMSUnYAkqy3odw4FgEoK6yAA6Sd\n",
       "NwDKd+QxgLISGbgUQDIwIyJ4FCAMjt8Q2isNCCaA7YGaxjUBQu+E6eHcABXZD9XLBpPhAfuHh4GB\n",
       "H2jfAVCYKMDD4ByQ6AXaM4GBEeRqhuvwcJvbyl0G8pOgMcSL++ZsgIX1rG+tKAF2cBo4dGAAAHWD\n",
       "KgtwTxl0AAAAAElFTkSuQmCC\n",
       "\" style=\"display:inline;vertical-align:middle;\" /></a>, <a class=\"ProveItLink\" href=\"../__pv_it/demonstrations/4a82d58b126555a18b104ddba47c5351567eeaea0/expr.ipynb\"><img src=\"data:image/png;base64,iVBORw0KGgoAAAANSUhEUgAAADEAAAAUCAMAAAATIyWrAAAAPFBMVEX///8AAAAAAAAAAAAAAAAA\n",
       "AAAAAAAAAAAAAAAAAAAAAAAAAAAAAAAAAAAAAAAAAAAAAAAAAAAAAAAAAAAo1xBWAAAAE3RSTlMA\n",
       "Ms3vmVREEIndIqt2u2bn9enzePXnUgAAAAlwSFlzAAAOxAAADsQBlSsOGwAAAOJJREFUKM+VkukS\n",
       "hSAIhQU3zOUuvv+7XrHphjk5Ez8qoePHUZRahfH3NUBt5mSWK6JkNpmodlJkEAtsdR+ExNWpA4hi\n",
       "UULnCCqFGSF7yF1uxb442XBxaLrXYe99i5RgtoES4Q9F4b10K+UTZ0KP15ufB2ertCtSU2uWGVwi\n",
       "TkV7mcqfga4uRl9+Vzhm6NwTbok4nNtm17NKlSpGg/v/fHc3//PK/SZKs+v7IUVUdtgUr/dZtDrs\n",
       "5sawwaihbzsPWeAp0Tw3PiaCLSZYItp/hlKEu0m2pB4G+oeC8hgRniIUrIo/FvAG9zLswUoAAAAA\n",
       "SUVORK5CYII=\n",
       "\" style=\"display:inline;vertical-align:middle;\" /></a>, <a class=\"ProveItLink\" href=\"../../number_sets/integers/__pv_it/theorems/1759e791f6052d2463eefaaf9e2fa309cc3375160/expr.ipynb\"><img src=\"data:image/png;base64,iVBORw0KGgoAAAANSUhEUgAAADEAAAAUCAMAAAATIyWrAAAAPFBMVEX///8AAAAAAAAAAAAAAAAA\n",
       "AAAAAAAAAAAAAAAAAAAAAAAAAAAAAAAAAAAAAAAAAAAAAAAAAAAAAAAAAAAo1xBWAAAAE3RSTlMA\n",
       "IquJdkTvuxBmmd1UzTLn9enzF+Xi+wAAAAlwSFlzAAAOxAAADsQBlSsOGwAAANlJREFUKM+VktkS\n",
       "wyAIRVGMCy5d/P9/rZBJY5qWTniIIfFyvAiAFhThWrQwZ4iOzB9FaFNSC0DMuqTZKUlZOEFHzAWD\n",
       "yEvXnC0zAjoJthdejEVn3ElRZ0TcFIlr+fEr7DjKErc7PzeO6bgqRuXok2xTEbtiLNT5NeOnCzqk\n",
       "cVUszPBBPiwqYnNehvPIKkh9Gg0+/+O5unn3K8hNpGE3Sr9shXIoWj/7nrxUqywejJIJDucudGp2\n",
       "5inxPDfROmzGuqYixj5CZ9uv6y54ccq/IfRIlxH5KgKa9vMF/x0G2+xofVIAAAAASUVORK5CYII=\n",
       "\" style=\"display:inline;vertical-align:middle;\" /></a> <a class=\"ProveItLink\" href=\"../__pv_it/demonstrations/469f554a2bb604e6c099e4e82f2fae52806971fd0/proof.ipynb\" style=\"text-decoration: none\">&nbsp;&#x22A2;&nbsp;&nbsp;</a><a class=\"ProveItLink\" href=\"../__pv_it/demonstrations/a5ac028f6838b0bf098f3706ff4e9510c5966b250/expr.ipynb\"><img src=\"data:image/png;base64,iVBORw0KGgoAAAANSUhEUgAAASQAAAAyBAMAAAAHL7vtAAAAMFBMVEX///8AAAAAAAAAAAAAAAAA\n",
       "AAAAAAAAAAAAAAAAAAAAAAAAAAAAAAAAAAAAAAAAAAAv3aB7AAAAD3RSTlMAInZUiRDNmWbv3US7\n",
       "qzJazP2FAAAACXBIWXMAAA7EAAAOxAGVKw4bAAAD8ElEQVRYw81ZTWgTQRR+TZqfbts0eLYYxYMH\n",
       "rRFEsJeWXhShba5CJQEp6i0HKShCgwdBENNK/aFaCFQojZdePUUFEQSxFJHqpfXSQy9Ju11bqH8z\n",
       "u8lm32Zm9yW7Bd9hs/t+vnkz82bevAkAQByI1EZR6lqHVin0vvoSSFJNOhMEpVVonTZTxu9ZkXBs\n",
       "VsQ94aYA0D3oIHSzDhaM0coIpddEzHDKRQHgnpPQ1XpYf0ZyaG5qX6qdwSmarb+r4nCbdhC6wQMo\n",
       "+mcHHrpquHRqNoZBj+vgmrBNJeEgdIWHoN7AOaFNe0Foc918MxUw3XcSusJXJ/QmH+4vRxNYJbxy\n",
       "Kolt2o89rM01UsA0IxKS4QFK8WrHX8e7NGyTHg9tIUbbPNypBS9SQBTQREIyPPN1mT3m2aJ7BpEC\n",
       "thlIwSPEUAY547zZjKmAQ2lZIKTDs2/u+3O26CqcxX6LxcXZYpHDTgDsIMakvv7LvIWfYCrYqWxs\n",
       "3VhIh2fg24ZLHW8gvYS78RI6VcR4YUwBfywgBUTfbNY60eEZfTQmLp2AvG0FqBDRrAzde4B+y7YU\n",
       "Eaz0OZGQDs8oz+L7HbNJwtdgHNn8gcs5xNhjmwnAA7MdU8FKsT2RkA7PlXP6uu5KBBciuBur8AEz\n",
       "2HoYMXYMmwJacFsiIR2ezzKLrE02bCsjvX1Y5cqFnG1zu3iXReArsx1TAR1MpkRCOjyHYGtTWRdt\n",
       "r2JGW8E5mbJAdiZneN23Ck6lDWnQxojknFtMZ91OXDk3RnSfPd7Sj1iHXeTlBHilGF97Y3R9N+8H\n",
       "kp5dCu3yACF3LeB2Ss+ve3YJfoOvdDruHeOXZwSWpzgZ6XY05d2lJ/6O0qQPLhXhrwdqgFszfnRh\n",
       "xTw0NAe36O8ordkZC81jLPobS/5MnK80Gv/vwvu0D/vSnL8u+bFV7tLUNp7S9AaWzFR1I9uaR6Ed\n",
       "oqJKUyvX83pPi+kutk28xdFoej31oSm1uPiCxN63F2h6Sv0W5lKLoRTYoumFiYHRPeV2W+MOUZFd\n",
       "AZpVPKPeoTIxMKJazbzPefx7hw41e1auV/EskKbhMzEwYmqjuTA25ZBHJKc3SxUPvOKaaG6f4+YZ\n",
       "JzUGeVu2tUkSQK2KT3PgSV4vE+kWMpcfYuSQ3+UTqlfxSlYv10P7VJdKS7ZLADE5QMq2JUsVz8v1\n",
       "aIXqkt4HZC6MCzlkVBaDlioeQip0Z85AM0vOai50SQ5ZvaASFNL1Kp7fY/RnyQlrpsFcRHLIkqwn\n",
       "liqe1e/Hf6yQM3w+ZTcXkRzyE/hO4UFP5tRk2lQin/ZkriT9dwlOerIePgCPjL91Wp63zEG4BFc9\n",
       "2G6kDsQlL38RjvPnP8IVoNh57aFoAAAAAElFTkSuQmCC\n",
       "\" style=\"display:inline;vertical-align:middle;\" /></a></span>"
      ],
      "text/plain": [
       "{a in Complex, d in Complex, b in Complex, c in Complex, d != 0, a != 0} |- (((a + b + c) * b) / (a * d)) = ((b / d) * ((a + b + c) / a))"
      ]
     },
     "metadata": {},
     "output_type": "display_data"
    }
   ],
   "source": [
    "expr_03.factorization(frac(b, d), assumptions=assumptions)"
   ]
  },
  {
   "cell_type": "code",
   "execution_count": 18,
   "metadata": {},
   "outputs": [
    {
     "data": {
      "text/html": [
       "<span style=\"font-size:20px;\"><a class=\"ProveItLink\" href=\"../__pv_it/theorems/e9f87a0977d5044ea8daf1040d2f219396bb3d5b0/expr.ipynb\"><img src=\"data:image/png;base64,iVBORw0KGgoAAAANSUhEUgAAADMAAAAQBAMAAABJt1qBAAAAMFBMVEX///8AAAAAAAAAAAAAAAAA\n",
       "AAAAAAAAAAAAAAAAAAAAAAAAAAAAAAAAAAAAAAAAAAAv3aB7AAAAD3RSTlMAIquJdkTvuxBmmd1U\n",
       "zTKBpmoTAAAACXBIWXMAAA7EAAAOxAGVKw4bAAAA0ElEQVQY02NgwAKaq+86PsYmwcCiNoFjfRVW\n",
       "qSXBDAycWKX4FlQASS0UMffduy8AKaaGAiDZiSwT6wGh2RkXQEUYlR0dwPQNqIAQnwGUFSbA/gNE\n",
       "8wpABR6zToAwODIZuDaApWAGS7E6QBhcHxi4wQY82w0EBWC7oAayFTD0B4AY7TBd7GAXAkG/A8N8\n",
       "MIMbJsUK9hcrUOoAgy4PyAUsDvDQCAISa4HaHXh2cYFF7sDDsHYhx2mg3zhU7IT8wCJNpQ2wkC/7\n",
       "vRA18IKrwQEFAwCqvi28/xxvKQAAAABJRU5ErkJggg==\n",
       "\" style=\"display:inline;vertical-align:middle;\" /></a>, <a class=\"ProveItLink\" href=\"../__pv_it/theorems/a259ec76dfb0a5be60b7c83d797520fa82c1dba60/expr.ipynb\"><img src=\"data:image/png;base64,iVBORw0KGgoAAAANSUhEUgAAADEAAAAQBAMAAABNQoq8AAAAMFBMVEX///8AAAAAAAAAAAAAAAAA\n",
       "AAAAAAAAAAAAAAAAAAAAAAAAAAAAAAAAAAAAAAAAAAAv3aB7AAAAD3RSTlMAELvv3c2ZVESJq3Yi\n",
       "MmZ3LnoBAAAACXBIWXMAAA7EAAAOxAGVKw4bAAAA2UlEQVQY02NgwASSKqF7bjIwMCo7oElwL37A\n",
       "mK8GZLAmoMlkdzIw8IFk+AtQJXgTFIHkMiDuF4AKbXJxCQBSXAIKQFIOiKdAJVo3QmgmHpjxUbuX\n",
       "gyieQCj/FO8ECIPxq4D8AZBDDkBlbnI8gDDYPzIwbwDJwFxwjGMDhMEWwMAP0n7ZBQgUwPZATWOZ\n",
       "wNAPcrcQTA8T2G0Q7+SD3M0Ck+EA+4cDKHOB0Q4cJhvgYdAFJFKBHnvABHF/ODzcVHMYS4BijCvz\n",
       "IAJSGrDAkFT+koMSYJ0q4NCBAQD6uylQEVfDpgAAAABJRU5ErkJggg==\n",
       "\" style=\"display:inline;vertical-align:middle;\" /></a>, <a class=\"ProveItLink\" href=\"../../addition/subtraction/__pv_it/theorems/b66b5547fa9b0b910f79351152926c658c2718190/expr.ipynb\"><img src=\"data:image/png;base64,iVBORw0KGgoAAAANSUhEUgAAADEAAAAQBAMAAABNQoq8AAAAMFBMVEX///8AAAAAAAAAAAAAAAAA\n",
       "AAAAAAAAAAAAAAAAAAAAAAAAAAAAAAAAAAAAAAAAAAAv3aB7AAAAD3RSTlMAiXZmMiLdVJm77xBE\n",
       "zatgdeJyAAAACXBIWXMAAA7EAAAOxAGVKw4bAAAAw0lEQVQY02NgwAQbp91VdcQizsD0yoC7fwY2\n",
       "maaDDAzM2GRYGmYDyRfIQpppaReAFN+GCUByM5LEWW0IzcnaABMSUnYAkqy3odw4FgEoK6yAA6Sd\n",
       "NwDKd+QxgLISGbgUQDIwIyJ4FCAMjt8Q2isNCCaA7YGaxjUBQu+E6eHcABXZD9XLBpPhAfuHh4GB\n",
       "H2jfAVCYKMDD4ByQ6AXaM4GBEeRqhuvwcJvbyl0G8pOgMcSL++ZsgIX1rG+tKAF2cBo4dGAAAHWD\n",
       "KgtwTxl0AAAAAElFTkSuQmCC\n",
       "\" style=\"display:inline;vertical-align:middle;\" /></a>, <a class=\"ProveItLink\" href=\"../../number_sets/integers/__pv_it/theorems/1759e791f6052d2463eefaaf9e2fa309cc3375160/expr.ipynb\"><img src=\"data:image/png;base64,iVBORw0KGgoAAAANSUhEUgAAADEAAAAUCAMAAAATIyWrAAAAPFBMVEX///8AAAAAAAAAAAAAAAAA\n",
       "AAAAAAAAAAAAAAAAAAAAAAAAAAAAAAAAAAAAAAAAAAAAAAAAAAAAAAAAAAAo1xBWAAAAE3RSTlMA\n",
       "IquJdkTvuxBmmd1UzTLn9enzF+Xi+wAAAAlwSFlzAAAOxAAADsQBlSsOGwAAANlJREFUKM+VktkS\n",
       "wyAIRVGMCy5d/P9/rZBJY5qWTniIIfFyvAiAFhThWrQwZ4iOzB9FaFNSC0DMuqTZKUlZOEFHzAWD\n",
       "yEvXnC0zAjoJthdejEVn3ElRZ0TcFIlr+fEr7DjKErc7PzeO6bgqRuXok2xTEbtiLNT5NeOnCzqk\n",
       "cVUszPBBPiwqYnNehvPIKkh9Gg0+/+O5unn3K8hNpGE3Sr9shXIoWj/7nrxUqywejJIJDucudGp2\n",
       "5inxPDfROmzGuqYixj5CZ9uv6y54ccq/IfRIlxH5KgKa9vMF/x0G2+xofVIAAAAASUVORK5CYII=\n",
       "\" style=\"display:inline;vertical-align:middle;\" /></a>, <a class=\"ProveItLink\" href=\"../__pv_it/theorems/d6724abdc9486f838f4cf63bc1115e85255ce4c00/expr.ipynb\"><img src=\"data:image/png;base64,iVBORw0KGgoAAAANSUhEUgAAADMAAAAQBAMAAABJt1qBAAAAMFBMVEX///8AAAAAAAAAAAAAAAAA\n",
       "AAAAAAAAAAAAAAAAAAAAAAAAAAAAAAAAAAAAAAAAAAAv3aB7AAAAD3RSTlMAMs3vmVREEIndIqt2\n",
       "u2aBbGR5AAAACXBIWXMAAA7EAAAOxAGVKw4bAAAA4UlEQVQY02NgwAIqbiqdkgCzGJUdUGR4Nj9g\n",
       "978CYfMHoEj5ZDAw8EGl8guQZRgdrgPJLRBOJ4Q6O3OmApDiLrgAJOsgYipgMuk4hMfLBbOaa8fB\n",
       "r2BaHSqwmrEBykpewPsdRDMtgApIsD2AMNjtGFgUwFIwZyxhOwBhsHxg4AQbIDwTCC6A7YIayHyB\n",
       "oT4BxKiF6eIFuxAI6g8wvAczOGFSbGB/sQGlAhg2sYJcwHMAHhrZQMIJqP0A6xQWsIgqPAwvebFH\n",
       "Av3Gvqdx9UGwSPU1WHhVXP7phRoXGTfBAQUDAJ+SNfXA0lXRAAAAAElFTkSuQmCC\n",
       "\" style=\"display:inline;vertical-align:middle;\" /></a>, <a class=\"ProveItLink\" href=\"../__pv_it/demonstrations/4a82d58b126555a18b104ddba47c5351567eeaea0/expr.ipynb\"><img src=\"data:image/png;base64,iVBORw0KGgoAAAANSUhEUgAAADEAAAAUCAMAAAATIyWrAAAAPFBMVEX///8AAAAAAAAAAAAAAAAA\n",
       "AAAAAAAAAAAAAAAAAAAAAAAAAAAAAAAAAAAAAAAAAAAAAAAAAAAAAAAAAAAo1xBWAAAAE3RSTlMA\n",
       "Ms3vmVREEIndIqt2u2bn9enzePXnUgAAAAlwSFlzAAAOxAAADsQBlSsOGwAAAOJJREFUKM+VkukS\n",
       "hSAIhQU3zOUuvv+7XrHphjk5Ez8qoePHUZRahfH3NUBt5mSWK6JkNpmodlJkEAtsdR+ExNWpA4hi\n",
       "UULnCCqFGSF7yF1uxb442XBxaLrXYe99i5RgtoES4Q9F4b10K+UTZ0KP15ufB2ertCtSU2uWGVwi\n",
       "TkV7mcqfga4uRl9+Vzhm6NwTbok4nNtm17NKlSpGg/v/fHc3//PK/SZKs+v7IUVUdtgUr/dZtDrs\n",
       "5sawwaihbzsPWeAp0Tw3PiaCLSZYItp/hlKEu0m2pB4G+oeC8hgRniIUrIo/FvAG9zLswUoAAAAA\n",
       "SUVORK5CYII=\n",
       "\" style=\"display:inline;vertical-align:middle;\" /></a> <a class=\"ProveItLink\" href=\"../__pv_it/demonstrations/15f2a73cb511e4c574ab5a730cd7aef2168d510d0/proof.ipynb\" style=\"text-decoration: none\">&nbsp;&#x22A2;&nbsp;&nbsp;</a><a class=\"ProveItLink\" href=\"../__pv_it/demonstrations/748f48a97819b9ae4ab512041c809365b372f6980/expr.ipynb\"><img src=\"data:image/png;base64,iVBORw0KGgoAAAANSUhEUgAAASQAAAAyBAMAAAAHL7vtAAAAMFBMVEX///8AAAAAAAAAAAAAAAAA\n",
       "AAAAAAAAAAAAAAAAAAAAAAAAAAAAAAAAAAAAAAAAAAAv3aB7AAAAD3RSTlMAInZUiRDNmWbv3US7\n",
       "qzJazP2FAAAACXBIWXMAAA7EAAAOxAGVKw4bAAAEbklEQVRYw81ZTWgTQRR+bf6aNGlyFotRFDz4\n",
       "E4sIemkpgiKoexWUBET0IuQgoiI0eBAFMVbqX1UoKJSuCD3qKVUQURCliqiX1ksPXlKNUcHfmZ3Z\n",
       "2Xnb2ew0uwXfYTd97833vpl582ZmCwCQA03p0HFKz0K7EnvCf3QWdJt05zWc3kH78slg780q4/5R\n",
       "lXatnwNAZkDZ/2djrceH2SPMK1ZSOh1WKeOGjwPAWbU6Xm49Pty+23omKmhu7L8abgWVLgm4oU63\n",
       "Yfz3A/7OFlR4jnB7yrImkSnC06W76VIwueJwbyqhU6506+PvmqHEE8LtESvAFiWl6JgS4oj4FVUn\n",
       "x3lQU9oFrSntktPhGB3uNyvzuEV8en0BQ0RXXbTnGjlgGWHTJ/BsSkdXvXZRGlwrVwvbXsvxjj/M\n",
       "pZu4RfFQ7DNSdNyB03LyCgcknQzGweOUYt+MYg7hLSskpqQVZ9vjr8jjDlFch8QYptRvwGWkSA1Q\n",
       "xVYBIhxwKr2yAjh4nFKkCck8wrtrK7A9Qrtykyy6eRqRvE1zYtQ0KexxgK9IMWTlX93qEQgHt9St\n",
       "ybDxTpnmDdO8TzUlyA7IeAm8OridgH9hlJJTUJwEVye6G0hxi80IfYwjByTvraeE1yfGuIZyMzmF\n",
       "R1fYn7OJK+ah6loQDbsfXGGxB9gmlaWEogzcZnnm4PWJsjNkyHjFvLsscXuVpNRjYi/A2wjOvj+w\n",
       "r4IUP0gpArggQISDLD0/WDwHz6Y0S/JLxsuSxpMSJWEvVqx1nc5HxhN4lN7BU6wgy20PqxguB7Tg\n",
       "2CKU8DilTCVdRnhkuUWlIuDYkyTRPpFZmd7TuwEzOLCj4qqdO8+Qkb0nQIQDOphcYrPs4NlF4M0J\n",
       "V2ZsP7dG3naFPU2WampWVb3Vio7W+7k7aaVSCT7V29kV5vFWqtgVkSJRaY1XXLDfP4BWeArp+kke\n",
       "j/SPWMt97PU8BJUeurT36/v7se8vBKYU+04TRLtrnX6n9OpsYErwG0KVjbngGL8CI5Bti4q13cJe\n",
       "Izilq+GO0lAIlEz4G0AWwM2w1yLas2NFVoKbCHeUZhbfZNytmAg3l8KZuFBlb+6/S++NIdSl2+FS\n",
       "CqNUftdzm7um59c/2T4VHiP2VdO/oedWrwQYnoaz7ep8xWnq+WXL7TPiMSKavY+O6fmlSu1T4jE6\n",
       "P+u5xzV7n7nUPiUeIzPv9QlQXOqJ9A7WNc9BXU0dPJWIGAvPylycSz2Z5GF4qVmVexoaeMpEEjFW\n",
       "eFCXLvVA72vHA9Y5hKcSJ0bVYwOwL/VFmq5D9LatKSdb43mfakSMD96XH+tSnypbXwNiP3Up1SZb\n",
       "4nmKE8OrLEmXevo1oGtel1Kq7IunnFgRw3OBSJd6iDUgU9oEgZacjKekJGKwD1QKkS719DvGtrJ2\n",
       "VR7xx1OJiFHzIi5d6sntf/XHae0dvmr44qlExHgBoUt8IFBz3c10Uffn4UDNU4XwKcG6QK13LwEj\n",
       "j3/r6M5baSkowcEAbeeMJaEU5F+Eh+jzH+wDnfnuyyM4AAAAAElFTkSuQmCC\n",
       "\" style=\"display:inline;vertical-align:middle;\" /></a></span>"
      ],
      "text/plain": [
       "{a in Complex, b in Complex, c in Complex, a != 0, d in Complex, d != 0} |- (((a + b + c) * b) / (a * d)) = (((a + b + c) / a) * (b / d))"
      ]
     },
     "metadata": {},
     "output_type": "display_data"
    }
   ],
   "source": [
    "expr_03.factorization(frac(b, d), pull='right', assumptions=assumptions)"
   ]
  },
  {
   "cell_type": "code",
   "execution_count": 19,
   "metadata": {},
   "outputs": [
    {
     "data": {
      "text/html": [
       "<span style=\"font-size:20px;\"><a class=\"ProveItLink\" href=\"../__pv_it/theorems/e9f87a0977d5044ea8daf1040d2f219396bb3d5b0/expr.ipynb\"><img src=\"data:image/png;base64,iVBORw0KGgoAAAANSUhEUgAAADMAAAAQBAMAAABJt1qBAAAAMFBMVEX///8AAAAAAAAAAAAAAAAA\n",
       "AAAAAAAAAAAAAAAAAAAAAAAAAAAAAAAAAAAAAAAAAAAv3aB7AAAAD3RSTlMAIquJdkTvuxBmmd1U\n",
       "zTKBpmoTAAAACXBIWXMAAA7EAAAOxAGVKw4bAAAA0ElEQVQY02NgwAKaq+86PsYmwcCiNoFjfRVW\n",
       "qSXBDAycWKX4FlQASS0UMffduy8AKaaGAiDZiSwT6wGh2RkXQEUYlR0dwPQNqIAQnwGUFSbA/gNE\n",
       "8wpABR6zToAwODIZuDaApWAGS7E6QBhcHxi4wQY82w0EBWC7oAayFTD0B4AY7TBd7GAXAkG/A8N8\n",
       "MIMbJsUK9hcrUOoAgy4PyAUsDvDQCAISa4HaHXh2cYFF7sDDsHYhx2mg3zhU7IT8wCJNpQ2wkC/7\n",
       "vRA18IKrwQEFAwCqvi28/xxvKQAAAABJRU5ErkJggg==\n",
       "\" style=\"display:inline;vertical-align:middle;\" /></a>, <a class=\"ProveItLink\" href=\"../__pv_it/theorems/d6724abdc9486f838f4cf63bc1115e85255ce4c00/expr.ipynb\"><img src=\"data:image/png;base64,iVBORw0KGgoAAAANSUhEUgAAADMAAAAQBAMAAABJt1qBAAAAMFBMVEX///8AAAAAAAAAAAAAAAAA\n",
       "AAAAAAAAAAAAAAAAAAAAAAAAAAAAAAAAAAAAAAAAAAAv3aB7AAAAD3RSTlMAMs3vmVREEIndIqt2\n",
       "u2aBbGR5AAAACXBIWXMAAA7EAAAOxAGVKw4bAAAA4UlEQVQY02NgwAIqbiqdkgCzGJUdUGR4Nj9g\n",
       "978CYfMHoEj5ZDAw8EGl8guQZRgdrgPJLRBOJ4Q6O3OmApDiLrgAJOsgYipgMuk4hMfLBbOaa8fB\n",
       "r2BaHSqwmrEBykpewPsdRDMtgApIsD2AMNjtGFgUwFIwZyxhOwBhsHxg4AQbIDwTCC6A7YIayHyB\n",
       "oT4BxKiF6eIFuxAI6g8wvAczOGFSbGB/sQGlAhg2sYJcwHMAHhrZQMIJqP0A6xQWsIgqPAwvebFH\n",
       "Av3Gvqdx9UGwSPU1WHhVXP7phRoXGTfBAQUDAJ+SNfXA0lXRAAAAAElFTkSuQmCC\n",
       "\" style=\"display:inline;vertical-align:middle;\" /></a>, <a class=\"ProveItLink\" href=\"../__pv_it/theorems/a259ec76dfb0a5be60b7c83d797520fa82c1dba60/expr.ipynb\"><img src=\"data:image/png;base64,iVBORw0KGgoAAAANSUhEUgAAADEAAAAQBAMAAABNQoq8AAAAMFBMVEX///8AAAAAAAAAAAAAAAAA\n",
       "AAAAAAAAAAAAAAAAAAAAAAAAAAAAAAAAAAAAAAAAAAAv3aB7AAAAD3RSTlMAELvv3c2ZVESJq3Yi\n",
       "MmZ3LnoBAAAACXBIWXMAAA7EAAAOxAGVKw4bAAAA2UlEQVQY02NgwASSKqF7bjIwMCo7oElwL37A\n",
       "mK8GZLAmoMlkdzIw8IFk+AtQJXgTFIHkMiDuF4AKbXJxCQBSXAIKQFIOiKdAJVo3QmgmHpjxUbuX\n",
       "gyieQCj/FO8ECIPxq4D8AZBDDkBlbnI8gDDYPzIwbwDJwFxwjGMDhMEWwMAP0n7ZBQgUwPZATWOZ\n",
       "wNAPcrcQTA8T2G0Q7+SD3M0Ck+EA+4cDKHOB0Q4cJhvgYdAFJFKBHnvABHF/ODzcVHMYS4BijCvz\n",
       "IAJSGrDAkFT+koMSYJ0q4NCBAQD6uylQEVfDpgAAAABJRU5ErkJggg==\n",
       "\" style=\"display:inline;vertical-align:middle;\" /></a>, <a class=\"ProveItLink\" href=\"../../addition/subtraction/__pv_it/theorems/b66b5547fa9b0b910f79351152926c658c2718190/expr.ipynb\"><img src=\"data:image/png;base64,iVBORw0KGgoAAAANSUhEUgAAADEAAAAQBAMAAABNQoq8AAAAMFBMVEX///8AAAAAAAAAAAAAAAAA\n",
       "AAAAAAAAAAAAAAAAAAAAAAAAAAAAAAAAAAAAAAAAAAAv3aB7AAAAD3RSTlMAiXZmMiLdVJm77xBE\n",
       "zatgdeJyAAAACXBIWXMAAA7EAAAOxAGVKw4bAAAAw0lEQVQY02NgwAQbp91VdcQizsD0yoC7fwY2\n",
       "maaDDAzM2GRYGmYDyRfIQpppaReAFN+GCUByM5LEWW0IzcnaABMSUnYAkqy3odw4FgEoK6yAA6Sd\n",
       "NwDKd+QxgLISGbgUQDIwIyJ4FCAMjt8Q2isNCCaA7YGaxjUBQu+E6eHcABXZD9XLBpPhAfuHh4GB\n",
       "H2jfAVCYKMDD4ByQ6AXaM4GBEeRqhuvwcJvbyl0G8pOgMcSL++ZsgIX1rG+tKAF2cBo4dGAAAHWD\n",
       "KgtwTxl0AAAAAElFTkSuQmCC\n",
       "\" style=\"display:inline;vertical-align:middle;\" /></a>, <a class=\"ProveItLink\" href=\"../__pv_it/demonstrations/4a82d58b126555a18b104ddba47c5351567eeaea0/expr.ipynb\"><img src=\"data:image/png;base64,iVBORw0KGgoAAAANSUhEUgAAADEAAAAUCAMAAAATIyWrAAAAPFBMVEX///8AAAAAAAAAAAAAAAAA\n",
       "AAAAAAAAAAAAAAAAAAAAAAAAAAAAAAAAAAAAAAAAAAAAAAAAAAAAAAAAAAAo1xBWAAAAE3RSTlMA\n",
       "Ms3vmVREEIndIqt2u2bn9enzePXnUgAAAAlwSFlzAAAOxAAADsQBlSsOGwAAAOJJREFUKM+VkukS\n",
       "hSAIhQU3zOUuvv+7XrHphjk5Ez8qoePHUZRahfH3NUBt5mSWK6JkNpmodlJkEAtsdR+ExNWpA4hi\n",
       "UULnCCqFGSF7yF1uxb442XBxaLrXYe99i5RgtoES4Q9F4b10K+UTZ0KP15ufB2ertCtSU2uWGVwi\n",
       "TkV7mcqfga4uRl9+Vzhm6NwTbok4nNtm17NKlSpGg/v/fHc3//PK/SZKs+v7IUVUdtgUr/dZtDrs\n",
       "5sawwaihbzsPWeAp0Tw3PiaCLSZYItp/hlKEu0m2pB4G+oeC8hgRniIUrIo/FvAG9zLswUoAAAAA\n",
       "SUVORK5CYII=\n",
       "\" style=\"display:inline;vertical-align:middle;\" /></a>, <a class=\"ProveItLink\" href=\"../../number_sets/integers/__pv_it/theorems/1759e791f6052d2463eefaaf9e2fa309cc3375160/expr.ipynb\"><img src=\"data:image/png;base64,iVBORw0KGgoAAAANSUhEUgAAADEAAAAUCAMAAAATIyWrAAAAPFBMVEX///8AAAAAAAAAAAAAAAAA\n",
       "AAAAAAAAAAAAAAAAAAAAAAAAAAAAAAAAAAAAAAAAAAAAAAAAAAAAAAAAAAAo1xBWAAAAE3RSTlMA\n",
       "IquJdkTvuxBmmd1UzTLn9enzF+Xi+wAAAAlwSFlzAAAOxAAADsQBlSsOGwAAANlJREFUKM+VktkS\n",
       "wyAIRVGMCy5d/P9/rZBJY5qWTniIIfFyvAiAFhThWrQwZ4iOzB9FaFNSC0DMuqTZKUlZOEFHzAWD\n",
       "yEvXnC0zAjoJthdejEVn3ElRZ0TcFIlr+fEr7DjKErc7PzeO6bgqRuXok2xTEbtiLNT5NeOnCzqk\n",
       "cVUszPBBPiwqYnNehvPIKkh9Gg0+/+O5unn3K8hNpGE3Sr9shXIoWj/7nrxUqywejJIJDucudGp2\n",
       "5inxPDfROmzGuqYixj5CZ9uv6y54ccq/IfRIlxH5KgKa9vMF/x0G2+xofVIAAAAASUVORK5CYII=\n",
       "\" style=\"display:inline;vertical-align:middle;\" /></a> <a class=\"ProveItLink\" href=\"../__pv_it/demonstrations/8b37a39d69dca6472911cade617a6e5d3a49afc70/proof.ipynb\" style=\"text-decoration: none\">&nbsp;&#x22A2;&nbsp;&nbsp;</a><a class=\"ProveItLink\" href=\"../__pv_it/demonstrations/5235aa85581a499d7705f01ee32aa2467c5154ec0/expr.ipynb\"><img src=\"data:image/png;base64,iVBORw0KGgoAAAANSUhEUgAAAUwAAAAyBAMAAADFH/9pAAAAMFBMVEX///8AAAAAAAAAAAAAAAAA\n",
       "AAAAAAAAAAAAAAAAAAAAAAAAAAAAAAAAAAAAAAAAAAAv3aB7AAAAD3RSTlMAInZUiRDNmWbv3US7\n",
       "qzJazP2FAAAACXBIWXMAAA7EAAAOxAGVKw4bAAAEYUlEQVRo3tVYTWgTQRR+bbpNmiZN8KwYxYMH\n",
       "tRFE0EuLF6VQm6tQSUBEPYg5SFERGjwIgphW6g/+YEGhNF567SkqiCiIUsU/EOPFg5ekrbFC/ZuZ\n",
       "TXZ3sm87r+7swXeYTWZnvu/bnTdv3j4AgCQQrY0yKFZBOv+dwnjc+NGepmJ0pwiD3iF9fii+Zszr\n",
       "DmS08XQSA9ls/xy+gfPE+53Y4E3hgeCiCJlKjBw2ujOP9jrYj+Ayz3PItyckmTgFjuCmGBRtuCC9\n",
       "9Ma/RLqlQ1jEIX4R961xcemVZOIUFoKCIipud0k0oYZvlDMtHaZdscnqqMxoCpGJU1gICoqQ6NmJ\n",
       "YgwAinHU+tWBOi9cAEQmTmEhqCjE2p/kS/V6Q0qecnzjqxaMjo2Xmn4ifGhuK7Z9JzCZOIWFoKIo\n",
       "JxvqZ5OxuoRhfM9kkxJG2104a24Q07KHjXkk8tQxmSiFjaCi6HzJmrtM1HUIT0oYoTp0pSSMaD9c\n",
       "BthlYfRl+H+Xa77EZKIUNoKKIsSf7ybbiTU+hF1LpekbpRKjCucg0e/sgFFBXBVvmv8aAfjmllmt\n",
       "YDJRigYCSgHZnIPCWDAxuh5AdkZ6VAZZlh3nlmhneTPFm3vQjYSk9+Ah001hIyAU0bxzwDNzRbIp\n",
       "KMq7joVN89ksZ10Ql92OmBZGQtJt8Fh0N4WNoKQosm3yiGGk4U1I2jGJCnMmCfQHi2MAFy2M33Cg\n",
       "4FLZ8wOViVLYCEqKbEEEgFgqNBWWVMULsbwsk+3B/WZoaWYYT5CN3tz8Q1JKhFLYCEqKLua5X9nr\n",
       "ntu/bpsckF6fag3G+86xN3Tfwji4t4AkcWPm9eOd4867KIWNoKSIsRgRrWBHBN7RNrlyGsY2CnqC\n",
       "+qToqMlnfUsa4OoIF1aWmUXzKt8UkWXWPASyrVXcr3rkzT4pengMGKZjqOj6PLJ0nxTGEveGFBWi\n",
       "XfVJU6x4fOH4pPgFWq03CYHYT98I7EzmZqYcQ5lgZF7VCzcakMwS/PFhLrhP5kXcrFnJlH+Kab1P\n",
       "/am1Y0oP7rRe3wxu0bXaUPK/2EK9lWBk3tYLVwxI5hJt2JdrtHF9M9YxfCyvT6XxjThwkTasaqc3\n",
       "ibQ+mT0LxHJenTYuYb/CssZNHyK+pY5J2rioXXob0Oia7fO0cZ1ER4uPqeqK/2TxmscNu+LDbN2e\n",
       "KtHRIvXm9G3EdWLga5RjPL5dnBUf5pjj8ILoaD2L7ukKr6eAr/dIVx0VH+AfyyOri8N8eo42gYGf\n",
       "UYdjj8OtWfERpZxRXiYh2mlpOiX1o4B/8HYGUfERpZxbYCxTZZZnnNMJRgL3CpuOig8v7URqVJni\n",
       "uaTpivOFAh7x8nNHxQeMRYjntsNqtrpzukImBbxZNHUXWeyKDy9U7c6TD+gJ1/SVjQJe9npiR8UH\n",
       "4OCmz3PkzKeYaZ2+slHAn+tPuTr7tUNSE4pVJTPj2iGjaf0yYYt2xMEgEu247lXvzgUhEw5pxvsS\n",
       "zNdqTO/3kHGYt38BfZjP9PeidiwAAAAASUVORK5CYII=\n",
       "\" style=\"display:inline;vertical-align:middle;\" /></a></span>"
      ],
      "text/plain": [
       "{a in Complex, d in Complex, b in Complex, c in Complex, d != 0, a != 0} |- (((a + b + c) * b) / (a * d)) = ((1 / d) * (((a + b + c) * b) / a))"
      ]
     },
     "metadata": {},
     "output_type": "display_data"
    }
   ],
   "source": [
    "expr_03.factorization(frac(one, d), assumptions=assumptions)"
   ]
  },
  {
   "cell_type": "code",
   "execution_count": 20,
   "metadata": {},
   "outputs": [
    {
     "data": {
      "text/html": [
       "<span style=\"font-size:20px;\"><a class=\"ProveItLink\" href=\"../__pv_it/theorems/e9f87a0977d5044ea8daf1040d2f219396bb3d5b0/expr.ipynb\"><img src=\"data:image/png;base64,iVBORw0KGgoAAAANSUhEUgAAADMAAAAQBAMAAABJt1qBAAAAMFBMVEX///8AAAAAAAAAAAAAAAAA\n",
       "AAAAAAAAAAAAAAAAAAAAAAAAAAAAAAAAAAAAAAAAAAAv3aB7AAAAD3RSTlMAIquJdkTvuxBmmd1U\n",
       "zTKBpmoTAAAACXBIWXMAAA7EAAAOxAGVKw4bAAAA0ElEQVQY02NgwAKaq+86PsYmwcCiNoFjfRVW\n",
       "qSXBDAycWKX4FlQASS0UMffduy8AKaaGAiDZiSwT6wGh2RkXQEUYlR0dwPQNqIAQnwGUFSbA/gNE\n",
       "8wpABR6zToAwODIZuDaApWAGS7E6QBhcHxi4wQY82w0EBWC7oAayFTD0B4AY7TBd7GAXAkG/A8N8\n",
       "MIMbJsUK9hcrUOoAgy4PyAUsDvDQCAISa4HaHXh2cYFF7sDDsHYhx2mg3zhU7IT8wCJNpQ2wkC/7\n",
       "vRA18IKrwQEFAwCqvi28/xxvKQAAAABJRU5ErkJggg==\n",
       "\" style=\"display:inline;vertical-align:middle;\" /></a>, <a class=\"ProveItLink\" href=\"../__pv_it/theorems/a259ec76dfb0a5be60b7c83d797520fa82c1dba60/expr.ipynb\"><img src=\"data:image/png;base64,iVBORw0KGgoAAAANSUhEUgAAADEAAAAQBAMAAABNQoq8AAAAMFBMVEX///8AAAAAAAAAAAAAAAAA\n",
       "AAAAAAAAAAAAAAAAAAAAAAAAAAAAAAAAAAAAAAAAAAAv3aB7AAAAD3RSTlMAELvv3c2ZVESJq3Yi\n",
       "MmZ3LnoBAAAACXBIWXMAAA7EAAAOxAGVKw4bAAAA2UlEQVQY02NgwASSKqF7bjIwMCo7oElwL37A\n",
       "mK8GZLAmoMlkdzIw8IFk+AtQJXgTFIHkMiDuF4AKbXJxCQBSXAIKQFIOiKdAJVo3QmgmHpjxUbuX\n",
       "gyieQCj/FO8ECIPxq4D8AZBDDkBlbnI8gDDYPzIwbwDJwFxwjGMDhMEWwMAP0n7ZBQgUwPZATWOZ\n",
       "wNAPcrcQTA8T2G0Q7+SD3M0Ck+EA+4cDKHOB0Q4cJhvgYdAFJFKBHnvABHF/ODzcVHMYS4BijCvz\n",
       "IAJSGrDAkFT+koMSYJ0q4NCBAQD6uylQEVfDpgAAAABJRU5ErkJggg==\n",
       "\" style=\"display:inline;vertical-align:middle;\" /></a>, <a class=\"ProveItLink\" href=\"../../addition/subtraction/__pv_it/theorems/b66b5547fa9b0b910f79351152926c658c2718190/expr.ipynb\"><img src=\"data:image/png;base64,iVBORw0KGgoAAAANSUhEUgAAADEAAAAQBAMAAABNQoq8AAAAMFBMVEX///8AAAAAAAAAAAAAAAAA\n",
       "AAAAAAAAAAAAAAAAAAAAAAAAAAAAAAAAAAAAAAAAAAAv3aB7AAAAD3RSTlMAiXZmMiLdVJm77xBE\n",
       "zatgdeJyAAAACXBIWXMAAA7EAAAOxAGVKw4bAAAAw0lEQVQY02NgwAQbp91VdcQizsD0yoC7fwY2\n",
       "maaDDAzM2GRYGmYDyRfIQpppaReAFN+GCUByM5LEWW0IzcnaABMSUnYAkqy3odw4FgEoK6yAA6Sd\n",
       "NwDKd+QxgLISGbgUQDIwIyJ4FCAMjt8Q2isNCCaA7YGaxjUBQu+E6eHcABXZD9XLBpPhAfuHh4GB\n",
       "H2jfAVCYKMDD4ByQ6AXaM4GBEeRqhuvwcJvbyl0G8pOgMcSL++ZsgIX1rG+tKAF2cBo4dGAAAHWD\n",
       "KgtwTxl0AAAAAElFTkSuQmCC\n",
       "\" style=\"display:inline;vertical-align:middle;\" /></a>, <a class=\"ProveItLink\" href=\"../../number_sets/integers/__pv_it/theorems/1759e791f6052d2463eefaaf9e2fa309cc3375160/expr.ipynb\"><img src=\"data:image/png;base64,iVBORw0KGgoAAAANSUhEUgAAADEAAAAUCAMAAAATIyWrAAAAPFBMVEX///8AAAAAAAAAAAAAAAAA\n",
       "AAAAAAAAAAAAAAAAAAAAAAAAAAAAAAAAAAAAAAAAAAAAAAAAAAAAAAAAAAAo1xBWAAAAE3RSTlMA\n",
       "IquJdkTvuxBmmd1UzTLn9enzF+Xi+wAAAAlwSFlzAAAOxAAADsQBlSsOGwAAANlJREFUKM+VktkS\n",
       "wyAIRVGMCy5d/P9/rZBJY5qWTniIIfFyvAiAFhThWrQwZ4iOzB9FaFNSC0DMuqTZKUlZOEFHzAWD\n",
       "yEvXnC0zAjoJthdejEVn3ElRZ0TcFIlr+fEr7DjKErc7PzeO6bgqRuXok2xTEbtiLNT5NeOnCzqk\n",
       "cVUszPBBPiwqYnNehvPIKkh9Gg0+/+O5unn3K8hNpGE3Sr9shXIoWj/7nrxUqywejJIJDucudGp2\n",
       "5inxPDfROmzGuqYixj5CZ9uv6y54ccq/IfRIlxH5KgKa9vMF/x0G2+xofVIAAAAASUVORK5CYII=\n",
       "\" style=\"display:inline;vertical-align:middle;\" /></a>, <a class=\"ProveItLink\" href=\"../__pv_it/theorems/d6724abdc9486f838f4cf63bc1115e85255ce4c00/expr.ipynb\"><img src=\"data:image/png;base64,iVBORw0KGgoAAAANSUhEUgAAADMAAAAQBAMAAABJt1qBAAAAMFBMVEX///8AAAAAAAAAAAAAAAAA\n",
       "AAAAAAAAAAAAAAAAAAAAAAAAAAAAAAAAAAAAAAAAAAAv3aB7AAAAD3RSTlMAMs3vmVREEIndIqt2\n",
       "u2aBbGR5AAAACXBIWXMAAA7EAAAOxAGVKw4bAAAA4UlEQVQY02NgwAIqbiqdkgCzGJUdUGR4Nj9g\n",
       "978CYfMHoEj5ZDAw8EGl8guQZRgdrgPJLRBOJ4Q6O3OmApDiLrgAJOsgYipgMuk4hMfLBbOaa8fB\n",
       "r2BaHSqwmrEBykpewPsdRDMtgApIsD2AMNjtGFgUwFIwZyxhOwBhsHxg4AQbIDwTCC6A7YIayHyB\n",
       "oT4BxKiF6eIFuxAI6g8wvAczOGFSbGB/sQGlAhg2sYJcwHMAHhrZQMIJqP0A6xQWsIgqPAwvebFH\n",
       "Av3Gvqdx9UGwSPU1WHhVXP7phRoXGTfBAQUDAJ+SNfXA0lXRAAAAAElFTkSuQmCC\n",
       "\" style=\"display:inline;vertical-align:middle;\" /></a>, <a class=\"ProveItLink\" href=\"../__pv_it/demonstrations/4a82d58b126555a18b104ddba47c5351567eeaea0/expr.ipynb\"><img src=\"data:image/png;base64,iVBORw0KGgoAAAANSUhEUgAAADEAAAAUCAMAAAATIyWrAAAAPFBMVEX///8AAAAAAAAAAAAAAAAA\n",
       "AAAAAAAAAAAAAAAAAAAAAAAAAAAAAAAAAAAAAAAAAAAAAAAAAAAAAAAAAAAo1xBWAAAAE3RSTlMA\n",
       "Ms3vmVREEIndIqt2u2bn9enzePXnUgAAAAlwSFlzAAAOxAAADsQBlSsOGwAAAOJJREFUKM+VkukS\n",
       "hSAIhQU3zOUuvv+7XrHphjk5Ez8qoePHUZRahfH3NUBt5mSWK6JkNpmodlJkEAtsdR+ExNWpA4hi\n",
       "UULnCCqFGSF7yF1uxb442XBxaLrXYe99i5RgtoES4Q9F4b10K+UTZ0KP15ufB2ertCtSU2uWGVwi\n",
       "TkV7mcqfga4uRl9+Vzhm6NwTbok4nNtm17NKlSpGg/v/fHc3//PK/SZKs+v7IUVUdtgUr/dZtDrs\n",
       "5sawwaihbzsPWeAp0Tw3PiaCLSZYItp/hlKEu0m2pB4G+oeC8hgRniIUrIo/FvAG9zLswUoAAAAA\n",
       "SUVORK5CYII=\n",
       "\" style=\"display:inline;vertical-align:middle;\" /></a> <a class=\"ProveItLink\" href=\"../__pv_it/demonstrations/4ca8948191d7178bac3b31a9f3104eeaacdae3d40/proof.ipynb\" style=\"text-decoration: none\">&nbsp;&#x22A2;&nbsp;&nbsp;</a><a class=\"ProveItLink\" href=\"../__pv_it/demonstrations/305fd64ed402a918fa30b44df5d08d53c232b4ea0/expr.ipynb\"><img src=\"data:image/png;base64,iVBORw0KGgoAAAANSUhEUgAAAUwAAAAyBAMAAADFH/9pAAAAMFBMVEX///8AAAAAAAAAAAAAAAAA\n",
       "AAAAAAAAAAAAAAAAAAAAAAAAAAAAAAAAAAAAAAAAAAAv3aB7AAAAD3RSTlMAInZUiRDNmWbv3US7\n",
       "qzJazP2FAAAACXBIWXMAAA7EAAAOxAGVKw4bAAAE4klEQVRo3tWZTYgcRRTH305PT8/0ztc5GJwE\n",
       "hRzUTBYRzGWXICiBJHMVEmZAgl6EOcgSJbCDBz8gZHYlmhgNLMSwbAdh8WROswoiCmJYgyReMl5y\n",
       "yGUm2UwSiF9V1dVVXd3VXTVs9cE6TPfWvPm9f1W9ev26FgCgDpptRseoPIRpmCpD+wd6k2vqImcb\n",
       "GkY3p2N+ozK42/KvL8rG8NOq7Cf7+O3xi3JqZWE6Zq6XaFC9gj8tv9PuyLwVutLeFr9/Uy7zg2mZ\n",
       "J5MMTixOyPUI+XR6wrrSv2rNSAdpxRBnWx6+K3Hmt5DG/JDf1sRQyfkyXWJdEr6yaPgNWpEOv33K\n",
       "xzORynQbceYcpDFLfIUGLZlMizh9SSrzMEhlvsXu8tLghY8hzgxkypkFPrWHQSbTD6938FLd2NMQ\n",
       "CW/v/S2CzO89G8QJoW89L9vN5yDODGTGmYf2DSF/nf2YGYgyB3U6Qdfq5YlAsB+22nUBOXMZTtMN\n",
       "Qlr7pH1Psm8nbNI5k8qMM3c1nU0osu3GDUSZBTyQy+j7C+CsCjKtCZQaAtJdgE8AXmaM+Rb+Oxaa\n",
       "/tSITCozzvwKd1jLLBaYgSjTwtcv0MYcYxXo6nnrFz0PuXI6UFsId8ASCe8RGTS+WwR4EJc5Io+g\n",
       "MPM9z/vc874GCdMhMqrjgEkNYjLt+z6ytAntDWE2kYdBUxj5l+TzGv5Y82diVpKSbkEgM8ScAzkT\n",
       "meCUsRwwuYEoE372F6jdgL64CVEG86ePBet9cjkYSpuOJCVdgmDRQ8w5kDPbjdBTRjCIyOyjiP0e\n",
       "2Tfhd0uI7toQxZYwm4/RuAHOMMY/8HovprL62L+KzEBmlFlDgA0objKZzCAis90jOabcsNYcgVDp\n",
       "lbuiTLTNj/qZJqgwfpRsdLr5RSaVGWOibZ4fgsPCkRvQFBikkhIK5LtoRbeO7n5BTEg3TkVScf61\n",
       "99GCXOVP3Fd7kiKO7lqRGSSkGPOVj55FEbnBEhIz8FXfeniTYlFcuEPZU0jeMbOaXnSV6AKKzDlI\n",
       "Y+5SF3v5sVhORKqCWIfTS+e1u/EShZcecuYptcziE/TxHWi3pxTfj4Jp0mfObKptqjjNHNeXqfI+\n",
       "H6Q9fWZZ43XEfoTH09BF5lTIfhCT+sw9OkZ/g9G2vw6ZtL92TECPaNz8kuNYKxuZn5nFLWUk04N/\n",
       "d9BiuNv+ZYdMvwSrhVysmx31bTOYtWjHutnYzG7RjbZj9f/FFto/zEbmJbO4fkYyH+mZ3TmvZze/\n",
       "YVYe9Ws/0LTf1jMb9QxP4zYvPXRODCd6drWuWZXUr6U5S/lVPTu3Y1Ym9Zu7p2de0JylyrJZmdRv\n",
       "ZZxUrLIDINR2HxppHv4W1cEhkNMb81tKKp35ARAKkBX4VfPpUlUHUZisCEzm9+mEgYUOgAC/jy8a\n",
       "y8MCOb1xv/2Eh1twANTGW2IJn8RotneVJQAl61SFzO8fyS+y5ADI7ZLTI/uJrsyBKr+HjpZUjftN\n",
       "SpuhAyB8elQc68p0VSkhTFaEB/ObuDFDB0Bgb0OlcwAMbfUwWSGT+XWvJ72V8gMgfG51sKv9dDmn\n",
       "et8Nk9Mb8ztIGlboAAjgxDN/bmlXPn1F6hLI6Y35/cV8yVVYMI7ULSimadUV40i3aV4mPGeceCSL\n",
       "QrtietVnO1nIhDcM8+5k87ZaNvs+ZJP/EP8HLNzUWSj4N9sAAAAASUVORK5CYII=\n",
       "\" style=\"display:inline;vertical-align:middle;\" /></a></span>"
      ],
      "text/plain": [
       "{a in Complex, b in Complex, c in Complex, a != 0, d in Complex, d != 0} |- (((a + b + c) * b) / (a * d)) = ((((a + b + c) * b) / a) * (1 / d))"
      ]
     },
     "metadata": {},
     "output_type": "display_data"
    }
   ],
   "source": [
    "expr_03.factorization(frac(one, d), pull='right', assumptions=assumptions)"
   ]
  },
  {
   "cell_type": "code",
   "execution_count": 21,
   "metadata": {},
   "outputs": [
    {
     "data": {
      "text/html": [
       "<span style=\"font-size:20px;\"><a class=\"ProveItLink\" href=\"../__pv_it/theorems/e9f87a0977d5044ea8daf1040d2f219396bb3d5b0/expr.ipynb\"><img src=\"data:image/png;base64,iVBORw0KGgoAAAANSUhEUgAAADMAAAAQBAMAAABJt1qBAAAAMFBMVEX///8AAAAAAAAAAAAAAAAA\n",
       "AAAAAAAAAAAAAAAAAAAAAAAAAAAAAAAAAAAAAAAAAAAv3aB7AAAAD3RSTlMAIquJdkTvuxBmmd1U\n",
       "zTKBpmoTAAAACXBIWXMAAA7EAAAOxAGVKw4bAAAA0ElEQVQY02NgwAKaq+86PsYmwcCiNoFjfRVW\n",
       "qSXBDAycWKX4FlQASS0UMffduy8AKaaGAiDZiSwT6wGh2RkXQEUYlR0dwPQNqIAQnwGUFSbA/gNE\n",
       "8wpABR6zToAwODIZuDaApWAGS7E6QBhcHxi4wQY82w0EBWC7oAayFTD0B4AY7TBd7GAXAkG/A8N8\n",
       "MIMbJsUK9hcrUOoAgy4PyAUsDvDQCAISa4HaHXh2cYFF7sDDsHYhx2mg3zhU7IT8wCJNpQ2wkC/7\n",
       "vRA18IKrwQEFAwCqvi28/xxvKQAAAABJRU5ErkJggg==\n",
       "\" style=\"display:inline;vertical-align:middle;\" /></a>, <a class=\"ProveItLink\" href=\"../__pv_it/theorems/a259ec76dfb0a5be60b7c83d797520fa82c1dba60/expr.ipynb\"><img src=\"data:image/png;base64,iVBORw0KGgoAAAANSUhEUgAAADEAAAAQBAMAAABNQoq8AAAAMFBMVEX///8AAAAAAAAAAAAAAAAA\n",
       "AAAAAAAAAAAAAAAAAAAAAAAAAAAAAAAAAAAAAAAAAAAv3aB7AAAAD3RSTlMAELvv3c2ZVESJq3Yi\n",
       "MmZ3LnoBAAAACXBIWXMAAA7EAAAOxAGVKw4bAAAA2UlEQVQY02NgwASSKqF7bjIwMCo7oElwL37A\n",
       "mK8GZLAmoMlkdzIw8IFk+AtQJXgTFIHkMiDuF4AKbXJxCQBSXAIKQFIOiKdAJVo3QmgmHpjxUbuX\n",
       "gyieQCj/FO8ECIPxq4D8AZBDDkBlbnI8gDDYPzIwbwDJwFxwjGMDhMEWwMAP0n7ZBQgUwPZATWOZ\n",
       "wNAPcrcQTA8T2G0Q7+SD3M0Ck+EA+4cDKHOB0Q4cJhvgYdAFJFKBHnvABHF/ODzcVHMYS4BijCvz\n",
       "IAJSGrDAkFT+koMSYJ0q4NCBAQD6uylQEVfDpgAAAABJRU5ErkJggg==\n",
       "\" style=\"display:inline;vertical-align:middle;\" /></a>, <a class=\"ProveItLink\" href=\"../../addition/subtraction/__pv_it/theorems/b66b5547fa9b0b910f79351152926c658c2718190/expr.ipynb\"><img src=\"data:image/png;base64,iVBORw0KGgoAAAANSUhEUgAAADEAAAAQBAMAAABNQoq8AAAAMFBMVEX///8AAAAAAAAAAAAAAAAA\n",
       "AAAAAAAAAAAAAAAAAAAAAAAAAAAAAAAAAAAAAAAAAAAv3aB7AAAAD3RSTlMAiXZmMiLdVJm77xBE\n",
       "zatgdeJyAAAACXBIWXMAAA7EAAAOxAGVKw4bAAAAw0lEQVQY02NgwAQbp91VdcQizsD0yoC7fwY2\n",
       "maaDDAzM2GRYGmYDyRfIQpppaReAFN+GCUByM5LEWW0IzcnaABMSUnYAkqy3odw4FgEoK6yAA6Sd\n",
       "NwDKd+QxgLISGbgUQDIwIyJ4FCAMjt8Q2isNCCaA7YGaxjUBQu+E6eHcABXZD9XLBpPhAfuHh4GB\n",
       "H2jfAVCYKMDD4ByQ6AXaM4GBEeRqhuvwcJvbyl0G8pOgMcSL++ZsgIX1rG+tKAF2cBo4dGAAAHWD\n",
       "KgtwTxl0AAAAAElFTkSuQmCC\n",
       "\" style=\"display:inline;vertical-align:middle;\" /></a>, <a class=\"ProveItLink\" href=\"../../number_sets/integers/__pv_it/theorems/1759e791f6052d2463eefaaf9e2fa309cc3375160/expr.ipynb\"><img src=\"data:image/png;base64,iVBORw0KGgoAAAANSUhEUgAAADEAAAAUCAMAAAATIyWrAAAAPFBMVEX///8AAAAAAAAAAAAAAAAA\n",
       "AAAAAAAAAAAAAAAAAAAAAAAAAAAAAAAAAAAAAAAAAAAAAAAAAAAAAAAAAAAo1xBWAAAAE3RSTlMA\n",
       "IquJdkTvuxBmmd1UzTLn9enzF+Xi+wAAAAlwSFlzAAAOxAAADsQBlSsOGwAAANlJREFUKM+VktkS\n",
       "wyAIRVGMCy5d/P9/rZBJY5qWTniIIfFyvAiAFhThWrQwZ4iOzB9FaFNSC0DMuqTZKUlZOEFHzAWD\n",
       "yEvXnC0zAjoJthdejEVn3ElRZ0TcFIlr+fEr7DjKErc7PzeO6bgqRuXok2xTEbtiLNT5NeOnCzqk\n",
       "cVUszPBBPiwqYnNehvPIKkh9Gg0+/+O5unn3K8hNpGE3Sr9shXIoWj/7nrxUqywejJIJDucudGp2\n",
       "5inxPDfROmzGuqYixj5CZ9uv6y54ccq/IfRIlxH5KgKa9vMF/x0G2+xofVIAAAAASUVORK5CYII=\n",
       "\" style=\"display:inline;vertical-align:middle;\" /></a>, <a class=\"ProveItLink\" href=\"../__pv_it/theorems/d6724abdc9486f838f4cf63bc1115e85255ce4c00/expr.ipynb\"><img src=\"data:image/png;base64,iVBORw0KGgoAAAANSUhEUgAAADMAAAAQBAMAAABJt1qBAAAAMFBMVEX///8AAAAAAAAAAAAAAAAA\n",
       "AAAAAAAAAAAAAAAAAAAAAAAAAAAAAAAAAAAAAAAAAAAv3aB7AAAAD3RSTlMAMs3vmVREEIndIqt2\n",
       "u2aBbGR5AAAACXBIWXMAAA7EAAAOxAGVKw4bAAAA4UlEQVQY02NgwAIqbiqdkgCzGJUdUGR4Nj9g\n",
       "978CYfMHoEj5ZDAw8EGl8guQZRgdrgPJLRBOJ4Q6O3OmApDiLrgAJOsgYipgMuk4hMfLBbOaa8fB\n",
       "r2BaHSqwmrEBykpewPsdRDMtgApIsD2AMNjtGFgUwFIwZyxhOwBhsHxg4AQbIDwTCC6A7YIayHyB\n",
       "oT4BxKiF6eIFuxAI6g8wvAczOGFSbGB/sQGlAhg2sYJcwHMAHhrZQMIJqP0A6xQWsIgqPAwvebFH\n",
       "Av3Gvqdx9UGwSPU1WHhVXP7phRoXGTfBAQUDAJ+SNfXA0lXRAAAAAElFTkSuQmCC\n",
       "\" style=\"display:inline;vertical-align:middle;\" /></a>, <a class=\"ProveItLink\" href=\"../__pv_it/demonstrations/4a82d58b126555a18b104ddba47c5351567eeaea0/expr.ipynb\"><img src=\"data:image/png;base64,iVBORw0KGgoAAAANSUhEUgAAADEAAAAUCAMAAAATIyWrAAAAPFBMVEX///8AAAAAAAAAAAAAAAAA\n",
       "AAAAAAAAAAAAAAAAAAAAAAAAAAAAAAAAAAAAAAAAAAAAAAAAAAAAAAAAAAAo1xBWAAAAE3RSTlMA\n",
       "Ms3vmVREEIndIqt2u2bn9enzePXnUgAAAAlwSFlzAAAOxAAADsQBlSsOGwAAAOJJREFUKM+VkukS\n",
       "hSAIhQU3zOUuvv+7XrHphjk5Ez8qoePHUZRahfH3NUBt5mSWK6JkNpmodlJkEAtsdR+ExNWpA4hi\n",
       "UULnCCqFGSF7yF1uxb442XBxaLrXYe99i5RgtoES4Q9F4b10K+UTZ0KP15ufB2ertCtSU2uWGVwi\n",
       "TkV7mcqfga4uRl9+Vzhm6NwTbok4nNtm17NKlSpGg/v/fHc3//PK/SZKs+v7IUVUdtgUr/dZtDrs\n",
       "5sawwaihbzsPWeAp0Tw3PiaCLSZYItp/hlKEu0m2pB4G+oeC8hgRniIUrIo/FvAG9zLswUoAAAAA\n",
       "SUVORK5CYII=\n",
       "\" style=\"display:inline;vertical-align:middle;\" /></a> <a class=\"ProveItLink\" href=\"../__pv_it/demonstrations/f57aab6df49fe1030d16aa3fb0e0d384cbd335920/proof.ipynb\" style=\"text-decoration: none\">&nbsp;&#x22A2;&nbsp;&nbsp;</a><a class=\"ProveItLink\" href=\"../__pv_it/demonstrations/fdc33aed88ad5d30d95dc49f2c676884859e77ff0/expr.ipynb\"><img src=\"data:image/png;base64,iVBORw0KGgoAAAANSUhEUgAAAUwAAAAyBAMAAADFH/9pAAAAMFBMVEX///8AAAAAAAAAAAAAAAAA\n",
       "AAAAAAAAAAAAAAAAAAAAAAAAAAAAAAAAAAAAAAAAAAAv3aB7AAAAD3RSTlMAInZUiRDNmWbv3US7\n",
       "qzJazP2FAAAACXBIWXMAAA7EAAAOxAGVKw4bAAAEjUlEQVRo3tVYS2gTQRj+283m1bzoWTE+Dh7U\n",
       "VhBBLw1eFEGbkyAoCYjoRcxBREVo8KAIYlrxhQ8sKJRGkF49RQURBbFU8QVivHjwkmiNCj5ndjez\n",
       "O5t/nd9k9+B/2N2Znf2+b2b++Wf2BwDIANH6KI0S9W6/RBvq962H/mEqxkCW0OglVrm0e4oPefO+\n",
       "BmmtP5zEQJbbjzsu4TzJnBPbMi2HtMQROig0U4lexFqHS2itg30PLvM4h3yxX5a5DW26h0axxbhG\n",
       "ytKgW6X0sKvCsKhD/DzuWxPGbUiWeQijEAgKirjxOiZPj+UbtbyrwrRzNlkLlRnPYjLHMQqBoKDQ\n",
       "jJq1qMzNgGLsFU8h1HnhJCAytSJGIRBUFMbcH+BT9WxxVv5k35KnLozQktNtPzF8aG4lFiHOYjIj\n",
       "fAUt3DAoIwoEFUUtY6m/nUm0JAz9S76QkTD6rsNRc4GYVtitf+xU2d/CZIaZdw1MwJO8hCgQVBTh\n",
       "WXa5zkRdhMikJFNrQSwrYcRzcAZgncAYyfNyh2vOYjLjbFC2l+GIPJoCQUWh8b5fZpPS5E3YvVqd\n",
       "vlStMqpIEdI5ZwWMGcQNY6T500GAz50yG3VMZmyGfQ9wQ6KwEFAKKBQdFPonU2bsDhRmpK4y1TXZ\n",
       "ca4Y19v8MsUvN2AACUmvwEvmFdC/y6MpEBCKeMnZ4JE56YUsVORVx8LmmORJRo8A1jtiWgQJSVfB\n",
       "Y9LZ99GmLFMgKCkqbJncYzKH4bkmrZh0nfmrBPqNrQKAUwLjF/c2t6W+oTITWdDnIVlcLSEKBCVF\n",
       "oWwEgERWm4pIqpLlREmWydbgVjN6tU8YD5CF3l78o9KpKzTLR2N9qSQhCgQlRYx9/4EN99zWhavk\n",
       "gPTskDsYbzrGRuimwNi5sYwc4qzt5s21fc63KRZGdi57N1eXEAWCkiLBvo/XsS0Cr+ib/PsxjK1F\n",
       "1G71RhFqynu96xjQUREp/11moYTXn+iNIspjxF0g2wLF+4bHuTmR6YkixWPADrpMVY9GPH4E9Ds9\n",
       "UehfuTdkqRD9qkGp1D1eDPZG8RN8taEMBGI/ekZgezI388gxmg9G5nl/4cYCklmF3z1YB9xb82a8\n",
       "bIrDVLoHCvMcMO1vr9+6K6b8wZ321zeDm3RfbTTzXyyhoXowMq/6C1cJSOZXWrP3F2jtRma60KAG\n",
       "1z8ToeZpzRrlbsZKCZ76REzntWjt0qUuVKrBNeIohSZp7eLFLmSqwfs/0pDCxFFKjnchUw2ebHq8\n",
       "EAkfs9AgJpSj1vzZOSmlUcC9/l3shI+7oPB1y4nsnJTSMSngizz6bCd8zMLBf4vDjpyUykjgFY/N\n",
       "zUr4mKmcdoFih8193spJUY5+FPDXHvXthI+RyrGzP2qrzVi+VCAGehK4R9h0JHxcBWVEMlatIyel\n",
       "2l8o4FEPP3ckfFwFGqIjJ6WSSQFvJ007zE74uAsqO2umtkROSmUU8JpXj+2Ej7ugXJQ8ujhyUiqj\n",
       "gD/2/8gVzvkOST1Q/IulJnyHjA/7LxNW+I64JYiDdtLvWR8oBiETdvmM9z6Yv9WEv/9D+m5+/QPY\n",
       "BtZmOF8oGgAAAABJRU5ErkJggg==\n",
       "\" style=\"display:inline;vertical-align:middle;\" /></a></span>"
      ],
      "text/plain": [
       "{a in Complex, b in Complex, c in Complex, a != 0, d in Complex, d != 0} |- (((a + b + c) * b) / (a * d)) = ((1 / a) * (((a + b + c) * b) / d))"
      ]
     },
     "metadata": {},
     "output_type": "display_data"
    }
   ],
   "source": [
    "expr_03.factorization(frac(expr_03.numerator, d), pull='right', assumptions=assumptions)"
   ]
  },
  {
   "cell_type": "code",
   "execution_count": 22,
   "metadata": {},
   "outputs": [
    {
     "data": {
      "text/html": [
       "<span style=\"font-size:20px;\"><a class=\"ProveItLink\" href=\"../__pv_it/theorems/e9f87a0977d5044ea8daf1040d2f219396bb3d5b0/expr.ipynb\"><img src=\"data:image/png;base64,iVBORw0KGgoAAAANSUhEUgAAADMAAAAQBAMAAABJt1qBAAAAMFBMVEX///8AAAAAAAAAAAAAAAAA\n",
       "AAAAAAAAAAAAAAAAAAAAAAAAAAAAAAAAAAAAAAAAAAAv3aB7AAAAD3RSTlMAIquJdkTvuxBmmd1U\n",
       "zTKBpmoTAAAACXBIWXMAAA7EAAAOxAGVKw4bAAAA0ElEQVQY02NgwAKaq+86PsYmwcCiNoFjfRVW\n",
       "qSXBDAycWKX4FlQASS0UMffduy8AKaaGAiDZiSwT6wGh2RkXQEUYlR0dwPQNqIAQnwGUFSbA/gNE\n",
       "8wpABR6zToAwODIZuDaApWAGS7E6QBhcHxi4wQY82w0EBWC7oAayFTD0B4AY7TBd7GAXAkG/A8N8\n",
       "MIMbJsUK9hcrUOoAgy4PyAUsDvDQCAISa4HaHXh2cYFF7sDDsHYhx2mg3zhU7IT8wCJNpQ2wkC/7\n",
       "vRA18IKrwQEFAwCqvi28/xxvKQAAAABJRU5ErkJggg==\n",
       "\" style=\"display:inline;vertical-align:middle;\" /></a>, <a class=\"ProveItLink\" href=\"../__pv_it/theorems/d6724abdc9486f838f4cf63bc1115e85255ce4c00/expr.ipynb\"><img src=\"data:image/png;base64,iVBORw0KGgoAAAANSUhEUgAAADMAAAAQBAMAAABJt1qBAAAAMFBMVEX///8AAAAAAAAAAAAAAAAA\n",
       "AAAAAAAAAAAAAAAAAAAAAAAAAAAAAAAAAAAAAAAAAAAv3aB7AAAAD3RSTlMAMs3vmVREEIndIqt2\n",
       "u2aBbGR5AAAACXBIWXMAAA7EAAAOxAGVKw4bAAAA4UlEQVQY02NgwAIqbiqdkgCzGJUdUGR4Nj9g\n",
       "978CYfMHoEj5ZDAw8EGl8guQZRgdrgPJLRBOJ4Q6O3OmApDiLrgAJOsgYipgMuk4hMfLBbOaa8fB\n",
       "r2BaHSqwmrEBykpewPsdRDMtgApIsD2AMNjtGFgUwFIwZyxhOwBhsHxg4AQbIDwTCC6A7YIayHyB\n",
       "oT4BxKiF6eIFuxAI6g8wvAczOGFSbGB/sQGlAhg2sYJcwHMAHhrZQMIJqP0A6xQWsIgqPAwvebFH\n",
       "Av3Gvqdx9UGwSPU1WHhVXP7phRoXGTfBAQUDAJ+SNfXA0lXRAAAAAElFTkSuQmCC\n",
       "\" style=\"display:inline;vertical-align:middle;\" /></a>, <a class=\"ProveItLink\" href=\"../__pv_it/theorems/a259ec76dfb0a5be60b7c83d797520fa82c1dba60/expr.ipynb\"><img src=\"data:image/png;base64,iVBORw0KGgoAAAANSUhEUgAAADEAAAAQBAMAAABNQoq8AAAAMFBMVEX///8AAAAAAAAAAAAAAAAA\n",
       "AAAAAAAAAAAAAAAAAAAAAAAAAAAAAAAAAAAAAAAAAAAv3aB7AAAAD3RSTlMAELvv3c2ZVESJq3Yi\n",
       "MmZ3LnoBAAAACXBIWXMAAA7EAAAOxAGVKw4bAAAA2UlEQVQY02NgwASSKqF7bjIwMCo7oElwL37A\n",
       "mK8GZLAmoMlkdzIw8IFk+AtQJXgTFIHkMiDuF4AKbXJxCQBSXAIKQFIOiKdAJVo3QmgmHpjxUbuX\n",
       "gyieQCj/FO8ECIPxq4D8AZBDDkBlbnI8gDDYPzIwbwDJwFxwjGMDhMEWwMAP0n7ZBQgUwPZATWOZ\n",
       "wNAPcrcQTA8T2G0Q7+SD3M0Ck+EA+4cDKHOB0Q4cJhvgYdAFJFKBHnvABHF/ODzcVHMYS4BijCvz\n",
       "IAJSGrDAkFT+koMSYJ0q4NCBAQD6uylQEVfDpgAAAABJRU5ErkJggg==\n",
       "\" style=\"display:inline;vertical-align:middle;\" /></a>, <a class=\"ProveItLink\" href=\"../../addition/subtraction/__pv_it/theorems/b66b5547fa9b0b910f79351152926c658c2718190/expr.ipynb\"><img src=\"data:image/png;base64,iVBORw0KGgoAAAANSUhEUgAAADEAAAAQBAMAAABNQoq8AAAAMFBMVEX///8AAAAAAAAAAAAAAAAA\n",
       "AAAAAAAAAAAAAAAAAAAAAAAAAAAAAAAAAAAAAAAAAAAv3aB7AAAAD3RSTlMAiXZmMiLdVJm77xBE\n",
       "zatgdeJyAAAACXBIWXMAAA7EAAAOxAGVKw4bAAAAw0lEQVQY02NgwAQbp91VdcQizsD0yoC7fwY2\n",
       "maaDDAzM2GRYGmYDyRfIQpppaReAFN+GCUByM5LEWW0IzcnaABMSUnYAkqy3odw4FgEoK6yAA6Sd\n",
       "NwDKd+QxgLISGbgUQDIwIyJ4FCAMjt8Q2isNCCaA7YGaxjUBQu+E6eHcABXZD9XLBpPhAfuHh4GB\n",
       "H2jfAVCYKMDD4ByQ6AXaM4GBEeRqhuvwcJvbyl0G8pOgMcSL++ZsgIX1rG+tKAF2cBo4dGAAAHWD\n",
       "KgtwTxl0AAAAAElFTkSuQmCC\n",
       "\" style=\"display:inline;vertical-align:middle;\" /></a>, <a class=\"ProveItLink\" href=\"../__pv_it/demonstrations/4a82d58b126555a18b104ddba47c5351567eeaea0/expr.ipynb\"><img src=\"data:image/png;base64,iVBORw0KGgoAAAANSUhEUgAAADEAAAAUCAMAAAATIyWrAAAAPFBMVEX///8AAAAAAAAAAAAAAAAA\n",
       "AAAAAAAAAAAAAAAAAAAAAAAAAAAAAAAAAAAAAAAAAAAAAAAAAAAAAAAAAAAo1xBWAAAAE3RSTlMA\n",
       "Ms3vmVREEIndIqt2u2bn9enzePXnUgAAAAlwSFlzAAAOxAAADsQBlSsOGwAAAOJJREFUKM+VkukS\n",
       "hSAIhQU3zOUuvv+7XrHphjk5Ez8qoePHUZRahfH3NUBt5mSWK6JkNpmodlJkEAtsdR+ExNWpA4hi\n",
       "UULnCCqFGSF7yF1uxb442XBxaLrXYe99i5RgtoES4Q9F4b10K+UTZ0KP15ufB2ertCtSU2uWGVwi\n",
       "TkV7mcqfga4uRl9+Vzhm6NwTbok4nNtm17NKlSpGg/v/fHc3//PK/SZKs+v7IUVUdtgUr/dZtDrs\n",
       "5sawwaihbzsPWeAp0Tw3PiaCLSZYItp/hlKEu0m2pB4G+oeC8hgRniIUrIo/FvAG9zLswUoAAAAA\n",
       "SUVORK5CYII=\n",
       "\" style=\"display:inline;vertical-align:middle;\" /></a>, <a class=\"ProveItLink\" href=\"../../number_sets/integers/__pv_it/theorems/1759e791f6052d2463eefaaf9e2fa309cc3375160/expr.ipynb\"><img src=\"data:image/png;base64,iVBORw0KGgoAAAANSUhEUgAAADEAAAAUCAMAAAATIyWrAAAAPFBMVEX///8AAAAAAAAAAAAAAAAA\n",
       "AAAAAAAAAAAAAAAAAAAAAAAAAAAAAAAAAAAAAAAAAAAAAAAAAAAAAAAAAAAo1xBWAAAAE3RSTlMA\n",
       "IquJdkTvuxBmmd1UzTLn9enzF+Xi+wAAAAlwSFlzAAAOxAAADsQBlSsOGwAAANlJREFUKM+VktkS\n",
       "wyAIRVGMCy5d/P9/rZBJY5qWTniIIfFyvAiAFhThWrQwZ4iOzB9FaFNSC0DMuqTZKUlZOEFHzAWD\n",
       "yEvXnC0zAjoJthdejEVn3ElRZ0TcFIlr+fEr7DjKErc7PzeO6bgqRuXok2xTEbtiLNT5NeOnCzqk\n",
       "cVUszPBBPiwqYnNehvPIKkh9Gg0+/+O5unn3K8hNpGE3Sr9shXIoWj/7nrxUqywejJIJDucudGp2\n",
       "5inxPDfROmzGuqYixj5CZ9uv6y54ccq/IfRIlxH5KgKa9vMF/x0G2+xofVIAAAAASUVORK5CYII=\n",
       "\" style=\"display:inline;vertical-align:middle;\" /></a> <a class=\"ProveItLink\" href=\"../__pv_it/demonstrations/819fc9082f96a35683f8e678e661b380022d306a0/proof.ipynb\" style=\"text-decoration: none\">&nbsp;&#x22A2;&nbsp;&nbsp;</a><a class=\"ProveItLink\" href=\"../__pv_it/demonstrations/0469b28bd104ed3d72b3dde210647a3334edbb2d0/expr.ipynb\"><img src=\"data:image/png;base64,iVBORw0KGgoAAAANSUhEUgAAAUwAAAAyBAMAAADFH/9pAAAAMFBMVEX///8AAAAAAAAAAAAAAAAA\n",
       "AAAAAAAAAAAAAAAAAAAAAAAAAAAAAAAAAAAAAAAAAAAv3aB7AAAAD3RSTlMAInZUiRDNmWbv3US7\n",
       "qzJazP2FAAAACXBIWXMAAA7EAAAOxAGVKw4bAAAE+UlEQVRo3tVZS4gcVRS9/an+Tf9wGQx2gkIW\n",
       "mrSNCGYzQxCUgSS9FRK6QUJ0IfRChhiEaVz4AbFnJP5iAgNRhikRBlfJqseAiIIYxkESN2k3WWTT\n",
       "nZl0Eoi/V1XvW/Uq7xZTtfAtqurdOn3eqffuvXXrNQBAHZAthQGVRxCF0wS0fqAX6SaWcqaBAF2P\n",
       "xvmdCXC77Z2f0z3DTyu6nxwQlyfO61krc9E40/1QQPVr55jxjFZXN1qup7W2xfVpvcx3o3KeCgOc\n",
       "XJi656PuMd9X1pX2ak2fwW0FiWdH777LQc7L4OO8LN99T1zWVFdJezJLLllRuZWh7jds+wxe+0Q8\n",
       "z1Qrs9QIcrbAx9mS7xbFCg3bOpkZd9DntTLnQSvzNX6V1TovfABBTqZqHnQyc2Lm50En03OvN52l\n",
       "2trXUFW9sf83n8zs/o+Yn7jsm8/oovkcBDmZKs7JZR45MILsNf5jDlBlDut0gq7Uy1NFlXWv3akr\n",
       "MlOX4G0aIG7rnLLuaOJ2yiddcFJVgpPJ3NPMb0CBh5sAqDJzzoNcIvc/h/yKIjMzhWJDkVmag48B\n",
       "XuAcs22nH3BNb2pUTqpKcDKZXzmGzBL3Lw5QZWac85ckMCeOCnK27bXztk2GynehNicbYNF177H7\n",
       "0M7VAsDdoMyx+wqSOc/a9he2/S1wTsngyqhOGCcFBGRa2x5lcQM668pskhGGTWU2L7jHK85h1ZuJ\n",
       "GU1KugFMpsTZAh8nNRCIkzKWGKcAqDLhZ2+BOg0YqIFNMpg3fdxZt93TYSlt5jUp6SKwRZc4W+Dj\n",
       "pIZOQ3rLKACfzAHx2KsE34TfM0rE1EbEt5TZfECeG+BDzvEPvNIPqKw+8M4qJ5PJOZmBEKxDYYPL\n",
       "5ACfzE7fzTHlRmY1r6iq9Ms9VSYJ82NepmEVxo+aQKfBr3JSVYKTGkiYZ0eQ5+4oADQFslRSJMFx\n",
       "m6zo5rG9B9WEtHXGl96zL79DFuQb8cZ9qa8p4mjUqpwsIXFOFukvvv8U8ch1npA4wFN94951Skv8\n",
       "ojTSvYX0htTKo4uuIl1AlbPlhymGPeZiLztRywlfpREw5PuP5uv0giWKr9IIGM6YZRYeksP3gG6P\n",
       "G+6P2dTjOVMbZkzVSTMn8DJNo8+ytIfnLCM+R6z7zvM0sJRpE+WA+SSecx8G9DfE2g7VIZH2164Z\n",
       "yGvfaV7JcbydjMxP46VbTEimDf/uogXobnqnXXJ6JVhNGmIt3qe+GQ/Nqt+wFq9vJrfosbbj9f9F\n",
       "CB0aJSPzYrx0g4Rk3sfBbn2Gw82uI0DV13sRVVp3kcAdHGzcx6BqzYgyq9vIHcMpDldDzdMwaj7I\n",
       "IGcpu4LDlboY1HxU10zfweFySG+qLGFQp6PKrExCbuw98pjcGSO9qWB2jtTWQeQSChHFkNJ5Zhl+\n",
       "bWs7Bl83KxBbS8aA4OM+EVK9kk/ws3JnIbY87GwtdXFcQsQg5OW26Gy+OJ9gXamDaW8ZSwC6tYSp\n",
       "Cvm4f4QgLoD10I3cntRB5RpTfpe2lkxNjBuSNq1tKEy0HWNGMqUEaWvJ5B583LDAtHag0n1W19l1\n",
       "qEtbSyaZfNzStRDIVTjc62k7pnbO9L0rtpZMjY87DHusk0/+uTnSdow1kiF1SVtLpsbH/SX+kis3\n",
       "FzsltqCIVMwsx05ZasYvE56OnfFoEoV2Je5Vn+kmIRNejZnvVjJfq+V4v4cs9x/i/wBIp9WUFSOg\n",
       "pgAAAABJRU5ErkJggg==\n",
       "\" style=\"display:inline;vertical-align:middle;\" /></a></span>"
      ],
      "text/plain": [
       "{a in Complex, d in Complex, b in Complex, c in Complex, d != 0, a != 0} |- (((a + b + c) * b) / (a * d)) = ((((a + b + c) * b) / d) * (1 / a))"
      ]
     },
     "metadata": {},
     "output_type": "display_data"
    }
   ],
   "source": [
    "expr_03.factorization(frac(expr_03.numerator, d), pull='left', assumptions=assumptions)"
   ]
  },
  {
   "cell_type": "code",
   "execution_count": 23,
   "metadata": {},
   "outputs": [
    {
     "data": {
      "text/html": [
       "<span style=\"font-size:20px;\"><a class=\"ProveItLink\" href=\"../__pv_it/theorems/e9f87a0977d5044ea8daf1040d2f219396bb3d5b0/expr.ipynb\"><img src=\"data:image/png;base64,iVBORw0KGgoAAAANSUhEUgAAADMAAAAQBAMAAABJt1qBAAAAMFBMVEX///8AAAAAAAAAAAAAAAAA\n",
       "AAAAAAAAAAAAAAAAAAAAAAAAAAAAAAAAAAAAAAAAAAAv3aB7AAAAD3RSTlMAIquJdkTvuxBmmd1U\n",
       "zTKBpmoTAAAACXBIWXMAAA7EAAAOxAGVKw4bAAAA0ElEQVQY02NgwAKaq+86PsYmwcCiNoFjfRVW\n",
       "qSXBDAycWKX4FlQASS0UMffduy8AKaaGAiDZiSwT6wGh2RkXQEUYlR0dwPQNqIAQnwGUFSbA/gNE\n",
       "8wpABR6zToAwODIZuDaApWAGS7E6QBhcHxi4wQY82w0EBWC7oAayFTD0B4AY7TBd7GAXAkG/A8N8\n",
       "MIMbJsUK9hcrUOoAgy4PyAUsDvDQCAISa4HaHXh2cYFF7sDDsHYhx2mg3zhU7IT8wCJNpQ2wkC/7\n",
       "vRA18IKrwQEFAwCqvi28/xxvKQAAAABJRU5ErkJggg==\n",
       "\" style=\"display:inline;vertical-align:middle;\" /></a>, <a class=\"ProveItLink\" href=\"../__pv_it/theorems/a259ec76dfb0a5be60b7c83d797520fa82c1dba60/expr.ipynb\"><img src=\"data:image/png;base64,iVBORw0KGgoAAAANSUhEUgAAADEAAAAQBAMAAABNQoq8AAAAMFBMVEX///8AAAAAAAAAAAAAAAAA\n",
       "AAAAAAAAAAAAAAAAAAAAAAAAAAAAAAAAAAAAAAAAAAAv3aB7AAAAD3RSTlMAELvv3c2ZVESJq3Yi\n",
       "MmZ3LnoBAAAACXBIWXMAAA7EAAAOxAGVKw4bAAAA2UlEQVQY02NgwASSKqF7bjIwMCo7oElwL37A\n",
       "mK8GZLAmoMlkdzIw8IFk+AtQJXgTFIHkMiDuF4AKbXJxCQBSXAIKQFIOiKdAJVo3QmgmHpjxUbuX\n",
       "gyieQCj/FO8ECIPxq4D8AZBDDkBlbnI8gDDYPzIwbwDJwFxwjGMDhMEWwMAP0n7ZBQgUwPZATWOZ\n",
       "wNAPcrcQTA8T2G0Q7+SD3M0Ck+EA+4cDKHOB0Q4cJhvgYdAFJFKBHnvABHF/ODzcVHMYS4BijCvz\n",
       "IAJSGrDAkFT+koMSYJ0q4NCBAQD6uylQEVfDpgAAAABJRU5ErkJggg==\n",
       "\" style=\"display:inline;vertical-align:middle;\" /></a>, <a class=\"ProveItLink\" href=\"../../addition/subtraction/__pv_it/theorems/b66b5547fa9b0b910f79351152926c658c2718190/expr.ipynb\"><img src=\"data:image/png;base64,iVBORw0KGgoAAAANSUhEUgAAADEAAAAQBAMAAABNQoq8AAAAMFBMVEX///8AAAAAAAAAAAAAAAAA\n",
       "AAAAAAAAAAAAAAAAAAAAAAAAAAAAAAAAAAAAAAAAAAAv3aB7AAAAD3RSTlMAiXZmMiLdVJm77xBE\n",
       "zatgdeJyAAAACXBIWXMAAA7EAAAOxAGVKw4bAAAAw0lEQVQY02NgwAQbp91VdcQizsD0yoC7fwY2\n",
       "maaDDAzM2GRYGmYDyRfIQpppaReAFN+GCUByM5LEWW0IzcnaABMSUnYAkqy3odw4FgEoK6yAA6Sd\n",
       "NwDKd+QxgLISGbgUQDIwIyJ4FCAMjt8Q2isNCCaA7YGaxjUBQu+E6eHcABXZD9XLBpPhAfuHh4GB\n",
       "H2jfAVCYKMDD4ByQ6AXaM4GBEeRqhuvwcJvbyl0G8pOgMcSL++ZsgIX1rG+tKAF2cBo4dGAAAHWD\n",
       "KgtwTxl0AAAAAElFTkSuQmCC\n",
       "\" style=\"display:inline;vertical-align:middle;\" /></a>, <a class=\"ProveItLink\" href=\"../__pv_it/theorems/d6724abdc9486f838f4cf63bc1115e85255ce4c00/expr.ipynb\"><img src=\"data:image/png;base64,iVBORw0KGgoAAAANSUhEUgAAADMAAAAQBAMAAABJt1qBAAAAMFBMVEX///8AAAAAAAAAAAAAAAAA\n",
       "AAAAAAAAAAAAAAAAAAAAAAAAAAAAAAAAAAAAAAAAAAAv3aB7AAAAD3RSTlMAMs3vmVREEIndIqt2\n",
       "u2aBbGR5AAAACXBIWXMAAA7EAAAOxAGVKw4bAAAA4UlEQVQY02NgwAIqbiqdkgCzGJUdUGR4Nj9g\n",
       "978CYfMHoEj5ZDAw8EGl8guQZRgdrgPJLRBOJ4Q6O3OmApDiLrgAJOsgYipgMuk4hMfLBbOaa8fB\n",
       "r2BaHSqwmrEBykpewPsdRDMtgApIsD2AMNjtGFgUwFIwZyxhOwBhsHxg4AQbIDwTCC6A7YIayHyB\n",
       "oT4BxKiF6eIFuxAI6g8wvAczOGFSbGB/sQGlAhg2sYJcwHMAHhrZQMIJqP0A6xQWsIgqPAwvebFH\n",
       "Av3Gvqdx9UGwSPU1WHhVXP7phRoXGTfBAQUDAJ+SNfXA0lXRAAAAAElFTkSuQmCC\n",
       "\" style=\"display:inline;vertical-align:middle;\" /></a> <a class=\"ProveItLink\" href=\"../__pv_it/demonstrations/198b77975e02d038f0b27fd45c6628c616788da40/proof.ipynb\" style=\"text-decoration: none\">&nbsp;&#x22A2;&nbsp;&nbsp;</a><a class=\"ProveItLink\" href=\"../__pv_it/demonstrations/3f6480edf34c7fcdb08c8d1a97af65ad0f2ab2280/expr.ipynb\"><img src=\"data:image/png;base64,iVBORw0KGgoAAAANSUhEUgAAAP0AAABLCAMAAACMeHGmAAAAOVBMVEX///8AAAAAAAAAAAAAAAAA\n",
       "AAAAAAAAAAAAAAAAAAAAAAAAAAAAAAAAAAAAAAAAAAAAAAAAAAAAAAACXHtMAAAAEnRSTlMAmVSr\n",
       "Zs0y7xCJ3bsiRHanINucDmZsAAAACXBIWXMAAA7EAAAOxAGVKw4bAAAEc0lEQVR42u2a7ZacIAxA\n",
       "BVE+pS3v/7C1Oq6oJMQdPHYZ+bU7MDEJISTObZp5MN7UN1SnSOtY29Q4ekMxX3RNnUMQdrWXqq6I\n",
       "X3fT5k90p+uKd+/NlyOyG8uDqizguaFnNKObeq13weGBUt3Wx9Y3Ft/b1sb/ufK6uOu+4vLWC4lK\n",
       "CCL6x19Q9Qz+7DfIWiyie7sMt7feBY4GfuRATk0BykpDN0acE0HSou8kg0TH1jeGYQVBiEtD+v50\n",
       "7MRadUYEVYtpU5OiN9YzTFwbTTIBx5hIPRtfsnqYweonym5Bi/opWydEO90FvZ42HxAhMroQkQTB\n",
       "ferZ6JL4IQpUP7GYtvXawKK35UyPxM96yHhHt16b5oT1nYDVP4jpTh29LhcpPZb2opTPFke4Vnvn\n",
       "UdO61vuWZ6zX3ovJ8TpVcSVEbLRIqbFOLEbpXDGnAuyf+EJY3DjI8Rqw27jcmabCmG7Uto7aW+/M\n",
       "KJpZqIlMidhsZkqN40S+Pw2RXsxEo93EheGvzkBM67CNnXsD6THrpwp6XsIl1F7Iw96+tEirEU28\n",
       "rObZNBE0kjmHNd3Mf7Kwqf5nd0n5cld8jSxy00uiXevDuuFNSkT0+UuLvRrriu1EH7LWM1JOeD1X\n",
       "2ulhA7b307OHbT7ZLZE2jtVj7bEVsX6+WL9X42vFdmKQhayfY05N50QENKFP32JYalDxceMGuO3Z\n",
       "8Vgv5y+pxnGCmzfOvYsyovWzdD4XQdwh1vfL+YOXzLPTFgmbUCohYtUCUOM4kRKNNDIpTzbx5fHv\n",
       "8XyMM4aY1o4SLUPDY872ut/eYriI+ApLqnGcYLmmAG1z5Cq9n4NItV73rvU9duO1+lCQHgoiLYSf\n",
       "A9sMCb8nRERapNU4TqRE7842sqKLIsf05Frv1BJH7wdxLb4jGn1xx2S2G8FbGMISYt+S1+I7orVB\n",
       "O9zINfaCVzvj/thz609oQRBtW7QM5vEbhyusP+vTE1oQRAc0OjZ51/nyxvvTAUXWgiB6wF/qCtnU\n",
       "PHSX6QCHmq2X/C3v/Ozhs5Et+8/d+op/wB63nmBaJyo13knCfaOMq9J4ZUg/CrlO1Wi9Jcb0L1+h\n",
       "8b//PNRSvqt6qKUqx+dRSzGz9XnUUsxsPdQS7qqHWsrXQ+Wr0AJPK0wtgd1CeZoJgZlOU0uI9VRq\n",
       "CSGRLqGZvHjnaRtqCWG26NQSRCJdRDMBzcVd1BIUJBfRTMCL+3eppZ31VGoJwoguo5nSpci71NKO\n",
       "2aJSS9CvHpfRTMm3KndRSwBGVJxmwmGmm6glCCMqTDNlYKZrqSU4LiCMqDDNlIGZ7qKWIIyoLM2U\n",
       "hJn+A2oJwojK0kxpmOl+agnCiIrSTFmY6Vpq6ZD1vjIihBGVpZlyMNNd1BKEEZWlmXIw013UEoQR\n",
       "FaaZMjDTfdQS+PbnGpoJII7uopaac+0I2sIQlgDtzG3UEjQuoZlA4uguagl+aXGB9aCRt1FLoI/L\n",
       "/86HEEcPtVRqPNTSG9752eOhljLX+UMtVTkeaongo8+mllyNiU/lrvK/X702qoysbNYAAAAASUVO\n",
       "RK5CYII=\n",
       "\" style=\"display:inline;vertical-align:middle;\" /></a></span>"
      ],
      "text/plain": [
       "{a in Complex, b in Complex, c in Complex, d in Complex} |- ((a + b + c) * b * (a * d)^{-1}) =  \\\\ (b * (a + b + c) * (a * d)^{-1})"
      ]
     },
     "metadata": {},
     "output_type": "display_data"
    }
   ],
   "source": [
    "expr_03.reduction_to_mult(assumptions=assumptions).rhs.factorization(b, assumptions=assumptions)"
   ]
  },
  {
   "cell_type": "code",
   "execution_count": 24,
   "metadata": {},
   "outputs": [
    {
     "data": {
      "text/html": [
       "<span style=\"font-size:20px;\"><a class=\"ProveItLink\" href=\"../__pv_it/theorems/e9f87a0977d5044ea8daf1040d2f219396bb3d5b0/expr.ipynb\"><img src=\"data:image/png;base64,iVBORw0KGgoAAAANSUhEUgAAADMAAAAQBAMAAABJt1qBAAAAMFBMVEX///8AAAAAAAAAAAAAAAAA\n",
       "AAAAAAAAAAAAAAAAAAAAAAAAAAAAAAAAAAAAAAAAAAAv3aB7AAAAD3RSTlMAIquJdkTvuxBmmd1U\n",
       "zTKBpmoTAAAACXBIWXMAAA7EAAAOxAGVKw4bAAAA0ElEQVQY02NgwAKaq+86PsYmwcCiNoFjfRVW\n",
       "qSXBDAycWKX4FlQASS0UMffduy8AKaaGAiDZiSwT6wGh2RkXQEUYlR0dwPQNqIAQnwGUFSbA/gNE\n",
       "8wpABR6zToAwODIZuDaApWAGS7E6QBhcHxi4wQY82w0EBWC7oAayFTD0B4AY7TBd7GAXAkG/A8N8\n",
       "MIMbJsUK9hcrUOoAgy4PyAUsDvDQCAISa4HaHXh2cYFF7sDDsHYhx2mg3zhU7IT8wCJNpQ2wkC/7\n",
       "vRA18IKrwQEFAwCqvi28/xxvKQAAAABJRU5ErkJggg==\n",
       "\" style=\"display:inline;vertical-align:middle;\" /></a>, <a class=\"ProveItLink\" href=\"../__pv_it/theorems/a259ec76dfb0a5be60b7c83d797520fa82c1dba60/expr.ipynb\"><img src=\"data:image/png;base64,iVBORw0KGgoAAAANSUhEUgAAADEAAAAQBAMAAABNQoq8AAAAMFBMVEX///8AAAAAAAAAAAAAAAAA\n",
       "AAAAAAAAAAAAAAAAAAAAAAAAAAAAAAAAAAAAAAAAAAAv3aB7AAAAD3RSTlMAELvv3c2ZVESJq3Yi\n",
       "MmZ3LnoBAAAACXBIWXMAAA7EAAAOxAGVKw4bAAAA2UlEQVQY02NgwASSKqF7bjIwMCo7oElwL37A\n",
       "mK8GZLAmoMlkdzIw8IFk+AtQJXgTFIHkMiDuF4AKbXJxCQBSXAIKQFIOiKdAJVo3QmgmHpjxUbuX\n",
       "gyieQCj/FO8ECIPxq4D8AZBDDkBlbnI8gDDYPzIwbwDJwFxwjGMDhMEWwMAP0n7ZBQgUwPZATWOZ\n",
       "wNAPcrcQTA8T2G0Q7+SD3M0Ck+EA+4cDKHOB0Q4cJhvgYdAFJFKBHnvABHF/ODzcVHMYS4BijCvz\n",
       "IAJSGrDAkFT+koMSYJ0q4NCBAQD6uylQEVfDpgAAAABJRU5ErkJggg==\n",
       "\" style=\"display:inline;vertical-align:middle;\" /></a>, <a class=\"ProveItLink\" href=\"../../addition/subtraction/__pv_it/theorems/b66b5547fa9b0b910f79351152926c658c2718190/expr.ipynb\"><img src=\"data:image/png;base64,iVBORw0KGgoAAAANSUhEUgAAADEAAAAQBAMAAABNQoq8AAAAMFBMVEX///8AAAAAAAAAAAAAAAAA\n",
       "AAAAAAAAAAAAAAAAAAAAAAAAAAAAAAAAAAAAAAAAAAAv3aB7AAAAD3RSTlMAiXZmMiLdVJm77xBE\n",
       "zatgdeJyAAAACXBIWXMAAA7EAAAOxAGVKw4bAAAAw0lEQVQY02NgwAQbp91VdcQizsD0yoC7fwY2\n",
       "maaDDAzM2GRYGmYDyRfIQpppaReAFN+GCUByM5LEWW0IzcnaABMSUnYAkqy3odw4FgEoK6yAA6Sd\n",
       "NwDKd+QxgLISGbgUQDIwIyJ4FCAMjt8Q2isNCCaA7YGaxjUBQu+E6eHcABXZD9XLBpPhAfuHh4GB\n",
       "H2jfAVCYKMDD4ByQ6AXaM4GBEeRqhuvwcJvbyl0G8pOgMcSL++ZsgIX1rG+tKAF2cBo4dGAAAHWD\n",
       "KgtwTxl0AAAAAElFTkSuQmCC\n",
       "\" style=\"display:inline;vertical-align:middle;\" /></a>, <a class=\"ProveItLink\" href=\"../__pv_it/theorems/d6724abdc9486f838f4cf63bc1115e85255ce4c00/expr.ipynb\"><img src=\"data:image/png;base64,iVBORw0KGgoAAAANSUhEUgAAADMAAAAQBAMAAABJt1qBAAAAMFBMVEX///8AAAAAAAAAAAAAAAAA\n",
       "AAAAAAAAAAAAAAAAAAAAAAAAAAAAAAAAAAAAAAAAAAAv3aB7AAAAD3RSTlMAMs3vmVREEIndIqt2\n",
       "u2aBbGR5AAAACXBIWXMAAA7EAAAOxAGVKw4bAAAA4UlEQVQY02NgwAIqbiqdkgCzGJUdUGR4Nj9g\n",
       "978CYfMHoEj5ZDAw8EGl8guQZRgdrgPJLRBOJ4Q6O3OmApDiLrgAJOsgYipgMuk4hMfLBbOaa8fB\n",
       "r2BaHSqwmrEBykpewPsdRDMtgApIsD2AMNjtGFgUwFIwZyxhOwBhsHxg4AQbIDwTCC6A7YIayHyB\n",
       "oT4BxKiF6eIFuxAI6g8wvAczOGFSbGB/sQGlAhg2sYJcwHMAHhrZQMIJqP0A6xQWsIgqPAwvebFH\n",
       "Av3Gvqdx9UGwSPU1WHhVXP7phRoXGTfBAQUDAJ+SNfXA0lXRAAAAAElFTkSuQmCC\n",
       "\" style=\"display:inline;vertical-align:middle;\" /></a>, <a class=\"ProveItLink\" href=\"../../number_sets/integers/__pv_it/theorems/1759e791f6052d2463eefaaf9e2fa309cc3375160/expr.ipynb\"><img src=\"data:image/png;base64,iVBORw0KGgoAAAANSUhEUgAAADEAAAAUCAMAAAATIyWrAAAAPFBMVEX///8AAAAAAAAAAAAAAAAA\n",
       "AAAAAAAAAAAAAAAAAAAAAAAAAAAAAAAAAAAAAAAAAAAAAAAAAAAAAAAAAAAo1xBWAAAAE3RSTlMA\n",
       "IquJdkTvuxBmmd1UzTLn9enzF+Xi+wAAAAlwSFlzAAAOxAAADsQBlSsOGwAAANlJREFUKM+VktkS\n",
       "wyAIRVGMCy5d/P9/rZBJY5qWTniIIfFyvAiAFhThWrQwZ4iOzB9FaFNSC0DMuqTZKUlZOEFHzAWD\n",
       "yEvXnC0zAjoJthdejEVn3ElRZ0TcFIlr+fEr7DjKErc7PzeO6bgqRuXok2xTEbtiLNT5NeOnCzqk\n",
       "cVUszPBBPiwqYnNehvPIKkh9Gg0+/+O5unn3K8hNpGE3Sr9shXIoWj/7nrxUqywejJIJDucudGp2\n",
       "5inxPDfROmzGuqYixj5CZ9uv6y54ccq/IfRIlxH5KgKa9vMF/x0G2+xofVIAAAAASUVORK5CYII=\n",
       "\" style=\"display:inline;vertical-align:middle;\" /></a>, <a class=\"ProveItLink\" href=\"../__pv_it/demonstrations/4a82d58b126555a18b104ddba47c5351567eeaea0/expr.ipynb\"><img src=\"data:image/png;base64,iVBORw0KGgoAAAANSUhEUgAAADEAAAAUCAMAAAATIyWrAAAAPFBMVEX///8AAAAAAAAAAAAAAAAA\n",
       "AAAAAAAAAAAAAAAAAAAAAAAAAAAAAAAAAAAAAAAAAAAAAAAAAAAAAAAAAAAo1xBWAAAAE3RSTlMA\n",
       "Ms3vmVREEIndIqt2u2bn9enzePXnUgAAAAlwSFlzAAAOxAAADsQBlSsOGwAAAOJJREFUKM+VkukS\n",
       "hSAIhQU3zOUuvv+7XrHphjk5Ez8qoePHUZRahfH3NUBt5mSWK6JkNpmodlJkEAtsdR+ExNWpA4hi\n",
       "UULnCCqFGSF7yF1uxb442XBxaLrXYe99i5RgtoES4Q9F4b10K+UTZ0KP15ufB2ertCtSU2uWGVwi\n",
       "TkV7mcqfga4uRl9+Vzhm6NwTbok4nNtm17NKlSpGg/v/fHc3//PK/SZKs+v7IUVUdtgUr/dZtDrs\n",
       "5sawwaihbzsPWeAp0Tw3PiaCLSZYItp/hlKEu0m2pB4G+oeC8hgRniIUrIo/FvAG9zLswUoAAAAA\n",
       "SUVORK5CYII=\n",
       "\" style=\"display:inline;vertical-align:middle;\" /></a> <a class=\"ProveItLink\" href=\"../__pv_it/demonstrations/2a02de09808dc2a735d1f0c4c8edd014390dcf9b0/proof.ipynb\" style=\"text-decoration: none\">&nbsp;&#x22A2;&nbsp;&nbsp;</a><a class=\"ProveItLink\" href=\"../__pv_it/demonstrations/c254f139f1dfa2ce0d89cefb59a8dcac8fde5e140/expr.ipynb\"><img src=\"data:image/png;base64,iVBORw0KGgoAAAANSUhEUgAAAX4AAAAtBAMAAABbmR0iAAAAMFBMVEX///8AAAAAAAAAAAAAAAAA\n",
       "AAAAAAAAAAAAAAAAAAAAAAAAAAAAAAAAAAAAAAAAAAAv3aB7AAAAD3RSTlMAInZUiRDNmWbv3US7\n",
       "qzJazP2FAAAACXBIWXMAAA7EAAAOxAGVKw4bAAAEK0lEQVRo3s2YTWgTQRTHX7rZJmnSJBRPpYW0\n",
       "KqhQWYt46MUSRKGg5FQUWpJL0UsxB5XSS3OygojRi189RFQKASX0pKemXlQoWGopHjxEDx5EaGsa\n",
       "L4Xq7GR3Z2aZ3Z22m2QfbDI78zb8982bN78MAEAcBE3YsanWpoh6LnhS/2lOn/ypwHvTnINDK0zO\n",
       "8Hrbs7zeCSeHFlggR9+91b5jiqkD2yxpxhSP6A8xd4Pa92LK1FH3TRnNxZRH9J/h6h8Bnv52Mlcj\n",
       "Xlm+N9DlW+tLsHIn+7+Y9CePVcC/YjxmOLTarqHrXTxSY+TKf1PpOKO/WwmUIWisdeLQanuBxDyG\n",
       "QIHRL9UglGD0v1Q7pLz+FHFotT1DJWgTOoZRc7pYfFIsvlaLUgZiw0wHnp/oJg49cfCG/lAZ0iUm\n",
       "/uh1FhW6A7kgC+P4zzMOHsifdALus+UGVfeZFN2RxskiFajyP+NYQeXbjZN9WV+K75E4BdYlZrnG\n",
       "KmhNMB2ocpYgWDb0Gw6M3WXufpxomPxoPwolRoCLAJGENB9g5HbmIlmmAxUffwUCRsoTB9okU98Q\n",
       "feMTFidS2NRU6FEbv9A8r17qPcnWz7Up0/517s5RlPUlIzUMB9pGwUb/YWH9C4L6g2pSd1R4+y+/\n",
       "o9vhRz/iz5+PePolXrkaewr75Fy8FF+hK5jl8Ru/Y8pevk/bHqo8/aPcR67CPjkX6x9QW0vC8+or\n",
       "O6BsPcThWnQZ2RKrf4oblirslXN/q78dr+tPqyVwTFh/xGFhxerLw1/gxT/PS8twDfbJuVg/5kmf\n",
       "MAf0OYxvpExTTumXMjz95FX3yrlYf6DsalHG5b43uaFP+aHrSTa3epNdrNz21QFFnHMJJoPv/DZq\n",
       "tuUPrBkhUrGOSADrakY8gM+8KVdDSo3p2/qEvAXCnEswGczp54oto+tKDm7xxjoUPDbNxv9sCh6C\n",
       "KOdSmKzvwruu6p9E14wqgbW0Gs1QiYwRrEWvug0WnIsf0zi33tYwmSqIO/DvAGbWr4LpHMg75tBn\n",
       "Nf3U2KAe7XAVLDgXP6Zxbv0nCCbrM7Ljav6j+Mt/ILhpkT/02KBe/gPsHz87zqUwWY+/6/kjV6Ez\n",
       "c4q3dySYMU3urromRDmXwmQ9/7dc1f8N4/hQlrflqyWRGtPkfoUPIMy5FCY3pv4cR9f4ke+rFR6w\n",
       "F5gxTe74hZw451KYrFkw76p+2zOtN+Ae5xqb4oqYHyFi+6O8ks3gLLjGuTzOsLeqWDiGDwB/e+Bc\n",
       "srMIHmIKrpOoXTrK4qwl/Kr3BP38BTE/2yPFLmH9faKOz0XzTPCwf7S5Rz9BS/InoMsSsdOf6uYe\n",
       "yfVY5jsNwVZEDI7nP422m1YDFOhaE7GHTQddjK0cIva66aCLsXXODUxtqjEQbEnEHtZPQ7AlEXvY\n",
       "GAi2ImIPGwPBVkTsCfsPZbdx6bnklnoAAAAASUVORK5CYII=\n",
       "\" style=\"display:inline;vertical-align:middle;\" /></a></span>"
      ],
      "text/plain": [
       "{a in Complex, b in Complex, c in Complex, d in Complex, a != 0, d != 0} |- (((a + b + c) * b) / (a * d)) = (d^{-1} * (a + b + c) * b * a^{-1})"
      ]
     },
     "metadata": {},
     "output_type": "display_data"
    }
   ],
   "source": [
    "expr_03.factorization(Exp(d, Neg(one)), pull='left', assumptions=assumptions)"
   ]
  },
  {
   "cell_type": "code",
   "execution_count": 25,
   "metadata": {},
   "outputs": [
    {
     "data": {
      "text/html": [
       "<span style=\"font-size:20px;\"><a class=\"ProveItLink\" href=\"../__pv_it/theorems/e9f87a0977d5044ea8daf1040d2f219396bb3d5b0/expr.ipynb\"><img src=\"data:image/png;base64,iVBORw0KGgoAAAANSUhEUgAAADMAAAAQBAMAAABJt1qBAAAAMFBMVEX///8AAAAAAAAAAAAAAAAA\n",
       "AAAAAAAAAAAAAAAAAAAAAAAAAAAAAAAAAAAAAAAAAAAv3aB7AAAAD3RSTlMAIquJdkTvuxBmmd1U\n",
       "zTKBpmoTAAAACXBIWXMAAA7EAAAOxAGVKw4bAAAA0ElEQVQY02NgwAKaq+86PsYmwcCiNoFjfRVW\n",
       "qSXBDAycWKX4FlQASS0UMffduy8AKaaGAiDZiSwT6wGh2RkXQEUYlR0dwPQNqIAQnwGUFSbA/gNE\n",
       "8wpABR6zToAwODIZuDaApWAGS7E6QBhcHxi4wQY82w0EBWC7oAayFTD0B4AY7TBd7GAXAkG/A8N8\n",
       "MIMbJsUK9hcrUOoAgy4PyAUsDvDQCAISa4HaHXh2cYFF7sDDsHYhx2mg3zhU7IT8wCJNpQ2wkC/7\n",
       "vRA18IKrwQEFAwCqvi28/xxvKQAAAABJRU5ErkJggg==\n",
       "\" style=\"display:inline;vertical-align:middle;\" /></a>, <a class=\"ProveItLink\" href=\"../__pv_it/theorems/a259ec76dfb0a5be60b7c83d797520fa82c1dba60/expr.ipynb\"><img src=\"data:image/png;base64,iVBORw0KGgoAAAANSUhEUgAAADEAAAAQBAMAAABNQoq8AAAAMFBMVEX///8AAAAAAAAAAAAAAAAA\n",
       "AAAAAAAAAAAAAAAAAAAAAAAAAAAAAAAAAAAAAAAAAAAv3aB7AAAAD3RSTlMAELvv3c2ZVESJq3Yi\n",
       "MmZ3LnoBAAAACXBIWXMAAA7EAAAOxAGVKw4bAAAA2UlEQVQY02NgwASSKqF7bjIwMCo7oElwL37A\n",
       "mK8GZLAmoMlkdzIw8IFk+AtQJXgTFIHkMiDuF4AKbXJxCQBSXAIKQFIOiKdAJVo3QmgmHpjxUbuX\n",
       "gyieQCj/FO8ECIPxq4D8AZBDDkBlbnI8gDDYPzIwbwDJwFxwjGMDhMEWwMAP0n7ZBQgUwPZATWOZ\n",
       "wNAPcrcQTA8T2G0Q7+SD3M0Ck+EA+4cDKHOB0Q4cJhvgYdAFJFKBHnvABHF/ODzcVHMYS4BijCvz\n",
       "IAJSGrDAkFT+koMSYJ0q4NCBAQD6uylQEVfDpgAAAABJRU5ErkJggg==\n",
       "\" style=\"display:inline;vertical-align:middle;\" /></a>, <a class=\"ProveItLink\" href=\"../../addition/subtraction/__pv_it/theorems/b66b5547fa9b0b910f79351152926c658c2718190/expr.ipynb\"><img src=\"data:image/png;base64,iVBORw0KGgoAAAANSUhEUgAAADEAAAAQBAMAAABNQoq8AAAAMFBMVEX///8AAAAAAAAAAAAAAAAA\n",
       "AAAAAAAAAAAAAAAAAAAAAAAAAAAAAAAAAAAAAAAAAAAv3aB7AAAAD3RSTlMAiXZmMiLdVJm77xBE\n",
       "zatgdeJyAAAACXBIWXMAAA7EAAAOxAGVKw4bAAAAw0lEQVQY02NgwAQbp91VdcQizsD0yoC7fwY2\n",
       "maaDDAzM2GRYGmYDyRfIQpppaReAFN+GCUByM5LEWW0IzcnaABMSUnYAkqy3odw4FgEoK6yAA6Sd\n",
       "NwDKd+QxgLISGbgUQDIwIyJ4FCAMjt8Q2isNCCaA7YGaxjUBQu+E6eHcABXZD9XLBpPhAfuHh4GB\n",
       "H2jfAVCYKMDD4ByQ6AXaM4GBEeRqhuvwcJvbyl0G8pOgMcSL++ZsgIX1rG+tKAF2cBo4dGAAAHWD\n",
       "KgtwTxl0AAAAAElFTkSuQmCC\n",
       "\" style=\"display:inline;vertical-align:middle;\" /></a>, <a class=\"ProveItLink\" href=\"../__pv_it/theorems/d6724abdc9486f838f4cf63bc1115e85255ce4c00/expr.ipynb\"><img src=\"data:image/png;base64,iVBORw0KGgoAAAANSUhEUgAAADMAAAAQBAMAAABJt1qBAAAAMFBMVEX///8AAAAAAAAAAAAAAAAA\n",
       "AAAAAAAAAAAAAAAAAAAAAAAAAAAAAAAAAAAAAAAAAAAv3aB7AAAAD3RSTlMAMs3vmVREEIndIqt2\n",
       "u2aBbGR5AAAACXBIWXMAAA7EAAAOxAGVKw4bAAAA4UlEQVQY02NgwAIqbiqdkgCzGJUdUGR4Nj9g\n",
       "978CYfMHoEj5ZDAw8EGl8guQZRgdrgPJLRBOJ4Q6O3OmApDiLrgAJOsgYipgMuk4hMfLBbOaa8fB\n",
       "r2BaHSqwmrEBykpewPsdRDMtgApIsD2AMNjtGFgUwFIwZyxhOwBhsHxg4AQbIDwTCC6A7YIayHyB\n",
       "oT4BxKiF6eIFuxAI6g8wvAczOGFSbGB/sQGlAhg2sYJcwHMAHhrZQMIJqP0A6xQWsIgqPAwvebFH\n",
       "Av3Gvqdx9UGwSPU1WHhVXP7phRoXGTfBAQUDAJ+SNfXA0lXRAAAAAElFTkSuQmCC\n",
       "\" style=\"display:inline;vertical-align:middle;\" /></a>, <a class=\"ProveItLink\" href=\"../../number_sets/integers/__pv_it/theorems/1759e791f6052d2463eefaaf9e2fa309cc3375160/expr.ipynb\"><img src=\"data:image/png;base64,iVBORw0KGgoAAAANSUhEUgAAADEAAAAUCAMAAAATIyWrAAAAPFBMVEX///8AAAAAAAAAAAAAAAAA\n",
       "AAAAAAAAAAAAAAAAAAAAAAAAAAAAAAAAAAAAAAAAAAAAAAAAAAAAAAAAAAAo1xBWAAAAE3RSTlMA\n",
       "IquJdkTvuxBmmd1UzTLn9enzF+Xi+wAAAAlwSFlzAAAOxAAADsQBlSsOGwAAANlJREFUKM+VktkS\n",
       "wyAIRVGMCy5d/P9/rZBJY5qWTniIIfFyvAiAFhThWrQwZ4iOzB9FaFNSC0DMuqTZKUlZOEFHzAWD\n",
       "yEvXnC0zAjoJthdejEVn3ElRZ0TcFIlr+fEr7DjKErc7PzeO6bgqRuXok2xTEbtiLNT5NeOnCzqk\n",
       "cVUszPBBPiwqYnNehvPIKkh9Gg0+/+O5unn3K8hNpGE3Sr9shXIoWj/7nrxUqywejJIJDucudGp2\n",
       "5inxPDfROmzGuqYixj5CZ9uv6y54ccq/IfRIlxH5KgKa9vMF/x0G2+xofVIAAAAASUVORK5CYII=\n",
       "\" style=\"display:inline;vertical-align:middle;\" /></a>, <a class=\"ProveItLink\" href=\"../__pv_it/demonstrations/4a82d58b126555a18b104ddba47c5351567eeaea0/expr.ipynb\"><img src=\"data:image/png;base64,iVBORw0KGgoAAAANSUhEUgAAADEAAAAUCAMAAAATIyWrAAAAPFBMVEX///8AAAAAAAAAAAAAAAAA\n",
       "AAAAAAAAAAAAAAAAAAAAAAAAAAAAAAAAAAAAAAAAAAAAAAAAAAAAAAAAAAAo1xBWAAAAE3RSTlMA\n",
       "Ms3vmVREEIndIqt2u2bn9enzePXnUgAAAAlwSFlzAAAOxAAADsQBlSsOGwAAAOJJREFUKM+VkukS\n",
       "hSAIhQU3zOUuvv+7XrHphjk5Ez8qoePHUZRahfH3NUBt5mSWK6JkNpmodlJkEAtsdR+ExNWpA4hi\n",
       "UULnCCqFGSF7yF1uxb442XBxaLrXYe99i5RgtoES4Q9F4b10K+UTZ0KP15ufB2ertCtSU2uWGVwi\n",
       "TkV7mcqfga4uRl9+Vzhm6NwTbok4nNtm17NKlSpGg/v/fHc3//PK/SZKs+v7IUVUdtgUr/dZtDrs\n",
       "5sawwaihbzsPWeAp0Tw3PiaCLSZYItp/hlKEu0m2pB4G+oeC8hgRniIUrIo/FvAG9zLswUoAAAAA\n",
       "SUVORK5CYII=\n",
       "\" style=\"display:inline;vertical-align:middle;\" /></a> <a class=\"ProveItLink\" href=\"../__pv_it/demonstrations/88dc610662a27915685f6535ffa71c9297f2ead10/proof.ipynb\" style=\"text-decoration: none\">&nbsp;&#x22A2;&nbsp;&nbsp;</a><a class=\"ProveItLink\" href=\"../__pv_it/demonstrations/266eb92b5bc7fd64028f5fb1023ac0c9ee263a140/expr.ipynb\"><img src=\"data:image/png;base64,iVBORw0KGgoAAAANSUhEUgAAAX4AAAAtBAMAAABbmR0iAAAAMFBMVEX///8AAAAAAAAAAAAAAAAA\n",
       "AAAAAAAAAAAAAAAAAAAAAAAAAAAAAAAAAAAAAAAAAAAv3aB7AAAAD3RSTlMAInZUiRDNmWbv3US7\n",
       "qzJazP2FAAAACXBIWXMAAA7EAAAOxAGVKw4bAAAEKElEQVRo3tWYT2gTQRTGX7rZJG3SJBRPpYW0\n",
       "KmihJYp46MVQRKGg7KkotGwuRT0Uc9BSemlOKogYvVj/HCJWCgEl9KSnpF5UKFhqKR48RA8eRGhr\n",
       "rJdCdWaT3Z233e1OkzVZP0iz+/ZN+2XmzcuvAwAQBU5xJzZULXHezAVX+j9hEhPfZ80+adomoRkS\n",
       "k2ZRX8osOm6X0AT50+zdq+p7JG4IKLqpX0biLvHfiu6OV98LkiFQyZW0y4LkEv8nTf0Pg5l/n75W\n",
       "w27ZvtfIy7PaE8N2J3o/GvwPHSmBd1kbpiU0W5fJ63U0tIXsir8lOYr8d8b9RQhoe11PaLaeETOz\n",
       "4M8i/8IWtMaQ/zkaEDLqKD2h2XpMWtAGtCXI5XQu9zCXe0GbUhIiCRRQ1ie8oUy9nuAO/61FkPNo\n",
       "/snHKcTZAEkhCirzP48SXFA/cgzu4nZDuvuMxAZkpViELNP+ZxrRQcUbFg8uqFvxDTEXhzUBbddI\n",
       "iewJFCCdMw+BouZfS0C67bT/r33m8XAvmUoFAc4BhGLCvB/ZbU+HUihAmo+3BH6t5PUEVgKNebjN\n",
       "8TSwQYs4LYUuevGdLNLK+e4B3D9XpwzfX6dvHSZVn9fWVUtgNUJ/HOT2v1Cn/wAt6raS2feveaDT\n",
       "5o+9o7/YrC2NPoIaeRb7D19JMf7hOXkFUmb8Zh6Y2tu+J6OuwS5dghp51jD/GjYq/vvp1SL3enuK\n",
       "Niib2PUZ1Y9fhn3ybHiJaHGX/4L0gz6IVvzLtAWOcvsP2Wy4CN0eGbPyC25BjTxr8D/M1n+FJz3c\n",
       "HNBj83ydeBCSZv692Vp5dtCiDhX//qKjzbpPraHuoQ5s17fSH+fnWX04HLg6xNTv6oBah54zv8i0\n",
       "t2Tq9kwQKVdBJIC16pQG78EHCdmVx8VN4OVZZjiWjslgLEtHtETbMZnni2mYxvN/SoL7wMuzzHDM\n",
       "ErMUG9Em33HU/wTdkmQPz1B7iGcnAX6BBc/KSZ1nlWt1OKNKThWTmYLahj91yOh/vur/CYjbeP7n\n",
       "IFgGC55tS+k8q1wzw1UpcQaT1RXZdrT+Jyr1I/6EwAb2X65OOA/PssPxIuiYrM6/8/UTioFYhvbk\n",
       "MWR3hxY1J8+yw7F/HZPV+t901P9n2umXKZIPpjC+foK3wM2zzHD89alj8r/pP0fplJCSGDv0ZaWE\n",
       "7I6dTfPzLDMcV7uOyVUFMo76VxjgJTjHs7Znh8t8ed8e8B3l5TGT1cuztvKlORPLfNOR4IC8ffCs\n",
       "rWTOf8E590mYlqPIbypU7wnYHc48b5YvT0GwDu4/31PvhnvKW2ech/0jjT36CViSP0Ow9Gad86hK\n",
       "aOyRXJdlvbMEa4mzjTj/2VPXrR4ggiU3k/B/SSVYK5x1u1SCtcJZlwsRrCXOutg/S7CWOOtiIYK1\n",
       "wlkXCxGsFc66Qn8BCrVv3C5z8nAAAAAASUVORK5CYII=\n",
       "\" style=\"display:inline;vertical-align:middle;\" /></a></span>"
      ],
      "text/plain": [
       "{a in Complex, b in Complex, c in Complex, d in Complex, a != 0, d != 0} |- (((a + b + c) * b) / (a * d)) = ((a + b + c) * b * a^{-1} * d^{-1})"
      ]
     },
     "metadata": {},
     "output_type": "display_data"
    }
   ],
   "source": [
    "expr_03.factorization(frac(Mult(b, Exp(a, Neg(one))), d), pull='right', assumptions=assumptions)"
   ]
  },
  {
   "cell_type": "markdown",
   "metadata": {},
   "source": [
    "## Distribution"
   ]
  },
  {
   "cell_type": "code",
   "execution_count": 26,
   "metadata": {},
   "outputs": [
    {
     "data": {
      "text/html": [
       "<a class=\"ProveItLink\" href=\"../__pv_it/demonstrations/2cd5fb79d140c239824e711e25e4ba973f8ad5890/expr.ipynb\"><img src=\"data:image/png;base64,iVBORw0KGgoAAAANSUhEUgAAAFAAAAArBAMAAAAd2hKcAAAAMFBMVEX///8AAAAAAAAAAAAAAAAA\n",
       "AAAAAAAAAAAAAAAAAAAAAAAAAAAAAAAAAAAAAAAAAAAv3aB7AAAAD3RSTlMAIquJdkTvuxBmmd1U\n",
       "zTKBpmoTAAAACXBIWXMAAA7EAAAOxAGVKw4bAAABOElEQVQ4y2NgwAAcZRsYiAO8CwgoiITS/Aeg\n",
       "DNYJ2BUegdLxDVAGjwN+hdYMWBUyKjs6oCq85KKDppDZZR4DQ5gA+w8UhRx/G/oFUBQy7mFYzsCR\n",
       "ycC1AUUhzw8GNgcUhdwGDCkMXB9ANAPD6t2703bv3gRkcV1g4AeKcO3evS17924FoMh6kO/YChj6\n",
       "A1BMBOqLP4BiYjqI6HdgmI/qa2Awrm9AVsjxBazwAIMujwCKwgdAd6OY+BMY9gzsDjy7uFBMZJrA\n",
       "vgBV4XIGBjsGDhU7IT/U4FFeiRbgzJZTGrDFDAMDgSiMRBfAlShGASb4TyQY/iHBd20BkSrhpQ8h\n",
       "EN9ApEJrYh15iyhVjMp+f4hSiCi18ANQqXWBGIWwUosgQCq18AOkUouAQkSphR8glVoEfI0otZAB\n",
       "AJ1mccbhc0EzAAAAAElFTkSuQmCC\n",
       "\" style=\"display:inline;vertical-align:middle;\" /></a>"
      ],
      "text/plain": [
       "(a + b + c) / d"
      ]
     },
     "metadata": {},
     "output_type": "display_data"
    }
   ],
   "source": [
    "expr_01"
   ]
  },
  {
   "cell_type": "code",
   "execution_count": 27,
   "metadata": {},
   "outputs": [
    {
     "data": {
      "text/html": [
       "<strong id=\"our_assumptions\">our_assumptions:</strong> <a class=\"ProveItLink\" href=\"../__pv_it/demonstrations/1693c1e6a721c7f57f16e3c8b279b6cb0869d69c0/expr.ipynb\"><img src=\"data:image/png;base64,iVBORw0KGgoAAAANSUhEUgAAAYwAAAAVCAMAAABi+SlHAAAAPFBMVEX///8AAAAAAAAAAAAAAAAA\n",
       "AAAAAAAAAAAAAAAAAAAAAAAAAAAAAAAAAAAAAAAAAAAAAAAAAAAAAAAAAAAo1xBWAAAAE3RSTlMA\n",
       "InZUiRDNmWbv3US7qzLn9enz+YF6hwAAAAlwSFlzAAAOxAAADsQBlSsOGwAAA+9JREFUaN7tmWmz\n",
       "nCoQhpEdbMi94f//16CggyyOLVVJVSp8ONac8eHtBZplCIltIf/aZFtuPyJ4yh69r6UBCNIa0Eil\n",
       "9+QM+o5V4k0u6hCuFGnbATD+VBLI4iLnNFwsFmDsO3JCNDUvjXot24M9lJ84p6oZ5BRCAOdAfvLW\n",
       "hpBqpF8JEBITF74/vLt+IdVbckI0tcAmZFsYfOlW/FrYtuSEFDIwORu9EEqB9GsHlMbGJQ4WiYjI\n",
       "LTkhmqZ3EO9lW/iSNL3Pdw7N7AmpprD87IZQK6RfO2DGhRBsbLLHwxenanRETojmQmInZHlTXaGc\n",
       "BuBSyBvngs/PXJ26ITQC6VcE2GiorpKKfjKdEO7WqRYdkROibYFEyzbVdb28FlSaB/W0h3A8U1L6\n",
       "IZQa6VcE1LH2LI7T5bMJWDpFL/EemLzWUekodewOHZFbJinV/oXobnAZKZRsDWdHytfEkYy6CAW4\n",
       "VKszhCJGQXjOU6+8SOwjvyJwJHA1y5Zr0bXrwxtpg62yLELUEmG5QQdkNNNG0xXgRRuDUbIVrOze\n",
       "fvy3/T2CuKQqdMb8umQs3LJqDsTcUUdjZ3nzSggqmBHIXQqjd6M+/GDN0brZO6SqaugNOiAJsbxE\n",
       "EaLZ4NLj57It3InZmQxeLxmOc67Xjw8phDrSOobCpdwwQ3DBjIBJnapwhial39jcoJpZIHQ1b5NT\n",
       "p809dEBG2XLMokQrg5GyFZymi6omPE+7E9pfMj5LdQqhv+bXB6RfEcg9Gdjl189BbrQb84pUR6jd\n",
       "qfUswD10QCZZ8ka0NhgvW8LdYpLWDFavLEH2k0Eu5SFWQqRfEUhzTOzp10XO7XBrrPwC7SmjGOP2\n",
       "MSmqUfdctDUYLVvA+5rx/880es+FF3ZKV1vbpmyRc/GIIzLmU6T3mUX6FQGgybytQycJO0YHpSM+\n",
       "5jmf3Y9k+KMKD9EBSfJOZUWLtgYjZDtw78yszVmERblkrLVKCiGsxG1EzpUuBsADv3Yg78C2DplV\n",
       "RF3uAlp++z6WuSi8baLSv7cVC1R1jfCIzPso7vGircEI2Q5MWHtk3oa8ML4ko0poNuf5cOiFislY\n",
       "2XXD+8yvBPg0hYSj3C+Ofq5mhINVtBeN2xkVQG5jy1qR3+TXC4EaHZLbVZzWxcYTI1objJDtwL3L\n",
       "JKE4dfs7J6m2W8J6r2vTy3H8M6WPsNv1JiKtbQmwfngc5nA9wdeNibfoe/IGnZH9dnd9p9oN4WKR\n",
       "fu3A1xutceN/gJxB79gvt6y3qr0QKuzvLwmAtz/0CUp+OzmD3rGaz6i2IVwAaVsGBLz07X1YJgI6\n",
       "gd6xVsyotiFEj/ADWGYc/Euan8PrEFJsLnbgF7mqMgKJ7yzWAAAAAElFTkSuQmCC\n",
       "\" style=\"display:inline;vertical-align:middle;\" /></a><br>"
      ],
      "text/plain": [
       "<IPython.core.display.HTML object>"
      ]
     },
     "metadata": {},
     "output_type": "display_data"
    }
   ],
   "source": [
    "our_assumptions = [InSet(var, Real) for var in [a, b, c, d]]\n",
    "our_assumptions = our_assumptions + [NotEquals(d, zero)]\n",
    "our_assumptions = our_assumptions + [InSet(Px, Real)]"
   ]
  },
  {
   "cell_type": "code",
   "execution_count": 28,
   "metadata": {},
   "outputs": [],
   "source": [
    "# distribute_frac_through_sum"
   ]
  },
  {
   "cell_type": "code",
   "execution_count": 29,
   "metadata": {},
   "outputs": [
    {
     "data": {
      "text/html": [
       "<span style=\"font-size:20px;\"> <a class=\"ProveItLink\" href=\"proofs/distribute_frac_through_sum/thm_proof.ipynb\" style=\"text-decoration: none\">&nbsp;&#x22A2;&nbsp;&nbsp;</a><a class=\"ProveItLink\" href=\"../__pv_it/theorems/61396e76a9ca9fb57978c7dee906814db2ab79a90/expr.ipynb\"><img src=\"data:image/png;base64,iVBORw0KGgoAAAANSUhEUgAAAskAAAAzCAMAAABSfWWJAAAAOVBMVEX///8AAAAAAAAAAAAAAAAA\n",
       "AAAAAAAAAAAAAAAAAAAAAAAAAAAAAAAAAAAAAAAAAAAAAAAAAAAAAAACXHtMAAAAEnRSTlMAq1Rm\n",
       "mUTNIjK7EInv3Xbt5cmRiLwgAAAACXBIWXMAAA7EAAAOxAGVKw4bAAAIHElEQVR42u1diZakKgxl\n",
       "U1mUec///9gBtBTZXAqXYsyZ6e5YCLl6gQSiBUAO4UbAK6/cIDnZ1/VKSElXh9ES7/mPouKMJ1TA\n",
       "NPtYJiZXhd1yiEsk8s+ioh1PqFrwy+TwLRdFEvl3UaEupb5MjgmuSyTyT6MSMKW+TA5L0zYFEvnH\n",
       "UXU4pb5MDqORW0tWuxzParebWuE7UD3Tv2h5Qn2ZHJyF2+2Xdxc70G4uIXkHqmdKTVLqy+SAtKJE\n",
       "Jre/HsRWfZNQXyb7Intr3uJSQk6FQNuYli7+PZNXzMmEKiTHWwa5GqlhQn2ZHMBiXyE1hUkoAem2\n",
       "MS1d/Hsmr5iTCVVIjrcMcjWCeh5XXyZ7QntrHwyrGQyrK2a2FLi/jOUwzS7OhYCQ52XywpzzUIW8\n",
       "7DSyTK58Gh7vZVx9mewJtCMjffvJeKeplNZYQTotbWt+wUBxYgqlSqeHp7X6T0EV7wkxZFkHkRV4\n",
       "rIurL5P9yMglWjt1fX9nKTDKfor36pI0Pc0e8bXydFSxOuLIMl7+BDzsBHm2+jLZn4ZxIGQeMq22\n",
       "MHkqjvkpTJ7rJ1iNp+QMVIm1gwiyvAsUMXh8iWKhvkz2Y3yro3NWDfOy2DQmO8XV7y6rn2zXz3HV\n",
       "qhu5cd9uH6qAi7qCLM/KxSo8Z2ax1ZfJni/WLsJjyok6UKFNTHaKeylbDpN5Xzt/WH+t1d9wqYv2\n",
       "/ARUoWWDNLIssg4v4Si/TPb8NPuKcCIlQASjbX6yU7xx0mi9Mbkj7h/WX6v1Q/VZ1Z6BKjBcriDL\n",
       "MyavwhN9VFVMnkdohL9kcpaq7hWeel5gU8Q3SaNqaprsEd/MTuWpEgJoflRr4iM7Y0gJwMN9FVMV\n",
       "k8mk1c2XTM5S1d0Bn9xzzxMZPg2jlBK+sXQsAErUrwekjiKaH9UakX1k+SUIz8Fhq4rJFE4Gfutd\n",
       "ZKnqXkF9dDu2EXUvto+qrX4kpz/P0kpfbCnwKaiSfS6CbHc/TZ4QhOfMLbaq/eR67F3fbKmPfnKO\n",
       "qu4V3Jf4/N5uVEcyl3afc6CRHsZUzWQ88v6bJwpGJueo6l6RfYlJ9rtRPZbJLKaatYthR/SrrL/P\n",
       "2kWGqu4V0Zf4roPdqJ7K5LaOqYbJxEw9WxdWRIrJ+6o6U5KbX3H7yC8zecjVGAV+g+qpTO66mGqY\n",
       "3MDPj8MU+TB5X1VZJ1BGoGzma5OKOYWxVgjp90rYgwJlN6rHMrmNqcPOiB5DRXRvo+mI/hCPe4NJ\n",
       "Jq9UlV2ohIxVeqMTKk8QMbGFyUNPw3rlnaXvef8TspfJyVrCWXvphndn+u1pZIFvjcm6c9RxmiAI\n",
       "hCLouIKYZnKkqrOmUzLG5IKb/o03MRma8EevvAMvEiJF+sn/inehuYdlnCZIfUiMgywIIZ36X0WZ\n",
       "bFUlJWnUP9cLCB4N+guRkpXUvdgsN35WGzmmgwFNiMnzCYNq6N6Ym9siLzb64bWLqJ8sSlm7WIn4\n",
       "9PrvuBJs5dJNNAGIokp5oGKDn2xVJRsAGagdqoSPBokcKalGX0VC2mqXYrKwQe6tYoETCNPyR/3H\n",
       "gBomu29NALLI9WRZynpyPBluZHIzHrJy6WaaKCar2RtV25j8qQqoepj0sgLCR0MSK9lwvb0qmb1H\n",
       "hDnmUSbPJwCrhw5M9vK6352RTEwO5PelE/02iZM/4uzxGdeRjjd9yqWzthL13jeZqLDC5E9VYPZC\n",
       "ncyp4WiFJFmLDCNzon69mc6UwrUZYxkClFY0yuT5BHM5xw8G78LbxUV9VSCTd6PKMCYH8vuSiX5b\n",
       "hPcipnpZnVMu3UwTw2QuPoGcWGGyFTG2xnGlaJHMOh7V3sFK1D2WDDam4zU6mzJGfNZCMQucoL2L\n",
       "//5nxruIRHzewxVFyG5UD/Uu0hlEjiPyyaWzaGLykapkuz6TmxaIehzBByarzmAdbQammqOhH3NJ\n",
       "TCqMBmvMp6CjoOo/S35ja8KEhiK8njydYCU5qYByTFNJzl+FyF5UR97ilTeDKDK3oJjqMtnKpZtp\n",
       "gg1NJdzFZEBkJaTkM5OpXiiwjgK9wjccpW2z/GGXRNqv6cBUhU7GZvXgtkw+BRdqDiE07F1MJyy2\n",
       "H4WQgdTErsjXdBaCyskfsVWXyVYu3UQT2g3ZxjuZbH86EmbplE6LfKHOt/B4KGjq+QOurGF45K92\n",
       "FYJtW8CsE9YnNNiWyORCUDl7lXD5zEjcvY7T5BiTq8UIKDiQ/lEQKKlXHvBwSP9Urny1PsSwhe//\n",
       "OWH9PFzk1kghqFoWVa94jo/KdshXXrhFdd/3nXd0XoGzepSaDNCYco2NeyU35NrZOyPTCWi9X9L+\n",
       "vNxqLgkeAV0e8qEMxlxkf7SZZhnwLdRyn0g9vFXXnnefBEBmWeiGLCUf1QFjLrI/2sz75pZdQk5z\n",
       "KSkaXkIF2QNQHTDmIvvjzcAurr5M9n300/ZG+Lin2MoHoDpgzEX2x5txnqt933C4hoWcyCfuvDbz\n",
       "RlQHjLnI/kgzTtiK37fO3hfnmxdRyvYZqA4Yc5H9kWac1OfufRP4anR02mOIDH5+PADVAWMusj/c\n",
       "zPvtDA8alAnUdwA/A9UBYy6yP9yMQ21HfZkckvqsQZlDIcldufwuqgPGXGR/sJlq2RMd9WVyUOiZ\n",
       "38Eo6gehOmDMRfZ7zXQopb5MDotkp90d3qJnoDpgzEX2B5t5v+33mJzzXeX6W0rv/Bb0RdsHjLnI\n",
       "/lAzTqaNn3iTjcmYc15S6k19xsiD8PpzMpehOmDMRfYHmqE1T6iae7mm0U6/l6CoHHVW4vN8v4qK\n",
       "O8ytnVfda/axv3NmZ/5UUei5AAAAAElFTkSuQmCC\n",
       "\" style=\"display:inline;vertical-align:middle;\" /></a></span>"
      ],
      "text/plain": [
       "|- forall_{n in NaturalPos} [forall_{x_{1}, x_{2}, ..., x_{n}, y in Complex | y != 0} (((x_{1} +  x_{2} +  ... +  x_{n}) / y) = ((x_{1} / y) +  (x_{2} / y) +  ... +  (x_{n} / y)))]"
      ]
     },
     "metadata": {},
     "output_type": "display_data"
    }
   ],
   "source": [
    "from proveit.numbers.division import distribute_frac_through_sum\n",
    "distribute_frac_through_sum"
   ]
  },
  {
   "cell_type": "code",
   "execution_count": 30,
   "metadata": {},
   "outputs": [
    {
     "data": {
      "text/html": [
       "<span style=\"font-size:20px;\"><a class=\"ProveItLink\" href=\"../../ordering/__pv_it/theorems/4aa8d696b1f407d6126de9f51a052e8d90e0848c0/expr.ipynb\"><img src=\"data:image/png;base64,iVBORw0KGgoAAAANSUhEUgAAADMAAAAQBAMAAABJt1qBAAAAMFBMVEX///8AAAAAAAAAAAAAAAAA\n",
       "AAAAAAAAAAAAAAAAAAAAAAAAAAAAAAAAAAAAAAAAAAAv3aB7AAAAD3RSTlMAIquJdkTvuxBmmd1U\n",
       "zTKBpmoTAAAACXBIWXMAAA7EAAAOxAGVKw4bAAAAzElEQVQY02NgwABz0+tvp09gwAoKhBiCpjdg\n",
       "lxJmYOdTwCXFJXABRch99+4LcKkCZJlYD4Qupg6QgYzKjg4gAcYbSAY+PysAZIQJsP8ACfAKwKXE\n",
       "bv8GmcCRycC1ASyF5IyZvSCa6wMDtwGI8Ww3EBRApNg7QV5mK2DoDwAJtCPp4ltQAaT7HRjmgwW4\n",
       "kf21ThwkdYBBlwfkAhYHJKl2FqCJ7A48u7jAInfgUlIMnBNKgS5UsRPyA4s0lTbAQr6Qofz+AeTg\n",
       "CK7ejRxyAISENKeL/c93AAAAAElFTkSuQmCC\n",
       "\" style=\"display:inline;vertical-align:middle;\" /></a>, <a class=\"ProveItLink\" href=\"../../ordering/__pv_it/theorems/6e5cad5b2984ed0d75bd47bd0c542ec447a4f3570/expr.ipynb\"><img src=\"data:image/png;base64,iVBORw0KGgoAAAANSUhEUgAAADEAAAAQBAMAAABNQoq8AAAAMFBMVEX///8AAAAAAAAAAAAAAAAA\n",
       "AAAAAAAAAAAAAAAAAAAAAAAAAAAAAAAAAAAAAAAAAAAv3aB7AAAAD3RSTlMAELvv3c2ZVESJq3Yi\n",
       "MmZ3LnoBAAAACXBIWXMAAA7EAAAOxAGVKw4bAAAA1ElEQVQY02NgQAdPjfRDjB4AGYzKDmhSCqcY\n",
       "uh4JABmsCegyJxmYeBcAGfwFmDJsBwKAjH4BqMgmF5cAuIwCkDEFKtG6EaGHSxBkWtTu5SA+TyCS\n",
       "aZdKDwDd9lVA/gDIIQfgModDvoD0s39kYN4AkkFywTtREM0WwMA/AUhfdgECBYgMkxzIpywTGPpB\n",
       "7hZC0sOboAjxTj7I3SzI/sk9BJK5wGgH4nNvQJIR4gYax/WACRI84XCZYwx8DzSArl6ZBxGQ0hCA\n",
       "hbUOg1I8cph1qkBCBwoAxe43BugJR6MAAAAASUVORK5CYII=\n",
       "\" style=\"display:inline;vertical-align:middle;\" /></a>, <a class=\"ProveItLink\" href=\"../../exponentiation/__pv_it/theorems/d550e8309ef79ca46e4c9fb5617a392ea678789b0/expr.ipynb\"><img src=\"data:image/png;base64,iVBORw0KGgoAAAANSUhEUgAAADEAAAAQBAMAAABNQoq8AAAAMFBMVEX///8AAAAAAAAAAAAAAAAA\n",
       "AAAAAAAAAAAAAAAAAAAAAAAAAAAAAAAAAAAAAAAAAAAv3aB7AAAAD3RSTlMAiXZmMiLdVJm77xBE\n",
       "zatgdeJyAAAACXBIWXMAAA7EAAAOxAGVKw4bAAAAvUlEQVQY02NgQAe2K+dfW2nAgA1MiGM4Z7kB\n",
       "q0wgAyfLAxwyHAEXkEU009IuwGUmIEmc1Ubo4dsNNk1I2QFIst5GMs2zNgDICCvgAGnlDYDLRF37\n",
       "BtafyMClAJJBcoHxXhDN8RvC90oDggkQGc7NIJ9yQV2xE0kPS8NsIL1fAcJnQ/ZPSySQ5gdqPACk\n",
       "mRSQZHYyAUWBDmMEuZrhOlwmgoHZYA6QIWgM8eK+ORtgYT2VYeb9AqRAODgtDTm0ALktNaaWdOV1\n",
       "AAAAAElFTkSuQmCC\n",
       "\" style=\"display:inline;vertical-align:middle;\" /></a>, <a class=\"ProveItLink\" href=\"../__pv_it/demonstrations/41c3ad9f29c40b69fd61c49f41684c1b813e9e850/expr.ipynb\"><img src=\"data:image/png;base64,iVBORw0KGgoAAAANSUhEUgAAADMAAAAQBAMAAABJt1qBAAAAMFBMVEX///8AAAAAAAAAAAAAAAAA\n",
       "AAAAAAAAAAAAAAAAAAAAAAAAAAAAAAAAAAAAAAAAAAAv3aB7AAAAD3RSTlMAMs3vmVREEIndIqt2\n",
       "u2aBbGR5AAAACXBIWXMAAA7EAAAOxAGVKw4bAAAA3klEQVQY02NgwACPbO9r2j6AsBmVHVDkLqxm\n",
       "yH5bAGHzB6BKrWDgZdwAYecXoEuxLFCAsDsh1NmZMxXgUhcgYipgMuk4Qhd3OchArh0Hv4IEuNSR\n",
       "DJQNWgBkJC/g/Q4SYFoAl1qs+RNkArsdAwvYBiYkZ7wrAtEsHxg4G0AM4ZlAcAEixVsH8jLzBYb6\n",
       "BJBALZIuRofrQLr+AMN7sAAnsr8c14KkAhg2sYJcwHMASaqWB2gi7wHWKSxgEVW41BIGvgfXgC7c\n",
       "07j6IFik+loBLORvMdzVRwnXjJszFZC4AHM6StvnxMwUAAAAAElFTkSuQmCC\n",
       "\" style=\"display:inline;vertical-align:middle;\" /></a>, <a class=\"ProveItLink\" href=\"../__pv_it/demonstrations/4a82d58b126555a18b104ddba47c5351567eeaea0/expr.ipynb\"><img src=\"data:image/png;base64,iVBORw0KGgoAAAANSUhEUgAAADEAAAAUCAMAAAATIyWrAAAAPFBMVEX///8AAAAAAAAAAAAAAAAA\n",
       "AAAAAAAAAAAAAAAAAAAAAAAAAAAAAAAAAAAAAAAAAAAAAAAAAAAAAAAAAAAo1xBWAAAAE3RSTlMA\n",
       "Ms3vmVREEIndIqt2u2bn9enzePXnUgAAAAlwSFlzAAAOxAAADsQBlSsOGwAAAOJJREFUKM+VkukS\n",
       "hSAIhQU3zOUuvv+7XrHphjk5Ez8qoePHUZRahfH3NUBt5mSWK6JkNpmodlJkEAtsdR+ExNWpA4hi\n",
       "UULnCCqFGSF7yF1uxb442XBxaLrXYe99i5RgtoES4Q9F4b10K+UTZ0KP15ufB2ertCtSU2uWGVwi\n",
       "TkV7mcqfga4uRl9+Vzhm6NwTbok4nNtm17NKlSpGg/v/fHc3//PK/SZKs+v7IUVUdtgUr/dZtDrs\n",
       "5sawwaihbzsPWeAp0Tw3PiaCLSZYItp/hlKEu0m2pB4G+oeC8hgRniIUrIo/FvAG9zLswUoAAAAA\n",
       "SUVORK5CYII=\n",
       "\" style=\"display:inline;vertical-align:middle;\" /></a> <a class=\"ProveItLink\" href=\"../__pv_it/demonstrations/bbac1f8d43e8f09a3dc3fa4ece2a4c6c37cc14c70/proof.ipynb\" style=\"text-decoration: none\">&nbsp;&#x22A2;&nbsp;&nbsp;</a><a class=\"ProveItLink\" href=\"../__pv_it/demonstrations/be611eabd7baede7ec2603fcb465b1fc330785c60/expr.ipynb\"><img src=\"data:image/png;base64,iVBORw0KGgoAAAANSUhEUgAAAOoAAAAyBAMAAACg11o/AAAAMFBMVEX///8AAAAAAAAAAAAAAAAA\n",
       "AAAAAAAAAAAAAAAAAAAAAAAAAAAAAAAAAAAAAAAAAAAv3aB7AAAAD3RSTlMAIquJdkTvuxBmmd1U\n",
       "zTKBpmoTAAAACXBIWXMAAA7EAAAOxAGVKw4bAAADp0lEQVRYw8VYT0gUURj/dN3d2XF0F4kuHRJW\n",
       "gqhAzEsJspWHuqinwNNaRFYSLBISBbV4qOPuoUuX1luEiJLhwSmYwFuHloIQT3bpEuKaSquY9ebP\n",
       "zsyb972Z8U3gd9i3+735vt973/u+781vAaLIk0NbSA8hqjSXD2/zs8hZzuR8SA9Z3sTzca6NwnPe\n",
       "Nh0ONFXlTq3yrXo8v0esMa1ZX+L+ETye4U7t861aPU6XrTHfCL2S80V9x52J1/lWyh0ctQ9CoaZG\n",
       "uVMxv8wwot+UvZSjUb8MnPWg9l5bY60T3cbQ0XuMzYyuyxqyloFXRij1g7meSdYpVOlPsZShUE9o\n",
       "coF1MmQcRPwGPGWKobQibTLPN72H18aSOgnGXZDnKVSlDokchbrQUFDy1vh8VoYZZupzEW6xadRt\n",
       "Kol/kGv6T4AZVb2tqronuQppopFVdXFcVcnCZDQ32g+MYU5flFdmAbYY5ZwVEmmbnE4BSsPUXski\n",
       "8pp7r4kC2pjMZBoDaYeZW4A4WztjjS+PyRHkoELnMClXa1kWaglN5USntfBUDSlXNj76Fk2pZKCk\n",
       "wTklQ6GukbN2o6ZJXQ8znjeMapf2obn60Tt3oB+3V3ZJ6pm7KEMypyzJ1F6by8lpCpUkcIytnCFz\n",
       "qQ/g0zTTQU/DIzY4JIH7G1GSuvo7BunKyb7xdInzL6+yTibNYerK9y5mSVMXkV4au/DCPLjkPNab\n",
       "IFRvGhO+IGM1rPs77dSn+0t7wqipHWHT9m1WN4JdBOVQpiFFQS6zZey53H8N04EwKvwSRm3ZFEf9\n",
       "fSgk0pp1MZpSrC6Oel94r3IEVBX+hhSm+ZtFl7YnnUvLUTr3FphAptGi+LtwTXyvi8LnGi3Cwm1t\n",
       "8yiyqSVCvd48ki6B96b2b8GcQ3Fa+Po9BLWhdKNafqUt3GVaC+7+uyy/GEFIB9X9Tb+87p8vBod4\n",
       "z59foErTr8JhQX0hDvaDP79AlX3cFh5ABG055c88UeUqt8EQ4jO4HwK1Yp1CR+8GmwWY0vaLvl87\n",
       "xMdXLLcoz0GVtt+TSDHpxKcaAtV8C9dffGeZOUzp+K0gbLtBfAKb8iif52BKx+8ZbA8O8fGV+A6f\n",
       "52BKxy9Wri7i4y9LXJ6DKm2/KSxrXMQnRBKjPAdV2n5bOxFnLuITkE7dXJ6DKW2/eWxLLuITcOvU\n",
       "+TwHUdp+J6L9ofdVyCpej4b6IyNi1apFQ20piFj1QETJigS4GhW1TSBY68WoqCL/Sq/on/8AUfZT\n",
       "i9D9zGQAAAAASUVORK5CYII=\n",
       "\" style=\"display:inline;vertical-align:middle;\" /></a></span>"
      ],
      "text/plain": [
       "{a in Real, b in Real, c in Real, d in Real, d != 0} |- ((a + b + c) / d) = ((a / d) + (b / d) + (c / d))"
      ]
     },
     "metadata": {},
     "output_type": "display_data"
    }
   ],
   "source": [
    "_n_sub = num(expr_01.numerator.operands.num_entries())\n",
    "_x_sub = expr_01.numerator.operands\n",
    "_y_sub = expr_01.denominator\n",
    "distribute_frac_through_sum.instantiate(\n",
    "        {n: _n_sub, x: _x_sub, y: _y_sub}, assumptions=our_assumptions)"
   ]
  },
  {
   "cell_type": "code",
   "execution_count": 31,
   "metadata": {},
   "outputs": [
    {
     "data": {
      "text/html": [
       "<span style=\"font-size:20px;\"><a class=\"ProveItLink\" href=\"../../ordering/__pv_it/theorems/4aa8d696b1f407d6126de9f51a052e8d90e0848c0/expr.ipynb\"><img src=\"data:image/png;base64,iVBORw0KGgoAAAANSUhEUgAAADMAAAAQBAMAAABJt1qBAAAAMFBMVEX///8AAAAAAAAAAAAAAAAA\n",
       "AAAAAAAAAAAAAAAAAAAAAAAAAAAAAAAAAAAAAAAAAAAv3aB7AAAAD3RSTlMAIquJdkTvuxBmmd1U\n",
       "zTKBpmoTAAAACXBIWXMAAA7EAAAOxAGVKw4bAAAAzElEQVQY02NgwABz0+tvp09gwAoKhBiCpjdg\n",
       "lxJmYOdTwCXFJXABRch99+4LcKkCZJlYD4Qupg6QgYzKjg4gAcYbSAY+PysAZIQJsP8ACfAKwKXE\n",
       "bv8GmcCRycC1ASyF5IyZvSCa6wMDtwGI8Ww3EBRApNg7QV5mK2DoDwAJtCPp4ltQAaT7HRjmgwW4\n",
       "kf21ThwkdYBBlwfkAhYHJKl2FqCJ7A48u7jAInfgUlIMnBNKgS5UsRPyA4s0lTbAQr6Qofz+AeTg\n",
       "CK7ejRxyAISENKeL/c93AAAAAElFTkSuQmCC\n",
       "\" style=\"display:inline;vertical-align:middle;\" /></a>, <a class=\"ProveItLink\" href=\"../../ordering/__pv_it/theorems/6e5cad5b2984ed0d75bd47bd0c542ec447a4f3570/expr.ipynb\"><img src=\"data:image/png;base64,iVBORw0KGgoAAAANSUhEUgAAADEAAAAQBAMAAABNQoq8AAAAMFBMVEX///8AAAAAAAAAAAAAAAAA\n",
       "AAAAAAAAAAAAAAAAAAAAAAAAAAAAAAAAAAAAAAAAAAAv3aB7AAAAD3RSTlMAELvv3c2ZVESJq3Yi\n",
       "MmZ3LnoBAAAACXBIWXMAAA7EAAAOxAGVKw4bAAAA1ElEQVQY02NgQAdPjfRDjB4AGYzKDmhSCqcY\n",
       "uh4JABmsCegyJxmYeBcAGfwFmDJsBwKAjH4BqMgmF5cAuIwCkDEFKtG6EaGHSxBkWtTu5SA+TyCS\n",
       "aZdKDwDd9lVA/gDIIQfgModDvoD0s39kYN4AkkFywTtREM0WwMA/AUhfdgECBYgMkxzIpywTGPpB\n",
       "7hZC0sOboAjxTj7I3SzI/sk9BJK5wGgH4nNvQJIR4gYax/WACRI84XCZYwx8DzSArl6ZBxGQ0hCA\n",
       "hbUOg1I8cph1qkBCBwoAxe43BugJR6MAAAAASUVORK5CYII=\n",
       "\" style=\"display:inline;vertical-align:middle;\" /></a>, <a class=\"ProveItLink\" href=\"../../exponentiation/__pv_it/theorems/d550e8309ef79ca46e4c9fb5617a392ea678789b0/expr.ipynb\"><img src=\"data:image/png;base64,iVBORw0KGgoAAAANSUhEUgAAADEAAAAQBAMAAABNQoq8AAAAMFBMVEX///8AAAAAAAAAAAAAAAAA\n",
       "AAAAAAAAAAAAAAAAAAAAAAAAAAAAAAAAAAAAAAAAAAAv3aB7AAAAD3RSTlMAiXZmMiLdVJm77xBE\n",
       "zatgdeJyAAAACXBIWXMAAA7EAAAOxAGVKw4bAAAAvUlEQVQY02NgQAe2K+dfW2nAgA1MiGM4Z7kB\n",
       "q0wgAyfLAxwyHAEXkEU009IuwGUmIEmc1Ubo4dsNNk1I2QFIst5GMs2zNgDICCvgAGnlDYDLRF37\n",
       "BtafyMClAJJBcoHxXhDN8RvC90oDggkQGc7NIJ9yQV2xE0kPS8NsIL1fAcJnQ/ZPSySQ5gdqPACk\n",
       "mRSQZHYyAUWBDmMEuZrhOlwmgoHZYA6QIWgM8eK+ORtgYT2VYeb9AqRAODgtDTm0ALktNaaWdOV1\n",
       "AAAAAElFTkSuQmCC\n",
       "\" style=\"display:inline;vertical-align:middle;\" /></a>, <a class=\"ProveItLink\" href=\"../__pv_it/demonstrations/41c3ad9f29c40b69fd61c49f41684c1b813e9e850/expr.ipynb\"><img src=\"data:image/png;base64,iVBORw0KGgoAAAANSUhEUgAAADMAAAAQBAMAAABJt1qBAAAAMFBMVEX///8AAAAAAAAAAAAAAAAA\n",
       "AAAAAAAAAAAAAAAAAAAAAAAAAAAAAAAAAAAAAAAAAAAv3aB7AAAAD3RSTlMAMs3vmVREEIndIqt2\n",
       "u2aBbGR5AAAACXBIWXMAAA7EAAAOxAGVKw4bAAAA3klEQVQY02NgwACPbO9r2j6AsBmVHVDkLqxm\n",
       "yH5bAGHzB6BKrWDgZdwAYecXoEuxLFCAsDsh1NmZMxXgUhcgYipgMuk4Qhd3OchArh0Hv4IEuNSR\n",
       "DJQNWgBkJC/g/Q4SYFoAl1qs+RNkArsdAwvYBiYkZ7wrAtEsHxg4G0AM4ZlAcAEixVsH8jLzBYb6\n",
       "BJBALZIuRofrQLr+AMN7sAAnsr8c14KkAhg2sYJcwHMASaqWB2gi7wHWKSxgEVW41BIGvgfXgC7c\n",
       "07j6IFik+loBLORvMdzVRwnXjJszFZC4AHM6StvnxMwUAAAAAElFTkSuQmCC\n",
       "\" style=\"display:inline;vertical-align:middle;\" /></a>, <a class=\"ProveItLink\" href=\"../__pv_it/demonstrations/4a82d58b126555a18b104ddba47c5351567eeaea0/expr.ipynb\"><img src=\"data:image/png;base64,iVBORw0KGgoAAAANSUhEUgAAADEAAAAUCAMAAAATIyWrAAAAPFBMVEX///8AAAAAAAAAAAAAAAAA\n",
       "AAAAAAAAAAAAAAAAAAAAAAAAAAAAAAAAAAAAAAAAAAAAAAAAAAAAAAAAAAAo1xBWAAAAE3RSTlMA\n",
       "Ms3vmVREEIndIqt2u2bn9enzePXnUgAAAAlwSFlzAAAOxAAADsQBlSsOGwAAAOJJREFUKM+VkukS\n",
       "hSAIhQU3zOUuvv+7XrHphjk5Ez8qoePHUZRahfH3NUBt5mSWK6JkNpmodlJkEAtsdR+ExNWpA4hi\n",
       "UULnCCqFGSF7yF1uxb442XBxaLrXYe99i5RgtoES4Q9F4b10K+UTZ0KP15ufB2ertCtSU2uWGVwi\n",
       "TkV7mcqfga4uRl9+Vzhm6NwTbok4nNtm17NKlSpGg/v/fHc3//PK/SZKs+v7IUVUdtgUr/dZtDrs\n",
       "5sawwaihbzsPWeAp0Tw3PiaCLSZYItp/hlKEu0m2pB4G+oeC8hgRniIUrIo/FvAG9zLswUoAAAAA\n",
       "SUVORK5CYII=\n",
       "\" style=\"display:inline;vertical-align:middle;\" /></a> <a class=\"ProveItLink\" href=\"../__pv_it/demonstrations/bbac1f8d43e8f09a3dc3fa4ece2a4c6c37cc14c70/proof.ipynb\" style=\"text-decoration: none\">&nbsp;&#x22A2;&nbsp;&nbsp;</a><a class=\"ProveItLink\" href=\"../__pv_it/demonstrations/be611eabd7baede7ec2603fcb465b1fc330785c60/expr.ipynb\"><img src=\"data:image/png;base64,iVBORw0KGgoAAAANSUhEUgAAAOoAAAAyBAMAAACg11o/AAAAMFBMVEX///8AAAAAAAAAAAAAAAAA\n",
       "AAAAAAAAAAAAAAAAAAAAAAAAAAAAAAAAAAAAAAAAAAAv3aB7AAAAD3RSTlMAIquJdkTvuxBmmd1U\n",
       "zTKBpmoTAAAACXBIWXMAAA7EAAAOxAGVKw4bAAADp0lEQVRYw8VYT0gUURj/dN3d2XF0F4kuHRJW\n",
       "gqhAzEsJspWHuqinwNNaRFYSLBISBbV4qOPuoUuX1luEiJLhwSmYwFuHloIQT3bpEuKaSquY9ebP\n",
       "zsyb972Z8U3gd9i3+735vt973/u+781vAaLIk0NbSA8hqjSXD2/zs8hZzuR8SA9Z3sTzca6NwnPe\n",
       "Nh0ONFXlTq3yrXo8v0esMa1ZX+L+ETye4U7t861aPU6XrTHfCL2S80V9x52J1/lWyh0ctQ9CoaZG\n",
       "uVMxv8wwot+UvZSjUb8MnPWg9l5bY60T3cbQ0XuMzYyuyxqyloFXRij1g7meSdYpVOlPsZShUE9o\n",
       "coF1MmQcRPwGPGWKobQibTLPN72H18aSOgnGXZDnKVSlDokchbrQUFDy1vh8VoYZZupzEW6xadRt\n",
       "Kol/kGv6T4AZVb2tqronuQppopFVdXFcVcnCZDQ32g+MYU5flFdmAbYY5ZwVEmmbnE4BSsPUXski\n",
       "8pp7r4kC2pjMZBoDaYeZW4A4WztjjS+PyRHkoELnMClXa1kWaglN5USntfBUDSlXNj76Fk2pZKCk\n",
       "wTklQ6GukbN2o6ZJXQ8znjeMapf2obn60Tt3oB+3V3ZJ6pm7KEMypyzJ1F6by8lpCpUkcIytnCFz\n",
       "qQ/g0zTTQU/DIzY4JIH7G1GSuvo7BunKyb7xdInzL6+yTibNYerK9y5mSVMXkV4au/DCPLjkPNab\n",
       "IFRvGhO+IGM1rPs77dSn+0t7wqipHWHT9m1WN4JdBOVQpiFFQS6zZey53H8N04EwKvwSRm3ZFEf9\n",
       "fSgk0pp1MZpSrC6Oel94r3IEVBX+hhSm+ZtFl7YnnUvLUTr3FphAptGi+LtwTXyvi8LnGi3Cwm1t\n",
       "8yiyqSVCvd48ki6B96b2b8GcQ3Fa+Po9BLWhdKNafqUt3GVaC+7+uyy/GEFIB9X9Tb+87p8vBod4\n",
       "z59foErTr8JhQX0hDvaDP79AlX3cFh5ABG055c88UeUqt8EQ4jO4HwK1Yp1CR+8GmwWY0vaLvl87\n",
       "xMdXLLcoz0GVtt+TSDHpxKcaAtV8C9dffGeZOUzp+K0gbLtBfAKb8iif52BKx+8ZbA8O8fGV+A6f\n",
       "52BKxy9Wri7i4y9LXJ6DKm2/KSxrXMQnRBKjPAdV2n5bOxFnLuITkE7dXJ6DKW2/eWxLLuITcOvU\n",
       "+TwHUdp+J6L9ofdVyCpej4b6IyNi1apFQ20piFj1QETJigS4GhW1TSBY68WoqCL/Sq/on/8AUfZT\n",
       "i9D9zGQAAAAASUVORK5CYII=\n",
       "\" style=\"display:inline;vertical-align:middle;\" /></a></span>"
      ],
      "text/plain": [
       "{a in Real, b in Real, c in Real, d in Real, d != 0} |- ((a + b + c) / d) = ((a / d) + (b / d) + (c / d))"
      ]
     },
     "metadata": {},
     "output_type": "display_data"
    }
   ],
   "source": [
    "expr_01.distribution(assumptions=our_assumptions)"
   ]
  },
  {
   "cell_type": "code",
   "execution_count": 32,
   "metadata": {},
   "outputs": [
    {
     "data": {
      "text/html": [
       "<strong id=\"expr_04\">expr_04:</strong> <a class=\"ProveItLink\" href=\"../__pv_it/demonstrations/33c1abcb8ce5955e33ae25bb03607233f2f4729b0/expr.ipynb\"><img src=\"data:image/png;base64,iVBORw0KGgoAAAANSUhEUgAAAC4AAAArBAMAAAD1Wqe3AAAAMFBMVEX///8AAAAAAAAAAAAAAAAA\n",
       "AAAAAAAAAAAAAAAAAAAAAAAAAAAAAAAAAAAAAAAAAAAv3aB7AAAAD3RSTlMAIquJdkTvuxBmmd1U\n",
       "zTKBpmoTAAAACXBIWXMAAA7EAAAOxAGVKw4bAAAA5UlEQVQ4y2NgwAAcZRsYsALeBdjF+Q9gF49v\n",
       "wC5uDSYZlR0dUMUvuegAyTAB9h+o7vnb0C/AwJHJwIXqLp4fDGwODFwfGLgNQKpu7waBBwwMXBcY\n",
       "+A0Y2AoY+gNQ1AOVxR9g6HdgmI/h/PUNDP0HGHR5BFDEHwDtZGB34NnFhaKeaQI7MCA4VOyE/FDd\n",
       "qbySYfiC/9jBoHDb2ywcEn+wC7P+wC7OTFLCFzJ5jy3hsyYy1GNL+G0TGNZiM2Y9A8NmbOLpDBxf\n",
       "sQhzfGHg/IBN/A8D04WDWCRKGE4vwOb+JueHKg/gPACaKU2U4TTJDQAAAABJRU5ErkJggg==\n",
       "\" style=\"display:inline;vertical-align:middle;\" /></a><br>"
      ],
      "text/plain": [
       "<IPython.core.display.HTML object>"
      ]
     },
     "metadata": {},
     "output_type": "display_data"
    }
   ],
   "source": [
    "expr_04 = frac(subtract(a, b), d)"
   ]
  },
  {
   "cell_type": "code",
   "execution_count": 33,
   "metadata": {},
   "outputs": [
    {
     "data": {
      "text/html": [
       "<strong id=\"expr_04_dist\">expr_04_dist:</strong> <span style=\"font-size:20px;\"><a class=\"ProveItLink\" href=\"../../ordering/__pv_it/theorems/4aa8d696b1f407d6126de9f51a052e8d90e0848c0/expr.ipynb\"><img src=\"data:image/png;base64,iVBORw0KGgoAAAANSUhEUgAAADMAAAAQBAMAAABJt1qBAAAAMFBMVEX///8AAAAAAAAAAAAAAAAA\n",
       "AAAAAAAAAAAAAAAAAAAAAAAAAAAAAAAAAAAAAAAAAAAv3aB7AAAAD3RSTlMAIquJdkTvuxBmmd1U\n",
       "zTKBpmoTAAAACXBIWXMAAA7EAAAOxAGVKw4bAAAAzElEQVQY02NgwABz0+tvp09gwAoKhBiCpjdg\n",
       "lxJmYOdTwCXFJXABRch99+4LcKkCZJlYD4Qupg6QgYzKjg4gAcYbSAY+PysAZIQJsP8ACfAKwKXE\n",
       "bv8GmcCRycC1ASyF5IyZvSCa6wMDtwGI8Ww3EBRApNg7QV5mK2DoDwAJtCPp4ltQAaT7HRjmgwW4\n",
       "kf21ThwkdYBBlwfkAhYHJKl2FqCJ7A48u7jAInfgUlIMnBNKgS5UsRPyA4s0lTbAQr6Qofz+AeTg\n",
       "CK7ejRxyAISENKeL/c93AAAAAElFTkSuQmCC\n",
       "\" style=\"display:inline;vertical-align:middle;\" /></a>, <a class=\"ProveItLink\" href=\"../../ordering/__pv_it/theorems/6e5cad5b2984ed0d75bd47bd0c542ec447a4f3570/expr.ipynb\"><img src=\"data:image/png;base64,iVBORw0KGgoAAAANSUhEUgAAADEAAAAQBAMAAABNQoq8AAAAMFBMVEX///8AAAAAAAAAAAAAAAAA\n",
       "AAAAAAAAAAAAAAAAAAAAAAAAAAAAAAAAAAAAAAAAAAAv3aB7AAAAD3RSTlMAELvv3c2ZVESJq3Yi\n",
       "MmZ3LnoBAAAACXBIWXMAAA7EAAAOxAGVKw4bAAAA1ElEQVQY02NgQAdPjfRDjB4AGYzKDmhSCqcY\n",
       "uh4JABmsCegyJxmYeBcAGfwFmDJsBwKAjH4BqMgmF5cAuIwCkDEFKtG6EaGHSxBkWtTu5SA+TyCS\n",
       "aZdKDwDd9lVA/gDIIQfgModDvoD0s39kYN4AkkFywTtREM0WwMA/AUhfdgECBYgMkxzIpywTGPpB\n",
       "7hZC0sOboAjxTj7I3SzI/sk9BJK5wGgH4nNvQJIR4gYax/WACRI84XCZYwx8DzSArl6ZBxGQ0hCA\n",
       "hbUOg1I8cph1qkBCBwoAxe43BugJR6MAAAAASUVORK5CYII=\n",
       "\" style=\"display:inline;vertical-align:middle;\" /></a>, <a class=\"ProveItLink\" href=\"../__pv_it/demonstrations/41c3ad9f29c40b69fd61c49f41684c1b813e9e850/expr.ipynb\"><img src=\"data:image/png;base64,iVBORw0KGgoAAAANSUhEUgAAADMAAAAQBAMAAABJt1qBAAAAMFBMVEX///8AAAAAAAAAAAAAAAAA\n",
       "AAAAAAAAAAAAAAAAAAAAAAAAAAAAAAAAAAAAAAAAAAAv3aB7AAAAD3RSTlMAMs3vmVREEIndIqt2\n",
       "u2aBbGR5AAAACXBIWXMAAA7EAAAOxAGVKw4bAAAA3klEQVQY02NgwACPbO9r2j6AsBmVHVDkLqxm\n",
       "yH5bAGHzB6BKrWDgZdwAYecXoEuxLFCAsDsh1NmZMxXgUhcgYipgMuk4Qhd3OchArh0Hv4IEuNSR\n",
       "DJQNWgBkJC/g/Q4SYFoAl1qs+RNkArsdAwvYBiYkZ7wrAtEsHxg4G0AM4ZlAcAEixVsH8jLzBYb6\n",
       "BJBALZIuRofrQLr+AMN7sAAnsr8c14KkAhg2sYJcwHMASaqWB2gi7wHWKSxgEVW41BIGvgfXgC7c\n",
       "07j6IFik+loBLORvMdzVRwnXjJszFZC4AHM6StvnxMwUAAAAAElFTkSuQmCC\n",
       "\" style=\"display:inline;vertical-align:middle;\" /></a>, <a class=\"ProveItLink\" href=\"../__pv_it/demonstrations/4a82d58b126555a18b104ddba47c5351567eeaea0/expr.ipynb\"><img src=\"data:image/png;base64,iVBORw0KGgoAAAANSUhEUgAAADEAAAAUCAMAAAATIyWrAAAAPFBMVEX///8AAAAAAAAAAAAAAAAA\n",
       "AAAAAAAAAAAAAAAAAAAAAAAAAAAAAAAAAAAAAAAAAAAAAAAAAAAAAAAAAAAo1xBWAAAAE3RSTlMA\n",
       "Ms3vmVREEIndIqt2u2bn9enzePXnUgAAAAlwSFlzAAAOxAAADsQBlSsOGwAAAOJJREFUKM+VkukS\n",
       "hSAIhQU3zOUuvv+7XrHphjk5Ez8qoePHUZRahfH3NUBt5mSWK6JkNpmodlJkEAtsdR+ExNWpA4hi\n",
       "UULnCCqFGSF7yF1uxb442XBxaLrXYe99i5RgtoES4Q9F4b10K+UTZ0KP15ufB2ertCtSU2uWGVwi\n",
       "TkV7mcqfga4uRl9+Vzhm6NwTbok4nNtm17NKlSpGg/v/fHc3//PK/SZKs+v7IUVUdtgUr/dZtDrs\n",
       "5sawwaihbzsPWeAp0Tw3PiaCLSZYItp/hlKEu0m2pB4G+oeC8hgRniIUrIo/FvAG9zLswUoAAAAA\n",
       "SUVORK5CYII=\n",
       "\" style=\"display:inline;vertical-align:middle;\" /></a> <a class=\"ProveItLink\" href=\"../__pv_it/demonstrations/80a995a83245ecab41d8b6dcff00bcbc4515e6c30/proof.ipynb\" style=\"text-decoration: none\">&nbsp;&#x22A2;&nbsp;&nbsp;</a><a class=\"ProveItLink\" href=\"../__pv_it/demonstrations/0e57be44f45ee0c7cad34c8f32b2737b842e568e0/expr.ipynb\"><img src=\"data:image/png;base64,iVBORw0KGgoAAAANSUhEUgAAAJ8AAAAyBAMAAACwtxTjAAAAMFBMVEX///8AAAAAAAAAAAAAAAAA\n",
       "AAAAAAAAAAAAAAAAAAAAAAAAAAAAAAAAAAAAAAAAAAAv3aB7AAAAD3RSTlMAIquJdkTvuxBmmd1U\n",
       "zTKBpmoTAAAACXBIWXMAAA7EAAAOxAGVKw4bAAAC40lEQVRIx61XvY8SQRR/gLDLwsHm/gISiImJ\n",
       "5iisvETwNLG7o7IzwGlyOW0sjIUWkiu0uiyVnWErkysuEG3Us8DG5oojFuZyWuAfYODimWCCH/PB\n",
       "cTu7b4bZhFfswsxvfrPvc94AhBCjr5p93oCwckE5m3kr3eo+Ph4tShaYjzr0tS/d6wgffildsODS\n",
       "Zywnmx+jo5G6lDDbZa93kun4CB1OlaWEVe6PTxK3xDro8Au5P5a9mkfy13xbLxRWusiqO4DDiXy+\n",
       "cZGpdkyft2zDp6JzaB4H+c5xVBBOvPyn4diMmP7ZBMun4kED7iImZD5E4ADpESTKk5VgDSFF48v8\n",
       "ukeF5sIuwM8g4YClySlcEKsHWTboENrEA3Aq4vwbiCOBc549ETjQLarM6kaHkbYCYWghgbMOk29o\n",
       "YWHYZhGTJLZ3unApbQvzf+FZM5ipvzlhEE4I+8S0zMIEZJTT7y1/DXiMOJk7HoGTJG8a7lQNs3B1\n",
       "cVWc37rSREpXjX9DEE4G8zuTX0/0SxfxhoaU9AkdVwfVqmgTDsrzQ/H06c5PD65MXweVzWkTrtla\n",
       "hErXWSy79/imJa0zLdHT/sK2FmGqA/9wCUCX+ItNDsXqlD1bkappf+GSFkpNKNhQW2VdKdlzdsqa\n",
       "VhwmcvMObDFTMl/kmXNQUaJ+3OOpV0RbCjTtm2rUGC0O1YaOMhhq0r74S8iyIiB6StSkffFn/JGc\n",
       "MFpTonhbI4Z/JL86lhMmRwrU4uUB13XDO4p1LZ4IGMtR8To8ZXaNnHiPrk3aUshlXY4ix/gunB70\n",
       "Z5mLdS0eeSVHtWn7wgzdEc9JR3VmVStS1AaYv3hsecMQ7Vq8cePKUOYJJIc8P70RinYtATdjKHMM\n",
       "0d5H+uu10GtgXUugJUZRD2Hfdact8XQfrGsR6k1Dhtq6/r1Ai5GhX7xYMhRnIarhbnuZ+izEh5B3\n",
       "x5sz5mO5kITRGTrfDn29/aY2yWFoQvUFfJu55D8cTe0yi6XOogAAAABJRU5ErkJggg==\n",
       "\" style=\"display:inline;vertical-align:middle;\" /></a></span><br>"
      ],
      "text/plain": [
       "<IPython.core.display.HTML object>"
      ]
     },
     "metadata": {},
     "output_type": "display_data"
    }
   ],
   "source": [
    "expr_04_dist = expr_04.distribution(assumptions=our_assumptions)"
   ]
  },
  {
   "cell_type": "code",
   "execution_count": 34,
   "metadata": {},
   "outputs": [
    {
     "data": {
      "text/html": [
       "<strong id=\"expr_05\">expr_05:</strong> <a class=\"ProveItLink\" href=\"../__pv_it/demonstrations/142c63af4fe42fd07d8ffbdab84576d02b700e9e0/expr.ipynb\"><img src=\"data:image/png;base64,iVBORw0KGgoAAAANSUhEUgAAAGoAAAAxBAMAAADARiGQAAAAMFBMVEX///8AAAAAAAAAAAAAAAAA\n",
       "AAAAAAAAAAAAAAAAAAAAAAAAAAAAAAAAAAAAAAAAAAAv3aB7AAAAD3RSTlMAze/dEESJdpmrIma7\n",
       "MlRkuS6EAAAACXBIWXMAAA7EAAAOxAGVKw4bAAACY0lEQVRIx2NgQAKXpUIZSAe9YQ1EqmT8ZAwE\n",
       "Sv//fwFyluFRyAWlF4AI1s9gtmv+dwYG3gI8uuqgdDiYzIe4imUyA0M0wxJ0tTX/T86RcAAy+BKg\n",
       "IuwbwE78CuFxLuCSu3oAw4qPDAw8KkDaES4iAnbvJweIZQUc3ooL0DXxAh3OB8QM3XChHWBy/wE8\n",
       "vmH/C8TfgAwFuBAT2BbO73h08XwAYqBOPgFEqIM9xqJ/AbcufqBD7gODlgMYGCzlU67lMTCwTQDL\n",
       "3DfArQuoY5kd1AIOhsqCZgYGboi1bD9w66qflrYVRDM/YGDYxbDfYTbQsVAvyi/Aqes8LAgCGBgu\n",
       "MDSCg/UDRCgDt10fkXQxMKiDUxPELlbcQc/7DcoAuZCB9ReDC9CFkGBY7IA7ur7CYqCAgeUopwID\n",
       "MCi5IZbI4skRUD+Agpvvr4cC6wNIJACN2QCRcGAo76qAhgtrJQMnkOI4/weaDXgNGFjaC17sAzkW\n",
       "7MUKaP4pYF8wh/FBzxkg2ODO73AJ1VZbOGsx2FhoWmF04GY4zguVWfKYoQZV1w44qxspLPgUgcQv\n",
       "uNQ0huloCRIWp1zgwLBzcXHxWhsu/xvoeAUuBogLGUwZdFF1sRxA1s7xHwq+MCxiE+CAe4P1A1pw\n",
       "LofSVWjiHKXpJTD2iz0CpJdxLAtg8UEK4CwIJKM8Zd2ewDBYwH9yAMMoIBJc1CBL2z9yNLF+IUcX\n",
       "mwE5uhgbSNezMv3+A9I9pcVw3oFkXU4bIDUIaaCfgcGMdF06DCxfSS9uvjNwfyBd1z8GToFXJGs7\n",
       "zvC4gfT48iy7NR1niwIA+0XNsX6llQYAAAAASUVORK5CYII=\n",
       "\" style=\"display:inline;vertical-align:middle;\" /></a><br>"
      ],
      "text/plain": [
       "<IPython.core.display.HTML object>"
      ]
     },
     "metadata": {},
     "output_type": "display_data"
    }
   ],
   "source": [
    "expr_05 = frac(Sum(x, Px, domain=Interval(y, z)), d)"
   ]
  },
  {
   "cell_type": "code",
   "execution_count": 35,
   "metadata": {},
   "outputs": [
    {
     "data": {
      "text/html": [
       "<span style=\"font-size:20px;\"> <a class=\"ProveItLink\" href=\"proofs/distribute_frac_through_summation/thm_proof.ipynb\" style=\"text-decoration: none\">&nbsp;&#x22A2;&nbsp;&nbsp;</a><a class=\"ProveItLink\" href=\"../__pv_it/theorems/56ec75d1e006ae00f70305888eec71508038e27a0/expr.ipynb\"><img src=\"data:image/png;base64,iVBORw0KGgoAAAANSUhEUgAAAscAAABMCAMAAAC2wOouAAAAOVBMVEX///8AAAAAAAAAAAAAAAAA\n",
       "AAAAAAAAAAAAAAAAAAAAAAAAAAAAAAAAAAAAAAAAAAAAAAAAAAAAAAACXHtMAAAAEnRSTlMAq1Rm\n",
       "mUTNIjK7EInv3Xbt5cmRiLwgAAAACXBIWXMAAA7EAAAOxAGVKw4bAAAM20lEQVR42u1dibKtKAyU\n",
       "TQSUmeH/P3bcZVMM6tVjmaqZqnfjcWmb2AlBi+Kglax4l1WmN3TP0Z8K55+g0gwHGf/FGwn0HzCK\n",
       "itfxWJHW7uHTY+H8E1S6IxA08bRQCOjPN1zL9/GY33bs58L5d6iQmadFTTL8OSZP29PH42fDeQuP\n",
       "WeygKX+OobL4eHyePRjOW3hcIAH3Z10c+3h85pHZh4rDU24w2J+TXL8wHN/I4yfDeQ+PC9GA/RlZ\n",
       "yRvD8X08fjScN/G4Mhrqz4gfTfHx+MRw3Hyo+DwtRA31Z1ya/nh85nH1h0rAUxwo4JQfnl0b+fH4\n",
       "xGLFAmdp6ma0uu6nsE5Cmm/865k8LkwJ9ENNGlF8PD7NbDiZsSSGZMqcFKq1G7uY/gEeI1PB/PDj\n",
       "4Y/HZ94+C05lqMNxBJfOWhgjEBIlnWM5Vv425Pk8ZkbB/FAT75QVd/HYhbP0ahco45zGJ66Y5rpl\n",
       "+AQu5S2obMobj6eFqWF+8HPwldWKu3jswcmN22khdcZ16DETGn9Lw+hL6B2obMsbn6fCEw4pPzj8\n",
       "q4/HZz5Nlffvo9mHHu+vnvYci1u7+5JyUYHLG5+nOkBm2w9Or9nH4zOrFcz/w8HcThg3XuFYYl+S\n",
       "y1GByhufp5VXkUj5gVab4uPxeRbAKeuDifgY0OeyNFWTROkFhuybd3e38GajApY3Pk8Lr+qY8n/y\n",
       "+EYeR+CsjiE88IerBnuhVxW4nulAyqtRAcubgKdezpvywwy/tHp8E49jcHrFNzB/kFLKWsAxErrC\n",
       "Be0GyNDyiOurUQHLm4Cn1FVYKT/M6FvTvHt4HIWzPHImwr/d9UDpNvLV3X3v/9de7NWorMgbR904\n",
       "8ibgqZfypvwwK186C3ITj6NwqiPxOMh+6ik0s05PVkN4ZFfH4zV546gbR94EPK3cCnHKD81Lqo/H\n",
       "Z6Z5IZxsX5hhSmuiq+Aq/AA/M4l2pNHDvcfNxaisyBtX3TjyJuCpNGaTx54fONxfOpt3E48jcG4u\n",
       "a680EqInB9ZReaCD5EdMKlKg6X8tKQQUldKsmIbIG1fdOOcf8LQFpyr2+0HGzVvLbrfwOAZnuXFz\n",
       "KJ2dQyRDoVAJVMq0TfduAWaIrVYBqGDj0UZyplFtVh7uq/LGVjeOvAl52jiiK+UH5tfNx+MzyxUB\n",
       "nMIts8pu/haNjLUnwAZCeqdMu1k0L0BW0yEkUpqOF9kwMCrIxO49iZNpXd7Y6saRNyFPSyfWp/xA\n",
       "2VN+PD7PQji1m+Nx3bVYtCGsau+8FM5Pjdg3KddYYVSVo3bJQKWJv1aIiuiFrckbW9048ibkKXIG\n",
       "Q8oPMuXUOnTTHMr6+G4fz9sz5ATv4LHyS0fM43UpCy67qKXbDZnDW4npvtdVjbNmHYVlPURFSjJQ\n",
       "6V6RFfsd5bE6zJq8sdWNI29CnrrXl/KDDDk/VcdaLTTe7dvT+i2VaMpS80pZ2+8/xTt4jLw74eV4\n",
       "uO5pjdoLQrqrUone8KA3Oj7sOoroL6zRw566w+wvvNqotI+AKEYkDNHr8sZWN468CXmqnKfVin8B\n",
       "EANeZiOcuaaOJHn76bcfB2OkNSqn9btNOtptJDWCWtvDeZx/QXAT3tRdg+VgnFdMl2P86+523T5X\n",
       "qgUUhgF8HPQIJpoym9jw0S3MgfTIejKO6saVNzGe7vDT+QaXgDhUBjzO20/h9D/5rVE5rd9UMzVq\n",
       "LmptD+dx9gVlmAtn+6D0TY4MGCKvmDEY3mu4t8ueu7FRA67L4bGsTf6c+SBvbHXjyhsSqSHWaX81\n",
       "xR0Omd1rHGndkSRvP85FBK1RGa3fFZ3vMqK2KgTzOPuCcmLUrkwFUyLK4YymmEYrSpX6AyHkqi3W\n",
       "Dq3sWlf/FLDUjQdwyFPiVCXX/FOAU5ATqwMe5+2nsPufgtaoPa3fWnTLiue4jWQxoSKJtX2cx0Ju\n",
       "3LHcC8qweg+PJZ+rcW0KIMZ5kHuqOMqY7FeD9vLGUjeevMnlMRljXgkDXvs8ztqP0//kt0btaP1m\n",
       "pXbhFAWnse3jPK7Exh3LvKA8Hu/IX9sUj91W7fSz31azZ5/LtrwJeYoTPB79w7sSagUDngT1ipz9\n",
       "OCUXvzUq3RvFfbXMkZ0FWduv6AqiNu5Y3gXl8XhHKsmIvq/H0OdxJ5GvOZtsHg9znAL0mDARHufs\n",
       "xw6vQWtUujcqyMBaEjOPEsP2Fo9pY1mYryx3LO+CcsyYR7z42EEGbVcjg/np63jMEjwe/RxN/+v+\n",
       "JgxVFM0ZcLybqnBl/kASZz/xiBLZ2cLaoDUq3RsVPNpaUeGXmIftV/M8XOI1HqcvyOfBlirc5vHT\n",
       "u2DDqjo9IJFhPK6cLqp1fxdx5vtM+lqdGit2K91UrXaUAY/d/SxH2W7Nmttiw9aoZG9UNb8+Slj6\n",
       "WPlXuV2vkGXt+ORyafELslJMirQt9jYKG8NulIpLAxdO88e2KzkjMiyyJFR93mlwEh7b/tO6v+PX\n",
       "kvDTITbaBQMUOUUW8tjZzzxsE61ZC4nCxCHVGyVFrALhT/Fux2NeemUrK/JEL2gal1J0Dy0s1B4e\n",
       "D1Gd6JWuYvP4xeeRWU5+Ta9Yfjxu7xWZR9ZQm57UUbSbakVXWPsBtGbNuiJsjUr3RoVAsqV+XDBr\n",
       "+zV93IQS27pjNjD+uFTDu1HILh4POq2bjCtiU7oP0RUQfdzdEP4wHis85/28+xNHdNas8W6qOI+n\n",
       "/UBas+b597A1Kt0bpcMHG9UMWeyftl+Jx5HoaN+xBZiqJTxj1riUpBp2yeM8nn4wJgYztkWN36GP\n",
       "2UUrgqI83efn9Tz4SK21xgv9V7qpYnW3ZT+Q1qy5jBa2RqV7o4oSR1RrSXl7qIba28d5zMvtO7YA\n",
       "QyvWLZdbxiXmOAhHNo/HH9C+o+ef9j/S7rnDtSGZdbdn8bi6auhl1yu6x948tBAKkuxYN1Wcx8t+\n",
       "9rdmjf1PsdaodG9U6xHMT0CkErVp5i7CYfuV+bwqcccWYIb8cRmXJJL5uMF9STjHID7wuNZv4LGs\n",
       "r3rr+BEeW4g6s2Wr3VRNnMeLf39r1lZncKo3qn9kC3teOgy5TbERj/dlNEN614M4j8uqYtUmjyvt\n",
       "p6ODrojFsebneFzS4sk85tPpSlVsdVOV4by0T8C9rVlbjT+p3qg9uQsptutu+3jcBWIu7XE55nl2\n",
       "YViEP+h0xb//iV5XrOd55eM/UeGhIq7rnYrN19UA/6AtjZJjaRZvdVOJsE/I3TWgNWurCzbRG5W2\n",
       "afuDPOYlrvqccBmXXPXSRcXrx/MPrMa5Pi1lKAnn83lMo2u58UU8Jon+Y7JZANw8KxT0H7vqCdKa\n",
       "JUXCt94blbZp+4M8ppLUfYVuGZftlbUig1ZxXTH/wJnYVq3Ol0k4H89jEq24kat4rBPrQTYXi7LN\n",
       "OUe37qD85W+w1iyud/s0kMbj9rqpz1rXtDUuowMS75AMB1aY3cDjeMUN18VFPHZXL6b8/u42D6a2\n",
       "36l1a2vW2RUmQPCP/XHPeFYnvPWx6oIJJ9ejEv0YrqQ7HynJ04ytI6UAP3DQfOv+9/EYs7+BU5Za\n",
       "CYWuRyVSceMY7e1+S59myFOReH+FyM+Smak/Hoci6EY4uexrKNejUprStqYZvvC3s9kifZqx96xg\n",
       "gB+G2vderDPtHDjldTReUKFr7WrkpNMMeVon3u925J2Z5q6vML+Sx6fAyfVPoJI6zdh7CCXAD7Pm\n",
       "rZ+5uYfHJ8DZT5nLx6OSPM2Apzzx/mN+RJShx8+k/hSPj8OJe42Ino5K+jQDnjI3CU75YaYfX7n/\n",
       "KR4fhrMSSmjVVA9HZcdpBjz1PpCX8kMz7PLj8Xl2GE7VvwWOPR2VHacZ8BS55YiUH5gbm+/7eSfa\n",
       "4+G87TvpXe4gIX5wZsI/Hp+Z6PFfRmVlWf0ZPJZeGpfyQ58Qb0307uHx0+GMoZL8SMkpPMZe70nK\n",
       "D1Z06OPxmQIZ/Roq6Y+UnMJjX/6m/FB76wem7+Hx0+GcUZmXwidXwp/EYx+YlB9q9KVf0LuJxw+H\n",
       "c0JlXgqf+ZESMI8r/0GV8sOfhOrj8ZnCQv0CKvNS+MyPlIB5rH3ZkPLDn4T1x+MzhUX9G6iMS+Fz\n",
       "P1IC5XFZA/1g0+9ssbiLx8+Gc0FlXAqf+5ESII/Dt0yl/HB7Z8XiLh4/G06Lx+NS+NyPlMB4jIJJ\n",
       "jpQfbuqV35i+jcePhnNBZVoKf9VHShyeynBwp/xwk6/M9G7j8aPhnFFZlsJf9JESh6c6vBkpf5ak\n",
       "kx+Pz1TI8vmoXP6VEoenNQX7c6xRH49PtAfDucyDXL0U3uZpbGSn/DmGX9gsdCOPHwznLf1uMtZ0\n",
       "kvJnGRUfj0+058J5C4+RyPBnPgrJx+MzlQX5eDzzlEW/o5PyZ15fLV/H497uKeY+Fs4/QaVxv7vT\n",
       "MKD/iLG3KWRJertpcu2pcP4JKsMx5i9XMID/f+kBpvWE4sKSAAAAAElFTkSuQmCC\n",
       "\" style=\"display:inline;vertical-align:middle;\" /></a></span>"
      ],
      "text/plain": [
       "|- forall_{P, S} ([forall_{y in S} (P(y) in Complex)] => [forall_{z in Complex | z != 0} (([Sum_{y in S} P(y)] / z) = [Sum_{y in S} (P(y) / z)])])"
      ]
     },
     "metadata": {},
     "output_type": "display_data"
    }
   ],
   "source": [
    "from proveit.numbers.division import distribute_frac_through_summation\n",
    "distribute_frac_through_summation"
   ]
  },
  {
   "cell_type": "code",
   "execution_count": 36,
   "metadata": {},
   "outputs": [
    {
     "data": {
      "text/html": [
       "<span style=\"font-size:20px;\"> <a class=\"ProveItLink\" href=\"../__pv_it/demonstrations/39af0812a276031871a44f2e24cd6d9300586edc0/proof.ipynb\" style=\"text-decoration: none\">&nbsp;&#x22A2;&nbsp;&nbsp;</a><a class=\"ProveItLink\" href=\"../__pv_it/demonstrations/5efe98583b35149fa8e9a1042f4216e8734901ab0/expr.ipynb\"><img src=\"data:image/png;base64,iVBORw0KGgoAAAANSUhEUgAAApcAAABACAMAAAB4FqwdAAAAOVBMVEX///8AAAAAAAAAAAAAAAAA\n",
       "AAAAAAAAAAAAAAAAAAAAAAAAAAAAAAAAAAAAAAAAAAAAAAAAAAAAAAACXHtMAAAAEnRSTlMAq90i\n",
       "zVRmmUQyuxCJ73bt5ckWfcbGAAAACXBIWXMAAA7EAAAOxAGVKw4bAAALCklEQVR42u1dC7ejKAwW\n",
       "Qd6yu/z/H7u+CwERsRZnV86cmcm9tKbhM3wJMW2a//ngdhxtjUsz81Sj3KeZIiopN2Raj655ccmH\n",
       "ISpc2ZCn2uROzYxMy2JcjheXAy6rXRinfi1agjl/omYXh9RpeRz9i8tauFQ9TW+lgmv2SM0uv32X\n",
       "lF9cVsUlIxuh6ttl9P1ErhbGhXXhW+OkmK/ZTc6761VSfnFZEZfCik0BJ+hSXFs7Bx2iNPYwYFG5\n",
       "KdTsLufdsrT84rIeLgna/qutty4KTTjlw2aK1WEQYa1ESBL2mdkFbtbQQs1cp6u/99k7wF+7gM++\n",
       "uKyES28piPW3SDT8DpNOcHn8RnbedOW2F6pILE1UOWiaIuedphJEpuUXl7Vw2borga3PsNQAAqZo\n",
       "T46ZoVg2/c6uwGER50hZoWabkXKcdz6V6ABVgPKLy0q4FH6CjlpZ+EZmWVFj1322j03rVaFmy42T\n",
       "ct4RLnFIJXpwowTyi8squEQWyoVBjrTrv4vH6aIpcUJLNZt9cNp5Qy5xTCUYuAqUX1xWwaWywD+o\n",
       "3padOC2OVny2cb1yAYOU0HpeYI1KNctysYBLHFMJbmmTkl9cVsElDVAoyk7oZ0hg3XbQMw4wMMg0\n",
       "bH5bSoo1K+ASGVSiBwoB+cVlFVzK8JraluQHjUVaa+qE8wtCKR4xpho0w7TryzU7zSVyqAQDUT+Q\n",
       "X1xWwWUszCElh9IhjPoZoyNCnHMbYS9odpZL5FCJDmzcQH5xWQOX3EaS1EXnKZbs4HL67yeW4v0F\n",
       "zc5yiRwqga3PeIH84rIGLpkNj5p5SaZIhDD6MM2pKkjNrK5ryzU7zSWyqEQP7hRffnFZA5fEBulE\n",
       "3KqCNzIhjOTkJJXkDRpXesEtlec1mwt0I8MccIksKiGBDXz5xWUNXEZibyLKAB7SATTTNaHYgEve\n",
       "+ZTvjGbdAEFPK4W5Qb21/QGXyKISBuTvfXnAJWrbFv+nkGaGT9Q9GJc4DC6kHwWMrsMYhoc/QFkz\n",
       "wm6hYmw8aIH5eDEhSzFjmo7R1QwtL9AMRR8voa2PqJBLZFGJDuQffHnAJWn+g4PSB+OyC1JCxv8B\n",
       "HsBmcINkQ7oBfeug48H5sN2JZBDTRjwvbos0a62N5eOZTHOJLCohbEqugEuc/ztc/NaPxqWBDI2D\n",
       "NRjP7Oi0vgBjWI1exyTJYqxGg9EizcSwk8de6XnxkEtkUQkFfLEv/x6Xpsv/XU5Bq9KyJcRgod35\n",
       "j8YlA9QKxDzdevYRS2ii4WOitFlk8DIsCzUzAzBjzoE6vjPkEnlUwtqEvODy4607eu+arJUm3ypo\n",
       "HYg4HW1gJXPnn8fl70zwqbHY+JiaB8aCG7L6qHG7xo23j8+r26djJCWPkZqp2fCDkvPRLCrRgoDc\n",
       "kxdcsg3L5N4QyKk0+UpBKzNcL+yFufPP4/JnJghOdliQiBk+BO4bTabUdLDkhw4eA/9lcKFmUz1J\n",
       "wfloFpWA1/LkBZcCnfX4pVsY/XCXLxS0CtbIBYmIufPP4/JnJhiMbjNyleMdZ0wwcdgYJfmhZryo\n",
       "x0AOlZAgXvLklV+ufkbfnM/sHepSUtBq5PjY4LYwSDXr51XUnb+HS6l2+eWvTBAyqzP7DQ5ySjdr\n",
       "pq3tT6f8c6gEAnj35BWX6zreHAQ5lSYlBa2cAAciG8yi8/dwKeQuLn9kgmu4HEIeTn6r2cB3z18x\n",
       "g0pk4bKZH2Hu9b0r4uQKCgpaMWSbGDVCx3IU+/s41bvx+G9McA2XnBr9Y81GinnHNRlIQXnyhksm\n",
       "dra57zJ+QC/PFbQGAckASg4AuMz3cMlaZwQ0fsPlb0wwZupqdZ6J2QMdahacR/4Slxitf+0GWfoU\n",
       "rxGahSv8QWFJQWuwnQybOExxLvMTcU9Hujguj00ALZtEXwKXffPMsaMZK6GYh0OD0wVP/uTVRz+h\n",
       "E6eo4rQxI8+UfE70CwpaxdYuRTr8Emwxy/xUPK5Iz2O4hCbQ0EsYyZBxmJMMLP15wfw+Wke2XbD6\n",
       "9mejFJfjeaTZ2/iLVcjEZWdilF8YJCXfD0syg5wQlwUFrWGQNyIJ/JAf+ktMNI76S2gCbD0TKDm2\n",
       "G+ic7mNQH2xd5jtqYWJ1lX+cvxw+2A3tQTNxOfxLg5uCMZFA2Xlcbvt4UUFraBz+yV823J2/zy9b\n",
       "yFKdNLVvgvkYejOBVgYEThBxzrk1mi4yHcyEB3mP5Zd7mpn+hqOGPH455u3WcHersHKPAReUeYVW\n",
       "8Q1/bf0VweV2klpU0GrCzYQZvhZ9EXf+rr8M3ZeDy48JlKaGjJfbTKComFXGUVxuL5jfU89uRjWx\n",
       "EtfauDybKeB3hD3ZuMQ92nJNc4WVt3HOgW5GodXW+ou3+5SzrKCVhClvI8lwB6lubQm2zN/DJSZN\n",
       "ApebCVSL57ZmHxN0uINOwzHP9oL5NPuv6TRbTLhs6R+OS3FP8968/OX4i+Wu2Cqs3ByMmAuqcwqt\n",
       "tliEBMdoc6VJcUGrQpLDt1Ra9rbdKq+W+bvnPSKFy80EjC0R1McEVFG1j8vtBfPNshRezP4y8PL9\n",
       "Y3HZR/OX9/Raz8ale9/g2UXOdSzdeHqM1nPow0KrrfVXR4J5bWJHyKlC4Vq655C783f9ZZPEpRuD\n",
       "TTffxwRCBD3YZeQFboA27+Oht2nt9ayLIP0NzYRjmhF2j36wdsmT47hcKqy8sxSDPg4pWWi1tf7C\n",
       "kd0+VYdxpaAVzr9Wf6nG+1KaIfRyTLDEPU5iUkZeMO7jf/+zVKXtxD3yK3ztjt01opmUN+nXAsO0\n",
       "kXoiz6V8Kqzcs481igGFVkqvf20Mbm39FY3gU6WAFwpa4fyLdcH9xBbHjftjAqwnsqCj+cvPC5zK\n",
       "pClQ4yjC+L/QEZrbGw6mQs1Y9DnN7gv6Qc7QR+qCYYy7VFhhh46tKAOFVmJMIQgnj/Bp/RXFpUog\n",
       "7UJBK5x/EZd8ILhmOt9yTKD0sKkzEd3HPy/w7matTeTUy9gvVATpO75xKNCMRjNEtPuCfsFjlX1z\n",
       "yC+doEL6efUThVbxjCdOcNPyglY4/3vPUTgmaPb5pfuxD8ME+o06CHLHd1VAzeIZoqxmR0f6wVw9\n",
       "Lny+Z8n6nCi06io+afmT53viuCQZV0SXPhxG2tyTvAGa4dhFFDuqYM/SDxrBl0dcZj4/PgfX+YVW\n",
       "gtTqmWDatq+Gy+6YOyp76Y7l494q76CXQLNIhgh36LC6KE8/Co4hfflMvw1xCmdYNH/GKMdl8eFc\n",
       "eyWBOX/rE7tnM/I0I5a4Y7jbbcZ3aWbqxwC6ffntA1Onbxa+8uIJQPp2zdheURD9hn7wxM+XX1zW\n",
       "wCW9EpD3ctpw+fM0O6Uf9Lq+/OKyBi6xLQ+m1cTDqH2eZqf0gwVlQH5xWaVfcN9eWPdxyRBpOvww\n",
       "zU7pZwC9BPKLyyq41Bei6bHgZSyfYo/T7Ix+sk/KLy6r4BLb8hodhYwWGBnxOM1O6KdA9hLKLy7r\n",
       "fK8UeWx3x99oBr+OBcovLuvgktqntsL9jWakTcsvLuvgUln9UHP8RDMM0lFQfnFZ6/t02VOfiXQ0\n",
       "O+6kXR5dpeUXl7Vwqax5qD02zYo7aZ/+8KExXlxWwmVjHuswV82KO2kfu+Q2Lb+4rIfLpn2qw3Q0\n",
       "K+ykfcgueVJ+cVkTl/yxIfmmWWkn7YOBUFp+cVkTl9NTVM8ck2ZXOmknBwVNuGikKdeLy3q4bORj\n",
       "d/JJs5s6aWPgbHHM+b64nDqI2zsaQx2Hpe1Ta6cTml3upE3ogTytx4tLxcdRBSHPrenf1+xqJ23F\n",
       "03IjpvVQzTvecWZ7ubeT9jb+BUC7hNRaHT5lAAAAAElFTkSuQmCC\n",
       "\" style=\"display:inline;vertical-align:middle;\" /></a></span>"
      ],
      "text/plain": [
       "|- [forall_{x in {y .. z}} (P(x) in Complex)] => [forall_{d in Complex | d != 0} (((Sum_{x = y}^{z} P(x)) / d) = (Sum_{x = y}^{z} (P(x) / d)))]"
      ]
     },
     "metadata": {},
     "output_type": "display_data"
    }
   ],
   "source": [
    "# We have a theorem for distributing a non-zero divisor over a summation\n",
    "distribute_frac_through_summation.instantiate(\n",
    "    {P: P, S: Interval(y, z), y: x, z: d},\n",
    "    assumptions=our_assumptions+[Forall(x, InSet(Px, Complex), domain=Interval(y, z))])"
   ]
  },
  {
   "cell_type": "code",
   "execution_count": 37,
   "metadata": {},
   "outputs": [
    {
     "name": "stdout",
     "output_type": "stream",
     "text": [
      "NotImplementedError: Distribution of division through summation not yet implemented.\n"
     ]
    }
   ],
   "source": [
    "# but we have not integrated the distribute_frac_through_summation\n",
    "# into the general distribution() method:\n",
    "try:\n",
    "    expr_05.distribution(\n",
    "        assumptions=our_assumptions+[Forall(x, InSet(Px, Complex), domain=Interval(y, z))])\n",
    "    assert False, \"Expecting NotImplementedError; should not make it this far!\"\n",
    "except NotImplementedError as the_error:\n",
    "    print(\"NotImplementedError: {}\".format(the_error))"
   ]
  },
  {
   "cell_type": "markdown",
   "metadata": {},
   "source": [
    "### Div.neg_extraction()"
   ]
  },
  {
   "cell_type": "code",
   "execution_count": 38,
   "metadata": {},
   "outputs": [],
   "source": [
    "from proveit.numbers import Neg\n",
    "from proveit.numbers.division import neg_frac_neg_numerator, neg_frac_neg_numerator_gen"
   ]
  },
  {
   "cell_type": "code",
   "execution_count": 39,
   "metadata": {},
   "outputs": [
    {
     "data": {
      "text/html": [
       "<strong id=\"neg_a_over_b\">neg_a_over_b:</strong> <a class=\"ProveItLink\" href=\"../__pv_it/demonstrations/cf071bffc56650c3c8298a3f48131810e43f2e410/expr.ipynb\"><img src=\"data:image/png;base64,iVBORw0KGgoAAAANSUhEUgAAABwAAAAlBAMAAACjVpTCAAAAMFBMVEX///8AAAAAAAAAAAAAAAAA\n",
       "AAAAAAAAAAAAAAAAAAAAAAAAAAAAAAAAAAAAAAAAAAAv3aB7AAAAD3RSTlMAEM3dMiKriXZE77tm\n",
       "mVQzv5s6AAAACXBIWXMAAA7EAAAOxAGVKw4bAAAAlklEQVQoz2NggAHW9NYGBgSYFcD9EcFjXMPA\n",
       "awCklI1BwIH3AwNzAUKWawOD/AQEV76B4TySSfIPGJL4AuBc7gY+W14kkzNKwloYBgz8RwFUN156\n",
       "MSpfF5X7D4XH+RGFy26AwmXKaHuAHKqKjF+RuO8FGFYgcS8xMHxH4pozcP5DsZYX2aovDFIHkLg5\n",
       "DHuR7RWrhUoCAOqwLUvTAiHpAAAAAElFTkSuQmCC\n",
       "\" style=\"display:inline;vertical-align:middle;\" /></a><br>"
      ],
      "text/plain": [
       "<IPython.core.display.HTML object>"
      ]
     },
     "metadata": {},
     "output_type": "display_data"
    },
    {
     "data": {
      "text/html": [
       "<strong id=\"a_over_neg_b\">a_over_neg_b:</strong> <a class=\"ProveItLink\" href=\"../__pv_it/demonstrations/7b55304657f182c183cba58ecfcbeffe7479e7710/expr.ipynb\"><img src=\"data:image/png;base64,iVBORw0KGgoAAAANSUhEUgAAABoAAAAlBAMAAACuSOSFAAAAMFBMVEX///8AAAAAAAAAAAAAAAAA\n",
       "AAAAAAAAAAAAAAAAAAAAAAAAAAAAAAAAAAAAAAAAAAAv3aB7AAAAD3RSTlMAIquJdkTvuxBmmd1U\n",
       "zTKBpmoTAAAACXBIWXMAAA7EAAAOxAGVKw4bAAAAmklEQVQoz2NgAAEhExEGOGBNZKhvgPPaJjCs\n",
       "RsitZ2DYjOClM3B8hXM4vjBwfkDw/jAwXTgI55YwnF6wAM5rcn6o8oBhIMB/ZEBlsznKNiBzeRcg\n",
       "8/gPIPPiG5B51ijGXHLRQTLzb0O/AJzH84OBzYGB4/ZuEHjAdYGB3wAux23AEH8A2br1CDv4H3Bk\n",
       "IsxkmsCO5DQO5ZUMDACURjKr4OyQ+QAAAABJRU5ErkJggg==\n",
       "\" style=\"display:inline;vertical-align:middle;\" /></a><br>"
      ],
      "text/plain": [
       "<IPython.core.display.HTML object>"
      ]
     },
     "metadata": {},
     "output_type": "display_data"
    },
    {
     "data": {
      "text/html": [
       "<strong id=\"neg_mult_over_b\">neg_mult_over_b:</strong> <a class=\"ProveItLink\" href=\"../__pv_it/demonstrations/5d7a287431481e6a48f8652b1ef7bdcd02b9f32b0/expr.ipynb\"><img src=\"data:image/png;base64,iVBORw0KGgoAAAANSUhEUgAAAEQAAAAtBAMAAADlxtATAAAAMFBMVEX///8AAAAAAAAAAAAAAAAA\n",
       "AAAAAAAAAAAAAAAAAAAAAAAAAAAAAAAAAAAAAAAAAAAv3aB7AAAAD3RSTlMAInZUiRDNmWbv3US7\n",
       "qzJazP2FAAAACXBIWXMAAA7EAAAOxAGVKw4bAAABVElEQVQ4y9WSMUjDQBSG/5i0aZOgnQtCOggu\n",
       "SgZxtYjgpHQVKnEpipODiGM33RQnsUvBQsGpdHOLLq5SRBw7O1VqHNW7isnl3fBW/Yck78937/K/\n",
       "HACUkBEppaaCbN3XkSW6pEmJ3A51GtSwtUUn1ChqOxdrxFjWkDzte6g8G08VH7AeU2d1fgjsKcht\n",
       "yYuBQhqgHNgRcK2Eu4TdBszzxOmgKNq2xKv9G6mhPYJTBaZHEv+QaeMJ2FKiRAh7gDvp0v0xpJSN\n",
       "Qh9n4ma2FUPqXkECPJslFKJfY0bEF203UsTzza4tvqCaTD6CJUK/KokGm7OLgNNLnLXTOXF1hnS6\n",
       "ZWoUDqhzrP2SO1IbkYbUSe3pJ9Pws3UFf1hfrPC/Vb/imV0eGbOEG7OI1WaR/GAhYJCwkXtjkJUa\n",
       "LhjkCHhnkA7cMTsWm4v9ia0mg7zggZvL9rrW5Bvx8GMXdXDT1AAAAABJRU5ErkJggg==\n",
       "\" style=\"display:inline;vertical-align:middle;\" /></a><br>"
      ],
      "text/plain": [
       "<IPython.core.display.HTML object>"
      ]
     },
     "metadata": {},
     "output_type": "display_data"
    },
    {
     "data": {
      "text/html": [
       "<strong id=\"neg_mult_02_over_b\">neg_mult_02_over_b:</strong> <a class=\"ProveItLink\" href=\"../__pv_it/demonstrations/364d59ba647c8b7b47e6d8de3fe7008f8451c93a0/expr.ipynb\"><img src=\"data:image/png;base64,iVBORw0KGgoAAAANSUhEUgAAAEQAAAAtBAMAAADlxtATAAAAMFBMVEX///8AAAAAAAAAAAAAAAAA\n",
       "AAAAAAAAAAAAAAAAAAAAAAAAAAAAAAAAAAAAAAAAAAAv3aB7AAAAD3RSTlMAIquJdkTvuxBmmd1U\n",
       "zTKBpmoTAAAACXBIWXMAAA7EAAAOxAGVKw4bAAABUklEQVQ4y2NgQAMCeHgQwHIAhRuCRclhNB0T\n",
       "MFRwXEATuIGhhAtd1ywMJWwYAg3oImfRBXhBxjIqOzrARRYjS5t4PmBgVgAywgTYf8BFbyKpkD7A\n",
       "VcDACXQ/RyYD1wa48B4kJZsZ2BwYeBKAfvjAwG0A8u5fkHAqkHF7Nwg84AKbzfcB6OQChv4AEGcX\n",
       "VAncLwUgkhVoSr8Dw3wGbBb1gz3BA3RE/wEGXR54bJUglPADvRvAwAk0i92BZxcXXNwIKaALGJgf\n",
       "MHAB3cmhYifkBxd/jeQj45keDAzcAeiByf0ATUAaI444F6AJrMRML4WoXMYCTCXtqFx2LCmT0QGF\n",
       "68gwyMB/goBhaIP2bMJqbhFW8oegCtYfBJUwbyCohFfF6QABJf03OD4SUHK+gSGFgJK1DAyfCSjZ\n",
       "zMD6h2CwcBHy9j+GtgkElGgyVBEKlyYrDEMAJ6NlunyDmCoAAAAASUVORK5CYII=\n",
       "\" style=\"display:inline;vertical-align:middle;\" /></a><br>"
      ],
      "text/plain": [
       "<IPython.core.display.HTML object>"
      ]
     },
     "metadata": {},
     "output_type": "display_data"
    },
    {
     "data": {
      "text/html": [
       "<strong id=\"a_over_neg_mult\">a_over_neg_mult:</strong> <a class=\"ProveItLink\" href=\"../__pv_it/demonstrations/43115e40c53ea659e5b051f1037dbed1048647310/expr.ipynb\"><img src=\"data:image/png;base64,iVBORw0KGgoAAAANSUhEUgAAAEIAAAAqBAMAAAD13ZDsAAAAMFBMVEX///8AAAAAAAAAAAAAAAAA\n",
       "AAAAAAAAAAAAAAAAAAAAAAAAAAAAAAAAAAAAAAAAAAAv3aB7AAAAD3RSTlMAIquJdkTvuxBmmd1U\n",
       "zTKBpmoTAAAACXBIWXMAAA7EAAAOxAGVKw4bAAABT0lEQVQ4y2NgQAVCJiIMeAFrIkN9A14VbRMY\n",
       "VuM3Yz0Dw2b8KtIZOL7iVcDxhYHzA34VfxiYLhzEq6SE4fSCBXhVNDk/VHnAMArwgf+EAP2cIoCH\n",
       "BwYsB1C4IZgqDiMSUNkGoIYJGOnqAoLNC0o9N9BVcCHp4QdZOAtdBRsSOx6Um9jQs9RZJLY12Cp0\n",
       "hyxGYl9y0WFgYFZACJh4AlPtTSRH/23oF2DgRDhd+gBXAQPDHoQKnh8MbA4MPAlwgc0gPkMqUO/t\n",
       "3SDwgOsCA78BA98HsHEgb/4Aq0tFmMFtwBB/gIEVbMYukK8KwMJ7UIJjfQMDzwYYv98BmhERKh5w\n",
       "ZDIwcBbA+UB/BzAwGCFUME1gBwY7lwE8uAsYmIG+fY3kW+WVINcEwAWMZ3qABNBzsjR6vHCilwYr\n",
       "MdJHISqXsQBDRTsqlx0zGTI6oHAd0aQB5PpnT9dX6GwAAAAASUVORK5CYII=\n",
       "\" style=\"display:inline;vertical-align:middle;\" /></a><br>"
      ],
      "text/plain": [
       "<IPython.core.display.HTML object>"
      ]
     },
     "metadata": {},
     "output_type": "display_data"
    }
   ],
   "source": [
    "# create a few example expressions\n",
    "neg_a_over_b, a_over_neg_b, neg_mult_over_b, neg_mult_02_over_b, a_over_neg_mult = (\n",
    "    frac(Neg(a), b), frac(a, Neg(b)), frac(Mult(Neg(a), c), b),\n",
    "    frac(Mult(a, Neg(c)), b), frac(a, Mult(Neg(b), c)))"
   ]
  },
  {
   "cell_type": "code",
   "execution_count": 40,
   "metadata": {},
   "outputs": [
    {
     "data": {
      "text/html": [
       "<span style=\"font-size:20px;\"><a class=\"ProveItLink\" href=\"../../ordering/__pv_it/theorems/4aa8d696b1f407d6126de9f51a052e8d90e0848c0/expr.ipynb\"><img src=\"data:image/png;base64,iVBORw0KGgoAAAANSUhEUgAAADMAAAAQBAMAAABJt1qBAAAAMFBMVEX///8AAAAAAAAAAAAAAAAA\n",
       "AAAAAAAAAAAAAAAAAAAAAAAAAAAAAAAAAAAAAAAAAAAv3aB7AAAAD3RSTlMAIquJdkTvuxBmmd1U\n",
       "zTKBpmoTAAAACXBIWXMAAA7EAAAOxAGVKw4bAAAAzElEQVQY02NgwABz0+tvp09gwAoKhBiCpjdg\n",
       "lxJmYOdTwCXFJXABRch99+4LcKkCZJlYD4Qupg6QgYzKjg4gAcYbSAY+PysAZIQJsP8ACfAKwKXE\n",
       "bv8GmcCRycC1ASyF5IyZvSCa6wMDtwGI8Ww3EBRApNg7QV5mK2DoDwAJtCPp4ltQAaT7HRjmgwW4\n",
       "kf21ThwkdYBBlwfkAhYHJKl2FqCJ7A48u7jAInfgUlIMnBNKgS5UsRPyA4s0lTbAQr6Qofz+AeTg\n",
       "CK7ejRxyAISENKeL/c93AAAAAElFTkSuQmCC\n",
       "\" style=\"display:inline;vertical-align:middle;\" /></a>, <a class=\"ProveItLink\" href=\"../../ordering/__pv_it/theorems/6e5cad5b2984ed0d75bd47bd0c542ec447a4f3570/expr.ipynb\"><img src=\"data:image/png;base64,iVBORw0KGgoAAAANSUhEUgAAADEAAAAQBAMAAABNQoq8AAAAMFBMVEX///8AAAAAAAAAAAAAAAAA\n",
       "AAAAAAAAAAAAAAAAAAAAAAAAAAAAAAAAAAAAAAAAAAAv3aB7AAAAD3RSTlMAELvv3c2ZVESJq3Yi\n",
       "MmZ3LnoBAAAACXBIWXMAAA7EAAAOxAGVKw4bAAAA1ElEQVQY02NgQAdPjfRDjB4AGYzKDmhSCqcY\n",
       "uh4JABmsCegyJxmYeBcAGfwFmDJsBwKAjH4BqMgmF5cAuIwCkDEFKtG6EaGHSxBkWtTu5SA+TyCS\n",
       "aZdKDwDd9lVA/gDIIQfgModDvoD0s39kYN4AkkFywTtREM0WwMA/AUhfdgECBYgMkxzIpywTGPpB\n",
       "7hZC0sOboAjxTj7I3SzI/sk9BJK5wGgH4nNvQJIR4gYax/WACRI84XCZYwx8DzSArl6ZBxGQ0hCA\n",
       "hbUOg1I8cph1qkBCBwoAxe43BugJR6MAAAAASUVORK5CYII=\n",
       "\" style=\"display:inline;vertical-align:middle;\" /></a>, <a class=\"ProveItLink\" href=\"../__pv_it/theorems/1157e8bc07ff5d23e5b8809064b9e77def3bc8980/expr.ipynb\"><img src=\"data:image/png;base64,iVBORw0KGgoAAAANSUhEUgAAAC8AAAAUCAMAAAAqRJTwAAAAPFBMVEX///8AAAAAAAAAAAAAAAAA\n",
       "AAAAAAAAAAAAAAAAAAAAAAAAAAAAAAAAAAAAAAAAAAAAAAAAAAAAAAAAAAAo1xBWAAAAE3RSTlMA\n",
       "ELvv3c2ZVESJq3YiMmbn9enzVleb9QAAAAlwSFlzAAAOxAAADsQBlSsOGwAAANlJREFUKM+VkusS\n",
       "xBAMhcUlGspevP+7LjG6bK0ZfmhSn+OICPF/IMz+glR6igfZZ0QezxoanPIydImxWVnXDclO5V2X\n",
       "RLZAfOKRpj7l2Se82TJJU/tHLy8SWw7sxDjv3c2S6eWh8bHEBvLUllHzeDzL3M44E1XeN1PKL+S/\n",
       "fP6gYYM0uh9LDHX5KPqaOLIL+XZfWygm8aop+3+96y2uGkmufCxUys8IKo7yvy8SFWsV6y6jcrRr\n",
       "7w2iSz+o0iHgCKNYy2cKybsw72NLYmsY2MLjprzekxdhtfgBfooGZl93KjkAAAAASUVORK5CYII=\n",
       "\" style=\"display:inline;vertical-align:middle;\" /></a> <a class=\"ProveItLink\" href=\"../__pv_it/demonstrations/dca1824549258afd6c1e6efce67bf654601e5a250/proof.ipynb\" style=\"text-decoration: none\">&nbsp;&#x22A2;&nbsp;&nbsp;</a><a class=\"ProveItLink\" href=\"../__pv_it/demonstrations/65c78eed08ff17030a1a21cb061bace0581766230/expr.ipynb\"><img src=\"data:image/png;base64,iVBORw0KGgoAAAANSUhEUgAAAG8AAAAmBAMAAAA4vNj3AAAAMFBMVEX///8AAAAAAAAAAAAAAAAA\n",
       "AAAAAAAAAAAAAAAAAAAAAAAAAAAAAAAAAAAAAAAAAAAv3aB7AAAAD3RSTlMAEM3dMiKriXZE77tm\n",
       "mVQzv5s6AAAACXBIWXMAAA7EAAAOxAGVKw4bAAABzklEQVRIx2NgIAR4H6CLCAmgcFnTWxuwabyG\n",
       "oYbFEEXBrADuj1j08ShgqjmGrIBxDQOvARaNXgKYarhBrmdUNgYBB94PDMwFWDSqI3sXqoZxIZIg\n",
       "1wYG+QmY+vg+YlOD7G/5BobzWCxEcQVcTXwAkuADhiS+AAyN/shBD1fDjWQcdwOfLS+mjdnIHLga\n",
       "ngVIIZZREtaCqfEPSsjD1LD+I5RsWL5iF7clpJHnA3bxS4Q0silgF+8npJErAbv4ewcCGvkLsIv7\n",
       "PyCk8QB2cXls4pfBidcMkkRwmMzfQMBGXE4CeuE/CkBXMH8CUgaCqAVHEP8Fcm28QMCP/uT6Mf4A\n",
       "aaGNnAOxG0goHrlwBII/tLCQXoxDI9MGFC5c3XtY/tbFVRovQOXD1BXDBHBlTB60ohambhuU5vyI\n",
       "QyMjqolwdbCCgd0AV+jsReHB1HHCCgamjDYc4XsKNayg6thh+VtekRFH4YJaSMPUcT1AhO4K7BrZ\n",
       "UcoOmLoupLLnOw5PLkEro8Dq1sEEzBk4cUXIIWQOVB2HAiJ6eHFFCNMBlGgEq4uCVxVfGKRwJXdG\n",
       "UyQORB2jHVwgBy2+kEEQUrUDUceNsESsFnf+YkUqQiHqJEFMAOrGi0W7nq6FAAAAAElFTkSuQmCC\n",
       "\" style=\"display:inline;vertical-align:middle;\" /></a></span>"
      ],
      "text/plain": [
       "{a in Real, b in Real, b != 0} |- ((-a) / b) = (-(a / b))"
      ]
     },
     "metadata": {},
     "output_type": "display_data"
    }
   ],
   "source": [
    "# with no neg_loc kwarg supplied, finds the Neg to factor out of numerator\n",
    "neg_a_over_b.neg_extraction(assumptions=[InSet(a, Real), InSet(b, Real), NotEquals(b, zero)])"
   ]
  },
  {
   "cell_type": "code",
   "execution_count": 41,
   "metadata": {},
   "outputs": [
    {
     "data": {
      "text/html": [
       "<span style=\"font-size:20px;\"><a class=\"ProveItLink\" href=\"../../ordering/__pv_it/theorems/4aa8d696b1f407d6126de9f51a052e8d90e0848c0/expr.ipynb\"><img src=\"data:image/png;base64,iVBORw0KGgoAAAANSUhEUgAAADMAAAAQBAMAAABJt1qBAAAAMFBMVEX///8AAAAAAAAAAAAAAAAA\n",
       "AAAAAAAAAAAAAAAAAAAAAAAAAAAAAAAAAAAAAAAAAAAv3aB7AAAAD3RSTlMAIquJdkTvuxBmmd1U\n",
       "zTKBpmoTAAAACXBIWXMAAA7EAAAOxAGVKw4bAAAAzElEQVQY02NgwABz0+tvp09gwAoKhBiCpjdg\n",
       "lxJmYOdTwCXFJXABRch99+4LcKkCZJlYD4Qupg6QgYzKjg4gAcYbSAY+PysAZIQJsP8ACfAKwKXE\n",
       "bv8GmcCRycC1ASyF5IyZvSCa6wMDtwGI8Ww3EBRApNg7QV5mK2DoDwAJtCPp4ltQAaT7HRjmgwW4\n",
       "kf21ThwkdYBBlwfkAhYHJKl2FqCJ7A48u7jAInfgUlIMnBNKgS5UsRPyA4s0lTbAQr6Qofz+AeTg\n",
       "CK7ejRxyAISENKeL/c93AAAAAElFTkSuQmCC\n",
       "\" style=\"display:inline;vertical-align:middle;\" /></a>, <a class=\"ProveItLink\" href=\"../../ordering/__pv_it/theorems/6e5cad5b2984ed0d75bd47bd0c542ec447a4f3570/expr.ipynb\"><img src=\"data:image/png;base64,iVBORw0KGgoAAAANSUhEUgAAADEAAAAQBAMAAABNQoq8AAAAMFBMVEX///8AAAAAAAAAAAAAAAAA\n",
       "AAAAAAAAAAAAAAAAAAAAAAAAAAAAAAAAAAAAAAAAAAAv3aB7AAAAD3RSTlMAELvv3c2ZVESJq3Yi\n",
       "MmZ3LnoBAAAACXBIWXMAAA7EAAAOxAGVKw4bAAAA1ElEQVQY02NgQAdPjfRDjB4AGYzKDmhSCqcY\n",
       "uh4JABmsCegyJxmYeBcAGfwFmDJsBwKAjH4BqMgmF5cAuIwCkDEFKtG6EaGHSxBkWtTu5SA+TyCS\n",
       "aZdKDwDd9lVA/gDIIQfgModDvoD0s39kYN4AkkFywTtREM0WwMA/AUhfdgECBYgMkxzIpywTGPpB\n",
       "7hZC0sOboAjxTj7I3SzI/sk9BJK5wGgH4nNvQJIR4gYax/WACRI84XCZYwx8DzSArl6ZBxGQ0hCA\n",
       "hbUOg1I8cph1qkBCBwoAxe43BugJR6MAAAAASUVORK5CYII=\n",
       "\" style=\"display:inline;vertical-align:middle;\" /></a>, <a class=\"ProveItLink\" href=\"../__pv_it/theorems/1157e8bc07ff5d23e5b8809064b9e77def3bc8980/expr.ipynb\"><img src=\"data:image/png;base64,iVBORw0KGgoAAAANSUhEUgAAAC8AAAAUCAMAAAAqRJTwAAAAPFBMVEX///8AAAAAAAAAAAAAAAAA\n",
       "AAAAAAAAAAAAAAAAAAAAAAAAAAAAAAAAAAAAAAAAAAAAAAAAAAAAAAAAAAAo1xBWAAAAE3RSTlMA\n",
       "ELvv3c2ZVESJq3YiMmbn9enzVleb9QAAAAlwSFlzAAAOxAAADsQBlSsOGwAAANlJREFUKM+VkusS\n",
       "xBAMhcUlGspevP+7LjG6bK0ZfmhSn+OICPF/IMz+glR6igfZZ0QezxoanPIydImxWVnXDclO5V2X\n",
       "RLZAfOKRpj7l2Se82TJJU/tHLy8SWw7sxDjv3c2S6eWh8bHEBvLUllHzeDzL3M44E1XeN1PKL+S/\n",
       "fP6gYYM0uh9LDHX5KPqaOLIL+XZfWygm8aop+3+96y2uGkmufCxUys8IKo7yvy8SFWsV6y6jcrRr\n",
       "7w2iSz+o0iHgCKNYy2cKybsw72NLYmsY2MLjprzekxdhtfgBfooGZl93KjkAAAAASUVORK5CYII=\n",
       "\" style=\"display:inline;vertical-align:middle;\" /></a> <a class=\"ProveItLink\" href=\"../__pv_it/demonstrations/dca1824549258afd6c1e6efce67bf654601e5a250/proof.ipynb\" style=\"text-decoration: none\">&nbsp;&#x22A2;&nbsp;&nbsp;</a><a class=\"ProveItLink\" href=\"../__pv_it/demonstrations/65c78eed08ff17030a1a21cb061bace0581766230/expr.ipynb\"><img src=\"data:image/png;base64,iVBORw0KGgoAAAANSUhEUgAAAG8AAAAmBAMAAAA4vNj3AAAAMFBMVEX///8AAAAAAAAAAAAAAAAA\n",
       "AAAAAAAAAAAAAAAAAAAAAAAAAAAAAAAAAAAAAAAAAAAv3aB7AAAAD3RSTlMAEM3dMiKriXZE77tm\n",
       "mVQzv5s6AAAACXBIWXMAAA7EAAAOxAGVKw4bAAABzklEQVRIx2NgIAR4H6CLCAmgcFnTWxuwabyG\n",
       "oYbFEEXBrADuj1j08ShgqjmGrIBxDQOvARaNXgKYarhBrmdUNgYBB94PDMwFWDSqI3sXqoZxIZIg\n",
       "1wYG+QmY+vg+YlOD7G/5BobzWCxEcQVcTXwAkuADhiS+AAyN/shBD1fDjWQcdwOfLS+mjdnIHLga\n",
       "ngVIIZZREtaCqfEPSsjD1LD+I5RsWL5iF7clpJHnA3bxS4Q0silgF+8npJErAbv4ewcCGvkLsIv7\n",
       "PyCk8QB2cXls4pfBidcMkkRwmMzfQMBGXE4CeuE/CkBXMH8CUgaCqAVHEP8Fcm28QMCP/uT6Mf4A\n",
       "aaGNnAOxG0goHrlwBII/tLCQXoxDI9MGFC5c3XtY/tbFVRovQOXD1BXDBHBlTB60ohambhuU5vyI\n",
       "QyMjqolwdbCCgd0AV+jsReHB1HHCCgamjDYc4XsKNayg6thh+VtekRFH4YJaSMPUcT1AhO4K7BrZ\n",
       "UcoOmLoupLLnOw5PLkEro8Dq1sEEzBk4cUXIIWQOVB2HAiJ6eHFFCNMBlGgEq4uCVxVfGKRwJXdG\n",
       "UyQORB2jHVwgBy2+kEEQUrUDUceNsESsFnf+YkUqQiHqJEFMAOrGi0W7nq6FAAAAAElFTkSuQmCC\n",
       "\" style=\"display:inline;vertical-align:middle;\" /></a></span>"
      ],
      "text/plain": [
       "{a in Real, b in Real, b != 0} |- ((-a) / b) = (-(a / b))"
      ]
     },
     "metadata": {},
     "output_type": "display_data"
    }
   ],
   "source": [
    "# with no neg_loc kwarg supplied, finds the Neg to factor out of numerator\n",
    "neg_a_over_b.simplification(assumptions=[InSet(a, Real), InSet(b, Real), NotEquals(b, zero)])"
   ]
  },
  {
   "cell_type": "code",
   "execution_count": 42,
   "metadata": {},
   "outputs": [
    {
     "data": {
      "text/html": [
       "<span style=\"font-size:20px;\"><a class=\"ProveItLink\" href=\"../../ordering/__pv_it/theorems/4aa8d696b1f407d6126de9f51a052e8d90e0848c0/expr.ipynb\"><img src=\"data:image/png;base64,iVBORw0KGgoAAAANSUhEUgAAADMAAAAQBAMAAABJt1qBAAAAMFBMVEX///8AAAAAAAAAAAAAAAAA\n",
       "AAAAAAAAAAAAAAAAAAAAAAAAAAAAAAAAAAAAAAAAAAAv3aB7AAAAD3RSTlMAIquJdkTvuxBmmd1U\n",
       "zTKBpmoTAAAACXBIWXMAAA7EAAAOxAGVKw4bAAAAzElEQVQY02NgwABz0+tvp09gwAoKhBiCpjdg\n",
       "lxJmYOdTwCXFJXABRch99+4LcKkCZJlYD4Qupg6QgYzKjg4gAcYbSAY+PysAZIQJsP8ACfAKwKXE\n",
       "bv8GmcCRycC1ASyF5IyZvSCa6wMDtwGI8Ww3EBRApNg7QV5mK2DoDwAJtCPp4ltQAaT7HRjmgwW4\n",
       "kf21ThwkdYBBlwfkAhYHJKl2FqCJ7A48u7jAInfgUlIMnBNKgS5UsRPyA4s0lTbAQr6Qofz+AeTg\n",
       "CK7ejRxyAISENKeL/c93AAAAAElFTkSuQmCC\n",
       "\" style=\"display:inline;vertical-align:middle;\" /></a>, <a class=\"ProveItLink\" href=\"../../ordering/__pv_it/theorems/6e5cad5b2984ed0d75bd47bd0c542ec447a4f3570/expr.ipynb\"><img src=\"data:image/png;base64,iVBORw0KGgoAAAANSUhEUgAAADEAAAAQBAMAAABNQoq8AAAAMFBMVEX///8AAAAAAAAAAAAAAAAA\n",
       "AAAAAAAAAAAAAAAAAAAAAAAAAAAAAAAAAAAAAAAAAAAv3aB7AAAAD3RSTlMAELvv3c2ZVESJq3Yi\n",
       "MmZ3LnoBAAAACXBIWXMAAA7EAAAOxAGVKw4bAAAA1ElEQVQY02NgQAdPjfRDjB4AGYzKDmhSCqcY\n",
       "uh4JABmsCegyJxmYeBcAGfwFmDJsBwKAjH4BqMgmF5cAuIwCkDEFKtG6EaGHSxBkWtTu5SA+TyCS\n",
       "aZdKDwDd9lVA/gDIIQfgModDvoD0s39kYN4AkkFywTtREM0WwMA/AUhfdgECBYgMkxzIpywTGPpB\n",
       "7hZC0sOboAjxTj7I3SzI/sk9BJK5wGgH4nNvQJIR4gYax/WACRI84XCZYwx8DzSArl6ZBxGQ0hCA\n",
       "hbUOg1I8cph1qkBCBwoAxe43BugJR6MAAAAASUVORK5CYII=\n",
       "\" style=\"display:inline;vertical-align:middle;\" /></a>, <a class=\"ProveItLink\" href=\"../__pv_it/theorems/1157e8bc07ff5d23e5b8809064b9e77def3bc8980/expr.ipynb\"><img src=\"data:image/png;base64,iVBORw0KGgoAAAANSUhEUgAAAC8AAAAUCAMAAAAqRJTwAAAAPFBMVEX///8AAAAAAAAAAAAAAAAA\n",
       "AAAAAAAAAAAAAAAAAAAAAAAAAAAAAAAAAAAAAAAAAAAAAAAAAAAAAAAAAAAo1xBWAAAAE3RSTlMA\n",
       "ELvv3c2ZVESJq3YiMmbn9enzVleb9QAAAAlwSFlzAAAOxAAADsQBlSsOGwAAANlJREFUKM+VkusS\n",
       "xBAMhcUlGspevP+7LjG6bK0ZfmhSn+OICPF/IMz+glR6igfZZ0QezxoanPIydImxWVnXDclO5V2X\n",
       "RLZAfOKRpj7l2Se82TJJU/tHLy8SWw7sxDjv3c2S6eWh8bHEBvLUllHzeDzL3M44E1XeN1PKL+S/\n",
       "fP6gYYM0uh9LDHX5KPqaOLIL+XZfWygm8aop+3+96y2uGkmufCxUys8IKo7yvy8SFWsV6y6jcrRr\n",
       "7w2iSz+o0iHgCKNYy2cKybsw72NLYmsY2MLjprzekxdhtfgBfooGZl93KjkAAAAASUVORK5CYII=\n",
       "\" style=\"display:inline;vertical-align:middle;\" /></a> <a class=\"ProveItLink\" href=\"../__pv_it/demonstrations/c2f3e685617c465b5531c4a703f1f912f799fe1e0/proof.ipynb\" style=\"text-decoration: none\">&nbsp;&#x22A2;&nbsp;&nbsp;</a><a class=\"ProveItLink\" href=\"../__pv_it/demonstrations/01860f227c6c5f18167735ea858d66b80d4ceee10/expr.ipynb\"><img src=\"data:image/png;base64,iVBORw0KGgoAAAANSUhEUgAAAG0AAAAmBAMAAAA8SQjKAAAAMFBMVEX///8AAAAAAAAAAAAAAAAA\n",
       "AAAAAAAAAAAAAAAAAAAAAAAAAAAAAAAAAAAAAAAAAAAv3aB7AAAAD3RSTlMAIquJdkTvuxBmmd1U\n",
       "zTKBpmoTAAAACXBIWXMAAA7EAAAOxAGVKw4bAAACE0lEQVRIx2NgIAC4DqCL9DbAmUImIrj0LUJi\n",
       "Myo7OjAw8O2A8VkTGeobsGvjvIDECRNg/wGkJsH4bRMYVuOw7hmSeRyZDFwbgDQ7zOnrGRg249B3\n",
       "GdmrHxi4DUD6M6AC6QwcX7Fr4/mBxGErYOgPQPIzxxcGzg/Y9YHNh4F+B4b5YIa8AETfHwamCwex\n",
       "6nuPHFz9Bxh0eUBa2KGmlTCcXrAAqz51ZA67A88uLnAgJ0AEmpwfqjzAqu8nModDxU7IDxyPfwgk\n",
       "Fr6P2MV3EdCHK7jWEtDHdAG7uD8BfWwK2MXPP8Cvj98Au/j7AwT0TcAu3o9FfPVuENgESRg4zOV3\n",
       "wG8fLvcA3f8fGaDLx4OSMcdtsAseQJSCY4Z/AZn2LcDvv/dk+k9+AmnhjJTjsJtHIP7YcPj/fQAi\n",
       "k5RtwJTnLUDhtmfD0hlSdubFYjZXAir/FpS2RvYrFjdz/kDlw/JrEXIcYyl5OVAzNusPLMWANbYA\n",
       "qELhMUODgBW5GLjkooOpbxpqMKk4gT3DjJSdOf429AtgRmAACu8GB9gmtgMoJTMbZiwzoxQUwOBP\n",
       "AdFuSKmd6wLW3J2HVhx9BtE5qCV6PJaYmIvM2czACgpglguo0bceS0zwTkCJPi5QTIghhwP/A2D1\n",
       "hiUGNyJx/oFqSgaOPShF5QR2rIlYFskRmuD4ZEfJRBzKK7EmfUakorLJCqSlFcQEAPQmnmwoAcZo\n",
       "AAAAAElFTkSuQmCC\n",
       "\" style=\"display:inline;vertical-align:middle;\" /></a></span>"
      ],
      "text/plain": [
       "{a in Real, b in Real, b != 0} |- (a / (-b)) = (-(a / b))"
      ]
     },
     "metadata": {},
     "output_type": "display_data"
    }
   ],
   "source": [
    "# with no neg_loc kwarg supplied, finds the Neg to factor out of denominator\n",
    "a_over_neg_b.neg_extraction(assumptions=[InSet(a, Real), InSet(b, Real), NotEquals(b, zero)])"
   ]
  },
  {
   "cell_type": "code",
   "execution_count": 43,
   "metadata": {},
   "outputs": [
    {
     "data": {
      "text/html": [
       "<span style=\"font-size:20px;\"><a class=\"ProveItLink\" href=\"../../ordering/__pv_it/theorems/4aa8d696b1f407d6126de9f51a052e8d90e0848c0/expr.ipynb\"><img src=\"data:image/png;base64,iVBORw0KGgoAAAANSUhEUgAAADMAAAAQBAMAAABJt1qBAAAAMFBMVEX///8AAAAAAAAAAAAAAAAA\n",
       "AAAAAAAAAAAAAAAAAAAAAAAAAAAAAAAAAAAAAAAAAAAv3aB7AAAAD3RSTlMAIquJdkTvuxBmmd1U\n",
       "zTKBpmoTAAAACXBIWXMAAA7EAAAOxAGVKw4bAAAAzElEQVQY02NgwABz0+tvp09gwAoKhBiCpjdg\n",
       "lxJmYOdTwCXFJXABRch99+4LcKkCZJlYD4Qupg6QgYzKjg4gAcYbSAY+PysAZIQJsP8ACfAKwKXE\n",
       "bv8GmcCRycC1ASyF5IyZvSCa6wMDtwGI8Ww3EBRApNg7QV5mK2DoDwAJtCPp4ltQAaT7HRjmgwW4\n",
       "kf21ThwkdYBBlwfkAhYHJKl2FqCJ7A48u7jAInfgUlIMnBNKgS5UsRPyA4s0lTbAQr6Qofz+AeTg\n",
       "CK7ejRxyAISENKeL/c93AAAAAElFTkSuQmCC\n",
       "\" style=\"display:inline;vertical-align:middle;\" /></a>, <a class=\"ProveItLink\" href=\"../../ordering/__pv_it/theorems/6e5cad5b2984ed0d75bd47bd0c542ec447a4f3570/expr.ipynb\"><img src=\"data:image/png;base64,iVBORw0KGgoAAAANSUhEUgAAADEAAAAQBAMAAABNQoq8AAAAMFBMVEX///8AAAAAAAAAAAAAAAAA\n",
       "AAAAAAAAAAAAAAAAAAAAAAAAAAAAAAAAAAAAAAAAAAAv3aB7AAAAD3RSTlMAELvv3c2ZVESJq3Yi\n",
       "MmZ3LnoBAAAACXBIWXMAAA7EAAAOxAGVKw4bAAAA1ElEQVQY02NgQAdPjfRDjB4AGYzKDmhSCqcY\n",
       "uh4JABmsCegyJxmYeBcAGfwFmDJsBwKAjH4BqMgmF5cAuIwCkDEFKtG6EaGHSxBkWtTu5SA+TyCS\n",
       "aZdKDwDd9lVA/gDIIQfgModDvoD0s39kYN4AkkFywTtREM0WwMA/AUhfdgECBYgMkxzIpywTGPpB\n",
       "7hZC0sOboAjxTj7I3SzI/sk9BJK5wGgH4nNvQJIR4gYax/WACRI84XCZYwx8DzSArl6ZBxGQ0hCA\n",
       "hbUOg1I8cph1qkBCBwoAxe43BugJR6MAAAAASUVORK5CYII=\n",
       "\" style=\"display:inline;vertical-align:middle;\" /></a>, <a class=\"ProveItLink\" href=\"../__pv_it/theorems/1157e8bc07ff5d23e5b8809064b9e77def3bc8980/expr.ipynb\"><img src=\"data:image/png;base64,iVBORw0KGgoAAAANSUhEUgAAAC8AAAAUCAMAAAAqRJTwAAAAPFBMVEX///8AAAAAAAAAAAAAAAAA\n",
       "AAAAAAAAAAAAAAAAAAAAAAAAAAAAAAAAAAAAAAAAAAAAAAAAAAAAAAAAAAAo1xBWAAAAE3RSTlMA\n",
       "ELvv3c2ZVESJq3YiMmbn9enzVleb9QAAAAlwSFlzAAAOxAAADsQBlSsOGwAAANlJREFUKM+VkusS\n",
       "xBAMhcUlGspevP+7LjG6bK0ZfmhSn+OICPF/IMz+glR6igfZZ0QezxoanPIydImxWVnXDclO5V2X\n",
       "RLZAfOKRpj7l2Se82TJJU/tHLy8SWw7sxDjv3c2S6eWh8bHEBvLUllHzeDzL3M44E1XeN1PKL+S/\n",
       "fP6gYYM0uh9LDHX5KPqaOLIL+XZfWygm8aop+3+96y2uGkmufCxUys8IKo7yvy8SFWsV6y6jcrRr\n",
       "7w2iSz+o0iHgCKNYy2cKybsw72NLYmsY2MLjprzekxdhtfgBfooGZl93KjkAAAAASUVORK5CYII=\n",
       "\" style=\"display:inline;vertical-align:middle;\" /></a> <a class=\"ProveItLink\" href=\"../__pv_it/demonstrations/dca1824549258afd6c1e6efce67bf654601e5a250/proof.ipynb\" style=\"text-decoration: none\">&nbsp;&#x22A2;&nbsp;&nbsp;</a><a class=\"ProveItLink\" href=\"../__pv_it/demonstrations/65c78eed08ff17030a1a21cb061bace0581766230/expr.ipynb\"><img src=\"data:image/png;base64,iVBORw0KGgoAAAANSUhEUgAAAG8AAAAmBAMAAAA4vNj3AAAAMFBMVEX///8AAAAAAAAAAAAAAAAA\n",
       "AAAAAAAAAAAAAAAAAAAAAAAAAAAAAAAAAAAAAAAAAAAv3aB7AAAAD3RSTlMAEM3dMiKriXZE77tm\n",
       "mVQzv5s6AAAACXBIWXMAAA7EAAAOxAGVKw4bAAABzklEQVRIx2NgIAR4H6CLCAmgcFnTWxuwabyG\n",
       "oYbFEEXBrADuj1j08ShgqjmGrIBxDQOvARaNXgKYarhBrmdUNgYBB94PDMwFWDSqI3sXqoZxIZIg\n",
       "1wYG+QmY+vg+YlOD7G/5BobzWCxEcQVcTXwAkuADhiS+AAyN/shBD1fDjWQcdwOfLS+mjdnIHLga\n",
       "ngVIIZZREtaCqfEPSsjD1LD+I5RsWL5iF7clpJHnA3bxS4Q0silgF+8npJErAbv4ewcCGvkLsIv7\n",
       "PyCk8QB2cXls4pfBidcMkkRwmMzfQMBGXE4CeuE/CkBXMH8CUgaCqAVHEP8Fcm28QMCP/uT6Mf4A\n",
       "aaGNnAOxG0goHrlwBII/tLCQXoxDI9MGFC5c3XtY/tbFVRovQOXD1BXDBHBlTB60ohambhuU5vyI\n",
       "QyMjqolwdbCCgd0AV+jsReHB1HHCCgamjDYc4XsKNayg6thh+VtekRFH4YJaSMPUcT1AhO4K7BrZ\n",
       "UcoOmLoupLLnOw5PLkEro8Dq1sEEzBk4cUXIIWQOVB2HAiJ6eHFFCNMBlGgEq4uCVxVfGKRwJXdG\n",
       "UyQORB2jHVwgBy2+kEEQUrUDUceNsESsFnf+YkUqQiHqJEFMAOrGi0W7nq6FAAAAAElFTkSuQmCC\n",
       "\" style=\"display:inline;vertical-align:middle;\" /></a></span>"
      ],
      "text/plain": [
       "{a in Real, b in Real, b != 0} |- ((-a) / b) = (-(a / b))"
      ]
     },
     "metadata": {},
     "output_type": "display_data"
    }
   ],
   "source": [
    "# can instead specify to factor out Neg from numerator\n",
    "neg_a_over_b.neg_extraction(neg_loc = 'numerator', assumptions=[InSet(a, Real), InSet(b, Real), NotEquals(b, zero)])"
   ]
  },
  {
   "cell_type": "code",
   "execution_count": 44,
   "metadata": {},
   "outputs": [
    {
     "data": {
      "text/html": [
       "<span style=\"font-size:20px;\"><a class=\"ProveItLink\" href=\"../../ordering/__pv_it/theorems/4aa8d696b1f407d6126de9f51a052e8d90e0848c0/expr.ipynb\"><img src=\"data:image/png;base64,iVBORw0KGgoAAAANSUhEUgAAADMAAAAQBAMAAABJt1qBAAAAMFBMVEX///8AAAAAAAAAAAAAAAAA\n",
       "AAAAAAAAAAAAAAAAAAAAAAAAAAAAAAAAAAAAAAAAAAAv3aB7AAAAD3RSTlMAIquJdkTvuxBmmd1U\n",
       "zTKBpmoTAAAACXBIWXMAAA7EAAAOxAGVKw4bAAAAzElEQVQY02NgwABz0+tvp09gwAoKhBiCpjdg\n",
       "lxJmYOdTwCXFJXABRch99+4LcKkCZJlYD4Qupg6QgYzKjg4gAcYbSAY+PysAZIQJsP8ACfAKwKXE\n",
       "bv8GmcCRycC1ASyF5IyZvSCa6wMDtwGI8Ww3EBRApNg7QV5mK2DoDwAJtCPp4ltQAaT7HRjmgwW4\n",
       "kf21ThwkdYBBlwfkAhYHJKl2FqCJ7A48u7jAInfgUlIMnBNKgS5UsRPyA4s0lTbAQr6Qofz+AeTg\n",
       "CK7ejRxyAISENKeL/c93AAAAAElFTkSuQmCC\n",
       "\" style=\"display:inline;vertical-align:middle;\" /></a>, <a class=\"ProveItLink\" href=\"../../ordering/__pv_it/theorems/6e5cad5b2984ed0d75bd47bd0c542ec447a4f3570/expr.ipynb\"><img src=\"data:image/png;base64,iVBORw0KGgoAAAANSUhEUgAAADEAAAAQBAMAAABNQoq8AAAAMFBMVEX///8AAAAAAAAAAAAAAAAA\n",
       "AAAAAAAAAAAAAAAAAAAAAAAAAAAAAAAAAAAAAAAAAAAv3aB7AAAAD3RSTlMAELvv3c2ZVESJq3Yi\n",
       "MmZ3LnoBAAAACXBIWXMAAA7EAAAOxAGVKw4bAAAA1ElEQVQY02NgQAdPjfRDjB4AGYzKDmhSCqcY\n",
       "uh4JABmsCegyJxmYeBcAGfwFmDJsBwKAjH4BqMgmF5cAuIwCkDEFKtG6EaGHSxBkWtTu5SA+TyCS\n",
       "aZdKDwDd9lVA/gDIIQfgModDvoD0s39kYN4AkkFywTtREM0WwMA/AUhfdgECBYgMkxzIpywTGPpB\n",
       "7hZC0sOboAjxTj7I3SzI/sk9BJK5wGgH4nNvQJIR4gYax/WACRI84XCZYwx8DzSArl6ZBxGQ0hCA\n",
       "hbUOg1I8cph1qkBCBwoAxe43BugJR6MAAAAASUVORK5CYII=\n",
       "\" style=\"display:inline;vertical-align:middle;\" /></a>, <a class=\"ProveItLink\" href=\"../__pv_it/theorems/1157e8bc07ff5d23e5b8809064b9e77def3bc8980/expr.ipynb\"><img src=\"data:image/png;base64,iVBORw0KGgoAAAANSUhEUgAAAC8AAAAUCAMAAAAqRJTwAAAAPFBMVEX///8AAAAAAAAAAAAAAAAA\n",
       "AAAAAAAAAAAAAAAAAAAAAAAAAAAAAAAAAAAAAAAAAAAAAAAAAAAAAAAAAAAo1xBWAAAAE3RSTlMA\n",
       "ELvv3c2ZVESJq3YiMmbn9enzVleb9QAAAAlwSFlzAAAOxAAADsQBlSsOGwAAANlJREFUKM+VkusS\n",
       "xBAMhcUlGspevP+7LjG6bK0ZfmhSn+OICPF/IMz+glR6igfZZ0QezxoanPIydImxWVnXDclO5V2X\n",
       "RLZAfOKRpj7l2Se82TJJU/tHLy8SWw7sxDjv3c2S6eWh8bHEBvLUllHzeDzL3M44E1XeN1PKL+S/\n",
       "fP6gYYM0uh9LDHX5KPqaOLIL+XZfWygm8aop+3+96y2uGkmufCxUys8IKo7yvy8SFWsV6y6jcrRr\n",
       "7w2iSz+o0iHgCKNYy2cKybsw72NLYmsY2MLjprzekxdhtfgBfooGZl93KjkAAAAASUVORK5CYII=\n",
       "\" style=\"display:inline;vertical-align:middle;\" /></a> <a class=\"ProveItLink\" href=\"../__pv_it/demonstrations/c2f3e685617c465b5531c4a703f1f912f799fe1e0/proof.ipynb\" style=\"text-decoration: none\">&nbsp;&#x22A2;&nbsp;&nbsp;</a><a class=\"ProveItLink\" href=\"../__pv_it/demonstrations/01860f227c6c5f18167735ea858d66b80d4ceee10/expr.ipynb\"><img src=\"data:image/png;base64,iVBORw0KGgoAAAANSUhEUgAAAG0AAAAmBAMAAAA8SQjKAAAAMFBMVEX///8AAAAAAAAAAAAAAAAA\n",
       "AAAAAAAAAAAAAAAAAAAAAAAAAAAAAAAAAAAAAAAAAAAv3aB7AAAAD3RSTlMAIquJdkTvuxBmmd1U\n",
       "zTKBpmoTAAAACXBIWXMAAA7EAAAOxAGVKw4bAAACE0lEQVRIx2NgIAC4DqCL9DbAmUImIrj0LUJi\n",
       "Myo7OjAw8O2A8VkTGeobsGvjvIDECRNg/wGkJsH4bRMYVuOw7hmSeRyZDFwbgDQ7zOnrGRg249B3\n",
       "GdmrHxi4DUD6M6AC6QwcX7Fr4/mBxGErYOgPQPIzxxcGzg/Y9YHNh4F+B4b5YIa8AETfHwamCwex\n",
       "6nuPHFz9Bxh0eUBa2KGmlTCcXrAAqz51ZA67A88uLnAgJ0AEmpwfqjzAqu8nModDxU7IDxyPfwgk\n",
       "Fr6P2MV3EdCHK7jWEtDHdAG7uD8BfWwK2MXPP8Cvj98Au/j7AwT0TcAu3o9FfPVuENgESRg4zOV3\n",
       "wG8fLvcA3f8fGaDLx4OSMcdtsAseQJSCY4Z/AZn2LcDvv/dk+k9+AmnhjJTjsJtHIP7YcPj/fQAi\n",
       "k5RtwJTnLUDhtmfD0hlSdubFYjZXAir/FpS2RvYrFjdz/kDlw/JrEXIcYyl5OVAzNusPLMWANbYA\n",
       "qELhMUODgBW5GLjkooOpbxpqMKk4gT3DjJSdOf429AtgRmAACu8GB9gmtgMoJTMbZiwzoxQUwOBP\n",
       "AdFuSKmd6wLW3J2HVhx9BtE5qCV6PJaYmIvM2czACgpglguo0bceS0zwTkCJPi5QTIghhwP/A2D1\n",
       "hiUGNyJx/oFqSgaOPShF5QR2rIlYFskRmuD4ZEfJRBzKK7EmfUakorLJCqSlFcQEAPQmnmwoAcZo\n",
       "AAAAAElFTkSuQmCC\n",
       "\" style=\"display:inline;vertical-align:middle;\" /></a></span>"
      ],
      "text/plain": [
       "{a in Real, b in Real, b != 0} |- (a / (-b)) = (-(a / b))"
      ]
     },
     "metadata": {},
     "output_type": "display_data"
    }
   ],
   "source": [
    "# can instead specify to factor out Neg from denominator\n",
    "a_over_neg_b.neg_extraction(neg_loc = 'denominator', assumptions=[InSet(a, Real), InSet(b, Real), NotEquals(b, zero)])"
   ]
  },
  {
   "cell_type": "code",
   "execution_count": 45,
   "metadata": {},
   "outputs": [
    {
     "data": {
      "text/html": [
       "<span style=\"font-size:20px;\"><a class=\"ProveItLink\" href=\"../../ordering/__pv_it/theorems/4aa8d696b1f407d6126de9f51a052e8d90e0848c0/expr.ipynb\"><img src=\"data:image/png;base64,iVBORw0KGgoAAAANSUhEUgAAADMAAAAQBAMAAABJt1qBAAAAMFBMVEX///8AAAAAAAAAAAAAAAAA\n",
       "AAAAAAAAAAAAAAAAAAAAAAAAAAAAAAAAAAAAAAAAAAAv3aB7AAAAD3RSTlMAIquJdkTvuxBmmd1U\n",
       "zTKBpmoTAAAACXBIWXMAAA7EAAAOxAGVKw4bAAAAzElEQVQY02NgwABz0+tvp09gwAoKhBiCpjdg\n",
       "lxJmYOdTwCXFJXABRch99+4LcKkCZJlYD4Qupg6QgYzKjg4gAcYbSAY+PysAZIQJsP8ACfAKwKXE\n",
       "bv8GmcCRycC1ASyF5IyZvSCa6wMDtwGI8Ww3EBRApNg7QV5mK2DoDwAJtCPp4ltQAaT7HRjmgwW4\n",
       "kf21ThwkdYBBlwfkAhYHJKl2FqCJ7A48u7jAInfgUlIMnBNKgS5UsRPyA4s0lTbAQr6Qofz+AeTg\n",
       "CK7ejRxyAISENKeL/c93AAAAAElFTkSuQmCC\n",
       "\" style=\"display:inline;vertical-align:middle;\" /></a>, <a class=\"ProveItLink\" href=\"../../exponentiation/__pv_it/theorems/d550e8309ef79ca46e4c9fb5617a392ea678789b0/expr.ipynb\"><img src=\"data:image/png;base64,iVBORw0KGgoAAAANSUhEUgAAADEAAAAQBAMAAABNQoq8AAAAMFBMVEX///8AAAAAAAAAAAAAAAAA\n",
       "AAAAAAAAAAAAAAAAAAAAAAAAAAAAAAAAAAAAAAAAAAAv3aB7AAAAD3RSTlMAiXZmMiLdVJm77xBE\n",
       "zatgdeJyAAAACXBIWXMAAA7EAAAOxAGVKw4bAAAAvUlEQVQY02NgQAe2K+dfW2nAgA1MiGM4Z7kB\n",
       "q0wgAyfLAxwyHAEXkEU009IuwGUmIEmc1Ubo4dsNNk1I2QFIst5GMs2zNgDICCvgAGnlDYDLRF37\n",
       "BtafyMClAJJBcoHxXhDN8RvC90oDggkQGc7NIJ9yQV2xE0kPS8NsIL1fAcJnQ/ZPSySQ5gdqPACk\n",
       "mRSQZHYyAUWBDmMEuZrhOlwmgoHZYA6QIWgM8eK+ORtgYT2VYeb9AqRAODgtDTm0ALktNaaWdOV1\n",
       "AAAAAElFTkSuQmCC\n",
       "\" style=\"display:inline;vertical-align:middle;\" /></a>, <a class=\"ProveItLink\" href=\"../../ordering/__pv_it/theorems/6e5cad5b2984ed0d75bd47bd0c542ec447a4f3570/expr.ipynb\"><img src=\"data:image/png;base64,iVBORw0KGgoAAAANSUhEUgAAADEAAAAQBAMAAABNQoq8AAAAMFBMVEX///8AAAAAAAAAAAAAAAAA\n",
       "AAAAAAAAAAAAAAAAAAAAAAAAAAAAAAAAAAAAAAAAAAAv3aB7AAAAD3RSTlMAELvv3c2ZVESJq3Yi\n",
       "MmZ3LnoBAAAACXBIWXMAAA7EAAAOxAGVKw4bAAAA1ElEQVQY02NgQAdPjfRDjB4AGYzKDmhSCqcY\n",
       "uh4JABmsCegyJxmYeBcAGfwFmDJsBwKAjH4BqMgmF5cAuIwCkDEFKtG6EaGHSxBkWtTu5SA+TyCS\n",
       "aZdKDwDd9lVA/gDIIQfgModDvoD0s39kYN4AkkFywTtREM0WwMA/AUhfdgECBYgMkxzIpywTGPpB\n",
       "7hZC0sOboAjxTj7I3SzI/sk9BJK5wGgH4nNvQJIR4gYax/WACRI84XCZYwx8DzSArl6ZBxGQ0hCA\n",
       "hbUOg1I8cph1qkBCBwoAxe43BugJR6MAAAAASUVORK5CYII=\n",
       "\" style=\"display:inline;vertical-align:middle;\" /></a>, <a class=\"ProveItLink\" href=\"../__pv_it/theorems/1157e8bc07ff5d23e5b8809064b9e77def3bc8980/expr.ipynb\"><img src=\"data:image/png;base64,iVBORw0KGgoAAAANSUhEUgAAAC8AAAAUCAMAAAAqRJTwAAAAPFBMVEX///8AAAAAAAAAAAAAAAAA\n",
       "AAAAAAAAAAAAAAAAAAAAAAAAAAAAAAAAAAAAAAAAAAAAAAAAAAAAAAAAAAAo1xBWAAAAE3RSTlMA\n",
       "ELvv3c2ZVESJq3YiMmbn9enzVleb9QAAAAlwSFlzAAAOxAAADsQBlSsOGwAAANlJREFUKM+VkusS\n",
       "xBAMhcUlGspevP+7LjG6bK0ZfmhSn+OICPF/IMz+glR6igfZZ0QezxoanPIydImxWVnXDclO5V2X\n",
       "RLZAfOKRpj7l2Se82TJJU/tHLy8SWw7sxDjv3c2S6eWh8bHEBvLUllHzeDzL3M44E1XeN1PKL+S/\n",
       "fP6gYYM0uh9LDHX5KPqaOLIL+XZfWygm8aop+3+96y2uGkmufCxUys8IKo7yvy8SFWsV6y6jcrRr\n",
       "7w2iSz+o0iHgCKNYy2cKybsw72NLYmsY2MLjprzekxdhtfgBfooGZl93KjkAAAAASUVORK5CYII=\n",
       "\" style=\"display:inline;vertical-align:middle;\" /></a> <a class=\"ProveItLink\" href=\"../__pv_it/demonstrations/ba025022e1b4b3a7d2e116fcdf30f78251d0be680/proof.ipynb\" style=\"text-decoration: none\">&nbsp;&#x22A2;&nbsp;&nbsp;</a><a class=\"ProveItLink\" href=\"../__pv_it/demonstrations/6d4b03462fd5bf287cc3ddcefd57fcb37f8fa8f70/expr.ipynb\"><img src=\"data:image/png;base64,iVBORw0KGgoAAAANSUhEUgAAAK8AAAAtBAMAAAAqxCaVAAAAMFBMVEX///8AAAAAAAAAAAAAAAAA\n",
       "AAAAAAAAAAAAAAAAAAAAAAAAAAAAAAAAAAAAAAAAAAAv3aB7AAAAD3RSTlMAInZUiRDNmWbv3US7\n",
       "qzJazP2FAAAACXBIWXMAAA7EAAAOxAGVKw4bAAACmklEQVRIx7VXP4jTYBR/uTZNYmPbSfBAmhsE\n",
       "HdQM4uohgiAonQTxJB08FKcbREQ4uMk/g3gogihI5U4OBKG4OVldnITjEHFw6KpLK7XipOZLYvt9\n",
       "33uXF0N8Q2he3u+Xl19+3/dSAIAGKKGd5o8ZXz1/WRTxYf1GK8Xwmm09s1gMsYUavFkMsYMzrUKI\n",
       "j6BMhRXZ8tOunokbuyKljA9zHkB5c5o5tq9PQJcRRq6vPYt+XpKKXjXcMYA9fZ2zvtXDvHYbYZT6\n",
       "O9HvNckgD8HqAJRWJ5l1cDxM/KWFMEq9Gyn1OLx4+bmIvjWEHfMAtaEA/BBajkkRL8hyxxil3nyQ\n",
       "EE/s0IOgC1CNOt6IE0SU5NslGLV+WZMi8OCuAHakBBFRhxpGrW+K/eatVOTDx1ID7Emf9dB4XUQ8\n",
       "kH2eYNR6V9z61LTI9UobVqjUpKPwFZex3T7LJwlGrbeFmF+lN7x1es/B8FGnTR6/tRdL8VPZamKM\n",
       "Wm+MhGKopdn0ZVf7xi9n8SbtJT17LR1kD3niq+LwRksavXTQzjZPfEgcFrSky8wmZ5MnPir0NTSz\n",
       "zjGg+jxPPPBz7LP1DKMryDrerkebyYt4WWXopu7l6DjLY2aRC8VrsX7+bojbES/BbzbSO0blw4T4\n",
       "3zUe/C+NmyvFOAdbKUM3zTw+djLoN+jmIK70Mixp9M2z8Ij/JlslkhruJK64yBLb5OhWce9xwYj/\n",
       "PCVLRtsPmSiqY17Ad0ROxVXxkCl3eOLbRE7FlfEsqGwdYC0YEF5ScQ7mCBZNdlYS/Wi4/aQB77Fa\n",
       "POFw98nx+p0lvsHgZohHWocqbzjik1/B7W5QdrR4w5lPU3HmGoH5BWcz7Hi7Wmk4l2L4RNpfD6Of\n",
       "hjtHQc6fyPe/FOH+APeb24DPp8zsAAAAAElFTkSuQmCC\n",
       "\" style=\"display:inline;vertical-align:middle;\" /></a></span>"
      ],
      "text/plain": [
       "{a in Real, c in Real, b in Real, b != 0} |- (((-a) * c) / b) = (-((a * c) / b))"
      ]
     },
     "metadata": {},
     "output_type": "display_data"
    }
   ],
   "source": [
    "neg_mult_over_b.neg_extraction(\n",
    "    assumptions=[InSet(a, Real), InSet(b, Real), InSet(c, Real), NotEquals(b, zero)])"
   ]
  },
  {
   "cell_type": "code",
   "execution_count": 46,
   "metadata": {},
   "outputs": [
    {
     "data": {
      "text/html": [
       "<span style=\"font-size:20px;\"><a class=\"ProveItLink\" href=\"../../ordering/__pv_it/theorems/4aa8d696b1f407d6126de9f51a052e8d90e0848c0/expr.ipynb\"><img src=\"data:image/png;base64,iVBORw0KGgoAAAANSUhEUgAAADMAAAAQBAMAAABJt1qBAAAAMFBMVEX///8AAAAAAAAAAAAAAAAA\n",
       "AAAAAAAAAAAAAAAAAAAAAAAAAAAAAAAAAAAAAAAAAAAv3aB7AAAAD3RSTlMAIquJdkTvuxBmmd1U\n",
       "zTKBpmoTAAAACXBIWXMAAA7EAAAOxAGVKw4bAAAAzElEQVQY02NgwABz0+tvp09gwAoKhBiCpjdg\n",
       "lxJmYOdTwCXFJXABRch99+4LcKkCZJlYD4Qupg6QgYzKjg4gAcYbSAY+PysAZIQJsP8ACfAKwKXE\n",
       "bv8GmcCRycC1ASyF5IyZvSCa6wMDtwGI8Ww3EBRApNg7QV5mK2DoDwAJtCPp4ltQAaT7HRjmgwW4\n",
       "kf21ThwkdYBBlwfkAhYHJKl2FqCJ7A48u7jAInfgUlIMnBNKgS5UsRPyA4s0lTbAQr6Qofz+AeTg\n",
       "CK7ejRxyAISENKeL/c93AAAAAElFTkSuQmCC\n",
       "\" style=\"display:inline;vertical-align:middle;\" /></a>, <a class=\"ProveItLink\" href=\"../../exponentiation/__pv_it/theorems/d550e8309ef79ca46e4c9fb5617a392ea678789b0/expr.ipynb\"><img src=\"data:image/png;base64,iVBORw0KGgoAAAANSUhEUgAAADEAAAAQBAMAAABNQoq8AAAAMFBMVEX///8AAAAAAAAAAAAAAAAA\n",
       "AAAAAAAAAAAAAAAAAAAAAAAAAAAAAAAAAAAAAAAAAAAv3aB7AAAAD3RSTlMAiXZmMiLdVJm77xBE\n",
       "zatgdeJyAAAACXBIWXMAAA7EAAAOxAGVKw4bAAAAvUlEQVQY02NgQAe2K+dfW2nAgA1MiGM4Z7kB\n",
       "q0wgAyfLAxwyHAEXkEU009IuwGUmIEmc1Ubo4dsNNk1I2QFIst5GMs2zNgDICCvgAGnlDYDLRF37\n",
       "BtafyMClAJJBcoHxXhDN8RvC90oDggkQGc7NIJ9yQV2xE0kPS8NsIL1fAcJnQ/ZPSySQ5gdqPACk\n",
       "mRSQZHYyAUWBDmMEuZrhOlwmgoHZYA6QIWgM8eK+ORtgYT2VYeb9AqRAODgtDTm0ALktNaaWdOV1\n",
       "AAAAAElFTkSuQmCC\n",
       "\" style=\"display:inline;vertical-align:middle;\" /></a>, <a class=\"ProveItLink\" href=\"../../ordering/__pv_it/theorems/6e5cad5b2984ed0d75bd47bd0c542ec447a4f3570/expr.ipynb\"><img src=\"data:image/png;base64,iVBORw0KGgoAAAANSUhEUgAAADEAAAAQBAMAAABNQoq8AAAAMFBMVEX///8AAAAAAAAAAAAAAAAA\n",
       "AAAAAAAAAAAAAAAAAAAAAAAAAAAAAAAAAAAAAAAAAAAv3aB7AAAAD3RSTlMAELvv3c2ZVESJq3Yi\n",
       "MmZ3LnoBAAAACXBIWXMAAA7EAAAOxAGVKw4bAAAA1ElEQVQY02NgQAdPjfRDjB4AGYzKDmhSCqcY\n",
       "uh4JABmsCegyJxmYeBcAGfwFmDJsBwKAjH4BqMgmF5cAuIwCkDEFKtG6EaGHSxBkWtTu5SA+TyCS\n",
       "aZdKDwDd9lVA/gDIIQfgModDvoD0s39kYN4AkkFywTtREM0WwMA/AUhfdgECBYgMkxzIpywTGPpB\n",
       "7hZC0sOboAjxTj7I3SzI/sk9BJK5wGgH4nNvQJIR4gYax/WACRI84XCZYwx8DzSArl6ZBxGQ0hCA\n",
       "hbUOg1I8cph1qkBCBwoAxe43BugJR6MAAAAASUVORK5CYII=\n",
       "\" style=\"display:inline;vertical-align:middle;\" /></a>, <a class=\"ProveItLink\" href=\"../__pv_it/theorems/1157e8bc07ff5d23e5b8809064b9e77def3bc8980/expr.ipynb\"><img src=\"data:image/png;base64,iVBORw0KGgoAAAANSUhEUgAAAC8AAAAUCAMAAAAqRJTwAAAAPFBMVEX///8AAAAAAAAAAAAAAAAA\n",
       "AAAAAAAAAAAAAAAAAAAAAAAAAAAAAAAAAAAAAAAAAAAAAAAAAAAAAAAAAAAo1xBWAAAAE3RSTlMA\n",
       "ELvv3c2ZVESJq3YiMmbn9enzVleb9QAAAAlwSFlzAAAOxAAADsQBlSsOGwAAANlJREFUKM+VkusS\n",
       "xBAMhcUlGspevP+7LjG6bK0ZfmhSn+OICPF/IMz+glR6igfZZ0QezxoanPIydImxWVnXDclO5V2X\n",
       "RLZAfOKRpj7l2Se82TJJU/tHLy8SWw7sxDjv3c2S6eWh8bHEBvLUllHzeDzL3M44E1XeN1PKL+S/\n",
       "fP6gYYM0uh9LDHX5KPqaOLIL+XZfWygm8aop+3+96y2uGkmufCxUys8IKo7yvy8SFWsV6y6jcrRr\n",
       "7w2iSz+o0iHgCKNYy2cKybsw72NLYmsY2MLjprzekxdhtfgBfooGZl93KjkAAAAASUVORK5CYII=\n",
       "\" style=\"display:inline;vertical-align:middle;\" /></a> <a class=\"ProveItLink\" href=\"../__pv_it/demonstrations/f458773789f4f6d94466e1610699a0b97c28fcce0/proof.ipynb\" style=\"text-decoration: none\">&nbsp;&#x22A2;&nbsp;&nbsp;</a><a class=\"ProveItLink\" href=\"../__pv_it/demonstrations/8ab52c3a1b3fd57e310c5b121141be69851819380/expr.ipynb\"><img src=\"data:image/png;base64,iVBORw0KGgoAAAANSUhEUgAAAK8AAAAtBAMAAAAqxCaVAAAAMFBMVEX///8AAAAAAAAAAAAAAAAA\n",
       "AAAAAAAAAAAAAAAAAAAAAAAAAAAAAAAAAAAAAAAAAAAv3aB7AAAAD3RSTlMAIquJdkTvuxBmmd1U\n",
       "zTKBpmoTAAAACXBIWXMAAA7EAAAOxAGVKw4bAAACrklEQVRIx7WXPYjUQBTH37q3STaX/cDC5pA9\n",
       "8EAshEWtPJCchWijW4itFgqKIlGsrA5Br5IcVwgKcotWIsLqNbJeEbAWF2xObVLZWOyKzQrrx2Sy\n",
       "xpl57zIxxil2M2/f75+XlzfzZgGU0UyZ/cuYCaTp6cKEXyv3WS1I1xoohq2ChG01wgcFCRvIsFyM\n",
       "8BvVUCOTbAdpInfjYEp7ltzE9lh0OHQihPI8hT4SriWeM/WX/PJM0xwn9vcCMRfYHlQHhK5klHjO\n",
       "wBqvg0tg95IfNgViAwwXnHOE8Cch8TLPGTCjTNkjmG2zb59HcYF5fnwVjdDmcdRHhPA7Md1T3voe\n",
       "TeLYrYvRa/fA77Dv2e5UOKkHL/qsEBE7Y5DcOA/9hInfge/COlCp8PkrcXpYmEcouK0rDECL7TF+\n",
       "APudZK+58YdosELrQNXDwkOxtiU+ZliS2a1N1+nbidsBIXkelEOw21h4rziR+JhhZcMSaC0c2Xky\n",
       "cfssIAfvH2eP3cHC36TdReI5w2p7gtIXKoY5rFv/ol/BfVT6XcXwhFgeI73wM2S5Jk9LxLvbMdAL\n",
       "n0KWFXlqEr3JmNcLv1VTCiVXmi4RUKOtFx4GObbWRoZ25WdtaU/5/vEiXlYZomm4OSLO8phZ0oXG\n",
       "2WjN/N4DtxPuwk/tSI8YuY+mwn+f4+H/ynFrtZjKwaWUIZpWnjo2MuRv2MkhXPMyLGl0zlm5rD+G\n",
       "UY1b4RaxxwetcHVMWWXuOnaY6E+kpMtk+ybDR2WsT+BNwiZzFdxkyj298D3CJnNl3AtqC0e1JegT\n",
       "tSRzBtbwtyxtryTiUbhjZAGe1+biqo67QrbXr1rhhxpuhnikDajoC4445kvcriZVjra+4KznqZy1\n",
       "STA/4E6GHW/3chpnUgr7yPJHh4QwjbtNIbcO5/svirhfdqDoy0gN+jgAAAAASUVORK5CYII=\n",
       "\" style=\"display:inline;vertical-align:middle;\" /></a></span>"
      ],
      "text/plain": [
       "{a in Real, c in Real, b in Real, b != 0} |- ((a * (-c)) / b) = (-((a * c) / b))"
      ]
     },
     "metadata": {},
     "output_type": "display_data"
    }
   ],
   "source": [
    "neg_mult_02_over_b.neg_extraction(\n",
    "    assumptions=[InSet(a, Real), InSet(b, Real), InSet(c, Real), NotEquals(b, zero)])"
   ]
  },
  {
   "cell_type": "code",
   "execution_count": 47,
   "metadata": {},
   "outputs": [
    {
     "data": {
      "text/html": [
       "<a class=\"ProveItLink\" href=\"../__pv_it/demonstrations/43115e40c53ea659e5b051f1037dbed1048647310/expr.ipynb\"><img src=\"data:image/png;base64,iVBORw0KGgoAAAANSUhEUgAAAEIAAAAqBAMAAAD13ZDsAAAAMFBMVEX///8AAAAAAAAAAAAAAAAA\n",
       "AAAAAAAAAAAAAAAAAAAAAAAAAAAAAAAAAAAAAAAAAAAv3aB7AAAAD3RSTlMAIquJdkTvuxBmmd1U\n",
       "zTKBpmoTAAAACXBIWXMAAA7EAAAOxAGVKw4bAAABT0lEQVQ4y2NgQAVCJiIMeAFrIkN9A14VbRMY\n",
       "VuM3Yz0Dw2b8KtIZOL7iVcDxhYHzA34VfxiYLhzEq6SE4fSCBXhVNDk/VHnAMArwgf+EAP2cIoCH\n",
       "BwYsB1C4IZgqDiMSUNkGoIYJGOnqAoLNC0o9N9BVcCHp4QdZOAtdBRsSOx6Um9jQs9RZJLY12Cp0\n",
       "hyxGYl9y0WFgYFZACJh4AlPtTSRH/23oF2DgRDhd+gBXAQPDHoQKnh8MbA4MPAlwgc0gPkMqUO/t\n",
       "3SDwgOsCA78BA98HsHEgb/4Aq0tFmMFtwBB/gIEVbMYukK8KwMJ7UIJjfQMDzwYYv98BmhERKh5w\n",
       "ZDIwcBbA+UB/BzAwGCFUME1gBwY7lwE8uAsYmIG+fY3kW+WVINcEwAWMZ3qABNBzsjR6vHCilwYr\n",
       "MdJHISqXsQBDRTsqlx0zGTI6oHAd0aQB5PpnT9dX6GwAAAAASUVORK5CYII=\n",
       "\" style=\"display:inline;vertical-align:middle;\" /></a>"
      ],
      "text/plain": [
       "a / ((-b) * c)"
      ]
     },
     "metadata": {},
     "output_type": "display_data"
    }
   ],
   "source": [
    "a_over_neg_mult"
   ]
  },
  {
   "cell_type": "code",
   "execution_count": 48,
   "metadata": {},
   "outputs": [
    {
     "data": {
      "text/html": [
       "<span style=\"font-size:20px;\"><a class=\"ProveItLink\" href=\"../../ordering/__pv_it/theorems/6e5cad5b2984ed0d75bd47bd0c542ec447a4f3570/expr.ipynb\"><img src=\"data:image/png;base64,iVBORw0KGgoAAAANSUhEUgAAADEAAAAQBAMAAABNQoq8AAAAMFBMVEX///8AAAAAAAAAAAAAAAAA\n",
       "AAAAAAAAAAAAAAAAAAAAAAAAAAAAAAAAAAAAAAAAAAAv3aB7AAAAD3RSTlMAELvv3c2ZVESJq3Yi\n",
       "MmZ3LnoBAAAACXBIWXMAAA7EAAAOxAGVKw4bAAAA1ElEQVQY02NgQAdPjfRDjB4AGYzKDmhSCqcY\n",
       "uh4JABmsCegyJxmYeBcAGfwFmDJsBwKAjH4BqMgmF5cAuIwCkDEFKtG6EaGHSxBkWtTu5SA+TyCS\n",
       "aZdKDwDd9lVA/gDIIQfgModDvoD0s39kYN4AkkFywTtREM0WwMA/AUhfdgECBYgMkxzIpywTGPpB\n",
       "7hZC0sOboAjxTj7I3SzI/sk9BJK5wGgH4nNvQJIR4gYax/WACRI84XCZYwx8DzSArl6ZBxGQ0hCA\n",
       "hbUOg1I8cph1qkBCBwoAxe43BugJR6MAAAAASUVORK5CYII=\n",
       "\" style=\"display:inline;vertical-align:middle;\" /></a>, <a class=\"ProveItLink\" href=\"../../exponentiation/__pv_it/theorems/d550e8309ef79ca46e4c9fb5617a392ea678789b0/expr.ipynb\"><img src=\"data:image/png;base64,iVBORw0KGgoAAAANSUhEUgAAADEAAAAQBAMAAABNQoq8AAAAMFBMVEX///8AAAAAAAAAAAAAAAAA\n",
       "AAAAAAAAAAAAAAAAAAAAAAAAAAAAAAAAAAAAAAAAAAAv3aB7AAAAD3RSTlMAiXZmMiLdVJm77xBE\n",
       "zatgdeJyAAAACXBIWXMAAA7EAAAOxAGVKw4bAAAAvUlEQVQY02NgQAe2K+dfW2nAgA1MiGM4Z7kB\n",
       "q0wgAyfLAxwyHAEXkEU009IuwGUmIEmc1Ubo4dsNNk1I2QFIst5GMs2zNgDICCvgAGnlDYDLRF37\n",
       "BtafyMClAJJBcoHxXhDN8RvC90oDggkQGc7NIJ9yQV2xE0kPS8NsIL1fAcJnQ/ZPSySQ5gdqPACk\n",
       "mRSQZHYyAUWBDmMEuZrhOlwmgoHZYA6QIWgM8eK+ORtgYT2VYeb9AqRAODgtDTm0ALktNaaWdOV1\n",
       "AAAAAElFTkSuQmCC\n",
       "\" style=\"display:inline;vertical-align:middle;\" /></a>, <a class=\"ProveItLink\" href=\"../../ordering/__pv_it/theorems/4aa8d696b1f407d6126de9f51a052e8d90e0848c0/expr.ipynb\"><img src=\"data:image/png;base64,iVBORw0KGgoAAAANSUhEUgAAADMAAAAQBAMAAABJt1qBAAAAMFBMVEX///8AAAAAAAAAAAAAAAAA\n",
       "AAAAAAAAAAAAAAAAAAAAAAAAAAAAAAAAAAAAAAAAAAAv3aB7AAAAD3RSTlMAIquJdkTvuxBmmd1U\n",
       "zTKBpmoTAAAACXBIWXMAAA7EAAAOxAGVKw4bAAAAzElEQVQY02NgwABz0+tvp09gwAoKhBiCpjdg\n",
       "lxJmYOdTwCXFJXABRch99+4LcKkCZJlYD4Qupg6QgYzKjg4gAcYbSAY+PysAZIQJsP8ACfAKwKXE\n",
       "bv8GmcCRycC1ASyF5IyZvSCa6wMDtwGI8Ww3EBRApNg7QV5mK2DoDwAJtCPp4ltQAaT7HRjmgwW4\n",
       "kf21ThwkdYBBlwfkAhYHJKl2FqCJ7A48u7jAInfgUlIMnBNKgS5UsRPyA4s0lTbAQr6Qofz+AeTg\n",
       "CK7ejRxyAISENKeL/c93AAAAAElFTkSuQmCC\n",
       "\" style=\"display:inline;vertical-align:middle;\" /></a>, <a class=\"ProveItLink\" href=\"../__pv_it/theorems/1157e8bc07ff5d23e5b8809064b9e77def3bc8980/expr.ipynb\"><img src=\"data:image/png;base64,iVBORw0KGgoAAAANSUhEUgAAAC8AAAAUCAMAAAAqRJTwAAAAPFBMVEX///8AAAAAAAAAAAAAAAAA\n",
       "AAAAAAAAAAAAAAAAAAAAAAAAAAAAAAAAAAAAAAAAAAAAAAAAAAAAAAAAAAAo1xBWAAAAE3RSTlMA\n",
       "ELvv3c2ZVESJq3YiMmbn9enzVleb9QAAAAlwSFlzAAAOxAAADsQBlSsOGwAAANlJREFUKM+VkusS\n",
       "xBAMhcUlGspevP+7LjG6bK0ZfmhSn+OICPF/IMz+glR6igfZZ0QezxoanPIydImxWVnXDclO5V2X\n",
       "RLZAfOKRpj7l2Se82TJJU/tHLy8SWw7sxDjv3c2S6eWh8bHEBvLUllHzeDzL3M44E1XeN1PKL+S/\n",
       "fP6gYYM0uh9LDHX5KPqaOLIL+XZfWygm8aop+3+96y2uGkmufCxUys8IKo7yvy8SFWsV6y6jcrRr\n",
       "7w2iSz+o0iHgCKNYy2cKybsw72NLYmsY2MLjprzekxdhtfgBfooGZl93KjkAAAAASUVORK5CYII=\n",
       "\" style=\"display:inline;vertical-align:middle;\" /></a>, <a class=\"ProveItLink\" href=\"../__pv_it/demonstrations/1034b099268ebc68ab71d757a423d98a8a315f520/expr.ipynb\"><img src=\"data:image/png;base64,iVBORw0KGgoAAAANSUhEUgAAAC8AAAAUCAMAAAAqRJTwAAAAPFBMVEX///8AAAAAAAAAAAAAAAAA\n",
       "AAAAAAAAAAAAAAAAAAAAAAAAAAAAAAAAAAAAAAAAAAAAAAAAAAAAAAAAAAAo1xBWAAAAE3RSTlMA\n",
       "iXZmMiLdVJm77xBEq83n9enzzp4SPQAAAAlwSFlzAAAOxAAADsQBlSsOGwAAAMxJREFUKM+VkusS\n",
       "hCAIhVFMUcu9+P7vuorjrrXGjPywmA4fBxLgPijCShg/Zkpp2kS9N0OSHEC0UoE5hgQt9/ASfoR5\n",
       "Lnb5fqJ9xEMmbpldm0VrNBd9GvGx67Gcmy1V1K2R5Xg869l7bFk1vS6nre9BC/ifvjxoNsROpzQ2\n",
       "/V75YbakdNl08+/KvDGfnbD/17tN8d2RZyhWKzxz6XXCXy1iYFaCvhk17tPRn8G6wxhMu0mIOor4\n",
       "oiWlDzP/tU4t3eMZXgpcxNs1PBjp4wcaEgV/DsHsSgAAAABJRU5ErkJggg==\n",
       "\" style=\"display:inline;vertical-align:middle;\" /></a> <a class=\"ProveItLink\" href=\"../__pv_it/demonstrations/368992254548343939ecd40edb5b706105fb41530/proof.ipynb\" style=\"text-decoration: none\">&nbsp;&#x22A2;&nbsp;&nbsp;</a><a class=\"ProveItLink\" href=\"../__pv_it/demonstrations/e4b9ea753c159b129748d4e825935c0b5fa10eae0/expr.ipynb\"><img src=\"data:image/png;base64,iVBORw0KGgoAAAANSUhEUgAAAKsAAAArBAMAAAD1dmXyAAAAMFBMVEX///8AAAAAAAAAAAAAAAAA\n",
       "AAAAAAAAAAAAAAAAAAAAAAAAAAAAAAAAAAAAAAAAAAAv3aB7AAAAD3RSTlMAIquJdkTvuxBmmd1U\n",
       "zTKBpmoTAAAACXBIWXMAAA7EAAAOxAGVKw4bAAACjElEQVRIx7VWMWgUURCdyyW7e+ft7SJiEySC\n",
       "QpoUQdPZRJSglVfYXyxEhSCrSIo0LgG1kiwWgoJwaBVCSDSNaIoTSxEXbRSbtbFJcREUIiSY/Xsx\n",
       "+2f+Z+du2fzq9v/33s3Mnz8zADlWtZ1x+NDXbB6eOMLLPs+i1V+rhKErcNfnVCthJu2RyrgfwBJr\n",
       "7E8/k2aqIVoBWGNlv2TTrOvK+TWw/nCqtS2GpoTe+g2VTU720DhDG3Hp+TYMhO8Y2Y4SWkIzlf+9\n",
       "Ax9aLUZ2VN3CtMo0PZ8/9+NkxMj+VbcwrbSd44nVf7GQNzlk+TuF5RyyAyELuZRD1jjOQj5F/cs6\n",
       "4yyk084hG7CQhaA3qaW3Yr3qviHeFGeyf2t78DCO0z9uUU6zIZ7r98T+SKEn2ee0DsbaVv+x7RxM\n",
       "bEeCHpMFl0eXyx7elCRZBrFXl7lXxgeuI271fVqOZ1fjf2GctD1UwQVFebxxobek0mELS74yswcu\n",
       "0rbG+DMCJlnniHg8ZQoj7pCOJjFui1jJqS7alJE9f1i49jd9ff/4SKwHmwnunOIwnXFE/3ghbXw+\n",
       "PwZQlgrqxEW1dD5GXwkFw8vitr5J/u34C648Yg23q56auA2gFAw3RLjX0bxiTEItveo18U1XOQRK\n",
       "wfAp8ftqWo+qoahp9c3ECpEkW9rg3pTTLaFg+MyerDQGNdswNP2/KRueVvYZUAqCDyberKMcXPGh\n",
       "tso8fzugFAQ/6nYHnRQTWTfifPfkStTQZO5LSpHhVtfOU9IIEJjxU6zut9b4Xsu63nzMJxQZbnZ9\n",
       "2ZDMOLEowpUaePrJBV0UShGhyPB7e0Gn9gxDEatCS9BiIbJwi3joFSP7AH+abjGyJZydZ4vQ3AVR\n",
       "KOuqvDaeXQAAAABJRU5ErkJggg==\n",
       "\" style=\"display:inline;vertical-align:middle;\" /></a></span>"
      ],
      "text/plain": [
       "{b in Real, c in Real, a in Real, b != 0, c != 0} |- (a / ((-b) * c)) = (-(a / (b * c)))"
      ]
     },
     "metadata": {},
     "output_type": "display_data"
    }
   ],
   "source": [
    "a_over_neg_mult.neg_extraction(\n",
    "    assumptions=[InSet(a, Real), InSet(b, Real), InSet(c, Real),\n",
    "                 NotEquals(b, zero), NotEquals(c, zero)])"
   ]
  },
  {
   "cell_type": "code",
   "execution_count": 49,
   "metadata": {},
   "outputs": [
    {
     "data": {
      "text/html": [
       "<span style=\"font-size:20px;\"><a class=\"ProveItLink\" href=\"../../ordering/__pv_it/theorems/4aa8d696b1f407d6126de9f51a052e8d90e0848c0/expr.ipynb\"><img src=\"data:image/png;base64,iVBORw0KGgoAAAANSUhEUgAAADMAAAAQBAMAAABJt1qBAAAAMFBMVEX///8AAAAAAAAAAAAAAAAA\n",
       "AAAAAAAAAAAAAAAAAAAAAAAAAAAAAAAAAAAAAAAAAAAv3aB7AAAAD3RSTlMAIquJdkTvuxBmmd1U\n",
       "zTKBpmoTAAAACXBIWXMAAA7EAAAOxAGVKw4bAAAAzElEQVQY02NgwABz0+tvp09gwAoKhBiCpjdg\n",
       "lxJmYOdTwCXFJXABRch99+4LcKkCZJlYD4Qupg6QgYzKjg4gAcYbSAY+PysAZIQJsP8ACfAKwKXE\n",
       "bv8GmcCRycC1ASyF5IyZvSCa6wMDtwGI8Ww3EBRApNg7QV5mK2DoDwAJtCPp4ltQAaT7HRjmgwW4\n",
       "kf21ThwkdYBBlwfkAhYHJKl2FqCJ7A48u7jAInfgUlIMnBNKgS5UsRPyA4s0lTbAQr6Qofz+AeTg\n",
       "CK7ejRxyAISENKeL/c93AAAAAElFTkSuQmCC\n",
       "\" style=\"display:inline;vertical-align:middle;\" /></a>, <a class=\"ProveItLink\" href=\"../../ordering/__pv_it/theorems/6e5cad5b2984ed0d75bd47bd0c542ec447a4f3570/expr.ipynb\"><img src=\"data:image/png;base64,iVBORw0KGgoAAAANSUhEUgAAADEAAAAQBAMAAABNQoq8AAAAMFBMVEX///8AAAAAAAAAAAAAAAAA\n",
       "AAAAAAAAAAAAAAAAAAAAAAAAAAAAAAAAAAAAAAAAAAAv3aB7AAAAD3RSTlMAELvv3c2ZVESJq3Yi\n",
       "MmZ3LnoBAAAACXBIWXMAAA7EAAAOxAGVKw4bAAAA1ElEQVQY02NgQAdPjfRDjB4AGYzKDmhSCqcY\n",
       "uh4JABmsCegyJxmYeBcAGfwFmDJsBwKAjH4BqMgmF5cAuIwCkDEFKtG6EaGHSxBkWtTu5SA+TyCS\n",
       "aZdKDwDd9lVA/gDIIQfgModDvoD0s39kYN4AkkFywTtREM0WwMA/AUhfdgECBYgMkxzIpywTGPpB\n",
       "7hZC0sOboAjxTj7I3SzI/sk9BJK5wGgH4nNvQJIR4gYax/WACRI84XCZYwx8DzSArl6ZBxGQ0hCA\n",
       "hbUOg1I8cph1qkBCBwoAxe43BugJR6MAAAAASUVORK5CYII=\n",
       "\" style=\"display:inline;vertical-align:middle;\" /></a>, <a class=\"ProveItLink\" href=\"../__pv_it/theorems/1157e8bc07ff5d23e5b8809064b9e77def3bc8980/expr.ipynb\"><img src=\"data:image/png;base64,iVBORw0KGgoAAAANSUhEUgAAAC8AAAAUCAMAAAAqRJTwAAAAPFBMVEX///8AAAAAAAAAAAAAAAAA\n",
       "AAAAAAAAAAAAAAAAAAAAAAAAAAAAAAAAAAAAAAAAAAAAAAAAAAAAAAAAAAAo1xBWAAAAE3RSTlMA\n",
       "ELvv3c2ZVESJq3YiMmbn9enzVleb9QAAAAlwSFlzAAAOxAAADsQBlSsOGwAAANlJREFUKM+VkusS\n",
       "xBAMhcUlGspevP+7LjG6bK0ZfmhSn+OICPF/IMz+glR6igfZZ0QezxoanPIydImxWVnXDclO5V2X\n",
       "RLZAfOKRpj7l2Se82TJJU/tHLy8SWw7sxDjv3c2S6eWh8bHEBvLUllHzeDzL3M44E1XeN1PKL+S/\n",
       "fP6gYYM0uh9LDHX5KPqaOLIL+XZfWygm8aop+3+96y2uGkmufCxUys8IKo7yvy8SFWsV6y6jcrRr\n",
       "7w2iSz+o0iHgCKNYy2cKybsw72NLYmsY2MLjprzekxdhtfgBfooGZl93KjkAAAAASUVORK5CYII=\n",
       "\" style=\"display:inline;vertical-align:middle;\" /></a> <a class=\"ProveItLink\" href=\"../__pv_it/demonstrations/dca1824549258afd6c1e6efce67bf654601e5a250/proof.ipynb\" style=\"text-decoration: none\">&nbsp;&#x22A2;&nbsp;&nbsp;</a><a class=\"ProveItLink\" href=\"../__pv_it/demonstrations/65c78eed08ff17030a1a21cb061bace0581766230/expr.ipynb\"><img src=\"data:image/png;base64,iVBORw0KGgoAAAANSUhEUgAAAG8AAAAmBAMAAAA4vNj3AAAAMFBMVEX///8AAAAAAAAAAAAAAAAA\n",
       "AAAAAAAAAAAAAAAAAAAAAAAAAAAAAAAAAAAAAAAAAAAv3aB7AAAAD3RSTlMAEM3dMiKriXZE77tm\n",
       "mVQzv5s6AAAACXBIWXMAAA7EAAAOxAGVKw4bAAABzklEQVRIx2NgIAR4H6CLCAmgcFnTWxuwabyG\n",
       "oYbFEEXBrADuj1j08ShgqjmGrIBxDQOvARaNXgKYarhBrmdUNgYBB94PDMwFWDSqI3sXqoZxIZIg\n",
       "1wYG+QmY+vg+YlOD7G/5BobzWCxEcQVcTXwAkuADhiS+AAyN/shBD1fDjWQcdwOfLS+mjdnIHLga\n",
       "ngVIIZZREtaCqfEPSsjD1LD+I5RsWL5iF7clpJHnA3bxS4Q0silgF+8npJErAbv4ewcCGvkLsIv7\n",
       "PyCk8QB2cXls4pfBidcMkkRwmMzfQMBGXE4CeuE/CkBXMH8CUgaCqAVHEP8Fcm28QMCP/uT6Mf4A\n",
       "aaGNnAOxG0goHrlwBII/tLCQXoxDI9MGFC5c3XtY/tbFVRovQOXD1BXDBHBlTB60ohambhuU5vyI\n",
       "QyMjqolwdbCCgd0AV+jsReHB1HHCCgamjDYc4XsKNayg6thh+VtekRFH4YJaSMPUcT1AhO4K7BrZ\n",
       "UcoOmLoupLLnOw5PLkEro8Dq1sEEzBk4cUXIIWQOVB2HAiJ6eHFFCNMBlGgEq4uCVxVfGKRwJXdG\n",
       "UyQORB2jHVwgBy2+kEEQUrUDUceNsESsFnf+YkUqQiHqJEFMAOrGi0W7nq6FAAAAAElFTkSuQmCC\n",
       "\" style=\"display:inline;vertical-align:middle;\" /></a></span>"
      ],
      "text/plain": [
       "{a in Real, b in Real, b != 0} |- ((-a) / b) = (-(a / b))"
      ]
     },
     "metadata": {},
     "output_type": "display_data"
    }
   ],
   "source": [
    "# notice that the neg_extraction has been integrated into the\n",
    "# shallow_simplification() method\n",
    "neg_a_over_b.shallow_simplification(assumptions=[InSet(a, Real), InSet(b, Real), NotEquals(b, zero)])"
   ]
  },
  {
   "cell_type": "code",
   "execution_count": 50,
   "metadata": {},
   "outputs": [
    {
     "data": {
      "text/html": [
       "<span style=\"font-size:20px;\"><a class=\"ProveItLink\" href=\"../../ordering/__pv_it/theorems/4aa8d696b1f407d6126de9f51a052e8d90e0848c0/expr.ipynb\"><img src=\"data:image/png;base64,iVBORw0KGgoAAAANSUhEUgAAADMAAAAQBAMAAABJt1qBAAAAMFBMVEX///8AAAAAAAAAAAAAAAAA\n",
       "AAAAAAAAAAAAAAAAAAAAAAAAAAAAAAAAAAAAAAAAAAAv3aB7AAAAD3RSTlMAIquJdkTvuxBmmd1U\n",
       "zTKBpmoTAAAACXBIWXMAAA7EAAAOxAGVKw4bAAAAzElEQVQY02NgwABz0+tvp09gwAoKhBiCpjdg\n",
       "lxJmYOdTwCXFJXABRch99+4LcKkCZJlYD4Qupg6QgYzKjg4gAcYbSAY+PysAZIQJsP8ACfAKwKXE\n",
       "bv8GmcCRycC1ASyF5IyZvSCa6wMDtwGI8Ww3EBRApNg7QV5mK2DoDwAJtCPp4ltQAaT7HRjmgwW4\n",
       "kf21ThwkdYBBlwfkAhYHJKl2FqCJ7A48u7jAInfgUlIMnBNKgS5UsRPyA4s0lTbAQr6Qofz+AeTg\n",
       "CK7ejRxyAISENKeL/c93AAAAAElFTkSuQmCC\n",
       "\" style=\"display:inline;vertical-align:middle;\" /></a>, <a class=\"ProveItLink\" href=\"../../exponentiation/__pv_it/theorems/d550e8309ef79ca46e4c9fb5617a392ea678789b0/expr.ipynb\"><img src=\"data:image/png;base64,iVBORw0KGgoAAAANSUhEUgAAADEAAAAQBAMAAABNQoq8AAAAMFBMVEX///8AAAAAAAAAAAAAAAAA\n",
       "AAAAAAAAAAAAAAAAAAAAAAAAAAAAAAAAAAAAAAAAAAAv3aB7AAAAD3RSTlMAiXZmMiLdVJm77xBE\n",
       "zatgdeJyAAAACXBIWXMAAA7EAAAOxAGVKw4bAAAAvUlEQVQY02NgQAe2K+dfW2nAgA1MiGM4Z7kB\n",
       "q0wgAyfLAxwyHAEXkEU009IuwGUmIEmc1Ubo4dsNNk1I2QFIst5GMs2zNgDICCvgAGnlDYDLRF37\n",
       "BtafyMClAJJBcoHxXhDN8RvC90oDggkQGc7NIJ9yQV2xE0kPS8NsIL1fAcJnQ/ZPSySQ5gdqPACk\n",
       "mRSQZHYyAUWBDmMEuZrhOlwmgoHZYA6QIWgM8eK+ORtgYT2VYeb9AqRAODgtDTm0ALktNaaWdOV1\n",
       "AAAAAElFTkSuQmCC\n",
       "\" style=\"display:inline;vertical-align:middle;\" /></a>, <a class=\"ProveItLink\" href=\"../../ordering/__pv_it/theorems/6e5cad5b2984ed0d75bd47bd0c542ec447a4f3570/expr.ipynb\"><img src=\"data:image/png;base64,iVBORw0KGgoAAAANSUhEUgAAADEAAAAQBAMAAABNQoq8AAAAMFBMVEX///8AAAAAAAAAAAAAAAAA\n",
       "AAAAAAAAAAAAAAAAAAAAAAAAAAAAAAAAAAAAAAAAAAAv3aB7AAAAD3RSTlMAELvv3c2ZVESJq3Yi\n",
       "MmZ3LnoBAAAACXBIWXMAAA7EAAAOxAGVKw4bAAAA1ElEQVQY02NgQAdPjfRDjB4AGYzKDmhSCqcY\n",
       "uh4JABmsCegyJxmYeBcAGfwFmDJsBwKAjH4BqMgmF5cAuIwCkDEFKtG6EaGHSxBkWtTu5SA+TyCS\n",
       "aZdKDwDd9lVA/gDIIQfgModDvoD0s39kYN4AkkFywTtREM0WwMA/AUhfdgECBYgMkxzIpywTGPpB\n",
       "7hZC0sOboAjxTj7I3SzI/sk9BJK5wGgH4nNvQJIR4gYax/WACRI84XCZYwx8DzSArl6ZBxGQ0hCA\n",
       "hbUOg1I8cph1qkBCBwoAxe43BugJR6MAAAAASUVORK5CYII=\n",
       "\" style=\"display:inline;vertical-align:middle;\" /></a>, <a class=\"ProveItLink\" href=\"../__pv_it/theorems/1157e8bc07ff5d23e5b8809064b9e77def3bc8980/expr.ipynb\"><img src=\"data:image/png;base64,iVBORw0KGgoAAAANSUhEUgAAAC8AAAAUCAMAAAAqRJTwAAAAPFBMVEX///8AAAAAAAAAAAAAAAAA\n",
       "AAAAAAAAAAAAAAAAAAAAAAAAAAAAAAAAAAAAAAAAAAAAAAAAAAAAAAAAAAAo1xBWAAAAE3RSTlMA\n",
       "ELvv3c2ZVESJq3YiMmbn9enzVleb9QAAAAlwSFlzAAAOxAAADsQBlSsOGwAAANlJREFUKM+VkusS\n",
       "xBAMhcUlGspevP+7LjG6bK0ZfmhSn+OICPF/IMz+glR6igfZZ0QezxoanPIydImxWVnXDclO5V2X\n",
       "RLZAfOKRpj7l2Se82TJJU/tHLy8SWw7sxDjv3c2S6eWh8bHEBvLUllHzeDzL3M44E1XeN1PKL+S/\n",
       "fP6gYYM0uh9LDHX5KPqaOLIL+XZfWygm8aop+3+96y2uGkmufCxUys8IKo7yvy8SFWsV6y6jcrRr\n",
       "7w2iSz+o0iHgCKNYy2cKybsw72NLYmsY2MLjprzekxdhtfgBfooGZl93KjkAAAAASUVORK5CYII=\n",
       "\" style=\"display:inline;vertical-align:middle;\" /></a> <a class=\"ProveItLink\" href=\"../__pv_it/demonstrations/ba025022e1b4b3a7d2e116fcdf30f78251d0be680/proof.ipynb\" style=\"text-decoration: none\">&nbsp;&#x22A2;&nbsp;&nbsp;</a><a class=\"ProveItLink\" href=\"../__pv_it/demonstrations/6d4b03462fd5bf287cc3ddcefd57fcb37f8fa8f70/expr.ipynb\"><img src=\"data:image/png;base64,iVBORw0KGgoAAAANSUhEUgAAAK8AAAAtBAMAAAAqxCaVAAAAMFBMVEX///8AAAAAAAAAAAAAAAAA\n",
       "AAAAAAAAAAAAAAAAAAAAAAAAAAAAAAAAAAAAAAAAAAAv3aB7AAAAD3RSTlMAInZUiRDNmWbv3US7\n",
       "qzJazP2FAAAACXBIWXMAAA7EAAAOxAGVKw4bAAACmklEQVRIx7VXP4jTYBR/uTZNYmPbSfBAmhsE\n",
       "HdQM4uohgiAonQTxJB08FKcbREQ4uMk/g3gogihI5U4OBKG4OVldnITjEHFw6KpLK7XipOZLYvt9\n",
       "33uXF0N8Q2he3u+Xl19+3/dSAIAGKKGd5o8ZXz1/WRTxYf1GK8Xwmm09s1gMsYUavFkMsYMzrUKI\n",
       "j6BMhRXZ8tOunokbuyKljA9zHkB5c5o5tq9PQJcRRq6vPYt+XpKKXjXcMYA9fZ2zvtXDvHYbYZT6\n",
       "O9HvNckgD8HqAJRWJ5l1cDxM/KWFMEq9Gyn1OLx4+bmIvjWEHfMAtaEA/BBajkkRL8hyxxil3nyQ\n",
       "EE/s0IOgC1CNOt6IE0SU5NslGLV+WZMi8OCuAHakBBFRhxpGrW+K/eatVOTDx1ID7Emf9dB4XUQ8\n",
       "kH2eYNR6V9z61LTI9UobVqjUpKPwFZex3T7LJwlGrbeFmF+lN7x1es/B8FGnTR6/tRdL8VPZamKM\n",
       "Wm+MhGKopdn0ZVf7xi9n8SbtJT17LR1kD3niq+LwRksavXTQzjZPfEgcFrSky8wmZ5MnPir0NTSz\n",
       "zjGg+jxPPPBz7LP1DKMryDrerkebyYt4WWXopu7l6DjLY2aRC8VrsX7+bojbES/BbzbSO0blw4T4\n",
       "3zUe/C+NmyvFOAdbKUM3zTw+djLoN+jmIK70Mixp9M2z8Ij/JlslkhruJK64yBLb5OhWce9xwYj/\n",
       "PCVLRtsPmSiqY17Ad0ROxVXxkCl3eOLbRE7FlfEsqGwdYC0YEF5ScQ7mCBZNdlYS/Wi4/aQB77Fa\n",
       "POFw98nx+p0lvsHgZohHWocqbzjik1/B7W5QdrR4w5lPU3HmGoH5BWcz7Hi7Wmk4l2L4RNpfD6Of\n",
       "hjtHQc6fyPe/FOH+APeb24DPp8zsAAAAAElFTkSuQmCC\n",
       "\" style=\"display:inline;vertical-align:middle;\" /></a></span>"
      ],
      "text/plain": [
       "{a in Real, c in Real, b in Real, b != 0} |- (((-a) * c) / b) = (-((a * c) / b))"
      ]
     },
     "metadata": {},
     "output_type": "display_data"
    }
   ],
   "source": [
    "# notice that the neg_extraction has been integrated into the\n",
    "# simplification() method\n",
    "neg_mult_over_b.simplification(assumptions=[InSet(a, Real), InSet(b, Real), NotEquals(b, zero),\n",
    "                                           InSet(c, Real), NotEquals(c, zero)])"
   ]
  },
  {
   "cell_type": "code",
   "execution_count": 51,
   "metadata": {},
   "outputs": [
    {
     "data": {
      "text/html": [
       "<span style=\"font-size:20px;\"><a class=\"ProveItLink\" href=\"../../ordering/__pv_it/theorems/4aa8d696b1f407d6126de9f51a052e8d90e0848c0/expr.ipynb\"><img src=\"data:image/png;base64,iVBORw0KGgoAAAANSUhEUgAAADMAAAAQBAMAAABJt1qBAAAAMFBMVEX///8AAAAAAAAAAAAAAAAA\n",
       "AAAAAAAAAAAAAAAAAAAAAAAAAAAAAAAAAAAAAAAAAAAv3aB7AAAAD3RSTlMAIquJdkTvuxBmmd1U\n",
       "zTKBpmoTAAAACXBIWXMAAA7EAAAOxAGVKw4bAAAAzElEQVQY02NgwABz0+tvp09gwAoKhBiCpjdg\n",
       "lxJmYOdTwCXFJXABRch99+4LcKkCZJlYD4Qupg6QgYzKjg4gAcYbSAY+PysAZIQJsP8ACfAKwKXE\n",
       "bv8GmcCRycC1ASyF5IyZvSCa6wMDtwGI8Ww3EBRApNg7QV5mK2DoDwAJtCPp4ltQAaT7HRjmgwW4\n",
       "kf21ThwkdYBBlwfkAhYHJKl2FqCJ7A48u7jAInfgUlIMnBNKgS5UsRPyA4s0lTbAQr6Qofz+AeTg\n",
       "CK7ejRxyAISENKeL/c93AAAAAElFTkSuQmCC\n",
       "\" style=\"display:inline;vertical-align:middle;\" /></a>, <a class=\"ProveItLink\" href=\"../../exponentiation/__pv_it/theorems/d550e8309ef79ca46e4c9fb5617a392ea678789b0/expr.ipynb\"><img src=\"data:image/png;base64,iVBORw0KGgoAAAANSUhEUgAAADEAAAAQBAMAAABNQoq8AAAAMFBMVEX///8AAAAAAAAAAAAAAAAA\n",
       "AAAAAAAAAAAAAAAAAAAAAAAAAAAAAAAAAAAAAAAAAAAv3aB7AAAAD3RSTlMAiXZmMiLdVJm77xBE\n",
       "zatgdeJyAAAACXBIWXMAAA7EAAAOxAGVKw4bAAAAvUlEQVQY02NgQAe2K+dfW2nAgA1MiGM4Z7kB\n",
       "q0wgAyfLAxwyHAEXkEU009IuwGUmIEmc1Ubo4dsNNk1I2QFIst5GMs2zNgDICCvgAGnlDYDLRF37\n",
       "BtafyMClAJJBcoHxXhDN8RvC90oDggkQGc7NIJ9yQV2xE0kPS8NsIL1fAcJnQ/ZPSySQ5gdqPACk\n",
       "mRSQZHYyAUWBDmMEuZrhOlwmgoHZYA6QIWgM8eK+ORtgYT2VYeb9AqRAODgtDTm0ALktNaaWdOV1\n",
       "AAAAAElFTkSuQmCC\n",
       "\" style=\"display:inline;vertical-align:middle;\" /></a>, <a class=\"ProveItLink\" href=\"../../ordering/__pv_it/theorems/6e5cad5b2984ed0d75bd47bd0c542ec447a4f3570/expr.ipynb\"><img src=\"data:image/png;base64,iVBORw0KGgoAAAANSUhEUgAAADEAAAAQBAMAAABNQoq8AAAAMFBMVEX///8AAAAAAAAAAAAAAAAA\n",
       "AAAAAAAAAAAAAAAAAAAAAAAAAAAAAAAAAAAAAAAAAAAv3aB7AAAAD3RSTlMAELvv3c2ZVESJq3Yi\n",
       "MmZ3LnoBAAAACXBIWXMAAA7EAAAOxAGVKw4bAAAA1ElEQVQY02NgQAdPjfRDjB4AGYzKDmhSCqcY\n",
       "uh4JABmsCegyJxmYeBcAGfwFmDJsBwKAjH4BqMgmF5cAuIwCkDEFKtG6EaGHSxBkWtTu5SA+TyCS\n",
       "aZdKDwDd9lVA/gDIIQfgModDvoD0s39kYN4AkkFywTtREM0WwMA/AUhfdgECBYgMkxzIpywTGPpB\n",
       "7hZC0sOboAjxTj7I3SzI/sk9BJK5wGgH4nNvQJIR4gYax/WACRI84XCZYwx8DzSArl6ZBxGQ0hCA\n",
       "hbUOg1I8cph1qkBCBwoAxe43BugJR6MAAAAASUVORK5CYII=\n",
       "\" style=\"display:inline;vertical-align:middle;\" /></a>, <a class=\"ProveItLink\" href=\"../__pv_it/theorems/1157e8bc07ff5d23e5b8809064b9e77def3bc8980/expr.ipynb\"><img src=\"data:image/png;base64,iVBORw0KGgoAAAANSUhEUgAAAC8AAAAUCAMAAAAqRJTwAAAAPFBMVEX///8AAAAAAAAAAAAAAAAA\n",
       "AAAAAAAAAAAAAAAAAAAAAAAAAAAAAAAAAAAAAAAAAAAAAAAAAAAAAAAAAAAo1xBWAAAAE3RSTlMA\n",
       "ELvv3c2ZVESJq3YiMmbn9enzVleb9QAAAAlwSFlzAAAOxAAADsQBlSsOGwAAANlJREFUKM+VkusS\n",
       "xBAMhcUlGspevP+7LjG6bK0ZfmhSn+OICPF/IMz+glR6igfZZ0QezxoanPIydImxWVnXDclO5V2X\n",
       "RLZAfOKRpj7l2Se82TJJU/tHLy8SWw7sxDjv3c2S6eWh8bHEBvLUllHzeDzL3M44E1XeN1PKL+S/\n",
       "fP6gYYM0uh9LDHX5KPqaOLIL+XZfWygm8aop+3+96y2uGkmufCxUys8IKo7yvy8SFWsV6y6jcrRr\n",
       "7w2iSz+o0iHgCKNYy2cKybsw72NLYmsY2MLjprzekxdhtfgBfooGZl93KjkAAAAASUVORK5CYII=\n",
       "\" style=\"display:inline;vertical-align:middle;\" /></a> <a class=\"ProveItLink\" href=\"../__pv_it/demonstrations/f458773789f4f6d94466e1610699a0b97c28fcce0/proof.ipynb\" style=\"text-decoration: none\">&nbsp;&#x22A2;&nbsp;&nbsp;</a><a class=\"ProveItLink\" href=\"../__pv_it/demonstrations/8ab52c3a1b3fd57e310c5b121141be69851819380/expr.ipynb\"><img src=\"data:image/png;base64,iVBORw0KGgoAAAANSUhEUgAAAK8AAAAtBAMAAAAqxCaVAAAAMFBMVEX///8AAAAAAAAAAAAAAAAA\n",
       "AAAAAAAAAAAAAAAAAAAAAAAAAAAAAAAAAAAAAAAAAAAv3aB7AAAAD3RSTlMAIquJdkTvuxBmmd1U\n",
       "zTKBpmoTAAAACXBIWXMAAA7EAAAOxAGVKw4bAAACrklEQVRIx7WXPYjUQBTH37q3STaX/cDC5pA9\n",
       "8EAshEWtPJCchWijW4itFgqKIlGsrA5Br5IcVwgKcotWIsLqNbJeEbAWF2xObVLZWOyKzQrrx2Sy\n",
       "xpl57zIxxil2M2/f75+XlzfzZgGU0UyZ/cuYCaTp6cKEXyv3WS1I1xoohq2ChG01wgcFCRvIsFyM\n",
       "8BvVUCOTbAdpInfjYEp7ltzE9lh0OHQihPI8hT4SriWeM/WX/PJM0xwn9vcCMRfYHlQHhK5klHjO\n",
       "wBqvg0tg95IfNgViAwwXnHOE8Cch8TLPGTCjTNkjmG2zb59HcYF5fnwVjdDmcdRHhPA7Md1T3voe\n",
       "TeLYrYvRa/fA77Dv2e5UOKkHL/qsEBE7Y5DcOA/9hInfge/COlCp8PkrcXpYmEcouK0rDECL7TF+\n",
       "APudZK+58YdosELrQNXDwkOxtiU+ZliS2a1N1+nbidsBIXkelEOw21h4rziR+JhhZcMSaC0c2Xky\n",
       "cfssIAfvH2eP3cHC36TdReI5w2p7gtIXKoY5rFv/ol/BfVT6XcXwhFgeI73wM2S5Jk9LxLvbMdAL\n",
       "n0KWFXlqEr3JmNcLv1VTCiVXmi4RUKOtFx4GObbWRoZ25WdtaU/5/vEiXlYZomm4OSLO8phZ0oXG\n",
       "2WjN/N4DtxPuwk/tSI8YuY+mwn+f4+H/ynFrtZjKwaWUIZpWnjo2MuRv2MkhXPMyLGl0zlm5rD+G\n",
       "UY1b4RaxxwetcHVMWWXuOnaY6E+kpMtk+ybDR2WsT+BNwiZzFdxkyj298D3CJnNl3AtqC0e1JegT\n",
       "tSRzBtbwtyxtryTiUbhjZAGe1+biqo67QrbXr1rhhxpuhnikDajoC4445kvcriZVjra+4KznqZy1\n",
       "STA/4E6GHW/3chpnUgr7yPJHh4QwjbtNIbcO5/svirhfdqDoy0gN+jgAAAAASUVORK5CYII=\n",
       "\" style=\"display:inline;vertical-align:middle;\" /></a></span>"
      ],
      "text/plain": [
       "{a in Real, c in Real, b in Real, b != 0} |- ((a * (-c)) / b) = (-((a * c) / b))"
      ]
     },
     "metadata": {},
     "output_type": "display_data"
    }
   ],
   "source": [
    "# notice that the neg_extraction has been integrated into the\n",
    "# simplification() method\n",
    "neg_mult_02_over_b.simplification(assumptions=[InSet(a, Real), InSet(b, Real), NotEquals(b, zero),\n",
    "                                           InSet(c, Real), NotEquals(c, zero)])"
   ]
  },
  {
   "cell_type": "code",
   "execution_count": 52,
   "metadata": {},
   "outputs": [
    {
     "data": {
      "text/html": [
       "<strong id=\"no_neg_expr\">no_neg_expr:</strong> <a class=\"ProveItLink\" href=\"../__pv_it/theorems/14b307388f7cd64ad04ac7902b9f7f91ee1dd28d0/expr.ipynb\"><img src=\"data:image/png;base64,iVBORw0KGgoAAAANSUhEUgAAACEAAAAlBAMAAAA+W51KAAAAMFBMVEX///8AAAAAAAAAAAAAAAAA\n",
       "AAAAAAAAAAAAAAAAAAAAAAAAAAAAAAAAAAAAAAAAAAAv3aB7AAAAD3RSTlMAIquJdkTvuxBmmd1U\n",
       "zTKBpmoTAAAACXBIWXMAAA7EAAAOxAGVKw4bAAAAw0lEQVQoz2NggAAhExEGFMCayFDfgCLSNoFh\n",
       "Naqa9QwMm1FF0hk4vqIIcHxh4PyAKvKHgenCQRShEobTCxagiDQ5P1R5wDA4wX808IGGdnGUbUAX\n",
       "4l2ALsJ/AF0kvgFdxBrD6EsuOgiOiecDBo6/Df0CMAHpA1wFDDw/GNgcYCKbQWyuCwz8BkBn/QUK\n",
       "cP0ACXMbMMSD7N8FxGwFUOesh9nfD9bO/4AjE+7YCQwMAQxME9jh3gBaxAy0XXklwjnGMz0YANl/\n",
       "PD9LaE61AAAAAElFTkSuQmCC\n",
       "\" style=\"display:inline;vertical-align:middle;\" /></a><br>"
      ],
      "text/plain": [
       "<IPython.core.display.HTML object>"
      ]
     },
     "metadata": {},
     "output_type": "display_data"
    }
   ],
   "source": [
    "# example expression with no Neg component\n",
    "no_neg_expr = frac(a, Mult(b, c))"
   ]
  },
  {
   "cell_type": "code",
   "execution_count": 53,
   "metadata": {},
   "outputs": [
    {
     "name": "stdout",
     "output_type": "stream",
     "text": [
      "ValueError: No Neg expression component found to extract. The expression supplied was: a / (b * c)\n"
     ]
    }
   ],
   "source": [
    "# informative error message when no Neg available to extract:\n",
    "try:\n",
    "    no_neg_expr.neg_extraction(\n",
    "            assumptions=[InSet(a, Real), InSet(b, Real), InSet(c, Real),\n",
    "                         NotEquals(b, zero), NotEquals(c, zero)])\n",
    "except ValueError as the_error:\n",
    "    print(\"ValueError: {}\".format(the_error))"
   ]
  },
  {
   "cell_type": "markdown",
   "metadata": {},
   "source": [
    "## Deduce bounds"
   ]
  },
  {
   "cell_type": "code",
   "execution_count": 54,
   "metadata": {},
   "outputs": [],
   "source": [
    "assumptions = [InSet(var, Real) for var in [a, b, c, d, w, x, y]]\n",
    "assumptions += [greater(var, zero) for var in [a, x, y]] + [greater_eq(b, zero)]\n",
    "assumptions += [LessEq(c, zero)] + [Less(var, zero) for var in [d, w]]\n",
    "assumptions += [InSet(z, Real)]"
   ]
  },
  {
   "cell_type": "markdown",
   "metadata": {},
   "source": [
    "Bound by the numerator with a positive denominator"
   ]
  },
  {
   "cell_type": "code",
   "execution_count": 55,
   "metadata": {},
   "outputs": [
    {
     "data": {
      "text/html": [
       "<span style=\"font-size:20px;\"><a class=\"ProveItLink\" href=\"../../ordering/__pv_it/theorems/5d76fdd975252a644e3e1cb067a357f9a9c8486a0/expr.ipynb\"><img src=\"data:image/png;base64,iVBORw0KGgoAAAANSUhEUgAAADMAAAATBAMAAADPIygvAAAAMFBMVEX///8AAAAAAAAAAAAAAAAA\n",
       "AAAAAAAAAAAAAAAAAAAAAAAAAAAAAAAAAAAAAAAAAAAv3aB7AAAAD3RSTlMAEHaZZquJVO8y3btE\n",
       "zSKD2s2pAAAACXBIWXMAAA7EAAAOxAGVKw4bAAAA4ElEQVQoz2NgwAC+3ftvdTswYAUbnjIc9RbA\n",
       "LvWMgZszAJcU84MLKELaq1ZdgEttQJY5q4jQxSoINJBR2YFBFCTAdxHJwNm1DxgY2NgbGPxBArwP\n",
       "4FIvbv0CmTCdeQFDNFgKyRkusiBagEOBoQnEmLEKCDZApLhFwF4+L8D5E0RLI+niNNgIYtgyMDWA\n",
       "aC5kf1m+BjG2MnCDfc6kgCQlzQQy0ZThPCQsr8OlHjOwOOwBMkST7CHOFt0jAAv5fQy77xeA2LlQ\n",
       "1cd2rUIJObYLjO3Y44aBS4E1AYcUu5MNDhkADGJEjCMFBEsAAAAASUVORK5CYII=\n",
       "\" style=\"display:inline;vertical-align:middle;\" /></a>, <a class=\"ProveItLink\" href=\"../../ordering/__pv_it/theorems/d1323f34847310a404e8089c2c268d3c2eb89dbf0/expr.ipynb\"><img src=\"data:image/png;base64,iVBORw0KGgoAAAANSUhEUgAAADQAAAAQBAMAAACra0H4AAAAMFBMVEX///8AAAAAAAAAAAAAAAAA\n",
       "AAAAAAAAAAAAAAAAAAAAAAAAAAAAAAAAAAAAAAAAAAAv3aB7AAAAD3RSTlMAEHarMolUmd1mIs3v\n",
       "RLtmgJDEAAAACXBIWXMAAA7EAAAOxAGVKw4bAAAAyklEQVQY02NgwACce9797nnJgBXwcRnwWj7E\n",
       "IRXA8MAZp1QVN4qQXkfHBrgUH7LMbUUkXYbCQIaQskhoApDm2ohkIMuzXUBGAZMRewOQ5l6AkDrd\n",
       "3yQA9MUCzo/ME0BSSM6InAiylIWBHWw3g08HEDyAGvhwJliMRwFMySE73p1PAMS6v4ARRHMgS7F7\n",
       "AfXLXbBhYAUJMCkgSTE+0GRgyHesYbgGFtmGkCpgmMl3gUFcia0yASwi/FYAFvL/FvC9/oYcHFdf\n",
       "QAIKCgBACzQrtGfvLgAAAABJRU5ErkJggg==\n",
       "\" style=\"display:inline;vertical-align:middle;\" /></a>, <a class=\"ProveItLink\" href=\"../../ordering/__pv_it/theorems/4aa8d696b1f407d6126de9f51a052e8d90e0848c0/expr.ipynb\"><img src=\"data:image/png;base64,iVBORw0KGgoAAAANSUhEUgAAADMAAAAQBAMAAABJt1qBAAAAMFBMVEX///8AAAAAAAAAAAAAAAAA\n",
       "AAAAAAAAAAAAAAAAAAAAAAAAAAAAAAAAAAAAAAAAAAAv3aB7AAAAD3RSTlMAIquJdkTvuxBmmd1U\n",
       "zTKBpmoTAAAACXBIWXMAAA7EAAAOxAGVKw4bAAAAzElEQVQY02NgwABz0+tvp09gwAoKhBiCpjdg\n",
       "lxJmYOdTwCXFJXABRch99+4LcKkCZJlYD4Qupg6QgYzKjg4gAcYbSAY+PysAZIQJsP8ACfAKwKXE\n",
       "bv8GmcCRycC1ASyF5IyZvSCa6wMDtwGI8Ww3EBRApNg7QV5mK2DoDwAJtCPp4ltQAaT7HRjmgwW4\n",
       "kf21ThwkdYBBlwfkAhYHJKl2FqCJ7A48u7jAInfgUlIMnBNKgS5UsRPyA4s0lTbAQr6Qofz+AeTg\n",
       "CK7ejRxyAISENKeL/c93AAAAAElFTkSuQmCC\n",
       "\" style=\"display:inline;vertical-align:middle;\" /></a>, <a class=\"ProveItLink\" href=\"../__pv_it/demonstrations/d2a7966a0ecdbabf7c84da52ab0220ff0e97e5820/expr.ipynb\"><img src=\"data:image/png;base64,iVBORw0KGgoAAAANSUhEUgAAADIAAAAOBAMAAACfqVJUAAAAMFBMVEX///8AAAAAAAAAAAAAAAAA\n",
       "AAAAAAAAAAAAAAAAAAAAAAAAAAAAAAAAAAAAAAAAAAAv3aB7AAAAD3RSTlMAIquJdkTvuxBmmd1U\n",
       "zTKBpmoTAAAACXBIWXMAAA7EAAAOxAGVKw4bAAAAp0lEQVQY02NgIAx6J+CS4bB2QBNhVHaECnlb\n",
       "wBS5aDy2YWAIE2D/ARWZvQJCczE4Oaxm4Mhk4NoA0392IZiayDC/QZOB6wMDtwHc6FgNEPmAYS2Q\n",
       "ZCtg6A9AyFRA6BQg7ndgmA+XOKsIoVk/MnQw9B9g0OURgLoAYg1HKVMCgwEDuwPPLi5UV/P860pg\n",
       "PcDAoWIn5AdW6Q3zKccSh1NzkHzcPYGBSAAAHegjXMyIrKsAAAAASUVORK5CYII=\n",
       "\" style=\"display:inline;vertical-align:middle;\" /></a>, <a class=\"ProveItLink\" href=\"../__pv_it/demonstrations/40fa4e3b274cbd6160ddd632a9c3fd20af2d35190/expr.ipynb\"><img src=\"data:image/png;base64,iVBORw0KGgoAAAANSUhEUgAAADEAAAASBAMAAAAAiiu3AAAAMFBMVEX///8AAAAAAAAAAAAAAAAA\n",
       "AAAAAAAAAAAAAAAAAAAAAAAAAAAAAAAAAAAAAAAAAAAv3aB7AAAAD3RSTlMAEHaZZquJVO8y3btE\n",
       "zSKD2s2pAAAACXBIWXMAAA7EAAAOxAGVKw4bAAAAz0lEQVQY02NgwAbSlB9gFWfgLWBch13Gi4Eh\n",
       "G4kr6wBnbmVgqBdAyDBmKcCYnxkY5hcwMCo7MIhCBLQSoWpAMg4MbOwNDP4w8w3BFN83oIwCw3Tm\n",
       "BQzRMGNq7eAyCQwCHAoMTXDLzgaCTAPKnAdael6A8ydCZiPUBfUFDAy2DEwNcNPiwNRuBgZ/AZDj\n",
       "uQNgLrCD0B4g9QwMpgznHVBdzcBVwNgJpEST7MHBx6gF9ymjmeoEMCMXTEo5oIUe2wXGduzhyqXA\n",
       "moBdht3JBrsEAEESKGaXRTYlAAAAAElFTkSuQmCC\n",
       "\" style=\"display:inline;vertical-align:middle;\" /></a> <a class=\"ProveItLink\" href=\"../__pv_it/demonstrations/36f7556b5a26c1a8da4b6d8ace7b803cf4ea84de0/proof.ipynb\" style=\"text-decoration: none\">&nbsp;&#x22A2;&nbsp;&nbsp;</a><a class=\"ProveItLink\" href=\"../__pv_it/demonstrations/939e626dcabeb0fc9c38528e4d48b8f6066835eb0/expr.ipynb\"><img src=\"data:image/png;base64,iVBORw0KGgoAAAANSUhEUgAAADgAAAApBAMAAACSIvcTAAAAMFBMVEX///8AAAAAAAAAAAAAAAAA\n",
       "AAAAAAAAAAAAAAAAAAAAAAAAAAAAAAAAAAAAAAAAAAAv3aB7AAAAD3RSTlMAIquJdkTvuxBmmd1U\n",
       "zTKBpmoTAAAACXBIWXMAAA7EAAAOxAGVKw4bAAABIElEQVQ4y2NgYFR2dGDAAC1OfcYHGBjCBNh/\n",
       "YEouYFHh2sDAkckAJNEBpwDnD6YJDFwfGLgNMCT5GLguACm2Aob+AExjGdhADul3YJiPRY4hXoCj\n",
       "gaH/AIMujwC6VHuAGgMzAwO7A88uLgx9518sY4hhYOBQsRPyw5DscuFZeYCB9qB3Ah5JDmsHfHq9\n",
       "LfDJzl6BT/bsQhTufxD4AOfGaiBE/6Nrja3AY6wiHgctJMsrHN54AqF7AsNgABxeExiacIky8yRg\n",
       "SbhQ0TfAnKKOIQkVbQCm+xQMSZhofAPfPyy5ASK6loElAVMSKlrEwK6AKQkVXcQQjyVQoaJNJusF\n",
       "MCXhorZYQwckynyBIwdTBirK7cCEWSTARHmmLMViJkQUAI07TT/O2g/FAAAAAElFTkSuQmCC\n",
       "\" style=\"display:inline;vertical-align:middle;\" /></a></span>"
      ],
      "text/plain": [
       "{y in Real, x in Real, a in Real, a > x, y > 0} |- (a / y) > (x / y)"
      ]
     },
     "metadata": {},
     "output_type": "display_data"
    }
   ],
   "source": [
    "relation = greater(a, x)\n",
    "frac(a, y).deduce_bound(relation, assumptions=assumptions+[relation])"
   ]
  },
  {
   "cell_type": "code",
   "execution_count": 56,
   "metadata": {},
   "outputs": [
    {
     "data": {
      "text/html": [
       "<span style=\"font-size:20px;\"><a class=\"ProveItLink\" href=\"../../ordering/__pv_it/theorems/5d76fdd975252a644e3e1cb067a357f9a9c8486a0/expr.ipynb\"><img src=\"data:image/png;base64,iVBORw0KGgoAAAANSUhEUgAAADMAAAATBAMAAADPIygvAAAAMFBMVEX///8AAAAAAAAAAAAAAAAA\n",
       "AAAAAAAAAAAAAAAAAAAAAAAAAAAAAAAAAAAAAAAAAAAv3aB7AAAAD3RSTlMAEHaZZquJVO8y3btE\n",
       "zSKD2s2pAAAACXBIWXMAAA7EAAAOxAGVKw4bAAAA4ElEQVQoz2NgwAC+3ftvdTswYAUbnjIc9RbA\n",
       "LvWMgZszAJcU84MLKELaq1ZdgEttQJY5q4jQxSoINJBR2YFBFCTAdxHJwNm1DxgY2NgbGPxBArwP\n",
       "4FIvbv0CmTCdeQFDNFgKyRkusiBagEOBoQnEmLEKCDZApLhFwF4+L8D5E0RLI+niNNgIYtgyMDWA\n",
       "aC5kf1m+BjG2MnCDfc6kgCQlzQQy0ZThPCQsr8OlHjOwOOwBMkST7CHOFt0jAAv5fQy77xeA2LlQ\n",
       "1cd2rUIJObYLjO3Y44aBS4E1AYcUu5MNDhkADGJEjCMFBEsAAAAASUVORK5CYII=\n",
       "\" style=\"display:inline;vertical-align:middle;\" /></a>, <a class=\"ProveItLink\" href=\"../../ordering/__pv_it/theorems/4aa8d696b1f407d6126de9f51a052e8d90e0848c0/expr.ipynb\"><img src=\"data:image/png;base64,iVBORw0KGgoAAAANSUhEUgAAADMAAAAQBAMAAABJt1qBAAAAMFBMVEX///8AAAAAAAAAAAAAAAAA\n",
       "AAAAAAAAAAAAAAAAAAAAAAAAAAAAAAAAAAAAAAAAAAAv3aB7AAAAD3RSTlMAIquJdkTvuxBmmd1U\n",
       "zTKBpmoTAAAACXBIWXMAAA7EAAAOxAGVKw4bAAAAzElEQVQY02NgwABz0+tvp09gwAoKhBiCpjdg\n",
       "lxJmYOdTwCXFJXABRch99+4LcKkCZJlYD4Qupg6QgYzKjg4gAcYbSAY+PysAZIQJsP8ACfAKwKXE\n",
       "bv8GmcCRycC1ASyF5IyZvSCa6wMDtwGI8Ww3EBRApNg7QV5mK2DoDwAJtCPp4ltQAaT7HRjmgwW4\n",
       "kf21ThwkdYBBlwfkAhYHJKl2FqCJ7A48u7jAInfgUlIMnBNKgS5UsRPyA4s0lTbAQr6Qofz+AeTg\n",
       "CK7ejRxyAISENKeL/c93AAAAAElFTkSuQmCC\n",
       "\" style=\"display:inline;vertical-align:middle;\" /></a>, <a class=\"ProveItLink\" href=\"../../ordering/__pv_it/theorems/d1323f34847310a404e8089c2c268d3c2eb89dbf0/expr.ipynb\"><img src=\"data:image/png;base64,iVBORw0KGgoAAAANSUhEUgAAADQAAAAQBAMAAACra0H4AAAAMFBMVEX///8AAAAAAAAAAAAAAAAA\n",
       "AAAAAAAAAAAAAAAAAAAAAAAAAAAAAAAAAAAAAAAAAAAv3aB7AAAAD3RSTlMAEHarMolUmd1mIs3v\n",
       "RLtmgJDEAAAACXBIWXMAAA7EAAAOxAGVKw4bAAAAyklEQVQY02NgwACce9797nnJgBXwcRnwWj7E\n",
       "IRXA8MAZp1QVN4qQXkfHBrgUH7LMbUUkXYbCQIaQskhoApDm2ohkIMuzXUBGAZMRewOQ5l6AkDrd\n",
       "3yQA9MUCzo/ME0BSSM6InAiylIWBHWw3g08HEDyAGvhwJliMRwFMySE73p1PAMS6v4ARRHMgS7F7\n",
       "AfXLXbBhYAUJMCkgSTE+0GRgyHesYbgGFtmGkCpgmMl3gUFcia0yASwi/FYAFvL/FvC9/oYcHFdf\n",
       "QAIKCgBACzQrtGfvLgAAAABJRU5ErkJggg==\n",
       "\" style=\"display:inline;vertical-align:middle;\" /></a>, <a class=\"ProveItLink\" href=\"../__pv_it/demonstrations/4754e503f1b9bbcdbc3766185915ea4595df3b130/expr.ipynb\"><img src=\"data:image/png;base64,iVBORw0KGgoAAAANSUhEUgAAADIAAAAOBAMAAACfqVJUAAAAMFBMVEX///8AAAAAAAAAAAAAAAAA\n",
       "AAAAAAAAAAAAAAAAAAAAAAAAAAAAAAAAAAAAAAAAAAAv3aB7AAAAD3RSTlMAIquJdkTvuxBmmd1U\n",
       "zTKBpmoTAAAACXBIWXMAAA7EAAAOxAGVKw4bAAAAqElEQVQY02NgIBLwXMQhwbmrAYnHqOzoAGWy\n",
       "bIZIcLhoPLZhYAgTYP8BkWjeAlXBxeDksJqBI5OBawOYL7UTZsxEhvkNmgxcHxi4DUBcpjtwCx4w\n",
       "rAWSbAUM/QFoMgwMKUDc78AwnwHNNAbWjwwdDP0HGHR5BFBcwFHKlMBgwMDuwLOLC6q0ZQvY1Tz/\n",
       "uhJYDzBwqNgJ+cF9CvYQxxKHU3MwAuEiEUEIAJqZJcgWZ+RPAAAAAElFTkSuQmCC\n",
       "\" style=\"display:inline;vertical-align:middle;\" /></a>, <a class=\"ProveItLink\" href=\"../__pv_it/demonstrations/40fa4e3b274cbd6160ddd632a9c3fd20af2d35190/expr.ipynb\"><img src=\"data:image/png;base64,iVBORw0KGgoAAAANSUhEUgAAADEAAAASBAMAAAAAiiu3AAAAMFBMVEX///8AAAAAAAAAAAAAAAAA\n",
       "AAAAAAAAAAAAAAAAAAAAAAAAAAAAAAAAAAAAAAAAAAAv3aB7AAAAD3RSTlMAEHaZZquJVO8y3btE\n",
       "zSKD2s2pAAAACXBIWXMAAA7EAAAOxAGVKw4bAAAAz0lEQVQY02NgwAbSlB9gFWfgLWBch13Gi4Eh\n",
       "G4kr6wBnbmVgqBdAyDBmKcCYnxkY5hcwMCo7MIhCBLQSoWpAMg4MbOwNDP4w8w3BFN83oIwCw3Tm\n",
       "BQzRMGNq7eAyCQwCHAoMTXDLzgaCTAPKnAdael6A8ydCZiPUBfUFDAy2DEwNcNPiwNRuBgZ/AZDj\n",
       "uQNgLrCD0B4g9QwMpgznHVBdzcBVwNgJpEST7MHBx6gF9ymjmeoEMCMXTEo5oIUe2wXGduzhyqXA\n",
       "moBdht3JBrsEAEESKGaXRTYlAAAAAElFTkSuQmCC\n",
       "\" style=\"display:inline;vertical-align:middle;\" /></a> <a class=\"ProveItLink\" href=\"../__pv_it/demonstrations/6a5d232cbc33c442c75213cb0eae64c0eac5e63e0/proof.ipynb\" style=\"text-decoration: none\">&nbsp;&#x22A2;&nbsp;&nbsp;</a><a class=\"ProveItLink\" href=\"../__pv_it/demonstrations/dc7659cb5d082b6bee147ad5edb8ed22e728cba50/expr.ipynb\"><img src=\"data:image/png;base64,iVBORw0KGgoAAAANSUhEUgAAADgAAAApBAMAAACSIvcTAAAAMFBMVEX///8AAAAAAAAAAAAAAAAA\n",
       "AAAAAAAAAAAAAAAAAAAAAAAAAAAAAAAAAAAAAAAAAAAv3aB7AAAAD3RSTlMAIquJdkTvuxBmmd1U\n",
       "zTKBpmoTAAAACXBIWXMAAA7EAAAOxAGVKw4bAAABIklEQVQ4y2NgYFR2dGDAAC1OfcYHGBjCBNh/\n",
       "YEouYFHh2sDAkckAJNEBpwDnD6YJDFwfGLgNMCT5GLguACm2Aob+AExjGdhADul3YJiPRY4hXoCj\n",
       "gaH/AIMujwC6VHuAGgMzAwO7A88uLgx9518sY4hhYOBQsRPyw5DscuFZeYCBToDnIm45zl0NOOVY\n",
       "NuOWa96C20ypnegi/0HgA4jFdAdN9D+SMmRJYowl1kHAZLWlAY8s52a8shcZBhhweE1gaMIlysyT\n",
       "gCXhQkXfAHOKOoYkVLQBmO5TMCRhovENfP+w5AaI6FoGlgRMSahoEQO7AqYkVHQRQ/wETEmoaJPJ\n",
       "egFMSbioLdbQAYkyX+DIwZSBinI7MGEWCTBRnilLsWUZsCgAnAlPq8AEbHAAAAAASUVORK5CYII=\n",
       "\" style=\"display:inline;vertical-align:middle;\" /></a></span>"
      ],
      "text/plain": [
       "{y in Real, a in Real, x in Real, a < x, y > 0} |- (a / y) < (x / y)"
      ]
     },
     "metadata": {},
     "output_type": "display_data"
    }
   ],
   "source": [
    "relation = Less(a, x)\n",
    "frac(a, y).deduce_bound(relation, assumptions=assumptions+[relation])"
   ]
  },
  {
   "cell_type": "code",
   "execution_count": 57,
   "metadata": {},
   "outputs": [
    {
     "data": {
      "text/html": [
       "<span style=\"font-size:20px;\"><a class=\"ProveItLink\" href=\"../../ordering/__pv_it/theorems/5d76fdd975252a644e3e1cb067a357f9a9c8486a0/expr.ipynb\"><img src=\"data:image/png;base64,iVBORw0KGgoAAAANSUhEUgAAADMAAAATBAMAAADPIygvAAAAMFBMVEX///8AAAAAAAAAAAAAAAAA\n",
       "AAAAAAAAAAAAAAAAAAAAAAAAAAAAAAAAAAAAAAAAAAAv3aB7AAAAD3RSTlMAEHaZZquJVO8y3btE\n",
       "zSKD2s2pAAAACXBIWXMAAA7EAAAOxAGVKw4bAAAA4ElEQVQoz2NgwAC+3ftvdTswYAUbnjIc9RbA\n",
       "LvWMgZszAJcU84MLKELaq1ZdgEttQJY5q4jQxSoINJBR2YFBFCTAdxHJwNm1DxgY2NgbGPxBArwP\n",
       "4FIvbv0CmTCdeQFDNFgKyRkusiBagEOBoQnEmLEKCDZApLhFwF4+L8D5E0RLI+niNNgIYtgyMDWA\n",
       "aC5kf1m+BjG2MnCDfc6kgCQlzQQy0ZThPCQsr8OlHjOwOOwBMkST7CHOFt0jAAv5fQy77xeA2LlQ\n",
       "1cd2rUIJObYLjO3Y44aBS4E1AYcUu5MNDhkADGJEjCMFBEsAAAAASUVORK5CYII=\n",
       "\" style=\"display:inline;vertical-align:middle;\" /></a>, <a class=\"ProveItLink\" href=\"../../ordering/__pv_it/theorems/d1323f34847310a404e8089c2c268d3c2eb89dbf0/expr.ipynb\"><img src=\"data:image/png;base64,iVBORw0KGgoAAAANSUhEUgAAADQAAAAQBAMAAACra0H4AAAAMFBMVEX///8AAAAAAAAAAAAAAAAA\n",
       "AAAAAAAAAAAAAAAAAAAAAAAAAAAAAAAAAAAAAAAAAAAv3aB7AAAAD3RSTlMAEHarMolUmd1mIs3v\n",
       "RLtmgJDEAAAACXBIWXMAAA7EAAAOxAGVKw4bAAAAyklEQVQY02NgwACce9797nnJgBXwcRnwWj7E\n",
       "IRXA8MAZp1QVN4qQXkfHBrgUH7LMbUUkXYbCQIaQskhoApDm2ohkIMuzXUBGAZMRewOQ5l6AkDrd\n",
       "3yQA9MUCzo/ME0BSSM6InAiylIWBHWw3g08HEDyAGvhwJliMRwFMySE73p1PAMS6v4ARRHMgS7F7\n",
       "AfXLXbBhYAUJMCkgSTE+0GRgyHesYbgGFtmGkCpgmMl3gUFcia0yASwi/FYAFvL/FvC9/oYcHFdf\n",
       "QAIKCgBACzQrtGfvLgAAAABJRU5ErkJggg==\n",
       "\" style=\"display:inline;vertical-align:middle;\" /></a>, <a class=\"ProveItLink\" href=\"../../ordering/__pv_it/theorems/4aa8d696b1f407d6126de9f51a052e8d90e0848c0/expr.ipynb\"><img src=\"data:image/png;base64,iVBORw0KGgoAAAANSUhEUgAAADMAAAAQBAMAAABJt1qBAAAAMFBMVEX///8AAAAAAAAAAAAAAAAA\n",
       "AAAAAAAAAAAAAAAAAAAAAAAAAAAAAAAAAAAAAAAAAAAv3aB7AAAAD3RSTlMAIquJdkTvuxBmmd1U\n",
       "zTKBpmoTAAAACXBIWXMAAA7EAAAOxAGVKw4bAAAAzElEQVQY02NgwABz0+tvp09gwAoKhBiCpjdg\n",
       "lxJmYOdTwCXFJXABRch99+4LcKkCZJlYD4Qupg6QgYzKjg4gAcYbSAY+PysAZIQJsP8ACfAKwKXE\n",
       "bv8GmcCRycC1ASyF5IyZvSCa6wMDtwGI8Ww3EBRApNg7QV5mK2DoDwAJtCPp4ltQAaT7HRjmgwW4\n",
       "kf21ThwkdYBBlwfkAhYHJKl2FqCJ7A48u7jAInfgUlIMnBNKgS5UsRPyA4s0lTbAQr6Qofz+AeTg\n",
       "CK7ejRxyAISENKeL/c93AAAAAElFTkSuQmCC\n",
       "\" style=\"display:inline;vertical-align:middle;\" /></a>, <a class=\"ProveItLink\" href=\"../__pv_it/demonstrations/0c635a836c670db444fe3d06a0b3010098a1be2f0/expr.ipynb\"><img src=\"data:image/png;base64,iVBORw0KGgoAAAANSUhEUgAAADIAAAAQBAMAAACmdTG/AAAAMFBMVEX///8AAAAAAAAAAAAAAAAA\n",
       "AAAAAAAAAAAAAAAAAAAAAAAAAAAAAAAAAAAAAAAAAAAv3aB7AAAAD3RSTlMAIquJdkTvuxBmmd1U\n",
       "zTKBpmoTAAAACXBIWXMAAA7EAAAOxAGVKw4bAAAAqElEQVQY02NggIHeCQw4AIe1Ay4pBm8LnFKz\n",
       "UaUYlR3hxpxdCDHYReOxDQNDmAD7D7iyWA0QycXg5LCagSOTgWsDQqYCRE5kmN+gycD1gYHbAG6a\n",
       "Iph6wLAWSLIVMPQHwFywAqYkBYj7HRjmY7ia9SNDB0P/AQZdHgEUn3KUMiUwGDCwO/Ds4kINHZ5/\n",
       "XQmsBxg4VOyE/NDCaYnDqTkMlIHu3SCwD84HAIh+J9U/VJ4wAAAAAElFTkSuQmCC\n",
       "\" style=\"display:inline;vertical-align:middle;\" /></a>, <a class=\"ProveItLink\" href=\"../__pv_it/demonstrations/40fa4e3b274cbd6160ddd632a9c3fd20af2d35190/expr.ipynb\"><img src=\"data:image/png;base64,iVBORw0KGgoAAAANSUhEUgAAADEAAAASBAMAAAAAiiu3AAAAMFBMVEX///8AAAAAAAAAAAAAAAAA\n",
       "AAAAAAAAAAAAAAAAAAAAAAAAAAAAAAAAAAAAAAAAAAAv3aB7AAAAD3RSTlMAEHaZZquJVO8y3btE\n",
       "zSKD2s2pAAAACXBIWXMAAA7EAAAOxAGVKw4bAAAAz0lEQVQY02NgwAbSlB9gFWfgLWBch13Gi4Eh\n",
       "G4kr6wBnbmVgqBdAyDBmKcCYnxkY5hcwMCo7MIhCBLQSoWpAMg4MbOwNDP4w8w3BFN83oIwCw3Tm\n",
       "BQzRMGNq7eAyCQwCHAoMTXDLzgaCTAPKnAdael6A8ydCZiPUBfUFDAy2DEwNcNPiwNRuBgZ/AZDj\n",
       "uQNgLrCD0B4g9QwMpgznHVBdzcBVwNgJpEST7MHBx6gF9ymjmeoEMCMXTEo5oIUe2wXGduzhyqXA\n",
       "moBdht3JBrsEAEESKGaXRTYlAAAAAElFTkSuQmCC\n",
       "\" style=\"display:inline;vertical-align:middle;\" /></a> <a class=\"ProveItLink\" href=\"../__pv_it/demonstrations/a890059a59c59d764ffca2c7bd38a83185cb7b8a0/proof.ipynb\" style=\"text-decoration: none\">&nbsp;&#x22A2;&nbsp;&nbsp;</a><a class=\"ProveItLink\" href=\"../__pv_it/demonstrations/07dae2f10d4bf2f298c8b9b731b1a4cdd8f67b0e0/expr.ipynb\"><img src=\"data:image/png;base64,iVBORw0KGgoAAAANSUhEUgAAADgAAAApBAMAAACSIvcTAAAAMFBMVEX///8AAAAAAAAAAAAAAAAA\n",
       "AAAAAAAAAAAAAAAAAAAAAAAAAAAAAAAAAAAAAAAAAAAv3aB7AAAAD3RSTlMAIquJdkTvuxBmmd1U\n",
       "zTKBpmoTAAAACXBIWXMAAA7EAAAOxAGVKw4bAAABIklEQVQ4y2NgYFR2dGDAAC1OfcYHGBjCBNh/\n",
       "YEouYFHh2sDAkckAJNEBpwDnD6YJDFwfGLgNMCT5GLguACm2Aob+AExjGdhADul3YJiPRY4hXoCj\n",
       "gaH/AIMujwC6VHuAGgMzAwO7A88uLgx9518sY4hhYOBQsRPyw5DscuFZeYCBWNA7AY8kh7UDPr3e\n",
       "FvhkZ+OVPbsQn2ysBj7JCmTefxD4ADdWEUn0P5qDVpDlFbyBgDf4aAS6d4PAPuoYxuE1gaEJlygz\n",
       "TwKWhAsVfQPMKeoYklDRBmC6T8GQhInGN/D9w5IbIKJrGVgSMCWhokUM7AqYklDRRQzxWKIDKtpk\n",
       "sl4AUxIuaos1dECizBc4cjBloKLcDkyYRQJMlGfKUixmQkQBMmhRuJIQe6wAAAAASUVORK5CYII=\n",
       "\" style=\"display:inline;vertical-align:middle;\" /></a></span>"
      ],
      "text/plain": [
       "{y in Real, x in Real, a in Real, a >= x, y > 0} |- (a / y) >= (x / y)"
      ]
     },
     "metadata": {},
     "output_type": "display_data"
    }
   ],
   "source": [
    "relation = greater_eq(a, x)\n",
    "frac(a, y).deduce_bound(relation, assumptions=assumptions+[relation])"
   ]
  },
  {
   "cell_type": "code",
   "execution_count": 58,
   "metadata": {},
   "outputs": [
    {
     "data": {
      "text/html": [
       "<span style=\"font-size:20px;\"><a class=\"ProveItLink\" href=\"../../ordering/__pv_it/theorems/5d76fdd975252a644e3e1cb067a357f9a9c8486a0/expr.ipynb\"><img src=\"data:image/png;base64,iVBORw0KGgoAAAANSUhEUgAAADMAAAATBAMAAADPIygvAAAAMFBMVEX///8AAAAAAAAAAAAAAAAA\n",
       "AAAAAAAAAAAAAAAAAAAAAAAAAAAAAAAAAAAAAAAAAAAv3aB7AAAAD3RSTlMAEHaZZquJVO8y3btE\n",
       "zSKD2s2pAAAACXBIWXMAAA7EAAAOxAGVKw4bAAAA4ElEQVQoz2NgwAC+3ftvdTswYAUbnjIc9RbA\n",
       "LvWMgZszAJcU84MLKELaq1ZdgEttQJY5q4jQxSoINJBR2YFBFCTAdxHJwNm1DxgY2NgbGPxBArwP\n",
       "4FIvbv0CmTCdeQFDNFgKyRkusiBagEOBoQnEmLEKCDZApLhFwF4+L8D5E0RLI+niNNgIYtgyMDWA\n",
       "aC5kf1m+BjG2MnCDfc6kgCQlzQQy0ZThPCQsr8OlHjOwOOwBMkST7CHOFt0jAAv5fQy77xeA2LlQ\n",
       "1cd2rUIJObYLjO3Y44aBS4E1AYcUu5MNDhkADGJEjCMFBEsAAAAASUVORK5CYII=\n",
       "\" style=\"display:inline;vertical-align:middle;\" /></a>, <a class=\"ProveItLink\" href=\"../../ordering/__pv_it/theorems/4aa8d696b1f407d6126de9f51a052e8d90e0848c0/expr.ipynb\"><img src=\"data:image/png;base64,iVBORw0KGgoAAAANSUhEUgAAADMAAAAQBAMAAABJt1qBAAAAMFBMVEX///8AAAAAAAAAAAAAAAAA\n",
       "AAAAAAAAAAAAAAAAAAAAAAAAAAAAAAAAAAAAAAAAAAAv3aB7AAAAD3RSTlMAIquJdkTvuxBmmd1U\n",
       "zTKBpmoTAAAACXBIWXMAAA7EAAAOxAGVKw4bAAAAzElEQVQY02NgwABz0+tvp09gwAoKhBiCpjdg\n",
       "lxJmYOdTwCXFJXABRch99+4LcKkCZJlYD4Qupg6QgYzKjg4gAcYbSAY+PysAZIQJsP8ACfAKwKXE\n",
       "bv8GmcCRycC1ASyF5IyZvSCa6wMDtwGI8Ww3EBRApNg7QV5mK2DoDwAJtCPp4ltQAaT7HRjmgwW4\n",
       "kf21ThwkdYBBlwfkAhYHJKl2FqCJ7A48u7jAInfgUlIMnBNKgS5UsRPyA4s0lTbAQr6Qofz+AeTg\n",
       "CK7ejRxyAISENKeL/c93AAAAAElFTkSuQmCC\n",
       "\" style=\"display:inline;vertical-align:middle;\" /></a>, <a class=\"ProveItLink\" href=\"../../ordering/__pv_it/theorems/d1323f34847310a404e8089c2c268d3c2eb89dbf0/expr.ipynb\"><img src=\"data:image/png;base64,iVBORw0KGgoAAAANSUhEUgAAADQAAAAQBAMAAACra0H4AAAAMFBMVEX///8AAAAAAAAAAAAAAAAA\n",
       "AAAAAAAAAAAAAAAAAAAAAAAAAAAAAAAAAAAAAAAAAAAv3aB7AAAAD3RSTlMAEHarMolUmd1mIs3v\n",
       "RLtmgJDEAAAACXBIWXMAAA7EAAAOxAGVKw4bAAAAyklEQVQY02NgwACce9797nnJgBXwcRnwWj7E\n",
       "IRXA8MAZp1QVN4qQXkfHBrgUH7LMbUUkXYbCQIaQskhoApDm2ohkIMuzXUBGAZMRewOQ5l6AkDrd\n",
       "3yQA9MUCzo/ME0BSSM6InAiylIWBHWw3g08HEDyAGvhwJliMRwFMySE73p1PAMS6v4ARRHMgS7F7\n",
       "AfXLXbBhYAUJMCkgSTE+0GRgyHesYbgGFtmGkCpgmMl3gUFcia0yASwi/FYAFvL/FvC9/oYcHFdf\n",
       "QAIKCgBACzQrtGfvLgAAAABJRU5ErkJggg==\n",
       "\" style=\"display:inline;vertical-align:middle;\" /></a>, <a class=\"ProveItLink\" href=\"../__pv_it/demonstrations/937300339897af3199776e5b4c6e80fc405fcc410/expr.ipynb\"><img src=\"data:image/png;base64,iVBORw0KGgoAAAANSUhEUgAAADIAAAAQBAMAAACmdTG/AAAAMFBMVEX///8AAAAAAAAAAAAAAAAA\n",
       "AAAAAAAAAAAAAAAAAAAAAAAAAAAAAAAAAAAAAAAAAAAv3aB7AAAAD3RSTlMAIquJdkTvuxBmmd1U\n",
       "zTKBpmoTAAAACXBIWXMAAA7EAAAOxAGVKw4bAAAAqUlEQVQY02NgQAE8FxmwA85dDdglWDbjkGje\n",
       "gspnVHZ0ADO6dsKEOFw0HtswMIQJsP8AcZvuwBVzMTg5rGbgyGTg2gDiMiFkJjLMb9Bk4PrAwG0A\n",
       "5kvBTXvAsBZIshUw9AdguCAFiPsdGOZjuJr1I0MHQ/8BBl0eARSfcpQyJTAYMLA78OziQoTOPRDx\n",
       "ryuB9QADh4qdkB+qDzmWOJyaw0AZ6N4NAvvgfAAWXCs+lLCGtQAAAABJRU5ErkJggg==\n",
       "\" style=\"display:inline;vertical-align:middle;\" /></a>, <a class=\"ProveItLink\" href=\"../__pv_it/demonstrations/40fa4e3b274cbd6160ddd632a9c3fd20af2d35190/expr.ipynb\"><img src=\"data:image/png;base64,iVBORw0KGgoAAAANSUhEUgAAADEAAAASBAMAAAAAiiu3AAAAMFBMVEX///8AAAAAAAAAAAAAAAAA\n",
       "AAAAAAAAAAAAAAAAAAAAAAAAAAAAAAAAAAAAAAAAAAAv3aB7AAAAD3RSTlMAEHaZZquJVO8y3btE\n",
       "zSKD2s2pAAAACXBIWXMAAA7EAAAOxAGVKw4bAAAAz0lEQVQY02NgwAbSlB9gFWfgLWBch13Gi4Eh\n",
       "G4kr6wBnbmVgqBdAyDBmKcCYnxkY5hcwMCo7MIhCBLQSoWpAMg4MbOwNDP4w8w3BFN83oIwCw3Tm\n",
       "BQzRMGNq7eAyCQwCHAoMTXDLzgaCTAPKnAdael6A8ydCZiPUBfUFDAy2DEwNcNPiwNRuBgZ/AZDj\n",
       "uQNgLrCD0B4g9QwMpgznHVBdzcBVwNgJpEST7MHBx6gF9ymjmeoEMCMXTEo5oIUe2wXGduzhyqXA\n",
       "moBdht3JBrsEAEESKGaXRTYlAAAAAElFTkSuQmCC\n",
       "\" style=\"display:inline;vertical-align:middle;\" /></a> <a class=\"ProveItLink\" href=\"../__pv_it/demonstrations/feb276e15495c920f71d05d75cfa3261cec191ce0/proof.ipynb\" style=\"text-decoration: none\">&nbsp;&#x22A2;&nbsp;&nbsp;</a><a class=\"ProveItLink\" href=\"../__pv_it/demonstrations/83702b9bad4d18de4fbca3581131779b7a7755ed0/expr.ipynb\"><img src=\"data:image/png;base64,iVBORw0KGgoAAAANSUhEUgAAADgAAAApBAMAAACSIvcTAAAAMFBMVEX///8AAAAAAAAAAAAAAAAA\n",
       "AAAAAAAAAAAAAAAAAAAAAAAAAAAAAAAAAAAAAAAAAAAv3aB7AAAAD3RSTlMAIquJdkTvuxBmmd1U\n",
       "zTKBpmoTAAAACXBIWXMAAA7EAAAOxAGVKw4bAAABKElEQVQ4y2NgYFR2dGDAAC1OfcYHGBjCBNh/\n",
       "YEouYFHh2sDAkckAJNEBpwDnD6YJDFwfGLgNMCT5GLguACm2Aob+AExjGdhADul3YJiPRY4hXoCj\n",
       "gaH/AIMujwC6VHuAGgMzAwO7A88uLgx9518sY4hhYOBQsRPyw5DscuFZeYCBJMBzEbcc564GnHIs\n",
       "m3HLNW/BbWbXTtxyTXfwOJQJU/I/CHwAM6V2oor+J9pB+L2CPxCAwXePgZ6gezcI7KOOYRxeExia\n",
       "cIky8yRgSbhQ0TfAnKKOIQkVbQCm+xQMSZhofAPfPyy5ASK6loElAVMSKlrEwK6AKQkVXcQQPwFT\n",
       "EiraZLJeAEtqg4naYg0dkCjzBY4cTBmoKLcDE2aRABPlmbIUW2oBiwIA92BVIaIh34cAAAAASUVO\n",
       "RK5CYII=\n",
       "\" style=\"display:inline;vertical-align:middle;\" /></a></span>"
      ],
      "text/plain": [
       "{y in Real, a in Real, x in Real, a <= x, y > 0} |- (a / y) <= (x / y)"
      ]
     },
     "metadata": {},
     "output_type": "display_data"
    }
   ],
   "source": [
    "relation = LessEq(a, x)\n",
    "frac(a, y).deduce_bound(relation, assumptions=assumptions+[relation])"
   ]
  },
  {
   "cell_type": "markdown",
   "metadata": {},
   "source": [
    "Bound by the numerator with a negative denominator"
   ]
  },
  {
   "cell_type": "code",
   "execution_count": 59,
   "metadata": {},
   "outputs": [
    {
     "data": {
      "text/html": [
       "<span style=\"font-size:20px;\"><a class=\"ProveItLink\" href=\"../__pv_it/demonstrations/41c3ad9f29c40b69fd61c49f41684c1b813e9e850/expr.ipynb\"><img src=\"data:image/png;base64,iVBORw0KGgoAAAANSUhEUgAAADMAAAAQBAMAAABJt1qBAAAAMFBMVEX///8AAAAAAAAAAAAAAAAA\n",
       "AAAAAAAAAAAAAAAAAAAAAAAAAAAAAAAAAAAAAAAAAAAv3aB7AAAAD3RSTlMAMs3vmVREEIndIqt2\n",
       "u2aBbGR5AAAACXBIWXMAAA7EAAAOxAGVKw4bAAAA3klEQVQY02NgwACPbO9r2j6AsBmVHVDkLqxm\n",
       "yH5bAGHzB6BKrWDgZdwAYecXoEuxLFCAsDsh1NmZMxXgUhcgYipgMuk4Qhd3OchArh0Hv4IEuNSR\n",
       "DJQNWgBkJC/g/Q4SYFoAl1qs+RNkArsdAwvYBiYkZ7wrAtEsHxg4G0AM4ZlAcAEixVsH8jLzBYb6\n",
       "BJBALZIuRofrQLr+AMN7sAAnsr8c14KkAhg2sYJcwHMASaqWB2gi7wHWKSxgEVW41BIGvgfXgC7c\n",
       "07j6IFik+loBLORvMdzVRwnXjJszFZC4AHM6StvnxMwUAAAAAElFTkSuQmCC\n",
       "\" style=\"display:inline;vertical-align:middle;\" /></a>, <a class=\"ProveItLink\" href=\"../../ordering/__pv_it/theorems/d1323f34847310a404e8089c2c268d3c2eb89dbf0/expr.ipynb\"><img src=\"data:image/png;base64,iVBORw0KGgoAAAANSUhEUgAAADQAAAAQBAMAAACra0H4AAAAMFBMVEX///8AAAAAAAAAAAAAAAAA\n",
       "AAAAAAAAAAAAAAAAAAAAAAAAAAAAAAAAAAAAAAAAAAAv3aB7AAAAD3RSTlMAEHarMolUmd1mIs3v\n",
       "RLtmgJDEAAAACXBIWXMAAA7EAAAOxAGVKw4bAAAAyklEQVQY02NgwACce9797nnJgBXwcRnwWj7E\n",
       "IRXA8MAZp1QVN4qQXkfHBrgUH7LMbUUkXYbCQIaQskhoApDm2ohkIMuzXUBGAZMRewOQ5l6AkDrd\n",
       "3yQA9MUCzo/ME0BSSM6InAiylIWBHWw3g08HEDyAGvhwJliMRwFMySE73p1PAMS6v4ARRHMgS7F7\n",
       "AfXLXbBhYAUJMCkgSTE+0GRgyHesYbgGFtmGkCpgmMl3gUFcia0yASwi/FYAFvL/FvC9/oYcHFdf\n",
       "QAIKCgBACzQrtGfvLgAAAABJRU5ErkJggg==\n",
       "\" style=\"display:inline;vertical-align:middle;\" /></a>, <a class=\"ProveItLink\" href=\"../../ordering/__pv_it/theorems/4aa8d696b1f407d6126de9f51a052e8d90e0848c0/expr.ipynb\"><img src=\"data:image/png;base64,iVBORw0KGgoAAAANSUhEUgAAADMAAAAQBAMAAABJt1qBAAAAMFBMVEX///8AAAAAAAAAAAAAAAAA\n",
       "AAAAAAAAAAAAAAAAAAAAAAAAAAAAAAAAAAAAAAAAAAAv3aB7AAAAD3RSTlMAIquJdkTvuxBmmd1U\n",
       "zTKBpmoTAAAACXBIWXMAAA7EAAAOxAGVKw4bAAAAzElEQVQY02NgwABz0+tvp09gwAoKhBiCpjdg\n",
       "lxJmYOdTwCXFJXABRch99+4LcKkCZJlYD4Qupg6QgYzKjg4gAcYbSAY+PysAZIQJsP8ACfAKwKXE\n",
       "bv8GmcCRycC1ASyF5IyZvSCa6wMDtwGI8Ww3EBRApNg7QV5mK2DoDwAJtCPp4ltQAaT7HRjmgwW4\n",
       "kf21ThwkdYBBlwfkAhYHJKl2FqCJ7A48u7jAInfgUlIMnBNKgS5UsRPyA4s0lTbAQr6Qofz+AeTg\n",
       "CK7ejRxyAISENKeL/c93AAAAAElFTkSuQmCC\n",
       "\" style=\"display:inline;vertical-align:middle;\" /></a>, <a class=\"ProveItLink\" href=\"../__pv_it/demonstrations/d2a7966a0ecdbabf7c84da52ab0220ff0e97e5820/expr.ipynb\"><img src=\"data:image/png;base64,iVBORw0KGgoAAAANSUhEUgAAADIAAAAOBAMAAACfqVJUAAAAMFBMVEX///8AAAAAAAAAAAAAAAAA\n",
       "AAAAAAAAAAAAAAAAAAAAAAAAAAAAAAAAAAAAAAAAAAAv3aB7AAAAD3RSTlMAIquJdkTvuxBmmd1U\n",
       "zTKBpmoTAAAACXBIWXMAAA7EAAAOxAGVKw4bAAAAp0lEQVQY02NgIAx6J+CS4bB2QBNhVHaECnlb\n",
       "wBS5aDy2YWAIE2D/ARWZvQJCczE4Oaxm4Mhk4NoA0392IZiayDC/QZOB6wMDtwHc6FgNEPmAYS2Q\n",
       "ZCtg6A9AyFRA6BQg7ndgmA+XOKsIoVk/MnQw9B9g0OURgLoAYg1HKVMCgwEDuwPPLi5UV/P860pg\n",
       "PcDAoWIn5AdW6Q3zKccSh1NzkHzcPYGBSAAAHegjXMyIrKsAAAAASUVORK5CYII=\n",
       "\" style=\"display:inline;vertical-align:middle;\" /></a>, <a class=\"ProveItLink\" href=\"../__pv_it/demonstrations/fe553994aca4dec5c87cf7a983cda9b2748426220/expr.ipynb\"><img src=\"data:image/png;base64,iVBORw0KGgoAAAANSUhEUgAAADEAAAAQBAMAAABNQoq8AAAAMFBMVEX///8AAAAAAAAAAAAAAAAA\n",
       "AAAAAAAAAAAAAAAAAAAAAAAAAAAAAAAAAAAAAAAAAAAv3aB7AAAAD3RSTlMAMs3vmVREEIndIqt2\n",
       "u2aBbGR5AAAACXBIWXMAAA7EAAAOxAGVKw4bAAAA1ElEQVQY02NgYGBgVHZgQAUdRxZAGPwBqBJM\n",
       "AeyzIKz8AlSZlwwMvRBWJ1yMVQtE3mZgiIcoVoFJ8E0BC3xhYJAHWsC14+BXqATPDLAEO0jmAQND\n",
       "8gLe7xCJijkQmusHUOYAA7sdA4sCWGDJPAYkmQYGlg8MnA0gPrcqzDZ2oEz+AQbmCwz1CagyIBfE\n",
       "BzDUH2B4z4BqGsNdBob3BQz1AQybWBeguIDhMQODEwMD7wHWKSxQkZo5EP9xBrAbAq3b07j6INyn\n",
       "UA95nBZAC2MGPi0GwgAANusy1xQ5C+gAAAAASUVORK5CYII=\n",
       "\" style=\"display:inline;vertical-align:middle;\" /></a> <a class=\"ProveItLink\" href=\"../__pv_it/demonstrations/9e5804b36d1bacdad6c1f4963d7a310f6737b3b60/proof.ipynb\" style=\"text-decoration: none\">&nbsp;&#x22A2;&nbsp;&nbsp;</a><a class=\"ProveItLink\" href=\"../__pv_it/demonstrations/8cfbaca9f9f22d9d848f99c7818a52b1eb2519350/expr.ipynb\"><img src=\"data:image/png;base64,iVBORw0KGgoAAAANSUhEUgAAADgAAAAlBAMAAADl4DdoAAAAMFBMVEX///8AAAAAAAAAAAAAAAAA\n",
       "AAAAAAAAAAAAAAAAAAAAAAAAAAAAAAAAAAAAAAAAAAAv3aB7AAAAD3RSTlMAIquJdkTvuxBmmd1U\n",
       "zTKBpmoTAAAACXBIWXMAAA7EAAAOxAGVKw4bAAABBUlEQVQ4y2NgYFR2dGDAAC1OfcYHGBjCBNh/\n",
       "YEouYFHh2sDAkckAJNEBpwDnD6YJDFwfGLgNMCT5GLguACm2Aob+AExjGdhADul3YJiPRY4hXoCj\n",
       "gaH/AIMujwC6VHuAGgMzAwO7A88uLgx9518sY4hhYOBQsRPyw5DscuFZeYCBToDnIm45zl0NOOVY\n",
       "NuOWa96C20ypnegi/0HgA4jFdAdN9D+SMmRJYowl1kHAZLWlAY8sJ4ZH+a4tQMheRBflxxp1UNF4\n",
       "rDZBRa2x2g8VvYVVEiTKqOz3B1MGKoo9r0BEQXnlAoYcVBR7XoGKYs8rUFHseQUqij2vQEWx5xWo\n",
       "KPa8AhEFALRmUMPSPdmKAAAAAElFTkSuQmCC\n",
       "\" style=\"display:inline;vertical-align:middle;\" /></a></span>"
      ],
      "text/plain": [
       "{d in Real, x in Real, a in Real, a > x, d < 0} |- (a / d) < (x / d)"
      ]
     },
     "metadata": {},
     "output_type": "display_data"
    }
   ],
   "source": [
    "relation = greater(a, x)\n",
    "frac(a, d).deduce_bound(relation, assumptions=assumptions+[relation])"
   ]
  },
  {
   "cell_type": "code",
   "execution_count": 60,
   "metadata": {},
   "outputs": [
    {
     "data": {
      "text/html": [
       "<span style=\"font-size:20px;\"><a class=\"ProveItLink\" href=\"../__pv_it/demonstrations/41c3ad9f29c40b69fd61c49f41684c1b813e9e850/expr.ipynb\"><img src=\"data:image/png;base64,iVBORw0KGgoAAAANSUhEUgAAADMAAAAQBAMAAABJt1qBAAAAMFBMVEX///8AAAAAAAAAAAAAAAAA\n",
       "AAAAAAAAAAAAAAAAAAAAAAAAAAAAAAAAAAAAAAAAAAAv3aB7AAAAD3RSTlMAMs3vmVREEIndIqt2\n",
       "u2aBbGR5AAAACXBIWXMAAA7EAAAOxAGVKw4bAAAA3klEQVQY02NgwACPbO9r2j6AsBmVHVDkLqxm\n",
       "yH5bAGHzB6BKrWDgZdwAYecXoEuxLFCAsDsh1NmZMxXgUhcgYipgMuk4Qhd3OchArh0Hv4IEuNSR\n",
       "DJQNWgBkJC/g/Q4SYFoAl1qs+RNkArsdAwvYBiYkZ7wrAtEsHxg4G0AM4ZlAcAEixVsH8jLzBYb6\n",
       "BJBALZIuRofrQLr+AMN7sAAnsr8c14KkAhg2sYJcwHMASaqWB2gi7wHWKSxgEVW41BIGvgfXgC7c\n",
       "07j6IFik+loBLORvMdzVRwnXjJszFZC4AHM6StvnxMwUAAAAAElFTkSuQmCC\n",
       "\" style=\"display:inline;vertical-align:middle;\" /></a>, <a class=\"ProveItLink\" href=\"../../ordering/__pv_it/theorems/4aa8d696b1f407d6126de9f51a052e8d90e0848c0/expr.ipynb\"><img src=\"data:image/png;base64,iVBORw0KGgoAAAANSUhEUgAAADMAAAAQBAMAAABJt1qBAAAAMFBMVEX///8AAAAAAAAAAAAAAAAA\n",
       "AAAAAAAAAAAAAAAAAAAAAAAAAAAAAAAAAAAAAAAAAAAv3aB7AAAAD3RSTlMAIquJdkTvuxBmmd1U\n",
       "zTKBpmoTAAAACXBIWXMAAA7EAAAOxAGVKw4bAAAAzElEQVQY02NgwABz0+tvp09gwAoKhBiCpjdg\n",
       "lxJmYOdTwCXFJXABRch99+4LcKkCZJlYD4Qupg6QgYzKjg4gAcYbSAY+PysAZIQJsP8ACfAKwKXE\n",
       "bv8GmcCRycC1ASyF5IyZvSCa6wMDtwGI8Ww3EBRApNg7QV5mK2DoDwAJtCPp4ltQAaT7HRjmgwW4\n",
       "kf21ThwkdYBBlwfkAhYHJKl2FqCJ7A48u7jAInfgUlIMnBNKgS5UsRPyA4s0lTbAQr6Qofz+AeTg\n",
       "CK7ejRxyAISENKeL/c93AAAAAElFTkSuQmCC\n",
       "\" style=\"display:inline;vertical-align:middle;\" /></a>, <a class=\"ProveItLink\" href=\"../../ordering/__pv_it/theorems/d1323f34847310a404e8089c2c268d3c2eb89dbf0/expr.ipynb\"><img src=\"data:image/png;base64,iVBORw0KGgoAAAANSUhEUgAAADQAAAAQBAMAAACra0H4AAAAMFBMVEX///8AAAAAAAAAAAAAAAAA\n",
       "AAAAAAAAAAAAAAAAAAAAAAAAAAAAAAAAAAAAAAAAAAAv3aB7AAAAD3RSTlMAEHarMolUmd1mIs3v\n",
       "RLtmgJDEAAAACXBIWXMAAA7EAAAOxAGVKw4bAAAAyklEQVQY02NgwACce9797nnJgBXwcRnwWj7E\n",
       "IRXA8MAZp1QVN4qQXkfHBrgUH7LMbUUkXYbCQIaQskhoApDm2ohkIMuzXUBGAZMRewOQ5l6AkDrd\n",
       "3yQA9MUCzo/ME0BSSM6InAiylIWBHWw3g08HEDyAGvhwJliMRwFMySE73p1PAMS6v4ARRHMgS7F7\n",
       "AfXLXbBhYAUJMCkgSTE+0GRgyHesYbgGFtmGkCpgmMl3gUFcia0yASwi/FYAFvL/FvC9/oYcHFdf\n",
       "QAIKCgBACzQrtGfvLgAAAABJRU5ErkJggg==\n",
       "\" style=\"display:inline;vertical-align:middle;\" /></a>, <a class=\"ProveItLink\" href=\"../__pv_it/demonstrations/4754e503f1b9bbcdbc3766185915ea4595df3b130/expr.ipynb\"><img src=\"data:image/png;base64,iVBORw0KGgoAAAANSUhEUgAAADIAAAAOBAMAAACfqVJUAAAAMFBMVEX///8AAAAAAAAAAAAAAAAA\n",
       "AAAAAAAAAAAAAAAAAAAAAAAAAAAAAAAAAAAAAAAAAAAv3aB7AAAAD3RSTlMAIquJdkTvuxBmmd1U\n",
       "zTKBpmoTAAAACXBIWXMAAA7EAAAOxAGVKw4bAAAAqElEQVQY02NgIBLwXMQhwbmrAYnHqOzoAGWy\n",
       "bIZIcLhoPLZhYAgTYP8BkWjeAlXBxeDksJqBI5OBawOYL7UTZsxEhvkNmgxcHxi4DUBcpjtwCx4w\n",
       "rAWSbAUM/QFoMgwMKUDc78AwnwHNNAbWjwwdDP0HGHR5BFBcwFHKlMBgwMDuwLOLC6q0ZQvY1Tz/\n",
       "uhJYDzBwqNgJ+cF9CvYQxxKHU3MwAuEiEUEIAJqZJcgWZ+RPAAAAAElFTkSuQmCC\n",
       "\" style=\"display:inline;vertical-align:middle;\" /></a>, <a class=\"ProveItLink\" href=\"../__pv_it/demonstrations/fe553994aca4dec5c87cf7a983cda9b2748426220/expr.ipynb\"><img src=\"data:image/png;base64,iVBORw0KGgoAAAANSUhEUgAAADEAAAAQBAMAAABNQoq8AAAAMFBMVEX///8AAAAAAAAAAAAAAAAA\n",
       "AAAAAAAAAAAAAAAAAAAAAAAAAAAAAAAAAAAAAAAAAAAv3aB7AAAAD3RSTlMAMs3vmVREEIndIqt2\n",
       "u2aBbGR5AAAACXBIWXMAAA7EAAAOxAGVKw4bAAAA1ElEQVQY02NgYGBgVHZgQAUdRxZAGPwBqBJM\n",
       "AeyzIKz8AlSZlwwMvRBWJ1yMVQtE3mZgiIcoVoFJ8E0BC3xhYJAHWsC14+BXqATPDLAEO0jmAQND\n",
       "8gLe7xCJijkQmusHUOYAA7sdA4sCWGDJPAYkmQYGlg8MnA0gPrcqzDZ2oEz+AQbmCwz1CagyIBfE\n",
       "BzDUH2B4z4BqGsNdBob3BQz1AQybWBeguIDhMQODEwMD7wHWKSxQkZo5EP9xBrAbAq3b07j6INyn\n",
       "UA95nBZAC2MGPi0GwgAANusy1xQ5C+gAAAAASUVORK5CYII=\n",
       "\" style=\"display:inline;vertical-align:middle;\" /></a> <a class=\"ProveItLink\" href=\"../__pv_it/demonstrations/893a0e08ae2ff37ddec9bc3aa55b9d4e91e7693e0/proof.ipynb\" style=\"text-decoration: none\">&nbsp;&#x22A2;&nbsp;&nbsp;</a><a class=\"ProveItLink\" href=\"../__pv_it/demonstrations/5598b9eb3a7db729029de2b56a39f314e85f38980/expr.ipynb\"><img src=\"data:image/png;base64,iVBORw0KGgoAAAANSUhEUgAAADgAAAAlBAMAAADl4DdoAAAAMFBMVEX///8AAAAAAAAAAAAAAAAA\n",
       "AAAAAAAAAAAAAAAAAAAAAAAAAAAAAAAAAAAAAAAAAAAv3aB7AAAAD3RSTlMAIquJdkTvuxBmmd1U\n",
       "zTKBpmoTAAAACXBIWXMAAA7EAAAOxAGVKw4bAAABB0lEQVQ4y2NgYFR2dGDAAC1OfcYHGBjCBNh/\n",
       "YEouYFHh2sDAkckAJNEBpwDnD6YJDFwfGLgNMCT5GLguACm2Aob+AExjGdhADul3YJiPRY4hXoCj\n",
       "gaH/AIMujwC6VHuAGgMzAwO7A88uLgx9518sY4hhYOBQsRPyw5DscuFZeYCB9qB3Ah5JDmsHfHq9\n",
       "LfDJzl6BT/bsQhTufxD4AOfGaiBE/6Nrja3AY6wiHgctJMsrHN7YAoHv2gIQ1T0BmygDP9aog4rG\n",
       "N2BNRRBRa6xugIrewioJEmVU9vuDKQMVxZ5XIKKgvHIB088QUex5BSqKPa9ARbHnFago9rwCFcWe\n",
       "V6Ci2PMKRBQAvpdOVwXrSvIAAAAASUVORK5CYII=\n",
       "\" style=\"display:inline;vertical-align:middle;\" /></a></span>"
      ],
      "text/plain": [
       "{d in Real, a in Real, x in Real, a < x, d < 0} |- (a / d) > (x / d)"
      ]
     },
     "metadata": {},
     "output_type": "display_data"
    }
   ],
   "source": [
    "relation = Less(a, x)\n",
    "frac(a, d).deduce_bound(relation, assumptions=assumptions+[relation])"
   ]
  },
  {
   "cell_type": "code",
   "execution_count": 61,
   "metadata": {},
   "outputs": [
    {
     "data": {
      "text/html": [
       "<span style=\"font-size:20px;\"><a class=\"ProveItLink\" href=\"../__pv_it/demonstrations/41c3ad9f29c40b69fd61c49f41684c1b813e9e850/expr.ipynb\"><img src=\"data:image/png;base64,iVBORw0KGgoAAAANSUhEUgAAADMAAAAQBAMAAABJt1qBAAAAMFBMVEX///8AAAAAAAAAAAAAAAAA\n",
       "AAAAAAAAAAAAAAAAAAAAAAAAAAAAAAAAAAAAAAAAAAAv3aB7AAAAD3RSTlMAMs3vmVREEIndIqt2\n",
       "u2aBbGR5AAAACXBIWXMAAA7EAAAOxAGVKw4bAAAA3klEQVQY02NgwACPbO9r2j6AsBmVHVDkLqxm\n",
       "yH5bAGHzB6BKrWDgZdwAYecXoEuxLFCAsDsh1NmZMxXgUhcgYipgMuk4Qhd3OchArh0Hv4IEuNSR\n",
       "DJQNWgBkJC/g/Q4SYFoAl1qs+RNkArsdAwvYBiYkZ7wrAtEsHxg4G0AM4ZlAcAEixVsH8jLzBYb6\n",
       "BJBALZIuRofrQLr+AMN7sAAnsr8c14KkAhg2sYJcwHMASaqWB2gi7wHWKSxgEVW41BIGvgfXgC7c\n",
       "07j6IFik+loBLORvMdzVRwnXjJszFZC4AHM6StvnxMwUAAAAAElFTkSuQmCC\n",
       "\" style=\"display:inline;vertical-align:middle;\" /></a>, <a class=\"ProveItLink\" href=\"../../ordering/__pv_it/theorems/d1323f34847310a404e8089c2c268d3c2eb89dbf0/expr.ipynb\"><img src=\"data:image/png;base64,iVBORw0KGgoAAAANSUhEUgAAADQAAAAQBAMAAACra0H4AAAAMFBMVEX///8AAAAAAAAAAAAAAAAA\n",
       "AAAAAAAAAAAAAAAAAAAAAAAAAAAAAAAAAAAAAAAAAAAv3aB7AAAAD3RSTlMAEHarMolUmd1mIs3v\n",
       "RLtmgJDEAAAACXBIWXMAAA7EAAAOxAGVKw4bAAAAyklEQVQY02NgwACce9797nnJgBXwcRnwWj7E\n",
       "IRXA8MAZp1QVN4qQXkfHBrgUH7LMbUUkXYbCQIaQskhoApDm2ohkIMuzXUBGAZMRewOQ5l6AkDrd\n",
       "3yQA9MUCzo/ME0BSSM6InAiylIWBHWw3g08HEDyAGvhwJliMRwFMySE73p1PAMS6v4ARRHMgS7F7\n",
       "AfXLXbBhYAUJMCkgSTE+0GRgyHesYbgGFtmGkCpgmMl3gUFcia0yASwi/FYAFvL/FvC9/oYcHFdf\n",
       "QAIKCgBACzQrtGfvLgAAAABJRU5ErkJggg==\n",
       "\" style=\"display:inline;vertical-align:middle;\" /></a>, <a class=\"ProveItLink\" href=\"../../ordering/__pv_it/theorems/4aa8d696b1f407d6126de9f51a052e8d90e0848c0/expr.ipynb\"><img src=\"data:image/png;base64,iVBORw0KGgoAAAANSUhEUgAAADMAAAAQBAMAAABJt1qBAAAAMFBMVEX///8AAAAAAAAAAAAAAAAA\n",
       "AAAAAAAAAAAAAAAAAAAAAAAAAAAAAAAAAAAAAAAAAAAv3aB7AAAAD3RSTlMAIquJdkTvuxBmmd1U\n",
       "zTKBpmoTAAAACXBIWXMAAA7EAAAOxAGVKw4bAAAAzElEQVQY02NgwABz0+tvp09gwAoKhBiCpjdg\n",
       "lxJmYOdTwCXFJXABRch99+4LcKkCZJlYD4Qupg6QgYzKjg4gAcYbSAY+PysAZIQJsP8ACfAKwKXE\n",
       "bv8GmcCRycC1ASyF5IyZvSCa6wMDtwGI8Ww3EBRApNg7QV5mK2DoDwAJtCPp4ltQAaT7HRjmgwW4\n",
       "kf21ThwkdYBBlwfkAhYHJKl2FqCJ7A48u7jAInfgUlIMnBNKgS5UsRPyA4s0lTbAQr6Qofz+AeTg\n",
       "CK7ejRxyAISENKeL/c93AAAAAElFTkSuQmCC\n",
       "\" style=\"display:inline;vertical-align:middle;\" /></a>, <a class=\"ProveItLink\" href=\"../__pv_it/demonstrations/0c635a836c670db444fe3d06a0b3010098a1be2f0/expr.ipynb\"><img src=\"data:image/png;base64,iVBORw0KGgoAAAANSUhEUgAAADIAAAAQBAMAAACmdTG/AAAAMFBMVEX///8AAAAAAAAAAAAAAAAA\n",
       "AAAAAAAAAAAAAAAAAAAAAAAAAAAAAAAAAAAAAAAAAAAv3aB7AAAAD3RSTlMAIquJdkTvuxBmmd1U\n",
       "zTKBpmoTAAAACXBIWXMAAA7EAAAOxAGVKw4bAAAAqElEQVQY02NggIHeCQw4AIe1Ay4pBm8LnFKz\n",
       "UaUYlR3hxpxdCDHYReOxDQNDmAD7D7iyWA0QycXg5LCagSOTgWsDQqYCRE5kmN+gycD1gYHbAG6a\n",
       "Iph6wLAWSLIVMPQHwFywAqYkBYj7HRjmY7ia9SNDB0P/AQZdHgEUn3KUMiUwGDCwO/Ds4kINHZ5/\n",
       "XQmsBxg4VOyE/NDCaYnDqTkMlIHu3SCwD84HAIh+J9U/VJ4wAAAAAElFTkSuQmCC\n",
       "\" style=\"display:inline;vertical-align:middle;\" /></a>, <a class=\"ProveItLink\" href=\"../__pv_it/demonstrations/fe553994aca4dec5c87cf7a983cda9b2748426220/expr.ipynb\"><img src=\"data:image/png;base64,iVBORw0KGgoAAAANSUhEUgAAADEAAAAQBAMAAABNQoq8AAAAMFBMVEX///8AAAAAAAAAAAAAAAAA\n",
       "AAAAAAAAAAAAAAAAAAAAAAAAAAAAAAAAAAAAAAAAAAAv3aB7AAAAD3RSTlMAMs3vmVREEIndIqt2\n",
       "u2aBbGR5AAAACXBIWXMAAA7EAAAOxAGVKw4bAAAA1ElEQVQY02NgYGBgVHZgQAUdRxZAGPwBqBJM\n",
       "AeyzIKz8AlSZlwwMvRBWJ1yMVQtE3mZgiIcoVoFJ8E0BC3xhYJAHWsC14+BXqATPDLAEO0jmAQND\n",
       "8gLe7xCJijkQmusHUOYAA7sdA4sCWGDJPAYkmQYGlg8MnA0gPrcqzDZ2oEz+AQbmCwz1CagyIBfE\n",
       "BzDUH2B4z4BqGsNdBob3BQz1AQybWBeguIDhMQODEwMD7wHWKSxQkZo5EP9xBrAbAq3b07j6INyn\n",
       "UA95nBZAC2MGPi0GwgAANusy1xQ5C+gAAAAASUVORK5CYII=\n",
       "\" style=\"display:inline;vertical-align:middle;\" /></a> <a class=\"ProveItLink\" href=\"../__pv_it/demonstrations/ae749af6db74ae45bcdfb91351ec2dc9195723270/proof.ipynb\" style=\"text-decoration: none\">&nbsp;&#x22A2;&nbsp;&nbsp;</a><a class=\"ProveItLink\" href=\"../__pv_it/demonstrations/c2db6934bdb61cbdd62811f13d83adb19ce214f50/expr.ipynb\"><img src=\"data:image/png;base64,iVBORw0KGgoAAAANSUhEUgAAADgAAAAlBAMAAADl4DdoAAAAMFBMVEX///8AAAAAAAAAAAAAAAAA\n",
       "AAAAAAAAAAAAAAAAAAAAAAAAAAAAAAAAAAAAAAAAAAAv3aB7AAAAD3RSTlMAIquJdkTvuxBmmd1U\n",
       "zTKBpmoTAAAACXBIWXMAAA7EAAAOxAGVKw4bAAABDElEQVQ4y2NgYFR2dGDAAC1OfcYHGBjCBNh/\n",
       "YEouYFHh2sDAkckAJNEBpwDnD6YJDFwfGLgNMCT5GLguACm2Aob+AExjGdhADul3YJiPRY4hXoCj\n",
       "gaH/AIMujwC6VHuAGgMzAwO7A88uLgx9518sY4hhYOBQsRPyw5DscuFZeYCBJMBzEbcc564GnHIs\n",
       "m3HLNW/BbWbXTtxyTXfwOJQJU/I/CHwAM6V2oor+J9pB+L2CPxCAwXePlMDmu7YAjyg/1qiDisaD\n",
       "XdG9GwT2IVIRxG3WWG2Dit7CKgkSZVT2+4MpAxXFnlcgoqC8cgFDDiqKPa9ARbHnFago9rwCFcWe\n",
       "V6Ci2PMKVBR7XoGIAgCWJ1Y5pqNXvAAAAABJRU5ErkJggg==\n",
       "\" style=\"display:inline;vertical-align:middle;\" /></a></span>"
      ],
      "text/plain": [
       "{d in Real, x in Real, a in Real, a >= x, d < 0} |- (a / d) <= (x / d)"
      ]
     },
     "metadata": {},
     "output_type": "display_data"
    }
   ],
   "source": [
    "relation = greater_eq(a, x)\n",
    "frac(a, d).deduce_bound(relation, assumptions=assumptions+[relation])"
   ]
  },
  {
   "cell_type": "code",
   "execution_count": 62,
   "metadata": {},
   "outputs": [
    {
     "data": {
      "text/html": [
       "<span style=\"font-size:20px;\"><a class=\"ProveItLink\" href=\"../__pv_it/demonstrations/41c3ad9f29c40b69fd61c49f41684c1b813e9e850/expr.ipynb\"><img src=\"data:image/png;base64,iVBORw0KGgoAAAANSUhEUgAAADMAAAAQBAMAAABJt1qBAAAAMFBMVEX///8AAAAAAAAAAAAAAAAA\n",
       "AAAAAAAAAAAAAAAAAAAAAAAAAAAAAAAAAAAAAAAAAAAv3aB7AAAAD3RSTlMAMs3vmVREEIndIqt2\n",
       "u2aBbGR5AAAACXBIWXMAAA7EAAAOxAGVKw4bAAAA3klEQVQY02NgwACPbO9r2j6AsBmVHVDkLqxm\n",
       "yH5bAGHzB6BKrWDgZdwAYecXoEuxLFCAsDsh1NmZMxXgUhcgYipgMuk4Qhd3OchArh0Hv4IEuNSR\n",
       "DJQNWgBkJC/g/Q4SYFoAl1qs+RNkArsdAwvYBiYkZ7wrAtEsHxg4G0AM4ZlAcAEixVsH8jLzBYb6\n",
       "BJBALZIuRofrQLr+AMN7sAAnsr8c14KkAhg2sYJcwHMASaqWB2gi7wHWKSxgEVW41BIGvgfXgC7c\n",
       "07j6IFik+loBLORvMdzVRwnXjJszFZC4AHM6StvnxMwUAAAAAElFTkSuQmCC\n",
       "\" style=\"display:inline;vertical-align:middle;\" /></a>, <a class=\"ProveItLink\" href=\"../../ordering/__pv_it/theorems/4aa8d696b1f407d6126de9f51a052e8d90e0848c0/expr.ipynb\"><img src=\"data:image/png;base64,iVBORw0KGgoAAAANSUhEUgAAADMAAAAQBAMAAABJt1qBAAAAMFBMVEX///8AAAAAAAAAAAAAAAAA\n",
       "AAAAAAAAAAAAAAAAAAAAAAAAAAAAAAAAAAAAAAAAAAAv3aB7AAAAD3RSTlMAIquJdkTvuxBmmd1U\n",
       "zTKBpmoTAAAACXBIWXMAAA7EAAAOxAGVKw4bAAAAzElEQVQY02NgwABz0+tvp09gwAoKhBiCpjdg\n",
       "lxJmYOdTwCXFJXABRch99+4LcKkCZJlYD4Qupg6QgYzKjg4gAcYbSAY+PysAZIQJsP8ACfAKwKXE\n",
       "bv8GmcCRycC1ASyF5IyZvSCa6wMDtwGI8Ww3EBRApNg7QV5mK2DoDwAJtCPp4ltQAaT7HRjmgwW4\n",
       "kf21ThwkdYBBlwfkAhYHJKl2FqCJ7A48u7jAInfgUlIMnBNKgS5UsRPyA4s0lTbAQr6Qofz+AeTg\n",
       "CK7ejRxyAISENKeL/c93AAAAAElFTkSuQmCC\n",
       "\" style=\"display:inline;vertical-align:middle;\" /></a>, <a class=\"ProveItLink\" href=\"../../ordering/__pv_it/theorems/d1323f34847310a404e8089c2c268d3c2eb89dbf0/expr.ipynb\"><img src=\"data:image/png;base64,iVBORw0KGgoAAAANSUhEUgAAADQAAAAQBAMAAACra0H4AAAAMFBMVEX///8AAAAAAAAAAAAAAAAA\n",
       "AAAAAAAAAAAAAAAAAAAAAAAAAAAAAAAAAAAAAAAAAAAv3aB7AAAAD3RSTlMAEHarMolUmd1mIs3v\n",
       "RLtmgJDEAAAACXBIWXMAAA7EAAAOxAGVKw4bAAAAyklEQVQY02NgwACce9797nnJgBXwcRnwWj7E\n",
       "IRXA8MAZp1QVN4qQXkfHBrgUH7LMbUUkXYbCQIaQskhoApDm2ohkIMuzXUBGAZMRewOQ5l6AkDrd\n",
       "3yQA9MUCzo/ME0BSSM6InAiylIWBHWw3g08HEDyAGvhwJliMRwFMySE73p1PAMS6v4ARRHMgS7F7\n",
       "AfXLXbBhYAUJMCkgSTE+0GRgyHesYbgGFtmGkCpgmMl3gUFcia0yASwi/FYAFvL/FvC9/oYcHFdf\n",
       "QAIKCgBACzQrtGfvLgAAAABJRU5ErkJggg==\n",
       "\" style=\"display:inline;vertical-align:middle;\" /></a>, <a class=\"ProveItLink\" href=\"../__pv_it/demonstrations/937300339897af3199776e5b4c6e80fc405fcc410/expr.ipynb\"><img src=\"data:image/png;base64,iVBORw0KGgoAAAANSUhEUgAAADIAAAAQBAMAAACmdTG/AAAAMFBMVEX///8AAAAAAAAAAAAAAAAA\n",
       "AAAAAAAAAAAAAAAAAAAAAAAAAAAAAAAAAAAAAAAAAAAv3aB7AAAAD3RSTlMAIquJdkTvuxBmmd1U\n",
       "zTKBpmoTAAAACXBIWXMAAA7EAAAOxAGVKw4bAAAAqUlEQVQY02NgQAE8FxmwA85dDdglWDbjkGje\n",
       "gspnVHZ0ADO6dsKEOFw0HtswMIQJsP8AcZvuwBVzMTg5rGbgyGTg2gDiMiFkJjLMb9Bk4PrAwG0A\n",
       "5kvBTXvAsBZIshUw9AdguCAFiPsdGOZjuJr1I0MHQ/8BBl0eARSfcpQyJTAYMLA78OziQoTOPRDx\n",
       "ryuB9QADh4qdkB+qDzmWOJyaw0AZ6N4NAvvgfAAWXCs+lLCGtQAAAABJRU5ErkJggg==\n",
       "\" style=\"display:inline;vertical-align:middle;\" /></a>, <a class=\"ProveItLink\" href=\"../__pv_it/demonstrations/fe553994aca4dec5c87cf7a983cda9b2748426220/expr.ipynb\"><img src=\"data:image/png;base64,iVBORw0KGgoAAAANSUhEUgAAADEAAAAQBAMAAABNQoq8AAAAMFBMVEX///8AAAAAAAAAAAAAAAAA\n",
       "AAAAAAAAAAAAAAAAAAAAAAAAAAAAAAAAAAAAAAAAAAAv3aB7AAAAD3RSTlMAMs3vmVREEIndIqt2\n",
       "u2aBbGR5AAAACXBIWXMAAA7EAAAOxAGVKw4bAAAA1ElEQVQY02NgYGBgVHZgQAUdRxZAGPwBqBJM\n",
       "AeyzIKz8AlSZlwwMvRBWJ1yMVQtE3mZgiIcoVoFJ8E0BC3xhYJAHWsC14+BXqATPDLAEO0jmAQND\n",
       "8gLe7xCJijkQmusHUOYAA7sdA4sCWGDJPAYkmQYGlg8MnA0gPrcqzDZ2oEz+AQbmCwz1CagyIBfE\n",
       "BzDUH2B4z4BqGsNdBob3BQz1AQybWBeguIDhMQODEwMD7wHWKSxQkZo5EP9xBrAbAq3b07j6INyn\n",
       "UA95nBZAC2MGPi0GwgAANusy1xQ5C+gAAAAASUVORK5CYII=\n",
       "\" style=\"display:inline;vertical-align:middle;\" /></a> <a class=\"ProveItLink\" href=\"../__pv_it/demonstrations/d4c9021ff654f988b4765d83c2599a40efa5e0ae0/proof.ipynb\" style=\"text-decoration: none\">&nbsp;&#x22A2;&nbsp;&nbsp;</a><a class=\"ProveItLink\" href=\"../__pv_it/demonstrations/8ff07378858f7a23ecdb0055814d9bb38c7818da0/expr.ipynb\"><img src=\"data:image/png;base64,iVBORw0KGgoAAAANSUhEUgAAADgAAAAlBAMAAADl4DdoAAAAMFBMVEX///8AAAAAAAAAAAAAAAAA\n",
       "AAAAAAAAAAAAAAAAAAAAAAAAAAAAAAAAAAAAAAAAAAAv3aB7AAAAD3RSTlMAIquJdkTvuxBmmd1U\n",
       "zTKBpmoTAAAACXBIWXMAAA7EAAAOxAGVKw4bAAABCklEQVQ4y2NgYFR2dGDAAC1OfcYHGBjCBNh/\n",
       "YEouYFHh2sDAkckAJNEBpwDnD6YJDFwfGLgNMCT5GLguACm2Aob+AExjGdhADul3YJiPRY4hXoCj\n",
       "gaH/AIMujwC6VHuAGgMzAwO7A88uLgx9518sY4hhYOBQsRPyw5DscuFZeYCBWNA7AY8kh7UDPr3e\n",
       "FvhkZ+OVPbsQn2ysBj7JCmTefxD4ADdWEUn0P5qDVpDlFbyBgDf4sAO+awvwiPJjjTqoaHwDiOze\n",
       "DQL7EKkILMpgjdU2qOgtrJIgUUZlvz+YMlBR7HkFIgrKKxcwQwsiij2vQEWx5xWoKPa8AhXFnleg\n",
       "otjzClQUe16BiAIAXNJS0HJMRx8AAAAASUVORK5CYII=\n",
       "\" style=\"display:inline;vertical-align:middle;\" /></a></span>"
      ],
      "text/plain": [
       "{d in Real, a in Real, x in Real, a <= x, d < 0} |- (a / d) >= (x / d)"
      ]
     },
     "metadata": {},
     "output_type": "display_data"
    }
   ],
   "source": [
    "relation = LessEq(a, x)\n",
    "frac(a, d).deduce_bound(relation, assumptions=assumptions+[relation])"
   ]
  },
  {
   "cell_type": "markdown",
   "metadata": {},
   "source": [
    "Bound by the denominator with everything positive"
   ]
  },
  {
   "cell_type": "code",
   "execution_count": 63,
   "metadata": {},
   "outputs": [
    {
     "data": {
      "text/html": [
       "<span style=\"font-size:20px;\"><a class=\"ProveItLink\" href=\"../../ordering/__pv_it/theorems/4aa8d696b1f407d6126de9f51a052e8d90e0848c0/expr.ipynb\"><img src=\"data:image/png;base64,iVBORw0KGgoAAAANSUhEUgAAADMAAAAQBAMAAABJt1qBAAAAMFBMVEX///8AAAAAAAAAAAAAAAAA\n",
       "AAAAAAAAAAAAAAAAAAAAAAAAAAAAAAAAAAAAAAAAAAAv3aB7AAAAD3RSTlMAIquJdkTvuxBmmd1U\n",
       "zTKBpmoTAAAACXBIWXMAAA7EAAAOxAGVKw4bAAAAzElEQVQY02NgwABz0+tvp09gwAoKhBiCpjdg\n",
       "lxJmYOdTwCXFJXABRch99+4LcKkCZJlYD4Qupg6QgYzKjg4gAcYbSAY+PysAZIQJsP8ACfAKwKXE\n",
       "bv8GmcCRycC1ASyF5IyZvSCa6wMDtwGI8Ww3EBRApNg7QV5mK2DoDwAJtCPp4ltQAaT7HRjmgwW4\n",
       "kf21ThwkdYBBlwfkAhYHJKl2FqCJ7A48u7jAInfgUlIMnBNKgS5UsRPyA4s0lTbAQr6Qofz+AeTg\n",
       "CK7ejRxyAISENKeL/c93AAAAAElFTkSuQmCC\n",
       "\" style=\"display:inline;vertical-align:middle;\" /></a>, <a class=\"ProveItLink\" href=\"../../multiplication/__pv_it/theorems/fd1125d2a818357b6ff33184c8de1f690ccc89100/expr.ipynb\"><img src=\"data:image/png;base64,iVBORw0KGgoAAAANSUhEUgAAADEAAAAQBAMAAABNQoq8AAAAMFBMVEX///8AAAAAAAAAAAAAAAAA\n",
       "AAAAAAAAAAAAAAAAAAAAAAAAAAAAAAAAAAAAAAAAAAAv3aB7AAAAD3RSTlMAIquJdkTvuxBmmd1U\n",
       "zTKBpmoTAAAACXBIWXMAAA7EAAAOxAGVKw4bAAAAwUlEQVQY02NgwAaMvQSwijPwHuDYiF1mNgOD\n",
       "ORK3dwKcWcTAcL4BIcNh7QBj/mJgeH+AgYFR2REq5G0BVQOSAZoQJsD+A2b+CjDF+Bko48DAkcnA\n",
       "tQFmzNmFcBkDBq4PDNwGcMtiNUCmAWXiHRjYChj6AxAyFVAXnD/A0O/AMB8ucVYRTJUzMMxvYOg/\n",
       "wKDLAw2L2Qsh9DQGhrUMDOwOPLu4UF3NwH2AIw9onYqdkB/YF95wn3IsdnqAFDrdExiIBABTrC1A\n",
       "J5qKhQAAAABJRU5ErkJggg==\n",
       "\" style=\"display:inline;vertical-align:middle;\" /></a>, <a class=\"ProveItLink\" href=\"../../ordering/__pv_it/theorems/5d76fdd975252a644e3e1cb067a357f9a9c8486a0/expr.ipynb\"><img src=\"data:image/png;base64,iVBORw0KGgoAAAANSUhEUgAAADMAAAATBAMAAADPIygvAAAAMFBMVEX///8AAAAAAAAAAAAAAAAA\n",
       "AAAAAAAAAAAAAAAAAAAAAAAAAAAAAAAAAAAAAAAAAAAv3aB7AAAAD3RSTlMAEHaZZquJVO8y3btE\n",
       "zSKD2s2pAAAACXBIWXMAAA7EAAAOxAGVKw4bAAAA4ElEQVQoz2NgwAC+3ftvdTswYAUbnjIc9RbA\n",
       "LvWMgZszAJcU84MLKELaq1ZdgEttQJY5q4jQxSoINJBR2YFBFCTAdxHJwNm1DxgY2NgbGPxBArwP\n",
       "4FIvbv0CmTCdeQFDNFgKyRkusiBagEOBoQnEmLEKCDZApLhFwF4+L8D5E0RLI+niNNgIYtgyMDWA\n",
       "aC5kf1m+BjG2MnCDfc6kgCQlzQQy0ZThPCQsr8OlHjOwOOwBMkST7CHOFt0jAAv5fQy77xeA2LlQ\n",
       "1cd2rUIJObYLjO3Y44aBS4E1AYcUu5MNDhkADGJEjCMFBEsAAAAASUVORK5CYII=\n",
       "\" style=\"display:inline;vertical-align:middle;\" /></a>, <a class=\"ProveItLink\" href=\"../__pv_it/demonstrations/40fa4e3b274cbd6160ddd632a9c3fd20af2d35190/expr.ipynb\"><img src=\"data:image/png;base64,iVBORw0KGgoAAAANSUhEUgAAADEAAAASBAMAAAAAiiu3AAAAMFBMVEX///8AAAAAAAAAAAAAAAAA\n",
       "AAAAAAAAAAAAAAAAAAAAAAAAAAAAAAAAAAAAAAAAAAAv3aB7AAAAD3RSTlMAEHaZZquJVO8y3btE\n",
       "zSKD2s2pAAAACXBIWXMAAA7EAAAOxAGVKw4bAAAAz0lEQVQY02NgwAbSlB9gFWfgLWBch13Gi4Eh\n",
       "G4kr6wBnbmVgqBdAyDBmKcCYnxkY5hcwMCo7MIhCBLQSoWpAMg4MbOwNDP4w8w3BFN83oIwCw3Tm\n",
       "BQzRMGNq7eAyCQwCHAoMTXDLzgaCTAPKnAdael6A8ydCZiPUBfUFDAy2DEwNcNPiwNRuBgZ/AZDj\n",
       "uQNgLrCD0B4g9QwMpgznHVBdzcBVwNgJpEST7MHBx6gF9ymjmeoEMCMXTEo5oIUe2wXGduzhyqXA\n",
       "moBdht3JBrsEAEESKGaXRTYlAAAAAElFTkSuQmCC\n",
       "\" style=\"display:inline;vertical-align:middle;\" /></a>, <a class=\"ProveItLink\" href=\"../../ordering/__pv_it/theorems/d1323f34847310a404e8089c2c268d3c2eb89dbf0/expr.ipynb\"><img src=\"data:image/png;base64,iVBORw0KGgoAAAANSUhEUgAAADQAAAAQBAMAAACra0H4AAAAMFBMVEX///8AAAAAAAAAAAAAAAAA\n",
       "AAAAAAAAAAAAAAAAAAAAAAAAAAAAAAAAAAAAAAAAAAAv3aB7AAAAD3RSTlMAEHarMolUmd1mIs3v\n",
       "RLtmgJDEAAAACXBIWXMAAA7EAAAOxAGVKw4bAAAAyklEQVQY02NgwACce9797nnJgBXwcRnwWj7E\n",
       "IRXA8MAZp1QVN4qQXkfHBrgUH7LMbUUkXYbCQIaQskhoApDm2ohkIMuzXUBGAZMRewOQ5l6AkDrd\n",
       "3yQA9MUCzo/ME0BSSM6InAiylIWBHWw3g08HEDyAGvhwJliMRwFMySE73p1PAMS6v4ARRHMgS7F7\n",
       "AfXLXbBhYAUJMCkgSTE+0GRgyHesYbgGFtmGkCpgmMl3gUFcia0yASwi/FYAFvL/FvC9/oYcHFdf\n",
       "QAIKCgBACzQrtGfvLgAAAABJRU5ErkJggg==\n",
       "\" style=\"display:inline;vertical-align:middle;\" /></a>, <a class=\"ProveItLink\" href=\"../../number_sets/real_numbers/__pv_it/theorems/0c04c146b0f7b92967ed28917fb83981f8ee0b1b0/expr.ipynb\"><img src=\"data:image/png;base64,iVBORw0KGgoAAAANSUhEUgAAADEAAAAQBAMAAABNQoq8AAAAMFBMVEX///8AAAAAAAAAAAAAAAAA\n",
       "AAAAAAAAAAAAAAAAAAAAAAAAAAAAAAAAAAAAAAAAAAAv3aB7AAAAD3RSTlMAEHarMolUmd1mIs3v\n",
       "RLtmgJDEAAAACXBIWXMAAA7EAAAOxAGVKw4bAAAAv0lEQVQY02NgwAZC1RdgFWfgTmDswi4zg4Eh\n",
       "DokrPQHOfMzAkC+AkGGMUIAxvzMw+CcwMAgpi4QmgAU0AqFqQDJAEwqYjNgboOYXgimur0AZBQbO\n",
       "BZwfmWFWZFfBZQIYWBjYNyAsu20IMg0ocx9kKY8CksxDqAvyQVbfX8AIc2K2FZh6x8AwX4BB7oIN\n",
       "AyvMh1UQeg4DQzVQm2MNwzUGFFczcCQwHmFgEFdiqwR7h1EDbh9jqbIDUuhITGAgEgAAPjAn/CdE\n",
       "pSIAAAAASUVORK5CYII=\n",
       "\" style=\"display:inline;vertical-align:middle;\" /></a>, <a class=\"ProveItLink\" href=\"../__pv_it/demonstrations/4e8c2146e363437691fc183f3560fa2c79aab3490/expr.ipynb\"><img src=\"data:image/png;base64,iVBORw0KGgoAAAANSUhEUgAAADMAAAAQBAMAAABJt1qBAAAAMFBMVEX///8AAAAAAAAAAAAAAAAA\n",
       "AAAAAAAAAAAAAAAAAAAAAAAAAAAAAAAAAAAAAAAAAAAv3aB7AAAAD3RSTlMAEHarMolUmd1mIs3v\n",
       "RLtmgJDEAAAACXBIWXMAAA7EAAAOxAGVKw4bAAAAwElEQVQY02NgIAIw7sQtJ9qELiKkLBKaAGYx\n",
       "tQpADVCfwCAMpAuYjNgbIEKc7RA5VrYDDPOB3AWcH5knQE1g274ARLkB1doxMLAwsG9AmM67GaRP\n",
       "gEeB4RCIC6QRUvvARt4XYPkCphcwCsAM3Aw2kKGagekAA4PcBRsGVgaYMyAyDI8Z+AwYGPIdaxiu\n",
       "MaA6nqGY4T7QZeJKbJUQbwkhvCwcVL8AOaA6kQMiGkeQsW5gPIZDikOBOQCHFNukWiAJALkZJD76\n",
       "qNesAAAAAElFTkSuQmCC\n",
       "\" style=\"display:inline;vertical-align:middle;\" /></a> <a class=\"ProveItLink\" href=\"../__pv_it/demonstrations/bca1478772bd1ebc853e62ca45d8b83a178257a50/proof.ipynb\" style=\"text-decoration: none\">&nbsp;&#x22A2;&nbsp;&nbsp;</a><a class=\"ProveItLink\" href=\"../__pv_it/theorems/a9d729fe990a832d85d6383bcf73d0814b85956f0/expr.ipynb\"><img src=\"data:image/png;base64,iVBORw0KGgoAAAANSUhEUgAAADgAAAApBAMAAACSIvcTAAAAMFBMVEX///8AAAAAAAAAAAAAAAAA\n",
       "AAAAAAAAAAAAAAAAAAAAAAAAAAAAAAAAAAAAAAAAAAAv3aB7AAAAD3RSTlMAIquJdkTvuxBmmd1U\n",
       "zTKBpmoTAAAACXBIWXMAAA7EAAAOxAGVKw4bAAABH0lEQVQ4y2NgYFR2dGDAAFDRMAH2H5iSEFGO\n",
       "TAauDRhyUFGuDwzcBhiSUFG2Aob+AAxJqGi/A8N8TCuhov0HGHR5BDAkIaLsDjy7uDB0QkU5VOyE\n",
       "/DBdi1WUVuCsAG652Stwy3lb4JTisHbAKce4egKayH8wADN1D6CKfkBWhyRJjLHEOggo6+2BL4Bm\n",
       "W+CTnSvAMMCgxanPGDNoWlYycCgwMCxgUcGSHwyOMXB+YOAU4PzBhBFsfAdWMzAVMPAxcF3AElQM\n",
       "KQxsoLBkwxagrD8Y3j8A0vECHA2Y2ewCgxsDQ3uAGgMzpk52BYYiBobzL5YxxGBKcimw/mRg6HLh\n",
       "WYklBXAoe33EEzjMF3BK2TK04U5RWxiUcRt60gtYJAAAw5tKYjUpxIAAAAAASUVORK5CYII=\n",
       "\" style=\"display:inline;vertical-align:middle;\" /></a></span>"
      ],
      "text/plain": [
       "{a in Real, a > 0, y in Real, y > 0, x in Real, x > 0, x > y} |- (a / x) < (a / y)"
      ]
     },
     "metadata": {},
     "output_type": "display_data"
    }
   ],
   "source": [
    "relation = greater(x, y)\n",
    "frac(a, x).deduce_bound(relation, assumptions=assumptions+[relation])"
   ]
  },
  {
   "cell_type": "code",
   "execution_count": 64,
   "metadata": {},
   "outputs": [
    {
     "data": {
      "text/html": [
       "<span style=\"font-size:20px;\"><a class=\"ProveItLink\" href=\"../../ordering/__pv_it/theorems/4aa8d696b1f407d6126de9f51a052e8d90e0848c0/expr.ipynb\"><img src=\"data:image/png;base64,iVBORw0KGgoAAAANSUhEUgAAADMAAAAQBAMAAABJt1qBAAAAMFBMVEX///8AAAAAAAAAAAAAAAAA\n",
       "AAAAAAAAAAAAAAAAAAAAAAAAAAAAAAAAAAAAAAAAAAAv3aB7AAAAD3RSTlMAIquJdkTvuxBmmd1U\n",
       "zTKBpmoTAAAACXBIWXMAAA7EAAAOxAGVKw4bAAAAzElEQVQY02NgwABz0+tvp09gwAoKhBiCpjdg\n",
       "lxJmYOdTwCXFJXABRch99+4LcKkCZJlYD4Qupg6QgYzKjg4gAcYbSAY+PysAZIQJsP8ACfAKwKXE\n",
       "bv8GmcCRycC1ASyF5IyZvSCa6wMDtwGI8Ww3EBRApNg7QV5mK2DoDwAJtCPp4ltQAaT7HRjmgwW4\n",
       "kf21ThwkdYBBlwfkAhYHJKl2FqCJ7A48u7jAInfgUlIMnBNKgS5UsRPyA4s0lTbAQr6Qofz+AeTg\n",
       "CK7ejRxyAISENKeL/c93AAAAAElFTkSuQmCC\n",
       "\" style=\"display:inline;vertical-align:middle;\" /></a>, <a class=\"ProveItLink\" href=\"../../multiplication/__pv_it/theorems/fd1125d2a818357b6ff33184c8de1f690ccc89100/expr.ipynb\"><img src=\"data:image/png;base64,iVBORw0KGgoAAAANSUhEUgAAADEAAAAQBAMAAABNQoq8AAAAMFBMVEX///8AAAAAAAAAAAAAAAAA\n",
       "AAAAAAAAAAAAAAAAAAAAAAAAAAAAAAAAAAAAAAAAAAAv3aB7AAAAD3RSTlMAIquJdkTvuxBmmd1U\n",
       "zTKBpmoTAAAACXBIWXMAAA7EAAAOxAGVKw4bAAAAwUlEQVQY02NgwAaMvQSwijPwHuDYiF1mNgOD\n",
       "ORK3dwKcWcTAcL4BIcNh7QBj/mJgeH+AgYFR2REq5G0BVQOSAZoQJsD+A2b+CjDF+Bko48DAkcnA\n",
       "tQFmzNmFcBkDBq4PDNwGcMtiNUCmAWXiHRjYChj6AxAyFVAXnD/A0O/AMB8ucVYRTJUzMMxvYOg/\n",
       "wKDLAw2L2Qsh9DQGhrUMDOwOPLu4UF3NwH2AIw9onYqdkB/YF95wn3IsdnqAFDrdExiIBABTrC1A\n",
       "J5qKhQAAAABJRU5ErkJggg==\n",
       "\" style=\"display:inline;vertical-align:middle;\" /></a>, <a class=\"ProveItLink\" href=\"../../ordering/__pv_it/theorems/d1323f34847310a404e8089c2c268d3c2eb89dbf0/expr.ipynb\"><img src=\"data:image/png;base64,iVBORw0KGgoAAAANSUhEUgAAADQAAAAQBAMAAACra0H4AAAAMFBMVEX///8AAAAAAAAAAAAAAAAA\n",
       "AAAAAAAAAAAAAAAAAAAAAAAAAAAAAAAAAAAAAAAAAAAv3aB7AAAAD3RSTlMAEHarMolUmd1mIs3v\n",
       "RLtmgJDEAAAACXBIWXMAAA7EAAAOxAGVKw4bAAAAyklEQVQY02NgwACce9797nnJgBXwcRnwWj7E\n",
       "IRXA8MAZp1QVN4qQXkfHBrgUH7LMbUUkXYbCQIaQskhoApDm2ohkIMuzXUBGAZMRewOQ5l6AkDrd\n",
       "3yQA9MUCzo/ME0BSSM6InAiylIWBHWw3g08HEDyAGvhwJliMRwFMySE73p1PAMS6v4ARRHMgS7F7\n",
       "AfXLXbBhYAUJMCkgSTE+0GRgyHesYbgGFtmGkCpgmMl3gUFcia0yASwi/FYAFvL/FvC9/oYcHFdf\n",
       "QAIKCgBACzQrtGfvLgAAAABJRU5ErkJggg==\n",
       "\" style=\"display:inline;vertical-align:middle;\" /></a>, <a class=\"ProveItLink\" href=\"../../number_sets/real_numbers/__pv_it/theorems/0c04c146b0f7b92967ed28917fb83981f8ee0b1b0/expr.ipynb\"><img src=\"data:image/png;base64,iVBORw0KGgoAAAANSUhEUgAAADEAAAAQBAMAAABNQoq8AAAAMFBMVEX///8AAAAAAAAAAAAAAAAA\n",
       "AAAAAAAAAAAAAAAAAAAAAAAAAAAAAAAAAAAAAAAAAAAv3aB7AAAAD3RSTlMAEHarMolUmd1mIs3v\n",
       "RLtmgJDEAAAACXBIWXMAAA7EAAAOxAGVKw4bAAAAv0lEQVQY02NgwAZC1RdgFWfgTmDswi4zg4Eh\n",
       "DokrPQHOfMzAkC+AkGGMUIAxvzMw+CcwMAgpi4QmgAU0AqFqQDJAEwqYjNgboOYXgimur0AZBQbO\n",
       "BZwfmWFWZFfBZQIYWBjYNyAsu20IMg0ocx9kKY8CksxDqAvyQVbfX8AIc2K2FZh6x8AwX4BB7oIN\n",
       "AyvMh1UQeg4DQzVQm2MNwzUGFFczcCQwHmFgEFdiqwR7h1EDbh9jqbIDUuhITGAgEgAAPjAn/CdE\n",
       "pSIAAAAASUVORK5CYII=\n",
       "\" style=\"display:inline;vertical-align:middle;\" /></a>, <a class=\"ProveItLink\" href=\"../../ordering/__pv_it/theorems/5d76fdd975252a644e3e1cb067a357f9a9c8486a0/expr.ipynb\"><img src=\"data:image/png;base64,iVBORw0KGgoAAAANSUhEUgAAADMAAAATBAMAAADPIygvAAAAMFBMVEX///8AAAAAAAAAAAAAAAAA\n",
       "AAAAAAAAAAAAAAAAAAAAAAAAAAAAAAAAAAAAAAAAAAAv3aB7AAAAD3RSTlMAEHaZZquJVO8y3btE\n",
       "zSKD2s2pAAAACXBIWXMAAA7EAAAOxAGVKw4bAAAA4ElEQVQoz2NgwAC+3ftvdTswYAUbnjIc9RbA\n",
       "LvWMgZszAJcU84MLKELaq1ZdgEttQJY5q4jQxSoINJBR2YFBFCTAdxHJwNm1DxgY2NgbGPxBArwP\n",
       "4FIvbv0CmTCdeQFDNFgKyRkusiBagEOBoQnEmLEKCDZApLhFwF4+L8D5E0RLI+niNNgIYtgyMDWA\n",
       "aC5kf1m+BjG2MnCDfc6kgCQlzQQy0ZThPCQsr8OlHjOwOOwBMkST7CHOFt0jAAv5fQy77xeA2LlQ\n",
       "1cd2rUIJObYLjO3Y44aBS4E1AYcUu5MNDhkADGJEjCMFBEsAAAAASUVORK5CYII=\n",
       "\" style=\"display:inline;vertical-align:middle;\" /></a>, <a class=\"ProveItLink\" href=\"../__pv_it/demonstrations/40fa4e3b274cbd6160ddd632a9c3fd20af2d35190/expr.ipynb\"><img src=\"data:image/png;base64,iVBORw0KGgoAAAANSUhEUgAAADEAAAASBAMAAAAAiiu3AAAAMFBMVEX///8AAAAAAAAAAAAAAAAA\n",
       "AAAAAAAAAAAAAAAAAAAAAAAAAAAAAAAAAAAAAAAAAAAv3aB7AAAAD3RSTlMAEHaZZquJVO8y3btE\n",
       "zSKD2s2pAAAACXBIWXMAAA7EAAAOxAGVKw4bAAAAz0lEQVQY02NgwAbSlB9gFWfgLWBch13Gi4Eh\n",
       "G4kr6wBnbmVgqBdAyDBmKcCYnxkY5hcwMCo7MIhCBLQSoWpAMg4MbOwNDP4w8w3BFN83oIwCw3Tm\n",
       "BQzRMGNq7eAyCQwCHAoMTXDLzgaCTAPKnAdael6A8ydCZiPUBfUFDAy2DEwNcNPiwNRuBgZ/AZDj\n",
       "uQNgLrCD0B4g9QwMpgznHVBdzcBVwNgJpEST7MHBx6gF9ymjmeoEMCMXTEo5oIUe2wXGduzhyqXA\n",
       "moBdht3JBrsEAEESKGaXRTYlAAAAAElFTkSuQmCC\n",
       "\" style=\"display:inline;vertical-align:middle;\" /></a>, <a class=\"ProveItLink\" href=\"../../ordering/__pv_it/theorems/44d10bba886cb9c03d8c1d01224b9827d41c27660/expr.ipynb\"><img src=\"data:image/png;base64,iVBORw0KGgoAAAANSUhEUgAAADMAAAAQBAMAAABJt1qBAAAAMFBMVEX///8AAAAAAAAAAAAAAAAA\n",
       "AAAAAAAAAAAAAAAAAAAAAAAAAAAAAAAAAAAAAAAAAAAv3aB7AAAAD3RSTlMAEHarMolUmd1mIs3v\n",
       "RLtmgJDEAAAACXBIWXMAAA7EAAAOxAGVKw4bAAAAuklEQVQY02NgIBpkL8AlM6MQmSekLBKaAGVr\n",
       "BIIpRvUJDMJAuoDJiL0BIhKhAFHBynaAYT4DA+cCzo/ME0ACXBUToJrdgGrtGBhYGNg3QASsYcYy\n",
       "CPAoMBwCMXgU0KUY7guwfAHTCxgFUA1kqGZgOsDAIHfBhoGVAdUZDI8Z+AwYGPIdaxiuQUUYNRQh\n",
       "jGKG+0ATxJXYKhGWzIB4TDioHjNUZkOFonEEF+sGxmM4pDgUmANwSLFNqgWSAET3I7cK1lG8AAAA\n",
       "AElFTkSuQmCC\n",
       "\" style=\"display:inline;vertical-align:middle;\" /></a> <a class=\"ProveItLink\" href=\"../__pv_it/demonstrations/f29bf4a5b529ecfd148e0a5e6a996cd729d304ea0/proof.ipynb\" style=\"text-decoration: none\">&nbsp;&#x22A2;&nbsp;&nbsp;</a><a class=\"ProveItLink\" href=\"../__pv_it/theorems/7bf01a9b5bd0944954af9a8fb58aedb0c2312c5f0/expr.ipynb\"><img src=\"data:image/png;base64,iVBORw0KGgoAAAANSUhEUgAAADgAAAApBAMAAACSIvcTAAAAMFBMVEX///8AAAAAAAAAAAAAAAAA\n",
       "AAAAAAAAAAAAAAAAAAAAAAAAAAAAAAAAAAAAAAAAAAAv3aB7AAAAD3RSTlMAIquJdkTvuxBmmd1U\n",
       "zTKBpmoTAAAACXBIWXMAAA7EAAAOxAGVKw4bAAABH0lEQVQ4y2NgYFR2dGDAAFDRMAH2H5iSEFGO\n",
       "TAauDRhyUFGuDwzcBhiSUFG2Aob+AAxJqGi/A8N8TCuhov0HGHR5BDAkIaLsDjy7uDB0QkU5VOyE\n",
       "/DBdi1WU+oDjJj7Z5i34ZFk2N+CR5dyFT5bnFkpg/QcDOJf1UgNc9AO6VtbruA3muSSAx0ECZHml\n",
       "BU8gcOxkGBSgxanP+ACm6EoGDgUGhgUsKljyg8ExBs4PDJwCnD+YJqDL8R1YzcBUwMDHwHUBi58Z\n",
       "UhjYQHmQDUv2ZGD9wfD+AZCOF+DADFKgcW4MDO0BagzMmDrZFRiKGBjOv1jGEIMpyaXA+pOBocuF\n",
       "Z+UBLC5S9vqIJ3CYL+CUsmVoO4BTcguDMm5DT3oBiwQAtU5NeMty1KsAAAAASUVORK5CYII=\n",
       "\" style=\"display:inline;vertical-align:middle;\" /></a></span>"
      ],
      "text/plain": [
       "{a in Real, a > 0, x in Real, x > 0, y in Real, y > 0, x < y} |- (a / x) > (a / y)"
      ]
     },
     "metadata": {},
     "output_type": "display_data"
    }
   ],
   "source": [
    "relation = Less(x, y)\n",
    "frac(a, x).deduce_bound(relation, assumptions=assumptions+[relation])"
   ]
  },
  {
   "cell_type": "code",
   "execution_count": 65,
   "metadata": {},
   "outputs": [
    {
     "data": {
      "text/html": [
       "<span style=\"font-size:20px;\"><a class=\"ProveItLink\" href=\"../../ordering/__pv_it/theorems/6e5cad5b2984ed0d75bd47bd0c542ec447a4f3570/expr.ipynb\"><img src=\"data:image/png;base64,iVBORw0KGgoAAAANSUhEUgAAADEAAAAQBAMAAABNQoq8AAAAMFBMVEX///8AAAAAAAAAAAAAAAAA\n",
       "AAAAAAAAAAAAAAAAAAAAAAAAAAAAAAAAAAAAAAAAAAAv3aB7AAAAD3RSTlMAELvv3c2ZVESJq3Yi\n",
       "MmZ3LnoBAAAACXBIWXMAAA7EAAAOxAGVKw4bAAAA1ElEQVQY02NgQAdPjfRDjB4AGYzKDmhSCqcY\n",
       "uh4JABmsCegyJxmYeBcAGfwFmDJsBwKAjH4BqMgmF5cAuIwCkDEFKtG6EaGHSxBkWtTu5SA+TyCS\n",
       "aZdKDwDd9lVA/gDIIQfgModDvoD0s39kYN4AkkFywTtREM0WwMA/AUhfdgECBYgMkxzIpywTGPpB\n",
       "7hZC0sOboAjxTj7I3SzI/sk9BJK5wGgH4nNvQJIR4gYax/WACRI84XCZYwx8DzSArl6ZBxGQ0hCA\n",
       "hbUOg1I8cph1qkBCBwoAxe43BugJR6MAAAAASUVORK5CYII=\n",
       "\" style=\"display:inline;vertical-align:middle;\" /></a>, <a class=\"ProveItLink\" href=\"../__pv_it/demonstrations/8de64b33e0a123cdd6b54b7b0537664086fcbee10/expr.ipynb\"><img src=\"data:image/png;base64,iVBORw0KGgoAAAANSUhEUgAAAC8AAAARBAMAAAC/eehCAAAAMFBMVEX///8AAAAAAAAAAAAAAAAA\n",
       "AAAAAAAAAAAAAAAAAAAAAAAAAAAAAAAAAAAAAAAAAAAv3aB7AAAAD3RSTlMAELvv3c2ZVESJq3Yi\n",
       "MmZ3LnoBAAAACXBIWXMAAA7EAAAOxAGVKw4bAAAAyElEQVQY02NgVHZgQAcztx0AkqwJYI7oA7g4\n",
       "awGjD5DiLwDzGKdsgEk8YWCYBKT6BaD8LROhDC0Ghnqg4BS4EU+gMt8YGO4DjYnavRwmU5oDNhQk\n",
       "8YCB8auA/AGYTOtCIMHzEyixgYH9IwMz3NpWRZjEBAa2AAb+CTCj1oCNAkr0b2BgmcDQXwC1PBFu\n",
       "eX0ByBv5AqjOVWJgeC/AwH+B0Q7Ng48ZGFIZGLgeMCWgBQlLAaMtUOXKPPQwZMzcdYGBAiDiAgK+\n",
       "cD4A3042O7W6bIUAAAAASUVORK5CYII=\n",
       "\" style=\"display:inline;vertical-align:middle;\" /></a>, <a class=\"ProveItLink\" href=\"../../ordering/__pv_it/theorems/5d76fdd975252a644e3e1cb067a357f9a9c8486a0/expr.ipynb\"><img src=\"data:image/png;base64,iVBORw0KGgoAAAANSUhEUgAAADMAAAATBAMAAADPIygvAAAAMFBMVEX///8AAAAAAAAAAAAAAAAA\n",
       "AAAAAAAAAAAAAAAAAAAAAAAAAAAAAAAAAAAAAAAAAAAv3aB7AAAAD3RSTlMAEHaZZquJVO8y3btE\n",
       "zSKD2s2pAAAACXBIWXMAAA7EAAAOxAGVKw4bAAAA4ElEQVQoz2NgwAC+3ftvdTswYAUbnjIc9RbA\n",
       "LvWMgZszAJcU84MLKELaq1ZdgEttQJY5q4jQxSoINJBR2YFBFCTAdxHJwNm1DxgY2NgbGPxBArwP\n",
       "4FIvbv0CmTCdeQFDNFgKyRkusiBagEOBoQnEmLEKCDZApLhFwF4+L8D5E0RLI+niNNgIYtgyMDWA\n",
       "aC5kf1m+BjG2MnCDfc6kgCQlzQQy0ZThPCQsr8OlHjOwOOwBMkST7CHOFt0jAAv5fQy77xeA2LlQ\n",
       "1cd2rUIJObYLjO3Y44aBS4E1AYcUu5MNDhkADGJEjCMFBEsAAAAASUVORK5CYII=\n",
       "\" style=\"display:inline;vertical-align:middle;\" /></a>, <a class=\"ProveItLink\" href=\"../__pv_it/demonstrations/40fa4e3b274cbd6160ddd632a9c3fd20af2d35190/expr.ipynb\"><img src=\"data:image/png;base64,iVBORw0KGgoAAAANSUhEUgAAADEAAAASBAMAAAAAiiu3AAAAMFBMVEX///8AAAAAAAAAAAAAAAAA\n",
       "AAAAAAAAAAAAAAAAAAAAAAAAAAAAAAAAAAAAAAAAAAAv3aB7AAAAD3RSTlMAEHaZZquJVO8y3btE\n",
       "zSKD2s2pAAAACXBIWXMAAA7EAAAOxAGVKw4bAAAAz0lEQVQY02NgwAbSlB9gFWfgLWBch13Gi4Eh\n",
       "G4kr6wBnbmVgqBdAyDBmKcCYnxkY5hcwMCo7MIhCBLQSoWpAMg4MbOwNDP4w8w3BFN83oIwCw3Tm\n",
       "BQzRMGNq7eAyCQwCHAoMTXDLzgaCTAPKnAdael6A8ydCZiPUBfUFDAy2DEwNcNPiwNRuBgZ/AZDj\n",
       "uQNgLrCD0B4g9QwMpgznHVBdzcBVwNgJpEST7MHBx6gF9ymjmeoEMCMXTEo5oIUe2wXGduzhyqXA\n",
       "moBdht3JBrsEAEESKGaXRTYlAAAAAElFTkSuQmCC\n",
       "\" style=\"display:inline;vertical-align:middle;\" /></a>, <a class=\"ProveItLink\" href=\"../../ordering/__pv_it/theorems/d1323f34847310a404e8089c2c268d3c2eb89dbf0/expr.ipynb\"><img src=\"data:image/png;base64,iVBORw0KGgoAAAANSUhEUgAAADQAAAAQBAMAAACra0H4AAAAMFBMVEX///8AAAAAAAAAAAAAAAAA\n",
       "AAAAAAAAAAAAAAAAAAAAAAAAAAAAAAAAAAAAAAAAAAAv3aB7AAAAD3RSTlMAEHarMolUmd1mIs3v\n",
       "RLtmgJDEAAAACXBIWXMAAA7EAAAOxAGVKw4bAAAAyklEQVQY02NgwACce9797nnJgBXwcRnwWj7E\n",
       "IRXA8MAZp1QVN4qQXkfHBrgUH7LMbUUkXYbCQIaQskhoApDm2ohkIMuzXUBGAZMRewOQ5l6AkDrd\n",
       "3yQA9MUCzo/ME0BSSM6InAiylIWBHWw3g08HEDyAGvhwJliMRwFMySE73p1PAMS6v4ARRHMgS7F7\n",
       "AfXLXbBhYAUJMCkgSTE+0GRgyHesYbgGFtmGkCpgmMl3gUFcia0yASwi/FYAFvL/FvC9/oYcHFdf\n",
       "QAIKCgBACzQrtGfvLgAAAABJRU5ErkJggg==\n",
       "\" style=\"display:inline;vertical-align:middle;\" /></a>, <a class=\"ProveItLink\" href=\"../../number_sets/real_numbers/__pv_it/theorems/0c04c146b0f7b92967ed28917fb83981f8ee0b1b0/expr.ipynb\"><img src=\"data:image/png;base64,iVBORw0KGgoAAAANSUhEUgAAADEAAAAQBAMAAABNQoq8AAAAMFBMVEX///8AAAAAAAAAAAAAAAAA\n",
       "AAAAAAAAAAAAAAAAAAAAAAAAAAAAAAAAAAAAAAAAAAAv3aB7AAAAD3RSTlMAEHarMolUmd1mIs3v\n",
       "RLtmgJDEAAAACXBIWXMAAA7EAAAOxAGVKw4bAAAAv0lEQVQY02NgwAZC1RdgFWfgTmDswi4zg4Eh\n",
       "DokrPQHOfMzAkC+AkGGMUIAxvzMw+CcwMAgpi4QmgAU0AqFqQDJAEwqYjNgboOYXgimur0AZBQbO\n",
       "BZwfmWFWZFfBZQIYWBjYNyAsu20IMg0ocx9kKY8CksxDqAvyQVbfX8AIc2K2FZh6x8AwX4BB7oIN\n",
       "AyvMh1UQeg4DQzVQm2MNwzUGFFczcCQwHmFgEFdiqwR7h1EDbh9jqbIDUuhITGAgEgAAPjAn/CdE\n",
       "pSIAAAAASUVORK5CYII=\n",
       "\" style=\"display:inline;vertical-align:middle;\" /></a>, <a class=\"ProveItLink\" href=\"../__pv_it/demonstrations/c81e7bc9f45d86309c2ed0f5b0a1206acd65bdf60/expr.ipynb\"><img src=\"data:image/png;base64,iVBORw0KGgoAAAANSUhEUgAAADMAAAARBAMAAACC64kkAAAAMFBMVEX///8AAAAAAAAAAAAAAAAA\n",
       "AAAAAAAAAAAAAAAAAAAAAAAAAAAAAAAAAAAAAAAAAAAv3aB7AAAAD3RSTlMAEHarMolUmd1mIs3v\n",
       "RLtmgJDEAAAACXBIWXMAAA7EAAAOxAGVKw4bAAAAvklEQVQY02NggAHGnQw4gWgTbjmmVgGccpxo\n",
       "ckLKIqEJUDbb9gVga9UnMAgD6QImI/YGmDrezSB9rGwHGOYDDVnA+ZF5AlxqH0jKDajWjoGBhYF9\n",
       "A9xwts1gAwV4FBgOgRhAGuaMdqgz7guwfAHTCxgF0BxfzcB0gIFB7oINAyu6lx8z8BkwMOQ71jBc\n",
       "Qw+oYob7QJeJK7FVJqD7XTiofgHOgInGIc66gfEYMp+xAwwcgEwOBeYAHLrYJtUCSQDwmCdQVYwl\n",
       "qgAAAABJRU5ErkJggg==\n",
       "\" style=\"display:inline;vertical-align:middle;\" /></a> <a class=\"ProveItLink\" href=\"../__pv_it/demonstrations/35988977d6f9c24de00fbb56adbece86e4bd1d960/proof.ipynb\" style=\"text-decoration: none\">&nbsp;&#x22A2;&nbsp;&nbsp;</a><a class=\"ProveItLink\" href=\"../__pv_it/demonstrations/ed7ce7facb01f4ec8422b6b1fbd0eb58335f620d0/expr.ipynb\"><img src=\"data:image/png;base64,iVBORw0KGgoAAAANSUhEUgAAADgAAAAvBAMAAABEexQOAAAAMFBMVEX///8AAAAAAAAAAAAAAAAA\n",
       "AAAAAAAAAAAAAAAAAAAAAAAAAAAAAAAAAAAAAAAAAAAv3aB7AAAAD3RSTlMAELvv3c2ZVESJq3Yi\n",
       "MmZ3LnoBAAAACXBIWXMAAA7EAAAOxAGVKw4bAAABVklEQVQ4y2NgEDJhwAIYlR3AdBg2SQbWBDD1\n",
       "HaskfwGI5PiIVbJfAERyOmCVnAIxfPWuAiySUbuXA0n5QMY/WFz7VUD+AANDvQCDNaYk+0cG5g0M\n",
       "DKkMDD8xJdkCGPgnMDB4MnBg8QzLBIb+ApA32T5i9WY+0DN/GYQfYJG8wGgHpNYxqGHxCdcDJlD4\n",
       "SU17gC3gV+YxkAhKD+CWe5KIW27LRJxSjFM24JZLeYBbbmkBHofileTBMPY/GKA7iB9JlBivEAgE\n",
       "YPBdYKAjYHQBA3rYKb1LdiZmiEvnMTAuYGBI4F7NhpkLJxQz8H1g4DvA95ELI5J5C1IYuBQYeEF5\n",
       "BtNbwJwHymUQAh0AC4P7IB/3H2AUwJYFNzMwCDUsZuDE1Mm0gEELmLEvJjO0Y8m8Czj+MTCI7WbP\n",
       "K8CWkbb9wRM4nAE4paYyCONOqN4MK3EbWretgYEBANKVWlgtDrtaAAAAAElFTkSuQmCC\n",
       "\" style=\"display:inline;vertical-align:middle;\" /></a></span>"
      ],
      "text/plain": [
       "{b in Real, b >= 0, y in Real, y > 0, x in Real, x > 0, x >= y} |- (b / x) <= (b / y)"
      ]
     },
     "metadata": {},
     "output_type": "display_data"
    }
   ],
   "source": [
    "relation = greater_eq(x, y)\n",
    "frac(b, x).deduce_bound(relation, assumptions=assumptions+[relation])"
   ]
  },
  {
   "cell_type": "code",
   "execution_count": 66,
   "metadata": {},
   "outputs": [
    {
     "data": {
      "text/html": [
       "<span style=\"font-size:20px;\"><a class=\"ProveItLink\" href=\"../../ordering/__pv_it/theorems/6e5cad5b2984ed0d75bd47bd0c542ec447a4f3570/expr.ipynb\"><img src=\"data:image/png;base64,iVBORw0KGgoAAAANSUhEUgAAADEAAAAQBAMAAABNQoq8AAAAMFBMVEX///8AAAAAAAAAAAAAAAAA\n",
       "AAAAAAAAAAAAAAAAAAAAAAAAAAAAAAAAAAAAAAAAAAAv3aB7AAAAD3RSTlMAELvv3c2ZVESJq3Yi\n",
       "MmZ3LnoBAAAACXBIWXMAAA7EAAAOxAGVKw4bAAAA1ElEQVQY02NgQAdPjfRDjB4AGYzKDmhSCqcY\n",
       "uh4JABmsCegyJxmYeBcAGfwFmDJsBwKAjH4BqMgmF5cAuIwCkDEFKtG6EaGHSxBkWtTu5SA+TyCS\n",
       "aZdKDwDd9lVA/gDIIQfgModDvoD0s39kYN4AkkFywTtREM0WwMA/AUhfdgECBYgMkxzIpywTGPpB\n",
       "7hZC0sOboAjxTj7I3SzI/sk9BJK5wGgH4nNvQJIR4gYax/WACRI84XCZYwx8DzSArl6ZBxGQ0hCA\n",
       "hbUOg1I8cph1qkBCBwoAxe43BugJR6MAAAAASUVORK5CYII=\n",
       "\" style=\"display:inline;vertical-align:middle;\" /></a>, <a class=\"ProveItLink\" href=\"../__pv_it/demonstrations/8de64b33e0a123cdd6b54b7b0537664086fcbee10/expr.ipynb\"><img src=\"data:image/png;base64,iVBORw0KGgoAAAANSUhEUgAAAC8AAAARBAMAAAC/eehCAAAAMFBMVEX///8AAAAAAAAAAAAAAAAA\n",
       "AAAAAAAAAAAAAAAAAAAAAAAAAAAAAAAAAAAAAAAAAAAv3aB7AAAAD3RSTlMAELvv3c2ZVESJq3Yi\n",
       "MmZ3LnoBAAAACXBIWXMAAA7EAAAOxAGVKw4bAAAAyElEQVQY02NgVHZgQAcztx0AkqwJYI7oA7g4\n",
       "awGjD5DiLwDzGKdsgEk8YWCYBKT6BaD8LROhDC0Ghnqg4BS4EU+gMt8YGO4DjYnavRwmU5oDNhQk\n",
       "8YCB8auA/AGYTOtCIMHzEyixgYH9IwMz3NpWRZjEBAa2AAb+CTCj1oCNAkr0b2BgmcDQXwC1PBFu\n",
       "eX0ByBv5AqjOVWJgeC/AwH+B0Q7Ng48ZGFIZGLgeMCWgBQlLAaMtUOXKPPQwZMzcdYGBAiDiAgK+\n",
       "cD4A3042O7W6bIUAAAAASUVORK5CYII=\n",
       "\" style=\"display:inline;vertical-align:middle;\" /></a>, <a class=\"ProveItLink\" href=\"../../ordering/__pv_it/theorems/d1323f34847310a404e8089c2c268d3c2eb89dbf0/expr.ipynb\"><img src=\"data:image/png;base64,iVBORw0KGgoAAAANSUhEUgAAADQAAAAQBAMAAACra0H4AAAAMFBMVEX///8AAAAAAAAAAAAAAAAA\n",
       "AAAAAAAAAAAAAAAAAAAAAAAAAAAAAAAAAAAAAAAAAAAv3aB7AAAAD3RSTlMAEHarMolUmd1mIs3v\n",
       "RLtmgJDEAAAACXBIWXMAAA7EAAAOxAGVKw4bAAAAyklEQVQY02NgwACce9797nnJgBXwcRnwWj7E\n",
       "IRXA8MAZp1QVN4qQXkfHBrgUH7LMbUUkXYbCQIaQskhoApDm2ohkIMuzXUBGAZMRewOQ5l6AkDrd\n",
       "3yQA9MUCzo/ME0BSSM6InAiylIWBHWw3g08HEDyAGvhwJliMRwFMySE73p1PAMS6v4ARRHMgS7F7\n",
       "AfXLXbBhYAUJMCkgSTE+0GRgyHesYbgGFtmGkCpgmMl3gUFcia0yASwi/FYAFvL/FvC9/oYcHFdf\n",
       "QAIKCgBACzQrtGfvLgAAAABJRU5ErkJggg==\n",
       "\" style=\"display:inline;vertical-align:middle;\" /></a>, <a class=\"ProveItLink\" href=\"../../number_sets/real_numbers/__pv_it/theorems/0c04c146b0f7b92967ed28917fb83981f8ee0b1b0/expr.ipynb\"><img src=\"data:image/png;base64,iVBORw0KGgoAAAANSUhEUgAAADEAAAAQBAMAAABNQoq8AAAAMFBMVEX///8AAAAAAAAAAAAAAAAA\n",
       "AAAAAAAAAAAAAAAAAAAAAAAAAAAAAAAAAAAAAAAAAAAv3aB7AAAAD3RSTlMAEHarMolUmd1mIs3v\n",
       "RLtmgJDEAAAACXBIWXMAAA7EAAAOxAGVKw4bAAAAv0lEQVQY02NgwAZC1RdgFWfgTmDswi4zg4Eh\n",
       "DokrPQHOfMzAkC+AkGGMUIAxvzMw+CcwMAgpi4QmgAU0AqFqQDJAEwqYjNgboOYXgimur0AZBQbO\n",
       "BZwfmWFWZFfBZQIYWBjYNyAsu20IMg0ocx9kKY8CksxDqAvyQVbfX8AIc2K2FZh6x8AwX4BB7oIN\n",
       "AyvMh1UQeg4DQzVQm2MNwzUGFFczcCQwHmFgEFdiqwR7h1EDbh9jqbIDUuhITGAgEgAAPjAn/CdE\n",
       "pSIAAAAASUVORK5CYII=\n",
       "\" style=\"display:inline;vertical-align:middle;\" /></a>, <a class=\"ProveItLink\" href=\"../../ordering/__pv_it/theorems/5d76fdd975252a644e3e1cb067a357f9a9c8486a0/expr.ipynb\"><img src=\"data:image/png;base64,iVBORw0KGgoAAAANSUhEUgAAADMAAAATBAMAAADPIygvAAAAMFBMVEX///8AAAAAAAAAAAAAAAAA\n",
       "AAAAAAAAAAAAAAAAAAAAAAAAAAAAAAAAAAAAAAAAAAAv3aB7AAAAD3RSTlMAEHaZZquJVO8y3btE\n",
       "zSKD2s2pAAAACXBIWXMAAA7EAAAOxAGVKw4bAAAA4ElEQVQoz2NgwAC+3ftvdTswYAUbnjIc9RbA\n",
       "LvWMgZszAJcU84MLKELaq1ZdgEttQJY5q4jQxSoINJBR2YFBFCTAdxHJwNm1DxgY2NgbGPxBArwP\n",
       "4FIvbv0CmTCdeQFDNFgKyRkusiBagEOBoQnEmLEKCDZApLhFwF4+L8D5E0RLI+niNNgIYtgyMDWA\n",
       "aC5kf1m+BjG2MnCDfc6kgCQlzQQy0ZThPCQsr8OlHjOwOOwBMkST7CHOFt0jAAv5fQy77xeA2LlQ\n",
       "1cd2rUIJObYLjO3Y44aBS4E1AYcUu5MNDhkADGJEjCMFBEsAAAAASUVORK5CYII=\n",
       "\" style=\"display:inline;vertical-align:middle;\" /></a>, <a class=\"ProveItLink\" href=\"../__pv_it/demonstrations/40fa4e3b274cbd6160ddd632a9c3fd20af2d35190/expr.ipynb\"><img src=\"data:image/png;base64,iVBORw0KGgoAAAANSUhEUgAAADEAAAASBAMAAAAAiiu3AAAAMFBMVEX///8AAAAAAAAAAAAAAAAA\n",
       "AAAAAAAAAAAAAAAAAAAAAAAAAAAAAAAAAAAAAAAAAAAv3aB7AAAAD3RSTlMAEHaZZquJVO8y3btE\n",
       "zSKD2s2pAAAACXBIWXMAAA7EAAAOxAGVKw4bAAAAz0lEQVQY02NgwAbSlB9gFWfgLWBch13Gi4Eh\n",
       "G4kr6wBnbmVgqBdAyDBmKcCYnxkY5hcwMCo7MIhCBLQSoWpAMg4MbOwNDP4w8w3BFN83oIwCw3Tm\n",
       "BQzRMGNq7eAyCQwCHAoMTXDLzgaCTAPKnAdael6A8ydCZiPUBfUFDAy2DEwNcNPiwNRuBgZ/AZDj\n",
       "uQNgLrCD0B4g9QwMpgznHVBdzcBVwNgJpEST7MHBx6gF9ymjmeoEMCMXTEo5oIUe2wXGduzhyqXA\n",
       "moBdht3JBrsEAEESKGaXRTYlAAAAAElFTkSuQmCC\n",
       "\" style=\"display:inline;vertical-align:middle;\" /></a>, <a class=\"ProveItLink\" href=\"../../ordering/__pv_it/theorems/aba6340e84a2dc194f2dc2e8029d9090c42823300/expr.ipynb\"><img src=\"data:image/png;base64,iVBORw0KGgoAAAANSUhEUgAAADMAAAARBAMAAACC64kkAAAAMFBMVEX///8AAAAAAAAAAAAAAAAA\n",
       "AAAAAAAAAAAAAAAAAAAAAAAAAAAAAAAAAAAAAAAAAAAv3aB7AAAAD3RSTlMAEHarMolUmd1mIs3v\n",
       "RLtmgJDEAAAACXBIWXMAAA7EAAAOxAGVKw4bAAAAuklEQVQY02NgQAXZCxhwgBmFuGQ0AnFIMEYo\n",
       "oAoIKYuEJoBlKibA1KhPYBAG0gVMRuwNIL51Akw1K9sBhvkMDJwLOD8yg5UjpNyAau0YGFgY2DdA\n",
       "BLjgBgrwKDAcAjF4FDCccV+A5QuYXsAogOb4agamAwwMchdsGFjRvfyYgc+AgSHfsYbhGlJAOYDI\n",
       "Yob7QHvFldgqE9A9LxxUjzMsGaJxiLNuYDyGEoIdYACyi0OBOQCHLrZJtUASAKK5Jt8THS4EAAAA\n",
       "AElFTkSuQmCC\n",
       "\" style=\"display:inline;vertical-align:middle;\" /></a> <a class=\"ProveItLink\" href=\"../__pv_it/demonstrations/93b004e3d3b79fabd032010a071043fad8a5c4eb0/proof.ipynb\" style=\"text-decoration: none\">&nbsp;&#x22A2;&nbsp;&nbsp;</a><a class=\"ProveItLink\" href=\"../__pv_it/demonstrations/77ce867673da6bcec39b87dbdef673c7be49996f0/expr.ipynb\"><img src=\"data:image/png;base64,iVBORw0KGgoAAAANSUhEUgAAADgAAAAvBAMAAABEexQOAAAAMFBMVEX///8AAAAAAAAAAAAAAAAA\n",
       "AAAAAAAAAAAAAAAAAAAAAAAAAAAAAAAAAAAAAAAAAAAv3aB7AAAAD3RSTlMAELvv3c2ZVESJq3Yi\n",
       "MmZ3LnoBAAAACXBIWXMAAA7EAAAOxAGVKw4bAAABW0lEQVQ4y2NgEDJhwAIYlR3AdBg2SQbWBDD1\n",
       "HaskfwGI5PiIVbJfAERyOmCVnAIxfPWuAiySUbuXA0n5QMY/WFz7VUD+AANDvQCDNaYk+0cG5g0M\n",
       "DKkMDD8xJdkCGPgnMDB4MnBg8QzLBIb+ApA32T5i9WY+0DN/GYQfYJG8wGgHpNYxqGHxCdcDJlD4\n",
       "SU17gC3gV+YxEA0Y4/DJSnrjk+X2FMAjy4dXlj3sAB5Zjig8ejmCcEuyR6EY+x8MYA5yg+rjRxYl\n",
       "7BV8gYA/+GgDGF3A4AIdrJLeJTsTMydJ5zEwLmBgSOBezYaZCycUM/B9YOA7wPeRCyNx8hakMHAp\n",
       "MPCC8gymt4A5D5TLIARGpH9kuA/ycf8BRgFsWXAzA4NQw2IGTkydTAsYtIAZ+2IyQzuWzLuA4x8D\n",
       "g9hu9rwCbBlp2x88gcMZgFNqKoNwAU5Jb4aVuA2t29bAwAAAa8tRs9KhT+kAAAAASUVORK5CYII=\n",
       "\" style=\"display:inline;vertical-align:middle;\" /></a></span>"
      ],
      "text/plain": [
       "{b in Real, b >= 0, x in Real, x > 0, y in Real, y > 0, x <= y} |- (b / x) >= (b / y)"
      ]
     },
     "metadata": {},
     "output_type": "display_data"
    }
   ],
   "source": [
    "relation = LessEq(x, y)\n",
    "frac(b, x).deduce_bound(relation, assumptions=assumptions+[relation])"
   ]
  },
  {
   "cell_type": "markdown",
   "metadata": {},
   "source": [
    "Bound by the denominator with everything negative"
   ]
  },
  {
   "cell_type": "code",
   "execution_count": 67,
   "metadata": {},
   "outputs": [
    {
     "data": {
      "text/html": [
       "<span style=\"font-size:20px;\"><a class=\"ProveItLink\" href=\"../__pv_it/demonstrations/41c3ad9f29c40b69fd61c49f41684c1b813e9e850/expr.ipynb\"><img src=\"data:image/png;base64,iVBORw0KGgoAAAANSUhEUgAAADMAAAAQBAMAAABJt1qBAAAAMFBMVEX///8AAAAAAAAAAAAAAAAA\n",
       "AAAAAAAAAAAAAAAAAAAAAAAAAAAAAAAAAAAAAAAAAAAv3aB7AAAAD3RSTlMAMs3vmVREEIndIqt2\n",
       "u2aBbGR5AAAACXBIWXMAAA7EAAAOxAGVKw4bAAAA3klEQVQY02NgwACPbO9r2j6AsBmVHVDkLqxm\n",
       "yH5bAGHzB6BKrWDgZdwAYecXoEuxLFCAsDsh1NmZMxXgUhcgYipgMuk4Qhd3OchArh0Hv4IEuNSR\n",
       "DJQNWgBkJC/g/Q4SYFoAl1qs+RNkArsdAwvYBiYkZ7wrAtEsHxg4G0AM4ZlAcAEixVsH8jLzBYb6\n",
       "BJBALZIuRofrQLr+AMN7sAAnsr8c14KkAhg2sYJcwHMASaqWB2gi7wHWKSxgEVW41BIGvgfXgC7c\n",
       "07j6IFik+loBLORvMdzVRwnXjJszFZC4AHM6StvnxMwUAAAAAElFTkSuQmCC\n",
       "\" style=\"display:inline;vertical-align:middle;\" /></a>, <a class=\"ProveItLink\" href=\"../../exponentiation/__pv_it/theorems/d550e8309ef79ca46e4c9fb5617a392ea678789b0/expr.ipynb\"><img src=\"data:image/png;base64,iVBORw0KGgoAAAANSUhEUgAAADEAAAAQBAMAAABNQoq8AAAAMFBMVEX///8AAAAAAAAAAAAAAAAA\n",
       "AAAAAAAAAAAAAAAAAAAAAAAAAAAAAAAAAAAAAAAAAAAv3aB7AAAAD3RSTlMAiXZmMiLdVJm77xBE\n",
       "zatgdeJyAAAACXBIWXMAAA7EAAAOxAGVKw4bAAAAvUlEQVQY02NgQAe2K+dfW2nAgA1MiGM4Z7kB\n",
       "q0wgAyfLAxwyHAEXkEU009IuwGUmIEmc1Ubo4dsNNk1I2QFIst5GMs2zNgDICCvgAGnlDYDLRF37\n",
       "BtafyMClAJJBcoHxXhDN8RvC90oDggkQGc7NIJ9yQV2xE0kPS8NsIL1fAcJnQ/ZPSySQ5gdqPACk\n",
       "mRSQZHYyAUWBDmMEuZrhOlwmgoHZYA6QIWgM8eK+ORtgYT2VYeb9AqRAODgtDTm0ALktNaaWdOV1\n",
       "AAAAAElFTkSuQmCC\n",
       "\" style=\"display:inline;vertical-align:middle;\" /></a>, <a class=\"ProveItLink\" href=\"../__pv_it/demonstrations/a7c8ff0c12601535056faf6cbd3f54f388d751000/expr.ipynb\"><img src=\"data:image/png;base64,iVBORw0KGgoAAAANSUhEUgAAADgAAAAQBAMAAACxV6F2AAAAMFBMVEX///8AAAAAAAAAAAAAAAAA\n",
       "AAAAAAAAAAAAAAAAAAAAAAAAAAAAAAAAAAAAAAAAAAAv3aB7AAAAD3RSTlMAEHaJZjKZVN3vq7tE\n",
       "zSL5cm/iAAAACXBIWXMAAA7EAAAOxAGVKw4bAAAA3UlEQVQY02NgwAJYbu7+27mFAQfg5lvAs2Qj\n",
       "TkkDhg1ReCTzeNEEtTs6LsAluVHlzioi6VwoxcDAqOzAEMZQIQAU4ruIZCzr9nsMDMzsExhWM5w/\n",
       "ABTifYCQnNvfBFQfztbAMAkizovkIBNHkOUCnAqsXxnYQEKRHUCwAWrsRhcQo16AaQIDE4gljeyV\n",
       "MG6QM3IZuBcwxICEOJAl2eJAZuxi4DBgMAAJMSkgSTJuUAEyrBlOLuA5ABa7jpBMYHDhBgqyJSsu\n",
       "M4GISe0RgMXK7wfce7+jBtHhHZDggwIANvc2F0leF2MAAAAASUVORK5CYII=\n",
       "\" style=\"display:inline;vertical-align:middle;\" /></a>, <a class=\"ProveItLink\" href=\"../__pv_it/demonstrations/e00ffae46bfaab861c2b6321db906ef8fdef4db90/expr.ipynb\"><img src=\"data:image/png;base64,iVBORw0KGgoAAAANSUhEUgAAADQAAAAOBAMAAACStyITAAAAMFBMVEX///8AAAAAAAAAAAAAAAAA\n",
       "AAAAAAAAAAAAAAAAAAAAAAAAAAAAAAAAAAAAAAAAAAAv3aB7AAAAD3RSTlMAEHaJZjKZVN3vq7tE\n",
       "zSL5cm/iAAAACXBIWXMAAA7EAAAOxAGVKw4bAAAArUlEQVQY02NgIArIOuCUYrRQQOUrOzCEMVQI\n",
       "gDkahjBhZiVXBmb2CQyrGc4fgIh4JEJovnaGbIZwtgaGSQy8D6Cqa/PAFIcBUFCAU4H1KwMb3IKz\n",
       "C0FkPtiCegGmCQxMCKmNIHI2mJ3LwL2AIQYmU7sO7LZPYM4ukMEGUBkPiFUMXxgYeBgYrBlOLuCB\n",
       "OhDu+GwGBlMGBrZkxWUmEC9qwL3MbOIkgOx7CQcGIgEAe+oeDV5SzWUAAAAASUVORK5CYII=\n",
       "\" style=\"display:inline;vertical-align:middle;\" /></a>, <a class=\"ProveItLink\" href=\"../__pv_it/demonstrations/fe553994aca4dec5c87cf7a983cda9b2748426220/expr.ipynb\"><img src=\"data:image/png;base64,iVBORw0KGgoAAAANSUhEUgAAADEAAAAQBAMAAABNQoq8AAAAMFBMVEX///8AAAAAAAAAAAAAAAAA\n",
       "AAAAAAAAAAAAAAAAAAAAAAAAAAAAAAAAAAAAAAAAAAAv3aB7AAAAD3RSTlMAMs3vmVREEIndIqt2\n",
       "u2aBbGR5AAAACXBIWXMAAA7EAAAOxAGVKw4bAAAA1ElEQVQY02NgYGBgVHZgQAUdRxZAGPwBqBJM\n",
       "AeyzIKz8AlSZlwwMvRBWJ1yMVQtE3mZgiIcoVoFJ8E0BC3xhYJAHWsC14+BXqATPDLAEO0jmAQND\n",
       "8gLe7xCJijkQmusHUOYAA7sdA4sCWGDJPAYkmQYGlg8MnA0gPrcqzDZ2oEz+AQbmCwz1CagyIBfE\n",
       "BzDUH2B4z4BqGsNdBob3BQz1AQybWBeguIDhMQODEwMD7wHWKSxQkZo5EP9xBrAbAq3b07j6INyn\n",
       "UA95nBZAC2MGPi0GwgAANusy1xQ5C+gAAAAASUVORK5CYII=\n",
       "\" style=\"display:inline;vertical-align:middle;\" /></a> <a class=\"ProveItLink\" href=\"../__pv_it/demonstrations/56bde7c47f1921ef7696687337a9dbc822125b910/proof.ipynb\" style=\"text-decoration: none\">&nbsp;&#x22A2;&nbsp;&nbsp;</a><a class=\"ProveItLink\" href=\"../__pv_it/demonstrations/a244ab750656d787bc092d4bcfc1ef1f3aed153b0/expr.ipynb\"><img src=\"data:image/png;base64,iVBORw0KGgoAAAANSUhEUgAAADsAAAAlBAMAAAAO14xrAAAAMFBMVEX///8AAAAAAAAAAAAAAAAA\n",
       "AAAAAAAAAAAAAAAAAAAAAAAAAAAAAAAAAAAAAAAAAAAv3aB7AAAAD3RSTlMAEHaJZjKZVN3vq7tE\n",
       "zSL5cm/iAAAACXBIWXMAAA7EAAAOxAGVKw4bAAABTUlEQVQ4y2NgVHZgCGOoEGDAAMxKrkCCfQLD\n",
       "aobzBzBk+doZshkYwtkaGCYx8D7AkOYwAIozCHAqsH5lYMM0Ox9iX70A0wQGJkzp2RAql4F7AUMM\n",
       "hizjJwi9C2SLAabuLwwMPEDKmuHkAh5Mh4OcbQqk2JIVl5kwYPG2iROWwKAxqH2AT9YjEZ+shiEe\n",
       "SUYLBTyyfBkOaCL/oQDMWVuAKv4BVS2SNHGGk+I0oLyGIv5A88D0eOw0JI4vLFBZbyZAWd+xGsQP\n",
       "9QjPR6zS56HpgbkBq7QFlOZNwCp9DUy+MorHElp8i1XBLuKZx7AfS6I7+YAb7CJJB2BWwAyfKQxs\n",
       "F8CZiYGhGVOa7QMoe4AzE+MfTGnODQzyByCZieUDprS8AoM/2JLvDFwX6jClCxjWsoOCdxNDRQKm\n",
       "v7kV2NvAuV5KOW5RAKbLF5m+UmUAAPjoUAkmrNLgAAAAAElFTkSuQmCC\n",
       "\" style=\"display:inline;vertical-align:middle;\" /></a></span>"
      ],
      "text/plain": [
       "{d in Real, c in Real, w in Real, w > c, d < 0} |- (w / d) < (c / d)"
      ]
     },
     "metadata": {},
     "output_type": "display_data"
    }
   ],
   "source": [
    "relation = greater(w, c)\n",
    "frac(w, d).deduce_bound(relation, assumptions=assumptions+[relation])"
   ]
  },
  {
   "cell_type": "code",
   "execution_count": 68,
   "metadata": {},
   "outputs": [
    {
     "data": {
      "text/html": [
       "<span style=\"font-size:20px;\"><a class=\"ProveItLink\" href=\"../__pv_it/demonstrations/41c3ad9f29c40b69fd61c49f41684c1b813e9e850/expr.ipynb\"><img src=\"data:image/png;base64,iVBORw0KGgoAAAANSUhEUgAAADMAAAAQBAMAAABJt1qBAAAAMFBMVEX///8AAAAAAAAAAAAAAAAA\n",
       "AAAAAAAAAAAAAAAAAAAAAAAAAAAAAAAAAAAAAAAAAAAv3aB7AAAAD3RSTlMAMs3vmVREEIndIqt2\n",
       "u2aBbGR5AAAACXBIWXMAAA7EAAAOxAGVKw4bAAAA3klEQVQY02NgwACPbO9r2j6AsBmVHVDkLqxm\n",
       "yH5bAGHzB6BKrWDgZdwAYecXoEuxLFCAsDsh1NmZMxXgUhcgYipgMuk4Qhd3OchArh0Hv4IEuNSR\n",
       "DJQNWgBkJC/g/Q4SYFoAl1qs+RNkArsdAwvYBiYkZ7wrAtEsHxg4G0AM4ZlAcAEixVsH8jLzBYb6\n",
       "BJBALZIuRofrQLr+AMN7sAAnsr8c14KkAhg2sYJcwHMASaqWB2gi7wHWKSxgEVW41BIGvgfXgC7c\n",
       "07j6IFik+loBLORvMdzVRwnXjJszFZC4AHM6StvnxMwUAAAAAElFTkSuQmCC\n",
       "\" style=\"display:inline;vertical-align:middle;\" /></a>, <a class=\"ProveItLink\" href=\"../__pv_it/demonstrations/a7c8ff0c12601535056faf6cbd3f54f388d751000/expr.ipynb\"><img src=\"data:image/png;base64,iVBORw0KGgoAAAANSUhEUgAAADgAAAAQBAMAAACxV6F2AAAAMFBMVEX///8AAAAAAAAAAAAAAAAA\n",
       "AAAAAAAAAAAAAAAAAAAAAAAAAAAAAAAAAAAAAAAAAAAv3aB7AAAAD3RSTlMAEHaJZjKZVN3vq7tE\n",
       "zSL5cm/iAAAACXBIWXMAAA7EAAAOxAGVKw4bAAAA3UlEQVQY02NgwAJYbu7+27mFAQfg5lvAs2Qj\n",
       "TkkDhg1ReCTzeNEEtTs6LsAluVHlzioi6VwoxcDAqOzAEMZQIQAU4ruIZCzr9nsMDMzsExhWM5w/\n",
       "ABTifYCQnNvfBFQfztbAMAkizovkIBNHkOUCnAqsXxnYQEKRHUCwAWrsRhcQo16AaQIDE4gljeyV\n",
       "MG6QM3IZuBcwxICEOJAl2eJAZuxi4DBgMAAJMSkgSTJuUAEyrBlOLuA5ABa7jpBMYHDhBgqyJSsu\n",
       "M4GISe0RgMXK7wfce7+jBtHhHZDggwIANvc2F0leF2MAAAAASUVORK5CYII=\n",
       "\" style=\"display:inline;vertical-align:middle;\" /></a>, <a class=\"ProveItLink\" href=\"../../exponentiation/__pv_it/theorems/d550e8309ef79ca46e4c9fb5617a392ea678789b0/expr.ipynb\"><img src=\"data:image/png;base64,iVBORw0KGgoAAAANSUhEUgAAADEAAAAQBAMAAABNQoq8AAAAMFBMVEX///8AAAAAAAAAAAAAAAAA\n",
       "AAAAAAAAAAAAAAAAAAAAAAAAAAAAAAAAAAAAAAAAAAAv3aB7AAAAD3RSTlMAiXZmMiLdVJm77xBE\n",
       "zatgdeJyAAAACXBIWXMAAA7EAAAOxAGVKw4bAAAAvUlEQVQY02NgQAe2K+dfW2nAgA1MiGM4Z7kB\n",
       "q0wgAyfLAxwyHAEXkEU009IuwGUmIEmc1Ubo4dsNNk1I2QFIst5GMs2zNgDICCvgAGnlDYDLRF37\n",
       "BtafyMClAJJBcoHxXhDN8RvC90oDggkQGc7NIJ9yQV2xE0kPS8NsIL1fAcJnQ/ZPSySQ5gdqPACk\n",
       "mRSQZHYyAUWBDmMEuZrhOlwmgoHZYA6QIWgM8eK+ORtgYT2VYeb9AqRAODgtDTm0ALktNaaWdOV1\n",
       "AAAAAElFTkSuQmCC\n",
       "\" style=\"display:inline;vertical-align:middle;\" /></a>, <a class=\"ProveItLink\" href=\"../__pv_it/demonstrations/a40abc2e5a8838385d831e39c1c74f101ef1b6770/expr.ipynb\"><img src=\"data:image/png;base64,iVBORw0KGgoAAAANSUhEUgAAADQAAAAOBAMAAACStyITAAAAMFBMVEX///8AAAAAAAAAAAAAAAAA\n",
       "AAAAAAAAAAAAAAAAAAAAAAAAAAAAAAAAAAAAAAAAAAAv3aB7AAAAD3RSTlMAEHaJZjKZVN3vq7tE\n",
       "zSL5cm/iAAAACXBIWXMAAA7EAAAOxAGVKw4bAAAAp0lEQVQY02NgIB6w38Mlw9ImAGczKjswhDFU\n",
       "QAWYmqEMZiVXBmb2CQyrGc4fAAsIN0E18LUzZDOEszUwTGLgfQASeNYCM4vDACgowKnA+pWBDcTn\n",
       "ug63Jh9sbr0A0wQGJjSp2WAyl4F7AUMMA4qBjJ/A1C6QwQYMqM74wsDAw8BgzXByAc8BqJBQE8Tx\n",
       "2QwMpgwMbMmKy0wQXoZ4jNnESQAzOO4REZoAo2wflCv4pNsAAAAASUVORK5CYII=\n",
       "\" style=\"display:inline;vertical-align:middle;\" /></a>, <a class=\"ProveItLink\" href=\"../__pv_it/demonstrations/fe553994aca4dec5c87cf7a983cda9b2748426220/expr.ipynb\"><img src=\"data:image/png;base64,iVBORw0KGgoAAAANSUhEUgAAADEAAAAQBAMAAABNQoq8AAAAMFBMVEX///8AAAAAAAAAAAAAAAAA\n",
       "AAAAAAAAAAAAAAAAAAAAAAAAAAAAAAAAAAAAAAAAAAAv3aB7AAAAD3RSTlMAMs3vmVREEIndIqt2\n",
       "u2aBbGR5AAAACXBIWXMAAA7EAAAOxAGVKw4bAAAA1ElEQVQY02NgYGBgVHZgQAUdRxZAGPwBqBJM\n",
       "AeyzIKz8AlSZlwwMvRBWJ1yMVQtE3mZgiIcoVoFJ8E0BC3xhYJAHWsC14+BXqATPDLAEO0jmAQND\n",
       "8gLe7xCJijkQmusHUOYAA7sdA4sCWGDJPAYkmQYGlg8MnA0gPrcqzDZ2oEz+AQbmCwz1CagyIBfE\n",
       "BzDUH2B4z4BqGsNdBob3BQz1AQybWBeguIDhMQODEwMD7wHWKSxQkZo5EP9xBrAbAq3b07j6INyn\n",
       "UA95nBZAC2MGPi0GwgAANusy1xQ5C+gAAAAASUVORK5CYII=\n",
       "\" style=\"display:inline;vertical-align:middle;\" /></a> <a class=\"ProveItLink\" href=\"../__pv_it/demonstrations/5b877729953d69c5b8ac223e404fdd888e051f490/proof.ipynb\" style=\"text-decoration: none\">&nbsp;&#x22A2;&nbsp;&nbsp;</a><a class=\"ProveItLink\" href=\"../__pv_it/demonstrations/aeecd925c34c20bdf1fb731e00aea23f036663c60/expr.ipynb\"><img src=\"data:image/png;base64,iVBORw0KGgoAAAANSUhEUgAAADsAAAAlBAMAAAAO14xrAAAAMFBMVEX///8AAAAAAAAAAAAAAAAA\n",
       "AAAAAAAAAAAAAAAAAAAAAAAAAAAAAAAAAAAAAAAAAAAv3aB7AAAAD3RSTlMAEHaJZjKZVN3vq7tE\n",
       "zSL5cm/iAAAACXBIWXMAAA7EAAAOxAGVKw4bAAABTUlEQVQ4y2NgVHZgCGOoEGDAAMxKrkCCfQLD\n",
       "aobzBzBk+doZshkYwtkaGCYx8D7AkOYwAIozCHAqsH5lYMM0Ox9iX70A0wQGJkzp2RAql4F7AUMM\n",
       "hizjJwi9C2SLAabuLwwMPEDKmuHkAh5Mh4OcbQqk2JIVl5kwYPG2iROWwKAZYLyCX164Cb88UzN+\n",
       "17K04Zdnv4YSef+hAC7Ac0sALv4BUzvPbXzGs996gNdpD8j2mBD2YImdBgnUFhRR1psJUNZ3rLr4\n",
       "C6Ce+YhV+jzUIcwNWKUtoDRvAlbpa2DylVF8AaYc32JVsIt45jHsx+Lbkw+4wS6SdABmBcyUM4WB\n",
       "7QI4MzEwNGNKs30AZQ9wZmL8gynNuYFB/gAkM7FgiVd5BQZ/sCXfGbgu1GFKFzCsZQfF3iaGigRM\n",
       "f3MrsLeBc72UctyiAEyXLzJ9pcoAAFAYUn61iwYIAAAAAElFTkSuQmCC\n",
       "\" style=\"display:inline;vertical-align:middle;\" /></a></span>"
      ],
      "text/plain": [
       "{d in Real, w in Real, c in Real, w < c, d < 0} |- (w / d) > (c / d)"
      ]
     },
     "metadata": {},
     "output_type": "display_data"
    }
   ],
   "source": [
    "relation = Less(w, c)\n",
    "frac(w, d).deduce_bound(relation, assumptions=assumptions+[relation])"
   ]
  },
  {
   "cell_type": "code",
   "execution_count": 69,
   "metadata": {},
   "outputs": [
    {
     "data": {
      "text/html": [
       "<span style=\"font-size:20px;\"><a class=\"ProveItLink\" href=\"../__pv_it/demonstrations/41c3ad9f29c40b69fd61c49f41684c1b813e9e850/expr.ipynb\"><img src=\"data:image/png;base64,iVBORw0KGgoAAAANSUhEUgAAADMAAAAQBAMAAABJt1qBAAAAMFBMVEX///8AAAAAAAAAAAAAAAAA\n",
       "AAAAAAAAAAAAAAAAAAAAAAAAAAAAAAAAAAAAAAAAAAAv3aB7AAAAD3RSTlMAMs3vmVREEIndIqt2\n",
       "u2aBbGR5AAAACXBIWXMAAA7EAAAOxAGVKw4bAAAA3klEQVQY02NgwACPbO9r2j6AsBmVHVDkLqxm\n",
       "yH5bAGHzB6BKrWDgZdwAYecXoEuxLFCAsDsh1NmZMxXgUhcgYipgMuk4Qhd3OchArh0Hv4IEuNSR\n",
       "DJQNWgBkJC/g/Q4SYFoAl1qs+RNkArsdAwvYBiYkZ7wrAtEsHxg4G0AM4ZlAcAEixVsH8jLzBYb6\n",
       "BJBALZIuRofrQLr+AMN7sAAnsr8c14KkAhg2sYJcwHMASaqWB2gi7wHWKSxgEVW41BIGvgfXgC7c\n",
       "07j6IFik+loBLORvMdzVRwnXjJszFZC4AHM6StvnxMwUAAAAAElFTkSuQmCC\n",
       "\" style=\"display:inline;vertical-align:middle;\" /></a>, <a class=\"ProveItLink\" href=\"../__pv_it/demonstrations/a7c8ff0c12601535056faf6cbd3f54f388d751000/expr.ipynb\"><img src=\"data:image/png;base64,iVBORw0KGgoAAAANSUhEUgAAADgAAAAQBAMAAACxV6F2AAAAMFBMVEX///8AAAAAAAAAAAAAAAAA\n",
       "AAAAAAAAAAAAAAAAAAAAAAAAAAAAAAAAAAAAAAAAAAAv3aB7AAAAD3RSTlMAEHaJZjKZVN3vq7tE\n",
       "zSL5cm/iAAAACXBIWXMAAA7EAAAOxAGVKw4bAAAA3UlEQVQY02NgwAJYbu7+27mFAQfg5lvAs2Qj\n",
       "TkkDhg1ReCTzeNEEtTs6LsAluVHlzioi6VwoxcDAqOzAEMZQIQAU4ruIZCzr9nsMDMzsExhWM5w/\n",
       "ABTifYCQnNvfBFQfztbAMAkizovkIBNHkOUCnAqsXxnYQEKRHUCwAWrsRhcQo16AaQIDE4gljeyV\n",
       "MG6QM3IZuBcwxICEOJAl2eJAZuxi4DBgMAAJMSkgSTJuUAEyrBlOLuA5ABa7jpBMYHDhBgqyJSsu\n",
       "M4GISe0RgMXK7wfce7+jBtHhHZDggwIANvc2F0leF2MAAAAASUVORK5CYII=\n",
       "\" style=\"display:inline;vertical-align:middle;\" /></a>, <a class=\"ProveItLink\" href=\"../../exponentiation/__pv_it/theorems/d550e8309ef79ca46e4c9fb5617a392ea678789b0/expr.ipynb\"><img src=\"data:image/png;base64,iVBORw0KGgoAAAANSUhEUgAAADEAAAAQBAMAAABNQoq8AAAAMFBMVEX///8AAAAAAAAAAAAAAAAA\n",
       "AAAAAAAAAAAAAAAAAAAAAAAAAAAAAAAAAAAAAAAAAAAv3aB7AAAAD3RSTlMAiXZmMiLdVJm77xBE\n",
       "zatgdeJyAAAACXBIWXMAAA7EAAAOxAGVKw4bAAAAvUlEQVQY02NgQAe2K+dfW2nAgA1MiGM4Z7kB\n",
       "q0wgAyfLAxwyHAEXkEU009IuwGUmIEmc1Ubo4dsNNk1I2QFIst5GMs2zNgDICCvgAGnlDYDLRF37\n",
       "BtafyMClAJJBcoHxXhDN8RvC90oDggkQGc7NIJ9yQV2xE0kPS8NsIL1fAcJnQ/ZPSySQ5gdqPACk\n",
       "mRSQZHYyAUWBDmMEuZrhOlwmgoHZYA6QIWgM8eK+ORtgYT2VYeb9AqRAODgtDTm0ALktNaaWdOV1\n",
       "AAAAAElFTkSuQmCC\n",
       "\" style=\"display:inline;vertical-align:middle;\" /></a>, <a class=\"ProveItLink\" href=\"../__pv_it/demonstrations/6fe4e91fb7e68e9f08ee3d93cc03e442f80fe7260/expr.ipynb\"><img src=\"data:image/png;base64,iVBORw0KGgoAAAANSUhEUgAAADMAAAAQBAMAAABJt1qBAAAAMFBMVEX///8AAAAAAAAAAAAAAAAA\n",
       "AAAAAAAAAAAAAAAAAAAAAAAAAAAAAAAAAAAAAAAAAAAv3aB7AAAAD3RSTlMAiXZmMiLdVJm77xBE\n",
       "zatgdeJyAAAACXBIWXMAAA7EAAAOxAGVKw4bAAAAtUlEQVQY02NggADuyww4wcYk3HJMiRtwyjFj\n",
       "ygkpO0AY7DcCwNYqGjB4MJQB1YUVcEyAKuK5B9LHyL6A4SXD+QMMDIkMXAowqZsgKXeOBIZFDLwB\n",
       "DBy/4Saz3wMbuIFLgeULAwcDA9cEuDMyoM6o38C0gIGJgWG/Aobjexk4HzD4MDDwGzAwHED18jwG\n",
       "NgEGAQYGoPMYHVADSpLh1AMekHJBY200j3I0ar8QZqAQcKeBgQOSEAAbfiikHNnLdQAAAABJRU5E\n",
       "rkJggg==\n",
       "\" style=\"display:inline;vertical-align:middle;\" /></a>, <a class=\"ProveItLink\" href=\"../__pv_it/demonstrations/fe553994aca4dec5c87cf7a983cda9b2748426220/expr.ipynb\"><img src=\"data:image/png;base64,iVBORw0KGgoAAAANSUhEUgAAADEAAAAQBAMAAABNQoq8AAAAMFBMVEX///8AAAAAAAAAAAAAAAAA\n",
       "AAAAAAAAAAAAAAAAAAAAAAAAAAAAAAAAAAAAAAAAAAAv3aB7AAAAD3RSTlMAMs3vmVREEIndIqt2\n",
       "u2aBbGR5AAAACXBIWXMAAA7EAAAOxAGVKw4bAAAA1ElEQVQY02NgYGBgVHZgQAUdRxZAGPwBqBJM\n",
       "AeyzIKz8AlSZlwwMvRBWJ1yMVQtE3mZgiIcoVoFJ8E0BC3xhYJAHWsC14+BXqATPDLAEO0jmAQND\n",
       "8gLe7xCJijkQmusHUOYAA7sdA4sCWGDJPAYkmQYGlg8MnA0gPrcqzDZ2oEz+AQbmCwz1CagyIBfE\n",
       "BzDUH2B4z4BqGsNdBob3BQz1AQybWBeguIDhMQODEwMD7wHWKSxQkZo5EP9xBrAbAq3b07j6INyn\n",
       "UA95nBZAC2MGPi0GwgAANusy1xQ5C+gAAAAASUVORK5CYII=\n",
       "\" style=\"display:inline;vertical-align:middle;\" /></a> <a class=\"ProveItLink\" href=\"../__pv_it/demonstrations/55caa99aa9ea505d410cf96e4bed1ce10ff1d7a70/proof.ipynb\" style=\"text-decoration: none\">&nbsp;&#x22A2;&nbsp;&nbsp;</a><a class=\"ProveItLink\" href=\"../__pv_it/demonstrations/faffd6e52e71ed8685dc0a7eb6cfa8a488b35d1f0/expr.ipynb\"><img src=\"data:image/png;base64,iVBORw0KGgoAAAANSUhEUgAAADwAAAAlBAMAAADsC5cSAAAAMFBMVEX///8AAAAAAAAAAAAAAAAA\n",
       "AAAAAAAAAAAAAAAAAAAAAAAAAAAAAAAAAAAAAAAAAAAv3aB7AAAAD3RSTlMAiXZmMiLdVJm77xBE\n",
       "zatgdeJyAAAACXBIWXMAAA7EAAAOxAGVKw4bAAABMUlEQVQ4y2NgYGBUMmFAB9yKBgweDGUbGBhY\n",
       "0xk6MaQZ2RcwvGQ4f4CBgU2AYRGGtDtHAlCUN4CBoX8DAybYwKXA8oWBA8hayYAN1G9gWsDABHTE\n",
       "J6zSvQycDxh8gIzPDAw8mNLzQG4SADKAzhbBlJZkOPWA5wDID8JGWBzH0aj9QpiBVMB+FZ8sc8YG\n",
       "PLJMifhkNybhM3lHMj7ZfdfxOpoPm/R/EPgAZkYko4oCAQlOI+QxQsECDNQrpEYDy60GvML8BVi1\n",
       "wYTPg92zLQ0EUhDS56HOFMNuKUz4BnZpsDDrQ5XvWORgwqcCOH9jkYYKcy9m4LiAKQsT5vgASvCY\n",
       "CRkqzDWBYf8BTGmY8H4FBnssVsOE9xcwvGUPwJSGCnMqsGdwYOqGCXM/EolTweJyiDAAyClbnWw6\n",
       "0FYAAAAASUVORK5CYII=\n",
       "\" style=\"display:inline;vertical-align:middle;\" /></a></span>"
      ],
      "text/plain": [
       "{d in Real, w in Real, c in Real, c >= w, d < 0} |- (c / d) <= (w / d)"
      ]
     },
     "metadata": {},
     "output_type": "display_data"
    }
   ],
   "source": [
    "relation = greater_eq(c, w)\n",
    "frac(c, d).deduce_bound(relation, assumptions=assumptions+[relation])"
   ]
  },
  {
   "cell_type": "code",
   "execution_count": 70,
   "metadata": {},
   "outputs": [
    {
     "data": {
      "text/html": [
       "<span style=\"font-size:20px;\"><a class=\"ProveItLink\" href=\"../__pv_it/demonstrations/41c3ad9f29c40b69fd61c49f41684c1b813e9e850/expr.ipynb\"><img src=\"data:image/png;base64,iVBORw0KGgoAAAANSUhEUgAAADMAAAAQBAMAAABJt1qBAAAAMFBMVEX///8AAAAAAAAAAAAAAAAA\n",
       "AAAAAAAAAAAAAAAAAAAAAAAAAAAAAAAAAAAAAAAAAAAv3aB7AAAAD3RSTlMAMs3vmVREEIndIqt2\n",
       "u2aBbGR5AAAACXBIWXMAAA7EAAAOxAGVKw4bAAAA3klEQVQY02NgwACPbO9r2j6AsBmVHVDkLqxm\n",
       "yH5bAGHzB6BKrWDgZdwAYecXoEuxLFCAsDsh1NmZMxXgUhcgYipgMuk4Qhd3OchArh0Hv4IEuNSR\n",
       "DJQNWgBkJC/g/Q4SYFoAl1qs+RNkArsdAwvYBiYkZ7wrAtEsHxg4G0AM4ZlAcAEixVsH8jLzBYb6\n",
       "BJBALZIuRofrQLr+AMN7sAAnsr8c14KkAhg2sYJcwHMASaqWB2gi7wHWKSxgEVW41BIGvgfXgC7c\n",
       "07j6IFik+loBLORvMdzVRwnXjJszFZC4AHM6StvnxMwUAAAAAElFTkSuQmCC\n",
       "\" style=\"display:inline;vertical-align:middle;\" /></a>, <a class=\"ProveItLink\" href=\"../../exponentiation/__pv_it/theorems/d550e8309ef79ca46e4c9fb5617a392ea678789b0/expr.ipynb\"><img src=\"data:image/png;base64,iVBORw0KGgoAAAANSUhEUgAAADEAAAAQBAMAAABNQoq8AAAAMFBMVEX///8AAAAAAAAAAAAAAAAA\n",
       "AAAAAAAAAAAAAAAAAAAAAAAAAAAAAAAAAAAAAAAAAAAv3aB7AAAAD3RSTlMAiXZmMiLdVJm77xBE\n",
       "zatgdeJyAAAACXBIWXMAAA7EAAAOxAGVKw4bAAAAvUlEQVQY02NgQAe2K+dfW2nAgA1MiGM4Z7kB\n",
       "q0wgAyfLAxwyHAEXkEU009IuwGUmIEmc1Ubo4dsNNk1I2QFIst5GMs2zNgDICCvgAGnlDYDLRF37\n",
       "BtafyMClAJJBcoHxXhDN8RvC90oDggkQGc7NIJ9yQV2xE0kPS8NsIL1fAcJnQ/ZPSySQ5gdqPACk\n",
       "mRSQZHYyAUWBDmMEuZrhOlwmgoHZYA6QIWgM8eK+ORtgYT2VYeb9AqRAODgtDTm0ALktNaaWdOV1\n",
       "AAAAAElFTkSuQmCC\n",
       "\" style=\"display:inline;vertical-align:middle;\" /></a>, <a class=\"ProveItLink\" href=\"../__pv_it/demonstrations/a7c8ff0c12601535056faf6cbd3f54f388d751000/expr.ipynb\"><img src=\"data:image/png;base64,iVBORw0KGgoAAAANSUhEUgAAADgAAAAQBAMAAACxV6F2AAAAMFBMVEX///8AAAAAAAAAAAAAAAAA\n",
       "AAAAAAAAAAAAAAAAAAAAAAAAAAAAAAAAAAAAAAAAAAAv3aB7AAAAD3RSTlMAEHaJZjKZVN3vq7tE\n",
       "zSL5cm/iAAAACXBIWXMAAA7EAAAOxAGVKw4bAAAA3UlEQVQY02NgwAJYbu7+27mFAQfg5lvAs2Qj\n",
       "TkkDhg1ReCTzeNEEtTs6LsAluVHlzioi6VwoxcDAqOzAEMZQIQAU4ruIZCzr9nsMDMzsExhWM5w/\n",
       "ABTifYCQnNvfBFQfztbAMAkizovkIBNHkOUCnAqsXxnYQEKRHUCwAWrsRhcQo16AaQIDE4gljeyV\n",
       "MG6QM3IZuBcwxICEOJAl2eJAZuxi4DBgMAAJMSkgSTJuUAEyrBlOLuA5ABa7jpBMYHDhBgqyJSsu\n",
       "M4GISe0RgMXK7wfce7+jBtHhHZDggwIANvc2F0leF2MAAAAASUVORK5CYII=\n",
       "\" style=\"display:inline;vertical-align:middle;\" /></a>, <a class=\"ProveItLink\" href=\"../__pv_it/demonstrations/83c39aac72729e4176d1493c008c767b93f306cc0/expr.ipynb\"><img src=\"data:image/png;base64,iVBORw0KGgoAAAANSUhEUgAAADMAAAAQBAMAAABJt1qBAAAAMFBMVEX///8AAAAAAAAAAAAAAAAA\n",
       "AAAAAAAAAAAAAAAAAAAAAAAAAAAAAAAAAAAAAAAAAAAv3aB7AAAAD3RSTlMAiXZmMiLdVJm77xBE\n",
       "zatgdeJyAAAACXBIWXMAAA7EAAAOxAGVKw4bAAAAsElEQVQY02NgQAa1AQw4gFk3Lhk1aRwS3GIK\n",
       "GGJCyg4gmTYDmBpFAwYPhrINDAxhBRwTgPy3BTCljOwLGF4ynD/AwJDIwAUyCSHlzpHAsIiBN4CB\n",
       "4zdEgBVu4AYuBZYvDBwMDFwTMJxRv4FpAQMTA8N+BQzH9zJwPmDwYWDgB5pzANXL8xjYBBgEGBiA\n",
       "zmN0gAcUmCXJcOoBD0i5oLE2mkc5GrVfCDNQCLjTwMABSQgAXuQjK8/N8EwAAAAASUVORK5CYII=\n",
       "\" style=\"display:inline;vertical-align:middle;\" /></a>, <a class=\"ProveItLink\" href=\"../__pv_it/demonstrations/fe553994aca4dec5c87cf7a983cda9b2748426220/expr.ipynb\"><img src=\"data:image/png;base64,iVBORw0KGgoAAAANSUhEUgAAADEAAAAQBAMAAABNQoq8AAAAMFBMVEX///8AAAAAAAAAAAAAAAAA\n",
       "AAAAAAAAAAAAAAAAAAAAAAAAAAAAAAAAAAAAAAAAAAAv3aB7AAAAD3RSTlMAMs3vmVREEIndIqt2\n",
       "u2aBbGR5AAAACXBIWXMAAA7EAAAOxAGVKw4bAAAA1ElEQVQY02NgYGBgVHZgQAUdRxZAGPwBqBJM\n",
       "AeyzIKz8AlSZlwwMvRBWJ1yMVQtE3mZgiIcoVoFJ8E0BC3xhYJAHWsC14+BXqATPDLAEO0jmAQND\n",
       "8gLe7xCJijkQmusHUOYAA7sdA4sCWGDJPAYkmQYGlg8MnA0gPrcqzDZ2oEz+AQbmCwz1CagyIBfE\n",
       "BzDUH2B4z4BqGsNdBob3BQz1AQybWBeguIDhMQODEwMD7wHWKSxQkZo5EP9xBrAbAq3b07j6INyn\n",
       "UA95nBZAC2MGPi0GwgAANusy1xQ5C+gAAAAASUVORK5CYII=\n",
       "\" style=\"display:inline;vertical-align:middle;\" /></a> <a class=\"ProveItLink\" href=\"../__pv_it/demonstrations/be18fb2618f4e30ae1cce22a154936a7e6286cfb0/proof.ipynb\" style=\"text-decoration: none\">&nbsp;&#x22A2;&nbsp;&nbsp;</a><a class=\"ProveItLink\" href=\"../__pv_it/demonstrations/47faf3a251e5e30ea3c2a6b7548f24f9b0f534d60/expr.ipynb\"><img src=\"data:image/png;base64,iVBORw0KGgoAAAANSUhEUgAAADwAAAAlBAMAAADsC5cSAAAAMFBMVEX///8AAAAAAAAAAAAAAAAA\n",
       "AAAAAAAAAAAAAAAAAAAAAAAAAAAAAAAAAAAAAAAAAAAv3aB7AAAAD3RSTlMAiXZmMiLdVJm77xBE\n",
       "zatgdeJyAAAACXBIWXMAAA7EAAAOxAGVKw4bAAABL0lEQVQ4y2NgYGBUMmFAB9yKBgweDGUbGBhY\n",
       "0xk6MaQZ2RcwvGQ4f4CBgU2AYRGGtDtHAlCUN4CBoX8DAybYwKXA8oWBA8hayYAN1G9gWsDABHTE\n",
       "J6zSvQycDxh8gIzPDAw8mNLzQG4SADKAzhbBlJZkOPWA5wDID8JGWBzH0aj9QpiBBLDXAK80t5gC\n",
       "fv1q0vjlzQjI17bilz/7Gr/0bFT+fxD4ADf8KZIoEKA5rZtsjxEIFgKBiguw3GrAK8xfgFUbTPg8\n",
       "OD1sSwOBFIT0eWgyEcNuKUz4BnZpsDDrQ5XvWORgwqcCOH9jkYYKcy9m4LiAJQihwhwfQAkeMyFD\n",
       "hbkmMOw/gCkNE96vwGCPxWqY8P4ChrfsAZjSUGFOBfYMDkzdMGHuRyJxKlhcDhEGAJ/ZWIgPdXYc\n",
       "AAAAAElFTkSuQmCC\n",
       "\" style=\"display:inline;vertical-align:middle;\" /></a></span>"
      ],
      "text/plain": [
       "{d in Real, c in Real, w in Real, c <= w, d < 0} |- (c / d) >= (w / d)"
      ]
     },
     "metadata": {},
     "output_type": "display_data"
    }
   ],
   "source": [
    "relation = LessEq(c, w)\n",
    "frac(c, d).deduce_bound(relation, assumptions=assumptions+[relation])"
   ]
  },
  {
   "cell_type": "markdown",
   "metadata": {},
   "source": [
    "Bound by the denominator with the numerator positive and denominator negative"
   ]
  },
  {
   "cell_type": "code",
   "execution_count": 71,
   "metadata": {},
   "outputs": [
    {
     "data": {
      "text/html": [
       "<span style=\"font-size:20px;\"><a class=\"ProveItLink\" href=\"../../ordering/__pv_it/theorems/4aa8d696b1f407d6126de9f51a052e8d90e0848c0/expr.ipynb\"><img src=\"data:image/png;base64,iVBORw0KGgoAAAANSUhEUgAAADMAAAAQBAMAAABJt1qBAAAAMFBMVEX///8AAAAAAAAAAAAAAAAA\n",
       "AAAAAAAAAAAAAAAAAAAAAAAAAAAAAAAAAAAAAAAAAAAv3aB7AAAAD3RSTlMAIquJdkTvuxBmmd1U\n",
       "zTKBpmoTAAAACXBIWXMAAA7EAAAOxAGVKw4bAAAAzElEQVQY02NgwABz0+tvp09gwAoKhBiCpjdg\n",
       "lxJmYOdTwCXFJXABRch99+4LcKkCZJlYD4Qupg6QgYzKjg4gAcYbSAY+PysAZIQJsP8ACfAKwKXE\n",
       "bv8GmcCRycC1ASyF5IyZvSCa6wMDtwGI8Ww3EBRApNg7QV5mK2DoDwAJtCPp4ltQAaT7HRjmgwW4\n",
       "kf21ThwkdYBBlwfkAhYHJKl2FqCJ7A48u7jAInfgUlIMnBNKgS5UsRPyA4s0lTbAQr6Qofz+AeTg\n",
       "CK7ejRxyAISENKeL/c93AAAAAElFTkSuQmCC\n",
       "\" style=\"display:inline;vertical-align:middle;\" /></a>, <a class=\"ProveItLink\" href=\"../../multiplication/__pv_it/theorems/fd1125d2a818357b6ff33184c8de1f690ccc89100/expr.ipynb\"><img src=\"data:image/png;base64,iVBORw0KGgoAAAANSUhEUgAAADEAAAAQBAMAAABNQoq8AAAAMFBMVEX///8AAAAAAAAAAAAAAAAA\n",
       "AAAAAAAAAAAAAAAAAAAAAAAAAAAAAAAAAAAAAAAAAAAv3aB7AAAAD3RSTlMAIquJdkTvuxBmmd1U\n",
       "zTKBpmoTAAAACXBIWXMAAA7EAAAOxAGVKw4bAAAAwUlEQVQY02NgwAaMvQSwijPwHuDYiF1mNgOD\n",
       "ORK3dwKcWcTAcL4BIcNh7QBj/mJgeH+AgYFR2REq5G0BVQOSAZoQJsD+A2b+CjDF+Bko48DAkcnA\n",
       "tQFmzNmFcBkDBq4PDNwGcMtiNUCmAWXiHRjYChj6AxAyFVAXnD/A0O/AMB8ucVYRTJUzMMxvYOg/\n",
       "wKDLAw2L2Qsh9DQGhrUMDOwOPLu4UF3NwH2AIw9onYqdkB/YF95wn3IsdnqAFDrdExiIBABTrC1A\n",
       "J5qKhQAAAABJRU5ErkJggg==\n",
       "\" style=\"display:inline;vertical-align:middle;\" /></a>, <a class=\"ProveItLink\" href=\"../__pv_it/demonstrations/a7c8ff0c12601535056faf6cbd3f54f388d751000/expr.ipynb\"><img src=\"data:image/png;base64,iVBORw0KGgoAAAANSUhEUgAAADgAAAAQBAMAAACxV6F2AAAAMFBMVEX///8AAAAAAAAAAAAAAAAA\n",
       "AAAAAAAAAAAAAAAAAAAAAAAAAAAAAAAAAAAAAAAAAAAv3aB7AAAAD3RSTlMAEHaJZjKZVN3vq7tE\n",
       "zSL5cm/iAAAACXBIWXMAAA7EAAAOxAGVKw4bAAAA3UlEQVQY02NgwAJYbu7+27mFAQfg5lvAs2Qj\n",
       "TkkDhg1ReCTzeNEEtTs6LsAluVHlzioi6VwoxcDAqOzAEMZQIQAU4ruIZCzr9nsMDMzsExhWM5w/\n",
       "ABTifYCQnNvfBFQfztbAMAkizovkIBNHkOUCnAqsXxnYQEKRHUCwAWrsRhcQo16AaQIDE4gljeyV\n",
       "MG6QM3IZuBcwxICEOJAl2eJAZuxi4DBgMAAJMSkgSTJuUAEyrBlOLuA5ABa7jpBMYHDhBgqyJSsu\n",
       "M4GISe0RgMXK7wfce7+jBtHhHZDggwIANvc2F0leF2MAAAAASUVORK5CYII=\n",
       "\" style=\"display:inline;vertical-align:middle;\" /></a>, <a class=\"ProveItLink\" href=\"../__pv_it/demonstrations/1d25dbcbf5bd42aa3cfadf17d74679bd264940be0/expr.ipynb\"><img src=\"data:image/png;base64,iVBORw0KGgoAAAANSUhEUgAAADUAAAAQBAMAAABEqSrGAAAAMFBMVEX///8AAAAAAAAAAAAAAAAA\n",
       "AAAAAAAAAAAAAAAAAAAAAAAAAAAAAAAAAAAAAAAAAAAv3aB7AAAAD3RSTlMAEHaJZjKZVN3vq7tE\n",
       "zSL5cm/iAAAACXBIWXMAAA7EAAAOxAGVKw4bAAAAzklEQVQY02NgwA6M1R7gkGHgLWDswyXnwcBg\n",
       "jSnKfg9E7mJgqBdAl2JpAwt9Y2CIL2BgVHZgCGOogCpiagYzGEFyDgzM7BMYVjOcPwCWEm6CKOH7\n",
       "DJRTYAhna2CYxMALdvGzFgYkOQMGAU4F1q8MbCARruswWxmBcucVQO5hmsDAhCoHckt9AQNDLgP3\n",
       "AoYYBhQzGXYzMPgLgLzCYcBgwIDiFgZPkB6Q/08u4DkAFRNqgniGo4BxKpBiS1ZcZoLwO9SDyVoB\n",
       "mGHGco+BGAAAXCMrKn8qppsAAAAASUVORK5CYII=\n",
       "\" style=\"display:inline;vertical-align:middle;\" /></a>, <a class=\"ProveItLink\" href=\"../__pv_it/demonstrations/41c3ad9f29c40b69fd61c49f41684c1b813e9e850/expr.ipynb\"><img src=\"data:image/png;base64,iVBORw0KGgoAAAANSUhEUgAAADMAAAAQBAMAAABJt1qBAAAAMFBMVEX///8AAAAAAAAAAAAAAAAA\n",
       "AAAAAAAAAAAAAAAAAAAAAAAAAAAAAAAAAAAAAAAAAAAv3aB7AAAAD3RSTlMAMs3vmVREEIndIqt2\n",
       "u2aBbGR5AAAACXBIWXMAAA7EAAAOxAGVKw4bAAAA3klEQVQY02NgwACPbO9r2j6AsBmVHVDkLqxm\n",
       "yH5bAGHzB6BKrWDgZdwAYecXoEuxLFCAsDsh1NmZMxXgUhcgYipgMuk4Qhd3OchArh0Hv4IEuNSR\n",
       "DJQNWgBkJC/g/Q4SYFoAl1qs+RNkArsdAwvYBiYkZ7wrAtEsHxg4G0AM4ZlAcAEixVsH8jLzBYb6\n",
       "BJBALZIuRofrQLr+AMN7sAAnsr8c14KkAhg2sYJcwHMASaqWB2gi7wHWKSxgEVW41BIGvgfXgC7c\n",
       "07j6IFik+loBLORvMdzVRwnXjJszFZC4AHM6StvnxMwUAAAAAElFTkSuQmCC\n",
       "\" style=\"display:inline;vertical-align:middle;\" /></a>, <a class=\"ProveItLink\" href=\"../__pv_it/demonstrations/fe553994aca4dec5c87cf7a983cda9b2748426220/expr.ipynb\"><img src=\"data:image/png;base64,iVBORw0KGgoAAAANSUhEUgAAADEAAAAQBAMAAABNQoq8AAAAMFBMVEX///8AAAAAAAAAAAAAAAAA\n",
       "AAAAAAAAAAAAAAAAAAAAAAAAAAAAAAAAAAAAAAAAAAAv3aB7AAAAD3RSTlMAMs3vmVREEIndIqt2\n",
       "u2aBbGR5AAAACXBIWXMAAA7EAAAOxAGVKw4bAAAA1ElEQVQY02NgYGBgVHZgQAUdRxZAGPwBqBJM\n",
       "AeyzIKz8AlSZlwwMvRBWJ1yMVQtE3mZgiIcoVoFJ8E0BC3xhYJAHWsC14+BXqATPDLAEO0jmAQND\n",
       "8gLe7xCJijkQmusHUOYAA7sdA4sCWGDJPAYkmQYGlg8MnA0gPrcqzDZ2oEz+AQbmCwz1CagyIBfE\n",
       "BzDUH2B4z4BqGsNdBob3BQz1AQybWBeguIDhMQODEwMD7wHWKSxQkZo5EP9xBrAbAq3b07j6INyn\n",
       "UA95nBZAC2MGPi0GwgAANusy1xQ5C+gAAAAASUVORK5CYII=\n",
       "\" style=\"display:inline;vertical-align:middle;\" /></a>, <a class=\"ProveItLink\" href=\"../__pv_it/demonstrations/869ac8c0cf9d970b1ab6335b0c2c80d83a7743180/expr.ipynb\"><img src=\"data:image/png;base64,iVBORw0KGgoAAAANSUhEUgAAADUAAAAQBAMAAABEqSrGAAAAMFBMVEX///8AAAAAAAAAAAAAAAAA\n",
       "AAAAAAAAAAAAAAAAAAAAAAAAAAAAAAAAAAAAAAAAAAAv3aB7AAAAD3RSTlMAMs3vmVREEIndIqt2\n",
       "u2aBbGR5AAAACXBIWXMAAA7EAAAOxAGVKw4bAAAA00lEQVQY02NgYGBgVHZgwAn4A3DL5RfglusE\n",
       "YnY97HIqIKJiDqYE146DX8EMnhlQo9lPPGAQYYgE8pIX8H6HiPFNgUhysBow7GXIT2Bgt2NgUYAa\n",
       "waqyAESJskxgsGFgWsDA8oGBswFmPps2SGcB8wHGjwwsDAzMFxjqE+ByumBT4wt4DBh4GBjqDzC8\n",
       "h0mxaoPNZHBi4N3AIAaUC2DYxLoA6hYIzXAbZA3QIt4DrFNYUP3A0MuQvIENaBH7nsbVB0ECNQi/\n",
       "s3gc39KHFATs8xhIAQBqdC2k++hrNgAAAABJRU5ErkJggg==\n",
       "\" style=\"display:inline;vertical-align:middle;\" /></a> <a class=\"ProveItLink\" href=\"../__pv_it/demonstrations/44f8140fa119a2ed4a3a18c9c2209efdcc1bcf4d0/proof.ipynb\" style=\"text-decoration: none\">&nbsp;&#x22A2;&nbsp;&nbsp;</a><a class=\"ProveItLink\" href=\"../__pv_it/demonstrations/5624c20a11050f8d55a86a576fe04e5ef562b0b90/expr.ipynb\"><img src=\"data:image/png;base64,iVBORw0KGgoAAAANSUhEUgAAADwAAAAlBAMAAADsC5cSAAAAMFBMVEX///8AAAAAAAAAAAAAAAAA\n",
       "AAAAAAAAAAAAAAAAAAAAAAAAAAAAAAAAAAAAAAAAAAAv3aB7AAAAD3RSTlMAIquJdkTvuxBmmd1U\n",
       "zTKBpmoTAAAACXBIWXMAAA7EAAAOxAGVKw4bAAABBElEQVQ4y2NgYFR2dGDABDDhMAH2H1ikocIc\n",
       "mQxcGzBlYcJcHxi4DTClYcJsBQz9AZjSMOF+B4b5WKyGCfcfYNDlEcCUhgqzO/Ds4sLUDRPmULET\n",
       "8sPicuzCNAU8F/HJcu5qwCPLshmfbPMWfCZL7cQU+w8CH0AspjtookCApBBZmljDiXcaA0PLlga8\n",
       "8pxYPM53bQFCHkug8h/Aa2Q8fhut8Tv4Fh45RmW/P5hJzXkCwyuG0w048hgzTwKDOkN8ADgzXcCQ\n",
       "fgPMYCkMvAI48lgDmwPfPwYunHnsfANLAgMLzjy2loFdgeEpzjxWBLLSAGceM2cIU2ANwJmZuBZ7\n",
       "aFkyMAAAeaRO+kAXFNIAAAAASUVORK5CYII=\n",
       "\" style=\"display:inline;vertical-align:middle;\" /></a></span>"
      ],
      "text/plain": [
       "{a in Real, a > 0, w in Real, w < 0, d in Real, d < 0, d > w} |- (a / d) < (a / w)"
      ]
     },
     "metadata": {},
     "output_type": "display_data"
    }
   ],
   "source": [
    "relation = greater(d, w)\n",
    "frac(a, d).deduce_bound(relation, assumptions=assumptions+[relation])"
   ]
  },
  {
   "cell_type": "code",
   "execution_count": 72,
   "metadata": {},
   "outputs": [
    {
     "data": {
      "text/html": [
       "<span style=\"font-size:20px;\"><a class=\"ProveItLink\" href=\"../../ordering/__pv_it/theorems/4aa8d696b1f407d6126de9f51a052e8d90e0848c0/expr.ipynb\"><img src=\"data:image/png;base64,iVBORw0KGgoAAAANSUhEUgAAADMAAAAQBAMAAABJt1qBAAAAMFBMVEX///8AAAAAAAAAAAAAAAAA\n",
       "AAAAAAAAAAAAAAAAAAAAAAAAAAAAAAAAAAAAAAAAAAAv3aB7AAAAD3RSTlMAIquJdkTvuxBmmd1U\n",
       "zTKBpmoTAAAACXBIWXMAAA7EAAAOxAGVKw4bAAAAzElEQVQY02NgwABz0+tvp09gwAoKhBiCpjdg\n",
       "lxJmYOdTwCXFJXABRch99+4LcKkCZJlYD4Qupg6QgYzKjg4gAcYbSAY+PysAZIQJsP8ACfAKwKXE\n",
       "bv8GmcCRycC1ASyF5IyZvSCa6wMDtwGI8Ww3EBRApNg7QV5mK2DoDwAJtCPp4ltQAaT7HRjmgwW4\n",
       "kf21ThwkdYBBlwfkAhYHJKl2FqCJ7A48u7jAInfgUlIMnBNKgS5UsRPyA4s0lTbAQr6Qofz+AeTg\n",
       "CK7ejRxyAISENKeL/c93AAAAAElFTkSuQmCC\n",
       "\" style=\"display:inline;vertical-align:middle;\" /></a>, <a class=\"ProveItLink\" href=\"../../multiplication/__pv_it/theorems/fd1125d2a818357b6ff33184c8de1f690ccc89100/expr.ipynb\"><img src=\"data:image/png;base64,iVBORw0KGgoAAAANSUhEUgAAADEAAAAQBAMAAABNQoq8AAAAMFBMVEX///8AAAAAAAAAAAAAAAAA\n",
       "AAAAAAAAAAAAAAAAAAAAAAAAAAAAAAAAAAAAAAAAAAAv3aB7AAAAD3RSTlMAIquJdkTvuxBmmd1U\n",
       "zTKBpmoTAAAACXBIWXMAAA7EAAAOxAGVKw4bAAAAwUlEQVQY02NgwAaMvQSwijPwHuDYiF1mNgOD\n",
       "ORK3dwKcWcTAcL4BIcNh7QBj/mJgeH+AgYFR2REq5G0BVQOSAZoQJsD+A2b+CjDF+Bko48DAkcnA\n",
       "tQFmzNmFcBkDBq4PDNwGcMtiNUCmAWXiHRjYChj6AxAyFVAXnD/A0O/AMB8ucVYRTJUzMMxvYOg/\n",
       "wKDLAw2L2Qsh9DQGhrUMDOwOPLu4UF3NwH2AIw9onYqdkB/YF95wn3IsdnqAFDrdExiIBABTrC1A\n",
       "J5qKhQAAAABJRU5ErkJggg==\n",
       "\" style=\"display:inline;vertical-align:middle;\" /></a>, <a class=\"ProveItLink\" href=\"../__pv_it/demonstrations/41c3ad9f29c40b69fd61c49f41684c1b813e9e850/expr.ipynb\"><img src=\"data:image/png;base64,iVBORw0KGgoAAAANSUhEUgAAADMAAAAQBAMAAABJt1qBAAAAMFBMVEX///8AAAAAAAAAAAAAAAAA\n",
       "AAAAAAAAAAAAAAAAAAAAAAAAAAAAAAAAAAAAAAAAAAAv3aB7AAAAD3RSTlMAMs3vmVREEIndIqt2\n",
       "u2aBbGR5AAAACXBIWXMAAA7EAAAOxAGVKw4bAAAA3klEQVQY02NgwACPbO9r2j6AsBmVHVDkLqxm\n",
       "yH5bAGHzB6BKrWDgZdwAYecXoEuxLFCAsDsh1NmZMxXgUhcgYipgMuk4Qhd3OchArh0Hv4IEuNSR\n",
       "DJQNWgBkJC/g/Q4SYFoAl1qs+RNkArsdAwvYBiYkZ7wrAtEsHxg4G0AM4ZlAcAEixVsH8jLzBYb6\n",
       "BJBALZIuRofrQLr+AMN7sAAnsr8c14KkAhg2sYJcwHMASaqWB2gi7wHWKSxgEVW41BIGvgfXgC7c\n",
       "07j6IFik+loBLORvMdzVRwnXjJszFZC4AHM6StvnxMwUAAAAAElFTkSuQmCC\n",
       "\" style=\"display:inline;vertical-align:middle;\" /></a>, <a class=\"ProveItLink\" href=\"../__pv_it/demonstrations/fe553994aca4dec5c87cf7a983cda9b2748426220/expr.ipynb\"><img src=\"data:image/png;base64,iVBORw0KGgoAAAANSUhEUgAAADEAAAAQBAMAAABNQoq8AAAAMFBMVEX///8AAAAAAAAAAAAAAAAA\n",
       "AAAAAAAAAAAAAAAAAAAAAAAAAAAAAAAAAAAAAAAAAAAv3aB7AAAAD3RSTlMAMs3vmVREEIndIqt2\n",
       "u2aBbGR5AAAACXBIWXMAAA7EAAAOxAGVKw4bAAAA1ElEQVQY02NgYGBgVHZgQAUdRxZAGPwBqBJM\n",
       "AeyzIKz8AlSZlwwMvRBWJ1yMVQtE3mZgiIcoVoFJ8E0BC3xhYJAHWsC14+BXqATPDLAEO0jmAQND\n",
       "8gLe7xCJijkQmusHUOYAA7sdA4sCWGDJPAYkmQYGlg8MnA0gPrcqzDZ2oEz+AQbmCwz1CagyIBfE\n",
       "BzDUH2B4z4BqGsNdBob3BQz1AQybWBeguIDhMQODEwMD7wHWKSxQkZo5EP9xBrAbAq3b07j6INyn\n",
       "UA95nBZAC2MGPi0GwgAANusy1xQ5C+gAAAAASUVORK5CYII=\n",
       "\" style=\"display:inline;vertical-align:middle;\" /></a>, <a class=\"ProveItLink\" href=\"../__pv_it/demonstrations/a7c8ff0c12601535056faf6cbd3f54f388d751000/expr.ipynb\"><img src=\"data:image/png;base64,iVBORw0KGgoAAAANSUhEUgAAADgAAAAQBAMAAACxV6F2AAAAMFBMVEX///8AAAAAAAAAAAAAAAAA\n",
       "AAAAAAAAAAAAAAAAAAAAAAAAAAAAAAAAAAAAAAAAAAAv3aB7AAAAD3RSTlMAEHaJZjKZVN3vq7tE\n",
       "zSL5cm/iAAAACXBIWXMAAA7EAAAOxAGVKw4bAAAA3UlEQVQY02NgwAJYbu7+27mFAQfg5lvAs2Qj\n",
       "TkkDhg1ReCTzeNEEtTs6LsAluVHlzioi6VwoxcDAqOzAEMZQIQAU4ruIZCzr9nsMDMzsExhWM5w/\n",
       "ABTifYCQnNvfBFQfztbAMAkizovkIBNHkOUCnAqsXxnYQEKRHUCwAWrsRhcQo16AaQIDE4gljeyV\n",
       "MG6QM3IZuBcwxICEOJAl2eJAZuxi4DBgMAAJMSkgSTJuUAEyrBlOLuA5ABa7jpBMYHDhBgqyJSsu\n",
       "M4GISe0RgMXK7wfce7+jBtHhHZDggwIANvc2F0leF2MAAAAASUVORK5CYII=\n",
       "\" style=\"display:inline;vertical-align:middle;\" /></a>, <a class=\"ProveItLink\" href=\"../__pv_it/demonstrations/1d25dbcbf5bd42aa3cfadf17d74679bd264940be0/expr.ipynb\"><img src=\"data:image/png;base64,iVBORw0KGgoAAAANSUhEUgAAADUAAAAQBAMAAABEqSrGAAAAMFBMVEX///8AAAAAAAAAAAAAAAAA\n",
       "AAAAAAAAAAAAAAAAAAAAAAAAAAAAAAAAAAAAAAAAAAAv3aB7AAAAD3RSTlMAEHaJZjKZVN3vq7tE\n",
       "zSL5cm/iAAAACXBIWXMAAA7EAAAOxAGVKw4bAAAAzklEQVQY02NgwA6M1R7gkGHgLWDswyXnwcBg\n",
       "jSnKfg9E7mJgqBdAl2JpAwt9Y2CIL2BgVHZgCGOogCpiagYzGEFyDgzM7BMYVjOcPwCWEm6CKOH7\n",
       "DJRTYAhna2CYxMALdvGzFgYkOQMGAU4F1q8MbCARruswWxmBcucVQO5hmsDAhCoHckt9AQNDLgP3\n",
       "AoYYBhQzGXYzMPgLgLzCYcBgwIDiFgZPkB6Q/08u4DkAFRNqgniGo4BxKpBiS1ZcZoLwO9SDyVoB\n",
       "mGHGco+BGAAAXCMrKn8qppsAAAAASUVORK5CYII=\n",
       "\" style=\"display:inline;vertical-align:middle;\" /></a>, <a class=\"ProveItLink\" href=\"../__pv_it/demonstrations/567ce110e6746a2a79c5e90043964e4b941788470/expr.ipynb\"><img src=\"data:image/png;base64,iVBORw0KGgoAAAANSUhEUgAAADUAAAAQBAMAAABEqSrGAAAAMFBMVEX///8AAAAAAAAAAAAAAAAA\n",
       "AAAAAAAAAAAAAAAAAAAAAAAAAAAAAAAAAAAAAAAAAAAv3aB7AAAAD3RSTlMAMs3vmVREEIndIqt2\n",
       "u2aBbGR5AAAACXBIWXMAAA7EAAAOxAGVKw4bAAAAz0lEQVQY02NgYGBgVHZgwAn4A3DL5RfgluuE\n",
       "s4IWoMupwBgv3VEluHYc/AplnmwHU+wnHjCIMEQCLUpewPsdItR5AKKEg9WAYS9DfgIDux0DiwJY\n",
       "v+cDqHZRlgkMNgxMCxhYPjBwNoBENsE9UsB8gPEjAwsDA/MFhvoEVDmG+AIeAwYeBob6AwzvGVDN\n",
       "ZHBi4N3AIAaUC2DYxLoAxS0Mt0HWAC3iPcA6hQUixH7yOITRy5C8gQ1oEfuextUH4X6HeJDF4/iW\n",
       "PozQe7SAgTgAAL1/MkrDpQdmAAAAAElFTkSuQmCC\n",
       "\" style=\"display:inline;vertical-align:middle;\" /></a> <a class=\"ProveItLink\" href=\"../__pv_it/demonstrations/a7799cbdb05def29427428bd9c4a951b82b919b60/proof.ipynb\" style=\"text-decoration: none\">&nbsp;&#x22A2;&nbsp;&nbsp;</a><a class=\"ProveItLink\" href=\"../__pv_it/demonstrations/3fbca5947192f97df9effa1f2380ed9ef81d69010/expr.ipynb\"><img src=\"data:image/png;base64,iVBORw0KGgoAAAANSUhEUgAAADwAAAAlBAMAAADsC5cSAAAAMFBMVEX///8AAAAAAAAAAAAAAAAA\n",
       "AAAAAAAAAAAAAAAAAAAAAAAAAAAAAAAAAAAAAAAAAAAv3aB7AAAAD3RSTlMAIquJdkTvuxBmmd1U\n",
       "zTKBpmoTAAAACXBIWXMAAA7EAAAOxAGVKw4bAAABA0lEQVQ4y2NgYFR2dGDABDDhMAH2H1ikocIc\n",
       "mQxcGzBlYcJcHxi4DTClYcJsBQz9AZjSMOF+B4b5WKyGCfcfYNDlEcCUhgqzO/Ds4sLUDRPmULET\n",
       "8sPicuzCtAK9E/BKc1g74NfvbYFffvYK/PJnF6IJ/AeBD3BurAZCFAjQtcdW4DVcEa/TFpLtMQ5v\n",
       "7MHCd20BiOrGFaj8B/AGRnwDXmlr/EF5C48co7LfH0xfOE9geMVwugFHHmPmSWBQZ4gPAGemCxjS\n",
       "b4AZLIWBVwBHHmtgc+D7x8CFM4+db2BJYGDBmcfWMrArMDzFmceKQFYa4Mxj5gxhCqwBODMT12IP\n",
       "LUsGBgApYUyOfBm/fQAAAABJRU5ErkJggg==\n",
       "\" style=\"display:inline;vertical-align:middle;\" /></a></span>"
      ],
      "text/plain": [
       "{a in Real, a > 0, d in Real, d < 0, w in Real, w < 0, d < w} |- (a / d) > (a / w)"
      ]
     },
     "metadata": {},
     "output_type": "display_data"
    }
   ],
   "source": [
    "relation = Less(d, w)\n",
    "frac(a, d).deduce_bound(relation, assumptions=assumptions+[relation])"
   ]
  },
  {
   "cell_type": "code",
   "execution_count": 73,
   "metadata": {},
   "outputs": [
    {
     "data": {
      "text/html": [
       "<span style=\"font-size:20px;\"><a class=\"ProveItLink\" href=\"../../ordering/__pv_it/theorems/6e5cad5b2984ed0d75bd47bd0c542ec447a4f3570/expr.ipynb\"><img src=\"data:image/png;base64,iVBORw0KGgoAAAANSUhEUgAAADEAAAAQBAMAAABNQoq8AAAAMFBMVEX///8AAAAAAAAAAAAAAAAA\n",
       "AAAAAAAAAAAAAAAAAAAAAAAAAAAAAAAAAAAAAAAAAAAv3aB7AAAAD3RSTlMAELvv3c2ZVESJq3Yi\n",
       "MmZ3LnoBAAAACXBIWXMAAA7EAAAOxAGVKw4bAAAA1ElEQVQY02NgQAdPjfRDjB4AGYzKDmhSCqcY\n",
       "uh4JABmsCegyJxmYeBcAGfwFmDJsBwKAjH4BqMgmF5cAuIwCkDEFKtG6EaGHSxBkWtTu5SA+TyCS\n",
       "aZdKDwDd9lVA/gDIIQfgModDvoD0s39kYN4AkkFywTtREM0WwMA/AUhfdgECBYgMkxzIpywTGPpB\n",
       "7hZC0sOboAjxTj7I3SzI/sk9BJK5wGgH4nNvQJIR4gYax/WACRI84XCZYwx8DzSArl6ZBxGQ0hCA\n",
       "hbUOg1I8cph1qkBCBwoAxe43BugJR6MAAAAASUVORK5CYII=\n",
       "\" style=\"display:inline;vertical-align:middle;\" /></a>, <a class=\"ProveItLink\" href=\"../__pv_it/demonstrations/8de64b33e0a123cdd6b54b7b0537664086fcbee10/expr.ipynb\"><img src=\"data:image/png;base64,iVBORw0KGgoAAAANSUhEUgAAAC8AAAARBAMAAAC/eehCAAAAMFBMVEX///8AAAAAAAAAAAAAAAAA\n",
       "AAAAAAAAAAAAAAAAAAAAAAAAAAAAAAAAAAAAAAAAAAAv3aB7AAAAD3RSTlMAELvv3c2ZVESJq3Yi\n",
       "MmZ3LnoBAAAACXBIWXMAAA7EAAAOxAGVKw4bAAAAyElEQVQY02NgVHZgQAcztx0AkqwJYI7oA7g4\n",
       "awGjD5DiLwDzGKdsgEk8YWCYBKT6BaD8LROhDC0Ghnqg4BS4EU+gMt8YGO4DjYnavRwmU5oDNhQk\n",
       "8YCB8auA/AGYTOtCIMHzEyixgYH9IwMz3NpWRZjEBAa2AAb+CTCj1oCNAkr0b2BgmcDQXwC1PBFu\n",
       "eX0ByBv5AqjOVWJgeC/AwH+B0Q7Ng48ZGFIZGLgeMCWgBQlLAaMtUOXKPPQwZMzcdYGBAiDiAgK+\n",
       "cD4A3042O7W6bIUAAAAASUVORK5CYII=\n",
       "\" style=\"display:inline;vertical-align:middle;\" /></a>, <a class=\"ProveItLink\" href=\"../__pv_it/demonstrations/a7c8ff0c12601535056faf6cbd3f54f388d751000/expr.ipynb\"><img src=\"data:image/png;base64,iVBORw0KGgoAAAANSUhEUgAAADgAAAAQBAMAAACxV6F2AAAAMFBMVEX///8AAAAAAAAAAAAAAAAA\n",
       "AAAAAAAAAAAAAAAAAAAAAAAAAAAAAAAAAAAAAAAAAAAv3aB7AAAAD3RSTlMAEHaJZjKZVN3vq7tE\n",
       "zSL5cm/iAAAACXBIWXMAAA7EAAAOxAGVKw4bAAAA3UlEQVQY02NgwAJYbu7+27mFAQfg5lvAs2Qj\n",
       "TkkDhg1ReCTzeNEEtTs6LsAluVHlzioi6VwoxcDAqOzAEMZQIQAU4ruIZCzr9nsMDMzsExhWM5w/\n",
       "ABTifYCQnNvfBFQfztbAMAkizovkIBNHkOUCnAqsXxnYQEKRHUCwAWrsRhcQo16AaQIDE4gljeyV\n",
       "MG6QM3IZuBcwxICEOJAl2eJAZuxi4DBgMAAJMSkgSTJuUAEyrBlOLuA5ABa7jpBMYHDhBgqyJSsu\n",
       "M4GISe0RgMXK7wfce7+jBtHhHZDggwIANvc2F0leF2MAAAAASUVORK5CYII=\n",
       "\" style=\"display:inline;vertical-align:middle;\" /></a>, <a class=\"ProveItLink\" href=\"../__pv_it/demonstrations/1d25dbcbf5bd42aa3cfadf17d74679bd264940be0/expr.ipynb\"><img src=\"data:image/png;base64,iVBORw0KGgoAAAANSUhEUgAAADUAAAAQBAMAAABEqSrGAAAAMFBMVEX///8AAAAAAAAAAAAAAAAA\n",
       "AAAAAAAAAAAAAAAAAAAAAAAAAAAAAAAAAAAAAAAAAAAv3aB7AAAAD3RSTlMAEHaJZjKZVN3vq7tE\n",
       "zSL5cm/iAAAACXBIWXMAAA7EAAAOxAGVKw4bAAAAzklEQVQY02NgwA6M1R7gkGHgLWDswyXnwcBg\n",
       "jSnKfg9E7mJgqBdAl2JpAwt9Y2CIL2BgVHZgCGOogCpiagYzGEFyDgzM7BMYVjOcPwCWEm6CKOH7\n",
       "DJRTYAhna2CYxMALdvGzFgYkOQMGAU4F1q8MbCARruswWxmBcucVQO5hmsDAhCoHckt9AQNDLgP3\n",
       "AoYYBhQzGXYzMPgLgLzCYcBgwIDiFgZPkB6Q/08u4DkAFRNqgniGo4BxKpBiS1ZcZoLwO9SDyVoB\n",
       "mGHGco+BGAAAXCMrKn8qppsAAAAASUVORK5CYII=\n",
       "\" style=\"display:inline;vertical-align:middle;\" /></a>, <a class=\"ProveItLink\" href=\"../__pv_it/demonstrations/41c3ad9f29c40b69fd61c49f41684c1b813e9e850/expr.ipynb\"><img src=\"data:image/png;base64,iVBORw0KGgoAAAANSUhEUgAAADMAAAAQBAMAAABJt1qBAAAAMFBMVEX///8AAAAAAAAAAAAAAAAA\n",
       "AAAAAAAAAAAAAAAAAAAAAAAAAAAAAAAAAAAAAAAAAAAv3aB7AAAAD3RSTlMAMs3vmVREEIndIqt2\n",
       "u2aBbGR5AAAACXBIWXMAAA7EAAAOxAGVKw4bAAAA3klEQVQY02NgwACPbO9r2j6AsBmVHVDkLqxm\n",
       "yH5bAGHzB6BKrWDgZdwAYecXoEuxLFCAsDsh1NmZMxXgUhcgYipgMuk4Qhd3OchArh0Hv4IEuNSR\n",
       "DJQNWgBkJC/g/Q4SYFoAl1qs+RNkArsdAwvYBiYkZ7wrAtEsHxg4G0AM4ZlAcAEixVsH8jLzBYb6\n",
       "BJBALZIuRofrQLr+AMN7sAAnsr8c14KkAhg2sYJcwHMASaqWB2gi7wHWKSxgEVW41BIGvgfXgC7c\n",
       "07j6IFik+loBLORvMdzVRwnXjJszFZC4AHM6StvnxMwUAAAAAElFTkSuQmCC\n",
       "\" style=\"display:inline;vertical-align:middle;\" /></a>, <a class=\"ProveItLink\" href=\"../__pv_it/demonstrations/fe553994aca4dec5c87cf7a983cda9b2748426220/expr.ipynb\"><img src=\"data:image/png;base64,iVBORw0KGgoAAAANSUhEUgAAADEAAAAQBAMAAABNQoq8AAAAMFBMVEX///8AAAAAAAAAAAAAAAAA\n",
       "AAAAAAAAAAAAAAAAAAAAAAAAAAAAAAAAAAAAAAAAAAAv3aB7AAAAD3RSTlMAMs3vmVREEIndIqt2\n",
       "u2aBbGR5AAAACXBIWXMAAA7EAAAOxAGVKw4bAAAA1ElEQVQY02NgYGBgVHZgQAUdRxZAGPwBqBJM\n",
       "AeyzIKz8AlSZlwwMvRBWJ1yMVQtE3mZgiIcoVoFJ8E0BC3xhYJAHWsC14+BXqATPDLAEO0jmAQND\n",
       "8gLe7xCJijkQmusHUOYAA7sdA4sCWGDJPAYkmQYGlg8MnA0gPrcqzDZ2oEz+AQbmCwz1CagyIBfE\n",
       "BzDUH2B4z4BqGsNdBob3BQz1AQybWBeguIDhMQODEwMD7wHWKSxQkZo5EP9xBrAbAq3b07j6INyn\n",
       "UA95nBZAC2MGPi0GwgAANusy1xQ5C+gAAAAASUVORK5CYII=\n",
       "\" style=\"display:inline;vertical-align:middle;\" /></a>, <a class=\"ProveItLink\" href=\"../__pv_it/demonstrations/782c9958d93f9dde7c56bbd53e0c2b57e33fc9b10/expr.ipynb\"><img src=\"data:image/png;base64,iVBORw0KGgoAAAANSUhEUgAAADUAAAARBAMAAACP9fljAAAAMFBMVEX///8AAAAAAAAAAAAAAAAA\n",
       "AAAAAAAAAAAAAAAAAAAAAAAAAAAAAAAAAAAAAAAAAAAv3aB7AAAAD3RSTlMAMs3vmVREEIndIqt2\n",
       "u2aBbGR5AAAACXBIWXMAAA7EAAAOxAGVKw4bAAAA00lEQVQY02NgYGBgVHZgwAn4AxgY2PWwy+UX\n",
       "AImKOVjlOsEkz4wCLHIqEIoPQ5Jrx8GvUCarygIQxX7iAYMIQyRQYfIC3u8wdWzaIJ0crAYMexny\n",
       "ExjY7RhYFOByuiA5UZYJDDYMTAsYWD4wcDbAzNQGm1nAfIDxIwMLAwPzBYb6BKhbpkDdEl/AY8DA\n",
       "w8BQf4DhPQOaH5wYeDcwiAHlAhg2sS5A9fttkDVAi3gPsE5hYUANs16G5A1sQIvY9zSuPojmZRaP\n",
       "41v6GCgH7DPBQABJCACJMzCxXPWrKwAAAABJRU5ErkJggg==\n",
       "\" style=\"display:inline;vertical-align:middle;\" /></a> <a class=\"ProveItLink\" href=\"../__pv_it/demonstrations/6951121daeaea9224d480e275470b2119e2c4fac0/proof.ipynb\" style=\"text-decoration: none\">&nbsp;&#x22A2;&nbsp;&nbsp;</a><a class=\"ProveItLink\" href=\"../__pv_it/demonstrations/e9bab911a4f23af1f14a29b1a85c3646727147960/expr.ipynb\"><img src=\"data:image/png;base64,iVBORw0KGgoAAAANSUhEUgAAADwAAAArBAMAAADWAfZiAAAAMFBMVEX///8AAAAAAAAAAAAAAAAA\n",
       "AAAAAAAAAAAAAAAAAAAAAAAAAAAAAAAAAAAAAAAAAAAv3aB7AAAAD3RSTlMAELvv3c2ZVESJq3Yi\n",
       "MmZ3LnoBAAAACXBIWXMAAA7EAAAOxAGVKw4bAAABQklEQVQ4y2NgEDJhwAbgwmFYpeHC37FLQ4U5\n",
       "PmKVhQlzOmCVhgmzrt5VgEUaJiwfyPgHizRMuF6AwRqLNEw4lYHhJxZpmLAnAwc2r8GEvzOwfcTq\n",
       "bYjwXwbhB1ikYcLrGNSw+RsmLDUNm2ZcwvgBeww+WT43ATyy3J74ZCW98Zks5odPViocr6O58Esz\n",
       "HMNi+H8Q+IDutP9QQIrHCAULMFBjGagLeIMT8MrzgxO8iAsI+GJK9+N37hT8lofhkeNZuRczGzDu\n",
       "fMBwjaEEaGnzASbMbMDJbsCwiKG/gYHRjoEtAEP6OpsDMAeyHmBg+8DAMgFDWoB5A+9fBjYGBmYF\n",
       "BvkGbPmX24CBG5jNNzC8x5p/mRYw3ABKFzAsZT+AIa0FshJoKdMGdjc2TN2TGJoXcAAtZVw999Re\n",
       "TGm2zI3L5jEwAACe1FfsucpcOAAAAABJRU5ErkJggg==\n",
       "\" style=\"display:inline;vertical-align:middle;\" /></a></span>"
      ],
      "text/plain": [
       "{b in Real, b >= 0, w in Real, w < 0, d in Real, d < 0, d >= w} |- (b / d) <= (b / w)"
      ]
     },
     "metadata": {},
     "output_type": "display_data"
    }
   ],
   "source": [
    "relation = greater_eq(d, w)\n",
    "frac(b, d).deduce_bound(relation, assumptions=assumptions+[relation])"
   ]
  },
  {
   "cell_type": "code",
   "execution_count": 74,
   "metadata": {},
   "outputs": [
    {
     "data": {
      "text/html": [
       "<span style=\"font-size:20px;\"><a class=\"ProveItLink\" href=\"../../ordering/__pv_it/theorems/6e5cad5b2984ed0d75bd47bd0c542ec447a4f3570/expr.ipynb\"><img src=\"data:image/png;base64,iVBORw0KGgoAAAANSUhEUgAAADEAAAAQBAMAAABNQoq8AAAAMFBMVEX///8AAAAAAAAAAAAAAAAA\n",
       "AAAAAAAAAAAAAAAAAAAAAAAAAAAAAAAAAAAAAAAAAAAv3aB7AAAAD3RSTlMAELvv3c2ZVESJq3Yi\n",
       "MmZ3LnoBAAAACXBIWXMAAA7EAAAOxAGVKw4bAAAA1ElEQVQY02NgQAdPjfRDjB4AGYzKDmhSCqcY\n",
       "uh4JABmsCegyJxmYeBcAGfwFmDJsBwKAjH4BqMgmF5cAuIwCkDEFKtG6EaGHSxBkWtTu5SA+TyCS\n",
       "aZdKDwDd9lVA/gDIIQfgModDvoD0s39kYN4AkkFywTtREM0WwMA/AUhfdgECBYgMkxzIpywTGPpB\n",
       "7hZC0sOboAjxTj7I3SzI/sk9BJK5wGgH4nNvQJIR4gYax/WACRI84XCZYwx8DzSArl6ZBxGQ0hCA\n",
       "hbUOg1I8cph1qkBCBwoAxe43BugJR6MAAAAASUVORK5CYII=\n",
       "\" style=\"display:inline;vertical-align:middle;\" /></a>, <a class=\"ProveItLink\" href=\"../__pv_it/demonstrations/8de64b33e0a123cdd6b54b7b0537664086fcbee10/expr.ipynb\"><img src=\"data:image/png;base64,iVBORw0KGgoAAAANSUhEUgAAAC8AAAARBAMAAAC/eehCAAAAMFBMVEX///8AAAAAAAAAAAAAAAAA\n",
       "AAAAAAAAAAAAAAAAAAAAAAAAAAAAAAAAAAAAAAAAAAAv3aB7AAAAD3RSTlMAELvv3c2ZVESJq3Yi\n",
       "MmZ3LnoBAAAACXBIWXMAAA7EAAAOxAGVKw4bAAAAyElEQVQY02NgVHZgQAcztx0AkqwJYI7oA7g4\n",
       "awGjD5DiLwDzGKdsgEk8YWCYBKT6BaD8LROhDC0Ghnqg4BS4EU+gMt8YGO4DjYnavRwmU5oDNhQk\n",
       "8YCB8auA/AGYTOtCIMHzEyixgYH9IwMz3NpWRZjEBAa2AAb+CTCj1oCNAkr0b2BgmcDQXwC1PBFu\n",
       "eX0ByBv5AqjOVWJgeC/AwH+B0Q7Ng48ZGFIZGLgeMCWgBQlLAaMtUOXKPPQwZMzcdYGBAiDiAgK+\n",
       "cD4A3042O7W6bIUAAAAASUVORK5CYII=\n",
       "\" style=\"display:inline;vertical-align:middle;\" /></a>, <a class=\"ProveItLink\" href=\"../__pv_it/demonstrations/41c3ad9f29c40b69fd61c49f41684c1b813e9e850/expr.ipynb\"><img src=\"data:image/png;base64,iVBORw0KGgoAAAANSUhEUgAAADMAAAAQBAMAAABJt1qBAAAAMFBMVEX///8AAAAAAAAAAAAAAAAA\n",
       "AAAAAAAAAAAAAAAAAAAAAAAAAAAAAAAAAAAAAAAAAAAv3aB7AAAAD3RSTlMAMs3vmVREEIndIqt2\n",
       "u2aBbGR5AAAACXBIWXMAAA7EAAAOxAGVKw4bAAAA3klEQVQY02NgwACPbO9r2j6AsBmVHVDkLqxm\n",
       "yH5bAGHzB6BKrWDgZdwAYecXoEuxLFCAsDsh1NmZMxXgUhcgYipgMuk4Qhd3OchArh0Hv4IEuNSR\n",
       "DJQNWgBkJC/g/Q4SYFoAl1qs+RNkArsdAwvYBiYkZ7wrAtEsHxg4G0AM4ZlAcAEixVsH8jLzBYb6\n",
       "BJBALZIuRofrQLr+AMN7sAAnsr8c14KkAhg2sYJcwHMASaqWB2gi7wHWKSxgEVW41BIGvgfXgC7c\n",
       "07j6IFik+loBLORvMdzVRwnXjJszFZC4AHM6StvnxMwUAAAAAElFTkSuQmCC\n",
       "\" style=\"display:inline;vertical-align:middle;\" /></a>, <a class=\"ProveItLink\" href=\"../__pv_it/demonstrations/fe553994aca4dec5c87cf7a983cda9b2748426220/expr.ipynb\"><img src=\"data:image/png;base64,iVBORw0KGgoAAAANSUhEUgAAADEAAAAQBAMAAABNQoq8AAAAMFBMVEX///8AAAAAAAAAAAAAAAAA\n",
       "AAAAAAAAAAAAAAAAAAAAAAAAAAAAAAAAAAAAAAAAAAAv3aB7AAAAD3RSTlMAMs3vmVREEIndIqt2\n",
       "u2aBbGR5AAAACXBIWXMAAA7EAAAOxAGVKw4bAAAA1ElEQVQY02NgYGBgVHZgQAUdRxZAGPwBqBJM\n",
       "AeyzIKz8AlSZlwwMvRBWJ1yMVQtE3mZgiIcoVoFJ8E0BC3xhYJAHWsC14+BXqATPDLAEO0jmAQND\n",
       "8gLe7xCJijkQmusHUOYAA7sdA4sCWGDJPAYkmQYGlg8MnA0gPrcqzDZ2oEz+AQbmCwz1CagyIBfE\n",
       "BzDUH2B4z4BqGsNdBob3BQz1AQybWBeguIDhMQODEwMD7wHWKSxQkZo5EP9xBrAbAq3b07j6INyn\n",
       "UA95nBZAC2MGPi0GwgAANusy1xQ5C+gAAAAASUVORK5CYII=\n",
       "\" style=\"display:inline;vertical-align:middle;\" /></a>, <a class=\"ProveItLink\" href=\"../__pv_it/demonstrations/a7c8ff0c12601535056faf6cbd3f54f388d751000/expr.ipynb\"><img src=\"data:image/png;base64,iVBORw0KGgoAAAANSUhEUgAAADgAAAAQBAMAAACxV6F2AAAAMFBMVEX///8AAAAAAAAAAAAAAAAA\n",
       "AAAAAAAAAAAAAAAAAAAAAAAAAAAAAAAAAAAAAAAAAAAv3aB7AAAAD3RSTlMAEHaJZjKZVN3vq7tE\n",
       "zSL5cm/iAAAACXBIWXMAAA7EAAAOxAGVKw4bAAAA3UlEQVQY02NgwAJYbu7+27mFAQfg5lvAs2Qj\n",
       "TkkDhg1ReCTzeNEEtTs6LsAluVHlzioi6VwoxcDAqOzAEMZQIQAU4ruIZCzr9nsMDMzsExhWM5w/\n",
       "ABTifYCQnNvfBFQfztbAMAkizovkIBNHkOUCnAqsXxnYQEKRHUCwAWrsRhcQo16AaQIDE4gljeyV\n",
       "MG6QM3IZuBcwxICEOJAl2eJAZuxi4DBgMAAJMSkgSTJuUAEyrBlOLuA5ABa7jpBMYHDhBgqyJSsu\n",
       "M4GISe0RgMXK7wfce7+jBtHhHZDggwIANvc2F0leF2MAAAAASUVORK5CYII=\n",
       "\" style=\"display:inline;vertical-align:middle;\" /></a>, <a class=\"ProveItLink\" href=\"../__pv_it/demonstrations/1d25dbcbf5bd42aa3cfadf17d74679bd264940be0/expr.ipynb\"><img src=\"data:image/png;base64,iVBORw0KGgoAAAANSUhEUgAAADUAAAAQBAMAAABEqSrGAAAAMFBMVEX///8AAAAAAAAAAAAAAAAA\n",
       "AAAAAAAAAAAAAAAAAAAAAAAAAAAAAAAAAAAAAAAAAAAv3aB7AAAAD3RSTlMAEHaJZjKZVN3vq7tE\n",
       "zSL5cm/iAAAACXBIWXMAAA7EAAAOxAGVKw4bAAAAzklEQVQY02NgwA6M1R7gkGHgLWDswyXnwcBg\n",
       "jSnKfg9E7mJgqBdAl2JpAwt9Y2CIL2BgVHZgCGOogCpiagYzGEFyDgzM7BMYVjOcPwCWEm6CKOH7\n",
       "DJRTYAhna2CYxMALdvGzFgYkOQMGAU4F1q8MbCARruswWxmBcucVQO5hmsDAhCoHckt9AQNDLgP3\n",
       "AoYYBhQzGXYzMPgLgLzCYcBgwIDiFgZPkB6Q/08u4DkAFRNqgniGo4BxKpBiS1ZcZoLwO9SDyVoB\n",
       "mGHGco+BGAAAXCMrKn8qppsAAAAASUVORK5CYII=\n",
       "\" style=\"display:inline;vertical-align:middle;\" /></a>, <a class=\"ProveItLink\" href=\"../__pv_it/demonstrations/373c584b9e0ef8b594d23ea0a78e0bdf6bc130230/expr.ipynb\"><img src=\"data:image/png;base64,iVBORw0KGgoAAAANSUhEUgAAADUAAAARBAMAAACP9fljAAAAMFBMVEX///8AAAAAAAAAAAAAAAAA\n",
       "AAAAAAAAAAAAAAAAAAAAAAAAAAAAAAAAAAAAAAAAAAAv3aB7AAAAD3RSTlMAMs3vmVREEIndIqt2\n",
       "u2aBbGR5AAAACXBIWXMAAA7EAAAOxAGVKw4bAAAA0ElEQVQY02NgYGBgVHZgwAn4A2CsoAXocvkF\n",
       "UMZLdwx9nVD6ZDummSpgkr3zALoE146DX8FSng+gIuwnHjCIMEQCLUpewPsdJLAJ7iAOVgOGvQz5\n",
       "CQzsdgwsCiARhJwoywQGGwamBQwsHxg4G8Bmw80sYD7A+JGBhYGB+QJDfQKaW+ILeAwYeBgY6g8w\n",
       "vGdA84MTA+8GBjGgXADDJtYFqH6/DbIGaBHvAdYpLHAPBQmAyF6G5A1sQIvY9zSuPojmZRaP41v6\n",
       "GCgH7DPBQABJCADfhDRUSzir1gAAAABJRU5ErkJggg==\n",
       "\" style=\"display:inline;vertical-align:middle;\" /></a> <a class=\"ProveItLink\" href=\"../__pv_it/demonstrations/7a504ae99737c1053d5a5a410e18f35048172df20/proof.ipynb\" style=\"text-decoration: none\">&nbsp;&#x22A2;&nbsp;&nbsp;</a><a class=\"ProveItLink\" href=\"../__pv_it/demonstrations/9058b91f8f74b95dfba93a06e59307d76bf513ed0/expr.ipynb\"><img src=\"data:image/png;base64,iVBORw0KGgoAAAANSUhEUgAAADwAAAArBAMAAADWAfZiAAAAMFBMVEX///8AAAAAAAAAAAAAAAAA\n",
       "AAAAAAAAAAAAAAAAAAAAAAAAAAAAAAAAAAAAAAAAAAAv3aB7AAAAD3RSTlMAELvv3c2ZVESJq3Yi\n",
       "MmZ3LnoBAAAACXBIWXMAAA7EAAAOxAGVKw4bAAABQUlEQVQ4y2NgEDJhwAbgwmFYpeHC37FLQ4U5\n",
       "PmKVhQlzOmCVhgmzrt5VgEUaJiwfyPgHizRMuF6AwRqLNEw4lYHhJxZpmLAnAwc2r8GEvzOwfcTq\n",
       "bYjwXwbhB1ikYcLrGNSw+RsmLDUNm2ZcwjiBKH7ljFM24Ne/ZSJ++ScE5Etz8Mu3LsQvrYjX8DVo\n",
       "Av9B4APMaYnIokBAvMcIBIsoaXFAJOANTsArzw9O8CIuIOCLKd0vgFf3FPyWh+GR41m5FzMbMO58\n",
       "wHCNoQRoafMBJsxswMluwLCIob+BgdGOgS0AQ/o6mwMwB7IeYGD7wMAyAUNagHkD718GNgYGZgUG\n",
       "+QZs+ZfbgIEbmM03MLzHmn+ZFjDcAEoXMCxlP4AhrQWyEmgp0wZ2NzZM3ZMYmhdwAC1lXD331F5M\n",
       "abbMjcvmMTAAAHTzYAnM6LK9AAAAAElFTkSuQmCC\n",
       "\" style=\"display:inline;vertical-align:middle;\" /></a></span>"
      ],
      "text/plain": [
       "{b in Real, b >= 0, d in Real, d < 0, w in Real, w < 0, d <= w} |- (b / d) >= (b / w)"
      ]
     },
     "metadata": {},
     "output_type": "display_data"
    }
   ],
   "source": [
    "relation = LessEq(d, w)\n",
    "frac(b, d).deduce_bound(relation, assumptions=assumptions+[relation])"
   ]
  },
  {
   "cell_type": "markdown",
   "metadata": {},
   "source": [
    "Bound by the denominator with the numerator negative and denominator positive"
   ]
  },
  {
   "cell_type": "code",
   "execution_count": 75,
   "metadata": {},
   "outputs": [
    {
     "data": {
      "text/html": [
       "<span style=\"font-size:20px;\"><a class=\"ProveItLink\" href=\"../__pv_it/demonstrations/41c3ad9f29c40b69fd61c49f41684c1b813e9e850/expr.ipynb\"><img src=\"data:image/png;base64,iVBORw0KGgoAAAANSUhEUgAAADMAAAAQBAMAAABJt1qBAAAAMFBMVEX///8AAAAAAAAAAAAAAAAA\n",
       "AAAAAAAAAAAAAAAAAAAAAAAAAAAAAAAAAAAAAAAAAAAv3aB7AAAAD3RSTlMAMs3vmVREEIndIqt2\n",
       "u2aBbGR5AAAACXBIWXMAAA7EAAAOxAGVKw4bAAAA3klEQVQY02NgwACPbO9r2j6AsBmVHVDkLqxm\n",
       "yH5bAGHzB6BKrWDgZdwAYecXoEuxLFCAsDsh1NmZMxXgUhcgYipgMuk4Qhd3OchArh0Hv4IEuNSR\n",
       "DJQNWgBkJC/g/Q4SYFoAl1qs+RNkArsdAwvYBiYkZ7wrAtEsHxg4G0AM4ZlAcAEixVsH8jLzBYb6\n",
       "BJBALZIuRofrQLr+AMN7sAAnsr8c14KkAhg2sYJcwHMASaqWB2gi7wHWKSxgEVW41BIGvgfXgC7c\n",
       "07j6IFik+loBLORvMdzVRwnXjJszFZC4AHM6StvnxMwUAAAAAElFTkSuQmCC\n",
       "\" style=\"display:inline;vertical-align:middle;\" /></a>, <a class=\"ProveItLink\" href=\"../__pv_it/demonstrations/fe553994aca4dec5c87cf7a983cda9b2748426220/expr.ipynb\"><img src=\"data:image/png;base64,iVBORw0KGgoAAAANSUhEUgAAADEAAAAQBAMAAABNQoq8AAAAMFBMVEX///8AAAAAAAAAAAAAAAAA\n",
       "AAAAAAAAAAAAAAAAAAAAAAAAAAAAAAAAAAAAAAAAAAAv3aB7AAAAD3RSTlMAMs3vmVREEIndIqt2\n",
       "u2aBbGR5AAAACXBIWXMAAA7EAAAOxAGVKw4bAAAA1ElEQVQY02NgYGBgVHZgQAUdRxZAGPwBqBJM\n",
       "AeyzIKz8AlSZlwwMvRBWJ1yMVQtE3mZgiIcoVoFJ8E0BC3xhYJAHWsC14+BXqATPDLAEO0jmAQND\n",
       "8gLe7xCJijkQmusHUOYAA7sdA4sCWGDJPAYkmQYGlg8MnA0gPrcqzDZ2oEz+AQbmCwz1CagyIBfE\n",
       "BzDUH2B4z4BqGsNdBob3BQz1AQybWBeguIDhMQODEwMD7wHWKSxQkZo5EP9xBrAbAq3b07j6INyn\n",
       "UA95nBZAC2MGPi0GwgAANusy1xQ5C+gAAAAASUVORK5CYII=\n",
       "\" style=\"display:inline;vertical-align:middle;\" /></a>, <a class=\"ProveItLink\" href=\"../../ordering/__pv_it/theorems/d1323f34847310a404e8089c2c268d3c2eb89dbf0/expr.ipynb\"><img src=\"data:image/png;base64,iVBORw0KGgoAAAANSUhEUgAAADQAAAAQBAMAAACra0H4AAAAMFBMVEX///8AAAAAAAAAAAAAAAAA\n",
       "AAAAAAAAAAAAAAAAAAAAAAAAAAAAAAAAAAAAAAAAAAAv3aB7AAAAD3RSTlMAEHarMolUmd1mIs3v\n",
       "RLtmgJDEAAAACXBIWXMAAA7EAAAOxAGVKw4bAAAAyklEQVQY02NgwACce9797nnJgBXwcRnwWj7E\n",
       "IRXA8MAZp1QVN4qQXkfHBrgUH7LMbUUkXYbCQIaQskhoApDm2ohkIMuzXUBGAZMRewOQ5l6AkDrd\n",
       "3yQA9MUCzo/ME0BSSM6InAiylIWBHWw3g08HEDyAGvhwJliMRwFMySE73p1PAMS6v4ARRHMgS7F7\n",
       "AfXLXbBhYAUJMCkgSTE+0GRgyHesYbgGFtmGkCpgmMl3gUFcia0yASwi/FYAFvL/FvC9/oYcHFdf\n",
       "QAIKCgBACzQrtGfvLgAAAABJRU5ErkJggg==\n",
       "\" style=\"display:inline;vertical-align:middle;\" /></a>, <a class=\"ProveItLink\" href=\"../../number_sets/real_numbers/__pv_it/theorems/0c04c146b0f7b92967ed28917fb83981f8ee0b1b0/expr.ipynb\"><img src=\"data:image/png;base64,iVBORw0KGgoAAAANSUhEUgAAADEAAAAQBAMAAABNQoq8AAAAMFBMVEX///8AAAAAAAAAAAAAAAAA\n",
       "AAAAAAAAAAAAAAAAAAAAAAAAAAAAAAAAAAAAAAAAAAAv3aB7AAAAD3RSTlMAEHarMolUmd1mIs3v\n",
       "RLtmgJDEAAAACXBIWXMAAA7EAAAOxAGVKw4bAAAAv0lEQVQY02NgwAZC1RdgFWfgTmDswi4zg4Eh\n",
       "DokrPQHOfMzAkC+AkGGMUIAxvzMw+CcwMAgpi4QmgAU0AqFqQDJAEwqYjNgboOYXgimur0AZBQbO\n",
       "BZwfmWFWZFfBZQIYWBjYNyAsu20IMg0ocx9kKY8CksxDqAvyQVbfX8AIc2K2FZh6x8AwX4BB7oIN\n",
       "AyvMh1UQeg4DQzVQm2MNwzUGFFczcCQwHmFgEFdiqwR7h1EDbh9jqbIDUuhITGAgEgAAPjAn/CdE\n",
       "pSIAAAAASUVORK5CYII=\n",
       "\" style=\"display:inline;vertical-align:middle;\" /></a>, <a class=\"ProveItLink\" href=\"../../ordering/__pv_it/theorems/4aa8d696b1f407d6126de9f51a052e8d90e0848c0/expr.ipynb\"><img src=\"data:image/png;base64,iVBORw0KGgoAAAANSUhEUgAAADMAAAAQBAMAAABJt1qBAAAAMFBMVEX///8AAAAAAAAAAAAAAAAA\n",
       "AAAAAAAAAAAAAAAAAAAAAAAAAAAAAAAAAAAAAAAAAAAv3aB7AAAAD3RSTlMAIquJdkTvuxBmmd1U\n",
       "zTKBpmoTAAAACXBIWXMAAA7EAAAOxAGVKw4bAAAAzElEQVQY02NgwABz0+tvp09gwAoKhBiCpjdg\n",
       "lxJmYOdTwCXFJXABRch99+4LcKkCZJlYD4Qupg6QgYzKjg4gAcYbSAY+PysAZIQJsP8ACfAKwKXE\n",
       "bv8GmcCRycC1ASyF5IyZvSCa6wMDtwGI8Ww3EBRApNg7QV5mK2DoDwAJtCPp4ltQAaT7HRjmgwW4\n",
       "kf21ThwkdYBBlwfkAhYHJKl2FqCJ7A48u7jAInfgUlIMnBNKgS5UsRPyA4s0lTbAQr6Qofz+AeTg\n",
       "CK7ejRxyAISENKeL/c93AAAAAElFTkSuQmCC\n",
       "\" style=\"display:inline;vertical-align:middle;\" /></a>, <a class=\"ProveItLink\" href=\"../../multiplication/__pv_it/theorems/fd1125d2a818357b6ff33184c8de1f690ccc89100/expr.ipynb\"><img src=\"data:image/png;base64,iVBORw0KGgoAAAANSUhEUgAAADEAAAAQBAMAAABNQoq8AAAAMFBMVEX///8AAAAAAAAAAAAAAAAA\n",
       "AAAAAAAAAAAAAAAAAAAAAAAAAAAAAAAAAAAAAAAAAAAv3aB7AAAAD3RSTlMAIquJdkTvuxBmmd1U\n",
       "zTKBpmoTAAAACXBIWXMAAA7EAAAOxAGVKw4bAAAAwUlEQVQY02NgwAaMvQSwijPwHuDYiF1mNgOD\n",
       "ORK3dwKcWcTAcL4BIcNh7QBj/mJgeH+AgYFR2REq5G0BVQOSAZoQJsD+A2b+CjDF+Bko48DAkcnA\n",
       "tQFmzNmFcBkDBq4PDNwGcMtiNUCmAWXiHRjYChj6AxAyFVAXnD/A0O/AMB8ucVYRTJUzMMxvYOg/\n",
       "wKDLAw2L2Qsh9DQGhrUMDOwOPLu4UF3NwH2AIw9onYqdkB/YF95wn3IsdnqAFDrdExiIBABTrC1A\n",
       "J5qKhQAAAABJRU5ErkJggg==\n",
       "\" style=\"display:inline;vertical-align:middle;\" /></a>, <a class=\"ProveItLink\" href=\"../__pv_it/demonstrations/d2a7966a0ecdbabf7c84da52ab0220ff0e97e5820/expr.ipynb\"><img src=\"data:image/png;base64,iVBORw0KGgoAAAANSUhEUgAAADIAAAAOBAMAAACfqVJUAAAAMFBMVEX///8AAAAAAAAAAAAAAAAA\n",
       "AAAAAAAAAAAAAAAAAAAAAAAAAAAAAAAAAAAAAAAAAAAv3aB7AAAAD3RSTlMAIquJdkTvuxBmmd1U\n",
       "zTKBpmoTAAAACXBIWXMAAA7EAAAOxAGVKw4bAAAAp0lEQVQY02NgIAx6J+CS4bB2QBNhVHaECnlb\n",
       "wBS5aDy2YWAIE2D/ARWZvQJCczE4Oaxm4Mhk4NoA0392IZiayDC/QZOB6wMDtwHc6FgNEPmAYS2Q\n",
       "ZCtg6A9AyFRA6BQg7ndgmA+XOKsIoVk/MnQw9B9g0OURgLoAYg1HKVMCgwEDuwPPLi5UV/P860pg\n",
       "PcDAoWIn5AdW6Q3zKccSh1NzkHzcPYGBSAAAHegjXMyIrKsAAAAASUVORK5CYII=\n",
       "\" style=\"display:inline;vertical-align:middle;\" /></a> <a class=\"ProveItLink\" href=\"../__pv_it/demonstrations/c3d9159020392de2d2a33a4d2cb61052610c62830/proof.ipynb\" style=\"text-decoration: none\">&nbsp;&#x22A2;&nbsp;&nbsp;</a><a class=\"ProveItLink\" href=\"../__pv_it/demonstrations/620ea3b7ba8e4d7df6f224be2d0ebf7748fb79780/expr.ipynb\"><img src=\"data:image/png;base64,iVBORw0KGgoAAAANSUhEUgAAADgAAAArBAMAAADf6lYYAAAAMFBMVEX///8AAAAAAAAAAAAAAAAA\n",
       "AAAAAAAAAAAAAAAAAAAAAAAAAAAAAAAAAAAAAAAAAAAv3aB7AAAAD3RSTlMAMs3vmVREEIndIqt2\n",
       "u2aBbGR5AAAACXBIWXMAAA7EAAAOxAGVKw4bAAABAklEQVQ4y2NgYGBgVHZgwAQwUf4ALJIw0fwC\n",
       "bJJQ0U5scjBRFaySIFGuHQe/YspARZMX8H7HlISIstsxsChgyEFFWT4wcDZgSEJFmS8w1CdgSEJF\n",
       "6w8wvMe0EipaH8CwiXUBhiRElPcA6xQWDJ1QUfY9jasPYroWqyj1QdEDPJLsnQfw6T3Zjk/2pTs+\n",
       "2SAvfLJJ25F5/0HgA0LyOkL0P7qxu/A4yIssr7CfxBMIlQ8YBj/g2nEKixdqThd2BODKSA48e1gm\n",
       "gLPMBAw5vgV837kf4MhIjJCshz0jAcUPMODKSMDiYgF7AY6MVJuwmYGDAUdGihd3ZkjFlWVKzrD6\n",
       "BTAAAOf7XrCwzx3SAAAAAElFTkSuQmCC\n",
       "\" style=\"display:inline;vertical-align:middle;\" /></a></span>"
      ],
      "text/plain": [
       "{d in Real, d < 0, x in Real, x > 0, a in Real, a > 0, a > x} |- (d / a) > (d / x)"
      ]
     },
     "metadata": {},
     "output_type": "display_data"
    }
   ],
   "source": [
    "relation = greater(a, x)\n",
    "frac(d, a).deduce_bound(relation, assumptions=assumptions+[relation])"
   ]
  },
  {
   "cell_type": "code",
   "execution_count": 76,
   "metadata": {},
   "outputs": [
    {
     "data": {
      "text/html": [
       "<span style=\"font-size:20px;\"><a class=\"ProveItLink\" href=\"../__pv_it/demonstrations/41c3ad9f29c40b69fd61c49f41684c1b813e9e850/expr.ipynb\"><img src=\"data:image/png;base64,iVBORw0KGgoAAAANSUhEUgAAADMAAAAQBAMAAABJt1qBAAAAMFBMVEX///8AAAAAAAAAAAAAAAAA\n",
       "AAAAAAAAAAAAAAAAAAAAAAAAAAAAAAAAAAAAAAAAAAAv3aB7AAAAD3RSTlMAMs3vmVREEIndIqt2\n",
       "u2aBbGR5AAAACXBIWXMAAA7EAAAOxAGVKw4bAAAA3klEQVQY02NgwACPbO9r2j6AsBmVHVDkLqxm\n",
       "yH5bAGHzB6BKrWDgZdwAYecXoEuxLFCAsDsh1NmZMxXgUhcgYipgMuk4Qhd3OchArh0Hv4IEuNSR\n",
       "DJQNWgBkJC/g/Q4SYFoAl1qs+RNkArsdAwvYBiYkZ7wrAtEsHxg4G0AM4ZlAcAEixVsH8jLzBYb6\n",
       "BJBALZIuRofrQLr+AMN7sAAnsr8c14KkAhg2sYJcwHMASaqWB2gi7wHWKSxgEVW41BIGvgfXgC7c\n",
       "07j6IFik+loBLORvMdzVRwnXjJszFZC4AHM6StvnxMwUAAAAAElFTkSuQmCC\n",
       "\" style=\"display:inline;vertical-align:middle;\" /></a>, <a class=\"ProveItLink\" href=\"../__pv_it/demonstrations/fe553994aca4dec5c87cf7a983cda9b2748426220/expr.ipynb\"><img src=\"data:image/png;base64,iVBORw0KGgoAAAANSUhEUgAAADEAAAAQBAMAAABNQoq8AAAAMFBMVEX///8AAAAAAAAAAAAAAAAA\n",
       "AAAAAAAAAAAAAAAAAAAAAAAAAAAAAAAAAAAAAAAAAAAv3aB7AAAAD3RSTlMAMs3vmVREEIndIqt2\n",
       "u2aBbGR5AAAACXBIWXMAAA7EAAAOxAGVKw4bAAAA1ElEQVQY02NgYGBgVHZgQAUdRxZAGPwBqBJM\n",
       "AeyzIKz8AlSZlwwMvRBWJ1yMVQtE3mZgiIcoVoFJ8E0BC3xhYJAHWsC14+BXqATPDLAEO0jmAQND\n",
       "8gLe7xCJijkQmusHUOYAA7sdA4sCWGDJPAYkmQYGlg8MnA0gPrcqzDZ2oEz+AQbmCwz1CagyIBfE\n",
       "BzDUH2B4z4BqGsNdBob3BQz1AQybWBeguIDhMQODEwMD7wHWKSxQkZo5EP9xBrAbAq3b07j6INyn\n",
       "UA95nBZAC2MGPi0GwgAANusy1xQ5C+gAAAAASUVORK5CYII=\n",
       "\" style=\"display:inline;vertical-align:middle;\" /></a>, <a class=\"ProveItLink\" href=\"../../ordering/__pv_it/theorems/4aa8d696b1f407d6126de9f51a052e8d90e0848c0/expr.ipynb\"><img src=\"data:image/png;base64,iVBORw0KGgoAAAANSUhEUgAAADMAAAAQBAMAAABJt1qBAAAAMFBMVEX///8AAAAAAAAAAAAAAAAA\n",
       "AAAAAAAAAAAAAAAAAAAAAAAAAAAAAAAAAAAAAAAAAAAv3aB7AAAAD3RSTlMAIquJdkTvuxBmmd1U\n",
       "zTKBpmoTAAAACXBIWXMAAA7EAAAOxAGVKw4bAAAAzElEQVQY02NgwABz0+tvp09gwAoKhBiCpjdg\n",
       "lxJmYOdTwCXFJXABRch99+4LcKkCZJlYD4Qupg6QgYzKjg4gAcYbSAY+PysAZIQJsP8ACfAKwKXE\n",
       "bv8GmcCRycC1ASyF5IyZvSCa6wMDtwGI8Ww3EBRApNg7QV5mK2DoDwAJtCPp4ltQAaT7HRjmgwW4\n",
       "kf21ThwkdYBBlwfkAhYHJKl2FqCJ7A48u7jAInfgUlIMnBNKgS5UsRPyA4s0lTbAQr6Qofz+AeTg\n",
       "CK7ejRxyAISENKeL/c93AAAAAElFTkSuQmCC\n",
       "\" style=\"display:inline;vertical-align:middle;\" /></a>, <a class=\"ProveItLink\" href=\"../../multiplication/__pv_it/theorems/fd1125d2a818357b6ff33184c8de1f690ccc89100/expr.ipynb\"><img src=\"data:image/png;base64,iVBORw0KGgoAAAANSUhEUgAAADEAAAAQBAMAAABNQoq8AAAAMFBMVEX///8AAAAAAAAAAAAAAAAA\n",
       "AAAAAAAAAAAAAAAAAAAAAAAAAAAAAAAAAAAAAAAAAAAv3aB7AAAAD3RSTlMAIquJdkTvuxBmmd1U\n",
       "zTKBpmoTAAAACXBIWXMAAA7EAAAOxAGVKw4bAAAAwUlEQVQY02NgwAaMvQSwijPwHuDYiF1mNgOD\n",
       "ORK3dwKcWcTAcL4BIcNh7QBj/mJgeH+AgYFR2REq5G0BVQOSAZoQJsD+A2b+CjDF+Bko48DAkcnA\n",
       "tQFmzNmFcBkDBq4PDNwGcMtiNUCmAWXiHRjYChj6AxAyFVAXnD/A0O/AMB8ucVYRTJUzMMxvYOg/\n",
       "wKDLAw2L2Qsh9DQGhrUMDOwOPLu4UF3NwH2AIw9onYqdkB/YF95wn3IsdnqAFDrdExiIBABTrC1A\n",
       "J5qKhQAAAABJRU5ErkJggg==\n",
       "\" style=\"display:inline;vertical-align:middle;\" /></a>, <a class=\"ProveItLink\" href=\"../../ordering/__pv_it/theorems/d1323f34847310a404e8089c2c268d3c2eb89dbf0/expr.ipynb\"><img src=\"data:image/png;base64,iVBORw0KGgoAAAANSUhEUgAAADQAAAAQBAMAAACra0H4AAAAMFBMVEX///8AAAAAAAAAAAAAAAAA\n",
       "AAAAAAAAAAAAAAAAAAAAAAAAAAAAAAAAAAAAAAAAAAAv3aB7AAAAD3RSTlMAEHarMolUmd1mIs3v\n",
       "RLtmgJDEAAAACXBIWXMAAA7EAAAOxAGVKw4bAAAAyklEQVQY02NgwACce9797nnJgBXwcRnwWj7E\n",
       "IRXA8MAZp1QVN4qQXkfHBrgUH7LMbUUkXYbCQIaQskhoApDm2ohkIMuzXUBGAZMRewOQ5l6AkDrd\n",
       "3yQA9MUCzo/ME0BSSM6InAiylIWBHWw3g08HEDyAGvhwJliMRwFMySE73p1PAMS6v4ARRHMgS7F7\n",
       "AfXLXbBhYAUJMCkgSTE+0GRgyHesYbgGFtmGkCpgmMl3gUFcia0yASwi/FYAFvL/FvC9/oYcHFdf\n",
       "QAIKCgBACzQrtGfvLgAAAABJRU5ErkJggg==\n",
       "\" style=\"display:inline;vertical-align:middle;\" /></a>, <a class=\"ProveItLink\" href=\"../../number_sets/real_numbers/__pv_it/theorems/0c04c146b0f7b92967ed28917fb83981f8ee0b1b0/expr.ipynb\"><img src=\"data:image/png;base64,iVBORw0KGgoAAAANSUhEUgAAADEAAAAQBAMAAABNQoq8AAAAMFBMVEX///8AAAAAAAAAAAAAAAAA\n",
       "AAAAAAAAAAAAAAAAAAAAAAAAAAAAAAAAAAAAAAAAAAAv3aB7AAAAD3RSTlMAEHarMolUmd1mIs3v\n",
       "RLtmgJDEAAAACXBIWXMAAA7EAAAOxAGVKw4bAAAAv0lEQVQY02NgwAZC1RdgFWfgTmDswi4zg4Eh\n",
       "DokrPQHOfMzAkC+AkGGMUIAxvzMw+CcwMAgpi4QmgAU0AqFqQDJAEwqYjNgboOYXgimur0AZBQbO\n",
       "BZwfmWFWZFfBZQIYWBjYNyAsu20IMg0ocx9kKY8CksxDqAvyQVbfX8AIc2K2FZh6x8AwX4BB7oIN\n",
       "AyvMh1UQeg4DQzVQm2MNwzUGFFczcCQwHmFgEFdiqwR7h1EDbh9jqbIDUuhITGAgEgAAPjAn/CdE\n",
       "pSIAAAAASUVORK5CYII=\n",
       "\" style=\"display:inline;vertical-align:middle;\" /></a>, <a class=\"ProveItLink\" href=\"../__pv_it/demonstrations/4754e503f1b9bbcdbc3766185915ea4595df3b130/expr.ipynb\"><img src=\"data:image/png;base64,iVBORw0KGgoAAAANSUhEUgAAADIAAAAOBAMAAACfqVJUAAAAMFBMVEX///8AAAAAAAAAAAAAAAAA\n",
       "AAAAAAAAAAAAAAAAAAAAAAAAAAAAAAAAAAAAAAAAAAAv3aB7AAAAD3RSTlMAIquJdkTvuxBmmd1U\n",
       "zTKBpmoTAAAACXBIWXMAAA7EAAAOxAGVKw4bAAAAqElEQVQY02NgIBLwXMQhwbmrAYnHqOzoAGWy\n",
       "bIZIcLhoPLZhYAgTYP8BkWjeAlXBxeDksJqBI5OBawOYL7UTZsxEhvkNmgxcHxi4DUBcpjtwCx4w\n",
       "rAWSbAUM/QFoMgwMKUDc78AwnwHNNAbWjwwdDP0HGHR5BFBcwFHKlMBgwMDuwLOLC6q0ZQvY1Tz/\n",
       "uhJYDzBwqNgJ+cF9CvYQxxKHU3MwAuEiEUEIAJqZJcgWZ+RPAAAAAElFTkSuQmCC\n",
       "\" style=\"display:inline;vertical-align:middle;\" /></a> <a class=\"ProveItLink\" href=\"../__pv_it/demonstrations/79eb9385149be75ed2204d9b1fd3720f9ee7f27e0/proof.ipynb\" style=\"text-decoration: none\">&nbsp;&#x22A2;&nbsp;&nbsp;</a><a class=\"ProveItLink\" href=\"../__pv_it/demonstrations/4212f55f8cfb2e4f425127f3e30dbfe2885b31c80/expr.ipynb\"><img src=\"data:image/png;base64,iVBORw0KGgoAAAANSUhEUgAAADgAAAArBAMAAADf6lYYAAAAMFBMVEX///8AAAAAAAAAAAAAAAAA\n",
       "AAAAAAAAAAAAAAAAAAAAAAAAAAAAAAAAAAAAAAAAAAAv3aB7AAAAD3RSTlMAMs3vmVREEIndIqt2\n",
       "u2aBbGR5AAAACXBIWXMAAA7EAAAOxAGVKw4bAAABAUlEQVQ4y2NgYGBgVHZgwAQwUf4ALJIw0fwC\n",
       "bJJQ0U5scjBRFaySIFGuHQe/YspARZMX8H7HlISIstsxsChgyEFFWT4wcDZgSEJFmS8w1CdgSEJF\n",
       "6w8wvMe0EipaH8CwiXUBhiRElPcA6xQWDJ1QUfY9jasPYroWqyiNAKsWbjm+KQU45Xhm4JarmIPb\n",
       "zCXzcMtxq2II/QeBD+iSYNH/xBqL30EMDDVzCvDI8s3AK6vFMKgB145TB7D4+HRhRwCujOTAs4dl\n",
       "AjjLTMD07gK+79wPcGQkRkjWw56RgOIHGHBlJGBxsYC9AEdGqk3YzMDBgCMjxYs7M6TiyjIlZ1j9\n",
       "AhgAHIhaX6vemjoAAAAASUVORK5CYII=\n",
       "\" style=\"display:inline;vertical-align:middle;\" /></a></span>"
      ],
      "text/plain": [
       "{d in Real, d < 0, a in Real, a > 0, x in Real, x > 0, a < x} |- (d / a) < (d / x)"
      ]
     },
     "metadata": {},
     "output_type": "display_data"
    }
   ],
   "source": [
    "relation = Less(a, x)\n",
    "frac(d, a).deduce_bound(relation, assumptions=assumptions+[relation])"
   ]
  },
  {
   "cell_type": "code",
   "execution_count": 77,
   "metadata": {},
   "outputs": [
    {
     "data": {
      "text/html": [
       "<span style=\"font-size:20px;\"><a class=\"ProveItLink\" href=\"../../exponentiation/__pv_it/theorems/d550e8309ef79ca46e4c9fb5617a392ea678789b0/expr.ipynb\"><img src=\"data:image/png;base64,iVBORw0KGgoAAAANSUhEUgAAADEAAAAQBAMAAABNQoq8AAAAMFBMVEX///8AAAAAAAAAAAAAAAAA\n",
       "AAAAAAAAAAAAAAAAAAAAAAAAAAAAAAAAAAAAAAAAAAAv3aB7AAAAD3RSTlMAiXZmMiLdVJm77xBE\n",
       "zatgdeJyAAAACXBIWXMAAA7EAAAOxAGVKw4bAAAAvUlEQVQY02NgQAe2K+dfW2nAgA1MiGM4Z7kB\n",
       "q0wgAyfLAxwyHAEXkEU009IuwGUmIEmc1Ubo4dsNNk1I2QFIst5GMs2zNgDICCvgAGnlDYDLRF37\n",
       "BtafyMClAJJBcoHxXhDN8RvC90oDggkQGc7NIJ9yQV2xE0kPS8NsIL1fAcJnQ/ZPSySQ5gdqPACk\n",
       "mRSQZHYyAUWBDmMEuZrhOlwmgoHZYA6QIWgM8eK+ORtgYT2VYeb9AqRAODgtDTm0ALktNaaWdOV1\n",
       "AAAAAElFTkSuQmCC\n",
       "\" style=\"display:inline;vertical-align:middle;\" /></a>, <a class=\"ProveItLink\" href=\"../__pv_it/demonstrations/9630fc888820d32fa9d8c58c8071afc003ee4a910/expr.ipynb\"><img src=\"data:image/png;base64,iVBORw0KGgoAAAANSUhEUgAAAC8AAAARBAMAAAC/eehCAAAAMFBMVEX///8AAAAAAAAAAAAAAAAA\n",
       "AAAAAAAAAAAAAAAAAAAAAAAAAAAAAAAAAAAAAAAAAAAv3aB7AAAAD3RSTlMAiXZmMiLdVJm77xBE\n",
       "zatgdeJyAAAACXBIWXMAAA7EAAAOxAGVKw4bAAAAs0lEQVQY02NgwAIENQLQRNivgkjeAu5UVHHm\n",
       "jA0gyoyBQRJFnCkRLM4wj4GhfgOS+MYkKOMHA4N/AZAWUnYAcXckQ8W5QRIGDAxhBRwTgNx912E6\n",
       "WT8CJRQYGBIZuIAkAx+qhAADx28oPwJuFFDivAID1wRsltcXMOxXwHDuTAYG+w0M/ED7D6B60IqB\n",
       "oZeBAegkRgd4kFwBkWwF3EtAIWasjRZi3I16DgwUgG1pIJAC5wMAMScoiOyOM6EAAAAASUVORK5C\n",
       "YII=\n",
       "\" style=\"display:inline;vertical-align:middle;\" /></a>, <a class=\"ProveItLink\" href=\"../../ordering/__pv_it/theorems/d1323f34847310a404e8089c2c268d3c2eb89dbf0/expr.ipynb\"><img src=\"data:image/png;base64,iVBORw0KGgoAAAANSUhEUgAAADQAAAAQBAMAAACra0H4AAAAMFBMVEX///8AAAAAAAAAAAAAAAAA\n",
       "AAAAAAAAAAAAAAAAAAAAAAAAAAAAAAAAAAAAAAAAAAAv3aB7AAAAD3RSTlMAEHarMolUmd1mIs3v\n",
       "RLtmgJDEAAAACXBIWXMAAA7EAAAOxAGVKw4bAAAAyklEQVQY02NgwACce9797nnJgBXwcRnwWj7E\n",
       "IRXA8MAZp1QVN4qQXkfHBrgUH7LMbUUkXYbCQIaQskhoApDm2ohkIMuzXUBGAZMRewOQ5l6AkDrd\n",
       "3yQA9MUCzo/ME0BSSM6InAiylIWBHWw3g08HEDyAGvhwJliMRwFMySE73p1PAMS6v4ARRHMgS7F7\n",
       "AfXLXbBhYAUJMCkgSTE+0GRgyHesYbgGFtmGkCpgmMl3gUFcia0yASwi/FYAFvL/FvC9/oYcHFdf\n",
       "QAIKCgBACzQrtGfvLgAAAABJRU5ErkJggg==\n",
       "\" style=\"display:inline;vertical-align:middle;\" /></a>, <a class=\"ProveItLink\" href=\"../../number_sets/real_numbers/__pv_it/theorems/0c04c146b0f7b92967ed28917fb83981f8ee0b1b0/expr.ipynb\"><img src=\"data:image/png;base64,iVBORw0KGgoAAAANSUhEUgAAADEAAAAQBAMAAABNQoq8AAAAMFBMVEX///8AAAAAAAAAAAAAAAAA\n",
       "AAAAAAAAAAAAAAAAAAAAAAAAAAAAAAAAAAAAAAAAAAAv3aB7AAAAD3RSTlMAEHarMolUmd1mIs3v\n",
       "RLtmgJDEAAAACXBIWXMAAA7EAAAOxAGVKw4bAAAAv0lEQVQY02NgwAZC1RdgFWfgTmDswi4zg4Eh\n",
       "DokrPQHOfMzAkC+AkGGMUIAxvzMw+CcwMAgpi4QmgAU0AqFqQDJAEwqYjNgboOYXgimur0AZBQbO\n",
       "BZwfmWFWZFfBZQIYWBjYNyAsu20IMg0ocx9kKY8CksxDqAvyQVbfX8AIc2K2FZh6x8AwX4BB7oIN\n",
       "AyvMh1UQeg4DQzVQm2MNwzUGFFczcCQwHmFgEFdiqwR7h1EDbh9jqbIDUuhITGAgEgAAPjAn/CdE\n",
       "pSIAAAAASUVORK5CYII=\n",
       "\" style=\"display:inline;vertical-align:middle;\" /></a>, <a class=\"ProveItLink\" href=\"../../ordering/__pv_it/theorems/4aa8d696b1f407d6126de9f51a052e8d90e0848c0/expr.ipynb\"><img src=\"data:image/png;base64,iVBORw0KGgoAAAANSUhEUgAAADMAAAAQBAMAAABJt1qBAAAAMFBMVEX///8AAAAAAAAAAAAAAAAA\n",
       "AAAAAAAAAAAAAAAAAAAAAAAAAAAAAAAAAAAAAAAAAAAv3aB7AAAAD3RSTlMAIquJdkTvuxBmmd1U\n",
       "zTKBpmoTAAAACXBIWXMAAA7EAAAOxAGVKw4bAAAAzElEQVQY02NgwABz0+tvp09gwAoKhBiCpjdg\n",
       "lxJmYOdTwCXFJXABRch99+4LcKkCZJlYD4Qupg6QgYzKjg4gAcYbSAY+PysAZIQJsP8ACfAKwKXE\n",
       "bv8GmcCRycC1ASyF5IyZvSCa6wMDtwGI8Ww3EBRApNg7QV5mK2DoDwAJtCPp4ltQAaT7HRjmgwW4\n",
       "kf21ThwkdYBBlwfkAhYHJKl2FqCJ7A48u7jAInfgUlIMnBNKgS5UsRPyA4s0lTbAQr6Qofz+AeTg\n",
       "CK7ejRxyAISENKeL/c93AAAAAElFTkSuQmCC\n",
       "\" style=\"display:inline;vertical-align:middle;\" /></a>, <a class=\"ProveItLink\" href=\"../../multiplication/__pv_it/theorems/fd1125d2a818357b6ff33184c8de1f690ccc89100/expr.ipynb\"><img src=\"data:image/png;base64,iVBORw0KGgoAAAANSUhEUgAAADEAAAAQBAMAAABNQoq8AAAAMFBMVEX///8AAAAAAAAAAAAAAAAA\n",
       "AAAAAAAAAAAAAAAAAAAAAAAAAAAAAAAAAAAAAAAAAAAv3aB7AAAAD3RSTlMAIquJdkTvuxBmmd1U\n",
       "zTKBpmoTAAAACXBIWXMAAA7EAAAOxAGVKw4bAAAAwUlEQVQY02NgwAaMvQSwijPwHuDYiF1mNgOD\n",
       "ORK3dwKcWcTAcL4BIcNh7QBj/mJgeH+AgYFR2REq5G0BVQOSAZoQJsD+A2b+CjDF+Bko48DAkcnA\n",
       "tQFmzNmFcBkDBq4PDNwGcMtiNUCmAWXiHRjYChj6AxAyFVAXnD/A0O/AMB8ucVYRTJUzMMxvYOg/\n",
       "wKDLAw2L2Qsh9DQGhrUMDOwOPLu4UF3NwH2AIw9onYqdkB/YF95wn3IsdnqAFDrdExiIBABTrC1A\n",
       "J5qKhQAAAABJRU5ErkJggg==\n",
       "\" style=\"display:inline;vertical-align:middle;\" /></a>, <a class=\"ProveItLink\" href=\"../__pv_it/demonstrations/0c635a836c670db444fe3d06a0b3010098a1be2f0/expr.ipynb\"><img src=\"data:image/png;base64,iVBORw0KGgoAAAANSUhEUgAAADIAAAAQBAMAAACmdTG/AAAAMFBMVEX///8AAAAAAAAAAAAAAAAA\n",
       "AAAAAAAAAAAAAAAAAAAAAAAAAAAAAAAAAAAAAAAAAAAv3aB7AAAAD3RSTlMAIquJdkTvuxBmmd1U\n",
       "zTKBpmoTAAAACXBIWXMAAA7EAAAOxAGVKw4bAAAAqElEQVQY02NggIHeCQw4AIe1Ay4pBm8LnFKz\n",
       "UaUYlR3hxpxdCDHYReOxDQNDmAD7D7iyWA0QycXg5LCagSOTgWsDQqYCRE5kmN+gycD1gYHbAG6a\n",
       "Iph6wLAWSLIVMPQHwFywAqYkBYj7HRjmY7ia9SNDB0P/AQZdHgEUn3KUMiUwGDCwO/Ds4kINHZ5/\n",
       "XQmsBxg4VOyE/NDCaYnDqTkMlIHu3SCwD84HAIh+J9U/VJ4wAAAAAElFTkSuQmCC\n",
       "\" style=\"display:inline;vertical-align:middle;\" /></a> <a class=\"ProveItLink\" href=\"../__pv_it/demonstrations/41024b7bee6514fcba20ac78c61755fd1d2741ed0/proof.ipynb\" style=\"text-decoration: none\">&nbsp;&#x22A2;&nbsp;&nbsp;</a><a class=\"ProveItLink\" href=\"../__pv_it/demonstrations/ad6a3d5ae2be336308c9f159cd0744c67d152dcf0/expr.ipynb\"><img src=\"data:image/png;base64,iVBORw0KGgoAAAANSUhEUgAAADgAAAAlBAMAAADl4DdoAAAAMFBMVEX///8AAAAAAAAAAAAAAAAA\n",
       "AAAAAAAAAAAAAAAAAAAAAAAAAAAAAAAAAAAAAAAAAAAv3aB7AAAAD3RSTlMAiXZmMiLdVJm77xBE\n",
       "q833A+o+AAAACXBIWXMAAA7EAAAOxAGVKw4bAAAA+0lEQVQ4y2NgYGBUMmHABBBR1nSGTkw5qCib\n",
       "AMMiTEmoaP8GLIbCRFdik4OKcn/CJgcT/czAwIMpCxUFOkoEUxIqyihshMVJ2EVxgH0GeCS5xRTw\n",
       "6VWTxidrhle2rhWf7Lnb+CRnI/P+g8AHuLFXkUT/ozmomyyv4A0EvMFHI7AtDQRSqGQa60VVLP7b\n",
       "pLtFsICB4VQA529MyQamSxwJDNyLGYAkOmAOYP7Na8DA8QGUadABCwPHAyDFNYFh/wEsTuECOWS/\n",
       "AoM9NneeD+DewLC/gOEeewC61M4DtxgYGRg4FdgzODD01Xt3MRwHxuIlkVgVDMkdSuzNBQwA73VC\n",
       "6QY+2nIAAAAASUVORK5CYII=\n",
       "\" style=\"display:inline;vertical-align:middle;\" /></a></span>"
      ],
      "text/plain": [
       "{c in Real, c <= 0, x in Real, x > 0, a in Real, a > 0, a >= x} |- (c / a) >= (c / x)"
      ]
     },
     "metadata": {},
     "output_type": "display_data"
    }
   ],
   "source": [
    "relation = greater_eq(a, x)\n",
    "frac(c, a).deduce_bound(relation, assumptions=assumptions+[relation])"
   ]
  },
  {
   "cell_type": "code",
   "execution_count": 78,
   "metadata": {},
   "outputs": [
    {
     "data": {
      "text/html": [
       "<span style=\"font-size:20px;\"><a class=\"ProveItLink\" href=\"../../exponentiation/__pv_it/theorems/d550e8309ef79ca46e4c9fb5617a392ea678789b0/expr.ipynb\"><img src=\"data:image/png;base64,iVBORw0KGgoAAAANSUhEUgAAADEAAAAQBAMAAABNQoq8AAAAMFBMVEX///8AAAAAAAAAAAAAAAAA\n",
       "AAAAAAAAAAAAAAAAAAAAAAAAAAAAAAAAAAAAAAAAAAAv3aB7AAAAD3RSTlMAiXZmMiLdVJm77xBE\n",
       "zatgdeJyAAAACXBIWXMAAA7EAAAOxAGVKw4bAAAAvUlEQVQY02NgQAe2K+dfW2nAgA1MiGM4Z7kB\n",
       "q0wgAyfLAxwyHAEXkEU009IuwGUmIEmc1Ubo4dsNNk1I2QFIst5GMs2zNgDICCvgAGnlDYDLRF37\n",
       "BtafyMClAJJBcoHxXhDN8RvC90oDggkQGc7NIJ9yQV2xE0kPS8NsIL1fAcJnQ/ZPSySQ5gdqPACk\n",
       "mRSQZHYyAUWBDmMEuZrhOlwmgoHZYA6QIWgM8eK+ORtgYT2VYeb9AqRAODgtDTm0ALktNaaWdOV1\n",
       "AAAAAElFTkSuQmCC\n",
       "\" style=\"display:inline;vertical-align:middle;\" /></a>, <a class=\"ProveItLink\" href=\"../__pv_it/demonstrations/9630fc888820d32fa9d8c58c8071afc003ee4a910/expr.ipynb\"><img src=\"data:image/png;base64,iVBORw0KGgoAAAANSUhEUgAAAC8AAAARBAMAAAC/eehCAAAAMFBMVEX///8AAAAAAAAAAAAAAAAA\n",
       "AAAAAAAAAAAAAAAAAAAAAAAAAAAAAAAAAAAAAAAAAAAv3aB7AAAAD3RSTlMAiXZmMiLdVJm77xBE\n",
       "zatgdeJyAAAACXBIWXMAAA7EAAAOxAGVKw4bAAAAs0lEQVQY02NgwAIENQLQRNivgkjeAu5UVHHm\n",
       "jA0gyoyBQRJFnCkRLM4wj4GhfgOS+MYkKOMHA4N/AZAWUnYAcXckQ8W5QRIGDAxhBRwTgNx912E6\n",
       "WT8CJRQYGBIZuIAkAx+qhAADx28oPwJuFFDivAID1wRsltcXMOxXwHDuTAYG+w0M/ED7D6B60IqB\n",
       "oZeBAegkRgd4kFwBkWwF3EtAIWasjRZi3I16DgwUgG1pIJAC5wMAMScoiOyOM6EAAAAASUVORK5C\n",
       "YII=\n",
       "\" style=\"display:inline;vertical-align:middle;\" /></a>, <a class=\"ProveItLink\" href=\"../../ordering/__pv_it/theorems/4aa8d696b1f407d6126de9f51a052e8d90e0848c0/expr.ipynb\"><img src=\"data:image/png;base64,iVBORw0KGgoAAAANSUhEUgAAADMAAAAQBAMAAABJt1qBAAAAMFBMVEX///8AAAAAAAAAAAAAAAAA\n",
       "AAAAAAAAAAAAAAAAAAAAAAAAAAAAAAAAAAAAAAAAAAAv3aB7AAAAD3RSTlMAIquJdkTvuxBmmd1U\n",
       "zTKBpmoTAAAACXBIWXMAAA7EAAAOxAGVKw4bAAAAzElEQVQY02NgwABz0+tvp09gwAoKhBiCpjdg\n",
       "lxJmYOdTwCXFJXABRch99+4LcKkCZJlYD4Qupg6QgYzKjg4gAcYbSAY+PysAZIQJsP8ACfAKwKXE\n",
       "bv8GmcCRycC1ASyF5IyZvSCa6wMDtwGI8Ww3EBRApNg7QV5mK2DoDwAJtCPp4ltQAaT7HRjmgwW4\n",
       "kf21ThwkdYBBlwfkAhYHJKl2FqCJ7A48u7jAInfgUlIMnBNKgS5UsRPyA4s0lTbAQr6Qofz+AeTg\n",
       "CK7ejRxyAISENKeL/c93AAAAAElFTkSuQmCC\n",
       "\" style=\"display:inline;vertical-align:middle;\" /></a>, <a class=\"ProveItLink\" href=\"../../multiplication/__pv_it/theorems/fd1125d2a818357b6ff33184c8de1f690ccc89100/expr.ipynb\"><img src=\"data:image/png;base64,iVBORw0KGgoAAAANSUhEUgAAADEAAAAQBAMAAABNQoq8AAAAMFBMVEX///8AAAAAAAAAAAAAAAAA\n",
       "AAAAAAAAAAAAAAAAAAAAAAAAAAAAAAAAAAAAAAAAAAAv3aB7AAAAD3RSTlMAIquJdkTvuxBmmd1U\n",
       "zTKBpmoTAAAACXBIWXMAAA7EAAAOxAGVKw4bAAAAwUlEQVQY02NgwAaMvQSwijPwHuDYiF1mNgOD\n",
       "ORK3dwKcWcTAcL4BIcNh7QBj/mJgeH+AgYFR2REq5G0BVQOSAZoQJsD+A2b+CjDF+Bko48DAkcnA\n",
       "tQFmzNmFcBkDBq4PDNwGcMtiNUCmAWXiHRjYChj6AxAyFVAXnD/A0O/AMB8ucVYRTJUzMMxvYOg/\n",
       "wKDLAw2L2Qsh9DQGhrUMDOwOPLu4UF3NwH2AIw9onYqdkB/YF95wn3IsdnqAFDrdExiIBABTrC1A\n",
       "J5qKhQAAAABJRU5ErkJggg==\n",
       "\" style=\"display:inline;vertical-align:middle;\" /></a>, <a class=\"ProveItLink\" href=\"../../ordering/__pv_it/theorems/d1323f34847310a404e8089c2c268d3c2eb89dbf0/expr.ipynb\"><img src=\"data:image/png;base64,iVBORw0KGgoAAAANSUhEUgAAADQAAAAQBAMAAACra0H4AAAAMFBMVEX///8AAAAAAAAAAAAAAAAA\n",
       "AAAAAAAAAAAAAAAAAAAAAAAAAAAAAAAAAAAAAAAAAAAv3aB7AAAAD3RSTlMAEHarMolUmd1mIs3v\n",
       "RLtmgJDEAAAACXBIWXMAAA7EAAAOxAGVKw4bAAAAyklEQVQY02NgwACce9797nnJgBXwcRnwWj7E\n",
       "IRXA8MAZp1QVN4qQXkfHBrgUH7LMbUUkXYbCQIaQskhoApDm2ohkIMuzXUBGAZMRewOQ5l6AkDrd\n",
       "3yQA9MUCzo/ME0BSSM6InAiylIWBHWw3g08HEDyAGvhwJliMRwFMySE73p1PAMS6v4ARRHMgS7F7\n",
       "AfXLXbBhYAUJMCkgSTE+0GRgyHesYbgGFtmGkCpgmMl3gUFcia0yASwi/FYAFvL/FvC9/oYcHFdf\n",
       "QAIKCgBACzQrtGfvLgAAAABJRU5ErkJggg==\n",
       "\" style=\"display:inline;vertical-align:middle;\" /></a>, <a class=\"ProveItLink\" href=\"../../number_sets/real_numbers/__pv_it/theorems/0c04c146b0f7b92967ed28917fb83981f8ee0b1b0/expr.ipynb\"><img src=\"data:image/png;base64,iVBORw0KGgoAAAANSUhEUgAAADEAAAAQBAMAAABNQoq8AAAAMFBMVEX///8AAAAAAAAAAAAAAAAA\n",
       "AAAAAAAAAAAAAAAAAAAAAAAAAAAAAAAAAAAAAAAAAAAv3aB7AAAAD3RSTlMAEHarMolUmd1mIs3v\n",
       "RLtmgJDEAAAACXBIWXMAAA7EAAAOxAGVKw4bAAAAv0lEQVQY02NgwAZC1RdgFWfgTmDswi4zg4Eh\n",
       "DokrPQHOfMzAkC+AkGGMUIAxvzMw+CcwMAgpi4QmgAU0AqFqQDJAEwqYjNgboOYXgimur0AZBQbO\n",
       "BZwfmWFWZFfBZQIYWBjYNyAsu20IMg0ocx9kKY8CksxDqAvyQVbfX8AIc2K2FZh6x8AwX4BB7oIN\n",
       "AyvMh1UQeg4DQzVQm2MNwzUGFFczcCQwHmFgEFdiqwR7h1EDbh9jqbIDUuhITGAgEgAAPjAn/CdE\n",
       "pSIAAAAASUVORK5CYII=\n",
       "\" style=\"display:inline;vertical-align:middle;\" /></a>, <a class=\"ProveItLink\" href=\"../__pv_it/demonstrations/937300339897af3199776e5b4c6e80fc405fcc410/expr.ipynb\"><img src=\"data:image/png;base64,iVBORw0KGgoAAAANSUhEUgAAADIAAAAQBAMAAACmdTG/AAAAMFBMVEX///8AAAAAAAAAAAAAAAAA\n",
       "AAAAAAAAAAAAAAAAAAAAAAAAAAAAAAAAAAAAAAAAAAAv3aB7AAAAD3RSTlMAIquJdkTvuxBmmd1U\n",
       "zTKBpmoTAAAACXBIWXMAAA7EAAAOxAGVKw4bAAAAqUlEQVQY02NgQAE8FxmwA85dDdglWDbjkGje\n",
       "gspnVHZ0ADO6dsKEOFw0HtswMIQJsP8AcZvuwBVzMTg5rGbgyGTg2gDiMiFkJjLMb9Bk4PrAwG0A\n",
       "5kvBTXvAsBZIshUw9AdguCAFiPsdGOZjuJr1I0MHQ/8BBl0eARSfcpQyJTAYMLA78OziQoTOPRDx\n",
       "ryuB9QADh4qdkB+qDzmWOJyaw0AZ6N4NAvvgfAAWXCs+lLCGtQAAAABJRU5ErkJggg==\n",
       "\" style=\"display:inline;vertical-align:middle;\" /></a> <a class=\"ProveItLink\" href=\"../__pv_it/demonstrations/186060316ec489233d6b0b4d2f602a9f9de036e90/proof.ipynb\" style=\"text-decoration: none\">&nbsp;&#x22A2;&nbsp;&nbsp;</a><a class=\"ProveItLink\" href=\"../__pv_it/demonstrations/ed9319db384028c587b94443ad0257f2c94fa4400/expr.ipynb\"><img src=\"data:image/png;base64,iVBORw0KGgoAAAANSUhEUgAAADgAAAAlBAMAAADl4DdoAAAAMFBMVEX///8AAAAAAAAAAAAAAAAA\n",
       "AAAAAAAAAAAAAAAAAAAAAAAAAAAAAAAAAAAAAAAAAAAv3aB7AAAAD3RSTlMAiXZmMiLdVJm77xBE\n",
       "q833A+o+AAAACXBIWXMAAA7EAAAOxAGVKw4bAAAA/klEQVQ4y2NgYGBUMmHABBBR1nSGTkw5qCib\n",
       "AMMiTEmoaP8GLIbCRFdik4OKcn/CJgcT/czAwIMpCxUFOkoEUxIqyihshMVJ2EXxAfanuOWYM3Ab\n",
       "xpSIW25jEm4zdyTjltv7HI9DeTEl/4PABzAzIhlV9D/RDsLvFfyBAAy+Jwz0BNvSQCCFSqaxXlRV\n",
       "wBTdpLtFsICB4VQA529MyQamSxwJDNyLGYAkRkgFMP/mNWDg+ADKNOiAhYHjAZDimsCw/wAWp3CB\n",
       "HLJfgcEemzvPB3BvYNhfwHCPPQBdaueBWwyMDAycCuwZHBj66r27GI4DM9slkVgVzISoxN5cwAAA\n",
       "XbBGVoDHXfkAAAAASUVORK5CYII=\n",
       "\" style=\"display:inline;vertical-align:middle;\" /></a></span>"
      ],
      "text/plain": [
       "{c in Real, c <= 0, a in Real, a > 0, x in Real, x > 0, a <= x} |- (c / a) <= (c / x)"
      ]
     },
     "metadata": {},
     "output_type": "display_data"
    }
   ],
   "source": [
    "relation = LessEq(a, x)\n",
    "frac(c, a).deduce_bound(relation, assumptions=assumptions+[relation])"
   ]
  },
  {
   "cell_type": "markdown",
   "metadata": {},
   "source": [
    "Bound numerator and denominator simultaneously"
   ]
  },
  {
   "cell_type": "code",
   "execution_count": 79,
   "metadata": {},
   "outputs": [
    {
     "data": {
      "text/html": [
       "<span style=\"font-size:20px;\"><a class=\"ProveItLink\" href=\"../../ordering/__pv_it/theorems/4aa8d696b1f407d6126de9f51a052e8d90e0848c0/expr.ipynb\"><img src=\"data:image/png;base64,iVBORw0KGgoAAAANSUhEUgAAADMAAAAQBAMAAABJt1qBAAAAMFBMVEX///8AAAAAAAAAAAAAAAAA\n",
       "AAAAAAAAAAAAAAAAAAAAAAAAAAAAAAAAAAAAAAAAAAAv3aB7AAAAD3RSTlMAIquJdkTvuxBmmd1U\n",
       "zTKBpmoTAAAACXBIWXMAAA7EAAAOxAGVKw4bAAAAzElEQVQY02NgwABz0+tvp09gwAoKhBiCpjdg\n",
       "lxJmYOdTwCXFJXABRch99+4LcKkCZJlYD4Qupg6QgYzKjg4gAcYbSAY+PysAZIQJsP8ACfAKwKXE\n",
       "bv8GmcCRycC1ASyF5IyZvSCa6wMDtwGI8Ww3EBRApNg7QV5mK2DoDwAJtCPp4ltQAaT7HRjmgwW4\n",
       "kf21ThwkdYBBlwfkAhYHJKl2FqCJ7A48u7jAInfgUlIMnBNKgS5UsRPyA4s0lTbAQr6Qofz+AeTg\n",
       "CK7ejRxyAISENKeL/c93AAAAAElFTkSuQmCC\n",
       "\" style=\"display:inline;vertical-align:middle;\" /></a>, <a class=\"ProveItLink\" href=\"../../multiplication/__pv_it/theorems/fd1125d2a818357b6ff33184c8de1f690ccc89100/expr.ipynb\"><img src=\"data:image/png;base64,iVBORw0KGgoAAAANSUhEUgAAADEAAAAQBAMAAABNQoq8AAAAMFBMVEX///8AAAAAAAAAAAAAAAAA\n",
       "AAAAAAAAAAAAAAAAAAAAAAAAAAAAAAAAAAAAAAAAAAAv3aB7AAAAD3RSTlMAIquJdkTvuxBmmd1U\n",
       "zTKBpmoTAAAACXBIWXMAAA7EAAAOxAGVKw4bAAAAwUlEQVQY02NgwAaMvQSwijPwHuDYiF1mNgOD\n",
       "ORK3dwKcWcTAcL4BIcNh7QBj/mJgeH+AgYFR2REq5G0BVQOSAZoQJsD+A2b+CjDF+Bko48DAkcnA\n",
       "tQFmzNmFcBkDBq4PDNwGcMtiNUCmAWXiHRjYChj6AxAyFVAXnD/A0O/AMB8ucVYRTJUzMMxvYOg/\n",
       "wKDLAw2L2Qsh9DQGhrUMDOwOPLu4UF3NwH2AIw9onYqdkB/YF95wn3IsdnqAFDrdExiIBABTrC1A\n",
       "J5qKhQAAAABJRU5ErkJggg==\n",
       "\" style=\"display:inline;vertical-align:middle;\" /></a>, <a class=\"ProveItLink\" href=\"../__pv_it/demonstrations/4c5fb6064ed81f83132c10d4b7f508806e4b6da20/expr.ipynb\"><img src=\"data:image/png;base64,iVBORw0KGgoAAAANSUhEUgAAADMAAAAQBAMAAABJt1qBAAAAMFBMVEX///8AAAAAAAAAAAAAAAAA\n",
       "AAAAAAAAAAAAAAAAAAAAAAAAAAAAAAAAAAAAAAAAAAAv3aB7AAAAD3RSTlMAMt0iZhDNdom7q0RU\n",
       "75mOI7qcAAAACXBIWXMAAA7EAAAOxAGVKw4bAAAAwklEQVQY02NgwABuN+cn3XRgwAomWDHs8gzA\n",
       "LmXBwMm4AJcUn0ECilClklICXGoCssy2UoQurlCQgYxKAiYgAeZUJAMljxkAGWEVM8BWshnApWyT\n",
       "PoFNMGXgADuUDckZLmEQFmsrmJJVAoIJECnOEIiXzSEqIpF0MT6YCmJwOzCADWRC9tdDSxDjDAMD\n",
       "2BnsBUhSkexAExlnTG8SAIvkwKXsGFgcZjMwcDCczYaIRM0OgIX8ZIaZ+QeQg2PHJCXkkAMALWov\n",
       "QlCuddsAAAAASUVORK5CYII=\n",
       "\" style=\"display:inline;vertical-align:middle;\" /></a>, <a class=\"ProveItLink\" href=\"../__pv_it/demonstrations/d92cdcd444ac2021371bcc316e1a6b8fd5671e3e0/expr.ipynb\"><img src=\"data:image/png;base64,iVBORw0KGgoAAAANSUhEUgAAADEAAAAQBAMAAABNQoq8AAAAMFBMVEX///8AAAAAAAAAAAAAAAAA\n",
       "AAAAAAAAAAAAAAAAAAAAAAAAAAAAAAAAAAAAAAAAAAAv3aB7AAAAD3RSTlMAMs3vmVREEIndIqt2\n",
       "u2aBbGR5AAAACXBIWXMAAA7EAAAOxAGVKw4bAAAAs0lEQVQY02NgYGBgVHZgwAH4A3DJ5BfgkukE\n",
       "EUUPsMiogAj2zgNowlw7Dn6FsE62w8QkJ3IBTUhewPsdKvDSHUKz6/R2A0k7BhYFmNogL4gxBQxA\n",
       "7SwfGDgb4EYnbYfQFUDXMl9gqE9AyFyHaAI5pv4Aw3u4RNAuCJ3HwA6UCWDYxLoA6gKINQysAQzc\n",
       "DAy8B1insKC5Wrb3xESg2/Y0rj4IdupJuE8bWI0SkHxc+YCBSAAAq3Uq3uIXUIMAAAAASUVORK5C\n",
       "YII=\n",
       "\" style=\"display:inline;vertical-align:middle;\" /></a>, <a class=\"ProveItLink\" href=\"../__pv_it/demonstrations/fe553994aca4dec5c87cf7a983cda9b2748426220/expr.ipynb\"><img src=\"data:image/png;base64,iVBORw0KGgoAAAANSUhEUgAAADEAAAAQBAMAAABNQoq8AAAAMFBMVEX///8AAAAAAAAAAAAAAAAA\n",
       "AAAAAAAAAAAAAAAAAAAAAAAAAAAAAAAAAAAAAAAAAAAv3aB7AAAAD3RSTlMAMs3vmVREEIndIqt2\n",
       "u2aBbGR5AAAACXBIWXMAAA7EAAAOxAGVKw4bAAAA1ElEQVQY02NgYGBgVHZgQAUdRxZAGPwBqBJM\n",
       "AeyzIKz8AlSZlwwMvRBWJ1yMVQtE3mZgiIcoVoFJ8E0BC3xhYJAHWsC14+BXqATPDLAEO0jmAQND\n",
       "8gLe7xCJijkQmusHUOYAA7sdA4sCWGDJPAYkmQYGlg8MnA0gPrcqzDZ2oEz+AQbmCwz1CagyIBfE\n",
       "BzDUH2B4z4BqGsNdBob3BQz1AQybWBeguIDhMQODEwMD7wHWKSxQkZo5EP9xBrAbAq3b07j6INyn\n",
       "UA95nBZAC2MGPi0GwgAANusy1xQ5C+gAAAAASUVORK5CYII=\n",
       "\" style=\"display:inline;vertical-align:middle;\" /></a>, <a class=\"ProveItLink\" href=\"../__pv_it/demonstrations/41c3ad9f29c40b69fd61c49f41684c1b813e9e850/expr.ipynb\"><img src=\"data:image/png;base64,iVBORw0KGgoAAAANSUhEUgAAADMAAAAQBAMAAABJt1qBAAAAMFBMVEX///8AAAAAAAAAAAAAAAAA\n",
       "AAAAAAAAAAAAAAAAAAAAAAAAAAAAAAAAAAAAAAAAAAAv3aB7AAAAD3RSTlMAMs3vmVREEIndIqt2\n",
       "u2aBbGR5AAAACXBIWXMAAA7EAAAOxAGVKw4bAAAA3klEQVQY02NgwACPbO9r2j6AsBmVHVDkLqxm\n",
       "yH5bAGHzB6BKrWDgZdwAYecXoEuxLFCAsDsh1NmZMxXgUhcgYipgMuk4Qhd3OchArh0Hv4IEuNSR\n",
       "DJQNWgBkJC/g/Q4SYFoAl1qs+RNkArsdAwvYBiYkZ7wrAtEsHxg4G0AM4ZlAcAEixVsH8jLzBYb6\n",
       "BJBALZIuRofrQLr+AMN7sAAnsr8c14KkAhg2sYJcwHMASaqWB2gi7wHWKSxgEVW41BIGvgfXgC7c\n",
       "07j6IFik+loBLORvMdzVRwnXjJszFZC4AHM6StvnxMwUAAAAAElFTkSuQmCC\n",
       "\" style=\"display:inline;vertical-align:middle;\" /></a>, <a class=\"ProveItLink\" href=\"../../ordering/__pv_it/theorems/d1323f34847310a404e8089c2c268d3c2eb89dbf0/expr.ipynb\"><img src=\"data:image/png;base64,iVBORw0KGgoAAAANSUhEUgAAADQAAAAQBAMAAACra0H4AAAAMFBMVEX///8AAAAAAAAAAAAAAAAA\n",
       "AAAAAAAAAAAAAAAAAAAAAAAAAAAAAAAAAAAAAAAAAAAv3aB7AAAAD3RSTlMAEHarMolUmd1mIs3v\n",
       "RLtmgJDEAAAACXBIWXMAAA7EAAAOxAGVKw4bAAAAyklEQVQY02NgwACce9797nnJgBXwcRnwWj7E\n",
       "IRXA8MAZp1QVN4qQXkfHBrgUH7LMbUUkXYbCQIaQskhoApDm2ohkIMuzXUBGAZMRewOQ5l6AkDrd\n",
       "3yQA9MUCzo/ME0BSSM6InAiylIWBHWw3g08HEDyAGvhwJliMRwFMySE73p1PAMS6v4ARRHMgS7F7\n",
       "AfXLXbBhYAUJMCkgSTE+0GRgyHesYbgGFtmGkCpgmMl3gUFcia0yASwi/FYAFvL/FvC9/oYcHFdf\n",
       "QAIKCgBACzQrtGfvLgAAAABJRU5ErkJggg==\n",
       "\" style=\"display:inline;vertical-align:middle;\" /></a>, <a class=\"ProveItLink\" href=\"../__pv_it/demonstrations/d2a7966a0ecdbabf7c84da52ab0220ff0e97e5820/expr.ipynb\"><img src=\"data:image/png;base64,iVBORw0KGgoAAAANSUhEUgAAADIAAAAOBAMAAACfqVJUAAAAMFBMVEX///8AAAAAAAAAAAAAAAAA\n",
       "AAAAAAAAAAAAAAAAAAAAAAAAAAAAAAAAAAAAAAAAAAAv3aB7AAAAD3RSTlMAIquJdkTvuxBmmd1U\n",
       "zTKBpmoTAAAACXBIWXMAAA7EAAAOxAGVKw4bAAAAp0lEQVQY02NgIAx6J+CS4bB2QBNhVHaECnlb\n",
       "wBS5aDy2YWAIE2D/ARWZvQJCczE4Oaxm4Mhk4NoA0392IZiayDC/QZOB6wMDtwHc6FgNEPmAYS2Q\n",
       "ZCtg6A9AyFRA6BQg7ndgmA+XOKsIoVk/MnQw9B9g0OURgLoAYg1HKVMCgwEDuwPPLi5UV/P860pg\n",
       "PcDAoWIn5AdW6Q3zKccSh1NzkHzcPYGBSAAAHegjXMyIrKsAAAAASUVORK5CYII=\n",
       "\" style=\"display:inline;vertical-align:middle;\" /></a> <a class=\"ProveItLink\" href=\"../__pv_it/demonstrations/c4b85cbe2bba87d365a597e88644a0c6e73dbdc80/proof.ipynb\" style=\"text-decoration: none\">&nbsp;&#x22A2;&nbsp;&nbsp;</a><a class=\"ProveItLink\" href=\"../__pv_it/demonstrations/e0187e14ee84a77bf4a49beb67e55d14248b0b2c0/expr.ipynb\"><img src=\"data:image/png;base64,iVBORw0KGgoAAAANSUhEUgAAADgAAAAlBAMAAADl4DdoAAAAMFBMVEX///8AAAAAAAAAAAAAAAAA\n",
       "AAAAAAAAAAAAAAAAAAAAAAAAAAAAAAAAAAAAAAAAAAAv3aB7AAAAD3RSTlMAIquJdkTvuxBmmd1U\n",
       "zTKBpmoTAAAACXBIWXMAAA7EAAAOxAGVKw4bAAABFklEQVQ4y2NgYFR2dGDAAC1OfcYHGBjCBNh/\n",
       "YEouYFHh2sDAkckAJNEBpwDnD6YJDFwfGLgNMCT5GLguACm2Aob+AExjGdhADul3YJiPRY4hXoCj\n",
       "gaH/AIMujwC6VHuAGgMzAwO7A88uLgx9518sY4hhYOBQsRPyw5DscuFZeYCBToDnIm45zl0NOOVY\n",
       "NuOWa96C20ypnegi/0HgA4jFdAdN9D+SMmRJYowl1kHAZLWlAY8sJ4ZH+a4tQMhiBB8/vqiLx2eT\n",
       "NT5H3sIpw6js9wdTlG/3A0kGXHml17lYgQGcVy5gSkowMANdiT2vADVZ4MkrIgy48wrrBAagsdjz\n",
       "CsMZBgYFXHmFr7jE+gGuvMLMcOwqAwMApwtKsFrUkRIAAAAASUVORK5CYII=\n",
       "\" style=\"display:inline;vertical-align:middle;\" /></a></span>"
      ],
      "text/plain": [
       "{a in Real, a > 0, z in Real, d > z, d < 0, d in Real, x in Real, a > x} |- (a / d) < (x / z)"
      ]
     },
     "metadata": {},
     "output_type": "display_data"
    }
   ],
   "source": [
    "# Here, we automatically prove that z < 0 indirectly.\n",
    "relations = [greater(d, z), greater(a, x)]\n",
    "frac(a, d).deduce_bound(relations, assumptions=assumptions+relations)"
   ]
  },
  {
   "cell_type": "code",
   "execution_count": 80,
   "metadata": {},
   "outputs": [
    {
     "data": {
      "text/html": [
       "<span style=\"font-size:20px;\"><a class=\"ProveItLink\" href=\"../../exponentiation/__pv_it/theorems/d550e8309ef79ca46e4c9fb5617a392ea678789b0/expr.ipynb\"><img src=\"data:image/png;base64,iVBORw0KGgoAAAANSUhEUgAAADEAAAAQBAMAAABNQoq8AAAAMFBMVEX///8AAAAAAAAAAAAAAAAA\n",
       "AAAAAAAAAAAAAAAAAAAAAAAAAAAAAAAAAAAAAAAAAAAv3aB7AAAAD3RSTlMAiXZmMiLdVJm77xBE\n",
       "zatgdeJyAAAACXBIWXMAAA7EAAAOxAGVKw4bAAAAvUlEQVQY02NgQAe2K+dfW2nAgA1MiGM4Z7kB\n",
       "q0wgAyfLAxwyHAEXkEU009IuwGUmIEmc1Ubo4dsNNk1I2QFIst5GMs2zNgDICCvgAGnlDYDLRF37\n",
       "BtafyMClAJJBcoHxXhDN8RvC90oDggkQGc7NIJ9yQV2xE0kPS8NsIL1fAcJnQ/ZPSySQ5gdqPACk\n",
       "mRSQZHYyAUWBDmMEuZrhOlwmgoHZYA6QIWgM8eK+ORtgYT2VYeb9AqRAODgtDTm0ALktNaaWdOV1\n",
       "AAAAAElFTkSuQmCC\n",
       "\" style=\"display:inline;vertical-align:middle;\" /></a>, <a class=\"ProveItLink\" href=\"../__pv_it/demonstrations/9630fc888820d32fa9d8c58c8071afc003ee4a910/expr.ipynb\"><img src=\"data:image/png;base64,iVBORw0KGgoAAAANSUhEUgAAAC8AAAARBAMAAAC/eehCAAAAMFBMVEX///8AAAAAAAAAAAAAAAAA\n",
       "AAAAAAAAAAAAAAAAAAAAAAAAAAAAAAAAAAAAAAAAAAAv3aB7AAAAD3RSTlMAiXZmMiLdVJm77xBE\n",
       "zatgdeJyAAAACXBIWXMAAA7EAAAOxAGVKw4bAAAAs0lEQVQY02NgwAIENQLQRNivgkjeAu5UVHHm\n",
       "jA0gyoyBQRJFnCkRLM4wj4GhfgOS+MYkKOMHA4N/AZAWUnYAcXckQ8W5QRIGDAxhBRwTgNx912E6\n",
       "WT8CJRQYGBIZuIAkAx+qhAADx28oPwJuFFDivAID1wRsltcXMOxXwHDuTAYG+w0M/ED7D6B60IqB\n",
       "oZeBAegkRgd4kFwBkWwF3EtAIWasjRZi3I16DgwUgG1pIJAC5wMAMScoiOyOM6EAAAAASUVORK5C\n",
       "YII=\n",
       "\" style=\"display:inline;vertical-align:middle;\" /></a>, <a class=\"ProveItLink\" href=\"../../ordering/__pv_it/theorems/4aa8d696b1f407d6126de9f51a052e8d90e0848c0/expr.ipynb\"><img src=\"data:image/png;base64,iVBORw0KGgoAAAANSUhEUgAAADMAAAAQBAMAAABJt1qBAAAAMFBMVEX///8AAAAAAAAAAAAAAAAA\n",
       "AAAAAAAAAAAAAAAAAAAAAAAAAAAAAAAAAAAAAAAAAAAv3aB7AAAAD3RSTlMAIquJdkTvuxBmmd1U\n",
       "zTKBpmoTAAAACXBIWXMAAA7EAAAOxAGVKw4bAAAAzElEQVQY02NgwABz0+tvp09gwAoKhBiCpjdg\n",
       "lxJmYOdTwCXFJXABRch99+4LcKkCZJlYD4Qupg6QgYzKjg4gAcYbSAY+PysAZIQJsP8ACfAKwKXE\n",
       "bv8GmcCRycC1ASyF5IyZvSCa6wMDtwGI8Ww3EBRApNg7QV5mK2DoDwAJtCPp4ltQAaT7HRjmgwW4\n",
       "kf21ThwkdYBBlwfkAhYHJKl2FqCJ7A48u7jAInfgUlIMnBNKgS5UsRPyA4s0lTbAQr6Qofz+AeTg\n",
       "CK7ejRxyAISENKeL/c93AAAAAElFTkSuQmCC\n",
       "\" style=\"display:inline;vertical-align:middle;\" /></a>, <a class=\"ProveItLink\" href=\"../../multiplication/__pv_it/theorems/fd1125d2a818357b6ff33184c8de1f690ccc89100/expr.ipynb\"><img src=\"data:image/png;base64,iVBORw0KGgoAAAANSUhEUgAAADEAAAAQBAMAAABNQoq8AAAAMFBMVEX///8AAAAAAAAAAAAAAAAA\n",
       "AAAAAAAAAAAAAAAAAAAAAAAAAAAAAAAAAAAAAAAAAAAv3aB7AAAAD3RSTlMAIquJdkTvuxBmmd1U\n",
       "zTKBpmoTAAAACXBIWXMAAA7EAAAOxAGVKw4bAAAAwUlEQVQY02NgwAaMvQSwijPwHuDYiF1mNgOD\n",
       "ORK3dwKcWcTAcL4BIcNh7QBj/mJgeH+AgYFR2REq5G0BVQOSAZoQJsD+A2b+CjDF+Bko48DAkcnA\n",
       "tQFmzNmFcBkDBq4PDNwGcMtiNUCmAWXiHRjYChj6AxAyFVAXnD/A0O/AMB8ucVYRTJUzMMxvYOg/\n",
       "wKDLAw2L2Qsh9DQGhrUMDOwOPLu4UF3NwH2AIw9onYqdkB/YF95wn3IsdnqAFDrdExiIBABTrC1A\n",
       "J5qKhQAAAABJRU5ErkJggg==\n",
       "\" style=\"display:inline;vertical-align:middle;\" /></a>, <a class=\"ProveItLink\" href=\"../__pv_it/demonstrations/4c5fb6064ed81f83132c10d4b7f508806e4b6da20/expr.ipynb\"><img src=\"data:image/png;base64,iVBORw0KGgoAAAANSUhEUgAAADMAAAAQBAMAAABJt1qBAAAAMFBMVEX///8AAAAAAAAAAAAAAAAA\n",
       "AAAAAAAAAAAAAAAAAAAAAAAAAAAAAAAAAAAAAAAAAAAv3aB7AAAAD3RSTlMAMt0iZhDNdom7q0RU\n",
       "75mOI7qcAAAACXBIWXMAAA7EAAAOxAGVKw4bAAAAwklEQVQY02NgwABuN+cn3XRgwAomWDHs8gzA\n",
       "LmXBwMm4AJcUn0ECilClklICXGoCssy2UoQurlCQgYxKAiYgAeZUJAMljxkAGWEVM8BWshnApWyT\n",
       "PoFNMGXgADuUDckZLmEQFmsrmJJVAoIJECnOEIiXzSEqIpF0MT6YCmJwOzCADWRC9tdDSxDjDAMD\n",
       "2BnsBUhSkexAExlnTG8SAIvkwKXsGFgcZjMwcDCczYaIRM0OgIX8ZIaZ+QeQg2PHJCXkkAMALWov\n",
       "QlCuddsAAAAASUVORK5CYII=\n",
       "\" style=\"display:inline;vertical-align:middle;\" /></a>, <a class=\"ProveItLink\" href=\"../__pv_it/demonstrations/dfa3bf9e48ef3c548fb06ffb1db21b69a2b329e70/expr.ipynb\"><img src=\"data:image/png;base64,iVBORw0KGgoAAAANSUhEUgAAADEAAAAQBAMAAABNQoq8AAAAMFBMVEX///8AAAAAAAAAAAAAAAAA\n",
       "AAAAAAAAAAAAAAAAAAAAAAAAAAAAAAAAAAAAAAAAAAAv3aB7AAAAD3RSTlMAIquJdkTvuxBmmd1U\n",
       "zTKBpmoTAAAACXBIWXMAAA7EAAAOxAGVKw4bAAAAoklEQVQY02NgQAE8FxmwA85dDdglWDbjkGje\n",
       "gspnVHZ0ADO6dsLFXu9jnMDAECbA/gPEa7oDl+C4Ym4EJDMZuDaAuEwIGcYGBgsGBq4PDNwGYL7U\n",
       "TiQrgU5hK2DoD0B3ASPI5n4HhvkYro5k4ADKHGDQ5RFA9SnPAQYmBgZ2B55dXIjQuQcin5s77wO6\n",
       "TcVOyA/NywY8uQEMlIHu3SCwD84HAMyoJtVYYowfAAAAAElFTkSuQmCC\n",
       "\" style=\"display:inline;vertical-align:middle;\" /></a>, <a class=\"ProveItLink\" href=\"../__pv_it/demonstrations/41c3ad9f29c40b69fd61c49f41684c1b813e9e850/expr.ipynb\"><img src=\"data:image/png;base64,iVBORw0KGgoAAAANSUhEUgAAADMAAAAQBAMAAABJt1qBAAAAMFBMVEX///8AAAAAAAAAAAAAAAAA\n",
       "AAAAAAAAAAAAAAAAAAAAAAAAAAAAAAAAAAAAAAAAAAAv3aB7AAAAD3RSTlMAMs3vmVREEIndIqt2\n",
       "u2aBbGR5AAAACXBIWXMAAA7EAAAOxAGVKw4bAAAA3klEQVQY02NgwACPbO9r2j6AsBmVHVDkLqxm\n",
       "yH5bAGHzB6BKrWDgZdwAYecXoEuxLFCAsDsh1NmZMxXgUhcgYipgMuk4Qhd3OchArh0Hv4IEuNSR\n",
       "DJQNWgBkJC/g/Q4SYFoAl1qs+RNkArsdAwvYBiYkZ7wrAtEsHxg4G0AM4ZlAcAEixVsH8jLzBYb6\n",
       "BJBALZIuRofrQLr+AMN7sAAnsr8c14KkAhg2sYJcwHMASaqWB2gi7wHWKSxgEVW41BIGvgfXgC7c\n",
       "07j6IFik+loBLORvMdzVRwnXjJszFZC4AHM6StvnxMwUAAAAAElFTkSuQmCC\n",
       "\" style=\"display:inline;vertical-align:middle;\" /></a>, <a class=\"ProveItLink\" href=\"../__pv_it/demonstrations/6ee690ab7b1f5c3506068de6251757d48a32a96b0/expr.ipynb\"><img src=\"data:image/png;base64,iVBORw0KGgoAAAANSUhEUgAAADAAAAARBAMAAABp3DInAAAAMFBMVEX///8AAAAAAAAAAAAAAAAA\n",
       "AAAAAAAAAAAAAAAAAAAAAAAAAAAAAAAAAAAAAAAAAAAv3aB7AAAAD3RSTlMAiXZmMiLdVJm77xBE\n",
       "zatgdeJyAAAACXBIWXMAAA7EAAAOxAGVKw4bAAAAsUlEQVQY02NgwAp8V6Dy2a/CWN9RxJkzNkBZ\n",
       "PL+RxZkSYeIMjAlI4huTEGzeBiAhpOwAYu9IhgvHCfkXMDCEFXBMAHL2XYeL8yxlmA80NJGBSwHI\n",
       "40NI7DJg6GVg4IDZHwE3qh+kmoFrAoblKxm4/zAw7FdAdy73JwbmDwwM/AYMDAdQPMj9nYHvQikD\n",
       "0EmMDvAguQIiJzGUNQD9IWisjRaC+xRdHzkwkA+2pYFACpwPAN5vKn2eykhRAAAAAElFTkSuQmCC\n",
       "\" style=\"display:inline;vertical-align:middle;\" /></a> <a class=\"ProveItLink\" href=\"../__pv_it/demonstrations/d052a3d039c7a6adf7dbddf6a289d27e828b42560/proof.ipynb\" style=\"text-decoration: none\">&nbsp;&#x22A2;&nbsp;&nbsp;</a><a class=\"ProveItLink\" href=\"../__pv_it/demonstrations/3e77204f0d5438e3da2e18f69d75569c225b90c80/expr.ipynb\"><img src=\"data:image/png;base64,iVBORw0KGgoAAAANSUhEUgAAADcAAAArBAMAAAAu4Q2VAAAAMFBMVEX///8AAAAAAAAAAAAAAAAA\n",
       "AAAAAAAAAAAAAAAAAAAAAAAAAAAAAAAAAAAAAAAAAAAv3aB7AAAAD3RSTlMAiXZmMiLdVJm77xBE\n",
       "q833A+o+AAAACXBIWXMAAA7EAAAOxAGVKw4bAAABCUlEQVQ4y2NgwAVYXjUw4Ab8BXgkz2/AIymG\n",
       "R47hBYhgVDLBlGG9qPIdRKUzdGJKngrg/A2k2AQYFmHIcS9m4HgApPuxOYrjA0gTA8NKbI7hmsCw\n",
       "/wDQgE/YJPcrMNiD6M8MDDyYkgUM99gDGEBOFcGQ5FRgz+AAeVPYCNNJ3JdEYlUYSAN1AbjlzLpx\n",
       "y6lJ45TiFlPALddmgFvuHr50gVeSFcPY/yDwAd1ByKLEeIVAIACDz4GBjoA7DQzoYSfrRVUssciS\n",
       "5hCMyDJoYJ/ixAuQLJOAKRnNwLgBkWUwPCaNyDIYIAg5y6ABHgOGDYgsgwbKGRguILIMmk8mThJz\n",
       "wJVlGBmq3jAwAACAxEfiwLCdzAAAAABJRU5ErkJggg==\n",
       "\" style=\"display:inline;vertical-align:middle;\" /></a></span>"
      ],
      "text/plain": [
       "{c in Real, c <= 0, a in Real, a > 0, z in Real, a <= z, d in Real, c <= d} |- (c / a) <= (d / z)"
      ]
     },
     "metadata": {},
     "output_type": "display_data"
    }
   ],
   "source": [
    "# Here, we automatically prove that z > 0 indirectly.\n",
    "relations = [LessEq(a, z), LessEq(c, d)]\n",
    "frac(c, a).deduce_bound(relations, assumptions=assumptions+relations)"
   ]
  },
  {
   "cell_type": "markdown",
   "metadata": {},
   "source": [
    "## Distribution"
   ]
  },
  {
   "cell_type": "code",
   "execution_count": 81,
   "metadata": {},
   "outputs": [
    {
     "data": {
      "text/html": [
       "<strong id=\"defaults.assumptions\">defaults.assumptions:</strong> <a class=\"ProveItLink\" href=\"../__pv_it/demonstrations/c87fa4e1963836541df77ce10d4b181aadebc9b20/expr.ipynb\"><img src=\"data:image/png;base64,iVBORw0KGgoAAAANSUhEUgAAASsAAAAVCAMAAAApfTjvAAAAPFBMVEX///8AAAAAAAAAAAAAAAAA\n",
       "AAAAAAAAAAAAAAAAAAAAAAAAAAAAAAAAAAAAAAAAAAAAAAAAAAAAAAAAAAAo1xBWAAAAE3RSTlMA\n",
       "InZUiRDNmWbv3US7qzLn9enz+YF6hwAAAAlwSFlzAAAOxAAADsQBlSsOGwAAAuZJREFUWMPtmGmT\n",
       "pCAMhiFyC+zh//+vC8QD5RiVrtmqrc2H6epun07IvDGJhASj5L/1bc8QTPchzqwRAqhnT929J0fQ\n",
       "56zklQ9nwNfpQQTgtAr+5WJlHo/V5h054BTNCy0/ynqbv2MMZNIUqHRQcT9qCTMmVl1cC/mWHHCK\n",
       "tkwfZa3PjxW+5yYlS0S5SXU7ai+JXRXq5P2Au+SAU6yOhX+S9S57o1K1sKQ0FXndEbA1wQ7dOU42\n",
       "hXLVd3pBm+SA07VKzIfYVVZ5n7MpcRMeTnMyNUtwFnDJgCW0Loqr0wJtkgNOi+ofYbefcKdqSd97\n",
       "LBqhiNzu7NQxoJC1SXHVCnWk0U2EA3BTG22TIc8Ayr9xmiL2R/WPsPtBclnxLVdJkszFdGFGdbjM\n",
       "ZrUkiqkr+J2rBcSXECZfaBNtkoSaEK+0L5wWEY+w0iT78TP+3bRFF4a5SgpSghjMLY+tNSBZistz\n",
       "yX3OOBtWtIYm2iSJYX2yja4RC/IJtpruPVfpZdJEz5jYZY98/Z9os5rNy78qaXS6sDbaJM9N4ZHT\n",
       "S8Qj7KY2eSkXho0LMGVbrrRNX87ZfFm6sEdbKcUx79VfQVukPn/6xOk14hG2UcV4v5rwYLNea5Cn\n",
       "3KklT0Clyo9xhczX6SqTiLlLottXTsuIR9h0v/r1G3W590KLkxUebDLEAtLxuE6Q6dgSoToGu6zs\n",
       "tjAWv90CmmiLVOdz3HdaRjzCkn00z03p4w4TJv/YClMKIWZOEnke8MtBUYT9iMcrU/tbR75w4tMO\n",
       "UUHrJHZA5l84LSMeYaNwylEsFh3XGF0YrjxKlztgnjrItiHu7Mwra7teDO6TxBi+XsnOm1INrZJh\n",
       "OVUqnyCfOL1GPMLWZBV3bgZuvcgE8RvfHqKZPa0M5bDA36LvyQ46xH7xuIWabSl8aewvkCNojxW8\n",
       "/7RDFevis+do8P3kCNpj1Reyss3B5OZDOPL95AjaY01fVpug6Ij7f8V8P8kxVX8AcRIh0BQDqf8A\n",
       "AAAASUVORK5CYII=\n",
       "\" style=\"display:inline;vertical-align:middle;\" /></a><br>"
      ],
      "text/plain": [
       "<IPython.core.display.HTML object>"
      ]
     },
     "metadata": {},
     "output_type": "display_data"
    }
   ],
   "source": [
    "defaults.assumptions = [InSet(_x, Complex) for _x in (a, b, c, d)] + [NotEquals(d, zero)]"
   ]
  },
  {
   "cell_type": "code",
   "execution_count": 82,
   "metadata": {},
   "outputs": [
    {
     "data": {
      "text/html": [
       "<span style=\"font-size:20px;\"><a class=\"ProveItLink\" href=\"../__pv_it/theorems/e9f87a0977d5044ea8daf1040d2f219396bb3d5b0/expr.ipynb\"><img src=\"data:image/png;base64,iVBORw0KGgoAAAANSUhEUgAAADMAAAAQBAMAAABJt1qBAAAAMFBMVEX///8AAAAAAAAAAAAAAAAA\n",
       "AAAAAAAAAAAAAAAAAAAAAAAAAAAAAAAAAAAAAAAAAAAv3aB7AAAAD3RSTlMAIquJdkTvuxBmmd1U\n",
       "zTKBpmoTAAAACXBIWXMAAA7EAAAOxAGVKw4bAAAA0ElEQVQY02NgwAKaq+86PsYmwcCiNoFjfRVW\n",
       "qSXBDAycWKX4FlQASS0UMffduy8AKaaGAiDZiSwT6wGh2RkXQEUYlR0dwPQNqIAQnwGUFSbA/gNE\n",
       "8wpABR6zToAwODIZuDaApWAGS7E6QBhcHxi4wQY82w0EBWC7oAayFTD0B4AY7TBd7GAXAkG/A8N8\n",
       "MIMbJsUK9hcrUOoAgy4PyAUsDvDQCAISa4HaHXh2cYFF7sDDsHYhx2mg3zhU7IT8wCJNpQ2wkC/7\n",
       "vRA18IKrwQEFAwCqvi28/xxvKQAAAABJRU5ErkJggg==\n",
       "\" style=\"display:inline;vertical-align:middle;\" /></a>, <a class=\"ProveItLink\" href=\"../__pv_it/theorems/a259ec76dfb0a5be60b7c83d797520fa82c1dba60/expr.ipynb\"><img src=\"data:image/png;base64,iVBORw0KGgoAAAANSUhEUgAAADEAAAAQBAMAAABNQoq8AAAAMFBMVEX///8AAAAAAAAAAAAAAAAA\n",
       "AAAAAAAAAAAAAAAAAAAAAAAAAAAAAAAAAAAAAAAAAAAv3aB7AAAAD3RSTlMAELvv3c2ZVESJq3Yi\n",
       "MmZ3LnoBAAAACXBIWXMAAA7EAAAOxAGVKw4bAAAA2UlEQVQY02NgwASSKqF7bjIwMCo7oElwL37A\n",
       "mK8GZLAmoMlkdzIw8IFk+AtQJXgTFIHkMiDuF4AKbXJxCQBSXAIKQFIOiKdAJVo3QmgmHpjxUbuX\n",
       "gyieQCj/FO8ECIPxq4D8AZBDDkBlbnI8gDDYPzIwbwDJwFxwjGMDhMEWwMAP0n7ZBQgUwPZATWOZ\n",
       "wNAPcrcQTA8T2G0Q7+SD3M0Ck+EA+4cDKHOB0Q4cJhvgYdAFJFKBHnvABHF/ODzcVHMYS4BijCvz\n",
       "IAJSGrDAkFT+koMSYJ0q4NCBAQD6uylQEVfDpgAAAABJRU5ErkJggg==\n",
       "\" style=\"display:inline;vertical-align:middle;\" /></a>, <a class=\"ProveItLink\" href=\"../../addition/subtraction/__pv_it/theorems/b66b5547fa9b0b910f79351152926c658c2718190/expr.ipynb\"><img src=\"data:image/png;base64,iVBORw0KGgoAAAANSUhEUgAAADEAAAAQBAMAAABNQoq8AAAAMFBMVEX///8AAAAAAAAAAAAAAAAA\n",
       "AAAAAAAAAAAAAAAAAAAAAAAAAAAAAAAAAAAAAAAAAAAv3aB7AAAAD3RSTlMAiXZmMiLdVJm77xBE\n",
       "zatgdeJyAAAACXBIWXMAAA7EAAAOxAGVKw4bAAAAw0lEQVQY02NgwAQbp91VdcQizsD0yoC7fwY2\n",
       "maaDDAzM2GRYGmYDyRfIQpppaReAFN+GCUByM5LEWW0IzcnaABMSUnYAkqy3odw4FgEoK6yAA6Sd\n",
       "NwDKd+QxgLISGbgUQDIwIyJ4FCAMjt8Q2isNCCaA7YGaxjUBQu+E6eHcABXZD9XLBpPhAfuHh4GB\n",
       "H2jfAVCYKMDD4ByQ6AXaM4GBEeRqhuvwcJvbyl0G8pOgMcSL++ZsgIX1rG+tKAF2cBo4dGAAAHWD\n",
       "KgtwTxl0AAAAAElFTkSuQmCC\n",
       "\" style=\"display:inline;vertical-align:middle;\" /></a>, <a class=\"ProveItLink\" href=\"../__pv_it/theorems/d6724abdc9486f838f4cf63bc1115e85255ce4c00/expr.ipynb\"><img src=\"data:image/png;base64,iVBORw0KGgoAAAANSUhEUgAAADMAAAAQBAMAAABJt1qBAAAAMFBMVEX///8AAAAAAAAAAAAAAAAA\n",
       "AAAAAAAAAAAAAAAAAAAAAAAAAAAAAAAAAAAAAAAAAAAv3aB7AAAAD3RSTlMAMs3vmVREEIndIqt2\n",
       "u2aBbGR5AAAACXBIWXMAAA7EAAAOxAGVKw4bAAAA4UlEQVQY02NgwAIqbiqdkgCzGJUdUGR4Nj9g\n",
       "978CYfMHoEj5ZDAw8EGl8guQZRgdrgPJLRBOJ4Q6O3OmApDiLrgAJOsgYipgMuk4hMfLBbOaa8fB\n",
       "r2BaHSqwmrEBykpewPsdRDMtgApIsD2AMNjtGFgUwFIwZyxhOwBhsHxg4AQbIDwTCC6A7YIayHyB\n",
       "oT4BxKiF6eIFuxAI6g8wvAczOGFSbGB/sQGlAhg2sYJcwHMAHhrZQMIJqP0A6xQWsIgqPAwvebFH\n",
       "Av3Gvqdx9UGwSPU1WHhVXP7phRoXGTfBAQUDAJ+SNfXA0lXRAAAAAElFTkSuQmCC\n",
       "\" style=\"display:inline;vertical-align:middle;\" /></a>, <a class=\"ProveItLink\" href=\"../__pv_it/demonstrations/4a82d58b126555a18b104ddba47c5351567eeaea0/expr.ipynb\"><img src=\"data:image/png;base64,iVBORw0KGgoAAAANSUhEUgAAADEAAAAUCAMAAAATIyWrAAAAPFBMVEX///8AAAAAAAAAAAAAAAAA\n",
       "AAAAAAAAAAAAAAAAAAAAAAAAAAAAAAAAAAAAAAAAAAAAAAAAAAAAAAAAAAAo1xBWAAAAE3RSTlMA\n",
       "Ms3vmVREEIndIqt2u2bn9enzePXnUgAAAAlwSFlzAAAOxAAADsQBlSsOGwAAAOJJREFUKM+VkukS\n",
       "hSAIhQU3zOUuvv+7XrHphjk5Ez8qoePHUZRahfH3NUBt5mSWK6JkNpmodlJkEAtsdR+ExNWpA4hi\n",
       "UULnCCqFGSF7yF1uxb442XBxaLrXYe99i5RgtoES4Q9F4b10K+UTZ0KP15ufB2ertCtSU2uWGVwi\n",
       "TkV7mcqfga4uRl9+Vzhm6NwTbok4nNtm17NKlSpGg/v/fHc3//PK/SZKs+v7IUVUdtgUr/dZtDrs\n",
       "5sawwaihbzsPWeAp0Tw3PiaCLSZYItp/hlKEu0m2pB4G+oeC8hgRniIUrIo/FvAG9zLswUoAAAAA\n",
       "SUVORK5CYII=\n",
       "\" style=\"display:inline;vertical-align:middle;\" /></a> <a class=\"ProveItLink\" href=\"../__pv_it/demonstrations/6ac45f40b383511bfe8c427da91a43bb7d2a453e0/proof.ipynb\" style=\"text-decoration: none\">&nbsp;&#x22A2;&nbsp;&nbsp;</a><a class=\"ProveItLink\" href=\"../__pv_it/demonstrations/be611eabd7baede7ec2603fcb465b1fc330785c60/expr.ipynb\"><img src=\"data:image/png;base64,iVBORw0KGgoAAAANSUhEUgAAAOoAAAAyBAMAAACg11o/AAAAMFBMVEX///8AAAAAAAAAAAAAAAAA\n",
       "AAAAAAAAAAAAAAAAAAAAAAAAAAAAAAAAAAAAAAAAAAAv3aB7AAAAD3RSTlMAIquJdkTvuxBmmd1U\n",
       "zTKBpmoTAAAACXBIWXMAAA7EAAAOxAGVKw4bAAADp0lEQVRYw8VYT0gUURj/dN3d2XF0F4kuHRJW\n",
       "gqhAzEsJspWHuqinwNNaRFYSLBISBbV4qOPuoUuX1luEiJLhwSmYwFuHloIQT3bpEuKaSquY9ebP\n",
       "zsyb972Z8U3gd9i3+735vt973/u+781vAaLIk0NbSA8hqjSXD2/zs8hZzuR8SA9Z3sTzca6NwnPe\n",
       "Nh0ONFXlTq3yrXo8v0esMa1ZX+L+ETye4U7t861aPU6XrTHfCL2S80V9x52J1/lWyh0ctQ9CoaZG\n",
       "uVMxv8wwot+UvZSjUb8MnPWg9l5bY60T3cbQ0XuMzYyuyxqyloFXRij1g7meSdYpVOlPsZShUE9o\n",
       "coF1MmQcRPwGPGWKobQibTLPN72H18aSOgnGXZDnKVSlDokchbrQUFDy1vh8VoYZZupzEW6xadRt\n",
       "Kol/kGv6T4AZVb2tqronuQppopFVdXFcVcnCZDQ32g+MYU5flFdmAbYY5ZwVEmmbnE4BSsPUXski\n",
       "8pp7r4kC2pjMZBoDaYeZW4A4WztjjS+PyRHkoELnMClXa1kWaglN5USntfBUDSlXNj76Fk2pZKCk\n",
       "wTklQ6GukbN2o6ZJXQ8znjeMapf2obn60Tt3oB+3V3ZJ6pm7KEMypyzJ1F6by8lpCpUkcIytnCFz\n",
       "qQ/g0zTTQU/DIzY4JIH7G1GSuvo7BunKyb7xdInzL6+yTibNYerK9y5mSVMXkV4au/DCPLjkPNab\n",
       "IFRvGhO+IGM1rPs77dSn+0t7wqipHWHT9m1WN4JdBOVQpiFFQS6zZey53H8N04EwKvwSRm3ZFEf9\n",
       "fSgk0pp1MZpSrC6Oel94r3IEVBX+hhSm+ZtFl7YnnUvLUTr3FphAptGi+LtwTXyvi8LnGi3Cwm1t\n",
       "8yiyqSVCvd48ki6B96b2b8GcQ3Fa+Po9BLWhdKNafqUt3GVaC+7+uyy/GEFIB9X9Tb+87p8vBod4\n",
       "z59foErTr8JhQX0hDvaDP79AlX3cFh5ABG055c88UeUqt8EQ4jO4HwK1Yp1CR+8GmwWY0vaLvl87\n",
       "xMdXLLcoz0GVtt+TSDHpxKcaAtV8C9dffGeZOUzp+K0gbLtBfAKb8iif52BKx+8ZbA8O8fGV+A6f\n",
       "52BKxy9Wri7i4y9LXJ6DKm2/KSxrXMQnRBKjPAdV2n5bOxFnLuITkE7dXJ6DKW2/eWxLLuITcOvU\n",
       "+TwHUdp+J6L9ofdVyCpej4b6IyNi1apFQ20piFj1QETJigS4GhW1TSBY68WoqCL/Sq/on/8AUfZT\n",
       "i9D9zGQAAAAASUVORK5CYII=\n",
       "\" style=\"display:inline;vertical-align:middle;\" /></a></span>"
      ],
      "text/plain": [
       "{a in Complex, b in Complex, c in Complex, d in Complex, d != 0} |- ((a + b + c) / d) = ((a / d) + (b / d) + (c / d))"
      ]
     },
     "metadata": {},
     "output_type": "display_data"
    }
   ],
   "source": [
    "frac(Add(a, b, c), d).distribution()"
   ]
  },
  {
   "cell_type": "code",
   "execution_count": 83,
   "metadata": {},
   "outputs": [
    {
     "data": {
      "text/html": [
       "<span style=\"font-size:20px;\"><a class=\"ProveItLink\" href=\"../__pv_it/theorems/e9f87a0977d5044ea8daf1040d2f219396bb3d5b0/expr.ipynb\"><img src=\"data:image/png;base64,iVBORw0KGgoAAAANSUhEUgAAADMAAAAQBAMAAABJt1qBAAAAMFBMVEX///8AAAAAAAAAAAAAAAAA\n",
       "AAAAAAAAAAAAAAAAAAAAAAAAAAAAAAAAAAAAAAAAAAAv3aB7AAAAD3RSTlMAIquJdkTvuxBmmd1U\n",
       "zTKBpmoTAAAACXBIWXMAAA7EAAAOxAGVKw4bAAAA0ElEQVQY02NgwAKaq+86PsYmwcCiNoFjfRVW\n",
       "qSXBDAycWKX4FlQASS0UMffduy8AKaaGAiDZiSwT6wGh2RkXQEUYlR0dwPQNqIAQnwGUFSbA/gNE\n",
       "8wpABR6zToAwODIZuDaApWAGS7E6QBhcHxi4wQY82w0EBWC7oAayFTD0B4AY7TBd7GAXAkG/A8N8\n",
       "MIMbJsUK9hcrUOoAgy4PyAUsDvDQCAISa4HaHXh2cYFF7sDDsHYhx2mg3zhU7IT8wCJNpQ2wkC/7\n",
       "vRA18IKrwQEFAwCqvi28/xxvKQAAAABJRU5ErkJggg==\n",
       "\" style=\"display:inline;vertical-align:middle;\" /></a>, <a class=\"ProveItLink\" href=\"../__pv_it/theorems/a259ec76dfb0a5be60b7c83d797520fa82c1dba60/expr.ipynb\"><img src=\"data:image/png;base64,iVBORw0KGgoAAAANSUhEUgAAADEAAAAQBAMAAABNQoq8AAAAMFBMVEX///8AAAAAAAAAAAAAAAAA\n",
       "AAAAAAAAAAAAAAAAAAAAAAAAAAAAAAAAAAAAAAAAAAAv3aB7AAAAD3RSTlMAELvv3c2ZVESJq3Yi\n",
       "MmZ3LnoBAAAACXBIWXMAAA7EAAAOxAGVKw4bAAAA2UlEQVQY02NgwASSKqF7bjIwMCo7oElwL37A\n",
       "mK8GZLAmoMlkdzIw8IFk+AtQJXgTFIHkMiDuF4AKbXJxCQBSXAIKQFIOiKdAJVo3QmgmHpjxUbuX\n",
       "gyieQCj/FO8ECIPxq4D8AZBDDkBlbnI8gDDYPzIwbwDJwFxwjGMDhMEWwMAP0n7ZBQgUwPZATWOZ\n",
       "wNAPcrcQTA8T2G0Q7+SD3M0Ck+EA+4cDKHOB0Q4cJhvgYdAFJFKBHnvABHF/ODzcVHMYS4BijCvz\n",
       "IAJSGrDAkFT+koMSYJ0q4NCBAQD6uylQEVfDpgAAAABJRU5ErkJggg==\n",
       "\" style=\"display:inline;vertical-align:middle;\" /></a>, <a class=\"ProveItLink\" href=\"../__pv_it/theorems/d6724abdc9486f838f4cf63bc1115e85255ce4c00/expr.ipynb\"><img src=\"data:image/png;base64,iVBORw0KGgoAAAANSUhEUgAAADMAAAAQBAMAAABJt1qBAAAAMFBMVEX///8AAAAAAAAAAAAAAAAA\n",
       "AAAAAAAAAAAAAAAAAAAAAAAAAAAAAAAAAAAAAAAAAAAv3aB7AAAAD3RSTlMAMs3vmVREEIndIqt2\n",
       "u2aBbGR5AAAACXBIWXMAAA7EAAAOxAGVKw4bAAAA4UlEQVQY02NgwAIqbiqdkgCzGJUdUGR4Nj9g\n",
       "978CYfMHoEj5ZDAw8EGl8guQZRgdrgPJLRBOJ4Q6O3OmApDiLrgAJOsgYipgMuk4hMfLBbOaa8fB\n",
       "r2BaHSqwmrEBykpewPsdRDMtgApIsD2AMNjtGFgUwFIwZyxhOwBhsHxg4AQbIDwTCC6A7YIayHyB\n",
       "oT4BxKiF6eIFuxAI6g8wvAczOGFSbGB/sQGlAhg2sYJcwHMAHhrZQMIJqP0A6xQWsIgqPAwvebFH\n",
       "Av3Gvqdx9UGwSPU1WHhVXP7phRoXGTfBAQUDAJ+SNfXA0lXRAAAAAElFTkSuQmCC\n",
       "\" style=\"display:inline;vertical-align:middle;\" /></a>, <a class=\"ProveItLink\" href=\"../__pv_it/demonstrations/4a82d58b126555a18b104ddba47c5351567eeaea0/expr.ipynb\"><img src=\"data:image/png;base64,iVBORw0KGgoAAAANSUhEUgAAADEAAAAUCAMAAAATIyWrAAAAPFBMVEX///8AAAAAAAAAAAAAAAAA\n",
       "AAAAAAAAAAAAAAAAAAAAAAAAAAAAAAAAAAAAAAAAAAAAAAAAAAAAAAAAAAAo1xBWAAAAE3RSTlMA\n",
       "Ms3vmVREEIndIqt2u2bn9enzePXnUgAAAAlwSFlzAAAOxAAADsQBlSsOGwAAAOJJREFUKM+VkukS\n",
       "hSAIhQU3zOUuvv+7XrHphjk5Ez8qoePHUZRahfH3NUBt5mSWK6JkNpmodlJkEAtsdR+ExNWpA4hi\n",
       "UULnCCqFGSF7yF1uxb442XBxaLrXYe99i5RgtoES4Q9F4b10K+UTZ0KP15ufB2ertCtSU2uWGVwi\n",
       "TkV7mcqfga4uRl9+Vzhm6NwTbok4nNtm17NKlSpGg/v/fHc3//PK/SZKs+v7IUVUdtgUr/dZtDrs\n",
       "5sawwaihbzsPWeAp0Tw3PiaCLSZYItp/hlKEu0m2pB4G+oeC8hgRniIUrIo/FvAG9zLswUoAAAAA\n",
       "SUVORK5CYII=\n",
       "\" style=\"display:inline;vertical-align:middle;\" /></a> <a class=\"ProveItLink\" href=\"../__pv_it/demonstrations/6dca6d36c78784fe62a348133351941162fe54aa0/proof.ipynb\" style=\"text-decoration: none\">&nbsp;&#x22A2;&nbsp;&nbsp;</a><a class=\"ProveItLink\" href=\"../__pv_it/demonstrations/0e57be44f45ee0c7cad34c8f32b2737b842e568e0/expr.ipynb\"><img src=\"data:image/png;base64,iVBORw0KGgoAAAANSUhEUgAAAJ8AAAAyBAMAAACwtxTjAAAAMFBMVEX///8AAAAAAAAAAAAAAAAA\n",
       "AAAAAAAAAAAAAAAAAAAAAAAAAAAAAAAAAAAAAAAAAAAv3aB7AAAAD3RSTlMAIquJdkTvuxBmmd1U\n",
       "zTKBpmoTAAAACXBIWXMAAA7EAAAOxAGVKw4bAAAC40lEQVRIx61XvY8SQRR/gLDLwsHm/gISiImJ\n",
       "5iisvETwNLG7o7IzwGlyOW0sjIUWkiu0uiyVnWErkysuEG3Us8DG5oojFuZyWuAfYODimWCCH/PB\n",
       "cTu7b4bZhFfswsxvfrPvc94AhBCjr5p93oCwckE5m3kr3eo+Ph4tShaYjzr0tS/d6wgffildsODS\n",
       "Zywnmx+jo5G6lDDbZa93kun4CB1OlaWEVe6PTxK3xDro8Au5P5a9mkfy13xbLxRWusiqO4DDiXy+\n",
       "cZGpdkyft2zDp6JzaB4H+c5xVBBOvPyn4diMmP7ZBMun4kED7iImZD5E4ADpESTKk5VgDSFF48v8\n",
       "ukeF5sIuwM8g4YClySlcEKsHWTboENrEA3Aq4vwbiCOBc549ETjQLarM6kaHkbYCYWghgbMOk29o\n",
       "YWHYZhGTJLZ3unApbQvzf+FZM5ipvzlhEE4I+8S0zMIEZJTT7y1/DXiMOJk7HoGTJG8a7lQNs3B1\n",
       "cVWc37rSREpXjX9DEE4G8zuTX0/0SxfxhoaU9AkdVwfVqmgTDsrzQ/H06c5PD65MXweVzWkTrtla\n",
       "hErXWSy79/imJa0zLdHT/sK2FmGqA/9wCUCX+ItNDsXqlD1bkappf+GSFkpNKNhQW2VdKdlzdsqa\n",
       "VhwmcvMObDFTMl/kmXNQUaJ+3OOpV0RbCjTtm2rUGC0O1YaOMhhq0r74S8iyIiB6StSkffFn/JGc\n",
       "MFpTonhbI4Z/JL86lhMmRwrU4uUB13XDO4p1LZ4IGMtR8To8ZXaNnHiPrk3aUshlXY4ix/gunB70\n",
       "Z5mLdS0eeSVHtWn7wgzdEc9JR3VmVStS1AaYv3hsecMQ7Vq8cePKUOYJJIc8P70RinYtATdjKHMM\n",
       "0d5H+uu10GtgXUugJUZRD2Hfdact8XQfrGsR6k1Dhtq6/r1Ai5GhX7xYMhRnIarhbnuZ+izEh5B3\n",
       "x5sz5mO5kITRGTrfDn29/aY2yWFoQvUFfJu55D8cTe0yi6XOogAAAABJRU5ErkJggg==\n",
       "\" style=\"display:inline;vertical-align:middle;\" /></a></span>"
      ],
      "text/plain": [
       "{a in Complex, b in Complex, d in Complex, d != 0} |- ((a - b) / d) = ((a / d) - (b / d))"
      ]
     },
     "metadata": {},
     "output_type": "display_data"
    }
   ],
   "source": [
    "frac(subtract(a, b), d).distribution()"
   ]
  },
  {
   "cell_type": "markdown",
   "metadata": {},
   "source": [
    "## Testing `Div.div_in_denominator_reduction()`"
   ]
  },
  {
   "cell_type": "code",
   "execution_count": 84,
   "metadata": {},
   "outputs": [
    {
     "data": {
      "text/html": [
       "<span style=\"font-size:20px;\"><a class=\"ProveItLink\" href=\"../__pv_it/theorems/e9f87a0977d5044ea8daf1040d2f219396bb3d5b0/expr.ipynb\"><img src=\"data:image/png;base64,iVBORw0KGgoAAAANSUhEUgAAADMAAAAQBAMAAABJt1qBAAAAMFBMVEX///8AAAAAAAAAAAAAAAAA\n",
       "AAAAAAAAAAAAAAAAAAAAAAAAAAAAAAAAAAAAAAAAAAAv3aB7AAAAD3RSTlMAIquJdkTvuxBmmd1U\n",
       "zTKBpmoTAAAACXBIWXMAAA7EAAAOxAGVKw4bAAAA0ElEQVQY02NgwAKaq+86PsYmwcCiNoFjfRVW\n",
       "qSXBDAycWKX4FlQASS0UMffduy8AKaaGAiDZiSwT6wGh2RkXQEUYlR0dwPQNqIAQnwGUFSbA/gNE\n",
       "8wpABR6zToAwODIZuDaApWAGS7E6QBhcHxi4wQY82w0EBWC7oAayFTD0B4AY7TBd7GAXAkG/A8N8\n",
       "MIMbJsUK9hcrUOoAgy4PyAUsDvDQCAISa4HaHXh2cYFF7sDDsHYhx2mg3zhU7IT8wCJNpQ2wkC/7\n",
       "vRA18IKrwQEFAwCqvi28/xxvKQAAAABJRU5ErkJggg==\n",
       "\" style=\"display:inline;vertical-align:middle;\" /></a>, <a class=\"ProveItLink\" href=\"../__pv_it/theorems/a259ec76dfb0a5be60b7c83d797520fa82c1dba60/expr.ipynb\"><img src=\"data:image/png;base64,iVBORw0KGgoAAAANSUhEUgAAADEAAAAQBAMAAABNQoq8AAAAMFBMVEX///8AAAAAAAAAAAAAAAAA\n",
       "AAAAAAAAAAAAAAAAAAAAAAAAAAAAAAAAAAAAAAAAAAAv3aB7AAAAD3RSTlMAELvv3c2ZVESJq3Yi\n",
       "MmZ3LnoBAAAACXBIWXMAAA7EAAAOxAGVKw4bAAAA2UlEQVQY02NgwASSKqF7bjIwMCo7oElwL37A\n",
       "mK8GZLAmoMlkdzIw8IFk+AtQJXgTFIHkMiDuF4AKbXJxCQBSXAIKQFIOiKdAJVo3QmgmHpjxUbuX\n",
       "gyieQCj/FO8ECIPxq4D8AZBDDkBlbnI8gDDYPzIwbwDJwFxwjGMDhMEWwMAP0n7ZBQgUwPZATWOZ\n",
       "wNAPcrcQTA8T2G0Q7+SD3M0Ck+EA+4cDKHOB0Q4cJhvgYdAFJFKBHnvABHF/ODzcVHMYS4BijCvz\n",
       "IAJSGrDAkFT+koMSYJ0q4NCBAQD6uylQEVfDpgAAAABJRU5ErkJggg==\n",
       "\" style=\"display:inline;vertical-align:middle;\" /></a>, <a class=\"ProveItLink\" href=\"../../addition/subtraction/__pv_it/theorems/b66b5547fa9b0b910f79351152926c658c2718190/expr.ipynb\"><img src=\"data:image/png;base64,iVBORw0KGgoAAAANSUhEUgAAADEAAAAQBAMAAABNQoq8AAAAMFBMVEX///8AAAAAAAAAAAAAAAAA\n",
       "AAAAAAAAAAAAAAAAAAAAAAAAAAAAAAAAAAAAAAAAAAAv3aB7AAAAD3RSTlMAiXZmMiLdVJm77xBE\n",
       "zatgdeJyAAAACXBIWXMAAA7EAAAOxAGVKw4bAAAAw0lEQVQY02NgwAQbp91VdcQizsD0yoC7fwY2\n",
       "maaDDAzM2GRYGmYDyRfIQpppaReAFN+GCUByM5LEWW0IzcnaABMSUnYAkqy3odw4FgEoK6yAA6Sd\n",
       "NwDKd+QxgLISGbgUQDIwIyJ4FCAMjt8Q2isNCCaA7YGaxjUBQu+E6eHcABXZD9XLBpPhAfuHh4GB\n",
       "H2jfAVCYKMDD4ByQ6AXaM4GBEeRqhuvwcJvbyl0G8pOgMcSL++ZsgIX1rG+tKAF2cBo4dGAAAHWD\n",
       "KgtwTxl0AAAAAElFTkSuQmCC\n",
       "\" style=\"display:inline;vertical-align:middle;\" /></a>, <a class=\"ProveItLink\" href=\"../__pv_it/theorems/1157e8bc07ff5d23e5b8809064b9e77def3bc8980/expr.ipynb\"><img src=\"data:image/png;base64,iVBORw0KGgoAAAANSUhEUgAAAC8AAAAUCAMAAAAqRJTwAAAAPFBMVEX///8AAAAAAAAAAAAAAAAA\n",
       "AAAAAAAAAAAAAAAAAAAAAAAAAAAAAAAAAAAAAAAAAAAAAAAAAAAAAAAAAAAo1xBWAAAAE3RSTlMA\n",
       "ELvv3c2ZVESJq3YiMmbn9enzVleb9QAAAAlwSFlzAAAOxAAADsQBlSsOGwAAANlJREFUKM+VkusS\n",
       "xBAMhcUlGspevP+7LjG6bK0ZfmhSn+OICPF/IMz+glR6igfZZ0QezxoanPIydImxWVnXDclO5V2X\n",
       "RLZAfOKRpj7l2Se82TJJU/tHLy8SWw7sxDjv3c2S6eWh8bHEBvLUllHzeDzL3M44E1XeN1PKL+S/\n",
       "fP6gYYM0uh9LDHX5KPqaOLIL+XZfWygm8aop+3+96y2uGkmufCxUys8IKo7yvy8SFWsV6y6jcrRr\n",
       "7w2iSz+o0iHgCKNYy2cKybsw72NLYmsY2MLjprzekxdhtfgBfooGZl93KjkAAAAASUVORK5CYII=\n",
       "\" style=\"display:inline;vertical-align:middle;\" /></a>, <a class=\"ProveItLink\" href=\"../__pv_it/demonstrations/1034b099268ebc68ab71d757a423d98a8a315f520/expr.ipynb\"><img src=\"data:image/png;base64,iVBORw0KGgoAAAANSUhEUgAAAC8AAAAUCAMAAAAqRJTwAAAAPFBMVEX///8AAAAAAAAAAAAAAAAA\n",
       "AAAAAAAAAAAAAAAAAAAAAAAAAAAAAAAAAAAAAAAAAAAAAAAAAAAAAAAAAAAo1xBWAAAAE3RSTlMA\n",
       "iXZmMiLdVJm77xBEq83n9enzzp4SPQAAAAlwSFlzAAAOxAAADsQBlSsOGwAAAMxJREFUKM+VkusS\n",
       "hCAIhVFMUcu9+P7vuorjrrXGjPywmA4fBxLgPijCShg/Zkpp2kS9N0OSHEC0UoE5hgQt9/ASfoR5\n",
       "Lnb5fqJ9xEMmbpldm0VrNBd9GvGx67Gcmy1V1K2R5Xg869l7bFk1vS6nre9BC/ifvjxoNsROpzQ2\n",
       "/V75YbakdNl08+/KvDGfnbD/17tN8d2RZyhWKzxz6XXCXy1iYFaCvhk17tPRn8G6wxhMu0mIOor4\n",
       "oiWlDzP/tU4t3eMZXgpcxNs1PBjp4wcaEgV/DsHsSgAAAABJRU5ErkJggg==\n",
       "\" style=\"display:inline;vertical-align:middle;\" /></a> <a class=\"ProveItLink\" href=\"../__pv_it/demonstrations/bb3c6c633e52a9d05adf9c4d99e71ee084030e4b0/proof.ipynb\" style=\"text-decoration: none\">&nbsp;&#x22A2;&nbsp;&nbsp;</a><a class=\"ProveItLink\" href=\"../__pv_it/demonstrations/4035d134e6271f170d1416cd9303a56678f1d65b0/expr.ipynb\"><img src=\"data:image/png;base64,iVBORw0KGgoAAAANSUhEUgAAAGgAAAAvBAMAAAD9b5JGAAAAMFBMVEX///8AAAAAAAAAAAAAAAAA\n",
       "AAAAAAAAAAAAAAAAAAAAAAAAAAAAAAAAAAAAAAAAAAAv3aB7AAAAD3RSTlMAIquJdkTvuxBmmd1U\n",
       "zTKBpmoTAAAACXBIWXMAAA7EAAAOxAGVKw4bAAACKUlEQVRIx71VvUsjURCfJLpujEYRq5NDQUEL\n",
       "C8F0IgimOD2E/Q+ihRwHIgFFUAQXCxvhsoUIFsJiI2LhqY1gs1dfE5SDK/caC0ViUCEnnvpm18+d\n",
       "mYW1uIHdeZmX33vz9ZsFEKXWYYz6b183ZZpZ0AaxZIZcODNxVT0GCyaDSRaDlhanNg/JNlwuWbDN\n",
       "XXRCTtoHbQBgHpc7+IuRYxJjxVNLeNgX0K8ZTF0laNHyPlb5p19B8oIBpXqClsKAp2JlBbqFePEH\n",
       "BZVISA0WgKH0lHqm4adtU1AnrVseEq7Sq+pZHPzT4VLQX2rqXfuEqtWR2iFdFjslZUs7bHIe3SxK\n",
       "O3FxB6rE87Q2EVR3J+009Iig9K0IskQC6G8Su32IsgfPeRUIcCXdVHJkAlzCvSckITnjFQEKXiqf\n",
       "/3cTetMTAQLlvJFiQpBEAIzpPM9stFoyATB7ca4kHnl4AsSwTprLdYQtEiCNcZayXRRUT33WZ76/\n",
       "DILP5jDTyqPMQb6rCcTOwjpDjQrTWj77arCXJ5lZipkjkjNf2vICJphMzFFT3yO2Ub0OklyhVqnp\n",
       "KNuNqh9fp1mujwoG8fifWcBLJuQPTaLIzFyc5VWjMkjlhw4U5LPmhIDWmUGdU4ARL4McnbCUFi3T\n",
       "jgmxsZCLQN8Nglz9K8BymHcAHwPjIW7V2Ng/oRILNLjevqVeBvxvyaxEx6SMk+igTfgWHTT+npDK\n",
       "7wH9gkR00Af/+xtBHgA91aDsgOgkYAAAAABJRU5ErkJggg==\n",
       "\" style=\"display:inline;vertical-align:middle;\" /></a></span>"
      ],
      "text/plain": [
       "{a in Complex, b in Complex, c in Complex, b != 0, c != 0} |- (a / (b / c)) = (a * (c / b))"
      ]
     },
     "metadata": {},
     "output_type": "display_data"
    }
   ],
   "source": [
    "frac(a, frac(b, c)).div_in_denominator_reduction(\n",
    "        assumptions=[InSet(a, Complex), InSet(b, Complex), InSet(c, Complex),\n",
    "                    NotEquals(b, zero), NotEquals(c, zero)])"
   ]
  },
  {
   "cell_type": "code",
   "execution_count": 85,
   "metadata": {},
   "outputs": [
    {
     "data": {
      "text/html": [
       "<span style=\"font-size:20px;\"><a class=\"ProveItLink\" href=\"../__pv_it/theorems/e9f87a0977d5044ea8daf1040d2f219396bb3d5b0/expr.ipynb\"><img src=\"data:image/png;base64,iVBORw0KGgoAAAANSUhEUgAAADMAAAAQBAMAAABJt1qBAAAAMFBMVEX///8AAAAAAAAAAAAAAAAA\n",
       "AAAAAAAAAAAAAAAAAAAAAAAAAAAAAAAAAAAAAAAAAAAv3aB7AAAAD3RSTlMAIquJdkTvuxBmmd1U\n",
       "zTKBpmoTAAAACXBIWXMAAA7EAAAOxAGVKw4bAAAA0ElEQVQY02NgwAKaq+86PsYmwcCiNoFjfRVW\n",
       "qSXBDAycWKX4FlQASS0UMffduy8AKaaGAiDZiSwT6wGh2RkXQEUYlR0dwPQNqIAQnwGUFSbA/gNE\n",
       "8wpABR6zToAwODIZuDaApWAGS7E6QBhcHxi4wQY82w0EBWC7oAayFTD0B4AY7TBd7GAXAkG/A8N8\n",
       "MIMbJsUK9hcrUOoAgy4PyAUsDvDQCAISa4HaHXh2cYFF7sDDsHYhx2mg3zhU7IT8wCJNpQ2wkC/7\n",
       "vRA18IKrwQEFAwCqvi28/xxvKQAAAABJRU5ErkJggg==\n",
       "\" style=\"display:inline;vertical-align:middle;\" /></a>, <a class=\"ProveItLink\" href=\"../__pv_it/theorems/a259ec76dfb0a5be60b7c83d797520fa82c1dba60/expr.ipynb\"><img src=\"data:image/png;base64,iVBORw0KGgoAAAANSUhEUgAAADEAAAAQBAMAAABNQoq8AAAAMFBMVEX///8AAAAAAAAAAAAAAAAA\n",
       "AAAAAAAAAAAAAAAAAAAAAAAAAAAAAAAAAAAAAAAAAAAv3aB7AAAAD3RSTlMAELvv3c2ZVESJq3Yi\n",
       "MmZ3LnoBAAAACXBIWXMAAA7EAAAOxAGVKw4bAAAA2UlEQVQY02NgwASSKqF7bjIwMCo7oElwL37A\n",
       "mK8GZLAmoMlkdzIw8IFk+AtQJXgTFIHkMiDuF4AKbXJxCQBSXAIKQFIOiKdAJVo3QmgmHpjxUbuX\n",
       "gyieQCj/FO8ECIPxq4D8AZBDDkBlbnI8gDDYPzIwbwDJwFxwjGMDhMEWwMAP0n7ZBQgUwPZATWOZ\n",
       "wNAPcrcQTA8T2G0Q7+SD3M0Ck+EA+4cDKHOB0Q4cJhvgYdAFJFKBHnvABHF/ODzcVHMYS4BijCvz\n",
       "IAJSGrDAkFT+koMSYJ0q4NCBAQD6uylQEVfDpgAAAABJRU5ErkJggg==\n",
       "\" style=\"display:inline;vertical-align:middle;\" /></a>, <a class=\"ProveItLink\" href=\"../../addition/subtraction/__pv_it/theorems/b66b5547fa9b0b910f79351152926c658c2718190/expr.ipynb\"><img src=\"data:image/png;base64,iVBORw0KGgoAAAANSUhEUgAAADEAAAAQBAMAAABNQoq8AAAAMFBMVEX///8AAAAAAAAAAAAAAAAA\n",
       "AAAAAAAAAAAAAAAAAAAAAAAAAAAAAAAAAAAAAAAAAAAv3aB7AAAAD3RSTlMAiXZmMiLdVJm77xBE\n",
       "zatgdeJyAAAACXBIWXMAAA7EAAAOxAGVKw4bAAAAw0lEQVQY02NgwAQbp91VdcQizsD0yoC7fwY2\n",
       "maaDDAzM2GRYGmYDyRfIQpppaReAFN+GCUByM5LEWW0IzcnaABMSUnYAkqy3odw4FgEoK6yAA6Sd\n",
       "NwDKd+QxgLISGbgUQDIwIyJ4FCAMjt8Q2isNCCaA7YGaxjUBQu+E6eHcABXZD9XLBpPhAfuHh4GB\n",
       "H2jfAVCYKMDD4ByQ6AXaM4GBEeRqhuvwcJvbyl0G8pOgMcSL++ZsgIX1rG+tKAF2cBo4dGAAAHWD\n",
       "KgtwTxl0AAAAAElFTkSuQmCC\n",
       "\" style=\"display:inline;vertical-align:middle;\" /></a>, <a class=\"ProveItLink\" href=\"../__pv_it/theorems/1157e8bc07ff5d23e5b8809064b9e77def3bc8980/expr.ipynb\"><img src=\"data:image/png;base64,iVBORw0KGgoAAAANSUhEUgAAAC8AAAAUCAMAAAAqRJTwAAAAPFBMVEX///8AAAAAAAAAAAAAAAAA\n",
       "AAAAAAAAAAAAAAAAAAAAAAAAAAAAAAAAAAAAAAAAAAAAAAAAAAAAAAAAAAAo1xBWAAAAE3RSTlMA\n",
       "ELvv3c2ZVESJq3YiMmbn9enzVleb9QAAAAlwSFlzAAAOxAAADsQBlSsOGwAAANlJREFUKM+VkusS\n",
       "xBAMhcUlGspevP+7LjG6bK0ZfmhSn+OICPF/IMz+glR6igfZZ0QezxoanPIydImxWVnXDclO5V2X\n",
       "RLZAfOKRpj7l2Se82TJJU/tHLy8SWw7sxDjv3c2S6eWh8bHEBvLUllHzeDzL3M44E1XeN1PKL+S/\n",
       "fP6gYYM0uh9LDHX5KPqaOLIL+XZfWygm8aop+3+96y2uGkmufCxUys8IKo7yvy8SFWsV6y6jcrRr\n",
       "7w2iSz+o0iHgCKNYy2cKybsw72NLYmsY2MLjprzekxdhtfgBfooGZl93KjkAAAAASUVORK5CYII=\n",
       "\" style=\"display:inline;vertical-align:middle;\" /></a>, <a class=\"ProveItLink\" href=\"../__pv_it/demonstrations/1034b099268ebc68ab71d757a423d98a8a315f520/expr.ipynb\"><img src=\"data:image/png;base64,iVBORw0KGgoAAAANSUhEUgAAAC8AAAAUCAMAAAAqRJTwAAAAPFBMVEX///8AAAAAAAAAAAAAAAAA\n",
       "AAAAAAAAAAAAAAAAAAAAAAAAAAAAAAAAAAAAAAAAAAAAAAAAAAAAAAAAAAAo1xBWAAAAE3RSTlMA\n",
       "iXZmMiLdVJm77xBEq83n9enzzp4SPQAAAAlwSFlzAAAOxAAADsQBlSsOGwAAAMxJREFUKM+VkusS\n",
       "hCAIhVFMUcu9+P7vuorjrrXGjPywmA4fBxLgPijCShg/Zkpp2kS9N0OSHEC0UoE5hgQt9/ASfoR5\n",
       "Lnb5fqJ9xEMmbpldm0VrNBd9GvGx67Gcmy1V1K2R5Xg869l7bFk1vS6nre9BC/ifvjxoNsROpzQ2\n",
       "/V75YbakdNl08+/KvDGfnbD/17tN8d2RZyhWKzxz6XXCXy1iYFaCvhk17tPRn8G6wxhMu0mIOor4\n",
       "oiWlDzP/tU4t3eMZXgpcxNs1PBjp4wcaEgV/DsHsSgAAAABJRU5ErkJggg==\n",
       "\" style=\"display:inline;vertical-align:middle;\" /></a> <a class=\"ProveItLink\" href=\"../__pv_it/demonstrations/bb3c6c633e52a9d05adf9c4d99e71ee084030e4b0/proof.ipynb\" style=\"text-decoration: none\">&nbsp;&#x22A2;&nbsp;&nbsp;</a><a class=\"ProveItLink\" href=\"../__pv_it/demonstrations/4035d134e6271f170d1416cd9303a56678f1d65b0/expr.ipynb\"><img src=\"data:image/png;base64,iVBORw0KGgoAAAANSUhEUgAAAGgAAAAvBAMAAAD9b5JGAAAAMFBMVEX///8AAAAAAAAAAAAAAAAA\n",
       "AAAAAAAAAAAAAAAAAAAAAAAAAAAAAAAAAAAAAAAAAAAv3aB7AAAAD3RSTlMAIquJdkTvuxBmmd1U\n",
       "zTKBpmoTAAAACXBIWXMAAA7EAAAOxAGVKw4bAAACKUlEQVRIx71VvUsjURCfJLpujEYRq5NDQUEL\n",
       "C8F0IgimOD2E/Q+ihRwHIgFFUAQXCxvhsoUIFsJiI2LhqY1gs1dfE5SDK/caC0ViUCEnnvpm18+d\n",
       "mYW1uIHdeZmX33vz9ZsFEKXWYYz6b183ZZpZ0AaxZIZcODNxVT0GCyaDSRaDlhanNg/JNlwuWbDN\n",
       "XXRCTtoHbQBgHpc7+IuRYxJjxVNLeNgX0K8ZTF0laNHyPlb5p19B8oIBpXqClsKAp2JlBbqFePEH\n",
       "BZVISA0WgKH0lHqm4adtU1AnrVseEq7Sq+pZHPzT4VLQX2rqXfuEqtWR2iFdFjslZUs7bHIe3SxK\n",
       "O3FxB6rE87Q2EVR3J+009Iig9K0IskQC6G8Su32IsgfPeRUIcCXdVHJkAlzCvSckITnjFQEKXiqf\n",
       "/3cTetMTAQLlvJFiQpBEAIzpPM9stFoyATB7ca4kHnl4AsSwTprLdYQtEiCNcZayXRRUT33WZ76/\n",
       "DILP5jDTyqPMQb6rCcTOwjpDjQrTWj77arCXJ5lZipkjkjNf2vICJphMzFFT3yO2Ub0OklyhVqnp\n",
       "KNuNqh9fp1mujwoG8fifWcBLJuQPTaLIzFyc5VWjMkjlhw4U5LPmhIDWmUGdU4ARL4McnbCUFi3T\n",
       "jgmxsZCLQN8Nglz9K8BymHcAHwPjIW7V2Ng/oRILNLjevqVeBvxvyaxEx6SMk+igTfgWHTT+npDK\n",
       "7wH9gkR00Af/+xtBHgA91aDsgOgkYAAAAABJRU5ErkJggg==\n",
       "\" style=\"display:inline;vertical-align:middle;\" /></a></span>"
      ],
      "text/plain": [
       "{a in Complex, b in Complex, c in Complex, b != 0, c != 0} |- (a / (b / c)) = (a * (c / b))"
      ]
     },
     "metadata": {},
     "output_type": "display_data"
    }
   ],
   "source": [
    "# and the div_in_denominator_reduction() should be integrated into the shallow_simplification() method\n",
    "frac(a, frac(b, c)).simplification(\n",
    "        assumptions=[InSet(a, Complex), InSet(b, Complex), InSet(c, Complex),\n",
    "                    NotEquals(b, zero), NotEquals(c, zero)])"
   ]
  },
  {
   "cell_type": "markdown",
   "metadata": {},
   "source": [
    "## Testing `Div.top_and_bottom_multiplication()`\n",
    "## Multiplying The Top & Bottom by The Same (Non-Zero) Value"
   ]
  },
  {
   "cell_type": "markdown",
   "metadata": {},
   "source": [
    "The `top_and_bottom_multiplication()` method relies on the `frac_cancel_left` and `frac_cancel_right` theorems in the `division` package:"
   ]
  },
  {
   "cell_type": "code",
   "execution_count": 86,
   "metadata": {},
   "outputs": [
    {
     "data": {
      "text/html": [
       "<span style=\"font-size:20px;\"> <a class=\"ProveItLink\" href=\"proofs/frac_cancel_left/thm_proof.ipynb\" style=\"text-decoration: none\">&nbsp;&#x22A2;&nbsp;&nbsp;</a><a class=\"ProveItLink\" href=\"../__pv_it/theorems/abe087c1f6db10e358eccd628b01da34e490c1220/expr.ipynb\"><img src=\"data:image/png;base64,iVBORw0KGgoAAAANSUhEUgAAAQsAAAAmCAMAAADkzk48AAAAPFBMVEX///8AAAAAAAAAAAAAAAAA\n",
       "AAAAAAAAAAAAAAAAAAAAAAAAAAAAAAAAAAAAAAAAAAAAAAAAAAAAAAAAAAAo1xBWAAAAE3RSTlMA\n",
       "q1RmmUTNIjK7EInv3Xah18O1XjQ+CwAAAAlwSFlzAAAOxAAADsQBlSsOGwAABCJJREFUaN7VWouy\n",
       "oyAM5REEAmYf/v+/LmhRUFHqrd2W2encnUljOIaTk1DG7ltiCEv+0AmIm6LDDpeHxEiR3YkF/7kP\n",
       "ePhAIo7GuS0ySBDxxoaHlaamL3bvPx0L2SVMGCNODPqNiWPCR8vh3NvKVPJvwsKkAKWOW0DGN0fO\n",
       "iAkgbs+9rU2t+CIsOpe2EVOjy7J9SP8JO/DEHh8nR2Rtivn+PxwLUfBZsdse5j9VtDKDaXC4NgX+\n",
       "NVj0rthHOCe4E/CYL+SbmHhlqqPPr8DCzGmBVjHuR/bbLsvTx+namFr3JVgsdCgGgxCwUKJSdlWb\n",
       "jtmYSv8lWCxBIxAxAXJXdyF3BFmyH7Hn2lQPIsNiiVfIO7C47t+07W9SDt1F04WDAxag5gKm78Di\n",
       "uv8W9fTYG3px0XQp1AELk16ctreckev+edu77kOp5e6qKQ05X6QWxYl7+OKyf99GN0LSkntPm4pZ\n",
       "bEQs5OMYd+weLC77Hxy7f5mZPMc64vu4vLsJi8v+B/kGLHB+yogFjFli8S4sLvrPyt3TjX6frZOT\n",
       "NlCOhebp4wqu8XVrEqSrWJz6JwucNFWz99Y1n8RJa8VX5lTrl8vIIdFjV9da+/4NcRukddDXPOAo\n",
       "rNv0UctXhqZ1uu090wEKLASdM1slcqnG1ndfwiYsdv0DPAjc4YirdP8pL0osQqDypPvfidwBwK/f\n",
       "EIqUjgOS3tQ1+OxfUZKilCgLpZnev34dFtf5Ipb+JAKIQId/KZy+00odRA6PkUh0petYJP8Bx9B6\n",
       "Gh/TazbSQle4U74lL2SJhU6yJjBgaA679ELAKAesEnnIiz9/IebFeAAO+GL2r1H0kXBCgsz7lCix\n",
       "Uu3oDVDoUl/ErH0keIjQEsuyXY+nuBI5pqMW6ojUR31q8j8qYE5xpmvHJZgxqjKR8vAWraXqPXvR\n",
       "HJrp1VQiB3y6Z+/Dk33wYBamfDAQ2zjr7BuwWMaIWyziYZ7RiPmgsRa5PCvDe1iYUCtL6aXdyE9u\n",
       "cyLAvwEL11dmOdqPbS0kCdUJo2xj5G1YCJC2m7pWs8i1kHZgdnp2vB+LZeC3zgsg5YhiJsQuH1D6\n",
       "aejQEHkTFhi8WfnwE0+dOmwV3iAwlmJ1MOMTK6l9FnkTFoE2VXu/au8nT7XQYx0L9YL83GKhJD3R\n",
       "rmaD2YP71CiDAg3pNjWyss0GfnUsXqFzfjr7xawjqd+nMuzIWdf2rLVtNvD78Lui5a3V71OnShfq\n",
       "W5u0Km3zG6ZPv0/1iaPX96nZhepEZ+0byW3zOfCnYyHzDZe3x9mFKtNPqPXclgr3n/77i06WlL93\n",
       "nzq1CI07yW110U9+PBbYj+Ee3qeKMdEbh+aZLfZFUboZixf8XkuP3f7RfaqxzpLrm9RfYWuX0O7/\n",
       "vdZrmmrDju9TQ6oI37XJwNwWN1/5B4ZBKQf27lQcAAAAAElFTkSuQmCC\n",
       "\" style=\"display:inline;vertical-align:middle;\" /></a></span>"
      ],
      "text/plain": [
       "|- forall_{x, z in ComplexNonZero} [forall_{y in Complex} (((x * y) / (x * z)) = (y / z))]"
      ]
     },
     "metadata": {},
     "output_type": "display_data"
    }
   ],
   "source": [
    "from proveit.numbers.division import frac_cancel_left\n",
    "display(frac_cancel_left)"
   ]
  },
  {
   "cell_type": "code",
   "execution_count": 87,
   "metadata": {},
   "outputs": [
    {
     "data": {
      "text/html": [
       "<span style=\"font-size:20px;\"> <a class=\"ProveItLink\" href=\"proofs/frac_cancel_right/thm_proof.ipynb\" style=\"text-decoration: none\">&nbsp;&#x22A2;&nbsp;&nbsp;</a><a class=\"ProveItLink\" href=\"../__pv_it/theorems/2b5da68865682b2f1b83722c002f48172f6ddfe90/expr.ipynb\"><img src=\"data:image/png;base64,iVBORw0KGgoAAAANSUhEUgAAAQsAAAAmCAMAAADkzk48AAAAPFBMVEX///8AAAAAAAAAAAAAAAAA\n",
       "AAAAAAAAAAAAAAAAAAAAAAAAAAAAAAAAAAAAAAAAAAAAAAAAAAAAAAAAAAAo1xBWAAAAE3RSTlMA\n",
       "q1RmmUTNIjK7EInv3Xah18O1XjQ+CwAAAAlwSFlzAAAOxAAADsQBlSsOGwAABB5JREFUaN7VWguX\n",
       "qywM5BEEguZ7+P//6wUVBZVKbeltOXu62z3tNAxhMoEy1m6I0Q/5IgiIRtFhh9uHhEiRteSCv44B\n",
       "MwYSBFLxBBGJOBrnKjjLUcyQzb7/di5kN/92TPTh6XjCFmPEicFwjbZDkfyXuDBLgEbMc+X2yJYO\n",
       "k0PGrzfjAcWKH+Kic0ty+1CJLQ/h+ditEwyp0dUpxA6FYTr/L+dCbHqmwp9mNMvTAbL0pkrAHUpU\n",
       "o1/gYnCbKoSlp74wQ79PsGYqexQd3vkTXJikzFkeH3Z5bxXj/aSLFeOAYt2PcJEqZchmdWJWxGgQ\n",
       "PBeqyoYcUGT/I1ykQSN3BElGr/8HIiZA1jmyA4oeRcLFFq+QLbi4j2/2U3fdO6LKUTYR9lyAWguY\n",
       "bsHFffzUWIUJYC/eQMMOZSvHngsTF07bJnvkPj5PFnDwVZO7VwM6QaEx1YvYojjRRi9u4/eJ3AhJ\n",
       "W4LdD+iIIlazEbiQyzbuWBsubuOPjrUfZhXPqY70Qxi9a8TFbfxRfoALXD9l4gKmLLHYioub+Em5\n",
       "e7rRH5JxUdhHSrnQPD7c4TUstyZBusjFJT5Z4KSpmL1Nx7oTZ68VlsxVK1MeOUR57Mpe6xzfELfe\n",
       "QHsXzT2PwrpDl7G9Zawal9M+e+kIGReCrpWtELlUU+t7bmEjF6f4AIuAO5x4le4v5UXOhQ9UXnS9\n",
       "J5E7APjnX/BFSocDksGUPfiKryhaUYqShdLM66/fx8V9vQilP5oAItD+J4YzdFqpB5HDciQSoHSZ\n",
       "i4jvefStp+lDeq0v0kIXtFN+JC9kzoWOtsYroG8Ou7ggYJQDVojc58V//0PIi2kDPNCLFV+jGILg\n",
       "+ARZ5ylRYqHa0Qeo0Lm/CFm7JLiP0BJLsl1Pu7gQOcat5uuI1I/61Ig/OWBO4UzXTkMwY5Qp+E74\n",
       "iNdS5Z49aw7NvDSFyAGf7tkH/8m9RzCbUi4KxA5gnf0AF9sx4pGLsJlXNkI+aCxFLq/K8BkXxtfK\n",
       "3HppN+mTO+wI6D/AhRsKZzm6n9paiBaqE0bZysjruBAgbTd3rWazaz7twJz07Niei+3Ab58XQMoR\n",
       "hUwIXT6g7OdDh4rIq7hAj2blghN2nXrYKnzAYGzF6sEZn9hZ7avIq7jwsqnq+1XbXjzVJo9lLtQb\n",
       "8vPIhZL0RLsqU8Ewg9cafWI5nrhPPcIkB35lLt7hc149+8WkI8GOnHVngE/cpx5hkgO/L78rSlYt\n",
       "lDNfxE4Wrf4+9QiTXj59+31qbzLNwi1j7tynHmDStPh6LmQyyeyA4+Z96g6GUg6//vsXnUx9H8Ny\n",
       "McC6qaQwOusnv54LHJZwxZTNr96nZjA4ZKWnMRdv+L6Wnrt9Y50ld3ZG8tR9agZjt9Daf1/rPU31\n",
       "FLhfddF3J17vufvUFAYPaH8Ai4cpB8DlbIIAAAAASUVORK5CYII=\n",
       "\" style=\"display:inline;vertical-align:middle;\" /></a></span>"
      ],
      "text/plain": [
       "|- forall_{x, z in ComplexNonZero} [forall_{y in Complex} (((y * x) / (z * x)) = (y / z))]"
      ]
     },
     "metadata": {},
     "output_type": "display_data"
    }
   ],
   "source": [
    "from proveit.numbers.division import frac_cancel_right\n",
    "display(frac_cancel_right)"
   ]
  },
  {
   "cell_type": "markdown",
   "metadata": {},
   "source": [
    "Technically, we could omit the requirement that $z \\ne 0$ (because that would then give an undefined or nonsensical expression equal to another undefined or nonsensical expression), but for simplicity we maintain the $z \\ne 0$ condition."
   ]
  },
  {
   "cell_type": "markdown",
   "metadata": {},
   "source": [
    "First, some simple assumptions about term domains:"
   ]
  },
  {
   "cell_type": "code",
   "execution_count": 88,
   "metadata": {},
   "outputs": [],
   "source": [
    "assumptions = [InSet(var, Complex) for var in [a, b, c, d]]\n",
    "assumptions = assumptions + [InSet(var, Integer) for var in [a, b]]\n",
    "assumptions += [NotEquals(var, zero) for var in [a, b, c, d]]"
   ]
  },
  {
   "cell_type": "markdown",
   "metadata": {},
   "source": [
    "First, some example `Div`s (in the form of `frac`s) to play with:"
   ]
  },
  {
   "cell_type": "code",
   "execution_count": 89,
   "metadata": {},
   "outputs": [
    {
     "data": {
      "text/html": [
       "<strong id=\"example_frac_01\">example_frac_01:</strong> <a class=\"ProveItLink\" href=\"../__pv_it/theorems/1d538d2f20f29402801c0b11601119d40d9de7330/expr.ipynb\"><img src=\"data:image/png;base64,iVBORw0KGgoAAAANSUhEUgAAAAsAAAAlBAMAAABmJA5TAAAAMFBMVEX///8AAAAAAAAAAAAAAAAA\n",
       "AAAAAAAAAAAAAAAAAAAAAAAAAAAAAAAAAAAAAAAAAAAv3aB7AAAAD3RSTlMAIquJdkTvuxBmmd1U\n",
       "zTKBpmoTAAAACXBIWXMAAA7EAAAOxAGVKw4bAAAAjUlEQVQY02NgYFR2dGBgYAgTYP/BwMCRycC1\n",
       "gYGB6wMDtwEDA1sBQ38AA0O/A8N8oIr+Awy6PAIM7A48u7iAKlXshPwYyAb/QeADUUrbsyH0LQj1\n",
       "B0yy/gBTzBvAFK+K0wGQC29wfARS5xsYUoDUWgaGz0BqMwPrH7A2LpCWfwxtE4CUJkMVSF+TFZAD\n",
       "APD+I6UT8/nlAAAAAElFTkSuQmCC\n",
       "\" style=\"display:inline;vertical-align:middle;\" /></a><br>"
      ],
      "text/plain": [
       "<IPython.core.display.HTML object>"
      ]
     },
     "metadata": {},
     "output_type": "display_data"
    },
    {
     "data": {
      "text/html": [
       "<strong id=\"example_frac_02\">example_frac_02:</strong> <a class=\"ProveItLink\" href=\"../__pv_it/demonstrations/f76356d7ab83a611b481c661df55d816199ceace0/expr.ipynb\"><img src=\"data:image/png;base64,iVBORw0KGgoAAAANSUhEUgAAACMAAAAlBAMAAAA6rk13AAAAMFBMVEX///8AAAAAAAAAAAAAAAAA\n",
       "AAAAAAAAAAAAAAAAAAAAAAAAAAAAAAAAAAAAAAAAAAAv3aB7AAAAD3RSTlMAiXZmMiLdVJm77xBE\n",
       "zatgdeJyAAAACXBIWXMAAA7EAAAOxAGVKw4bAAAA6klEQVQoz2NgYBBSdmCAAtaHqgpAKqyAYwJM\n",
       "6FQA528glcjApQAV4V7MwJHAwMDxG8L7CyQ4PjCwCTAwcEF1ZTCA2fsPMDDsh+liALPtgRS/AQPD\n",
       "AZhQAcNb9gAGoHWMMEdwKrBncABpQWNtmEbuRyJxKgyDFvxHBx/oav3OZZhiNzCFvmOI8PzGEGJM\n",
       "gNJKJjAh3kd6BaCkkc7QCY/I29xfgRQwyhfBhOo3gNn9GyAKLgCJXgaGj0BqJUQBWwM4FfEAncH9\n",
       "CcVZ4IT0GegcmNAXhl3AJAKyTgQm9JhhBthZwkYbYEL7JICKAO8sRQSRrRArAAAAAElFTkSuQmCC\n",
       "\" style=\"display:inline;vertical-align:middle;\" /></a><br>"
      ],
      "text/plain": [
       "<IPython.core.display.HTML object>"
      ]
     },
     "metadata": {},
     "output_type": "display_data"
    },
    {
     "data": {
      "text/html": [
       "<strong id=\"example_frac_03\">example_frac_03:</strong> <a class=\"ProveItLink\" href=\"../__pv_it/demonstrations/c20ea63de3d87fd3c22cfeab98ee24f8a9309e9c0/expr.ipynb\"><img src=\"data:image/png;base64,iVBORw0KGgoAAAANSUhEUgAAAC4AAAAtBAMAAAAjA0SqAAAAMFBMVEX///8AAAAAAAAAAAAAAAAA\n",
       "AAAAAAAAAAAAAAAAAAAAAAAAAAAAAAAAAAAAAAAAAAAv3aB7AAAAD3RSTlMAIquJdkTvuxBmmd1U\n",
       "zTKBpmoTAAAACXBIWXMAAA7EAAAOxAGVKw4bAAABEElEQVQ4y2NgwAAcZRsYsALeBah81gkQmv8A\n",
       "qjiPA4SOb8Aubg0mGZUdHVDFL7noAMkwAfYfKOIcfxv6BRg4Mhm4NqCI8/xgYHNg4PrAwG0A5HHt\n",
       "3r0te/duBSDrAgO/AQNbAUN/AIp6oLL4Awz9DgzzUd0DdP76Bob+Awy6PAIo4g+AdjKwO/Ds4kJR\n",
       "zzSBHRgQHCp2Qn6o7lReid2/6AAWbkMK/McOBsw92FIp37UFmKkUlkLhqRQp+EEpFJ5KkaLLGp5K\n",
       "UcVvwVMpkjijst8fWCpFFockZEgqRU4mmaAUCk2lyMkWkpAhqRRJPTQhQ1Ipkjg0IUNSKbI4JCFD\n",
       "UimSODQhI1IpzD2IhExCsgUAr0NjVB046KoAAAAASUVORK5CYII=\n",
       "\" style=\"display:inline;vertical-align:middle;\" /></a><br>"
      ],
      "text/plain": [
       "<IPython.core.display.HTML object>"
      ]
     },
     "metadata": {},
     "output_type": "display_data"
    },
    {
     "data": {
      "text/html": [
       "<strong id=\"example_frac_04\">example_frac_04:</strong> <a class=\"ProveItLink\" href=\"../__pv_it/demonstrations/841bce84e905b098856e5b7cfdc29195ec252eac0/expr.ipynb\"><img src=\"data:image/png;base64,iVBORw0KGgoAAAANSUhEUgAAAFYAAAAvBAMAAACLVSDNAAAAMFBMVEX///8AAAAAAAAAAAAAAAAA\n",
       "AAAAAAAAAAAAAAAAAAAAAAAAAAAAAAAAAAAAAAAAAAAv3aB7AAAAD3RSTlMAiXZmMiLdVJm77xBE\n",
       "zatgdeJyAAAACXBIWXMAAA7EAAAOxAGVKw4bAAAB30lEQVRIx+WUv0vDQBTHX21jkv4wVaSjBG0n\n",
       "l4KLm52cM3WUuqTFKf4BQqV/QIvg4iQUnByyOrU4urTgIgpiXJyEbg5F9N3lR+8ud9BV/ELS3ssn\n",
       "l/fe3X0BeDkglyS+4inY+3ToVIIVrlo4ST0VnsrmLHXx9iJGDe7tYjSySGL7IpvnRrod/k588sgX\n",
       "2DMpW6GJ0I9s7DTip+d4aUHN5tnX7Q+AzBv+a3rGIGYf8XpwzDnHFr79kQNZUvYx5O2YbeOTIRgt\n",
       "jtXnhNCvsfR59DK53+J4Bqtl0hLXPblxXfyyMQWrDLkZ1hcl0IlYHI/G3Lz46sSDIs47spnK23R8\n",
       "wPcB29v3QcfELOzFOGYvkPXgU3c4toE1QBa/j03IJD3bAjBtvWNw867VTVxkgxSxvreb5HCIRb5v\n",
       "HlX5ngU9kvVYWLfVhmzdqJrifsh2ZXuHqpfafpeKrQ7aIBW6U7Fm+hBptoKtwR/Uz/KC/yHqcYJy\n",
       "z105XJLELYXJJnFm4058OZvEmQNRUSRckRyeJwVLPY5ltaD6pegD9TiWXdigqNDj2MM+JF4mVehx\n",
       "rOlFNihR6HHMvIwNStrb91mWscEUSz2OZRc2KCr0OIZlbDDVs6DHrwVjg2rp9vK7s1iXhn8BLU+U\n",
       "1ea46cIAAAAASUVORK5CYII=\n",
       "\" style=\"display:inline;vertical-align:middle;\" /></a><br>"
      ],
      "text/plain": [
       "<IPython.core.display.HTML object>"
      ]
     },
     "metadata": {},
     "output_type": "display_data"
    }
   ],
   "source": [
    "example_frac_01, example_frac_02, example_frac_03, example_frac_04 = (\n",
    "    frac(a, b),\n",
    "    frac(Mult(c, a), Mult(c, b)),\n",
    "    frac(Add(a, b), Add(b, d)),\n",
    "    frac(Mult(c, Add(a, b)), Add(b, d)))"
   ]
  },
  {
   "cell_type": "markdown",
   "metadata": {},
   "source": [
    "And note the working assumptions:"
   ]
  },
  {
   "cell_type": "code",
   "execution_count": 90,
   "metadata": {},
   "outputs": [
    {
     "data": {
      "text/html": [
       "<a class=\"ProveItLink\" href=\"../__pv_it/demonstrations/86fdfd8e549060c8c885515dd762f8de024e82be0/expr.ipynb\"><img src=\"data:image/png;base64,iVBORw0KGgoAAAANSUhEUgAAAkkAAAAVCAMAAABljYqjAAAAPFBMVEX///8AAAAAAAAAAAAAAAAA\n",
       "AAAAAAAAAAAAAAAAAAAAAAAAAAAAAAAAAAAAAAAAAAAAAAAAAAAAAAAAAAAo1xBWAAAAE3RSTlMA\n",
       "InZUiRDNmWbv3US7qzLn9enz+YF6hwAAAAlwSFlzAAAOxAAADsQBlSsOGwAABIpJREFUaN7tmgmT\n",
       "8yYMhjHmMBj7a+v//18LxgeXjMBNdjqzTGYzyebJKwkhrhBi20B+22/rb1f+0BHNcGa0EHRYWata\n",
       "P/kGfcGOQm1KGK2Nmj4NSt7Xhd/mAHSmh+f4INPFBYfLzciwt4zSfeQLUd9WoeSnZM2y2iexP1qc\n",
       "BcCHtprwFWNUxrMEpFnjevUeYhuhF0n3IcMFPh/p7LNuSjpGyF7yhahv2/gZWSLlESOWKNScBUGw\n",
       "mTX8ektxPWA061yvHhjbEA1I4SqVRNfuVRJz1LZF4rvzkXwh6gvrxj8ia4lhrwbuQZqcBUHQzCV4\n",
       "Me3VhxmEJoLr1YNiG6IhObnwqocyrW27S9bCySnIp2fJBAXJF6JHgdX/jWwuvLskV7KstfgmJATC\n",
       "JSIsCGbvqzEWKY+XOterV4pthkak4nZ9COjNgibfbshQHtmpZIaC5AvRvOz3y5aEjyG4ylZnIRCU\n",
       "XqLqs2NrXISY7uN69aApNUIjUkxEnuvtYWF0oPfOTqTxGWx0yotzsVC6jDAKky5KlE5rh+hucBiB\n",
       "Jtmqtz4V+TU9op0FwVTz+sKwRPCzf6YHTTQXR7eBS2NbQGOSLS6ZfLop+ylzFzmRrcFsr8zFOYJv\n",
       "Npp8G0AUJK3J2porTbtoZnCTbN3bY1c70VZnITDTlHpvf/5yf8/BPmzM9w8FNfFcHN0GDmNqTE6C\n",
       "aJ94fD/7kHcVzSc9O1PMtBjwXVJREAVJQjQL0QbRw+CAaJBFeEuAjXzVWQjMNIupePUPe9DEckl0\n",
       "0Vwe2wIak6MiavZZt13KfjwrfTQTLjuKk4WXvGwpoBBpZcM5oEk0MbhRtu7tfmLL5msNjXYWAlOD\n",
       "j+Evk5LH/BKbwpp4rrCOxnEIU2Ny3c5MUmb/53wfhpUnf7CuzNesWkAh0suSHtHU4HbZirfuzcHc\n",
       "+3q0swCYGVyeHf3qY4zWKIkmmlMF49Bc1dSInNUxu/E9s6YtsJ6U0vlaRs7pYUeQ/xpN8nh6bhDN\n",
       "DW6WrXjrdvE+E/jW5GwZzDX3xcff//iKdm2KjD+fiapJrInmkug2clVTI3LUxFAPO2MXQcYz7ygt\n",
       "HhkvQb09xbf1nFpBFCDJsWWYm0VzgxtkUd7aXfxRzhfd5GwZLBh8HQ6HbVKFKCWaaG7KBhGGQ5oa\n",
       "kO4SwW3f9gSjLq8kkdFZeH56J+RAuPvgvqM4xqA1OLqNKKBl8thXsLVdNDe4QRbjra1me+wGM5om\n",
       "ZwGwYLB9Iz90cpMEV2tobqaJ5NLoYjmkqRfppBhZfXnmC2XrsNBblS9mzhZsnBm16ePCT2t+fJLF\n",
       "Vy4ltEi6S8BpCk72WkRTgxtkEd7OyghljKWVYS3OwmBmcKFEuOtmRv3xeGBuoonk0uji9VCm3qRl\n",
       "beHT4KH+zEx0f5Bv/3kv2k8+oG9kP2jyg2jlZxgg+W2uig6uHk3Nd5v3AeoPkG/Qn2EfQMH7yG9z\n",
       "VdSXTNP7k0lOydfJN+jPsA/gxPrIb3NV9Dj0QP/6IVvOdnfLix59gf4M+wBq3kd+m6uiZzEa3kT4\n",
       "t/W39X/C1VDqEulflc9DcyDN/qcAAAAASUVORK5CYII=\n",
       "\" style=\"display:inline;vertical-align:middle;\" /></a>"
      ],
      "text/plain": [
       "(a in Complex, b in Complex, c in Complex, d in Complex, a in Integer, b in Integer, a != 0, b != 0, c != 0, d != 0)"
      ]
     },
     "metadata": {},
     "output_type": "display_data"
    }
   ],
   "source": [
    "assumptions"
   ]
  },
  {
   "cell_type": "markdown",
   "metadata": {},
   "source": [
    "The most basic result: $\\frac{a}{b} = \\frac{ca}{cb}$"
   ]
  },
  {
   "cell_type": "code",
   "execution_count": 91,
   "metadata": {},
   "outputs": [
    {
     "data": {
      "text/html": [
       "<strong id=\"temp_result\">temp_result:</strong> <span style=\"font-size:20px;\"><a class=\"ProveItLink\" href=\"../../addition/subtraction/__pv_it/theorems/b66b5547fa9b0b910f79351152926c658c2718190/expr.ipynb\"><img src=\"data:image/png;base64,iVBORw0KGgoAAAANSUhEUgAAADEAAAAQBAMAAABNQoq8AAAAMFBMVEX///8AAAAAAAAAAAAAAAAA\n",
       "AAAAAAAAAAAAAAAAAAAAAAAAAAAAAAAAAAAAAAAAAAAv3aB7AAAAD3RSTlMAiXZmMiLdVJm77xBE\n",
       "zatgdeJyAAAACXBIWXMAAA7EAAAOxAGVKw4bAAAAw0lEQVQY02NgwAQbp91VdcQizsD0yoC7fwY2\n",
       "maaDDAzM2GRYGmYDyRfIQpppaReAFN+GCUByM5LEWW0IzcnaABMSUnYAkqy3odw4FgEoK6yAA6Sd\n",
       "NwDKd+QxgLISGbgUQDIwIyJ4FCAMjt8Q2isNCCaA7YGaxjUBQu+E6eHcABXZD9XLBpPhAfuHh4GB\n",
       "H2jfAVCYKMDD4ByQ6AXaM4GBEeRqhuvwcJvbyl0G8pOgMcSL++ZsgIX1rG+tKAF2cBo4dGAAAHWD\n",
       "KgtwTxl0AAAAAElFTkSuQmCC\n",
       "\" style=\"display:inline;vertical-align:middle;\" /></a>, <a class=\"ProveItLink\" href=\"../__pv_it/demonstrations/1034b099268ebc68ab71d757a423d98a8a315f520/expr.ipynb\"><img src=\"data:image/png;base64,iVBORw0KGgoAAAANSUhEUgAAAC8AAAAUCAMAAAAqRJTwAAAAPFBMVEX///8AAAAAAAAAAAAAAAAA\n",
       "AAAAAAAAAAAAAAAAAAAAAAAAAAAAAAAAAAAAAAAAAAAAAAAAAAAAAAAAAAAo1xBWAAAAE3RSTlMA\n",
       "iXZmMiLdVJm77xBEq83n9enzzp4SPQAAAAlwSFlzAAAOxAAADsQBlSsOGwAAAMxJREFUKM+VkusS\n",
       "hCAIhVFMUcu9+P7vuorjrrXGjPywmA4fBxLgPijCShg/Zkpp2kS9N0OSHEC0UoE5hgQt9/ASfoR5\n",
       "Lnb5fqJ9xEMmbpldm0VrNBd9GvGx67Gcmy1V1K2R5Xg869l7bFk1vS6nre9BC/ifvjxoNsROpzQ2\n",
       "/V75YbakdNl08+/KvDGfnbD/17tN8d2RZyhWKzxz6XXCXy1iYFaCvhk17tPRn8G6wxhMu0mIOor4\n",
       "oiWlDzP/tU4t3eMZXgpcxNs1PBjp4wcaEgV/DsHsSgAAAABJRU5ErkJggg==\n",
       "\" style=\"display:inline;vertical-align:middle;\" /></a>, <a class=\"ProveItLink\" href=\"../__pv_it/theorems/a259ec76dfb0a5be60b7c83d797520fa82c1dba60/expr.ipynb\"><img src=\"data:image/png;base64,iVBORw0KGgoAAAANSUhEUgAAADEAAAAQBAMAAABNQoq8AAAAMFBMVEX///8AAAAAAAAAAAAAAAAA\n",
       "AAAAAAAAAAAAAAAAAAAAAAAAAAAAAAAAAAAAAAAAAAAv3aB7AAAAD3RSTlMAELvv3c2ZVESJq3Yi\n",
       "MmZ3LnoBAAAACXBIWXMAAA7EAAAOxAGVKw4bAAAA2UlEQVQY02NgwASSKqF7bjIwMCo7oElwL37A\n",
       "mK8GZLAmoMlkdzIw8IFk+AtQJXgTFIHkMiDuF4AKbXJxCQBSXAIKQFIOiKdAJVo3QmgmHpjxUbuX\n",
       "gyieQCj/FO8ECIPxq4D8AZBDDkBlbnI8gDDYPzIwbwDJwFxwjGMDhMEWwMAP0n7ZBQgUwPZATWOZ\n",
       "wNAPcrcQTA8T2G0Q7+SD3M0Ck+EA+4cDKHOB0Q4cJhvgYdAFJFKBHnvABHF/ODzcVHMYS4BijCvz\n",
       "IAJSGrDAkFT+koMSYJ0q4NCBAQD6uylQEVfDpgAAAABJRU5ErkJggg==\n",
       "\" style=\"display:inline;vertical-align:middle;\" /></a>, <a class=\"ProveItLink\" href=\"../__pv_it/theorems/1157e8bc07ff5d23e5b8809064b9e77def3bc8980/expr.ipynb\"><img src=\"data:image/png;base64,iVBORw0KGgoAAAANSUhEUgAAAC8AAAAUCAMAAAAqRJTwAAAAPFBMVEX///8AAAAAAAAAAAAAAAAA\n",
       "AAAAAAAAAAAAAAAAAAAAAAAAAAAAAAAAAAAAAAAAAAAAAAAAAAAAAAAAAAAo1xBWAAAAE3RSTlMA\n",
       "ELvv3c2ZVESJq3YiMmbn9enzVleb9QAAAAlwSFlzAAAOxAAADsQBlSsOGwAAANlJREFUKM+VkusS\n",
       "xBAMhcUlGspevP+7LjG6bK0ZfmhSn+OICPF/IMz+glR6igfZZ0QezxoanPIydImxWVnXDclO5V2X\n",
       "RLZAfOKRpj7l2Se82TJJU/tHLy8SWw7sxDjv3c2S6eWh8bHEBvLUllHzeDzL3M44E1XeN1PKL+S/\n",
       "fP6gYYM0uh9LDHX5KPqaOLIL+XZfWygm8aop+3+96y2uGkmufCxUys8IKo7yvy8SFWsV6y6jcrRr\n",
       "7w2iSz+o0iHgCKNYy2cKybsw72NLYmsY2MLjprzekxdhtfgBfooGZl93KjkAAAAASUVORK5CYII=\n",
       "\" style=\"display:inline;vertical-align:middle;\" /></a>, <a class=\"ProveItLink\" href=\"../__pv_it/theorems/e9f87a0977d5044ea8daf1040d2f219396bb3d5b0/expr.ipynb\"><img src=\"data:image/png;base64,iVBORw0KGgoAAAANSUhEUgAAADMAAAAQBAMAAABJt1qBAAAAMFBMVEX///8AAAAAAAAAAAAAAAAA\n",
       "AAAAAAAAAAAAAAAAAAAAAAAAAAAAAAAAAAAAAAAAAAAv3aB7AAAAD3RSTlMAIquJdkTvuxBmmd1U\n",
       "zTKBpmoTAAAACXBIWXMAAA7EAAAOxAGVKw4bAAAA0ElEQVQY02NgwAKaq+86PsYmwcCiNoFjfRVW\n",
       "qSXBDAycWKX4FlQASS0UMffduy8AKaaGAiDZiSwT6wGh2RkXQEUYlR0dwPQNqIAQnwGUFSbA/gNE\n",
       "8wpABR6zToAwODIZuDaApWAGS7E6QBhcHxi4wQY82w0EBWC7oAayFTD0B4AY7TBd7GAXAkG/A8N8\n",
       "MIMbJsUK9hcrUOoAgy4PyAUsDvDQCAISa4HaHXh2cYFF7sDDsHYhx2mg3zhU7IT8wCJNpQ2wkC/7\n",
       "vRA18IKrwQEFAwCqvi28/xxvKQAAAABJRU5ErkJggg==\n",
       "\" style=\"display:inline;vertical-align:middle;\" /></a> <a class=\"ProveItLink\" href=\"../__pv_it/demonstrations/a831ef8b77d1e41ebe4fba10770fcdb823911b9a0/proof.ipynb\" style=\"text-decoration: none\">&nbsp;&#x22A2;&nbsp;&nbsp;</a><a class=\"ProveItLink\" href=\"../__pv_it/demonstrations/2feaae533b83b3846c5a7d62a634d0af617cb14b0/expr.ipynb\"><img src=\"data:image/png;base64,iVBORw0KGgoAAAANSUhEUgAAAE8AAAAlBAMAAADxdamJAAAAMFBMVEX///8AAAAAAAAAAAAAAAAA\n",
       "AAAAAAAAAAAAAAAAAAAAAAAAAAAAAAAAAAAAAAAAAAAv3aB7AAAAD3RSTlMAIquJdkTvuxBmmd1U\n",
       "zTKBpmoTAAAACXBIWXMAAA7EAAAOxAGVKw4bAAABM0lEQVQ4y2NgYFR2dGDABCaeD2BMqIowAfYf\n",
       "mOqkD3AVwNgQFRyZDFwbMBVuZmCD2QNVwfWBgdsAQx0XxBKOvwxwFWwFDP0BGArZoPbuYoCr6Hdg\n",
       "mI9pc78DChukov8Agy6PALpC/gkMDDB7oCrYHXh2cWG6sYCBGRY8UBUcKnZCfph2G8/0gDFxqBhp\n",
       "gGs3GChQas5/EPiAVRQZfBhIN9IAtGcTq+IWQbOgKv4QVAhRwfqDkDqoCuYNhBRCVfCqOB3AJusy\n",
       "D8aEqui/wfERUx3jHobl8IwNUXG+gSEFUyGwEIGLQlWsZWD4jKlwfQPEsAsIFZsZWLEEUDrU4AUI\n",
       "FX9gRRcy4PiCEoxgFf8Y2iZgmvgTGHwwNlSFJkMVltABetkOxoaqaLKagC0YLac0wNhgFQBp9XId\n",
       "S+UwHgAAAABJRU5ErkJggg==\n",
       "\" style=\"display:inline;vertical-align:middle;\" /></a></span><br>"
      ],
      "text/plain": [
       "<IPython.core.display.HTML object>"
      ]
     },
     "metadata": {},
     "output_type": "display_data"
    }
   ],
   "source": [
    "temp_result = example_frac_01.top_and_bottom_multiplication(c, assumptions=assumptions)"
   ]
  },
  {
   "cell_type": "markdown",
   "metadata": {},
   "source": [
    "Notice if we now pull out the factor of `a` on the rhs, Prove-It automatically re-cancels the common factor of `c` in the top and bottom:"
   ]
  },
  {
   "cell_type": "code",
   "execution_count": 92,
   "metadata": {},
   "outputs": [
    {
     "data": {
      "text/html": [
       "<span style=\"font-size:20px;\"><a class=\"ProveItLink\" href=\"../../addition/subtraction/__pv_it/theorems/b66b5547fa9b0b910f79351152926c658c2718190/expr.ipynb\"><img src=\"data:image/png;base64,iVBORw0KGgoAAAANSUhEUgAAADEAAAAQBAMAAABNQoq8AAAAMFBMVEX///8AAAAAAAAAAAAAAAAA\n",
       "AAAAAAAAAAAAAAAAAAAAAAAAAAAAAAAAAAAAAAAAAAAv3aB7AAAAD3RSTlMAiXZmMiLdVJm77xBE\n",
       "zatgdeJyAAAACXBIWXMAAA7EAAAOxAGVKw4bAAAAw0lEQVQY02NgwAQbp91VdcQizsD0yoC7fwY2\n",
       "maaDDAzM2GRYGmYDyRfIQpppaReAFN+GCUByM5LEWW0IzcnaABMSUnYAkqy3odw4FgEoK6yAA6Sd\n",
       "NwDKd+QxgLISGbgUQDIwIyJ4FCAMjt8Q2isNCCaA7YGaxjUBQu+E6eHcABXZD9XLBpPhAfuHh4GB\n",
       "H2jfAVCYKMDD4ByQ6AXaM4GBEeRqhuvwcJvbyl0G8pOgMcSL++ZsgIX1rG+tKAF2cBo4dGAAAHWD\n",
       "KgtwTxl0AAAAAElFTkSuQmCC\n",
       "\" style=\"display:inline;vertical-align:middle;\" /></a>, <a class=\"ProveItLink\" href=\"../__pv_it/demonstrations/1034b099268ebc68ab71d757a423d98a8a315f520/expr.ipynb\"><img src=\"data:image/png;base64,iVBORw0KGgoAAAANSUhEUgAAAC8AAAAUCAMAAAAqRJTwAAAAPFBMVEX///8AAAAAAAAAAAAAAAAA\n",
       "AAAAAAAAAAAAAAAAAAAAAAAAAAAAAAAAAAAAAAAAAAAAAAAAAAAAAAAAAAAo1xBWAAAAE3RSTlMA\n",
       "iXZmMiLdVJm77xBEq83n9enzzp4SPQAAAAlwSFlzAAAOxAAADsQBlSsOGwAAAMxJREFUKM+VkusS\n",
       "hCAIhVFMUcu9+P7vuorjrrXGjPywmA4fBxLgPijCShg/Zkpp2kS9N0OSHEC0UoE5hgQt9/ASfoR5\n",
       "Lnb5fqJ9xEMmbpldm0VrNBd9GvGx67Gcmy1V1K2R5Xg869l7bFk1vS6nre9BC/ifvjxoNsROpzQ2\n",
       "/V75YbakdNl08+/KvDGfnbD/17tN8d2RZyhWKzxz6XXCXy1iYFaCvhk17tPRn8G6wxhMu0mIOor4\n",
       "oiWlDzP/tU4t3eMZXgpcxNs1PBjp4wcaEgV/DsHsSgAAAABJRU5ErkJggg==\n",
       "\" style=\"display:inline;vertical-align:middle;\" /></a>, <a class=\"ProveItLink\" href=\"../__pv_it/theorems/a259ec76dfb0a5be60b7c83d797520fa82c1dba60/expr.ipynb\"><img src=\"data:image/png;base64,iVBORw0KGgoAAAANSUhEUgAAADEAAAAQBAMAAABNQoq8AAAAMFBMVEX///8AAAAAAAAAAAAAAAAA\n",
       "AAAAAAAAAAAAAAAAAAAAAAAAAAAAAAAAAAAAAAAAAAAv3aB7AAAAD3RSTlMAELvv3c2ZVESJq3Yi\n",
       "MmZ3LnoBAAAACXBIWXMAAA7EAAAOxAGVKw4bAAAA2UlEQVQY02NgwASSKqF7bjIwMCo7oElwL37A\n",
       "mK8GZLAmoMlkdzIw8IFk+AtQJXgTFIHkMiDuF4AKbXJxCQBSXAIKQFIOiKdAJVo3QmgmHpjxUbuX\n",
       "gyieQCj/FO8ECIPxq4D8AZBDDkBlbnI8gDDYPzIwbwDJwFxwjGMDhMEWwMAP0n7ZBQgUwPZATWOZ\n",
       "wNAPcrcQTA8T2G0Q7+SD3M0Ck+EA+4cDKHOB0Q4cJhvgYdAFJFKBHnvABHF/ODzcVHMYS4BijCvz\n",
       "IAJSGrDAkFT+koMSYJ0q4NCBAQD6uylQEVfDpgAAAABJRU5ErkJggg==\n",
       "\" style=\"display:inline;vertical-align:middle;\" /></a>, <a class=\"ProveItLink\" href=\"../__pv_it/theorems/1157e8bc07ff5d23e5b8809064b9e77def3bc8980/expr.ipynb\"><img src=\"data:image/png;base64,iVBORw0KGgoAAAANSUhEUgAAAC8AAAAUCAMAAAAqRJTwAAAAPFBMVEX///8AAAAAAAAAAAAAAAAA\n",
       "AAAAAAAAAAAAAAAAAAAAAAAAAAAAAAAAAAAAAAAAAAAAAAAAAAAAAAAAAAAo1xBWAAAAE3RSTlMA\n",
       "ELvv3c2ZVESJq3YiMmbn9enzVleb9QAAAAlwSFlzAAAOxAAADsQBlSsOGwAAANlJREFUKM+VkusS\n",
       "xBAMhcUlGspevP+7LjG6bK0ZfmhSn+OICPF/IMz+glR6igfZZ0QezxoanPIydImxWVnXDclO5V2X\n",
       "RLZAfOKRpj7l2Se82TJJU/tHLy8SWw7sxDjv3c2S6eWh8bHEBvLUllHzeDzL3M44E1XeN1PKL+S/\n",
       "fP6gYYM0uh9LDHX5KPqaOLIL+XZfWygm8aop+3+96y2uGkmufCxUys8IKo7yvy8SFWsV6y6jcrRr\n",
       "7w2iSz+o0iHgCKNYy2cKybsw72NLYmsY2MLjprzekxdhtfgBfooGZl93KjkAAAAASUVORK5CYII=\n",
       "\" style=\"display:inline;vertical-align:middle;\" /></a>, <a class=\"ProveItLink\" href=\"../__pv_it/theorems/e9f87a0977d5044ea8daf1040d2f219396bb3d5b0/expr.ipynb\"><img src=\"data:image/png;base64,iVBORw0KGgoAAAANSUhEUgAAADMAAAAQBAMAAABJt1qBAAAAMFBMVEX///8AAAAAAAAAAAAAAAAA\n",
       "AAAAAAAAAAAAAAAAAAAAAAAAAAAAAAAAAAAAAAAAAAAv3aB7AAAAD3RSTlMAIquJdkTvuxBmmd1U\n",
       "zTKBpmoTAAAACXBIWXMAAA7EAAAOxAGVKw4bAAAA0ElEQVQY02NgwAKaq+86PsYmwcCiNoFjfRVW\n",
       "qSXBDAycWKX4FlQASS0UMffduy8AKaaGAiDZiSwT6wGh2RkXQEUYlR0dwPQNqIAQnwGUFSbA/gNE\n",
       "8wpABR6zToAwODIZuDaApWAGS7E6QBhcHxi4wQY82w0EBWC7oAayFTD0B4AY7TBd7GAXAkG/A8N8\n",
       "MIMbJsUK9hcrUOoAgy4PyAUsDvDQCAISa4HaHXh2cYFF7sDDsHYhx2mg3zhU7IT8wCJNpQ2wkC/7\n",
       "vRA18IKrwQEFAwCqvi28/xxvKQAAAABJRU5ErkJggg==\n",
       "\" style=\"display:inline;vertical-align:middle;\" /></a> <a class=\"ProveItLink\" href=\"../__pv_it/demonstrations/3fbc2cae958e274fde7aabb210b418ea355ecfd80/proof.ipynb\" style=\"text-decoration: none\">&nbsp;&#x22A2;&nbsp;&nbsp;</a><a class=\"ProveItLink\" href=\"../__pv_it/demonstrations/6b123a9ae214269f4b15a599cb9f86ea40df7a830/expr.ipynb\"><img src=\"data:image/png;base64,iVBORw0KGgoAAAANSUhEUgAAAG0AAAAyBAMAAACkDkhHAAAAMFBMVEX///8AAAAAAAAAAAAAAAAA\n",
       "AAAAAAAAAAAAAAAAAAAAAAAAAAAAAAAAAAAAAAAAAAAv3aB7AAAAD3RSTlMAIquJdkTvuxBmmd1U\n",
       "zTKBpmoTAAAACXBIWXMAAA7EAAAOxAGVKw4bAAACaUlEQVRIx5VWz2sTURCeJib7svmxpfgHBBoK\n",
       "gmIOnhTsVgVvtidvkkQFES8exIMeDDnYU9mcvEn2JBQpBnvR6iFevPTQ0FMRD/EvaIIVIjTq+9HS\n",
       "pfvN2ziQLMx73+68b76ZN0S8OQPkXW1Sgp2D3tKHBFiqiiHbCbjXpx2tjbF6pMtW2Ewj5jqjcfTR\n",
       "isv7HO6rlZlXxOGKoY5nfslHuHssLjNS/7dnnTGxe6BvV/7EQ3K76HhlHrcjD+gOKV8FuP0Bjwvk\n",
       "wbKPKVgBuAVL7E5XYzuIlrsWXE4SE/ToQmE2rsLfFpyQi45f2HLBlhHApUcnwYjK1blboIbqQOgL\n",
       "k6MSec6qRdJlsUV2JQhtuM4Kt7Lv23D86k7PhuOj6QxsOI8t3WWT0rlLZyEuypr7SZt51aKuzUyD\n",
       "XqAizfa5773T21+26S3sBV36q2wYW7lo0ESbSlcTHZzeanB17nsG94DEL/XcOv29Onc+Hac4oNyQ\n",
       "iZNTkuJTHFKq/+W/eFnW+XtC2yFKcbZsz3vr+o8KEoAnX7b6COoMKFc8PT5WoDrSN6jcNnAWw6iu\n",
       "D4mJJO7sRVSfGUOmEWO1ZkS9aZiLFFLElagqipVroNZyKIrdG+fpSEeSmz0BelcJnFpMmoEur5kD\n",
       "0+zvT9d3C2PK+sd9lzaIfgLcm7jL7ZOnr5KUomSTMigTtXji5f1T01R4Jn0u4iAfovSZcu6o/z+q\n",
       "qqci1BvIy1LZezPdPKPp7ulU2wlP7unW5TauiFhDEvPr5u6wDjDFKrdSs84hpQa38tk+Z91k/Alz\n",
       "FpjrjN1JmiO/4/j3knB4bl3TrPwDIXSrnLZsnYEAAAAASUVORK5CYII=\n",
       "\" style=\"display:inline;vertical-align:middle;\" /></a></span>"
      ],
      "text/plain": [
       "{c in Complex, c != 0, b in Complex, b != 0, a in Complex} |- (a / b) = (a * (1 / b))"
      ]
     },
     "metadata": {},
     "output_type": "display_data"
    }
   ],
   "source": [
    "temp_result.inner_expr().rhs.factor(a)"
   ]
  },
  {
   "cell_type": "markdown",
   "metadata": {},
   "source": [
    "unless we explicitly suspend the cancelation simplification proccess:"
   ]
  },
  {
   "cell_type": "code",
   "execution_count": 93,
   "metadata": {},
   "outputs": [
    {
     "data": {
      "text/html": [
       "<span style=\"font-size:20px;\"><a class=\"ProveItLink\" href=\"../../addition/subtraction/__pv_it/theorems/b66b5547fa9b0b910f79351152926c658c2718190/expr.ipynb\"><img src=\"data:image/png;base64,iVBORw0KGgoAAAANSUhEUgAAADEAAAAQBAMAAABNQoq8AAAAMFBMVEX///8AAAAAAAAAAAAAAAAA\n",
       "AAAAAAAAAAAAAAAAAAAAAAAAAAAAAAAAAAAAAAAAAAAv3aB7AAAAD3RSTlMAiXZmMiLdVJm77xBE\n",
       "zatgdeJyAAAACXBIWXMAAA7EAAAOxAGVKw4bAAAAw0lEQVQY02NgwAQbp91VdcQizsD0yoC7fwY2\n",
       "maaDDAzM2GRYGmYDyRfIQpppaReAFN+GCUByM5LEWW0IzcnaABMSUnYAkqy3odw4FgEoK6yAA6Sd\n",
       "NwDKd+QxgLISGbgUQDIwIyJ4FCAMjt8Q2isNCCaA7YGaxjUBQu+E6eHcABXZD9XLBpPhAfuHh4GB\n",
       "H2jfAVCYKMDD4ByQ6AXaM4GBEeRqhuvwcJvbyl0G8pOgMcSL++ZsgIX1rG+tKAF2cBo4dGAAAHWD\n",
       "KgtwTxl0AAAAAElFTkSuQmCC\n",
       "\" style=\"display:inline;vertical-align:middle;\" /></a>, <a class=\"ProveItLink\" href=\"../__pv_it/demonstrations/1034b099268ebc68ab71d757a423d98a8a315f520/expr.ipynb\"><img src=\"data:image/png;base64,iVBORw0KGgoAAAANSUhEUgAAAC8AAAAUCAMAAAAqRJTwAAAAPFBMVEX///8AAAAAAAAAAAAAAAAA\n",
       "AAAAAAAAAAAAAAAAAAAAAAAAAAAAAAAAAAAAAAAAAAAAAAAAAAAAAAAAAAAo1xBWAAAAE3RSTlMA\n",
       "iXZmMiLdVJm77xBEq83n9enzzp4SPQAAAAlwSFlzAAAOxAAADsQBlSsOGwAAAMxJREFUKM+VkusS\n",
       "hCAIhVFMUcu9+P7vuorjrrXGjPywmA4fBxLgPijCShg/Zkpp2kS9N0OSHEC0UoE5hgQt9/ASfoR5\n",
       "Lnb5fqJ9xEMmbpldm0VrNBd9GvGx67Gcmy1V1K2R5Xg869l7bFk1vS6nre9BC/ifvjxoNsROpzQ2\n",
       "/V75YbakdNl08+/KvDGfnbD/17tN8d2RZyhWKzxz6XXCXy1iYFaCvhk17tPRn8G6wxhMu0mIOor4\n",
       "oiWlDzP/tU4t3eMZXgpcxNs1PBjp4wcaEgV/DsHsSgAAAABJRU5ErkJggg==\n",
       "\" style=\"display:inline;vertical-align:middle;\" /></a>, <a class=\"ProveItLink\" href=\"../__pv_it/theorems/a259ec76dfb0a5be60b7c83d797520fa82c1dba60/expr.ipynb\"><img src=\"data:image/png;base64,iVBORw0KGgoAAAANSUhEUgAAADEAAAAQBAMAAABNQoq8AAAAMFBMVEX///8AAAAAAAAAAAAAAAAA\n",
       "AAAAAAAAAAAAAAAAAAAAAAAAAAAAAAAAAAAAAAAAAAAv3aB7AAAAD3RSTlMAELvv3c2ZVESJq3Yi\n",
       "MmZ3LnoBAAAACXBIWXMAAA7EAAAOxAGVKw4bAAAA2UlEQVQY02NgwASSKqF7bjIwMCo7oElwL37A\n",
       "mK8GZLAmoMlkdzIw8IFk+AtQJXgTFIHkMiDuF4AKbXJxCQBSXAIKQFIOiKdAJVo3QmgmHpjxUbuX\n",
       "gyieQCj/FO8ECIPxq4D8AZBDDkBlbnI8gDDYPzIwbwDJwFxwjGMDhMEWwMAP0n7ZBQgUwPZATWOZ\n",
       "wNAPcrcQTA8T2G0Q7+SD3M0Ck+EA+4cDKHOB0Q4cJhvgYdAFJFKBHnvABHF/ODzcVHMYS4BijCvz\n",
       "IAJSGrDAkFT+koMSYJ0q4NCBAQD6uylQEVfDpgAAAABJRU5ErkJggg==\n",
       "\" style=\"display:inline;vertical-align:middle;\" /></a>, <a class=\"ProveItLink\" href=\"../__pv_it/theorems/1157e8bc07ff5d23e5b8809064b9e77def3bc8980/expr.ipynb\"><img src=\"data:image/png;base64,iVBORw0KGgoAAAANSUhEUgAAAC8AAAAUCAMAAAAqRJTwAAAAPFBMVEX///8AAAAAAAAAAAAAAAAA\n",
       "AAAAAAAAAAAAAAAAAAAAAAAAAAAAAAAAAAAAAAAAAAAAAAAAAAAAAAAAAAAo1xBWAAAAE3RSTlMA\n",
       "ELvv3c2ZVESJq3YiMmbn9enzVleb9QAAAAlwSFlzAAAOxAAADsQBlSsOGwAAANlJREFUKM+VkusS\n",
       "xBAMhcUlGspevP+7LjG6bK0ZfmhSn+OICPF/IMz+glR6igfZZ0QezxoanPIydImxWVnXDclO5V2X\n",
       "RLZAfOKRpj7l2Se82TJJU/tHLy8SWw7sxDjv3c2S6eWh8bHEBvLUllHzeDzL3M44E1XeN1PKL+S/\n",
       "fP6gYYM0uh9LDHX5KPqaOLIL+XZfWygm8aop+3+96y2uGkmufCxUys8IKo7yvy8SFWsV6y6jcrRr\n",
       "7w2iSz+o0iHgCKNYy2cKybsw72NLYmsY2MLjprzekxdhtfgBfooGZl93KjkAAAAASUVORK5CYII=\n",
       "\" style=\"display:inline;vertical-align:middle;\" /></a>, <a class=\"ProveItLink\" href=\"../__pv_it/theorems/e9f87a0977d5044ea8daf1040d2f219396bb3d5b0/expr.ipynb\"><img src=\"data:image/png;base64,iVBORw0KGgoAAAANSUhEUgAAADMAAAAQBAMAAABJt1qBAAAAMFBMVEX///8AAAAAAAAAAAAAAAAA\n",
       "AAAAAAAAAAAAAAAAAAAAAAAAAAAAAAAAAAAAAAAAAAAv3aB7AAAAD3RSTlMAIquJdkTvuxBmmd1U\n",
       "zTKBpmoTAAAACXBIWXMAAA7EAAAOxAGVKw4bAAAA0ElEQVQY02NgwAKaq+86PsYmwcCiNoFjfRVW\n",
       "qSXBDAycWKX4FlQASS0UMffduy8AKaaGAiDZiSwT6wGh2RkXQEUYlR0dwPQNqIAQnwGUFSbA/gNE\n",
       "8wpABR6zToAwODIZuDaApWAGS7E6QBhcHxi4wQY82w0EBWC7oAayFTD0B4AY7TBd7GAXAkG/A8N8\n",
       "MIMbJsUK9hcrUOoAgy4PyAUsDvDQCAISa4HaHXh2cYFF7sDDsHYhx2mg3zhU7IT8wCJNpQ2wkC/7\n",
       "vRA18IKrwQEFAwCqvi28/xxvKQAAAABJRU5ErkJggg==\n",
       "\" style=\"display:inline;vertical-align:middle;\" /></a> <a class=\"ProveItLink\" href=\"../__pv_it/demonstrations/0fe61ea86b1275ce0b01ec45f1a796aa387a19a10/proof.ipynb\" style=\"text-decoration: none\">&nbsp;&#x22A2;&nbsp;&nbsp;</a><a class=\"ProveItLink\" href=\"../__pv_it/demonstrations/e00375a4f7c7aa1a4b5daa6acf457209faec9ff00/expr.ipynb\"><img src=\"data:image/png;base64,iVBORw0KGgoAAAANSUhEUgAAAH4AAAAmBAMAAADw0DIhAAAAMFBMVEX///8AAAAAAAAAAAAAAAAA\n",
       "AAAAAAAAAAAAAAAAAAAAAAAAAAAAAAAAAAAAAAAAAAAv3aB7AAAAD3RSTlMAIquJdkTvuxBmmd1U\n",
       "zTKBpmoTAAAACXBIWXMAAA7EAAAOxAGVKw4bAAACMElEQVRIx41Vvy8EURCec+ztrTsnWhESEpGQ\n",
       "SKgIOaKgICrtkWiEyCYSCVFsFBSK2+oShRCdiPjV0ex/4EIjqqs0CgQJ4tebd9w+dubZSXb37b75\n",
       "3r5533wzAJxZHujNvJSPSGNfmpreZmCdQ4Xv0Y2D97Hq2DPhFs/T8FrPsn9cGnAXU2AdEH7XDo0/\n",
       "BqO03SUM8w4q2wm/C+ZU1L2uiH8YNmRHg36JZxpv2OpiIoBsGjYJP3JPIN19i9yLDx60JaoDfrdM\n",
       "+CkXwN/uHEAsnTixgn7NXFbYEC2U3nLi/Jt6a0aCfi9c1nSsD/ov9VyOVd1DGKvcYibid6HwFpNk\n",
       "UJYPhS/nfmM0hMInPpiJVHsofNUb8DTz0vQlrNK0e4p2pBDDSFOxR+b7raeRpmIP8IkWOMbMqCLN\n",
       "rCTj849JzKvu/z/SZLPkN16NX+IZaYaJvx7Pn5FmGJlImTPSVAsAx7+BITPSVPPnCWB1mphI2vq8\n",
       "mT/wq9wVJaxx/bkli5REcRkqhvg/eZcqFo6YkFkF5Wq+6fEZpySTKJmii3p89/cygt1kUz9RxXLa\n",
       "zgfnA6346EGqL02i2BE9Rel85ruTxcSaEdeZA5NBfDSv63yCNxyXI0t7qMKgzTKdz3wv1k2sUIYn\n",
       "l62gDnuD63wnxe6WEdhhkPRbFINJV9P5BP37DkQmcPwBKy6VAYeazpcqiNoEa5K3FobrOofvfGVu\n",
       "TCTwghwvd7m0Ngt85zMbd8QNd/MF3nmqMtB2WSkAAAAASUVORK5CYII=\n",
       "\" style=\"display:inline;vertical-align:middle;\" /></a></span>"
      ],
      "text/plain": [
       "{c in Complex, c != 0, b in Complex, b != 0, a in Complex} |- (a / b) = (a * (c / (c * b)))"
      ]
     },
     "metadata": {},
     "output_type": "display_data"
    }
   ],
   "source": [
    "with Div.temporary_simplification_directives() as tmp_directives:\n",
    "    tmp_directives.cancel_factors = False\n",
    "    temp_result.inner_expr().rhs.factor(a)"
   ]
  },
  {
   "cell_type": "markdown",
   "metadata": {},
   "source": [
    "The `top_and_bottom_multiplication` works without automatically distributing across more complicated numerators or denominators:"
   ]
  },
  {
   "cell_type": "code",
   "execution_count": 94,
   "metadata": {},
   "outputs": [
    {
     "data": {
      "text/html": [
       "<span style=\"font-size:20px;\"><a class=\"ProveItLink\" href=\"../../addition/subtraction/__pv_it/theorems/b66b5547fa9b0b910f79351152926c658c2718190/expr.ipynb\"><img src=\"data:image/png;base64,iVBORw0KGgoAAAANSUhEUgAAADEAAAAQBAMAAABNQoq8AAAAMFBMVEX///8AAAAAAAAAAAAAAAAA\n",
       "AAAAAAAAAAAAAAAAAAAAAAAAAAAAAAAAAAAAAAAAAAAv3aB7AAAAD3RSTlMAiXZmMiLdVJm77xBE\n",
       "zatgdeJyAAAACXBIWXMAAA7EAAAOxAGVKw4bAAAAw0lEQVQY02NgwAQbp91VdcQizsD0yoC7fwY2\n",
       "maaDDAzM2GRYGmYDyRfIQpppaReAFN+GCUByM5LEWW0IzcnaABMSUnYAkqy3odw4FgEoK6yAA6Sd\n",
       "NwDKd+QxgLISGbgUQDIwIyJ4FCAMjt8Q2isNCCaA7YGaxjUBQu+E6eHcABXZD9XLBpPhAfuHh4GB\n",
       "H2jfAVCYKMDD4ByQ6AXaM4GBEeRqhuvwcJvbyl0G8pOgMcSL++ZsgIX1rG+tKAF2cBo4dGAAAHWD\n",
       "KgtwTxl0AAAAAElFTkSuQmCC\n",
       "\" style=\"display:inline;vertical-align:middle;\" /></a>, <a class=\"ProveItLink\" href=\"../__pv_it/demonstrations/1034b099268ebc68ab71d757a423d98a8a315f520/expr.ipynb\"><img src=\"data:image/png;base64,iVBORw0KGgoAAAANSUhEUgAAAC8AAAAUCAMAAAAqRJTwAAAAPFBMVEX///8AAAAAAAAAAAAAAAAA\n",
       "AAAAAAAAAAAAAAAAAAAAAAAAAAAAAAAAAAAAAAAAAAAAAAAAAAAAAAAAAAAo1xBWAAAAE3RSTlMA\n",
       "iXZmMiLdVJm77xBEq83n9enzzp4SPQAAAAlwSFlzAAAOxAAADsQBlSsOGwAAAMxJREFUKM+VkusS\n",
       "hCAIhVFMUcu9+P7vuorjrrXGjPywmA4fBxLgPijCShg/Zkpp2kS9N0OSHEC0UoE5hgQt9/ASfoR5\n",
       "Lnb5fqJ9xEMmbpldm0VrNBd9GvGx67Gcmy1V1K2R5Xg869l7bFk1vS6nre9BC/ifvjxoNsROpzQ2\n",
       "/V75YbakdNl08+/KvDGfnbD/17tN8d2RZyhWKzxz6XXCXy1iYFaCvhk17tPRn8G6wxhMu0mIOor4\n",
       "oiWlDzP/tU4t3eMZXgpcxNs1PBjp4wcaEgV/DsHsSgAAAABJRU5ErkJggg==\n",
       "\" style=\"display:inline;vertical-align:middle;\" /></a>, <a class=\"ProveItLink\" href=\"../__pv_it/demonstrations/450b09a2e7241bce4e09a992867b5d1d9c7d2b710/expr.ipynb\"><img src=\"data:image/png;base64,iVBORw0KGgoAAAANSUhEUgAAAHgAAAAZCAMAAADNEhofAAAAOVBMVEX///8AAAAAAAAAAAAAAAAA\n",
       "AAAAAAAAAAAAAAAAAAAAAAAAAAAAAAAAAAAAAAAAAAAAAAAAAAAAAAACXHtMAAAAEnRSTlMAInZU\n",
       "iRDNmWbv3US7qzLt5clL9C8GAAAACXBIWXMAAA7EAAAOxAGVKw4bAAACBUlEQVRIx8VWCZLjIAzk\n",
       "Fodgdvn/YxcQjsGOcTIzlVVVSGyEWrSuMPZJ0ez/iAptVUJ9FpfHulrBWMCPAkdeV5fKkjm58q7r\n",
       "38INjWCea6CdrL+FfNeEeCGPFHpjBE8FDrDKV/lYlhqwt2WR1RONzr+CmYyD4qq90xPRFR0NGWF7\n",
       "Q2cI2BXXtaENA69dN1d+zE1hgCBimd2Adc8noroaATsYnAh9eq3QDtq1lwkYdtciENV//mKjek8u\n",
       "NxocRT6NpKKIuFlboC9iHvmr2VYwujMcH6q1nMqTNJPBW+AeETPSEYyY/UDGD5TgrlAaCJQn6F3E\n",
       "RCGiXALzqETqEVFxeH+MeOkUSd1doruuczmtM18oB1d2sUfEmsHEsa4L6iFBzJk6TzeQjyy/Ata1\n",
       "Phh0E9ItrBae51KX4Qzs6B0ZzEQQ1EzxzrWvjVPIzc9OYcr7/UivCA4xvp0DHbgZDFNJHW7ssEUk\n",
       "bLzvVJw7Pu5ZfSmd6gYJU0nNwDrXR7tdVA5FcG55Ya9jFi6AkczntEXxEri6Fg2TnDrSUMTiWefq\n",
       "IQJzNZxJIRZMhFUJVA+lB0ZKMMbQnKeMQAOc6XrgqrsRUToqsMsGoqNQiUeRiN4wbWHQ5+nksofF\n",
       "BPXpYkMuhh/3x1mLY8t8SS77fVjMPrDs54Lv/6Hgv/KfSeMnfH3qv3jzgPgF3H/WLQ51IX2jzAAA\n",
       "AABJRU5ErkJggg==\n",
       "\" style=\"display:inline;vertical-align:middle;\" /></a>, <a class=\"ProveItLink\" href=\"../__pv_it/theorems/e9f87a0977d5044ea8daf1040d2f219396bb3d5b0/expr.ipynb\"><img src=\"data:image/png;base64,iVBORw0KGgoAAAANSUhEUgAAADMAAAAQBAMAAABJt1qBAAAAMFBMVEX///8AAAAAAAAAAAAAAAAA\n",
       "AAAAAAAAAAAAAAAAAAAAAAAAAAAAAAAAAAAAAAAAAAAv3aB7AAAAD3RSTlMAIquJdkTvuxBmmd1U\n",
       "zTKBpmoTAAAACXBIWXMAAA7EAAAOxAGVKw4bAAAA0ElEQVQY02NgwAKaq+86PsYmwcCiNoFjfRVW\n",
       "qSXBDAycWKX4FlQASS0UMffduy8AKaaGAiDZiSwT6wGh2RkXQEUYlR0dwPQNqIAQnwGUFSbA/gNE\n",
       "8wpABR6zToAwODIZuDaApWAGS7E6QBhcHxi4wQY82w0EBWC7oAayFTD0B4AY7TBd7GAXAkG/A8N8\n",
       "MIMbJsUK9hcrUOoAgy4PyAUsDvDQCAISa4HaHXh2cYFF7sDDsHYhx2mg3zhU7IT8wCJNpQ2wkC/7\n",
       "vRA18IKrwQEFAwCqvi28/xxvKQAAAABJRU5ErkJggg==\n",
       "\" style=\"display:inline;vertical-align:middle;\" /></a>, <a class=\"ProveItLink\" href=\"../__pv_it/theorems/a259ec76dfb0a5be60b7c83d797520fa82c1dba60/expr.ipynb\"><img src=\"data:image/png;base64,iVBORw0KGgoAAAANSUhEUgAAADEAAAAQBAMAAABNQoq8AAAAMFBMVEX///8AAAAAAAAAAAAAAAAA\n",
       "AAAAAAAAAAAAAAAAAAAAAAAAAAAAAAAAAAAAAAAAAAAv3aB7AAAAD3RSTlMAELvv3c2ZVESJq3Yi\n",
       "MmZ3LnoBAAAACXBIWXMAAA7EAAAOxAGVKw4bAAAA2UlEQVQY02NgwASSKqF7bjIwMCo7oElwL37A\n",
       "mK8GZLAmoMlkdzIw8IFk+AtQJXgTFIHkMiDuF4AKbXJxCQBSXAIKQFIOiKdAJVo3QmgmHpjxUbuX\n",
       "gyieQCj/FO8ECIPxq4D8AZBDDkBlbnI8gDDYPzIwbwDJwFxwjGMDhMEWwMAP0n7ZBQgUwPZATWOZ\n",
       "wNAPcrcQTA8T2G0Q7+SD3M0Ck+EA+4cDKHOB0Q4cJhvgYdAFJFKBHnvABHF/ODzcVHMYS4BijCvz\n",
       "IAJSGrDAkFT+koMSYJ0q4NCBAQD6uylQEVfDpgAAAABJRU5ErkJggg==\n",
       "\" style=\"display:inline;vertical-align:middle;\" /></a> <a class=\"ProveItLink\" href=\"../__pv_it/demonstrations/735f6d18ee9570db3d4376bb84a123db2d3079d00/proof.ipynb\" style=\"text-decoration: none\">&nbsp;&#x22A2;&nbsp;&nbsp;</a><a class=\"ProveItLink\" href=\"../__pv_it/demonstrations/148987eba65733647359b7cdb7e402b4249a28620/expr.ipynb\"><img src=\"data:image/png;base64,iVBORw0KGgoAAAANSUhEUgAAAKQAAAAyBAMAAAAgpG0sAAAAMFBMVEX///8AAAAAAAAAAAAAAAAA\n",
       "AAAAAAAAAAAAAAAAAAAAAAAAAAAAAAAAAAAAAAAAAAAv3aB7AAAAD3RSTlMAIquJdkTvuxBmmd1U\n",
       "zTKBpmoTAAAACXBIWXMAAA7EAAAOxAGVKw4bAAACVElEQVRYw+WWMUzCQBSGD0EopQpxZTHBUROj\n",
       "biSmJg66EAbjqosDccHEOLM5llUXSZycNDFxEAYSZxPjYNCJ3YWRQaN30HJ99v4edjBR3wBHX7+7\n",
       "4971+jEWKXLfvK6PRBskttSXjaMrXZd3CEvU1cBUQ9Oj8QCxDr026Q6RbWu6NOsQO6V3Wvbwe6em\n",
       "6TKJsWRNmSvqlvIeY1NiyrHCmk1zj+vzin5WNrte8xxj8Vne2s6l+iRnvNec4P7Kt82q137GWJpX\n",
       "zqgw84rkrD5L2oEur30XWxizdnn1eiyzKKrYbN7sN5t83uYDyy4Gitx3pyI+9zA23eMlqjKnTIbj\n",
       "t+4EtlHS/de3bpcIm+SzdGx2RkvH99dlYBs5/qVoYcziq+G02YKVI7kuX6ivkeWbo+z9OMRYmv+b\n",
       "lG3dmmS4iXoq+ETycsdHm2gJYyZfYGNudaZEd0PhQrEtl082Ru1XjGXKysdAG5kuxPLqY0Mb6QbE\n",
       "LqIewQcoEatG7fIYJVKR3xQxtOpr7MeDP78iZtmfjA91jHnbOOj/WcvfoVkqqZp+aug0C2BDzVJJ\n",
       "lcaKhGYBrENw37mnsSKhWQA7JbjvdC7qNQtgA80qKg78F71mAWygWSOp8nKxQulNr1kAE5olpcrL\n",
       "SYEK0SyECc2SUuW9PCtCb3SahbCBZg2lyqdLrkBpNAtgQrOkVLnD+QQqRLMQJjRLSpWb8wlUiGYh\n",
       "TGiWlCovJwUqRLMQJjRLSpWb8wlUiGYhbKBZI6nySicFKkyzAEY1a2zLoppFsXw0y6KaRbH/rFmf\n",
       "1mwlKtyO3U8AAAAASUVORK5CYII=\n",
       "\" style=\"display:inline;vertical-align:middle;\" /></a></span>"
      ],
      "text/plain": [
       "{c in Complex, c != 0, (b + d) in ComplexNonZero, a in Complex, b in Complex} |- ((a + b) / (b + d)) = ((c * (a + b)) / (c * (b + d)))"
      ]
     },
     "metadata": {},
     "output_type": "display_data"
    }
   ],
   "source": [
    "example_frac_03.top_and_bottom_multiplication(c, assumptions=assumptions+[InSet(Add(b, d), ComplexNonZero)])"
   ]
  },
  {
   "cell_type": "markdown",
   "metadata": {},
   "source": [
    "but will combine terms into `Exp` expressions when like terms are found, such as taking $bb$ to $b^{2}$ in the following example:"
   ]
  },
  {
   "cell_type": "code",
   "execution_count": 95,
   "metadata": {},
   "outputs": [
    {
     "data": {
      "text/html": [
       "<strong id=\"temp_result\">temp_result:</strong> <span style=\"font-size:20px;\"><a class=\"ProveItLink\" href=\"../__pv_it/theorems/a259ec76dfb0a5be60b7c83d797520fa82c1dba60/expr.ipynb\"><img src=\"data:image/png;base64,iVBORw0KGgoAAAANSUhEUgAAADEAAAAQBAMAAABNQoq8AAAAMFBMVEX///8AAAAAAAAAAAAAAAAA\n",
       "AAAAAAAAAAAAAAAAAAAAAAAAAAAAAAAAAAAAAAAAAAAv3aB7AAAAD3RSTlMAELvv3c2ZVESJq3Yi\n",
       "MmZ3LnoBAAAACXBIWXMAAA7EAAAOxAGVKw4bAAAA2UlEQVQY02NgwASSKqF7bjIwMCo7oElwL37A\n",
       "mK8GZLAmoMlkdzIw8IFk+AtQJXgTFIHkMiDuF4AKbXJxCQBSXAIKQFIOiKdAJVo3QmgmHpjxUbuX\n",
       "gyieQCj/FO8ECIPxq4D8AZBDDkBlbnI8gDDYPzIwbwDJwFxwjGMDhMEWwMAP0n7ZBQgUwPZATWOZ\n",
       "wNAPcrcQTA8T2G0Q7+SD3M0Ck+EA+4cDKHOB0Q4cJhvgYdAFJFKBHnvABHF/ODzcVHMYS4BijCvz\n",
       "IAJSGrDAkFT+koMSYJ0q4NCBAQD6uylQEVfDpgAAAABJRU5ErkJggg==\n",
       "\" style=\"display:inline;vertical-align:middle;\" /></a>, <a class=\"ProveItLink\" href=\"../__pv_it/theorems/1157e8bc07ff5d23e5b8809064b9e77def3bc8980/expr.ipynb\"><img src=\"data:image/png;base64,iVBORw0KGgoAAAANSUhEUgAAAC8AAAAUCAMAAAAqRJTwAAAAPFBMVEX///8AAAAAAAAAAAAAAAAA\n",
       "AAAAAAAAAAAAAAAAAAAAAAAAAAAAAAAAAAAAAAAAAAAAAAAAAAAAAAAAAAAo1xBWAAAAE3RSTlMA\n",
       "ELvv3c2ZVESJq3YiMmbn9enzVleb9QAAAAlwSFlzAAAOxAAADsQBlSsOGwAAANlJREFUKM+VkusS\n",
       "xBAMhcUlGspevP+7LjG6bK0ZfmhSn+OICPF/IMz+glR6igfZZ0QezxoanPIydImxWVnXDclO5V2X\n",
       "RLZAfOKRpj7l2Se82TJJU/tHLy8SWw7sxDjv3c2S6eWh8bHEBvLUllHzeDzL3M44E1XeN1PKL+S/\n",
       "fP6gYYM0uh9LDHX5KPqaOLIL+XZfWygm8aop+3+96y2uGkmufCxUys8IKo7yvy8SFWsV6y6jcrRr\n",
       "7w2iSz+o0iHgCKNYy2cKybsw72NLYmsY2MLjprzekxdhtfgBfooGZl93KjkAAAAASUVORK5CYII=\n",
       "\" style=\"display:inline;vertical-align:middle;\" /></a>, <a class=\"ProveItLink\" href=\"../__pv_it/theorems/e9f87a0977d5044ea8daf1040d2f219396bb3d5b0/expr.ipynb\"><img src=\"data:image/png;base64,iVBORw0KGgoAAAANSUhEUgAAADMAAAAQBAMAAABJt1qBAAAAMFBMVEX///8AAAAAAAAAAAAAAAAA\n",
       "AAAAAAAAAAAAAAAAAAAAAAAAAAAAAAAAAAAAAAAAAAAv3aB7AAAAD3RSTlMAIquJdkTvuxBmmd1U\n",
       "zTKBpmoTAAAACXBIWXMAAA7EAAAOxAGVKw4bAAAA0ElEQVQY02NgwAKaq+86PsYmwcCiNoFjfRVW\n",
       "qSXBDAycWKX4FlQASS0UMffduy8AKaaGAiDZiSwT6wGh2RkXQEUYlR0dwPQNqIAQnwGUFSbA/gNE\n",
       "8wpABR6zToAwODIZuDaApWAGS7E6QBhcHxi4wQY82w0EBWC7oAayFTD0B4AY7TBd7GAXAkG/A8N8\n",
       "MIMbJsUK9hcrUOoAgy4PyAUsDvDQCAISa4HaHXh2cYFF7sDDsHYhx2mg3zhU7IT8wCJNpQ2wkC/7\n",
       "vRA18IKrwQEFAwCqvi28/xxvKQAAAABJRU5ErkJggg==\n",
       "\" style=\"display:inline;vertical-align:middle;\" /></a> <a class=\"ProveItLink\" href=\"../__pv_it/demonstrations/f9b0e29f6d8b6b9b37891fc1c02113b737fe442b0/proof.ipynb\" style=\"text-decoration: none\">&nbsp;&#x22A2;&nbsp;&nbsp;</a><a class=\"ProveItLink\" href=\"../__pv_it/demonstrations/9a7131d486f63a4ba17ccffbeb3ec4b3f52166780/expr.ipynb\"><img src=\"data:image/png;base64,iVBORw0KGgoAAAANSUhEUgAAAE8AAAArBAMAAADLf8j5AAAAMFBMVEX///8AAAAAAAAAAAAAAAAA\n",
       "AAAAAAAAAAAAAAAAAAAAAAAAAAAAAAAAAAAAAAAAAAAv3aB7AAAAD3RSTlMAIquJdkTvuxBmmd1U\n",
       "zTKBpmoTAAAACXBIWXMAAA7EAAAOxAGVKw4bAAABWklEQVQ4y2NgwAo4yjYwEAd4FxCpkP8AkQrj\n",
       "G4hUaI0pxKjs6IApeslFB11FmAD7D0xf/23oF4BxICo4Mhm4MIOC5wcDG8weqAquDwzcBhgKuS4w\n",
       "8BuADGaAq2ArYOgPwFAIlIkHBdAuBriKfgeG+ViDcT0sgKAq+g8w6PIIYCh8AHQZTCFEBbsDzy4u\n",
       "DBOZJrDD4xCqgkPFTsgPM3iUVyLYWFWMOMC1GwwU6GbhfxD4gFUUGXwYSDcSAM1GGsQpXMCwGsZs\n",
       "z2bAU1B9ZZB/ABO4ha+gmoGk8A/+ggpeuLD+wFtQ8e2AcZk34C2oxOHFGq+KE46yEFRQMS5ghOXl\n",
       "/hscH7H7GlRQib97BTPyfANDClaF4IIq//9/GH8tA8Nn7AkZUlDBwWYGVuwBBCuoEMHI9QNXMK5H\n",
       "Lsn/MbRNwK4QqaACAU2GKuyhg1xQgUCT1QQciQKpoGJgAADNTXh+DKEpiQAAAABJRU5ErkJggg==\n",
       "\" style=\"display:inline;vertical-align:middle;\" /></a></span><br>"
      ],
      "text/plain": [
       "<IPython.core.display.HTML object>"
      ]
     },
     "metadata": {},
     "output_type": "display_data"
    }
   ],
   "source": [
    "temp_result = example_frac_01.top_and_bottom_multiplication(b, assumptions=assumptions)"
   ]
  },
  {
   "cell_type": "markdown",
   "metadata": {},
   "source": [
    "Notice in this case that if we now pull out the factor of `a` on the rhs, Prove-It does not automatically cancel the introduced common factor of `b` in the top and bottom, but this is because it doesn't yet recognize the factor of `b` in the `Exp` expression in the denominator:"
   ]
  },
  {
   "cell_type": "code",
   "execution_count": 96,
   "metadata": {},
   "outputs": [
    {
     "data": {
      "text/html": [
       "<span style=\"font-size:20px;\"><a class=\"ProveItLink\" href=\"../__pv_it/theorems/a259ec76dfb0a5be60b7c83d797520fa82c1dba60/expr.ipynb\"><img src=\"data:image/png;base64,iVBORw0KGgoAAAANSUhEUgAAADEAAAAQBAMAAABNQoq8AAAAMFBMVEX///8AAAAAAAAAAAAAAAAA\n",
       "AAAAAAAAAAAAAAAAAAAAAAAAAAAAAAAAAAAAAAAAAAAv3aB7AAAAD3RSTlMAELvv3c2ZVESJq3Yi\n",
       "MmZ3LnoBAAAACXBIWXMAAA7EAAAOxAGVKw4bAAAA2UlEQVQY02NgwASSKqF7bjIwMCo7oElwL37A\n",
       "mK8GZLAmoMlkdzIw8IFk+AtQJXgTFIHkMiDuF4AKbXJxCQBSXAIKQFIOiKdAJVo3QmgmHpjxUbuX\n",
       "gyieQCj/FO8ECIPxq4D8AZBDDkBlbnI8gDDYPzIwbwDJwFxwjGMDhMEWwMAP0n7ZBQgUwPZATWOZ\n",
       "wNAPcrcQTA8T2G0Q7+SD3M0Ck+EA+4cDKHOB0Q4cJhvgYdAFJFKBHnvABHF/ODzcVHMYS4BijCvz\n",
       "IAJSGrDAkFT+koMSYJ0q4NCBAQD6uylQEVfDpgAAAABJRU5ErkJggg==\n",
       "\" style=\"display:inline;vertical-align:middle;\" /></a>, <a class=\"ProveItLink\" href=\"../__pv_it/theorems/1157e8bc07ff5d23e5b8809064b9e77def3bc8980/expr.ipynb\"><img src=\"data:image/png;base64,iVBORw0KGgoAAAANSUhEUgAAAC8AAAAUCAMAAAAqRJTwAAAAPFBMVEX///8AAAAAAAAAAAAAAAAA\n",
       "AAAAAAAAAAAAAAAAAAAAAAAAAAAAAAAAAAAAAAAAAAAAAAAAAAAAAAAAAAAo1xBWAAAAE3RSTlMA\n",
       "ELvv3c2ZVESJq3YiMmbn9enzVleb9QAAAAlwSFlzAAAOxAAADsQBlSsOGwAAANlJREFUKM+VkusS\n",
       "xBAMhcUlGspevP+7LjG6bK0ZfmhSn+OICPF/IMz+glR6igfZZ0QezxoanPIydImxWVnXDclO5V2X\n",
       "RLZAfOKRpj7l2Se82TJJU/tHLy8SWw7sxDjv3c2S6eWh8bHEBvLUllHzeDzL3M44E1XeN1PKL+S/\n",
       "fP6gYYM0uh9LDHX5KPqaOLIL+XZfWygm8aop+3+96y2uGkmufCxUys8IKo7yvy8SFWsV6y6jcrRr\n",
       "7w2iSz+o0iHgCKNYy2cKybsw72NLYmsY2MLjprzekxdhtfgBfooGZl93KjkAAAAASUVORK5CYII=\n",
       "\" style=\"display:inline;vertical-align:middle;\" /></a>, <a class=\"ProveItLink\" href=\"../__pv_it/theorems/e9f87a0977d5044ea8daf1040d2f219396bb3d5b0/expr.ipynb\"><img src=\"data:image/png;base64,iVBORw0KGgoAAAANSUhEUgAAADMAAAAQBAMAAABJt1qBAAAAMFBMVEX///8AAAAAAAAAAAAAAAAA\n",
       "AAAAAAAAAAAAAAAAAAAAAAAAAAAAAAAAAAAAAAAAAAAv3aB7AAAAD3RSTlMAIquJdkTvuxBmmd1U\n",
       "zTKBpmoTAAAACXBIWXMAAA7EAAAOxAGVKw4bAAAA0ElEQVQY02NgwAKaq+86PsYmwcCiNoFjfRVW\n",
       "qSXBDAycWKX4FlQASS0UMffduy8AKaaGAiDZiSwT6wGh2RkXQEUYlR0dwPQNqIAQnwGUFSbA/gNE\n",
       "8wpABR6zToAwODIZuDaApWAGS7E6QBhcHxi4wQY82w0EBWC7oAayFTD0B4AY7TBd7GAXAkG/A8N8\n",
       "MIMbJsUK9hcrUOoAgy4PyAUsDvDQCAISa4HaHXh2cYFF7sDDsHYhx2mg3zhU7IT8wCJNpQ2wkC/7\n",
       "vRA18IKrwQEFAwCqvi28/xxvKQAAAABJRU5ErkJggg==\n",
       "\" style=\"display:inline;vertical-align:middle;\" /></a> <a class=\"ProveItLink\" href=\"../__pv_it/demonstrations/dc96e10c6d3a692db182315596c98077d6ec8a180/proof.ipynb\" style=\"text-decoration: none\">&nbsp;&#x22A2;&nbsp;&nbsp;</a><a class=\"ProveItLink\" href=\"../__pv_it/demonstrations/9baa1bef2117b6037f58cac722ed2c918527ba750/expr.ipynb\"><img src=\"data:image/png;base64,iVBORw0KGgoAAAANSUhEUgAAAHQAAAAyBAMAAAB/teJlAAAAMFBMVEX///8AAAAAAAAAAAAAAAAA\n",
       "AAAAAAAAAAAAAAAAAAAAAAAAAAAAAAAAAAAAAAAAAAAv3aB7AAAAD3RSTlMAIquJdkTvuxBmmd1U\n",
       "zTKBpmoTAAAACXBIWXMAAA7EAAAOxAGVKw4bAAACkElEQVRIx5VWz2sTURCe/Go2m22yeLDHBlJE\n",
       "UUFyVJBVPKsnrxERVEQsHoooSFDQ4+boLblKEYtKkRQh/4FBL8VTTx4UtdoUY2kT3763u28fOzOL\n",
       "c8i+nXmzmTfzfTMPgJZHlMG6D7zku6TpW4d3baZVz26rp7PGelZGiPJz+GyxroddRLkfPqtdzvUt\n",
       "oitNwoVzk4v3KqIsrBmR55rnPGTX3ClEOb90fqhW7eA4V9zyBNl1Ccu/v2n9Cj/SEOW9BTaW6tfY\n",
       "KT504Hp4WPF39jZUkdhqU8z1JcBOCKixONMy+JcRKGFZgjdQisrzUITvQQ/LUgPQstpRXnou+EM4\n",
       "6aSr/xOt+RSeRnq/C2XPGdhIgjEswTF4kAjLWjp76GJ60wqKk8en42DKJANuZDASCtsUmfeyXCu7\n",
       "hKE2znIldzj7Wa5kXJVpliv8JvRFhXKCVVL+JNarG4Eo2BcUaAhWSblD6BXeKFZJ2YBZIKka5aUm\n",
       "YpV1ELzNIlG716keLM0xqwbIlnXirCpgglVRwATMZIYJVvFpKsq6Iqx60joarq6xkEBY1YfVcLWn\n",
       "54gJRATc1ooo1C4sbqm3ncQcMcD9F+vCfYDnkauEP4p0DNx12b7PaIKUUKi9R3TtoKvX3mmUF1Co\n",
       "HUF08v8WOho0eo4kpYfMjY8XTkCun1OFFkhLzBGjmaY/Zx10fHfhx1f10UUvOUcyWrgYM3Pe3dks\n",
       "buGJOWKwLj047BHU9XQ6bs6R5PxOY0Lwr62PMTbnSFIGWFlfxcmrTMw5wqe4viW6RhxCw5wj/IUg\n",
       "3y33NTxcc44Y3Emdwmq+0C/3uD77iTOWJpz1i8sYq0POtbjMGFv/fb2M4x3xrvN0UN8zLrXMVXoz\n",
       "+P0HEnO9nuEIyWMAAAAASUVORK5CYII=\n",
       "\" style=\"display:inline;vertical-align:middle;\" /></a></span>"
      ],
      "text/plain": [
       "{b in Complex, b != 0, a in Complex} |- (a / b) = (a * (b / b^{2}))"
      ]
     },
     "metadata": {},
     "output_type": "display_data"
    }
   ],
   "source": [
    "temp_result.inner_expr().rhs.factor(a)"
   ]
  },
  {
   "cell_type": "markdown",
   "metadata": {},
   "source": [
    "Combining like terms after the `top_and_bottom_multiplication` happens with more complicated terms as well:"
   ]
  },
  {
   "cell_type": "code",
   "execution_count": 97,
   "metadata": {},
   "outputs": [
    {
     "data": {
      "text/html": [
       "<strong id=\"temp_result\">temp_result:</strong> <span style=\"font-size:20px;\"><a class=\"ProveItLink\" href=\"../__pv_it/demonstrations/450b09a2e7241bce4e09a992867b5d1d9c7d2b710/expr.ipynb\"><img src=\"data:image/png;base64,iVBORw0KGgoAAAANSUhEUgAAAHgAAAAZCAMAAADNEhofAAAAOVBMVEX///8AAAAAAAAAAAAAAAAA\n",
       "AAAAAAAAAAAAAAAAAAAAAAAAAAAAAAAAAAAAAAAAAAAAAAAAAAAAAAACXHtMAAAAEnRSTlMAInZU\n",
       "iRDNmWbv3US7qzLt5clL9C8GAAAACXBIWXMAAA7EAAAOxAGVKw4bAAACBUlEQVRIx8VWCZLjIAzk\n",
       "Fodgdvn/YxcQjsGOcTIzlVVVSGyEWrSuMPZJ0ez/iAptVUJ9FpfHulrBWMCPAkdeV5fKkjm58q7r\n",
       "38INjWCea6CdrL+FfNeEeCGPFHpjBE8FDrDKV/lYlhqwt2WR1RONzr+CmYyD4qq90xPRFR0NGWF7\n",
       "Q2cI2BXXtaENA69dN1d+zE1hgCBimd2Adc8noroaATsYnAh9eq3QDtq1lwkYdtciENV//mKjek8u\n",
       "NxocRT6NpKKIuFlboC9iHvmr2VYwujMcH6q1nMqTNJPBW+AeETPSEYyY/UDGD5TgrlAaCJQn6F3E\n",
       "RCGiXALzqETqEVFxeH+MeOkUSd1doruuczmtM18oB1d2sUfEmsHEsa4L6iFBzJk6TzeQjyy/Ata1\n",
       "Phh0E9ItrBae51KX4Qzs6B0ZzEQQ1EzxzrWvjVPIzc9OYcr7/UivCA4xvp0DHbgZDFNJHW7ssEUk\n",
       "bLzvVJw7Pu5ZfSmd6gYJU0nNwDrXR7tdVA5FcG55Ya9jFi6AkczntEXxEri6Fg2TnDrSUMTiWefq\n",
       "IQJzNZxJIRZMhFUJVA+lB0ZKMMbQnKeMQAOc6XrgqrsRUToqsMsGoqNQiUeRiN4wbWHQ5+nksofF\n",
       "BPXpYkMuhh/3x1mLY8t8SS77fVjMPrDs54Lv/6Hgv/KfSeMnfH3qv3jzgPgF3H/WLQ51IX2jzAAA\n",
       "AABJRU5ErkJggg==\n",
       "\" style=\"display:inline;vertical-align:middle;\" /></a>, <a class=\"ProveItLink\" href=\"../__pv_it/theorems/e9f87a0977d5044ea8daf1040d2f219396bb3d5b0/expr.ipynb\"><img src=\"data:image/png;base64,iVBORw0KGgoAAAANSUhEUgAAADMAAAAQBAMAAABJt1qBAAAAMFBMVEX///8AAAAAAAAAAAAAAAAA\n",
       "AAAAAAAAAAAAAAAAAAAAAAAAAAAAAAAAAAAAAAAAAAAv3aB7AAAAD3RSTlMAIquJdkTvuxBmmd1U\n",
       "zTKBpmoTAAAACXBIWXMAAA7EAAAOxAGVKw4bAAAA0ElEQVQY02NgwAKaq+86PsYmwcCiNoFjfRVW\n",
       "qSXBDAycWKX4FlQASS0UMffduy8AKaaGAiDZiSwT6wGh2RkXQEUYlR0dwPQNqIAQnwGUFSbA/gNE\n",
       "8wpABR6zToAwODIZuDaApWAGS7E6QBhcHxi4wQY82w0EBWC7oAayFTD0B4AY7TBd7GAXAkG/A8N8\n",
       "MIMbJsUK9hcrUOoAgy4PyAUsDvDQCAISa4HaHXh2cYFF7sDDsHYhx2mg3zhU7IT8wCJNpQ2wkC/7\n",
       "vRA18IKrwQEFAwCqvi28/xxvKQAAAABJRU5ErkJggg==\n",
       "\" style=\"display:inline;vertical-align:middle;\" /></a>, <a class=\"ProveItLink\" href=\"../__pv_it/theorems/a259ec76dfb0a5be60b7c83d797520fa82c1dba60/expr.ipynb\"><img src=\"data:image/png;base64,iVBORw0KGgoAAAANSUhEUgAAADEAAAAQBAMAAABNQoq8AAAAMFBMVEX///8AAAAAAAAAAAAAAAAA\n",
       "AAAAAAAAAAAAAAAAAAAAAAAAAAAAAAAAAAAAAAAAAAAv3aB7AAAAD3RSTlMAELvv3c2ZVESJq3Yi\n",
       "MmZ3LnoBAAAACXBIWXMAAA7EAAAOxAGVKw4bAAAA2UlEQVQY02NgwASSKqF7bjIwMCo7oElwL37A\n",
       "mK8GZLAmoMlkdzIw8IFk+AtQJXgTFIHkMiDuF4AKbXJxCQBSXAIKQFIOiKdAJVo3QmgmHpjxUbuX\n",
       "gyieQCj/FO8ECIPxq4D8AZBDDkBlbnI8gDDYPzIwbwDJwFxwjGMDhMEWwMAP0n7ZBQgUwPZATWOZ\n",
       "wNAPcrcQTA8T2G0Q7+SD3M0Ck+EA+4cDKHOB0Q4cJhvgYdAFJFKBHnvABHF/ODzcVHMYS4BijCvz\n",
       "IAJSGrDAkFT+koMSYJ0q4NCBAQD6uylQEVfDpgAAAABJRU5ErkJggg==\n",
       "\" style=\"display:inline;vertical-align:middle;\" /></a> <a class=\"ProveItLink\" href=\"../__pv_it/demonstrations/732797e391344e8e7ee2aa470ac4f4b342c71b800/proof.ipynb\" style=\"text-decoration: none\">&nbsp;&#x22A2;&nbsp;&nbsp;</a><a class=\"ProveItLink\" href=\"../__pv_it/demonstrations/73153690376254d97e06fc914856b286b35c6da10/expr.ipynb\"><img src=\"data:image/png;base64,iVBORw0KGgoAAAANSUhEUgAAANgAAAA1BAMAAADR1DiCAAAAMFBMVEX///8AAAAAAAAAAAAAAAAA\n",
       "AAAAAAAAAAAAAAAAAAAAAAAAAAAAAAAAAAAAAAAAAAAv3aB7AAAAD3RSTlMAIquJdkTvuxBmmd1U\n",
       "zTKBpmoTAAAACXBIWXMAAA7EAAAOxAGVKw4bAAADTklEQVRYw+1YTWgTQRR+sc1Pk20aROihB4X2\n",
       "oKAQejQgqXiU0oMIPdWDCtKDEcSDp6BgT5I9Si8GPIUiBgWRrkjAXsXiQWJPOStIRYQc4s9Mdnb3\n",
       "Tfa9nV0M7aXfLft9730zs7Oz+wUgNkqxrpcSVtOY7DDEleSqALl7berye5Iofm5O2pqKaaipEKab\n",
       "VMUuTcx0oKurmIZd/Vra9uvDyNuIWA2ur9VhU1cxDTf1flbVrw8jg4md4HpFUHVNxTTM1EmuQi3F\n",
       "B0wgsz2xSramYhoOVan5parOfbp0Nmz2DBOeWWp+eQAwcUpTMQ2HqqulbF/jcr/rjfBT8QUTnplb\n",
       "O7WLVVxDqcrdgnxb46w+ZKohs7eYUGayVrSwrmEV11Cq8vtQKMt95Div1x1HzFXUz5RDZjd8Ystx\n",
       "bjrOS/Bri/vD4XsqpqFUZWrQWNEGIqRrHcosINTMVG16OLNtpeIaSlWjCk/1zSOeihd1ahkDQpmp\n",
       "WquNVVxDqWp04JxV0rieWPYQ7mLCM3Nrp2pYxTWUqmzV2s5rAzlmZ4ljaRETykzV5stYxTWUqtzC\n",
       "hePL+k6dbxEP9TdMeLvRrS2saCqmIVLhZ5BEoYd+7GjUHKPSG87RBzGJKby0qxrVYlR6w1aSl+cd\n",
       "jkjVEquM2OCIbCmxyogUd0eXkqsOG+IQdNxD8Agm/KURU5YMR/csKR4unj44syZsHZzZLzjZixcj\n",
       "RFr4X7MnpBmXFmIcltFBjvyu9hujtw/5tT+KyxAVxYpvKMpvjN6rlRheVhk21oENbLPkeCvES3wv\n",
       "htljRucGtlQzRb3A/LTgmblpwQj5mh8AF9hmv38lphakBc8sCAaREB+46T5wge02eRIGacH78HLT\n",
       "gvGWCc1E2xjYRuKrmxZQDFDBwAD5zTm9cLFjCGwj34N+WlAzQ8EgCnL0jW7uB0QHttDmUWlBmaFg\n",
       "EIWCGOHHOlyH6MA2YuanBc8sCAZRyIjZPwf4CVxgoxCkBWWGgoHJ7BWkB8AGNurPFD8teLsxCAam\n",
       "ZRxAvg/RgY3dzNUkx3pWqP/AI9sQ2DhE5ooQ5PY+A/fBENjGg6JYqgfnbVNgGxPeQZzANiZof3yx\n",
       "gW1M4DNQsigWC7naeKJYPJyApFHsH0b0gTq9w594AAAAAElFTkSuQmCC\n",
       "\" style=\"display:inline;vertical-align:middle;\" /></a></span><br>"
      ],
      "text/plain": [
       "<IPython.core.display.HTML object>"
      ]
     },
     "metadata": {},
     "output_type": "display_data"
    }
   ],
   "source": [
    "temp_result = example_frac_03.top_and_bottom_multiplication(\n",
    "    Add(b, d), assumptions=assumptions+[InSet(Add(b, d), ComplexNonZero)])"
   ]
  },
  {
   "cell_type": "markdown",
   "metadata": {},
   "source": [
    "We could then commute the multiplicands if desired:"
   ]
  },
  {
   "cell_type": "code",
   "execution_count": 98,
   "metadata": {},
   "outputs": [
    {
     "data": {
      "text/html": [
       "<span style=\"font-size:20px;\"><a class=\"ProveItLink\" href=\"../__pv_it/demonstrations/450b09a2e7241bce4e09a992867b5d1d9c7d2b710/expr.ipynb\"><img src=\"data:image/png;base64,iVBORw0KGgoAAAANSUhEUgAAAHgAAAAZCAMAAADNEhofAAAAOVBMVEX///8AAAAAAAAAAAAAAAAA\n",
       "AAAAAAAAAAAAAAAAAAAAAAAAAAAAAAAAAAAAAAAAAAAAAAAAAAAAAAACXHtMAAAAEnRSTlMAInZU\n",
       "iRDNmWbv3US7qzLt5clL9C8GAAAACXBIWXMAAA7EAAAOxAGVKw4bAAACBUlEQVRIx8VWCZLjIAzk\n",
       "Fodgdvn/YxcQjsGOcTIzlVVVSGyEWrSuMPZJ0ez/iAptVUJ9FpfHulrBWMCPAkdeV5fKkjm58q7r\n",
       "38INjWCea6CdrL+FfNeEeCGPFHpjBE8FDrDKV/lYlhqwt2WR1RONzr+CmYyD4qq90xPRFR0NGWF7\n",
       "Q2cI2BXXtaENA69dN1d+zE1hgCBimd2Adc8noroaATsYnAh9eq3QDtq1lwkYdtciENV//mKjek8u\n",
       "NxocRT6NpKKIuFlboC9iHvmr2VYwujMcH6q1nMqTNJPBW+AeETPSEYyY/UDGD5TgrlAaCJQn6F3E\n",
       "RCGiXALzqETqEVFxeH+MeOkUSd1doruuczmtM18oB1d2sUfEmsHEsa4L6iFBzJk6TzeQjyy/Ata1\n",
       "Phh0E9ItrBae51KX4Qzs6B0ZzEQQ1EzxzrWvjVPIzc9OYcr7/UivCA4xvp0DHbgZDFNJHW7ssEUk\n",
       "bLzvVJw7Pu5ZfSmd6gYJU0nNwDrXR7tdVA5FcG55Ya9jFi6AkczntEXxEri6Fg2TnDrSUMTiWefq\n",
       "IQJzNZxJIRZMhFUJVA+lB0ZKMMbQnKeMQAOc6XrgqrsRUToqsMsGoqNQiUeRiN4wbWHQ5+nksofF\n",
       "BPXpYkMuhh/3x1mLY8t8SS77fVjMPrDs54Lv/6Hgv/KfSeMnfH3qv3jzgPgF3H/WLQ51IX2jzAAA\n",
       "AABJRU5ErkJggg==\n",
       "\" style=\"display:inline;vertical-align:middle;\" /></a>, <a class=\"ProveItLink\" href=\"../__pv_it/theorems/e9f87a0977d5044ea8daf1040d2f219396bb3d5b0/expr.ipynb\"><img src=\"data:image/png;base64,iVBORw0KGgoAAAANSUhEUgAAADMAAAAQBAMAAABJt1qBAAAAMFBMVEX///8AAAAAAAAAAAAAAAAA\n",
       "AAAAAAAAAAAAAAAAAAAAAAAAAAAAAAAAAAAAAAAAAAAv3aB7AAAAD3RSTlMAIquJdkTvuxBmmd1U\n",
       "zTKBpmoTAAAACXBIWXMAAA7EAAAOxAGVKw4bAAAA0ElEQVQY02NgwAKaq+86PsYmwcCiNoFjfRVW\n",
       "qSXBDAycWKX4FlQASS0UMffduy8AKaaGAiDZiSwT6wGh2RkXQEUYlR0dwPQNqIAQnwGUFSbA/gNE\n",
       "8wpABR6zToAwODIZuDaApWAGS7E6QBhcHxi4wQY82w0EBWC7oAayFTD0B4AY7TBd7GAXAkG/A8N8\n",
       "MIMbJsUK9hcrUOoAgy4PyAUsDvDQCAISa4HaHXh2cYFF7sDDsHYhx2mg3zhU7IT8wCJNpQ2wkC/7\n",
       "vRA18IKrwQEFAwCqvi28/xxvKQAAAABJRU5ErkJggg==\n",
       "\" style=\"display:inline;vertical-align:middle;\" /></a>, <a class=\"ProveItLink\" href=\"../__pv_it/theorems/a259ec76dfb0a5be60b7c83d797520fa82c1dba60/expr.ipynb\"><img src=\"data:image/png;base64,iVBORw0KGgoAAAANSUhEUgAAADEAAAAQBAMAAABNQoq8AAAAMFBMVEX///8AAAAAAAAAAAAAAAAA\n",
       "AAAAAAAAAAAAAAAAAAAAAAAAAAAAAAAAAAAAAAAAAAAv3aB7AAAAD3RSTlMAELvv3c2ZVESJq3Yi\n",
       "MmZ3LnoBAAAACXBIWXMAAA7EAAAOxAGVKw4bAAAA2UlEQVQY02NgwASSKqF7bjIwMCo7oElwL37A\n",
       "mK8GZLAmoMlkdzIw8IFk+AtQJXgTFIHkMiDuF4AKbXJxCQBSXAIKQFIOiKdAJVo3QmgmHpjxUbuX\n",
       "gyieQCj/FO8ECIPxq4D8AZBDDkBlbnI8gDDYPzIwbwDJwFxwjGMDhMEWwMAP0n7ZBQgUwPZATWOZ\n",
       "wNAPcrcQTA8T2G0Q7+SD3M0Ck+EA+4cDKHOB0Q4cJhvgYdAFJFKBHnvABHF/ODzcVHMYS4BijCvz\n",
       "IAJSGrDAkFT+koMSYJ0q4NCBAQD6uylQEVfDpgAAAABJRU5ErkJggg==\n",
       "\" style=\"display:inline;vertical-align:middle;\" /></a> <a class=\"ProveItLink\" href=\"../__pv_it/demonstrations/ef57e7b45ef4a70730a8b57b56b8cb486074a2020/proof.ipynb\" style=\"text-decoration: none\">&nbsp;&#x22A2;&nbsp;&nbsp;</a><a class=\"ProveItLink\" href=\"../__pv_it/demonstrations/18e2020ab542fb5d1b8c1508f071564aa2f4f6ee0/expr.ipynb\"><img src=\"data:image/png;base64,iVBORw0KGgoAAAANSUhEUgAAATQAAAA1BAMAAAA9hAq9AAAAMFBMVEX///8AAAAAAAAAAAAAAAAA\n",
       "AAAAAAAAAAAAAAAAAAAAAAAAAAAAAAAAAAAAAAAAAAAv3aB7AAAAD3RSTlMAInZUiRDNmWbv3US7\n",
       "qzJazP2FAAAACXBIWXMAAA7EAAAOxAGVKw4bAAAELUlEQVRo3u1ZO2hUQRQ9m3U/cTebxVIirp/C\n",
       "xrAGEUxjsBECkS1EECJJE9RC2CKEkCbbqI1gFESNgoFExBVFrLQyphErQ/xgGRsFC42usQmo983s\n",
       "e2+uee/NzLp+wBzYzL6Zc+89b2beZ08AII9g5COOtP2/ljQmm5ZiyPh99cCMZUkPZWUKotmNxNOp\n",
       "VYO5E+WWinK8OyCBiGMsS3pwaby9hB0iYBBIllePtxcxpKQdDBIg4oaCVBjRw0qjhmSJmlRFyJB4\n",
       "4A8/KuGMf5Ric5OpePKhsizprHTGD8ksI+0obpUyJLr8uF4aKnlHraxyvODJZyxLOivtkgjraJEv\n",
       "UrtHylgl7RhNtn8iewJribhkwGYzo7PSijRnkY9TO0yfk1ufc2mxF501Uj/vsYdF55YCTyPiFJYl\n",
       "nZX2pG3a/5EWuQ9CXuJraSDPpD3MZ5eBtL+Zj3udShoZlw7Y8mZ0VtqVljmPZ7TIp+nrNPUuo7Wg\n",
       "SktcRooyxCe8LNOyc4rVknEKy5LOSrvSjlQwQs1e+lyFI6O9BxirVq9Uq3ecS2cJ66kjtyTOFXWW\n",
       "7ESqWr01Wa3Ou3GC9RN0dD+pLO2TMA7MUPNRjlOKR0V11lpnMXCP5lac4M16lnqncoYyLjMRKC2a\n",
       "7ib1S7uzdg2JFWc7yFmle8t4SZU2UMA5hz2lzn29U0kj4+JTgQtqQGel3Q35GWlnXrvpM0fji7Qx\n",
       "mLQiXsVpx856Wea8TrWWiFNYlnRW2pVWQ9vgLuAsxFXaVsmWmbRsIX4zRTugx8vS53UqaWScwrKk\n",
       "s9Lugs6hu1yWN5b3pPTFKL/lJhYObuqkjXDPy/Le61TPUMQpLEs6K+1KO7r9zcIicNuhLiopu1iB\n",
       "jf5XxlLv3IxlSWcsRkLM2ZFp9dH/gBUY9b8ylvooZixLOmMxUv394DHCXjXV/W3GsqSHstAh/vaH\n",
       "DWfV12MzliU9lFUXHSuEDG9hZ2vEsqSHslry+D9Aj0EH81jDX8X3ZuCPJF3ba78Fh/pe/qtJyxhr\n",
       "vrTmJF3B5sWmS2tO0lO/Q5px0hgivbHexsrnm5F0G6K8sdyNhpRFG26GSeM96J9EqOHWUWpIWrSL\n",
       "Z5j0sPRiQgy3WDnWyAtLtItnmnRUeG9hhlvHh3eNTFu0i2eadEJ4b2GG2/XGHm7RLp5h0vig9N40\n",
       "hpslzFw83dTTT9jkws6ixnCzhJmLp4FzEgNDiU+INtwsYebiabCe5mtfCRcQbbhZwszF021Y+uE/\n",
       "AnxBmOHWEHQunrG0GWRqCDXcGpQW7eKZLmgNqWVEG272C2rg4mmQpf3wzXFUow03S5i5eBo41/Jr\n",
       "PIHGcLOEmYunQY7m9+iBis5ws4SZi6fDXZgYbpYwc/F0YP8OCzXcLGHm4mmvg7ydlWaGx81Impi1\n",
       "F61Hf1OSboCVlWYGM8NNxQ/+tQk4chGF4AAAAABJRU5ErkJggg==\n",
       "\" style=\"display:inline;vertical-align:middle;\" /></a></span>"
      ],
      "text/plain": [
       "{(b + d) in ComplexNonZero, a in Complex, b in Complex} |- (((b + d) * (a + b)) / (b + d)^{2}) = (((a + b) * (b + d)) / (b + d)^{2})"
      ]
     },
     "metadata": {},
     "output_type": "display_data"
    }
   ],
   "source": [
    "temp_result.rhs.inner_expr().numerator.commutation(0,1, assumptions=assumptions+[InSet(Add(b, d), ComplexNonZero)])"
   ]
  },
  {
   "cell_type": "markdown",
   "metadata": {},
   "source": [
    "or we could avail ourselves of the `numerator_mult` and `denominator_mult` options (left-multiplication is the default for both numerator and denominator):"
   ]
  },
  {
   "cell_type": "code",
   "execution_count": 99,
   "metadata": {},
   "outputs": [
    {
     "data": {
      "text/html": [
       "<span style=\"font-size:20px;\"><a class=\"ProveItLink\" href=\"../__pv_it/demonstrations/450b09a2e7241bce4e09a992867b5d1d9c7d2b710/expr.ipynb\"><img src=\"data:image/png;base64,iVBORw0KGgoAAAANSUhEUgAAAHgAAAAZCAMAAADNEhofAAAAOVBMVEX///8AAAAAAAAAAAAAAAAA\n",
       "AAAAAAAAAAAAAAAAAAAAAAAAAAAAAAAAAAAAAAAAAAAAAAAAAAAAAAACXHtMAAAAEnRSTlMAInZU\n",
       "iRDNmWbv3US7qzLt5clL9C8GAAAACXBIWXMAAA7EAAAOxAGVKw4bAAACBUlEQVRIx8VWCZLjIAzk\n",
       "Fodgdvn/YxcQjsGOcTIzlVVVSGyEWrSuMPZJ0ez/iAptVUJ9FpfHulrBWMCPAkdeV5fKkjm58q7r\n",
       "38INjWCea6CdrL+FfNeEeCGPFHpjBE8FDrDKV/lYlhqwt2WR1RONzr+CmYyD4qq90xPRFR0NGWF7\n",
       "Q2cI2BXXtaENA69dN1d+zE1hgCBimd2Adc8noroaATsYnAh9eq3QDtq1lwkYdtciENV//mKjek8u\n",
       "NxocRT6NpKKIuFlboC9iHvmr2VYwujMcH6q1nMqTNJPBW+AeETPSEYyY/UDGD5TgrlAaCJQn6F3E\n",
       "RCGiXALzqETqEVFxeH+MeOkUSd1doruuczmtM18oB1d2sUfEmsHEsa4L6iFBzJk6TzeQjyy/Ata1\n",
       "Phh0E9ItrBae51KX4Qzs6B0ZzEQQ1EzxzrWvjVPIzc9OYcr7/UivCA4xvp0DHbgZDFNJHW7ssEUk\n",
       "bLzvVJw7Pu5ZfSmd6gYJU0nNwDrXR7tdVA5FcG55Ya9jFi6AkczntEXxEri6Fg2TnDrSUMTiWefq\n",
       "IQJzNZxJIRZMhFUJVA+lB0ZKMMbQnKeMQAOc6XrgqrsRUToqsMsGoqNQiUeRiN4wbWHQ5+nksofF\n",
       "BPXpYkMuhh/3x1mLY8t8SS77fVjMPrDs54Lv/6Hgv/KfSeMnfH3qv3jzgPgF3H/WLQ51IX2jzAAA\n",
       "AABJRU5ErkJggg==\n",
       "\" style=\"display:inline;vertical-align:middle;\" /></a>, <a class=\"ProveItLink\" href=\"../__pv_it/theorems/e9f87a0977d5044ea8daf1040d2f219396bb3d5b0/expr.ipynb\"><img src=\"data:image/png;base64,iVBORw0KGgoAAAANSUhEUgAAADMAAAAQBAMAAABJt1qBAAAAMFBMVEX///8AAAAAAAAAAAAAAAAA\n",
       "AAAAAAAAAAAAAAAAAAAAAAAAAAAAAAAAAAAAAAAAAAAv3aB7AAAAD3RSTlMAIquJdkTvuxBmmd1U\n",
       "zTKBpmoTAAAACXBIWXMAAA7EAAAOxAGVKw4bAAAA0ElEQVQY02NgwAKaq+86PsYmwcCiNoFjfRVW\n",
       "qSXBDAycWKX4FlQASS0UMffduy8AKaaGAiDZiSwT6wGh2RkXQEUYlR0dwPQNqIAQnwGUFSbA/gNE\n",
       "8wpABR6zToAwODIZuDaApWAGS7E6QBhcHxi4wQY82w0EBWC7oAayFTD0B4AY7TBd7GAXAkG/A8N8\n",
       "MIMbJsUK9hcrUOoAgy4PyAUsDvDQCAISa4HaHXh2cYFF7sDDsHYhx2mg3zhU7IT8wCJNpQ2wkC/7\n",
       "vRA18IKrwQEFAwCqvi28/xxvKQAAAABJRU5ErkJggg==\n",
       "\" style=\"display:inline;vertical-align:middle;\" /></a>, <a class=\"ProveItLink\" href=\"../__pv_it/theorems/a259ec76dfb0a5be60b7c83d797520fa82c1dba60/expr.ipynb\"><img src=\"data:image/png;base64,iVBORw0KGgoAAAANSUhEUgAAADEAAAAQBAMAAABNQoq8AAAAMFBMVEX///8AAAAAAAAAAAAAAAAA\n",
       "AAAAAAAAAAAAAAAAAAAAAAAAAAAAAAAAAAAAAAAAAAAv3aB7AAAAD3RSTlMAELvv3c2ZVESJq3Yi\n",
       "MmZ3LnoBAAAACXBIWXMAAA7EAAAOxAGVKw4bAAAA2UlEQVQY02NgwASSKqF7bjIwMCo7oElwL37A\n",
       "mK8GZLAmoMlkdzIw8IFk+AtQJXgTFIHkMiDuF4AKbXJxCQBSXAIKQFIOiKdAJVo3QmgmHpjxUbuX\n",
       "gyieQCj/FO8ECIPxq4D8AZBDDkBlbnI8gDDYPzIwbwDJwFxwjGMDhMEWwMAP0n7ZBQgUwPZATWOZ\n",
       "wNAPcrcQTA8T2G0Q7+SD3M0Ck+EA+4cDKHOB0Q4cJhvgYdAFJFKBHnvABHF/ODzcVHMYS4BijCvz\n",
       "IAJSGrDAkFT+koMSYJ0q4NCBAQD6uylQEVfDpgAAAABJRU5ErkJggg==\n",
       "\" style=\"display:inline;vertical-align:middle;\" /></a> <a class=\"ProveItLink\" href=\"../__pv_it/demonstrations/8da0c95c4b3dc5f7a51dff14c8a9953b485379120/proof.ipynb\" style=\"text-decoration: none\">&nbsp;&#x22A2;&nbsp;&nbsp;</a><a class=\"ProveItLink\" href=\"../__pv_it/demonstrations/718651b015155387db5056a26551c11890bfdaa50/expr.ipynb\"><img src=\"data:image/png;base64,iVBORw0KGgoAAAANSUhEUgAAANgAAAA1BAMAAADR1DiCAAAAMFBMVEX///8AAAAAAAAAAAAAAAAA\n",
       "AAAAAAAAAAAAAAAAAAAAAAAAAAAAAAAAAAAAAAAAAAAv3aB7AAAAD3RSTlMAIquJdkTvuxBmmd1U\n",
       "zTKBpmoTAAAACXBIWXMAAA7EAAAOxAGVKw4bAAADm0lEQVRYw+1XS2gTURS9aTv5TCYfitBFFwrt\n",
       "QkEhFFcWJFU3gpQuROiqFfx3YYTiohtDBbuSZKcUxICrUqTBokgjErG4KWJwIW1XcatoK1rIIn7e\n",
       "/DLvztw3eaOhuOjZJDPv3Hfeu/d95gBIIy31XsQKQRD0VAUNZ6VYSpZ8Hb1Zpl6/FlF7iohFhn+5\n",
       "BqfpQSRKVL81IXUds8jwJiTyeKbWEFNUKtSikDqPWa1wxQlRGhDDY9CstE7kCbGwmBrOI1YrXHPK\n",
       "1M1Se4XsYZhK2FsxNVFErGHwiump3dDX5MBIFje+P3XYK/ZITO0+gFit8JZY79Etltoh9u9cOtJA\n",
       "jdGf+YJ3t2yIqbEaz3LCbTHlPNxiqX3A2q6CWkY9aA0IezfFCzFVm+RZTrgtdqcIj9nPG7Z+tiGe\n",
       "0ddRpfJsqlJhGVFrkMp4xC6KqcltY5I2ywx3SLAEsMx+ttj6yUFhDA2XdThRpcREVMWY2YrFcsLt\n",
       "mV2G6I5eBIBCFh7i1cP2yVKeSqOIqpV5lhNuF/YHxPS5r7EeqnBEQwVN1VlxPJgWU2M5nuWE22JN\n",
       "6Kq9ArgHEMlqKypq7CpGiANnSExVMzzLCbfTOA1rpZKxLaKDx3tH8UgGFohN/VlMjY8hVivcFps9\n",
       "+XGwDvCUPBZIxOtCar+AhfsLlcmDmAQ+RxF1QcDC/anFAJfnDVFDKCfDgr4gN/WcqCGSlmH5DIOa\n",
       "gKiiI1KsnjT8P1is6HgCe2iP3zQkacGwV7OguD10cPfESrC4e2I7sL8uZyOSH0r/KnafFCN9QKoq\n",
       "c1j6Gznyu5ryAeTXvhtnwM+wJZ9TTZQPGJbQ0jIwNwVUCQzD1keOl/IBmxJidwU8lilm2EKlEHWn\n",
       "eHxAaGC0KSG2YFg8C+MoU8yw9X39REzN6wMc++CLScPiWVhFmWKG7Tp5Enp8gG4fahIlq5kWzyO2\n",
       "iQyby766fYBtH9pA/zJNDJ6oYjGzBJxhc30Pun0AZx/8oI++sB79hsXMEsREmfH4AM4++CHORvgu\n",
       "DxeQmFUCzrC5xNw+gLMPfgiz2TOL99289y6Z955VAsOwUfD4AM4+tBNbBqWJZmaVQBHNzOMDOPvQ\n",
       "Lo1NUBtIzCqBVm6/mLNBjvUIY//S7TISM0sQy7UNV4J8+RvL+xDM4H1mlUDNQGeRZKmaPVbEYlYJ\n",
       "4mMdFoOX/MMqaurv+MU/zz+Me87oziKSljJsnUE0F3wYf499IGPYePwBnfuDVlTxo04AAAAASUVO\n",
       "RK5CYII=\n",
       "\" style=\"display:inline;vertical-align:middle;\" /></a></span>"
      ],
      "text/plain": [
       "{(b + d) in ComplexNonZero, a in Complex, b in Complex} |- ((a + b) / (b + d)) = (((a + b) * (b + d)) / (b + d)^{2})"
      ]
     },
     "metadata": {},
     "output_type": "display_data"
    }
   ],
   "source": [
    "example_frac_03.top_and_bottom_multiplication(\n",
    "        Add(b, d), numerator_mult=\"right\",\n",
    "        assumptions=assumptions+[InSet(Add(b, d), ComplexNonZero)])"
   ]
  },
  {
   "cell_type": "code",
   "execution_count": 100,
   "metadata": {},
   "outputs": [
    {
     "data": {
      "text/html": [
       "<strong id=\"temp_result\">temp_result:</strong> <span style=\"font-size:20px;\"><a class=\"ProveItLink\" href=\"../__pv_it/demonstrations/450b09a2e7241bce4e09a992867b5d1d9c7d2b710/expr.ipynb\"><img src=\"data:image/png;base64,iVBORw0KGgoAAAANSUhEUgAAAHgAAAAZCAMAAADNEhofAAAAOVBMVEX///8AAAAAAAAAAAAAAAAA\n",
       "AAAAAAAAAAAAAAAAAAAAAAAAAAAAAAAAAAAAAAAAAAAAAAAAAAAAAAACXHtMAAAAEnRSTlMAInZU\n",
       "iRDNmWbv3US7qzLt5clL9C8GAAAACXBIWXMAAA7EAAAOxAGVKw4bAAACBUlEQVRIx8VWCZLjIAzk\n",
       "Fodgdvn/YxcQjsGOcTIzlVVVSGyEWrSuMPZJ0ez/iAptVUJ9FpfHulrBWMCPAkdeV5fKkjm58q7r\n",
       "38INjWCea6CdrL+FfNeEeCGPFHpjBE8FDrDKV/lYlhqwt2WR1RONzr+CmYyD4qq90xPRFR0NGWF7\n",
       "Q2cI2BXXtaENA69dN1d+zE1hgCBimd2Adc8noroaATsYnAh9eq3QDtq1lwkYdtciENV//mKjek8u\n",
       "NxocRT6NpKKIuFlboC9iHvmr2VYwujMcH6q1nMqTNJPBW+AeETPSEYyY/UDGD5TgrlAaCJQn6F3E\n",
       "RCGiXALzqETqEVFxeH+MeOkUSd1doruuczmtM18oB1d2sUfEmsHEsa4L6iFBzJk6TzeQjyy/Ata1\n",
       "Phh0E9ItrBae51KX4Qzs6B0ZzEQQ1EzxzrWvjVPIzc9OYcr7/UivCA4xvp0DHbgZDFNJHW7ssEUk\n",
       "bLzvVJw7Pu5ZfSmd6gYJU0nNwDrXR7tdVA5FcG55Ya9jFi6AkczntEXxEri6Fg2TnDrSUMTiWefq\n",
       "IQJzNZxJIRZMhFUJVA+lB0ZKMMbQnKeMQAOc6XrgqrsRUToqsMsGoqNQiUeRiN4wbWHQ5+nksofF\n",
       "BPXpYkMuhh/3x1mLY8t8SS77fVjMPrDs54Lv/6Hgv/KfSeMnfH3qv3jzgPgF3H/WLQ51IX2jzAAA\n",
       "AABJRU5ErkJggg==\n",
       "\" style=\"display:inline;vertical-align:middle;\" /></a>, <a class=\"ProveItLink\" href=\"../../addition/subtraction/__pv_it/theorems/b66b5547fa9b0b910f79351152926c658c2718190/expr.ipynb\"><img src=\"data:image/png;base64,iVBORw0KGgoAAAANSUhEUgAAADEAAAAQBAMAAABNQoq8AAAAMFBMVEX///8AAAAAAAAAAAAAAAAA\n",
       "AAAAAAAAAAAAAAAAAAAAAAAAAAAAAAAAAAAAAAAAAAAv3aB7AAAAD3RSTlMAiXZmMiLdVJm77xBE\n",
       "zatgdeJyAAAACXBIWXMAAA7EAAAOxAGVKw4bAAAAw0lEQVQY02NgwAQbp91VdcQizsD0yoC7fwY2\n",
       "maaDDAzM2GRYGmYDyRfIQpppaReAFN+GCUByM5LEWW0IzcnaABMSUnYAkqy3odw4FgEoK6yAA6Sd\n",
       "NwDKd+QxgLISGbgUQDIwIyJ4FCAMjt8Q2isNCCaA7YGaxjUBQu+E6eHcABXZD9XLBpPhAfuHh4GB\n",
       "H2jfAVCYKMDD4ByQ6AXaM4GBEeRqhuvwcJvbyl0G8pOgMcSL++ZsgIX1rG+tKAF2cBo4dGAAAHWD\n",
       "KgtwTxl0AAAAAElFTkSuQmCC\n",
       "\" style=\"display:inline;vertical-align:middle;\" /></a>, <a class=\"ProveItLink\" href=\"../__pv_it/theorems/e9f87a0977d5044ea8daf1040d2f219396bb3d5b0/expr.ipynb\"><img src=\"data:image/png;base64,iVBORw0KGgoAAAANSUhEUgAAADMAAAAQBAMAAABJt1qBAAAAMFBMVEX///8AAAAAAAAAAAAAAAAA\n",
       "AAAAAAAAAAAAAAAAAAAAAAAAAAAAAAAAAAAAAAAAAAAv3aB7AAAAD3RSTlMAIquJdkTvuxBmmd1U\n",
       "zTKBpmoTAAAACXBIWXMAAA7EAAAOxAGVKw4bAAAA0ElEQVQY02NgwAKaq+86PsYmwcCiNoFjfRVW\n",
       "qSXBDAycWKX4FlQASS0UMffduy8AKaaGAiDZiSwT6wGh2RkXQEUYlR0dwPQNqIAQnwGUFSbA/gNE\n",
       "8wpABR6zToAwODIZuDaApWAGS7E6QBhcHxi4wQY82w0EBWC7oAayFTD0B4AY7TBd7GAXAkG/A8N8\n",
       "MIMbJsUK9hcrUOoAgy4PyAUsDvDQCAISa4HaHXh2cYFF7sDDsHYhx2mg3zhU7IT8wCJNpQ2wkC/7\n",
       "vRA18IKrwQEFAwCqvi28/xxvKQAAAABJRU5ErkJggg==\n",
       "\" style=\"display:inline;vertical-align:middle;\" /></a>, <a class=\"ProveItLink\" href=\"../__pv_it/theorems/a259ec76dfb0a5be60b7c83d797520fa82c1dba60/expr.ipynb\"><img src=\"data:image/png;base64,iVBORw0KGgoAAAANSUhEUgAAADEAAAAQBAMAAABNQoq8AAAAMFBMVEX///8AAAAAAAAAAAAAAAAA\n",
       "AAAAAAAAAAAAAAAAAAAAAAAAAAAAAAAAAAAAAAAAAAAv3aB7AAAAD3RSTlMAELvv3c2ZVESJq3Yi\n",
       "MmZ3LnoBAAAACXBIWXMAAA7EAAAOxAGVKw4bAAAA2UlEQVQY02NgwASSKqF7bjIwMCo7oElwL37A\n",
       "mK8GZLAmoMlkdzIw8IFk+AtQJXgTFIHkMiDuF4AKbXJxCQBSXAIKQFIOiKdAJVo3QmgmHpjxUbuX\n",
       "gyieQCj/FO8ECIPxq4D8AZBDDkBlbnI8gDDYPzIwbwDJwFxwjGMDhMEWwMAP0n7ZBQgUwPZATWOZ\n",
       "wNAPcrcQTA8T2G0Q7+SD3M0Ck+EA+4cDKHOB0Q4cJhvgYdAFJFKBHnvABHF/ODzcVHMYS4BijCvz\n",
       "IAJSGrDAkFT+koMSYJ0q4NCBAQD6uylQEVfDpgAAAABJRU5ErkJggg==\n",
       "\" style=\"display:inline;vertical-align:middle;\" /></a> <a class=\"ProveItLink\" href=\"../__pv_it/demonstrations/41ac6fdcf5e88b51fd32b7c63eb689906ba6515d0/proof.ipynb\" style=\"text-decoration: none\">&nbsp;&#x22A2;&nbsp;&nbsp;</a><a class=\"ProveItLink\" href=\"../__pv_it/demonstrations/23e8985b5b21511b22a118c1b233e0c4a921342b0/expr.ipynb\"><img src=\"data:image/png;base64,iVBORw0KGgoAAAANSUhEUgAAARgAAAA1BAMAAABo5enjAAAAMFBMVEX///8AAAAAAAAAAAAAAAAA\n",
       "AAAAAAAAAAAAAAAAAAAAAAAAAAAAAAAAAAAAAAAAAAAv3aB7AAAAD3RSTlMAiXZmMiLdVJm77xBE\n",
       "zatgdeJyAAAACXBIWXMAAA7EAAAOxAGVKw4bAAAD9klEQVRYw+1ZTWgTQRR+bbLZ/LWJRXos0bZ4\n",
       "8BLwUhExBy1epMVDoZdaQTZFRdKAPQiFlEJv0lDw4sWCKP6B8VhBG+zNSwO9FAvS9uJBhOKlh1T0\n",
       "TTaTzOzMZme2JfbQd0izL9+b/eZ9b3b2TQF4GwW5ufm1Q91QhujqzLlgv3hyUQt1RcVTgmtaAos9\n",
       "ncRB0l5k1EKnbZ/TbryCfiG4IrtNVwE/tjy4qIUSVM3ntH3oKjlcYW7+8fpVgqR2yIOMWihBJXIO\n",
       "EPlahYCTY5S7MusyrhPO0VJrMmqhUepjQWgdKN1bx4iz0hF7awn3KBq10Fnqc5Ah0m2QLz39Geqb\n",
       "I2tsZzDFg7+f/YHctyUMtEPnqI8jM9EzgtL14bexXLhIsYTc19FIlQPH/pRWRyEgKVD90A3qY8nE\n",
       "X8AzlO4yfr0N0Ua6soh9DuFJbkSzShDmskhGPzRLfSyZj2l4jH8eYX1X63Mgn+/weg9CSVL3lnX3\n",
       "pWVhhsMVSCQhuCcuIJ3QJqrmY0CwSKYFMIL1XU/0VB2L16tlbnp4g/UcxMXM6IVSlO1jM/MaYgdE\n",
       "ZIBV9jGcrV1f4asdnwuLJTDF56aP0Cz1sYX1GwIkdzP4G667MsUu4Yg5+GVyBZbIYDFAoCiQ8RG6\n",
       "RH0smX3orjwEuIjaFaGjsT5xdUVS5lSYA3enI/gUCCfFmtEP7aM+VqYlmCkU7GV/6sL5BnYYee6e\n",
       "nhjgme/ME/nL4mrSDx2mPpbM5zPXdnFS9x2jhzKyx6j9TPHYm9RCORQHAsNZlPxmFWd3gHkPMmqh\n",
       "HIoDOXZaYk/c7mUUvd5n1EJdUTAueFbcoBHP90610BWNyRgpF+ig52unWqgrqlPhLftYG24pxLbh\n",
       "xNpqf9XtEKH+bnBSM//PPvT9PD5kCrBwfMgcwK2MN0rWkQe/FY6azCUlMtKOPJHzcT+j9RFOr8oY\n",
       "so58veSDzDlodVQTvKcyhqwj7/XBxUy6SV47qhlXmp+sI9/0QeaTu+RbqGHBUHlbEDpyY2dg3weZ\n",
       "eVbyNS7zQ5iYq9cVUiN25M1GXsuWWcnzXOajJXivtAcJHTlp5Cs+SqbCSs6Q2fQ+5Wnugc6OnDby\n",
       "untpkpWckrEl71DdYYWOnGnkdYzMvik5JWNLHlDNtNCRM428joVyrOR1MnXJZac8cjLOjpxp5HUs\n",
       "Wm5IvmBZbyzrATQkl5zyyE3oyJlGXpdMU/I8sJLHVTMjdORMI68rU1PyPLCSS055PBdn6jDbciTF\n",
       "Sk7J2JIHitrDxdOHIUOWb1PyPLCSh5PQXgtOspLT1WRLHiq3mQzcYS/y3E9j7ebC/89jTdhD22vu\n",
       "xydGse1kYkX/pzxHbzfB3ynPP0kKt7AQ3m3AAAAAAElFTkSuQmCC\n",
       "\" style=\"display:inline;vertical-align:middle;\" /></a></span><br>"
      ],
      "text/plain": [
       "<IPython.core.display.HTML object>"
      ]
     },
     "metadata": {},
     "output_type": "display_data"
    }
   ],
   "source": [
    "temp_result = example_frac_04.top_and_bottom_multiplication(\n",
    "        Add(b, d), numerator_mult=\"right\",\n",
    "        assumptions=assumptions+[InSet(Add(b, d), ComplexNonZero)])"
   ]
  },
  {
   "cell_type": "code",
   "execution_count": 101,
   "metadata": {},
   "outputs": [
    {
     "data": {
      "text/html": [
       "<strong id=\"temp_result\">temp_result:</strong> <span style=\"font-size:20px;\"><a class=\"ProveItLink\" href=\"../__pv_it/demonstrations/f903d4d9efcace106c1d369d950f9a11179f65050/expr.ipynb\"><img src=\"data:image/png;base64,iVBORw0KGgoAAAANSUhEUgAAAHkAAAAZCAMAAAAi0HEhAAAAOVBMVEX///8AAAAAAAAAAAAAAAAA\n",
       "AAAAAAAAAAAAAAAAAAAAAAAAAAAAAAAAAAAAAAAAAAAAAAAAAAAAAAACXHtMAAAAEnRSTlMAInZU\n",
       "iRDNmWbv3US7qzLt5clL9C8GAAAACXBIWXMAAA7EAAAOxAGVKw4bAAAB9klEQVRIx8VWi7KjIAyF\n",
       "8AiPwO7y/x97A1RFq9TudHozU2or5iQnOUEhvmpG/JLp2FYN+svAMtXVgRCRvoucZF195qXIHsu7\n",
       "sf8fcGwcy1KL7VW9BvWuC7jTTJqCtSAz4yFV+8MfJ3JDDo4XdbfchnzoV+BebobkeZPBQih2D3Vk\n",
       "z8Ebez9Zu3ixr+SB0LkVbkE2j6bqbBfmGa/jj8dbZamLwzlwRkGP4BJ2tv/+o8b21mH++nl1qGcs\n",
       "a6p+nzRQYNvYS0YsujEPktO6t6qKfyl7H1mHjfeRjmjhwD4JeWCFth08SZB/oV5lrkHCFNkmgNQJ\n",
       "12kQ2VPVeWRkPXU1BB89M0/FTLabwhCmzwA3UGWf9M2whx45YTb0HEzVgMAwC1SteuBrP/PKVO81\n",
       "r+Izsu//YWlhLBRhbZjgfftaiMUGUXRX5ZZg38VGY51fTokHsqdGZ5zl3OKKXVnRDwPm2SttvX1p\n",
       "nW1TKogr095umNhbQQ11CSeTYNOziBfIBB25ek1WKDlBzks/1NE0iBlOZ1gaa3R2WKc1ABVQ4CTn\n",
       "xKDLLMSxjPbkyAGyKIWpPq/mXOfKJNBZJsgzVSW9jtoQdzcompOzypeAkxM15NszbJBNOB69tJue\n",
       "t2wy/OPlYYJOfMDo/VcM+ZnXKEPfCPY8A3jzAfgE8A8DWQ3jC/4aAQAAAABJRU5ErkJggg==\n",
       "\" style=\"display:inline;vertical-align:middle;\" /></a>, <a class=\"ProveItLink\" href=\"../__pv_it/demonstrations/450b09a2e7241bce4e09a992867b5d1d9c7d2b710/expr.ipynb\"><img src=\"data:image/png;base64,iVBORw0KGgoAAAANSUhEUgAAAHgAAAAZCAMAAADNEhofAAAAOVBMVEX///8AAAAAAAAAAAAAAAAA\n",
       "AAAAAAAAAAAAAAAAAAAAAAAAAAAAAAAAAAAAAAAAAAAAAAAAAAAAAAACXHtMAAAAEnRSTlMAInZU\n",
       "iRDNmWbv3US7qzLt5clL9C8GAAAACXBIWXMAAA7EAAAOxAGVKw4bAAACBUlEQVRIx8VWCZLjIAzk\n",
       "Fodgdvn/YxcQjsGOcTIzlVVVSGyEWrSuMPZJ0ez/iAptVUJ9FpfHulrBWMCPAkdeV5fKkjm58q7r\n",
       "38INjWCea6CdrL+FfNeEeCGPFHpjBE8FDrDKV/lYlhqwt2WR1RONzr+CmYyD4qq90xPRFR0NGWF7\n",
       "Q2cI2BXXtaENA69dN1d+zE1hgCBimd2Adc8noroaATsYnAh9eq3QDtq1lwkYdtciENV//mKjek8u\n",
       "NxocRT6NpKKIuFlboC9iHvmr2VYwujMcH6q1nMqTNJPBW+AeETPSEYyY/UDGD5TgrlAaCJQn6F3E\n",
       "RCGiXALzqETqEVFxeH+MeOkUSd1doruuczmtM18oB1d2sUfEmsHEsa4L6iFBzJk6TzeQjyy/Ata1\n",
       "Phh0E9ItrBae51KX4Qzs6B0ZzEQQ1EzxzrWvjVPIzc9OYcr7/UivCA4xvp0DHbgZDFNJHW7ssEUk\n",
       "bLzvVJw7Pu5ZfSmd6gYJU0nNwDrXR7tdVA5FcG55Ya9jFi6AkczntEXxEri6Fg2TnDrSUMTiWefq\n",
       "IQJzNZxJIRZMhFUJVA+lB0ZKMMbQnKeMQAOc6XrgqrsRUToqsMsGoqNQiUeRiN4wbWHQ5+nksofF\n",
       "BPXpYkMuhh/3x1mLY8t8SS77fVjMPrDs54Lv/6Hgv/KfSeMnfH3qv3jzgPgF3H/WLQ51IX2jzAAA\n",
       "AABJRU5ErkJggg==\n",
       "\" style=\"display:inline;vertical-align:middle;\" /></a>, <a class=\"ProveItLink\" href=\"../../addition/subtraction/__pv_it/theorems/b66b5547fa9b0b910f79351152926c658c2718190/expr.ipynb\"><img src=\"data:image/png;base64,iVBORw0KGgoAAAANSUhEUgAAADEAAAAQBAMAAABNQoq8AAAAMFBMVEX///8AAAAAAAAAAAAAAAAA\n",
       "AAAAAAAAAAAAAAAAAAAAAAAAAAAAAAAAAAAAAAAAAAAv3aB7AAAAD3RSTlMAiXZmMiLdVJm77xBE\n",
       "zatgdeJyAAAACXBIWXMAAA7EAAAOxAGVKw4bAAAAw0lEQVQY02NgwAQbp91VdcQizsD0yoC7fwY2\n",
       "maaDDAzM2GRYGmYDyRfIQpppaReAFN+GCUByM5LEWW0IzcnaABMSUnYAkqy3odw4FgEoK6yAA6Sd\n",
       "NwDKd+QxgLISGbgUQDIwIyJ4FCAMjt8Q2isNCCaA7YGaxjUBQu+E6eHcABXZD9XLBpPhAfuHh4GB\n",
       "H2jfAVCYKMDD4ByQ6AXaM4GBEeRqhuvwcJvbyl0G8pOgMcSL++ZsgIX1rG+tKAF2cBo4dGAAAHWD\n",
       "KgtwTxl0AAAAAElFTkSuQmCC\n",
       "\" style=\"display:inline;vertical-align:middle;\" /></a>, <a class=\"ProveItLink\" href=\"../__pv_it/theorems/e9f87a0977d5044ea8daf1040d2f219396bb3d5b0/expr.ipynb\"><img src=\"data:image/png;base64,iVBORw0KGgoAAAANSUhEUgAAADMAAAAQBAMAAABJt1qBAAAAMFBMVEX///8AAAAAAAAAAAAAAAAA\n",
       "AAAAAAAAAAAAAAAAAAAAAAAAAAAAAAAAAAAAAAAAAAAv3aB7AAAAD3RSTlMAIquJdkTvuxBmmd1U\n",
       "zTKBpmoTAAAACXBIWXMAAA7EAAAOxAGVKw4bAAAA0ElEQVQY02NgwAKaq+86PsYmwcCiNoFjfRVW\n",
       "qSXBDAycWKX4FlQASS0UMffduy8AKaaGAiDZiSwT6wGh2RkXQEUYlR0dwPQNqIAQnwGUFSbA/gNE\n",
       "8wpABR6zToAwODIZuDaApWAGS7E6QBhcHxi4wQY82w0EBWC7oAayFTD0B4AY7TBd7GAXAkG/A8N8\n",
       "MIMbJsUK9hcrUOoAgy4PyAUsDvDQCAISa4HaHXh2cYFF7sDDsHYhx2mg3zhU7IT8wCJNpQ2wkC/7\n",
       "vRA18IKrwQEFAwCqvi28/xxvKQAAAABJRU5ErkJggg==\n",
       "\" style=\"display:inline;vertical-align:middle;\" /></a>, <a class=\"ProveItLink\" href=\"../__pv_it/theorems/a259ec76dfb0a5be60b7c83d797520fa82c1dba60/expr.ipynb\"><img src=\"data:image/png;base64,iVBORw0KGgoAAAANSUhEUgAAADEAAAAQBAMAAABNQoq8AAAAMFBMVEX///8AAAAAAAAAAAAAAAAA\n",
       "AAAAAAAAAAAAAAAAAAAAAAAAAAAAAAAAAAAAAAAAAAAv3aB7AAAAD3RSTlMAELvv3c2ZVESJq3Yi\n",
       "MmZ3LnoBAAAACXBIWXMAAA7EAAAOxAGVKw4bAAAA2UlEQVQY02NgwASSKqF7bjIwMCo7oElwL37A\n",
       "mK8GZLAmoMlkdzIw8IFk+AtQJXgTFIHkMiDuF4AKbXJxCQBSXAIKQFIOiKdAJVo3QmgmHpjxUbuX\n",
       "gyieQCj/FO8ECIPxq4D8AZBDDkBlbnI8gDDYPzIwbwDJwFxwjGMDhMEWwMAP0n7ZBQgUwPZATWOZ\n",
       "wNAPcrcQTA8T2G0Q7+SD3M0Ck+EA+4cDKHOB0Q4cJhvgYdAFJFKBHnvABHF/ODzcVHMYS4BijCvz\n",
       "IAJSGrDAkFT+koMSYJ0q4NCBAQD6uylQEVfDpgAAAABJRU5ErkJggg==\n",
       "\" style=\"display:inline;vertical-align:middle;\" /></a> <a class=\"ProveItLink\" href=\"../__pv_it/demonstrations/5d53bbf20ad29343b29bd05b4bb5a4ee9fbb05a20/proof.ipynb\" style=\"text-decoration: none\">&nbsp;&#x22A2;&nbsp;&nbsp;</a><a class=\"ProveItLink\" href=\"../__pv_it/demonstrations/20f6fe6d7c2ebccad3f1ef1f34e5302ee639fc2e0/expr.ipynb\"><img src=\"data:image/png;base64,iVBORw0KGgoAAAANSUhEUgAAAQAAAAA2BAMAAADaCFpRAAAAMFBMVEX///8AAAAAAAAAAAAAAAAA\n",
       "AAAAAAAAAAAAAAAAAAAAAAAAAAAAAAAAAAAAAAAAAAAv3aB7AAAAD3RSTlMAiXZmMiLdVJm77xBE\n",
       "zatgdeJyAAAACXBIWXMAAA7EAAAOxAGVKw4bAAAD8ElEQVRYw+2YTWgTQRTHX5qkm6/aWovHsvYD\n",
       "D16KeqiImIMWL9LQg9BLrSCboiJbwR6EwpZCwYMYCl68WCyKVcF4rKAJeuslgV5EQZpePIhQ9NBD\n",
       "WurMZnczs50Z3zZiVHzQ7k727X//OztvZn8L8LvjZfcXaGpYMNdcA1twMd1UAyebbQDgoOpgJuDv\n",
       "wogq1SNXFae2mJIDb4MYOAwqldG84tRJwW/J++PE2QD++lqHSiVqReXdmSyLfm2zyL+PeAOvQaUy\n",
       "euacvAti3H2mnFY7fS6DeAOzXOsd8Covdnbkpyb4rtRr2xJ1nMijDSxwrRsQQGVaaMAumzb0INDK\n",
       "QgNylc5eb2KYoTVU6dd5A596PgOE1pRXDfUc954jHYNjnSM+A1KVC2Ys5+6vkr+VTLzKGUhu5wsZ\n",
       "CJeVlZ+F295oI3eZegQP8pwBucolSOjufpYkLkJsnDOgVWmGtqAy0NoBD719MtpeDXhLjmNAqhKr\n",
       "3W7BtvactDeoGtkaxpXHhkG6LFaG9g6IbKgM3M3XVRJF0qY3RmLOMJ4axnVQqCRq/d9qOQZIu1Dk\n",
       "eoD4KZmQUvbAEtRVqIElSG7xPSBVKehMI2u3T/NVQAqY3KA2rrh+8hv7OEzaDm/wBqQq7WTIFN3G\n",
       "PDFgwlctwxlIk3EB4ZyqB76Tcefux3VIbsK+8k3egEyFlEDIK8Nuero2EeN6YN9A3HKKSxqkBLq8\n",
       "ilyjdzJlWZwBucr+Y0e8/SHSm+tdY318GVbo3NpaVE4DB456c1yEdPObQ2fX03wZIlTI8bRoJqxN\n",
       "F/i14LJwJkSphC3RYiRYYZQxKFyMcCr3pFNdDm8gntm7ynJwUUFR5vauEtUlB/qDvJKNwK9Q+UOD\n",
       "LBE01uDfiR18NHAqXvT/GPjbAoeSmaAMiQ4cSkqzUvpuevNF5IMFDaPkpFAazj+BXgG9+V+YTNWk\n",
       "j0JJmiWShk1oy4svxqzDJRVL4VCSZomkU1Xf8l+/GPMmovyagUPJhEQ6RB7LM/GnEybrfeMoOS2R\n",
       "po9llVOw6Y3Nilb6NlUGcCg5I5Im8Dhs2m/BzGCx6Y3NqmOiOHAouSqSduDxFNeFVZcSXalFClSK\n",
       "wKFkViBN4fEO2dzixrRNbywUOpgojZ+hZHLbzfJLu/A47CPcksnaZDBRakCNkhNO1i5pFx5XfNOA\n",
       "A7lOFoOJ0keAQMmsQNqFxynOgE1vrIE6JooDh5LzAmkXHk+wcjV6Y7IYTBQHDiW7BdIuPM5wZViZ\n",
       "5TuTwURx4FBySCDtwuM1yXcuHbca41CSy+Klo5KPDinkJzkcSnJZvHQswAfgBlBSmgWjjb4R4VBy\n",
       "OfgNYAOHktKsFmLzB78Dqft/zqfaAAAAAElFTkSuQmCC\n",
       "\" style=\"display:inline;vertical-align:middle;\" /></a></span><br>"
      ],
      "text/plain": [
       "<IPython.core.display.HTML object>"
      ]
     },
     "metadata": {},
     "output_type": "display_data"
    }
   ],
   "source": [
    "temp_result = example_frac_04.top_and_bottom_multiplication(\n",
    "        Add(a, b), numerator_mult=\"right\",\n",
    "        assumptions=assumptions+[InSet(Add(b, d), ComplexNonZero), InSet(Add(a,b), ComplexNonZero)])"
   ]
  },
  {
   "cell_type": "markdown",
   "metadata": {},
   "source": [
    "The automatic combining of like terms might produce somewhat unexpected results, such as the following numerator where left-multiplication would initially produce $(a+b)\\cdot c \\cdot (a+b)$ but automatic combining of like terms then gives $(a+b)^{2} \\cdot c$:"
   ]
  },
  {
   "cell_type": "code",
   "execution_count": 102,
   "metadata": {},
   "outputs": [
    {
     "data": {
      "text/html": [
       "<strong id=\"temp_result\">temp_result:</strong> <span style=\"font-size:20px;\"><a class=\"ProveItLink\" href=\"../__pv_it/demonstrations/f903d4d9efcace106c1d369d950f9a11179f65050/expr.ipynb\"><img src=\"data:image/png;base64,iVBORw0KGgoAAAANSUhEUgAAAHkAAAAZCAMAAAAi0HEhAAAAOVBMVEX///8AAAAAAAAAAAAAAAAA\n",
       "AAAAAAAAAAAAAAAAAAAAAAAAAAAAAAAAAAAAAAAAAAAAAAAAAAAAAAACXHtMAAAAEnRSTlMAInZU\n",
       "iRDNmWbv3US7qzLt5clL9C8GAAAACXBIWXMAAA7EAAAOxAGVKw4bAAAB9klEQVRIx8VWi7KjIAyF\n",
       "8AiPwO7y/x97A1RFq9TudHozU2or5iQnOUEhvmpG/JLp2FYN+svAMtXVgRCRvoucZF195qXIHsu7\n",
       "sf8fcGwcy1KL7VW9BvWuC7jTTJqCtSAz4yFV+8MfJ3JDDo4XdbfchnzoV+BebobkeZPBQih2D3Vk\n",
       "z8Ebez9Zu3ixr+SB0LkVbkE2j6bqbBfmGa/jj8dbZamLwzlwRkGP4BJ2tv/+o8b21mH++nl1qGcs\n",
       "a6p+nzRQYNvYS0YsujEPktO6t6qKfyl7H1mHjfeRjmjhwD4JeWCFth08SZB/oV5lrkHCFNkmgNQJ\n",
       "12kQ2VPVeWRkPXU1BB89M0/FTLabwhCmzwA3UGWf9M2whx45YTb0HEzVgMAwC1SteuBrP/PKVO81\n",
       "r+Izsu//YWlhLBRhbZjgfftaiMUGUXRX5ZZg38VGY51fTokHsqdGZ5zl3OKKXVnRDwPm2SttvX1p\n",
       "nW1TKogr095umNhbQQ11CSeTYNOziBfIBB25ek1WKDlBzks/1NE0iBlOZ1gaa3R2WKc1ABVQ4CTn\n",
       "xKDLLMSxjPbkyAGyKIWpPq/mXOfKJNBZJsgzVSW9jtoQdzcompOzypeAkxM15NszbJBNOB69tJue\n",
       "t2wy/OPlYYJOfMDo/VcM+ZnXKEPfCPY8A3jzAfgE8A8DWQ3jC/4aAQAAAABJRU5ErkJggg==\n",
       "\" style=\"display:inline;vertical-align:middle;\" /></a>, <a class=\"ProveItLink\" href=\"../__pv_it/demonstrations/450b09a2e7241bce4e09a992867b5d1d9c7d2b710/expr.ipynb\"><img src=\"data:image/png;base64,iVBORw0KGgoAAAANSUhEUgAAAHgAAAAZCAMAAADNEhofAAAAOVBMVEX///8AAAAAAAAAAAAAAAAA\n",
       "AAAAAAAAAAAAAAAAAAAAAAAAAAAAAAAAAAAAAAAAAAAAAAAAAAAAAAACXHtMAAAAEnRSTlMAInZU\n",
       "iRDNmWbv3US7qzLt5clL9C8GAAAACXBIWXMAAA7EAAAOxAGVKw4bAAACBUlEQVRIx8VWCZLjIAzk\n",
       "Fodgdvn/YxcQjsGOcTIzlVVVSGyEWrSuMPZJ0ez/iAptVUJ9FpfHulrBWMCPAkdeV5fKkjm58q7r\n",
       "38INjWCea6CdrL+FfNeEeCGPFHpjBE8FDrDKV/lYlhqwt2WR1RONzr+CmYyD4qq90xPRFR0NGWF7\n",
       "Q2cI2BXXtaENA69dN1d+zE1hgCBimd2Adc8noroaATsYnAh9eq3QDtq1lwkYdtciENV//mKjek8u\n",
       "NxocRT6NpKKIuFlboC9iHvmr2VYwujMcH6q1nMqTNJPBW+AeETPSEYyY/UDGD5TgrlAaCJQn6F3E\n",
       "RCGiXALzqETqEVFxeH+MeOkUSd1doruuczmtM18oB1d2sUfEmsHEsa4L6iFBzJk6TzeQjyy/Ata1\n",
       "Phh0E9ItrBae51KX4Qzs6B0ZzEQQ1EzxzrWvjVPIzc9OYcr7/UivCA4xvp0DHbgZDFNJHW7ssEUk\n",
       "bLzvVJw7Pu5ZfSmd6gYJU0nNwDrXR7tdVA5FcG55Ya9jFi6AkczntEXxEri6Fg2TnDrSUMTiWefq\n",
       "IQJzNZxJIRZMhFUJVA+lB0ZKMMbQnKeMQAOc6XrgqrsRUToqsMsGoqNQiUeRiN4wbWHQ5+nksofF\n",
       "BPXpYkMuhh/3x1mLY8t8SS77fVjMPrDs54Lv/6Hgv/KfSeMnfH3qv3jzgPgF3H/WLQ51IX2jzAAA\n",
       "AABJRU5ErkJggg==\n",
       "\" style=\"display:inline;vertical-align:middle;\" /></a>, <a class=\"ProveItLink\" href=\"../../addition/subtraction/__pv_it/theorems/b66b5547fa9b0b910f79351152926c658c2718190/expr.ipynb\"><img src=\"data:image/png;base64,iVBORw0KGgoAAAANSUhEUgAAADEAAAAQBAMAAABNQoq8AAAAMFBMVEX///8AAAAAAAAAAAAAAAAA\n",
       "AAAAAAAAAAAAAAAAAAAAAAAAAAAAAAAAAAAAAAAAAAAv3aB7AAAAD3RSTlMAiXZmMiLdVJm77xBE\n",
       "zatgdeJyAAAACXBIWXMAAA7EAAAOxAGVKw4bAAAAw0lEQVQY02NgwAQbp91VdcQizsD0yoC7fwY2\n",
       "maaDDAzM2GRYGmYDyRfIQpppaReAFN+GCUByM5LEWW0IzcnaABMSUnYAkqy3odw4FgEoK6yAA6Sd\n",
       "NwDKd+QxgLISGbgUQDIwIyJ4FCAMjt8Q2isNCCaA7YGaxjUBQu+E6eHcABXZD9XLBpPhAfuHh4GB\n",
       "H2jfAVCYKMDD4ByQ6AXaM4GBEeRqhuvwcJvbyl0G8pOgMcSL++ZsgIX1rG+tKAF2cBo4dGAAAHWD\n",
       "KgtwTxl0AAAAAElFTkSuQmCC\n",
       "\" style=\"display:inline;vertical-align:middle;\" /></a>, <a class=\"ProveItLink\" href=\"../__pv_it/theorems/e9f87a0977d5044ea8daf1040d2f219396bb3d5b0/expr.ipynb\"><img src=\"data:image/png;base64,iVBORw0KGgoAAAANSUhEUgAAADMAAAAQBAMAAABJt1qBAAAAMFBMVEX///8AAAAAAAAAAAAAAAAA\n",
       "AAAAAAAAAAAAAAAAAAAAAAAAAAAAAAAAAAAAAAAAAAAv3aB7AAAAD3RSTlMAIquJdkTvuxBmmd1U\n",
       "zTKBpmoTAAAACXBIWXMAAA7EAAAOxAGVKw4bAAAA0ElEQVQY02NgwAKaq+86PsYmwcCiNoFjfRVW\n",
       "qSXBDAycWKX4FlQASS0UMffduy8AKaaGAiDZiSwT6wGh2RkXQEUYlR0dwPQNqIAQnwGUFSbA/gNE\n",
       "8wpABR6zToAwODIZuDaApWAGS7E6QBhcHxi4wQY82w0EBWC7oAayFTD0B4AY7TBd7GAXAkG/A8N8\n",
       "MIMbJsUK9hcrUOoAgy4PyAUsDvDQCAISa4HaHXh2cYFF7sDDsHYhx2mg3zhU7IT8wCJNpQ2wkC/7\n",
       "vRA18IKrwQEFAwCqvi28/xxvKQAAAABJRU5ErkJggg==\n",
       "\" style=\"display:inline;vertical-align:middle;\" /></a>, <a class=\"ProveItLink\" href=\"../__pv_it/theorems/a259ec76dfb0a5be60b7c83d797520fa82c1dba60/expr.ipynb\"><img src=\"data:image/png;base64,iVBORw0KGgoAAAANSUhEUgAAADEAAAAQBAMAAABNQoq8AAAAMFBMVEX///8AAAAAAAAAAAAAAAAA\n",
       "AAAAAAAAAAAAAAAAAAAAAAAAAAAAAAAAAAAAAAAAAAAv3aB7AAAAD3RSTlMAELvv3c2ZVESJq3Yi\n",
       "MmZ3LnoBAAAACXBIWXMAAA7EAAAOxAGVKw4bAAAA2UlEQVQY02NgwASSKqF7bjIwMCo7oElwL37A\n",
       "mK8GZLAmoMlkdzIw8IFk+AtQJXgTFIHkMiDuF4AKbXJxCQBSXAIKQFIOiKdAJVo3QmgmHpjxUbuX\n",
       "gyieQCj/FO8ECIPxq4D8AZBDDkBlbnI8gDDYPzIwbwDJwFxwjGMDhMEWwMAP0n7ZBQgUwPZATWOZ\n",
       "wNAPcrcQTA8T2G0Q7+SD3M0Ck+EA+4cDKHOB0Q4cJhvgYdAFJFKBHnvABHF/ODzcVHMYS4BijCvz\n",
       "IAJSGrDAkFT+koMSYJ0q4NCBAQD6uylQEVfDpgAAAABJRU5ErkJggg==\n",
       "\" style=\"display:inline;vertical-align:middle;\" /></a> <a class=\"ProveItLink\" href=\"../__pv_it/demonstrations/f6bd2de838f1817bffc630fb71e0053d314b77b70/proof.ipynb\" style=\"text-decoration: none\">&nbsp;&#x22A2;&nbsp;&nbsp;</a><a class=\"ProveItLink\" href=\"../__pv_it/demonstrations/9c15417bc0c3ab8830cd07c46d1bd907b524d3200/expr.ipynb\"><img src=\"data:image/png;base64,iVBORw0KGgoAAAANSUhEUgAAAQAAAAA2BAMAAADaCFpRAAAAMFBMVEX///8AAAAAAAAAAAAAAAAA\n",
       "AAAAAAAAAAAAAAAAAAAAAAAAAAAAAAAAAAAAAAAAAAAv3aB7AAAAD3RSTlMAiXZmMiLdVJm77xBE\n",
       "zatgdeJyAAAACXBIWXMAAA7EAAAOxAGVKw4bAAAEIklEQVRYw+2YT0hUQRzHf+u6/3zrn0ykk2z+\n",
       "oUMQUh2MiPZQ0q3Fg+DFDOIpFbEGeQiiJ4LQIVyEILokSYIltB0Ncpe6eXHBiySE2qFDBPYPDyo2\n",
       "8/bt7vyev5k3aiRGP9jdN2/n++Y7834z8z4P4G/E64YvsK9hwfD+GtiAK/F9NXB2vw0A1OtWTOzw\n",
       "fDECyiuW39Bsvywp+eOdl/IYqJRdaU0D/cQ540kPc9aqFoZqVMqAFUhotW/kqLOVFvtaVCvfgkrZ\n",
       "deGS3hCEUT+jTqma35c2tXIIld4DVr7a2tK7AxV4WGP53znuvkLdhTFUug36ShT3SAP2FKpUJkEo\n",
       "RxrQULKobSouEoN8Pi23xLCBj42fAXxLynvHc7C7tsNlgFT6Gk+jcmcynCocz7PPbCKyjgwYm+lM\n",
       "Avw5lQHey+hzeJpGBkhloBceoBNXoSJWOO5lonEI9yADoXVeIzSmMhBk2famtbjlOAZIZbAGnqHB\n",
       "y3c3Y9ucYuVVXoX9mub1CdNkwxfOQXUNlK8qszcLMMI7w2LYNF+Y5i3YrrQbGXHlZEV+/IOWY4CV\n",
       "M1k0AszPXBKiY14GJsHYwCPgVtqNTLqkmZhQ6LXL5/EsYJOZuQ71eNwC4zv4V7EBSsmq4ahm6ZMt\n",
       "FEaZgSR8DSWQgTjLC/CnVAYiMTDWoCp3BxuglD9YuqIcSIGvOA0b+KVCfWE0AlWtEcuZaNLgU20U\n",
       "BiwLGSCVbArUoROHTh0vHrezIVqp627G03CZr7PBrMpAORvmmaMXV+J4GlJK3+GT8qUxGKdWwvxy\n",
       "oV7NrpEroY4Shd+iNiNit9kWbeRmpKPE8Uj6wJNSCyOJ3SpxTO+8Aed2p3ardNmNSf5o8VJ2wG6V\n",
       "ByzYFsFj6R/q0pZ+7EGqf9H/OXDQQg8lEzvlSe3QQ0lprWhsO8m5t9kPlholJSKEkv3koj/BvpoI\n",
       "knM/MCU9UFIiWvQCTljgLabpxoR9eC7tgZISUZsXcMLatu2/1JjwJFLvhZISkQCENHBGbRx4Sb9G\n",
       "Ea614IWSEpEAhDRw+noKKFYKm+TESoHl5jWVgUG5SABCGjgrV04k7adgIVlskhMrlTCRjnm5SABC\n",
       "Ejghs2j8AjiHBme9QImFx+FxDleK6JWLBCAkgRPupzki3kU5bZOcCIUOJkpjSi6ygdDYlAInPAT4\n",
       "BnDZha1zSdGlgIlSAzJRHgj7pMDJODbKUmXWtQw45OpUEjBRegtkIgEISeBkywDn8gFkwCY58Vol\n",
       "TKRjVC4SgJAETvjJ3yfAGfFyeZITKgmYSEeDXCQAIQmc8AkeO1O0NA2Xh/AwCZhIR7tcJAAhCZww\n",
       "c4QvVTcl77xiersxQkks6tQCzoDkpUO0Vc8A2kuwaEgLOMOaDe0RJaW1oGuvT0R6KDm98w78WZSU\n",
       "1ipjNn8DAUKsF5ROsN8AAAAASUVORK5CYII=\n",
       "\" style=\"display:inline;vertical-align:middle;\" /></a></span><br>"
      ],
      "text/plain": [
       "<IPython.core.display.HTML object>"
      ]
     },
     "metadata": {},
     "output_type": "display_data"
    }
   ],
   "source": [
    "temp_result = example_frac_04.top_and_bottom_multiplication(\n",
    "        Add(a, b), numerator_mult=\"left\", denominator_mult=\"right\",\n",
    "        assumptions=assumptions+[InSet(Add(b, d), ComplexNonZero), InSet(Add(a,b), ComplexNonZero)])"
   ]
  },
  {
   "cell_type": "markdown",
   "metadata": {},
   "source": [
    "Notice at the end of all these examples that common-factors cancelation should still happen automatically in other contexts (in other words, the suspension of the automatic cancelation simplifications was temporary):"
   ]
  },
  {
   "cell_type": "code",
   "execution_count": 103,
   "metadata": {},
   "outputs": [
    {
     "name": "stdout",
     "output_type": "stream",
     "text": [
      "example_frac_02 = \n"
     ]
    },
    {
     "data": {
      "text/html": [
       "<a class=\"ProveItLink\" href=\"../__pv_it/demonstrations/f76356d7ab83a611b481c661df55d816199ceace0/expr.ipynb\"><img src=\"data:image/png;base64,iVBORw0KGgoAAAANSUhEUgAAACMAAAAlBAMAAAA6rk13AAAAMFBMVEX///8AAAAAAAAAAAAAAAAA\n",
       "AAAAAAAAAAAAAAAAAAAAAAAAAAAAAAAAAAAAAAAAAAAv3aB7AAAAD3RSTlMAiXZmMiLdVJm77xBE\n",
       "zatgdeJyAAAACXBIWXMAAA7EAAAOxAGVKw4bAAAA6klEQVQoz2NgYBBSdmCAAtaHqgpAKqyAYwJM\n",
       "6FQA528glcjApQAV4V7MwJHAwMDxG8L7CyQ4PjCwCTAwcEF1ZTCA2fsPMDDsh+liALPtgRS/AQPD\n",
       "AZhQAcNb9gAGoHWMMEdwKrBncABpQWNtmEbuRyJxKgyDFvxHBx/oav3OZZhiNzCFvmOI8PzGEGJM\n",
       "gNJKJjAh3kd6BaCkkc7QCY/I29xfgRQwyhfBhOo3gNn9GyAKLgCJXgaGj0BqJUQBWwM4FfEAncH9\n",
       "CcVZ4IT0GegcmNAXhl3AJAKyTgQm9JhhBthZwkYbYEL7JICKAO8sRQSRrRArAAAAAElFTkSuQmCC\n",
       "\" style=\"display:inline;vertical-align:middle;\" /></a>"
      ],
      "text/plain": [
       "(c * a) / (c * b)"
      ]
     },
     "metadata": {},
     "output_type": "display_data"
    },
    {
     "data": {
      "text/html": [
       "<span style=\"font-size:20px;\"><a class=\"ProveItLink\" href=\"../../addition/subtraction/__pv_it/theorems/b66b5547fa9b0b910f79351152926c658c2718190/expr.ipynb\"><img src=\"data:image/png;base64,iVBORw0KGgoAAAANSUhEUgAAADEAAAAQBAMAAABNQoq8AAAAMFBMVEX///8AAAAAAAAAAAAAAAAA\n",
       "AAAAAAAAAAAAAAAAAAAAAAAAAAAAAAAAAAAAAAAAAAAv3aB7AAAAD3RSTlMAiXZmMiLdVJm77xBE\n",
       "zatgdeJyAAAACXBIWXMAAA7EAAAOxAGVKw4bAAAAw0lEQVQY02NgwAQbp91VdcQizsD0yoC7fwY2\n",
       "maaDDAzM2GRYGmYDyRfIQpppaReAFN+GCUByM5LEWW0IzcnaABMSUnYAkqy3odw4FgEoK6yAA6Sd\n",
       "NwDKd+QxgLISGbgUQDIwIyJ4FCAMjt8Q2isNCCaA7YGaxjUBQu+E6eHcABXZD9XLBpPhAfuHh4GB\n",
       "H2jfAVCYKMDD4ByQ6AXaM4GBEeRqhuvwcJvbyl0G8pOgMcSL++ZsgIX1rG+tKAF2cBo4dGAAAHWD\n",
       "KgtwTxl0AAAAAElFTkSuQmCC\n",
       "\" style=\"display:inline;vertical-align:middle;\" /></a>, <a class=\"ProveItLink\" href=\"../__pv_it/demonstrations/1034b099268ebc68ab71d757a423d98a8a315f520/expr.ipynb\"><img src=\"data:image/png;base64,iVBORw0KGgoAAAANSUhEUgAAAC8AAAAUCAMAAAAqRJTwAAAAPFBMVEX///8AAAAAAAAAAAAAAAAA\n",
       "AAAAAAAAAAAAAAAAAAAAAAAAAAAAAAAAAAAAAAAAAAAAAAAAAAAAAAAAAAAo1xBWAAAAE3RSTlMA\n",
       "iXZmMiLdVJm77xBEq83n9enzzp4SPQAAAAlwSFlzAAAOxAAADsQBlSsOGwAAAMxJREFUKM+VkusS\n",
       "hCAIhVFMUcu9+P7vuorjrrXGjPywmA4fBxLgPijCShg/Zkpp2kS9N0OSHEC0UoE5hgQt9/ASfoR5\n",
       "Lnb5fqJ9xEMmbpldm0VrNBd9GvGx67Gcmy1V1K2R5Xg869l7bFk1vS6nre9BC/ifvjxoNsROpzQ2\n",
       "/V75YbakdNl08+/KvDGfnbD/17tN8d2RZyhWKzxz6XXCXy1iYFaCvhk17tPRn8G6wxhMu0mIOor4\n",
       "oiWlDzP/tU4t3eMZXgpcxNs1PBjp4wcaEgV/DsHsSgAAAABJRU5ErkJggg==\n",
       "\" style=\"display:inline;vertical-align:middle;\" /></a>, <a class=\"ProveItLink\" href=\"../__pv_it/theorems/a259ec76dfb0a5be60b7c83d797520fa82c1dba60/expr.ipynb\"><img src=\"data:image/png;base64,iVBORw0KGgoAAAANSUhEUgAAADEAAAAQBAMAAABNQoq8AAAAMFBMVEX///8AAAAAAAAAAAAAAAAA\n",
       "AAAAAAAAAAAAAAAAAAAAAAAAAAAAAAAAAAAAAAAAAAAv3aB7AAAAD3RSTlMAELvv3c2ZVESJq3Yi\n",
       "MmZ3LnoBAAAACXBIWXMAAA7EAAAOxAGVKw4bAAAA2UlEQVQY02NgwASSKqF7bjIwMCo7oElwL37A\n",
       "mK8GZLAmoMlkdzIw8IFk+AtQJXgTFIHkMiDuF4AKbXJxCQBSXAIKQFIOiKdAJVo3QmgmHpjxUbuX\n",
       "gyieQCj/FO8ECIPxq4D8AZBDDkBlbnI8gDDYPzIwbwDJwFxwjGMDhMEWwMAP0n7ZBQgUwPZATWOZ\n",
       "wNAPcrcQTA8T2G0Q7+SD3M0Ck+EA+4cDKHOB0Q4cJhvgYdAFJFKBHnvABHF/ODzcVHMYS4BijCvz\n",
       "IAJSGrDAkFT+koMSYJ0q4NCBAQD6uylQEVfDpgAAAABJRU5ErkJggg==\n",
       "\" style=\"display:inline;vertical-align:middle;\" /></a>, <a class=\"ProveItLink\" href=\"../__pv_it/theorems/1157e8bc07ff5d23e5b8809064b9e77def3bc8980/expr.ipynb\"><img src=\"data:image/png;base64,iVBORw0KGgoAAAANSUhEUgAAAC8AAAAUCAMAAAAqRJTwAAAAPFBMVEX///8AAAAAAAAAAAAAAAAA\n",
       "AAAAAAAAAAAAAAAAAAAAAAAAAAAAAAAAAAAAAAAAAAAAAAAAAAAAAAAAAAAo1xBWAAAAE3RSTlMA\n",
       "ELvv3c2ZVESJq3YiMmbn9enzVleb9QAAAAlwSFlzAAAOxAAADsQBlSsOGwAAANlJREFUKM+VkusS\n",
       "xBAMhcUlGspevP+7LjG6bK0ZfmhSn+OICPF/IMz+glR6igfZZ0QezxoanPIydImxWVnXDclO5V2X\n",
       "RLZAfOKRpj7l2Se82TJJU/tHLy8SWw7sxDjv3c2S6eWh8bHEBvLUllHzeDzL3M44E1XeN1PKL+S/\n",
       "fP6gYYM0uh9LDHX5KPqaOLIL+XZfWygm8aop+3+96y2uGkmufCxUys8IKo7yvy8SFWsV6y6jcrRr\n",
       "7w2iSz+o0iHgCKNYy2cKybsw72NLYmsY2MLjprzekxdhtfgBfooGZl93KjkAAAAASUVORK5CYII=\n",
       "\" style=\"display:inline;vertical-align:middle;\" /></a>, <a class=\"ProveItLink\" href=\"../__pv_it/theorems/e9f87a0977d5044ea8daf1040d2f219396bb3d5b0/expr.ipynb\"><img src=\"data:image/png;base64,iVBORw0KGgoAAAANSUhEUgAAADMAAAAQBAMAAABJt1qBAAAAMFBMVEX///8AAAAAAAAAAAAAAAAA\n",
       "AAAAAAAAAAAAAAAAAAAAAAAAAAAAAAAAAAAAAAAAAAAv3aB7AAAAD3RSTlMAIquJdkTvuxBmmd1U\n",
       "zTKBpmoTAAAACXBIWXMAAA7EAAAOxAGVKw4bAAAA0ElEQVQY02NgwAKaq+86PsYmwcCiNoFjfRVW\n",
       "qSXBDAycWKX4FlQASS0UMffduy8AKaaGAiDZiSwT6wGh2RkXQEUYlR0dwPQNqIAQnwGUFSbA/gNE\n",
       "8wpABR6zToAwODIZuDaApWAGS7E6QBhcHxi4wQY82w0EBWC7oAayFTD0B4AY7TBd7GAXAkG/A8N8\n",
       "MIMbJsUK9hcrUOoAgy4PyAUsDvDQCAISa4HaHXh2cYFF7sDDsHYhx2mg3zhU7IT8wCJNpQ2wkC/7\n",
       "vRA18IKrwQEFAwCqvi28/xxvKQAAAABJRU5ErkJggg==\n",
       "\" style=\"display:inline;vertical-align:middle;\" /></a> <a class=\"ProveItLink\" href=\"../__pv_it/demonstrations/46e99bcb2b252b7a42ecd072cc04e4551bea1e540/proof.ipynb\" style=\"text-decoration: none\">&nbsp;&#x22A2;&nbsp;&nbsp;</a><a class=\"ProveItLink\" href=\"../__pv_it/demonstrations/9950fda2a8564547cae854c39b6a5a948b653ccf0/expr.ipynb\"><img src=\"data:image/png;base64,iVBORw0KGgoAAAANSUhEUgAAAE8AAAAlBAMAAADxdamJAAAAMFBMVEX///8AAAAAAAAAAAAAAAAA\n",
       "AAAAAAAAAAAAAAAAAAAAAAAAAAAAAAAAAAAAAAAAAAAv3aB7AAAAD3RSTlMAiXZmMiLdVJm77xBE\n",
       "zatgdeJyAAAACXBIWXMAAA7EAAAOxAGVKw4bAAABMklEQVQ4y2NgYBBSdmCAAtaHqgoMGAAqGlbA\n",
       "MQEmdCqA8zemQqhoIgMXzBTuxQwcCRjqoKIcECO4/wIJjg8MbAIYCqGiXFB7MxjA7P0HMBRCRfcj\n",
       "uR7Itsd0IlSU34CBAWbK/gKGt+wBGAohokAvM8KCh1OBPYMDw0SYqKCxNtx/j0TiVDB9jVV0RAOO\n",
       "NDB4QI7e/+jgA1YVHwbSjTQGO5cRK3oDq34sot+xKsQU5fmNTR0WUcYEbAphooxKJjAh3kd6BZgK\n",
       "oaKs6Qyd8Jx5m/srlowNEQUWF4tgQvUbEGwEgIr2b4BouwAkehkYPmIqhIquhPDYGsAlGw+WAIKI\n",
       "cn9CCTCO39iCESz6GRhQMKEvDLsMMBVCRYFeFoEJPWaYgSUcoaKMwkYbYEL7JLAYCBEFAFuLcooF\n",
       "nlpzAAAAAElFTkSuQmCC\n",
       "\" style=\"display:inline;vertical-align:middle;\" /></a></span>"
      ],
      "text/plain": [
       "{c in Complex, c != 0, b in Complex, b != 0, a in Complex} |- ((c * a) / (c * b)) = (a / b)"
      ]
     },
     "metadata": {},
     "output_type": "display_data"
    }
   ],
   "source": [
    "# recall\n",
    "print(\"example_frac_02 = \")\n",
    "display(example_frac_02)\n",
    "example_frac_02.simplification(assumptions=assumptions)"
   ]
  },
  {
   "cell_type": "code",
   "execution_count": 104,
   "metadata": {},
   "outputs": [],
   "source": [
    "%end demonstrations"
   ]
  }
 ],
 "metadata": {
  "kernelspec": {
   "display_name": "Python 3",
   "language": "python",
   "name": "python3"
  }
 },
 "nbformat": 4,
 "nbformat_minor": 0
}