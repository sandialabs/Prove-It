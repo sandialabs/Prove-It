{
 "cells": [
  {
   "cell_type": "markdown",
   "metadata": {},
   "source": [
    "Expression of type <a class=\"ProveItLink\" href=\"../../../../../../../doc/html/api/proveit.Lambda.html\">Lambda</a>\n",
    "=======================\n",
    "# from the theory of <a class=\"ProveItLink\" href=\"../../../_theory_nbs_/theory.ipynb\">proveit.numbers.division</a>"
   ]
  },
  {
   "cell_type": "code",
   "execution_count": 1,
   "metadata": {},
   "outputs": [],
   "source": [
    "import proveit\n",
    "# Automation is not needed when building an expression:\n",
    "proveit.defaults.automation = False # This will speed things up.\n",
    "proveit.defaults.inline_pngs = False # Makes files smaller.\n",
    "%load_expr # Load the stored expression as 'stored_expr'\n",
    "# import Expression classes needed to build the expression\n",
    "from proveit import Conditional, Lambda, a, x, y\n",
    "from proveit.logic import And, InSet\n",
    "from proveit.numbers import Less, RealPos, frac, greater"
   ]
  },
  {
   "cell_type": "code",
   "execution_count": 2,
   "metadata": {},
   "outputs": [
    {
     "data": {
      "text/html": [
       "<strong id=\"expr\">expr:</strong> <a class=\"ProveItLink\" href=\"expr.ipynb\"><img src=\"expr.png\" style=\"display:inline;vertical-align:middle;\" /></a><br>"
      ],
      "text/plain": [
       "<IPython.core.display.HTML object>"
      ]
     },
     "metadata": {},
     "output_type": "display_data"
    }
   ],
   "source": [
    "# build up the expression from sub-expressions\n",
    "expr = Lambda([a, x, y], Conditional(greater(frac(a, x), frac(a, y)), And(InSet(a, RealPos), InSet(x, RealPos), InSet(y, RealPos), Less(x, y))))"
   ]
  },
  {
   "cell_type": "code",
   "execution_count": 3,
   "metadata": {},
   "outputs": [
    {
     "name": "stdout",
     "output_type": "stream",
     "text": [
      "Passed sanity check: expr matches stored_expr\n"
     ]
    }
   ],
   "source": [
    "# check that the built expression is the same as the stored expression\n",
    "assert expr == stored_expr\n",
    "assert expr._style_id == stored_expr._style_id\n",
    "print(\"Passed sanity check: expr matches stored_expr\")"
   ]
  },
  {
   "cell_type": "code",
   "execution_count": 4,
   "metadata": {},
   "outputs": [
    {
     "name": "stdout",
     "output_type": "stream",
     "text": [
      "\\left(a, x, y\\right) \\mapsto \\left\\{\\frac{a}{x} > \\frac{a}{y} \\textrm{ if } a \\in \\mathbb{R}^+ ,  x \\in \\mathbb{R}^+ ,  y \\in \\mathbb{R}^+ ,  x < y\\right..\n"
     ]
    }
   ],
   "source": [
    "# Show the LaTeX representation of the expression for convenience if you need it.\n",
    "print(stored_expr.latex())"
   ]
  },
  {
   "cell_type": "code",
   "execution_count": 5,
   "metadata": {},
   "outputs": [
    {
     "data": {
      "text/html": [
       "no style options"
      ],
      "text/plain": [
       "no style options"
      ]
     },
     "metadata": {},
     "output_type": "display_data"
    }
   ],
   "source": [
    "stored_expr.style_options()"
   ]
  },
  {
   "cell_type": "code",
   "execution_count": 6,
   "metadata": {},
   "outputs": [
    {
     "data": {
      "text/html": [
       "<table><tr><th>&nbsp;</th><th>core type</th><th>sub-expressions</th><th>expression</th></tr>\n",
       "<tr><td>0</td><td>Lambda</td><td>parameters:&nbsp;1<br>body:&nbsp;2<br></td><td><a class=\"ProveItLink\" href=\"expr.ipynb\"><img src=\"expr.png\" style=\"display:inline;vertical-align:middle;\" /></a></td></tr>\n",
       "<tr><td>1</td><td>ExprTuple</td><td>23, 25, 26</td><td><a class=\"ProveItLink\" href=\"../30c1d214acb0a05da09968caa7ff905d11d7f4910/expr.ipynb\"><img src=\"../30c1d214acb0a05da09968caa7ff905d11d7f4910/expr.png\" style=\"display:inline;vertical-align:middle;\" /></a></td></tr>\n",
       "<tr><td>2</td><td>Conditional</td><td>value:&nbsp;3<br>condition:&nbsp;4<br></td><td><a class=\"ProveItLink\" href=\"../ba4b1e8accd0cc3a4c146edff55f0de4b19bc5f60/expr.ipynb\"><img src=\"../ba4b1e8accd0cc3a4c146edff55f0de4b19bc5f60/expr.png\" style=\"display:inline;vertical-align:middle;\" /></a></td></tr>\n",
       "<tr><td>3</td><td>Operation</td><td>operator:&nbsp;21<br>operands:&nbsp;5<br></td><td><a class=\"ProveItLink\" href=\"../7bf01a9b5bd0944954af9a8fb58aedb0c2312c5f0/expr.ipynb\"><img src=\"../7bf01a9b5bd0944954af9a8fb58aedb0c2312c5f0/expr.png\" style=\"display:inline;vertical-align:middle;\" /></a></td></tr>\n",
       "<tr><td>4</td><td>Operation</td><td>operator:&nbsp;6<br>operands:&nbsp;7<br></td><td><a class=\"ProveItLink\" href=\"../59b0268bcdceac8b1814db648411ac87439ed8b30/expr.ipynb\"><img src=\"../59b0268bcdceac8b1814db648411ac87439ed8b30/expr.png\" style=\"display:inline;vertical-align:middle;\" /></a></td></tr>\n",
       "<tr><td>5</td><td>ExprTuple</td><td>8, 9</td><td><a class=\"ProveItLink\" href=\"../f001ea4d86875626ebf58db3e167fde1b36604930/expr.ipynb\"><img src=\"../f001ea4d86875626ebf58db3e167fde1b36604930/expr.png\" style=\"display:inline;vertical-align:middle;\" /></a></td></tr>\n",
       "<tr><td>6</td><td>Literal</td><td></td><td><a class=\"ProveItLink\" href=\"../../../../../logic/booleans/conjunction/__pv_it/common/42118ff318bd65d98b1393f64ce7c2269feef76e0/expr.ipynb\"><img src=\"../../../../../logic/booleans/conjunction/__pv_it/common/42118ff318bd65d98b1393f64ce7c2269feef76e0/expr.png\" style=\"display:inline;vertical-align:middle;\" /></a></td></tr>\n",
       "<tr><td>7</td><td>ExprTuple</td><td>10, 11, 12, 13</td><td><a class=\"ProveItLink\" href=\"../e13a9542852ff8b991e9f92a5ff29baa5c74f5e90/expr.ipynb\"><img src=\"../e13a9542852ff8b991e9f92a5ff29baa5c74f5e90/expr.png\" style=\"display:inline;vertical-align:middle;\" /></a></td></tr>\n",
       "<tr><td>8</td><td>Operation</td><td>operator:&nbsp;15<br>operands:&nbsp;14<br></td><td><a class=\"ProveItLink\" href=\"../697f501ea0e7e7fc821f532b92cb6c440b1392410/expr.ipynb\"><img src=\"../697f501ea0e7e7fc821f532b92cb6c440b1392410/expr.png\" style=\"display:inline;vertical-align:middle;\" /></a></td></tr>\n",
       "<tr><td>9</td><td>Operation</td><td>operator:&nbsp;15<br>operands:&nbsp;16<br></td><td><a class=\"ProveItLink\" href=\"../9e8c61fd092421d6ad666ceca25eba40b46237020/expr.ipynb\"><img src=\"../9e8c61fd092421d6ad666ceca25eba40b46237020/expr.png\" style=\"display:inline;vertical-align:middle;\" /></a></td></tr>\n",
       "<tr><td>10</td><td>Operation</td><td>operator:&nbsp;19<br>operands:&nbsp;17<br></td><td><a class=\"ProveItLink\" href=\"../5a0c211ed8c0f89e15d717d80d4627baae693acb0/expr.ipynb\"><img src=\"../5a0c211ed8c0f89e15d717d80d4627baae693acb0/expr.png\" style=\"display:inline;vertical-align:middle;\" /></a></td></tr>\n",
       "<tr><td>11</td><td>Operation</td><td>operator:&nbsp;19<br>operands:&nbsp;18<br></td><td><a class=\"ProveItLink\" href=\"../035b7dc808b6932bfddd867383528b54b30ff3c50/expr.ipynb\"><img src=\"../035b7dc808b6932bfddd867383528b54b30ff3c50/expr.png\" style=\"display:inline;vertical-align:middle;\" /></a></td></tr>\n",
       "<tr><td>12</td><td>Operation</td><td>operator:&nbsp;19<br>operands:&nbsp;20<br></td><td><a class=\"ProveItLink\" href=\"../f7520a13bd7584f005356ec359b6594d35c956560/expr.ipynb\"><img src=\"../f7520a13bd7584f005356ec359b6594d35c956560/expr.png\" style=\"display:inline;vertical-align:middle;\" /></a></td></tr>\n",
       "<tr><td>13</td><td>Operation</td><td>operator:&nbsp;21<br>operands:&nbsp;22<br></td><td><a class=\"ProveItLink\" href=\"../8846042a23bd4715f8e6849c9188a77fefec509b0/expr.ipynb\"><img src=\"../8846042a23bd4715f8e6849c9188a77fefec509b0/expr.png\" style=\"display:inline;vertical-align:middle;\" /></a></td></tr>\n",
       "<tr><td>14</td><td>ExprTuple</td><td>23, 26</td><td><a class=\"ProveItLink\" href=\"../ef6376c7c6407225d32b6b693cda698fb64ddaa30/expr.ipynb\"><img src=\"../ef6376c7c6407225d32b6b693cda698fb64ddaa30/expr.png\" style=\"display:inline;vertical-align:middle;\" /></a></td></tr>\n",
       "<tr><td>15</td><td>Literal</td><td></td><td><a class=\"ProveItLink\" href=\"../../common/a2a633e1e3c749fb1f2692466b287b6348c5de840/expr.ipynb\"><img src=\"../../common/a2a633e1e3c749fb1f2692466b287b6348c5de840/expr.png\" style=\"display:inline;vertical-align:middle;\" /></a></td></tr>\n",
       "<tr><td>16</td><td>ExprTuple</td><td>23, 25</td><td><a class=\"ProveItLink\" href=\"../16542dff4296b36f053bf5d488afb46dffba9b230/expr.ipynb\"><img src=\"../16542dff4296b36f053bf5d488afb46dffba9b230/expr.png\" style=\"display:inline;vertical-align:middle;\" /></a></td></tr>\n",
       "<tr><td>17</td><td>ExprTuple</td><td>23, 24</td><td><a class=\"ProveItLink\" href=\"../caea83d54eb58dbad91ef10a83b3aa6f91eff2820/expr.ipynb\"><img src=\"../caea83d54eb58dbad91ef10a83b3aa6f91eff2820/expr.png\" style=\"display:inline;vertical-align:middle;\" /></a></td></tr>\n",
       "<tr><td>18</td><td>ExprTuple</td><td>25, 24</td><td><a class=\"ProveItLink\" href=\"../f51aa1be41cb959917c41325a60f4a9a24e23a6e0/expr.ipynb\"><img src=\"../f51aa1be41cb959917c41325a60f4a9a24e23a6e0/expr.png\" style=\"display:inline;vertical-align:middle;\" /></a></td></tr>\n",
       "<tr><td>19</td><td>Literal</td><td></td><td><a class=\"ProveItLink\" href=\"../../../../../logic/sets/membership/__pv_it/common/477487d8796864d23d5810f83761435f25167f690/expr.ipynb\"><img src=\"../../../../../logic/sets/membership/__pv_it/common/477487d8796864d23d5810f83761435f25167f690/expr.png\" style=\"display:inline;vertical-align:middle;\" /></a></td></tr>\n",
       "<tr><td>20</td><td>ExprTuple</td><td>26, 24</td><td><a class=\"ProveItLink\" href=\"../e3066864cb9809a9d0d90e8e424d5f5192ced3bf0/expr.ipynb\"><img src=\"../e3066864cb9809a9d0d90e8e424d5f5192ced3bf0/expr.png\" style=\"display:inline;vertical-align:middle;\" /></a></td></tr>\n",
       "<tr><td>21</td><td>Literal</td><td></td><td><a class=\"ProveItLink\" href=\"../../../../ordering/__pv_it/common/fa503ed52033522c609eef1cf3e1b45796489da50/expr.ipynb\"><img src=\"../../../../ordering/__pv_it/common/fa503ed52033522c609eef1cf3e1b45796489da50/expr.png\" style=\"display:inline;vertical-align:middle;\" /></a></td></tr>\n",
       "<tr><td>22</td><td>ExprTuple</td><td>25, 26</td><td><a class=\"ProveItLink\" href=\"../bbaa48af4605eceb7fbc4af345a1eb6de480e1c50/expr.ipynb\"><img src=\"../bbaa48af4605eceb7fbc4af345a1eb6de480e1c50/expr.png\" style=\"display:inline;vertical-align:middle;\" /></a></td></tr>\n",
       "<tr><td>23</td><td>Variable</td><td></td><td><a class=\"ProveItLink\" href=\"../../../../../__pv_it/common/c06c606ec12678c58933ac85412ecadc2ae28be60/expr.ipynb\"><img src=\"../../../../../__pv_it/common/c06c606ec12678c58933ac85412ecadc2ae28be60/expr.png\" style=\"display:inline;vertical-align:middle;\" /></a></td></tr>\n",
       "<tr><td>24</td><td>Literal</td><td></td><td><a class=\"ProveItLink\" href=\"../../../../number_sets/real_numbers/__pv_it/common/174917e13d50b91c585b7f765a2896383a3ae8010/expr.ipynb\"><img src=\"../../../../number_sets/real_numbers/__pv_it/common/174917e13d50b91c585b7f765a2896383a3ae8010/expr.png\" style=\"display:inline;vertical-align:middle;\" /></a></td></tr>\n",
       "<tr><td>25</td><td>Variable</td><td></td><td><a class=\"ProveItLink\" href=\"../../../../../__pv_it/common/a0d9d672aa5e272d907247690c152cc2c6daafb70/expr.ipynb\"><img src=\"../../../../../__pv_it/common/a0d9d672aa5e272d907247690c152cc2c6daafb70/expr.png\" style=\"display:inline;vertical-align:middle;\" /></a></td></tr>\n",
       "<tr><td>26</td><td>Variable</td><td></td><td><a class=\"ProveItLink\" href=\"../../../../../__pv_it/common/ff7dba4ef0bbe791ab573bf2d9c220a304399ac80/expr.ipynb\"><img src=\"../../../../../__pv_it/common/ff7dba4ef0bbe791ab573bf2d9c220a304399ac80/expr.png\" style=\"display:inline;vertical-align:middle;\" /></a></td></tr>\n",
       "</table>\n"
      ],
      "text/plain": [
       "0. (a, x, y) -> {(a / x) > (a / y) if a in RealPos ,  x in RealPos ,  y in RealPos ,  x < y.\n",
       "   core type: Lambda\n",
       "   parameters: 1\\n   body: 2\n",
       "1. (a, x, y)\n",
       "   core type: ExprTuple\n",
       "   sub-expressions: 23, 25, 26\n",
       "2. {(a / x) > (a / y) if a in RealPos ,  x in RealPos ,  y in RealPos ,  x < y.\n",
       "   core type: Conditional\n",
       "   value: 3\n",
       "   condition: 4\n",
       "3. (a / x) > (a / y)\n",
       "   core type: Operation\n",
       "   operator: 21\n",
       "   operands: 5\n",
       "4. (a in RealPos) and (x in RealPos) and (y in RealPos) and (x < y)\n",
       "   core type: Operation\n",
       "   operator: 6\n",
       "   operands: 7\n",
       "5. (a / y, a / x)\n",
       "   core type: ExprTuple\n",
       "   sub-expressions: 8, 9\n",
       "6. and\n",
       "   core type: Literal\n",
       "   sub-expressions: \n",
       "7. (a in RealPos, x in RealPos, y in RealPos, x < y)\n",
       "   core type: ExprTuple\n",
       "   sub-expressions: 10, 11, 12, 13\n",
       "8. a / y\n",
       "   core type: Operation\n",
       "   operator: 15\n",
       "   operands: 14\n",
       "9. a / x\n",
       "   core type: Operation\n",
       "   operator: 15\n",
       "   operands: 16\n",
       "10. a in RealPos\n",
       "    core type: Operation\n",
       "    operator: 19\n",
       "    operands: 17\n",
       "11. x in RealPos\n",
       "    core type: Operation\n",
       "    operator: 19\n",
       "    operands: 18\n",
       "12. y in RealPos\n",
       "    core type: Operation\n",
       "    operator: 19\n",
       "    operands: 20\n",
       "13. x < y\n",
       "    core type: Operation\n",
       "    operator: 21\n",
       "    operands: 22\n",
       "14. (a, y)\n",
       "    core type: ExprTuple\n",
       "    sub-expressions: 23, 26\n",
       "15. /\n",
       "    core type: Literal\n",
       "    sub-expressions: \n",
       "16. (a, x)\n",
       "    core type: ExprTuple\n",
       "    sub-expressions: 23, 25\n",
       "17. (a, RealPos)\n",
       "    core type: ExprTuple\n",
       "    sub-expressions: 23, 24\n",
       "18. (x, RealPos)\n",
       "    core type: ExprTuple\n",
       "    sub-expressions: 25, 24\n",
       "19. in\n",
       "    core type: Literal\n",
       "    sub-expressions: \n",
       "20. (y, RealPos)\n",
       "    core type: ExprTuple\n",
       "    sub-expressions: 26, 24\n",
       "21. <\n",
       "    core type: Literal\n",
       "    sub-expressions: \n",
       "22. (x, y)\n",
       "    core type: ExprTuple\n",
       "    sub-expressions: 25, 26\n",
       "23. a\n",
       "    core type: Variable\n",
       "    sub-expressions: \n",
       "24. RealPos\n",
       "    core type: Literal\n",
       "    sub-expressions: \n",
       "25. x\n",
       "    core type: Variable\n",
       "    sub-expressions: \n",
       "26. y\n",
       "    core type: Variable\n",
       "    sub-expressions: "
      ]
     },
     "metadata": {},
     "output_type": "display_data"
    }
   ],
   "source": [
    "# display the expression information\n",
    "stored_expr.expr_info()"
   ]
  },
  {
   "cell_type": "code",
   "execution_count": null,
   "metadata": {},
   "outputs": [],
   "source": []
  }
 ],
 "metadata": {
  "kernelspec": {
   "display_name": "Python 3",
   "language": "python",
   "name": "python3"
  }
 },
 "nbformat": 4,
 "nbformat_minor": 0
}