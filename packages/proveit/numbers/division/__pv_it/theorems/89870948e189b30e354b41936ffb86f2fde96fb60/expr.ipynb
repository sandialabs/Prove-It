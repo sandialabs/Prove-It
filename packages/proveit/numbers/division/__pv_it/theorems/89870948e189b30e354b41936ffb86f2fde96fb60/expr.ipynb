{
 "cells": [
  {
   "cell_type": "markdown",
   "metadata": {},
   "source": [
    "Expression of type <a class=\"ProveItLink\" href=\"../../../../../../../doc/html/api/proveit.ExprTuple.html\">ExprTuple</a>\n",
    "=======================\n",
    "# from the theory of <a class=\"ProveItLink\" href=\"../../../_theory_nbs_/theory.ipynb\">proveit.numbers.division</a>"
   ]
  },
  {
   "cell_type": "code",
   "execution_count": 1,
   "metadata": {},
   "outputs": [],
   "source": [
    "import proveit\n",
    "# Automation is not needed when building an expression:\n",
    "proveit.defaults.automation = False # This will speed things up.\n",
    "proveit.defaults.inline_pngs = False # Makes files smaller.\n",
    "%load_expr # Load the stored expression as 'stored_expr'\n",
    "# import Expression classes needed to build the expression\n",
    "from proveit import ExprTuple, Lambda, P, Py, S, y, z\n",
    "from proveit.logic import Equals, Forall, Implies, InSet, NotEquals\n",
    "from proveit.numbers import Complex, Sum, frac, zero"
   ]
  },
  {
   "cell_type": "code",
   "execution_count": 2,
   "metadata": {},
   "outputs": [
    {
     "data": {
      "text/html": [
       "<strong id=\"expr\">expr:</strong> <a class=\"ProveItLink\" href=\"expr.ipynb\"><img src=\"expr.png\" style=\"display:inline;vertical-align:middle;\" /></a><br>"
      ],
      "text/plain": [
       "<IPython.core.display.HTML object>"
      ]
     },
     "metadata": {},
     "output_type": "display_data"
    }
   ],
   "source": [
    "# build up the expression from sub-expressions\n",
    "sub_expr1 = [y]\n",
    "expr = ExprTuple(Lambda([P, S], Implies(Forall(instance_param_or_params = sub_expr1, instance_expr = InSet(Py, Complex), domain = S), Forall(instance_param_or_params = [z], instance_expr = Equals(frac(Sum(index_or_indices = sub_expr1, summand = Py, domain = S), z), Sum(index_or_indices = sub_expr1, summand = frac(Py, z), domain = S)), domain = Complex, condition = NotEquals(z, zero)))))"
   ]
  },
  {
   "cell_type": "code",
   "execution_count": 3,
   "metadata": {},
   "outputs": [
    {
     "name": "stdout",
     "output_type": "stream",
     "text": [
      "Passed sanity check: expr matches stored_expr\n"
     ]
    }
   ],
   "source": [
    "# check that the built expression is the same as the stored expression\n",
    "assert expr == stored_expr\n",
    "assert expr._style_id == stored_expr._style_id\n",
    "print(\"Passed sanity check: expr matches stored_expr\")"
   ]
  },
  {
   "cell_type": "code",
   "execution_count": 4,
   "metadata": {},
   "outputs": [
    {
     "name": "stdout",
     "output_type": "stream",
     "text": [
      "\\left(\\left(P, S\\right) \\mapsto \\left(\\left[\\forall_{y \\in S}~\\left(P\\left(y\\right) \\in \\mathbb{C}\\right)\\right] \\Rightarrow \\left[\\forall_{z \\in \\mathbb{C}~|~z \\neq 0}~\\left(\\frac{\\sum_{y \\in S}~P\\left(y\\right)}{z} = \\left[\\sum_{y \\in S}~\\frac{P\\left(y\\right)}{z}\\right]\\right)\\right]\\right)\\right)\n"
     ]
    }
   ],
   "source": [
    "# Show the LaTeX representation of the expression for convenience if you need it.\n",
    "print(stored_expr.latex())"
   ]
  },
  {
   "cell_type": "code",
   "execution_count": 5,
   "metadata": {},
   "outputs": [
    {
     "data": {
      "text/html": [
       "no style options"
      ],
      "text/plain": [
       "no style options"
      ]
     },
     "metadata": {},
     "output_type": "display_data"
    }
   ],
   "source": [
    "stored_expr.style_options()"
   ]
  },
  {
   "cell_type": "code",
   "execution_count": 6,
   "metadata": {},
   "outputs": [
    {
     "data": {
      "text/html": [
       "<table><tr><th>&nbsp;</th><th>core type</th><th>sub-expressions</th><th>expression</th></tr>\n",
       "<tr><td>0</td><td>ExprTuple</td><td>1</td><td><a class=\"ProveItLink\" href=\"expr.ipynb\"><img src=\"expr.png\" style=\"display:inline;vertical-align:middle;\" /></a></td></tr>\n",
       "<tr><td>1</td><td>Lambda</td><td>parameters:&nbsp;2<br>body:&nbsp;3<br></td><td><a class=\"ProveItLink\" href=\"../612ef862c6107c96e801ee2a8f369a36e699b7110/expr.ipynb\"><img src=\"../612ef862c6107c96e801ee2a8f369a36e699b7110/expr.png\" style=\"display:inline;vertical-align:middle;\" /></a></td></tr>\n",
       "<tr><td>2</td><td>ExprTuple</td><td>50, 52</td><td><a class=\"ProveItLink\" href=\"../e09cb6d0248116a4f5872560cc1a0acb75ad50550/expr.ipynb\"><img src=\"../e09cb6d0248116a4f5872560cc1a0acb75ad50550/expr.png\" style=\"display:inline;vertical-align:middle;\" /></a></td></tr>\n",
       "<tr><td>3</td><td>Operation</td><td>operator:&nbsp;4<br>operands:&nbsp;5<br></td><td><a class=\"ProveItLink\" href=\"../c9514386717ead092906036454719b4ec02dd1f50/expr.ipynb\"><img src=\"../c9514386717ead092906036454719b4ec02dd1f50/expr.png\" style=\"display:inline;vertical-align:middle;\" /></a></td></tr>\n",
       "<tr><td>4</td><td>Literal</td><td></td><td><a class=\"ProveItLink\" href=\"../../../../../logic/booleans/implication/__pv_it/common/02bdb382575728da8cdbaed545b9096ea7a1bd5b0/expr.ipynb\"><img src=\"../../../../../logic/booleans/implication/__pv_it/common/02bdb382575728da8cdbaed545b9096ea7a1bd5b0/expr.png\" style=\"display:inline;vertical-align:middle;\" /></a></td></tr>\n",
       "<tr><td>5</td><td>ExprTuple</td><td>6, 7</td><td><a class=\"ProveItLink\" href=\"../aa2609320e80282c341d616828b0a032492515560/expr.ipynb\"><img src=\"../aa2609320e80282c341d616828b0a032492515560/expr.png\" style=\"display:inline;vertical-align:middle;\" /></a></td></tr>\n",
       "<tr><td>6</td><td>Operation</td><td>operator:&nbsp;9<br>operand:&nbsp;11<br></td><td><a class=\"ProveItLink\" href=\"../8736079660f227d30409555a8c7f978c11aa06440/expr.ipynb\"><img src=\"../8736079660f227d30409555a8c7f978c11aa06440/expr.png\" style=\"display:inline;vertical-align:middle;\" /></a></td></tr>\n",
       "<tr><td>7</td><td>Operation</td><td>operator:&nbsp;9<br>operand:&nbsp;12<br></td><td><a class=\"ProveItLink\" href=\"../2d219b33f054a45f50d3ae599c4f726eb9d260510/expr.ipynb\"><img src=\"../2d219b33f054a45f50d3ae599c4f726eb9d260510/expr.png\" style=\"display:inline;vertical-align:middle;\" /></a></td></tr>\n",
       "<tr><td>8</td><td>ExprTuple</td><td>11</td><td><a class=\"ProveItLink\" href=\"../0797a1c578edb1d97900b97c4dcee78ca6ce14870/expr.ipynb\"><img src=\"../0797a1c578edb1d97900b97c4dcee78ca6ce14870/expr.png\" style=\"display:inline;vertical-align:middle;\" /></a></td></tr>\n",
       "<tr><td>9</td><td>Literal</td><td></td><td><a class=\"ProveItLink\" href=\"../../../../../logic/booleans/quantification/universality/__pv_it/common/083d2baa0b8ecab1d230f9ec29a15aa1355809fb0/expr.ipynb\"><img src=\"../../../../../logic/booleans/quantification/universality/__pv_it/common/083d2baa0b8ecab1d230f9ec29a15aa1355809fb0/expr.png\" style=\"display:inline;vertical-align:middle;\" /></a></td></tr>\n",
       "<tr><td>10</td><td>ExprTuple</td><td>12</td><td><a class=\"ProveItLink\" href=\"../4a02cf49ad5f653030e1e1a9830b2e4e4e3d901a0/expr.ipynb\"><img src=\"../4a02cf49ad5f653030e1e1a9830b2e4e4e3d901a0/expr.png\" style=\"display:inline;vertical-align:middle;\" /></a></td></tr>\n",
       "<tr><td>11</td><td>Lambda</td><td>parameter:&nbsp;53<br>body:&nbsp;13<br></td><td><a class=\"ProveItLink\" href=\"../f88ce4aa4a761316591f82d0e53a825064c078170/expr.ipynb\"><img src=\"../f88ce4aa4a761316591f82d0e53a825064c078170/expr.png\" style=\"display:inline;vertical-align:middle;\" /></a></td></tr>\n",
       "<tr><td>12</td><td>Lambda</td><td>parameter:&nbsp;47<br>body:&nbsp;15<br></td><td><a class=\"ProveItLink\" href=\"../2eda37760032379310b7bb7f700b07cab7d51d220/expr.ipynb\"><img src=\"../2eda37760032379310b7bb7f700b07cab7d51d220/expr.png\" style=\"display:inline;vertical-align:middle;\" /></a></td></tr>\n",
       "<tr><td>13</td><td>Conditional</td><td>value:&nbsp;16<br>condition:&nbsp;45<br></td><td><a class=\"ProveItLink\" href=\"../28f6f679c1fec94b3bdb93a6ca2bc0fc244f561f0/expr.ipynb\"><img src=\"../28f6f679c1fec94b3bdb93a6ca2bc0fc244f561f0/expr.png\" style=\"display:inline;vertical-align:middle;\" /></a></td></tr>\n",
       "<tr><td>14</td><td>ExprTuple</td><td>47</td><td><a class=\"ProveItLink\" href=\"../5b94e78394c4cb29f8f345b20a477f209bac33be0/expr.ipynb\"><img src=\"../5b94e78394c4cb29f8f345b20a477f209bac33be0/expr.png\" style=\"display:inline;vertical-align:middle;\" /></a></td></tr>\n",
       "<tr><td>15</td><td>Conditional</td><td>value:&nbsp;17<br>condition:&nbsp;18<br></td><td><a class=\"ProveItLink\" href=\"../40307e1752a91d60c62738305d72f030e0b95a550/expr.ipynb\"><img src=\"../40307e1752a91d60c62738305d72f030e0b95a550/expr.png\" style=\"display:inline;vertical-align:middle;\" /></a></td></tr>\n",
       "<tr><td>16</td><td>Operation</td><td>operator:&nbsp;48<br>operands:&nbsp;19<br></td><td><a class=\"ProveItLink\" href=\"../8db07d958a3ffb6535a9595c6ce1513b66a19e450/expr.ipynb\"><img src=\"../8db07d958a3ffb6535a9595c6ce1513b66a19e450/expr.png\" style=\"display:inline;vertical-align:middle;\" /></a></td></tr>\n",
       "<tr><td>17</td><td>Operation</td><td>operator:&nbsp;20<br>operands:&nbsp;21<br></td><td><a class=\"ProveItLink\" href=\"../76ad661e2517382e868116b50974455a17220a8a0/expr.ipynb\"><img src=\"../76ad661e2517382e868116b50974455a17220a8a0/expr.png\" style=\"display:inline;vertical-align:middle;\" /></a></td></tr>\n",
       "<tr><td>18</td><td>Operation</td><td>operator:&nbsp;22<br>operands:&nbsp;23<br></td><td><a class=\"ProveItLink\" href=\"../e1bd8785c0b90e02e0ed7f16b6b0e7136b9a0c880/expr.ipynb\"><img src=\"../e1bd8785c0b90e02e0ed7f16b6b0e7136b9a0c880/expr.png\" style=\"display:inline;vertical-align:middle;\" /></a></td></tr>\n",
       "<tr><td>19</td><td>ExprTuple</td><td>46, 35</td><td><a class=\"ProveItLink\" href=\"../3aa77e6e457ea7ac235ee2f67964a20711af943b0/expr.ipynb\"><img src=\"../3aa77e6e457ea7ac235ee2f67964a20711af943b0/expr.png\" style=\"display:inline;vertical-align:middle;\" /></a></td></tr>\n",
       "<tr><td>20</td><td>Literal</td><td></td><td><a class=\"ProveItLink\" href=\"../../../../../logic/equality/__pv_it/common/fb96dc12b2aa8801dda64d0132b396c63d1502bb0/expr.ipynb\"><img src=\"../../../../../logic/equality/__pv_it/common/fb96dc12b2aa8801dda64d0132b396c63d1502bb0/expr.png\" style=\"display:inline;vertical-align:middle;\" /></a></td></tr>\n",
       "<tr><td>21</td><td>ExprTuple</td><td>24, 25</td><td><a class=\"ProveItLink\" href=\"../d214ba68a29e2270d2b457fb5648ee9b32fa90c10/expr.ipynb\"><img src=\"../d214ba68a29e2270d2b457fb5648ee9b32fa90c10/expr.png\" style=\"display:inline;vertical-align:middle;\" /></a></td></tr>\n",
       "<tr><td>22</td><td>Literal</td><td></td><td><a class=\"ProveItLink\" href=\"../../../../../logic/booleans/conjunction/__pv_it/common/42118ff318bd65d98b1393f64ce7c2269feef76e0/expr.ipynb\"><img src=\"../../../../../logic/booleans/conjunction/__pv_it/common/42118ff318bd65d98b1393f64ce7c2269feef76e0/expr.png\" style=\"display:inline;vertical-align:middle;\" /></a></td></tr>\n",
       "<tr><td>23</td><td>ExprTuple</td><td>26, 27</td><td><a class=\"ProveItLink\" href=\"../9ced7539ce99047c709206d35d7d8e8d4c74b6fe0/expr.ipynb\"><img src=\"../9ced7539ce99047c709206d35d7d8e8d4c74b6fe0/expr.png\" style=\"display:inline;vertical-align:middle;\" /></a></td></tr>\n",
       "<tr><td>24</td><td>Operation</td><td>operator:&nbsp;43<br>operands:&nbsp;28<br></td><td><a class=\"ProveItLink\" href=\"../ffd7a205ea6f43c65b551b1fc2f01e17a5ac17810/expr.ipynb\"><img src=\"../ffd7a205ea6f43c65b551b1fc2f01e17a5ac17810/expr.png\" style=\"display:inline;vertical-align:middle;\" /></a></td></tr>\n",
       "<tr><td>25</td><td>Operation</td><td>operator:&nbsp;37<br>operand:&nbsp;34<br></td><td><a class=\"ProveItLink\" href=\"../ce0f0476ee6afc38909f39a191383ada2392c7d90/expr.ipynb\"><img src=\"../ce0f0476ee6afc38909f39a191383ada2392c7d90/expr.png\" style=\"display:inline;vertical-align:middle;\" /></a></td></tr>\n",
       "<tr><td>26</td><td>Operation</td><td>operator:&nbsp;48<br>operands:&nbsp;30<br></td><td><a class=\"ProveItLink\" href=\"../38be8260be263ca8b59e57b7b7d03d561faffd580/expr.ipynb\"><img src=\"../38be8260be263ca8b59e57b7b7d03d561faffd580/expr.png\" style=\"display:inline;vertical-align:middle;\" /></a></td></tr>\n",
       "<tr><td>27</td><td>Operation</td><td>operator:&nbsp;31<br>operands:&nbsp;32<br></td><td><a class=\"ProveItLink\" href=\"../64e3d2b3afff727db60e25c200eb5ea648c7db490/expr.ipynb\"><img src=\"../64e3d2b3afff727db60e25c200eb5ea648c7db490/expr.png\" style=\"display:inline;vertical-align:middle;\" /></a></td></tr>\n",
       "<tr><td>28</td><td>ExprTuple</td><td>33, 47</td><td><a class=\"ProveItLink\" href=\"../fee386f24d186d670b3eca16b6546c176f7d20920/expr.ipynb\"><img src=\"../fee386f24d186d670b3eca16b6546c176f7d20920/expr.png\" style=\"display:inline;vertical-align:middle;\" /></a></td></tr>\n",
       "<tr><td>29</td><td>ExprTuple</td><td>34</td><td><a class=\"ProveItLink\" href=\"../83cf4302bd5890218dc7c977a8f172d8c694cea80/expr.ipynb\"><img src=\"../83cf4302bd5890218dc7c977a8f172d8c694cea80/expr.png\" style=\"display:inline;vertical-align:middle;\" /></a></td></tr>\n",
       "<tr><td>30</td><td>ExprTuple</td><td>47, 35</td><td><a class=\"ProveItLink\" href=\"../6da4013fcfa386b38907e96c748d7af6e2cb53e10/expr.ipynb\"><img src=\"../6da4013fcfa386b38907e96c748d7af6e2cb53e10/expr.png\" style=\"display:inline;vertical-align:middle;\" /></a></td></tr>\n",
       "<tr><td>31</td><td>Literal</td><td></td><td><a class=\"ProveItLink\" href=\"../../../../../logic/equality/__pv_it/common/d96270bc9bb1bad54f773b1c04bfb343a739642c0/expr.ipynb\"><img src=\"../../../../../logic/equality/__pv_it/common/d96270bc9bb1bad54f773b1c04bfb343a739642c0/expr.png\" style=\"display:inline;vertical-align:middle;\" /></a></td></tr>\n",
       "<tr><td>32</td><td>ExprTuple</td><td>47, 36</td><td><a class=\"ProveItLink\" href=\"../9f1132ad6d0936bf6d277c745df6170ad4efdbe00/expr.ipynb\"><img src=\"../9f1132ad6d0936bf6d277c745df6170ad4efdbe00/expr.png\" style=\"display:inline;vertical-align:middle;\" /></a></td></tr>\n",
       "<tr><td>33</td><td>Operation</td><td>operator:&nbsp;37<br>operand:&nbsp;40<br></td><td><a class=\"ProveItLink\" href=\"../85dc1d302af11ba291ca20cd647e84ac86fc12bb0/expr.ipynb\"><img src=\"../85dc1d302af11ba291ca20cd647e84ac86fc12bb0/expr.png\" style=\"display:inline;vertical-align:middle;\" /></a></td></tr>\n",
       "<tr><td>34</td><td>Lambda</td><td>parameter:&nbsp;53<br>body:&nbsp;39<br></td><td><a class=\"ProveItLink\" href=\"../18ba6c67339abe3be0fcacc3fdc0140e82956a340/expr.ipynb\"><img src=\"../18ba6c67339abe3be0fcacc3fdc0140e82956a340/expr.png\" style=\"display:inline;vertical-align:middle;\" /></a></td></tr>\n",
       "<tr><td>35</td><td>Literal</td><td></td><td><a class=\"ProveItLink\" href=\"../../../../number_sets/complex_numbers/__pv_it/common/d18a028138f659eda00de597c28a3447fe87eb100/expr.ipynb\"><img src=\"../../../../number_sets/complex_numbers/__pv_it/common/d18a028138f659eda00de597c28a3447fe87eb100/expr.png\" style=\"display:inline;vertical-align:middle;\" /></a></td></tr>\n",
       "<tr><td>36</td><td>Literal</td><td></td><td><a class=\"ProveItLink\" href=\"../../../../numerals/__pv_it/common/dd4e19e8b134dfb293470ea55fe3589b0ab9f8040/expr.ipynb\"><img src=\"../../../../numerals/__pv_it/common/dd4e19e8b134dfb293470ea55fe3589b0ab9f8040/expr.png\" style=\"display:inline;vertical-align:middle;\" /></a></td></tr>\n",
       "<tr><td>37</td><td>Literal</td><td></td><td><a class=\"ProveItLink\" href=\"../../../../summation/__pv_it/common/14fe61cccc388f91dfd83d3ca31cf27448cc070a0/expr.ipynb\"><img src=\"../../../../summation/__pv_it/common/14fe61cccc388f91dfd83d3ca31cf27448cc070a0/expr.png\" style=\"display:inline;vertical-align:middle;\" /></a></td></tr>\n",
       "<tr><td>38</td><td>ExprTuple</td><td>40</td><td><a class=\"ProveItLink\" href=\"../0be979e2f980d7eaae74643d930f27c673858d0a0/expr.ipynb\"><img src=\"../0be979e2f980d7eaae74643d930f27c673858d0a0/expr.png\" style=\"display:inline;vertical-align:middle;\" /></a></td></tr>\n",
       "<tr><td>39</td><td>Conditional</td><td>value:&nbsp;41<br>condition:&nbsp;45<br></td><td><a class=\"ProveItLink\" href=\"../e8063acb9f318806faf2103b92e92f867fdbbc630/expr.ipynb\"><img src=\"../e8063acb9f318806faf2103b92e92f867fdbbc630/expr.png\" style=\"display:inline;vertical-align:middle;\" /></a></td></tr>\n",
       "<tr><td>40</td><td>Lambda</td><td>parameter:&nbsp;53<br>body:&nbsp;42<br></td><td><a class=\"ProveItLink\" href=\"../974bfe87452e6647e0e5a71f006f52aa24f1e5e50/expr.ipynb\"><img src=\"../974bfe87452e6647e0e5a71f006f52aa24f1e5e50/expr.png\" style=\"display:inline;vertical-align:middle;\" /></a></td></tr>\n",
       "<tr><td>41</td><td>Operation</td><td>operator:&nbsp;43<br>operands:&nbsp;44<br></td><td><a class=\"ProveItLink\" href=\"../31c86476e70de0b245a978c9f9069802da449c770/expr.ipynb\"><img src=\"../31c86476e70de0b245a978c9f9069802da449c770/expr.png\" style=\"display:inline;vertical-align:middle;\" /></a></td></tr>\n",
       "<tr><td>42</td><td>Conditional</td><td>value:&nbsp;46<br>condition:&nbsp;45<br></td><td><a class=\"ProveItLink\" href=\"../8cf321a7f60b7fe18a6031d73d5e18f41f2d02f90/expr.ipynb\"><img src=\"../8cf321a7f60b7fe18a6031d73d5e18f41f2d02f90/expr.png\" style=\"display:inline;vertical-align:middle;\" /></a></td></tr>\n",
       "<tr><td>43</td><td>Literal</td><td></td><td><a class=\"ProveItLink\" href=\"../../common/a2a633e1e3c749fb1f2692466b287b6348c5de840/expr.ipynb\"><img src=\"../../common/a2a633e1e3c749fb1f2692466b287b6348c5de840/expr.png\" style=\"display:inline;vertical-align:middle;\" /></a></td></tr>\n",
       "<tr><td>44</td><td>ExprTuple</td><td>46, 47</td><td><a class=\"ProveItLink\" href=\"../1a4aeda692ed41b2ebb8fc04648a4a5c558048d30/expr.ipynb\"><img src=\"../1a4aeda692ed41b2ebb8fc04648a4a5c558048d30/expr.png\" style=\"display:inline;vertical-align:middle;\" /></a></td></tr>\n",
       "<tr><td>45</td><td>Operation</td><td>operator:&nbsp;48<br>operands:&nbsp;49<br></td><td><a class=\"ProveItLink\" href=\"../df7055fd552fa2fe9c58660bfdae0ffb5db3e08a0/expr.ipynb\"><img src=\"../df7055fd552fa2fe9c58660bfdae0ffb5db3e08a0/expr.png\" style=\"display:inline;vertical-align:middle;\" /></a></td></tr>\n",
       "<tr><td>46</td><td>Operation</td><td>operator:&nbsp;50<br>operand:&nbsp;53<br></td><td><a class=\"ProveItLink\" href=\"../../../../../__pv_it/common/da54d8e4a8a27a02e3008e3dbdbc9c2042ade4470/expr.ipynb\"><img src=\"../../../../../__pv_it/common/da54d8e4a8a27a02e3008e3dbdbc9c2042ade4470/expr.png\" style=\"display:inline;vertical-align:middle;\" /></a></td></tr>\n",
       "<tr><td>47</td><td>Variable</td><td></td><td><a class=\"ProveItLink\" href=\"../../../../../__pv_it/common/95a8f6b9b9f29b83f192ad7fd05708d6be097a3f0/expr.ipynb\"><img src=\"../../../../../__pv_it/common/95a8f6b9b9f29b83f192ad7fd05708d6be097a3f0/expr.png\" style=\"display:inline;vertical-align:middle;\" /></a></td></tr>\n",
       "<tr><td>48</td><td>Literal</td><td></td><td><a class=\"ProveItLink\" href=\"../../../../../logic/sets/membership/__pv_it/common/477487d8796864d23d5810f83761435f25167f690/expr.ipynb\"><img src=\"../../../../../logic/sets/membership/__pv_it/common/477487d8796864d23d5810f83761435f25167f690/expr.png\" style=\"display:inline;vertical-align:middle;\" /></a></td></tr>\n",
       "<tr><td>49</td><td>ExprTuple</td><td>53, 52</td><td><a class=\"ProveItLink\" href=\"../c542d16e0bf7874c9fd45461064f816e6f151c020/expr.ipynb\"><img src=\"../c542d16e0bf7874c9fd45461064f816e6f151c020/expr.png\" style=\"display:inline;vertical-align:middle;\" /></a></td></tr>\n",
       "<tr><td>50</td><td>Variable</td><td></td><td><a class=\"ProveItLink\" href=\"../../../../../__pv_it/common/de55da274ba0f49c86925fbf3828021c04d27faf0/expr.ipynb\"><img src=\"../../../../../__pv_it/common/de55da274ba0f49c86925fbf3828021c04d27faf0/expr.png\" style=\"display:inline;vertical-align:middle;\" /></a></td></tr>\n",
       "<tr><td>51</td><td>ExprTuple</td><td>53</td><td><a class=\"ProveItLink\" href=\"../../../../../__pv_it/common/8ec7f6fe639763828b300003a52d700ece4a5c240/expr.ipynb\"><img src=\"../../../../../__pv_it/common/8ec7f6fe639763828b300003a52d700ece4a5c240/expr.png\" style=\"display:inline;vertical-align:middle;\" /></a></td></tr>\n",
       "<tr><td>52</td><td>Variable</td><td></td><td><a class=\"ProveItLink\" href=\"../../../../../__pv_it/common/38f47c5670ea8c5b56253448e95d8afb56bc09b40/expr.ipynb\"><img src=\"../../../../../__pv_it/common/38f47c5670ea8c5b56253448e95d8afb56bc09b40/expr.png\" style=\"display:inline;vertical-align:middle;\" /></a></td></tr>\n",
       "<tr><td>53</td><td>Variable</td><td></td><td><a class=\"ProveItLink\" href=\"../../../../../__pv_it/common/ff7dba4ef0bbe791ab573bf2d9c220a304399ac80/expr.ipynb\"><img src=\"../../../../../__pv_it/common/ff7dba4ef0bbe791ab573bf2d9c220a304399ac80/expr.png\" style=\"display:inline;vertical-align:middle;\" /></a></td></tr>\n",
       "</table>\n"
      ],
      "text/plain": [
       "0. ((P, S) -> ([forall_{y in S} (P(y) in Complex)] => [forall_{z in Complex | z != 0} (([Sum_{y in S} P(y)] / z) = [Sum_{y in S} (P(y) / z)])]))\n",
       "   core type: ExprTuple\n",
       "   sub-expressions: 1\n",
       "1. (P, S) -> ([forall_{y in S} (P(y) in Complex)] => [forall_{z in Complex | z != 0} (([Sum_{y in S} P(y)] / z) = [Sum_{y in S} (P(y) / z)])])\n",
       "   core type: Lambda\n",
       "   parameters: 2\\n   body: 3\n",
       "2. (P, S)\n",
       "   core type: ExprTuple\n",
       "   sub-expressions: 50, 52\n",
       "3. [forall_{y in S} (P(y) in Complex)] => [forall_{z in Complex | z != 0} (([Sum_{y in S} P(y)] / z) = [Sum_{y in S} (P(y) / z)])]\n",
       "   core type: Operation\n",
       "   operator: 4\n",
       "   operands: 5\n",
       "4. =>\n",
       "   core type: Literal\n",
       "   sub-expressions: \n",
       "5. (forall_{y in S} (P(y) in Complex), forall_{z in Complex | z != 0} (([Sum_{y in S} P(y)] / z) = [Sum_{y in S} (P(y) / z)]))\n",
       "   core type: ExprTuple\n",
       "   sub-expressions: 6, 7\n",
       "6. forall_{y in S} (P(y) in Complex)\n",
       "   core type: Operation\n",
       "   operator: 9\n",
       "   operand: 11\n",
       "7. forall_{z in Complex | z != 0} (([Sum_{y in S} P(y)] / z) = [Sum_{y in S} (P(y) / z)])\n",
       "   core type: Operation\n",
       "   operator: 9\n",
       "   operand: 12\n",
       "8. (y -> {P(y) in Complex if y in S.)\n",
       "   core type: ExprTuple\n",
       "   sub-expressions: 11\n",
       "9. forall\n",
       "   core type: Literal\n",
       "   sub-expressions: \n",
       "10. (z -> {([Sum_{y in S} P(y)] / z) = [Sum_{y in S} (P(y) / z)] if z in Complex ,  z != 0.)\n",
       "    core type: ExprTuple\n",
       "    sub-expressions: 12\n",
       "11. y -> {P(y) in Complex if y in S.\n",
       "    core type: Lambda\n",
       "    parameter: 53\n",
       "    body: 13\n",
       "12. z -> {([Sum_{y in S} P(y)] / z) = [Sum_{y in S} (P(y) / z)] if z in Complex ,  z != 0.\n",
       "    core type: Lambda\n",
       "    parameter: 47\n",
       "    body: 15\n",
       "13. {P(y) in Complex if y in S.\n",
       "    core type: Conditional\n",
       "    value: 16\n",
       "    condition: 45\n",
       "14. (z)\n",
       "    core type: ExprTuple\n",
       "    sub-expressions: 47\n",
       "15. {([Sum_{y in S} P(y)] / z) = [Sum_{y in S} (P(y) / z)] if z in Complex ,  z != 0.\n",
       "    core type: Conditional\n",
       "    value: 17\n",
       "    condition: 18\n",
       "16. P(y) in Complex\n",
       "    core type: Operation\n",
       "    operator: 48\n",
       "    operands: 19\n",
       "17. ([Sum_{y in S} P(y)] / z) = [Sum_{y in S} (P(y) / z)]\n",
       "    core type: Operation\n",
       "    operator: 20\n",
       "    operands: 21\n",
       "18. (z in Complex) and (z != 0)\n",
       "    core type: Operation\n",
       "    operator: 22\n",
       "    operands: 23\n",
       "19. (P(y), Complex)\n",
       "    core type: ExprTuple\n",
       "    sub-expressions: 46, 35\n",
       "20. =\n",
       "    core type: Literal\n",
       "    sub-expressions: \n",
       "21. ([Sum_{y in S} P(y)] / z, Sum_{y in S} (P(y) / z))\n",
       "    core type: ExprTuple\n",
       "    sub-expressions: 24, 25\n",
       "22. and\n",
       "    core type: Literal\n",
       "    sub-expressions: \n",
       "23. (z in Complex, z != 0)\n",
       "    core type: ExprTuple\n",
       "    sub-expressions: 26, 27\n",
       "24. [Sum_{y in S} P(y)] / z\n",
       "    core type: Operation\n",
       "    operator: 43\n",
       "    operands: 28\n",
       "25. Sum_{y in S} (P(y) / z)\n",
       "    core type: Operation\n",
       "    operator: 37\n",
       "    operand: 34\n",
       "26. z in Complex\n",
       "    core type: Operation\n",
       "    operator: 48\n",
       "    operands: 30\n",
       "27. z != 0\n",
       "    core type: Operation\n",
       "    operator: 31\n",
       "    operands: 32\n",
       "28. (Sum_{y in S} P(y), z)\n",
       "    core type: ExprTuple\n",
       "    sub-expressions: 33, 47\n",
       "29. (y -> {P(y) / z if y in S.)\n",
       "    core type: ExprTuple\n",
       "    sub-expressions: 34\n",
       "30. (z, Complex)\n",
       "    core type: ExprTuple\n",
       "    sub-expressions: 47, 35\n",
       "31. !=\n",
       "    core type: Literal\n",
       "    sub-expressions: \n",
       "32. (z, 0)\n",
       "    core type: ExprTuple\n",
       "    sub-expressions: 47, 36\n",
       "33. Sum_{y in S} P(y)\n",
       "    core type: Operation\n",
       "    operator: 37\n",
       "    operand: 40\n",
       "34. y -> {P(y) / z if y in S.\n",
       "    core type: Lambda\n",
       "    parameter: 53\n",
       "    body: 39\n",
       "35. Complex\n",
       "    core type: Literal\n",
       "    sub-expressions: \n",
       "36. 0\n",
       "    core type: Literal\n",
       "    sub-expressions: \n",
       "37. Sum\n",
       "    core type: Literal\n",
       "    sub-expressions: \n",
       "38. (y -> {P(y) if y in S.)\n",
       "    core type: ExprTuple\n",
       "    sub-expressions: 40\n",
       "39. {P(y) / z if y in S.\n",
       "    core type: Conditional\n",
       "    value: 41\n",
       "    condition: 45\n",
       "40. y -> {P(y) if y in S.\n",
       "    core type: Lambda\n",
       "    parameter: 53\n",
       "    body: 42\n",
       "41. P(y) / z\n",
       "    core type: Operation\n",
       "    operator: 43\n",
       "    operands: 44\n",
       "42. {P(y) if y in S.\n",
       "    core type: Conditional\n",
       "    value: 46\n",
       "    condition: 45\n",
       "43. /\n",
       "    core type: Literal\n",
       "    sub-expressions: \n",
       "44. (P(y), z)\n",
       "    core type: ExprTuple\n",
       "    sub-expressions: 46, 47\n",
       "45. y in S\n",
       "    core type: Operation\n",
       "    operator: 48\n",
       "    operands: 49\n",
       "46. P(y)\n",
       "    core type: Operation\n",
       "    operator: 50\n",
       "    operand: 53\n",
       "47. z\n",
       "    core type: Variable\n",
       "    sub-expressions: \n",
       "48. in\n",
       "    core type: Literal\n",
       "    sub-expressions: \n",
       "49. (y, S)\n",
       "    core type: ExprTuple\n",
       "    sub-expressions: 53, 52\n",
       "50. P\n",
       "    core type: Variable\n",
       "    sub-expressions: \n",
       "51. (y)\n",
       "    core type: ExprTuple\n",
       "    sub-expressions: 53\n",
       "52. S\n",
       "    core type: Variable\n",
       "    sub-expressions: \n",
       "53. y\n",
       "    core type: Variable\n",
       "    sub-expressions: "
      ]
     },
     "metadata": {},
     "output_type": "display_data"
    }
   ],
   "source": [
    "# display the expression information\n",
    "stored_expr.expr_info()"
   ]
  },
  {
   "cell_type": "code",
   "execution_count": null,
   "metadata": {},
   "outputs": [],
   "source": []
  }
 ],
 "metadata": {
  "kernelspec": {
   "display_name": "Python 3",
   "language": "python",
   "name": "python3"
  }
 },
 "nbformat": 4,
 "nbformat_minor": 0
}