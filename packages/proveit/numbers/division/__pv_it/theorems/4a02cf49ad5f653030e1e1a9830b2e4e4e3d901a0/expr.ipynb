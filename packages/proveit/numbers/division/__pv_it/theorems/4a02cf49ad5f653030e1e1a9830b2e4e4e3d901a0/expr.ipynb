{
 "cells": [
  {
   "cell_type": "markdown",
   "metadata": {},
   "source": [
    "Expression of type <a class=\"ProveItLink\" href=\"../../../../../../../doc/html/api/proveit.ExprTuple.html\">ExprTuple</a>\n",
    "=======================\n",
    "# from the theory of <a class=\"ProveItLink\" href=\"../../../_theory_nbs_/theory.ipynb\">proveit.numbers.division</a>"
   ]
  },
  {
   "cell_type": "code",
   "execution_count": 1,
   "metadata": {},
   "outputs": [],
   "source": [
    "import proveit\n",
    "# Automation is not needed when building an expression:\n",
    "proveit.defaults.automation = False # This will speed things up.\n",
    "proveit.defaults.inline_pngs = False # Makes files smaller.\n",
    "%load_expr # Load the stored expression as 'stored_expr'\n",
    "# import Expression classes needed to build the expression\n",
    "from proveit import Conditional, ExprTuple, Lambda, Py, S, y, z\n",
    "from proveit.logic import And, Equals, InSet, NotEquals\n",
    "from proveit.numbers import Complex, Sum, frac, zero"
   ]
  },
  {
   "cell_type": "code",
   "execution_count": 2,
   "metadata": {},
   "outputs": [
    {
     "data": {
      "text/html": [
       "<strong id=\"expr\">expr:</strong> <a class=\"ProveItLink\" href=\"expr.ipynb\"><img src=\"expr.png\" style=\"display:inline;vertical-align:middle;\" /></a><br>"
      ],
      "text/plain": [
       "<IPython.core.display.HTML object>"
      ]
     },
     "metadata": {},
     "output_type": "display_data"
    }
   ],
   "source": [
    "# build up the expression from sub-expressions\n",
    "sub_expr1 = [y]\n",
    "expr = ExprTuple(Lambda(z, Conditional(Equals(frac(Sum(index_or_indices = sub_expr1, summand = Py, domain = S), z), Sum(index_or_indices = sub_expr1, summand = frac(Py, z), domain = S)), And(InSet(z, Complex), NotEquals(z, zero)))))"
   ]
  },
  {
   "cell_type": "code",
   "execution_count": 3,
   "metadata": {},
   "outputs": [
    {
     "name": "stdout",
     "output_type": "stream",
     "text": [
      "Passed sanity check: expr matches stored_expr\n"
     ]
    }
   ],
   "source": [
    "# check that the built expression is the same as the stored expression\n",
    "assert expr == stored_expr\n",
    "assert expr._style_id == stored_expr._style_id\n",
    "print(\"Passed sanity check: expr matches stored_expr\")"
   ]
  },
  {
   "cell_type": "code",
   "execution_count": 4,
   "metadata": {},
   "outputs": [
    {
     "name": "stdout",
     "output_type": "stream",
     "text": [
      "\\left(z \\mapsto \\left\\{\\frac{\\sum_{y \\in S}~P\\left(y\\right)}{z} = \\left[\\sum_{y \\in S}~\\frac{P\\left(y\\right)}{z}\\right] \\textrm{ if } z \\in \\mathbb{C} ,  z \\neq 0\\right..\\right)\n"
     ]
    }
   ],
   "source": [
    "# Show the LaTeX representation of the expression for convenience if you need it.\n",
    "print(stored_expr.latex())"
   ]
  },
  {
   "cell_type": "code",
   "execution_count": 5,
   "metadata": {},
   "outputs": [
    {
     "data": {
      "text/html": [
       "no style options"
      ],
      "text/plain": [
       "no style options"
      ]
     },
     "metadata": {},
     "output_type": "display_data"
    }
   ],
   "source": [
    "stored_expr.style_options()"
   ]
  },
  {
   "cell_type": "code",
   "execution_count": 6,
   "metadata": {},
   "outputs": [
    {
     "data": {
      "text/html": [
       "<table><tr><th>&nbsp;</th><th>core type</th><th>sub-expressions</th><th>expression</th></tr>\n",
       "<tr><td>0</td><td>ExprTuple</td><td>1</td><td><a class=\"ProveItLink\" href=\"expr.ipynb\"><img src=\"expr.png\" style=\"display:inline;vertical-align:middle;\" /></a></td></tr>\n",
       "<tr><td>1</td><td>Lambda</td><td>parameter:&nbsp;33<br>body:&nbsp;3<br></td><td><a class=\"ProveItLink\" href=\"../2eda37760032379310b7bb7f700b07cab7d51d220/expr.ipynb\"><img src=\"../2eda37760032379310b7bb7f700b07cab7d51d220/expr.png\" style=\"display:inline;vertical-align:middle;\" /></a></td></tr>\n",
       "<tr><td>2</td><td>ExprTuple</td><td>33</td><td><a class=\"ProveItLink\" href=\"../5b94e78394c4cb29f8f345b20a477f209bac33be0/expr.ipynb\"><img src=\"../5b94e78394c4cb29f8f345b20a477f209bac33be0/expr.png\" style=\"display:inline;vertical-align:middle;\" /></a></td></tr>\n",
       "<tr><td>3</td><td>Conditional</td><td>value:&nbsp;4<br>condition:&nbsp;5<br></td><td><a class=\"ProveItLink\" href=\"../40307e1752a91d60c62738305d72f030e0b95a550/expr.ipynb\"><img src=\"../40307e1752a91d60c62738305d72f030e0b95a550/expr.png\" style=\"display:inline;vertical-align:middle;\" /></a></td></tr>\n",
       "<tr><td>4</td><td>Operation</td><td>operator:&nbsp;6<br>operands:&nbsp;7<br></td><td><a class=\"ProveItLink\" href=\"../76ad661e2517382e868116b50974455a17220a8a0/expr.ipynb\"><img src=\"../76ad661e2517382e868116b50974455a17220a8a0/expr.png\" style=\"display:inline;vertical-align:middle;\" /></a></td></tr>\n",
       "<tr><td>5</td><td>Operation</td><td>operator:&nbsp;8<br>operands:&nbsp;9<br></td><td><a class=\"ProveItLink\" href=\"../e1bd8785c0b90e02e0ed7f16b6b0e7136b9a0c880/expr.ipynb\"><img src=\"../e1bd8785c0b90e02e0ed7f16b6b0e7136b9a0c880/expr.png\" style=\"display:inline;vertical-align:middle;\" /></a></td></tr>\n",
       "<tr><td>6</td><td>Literal</td><td></td><td><a class=\"ProveItLink\" href=\"../../../../../logic/equality/__pv_it/common/fb96dc12b2aa8801dda64d0132b396c63d1502bb0/expr.ipynb\"><img src=\"../../../../../logic/equality/__pv_it/common/fb96dc12b2aa8801dda64d0132b396c63d1502bb0/expr.png\" style=\"display:inline;vertical-align:middle;\" /></a></td></tr>\n",
       "<tr><td>7</td><td>ExprTuple</td><td>10, 11</td><td><a class=\"ProveItLink\" href=\"../d214ba68a29e2270d2b457fb5648ee9b32fa90c10/expr.ipynb\"><img src=\"../d214ba68a29e2270d2b457fb5648ee9b32fa90c10/expr.png\" style=\"display:inline;vertical-align:middle;\" /></a></td></tr>\n",
       "<tr><td>8</td><td>Literal</td><td></td><td><a class=\"ProveItLink\" href=\"../../../../../logic/booleans/conjunction/__pv_it/common/42118ff318bd65d98b1393f64ce7c2269feef76e0/expr.ipynb\"><img src=\"../../../../../logic/booleans/conjunction/__pv_it/common/42118ff318bd65d98b1393f64ce7c2269feef76e0/expr.png\" style=\"display:inline;vertical-align:middle;\" /></a></td></tr>\n",
       "<tr><td>9</td><td>ExprTuple</td><td>12, 13</td><td><a class=\"ProveItLink\" href=\"../9ced7539ce99047c709206d35d7d8e8d4c74b6fe0/expr.ipynb\"><img src=\"../9ced7539ce99047c709206d35d7d8e8d4c74b6fe0/expr.png\" style=\"display:inline;vertical-align:middle;\" /></a></td></tr>\n",
       "<tr><td>10</td><td>Operation</td><td>operator:&nbsp;29<br>operands:&nbsp;14<br></td><td><a class=\"ProveItLink\" href=\"../ffd7a205ea6f43c65b551b1fc2f01e17a5ac17810/expr.ipynb\"><img src=\"../ffd7a205ea6f43c65b551b1fc2f01e17a5ac17810/expr.png\" style=\"display:inline;vertical-align:middle;\" /></a></td></tr>\n",
       "<tr><td>11</td><td>Operation</td><td>operator:&nbsp;23<br>operand:&nbsp;20<br></td><td><a class=\"ProveItLink\" href=\"../ce0f0476ee6afc38909f39a191383ada2392c7d90/expr.ipynb\"><img src=\"../ce0f0476ee6afc38909f39a191383ada2392c7d90/expr.png\" style=\"display:inline;vertical-align:middle;\" /></a></td></tr>\n",
       "<tr><td>12</td><td>Operation</td><td>operator:&nbsp;34<br>operands:&nbsp;16<br></td><td><a class=\"ProveItLink\" href=\"../38be8260be263ca8b59e57b7b7d03d561faffd580/expr.ipynb\"><img src=\"../38be8260be263ca8b59e57b7b7d03d561faffd580/expr.png\" style=\"display:inline;vertical-align:middle;\" /></a></td></tr>\n",
       "<tr><td>13</td><td>Operation</td><td>operator:&nbsp;17<br>operands:&nbsp;18<br></td><td><a class=\"ProveItLink\" href=\"../64e3d2b3afff727db60e25c200eb5ea648c7db490/expr.ipynb\"><img src=\"../64e3d2b3afff727db60e25c200eb5ea648c7db490/expr.png\" style=\"display:inline;vertical-align:middle;\" /></a></td></tr>\n",
       "<tr><td>14</td><td>ExprTuple</td><td>19, 33</td><td><a class=\"ProveItLink\" href=\"../fee386f24d186d670b3eca16b6546c176f7d20920/expr.ipynb\"><img src=\"../fee386f24d186d670b3eca16b6546c176f7d20920/expr.png\" style=\"display:inline;vertical-align:middle;\" /></a></td></tr>\n",
       "<tr><td>15</td><td>ExprTuple</td><td>20</td><td><a class=\"ProveItLink\" href=\"../83cf4302bd5890218dc7c977a8f172d8c694cea80/expr.ipynb\"><img src=\"../83cf4302bd5890218dc7c977a8f172d8c694cea80/expr.png\" style=\"display:inline;vertical-align:middle;\" /></a></td></tr>\n",
       "<tr><td>16</td><td>ExprTuple</td><td>33, 21</td><td><a class=\"ProveItLink\" href=\"../6da4013fcfa386b38907e96c748d7af6e2cb53e10/expr.ipynb\"><img src=\"../6da4013fcfa386b38907e96c748d7af6e2cb53e10/expr.png\" style=\"display:inline;vertical-align:middle;\" /></a></td></tr>\n",
       "<tr><td>17</td><td>Literal</td><td></td><td><a class=\"ProveItLink\" href=\"../../../../../logic/equality/__pv_it/common/d96270bc9bb1bad54f773b1c04bfb343a739642c0/expr.ipynb\"><img src=\"../../../../../logic/equality/__pv_it/common/d96270bc9bb1bad54f773b1c04bfb343a739642c0/expr.png\" style=\"display:inline;vertical-align:middle;\" /></a></td></tr>\n",
       "<tr><td>18</td><td>ExprTuple</td><td>33, 22</td><td><a class=\"ProveItLink\" href=\"../9f1132ad6d0936bf6d277c745df6170ad4efdbe00/expr.ipynb\"><img src=\"../9f1132ad6d0936bf6d277c745df6170ad4efdbe00/expr.png\" style=\"display:inline;vertical-align:middle;\" /></a></td></tr>\n",
       "<tr><td>19</td><td>Operation</td><td>operator:&nbsp;23<br>operand:&nbsp;26<br></td><td><a class=\"ProveItLink\" href=\"../85dc1d302af11ba291ca20cd647e84ac86fc12bb0/expr.ipynb\"><img src=\"../85dc1d302af11ba291ca20cd647e84ac86fc12bb0/expr.png\" style=\"display:inline;vertical-align:middle;\" /></a></td></tr>\n",
       "<tr><td>20</td><td>Lambda</td><td>parameter:&nbsp;39<br>body:&nbsp;25<br></td><td><a class=\"ProveItLink\" href=\"../18ba6c67339abe3be0fcacc3fdc0140e82956a340/expr.ipynb\"><img src=\"../18ba6c67339abe3be0fcacc3fdc0140e82956a340/expr.png\" style=\"display:inline;vertical-align:middle;\" /></a></td></tr>\n",
       "<tr><td>21</td><td>Literal</td><td></td><td><a class=\"ProveItLink\" href=\"../../../../number_sets/complex_numbers/__pv_it/common/d18a028138f659eda00de597c28a3447fe87eb100/expr.ipynb\"><img src=\"../../../../number_sets/complex_numbers/__pv_it/common/d18a028138f659eda00de597c28a3447fe87eb100/expr.png\" style=\"display:inline;vertical-align:middle;\" /></a></td></tr>\n",
       "<tr><td>22</td><td>Literal</td><td></td><td><a class=\"ProveItLink\" href=\"../../../../numerals/__pv_it/common/dd4e19e8b134dfb293470ea55fe3589b0ab9f8040/expr.ipynb\"><img src=\"../../../../numerals/__pv_it/common/dd4e19e8b134dfb293470ea55fe3589b0ab9f8040/expr.png\" style=\"display:inline;vertical-align:middle;\" /></a></td></tr>\n",
       "<tr><td>23</td><td>Literal</td><td></td><td><a class=\"ProveItLink\" href=\"../../../../summation/__pv_it/common/14fe61cccc388f91dfd83d3ca31cf27448cc070a0/expr.ipynb\"><img src=\"../../../../summation/__pv_it/common/14fe61cccc388f91dfd83d3ca31cf27448cc070a0/expr.png\" style=\"display:inline;vertical-align:middle;\" /></a></td></tr>\n",
       "<tr><td>24</td><td>ExprTuple</td><td>26</td><td><a class=\"ProveItLink\" href=\"../0be979e2f980d7eaae74643d930f27c673858d0a0/expr.ipynb\"><img src=\"../0be979e2f980d7eaae74643d930f27c673858d0a0/expr.png\" style=\"display:inline;vertical-align:middle;\" /></a></td></tr>\n",
       "<tr><td>25</td><td>Conditional</td><td>value:&nbsp;27<br>condition:&nbsp;31<br></td><td><a class=\"ProveItLink\" href=\"../e8063acb9f318806faf2103b92e92f867fdbbc630/expr.ipynb\"><img src=\"../e8063acb9f318806faf2103b92e92f867fdbbc630/expr.png\" style=\"display:inline;vertical-align:middle;\" /></a></td></tr>\n",
       "<tr><td>26</td><td>Lambda</td><td>parameter:&nbsp;39<br>body:&nbsp;28<br></td><td><a class=\"ProveItLink\" href=\"../974bfe87452e6647e0e5a71f006f52aa24f1e5e50/expr.ipynb\"><img src=\"../974bfe87452e6647e0e5a71f006f52aa24f1e5e50/expr.png\" style=\"display:inline;vertical-align:middle;\" /></a></td></tr>\n",
       "<tr><td>27</td><td>Operation</td><td>operator:&nbsp;29<br>operands:&nbsp;30<br></td><td><a class=\"ProveItLink\" href=\"../31c86476e70de0b245a978c9f9069802da449c770/expr.ipynb\"><img src=\"../31c86476e70de0b245a978c9f9069802da449c770/expr.png\" style=\"display:inline;vertical-align:middle;\" /></a></td></tr>\n",
       "<tr><td>28</td><td>Conditional</td><td>value:&nbsp;32<br>condition:&nbsp;31<br></td><td><a class=\"ProveItLink\" href=\"../8cf321a7f60b7fe18a6031d73d5e18f41f2d02f90/expr.ipynb\"><img src=\"../8cf321a7f60b7fe18a6031d73d5e18f41f2d02f90/expr.png\" style=\"display:inline;vertical-align:middle;\" /></a></td></tr>\n",
       "<tr><td>29</td><td>Literal</td><td></td><td><a class=\"ProveItLink\" href=\"../../common/a2a633e1e3c749fb1f2692466b287b6348c5de840/expr.ipynb\"><img src=\"../../common/a2a633e1e3c749fb1f2692466b287b6348c5de840/expr.png\" style=\"display:inline;vertical-align:middle;\" /></a></td></tr>\n",
       "<tr><td>30</td><td>ExprTuple</td><td>32, 33</td><td><a class=\"ProveItLink\" href=\"../1a4aeda692ed41b2ebb8fc04648a4a5c558048d30/expr.ipynb\"><img src=\"../1a4aeda692ed41b2ebb8fc04648a4a5c558048d30/expr.png\" style=\"display:inline;vertical-align:middle;\" /></a></td></tr>\n",
       "<tr><td>31</td><td>Operation</td><td>operator:&nbsp;34<br>operands:&nbsp;35<br></td><td><a class=\"ProveItLink\" href=\"../df7055fd552fa2fe9c58660bfdae0ffb5db3e08a0/expr.ipynb\"><img src=\"../df7055fd552fa2fe9c58660bfdae0ffb5db3e08a0/expr.png\" style=\"display:inline;vertical-align:middle;\" /></a></td></tr>\n",
       "<tr><td>32</td><td>Operation</td><td>operator:&nbsp;36<br>operand:&nbsp;39<br></td><td><a class=\"ProveItLink\" href=\"../../../../../__pv_it/common/da54d8e4a8a27a02e3008e3dbdbc9c2042ade4470/expr.ipynb\"><img src=\"../../../../../__pv_it/common/da54d8e4a8a27a02e3008e3dbdbc9c2042ade4470/expr.png\" style=\"display:inline;vertical-align:middle;\" /></a></td></tr>\n",
       "<tr><td>33</td><td>Variable</td><td></td><td><a class=\"ProveItLink\" href=\"../../../../../__pv_it/common/95a8f6b9b9f29b83f192ad7fd05708d6be097a3f0/expr.ipynb\"><img src=\"../../../../../__pv_it/common/95a8f6b9b9f29b83f192ad7fd05708d6be097a3f0/expr.png\" style=\"display:inline;vertical-align:middle;\" /></a></td></tr>\n",
       "<tr><td>34</td><td>Literal</td><td></td><td><a class=\"ProveItLink\" href=\"../../../../../logic/sets/membership/__pv_it/common/477487d8796864d23d5810f83761435f25167f690/expr.ipynb\"><img src=\"../../../../../logic/sets/membership/__pv_it/common/477487d8796864d23d5810f83761435f25167f690/expr.png\" style=\"display:inline;vertical-align:middle;\" /></a></td></tr>\n",
       "<tr><td>35</td><td>ExprTuple</td><td>39, 38</td><td><a class=\"ProveItLink\" href=\"../c542d16e0bf7874c9fd45461064f816e6f151c020/expr.ipynb\"><img src=\"../c542d16e0bf7874c9fd45461064f816e6f151c020/expr.png\" style=\"display:inline;vertical-align:middle;\" /></a></td></tr>\n",
       "<tr><td>36</td><td>Variable</td><td></td><td><a class=\"ProveItLink\" href=\"../../../../../__pv_it/common/de55da274ba0f49c86925fbf3828021c04d27faf0/expr.ipynb\"><img src=\"../../../../../__pv_it/common/de55da274ba0f49c86925fbf3828021c04d27faf0/expr.png\" style=\"display:inline;vertical-align:middle;\" /></a></td></tr>\n",
       "<tr><td>37</td><td>ExprTuple</td><td>39</td><td><a class=\"ProveItLink\" href=\"../../../../../__pv_it/common/8ec7f6fe639763828b300003a52d700ece4a5c240/expr.ipynb\"><img src=\"../../../../../__pv_it/common/8ec7f6fe639763828b300003a52d700ece4a5c240/expr.png\" style=\"display:inline;vertical-align:middle;\" /></a></td></tr>\n",
       "<tr><td>38</td><td>Variable</td><td></td><td><a class=\"ProveItLink\" href=\"../../../../../__pv_it/common/38f47c5670ea8c5b56253448e95d8afb56bc09b40/expr.ipynb\"><img src=\"../../../../../__pv_it/common/38f47c5670ea8c5b56253448e95d8afb56bc09b40/expr.png\" style=\"display:inline;vertical-align:middle;\" /></a></td></tr>\n",
       "<tr><td>39</td><td>Variable</td><td></td><td><a class=\"ProveItLink\" href=\"../../../../../__pv_it/common/ff7dba4ef0bbe791ab573bf2d9c220a304399ac80/expr.ipynb\"><img src=\"../../../../../__pv_it/common/ff7dba4ef0bbe791ab573bf2d9c220a304399ac80/expr.png\" style=\"display:inline;vertical-align:middle;\" /></a></td></tr>\n",
       "</table>\n"
      ],
      "text/plain": [
       "0. (z -> {([Sum_{y in S} P(y)] / z) = [Sum_{y in S} (P(y) / z)] if z in Complex ,  z != 0.)\n",
       "   core type: ExprTuple\n",
       "   sub-expressions: 1\n",
       "1. z -> {([Sum_{y in S} P(y)] / z) = [Sum_{y in S} (P(y) / z)] if z in Complex ,  z != 0.\n",
       "   core type: Lambda\n",
       "   parameter: 33\n",
       "   body: 3\n",
       "2. (z)\n",
       "   core type: ExprTuple\n",
       "   sub-expressions: 33\n",
       "3. {([Sum_{y in S} P(y)] / z) = [Sum_{y in S} (P(y) / z)] if z in Complex ,  z != 0.\n",
       "   core type: Conditional\n",
       "   value: 4\n",
       "   condition: 5\n",
       "4. ([Sum_{y in S} P(y)] / z) = [Sum_{y in S} (P(y) / z)]\n",
       "   core type: Operation\n",
       "   operator: 6\n",
       "   operands: 7\n",
       "5. (z in Complex) and (z != 0)\n",
       "   core type: Operation\n",
       "   operator: 8\n",
       "   operands: 9\n",
       "6. =\n",
       "   core type: Literal\n",
       "   sub-expressions: \n",
       "7. ([Sum_{y in S} P(y)] / z, Sum_{y in S} (P(y) / z))\n",
       "   core type: ExprTuple\n",
       "   sub-expressions: 10, 11\n",
       "8. and\n",
       "   core type: Literal\n",
       "   sub-expressions: \n",
       "9. (z in Complex, z != 0)\n",
       "   core type: ExprTuple\n",
       "   sub-expressions: 12, 13\n",
       "10. [Sum_{y in S} P(y)] / z\n",
       "    core type: Operation\n",
       "    operator: 29\n",
       "    operands: 14\n",
       "11. Sum_{y in S} (P(y) / z)\n",
       "    core type: Operation\n",
       "    operator: 23\n",
       "    operand: 20\n",
       "12. z in Complex\n",
       "    core type: Operation\n",
       "    operator: 34\n",
       "    operands: 16\n",
       "13. z != 0\n",
       "    core type: Operation\n",
       "    operator: 17\n",
       "    operands: 18\n",
       "14. (Sum_{y in S} P(y), z)\n",
       "    core type: ExprTuple\n",
       "    sub-expressions: 19, 33\n",
       "15. (y -> {P(y) / z if y in S.)\n",
       "    core type: ExprTuple\n",
       "    sub-expressions: 20\n",
       "16. (z, Complex)\n",
       "    core type: ExprTuple\n",
       "    sub-expressions: 33, 21\n",
       "17. !=\n",
       "    core type: Literal\n",
       "    sub-expressions: \n",
       "18. (z, 0)\n",
       "    core type: ExprTuple\n",
       "    sub-expressions: 33, 22\n",
       "19. Sum_{y in S} P(y)\n",
       "    core type: Operation\n",
       "    operator: 23\n",
       "    operand: 26\n",
       "20. y -> {P(y) / z if y in S.\n",
       "    core type: Lambda\n",
       "    parameter: 39\n",
       "    body: 25\n",
       "21. Complex\n",
       "    core type: Literal\n",
       "    sub-expressions: \n",
       "22. 0\n",
       "    core type: Literal\n",
       "    sub-expressions: \n",
       "23. Sum\n",
       "    core type: Literal\n",
       "    sub-expressions: \n",
       "24. (y -> {P(y) if y in S.)\n",
       "    core type: ExprTuple\n",
       "    sub-expressions: 26\n",
       "25. {P(y) / z if y in S.\n",
       "    core type: Conditional\n",
       "    value: 27\n",
       "    condition: 31\n",
       "26. y -> {P(y) if y in S.\n",
       "    core type: Lambda\n",
       "    parameter: 39\n",
       "    body: 28\n",
       "27. P(y) / z\n",
       "    core type: Operation\n",
       "    operator: 29\n",
       "    operands: 30\n",
       "28. {P(y) if y in S.\n",
       "    core type: Conditional\n",
       "    value: 32\n",
       "    condition: 31\n",
       "29. /\n",
       "    core type: Literal\n",
       "    sub-expressions: \n",
       "30. (P(y), z)\n",
       "    core type: ExprTuple\n",
       "    sub-expressions: 32, 33\n",
       "31. y in S\n",
       "    core type: Operation\n",
       "    operator: 34\n",
       "    operands: 35\n",
       "32. P(y)\n",
       "    core type: Operation\n",
       "    operator: 36\n",
       "    operand: 39\n",
       "33. z\n",
       "    core type: Variable\n",
       "    sub-expressions: \n",
       "34. in\n",
       "    core type: Literal\n",
       "    sub-expressions: \n",
       "35. (y, S)\n",
       "    core type: ExprTuple\n",
       "    sub-expressions: 39, 38\n",
       "36. P\n",
       "    core type: Variable\n",
       "    sub-expressions: \n",
       "37. (y)\n",
       "    core type: ExprTuple\n",
       "    sub-expressions: 39\n",
       "38. S\n",
       "    core type: Variable\n",
       "    sub-expressions: \n",
       "39. y\n",
       "    core type: Variable\n",
       "    sub-expressions: "
      ]
     },
     "metadata": {},
     "output_type": "display_data"
    }
   ],
   "source": [
    "# display the expression information\n",
    "stored_expr.expr_info()"
   ]
  },
  {
   "cell_type": "code",
   "execution_count": null,
   "metadata": {},
   "outputs": [],
   "source": []
  }
 ],
 "metadata": {
  "kernelspec": {
   "display_name": "Python 3",
   "language": "python",
   "name": "python3"
  }
 },
 "nbformat": 4,
 "nbformat_minor": 0
}