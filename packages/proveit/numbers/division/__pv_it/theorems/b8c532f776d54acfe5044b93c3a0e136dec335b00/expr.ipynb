{
 "cells": [
  {
   "cell_type": "markdown",
   "metadata": {},
   "source": [
    "Expression of type <a class=\"ProveItLink\" href=\"../../../../../../../doc/html/api/proveit.Lambda.html\">Lambda</a>\n",
    "=======================\n",
    "# from the theory of <a class=\"ProveItLink\" href=\"../../../_theory_nbs_/theory.ipynb\">proveit.numbers.division</a>"
   ]
  },
  {
   "cell_type": "code",
   "execution_count": 1,
   "metadata": {},
   "outputs": [],
   "source": [
    "import proveit\n",
    "# Automation is not needed when building an expression:\n",
    "proveit.defaults.automation = False # This will speed things up.\n",
    "proveit.defaults.inline_pngs = False # Makes files smaller.\n",
    "%load_expr # Load the stored expression as 'stored_expr'\n",
    "# import Expression classes needed to build the expression\n",
    "from proveit import Conditional, Lambda, w, x, y, z\n",
    "from proveit.logic import And, Equals, InSet, NotEquals\n",
    "from proveit.numbers import Complex, frac, subtract"
   ]
  },
  {
   "cell_type": "code",
   "execution_count": 2,
   "metadata": {},
   "outputs": [
    {
     "data": {
      "text/html": [
       "<strong id=\"expr\">expr:</strong> <a class=\"ProveItLink\" href=\"expr.ipynb\"><img src=\"expr.png\" style=\"display:inline;vertical-align:middle;\" /></a><br>"
      ],
      "text/plain": [
       "<IPython.core.display.HTML object>"
      ]
     },
     "metadata": {},
     "output_type": "display_data"
    }
   ],
   "source": [
    "# build up the expression from sub-expressions\n",
    "expr = Lambda([w, x, y, z], Conditional(Equals(frac(subtract(w, x), subtract(y, z)), frac(subtract(x, w), subtract(z, y))), And(InSet(w, Complex), InSet(x, Complex), InSet(y, Complex), InSet(z, Complex), NotEquals(y, z))))"
   ]
  },
  {
   "cell_type": "code",
   "execution_count": 3,
   "metadata": {},
   "outputs": [
    {
     "name": "stdout",
     "output_type": "stream",
     "text": [
      "Passed sanity check: expr matches stored_expr\n"
     ]
    }
   ],
   "source": [
    "# check that the built expression is the same as the stored expression\n",
    "assert expr == stored_expr\n",
    "assert expr._style_id == stored_expr._style_id\n",
    "print(\"Passed sanity check: expr matches stored_expr\")"
   ]
  },
  {
   "cell_type": "code",
   "execution_count": 4,
   "metadata": {},
   "outputs": [
    {
     "name": "stdout",
     "output_type": "stream",
     "text": [
      "\\left(w, x, y, z\\right) \\mapsto \\left\\{\\frac{w - x}{y - z} = \\frac{x - w}{z - y} \\textrm{ if } w \\in \\mathbb{C} ,  x \\in \\mathbb{C} ,  y \\in \\mathbb{C} ,  z \\in \\mathbb{C} ,  y \\neq z\\right..\n"
     ]
    }
   ],
   "source": [
    "# Show the LaTeX representation of the expression for convenience if you need it.\n",
    "print(stored_expr.latex())"
   ]
  },
  {
   "cell_type": "code",
   "execution_count": 5,
   "metadata": {},
   "outputs": [
    {
     "data": {
      "text/html": [
       "no style options"
      ],
      "text/plain": [
       "no style options"
      ]
     },
     "metadata": {},
     "output_type": "display_data"
    }
   ],
   "source": [
    "stored_expr.style_options()"
   ]
  },
  {
   "cell_type": "code",
   "execution_count": 6,
   "metadata": {},
   "outputs": [
    {
     "data": {
      "text/html": [
       "<table><tr><th>&nbsp;</th><th>core type</th><th>sub-expressions</th><th>expression</th></tr>\n",
       "<tr><td>0</td><td>Lambda</td><td>parameters:&nbsp;1<br>body:&nbsp;2<br></td><td><a class=\"ProveItLink\" href=\"expr.ipynb\"><img src=\"expr.png\" style=\"display:inline;vertical-align:middle;\" /></a></td></tr>\n",
       "<tr><td>1</td><td>ExprTuple</td><td>47, 45, 48, 46</td><td><a class=\"ProveItLink\" href=\"../c06cb2601779230fcf0a4cc8a328bcdacee6eecf0/expr.ipynb\"><img src=\"../c06cb2601779230fcf0a4cc8a328bcdacee6eecf0/expr.png\" style=\"display:inline;vertical-align:middle;\" /></a></td></tr>\n",
       "<tr><td>2</td><td>Conditional</td><td>value:&nbsp;3<br>condition:&nbsp;4<br></td><td><a class=\"ProveItLink\" href=\"../ddac11e99075ec1259a202abb2555f40d8954b200/expr.ipynb\"><img src=\"../ddac11e99075ec1259a202abb2555f40d8954b200/expr.png\" style=\"display:inline;vertical-align:middle;\" /></a></td></tr>\n",
       "<tr><td>3</td><td>Operation</td><td>operator:&nbsp;5<br>operands:&nbsp;6<br></td><td><a class=\"ProveItLink\" href=\"../b5ac9921d446430edd9c655a7b4ef9c172a5c8ec0/expr.ipynb\"><img src=\"../b5ac9921d446430edd9c655a7b4ef9c172a5c8ec0/expr.png\" style=\"display:inline;vertical-align:middle;\" /></a></td></tr>\n",
       "<tr><td>4</td><td>Operation</td><td>operator:&nbsp;7<br>operands:&nbsp;8<br></td><td><a class=\"ProveItLink\" href=\"../c135feb9e89f71665ea6c1303a53565598222ae50/expr.ipynb\"><img src=\"../c135feb9e89f71665ea6c1303a53565598222ae50/expr.png\" style=\"display:inline;vertical-align:middle;\" /></a></td></tr>\n",
       "<tr><td>5</td><td>Literal</td><td></td><td><a class=\"ProveItLink\" href=\"../../../../../logic/equality/__pv_it/common/fb96dc12b2aa8801dda64d0132b396c63d1502bb0/expr.ipynb\"><img src=\"../../../../../logic/equality/__pv_it/common/fb96dc12b2aa8801dda64d0132b396c63d1502bb0/expr.png\" style=\"display:inline;vertical-align:middle;\" /></a></td></tr>\n",
       "<tr><td>6</td><td>ExprTuple</td><td>9, 10</td><td><a class=\"ProveItLink\" href=\"../24aacab663454baa77e893ba93b175b2485532460/expr.ipynb\"><img src=\"../24aacab663454baa77e893ba93b175b2485532460/expr.png\" style=\"display:inline;vertical-align:middle;\" /></a></td></tr>\n",
       "<tr><td>7</td><td>Literal</td><td></td><td><a class=\"ProveItLink\" href=\"../../../../../logic/booleans/conjunction/__pv_it/common/42118ff318bd65d98b1393f64ce7c2269feef76e0/expr.ipynb\"><img src=\"../../../../../logic/booleans/conjunction/__pv_it/common/42118ff318bd65d98b1393f64ce7c2269feef76e0/expr.png\" style=\"display:inline;vertical-align:middle;\" /></a></td></tr>\n",
       "<tr><td>8</td><td>ExprTuple</td><td>11, 12, 13, 14, 15</td><td><a class=\"ProveItLink\" href=\"../549114e9fc53514c938143dfec45477ac711d7c40/expr.ipynb\"><img src=\"../549114e9fc53514c938143dfec45477ac711d7c40/expr.png\" style=\"display:inline;vertical-align:middle;\" /></a></td></tr>\n",
       "<tr><td>9</td><td>Operation</td><td>operator:&nbsp;17<br>operands:&nbsp;16<br></td><td><a class=\"ProveItLink\" href=\"../ae5326178a4d8ae032b78f3d1d5c462a9375318f0/expr.ipynb\"><img src=\"../ae5326178a4d8ae032b78f3d1d5c462a9375318f0/expr.png\" style=\"display:inline;vertical-align:middle;\" /></a></td></tr>\n",
       "<tr><td>10</td><td>Operation</td><td>operator:&nbsp;17<br>operands:&nbsp;18<br></td><td><a class=\"ProveItLink\" href=\"../7d9c8a280627b8d5129941a9bf7dc7afde8c5cca0/expr.ipynb\"><img src=\"../7d9c8a280627b8d5129941a9bf7dc7afde8c5cca0/expr.png\" style=\"display:inline;vertical-align:middle;\" /></a></td></tr>\n",
       "<tr><td>11</td><td>Operation</td><td>operator:&nbsp;22<br>operands:&nbsp;19<br></td><td><a class=\"ProveItLink\" href=\"../70c0ce96202ce28a2e9c2a43dc9603d2926fcf150/expr.ipynb\"><img src=\"../70c0ce96202ce28a2e9c2a43dc9603d2926fcf150/expr.png\" style=\"display:inline;vertical-align:middle;\" /></a></td></tr>\n",
       "<tr><td>12</td><td>Operation</td><td>operator:&nbsp;22<br>operands:&nbsp;20<br></td><td><a class=\"ProveItLink\" href=\"../6bf1a18c2e3498be826f1c5ef7caab578b7ee8c80/expr.ipynb\"><img src=\"../6bf1a18c2e3498be826f1c5ef7caab578b7ee8c80/expr.png\" style=\"display:inline;vertical-align:middle;\" /></a></td></tr>\n",
       "<tr><td>13</td><td>Operation</td><td>operator:&nbsp;22<br>operands:&nbsp;21<br></td><td><a class=\"ProveItLink\" href=\"../e7a733f6071838c624bab1a2ecdcd3efaa06f4b40/expr.ipynb\"><img src=\"../e7a733f6071838c624bab1a2ecdcd3efaa06f4b40/expr.png\" style=\"display:inline;vertical-align:middle;\" /></a></td></tr>\n",
       "<tr><td>14</td><td>Operation</td><td>operator:&nbsp;22<br>operands:&nbsp;23<br></td><td><a class=\"ProveItLink\" href=\"../38be8260be263ca8b59e57b7b7d03d561faffd580/expr.ipynb\"><img src=\"../38be8260be263ca8b59e57b7b7d03d561faffd580/expr.png\" style=\"display:inline;vertical-align:middle;\" /></a></td></tr>\n",
       "<tr><td>15</td><td>Operation</td><td>operator:&nbsp;24<br>operands:&nbsp;25<br></td><td><a class=\"ProveItLink\" href=\"../a5cb869bb4802383ea812bce08ddbb5e68d8482f0/expr.ipynb\"><img src=\"../a5cb869bb4802383ea812bce08ddbb5e68d8482f0/expr.png\" style=\"display:inline;vertical-align:middle;\" /></a></td></tr>\n",
       "<tr><td>16</td><td>ExprTuple</td><td>26, 27</td><td><a class=\"ProveItLink\" href=\"../a446603a90df4c65a1072c2912ea7bf11072c1550/expr.ipynb\"><img src=\"../a446603a90df4c65a1072c2912ea7bf11072c1550/expr.png\" style=\"display:inline;vertical-align:middle;\" /></a></td></tr>\n",
       "<tr><td>17</td><td>Literal</td><td></td><td><a class=\"ProveItLink\" href=\"../../common/a2a633e1e3c749fb1f2692466b287b6348c5de840/expr.ipynb\"><img src=\"../../common/a2a633e1e3c749fb1f2692466b287b6348c5de840/expr.png\" style=\"display:inline;vertical-align:middle;\" /></a></td></tr>\n",
       "<tr><td>18</td><td>ExprTuple</td><td>28, 29</td><td><a class=\"ProveItLink\" href=\"../19ab70fd2ed5165ba065817d54924829d4fe41aa0/expr.ipynb\"><img src=\"../19ab70fd2ed5165ba065817d54924829d4fe41aa0/expr.png\" style=\"display:inline;vertical-align:middle;\" /></a></td></tr>\n",
       "<tr><td>19</td><td>ExprTuple</td><td>47, 30</td><td><a class=\"ProveItLink\" href=\"../c2ffe20f92da94e25bd282f3b4da80ceb9baaebb0/expr.ipynb\"><img src=\"../c2ffe20f92da94e25bd282f3b4da80ceb9baaebb0/expr.png\" style=\"display:inline;vertical-align:middle;\" /></a></td></tr>\n",
       "<tr><td>20</td><td>ExprTuple</td><td>45, 30</td><td><a class=\"ProveItLink\" href=\"../505878fa9838807620aac15f1fd613f2c081d7060/expr.ipynb\"><img src=\"../505878fa9838807620aac15f1fd613f2c081d7060/expr.png\" style=\"display:inline;vertical-align:middle;\" /></a></td></tr>\n",
       "<tr><td>21</td><td>ExprTuple</td><td>48, 30</td><td><a class=\"ProveItLink\" href=\"../483ed3ea8e22f296738bbd4ea443d2744858ccbc0/expr.ipynb\"><img src=\"../483ed3ea8e22f296738bbd4ea443d2744858ccbc0/expr.png\" style=\"display:inline;vertical-align:middle;\" /></a></td></tr>\n",
       "<tr><td>22</td><td>Literal</td><td></td><td><a class=\"ProveItLink\" href=\"../../../../../logic/sets/membership/__pv_it/common/477487d8796864d23d5810f83761435f25167f690/expr.ipynb\"><img src=\"../../../../../logic/sets/membership/__pv_it/common/477487d8796864d23d5810f83761435f25167f690/expr.png\" style=\"display:inline;vertical-align:middle;\" /></a></td></tr>\n",
       "<tr><td>23</td><td>ExprTuple</td><td>46, 30</td><td><a class=\"ProveItLink\" href=\"../6da4013fcfa386b38907e96c748d7af6e2cb53e10/expr.ipynb\"><img src=\"../6da4013fcfa386b38907e96c748d7af6e2cb53e10/expr.png\" style=\"display:inline;vertical-align:middle;\" /></a></td></tr>\n",
       "<tr><td>24</td><td>Literal</td><td></td><td><a class=\"ProveItLink\" href=\"../../../../../logic/equality/__pv_it/common/d96270bc9bb1bad54f773b1c04bfb343a739642c0/expr.ipynb\"><img src=\"../../../../../logic/equality/__pv_it/common/d96270bc9bb1bad54f773b1c04bfb343a739642c0/expr.png\" style=\"display:inline;vertical-align:middle;\" /></a></td></tr>\n",
       "<tr><td>25</td><td>ExprTuple</td><td>48, 46</td><td><a class=\"ProveItLink\" href=\"../e069a458aad4ee5753d8c0683702408c3e7d03f30/expr.ipynb\"><img src=\"../e069a458aad4ee5753d8c0683702408c3e7d03f30/expr.png\" style=\"display:inline;vertical-align:middle;\" /></a></td></tr>\n",
       "<tr><td>26</td><td>Operation</td><td>operator:&nbsp;34<br>operands:&nbsp;31<br></td><td><a class=\"ProveItLink\" href=\"../10f52ac3386e53a71e3d299ce9589ff3852a98590/expr.ipynb\"><img src=\"../10f52ac3386e53a71e3d299ce9589ff3852a98590/expr.png\" style=\"display:inline;vertical-align:middle;\" /></a></td></tr>\n",
       "<tr><td>27</td><td>Operation</td><td>operator:&nbsp;34<br>operands:&nbsp;32<br></td><td><a class=\"ProveItLink\" href=\"../36a81d4a4f110c57f23e2af75bdc062916a01c970/expr.ipynb\"><img src=\"../36a81d4a4f110c57f23e2af75bdc062916a01c970/expr.png\" style=\"display:inline;vertical-align:middle;\" /></a></td></tr>\n",
       "<tr><td>28</td><td>Operation</td><td>operator:&nbsp;34<br>operands:&nbsp;33<br></td><td><a class=\"ProveItLink\" href=\"../dbbaae0402a0dddba10abcbd6de5ef8f21028a0e0/expr.ipynb\"><img src=\"../dbbaae0402a0dddba10abcbd6de5ef8f21028a0e0/expr.png\" style=\"display:inline;vertical-align:middle;\" /></a></td></tr>\n",
       "<tr><td>29</td><td>Operation</td><td>operator:&nbsp;34<br>operands:&nbsp;35<br></td><td><a class=\"ProveItLink\" href=\"../92f208b87cb3cbae312489f72030b831f752a2170/expr.ipynb\"><img src=\"../92f208b87cb3cbae312489f72030b831f752a2170/expr.png\" style=\"display:inline;vertical-align:middle;\" /></a></td></tr>\n",
       "<tr><td>30</td><td>Literal</td><td></td><td><a class=\"ProveItLink\" href=\"../../../../number_sets/complex_numbers/__pv_it/common/d18a028138f659eda00de597c28a3447fe87eb100/expr.ipynb\"><img src=\"../../../../number_sets/complex_numbers/__pv_it/common/d18a028138f659eda00de597c28a3447fe87eb100/expr.png\" style=\"display:inline;vertical-align:middle;\" /></a></td></tr>\n",
       "<tr><td>31</td><td>ExprTuple</td><td>47, 36</td><td><a class=\"ProveItLink\" href=\"../0d6ae4f8d743066f9872b2e0884b744f8ac5ec660/expr.ipynb\"><img src=\"../0d6ae4f8d743066f9872b2e0884b744f8ac5ec660/expr.png\" style=\"display:inline;vertical-align:middle;\" /></a></td></tr>\n",
       "<tr><td>32</td><td>ExprTuple</td><td>48, 37</td><td><a class=\"ProveItLink\" href=\"../5738c8a1c2afdfb00bf389e358ed486ddbd6fff90/expr.ipynb\"><img src=\"../5738c8a1c2afdfb00bf389e358ed486ddbd6fff90/expr.png\" style=\"display:inline;vertical-align:middle;\" /></a></td></tr>\n",
       "<tr><td>33</td><td>ExprTuple</td><td>45, 38</td><td><a class=\"ProveItLink\" href=\"../8314902ca979111a0ad19e37c10f7a9d1ce336480/expr.ipynb\"><img src=\"../8314902ca979111a0ad19e37c10f7a9d1ce336480/expr.png\" style=\"display:inline;vertical-align:middle;\" /></a></td></tr>\n",
       "<tr><td>34</td><td>Literal</td><td></td><td><a class=\"ProveItLink\" href=\"../../../../addition/__pv_it/common/4b7effaab3619a1c2c38fe2dee8601df8ec714590/expr.ipynb\"><img src=\"../../../../addition/__pv_it/common/4b7effaab3619a1c2c38fe2dee8601df8ec714590/expr.png\" style=\"display:inline;vertical-align:middle;\" /></a></td></tr>\n",
       "<tr><td>35</td><td>ExprTuple</td><td>46, 39</td><td><a class=\"ProveItLink\" href=\"../11e1b5991f0baa098972c67752dff7de426170290/expr.ipynb\"><img src=\"../11e1b5991f0baa098972c67752dff7de426170290/expr.png\" style=\"display:inline;vertical-align:middle;\" /></a></td></tr>\n",
       "<tr><td>36</td><td>Operation</td><td>operator:&nbsp;43<br>operand:&nbsp;45<br></td><td><a class=\"ProveItLink\" href=\"../8ae6bcf9f63d27c3e43ea63be5df603397837e130/expr.ipynb\"><img src=\"../8ae6bcf9f63d27c3e43ea63be5df603397837e130/expr.png\" style=\"display:inline;vertical-align:middle;\" /></a></td></tr>\n",
       "<tr><td>37</td><td>Operation</td><td>operator:&nbsp;43<br>operand:&nbsp;46<br></td><td><a class=\"ProveItLink\" href=\"../a0cf90a160186e9b24ba9783cc178d6fa1c5cf3a0/expr.ipynb\"><img src=\"../a0cf90a160186e9b24ba9783cc178d6fa1c5cf3a0/expr.png\" style=\"display:inline;vertical-align:middle;\" /></a></td></tr>\n",
       "<tr><td>38</td><td>Operation</td><td>operator:&nbsp;43<br>operand:&nbsp;47<br></td><td><a class=\"ProveItLink\" href=\"../4467ad5e853d396efb1cb746c87eb7d31b12afda0/expr.ipynb\"><img src=\"../4467ad5e853d396efb1cb746c87eb7d31b12afda0/expr.png\" style=\"display:inline;vertical-align:middle;\" /></a></td></tr>\n",
       "<tr><td>39</td><td>Operation</td><td>operator:&nbsp;43<br>operand:&nbsp;48<br></td><td><a class=\"ProveItLink\" href=\"../36c5895b8336c4d09e7aff8a7966b00f3198562c0/expr.ipynb\"><img src=\"../36c5895b8336c4d09e7aff8a7966b00f3198562c0/expr.png\" style=\"display:inline;vertical-align:middle;\" /></a></td></tr>\n",
       "<tr><td>40</td><td>ExprTuple</td><td>45</td><td><a class=\"ProveItLink\" href=\"../../../../../__pv_it/common/eacfeccc0521684fcb20fe8f5180ac50fca471f20/expr.ipynb\"><img src=\"../../../../../__pv_it/common/eacfeccc0521684fcb20fe8f5180ac50fca471f20/expr.png\" style=\"display:inline;vertical-align:middle;\" /></a></td></tr>\n",
       "<tr><td>41</td><td>ExprTuple</td><td>46</td><td><a class=\"ProveItLink\" href=\"../5b94e78394c4cb29f8f345b20a477f209bac33be0/expr.ipynb\"><img src=\"../5b94e78394c4cb29f8f345b20a477f209bac33be0/expr.png\" style=\"display:inline;vertical-align:middle;\" /></a></td></tr>\n",
       "<tr><td>42</td><td>ExprTuple</td><td>47</td><td><a class=\"ProveItLink\" href=\"../312504453c8f3cf356e695e131111fe2196319490/expr.ipynb\"><img src=\"../312504453c8f3cf356e695e131111fe2196319490/expr.png\" style=\"display:inline;vertical-align:middle;\" /></a></td></tr>\n",
       "<tr><td>43</td><td>Literal</td><td></td><td><a class=\"ProveItLink\" href=\"../../../../negation/__pv_it/common/221b3c4d1770ee9051b7c044c3f9ec61196fc34b0/expr.ipynb\"><img src=\"../../../../negation/__pv_it/common/221b3c4d1770ee9051b7c044c3f9ec61196fc34b0/expr.png\" style=\"display:inline;vertical-align:middle;\" /></a></td></tr>\n",
       "<tr><td>44</td><td>ExprTuple</td><td>48</td><td><a class=\"ProveItLink\" href=\"../../../../../__pv_it/common/8ec7f6fe639763828b300003a52d700ece4a5c240/expr.ipynb\"><img src=\"../../../../../__pv_it/common/8ec7f6fe639763828b300003a52d700ece4a5c240/expr.png\" style=\"display:inline;vertical-align:middle;\" /></a></td></tr>\n",
       "<tr><td>45</td><td>Variable</td><td></td><td><a class=\"ProveItLink\" href=\"../../../../../__pv_it/common/a0d9d672aa5e272d907247690c152cc2c6daafb70/expr.ipynb\"><img src=\"../../../../../__pv_it/common/a0d9d672aa5e272d907247690c152cc2c6daafb70/expr.png\" style=\"display:inline;vertical-align:middle;\" /></a></td></tr>\n",
       "<tr><td>46</td><td>Variable</td><td></td><td><a class=\"ProveItLink\" href=\"../../../../../__pv_it/common/95a8f6b9b9f29b83f192ad7fd05708d6be097a3f0/expr.ipynb\"><img src=\"../../../../../__pv_it/common/95a8f6b9b9f29b83f192ad7fd05708d6be097a3f0/expr.png\" style=\"display:inline;vertical-align:middle;\" /></a></td></tr>\n",
       "<tr><td>47</td><td>Variable</td><td></td><td><a class=\"ProveItLink\" href=\"../../../../../__pv_it/common/d365663894822dede40e6e04c77860068334d0820/expr.ipynb\"><img src=\"../../../../../__pv_it/common/d365663894822dede40e6e04c77860068334d0820/expr.png\" style=\"display:inline;vertical-align:middle;\" /></a></td></tr>\n",
       "<tr><td>48</td><td>Variable</td><td></td><td><a class=\"ProveItLink\" href=\"../../../../../__pv_it/common/ff7dba4ef0bbe791ab573bf2d9c220a304399ac80/expr.ipynb\"><img src=\"../../../../../__pv_it/common/ff7dba4ef0bbe791ab573bf2d9c220a304399ac80/expr.png\" style=\"display:inline;vertical-align:middle;\" /></a></td></tr>\n",
       "</table>\n"
      ],
      "text/plain": [
       "0. (w, x, y, z) -> {((w - x) / (y - z)) = ((x - w) / (z - y)) if w in Complex ,  x in Complex ,  y in Complex ,  z in Complex ,  y != z.\n",
       "   core type: Lambda\n",
       "   parameters: 1\\n   body: 2\n",
       "1. (w, x, y, z)\n",
       "   core type: ExprTuple\n",
       "   sub-expressions: 47, 45, 48, 46\n",
       "2. {((w - x) / (y - z)) = ((x - w) / (z - y)) if w in Complex ,  x in Complex ,  y in Complex ,  z in Complex ,  y != z.\n",
       "   core type: Conditional\n",
       "   value: 3\n",
       "   condition: 4\n",
       "3. ((w - x) / (y - z)) = ((x - w) / (z - y))\n",
       "   core type: Operation\n",
       "   operator: 5\n",
       "   operands: 6\n",
       "4. (w in Complex) and (x in Complex) and (y in Complex) and (z in Complex) and (y != z)\n",
       "   core type: Operation\n",
       "   operator: 7\n",
       "   operands: 8\n",
       "5. =\n",
       "   core type: Literal\n",
       "   sub-expressions: \n",
       "6. ((w - x) / (y - z), (x - w) / (z - y))\n",
       "   core type: ExprTuple\n",
       "   sub-expressions: 9, 10\n",
       "7. and\n",
       "   core type: Literal\n",
       "   sub-expressions: \n",
       "8. (w in Complex, x in Complex, y in Complex, z in Complex, y != z)\n",
       "   core type: ExprTuple\n",
       "   sub-expressions: 11, 12, 13, 14, 15\n",
       "9. (w - x) / (y - z)\n",
       "   core type: Operation\n",
       "   operator: 17\n",
       "   operands: 16\n",
       "10. (x - w) / (z - y)\n",
       "    core type: Operation\n",
       "    operator: 17\n",
       "    operands: 18\n",
       "11. w in Complex\n",
       "    core type: Operation\n",
       "    operator: 22\n",
       "    operands: 19\n",
       "12. x in Complex\n",
       "    core type: Operation\n",
       "    operator: 22\n",
       "    operands: 20\n",
       "13. y in Complex\n",
       "    core type: Operation\n",
       "    operator: 22\n",
       "    operands: 21\n",
       "14. z in Complex\n",
       "    core type: Operation\n",
       "    operator: 22\n",
       "    operands: 23\n",
       "15. y != z\n",
       "    core type: Operation\n",
       "    operator: 24\n",
       "    operands: 25\n",
       "16. (w - x, y - z)\n",
       "    core type: ExprTuple\n",
       "    sub-expressions: 26, 27\n",
       "17. /\n",
       "    core type: Literal\n",
       "    sub-expressions: \n",
       "18. (x - w, z - y)\n",
       "    core type: ExprTuple\n",
       "    sub-expressions: 28, 29\n",
       "19. (w, Complex)\n",
       "    core type: ExprTuple\n",
       "    sub-expressions: 47, 30\n",
       "20. (x, Complex)\n",
       "    core type: ExprTuple\n",
       "    sub-expressions: 45, 30\n",
       "21. (y, Complex)\n",
       "    core type: ExprTuple\n",
       "    sub-expressions: 48, 30\n",
       "22. in\n",
       "    core type: Literal\n",
       "    sub-expressions: \n",
       "23. (z, Complex)\n",
       "    core type: ExprTuple\n",
       "    sub-expressions: 46, 30\n",
       "24. !=\n",
       "    core type: Literal\n",
       "    sub-expressions: \n",
       "25. (y, z)\n",
       "    core type: ExprTuple\n",
       "    sub-expressions: 48, 46\n",
       "26. w - x\n",
       "    core type: Operation\n",
       "    operator: 34\n",
       "    operands: 31\n",
       "27. y - z\n",
       "    core type: Operation\n",
       "    operator: 34\n",
       "    operands: 32\n",
       "28. x - w\n",
       "    core type: Operation\n",
       "    operator: 34\n",
       "    operands: 33\n",
       "29. z - y\n",
       "    core type: Operation\n",
       "    operator: 34\n",
       "    operands: 35\n",
       "30. Complex\n",
       "    core type: Literal\n",
       "    sub-expressions: \n",
       "31. (w, -x)\n",
       "    core type: ExprTuple\n",
       "    sub-expressions: 47, 36\n",
       "32. (y, -z)\n",
       "    core type: ExprTuple\n",
       "    sub-expressions: 48, 37\n",
       "33. (x, -w)\n",
       "    core type: ExprTuple\n",
       "    sub-expressions: 45, 38\n",
       "34. +\n",
       "    core type: Literal\n",
       "    sub-expressions: \n",
       "35. (z, -y)\n",
       "    core type: ExprTuple\n",
       "    sub-expressions: 46, 39\n",
       "36. -x\n",
       "    core type: Operation\n",
       "    operator: 43\n",
       "    operand: 45\n",
       "37. -z\n",
       "    core type: Operation\n",
       "    operator: 43\n",
       "    operand: 46\n",
       "38. -w\n",
       "    core type: Operation\n",
       "    operator: 43\n",
       "    operand: 47\n",
       "39. -y\n",
       "    core type: Operation\n",
       "    operator: 43\n",
       "    operand: 48\n",
       "40. (x)\n",
       "    core type: ExprTuple\n",
       "    sub-expressions: 45\n",
       "41. (z)\n",
       "    core type: ExprTuple\n",
       "    sub-expressions: 46\n",
       "42. (w)\n",
       "    core type: ExprTuple\n",
       "    sub-expressions: 47\n",
       "43. -\n",
       "    core type: Literal\n",
       "    sub-expressions: \n",
       "44. (y)\n",
       "    core type: ExprTuple\n",
       "    sub-expressions: 48\n",
       "45. x\n",
       "    core type: Variable\n",
       "    sub-expressions: \n",
       "46. z\n",
       "    core type: Variable\n",
       "    sub-expressions: \n",
       "47. w\n",
       "    core type: Variable\n",
       "    sub-expressions: \n",
       "48. y\n",
       "    core type: Variable\n",
       "    sub-expressions: "
      ]
     },
     "metadata": {},
     "output_type": "display_data"
    }
   ],
   "source": [
    "# display the expression information\n",
    "stored_expr.expr_info()"
   ]
  },
  {
   "cell_type": "code",
   "execution_count": null,
   "metadata": {},
   "outputs": [],
   "source": []
  }
 ],
 "metadata": {
  "kernelspec": {
   "display_name": "Python 3",
   "language": "python",
   "name": "python3"
  }
 },
 "nbformat": 4,
 "nbformat_minor": 0
}