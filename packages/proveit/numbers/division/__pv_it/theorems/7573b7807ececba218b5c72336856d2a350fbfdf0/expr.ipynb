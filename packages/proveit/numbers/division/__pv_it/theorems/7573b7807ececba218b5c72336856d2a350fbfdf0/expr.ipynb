{
 "cells": [
  {
   "cell_type": "markdown",
   "metadata": {},
   "source": [
    "Expression of type <a class=\"ProveItLink\" href=\"../../../../../../../doc/html/api/proveit.logic.And.html\">And</a>\n",
    "=======================\n",
    "# from the theory of <a class=\"ProveItLink\" href=\"../../../_theory_nbs_/theory.ipynb\">proveit.numbers.division</a>"
   ]
  },
  {
   "cell_type": "code",
   "execution_count": 1,
   "metadata": {},
   "outputs": [],
   "source": [
    "import proveit\n",
    "# Automation is not needed when building an expression:\n",
    "proveit.defaults.automation = False # This will speed things up.\n",
    "proveit.defaults.inline_pngs = False # Makes files smaller.\n",
    "%load_expr # Load the stored expression as 'stored_expr'\n",
    "# import Expression classes needed to build the expression\n",
    "from proveit import ExprRange, IndexedVar, Variable, m, n, w, x, y, z\n",
    "from proveit.logic import And, InSet, NotEquals\n",
    "from proveit.numbers import Complex, one, zero"
   ]
  },
  {
   "cell_type": "code",
   "execution_count": 2,
   "metadata": {},
   "outputs": [
    {
     "data": {
      "text/html": [
       "<strong id=\"expr\">expr:</strong> <a class=\"ProveItLink\" href=\"expr.ipynb\"><img src=\"expr.png\" style=\"display:inline;vertical-align:middle;\" /></a><br>"
      ],
      "text/plain": [
       "<IPython.core.display.HTML object>"
      ]
     },
     "metadata": {},
     "output_type": "display_data"
    }
   ],
   "source": [
    "# build up the expression from sub-expressions\n",
    "sub_expr1 = Variable(\"_a\", latex_format = r\"{_{-}a}\")\n",
    "expr = And(ExprRange(sub_expr1, InSet(IndexedVar(w, sub_expr1), Complex), one, m), InSet(x, Complex), InSet(y, Complex), ExprRange(sub_expr1, InSet(IndexedVar(z, sub_expr1), Complex), one, n), NotEquals(y, zero))"
   ]
  },
  {
   "cell_type": "code",
   "execution_count": 3,
   "metadata": {},
   "outputs": [
    {
     "name": "stdout",
     "output_type": "stream",
     "text": [
      "Passed sanity check: expr matches stored_expr\n"
     ]
    }
   ],
   "source": [
    "# check that the built expression is the same as the stored expression\n",
    "assert expr == stored_expr\n",
    "assert expr._style_id == stored_expr._style_id\n",
    "print(\"Passed sanity check: expr matches stored_expr\")"
   ]
  },
  {
   "cell_type": "code",
   "execution_count": 4,
   "metadata": {},
   "outputs": [
    {
     "name": "stdout",
     "output_type": "stream",
     "text": [
      "\\left(w_{1} \\in \\mathbb{C}\\right) \\land  \\left(w_{2} \\in \\mathbb{C}\\right) \\land  \\ldots \\land  \\left(w_{m} \\in \\mathbb{C}\\right) \\land \\left(x \\in \\mathbb{C}\\right) \\land \\left(y \\in \\mathbb{C}\\right)\\land \\left(z_{1} \\in \\mathbb{C}\\right) \\land  \\left(z_{2} \\in \\mathbb{C}\\right) \\land  \\ldots \\land  \\left(z_{n} \\in \\mathbb{C}\\right) \\land \\left(y \\neq 0\\right)\n"
     ]
    }
   ],
   "source": [
    "# Show the LaTeX representation of the expression for convenience if you need it.\n",
    "print(stored_expr.latex())"
   ]
  },
  {
   "cell_type": "code",
   "execution_count": 5,
   "metadata": {},
   "outputs": [
    {
     "data": {
      "text/html": [
       "<table>\n",
       "<tr><th>name</th><th>description</th><th>default</th><th>current value</th><th>related methods</th></tr><tr><td>operation</td><td>'infix' or 'function' style formatting</td><td>infix</td><td>infix</td><td></td></tr>\n",
       "<tr><td>wrap_positions</td><td>position(s) at which wrapping is to occur; '2 n - 1' is after the nth operand, '2 n' is after the nth operation.</td><td>()</td><td>()</td><td>('with_wrapping_at', 'with_wrap_before_operator', 'with_wrap_after_operator', 'without_wrapping', 'wrap_positions')</td></tr>\n",
       "<tr><td>justification</td><td>if any wrap positions are set, justify to the 'left', 'center', or 'right'</td><td>center</td><td>center</td><td>('with_justification',)</td></tr>\n",
       "</table>\n"
      ],
      "text/plain": [
       "style name: operation\n",
       "description: 'infix' or 'function' style formatting\n",
       "default: infix\n",
       "current value: infix\n",
       "related methods: ()\n",
       "style name: wrap_positions\n",
       "description: position(s) at which wrapping is to occur; '2 n - 1' is after the nth operand, '2 n' is after the nth operation.\n",
       "default: ()\n",
       "current value: ()\n",
       "related methods: ('with_wrapping_at', 'with_wrap_before_operator', 'with_wrap_after_operator', 'without_wrapping', 'wrap_positions')\n",
       "style name: justification\n",
       "description: if any wrap positions are set, justify to the 'left', 'center', or 'right'\n",
       "default: center\n",
       "current value: center\n",
       "related methods: ('with_justification',)"
      ]
     },
     "metadata": {},
     "output_type": "display_data"
    }
   ],
   "source": [
    "stored_expr.style_options()"
   ]
  },
  {
   "cell_type": "code",
   "execution_count": 6,
   "metadata": {},
   "outputs": [
    {
     "data": {
      "text/html": [
       "<table><tr><th>&nbsp;</th><th>core type</th><th>sub-expressions</th><th>expression</th></tr>\n",
       "<tr><td>0</td><td>Operation</td><td>operator:&nbsp;1<br>operands:&nbsp;2<br></td><td><a class=\"ProveItLink\" href=\"expr.ipynb\"><img src=\"expr.png\" style=\"display:inline;vertical-align:middle;\" /></a></td></tr>\n",
       "<tr><td>1</td><td>Literal</td><td></td><td><a class=\"ProveItLink\" href=\"../../../../../logic/booleans/conjunction/__pv_it/common/42118ff318bd65d98b1393f64ce7c2269feef76e0/expr.ipynb\"><img src=\"../../../../../logic/booleans/conjunction/__pv_it/common/42118ff318bd65d98b1393f64ce7c2269feef76e0/expr.png\" style=\"display:inline;vertical-align:middle;\" /></a></td></tr>\n",
       "<tr><td>2</td><td>ExprTuple</td><td>3, 4, 5, 6, 7</td><td><a class=\"ProveItLink\" href=\"../169b4df57e92ee0f52559016f6301eddc80696b10/expr.ipynb\"><img src=\"../169b4df57e92ee0f52559016f6301eddc80696b10/expr.png\" style=\"display:inline;vertical-align:middle;\" /></a></td></tr>\n",
       "<tr><td>3</td><td>ExprRange</td><td>lambda_map:&nbsp;8<br>start_index:&nbsp;13<br>end_index:&nbsp;9<br></td><td><a class=\"ProveItLink\" href=\"../ff5219eddb5fb04ee7e9ef574769ee6c043b92b80/expr.ipynb\"><img src=\"../ff5219eddb5fb04ee7e9ef574769ee6c043b92b80/expr.png\" style=\"display:inline;vertical-align:middle;\" /></a></td></tr>\n",
       "<tr><td>4</td><td>Operation</td><td>operator:&nbsp;23<br>operands:&nbsp;10<br></td><td><a class=\"ProveItLink\" href=\"../6bf1a18c2e3498be826f1c5ef7caab578b7ee8c80/expr.ipynb\"><img src=\"../6bf1a18c2e3498be826f1c5ef7caab578b7ee8c80/expr.png\" style=\"display:inline;vertical-align:middle;\" /></a></td></tr>\n",
       "<tr><td>5</td><td>Operation</td><td>operator:&nbsp;23<br>operands:&nbsp;11<br></td><td><a class=\"ProveItLink\" href=\"../e7a733f6071838c624bab1a2ecdcd3efaa06f4b40/expr.ipynb\"><img src=\"../e7a733f6071838c624bab1a2ecdcd3efaa06f4b40/expr.png\" style=\"display:inline;vertical-align:middle;\" /></a></td></tr>\n",
       "<tr><td>6</td><td>ExprRange</td><td>lambda_map:&nbsp;12<br>start_index:&nbsp;13<br>end_index:&nbsp;14<br></td><td><a class=\"ProveItLink\" href=\"../3c062df665b32fb4a785aa985edb59aaa902791b0/expr.ipynb\"><img src=\"../3c062df665b32fb4a785aa985edb59aaa902791b0/expr.png\" style=\"display:inline;vertical-align:middle;\" /></a></td></tr>\n",
       "<tr><td>7</td><td>Operation</td><td>operator:&nbsp;15<br>operands:&nbsp;16<br></td><td><a class=\"ProveItLink\" href=\"../08a8b8d4a3b83fecc96ee9cda55659414829cfc20/expr.ipynb\"><img src=\"../08a8b8d4a3b83fecc96ee9cda55659414829cfc20/expr.png\" style=\"display:inline;vertical-align:middle;\" /></a></td></tr>\n",
       "<tr><td>8</td><td>Lambda</td><td>parameter:&nbsp;31<br>body:&nbsp;17<br></td><td><a class=\"ProveItLink\" href=\"../82c27d79ac326d4fd4c1483f4a2b0d154c2ff6f00/expr.ipynb\"><img src=\"../82c27d79ac326d4fd4c1483f4a2b0d154c2ff6f00/expr.png\" style=\"display:inline;vertical-align:middle;\" /></a></td></tr>\n",
       "<tr><td>9</td><td>Variable</td><td></td><td><a class=\"ProveItLink\" href=\"../../../../../__pv_it/common/674a03b9c3ca221b3aabd5636837b31528ff33830/expr.ipynb\"><img src=\"../../../../../__pv_it/common/674a03b9c3ca221b3aabd5636837b31528ff33830/expr.png\" style=\"display:inline;vertical-align:middle;\" /></a></td></tr>\n",
       "<tr><td>10</td><td>ExprTuple</td><td>18, 27</td><td><a class=\"ProveItLink\" href=\"../505878fa9838807620aac15f1fd613f2c081d7060/expr.ipynb\"><img src=\"../505878fa9838807620aac15f1fd613f2c081d7060/expr.png\" style=\"display:inline;vertical-align:middle;\" /></a></td></tr>\n",
       "<tr><td>11</td><td>ExprTuple</td><td>20, 27</td><td><a class=\"ProveItLink\" href=\"../483ed3ea8e22f296738bbd4ea443d2744858ccbc0/expr.ipynb\"><img src=\"../483ed3ea8e22f296738bbd4ea443d2744858ccbc0/expr.png\" style=\"display:inline;vertical-align:middle;\" /></a></td></tr>\n",
       "<tr><td>12</td><td>Lambda</td><td>parameter:&nbsp;31<br>body:&nbsp;19<br></td><td><a class=\"ProveItLink\" href=\"../ff0410a469a088a65cec1c5496eb15fc007c39280/expr.ipynb\"><img src=\"../ff0410a469a088a65cec1c5496eb15fc007c39280/expr.png\" style=\"display:inline;vertical-align:middle;\" /></a></td></tr>\n",
       "<tr><td>13</td><td>Literal</td><td></td><td><a class=\"ProveItLink\" href=\"../../../../numerals/__pv_it/common/682157d4892d216d9e5626ed533aff9b56b9506e0/expr.ipynb\"><img src=\"../../../../numerals/__pv_it/common/682157d4892d216d9e5626ed533aff9b56b9506e0/expr.png\" style=\"display:inline;vertical-align:middle;\" /></a></td></tr>\n",
       "<tr><td>14</td><td>Variable</td><td></td><td><a class=\"ProveItLink\" href=\"../../../../../__pv_it/common/8968bb04eb3f7dfa02353397ce929b025bbd79c20/expr.ipynb\"><img src=\"../../../../../__pv_it/common/8968bb04eb3f7dfa02353397ce929b025bbd79c20/expr.png\" style=\"display:inline;vertical-align:middle;\" /></a></td></tr>\n",
       "<tr><td>15</td><td>Literal</td><td></td><td><a class=\"ProveItLink\" href=\"../../../../../logic/equality/__pv_it/common/d96270bc9bb1bad54f773b1c04bfb343a739642c0/expr.ipynb\"><img src=\"../../../../../logic/equality/__pv_it/common/d96270bc9bb1bad54f773b1c04bfb343a739642c0/expr.png\" style=\"display:inline;vertical-align:middle;\" /></a></td></tr>\n",
       "<tr><td>16</td><td>ExprTuple</td><td>20, 21</td><td><a class=\"ProveItLink\" href=\"../30ccd510e4726a63775651957f455c52f587447f0/expr.ipynb\"><img src=\"../30ccd510e4726a63775651957f455c52f587447f0/expr.png\" style=\"display:inline;vertical-align:middle;\" /></a></td></tr>\n",
       "<tr><td>17</td><td>Operation</td><td>operator:&nbsp;23<br>operands:&nbsp;22<br></td><td><a class=\"ProveItLink\" href=\"../b8ecd7510174dfc9e775641a97fb78331b7a63670/expr.ipynb\"><img src=\"../b8ecd7510174dfc9e775641a97fb78331b7a63670/expr.png\" style=\"display:inline;vertical-align:middle;\" /></a></td></tr>\n",
       "<tr><td>18</td><td>Variable</td><td></td><td><a class=\"ProveItLink\" href=\"../../../../../__pv_it/common/a0d9d672aa5e272d907247690c152cc2c6daafb70/expr.ipynb\"><img src=\"../../../../../__pv_it/common/a0d9d672aa5e272d907247690c152cc2c6daafb70/expr.png\" style=\"display:inline;vertical-align:middle;\" /></a></td></tr>\n",
       "<tr><td>19</td><td>Operation</td><td>operator:&nbsp;23<br>operands:&nbsp;24<br></td><td><a class=\"ProveItLink\" href=\"../6471c000c81ffcb5a01748a2d7dbf02bde8d47e40/expr.ipynb\"><img src=\"../6471c000c81ffcb5a01748a2d7dbf02bde8d47e40/expr.png\" style=\"display:inline;vertical-align:middle;\" /></a></td></tr>\n",
       "<tr><td>20</td><td>Variable</td><td></td><td><a class=\"ProveItLink\" href=\"../../../../../__pv_it/common/ff7dba4ef0bbe791ab573bf2d9c220a304399ac80/expr.ipynb\"><img src=\"../../../../../__pv_it/common/ff7dba4ef0bbe791ab573bf2d9c220a304399ac80/expr.png\" style=\"display:inline;vertical-align:middle;\" /></a></td></tr>\n",
       "<tr><td>21</td><td>Literal</td><td></td><td><a class=\"ProveItLink\" href=\"../../../../numerals/__pv_it/common/dd4e19e8b134dfb293470ea55fe3589b0ab9f8040/expr.ipynb\"><img src=\"../../../../numerals/__pv_it/common/dd4e19e8b134dfb293470ea55fe3589b0ab9f8040/expr.png\" style=\"display:inline;vertical-align:middle;\" /></a></td></tr>\n",
       "<tr><td>22</td><td>ExprTuple</td><td>25, 27</td><td><a class=\"ProveItLink\" href=\"../81eaaee5ae31334673fd54db570796f651995b360/expr.ipynb\"><img src=\"../81eaaee5ae31334673fd54db570796f651995b360/expr.png\" style=\"display:inline;vertical-align:middle;\" /></a></td></tr>\n",
       "<tr><td>23</td><td>Literal</td><td></td><td><a class=\"ProveItLink\" href=\"../../../../../logic/sets/membership/__pv_it/common/477487d8796864d23d5810f83761435f25167f690/expr.ipynb\"><img src=\"../../../../../logic/sets/membership/__pv_it/common/477487d8796864d23d5810f83761435f25167f690/expr.png\" style=\"display:inline;vertical-align:middle;\" /></a></td></tr>\n",
       "<tr><td>24</td><td>ExprTuple</td><td>26, 27</td><td><a class=\"ProveItLink\" href=\"../4d95548e408b0353b73fa8277571dd4dc049ff9c0/expr.ipynb\"><img src=\"../4d95548e408b0353b73fa8277571dd4dc049ff9c0/expr.png\" style=\"display:inline;vertical-align:middle;\" /></a></td></tr>\n",
       "<tr><td>25</td><td>IndexedVar</td><td>variable:&nbsp;28<br>index:&nbsp;31<br></td><td><a class=\"ProveItLink\" href=\"../../../../../core_expr_types/__pv_it/common/00158502593b364839817ce0521f3194dd1e87b30/expr.ipynb\"><img src=\"../../../../../core_expr_types/__pv_it/common/00158502593b364839817ce0521f3194dd1e87b30/expr.png\" style=\"display:inline;vertical-align:middle;\" /></a></td></tr>\n",
       "<tr><td>26</td><td>IndexedVar</td><td>variable:&nbsp;29<br>index:&nbsp;31<br></td><td><a class=\"ProveItLink\" href=\"../../../../../core_expr_types/__pv_it/common/e7982d1f96da18806884be8a269b781efc1ebec50/expr.ipynb\"><img src=\"../../../../../core_expr_types/__pv_it/common/e7982d1f96da18806884be8a269b781efc1ebec50/expr.png\" style=\"display:inline;vertical-align:middle;\" /></a></td></tr>\n",
       "<tr><td>27</td><td>Literal</td><td></td><td><a class=\"ProveItLink\" href=\"../../../../number_sets/complex_numbers/__pv_it/common/d18a028138f659eda00de597c28a3447fe87eb100/expr.ipynb\"><img src=\"../../../../number_sets/complex_numbers/__pv_it/common/d18a028138f659eda00de597c28a3447fe87eb100/expr.png\" style=\"display:inline;vertical-align:middle;\" /></a></td></tr>\n",
       "<tr><td>28</td><td>Variable</td><td></td><td><a class=\"ProveItLink\" href=\"../../../../../__pv_it/common/d365663894822dede40e6e04c77860068334d0820/expr.ipynb\"><img src=\"../../../../../__pv_it/common/d365663894822dede40e6e04c77860068334d0820/expr.png\" style=\"display:inline;vertical-align:middle;\" /></a></td></tr>\n",
       "<tr><td>29</td><td>Variable</td><td></td><td><a class=\"ProveItLink\" href=\"../../../../../__pv_it/common/95a8f6b9b9f29b83f192ad7fd05708d6be097a3f0/expr.ipynb\"><img src=\"../../../../../__pv_it/common/95a8f6b9b9f29b83f192ad7fd05708d6be097a3f0/expr.png\" style=\"display:inline;vertical-align:middle;\" /></a></td></tr>\n",
       "<tr><td>30</td><td>ExprTuple</td><td>31</td><td><a class=\"ProveItLink\" href=\"../../../../../core_expr_types/__pv_it/common/4b0dd6be36d76552eda6a95d5b4a27f5a5b62f900/expr.ipynb\"><img src=\"../../../../../core_expr_types/__pv_it/common/4b0dd6be36d76552eda6a95d5b4a27f5a5b62f900/expr.png\" style=\"display:inline;vertical-align:middle;\" /></a></td></tr>\n",
       "<tr><td>31</td><td>Variable</td><td></td><td><a class=\"ProveItLink\" href=\"../../../../../core_expr_types/__pv_it/common/006c465e50948aa2b52285e2de47974f741255cc0/expr.ipynb\"><img src=\"../../../../../core_expr_types/__pv_it/common/006c465e50948aa2b52285e2de47974f741255cc0/expr.png\" style=\"display:inline;vertical-align:middle;\" /></a></td></tr>\n",
       "</table>\n"
      ],
      "text/plain": [
       "0. (w_{1} in Complex) and  (w_{2} in Complex) and  ... and  (w_{m} in Complex) and (x in Complex) and (y in Complex)and (z_{1} in Complex) and  (z_{2} in Complex) and  ... and  (z_{n} in Complex) and (y != 0)\n",
       "   core type: Operation\n",
       "   operator: 1\n",
       "   operands: 2\n",
       "1. and\n",
       "   core type: Literal\n",
       "   sub-expressions: \n",
       "2. ((w_{1} in Complex), (w_{2} in Complex), ..., (w_{m} in Complex), x in Complex, y in Complex,(z_{1} in Complex), (z_{2} in Complex), ..., (z_{n} in Complex), y != 0)\n",
       "   core type: ExprTuple\n",
       "   sub-expressions: 3, 4, 5, 6, 7\n",
       "3. (w_{1} in Complex), (w_{2} in Complex), ..., (w_{m} in Complex)\n",
       "   core type: ExprRange\n",
       "   lambda_map: 8\n",
       "   start_index: 13\n",
       "   end_index: 9\n",
       "4. x in Complex\n",
       "   core type: Operation\n",
       "   operator: 23\n",
       "   operands: 10\n",
       "5. y in Complex\n",
       "   core type: Operation\n",
       "   operator: 23\n",
       "   operands: 11\n",
       "6. (z_{1} in Complex), (z_{2} in Complex), ..., (z_{n} in Complex)\n",
       "   core type: ExprRange\n",
       "   lambda_map: 12\n",
       "   start_index: 13\n",
       "   end_index: 14\n",
       "7. y != 0\n",
       "   core type: Operation\n",
       "   operator: 15\n",
       "   operands: 16\n",
       "8. _a -> (w_{_a} in Complex)\n",
       "   core type: Lambda\n",
       "   parameter: 31\n",
       "   body: 17\n",
       "9. m\n",
       "   core type: Variable\n",
       "   sub-expressions: \n",
       "10. (x, Complex)\n",
       "    core type: ExprTuple\n",
       "    sub-expressions: 18, 27\n",
       "11. (y, Complex)\n",
       "    core type: ExprTuple\n",
       "    sub-expressions: 20, 27\n",
       "12. _a -> (z_{_a} in Complex)\n",
       "    core type: Lambda\n",
       "    parameter: 31\n",
       "    body: 19\n",
       "13. 1\n",
       "    core type: Literal\n",
       "    sub-expressions: \n",
       "14. n\n",
       "    core type: Variable\n",
       "    sub-expressions: \n",
       "15. !=\n",
       "    core type: Literal\n",
       "    sub-expressions: \n",
       "16. (y, 0)\n",
       "    core type: ExprTuple\n",
       "    sub-expressions: 20, 21\n",
       "17. w_{_a} in Complex\n",
       "    core type: Operation\n",
       "    operator: 23\n",
       "    operands: 22\n",
       "18. x\n",
       "    core type: Variable\n",
       "    sub-expressions: \n",
       "19. z_{_a} in Complex\n",
       "    core type: Operation\n",
       "    operator: 23\n",
       "    operands: 24\n",
       "20. y\n",
       "    core type: Variable\n",
       "    sub-expressions: \n",
       "21. 0\n",
       "    core type: Literal\n",
       "    sub-expressions: \n",
       "22. (w_{_a}, Complex)\n",
       "    core type: ExprTuple\n",
       "    sub-expressions: 25, 27\n",
       "23. in\n",
       "    core type: Literal\n",
       "    sub-expressions: \n",
       "24. (z_{_a}, Complex)\n",
       "    core type: ExprTuple\n",
       "    sub-expressions: 26, 27\n",
       "25. w_{_a}\n",
       "    core type: IndexedVar\n",
       "variable: 28\n",
       "index: 31\n",
       "26. z_{_a}\n",
       "    core type: IndexedVar\n",
       "variable: 29\n",
       "index: 31\n",
       "27. Complex\n",
       "    core type: Literal\n",
       "    sub-expressions: \n",
       "28. w\n",
       "    core type: Variable\n",
       "    sub-expressions: \n",
       "29. z\n",
       "    core type: Variable\n",
       "    sub-expressions: \n",
       "30. (_a)\n",
       "    core type: ExprTuple\n",
       "    sub-expressions: 31\n",
       "31. _a\n",
       "    core type: Variable\n",
       "    sub-expressions: "
      ]
     },
     "metadata": {},
     "output_type": "display_data"
    }
   ],
   "source": [
    "# display the expression information\n",
    "stored_expr.expr_info()"
   ]
  },
  {
   "cell_type": "code",
   "execution_count": null,
   "metadata": {},
   "outputs": [],
   "source": []
  }
 ],
 "metadata": {
  "kernelspec": {
   "display_name": "Python 3",
   "language": "python",
   "name": "python3"
  }
 },
 "nbformat": 4,
 "nbformat_minor": 0
}