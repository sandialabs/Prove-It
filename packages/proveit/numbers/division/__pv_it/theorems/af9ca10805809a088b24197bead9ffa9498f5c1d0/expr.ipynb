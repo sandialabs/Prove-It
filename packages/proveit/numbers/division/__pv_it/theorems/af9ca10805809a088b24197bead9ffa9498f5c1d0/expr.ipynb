{
 "cells": [
  {
   "cell_type": "markdown",
   "metadata": {},
   "source": [
    "Expression of type <a class=\"ProveItLink\" href=\"../../../../../../../doc/html/api/proveit.Lambda.html\">Lambda</a>\n",
    "=======================\n",
    "# from the theory of <a class=\"ProveItLink\" href=\"../../../_theory_nbs_/theory.ipynb\">proveit.numbers.division</a>"
   ]
  },
  {
   "cell_type": "code",
   "execution_count": 1,
   "metadata": {},
   "outputs": [],
   "source": [
    "import proveit\n",
    "# Automation is not needed when building an expression:\n",
    "proveit.defaults.automation = False # This will speed things up.\n",
    "proveit.defaults.inline_pngs = False # Makes files smaller.\n",
    "%load_expr # Load the stored expression as 'stored_expr'\n",
    "# import Expression classes needed to build the expression\n",
    "from proveit import Conditional, Lambda, a, x, y\n",
    "from proveit.logic import Forall, InSet\n",
    "from proveit.numbers import Less, RealNeg, RealPos, frac"
   ]
  },
  {
   "cell_type": "code",
   "execution_count": 2,
   "metadata": {},
   "outputs": [
    {
     "data": {
      "text/html": [
       "<strong id=\"expr\">expr:</strong> <a class=\"ProveItLink\" href=\"expr.ipynb\"><img src=\"expr.png\" style=\"display:inline;vertical-align:middle;\" /></a><br>"
      ],
      "text/plain": [
       "<IPython.core.display.HTML object>"
      ]
     },
     "metadata": {},
     "output_type": "display_data"
    }
   ],
   "source": [
    "# build up the expression from sub-expressions\n",
    "expr = Lambda(a, Conditional(Forall(instance_param_or_params = [x, y], instance_expr = Less(frac(a, x), frac(a, y)), domain = RealPos, condition = Less(x, y)), InSet(a, RealNeg)))"
   ]
  },
  {
   "cell_type": "code",
   "execution_count": 3,
   "metadata": {},
   "outputs": [
    {
     "name": "stdout",
     "output_type": "stream",
     "text": [
      "Passed sanity check: expr matches stored_expr\n"
     ]
    }
   ],
   "source": [
    "# check that the built expression is the same as the stored expression\n",
    "assert expr == stored_expr\n",
    "assert expr._style_id == stored_expr._style_id\n",
    "print(\"Passed sanity check: expr matches stored_expr\")"
   ]
  },
  {
   "cell_type": "code",
   "execution_count": 4,
   "metadata": {},
   "outputs": [
    {
     "name": "stdout",
     "output_type": "stream",
     "text": [
      "a \\mapsto \\left\\{\\forall_{x, y \\in \\mathbb{R}^+~|~x < y}~\\left(\\frac{a}{x} < \\frac{a}{y}\\right) \\textrm{ if } a \\in \\mathbb{R}^-\\right..\n"
     ]
    }
   ],
   "source": [
    "# Show the LaTeX representation of the expression for convenience if you need it.\n",
    "print(stored_expr.latex())"
   ]
  },
  {
   "cell_type": "code",
   "execution_count": 5,
   "metadata": {},
   "outputs": [
    {
     "data": {
      "text/html": [
       "no style options"
      ],
      "text/plain": [
       "no style options"
      ]
     },
     "metadata": {},
     "output_type": "display_data"
    }
   ],
   "source": [
    "stored_expr.style_options()"
   ]
  },
  {
   "cell_type": "code",
   "execution_count": 6,
   "metadata": {},
   "outputs": [
    {
     "data": {
      "text/html": [
       "<table><tr><th>&nbsp;</th><th>core type</th><th>sub-expressions</th><th>expression</th></tr>\n",
       "<tr><td>0</td><td>Lambda</td><td>parameter:&nbsp;29<br>body:&nbsp;2<br></td><td><a class=\"ProveItLink\" href=\"expr.ipynb\"><img src=\"expr.png\" style=\"display:inline;vertical-align:middle;\" /></a></td></tr>\n",
       "<tr><td>1</td><td>ExprTuple</td><td>29</td><td><a class=\"ProveItLink\" href=\"../034703c6972b772d60786b3024fb4de33deb9fd00/expr.ipynb\"><img src=\"../034703c6972b772d60786b3024fb4de33deb9fd00/expr.png\" style=\"display:inline;vertical-align:middle;\" /></a></td></tr>\n",
       "<tr><td>2</td><td>Conditional</td><td>value:&nbsp;3<br>condition:&nbsp;4<br></td><td><a class=\"ProveItLink\" href=\"../8f1f87ae3bf8582ad65fa7500f6b4649a0e7a8050/expr.ipynb\"><img src=\"../8f1f87ae3bf8582ad65fa7500f6b4649a0e7a8050/expr.png\" style=\"display:inline;vertical-align:middle;\" /></a></td></tr>\n",
       "<tr><td>3</td><td>Operation</td><td>operator:&nbsp;5<br>operand:&nbsp;8<br></td><td><a class=\"ProveItLink\" href=\"../635f355442e3cca73c5d3f510291327c7f8ed5ce0/expr.ipynb\"><img src=\"../635f355442e3cca73c5d3f510291327c7f8ed5ce0/expr.png\" style=\"display:inline;vertical-align:middle;\" /></a></td></tr>\n",
       "<tr><td>4</td><td>Operation</td><td>operator:&nbsp;25<br>operands:&nbsp;7<br></td><td><a class=\"ProveItLink\" href=\"../d70a380bc05b43e909cb7708fe500d703d016a270/expr.ipynb\"><img src=\"../d70a380bc05b43e909cb7708fe500d703d016a270/expr.png\" style=\"display:inline;vertical-align:middle;\" /></a></td></tr>\n",
       "<tr><td>5</td><td>Literal</td><td></td><td><a class=\"ProveItLink\" href=\"../../../../../logic/booleans/quantification/universality/__pv_it/common/083d2baa0b8ecab1d230f9ec29a15aa1355809fb0/expr.ipynb\"><img src=\"../../../../../logic/booleans/quantification/universality/__pv_it/common/083d2baa0b8ecab1d230f9ec29a15aa1355809fb0/expr.png\" style=\"display:inline;vertical-align:middle;\" /></a></td></tr>\n",
       "<tr><td>6</td><td>ExprTuple</td><td>8</td><td><a class=\"ProveItLink\" href=\"../c84257887f041a8d0bdf925e2f6e9ee1686906f00/expr.ipynb\"><img src=\"../c84257887f041a8d0bdf925e2f6e9ee1686906f00/expr.png\" style=\"display:inline;vertical-align:middle;\" /></a></td></tr>\n",
       "<tr><td>7</td><td>ExprTuple</td><td>29, 9</td><td><a class=\"ProveItLink\" href=\"../d938df2d0bc68d682178fc3fba7f500a486ad43b0/expr.ipynb\"><img src=\"../d938df2d0bc68d682178fc3fba7f500a486ad43b0/expr.png\" style=\"display:inline;vertical-align:middle;\" /></a></td></tr>\n",
       "<tr><td>8</td><td>Lambda</td><td>parameters:&nbsp;28<br>body:&nbsp;10<br></td><td><a class=\"ProveItLink\" href=\"../765d4a44698405fbe94a54338545d198e86a314c0/expr.ipynb\"><img src=\"../765d4a44698405fbe94a54338545d198e86a314c0/expr.png\" style=\"display:inline;vertical-align:middle;\" /></a></td></tr>\n",
       "<tr><td>9</td><td>Literal</td><td></td><td><a class=\"ProveItLink\" href=\"../../../../number_sets/real_numbers/__pv_it/common/22049b0ceade1b5eb1b88ec78deb486d547c9b580/expr.ipynb\"><img src=\"../../../../number_sets/real_numbers/__pv_it/common/22049b0ceade1b5eb1b88ec78deb486d547c9b580/expr.png\" style=\"display:inline;vertical-align:middle;\" /></a></td></tr>\n",
       "<tr><td>10</td><td>Conditional</td><td>value:&nbsp;11<br>condition:&nbsp;12<br></td><td><a class=\"ProveItLink\" href=\"../fc55c481d634b4616edb43635a77b67f9e269cbc0/expr.ipynb\"><img src=\"../fc55c481d634b4616edb43635a77b67f9e269cbc0/expr.png\" style=\"display:inline;vertical-align:middle;\" /></a></td></tr>\n",
       "<tr><td>11</td><td>Operation</td><td>operator:&nbsp;27<br>operands:&nbsp;13<br></td><td><a class=\"ProveItLink\" href=\"../a9d729fe990a832d85d6383bcf73d0814b85956f0/expr.ipynb\"><img src=\"../a9d729fe990a832d85d6383bcf73d0814b85956f0/expr.png\" style=\"display:inline;vertical-align:middle;\" /></a></td></tr>\n",
       "<tr><td>12</td><td>Operation</td><td>operator:&nbsp;14<br>operands:&nbsp;15<br></td><td><a class=\"ProveItLink\" href=\"../db5c0bff0e0321ab0347d4f5665e680c2a4a35910/expr.ipynb\"><img src=\"../db5c0bff0e0321ab0347d4f5665e680c2a4a35910/expr.png\" style=\"display:inline;vertical-align:middle;\" /></a></td></tr>\n",
       "<tr><td>13</td><td>ExprTuple</td><td>16, 17</td><td><a class=\"ProveItLink\" href=\"../17b77716915b32f745ff08deebccf6f18bf3f1190/expr.ipynb\"><img src=\"../17b77716915b32f745ff08deebccf6f18bf3f1190/expr.png\" style=\"display:inline;vertical-align:middle;\" /></a></td></tr>\n",
       "<tr><td>14</td><td>Literal</td><td></td><td><a class=\"ProveItLink\" href=\"../../../../../logic/booleans/conjunction/__pv_it/common/42118ff318bd65d98b1393f64ce7c2269feef76e0/expr.ipynb\"><img src=\"../../../../../logic/booleans/conjunction/__pv_it/common/42118ff318bd65d98b1393f64ce7c2269feef76e0/expr.png\" style=\"display:inline;vertical-align:middle;\" /></a></td></tr>\n",
       "<tr><td>15</td><td>ExprTuple</td><td>18, 19, 20</td><td><a class=\"ProveItLink\" href=\"../f716c204a9fc6431dcf198ec6f4678a4386c26570/expr.ipynb\"><img src=\"../f716c204a9fc6431dcf198ec6f4678a4386c26570/expr.png\" style=\"display:inline;vertical-align:middle;\" /></a></td></tr>\n",
       "<tr><td>16</td><td>Operation</td><td>operator:&nbsp;22<br>operands:&nbsp;21<br></td><td><a class=\"ProveItLink\" href=\"../9e8c61fd092421d6ad666ceca25eba40b46237020/expr.ipynb\"><img src=\"../9e8c61fd092421d6ad666ceca25eba40b46237020/expr.png\" style=\"display:inline;vertical-align:middle;\" /></a></td></tr>\n",
       "<tr><td>17</td><td>Operation</td><td>operator:&nbsp;22<br>operands:&nbsp;23<br></td><td><a class=\"ProveItLink\" href=\"../697f501ea0e7e7fc821f532b92cb6c440b1392410/expr.ipynb\"><img src=\"../697f501ea0e7e7fc821f532b92cb6c440b1392410/expr.png\" style=\"display:inline;vertical-align:middle;\" /></a></td></tr>\n",
       "<tr><td>18</td><td>Operation</td><td>operator:&nbsp;25<br>operands:&nbsp;24<br></td><td><a class=\"ProveItLink\" href=\"../035b7dc808b6932bfddd867383528b54b30ff3c50/expr.ipynb\"><img src=\"../035b7dc808b6932bfddd867383528b54b30ff3c50/expr.png\" style=\"display:inline;vertical-align:middle;\" /></a></td></tr>\n",
       "<tr><td>19</td><td>Operation</td><td>operator:&nbsp;25<br>operands:&nbsp;26<br></td><td><a class=\"ProveItLink\" href=\"../f7520a13bd7584f005356ec359b6594d35c956560/expr.ipynb\"><img src=\"../f7520a13bd7584f005356ec359b6594d35c956560/expr.png\" style=\"display:inline;vertical-align:middle;\" /></a></td></tr>\n",
       "<tr><td>20</td><td>Operation</td><td>operator:&nbsp;27<br>operands:&nbsp;28<br></td><td><a class=\"ProveItLink\" href=\"../8846042a23bd4715f8e6849c9188a77fefec509b0/expr.ipynb\"><img src=\"../8846042a23bd4715f8e6849c9188a77fefec509b0/expr.png\" style=\"display:inline;vertical-align:middle;\" /></a></td></tr>\n",
       "<tr><td>21</td><td>ExprTuple</td><td>29, 31</td><td><a class=\"ProveItLink\" href=\"../16542dff4296b36f053bf5d488afb46dffba9b230/expr.ipynb\"><img src=\"../16542dff4296b36f053bf5d488afb46dffba9b230/expr.png\" style=\"display:inline;vertical-align:middle;\" /></a></td></tr>\n",
       "<tr><td>22</td><td>Literal</td><td></td><td><a class=\"ProveItLink\" href=\"../../common/a2a633e1e3c749fb1f2692466b287b6348c5de840/expr.ipynb\"><img src=\"../../common/a2a633e1e3c749fb1f2692466b287b6348c5de840/expr.png\" style=\"display:inline;vertical-align:middle;\" /></a></td></tr>\n",
       "<tr><td>23</td><td>ExprTuple</td><td>29, 32</td><td><a class=\"ProveItLink\" href=\"../ef6376c7c6407225d32b6b693cda698fb64ddaa30/expr.ipynb\"><img src=\"../ef6376c7c6407225d32b6b693cda698fb64ddaa30/expr.png\" style=\"display:inline;vertical-align:middle;\" /></a></td></tr>\n",
       "<tr><td>24</td><td>ExprTuple</td><td>31, 30</td><td><a class=\"ProveItLink\" href=\"../f51aa1be41cb959917c41325a60f4a9a24e23a6e0/expr.ipynb\"><img src=\"../f51aa1be41cb959917c41325a60f4a9a24e23a6e0/expr.png\" style=\"display:inline;vertical-align:middle;\" /></a></td></tr>\n",
       "<tr><td>25</td><td>Literal</td><td></td><td><a class=\"ProveItLink\" href=\"../../../../../logic/sets/membership/__pv_it/common/477487d8796864d23d5810f83761435f25167f690/expr.ipynb\"><img src=\"../../../../../logic/sets/membership/__pv_it/common/477487d8796864d23d5810f83761435f25167f690/expr.png\" style=\"display:inline;vertical-align:middle;\" /></a></td></tr>\n",
       "<tr><td>26</td><td>ExprTuple</td><td>32, 30</td><td><a class=\"ProveItLink\" href=\"../e3066864cb9809a9d0d90e8e424d5f5192ced3bf0/expr.ipynb\"><img src=\"../e3066864cb9809a9d0d90e8e424d5f5192ced3bf0/expr.png\" style=\"display:inline;vertical-align:middle;\" /></a></td></tr>\n",
       "<tr><td>27</td><td>Literal</td><td></td><td><a class=\"ProveItLink\" href=\"../../../../ordering/__pv_it/common/fa503ed52033522c609eef1cf3e1b45796489da50/expr.ipynb\"><img src=\"../../../../ordering/__pv_it/common/fa503ed52033522c609eef1cf3e1b45796489da50/expr.png\" style=\"display:inline;vertical-align:middle;\" /></a></td></tr>\n",
       "<tr><td>28</td><td>ExprTuple</td><td>31, 32</td><td><a class=\"ProveItLink\" href=\"../bbaa48af4605eceb7fbc4af345a1eb6de480e1c50/expr.ipynb\"><img src=\"../bbaa48af4605eceb7fbc4af345a1eb6de480e1c50/expr.png\" style=\"display:inline;vertical-align:middle;\" /></a></td></tr>\n",
       "<tr><td>29</td><td>Variable</td><td></td><td><a class=\"ProveItLink\" href=\"../../../../../__pv_it/common/c06c606ec12678c58933ac85412ecadc2ae28be60/expr.ipynb\"><img src=\"../../../../../__pv_it/common/c06c606ec12678c58933ac85412ecadc2ae28be60/expr.png\" style=\"display:inline;vertical-align:middle;\" /></a></td></tr>\n",
       "<tr><td>30</td><td>Literal</td><td></td><td><a class=\"ProveItLink\" href=\"../../../../number_sets/real_numbers/__pv_it/common/174917e13d50b91c585b7f765a2896383a3ae8010/expr.ipynb\"><img src=\"../../../../number_sets/real_numbers/__pv_it/common/174917e13d50b91c585b7f765a2896383a3ae8010/expr.png\" style=\"display:inline;vertical-align:middle;\" /></a></td></tr>\n",
       "<tr><td>31</td><td>Variable</td><td></td><td><a class=\"ProveItLink\" href=\"../../../../../__pv_it/common/a0d9d672aa5e272d907247690c152cc2c6daafb70/expr.ipynb\"><img src=\"../../../../../__pv_it/common/a0d9d672aa5e272d907247690c152cc2c6daafb70/expr.png\" style=\"display:inline;vertical-align:middle;\" /></a></td></tr>\n",
       "<tr><td>32</td><td>Variable</td><td></td><td><a class=\"ProveItLink\" href=\"../../../../../__pv_it/common/ff7dba4ef0bbe791ab573bf2d9c220a304399ac80/expr.ipynb\"><img src=\"../../../../../__pv_it/common/ff7dba4ef0bbe791ab573bf2d9c220a304399ac80/expr.png\" style=\"display:inline;vertical-align:middle;\" /></a></td></tr>\n",
       "</table>\n"
      ],
      "text/plain": [
       "0. a -> {forall_{x, y in RealPos | x < y} ((a / x) < (a / y)) if a in RealNeg.\n",
       "   core type: Lambda\n",
       "   parameter: 29\n",
       "   body: 2\n",
       "1. (a)\n",
       "   core type: ExprTuple\n",
       "   sub-expressions: 29\n",
       "2. {forall_{x, y in RealPos | x < y} ((a / x) < (a / y)) if a in RealNeg.\n",
       "   core type: Conditional\n",
       "   value: 3\n",
       "   condition: 4\n",
       "3. forall_{x, y in RealPos | x < y} ((a / x) < (a / y))\n",
       "   core type: Operation\n",
       "   operator: 5\n",
       "   operand: 8\n",
       "4. a in RealNeg\n",
       "   core type: Operation\n",
       "   operator: 25\n",
       "   operands: 7\n",
       "5. forall\n",
       "   core type: Literal\n",
       "   sub-expressions: \n",
       "6. ((x, y) -> {(a / x) < (a / y) if x in RealPos ,  y in RealPos ,  x < y.)\n",
       "   core type: ExprTuple\n",
       "   sub-expressions: 8\n",
       "7. (a, RealNeg)\n",
       "   core type: ExprTuple\n",
       "   sub-expressions: 29, 9\n",
       "8. (x, y) -> {(a / x) < (a / y) if x in RealPos ,  y in RealPos ,  x < y.\n",
       "   core type: Lambda\n",
       "   parameters: 28\\n   body: 10\n",
       "9. RealNeg\n",
       "   core type: Literal\n",
       "   sub-expressions: \n",
       "10. {(a / x) < (a / y) if x in RealPos ,  y in RealPos ,  x < y.\n",
       "    core type: Conditional\n",
       "    value: 11\n",
       "    condition: 12\n",
       "11. (a / x) < (a / y)\n",
       "    core type: Operation\n",
       "    operator: 27\n",
       "    operands: 13\n",
       "12. (x in RealPos) and (y in RealPos) and (x < y)\n",
       "    core type: Operation\n",
       "    operator: 14\n",
       "    operands: 15\n",
       "13. (a / x, a / y)\n",
       "    core type: ExprTuple\n",
       "    sub-expressions: 16, 17\n",
       "14. and\n",
       "    core type: Literal\n",
       "    sub-expressions: \n",
       "15. (x in RealPos, y in RealPos, x < y)\n",
       "    core type: ExprTuple\n",
       "    sub-expressions: 18, 19, 20\n",
       "16. a / x\n",
       "    core type: Operation\n",
       "    operator: 22\n",
       "    operands: 21\n",
       "17. a / y\n",
       "    core type: Operation\n",
       "    operator: 22\n",
       "    operands: 23\n",
       "18. x in RealPos\n",
       "    core type: Operation\n",
       "    operator: 25\n",
       "    operands: 24\n",
       "19. y in RealPos\n",
       "    core type: Operation\n",
       "    operator: 25\n",
       "    operands: 26\n",
       "20. x < y\n",
       "    core type: Operation\n",
       "    operator: 27\n",
       "    operands: 28\n",
       "21. (a, x)\n",
       "    core type: ExprTuple\n",
       "    sub-expressions: 29, 31\n",
       "22. /\n",
       "    core type: Literal\n",
       "    sub-expressions: \n",
       "23. (a, y)\n",
       "    core type: ExprTuple\n",
       "    sub-expressions: 29, 32\n",
       "24. (x, RealPos)\n",
       "    core type: ExprTuple\n",
       "    sub-expressions: 31, 30\n",
       "25. in\n",
       "    core type: Literal\n",
       "    sub-expressions: \n",
       "26. (y, RealPos)\n",
       "    core type: ExprTuple\n",
       "    sub-expressions: 32, 30\n",
       "27. <\n",
       "    core type: Literal\n",
       "    sub-expressions: \n",
       "28. (x, y)\n",
       "    core type: ExprTuple\n",
       "    sub-expressions: 31, 32\n",
       "29. a\n",
       "    core type: Variable\n",
       "    sub-expressions: \n",
       "30. RealPos\n",
       "    core type: Literal\n",
       "    sub-expressions: \n",
       "31. x\n",
       "    core type: Variable\n",
       "    sub-expressions: \n",
       "32. y\n",
       "    core type: Variable\n",
       "    sub-expressions: "
      ]
     },
     "metadata": {},
     "output_type": "display_data"
    }
   ],
   "source": [
    "# display the expression information\n",
    "stored_expr.expr_info()"
   ]
  },
  {
   "cell_type": "code",
   "execution_count": null,
   "metadata": {},
   "outputs": [],
   "source": []
  }
 ],
 "metadata": {
  "kernelspec": {
   "display_name": "Python 3",
   "language": "python",
   "name": "python3"
  }
 },
 "nbformat": 4,
 "nbformat_minor": 0
}