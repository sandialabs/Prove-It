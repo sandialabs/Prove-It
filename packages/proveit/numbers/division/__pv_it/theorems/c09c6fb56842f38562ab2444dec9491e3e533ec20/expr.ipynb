{
 "cells": [
  {
   "cell_type": "markdown",
   "metadata": {},
   "source": [
    "Expression of type <a class=\"ProveItLink\" href=\"../../../../../../../doc/html/api/proveit.Lambda.html\">Lambda</a>\n",
    "=======================\n",
    "# from the theory of <a class=\"ProveItLink\" href=\"../../../_theory_nbs_/theory.ipynb\">proveit.numbers.division</a>"
   ]
  },
  {
   "cell_type": "code",
   "execution_count": 1,
   "metadata": {},
   "outputs": [],
   "source": [
    "import proveit\n",
    "# Automation is not needed when building an expression:\n",
    "proveit.defaults.automation = False # This will speed things up.\n",
    "proveit.defaults.inline_pngs = False # Makes files smaller.\n",
    "%load_expr # Load the stored expression as 'stored_expr'\n",
    "# import Expression classes needed to build the expression\n",
    "from proveit import Conditional, Lambda, a, b, c, d, e\n",
    "from proveit.logic import And, Equals, InSet\n",
    "from proveit.numbers import ComplexNonZero, Mult, frac"
   ]
  },
  {
   "cell_type": "code",
   "execution_count": 2,
   "metadata": {},
   "outputs": [
    {
     "data": {
      "text/html": [
       "<strong id=\"expr\">expr:</strong> <a class=\"ProveItLink\" href=\"expr.ipynb\"><img src=\"expr.png\" style=\"display:inline;vertical-align:middle;\" /></a><br>"
      ],
      "text/plain": [
       "<IPython.core.display.HTML object>"
      ]
     },
     "metadata": {},
     "output_type": "display_data"
    }
   ],
   "source": [
    "# build up the expression from sub-expressions\n",
    "expr = Lambda([b, c, e], Conditional(Equals(Mult(frac(a, Mult(b, c)), frac(Mult(c, d), e)), Mult(frac(a, b), frac(d, e))), And(InSet(b, ComplexNonZero), InSet(c, ComplexNonZero), InSet(e, ComplexNonZero))))"
   ]
  },
  {
   "cell_type": "code",
   "execution_count": 3,
   "metadata": {},
   "outputs": [
    {
     "name": "stdout",
     "output_type": "stream",
     "text": [
      "Passed sanity check: expr matches stored_expr\n"
     ]
    }
   ],
   "source": [
    "# check that the built expression is the same as the stored expression\n",
    "assert expr == stored_expr\n",
    "assert expr._style_id == stored_expr._style_id\n",
    "print(\"Passed sanity check: expr matches stored_expr\")"
   ]
  },
  {
   "cell_type": "code",
   "execution_count": 4,
   "metadata": {},
   "outputs": [
    {
     "name": "stdout",
     "output_type": "stream",
     "text": [
      "\\left(b, c, e\\right) \\mapsto \\left\\{\\left(\\frac{a}{b \\cdot c} \\cdot \\frac{c \\cdot d}{e}\\right) = \\left(\\frac{a}{b} \\cdot \\frac{d}{e}\\right) \\textrm{ if } b \\in \\mathbb{C}^{\\neq 0} ,  c \\in \\mathbb{C}^{\\neq 0} ,  e \\in \\mathbb{C}^{\\neq 0}\\right..\n"
     ]
    }
   ],
   "source": [
    "# Show the LaTeX representation of the expression for convenience if you need it.\n",
    "print(stored_expr.latex())"
   ]
  },
  {
   "cell_type": "code",
   "execution_count": 5,
   "metadata": {},
   "outputs": [
    {
     "data": {
      "text/html": [
       "no style options"
      ],
      "text/plain": [
       "no style options"
      ]
     },
     "metadata": {},
     "output_type": "display_data"
    }
   ],
   "source": [
    "stored_expr.style_options()"
   ]
  },
  {
   "cell_type": "code",
   "execution_count": 6,
   "metadata": {},
   "outputs": [
    {
     "data": {
      "text/html": [
       "<table><tr><th>&nbsp;</th><th>core type</th><th>sub-expressions</th><th>expression</th></tr>\n",
       "<tr><td>0</td><td>Lambda</td><td>parameters:&nbsp;1<br>body:&nbsp;2<br></td><td><a class=\"ProveItLink\" href=\"expr.ipynb\"><img src=\"expr.png\" style=\"display:inline;vertical-align:middle;\" /></a></td></tr>\n",
       "<tr><td>1</td><td>ExprTuple</td><td>37, 38, 33</td><td><a class=\"ProveItLink\" href=\"../40926d85a3e42f7012b489232e0326be8e35cbb80/expr.ipynb\"><img src=\"../40926d85a3e42f7012b489232e0326be8e35cbb80/expr.png\" style=\"display:inline;vertical-align:middle;\" /></a></td></tr>\n",
       "<tr><td>2</td><td>Conditional</td><td>value:&nbsp;3<br>condition:&nbsp;4<br></td><td><a class=\"ProveItLink\" href=\"../4af514db00d4af57ea16fa7ab555d087b94ce4cb0/expr.ipynb\"><img src=\"../4af514db00d4af57ea16fa7ab555d087b94ce4cb0/expr.png\" style=\"display:inline;vertical-align:middle;\" /></a></td></tr>\n",
       "<tr><td>3</td><td>Operation</td><td>operator:&nbsp;5<br>operands:&nbsp;6<br></td><td><a class=\"ProveItLink\" href=\"../054fa4864025f5edd41611dd11679cd1fab27b480/expr.ipynb\"><img src=\"../054fa4864025f5edd41611dd11679cd1fab27b480/expr.png\" style=\"display:inline;vertical-align:middle;\" /></a></td></tr>\n",
       "<tr><td>4</td><td>Operation</td><td>operator:&nbsp;7<br>operands:&nbsp;8<br></td><td><a class=\"ProveItLink\" href=\"../347c0daaf7e4a662245c544e07e206c20378a4c00/expr.ipynb\"><img src=\"../347c0daaf7e4a662245c544e07e206c20378a4c00/expr.png\" style=\"display:inline;vertical-align:middle;\" /></a></td></tr>\n",
       "<tr><td>5</td><td>Literal</td><td></td><td><a class=\"ProveItLink\" href=\"../../../../../logic/equality/__pv_it/common/fb96dc12b2aa8801dda64d0132b396c63d1502bb0/expr.ipynb\"><img src=\"../../../../../logic/equality/__pv_it/common/fb96dc12b2aa8801dda64d0132b396c63d1502bb0/expr.png\" style=\"display:inline;vertical-align:middle;\" /></a></td></tr>\n",
       "<tr><td>6</td><td>ExprTuple</td><td>9, 10</td><td><a class=\"ProveItLink\" href=\"../0daae1b17187e720437aa4fc53d364f7ee4050900/expr.ipynb\"><img src=\"../0daae1b17187e720437aa4fc53d364f7ee4050900/expr.png\" style=\"display:inline;vertical-align:middle;\" /></a></td></tr>\n",
       "<tr><td>7</td><td>Literal</td><td></td><td><a class=\"ProveItLink\" href=\"../../../../../logic/booleans/conjunction/__pv_it/common/42118ff318bd65d98b1393f64ce7c2269feef76e0/expr.ipynb\"><img src=\"../../../../../logic/booleans/conjunction/__pv_it/common/42118ff318bd65d98b1393f64ce7c2269feef76e0/expr.png\" style=\"display:inline;vertical-align:middle;\" /></a></td></tr>\n",
       "<tr><td>8</td><td>ExprTuple</td><td>11, 12, 13</td><td><a class=\"ProveItLink\" href=\"../c4d0e302ba788f3e99917a3ee8384483c7484da50/expr.ipynb\"><img src=\"../c4d0e302ba788f3e99917a3ee8384483c7484da50/expr.png\" style=\"display:inline;vertical-align:middle;\" /></a></td></tr>\n",
       "<tr><td>9</td><td>Operation</td><td>operator:&nbsp;35<br>operands:&nbsp;14<br></td><td><a class=\"ProveItLink\" href=\"../9f3a69c4f70778051a01867859be01f01292f3470/expr.ipynb\"><img src=\"../9f3a69c4f70778051a01867859be01f01292f3470/expr.png\" style=\"display:inline;vertical-align:middle;\" /></a></td></tr>\n",
       "<tr><td>10</td><td>Operation</td><td>operator:&nbsp;35<br>operands:&nbsp;15<br></td><td><a class=\"ProveItLink\" href=\"../fb38020e49d5db74151242ec2cde093a9e1e5f850/expr.ipynb\"><img src=\"../fb38020e49d5db74151242ec2cde093a9e1e5f850/expr.png\" style=\"display:inline;vertical-align:middle;\" /></a></td></tr>\n",
       "<tr><td>11</td><td>Operation</td><td>operator:&nbsp;18<br>operands:&nbsp;16<br></td><td><a class=\"ProveItLink\" href=\"../2e5c479c3b8a361f768f687a78bba3470c2214e40/expr.ipynb\"><img src=\"../2e5c479c3b8a361f768f687a78bba3470c2214e40/expr.png\" style=\"display:inline;vertical-align:middle;\" /></a></td></tr>\n",
       "<tr><td>12</td><td>Operation</td><td>operator:&nbsp;18<br>operands:&nbsp;17<br></td><td><a class=\"ProveItLink\" href=\"../0762eef3346f360e5ea20bc1386eac8150a842620/expr.ipynb\"><img src=\"../0762eef3346f360e5ea20bc1386eac8150a842620/expr.png\" style=\"display:inline;vertical-align:middle;\" /></a></td></tr>\n",
       "<tr><td>13</td><td>Operation</td><td>operator:&nbsp;18<br>operands:&nbsp;19<br></td><td><a class=\"ProveItLink\" href=\"../d810c3ad86f9a7ef3104bd0c5d8276ef9c31cd530/expr.ipynb\"><img src=\"../d810c3ad86f9a7ef3104bd0c5d8276ef9c31cd530/expr.png\" style=\"display:inline;vertical-align:middle;\" /></a></td></tr>\n",
       "<tr><td>14</td><td>ExprTuple</td><td>20, 21</td><td><a class=\"ProveItLink\" href=\"../8b1eab929cc473904925486e5e1264ae0e4198080/expr.ipynb\"><img src=\"../8b1eab929cc473904925486e5e1264ae0e4198080/expr.png\" style=\"display:inline;vertical-align:middle;\" /></a></td></tr>\n",
       "<tr><td>15</td><td>ExprTuple</td><td>22, 23</td><td><a class=\"ProveItLink\" href=\"../e8a102a13091056077eb80d0da003e4144984a0c0/expr.ipynb\"><img src=\"../e8a102a13091056077eb80d0da003e4144984a0c0/expr.png\" style=\"display:inline;vertical-align:middle;\" /></a></td></tr>\n",
       "<tr><td>16</td><td>ExprTuple</td><td>37, 24</td><td><a class=\"ProveItLink\" href=\"../5c009f222c8580e4cb513a61d19981e9a5a4ca770/expr.ipynb\"><img src=\"../5c009f222c8580e4cb513a61d19981e9a5a4ca770/expr.png\" style=\"display:inline;vertical-align:middle;\" /></a></td></tr>\n",
       "<tr><td>17</td><td>ExprTuple</td><td>38, 24</td><td><a class=\"ProveItLink\" href=\"../156ef4e2430090248a063cb71c6c89c76f4179690/expr.ipynb\"><img src=\"../156ef4e2430090248a063cb71c6c89c76f4179690/expr.png\" style=\"display:inline;vertical-align:middle;\" /></a></td></tr>\n",
       "<tr><td>18</td><td>Literal</td><td></td><td><a class=\"ProveItLink\" href=\"../../../../../logic/sets/membership/__pv_it/common/477487d8796864d23d5810f83761435f25167f690/expr.ipynb\"><img src=\"../../../../../logic/sets/membership/__pv_it/common/477487d8796864d23d5810f83761435f25167f690/expr.png\" style=\"display:inline;vertical-align:middle;\" /></a></td></tr>\n",
       "<tr><td>19</td><td>ExprTuple</td><td>33, 24</td><td><a class=\"ProveItLink\" href=\"../f1c3fdc8e23e32470f29e8279bd12b5ed052641e0/expr.ipynb\"><img src=\"../f1c3fdc8e23e32470f29e8279bd12b5ed052641e0/expr.png\" style=\"display:inline;vertical-align:middle;\" /></a></td></tr>\n",
       "<tr><td>20</td><td>Operation</td><td>operator:&nbsp;28<br>operands:&nbsp;25<br></td><td><a class=\"ProveItLink\" href=\"../14b307388f7cd64ad04ac7902b9f7f91ee1dd28d0/expr.ipynb\"><img src=\"../14b307388f7cd64ad04ac7902b9f7f91ee1dd28d0/expr.png\" style=\"display:inline;vertical-align:middle;\" /></a></td></tr>\n",
       "<tr><td>21</td><td>Operation</td><td>operator:&nbsp;28<br>operands:&nbsp;26<br></td><td><a class=\"ProveItLink\" href=\"../3aa16b37e4caf33552bc3f6d054a84a1148667830/expr.ipynb\"><img src=\"../3aa16b37e4caf33552bc3f6d054a84a1148667830/expr.png\" style=\"display:inline;vertical-align:middle;\" /></a></td></tr>\n",
       "<tr><td>22</td><td>Operation</td><td>operator:&nbsp;28<br>operands:&nbsp;27<br></td><td><a class=\"ProveItLink\" href=\"../1d538d2f20f29402801c0b11601119d40d9de7330/expr.ipynb\"><img src=\"../1d538d2f20f29402801c0b11601119d40d9de7330/expr.png\" style=\"display:inline;vertical-align:middle;\" /></a></td></tr>\n",
       "<tr><td>23</td><td>Operation</td><td>operator:&nbsp;28<br>operands:&nbsp;29<br></td><td><a class=\"ProveItLink\" href=\"../e18dead64f987185793af2419b84731666f5675f0/expr.ipynb\"><img src=\"../e18dead64f987185793af2419b84731666f5675f0/expr.png\" style=\"display:inline;vertical-align:middle;\" /></a></td></tr>\n",
       "<tr><td>24</td><td>Literal</td><td></td><td><a class=\"ProveItLink\" href=\"../../../../number_sets/complex_numbers/__pv_it/common/8ab52a5fa82bbe01e674c56b4ac8573af71c37d10/expr.ipynb\"><img src=\"../../../../number_sets/complex_numbers/__pv_it/common/8ab52a5fa82bbe01e674c56b4ac8573af71c37d10/expr.png\" style=\"display:inline;vertical-align:middle;\" /></a></td></tr>\n",
       "<tr><td>25</td><td>ExprTuple</td><td>32, 30</td><td><a class=\"ProveItLink\" href=\"../f0323da2e0d591f837ca77a32957c03789abe7240/expr.ipynb\"><img src=\"../f0323da2e0d591f837ca77a32957c03789abe7240/expr.png\" style=\"display:inline;vertical-align:middle;\" /></a></td></tr>\n",
       "<tr><td>26</td><td>ExprTuple</td><td>31, 33</td><td><a class=\"ProveItLink\" href=\"../d0729937e6dc8e262e0a113b707f531ada8a58d90/expr.ipynb\"><img src=\"../d0729937e6dc8e262e0a113b707f531ada8a58d90/expr.png\" style=\"display:inline;vertical-align:middle;\" /></a></td></tr>\n",
       "<tr><td>27</td><td>ExprTuple</td><td>32, 37</td><td><a class=\"ProveItLink\" href=\"../3dcd5ceea6334d8cb48fe14fdae236293aa9a6050/expr.ipynb\"><img src=\"../3dcd5ceea6334d8cb48fe14fdae236293aa9a6050/expr.png\" style=\"display:inline;vertical-align:middle;\" /></a></td></tr>\n",
       "<tr><td>28</td><td>Literal</td><td></td><td><a class=\"ProveItLink\" href=\"../../common/a2a633e1e3c749fb1f2692466b287b6348c5de840/expr.ipynb\"><img src=\"../../common/a2a633e1e3c749fb1f2692466b287b6348c5de840/expr.png\" style=\"display:inline;vertical-align:middle;\" /></a></td></tr>\n",
       "<tr><td>29</td><td>ExprTuple</td><td>39, 33</td><td><a class=\"ProveItLink\" href=\"../1f13989ef0023c6064e6023b404c042fc8dd2d710/expr.ipynb\"><img src=\"../1f13989ef0023c6064e6023b404c042fc8dd2d710/expr.png\" style=\"display:inline;vertical-align:middle;\" /></a></td></tr>\n",
       "<tr><td>30</td><td>Operation</td><td>operator:&nbsp;35<br>operands:&nbsp;34<br></td><td><a class=\"ProveItLink\" href=\"../67faa0e8349a0f388cdd565b943d306063c73ecc0/expr.ipynb\"><img src=\"../67faa0e8349a0f388cdd565b943d306063c73ecc0/expr.png\" style=\"display:inline;vertical-align:middle;\" /></a></td></tr>\n",
       "<tr><td>31</td><td>Operation</td><td>operator:&nbsp;35<br>operands:&nbsp;36<br></td><td><a class=\"ProveItLink\" href=\"../78bc39f82096392c45b50d56596eca0877a44de10/expr.ipynb\"><img src=\"../78bc39f82096392c45b50d56596eca0877a44de10/expr.png\" style=\"display:inline;vertical-align:middle;\" /></a></td></tr>\n",
       "<tr><td>32</td><td>Variable</td><td></td><td><a class=\"ProveItLink\" href=\"../../../../../__pv_it/common/c06c606ec12678c58933ac85412ecadc2ae28be60/expr.ipynb\"><img src=\"../../../../../__pv_it/common/c06c606ec12678c58933ac85412ecadc2ae28be60/expr.png\" style=\"display:inline;vertical-align:middle;\" /></a></td></tr>\n",
       "<tr><td>33</td><td>Variable</td><td></td><td><a class=\"ProveItLink\" href=\"../../../../../__pv_it/common/f3b2e5223a46d6d30e0676b70270e0fb96f45ce80/expr.ipynb\"><img src=\"../../../../../__pv_it/common/f3b2e5223a46d6d30e0676b70270e0fb96f45ce80/expr.png\" style=\"display:inline;vertical-align:middle;\" /></a></td></tr>\n",
       "<tr><td>34</td><td>ExprTuple</td><td>37, 38</td><td><a class=\"ProveItLink\" href=\"../ef9fe67d2e3b5fce9f5216666a772f97f5d95ff50/expr.ipynb\"><img src=\"../ef9fe67d2e3b5fce9f5216666a772f97f5d95ff50/expr.png\" style=\"display:inline;vertical-align:middle;\" /></a></td></tr>\n",
       "<tr><td>35</td><td>Literal</td><td></td><td><a class=\"ProveItLink\" href=\"../../../../multiplication/__pv_it/common/ed719cef37831779c16481533a4d380a2f95ab270/expr.ipynb\"><img src=\"../../../../multiplication/__pv_it/common/ed719cef37831779c16481533a4d380a2f95ab270/expr.png\" style=\"display:inline;vertical-align:middle;\" /></a></td></tr>\n",
       "<tr><td>36</td><td>ExprTuple</td><td>38, 39</td><td><a class=\"ProveItLink\" href=\"../f336fa46d73583f2c4c9aeb5e26e359cc42790830/expr.ipynb\"><img src=\"../f336fa46d73583f2c4c9aeb5e26e359cc42790830/expr.png\" style=\"display:inline;vertical-align:middle;\" /></a></td></tr>\n",
       "<tr><td>37</td><td>Variable</td><td></td><td><a class=\"ProveItLink\" href=\"../../../../../__pv_it/common/195236b98c6c564a75b5dbada74b173bc52d5c3e0/expr.ipynb\"><img src=\"../../../../../__pv_it/common/195236b98c6c564a75b5dbada74b173bc52d5c3e0/expr.png\" style=\"display:inline;vertical-align:middle;\" /></a></td></tr>\n",
       "<tr><td>38</td><td>Variable</td><td></td><td><a class=\"ProveItLink\" href=\"../../../../../__pv_it/common/ceef4280a2f1cc604b455b54e735507244cc62cd0/expr.ipynb\"><img src=\"../../../../../__pv_it/common/ceef4280a2f1cc604b455b54e735507244cc62cd0/expr.png\" style=\"display:inline;vertical-align:middle;\" /></a></td></tr>\n",
       "<tr><td>39</td><td>Variable</td><td></td><td><a class=\"ProveItLink\" href=\"../../../../../__pv_it/common/4f5c524ffda87296de1c79b96880123fe2efedd50/expr.ipynb\"><img src=\"../../../../../__pv_it/common/4f5c524ffda87296de1c79b96880123fe2efedd50/expr.png\" style=\"display:inline;vertical-align:middle;\" /></a></td></tr>\n",
       "</table>\n"
      ],
      "text/plain": [
       "0. (b, c, e) -> {((a / (b * c)) * ((c * d) / e)) = ((a / b) * (d / e)) if b in ComplexNonZero ,  c in ComplexNonZero ,  e in ComplexNonZero.\n",
       "   core type: Lambda\n",
       "   parameters: 1\\n   body: 2\n",
       "1. (b, c, e)\n",
       "   core type: ExprTuple\n",
       "   sub-expressions: 37, 38, 33\n",
       "2. {((a / (b * c)) * ((c * d) / e)) = ((a / b) * (d / e)) if b in ComplexNonZero ,  c in ComplexNonZero ,  e in ComplexNonZero.\n",
       "   core type: Conditional\n",
       "   value: 3\n",
       "   condition: 4\n",
       "3. ((a / (b * c)) * ((c * d) / e)) = ((a / b) * (d / e))\n",
       "   core type: Operation\n",
       "   operator: 5\n",
       "   operands: 6\n",
       "4. (b in ComplexNonZero) and (c in ComplexNonZero) and (e in ComplexNonZero)\n",
       "   core type: Operation\n",
       "   operator: 7\n",
       "   operands: 8\n",
       "5. =\n",
       "   core type: Literal\n",
       "   sub-expressions: \n",
       "6. ((a / (b * c)) * ((c * d) / e), (a / b) * (d / e))\n",
       "   core type: ExprTuple\n",
       "   sub-expressions: 9, 10\n",
       "7. and\n",
       "   core type: Literal\n",
       "   sub-expressions: \n",
       "8. (b in ComplexNonZero, c in ComplexNonZero, e in ComplexNonZero)\n",
       "   core type: ExprTuple\n",
       "   sub-expressions: 11, 12, 13\n",
       "9. (a / (b * c)) * ((c * d) / e)\n",
       "   core type: Operation\n",
       "   operator: 35\n",
       "   operands: 14\n",
       "10. (a / b) * (d / e)\n",
       "    core type: Operation\n",
       "    operator: 35\n",
       "    operands: 15\n",
       "11. b in ComplexNonZero\n",
       "    core type: Operation\n",
       "    operator: 18\n",
       "    operands: 16\n",
       "12. c in ComplexNonZero\n",
       "    core type: Operation\n",
       "    operator: 18\n",
       "    operands: 17\n",
       "13. e in ComplexNonZero\n",
       "    core type: Operation\n",
       "    operator: 18\n",
       "    operands: 19\n",
       "14. (a / (b * c), (c * d) / e)\n",
       "    core type: ExprTuple\n",
       "    sub-expressions: 20, 21\n",
       "15. (a / b, d / e)\n",
       "    core type: ExprTuple\n",
       "    sub-expressions: 22, 23\n",
       "16. (b, ComplexNonZero)\n",
       "    core type: ExprTuple\n",
       "    sub-expressions: 37, 24\n",
       "17. (c, ComplexNonZero)\n",
       "    core type: ExprTuple\n",
       "    sub-expressions: 38, 24\n",
       "18. in\n",
       "    core type: Literal\n",
       "    sub-expressions: \n",
       "19. (e, ComplexNonZero)\n",
       "    core type: ExprTuple\n",
       "    sub-expressions: 33, 24\n",
       "20. a / (b * c)\n",
       "    core type: Operation\n",
       "    operator: 28\n",
       "    operands: 25\n",
       "21. (c * d) / e\n",
       "    core type: Operation\n",
       "    operator: 28\n",
       "    operands: 26\n",
       "22. a / b\n",
       "    core type: Operation\n",
       "    operator: 28\n",
       "    operands: 27\n",
       "23. d / e\n",
       "    core type: Operation\n",
       "    operator: 28\n",
       "    operands: 29\n",
       "24. ComplexNonZero\n",
       "    core type: Literal\n",
       "    sub-expressions: \n",
       "25. (a, b * c)\n",
       "    core type: ExprTuple\n",
       "    sub-expressions: 32, 30\n",
       "26. (c * d, e)\n",
       "    core type: ExprTuple\n",
       "    sub-expressions: 31, 33\n",
       "27. (a, b)\n",
       "    core type: ExprTuple\n",
       "    sub-expressions: 32, 37\n",
       "28. /\n",
       "    core type: Literal\n",
       "    sub-expressions: \n",
       "29. (d, e)\n",
       "    core type: ExprTuple\n",
       "    sub-expressions: 39, 33\n",
       "30. b * c\n",
       "    core type: Operation\n",
       "    operator: 35\n",
       "    operands: 34\n",
       "31. c * d\n",
       "    core type: Operation\n",
       "    operator: 35\n",
       "    operands: 36\n",
       "32. a\n",
       "    core type: Variable\n",
       "    sub-expressions: \n",
       "33. e\n",
       "    core type: Variable\n",
       "    sub-expressions: \n",
       "34. (b, c)\n",
       "    core type: ExprTuple\n",
       "    sub-expressions: 37, 38\n",
       "35. *\n",
       "    core type: Literal\n",
       "    sub-expressions: \n",
       "36. (c, d)\n",
       "    core type: ExprTuple\n",
       "    sub-expressions: 38, 39\n",
       "37. b\n",
       "    core type: Variable\n",
       "    sub-expressions: \n",
       "38. c\n",
       "    core type: Variable\n",
       "    sub-expressions: \n",
       "39. d\n",
       "    core type: Variable\n",
       "    sub-expressions: "
      ]
     },
     "metadata": {},
     "output_type": "display_data"
    }
   ],
   "source": [
    "# display the expression information\n",
    "stored_expr.expr_info()"
   ]
  },
  {
   "cell_type": "code",
   "execution_count": null,
   "metadata": {},
   "outputs": [],
   "source": []
  }
 ],
 "metadata": {
  "kernelspec": {
   "display_name": "Python 3",
   "language": "python",
   "name": "python3"
  }
 },
 "nbformat": 4,
 "nbformat_minor": 0
}