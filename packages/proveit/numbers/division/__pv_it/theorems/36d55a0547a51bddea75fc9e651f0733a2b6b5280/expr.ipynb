{
 "cells": [
  {
   "cell_type": "markdown",
   "metadata": {},
   "source": [
    "Expression of type <a class=\"ProveItLink\" href=\"../../../../../../../doc/html/api/proveit.Conditional.html\">Conditional</a>\n",
    "=======================\n",
    "# from the theory of <a class=\"ProveItLink\" href=\"../../../_theory_nbs_/theory.ipynb\">proveit.numbers.division</a>"
   ]
  },
  {
   "cell_type": "code",
   "execution_count": 1,
   "metadata": {},
   "outputs": [],
   "source": [
    "import proveit\n",
    "# Automation is not needed when building an expression:\n",
    "proveit.defaults.automation = False # This will speed things up.\n",
    "proveit.defaults.inline_pngs = False # Makes files smaller.\n",
    "%load_expr # Load the stored expression as 'stored_expr'\n",
    "# import Expression classes needed to build the expression\n",
    "from proveit import Conditional, a, x, y\n",
    "from proveit.logic import And, InSet\n",
    "from proveit.numbers import Less, LessEq, Real, frac, greater_eq, zero"
   ]
  },
  {
   "cell_type": "code",
   "execution_count": 2,
   "metadata": {},
   "outputs": [
    {
     "data": {
      "text/html": [
       "<strong id=\"expr\">expr:</strong> <a class=\"ProveItLink\" href=\"expr.ipynb\"><img src=\"expr.png\" style=\"display:inline;vertical-align:middle;\" /></a><br>"
      ],
      "text/plain": [
       "<IPython.core.display.HTML object>"
      ]
     },
     "metadata": {},
     "output_type": "display_data"
    }
   ],
   "source": [
    "# build up the expression from sub-expressions\n",
    "expr = Conditional(greater_eq(frac(x, a), frac(y, a)), And(InSet(a, Real), InSet(x, Real), InSet(y, Real), LessEq(x, y), Less(a, zero)))"
   ]
  },
  {
   "cell_type": "code",
   "execution_count": 3,
   "metadata": {},
   "outputs": [
    {
     "name": "stdout",
     "output_type": "stream",
     "text": [
      "Passed sanity check: expr matches stored_expr\n"
     ]
    }
   ],
   "source": [
    "# check that the built expression is the same as the stored expression\n",
    "assert expr == stored_expr\n",
    "assert expr._style_id == stored_expr._style_id\n",
    "print(\"Passed sanity check: expr matches stored_expr\")"
   ]
  },
  {
   "cell_type": "code",
   "execution_count": 4,
   "metadata": {},
   "outputs": [
    {
     "name": "stdout",
     "output_type": "stream",
     "text": [
      "\\left\\{\\frac{x}{a} \\geq \\frac{y}{a} \\textrm{ if } a \\in \\mathbb{R} ,  x \\in \\mathbb{R} ,  y \\in \\mathbb{R} ,  x \\leq y ,  a < 0\\right..\n"
     ]
    }
   ],
   "source": [
    "# Show the LaTeX representation of the expression for convenience if you need it.\n",
    "print(stored_expr.latex())"
   ]
  },
  {
   "cell_type": "code",
   "execution_count": 5,
   "metadata": {},
   "outputs": [
    {
     "data": {
      "text/html": [
       "<table>\n",
       "<tr><th>name</th><th>description</th><th>default</th><th>current value</th><th>related methods</th></tr><tr><td>condition_delimiter</td><td>'comma' or 'and'</td><td>comma</td><td>comma</td><td>('with_comma_delimiter', 'with_conjunction_delimiter')</td></tr>\n",
       "</table>\n"
      ],
      "text/plain": [
       "style name: condition_delimiter\n",
       "description: 'comma' or 'and'\n",
       "default: comma\n",
       "current value: comma\n",
       "related methods: ('with_comma_delimiter', 'with_conjunction_delimiter')"
      ]
     },
     "metadata": {},
     "output_type": "display_data"
    }
   ],
   "source": [
    "stored_expr.style_options()"
   ]
  },
  {
   "cell_type": "code",
   "execution_count": 6,
   "metadata": {},
   "outputs": [
    {
     "data": {
      "text/html": [
       "<table><tr><th>&nbsp;</th><th>core type</th><th>sub-expressions</th><th>expression</th></tr>\n",
       "<tr><td>0</td><td>Conditional</td><td>value:&nbsp;1<br>condition:&nbsp;2<br></td><td><a class=\"ProveItLink\" href=\"expr.ipynb\"><img src=\"expr.png\" style=\"display:inline;vertical-align:middle;\" /></a></td></tr>\n",
       "<tr><td>1</td><td>Operation</td><td>operator:&nbsp;20<br>operands:&nbsp;3<br></td><td><a class=\"ProveItLink\" href=\"../acb319f4be5a4aa9a9cf4e8c4e2edeb954595e7b0/expr.ipynb\"><img src=\"../acb319f4be5a4aa9a9cf4e8c4e2edeb954595e7b0/expr.png\" style=\"display:inline;vertical-align:middle;\" /></a></td></tr>\n",
       "<tr><td>2</td><td>Operation</td><td>operator:&nbsp;4<br>operands:&nbsp;5<br></td><td><a class=\"ProveItLink\" href=\"../99f744cea4353a9fbff134a5eb91c6cfddee3f840/expr.ipynb\"><img src=\"../99f744cea4353a9fbff134a5eb91c6cfddee3f840/expr.png\" style=\"display:inline;vertical-align:middle;\" /></a></td></tr>\n",
       "<tr><td>3</td><td>ExprTuple</td><td>6, 7</td><td><a class=\"ProveItLink\" href=\"../5087bd4874e7eec4d1be81500a2da06c82239e2c0/expr.ipynb\"><img src=\"../5087bd4874e7eec4d1be81500a2da06c82239e2c0/expr.png\" style=\"display:inline;vertical-align:middle;\" /></a></td></tr>\n",
       "<tr><td>4</td><td>Literal</td><td></td><td><a class=\"ProveItLink\" href=\"../../../../../logic/booleans/conjunction/__pv_it/common/42118ff318bd65d98b1393f64ce7c2269feef76e0/expr.ipynb\"><img src=\"../../../../../logic/booleans/conjunction/__pv_it/common/42118ff318bd65d98b1393f64ce7c2269feef76e0/expr.png\" style=\"display:inline;vertical-align:middle;\" /></a></td></tr>\n",
       "<tr><td>5</td><td>ExprTuple</td><td>8, 9, 10, 11, 12</td><td><a class=\"ProveItLink\" href=\"../33daf5794649788ba1d66824912198a231924b700/expr.ipynb\"><img src=\"../33daf5794649788ba1d66824912198a231924b700/expr.png\" style=\"display:inline;vertical-align:middle;\" /></a></td></tr>\n",
       "<tr><td>6</td><td>Operation</td><td>operator:&nbsp;14<br>operands:&nbsp;13<br></td><td><a class=\"ProveItLink\" href=\"../1295b0789b0c43487714a6abbe2f78a4cd28a1390/expr.ipynb\"><img src=\"../1295b0789b0c43487714a6abbe2f78a4cd28a1390/expr.png\" style=\"display:inline;vertical-align:middle;\" /></a></td></tr>\n",
       "<tr><td>7</td><td>Operation</td><td>operator:&nbsp;14<br>operands:&nbsp;15<br></td><td><a class=\"ProveItLink\" href=\"../72f5a1dbd4141349019529f5499be3b1690f7d630/expr.ipynb\"><img src=\"../72f5a1dbd4141349019529f5499be3b1690f7d630/expr.png\" style=\"display:inline;vertical-align:middle;\" /></a></td></tr>\n",
       "<tr><td>8</td><td>Operation</td><td>operator:&nbsp;18<br>operands:&nbsp;16<br></td><td><a class=\"ProveItLink\" href=\"../4aa8d696b1f407d6126de9f51a052e8d90e0848c0/expr.ipynb\"><img src=\"../4aa8d696b1f407d6126de9f51a052e8d90e0848c0/expr.png\" style=\"display:inline;vertical-align:middle;\" /></a></td></tr>\n",
       "<tr><td>9</td><td>Operation</td><td>operator:&nbsp;18<br>operands:&nbsp;17<br></td><td><a class=\"ProveItLink\" href=\"../d1323f34847310a404e8089c2c268d3c2eb89dbf0/expr.ipynb\"><img src=\"../d1323f34847310a404e8089c2c268d3c2eb89dbf0/expr.png\" style=\"display:inline;vertical-align:middle;\" /></a></td></tr>\n",
       "<tr><td>10</td><td>Operation</td><td>operator:&nbsp;18<br>operands:&nbsp;19<br></td><td><a class=\"ProveItLink\" href=\"../5d76fdd975252a644e3e1cb067a357f9a9c8486a0/expr.ipynb\"><img src=\"../5d76fdd975252a644e3e1cb067a357f9a9c8486a0/expr.png\" style=\"display:inline;vertical-align:middle;\" /></a></td></tr>\n",
       "<tr><td>11</td><td>Operation</td><td>operator:&nbsp;20<br>operands:&nbsp;21<br></td><td><a class=\"ProveItLink\" href=\"../189359405c55ba932e335515a38c5f31be3935960/expr.ipynb\"><img src=\"../189359405c55ba932e335515a38c5f31be3935960/expr.png\" style=\"display:inline;vertical-align:middle;\" /></a></td></tr>\n",
       "<tr><td>12</td><td>Operation</td><td>operator:&nbsp;22<br>operands:&nbsp;23<br></td><td><a class=\"ProveItLink\" href=\"../faef9fb53c01eea47775a491761126bc33efe09e0/expr.ipynb\"><img src=\"../faef9fb53c01eea47775a491761126bc33efe09e0/expr.png\" style=\"display:inline;vertical-align:middle;\" /></a></td></tr>\n",
       "<tr><td>13</td><td>ExprTuple</td><td>26, 27</td><td><a class=\"ProveItLink\" href=\"../c1142d538383b19753c8eba688e8f040bfc17f590/expr.ipynb\"><img src=\"../c1142d538383b19753c8eba688e8f040bfc17f590/expr.png\" style=\"display:inline;vertical-align:middle;\" /></a></td></tr>\n",
       "<tr><td>14</td><td>Literal</td><td></td><td><a class=\"ProveItLink\" href=\"../../common/a2a633e1e3c749fb1f2692466b287b6348c5de840/expr.ipynb\"><img src=\"../../common/a2a633e1e3c749fb1f2692466b287b6348c5de840/expr.png\" style=\"display:inline;vertical-align:middle;\" /></a></td></tr>\n",
       "<tr><td>15</td><td>ExprTuple</td><td>25, 27</td><td><a class=\"ProveItLink\" href=\"../e5e785ca3b1a5f8f44e2afa447627f16e9310f8b0/expr.ipynb\"><img src=\"../e5e785ca3b1a5f8f44e2afa447627f16e9310f8b0/expr.png\" style=\"display:inline;vertical-align:middle;\" /></a></td></tr>\n",
       "<tr><td>16</td><td>ExprTuple</td><td>27, 24</td><td><a class=\"ProveItLink\" href=\"../4b81e64da1c6f03396560fe07bd4a5be1d27e6ab0/expr.ipynb\"><img src=\"../4b81e64da1c6f03396560fe07bd4a5be1d27e6ab0/expr.png\" style=\"display:inline;vertical-align:middle;\" /></a></td></tr>\n",
       "<tr><td>17</td><td>ExprTuple</td><td>25, 24</td><td><a class=\"ProveItLink\" href=\"../d87b972e3e29265b9fca1a9cb6e1de56983159ab0/expr.ipynb\"><img src=\"../d87b972e3e29265b9fca1a9cb6e1de56983159ab0/expr.png\" style=\"display:inline;vertical-align:middle;\" /></a></td></tr>\n",
       "<tr><td>18</td><td>Literal</td><td></td><td><a class=\"ProveItLink\" href=\"../../../../../logic/sets/membership/__pv_it/common/477487d8796864d23d5810f83761435f25167f690/expr.ipynb\"><img src=\"../../../../../logic/sets/membership/__pv_it/common/477487d8796864d23d5810f83761435f25167f690/expr.png\" style=\"display:inline;vertical-align:middle;\" /></a></td></tr>\n",
       "<tr><td>19</td><td>ExprTuple</td><td>26, 24</td><td><a class=\"ProveItLink\" href=\"../bee9e297dbbe7973b768621f1e2595a566af7f1b0/expr.ipynb\"><img src=\"../bee9e297dbbe7973b768621f1e2595a566af7f1b0/expr.png\" style=\"display:inline;vertical-align:middle;\" /></a></td></tr>\n",
       "<tr><td>20</td><td>Literal</td><td></td><td><a class=\"ProveItLink\" href=\"../../../../ordering/__pv_it/common/68379698d72b4689bbda4b5c5cca29ee599d70280/expr.ipynb\"><img src=\"../../../../ordering/__pv_it/common/68379698d72b4689bbda4b5c5cca29ee599d70280/expr.png\" style=\"display:inline;vertical-align:middle;\" /></a></td></tr>\n",
       "<tr><td>21</td><td>ExprTuple</td><td>25, 26</td><td><a class=\"ProveItLink\" href=\"../bbaa48af4605eceb7fbc4af345a1eb6de480e1c50/expr.ipynb\"><img src=\"../bbaa48af4605eceb7fbc4af345a1eb6de480e1c50/expr.png\" style=\"display:inline;vertical-align:middle;\" /></a></td></tr>\n",
       "<tr><td>22</td><td>Literal</td><td></td><td><a class=\"ProveItLink\" href=\"../../../../ordering/__pv_it/common/fa503ed52033522c609eef1cf3e1b45796489da50/expr.ipynb\"><img src=\"../../../../ordering/__pv_it/common/fa503ed52033522c609eef1cf3e1b45796489da50/expr.png\" style=\"display:inline;vertical-align:middle;\" /></a></td></tr>\n",
       "<tr><td>23</td><td>ExprTuple</td><td>27, 28</td><td><a class=\"ProveItLink\" href=\"../745cdb9639e5d503f09801a74d735cc5ccdc0d2a0/expr.ipynb\"><img src=\"../745cdb9639e5d503f09801a74d735cc5ccdc0d2a0/expr.png\" style=\"display:inline;vertical-align:middle;\" /></a></td></tr>\n",
       "<tr><td>24</td><td>Literal</td><td></td><td><a class=\"ProveItLink\" href=\"../../../../number_sets/real_numbers/__pv_it/common/93cac87a1a47e613f7a83b23ef7891599a1a4cca0/expr.ipynb\"><img src=\"../../../../number_sets/real_numbers/__pv_it/common/93cac87a1a47e613f7a83b23ef7891599a1a4cca0/expr.png\" style=\"display:inline;vertical-align:middle;\" /></a></td></tr>\n",
       "<tr><td>25</td><td>Variable</td><td></td><td><a class=\"ProveItLink\" href=\"../../../../../__pv_it/common/a0d9d672aa5e272d907247690c152cc2c6daafb70/expr.ipynb\"><img src=\"../../../../../__pv_it/common/a0d9d672aa5e272d907247690c152cc2c6daafb70/expr.png\" style=\"display:inline;vertical-align:middle;\" /></a></td></tr>\n",
       "<tr><td>26</td><td>Variable</td><td></td><td><a class=\"ProveItLink\" href=\"../../../../../__pv_it/common/ff7dba4ef0bbe791ab573bf2d9c220a304399ac80/expr.ipynb\"><img src=\"../../../../../__pv_it/common/ff7dba4ef0bbe791ab573bf2d9c220a304399ac80/expr.png\" style=\"display:inline;vertical-align:middle;\" /></a></td></tr>\n",
       "<tr><td>27</td><td>Variable</td><td></td><td><a class=\"ProveItLink\" href=\"../../../../../__pv_it/common/c06c606ec12678c58933ac85412ecadc2ae28be60/expr.ipynb\"><img src=\"../../../../../__pv_it/common/c06c606ec12678c58933ac85412ecadc2ae28be60/expr.png\" style=\"display:inline;vertical-align:middle;\" /></a></td></tr>\n",
       "<tr><td>28</td><td>Literal</td><td></td><td><a class=\"ProveItLink\" href=\"../../../../numerals/__pv_it/common/dd4e19e8b134dfb293470ea55fe3589b0ab9f8040/expr.ipynb\"><img src=\"../../../../numerals/__pv_it/common/dd4e19e8b134dfb293470ea55fe3589b0ab9f8040/expr.png\" style=\"display:inline;vertical-align:middle;\" /></a></td></tr>\n",
       "</table>\n"
      ],
      "text/plain": [
       "0. {(x / a) >= (y / a) if a in Real ,  x in Real ,  y in Real ,  x <= y ,  a < 0.\n",
       "   core type: Conditional\n",
       "   value: 1\n",
       "   condition: 2\n",
       "1. (x / a) >= (y / a)\n",
       "   core type: Operation\n",
       "   operator: 20\n",
       "   operands: 3\n",
       "2. (a in Real) and (x in Real) and (y in Real) and (x <= y) and (a < 0)\n",
       "   core type: Operation\n",
       "   operator: 4\n",
       "   operands: 5\n",
       "3. (y / a, x / a)\n",
       "   core type: ExprTuple\n",
       "   sub-expressions: 6, 7\n",
       "4. and\n",
       "   core type: Literal\n",
       "   sub-expressions: \n",
       "5. (a in Real, x in Real, y in Real, x <= y, a < 0)\n",
       "   core type: ExprTuple\n",
       "   sub-expressions: 8, 9, 10, 11, 12\n",
       "6. y / a\n",
       "   core type: Operation\n",
       "   operator: 14\n",
       "   operands: 13\n",
       "7. x / a\n",
       "   core type: Operation\n",
       "   operator: 14\n",
       "   operands: 15\n",
       "8. a in Real\n",
       "   core type: Operation\n",
       "   operator: 18\n",
       "   operands: 16\n",
       "9. x in Real\n",
       "   core type: Operation\n",
       "   operator: 18\n",
       "   operands: 17\n",
       "10. y in Real\n",
       "    core type: Operation\n",
       "    operator: 18\n",
       "    operands: 19\n",
       "11. x <= y\n",
       "    core type: Operation\n",
       "    operator: 20\n",
       "    operands: 21\n",
       "12. a < 0\n",
       "    core type: Operation\n",
       "    operator: 22\n",
       "    operands: 23\n",
       "13. (y, a)\n",
       "    core type: ExprTuple\n",
       "    sub-expressions: 26, 27\n",
       "14. /\n",
       "    core type: Literal\n",
       "    sub-expressions: \n",
       "15. (x, a)\n",
       "    core type: ExprTuple\n",
       "    sub-expressions: 25, 27\n",
       "16. (a, Real)\n",
       "    core type: ExprTuple\n",
       "    sub-expressions: 27, 24\n",
       "17. (x, Real)\n",
       "    core type: ExprTuple\n",
       "    sub-expressions: 25, 24\n",
       "18. in\n",
       "    core type: Literal\n",
       "    sub-expressions: \n",
       "19. (y, Real)\n",
       "    core type: ExprTuple\n",
       "    sub-expressions: 26, 24\n",
       "20. <=\n",
       "    core type: Literal\n",
       "    sub-expressions: \n",
       "21. (x, y)\n",
       "    core type: ExprTuple\n",
       "    sub-expressions: 25, 26\n",
       "22. <\n",
       "    core type: Literal\n",
       "    sub-expressions: \n",
       "23. (a, 0)\n",
       "    core type: ExprTuple\n",
       "    sub-expressions: 27, 28\n",
       "24. Real\n",
       "    core type: Literal\n",
       "    sub-expressions: \n",
       "25. x\n",
       "    core type: Variable\n",
       "    sub-expressions: \n",
       "26. y\n",
       "    core type: Variable\n",
       "    sub-expressions: \n",
       "27. a\n",
       "    core type: Variable\n",
       "    sub-expressions: \n",
       "28. 0\n",
       "    core type: Literal\n",
       "    sub-expressions: "
      ]
     },
     "metadata": {},
     "output_type": "display_data"
    }
   ],
   "source": [
    "# display the expression information\n",
    "stored_expr.expr_info()"
   ]
  },
  {
   "cell_type": "code",
   "execution_count": null,
   "metadata": {},
   "outputs": [],
   "source": []
  }
 ],
 "metadata": {
  "kernelspec": {
   "display_name": "Python 3",
   "language": "python",
   "name": "python3"
  }
 },
 "nbformat": 4,
 "nbformat_minor": 0
}