{
 "cells": [
  {
   "cell_type": "markdown",
   "metadata": {},
   "source": [
    "Expression of type <a class=\"ProveItLink\" href=\"../../../../../../../doc/html/api/proveit.ExprTuple.html\">ExprTuple</a>\n",
    "=======================\n",
    "# from the theory of <a class=\"ProveItLink\" href=\"../../../_theory_nbs_/theory.ipynb\">proveit.numbers.division</a>"
   ]
  },
  {
   "cell_type": "code",
   "execution_count": 1,
   "metadata": {},
   "outputs": [],
   "source": [
    "import proveit\n",
    "# Automation is not needed when building an expression:\n",
    "proveit.defaults.automation = False # This will speed things up.\n",
    "proveit.defaults.inline_pngs = False # Makes files smaller.\n",
    "%load_expr # Load the stored expression as 'stored_expr'\n",
    "# import Expression classes needed to build the expression\n",
    "from proveit import Conditional, ExprTuple, Lambda, a, b\n",
    "from proveit.logic import And, InSet\n",
    "from proveit.numbers import RationalNeg, RationalNonNeg, RationalNonPos, frac"
   ]
  },
  {
   "cell_type": "code",
   "execution_count": 2,
   "metadata": {},
   "outputs": [
    {
     "data": {
      "text/html": [
       "<strong id=\"expr\">expr:</strong> <a class=\"ProveItLink\" href=\"expr.ipynb\"><img src=\"expr.png\" style=\"display:inline;vertical-align:middle;\" /></a><br>"
      ],
      "text/plain": [
       "<IPython.core.display.HTML object>"
      ]
     },
     "metadata": {},
     "output_type": "display_data"
    }
   ],
   "source": [
    "# build up the expression from sub-expressions\n",
    "expr = ExprTuple(Lambda([a, b], Conditional(InSet(frac(a, b), RationalNonNeg), And(InSet(a, RationalNonPos), InSet(b, RationalNeg)))))"
   ]
  },
  {
   "cell_type": "code",
   "execution_count": 3,
   "metadata": {},
   "outputs": [
    {
     "name": "stdout",
     "output_type": "stream",
     "text": [
      "Passed sanity check: expr matches stored_expr\n"
     ]
    }
   ],
   "source": [
    "# check that the built expression is the same as the stored expression\n",
    "assert expr == stored_expr\n",
    "assert expr._style_id == stored_expr._style_id\n",
    "print(\"Passed sanity check: expr matches stored_expr\")"
   ]
  },
  {
   "cell_type": "code",
   "execution_count": 4,
   "metadata": {},
   "outputs": [
    {
     "name": "stdout",
     "output_type": "stream",
     "text": [
      "\\left(\\left(a, b\\right) \\mapsto \\left\\{\\frac{a}{b} \\in \\mathbb{Q}^{\\geq 0} \\textrm{ if } a \\in \\mathbb{Q}^{\\leq 0} ,  b \\in \\mathbb{Q}^-\\right..\\right)\n"
     ]
    }
   ],
   "source": [
    "# Show the LaTeX representation of the expression for convenience if you need it.\n",
    "print(stored_expr.latex())"
   ]
  },
  {
   "cell_type": "code",
   "execution_count": 5,
   "metadata": {},
   "outputs": [
    {
     "data": {
      "text/html": [
       "no style options"
      ],
      "text/plain": [
       "no style options"
      ]
     },
     "metadata": {},
     "output_type": "display_data"
    }
   ],
   "source": [
    "stored_expr.style_options()"
   ]
  },
  {
   "cell_type": "code",
   "execution_count": 6,
   "metadata": {},
   "outputs": [
    {
     "data": {
      "text/html": [
       "<table><tr><th>&nbsp;</th><th>core type</th><th>sub-expressions</th><th>expression</th></tr>\n",
       "<tr><td>0</td><td>ExprTuple</td><td>1</td><td><a class=\"ProveItLink\" href=\"expr.ipynb\"><img src=\"expr.png\" style=\"display:inline;vertical-align:middle;\" /></a></td></tr>\n",
       "<tr><td>1</td><td>Lambda</td><td>parameters:&nbsp;13<br>body:&nbsp;2<br></td><td><a class=\"ProveItLink\" href=\"../f8bea8e384e6c7f6a78e20085696f3dda4cea38d0/expr.ipynb\"><img src=\"../f8bea8e384e6c7f6a78e20085696f3dda4cea38d0/expr.png\" style=\"display:inline;vertical-align:middle;\" /></a></td></tr>\n",
       "<tr><td>2</td><td>Conditional</td><td>value:&nbsp;3<br>condition:&nbsp;4<br></td><td><a class=\"ProveItLink\" href=\"../d3720107578923b6b0a116c5ec703e83b94e3ea80/expr.ipynb\"><img src=\"../d3720107578923b6b0a116c5ec703e83b94e3ea80/expr.png\" style=\"display:inline;vertical-align:middle;\" /></a></td></tr>\n",
       "<tr><td>3</td><td>Operation</td><td>operator:&nbsp;15<br>operands:&nbsp;5<br></td><td><a class=\"ProveItLink\" href=\"../33f1d6db3c755a824056b18b3e83a1c19e3e26de0/expr.ipynb\"><img src=\"../33f1d6db3c755a824056b18b3e83a1c19e3e26de0/expr.png\" style=\"display:inline;vertical-align:middle;\" /></a></td></tr>\n",
       "<tr><td>4</td><td>Operation</td><td>operator:&nbsp;6<br>operands:&nbsp;7<br></td><td><a class=\"ProveItLink\" href=\"../4f29fee0c5ec0cd22ccaf0424fcdbb445df5badb0/expr.ipynb\"><img src=\"../4f29fee0c5ec0cd22ccaf0424fcdbb445df5badb0/expr.png\" style=\"display:inline;vertical-align:middle;\" /></a></td></tr>\n",
       "<tr><td>5</td><td>ExprTuple</td><td>8, 9</td><td><a class=\"ProveItLink\" href=\"../b52396e07f728448b0cf30341475ffa9924a9fce0/expr.ipynb\"><img src=\"../b52396e07f728448b0cf30341475ffa9924a9fce0/expr.png\" style=\"display:inline;vertical-align:middle;\" /></a></td></tr>\n",
       "<tr><td>6</td><td>Literal</td><td></td><td><a class=\"ProveItLink\" href=\"../../../../../logic/booleans/conjunction/__pv_it/common/42118ff318bd65d98b1393f64ce7c2269feef76e0/expr.ipynb\"><img src=\"../../../../../logic/booleans/conjunction/__pv_it/common/42118ff318bd65d98b1393f64ce7c2269feef76e0/expr.png\" style=\"display:inline;vertical-align:middle;\" /></a></td></tr>\n",
       "<tr><td>7</td><td>ExprTuple</td><td>10, 11</td><td><a class=\"ProveItLink\" href=\"../9ad07fc5dea73fdc52661efd4ad9fe9d4991cd370/expr.ipynb\"><img src=\"../9ad07fc5dea73fdc52661efd4ad9fe9d4991cd370/expr.png\" style=\"display:inline;vertical-align:middle;\" /></a></td></tr>\n",
       "<tr><td>8</td><td>Operation</td><td>operator:&nbsp;12<br>operands:&nbsp;13<br></td><td><a class=\"ProveItLink\" href=\"../1d538d2f20f29402801c0b11601119d40d9de7330/expr.ipynb\"><img src=\"../1d538d2f20f29402801c0b11601119d40d9de7330/expr.png\" style=\"display:inline;vertical-align:middle;\" /></a></td></tr>\n",
       "<tr><td>9</td><td>Literal</td><td></td><td><a class=\"ProveItLink\" href=\"../../../../number_sets/rational_numbers/__pv_it/common/334713a1412a740e3b6042e36ac15dceb087af040/expr.ipynb\"><img src=\"../../../../number_sets/rational_numbers/__pv_it/common/334713a1412a740e3b6042e36ac15dceb087af040/expr.png\" style=\"display:inline;vertical-align:middle;\" /></a></td></tr>\n",
       "<tr><td>10</td><td>Operation</td><td>operator:&nbsp;15<br>operands:&nbsp;14<br></td><td><a class=\"ProveItLink\" href=\"../434357abaf9e05f544b43bf8ff64fa695c2a42b80/expr.ipynb\"><img src=\"../434357abaf9e05f544b43bf8ff64fa695c2a42b80/expr.png\" style=\"display:inline;vertical-align:middle;\" /></a></td></tr>\n",
       "<tr><td>11</td><td>Operation</td><td>operator:&nbsp;15<br>operands:&nbsp;16<br></td><td><a class=\"ProveItLink\" href=\"../1336308b4bf2bd3616e3ce7244f5cfb38dc9c8230/expr.ipynb\"><img src=\"../1336308b4bf2bd3616e3ce7244f5cfb38dc9c8230/expr.png\" style=\"display:inline;vertical-align:middle;\" /></a></td></tr>\n",
       "<tr><td>12</td><td>Literal</td><td></td><td><a class=\"ProveItLink\" href=\"../../common/a2a633e1e3c749fb1f2692466b287b6348c5de840/expr.ipynb\"><img src=\"../../common/a2a633e1e3c749fb1f2692466b287b6348c5de840/expr.png\" style=\"display:inline;vertical-align:middle;\" /></a></td></tr>\n",
       "<tr><td>13</td><td>ExprTuple</td><td>17, 19</td><td><a class=\"ProveItLink\" href=\"../3dcd5ceea6334d8cb48fe14fdae236293aa9a6050/expr.ipynb\"><img src=\"../3dcd5ceea6334d8cb48fe14fdae236293aa9a6050/expr.png\" style=\"display:inline;vertical-align:middle;\" /></a></td></tr>\n",
       "<tr><td>14</td><td>ExprTuple</td><td>17, 18</td><td><a class=\"ProveItLink\" href=\"../feb61b8f516e811cf32004dcb4e31fae8ceaece80/expr.ipynb\"><img src=\"../feb61b8f516e811cf32004dcb4e31fae8ceaece80/expr.png\" style=\"display:inline;vertical-align:middle;\" /></a></td></tr>\n",
       "<tr><td>15</td><td>Literal</td><td></td><td><a class=\"ProveItLink\" href=\"../../../../../logic/sets/membership/__pv_it/common/477487d8796864d23d5810f83761435f25167f690/expr.ipynb\"><img src=\"../../../../../logic/sets/membership/__pv_it/common/477487d8796864d23d5810f83761435f25167f690/expr.png\" style=\"display:inline;vertical-align:middle;\" /></a></td></tr>\n",
       "<tr><td>16</td><td>ExprTuple</td><td>19, 20</td><td><a class=\"ProveItLink\" href=\"../a9b0b7242e7cdcea224a90df73b07ca2b3ca7e6b0/expr.ipynb\"><img src=\"../a9b0b7242e7cdcea224a90df73b07ca2b3ca7e6b0/expr.png\" style=\"display:inline;vertical-align:middle;\" /></a></td></tr>\n",
       "<tr><td>17</td><td>Variable</td><td></td><td><a class=\"ProveItLink\" href=\"../../../../../__pv_it/common/c06c606ec12678c58933ac85412ecadc2ae28be60/expr.ipynb\"><img src=\"../../../../../__pv_it/common/c06c606ec12678c58933ac85412ecadc2ae28be60/expr.png\" style=\"display:inline;vertical-align:middle;\" /></a></td></tr>\n",
       "<tr><td>18</td><td>Literal</td><td></td><td><a class=\"ProveItLink\" href=\"../../../../number_sets/rational_numbers/__pv_it/common/53ec401a884d6301923442b9ce9a74696b2fb0810/expr.ipynb\"><img src=\"../../../../number_sets/rational_numbers/__pv_it/common/53ec401a884d6301923442b9ce9a74696b2fb0810/expr.png\" style=\"display:inline;vertical-align:middle;\" /></a></td></tr>\n",
       "<tr><td>19</td><td>Variable</td><td></td><td><a class=\"ProveItLink\" href=\"../../../../../__pv_it/common/195236b98c6c564a75b5dbada74b173bc52d5c3e0/expr.ipynb\"><img src=\"../../../../../__pv_it/common/195236b98c6c564a75b5dbada74b173bc52d5c3e0/expr.png\" style=\"display:inline;vertical-align:middle;\" /></a></td></tr>\n",
       "<tr><td>20</td><td>Literal</td><td></td><td><a class=\"ProveItLink\" href=\"../../../../number_sets/rational_numbers/__pv_it/common/8bb622a2affbd9b51f8297e370d9686794d654340/expr.ipynb\"><img src=\"../../../../number_sets/rational_numbers/__pv_it/common/8bb622a2affbd9b51f8297e370d9686794d654340/expr.png\" style=\"display:inline;vertical-align:middle;\" /></a></td></tr>\n",
       "</table>\n"
      ],
      "text/plain": [
       "0. ((a, b) -> {(a / b) in RationalNonNeg if a in RationalNonPos ,  b in RationalNeg.)\n",
       "   core type: ExprTuple\n",
       "   sub-expressions: 1\n",
       "1. (a, b) -> {(a / b) in RationalNonNeg if a in RationalNonPos ,  b in RationalNeg.\n",
       "   core type: Lambda\n",
       "   parameters: 13\\n   body: 2\n",
       "2. {(a / b) in RationalNonNeg if a in RationalNonPos ,  b in RationalNeg.\n",
       "   core type: Conditional\n",
       "   value: 3\n",
       "   condition: 4\n",
       "3. (a / b) in RationalNonNeg\n",
       "   core type: Operation\n",
       "   operator: 15\n",
       "   operands: 5\n",
       "4. (a in RationalNonPos) and (b in RationalNeg)\n",
       "   core type: Operation\n",
       "   operator: 6\n",
       "   operands: 7\n",
       "5. (a / b, RationalNonNeg)\n",
       "   core type: ExprTuple\n",
       "   sub-expressions: 8, 9\n",
       "6. and\n",
       "   core type: Literal\n",
       "   sub-expressions: \n",
       "7. (a in RationalNonPos, b in RationalNeg)\n",
       "   core type: ExprTuple\n",
       "   sub-expressions: 10, 11\n",
       "8. a / b\n",
       "   core type: Operation\n",
       "   operator: 12\n",
       "   operands: 13\n",
       "9. RationalNonNeg\n",
       "   core type: Literal\n",
       "   sub-expressions: \n",
       "10. a in RationalNonPos\n",
       "    core type: Operation\n",
       "    operator: 15\n",
       "    operands: 14\n",
       "11. b in RationalNeg\n",
       "    core type: Operation\n",
       "    operator: 15\n",
       "    operands: 16\n",
       "12. /\n",
       "    core type: Literal\n",
       "    sub-expressions: \n",
       "13. (a, b)\n",
       "    core type: ExprTuple\n",
       "    sub-expressions: 17, 19\n",
       "14. (a, RationalNonPos)\n",
       "    core type: ExprTuple\n",
       "    sub-expressions: 17, 18\n",
       "15. in\n",
       "    core type: Literal\n",
       "    sub-expressions: \n",
       "16. (b, RationalNeg)\n",
       "    core type: ExprTuple\n",
       "    sub-expressions: 19, 20\n",
       "17. a\n",
       "    core type: Variable\n",
       "    sub-expressions: \n",
       "18. RationalNonPos\n",
       "    core type: Literal\n",
       "    sub-expressions: \n",
       "19. b\n",
       "    core type: Variable\n",
       "    sub-expressions: \n",
       "20. RationalNeg\n",
       "    core type: Literal\n",
       "    sub-expressions: "
      ]
     },
     "metadata": {},
     "output_type": "display_data"
    }
   ],
   "source": [
    "# display the expression information\n",
    "stored_expr.expr_info()"
   ]
  },
  {
   "cell_type": "code",
   "execution_count": null,
   "metadata": {},
   "outputs": [],
   "source": []
  }
 ],
 "metadata": {
  "kernelspec": {
   "display_name": "Python 3",
   "language": "python",
   "name": "python3"
  }
 },
 "nbformat": 4,
 "nbformat_minor": 0
}