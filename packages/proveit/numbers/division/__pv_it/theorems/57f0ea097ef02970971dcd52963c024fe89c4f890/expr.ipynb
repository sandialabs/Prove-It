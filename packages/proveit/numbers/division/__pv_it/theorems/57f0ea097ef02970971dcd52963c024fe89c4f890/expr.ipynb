{
 "cells": [
  {
   "cell_type": "markdown",
   "metadata": {},
   "source": [
    "Expression of type <a class=\"ProveItLink\" href=\"../../../../../../../doc/html/api/proveit.numbers.Div.html\">Div</a>\n",
    "=======================\n",
    "# from the theory of <a class=\"ProveItLink\" href=\"../../../_theory_nbs_/theory.ipynb\">proveit.numbers.division</a>"
   ]
  },
  {
   "cell_type": "code",
   "execution_count": 1,
   "metadata": {},
   "outputs": [],
   "source": [
    "import proveit\n",
    "# Automation is not needed when building an expression:\n",
    "proveit.defaults.automation = False # This will speed things up.\n",
    "proveit.defaults.inline_pngs = False # Makes files smaller.\n",
    "%load_expr # Load the stored expression as 'stored_expr'\n",
    "# import Expression classes needed to build the expression\n",
    "from proveit import y\n",
    "from proveit.core_expr_types import x_1_to_n\n",
    "from proveit.numbers import Add, frac"
   ]
  },
  {
   "cell_type": "code",
   "execution_count": 2,
   "metadata": {},
   "outputs": [
    {
     "data": {
      "text/html": [
       "<strong id=\"expr\">expr:</strong> <a class=\"ProveItLink\" href=\"expr.ipynb\"><img src=\"expr.png\" style=\"display:inline;vertical-align:middle;\" /></a><br>"
      ],
      "text/plain": [
       "<IPython.core.display.HTML object>"
      ]
     },
     "metadata": {},
     "output_type": "display_data"
    }
   ],
   "source": [
    "# build up the expression from sub-expressions\n",
    "expr = frac(Add(x_1_to_n), y)"
   ]
  },
  {
   "cell_type": "code",
   "execution_count": 3,
   "metadata": {},
   "outputs": [
    {
     "name": "stdout",
     "output_type": "stream",
     "text": [
      "Passed sanity check: expr matches stored_expr\n"
     ]
    }
   ],
   "source": [
    "# check that the built expression is the same as the stored expression\n",
    "assert expr == stored_expr\n",
    "assert expr._style_id == stored_expr._style_id\n",
    "print(\"Passed sanity check: expr matches stored_expr\")"
   ]
  },
  {
   "cell_type": "code",
   "execution_count": 4,
   "metadata": {},
   "outputs": [
    {
     "name": "stdout",
     "output_type": "stream",
     "text": [
      "\\frac{x_{1} +  x_{2} +  \\ldots +  x_{n}}{y}\n"
     ]
    }
   ],
   "source": [
    "# Show the LaTeX representation of the expression for convenience if you need it.\n",
    "print(stored_expr.latex())"
   ]
  },
  {
   "cell_type": "code",
   "execution_count": 5,
   "metadata": {},
   "outputs": [
    {
     "data": {
      "text/html": [
       "<table>\n",
       "<tr><th>name</th><th>description</th><th>default</th><th>current value</th><th>related methods</th></tr><tr><td>operation</td><td>'infix' or 'function' style formatting</td><td>infix</td><td>infix</td><td></td></tr>\n",
       "<tr><td>wrap_positions</td><td>position(s) at which wrapping is to occur; '2 n - 1' is after the nth operand, '2 n' is after the nth operation.</td><td>()</td><td>()</td><td>('with_wrapping_at', 'with_wrap_before_operator', 'with_wrap_after_operator', 'without_wrapping', 'wrap_positions')</td></tr>\n",
       "<tr><td>justification</td><td>if any wrap positions are set, justify to the 'left', 'center', or 'right'</td><td>center</td><td>center</td><td>('with_justification',)</td></tr>\n",
       "<tr><td>division</td><td>'inline': uses '/'; 'fraction': numerator over the denominator (also see 'frac' function)</td><td>fraction</td><td>fraction</td><td>('with_inline_style', 'with_fraction_style')</td></tr>\n",
       "</table>\n"
      ],
      "text/plain": [
       "style name: operation\n",
       "description: 'infix' or 'function' style formatting\n",
       "default: infix\n",
       "current value: infix\n",
       "related methods: ()\n",
       "style name: wrap_positions\n",
       "description: position(s) at which wrapping is to occur; '2 n - 1' is after the nth operand, '2 n' is after the nth operation.\n",
       "default: ()\n",
       "current value: ()\n",
       "related methods: ('with_wrapping_at', 'with_wrap_before_operator', 'with_wrap_after_operator', 'without_wrapping', 'wrap_positions')\n",
       "style name: justification\n",
       "description: if any wrap positions are set, justify to the 'left', 'center', or 'right'\n",
       "default: center\n",
       "current value: center\n",
       "related methods: ('with_justification',)\n",
       "style name: division\n",
       "description: 'inline': uses '/'; 'fraction': numerator over the denominator (also see 'frac' function)\n",
       "default: fraction\n",
       "current value: fraction\n",
       "related methods: ('with_inline_style', 'with_fraction_style')"
      ]
     },
     "metadata": {},
     "output_type": "display_data"
    }
   ],
   "source": [
    "stored_expr.style_options()"
   ]
  },
  {
   "cell_type": "code",
   "execution_count": 6,
   "metadata": {},
   "outputs": [
    {
     "data": {
      "text/html": [
       "<table><tr><th>&nbsp;</th><th>core type</th><th>sub-expressions</th><th>expression</th></tr>\n",
       "<tr><td>0</td><td>Operation</td><td>operator:&nbsp;1<br>operands:&nbsp;2<br></td><td><a class=\"ProveItLink\" href=\"expr.ipynb\"><img src=\"expr.png\" style=\"display:inline;vertical-align:middle;\" /></a></td></tr>\n",
       "<tr><td>1</td><td>Literal</td><td></td><td><a class=\"ProveItLink\" href=\"../../common/a2a633e1e3c749fb1f2692466b287b6348c5de840/expr.ipynb\"><img src=\"../../common/a2a633e1e3c749fb1f2692466b287b6348c5de840/expr.png\" style=\"display:inline;vertical-align:middle;\" /></a></td></tr>\n",
       "<tr><td>2</td><td>ExprTuple</td><td>3, 4</td><td><a class=\"ProveItLink\" href=\"../867a4a72cfa1bd52e1273545e4794ec377ac59a20/expr.ipynb\"><img src=\"../867a4a72cfa1bd52e1273545e4794ec377ac59a20/expr.png\" style=\"display:inline;vertical-align:middle;\" /></a></td></tr>\n",
       "<tr><td>3</td><td>Operation</td><td>operator:&nbsp;5<br>operands:&nbsp;6<br></td><td><a class=\"ProveItLink\" href=\"../ed7c4c030739d9d34c3d12f7ff851cc6c34ae4c80/expr.ipynb\"><img src=\"../ed7c4c030739d9d34c3d12f7ff851cc6c34ae4c80/expr.png\" style=\"display:inline;vertical-align:middle;\" /></a></td></tr>\n",
       "<tr><td>4</td><td>Variable</td><td></td><td><a class=\"ProveItLink\" href=\"../../../../../__pv_it/common/ff7dba4ef0bbe791ab573bf2d9c220a304399ac80/expr.ipynb\"><img src=\"../../../../../__pv_it/common/ff7dba4ef0bbe791ab573bf2d9c220a304399ac80/expr.png\" style=\"display:inline;vertical-align:middle;\" /></a></td></tr>\n",
       "<tr><td>5</td><td>Literal</td><td></td><td><a class=\"ProveItLink\" href=\"../../../../addition/__pv_it/common/4b7effaab3619a1c2c38fe2dee8601df8ec714590/expr.ipynb\"><img src=\"../../../../addition/__pv_it/common/4b7effaab3619a1c2c38fe2dee8601df8ec714590/expr.png\" style=\"display:inline;vertical-align:middle;\" /></a></td></tr>\n",
       "<tr><td>6</td><td>ExprTuple</td><td>7</td><td><a class=\"ProveItLink\" href=\"../e29d2811b42e43e69e77c1c44413b65518ecad320/expr.ipynb\"><img src=\"../e29d2811b42e43e69e77c1c44413b65518ecad320/expr.png\" style=\"display:inline;vertical-align:middle;\" /></a></td></tr>\n",
       "<tr><td>7</td><td>ExprRange</td><td>lambda_map:&nbsp;8<br>start_index:&nbsp;9<br>end_index:&nbsp;10<br></td><td><a class=\"ProveItLink\" href=\"../../../../../core_expr_types/__pv_it/common/d50f819f834d55ea1b9fad150926a94bf07ad8fc0/expr.ipynb\"><img src=\"../../../../../core_expr_types/__pv_it/common/d50f819f834d55ea1b9fad150926a94bf07ad8fc0/expr.png\" style=\"display:inline;vertical-align:middle;\" /></a></td></tr>\n",
       "<tr><td>8</td><td>Lambda</td><td>parameter:&nbsp;14<br>body:&nbsp;11<br></td><td><a class=\"ProveItLink\" href=\"../../../../../core_expr_types/__pv_it/common/f8f30fee5e5b4e37951ff8886b574795bf35d80c0/expr.ipynb\"><img src=\"../../../../../core_expr_types/__pv_it/common/f8f30fee5e5b4e37951ff8886b574795bf35d80c0/expr.png\" style=\"display:inline;vertical-align:middle;\" /></a></td></tr>\n",
       "<tr><td>9</td><td>Literal</td><td></td><td><a class=\"ProveItLink\" href=\"../../../../numerals/__pv_it/common/682157d4892d216d9e5626ed533aff9b56b9506e0/expr.ipynb\"><img src=\"../../../../numerals/__pv_it/common/682157d4892d216d9e5626ed533aff9b56b9506e0/expr.png\" style=\"display:inline;vertical-align:middle;\" /></a></td></tr>\n",
       "<tr><td>10</td><td>Variable</td><td></td><td><a class=\"ProveItLink\" href=\"../../../../../__pv_it/common/8968bb04eb3f7dfa02353397ce929b025bbd79c20/expr.ipynb\"><img src=\"../../../../../__pv_it/common/8968bb04eb3f7dfa02353397ce929b025bbd79c20/expr.png\" style=\"display:inline;vertical-align:middle;\" /></a></td></tr>\n",
       "<tr><td>11</td><td>IndexedVar</td><td>variable:&nbsp;12<br>index:&nbsp;14<br></td><td><a class=\"ProveItLink\" href=\"../../../../../core_expr_types/__pv_it/common/b7a46615d4e67a28ab963909b818c72af8e8e7c60/expr.ipynb\"><img src=\"../../../../../core_expr_types/__pv_it/common/b7a46615d4e67a28ab963909b818c72af8e8e7c60/expr.png\" style=\"display:inline;vertical-align:middle;\" /></a></td></tr>\n",
       "<tr><td>12</td><td>Variable</td><td></td><td><a class=\"ProveItLink\" href=\"../../../../../__pv_it/common/a0d9d672aa5e272d907247690c152cc2c6daafb70/expr.ipynb\"><img src=\"../../../../../__pv_it/common/a0d9d672aa5e272d907247690c152cc2c6daafb70/expr.png\" style=\"display:inline;vertical-align:middle;\" /></a></td></tr>\n",
       "<tr><td>13</td><td>ExprTuple</td><td>14</td><td><a class=\"ProveItLink\" href=\"../../../../../core_expr_types/__pv_it/common/4b0dd6be36d76552eda6a95d5b4a27f5a5b62f900/expr.ipynb\"><img src=\"../../../../../core_expr_types/__pv_it/common/4b0dd6be36d76552eda6a95d5b4a27f5a5b62f900/expr.png\" style=\"display:inline;vertical-align:middle;\" /></a></td></tr>\n",
       "<tr><td>14</td><td>Variable</td><td></td><td><a class=\"ProveItLink\" href=\"../../../../../core_expr_types/__pv_it/common/006c465e50948aa2b52285e2de47974f741255cc0/expr.ipynb\"><img src=\"../../../../../core_expr_types/__pv_it/common/006c465e50948aa2b52285e2de47974f741255cc0/expr.png\" style=\"display:inline;vertical-align:middle;\" /></a></td></tr>\n",
       "</table>\n"
      ],
      "text/plain": [
       "0. (x_{1} +  x_{2} +  ... +  x_{n}) / y\n",
       "   core type: Operation\n",
       "   operator: 1\n",
       "   operands: 2\n",
       "1. /\n",
       "   core type: Literal\n",
       "   sub-expressions: \n",
       "2. (x_{1} +  x_{2} +  ... +  x_{n}, y)\n",
       "   core type: ExprTuple\n",
       "   sub-expressions: 3, 4\n",
       "3. x_{1} +  x_{2} +  ... +  x_{n}\n",
       "   core type: Operation\n",
       "   operator: 5\n",
       "   operands: 6\n",
       "4. y\n",
       "   core type: Variable\n",
       "   sub-expressions: \n",
       "5. +\n",
       "   core type: Literal\n",
       "   sub-expressions: \n",
       "6. (x_{1}, x_{2}, ..., x_{n})\n",
       "   core type: ExprTuple\n",
       "   sub-expressions: 7\n",
       "7. x_{1}, x_{2}, ..., x_{n}\n",
       "   core type: ExprRange\n",
       "   lambda_map: 8\n",
       "   start_index: 9\n",
       "   end_index: 10\n",
       "8. _a -> x_{_a}\n",
       "   core type: Lambda\n",
       "   parameter: 14\n",
       "   body: 11\n",
       "9. 1\n",
       "   core type: Literal\n",
       "   sub-expressions: \n",
       "10. n\n",
       "    core type: Variable\n",
       "    sub-expressions: \n",
       "11. x_{_a}\n",
       "    core type: IndexedVar\n",
       "variable: 12\n",
       "index: 14\n",
       "12. x\n",
       "    core type: Variable\n",
       "    sub-expressions: \n",
       "13. (_a)\n",
       "    core type: ExprTuple\n",
       "    sub-expressions: 14\n",
       "14. _a\n",
       "    core type: Variable\n",
       "    sub-expressions: "
      ]
     },
     "metadata": {},
     "output_type": "display_data"
    }
   ],
   "source": [
    "# display the expression information\n",
    "stored_expr.expr_info()"
   ]
  },
  {
   "cell_type": "code",
   "execution_count": null,
   "metadata": {},
   "outputs": [],
   "source": []
  }
 ],
 "metadata": {
  "kernelspec": {
   "display_name": "Python 3",
   "language": "python",
   "name": "python3"
  }
 },
 "nbformat": 4,
 "nbformat_minor": 0
}