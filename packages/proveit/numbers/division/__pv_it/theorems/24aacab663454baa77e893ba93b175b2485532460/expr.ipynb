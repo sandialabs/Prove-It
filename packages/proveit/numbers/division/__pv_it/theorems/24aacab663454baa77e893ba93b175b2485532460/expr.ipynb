{
 "cells": [
  {
   "cell_type": "markdown",
   "metadata": {},
   "source": [
    "Expression of type <a class=\"ProveItLink\" href=\"../../../../../../../doc/html/api/proveit.ExprTuple.html\">ExprTuple</a>\n",
    "=======================\n",
    "# from the theory of <a class=\"ProveItLink\" href=\"../../../_theory_nbs_/theory.ipynb\">proveit.numbers.division</a>"
   ]
  },
  {
   "cell_type": "code",
   "execution_count": 1,
   "metadata": {},
   "outputs": [],
   "source": [
    "import proveit\n",
    "# Automation is not needed when building an expression:\n",
    "proveit.defaults.automation = False # This will speed things up.\n",
    "proveit.defaults.inline_pngs = False # Makes files smaller.\n",
    "%load_expr # Load the stored expression as 'stored_expr'\n",
    "# import Expression classes needed to build the expression\n",
    "from proveit import ExprTuple, w, x, y, z\n",
    "from proveit.numbers import frac, subtract"
   ]
  },
  {
   "cell_type": "code",
   "execution_count": 2,
   "metadata": {},
   "outputs": [
    {
     "data": {
      "text/html": [
       "<strong id=\"expr\">expr:</strong> <a class=\"ProveItLink\" href=\"expr.ipynb\"><img src=\"expr.png\" style=\"display:inline;vertical-align:middle;\" /></a><br>"
      ],
      "text/plain": [
       "<IPython.core.display.HTML object>"
      ]
     },
     "metadata": {},
     "output_type": "display_data"
    }
   ],
   "source": [
    "# build up the expression from sub-expressions\n",
    "expr = ExprTuple(frac(subtract(w, x), subtract(y, z)), frac(subtract(x, w), subtract(z, y)))"
   ]
  },
  {
   "cell_type": "code",
   "execution_count": 3,
   "metadata": {},
   "outputs": [
    {
     "name": "stdout",
     "output_type": "stream",
     "text": [
      "Passed sanity check: expr matches stored_expr\n"
     ]
    }
   ],
   "source": [
    "# check that the built expression is the same as the stored expression\n",
    "assert expr == stored_expr\n",
    "assert expr._style_id == stored_expr._style_id\n",
    "print(\"Passed sanity check: expr matches stored_expr\")"
   ]
  },
  {
   "cell_type": "code",
   "execution_count": 4,
   "metadata": {},
   "outputs": [
    {
     "name": "stdout",
     "output_type": "stream",
     "text": [
      "\\left(\\frac{w - x}{y - z}, \\frac{x - w}{z - y}\\right)\n"
     ]
    }
   ],
   "source": [
    "# Show the LaTeX representation of the expression for convenience if you need it.\n",
    "print(stored_expr.latex())"
   ]
  },
  {
   "cell_type": "code",
   "execution_count": 5,
   "metadata": {},
   "outputs": [
    {
     "data": {
      "text/html": [
       "<table>\n",
       "<tr><th>name</th><th>description</th><th>default</th><th>current value</th><th>related methods</th></tr><tr><td>wrap_positions</td><td>position(s) at which wrapping is to occur; 'n' is after the nth comma.</td><td>()</td><td>()</td><td>('with_wrapping_at',)</td></tr>\n",
       "<tr><td>justification</td><td>if any wrap positions are set, justify to the 'left', 'center', or 'right'</td><td>left</td><td>left</td><td>('with_justification',)</td></tr>\n",
       "</table>\n"
      ],
      "text/plain": [
       "style name: wrap_positions\n",
       "description: position(s) at which wrapping is to occur; 'n' is after the nth comma.\n",
       "default: ()\n",
       "current value: ()\n",
       "related methods: ('with_wrapping_at',)\n",
       "style name: justification\n",
       "description: if any wrap positions are set, justify to the 'left', 'center', or 'right'\n",
       "default: left\n",
       "current value: left\n",
       "related methods: ('with_justification',)"
      ]
     },
     "metadata": {},
     "output_type": "display_data"
    }
   ],
   "source": [
    "stored_expr.style_options()"
   ]
  },
  {
   "cell_type": "code",
   "execution_count": 6,
   "metadata": {},
   "outputs": [
    {
     "data": {
      "text/html": [
       "<table><tr><th>&nbsp;</th><th>core type</th><th>sub-expressions</th><th>expression</th></tr>\n",
       "<tr><td>0</td><td>ExprTuple</td><td>1, 2</td><td><a class=\"ProveItLink\" href=\"expr.ipynb\"><img src=\"expr.png\" style=\"display:inline;vertical-align:middle;\" /></a></td></tr>\n",
       "<tr><td>1</td><td>Operation</td><td>operator:&nbsp;4<br>operands:&nbsp;3<br></td><td><a class=\"ProveItLink\" href=\"../ae5326178a4d8ae032b78f3d1d5c462a9375318f0/expr.ipynb\"><img src=\"../ae5326178a4d8ae032b78f3d1d5c462a9375318f0/expr.png\" style=\"display:inline;vertical-align:middle;\" /></a></td></tr>\n",
       "<tr><td>2</td><td>Operation</td><td>operator:&nbsp;4<br>operands:&nbsp;5<br></td><td><a class=\"ProveItLink\" href=\"../7d9c8a280627b8d5129941a9bf7dc7afde8c5cca0/expr.ipynb\"><img src=\"../7d9c8a280627b8d5129941a9bf7dc7afde8c5cca0/expr.png\" style=\"display:inline;vertical-align:middle;\" /></a></td></tr>\n",
       "<tr><td>3</td><td>ExprTuple</td><td>6, 7</td><td><a class=\"ProveItLink\" href=\"../a446603a90df4c65a1072c2912ea7bf11072c1550/expr.ipynb\"><img src=\"../a446603a90df4c65a1072c2912ea7bf11072c1550/expr.png\" style=\"display:inline;vertical-align:middle;\" /></a></td></tr>\n",
       "<tr><td>4</td><td>Literal</td><td></td><td><a class=\"ProveItLink\" href=\"../../common/a2a633e1e3c749fb1f2692466b287b6348c5de840/expr.ipynb\"><img src=\"../../common/a2a633e1e3c749fb1f2692466b287b6348c5de840/expr.png\" style=\"display:inline;vertical-align:middle;\" /></a></td></tr>\n",
       "<tr><td>5</td><td>ExprTuple</td><td>8, 9</td><td><a class=\"ProveItLink\" href=\"../19ab70fd2ed5165ba065817d54924829d4fe41aa0/expr.ipynb\"><img src=\"../19ab70fd2ed5165ba065817d54924829d4fe41aa0/expr.png\" style=\"display:inline;vertical-align:middle;\" /></a></td></tr>\n",
       "<tr><td>6</td><td>Operation</td><td>operator:&nbsp;13<br>operands:&nbsp;10<br></td><td><a class=\"ProveItLink\" href=\"../10f52ac3386e53a71e3d299ce9589ff3852a98590/expr.ipynb\"><img src=\"../10f52ac3386e53a71e3d299ce9589ff3852a98590/expr.png\" style=\"display:inline;vertical-align:middle;\" /></a></td></tr>\n",
       "<tr><td>7</td><td>Operation</td><td>operator:&nbsp;13<br>operands:&nbsp;11<br></td><td><a class=\"ProveItLink\" href=\"../36a81d4a4f110c57f23e2af75bdc062916a01c970/expr.ipynb\"><img src=\"../36a81d4a4f110c57f23e2af75bdc062916a01c970/expr.png\" style=\"display:inline;vertical-align:middle;\" /></a></td></tr>\n",
       "<tr><td>8</td><td>Operation</td><td>operator:&nbsp;13<br>operands:&nbsp;12<br></td><td><a class=\"ProveItLink\" href=\"../dbbaae0402a0dddba10abcbd6de5ef8f21028a0e0/expr.ipynb\"><img src=\"../dbbaae0402a0dddba10abcbd6de5ef8f21028a0e0/expr.png\" style=\"display:inline;vertical-align:middle;\" /></a></td></tr>\n",
       "<tr><td>9</td><td>Operation</td><td>operator:&nbsp;13<br>operands:&nbsp;14<br></td><td><a class=\"ProveItLink\" href=\"../92f208b87cb3cbae312489f72030b831f752a2170/expr.ipynb\"><img src=\"../92f208b87cb3cbae312489f72030b831f752a2170/expr.png\" style=\"display:inline;vertical-align:middle;\" /></a></td></tr>\n",
       "<tr><td>10</td><td>ExprTuple</td><td>26, 15</td><td><a class=\"ProveItLink\" href=\"../0d6ae4f8d743066f9872b2e0884b744f8ac5ec660/expr.ipynb\"><img src=\"../0d6ae4f8d743066f9872b2e0884b744f8ac5ec660/expr.png\" style=\"display:inline;vertical-align:middle;\" /></a></td></tr>\n",
       "<tr><td>11</td><td>ExprTuple</td><td>27, 16</td><td><a class=\"ProveItLink\" href=\"../5738c8a1c2afdfb00bf389e358ed486ddbd6fff90/expr.ipynb\"><img src=\"../5738c8a1c2afdfb00bf389e358ed486ddbd6fff90/expr.png\" style=\"display:inline;vertical-align:middle;\" /></a></td></tr>\n",
       "<tr><td>12</td><td>ExprTuple</td><td>24, 17</td><td><a class=\"ProveItLink\" href=\"../8314902ca979111a0ad19e37c10f7a9d1ce336480/expr.ipynb\"><img src=\"../8314902ca979111a0ad19e37c10f7a9d1ce336480/expr.png\" style=\"display:inline;vertical-align:middle;\" /></a></td></tr>\n",
       "<tr><td>13</td><td>Literal</td><td></td><td><a class=\"ProveItLink\" href=\"../../../../addition/__pv_it/common/4b7effaab3619a1c2c38fe2dee8601df8ec714590/expr.ipynb\"><img src=\"../../../../addition/__pv_it/common/4b7effaab3619a1c2c38fe2dee8601df8ec714590/expr.png\" style=\"display:inline;vertical-align:middle;\" /></a></td></tr>\n",
       "<tr><td>14</td><td>ExprTuple</td><td>25, 18</td><td><a class=\"ProveItLink\" href=\"../11e1b5991f0baa098972c67752dff7de426170290/expr.ipynb\"><img src=\"../11e1b5991f0baa098972c67752dff7de426170290/expr.png\" style=\"display:inline;vertical-align:middle;\" /></a></td></tr>\n",
       "<tr><td>15</td><td>Operation</td><td>operator:&nbsp;22<br>operand:&nbsp;24<br></td><td><a class=\"ProveItLink\" href=\"../8ae6bcf9f63d27c3e43ea63be5df603397837e130/expr.ipynb\"><img src=\"../8ae6bcf9f63d27c3e43ea63be5df603397837e130/expr.png\" style=\"display:inline;vertical-align:middle;\" /></a></td></tr>\n",
       "<tr><td>16</td><td>Operation</td><td>operator:&nbsp;22<br>operand:&nbsp;25<br></td><td><a class=\"ProveItLink\" href=\"../a0cf90a160186e9b24ba9783cc178d6fa1c5cf3a0/expr.ipynb\"><img src=\"../a0cf90a160186e9b24ba9783cc178d6fa1c5cf3a0/expr.png\" style=\"display:inline;vertical-align:middle;\" /></a></td></tr>\n",
       "<tr><td>17</td><td>Operation</td><td>operator:&nbsp;22<br>operand:&nbsp;26<br></td><td><a class=\"ProveItLink\" href=\"../4467ad5e853d396efb1cb746c87eb7d31b12afda0/expr.ipynb\"><img src=\"../4467ad5e853d396efb1cb746c87eb7d31b12afda0/expr.png\" style=\"display:inline;vertical-align:middle;\" /></a></td></tr>\n",
       "<tr><td>18</td><td>Operation</td><td>operator:&nbsp;22<br>operand:&nbsp;27<br></td><td><a class=\"ProveItLink\" href=\"../36c5895b8336c4d09e7aff8a7966b00f3198562c0/expr.ipynb\"><img src=\"../36c5895b8336c4d09e7aff8a7966b00f3198562c0/expr.png\" style=\"display:inline;vertical-align:middle;\" /></a></td></tr>\n",
       "<tr><td>19</td><td>ExprTuple</td><td>24</td><td><a class=\"ProveItLink\" href=\"../../../../../__pv_it/common/eacfeccc0521684fcb20fe8f5180ac50fca471f20/expr.ipynb\"><img src=\"../../../../../__pv_it/common/eacfeccc0521684fcb20fe8f5180ac50fca471f20/expr.png\" style=\"display:inline;vertical-align:middle;\" /></a></td></tr>\n",
       "<tr><td>20</td><td>ExprTuple</td><td>25</td><td><a class=\"ProveItLink\" href=\"../5b94e78394c4cb29f8f345b20a477f209bac33be0/expr.ipynb\"><img src=\"../5b94e78394c4cb29f8f345b20a477f209bac33be0/expr.png\" style=\"display:inline;vertical-align:middle;\" /></a></td></tr>\n",
       "<tr><td>21</td><td>ExprTuple</td><td>26</td><td><a class=\"ProveItLink\" href=\"../312504453c8f3cf356e695e131111fe2196319490/expr.ipynb\"><img src=\"../312504453c8f3cf356e695e131111fe2196319490/expr.png\" style=\"display:inline;vertical-align:middle;\" /></a></td></tr>\n",
       "<tr><td>22</td><td>Literal</td><td></td><td><a class=\"ProveItLink\" href=\"../../../../negation/__pv_it/common/221b3c4d1770ee9051b7c044c3f9ec61196fc34b0/expr.ipynb\"><img src=\"../../../../negation/__pv_it/common/221b3c4d1770ee9051b7c044c3f9ec61196fc34b0/expr.png\" style=\"display:inline;vertical-align:middle;\" /></a></td></tr>\n",
       "<tr><td>23</td><td>ExprTuple</td><td>27</td><td><a class=\"ProveItLink\" href=\"../../../../../__pv_it/common/8ec7f6fe639763828b300003a52d700ece4a5c240/expr.ipynb\"><img src=\"../../../../../__pv_it/common/8ec7f6fe639763828b300003a52d700ece4a5c240/expr.png\" style=\"display:inline;vertical-align:middle;\" /></a></td></tr>\n",
       "<tr><td>24</td><td>Variable</td><td></td><td><a class=\"ProveItLink\" href=\"../../../../../__pv_it/common/a0d9d672aa5e272d907247690c152cc2c6daafb70/expr.ipynb\"><img src=\"../../../../../__pv_it/common/a0d9d672aa5e272d907247690c152cc2c6daafb70/expr.png\" style=\"display:inline;vertical-align:middle;\" /></a></td></tr>\n",
       "<tr><td>25</td><td>Variable</td><td></td><td><a class=\"ProveItLink\" href=\"../../../../../__pv_it/common/95a8f6b9b9f29b83f192ad7fd05708d6be097a3f0/expr.ipynb\"><img src=\"../../../../../__pv_it/common/95a8f6b9b9f29b83f192ad7fd05708d6be097a3f0/expr.png\" style=\"display:inline;vertical-align:middle;\" /></a></td></tr>\n",
       "<tr><td>26</td><td>Variable</td><td></td><td><a class=\"ProveItLink\" href=\"../../../../../__pv_it/common/d365663894822dede40e6e04c77860068334d0820/expr.ipynb\"><img src=\"../../../../../__pv_it/common/d365663894822dede40e6e04c77860068334d0820/expr.png\" style=\"display:inline;vertical-align:middle;\" /></a></td></tr>\n",
       "<tr><td>27</td><td>Variable</td><td></td><td><a class=\"ProveItLink\" href=\"../../../../../__pv_it/common/ff7dba4ef0bbe791ab573bf2d9c220a304399ac80/expr.ipynb\"><img src=\"../../../../../__pv_it/common/ff7dba4ef0bbe791ab573bf2d9c220a304399ac80/expr.png\" style=\"display:inline;vertical-align:middle;\" /></a></td></tr>\n",
       "</table>\n"
      ],
      "text/plain": [
       "0. ((w - x) / (y - z), (x - w) / (z - y))\n",
       "   core type: ExprTuple\n",
       "   sub-expressions: 1, 2\n",
       "1. (w - x) / (y - z)\n",
       "   core type: Operation\n",
       "   operator: 4\n",
       "   operands: 3\n",
       "2. (x - w) / (z - y)\n",
       "   core type: Operation\n",
       "   operator: 4\n",
       "   operands: 5\n",
       "3. (w - x, y - z)\n",
       "   core type: ExprTuple\n",
       "   sub-expressions: 6, 7\n",
       "4. /\n",
       "   core type: Literal\n",
       "   sub-expressions: \n",
       "5. (x - w, z - y)\n",
       "   core type: ExprTuple\n",
       "   sub-expressions: 8, 9\n",
       "6. w - x\n",
       "   core type: Operation\n",
       "   operator: 13\n",
       "   operands: 10\n",
       "7. y - z\n",
       "   core type: Operation\n",
       "   operator: 13\n",
       "   operands: 11\n",
       "8. x - w\n",
       "   core type: Operation\n",
       "   operator: 13\n",
       "   operands: 12\n",
       "9. z - y\n",
       "   core type: Operation\n",
       "   operator: 13\n",
       "   operands: 14\n",
       "10. (w, -x)\n",
       "    core type: ExprTuple\n",
       "    sub-expressions: 26, 15\n",
       "11. (y, -z)\n",
       "    core type: ExprTuple\n",
       "    sub-expressions: 27, 16\n",
       "12. (x, -w)\n",
       "    core type: ExprTuple\n",
       "    sub-expressions: 24, 17\n",
       "13. +\n",
       "    core type: Literal\n",
       "    sub-expressions: \n",
       "14. (z, -y)\n",
       "    core type: ExprTuple\n",
       "    sub-expressions: 25, 18\n",
       "15. -x\n",
       "    core type: Operation\n",
       "    operator: 22\n",
       "    operand: 24\n",
       "16. -z\n",
       "    core type: Operation\n",
       "    operator: 22\n",
       "    operand: 25\n",
       "17. -w\n",
       "    core type: Operation\n",
       "    operator: 22\n",
       "    operand: 26\n",
       "18. -y\n",
       "    core type: Operation\n",
       "    operator: 22\n",
       "    operand: 27\n",
       "19. (x)\n",
       "    core type: ExprTuple\n",
       "    sub-expressions: 24\n",
       "20. (z)\n",
       "    core type: ExprTuple\n",
       "    sub-expressions: 25\n",
       "21. (w)\n",
       "    core type: ExprTuple\n",
       "    sub-expressions: 26\n",
       "22. -\n",
       "    core type: Literal\n",
       "    sub-expressions: \n",
       "23. (y)\n",
       "    core type: ExprTuple\n",
       "    sub-expressions: 27\n",
       "24. x\n",
       "    core type: Variable\n",
       "    sub-expressions: \n",
       "25. z\n",
       "    core type: Variable\n",
       "    sub-expressions: \n",
       "26. w\n",
       "    core type: Variable\n",
       "    sub-expressions: \n",
       "27. y\n",
       "    core type: Variable\n",
       "    sub-expressions: "
      ]
     },
     "metadata": {},
     "output_type": "display_data"
    }
   ],
   "source": [
    "# display the expression information\n",
    "stored_expr.expr_info()"
   ]
  },
  {
   "cell_type": "code",
   "execution_count": null,
   "metadata": {},
   "outputs": [],
   "source": []
  }
 ],
 "metadata": {
  "kernelspec": {
   "display_name": "Python 3",
   "language": "python",
   "name": "python3"
  }
 },
 "nbformat": 4,
 "nbformat_minor": 0
}