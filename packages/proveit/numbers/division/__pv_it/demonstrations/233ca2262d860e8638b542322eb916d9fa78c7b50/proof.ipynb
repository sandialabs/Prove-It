{
 "cells": [
  {
   "cell_type": "markdown",
   "metadata": {},
   "source": [
    "Show the Proof\n",
    "========"
   ]
  },
  {
   "cell_type": "code",
   "execution_count": 1,
   "metadata": {},
   "outputs": [
    {
     "data": {
      "text/html": [
       "<table><tr><th>&nbsp;</th><th>step type</th><th>requirements</th><th>statement</th></tr>\n",
       "<tr><td><a name=\"proveit.numbers.division.demonstrations.233ca2262d860e8638b542322eb916d9fa78c7b50_step0\">0</a></td><td>instantiation</td><td><a href=\"#proveit.numbers.division.demonstrations.233ca2262d860e8638b542322eb916d9fa78c7b50_step1\">1</a>, <a href=\"#proveit.numbers.division.demonstrations.233ca2262d860e8638b542322eb916d9fa78c7b50_step2\">2</a></td><td><span style=\"font-size:20px;\"><a class=\"ProveItLink\" href=\"../../../../addition/subtraction/__pv_it/theorems/b66b5547fa9b0b910f79351152926c658c2718190/expr.ipynb\"><img src=\"../../../../addition/subtraction/__pv_it/theorems/b66b5547fa9b0b910f79351152926c658c2718190/expr.png\" style=\"display:inline;vertical-align:middle;\" /></a> <a class=\"ProveItLink\" href=\"proof.ipynb\" style=\"text-decoration: none\">&nbsp;&#x22A2;&nbsp;&nbsp;</a><a class=\"ProveItLink\" href=\"../5fe1e6527deaadebf96b2009209d39f24e5674980/expr.ipynb\"><img src=\"../5fe1e6527deaadebf96b2009209d39f24e5674980/expr.png\" style=\"display:inline;vertical-align:middle;\" /></a></span></td></tr>\n",
       "<tr><td>&nbsp;</td><td colspan=4 style=\"text-align:left\"><span style=\"font-size:20px;\"><a class=\"ProveItLink\" href=\"../../../../../__pv_it/common/a0d9d672aa5e272d907247690c152cc2c6daafb70/expr.ipynb\"><img src=\"../../../../../__pv_it/common/a0d9d672aa5e272d907247690c152cc2c6daafb70/expr.png\" style=\"display:inline;vertical-align:middle;\" /></a> : <a class=\"ProveItLink\" href=\"../../../../../__pv_it/common/ceef4280a2f1cc604b455b54e735507244cc62cd0/expr.ipynb\"><img src=\"../../../../../__pv_it/common/ceef4280a2f1cc604b455b54e735507244cc62cd0/expr.png\" style=\"display:inline;vertical-align:middle;\" /></a></span></td></tr><tr><td><a name=\"proveit.numbers.division.demonstrations.233ca2262d860e8638b542322eb916d9fa78c7b50_step1\">1</a></td><td>theorem</td><td></td><td><span style=\"font-size:20px;\"> <a class=\"ProveItLink\" href=\"../../../../multiplication/_theory_nbs_/proofs/elim_one_right/thm_proof.ipynb\" style=\"text-decoration: none\">&nbsp;&#x22A2;&nbsp;&nbsp;</a><a class=\"ProveItLink\" href=\"../../../../multiplication/__pv_it/theorems/a04649efb1625eca15432cfef667ddaa683ef23b0/expr.ipynb\"><img src=\"../../../../multiplication/__pv_it/theorems/a04649efb1625eca15432cfef667ddaa683ef23b0/expr.png\" style=\"display:inline;vertical-align:middle;\" /></a></span></td></tr>\n",
       "<tr><td>&nbsp;</td><td colspan=4 style-\"text-align:left\"><a class=\"ProveItLink\" href=\"../../../../multiplication/_theory_nbs_/proofs/elim_one_right/thm_proof.ipynb\">proveit.numbers.multiplication.elim_one_right</a></td></tr><tr><td><a name=\"proveit.numbers.division.demonstrations.233ca2262d860e8638b542322eb916d9fa78c7b50_step2\">2</a></td><td>assumption</td><td></td><td><span style=\"font-size:20px;\"><a class=\"ProveItLink\" href=\"../../../../addition/subtraction/__pv_it/theorems/b66b5547fa9b0b910f79351152926c658c2718190/expr.ipynb\"><img src=\"../../../../addition/subtraction/__pv_it/theorems/b66b5547fa9b0b910f79351152926c658c2718190/expr.png\" style=\"display:inline;vertical-align:middle;\" /></a> <a class=\"ProveItLink\" href=\"../9e72387cd9d32a0fadc9584ddfc813c53dbdef9b0/proof.ipynb\" style=\"text-decoration: none\">&nbsp;&#x22A2;&nbsp;&nbsp;</a><a class=\"ProveItLink\" href=\"../../../../addition/subtraction/__pv_it/theorems/b66b5547fa9b0b910f79351152926c658c2718190/expr.ipynb\"><img src=\"../../../../addition/subtraction/__pv_it/theorems/b66b5547fa9b0b910f79351152926c658c2718190/expr.png\" style=\"display:inline;vertical-align:middle;\" /></a></span></td></tr>\n",
       "</table>"
      ],
      "text/plain": [
       "<proveit._core_.proof._ShowProof at 0x7f75d6daf9b0>"
      ]
     },
     "execution_count": 1,
     "metadata": {},
     "output_type": "execute_result"
    }
   ],
   "source": [
    "import proveit\n",
    "# Automation is not needed when only showing a stored proof:\n",
    "proveit.defaults.automation = False # This will speed things up.\n",
    "proveit.defaults.inline_pngs = False # Makes files smaller.\n",
    "%show_proof"
   ]
  },
  {
   "cell_type": "code",
   "execution_count": null,
   "metadata": {},
   "outputs": [],
   "source": []
  }
 ],
 "metadata": {
  "kernelspec": {
   "display_name": "Python 3",
   "language": "python",
   "name": "python3"
  }
 },
 "nbformat": 4,
 "nbformat_minor": 0
}