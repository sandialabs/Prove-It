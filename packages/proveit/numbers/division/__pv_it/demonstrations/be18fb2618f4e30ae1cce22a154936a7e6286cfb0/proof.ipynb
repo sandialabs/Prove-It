{
 "cells": [
  {
   "cell_type": "markdown",
   "metadata": {},
   "source": [
    "Show the Proof\n",
    "========"
   ]
  },
  {
   "cell_type": "code",
   "execution_count": 1,
   "metadata": {},
   "outputs": [
    {
     "data": {
      "text/html": [
       "<table><tr><th>&nbsp;</th><th>step type</th><th>requirements</th><th>statement</th></tr>\n",
       "<tr><td><a name=\"proveit.numbers.division.demonstrations.be18fb2618f4e30ae1cce22a154936a7e6286cfb0_step0\">0</a></td><td>instantiation</td><td><a href=\"#proveit.numbers.division.demonstrations.be18fb2618f4e30ae1cce22a154936a7e6286cfb0_step1\">1</a>, <a href=\"#proveit.numbers.division.demonstrations.be18fb2618f4e30ae1cce22a154936a7e6286cfb0_step2\">2</a>, <a href=\"#proveit.numbers.division.demonstrations.be18fb2618f4e30ae1cce22a154936a7e6286cfb0_step3\">3</a>, <a href=\"#proveit.numbers.division.demonstrations.be18fb2618f4e30ae1cce22a154936a7e6286cfb0_step4\">4</a>, <a href=\"#proveit.numbers.division.demonstrations.be18fb2618f4e30ae1cce22a154936a7e6286cfb0_step5\">5</a>, <a href=\"#proveit.numbers.division.demonstrations.be18fb2618f4e30ae1cce22a154936a7e6286cfb0_step6\">6</a></td><td><span style=\"font-size:20px;\"><a class=\"ProveItLink\" href=\"../41c3ad9f29c40b69fd61c49f41684c1b813e9e850/expr.ipynb\"><img src=\"../41c3ad9f29c40b69fd61c49f41684c1b813e9e850/expr.png\" style=\"display:inline;vertical-align:middle;\" /></a>, <a class=\"ProveItLink\" href=\"../../../../exponentiation/__pv_it/theorems/d550e8309ef79ca46e4c9fb5617a392ea678789b0/expr.ipynb\"><img src=\"../../../../exponentiation/__pv_it/theorems/d550e8309ef79ca46e4c9fb5617a392ea678789b0/expr.png\" style=\"display:inline;vertical-align:middle;\" /></a>, <a class=\"ProveItLink\" href=\"../a7c8ff0c12601535056faf6cbd3f54f388d751000/expr.ipynb\"><img src=\"../a7c8ff0c12601535056faf6cbd3f54f388d751000/expr.png\" style=\"display:inline;vertical-align:middle;\" /></a>, <a class=\"ProveItLink\" href=\"../83c39aac72729e4176d1493c008c767b93f306cc0/expr.ipynb\"><img src=\"../83c39aac72729e4176d1493c008c767b93f306cc0/expr.png\" style=\"display:inline;vertical-align:middle;\" /></a>, <a class=\"ProveItLink\" href=\"../fe553994aca4dec5c87cf7a983cda9b2748426220/expr.ipynb\"><img src=\"../fe553994aca4dec5c87cf7a983cda9b2748426220/expr.png\" style=\"display:inline;vertical-align:middle;\" /></a> <a class=\"ProveItLink\" href=\"proof.ipynb\" style=\"text-decoration: none\">&nbsp;&#x22A2;&nbsp;&nbsp;</a><a class=\"ProveItLink\" href=\"../47faf3a251e5e30ea3c2a6b7548f24f9b0f534d60/expr.ipynb\"><img src=\"../47faf3a251e5e30ea3c2a6b7548f24f9b0f534d60/expr.png\" style=\"display:inline;vertical-align:middle;\" /></a></span></td></tr>\n",
       "<tr><td>&nbsp;</td><td colspan=4 style=\"text-align:left\"><span style=\"font-size:20px;\"><a class=\"ProveItLink\" href=\"../../../../../__pv_it/common/c06c606ec12678c58933ac85412ecadc2ae28be60/expr.ipynb\"><img src=\"../../../../../__pv_it/common/c06c606ec12678c58933ac85412ecadc2ae28be60/expr.png\" style=\"display:inline;vertical-align:middle;\" /></a> : <a class=\"ProveItLink\" href=\"../../../../../__pv_it/common/4f5c524ffda87296de1c79b96880123fe2efedd50/expr.ipynb\"><img src=\"../../../../../__pv_it/common/4f5c524ffda87296de1c79b96880123fe2efedd50/expr.png\" style=\"display:inline;vertical-align:middle;\" /></a>, <a class=\"ProveItLink\" href=\"../../../../../__pv_it/common/a0d9d672aa5e272d907247690c152cc2c6daafb70/expr.ipynb\"><img src=\"../../../../../__pv_it/common/a0d9d672aa5e272d907247690c152cc2c6daafb70/expr.png\" style=\"display:inline;vertical-align:middle;\" /></a> : <a class=\"ProveItLink\" href=\"../../../../../__pv_it/common/ceef4280a2f1cc604b455b54e735507244cc62cd0/expr.ipynb\"><img src=\"../../../../../__pv_it/common/ceef4280a2f1cc604b455b54e735507244cc62cd0/expr.png\" style=\"display:inline;vertical-align:middle;\" /></a>, <a class=\"ProveItLink\" href=\"../../../../../__pv_it/common/ff7dba4ef0bbe791ab573bf2d9c220a304399ac80/expr.ipynb\"><img src=\"../../../../../__pv_it/common/ff7dba4ef0bbe791ab573bf2d9c220a304399ac80/expr.png\" style=\"display:inline;vertical-align:middle;\" /></a> : <a class=\"ProveItLink\" href=\"../../../../../__pv_it/common/d365663894822dede40e6e04c77860068334d0820/expr.ipynb\"><img src=\"../../../../../__pv_it/common/d365663894822dede40e6e04c77860068334d0820/expr.png\" style=\"display:inline;vertical-align:middle;\" /></a></span></td></tr><tr><td><a name=\"proveit.numbers.division.demonstrations.be18fb2618f4e30ae1cce22a154936a7e6286cfb0_step1\">1</a></td><td>theorem</td><td></td><td><span style=\"font-size:20px;\"> <a class=\"ProveItLink\" href=\"../../../_theory_nbs_/proofs/weak_div_from_numer_bound__neg_denom/thm_proof.ipynb\" style=\"text-decoration: none\">&nbsp;&#x22A2;&nbsp;&nbsp;</a><a class=\"ProveItLink\" href=\"../../theorems/e733e580628031c974a376cc3fff0892490fb3400/expr.ipynb\"><img src=\"../../theorems/e733e580628031c974a376cc3fff0892490fb3400/expr.png\" style=\"display:inline;vertical-align:middle;\" /></a></span></td></tr>\n",
       "<tr><td>&nbsp;</td><td colspan=4 style-\"text-align:left\"><a class=\"ProveItLink\" href=\"../../../_theory_nbs_/proofs/weak_div_from_numer_bound__neg_denom/thm_proof.ipynb\">proveit.numbers.division.weak_div_from_numer_bound__neg_denom</a></td></tr><tr><td><a name=\"proveit.numbers.division.demonstrations.be18fb2618f4e30ae1cce22a154936a7e6286cfb0_step2\">2</a></td><td>assumption</td><td></td><td><span style=\"font-size:20px;\"><a class=\"ProveItLink\" href=\"../41c3ad9f29c40b69fd61c49f41684c1b813e9e850/expr.ipynb\"><img src=\"../41c3ad9f29c40b69fd61c49f41684c1b813e9e850/expr.png\" style=\"display:inline;vertical-align:middle;\" /></a> <a class=\"ProveItLink\" href=\"../1e24949dda955ec71a7a8505d0233f75922115f80/proof.ipynb\" style=\"text-decoration: none\">&nbsp;&#x22A2;&nbsp;&nbsp;</a><a class=\"ProveItLink\" href=\"../41c3ad9f29c40b69fd61c49f41684c1b813e9e850/expr.ipynb\"><img src=\"../41c3ad9f29c40b69fd61c49f41684c1b813e9e850/expr.png\" style=\"display:inline;vertical-align:middle;\" /></a></span></td></tr>\n",
       "<tr><td><a name=\"proveit.numbers.division.demonstrations.be18fb2618f4e30ae1cce22a154936a7e6286cfb0_step3\">3</a></td><td>assumption</td><td></td><td><span style=\"font-size:20px;\"><a class=\"ProveItLink\" href=\"../../../../exponentiation/__pv_it/theorems/d550e8309ef79ca46e4c9fb5617a392ea678789b0/expr.ipynb\"><img src=\"../../../../exponentiation/__pv_it/theorems/d550e8309ef79ca46e4c9fb5617a392ea678789b0/expr.png\" style=\"display:inline;vertical-align:middle;\" /></a> <a class=\"ProveItLink\" href=\"../3e8101510606e2ca6dc6547f75e9191ca91f41f40/proof.ipynb\" style=\"text-decoration: none\">&nbsp;&#x22A2;&nbsp;&nbsp;</a><a class=\"ProveItLink\" href=\"../../../../exponentiation/__pv_it/theorems/d550e8309ef79ca46e4c9fb5617a392ea678789b0/expr.ipynb\"><img src=\"../../../../exponentiation/__pv_it/theorems/d550e8309ef79ca46e4c9fb5617a392ea678789b0/expr.png\" style=\"display:inline;vertical-align:middle;\" /></a></span></td></tr>\n",
       "<tr><td><a name=\"proveit.numbers.division.demonstrations.be18fb2618f4e30ae1cce22a154936a7e6286cfb0_step4\">4</a></td><td>assumption</td><td></td><td><span style=\"font-size:20px;\"><a class=\"ProveItLink\" href=\"../a7c8ff0c12601535056faf6cbd3f54f388d751000/expr.ipynb\"><img src=\"../a7c8ff0c12601535056faf6cbd3f54f388d751000/expr.png\" style=\"display:inline;vertical-align:middle;\" /></a> <a class=\"ProveItLink\" href=\"../b60d0ec61c0582e1d1eccc4b5c0f167b1855e70d0/proof.ipynb\" style=\"text-decoration: none\">&nbsp;&#x22A2;&nbsp;&nbsp;</a><a class=\"ProveItLink\" href=\"../a7c8ff0c12601535056faf6cbd3f54f388d751000/expr.ipynb\"><img src=\"../a7c8ff0c12601535056faf6cbd3f54f388d751000/expr.png\" style=\"display:inline;vertical-align:middle;\" /></a></span></td></tr>\n",
       "<tr><td><a name=\"proveit.numbers.division.demonstrations.be18fb2618f4e30ae1cce22a154936a7e6286cfb0_step5\">5</a></td><td>assumption</td><td></td><td><span style=\"font-size:20px;\"><a class=\"ProveItLink\" href=\"../83c39aac72729e4176d1493c008c767b93f306cc0/expr.ipynb\"><img src=\"../83c39aac72729e4176d1493c008c767b93f306cc0/expr.png\" style=\"display:inline;vertical-align:middle;\" /></a> <a class=\"ProveItLink\" href=\"../f59767a7fdad3097b557216fccb9aceb94299a710/proof.ipynb\" style=\"text-decoration: none\">&nbsp;&#x22A2;&nbsp;&nbsp;</a><a class=\"ProveItLink\" href=\"../83c39aac72729e4176d1493c008c767b93f306cc0/expr.ipynb\"><img src=\"../83c39aac72729e4176d1493c008c767b93f306cc0/expr.png\" style=\"display:inline;vertical-align:middle;\" /></a></span></td></tr>\n",
       "<tr><td><a name=\"proveit.numbers.division.demonstrations.be18fb2618f4e30ae1cce22a154936a7e6286cfb0_step6\">6</a></td><td>assumption</td><td></td><td><span style=\"font-size:20px;\"><a class=\"ProveItLink\" href=\"../fe553994aca4dec5c87cf7a983cda9b2748426220/expr.ipynb\"><img src=\"../fe553994aca4dec5c87cf7a983cda9b2748426220/expr.png\" style=\"display:inline;vertical-align:middle;\" /></a> <a class=\"ProveItLink\" href=\"../f20e1a94f437628159857d42ddc73875ba3a31640/proof.ipynb\" style=\"text-decoration: none\">&nbsp;&#x22A2;&nbsp;&nbsp;</a><a class=\"ProveItLink\" href=\"../fe553994aca4dec5c87cf7a983cda9b2748426220/expr.ipynb\"><img src=\"../fe553994aca4dec5c87cf7a983cda9b2748426220/expr.png\" style=\"display:inline;vertical-align:middle;\" /></a></span></td></tr>\n",
       "</table>"
      ],
      "text/plain": [
       "<proveit._core_.proof._ShowProof at 0x7f930c597278>"
      ]
     },
     "execution_count": 1,
     "metadata": {},
     "output_type": "execute_result"
    }
   ],
   "source": [
    "import proveit\n",
    "# Automation is not needed when only showing a stored proof:\n",
    "proveit.defaults.automation = False # This will speed things up.\n",
    "proveit.defaults.inline_pngs = False # Makes files smaller.\n",
    "%show_proof"
   ]
  },
  {
   "cell_type": "code",
   "execution_count": null,
   "metadata": {},
   "outputs": [],
   "source": []
  }
 ],
 "metadata": {
  "kernelspec": {
   "display_name": "Python 3",
   "language": "python",
   "name": "python3"
  }
 },
 "nbformat": 4,
 "nbformat_minor": 0
}