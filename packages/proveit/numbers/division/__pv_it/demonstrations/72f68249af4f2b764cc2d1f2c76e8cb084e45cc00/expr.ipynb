{
 "cells": [
  {
   "cell_type": "markdown",
   "metadata": {},
   "source": [
    "Expression of type <a class=\"ProveItLink\" href=\"../../../../../../../doc/html/api/proveit.logic.Equals.html\">Equals</a>\n",
    "=======================\n",
    "# from the theory of <a class=\"ProveItLink\" href=\"../../../_theory_nbs_/theory.ipynb\">proveit.numbers.division</a>"
   ]
  },
  {
   "cell_type": "code",
   "execution_count": 1,
   "metadata": {},
   "outputs": [],
   "source": [
    "import proveit\n",
    "# Automation is not needed when building an expression:\n",
    "proveit.defaults.automation = False # This will speed things up.\n",
    "proveit.defaults.inline_pngs = False # Makes files smaller.\n",
    "%load_expr # Load the stored expression as 'stored_expr'\n",
    "# import Expression classes needed to build the expression\n",
    "from proveit.logic import Equals\n",
    "from proveit.numbers import four, frac, three, two"
   ]
  },
  {
   "cell_type": "code",
   "execution_count": 2,
   "metadata": {},
   "outputs": [
    {
     "data": {
      "text/html": [
       "<strong id=\"expr\">expr:</strong> <a class=\"ProveItLink\" href=\"expr.ipynb\"><img src=\"expr.png\" style=\"display:inline;vertical-align:middle;\" /></a><br>"
      ],
      "text/plain": [
       "<IPython.core.display.HTML object>"
      ]
     },
     "metadata": {},
     "output_type": "display_data"
    }
   ],
   "source": [
    "# build up the expression from sub-expressions\n",
    "expr = Equals(frac(frac(four, three), two), frac(two, three))"
   ]
  },
  {
   "cell_type": "code",
   "execution_count": 3,
   "metadata": {},
   "outputs": [
    {
     "name": "stdout",
     "output_type": "stream",
     "text": [
      "Passed sanity check: expr matches stored_expr\n"
     ]
    }
   ],
   "source": [
    "# check that the built expression is the same as the stored expression\n",
    "assert expr == stored_expr\n",
    "assert expr._style_id == stored_expr._style_id\n",
    "print(\"Passed sanity check: expr matches stored_expr\")"
   ]
  },
  {
   "cell_type": "code",
   "execution_count": 4,
   "metadata": {},
   "outputs": [
    {
     "name": "stdout",
     "output_type": "stream",
     "text": [
      "\\frac{\\frac{4}{3}}{2} = \\frac{2}{3}\n"
     ]
    }
   ],
   "source": [
    "# Show the LaTeX representation of the expression for convenience if you need it.\n",
    "print(stored_expr.latex())"
   ]
  },
  {
   "cell_type": "code",
   "execution_count": 5,
   "metadata": {},
   "outputs": [
    {
     "data": {
      "text/html": [
       "<table>\n",
       "<tr><th>name</th><th>description</th><th>default</th><th>current value</th><th>related methods</th></tr><tr><td>operation</td><td>'infix' or 'function' style formatting</td><td>infix</td><td>infix</td><td></td></tr>\n",
       "<tr><td>wrap_positions</td><td>position(s) at which wrapping is to occur; '2 n - 1' is after the nth operand, '2 n' is after the nth operation.</td><td>()</td><td>()</td><td>('with_wrapping_at', 'with_wrap_before_operator', 'with_wrap_after_operator', 'without_wrapping', 'wrap_positions')</td></tr>\n",
       "<tr><td>justification</td><td>if any wrap positions are set, justify to the 'left', 'center', or 'right'</td><td>center</td><td>center</td><td>('with_justification',)</td></tr>\n",
       "<tr><td>direction</td><td>Direction of the relation (normal or reversed)</td><td>normal</td><td>normal</td><td>('with_direction_reversed', 'is_reversed')</td></tr>\n",
       "</table>\n"
      ],
      "text/plain": [
       "style name: operation\n",
       "description: 'infix' or 'function' style formatting\n",
       "default: infix\n",
       "current value: infix\n",
       "related methods: ()\n",
       "style name: wrap_positions\n",
       "description: position(s) at which wrapping is to occur; '2 n - 1' is after the nth operand, '2 n' is after the nth operation.\n",
       "default: ()\n",
       "current value: ()\n",
       "related methods: ('with_wrapping_at', 'with_wrap_before_operator', 'with_wrap_after_operator', 'without_wrapping', 'wrap_positions')\n",
       "style name: justification\n",
       "description: if any wrap positions are set, justify to the 'left', 'center', or 'right'\n",
       "default: center\n",
       "current value: center\n",
       "related methods: ('with_justification',)\n",
       "style name: direction\n",
       "description: Direction of the relation (normal or reversed)\n",
       "default: normal\n",
       "current value: normal\n",
       "related methods: ('with_direction_reversed', 'is_reversed')"
      ]
     },
     "metadata": {},
     "output_type": "display_data"
    }
   ],
   "source": [
    "stored_expr.style_options()"
   ]
  },
  {
   "cell_type": "code",
   "execution_count": 6,
   "metadata": {},
   "outputs": [
    {
     "data": {
      "text/html": [
       "<table><tr><th>&nbsp;</th><th>core type</th><th>sub-expressions</th><th>expression</th></tr>\n",
       "<tr><td>0</td><td>Operation</td><td>operator:&nbsp;1<br>operands:&nbsp;2<br></td><td><a class=\"ProveItLink\" href=\"expr.ipynb\"><img src=\"expr.png\" style=\"display:inline;vertical-align:middle;\" /></a></td></tr>\n",
       "<tr><td>1</td><td>Literal</td><td></td><td><a class=\"ProveItLink\" href=\"../../../../../logic/equality/__pv_it/common/fb96dc12b2aa8801dda64d0132b396c63d1502bb0/expr.ipynb\"><img src=\"../../../../../logic/equality/__pv_it/common/fb96dc12b2aa8801dda64d0132b396c63d1502bb0/expr.png\" style=\"display:inline;vertical-align:middle;\" /></a></td></tr>\n",
       "<tr><td>2</td><td>ExprTuple</td><td>3, 4</td><td><a class=\"ProveItLink\" href=\"../e8d0250d3f51c755b88028d6887961f0b3d7b1d10/expr.ipynb\"><img src=\"../e8d0250d3f51c755b88028d6887961f0b3d7b1d10/expr.png\" style=\"display:inline;vertical-align:middle;\" /></a></td></tr>\n",
       "<tr><td>3</td><td>Operation</td><td>operator:&nbsp;9<br>operands:&nbsp;5<br></td><td><a class=\"ProveItLink\" href=\"../fef532dc388249e4558672ed5a95b7a62a7517710/expr.ipynb\"><img src=\"../fef532dc388249e4558672ed5a95b7a62a7517710/expr.png\" style=\"display:inline;vertical-align:middle;\" /></a></td></tr>\n",
       "<tr><td>4</td><td>Operation</td><td>operator:&nbsp;9<br>operands:&nbsp;6<br></td><td><a class=\"ProveItLink\" href=\"../836d65d386e08c6ad19f11580f832d654df588cd0/expr.ipynb\"><img src=\"../836d65d386e08c6ad19f11580f832d654df588cd0/expr.png\" style=\"display:inline;vertical-align:middle;\" /></a></td></tr>\n",
       "<tr><td>5</td><td>ExprTuple</td><td>7, 8</td><td><a class=\"ProveItLink\" href=\"../46e56a3148b1f6e7c7bd99a2baa1fadd0ccf183b0/expr.ipynb\"><img src=\"../46e56a3148b1f6e7c7bd99a2baa1fadd0ccf183b0/expr.png\" style=\"display:inline;vertical-align:middle;\" /></a></td></tr>\n",
       "<tr><td>6</td><td>ExprTuple</td><td>8, 12</td><td><a class=\"ProveItLink\" href=\"../../../../numerals/decimals/__pv_it/theorems/507125bf20ae8af40b63f375b7417e5dd7fd6bd00/expr.ipynb\"><img src=\"../../../../numerals/decimals/__pv_it/theorems/507125bf20ae8af40b63f375b7417e5dd7fd6bd00/expr.png\" style=\"display:inline;vertical-align:middle;\" /></a></td></tr>\n",
       "<tr><td>7</td><td>Operation</td><td>operator:&nbsp;9<br>operands:&nbsp;10<br></td><td><a class=\"ProveItLink\" href=\"../4e59538476eb17c830f57c824a0c88c98f34680c0/expr.ipynb\"><img src=\"../4e59538476eb17c830f57c824a0c88c98f34680c0/expr.png\" style=\"display:inline;vertical-align:middle;\" /></a></td></tr>\n",
       "<tr><td>8</td><td>Literal</td><td></td><td><a class=\"ProveItLink\" href=\"../../../../numerals/__pv_it/common/af4aab8a07465db063742696e006d04670f30cf10/expr.ipynb\"><img src=\"../../../../numerals/__pv_it/common/af4aab8a07465db063742696e006d04670f30cf10/expr.png\" style=\"display:inline;vertical-align:middle;\" /></a></td></tr>\n",
       "<tr><td>9</td><td>Literal</td><td></td><td><a class=\"ProveItLink\" href=\"../../common/a2a633e1e3c749fb1f2692466b287b6348c5de840/expr.ipynb\"><img src=\"../../common/a2a633e1e3c749fb1f2692466b287b6348c5de840/expr.png\" style=\"display:inline;vertical-align:middle;\" /></a></td></tr>\n",
       "<tr><td>10</td><td>ExprTuple</td><td>11, 12</td><td><a class=\"ProveItLink\" href=\"../e7e160ac1d4848d5456c772074f7d7d9206a690c0/expr.ipynb\"><img src=\"../e7e160ac1d4848d5456c772074f7d7d9206a690c0/expr.png\" style=\"display:inline;vertical-align:middle;\" /></a></td></tr>\n",
       "<tr><td>11</td><td>Literal</td><td></td><td><a class=\"ProveItLink\" href=\"../../../../numerals/__pv_it/common/48a1d915c1e9490b9a94e5c77a208938d3ee20ce0/expr.ipynb\"><img src=\"../../../../numerals/__pv_it/common/48a1d915c1e9490b9a94e5c77a208938d3ee20ce0/expr.png\" style=\"display:inline;vertical-align:middle;\" /></a></td></tr>\n",
       "<tr><td>12</td><td>Literal</td><td></td><td><a class=\"ProveItLink\" href=\"../../../../numerals/__pv_it/common/1943b60945420e340d305780feff5c1aff2740ff0/expr.ipynb\"><img src=\"../../../../numerals/__pv_it/common/1943b60945420e340d305780feff5c1aff2740ff0/expr.png\" style=\"display:inline;vertical-align:middle;\" /></a></td></tr>\n",
       "</table>\n"
      ],
      "text/plain": [
       "0. ((4 / 3) / 2) = (2 / 3)\n",
       "   core type: Operation\n",
       "   operator: 1\n",
       "   operands: 2\n",
       "1. =\n",
       "   core type: Literal\n",
       "   sub-expressions: \n",
       "2. ((4 / 3) / 2, 2 / 3)\n",
       "   core type: ExprTuple\n",
       "   sub-expressions: 3, 4\n",
       "3. (4 / 3) / 2\n",
       "   core type: Operation\n",
       "   operator: 9\n",
       "   operands: 5\n",
       "4. 2 / 3\n",
       "   core type: Operation\n",
       "   operator: 9\n",
       "   operands: 6\n",
       "5. (4 / 3, 2)\n",
       "   core type: ExprTuple\n",
       "   sub-expressions: 7, 8\n",
       "6. (2, 3)\n",
       "   core type: ExprTuple\n",
       "   sub-expressions: 8, 12\n",
       "7. 4 / 3\n",
       "   core type: Operation\n",
       "   operator: 9\n",
       "   operands: 10\n",
       "8. 2\n",
       "   core type: Literal\n",
       "   sub-expressions: \n",
       "9. /\n",
       "   core type: Literal\n",
       "   sub-expressions: \n",
       "10. (4, 3)\n",
       "    core type: ExprTuple\n",
       "    sub-expressions: 11, 12\n",
       "11. 4\n",
       "    core type: Literal\n",
       "    sub-expressions: \n",
       "12. 3\n",
       "    core type: Literal\n",
       "    sub-expressions: "
      ]
     },
     "metadata": {},
     "output_type": "display_data"
    }
   ],
   "source": [
    "# display the expression information\n",
    "stored_expr.expr_info()"
   ]
  },
  {
   "cell_type": "code",
   "execution_count": null,
   "metadata": {},
   "outputs": [],
   "source": []
  }
 ],
 "metadata": {
  "kernelspec": {
   "display_name": "Python 3",
   "language": "python",
   "name": "python3"
  }
 },
 "nbformat": 4,
 "nbformat_minor": 0
}