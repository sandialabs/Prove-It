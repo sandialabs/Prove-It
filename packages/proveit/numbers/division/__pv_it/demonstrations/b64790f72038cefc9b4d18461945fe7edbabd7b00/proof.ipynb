{
 "cells": [
  {
   "cell_type": "markdown",
   "metadata": {},
   "source": [
    "Show the Proof\n",
    "========"
   ]
  },
  {
   "cell_type": "code",
   "execution_count": 1,
   "metadata": {},
   "outputs": [
    {
     "data": {
      "text/html": [
       "<table><tr><th>&nbsp;</th><th>step type</th><th>requirements</th><th>statement</th></tr>\n",
       "<tr><td><a name=\"proveit.numbers.division.demonstrations.b64790f72038cefc9b4d18461945fe7edbabd7b00_step0\">0</a></td><td>instantiation</td><td><a href=\"#proveit.numbers.division.demonstrations.b64790f72038cefc9b4d18461945fe7edbabd7b00_step1\">1</a>, <a href=\"#proveit.numbers.division.demonstrations.b64790f72038cefc9b4d18461945fe7edbabd7b00_step2\">2</a>, <a href=\"#proveit.numbers.division.demonstrations.b64790f72038cefc9b4d18461945fe7edbabd7b00_step3\">3</a></td><td><span style=\"font-size:20px;\"><a class=\"ProveItLink\" href=\"../../../../addition/subtraction/__pv_it/theorems/b66b5547fa9b0b910f79351152926c658c2718190/expr.ipynb\"><img src=\"../../../../addition/subtraction/__pv_it/theorems/b66b5547fa9b0b910f79351152926c658c2718190/expr.png\" style=\"display:inline;vertical-align:middle;\" /></a>, <a class=\"ProveItLink\" href=\"../1034b099268ebc68ab71d757a423d98a8a315f520/expr.ipynb\"><img src=\"../1034b099268ebc68ab71d757a423d98a8a315f520/expr.png\" style=\"display:inline;vertical-align:middle;\" /></a> <a class=\"ProveItLink\" href=\"proof.ipynb\" style=\"text-decoration: none\">&nbsp;&#x22A2;&nbsp;&nbsp;</a><a class=\"ProveItLink\" href=\"../../theorems/0762eef3346f360e5ea20bc1386eac8150a842620/expr.ipynb\"><img src=\"../../theorems/0762eef3346f360e5ea20bc1386eac8150a842620/expr.png\" style=\"display:inline;vertical-align:middle;\" /></a></span></td></tr>\n",
       "<tr><td>&nbsp;</td><td colspan=4 style=\"text-align:left\"><span style=\"font-size:20px;\"><a class=\"ProveItLink\" href=\"../../../../../__pv_it/common/a0d9d672aa5e272d907247690c152cc2c6daafb70/expr.ipynb\"><img src=\"../../../../../__pv_it/common/a0d9d672aa5e272d907247690c152cc2c6daafb70/expr.png\" style=\"display:inline;vertical-align:middle;\" /></a> : <a class=\"ProveItLink\" href=\"../../../../../__pv_it/common/ceef4280a2f1cc604b455b54e735507244cc62cd0/expr.ipynb\"><img src=\"../../../../../__pv_it/common/ceef4280a2f1cc604b455b54e735507244cc62cd0/expr.png\" style=\"display:inline;vertical-align:middle;\" /></a></span></td></tr><tr><td><a name=\"proveit.numbers.division.demonstrations.b64790f72038cefc9b4d18461945fe7edbabd7b00_step1\">1</a></td><td>theorem</td><td></td><td><span style=\"font-size:20px;\"> <a class=\"ProveItLink\" href=\"../../../../number_sets/complex_numbers/_theory_nbs_/proofs/nonzero_complex_is_complex_nonzero/thm_proof.ipynb\" style=\"text-decoration: none\">&nbsp;&#x22A2;&nbsp;&nbsp;</a><a class=\"ProveItLink\" href=\"../../../../number_sets/complex_numbers/__pv_it/theorems/5efbd795750b399e2e69db952ed29be820a8ea3b0/expr.ipynb\"><img src=\"../../../../number_sets/complex_numbers/__pv_it/theorems/5efbd795750b399e2e69db952ed29be820a8ea3b0/expr.png\" style=\"display:inline;vertical-align:middle;\" /></a></span></td></tr>\n",
       "<tr><td>&nbsp;</td><td colspan=4 style-\"text-align:left\"><a class=\"ProveItLink\" href=\"../../../../number_sets/complex_numbers/_theory_nbs_/proofs/nonzero_complex_is_complex_nonzero/thm_proof.ipynb\">proveit.numbers.number_sets.complex_numbers.nonzero_complex_is_complex_nonzero</a></td></tr><tr><td><a name=\"proveit.numbers.division.demonstrations.b64790f72038cefc9b4d18461945fe7edbabd7b00_step2\">2</a></td><td>assumption</td><td></td><td><span style=\"font-size:20px;\"><a class=\"ProveItLink\" href=\"../../../../addition/subtraction/__pv_it/theorems/b66b5547fa9b0b910f79351152926c658c2718190/expr.ipynb\"><img src=\"../../../../addition/subtraction/__pv_it/theorems/b66b5547fa9b0b910f79351152926c658c2718190/expr.png\" style=\"display:inline;vertical-align:middle;\" /></a> <a class=\"ProveItLink\" href=\"../9e72387cd9d32a0fadc9584ddfc813c53dbdef9b0/proof.ipynb\" style=\"text-decoration: none\">&nbsp;&#x22A2;&nbsp;&nbsp;</a><a class=\"ProveItLink\" href=\"../../../../addition/subtraction/__pv_it/theorems/b66b5547fa9b0b910f79351152926c658c2718190/expr.ipynb\"><img src=\"../../../../addition/subtraction/__pv_it/theorems/b66b5547fa9b0b910f79351152926c658c2718190/expr.png\" style=\"display:inline;vertical-align:middle;\" /></a></span></td></tr>\n",
       "<tr><td><a name=\"proveit.numbers.division.demonstrations.b64790f72038cefc9b4d18461945fe7edbabd7b00_step3\">3</a></td><td>assumption</td><td></td><td><span style=\"font-size:20px;\"><a class=\"ProveItLink\" href=\"../1034b099268ebc68ab71d757a423d98a8a315f520/expr.ipynb\"><img src=\"../1034b099268ebc68ab71d757a423d98a8a315f520/expr.png\" style=\"display:inline;vertical-align:middle;\" /></a> <a class=\"ProveItLink\" href=\"../13d58c439023c0152978f7d44190a4f3630f68060/proof.ipynb\" style=\"text-decoration: none\">&nbsp;&#x22A2;&nbsp;&nbsp;</a><a class=\"ProveItLink\" href=\"../1034b099268ebc68ab71d757a423d98a8a315f520/expr.ipynb\"><img src=\"../1034b099268ebc68ab71d757a423d98a8a315f520/expr.png\" style=\"display:inline;vertical-align:middle;\" /></a></span></td></tr>\n",
       "</table>"
      ],
      "text/plain": [
       "<proveit._core_.proof._ShowProof at 0x7fa27e8a6978>"
      ]
     },
     "execution_count": 1,
     "metadata": {},
     "output_type": "execute_result"
    }
   ],
   "source": [
    "import proveit\n",
    "# Automation is not needed when only showing a stored proof:\n",
    "proveit.defaults.automation = False # This will speed things up.\n",
    "proveit.defaults.inline_pngs = False # Makes files smaller.\n",
    "%show_proof"
   ]
  },
  {
   "cell_type": "code",
   "execution_count": null,
   "metadata": {},
   "outputs": [],
   "source": []
  }
 ],
 "metadata": {
  "kernelspec": {
   "display_name": "Python 3",
   "language": "python",
   "name": "python3"
  }
 },
 "nbformat": 4,
 "nbformat_minor": 0
}