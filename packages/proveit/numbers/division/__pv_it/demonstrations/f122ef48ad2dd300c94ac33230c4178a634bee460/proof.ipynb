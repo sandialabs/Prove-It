{
 "cells": [
  {
   "cell_type": "markdown",
   "metadata": {},
   "source": [
    "Show the Proof\n",
    "========"
   ]
  },
  {
   "cell_type": "code",
   "execution_count": 1,
   "metadata": {},
   "outputs": [
    {
     "data": {
      "text/html": [
       "<table><tr><th>&nbsp;</th><th>step type</th><th>requirements</th><th>statement</th></tr>\n",
       "<tr><td><a name=\"proveit.numbers.division.demonstrations.f122ef48ad2dd300c94ac33230c4178a634bee460_step0\">0</a></td><td>instantiation</td><td><a href=\"#proveit.numbers.division.demonstrations.f122ef48ad2dd300c94ac33230c4178a634bee460_step1\">1</a>, <a href=\"#proveit.numbers.division.demonstrations.f122ef48ad2dd300c94ac33230c4178a634bee460_step2\">2</a>, <a href=\"#proveit.numbers.division.demonstrations.f122ef48ad2dd300c94ac33230c4178a634bee460_step3\">3</a></td><td><span style=\"font-size:20px;\"><a class=\"ProveItLink\" href=\"../a7c8ff0c12601535056faf6cbd3f54f388d751000/expr.ipynb\"><img src=\"../a7c8ff0c12601535056faf6cbd3f54f388d751000/expr.png\" style=\"display:inline;vertical-align:middle;\" /></a>, <a class=\"ProveItLink\" href=\"../1d25dbcbf5bd42aa3cfadf17d74679bd264940be0/expr.ipynb\"><img src=\"../1d25dbcbf5bd42aa3cfadf17d74679bd264940be0/expr.png\" style=\"display:inline;vertical-align:middle;\" /></a> <a class=\"ProveItLink\" href=\"proof.ipynb\" style=\"text-decoration: none\">&nbsp;&#x22A2;&nbsp;&nbsp;</a><a class=\"ProveItLink\" href=\"../c166e03372f824d185a1c75493dd63cee460ab7c0/expr.ipynb\"><img src=\"../c166e03372f824d185a1c75493dd63cee460ab7c0/expr.png\" style=\"display:inline;vertical-align:middle;\" /></a></span></td></tr>\n",
       "<tr><td>&nbsp;</td><td colspan=4 style=\"text-align:left\"><span style=\"font-size:20px;\"><a class=\"ProveItLink\" href=\"../../../../../__pv_it/common/c06c606ec12678c58933ac85412ecadc2ae28be60/expr.ipynb\"><img src=\"../../../../../__pv_it/common/c06c606ec12678c58933ac85412ecadc2ae28be60/expr.png\" style=\"display:inline;vertical-align:middle;\" /></a> : <a class=\"ProveItLink\" href=\"../../../../../__pv_it/common/d365663894822dede40e6e04c77860068334d0820/expr.ipynb\"><img src=\"../../../../../__pv_it/common/d365663894822dede40e6e04c77860068334d0820/expr.png\" style=\"display:inline;vertical-align:middle;\" /></a></span></td></tr><tr><td><a name=\"proveit.numbers.division.demonstrations.f122ef48ad2dd300c94ac33230c4178a634bee460_step1\">1</a></td><td>theorem</td><td></td><td><span style=\"font-size:20px;\"> <a class=\"ProveItLink\" href=\"../../../../number_sets/real_numbers/_theory_nbs_/proofs/neg_real_is_real_neg/thm_proof.ipynb\" style=\"text-decoration: none\">&nbsp;&#x22A2;&nbsp;&nbsp;</a><a class=\"ProveItLink\" href=\"../../../../number_sets/real_numbers/__pv_it/theorems/3176ba9cfa11fed9498c8bb6de0b427df3ecf2fc0/expr.ipynb\"><img src=\"../../../../number_sets/real_numbers/__pv_it/theorems/3176ba9cfa11fed9498c8bb6de0b427df3ecf2fc0/expr.png\" style=\"display:inline;vertical-align:middle;\" /></a></span></td></tr>\n",
       "<tr><td>&nbsp;</td><td colspan=4 style-\"text-align:left\"><a class=\"ProveItLink\" href=\"../../../../number_sets/real_numbers/_theory_nbs_/proofs/neg_real_is_real_neg/thm_proof.ipynb\">proveit.numbers.number_sets.real_numbers.neg_real_is_real_neg</a></td></tr><tr><td><a name=\"proveit.numbers.division.demonstrations.f122ef48ad2dd300c94ac33230c4178a634bee460_step2\">2</a></td><td>assumption</td><td></td><td><span style=\"font-size:20px;\"><a class=\"ProveItLink\" href=\"../a7c8ff0c12601535056faf6cbd3f54f388d751000/expr.ipynb\"><img src=\"../a7c8ff0c12601535056faf6cbd3f54f388d751000/expr.png\" style=\"display:inline;vertical-align:middle;\" /></a> <a class=\"ProveItLink\" href=\"../b60d0ec61c0582e1d1eccc4b5c0f167b1855e70d0/proof.ipynb\" style=\"text-decoration: none\">&nbsp;&#x22A2;&nbsp;&nbsp;</a><a class=\"ProveItLink\" href=\"../a7c8ff0c12601535056faf6cbd3f54f388d751000/expr.ipynb\"><img src=\"../a7c8ff0c12601535056faf6cbd3f54f388d751000/expr.png\" style=\"display:inline;vertical-align:middle;\" /></a></span></td></tr>\n",
       "<tr><td><a name=\"proveit.numbers.division.demonstrations.f122ef48ad2dd300c94ac33230c4178a634bee460_step3\">3</a></td><td>assumption</td><td></td><td><span style=\"font-size:20px;\"><a class=\"ProveItLink\" href=\"../1d25dbcbf5bd42aa3cfadf17d74679bd264940be0/expr.ipynb\"><img src=\"../1d25dbcbf5bd42aa3cfadf17d74679bd264940be0/expr.png\" style=\"display:inline;vertical-align:middle;\" /></a> <a class=\"ProveItLink\" href=\"../55e26a03128a3ebd9f6f9b74e723189840f16b7c0/proof.ipynb\" style=\"text-decoration: none\">&nbsp;&#x22A2;&nbsp;&nbsp;</a><a class=\"ProveItLink\" href=\"../1d25dbcbf5bd42aa3cfadf17d74679bd264940be0/expr.ipynb\"><img src=\"../1d25dbcbf5bd42aa3cfadf17d74679bd264940be0/expr.png\" style=\"display:inline;vertical-align:middle;\" /></a></span></td></tr>\n",
       "</table>"
      ],
      "text/plain": [
       "<proveit._core_.proof._ShowProof at 0x7f2cdd2fa048>"
      ]
     },
     "execution_count": 1,
     "metadata": {},
     "output_type": "execute_result"
    }
   ],
   "source": [
    "import proveit\n",
    "# Automation is not needed when only showing a stored proof:\n",
    "proveit.defaults.automation = False # This will speed things up.\n",
    "proveit.defaults.inline_pngs = False # Makes files smaller.\n",
    "%show_proof"
   ]
  },
  {
   "cell_type": "code",
   "execution_count": null,
   "metadata": {},
   "outputs": [],
   "source": []
  }
 ],
 "metadata": {
  "kernelspec": {
   "display_name": "Python 3",
   "language": "python",
   "name": "python3"
  }
 },
 "nbformat": 4,
 "nbformat_minor": 0
}