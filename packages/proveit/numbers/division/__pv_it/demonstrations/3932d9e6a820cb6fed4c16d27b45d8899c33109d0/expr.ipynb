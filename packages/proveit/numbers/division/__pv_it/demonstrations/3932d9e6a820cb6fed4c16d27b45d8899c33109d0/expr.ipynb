{
 "cells": [
  {
   "cell_type": "markdown",
   "metadata": {},
   "source": [
    "Expression of type <a class=\"ProveItLink\" href=\"../../../../../../../doc/html/api/proveit.ExprTuple.html\">ExprTuple</a>\n",
    "=======================\n",
    "# from the theory of <a class=\"ProveItLink\" href=\"../../../_theory_nbs_/theory.ipynb\">proveit.numbers.division</a>"
   ]
  },
  {
   "cell_type": "code",
   "execution_count": 1,
   "metadata": {},
   "outputs": [],
   "source": [
    "import proveit\n",
    "# Automation is not needed when building an expression:\n",
    "proveit.defaults.automation = False # This will speed things up.\n",
    "proveit.defaults.inline_pngs = False # Makes files smaller.\n",
    "%load_expr # Load the stored expression as 'stored_expr'\n",
    "# import Expression classes needed to build the expression\n",
    "from proveit import Conditional, ExprTuple, Lambda, Px, d, x, y, z\n",
    "from proveit.logic import And, Equals, InSet, NotEquals\n",
    "from proveit.numbers import Complex, Interval, Sum, frac, zero"
   ]
  },
  {
   "cell_type": "code",
   "execution_count": 2,
   "metadata": {},
   "outputs": [
    {
     "data": {
      "text/html": [
       "<strong id=\"expr\">expr:</strong> <a class=\"ProveItLink\" href=\"expr.ipynb\"><img src=\"expr.png\" style=\"display:inline;vertical-align:middle;\" /></a><br>"
      ],
      "text/plain": [
       "<IPython.core.display.HTML object>"
      ]
     },
     "metadata": {},
     "output_type": "display_data"
    }
   ],
   "source": [
    "# build up the expression from sub-expressions\n",
    "sub_expr1 = [x]\n",
    "sub_expr2 = Interval(y, z)\n",
    "expr = ExprTuple(Lambda(d, Conditional(Equals(frac(Sum(index_or_indices = sub_expr1, summand = Px, domain = sub_expr2), d), Sum(index_or_indices = sub_expr1, summand = frac(Px, d), domain = sub_expr2)), And(InSet(d, Complex), NotEquals(d, zero)))))"
   ]
  },
  {
   "cell_type": "code",
   "execution_count": 3,
   "metadata": {},
   "outputs": [
    {
     "name": "stdout",
     "output_type": "stream",
     "text": [
      "Passed sanity check: expr matches stored_expr\n"
     ]
    }
   ],
   "source": [
    "# check that the built expression is the same as the stored expression\n",
    "assert expr == stored_expr\n",
    "assert expr._style_id == stored_expr._style_id\n",
    "print(\"Passed sanity check: expr matches stored_expr\")"
   ]
  },
  {
   "cell_type": "code",
   "execution_count": 4,
   "metadata": {},
   "outputs": [
    {
     "name": "stdout",
     "output_type": "stream",
     "text": [
      "\\left(d \\mapsto \\left\\{\\frac{\\sum_{x = y}^{z} P\\left(x\\right)}{d} = \\left(\\sum_{x = y}^{z} \\frac{P\\left(x\\right)}{d}\\right) \\textrm{ if } d \\in \\mathbb{C} ,  d \\neq 0\\right..\\right)\n"
     ]
    }
   ],
   "source": [
    "# Show the LaTeX representation of the expression for convenience if you need it.\n",
    "print(stored_expr.latex())"
   ]
  },
  {
   "cell_type": "code",
   "execution_count": 5,
   "metadata": {},
   "outputs": [
    {
     "data": {
      "text/html": [
       "no style options"
      ],
      "text/plain": [
       "no style options"
      ]
     },
     "metadata": {},
     "output_type": "display_data"
    }
   ],
   "source": [
    "stored_expr.style_options()"
   ]
  },
  {
   "cell_type": "code",
   "execution_count": 6,
   "metadata": {},
   "outputs": [
    {
     "data": {
      "text/html": [
       "<table><tr><th>&nbsp;</th><th>core type</th><th>sub-expressions</th><th>expression</th></tr>\n",
       "<tr><td>0</td><td>ExprTuple</td><td>1</td><td><a class=\"ProveItLink\" href=\"expr.ipynb\"><img src=\"expr.png\" style=\"display:inline;vertical-align:middle;\" /></a></td></tr>\n",
       "<tr><td>1</td><td>Lambda</td><td>parameter:&nbsp;33<br>body:&nbsp;3<br></td><td><a class=\"ProveItLink\" href=\"../5f78f4fb1ee5593c6b0da0970761fa2a3183cdb40/expr.ipynb\"><img src=\"../5f78f4fb1ee5593c6b0da0970761fa2a3183cdb40/expr.png\" style=\"display:inline;vertical-align:middle;\" /></a></td></tr>\n",
       "<tr><td>2</td><td>ExprTuple</td><td>33</td><td><a class=\"ProveItLink\" href=\"../7275381ced122b8534c7303580c8fc0dfe43a9be0/expr.ipynb\"><img src=\"../7275381ced122b8534c7303580c8fc0dfe43a9be0/expr.png\" style=\"display:inline;vertical-align:middle;\" /></a></td></tr>\n",
       "<tr><td>3</td><td>Conditional</td><td>value:&nbsp;4<br>condition:&nbsp;5<br></td><td><a class=\"ProveItLink\" href=\"../1e6a26656a619b2f1a91ddeffa248421bf4029690/expr.ipynb\"><img src=\"../1e6a26656a619b2f1a91ddeffa248421bf4029690/expr.png\" style=\"display:inline;vertical-align:middle;\" /></a></td></tr>\n",
       "<tr><td>4</td><td>Operation</td><td>operator:&nbsp;6<br>operands:&nbsp;7<br></td><td><a class=\"ProveItLink\" href=\"../188ad90b946232ac5854888e720540480582ae210/expr.ipynb\"><img src=\"../188ad90b946232ac5854888e720540480582ae210/expr.png\" style=\"display:inline;vertical-align:middle;\" /></a></td></tr>\n",
       "<tr><td>5</td><td>Operation</td><td>operator:&nbsp;8<br>operands:&nbsp;9<br></td><td><a class=\"ProveItLink\" href=\"../d64a24571840c53e1ea8118088bc873fab0dfea90/expr.ipynb\"><img src=\"../d64a24571840c53e1ea8118088bc873fab0dfea90/expr.png\" style=\"display:inline;vertical-align:middle;\" /></a></td></tr>\n",
       "<tr><td>6</td><td>Literal</td><td></td><td><a class=\"ProveItLink\" href=\"../../../../../logic/equality/__pv_it/common/fb96dc12b2aa8801dda64d0132b396c63d1502bb0/expr.ipynb\"><img src=\"../../../../../logic/equality/__pv_it/common/fb96dc12b2aa8801dda64d0132b396c63d1502bb0/expr.png\" style=\"display:inline;vertical-align:middle;\" /></a></td></tr>\n",
       "<tr><td>7</td><td>ExprTuple</td><td>10, 11</td><td><a class=\"ProveItLink\" href=\"../aa2b0378d84279ff3c7a191b5bd53c6f7d76f5520/expr.ipynb\"><img src=\"../aa2b0378d84279ff3c7a191b5bd53c6f7d76f5520/expr.png\" style=\"display:inline;vertical-align:middle;\" /></a></td></tr>\n",
       "<tr><td>8</td><td>Literal</td><td></td><td><a class=\"ProveItLink\" href=\"../../../../../logic/booleans/conjunction/__pv_it/common/42118ff318bd65d98b1393f64ce7c2269feef76e0/expr.ipynb\"><img src=\"../../../../../logic/booleans/conjunction/__pv_it/common/42118ff318bd65d98b1393f64ce7c2269feef76e0/expr.png\" style=\"display:inline;vertical-align:middle;\" /></a></td></tr>\n",
       "<tr><td>9</td><td>ExprTuple</td><td>12, 13</td><td><a class=\"ProveItLink\" href=\"../34c924ddcb38d499b4802a25f22d8beb800edab00/expr.ipynb\"><img src=\"../34c924ddcb38d499b4802a25f22d8beb800edab00/expr.png\" style=\"display:inline;vertical-align:middle;\" /></a></td></tr>\n",
       "<tr><td>10</td><td>Operation</td><td>operator:&nbsp;29<br>operands:&nbsp;14<br></td><td><a class=\"ProveItLink\" href=\"../142c63af4fe42fd07d8ffbdab84576d02b700e9e0/expr.ipynb\"><img src=\"../142c63af4fe42fd07d8ffbdab84576d02b700e9e0/expr.png\" style=\"display:inline;vertical-align:middle;\" /></a></td></tr>\n",
       "<tr><td>11</td><td>Operation</td><td>operator:&nbsp;23<br>operand:&nbsp;20<br></td><td><a class=\"ProveItLink\" href=\"../fe13fed640cf02ca40fc5a62f3ae035b541463ba0/expr.ipynb\"><img src=\"../fe13fed640cf02ca40fc5a62f3ae035b541463ba0/expr.png\" style=\"display:inline;vertical-align:middle;\" /></a></td></tr>\n",
       "<tr><td>12</td><td>Operation</td><td>operator:&nbsp;34<br>operands:&nbsp;16<br></td><td><a class=\"ProveItLink\" href=\"../../theorems/d6724abdc9486f838f4cf63bc1115e85255ce4c00/expr.ipynb\"><img src=\"../../theorems/d6724abdc9486f838f4cf63bc1115e85255ce4c00/expr.png\" style=\"display:inline;vertical-align:middle;\" /></a></td></tr>\n",
       "<tr><td>13</td><td>Operation</td><td>operator:&nbsp;17<br>operands:&nbsp;18<br></td><td><a class=\"ProveItLink\" href=\"../4a82d58b126555a18b104ddba47c5351567eeaea0/expr.ipynb\"><img src=\"../4a82d58b126555a18b104ddba47c5351567eeaea0/expr.png\" style=\"display:inline;vertical-align:middle;\" /></a></td></tr>\n",
       "<tr><td>14</td><td>ExprTuple</td><td>19, 33</td><td><a class=\"ProveItLink\" href=\"../baff3700776d75a53841d13f67f5693cd26ec57a0/expr.ipynb\"><img src=\"../baff3700776d75a53841d13f67f5693cd26ec57a0/expr.png\" style=\"display:inline;vertical-align:middle;\" /></a></td></tr>\n",
       "<tr><td>15</td><td>ExprTuple</td><td>20</td><td><a class=\"ProveItLink\" href=\"../1140cca9db0bdaf610a2d597cfb7d4af9267c8f30/expr.ipynb\"><img src=\"../1140cca9db0bdaf610a2d597cfb7d4af9267c8f30/expr.png\" style=\"display:inline;vertical-align:middle;\" /></a></td></tr>\n",
       "<tr><td>16</td><td>ExprTuple</td><td>33, 21</td><td><a class=\"ProveItLink\" href=\"../../theorems/ece90cc92e04ea853455f20cb6db0f4d91fd18830/expr.ipynb\"><img src=\"../../theorems/ece90cc92e04ea853455f20cb6db0f4d91fd18830/expr.png\" style=\"display:inline;vertical-align:middle;\" /></a></td></tr>\n",
       "<tr><td>17</td><td>Literal</td><td></td><td><a class=\"ProveItLink\" href=\"../../../../../logic/equality/__pv_it/common/d96270bc9bb1bad54f773b1c04bfb343a739642c0/expr.ipynb\"><img src=\"../../../../../logic/equality/__pv_it/common/d96270bc9bb1bad54f773b1c04bfb343a739642c0/expr.png\" style=\"display:inline;vertical-align:middle;\" /></a></td></tr>\n",
       "<tr><td>18</td><td>ExprTuple</td><td>33, 22</td><td><a class=\"ProveItLink\" href=\"../656990b13b3cda1ed25a22ca593e39ab8ae4c6c80/expr.ipynb\"><img src=\"../656990b13b3cda1ed25a22ca593e39ab8ae4c6c80/expr.png\" style=\"display:inline;vertical-align:middle;\" /></a></td></tr>\n",
       "<tr><td>19</td><td>Operation</td><td>operator:&nbsp;23<br>operand:&nbsp;26<br></td><td><a class=\"ProveItLink\" href=\"../950660444a00623a1efecd22591a78bfc63e95770/expr.ipynb\"><img src=\"../950660444a00623a1efecd22591a78bfc63e95770/expr.png\" style=\"display:inline;vertical-align:middle;\" /></a></td></tr>\n",
       "<tr><td>20</td><td>Lambda</td><td>parameter:&nbsp;39<br>body:&nbsp;25<br></td><td><a class=\"ProveItLink\" href=\"../3a66fcb3e85dbdf5a6e3d18a780f2d1ad1368aeb0/expr.ipynb\"><img src=\"../3a66fcb3e85dbdf5a6e3d18a780f2d1ad1368aeb0/expr.png\" style=\"display:inline;vertical-align:middle;\" /></a></td></tr>\n",
       "<tr><td>21</td><td>Literal</td><td></td><td><a class=\"ProveItLink\" href=\"../../../../number_sets/complex_numbers/__pv_it/common/d18a028138f659eda00de597c28a3447fe87eb100/expr.ipynb\"><img src=\"../../../../number_sets/complex_numbers/__pv_it/common/d18a028138f659eda00de597c28a3447fe87eb100/expr.png\" style=\"display:inline;vertical-align:middle;\" /></a></td></tr>\n",
       "<tr><td>22</td><td>Literal</td><td></td><td><a class=\"ProveItLink\" href=\"../../../../numerals/__pv_it/common/dd4e19e8b134dfb293470ea55fe3589b0ab9f8040/expr.ipynb\"><img src=\"../../../../numerals/__pv_it/common/dd4e19e8b134dfb293470ea55fe3589b0ab9f8040/expr.png\" style=\"display:inline;vertical-align:middle;\" /></a></td></tr>\n",
       "<tr><td>23</td><td>Literal</td><td></td><td><a class=\"ProveItLink\" href=\"../../../../summation/__pv_it/common/14fe61cccc388f91dfd83d3ca31cf27448cc070a0/expr.ipynb\"><img src=\"../../../../summation/__pv_it/common/14fe61cccc388f91dfd83d3ca31cf27448cc070a0/expr.png\" style=\"display:inline;vertical-align:middle;\" /></a></td></tr>\n",
       "<tr><td>24</td><td>ExprTuple</td><td>26</td><td><a class=\"ProveItLink\" href=\"../0c829979f9238bf916455fa4d061a34d309143500/expr.ipynb\"><img src=\"../0c829979f9238bf916455fa4d061a34d309143500/expr.png\" style=\"display:inline;vertical-align:middle;\" /></a></td></tr>\n",
       "<tr><td>25</td><td>Conditional</td><td>value:&nbsp;27<br>condition:&nbsp;31<br></td><td><a class=\"ProveItLink\" href=\"../209aa148c97b7a3f5c6eae9fb5b9241ed0b9fc620/expr.ipynb\"><img src=\"../209aa148c97b7a3f5c6eae9fb5b9241ed0b9fc620/expr.png\" style=\"display:inline;vertical-align:middle;\" /></a></td></tr>\n",
       "<tr><td>26</td><td>Lambda</td><td>parameter:&nbsp;39<br>body:&nbsp;28<br></td><td><a class=\"ProveItLink\" href=\"../6dced741667ce9975ee881c9c8a62e9afc7913bb0/expr.ipynb\"><img src=\"../6dced741667ce9975ee881c9c8a62e9afc7913bb0/expr.png\" style=\"display:inline;vertical-align:middle;\" /></a></td></tr>\n",
       "<tr><td>27</td><td>Operation</td><td>operator:&nbsp;29<br>operands:&nbsp;30<br></td><td><a class=\"ProveItLink\" href=\"../ca69a8c5481707f0b7a1e51988bde86b6c281a2b0/expr.ipynb\"><img src=\"../ca69a8c5481707f0b7a1e51988bde86b6c281a2b0/expr.png\" style=\"display:inline;vertical-align:middle;\" /></a></td></tr>\n",
       "<tr><td>28</td><td>Conditional</td><td>value:&nbsp;32<br>condition:&nbsp;31<br></td><td><a class=\"ProveItLink\" href=\"../1f445cd6e64e1c4dd9336565cc29ab9c604ff17d0/expr.ipynb\"><img src=\"../1f445cd6e64e1c4dd9336565cc29ab9c604ff17d0/expr.png\" style=\"display:inline;vertical-align:middle;\" /></a></td></tr>\n",
       "<tr><td>29</td><td>Literal</td><td></td><td><a class=\"ProveItLink\" href=\"../../common/a2a633e1e3c749fb1f2692466b287b6348c5de840/expr.ipynb\"><img src=\"../../common/a2a633e1e3c749fb1f2692466b287b6348c5de840/expr.png\" style=\"display:inline;vertical-align:middle;\" /></a></td></tr>\n",
       "<tr><td>30</td><td>ExprTuple</td><td>32, 33</td><td><a class=\"ProveItLink\" href=\"../cc6a5dc8c49aef73e3097b2cbde597e73525194c0/expr.ipynb\"><img src=\"../cc6a5dc8c49aef73e3097b2cbde597e73525194c0/expr.png\" style=\"display:inline;vertical-align:middle;\" /></a></td></tr>\n",
       "<tr><td>31</td><td>Operation</td><td>operator:&nbsp;34<br>operands:&nbsp;35<br></td><td><a class=\"ProveItLink\" href=\"../18c5d9d2627f7bb9ef1fe3fe4eb3ac038d0e99a80/expr.ipynb\"><img src=\"../18c5d9d2627f7bb9ef1fe3fe4eb3ac038d0e99a80/expr.png\" style=\"display:inline;vertical-align:middle;\" /></a></td></tr>\n",
       "<tr><td>32</td><td>Operation</td><td>operator:&nbsp;36<br>operand:&nbsp;39<br></td><td><a class=\"ProveItLink\" href=\"../../../../../__pv_it/common/32fc7f13c9e7e89074583aa5bfc208d125f839970/expr.ipynb\"><img src=\"../../../../../__pv_it/common/32fc7f13c9e7e89074583aa5bfc208d125f839970/expr.png\" style=\"display:inline;vertical-align:middle;\" /></a></td></tr>\n",
       "<tr><td>33</td><td>Variable</td><td></td><td><a class=\"ProveItLink\" href=\"../../../../../__pv_it/common/4f5c524ffda87296de1c79b96880123fe2efedd50/expr.ipynb\"><img src=\"../../../../../__pv_it/common/4f5c524ffda87296de1c79b96880123fe2efedd50/expr.png\" style=\"display:inline;vertical-align:middle;\" /></a></td></tr>\n",
       "<tr><td>34</td><td>Literal</td><td></td><td><a class=\"ProveItLink\" href=\"../../../../../logic/sets/membership/__pv_it/common/477487d8796864d23d5810f83761435f25167f690/expr.ipynb\"><img src=\"../../../../../logic/sets/membership/__pv_it/common/477487d8796864d23d5810f83761435f25167f690/expr.png\" style=\"display:inline;vertical-align:middle;\" /></a></td></tr>\n",
       "<tr><td>35</td><td>ExprTuple</td><td>39, 38</td><td><a class=\"ProveItLink\" href=\"../681dc1b47ea38d79cc6831aff7e68923398beea80/expr.ipynb\"><img src=\"../681dc1b47ea38d79cc6831aff7e68923398beea80/expr.png\" style=\"display:inline;vertical-align:middle;\" /></a></td></tr>\n",
       "<tr><td>36</td><td>Variable</td><td></td><td><a class=\"ProveItLink\" href=\"../../../../../__pv_it/common/de55da274ba0f49c86925fbf3828021c04d27faf0/expr.ipynb\"><img src=\"../../../../../__pv_it/common/de55da274ba0f49c86925fbf3828021c04d27faf0/expr.png\" style=\"display:inline;vertical-align:middle;\" /></a></td></tr>\n",
       "<tr><td>37</td><td>ExprTuple</td><td>39</td><td><a class=\"ProveItLink\" href=\"../../../../../__pv_it/common/eacfeccc0521684fcb20fe8f5180ac50fca471f20/expr.ipynb\"><img src=\"../../../../../__pv_it/common/eacfeccc0521684fcb20fe8f5180ac50fca471f20/expr.png\" style=\"display:inline;vertical-align:middle;\" /></a></td></tr>\n",
       "<tr><td>38</td><td>Operation</td><td>operator:&nbsp;40<br>operands:&nbsp;41<br></td><td><a class=\"ProveItLink\" href=\"../94a39a88c20ce09ca7a71885faed9c0637b4f5bb0/expr.ipynb\"><img src=\"../94a39a88c20ce09ca7a71885faed9c0637b4f5bb0/expr.png\" style=\"display:inline;vertical-align:middle;\" /></a></td></tr>\n",
       "<tr><td>39</td><td>Variable</td><td></td><td><a class=\"ProveItLink\" href=\"../../../../../__pv_it/common/a0d9d672aa5e272d907247690c152cc2c6daafb70/expr.ipynb\"><img src=\"../../../../../__pv_it/common/a0d9d672aa5e272d907247690c152cc2c6daafb70/expr.png\" style=\"display:inline;vertical-align:middle;\" /></a></td></tr>\n",
       "<tr><td>40</td><td>Literal</td><td></td><td><a class=\"ProveItLink\" href=\"../../../../number_sets/integers/__pv_it/common/92f3a0a77e3c3ea8e4a5c8674edadc54e4f57d550/expr.ipynb\"><img src=\"../../../../number_sets/integers/__pv_it/common/92f3a0a77e3c3ea8e4a5c8674edadc54e4f57d550/expr.png\" style=\"display:inline;vertical-align:middle;\" /></a></td></tr>\n",
       "<tr><td>41</td><td>ExprTuple</td><td>42, 43</td><td><a class=\"ProveItLink\" href=\"../../theorems/e069a458aad4ee5753d8c0683702408c3e7d03f30/expr.ipynb\"><img src=\"../../theorems/e069a458aad4ee5753d8c0683702408c3e7d03f30/expr.png\" style=\"display:inline;vertical-align:middle;\" /></a></td></tr>\n",
       "<tr><td>42</td><td>Variable</td><td></td><td><a class=\"ProveItLink\" href=\"../../../../../__pv_it/common/ff7dba4ef0bbe791ab573bf2d9c220a304399ac80/expr.ipynb\"><img src=\"../../../../../__pv_it/common/ff7dba4ef0bbe791ab573bf2d9c220a304399ac80/expr.png\" style=\"display:inline;vertical-align:middle;\" /></a></td></tr>\n",
       "<tr><td>43</td><td>Variable</td><td></td><td><a class=\"ProveItLink\" href=\"../../../../../__pv_it/common/95a8f6b9b9f29b83f192ad7fd05708d6be097a3f0/expr.ipynb\"><img src=\"../../../../../__pv_it/common/95a8f6b9b9f29b83f192ad7fd05708d6be097a3f0/expr.png\" style=\"display:inline;vertical-align:middle;\" /></a></td></tr>\n",
       "</table>\n"
      ],
      "text/plain": [
       "0. (d -> {((Sum_{x = y}^{z} P(x)) / d) = (Sum_{x = y}^{z} (P(x) / d)) if d in Complex ,  d != 0.)\n",
       "   core type: ExprTuple\n",
       "   sub-expressions: 1\n",
       "1. d -> {((Sum_{x = y}^{z} P(x)) / d) = (Sum_{x = y}^{z} (P(x) / d)) if d in Complex ,  d != 0.\n",
       "   core type: Lambda\n",
       "   parameter: 33\n",
       "   body: 3\n",
       "2. (d)\n",
       "   core type: ExprTuple\n",
       "   sub-expressions: 33\n",
       "3. {((Sum_{x = y}^{z} P(x)) / d) = (Sum_{x = y}^{z} (P(x) / d)) if d in Complex ,  d != 0.\n",
       "   core type: Conditional\n",
       "   value: 4\n",
       "   condition: 5\n",
       "4. ((Sum_{x = y}^{z} P(x)) / d) = (Sum_{x = y}^{z} (P(x) / d))\n",
       "   core type: Operation\n",
       "   operator: 6\n",
       "   operands: 7\n",
       "5. (d in Complex) and (d != 0)\n",
       "   core type: Operation\n",
       "   operator: 8\n",
       "   operands: 9\n",
       "6. =\n",
       "   core type: Literal\n",
       "   sub-expressions: \n",
       "7. ((Sum_{x = y}^{z} P(x)) / d, Sum_{x = y}^{z} (P(x) / d))\n",
       "   core type: ExprTuple\n",
       "   sub-expressions: 10, 11\n",
       "8. and\n",
       "   core type: Literal\n",
       "   sub-expressions: \n",
       "9. (d in Complex, d != 0)\n",
       "   core type: ExprTuple\n",
       "   sub-expressions: 12, 13\n",
       "10. (Sum_{x = y}^{z} P(x)) / d\n",
       "    core type: Operation\n",
       "    operator: 29\n",
       "    operands: 14\n",
       "11. Sum_{x = y}^{z} (P(x) / d)\n",
       "    core type: Operation\n",
       "    operator: 23\n",
       "    operand: 20\n",
       "12. d in Complex\n",
       "    core type: Operation\n",
       "    operator: 34\n",
       "    operands: 16\n",
       "13. d != 0\n",
       "    core type: Operation\n",
       "    operator: 17\n",
       "    operands: 18\n",
       "14. (Sum_{x = y}^{z} P(x), d)\n",
       "    core type: ExprTuple\n",
       "    sub-expressions: 19, 33\n",
       "15. (x -> {P(x) / d if x in {y .. z}.)\n",
       "    core type: ExprTuple\n",
       "    sub-expressions: 20\n",
       "16. (d, Complex)\n",
       "    core type: ExprTuple\n",
       "    sub-expressions: 33, 21\n",
       "17. !=\n",
       "    core type: Literal\n",
       "    sub-expressions: \n",
       "18. (d, 0)\n",
       "    core type: ExprTuple\n",
       "    sub-expressions: 33, 22\n",
       "19. Sum_{x = y}^{z} P(x)\n",
       "    core type: Operation\n",
       "    operator: 23\n",
       "    operand: 26\n",
       "20. x -> {P(x) / d if x in {y .. z}.\n",
       "    core type: Lambda\n",
       "    parameter: 39\n",
       "    body: 25\n",
       "21. Complex\n",
       "    core type: Literal\n",
       "    sub-expressions: \n",
       "22. 0\n",
       "    core type: Literal\n",
       "    sub-expressions: \n",
       "23. Sum\n",
       "    core type: Literal\n",
       "    sub-expressions: \n",
       "24. (x -> {P(x) if x in {y .. z}.)\n",
       "    core type: ExprTuple\n",
       "    sub-expressions: 26\n",
       "25. {P(x) / d if x in {y .. z}.\n",
       "    core type: Conditional\n",
       "    value: 27\n",
       "    condition: 31\n",
       "26. x -> {P(x) if x in {y .. z}.\n",
       "    core type: Lambda\n",
       "    parameter: 39\n",
       "    body: 28\n",
       "27. P(x) / d\n",
       "    core type: Operation\n",
       "    operator: 29\n",
       "    operands: 30\n",
       "28. {P(x) if x in {y .. z}.\n",
       "    core type: Conditional\n",
       "    value: 32\n",
       "    condition: 31\n",
       "29. /\n",
       "    core type: Literal\n",
       "    sub-expressions: \n",
       "30. (P(x), d)\n",
       "    core type: ExprTuple\n",
       "    sub-expressions: 32, 33\n",
       "31. x in {y .. z}\n",
       "    core type: Operation\n",
       "    operator: 34\n",
       "    operands: 35\n",
       "32. P(x)\n",
       "    core type: Operation\n",
       "    operator: 36\n",
       "    operand: 39\n",
       "33. d\n",
       "    core type: Variable\n",
       "    sub-expressions: \n",
       "34. in\n",
       "    core type: Literal\n",
       "    sub-expressions: \n",
       "35. (x, {y .. z})\n",
       "    core type: ExprTuple\n",
       "    sub-expressions: 39, 38\n",
       "36. P\n",
       "    core type: Variable\n",
       "    sub-expressions: \n",
       "37. (x)\n",
       "    core type: ExprTuple\n",
       "    sub-expressions: 39\n",
       "38. {y .. z}\n",
       "    core type: Operation\n",
       "    operator: 40\n",
       "    operands: 41\n",
       "39. x\n",
       "    core type: Variable\n",
       "    sub-expressions: \n",
       "40. Interval\n",
       "    core type: Literal\n",
       "    sub-expressions: \n",
       "41. (y, z)\n",
       "    core type: ExprTuple\n",
       "    sub-expressions: 42, 43\n",
       "42. y\n",
       "    core type: Variable\n",
       "    sub-expressions: \n",
       "43. z\n",
       "    core type: Variable\n",
       "    sub-expressions: "
      ]
     },
     "metadata": {},
     "output_type": "display_data"
    }
   ],
   "source": [
    "# display the expression information\n",
    "stored_expr.expr_info()"
   ]
  },
  {
   "cell_type": "code",
   "execution_count": null,
   "metadata": {},
   "outputs": [],
   "source": []
  }
 ],
 "metadata": {
  "kernelspec": {
   "display_name": "Python 3",
   "language": "python",
   "name": "python3"
  }
 },
 "nbformat": 4,
 "nbformat_minor": 0
}