{
 "cells": [
  {
   "cell_type": "markdown",
   "metadata": {},
   "source": [
    "Expression of type <a class=\"ProveItLink\" href=\"../../../../../../doc/html/api/proveit.ExprTuple.html\">ExprTuple</a>\n",
    "=======================\n",
    "# from the theory of <a class=\"ProveItLink\" href=\"../../../_theory_nbs_/theory.ipynb\">proveit.numbers</a>"
   ]
  },
  {
   "cell_type": "code",
   "execution_count": 1,
   "metadata": {},
   "outputs": [],
   "source": [
    "import proveit\n",
    "# Automation is not needed when building an expression:\n",
    "proveit.defaults.automation = False # This will speed things up.\n",
    "proveit.defaults.inline_pngs = False # Makes files smaller.\n",
    "%load_expr # Load the stored expression as 'stored_expr'\n",
    "# import Expression classes needed to build the expression\n",
    "from proveit import ExprTuple, a, b, c, d, x, y\n",
    "from proveit.numbers import Add, Mult"
   ]
  },
  {
   "cell_type": "code",
   "execution_count": 2,
   "metadata": {},
   "outputs": [
    {
     "data": {
      "text/html": [
       "<strong id=\"expr\">expr:</strong> <a class=\"ProveItLink\" href=\"expr.ipynb\"><img src=\"expr.png\" style=\"display:inline;vertical-align:middle;\" /></a><br>"
      ],
      "text/plain": [
       "<IPython.core.display.HTML object>"
      ]
     },
     "metadata": {},
     "output_type": "display_data"
    }
   ],
   "source": [
    "# build up the expression from sub-expressions\n",
    "sub_expr1 = Add(c, y)\n",
    "sub_expr2 = Mult(Add(d, b), Add(b, c))\n",
    "expr = ExprTuple(Add(sub_expr2, Mult(Add(y, d), sub_expr1)), Add(sub_expr2, Mult(Add(x, a), sub_expr1)))"
   ]
  },
  {
   "cell_type": "code",
   "execution_count": 3,
   "metadata": {},
   "outputs": [
    {
     "name": "stdout",
     "output_type": "stream",
     "text": [
      "Passed sanity check: expr matches stored_expr\n"
     ]
    }
   ],
   "source": [
    "# check that the built expression is the same as the stored expression\n",
    "assert expr == stored_expr\n",
    "assert expr._style_id == stored_expr._style_id\n",
    "print(\"Passed sanity check: expr matches stored_expr\")"
   ]
  },
  {
   "cell_type": "code",
   "execution_count": 4,
   "metadata": {},
   "outputs": [
    {
     "name": "stdout",
     "output_type": "stream",
     "text": [
      "\\left(\\left(\\left(d + b\\right) \\cdot \\left(b + c\\right)\\right) + \\left(\\left(y + d\\right) \\cdot \\left(c + y\\right)\\right), \\left(\\left(d + b\\right) \\cdot \\left(b + c\\right)\\right) + \\left(\\left(x + a\\right) \\cdot \\left(c + y\\right)\\right)\\right)\n"
     ]
    }
   ],
   "source": [
    "# Show the LaTeX representation of the expression for convenience if you need it.\n",
    "print(stored_expr.latex())"
   ]
  },
  {
   "cell_type": "code",
   "execution_count": 5,
   "metadata": {},
   "outputs": [
    {
     "data": {
      "text/html": [
       "<table>\n",
       "<tr><th>name</th><th>description</th><th>default</th><th>current value</th><th>related methods</th></tr><tr><td>wrap_positions</td><td>position(s) at which wrapping is to occur; 'n' is after the nth comma.</td><td>()</td><td>()</td><td>('with_wrapping_at',)</td></tr>\n",
       "<tr><td>justification</td><td>if any wrap positions are set, justify to the 'left', 'center', or 'right'</td><td>left</td><td>left</td><td>('with_justification',)</td></tr>\n",
       "</table>\n"
      ],
      "text/plain": [
       "style name: wrap_positions\n",
       "description: position(s) at which wrapping is to occur; 'n' is after the nth comma.\n",
       "default: ()\n",
       "current value: ()\n",
       "related methods: ('with_wrapping_at',)\n",
       "style name: justification\n",
       "description: if any wrap positions are set, justify to the 'left', 'center', or 'right'\n",
       "default: left\n",
       "current value: left\n",
       "related methods: ('with_justification',)"
      ]
     },
     "metadata": {},
     "output_type": "display_data"
    }
   ],
   "source": [
    "stored_expr.style_options()"
   ]
  },
  {
   "cell_type": "code",
   "execution_count": 6,
   "metadata": {},
   "outputs": [
    {
     "data": {
      "text/html": [
       "<table><tr><th>&nbsp;</th><th>core type</th><th>sub-expressions</th><th>expression</th></tr>\n",
       "<tr><td>0</td><td>ExprTuple</td><td>1, 2</td><td><a class=\"ProveItLink\" href=\"expr.ipynb\"><img src=\"expr.png\" style=\"display:inline;vertical-align:middle;\" /></a></td></tr>\n",
       "<tr><td>1</td><td>Operation</td><td>operator:&nbsp;21<br>operands:&nbsp;3<br></td><td><a class=\"ProveItLink\" href=\"../48fc4bea5c9fb6832fbb009de118f7cd458d4de90/expr.ipynb\"><img src=\"../48fc4bea5c9fb6832fbb009de118f7cd458d4de90/expr.png\" style=\"display:inline;vertical-align:middle;\" /></a></td></tr>\n",
       "<tr><td>2</td><td>Operation</td><td>operator:&nbsp;21<br>operands:&nbsp;4<br></td><td><a class=\"ProveItLink\" href=\"../f43a0d25b9d2585d024b6fb0e0752f013ca5ff590/expr.ipynb\"><img src=\"../f43a0d25b9d2585d024b6fb0e0752f013ca5ff590/expr.png\" style=\"display:inline;vertical-align:middle;\" /></a></td></tr>\n",
       "<tr><td>3</td><td>ExprTuple</td><td>6, 5</td><td><a class=\"ProveItLink\" href=\"../7bd558afdc532ada07f872efbb8ee4a33d01461f0/expr.ipynb\"><img src=\"../7bd558afdc532ada07f872efbb8ee4a33d01461f0/expr.png\" style=\"display:inline;vertical-align:middle;\" /></a></td></tr>\n",
       "<tr><td>4</td><td>ExprTuple</td><td>6, 7</td><td><a class=\"ProveItLink\" href=\"../f6cc1a84513b1a8ccdec79187ffdfcfb2a90c5a30/expr.ipynb\"><img src=\"../f6cc1a84513b1a8ccdec79187ffdfcfb2a90c5a30/expr.png\" style=\"display:inline;vertical-align:middle;\" /></a></td></tr>\n",
       "<tr><td>5</td><td>Operation</td><td>operator:&nbsp;10<br>operands:&nbsp;8<br></td><td><a class=\"ProveItLink\" href=\"../973ba07cdbf863b5bf848ec75a957240d3521e320/expr.ipynb\"><img src=\"../973ba07cdbf863b5bf848ec75a957240d3521e320/expr.png\" style=\"display:inline;vertical-align:middle;\" /></a></td></tr>\n",
       "<tr><td>6</td><td>Operation</td><td>operator:&nbsp;10<br>operands:&nbsp;9<br></td><td><a class=\"ProveItLink\" href=\"../3159312eaa8bcbeb4d1919713ac1ca25ea2382940/expr.ipynb\"><img src=\"../3159312eaa8bcbeb4d1919713ac1ca25ea2382940/expr.png\" style=\"display:inline;vertical-align:middle;\" /></a></td></tr>\n",
       "<tr><td>7</td><td>Operation</td><td>operator:&nbsp;10<br>operands:&nbsp;11<br></td><td><a class=\"ProveItLink\" href=\"../d057a1601d8b34e1d98271534b71d7528d784a1e0/expr.ipynb\"><img src=\"../d057a1601d8b34e1d98271534b71d7528d784a1e0/expr.png\" style=\"display:inline;vertical-align:middle;\" /></a></td></tr>\n",
       "<tr><td>8</td><td>ExprTuple</td><td>12, 16</td><td><a class=\"ProveItLink\" href=\"../7c12359f4401624a81eb0580de324e34df4869030/expr.ipynb\"><img src=\"../7c12359f4401624a81eb0580de324e34df4869030/expr.png\" style=\"display:inline;vertical-align:middle;\" /></a></td></tr>\n",
       "<tr><td>9</td><td>ExprTuple</td><td>13, 14</td><td><a class=\"ProveItLink\" href=\"../ae499aa5b5cdc387bf60f35b4fe442d0efea49a20/expr.ipynb\"><img src=\"../ae499aa5b5cdc387bf60f35b4fe442d0efea49a20/expr.png\" style=\"display:inline;vertical-align:middle;\" /></a></td></tr>\n",
       "<tr><td>10</td><td>Literal</td><td></td><td><a class=\"ProveItLink\" href=\"../../../multiplication/__pv_it/common/ed719cef37831779c16481533a4d380a2f95ab270/expr.ipynb\"><img src=\"../../../multiplication/__pv_it/common/ed719cef37831779c16481533a4d380a2f95ab270/expr.png\" style=\"display:inline;vertical-align:middle;\" /></a></td></tr>\n",
       "<tr><td>11</td><td>ExprTuple</td><td>15, 16</td><td><a class=\"ProveItLink\" href=\"../4175645ede3f48bd4554ec2bc5c43e7f930053a90/expr.ipynb\"><img src=\"../4175645ede3f48bd4554ec2bc5c43e7f930053a90/expr.png\" style=\"display:inline;vertical-align:middle;\" /></a></td></tr>\n",
       "<tr><td>12</td><td>Operation</td><td>operator:&nbsp;21<br>operands:&nbsp;17<br></td><td><a class=\"ProveItLink\" href=\"../2ee02673276f7b354a58089655ab7e5bceb85cca0/expr.ipynb\"><img src=\"../2ee02673276f7b354a58089655ab7e5bceb85cca0/expr.png\" style=\"display:inline;vertical-align:middle;\" /></a></td></tr>\n",
       "<tr><td>13</td><td>Operation</td><td>operator:&nbsp;21<br>operands:&nbsp;18<br></td><td><a class=\"ProveItLink\" href=\"../5d4c621a13424fce0ea65df8572a28aa3827257f0/expr.ipynb\"><img src=\"../5d4c621a13424fce0ea65df8572a28aa3827257f0/expr.png\" style=\"display:inline;vertical-align:middle;\" /></a></td></tr>\n",
       "<tr><td>14</td><td>Operation</td><td>operator:&nbsp;21<br>operands:&nbsp;19<br></td><td><a class=\"ProveItLink\" href=\"../6f7a71b76f96db850679b58d8cba55b317f1ed940/expr.ipynb\"><img src=\"../6f7a71b76f96db850679b58d8cba55b317f1ed940/expr.png\" style=\"display:inline;vertical-align:middle;\" /></a></td></tr>\n",
       "<tr><td>15</td><td>Operation</td><td>operator:&nbsp;21<br>operands:&nbsp;20<br></td><td><a class=\"ProveItLink\" href=\"../../../addition/__pv_it/theorems/d8163c2b30748ac0ef964d3dc56c86af041054060/expr.ipynb\"><img src=\"../../../addition/__pv_it/theorems/d8163c2b30748ac0ef964d3dc56c86af041054060/expr.png\" style=\"display:inline;vertical-align:middle;\" /></a></td></tr>\n",
       "<tr><td>16</td><td>Operation</td><td>operator:&nbsp;21<br>operands:&nbsp;22<br></td><td><a class=\"ProveItLink\" href=\"../1a4f5d5c2fe66ae9af8fbbcd241d952c04d6a5600/expr.ipynb\"><img src=\"../1a4f5d5c2fe66ae9af8fbbcd241d952c04d6a5600/expr.png\" style=\"display:inline;vertical-align:middle;\" /></a></td></tr>\n",
       "<tr><td>17</td><td>ExprTuple</td><td>28, 23</td><td><a class=\"ProveItLink\" href=\"../64d8d4a8ff5ee8d10b2e41fe02cedb03f7b655be0/expr.ipynb\"><img src=\"../64d8d4a8ff5ee8d10b2e41fe02cedb03f7b655be0/expr.png\" style=\"display:inline;vertical-align:middle;\" /></a></td></tr>\n",
       "<tr><td>18</td><td>ExprTuple</td><td>23, 24</td><td><a class=\"ProveItLink\" href=\"../6101b527ec8c4801d4f89fa025c774c7ad8bb5690/expr.ipynb\"><img src=\"../6101b527ec8c4801d4f89fa025c774c7ad8bb5690/expr.png\" style=\"display:inline;vertical-align:middle;\" /></a></td></tr>\n",
       "<tr><td>19</td><td>ExprTuple</td><td>24, 27</td><td><a class=\"ProveItLink\" href=\"../ef9fe67d2e3b5fce9f5216666a772f97f5d95ff50/expr.ipynb\"><img src=\"../ef9fe67d2e3b5fce9f5216666a772f97f5d95ff50/expr.png\" style=\"display:inline;vertical-align:middle;\" /></a></td></tr>\n",
       "<tr><td>20</td><td>ExprTuple</td><td>25, 26</td><td><a class=\"ProveItLink\" href=\"../../../addition/__pv_it/theorems/e5e785ca3b1a5f8f44e2afa447627f16e9310f8b0/expr.ipynb\"><img src=\"../../../addition/__pv_it/theorems/e5e785ca3b1a5f8f44e2afa447627f16e9310f8b0/expr.png\" style=\"display:inline;vertical-align:middle;\" /></a></td></tr>\n",
       "<tr><td>21</td><td>Literal</td><td></td><td><a class=\"ProveItLink\" href=\"../../../addition/__pv_it/common/4b7effaab3619a1c2c38fe2dee8601df8ec714590/expr.ipynb\"><img src=\"../../../addition/__pv_it/common/4b7effaab3619a1c2c38fe2dee8601df8ec714590/expr.png\" style=\"display:inline;vertical-align:middle;\" /></a></td></tr>\n",
       "<tr><td>22</td><td>ExprTuple</td><td>27, 28</td><td><a class=\"ProveItLink\" href=\"../ac941adc390c452d2727f0ec34eca1dbbdc6ad9a0/expr.ipynb\"><img src=\"../ac941adc390c452d2727f0ec34eca1dbbdc6ad9a0/expr.png\" style=\"display:inline;vertical-align:middle;\" /></a></td></tr>\n",
       "<tr><td>23</td><td>Variable</td><td></td><td><a class=\"ProveItLink\" href=\"../../../../__pv_it/common/4f5c524ffda87296de1c79b96880123fe2efedd50/expr.ipynb\"><img src=\"../../../../__pv_it/common/4f5c524ffda87296de1c79b96880123fe2efedd50/expr.png\" style=\"display:inline;vertical-align:middle;\" /></a></td></tr>\n",
       "<tr><td>24</td><td>Variable</td><td></td><td><a class=\"ProveItLink\" href=\"../../../../__pv_it/common/195236b98c6c564a75b5dbada74b173bc52d5c3e0/expr.ipynb\"><img src=\"../../../../__pv_it/common/195236b98c6c564a75b5dbada74b173bc52d5c3e0/expr.png\" style=\"display:inline;vertical-align:middle;\" /></a></td></tr>\n",
       "<tr><td>25</td><td>Variable</td><td></td><td><a class=\"ProveItLink\" href=\"../../../../__pv_it/common/a0d9d672aa5e272d907247690c152cc2c6daafb70/expr.ipynb\"><img src=\"../../../../__pv_it/common/a0d9d672aa5e272d907247690c152cc2c6daafb70/expr.png\" style=\"display:inline;vertical-align:middle;\" /></a></td></tr>\n",
       "<tr><td>26</td><td>Variable</td><td></td><td><a class=\"ProveItLink\" href=\"../../../../__pv_it/common/c06c606ec12678c58933ac85412ecadc2ae28be60/expr.ipynb\"><img src=\"../../../../__pv_it/common/c06c606ec12678c58933ac85412ecadc2ae28be60/expr.png\" style=\"display:inline;vertical-align:middle;\" /></a></td></tr>\n",
       "<tr><td>27</td><td>Variable</td><td></td><td><a class=\"ProveItLink\" href=\"../../../../__pv_it/common/ceef4280a2f1cc604b455b54e735507244cc62cd0/expr.ipynb\"><img src=\"../../../../__pv_it/common/ceef4280a2f1cc604b455b54e735507244cc62cd0/expr.png\" style=\"display:inline;vertical-align:middle;\" /></a></td></tr>\n",
       "<tr><td>28</td><td>Variable</td><td></td><td><a class=\"ProveItLink\" href=\"../../../../__pv_it/common/ff7dba4ef0bbe791ab573bf2d9c220a304399ac80/expr.ipynb\"><img src=\"../../../../__pv_it/common/ff7dba4ef0bbe791ab573bf2d9c220a304399ac80/expr.png\" style=\"display:inline;vertical-align:middle;\" /></a></td></tr>\n",
       "</table>\n"
      ],
      "text/plain": [
       "0. (((d + b) * (b + c)) + ((y + d) * (c + y)), ((d + b) * (b + c)) + ((x + a) * (c + y)))\n",
       "   core type: ExprTuple\n",
       "   sub-expressions: 1, 2\n",
       "1. ((d + b) * (b + c)) + ((y + d) * (c + y))\n",
       "   core type: Operation\n",
       "   operator: 21\n",
       "   operands: 3\n",
       "2. ((d + b) * (b + c)) + ((x + a) * (c + y))\n",
       "   core type: Operation\n",
       "   operator: 21\n",
       "   operands: 4\n",
       "3. ((d + b) * (b + c), (y + d) * (c + y))\n",
       "   core type: ExprTuple\n",
       "   sub-expressions: 6, 5\n",
       "4. ((d + b) * (b + c), (x + a) * (c + y))\n",
       "   core type: ExprTuple\n",
       "   sub-expressions: 6, 7\n",
       "5. (y + d) * (c + y)\n",
       "   core type: Operation\n",
       "   operator: 10\n",
       "   operands: 8\n",
       "6. (d + b) * (b + c)\n",
       "   core type: Operation\n",
       "   operator: 10\n",
       "   operands: 9\n",
       "7. (x + a) * (c + y)\n",
       "   core type: Operation\n",
       "   operator: 10\n",
       "   operands: 11\n",
       "8. (y + d, c + y)\n",
       "   core type: ExprTuple\n",
       "   sub-expressions: 12, 16\n",
       "9. (d + b, b + c)\n",
       "   core type: ExprTuple\n",
       "   sub-expressions: 13, 14\n",
       "10. *\n",
       "    core type: Literal\n",
       "    sub-expressions: \n",
       "11. (x + a, c + y)\n",
       "    core type: ExprTuple\n",
       "    sub-expressions: 15, 16\n",
       "12. y + d\n",
       "    core type: Operation\n",
       "    operator: 21\n",
       "    operands: 17\n",
       "13. d + b\n",
       "    core type: Operation\n",
       "    operator: 21\n",
       "    operands: 18\n",
       "14. b + c\n",
       "    core type: Operation\n",
       "    operator: 21\n",
       "    operands: 19\n",
       "15. x + a\n",
       "    core type: Operation\n",
       "    operator: 21\n",
       "    operands: 20\n",
       "16. c + y\n",
       "    core type: Operation\n",
       "    operator: 21\n",
       "    operands: 22\n",
       "17. (y, d)\n",
       "    core type: ExprTuple\n",
       "    sub-expressions: 28, 23\n",
       "18. (d, b)\n",
       "    core type: ExprTuple\n",
       "    sub-expressions: 23, 24\n",
       "19. (b, c)\n",
       "    core type: ExprTuple\n",
       "    sub-expressions: 24, 27\n",
       "20. (x, a)\n",
       "    core type: ExprTuple\n",
       "    sub-expressions: 25, 26\n",
       "21. +\n",
       "    core type: Literal\n",
       "    sub-expressions: \n",
       "22. (c, y)\n",
       "    core type: ExprTuple\n",
       "    sub-expressions: 27, 28\n",
       "23. d\n",
       "    core type: Variable\n",
       "    sub-expressions: \n",
       "24. b\n",
       "    core type: Variable\n",
       "    sub-expressions: \n",
       "25. x\n",
       "    core type: Variable\n",
       "    sub-expressions: \n",
       "26. a\n",
       "    core type: Variable\n",
       "    sub-expressions: \n",
       "27. c\n",
       "    core type: Variable\n",
       "    sub-expressions: \n",
       "28. y\n",
       "    core type: Variable\n",
       "    sub-expressions: "
      ]
     },
     "metadata": {},
     "output_type": "display_data"
    }
   ],
   "source": [
    "# display the expression information\n",
    "stored_expr.expr_info()"
   ]
  },
  {
   "cell_type": "code",
   "execution_count": null,
   "metadata": {},
   "outputs": [],
   "source": []
  }
 ],
 "metadata": {
  "kernelspec": {
   "display_name": "Python 3",
   "language": "python",
   "name": "python3"
  }
 },
 "nbformat": 4,
 "nbformat_minor": 0
}