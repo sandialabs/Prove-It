{
 "cells": [
  {
   "cell_type": "markdown",
   "metadata": {},
   "source": [
    "Show the Proof\n",
    "========"
   ]
  },
  {
   "cell_type": "code",
   "execution_count": 1,
   "metadata": {},
   "outputs": [
    {
     "data": {
      "text/html": [
       "<table><tr><th>&nbsp;</th><th>step type</th><th>requirements</th><th>statement</th></tr>\n",
       "<tr><td><a name=\"proveit.numbers.demonstrations.70be603e5be8d1004b645087523fdf6751c604700_step0\">0</a></td><td>instantiation</td><td><a href=\"#proveit.numbers.demonstrations.70be603e5be8d1004b645087523fdf6751c604700_step1\">1</a>, <a href=\"#proveit.numbers.demonstrations.70be603e5be8d1004b645087523fdf6751c604700_step2\">2</a>, <a href=\"#proveit.numbers.demonstrations.70be603e5be8d1004b645087523fdf6751c604700_step3\">3</a></td><td><span style=\"font-size:20px;\"><a class=\"ProveItLink\" href=\"../b9cae19a628b9412bdeba3850806ec1015c9b6ae0/expr.ipynb\"><img src=\"../b9cae19a628b9412bdeba3850806ec1015c9b6ae0/expr.png\" style=\"display:inline;vertical-align:middle;\" /></a>, <a class=\"ProveItLink\" href=\"../8c5864665d603ebc7e84fdb786d604e60f56fcc70/expr.ipynb\"><img src=\"../8c5864665d603ebc7e84fdb786d604e60f56fcc70/expr.png\" style=\"display:inline;vertical-align:middle;\" /></a> <a class=\"ProveItLink\" href=\"proof.ipynb\" style=\"text-decoration: none\">&nbsp;&#x22A2;&nbsp;&nbsp;</a><a class=\"ProveItLink\" href=\"../b14ecd0568358894161542918061767c6d869dfe0/expr.ipynb\"><img src=\"../b14ecd0568358894161542918061767c6d869dfe0/expr.png\" style=\"display:inline;vertical-align:middle;\" /></a></span></td></tr>\n",
       "<tr><td>&nbsp;</td><td colspan=4 style=\"text-align:left\"><span style=\"font-size:20px;\"><a class=\"ProveItLink\" href=\"../../../../__pv_it/common/09585084922504426caf1db2ff588a23a0932a960/expr.ipynb\"><img src=\"../../../../__pv_it/common/09585084922504426caf1db2ff588a23a0932a960/expr.png\" style=\"display:inline;vertical-align:middle;\" /></a> : <a class=\"ProveItLink\" href=\"../../../number_sets/real_numbers/__pv_it/common/174917e13d50b91c585b7f765a2896383a3ae8010/expr.ipynb\"><img src=\"../../../number_sets/real_numbers/__pv_it/common/174917e13d50b91c585b7f765a2896383a3ae8010/expr.png\" style=\"display:inline;vertical-align:middle;\" /></a>, <a class=\"ProveItLink\" href=\"../../../../__pv_it/common/a9162d1c3cc0470c02e5daf414500903a7a419230/expr.ipynb\"><img src=\"../../../../__pv_it/common/a9162d1c3cc0470c02e5daf414500903a7a419230/expr.png\" style=\"display:inline;vertical-align:middle;\" /></a> : <a class=\"ProveItLink\" href=\"../../../number_sets/real_numbers/__pv_it/common/93cac87a1a47e613f7a83b23ef7891599a1a4cca0/expr.ipynb\"><img src=\"../../../number_sets/real_numbers/__pv_it/common/93cac87a1a47e613f7a83b23ef7891599a1a4cca0/expr.png\" style=\"display:inline;vertical-align:middle;\" /></a>, <a class=\"ProveItLink\" href=\"../../../../__pv_it/common/a0d9d672aa5e272d907247690c152cc2c6daafb70/expr.ipynb\"><img src=\"../../../../__pv_it/common/a0d9d672aa5e272d907247690c152cc2c6daafb70/expr.png\" style=\"display:inline;vertical-align:middle;\" /></a> : <a class=\"ProveItLink\" href=\"../6f7a71b76f96db850679b58d8cba55b317f1ed940/expr.ipynb\"><img src=\"../6f7a71b76f96db850679b58d8cba55b317f1ed940/expr.png\" style=\"display:inline;vertical-align:middle;\" /></a></span></td></tr><tr><td><a name=\"proveit.numbers.demonstrations.70be603e5be8d1004b645087523fdf6751c604700_step1\">1</a></td><td>theorem</td><td></td><td><span style=\"font-size:20px;\"> <a class=\"ProveItLink\" href=\"../../../../logic/sets/inclusion/_theory_nbs_/proofs/superset_membership_from_proper_subset/thm_proof.ipynb\" style=\"text-decoration: none\">&nbsp;&#x22A2;&nbsp;&nbsp;</a><a class=\"ProveItLink\" href=\"../../../../logic/sets/inclusion/__pv_it/theorems/8c2c4c3c91efdbf0b7e86e4a2d99545aea54db000/expr.ipynb\"><img src=\"../../../../logic/sets/inclusion/__pv_it/theorems/8c2c4c3c91efdbf0b7e86e4a2d99545aea54db000/expr.png\" style=\"display:inline;vertical-align:middle;\" /></a></span></td></tr>\n",
       "<tr><td>&nbsp;</td><td colspan=4 style-\"text-align:left\"><a class=\"ProveItLink\" href=\"../../../../logic/sets/inclusion/_theory_nbs_/proofs/superset_membership_from_proper_subset/thm_proof.ipynb\">proveit.logic.sets.inclusion.superset_membership_from_proper_subset</a></td></tr><tr><td><a name=\"proveit.numbers.demonstrations.70be603e5be8d1004b645087523fdf6751c604700_step2\">2</a></td><td>theorem</td><td></td><td><span style=\"font-size:20px;\"> <a class=\"ProveItLink\" href=\"../../../number_sets/real_numbers/_theory_nbs_/proofs/real_pos_within_real/thm_proof.ipynb\" style=\"text-decoration: none\">&nbsp;&#x22A2;&nbsp;&nbsp;</a><a class=\"ProveItLink\" href=\"../../../number_sets/real_numbers/__pv_it/theorems/d0c7a1c9e90d22c65f82916658888d722f5679650/expr.ipynb\"><img src=\"../../../number_sets/real_numbers/__pv_it/theorems/d0c7a1c9e90d22c65f82916658888d722f5679650/expr.png\" style=\"display:inline;vertical-align:middle;\" /></a></span></td></tr>\n",
       "<tr><td>&nbsp;</td><td colspan=4 style-\"text-align:left\"><a class=\"ProveItLink\" href=\"../../../number_sets/real_numbers/_theory_nbs_/proofs/real_pos_within_real/thm_proof.ipynb\">proveit.numbers.number_sets.real_numbers.real_pos_within_real</a></td></tr><tr><td><a name=\"proveit.numbers.demonstrations.70be603e5be8d1004b645087523fdf6751c604700_step3\">3</a></td><td>instantiation</td><td><a href=\"#proveit.numbers.demonstrations.70be603e5be8d1004b645087523fdf6751c604700_step4\">4</a>, <a href=\"#proveit.numbers.demonstrations.70be603e5be8d1004b645087523fdf6751c604700_step5\">5</a>, <a href=\"#proveit.numbers.demonstrations.70be603e5be8d1004b645087523fdf6751c604700_step6\">6</a></td><td><span style=\"font-size:20px;\"><a class=\"ProveItLink\" href=\"../b9cae19a628b9412bdeba3850806ec1015c9b6ae0/expr.ipynb\"><img src=\"../b9cae19a628b9412bdeba3850806ec1015c9b6ae0/expr.png\" style=\"display:inline;vertical-align:middle;\" /></a>, <a class=\"ProveItLink\" href=\"../8c5864665d603ebc7e84fdb786d604e60f56fcc70/expr.ipynb\"><img src=\"../8c5864665d603ebc7e84fdb786d604e60f56fcc70/expr.png\" style=\"display:inline;vertical-align:middle;\" /></a> <a class=\"ProveItLink\" href=\"../c57b54857deca6ee9d5d5d526c6c3dcafa7a7b0f0/proof.ipynb\" style=\"text-decoration: none\">&nbsp;&#x22A2;&nbsp;&nbsp;</a><a class=\"ProveItLink\" href=\"../11b51d2088670d2651549a9e4767da553a10c06d0/expr.ipynb\"><img src=\"../11b51d2088670d2651549a9e4767da553a10c06d0/expr.png\" style=\"display:inline;vertical-align:middle;\" /></a></span></td></tr>\n",
       "<tr><td>&nbsp;</td><td colspan=4 style=\"text-align:left\"><span style=\"font-size:20px;\"><a class=\"ProveItLink\" href=\"../../../../__pv_it/common/c06c606ec12678c58933ac85412ecadc2ae28be60/expr.ipynb\"><img src=\"../../../../__pv_it/common/c06c606ec12678c58933ac85412ecadc2ae28be60/expr.png\" style=\"display:inline;vertical-align:middle;\" /></a> : <a class=\"ProveItLink\" href=\"../../../../__pv_it/common/195236b98c6c564a75b5dbada74b173bc52d5c3e0/expr.ipynb\"><img src=\"../../../../__pv_it/common/195236b98c6c564a75b5dbada74b173bc52d5c3e0/expr.png\" style=\"display:inline;vertical-align:middle;\" /></a>, <a class=\"ProveItLink\" href=\"../../../../__pv_it/common/195236b98c6c564a75b5dbada74b173bc52d5c3e0/expr.ipynb\"><img src=\"../../../../__pv_it/common/195236b98c6c564a75b5dbada74b173bc52d5c3e0/expr.png\" style=\"display:inline;vertical-align:middle;\" /></a> : <a class=\"ProveItLink\" href=\"../../../../__pv_it/common/ceef4280a2f1cc604b455b54e735507244cc62cd0/expr.ipynb\"><img src=\"../../../../__pv_it/common/ceef4280a2f1cc604b455b54e735507244cc62cd0/expr.png\" style=\"display:inline;vertical-align:middle;\" /></a></span></td></tr><tr><td><a name=\"proveit.numbers.demonstrations.70be603e5be8d1004b645087523fdf6751c604700_step4\">4</a></td><td>theorem</td><td></td><td><span style=\"font-size:20px;\"> <a class=\"ProveItLink\" href=\"../../../addition/_theory_nbs_/proofs/add_real_pos_closure_bin/thm_proof.ipynb\" style=\"text-decoration: none\">&nbsp;&#x22A2;&nbsp;&nbsp;</a><a class=\"ProveItLink\" href=\"../../../addition/__pv_it/theorems/7074e4f895ecd9bd739dc0064380965f443a6e7b0/expr.ipynb\"><img src=\"../../../addition/__pv_it/theorems/7074e4f895ecd9bd739dc0064380965f443a6e7b0/expr.png\" style=\"display:inline;vertical-align:middle;\" /></a></span></td></tr>\n",
       "<tr><td>&nbsp;</td><td colspan=4 style-\"text-align:left\"><a class=\"ProveItLink\" href=\"../../../addition/_theory_nbs_/proofs/add_real_pos_closure_bin/thm_proof.ipynb\">proveit.numbers.addition.add_real_pos_closure_bin</a></td></tr><tr><td><a name=\"proveit.numbers.demonstrations.70be603e5be8d1004b645087523fdf6751c604700_step5\">5</a></td><td>assumption</td><td></td><td><span style=\"font-size:20px;\"><a class=\"ProveItLink\" href=\"../b9cae19a628b9412bdeba3850806ec1015c9b6ae0/expr.ipynb\"><img src=\"../b9cae19a628b9412bdeba3850806ec1015c9b6ae0/expr.png\" style=\"display:inline;vertical-align:middle;\" /></a> <a class=\"ProveItLink\" href=\"../8216ebefc18c8f7e571909c19b4eb3c7eb90863a0/proof.ipynb\" style=\"text-decoration: none\">&nbsp;&#x22A2;&nbsp;&nbsp;</a><a class=\"ProveItLink\" href=\"../b9cae19a628b9412bdeba3850806ec1015c9b6ae0/expr.ipynb\"><img src=\"../b9cae19a628b9412bdeba3850806ec1015c9b6ae0/expr.png\" style=\"display:inline;vertical-align:middle;\" /></a></span></td></tr>\n",
       "<tr><td><a name=\"proveit.numbers.demonstrations.70be603e5be8d1004b645087523fdf6751c604700_step6\">6</a></td><td>assumption</td><td></td><td><span style=\"font-size:20px;\"><a class=\"ProveItLink\" href=\"../8c5864665d603ebc7e84fdb786d604e60f56fcc70/expr.ipynb\"><img src=\"../8c5864665d603ebc7e84fdb786d604e60f56fcc70/expr.png\" style=\"display:inline;vertical-align:middle;\" /></a> <a class=\"ProveItLink\" href=\"../a0825bfceaef8aa5013fd07a5c65937c280dcc4f0/proof.ipynb\" style=\"text-decoration: none\">&nbsp;&#x22A2;&nbsp;&nbsp;</a><a class=\"ProveItLink\" href=\"../8c5864665d603ebc7e84fdb786d604e60f56fcc70/expr.ipynb\"><img src=\"../8c5864665d603ebc7e84fdb786d604e60f56fcc70/expr.png\" style=\"display:inline;vertical-align:middle;\" /></a></span></td></tr>\n",
       "</table>"
      ],
      "text/plain": [
       "<proveit._core_.proof._ShowProof at 0x7ff9c27026d8>"
      ]
     },
     "execution_count": 1,
     "metadata": {},
     "output_type": "execute_result"
    }
   ],
   "source": [
    "import proveit\n",
    "# Automation is not needed when only showing a stored proof:\n",
    "proveit.defaults.automation = False # This will speed things up.\n",
    "proveit.defaults.inline_pngs = False # Makes files smaller.\n",
    "%show_proof"
   ]
  },
  {
   "cell_type": "code",
   "execution_count": null,
   "metadata": {},
   "outputs": [],
   "source": []
  }
 ],
 "metadata": {
  "kernelspec": {
   "display_name": "Python 3",
   "language": "python",
   "name": "python3"
  }
 },
 "nbformat": 4,
 "nbformat_minor": 0
}