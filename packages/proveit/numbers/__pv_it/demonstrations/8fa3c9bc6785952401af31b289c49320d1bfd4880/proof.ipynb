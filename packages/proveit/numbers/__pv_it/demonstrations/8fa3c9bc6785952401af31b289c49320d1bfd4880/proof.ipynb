{
 "cells": [
  {
   "cell_type": "markdown",
   "metadata": {},
   "source": [
    "Show the Proof\n",
    "========"
   ]
  },
  {
   "cell_type": "code",
   "execution_count": 1,
   "metadata": {},
   "outputs": [
    {
     "data": {
      "text/html": [
       "<table><tr><th>&nbsp;</th><th>step type</th><th>requirements</th><th>statement</th></tr>\n",
       "<tr><td><a name=\"proveit.numbers.demonstrations.8fa3c9bc6785952401af31b289c49320d1bfd4880_step0\">0</a></td><td>instantiation</td><td><a href=\"#proveit.numbers.demonstrations.8fa3c9bc6785952401af31b289c49320d1bfd4880_step1\">1</a>, <a href=\"#proveit.numbers.demonstrations.8fa3c9bc6785952401af31b289c49320d1bfd4880_step2\">2</a>, <a href=\"#proveit.numbers.demonstrations.8fa3c9bc6785952401af31b289c49320d1bfd4880_step3\">3</a>, <a href=\"#proveit.numbers.demonstrations.8fa3c9bc6785952401af31b289c49320d1bfd4880_step4\">4</a>, <a href=\"#proveit.numbers.demonstrations.8fa3c9bc6785952401af31b289c49320d1bfd4880_step5\">5</a>, <a href=\"#proveit.numbers.demonstrations.8fa3c9bc6785952401af31b289c49320d1bfd4880_step6\">6</a></td><td><span style=\"font-size:20px;\"><a class=\"ProveItLink\" href=\"../d550e8309ef79ca46e4c9fb5617a392ea678789b0/expr.ipynb\"><img src=\"../d550e8309ef79ca46e4c9fb5617a392ea678789b0/expr.png\" style=\"display:inline;vertical-align:middle;\" /></a>, <a class=\"ProveItLink\" href=\"../../../ordering/__pv_it/theorems/d1323f34847310a404e8089c2c268d3c2eb89dbf0/expr.ipynb\"><img src=\"../../../ordering/__pv_it/theorems/d1323f34847310a404e8089c2c268d3c2eb89dbf0/expr.png\" style=\"display:inline;vertical-align:middle;\" /></a>, <a class=\"ProveItLink\" href=\"../../../ordering/__pv_it/theorems/5d76fdd975252a644e3e1cb067a357f9a9c8486a0/expr.ipynb\"><img src=\"../../../ordering/__pv_it/theorems/5d76fdd975252a644e3e1cb067a357f9a9c8486a0/expr.png\" style=\"display:inline;vertical-align:middle;\" /></a>, <a class=\"ProveItLink\" href=\"../../../../logic/equality/__pv_it/theorems/73829d3be05f2b12292db7642d7f9d4a94d650a00/expr.ipynb\"><img src=\"../../../../logic/equality/__pv_it/theorems/73829d3be05f2b12292db7642d7f9d4a94d650a00/expr.png\" style=\"display:inline;vertical-align:middle;\" /></a>, <a class=\"ProveItLink\" href=\"../1034b099268ebc68ab71d757a423d98a8a315f520/expr.ipynb\"><img src=\"../1034b099268ebc68ab71d757a423d98a8a315f520/expr.png\" style=\"display:inline;vertical-align:middle;\" /></a> <a class=\"ProveItLink\" href=\"proof.ipynb\" style=\"text-decoration: none\">&nbsp;&#x22A2;&nbsp;&nbsp;</a><a class=\"ProveItLink\" href=\"../bf1db4ae393bbd7d481673a12a4df6c3eb9bc2d00/expr.ipynb\"><img src=\"../bf1db4ae393bbd7d481673a12a4df6c3eb9bc2d00/expr.png\" style=\"display:inline;vertical-align:middle;\" /></a></span></td></tr>\n",
       "<tr><td>&nbsp;</td><td colspan=4 style=\"text-align:left\"><span style=\"font-size:20px;\"><a class=\"ProveItLink\" href=\"../../../../__pv_it/common/c06c606ec12678c58933ac85412ecadc2ae28be60/expr.ipynb\"><img src=\"../../../../__pv_it/common/c06c606ec12678c58933ac85412ecadc2ae28be60/expr.png\" style=\"display:inline;vertical-align:middle;\" /></a> : <a class=\"ProveItLink\" href=\"../../../../__pv_it/common/ceef4280a2f1cc604b455b54e735507244cc62cd0/expr.ipynb\"><img src=\"../../../../__pv_it/common/ceef4280a2f1cc604b455b54e735507244cc62cd0/expr.png\" style=\"display:inline;vertical-align:middle;\" /></a>, <a class=\"ProveItLink\" href=\"../../../../__pv_it/common/a0d9d672aa5e272d907247690c152cc2c6daafb70/expr.ipynb\"><img src=\"../../../../__pv_it/common/a0d9d672aa5e272d907247690c152cc2c6daafb70/expr.png\" style=\"display:inline;vertical-align:middle;\" /></a> : <a class=\"ProveItLink\" href=\"../../../../__pv_it/common/a0d9d672aa5e272d907247690c152cc2c6daafb70/expr.ipynb\"><img src=\"../../../../__pv_it/common/a0d9d672aa5e272d907247690c152cc2c6daafb70/expr.png\" style=\"display:inline;vertical-align:middle;\" /></a>, <a class=\"ProveItLink\" href=\"../../../../__pv_it/common/ff7dba4ef0bbe791ab573bf2d9c220a304399ac80/expr.ipynb\"><img src=\"../../../../__pv_it/common/ff7dba4ef0bbe791ab573bf2d9c220a304399ac80/expr.png\" style=\"display:inline;vertical-align:middle;\" /></a> : <a class=\"ProveItLink\" href=\"../../../../__pv_it/common/ff7dba4ef0bbe791ab573bf2d9c220a304399ac80/expr.ipynb\"><img src=\"../../../../__pv_it/common/ff7dba4ef0bbe791ab573bf2d9c220a304399ac80/expr.png\" style=\"display:inline;vertical-align:middle;\" /></a></span></td></tr><tr><td><a name=\"proveit.numbers.demonstrations.8fa3c9bc6785952401af31b289c49320d1bfd4880_step1\">1</a></td><td>theorem</td><td></td><td><span style=\"font-size:20px;\"> <a class=\"ProveItLink\" href=\"../../../division/_theory_nbs_/proofs/div_neq_real/thm_proof.ipynb\" style=\"text-decoration: none\">&nbsp;&#x22A2;&nbsp;&nbsp;</a><a class=\"ProveItLink\" href=\"../../../division/__pv_it/theorems/0fed3ce84a40178bc5dd9042cb46ab7424df86900/expr.ipynb\"><img src=\"../../../division/__pv_it/theorems/0fed3ce84a40178bc5dd9042cb46ab7424df86900/expr.png\" style=\"display:inline;vertical-align:middle;\" /></a></span></td></tr>\n",
       "<tr><td>&nbsp;</td><td colspan=4 style-\"text-align:left\"><a class=\"ProveItLink\" href=\"../../../division/_theory_nbs_/proofs/div_neq_real/thm_proof.ipynb\">proveit.numbers.division.div_neq_real</a></td></tr><tr><td><a name=\"proveit.numbers.demonstrations.8fa3c9bc6785952401af31b289c49320d1bfd4880_step2\">2</a></td><td>assumption</td><td></td><td><span style=\"font-size:20px;\"><a class=\"ProveItLink\" href=\"../d550e8309ef79ca46e4c9fb5617a392ea678789b0/expr.ipynb\"><img src=\"../d550e8309ef79ca46e4c9fb5617a392ea678789b0/expr.png\" style=\"display:inline;vertical-align:middle;\" /></a> <a class=\"ProveItLink\" href=\"../442ac3fab2e9baac93bdfee5d82c6373329cbe6a0/proof.ipynb\" style=\"text-decoration: none\">&nbsp;&#x22A2;&nbsp;&nbsp;</a><a class=\"ProveItLink\" href=\"../d550e8309ef79ca46e4c9fb5617a392ea678789b0/expr.ipynb\"><img src=\"../d550e8309ef79ca46e4c9fb5617a392ea678789b0/expr.png\" style=\"display:inline;vertical-align:middle;\" /></a></span></td></tr>\n",
       "<tr><td><a name=\"proveit.numbers.demonstrations.8fa3c9bc6785952401af31b289c49320d1bfd4880_step3\">3</a></td><td>assumption</td><td></td><td><span style=\"font-size:20px;\"><a class=\"ProveItLink\" href=\"../../../ordering/__pv_it/theorems/d1323f34847310a404e8089c2c268d3c2eb89dbf0/expr.ipynb\"><img src=\"../../../ordering/__pv_it/theorems/d1323f34847310a404e8089c2c268d3c2eb89dbf0/expr.png\" style=\"display:inline;vertical-align:middle;\" /></a> <a class=\"ProveItLink\" href=\"../f4d30bd5c69ca835d295c6e2594e4611254792f40/proof.ipynb\" style=\"text-decoration: none\">&nbsp;&#x22A2;&nbsp;&nbsp;</a><a class=\"ProveItLink\" href=\"../../../ordering/__pv_it/theorems/d1323f34847310a404e8089c2c268d3c2eb89dbf0/expr.ipynb\"><img src=\"../../../ordering/__pv_it/theorems/d1323f34847310a404e8089c2c268d3c2eb89dbf0/expr.png\" style=\"display:inline;vertical-align:middle;\" /></a></span></td></tr>\n",
       "<tr><td><a name=\"proveit.numbers.demonstrations.8fa3c9bc6785952401af31b289c49320d1bfd4880_step4\">4</a></td><td>assumption</td><td></td><td><span style=\"font-size:20px;\"><a class=\"ProveItLink\" href=\"../../../ordering/__pv_it/theorems/5d76fdd975252a644e3e1cb067a357f9a9c8486a0/expr.ipynb\"><img src=\"../../../ordering/__pv_it/theorems/5d76fdd975252a644e3e1cb067a357f9a9c8486a0/expr.png\" style=\"display:inline;vertical-align:middle;\" /></a> <a class=\"ProveItLink\" href=\"../b01a423a4f81df9a7028881bef9ae967dab28c880/proof.ipynb\" style=\"text-decoration: none\">&nbsp;&#x22A2;&nbsp;&nbsp;</a><a class=\"ProveItLink\" href=\"../../../ordering/__pv_it/theorems/5d76fdd975252a644e3e1cb067a357f9a9c8486a0/expr.ipynb\"><img src=\"../../../ordering/__pv_it/theorems/5d76fdd975252a644e3e1cb067a357f9a9c8486a0/expr.png\" style=\"display:inline;vertical-align:middle;\" /></a></span></td></tr>\n",
       "<tr><td><a name=\"proveit.numbers.demonstrations.8fa3c9bc6785952401af31b289c49320d1bfd4880_step5\">5</a></td><td>assumption</td><td></td><td><span style=\"font-size:20px;\"><a class=\"ProveItLink\" href=\"../../../../logic/equality/__pv_it/theorems/73829d3be05f2b12292db7642d7f9d4a94d650a00/expr.ipynb\"><img src=\"../../../../logic/equality/__pv_it/theorems/73829d3be05f2b12292db7642d7f9d4a94d650a00/expr.png\" style=\"display:inline;vertical-align:middle;\" /></a> <a class=\"ProveItLink\" href=\"../63bd537b46a2c3a3a39772e7a9da8601e286087b0/proof.ipynb\" style=\"text-decoration: none\">&nbsp;&#x22A2;&nbsp;&nbsp;</a><a class=\"ProveItLink\" href=\"../../../../logic/equality/__pv_it/theorems/73829d3be05f2b12292db7642d7f9d4a94d650a00/expr.ipynb\"><img src=\"../../../../logic/equality/__pv_it/theorems/73829d3be05f2b12292db7642d7f9d4a94d650a00/expr.png\" style=\"display:inline;vertical-align:middle;\" /></a></span></td></tr>\n",
       "<tr><td><a name=\"proveit.numbers.demonstrations.8fa3c9bc6785952401af31b289c49320d1bfd4880_step6\">6</a></td><td>assumption</td><td></td><td><span style=\"font-size:20px;\"><a class=\"ProveItLink\" href=\"../1034b099268ebc68ab71d757a423d98a8a315f520/expr.ipynb\"><img src=\"../1034b099268ebc68ab71d757a423d98a8a315f520/expr.png\" style=\"display:inline;vertical-align:middle;\" /></a> <a class=\"ProveItLink\" href=\"../13d58c439023c0152978f7d44190a4f3630f68060/proof.ipynb\" style=\"text-decoration: none\">&nbsp;&#x22A2;&nbsp;&nbsp;</a><a class=\"ProveItLink\" href=\"../1034b099268ebc68ab71d757a423d98a8a315f520/expr.ipynb\"><img src=\"../1034b099268ebc68ab71d757a423d98a8a315f520/expr.png\" style=\"display:inline;vertical-align:middle;\" /></a></span></td></tr>\n",
       "</table>"
      ],
      "text/plain": [
       "<proveit._core_.proof._ShowProof at 0x7f3e61043be0>"
      ]
     },
     "execution_count": 1,
     "metadata": {},
     "output_type": "execute_result"
    }
   ],
   "source": [
    "import proveit\n",
    "# Automation is not needed when only showing a stored proof:\n",
    "proveit.defaults.automation = False # This will speed things up.\n",
    "proveit.defaults.inline_pngs = False # Makes files smaller.\n",
    "%show_proof"
   ]
  },
  {
   "cell_type": "code",
   "execution_count": null,
   "metadata": {},
   "outputs": [],
   "source": []
  }
 ],
 "metadata": {
  "kernelspec": {
   "display_name": "Python 3",
   "language": "python",
   "name": "python3"
  }
 },
 "nbformat": 4,
 "nbformat_minor": 0
}