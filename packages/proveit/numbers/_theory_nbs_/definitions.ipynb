{
 "cells": [
  {
   "cell_type": "markdown",
   "metadata": {},
   "source": [
    "Conservative definitions for the theory of <a class=\"ProveItLink\" href=\"theory.ipynb\">proveit.numbers</a>\n",
    "========"
   ]
  },
  {
   "cell_type": "code",
   "execution_count": null,
   "metadata": {},
   "outputs": [],
   "source": [
    "import proveit\n",
    "# Prepare this notebook for defining the conservative definitions of a theory:\n",
    "%definitions_notebook # Keep this at the top following 'import proveit'.\n",
    "\n",
    "# from proveit import a, b, c, n, q, r, A, B, D\n",
    "# from proveit import Function\n",
    "# from proveit.logic import (Implies, Iff, And, Forall, Exists, Equals, InSet, NotInSet, Set, \n",
    "#                            Union, UnionAll, SetOfAll, PowerSet, ProperSubset)\n",
    "# from proveit.numbers import (Natural, NaturalPos, IntegerNeg, Integer,\n",
    "#                              RationalPos, RationalNeg, Rational, Real, RealPos, Complex)\n",
    "# from proveit.numbers import DedekindCuts, RealFromDedekind\n",
    "# from proveit.numbers import Neg, Add, Less, Mult, Div, zero, one, i"
   ]
  },
  {
   "cell_type": "code",
   "execution_count": null,
   "metadata": {},
   "outputs": [],
   "source": [
    "%begin defining_properties"
   ]
  },
  {
   "cell_type": "code",
   "execution_count": null,
   "metadata": {},
   "outputs": [],
   "source": [
    "# int_neg_def = Equals(IntegerNeg, SetOfAll(n, Neg(n), domain=NaturalPos))\n",
    "# int_def = Equals(Integer, Union(IntegerNeg, Natural))\n",
    "# rational_pos_def = Equals(RationalPos, SetOfAll((a, b), Div(a, b), domain=NaturalPos))\n",
    "# rational_neg_def = Equals(RationalNeg, SetOfAll(q, Neg(q), domain=RationalPos))\n",
    "# rational_def = Equals(Rational, Union(RationalPos, RationalNeg, Set(zero)))\n",
    "# dedekind_cuts_def = Equals(DedekindCuts, UnionAll(D, D, PowerSet(Rational), \n",
    "#                                                   condition=Forall((q, r), Implies(And(InSet(q, D), NotInSet(r, D)), \n",
    "#                                                                                    Less(q, r)),\n",
    "#                                                                    domain=Rational)))\n",
    "# real_def = Equals(Real, SetOfAll(D, Function(RealFromDedekind, D), domain=DedekindCuts))\n",
    "# less_for_reals = Forall((A, B), Iff(Less(Function(RealFromDedekind, A), Function(RealFromDedekind, B)),\n",
    "#                                    ProperSubset(A, B)),\n",
    "#                        domain=DedekindCuts)\n",
    "# real_pos_def = Equals(RealPos, SetOfAll(r, r, domain=Real, condition=Less(zero, r)))\n",
    "# rational_reals = Forall((q, D), Iff(Equals(Function(RealFromDedekind, D), q),\n",
    "#                                     Forall(r, Equals(Less(r, q), InSet(r, D)), domain=Rational)),\n",
    "#                         domains=(Rational, DedekindCuts))\n",
    "# complex_def = Equals(Complex, SetOfAll((a, b), Add(a, Mult(i, b)), domain=Real))\n",
    "# zero_is_add_identity = Forall(a, Equals(Add(a, zero), a), domain=Complex)\n",
    "# add_is_associative = Forall((a, b, c), Equals(Add(a, Add(b, c)), Add(Add(a, b), c)), domain=Complex)\n",
    "# add_is_monotonic = Forall((a, b, c), Less(Add(a, b), Add(a, c)), domain=Real, condition=Less(b, c))\n",
    "# less_for_rationals = Forall((a, b), Iff(Less(a, b), Exists(c, Equals(Add(a, c), b), domain=RationalPos)),\n",
    "#                             domain=Rational)\n",
    "# neg_inverts_add = Forall(a, Equals(Add(a, Neg(a)), zero), domain=Complex) \n",
    "# mult_by_zero_is_zero = Forall(a, Equals(Mult(a, zero), zero), domain=Complex)\n",
    "# mult_distributes_over_add = Forall((a, b, c), Equals(Mult(a, Add(b, c)), Add(Mult(a, b), Mult(a, c))), domain=Complex)\n",
    "# mult_is_monotonic = Forall((a, b, c), Less(Mult(a, b), Mult(a, c)), domains=(RealPos, Real, Real),\n",
    "#                            condition=Less(b, c))\n",
    "# div_inverts_mult = Forall((a, b), Equals(Div(Mult(a, b), b), a), domain=Complex)\n",
    "# i_def = Equals(Mult(i, i), Neg(one))"
   ]
  },
  {
   "cell_type": "code",
   "execution_count": null,
   "metadata": {},
   "outputs": [],
   "source": [
    "%end defining_properties"
   ]
  }
 ],
 "metadata": {
  "kernelspec": {
   "display_name": "Python 3 (ipykernel)",
   "language": "python",
   "name": "python3"
  }
 },
 "nbformat": 4,
 "nbformat_minor": 0
}
