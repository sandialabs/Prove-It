{
 "cells": [
  {
   "cell_type": "markdown",
   "metadata": {},
   "source": [
    "Common expressions for the theory of <a class=\"ProveItLink\" href=\"theory.ipynb\">proveit.numbers</a>\n",
    "========"
   ]
  },
  {
   "cell_type": "code",
   "execution_count": 1,
   "metadata": {},
   "outputs": [
    {
     "name": "stdout",
     "output_type": "stream",
     "text": [
      "Defining common sub-expressions for theory 'proveit.numbers'\n",
      "Subsequent end-of-cell assignments will define common sub-expressions\n",
      "%end_common will finalize the definitions\n"
     ]
    }
   ],
   "source": [
    "import proveit\n",
    "# Prepare this notebook for defining the common expressions of a theory:\n",
    "%common_expressions_notebook # Keep this at the top following 'import proveit'.\n",
    "from proveit import Function\n",
    "from proveit import P, k, m, n\n",
    "from proveit.logic import Set, Difference\n",
    "from proveit.numbers import Add, Complex, zero, one\n",
    "%begin common"
   ]
  },
  {
   "cell_type": "code",
   "execution_count": 2,
   "metadata": {},
   "outputs": [
    {
     "data": {
      "text/html": [
       "<strong id=\"Pzero\">Pzero:</strong> <a class=\"ProveItLink\" href=\"../__pv_it/common/85b85de9deb51cc87e5ca2792f9aa2a6bad21d920/common_expr.ipynb\"><img src=\"data:image/png;base64,iVBORw0KGgoAAAANSUhEUgAAACsAAAAVBAMAAAAtAwouAAAAMFBMVEX///8AAAAAAAAAAAAAAAAA\n",
       "AAAAAAAAAAAAAAAAAAAAAAAAAAAAAAAAAAAAAAAAAAAv3aB7AAAAD3RSTlMAdrurzZkQ7zJUiSLd\n",
       "ZkQEbk8lAAAACXBIWXMAAA7EAAAOxAGVKw4bAAABF0lEQVQY01WRMU7DQBBFXyxnY+MELBAFosAi\n",
       "BwiipKKBE1AhRXLBAagQJTdgbxCLMlVoEQUliCZNRIMgnACDQEIugFnvWsqONJ7xm9mZ7zUsWGLD\n",
       "BN82bHirn6t//d2DXJK4gPH6hNa05l8QnEk8gVCrRzg0NPqQRnGG8AxXMDO49SNeSXIKfRjldMzI\n",
       "oBSXUrwP33CpCc3wlUzyFNoFyuApSzvU6OZBovQkVf3ak3Ns7Y1fzI6utrggli0M3Md05ijB7ylR\n",
       "aWU32KwcaZalO6ocliFsw2tOfCeSfx0ORM0THEFPtIWlw0ZWV6vzWmp78JlaHMlRdbx2IcX54r3e\n",
       "N8mtd92zJhl6OHC/Jck8rDK/3Ni1DZvwDysyQKbLYmjkAAAAAElFTkSuQmCC\n",
       "\" style=\"display:inline;vertical-align:middle;\" /></a><br>"
      ],
      "text/plain": [
       "<IPython.core.display.HTML object>"
      ]
     },
     "metadata": {},
     "output_type": "display_data"
    }
   ],
   "source": [
    "Pzero = Function(P, zero)"
   ]
  },
  {
   "cell_type": "code",
   "execution_count": 3,
   "metadata": {},
   "outputs": [
    {
     "data": {
      "text/html": [
       "<strong id=\"Pone\">Pone:</strong> <a class=\"ProveItLink\" href=\"../__pv_it/common/683a908cc31a2b4686f3bb7a741a0ea35823df290/common_expr.ipynb\"><img src=\"data:image/png;base64,iVBORw0KGgoAAAANSUhEUgAAACsAAAAVBAMAAAAtAwouAAAAMFBMVEX///8AAAAAAAAAAAAAAAAA\n",
       "AAAAAAAAAAAAAAAAAAAAAAAAAAAAAAAAAAAAAAAAAAAv3aB7AAAAD3RSTlMAdrurzZkQ7zJUiSLd\n",
       "ZkQEbk8lAAAACXBIWXMAAA7EAAAOxAGVKw4bAAAA7UlEQVQY02NgQALcEGoDAyqQhFAPwaTQf2Uj\n",
       "1wQgg3MBAwPHMQYGxgtg8S8MDExlQDqFgSE55BuQ4QYS5fgIVAjEDLFAzAgSvgoSZvwBxL+AjAKY\n",
       "MDvISKYPQAyU4nSACbOADOdXYGDoF2BgYF0AE+YyYAAL7ToJUwMW5gXpk7dadQ9kB88EmDAnyBZ9\n",
       "qGfYH8CEOT5AnI0mzAdUzfELKoxkyAEg4x9UmEkAbiXQbSwfoMJgZ3H9ZgA7lVX/kwBEmAOoldn8\n",
       "iy3QuAfI4XoCxtiDEtxXYYxYFGEmaLRwK6AIsymgSsPARgglzcAAAEuiOMETSt+tAAAAAElFTkSu\n",
       "QmCC\n",
       "\" style=\"display:inline;vertical-align:middle;\" /></a><br>"
      ],
      "text/plain": [
       "<IPython.core.display.HTML object>"
      ]
     },
     "metadata": {},
     "output_type": "display_data"
    }
   ],
   "source": [
    "Pone = Function(P, one)"
   ]
  },
  {
   "cell_type": "code",
   "execution_count": 4,
   "metadata": {},
   "outputs": [
    {
     "data": {
      "text/html": [
       "<strong id=\"Pn\">Pn:</strong> <a class=\"ProveItLink\" href=\"../__pv_it/common/2626dadc6c0726953df8cccd201ec03ef9fce2210/common_expr.ipynb\"><img src=\"data:image/png;base64,iVBORw0KGgoAAAANSUhEUgAAAC0AAAAVBAMAAAAgHXppAAAAMFBMVEX///8AAAAAAAAAAAAAAAAA\n",
       "AAAAAAAAAAAAAAAAAAAAAAAAAAAAAAAAAAAAAAAAAAAv3aB7AAAAD3RSTlMAdrurzZkQ7zJUiSLd\n",
       "ZkQEbk8lAAAACXBIWXMAAA7EAAAOxAGVKw4bAAABD0lEQVQY02NgQALcUHoDAyqQhNIPwaTQf2Uj\n",
       "1wQgg3MBVJzxApj6wsDAVAakU+Aa3UAEx0egUiBmiIWLXwXr+gHEv4CMArg4O8hYpg9ADJTjdICL\n",
       "s4As4FdgYOgXYGBgBVr70GyXEJDJZcAAFtt1EqpogbIA228GBl6QVnmrVfdAmnkmMPA9OMTADTIS\n",
       "ZJU+zLIHDGxs/xg4vwGd+AHifJg4A+cHBmagGXxA9Ry/oOJAc0CC/BcSGDgPAJ3+DyrOBHQI+wKG\n",
       "+QkLGHiBTmT5ABUHOW5/A4MIbwPIyaz6nwQg4hxAzW8YGJJvAo18gBzMJ+CsPSjBfxXOikURZ4LF\n",
       "E7cCijibAroCKNgIpaUZGAAy4ju/8OzGOAAAAABJRU5ErkJggg==\n",
       "\" style=\"display:inline;vertical-align:middle;\" /></a><br>"
      ],
      "text/plain": [
       "<IPython.core.display.HTML object>"
      ]
     },
     "metadata": {},
     "output_type": "display_data"
    }
   ],
   "source": [
    "Pn = Function(P, n)"
   ]
  },
  {
   "cell_type": "code",
   "execution_count": 5,
   "metadata": {},
   "outputs": [
    {
     "data": {
      "text/html": [
       "<strong id=\"P_nAddOne\">P_nAddOne:</strong> <a class=\"ProveItLink\" href=\"../__pv_it/common/edacfae35b081650da162c0255b75180bab689320/common_expr.ipynb\"><img src=\"data:image/png;base64,iVBORw0KGgoAAAANSUhEUgAAAFEAAAAVBAMAAADMaB9/AAAAMFBMVEX///8AAAAAAAAAAAAAAAAA\n",
       "AAAAAAAAAAAAAAAAAAAAAAAAAAAAAAAAAAAAAAAAAAAv3aB7AAAAD3RSTlMAdrurzZkQ7zJUiSLd\n",
       "ZkQEbk8lAAAACXBIWXMAAA7EAAAOxAGVKw4bAAABR0lEQVQoz2NgQALcDLjABjS+JE6VD8Gk0H9l\n",
       "I9cEIINzAVZVHMcYGBgvgJlfGBiYyoB0ClaFySHfgKQbWM9HoHFAzBCLquQtlGYEqbwKZv0A4l9A\n",
       "RgGqyonIKtlBzmP6AMRA1ZwOeFSygBzKr8DA0C/AwMAK9NBDs11CAthUchkwgFXtOgnVtkBZgO03\n",
       "NpW8IAvlrVbdA4nwTGDge3CIgfsHNpWcIE/oQ0XYHzCwsf1j4ARJMMScOVN+5sxhuEqOD5DghKlk\n",
       "4PzAwOyAzUw+oJkcv6AiQNtByvgvJGCz/QCQ8Q8qwgT0NPsChvkJC7D5CBhALB+gIqCA2N/AIMLb\n",
       "gKqSCxQYwCBk1f8EDUAOoAVvgPF8E9WdzOZfbIFOe4AcKSewxxEY7EGRuoo9hYABauph2oAzJXMr\n",
       "oHDZFHCqRDdkI06V0gwMAIHiVyseNrw4AAAAAElFTkSuQmCC\n",
       "\" style=\"display:inline;vertical-align:middle;\" /></a><br>"
      ],
      "text/plain": [
       "<IPython.core.display.HTML object>"
      ]
     },
     "metadata": {},
     "output_type": "display_data"
    }
   ],
   "source": [
    "P_nAddOne = Function(P, Add(n, one))"
   ]
  },
  {
   "cell_type": "code",
   "execution_count": 6,
   "metadata": {},
   "outputs": [
    {
     "data": {
      "text/html": [
       "<strong id=\"Pm\">Pm:</strong> <a class=\"ProveItLink\" href=\"../__pv_it/common/8e9eaf198b0dc465400b5001370d1a53b151f0150/common_expr.ipynb\"><img src=\"data:image/png;base64,iVBORw0KGgoAAAANSUhEUgAAADMAAAAVBAMAAAAZessyAAAAMFBMVEX///8AAAAAAAAAAAAAAAAA\n",
       "AAAAAAAAAAAAAAAAAAAAAAAAAAAAAAAAAAAAAAAAAAAv3aB7AAAAD3RSTlMAdrurzZkQ7zJUiSLd\n",
       "ZkQEbk8lAAAACXBIWXMAAA7EAAAOxAGVKw4bAAABKElEQVQoz22Rv0vDQBTHv6ZNmmuaGgoO4mCg\n",
       "m0tFxMGpi/4XhQ7uOnV2dtE/ITg61bUIipNuXVz1OrgJpiIihVa/75qQC/rg7l7uc+/7fgSwLCjc\n",
       "Icq2XrgTs7d+2jsHfToqKdDK2ByfgDPgeWQrHMrmTxnAhZ6NnkzsN9eMzomNapLCSbmIVddGVUm2\n",
       "GgPnEeCyisneqBWdXWqgvg1zPXrM3iXtyJtrRelQNDb3r55FonGBpr5HMEXIFILRyRNreN4C6gsu\n",
       "I/x02VaOoFK5rzFrk1H+LEMURKWLRoL3YR/qji0tMuSwSr4/1tgNxghZdzXNkJR7e4oXYKtuWnE7\n",
       "H9ES+ZR4A9aA1w3Ka3sAD/bHDf5MNLfSrOFYvzaIS8iL/38mdl24LOQXwXFDgIs7vUMAAAAASUVO\n",
       "RK5CYII=\n",
       "\" style=\"display:inline;vertical-align:middle;\" /></a><br>"
      ],
      "text/plain": [
       "<IPython.core.display.HTML object>"
      ]
     },
     "metadata": {},
     "output_type": "display_data"
    }
   ],
   "source": [
    "Pm = Function(P, m)"
   ]
  },
  {
   "cell_type": "code",
   "execution_count": 7,
   "metadata": {},
   "outputs": [
    {
     "data": {
      "text/html": [
       "<strong id=\"P_mAddOne\">P_mAddOne:</strong> <a class=\"ProveItLink\" href=\"../__pv_it/common/4a423ee17aca76103708c5b5d11c60b20109fc8f0/common_expr.ipynb\"><img src=\"data:image/png;base64,iVBORw0KGgoAAAANSUhEUgAAAFcAAAAVBAMAAADBdm84AAAAMFBMVEX///8AAAAAAAAAAAAAAAAA\n",
       "AAAAAAAAAAAAAAAAAAAAAAAAAAAAAAAAAAAAAAAAAAAv3aB7AAAAD3RSTlMAdrurzZkQ7zJUiSLd\n",
       "ZkQEbk8lAAAACXBIWXMAAA7EAAAOxAGVKw4bAAABYUlEQVQoz32Sv0vDQBTHv0mbNj/aWHQSByPu\n",
       "toogCEIXnRW6CgHdHOrkUPwfdHNsXDvFVRQ71R9k6NK1xn9AohQpLVTfnUdJQpIHd/fue5979+7d\n",
       "ASEzkGFubL6cBX/wfvF3fWvfJkdz0kC1B0h97o4A+YLG0zT2pPFD/QHf9kVBqeE4Dpl94UgMHnBv\n",
       "TG1Cznkc1iphuMhSlQNqtEGrZ8N5ds6CBVyRrND9zKWz2zW1s5EE6zVw8P5V7NTlTTSHuEmCy+zk\n",
       "1d3OkCmla+CzZOGpgvckWGN3qgql6AN200fbRoOmiuc9X3pebQ6rwX+Z5zDaYGQrKbJJkdWJUFga\n",
       "2AbeYE4LSWl0yZkJRWZLLRRmyNUfky5IVcsHQmGlMcYoB5AdJwrrU/DSKtVvIal0jNmFdAjzyI3A\n",
       "uZ3RHqXphx/sJfUFuT1E1gapH4lb9J/JbtbnN6zItGBlwfFQd1nwCvAHpzBVufs062oAAAAASUVO\n",
       "RK5CYII=\n",
       "\" style=\"display:inline;vertical-align:middle;\" /></a><br>"
      ],
      "text/plain": [
       "<IPython.core.display.HTML object>"
      ]
     },
     "metadata": {},
     "output_type": "display_data"
    }
   ],
   "source": [
    "P_mAddOne = Function(P, Add(m, one))"
   ]
  },
  {
   "cell_type": "code",
   "execution_count": 8,
   "metadata": {},
   "outputs": [
    {
     "data": {
      "text/html": [
       "<strong id=\"Pk\">Pk:</strong> <a class=\"ProveItLink\" href=\"../__pv_it/common/ad579292951b85939f476077ac8c8a26c2be2d8c0/common_expr.ipynb\"><img src=\"data:image/png;base64,iVBORw0KGgoAAAANSUhEUgAAAC0AAAAVBAMAAAAgHXppAAAAMFBMVEX///8AAAAAAAAAAAAAAAAA\n",
       "AAAAAAAAAAAAAAAAAAAAAAAAAAAAAAAAAAAAAAAAAAAv3aB7AAAAD3RSTlMAdrurzZkQ7zJUiSLd\n",
       "ZkQEbk8lAAAACXBIWXMAAA7EAAAOxAGVKw4bAAABG0lEQVQY02NgQAYbUCg4YJwAoR+CSaH/ykau\n",
       "CSDWLAaGpBqQ/AWwxBcGBqYyIM3mACRcQSJuIILjIwMDJxAzsIKU/QQJXQWb+gOIfwEZ7EDM9w0k\n",
       "xA4ylukDEAPlGKYAMVcBSJwFpJNfgYGhXwDIiAKJGHAuTWDgMmAAi+06CVLlC8T5F2Zuv8DAC3KB\n",
       "vNWqe2B3gSTn75vQsoGBE2SaPsxbdUAcfgPsxA8Q5yPEj4Q2gFwFVM/xCyYONIftJx/IZZwHgE7/\n",
       "BxNXZGDg/cb2kxFIAZ3I8gEmvpiBgdmB7QcX0OcLGFj1PwlAxXuA/pvAICrGwMDzADmYeRpgrD0o\n",
       "wc8bAGPFosaLNpTmVkAVT4LSTGgRyQ11gTQDAwBocD0Lhjke+AAAAABJRU5ErkJggg==\n",
       "\" style=\"display:inline;vertical-align:middle;\" /></a><br>"
      ],
      "text/plain": [
       "<IPython.core.display.HTML object>"
      ]
     },
     "metadata": {},
     "output_type": "display_data"
    }
   ],
   "source": [
    "Pk = Function(P, k)"
   ]
  },
  {
   "cell_type": "code",
   "execution_count": 9,
   "metadata": {},
   "outputs": [
    {
     "name": "stdout",
     "output_type": "stream",
     "text": [
      "These common expressions may now be imported from the theory package: proveit.numbers\n"
     ]
    }
   ],
   "source": [
    "%end common"
   ]
  },
  {
   "cell_type": "code",
   "execution_count": null,
   "metadata": {},
   "outputs": [],
   "source": []
  }
 ],
 "metadata": {
  "kernelspec": {
   "display_name": "Python 3",
   "language": "python",
   "name": "python3"
  }
 },
 "nbformat": 4,
 "nbformat_minor": 0
}