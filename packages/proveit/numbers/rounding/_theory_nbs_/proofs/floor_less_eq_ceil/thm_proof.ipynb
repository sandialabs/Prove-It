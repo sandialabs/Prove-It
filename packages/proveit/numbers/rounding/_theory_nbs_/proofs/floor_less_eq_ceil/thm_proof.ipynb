{
 "cells": [
  {
   "cell_type": "markdown",
   "metadata": {},
   "source": [
    "Proof of <a class=\"ProveItLink\" href=\"../../../../../_theory_nbs_/theory.ipynb\">proveit</a>.<a class=\"ProveItLink\" href=\"../../../../_theory_nbs_/theory.ipynb\">numbers</a>.<a class=\"ProveItLink\" href=\"../../theory.ipynb\">rounding</a>.<a class=\"ProveItLink\" href=\"../../theorems.ipynb#floor_less_eq_ceil\">floor_less_eq_ceil</a> theorem\n",
    "========"
   ]
  },
  {
   "cell_type": "code",
   "execution_count": 1,
   "metadata": {},
   "outputs": [],
   "source": [
    "import proveit\n",
    "theory = proveit.Theory() # the theorem's theory"
   ]
  },
  {
   "cell_type": "code",
   "execution_count": 2,
   "metadata": {},
   "outputs": [
    {
     "data": {
      "text/html": [
       "With these <a href=\"allowed_presumptions.txt\">allowed</a>/<a href=\"disallowed_presumptions.txt\">disallowed</a> theorem/theory presumptions (e.g., to avoid circular dependencies), we begin our proof of<br><strong id=\"floor_less_eq_ceil\">floor_less_eq_ceil:</strong> <a class=\"ProveItLink\" href=\"../../../__pv_it/theorems/f788ae2a36882ea11a88605ce4b6158f6dfb891c0/expr.ipynb\"><img src=\"data:image/png;base64,iVBORw0KGgoAAAANSUhEUgAAAJ0AAAAVBAMAAACu6/FQAAAAMFBMVEX///8AAAAAAAAAAAAAAAAA\n",
       "AAAAAAAAAAAAAAAAAAAAAAAAAAAAAAAAAAAAAAAAAAAv3aB7AAAAD3RSTlMAq1RmmUTNIjK7EInv\n",
       "3XZ/CtNrAAAACXBIWXMAAA7EAAAOxAGVKw4bAAACFElEQVQ4y5WVP0jcUBzHv5fES87ow7UgEtpV\n",
       "6YGlQ4diuVYdHIItLqXt0cXiIBE62mJXuzg2LUgKR/EPytGhhRaKexEEOwiS4yz9Aw7SreDk7yX3\n",
       "kpeYp9wb7n7vffP7XH7/3gEXLhPYyOxy61HYio2RcB/wcNn6CYymuwfn9Kz4mL4GuH1NgdOaXfFY\n",
       "FbjH7VkF7wNUPG22gIc54BXPy4qCV1Px9B9BEe8GUCbBdhS8HQWPHQZF8aIvgE4xl1XpqxfzNlvF\n",
       "+UOZYLth+F3BM5odl+2jta9OwmvsZ+ohiTZVdxJ4q+Dxn4tcxtiQsSd4759m6yuJOgW0AHNAYox8\n",
       "ujMv7H4ndtE9/bRUFbxSlieLGiW8EthuR7WOfJfZ+Nzs7Pvc2MWCUZfy9zwTryxa/4jZTspxd4lK\n",
       "x3CrneOR1b6gHqnYwxuifps+TiZ+eby9Oe94LBcv8MTrDZT9kooa5REfqauZd6XsrEeP2uZqteNW\n",
       "accu6+4gbFU/y6LOB2ORyqFj1cL9iGe8S6aFl5+7XF+ewnRu3p4JnixGDVZa4sp/4Kbv+w5j9rRw\n",
       "svZil8aJVnNU94Es9ruJ646J19H7sZ6HgTg9QFf3C16IzaJdN6hzovzhi6gHn++ueLVksn5/O4b5\n",
       "hqyZP83GuDiueAW8rZCvgwJe/p7a9H03c9C70tX7VS698F8Cw+lfROucfjU1Kft/gTPnZ40K7Uqq\n",
       "wAAAAABJRU5ErkJggg==\n",
       "\" style=\"display:inline;vertical-align:middle;\" /></a><br>(see <a class=\"ProveItLink\" href=\"../../../__pv_it/theorems/6fa8c833e314117f7a3a3d06db3703fd8407f7f70/dependencies.ipynb\">dependencies</a>)<br>"
      ],
      "text/plain": [
       "<IPython.core.display.HTML object>"
      ]
     },
     "metadata": {},
     "output_type": "display_data"
    }
   ],
   "source": [
    "%proving floor_less_eq_ceil"
   ]
  },
  {
   "cell_type": "code",
   "execution_count": null,
   "metadata": {},
   "outputs": [],
   "source": []
  }
 ],
 "metadata": {
  "kernelspec": {
   "display_name": "Python 3",
   "language": "python",
   "name": "python3"
  }
 },
 "nbformat": 4,
 "nbformat_minor": 0
}