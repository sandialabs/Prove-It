{
 "cells": [
  {
   "cell_type": "markdown",
   "metadata": {},
   "source": [
    "Proof of <a class=\"ProveItLink\" href=\"../../../../../_theory_nbs_/theory.ipynb\">proveit</a>.<a class=\"ProveItLink\" href=\"../../../../_theory_nbs_/theory.ipynb\">numbers</a>.<a class=\"ProveItLink\" href=\"../../theory.ipynb\">rounding</a>.<a class=\"ProveItLink\" href=\"../../theorems.ipynb#round_real_pos_closure\">round_real_pos_closure</a> theorem\n",
    "========"
   ]
  },
  {
   "cell_type": "code",
   "execution_count": 1,
   "metadata": {},
   "outputs": [],
   "source": [
    "import proveit\n",
    "theory = proveit.Theory() # the theorem's theory"
   ]
  },
  {
   "cell_type": "code",
   "execution_count": 2,
   "metadata": {},
   "outputs": [
    {
     "data": {
      "text/html": [
       "With these <a href=\"allowed_presumptions.txt\">allowed</a>/<a href=\"disallowed_presumptions.txt\">disallowed</a> theorem/theory presumptions (e.g., to avoid circular dependencies), we begin our proof of<br><strong id=\"round_real_pos_closure\">round_real_pos_closure:</strong> <a class=\"ProveItLink\" href=\"../../../__pv_it/theorems/09b49d280614e13af36a9371ee07bbcfa4b1354c0/expr.ipynb\"><img src=\"data:image/png;base64,iVBORw0KGgoAAAANSUhEUgAAAM8AAAAVBAMAAAATCqclAAAAMFBMVEX///8AAAAAAAAAAAAAAAAA\n",
       "AAAAAAAAAAAAAAAAAAAAAAAAAAAAAAAAAAAAAAAAAAAv3aB7AAAAD3RSTlMAq1RmmUTNIjK7EInv\n",
       "3XZ/CtNrAAAACXBIWXMAAA7EAAAOxAGVKw4bAAADXUlEQVRIx41VWWjUUBQ9nS1NMpMWBUsrlgFF\n",
       "EZEOIir96EIXhVIJin6o6KCCIFJSBL9cRhE/XCCK2yiWFIpSRWas4G4ZEb+KMoiIWiqpVC0VyqBI\n",
       "tRTxvpd0Nm3SgUneO/cm591zz3sBZvHT3BIEl0QNs/opYbeMT/Z9exF++/dFA0+mVIaXM2Ch42uW\n",
       "zRwq3ddAV09yekmRovg5fzmkDMdb2HyPE48UdQiWsWqvZ6d7i8ILtLtAiuNHmcS6E5Ev4hDcYdCl\n",
       "KTtdWRSeowc0pDkeoEzZsQlBp+BTdknlcg1LwmtDb/mgok6IMiLCvbTegGOLFjsFd7MW5bQN8Or9\n",
       "HYY9ryiJfWNEDH85NDTgSNRGPX8otFFq/7AqjURQYviHb/R3keTzR78zbckL0njVqT7ShnvrwDQP\n",
       "KqCLatrC1wFX/n27nBvuopnYJqdwSBUmZE8K9TSvRkLDNk2ctMvwYdhsB7zRQm9V4Lj0IW3hnRDK\n",
       "/+OA3PA1sD+QpmV/BAaP+dKYh00hHUdi0nP42ItD1OLVqDfmkoq8XdE8Im94acrCRUNW8xiW32vs\n",
       "KCR6AZwsY4vOAM+MoIlXMBIqagwCQmwHBen5GFr5vsqwC3Vj6L1NhKqSlIV7zKwXSofjqiLjfrKY\n",
       "iLs4qEP4QyPhF1ADqouAhGoTgeiZDVhFkp5XEbqltI1H66bh5hg5U0GtKTe3N7fkSQeSHwkT8gSN\n",
       "lAxjwQ+JgHrY0sE/gZu06jQD0vlEpaZu431sO4+vHdH4AUJEYw0FFZG9MMgOgQiCSZyFqNdiAJ5J\n",
       "ORHGPA+dl6IJ6QIJREJ4eTHj2Wcv039Ut/GD5AVFqwyEe/lek4WuSAHRHfLxT9a2cpwHGnE6mST1\n",
       "lOga0fS8YXnkXc+vnpQ/bDmdbJg9AHay56I2XkKCedFVio2cyHdVLzTDGdKFi/F4hJrR3b+kOkZz\n",
       "aW5Yqn7QOcpaS7P15qIVTEXeLqlyi/XoiSndOitDOb9NAKvi8XhYUeQNhfsoFHP7SrzLjg5ZN/9D\n",
       "+wgqwtmqUgJO8YoU/1ajIMnb4EaUO0qbZsjI4gflqI92FO8RHhW9+ZIbkTj9BZ3pM5DDfZ/7xyAw\n",
       "j2z+kuxpLUzrdSPKbhxRc1mJ/bsVj6v/W4/pxnTYvn+dIU74X1OU20+aKbZaAAAAAElFTkSuQmCC\n",
       "\" style=\"display:inline;vertical-align:middle;\" /></a><br>(see <a class=\"ProveItLink\" href=\"../../../__pv_it/theorems/f4bc353965b71eb46f60e90e5a286000054f04b80/dependencies.ipynb\">dependencies</a>)<br>"
      ],
      "text/plain": [
       "<IPython.core.display.HTML object>"
      ]
     },
     "metadata": {},
     "output_type": "display_data"
    },
    {
     "name": "stdout",
     "output_type": "stream",
     "text": [
      "round_real_pos_closure may now be readily provable (assuming required theorems are usable).  Simply execute \"%qed\".\n"
     ]
    }
   ],
   "source": [
    "%proving round_real_pos_closure"
   ]
  },
  {
   "cell_type": "code",
   "execution_count": null,
   "metadata": {},
   "outputs": [],
   "source": []
  }
 ],
 "metadata": {
  "kernelspec": {
   "display_name": "Python 3",
   "language": "python",
   "name": "python3"
  }
 },
 "nbformat": 4,
 "nbformat_minor": 0
}