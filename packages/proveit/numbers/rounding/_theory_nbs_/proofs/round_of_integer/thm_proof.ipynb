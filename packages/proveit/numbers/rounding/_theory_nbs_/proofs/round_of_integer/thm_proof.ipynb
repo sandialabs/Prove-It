{
 "cells": [
  {
   "cell_type": "markdown",
   "metadata": {},
   "source": [
    "Proof of <a class=\"ProveItLink\" href=\"../../../../../_theory_nbs_/theory.ipynb\">proveit</a>.<a class=\"ProveItLink\" href=\"../../../../_theory_nbs_/theory.ipynb\">numbers</a>.<a class=\"ProveItLink\" href=\"../../theory.ipynb\">rounding</a>.<a class=\"ProveItLink\" href=\"../../theorems.ipynb#round_of_integer\">round_of_integer</a> theorem\n",
    "========"
   ]
  },
  {
   "cell_type": "code",
   "execution_count": 1,
   "metadata": {},
   "outputs": [],
   "source": [
    "import proveit\n",
    "theory = proveit.Theory() # the theorem's theory"
   ]
  },
  {
   "cell_type": "code",
   "execution_count": 2,
   "metadata": {},
   "outputs": [
    {
     "data": {
      "text/html": [
       "With these <a href=\"allowed_presumptions.txt\">allowed</a>/<a href=\"disallowed_presumptions.txt\">disallowed</a> theorem/theory presumptions (e.g., to avoid circular dependencies), we begin our proof of<br><strong id=\"round_of_integer\">round_of_integer:</strong> <a class=\"ProveItLink\" href=\"../../../__pv_it/theorems/a6e354e062dd3332300822eb1b80d81bb647240d0/expr.ipynb\"><img src=\"data:image/png;base64,iVBORw0KGgoAAAANSUhEUgAAAMIAAAAVBAMAAADm9CyVAAAAMFBMVEX///8AAAAAAAAAAAAAAAAA\n",
       "AAAAAAAAAAAAAAAAAAAAAAAAAAAAAAAAAAAAAAAAAAAv3aB7AAAAD3RSTlMAq1RmmUTNIjK7EInv\n",
       "3XZ/CtNrAAAACXBIWXMAAA7EAAAOxAGVKw4bAAAC5UlEQVRIx4VVTWgTURD+kmyyyW4S48GDUUpA\n",
       "UMGWRhHBi0TqH6gY9OpPwIMgFLbqRSwmelCwSCOIugoxBRFTpaw/B6lSe1CkLUoRCooE0vqDWoil\n",
       "IpUcivP2J7tsd7MP9u28b2bfN29m3izQavDwGlJrQ88NZrwM4intHaw56xmeYMIaZ71fcd/70ms2\n",
       "bzCWX1zMCN/J3iec1fdbuT9Pj5AzVqGysxXhF1i0is7qrhYEwQZNXNpYBjLOZoQzcjHlrB5twSBO\n",
       "0hQ11+MuduMIkBshlzTkWjCEmNNrzfVxFzvC31WrE85KjhLdVzzzlByur8AQxSyJo8lzP6k+ekb6\n",
       "2bn30jM0/eAFyY/tX5v4HuC2i5t0POW68hL8FPKS0o7AHJRrNWEBwbe4W9Ydz8TbOIrYFtWnqjrU\n",
       "+jTxHvAJy7a+sWd39KzFUuDT3eRorIbY89R++HLB7Cfw//AojV3M4gOlUgo0fORKuz3FJh4pi1kd\n",
       "DU/L2ZgkDumVF80iXP5DwgGSk3iPaE0Q/sLfYMBnZvGGvgGnpqvfxmDB/bVmoncUiBsXT6PJoBXl\n",
       "GJCvkZQvwD9HJyGAmDQGMlPv8+ElQTbx3Daa6ru/SnGtujNGaVOUwEIpLAKvJJJ+g22/LD24yFKi\n",
       "RQk4Jgl06A57Hiz4k5PUX6SVoVRFC+Cpgs4QISdirHFQpCYQSUAOlKMKOsvD88S0jhQloJJdDZHE\n",
       "rbYTWPHeBItNKYxDWpWJzUtFijzL0XZEMuAS4QmRBep7oFBCh3pSKsXOK/twUC9c67DiPtXnBSos\n",
       "WZZTUIYxqCeLInREpRqh7iWsmun5wdYDmzAwe7mNfXUVuFf3d7GrMWVjWIKHR3n0qf1mfRrDOvjR\n",
       "q3nHCs0fwaTLD8LAe8UcR3XL/OUQNNDNXgxmvzN7oK0vGDj3beQX+FskbVw+e8O4gRHJi+KmIZx1\n",
       "MbDhD2U5a10LRS+GyhIqNxdcxnkvBl7/e8ZdTkv4f4BSxhoKun8tAAAAAElFTkSuQmCC\n",
       "\" style=\"display:inline;vertical-align:middle;\" /></a><br>(see <a class=\"ProveItLink\" href=\"../../../__pv_it/theorems/9b05abbe752ffd93f550447698997e948c8436ea0/dependencies.ipynb\">dependencies</a>)<br>"
      ],
      "text/plain": [
       "<IPython.core.display.HTML object>"
      ]
     },
     "metadata": {},
     "output_type": "display_data"
    }
   ],
   "source": [
    "%proving round_of_integer"
   ]
  },
  {
   "cell_type": "code",
   "execution_count": null,
   "metadata": {},
   "outputs": [],
   "source": []
  }
 ],
 "metadata": {
  "kernelspec": {
   "display_name": "Python 3",
   "language": "python",
   "name": "python3"
  }
 },
 "nbformat": 4,
 "nbformat_minor": 0
}