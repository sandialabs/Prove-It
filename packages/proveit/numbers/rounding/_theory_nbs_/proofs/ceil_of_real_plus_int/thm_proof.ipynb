{
 "cells": [
  {
   "cell_type": "markdown",
   "metadata": {},
   "source": [
    "Proof of <a class=\"ProveItLink\" href=\"../../../../../_theory_nbs_/theory.ipynb\">proveit</a>.<a class=\"ProveItLink\" href=\"../../../../_theory_nbs_/theory.ipynb\">numbers</a>.<a class=\"ProveItLink\" href=\"../../theory.ipynb\">rounding</a>.<a class=\"ProveItLink\" href=\"../../theorems.ipynb#ceil_of_real_plus_int\">ceil_of_real_plus_int</a> theorem\n",
    "========"
   ]
  },
  {
   "cell_type": "code",
   "execution_count": 1,
   "metadata": {},
   "outputs": [],
   "source": [
    "import proveit\n",
    "theory = proveit.Theory() # the theorem's theory"
   ]
  },
  {
   "cell_type": "code",
   "execution_count": 2,
   "metadata": {},
   "outputs": [
    {
     "data": {
      "text/html": [
       "With these <a href=\"allowed_presumptions.txt\">allowed</a>/<a href=\"disallowed_presumptions.txt\">disallowed</a> theorem/theory presumptions (e.g., to avoid circular dependencies), we begin our proof of<br><strong id=\"ceil_of_real_plus_int\">ceil_of_real_plus_int:</strong> <a class=\"ProveItLink\" href=\"../../../__pv_it/theorems/d6a3e5c25eab49cce00409031bf5cc1d046403600/expr.ipynb\"><img src=\"data:image/png;base64,iVBORw0KGgoAAAANSUhEUgAAAToAAAAVBAMAAAAk4T84AAAAMFBMVEX///8AAAAAAAAAAAAAAAAA\n",
       "AAAAAAAAAAAAAAAAAAAAAAAAAAAAAAAAAAAAAAAAAAAv3aB7AAAAD3RSTlMAq1RmmUTNIjK7EInv\n",
       "3XZ/CtNrAAAACXBIWXMAAA7EAAAOxAGVKw4bAAADmElEQVRIx52WX0gUQRzHf97t3p6753ohBErI\n",
       "QWFCf1witHqoC82KMA7785LJhQ9RD3E9WkYXPUpmgdgmHBsJYT24SX9QSO5FiP5hRWQPCyuZkaEI\n",
       "EUpPzczunbvj7pznwh07+5vvfj87M7+ZHwDjmp8C5pUC3jBMv+gO4zNbEzAMxfu1AEJh++dsODkG\n",
       "QYXV4WQhDR/3krXjiEn8o7i92Y+OFYVtUDydW+NNJ+MO34n/Idw+70fHiorJ4ukojTcdXES/kIb9\n",
       "b+BJ7vWjY0U5ZRXdiUJ0lCZP5xbuRr9gHPtjRinmR8eKRmAV3c5CdJQmT+cWRpArvMH+uG/INytY\n",
       "0Zp10NWsiS6Ee3SQrHxvGG/9c5YRPWY7iQtV3SMuE3760XjGk47S0HTtVVd/oWSVcDI+Jf5HAO77\n",
       "0zGiHbYTB9Nmi8tEKq2G4VSOjjPIFfXQ0HT6HVNcQj1Q7kA98b8MQtS5h744eMlBR0Vh08DRZ/bt\n",
       "J9upAQ5oFS6TU2W9cD3tNXaUhqLjE99AWEbbdBY1thP/Uk1K2H3C02pCluClvkLniEJPZR98hbE5\n",
       "uzlhO6WhmbRbDOOdYXxEd9pwAuo0LzpKY9HlhaL4FwL/EMcienqb+AfM/LJvQt8ry7DPXKFzRDk0\n",
       "y6CEtyqUE8AHOivqADYCi87W0DMbWIQSNKs8Hrs266xK7kd/C4dnUmSPRnRzccdJhqPBxp4Za/dG\n",
       "jBw9S8AvwWM3HUL7I3qtO0pD0yG0ckWDwCReYpb/CNqa5VRlKDZEjhFJyCgOOhx92KZEUqK1KTfU\n",
       "5ugylpPYV5IF3U33Fk2Q5DV2lIami+hoRegQxFZ7Lf8u9FVByIStDVvmBnqdVQCOXpmFco0nzKKZ\n",
       "W5Q45bFTYHkwy8dcJmhly8k9XnSUhqZDqTQbTAOnW5sP9i9J4wBK5HpVVWOyLLU66Ui0Gq2C4AVV\n",
       "vQuSpImaFb1lj8Nxc8sutwk/CWJFzIuO0tB0ZwEeoOdlOBG/OGqkcFaAbjJ2Mn9Goyuo19AUDpNB\n",
       "a70Jkh0uSxd/VlAan7PiGh7/yRX/LinJod2DrDsYi1N0wiJM1Vq7sh7HH0gufE4XWwVQGp8qoNGu\n",
       "F3L+3I/xORDuobvTs/pgM0XHR+G3Ap34uzdUj57LvaR/HfVd/xoqKFIUda6qfp+oasK/NhZH1T7X\n",
       "g6F10A2tga40ZX1Ggdr8FbuwF0wIxFgdugtpwrqX7CdeYIhwfuI/5Koa+mLB/oMAAAAASUVORK5C\n",
       "YII=\n",
       "\" style=\"display:inline;vertical-align:middle;\" /></a><br>(see <a class=\"ProveItLink\" href=\"../../../__pv_it/theorems/9e53dfda4ea896b406316ffb019badf16aee8a1a0/dependencies.ipynb\">dependencies</a>)<br>"
      ],
      "text/plain": [
       "<IPython.core.display.HTML object>"
      ]
     },
     "metadata": {},
     "output_type": "display_data"
    }
   ],
   "source": [
    "%proving ceil_of_real_plus_int"
   ]
  },
  {
   "cell_type": "code",
   "execution_count": null,
   "metadata": {},
   "outputs": [],
   "source": []
  }
 ],
 "metadata": {
  "kernelspec": {
   "display_name": "Python 3",
   "language": "python",
   "name": "python3"
  }
 },
 "nbformat": 4,
 "nbformat_minor": 0
}