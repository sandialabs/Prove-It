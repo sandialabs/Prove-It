{
 "cells": [
  {
   "cell_type": "markdown",
   "metadata": {},
   "source": [
    "Proof of <a class=\"ProveItLink\" href=\"../../../../../_theory_nbs_/theory.ipynb\">proveit</a>.<a class=\"ProveItLink\" href=\"../../../../_theory_nbs_/theory.ipynb\">numbers</a>.<a class=\"ProveItLink\" href=\"../../theory.ipynb\">rounding</a>.<a class=\"ProveItLink\" href=\"../../theorems.ipynb#ceil_increasing_less_eq\">ceil_increasing_less_eq</a> theorem\n",
    "========"
   ]
  },
  {
   "cell_type": "code",
   "execution_count": 1,
   "metadata": {},
   "outputs": [],
   "source": [
    "import proveit\n",
    "theory = proveit.Theory() # the theorem's theory"
   ]
  },
  {
   "cell_type": "code",
   "execution_count": 2,
   "metadata": {},
   "outputs": [
    {
     "data": {
      "text/html": [
       "With these <a href=\"allowed_presumptions.txt\">allowed</a>/<a href=\"disallowed_presumptions.txt\">disallowed</a> theorem/theory presumptions (e.g., to avoid circular dependencies), we begin our proof of<br><strong id=\"ceil_increasing_less_eq\">ceil_increasing_less_eq:</strong> <a class=\"ProveItLink\" href=\"../../../__pv_it/theorems/b36ddd4a84c077ca34511f649741615d8b6b382e0/expr.ipynb\"><img src=\"data:image/png;base64,iVBORw0KGgoAAAANSUhEUgAAANsAAAAXBAMAAABwhye8AAAAMFBMVEX///8AAAAAAAAAAAAAAAAA\n",
       "AAAAAAAAAAAAAAAAAAAAAAAAAAAAAAAAAAAAAAAAAAAv3aB7AAAAD3RSTlMAq1RmmUTNIjK7EInv\n",
       "3XZ/CtNrAAAACXBIWXMAAA7EAAAOxAGVKw4bAAADCUlEQVRIx7WWX0gUQRzHv7t3e7u3e64LQZCC\n",
       "LChClHBEFAWZYWkUimQIIdhRD0EPcb6Gxfms0VWUXcGxhBBmyOaDgVAcQRBEIUXQy8YKl5KVCD0Y\n",
       "PjW7N7f/7lbsrHm4+c38Zn+f+c3v95s5YFstDc4wTFtkDSMZVDvKNuOjtXibTVYRcRlcR1DvUZ4F\n",
       "hkinWHJzjbg9+BucTEYnLPlSbTQxFYprTVficBkYJR2frQ0XTYbhjpyq4h32AzENkNTacAmE4H7O\n",
       "VztMJDR7JlZj6Fqr48QXZtXYIUaG7wzjbY2409SiuNowNuvgxJ6kN1VmOiEqJZxE+pPAg83is4nu\n",
       "IrUYxaLZU8aJO1VfZup7EVkr4SIktYbBK5WW2uaOXbGFuG+anfCOPlCLB3FU2+F458cJag+YbAnH\n",
       "Fog9Terzo4TFXJ8s4blegWPzvoWvKS6DLk/seN9hiniPhFnCCcRL1gxmyvEMKUkZh80gLnIHVXEg\n",
       "JkNThdvAzUwJxxHvkGonP6vdRVKY3CIYu/gt3EqHi5OL17sh37bEIQVK4DDBreNJWCFEU/hBM5Nd\n",
       "ID+zpNjl9K4YOfKZem0cU7Z9ic8nXdwyk70gvLK3bm4IBWo1T8/rLlOAHlbmcQW3KC5iXScjZLMR\n",
       "5AUiXm3DN/TbuOjDrCdVknEzg93WnvlHC3L5EnpWssj+nixwauASyzjeKdwviota2cDYmnV7VSOa\n",
       "cCCXy6myLJ3xZma9dQees3iMzpRDc4N612u27Au9osXG4jrF1Tk5KRR4q/uENxizvZO5Qc2DG7df\n",
       "q9Fu65tEhn5Ul9nSiyClKO5aeX5ESkUxDXzm1khl2LHDvJsqfGEO9mi4gTDOO9Y6toCbw1OV4jqd\n",
       "u+PryxWMq2g5lAJ/n0wMLOmTXa53vYOrGn2+2c57jrmJKjjRsJsTuy8kQiVc8OFRxXScLJjO5dzC\n",
       "jwd3/Bhu9U1twbvmYh/Fxf3/HjiNMQeCX1TgmriUI/MmWPfKEvTgWo+SZMRyYC/g2vVwnEAyNjeB\n",
       "/u/4j43/p9b+AGCovoTm6t2DAAAAAElFTkSuQmCC\n",
       "\" style=\"display:inline;vertical-align:middle;\" /></a><br>(see <a class=\"ProveItLink\" href=\"../../../__pv_it/theorems/d9192d7c485c322dc256038df6976f69061ed6190/dependencies.ipynb\">dependencies</a>)<br>"
      ],
      "text/plain": [
       "<IPython.core.display.HTML object>"
      ]
     },
     "metadata": {},
     "output_type": "display_data"
    }
   ],
   "source": [
    "%proving ceil_increasing_less_eq"
   ]
  },
  {
   "cell_type": "code",
   "execution_count": null,
   "metadata": {},
   "outputs": [],
   "source": []
  }
 ],
 "metadata": {
  "kernelspec": {
   "display_name": "Python 3",
   "language": "python",
   "name": "python3"
  }
 },
 "nbformat": 4,
 "nbformat_minor": 0
}