{
 "cells": [
  {
   "cell_type": "markdown",
   "metadata": {},
   "source": [
    "Proof of <a class=\"ProveItLink\" href=\"../../../../../_theory_nbs_/theory.ipynb\">proveit</a>.<a class=\"ProveItLink\" href=\"../../../../_theory_nbs_/theory.ipynb\">numbers</a>.<a class=\"ProveItLink\" href=\"../../theory.ipynb\">rounding</a>.<a class=\"ProveItLink\" href=\"../../theorems.ipynb#ceil_of_sum_less_eq\">ceil_of_sum_less_eq</a> theorem\n",
    "========"
   ]
  },
  {
   "cell_type": "code",
   "execution_count": 1,
   "metadata": {},
   "outputs": [],
   "source": [
    "import proveit\n",
    "theory = proveit.Theory() # the theorem's theory"
   ]
  },
  {
   "cell_type": "code",
   "execution_count": 2,
   "metadata": {},
   "outputs": [
    {
     "data": {
      "text/html": [
       "With these <a href=\"allowed_presumptions.txt\">allowed</a>/<a href=\"disallowed_presumptions.txt\">disallowed</a> theorem/theory presumptions (e.g., to avoid circular dependencies), we begin our proof of<br><strong id=\"ceil_of_sum_less_eq\">ceil_of_sum_less_eq:</strong> <a class=\"ProveItLink\" href=\"../../../__pv_it/theorems/d3ed1552d6a58be0402a78e1c440858e6c610c780/expr.ipynb\"><img src=\"data:image/png;base64,iVBORw0KGgoAAAANSUhEUgAAARUAAAAWBAMAAAAcIxXLAAAAMFBMVEX///8AAAAAAAAAAAAAAAAA\n",
       "AAAAAAAAAAAAAAAAAAAAAAAAAAAAAAAAAAAAAAAAAAAv3aB7AAAAD3RSTlMAq1RmmUTNIjK7EInv\n",
       "3XZ/CtNrAAAACXBIWXMAAA7EAAAOxAGVKw4bAAADO0lEQVRIx8WWTWjUQBiG381u9idp44Ig1IIE\n",
       "WnrRShBRFOwPtVWU1UWlF8EGehA8yHqVCqvXVmwPoqtQUuilVkrsoULBsgiC4A9VETwYSWFVLFoK\n",
       "Hlo8OcnMxk12km1PDrybZOd7Z55MZr4ZYCulANGy7JBKwbK0SAsnwKvrtD44sVRbKYqKuBZRL/Y0\n",
       "sNQF1NRdAC6BKus8t0Wz7MW2WfyWBiyKRtXvPF+ORJH0bbB0FDiWBiy4QnWTXFLjkSwJrY5F1EJY\n",
       "jp3iWbyA83yWg1RJA5DVSJYm1LEINp/l1yLX4gXs57M0Ga6cf5PR06VjqyzSM5tvacSS1KjeWNar\n",
       "aJbTzCyt7R6d97FIFQ1TXldSTguxcFnm+iBlKYucpToJPIhmGWbmBFbsnI9FFsrornYl7VLDLFwW\n",
       "cx/i65QlrlNdQypb33/nQu/V6v17Zj6MbmOnj+VWYhktXlc1LAELjyWt5hAbpyzklVxlDDnv50iv\n",
       "lPKKjKcme37BGi5igC4Sy/pMvix5A6PJxluvq9S/bxSw0ICcZb22rHeMRSJOYndZ0utUgh2cuseL\n",
       "JPUoOGoHGobTr3/uDhnpTd7cDVi430j8gztFyiKWqaB3kZ+1ExWSpMQVxNwM6LCs9gQGHOIGHvlZ\n",
       "BqCUeWs6YOGyJHT8ZOtIWKbCPMl4SqElSb723A5jDDPufiKnJqsjPskG9W6sDNPPMoFMlpfrAhYu\n",
       "C3FOMJb4OBVGSGtxTKbJ7fVO/KC5UUk89JLxE2oWNqfLoupn6cWQFtgDihwLf1yy4m/GkjCpEHPd\n",
       "G25MK/bgUKlUUhVFPldt/jZ7yTN2+4HAfJlaOlvg7Y0BC5dFaq1sMJbmPBVbO+WUc/mIlxh1x0UR\n",
       "LxqsrrkYkXcXuPt0wBKSd2WdsdxgcsuIrCcwC3wS18kid+cLFqsNxHvC9kZZl55zWQIW7t64gMcq\n",
       "Y+ljoinj69IqxlS0H9GRuk/+GPxmTg9Ua++FnRma7ZjpdSVZbilyLNwzwxcyIyiLc04InhVUqZAh\n",
       "QbOlkj/7zYSxCF39IWepmcYsbZU8Y8kUqGoH3ojZg7wuUzaEqGNF2mxgqQuoqSPT8zuoamEhdpn4\n",
       "f+UvDnb3xlmGtuoAAAAASUVORK5CYII=\n",
       "\" style=\"display:inline;vertical-align:middle;\" /></a><br>(see <a class=\"ProveItLink\" href=\"../../../__pv_it/theorems/248ebe26c897a099258a9e6a52768a964998acc50/dependencies.ipynb\">dependencies</a>)<br>"
      ],
      "text/plain": [
       "<IPython.core.display.HTML object>"
      ]
     },
     "metadata": {},
     "output_type": "display_data"
    }
   ],
   "source": [
    "%proving ceil_of_sum_less_eq"
   ]
  },
  {
   "cell_type": "code",
   "execution_count": null,
   "metadata": {},
   "outputs": [],
   "source": []
  }
 ],
 "metadata": {
  "kernelspec": {
   "display_name": "Python 3",
   "language": "python",
   "name": "python3"
  }
 },
 "nbformat": 4,
 "nbformat_minor": 0
}