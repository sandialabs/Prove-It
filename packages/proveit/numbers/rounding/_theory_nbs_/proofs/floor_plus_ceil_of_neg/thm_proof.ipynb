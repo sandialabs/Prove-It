{
 "cells": [
  {
   "cell_type": "markdown",
   "metadata": {},
   "source": [
    "Proof of <a class=\"ProveItLink\" href=\"../../../../../_theory_nbs_/theory.ipynb\">proveit</a>.<a class=\"ProveItLink\" href=\"../../../../_theory_nbs_/theory.ipynb\">numbers</a>.<a class=\"ProveItLink\" href=\"../../theory.ipynb\">rounding</a>.<a class=\"ProveItLink\" href=\"../../theorems.ipynb#floor_plus_ceil_of_neg\">floor_plus_ceil_of_neg</a> theorem\n",
    "========"
   ]
  },
  {
   "cell_type": "code",
   "execution_count": 1,
   "metadata": {},
   "outputs": [],
   "source": [
    "import proveit\n",
    "theory = proveit.Theory() # the theorem's theory"
   ]
  },
  {
   "cell_type": "code",
   "execution_count": 2,
   "metadata": {},
   "outputs": [
    {
     "data": {
      "text/html": [
       "With these <a href=\"allowed_presumptions.txt\">allowed</a>/<a href=\"disallowed_presumptions.txt\">disallowed</a> theorem/theory presumptions (e.g., to avoid circular dependencies), we begin our proof of<br><strong id=\"floor_plus_ceil_of_neg\">floor_plus_ceil_of_neg:</strong> <a class=\"ProveItLink\" href=\"../../../__pv_it/theorems/09c1c9808144ce39895f396d668c36db0ce272ed0/expr.ipynb\"><img src=\"data:image/png;base64,iVBORw0KGgoAAAANSUhEUgAAAOEAAAAVBAMAAABCnpRGAAAAMFBMVEX///8AAAAAAAAAAAAAAAAA\n",
       "AAAAAAAAAAAAAAAAAAAAAAAAAAAAAAAAAAAAAAAAAAAv3aB7AAAAD3RSTlMAq1RmmUTNIjK7EInv\n",
       "3XZ/CtNrAAAACXBIWXMAAA7EAAAOxAGVKw4bAAACm0lEQVRIx52WT4jTQBTG3yZpkybb0KsgEhC8\n",
       "6NKC4kH8U6muwiqUVbwIWvAgCEq8r1KvirieNAolh0VcBYkeFF2QXgRBhKoHPZgllVVhD4sHQdCL\n",
       "702SNp1OGkhghsnHl/lN5r15CcDEy8amAjwaKirnKPh+MKrM+J/CB1Pmm3iZFnbfAHYOpZOcRa6N\n",
       "P4aeM+IJSa7QYGsKcTs2yctDNMfllTWbyYfp5rwYqLewewB5iHCBF4uW/pnJ1yg2i2KiQrM1xMRC\n",
       "bTJxFy/uA3jJ5KILYFhi4jR1XTFRCiYTp11OvA1QdUmmJ4opYdxGM7fyEYu8/hvglsXk977/LoU4\n",
       "RzvrRcQn/YcrVgYx4TEqXE4QscbkowD3Uojn4rUSsW5uUXoZxIRHpr2B4z5dHyhX/iExYPJlUJPL\n",
       "mXl+8FI8/oitbIVE2Zb/TtUmE5MeqTu6ekb0mFxyjWakan2naRrwwovu31AGNEOiBkprEEfF979i\n",
       "NCoRUb/IXqWd9Gi/uF1F4tmAyVIwSJxDbTy6JuwJBEQcBdmZM/QUuuOZU7VCubUfu40jazarE0hc\n",
       "rwt2FVdo624WceiReqNxBAfggBvKz7AOmPamorXMSqmhduJJOthKQUhcbm4GI+Mdkx6Zryp7AWYj\n",
       "eQHDIUNHgxOMqNwfeJ/GWY7E6vVjMJ9BTHoUjyOWLf1tJE+1SfgDsNtxHMs0jfnYdJMyoBcSlzak\n",
       "hpVBTHrKTb5Iz/XbSVnrqnCDvaNZOB0XqDKt5Uu+mnNFfMQH8oLRUvCcsDjCqzhz5HpUknNU8oaY\n",
       "OJCV76/XQb2Lo1M/vKXZWL5DqWPn+VqlfI54+bHjjO4+Za++mIdYEv9flLJ+O1QK1lWAHf5q/A+z\n",
       "ylkkwZcOE+KneEKU/wNHtcPbvDomsAAAAABJRU5ErkJggg==\n",
       "\" style=\"display:inline;vertical-align:middle;\" /></a><br>(see <a class=\"ProveItLink\" href=\"../../../__pv_it/theorems/ea2ef5090ff01cfd993f6e22c4dc5df77e80f5a70/dependencies.ipynb\">dependencies</a>)<br>"
      ],
      "text/plain": [
       "<IPython.core.display.HTML object>"
      ]
     },
     "metadata": {},
     "output_type": "display_data"
    }
   ],
   "source": [
    "%proving floor_plus_ceil_of_neg"
   ]
  },
  {
   "cell_type": "code",
   "execution_count": null,
   "metadata": {},
   "outputs": [],
   "source": []
  }
 ],
 "metadata": {
  "kernelspec": {
   "display_name": "Python 3",
   "language": "python",
   "name": "python3"
  }
 },
 "nbformat": 4,
 "nbformat_minor": 0
}