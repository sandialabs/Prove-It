{
 "cells": [
  {
   "cell_type": "markdown",
   "metadata": {},
   "source": [
    "Proof of <a class=\"ProveItLink\" href=\"../../../../../_theory_nbs_/theory.ipynb\">proveit</a>.<a class=\"ProveItLink\" href=\"../../../../_theory_nbs_/theory.ipynb\">numbers</a>.<a class=\"ProveItLink\" href=\"../../theory.ipynb\">rounding</a>.<a class=\"ProveItLink\" href=\"../../theorems.ipynb#round_of_round\">round_of_round</a> theorem\n",
    "========"
   ]
  },
  {
   "cell_type": "code",
   "execution_count": 1,
   "metadata": {},
   "outputs": [],
   "source": [
    "import proveit\n",
    "theory = proveit.Theory() # the theorem's theory"
   ]
  },
  {
   "cell_type": "code",
   "execution_count": 2,
   "metadata": {},
   "outputs": [
    {
     "data": {
      "text/html": [
       "With these <a href=\"allowed_presumptions.txt\">allowed</a>/<a href=\"disallowed_presumptions.txt\">disallowed</a> theorem/theory presumptions (e.g., to avoid circular dependencies), we begin our proof of<br><strong id=\"round_of_round\">round_of_round:</strong> <a class=\"ProveItLink\" href=\"../../../__pv_it/theorems/880621ea8b855b4c65a341d6f245c2af05d7aa860/expr.ipynb\"><img src=\"data:image/png;base64,iVBORw0KGgoAAAANSUhEUgAAAVgAAAAVBAMAAADx8+t1AAAAMFBMVEX///8AAAAAAAAAAAAAAAAA\n",
       "AAAAAAAAAAAAAAAAAAAAAAAAAAAAAAAAAAAAAAAAAAAv3aB7AAAAD3RSTlMAq1RmmUTNIjK7EInv\n",
       "3XZ/CtNrAAAACXBIWXMAAA7EAAAOxAGVKw4bAAAEfElEQVRIx5VXXYgbVRT+kkwymZlkdqFYcCsh\n",
       "oNgHu2woxZ8+uFlWq7CuDhV9sbaBCkJRmUVfxNaMPih0laZQ0Siss7CoW6WJFbS2GiMqYhdlKxaU\n",
       "sjKpa60V1rBFUvZh8dx7J5uM7kxmD3zDncl37nfvueeeewMEmokeJoclmGF689OXwyjp2V6Mi2EJ\n",
       "e11syNr6cUegn73c6EO+xb+f5BN5ekar/oyXvu4m6DmBkMadO/q/CdzN2o+v76EWArrrY7N+J0hw\n",
       "2UM44CKkLXv0EzbHCywdSus7SEGR2Ef+GA0gxFc8hB0uwhl37ujH8hxszJpPaqaCuvucPeoBBG3e\n",
       "Q0jZAuGMO3fpn+WI0egTPh43B3X3GMvIoDxJ5D2ERE4gnDHnbv39At8vLMz5eIzRPvpUHiOFWsNQ\n",
       "F3OI2PHGu7UpSpwtl1lSSbR9JkvPfESRWLoOJ2jNB7B34Lk/aeNO1I5kBUFdGpg8SYx+AY8FOjN9\n",
       "nGi8d4baH4LjXuBNn8HSVDRlTKvjkCG3tGgdw/SeQcXEHlNZcaNVPVb9DPJ5FM3qNsSaqB511Bbi\n",
       "3+JtWxAkNJxxSrmCADC+wOwcawY683Dm9YxEKXErOCYgd8938OORp9rtH4GnE/MUnV+BCy+Sz2Y8\n",
       "lC6haKlfQWK66Szk3JMUgbSD9KnsOCKFuPEL5Gv4IIddgoDbMGxvooyoC3hOjEBnph8zYysRmvE2\n",
       "cCi2ZrRrZ6Ns6Bo+adfGb4DDfSw2TeBLO+XgB9gVA0M2fUgzUspA0r5KjQeoPUA/pxxV/QfRFfbh\n",
       "giDAEsrJpoCnWAc6M/2kiAqOCESdtf11l0WFW8dOpzNYXqFSJcir1KJJYwgUX/pQMdyx8CLzHVB0\n",
       "qFW0EG1SiOgD6QoCaBysGNUF/l+h/Jy5Pk2BPfe4KNxJj6V7Fk1+wNBgr+Q7aQDKNlQcaC1q6U02\n",
       "UlxV6cMw3FVmGaWuAl+Y1PobTKwvd3yVZaAgIN7CcQrKvIAnZwOduT72mSrFaxACJ+lc0c3rE9lZ\n",
       "fixq8lS7wNC25+tBqZCq4iiU0k7M0TpplSw2R+mSodCseT7Qas5B6Uc5ZhNzyD69TLpbOUF9LVIH\n",
       "cWIlAY8FOjP9WeMGaNS8w8VB2l8xTCXxIB+s9NZaj1QrZLYeUj+OASN4pVqlTNALtytO9CcJohQV\n",
       "2UqPQMkTLTmnscW8FLOmMJjPc0L02kw97lYx6b9XiUBnpj90+D7sdqsYQ8Ribi0qDeVyOavr2u52\n",
       "V6/SEvKFO7NInU7XtmYselc3ZdXMqYnLbIPQr4/yA6dGdwx1y0X6Su/T2zH918sZixPU+52btrMg\n",
       "GgIeC3Rm+jNL0VGWSuddiH1ZlzHJI6vHH2kfimmr10Hzc3jCIRcbsI6+PC/A7aBWkKiI8ZzF6XzX\n",
       "9SHYdoQnjPa496xjHX12pVm71ki/165AfoNaD1+qzuxqc17v1Z1ihiWwm53f7c7X1vSfddFl75fL\n",
       "3qSa7dWbWgpLYKNWNvq/ZrZ71L0iJzu9uns+LOEPFxuytr5ucvwLm46Gkn4K/rcAAAAASUVORK5C\n",
       "YII=\n",
       "\" style=\"display:inline;vertical-align:middle;\" /></a><br>(see <a class=\"ProveItLink\" href=\"../../../__pv_it/theorems/ec2887034c15facf9d9e1aad739dd1870baa04960/dependencies.ipynb\">dependencies</a>)<br>"
      ],
      "text/plain": [
       "<IPython.core.display.HTML object>"
      ]
     },
     "metadata": {},
     "output_type": "display_data"
    }
   ],
   "source": [
    "%proving round_of_round"
   ]
  },
  {
   "cell_type": "code",
   "execution_count": null,
   "metadata": {},
   "outputs": [],
   "source": []
  }
 ],
 "metadata": {
  "kernelspec": {
   "display_name": "Python 3",
   "language": "python",
   "name": "python3"
  }
 },
 "nbformat": 4,
 "nbformat_minor": 0
}