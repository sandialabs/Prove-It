{
 "cells": [
  {
   "cell_type": "markdown",
   "metadata": {},
   "source": [
    "Proof of <a class=\"ProveItLink\" href=\"../../../../../_theory_nbs_/theory.ipynb\">proveit</a>.<a class=\"ProveItLink\" href=\"../../../../_theory_nbs_/theory.ipynb\">numbers</a>.<a class=\"ProveItLink\" href=\"../../theory.ipynb\">rounding</a>.<a class=\"ProveItLink\" href=\"../../theorems.ipynb#floor_of_floor\">floor_of_floor</a> theorem\n",
    "========"
   ]
  },
  {
   "cell_type": "code",
   "execution_count": 1,
   "metadata": {},
   "outputs": [],
   "source": [
    "import proveit\n",
    "theory = proveit.Theory() # the theorem's theory"
   ]
  },
  {
   "cell_type": "code",
   "execution_count": 2,
   "metadata": {},
   "outputs": [
    {
     "data": {
      "text/html": [
       "With these <a href=\"allowed_presumptions.txt\">allowed</a>/<a href=\"disallowed_presumptions.txt\">disallowed</a> theorem/theory presumptions (e.g., to avoid circular dependencies), we begin our proof of<br><strong id=\"floor_of_floor\">floor_of_floor:</strong> <a class=\"ProveItLink\" href=\"../../../__pv_it/theorems/9685b990ed03ede617b9a8d937e39518eb8d29640/expr.ipynb\"><img src=\"data:image/png;base64,iVBORw0KGgoAAAANSUhEUgAAAK8AAAAVBAMAAADC7aNVAAAAMFBMVEX///8AAAAAAAAAAAAAAAAA\n",
       "AAAAAAAAAAAAAAAAAAAAAAAAAAAAAAAAAAAAAAAAAAAv3aB7AAAAD3RSTlMAq1RmmUTNIjK7EInv\n",
       "3XZ/CtNrAAAACXBIWXMAAA7EAAAOxAGVKw4bAAACIElEQVQ4y52VPYgTQRTH/9mP7F42NxxYKSIL\n",
       "io0eBhUFC42cnoKehFNsBA1YCBay9ifE1kOwEV2FkCKFUZB4hYKCpLGSE7Vf2YAfcEWwO7HyzezO\n",
       "3p7ZzMFM8ebtvDc/hve1gHIFqHRoEyI7Apwxx+cbqpP4KBfzYdZoFyJZdp3EpTHPQxsqGa/SNsP1\n",
       "3RPA+6AHZuR/mus3irmVpiYYN4G7PCoPisFWTRd8GChTXjy/GFyFLrjaEXfKE0K8VxtcpgurUfRx\n",
       "AvhcHlwZ7VheUYJfDp+98xOjRzVxFngyAXw9D7YwjBc2gRcivr5k4DrbZX1OjCal/TacmRxs9vXJ\n",
       "W1L/mgcfxYnONtWLzcD8W6olRmMATHW8Rmp1h2GDeXjTT78/5MEtzKtj7MJqyhi7vwkeZ7k71aLa\n",
       "ZjgWF4GBT1slrxpLsE0vRvM4idGZ7wHvFw5eqxeFAvY6nwiKGONawIeKCAXFGivUJizYXvZ7Yjx4\n",
       "TlsWVzsHrjwsDdBXvbjX2AkvNZq85ZYodybaLi4KsPU068NXObDxpzuwfRX4wL3zWEyNFk9TqcUt\n",
       "68CRMAx9xrxF6X0//+IL8Z6Dyhh3R8acnxqnZT3AHThYFi9m9hU5fadbup13R34seU2LCk/EGG9l\n",
       "8sy6Lngum2M/3q/BeUza5Z/97rw8fqQJ/n9cvgjDxqaDniZ4aqt/kxPDWI1SwZcRkTIbfRvz3C/P\n",
       "hPEX8A+6jZWWkqTGAwAAAABJRU5ErkJggg==\n",
       "\" style=\"display:inline;vertical-align:middle;\" /></a><br>(see <a class=\"ProveItLink\" href=\"../../../__pv_it/theorems/ef7c4e1e723670ab3c53aa047a3a901cb472ddc90/dependencies.ipynb\">dependencies</a>)<br>"
      ],
      "text/plain": [
       "<IPython.core.display.HTML object>"
      ]
     },
     "metadata": {},
     "output_type": "display_data"
    }
   ],
   "source": [
    "%proving floor_of_floor"
   ]
  },
  {
   "cell_type": "code",
   "execution_count": null,
   "metadata": {},
   "outputs": [],
   "source": []
  }
 ],
 "metadata": {
  "kernelspec": {
   "display_name": "Python 3",
   "language": "python",
   "name": "python3"
  }
 },
 "nbformat": 4,
 "nbformat_minor": 0
}