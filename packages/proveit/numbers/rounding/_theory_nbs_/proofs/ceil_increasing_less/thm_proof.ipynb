{
 "cells": [
  {
   "cell_type": "markdown",
   "metadata": {},
   "source": [
    "Proof of <a class=\"ProveItLink\" href=\"../../../../../_theory_nbs_/theory.ipynb\">proveit</a>.<a class=\"ProveItLink\" href=\"../../../../_theory_nbs_/theory.ipynb\">numbers</a>.<a class=\"ProveItLink\" href=\"../../theory.ipynb\">rounding</a>.<a class=\"ProveItLink\" href=\"../../theorems.ipynb#ceil_increasing_less\">ceil_increasing_less</a> theorem\n",
    "========"
   ]
  },
  {
   "cell_type": "code",
   "execution_count": 1,
   "metadata": {},
   "outputs": [],
   "source": [
    "import proveit\n",
    "theory = proveit.Theory() # the theorem's theory"
   ]
  },
  {
   "cell_type": "code",
   "execution_count": 2,
   "metadata": {},
   "outputs": [
    {
     "data": {
      "text/html": [
       "With these <a href=\"allowed_presumptions.txt\">allowed</a>/<a href=\"disallowed_presumptions.txt\">disallowed</a> theorem/theory presumptions (e.g., to avoid circular dependencies), we begin our proof of<br><strong id=\"ceil_increasing_less\">ceil_increasing_less:</strong> <a class=\"ProveItLink\" href=\"../../../__pv_it/theorems/e8f7327d9b2607d8b7b6e3e52231fa9d8fe9f2730/expr.ipynb\"><img src=\"data:image/png;base64,iVBORw0KGgoAAAANSUhEUgAAANsAAAAXBAMAAABwhye8AAAAMFBMVEX///8AAAAAAAAAAAAAAAAA\n",
       "AAAAAAAAAAAAAAAAAAAAAAAAAAAAAAAAAAAAAAAAAAAv3aB7AAAAD3RSTlMAq1RmmUTNIjK7EInv\n",
       "3XZ/CtNrAAAACXBIWXMAAA7EAAAOxAGVKw4bAAADBUlEQVRIx7WWT0gUURzHvzO7szM7s44DQZGC\n",
       "DCheSlgiioLMsDQKRTIEEWqpQ9AhNugUFutZoy0p2wIZQggzZPNgIBRLEARRSBF0mRhhTbISoYPh\n",
       "qd/Mvp2dnd01W+sd9v3e/N78Pu/3fn9mgS2NOATTtByRN82oX+0qW8wP9uYtDlVHoMAQ2vx6j/I0\n",
       "cIYmzZYbq8Ttwt/gVFods+UL1dHkWEVcc7wUh4vAEE1isjpcMFoJd+hEGe+wFwgZgKJXh4ugAu7H\n",
       "XLnLRMRwnoSqDF1zeZz83CobO4Ro+dY031SJO8ksyit1wzMuTu6KelNluh2ylsMpNB8H7m8Unw10\n",
       "55nFIBasrjxO3q4XZWZ6NwKrOVyAUusyRK3UUsvskUuOEN4A955Z3I/DxjbXu2KcpHeBS+ZwfIbs\n",
       "GUpPsRVpIdWjKniWLoMzvItXDJdAhyd2YtFlyniHiJXDSeQlb/kz5WiCSlLFQasUd6WuHA5ksmKq\n",
       "COu4mcjhBPIOsVb6WenMUmEKC+Cc4rdxy20FnJq93knT0A5qRRo032VCWMPjSoUQjOE7y0x+nn5m\n",
       "qNjV+M4QXfl0rTGCSce+Io5HC7glLnkO6CekbK1LGWZ1nN3XHS6DdKUyD2u4xXABu50M0mEDGJdI\n",
       "vNqCr+h1cMEHSU+qRMNWAv32mcWH82q+CT3NWeR/TWQE3dfEEq53mvCT4YJ2NnCOZs3ZVY8G7Eul\n",
       "UrqqKqe8mVkbh/TSkbg0lw/NDeZdt9W0p2KLluuzawxX4+aklBHt6SNeY9jxThUGDA9uhL5WU7fh\n",
       "vBNJsJdqEpv6IigxhruWfz6oxIKYAj4Jq1QZTuwwV0gVMTMLWqmjDuOsa61tE7hZPNEZrt3tHYsv\n",
       "ljGio+lADOI9etD3JT3RUfCue2DFPkSAeHz7XdfcWBmcbDrDjd1nilAO5//w6HI8TBumUqlC4RfX\n",
       "HT+GRxh1l5Ob8K4x28Nw4eJ/D4LBWX3+N0qaWIMQc2XRAl9oWVLav9ejpIxY8p0FQmv6j7jeb/iP\n",
       "Q/yn1n4DTmK733DH/loAAAAASUVORK5CYII=\n",
       "\" style=\"display:inline;vertical-align:middle;\" /></a><br>(see <a class=\"ProveItLink\" href=\"../../../__pv_it/theorems/972e8da1602251c479869e7c932dcb3713cd8ed20/dependencies.ipynb\">dependencies</a>)<br>"
      ],
      "text/plain": [
       "<IPython.core.display.HTML object>"
      ]
     },
     "metadata": {},
     "output_type": "display_data"
    }
   ],
   "source": [
    "%proving ceil_increasing_less"
   ]
  },
  {
   "cell_type": "code",
   "execution_count": null,
   "metadata": {},
   "outputs": [],
   "source": []
  }
 ],
 "metadata": {
  "kernelspec": {
   "display_name": "Python 3",
   "language": "python",
   "name": "python3"
  }
 },
 "nbformat": 4,
 "nbformat_minor": 0
}