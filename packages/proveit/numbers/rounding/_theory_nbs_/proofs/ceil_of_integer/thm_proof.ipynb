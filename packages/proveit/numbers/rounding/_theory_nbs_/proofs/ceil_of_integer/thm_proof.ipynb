{
 "cells": [
  {
   "cell_type": "markdown",
   "metadata": {},
   "source": [
    "Proof of <a class=\"ProveItLink\" href=\"../../../../../_theory_nbs_/theory.ipynb\">proveit</a>.<a class=\"ProveItLink\" href=\"../../../../_theory_nbs_/theory.ipynb\">numbers</a>.<a class=\"ProveItLink\" href=\"../../theory.ipynb\">rounding</a>.<a class=\"ProveItLink\" href=\"../../theorems.ipynb#ceil_of_integer\">ceil_of_integer</a> theorem\n",
    "========"
   ]
  },
  {
   "cell_type": "code",
   "execution_count": 1,
   "metadata": {},
   "outputs": [],
   "source": [
    "import proveit\n",
    "theory = proveit.Theory() # the theorem's theory"
   ]
  },
  {
   "cell_type": "code",
   "execution_count": 2,
   "metadata": {},
   "outputs": [
    {
     "data": {
      "text/html": [
       "With these <a href=\"allowed_presumptions.txt\">allowed</a>/<a href=\"disallowed_presumptions.txt\">disallowed</a> theorem/theory presumptions (e.g., to avoid circular dependencies), we begin our proof of<br><strong id=\"ceil_of_integer\">ceil_of_integer:</strong> <a class=\"ProveItLink\" href=\"../../../__pv_it/theorems/5272133cde9153588174b05b7e4e0dae76a5ba5f0/expr.ipynb\"><img src=\"data:image/png;base64,iVBORw0KGgoAAAANSUhEUgAAAIkAAAAVBAMAAACArtDCAAAAMFBMVEX///8AAAAAAAAAAAAAAAAA\n",
       "AAAAAAAAAAAAAAAAAAAAAAAAAAAAAAAAAAAAAAAAAAAv3aB7AAAAD3RSTlMAq1RmmUTNIjK7EInv\n",
       "3XZ/CtNrAAAACXBIWXMAAA7EAAAOxAGVKw4bAAABz0lEQVQ4y42UPUjDQBTH/036kRpbKk46BXVw\n",
       "rB/opoKfSyXgrHQTnKKuVaqri4tiFCSDCCpIEKcO0lVEqZtLpIoiKBS3OnqX3rXaXvUOEl7+7+V3\n",
       "7717CfDXigDz3mPFVjwvKQyy8M96BgZqT6ExYdACuRLU6BZDFFeGEicpTlJjUUw5hgwFS8AGLX9b\n",
       "7B6XowwCYQfQDbE7L0dpdaCSqsJN2pKWo4QJ4tbzbsTeoMsoLaXOrQsBhek6OaEZYL/5Hj4liKdi\n",
       "ilNSHl33qOkqyXkZkcSPVwPXlwdsz5jBKMMYddoFuTBdIf2LOrrJVO3JNmOWfu6wrpmMksWUsC9M\n",
       "1z4JqVht7kSWpIfNVdRRgLsm3a3o9CzTI+RWmn6x4pXvZIwHVytCqIxTQV+YrhSIeUFmL251hI0T\n",
       "36OuZBklWqxQWnYCebiNuXBdpUObSdA6DjXM+b5znUfRE6QU5esoHzIaKVz3JyLg710GhmzbNuDm\n",
       "aJZ+1wosl9liT7+gL1yP8dOBlo9gyy+1N4kcEx/kZneNGxk9HSRnTssIIlSofWYylPHqsL9evSOy\n",
       "R6y+to9dPoVRS4ZS/0c4s23zV+HbMpTof7/MdaCr9qS5wqA34Bsx3XgJf7WYPgAAAABJRU5ErkJg\n",
       "gg==\n",
       "\" style=\"display:inline;vertical-align:middle;\" /></a><br>(see <a class=\"ProveItLink\" href=\"../../../__pv_it/theorems/fb0a69295eceae5ecd5ac41a170be9127dca40b70/dependencies.ipynb\">dependencies</a>)<br>"
      ],
      "text/plain": [
       "<IPython.core.display.HTML object>"
      ]
     },
     "metadata": {},
     "output_type": "display_data"
    }
   ],
   "source": [
    "%proving ceil_of_integer"
   ]
  },
  {
   "cell_type": "code",
   "execution_count": null,
   "metadata": {},
   "outputs": [],
   "source": []
  }
 ],
 "metadata": {
  "kernelspec": {
   "display_name": "Python 3",
   "language": "python",
   "name": "python3"
  }
 },
 "nbformat": 4,
 "nbformat_minor": 0
}