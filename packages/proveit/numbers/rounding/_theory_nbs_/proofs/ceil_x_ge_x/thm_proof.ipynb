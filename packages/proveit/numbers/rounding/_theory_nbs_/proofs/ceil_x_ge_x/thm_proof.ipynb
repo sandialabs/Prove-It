{
 "cells": [
  {
   "cell_type": "markdown",
   "metadata": {},
   "source": [
    "Proof of <a class=\"ProveItLink\" href=\"../../../../../_theory_nbs_/theory.ipynb\">proveit</a>.<a class=\"ProveItLink\" href=\"../../../../_theory_nbs_/theory.ipynb\">numbers</a>.<a class=\"ProveItLink\" href=\"../../theory.ipynb\">rounding</a>.<a class=\"ProveItLink\" href=\"../../theorems.ipynb#ceil_x_ge_x\">ceil_x_ge_x</a> theorem\n",
    "========"
   ]
  },
  {
   "cell_type": "code",
   "execution_count": 1,
   "metadata": {},
   "outputs": [],
   "source": [
    "import proveit\n",
    "theory = proveit.Theory() # the theorem's theory"
   ]
  },
  {
   "cell_type": "code",
   "execution_count": 2,
   "metadata": {},
   "outputs": [
    {
     "data": {
      "text/html": [
       "With these <a href=\"allowed_presumptions.txt\">allowed</a>/<a href=\"disallowed_presumptions.txt\">disallowed</a> theorem/theory presumptions (e.g., to avoid circular dependencies), we begin our proof of<br><strong id=\"ceil_x_ge_x\">ceil_x_ge_x:</strong> <a class=\"ProveItLink\" href=\"../../../__pv_it/theorems/7a7abe75957c0525b4d0ab245d81779e724009d50/expr.ipynb\"><img src=\"data:image/png;base64,iVBORw0KGgoAAAANSUhEUgAAAIoAAAAVBAMAAABrmWvBAAAAMFBMVEX///8AAAAAAAAAAAAAAAAA\n",
       "AAAAAAAAAAAAAAAAAAAAAAAAAAAAAAAAAAAAAAAAAAAv3aB7AAAAD3RSTlMAq1RmmUTNIjK7EInv\n",
       "3XZ/CtNrAAAACXBIWXMAAA7EAAAOxAGVKw4bAAACGUlEQVQ4y42UPWgUQRTH/7cft5vdOASslBAW\n",
       "FBsNBgtFC11JTAJROSLYKHghgmgR1lJIsbYG0UbiKhxXXJEzEC4pElCQa2wUJYhWsrKHH0WKayNW\n",
       "vpnM5rLLnLmB3Xk7781v39cM8N8RwIzjRIhaHI8obSzsM5gHvbPV9JVGJv1lgAtHulCOowcKfgCX\n",
       "+HxHrXbKCoozmzcrVvGQR/ZUTTFGVL4sf8+Z6T4HwfXUlH4oI2Lfqlm798Kq2CUtx9QU6DkMxfgx\n",
       "jj90oUxJitM+vLC2N7va7UDMK62lNxTHKjAJvOhCmZUUA63kSqZG5ozwxmdDxiZwGrgPa2DPzuH1\n",
       "i3Op/FlSzuBC9WCWcpdT9ED/WyD9CaCv6pakzm5FJeZioyG/30lKiPFsv2gzIiIbRpnPT2gl2U3u\n",
       "WEgFYDiX5CjAp2x2v6TZ7RemN+kpn6dXe+JnwPgGomz5uYhgbuOVstK3AofkYZLW7pEiOFT06sLE\n",
       "tSppcSs7FOdZoYmGouvqpUG4NJ+lZ56Sq6Ni45qgGC93O3l1h6L9qTVNT3ECTj66jGnZEYWQr2xT\n",
       "waIo8hhzp1Orx9KXq8nRU6rTWGtro7ztv6YLdtPCgvCFmTfSsA+EPZ1pa1MK827ZoJqLvOC13zlm\n",
       "vVCM1MT49XYL1nOSrv9u1MZT/aLqZojFCDuUB1nochSVMgv1nnxZ3OfGtBJonVvDbqiv1QD/ANyP\n",
       "fuAv0KI+AAAAAElFTkSuQmCC\n",
       "\" style=\"display:inline;vertical-align:middle;\" /></a><br>(see <a class=\"ProveItLink\" href=\"../../../__pv_it/theorems/287ee17ff5980b4635760180e73abf9b2849f9230/dependencies.ipynb\">dependencies</a>)<br>"
      ],
      "text/plain": [
       "<IPython.core.display.HTML object>"
      ]
     },
     "metadata": {},
     "output_type": "display_data"
    }
   ],
   "source": [
    "%proving ceil_x_ge_x"
   ]
  },
  {
   "cell_type": "code",
   "execution_count": null,
   "metadata": {},
   "outputs": [],
   "source": []
  }
 ],
 "metadata": {
  "kernelspec": {
   "display_name": "Python 3",
   "language": "python",
   "name": "python3"
  }
 },
 "nbformat": 4,
 "nbformat_minor": 0
}