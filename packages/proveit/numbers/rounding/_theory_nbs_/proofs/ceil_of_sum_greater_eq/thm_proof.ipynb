{
 "cells": [
  {
   "cell_type": "markdown",
   "metadata": {},
   "source": [
    "Proof of <a class=\"ProveItLink\" href=\"../../../../../_theory_nbs_/theory.ipynb\">proveit</a>.<a class=\"ProveItLink\" href=\"../../../../_theory_nbs_/theory.ipynb\">numbers</a>.<a class=\"ProveItLink\" href=\"../../theory.ipynb\">rounding</a>.<a class=\"ProveItLink\" href=\"../../theorems.ipynb#ceil_of_sum_greater_eq\">ceil_of_sum_greater_eq</a> theorem\n",
    "========"
   ]
  },
  {
   "cell_type": "code",
   "execution_count": 1,
   "metadata": {},
   "outputs": [],
   "source": [
    "import proveit\n",
    "theory = proveit.Theory() # the theorem's theory"
   ]
  },
  {
   "cell_type": "code",
   "execution_count": 2,
   "metadata": {},
   "outputs": [
    {
     "data": {
      "text/html": [
       "With these <a href=\"allowed_presumptions.txt\">allowed</a>/<a href=\"disallowed_presumptions.txt\">disallowed</a> theorem/theory presumptions (e.g., to avoid circular dependencies), we begin our proof of<br><strong id=\"ceil_of_sum_greater_eq\">ceil_of_sum_greater_eq:</strong> <a class=\"ProveItLink\" href=\"../../../__pv_it/theorems/494c270d4f0033bb5a958bf3cce20936d2daff5d0/expr.ipynb\"><img src=\"data:image/png;base64,iVBORw0KGgoAAAANSUhEUgAAAUkAAAAWBAMAAAC/C3MNAAAAMFBMVEX///8AAAAAAAAAAAAAAAAA\n",
       "AAAAAAAAAAAAAAAAAAAAAAAAAAAAAAAAAAAAAAAAAAAv3aB7AAAAD3RSTlMAq1RmmUTNIjK7EInv\n",
       "3XZ/CtNrAAAACXBIWXMAAA7EAAAOxAGVKw4bAAAD00lEQVRIx82XW0gUURjHv52Lu87otOBTF2RA\n",
       "6cWsJaKoB10xLShLLHoJdMUgCorpNQysxyzSh6gtkBF8yAxZfTAoiCUIgi7YDaIaGcGSJEQIWvGp\n",
       "c2bO7O6c+Wa0twaOu/v9z//M75zznYsAG3kMkC3LDhEFy0phFr+t0frA1ShqjmSEvDhMCT6aDmIq\n",
       "QpfTmIW3neSqlGlE6kZb7mYlSX/URVM2wD9TNgRt0ZRa4AWJL26UljYaOBsJqWQ2RKn0+S28LZoS\n",
       "znPyaPsai5JylXzEhyIppVSAUk4hYzkx57PwNo/yBE65J5A0ayxKSoUJoOqRlFUQoBRsbMa1r2aZ\n",
       "hbd5lDtxyioTo6RRUmjdiui03L5RShA9zO2IbR3KihRGSaO0vLGsV9GUR1iTyvKWwWkfpbKQgtHy\n",
       "1SOcMYoWzwaT8w+e6jjlZCsoSVdSkxgljdJyGOBeNGUfa1KCebvDR6kKeWj2rXG51/Qsng3SWq00\n",
       "i1PmdoC44kpiBqOkUVouQTwZJGucabnofX/PmtwHzWaNj/IaeftmP+U507N4NtEQ12IplDKhd0Bs\n",
       "yJVIhxFKGqWl0lQ7uY1qPtupqfA4x36/YK8bgHZ3AVvWN5InpG9mlQ1vfTPeaxQtni0BUqaYlx2W\n",
       "9dqy3jFKhbhJE46UWKEpdMGiz0CRkkZpEWx+8RwklTQNDtgcJVAi/+rpMROr5avnowkBSnBA8BmX\n",
       "1+DWgCvJ6FjSqKNkmsif5UMLZBTkeYi5pwChXEpzMw5yAR76KdtBy2M7UfmMk74YiolTklH+xTog\n",
       "zKIzPsuUabK3a8bmCrIMJzeZN2DcqaLGR7ytYYRNz+1YHnJ+ymGoTGK7+kjJBuOd20ANGUviHmaS\n",
       "OISuniGm9JP3iDCSIF8vN8JP92zQpPtF15TbpLA6lpd1P2UL9KSwE3KqZINd149CVwillJR/M0nK\n",
       "cZRqgUUdJebkasFRtkIt7M1ms7qmqV1e9ZtsLI/Z9bu5vBx9dtzAbhs3SzYYWxZa9RBKZetCgUnV\n",
       "3BqObftT40ZLSiIfpx+f4CUMOmOpyae9JKseiDh7ZtA7EbXwNvzsUTNMuoLu1VfKlX41I8EEwGd5\n",
       "hWxNTl7Ck+LKTYfdNtSM8hyldCzp9W8bM/DIG+ZWlLK1XJG+P1uCGzrU789A/C4JnPqRG2v31Dth\n",
       "N7dqO5Yr3dys0l5HLbwNu7nNkRxzJfxeRqO8oitGJbFOZLP+HBkPoxSa2kJuweNBG0ZZt9DJpEr0\n",
       "Hwca5RTZjNmn0B7ZIERd7hI5zMLbBvku6uXSItryIgQUEeSmHPyPz1/duyPNlN7eHwAAAABJRU5E\n",
       "rkJggg==\n",
       "\" style=\"display:inline;vertical-align:middle;\" /></a><br>(see <a class=\"ProveItLink\" href=\"../../../__pv_it/theorems/40b819767c1003957aec220cf1eee030d741df760/dependencies.ipynb\">dependencies</a>)<br>"
      ],
      "text/plain": [
       "<IPython.core.display.HTML object>"
      ]
     },
     "metadata": {},
     "output_type": "display_data"
    }
   ],
   "source": [
    "%proving ceil_of_sum_greater_eq"
   ]
  },
  {
   "cell_type": "code",
   "execution_count": null,
   "metadata": {},
   "outputs": [],
   "source": []
  }
 ],
 "metadata": {
  "kernelspec": {
   "display_name": "Python 3",
   "language": "python",
   "name": "python3"
  }
 },
 "nbformat": 4,
 "nbformat_minor": 0
}