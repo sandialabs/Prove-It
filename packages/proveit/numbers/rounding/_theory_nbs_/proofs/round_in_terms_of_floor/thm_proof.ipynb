{
 "cells": [
  {
   "cell_type": "markdown",
   "metadata": {},
   "source": [
    "Proof of <a class=\"ProveItLink\" href=\"../../../../../_theory_nbs_/theory.ipynb\">proveit</a>.<a class=\"ProveItLink\" href=\"../../../../_theory_nbs_/theory.ipynb\">numbers</a>.<a class=\"ProveItLink\" href=\"../../theory.ipynb\">rounding</a>.<a class=\"ProveItLink\" href=\"../../theorems.ipynb#round_in_terms_of_floor\">round_in_terms_of_floor</a> theorem\n",
    "========"
   ]
  },
  {
   "cell_type": "code",
   "execution_count": 1,
   "metadata": {},
   "outputs": [],
   "source": [
    "import proveit\n",
    "theory = proveit.Theory() # the theorem's theory"
   ]
  },
  {
   "cell_type": "code",
   "execution_count": 2,
   "metadata": {},
   "outputs": [
    {
     "data": {
      "text/html": [
       "With these <a href=\"allowed_presumptions.txt\">allowed</a>/<a href=\"disallowed_presumptions.txt\">disallowed</a> theorem/theory presumptions (e.g., to avoid circular dependencies), we begin our proof of<br><strong id=\"round_in_terms_of_floor\">round_in_terms_of_floor:</strong> <a class=\"ProveItLink\" href=\"../../../__pv_it/theorems/a7d245b4591f9119e1c2f3b2474c46c59cc356c20/expr.ipynb\"><img src=\"data:image/png;base64,iVBORw0KGgoAAAANSUhEUgAAAQ8AAAAyBAMAAACwkkPKAAAAMFBMVEX///8AAAAAAAAAAAAAAAAA\n",
       "AAAAAAAAAAAAAAAAAAAAAAAAAAAAAAAAAAAAAAAAAAAv3aB7AAAAD3RSTlMAq1RmmUTNIjK7EInv\n",
       "3XZ/CtNrAAAACXBIWXMAAA7EAAAOxAGVKw4bAAAEpUlEQVRYw8WZb2gbZRzHv+kluSSXXAJDxFrX\n",
       "gKAv1tLgi4EiNmO1Km4sTNgb/zTOF+JAuYJvxEnjGwWHZIKgUeyuMsRG2U4FlSlthUmZc65u7IV/\n",
       "yjL/DDehHR1bpS8af8/17nJtc/c8S7nsIMk991x+z+d+f5/nOYB3xEto/TjH6Y/MAOO6mKxNCBgk\n",
       "9quQqJARCIg1OgNBr5CorQgCZGxwqQGiZAQkydOBgEB1geCsgKRUrQ0gPQLuej/aABLN8yWdbAdI\n",
       "ZJEryLo/YBA8zXeRTFtA+rhOUi61BeQoNyS60BaQ+AxP0HftAZF43hq72h6QBG8cdVFkNM1KwjcC\n",
       "oiy6Qbiaj08JcKhZq5LWxEFCXdc3uUE+AMz4vNPj/uRBX4TXjrPvLXbzz9amAeyYBB5kv8963HeU\n",
       "k3sXmH2LdiuqtwzSX8CrzLpeD172j+8I87hwzm5KeR5IJOcBQgOxx1CyHiP1ZX1BFCYm2Wj/wAPp\n",
       "qHmAkOolgox6jdTvn1jNqnlXo/1MyyBpctVTs7OeJXbejMwDB1/8gh5/7hYc2Q504qnOly+RxOGJ\n",
       "MlPYo/Q5cuHjb+j8s+YgVq8vCDnHw8B7XiCTpvsZbxvfQj6HEc3ogXQFxlu1xCIi0zikW2rIq5vD\n",
       "M9a0MjxrHpkGiNXrB5Ikjx+G7C6xvV9ue8Fp7GIjybnn6bFpqpb6OrsToWKk8Avk//BpDoPsnjPk\n",
       "pZq0FCIT9zTViN3rB5Ki37iuFOyMfqFSUBV85Uzcu82rOkvAuwi7Ez8hWUskrqFjiV34jXV/T3cg\n",
       "bMZwuSmI3Uuq+v3UiqrSdXa4QaYYpeOrA+Sbqor7aqtAVqL0BDBSo7OREjqukF7oAgGtgBCj+Zcn\n",
       "PJw1WeM5KwNB8QH6mnvoL01l+iOQy/lVpgEzcGKZPEajs3kwinSuuszcZcU0wJCW0K0FynofsXp5\n",
       "psHn+2h47bZodtysHIo86qSdSTNqUsxUV9n8NZ5BRdKTBk2pji0Q0N3UMUqLxkIXFDq9t6lG7F6e\n",
       "s2I/wUsYjeExEyT8fiPPzpt5ZIT50DbE8whnYicVZp2LUmkUvXmmOorZvjd2YLcVyetB7F5fEKbA\n",
       "kDkaleWtlUolq6rK7jUJ7Ukzi05QVUrc/sfwP6w9dg/G/n19M+t+Ezg817E927SysCt2r28ecbwh\n",
       "NiXjgKkRNfK4U7z6CgJLMCf7yjPCmVUeeK60KsXbgbpfKYYpkE0fwTEHr5zjgzRKXTgnXPRegnJt\n",
       "TdGzZPw9cRnyu3S256JxeND+Y1pgCYZ34EgXngbcCvzoBllTXT+pVFbbIlUUABlfR8QHOa2jW3OB\n",
       "zGuczRGRqaJsqVXVxEHuoGRZcoF08+y/wRWn3wztvNs0J3jLiYXAQGLLLhB5+aYtsKxVtegCCzsC\n",
       "A3nEndBC3CXnUCEgECnjBklzF+GpfEAgWyC7wrefuy0hBbRREzOg6g2Qn2/a1tUrAwM7b2jrSkBp\n",
       "LYGcr9evN0DiAvtSUSOgqHFPA4YEnjY23QaQMyKiLgUPIrQFHtRLATfIHjFZezcCcrZa9bF/tfoh\n",
       "e02yT0zWhl4cUXT4TGkO1esE8pGJ+j/DNIp8BMUbLAAAAABJRU5ErkJggg==\n",
       "\" style=\"display:inline;vertical-align:middle;\" /></a><br>(see <a class=\"ProveItLink\" href=\"../../../__pv_it/theorems/ecd6a2fd2fa4ce241ed43b8e3edd861b577e87d60/dependencies.ipynb\">dependencies</a>)<br>"
      ],
      "text/plain": [
       "<IPython.core.display.HTML object>"
      ]
     },
     "metadata": {},
     "output_type": "display_data"
    }
   ],
   "source": [
    "%proving round_in_terms_of_floor"
   ]
  },
  {
   "cell_type": "code",
   "execution_count": null,
   "metadata": {},
   "outputs": [],
   "source": []
  }
 ],
 "metadata": {
  "kernelspec": {
   "display_name": "Python 3",
   "language": "python",
   "name": "python3"
  }
 },
 "nbformat": 4,
 "nbformat_minor": 0
}