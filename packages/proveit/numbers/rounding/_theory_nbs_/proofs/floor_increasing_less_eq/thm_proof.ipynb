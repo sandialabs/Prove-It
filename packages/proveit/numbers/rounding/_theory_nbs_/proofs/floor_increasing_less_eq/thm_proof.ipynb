{
 "cells": [
  {
   "cell_type": "markdown",
   "metadata": {},
   "source": [
    "Proof of <a class=\"ProveItLink\" href=\"../../../../../_theory_nbs_/theory.ipynb\">proveit</a>.<a class=\"ProveItLink\" href=\"../../../../_theory_nbs_/theory.ipynb\">numbers</a>.<a class=\"ProveItLink\" href=\"../../theory.ipynb\">rounding</a>.<a class=\"ProveItLink\" href=\"../../theorems.ipynb#floor_increasing_less_eq\">floor_increasing_less_eq</a> theorem\n",
    "========"
   ]
  },
  {
   "cell_type": "code",
   "execution_count": 1,
   "metadata": {},
   "outputs": [],
   "source": [
    "import proveit\n",
    "theory = proveit.Theory() # the theorem's theory"
   ]
  },
  {
   "cell_type": "code",
   "execution_count": 2,
   "metadata": {},
   "outputs": [
    {
     "data": {
      "text/html": [
       "With these <a href=\"allowed_presumptions.txt\">allowed</a>/<a href=\"disallowed_presumptions.txt\">disallowed</a> theorem/theory presumptions (e.g., to avoid circular dependencies), we begin our proof of<br><strong id=\"floor_increasing_less_eq\">floor_increasing_less_eq:</strong> <a class=\"ProveItLink\" href=\"../../../__pv_it/theorems/25b6b073756f68c05280489d06302913c29705450/expr.ipynb\"><img src=\"data:image/png;base64,iVBORw0KGgoAAAANSUhEUgAAANsAAAAXBAMAAABwhye8AAAAMFBMVEX///8AAAAAAAAAAAAAAAAA\n",
       "AAAAAAAAAAAAAAAAAAAAAAAAAAAAAAAAAAAAAAAAAAAv3aB7AAAAD3RSTlMAq1RmmUTNIjK7EInv\n",
       "3XZ/CtNrAAAACXBIWXMAAA7EAAAOxAGVKw4bAAADCUlEQVRIx7WWX0gUQRzHv7t3e7u3e64LQZCC\n",
       "LChClHBEFAWZYWkUimQIIdhRD0EPcb6Gxfqs0VWUbcGxhBBmyOWDgVAcQRCEIUHQy8kKV5KVCD0Y\n",
       "PjW7O7e3u3cretU87Pz5zfw+85vf7zezwF+VNETD2wsUj5CvIt5pkVVEkm6P6wjKPcLzwBCpFKvd\n",
       "XCNuH3aCk0nvlNW+UhtNTIXiWtOVOFwFRq1zzdSGiybDcMfOVLEOB4EY8aak1oZLIAT3c77aYSJh\n",
       "2COxGl3XWh0nvjKr+g4x0l0oFN7XiDtLNYprDWOzLk7sSXpDZaYTouLgJFKfBh5t5Z8tZJepxiiW\n",
       "zZ4STtyt+iIztx+RdQcXIaE1DF6p1NQ2d+Ka3Yj7htkJb+8j1XgYx41drnV+nKD2gMk4ODZP9BlS\n",
       "nx8lLOt9soSXuQocm/VNfEtxGro8vuN9hyniAxKmgxOIlawZjJSTGklJGUfNIC5yD1VxICpDQ4Xb\n",
       "xG3NwXHEOqTayWetu0gSk1sGYye/hVvtKOPk4s1uyHet5pACJXCY4DbwLCwRoin8oJHJLpLPLEl2\n",
       "Ob0nRo58pt4Yx5StX+KzyTJuhclcEt7YWzc3hTzVmqXndZ/JIxeW5nEFdyguYl0nI2SzEWQF0rze\n",
       "hm/ot3HRxxlPqCTjpoa91p75J4ty6RJ64Whkf0/mOTVwiWmudQr3i+KiVjQwtmTDntWIJhzSdV2V\n",
       "ZemcNzLrrTvwgsVjckzJNbeodb1my4HQK1psLG5QXJ0bk0Ket6pPeIcx2zqZGzQ8uHH7tRrtttYk\n",
       "NLqoTtvWiyClKO5GaXxESkUxDXzm1klm2L7DfDlU+Pwc7N5wA2FcdLV1bAM3h+cqxXW6d8eX16sY\n",
       "V9FyJAX+IRkY+Jqb7Cpb1zu4ZtAHm+184KqbqIITC3ZxfbdEPOTggg+PKqbjZMK0rpcTPx7c8VOU\n",
       "s29qG9Y1F/soLu7/e+AMxhwIrqjANXGp8g+ICXah4EQOWyiYwbmusK2wRLIpsBdw7blwnEAiVp9A\n",
       "/3f8x8L/U21/AIPBv107Uq5WAAAAAElFTkSuQmCC\n",
       "\" style=\"display:inline;vertical-align:middle;\" /></a><br>(see <a class=\"ProveItLink\" href=\"../../../__pv_it/theorems/543d4b595efb93b8ac2929b263192d277ea1fbc60/dependencies.ipynb\">dependencies</a>)<br>"
      ],
      "text/plain": [
       "<IPython.core.display.HTML object>"
      ]
     },
     "metadata": {},
     "output_type": "display_data"
    }
   ],
   "source": [
    "%proving floor_increasing_less_eq"
   ]
  },
  {
   "cell_type": "code",
   "execution_count": null,
   "metadata": {},
   "outputs": [],
   "source": []
  }
 ],
 "metadata": {
  "kernelspec": {
   "display_name": "Python 3",
   "language": "python",
   "name": "python3"
  }
 },
 "nbformat": 4,
 "nbformat_minor": 0
}