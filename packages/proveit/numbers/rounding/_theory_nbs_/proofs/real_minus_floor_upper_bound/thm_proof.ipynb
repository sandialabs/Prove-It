{
 "cells": [
  {
   "cell_type": "markdown",
   "metadata": {},
   "source": [
    "Proof of <a class=\"ProveItLink\" href=\"../../../../../_theory_nbs_/theory.ipynb\">proveit</a>.<a class=\"ProveItLink\" href=\"../../../../_theory_nbs_/theory.ipynb\">numbers</a>.<a class=\"ProveItLink\" href=\"../../theory.ipynb\">rounding</a>.<a class=\"ProveItLink\" href=\"../../theorems.ipynb#real_minus_floor_upper_bound\">real_minus_floor_upper_bound</a> theorem\n",
    "========"
   ]
  },
  {
   "cell_type": "code",
   "execution_count": 1,
   "metadata": {},
   "outputs": [],
   "source": [
    "import proveit\n",
    "theory = proveit.Theory() # the theorem's theory"
   ]
  },
  {
   "cell_type": "code",
   "execution_count": 2,
   "metadata": {},
   "outputs": [
    {
     "data": {
      "text/html": [
       "With these <a href=\"allowed_presumptions.txt\">allowed</a>/<a href=\"disallowed_presumptions.txt\">disallowed</a> theorem/theory presumptions (e.g., to avoid circular dependencies), we begin our proof of<br><strong id=\"real_minus_floor_upper_bound\">real_minus_floor_upper_bound:</strong> <a class=\"ProveItLink\" href=\"../../../__pv_it/theorems/1da937839768f43ff773ebbf125bd8f76a3dd31c0/expr.ipynb\"><img src=\"data:image/png;base64,iVBORw0KGgoAAAANSUhEUgAAAL0AAAAVBAMAAADhtvKAAAAAMFBMVEX///8AAAAAAAAAAAAAAAAA\n",
       "AAAAAAAAAAAAAAAAAAAAAAAAAAAAAAAAAAAAAAAAAAAv3aB7AAAAD3RSTlMAq1RmmUTNIjK7EInv\n",
       "3XZ/CtNrAAAACXBIWXMAAA7EAAAOxAGVKw4bAAACSklEQVQ4y4WVTWgTQRTHX7Lb7CbTDgFPQpEF\n",
       "wYsWA4oHDxKprYIeFhUvggY9FARlBY8V6lURemtXIWyhh6aFUj0oKEgunkQo6klJScEP6KF4UsjJ\n",
       "efOxm83MOgP/MPNL9sfuezNZgP+OSEYb69nUK/hJIc4GDUT0cSKbXgW4Yb4ccR0nhwv8R2VsftrQ\n",
       "fuB/FXgGF3Nmfa0lYvXDndHvV2YHAj/CCi6a/W5DxO4/qZd2IHAlASCB2T8uY/ePJ+myPJf5GXbY\n",
       "/VUKyn9Exu6vpE/pfEkyP+KPvd6HAv9Fmc3dtbeB7pcY/aSuyvItGaoP4gsAzwr8t2Wa9JC7rfsl\n",
       "Rr8jd8HGTq7+iO+DVx+6cOrV2Xtq/knEiZxBqaH5FUZ/ucvpg8/5/iKuJiRUe3Y3DimB11ty/V7E\n",
       "B5ffXu1uD8eC9CuMfv83zkq3RvYP4nI/be85dimlcLqf97N90Df2V2D0j3WNfo5bZ9jH/vnvET+F\n",
       "zL/XzNcH4GZUSwx+gXl9ts31QfySnTIaHawEHc6J11a1bot0wkkg+v0rzPu7aO4v4nnWXgfaPlzh\n",
       "3H2enuYXIscfX4LLul9h9LuqZZs78kHJX4VLvGFseSqO44BSkrqeiqzul6cD3a8w+ifC9HyJA1Ca\n",
       "/HNgGPtdD57w+6dj11WtJxZE7Of3YbZ0hv4sUzxPWi7bqbz+8Eb112mK2P3T5gOaYvfHuz3wltns\n",
       "2s+t1VmFl2Rs/oI/4FG8EcdhDnRkbP6q+U1Ytb0gvb6IPo715E6cwskv8+UM/wOaSaIVXRsB7QAA\n",
       "AABJRU5ErkJggg==\n",
       "\" style=\"display:inline;vertical-align:middle;\" /></a><br>(see <a class=\"ProveItLink\" href=\"../../../__pv_it/theorems/532c7eac36eaf4cf49696e8452f7a090fc9f8d4d0/dependencies.ipynb\">dependencies</a>)<br>"
      ],
      "text/plain": [
       "<IPython.core.display.HTML object>"
      ]
     },
     "metadata": {},
     "output_type": "display_data"
    }
   ],
   "source": [
    "%proving real_minus_floor_upper_bound"
   ]
  },
  {
   "cell_type": "code",
   "execution_count": null,
   "metadata": {},
   "outputs": [],
   "source": []
  }
 ],
 "metadata": {
  "kernelspec": {
   "display_name": "Python 3",
   "language": "python",
   "name": "python3"
  }
 },
 "nbformat": 4,
 "nbformat_minor": 0
}