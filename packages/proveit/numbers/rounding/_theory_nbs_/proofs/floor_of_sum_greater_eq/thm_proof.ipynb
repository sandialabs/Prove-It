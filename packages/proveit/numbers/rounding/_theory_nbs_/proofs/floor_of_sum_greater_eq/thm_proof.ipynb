{
 "cells": [
  {
   "cell_type": "markdown",
   "metadata": {},
   "source": [
    "Proof of <a class=\"ProveItLink\" href=\"../../../../../_theory_nbs_/theory.ipynb\">proveit</a>.<a class=\"ProveItLink\" href=\"../../../../_theory_nbs_/theory.ipynb\">numbers</a>.<a class=\"ProveItLink\" href=\"../../theory.ipynb\">rounding</a>.<a class=\"ProveItLink\" href=\"../../theorems.ipynb#floor_of_sum_greater_eq\">floor_of_sum_greater_eq</a> theorem\n",
    "========"
   ]
  },
  {
   "cell_type": "code",
   "execution_count": 1,
   "metadata": {},
   "outputs": [],
   "source": [
    "import proveit\n",
    "theory = proveit.Theory() # the theorem's theory"
   ]
  },
  {
   "cell_type": "code",
   "execution_count": 2,
   "metadata": {},
   "outputs": [
    {
     "data": {
      "text/html": [
       "With these <a href=\"allowed_presumptions.txt\">allowed</a>/<a href=\"disallowed_presumptions.txt\">disallowed</a> theorem/theory presumptions (e.g., to avoid circular dependencies), we begin our proof of<br><strong id=\"floor_of_sum_greater_eq\">floor_of_sum_greater_eq:</strong> <a class=\"ProveItLink\" href=\"../../../__pv_it/theorems/5df333bd4cd493d9f27f645e3befe02ee78b51a00/expr.ipynb\"><img src=\"data:image/png;base64,iVBORw0KGgoAAAANSUhEUgAAARUAAAAWBAMAAAAcIxXLAAAAMFBMVEX///8AAAAAAAAAAAAAAAAA\n",
       "AAAAAAAAAAAAAAAAAAAAAAAAAAAAAAAAAAAAAAAAAAAv3aB7AAAAD3RSTlMAq1RmmUTNIjK7EInv\n",
       "3XZ/CtNrAAAACXBIWXMAAA7EAAAOxAGVKw4bAAADPElEQVRIx8WWTWjUQBiG381u9idp44KnWpBA\n",
       "Sy9aWUQUPfSH2ipIdVHpRbApCqIHiVepsHptxfYgugolhV5qpcQeKngoiyAIWqmiIGhKCqtikVLw\n",
       "0OLJSWZ2TbKT7PbkwLu72W/e5MnMN98M0EjTIRnR8TqWYAdPLEWjOhpriop4LiIu9tSx1HTwxM4D\n",
       "F0GVda7boln2YccsfksdFiVH1e9cX4lEkbSGWKRLoZY6LLhGdduZsolIlkSuhkXMccZlbjXMUmU5\n",
       "x2c5RJUkWSSrkSxNqGERbN4cKV8MvqXKcoDP0mS4cv5NRqdLR6MsiFdgOnbGksxRLVvWm2iWU8ws\n",
       "bewZW/CxSOUcpr3pIFzWeRYuy3wfpCxlkbNUJ4FH0SyXmDmBNXvQxyILJXT7UlMcMTgWLou5H/FN\n",
       "yhLXqG4gla19fudi7/XK7w/MfATdxm4fy53EClr8LFcNjoXHklYHEZugLOSVXGUMOe/nSK8V84qM\n",
       "5ya7fsVuXMAAXSSW9ZXMLHkDo8nGO98cjeg8C+0waFlvLes9Y5GIk9hdlvQmlWAHU/d4gSwJBcfs\n",
       "AAuc5/pzd9hIb3tz96PBtXDnSPyDewXKIpaooHWRj40TZfJG4hpibgV0WNZ7AnMEcQtP/CwDUEq8\n",
       "NR2wcFkSGn6xdSSsUGGBVDxFb0mSIjO/yxjHrHtbOTVVWXdTbFDvx0ow/SyTyGR5tS5g4bIQ5yRj\n",
       "iU9QYZTcLY6pNPl5sxM/aW1UEo+rxfgZNQvbMyVR9bP0YjjH2wMCFv64ZMXfjCVhUiFWcKJbbp9W\n",
       "7MXhYrGoKop8tnLju+wlT9vtBwP5Mr10RuftjQELl0VqLW8xluY8FVs7pZTz9QmvMeaOiyJeqEx+\n",
       "cyGi7i5y9+mAJaTuyhpjucXktlFZS2AO+CxukkXu5gteVFdHT9jeKGvSSy5LwMLdGxfxVGUsfUy0\n",
       "ZHxbWse4ivajGlIPyR9D382ZgUr0QdiZodmOmf/ODJbbChwL98ywSjKCsjjnhOBZQZX0DOk0Vyz6\n",
       "q99sGIvQ1R9ylpqtz9JWzjOWjE7lHXgjZg/xHpmyISxbdsh2JVickNfC6VCNdVqkEPwAlRcWYpeJ\n",
       "/9f+Ah6B/MXaK7/VAAAAAElFTkSuQmCC\n",
       "\" style=\"display:inline;vertical-align:middle;\" /></a><br>(see <a class=\"ProveItLink\" href=\"../../../__pv_it/theorems/3391341ff97ec3f0eb850ec2c64f2ceea65d00a40/dependencies.ipynb\">dependencies</a>)<br>"
      ],
      "text/plain": [
       "<IPython.core.display.HTML object>"
      ]
     },
     "metadata": {},
     "output_type": "display_data"
    }
   ],
   "source": [
    "%proving floor_of_sum_greater_eq"
   ]
  },
  {
   "cell_type": "code",
   "execution_count": null,
   "metadata": {},
   "outputs": [],
   "source": []
  }
 ],
 "metadata": {
  "kernelspec": {
   "display_name": "Python 3",
   "language": "python",
   "name": "python3"
  }
 },
 "nbformat": 4,
 "nbformat_minor": 0
}