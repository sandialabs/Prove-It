{
 "cells": [
  {
   "cell_type": "markdown",
   "metadata": {},
   "source": [
    "Proof of <a class=\"ProveItLink\" href=\"../../../../../_theory_nbs_/theory.ipynb\">proveit</a>.<a class=\"ProveItLink\" href=\"../../../../_theory_nbs_/theory.ipynb\">numbers</a>.<a class=\"ProveItLink\" href=\"../../theory.ipynb\">rounding</a>.<a class=\"ProveItLink\" href=\"../../theorems.ipynb#ceil_of_real_above_int\">ceil_of_real_above_int</a> theorem\n",
    "========"
   ]
  },
  {
   "cell_type": "code",
   "execution_count": 1,
   "metadata": {},
   "outputs": [],
   "source": [
    "import proveit\n",
    "theory = proveit.Theory() # the theorem's theory"
   ]
  },
  {
   "cell_type": "code",
   "execution_count": 2,
   "metadata": {},
   "outputs": [
    {
     "data": {
      "text/html": [
       "With these <a href=\"allowed_presumptions.txt\">allowed</a>/<a href=\"disallowed_presumptions.txt\">disallowed</a> theorem/theory presumptions (e.g., to avoid circular dependencies), we begin our proof of<br><strong id=\"ceil_of_real_above_int\">ceil_of_real_above_int:</strong> <a class=\"ProveItLink\" href=\"../../../__pv_it/theorems/d676908949314ff518d6734ab9e7bba12f92c56e0/expr.ipynb\"><img src=\"data:image/png;base64,iVBORw0KGgoAAAANSUhEUgAAARIAAAAXBAMAAAA1o90XAAAAMFBMVEX///8AAAAAAAAAAAAAAAAA\n",
       "AAAAAAAAAAAAAAAAAAAAAAAAAAAAAAAAAAAAAAAAAAAv3aB7AAAAD3RSTlMAq1RmmUTNIjK7EInv\n",
       "3XZ/CtNrAAAACXBIWXMAAA7EAAAOxAGVKw4bAAADf0lEQVRIx8WWTWgTQRTHX9JsPnbbdYsiaKEs\n",
       "tIhCI1FEqWBNqVZRIsFKDyoa8SB40FVPlSLRayuNqK2xUIIUxQ/CWqRiQQ2e/DYiQi8rW61CW60F\n",
       "D5WenK/dbJJJK0bxwSuzb/4z8+vMmzcB+EvmY16ys8AEwzBJI2i8m2fkH9hH5lwTzKJQRchu7qEC\n",
       "BbfrygZx69Q5dj4F8GkBEizYittHyia5zrzIxCXHEYk3lYus0DgkSHAWH2OibJIW5jlrsxrfEUVF\n",
       "2I5v2sHbEyTAtJJaNkmGec5WO0ngufX1bYR7OkiAI97y0yRGvSTJYXZWD01+nmDBK8N4UTaJR6cu\n",
       "Ti/vGuKR3KUgkZAzY9MtICqMBAm2A1z9veXCpbu8IeoeGDMjPJL1BGSpmnd39AaomGEkSHACfIpj\n",
       "Tteze/15SwaHm4/R1jx5XaVS3wCbU4t5JA2kmU/iVyPgSjASJAikpCjr9Y8lo1WalLavHA7IEtzX\n",
       "OSSi86MySj0OreQ7YhgvDeNtjqSH1tq80xHhNVSajAQJ3KadsFviSAHnToEzIMuw0Swm8TWnOCSA\n",
       "Judm7H5exgpz0BNnJFgQa0J/preNazIFDpPDOaCAQgKIZDLsIMFKtFvVGghj4Co4HRBm4RaPJMi7\n",
       "xZ4YfLXuDhYMHUXLacu86k0qORnH8OacP0MCsuQbCOVIiBKES4gmvSjVzeYPmMTFy64M6DySRl5l\n",
       "CyhwwSLBgk4Fn8mAn1XFtEQ2/1pWTpCA7OlPODKWKIV+PPvpIEyw6SWFuPvnYEZQC0ge4+q+01Ht\n",
       "4/aeKMIPiwQLXKRnFl2kZDKpgj5C9telu0wSkGVpd97dQcpuuloN1FqpnSUu7jLr1xbkSfWbQ2jR\n",
       "97wXUKwZn7VIbIE/44Mu8oCvDAE+yqpoZZwEZFnYl3KQYKX4QKWjn1rjR5lzaizZ4iz/LZZijMQW\n",
       "dEoxD7rPuM8DQlbUoSp+kAbQLR5xZCxRAkzgiUaFGWvidcw5LyCpwSEeyTDcURmJLfB8fjQJviuo\n",
       "taZ6qlfxPwF3Sy8NtH/RB1tzJESJMwwNrW+0n5qARr2EddA7bBCz8+QDOl9G0pGvv51MsiLnhhtw\n",
       "0RkormyrNFEL2P+qmKBewvq4v5TqxqMWSV+pkXuhVogVBgsXcpntuY8zzLkmF++WO1f4u7gCZiFo\n",
       "m4KFSIQmHf6Paf909l/m4vqrO8EERQAAAABJRU5ErkJggg==\n",
       "\" style=\"display:inline;vertical-align:middle;\" /></a><br>(see <a class=\"ProveItLink\" href=\"../../../__pv_it/theorems/e58f2932b1872d9870b7a5df2c95020521b034bd0/dependencies.ipynb\">dependencies</a>)<br>"
      ],
      "text/plain": [
       "<IPython.core.display.HTML object>"
      ]
     },
     "metadata": {},
     "output_type": "display_data"
    }
   ],
   "source": [
    "%proving ceil_of_real_above_int"
   ]
  },
  {
   "cell_type": "code",
   "execution_count": null,
   "metadata": {},
   "outputs": [],
   "source": []
  }
 ],
 "metadata": {
  "kernelspec": {
   "display_name": "Python 3",
   "language": "python",
   "name": "python3"
  }
 },
 "nbformat": 4,
 "nbformat_minor": 0
}