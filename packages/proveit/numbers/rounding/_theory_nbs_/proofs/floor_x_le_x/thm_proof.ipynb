{
 "cells": [
  {
   "cell_type": "markdown",
   "metadata": {},
   "source": [
    "Proof of <a class=\"ProveItLink\" href=\"../../../../../_theory_nbs_/theory.ipynb\">proveit</a>.<a class=\"ProveItLink\" href=\"../../../../_theory_nbs_/theory.ipynb\">numbers</a>.<a class=\"ProveItLink\" href=\"../../theory.ipynb\">rounding</a>.<a class=\"ProveItLink\" href=\"../../theorems.ipynb#floor_x_le_x\">floor_x_le_x</a> theorem\n",
    "========"
   ]
  },
  {
   "cell_type": "code",
   "execution_count": 1,
   "metadata": {},
   "outputs": [],
   "source": [
    "import proveit\n",
    "theory = proveit.Theory() # the theorem's theory"
   ]
  },
  {
   "cell_type": "code",
   "execution_count": 2,
   "metadata": {},
   "outputs": [
    {
     "data": {
      "text/html": [
       "With these <a href=\"allowed_presumptions.txt\">allowed</a>/<a href=\"disallowed_presumptions.txt\">disallowed</a> theorem/theory presumptions (e.g., to avoid circular dependencies), we begin our proof of<br><strong id=\"floor_x_le_x\">floor_x_le_x:</strong> <a class=\"ProveItLink\" href=\"../../../__pv_it/theorems/c68b5cfacaa00a4f0a64b832bc3c745ba71851820/expr.ipynb\"><img src=\"data:image/png;base64,iVBORw0KGgoAAAANSUhEUgAAAIoAAAAVBAMAAABrmWvBAAAAMFBMVEX///8AAAAAAAAAAAAAAAAA\n",
       "AAAAAAAAAAAAAAAAAAAAAAAAAAAAAAAAAAAAAAAAAAAv3aB7AAAAD3RSTlMAq1RmmUTNIjK7EInv\n",
       "3XZ/CtNrAAAACXBIWXMAAA7EAAAOxAGVKw4bAAACFUlEQVQ4y42UTUgbQRTH/9mPbLprF6EgKKUs\n",
       "WLyoVDxUFKortrZoLUHBi4IBD4IHWY8FD/GqFHsRXYWQQw6mgkQPLShKLr20WKTQ48KGth4Ec1V6\n",
       "6sxmdrMJs5oHu/Nm5s2P9968N8CdYkHNhmc8UXCP6AbEnmAmm1wj2QWaqdIeQelEAxT8Bl7RcYG/\n",
       "raYiKR2h6OJZrNLIPvIpUk8U5cVYyEw0KQiawac0IYJyfVxj982zikekpYNPUU/dWrt54NxxvkdQ\n",
       "xhlFLbetHwUUdSIAH5T2Tkgch8AbYCeCMs8oEkruhE9RW6rxm/oT6QJ4DixDaQ6d7P48vOTrPxml\n",
       "D0PZR4EvVYpoif9iZL8LeJDVkmw1UbKTuoYvBTb/yihpjIbyogQRJSCl6LgBCG6Q3JdpUq46Btw6\n",
       "CvAjIrtNnjZLvtQg+ZVf/7F0eoBQrsy6iCDf4BP3pucs2mfdRDtaJGet1riR91pHUzK+x5kKRd2M\n",
       "FVHgVF0++RgaGfvJt0KSKyKTwJRHkXaDSj6sUITbXFE26jqABI9na28xySoiRhdwQy7Mtm1D17VJ\n",
       "3/QD8+Wd+7SX1425sjBCL+yXv5AoKlj3fNHlGf9JeZhuqKeVC6asaCmJ3LmXFxyb1TZrhCL5JtLf\n",
       "syso20SbvizkRv39LQ5FdTxJVynva6H7tp2sWcg35MvWPS+m4kI4dyo1JjiOy39WLfwHeyd8dJUM\n",
       "MvgAAAAASUVORK5CYII=\n",
       "\" style=\"display:inline;vertical-align:middle;\" /></a><br>(see <a class=\"ProveItLink\" href=\"../../../__pv_it/theorems/efa9b366aa4016d471daef2e58b4bab478095cf10/dependencies.ipynb\">dependencies</a>)<br>"
      ],
      "text/plain": [
       "<IPython.core.display.HTML object>"
      ]
     },
     "metadata": {},
     "output_type": "display_data"
    }
   ],
   "source": [
    "%proving floor_x_le_x"
   ]
  },
  {
   "cell_type": "code",
   "execution_count": null,
   "metadata": {},
   "outputs": [],
   "source": []
  }
 ],
 "metadata": {
  "kernelspec": {
   "display_name": "Python 3",
   "language": "python",
   "name": "python3"
  }
 },
 "nbformat": 4,
 "nbformat_minor": 0
}