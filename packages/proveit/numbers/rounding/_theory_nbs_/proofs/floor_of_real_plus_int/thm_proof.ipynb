{
 "cells": [
  {
   "cell_type": "markdown",
   "metadata": {},
   "source": [
    "Proof of <a class=\"ProveItLink\" href=\"../../../../../_theory_nbs_/theory.ipynb\">proveit</a>.<a class=\"ProveItLink\" href=\"../../../../_theory_nbs_/theory.ipynb\">numbers</a>.<a class=\"ProveItLink\" href=\"../../theory.ipynb\">rounding</a>.<a class=\"ProveItLink\" href=\"../../theorems.ipynb#floor_of_real_plus_int\">floor_of_real_plus_int</a> theorem\n",
    "========"
   ]
  },
  {
   "cell_type": "code",
   "execution_count": 1,
   "metadata": {},
   "outputs": [],
   "source": [
    "import proveit\n",
    "theory = proveit.Theory() # the theorem's theory"
   ]
  },
  {
   "cell_type": "code",
   "execution_count": 2,
   "metadata": {},
   "outputs": [
    {
     "data": {
      "text/html": [
       "With these <a href=\"allowed_presumptions.txt\">allowed</a>/<a href=\"disallowed_presumptions.txt\">disallowed</a> theorem/theory presumptions (e.g., to avoid circular dependencies), we begin our proof of<br><strong id=\"floor_of_real_plus_int\">floor_of_real_plus_int:</strong> <a class=\"ProveItLink\" href=\"../../../__pv_it/theorems/9be89b50fad099202b9966a8da351184e9ee7bd50/expr.ipynb\"><img src=\"data:image/png;base64,iVBORw0KGgoAAAANSUhEUgAAAToAAAAVBAMAAAAk4T84AAAAMFBMVEX///8AAAAAAAAAAAAAAAAA\n",
       "AAAAAAAAAAAAAAAAAAAAAAAAAAAAAAAAAAAAAAAAAAAv3aB7AAAAD3RSTlMAq1RmmUTNIjK7EInv\n",
       "3XZ/CtNrAAAACXBIWXMAAA7EAAAOxAGVKw4bAAADlElEQVRIx52WX0gUQRzHf+7t3p6753ohBErI\n",
       "QWFCmUuEVg91oVkRxmF/XjK58CHqIa5Hy+iiR8ksENuEYyMhrAc36Q8Kyb0IkRkaRPawsZIZGYoQ\n",
       "ofTUzOzeuTvu7nku3LGzv/nu97Mz85v5AfhcizPgeyVBUP3ifF5N0v21pjSP/St/OCkKAdmvw5l8\n",
       "Gi7mJmvDEYP4R3B7uxedXxR2QeF0To07nYQ7fCf+R3H7khedX1RIFE5Hadzp4Ar6BVXsfxtPco8X\n",
       "nV+UldfRnc5HR2lydE7hPvQLxLA/ZhSjXnR+0TCso9uTj47S5OicwjDOm/fYH/cNemaFX7RqE3RV\n",
       "G6IL4h7tJCsndX3CO2d9oictJ2GpomvYYcLNPh1Lu9JRGpqureLGL5SsIk7GF8T/OMAjbzqfaLvl\n",
       "xMKs0ewwEYsrYSiZpWN1ckVcNDSddt8QVlAPlDtQR/yvAR+xeda8PnLVRkdFYVv/iZfW7SfLqR4O\n",
       "q2UOk7MlPXAr5TZ2lIai4+JfgV8FYDKosZv4F6ti3OoTmlXikghvtDU6WxS6y3vhC4wuWM1xyykF\n",
       "TaTdrOsfdH0a3alDcahV3egojUmXEwrCX2D+IY5l9PQe8WeM3LJvRN8rSXDQWKOzRVk0yyCHdsqU\n",
       "E8BHOitqAbaCH52loWeWWYYiNKscHrtW86xKHEJ/S8fmkmSPRnQLMdtJhqOBhu45c/dGjCw9S8Ct\n",
       "wDMnHUL7I7itO0pD0yG0UlkFZgovMdN/GG3NUrI8GB0kx4jIp2UbHY4+aZXDScHclOurs3Rp00no\n",
       "LcqA5qSbQBMkuo0dpaHpwhpaERoEsNUB078TfVUA0iFzw5bY/h57FYCj1+ehVOUIs2BkFyVOeezE\n",
       "rA5kuKjDBK1sKbHfjY7S0HQoleYDKWA1c/PB/kUpHECJXKcoSlSSxBY7HYlWolUQuKwoD0AU1WwF\n",
       "dNcah1PGjr1OE24KhLKoGx2loekuADxGz0twIn621UihDA9dZOwk7rxKV1DvoDEUIoPWcgdEK1yS\n",
       "KvysoDQeZ8VNPP5Ta/6dYoJFuwdZdzAao+j4ZZipNndlLYY/kFz4nC60CqA0HlVAg1UvZP3ZH2ML\n",
       "wD9Ed+fmtYEmio6LwG8ZOvB3b6kcuZh9Sd8m6ru+DVRQpCjqWFf9PleUuHdtLIwovY4Hg5ugG9wA\n",
       "XXHS/Iw8tflb/8KeN4CZ1A2vcI3+zV/D6O7in3iBIcLF8f++3BvTF+lrnAAAAABJRU5ErkJggg==\n",
       "\" style=\"display:inline;vertical-align:middle;\" /></a><br>(see <a class=\"ProveItLink\" href=\"../../../__pv_it/theorems/43d9b3a7da4f4c67e890162831b46aaeb5a4f1e60/dependencies.ipynb\">dependencies</a>)<br>"
      ],
      "text/plain": [
       "<IPython.core.display.HTML object>"
      ]
     },
     "metadata": {},
     "output_type": "display_data"
    }
   ],
   "source": [
    "%proving floor_of_real_plus_int"
   ]
  },
  {
   "cell_type": "code",
   "execution_count": null,
   "metadata": {},
   "outputs": [],
   "source": []
  }
 ],
 "metadata": {
  "kernelspec": {
   "display_name": "Python 3",
   "language": "python",
   "name": "python3"
  }
 },
 "nbformat": 4,
 "nbformat_minor": 0
}