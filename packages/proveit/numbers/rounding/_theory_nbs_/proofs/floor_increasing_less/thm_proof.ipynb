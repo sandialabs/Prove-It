{
 "cells": [
  {
   "cell_type": "markdown",
   "metadata": {},
   "source": [
    "Proof of <a class=\"ProveItLink\" href=\"../../../../../_theory_nbs_/theory.ipynb\">proveit</a>.<a class=\"ProveItLink\" href=\"../../../../_theory_nbs_/theory.ipynb\">numbers</a>.<a class=\"ProveItLink\" href=\"../../theory.ipynb\">rounding</a>.<a class=\"ProveItLink\" href=\"../../theorems.ipynb#floor_increasing_less\">floor_increasing_less</a> theorem\n",
    "========"
   ]
  },
  {
   "cell_type": "code",
   "execution_count": 1,
   "metadata": {},
   "outputs": [],
   "source": [
    "import proveit\n",
    "theory = proveit.Theory() # the theorem's theory"
   ]
  },
  {
   "cell_type": "code",
   "execution_count": 2,
   "metadata": {},
   "outputs": [
    {
     "data": {
      "text/html": [
       "With these <a href=\"allowed_presumptions.txt\">allowed</a>/<a href=\"disallowed_presumptions.txt\">disallowed</a> theorem/theory presumptions (e.g., to avoid circular dependencies), we begin our proof of<br><strong id=\"floor_increasing_less\">floor_increasing_less:</strong> <a class=\"ProveItLink\" href=\"../../../__pv_it/theorems/6a507d43a14b5e177b4ef66cb0c5ba12a89383fe0/expr.ipynb\"><img src=\"data:image/png;base64,iVBORw0KGgoAAAANSUhEUgAAANsAAAAXBAMAAABwhye8AAAAMFBMVEX///8AAAAAAAAAAAAAAAAA\n",
       "AAAAAAAAAAAAAAAAAAAAAAAAAAAAAAAAAAAAAAAAAAAv3aB7AAAAD3RSTlMAq1RmmUTNIjK7EInv\n",
       "3XZ/CtNrAAAACXBIWXMAAA7EAAAOxAGVKw4bAAADBElEQVRIx7WWT0gUcRTHvzO7s7M7s44DQZGC\n",
       "DCheSlgiioLMsDQKRTIEEWqpQ9AhNugUFutZoy0p2wIZQggzZPNgIBRLEARhSBB0WRlhM7ISoYPh\n",
       "qTczv52dnZ013ep3mN/vzZt5n9/7vT8zwF+NBCTdLXmGSyn6qLc7FA2BmCMJbV69S3kWOEeTaq4b\n",
       "q8TtwXZwCkknzPWl6mhSvCKuOVGOw2VgyDzXVHW4YKwS7sgpH++wHwhRNGWtOlwUFXA/5vwOE1Hd\n",
       "uhOqMnTN/jjppeEbO4RInM/l3lWJO80sSqt1wzMOTuqKuVNluh2SauNkmk8CDzeLzya6i8xiEEtG\n",
       "VwEn7dRKMjOzF4E1Gxeg1LoKUS231DJ77Iq1iGyC+8AsHsRRfYfjXSkurHWBS9k4Pkv2dLmn1Ep4\n",
       "Kd2jyHiR8cHpbuENwyXR4YqdWHKYEt4jati4MHnJG95MOZ6kklRw2CjHXavzw4FMVkwVYQO3kzZO\n",
       "IO8Qb6XLameeClNYAmcVv4lbaSvilPzNTpqGdlErUqF6DhPCOp5WKoRgHN9ZZvILdJmhYlcSu0N0\n",
       "5NO1+ggmLfuyOB4r4r5wqQtAPyElYyOcZVbH2Xnd47LIVCrziIo7DBcw28kgbTaA8TAtr7fgK3ot\n",
       "XPBRypUqsYiRRL+5Z/HxglJoQs9ti/yviaygeZpY0vFOFX4yXNDMBs7SrFtP1aMBB9LptKYo8hl3\n",
       "ZtYmEH5trbgMVwjNLeZdt9G0r2KLlurz6wxX4+RkOCua00e8xbDlnSIM6C7cCH2tpu7CeieaZC/V\n",
       "JLf0RZDjDHejcH9QjgcxBXwS1qgyrNhhrpgqYnYWJCmjFuO8Y61tC7hZPNMYrt3pHZ9frWBEQ9Oh\n",
       "OMQHdKNvOTPRUfSue2DV3ESAeHz7fcfcmA9OylnDid0iRcjGeT88mpSI0ANT6XSx8Evrjh/DE4w6\n",
       "4uQWvGvM9zBcpPTvQdA5o8/7RlkTaxDixR8QA/x8zs4cPpczvM86ypbcIlWTZy8QWjN/xPV+w38c\n",
       "4j+19htxe7y4FMvJMQAAAABJRU5ErkJggg==\n",
       "\" style=\"display:inline;vertical-align:middle;\" /></a><br>(see <a class=\"ProveItLink\" href=\"../../../__pv_it/theorems/802fae16ab0a396298b76d4fe0e02c38f735bd560/dependencies.ipynb\">dependencies</a>)<br>"
      ],
      "text/plain": [
       "<IPython.core.display.HTML object>"
      ]
     },
     "metadata": {},
     "output_type": "display_data"
    }
   ],
   "source": [
    "%proving floor_increasing_less"
   ]
  },
  {
   "cell_type": "code",
   "execution_count": null,
   "metadata": {},
   "outputs": [],
   "source": []
  }
 ],
 "metadata": {
  "kernelspec": {
   "display_name": "Python 3",
   "language": "python",
   "name": "python3"
  }
 },
 "nbformat": 4,
 "nbformat_minor": 0
}