{
 "cells": [
  {
   "cell_type": "markdown",
   "metadata": {},
   "source": [
    "Proof of <a class=\"ProveItLink\" href=\"../../../../../_theory_nbs_/theory.ipynb\">proveit</a>.<a class=\"ProveItLink\" href=\"../../../../_theory_nbs_/theory.ipynb\">numbers</a>.<a class=\"ProveItLink\" href=\"../../theory.ipynb\">rounding</a>.<a class=\"ProveItLink\" href=\"../../theorems.ipynb#round_of_real_is_real\">round_of_real_is_real</a> theorem\n",
    "========"
   ]
  },
  {
   "cell_type": "code",
   "execution_count": 1,
   "metadata": {},
   "outputs": [],
   "source": [
    "import proveit\n",
    "theory = proveit.Theory() # the theorem's theory\n",
    "from proveit import defaults, x\n",
    "from proveit.numbers.rounding import round_is_an_int"
   ]
  },
  {
   "cell_type": "code",
   "execution_count": 2,
   "metadata": {},
   "outputs": [
    {
     "data": {
      "text/html": [
       "With these <a href=\"allowed_presumptions.txt\">allowed</a>/<a href=\"disallowed_presumptions.txt\">disallowed</a> theorem/theory presumptions (e.g., to avoid circular dependencies), we begin our proof of<br><strong id=\"round_of_real_is_real\">round_of_real_is_real:</strong> <a class=\"ProveItLink\" href=\"../../../__pv_it/theorems/8987c4207bf12432dec3a17c9a4844e60015d60a0/expr.ipynb\"><img src=\"data:image/png;base64,iVBORw0KGgoAAAANSUhEUgAAAMMAAAAVBAMAAAAJNkerAAAAMFBMVEX///8AAAAAAAAAAAAAAAAA\n",
       "AAAAAAAAAAAAAAAAAAAAAAAAAAAAAAAAAAAAAAAAAAAv3aB7AAAAD3RSTlMAq1RmmUTNIjK7EInv\n",
       "3XZ/CtNrAAAACXBIWXMAAA7EAAAOxAGVKw4bAAADQUlEQVRIx4VVS2gTURQ9TSaZzEw6BgoFFUpA\n",
       "qQuRBhU/XdiU+ikUJSq6qWhQQShWU3QjVo3utBVGsGgq1ikWpXWR2IVfLBFxUUQp4kIokYnUXxdS\n",
       "FGkpKN73MjOJsZN5izfzTu7cc++5974AFVcCLkt0MXR1oIbdLD6az/1l+LrxW53jkQIeYsAyBwcr\n",
       "nX0HjkZp92SsYCJlv2td2LlR5/gWdj6ysBs5XiH+RSzDO/axo5ziNKRAiOPnmaDawl6ESAWKAzpt\n",
       "LfZx7f8UQiLOcT9ZKg6SBytV4RnbskVbvfD8lsvFbQqN416K1O/gpb4SxWFWiqKS/kLGe6eLWVSN\n",
       "hAr461zulYOXNqrqY7GNjMbyMXkqgirdl787NkDSLv36gylJ1Za/L+kZJSV434gdJUJdrE8U8Fag\n",
       "34HiEFlIbUoWZ2LirOLJoonOdUgnsC8hzZuhC8gb2wEvT8hvz4HW3fmbZcTwLoihErerHjQfs97f\n",
       "Aif8ExTqB2DygjCBWuyp1nAuKb+AwFxWUxHXo0mvIc14Wfwl5V7D243hkq7ErF7Pp2KqgodWs78E\n",
       "Li1igc4Az/WggTfQ0zE06ARUM6MgfZnEVv7tDNt7c7S0AoV0O2LiHsOm3pykGVLRaBQpeG8GNYh/\n",
       "6E2cAxpAuRCQjpkUIGJaPp7FcEkWgWi/hcc30fZ921SCTyhRTEeLQoFkRtqAMktv6gzzj58yAU0w\n",
       "hYJvFiMU6QQHSuei9RRMfJS6QE0s9od5CKoiDlgTR62DSTbIEQQzuAJJa8QreOaVdBi1HqqsZEDu\n",
       "q8qCRPNyeVSjhGKYxczxbqq2FwMB7OZGwg171u9TF/5ivRnCVaAZvZkMaaXGN0iG550A3pGeuaGs\n",
       "L1zoX1oHbYqTNHJ9Jl6VZNAs3Y6pVCqsqsouy+wyqcDzfzpFog+OrahL0lmuCct1j7q+slrSaYex\n",
       "fDWTqNAzg326ddNeQ+p42MKZcVZED89C9bWbdwGqk253+Xv77Yz5bL+Z++fytHB0K3GB2pfXAk+s\n",
       "cnujbhTFy6/FwcLGhU9j0xCvs0vmc2ZoqwVfc6OQrGl2uqzL8XupVOwfYNiNQtbKuZxicPxnNtw4\n",
       "zprPLw6/E/4X32beE37GYh0AAAAASUVORK5CYII=\n",
       "\" style=\"display:inline;vertical-align:middle;\" /></a><br>(see <a class=\"ProveItLink\" href=\"../../../__pv_it/theorems/f5fd0a78f233dc3489c0c0942e7f1179167418c70/dependencies.ipynb\">dependencies</a>)<br>"
      ],
      "text/plain": [
       "<IPython.core.display.HTML object>"
      ]
     },
     "metadata": {},
     "output_type": "display_data"
    },
    {
     "name": "stdout",
     "output_type": "stream",
     "text": [
      "round_of_real_is_real may now be readily provable (assuming required theorems are usable).  Simply execute \"%qed\".\n"
     ]
    }
   ],
   "source": [
    "%proving round_of_real_is_real"
   ]
  },
  {
   "cell_type": "code",
   "execution_count": 3,
   "metadata": {},
   "outputs": [
    {
     "data": {
      "text/html": [
       "<strong id=\"defaults.assumptions\">defaults.assumptions:</strong> <a class=\"ProveItLink\" href=\"../../../__pv_it/_proof_round_of_real_is_real/721b375d5dd5d4da2811702f75c886ecc42288280/expr.ipynb\"><img src=\"data:image/png;base64,iVBORw0KGgoAAAANSUhEUgAAAEAAAAAVBAMAAAAEBPWpAAAAMFBMVEX///8AAAAAAAAAAAAAAAAA\n",
       "AAAAAAAAAAAAAAAAAAAAAAAAAAAAAAAAAAAAAAAAAAAv3aB7AAAAD3RSTlMAInZUiRDNmWbv3US7\n",
       "qzJazP2FAAAACXBIWXMAAA7EAAAOxAGVKw4bAAABP0lEQVQoz2NgYBBgwAkYQQSTAaYER+aZbytP\n",
       "MDBwKwA5Jti08jBe4L5xlIFBg4GBNQG7AgeGA28ZGNgCGNgbcCkoZAPaVcDAiSKhs2pVAlwBD5Ax\n",
       "lcEMWX6bKpIJV2OBjAyGEiAZpBvnAvILYyqSFXyHE4EMX6ASBoYCpkvsC4A0mwBCwbT1iwKAjDaG\n",
       "xUCXCHB85QW5lQ3JkR6tYMdYMsxmYOBjYIf49eUqIDgAteJoB4jxHqSAgYFTAawgBtmbz3lAVuwE\n",
       "WcHAsF+AFcTjQlbA/hBklhXDIaDGDTcZWMDRooCkgPUAMJwZeoD+YLB/WsmwGSyejFBQwNDBs4EB\n",
       "GAqvGBjClZgrIFEaezoAFpt/BHiOfWZgWM3A9QA5KLecWoUSeYwLQNGBB4Ci8iA+BTIonscCQLoZ\n",
       "FXDLMwkwAACcdkctxTKJ6wAAAABJRU5ErkJggg==\n",
       "\" style=\"display:inline;vertical-align:middle;\" /></a><br>"
      ],
      "text/plain": [
       "<IPython.core.display.HTML object>"
      ]
     },
     "metadata": {},
     "output_type": "display_data"
    }
   ],
   "source": [
    "defaults.assumptions = round_of_real_is_real.conditions"
   ]
  },
  {
   "cell_type": "code",
   "execution_count": 4,
   "metadata": {},
   "outputs": [
    {
     "data": {
      "text/html": [
       "<span style=\"font-size:20px;\"> <a class=\"ProveItLink\" href=\"../../axioms.ipynb#round_is_an_int\" style=\"text-decoration: none\">&nbsp;&#x22A2;&nbsp;&nbsp;</a><a class=\"ProveItLink\" href=\"../../../__pv_it/axioms/7e9ffadf6c95626d0d18d18d4e0a54f55a70f30d0/expr.ipynb\"><img src=\"data:image/png;base64,iVBORw0KGgoAAAANSUhEUgAAAMIAAAAVBAMAAADm9CyVAAAAMFBMVEX///8AAAAAAAAAAAAAAAAA\n",
       "AAAAAAAAAAAAAAAAAAAAAAAAAAAAAAAAAAAAAAAAAAAv3aB7AAAAD3RSTlMAq1RmmUTNIjK7EInv\n",
       "3XZ/CtNrAAAACXBIWXMAAA7EAAAOxAGVKw4bAAADKUlEQVRIx41VbUgTYRz/bbvttrt5DgJLijEI\n",
       "6oOK+xTlh5z0Jlgw7OVDCQ4KIhE5CYLAaEWfrGhGVLOSC4QaQbuEXkwaRvTBohpRQchiIwvxg0gR\n",
       "hkT0v+dut5e8zYPtnuf3/P7v//9zQMVHBlZE4C2O+WryUmCFBGe27MDe++dY5mZQw33afr2FggZr\n",
       "3e7eUDHha7npoSgiLobv0PZHl9ciRCq4XxsoJriU0lMuBCk4xvAzWrZiyyvhghUsdCvFBEeo9NQm\n",
       "IyHEGK4ZFy3S7a1UgmelhFdGdm5lPrHwgXZblOEOcsNloWRDJQtHSgmH9Yr3mdly+84Z+JtM5rWF\n",
       "kg7ijfMd5EMqFxZmgrApztyd1Ajlde3sD52A+7m7E5SDB0ziRKEcHmVYexHeDgxbWCD7oqdDnMSp\n",
       "ML8o2ifRSns/kjK6ZM+S4XhI8nNpYBPKWqbBwTqY8H7wviKtTY/a+vLr98BxV5pT8QWYPkt66rC/\n",
       "JobTUeEFuIhOcMiOJRtF2cgkipovoue+UYtGDOdTl4uHJRGPVWP/EhisJWluAXiueLN4CyUZRrNC\n",
       "QI2qE9y6LVxiCijlmc/GLD4EFIbbs2aht1PxJQkt2YIF1pTeGPi/tOJ/A82gSAhIhg0CvIzexTqo\n",
       "0PYJbQRW63hkK/3N75qRJa27ycJcqJAl7KFfMgtxkVbSgqYePwUCWvMEdMsCedHEJNKmhTU0EcKC\n",
       "jo/1kF653hVIsOhEfiQ/R9Q0mNbGNwiviiF4Yi14DfuSmAygzi4zQiK8DiJxtjCJebNXQ/to7NI6\n",
       "PkCFdmDEjb3MAnfDDJU6jf+lzbYPV4A2XFBVSpQU2ezJ2j9wOqF5cDc6jcalyQqYvdoD/nJMx9no\n",
       "YZEaKx6PByRJ7MxbuEgjxOKemKGs305t9EdpL6wKCP4n/bM6YXTevk1T+1G/yeoP6qJdV6fi76bU\n",
       "PK5FNcnjPItBch7Kj01NtMrlXSDwRgWc4/qtUY5jQIxwFBmrA56GLK6z/54CweqSNHHuW2oO/HVa\n",
       "Hfiuju7Mn1+r9okyCSctCGX4vXg8XAIkqllIVPOlmo98doUEyeKDTvg/kJHSzOnyofMAAAAASUVO\n",
       "RK5CYII=\n",
       "\" style=\"display:inline;vertical-align:middle;\" /></a></span>"
      ],
      "text/plain": [
       "|- forall_{x in Real} (round(x) in Integer)"
      ]
     },
     "metadata": {},
     "output_type": "display_data"
    }
   ],
   "source": [
    "round_is_an_int"
   ]
  },
  {
   "cell_type": "code",
   "execution_count": 5,
   "metadata": {},
   "outputs": [
    {
     "data": {
      "text/html": [
       "<span style=\"font-size:20px;\"><a class=\"ProveItLink\" href=\"../../../../ordering/__pv_it/theorems/d1323f34847310a404e8089c2c268d3c2eb89dbf0/expr.ipynb\"><img src=\"data:image/png;base64,iVBORw0KGgoAAAANSUhEUgAAADQAAAAQBAMAAACra0H4AAAAMFBMVEX///8AAAAAAAAAAAAAAAAA\n",
       "AAAAAAAAAAAAAAAAAAAAAAAAAAAAAAAAAAAAAAAAAAAv3aB7AAAAD3RSTlMAEHarMolUmd1mIs3v\n",
       "RLtmgJDEAAAACXBIWXMAAA7EAAAOxAGVKw4bAAAAyklEQVQY02NgwACce9797nnJgBXwcRnwWj7E\n",
       "IRXA8MAZp1QVN4qQXkfHBrgUH7LMbUUkXYbCQIaQskhoApDm2ohkIMuzXUBGAZMRewOQ5l6AkDrd\n",
       "3yQA9MUCzo/ME0BSSM6InAiylIWBHWw3g08HEDyAGvhwJliMRwFMySE73p1PAMS6v4ARRHMgS7F7\n",
       "AfXLXbBhYAUJMCkgSTE+0GRgyHesYbgGFtmGkCpgmMl3gUFcia0yASwi/FYAFvL/FvC9/oYcHFdf\n",
       "QAIKCgBACzQrtGfvLgAAAABJRU5ErkJggg==\n",
       "\" style=\"display:inline;vertical-align:middle;\" /></a> <a class=\"ProveItLink\" href=\"../../../__pv_it/_proof_round_of_real_is_real/780f305bdcc6ed1c934aaf9bc35d05507b6fda6c0/proof.ipynb\" style=\"text-decoration: none\">&nbsp;&#x22A2;&nbsp;&nbsp;</a><a class=\"ProveItLink\" href=\"../../../__pv_it/axioms/3092db86d9a8a3b1e27b2eeb45fa2be5e9187daa0/expr.ipynb\"><img src=\"data:image/png;base64,iVBORw0KGgoAAAANSUhEUgAAAH4AAAAVBAMAAAByPkciAAAAMFBMVEX///8AAAAAAAAAAAAAAAAA\n",
       "AAAAAAAAAAAAAAAAAAAAAAAAAAAAAAAAAAAAAAAAAAAv3aB7AAAAD3RSTlMAMom7Iplm783dEER2\n",
       "q1TfLoYRAAAACXBIWXMAAA7EAAAOxAGVKw4bAAACS0lEQVQ4y51UTWgTQRT+utnNz2SzzUXEHnRt\n",
       "T2KUgIo/WFkQRA9izEHxIES8iJcWC4J/GPCnIB5CRTAoshK9KclFAgqaHuqpgfqD9pBDKIJ6SgtF\n",
       "IYr47exml1ZNNQMz8968+Wbee9+bAVZoljup6K3pTXeO15YZjPFvV4rbc39H9o1nOM511FfLDx5O\n",
       "Ih/tdnU/rxb5jha1l1q1DPTc5m74l0RovoPhzFJrwkJJpLvhN7BHAvW85/fO4h1nFsDhRLIb/hr7\n",
       "50C97ubxph9H38wqZxxSs3QyVa+IqRwSdrz+MLWbfL2Z/Elrlv1x/cEgU7FJgvYHaQjZuzgqoawy\n",
       "igMVdVExRjFCvYGyhaoVanuXZvSGVgBOSdDVwKG5sMPpvmhBM3EPmFjLXbN4HkvjUFKcheak/j4T\n",
       "Z4XbCXr4SYLyAd5lb6CfNm0euGRHargIu1xBy+ZCzKT1AgN0T8I6GfO5YrF4y6usjYDt0hRJQ/1B\n",
       "SV0AWqAXXOA5Ek+rrL2qzHrAWEml/A44Rrlcg7JISZ93wPgquDAC13/eYAne8UWiCj7+NStAcP+E\n",
       "U2o5REwMI5Q+jTMw2kq5iVmDT4dMlCofoHDPSYma9tnLPGURFaB+d4pxBtuA41htmgxBz58I1Yzb\n",
       "GiRprYGjeOFRyTJu+uzdgLonjbj0aHCK0T5JfWwkqYv3TdFYf3CS62uAR9PGEQd0V8LE22cuvrpj\n",
       "bMvlMXOF5xvzK1T1Io8PufX7by14NVqup/9ja0fY29v/U/rtoP9rqvdv6daf7b8ARYWPKS2lC4UA\n",
       "AAAASUVORK5CYII=\n",
       "\" style=\"display:inline;vertical-align:middle;\" /></a></span>"
      ],
      "text/plain": [
       "{x in Real} |- round(x) in Integer"
      ]
     },
     "metadata": {},
     "output_type": "display_data"
    }
   ],
   "source": [
    "round_is_an_int.instantiate({x:x})"
   ]
  },
  {
   "cell_type": "code",
   "execution_count": 6,
   "metadata": {},
   "outputs": [
    {
     "name": "stdout",
     "output_type": "stream",
     "text": [
      "proveit.numbers.rounding.round_of_real_is_real has been proven.\n"
     ]
    },
    {
     "data": {
      "text/html": [
       "<table><tr><th>&nbsp;</th><th>step type</th><th>requirements</th><th>statement</th></tr>\n",
       "<tr><td><a name=\"-0x5eba0700f57d75e3_step0\">0</a></td><td>generalization</td><td><a href=\"#-0x5eba0700f57d75e3_step1\">1</a></td><td><span style=\"font-size:20px;\"> <a class=\"ProveItLink\" href=\"../../../__pv_it/_proof_round_of_real_is_real/00c266ee76d36e207616ffaccff519cd25b932b40/proof.ipynb\" style=\"text-decoration: none\">&nbsp;&#x22A2;&nbsp;&nbsp;</a><a class=\"ProveItLink\" href=\"../../../__pv_it/theorems/8987c4207bf12432dec3a17c9a4844e60015d60a0/expr.ipynb\"><img src=\"data:image/png;base64,iVBORw0KGgoAAAANSUhEUgAAAMMAAAAVBAMAAAAJNkerAAAAMFBMVEX///8AAAAAAAAAAAAAAAAA\n",
       "AAAAAAAAAAAAAAAAAAAAAAAAAAAAAAAAAAAAAAAAAAAv3aB7AAAAD3RSTlMAq1RmmUTNIjK7EInv\n",
       "3XZ/CtNrAAAACXBIWXMAAA7EAAAOxAGVKw4bAAADQUlEQVRIx4VVS2gTURQ9TSaZzEw6BgoFFUpA\n",
       "qQuRBhU/XdiU+ikUJSq6qWhQQShWU3QjVo3utBVGsGgq1ikWpXWR2IVfLBFxUUQp4kIokYnUXxdS\n",
       "FGkpKN73MjOJsZN5izfzTu7cc++5974AFVcCLkt0MXR1oIbdLD6az/1l+LrxW53jkQIeYsAyBwcr\n",
       "nX0HjkZp92SsYCJlv2td2LlR5/gWdj6ysBs5XiH+RSzDO/axo5ziNKRAiOPnmaDawl6ESAWKAzpt\n",
       "LfZx7f8UQiLOcT9ZKg6SBytV4RnbskVbvfD8lsvFbQqN416K1O/gpb4SxWFWiqKS/kLGe6eLWVSN\n",
       "hAr461zulYOXNqrqY7GNjMbyMXkqgirdl787NkDSLv36gylJ1Za/L+kZJSV434gdJUJdrE8U8Fag\n",
       "34HiEFlIbUoWZ2LirOLJoonOdUgnsC8hzZuhC8gb2wEvT8hvz4HW3fmbZcTwLoihErerHjQfs97f\n",
       "Aif8ExTqB2DygjCBWuyp1nAuKb+AwFxWUxHXo0mvIc14Wfwl5V7D243hkq7ErF7Pp2KqgodWs78E\n",
       "Li1igc4Az/WggTfQ0zE06ARUM6MgfZnEVv7tDNt7c7S0AoV0O2LiHsOm3pykGVLRaBQpeG8GNYh/\n",
       "6E2cAxpAuRCQjpkUIGJaPp7FcEkWgWi/hcc30fZ921SCTyhRTEeLQoFkRtqAMktv6gzzj58yAU0w\n",
       "hYJvFiMU6QQHSuei9RRMfJS6QE0s9od5CKoiDlgTR62DSTbIEQQzuAJJa8QreOaVdBi1HqqsZEDu\n",
       "q8qCRPNyeVSjhGKYxczxbqq2FwMB7OZGwg171u9TF/5ivRnCVaAZvZkMaaXGN0iG550A3pGeuaGs\n",
       "L1zoX1oHbYqTNHJ9Jl6VZNAs3Y6pVCqsqsouy+wyqcDzfzpFog+OrahL0lmuCct1j7q+slrSaYex\n",
       "fDWTqNAzg326ddNeQ+p42MKZcVZED89C9bWbdwGqk253+Xv77Yz5bL+Z++fytHB0K3GB2pfXAk+s\n",
       "cnujbhTFy6/FwcLGhU9j0xCvs0vmc2ZoqwVfc6OQrGl2uqzL8XupVOwfYNiNQtbKuZxicPxnNtw4\n",
       "zprPLw6/E/4X32beE37GYh0AAAAASUVORK5CYII=\n",
       "\" style=\"display:inline;vertical-align:middle;\" /></a></span></td></tr>\n",
       "<tr><td><a name=\"-0x5eba0700f57d75e3_step1\">1</a></td><td>instantiation</td><td><a href=\"#-0x5eba0700f57d75e3_step4\">4</a>, <a href=\"#-0x5eba0700f57d75e3_step2\">2</a>, <a href=\"#-0x5eba0700f57d75e3_step3\">3</a></td><td><span style=\"font-size:20px;\"><a class=\"ProveItLink\" href=\"../../../../ordering/__pv_it/theorems/d1323f34847310a404e8089c2c268d3c2eb89dbf0/expr.ipynb\"><img src=\"data:image/png;base64,iVBORw0KGgoAAAANSUhEUgAAADQAAAAQBAMAAACra0H4AAAAMFBMVEX///8AAAAAAAAAAAAAAAAA\n",
       "AAAAAAAAAAAAAAAAAAAAAAAAAAAAAAAAAAAAAAAAAAAv3aB7AAAAD3RSTlMAEHarMolUmd1mIs3v\n",
       "RLtmgJDEAAAACXBIWXMAAA7EAAAOxAGVKw4bAAAAyklEQVQY02NgwACce9797nnJgBXwcRnwWj7E\n",
       "IRXA8MAZp1QVN4qQXkfHBrgUH7LMbUUkXYbCQIaQskhoApDm2ohkIMuzXUBGAZMRewOQ5l6AkDrd\n",
       "3yQA9MUCzo/ME0BSSM6InAiylIWBHWw3g08HEDyAGvhwJliMRwFMySE73p1PAMS6v4ARRHMgS7F7\n",
       "AfXLXbBhYAUJMCkgSTE+0GRgyHesYbgGFtmGkCpgmMl3gUFcia0yASwi/FYAFvL/FvC9/oYcHFdf\n",
       "QAIKCgBACzQrtGfvLgAAAABJRU5ErkJggg==\n",
       "\" style=\"display:inline;vertical-align:middle;\" /></a> <a class=\"ProveItLink\" href=\"../../../__pv_it/_proof_round_of_real_is_real/ae382f8d6f9b30f94db70c41e319db9a52fd9e970/proof.ipynb\" style=\"text-decoration: none\">&nbsp;&#x22A2;&nbsp;&nbsp;</a><a class=\"ProveItLink\" href=\"../../../__pv_it/theorems/2273a2986005ab19c26296accb7cbbf3dff99bde0/expr.ipynb\"><img src=\"data:image/png;base64,iVBORw0KGgoAAAANSUhEUgAAAH8AAAAVBAMAAACd/CwcAAAAMFBMVEX///8AAAAAAAAAAAAAAAAA\n",
       "AAAAAAAAAAAAAAAAAAAAAAAAAAAAAAAAAAAAAAAAAAAv3aB7AAAAD3RSTlMAMom7Iplm783dEER2\n",
       "q1TfLoYRAAAACXBIWXMAAA7EAAAOxAGVKw4bAAACQ0lEQVQ4y51UTWgTQRT+sj/ZZJNsgx4KHiTq\n",
       "SQgyoB5qFIOiUrBYeygKCiv+UDyYxUJPCrmItAeNBQ8BDwtVkUJJ8KLQlm7RXsRI8VCK5LAHBW9N\n",
       "IQhWEd9MNpsl4pbmHWbem5355vvee7PANqZ4cx492idvXuhaHxs/OTluhp2MPBym0ch4YbJ7MxvC\n",
       "4nU7DKHPpeGVH051A5yCHFkNA1ji8KN+ePNfADVfDAM4yAfLDzWP7rtyuegDsDCABzwFnStirSS8\n",
       "/dBhkJolCZEDygh9ytaq+oqJlJ2oPc8ep+p9Xv5Du1TKof7xy65DgCT0KlMBCbu/U3EleUSyMFhV\n",
       "mpJhoUBxHZU83uTlLe9aFTXnMhAVZGJ+P7Bzkz85m7OxEl3zDJjeq5awjvk4w4W0PgGVH4hTJW6g\n",
       "YK+RGpGOWCCJt0SJ9vTxSxrAfVtzcA92pYoNmxbivAO0KpDGJdEXDT72l8lYC0B+abarpTEov8lT\n",
       "NoENEA9aIKAWAAiWLCEYzAQYRIaPcYfkoeJAapKXbPDT+KHTQgGeBCSamCUJJbEQ7IOLp7kzzZvO\n",
       "hJbBCcjsNu7C2JIqLtYNypfsQM+lLJCcqCCedAIAM7y/lV+8Wqs4ClxFfyZDKpLFa7JjPFUhamds\n",
       "vrASbquiZI98gDOImjniJ5jtXyGxc9mv9TTF+pqr1/cNLfPMUXTF+XaHkxfpwFzObr/GIzj82N3u\n",
       "NT/xvUFvfj1QLu7gd9B5QqO9/U/kducprDcAnXUj7dTOe/P7/3z/C44wklTs5E31AAAAAElFTkSu\n",
       "QmCC\n",
       "\" style=\"display:inline;vertical-align:middle;\" /></a></span></td></tr>\n",
       "<tr><td>&nbsp;</td><td colspan=4 style=\"text-align:left\"><span style=\"font-size:20px;\"><a class=\"ProveItLink\" href=\"../../../../../__pv_it/common/09585084922504426caf1db2ff588a23a0932a960/expr.ipynb\"><img src=\"data:image/png;base64,iVBORw0KGgoAAAANSUhEUgAAAA8AAAAPBAMAAADJ+Ih5AAAAMFBMVEX///8AAAAAAAAAAAAAAAAA\n",
       "AAAAAAAAAAAAAAAAAAAAAAAAAAAAAAAAAAAAAAAAAAAv3aB7AAAAD3RSTlMAIs1UmauJMnZmRLsQ\n",
       "3e++988cAAAACXBIWXMAAA7EAAAOxAGVKw4bAAAAXklEQVQI12NgAAEhBijQh9LM/6EMlngBCCMx\n",
       "vwBMMzb0G0BkGOwngBmLGeoTwAwHBvkAEM2xxSV+A4hxgoGB/wJEhoH3AZDmAupg+gBkyAEx90cG\n",
       "htP/dRiY939KAABt3hLO6mcEjQAAAABJRU5ErkJggg==\n",
       "\" style=\"display:inline;vertical-align:middle;\" /></a> : <a class=\"ProveItLink\" href=\"../../../../number_sets/rational_numbers/__pv_it/common/3de3e316334b6ece430a3f1aee01ae68b192ecb30/expr.ipynb\"><img src=\"data:image/png;base64,iVBORw0KGgoAAAANSUhEUgAAABAAAAASBAMAAACgFUNZAAAAMFBMVEX///8AAAAAAAAAAAAAAAAA\n",
       "AAAAAAAAAAAAAAAAAAAAAAAAAAAAAAAAAAAAAAAAAAAv3aB7AAAAD3RSTlMAEIm7mSJ2q+8y3WZE\n",
       "zVRISQrpAAAACXBIWXMAAA7EAAAOxAGVKw4bAAAAh0lEQVQI12NgYBAyNnZlAAK2igmsyxWADG1t\n",
       "BoYjhxkYOBUuMDAwcycwMAsWMDAwTbjAIMyZwMDA98CTYRLPBgYGng37GI5xPwAqTHjNEMQHFslh\n",
       "YIaocWRgFoXq4oGYA1ToDTT5ONBkBiaQXQ4gW0P+3vdkAINKoE1gwJ6Q/vIAmPXctnkDAHEUIwom\n",
       "ORJuAAAAAElFTkSuQmCC\n",
       "\" style=\"display:inline;vertical-align:middle;\" /></a>, <a class=\"ProveItLink\" href=\"../../../../../__pv_it/common/a9162d1c3cc0470c02e5daf414500903a7a419230/expr.ipynb\"><img src=\"data:image/png;base64,iVBORw0KGgoAAAANSUhEUgAAABAAAAAOBAMAAADUAYG5AAAAMFBMVEX///8AAAAAAAAAAAAAAAAA\n",
       "AAAAAAAAAAAAAAAAAAAAAAAAAAAAAAAAAAAAAAAAAAAv3aB7AAAAD3RSTlMAZrurzTLvInZEmRDd\n",
       "VIkafcLnAAAACXBIWXMAAA7EAAAOxAGVKw4bAAAAb0lEQVQI12NgYBD6b2zsFMAABEkMDMxfgTT7\n",
       "DwYGzl9ABiOQxwjkMDB/YGBgSQcy2BQYuG1AiuM1OkwEQJr6Cxh4E0EMNSB+D5L6DMTyDQwMrB+B\n",
       "DPsJDAwc34GcL0AOSwIDwzRvoHH6n41NdBkYAF/iFeJ4bEa2AAAAAElFTkSuQmCC\n",
       "\" style=\"display:inline;vertical-align:middle;\" /></a> : <a class=\"ProveItLink\" href=\"../../../../number_sets/real_numbers/__pv_it/common/93cac87a1a47e613f7a83b23ef7891599a1a4cca0/expr.ipynb\"><img src=\"data:image/png;base64,iVBORw0KGgoAAAANSUhEUgAAAA8AAAAPBAMAAADJ+Ih5AAAAMFBMVEX///8AAAAAAAAAAAAAAAAA\n",
       "AAAAAAAAAAAAAAAAAAAAAAAAAAAAAAAAAAAAAAAAAAAv3aB7AAAAD3RSTlMAZs3vu90iq0QQiTKZ\n",
       "VHZ+Ip2vAAAACXBIWXMAAA7EAAAOxAGVKw4bAAAAX0lEQVQI12MQMvFXNRFgAAKHdIZ2kQkgRhYD\n",
       "C3cBhMGToABjOEAY7DOhUlsuJYAYyapfX4K1ZwlOYoAwWCZCDMziPuAJYTCcToEypvCB5BxyGBgF\n",
       "PBgYgLa7MbjoXwAAK2IYKL6KYFkAAAAASUVORK5CYII=\n",
       "\" style=\"display:inline;vertical-align:middle;\" /></a>, <a class=\"ProveItLink\" href=\"../../../../../__pv_it/common/a0d9d672aa5e272d907247690c152cc2c6daafb70/expr.ipynb\"><img src=\"data:image/png;base64,iVBORw0KGgoAAAANSUhEUgAAAAsAAAAJBAMAAAAWSsseAAAAMFBMVEX///8AAAAAAAAAAAAAAAAA\n",
       "AAAAAAAAAAAAAAAAAAAAAAAAAAAAAAAAAAAAAAAAAAAv3aB7AAAAD3RSTlMAEHarMolUmd1mIs3v\n",
       "RLtmgJDEAAAACXBIWXMAAA7EAAAOxAGVKw4bAAAAQklEQVQI12NgEFIWCU1gYChgMmJvYOBcwPmR\n",
       "eQIDCwP7BgYQ4FEAU/cXMAowyF2wYWBlYMh3rGG4xsAgrsRWmcAAAFEjCyBvD0T9AAAAAElFTkSu\n",
       "QmCC\n",
       "\" style=\"display:inline;vertical-align:middle;\" /></a> : <a class=\"ProveItLink\" href=\"../../../__pv_it/axioms/53c17575b742ba698ad41e0baf6cc4dd395328730/expr.ipynb\"><img src=\"data:image/png;base64,iVBORw0KGgoAAAANSUhEUgAAAFUAAAAVBAMAAADFg78FAAAAMFBMVEX///8AAAAAAAAAAAAAAAAA\n",
       "AAAAAAAAAAAAAAAAAAAAAAAAAAAAAAAAAAAAAAAAAAAv3aB7AAAAD3RSTlMAMom7Iplm783dEER2\n",
       "q1TfLoYRAAAACXBIWXMAAA7EAAAOxAGVKw4bAAABrElEQVQoz4VTO0jDUBQ9zadpkzYtLoKDVJ2E\n",
       "IlmcVOgkFBSlQ1FQqKCLgw0OTgpdRHCqgptDBgURJNkcFEzBblaKQynSoYPObaE4VBHva2MEh+QO\n",
       "993zOPe9805uAJ8QnDUF/3h21nsvUuBombKacGAk50WONSldufDYi/tgUMq6cMuLO8mS7kLJ8OAe\n",
       "MrkFF4ZyCEwIGZKdrFhyOYeooVQukrNk1UvpmwgiPU1+eh2aArgqOD7D6UhbQpdTdeQJN2CmcJvi\n",
       "e4PDIKJirwLBAuZDRWo+B05HxSLquAtrWIrLexDZ9WHyYhN5o0ZydIzEWGsbODAkG/swTAstgzbC\n",
       "zFnJAuJY6fvdHlgjaRC+qBI6QAt0Om1Qz4ALOoFCIUtICkwbXJeqSJsR8SHTRh6OBihdXJOGIulk\n",
       "nygHKYE58No2dqH2OLOJukrjwtuQZ6I6SE+Q7v5k1lQxDaxjOJEgGZHCBm+rZyL6RqmdS11p9u1T\n",
       "iuyu8TIJu0m+NeKE5VpTbowtltiDCK3Z7ztMjuU3kidulfYd37+Jyfpy+d//QdB8ubL2v8kjFpz1\n",
       "EfgBBypsPfjewgoAAAAASUVORK5CYII=\n",
       "\" style=\"display:inline;vertical-align:middle;\" /></a></span></td></tr><tr><td><a name=\"-0x5eba0700f57d75e3_step2\">2</a></td><td>conjecture</td><td></td><td><span style=\"font-size:20px;\"> <a class=\"ProveItLink\" href=\"../../../../number_sets/real_numbers/_theory_nbs_/proofs/rational_within_real/thm_proof.ipynb\" style=\"text-decoration: none\">&nbsp;&#x22A2;&nbsp;&nbsp;</a><a class=\"ProveItLink\" href=\"../../../../number_sets/real_numbers/__pv_it/theorems/e682cd49905f8b52fcd025dd4d0c53b5fa6a75840/expr.ipynb\"><img src=\"data:image/png;base64,iVBORw0KGgoAAAANSUhEUgAAADsAAAASBAMAAAAXqLt+AAAAMFBMVEX///8AAAAAAAAAAAAAAAAA\n",
       "AAAAAAAAAAAAAAAAAAAAAAAAAAAAAAAAAAAAAAAAAAAv3aB7AAAAD3RSTlMAEIm7mSJ2q+8y3WZE\n",
       "zVRISQrpAAAACXBIWXMAAA7EAAAOxAGVKw4bAAABDUlEQVQoz2NgYBAyNnZlQAN7m+1vNW8Asdgq\n",
       "JrAuV0CXNwhnOL5ZAMjQ1mZgOHIYQzqIgZmzgIGBU+ECAwMzdwKmNEsASEYQqIZpwgWwIJvVqlWr\n",
       "JsClDRgYhDmBGvkeeILEOC8FIOlmB2mcxAN0IM+GfSAxqQBkwye/BXKPcT8Aakt4DRKrQbI74tav\n",
       "RCAdxAfWnQMSu4DstN2yIJoZYrcjyOoCZGlmaVCwMIvCXc6KIs3pYAikeSD+fgASW4Dib89gEMMb\n",
       "GGrHIaHmjSItzAYynQkU5g5gMd4DCOkQBu4NNiBWyN/7nhAxRvODiBgzZTC+D7ayEh7iPMqwQEUC\n",
       "7AnpLw8w4AbPbSFRjwkApNtJpbpIiBIAAAAASUVORK5CYII=\n",
       "\" style=\"display:inline;vertical-align:middle;\" /></a></span></td></tr>\n",
       "<tr><td>&nbsp;</td><td colspan=4 style-\"text-align:left\"><a class=\"ProveItLink\" href=\"../../../../number_sets/real_numbers/_theory_nbs_/proofs/rational_within_real/thm_proof.ipynb\">proveit.numbers.number_sets.real_numbers.rational_within_real</a></td></tr><tr><td><a name=\"-0x5eba0700f57d75e3_step3\">3</a></td><td>instantiation</td><td><a href=\"#-0x5eba0700f57d75e3_step4\">4</a>, <a href=\"#-0x5eba0700f57d75e3_step5\">5</a>, <a href=\"#-0x5eba0700f57d75e3_step6\">6</a></td><td><span style=\"font-size:20px;\"><a class=\"ProveItLink\" href=\"../../../../ordering/__pv_it/theorems/d1323f34847310a404e8089c2c268d3c2eb89dbf0/expr.ipynb\"><img src=\"data:image/png;base64,iVBORw0KGgoAAAANSUhEUgAAADQAAAAQBAMAAACra0H4AAAAMFBMVEX///8AAAAAAAAAAAAAAAAA\n",
       "AAAAAAAAAAAAAAAAAAAAAAAAAAAAAAAAAAAAAAAAAAAv3aB7AAAAD3RSTlMAEHarMolUmd1mIs3v\n",
       "RLtmgJDEAAAACXBIWXMAAA7EAAAOxAGVKw4bAAAAyklEQVQY02NgwACce9797nnJgBXwcRnwWj7E\n",
       "IRXA8MAZp1QVN4qQXkfHBrgUH7LMbUUkXYbCQIaQskhoApDm2ohkIMuzXUBGAZMRewOQ5l6AkDrd\n",
       "3yQA9MUCzo/ME0BSSM6InAiylIWBHWw3g08HEDyAGvhwJliMRwFMySE73p1PAMS6v4ARRHMgS7F7\n",
       "AfXLXbBhYAUJMCkgSTE+0GRgyHesYbgGFtmGkCpgmMl3gUFcia0yASwi/FYAFvL/FvC9/oYcHFdf\n",
       "QAIKCgBACzQrtGfvLgAAAABJRU5ErkJggg==\n",
       "\" style=\"display:inline;vertical-align:middle;\" /></a> <a class=\"ProveItLink\" href=\"../../../__pv_it/_proof_round_of_real_is_real/c7a732e0aeb83b50937f5c175555acb4b5395b5a0/proof.ipynb\" style=\"text-decoration: none\">&nbsp;&#x22A2;&nbsp;&nbsp;</a><a class=\"ProveItLink\" href=\"../../../__pv_it/_proof_round_of_real_is_real/61412306e046264466af377db1c33af36e298be30/expr.ipynb\"><img src=\"data:image/png;base64,iVBORw0KGgoAAAANSUhEUgAAAIAAAAAVBAMAAAB8u/sIAAAAMFBMVEX///8AAAAAAAAAAAAAAAAA\n",
       "AAAAAAAAAAAAAAAAAAAAAAAAAAAAAAAAAAAAAAAAAAAv3aB7AAAAD3RSTlMAMom7Iplm783dEER2\n",
       "q1TfLoYRAAAACXBIWXMAAA7EAAAOxAGVKw4bAAACX0lEQVQ4y51TSWgTURj+MkvSzCTT4EXsQccW\n",
       "CkKEQBUUFIKi6EFMg1QUhIgX8WCLguAGObhcBENFMLgQTb2IkoBIwXV6qBcbqAq2hxyiiMtBUqGI\n",
       "RBG/eTOTQKIT9MFb/vfe9/070GUknU3Bf45Izdl1q+Pp1tDQLj9o4HyK6ztPfN5BPRdTrpt+DL1U\n",
       "rmU9qafQ9jw4CDy470fwjBA140nBVJuBJrnloOVDsIoz1BJPuJavz1+xd/nOLCDFsj4EZzk/tcRz\n",
       "TjAvuK4UA1Ru1IYRGFDStDNeKWvTGUQLemUivoFpezX1i9/SnHcrN/sZjtUCt80LxRKdKD1zGJKc\n",
       "lsawvawsSsYYRilXUUpiMik3XLWpSFXNAQcF7oxn0OMgSQPWB2ztyakmrgHjy/ltHo/CCeyMaceg\n",
       "2u7dYPSSwUaU2j4KXNPnTYaw4AX6enlQF4DThZCFUyiUyqgXeBG2c3ySWhwqrBCxP57P5y+JIDox\n",
       "2OtkK5SA8pMn5StQB+3gBYkEAV9FribtRUt4FsgTXhb2UCpZkBZ5iizYaHzTeDEKxwWqSGpU8lng\n",
       "ch6B7tQBAzFuF10GIRMbIScO4QiMhlSqYd5gHzEfxfIcJP45IHAzzbSOsBKfsBKVHxTUWawF9mGp\n",
       "adKLSHa/bBmXVYjc1ft246mbUVZ0zSOQ7F5geerCqP5penwv/r4ao6y9qWnVlTumeL8MuD1jjNio\n",
       "qwKmvX7oMWz5fnG4azeHY95Jcb3XB5xS5njp2wntLdRqq+aIWpW35W4Ma7zD5j88fll3NNONoNjB\n",
       "9I9Dcd2MJP/y4Tfg9pzN2ghjpQAAAABJRU5ErkJggg==\n",
       "\" style=\"display:inline;vertical-align:middle;\" /></a></span></td></tr>\n",
       "<tr><td>&nbsp;</td><td colspan=4 style=\"text-align:left\"><span style=\"font-size:20px;\"><a class=\"ProveItLink\" href=\"../../../../../__pv_it/common/09585084922504426caf1db2ff588a23a0932a960/expr.ipynb\"><img src=\"data:image/png;base64,iVBORw0KGgoAAAANSUhEUgAAAA8AAAAPBAMAAADJ+Ih5AAAAMFBMVEX///8AAAAAAAAAAAAAAAAA\n",
       "AAAAAAAAAAAAAAAAAAAAAAAAAAAAAAAAAAAAAAAAAAAv3aB7AAAAD3RSTlMAIs1UmauJMnZmRLsQ\n",
       "3e++988cAAAACXBIWXMAAA7EAAAOxAGVKw4bAAAAXklEQVQI12NgAAEhBijQh9LM/6EMlngBCCMx\n",
       "vwBMMzb0G0BkGOwngBmLGeoTwAwHBvkAEM2xxSV+A4hxgoGB/wJEhoH3AZDmAupg+gBkyAEx90cG\n",
       "htP/dRiY939KAABt3hLO6mcEjQAAAABJRU5ErkJggg==\n",
       "\" style=\"display:inline;vertical-align:middle;\" /></a> : <a class=\"ProveItLink\" href=\"../../../../number_sets/integers/__pv_it/common/e6b4e90f9467053e055a4fd2f735c0bb79cb79300/expr.ipynb\"><img src=\"data:image/png;base64,iVBORw0KGgoAAAANSUhEUgAAAA4AAAAPBAMAAAAmOuNHAAAAMFBMVEX///8AAAAAAAAAAAAAAAAA\n",
       "AAAAAAAAAAAAAAAAAAAAAAAAAAAAAAAAAAAAAAAAAAAv3aB7AAAAD3RSTlMAVM3vu91mdqsymYki\n",
       "EESqKsraAAAACXBIWXMAAA7EAAAOxAGVKw4bAAAAcElEQVQI12NgVP6sEuqcwMDuMYFBgYmBgWsB\n",
       "A3vCRgYGjgMMV3gdGBh4GRhWckxgAALOhlkgioHlgi+YlmYrANMgXUDALrCPgeECA8MVHqCuHgaG\n",
       "TqAJvB8YOBe8AhoWANSly8Dj6MDw2MnExd5kAwAL3Bb91imKgQAAAABJRU5ErkJggg==\n",
       "\" style=\"display:inline;vertical-align:middle;\" /></a>, <a class=\"ProveItLink\" href=\"../../../../../__pv_it/common/a9162d1c3cc0470c02e5daf414500903a7a419230/expr.ipynb\"><img src=\"data:image/png;base64,iVBORw0KGgoAAAANSUhEUgAAABAAAAAOBAMAAADUAYG5AAAAMFBMVEX///8AAAAAAAAAAAAAAAAA\n",
       "AAAAAAAAAAAAAAAAAAAAAAAAAAAAAAAAAAAAAAAAAAAv3aB7AAAAD3RSTlMAZrurzTLvInZEmRDd\n",
       "VIkafcLnAAAACXBIWXMAAA7EAAAOxAGVKw4bAAAAb0lEQVQI12NgYBD6b2zsFMAABEkMDMxfgTT7\n",
       "DwYGzl9ABiOQxwjkMDB/YGBgSQcy2BQYuG1AiuM1OkwEQJr6Cxh4E0EMNSB+D5L6DMTyDQwMrB+B\n",
       "DPsJDAwc34GcL0AOSwIDwzRvoHH6n41NdBkYAF/iFeJ4bEa2AAAAAElFTkSuQmCC\n",
       "\" style=\"display:inline;vertical-align:middle;\" /></a> : <a class=\"ProveItLink\" href=\"../../../../number_sets/rational_numbers/__pv_it/common/3de3e316334b6ece430a3f1aee01ae68b192ecb30/expr.ipynb\"><img src=\"data:image/png;base64,iVBORw0KGgoAAAANSUhEUgAAABAAAAASBAMAAACgFUNZAAAAMFBMVEX///8AAAAAAAAAAAAAAAAA\n",
       "AAAAAAAAAAAAAAAAAAAAAAAAAAAAAAAAAAAAAAAAAAAv3aB7AAAAD3RSTlMAEIm7mSJ2q+8y3WZE\n",
       "zVRISQrpAAAACXBIWXMAAA7EAAAOxAGVKw4bAAAAh0lEQVQI12NgYBAyNnZlAAK2igmsyxWADG1t\n",
       "BoYjhxkYOBUuMDAwcycwMAsWMDAwTbjAIMyZwMDA98CTYRLPBgYGng37GI5xPwAqTHjNEMQHFslh\n",
       "YIaocWRgFoXq4oGYA1ToDTT5ONBkBiaQXQ4gW0P+3vdkAINKoE1gwJ6Q/vIAmPXctnkDAHEUIwom\n",
       "ORJuAAAAAElFTkSuQmCC\n",
       "\" style=\"display:inline;vertical-align:middle;\" /></a>, <a class=\"ProveItLink\" href=\"../../../../../__pv_it/common/a0d9d672aa5e272d907247690c152cc2c6daafb70/expr.ipynb\"><img src=\"data:image/png;base64,iVBORw0KGgoAAAANSUhEUgAAAAsAAAAJBAMAAAAWSsseAAAAMFBMVEX///8AAAAAAAAAAAAAAAAA\n",
       "AAAAAAAAAAAAAAAAAAAAAAAAAAAAAAAAAAAAAAAAAAAv3aB7AAAAD3RSTlMAEHarMolUmd1mIs3v\n",
       "RLtmgJDEAAAACXBIWXMAAA7EAAAOxAGVKw4bAAAAQklEQVQI12NgEFIWCU1gYChgMmJvYOBcwPmR\n",
       "eQIDCwP7BgYQ4FEAU/cXMAowyF2wYWBlYMh3rGG4xsAgrsRWmcAAAFEjCyBvD0T9AAAAAElFTkSu\n",
       "QmCC\n",
       "\" style=\"display:inline;vertical-align:middle;\" /></a> : <a class=\"ProveItLink\" href=\"../../../__pv_it/axioms/53c17575b742ba698ad41e0baf6cc4dd395328730/expr.ipynb\"><img src=\"data:image/png;base64,iVBORw0KGgoAAAANSUhEUgAAAFUAAAAVBAMAAADFg78FAAAAMFBMVEX///8AAAAAAAAAAAAAAAAA\n",
       "AAAAAAAAAAAAAAAAAAAAAAAAAAAAAAAAAAAAAAAAAAAv3aB7AAAAD3RSTlMAMom7Iplm783dEER2\n",
       "q1TfLoYRAAAACXBIWXMAAA7EAAAOxAGVKw4bAAABrElEQVQoz4VTO0jDUBQ9zadpkzYtLoKDVJ2E\n",
       "IlmcVOgkFBSlQ1FQqKCLgw0OTgpdRHCqgptDBgURJNkcFEzBblaKQynSoYPObaE4VBHva2MEh+QO\n",
       "993zOPe9805uAJ8QnDUF/3h21nsvUuBombKacGAk50WONSldufDYi/tgUMq6cMuLO8mS7kLJ8OAe\n",
       "MrkFF4ZyCEwIGZKdrFhyOYeooVQukrNk1UvpmwgiPU1+eh2aArgqOD7D6UhbQpdTdeQJN2CmcJvi\n",
       "e4PDIKJirwLBAuZDRWo+B05HxSLquAtrWIrLexDZ9WHyYhN5o0ZydIzEWGsbODAkG/swTAstgzbC\n",
       "zFnJAuJY6fvdHlgjaRC+qBI6QAt0Om1Qz4ALOoFCIUtICkwbXJeqSJsR8SHTRh6OBihdXJOGIulk\n",
       "nygHKYE58No2dqH2OLOJukrjwtuQZ6I6SE+Q7v5k1lQxDaxjOJEgGZHCBm+rZyL6RqmdS11p9u1T\n",
       "iuyu8TIJu0m+NeKE5VpTbowtltiDCK3Z7ztMjuU3kidulfYd37+Jyfpy+d//QdB8ubL2v8kjFpz1\n",
       "EfgBBypsPfjewgoAAAAASUVORK5CYII=\n",
       "\" style=\"display:inline;vertical-align:middle;\" /></a></span></td></tr><tr><td><a name=\"-0x5eba0700f57d75e3_step4\">4</a></td><td>theorem</td><td></td><td><span style=\"font-size:20px;\"> <a class=\"ProveItLink\" href=\"../../../../../logic/sets/inclusion/_theory_nbs_/proofs/superset_membership_from_proper_subset/thm_proof.ipynb\" style=\"text-decoration: none\">&nbsp;&#x22A2;&nbsp;&nbsp;</a><a class=\"ProveItLink\" href=\"../../../../../logic/sets/inclusion/__pv_it/theorems/8c2c4c3c91efdbf0b7e86e4a2d99545aea54db000/expr.ipynb\"><img src=\"data:image/png;base64,iVBORw0KGgoAAAANSUhEUgAAAPcAAAAXBAMAAAAl5sTiAAAAMFBMVEX///8AAAAAAAAAAAAAAAAA\n",
       "AAAAAAAAAAAAAAAAAAAAAAAAAAAAAAAAAAAAAAAAAAAv3aB7AAAAD3RSTlMAq1RmmUTNIjK7EInv\n",
       "3XZ/CtNrAAAACXBIWXMAAA7EAAAOxAGVKw4bAAADd0lEQVRIx7WWX0gUQRzHv/d37/bsPEmkgvCo\n",
       "6DGOlKIH80IqxTIhCMmoS4jQl85HqXR7jKQO4aCTyhMkKBJOsSDuodMeKqIQ6qEHF7YMpAhTMz0M\n",
       "qtmZ2925013lwIG7nZ3fb+cz8/s3AxTZ/LJkrSBYCaMbmMCi+ZrXUfhiJTzPZgio/d3FwG3qwx4y\n",
       "kdtTaw4f+ldW1i7BH6Lwo+rQ5WLgTnXv7qiJ/KHJ+BvAlgU6KPyG6p5YMXCParQuM3mdSST8BVyL\n",
       "QDWFu5PkESzK52T1GDWTZ/LevslyhHYcZNcOsoCSpDqDg1jfXVzAVZFHxMzleYIz37WebY7gXpFf\n",
       "iIbsO1l+Wxy8RJanUiZiJxGIsztuUcsIHfp4SQziTpJjvgCF1wP9dDxZ8LnWEc3gTgnego90XbIz\n",
       "MsNn5STyo/LOg9kKNUEcEQrvhEDTTXxNpTcX0w00+72a/hO9GHgGGsfuGnDyXWfBknTdLSSMDqI2\n",
       "uZXCDYWfUdhfqm7JULg3yeqFb4FFxCT8mTz4CzKPZySRIMuvAX5wRaYfTzWl29vjmi4zLxFLOMZe\n",
       "emXSWEbdU5XICj1zdAa7whbW8p5FRBiOOR7u6lWARrajcqCWg+/T481Zb+jqcIBNiUfGzufJr5Yo\n",
       "udjOETlMh5WL7KsghkM83O8O6Lk4AfEDB3c7yDT+r93HMW3oGmaHaxmP6YvO9vwif5XqlicZfJTG\n",
       "oj9no57p6m3g4YozgkGtQlQdkTi4by+JtxlbrE2MGbqseRWIcVsGNBv8in4cLZMFLKnejTH4Nbra\n",
       "lpw3ayCW83CXRELgNLR4GAxzcGGcdEJeRXKFDN2cOAB7dijjYiZr05OAyM91sFSkcBvdTGO6Mplz\n",
       "a08zB3emR1awC1o8CL/5U43aqDQKR3si0ZfTzdl3EmKTsmc/exuMs5S0DcyXVfRRTzRz56KfMCXm\n",
       "VlzgU02BkMVVaPHgyq46UnsR9aQM3Vz7lJeCrffl/Fp4nZ+BGLY0KKYgrED8yJldNegCvKxK9CQx\n",
       "HC6AC5lnCLMyxXRzrdq6QNZxcOc4xFOXPBM48CfdEOTgJwIYWmoWaWlxXEmP9a26TDS1zibRJem6\n",
       "WsRFLa85sdXXETvX9+YV0wQtMqY3GfF5Il5QaC2PaXVphfCzZvA1avt6V7BuK+EMibKpAnho4/DN\n",
       "bcLmI/4DAvPgMMgumckAAAAASUVORK5CYII=\n",
       "\" style=\"display:inline;vertical-align:middle;\" /></a></span></td></tr>\n",
       "<tr><td>&nbsp;</td><td colspan=4 style-\"text-align:left\"><a class=\"ProveItLink\" href=\"../../../../../logic/sets/inclusion/_theory_nbs_/proofs/superset_membership_from_proper_subset/thm_proof.ipynb\">proveit.logic.sets.inclusion.superset_membership_from_proper_subset</a></td></tr><tr><td><a name=\"-0x5eba0700f57d75e3_step5\">5</a></td><td>conjecture</td><td></td><td><span style=\"font-size:20px;\"> <a class=\"ProveItLink\" href=\"../../../../number_sets/rational_numbers/_theory_nbs_/proofs/int_within_rational/thm_proof.ipynb\" style=\"text-decoration: none\">&nbsp;&#x22A2;&nbsp;&nbsp;</a><a class=\"ProveItLink\" href=\"../../../../number_sets/rational_numbers/__pv_it/theorems/f82654afbc103bcf8089d3e3a9860276c55562410/expr.ipynb\"><img src=\"data:image/png;base64,iVBORw0KGgoAAAANSUhEUgAAADkAAAASBAMAAAATXWtDAAAAMFBMVEX///8AAAAAAAAAAAAAAAAA\n",
       "AAAAAAAAAAAAAAAAAAAAAAAAAAAAAAAAAAAAAAAAAAAv3aB7AAAAD3RSTlMAVM3vu91mdqsymYki\n",
       "EESqKsraAAAACXBIWXMAAA7EAAAOxAGVKw4bAAABHUlEQVQoz2NgVP6sEuqcwIAKeLe4eB0A0uwe\n",
       "ExgUmNAkGSosGY52A2muBQzsCRvRJLmzExj41jkwMHAcYLjC64AmOxtkmEM60AYGhpUcEyCCJaGh\n",
       "oZEghu8NILETbB9nwyyI5KQ9MDc5TAeSglwgTSwXfCFiMTCDOTc8A5LP2ASApDRbAViM4wFMlq8g\n",
       "EUhOZwT5E+YfhLd4NoiB9LIDlbML7GNguADkzUC4GWovUPQKD9A/PUDeCYSs7wmYmzuBPub9AGSw\n",
       "ImRfg/0LtJxzwSuggwJAoYYIbC5QWPU5gPyjy8DjCA4sPYTmHcBw7gLSj51MXOxNNoCErvRdgLt6\n",
       "vdKvCWjB+9oVGpJAuyakM+AB7eyN83DLMrYouzEAAFryQoQ5NsiXAAAAAElFTkSuQmCC\n",
       "\" style=\"display:inline;vertical-align:middle;\" /></a></span></td></tr>\n",
       "<tr><td>&nbsp;</td><td colspan=4 style-\"text-align:left\"><a class=\"ProveItLink\" href=\"../../../../number_sets/rational_numbers/_theory_nbs_/proofs/int_within_rational/thm_proof.ipynb\">proveit.numbers.number_sets.rational_numbers.int_within_rational</a></td></tr><tr><td><a name=\"-0x5eba0700f57d75e3_step6\">6</a></td><td>instantiation</td><td><a href=\"#-0x5eba0700f57d75e3_step7\">7</a>, <a href=\"#-0x5eba0700f57d75e3_step8\">8</a></td><td><span style=\"font-size:20px;\"><a class=\"ProveItLink\" href=\"../../../../ordering/__pv_it/theorems/d1323f34847310a404e8089c2c268d3c2eb89dbf0/expr.ipynb\"><img src=\"data:image/png;base64,iVBORw0KGgoAAAANSUhEUgAAADQAAAAQBAMAAACra0H4AAAAMFBMVEX///8AAAAAAAAAAAAAAAAA\n",
       "AAAAAAAAAAAAAAAAAAAAAAAAAAAAAAAAAAAAAAAAAAAv3aB7AAAAD3RSTlMAEHarMolUmd1mIs3v\n",
       "RLtmgJDEAAAACXBIWXMAAA7EAAAOxAGVKw4bAAAAyklEQVQY02NgwACce9797nnJgBXwcRnwWj7E\n",
       "IRXA8MAZp1QVN4qQXkfHBrgUH7LMbUUkXYbCQIaQskhoApDm2ohkIMuzXUBGAZMRewOQ5l6AkDrd\n",
       "3yQA9MUCzo/ME0BSSM6InAiylIWBHWw3g08HEDyAGvhwJliMRwFMySE73p1PAMS6v4ARRHMgS7F7\n",
       "AfXLXbBhYAUJMCkgSTE+0GRgyHesYbgGFtmGkCpgmMl3gUFcia0yASwi/FYAFvL/FvC9/oYcHFdf\n",
       "QAIKCgBACzQrtGfvLgAAAABJRU5ErkJggg==\n",
       "\" style=\"display:inline;vertical-align:middle;\" /></a> <a class=\"ProveItLink\" href=\"../../../__pv_it/_proof_round_of_real_is_real/780f305bdcc6ed1c934aaf9bc35d05507b6fda6c0/proof.ipynb\" style=\"text-decoration: none\">&nbsp;&#x22A2;&nbsp;&nbsp;</a><a class=\"ProveItLink\" href=\"../../../__pv_it/axioms/3092db86d9a8a3b1e27b2eeb45fa2be5e9187daa0/expr.ipynb\"><img src=\"data:image/png;base64,iVBORw0KGgoAAAANSUhEUgAAAH4AAAAVBAMAAAByPkciAAAAMFBMVEX///8AAAAAAAAAAAAAAAAA\n",
       "AAAAAAAAAAAAAAAAAAAAAAAAAAAAAAAAAAAAAAAAAAAv3aB7AAAAD3RSTlMAMom7Iplm783dEER2\n",
       "q1TfLoYRAAAACXBIWXMAAA7EAAAOxAGVKw4bAAACS0lEQVQ4y51UTWgTQRT+utnNz2SzzUXEHnRt\n",
       "T2KUgIo/WFkQRA9izEHxIES8iJcWC4J/GPCnIB5CRTAoshK9KclFAgqaHuqpgfqD9pBDKIJ6SgtF\n",
       "IYr47exml1ZNNQMz8968+Wbee9+bAVZoljup6K3pTXeO15YZjPFvV4rbc39H9o1nOM511FfLDx5O\n",
       "Ih/tdnU/rxb5jha1l1q1DPTc5m74l0RovoPhzFJrwkJJpLvhN7BHAvW85/fO4h1nFsDhRLIb/hr7\n",
       "50C97ubxph9H38wqZxxSs3QyVa+IqRwSdrz+MLWbfL2Z/Elrlv1x/cEgU7FJgvYHaQjZuzgqoawy\n",
       "igMVdVExRjFCvYGyhaoVanuXZvSGVgBOSdDVwKG5sMPpvmhBM3EPmFjLXbN4HkvjUFKcheak/j4T\n",
       "Z4XbCXr4SYLyAd5lb6CfNm0euGRHargIu1xBy+ZCzKT1AgN0T8I6GfO5YrF4y6usjYDt0hRJQ/1B\n",
       "SV0AWqAXXOA5Ek+rrL2qzHrAWEml/A44Rrlcg7JISZ93wPgquDAC13/eYAne8UWiCj7+NStAcP+E\n",
       "U2o5REwMI5Q+jTMw2kq5iVmDT4dMlCofoHDPSYma9tnLPGURFaB+d4pxBtuA41htmgxBz58I1Yzb\n",
       "GiRprYGjeOFRyTJu+uzdgLonjbj0aHCK0T5JfWwkqYv3TdFYf3CS62uAR9PGEQd0V8LE22cuvrpj\n",
       "bMvlMXOF5xvzK1T1Io8PufX7by14NVqup/9ja0fY29v/U/rtoP9rqvdv6daf7b8ARYWPKS2lC4UA\n",
       "AAAASUVORK5CYII=\n",
       "\" style=\"display:inline;vertical-align:middle;\" /></a></span></td></tr>\n",
       "<tr><td>&nbsp;</td><td colspan=4 style=\"text-align:left\"><span style=\"font-size:20px;\"><a class=\"ProveItLink\" href=\"../../../../../__pv_it/common/a0d9d672aa5e272d907247690c152cc2c6daafb70/expr.ipynb\"><img src=\"data:image/png;base64,iVBORw0KGgoAAAANSUhEUgAAAAsAAAAJBAMAAAAWSsseAAAAMFBMVEX///8AAAAAAAAAAAAAAAAA\n",
       "AAAAAAAAAAAAAAAAAAAAAAAAAAAAAAAAAAAAAAAAAAAv3aB7AAAAD3RSTlMAEHarMolUmd1mIs3v\n",
       "RLtmgJDEAAAACXBIWXMAAA7EAAAOxAGVKw4bAAAAQklEQVQI12NgEFIWCU1gYChgMmJvYOBcwPmR\n",
       "eQIDCwP7BgYQ4FEAU/cXMAowyF2wYWBlYMh3rGG4xsAgrsRWmcAAAFEjCyBvD0T9AAAAAElFTkSu\n",
       "QmCC\n",
       "\" style=\"display:inline;vertical-align:middle;\" /></a> : <a class=\"ProveItLink\" href=\"../../../../../__pv_it/common/a0d9d672aa5e272d907247690c152cc2c6daafb70/expr.ipynb\"><img src=\"data:image/png;base64,iVBORw0KGgoAAAANSUhEUgAAAAsAAAAJBAMAAAAWSsseAAAAMFBMVEX///8AAAAAAAAAAAAAAAAA\n",
       "AAAAAAAAAAAAAAAAAAAAAAAAAAAAAAAAAAAAAAAAAAAv3aB7AAAAD3RSTlMAEHarMolUmd1mIs3v\n",
       "RLtmgJDEAAAACXBIWXMAAA7EAAAOxAGVKw4bAAAAQklEQVQI12NgEFIWCU1gYChgMmJvYOBcwPmR\n",
       "eQIDCwP7BgYQ4FEAU/cXMAowyF2wYWBlYMh3rGG4xsAgrsRWmcAAAFEjCyBvD0T9AAAAAElFTkSu\n",
       "QmCC\n",
       "\" style=\"display:inline;vertical-align:middle;\" /></a></span></td></tr><tr><td><a name=\"-0x5eba0700f57d75e3_step7\">7</a></td><td>axiom</td><td></td><td><span style=\"font-size:20px;\"> <a class=\"ProveItLink\" href=\"../../axioms.ipynb#round_is_an_int\" style=\"text-decoration: none\">&nbsp;&#x22A2;&nbsp;&nbsp;</a><a class=\"ProveItLink\" href=\"../../../__pv_it/axioms/7e9ffadf6c95626d0d18d18d4e0a54f55a70f30d0/expr.ipynb\"><img src=\"data:image/png;base64,iVBORw0KGgoAAAANSUhEUgAAAMIAAAAVBAMAAADm9CyVAAAAMFBMVEX///8AAAAAAAAAAAAAAAAA\n",
       "AAAAAAAAAAAAAAAAAAAAAAAAAAAAAAAAAAAAAAAAAAAv3aB7AAAAD3RSTlMAq1RmmUTNIjK7EInv\n",
       "3XZ/CtNrAAAACXBIWXMAAA7EAAAOxAGVKw4bAAADKUlEQVRIx41VbUgTYRz/bbvttrt5DgJLijEI\n",
       "6oOK+xTlh5z0Jlgw7OVDCQ4KIhE5CYLAaEWfrGhGVLOSC4QaQbuEXkwaRvTBohpRQchiIwvxg0gR\n",
       "hkT0v+dut5e8zYPtnuf3/P7v//9zQMVHBlZE4C2O+WryUmCFBGe27MDe++dY5mZQw33afr2FggZr\n",
       "3e7eUDHha7npoSgiLobv0PZHl9ciRCq4XxsoJriU0lMuBCk4xvAzWrZiyyvhghUsdCvFBEeo9NQm\n",
       "IyHEGK4ZFy3S7a1UgmelhFdGdm5lPrHwgXZblOEOcsNloWRDJQtHSgmH9Yr3mdly+84Z+JtM5rWF\n",
       "kg7ijfMd5EMqFxZmgrApztyd1Ajlde3sD52A+7m7E5SDB0ziRKEcHmVYexHeDgxbWCD7oqdDnMSp\n",
       "ML8o2ifRSns/kjK6ZM+S4XhI8nNpYBPKWqbBwTqY8H7wviKtTY/a+vLr98BxV5pT8QWYPkt66rC/\n",
       "JobTUeEFuIhOcMiOJRtF2cgkipovoue+UYtGDOdTl4uHJRGPVWP/EhisJWluAXiueLN4CyUZRrNC\n",
       "QI2qE9y6LVxiCijlmc/GLD4EFIbbs2aht1PxJQkt2YIF1pTeGPi/tOJ/A82gSAhIhg0CvIzexTqo\n",
       "0PYJbQRW63hkK/3N75qRJa27ycJcqJAl7KFfMgtxkVbSgqYePwUCWvMEdMsCedHEJNKmhTU0EcKC\n",
       "jo/1kF653hVIsOhEfiQ/R9Q0mNbGNwiviiF4Yi14DfuSmAygzi4zQiK8DiJxtjCJebNXQ/to7NI6\n",
       "PkCFdmDEjb3MAnfDDJU6jf+lzbYPV4A2XFBVSpQU2ezJ2j9wOqF5cDc6jcalyQqYvdoD/nJMx9no\n",
       "YZEaKx6PByRJ7MxbuEgjxOKemKGs305t9EdpL6wKCP4n/bM6YXTevk1T+1G/yeoP6qJdV6fi76bU\n",
       "PK5FNcnjPItBch7Kj01NtMrlXSDwRgWc4/qtUY5jQIxwFBmrA56GLK6z/54CweqSNHHuW2oO/HVa\n",
       "Hfiuju7Mn1+r9okyCSctCGX4vXg8XAIkqllIVPOlmo98doUEyeKDTvg/kJHSzOnyofMAAAAASUVO\n",
       "RK5CYII=\n",
       "\" style=\"display:inline;vertical-align:middle;\" /></a></span></td></tr>\n",
       "<tr><td>&nbsp;</td><td colspan=4 style-\"text-align:left\"><a class=\"ProveItLink\" href=\"../../axioms.ipynb#round_is_an_int\">proveit.numbers.rounding.round_is_an_int</a></td></tr><tr><td><a name=\"-0x5eba0700f57d75e3_step8\">8</a></td><td>assumption</td><td></td><td><span style=\"font-size:20px;\"><a class=\"ProveItLink\" href=\"../../../../ordering/__pv_it/theorems/d1323f34847310a404e8089c2c268d3c2eb89dbf0/expr.ipynb\"><img src=\"data:image/png;base64,iVBORw0KGgoAAAANSUhEUgAAADQAAAAQBAMAAACra0H4AAAAMFBMVEX///8AAAAAAAAAAAAAAAAA\n",
       "AAAAAAAAAAAAAAAAAAAAAAAAAAAAAAAAAAAAAAAAAAAv3aB7AAAAD3RSTlMAEHarMolUmd1mIs3v\n",
       "RLtmgJDEAAAACXBIWXMAAA7EAAAOxAGVKw4bAAAAyklEQVQY02NgwACce9797nnJgBXwcRnwWj7E\n",
       "IRXA8MAZp1QVN4qQXkfHBrgUH7LMbUUkXYbCQIaQskhoApDm2ohkIMuzXUBGAZMRewOQ5l6AkDrd\n",
       "3yQA9MUCzo/ME0BSSM6InAiylIWBHWw3g08HEDyAGvhwJliMRwFMySE73p1PAMS6v4ARRHMgS7F7\n",
       "AfXLXbBhYAUJMCkgSTE+0GRgyHesYbgGFtmGkCpgmMl3gUFcia0yASwi/FYAFvL/FvC9/oYcHFdf\n",
       "QAIKCgBACzQrtGfvLgAAAABJRU5ErkJggg==\n",
       "\" style=\"display:inline;vertical-align:middle;\" /></a> <a class=\"ProveItLink\" href=\"../../../__pv_it/_proof_round_of_real_is_real/f4d30bd5c69ca835d295c6e2594e4611254792f40/proof.ipynb\" style=\"text-decoration: none\">&nbsp;&#x22A2;&nbsp;&nbsp;</a><a class=\"ProveItLink\" href=\"../../../../ordering/__pv_it/theorems/d1323f34847310a404e8089c2c268d3c2eb89dbf0/expr.ipynb\"><img src=\"data:image/png;base64,iVBORw0KGgoAAAANSUhEUgAAADQAAAAQBAMAAACra0H4AAAAMFBMVEX///8AAAAAAAAAAAAAAAAA\n",
       "AAAAAAAAAAAAAAAAAAAAAAAAAAAAAAAAAAAAAAAAAAAv3aB7AAAAD3RSTlMAEHarMolUmd1mIs3v\n",
       "RLtmgJDEAAAACXBIWXMAAA7EAAAOxAGVKw4bAAAAyklEQVQY02NgwACce9797nnJgBXwcRnwWj7E\n",
       "IRXA8MAZp1QVN4qQXkfHBrgUH7LMbUUkXYbCQIaQskhoApDm2ohkIMuzXUBGAZMRewOQ5l6AkDrd\n",
       "3yQA9MUCzo/ME0BSSM6InAiylIWBHWw3g08HEDyAGvhwJliMRwFMySE73p1PAMS6v4ARRHMgS7F7\n",
       "AfXLXbBhYAUJMCkgSTE+0GRgyHesYbgGFtmGkCpgmMl3gUFcia0yASwi/FYAFvL/FvC9/oYcHFdf\n",
       "QAIKCgBACzQrtGfvLgAAAABJRU5ErkJggg==\n",
       "\" style=\"display:inline;vertical-align:middle;\" /></a></span></td></tr>\n",
       "</table>"
      ],
      "text/plain": [
       "\tstep type\trequirements\tstatement\n",
       "0\tgeneralization\t1\t|- forall_{x in Real} (round(x) in Real)\n",
       "1\tinstantiation\t4, 2, 3\t{x in Real} |- round(x) in Real\n",
       "\tA : Rational, B : Real, x : round(x)\n",
       "2\tconjecture\t\t|- Rational proper_subset Real\n",
       "\tproveit.numbers.number_sets.real_numbers.rational_within_real\n",
       "3\tinstantiation\t4, 5, 6\t{x in Real} |- round(x) in Rational\n",
       "\tA : Integer, B : Rational, x : round(x)\n",
       "4\ttheorem\t\t|- forall_{A, B | A proper_subset B} [forall_{x in A} (x in B)]\n",
       "\tproveit.logic.sets.inclusion.superset_membership_from_proper_subset\n",
       "5\tconjecture\t\t|- Integer proper_subset Rational\n",
       "\tproveit.numbers.number_sets.rational_numbers.int_within_rational\n",
       "6\tinstantiation\t7, 8\t{x in Real} |- round(x) in Integer\n",
       "\tx : x\n",
       "7\taxiom\t\t|- forall_{x in Real} (round(x) in Integer)\n",
       "\tproveit.numbers.rounding.round_is_an_int\n",
       "8\tassumption\t\t{x in Real} |- x in Real"
      ]
     },
     "execution_count": 6,
     "metadata": {},
     "output_type": "execute_result"
    }
   ],
   "source": [
    "%qed"
   ]
  },
  {
   "cell_type": "code",
   "execution_count": null,
   "metadata": {},
   "outputs": [],
   "source": []
  }
 ],
 "metadata": {
  "kernelspec": {
   "display_name": "Python 3",
   "language": "python",
   "name": "python3"
  }
 },
 "nbformat": 4,
 "nbformat_minor": 0
}