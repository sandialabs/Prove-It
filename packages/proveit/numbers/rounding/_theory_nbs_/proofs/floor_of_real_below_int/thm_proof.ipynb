{
 "cells": [
  {
   "cell_type": "markdown",
   "metadata": {},
   "source": [
    "Proof of <a class=\"ProveItLink\" href=\"../../../../../_theory_nbs_/theory.ipynb\">proveit</a>.<a class=\"ProveItLink\" href=\"../../../../_theory_nbs_/theory.ipynb\">numbers</a>.<a class=\"ProveItLink\" href=\"../../theory.ipynb\">rounding</a>.<a class=\"ProveItLink\" href=\"../../theorems.ipynb#floor_of_real_below_int\">floor_of_real_below_int</a> theorem\n",
    "========"
   ]
  },
  {
   "cell_type": "code",
   "execution_count": 1,
   "metadata": {},
   "outputs": [],
   "source": [
    "import proveit\n",
    "theory = proveit.Theory() # the theorem's theory"
   ]
  },
  {
   "cell_type": "code",
   "execution_count": 2,
   "metadata": {},
   "outputs": [
    {
     "data": {
      "text/html": [
       "With these <a href=\"allowed_presumptions.txt\">allowed</a>/<a href=\"disallowed_presumptions.txt\">disallowed</a> theorem/theory presumptions (e.g., to avoid circular dependencies), we begin our proof of<br><strong id=\"floor_of_real_below_int\">floor_of_real_below_int:</strong> <a class=\"ProveItLink\" href=\"../../../__pv_it/theorems/0e8c202293c27c6534c8c51f528a8552ce3c03f80/expr.ipynb\"><img src=\"data:image/png;base64,iVBORw0KGgoAAAANSUhEUgAAARIAAAAXBAMAAAA1o90XAAAAMFBMVEX///8AAAAAAAAAAAAAAAAA\n",
       "AAAAAAAAAAAAAAAAAAAAAAAAAAAAAAAAAAAAAAAAAAAv3aB7AAAAD3RSTlMAq1RmmUTNIjK7EInv\n",
       "3XZ/CtNrAAAACXBIWXMAAA7EAAAOxAGVKw4bAAADrElEQVRIx8WWXWgUVxTH/7uzk52dSaYrPokh\n",
       "LESwBYMLFcU+yEqsVVRYEslD68dqH/yAlhH6YlGJ+Galbj/8GAMykaDG2DCVkpIUJPgkirJgpYtl\n",
       "ZVPTFtMihUKFPHnO3Z3Z2ewdV9yWHrjL3Ln/ufc395z7nwX+pYgD1+p6EoE8rJcNvkb8Arxd622X\n",
       "CuSxi5paBpLc6W4ZJOo2IWFBY2iPADNNF0+Ad/nGvpZJLiOMJLrPFzTE8MZ5+j1Irc3Bcc5SvmWS\n",
       "3jAS5UfHFzSGySSrWJZhGBiplkmmQ0jMn52aIISknSV3oFCW2lovk5ycZOxxUBBC0saF8iFwr1S6\n",
       "2zJJzK2SjM9c/SHlk4w8CArGe6EnJSQG3/wW2ARceLXlMuFD4rWYJGN2xQoeyfDeOoG7AspfEhKF\n",
       "92s1cAjxIGjPxPqP69WdQ5u/ExcvqeuOVIVEsZT5SNojiewNCrTUNkTyEpIo19AKIOEYWe90z9hZ\n",
       "08D3taP/+ZIz+AlTcxISPdhpz1ZINMRygTr55EFAoOM+2snB9I9KHIM+icYbdZqIyn7BbqBR08Q7\n",
       "ZT+7lDqkteXpRpL4ekdCArGWpGJZoM7j9KBkT1Tekx3Ucuvo59l7s5YwOyKZ44LYlST7fVLhiSFA\n",
       "wkp6j0UW1BlEFmQH2G3pjuQUs4C260/Z2YkWuCqo3SCPM60lbalRMWbELxKRXp7XpvXK2mveDJAI\n",
       "JdSviWb8DedUdcZEuUIymu2EIXM2FiSS+EJGovDEa6kdoYJVcFFDvxiLDfFA/FLBzKsiK3rZDZAI\n",
       "pTrE03/ag6fVGcVBJJKVJ7eib4Hb7/cEsaT69wIS47lnAVu4wkXu6NZq27ZTpmn0ibp3I2XlgG1/\n",
       "CcNwdCdQJ6Q8VTHlpejyar1QIRl5Fu1Nyb6ALNCXzj6vvxvp/GcxZY6L7KGvnI7jM7EnpvoBr9uR\n",
       "bR/UxGb0nYARIGGlPilQHuK293wRTb7FRbEFUqc9yjkoVDtHjFyMzrOoE0xldBcdg7urludmsLOW\n",
       "HaEEnnLiiqpvVKuakZBgAtdTYV/PWNo7rr/enEP8PF0N/OaObNRuIdp7FjhMiVMWdU3uqZEIJVcY\n",
       "Pbpsrf+OCUtC8o0wjqIneEzplP3b43kP198bs+2qyUVxBV9RZiftM7Xhemd7y9KtRNr3uXyTPSFB\n",
       "92xWRsIvgXNh7v0+utSGnC50+0h5oNY5RoZdqvpYj3cRjGNha/0uvCFsNI3+P9CMRF3n4v8J6z+d\n",
       "/QX1pfNudprTSAAAAABJRU5ErkJggg==\n",
       "\" style=\"display:inline;vertical-align:middle;\" /></a><br>(see <a class=\"ProveItLink\" href=\"../../../__pv_it/theorems/8d0b5765fa02c8d65d8b9fa3ee71b8cdbeab8ecc0/dependencies.ipynb\">dependencies</a>)<br>"
      ],
      "text/plain": [
       "<IPython.core.display.HTML object>"
      ]
     },
     "metadata": {},
     "output_type": "display_data"
    }
   ],
   "source": [
    "%proving floor_of_real_below_int"
   ]
  },
  {
   "cell_type": "code",
   "execution_count": null,
   "metadata": {},
   "outputs": [],
   "source": []
  }
 ],
 "metadata": {
  "kernelspec": {
   "display_name": "Python 3",
   "language": "python",
   "name": "python3"
  }
 },
 "nbformat": 4,
 "nbformat_minor": 0
}