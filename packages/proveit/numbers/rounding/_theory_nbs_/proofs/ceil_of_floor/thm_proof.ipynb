{
 "cells": [
  {
   "cell_type": "markdown",
   "metadata": {},
   "source": [
    "Proof of <a class=\"ProveItLink\" href=\"../../../../../_theory_nbs_/theory.ipynb\">proveit</a>.<a class=\"ProveItLink\" href=\"../../../../_theory_nbs_/theory.ipynb\">numbers</a>.<a class=\"ProveItLink\" href=\"../../theory.ipynb\">rounding</a>.<a class=\"ProveItLink\" href=\"../../theorems.ipynb#ceil_of_floor\">ceil_of_floor</a> theorem\n",
    "========"
   ]
  },
  {
   "cell_type": "code",
   "execution_count": 1,
   "metadata": {},
   "outputs": [],
   "source": [
    "import proveit\n",
    "theory = proveit.Theory() # the theorem's theory"
   ]
  },
  {
   "cell_type": "code",
   "execution_count": 2,
   "metadata": {},
   "outputs": [
    {
     "data": {
      "text/html": [
       "With these <a href=\"allowed_presumptions.txt\">allowed</a>/<a href=\"disallowed_presumptions.txt\">disallowed</a> theorem/theory presumptions (e.g., to avoid circular dependencies), we begin our proof of<br><strong id=\"ceil_of_floor\">ceil_of_floor:</strong> <a class=\"ProveItLink\" href=\"../../../__pv_it/theorems/43e8451b5f3cdeda2c3e2f6df13260eb381bd3c90/expr.ipynb\"><img src=\"data:image/png;base64,iVBORw0KGgoAAAANSUhEUgAAAK8AAAAVBAMAAADC7aNVAAAAMFBMVEX///8AAAAAAAAAAAAAAAAA\n",
       "AAAAAAAAAAAAAAAAAAAAAAAAAAAAAAAAAAAAAAAAAAAv3aB7AAAAD3RSTlMAq1RmmUTNIjK7EInv\n",
       "3XZ/CtNrAAAACXBIWXMAAA7EAAAOxAGVKw4bAAACKElEQVQ4y52VTWgTQRTH/9mP7DabDgVPLSIL\n",
       "ihctBpUKHjRSrYJWQhUvggY8CB5ke68Qrw2CF7FrIeSQg1GQ2IOCguTiSSp+nEc24Af0ELxVPPlm\n",
       "dyfdms0GZg6zb+e9/fH4v3lvgczlweQ8QKGZPJrlX4cCn+2YlogZs5gLvUTPcIuWWabt6lDksR2T\n",
       "nDfoMSXs/SPAh6AGZhR/Tti307mFqiIYd4D7QpWH6WCjpAo+DuSpLo6bDi5CFVxsht/kR0h8UBmc\n",
       "pw82Of8wAnwxCS70Z+obmeAXvadv3cjp0J24ADwZAb6VBBvoBYu7wItcrM8DcJntMz5FTp3Kvgxr\n",
       "KgGbfXXmrrS/JMEncLq5Jytj3dP/5kqRU+sCE02nEnvtnl9hDl534vf3SXANC9ka2zCqUmP7N8GD\n",
       "Qe3O1uhuM5wM0sDAx3HFKwYSbFLGqJ6irX/+uyf6RYC3ymlSwNwWEyFDY9z0xFAJpSCtsUFtwrzp\n",
       "vNsOx4NjNeTlaiTAhUe5LjpZGbcre+HETl203ArVTkfDxpUQbKwP+vBlAqz9aXVNNwt8ZPUSlmKn\n",
       "IcqUqwnPNjDn+77LmLMkox8kM74cHDiaqXGrr827sXNS3gfYXQv1MGNmXpfTd7Km2nn35MuKUzXo\n",
       "4oUa440snl5WBc8P5tiPd1uw1si69rPTWpDHjxXB/4/L575f2XXQVgRPjPs3WQE0UQ9tk0dNo/HQ\n",
       "qA9FHubf4pEgjF/APxMBlZqAW6sTAAAAAElFTkSuQmCC\n",
       "\" style=\"display:inline;vertical-align:middle;\" /></a><br>(see <a class=\"ProveItLink\" href=\"../../../__pv_it/theorems/82c4f6cbd77150baa5c3c2069c854a42c48f35e00/dependencies.ipynb\">dependencies</a>)<br>"
      ],
      "text/plain": [
       "<IPython.core.display.HTML object>"
      ]
     },
     "metadata": {},
     "output_type": "display_data"
    }
   ],
   "source": [
    "%proving ceil_of_floor"
   ]
  },
  {
   "cell_type": "code",
   "execution_count": null,
   "metadata": {},
   "outputs": [],
   "source": []
  }
 ],
 "metadata": {
  "kernelspec": {
   "display_name": "Python 3",
   "language": "python",
   "name": "python3"
  }
 },
 "nbformat": 4,
 "nbformat_minor": 0
}