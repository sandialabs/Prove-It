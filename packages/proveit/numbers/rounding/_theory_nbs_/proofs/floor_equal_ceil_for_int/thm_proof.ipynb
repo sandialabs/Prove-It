{
 "cells": [
  {
   "cell_type": "markdown",
   "metadata": {},
   "source": [
    "Proof of <a class=\"ProveItLink\" href=\"../../../../../_theory_nbs_/theory.ipynb\">proveit</a>.<a class=\"ProveItLink\" href=\"../../../../_theory_nbs_/theory.ipynb\">numbers</a>.<a class=\"ProveItLink\" href=\"../../theory.ipynb\">rounding</a>.<a class=\"ProveItLink\" href=\"../../theorems.ipynb#floor_equal_ceil_for_int\">floor_equal_ceil_for_int</a> theorem\n",
    "========"
   ]
  },
  {
   "cell_type": "code",
   "execution_count": 1,
   "metadata": {},
   "outputs": [],
   "source": [
    "import proveit\n",
    "theory = proveit.Theory() # the theorem's theory"
   ]
  },
  {
   "cell_type": "code",
   "execution_count": 2,
   "metadata": {},
   "outputs": [
    {
     "data": {
      "text/html": [
       "With these <a href=\"allowed_presumptions.txt\">allowed</a>/<a href=\"disallowed_presumptions.txt\">disallowed</a> theorem/theory presumptions (e.g., to avoid circular dependencies), we begin our proof of<br><strong id=\"floor_equal_ceil_for_int\">floor_equal_ceil_for_int:</strong> <a class=\"ProveItLink\" href=\"../../../__pv_it/theorems/b9b97edb9bb34fa016755788da63324b195a84b60/expr.ipynb\"><img src=\"data:image/png;base64,iVBORw0KGgoAAAANSUhEUgAAAJ0AAAAVBAMAAACu6/FQAAAAMFBMVEX///8AAAAAAAAAAAAAAAAA\n",
       "AAAAAAAAAAAAAAAAAAAAAAAAAAAAAAAAAAAAAAAAAAAv3aB7AAAAD3RSTlMAq1RmmUTNIjK7EInv\n",
       "3XZ/CtNrAAAACXBIWXMAAA7EAAAOxAGVKw4bAAACGklEQVQ4y5XUQWgTQRQG4L+72Wwym6QRQVAk\n",
       "BAUtSOmiBT1JoAqKCEH01paIh6KneGxVGvEoLVUoEoWy4kE8dVu81IN4EYRSqHpQDysrSsV6CYgo\n",
       "nnyzM7tNYqYyc8i+2Z39ePPeZIFtRx3Ma591j7HgowgGg7e9nneNQhmmm8ysyj8LjmyF54FxuhR5\n",
       "vF/hHYKWV6C1J3k80ZtjNT0PV4CbdLHnenspV9MbBtJUb6fc28tB08t50fq0onwHdL00LV4LglWF\n",
       "d0Z643uufQtVnvXp8fMF6TnU3VPAfYV3SXr+nZD9SryzAR+vY8/JlrBYF55JDbwKu9iO7H1w+qkM\n",
       "3wjPqn6A/VuV34X8HKYbwjNeAFnPqcaPZ3fP4x2ebcrpS+Ex9hPGH5XnLVYx5Akv0yIzTNqRor3D\n",
       "zRx0Oz0YLfTVlP0YAnbJ+lmUH2rH6a2R2S/AZ6Gm0LlfjvW7nqJ+HPvB5H7X6WeZTvWjUTdXZ+JY\n",
       "Hx2IvQXp5Xzaka/Kb5WK4ch+cOE6tWNqA/2eFe2ThX68ekl6VO4Ns6HwqFOF2jHhpfirfdQclDAK\n",
       "83KzeReO48XfqBnpjQEPDyvP3zrYzrLw8klnX+FEJhMldu4WHOnlG5r/jxvxxG7h/YA4136F5xMN\n",
       "s6LpjSRLi/juYpLns6O0cjG+fU/P6/5OsZXmfMeNJ3pe9n8ffDuEsRaEUWwEMmgf+7bC28BX4C+I\n",
       "w4sTCmUNlwAAAABJRU5ErkJggg==\n",
       "\" style=\"display:inline;vertical-align:middle;\" /></a><br>(see <a class=\"ProveItLink\" href=\"../../../__pv_it/theorems/f4f332eb1961d79e835d45294092d3c9a18e08720/dependencies.ipynb\">dependencies</a>)<br>"
      ],
      "text/plain": [
       "<IPython.core.display.HTML object>"
      ]
     },
     "metadata": {},
     "output_type": "display_data"
    }
   ],
   "source": [
    "%proving floor_equal_ceil_for_int"
   ]
  },
  {
   "cell_type": "code",
   "execution_count": null,
   "metadata": {},
   "outputs": [],
   "source": []
  }
 ],
 "metadata": {
  "kernelspec": {
   "display_name": "Python 3",
   "language": "python",
   "name": "python3"
  }
 },
 "nbformat": 4,
 "nbformat_minor": 0
}