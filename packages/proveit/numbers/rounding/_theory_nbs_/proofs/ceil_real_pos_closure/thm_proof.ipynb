{
 "cells": [
  {
   "cell_type": "markdown",
   "metadata": {},
   "source": [
    "Proof of <a class=\"ProveItLink\" href=\"../../../../../_theory_nbs_/theory.ipynb\">proveit</a>.<a class=\"ProveItLink\" href=\"../../../../_theory_nbs_/theory.ipynb\">numbers</a>.<a class=\"ProveItLink\" href=\"../../theory.ipynb\">rounding</a>.<a class=\"ProveItLink\" href=\"../../theorems.ipynb#ceil_real_pos_closure\">ceil_real_pos_closure</a> theorem\n",
    "========"
   ]
  },
  {
   "cell_type": "code",
   "execution_count": 1,
   "metadata": {},
   "outputs": [],
   "source": [
    "import proveit\n",
    "theory = proveit.Theory() # the theorem's theory"
   ]
  },
  {
   "cell_type": "code",
   "execution_count": 2,
   "metadata": {},
   "outputs": [
    {
     "data": {
      "text/html": [
       "With these <a href=\"allowed_presumptions.txt\">allowed</a>/<a href=\"disallowed_presumptions.txt\">disallowed</a> theorem/theory presumptions (e.g., to avoid circular dependencies), we begin our proof of<br><strong id=\"ceil_real_pos_closure\">ceil_real_pos_closure:</strong> <a class=\"ProveItLink\" href=\"../../../__pv_it/theorems/4ec2ad65c1113db677f701425208769af6ce4e8f0/expr.ipynb\"><img src=\"data:image/png;base64,iVBORw0KGgoAAAANSUhEUgAAAKcAAAAZBAMAAACm+CPaAAAAMFBMVEX///8AAAAAAAAAAAAAAAAA\n",
       "AAAAAAAAAAAAAAAAAAAAAAAAAAAAAAAAAAAAAAAAAAAv3aB7AAAAD3RSTlMAq1RmmUTNIjK7EInv\n",
       "3XZ/CtNrAAAACXBIWXMAAA7EAAAOxAGVKw4bAAACg0lEQVRIx5WVTWgTQRTH/0k22SRrhoAXFQ+L\n",
       "9iIihAoKRTSFNCpSiQpeihjsQehBVwRPBetRWmxAAq4fZYUiqISGHhQ8SC49FPHj5ml1CyoYpDep\n",
       "5OTbze7MbpJuNw8mzJC3v/nPe/PeABEsUUEkK9KQENFGIvrVaMi1aL7ZKnDF/NZdxE2zEAbFyWjQ\n",
       "DFGOimWyGNzyuz4D5fOaB80ZQN6eHAyFziIMiox6AVjhShkRJ+zJ9VDouXBo7KtSwC5Iur6uPyTl\n",
       "HeDezsH9uwP0EInKcaWYBlIUAkUNY6Y7g6G/TbPqQG9bd/zQs3QHKQupUKHsy0Do5banVNvDmj7o\n",
       "HxofTfNDKDRWdaHZzX3zqx5UnuH/axnUfdCrdPYzwON+kuLLbs2FStiwJj1oShPQdLHR8CoKWJwD\n",
       "bkHO90N91ZbKu9DjOGXs5lBxEg2j8afC/y4VdcZQ/KV95M34jSA0V3ShcyiLmC6YZDUXGjP2C/8V\n",
       "wsUtvml6Q68wBW+bg5UCnwT0pV9pNt/wKaXjo8qrtURLxjBmKaXJ0kQ/NLmFVx4054fiQUZAF+1o\n",
       "r9p53Dz9Q2N2pyBouxhQGnMTla3HWmh6UGbxRNpS7gt/O/uYJSVM25tSnRMxRV4qBKCs1YXG/y23\n",
       "kiq/p9f4SezSKQv/E44S2imBpTQuOQjpSS2YqKRbUdnz1siouPzP60Y3ETfX6feF8B8X0y3gmK7r\n",
       "KmPKxeA9xdrgMp161i3TXpsWBd6SMe8oZckpY6gu1dvSO7xlKlWJbqwTU7zr+WphKGiCl5L0830b\n",
       "8iO7T/xqLpd7il8dBprTguvXul7Z5o064GuFzVBoxDcKhxHdor6mkd99J5CUmP+MBJH4qAmLEgAA\n",
       "AABJRU5ErkJggg==\n",
       "\" style=\"display:inline;vertical-align:middle;\" /></a><br>(see <a class=\"ProveItLink\" href=\"../../../__pv_it/theorems/a4f724ea06140a562df306f196fa5576d167bf3d0/dependencies.ipynb\">dependencies</a>)<br>"
      ],
      "text/plain": [
       "<IPython.core.display.HTML object>"
      ]
     },
     "metadata": {},
     "output_type": "display_data"
    }
   ],
   "source": [
    "%proving ceil_real_pos_closure"
   ]
  },
  {
   "cell_type": "code",
   "execution_count": null,
   "metadata": {},
   "outputs": [],
   "source": []
  }
 ],
 "metadata": {
  "kernelspec": {
   "display_name": "Python 3",
   "language": "python",
   "name": "python3"
  }
 },
 "nbformat": 4,
 "nbformat_minor": 0
}