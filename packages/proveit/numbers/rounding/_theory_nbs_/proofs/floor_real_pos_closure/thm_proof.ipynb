{
 "cells": [
  {
   "cell_type": "markdown",
   "metadata": {},
   "source": [
    "Proof of <a class=\"ProveItLink\" href=\"../../../../../_theory_nbs_/theory.ipynb\">proveit</a>.<a class=\"ProveItLink\" href=\"../../../../_theory_nbs_/theory.ipynb\">numbers</a>.<a class=\"ProveItLink\" href=\"../../theory.ipynb\">rounding</a>.<a class=\"ProveItLink\" href=\"../../theorems.ipynb#floor_real_pos_closure\">floor_real_pos_closure</a> theorem\n",
    "========"
   ]
  },
  {
   "cell_type": "code",
   "execution_count": 1,
   "metadata": {},
   "outputs": [],
   "source": [
    "import proveit\n",
    "theory = proveit.Theory() # the theorem's theory"
   ]
  },
  {
   "cell_type": "code",
   "execution_count": 2,
   "metadata": {},
   "outputs": [
    {
     "data": {
      "text/html": [
       "With these <a href=\"allowed_presumptions.txt\">allowed</a>/<a href=\"disallowed_presumptions.txt\">disallowed</a> theorem/theory presumptions (e.g., to avoid circular dependencies), we begin our proof of<br><strong id=\"floor_real_pos_closure\">floor_real_pos_closure:</strong> <a class=\"ProveItLink\" href=\"../../../__pv_it/theorems/7a53621c288abe7b5aec700f7fde51e665e066c70/expr.ipynb\"><img src=\"data:image/png;base64,iVBORw0KGgoAAAANSUhEUgAAAJcAAAAVBAMAAAC5yWGZAAAAMFBMVEX///8AAAAAAAAAAAAAAAAA\n",
       "AAAAAAAAAAAAAAAAAAAAAAAAAAAAAAAAAAAAAAAAAAAv3aB7AAAAD3RSTlMAq1RmmUTNIjK7EInv\n",
       "3XZ/CtNrAAAACXBIWXMAAA7EAAAOxAGVKw4bAAACUElEQVQ4y42UTWjUUBDH/7v53KQNix6WFoSA\n",
       "IogIi4iCh7ritgpSCQoeFGTRg+ChrJeeKqwgXooQBD+iuETopYqwVlAUkb14kkrxICgEUvCLCktv\n",
       "VejBednkJdnGsAOBee8Nv8zMf94DhrAmNDe5+k/QUGaYEKp8JdXSp8/+3nXxdtO6QH6ZbezMhe1F\n",
       "Hgy3pTK0dRgUMsnWl/NYWiMftqP5AugCV4DrtFTsPJhYzYdts+UmVoADgEyt1c082AgyYcYj73Pg\n",
       "VCaUBoONuEGYnNuy3ZkwaSYSuFJo/WYwmWKWPe9DLuxkCNN64/NLHDbLh6UCu2QRTCctTwAPthL0\n",
       "2L0UwkSs+tMcFmtWwQ3tK8EEEuoqlHJG12P3Uwg7hCPudg5rJGCCuYfULNJXcnUrQdn38uhMGvY+\n",
       "hLUwFfdMpe54X0IYxgsEUtcJ6PP+q6uOZeh41cmEAR9jmGYnMsNjjcqUuizhiWi73iLFDRz29fp0\n",
       "fXKwTEgbeMLLXEnCVJ/YRba1RKOL3vFvTXYhGGytlsqs3Ydpd6iWDof1+Pl9+n4RTGDJzlH/jeaY\n",
       "bC4Gs6gr7WoK9rwPK/5Z6Eomh8l80C+yFpMeIv0JBSpOQFvFmQAmPrTTAtwKMzvl79ofD602dq5/\n",
       "fHPT7t/f0VjHDeCg4zimYein03M22sq8TtLr8DpFdo17alfBfJCZIZ13U0FCLf+iR3Yscub0hkgT\n",
       "F/QMbwbC7w0Fi58e8fu7NShMl7M/OgtT6bDFoWClgXf7qeNYWf/0UVz2/MAveqGzxX4C/wAljY0c\n",
       "0ry6wQAAAABJRU5ErkJggg==\n",
       "\" style=\"display:inline;vertical-align:middle;\" /></a><br>(see <a class=\"ProveItLink\" href=\"../../../__pv_it/theorems/26e4ec3b4baadeef71e42f717d8902e3e1a1c30e0/dependencies.ipynb\">dependencies</a>)<br>"
      ],
      "text/plain": [
       "<IPython.core.display.HTML object>"
      ]
     },
     "metadata": {},
     "output_type": "display_data"
    },
    {
     "name": "stdout",
     "output_type": "stream",
     "text": [
      "floor_real_pos_closure may now be readily provable (assuming required theorems are usable).  Simply execute \"%qed\".\n"
     ]
    }
   ],
   "source": [
    "%proving floor_real_pos_closure"
   ]
  },
  {
   "cell_type": "code",
   "execution_count": null,
   "metadata": {},
   "outputs": [],
   "source": []
  }
 ],
 "metadata": {
  "kernelspec": {
   "display_name": "Python 3",
   "language": "python",
   "name": "python3"
  }
 },
 "nbformat": 4,
 "nbformat_minor": 0
}