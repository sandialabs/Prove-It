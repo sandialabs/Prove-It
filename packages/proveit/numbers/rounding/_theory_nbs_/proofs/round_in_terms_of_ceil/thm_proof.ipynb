{
 "cells": [
  {
   "cell_type": "markdown",
   "metadata": {},
   "source": [
    "Proof of <a class=\"ProveItLink\" href=\"../../../../../_theory_nbs_/theory.ipynb\">proveit</a>.<a class=\"ProveItLink\" href=\"../../../../_theory_nbs_/theory.ipynb\">numbers</a>.<a class=\"ProveItLink\" href=\"../../theory.ipynb\">rounding</a>.<a class=\"ProveItLink\" href=\"../../theorems.ipynb#round_in_terms_of_ceil\">round_in_terms_of_ceil</a> theorem\n",
    "========"
   ]
  },
  {
   "cell_type": "code",
   "execution_count": 1,
   "metadata": {},
   "outputs": [],
   "source": [
    "import proveit\n",
    "theory = proveit.Theory() # the theorem's theory"
   ]
  },
  {
   "cell_type": "code",
   "execution_count": 2,
   "metadata": {},
   "outputs": [
    {
     "data": {
      "text/html": [
       "With these <a href=\"allowed_presumptions.txt\">allowed</a>/<a href=\"disallowed_presumptions.txt\">disallowed</a> theorem/theory presumptions (e.g., to avoid circular dependencies), we begin our proof of<br><strong id=\"round_in_terms_of_ceil\">round_in_terms_of_ceil:</strong> <a class=\"ProveItLink\" href=\"../../../__pv_it/theorems/fdcb5b2f28e5d3f01b55cff69c208e0034b9e10c0/expr.ipynb\"><img src=\"data:image/png;base64,iVBORw0KGgoAAAANSUhEUgAAAQ8AAAAzBAMAAAB7zpBvAAAAMFBMVEX///8AAAAAAAAAAAAAAAAA\n",
       "AAAAAAAAAAAAAAAAAAAAAAAAAAAAAAAAAAAAAAAAAAAv3aB7AAAAD3RSTlMAq1RmmUTNIjK7EInv\n",
       "3XZ/CtNrAAAACXBIWXMAAA7EAAAOxAGVKw4bAAAEoElEQVRYw8WZb2gbZRzHv+kluSSXXAJDxFrX\n",
       "gOBerKXBFwNFbMZqVdxYmLA3/mnUF+JgcgXfiJPGNwoOyQRBo9hdYYitskUFlSntBEeZ80+d7IVK\n",
       "aeaf4Sa0o2Or9EXj73l6l7u2yT3PUu520OSe+z39PZ/7/Xv+BPD1mpiYMNuVrr/ipU2AzNXrxdbS\n",
       "o/X6DDAuCbNlMxY5L5BHCCT2m5SqUNUXEGt0BoJeKVU74AfI2OCyA6JlJDSp076AQHeB4BcJTala\n",
       "ACA9EuF6HwIAiebFms4GARJZEiqy+vsMgqfEIZIJBKRPGCTlUiAgJ4Qp0YVAQOIzIkXfBAOiiKI1\n",
       "djUYkIRoHH1JZjTDKsI3AqItuUGElo+fkuDQs9ZMWpMHCXVd3+IGeR/g+Xlni/7JI54Ir37LPrfb\n",
       "zT/bWwawawp4gH0/26LfCUHtXWT+bax8ombbIP0FvMK82+rFy975HWERF87ZTSXfNggNxF5Dy7bo\n",
       "15f1VKMxNUmn/V3bIGR6hV4o2qpfv3dh5bPmXU77mbZB0hSqP8zOtpxiF3hmHj7ywmf0+vO34Pgu\n",
       "oBNPdr50iXw2PFlmBnuE/o5f+PAruv+kOYgl9QSh4HgIeLcVyBQPv+pb1a+hnseIUe2BcgXVN2uJ\n",
       "JUSmcdS0zJDXt4ZnrGVleJZfGQfEknqBJCnih6G6p9jez3c+32jsZSOpuYP02rRUS32Z3YNQMVL4\n",
       "Fep/+DiHQdbnHEWpoSyHyMU9TS1iS71AUvQdN7WCXdEvVAq6hi8aC/du/tRkBXgvYXfiRyRricQ1\n",
       "dCyzB78z8WnqgTDP4XJTEFuaOMhNxcIuXWeXG4QqZ0etEasD1EnXcW9tDchqlp4BRmp0N1JCxxWy\n",
       "Cz0goFUQYuT/8niLYE3WRMHKQFC8nz7mH/zL0Jn9CORyfo1rwBycWKGIMehuAYwinZtYYeGy6hpg\n",
       "yEiY1gZlY4xYUpFr8OkBGt64LZod5zOHpo42HDrFsybFXHWVrV/jGVQUM1mlJdXJRQLaRoJR2jQW\n",
       "uqDR7T1NLWJLRcGKQwSvYDSGRzlI+D2nzi7wOjLCYmgn4nmEM7GzGvPORaU0it48Mx3lbN/ru7HP\n",
       "yuSNILbUE4QZMMRHo2l5R6VSyeq6tm9dQXuCV9FJmpUSt/8x/A9rj92NsX9f28rEbwDH5jt2ZZuW\n",
       "L/bElnrWkUY0xE6pOMwtokceazi0ryCxBWtUX3VGurKqA8+V1pR4O1EPacUwJTKPEZxs4JVzYhBn\n",
       "qgvnpEFehHZt3aRn6fh78jLUd+hu/8XqsUG7f1piC4a3He3SILcC37tB1s2uH1Uqa32RKkqAjG8g\n",
       "EoP8ZKLbcIEsGILDEZmlomqZVTfkQe6gYllygXSL/L/JHafXMmDO7Zozou3Eom8gsRUXiLpy0zZY\n",
       "1q5adoOF3b6BPOwuaCHhlnOo4BOIknGDpIWb8FTeJ5DtUF3p2y88llB8OqiJVaGbDsjPN+3o6uWB\n",
       "gT03dHQlYbS2QObq9esOSFziXCpa9Slr3MuAIYm3jU0HAHJORtUl/0GkjsD9+lHADbJfTtfTfoPE\n",
       "Dsjp2tQPR9sE8gQt6j7gofo/jDCAgxXi9sAAAAAASUVORK5CYII=\n",
       "\" style=\"display:inline;vertical-align:middle;\" /></a><br>(see <a class=\"ProveItLink\" href=\"../../../__pv_it/theorems/4d7846adab77f539bc7510d0008a8fd032a56b970/dependencies.ipynb\">dependencies</a>)<br>"
      ],
      "text/plain": [
       "<IPython.core.display.HTML object>"
      ]
     },
     "metadata": {},
     "output_type": "display_data"
    }
   ],
   "source": [
    "%proving round_in_terms_of_ceil"
   ]
  },
  {
   "cell_type": "code",
   "execution_count": null,
   "metadata": {},
   "outputs": [],
   "source": []
  }
 ],
 "metadata": {
  "kernelspec": {
   "display_name": "Python 3",
   "language": "python",
   "name": "python3"
  }
 },
 "nbformat": 4,
 "nbformat_minor": 0
}