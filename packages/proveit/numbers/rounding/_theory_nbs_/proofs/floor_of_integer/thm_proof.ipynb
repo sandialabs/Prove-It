{
 "cells": [
  {
   "cell_type": "markdown",
   "metadata": {},
   "source": [
    "Proof of <a class=\"ProveItLink\" href=\"../../../../../_theory_nbs_/theory.ipynb\">proveit</a>.<a class=\"ProveItLink\" href=\"../../../../_theory_nbs_/theory.ipynb\">numbers</a>.<a class=\"ProveItLink\" href=\"../../theory.ipynb\">rounding</a>.<a class=\"ProveItLink\" href=\"../../theorems.ipynb#floor_of_integer\">floor_of_integer</a> theorem\n",
    "========"
   ]
  },
  {
   "cell_type": "code",
   "execution_count": 1,
   "metadata": {},
   "outputs": [],
   "source": [
    "import proveit\n",
    "theory = proveit.Theory() # the theorem's theory"
   ]
  },
  {
   "cell_type": "code",
   "execution_count": 2,
   "metadata": {},
   "outputs": [
    {
     "data": {
      "text/html": [
       "With these <a href=\"allowed_presumptions.txt\">allowed</a>/<a href=\"disallowed_presumptions.txt\">disallowed</a> theorem/theory presumptions (e.g., to avoid circular dependencies), we begin our proof of<br><strong id=\"floor_of_integer\">floor_of_integer:</strong> <a class=\"ProveItLink\" href=\"../../../__pv_it/theorems/6332518142a6de46cccd2f9a539da44b695a1eb50/expr.ipynb\"><img src=\"data:image/png;base64,iVBORw0KGgoAAAANSUhEUgAAAIkAAAAVBAMAAACArtDCAAAAMFBMVEX///8AAAAAAAAAAAAAAAAA\n",
       "AAAAAAAAAAAAAAAAAAAAAAAAAAAAAAAAAAAAAAAAAAAv3aB7AAAAD3RSTlMAq1RmmUTNIjK7EInv\n",
       "3XZ/CtNrAAAACXBIWXMAAA7EAAAOxAGVKw4bAAABzklEQVQ4y42UPUjDQBiG37ZpkxorFSedAjo4\n",
       "ONQfdNNC/VsqAXfpJjhFXVWqa5cuilGQDCKoIEWcOkhXEaVuLpEoiqAgbjp6l9612l7tHbR8ee/L\n",
       "c99fDvhvqcDJr0dL6GShxXoChmtP4aTQaYH84tToFUOCBRlKRwKYosaimHIEGQqWgE2afl68nZKj\n",
       "jAARB9AN8XZJjtLuIESyijQpS0aOEiGIG9e9Fu8qBUZp++jJnQsoTNdJh2aBveZn+BQFj16aU9Iu\n",
       "XXeo6SES8zLU+K9XA1cX++zMmMEoY5hwugSxMD1I6hd1dJOp2qNtxiz9zGFVMxkli2lhXZiufRKS\n",
       "Vy3uZJaEh61V1FGA2ybVrei0l5lx8vcx82zRISQryZ2rGSH8Rb+nhrowPVgm5jmZvQ6rO2Ic+zuh\n",
       "lSyjRL0KpW07UEKhMRauh+jQrsVpHgca5v29M5170Q5SSvD7sBQ2Gilc9yci4J/9BYzatm2gUOS3\n",
       "gVZmscx5fUOCunA9xrsDraQi56fan0CRifdys7vOjTU9o5Ce0zQUhMu1z0yGkqoO+8vlG9RdYg12\n",
       "vu/wKYxaMpT6G+HUts0/iedlKNFWV+YGMOA+sI64rid0egV+AFfweMgGot4xAAAAAElFTkSuQmCC\n",
       "\" style=\"display:inline;vertical-align:middle;\" /></a><br>(see <a class=\"ProveItLink\" href=\"../../../__pv_it/theorems/bfbba18bcfaab8e70b2763c481f4305be272096f0/dependencies.ipynb\">dependencies</a>)<br>"
      ],
      "text/plain": [
       "<IPython.core.display.HTML object>"
      ]
     },
     "metadata": {},
     "output_type": "display_data"
    }
   ],
   "source": [
    "%proving floor_of_integer"
   ]
  },
  {
   "cell_type": "code",
   "execution_count": null,
   "metadata": {},
   "outputs": [],
   "source": []
  }
 ],
 "metadata": {
  "kernelspec": {
   "display_name": "Python 3",
   "language": "python",
   "name": "python3"
  }
 },
 "nbformat": 4,
 "nbformat_minor": 0
}