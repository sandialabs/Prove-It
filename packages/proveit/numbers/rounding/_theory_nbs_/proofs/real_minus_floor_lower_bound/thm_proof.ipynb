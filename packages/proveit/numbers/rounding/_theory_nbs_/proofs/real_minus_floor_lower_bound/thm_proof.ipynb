{
 "cells": [
  {
   "cell_type": "markdown",
   "metadata": {},
   "source": [
    "Proof of <a class=\"ProveItLink\" href=\"../../../../../_theory_nbs_/theory.ipynb\">proveit</a>.<a class=\"ProveItLink\" href=\"../../../../_theory_nbs_/theory.ipynb\">numbers</a>.<a class=\"ProveItLink\" href=\"../../theory.ipynb\">rounding</a>.<a class=\"ProveItLink\" href=\"../../theorems.ipynb#real_minus_floor_lower_bound\">real_minus_floor_lower_bound</a> theorem\n",
    "========"
   ]
  },
  {
   "cell_type": "code",
   "execution_count": 1,
   "metadata": {},
   "outputs": [],
   "source": [
    "import proveit\n",
    "theory = proveit.Theory() # the theorem's theory\n",
    "from proveit import defaults, a, x, y\n",
    "from proveit.logic import Equals, InSet\n",
    "from proveit.numbers import Add, Neg, subtract, Real, zero\n",
    "from proveit.numbers.rounding import Floor\n",
    "from proveit.numbers.rounding import floor_of_x_less_eq_x"
   ]
  },
  {
   "cell_type": "code",
   "execution_count": 2,
   "metadata": {},
   "outputs": [
    {
     "data": {
      "text/html": [
       "With these <a href=\"allowed_presumptions.txt\">allowed</a>/<a href=\"disallowed_presumptions.txt\">disallowed</a> theorem/theory presumptions (e.g., to avoid circular dependencies), we begin our proof of<br><strong id=\"real_minus_floor_lower_bound\">real_minus_floor_lower_bound:</strong> <a class=\"ProveItLink\" href=\"../../../__pv_it/theorems/a82ec67721f7b0bb23ede763a6f8d09fe3d102270/expr.ipynb\"><img src=\"data:image/png;base64,iVBORw0KGgoAAAANSUhEUgAAAL0AAAAVBAMAAADhtvKAAAAAMFBMVEX///8AAAAAAAAAAAAAAAAA\n",
       "AAAAAAAAAAAAAAAAAAAAAAAAAAAAAAAAAAAAAAAAAAAv3aB7AAAAD3RSTlMAq1RmmUTNIjK7EInv\n",
       "3XZ/CtNrAAAACXBIWXMAAA7EAAAOxAGVKw4bAAACcElEQVQ4y4WVQWjUQBSGXzdpkk26w95EEQkI\n",
       "XlR2QfEgrq5UW7EeFhUvgi54EAQl3iusV0WsJ02FJYcirqKsHhRblF4EQYTiRS8rWagKBYsHQdCL\n",
       "M29mkm5mYgb+ZfJv5svLe/MmAP8dgZAyHqVTO+eWXDsdxOdSx550ehrgnH45s6tssj2Hv1OoiE/q\n",
       "yg1LqwHaR9nFRT3ebXMV8uESzh6kj7F89xPa11kG5/R8s85VzN/L43kdS7MB8AptKwLwfD1/QqiY\n",
       "PxHx+Y9FYd4BqEXMNmh8Vk76dwgV8y35lg3xgF8At320PwwG73P4M0JPhw+XfJUvbMb3qklM05gp\n",
       "xq+jfQxgPod/QahJtpkrKl/YjG+ku+DMFlbRv5Qfo30V7OqGhbtfHL4i5x+5jMD4M1ZX+NJm/NJy\n",
       "yp+X/D7a5chrib+cYdgiHrzsi+u3XA6YGJ57ecBGR/ClzfjOzyQ/m/BWyj8fo12Kk/IeoUsJgf3x\n",
       "KJ9uj1hbX24z/riMv3E8qW/N53b7IP1Zn14NsAspf605mh8aSuBGGj63MT8rmf0ZAhyKuP2cdhkJ\n",
       "Nlt+D48cz+7KXHe5eq2t4KnxSxvrO5fprwMAU8KepeU1oOvAKeSb95NufsZVu3ECTqp8aTO+2c+c\n",
       "DxXffSfsMSzYb4B9YRj6hHgJ6xbXwnpp0lf50mb8Sit7dM0MOxttZ9mGmxg/GT8rc13pcBX37zV9\n",
       "AyX2rNc26U7F/MOirK/R5CrmT+r5iW1+fbMG9j3WHt/6C1PSvitUxBcH8BPsj8/ply1zLj8Ow9E8\n",
       "9oSK+GX9l7Bc9IG0Yy517Bp8EecJm3zXL6f2P5zdrFFf6OwZAAAAAElFTkSuQmCC\n",
       "\" style=\"display:inline;vertical-align:middle;\" /></a><br>(see <a class=\"ProveItLink\" href=\"../../../__pv_it/theorems/869b5f99ec34ae450d5562c1199542fef8eafed80/dependencies.ipynb\">dependencies</a>)<br>"
      ],
      "text/plain": [
       "<IPython.core.display.HTML object>"
      ]
     },
     "metadata": {},
     "output_type": "display_data"
    },
    {
     "name": "stdout",
     "output_type": "stream",
     "text": [
      "real_minus_floor_lower_bound may now be readily provable (assuming required theorems are usable).  Simply execute \"%qed\".\n"
     ]
    }
   ],
   "source": [
    "%proving real_minus_floor_lower_bound"
   ]
  },
  {
   "cell_type": "code",
   "execution_count": 3,
   "metadata": {},
   "outputs": [
    {
     "name": "stdout",
     "output_type": "stream",
     "text": [
      "proveit.numbers.rounding.real_minus_floor_lower_bound has been proven.\n"
     ]
    },
    {
     "data": {
      "text/html": [
       "<table><tr><th>&nbsp;</th><th>step type</th><th>requirements</th><th>statement</th></tr>\n",
       "<tr><td><a name=\"-0x597808940d342878_step0\">0</a></td><td>generalization</td><td><a href=\"#-0x597808940d342878_step1\">1</a></td><td><span style=\"font-size:20px;\"> <a class=\"ProveItLink\" href=\"../../../__pv_it/_proof_real_minus_floor_lower_bound/401234fb84dd240a1fe8fab0abf0bafaefb99cd80/proof.ipynb\" style=\"text-decoration: none\">&nbsp;&#x22A2;&nbsp;&nbsp;</a><a class=\"ProveItLink\" href=\"../../../__pv_it/theorems/a82ec67721f7b0bb23ede763a6f8d09fe3d102270/expr.ipynb\"><img src=\"data:image/png;base64,iVBORw0KGgoAAAANSUhEUgAAAL0AAAAVBAMAAADhtvKAAAAAMFBMVEX///8AAAAAAAAAAAAAAAAA\n",
       "AAAAAAAAAAAAAAAAAAAAAAAAAAAAAAAAAAAAAAAAAAAv3aB7AAAAD3RSTlMAq1RmmUTNIjK7EInv\n",
       "3XZ/CtNrAAAACXBIWXMAAA7EAAAOxAGVKw4bAAACcElEQVQ4y4WVQWjUQBSGXzdpkk26w95EEQkI\n",
       "XlR2QfEgrq5UW7EeFhUvgi54EAQl3iusV0WsJ02FJYcirqKsHhRblF4EQYTiRS8rWagKBYsHQdCL\n",
       "M29mkm5mYgb+ZfJv5svLe/MmAP8dgZAyHqVTO+eWXDsdxOdSx550ehrgnH45s6tssj2Hv1OoiE/q\n",
       "yg1LqwHaR9nFRT3ebXMV8uESzh6kj7F89xPa11kG5/R8s85VzN/L43kdS7MB8AptKwLwfD1/QqiY\n",
       "PxHx+Y9FYd4BqEXMNmh8Vk76dwgV8y35lg3xgF8At320PwwG73P4M0JPhw+XfJUvbMb3qklM05gp\n",
       "xq+jfQxgPod/QahJtpkrKl/YjG+ku+DMFlbRv5Qfo30V7OqGhbtfHL4i5x+5jMD4M1ZX+NJm/NJy\n",
       "yp+X/D7a5chrib+cYdgiHrzsi+u3XA6YGJ57ecBGR/ClzfjOzyQ/m/BWyj8fo12Kk/IeoUsJgf3x\n",
       "KJ9uj1hbX24z/riMv3E8qW/N53b7IP1Zn14NsAspf605mh8aSuBGGj63MT8rmf0ZAhyKuP2cdhkJ\n",
       "Nlt+D48cz+7KXHe5eq2t4KnxSxvrO5fprwMAU8KepeU1oOvAKeSb95NufsZVu3ECTqp8aTO+2c+c\n",
       "DxXffSfsMSzYb4B9YRj6hHgJ6xbXwnpp0lf50mb8Sit7dM0MOxttZ9mGmxg/GT8rc13pcBX37zV9\n",
       "AyX2rNc26U7F/MOirK/R5CrmT+r5iW1+fbMG9j3WHt/6C1PSvitUxBcH8BPsj8/ply1zLj8Ow9E8\n",
       "9oSK+GX9l7Bc9IG0Yy517Bp8EecJm3zXL6f2P5zdrFFf6OwZAAAAAElFTkSuQmCC\n",
       "\" style=\"display:inline;vertical-align:middle;\" /></a></span></td></tr>\n",
       "<tr><td><a name=\"-0x597808940d342878_step1\">1</a></td><td>instantiation</td><td><a href=\"#-0x597808940d342878_step2\">2</a>, <a href=\"#-0x597808940d342878_step3\">3</a></td><td><span style=\"font-size:20px;\"><a class=\"ProveItLink\" href=\"../../../../ordering/__pv_it/theorems/d1323f34847310a404e8089c2c268d3c2eb89dbf0/expr.ipynb\"><img src=\"data:image/png;base64,iVBORw0KGgoAAAANSUhEUgAAADQAAAAQBAMAAACra0H4AAAAMFBMVEX///8AAAAAAAAAAAAAAAAA\n",
       "AAAAAAAAAAAAAAAAAAAAAAAAAAAAAAAAAAAAAAAAAAAv3aB7AAAAD3RSTlMAEHarMolUmd1mIs3v\n",
       "RLtmgJDEAAAACXBIWXMAAA7EAAAOxAGVKw4bAAAAyklEQVQY02NgwACce9797nnJgBXwcRnwWj7E\n",
       "IRXA8MAZp1QVN4qQXkfHBrgUH7LMbUUkXYbCQIaQskhoApDm2ohkIMuzXUBGAZMRewOQ5l6AkDrd\n",
       "3yQA9MUCzo/ME0BSSM6InAiylIWBHWw3g08HEDyAGvhwJliMRwFMySE73p1PAMS6v4ARRHMgS7F7\n",
       "AfXLXbBhYAUJMCkgSTE+0GRgyHesYbgGFtmGkCpgmMl3gUFcia0yASwi/FYAFvL/FvC9/oYcHFdf\n",
       "QAIKCgBACzQrtGfvLgAAAABJRU5ErkJggg==\n",
       "\" style=\"display:inline;vertical-align:middle;\" /></a> <a class=\"ProveItLink\" href=\"../../../__pv_it/_proof_real_minus_floor_lower_bound/1520748c32f19a61a197fc84bf269a80f350cd3e0/proof.ipynb\" style=\"text-decoration: none\">&nbsp;&#x22A2;&nbsp;&nbsp;</a><a class=\"ProveItLink\" href=\"../../../__pv_it/theorems/4f14997a5f603a84de4d2b7df1a9e120ccba5da80/expr.ipynb\"><img src=\"data:image/png;base64,iVBORw0KGgoAAAANSUhEUgAAAHcAAAAVBAMAAACOK2zoAAAAMFBMVEX///8AAAAAAAAAAAAAAAAA\n",
       "AAAAAAAAAAAAAAAAAAAAAAAAAAAAAAAAAAAAAAAAAAAv3aB7AAAAD3RSTlMAInZUiRDNmWbv3US7\n",
       "qzJazP2FAAAACXBIWXMAAA7EAAAOxAGVKw4bAAABh0lEQVQ4y42UP0gDMRjFX/+k11YtnZ1OF0Eo\n",
       "ZJCCLu1QF1E4BBWkiIsgThWq1O02tYvuglTdOkhR0NE/4KaggoNbFxcXHRRXk9ylJ5ccJtPj5fsl\n",
       "37377gDkoVlzgYxFlPAVpzp3J5CXwFkUPIb/4birFFRGWDtk2QDGilDzwRkpSo4AyzWBt4UiU7Y0\n",
       "m8A0kIEJnHE8PTrpmw9AyUHRCE7J/po+/QN8UNSZmi0sVagK+zaHk49yo7guHoDDLlaZrMWfrZYK\n",
       "+zaH00GsFy/83X8x2MYJ28mnvwdcBZY2hxP7AXwn4TIOgBwscTBZa/PV9WFpczj32Wv7SZQy+Mrm\n",
       "MAvT1gbm2Rzukzc3N3qBlShvmx2SJ44G9mzRdiv0qu6BPQe3QLXziqR6s7RFYNehIdkFNoEZdv/b\n",
       "Fs5VWNoctsqh8cxScgi8AwvDiQZVYWlzONsJ7ZN6gQWb7ZpM2KB+DtM1E7gR8T3fGMAxkRcWxRyc\n",
       "/imrGsD9Uf+hmK1zx9vHnpjgYkiP/gJntm5wTB/9hAAAAABJRU5ErkJggg==\n",
       "\" style=\"display:inline;vertical-align:middle;\" /></a></span></td></tr>\n",
       "<tr><td>&nbsp;</td><td colspan=4 style=\"text-align:left\"><span style=\"font-size:20px;\"><a class=\"ProveItLink\" href=\"../../../../../__pv_it/common/c06c606ec12678c58933ac85412ecadc2ae28be60/expr.ipynb\"><img src=\"data:image/png;base64,iVBORw0KGgoAAAANSUhEUgAAAAsAAAAJBAMAAAAWSsseAAAAMFBMVEX///8AAAAAAAAAAAAAAAAA\n",
       "AAAAAAAAAAAAAAAAAAAAAAAAAAAAAAAAAAAAAAAAAAAv3aB7AAAAD3RSTlMAIquJdkTvuxBmmd1U\n",
       "zTKBpmoTAAAACXBIWXMAAA7EAAAOxAGVKw4bAAAARUlEQVQI12NgYFR2dGBgYAgTYP/BwMCRycC1\n",
       "gYGB6wMDtwEDA1sBQ38AA0O/A8N8oIr+Awy6PAIM7A48u7iAKlXshPwYAE2lCqdX0eXEAAAAAElF\n",
       "TkSuQmCC\n",
       "\" style=\"display:inline;vertical-align:middle;\" /></a> : <a class=\"ProveItLink\" href=\"../../../../../__pv_it/common/a0d9d672aa5e272d907247690c152cc2c6daafb70/expr.ipynb\"><img src=\"data:image/png;base64,iVBORw0KGgoAAAANSUhEUgAAAAsAAAAJBAMAAAAWSsseAAAAMFBMVEX///8AAAAAAAAAAAAAAAAA\n",
       "AAAAAAAAAAAAAAAAAAAAAAAAAAAAAAAAAAAAAAAAAAAv3aB7AAAAD3RSTlMAEHarMolUmd1mIs3v\n",
       "RLtmgJDEAAAACXBIWXMAAA7EAAAOxAGVKw4bAAAAQklEQVQI12NgEFIWCU1gYChgMmJvYOBcwPmR\n",
       "eQIDCwP7BgYQ4FEAU/cXMAowyF2wYWBlYMh3rGG4xsAgrsRWmcAAAFEjCyBvD0T9AAAAAElFTkSu\n",
       "QmCC\n",
       "\" style=\"display:inline;vertical-align:middle;\" /></a>, <a class=\"ProveItLink\" href=\"../../../../../__pv_it/common/195236b98c6c564a75b5dbada74b173bc52d5c3e0/expr.ipynb\"><img src=\"data:image/png;base64,iVBORw0KGgoAAAANSUhEUgAAAAkAAAAOBAMAAAAPuiubAAAAMFBMVEX///8AAAAAAAAAAAAAAAAA\n",
       "AAAAAAAAAAAAAAAAAAAAAAAAAAAAAAAAAAAAAAAAAAAv3aB7AAAAD3RSTlMAELvv3c2ZVESJq3Yi\n",
       "MmZ3LnoBAAAACXBIWXMAAA7EAAAOxAGVKw4bAAAAT0lEQVQI12NgVHZgAALWBBDJXwAi+wVA5BQQ\n",
       "wRC1ezkDA+NXAfkDDOwfGZg3MLAFMPBPYGCZwNBfAFKeL8DAf4HRjoGB6wET0AjGlXkMDAAVqA7Q\n",
       "GyenWgAAAABJRU5ErkJggg==\n",
       "\" style=\"display:inline;vertical-align:middle;\" /></a> : <a class=\"ProveItLink\" href=\"../../../__pv_it/axioms/44713cf7f4ebb43f934d29140d15dff5c73b25e30/expr.ipynb\"><img src=\"data:image/png;base64,iVBORw0KGgoAAAANSUhEUgAAABgAAAAVBAMAAACuxzMVAAAAMFBMVEX///8AAAAAAAAAAAAAAAAA\n",
       "AAAAAAAAAAAAAAAAAAAAAAAAAAAAAAAAAAAAAAAAAAAv3aB7AAAAD3RSTlMAEGZU7912qzKJmSLN\n",
       "RLs7fb+cAAAACXBIWXMAAA7EAAAOxAGVKw4bAAAAWElEQVQY02MQZIADbgYlBOcWdThi6RIzDWCc\n",
       "BWxlXAFQDtMGpo/sClAOBwPXASQDWBKQOPc3MApAOXIXShg4YTL2jUsYLsM4UmnMiwzIdqhJaBiE\n",
       "aRoaBgC7diD9HVJwpAAAAABJRU5ErkJggg==\n",
       "\" style=\"display:inline;vertical-align:middle;\" /></a></span></td></tr><tr><td><a name=\"-0x597808940d342878_step2\">2</a></td><td>conjecture</td><td></td><td><span style=\"font-size:20px;\"> <a class=\"ProveItLink\" href=\"../../../../addition/subtraction/_theory_nbs_/proofs/nonneg_difference/thm_proof.ipynb\" style=\"text-decoration: none\">&nbsp;&#x22A2;&nbsp;&nbsp;</a><a class=\"ProveItLink\" href=\"../../../../addition/subtraction/__pv_it/theorems/e407a03f6d7daa8554d9f3327dae28760dc62e630/expr.ipynb\"><img src=\"data:image/png;base64,iVBORw0KGgoAAAANSUhEUgAAAM0AAAAXBAMAAABaN9YTAAAAMFBMVEX///8AAAAAAAAAAAAAAAAA\n",
       "AAAAAAAAAAAAAAAAAAAAAAAAAAAAAAAAAAAAAAAAAAAv3aB7AAAAD3RSTlMAq1RmmUTNIjK7EInv\n",
       "3XZ/CtNrAAAACXBIWXMAAA7EAAAOxAGVKw4bAAAC+ElEQVRIx7VWbUgUQRh+vN2729376KIoUJCF\n",
       "oD99eEQESumJfZEQB0W/pASDSAjOn0HBBdEvQ+sK0R+y/QnM4jSDsgiiEKMwJArDONgjwUAUicIw\n",
       "iGZ2Zufcvb1YoV54ZndmbuZ5532fefeA9VqGw8vClZes1+I6g6cFTc/h0wQJ+rLNP88OjjIbmiLN\n",
       "l7LhZ3MZxJPAIdo555tGa2fwsLMEIYO+3U2KwZCuzQCdwBUa1l7fPHKSwcO+EUgpy5nnIn4HgHFg\n",
       "L/MgovvmiXJ45GaVtm9YZ/EpH70B1BmIGpCIcyH/6dnOUW6Radp22OfgRN+BHh0hQjJVKLz1z9PK\n",
       "Ea6Zd2krVFskYRkVDh2xIkh5kogQtR0FBtxJqMzTwdGWUVedM/lObQXYJ/qnqqk7vwiPCYkopwvh\n",
       "hD2nnLceqvixctt6XBNCec+gvYI87eQhaXgH7CzxDNg8Iwi8IJsakbSYrHHxYPgmbatG7P4Eg7yM\n",
       "GB3TLhSoZcnrYYBuKuK21YobGTpjQlkGAuYaGbx28yCeowrLuniivcinnef5jCBRdputg2NCB3U6\n",
       "guQ8aG+kfjc+pmH6XTQEjza2QAuTNEi8XKp2xi1voqns+sgkY7tcuu4HmgwEaIwfktuqzSgr1PnZ\n",
       "eErwPMj0WAVQmsSiMcfXDTLkdWwJOMvjT9wn6q133dP9VkAlmt9LRAZySqFHU5NUGZznILqtReNp\n",
       "5ISORhlUM/DBpcpNuMU1v7buxHSN5EKmuawiwY+m4wkrD3JC8EygSBXTnKVpa+brrjNotU+6vjp5\n",
       "7jyiu39018PWIlkfs3OZz6gNJDMbENVtHnIbcvcQ3kglsIyXtn9ZhkofoGnP4cuibGV6ThjDiBn1\n",
       "Jb1NKj8atM1WEmYl+wLRQsmKZcUy62Etogi27B5Dt64cN0s8J/csJDWrzuPqkljSx+FtF5mCrEv1\n",
       "qXRK1/fALtvqXwrcEIe3eXugOpUZNHzwhE0G74+69z+BeWdXQhmP0k+sD//Jwv9+yz8nTr3xi1Rm\n",
       "IgAAAABJRU5ErkJggg==\n",
       "\" style=\"display:inline;vertical-align:middle;\" /></a></span></td></tr>\n",
       "<tr><td>&nbsp;</td><td colspan=4 style-\"text-align:left\"><a class=\"ProveItLink\" href=\"../../../../addition/subtraction/_theory_nbs_/proofs/nonneg_difference/thm_proof.ipynb\">proveit.numbers.addition.subtraction.nonneg_difference</a></td></tr><tr><td><a name=\"-0x597808940d342878_step3\">3</a></td><td>instantiation</td><td><a href=\"#-0x597808940d342878_step4\">4</a>, <a href=\"#-0x597808940d342878_step5\">5</a></td><td><span style=\"font-size:20px;\"><a class=\"ProveItLink\" href=\"../../../../ordering/__pv_it/theorems/d1323f34847310a404e8089c2c268d3c2eb89dbf0/expr.ipynb\"><img src=\"data:image/png;base64,iVBORw0KGgoAAAANSUhEUgAAADQAAAAQBAMAAACra0H4AAAAMFBMVEX///8AAAAAAAAAAAAAAAAA\n",
       "AAAAAAAAAAAAAAAAAAAAAAAAAAAAAAAAAAAAAAAAAAAv3aB7AAAAD3RSTlMAEHarMolUmd1mIs3v\n",
       "RLtmgJDEAAAACXBIWXMAAA7EAAAOxAGVKw4bAAAAyklEQVQY02NgwACce9797nnJgBXwcRnwWj7E\n",
       "IRXA8MAZp1QVN4qQXkfHBrgUH7LMbUUkXYbCQIaQskhoApDm2ohkIMuzXUBGAZMRewOQ5l6AkDrd\n",
       "3yQA9MUCzo/ME0BSSM6InAiylIWBHWw3g08HEDyAGvhwJliMRwFMySE73p1PAMS6v4ARRHMgS7F7\n",
       "AfXLXbBhYAUJMCkgSTE+0GRgyHesYbgGFtmGkCpgmMl3gUFcia0yASwi/FYAFvL/FvC9/oYcHFdf\n",
       "QAIKCgBACzQrtGfvLgAAAABJRU5ErkJggg==\n",
       "\" style=\"display:inline;vertical-align:middle;\" /></a> <a class=\"ProveItLink\" href=\"../../../__pv_it/_proof_real_minus_floor_lower_bound/8c6e6ab37adf8df58188f05a2340e404bcad37910/proof.ipynb\" style=\"text-decoration: none\">&nbsp;&#x22A2;&nbsp;&nbsp;</a><a class=\"ProveItLink\" href=\"../../../__pv_it/axioms/910f70f3bf848181bc9df91bb7f84bc8cc4725b50/expr.ipynb\"><img src=\"data:image/png;base64,iVBORw0KGgoAAAANSUhEUgAAAEIAAAAVBAMAAAAA8SWUAAAAMFBMVEX///8AAAAAAAAAAAAAAAAA\n",
       "AAAAAAAAAAAAAAAAAAAAAAAAAAAAAAAAAAAAAAAAAAAv3aB7AAAAD3RSTlMAEGZU7912qzKJmSLN\n",
       "RLs7fb+cAAAACXBIWXMAAA7EAAAOxAGVKw4bAAAAxklEQVQoz2MQZIADbgasQAnBvEVdFcynCahg\n",
       "ihLAr4ItUgC/LZJhGO4QS5eYaQBXIRUEk2NMK+ycDFaxgK2MKwCmQvwwXDcXQ3rCUpAKpg1MH9kV\n",
       "YCrYESq0GfQFikAqOBi4DiC5YxfclgaGNTCXsiTgcKkbTMX9DYwC2HzL+5tBEKRC7kIJAyeWEGN8\n",
       "y+7AMAGkwr5xCcNltFA/ASJ+SDnwGoBUSKUxLzLAEnOMyxKslGkU+6KhIBBBihkmodDwMQ0Nw6oA\n",
       "APn/NejzTBWdAAAAAElFTkSuQmCC\n",
       "\" style=\"display:inline;vertical-align:middle;\" /></a></span></td></tr>\n",
       "<tr><td>&nbsp;</td><td colspan=4 style=\"text-align:left\"><span style=\"font-size:20px;\"><a class=\"ProveItLink\" href=\"../../../../../__pv_it/common/a0d9d672aa5e272d907247690c152cc2c6daafb70/expr.ipynb\"><img src=\"data:image/png;base64,iVBORw0KGgoAAAANSUhEUgAAAAsAAAAJBAMAAAAWSsseAAAAMFBMVEX///8AAAAAAAAAAAAAAAAA\n",
       "AAAAAAAAAAAAAAAAAAAAAAAAAAAAAAAAAAAAAAAAAAAv3aB7AAAAD3RSTlMAEHarMolUmd1mIs3v\n",
       "RLtmgJDEAAAACXBIWXMAAA7EAAAOxAGVKw4bAAAAQklEQVQI12NgEFIWCU1gYChgMmJvYOBcwPmR\n",
       "eQIDCwP7BgYQ4FEAU/cXMAowyF2wYWBlYMh3rGG4xsAgrsRWmcAAAFEjCyBvD0T9AAAAAElFTkSu\n",
       "QmCC\n",
       "\" style=\"display:inline;vertical-align:middle;\" /></a> : <a class=\"ProveItLink\" href=\"../../../../../__pv_it/common/a0d9d672aa5e272d907247690c152cc2c6daafb70/expr.ipynb\"><img src=\"data:image/png;base64,iVBORw0KGgoAAAANSUhEUgAAAAsAAAAJBAMAAAAWSsseAAAAMFBMVEX///8AAAAAAAAAAAAAAAAA\n",
       "AAAAAAAAAAAAAAAAAAAAAAAAAAAAAAAAAAAAAAAAAAAv3aB7AAAAD3RSTlMAEHarMolUmd1mIs3v\n",
       "RLtmgJDEAAAACXBIWXMAAA7EAAAOxAGVKw4bAAAAQklEQVQI12NgEFIWCU1gYChgMmJvYOBcwPmR\n",
       "eQIDCwP7BgYQ4FEAU/cXMAowyF2wYWBlYMh3rGG4xsAgrsRWmcAAAFEjCyBvD0T9AAAAAElFTkSu\n",
       "QmCC\n",
       "\" style=\"display:inline;vertical-align:middle;\" /></a></span></td></tr><tr><td><a name=\"-0x597808940d342878_step4\">4</a></td><td>axiom</td><td></td><td><span style=\"font-size:20px;\"> <a class=\"ProveItLink\" href=\"../../axioms.ipynb#floor_of_x_less_eq_x\" style=\"text-decoration: none\">&nbsp;&#x22A2;&nbsp;&nbsp;</a><a class=\"ProveItLink\" href=\"../../../__pv_it/axioms/c68b5cfacaa00a4f0a64b832bc3c745ba71851820/expr.ipynb\"><img src=\"data:image/png;base64,iVBORw0KGgoAAAANSUhEUgAAAIoAAAAVBAMAAABrmWvBAAAAMFBMVEX///8AAAAAAAAAAAAAAAAA\n",
       "AAAAAAAAAAAAAAAAAAAAAAAAAAAAAAAAAAAAAAAAAAAv3aB7AAAAD3RSTlMAq1RmmUTNIjK7EInv\n",
       "3XZ/CtNrAAAACXBIWXMAAA7EAAAOxAGVKw4bAAACFUlEQVQ4y42UTUgbQRTH/9mPbLprF6EgKKUs\n",
       "WLyoVDxUFKortrZoLUHBi4IBD4IHWY8FD/GqFHsRXYWQQw6mgkQPLShKLr20WKTQ48KGth4Ec1V6\n",
       "6sxmdrMJs5oHu/Nm5s2P9968N8CdYkHNhmc8UXCP6AbEnmAmm1wj2QWaqdIeQelEAxT8Bl7RcYG/\n",
       "raYiKR2h6OJZrNLIPvIpUk8U5cVYyEw0KQiawac0IYJyfVxj982zikekpYNPUU/dWrt54NxxvkdQ\n",
       "xhlFLbetHwUUdSIAH5T2Tkgch8AbYCeCMs8oEkruhE9RW6rxm/oT6QJ4DixDaQ6d7P48vOTrPxml\n",
       "D0PZR4EvVYpoif9iZL8LeJDVkmw1UbKTuoYvBTb/yihpjIbyogQRJSCl6LgBCG6Q3JdpUq46Btw6\n",
       "CvAjIrtNnjZLvtQg+ZVf/7F0eoBQrsy6iCDf4BP3pucs2mfdRDtaJGet1riR91pHUzK+x5kKRd2M\n",
       "FVHgVF0++RgaGfvJt0KSKyKTwJRHkXaDSj6sUITbXFE26jqABI9na28xySoiRhdwQy7Mtm1D17VJ\n",
       "3/QD8+Wd+7SX1425sjBCL+yXv5AoKlj3fNHlGf9JeZhuqKeVC6asaCmJ3LmXFxyb1TZrhCL5JtLf\n",
       "syso20SbvizkRv39LQ5FdTxJVynva6H7tp2sWcg35MvWPS+m4kI4dyo1JjiOy39WLfwHeyd8dJUM\n",
       "MvgAAAAASUVORK5CYII=\n",
       "\" style=\"display:inline;vertical-align:middle;\" /></a></span></td></tr>\n",
       "<tr><td>&nbsp;</td><td colspan=4 style-\"text-align:left\"><a class=\"ProveItLink\" href=\"../../axioms.ipynb#floor_of_x_less_eq_x\">proveit.numbers.rounding.floor_of_x_less_eq_x</a></td></tr><tr><td><a name=\"-0x597808940d342878_step5\">5</a></td><td>assumption</td><td></td><td><span style=\"font-size:20px;\"><a class=\"ProveItLink\" href=\"../../../../ordering/__pv_it/theorems/d1323f34847310a404e8089c2c268d3c2eb89dbf0/expr.ipynb\"><img src=\"data:image/png;base64,iVBORw0KGgoAAAANSUhEUgAAADQAAAAQBAMAAACra0H4AAAAMFBMVEX///8AAAAAAAAAAAAAAAAA\n",
       "AAAAAAAAAAAAAAAAAAAAAAAAAAAAAAAAAAAAAAAAAAAv3aB7AAAAD3RSTlMAEHarMolUmd1mIs3v\n",
       "RLtmgJDEAAAACXBIWXMAAA7EAAAOxAGVKw4bAAAAyklEQVQY02NgwACce9797nnJgBXwcRnwWj7E\n",
       "IRXA8MAZp1QVN4qQXkfHBrgUH7LMbUUkXYbCQIaQskhoApDm2ohkIMuzXUBGAZMRewOQ5l6AkDrd\n",
       "3yQA9MUCzo/ME0BSSM6InAiylIWBHWw3g08HEDyAGvhwJliMRwFMySE73p1PAMS6v4ARRHMgS7F7\n",
       "AfXLXbBhYAUJMCkgSTE+0GRgyHesYbgGFtmGkCpgmMl3gUFcia0yASwi/FYAFvL/FvC9/oYcHFdf\n",
       "QAIKCgBACzQrtGfvLgAAAABJRU5ErkJggg==\n",
       "\" style=\"display:inline;vertical-align:middle;\" /></a> <a class=\"ProveItLink\" href=\"../../../__pv_it/_proof_real_minus_floor_lower_bound/f4d30bd5c69ca835d295c6e2594e4611254792f40/proof.ipynb\" style=\"text-decoration: none\">&nbsp;&#x22A2;&nbsp;&nbsp;</a><a class=\"ProveItLink\" href=\"../../../../ordering/__pv_it/theorems/d1323f34847310a404e8089c2c268d3c2eb89dbf0/expr.ipynb\"><img src=\"data:image/png;base64,iVBORw0KGgoAAAANSUhEUgAAADQAAAAQBAMAAACra0H4AAAAMFBMVEX///8AAAAAAAAAAAAAAAAA\n",
       "AAAAAAAAAAAAAAAAAAAAAAAAAAAAAAAAAAAAAAAAAAAv3aB7AAAAD3RSTlMAEHarMolUmd1mIs3v\n",
       "RLtmgJDEAAAACXBIWXMAAA7EAAAOxAGVKw4bAAAAyklEQVQY02NgwACce9797nnJgBXwcRnwWj7E\n",
       "IRXA8MAZp1QVN4qQXkfHBrgUH7LMbUUkXYbCQIaQskhoApDm2ohkIMuzXUBGAZMRewOQ5l6AkDrd\n",
       "3yQA9MUCzo/ME0BSSM6InAiylIWBHWw3g08HEDyAGvhwJliMRwFMySE73p1PAMS6v4ARRHMgS7F7\n",
       "AfXLXbBhYAUJMCkgSTE+0GRgyHesYbgGFtmGkCpgmMl3gUFcia0yASwi/FYAFvL/FvC9/oYcHFdf\n",
       "QAIKCgBACzQrtGfvLgAAAABJRU5ErkJggg==\n",
       "\" style=\"display:inline;vertical-align:middle;\" /></a></span></td></tr>\n",
       "</table>"
      ],
      "text/plain": [
       "\tstep type\trequirements\tstatement\n",
       "0\tgeneralization\t1\t|- forall_{x in Real} ((x - floor(x)) >= 0)\n",
       "1\tinstantiation\t2, 3\t{x in Real} |- (x - floor(x)) >= 0\n",
       "\ta : x, b : floor(x)\n",
       "2\tconjecture\t\t|- forall_{a, b | a >= b} ((a - b) >= 0)\n",
       "\tproveit.numbers.addition.subtraction.nonneg_difference\n",
       "3\tinstantiation\t4, 5\t{x in Real} |- floor(x) <= x\n",
       "\tx : x\n",
       "4\taxiom\t\t|- forall_{x in Real} (floor(x) <= x)\n",
       "\tproveit.numbers.rounding.floor_of_x_less_eq_x\n",
       "5\tassumption\t\t{x in Real} |- x in Real"
      ]
     },
     "execution_count": 3,
     "metadata": {},
     "output_type": "execute_result"
    }
   ],
   "source": [
    "%qed"
   ]
  }
 ],
 "metadata": {
  "kernelspec": {
   "display_name": "Python 3",
   "language": "python",
   "name": "python3"
  }
 },
 "nbformat": 4,
 "nbformat_minor": 0
}