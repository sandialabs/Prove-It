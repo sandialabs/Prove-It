{
 "cells": [
  {
   "cell_type": "markdown",
   "metadata": {},
   "source": [
    "Proof of <a class=\"ProveItLink\" href=\"../../../../../_theory_nbs_/theory.ipynb\">proveit</a>.<a class=\"ProveItLink\" href=\"../../../../_theory_nbs_/theory.ipynb\">numbers</a>.<a class=\"ProveItLink\" href=\"../../theory.ipynb\">rounding</a>.<a class=\"ProveItLink\" href=\"../../theorems.ipynb#round_of_real_plus_int\">round_of_real_plus_int</a> theorem\n",
    "========"
   ]
  },
  {
   "cell_type": "code",
   "execution_count": 1,
   "metadata": {},
   "outputs": [],
   "source": [
    "import proveit\n",
    "theory = proveit.Theory() # the theorem's theory"
   ]
  },
  {
   "cell_type": "code",
   "execution_count": 2,
   "metadata": {},
   "outputs": [
    {
     "data": {
      "text/html": [
       "With these <a href=\"allowed_presumptions.txt\">allowed</a>/<a href=\"disallowed_presumptions.txt\">disallowed</a> theorem/theory presumptions (e.g., to avoid circular dependencies), we begin our proof of<br><strong id=\"round_of_real_plus_int\">round_of_real_plus_int:</strong> <a class=\"ProveItLink\" href=\"../../../__pv_it/theorems/b927e8bd8a45f101eac3c655421d24cf5879d43b0/expr.ipynb\"><img src=\"data:image/png;base64,iVBORw0KGgoAAAANSUhEUgAAAasAAAAVBAMAAAAKiNzvAAAAMFBMVEX///8AAAAAAAAAAAAAAAAA\n",
       "AAAAAAAAAAAAAAAAAAAAAAAAAAAAAAAAAAAAAAAAAAAv3aB7AAAAD3RSTlMAq1RmmUTNIjK7EInv\n",
       "3XZ/CtNrAAAACXBIWXMAAA7EAAAOxAGVKw4bAAAFbklEQVRYw5VYb2gcRRT/5W4ve7d7t4kUC00l\n",
       "HCimYEuWElrtB3MhtSohelT0izGeKIhF5YJ+qTbmVFAw2l6loZ6FuMGitIpZq2gTNZ6o+CcoUSxW\n",
       "2simxrS2EEODpORD8M3sJrnZu51rFt4x+95v377fmzdvZg+QXMZkTmZGFlUudW0W9Wr9ZYPjyVYP\n",
       "W09LzUayWhjnAi0RZ01wH6C7srnbE4q7nt1fH0RLZsVNwe+PPp6i35AdjPirXCWDv/RNKcAwK+fZ\n",
       "dIVo3cbuHw2iJbNqGUle69hMviMB1FplKhkclwXAnsqgPa4QredZyeaDaMmsiimJ4kEWdbtYdwI+\n",
       "nCp7pl3iL7IoAFoq+uTqFk6LZU1PBtGSWeOy5H7BfopijYnL6ceyZ4qyZT4hAOJWRZ9MTUK0wsS3\n",
       "NrBlyKw3ymg9wt6ZkdF6uGxpyYq6NiUAas2KPpmahLW6nyYnx4M7ocTaQZ1hRO0gT2NTaW3aRI0V\n",
       "mXp3bJDKduMFthQUWuHabEP/CSEED4MPy4qa4P35pz+i985eiw+o4hrQ3fDsP/RYz9iBpOBPrxdp\n",
       "eTimJmG07gDeDKYlsVK69ViHXkRvWl3QQ0W00n0jhrPoysYWvdwpmHI6hRA8DLbxu85Jdv2ynGr7\n",
       "kP051FPoy9qbEZ6DfdDRFhD5Dm9Zgr9wRqTl4riahNHqgVpfEuyWT9qeLKHls+K6I3d+7A1/BZ6q\n",
       "naAU/gmceUGZwHrcm8ijL6d9DYW9NkEZ3o5Wa50QgosBNvvTRHDVfIKKIOEgcTLZiZpMJP0H1Ct4\n",
       "38Qu0V+oKFaAi+NqEkYrZq3sutGpQtrQ8am9SqvEiv0bBvA7Ri96t98Cr9SxBM4BX1lxBz/DGk6j\n",
       "2SJFgrmI05M5HhCBJifPUkFTilwMcKCsBaURteZpcDeNG8hb3NG0/xBaZIozor/onODTw3E1CQs5\n",
       "5Kz0hJ2URMPADmeVVolVoYKEGW0yV2nxPh7PQ12iEUtXM2jOSDGc9sIAhedrGRwDdFWg5fbxH4A+\n",
       "h0Y0p6E5mjNSUNiCv4g4Wx6OqyPubCFzK/3M3j6d5Xs30bqYKjk8MWu4ff/08rlAUbBahGDLZtiB\n",
       "vkAjY47HO6+RotWrKnrLAo6LIXAMVbt/bTE4lTK0JeDLLI3+BYu1zjy+xJaZ4C80IfrkOIurSTit\n",
       "E7QvG9kNtclj/ACiq4NmCS1mfbvLjGc1d1fevmmZFmtnrDaoEOM2DiKW34FxqgV9OIn1IWoKMQfa\n",
       "QE0RthgCxwC3+GeL4G7xzjNMrB6FsEWOm63RyxR2k+AvnBd9cpzN1SSc1j4qzjAGo7iH01KO5EuP\n",
       "usz6zAzqLHdD15yVgxt1aJXVhlKPQ0AbXrVtqkMjc3PMCf3G5pRabejK0WIkKYTgYvj+4Ou79KY+\n",
       "FlAbYinyGh3XWR3OhHOD2JJKCf4UX6pcHFeTcFo1/BhP7XFboVBIGoa+u5QWtzbSSgg/Vii8Dl23\n",
       "NG+Hf40qgtfCZ9OEGxpraszRvbYuqTWe7LnA1jXd3eXcsFVcWy4GOFV2PCZnD/DXjtFRVNt4jpzQ\n",
       "/dBWDF16uTEn+EukRVoujqtJVrtctKiin8+WEbnf8n+YfI+d0ShP0O4XoXvmRK7ad8RpySlDnagC\n",
       "l/rrrXxy6XVlJe59ekahZs7XFkZTPlrqHE5vcrdlO+VmtPJh1Xe1SI66FQ7KLVfvr73yUbfdlRVa\n",
       "yt9jF6G+QaP7Zuyju3y0IvW4ZGIvzU74msaRh5adHK4WRkzy+bx3bXAREPBRwdRMfJ+/7xUK6eCv\n",
       "Y22kMCDAj1WjpeWDbYfXBhcBAQlgaiZVvup1+Z8CqlON13PBfxhk1wT3Ac5XNp93xTib/h+tf7vM\n",
       "OTGdxQAAAABJRU5ErkJggg==\n",
       "\" style=\"display:inline;vertical-align:middle;\" /></a><br>(see <a class=\"ProveItLink\" href=\"../../../__pv_it/theorems/8567212769b13d2fb90d278ddabf3467304c01d00/dependencies.ipynb\">dependencies</a>)<br>"
      ],
      "text/plain": [
       "<IPython.core.display.HTML object>"
      ]
     },
     "metadata": {},
     "output_type": "display_data"
    }
   ],
   "source": [
    "%proving round_of_real_plus_int"
   ]
  },
  {
   "cell_type": "code",
   "execution_count": null,
   "metadata": {},
   "outputs": [],
   "source": []
  }
 ],
 "metadata": {
  "kernelspec": {
   "display_name": "Python 3",
   "language": "python",
   "name": "python3"
  }
 },
 "nbformat": 4,
 "nbformat_minor": 0
}