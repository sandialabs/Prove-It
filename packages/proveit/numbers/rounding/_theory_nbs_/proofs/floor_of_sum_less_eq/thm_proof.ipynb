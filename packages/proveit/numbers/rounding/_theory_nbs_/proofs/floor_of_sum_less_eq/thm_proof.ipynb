{
 "cells": [
  {
   "cell_type": "markdown",
   "metadata": {},
   "source": [
    "Proof of <a class=\"ProveItLink\" href=\"../../../../../_theory_nbs_/theory.ipynb\">proveit</a>.<a class=\"ProveItLink\" href=\"../../../../_theory_nbs_/theory.ipynb\">numbers</a>.<a class=\"ProveItLink\" href=\"../../theory.ipynb\">rounding</a>.<a class=\"ProveItLink\" href=\"../../theorems.ipynb#floor_of_sum_less_eq\">floor_of_sum_less_eq</a> theorem\n",
    "========"
   ]
  },
  {
   "cell_type": "code",
   "execution_count": 1,
   "metadata": {},
   "outputs": [],
   "source": [
    "import proveit\n",
    "theory = proveit.Theory() # the theorem's theory"
   ]
  },
  {
   "cell_type": "code",
   "execution_count": 2,
   "metadata": {},
   "outputs": [
    {
     "data": {
      "text/html": [
       "With these <a href=\"allowed_presumptions.txt\">allowed</a>/<a href=\"disallowed_presumptions.txt\">disallowed</a> theorem/theory presumptions (e.g., to avoid circular dependencies), we begin our proof of<br><strong id=\"floor_of_sum_less_eq\">floor_of_sum_less_eq:</strong> <a class=\"ProveItLink\" href=\"../../../__pv_it/theorems/603a3f1682661b4b8a977ee9752b1dad33bbfc030/expr.ipynb\"><img src=\"data:image/png;base64,iVBORw0KGgoAAAANSUhEUgAAATkAAAAWBAMAAABJQvaVAAAAMFBMVEX///8AAAAAAAAAAAAAAAAA\n",
       "AAAAAAAAAAAAAAAAAAAAAAAAAAAAAAAAAAAAAAAAAAAv3aB7AAAAD3RSTlMAq1RmmUTNIjK7EInv\n",
       "3XZ/CtNrAAAACXBIWXMAAA7EAAAOxAGVKw4bAAADcElEQVRIx82WTWgTQRTHXz62SXbTNSAI2lIW\n",
       "WnrRahBRFKyRahU1EmrpRdCAB8GDrFepEK+2Yj2IRqFE6MFYKbGHChUlF0HQShUEEbdsoCoWLQXB\n",
       "SE/O7ptJk9mZbXNz4B+SvP2//c33A9hIM0Et+MfXsUS4aF0sIktowsaabkAo6RNXUutZBrlwXWxQ\n",
       "lPEcVcL50elPtx2apuMszdBFP5POJVFHnT8u+sKp2Sbouk2RpQm6h/2r5PMS6roz9WO+dOGkh05J\n",
       "SugOnhBaGMIZOV0tpe7Q7UG1kPWpGb50cfDQBW0x3a9ZsYUh7JTT1VK6dPGCK+e5Fv9l171ROvWF\n",
       "LbE0TdeSRM1Z1ht/upM0nbq8bWS6MdVUH6gJRqemk7wFpiqPnhtiOvRK6LQE6jjAfX+6CzRdGCp2\n",
       "ujFVaQeEViidusXwWCCld4TnxXToldCFsqgrEEl4iXpmDl9m3z/QdPvgUGFzQ6qokYbAGBu7Ojpm\n",
       "CZmh1UBSSEe9ErpgGRUraBnuwKnkM7oGz0r09yv6qhz044a0rC9kPZA+qfAO4jaji6zNLLNEIZyt\n",
       "La60Zb21rPeUjnoxtJaS0kVXUEGb3xRHcuQRHQ7Y3KuA5OM6qqzCrZxgV6xZ4rZsV6BXMnZKGQXZ\n",
       "XvKxfGyRHKNKBQLuGe3QLaW4aQKlCo8bU5GR+Sk6UWoWOG86d6qIDr2ymZ1HwTQ5k3VzawtZNVOb\n",
       "CqNQdB/RIuNsnsbpVNwJlKHUmCqWgNui05haoJhpB00yduiV7YoxFAyT2Q7BeJR8vdoDP/A818MP\n",
       "ahfIU0wX/DtRVgxu7BLKb+4my9VZYNeNUzAgoUOvl06rOolLKAi4+apupA06YG8+nzd0XRtgL7xJ\n",
       "x+603bWbS6W2LVZFVQC1wMRysM+Q0KHXQxdo/0MOhtYMiu7TsltnfYTXMOKOna6cZTVYa87nrtCy\n",
       "IjreIr4rHK937Nx2jcptw1o2DJMAn5QVcsS46w5m2TtDKWkVMANPDBEdbxFVAej1VgFu66PC9fP1\n",
       "5RKMGtC1PwuRe+SPoW+liX4WvSutoBbIWmB0quW2nMgiqqDQK64+naqJr5wM1YwR22Q+33g+F6V0\n",
       "nYsZcfVZXJ8OvWK6mImqn65CwB4S9sSG4JxlS67hoCUINVh6rAXew2LekNu+U9V3CJTeEvxP7R9t\n",
       "dhYKw3003QAAAABJRU5ErkJggg==\n",
       "\" style=\"display:inline;vertical-align:middle;\" /></a><br>(see <a class=\"ProveItLink\" href=\"../../../__pv_it/theorems/6bcd7dd724a0f333f7c0df681b5629df191b74f40/dependencies.ipynb\">dependencies</a>)<br>"
      ],
      "text/plain": [
       "<IPython.core.display.HTML object>"
      ]
     },
     "metadata": {},
     "output_type": "display_data"
    }
   ],
   "source": [
    "%proving floor_of_sum_less_eq"
   ]
  },
  {
   "cell_type": "code",
   "execution_count": null,
   "metadata": {},
   "outputs": [],
   "source": []
  }
 ],
 "metadata": {
  "kernelspec": {
   "display_name": "Python 3",
   "language": "python",
   "name": "python3"
  }
 },
 "nbformat": 4,
 "nbformat_minor": 0
}