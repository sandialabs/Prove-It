{
 "cells": [
  {
   "cell_type": "markdown",
   "metadata": {},
   "source": [
    "Proof of <a class=\"ProveItLink\" href=\"../../../../../_theory_nbs_/theory.ipynb\">proveit</a>.<a class=\"ProveItLink\" href=\"../../../../_theory_nbs_/theory.ipynb\">numbers</a>.<a class=\"ProveItLink\" href=\"../../theory.ipynb\">rounding</a>.<a class=\"ProveItLink\" href=\"../../theorems.ipynb#floor_of_ceil\">floor_of_ceil</a> theorem\n",
    "========"
   ]
  },
  {
   "cell_type": "code",
   "execution_count": 1,
   "metadata": {},
   "outputs": [],
   "source": [
    "import proveit\n",
    "theory = proveit.Theory() # the theorem's theory"
   ]
  },
  {
   "cell_type": "code",
   "execution_count": 2,
   "metadata": {},
   "outputs": [
    {
     "data": {
      "text/html": [
       "With these <a href=\"allowed_presumptions.txt\">allowed</a>/<a href=\"disallowed_presumptions.txt\">disallowed</a> theorem/theory presumptions (e.g., to avoid circular dependencies), we begin our proof of<br><strong id=\"floor_of_ceil\">floor_of_ceil:</strong> <a class=\"ProveItLink\" href=\"../../../__pv_it/theorems/805e5145fa69d880b8ef03cf8e2b575001a867430/expr.ipynb\"><img src=\"data:image/png;base64,iVBORw0KGgoAAAANSUhEUgAAAK8AAAAVBAMAAADC7aNVAAAAMFBMVEX///8AAAAAAAAAAAAAAAAA\n",
       "AAAAAAAAAAAAAAAAAAAAAAAAAAAAAAAAAAAAAAAAAAAv3aB7AAAAD3RSTlMAq1RmmUTNIjK7EInv\n",
       "3XZ/CtNrAAAACXBIWXMAAA7EAAAOxAGVKw4bAAACLElEQVQ4y52VPYgTQRTH/9mP7F42NxxYKSKL\n",
       "io0cBhUFC42cnoKehFNsRA1YCBbH2p8QWw/BRnQVwhYpjILEKxQUJI2VnPhRz7EBP+CKYHdi5Zvd\n",
       "nWTPbDYwU8y8mffmx+O9N2+A3OGhFNBich5Ge43zCi3WiOFVvh4Ls/ybuDZhMBe6AEVTPMwqTZdG\n",
       "LA8NRVJeo2VGyHvGgPdDDczI/rSQb2ZzS3VFMG4Bd0XIHmSDjYoq+DBQpOQ4bja4DFVwOYjuFMeE\n",
       "eJ8yuEgX1jj/OAZ8Lg0u9XesrOaCX/aevXNjpUM1cRZ4MgZ8Iw020AsXtoAXuBhfBuAq22V8jpU6\n",
       "pf02rJkUbPb1ySUpf02Dj+JEsC3PY93T/xYqsVLrAlOBU0u0ds+vMQdvOsn+QxrcwHx+jG0YdRlj\n",
       "+zfBw0HuTjWothmOhVlg4NOk5JVDCTbJY9SP09Q/890T70WAN6pZoYC5iee5McZ1T3SWKBQUa6zS\n",
       "M2He9qLbjtqDYzVlcTVT4NLDQhedPI/btZ1wEqUuntwy5U5H08bFCGw8HbzDVymw9qfVNd088IF7\n",
       "57GYKA2RpkJDaDaBI77vu4w5i9L6ftrjC+Heg7kxbvW1OTdRTst6gN21sBJ5zMwrQXI43VB9eXfk\n",
       "ZtmpG1R4UYzxViZPr6qC5wZ97Mf7DViPSbr8s9Oal8ePFMH/t8sXvl/bctBWBE9N+pusENoafXfa\n",
       "sK/aHfrW1kcsdw9FStUv4B82MpTbiNGNMQAAAABJRU5ErkJggg==\n",
       "\" style=\"display:inline;vertical-align:middle;\" /></a><br>(see <a class=\"ProveItLink\" href=\"../../../__pv_it/theorems/99f0aa4301ed1b52bf0bb5971207cd12d8b7a4620/dependencies.ipynb\">dependencies</a>)<br>"
      ],
      "text/plain": [
       "<IPython.core.display.HTML object>"
      ]
     },
     "metadata": {},
     "output_type": "display_data"
    }
   ],
   "source": [
    "%proving floor_of_ceil"
   ]
  },
  {
   "cell_type": "code",
   "execution_count": null,
   "metadata": {},
   "outputs": [],
   "source": []
  }
 ],
 "metadata": {
  "kernelspec": {
   "display_name": "Python 3",
   "language": "python",
   "name": "python3"
  }
 },
 "nbformat": 4,
 "nbformat_minor": 0
}