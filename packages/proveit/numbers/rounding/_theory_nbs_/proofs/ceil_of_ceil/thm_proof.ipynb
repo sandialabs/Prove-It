{
 "cells": [
  {
   "cell_type": "markdown",
   "metadata": {},
   "source": [
    "Proof of <a class=\"ProveItLink\" href=\"../../../../../_theory_nbs_/theory.ipynb\">proveit</a>.<a class=\"ProveItLink\" href=\"../../../../_theory_nbs_/theory.ipynb\">numbers</a>.<a class=\"ProveItLink\" href=\"../../theory.ipynb\">rounding</a>.<a class=\"ProveItLink\" href=\"../../theorems.ipynb#ceil_of_ceil\">ceil_of_ceil</a> theorem\n",
    "========"
   ]
  },
  {
   "cell_type": "code",
   "execution_count": 1,
   "metadata": {},
   "outputs": [],
   "source": [
    "import proveit\n",
    "theory = proveit.Theory() # the theorem's theory"
   ]
  },
  {
   "cell_type": "code",
   "execution_count": 2,
   "metadata": {},
   "outputs": [
    {
     "data": {
      "text/html": [
       "With these <a href=\"allowed_presumptions.txt\">allowed</a>/<a href=\"disallowed_presumptions.txt\">disallowed</a> theorem/theory presumptions (e.g., to avoid circular dependencies), we begin our proof of<br><strong id=\"ceil_of_ceil\">ceil_of_ceil:</strong> <a class=\"ProveItLink\" href=\"../../../__pv_it/theorems/59939e22cdd6bf3dd602f57f38071e96362d06df0/expr.ipynb\"><img src=\"data:image/png;base64,iVBORw0KGgoAAAANSUhEUgAAAK8AAAAVBAMAAADC7aNVAAAAMFBMVEX///8AAAAAAAAAAAAAAAAA\n",
       "AAAAAAAAAAAAAAAAAAAAAAAAAAAAAAAAAAAAAAAAAAAv3aB7AAAAD3RSTlMAq1RmmUTNIjK7EInv\n",
       "3XZ/CtNrAAAACXBIWXMAAA7EAAAOxAGVKw4bAAACJUlEQVQ4y52VPYgTQRTH/9mP7F42NxxYKSKL\n",
       "io0cBhUFC42cnoKehFNsRA1YCBbH2p8QW4NgI7oKYYsURkHiFQoKksZKFD/qkQ34AVcEuxMr3+zu\n",
       "JHtms4GZYubt/N/8GN7HLJA7PJich/EkhsZ5BfP865jjZf4tNiLRw5TBXOgVWqMpHmaVpgtjngdG\n",
       "JolXaJkT9q4J4L1QAzPyPyns69ncUl0RjBvAbVqse9lgo6IKPggUA8Bxs8FlqILLQXSmOCHEe5TB\n",
       "RTrwgfP3E8Bn0uDSYFtzLRf8vP/kjRuLDtXEaeDRBPC1NNhAP1zaBF7iYnwegqtsh/EpFnVK+01Y\n",
       "cynY/MvjK9L+kgYfxrFgS96NdU//W6jEotYDZgKnlqh2368xB6+6yfe7NLiBxfwY2zDqMsb2b4KH\n",
       "w9ydaFBtMxwJs8DAx2nJK4cSbNKNUT9K0+DUd0/0iwCvV7NCAXMDT3NjjKteKUhCQbHGGrUJ87YW\n",
       "3U70PDhWSxZXKwUu3S/00M27cae2HU4i6qLlVil3Olo2zkdg4/GwD1+kwNqfds9088D77pzFciIa\n",
       "Ik2FhlA2gEO+77uMOcvS+276xufC3ftzY9weaAtuIs7KeoDds9CMbszMS0GyOdtQ7bxb8mPVqRtU\n",
       "eFGM8VomT6+qgheG79iPt+uwHpJ18We3vSi3HyiC/38un/l+bdNGRxE8M+3fZIXQRD600btqi3w3\n",
       "xzx3jkwSfwH/AI6XlN/CrusvAAAAAElFTkSuQmCC\n",
       "\" style=\"display:inline;vertical-align:middle;\" /></a><br>(see <a class=\"ProveItLink\" href=\"../../../__pv_it/theorems/ce19bc99ae6646a1ccc024a8e0781c9bddae5c0d0/dependencies.ipynb\">dependencies</a>)<br>"
      ],
      "text/plain": [
       "<IPython.core.display.HTML object>"
      ]
     },
     "metadata": {},
     "output_type": "display_data"
    }
   ],
   "source": [
    "%proving ceil_of_ceil"
   ]
  },
  {
   "cell_type": "code",
   "execution_count": null,
   "metadata": {},
   "outputs": [],
   "source": []
  }
 ],
 "metadata": {
  "kernelspec": {
   "display_name": "Python 3",
   "language": "python",
   "name": "python3"
  }
 },
 "nbformat": 4,
 "nbformat_minor": 0
}