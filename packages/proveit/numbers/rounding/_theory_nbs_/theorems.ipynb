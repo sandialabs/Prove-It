{
 "cells": [
  {
   "cell_type": "markdown",
   "metadata": {},
   "source": [
    "Theorems (or conjectures) for the theory of <a class=\"ProveItLink\" href=\"theory.ipynb\">proveit.numbers.rounding</a>\n",
    "========"
   ]
  },
  {
   "cell_type": "code",
   "execution_count": null,
   "metadata": {},
   "outputs": [],
   "source": [
    "import proveit\n",
    "# Prepare this notebook for defining the theorems of a theory:\n",
    "%theorems_notebook # Keep this at the top following 'import proveit'.\n",
    "from proveit import a, n, x, y\n",
    "from proveit.logic import Equals, Forall, InSet\n",
    "from proveit.numbers import (Add, Ceil, Floor, frac, greater_eq, IntervalCO, Less, LessEq,\n",
    "                            Neg, Round, subtract)\n",
    "from proveit.numbers import (zero, one, two, Integer, Natural,\n",
    "                            NaturalPos, Real, RealPos)"
   ]
  },
  {
   "cell_type": "code",
   "execution_count": null,
   "metadata": {},
   "outputs": [],
   "source": [
    "%begin theorems"
   ]
  },
  {
   "cell_type": "markdown",
   "metadata": {},
   "source": [
    "### Basic Properties of Ceil, Floor, & Round"
   ]
  },
  {
   "cell_type": "code",
   "execution_count": null,
   "metadata": {},
   "outputs": [],
   "source": [
    "ceil_of_integer = Forall(x, Equals(Ceil(x), x), domain=Integer)"
   ]
  },
  {
   "cell_type": "code",
   "execution_count": null,
   "metadata": {},
   "outputs": [],
   "source": [
    "floor_of_integer = Forall(x, Equals(Floor(x), x), domain=Integer)"
   ]
  },
  {
   "cell_type": "code",
   "execution_count": null,
   "metadata": {},
   "outputs": [],
   "source": [
    "round_of_integer = Forall(x, Equals(Round(x), x), domain=Integer)"
   ]
  },
  {
   "cell_type": "code",
   "execution_count": null,
   "metadata": {},
   "outputs": [],
   "source": [
    "ceil_of_sum_less_eq = Forall(\n",
    "    (x, y),\n",
    "    LessEq(Ceil(Add(x,y)), Add(Ceil(x), Ceil(y))),\n",
    "    domain=Real)"
   ]
  },
  {
   "cell_type": "code",
   "execution_count": null,
   "metadata": {},
   "outputs": [],
   "source": [
    "ceil_of_sum_greater_eq = Forall(\n",
    "    (x, y),\n",
    "    greater_eq(Ceil(Add(x,y)), subtract(Add(Ceil(x), Ceil(y)), one)),\n",
    "    domain=Real)"
   ]
  },
  {
   "cell_type": "code",
   "execution_count": null,
   "metadata": {},
   "outputs": [],
   "source": [
    "floor_of_sum_less_eq = Forall(\n",
    "    (x, y),\n",
    "    LessEq(Floor(Add(x,y)), Add(Floor(x), Floor(y), one)),\n",
    "    domain=Real)"
   ]
  },
  {
   "cell_type": "code",
   "execution_count": null,
   "metadata": {},
   "outputs": [],
   "source": [
    "floor_of_sum_greater_eq = Forall(\n",
    "    (x, y),\n",
    "    greater_eq(Floor(Add(x,y)), Add(Floor(x), Floor(y))),\n",
    "    domain=Real)"
   ]
  },
  {
   "cell_type": "code",
   "execution_count": null,
   "metadata": {},
   "outputs": [],
   "source": [
    "ceil_of_real_plus_int = Forall(\n",
    "    x,\n",
    "    Forall(n,\n",
    "           Equals(Ceil(Add(x, n)), Add(Ceil(x), n)),\n",
    "           domain=Integer),\n",
    "    domain=Real)"
   ]
  },
  {
   "cell_type": "code",
   "execution_count": null,
   "metadata": {},
   "outputs": [],
   "source": [
    "floor_of_real_plus_int = Forall(\n",
    "    x,\n",
    "    Forall(n,\n",
    "           Equals(Floor(Add(x, n)), Add(Floor(x), n)),\n",
    "           domain=Integer),\n",
    "    domain=Real)"
   ]
  },
  {
   "cell_type": "code",
   "execution_count": null,
   "metadata": {},
   "outputs": [],
   "source": [
    "round_of_real_plus_int = Forall(\n",
    "    x,\n",
    "    Forall(n,\n",
    "           Equals(Round(Add(x, n)), Add(Round(x), n)),\n",
    "           domain=Integer),\n",
    "    domain=Real)"
   ]
  },
  {
   "cell_type": "markdown",
   "metadata": {},
   "source": [
    "### Comparing a Number with its Ceil, Floor, or Rounded Value"
   ]
  },
  {
   "cell_type": "code",
   "execution_count": null,
   "metadata": {},
   "outputs": [],
   "source": [
    "real_minus_floor_lower_bound = Forall(\n",
    "    x,\n",
    "    greater_eq(subtract(x, Floor(x)), zero),\n",
    "    domain=Real)"
   ]
  },
  {
   "cell_type": "code",
   "execution_count": null,
   "metadata": {},
   "outputs": [],
   "source": [
    "real_minus_floor_upper_bound = Forall(\n",
    "    x,\n",
    "    Less(subtract(x, Floor(x)), one),\n",
    "    domain=Real)"
   ]
  },
  {
   "cell_type": "code",
   "execution_count": null,
   "metadata": {},
   "outputs": [],
   "source": [
    "real_minus_floor_interval = Forall(\n",
    "    x,\n",
    "    InSet(subtract(x, Floor(x)), IntervalCO(zero, one)),\n",
    "    domain=Real)"
   ]
  },
  {
   "cell_type": "markdown",
   "metadata": {},
   "source": [
    "### Ceil, Floor, and Round functions are idempotent"
   ]
  },
  {
   "cell_type": "code",
   "execution_count": null,
   "metadata": {},
   "outputs": [],
   "source": [
    "ceil_of_ceil = Forall(\n",
    "    x,\n",
    "    Equals(Ceil(Ceil(x)), Ceil(x)),\n",
    "    domain=Real)"
   ]
  },
  {
   "cell_type": "code",
   "execution_count": null,
   "metadata": {},
   "outputs": [],
   "source": [
    "floor_of_floor = Forall(\n",
    "    x,\n",
    "    Equals(Floor(Floor(x)), Floor(x)),\n",
    "    domain=Real)"
   ]
  },
  {
   "cell_type": "code",
   "execution_count": null,
   "metadata": {},
   "outputs": [],
   "source": [
    "round_of_round = Forall(\n",
    "    x,\n",
    "    Equals(Round(Round(x)), Round(x)),\n",
    "    domain=Real)"
   ]
  },
  {
   "cell_type": "markdown",
   "metadata": {},
   "source": [
    "### Relating Ceil, Floor, and Round"
   ]
  },
  {
   "cell_type": "code",
   "execution_count": null,
   "metadata": {},
   "outputs": [],
   "source": [
    "floor_less_eq_ceil = Forall(\n",
    "    x,\n",
    "    LessEq(Floor(x), Ceil(x)),\n",
    "    domain=Real)"
   ]
  },
  {
   "cell_type": "code",
   "execution_count": null,
   "metadata": {},
   "outputs": [],
   "source": [
    "floor_equal_ceil_for_int = Forall(\n",
    "    n,\n",
    "    Equals(Floor(n), Ceil(n)),\n",
    "    domain=Integer)"
   ]
  },
  {
   "cell_type": "code",
   "execution_count": null,
   "metadata": {},
   "outputs": [],
   "source": [
    "floor_plus_ceil_of_neg = Forall(\n",
    "    x,\n",
    "    Equals(Add(Floor(x), Ceil(Neg(x))), zero),\n",
    "    domain=Real)"
   ]
  },
  {
   "cell_type": "code",
   "execution_count": null,
   "metadata": {},
   "outputs": [],
   "source": [
    "floor_of_ceil = Forall(\n",
    "    x,\n",
    "    Equals(Floor(Ceil(x)), Ceil(x)),\n",
    "    domain=Real)"
   ]
  },
  {
   "cell_type": "code",
   "execution_count": null,
   "metadata": {},
   "outputs": [],
   "source": [
    "ceil_of_floor = Forall(\n",
    "    x,\n",
    "    Equals(Ceil(Floor(x)), Floor(x)),\n",
    "    domain=Real)"
   ]
  },
  {
   "cell_type": "code",
   "execution_count": null,
   "metadata": {},
   "outputs": [],
   "source": [
    "round_in_terms_of_floor = Forall(\n",
    "    x,\n",
    "    Equals(Round(x), Floor(Add(x, frac(one, two)))),\n",
    "    domain=Real)"
   ]
  },
  {
   "cell_type": "code",
   "execution_count": null,
   "metadata": {},
   "outputs": [],
   "source": [
    "round_in_terms_of_ceil = Forall(\n",
    "    x,\n",
    "    Equals(Round(x), Ceil(subtract(x, frac(one, two)))),\n",
    "    domain=Real)"
   ]
  },
  {
   "cell_type": "markdown",
   "metadata": {},
   "source": [
    "### Closure Theorems\n",
    "#### _Note: the identifications of Ceil(x), Floor(x), and Round(x) as Integer numbers appear as axioms in the axioms notebook._"
   ]
  },
  {
   "cell_type": "code",
   "execution_count": null,
   "metadata": {},
   "outputs": [],
   "source": [
    "round_real_pos_closure = Forall(x, InSet(Round(x), Natural), domain=RealPos)"
   ]
  },
  {
   "cell_type": "code",
   "execution_count": null,
   "metadata": {},
   "outputs": [],
   "source": [
    "ceil_real_pos_closure = Forall(x, InSet(Ceil(x), NaturalPos), domain=RealPos)"
   ]
  },
  {
   "cell_type": "code",
   "execution_count": null,
   "metadata": {},
   "outputs": [],
   "source": [
    "floor_real_pos_closure = Forall(x, InSet(Floor(x), Natural), domain=RealPos)"
   ]
  },
  {
   "cell_type": "code",
   "execution_count": null,
   "metadata": {},
   "outputs": [],
   "source": [
    "ceil_of_real_is_real = Forall(x, InSet(Ceil(x), Real), domain=Real)"
   ]
  },
  {
   "cell_type": "code",
   "execution_count": null,
   "metadata": {},
   "outputs": [],
   "source": [
    "floor_of_real_is_real = Forall(x, InSet(Floor(x), Real), domain=Real)"
   ]
  },
  {
   "cell_type": "code",
   "execution_count": null,
   "metadata": {},
   "outputs": [],
   "source": [
    "round_of_real_is_real = Forall(x, InSet(Round(x), Real), domain=Real)"
   ]
  },
  {
   "cell_type": "code",
   "execution_count": null,
   "metadata": {},
   "outputs": [],
   "source": [
    "%end theorems"
   ]
  }
 ],
 "metadata": {
  "kernelspec": {
   "display_name": "Python 3",
   "language": "python",
   "name": "python3"
  }
 },
 "nbformat": 4,
 "nbformat_minor": 0
}
