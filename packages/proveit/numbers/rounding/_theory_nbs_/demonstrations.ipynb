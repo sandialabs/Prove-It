{
 "cells": [
  {
   "cell_type": "markdown",
   "metadata": {},
   "source": [
    "Demonstrations for the theory of <a class=\"ProveItLink\" href=\"theory.ipynb\">proveit.numbers.rounding</a>\n",
    "========"
   ]
  },
  {
   "cell_type": "code",
   "execution_count": 1,
   "metadata": {},
   "outputs": [],
   "source": [
    "import proveit\n",
    "from proveit import used_vars, free_vars\n",
    "from proveit import n, x, y\n",
    "from proveit.logic import InSet\n",
    "from proveit.numbers import Add, Mult, subtract\n",
    "from proveit.numbers import zero, one, two, three, Integer, Natural, Real, RealPos, Complex\n",
    "from proveit.numbers.rounding import Ceil, Floor, Round\n",
    "%begin demonstrations"
   ]
  },
  {
   "cell_type": "markdown",
   "metadata": {},
   "source": [
    "# Rounding: $\\textit{round}(x), \\lceil{x}\\rceil, \\lfloor{x}\\rfloor$"
   ]
  },
  {
   "cell_type": "markdown",
   "metadata": {},
   "source": [
    "<div style=\"line-height:1.4; font-size:14pt\">\n",
    "\n",
    "<a href='#introduction'>Introduction</a><br>\n",
    "<a href='#simple_expressions'>Simple Expressions involving Rounding: $\\text{Round}(x)$, $\\lfloor{x}\\rfloor$, $\\lceil{x}\\rceil$</a><br>\n",
    "<a href='#common_attributes'>Common Attributes of the Floor Expression $\\lfloor{x}\\rfloor$ </a><br>\n",
    "<a href='#axioms'>Axioms</a><br>\n",
    "<a href='#theorems'>Theorems</a><br>\n",
    "<a href='#further_demonstrations'>Further Demonstrations</a><br>\n",
    "    <ol>\n",
    "        <li><a href='#demo01'>Simplifying $\\text{Round}((x+y)+(1+2))$</a></li>\n",
    "        <li><a href='#demo02'>Simplification and deductions involving $\\text{Floor}(\\alpha, \\beta) = \\lfloor \\alpha + \\beta \\rfloor$</a></li>\n",
    "        <li><a href='#demo03'>Proving $\\forall_{x\\in\\mathbb{R}}(\\lceil x \\rceil + \\lfloor -x \\rfloor = 0)$ from the theorem $\\forall_{x\\in\\mathbb{R}}(\\lfloor x \\rfloor + \\lceil -x \\rceil = 0)$</a></li>\n",
    "    </ol>\n",
    "</div>"
   ]
  },
  {
   "cell_type": "markdown",
   "metadata": {},
   "source": [
    "<a id='introduction'></a>\n",
    "## Introduction "
   ]
  },
  {
   "cell_type": "markdown",
   "metadata": {},
   "source": [
    "<font size=4>The `Round`, `Ceil`, and `Floor` classes allow us to represent standard rounding functions that take arbitrary real numbers to nearby integers in the usual way: $\\text{Round}(x) = z$ represents the rounding of a real number $x$ to the nearest integer $z$; $\\text{Ceil}(x) = \\lceil{x}\\rceil = z$ represents the rounding of a real number x to the smallest integer $z$ that is greater than or equal to $x$; and $\\text{Floor}(x) = \\lfloor{x}\\rfloor = z$ represents the rounding of a real number x to the largest integer $z$ that is less than or equal to $x$. This ``_demonstrations_`` notebook explores the `Round`, `Ceil`, and `Floor` classes, their axioms and common theorems, and related methods.</font>"
   ]
  },
  {
   "cell_type": "markdown",
   "metadata": {},
   "source": [
    "<a id='simple_expressions'></a>\n",
    "## Simple Expressions Involving Rounding: $\\text{Round}(x)$, $\\text{Ceil}(x) = \\lceil{x}\\rceil$, $\\text{Floor}(x) = \\lfloor{x}\\rfloor$"
   ]
  },
  {
   "cell_type": "markdown",
   "metadata": {},
   "source": [
    "<font size=4>It is straightforward to construct expressions to represent the various types of rounding operations on real numbers. Here are some basic examples of such expressions:</font>"
   ]
  },
  {
   "cell_type": "code",
   "execution_count": 2,
   "metadata": {},
   "outputs": [
    {
     "data": {
      "text/html": [
       "<a class=\"ProveItLink\" href=\"../__pv_it/demonstrations/53c17575b742ba698ad41e0baf6cc4dd395328730/expr.ipynb\"><img src=\"data:image/png;base64,iVBORw0KGgoAAAANSUhEUgAAAFUAAAAVBAMAAADFg78FAAAAMFBMVEX///8AAAAAAAAAAAAAAAAA\n",
       "AAAAAAAAAAAAAAAAAAAAAAAAAAAAAAAAAAAAAAAAAAAv3aB7AAAAD3RSTlMAMom7Iplm783dEER2\n",
       "q1TfLoYRAAAACXBIWXMAAA7EAAAOxAGVKw4bAAABrElEQVQoz4VTO0jDUBQ9zadpkzYtLoKDVJ2E\n",
       "IlmcVOgkFBSlQ1FQqKCLgw0OTgpdRHCqgptDBgURJNkcFEzBblaKQynSoYPObaE4VBHva2MEh+QO\n",
       "993zOPe9805uAJ8QnDUF/3h21nsvUuBombKacGAk50WONSldufDYi/tgUMq6cMuLO8mS7kLJ8OAe\n",
       "MrkFF4ZyCEwIGZKdrFhyOYeooVQukrNk1UvpmwgiPU1+eh2aArgqOD7D6UhbQpdTdeQJN2CmcJvi\n",
       "e4PDIKJirwLBAuZDRWo+B05HxSLquAtrWIrLexDZ9WHyYhN5o0ZydIzEWGsbODAkG/swTAstgzbC\n",
       "zFnJAuJY6fvdHlgjaRC+qBI6QAt0Om1Qz4ALOoFCIUtICkwbXJeqSJsR8SHTRh6OBihdXJOGIulk\n",
       "nygHKYE58No2dqH2OLOJukrjwtuQZ6I6SE+Q7v5k1lQxDaxjOJEgGZHCBm+rZyL6RqmdS11p9u1T\n",
       "iuyu8TIJu0m+NeKE5VpTbowtltiDCK3Z7ztMjuU3kidulfYd37+Jyfpy+d//QdB8ubL2v8kjFpz1\n",
       "EfgBBypsPfjewgoAAAAASUVORK5CYII=\n",
       "\" style=\"display:inline;vertical-align:middle;\" /></a>"
      ],
      "text/plain": [
       "round(x)"
      ]
     },
     "metadata": {},
     "output_type": "display_data"
    }
   ],
   "source": [
    "# representing basic rounding of a real number x\n",
    "Round(x)"
   ]
  },
  {
   "cell_type": "code",
   "execution_count": 3,
   "metadata": {},
   "outputs": [
    {
     "data": {
      "text/html": [
       "<a class=\"ProveItLink\" href=\"../__pv_it/demonstrations/9fca7d90e363598e28f4c08e458cbdb5859ab8a70/expr.ipynb\"><img src=\"data:image/png;base64,iVBORw0KGgoAAAANSUhEUgAAAD0AAAAVBAMAAAAHs/uBAAAAMFBMVEX///8AAAAAAAAAAAAAAAAA\n",
       "AAAAAAAAAAAAAAAAAAAAAAAAAAAAAAAAAAAAAAAAAAAv3aB7AAAAD3RSTlMARN12ZlQQqzKJmSLN\n",
       "77vFPH07AAAACXBIWXMAAA7EAAAOxAGVKw4bAAAAvklEQVQoz2MQUlJmwAFYlZQcGFwY8ADGBdSW\n",
       "FyEgH0yOPJtxWedUFHk2KweGdLg8F4O5wSIUeU7WCwz+cHlvBv+EEhT5Vi4Fhjq4fAPDGrDoIiWl\n",
       "u0pK6kBWAq8Bw2Uk911Gd598AscPhDzjb4Y0VPk1DMwXYPJsD9kvMExAlX/OwFcAk2f9kXWBMQBV\n",
       "fjmDvANc/2KDKFc0+9Mnr9+AP/zm4IsfzgNsV/HFL5MB+wR88qzOC6HxE4ovfXBMAAAb7jcWBl1G\n",
       "HgAAAABJRU5ErkJggg==\n",
       "\" style=\"display:inline;vertical-align:middle;\" /></a>"
      ],
      "text/plain": [
       "ceil(x + y)"
      ]
     },
     "metadata": {},
     "output_type": "display_data"
    }
   ],
   "source": [
    "# representing the ceiling of a real sum\n",
    "Ceil(Add(x, y))"
   ]
  },
  {
   "cell_type": "code",
   "execution_count": 4,
   "metadata": {},
   "outputs": [
    {
     "data": {
      "text/html": [
       "<a class=\"ProveItLink\" href=\"../__pv_it/demonstrations/6a65e0c5fae6e2dd4bee9fee003ca09d3eb4ccb50/expr.ipynb\"><img src=\"data:image/png;base64,iVBORw0KGgoAAAANSUhEUgAAAD0AAAAVBAMAAAAHs/uBAAAAMFBMVEX///8AAAAAAAAAAAAAAAAA\n",
       "AAAAAAAAAAAAAAAAAAAAAAAAAAAAAAAAAAAAAAAAAAAv3aB7AAAAD3RSTlMAEGZU7912qzKJmSLN\n",
       "RLs7fb+cAAAACXBIWXMAAA7EAAAOxAGVKw4bAAAAsUlEQVQoz2MQZMAHNjAo4ZPmXTAk5BnTCjsn\n",
       "o0gwZikwiMPluRjSE5aiyHMyOzDow+W1GfQFilDkm7kCGOrg8g0Ma8CiMqEgEAFkCbAkMLghuc8N\n",
       "3WX3BTh+IOR5fzOgxcMaBjYHmDzjW3YHhgmo8s8Z+Apg8sw/pBx4DVDllzPcV4DrX5ZgpYxmv/i0\n",
       "9Rvwh98cfOHLeYDRGZ88awL7BHzyzGprofFjEhqGywXMoaEJAFG6LllK5VSFAAAAAElFTkSuQmCC\n",
       "\" style=\"display:inline;vertical-align:middle;\" /></a>"
      ],
      "text/plain": [
       "floor(x - y)"
      ]
     },
     "metadata": {},
     "output_type": "display_data"
    }
   ],
   "source": [
    "# representing the floor of a real difference\n",
    "Floor(subtract(x, y))"
   ]
  },
  {
   "cell_type": "markdown",
   "metadata": {},
   "source": [
    "<a id='common_attributes'></a>\n",
    "## Common Attributes of a Floor expression $\\lfloor{x}\\rfloor$"
   ]
  },
  {
   "cell_type": "markdown",
   "metadata": {},
   "source": [
    "<font size=4>Let's define a simple example `Floor()` expression, $\\lfloor{x-y}\\rfloor$, and look at some of its attributes.</font>"
   ]
  },
  {
   "cell_type": "code",
   "execution_count": 5,
   "metadata": {},
   "outputs": [
    {
     "data": {
      "text/html": [
       "<strong id=\"floor_x_minus_y\">floor_x_minus_y:</strong> <a class=\"ProveItLink\" href=\"../__pv_it/demonstrations/6a65e0c5fae6e2dd4bee9fee003ca09d3eb4ccb50/expr.ipynb\"><img src=\"data:image/png;base64,iVBORw0KGgoAAAANSUhEUgAAAD0AAAAVBAMAAAAHs/uBAAAAMFBMVEX///8AAAAAAAAAAAAAAAAA\n",
       "AAAAAAAAAAAAAAAAAAAAAAAAAAAAAAAAAAAAAAAAAAAv3aB7AAAAD3RSTlMAEGZU7912qzKJmSLN\n",
       "RLs7fb+cAAAACXBIWXMAAA7EAAAOxAGVKw4bAAAAsUlEQVQoz2MQZMAHNjAo4ZPmXTAk5BnTCjsn\n",
       "o0gwZikwiMPluRjSE5aiyHMyOzDow+W1GfQFilDkm7kCGOrg8g0Ma8CiMqEgEAFkCbAkMLghuc8N\n",
       "3WX3BTh+IOR5fzOgxcMaBjYHmDzjW3YHhgmo8s8Z+Apg8sw/pBx4DVDllzPcV4DrX5ZgpYxmv/i0\n",
       "9Rvwh98cfOHLeYDRGZ88awL7BHzyzGprofFjEhqGywXMoaEJAFG6LllK5VSFAAAAAElFTkSuQmCC\n",
       "\" style=\"display:inline;vertical-align:middle;\" /></a><br>"
      ],
      "text/plain": [
       "<IPython.core.display.HTML object>"
      ]
     },
     "metadata": {},
     "output_type": "display_data"
    }
   ],
   "source": [
    "floor_x_minus_y = Floor(subtract(x,y))"
   ]
  },
  {
   "cell_type": "code",
   "execution_count": 6,
   "metadata": {},
   "outputs": [
    {
     "data": {
      "text/html": [
       "<table><tr><th>&nbsp;</th><th>core type</th><th>sub-expressions</th><th>expression</th></tr>\n",
       "<tr><td>0</td><td>Operation</td><td>operator:&nbsp;1<br>operand:&nbsp;3<br></td><td><a class=\"ProveItLink\" href=\"../__pv_it/demonstrations/6a65e0c5fae6e2dd4bee9fee003ca09d3eb4ccb50/expr.ipynb\"><img src=\"data:image/png;base64,iVBORw0KGgoAAAANSUhEUgAAAD0AAAAVBAMAAAAHs/uBAAAAMFBMVEX///8AAAAAAAAAAAAAAAAA\n",
       "AAAAAAAAAAAAAAAAAAAAAAAAAAAAAAAAAAAAAAAAAAAv3aB7AAAAD3RSTlMAEGZU7912qzKJmSLN\n",
       "RLs7fb+cAAAACXBIWXMAAA7EAAAOxAGVKw4bAAAAsUlEQVQoz2MQZMAHNjAo4ZPmXTAk5BnTCjsn\n",
       "o0gwZikwiMPluRjSE5aiyHMyOzDow+W1GfQFilDkm7kCGOrg8g0Ma8CiMqEgEAFkCbAkMLghuc8N\n",
       "3WX3BTh+IOR5fzOgxcMaBjYHmDzjW3YHhgmo8s8Z+Apg8sw/pBx4DVDllzPcV4DrX5ZgpYxmv/i0\n",
       "9Rvwh98cfOHLeYDRGZ88awL7BHzyzGprofFjEhqGywXMoaEJAFG6LllK5VSFAAAAAElFTkSuQmCC\n",
       "\" style=\"display:inline;vertical-align:middle;\" /></a></td></tr>\n",
       "<tr><td>1</td><td>Literal</td><td></td><td><a class=\"ProveItLink\" href=\"../__pv_it/common/6c084083358c4fee8d4be9f66e84060cea5608e90/expr.ipynb\"><img src=\"data:image/png;base64,iVBORw0KGgoAAAANSUhEUgAAADAAAAASBAMAAADvSECJAAAAMFBMVEX///8AAAAAAAAAAAAAAAAA\n",
       "AAAAAAAAAAAAAAAAAAAAAAAAAAAAAAAAAAAAAAAAAAAv3aB7AAAAD3RSTlMAmYkQqzLvVES73WZ2\n",
       "Is1wFLxSAAAACXBIWXMAAA7EAAAOxAGVKw4bAAAA4ElEQVQY02NgYGBgVDJg0PrKgAlUwgoYuD9g\n",
       "kUjvNGBgfIApzvEZSHAdwJRgWgAk7gdgiHO7LRFgYNgPZOkcaQATrJq8QhuAfH6QKZ4MDLcaeP+C\n",
       "CSZOIaYEmCk5DAxrGBgWgYnbfAsYFYBi9UDM+peBEejgFDARzL8BbIkWEPMkMLBNYOD9AyYY+g3A\n",
       "ElOAmNPBwP4AA9NfMMEgBXFWDsgBGxSA+tkgBNAqEOD9AZJoPsDowDCRAUyARRgY2EGhxC3EwKB0\n",
       "sAFCcCwASwAVYQUlfAXYJVbaYRdn2COLXRwAnBY57/Y2ZBsAAAAASUVORK5CYII=\n",
       "\" style=\"display:inline;vertical-align:middle;\" /></a></td></tr>\n",
       "<tr><td>2</td><td>ExprTuple</td><td>3</td><td><a class=\"ProveItLink\" href=\"../__pv_it/demonstrations/b741be9ebbefd1392b909b95fe8902fdafb303540/expr.ipynb\"><img src=\"data:image/png;base64,iVBORw0KGgoAAAANSUhEUgAAADwAAAAVBAMAAADocZC/AAAAMFBMVEX///8AAAAAAAAAAAAAAAAA\n",
       "AAAAAAAAAAAAAAAAAAAAAAAAAAAAAAAAAAAAAAAAAAAv3aB7AAAAD3RSTlMAInZUiRDNmWbv3US7\n",
       "qzJazP2FAAAACXBIWXMAAA7EAAAOxAGVKw4bAAABDklEQVQoz2NgYBBgwAEYQQSTAS5pbgUgYcKA\n",
       "E2gwMLAm4JZmC2Bgb8AtzVHAwMmAB0xlMMMnncFQAiSDdONcUN0fVMHAeoGBwReogIGhgOkS+wIU\n",
       "aQdLBo4PDAxtDIuBLhDg+MqL4kI+gyoG3gMMDJYMs4EcBnaw71izVoHAAyCLYRIDJzBQ3oOkGcBM\n",
       "1AD7yvAeqGwnyHAGhv0CrAEo0kDjNIGUFcMhBoaYDTcZWFB181xgOAukeoBuZ7B/WsmwGVWa/QL3\n",
       "DyBVwvCKgSFcibkCLdpYr6h/BFKrGbgeYA8wFqBnGBeAgh0LcGOIBJoHiq6D2KQXMVwBkjJAHINN\n",
       "2kJ9AwNEJ6MCrvhiEmAAAM9ONOBNJ5F/AAAAAElFTkSuQmCC\n",
       "\" style=\"display:inline;vertical-align:middle;\" /></a></td></tr>\n",
       "<tr><td>3</td><td>Operation</td><td>operator:&nbsp;4<br>operands:&nbsp;5<br></td><td><a class=\"ProveItLink\" href=\"../__pv_it/demonstrations/d53880254fcf8f27e725a455efc285f171faad850/expr.ipynb\"><img src=\"data:image/png;base64,iVBORw0KGgoAAAANSUhEUgAAADAAAAANBAMAAAAdyPDHAAAAMFBMVEX///8AAAAAAAAAAAAAAAAA\n",
       "AAAAAAAAAAAAAAAAAAAAAAAAAAAAAAAAAAAAAAAAAAAv3aB7AAAAD3RSTlMAEHarMolUmd1mIs3v\n",
       "RLtmgJDEAAAACXBIWXMAAA7EAAAOxAGVKw4bAAAAnUlEQVQY02NgEFIWCU1gQAZClQyMBgwMBUxG\n",
       "7A0oEgE5DJwfGDgXcH5knoAszpJQwcD8gIGFgX0DiMu4owMEHIAshkMMPApAITCBDHg/MvgDFTDc\n",
       "X8AogCIBNEKHgUHugg0DK6oOPgOGxwwM+Y41DNdQJdgNeH8yMIgrsVWieoOB0VT9FwN2wLoBq3A0\n",
       "g0wCVokmBlPsBmWqX2BgAABESR2om+2w9QAAAABJRU5ErkJggg==\n",
       "\" style=\"display:inline;vertical-align:middle;\" /></a></td></tr>\n",
       "<tr><td>4</td><td>Literal</td><td></td><td><a class=\"ProveItLink\" href=\"../../addition/__pv_it/common/4b7effaab3619a1c2c38fe2dee8601df8ec714590/expr.ipynb\"><img src=\"data:image/png;base64,iVBORw0KGgoAAAANSUhEUgAAAA4AAAAOBAMAAADtZjDiAAAAHlBMVEX///8AAAAAAAAAAAAAAAAA\n",
       "AAAAAAAAAAAAAAAAAACGjDitAAAACXRSTlMARGZUdpnd76sKo+zpAAAACXBIWXMAAA7EAAAOxAGV\n",
       "Kw4bAAAAH0lEQVQI12NgYGAQYoAAE2LosLS08rS0DKLVI9EgewAshQUueejZFAAAAABJRU5ErkJg\n",
       "gg==\n",
       "\" style=\"display:inline;vertical-align:middle;\" /></a></td></tr>\n",
       "<tr><td>5</td><td>ExprTuple</td><td>6, 7</td><td><a class=\"ProveItLink\" href=\"../__pv_it/demonstrations/2b2b8ed3e540d542604db8f9dfc894166db266d70/expr.ipynb\"><img src=\"data:image/png;base64,iVBORw0KGgoAAAANSUhEUgAAADwAAAAVBAMAAADocZC/AAAAMFBMVEX///8AAAAAAAAAAAAAAAAA\n",
       "AAAAAAAAAAAAAAAAAAAAAAAAAAAAAAAAAAAAAAAAAAAv3aB7AAAAD3RSTlMAInZUiRDNmWbv3US7\n",
       "qzJazP2FAAAACXBIWXMAAA7EAAAOxAGVKw4bAAABHUlEQVQoz2NgYBBgwAEYQQSTAS5pbgUgYcKA\n",
       "E2gwMLAm4JZmC2Bgb8AtzVHAwMmAB0xlMMMnncFQAiSDdONcUN0fVMHAeoGBwReogIGhgOkS+wIU\n",
       "aQdLBo4PDAxtDIuBLhDg+MqL4kI+gyoG3gMMDJYMs4EcBnaY78JWgcA6VoZJDJzAQHkPkmYAM1ED\n",
       "7CvD+wcMDDtBhjMw7BdgDUCRBhqnCaSsGA4xMMRsuMnAwsCArIDnAsNZINUDdDuD/dNKhs0MrN+Q\n",
       "dV/g/gGkShheMTCEKzFXAL29Ckk76xX1j0BqNQPXA5gQM4r1LEDPMC4ABTtMAEnSjSESaB4oug7C\n",
       "AxJJehHDFSApA8QxMCFkv1uob2CA6GRUwBVfTAIMAHc8N6O/pd18AAAAAElFTkSuQmCC\n",
       "\" style=\"display:inline;vertical-align:middle;\" /></a></td></tr>\n",
       "<tr><td>6</td><td>Variable</td><td></td><td><a class=\"ProveItLink\" href=\"../../../__pv_it/common/a0d9d672aa5e272d907247690c152cc2c6daafb70/expr.ipynb\"><img src=\"data:image/png;base64,iVBORw0KGgoAAAANSUhEUgAAAAsAAAAJBAMAAAAWSsseAAAAMFBMVEX///8AAAAAAAAAAAAAAAAA\n",
       "AAAAAAAAAAAAAAAAAAAAAAAAAAAAAAAAAAAAAAAAAAAv3aB7AAAAD3RSTlMAEHarMolUmd1mIs3v\n",
       "RLtmgJDEAAAACXBIWXMAAA7EAAAOxAGVKw4bAAAAQklEQVQI12NgEFIWCU1gYChgMmJvYOBcwPmR\n",
       "eQIDCwP7BgYQ4FEAU/cXMAowyF2wYWBlYMh3rGG4xsAgrsRWmcAAAFEjCyBvD0T9AAAAAElFTkSu\n",
       "QmCC\n",
       "\" style=\"display:inline;vertical-align:middle;\" /></a></td></tr>\n",
       "<tr><td>7</td><td>Operation</td><td>operator:&nbsp;8<br>operand:&nbsp;10<br></td><td><a class=\"ProveItLink\" href=\"../__pv_it/demonstrations/0a7cbf2fc5de552bc7ef54920ebff976c4d732640/expr.ipynb\"><img src=\"data:image/png;base64,iVBORw0KGgoAAAANSUhEUgAAABoAAAANBAMAAABFt2PeAAAAMFBMVEX///8AAAAAAAAAAAAAAAAA\n",
       "AAAAAAAAAAAAAAAAAAAAAAAAAAAAAAAAAAAAAAAAAAAv3aB7AAAAD3RSTlMAEM3dMnaZZquJVO+7\n",
       "RCKVzGW2AAAACXBIWXMAAA7EAAAOxAGVKw4bAAAAYklEQVQI12NggALRdAbGBhiHYcJqBvYPMA7L\n",
       "gmQGjgMMQsYgYMLIsJWBOwCukvcjg78DnMemwBAN5zDwNDCcQPDYGni/I3iMnWH/GJAApwKCPYlB\n",
       "egGCZ8rQiaRuedgFBgYAtR8SIKU/axwAAAAASUVORK5CYII=\n",
       "\" style=\"display:inline;vertical-align:middle;\" /></a></td></tr>\n",
       "<tr><td>8</td><td>Literal</td><td></td><td><a class=\"ProveItLink\" href=\"../../negation/__pv_it/common/221b3c4d1770ee9051b7c044c3f9ec61196fc34b0/expr.ipynb\"><img src=\"data:image/png;base64,iVBORw0KGgoAAAANSUhEUgAAAA4AAAABBAMAAAAcMII3AAAAElBMVEX///8AAAAAAAAAAAAAAAAA\n",
       "AABknMCaAAAABXRSTlMAEM3dMvdEvu8AAAAJcEhZcwAADsQAAA7EAZUrDhsAAAANSURBVAjXYxAy\n",
       "BgETAAS2AUbzwGpmAAAAAElFTkSuQmCC\n",
       "\" style=\"display:inline;vertical-align:middle;\" /></a></td></tr>\n",
       "<tr><td>9</td><td>ExprTuple</td><td>10</td><td><a class=\"ProveItLink\" href=\"../__pv_it/demonstrations/c60c4da4d0e362e1aae93eaa5e9af5fbed84db960/expr.ipynb\"><img src=\"data:image/png;base64,iVBORw0KGgoAAAANSUhEUgAAABcAAAAVBAMAAABfzGiYAAAAMFBMVEX///8AAAAAAAAAAAAAAAAA\n",
       "AAAAAAAAAAAAAAAAAAAAAAAAAAAAAAAAAAAAAAAAAAAv3aB7AAAAD3RSTlMAInZUiRDNmWbv3US7\n",
       "qzJazP2FAAAACXBIWXMAAA7EAAAOxAGVKw4bAAAAyElEQVQY0z2PvQ7BYBSGH62qVonZVJPVIGYx\n",
       "2CS9AJIuEqNBRCKisRg1jBaJGxA30LJLXIBBYjO5AnE+xZecn+fLe/6AIp/3CVo1gYNytSRHC8Dw\n",
       "v0APzOAHC7B+OZZH/Q+ZgKGUVQK6kL7QF6+HLCHrs4O7ueUK8rUBz3JZQeGpgMgrvCAXKhkjtFBk\n",
       "W04CZ5yLNIhpC0yJZA+zwUOg25zJAfYe+6amt8RKohyQ9o21wFjsiO3mG5CKBTro84lER92dcpOl\n",
       "y/AG0sAkFSf5QrsAAAAASUVORK5CYII=\n",
       "\" style=\"display:inline;vertical-align:middle;\" /></a></td></tr>\n",
       "<tr><td>10</td><td>Variable</td><td></td><td><a class=\"ProveItLink\" href=\"../../../__pv_it/common/ff7dba4ef0bbe791ab573bf2d9c220a304399ac80/expr.ipynb\"><img src=\"data:image/png;base64,iVBORw0KGgoAAAANSUhEUgAAAAsAAAANBAMAAACN24kIAAAAMFBMVEX///8AAAAAAAAAAAAAAAAA\n",
       "AAAAAAAAAAAAAAAAAAAAAAAAAAAAAAAAAAAAAAAAAAAv3aB7AAAAD3RSTlMAEHaZZquJVO8y3btE\n",
       "zSKD2s2pAAAACXBIWXMAAA7EAAAOxAGVKw4bAAAAVklEQVQI12NgVHZgEGVgYGNvYPBnYJjOvIAh\n",
       "moFBgEOBoYmBgeG8AOdPIGXLwNQApLYycAcAKVOG8w5ASjTJ/gEDCOQCMdsFxnYgxaXAmgCk2J1s\n",
       "gCQAaFoNDtFIIdEAAAAASUVORK5CYII=\n",
       "\" style=\"display:inline;vertical-align:middle;\" /></a></td></tr>\n",
       "</table>\n"
      ],
      "text/plain": [
       "0. floor(x - y)\n",
       "   core type: Operation\n",
       "   operator: 1\n",
       "   operand: 3\n",
       "1. floor\n",
       "   core type: Literal\n",
       "   sub-expressions: \n",
       "2. (x - y)\n",
       "   core type: ExprTuple\n",
       "   sub-expressions: 3\n",
       "3. x - y\n",
       "   core type: Operation\n",
       "   operator: 4\n",
       "   operands: 5\n",
       "4. +\n",
       "   core type: Literal\n",
       "   sub-expressions: \n",
       "5. (x, -y)\n",
       "   core type: ExprTuple\n",
       "   sub-expressions: 6, 7\n",
       "6. x\n",
       "   core type: Variable\n",
       "   sub-expressions: \n",
       "7. -y\n",
       "   core type: Operation\n",
       "   operator: 8\n",
       "   operand: 10\n",
       "8. -\n",
       "   core type: Literal\n",
       "   sub-expressions: \n",
       "9. (y)\n",
       "   core type: ExprTuple\n",
       "   sub-expressions: 10\n",
       "10. y\n",
       "    core type: Variable\n",
       "    sub-expressions: "
      ]
     },
     "metadata": {},
     "output_type": "display_data"
    }
   ],
   "source": [
    "floor_x_minus_y.expr_info()"
   ]
  },
  {
   "cell_type": "markdown",
   "metadata": {},
   "source": [
    "<font size=4>We can access the Floor operand $x-y$, and identify the `Floor` operator as the outermost operation:</font>"
   ]
  },
  {
   "cell_type": "code",
   "execution_count": 7,
   "metadata": {},
   "outputs": [
    {
     "data": {
      "text/html": [
       "<a class=\"ProveItLink\" href=\"../__pv_it/demonstrations/d53880254fcf8f27e725a455efc285f171faad850/expr.ipynb\"><img src=\"data:image/png;base64,iVBORw0KGgoAAAANSUhEUgAAADAAAAANBAMAAAAdyPDHAAAAMFBMVEX///8AAAAAAAAAAAAAAAAA\n",
       "AAAAAAAAAAAAAAAAAAAAAAAAAAAAAAAAAAAAAAAAAAAv3aB7AAAAD3RSTlMAEHarMolUmd1mIs3v\n",
       "RLtmgJDEAAAACXBIWXMAAA7EAAAOxAGVKw4bAAAAnUlEQVQY02NgEFIWCU1gQAZClQyMBgwMBUxG\n",
       "7A0oEgE5DJwfGDgXcH5knoAszpJQwcD8gIGFgX0DiMu4owMEHIAshkMMPApAITCBDHg/MvgDFTDc\n",
       "X8AogCIBNEKHgUHugg0DK6oOPgOGxwwM+Y41DNdQJdgNeH8yMIgrsVWieoOB0VT9FwN2wLoBq3A0\n",
       "g0wCVokmBlPsBmWqX2BgAABESR2om+2w9QAAAABJRU5ErkJggg==\n",
       "\" style=\"display:inline;vertical-align:middle;\" /></a>"
      ],
      "text/plain": [
       "x - y"
      ]
     },
     "metadata": {},
     "output_type": "display_data"
    }
   ],
   "source": [
    "floor_x_minus_y.operand"
   ]
  },
  {
   "cell_type": "code",
   "execution_count": 8,
   "metadata": {},
   "outputs": [
    {
     "data": {
      "text/html": [
       "<a class=\"ProveItLink\" href=\"../__pv_it/common/6c084083358c4fee8d4be9f66e84060cea5608e90/expr.ipynb\"><img src=\"data:image/png;base64,iVBORw0KGgoAAAANSUhEUgAAADAAAAASBAMAAADvSECJAAAAMFBMVEX///8AAAAAAAAAAAAAAAAA\n",
       "AAAAAAAAAAAAAAAAAAAAAAAAAAAAAAAAAAAAAAAAAAAv3aB7AAAAD3RSTlMAmYkQqzLvVES73WZ2\n",
       "Is1wFLxSAAAACXBIWXMAAA7EAAAOxAGVKw4bAAAA4ElEQVQY02NgYGBgVDJg0PrKgAlUwgoYuD9g\n",
       "kUjvNGBgfIApzvEZSHAdwJRgWgAk7gdgiHO7LRFgYNgPZOkcaQATrJq8QhuAfH6QKZ4MDLcaeP+C\n",
       "CSZOIaYEmCk5DAxrGBgWgYnbfAsYFYBi9UDM+peBEejgFDARzL8BbIkWEPMkMLBNYOD9AyYY+g3A\n",
       "ElOAmNPBwP4AA9NfMMEgBXFWDsgBGxSA+tkgBNAqEOD9AZJoPsDowDCRAUyARRgY2EGhxC3EwKB0\n",
       "sAFCcCwASwAVYQUlfAXYJVbaYRdn2COLXRwAnBY57/Y2ZBsAAAAASUVORK5CYII=\n",
       "\" style=\"display:inline;vertical-align:middle;\" /></a>"
      ],
      "text/plain": [
       "floor"
      ]
     },
     "metadata": {},
     "output_type": "display_data"
    }
   ],
   "source": [
    "floor_x_minus_y.operator"
   ]
  },
  {
   "cell_type": "markdown",
   "metadata": {},
   "source": [
    "<font size=4>Notice in this case that the Floor's operand $x-y$ itself has operands $(x, -y)$ (because the subtract() expression is internally represented as an instance of `Add(x, -y))`:</font>"
   ]
  },
  {
   "cell_type": "markdown",
   "metadata": {},
   "source": [
    "<font size=4>We can also get a list of the variables and a list of the free variables:</font>"
   ]
  },
  {
   "cell_type": "code",
   "execution_count": 9,
   "metadata": {},
   "outputs": [
    {
     "data": {
      "text/html": [
       "<a class=\"ProveItLink\" href=\"../../../logic/equality/__pv_it/theorems/d6058e955f7e8ff10e99ba4a3833dc46470c2de60/expr.ipynb\"><img src=\"data:image/png;base64,iVBORw0KGgoAAAANSUhEUgAAACwAAAAVBAMAAADP3xFXAAAAMFBMVEX///8AAAAAAAAAAAAAAAAA\n",
       "AAAAAAAAAAAAAAAAAAAAAAAAAAAAAAAAAAAAAAAAAAAv3aB7AAAAD3RSTlMAInZUiRDNmWbv3US7\n",
       "qzJazP2FAAAACXBIWXMAAA7EAAAOxAGVKw4bAAABE0lEQVQY02NgYBBgQAOMIILJAF2YWwFImDBg\n",
       "AA0GBtYETGG2AAb2BkxhjgIGTgYsYCqDGTbhDIYSoPHqDQyxEH6QbpwL0GW+QAkGFuYJDP0Q4QKm\n",
       "S+wLGBjaGBYzMDwGsu5A7BLg+MoLdIMlw2wGhgBOBYZJYGE+Bnawe9+DhBn2B/D9g1rGCfIhw06Q\n",
       "IQxlDEwToML7BVgDGBisGA4B2WcZeC4wsAIZMRtuMrAA6R6gWxgYahn2NzDEA021f1rJsBkoUMLw\n",
       "CkjGOtULMHAtZWAIV2KuAAXoagauByAj3YDYFBHgC0DBwpLAOhnIcYALg4LvIAOXAi9QiFUBLiwD\n",
       "sp2BuakaFEuIkDoIMkgBPfyYBBgAR+cwfXKIcJEAAAAASUVORK5CYII=\n",
       "\" style=\"display:inline;vertical-align:middle;\" /></a>"
      ],
      "text/plain": [
       "(y, x)"
      ]
     },
     "metadata": {},
     "output_type": "display_data"
    }
   ],
   "source": [
    "used_vars(floor_x_minus_y)"
   ]
  },
  {
   "cell_type": "code",
   "execution_count": 10,
   "metadata": {},
   "outputs": [
    {
     "data": {
      "text/html": [
       "<a class=\"ProveItLink\" href=\"../../../logic/equality/__pv_it/theorems/d6058e955f7e8ff10e99ba4a3833dc46470c2de60/expr.ipynb\"><img src=\"data:image/png;base64,iVBORw0KGgoAAAANSUhEUgAAACwAAAAVBAMAAADP3xFXAAAAMFBMVEX///8AAAAAAAAAAAAAAAAA\n",
       "AAAAAAAAAAAAAAAAAAAAAAAAAAAAAAAAAAAAAAAAAAAv3aB7AAAAD3RSTlMAInZUiRDNmWbv3US7\n",
       "qzJazP2FAAAACXBIWXMAAA7EAAAOxAGVKw4bAAABE0lEQVQY02NgYBBgQAOMIILJAF2YWwFImDBg\n",
       "AA0GBtYETGG2AAb2BkxhjgIGTgYsYCqDGTbhDIYSoPHqDQyxEH6QbpwL0GW+QAkGFuYJDP0Q4QKm\n",
       "S+wLGBjaGBYzMDwGsu5A7BLg+MoLdIMlw2wGhgBOBYZJYGE+Bnawe9+DhBn2B/D9g1rGCfIhw06Q\n",
       "IQxlDEwToML7BVgDGBisGA4B2WcZeC4wsAIZMRtuMrAA6R6gWxgYahn2NzDEA021f1rJsBkoUMLw\n",
       "CkjGOtULMHAtZWAIV2KuAAXoagauByAj3YDYFBHgC0DBwpLAOhnIcYALg4LvIAOXAi9QiFUBLiwD\n",
       "sp2BuakaFEuIkDoIMkgBPfyYBBgAR+cwfXKIcJEAAAAASUVORK5CYII=\n",
       "\" style=\"display:inline;vertical-align:middle;\" /></a>"
      ],
      "text/plain": [
       "(y, x)"
      ]
     },
     "metadata": {},
     "output_type": "display_data"
    }
   ],
   "source": [
    "free_vars(floor_x_minus_y)"
   ]
  },
  {
   "cell_type": "markdown",
   "metadata": {},
   "source": [
    "<font size=4>And of course, we can reach down inside and look at the structure of the operand itself, which in this case consists of an Add() expression (even though we created it using the subtract() function):</font>"
   ]
  },
  {
   "cell_type": "code",
   "execution_count": 11,
   "metadata": {},
   "outputs": [
    {
     "data": {
      "text/html": [
       "<a class=\"ProveItLink\" href=\"../../addition/__pv_it/common/4b7effaab3619a1c2c38fe2dee8601df8ec714590/expr.ipynb\"><img src=\"data:image/png;base64,iVBORw0KGgoAAAANSUhEUgAAAA4AAAAOBAMAAADtZjDiAAAAHlBMVEX///8AAAAAAAAAAAAAAAAA\n",
       "AAAAAAAAAAAAAAAAAACGjDitAAAACXRSTlMARGZUdpnd76sKo+zpAAAACXBIWXMAAA7EAAAOxAGV\n",
       "Kw4bAAAAH0lEQVQI12NgYGAQYoAAE2LosLS08rS0DKLVI9EgewAshQUueejZFAAAAABJRU5ErkJg\n",
       "gg==\n",
       "\" style=\"display:inline;vertical-align:middle;\" /></a>"
      ],
      "text/plain": [
       "+"
      ]
     },
     "metadata": {},
     "output_type": "display_data"
    }
   ],
   "source": [
    "# operator inside the operand inside the Floor\n",
    "floor_x_minus_y.operand.operator"
   ]
  },
  {
   "cell_type": "code",
   "execution_count": 12,
   "metadata": {},
   "outputs": [
    {
     "data": {
      "text/html": [
       "<a class=\"ProveItLink\" href=\"../__pv_it/demonstrations/2b2b8ed3e540d542604db8f9dfc894166db266d70/expr.ipynb\"><img src=\"data:image/png;base64,iVBORw0KGgoAAAANSUhEUgAAADwAAAAVBAMAAADocZC/AAAAMFBMVEX///8AAAAAAAAAAAAAAAAA\n",
       "AAAAAAAAAAAAAAAAAAAAAAAAAAAAAAAAAAAAAAAAAAAv3aB7AAAAD3RSTlMAInZUiRDNmWbv3US7\n",
       "qzJazP2FAAAACXBIWXMAAA7EAAAOxAGVKw4bAAABHUlEQVQoz2NgYBBgwAEYQQSTAS5pbgUgYcKA\n",
       "E2gwMLAm4JZmC2Bgb8AtzVHAwMmAB0xlMMMnncFQAiSDdONcUN0fVMHAeoGBwReogIGhgOkS+wIU\n",
       "aQdLBo4PDAxtDIuBLhDg+MqL4kI+gyoG3gMMDJYMs4EcBnaY78JWgcA6VoZJDJzAQHkPkmYAM1ED\n",
       "7CvD+wcMDDtBhjMw7BdgDUCRBhqnCaSsGA4xMMRsuMnAwsCArIDnAsNZINUDdDuD/dNKhs0MrN+Q\n",
       "dV/g/gGkShheMTCEKzFXAL29Ckk76xX1j0BqNQPXA5gQM4r1LEDPMC4ABTtMAEnSjSESaB4oug7C\n",
       "AxJJehHDFSApA8QxMCFkv1uob2CA6GRUwBVfTAIMAHc8N6O/pd18AAAAAElFTkSuQmCC\n",
       "\" style=\"display:inline;vertical-align:middle;\" /></a>"
      ],
      "text/plain": [
       "(x, -y)"
      ]
     },
     "metadata": {},
     "output_type": "display_data"
    }
   ],
   "source": [
    "floor_x_minus_y.operand.operands"
   ]
  },
  {
   "cell_type": "code",
   "execution_count": 13,
   "metadata": {},
   "outputs": [
    {
     "data": {
      "text/html": [
       "<table><tr><th>&nbsp;</th><th>core type</th><th>sub-expressions</th><th>expression</th></tr>\n",
       "<tr><td>0</td><td>Operation</td><td>operator:&nbsp;1<br>operands:&nbsp;2<br></td><td><a class=\"ProveItLink\" href=\"../__pv_it/demonstrations/d53880254fcf8f27e725a455efc285f171faad850/expr.ipynb\"><img src=\"data:image/png;base64,iVBORw0KGgoAAAANSUhEUgAAADAAAAANBAMAAAAdyPDHAAAAMFBMVEX///8AAAAAAAAAAAAAAAAA\n",
       "AAAAAAAAAAAAAAAAAAAAAAAAAAAAAAAAAAAAAAAAAAAv3aB7AAAAD3RSTlMAEHarMolUmd1mIs3v\n",
       "RLtmgJDEAAAACXBIWXMAAA7EAAAOxAGVKw4bAAAAnUlEQVQY02NgEFIWCU1gQAZClQyMBgwMBUxG\n",
       "7A0oEgE5DJwfGDgXcH5knoAszpJQwcD8gIGFgX0DiMu4owMEHIAshkMMPApAITCBDHg/MvgDFTDc\n",
       "X8AogCIBNEKHgUHugg0DK6oOPgOGxwwM+Y41DNdQJdgNeH8yMIgrsVWieoOB0VT9FwN2wLoBq3A0\n",
       "g0wCVokmBlPsBmWqX2BgAABESR2om+2w9QAAAABJRU5ErkJggg==\n",
       "\" style=\"display:inline;vertical-align:middle;\" /></a></td></tr>\n",
       "<tr><td>1</td><td>Literal</td><td></td><td><a class=\"ProveItLink\" href=\"../../addition/__pv_it/common/4b7effaab3619a1c2c38fe2dee8601df8ec714590/expr.ipynb\"><img src=\"data:image/png;base64,iVBORw0KGgoAAAANSUhEUgAAAA4AAAAOBAMAAADtZjDiAAAAHlBMVEX///8AAAAAAAAAAAAAAAAA\n",
       "AAAAAAAAAAAAAAAAAACGjDitAAAACXRSTlMARGZUdpnd76sKo+zpAAAACXBIWXMAAA7EAAAOxAGV\n",
       "Kw4bAAAAH0lEQVQI12NgYGAQYoAAE2LosLS08rS0DKLVI9EgewAshQUueejZFAAAAABJRU5ErkJg\n",
       "gg==\n",
       "\" style=\"display:inline;vertical-align:middle;\" /></a></td></tr>\n",
       "<tr><td>2</td><td>ExprTuple</td><td>3, 4</td><td><a class=\"ProveItLink\" href=\"../__pv_it/demonstrations/2b2b8ed3e540d542604db8f9dfc894166db266d70/expr.ipynb\"><img src=\"data:image/png;base64,iVBORw0KGgoAAAANSUhEUgAAADwAAAAVBAMAAADocZC/AAAAMFBMVEX///8AAAAAAAAAAAAAAAAA\n",
       "AAAAAAAAAAAAAAAAAAAAAAAAAAAAAAAAAAAAAAAAAAAv3aB7AAAAD3RSTlMAInZUiRDNmWbv3US7\n",
       "qzJazP2FAAAACXBIWXMAAA7EAAAOxAGVKw4bAAABHUlEQVQoz2NgYBBgwAEYQQSTAS5pbgUgYcKA\n",
       "E2gwMLAm4JZmC2Bgb8AtzVHAwMmAB0xlMMMnncFQAiSDdONcUN0fVMHAeoGBwReogIGhgOkS+wIU\n",
       "aQdLBo4PDAxtDIuBLhDg+MqL4kI+gyoG3gMMDJYMs4EcBnaY78JWgcA6VoZJDJzAQHkPkmYAM1ED\n",
       "7CvD+wcMDDtBhjMw7BdgDUCRBhqnCaSsGA4xMMRsuMnAwsCArIDnAsNZINUDdDuD/dNKhs0MrN+Q\n",
       "dV/g/gGkShheMTCEKzFXAL29Ckk76xX1j0BqNQPXA5gQM4r1LEDPMC4ABTtMAEnSjSESaB4oug7C\n",
       "AxJJehHDFSApA8QxMCFkv1uob2CA6GRUwBVfTAIMAHc8N6O/pd18AAAAAElFTkSuQmCC\n",
       "\" style=\"display:inline;vertical-align:middle;\" /></a></td></tr>\n",
       "<tr><td>3</td><td>Variable</td><td></td><td><a class=\"ProveItLink\" href=\"../../../__pv_it/common/a0d9d672aa5e272d907247690c152cc2c6daafb70/expr.ipynb\"><img src=\"data:image/png;base64,iVBORw0KGgoAAAANSUhEUgAAAAsAAAAJBAMAAAAWSsseAAAAMFBMVEX///8AAAAAAAAAAAAAAAAA\n",
       "AAAAAAAAAAAAAAAAAAAAAAAAAAAAAAAAAAAAAAAAAAAv3aB7AAAAD3RSTlMAEHarMolUmd1mIs3v\n",
       "RLtmgJDEAAAACXBIWXMAAA7EAAAOxAGVKw4bAAAAQklEQVQI12NgEFIWCU1gYChgMmJvYOBcwPmR\n",
       "eQIDCwP7BgYQ4FEAU/cXMAowyF2wYWBlYMh3rGG4xsAgrsRWmcAAAFEjCyBvD0T9AAAAAElFTkSu\n",
       "QmCC\n",
       "\" style=\"display:inline;vertical-align:middle;\" /></a></td></tr>\n",
       "<tr><td>4</td><td>Operation</td><td>operator:&nbsp;5<br>operand:&nbsp;7<br></td><td><a class=\"ProveItLink\" href=\"../__pv_it/demonstrations/0a7cbf2fc5de552bc7ef54920ebff976c4d732640/expr.ipynb\"><img src=\"data:image/png;base64,iVBORw0KGgoAAAANSUhEUgAAABoAAAANBAMAAABFt2PeAAAAMFBMVEX///8AAAAAAAAAAAAAAAAA\n",
       "AAAAAAAAAAAAAAAAAAAAAAAAAAAAAAAAAAAAAAAAAAAv3aB7AAAAD3RSTlMAEM3dMnaZZquJVO+7\n",
       "RCKVzGW2AAAACXBIWXMAAA7EAAAOxAGVKw4bAAAAYklEQVQI12NggALRdAbGBhiHYcJqBvYPMA7L\n",
       "gmQGjgMMQsYgYMLIsJWBOwCukvcjg78DnMemwBAN5zDwNDCcQPDYGni/I3iMnWH/GJAApwKCPYlB\n",
       "egGCZ8rQiaRuedgFBgYAtR8SIKU/axwAAAAASUVORK5CYII=\n",
       "\" style=\"display:inline;vertical-align:middle;\" /></a></td></tr>\n",
       "<tr><td>5</td><td>Literal</td><td></td><td><a class=\"ProveItLink\" href=\"../../negation/__pv_it/common/221b3c4d1770ee9051b7c044c3f9ec61196fc34b0/expr.ipynb\"><img src=\"data:image/png;base64,iVBORw0KGgoAAAANSUhEUgAAAA4AAAABBAMAAAAcMII3AAAAElBMVEX///8AAAAAAAAAAAAAAAAA\n",
       "AABknMCaAAAABXRSTlMAEM3dMvdEvu8AAAAJcEhZcwAADsQAAA7EAZUrDhsAAAANSURBVAjXYxAy\n",
       "BgETAAS2AUbzwGpmAAAAAElFTkSuQmCC\n",
       "\" style=\"display:inline;vertical-align:middle;\" /></a></td></tr>\n",
       "<tr><td>6</td><td>ExprTuple</td><td>7</td><td><a class=\"ProveItLink\" href=\"../__pv_it/demonstrations/c60c4da4d0e362e1aae93eaa5e9af5fbed84db960/expr.ipynb\"><img src=\"data:image/png;base64,iVBORw0KGgoAAAANSUhEUgAAABcAAAAVBAMAAABfzGiYAAAAMFBMVEX///8AAAAAAAAAAAAAAAAA\n",
       "AAAAAAAAAAAAAAAAAAAAAAAAAAAAAAAAAAAAAAAAAAAv3aB7AAAAD3RSTlMAInZUiRDNmWbv3US7\n",
       "qzJazP2FAAAACXBIWXMAAA7EAAAOxAGVKw4bAAAAyElEQVQY0z2PvQ7BYBSGH62qVonZVJPVIGYx\n",
       "2CS9AJIuEqNBRCKisRg1jBaJGxA30LJLXIBBYjO5AnE+xZecn+fLe/6AIp/3CVo1gYNytSRHC8Dw\n",
       "v0APzOAHC7B+OZZH/Q+ZgKGUVQK6kL7QF6+HLCHrs4O7ueUK8rUBz3JZQeGpgMgrvCAXKhkjtFBk\n",
       "W04CZ5yLNIhpC0yJZA+zwUOg25zJAfYe+6amt8RKohyQ9o21wFjsiO3mG5CKBTro84lER92dcpOl\n",
       "y/AG0sAkFSf5QrsAAAAASUVORK5CYII=\n",
       "\" style=\"display:inline;vertical-align:middle;\" /></a></td></tr>\n",
       "<tr><td>7</td><td>Variable</td><td></td><td><a class=\"ProveItLink\" href=\"../../../__pv_it/common/ff7dba4ef0bbe791ab573bf2d9c220a304399ac80/expr.ipynb\"><img src=\"data:image/png;base64,iVBORw0KGgoAAAANSUhEUgAAAAsAAAANBAMAAACN24kIAAAAMFBMVEX///8AAAAAAAAAAAAAAAAA\n",
       "AAAAAAAAAAAAAAAAAAAAAAAAAAAAAAAAAAAAAAAAAAAv3aB7AAAAD3RSTlMAEHaZZquJVO8y3btE\n",
       "zSKD2s2pAAAACXBIWXMAAA7EAAAOxAGVKw4bAAAAVklEQVQI12NgVHZgEGVgYGNvYPBnYJjOvIAh\n",
       "moFBgEOBoYmBgeG8AOdPIGXLwNQApLYycAcAKVOG8w5ASjTJ/gEDCOQCMdsFxnYgxaXAmgCk2J1s\n",
       "gCQAaFoNDtFIIdEAAAAASUVORK5CYII=\n",
       "\" style=\"display:inline;vertical-align:middle;\" /></a></td></tr>\n",
       "</table>\n"
      ],
      "text/plain": [
       "0. x - y\n",
       "   core type: Operation\n",
       "   operator: 1\n",
       "   operands: 2\n",
       "1. +\n",
       "   core type: Literal\n",
       "   sub-expressions: \n",
       "2. (x, -y)\n",
       "   core type: ExprTuple\n",
       "   sub-expressions: 3, 4\n",
       "3. x\n",
       "   core type: Variable\n",
       "   sub-expressions: \n",
       "4. -y\n",
       "   core type: Operation\n",
       "   operator: 5\n",
       "   operand: 7\n",
       "5. -\n",
       "   core type: Literal\n",
       "   sub-expressions: \n",
       "6. (y)\n",
       "   core type: ExprTuple\n",
       "   sub-expressions: 7\n",
       "7. y\n",
       "   core type: Variable\n",
       "   sub-expressions: "
      ]
     },
     "metadata": {},
     "output_type": "display_data"
    }
   ],
   "source": [
    "# info about the operand itself\n",
    "floor_x_minus_y.operand.expr_info()"
   ]
  },
  {
   "cell_type": "markdown",
   "metadata": {},
   "source": [
    "## Axioms <a id='axioms'></a>"
   ]
  },
  {
   "cell_type": "markdown",
   "metadata": {},
   "source": [
    "<font size=4>The axioms for the rounding theory establish the basic properties of the `Ceil`, `Floor`, and `Round` class functions. Some examples are shown below (and the entire complement of axioms can be found in the notebook `proveit.numbers.rounding .ipynb`).</font>"
   ]
  },
  {
   "cell_type": "code",
   "execution_count": 14,
   "metadata": {},
   "outputs": [],
   "source": [
    "from proveit.numbers.rounding  import (ceil_is_an_int, ceil_of_x_greater_eq_x, round_up)"
   ]
  },
  {
   "cell_type": "code",
   "execution_count": 15,
   "metadata": {},
   "outputs": [
    {
     "data": {
      "text/html": [
       "<span style=\"font-size:20px;\"> <a class=\"ProveItLink\" href=\"axioms.ipynb#ceil_is_an_int\" style=\"text-decoration: none\">&nbsp;&#x22A2;&nbsp;&nbsp;</a><a class=\"ProveItLink\" href=\"../__pv_it/axioms/ed765b9ce39bef24b7b045c119fd287b533000200/expr.ipynb\"><img src=\"data:image/png;base64,iVBORw0KGgoAAAANSUhEUgAAAIoAAAAVBAMAAABrmWvBAAAAMFBMVEX///8AAAAAAAAAAAAAAAAA\n",
       "AAAAAAAAAAAAAAAAAAAAAAAAAAAAAAAAAAAAAAAAAAAv3aB7AAAAD3RSTlMAq1RmmUTNIjK7EInv\n",
       "3XZ/CtNrAAAACXBIWXMAAA7EAAAOxAGVKw4bAAACPklEQVQ4y42UPWgUQRzF393tx7mrw4GFxmpB\n",
       "sYnCYaFooStoFEQ5VCw0xUIKMUhYG0FIcYJdEKOgcaMeV6Q5bS4HKlrINRZR/EBQsBjY4EeR4rCL\n",
       "hYX/2d2ZvQt7m2xx+5+dmd+9efNmgNzHh855GJVFzquZY0ys8zAHpXSq7g72Fq/+u8IfV3X6l4po\n",
       "7xxCGUUehd2twzOAH8Bx0b6cDbG8XIrmglU7gNHETbGy2WyKVs2lFHy0LJpacgUItpNN2YxMCnvC\n",
       "v0VSgZOFOhXvolHGEFt2Z1L0qab8Uq7cEq8J4APn74dQTiUUq7djpqMo1xUEm5rz4rVIooD5IZSJ\n",
       "hKJhOTytKH1bMVqKsrQfuAaz0jdz74ujU7L+klAO4Ehzq6J46WAv9mKPUGXX5DKXgxqz8bKdtN8m\n",
       "lDrGUl/KZAH/noTyOUDru0MJDJW5x8hwxnAoXEMBPqYUK41FS0RkGzAuZB2mn96Jnz4TE4iy4q5Z\n",
       "EfRVPFUr+qwo2ykx1h9ygerOJM31RwynFam0zYbc3EZMse4XumgrSk/ts3ueokfQg9SYJnNLaJRx\n",
       "LqJoj5TkxZhS/LvQ1R1FMRy1z5Mw783GiYjih1XasCAIHMbss5JyO9FyJty1L02dNXIx7h5/sBR8\n",
       "WiKRX5W6romZSAvTL8lYbalnngD9VXwC1AUjnZq2PY0URr7gtXSXjlneaew/tHHx680KzIdUXfjd\n",
       "XhiT/XMbotwYbD4LgtrAh9aGKHPr3JhmiGJ6a5Tb2deqj/+AiIX2goq6nwAAAABJRU5ErkJggg==\n",
       "\" style=\"display:inline;vertical-align:middle;\" /></a></span>"
      ],
      "text/plain": [
       "|- forall_{x in Real} (ceil(x) in Integer)"
      ]
     },
     "metadata": {},
     "output_type": "display_data"
    }
   ],
   "source": [
    "# When defined, Ceil is always an integer\n",
    "ceil_is_an_int"
   ]
  },
  {
   "cell_type": "code",
   "execution_count": 16,
   "metadata": {},
   "outputs": [
    {
     "data": {
      "text/html": [
       "<span style=\"font-size:20px;\"> <a class=\"ProveItLink\" href=\"axioms.ipynb#ceil_of_x_greater_eq_x\" style=\"text-decoration: none\">&nbsp;&#x22A2;&nbsp;&nbsp;</a><a class=\"ProveItLink\" href=\"../__pv_it/axioms/7a7abe75957c0525b4d0ab245d81779e724009d50/expr.ipynb\"><img src=\"data:image/png;base64,iVBORw0KGgoAAAANSUhEUgAAAIoAAAAVBAMAAABrmWvBAAAAMFBMVEX///8AAAAAAAAAAAAAAAAA\n",
       "AAAAAAAAAAAAAAAAAAAAAAAAAAAAAAAAAAAAAAAAAAAv3aB7AAAAD3RSTlMAq1RmmUTNIjK7EInv\n",
       "3XZ/CtNrAAAACXBIWXMAAA7EAAAOxAGVKw4bAAACGUlEQVQ4y42UPWgUQRTH/7cft5vdOASslBAW\n",
       "FBsNBgtFC11JTAJROSLYKHghgmgR1lJIsbYG0UbiKhxXXJEzEC4pElCQa2wUJYhWsrKHH0WKayNW\n",
       "vpnM5rLLnLmB3Xk7781v39cM8N8RwIzjRIhaHI8obSzsM5gHvbPV9JVGJv1lgAtHulCOowcKfgCX\n",
       "+HxHrXbKCoozmzcrVvGQR/ZUTTFGVL4sf8+Z6T4HwfXUlH4oI2Lfqlm798Kq2CUtx9QU6DkMxfgx\n",
       "jj90oUxJitM+vLC2N7va7UDMK62lNxTHKjAJvOhCmZUUA63kSqZG5ozwxmdDxiZwGrgPa2DPzuH1\n",
       "i3Op/FlSzuBC9WCWcpdT9ED/WyD9CaCv6pakzm5FJeZioyG/30lKiPFsv2gzIiIbRpnPT2gl2U3u\n",
       "WEgFYDiX5CjAp2x2v6TZ7RemN+kpn6dXe+JnwPgGomz5uYhgbuOVstK3AofkYZLW7pEiOFT06sLE\n",
       "tSppcSs7FOdZoYmGouvqpUG4NJ+lZ56Sq6Ni45qgGC93O3l1h6L9qTVNT3ECTj66jGnZEYWQr2xT\n",
       "waIo8hhzp1Orx9KXq8nRU6rTWGtro7ztv6YLdtPCgvCFmTfSsA+EPZ1pa1MK827ZoJqLvOC13zlm\n",
       "vVCM1MT49XYL1nOSrv9u1MZT/aLqZojFCDuUB1nochSVMgv1nnxZ3OfGtBJonVvDbqiv1QD/ANyP\n",
       "fuAv0KI+AAAAAElFTkSuQmCC\n",
       "\" style=\"display:inline;vertical-align:middle;\" /></a></span>"
      ],
      "text/plain": [
       "|- forall_{x in Real} (ceil(x) >= x)"
      ]
     },
     "metadata": {},
     "output_type": "display_data"
    }
   ],
   "source": [
    "# When defined, Ceil(x) is always greater than or equal to x\n",
    "ceil_of_x_greater_eq_x"
   ]
  },
  {
   "cell_type": "code",
   "execution_count": 17,
   "metadata": {},
   "outputs": [
    {
     "data": {
      "text/html": [
       "<span style=\"font-size:20px;\"> <a class=\"ProveItLink\" href=\"axioms.ipynb#round_up\" style=\"text-decoration: none\">&nbsp;&#x22A2;&nbsp;&nbsp;</a><a class=\"ProveItLink\" href=\"../__pv_it/axioms/52e1dc378643a3ca4d15b31ae377fbc593b0a0270/expr.ipynb\"><img src=\"data:image/png;base64,iVBORw0KGgoAAAANSUhEUgAAAWwAAAAXBAMAAADdI2g8AAAAMFBMVEX///8AAAAAAAAAAAAAAAAA\n",
       "AAAAAAAAAAAAAAAAAAAAAAAAAAAAAAAAAAAAAAAAAAAv3aB7AAAAD3RSTlMAq1RmmUTNIjK7EInv\n",
       "3XZ/CtNrAAAACXBIWXMAAA7EAAAOxAGVKw4bAAAEh0lEQVRYw72XX4gbVRTGv0xmMpmZzTQgPnSV\n",
       "ErXYB7s0VKvog6bUdhVtDRWEslaDPgiKMgsiiKUbX5S6SlNQ1iiss7CIW6WMK1RZy5oHRXSxLEJB\n",
       "kchsrVUrxFKRLftQPPfOnztpZjI+mL2QyTn3frn3N2fOPXcCrFdTUxVWovBg+2fPkNrt8n+Y6X9s\n",
       "Z9MEZsn7VtyeoVuFqVS4oMjsmwZPLTnJY698ya63BO4vKdhMsJvZTw0e+/1+g5foo9cCL2enYJPg\n",
       "ZZZNjcFj7+ozpqzRRS4HbraSgk0CdmtGafDYrT5jxjJdhoT/bQo2CbJ0k7l1SO1an8EcQ7lZ+E+m\n",
       "YZPgu3Z7afDYMu3Iycbzn1BoO9fiBKXMMB4bfukPKgrji0fZ036APidWPvic7I/jsPXO8OS8j02C\n",
       "+4B3Yhfyw2RFO4Os0x2Yke4tKDR5Sco3n+maJKxlOXqozpvOKahnMGE5W5G9COeYq69C+Rrv2X6I\n",
       "K+YmmRLmdr5+m7digC1jxd3rY5NgHGoxstDIyZ3PcUPz/B1dGIFSr4hboC1SRSawZ+PuHSiUoJaf\n",
       "pZAWXBQ+K+1FpqZUf4R6GR+VsYcpvqd5rOxahu5va1y078A99jU+Ngk026j6o/mVZtU08KkjsPVi\n",
       "IvZY2DuDJGwlqNZDVeTtv8l4iOxhnMaQq+v/QFpjHT8xxVe0PmS+BY7GYde9u+PYJJDccEfeW6ez\n",
       "ysRdrsCWq4nYorzuTsTG0wLbq3PfABMuWRN1SBcp5tRB+B42yfjSj8ZvydMhNhPU7qZLZ/ScZbLK\n",
       "SdgXKgK7QD3nDo9GsLnLsEXZXPaw2RwRbO7OiyQBS1v9CvCFRdZfYMwbysevsDT3kgR43NIpGCNx\n",
       "uQ1lFcd9bCaYp4iY1sZcaY6/GRjqdFlgvwD8lmk8EcHmLsOWKri/Sa2s1jg2n0Nge+5m39MojAWW\n",
       "MZQoS9CKaGbtIQfb7IVLhL+FBqaBuer1MMi8Myba+luZFhwfmwkOEUsW03k8zFeT321EtuQBoKy5\n",
       "9Qg2dxm2EpytzMj4cwhszz0QnCj0ywmWcDuhVSAX80sGy5Pz2fo0Rip+Udv22oPY79fCq7Gly7Mt\n",
       "peRjM0GGQ61SWaHQlUzT2B/BvoE+GywqbNSmvNwml2PnA2yp6Of2qpfbR5jY8twjwW6nBDnI+Rdp\n",
       "J+jXnR3/nfkz2zHz56ubGMEb9NuOtItl3pm4aO9zN28PcjsU5FsqJnm0TWXMFths2ddhRbckc7uS\n",
       "JO9Fm88RyW3uBkmCH9IOpEL4SNXllFMyFBwyajKVQp7bWOjakmrrpCjRRd9l2KbbvSX5HALbczuB\n",
       "e1satniBEi9VCdihQP518QLUt8l65Lwzu0dgaxb2jXXsSLS5y7C18BlMcWw+h8D23KnA1aw07lD6\n",
       "Ytr79lWCD5tNUaa17vOit27Phb1jiXVbb/RaSW2uhz8Je6rPLP7hPpqILUZkK/FwFzE+nPpn0w0q\n",
       "Z8/QjcLMO3GCHmzDTsDORs7PhSTsHVjvFvw/7sLeeMyrL80S9GguiH/Tetck9oDg/gXzSzTaSzxJ\n",
       "IgAAAABJRU5ErkJggg==\n",
       "\" style=\"display:inline;vertical-align:middle;\" /></a></span>"
      ],
      "text/plain": [
       "|- forall_{x in Real | (x - floor(x)) = (ceil(x) - x)} (round(x) = ceil(x))"
      ]
     },
     "metadata": {},
     "output_type": "display_data"
    }
   ],
   "source": [
    "# The round function rounds up for reals mid-way between two integers\n",
    "round_up"
   ]
  },
  {
   "cell_type": "markdown",
   "metadata": {},
   "source": [
    "## Theorems <a id='theorems'></a>"
   ]
  },
  {
   "cell_type": "markdown",
   "metadata": {},
   "source": [
    "<font size=4>The theorems for the rounding theory capture many of the basic derivable properties of the `Ceil`, `Floor`, and `Round` class functions. Many of the theorems are then used for related class methods.<br/>\n",
    "Below we show a few examples of such theorems (the current collection of theorems can be found in the notebook `proveit.numbers.rounding._theorems_.ipynb`):</font>"
   ]
  },
  {
   "cell_type": "code",
   "execution_count": 18,
   "metadata": {},
   "outputs": [],
   "source": [
    "from proveit.numbers.rounding import (\n",
    "        ceil_of_integer, floor_of_sum_greater_eq, floor_of_floor,\n",
    "        floor_plus_ceil_of_neg, round_in_terms_of_floor)"
   ]
  },
  {
   "cell_type": "code",
   "execution_count": 19,
   "metadata": {},
   "outputs": [
    {
     "data": {
      "text/html": [
       "<span style=\"font-size:20px;\"> <a class=\"ProveItLink\" href=\"proofs/ceil_of_integer/thm_proof.ipynb\" style=\"text-decoration: none\">&nbsp;&#x22A2;&nbsp;&nbsp;</a><a class=\"ProveItLink\" href=\"../__pv_it/theorems/5272133cde9153588174b05b7e4e0dae76a5ba5f0/expr.ipynb\"><img src=\"data:image/png;base64,iVBORw0KGgoAAAANSUhEUgAAAIkAAAAVBAMAAACArtDCAAAAMFBMVEX///8AAAAAAAAAAAAAAAAA\n",
       "AAAAAAAAAAAAAAAAAAAAAAAAAAAAAAAAAAAAAAAAAAAv3aB7AAAAD3RSTlMAq1RmmUTNIjK7EInv\n",
       "3XZ/CtNrAAAACXBIWXMAAA7EAAAOxAGVKw4bAAABz0lEQVQ4y42UPUjDQBTH/036kRpbKk46BXVw\n",
       "rB/opoKfSyXgrHQTnKKuVaqri4tiFCSDCCpIEKcO0lVEqZtLpIoiKBS3OnqX3rXaXvUOEl7+7+V3\n",
       "7717CfDXigDz3mPFVjwvKQyy8M96BgZqT6ExYdACuRLU6BZDFFeGEicpTlJjUUw5hgwFS8AGLX9b\n",
       "7B6XowwCYQfQDbE7L0dpdaCSqsJN2pKWo4QJ4tbzbsTeoMsoLaXOrQsBhek6OaEZYL/5Hj4liKdi\n",
       "ilNSHl33qOkqyXkZkcSPVwPXlwdsz5jBKMMYddoFuTBdIf2LOrrJVO3JNmOWfu6wrpmMksWUsC9M\n",
       "1z4JqVht7kSWpIfNVdRRgLsm3a3o9CzTI+RWmn6x4pXvZIwHVytCqIxTQV+YrhSIeUFmL251hI0T\n",
       "36OuZBklWqxQWnYCebiNuXBdpUObSdA6DjXM+b5znUfRE6QU5esoHzIaKVz3JyLg710GhmzbNuDm\n",
       "aJZ+1wosl9liT7+gL1yP8dOBlo9gyy+1N4kcEx/kZneNGxk9HSRnTssIIlSofWYylPHqsL9evSOy\n",
       "R6y+to9dPoVRS4ZS/0c4s23zV+HbMpTof7/MdaCr9qS5wqA34Bsx3XgJf7WYPgAAAABJRU5ErkJg\n",
       "gg==\n",
       "\" style=\"display:inline;vertical-align:middle;\" /></a></span>"
      ],
      "text/plain": [
       "|- forall_{x in Integer} (ceil(x) = x)"
      ]
     },
     "metadata": {},
     "output_type": "display_data"
    }
   ],
   "source": [
    "# The ceiling of an integer is just itself\n",
    "ceil_of_integer"
   ]
  },
  {
   "cell_type": "code",
   "execution_count": 20,
   "metadata": {},
   "outputs": [
    {
     "data": {
      "text/html": [
       "<span style=\"font-size:20px;\"> <a class=\"ProveItLink\" href=\"proofs/floor_of_sum_greater_eq/thm_proof.ipynb\" style=\"text-decoration: none\">&nbsp;&#x22A2;&nbsp;&nbsp;</a><a class=\"ProveItLink\" href=\"../__pv_it/theorems/5df333bd4cd493d9f27f645e3befe02ee78b51a00/expr.ipynb\"><img src=\"data:image/png;base64,iVBORw0KGgoAAAANSUhEUgAAARUAAAAWBAMAAAAcIxXLAAAAMFBMVEX///8AAAAAAAAAAAAAAAAA\n",
       "AAAAAAAAAAAAAAAAAAAAAAAAAAAAAAAAAAAAAAAAAAAv3aB7AAAAD3RSTlMAq1RmmUTNIjK7EInv\n",
       "3XZ/CtNrAAAACXBIWXMAAA7EAAAOxAGVKw4bAAADPElEQVRIx8WWTWjUQBiG381u9idp44KnWpBA\n",
       "Sy9aWUQUPfSH2ipIdVHpRbApCqIHiVepsHptxfYgugolhV5qpcQeKngoiyAIWqmiIGhKCqtikVLw\n",
       "0OLJSWZ2TbKT7PbkwLu72W/e5MnMN98M0EjTIRnR8TqWYAdPLEWjOhpriop4LiIu9tSx1HTwxM4D\n",
       "F0GVda7boln2YccsfksdFiVH1e9cX4lEkbSGWKRLoZY6LLhGdduZsolIlkSuhkXMccZlbjXMUmU5\n",
       "x2c5RJUkWSSrkSxNqGERbN4cKV8MvqXKcoDP0mS4cv5NRqdLR6MsiFdgOnbGksxRLVvWm2iWU8ws\n",
       "bewZW/CxSOUcpr3pIFzWeRYuy3wfpCxlkbNUJ4FH0SyXmDmBNXvQxyILJXT7UlMcMTgWLou5H/FN\n",
       "yhLXqG4gla19fudi7/XK7w/MfATdxm4fy53EClr8LFcNjoXHklYHEZugLOSVXGUMOe/nSK8V84qM\n",
       "5ya7fsVuXMAAXSSW9ZXMLHkDo8nGO98cjeg8C+0waFlvLes9Y5GIk9hdlvQmlWAHU/d4gSwJBcfs\n",
       "AAuc5/pzd9hIb3tz96PBtXDnSPyDewXKIpaooHWRj40TZfJG4hpibgV0WNZ7AnMEcQtP/CwDUEq8\n",
       "NR2wcFkSGn6xdSSsUGGBVDxFb0mSIjO/yxjHrHtbOTVVWXdTbFDvx0ow/SyTyGR5tS5g4bIQ5yRj\n",
       "iU9QYZTcLY6pNPl5sxM/aW1UEo+rxfgZNQvbMyVR9bP0YjjH2wMCFv64ZMXfjCVhUiFWcKJbbp9W\n",
       "7MXhYrGoKop8tnLju+wlT9vtBwP5Mr10RuftjQELl0VqLW8xluY8FVs7pZTz9QmvMeaOiyJeqEx+\n",
       "cyGi7i5y9+mAJaTuyhpjucXktlFZS2AO+CxukkXu5gteVFdHT9jeKGvSSy5LwMLdGxfxVGUsfUy0\n",
       "ZHxbWse4ivajGlIPyR9D382ZgUr0QdiZodmOmf/ODJbbChwL98ywSjKCsjjnhOBZQZX0DOk0Vyz6\n",
       "q99sGIvQ1R9ylpqtz9JWzjOWjE7lHXgjZg/xHpmyISxbdsh2JVickNfC6VCNdVqkEPwAlRcWYpeJ\n",
       "/9f+Ah6B/MXaK7/VAAAAAElFTkSuQmCC\n",
       "\" style=\"display:inline;vertical-align:middle;\" /></a></span>"
      ],
      "text/plain": [
       "|- forall_{x, y in Real} (floor(x + y) >= (floor(x) + floor(y)))"
      ]
     },
     "metadata": {},
     "output_type": "display_data"
    }
   ],
   "source": [
    "# The floor of a sum is greater than or equal to the sum of the floors\n",
    "floor_of_sum_greater_eq"
   ]
  },
  {
   "cell_type": "code",
   "execution_count": 21,
   "metadata": {},
   "outputs": [
    {
     "data": {
      "text/html": [
       "<span style=\"font-size:20px;\"> <a class=\"ProveItLink\" href=\"proofs/floor_of_floor/thm_proof.ipynb\" style=\"text-decoration: none\">&nbsp;&#x22A2;&nbsp;&nbsp;</a><a class=\"ProveItLink\" href=\"../__pv_it/theorems/9685b990ed03ede617b9a8d937e39518eb8d29640/expr.ipynb\"><img src=\"data:image/png;base64,iVBORw0KGgoAAAANSUhEUgAAAK8AAAAVBAMAAADC7aNVAAAAMFBMVEX///8AAAAAAAAAAAAAAAAA\n",
       "AAAAAAAAAAAAAAAAAAAAAAAAAAAAAAAAAAAAAAAAAAAv3aB7AAAAD3RSTlMAq1RmmUTNIjK7EInv\n",
       "3XZ/CtNrAAAACXBIWXMAAA7EAAAOxAGVKw4bAAACIElEQVQ4y52VPYgTQRTH/9mP7F42NxxYKSIL\n",
       "io0eBhUFC42cnoKehFNsBA1YCBay9ifE1kOwEV2FkCKFUZB4hYKCpLGSE7Vf2YAfcEWwO7HyzezO\n",
       "3p7ZzMFM8ebtvDc/hve1gHIFqHRoEyI7Apwxx+cbqpP4KBfzYdZoFyJZdp3EpTHPQxsqGa/SNsP1\n",
       "3RPA+6AHZuR/mus3irmVpiYYN4G7PCoPisFWTRd8GChTXjy/GFyFLrjaEXfKE0K8VxtcpgurUfRx\n",
       "AvhcHlwZ7VheUYJfDp+98xOjRzVxFngyAXw9D7YwjBc2gRcivr5k4DrbZX1OjCal/TacmRxs9vXJ\n",
       "W1L/mgcfxYnONtWLzcD8W6olRmMATHW8Rmp1h2GDeXjTT78/5MEtzKtj7MJqyhi7vwkeZ7k71aLa\n",
       "ZjgWF4GBT1slrxpLsE0vRvM4idGZ7wHvFw5eqxeFAvY6nwiKGONawIeKCAXFGivUJizYXvZ7Yjx4\n",
       "TlsWVzsHrjwsDdBXvbjX2AkvNZq85ZYodybaLi4KsPU068NXObDxpzuwfRX4wL3zWEyNFk9TqcUt\n",
       "68CRMAx9xrxF6X0//+IL8Z6Dyhh3R8acnxqnZT3AHThYFi9m9hU5fadbup13R34seU2LCk/EGG9l\n",
       "8sy6Lngum2M/3q/BeUza5Z/97rw8fqQJ/n9cvgjDxqaDniZ4aqt/kxPDWI1SwZcRkTIbfRvz3C/P\n",
       "hPEX8A+6jZWWkqTGAwAAAABJRU5ErkJggg==\n",
       "\" style=\"display:inline;vertical-align:middle;\" /></a></span>"
      ],
      "text/plain": [
       "|- forall_{x in Real} (floor(floor(x)) = floor(x))"
      ]
     },
     "metadata": {},
     "output_type": "display_data"
    }
   ],
   "source": [
    "# The floor function is idempotent\n",
    "floor_of_floor"
   ]
  },
  {
   "cell_type": "code",
   "execution_count": 22,
   "metadata": {},
   "outputs": [
    {
     "data": {
      "text/html": [
       "<span style=\"font-size:20px;\"> <a class=\"ProveItLink\" href=\"proofs/floor_plus_ceil_of_neg/thm_proof.ipynb\" style=\"text-decoration: none\">&nbsp;&#x22A2;&nbsp;&nbsp;</a><a class=\"ProveItLink\" href=\"../__pv_it/theorems/09c1c9808144ce39895f396d668c36db0ce272ed0/expr.ipynb\"><img src=\"data:image/png;base64,iVBORw0KGgoAAAANSUhEUgAAAOEAAAAVBAMAAABCnpRGAAAAMFBMVEX///8AAAAAAAAAAAAAAAAA\n",
       "AAAAAAAAAAAAAAAAAAAAAAAAAAAAAAAAAAAAAAAAAAAv3aB7AAAAD3RSTlMAq1RmmUTNIjK7EInv\n",
       "3XZ/CtNrAAAACXBIWXMAAA7EAAAOxAGVKw4bAAACm0lEQVRIx52WT4jTQBTG3yZpkybb0KsgEhC8\n",
       "6NKC4kH8U6muwiqUVbwIWvAgCEq8r1KvirieNAolh0VcBYkeFF2QXgRBhKoHPZgllVVhD4sHQdCL\n",
       "702SNp1OGkhghsnHl/lN5r15CcDEy8amAjwaKirnKPh+MKrM+J/CB1Pmm3iZFnbfAHYOpZOcRa6N\n",
       "P4aeM+IJSa7QYGsKcTs2yctDNMfllTWbyYfp5rwYqLewewB5iHCBF4uW/pnJ1yg2i2KiQrM1xMRC\n",
       "bTJxFy/uA3jJ5KILYFhi4jR1XTFRCiYTp11OvA1QdUmmJ4opYdxGM7fyEYu8/hvglsXk977/LoU4\n",
       "RzvrRcQn/YcrVgYx4TEqXE4QscbkowD3Uojn4rUSsW5uUXoZxIRHpr2B4z5dHyhX/iExYPJlUJPL\n",
       "mXl+8FI8/oitbIVE2Zb/TtUmE5MeqTu6ekb0mFxyjWakan2naRrwwovu31AGNEOiBkprEEfF979i\n",
       "NCoRUb/IXqWd9Gi/uF1F4tmAyVIwSJxDbTy6JuwJBEQcBdmZM/QUuuOZU7VCubUfu40jazarE0hc\n",
       "rwt2FVdo624WceiReqNxBAfggBvKz7AOmPamorXMSqmhduJJOthKQUhcbm4GI+Mdkx6Zryp7AWYj\n",
       "eQHDIUNHgxOMqNwfeJ/GWY7E6vVjMJ9BTHoUjyOWLf1tJE+1SfgDsNtxHMs0jfnYdJMyoBcSlzak\n",
       "hpVBTHrKTb5Iz/XbSVnrqnCDvaNZOB0XqDKt5Uu+mnNFfMQH8oLRUvCcsDjCqzhz5HpUknNU8oaY\n",
       "OJCV76/XQb2Lo1M/vKXZWL5DqWPn+VqlfI54+bHjjO4+Za++mIdYEv9flLJ+O1QK1lWAHf5q/A+z\n",
       "ylkkwZcOE+KneEKU/wNHtcPbvDomsAAAAABJRU5ErkJggg==\n",
       "\" style=\"display:inline;vertical-align:middle;\" /></a></span>"
      ],
      "text/plain": [
       "|- forall_{x in Real} ((floor(x) + ceil(-x)) = 0)"
      ]
     },
     "metadata": {},
     "output_type": "display_data"
    }
   ],
   "source": [
    "# The floor and ceiling functions are related in a variety of ways\n",
    "floor_plus_ceil_of_neg"
   ]
  },
  {
   "cell_type": "code",
   "execution_count": 23,
   "metadata": {},
   "outputs": [
    {
     "data": {
      "text/html": [
       "<span style=\"font-size:20px;\"> <a class=\"ProveItLink\" href=\"proofs/round_in_terms_of_floor/thm_proof.ipynb\" style=\"text-decoration: none\">&nbsp;&#x22A2;&nbsp;&nbsp;</a><a class=\"ProveItLink\" href=\"../__pv_it/theorems/a7d245b4591f9119e1c2f3b2474c46c59cc356c20/expr.ipynb\"><img src=\"data:image/png;base64,iVBORw0KGgoAAAANSUhEUgAAAQ8AAAAyBAMAAACwkkPKAAAAMFBMVEX///8AAAAAAAAAAAAAAAAA\n",
       "AAAAAAAAAAAAAAAAAAAAAAAAAAAAAAAAAAAAAAAAAAAv3aB7AAAAD3RSTlMAq1RmmUTNIjK7EInv\n",
       "3XZ/CtNrAAAACXBIWXMAAA7EAAAOxAGVKw4bAAAEpUlEQVRYw8WZb2gbZRzHv+kluSSXXAJDxFrX\n",
       "gKAv1tLgi4EiNmO1Km4sTNgb/zTOF+JAuYJvxEnjGwWHZIKgUeyuMsRG2U4FlSlthUmZc65u7IV/\n",
       "yjL/DDehHR1bpS8af8/17nJtc/c8S7nsIMk991x+z+d+f5/nOYB3xEto/TjH6Y/MAOO6mKxNCBgk\n",
       "9quQqJARCIg1OgNBr5CorQgCZGxwqQGiZAQkydOBgEB1geCsgKRUrQ0gPQLuej/aABLN8yWdbAdI\n",
       "ZJEryLo/YBA8zXeRTFtA+rhOUi61BeQoNyS60BaQ+AxP0HftAZF43hq72h6QBG8cdVFkNM1KwjcC\n",
       "oiy6Qbiaj08JcKhZq5LWxEFCXdc3uUE+AMz4vNPj/uRBX4TXjrPvLXbzz9amAeyYBB5kv8963HeU\n",
       "k3sXmH2LdiuqtwzSX8CrzLpeD172j+8I87hwzm5KeR5IJOcBQgOxx1CyHiP1ZX1BFCYm2Wj/wAPp\n",
       "qHmAkOolgox6jdTvn1jNqnlXo/1MyyBpctVTs7OeJXbejMwDB1/8gh5/7hYc2Q504qnOly+RxOGJ\n",
       "MlPYo/Q5cuHjb+j8s+YgVq8vCDnHw8B7XiCTpvsZbxvfQj6HEc3ogXQFxlu1xCIi0zikW2rIq5vD\n",
       "M9a0MjxrHpkGiNXrB5Ikjx+G7C6xvV9ue8Fp7GIjybnn6bFpqpb6OrsToWKk8Avk//BpDoPsnjPk\n",
       "pZq0FCIT9zTViN3rB5Ki37iuFOyMfqFSUBV85Uzcu82rOkvAuwi7Ez8hWUskrqFjiV34jXV/T3cg\n",
       "bMZwuSmI3Uuq+v3UiqrSdXa4QaYYpeOrA+Sbqor7aqtAVqL0BDBSo7OREjqukF7oAgGtgBCj+Zcn\n",
       "PJw1WeM5KwNB8QH6mnvoL01l+iOQy/lVpgEzcGKZPEajs3kwinSuuszcZcU0wJCW0K0FynofsXp5\n",
       "psHn+2h47bZodtysHIo86qSdSTNqUsxUV9n8NZ5BRdKTBk2pji0Q0N3UMUqLxkIXFDq9t6lG7F6e\n",
       "s2I/wUsYjeExEyT8fiPPzpt5ZIT50DbE8whnYicVZp2LUmkUvXmmOorZvjd2YLcVyetB7F5fEKbA\n",
       "kDkaleWtlUolq6rK7jUJ7Ukzi05QVUrc/sfwP6w9dg/G/n19M+t+Ezg817E927SysCt2r28ecbwh\n",
       "NiXjgKkRNfK4U7z6CgJLMCf7yjPCmVUeeK60KsXbgbpfKYYpkE0fwTEHr5zjgzRKXTgnXPRegnJt\n",
       "TdGzZPw9cRnyu3S256JxeND+Y1pgCYZ34EgXngbcCvzoBllTXT+pVFbbIlUUABlfR8QHOa2jW3OB\n",
       "zGuczRGRqaJsqVXVxEHuoGRZcoF08+y/wRWn3wztvNs0J3jLiYXAQGLLLhB5+aYtsKxVtegCCzsC\n",
       "A3nEndBC3CXnUCEgECnjBklzF+GpfEAgWyC7wrefuy0hBbRREzOg6g2Qn2/a1tUrAwM7b2jrSkBp\n",
       "LYGcr9evN0DiAvtSUSOgqHFPA4YEnjY23QaQMyKiLgUPIrQFHtRLATfIHjFZezcCcrZa9bF/tfoh\n",
       "e02yT0zWhl4cUXT4TGkO1esE8pGJ+j/DNIp8BMUbLAAAAABJRU5ErkJggg==\n",
       "\" style=\"display:inline;vertical-align:middle;\" /></a></span>"
      ],
      "text/plain": [
       "|- forall_{x in Real} (round(x) = floor(x + (1 / 2)))"
      ]
     },
     "metadata": {},
     "output_type": "display_data"
    }
   ],
   "source": [
    "# We can express the Round function in terms of the Floor\n",
    "round_in_terms_of_floor"
   ]
  },
  {
   "cell_type": "markdown",
   "metadata": {},
   "source": [
    "## Demonstrations <a id='further_demonstrations'></a>"
   ]
  },
  {
   "cell_type": "markdown",
   "metadata": {},
   "source": [
    "#### <a id='demo01'></a><font size=4>1. Simplifying $\\texttt{round}((x+1)+(y+2))$</font>\n",
    "<font size=3>We consider the simplification of the rounding expression `Round((x+1)+(y+2))`, calling upon the general `Expr.simplification()` method, which itself behind the scenes eventually utilizes the `Round.do_reduced_simplification()` method and works to apply two possible simplification theorems involving integer operands of the `Round` class.<br>\n",
    "First, we define our expression:</font>"
   ]
  },
  {
   "cell_type": "code",
   "execution_count": 24,
   "metadata": {},
   "outputs": [
    {
     "data": {
      "text/html": [
       "<strong id=\"round_xplus1_plus_yplus2\">round_xplus1_plus_yplus2:</strong> <a class=\"ProveItLink\" href=\"../__pv_it/demonstrations/053e931fcba997dbecc893fdf1ea24bd804514960/expr.ipynb\"><img src=\"data:image/png;base64,iVBORw0KGgoAAAANSUhEUgAAAOEAAAAVBAMAAABCnpRGAAAAMFBMVEX///8AAAAAAAAAAAAAAAAA\n",
       "AAAAAAAAAAAAAAAAAAAAAAAAAAAAAAAAAAAAAAAAAAAv3aB7AAAAD3RSTlMAMom7Iplm783dEER2\n",
       "q1TfLoYRAAAACXBIWXMAAA7EAAAOxAGVKw4bAAADEElEQVRIx51VTWgTQRh9STZNs0m3wYvUg0a9\n",
       "KFTNoZ5UWCgIBcVSqVi0GFFBRGzwYNGqDYgKghgLIos/XVBBhJKc7EGhW7CerAZ/ikqloSgqCG2h\n",
       "iLTF+s3OJk1mZ1PwwdvMfvvyvfm+2ZkFloHi0POhCN1LrFd7WIbXDqWIWK5QtOAlfu7QE76rrXTV\n",
       "4pwSNJjAS1d0UtqL9ksxRJOw6Y16NtvHDl1QP9wgx1pTDKdl4mb454Fr4PTEEMu2z2FZJ4vTfEPP\n",
       "a1qdm6fObzAp074HuoFj4PTERnZJOVyCZpU54pxz88v5DUm1vSYmdIToDyGziuNl9pc0p6fjFcHx\n",
       "h1T7CZiIoZYqJvrWK200ahzNqSNJ1JmR0YeN22mt3w7/ZU2Kc6qvPq/YLHPcJDi2kZbyDAhaoB/w\n",
       "5236A23+FFpyyqxfS6GL7seR1TGoB+aA4rQQxKjVIXM8LjhSzTyP4OhboEVP29xZm6Ei7gJ9q4MZ\n",
       "fMSzcAJ7YuoZBFkzwwXOo+gyx2SO3wXH+wDL8050DFN9NBPGVfWshGngghmycB5mNocpkwJhtgtD\n",
       "Oc4Y9vNX0TBunzWMfMlxDRt1GEa3Ydxjwx6A56nUYi+rc5qTbYJQAsoCjZQZYApUKQXIeckRdg5J\n",
       "jYNCjT32tvLNCNoa5htJcbLlyVrwz9IoOs3s8FulgL0Uxa4iMosnMsef7q5SO6IpQTsJRYeWgc0+\n",
       "drwkEYpjBwKJEzgNbc6fLeCjRsduwLKpbqtLIS5zPCI40mvO8uQrtb44oiZqEmBU5lnL89gKdGJl\n",
       "PE6NjaYPByztVhClF1qbeZSKFATHLTrfDRWObLd0YihZqW1pb+8obbVIhoXWjdBiDTR+HY/RvTpW\n",
       "UMfX7h5mk8vYVA9a304J6/il9zrlvSM4NoDlOaRXavsXF//Q8uQ4q+OmQ8mZY38UMoJjOMauG2Ra\n",
       "tDisDvfpGyk/q0sHd/Ekp6Pdn1YvyrSSr4IMAZ3TA82uSBPCVp30g6okOJeBmuD0QJMr8gDayQP/\n",
       "M/kSdjmUIupOoFhe4hec/wBtB/XsywxvggAAAABJRU5ErkJggg==\n",
       "\" style=\"display:inline;vertical-align:middle;\" /></a><br>"
      ],
      "text/plain": [
       "<IPython.core.display.HTML object>"
      ]
     },
     "metadata": {},
     "output_type": "display_data"
    }
   ],
   "source": [
    "round_xplus1_plus_yplus2 = Round(Add(Add(x,one), Add(y, two)))"
   ]
  },
  {
   "cell_type": "markdown",
   "metadata": {},
   "source": [
    "<font size=3>We then try calling the Expression `simplification()` method. If we know nothing about the addends $x$ and $y$, we will get an error:</font>"
   ]
  },
  {
   "cell_type": "code",
   "execution_count": 25,
   "metadata": {},
   "outputs": [
    {
     "name": "stdout",
     "output_type": "stream",
     "text": [
      "EXCEPTION: the simplification theorems do not apply without more constraints.  Proof step failed:\n",
      "Attempting to instantiate |- forall_{i, j, k in Natural} [forall_{a_{1}, a_{2}, ..., a_{i}, b_{1}, b_{2}, ..., b_{j}, c_{1}, c_{2}, ..., c_{k} in Complex} ((a_{1} +  a_{2} +  ... +  a_{i} + (b_{1} +  b_{2} +  ... +  b_{j})+ c_{1} +  c_{2} +  ... +  c_{k}) =  \\\\ (a_{1} +  a_{2} +  ... +  a_{i}+ b_{1} +  b_{2} +  ... +  b_{j}+ c_{1} +  c_{2} +  ... +  c_{k}))] with {i: 0, j: 2, k: 1, a: (), b: (x, 1), c: (y + 2)}:\n",
      "Unsatisfied condition: x in Complex. For debugging purposes, this is accessible via Instantiation.unsatisfied_condition with applicable assumptions in Instantiation.condition_assumptions.\n"
     ]
    }
   ],
   "source": [
    "# If addends are not known to be integers or reals \n",
    "from proveit import InstantiationFailure\n",
    "try:\n",
    "    round_xplus1_plus_yplus2.simplification()\n",
    "    assert False, \"Expected a ProofFailure error\"\n",
    "except InstantiationFailure as e:\n",
    "    print(\"EXCEPTION: the simplification theorems do not apply without more constraints. \", e)"
   ]
  },
  {
   "cell_type": "markdown",
   "metadata": {},
   "source": [
    "<font size=3>But if we know that $x$ and $y$ are real (either because we already know that from previous work or, as we do here, we supply that information as assumptions), the simplification goes through, with Prove-It automatically simplifying $1+2$ to $3\\in\\mathbb{Z}$, and eventually applying a rounding theorem of the form $\\forall_{x\\in\\mathbb{R},i\\in\\mathbb{Z}}\\texttt{ round}(x + i) = \\texttt{ round}(x) + i$:</font>"
   ]
  },
  {
   "cell_type": "code",
   "execution_count": 26,
   "metadata": {},
   "outputs": [
    {
     "data": {
      "text/html": [
       "<span style=\"font-size:20px;\"><a class=\"ProveItLink\" href=\"../../ordering/__pv_it/theorems/d1323f34847310a404e8089c2c268d3c2eb89dbf0/expr.ipynb\"><img src=\"data:image/png;base64,iVBORw0KGgoAAAANSUhEUgAAADQAAAAQBAMAAACra0H4AAAAMFBMVEX///8AAAAAAAAAAAAAAAAA\n",
       "AAAAAAAAAAAAAAAAAAAAAAAAAAAAAAAAAAAAAAAAAAAv3aB7AAAAD3RSTlMAEHarMolUmd1mIs3v\n",
       "RLtmgJDEAAAACXBIWXMAAA7EAAAOxAGVKw4bAAAAyklEQVQY02NgwACce9797nnJgBXwcRnwWj7E\n",
       "IRXA8MAZp1QVN4qQXkfHBrgUH7LMbUUkXYbCQIaQskhoApDm2ohkIMuzXUBGAZMRewOQ5l6AkDrd\n",
       "3yQA9MUCzo/ME0BSSM6InAiylIWBHWw3g08HEDyAGvhwJliMRwFMySE73p1PAMS6v4ARRHMgS7F7\n",
       "AfXLXbBhYAUJMCkgSTE+0GRgyHesYbgGFtmGkCpgmMl3gUFcia0yASwi/FYAFvL/FvC9/oYcHFdf\n",
       "QAIKCgBACzQrtGfvLgAAAABJRU5ErkJggg==\n",
       "\" style=\"display:inline;vertical-align:middle;\" /></a>, <a class=\"ProveItLink\" href=\"../../ordering/__pv_it/theorems/5d76fdd975252a644e3e1cb067a357f9a9c8486a0/expr.ipynb\"><img src=\"data:image/png;base64,iVBORw0KGgoAAAANSUhEUgAAADMAAAATBAMAAADPIygvAAAAMFBMVEX///8AAAAAAAAAAAAAAAAA\n",
       "AAAAAAAAAAAAAAAAAAAAAAAAAAAAAAAAAAAAAAAAAAAv3aB7AAAAD3RSTlMAEHaZZquJVO8y3btE\n",
       "zSKD2s2pAAAACXBIWXMAAA7EAAAOxAGVKw4bAAAA4ElEQVQoz2NgwAC+3ftvdTswYAUbnjIc9RbA\n",
       "LvWMgZszAJcU84MLKELaq1ZdgEttQJY5q4jQxSoINJBR2YFBFCTAdxHJwNm1DxgY2NgbGPxBArwP\n",
       "4FIvbv0CmTCdeQFDNFgKyRkusiBagEOBoQnEmLEKCDZApLhFwF4+L8D5E0RLI+niNNgIYtgyMDWA\n",
       "aC5kf1m+BjG2MnCDfc6kgCQlzQQy0ZThPCQsr8OlHjOwOOwBMkST7CHOFt0jAAv5fQy77xeA2LlQ\n",
       "1cd2rUIJObYLjO3Y44aBS4E1AYcUu5MNDhkADGJEjCMFBEsAAAAASUVORK5CYII=\n",
       "\" style=\"display:inline;vertical-align:middle;\" /></a> <a class=\"ProveItLink\" href=\"../__pv_it/demonstrations/a0df2023734ae6332f48b5a2877969e138fb4d2d0/proof.ipynb\" style=\"text-decoration: none\">&nbsp;&#x22A2;&nbsp;&nbsp;</a><a class=\"ProveItLink\" href=\"../__pv_it/demonstrations/58243837ef5db1a125c497e09df188ed87e5e9980/expr.ipynb\"><img src=\"data:image/png;base64,iVBORw0KGgoAAAANSUhEUgAAAasAAAAVBAMAAAAKiNzvAAAAMFBMVEX///8AAAAAAAAAAAAAAAAA\n",
       "AAAAAAAAAAAAAAAAAAAAAAAAAAAAAAAAAAAAAAAAAAAv3aB7AAAAD3RSTlMAMom7Iplm783dEER2\n",
       "q1TfLoYRAAAACXBIWXMAAA7EAAAOxAGVKw4bAAAEgElEQVRYw5VXXYjcVBQ+M5NsdpKZdNwXqYiN\n",
       "FbTC2kawTyoOaIUFpWVllxYtjuiKSGsHHxSttfOioiCOhSKDVgK1IELZPHURC02h9UFcWywtRbYw\n",
       "iGKFQndhWcoqu577Eyc59yaTHjjDzDfnfN85994kJwBDzJCe+Se1Zl5s8zYSclXyUocSov0iXWtO\n",
       "pEC1fl7saSiekCpBb6dvA5VW+mgXfrqecI1tDAB+VNDfdaE7dj8sYmutYgm0hAxT6IzNz4U6kYRt\n",
       "YMv4rXTF7MufYVujAYU7ulPkw7ZQxH4CRRKUErKM0p0Ad00jkrQzrIxp6QM7FX+5gP+P7CKomVop\n",
       "R/yqN8Fqi9gZqmK2ipSgUEqbIeiFvn1LI5K0B9lHW/rAbiTbgncJaqViXXHtWatQXxaxFt1eq1AJ\n",
       "CmWcHaTRuRBuaUSS9gEL7wjPbOtDgl7X1VDvQn1JxI7SzbkOBUrIbCumG6DuCkdL9xmT+N/4fGif\n",
       "b0E9cOa/GX8ML4dfz66xI+IJt3/+bWyrrq2HSFuTGIs8J6ladVHEli+SyjEBxvwd9+eWkJCXlFIk\n",
       "phsIfd/iaLkyWW7DRGgsl902HMDfCzDbhLlmZVWuBnMT5qM9urZeI23hjggeorYpErEjfO339Jgd\n",
       "kwngbfceyC0hIS8ppchIhwjdfa3B0adHu7geXwEcucfswlX4oerDzob9Fpgso9oX/gocCK7o2vqL\n",
       "tPU1AOO5RNs6JmPdNtktTDBaH+Om5ZWQkJeUUiSmSxzCNY7etYGtBh6RQ4EVwXsQzIZwM0Cgyh4X\n",
       "Vii8AbtBLvPbcplFW5sIehBA8CBpr/fFO70ePyamL2NLi6QtTCgFK0NKiOUHlFKE0yWFAA4HHGU3\n",
       "UcsH41/8ZuCFfRNwwRBA7kFbwAvV7NYcQQ/y23JpiSzifpCxTlttC5zVISUk5GNKIeKQ3boD4Ik+\n",
       "R9mZnY2gvIzfaouMEFZsBPjlER9CcJbhO11bf6uHEFe2RtRwUHhKxLpdcm2xBDxQ+SUk5GNKISLo\n",
       "Buh6wNpi6BH2NG+B5cHjUPFfhzfBXS3P9uGqiyNjJeJuP1pvg6dr62XSFt7BGA+5QY0B/CRiR3yy\n",
       "WyyBHba8EpLyMaUQieli9BA/hIga/7DlugjbAfbCnZ6Hh6DWeakSuUdNeT9Gd5dOtJ0+aWtbU96f\n",
       "kyi7ie+FM+nHiXF0aqorYk064LGEnWF+CUn5uAEhYpJmX+XPLUQdvo2bzyPzyfE/Fhr4277Stxfu\n",
       "ffYsu8K73O0Xoj/fIA1cO/wp8n5J0I3AeF5sptSq6+vrHRFbDenAzJ41Q0pIyscNCJGYLkadKRx1\n",
       "VRHFPpeumTL4PnQJWm2wzy26kYDHTlABkTCsBN2UsSVBl549Joa+bs0o4+kp7aAaozjPljv2+7q5\n",
       "lMdOU4H/h+XcEpRRV4pMawfg6aFtVZrCM+xJBXkEqlHdy4o1fE1CgRIUEyIaOshC069DvvAMU2s6\n",
       "Du6+5zNjNSUeL1KCYkJEv+CVAm/9z0jXv52qBEaUF3sOiiekStDbuSz0P8oIv1dK5gTsAAAAAElF\n",
       "TkSuQmCC\n",
       "\" style=\"display:inline;vertical-align:middle;\" /></a></span>"
      ],
      "text/plain": [
       "{x in Real, y in Real} |- round((x + 1) + (y + 2)) = (round(x + y) + 3)"
      ]
     },
     "metadata": {},
     "output_type": "display_data"
    }
   ],
   "source": [
    "round_xplus1_plus_yplus2.simplification(assumptions=[InSet(x, Real), InSet(y, Real)])"
   ]
  },
  {
   "cell_type": "markdown",
   "metadata": {},
   "source": [
    "<font size=3>Interestingly, if we try to directly call the `Round.shallow_simplification()` method on our `Round(Add(Add(x+1),Add(y+2)))` expression, we get only the trivial self-equivalence back, because we now lack the `simplification()` method's pre-processing of the operand to produce $x+y+3$ first and now fail to be able to segregate the operands into a partition of reals and integers:</font>"
   ]
  },
  {
   "cell_type": "code",
   "execution_count": 27,
   "metadata": {},
   "outputs": [
    {
     "data": {
      "text/html": [
       "<span style=\"font-size:20px;\"> <a class=\"ProveItLink\" href=\"../__pv_it/demonstrations/19b844056c2f7fe9538451221980608b79d14e320/proof.ipynb\" style=\"text-decoration: none\">&nbsp;&#x22A2;&nbsp;&nbsp;</a><a class=\"ProveItLink\" href=\"../__pv_it/demonstrations/cbc033fa5fa6dfe92eaa5e45a82af6f44f82832d0/expr.ipynb\"><img src=\"data:image/png;base64,iVBORw0KGgoAAAANSUhEUgAAAd8AAAAVBAMAAAD1KvkNAAAAMFBMVEX///8AAAAAAAAAAAAAAAAA\n",
       "AAAAAAAAAAAAAAAAAAAAAAAAAAAAAAAAAAAAAAAAAAAv3aB7AAAAD3RSTlMAMom7Iplm783dEER2\n",
       "q1TfLoYRAAAACXBIWXMAAA7EAAAOxAGVKw4bAAAEh0lEQVRYw5WYX4gbVRTGvySTzWaSTMO+SH2w\n",
       "o4J/YLUjtE8qDNQKC0rLSsouWlxRQUTb4INFqzYgKgpiLBSJWjugggjL5qlFFDoF64O4dfHPWmWl\n",
       "QSoqCN2FpZS0GM+9d26SuXNnkjlwwuTst+eX7947c28CjAgjyNg/quEmaV2kjES8rp2bpB0Hfy5I\n",
       "bZT8SKncSdJ+ldZwIl7TLhbPtYn4zBt76dWyRWpiqwd8E6n+oZPunrtLaMsL4zodic+8r2unxRu1\n",
       "V6tcm4zfwgbrsyAjYf78Dhme9NRyQwd0sL0ttG+NPbfJeCzOdTXttHjsQvaq0CbiT7MPuC/IQZyU\n",
       "F9/T3yf2KtV8aAxL4l3FRaEutE+ObTgGX5KAcneonaxq8fgJOCS0ifjb2Us9yEH8O2wYLyrVQkhr\n",
       "iXu80EVlU2gL3riGY/CWP2xYtpNVLR5HPFxwuTYR/xr7l4bIWMOvK9W/dcRKE5UNoZ0c+yaOwYcN\n",
       "y3ayqsXjV+BClWspMzcbs3Q1vdw2zy6g4pWWP5m+h267H878x5aILdL87repO3WG71AMz5KW+iwq\n",
       "nw7FdaHNrii+ppzdt6TBhw3LdrIah8cJoaXM5mazdcy0jc2sVcdBer+GJRen3JwcQZZ5LPvzOsNP\n",
       "KYZpFkUfhbjNF9oJPl/zLRbH2aW90741DT5seKIRrsbhM9eElvL+ySaN4YfA0RvyTZzHl0UHe6rm\n",
       "88izXsWOyCdw0FvVGf5LMfwRwPr8qBKPB1qrrjzAF96kaUmBDxuW7WQ1Dl9cEVrK67ewEaQF97JX\n",
       "8PESvKU2LnlUKLLtr9AWWcUcgqk5FEyNMLxNqR4GRB9q2mq990KrxRdd3gm0mXVlN/Uup8APt+SG\n",
       "ebuhagweDwValuzxX3BgXKMrgx4tl0ADTQUiD4jgPTQzfEqpHuYbSmZDGeJnEWhLdfUA1k2HD89w\n",
       "SZnhGPzESqBlye6NJR/ZTboqrzMcLptU4PeBXFMobeJzneF/okuaZqOsfA46LN0ntFZTuYdpAabC\n",
       "K0u6GVnSGjydvwyXa1keZaeaBRRs3Iuc8zSeg9XNLnVw3qKjds7nad5dqcPWGX5cMUxPWNZHeXhO\n",
       "Ad8K7YSjzDBbumnwykPLCVf1+IyNsse1lMZVNswr2Ansx3W2Tcuq3Hgs51vH8ug/yq2NT+uljmJ4\n",
       "uyv2gVCVbT37cTq8PRrHarWm0ObVg/Gedjp83zCtiUE7WdXiMVOrzff3uBJfFDedJe7i9MW1Kr03\n",
       "Vzvm2o0PnmFj0+RpPuL/eUCx9vuRt6nvB0p1KzvmTj/qhojFXq/XENpiWzH8RUq8NFH55crqoJ2s\n",
       "avE40etdEdoIPhLvBqk5afG5ayrVYpW93obIzh9oZ9J9O4ziQy377WQ1Ac+1o/HRE/fJ4Tf9w7qs\n",
       "0jeEbMN8RT3p97X70hmO4kMt++1kNQGv+SKii5wrMiZ2RSo7UPQrdpzWcNIZHoGPtovHM+0YeNMR\n",
       "GRM7IpWPYT3zcKw2l/I3nhH4aLt4/Iix68cDQWqjHG1g+Enar9P+xJOI17SLxXMt5f+VfO8NxMof\n",
       "6AAAAABJRU5ErkJggg==\n",
       "\" style=\"display:inline;vertical-align:middle;\" /></a></span>"
      ],
      "text/plain": [
       "|- round((x + 1) + (y + 2)) = round((x + 1) + (y + 2))"
      ]
     },
     "metadata": {},
     "output_type": "display_data"
    }
   ],
   "source": [
    "round_xplus1_plus_yplus2.shallow_simplification(\n",
    "        assumptions=[InSet(x, Real), InSet(y, Real)])"
   ]
  },
  {
   "cell_type": "markdown",
   "metadata": {},
   "source": [
    "#### <a id='demo02'></a><font size=4>2. Simplification and deductions involving $\\texttt{Floor}(\\alpha, \\beta) = \\lfloor \\alpha + \\beta \\rfloor$</font>\n",
    "<font size=3>Here we consider the floor of a sum of two variables, $\\lfloor \\alpha + \\beta \\rfloor$, produced using the Expression $\\texttt{Floor}(\\texttt{Add}(\\alpha, \\beta))$, and try to simplify the expression and deduce that the $\\texttt{Floor}$ expression represents an integer.<br>\n",
    "First, we define our expression:</font>"
   ]
  },
  {
   "cell_type": "code",
   "execution_count": 28,
   "metadata": {},
   "outputs": [
    {
     "data": {
      "text/html": [
       "<strong id=\"floor_alpha_plus_beta\">floor_alpha_plus_beta:</strong> <a class=\"ProveItLink\" href=\"../__pv_it/demonstrations/f89ec90273a08a9ee3a6d8880e5cf30603df28150/expr.ipynb\"><img src=\"data:image/png;base64,iVBORw0KGgoAAAANSUhEUgAAAD8AAAAVBAMAAAADRiu8AAAAMFBMVEX///8AAAAAAAAAAAAAAAAA\n",
       "AAAAAAAAAAAAAAAAAAAAAAAAAAAAAAAAAAAAAAAAAAAv3aB7AAAAD3RSTlMAEGZU7912iasyIkS7\n",
       "mc0upeCNAAAACXBIWXMAAA7EAAAOxAGVKw4bAAAA3klEQVQoz2MQZMALFjAo4ZXnvoBbAVfZXQG8\n",
       "CqYxMDVgUcCtAGUwFjBwB2BRwJwAZbAxMPA2EFBginBDecUEdAU71/Q9hPti6QZGLy4DVAUFTNqR\n",
       "cAVuDAxn2QTQFDAw6MAU8H5gYLjHDhTkDQ0NcQ0NbQB5AqhwP0wBywEGhpJCVDdwAx2VAlMgDxSs\n",
       "N0BVADLwBEwBP1CwBM0XfAwMnF5wNxxgYLrPiapAVoFh6wa4L8qVEnnLUBVYbktPwBqbMAUFuKIb\n",
       "FlkFBNIDYwIBBdwT4ApMQsNwJjjm0NAEAAOyOuA+hESdAAAAAElFTkSuQmCC\n",
       "\" style=\"display:inline;vertical-align:middle;\" /></a><br>"
      ],
      "text/plain": [
       "<IPython.core.display.HTML object>"
      ]
     },
     "metadata": {},
     "output_type": "display_data"
    }
   ],
   "source": [
    "from proveit import alpha, beta\n",
    "floor_alpha_plus_beta = Floor(Add(alpha, beta))"
   ]
  },
  {
   "cell_type": "markdown",
   "metadata": {},
   "source": [
    "<font size=3>And the `Floor.deduce_in_number_set()` method will return an error:</font>"
   ]
  },
  {
   "cell_type": "code",
   "execution_count": 29,
   "metadata": {},
   "outputs": [
    {
     "name": "stdout",
     "output_type": "stream",
     "text": [
      "EXCEPTION: the simplification theorems do not apply without more constraints.  Prerequisites not met while assuming (): No readily provable number set for alpha + beta\n"
     ]
    }
   ],
   "source": [
    "# If Floor operand(s) uncharacterized \n",
    "from proveit import UnsatisfiedPrerequisites\n",
    "try:\n",
    "    floor_alpha_plus_beta.deduce_in_number_set(Integer)\n",
    "    assert False, \"Expected a ProofFailure error\"\n",
    "except UnsatisfiedPrerequisites as e:\n",
    "    print(\"EXCEPTION: the simplification theorems do not apply without more constraints. \", e)"
   ]
  },
  {
   "cell_type": "markdown",
   "metadata": {},
   "source": [
    "<font size=3>But if we know or can assume some basic properties of $\\alpha$ and $\\beta$, we can simplify and make a deduction about the resulting form of the result. For example, suppose we know or can assume that $\\alpha\\in\\mathbb{R}$ while $\\beta\\in\\mathbb{Z}$. Then we can derive the equivalence $\\lfloor\\alpha+\\beta\\rfloor = \\lfloor\\alpha\\rfloor + \\beta$ (extracting the integer $\\beta$ out from inside the `Floor` function):</font>"
   ]
  },
  {
   "cell_type": "code",
   "execution_count": 30,
   "metadata": {},
   "outputs": [
    {
     "data": {
      "text/html": [
       "<span style=\"font-size:20px;\"><a class=\"ProveItLink\" href=\"../__pv_it/demonstrations/3d2ab8f43b04e936668868a3c63f710b426692830/expr.ipynb\"><img src=\"data:image/png;base64,iVBORw0KGgoAAAANSUhEUgAAADYAAAAQBAMAAACvnpHFAAAAMFBMVEX///8AAAAAAAAAAAAAAAAA\n",
       "AAAAAAAAAAAAAAAAAAAAAAAAAAAAAAAAAAAAAAAAAAAv3aB7AAAAD3RSTlMAiasyIt1EEO9UdruZ\n",
       "zWZ7xlX5AAAACXBIWXMAAA7EAAAOxAGVKw4bAAAA0UlEQVQY02NgwAR8N3b/jdjHgB1wsyiw6W3H\n",
       "JSfAsMEIt9wRXlSx1aGhF+By3ChSucuR9KkXgViCQgZgEZbrSGYy77wCZLgmsLewTAAyeB0Qcr3x\n",
       "UQVARhcDwx4uEIMXyS1yz0EW83xgYDjLCBKxCAWCDVAzt78D0hxAnoQ4SKQa2Q823ECj6hcwMMiD\n",
       "rGNgRZbjMQHq4QfKSYBFuBYgybFvWAe0bwMD33lmsNBNhNwBhnfcCUDvvVvOIwUWKtpWAIuH3w7c\n",
       "e3+iBEziVkiYQQEAgD4ytfAOR5cAAAAASUVORK5CYII=\n",
       "\" style=\"display:inline;vertical-align:middle;\" /></a>, <a class=\"ProveItLink\" href=\"../__pv_it/demonstrations/24a839eaa16bcdb3c8f162e4dd906c65563c0b450/expr.ipynb\"><img src=\"data:image/png;base64,iVBORw0KGgoAAAANSUhEUgAAADQAAAATBAMAAAAt/zNWAAAAMFBMVEX///8AAAAAAAAAAAAAAAAA\n",
       "AAAAAAAAAAAAAAAAAAAAAAAAAAAAAAAAAAAAAAAAAAAv3aB7AAAAD3RSTlMAIol2mRAyZqtE3VS7\n",
       "ze8XF9CTAAAACXBIWXMAAA7EAAAOxAGVKw4bAAAA/0lEQVQoz2NgwATc9/7dWXWuAMQUMnFFkWI+\n",
       "kcBwgRfEYjNgqECRYnFgYC7QBrGCGBhmoUhxCDDEsB4AsQwYGDwgBp1atRZEszIwuHEkQKS4l4Jo\n",
       "zssBMH1sDSlgkcQTd8FisnAZBp6AoyCKiaF8Flj3RYRtm9gNIFIM7GA7LyCkIE5nCAaa+QFk/qtV\n",
       "q1atgbhngyYDA9D4aUDmA5C7DsA1xTAC2Y0MDApAWxtAAgvgUm1An7F+AFuRJwASMIY73WEK0N8L\n",
       "GFjdGThXgkV4N8CdfpWB8fQBBu5MY2WICGvPVAhj3tk3Z96/UQC5HQY4dSABBQNMDDhBMG6paThl\n",
       "ADAGOJgWs8O1AAAAAElFTkSuQmCC\n",
       "\" style=\"display:inline;vertical-align:middle;\" /></a> <a class=\"ProveItLink\" href=\"../__pv_it/demonstrations/650062c3a02649f8ebb2365b0aac7c8ed904635f0/proof.ipynb\" style=\"text-decoration: none\">&nbsp;&#x22A2;&nbsp;&nbsp;</a><a class=\"ProveItLink\" href=\"../__pv_it/demonstrations/47e61b4424d891bbfb582a45f8b44666a7efeb900/expr.ipynb\"><img src=\"data:image/png;base64,iVBORw0KGgoAAAANSUhEUgAAALMAAAAVBAMAAAD/f8IzAAAAMFBMVEX///8AAAAAAAAAAAAAAAAA\n",
       "AAAAAAAAAAAAAAAAAAAAAAAAAAAAAAAAAAAAAAAAAAAv3aB7AAAAD3RSTlMAEGZU7912iasyIkS7\n",
       "mc0upeCNAAAACXBIWXMAAA7EAAAOxAGVKw4bAAACDElEQVQ4y42Vv0scURDHv7erd9ytp2djmojL\n",
       "VUIiXKEGm2CRWJjGoCuKzQqSQEA4QdTO+wvkipgiaWwkTYpDOOGKkKvCERBOQbTx5x8g/gnO23tP\n",
       "svvmPd1md2fn+3kz8+bNoh/WK6eb9oD++CtYJxTt6N+aJV2Kibw2qzu0oXMbFwUO/QZPoX+uHiPt\n",
       "W9Df4FQYdOr6KXQ2xDBwo6E9XyHK8GYYdN43oA+U5QVQB0Y0tBuqkhKFi7oLBvS4shDhnPwKNvQY\n",
       "V+u3z0C7H4Fev+O1uVVNohu/dm64Djl7RHdEGtr73rqjmDKVyGu/lprOleLosvNq8RF9GohrQTze\n",
       "KrQUaegMinVa07mOvKaAo3QhgQZec1HPKrQUMWg4TQJNCq/8PXCZEbsfBHPvg6AiGoSW+MOhP0i0\n",
       "EnXQlNY7mdYA2ehb9l54ddEi62vxWnuU04oNrURa1A1qgUmyR1EPEW67FEeLJFpcrVVBlEhDUyV7\n",
       "KG93Rnj1kdd6okN6KaVpLuq/Eq1EGppO69e9qN6ibE04V9k4etBHvcaht1StpSiJTp3AWxL7Vo42\n",
       "e7O4nN+IoycOP4fs5NtVHSJFSbT741OE6q6ZTmPZNFS7q/bTmJGv+8bxZEQ7bft4UugT01BNhcZf\n",
       "wT/7UB2Q075pQntVI/qlHd3o3HqoSUaDefPva4z5mAv/E7lBELLKL8ADb62OdnicO9oAAAAASUVO\n",
       "RK5CYII=\n",
       "\" style=\"display:inline;vertical-align:middle;\" /></a></span>"
      ],
      "text/plain": [
       "{alpha in Real, beta in Integer} |- floor(alpha + beta) = (floor(alpha) + beta)"
      ]
     },
     "metadata": {},
     "output_type": "display_data"
    }
   ],
   "source": [
    "floor_alpha_plus_beta.simplification(assumptions=[InSet(alpha, Real), InSet(beta, Integer)])"
   ]
  },
  {
   "cell_type": "markdown",
   "metadata": {},
   "source": [
    "<font size=3>And we can deduce that the `Floor` function will produce an integer:</font>"
   ]
  },
  {
   "cell_type": "code",
   "execution_count": 31,
   "metadata": {},
   "outputs": [
    {
     "data": {
      "text/html": [
       "<span style=\"font-size:20px;\"><a class=\"ProveItLink\" href=\"../__pv_it/demonstrations/3d2ab8f43b04e936668868a3c63f710b426692830/expr.ipynb\"><img src=\"data:image/png;base64,iVBORw0KGgoAAAANSUhEUgAAADYAAAAQBAMAAACvnpHFAAAAMFBMVEX///8AAAAAAAAAAAAAAAAA\n",
       "AAAAAAAAAAAAAAAAAAAAAAAAAAAAAAAAAAAAAAAAAAAv3aB7AAAAD3RSTlMAiasyIt1EEO9UdruZ\n",
       "zWZ7xlX5AAAACXBIWXMAAA7EAAAOxAGVKw4bAAAA0UlEQVQY02NgwAR8N3b/jdjHgB1wsyiw6W3H\n",
       "JSfAsMEIt9wRXlSx1aGhF+By3ChSucuR9KkXgViCQgZgEZbrSGYy77wCZLgmsLewTAAyeB0Qcr3x\n",
       "UQVARhcDwx4uEIMXyS1yz0EW83xgYDjLCBKxCAWCDVAzt78D0hxAnoQ4SKQa2Q823ECj6hcwMMiD\n",
       "rGNgRZbjMQHq4QfKSYBFuBYgybFvWAe0bwMD33lmsNBNhNwBhnfcCUDvvVvOIwUWKtpWAIuH3w7c\n",
       "e3+iBEziVkiYQQEAgD4ytfAOR5cAAAAASUVORK5CYII=\n",
       "\" style=\"display:inline;vertical-align:middle;\" /></a>, <a class=\"ProveItLink\" href=\"../__pv_it/demonstrations/24a839eaa16bcdb3c8f162e4dd906c65563c0b450/expr.ipynb\"><img src=\"data:image/png;base64,iVBORw0KGgoAAAANSUhEUgAAADQAAAATBAMAAAAt/zNWAAAAMFBMVEX///8AAAAAAAAAAAAAAAAA\n",
       "AAAAAAAAAAAAAAAAAAAAAAAAAAAAAAAAAAAAAAAAAAAv3aB7AAAAD3RSTlMAIol2mRAyZqtE3VS7\n",
       "ze8XF9CTAAAACXBIWXMAAA7EAAAOxAGVKw4bAAAA/0lEQVQoz2NgwATc9/7dWXWuAMQUMnFFkWI+\n",
       "kcBwgRfEYjNgqECRYnFgYC7QBrGCGBhmoUhxCDDEsB4AsQwYGDwgBp1atRZEszIwuHEkQKS4l4Jo\n",
       "zssBMH1sDSlgkcQTd8FisnAZBp6AoyCKiaF8Flj3RYRtm9gNIFIM7GA7LyCkIE5nCAaa+QFk/qtV\n",
       "q1atgbhngyYDA9D4aUDmA5C7DsA1xTAC2Y0MDApAWxtAAgvgUm1An7F+AFuRJwASMIY73WEK0N8L\n",
       "GFjdGThXgkV4N8CdfpWB8fQBBu5MY2WICGvPVAhj3tk3Z96/UQC5HQY4dSABBQNMDDhBMG6paThl\n",
       "ADAGOJgWs8O1AAAAAElFTkSuQmCC\n",
       "\" style=\"display:inline;vertical-align:middle;\" /></a> <a class=\"ProveItLink\" href=\"../__pv_it/demonstrations/5e2dbd5013c53ee795a40d5a77860536e98ab24d0/proof.ipynb\" style=\"text-decoration: none\">&nbsp;&#x22A2;&nbsp;&nbsp;</a><a class=\"ProveItLink\" href=\"../__pv_it/demonstrations/ee3191a86909e63f7c6fa2bd21670ab4125cc62e0/expr.ipynb\"><img src=\"data:image/png;base64,iVBORw0KGgoAAAANSUhEUgAAAGoAAAAVBAMAAABce2awAAAAMFBMVEX///8AAAAAAAAAAAAAAAAA\n",
       "AAAAAAAAAAAAAAAAAAAAAAAAAAAAAAAAAAAAAAAAAAAv3aB7AAAAD3RSTlMAEGZU7912iasyIkS7\n",
       "mc0upeCNAAAACXBIWXMAAA7EAAAOxAGVKw4bAAABfUlEQVQ4y2MQZMALuLALK+HXtReVy/zky5vQ\n",
       "Iwq4dXGV3RXA0MV2YgLDAz48dk1jYGrA0MV7gYFNoRhDF7cClMFYwMAdgKGLYwGDDOMBDF3MCTC3\n",
       "AA1GsisnNPQByCwGhpscE/DqMkX4a18iTAFnw1xYGJZXTEDXtXNN30N4GHI9hBvLI3AQqmvpBkYv\n",
       "LgNUXQVM2pFwXXwL4LrMmRKgutwYGM6yCaDpYmDQQehCeOEBHzSWeT8wMNxjB4VraGiIa2hoA8jb\n",
       "QN374bqmhALBAbB3DaoZGARAuliA/JJCVH9xAz2aAtclA7dKhguouAukSx6ost4AVRfI6hNwXaxw\n",
       "XZ3AGGP8ANLFD1RZghaGQNdzesF1scF8y3kBKMARAPbXAQam+5youmQVGLZuQKTex/Bwf8jAdfgA\n",
       "OAzLlRJ5y1B1WW5LT0BK8xKnIUG85ZzPGX+fAlxpowAtp2w/Ck5ROPIXLPUWYM9f+HMlYwI5urgn\n",
       "4NdlEhqGO/+b4pAEAMiLXwgKCV7hAAAAAElFTkSuQmCC\n",
       "\" style=\"display:inline;vertical-align:middle;\" /></a></span>"
      ],
      "text/plain": [
       "{alpha in Real, beta in Integer} |- floor(alpha + beta) in Integer"
      ]
     },
     "metadata": {},
     "output_type": "display_data"
    }
   ],
   "source": [
    "floor_alpha_plus_beta.deduce_in_number_set(Integer, assumptions=[InSet(alpha, Real), InSet(beta, Integer)])"
   ]
  },
  {
   "cell_type": "markdown",
   "metadata": {},
   "source": [
    "#### <a id='demo03'></a><font size=4>3. Prove that $\\forall_{x\\in\\mathbb{R}}(\\lceil x \\rceil + \\lfloor -x \\rfloor = 0)$ from the theorem $\\forall_{x\\in\\mathbb{R}}(\\lfloor x \\rfloor + \\lceil -x \\rceil = 0)$.</font>\n",
    "<font size=3>One of our theorems in the rounding theory is that $\\forall_{x\\in\\mathbb{R}}(\\lfloor x \\rfloor + \\lceil -x \\rceil = 0)$. We can use that theorem to prove the complementary theorem that $\\forall_{x\\in\\mathbb{R}}(\\lceil x \\rceil + \\lfloor -x \\rfloor = 0)$, essentially by performing a substitution $x \\mapsto -x$.</font>"
   ]
  },
  {
   "cell_type": "markdown",
   "metadata": {},
   "source": [
    "<font size=3>We begin by importing and displaying the original theorem:</font>"
   ]
  },
  {
   "cell_type": "code",
   "execution_count": 32,
   "metadata": {},
   "outputs": [
    {
     "data": {
      "text/html": [
       "<span style=\"font-size:20px;\"> <a class=\"ProveItLink\" href=\"proofs/floor_plus_ceil_of_neg/thm_proof.ipynb\" style=\"text-decoration: none\">&nbsp;&#x22A2;&nbsp;&nbsp;</a><a class=\"ProveItLink\" href=\"../__pv_it/theorems/09c1c9808144ce39895f396d668c36db0ce272ed0/expr.ipynb\"><img src=\"data:image/png;base64,iVBORw0KGgoAAAANSUhEUgAAAOEAAAAVBAMAAABCnpRGAAAAMFBMVEX///8AAAAAAAAAAAAAAAAA\n",
       "AAAAAAAAAAAAAAAAAAAAAAAAAAAAAAAAAAAAAAAAAAAv3aB7AAAAD3RSTlMAq1RmmUTNIjK7EInv\n",
       "3XZ/CtNrAAAACXBIWXMAAA7EAAAOxAGVKw4bAAACm0lEQVRIx52WT4jTQBTG3yZpkybb0KsgEhC8\n",
       "6NKC4kH8U6muwiqUVbwIWvAgCEq8r1KvirieNAolh0VcBYkeFF2QXgRBhKoHPZgllVVhD4sHQdCL\n",
       "702SNp1OGkhghsnHl/lN5r15CcDEy8amAjwaKirnKPh+MKrM+J/CB1Pmm3iZFnbfAHYOpZOcRa6N\n",
       "P4aeM+IJSa7QYGsKcTs2yctDNMfllTWbyYfp5rwYqLewewB5iHCBF4uW/pnJ1yg2i2KiQrM1xMRC\n",
       "bTJxFy/uA3jJ5KILYFhi4jR1XTFRCiYTp11OvA1QdUmmJ4opYdxGM7fyEYu8/hvglsXk977/LoU4\n",
       "RzvrRcQn/YcrVgYx4TEqXE4QscbkowD3Uojn4rUSsW5uUXoZxIRHpr2B4z5dHyhX/iExYPJlUJPL\n",
       "mXl+8FI8/oitbIVE2Zb/TtUmE5MeqTu6ekb0mFxyjWakan2naRrwwovu31AGNEOiBkprEEfF979i\n",
       "NCoRUb/IXqWd9Gi/uF1F4tmAyVIwSJxDbTy6JuwJBEQcBdmZM/QUuuOZU7VCubUfu40jazarE0hc\n",
       "rwt2FVdo624WceiReqNxBAfggBvKz7AOmPamorXMSqmhduJJOthKQUhcbm4GI+Mdkx6Zryp7AWYj\n",
       "eQHDIUNHgxOMqNwfeJ/GWY7E6vVjMJ9BTHoUjyOWLf1tJE+1SfgDsNtxHMs0jfnYdJMyoBcSlzak\n",
       "hpVBTHrKTb5Iz/XbSVnrqnCDvaNZOB0XqDKt5Uu+mnNFfMQH8oLRUvCcsDjCqzhz5HpUknNU8oaY\n",
       "OJCV76/XQb2Lo1M/vKXZWL5DqWPn+VqlfI54+bHjjO4+Za++mIdYEv9flLJ+O1QK1lWAHf5q/A+z\n",
       "ylkkwZcOE+KneEKU/wNHtcPbvDomsAAAAABJRU5ErkJggg==\n",
       "\" style=\"display:inline;vertical-align:middle;\" /></a></span>"
      ],
      "text/plain": [
       "|- forall_{x in Real} ((floor(x) + ceil(-x)) = 0)"
      ]
     },
     "metadata": {},
     "output_type": "display_data"
    }
   ],
   "source": [
    "from proveit.numbers.rounding import floor_plus_ceil_of_neg\n",
    "floor_plus_ceil_of_neg"
   ]
  },
  {
   "cell_type": "markdown",
   "metadata": {},
   "source": [
    "<font size=3>Then we instantiate that general theorem, mapping $x$ to $-x$ (and explicitly include the required assumption that $x\\in\\mathbb{R}$).</font>"
   ]
  },
  {
   "cell_type": "code",
   "execution_count": 33,
   "metadata": {},
   "outputs": [
    {
     "data": {
      "text/html": [
       "<strong id=\"floor_plus_ceil_of_neg_spec\">floor_plus_ceil_of_neg_spec:</strong> <span style=\"font-size:20px;\"><a class=\"ProveItLink\" href=\"../../ordering/__pv_it/theorems/d1323f34847310a404e8089c2c268d3c2eb89dbf0/expr.ipynb\"><img src=\"data:image/png;base64,iVBORw0KGgoAAAANSUhEUgAAADQAAAAQBAMAAACra0H4AAAAMFBMVEX///8AAAAAAAAAAAAAAAAA\n",
       "AAAAAAAAAAAAAAAAAAAAAAAAAAAAAAAAAAAAAAAAAAAv3aB7AAAAD3RSTlMAEHarMolUmd1mIs3v\n",
       "RLtmgJDEAAAACXBIWXMAAA7EAAAOxAGVKw4bAAAAyklEQVQY02NgwACce9797nnJgBXwcRnwWj7E\n",
       "IRXA8MAZp1QVN4qQXkfHBrgUH7LMbUUkXYbCQIaQskhoApDm2ohkIMuzXUBGAZMRewOQ5l6AkDrd\n",
       "3yQA9MUCzo/ME0BSSM6InAiylIWBHWw3g08HEDyAGvhwJliMRwFMySE73p1PAMS6v4ARRHMgS7F7\n",
       "AfXLXbBhYAUJMCkgSTE+0GRgyHesYbgGFtmGkCpgmMl3gUFcia0yASwi/FYAFvL/FvC9/oYcHFdf\n",
       "QAIKCgBACzQrtGfvLgAAAABJRU5ErkJggg==\n",
       "\" style=\"display:inline;vertical-align:middle;\" /></a> <a class=\"ProveItLink\" href=\"../__pv_it/demonstrations/bf361933946e2d6d04a0d997d69106954fe21bce0/proof.ipynb\" style=\"text-decoration: none\">&nbsp;&#x22A2;&nbsp;&nbsp;</a><a class=\"ProveItLink\" href=\"../__pv_it/demonstrations/2e7b0b805f48e9bf44c562186f18155a86695ffb0/expr.ipynb\"><img src=\"data:image/png;base64,iVBORw0KGgoAAAANSUhEUgAAAJkAAAAVBAMAAACnAFEqAAAAMFBMVEX///8AAAAAAAAAAAAAAAAA\n",
       "AAAAAAAAAAAAAAAAAAAAAAAAAAAAAAAAAAAAAAAAAAAv3aB7AAAAD3RSTlMAInZUiRDNmWbv3US7\n",
       "qzJazP2FAAAACXBIWXMAAA7EAAAOxAGVKw4bAAABgklEQVQ4y53UvUvDQBgG8CcN11aDkj/AIbjo\n",
       "Uggqii4N6Gihi7o4ODqKBIdOEUFUBIvgoIL4sZ3orC5SVxVcBMcMTi5FENzEJH4k9+auw92U5un9\n",
       "7u4N9wKwwerIDZv8vuGnPw8m5wEMKEbBRTnIvbWWyIsNIbMchTYCDQ2DuRlTA9Fx2IKWVqTFKbrs\n",
       "BCgFnbUruVamq20B00AXOmtDcg17ZMIjUK1jVFNbJBM+gbYLn2is//l1UqFls5qIsVgLkjWyWgkV\n",
       "p6HQstl68meejCfA+Ig0B2dEW8VO/UWhZbNxcW+J5uHwV5tNVrlEiJW0bg3O9zm/+NOyWZucNNJu\n",
       "nX8tHbsdvkKaXee/QtXNnRTWO2ZUWiabEOuGB0RlwJ2osfueJjy5JmTbZG+biMtQEzXza65puXJN\n",
       "yHyidbvsCHgje1t2xtYUdROyc6IxvxJGZqh1F4xjaUOKr6/GrS8F8v7W0upIfYpuOa+ltRSa4cA8\n",
       "4GJnjno/bdXD6WOvh4Ittb4BX/6F8gs4KQQAAAAASUVORK5CYII=\n",
       "\" style=\"display:inline;vertical-align:middle;\" /></a></span><br>"
      ],
      "text/plain": [
       "<IPython.core.display.HTML object>"
      ]
     },
     "metadata": {},
     "output_type": "display_data"
    }
   ],
   "source": [
    "from proveit.numbers import Neg\n",
    "floor_plus_ceil_of_neg_spec = floor_plus_ceil_of_neg.instantiate(\n",
    "    {x:Neg(x)}, assumptions=[InSet(x, Real)])"
   ]
  },
  {
   "cell_type": "markdown",
   "metadata": {},
   "source": [
    "<font size=3>And generalize to our desired universal claim:</font>"
   ]
  },
  {
   "cell_type": "code",
   "execution_count": 34,
   "metadata": {},
   "outputs": [
    {
     "data": {
      "text/html": [
       "<span style=\"font-size:20px;\"> <a class=\"ProveItLink\" href=\"../__pv_it/demonstrations/3daca6e8e61cf578b3fdb7db3160d4113e411c920/proof.ipynb\" style=\"text-decoration: none\">&nbsp;&#x22A2;&nbsp;&nbsp;</a><a class=\"ProveItLink\" href=\"../__pv_it/demonstrations/6cccb9d438dc706323ef10f62ab9a25cd74287eb0/expr.ipynb\"><img src=\"data:image/png;base64,iVBORw0KGgoAAAANSUhEUgAAAOEAAAAVBAMAAABCnpRGAAAAMFBMVEX///8AAAAAAAAAAAAAAAAA\n",
       "AAAAAAAAAAAAAAAAAAAAAAAAAAAAAAAAAAAAAAAAAAAv3aB7AAAAD3RSTlMAq1RmmUTNIjK7EInv\n",
       "3XZ/CtNrAAAACXBIWXMAAA7EAAAOxAGVKw4bAAACnElEQVRIx52WTYjTQBTH3yZpkybb0KsgMiB4\n",
       "0dKC4kH8qFRXYRXKKl4ELXgQBCXeV6lXRVxPGoWSwyKugkQPii5IL4IgQtWDHoyksirsYfEgCHpx\n",
       "3jTpTqYzFTIww8z/ZeY3mffyJgATi0erCfBg3GIK40IUxcNeNfownKhYb2JxCW2+AmwfNx0Xxno9\n",
       "YzslXxDlCnY2K4hbadXCPES3PjZjecVj8kEcnJUD7TZt7kEeIpwTJxSJ/ZHJV9AnC3Kigas0JxML\n",
       "dTlxhzhhD8BzJhcDAIfIidPY9CYTtVhOnA6ECTcBagHK+GRR4cYtuGI7H7EoOvIXwA3C5LdR9EZB\n",
       "nMWTDQXio8H9ZaIgcjanIsQEEutMPgxwR0E8k+6VJzbcTUZfQeRsOp4NHI2wvMNY+UuJMZMvgslv\n",
       "p/p0/4W0/57WMskSdU//M1WXE3mb1hMyBhJDJpcCp5Wo1sBvuQ48C5PxK4yA1pBon2fb7VhgtEd+\n",
       "NKLoM/VKJSHyNuuncKqUeDpmshaPAudAh366LuyKJUQugmN15KzbCr3xyKmRodzeS5u1QyseyxOU\n",
       "uNqYcKp0p54dqIjrNq2f9SP4APuCofyE5gHX21AkSyyVOmY3DewuraU4S1xqbQRH8Y68TRezym6A\n",
       "mUSep27QoWvBMUY07o6efZxGOUesXT0CcwoibzNCgVgm9utEnuqg8Btgp+/7xHWdufSh6xgB/Sxx\n",
       "cU1rEgWRt5VbYpKeHXR42eqZcI29o1s4mSaoMu7lU76cc0n+iY/keadt0O+E+RFepJGjN5KUnCOT\n",
       "N+XEkWx8e7kK5m3aO/E9XJxJ5VsYOl6e20pxHYnyQ9/Pnj5Gr72Qh1iS/1+U/vfbYaKTLgNsi75k\n",
       "DVVRAI278WhA/JAvSOV/gcbD23ZV0VQAAAAASUVORK5CYII=\n",
       "\" style=\"display:inline;vertical-align:middle;\" /></a></span>"
      ],
      "text/plain": [
       "|- forall_{x in Real} ((floor(-x) + ceil(x)) = 0)"
      ]
     },
     "metadata": {},
     "output_type": "display_data"
    }
   ],
   "source": [
    "floor_plus_ceil_of_neg_spec.generalize(x, domain=Real)"
   ]
  },
  {
   "cell_type": "markdown",
   "metadata": {},
   "source": [
    "## Misc Testing\n",
    "The material below was developed to test various rounding-related methods. Some of this material could be integrated into the `_demonstrations_` page eventually and/or deleted as development continues."
   ]
  },
  {
   "cell_type": "markdown",
   "metadata": {},
   "source": [
    "### Example `Ceil`, `Floor`, and `Round` Expressions"
   ]
  },
  {
   "cell_type": "code",
   "execution_count": 35,
   "metadata": {},
   "outputs": [
    {
     "data": {
      "text/html": [
       "<strong id=\"ceil_2\">ceil_2:</strong> <a class=\"ProveItLink\" href=\"../__pv_it/demonstrations/0e59f9bd1ae96e9218e87188b5ea6607f0e587780/expr.ipynb\"><img src=\"data:image/png;base64,iVBORw0KGgoAAAANSUhEUgAAABcAAAAVBAMAAABfzGiYAAAAMFBMVEX///8AAAAAAAAAAAAAAAAA\n",
       "AAAAAAAAAAAAAAAAAAAAAAAAAAAAAAAAAAAAAAAAAAAv3aB7AAAAD3RSTlMARN12ZlQimc27Momr\n",
       "7xBJVNCIAAAACXBIWXMAAA7EAAAOxAGVKw4bAAAAcklEQVQY02MQUlJmAAFWJSUHBhcGGGAsAHPY\n",
       "yjsXwDmZDNwf4ZxjDAx34Zz7DxjOJ8A4hxgYzi+AcYBAnwHB4fqMxGE6gMSpRFjKwHIAiRPNwAY3\n",
       "mmsDA/MDGCepvLwIrkz///8fSKYheYEITiicw7UBAEaiI5wa7F/4AAAAAElFTkSuQmCC\n",
       "\" style=\"display:inline;vertical-align:middle;\" /></a><br>"
      ],
      "text/plain": [
       "<IPython.core.display.HTML object>"
      ]
     },
     "metadata": {},
     "output_type": "display_data"
    },
    {
     "data": {
      "text/html": [
       "<strong id=\"ceil_x_minus_y\">ceil_x_minus_y:</strong> <a class=\"ProveItLink\" href=\"../__pv_it/demonstrations/5e296efcc2b896d21019b0c54108c61490c5d1130/expr.ipynb\"><img src=\"data:image/png;base64,iVBORw0KGgoAAAANSUhEUgAAAD0AAAAVBAMAAAAHs/uBAAAAMFBMVEX///8AAAAAAAAAAAAAAAAA\n",
       "AAAAAAAAAAAAAAAAAAAAAAAAAAAAAAAAAAAAAAAAAAAv3aB7AAAAD3RSTlMARN12ZlQQqzKJmSLN\n",
       "77vFPH07AAAACXBIWXMAAA7EAAAOxAGVKw4bAAAAtElEQVQoz2MQUlJmwAFYlZQcGFwY8ADGBUNC\n",
       "ns24rHMqigSblQNDOlyei8HcYBGKPCfrBQZ/uLw3g39CCYp8K5cCQx1cvoFhDVg0RwkENICsBF4D\n",
       "hstI7ruM7jL5BI4fCHnG3wxpqPJrGJgvwOTZHrJfYJiAKv+cga8AJs/6I+sCYwCq/HIGeQe4/sUG\n",
       "Ua5o9qdPXr8Bf/jNwRe+nAfYruKTZzJgn4BPntV5ITR+QvHFH8cEAD3fMm2LAWLRAAAAAElFTkSu\n",
       "QmCC\n",
       "\" style=\"display:inline;vertical-align:middle;\" /></a><br>"
      ],
      "text/plain": [
       "<IPython.core.display.HTML object>"
      ]
     },
     "metadata": {},
     "output_type": "display_data"
    },
    {
     "data": {
      "text/html": [
       "<strong id=\"ceil_x_minus_y_plus_2\">ceil_x_minus_y_plus_2:</strong> <a class=\"ProveItLink\" href=\"../__pv_it/demonstrations/7530ee1d53014472c5afc104cebb108542505de90/expr.ipynb\"><img src=\"data:image/png;base64,iVBORw0KGgoAAAANSUhEUgAAAHAAAAAVBAMAAABs93eRAAAAMFBMVEX///8AAAAAAAAAAAAAAAAA\n",
       "AAAAAAAAAAAAAAAAAAAAAAAAAAAAAAAAAAAAAAAAAAAv3aB7AAAAD3RSTlMARN12ZlQiiRDNme+7\n",
       "qzJmaQM3AAAACXBIWXMAAA7EAAAOxAGVKw4bAAABmElEQVQ4y33Tv0vDQBQH8G/Spo1JU4puLg2n\n",
       "k2IJiCKCEPDHUJAWwcWpKDg4FcTByYxWKGR09cfSghgU9/oHKA4ODg4u0tFOxan1kpi0Fy55EC55\n",
       "ySe53L2HSTIDIIO4qPGSO2QWG97ZUiyc4qenfSjVY2HKjCSOWq8j2EB8XLKXmQ7OCiG8TYDl/1Hw\n",
       "P63VoDohdBKgavmjZPiXv9D6AZTsBDhhMlDToQ0CqNC1kRc/uieMkFdNNIHsGwNpiL0Aui9VsGZc\n",
       "MzArOagAaTsKf4wAilVgCxXrnYHfio5PCpwoXAi3Q6Xr+4WWl20QN0r0zFINPAL5nvszhMw/EOLN\n",
       "WukwEO5DbBStPF0GIfrF7VHluFOF0Mc5C1tIUSTpLKRVdhjAnAH5WXMQKbwX5Ojc0h0WdoGVANIV\n",
       "lwYXjlBl4R2Kpr9XYzAz127rAczrkG+Mvc3IPzaP72lTiQUGisPh0A5LrhRTNaf02Ed0O8baqsxT\n",
       "WVt+GmsAweTAHK/PRUOre22U0Mgy7660fhX3ThfueuNBbHMs89PdPx6wU6cl7fVbAAAAAElFTkSu\n",
       "QmCC\n",
       "\" style=\"display:inline;vertical-align:middle;\" /></a><br>"
      ],
      "text/plain": [
       "<IPython.core.display.HTML object>"
      ]
     },
     "metadata": {},
     "output_type": "display_data"
    },
    {
     "data": {
      "text/html": [
       "<strong id=\"ceil_x\">ceil_x:</strong> <a class=\"ProveItLink\" href=\"../__pv_it/axioms/0eb233226f3d6c4c9cc92c9ced4c48c688e6a2d00/expr.ipynb\"><img src=\"data:image/png;base64,iVBORw0KGgoAAAANSUhEUgAAABgAAAAVBAMAAACuxzMVAAAAMFBMVEX///8AAAAAAAAAAAAAAAAA\n",
       "AAAAAAAAAAAAAAAAAAAAAAAAAAAAAAAAAAAAAAAAAAAv3aB7AAAAD3RSTlMARN12ZlQQqzKJmSLN\n",
       "77vFPH07AAAACXBIWXMAAA7EAAAOxAGVKw4bAAAAWElEQVQY02MQUlJmAIMgJRUGFwY4kKIOJ9k8\n",
       "Y2YAjLOAuZhLAcph2cDyjd0ByuFg4DqAZACvARJHfgNbApSTJ1DLwAmTiW9byyAK42QZsy4JINuh\n",
       "oQhOJwB71xRt5lQjyQAAAABJRU5ErkJggg==\n",
       "\" style=\"display:inline;vertical-align:middle;\" /></a><br>"
      ],
      "text/plain": [
       "<IPython.core.display.HTML object>"
      ]
     },
     "metadata": {},
     "output_type": "display_data"
    },
    {
     "data": {
      "text/html": [
       "<strong id=\"ceil_y\">ceil_y:</strong> <a class=\"ProveItLink\" href=\"../__pv_it/demonstrations/02657c8d10614f67ff1392ce05fc443d5ad09d5e0/expr.ipynb\"><img src=\"data:image/png;base64,iVBORw0KGgoAAAANSUhEUgAAABcAAAAVBAMAAABfzGiYAAAAMFBMVEX///8AAAAAAAAAAAAAAAAA\n",
       "AAAAAAAAAAAAAAAAAAAAAAAAAAAAAAAAAAAAAAAAAAAv3aB7AAAAD3RSTlMARN12ZlQQmauJ7zK7\n",
       "zSIgEiEGAAAACXBIWXMAAA7EAAAOxAGVKw4bAAAAb0lEQVQY02MQUlJmAAFWJSUHBhcGGGAsoAqH\n",
       "zdyBIQPG4WRdwOAP42xlV2DogXESuAwYFsMNkE/g/g3n1DIwL4BzTjDwNMA5FQzyDnBOxuT6B0gu\n",
       "mAt3AecFtqVwDpMBxwQ4h9W5EOrQULiruScAAPkcHpXalzSXAAAAAElFTkSuQmCC\n",
       "\" style=\"display:inline;vertical-align:middle;\" /></a><br>"
      ],
      "text/plain": [
       "<IPython.core.display.HTML object>"
      ]
     },
     "metadata": {},
     "output_type": "display_data"
    }
   ],
   "source": [
    "# Some example test expressions involving Ceil\n",
    "ceil_2, ceil_x_minus_y, ceil_x_minus_y_plus_2, ceil_x, ceil_y = (\n",
    "    Ceil(two), Ceil(subtract(x,y)), Ceil(Add(subtract(x,y), two)), Ceil(x), Ceil(y))"
   ]
  },
  {
   "cell_type": "code",
   "execution_count": 36,
   "metadata": {},
   "outputs": [
    {
     "data": {
      "text/html": [
       "<strong id=\"floor_2\">floor_2:</strong> <a class=\"ProveItLink\" href=\"../__pv_it/demonstrations/a8a18d147ea5eb0480e5dae84019a8ab390292b50/expr.ipynb\"><img src=\"data:image/png;base64,iVBORw0KGgoAAAANSUhEUgAAABcAAAAVBAMAAABfzGiYAAAAMFBMVEX///8AAAAAAAAAAAAAAAAA\n",
       "AAAAAAAAAAAAAAAAAAAAAAAAAAAAAAAAAAAAAAAAAAAv3aB7AAAAD3RSTlMAEGZU7912IpnNuzKJ\n",
       "RKsnUPAAAAAACXBIWXMAAA7EAAAOxAGVKw4bAAAAcElEQVQY02MQZICDAgYlOJu3Acxh75i1Ac6p\n",
       "YuD5C+c8Z2BwgXP8BRjeF8A4TxkY3m+AcYAgngHB4f6GxGF9gMTpQljKwPQAiWPDwA43mvsAA5sA\n",
       "jFPa0dEKVxb///9PJNOQvEAExyQ0DMxkDg1NAADwEyLZg3azjwAAAABJRU5ErkJggg==\n",
       "\" style=\"display:inline;vertical-align:middle;\" /></a><br>"
      ],
      "text/plain": [
       "<IPython.core.display.HTML object>"
      ]
     },
     "metadata": {},
     "output_type": "display_data"
    },
    {
     "data": {
      "text/html": [
       "<strong id=\"floor_x_plus_y\">floor_x_plus_y:</strong> <a class=\"ProveItLink\" href=\"../__pv_it/theorems/650fad3b9f030f749416a193d1e72df10d7ddb610/expr.ipynb\"><img src=\"data:image/png;base64,iVBORw0KGgoAAAANSUhEUgAAAD0AAAAVBAMAAAAHs/uBAAAAMFBMVEX///8AAAAAAAAAAAAAAAAA\n",
       "AAAAAAAAAAAAAAAAAAAAAAAAAAAAAAAAAAAAAAAAAAAv3aB7AAAAD3RSTlMAEGZU7912qzKJmSLN\n",
       "RLs7fb+cAAAACXBIWXMAAA7EAAAOxAGVKw4bAAAAu0lEQVQoz2MQZMAHNjAo4ZPmXUBt+UsE5M3I\n",
       "kWdMK+ycjCLPmKXAIA6X52JIT1iKIs/J7MCgD5fXZtAXKEKRb+YKYKiDyzcwrAGLLg0NdQkNDQey\n",
       "BFgSGNyQ3OeG7r77Ahw/EPK8vxkEUeXXMLA5wOQZ37I7MExAlX/OwFcAk2f+IeXAa4Aqv5zhvgJc\n",
       "/7IEK2U0+8Wnrd+AP/zm4IsfzgOMzvjilzWBfQI+eWa1tdD4MQkNw5U6mENDEwDf8zLGOYeXUQAA\n",
       "AABJRU5ErkJggg==\n",
       "\" style=\"display:inline;vertical-align:middle;\" /></a><br>"
      ],
      "text/plain": [
       "<IPython.core.display.HTML object>"
      ]
     },
     "metadata": {},
     "output_type": "display_data"
    },
    {
     "data": {
      "text/html": [
       "<strong id=\"floor_x_plus_y_plus_1\">floor_x_plus_y_plus_1:</strong> <a class=\"ProveItLink\" href=\"../__pv_it/demonstrations/3d426bb180a97ac43a83a6a3119279c7e717ef6d0/expr.ipynb\"><img src=\"data:image/png;base64,iVBORw0KGgoAAAANSUhEUgAAAHAAAAAVBAMAAABs93eRAAAAMFBMVEX///8AAAAAAAAAAAAAAAAA\n",
       "AAAAAAAAAAAAAAAAAAAAAAAAAAAAAAAAAAAAAAAAAAAv3aB7AAAAD3RSTlMAEGZU7912IonNmUS7\n",
       "qzLCARrXAAAACXBIWXMAAA7EAAAOxAGVKw4bAAABcUlEQVQ4y2MQZAABdgZcoAC7MDuDEphOxqlx\n",
       "G3bhXRCNzA04NbIpoIs8FUBolGTADSaichlvzUfSuAhFbhMKTwtKc8OszkfS6ICi1AyFxyIAoZkT\n",
       "MDUyT8CjkVMBt0YuYNgwpl180YyikTFLgUGWgYHjAm6NIEO5GHITlqJo5GB2YNBnYGCagFsjqwED\n",
       "gzqDvsAlFI2PuQIY7gA1OODWyLKBgeEBw0qw8NLQUJfQ0FggS4AlgcGNgYHvA8gzoaEhrqGhF7Bo\n",
       "ZAApQg2c/QJ8/4DR4IDfqQzc3xkEUTWuZGADamIOwK2RJ4GB8TSvA0MDqsazDDxAtzEdwK0RGOLM\n",
       "/6QcuA1QNa5l2K8AiSsUjf0FcI18AQyMyxKslNH8KNu2HqiGdQOqxrv+cxXgSS4OR8rpBOJSBjQb\n",
       "kbOVFrZEzjGB0RkpA3ArYNHIgy2fsybwAr3HfgBfRmbEJsusthqXmSCNJqFhQLoMZz5OxyZoGhoG\n",
       "ACy+WRDL4H6QAAAAAElFTkSuQmCC\n",
       "\" style=\"display:inline;vertical-align:middle;\" /></a><br>"
      ],
      "text/plain": [
       "<IPython.core.display.HTML object>"
      ]
     },
     "metadata": {},
     "output_type": "display_data"
    }
   ],
   "source": [
    "# Some example test expressions involving Floor\n",
    "floor_2, floor_x_plus_y, floor_x_plus_y_plus_1 = (\n",
    "    Floor(two), Floor(Add(x, y)), Floor(Add(Add(x,y), one)))"
   ]
  },
  {
   "cell_type": "code",
   "execution_count": 37,
   "metadata": {},
   "outputs": [
    {
     "data": {
      "text/html": [
       "<strong id=\"round_2\">round_2:</strong> <a class=\"ProveItLink\" href=\"../__pv_it/demonstrations/225df32b1a87772eca7645fb551c04a32b7e62760/expr.ipynb\"><img src=\"data:image/png;base64,iVBORw0KGgoAAAANSUhEUgAAAFMAAAAVBAMAAADInc9CAAAAMFBMVEX///8AAAAAAAAAAAAAAAAA\n",
       "AAAAAAAAAAAAAAAAAAAAAAAAAAAAAAAAAAAAAAAAAAAv3aB7AAAAD3RSTlMAMom7Iplm783dEER2\n",
       "q1TfLoYRAAAACXBIWXMAAA7EAAAOxAGVKw4bAAABuElEQVQoz4WSP0gbcRTHP7k/ueSSntmEDnJt\n",
       "JyHDLW4tHBQKAcWiJJBBSIcuXQwOdmlpoBTBKRW6FbyhQxe52xwUGqGOShCRCIGE0t0UpIiK+n5J\n",
       "U3C5+w3vvd+773vv+/veg4RjjJxP8jkcud04TGrtpVjHxSh/LJCvxWEn+mK+w3O0K1iPg/4IxFTg\n",
       "GN7C6zjotDJ1+BDQ87GCGOgnRbUBp9ArkKmRemIsCOXiQWTv13gQ5A6+FZ+KRkd7NwI13WHVJmht\n",
       "NH1Bq1OKjHPNqbMs9y6hz7avXwomM3x46hrSDV5kmlL6FTamzCYddrIe8wV7FVNmk1UqkG0LlToP\n",
       "J6TQHMD7wGrxjiCMOAskkVWzrUhBF1XnwUgTy8O4lsj4A2dIb0mE0RialqbkRIuq+LCFdi5RfqBw\n",
       "/LUlscyYwC8MH6cpHNWPqWG5PEP33rCCc6mFfTqOrIjektEu+YC0DL5SmrSZgSUmXVc45Buv9Jbz\n",
       "xWQoEaVyuTqULddUgx7vC6mt4u9uQe72Sd/uPprbU4+Rr5u3txdCJUrawc/joJS4rv+3pJII1f+t\n",
       "v+ElQm3vfkncmR25n3AHzztvIVTZAsMAAAAASUVORK5CYII=\n",
       "\" style=\"display:inline;vertical-align:middle;\" /></a><br>"
      ],
      "text/plain": [
       "<IPython.core.display.HTML object>"
      ]
     },
     "metadata": {},
     "output_type": "display_data"
    },
    {
     "data": {
      "text/html": [
       "<strong id=\"round_x\">round_x:</strong> <a class=\"ProveItLink\" href=\"../__pv_it/demonstrations/53c17575b742ba698ad41e0baf6cc4dd395328730/expr.ipynb\"><img src=\"data:image/png;base64,iVBORw0KGgoAAAANSUhEUgAAAFUAAAAVBAMAAADFg78FAAAAMFBMVEX///8AAAAAAAAAAAAAAAAA\n",
       "AAAAAAAAAAAAAAAAAAAAAAAAAAAAAAAAAAAAAAAAAAAv3aB7AAAAD3RSTlMAMom7Iplm783dEER2\n",
       "q1TfLoYRAAAACXBIWXMAAA7EAAAOxAGVKw4bAAABrElEQVQoz4VTO0jDUBQ9zadpkzYtLoKDVJ2E\n",
       "IlmcVOgkFBSlQ1FQqKCLgw0OTgpdRHCqgptDBgURJNkcFEzBblaKQynSoYPObaE4VBHva2MEh+QO\n",
       "993zOPe9805uAJ8QnDUF/3h21nsvUuBombKacGAk50WONSldufDYi/tgUMq6cMuLO8mS7kLJ8OAe\n",
       "MrkFF4ZyCEwIGZKdrFhyOYeooVQukrNk1UvpmwgiPU1+eh2aArgqOD7D6UhbQpdTdeQJN2CmcJvi\n",
       "e4PDIKJirwLBAuZDRWo+B05HxSLquAtrWIrLexDZ9WHyYhN5o0ZydIzEWGsbODAkG/swTAstgzbC\n",
       "zFnJAuJY6fvdHlgjaRC+qBI6QAt0Om1Qz4ALOoFCIUtICkwbXJeqSJsR8SHTRh6OBihdXJOGIulk\n",
       "nygHKYE58No2dqH2OLOJukrjwtuQZ6I6SE+Q7v5k1lQxDaxjOJEgGZHCBm+rZyL6RqmdS11p9u1T\n",
       "iuyu8TIJu0m+NeKE5VpTbowtltiDCK3Z7ztMjuU3kidulfYd37+Jyfpy+d//QdB8ubL2v8kjFpz1\n",
       "EfgBBypsPfjewgoAAAAASUVORK5CYII=\n",
       "\" style=\"display:inline;vertical-align:middle;\" /></a><br>"
      ],
      "text/plain": [
       "<IPython.core.display.HTML object>"
      ]
     },
     "metadata": {},
     "output_type": "display_data"
    },
    {
     "data": {
      "text/html": [
       "<strong id=\"round_x_plus_y\">round_x_plus_y:</strong> <a class=\"ProveItLink\" href=\"../__pv_it/demonstrations/cbda4835e63ee40cfa09c640c2f793e50d1f8ff80/expr.ipynb\"><img src=\"data:image/png;base64,iVBORw0KGgoAAAANSUhEUgAAAHkAAAAVBAMAAACQ4lxbAAAAMFBMVEX///8AAAAAAAAAAAAAAAAA\n",
       "AAAAAAAAAAAAAAAAAAAAAAAAAAAAAAAAAAAAAAAAAAAv3aB7AAAAD3RSTlMAMom7Iplm783dEER2\n",
       "q1TfLoYRAAAACXBIWXMAAA7EAAAOxAGVKw4bAAACAklEQVQ4y4VUP2gTYRT/5f54ve+Sa3ARHOTU\n",
       "RSFIFicVMhUKitJBWrR4gl1EzOGgi5YsIjhFoUOghRsURAi5SQeFXMFuRoJCKZIhg25CUwgOVcTf\n",
       "l3P5au7uwT2+977f7937c++AHDFSb2rIl0+pN++zaIUnV6hdLxVQ9LPos0OqVxmAp1nsbkh1VXG9\n",
       "UayVLPZpqQLF9UOxrDCD/ViW3chgz/gonDQWWH6lF4ktH6XQ6b2onOegPm/+IcBk08THr4fPKGyJ\n",
       "bANaH5q+oAWYj4yx5gao0x6gU8Pbmr6fhIeJXryksBMkDjUwN9PkC9aB58fMJnbwzq7iclnchymT\n",
       "ttn3W6iH2wpbIr+wrABHZ2X4EfAotGI8RNiJsBvSYctJWxFQxuKEs9RqPWi1NnhKkCiMksFYVRi/\n",
       "eTL2gF0wAzoYJWFDItWudcMCkQ4HIkvqxNDGPBVHkoqfgo46/mUOZ4zXKnsRRTLdJuuVn5UPy8MF\n",
       "6NXbuAd3X+sMseNyDfQY4lwpgKeyieyza8z4lxxMH2eBZRzxPCZfbNzUY3fNxGQo7t7LwBmq7GV0\n",
       "/ck4naY0T2yxwHbl26BMW2wPxeD4pU25KrSux9/vHqi7XbnBxOwob0GfpXxrp/jM5673yrQt0Rpi\n",
       "9b8Nmib6tD+IHZfYRqOayxbTIO6da2mBD8jF1JsPwF9UqIv4qpYsMQAAAABJRU5ErkJggg==\n",
       "\" style=\"display:inline;vertical-align:middle;\" /></a><br>"
      ],
      "text/plain": [
       "<IPython.core.display.HTML object>"
      ]
     },
     "metadata": {},
     "output_type": "display_data"
    },
    {
     "data": {
      "text/html": [
       "<strong id=\"round_1_plus_2\">round_1_plus_2:</strong> <a class=\"ProveItLink\" href=\"../__pv_it/demonstrations/394519e724e0c70e3b2c6590eef1be51952919e10/expr.ipynb\"><img src=\"data:image/png;base64,iVBORw0KGgoAAAANSUhEUgAAAHcAAAAVBAMAAACOK2zoAAAAMFBMVEX///8AAAAAAAAAAAAAAAAA\n",
       "AAAAAAAAAAAAAAAAAAAAAAAAAAAAAAAAAAAAAAAAAAAv3aB7AAAAD3RSTlMAMom7Iplm783dEER2\n",
       "q1TfLoYRAAAACXBIWXMAAA7EAAAOxAGVKw4bAAAB80lEQVQ4y5WUPUjkQBTH/5uPzW4S43bCFRK1\n",
       "ErZIY6cQEA6EOxRl5SyEWNjYuFxxIiguiAhWq3DIyoEprrCRpLviDoygpcdyHH7AgovYu4KIqKhv\n",
       "1q+N5AMf5M28efnN+09mJkCMCWEJE/H2NyzxJ4pKLA6Q13Tqrb1Vk5vPQLWi6OYquQ1g88v1m0wv\n",
       "uBtgKQresskN06M+w8pTsf/AFDAeBXcyl2+ENe+xnbNxbEKyI+AF9nohCD4CjjNIWUh0CIOkJrvn\n",
       "yrsWmmxl72e2m77Jv+07ek3Ug2CydYArg+MHuTz6XOGC0/KYpLgCx8Qvk2dIygqGE7dAsoCPqSJN\n",
       "/wNYaRWLOMTvtIH+jPwNIlOcrgbD6TJFeXxopsnFGjBrSx5mYDsuzmwaSDPFkvsCi6XS6nSpVK7D\n",
       "Q6x67XFHJAPCLfWEc+AMVJ8GHNcPN1ZOsikU2okRah0P3AX11BojcSnTwCTCZZ9AMKEVaa3sMFmQ\n",
       "dPSANybwFdo151RxqNHR570gOKFDtZEkuTdsPWV0AaNo0XVSrhbGeE/7LqK+HWCi/HBfLjdS30al\n",
       "yML2XVrcZva0kqFY3q/KlbbP26wGZZsOrvb98Pr9/RUtyY27kcuNQcMhYfVjr7Pv9Cu+WzgcC/Oh\n",
       "PwzBiIVl4/3TvtqnsMQO8AAoFI2Yv2RkPgAAAABJRU5ErkJggg==\n",
       "\" style=\"display:inline;vertical-align:middle;\" /></a><br>"
      ],
      "text/plain": [
       "<IPython.core.display.HTML object>"
      ]
     },
     "metadata": {},
     "output_type": "display_data"
    },
    {
     "data": {
      "text/html": [
       "<strong id=\"round_x_plus_2\">round_x_plus_2:</strong> <a class=\"ProveItLink\" href=\"../__pv_it/demonstrations/36a5eb6145185b3503aef2e3684341cafa02bc3c0/expr.ipynb\"><img src=\"data:image/png;base64,iVBORw0KGgoAAAANSUhEUgAAAHcAAAAVBAMAAACOK2zoAAAAMFBMVEX///8AAAAAAAAAAAAAAAAA\n",
       "AAAAAAAAAAAAAAAAAAAAAAAAAAAAAAAAAAAAAAAAAAAv3aB7AAAAD3RSTlMAMom7Iplm783dEER2\n",
       "q1TfLoYRAAAACXBIWXMAAA7EAAAOxAGVKw4bAAACEklEQVQ4y5WUT2gTQRTGf9nsbv42zcGD9uKq\n",
       "N6lY0GPFRUHwUBIiiRYR9+JVQlV6qGBA8OAp6CmIdqWIIC3kJAhF1z8HD1WDCGIsNBRBBaERRCQt\n",
       "rW9cQTYkWXwwb5f55nvvm/dmBkLM/m/gn6Vb/ZDFQbTtl5Rf7QXpxatZ0s4g9qaMZKUXchRtHa4P\n",
       "4KY64oxg+If+5x1Mw7kBZK0qLhac++Z/rris2MTc/uR4XtyXnuQPsJIl7hDZoxcctKWPzJegyWLz\n",
       "yHMPJkZ3qjoXZMy/uru7FSCLzYq0Blq0oJX1W+Rs6zNmG+uQl/xB6iKHlaprMvLpZaPaRY5sgFnh\n",
       "WLxqWAmPxK7WJEOVVP0m+nfuO5xSi+7IGtvsDDld5EQDMmVGhgU4K6VpcpmYl0yuk+moiRtq0Ywk\n",
       "wfD7NVmrTddqt//8n1DZ2/BE5F2AnCe9yWXJtCW/TEgQnyxxva6CYTZUL8sSUI6C7GC/LRt7g2IO\n",
       "Ow821PZ92RLeTrpB8iq6Tabqy/sJU0QbHDDdmMWau3dTgnwSYBzm6u/RgpkjFmkXcwxdyTtDNI/R\n",
       "iExpSvlLMzvO17zq8z5YGznJ4yD5eLEoeg2LlOqCNnpaxL99PfGUR7BwnoVn25azAuyAe0uZUitI\n",
       "nt3a+iUVr4fcyES21wn7mz/sOpv5XhfDt1LoY3CwL6KPhZLn+iLR8HdI9/ohL+A3IzOLRJOld78A\n",
       "AAAASUVORK5CYII=\n",
       "\" style=\"display:inline;vertical-align:middle;\" /></a><br>"
      ],
      "text/plain": [
       "<IPython.core.display.HTML object>"
      ]
     },
     "metadata": {},
     "output_type": "display_data"
    }
   ],
   "source": [
    "# Some example test expressions involving Round\n",
    "round_2, round_x, round_x_plus_y, round_1_plus_2, round_x_plus_2 = (\n",
    "    Round(two), Round(x), Round(Add(x, y)), Round(Add(one, two)), Round(Add(x, two)))"
   ]
  },
  {
   "cell_type": "code",
   "execution_count": 38,
   "metadata": {},
   "outputs": [
    {
     "data": {
      "text/html": [
       "<strong id=\"round_add_xy12\">round_add_xy12:</strong> <a class=\"ProveItLink\" href=\"../__pv_it/demonstrations/1ffbf581a5ed466e01edc5fa19669c87abf299700/expr.ipynb\"><img src=\"data:image/png;base64,iVBORw0KGgoAAAANSUhEUgAAAL8AAAAVBAMAAADlQyK9AAAAMFBMVEX///8AAAAAAAAAAAAAAAAA\n",
       "AAAAAAAAAAAAAAAAAAAAAAAAAAAAAAAAAAAAAAAAAAAv3aB7AAAAD3RSTlMAMom7Iplm783dEER2\n",
       "q1TfLoYRAAAACXBIWXMAAA7EAAAOxAGVKw4bAAACgklEQVQ4y6VVTWgTQRh92exukt003YMH20tX\n",
       "vYhUGtBji4uC4KEkRBItIu7Fq4Sq9KDQgOBBEIOegtquFClICzkJQrHrT9FDtSEoYqw0iPgDhbZQ\n",
       "iqSl9ZumlEwSM8EMzMC+fW/efN9+8y0gGBZaGE2Ig8VWDKYavdx7la3fmt2rw+Gf5fgNA0G7kWST\n",
       "ppZqbnvt450qgxOQ1oFbDTR6iRaFP8LTGtYuMufwyAdgCLjYwEBK0+LjscUa1mKNwQ4y7GDBgs/5\n",
       "t4E/Ssuv/zb4DCwY8NvwHJBjNqTZL5hIAAVMFY6/coH+7i5WPzGaE+8e7S9yYmJqOYEBjVFKQw6S\n",
       "NyYl5fuIWOZPqMsw+1xtFfoVHGOKmzSjwXklzYnLTJGBZwNQUzjpTytmwEVgX3EAbSk9ew/yCsZt\n",
       "nGWkEeJYaqnNrhR7GDMsNAhQkKEkOttJfIE+ZwHX4XM1bR2hEgPuMtI12g5KuVYHMpmhTOYh1eQ2\n",
       "sxLZNahETrOzUKDT9OYyEHGpLiMGQssUBwFkVDZAebPK0xGzyxBFoLKvpCfJlI5E2eqxKNFzYLu3\n",
       "2082dpI8wpZpS3M4MYX0RlRF1ANkC6F0ORVrwCC8ORxRHZ+JJefQJhl9pxe9wFj2EyReTMw+kYHH\n",
       "RNCBGobMUnEe3iiUnGdQYll6qxq9+B1l9+AwsNR5Bs95sZLT16oNeiweORWPU24UEzqrQKn7HCUq\n",
       "/77/BZ4Bk5cw+XLPPMtyB/B4NpQo8mItP7NaZfB1+DZXaRjd2vpDlZQVNLGAUf/eSinx3d6OQ9Ql\n",
       "1Wi91nYQ40Vx+2MjIezDR+uBD5BvrovLYSFlrB74YybbnIFX/M+U3VZ+ma+BvzkY0m0BQDcBAAAA\n",
       "AElFTkSuQmCC\n",
       "\" style=\"display:inline;vertical-align:middle;\" /></a><br>"
      ],
      "text/plain": [
       "<IPython.core.display.HTML object>"
      ]
     },
     "metadata": {},
     "output_type": "display_data"
    },
    {
     "data": {
      "text/html": [
       "<strong id=\"round_add_add\">round_add_add:</strong> <a class=\"ProveItLink\" href=\"../__pv_it/demonstrations/2ce73d428eb69d45cc7ae4b1a774d53d6d5eee960/expr.ipynb\"><img src=\"data:image/png;base64,iVBORw0KGgoAAAANSUhEUgAAAOEAAAAVBAMAAABCnpRGAAAAMFBMVEX///8AAAAAAAAAAAAAAAAA\n",
       "AAAAAAAAAAAAAAAAAAAAAAAAAAAAAAAAAAAAAAAAAAAv3aB7AAAAD3RSTlMAMom7Iplm783dEER2\n",
       "q1TfLoYRAAAACXBIWXMAAA7EAAAOxAGVKw4bAAAC60lEQVRIx5WWT2jTUBzHv0nTdU3brHgRPEjU\n",
       "i0KRXDypEBCEgaJMJhs6rOAuIi54cAj+KYgIO3UDkYqwHBREKO3Ng4Nl4G5OhsqcMlgRPW+DIaMb\n",
       "zt/Ly2Ze8rLpF74h+fF5v997vzS/DdhFWmC5bPmCRNbG7voQWK4J+YJEdmKnUsrj83Q1TO4E5cvR\n",
       "CIOVZ9Fz9z4s+mycD6urRZdXgZM0Eg0QXO9rR4KnoK5zdmSnipMuXS4G/qucsM3BaJTB+XYk+hkY\n",
       "5uzgThWPsIsTONQ2L/yUcSNRJ1xxK/rAxaLts1u8VI/Ykgp3YsXOshj14VjFr8Bi0WfJyiGth+5K\n",
       "M019uoyCm5t5UTpB7/rj1G9C0ya3/v7bnqNCFkbXAXVWzM3geEXSOGfJaqpHddDd1FZVw8EQPS+g\n",
       "YeONnWoHR2BOY8brF7JwGh0VMbd/ZklFZYOz5NOdVdrXc2Bsf7qKebzNWjhX1G8jzXJlW9zXMOTO\n",
       "CVkY/YmeHDE3g2UVs7OcJe/rYkdYBu65GQ934TaaWHIpkGX9yTS5i+jjTavVnt6p1Wg5p6EsC1Ef\n",
       "DiqGosAFcJaZfQQZC9oG3WkrwBLopBRoNEMVwbKL+550FaJzkTOGKobP2MHqMpaZvZ6GB3WV7vLL\n",
       "rBx+6RQYQqiryK3itZilD3nWpeo/dfU7NNtnmcfYeCkjY+IkUtZ13ILRVhstzBs0dlOeb/14wYEp\n",
       "ZiGaNt5hiVG2IF5RMZF3fZasrbOWz+IYMIC9pkmNzVeupjzjSRrbP2hj5aWTa4lZBjBZDr6GUNT/\n",
       "WqhfYrS7t7d/+1PL+W05OE39r5d+LBTpWZ9r6QsHzk6xzVV965e9nzcjWeqlK9SEbDNyGlpQ+LIm\n",
       "/q4xvrm5xtktPlmjgWUz5zDbfTQ6mjyfukN8suLTN5jOakW/H5ry25N8MHnqx/8qyJSyuWPKegV6\n",
       "LZolW5Dw34Ql42PSLe6YjBuXpPl16783H9GZwHK9ky9IZMl/AF7J8rOZlL5IAAAAAElFTkSuQmCC\n",
       "\" style=\"display:inline;vertical-align:middle;\" /></a><br>"
      ],
      "text/plain": [
       "<IPython.core.display.HTML object>"
      ]
     },
     "metadata": {},
     "output_type": "display_data"
    },
    {
     "data": {
      "text/html": [
       "<strong id=\"round_add_mult_mult\">round_add_mult_mult:</strong> <a class=\"ProveItLink\" href=\"../__pv_it/demonstrations/44c0567211b2ba10cccc699bb7ce84c7c5baed650/expr.ipynb\"><img src=\"data:image/png;base64,iVBORw0KGgoAAAANSUhEUgAAAMwAAAAVBAMAAAD4PRwmAAAAMFBMVEX///8AAAAAAAAAAAAAAAAA\n",
       "AAAAAAAAAAAAAAAAAAAAAAAAAAAAAAAAAAAAAAAAAAAv3aB7AAAAD3RSTlMAMom7Iplm783dEER2\n",
       "q1TfLoYRAAAACXBIWXMAAA7EAAAOxAGVKw4bAAAC/0lEQVRIx4VVTWgTQRh92ewmzSZNcxN7sGu9\n",
       "KFTMQW8VFgShBzFEWulBiIhQvLR4sKCVFsQKghgKHoK1XanipZKc2oOiKVi9WAzFnwqRhiK2gtAK\n",
       "pUharN/sTrLr7IQ+eJnZmbfzvpn58i2wB0xOEWoDrWRIxZ6IVRz6EC1KtSJeyqUuAndS9LvC6cdb\n",
       "3wjT7bfc/XbfSiCWkUo9aKHg9BGHEjRZwgDp9E/33dFTULaBuzKpF69pUss4lCCU4p0Z3tq6D+6K\n",
       "H4FB4LJXKsMRYphThuu8/cVbW+exGbawbCJseaQy3CauccowKtisCTZfgeUEmjK2NHBITVOvY6Gg\n",
       "z2fQbEUXnnR00v0tzv2l+TTn9MLj9noeTfdALwFHBZu0YEOYBBRSklQJppUBdBXUTSU+gH56LiNv\n",
       "YtYMVnnEjKlYWcvWXjZWEdoA+gSbUZ9NYIfuhSVQH043ZTUD48DYAVpoCS8iSZxN6NegsfkJhyEz\n",
       "VG2uZUKg0ovmJLAq2Ez4bCK0E4qdSVtbWDJRcDetcBFDsPIFrFs0EDFo/obDgGMK5FmCk4qkaGMD\n",
       "vbncYC73CFzLbfKO+hwLipZmUpa34STUHeqpv4F10J5ogOzqNrDXZfGx1IxW0ZYAZoXdeGxsGULs\n",
       "WqJsNyTtZe5FKJvUi20wD2zpNNAP99AoGFOvHwft7B01P/c6tBWoJuJZRzrG/vAZhA2cRDB5BVcR\n",
       "ryr5CpbiVPYo5xinCl+g1F8PlkgKXBJsOgWbgIGYhVDSlqrbLL4STgAXsM8w6NxiIxeDxfgDDU7S\n",
       "Etdbz+NV/X2tFN2qJbDHxk7wY26V7uruppPSDFsatfO0fZ5u4nnH93KCnvXPFb188Mwcq4QOn76P\n",
       "97jlV1+c36TmoWDDtN+G79VL0+Tu7h+6poJH2giRhEMBCmWSmhVsJDq2J3ikjcCKnq/wHcaziqei\n",
       "zoi19D/0oGHx9eA4pxfjWLTrvEzr+8gmpVIRU5xe/GAXKVl0SvJ+0GzgL0RTdOj/IptSrYg3jvQf\n",
       "YangFsdHb1QAAAAASUVORK5CYII=\n",
       "\" style=\"display:inline;vertical-align:middle;\" /></a><br>"
      ],
      "text/plain": [
       "<IPython.core.display.HTML object>"
      ]
     },
     "metadata": {},
     "output_type": "display_data"
    }
   ],
   "source": [
    "# Some more example test expressions involving Round\n",
    "round_add_xy12, round_add_add, round_add_mult_mult = (\n",
    "    Round(Add(x, y, one, two)), Round(Add(Add(x, y),Add(one, two))),\n",
    "    Round(Add(Mult(x,y), Mult(one, two))))"
   ]
  },
  {
   "cell_type": "markdown",
   "metadata": {},
   "source": [
    "## Testing the `deduce_in_number_set()` methods"
   ]
  },
  {
   "cell_type": "markdown",
   "metadata": {},
   "source": [
    "### Ceil.deduce_in_number_set()"
   ]
  },
  {
   "cell_type": "code",
   "execution_count": 39,
   "metadata": {},
   "outputs": [
    {
     "data": {
      "text/html": [
       "<span style=\"font-size:20px;\"> <a class=\"ProveItLink\" href=\"../__pv_it/demonstrations/524c515d42df63e832fa0154f51431eac0beb0b10/proof.ipynb\" style=\"text-decoration: none\">&nbsp;&#x22A2;&nbsp;&nbsp;</a><a class=\"ProveItLink\" href=\"../__pv_it/demonstrations/c7c93bd97f1f1a90355a8e071b0a677202a0c4710/expr.ipynb\"><img src=\"data:image/png;base64,iVBORw0KGgoAAAANSUhEUgAAAEEAAAAVBAMAAADrxp6XAAAAMFBMVEX///8AAAAAAAAAAAAAAAAA\n",
       "AAAAAAAAAAAAAAAAAAAAAAAAAAAAAAAAAAAAAAAAAAAv3aB7AAAAD3RSTlMARN12ZlQimc27Momr\n",
       "7xBJVNCIAAAACXBIWXMAAA7EAAAOxAGVKw4bAAABEklEQVQoz2MQUlJmAIEgJRUG7MAFzhJHk4m4\n",
       "f2OS5hWIivSKWVhUWJ5i4GBoAKtgm8CwXwBTRTkDgwl3AFgFTwID7wVMFccY+Ca8hLiD9x8DzzeE\n",
       "CkslpQYQ/YCBfcEpiAoeBQaeX3AVEnZwU9ZwFcD9wvQBpoKtD2HPPM4HcBXrDWAqOBLgClg3OCPC\n",
       "QwfuWw6EEWC/QlWwT4CrWKsEBBPATFNuAQY+qAofRJi+hBvBNyETHBIuYAsZ0mAqmOAqeBYcY2B4\n",
       "DzFjNQODHUwFswFMxXJGoF8PQUJdvbxcAR4erXC/cjxgyIwEq2D6//9/A1zFm4kPwDTjzd6Zc//O\n",
       "xhb70pMgoU44fVBTRSictRq7AgAuEz6jPpvn8wAAAABJRU5ErkJggg==\n",
       "\" style=\"display:inline;vertical-align:middle;\" /></a></span>"
      ],
      "text/plain": [
       "|- ceil(2) in Integer"
      ]
     },
     "metadata": {},
     "output_type": "display_data"
    }
   ],
   "source": [
    "ceil_2.deduce_in_number_set(Integer)"
   ]
  },
  {
   "cell_type": "code",
   "execution_count": 40,
   "metadata": {},
   "outputs": [
    {
     "data": {
      "text/html": [
       "<strong id=\"ceil_x_minus_y_in_ints\">ceil_x_minus_y_in_ints:</strong> <span style=\"font-size:20px;\"><a class=\"ProveItLink\" href=\"../../ordering/__pv_it/theorems/d1323f34847310a404e8089c2c268d3c2eb89dbf0/expr.ipynb\"><img src=\"data:image/png;base64,iVBORw0KGgoAAAANSUhEUgAAADQAAAAQBAMAAACra0H4AAAAMFBMVEX///8AAAAAAAAAAAAAAAAA\n",
       "AAAAAAAAAAAAAAAAAAAAAAAAAAAAAAAAAAAAAAAAAAAv3aB7AAAAD3RSTlMAEHarMolUmd1mIs3v\n",
       "RLtmgJDEAAAACXBIWXMAAA7EAAAOxAGVKw4bAAAAyklEQVQY02NgwACce9797nnJgBXwcRnwWj7E\n",
       "IRXA8MAZp1QVN4qQXkfHBrgUH7LMbUUkXYbCQIaQskhoApDm2ohkIMuzXUBGAZMRewOQ5l6AkDrd\n",
       "3yQA9MUCzo/ME0BSSM6InAiylIWBHWw3g08HEDyAGvhwJliMRwFMySE73p1PAMS6v4ARRHMgS7F7\n",
       "AfXLXbBhYAUJMCkgSTE+0GRgyHesYbgGFtmGkCpgmMl3gUFcia0yASwi/FYAFvL/FvC9/oYcHFdf\n",
       "QAIKCgBACzQrtGfvLgAAAABJRU5ErkJggg==\n",
       "\" style=\"display:inline;vertical-align:middle;\" /></a>, <a class=\"ProveItLink\" href=\"../../ordering/__pv_it/theorems/5d76fdd975252a644e3e1cb067a357f9a9c8486a0/expr.ipynb\"><img src=\"data:image/png;base64,iVBORw0KGgoAAAANSUhEUgAAADMAAAATBAMAAADPIygvAAAAMFBMVEX///8AAAAAAAAAAAAAAAAA\n",
       "AAAAAAAAAAAAAAAAAAAAAAAAAAAAAAAAAAAAAAAAAAAv3aB7AAAAD3RSTlMAEHaZZquJVO8y3btE\n",
       "zSKD2s2pAAAACXBIWXMAAA7EAAAOxAGVKw4bAAAA4ElEQVQoz2NgwAC+3ftvdTswYAUbnjIc9RbA\n",
       "LvWMgZszAJcU84MLKELaq1ZdgEttQJY5q4jQxSoINJBR2YFBFCTAdxHJwNm1DxgY2NgbGPxBArwP\n",
       "4FIvbv0CmTCdeQFDNFgKyRkusiBagEOBoQnEmLEKCDZApLhFwF4+L8D5E0RLI+niNNgIYtgyMDWA\n",
       "aC5kf1m+BjG2MnCDfc6kgCQlzQQy0ZThPCQsr8OlHjOwOOwBMkST7CHOFt0jAAv5fQy77xeA2LlQ\n",
       "1cd2rUIJObYLjO3Y44aBS4E1AYcUu5MNDhkADGJEjCMFBEsAAAAASUVORK5CYII=\n",
       "\" style=\"display:inline;vertical-align:middle;\" /></a> <a class=\"ProveItLink\" href=\"../__pv_it/demonstrations/296b345b836fcb8ecd2152f5aaf55e09929b53a80/proof.ipynb\" style=\"text-decoration: none\">&nbsp;&#x22A2;&nbsp;&nbsp;</a><a class=\"ProveItLink\" href=\"../__pv_it/demonstrations/7580ab567322318d2c6907adfe09bcbda521e4f50/expr.ipynb\"><img src=\"data:image/png;base64,iVBORw0KGgoAAAANSUhEUgAAAGcAAAAVBAMAAACphe0AAAAAMFBMVEX///8AAAAAAAAAAAAAAAAA\n",
       "AAAAAAAAAAAAAAAAAAAAAAAAAAAAAAAAAAAAAAAAAAAv3aB7AAAAD3RSTlMARN12ZlQQqzKJmSLN\n",
       "77vFPH07AAAACXBIWXMAAA7EAAAOxAGVKw4bAAABXElEQVQ4y2MQUlJmwAGClFRwyLgw4AFSaPyY\n",
       "+3ce6V0hUZNdBQMPwwESNa1iYDDhDCBRUzUD24M8Yv1kp6R0AEQnMHA1VBCpScYMLtLOsQCqKdk8\n",
       "Y2YAiurkJQxsBTBN3McQEs/4EqCaFjAXcymgaJoQy8DyAaaJZwNcnHWCMzSeWDawfGN3QNbDEbCI\n",
       "gf0BXBNCAhzgYE0cDFxgJkOOEghoMDCwMVxm4DWAaeoFiT4AM005BYCSkIAAKUABjN8Y+htgmvLg\n",
       "wmwP9jEwsG+AaJLfwJaAoglotS089JjgwuwN1QwM+WCb8gRqGThRbeIrYHgO18QMd0cXIzDAi8Ca\n",
       "4tvWMoiiauIqYPyCiKej8ADnSWDYFwfWlGXMugQ1mhjYKq1+IzSlP4Q4nvHe2Xdv/77EnSI4DyAl\n",
       "I8lHkGSEPz/NYcgNwJJg8WtSZqhkIFlTiJUAPk2h+FJ5J3ZhAEVITKSbbp+gAAAAAElFTkSuQmCC\n",
       "\" style=\"display:inline;vertical-align:middle;\" /></a></span><br>"
      ],
      "text/plain": [
       "<IPython.core.display.HTML object>"
      ]
     },
     "metadata": {},
     "output_type": "display_data"
    }
   ],
   "source": [
    "ceil_x_minus_y_in_ints = ceil_x_minus_y.deduce_in_number_set(\n",
    "    Integer, assumptions=[InSet(x, Real), InSet(y, Real)])"
   ]
  },
  {
   "cell_type": "code",
   "execution_count": 41,
   "metadata": {},
   "outputs": [
    {
     "data": {
      "text/html": [
       "<span style=\"font-size:20px;\"><a class=\"ProveItLink\" href=\"../__pv_it/demonstrations/f9b1193869448682bd674e8eb2ed2751e21596c90/expr.ipynb\"><img src=\"data:image/png;base64,iVBORw0KGgoAAAANSUhEUgAAAGcAAAAVBAMAAACphe0AAAAAMFBMVEX///8AAAAAAAAAAAAAAAAA\n",
       "AAAAAAAAAAAAAAAAAAAAAAAAAAAAAAAAAAAAAAAAAAAv3aB7AAAAD3RSTlMAInZUiRDNmWbv3US7\n",
       "qzJazP2FAAAACXBIWXMAAA7EAAAOxAGVKw4bAAABqUlEQVQ4y2NgYBBgwAVwyzAZ4JTahMZvm3M+\n",
       "a04DiGXCgNu8BjSBA7IMe3sCGBhYE3BrYkhF1yTCwMN3gYGBvQGPpnZMTewCQFs48ehh4AyAOPPU\n",
       "qmUITQcYGMzwaWIDO4M7KQBhE28o0HklQHaQbpwLahiyqjcwxDIwsFwAccQCkJz3xgwYERlAdgHT\n",
       "JfYFKJpYmCcw9DMwcIBDKRHhJ8msX6pAejFQSoDjKy9qeDwGGnKHgQGoFQgSkAKiIwxEz2Zg4GNg\n",
       "h4iHrQKBdUBWAKcCwySgzAcgm28WUHANVBNPRANEEzCUFNCDYH8A3z9gEIBsYj2AZBNfwVGI84BK\n",
       "BFgDUDWVMTABNTCDfboAOZ7qZID0IQaGmA03GVjQbDrLwAMMOQ6wJUrImmJAacuXgcH+aSXDZjRN\n",
       "tQz7gZLsDuDYgkfHAXEGjobTDAyvGBjClZgr0JN6rFM9MD64NoAj7c5WeCo/yHAm34CB6wGO1OAG\n",
       "xFIQJrcPNBnBAEcBNh0sCayTgVQFrvR1EJsglwIv0DuMB3BpisEmyNxUDSR5cOZ3RgWciVwRhzgA\n",
       "ripgq+vZbQMAAAAASUVORK5CYII=\n",
       "\" style=\"display:inline;vertical-align:middle;\" /></a> <a class=\"ProveItLink\" href=\"../__pv_it/demonstrations/714ab57c5f24995baf94866da4c3aa171093cb380/proof.ipynb\" style=\"text-decoration: none\">&nbsp;&#x22A2;&nbsp;&nbsp;</a><a class=\"ProveItLink\" href=\"../__pv_it/demonstrations/7580ab567322318d2c6907adfe09bcbda521e4f50/expr.ipynb\"><img src=\"data:image/png;base64,iVBORw0KGgoAAAANSUhEUgAAAGcAAAAVBAMAAACphe0AAAAAMFBMVEX///8AAAAAAAAAAAAAAAAA\n",
       "AAAAAAAAAAAAAAAAAAAAAAAAAAAAAAAAAAAAAAAAAAAv3aB7AAAAD3RSTlMARN12ZlQQqzKJmSLN\n",
       "77vFPH07AAAACXBIWXMAAA7EAAAOxAGVKw4bAAABXElEQVQ4y2MQUlJmwAGClFRwyLgw4AFSaPyY\n",
       "+3ce6V0hUZNdBQMPwwESNa1iYDDhDCBRUzUD24M8Yv1kp6R0AEQnMHA1VBCpScYMLtLOsQCqKdk8\n",
       "Y2YAiurkJQxsBTBN3McQEs/4EqCaFjAXcymgaJoQy8DyAaaJZwNcnHWCMzSeWDawfGN3QNbDEbCI\n",
       "gf0BXBNCAhzgYE0cDFxgJkOOEghoMDCwMVxm4DWAaeoFiT4AM005BYCSkIAAKUABjN8Y+htgmvLg\n",
       "wmwP9jEwsG+AaJLfwJaAoglotS089JjgwuwN1QwM+WCb8gRqGThRbeIrYHgO18QMd0cXIzDAi8Ca\n",
       "4tvWMoiiauIqYPyCiKej8ADnSWDYFwfWlGXMugQ1mhjYKq1+IzSlP4Q4nvHe2Xdv/77EnSI4DyAl\n",
       "I8lHkGSEPz/NYcgNwJJg8WtSZqhkIFlTiJUAPk2h+FJ5J3ZhAEVITKSbbp+gAAAAAElFTkSuQmCC\n",
       "\" style=\"display:inline;vertical-align:middle;\" /></a></span>"
      ],
      "text/plain": [
       "{(x - y) in Real} |- ceil(x - y) in Integer"
      ]
     },
     "metadata": {},
     "output_type": "display_data"
    }
   ],
   "source": [
    "ceil_x_minus_y_in_ints.proof().disable()\n",
    "ceil_x_minus_y.deduce_in_number_set(\n",
    "    Integer, assumptions=[InSet(subtract(x, y), Real)])"
   ]
  },
  {
   "cell_type": "code",
   "execution_count": 42,
   "metadata": {},
   "outputs": [
    {
     "data": {
      "text/html": [
       "<span style=\"font-size:20px;\"><a class=\"ProveItLink\" href=\"../__pv_it/demonstrations/87e6cd170646f05085f7c90fb743f335c993bbd40/expr.ipynb\"><img src=\"data:image/png;base64,iVBORw0KGgoAAAANSUhEUgAAAHMAAAAXBAMAAADKCG2ZAAAAMFBMVEX///8AAAAAAAAAAAAAAAAA\n",
       "AAAAAAAAAAAAAAAAAAAAAAAAAAAAAAAAAAAAAAAAAAAv3aB7AAAAD3RSTlMAInZUiRDNmWbv3US7\n",
       "qzJazP2FAAAACXBIWXMAAA7EAAAOxAGVKw4bAAABuklEQVQ4y2NgIAuwM5ANeCCUAE4FAgS0Mhng\n",
       "VLAJjd8253zWnAaEVhPczmJqQBM4IMuwtycAppU1AY+XUtG1ijDw8F1gqDlz8syZBgb2Bjxa2zG1\n",
       "sgskwGzlxBeQnAEQWmfVqgS41gMwrWb4tLJBnLRNFWErb+gFmNYSkH+Vrj5xRtHDqt7AEMvAwAJS\n",
       "xsCYiuTgN2YCMK0Z4LShq1CFopWFeQJDPwMDB9iZbPD4PSCZ9UsVnpoWA3EjQ3/ADRStj9kXMNxh\n",
       "YAAaANKKFEwdYQhFs4H4AUMZmB22CgTWAVkBnAoMkxgY+D6AhF+CRA9AtPJENKBoZQApQwX7A/j+\n",
       "MTBwg22NQbKVr+AonAdyMAP3R4ZQVK1lDExAbcwLQGwu5Hitk4HzDgGD8zTvBAYHVK1nGXiAocsB\n",
       "diaTApLWGETq9AWa/S98AjdaJqhl2A9Uwg4xMBmuVZyBo+E0jPcKaGuRgnkzml9jneqBUcK1AcI5\n",
       "HQDLOQcZzuTDbOF6gCMluQGxFJS95dQqLLmEowCbPpYE1slAqgJ/WXEQmyCXAi/Qm4wH8GuNwSbI\n",
       "3FQNSqkC+LUyKuCUUsSrEQCXiWb18hO6iwAAAABJRU5ErkJggg==\n",
       "\" style=\"display:inline;vertical-align:middle;\" /></a> <a class=\"ProveItLink\" href=\"../__pv_it/demonstrations/0127334302d896e770f0352f597220b5727ba94c0/proof.ipynb\" style=\"text-decoration: none\">&nbsp;&#x22A2;&nbsp;&nbsp;</a><a class=\"ProveItLink\" href=\"../__pv_it/demonstrations/87a3561ee37b627c56f1dee46f1018c78b7986970/expr.ipynb\"><img src=\"data:image/png;base64,iVBORw0KGgoAAAANSUhEUgAAAHQAAAAXBAMAAAAo1HbgAAAAMFBMVEX///8AAAAAAAAAAAAAAAAA\n",
       "AAAAAAAAAAAAAAAAAAAAAAAAAAAAAAAAAAAAAAAAAAAv3aB7AAAAD3RSTlMARN12ZlQQqzKJmSLN\n",
       "77vFPH07AAAACXBIWXMAAA7EAAAOxAGVKw4bAAABcklEQVQ4y2NgIA8sYCAbPABiISVlXNKsSkoO\n",
       "+LS64DObEdVdbPrvjjFw3r9IhlYGvgBxBoZ8cmxlYNfmdGDgZeB69+7euyckao1jOM3ARJKtzI+U\n",
       "dMBatxjsIU0r4+EEqK0bKpgnoGhlMy7rnIoallYODOlwrXsSYA7ewMfwEEUrF4O5wSIUrZysFxj8\n",
       "4VpPw/26gWNBUhIsNYG0ejP4J5SgaG3lUmCog2s9gNDK4Mr6FsYDaW1gWANm5yiBgAaQlcBrwHAZ\n",
       "ppXjElBUD6qVPaEWWSsDSBkqkE/g+AHTyvYAyVa2giQUrYy/GdJQta5hYL4Ad7ACklaGZj4krWwP\n",
       "2S8wTEDV+pyBrwCu1RieEBuAcdyHpJX1R9YFxgBUrcsZ5B3gWnlgkmDGGmRbFxtEuaL5NX3y+g1w\n",
       "rWx1YmCa4/w9UGCiBhMWMAcpITLOgyREVIBdK+cBtqtYkj8xWpkM2CeQqZXVeSEDQa2h+CQ5JuCR\n",
       "BAAoOGDrqLV/0wAAAABJRU5ErkJggg==\n",
       "\" style=\"display:inline;vertical-align:middle;\" /></a></span>"
      ],
      "text/plain": [
       "{(x - y) in RealPos} |- ceil(x - y) in NaturalPos"
      ]
     },
     "metadata": {},
     "output_type": "display_data"
    }
   ],
   "source": [
    "ceil_x_minus_y.deduce_in_number_set(Natural, assumptions=[InSet(subtract(x,y), RealPos)])"
   ]
  },
  {
   "cell_type": "code",
   "execution_count": 43,
   "metadata": {},
   "outputs": [
    {
     "name": "stdout",
     "output_type": "stream",
     "text": [
      "EXCEPTION: the closure theorems do not apply without more constraints.  Prerequisites not met while assuming (): No readily provable number set for x - y\n"
     ]
    }
   ],
   "source": [
    "# If we don't at least know the operand is real-valued,\n",
    "# difficult to know what set(s) the result belongs to \n",
    "try:\n",
    "    ceil_x_minus_y.deduce_in_number_set(Integer)\n",
    "except Exception as e:\n",
    "    print(\"EXCEPTION: the closure theorems do not apply without more constraints. \", e)"
   ]
  },
  {
   "cell_type": "markdown",
   "metadata": {},
   "source": [
    "### Floor.deduce_in_number_set()"
   ]
  },
  {
   "cell_type": "code",
   "execution_count": 44,
   "metadata": {},
   "outputs": [
    {
     "data": {
      "text/html": [
       "<span style=\"font-size:20px;\"> <a class=\"ProveItLink\" href=\"../__pv_it/demonstrations/06829417e8906a3b39993290ebbb3b8c4fc4097c0/proof.ipynb\" style=\"text-decoration: none\">&nbsp;&#x22A2;&nbsp;&nbsp;</a><a class=\"ProveItLink\" href=\"../__pv_it/demonstrations/2b25e8e7f4d671a5e3a2a4eefc5ff82e7ccec5440/expr.ipynb\"><img src=\"data:image/png;base64,iVBORw0KGgoAAAANSUhEUgAAAEIAAAAVBAMAAAAA8SWUAAAAMFBMVEX///8AAAAAAAAAAAAAAAAA\n",
       "AAAAAAAAAAAAAAAAAAAAAAAAAAAAAAAAAAAAAAAAAAAv3aB7AAAAD3RSTlMAEGZU7912IpnNuzKJ\n",
       "RKsnUPAAAAAACXBIWXMAAA7EAAAOxAGVKw4bAAABDUlEQVQoz2MQZIABdgbsQAnOuoEqwRi/aiID\n",
       "j78vWEVF52pMFQxcBvcYGOTBZrAvYDh/AVMFXziPAgMLWAVfAQOLAxYVVgzTGVjBKlg+MvB9R6hg\n",
       "WxoaCVZRlFAJVcEXwMD3G66Cd5oA1IyC12wHWGF+Yf0AV1EpALOlgIthLVzF/gS4iulwdxRwN4iK\n",
       "wlTEIXw7AaGCQZl5CVQFxwK4Cm7X0NDQKKgKPoEnUBV6iDBlXIBkBuMDqC3MBxjK4bYEIKlg2MYF\n",
       "UbGHgSERriINHuobgGGzCxLqER0dAXAVnAYMSIxOsArW////T4CrYHx1EeLk+V5AUhJb7POegoQ6\n",
       "wfRBVRUmoWFg2hRKYwAABxVFViRjf/cAAAAASUVORK5CYII=\n",
       "\" style=\"display:inline;vertical-align:middle;\" /></a></span>"
      ],
      "text/plain": [
       "|- floor(2) in Natural"
      ]
     },
     "metadata": {},
     "output_type": "display_data"
    }
   ],
   "source": [
    "floor_2.deduce_in_number_set(Natural)"
   ]
  },
  {
   "cell_type": "code",
   "execution_count": 45,
   "metadata": {},
   "outputs": [
    {
     "data": {
      "text/html": [
       "<strong id=\"floor_x_plus_y_in_ints\">floor_x_plus_y_in_ints:</strong> <span style=\"font-size:20px;\"><a class=\"ProveItLink\" href=\"../../ordering/__pv_it/theorems/d1323f34847310a404e8089c2c268d3c2eb89dbf0/expr.ipynb\"><img src=\"data:image/png;base64,iVBORw0KGgoAAAANSUhEUgAAADQAAAAQBAMAAACra0H4AAAAMFBMVEX///8AAAAAAAAAAAAAAAAA\n",
       "AAAAAAAAAAAAAAAAAAAAAAAAAAAAAAAAAAAAAAAAAAAv3aB7AAAAD3RSTlMAEHarMolUmd1mIs3v\n",
       "RLtmgJDEAAAACXBIWXMAAA7EAAAOxAGVKw4bAAAAyklEQVQY02NgwACce9797nnJgBXwcRnwWj7E\n",
       "IRXA8MAZp1QVN4qQXkfHBrgUH7LMbUUkXYbCQIaQskhoApDm2ohkIMuzXUBGAZMRewOQ5l6AkDrd\n",
       "3yQA9MUCzo/ME0BSSM6InAiylIWBHWw3g08HEDyAGvhwJliMRwFMySE73p1PAMS6v4ARRHMgS7F7\n",
       "AfXLXbBhYAUJMCkgSTE+0GRgyHesYbgGFtmGkCpgmMl3gUFcia0yASwi/FYAFvL/FvC9/oYcHFdf\n",
       "QAIKCgBACzQrtGfvLgAAAABJRU5ErkJggg==\n",
       "\" style=\"display:inline;vertical-align:middle;\" /></a>, <a class=\"ProveItLink\" href=\"../../ordering/__pv_it/theorems/5d76fdd975252a644e3e1cb067a357f9a9c8486a0/expr.ipynb\"><img src=\"data:image/png;base64,iVBORw0KGgoAAAANSUhEUgAAADMAAAATBAMAAADPIygvAAAAMFBMVEX///8AAAAAAAAAAAAAAAAA\n",
       "AAAAAAAAAAAAAAAAAAAAAAAAAAAAAAAAAAAAAAAAAAAv3aB7AAAAD3RSTlMAEHaZZquJVO8y3btE\n",
       "zSKD2s2pAAAACXBIWXMAAA7EAAAOxAGVKw4bAAAA4ElEQVQoz2NgwAC+3ftvdTswYAUbnjIc9RbA\n",
       "LvWMgZszAJcU84MLKELaq1ZdgEttQJY5q4jQxSoINJBR2YFBFCTAdxHJwNm1DxgY2NgbGPxBArwP\n",
       "4FIvbv0CmTCdeQFDNFgKyRkusiBagEOBoQnEmLEKCDZApLhFwF4+L8D5E0RLI+niNNgIYtgyMDWA\n",
       "aC5kf1m+BjG2MnCDfc6kgCQlzQQy0ZThPCQsr8OlHjOwOOwBMkST7CHOFt0jAAv5fQy77xeA2LlQ\n",
       "1cd2rUIJObYLjO3Y44aBS4E1AYcUu5MNDhkADGJEjCMFBEsAAAAASUVORK5CYII=\n",
       "\" style=\"display:inline;vertical-align:middle;\" /></a> <a class=\"ProveItLink\" href=\"../__pv_it/demonstrations/d56741c747413df35720e0a6c2a321c2389fb4e30/proof.ipynb\" style=\"text-decoration: none\">&nbsp;&#x22A2;&nbsp;&nbsp;</a><a class=\"ProveItLink\" href=\"../__pv_it/demonstrations/054b9709aa39b6bd9d30b19b6d6db233d71cbb500/expr.ipynb\"><img src=\"data:image/png;base64,iVBORw0KGgoAAAANSUhEUgAAAGcAAAAVBAMAAACphe0AAAAAMFBMVEX///8AAAAAAAAAAAAAAAAA\n",
       "AAAAAAAAAAAAAAAAAAAAAAAAAAAAAAAAAAAAAAAAAAAv3aB7AAAAD3RSTlMAEGZU7912qzKJmSLN\n",
       "RLs7fb+cAAAACXBIWXMAAA7EAAAOxAGVKw4bAAABaElEQVQ4y2MQZMADuHGIK+HTdAuNb+Pv8zTO\n",
       "iURNeRUMPAwHSNS0ioEhidMAQ9MlvJqqGRgfyGH6yQyrprzQ0AMgWoCBq6GCSE13EuEi7RwLoJrE\n",
       "0iVmGqBoElvEwFgA08R9EGHMQz4BqKYFbGVcASiaJpgwMH2AaeLZANfDPEENGk9MG5g+sisga+Iw\n",
       "WMrA/gCuCWEROMDBmjgYuMBMhqWhoS6hoeEMDIwMbgwsCTBNLaFA8ADMTOa8AJSEBARIAYrzeD8y\n",
       "9DfANMnBLWJ8sI+BgX0DRNP9DYwCKJqAVqfAQ48Vrom9oZqBQR5sk9yFEgZOVJv4ChiewzWxwd3R\n",
       "xQsM8FKwJvvGJQyXUTVxFfB+QsTTYXiA8wgw7LMDa5JKY15kgKqJsTLrN0KT+FuI43n9jrx78uUl\n",
       "7hTBeQApGd18CklGOPITNMHOYRAxwJJg8WfCMIZKBpI1GWVdwKfJJDQMVxY0xSUFAI8xXf62ERHR\n",
       "AAAAAElFTkSuQmCC\n",
       "\" style=\"display:inline;vertical-align:middle;\" /></a></span><br>"
      ],
      "text/plain": [
       "<IPython.core.display.HTML object>"
      ]
     },
     "metadata": {},
     "output_type": "display_data"
    }
   ],
   "source": [
    "floor_x_plus_y_in_ints = floor_x_plus_y.deduce_in_number_set(\n",
    "    Integer, assumptions=[InSet(x, Real), InSet(y, Real)])"
   ]
  },
  {
   "cell_type": "code",
   "execution_count": 46,
   "metadata": {},
   "outputs": [
    {
     "data": {
      "text/html": [
       "<strong id=\"floor_x_plus_y_in_ints_2\">floor_x_plus_y_in_ints_2:</strong> <span style=\"font-size:20px;\"><a class=\"ProveItLink\" href=\"../__pv_it/demonstrations/6395594dde9afd8f7aee1a29d57d2702734f034c0/expr.ipynb\"><img src=\"data:image/png;base64,iVBORw0KGgoAAAANSUhEUgAAAGcAAAAVBAMAAACphe0AAAAAMFBMVEX///8AAAAAAAAAAAAAAAAA\n",
       "AAAAAAAAAAAAAAAAAAAAAAAAAAAAAAAAAAAAAAAAAAAv3aB7AAAAD3RSTlMAInZUiRDNmWbv3US7\n",
       "qzJazP2FAAAACXBIWXMAAA7EAAAOxAGVKw4bAAABtElEQVQ4y2NgYBBgwAVwyzAZ4JTahMZvm3M+\n",
       "a04DiGXCgNu8BjSBA7IMe3sCGBhYE3BrYkhF1yTCwMN3gYGBHdW0HSi8dkxN7AJAWzhRhY1QeJwB\n",
       "EGeeWrUMoekAA4MZPk1sYGdwJwUgbOINBTqvBMgO0o1zMUDRxKrewBDLwMByAcQRC0By3hszYERk\n",
       "ANkFTJfYF6BoYmGewNDPwMABDqVEhJ8ks36pAunFQCkBjq+8DSiaHgMNucPAANQKBAlIAdERBqJn\n",
       "MzDwMbBDxKtWrZq5atVaICuAU4FhElDmA5DNN2vVqlVroJp4IhogmoChpIAeEPsD+P4BgwBkE+sB\n",
       "JJv4Co5CnAdUIsAagKqpjIEJqIEZ7NMFyPFUJwOkDzEwxGy4ycCCZtNZBh5gyHGALVFC1hQDSlu+\n",
       "DAz2TysZNqNpqmXYD5RkdwDHFjxJHxBn4Gg4zcDwioEhXIm5wgBNU6xTPTA+uDaAI+3OVngqP8hw\n",
       "Jt+AgesBjhThBsRSECa3DzQZwQBHAbYEy5LAOhlIVeBK/gexCXIp8AK9w3gAl6YYbILMTdVAkgdn\n",
       "fmdUwJkHFXGIAwBj9WRTuxoG5AAAAABJRU5ErkJggg==\n",
       "\" style=\"display:inline;vertical-align:middle;\" /></a> <a class=\"ProveItLink\" href=\"../__pv_it/demonstrations/5284773c16be28cf305a13c43a45a5b1b05e95640/proof.ipynb\" style=\"text-decoration: none\">&nbsp;&#x22A2;&nbsp;&nbsp;</a><a class=\"ProveItLink\" href=\"../__pv_it/demonstrations/054b9709aa39b6bd9d30b19b6d6db233d71cbb500/expr.ipynb\"><img src=\"data:image/png;base64,iVBORw0KGgoAAAANSUhEUgAAAGcAAAAVBAMAAACphe0AAAAAMFBMVEX///8AAAAAAAAAAAAAAAAA\n",
       "AAAAAAAAAAAAAAAAAAAAAAAAAAAAAAAAAAAAAAAAAAAv3aB7AAAAD3RSTlMAEGZU7912qzKJmSLN\n",
       "RLs7fb+cAAAACXBIWXMAAA7EAAAOxAGVKw4bAAABaElEQVQ4y2MQZMADuHGIK+HTdAuNb+Pv8zTO\n",
       "iURNeRUMPAwHSNS0ioEhidMAQ9MlvJqqGRgfyGH6yQyrprzQ0AMgWoCBq6GCSE13EuEi7RwLoJrE\n",
       "0iVmGqBoElvEwFgA08R9EGHMQz4BqKYFbGVcASiaJpgwMH2AaeLZANfDPEENGk9MG5g+sisga+Iw\n",
       "WMrA/gCuCWEROMDBmjgYuMBMhqWhoS6hoeEMDIwMbgwsCTBNLaFA8ADMTOa8AJSEBARIAYrzeD8y\n",
       "9DfANMnBLWJ8sI+BgX0DRNP9DYwCKJqAVqfAQ48Vrom9oZqBQR5sk9yFEgZOVJv4ChiewzWxwd3R\n",
       "xQsM8FKwJvvGJQyXUTVxFfB+QsTTYXiA8wgw7LMDa5JKY15kgKqJsTLrN0KT+FuI43n9jrx78uUl\n",
       "7hTBeQApGd18CklGOPITNMHOYRAxwJJg8WfCMIZKBpI1GWVdwKfJJDQMVxY0xSUFAI8xXf62ERHR\n",
       "AAAAAElFTkSuQmCC\n",
       "\" style=\"display:inline;vertical-align:middle;\" /></a></span><br>"
      ],
      "text/plain": [
       "<IPython.core.display.HTML object>"
      ]
     },
     "metadata": {},
     "output_type": "display_data"
    }
   ],
   "source": [
    "floor_x_plus_y_in_ints.proof().disable()\n",
    "floor_x_plus_y_in_ints_2 = floor_x_plus_y.deduce_in_number_set(Integer, assumptions=[InSet(Add(x,y), Real)])"
   ]
  },
  {
   "cell_type": "code",
   "execution_count": 47,
   "metadata": {},
   "outputs": [
    {
     "data": {
      "text/html": [
       "<span style=\"font-size:20px;\"><a class=\"ProveItLink\" href=\"../__pv_it/demonstrations/878c878fa53b7ff2f5f20cfed8028a26df5db3e50/expr.ipynb\"><img src=\"data:image/png;base64,iVBORw0KGgoAAAANSUhEUgAAAHMAAAAXBAMAAADKCG2ZAAAAMFBMVEX///8AAAAAAAAAAAAAAAAA\n",
       "AAAAAAAAAAAAAAAAAAAAAAAAAAAAAAAAAAAAAAAAAAAv3aB7AAAAD3RSTlMAInZUiRDNmWbv3US7\n",
       "qzJazP2FAAAACXBIWXMAAA7EAAAOxAGVKw4bAAABxElEQVQ4y2NgIAuwM5ANeCCUAE4FAgS0Mhng\n",
       "VLAJjd8253zWnAaEVhPczmJqQBM4IMuwtycAppU1AY+XUtG1ijDw8F1gqDlz8syZBgZ2VJN3oPDa\n",
       "MbWyCyTAbOVElTRC4XEGQGidVasS4FoPwLSa4dPKBnHSNlWErbyhF2BaS0D+Vbr6xBlFK6t6A0Ms\n",
       "AwMLSBkDYyqSg9+YCcC0ZoDThq5CFYpWFuYJDP0MDBxgZ7LB4/eAZNYvVXhqWgzEjQz9ATdQtD5m\n",
       "X8Bwh4EBaABIK1IwdYQhvDMbiB8wlIHZVatWzVy1ai2QFcCpwDCJgYHvA0j45SogOADRyhPRgKKV\n",
       "AaQMNZj2B/D9Y2DgBtsag2QrX8FROA/kYAbujwyhqFrLGJiA2pgXgNhcyPFaJwPnHQIG52neCQwO\n",
       "qFrPMvAAQ5cD7EwmBSStMYjU6Qs0+1/4BG4DVK21DPuBStghBibDtYozcDSchvFeAW0tUjBvRvNr\n",
       "rFM9MEq4NkA4pwNgOecgw5l8WFbjeoAjNbkBsRSUveXUKiy5hKMAW/JnSWCdDKQq8JcVB7EJcinw\n",
       "Ar3JeAC/1hhsgsxN1aCUKoBfK6MCTilFvBoBM1tqnVdOlDIAAAAASUVORK5CYII=\n",
       "\" style=\"display:inline;vertical-align:middle;\" /></a> <a class=\"ProveItLink\" href=\"../__pv_it/demonstrations/bee89a2d56b0e301f01a19f3f45a237accb3caa80/proof.ipynb\" style=\"text-decoration: none\">&nbsp;&#x22A2;&nbsp;&nbsp;</a><a class=\"ProveItLink\" href=\"../__pv_it/demonstrations/9063ed7fcdc6b2f20f3f847eb7604c18f9e9f9ab0/expr.ipynb\"><img src=\"data:image/png;base64,iVBORw0KGgoAAAANSUhEUgAAAGgAAAAVBAMAAABYjraNAAAAMFBMVEX///8AAAAAAAAAAAAAAAAA\n",
       "AAAAAAAAAAAAAAAAAAAAAAAAAAAAAAAAAAAAAAAAAAAv3aB7AAAAD3RSTlMAEGZU7912qzKJmSLN\n",
       "RLs7fb+cAAAACXBIWXMAAA7EAAAOxAGVKw4bAAABZklEQVQ4y2MQZMAHNmAXVsKnh3cBCpcx/t1B\n",
       "Bk5/X5I0MfAZXGdgkCfNJgb2aE4FBhYMTZfwa7JjOM3AiqHJDKsmtqehMWBNmxL2EKuJ95gA1KYN\n",
       "FWwToJrE0iVmGqBoYsxSYBCHa9ojAHPeBj6Gt1BNC9jKuAJQNHEyOzDowzWdhvtpA8cCUVGwJqYN\n",
       "TB/ZFVA0NQMNqYNrOoDQxKDM/ASsiYOBCyK8NDTUJTQ0HMgSYElgcINp4nANDQ2Ng2piFyiBBgRQ\n",
       "CVpA3Bfg+AHTxPgAySbGAlGopvsbGAVQNa1hYHOAOy8ASRNDGx9Yk9yFEgZONJueM/AVwDWlwZNR\n",
       "AzDO+sCa7BuXMFxG07Sc4b4CXBMPND4gjDVgTVJpzIsM0DSJT1u/Aa6Jse4imOY47wckZfCkiDlI\n",
       "yYh3HiQZ4chP0ATLeYDRGUuCxZ8JWRPYJ5CsiVltLQMeTSahYbiyIHNoaAJWCQCi7FPso4iIDQAA\n",
       "AABJRU5ErkJggg==\n",
       "\" style=\"display:inline;vertical-align:middle;\" /></a></span>"
      ],
      "text/plain": [
       "{(x + y) in RealPos} |- floor(x + y) in Natural"
      ]
     },
     "metadata": {},
     "output_type": "display_data"
    }
   ],
   "source": [
    "floor_x_plus_y_in_ints_2.proof().disable()\n",
    "floor_x_plus_y.deduce_in_number_set(Natural, assumptions=[InSet(Add(x,y), RealPos)])"
   ]
  },
  {
   "cell_type": "code",
   "execution_count": 48,
   "metadata": {},
   "outputs": [
    {
     "name": "stdout",
     "output_type": "stream",
     "text": [
      "EXCEPTION: the closure theorems do not apply without more constraints.  Prerequisites not met while assuming (): No readily provable number set for x + y\n"
     ]
    }
   ],
   "source": [
    "# If we don't at least know the operand is real-valued,\n",
    "# difficult to know what set(s) the result belongs to \n",
    "try:\n",
    "    floor_x_plus_y.deduce_in_number_set(Integer)\n",
    "except Exception as e:\n",
    "    print(\"EXCEPTION: the closure theorems do not apply without more constraints. \", e)"
   ]
  },
  {
   "cell_type": "markdown",
   "metadata": {},
   "source": [
    "### Round.deduce_in_number_set()"
   ]
  },
  {
   "cell_type": "code",
   "execution_count": 49,
   "metadata": {},
   "outputs": [
    {
     "data": {
      "text/html": [
       "<span style=\"font-size:20px;\"> <a class=\"ProveItLink\" href=\"../__pv_it/demonstrations/56fb3af282d8dbb0200c2ceca7f8198f958c8aec0/proof.ipynb\" style=\"text-decoration: none\">&nbsp;&#x22A2;&nbsp;&nbsp;</a><a class=\"ProveItLink\" href=\"../__pv_it/demonstrations/40c00e4084b7fac372901e5d26f338298c5d7ae80/expr.ipynb\"><img src=\"data:image/png;base64,iVBORw0KGgoAAAANSUhEUgAAAH0AAAAVBAMAAACZCfwhAAAAMFBMVEX///8AAAAAAAAAAAAAAAAA\n",
       "AAAAAAAAAAAAAAAAAAAAAAAAAAAAAAAAAAAAAAAAAAAv3aB7AAAAD3RSTlMAMom7Iplm783dEER2\n",
       "q1TfLoYRAAAACXBIWXMAAA7EAAAOxAGVKw4bAAACTUlEQVQ4y51UTWgTQRT+sj/Zn2y2e5GKB1kV\n",
       "FCGH9SBU/GFBEAKKUkmhByEevIjQ4EEvigtSBA8SCx4iQhf0oIewixcFBTdqL0IlSJBWgg3qvRWL\n",
       "lbZY3+xk0xpoSjOw82bfe9++b943s8AWQ+LGRZ/jIzevu9zPfg35OLAUbg5M3TlHs2lDKty2YBS7\n",
       "wicydegLvSoPtGh6CpyEsALc7YrOuvuBUi/8G5+mEaABXAcudUW/OqqLci/8QTZRhVs+5lwoPve+\n",
       "q1Q8ZhtXJK83fpxtn3JngTkLKm/Ayw/taCNrvWX41D5pmEK56VCfKiLrZ6af5I6RbJ9qfylLtuPk\n",
       "SUCox2p22tCAI4aEF8RhoYR8KC0KZglj9N5E4OKFKy5TFq+aWgXSMWvVXcfv0B8S/pRapiKPgInd\n",
       "chkzeKU5OGvp1yAzgMY0gEa1zbjXKtbx6dZ38u0aoBIyCXnTVyLcgB+EmPfJoTHqSnxAzjMOsdaD\n",
       "FRoOx+NLttSWSXEgrdJK+gnMg1iQIwgTfJptPRPXf7yhPqo66/8oPUEEYZFWxgID47dOjjEk/L9B\n",
       "cmHGWmkb8amIMZlgR60IxcZxiM5lXIW5LAQtzJjUKzGiNBuGj3TM2ogS/CF6auSTVphMdRwGLmDQ\n",
       "tmkLhndRjMwHMrhq+UJhtKPkvQTPFqzFmZjX3inaaDX3o2nRu/65pTf3nKmxrlF0cm3tDzHnV616\n",
       "lJ/DnUtUW/e2vL73k0W+bZ8fqXjbuP6dazPS3+9DbB84yekPrzv/f2fb4zQ37zcJ/wMAd5wuNotp\n",
       "LwAAAABJRU5ErkJggg==\n",
       "\" style=\"display:inline;vertical-align:middle;\" /></a></span>"
      ],
      "text/plain": [
       "|- round(2) in Natural"
      ]
     },
     "metadata": {},
     "output_type": "display_data"
    }
   ],
   "source": [
    "round_2.deduce_in_number_set(Natural)"
   ]
  },
  {
   "cell_type": "code",
   "execution_count": 50,
   "metadata": {},
   "outputs": [
    {
     "data": {
      "text/html": [
       "<span style=\"font-size:20px;\"><a class=\"ProveItLink\" href=\"../../ordering/__pv_it/theorems/d1323f34847310a404e8089c2c268d3c2eb89dbf0/expr.ipynb\"><img src=\"data:image/png;base64,iVBORw0KGgoAAAANSUhEUgAAADQAAAAQBAMAAACra0H4AAAAMFBMVEX///8AAAAAAAAAAAAAAAAA\n",
       "AAAAAAAAAAAAAAAAAAAAAAAAAAAAAAAAAAAAAAAAAAAv3aB7AAAAD3RSTlMAEHarMolUmd1mIs3v\n",
       "RLtmgJDEAAAACXBIWXMAAA7EAAAOxAGVKw4bAAAAyklEQVQY02NgwACce9797nnJgBXwcRnwWj7E\n",
       "IRXA8MAZp1QVN4qQXkfHBrgUH7LMbUUkXYbCQIaQskhoApDm2ohkIMuzXUBGAZMRewOQ5l6AkDrd\n",
       "3yQA9MUCzo/ME0BSSM6InAiylIWBHWw3g08HEDyAGvhwJliMRwFMySE73p1PAMS6v4ARRHMgS7F7\n",
       "AfXLXbBhYAUJMCkgSTE+0GRgyHesYbgGFtmGkCpgmMl3gUFcia0yASwi/FYAFvL/FvC9/oYcHFdf\n",
       "QAIKCgBACzQrtGfvLgAAAABJRU5ErkJggg==\n",
       "\" style=\"display:inline;vertical-align:middle;\" /></a> <a class=\"ProveItLink\" href=\"../__pv_it/demonstrations/780f305bdcc6ed1c934aaf9bc35d05507b6fda6c0/proof.ipynb\" style=\"text-decoration: none\">&nbsp;&#x22A2;&nbsp;&nbsp;</a><a class=\"ProveItLink\" href=\"../__pv_it/axioms/3092db86d9a8a3b1e27b2eeb45fa2be5e9187daa0/expr.ipynb\"><img src=\"data:image/png;base64,iVBORw0KGgoAAAANSUhEUgAAAH4AAAAVBAMAAAByPkciAAAAMFBMVEX///8AAAAAAAAAAAAAAAAA\n",
       "AAAAAAAAAAAAAAAAAAAAAAAAAAAAAAAAAAAAAAAAAAAv3aB7AAAAD3RSTlMAMom7Iplm783dEER2\n",
       "q1TfLoYRAAAACXBIWXMAAA7EAAAOxAGVKw4bAAACS0lEQVQ4y51UTWgTQRT+utnNz2SzzUXEHnRt\n",
       "T2KUgIo/WFkQRA9izEHxIES8iJcWC4J/GPCnIB5CRTAoshK9KclFAgqaHuqpgfqD9pBDKIJ6SgtF\n",
       "IYr47exml1ZNNQMz8968+Wbee9+bAVZoljup6K3pTXeO15YZjPFvV4rbc39H9o1nOM511FfLDx5O\n",
       "Ih/tdnU/rxb5jha1l1q1DPTc5m74l0RovoPhzFJrwkJJpLvhN7BHAvW85/fO4h1nFsDhRLIb/hr7\n",
       "50C97ubxph9H38wqZxxSs3QyVa+IqRwSdrz+MLWbfL2Z/Elrlv1x/cEgU7FJgvYHaQjZuzgqoawy\n",
       "igMVdVExRjFCvYGyhaoVanuXZvSGVgBOSdDVwKG5sMPpvmhBM3EPmFjLXbN4HkvjUFKcheak/j4T\n",
       "Z4XbCXr4SYLyAd5lb6CfNm0euGRHargIu1xBy+ZCzKT1AgN0T8I6GfO5YrF4y6usjYDt0hRJQ/1B\n",
       "SV0AWqAXXOA5Ek+rrL2qzHrAWEml/A44Rrlcg7JISZ93wPgquDAC13/eYAne8UWiCj7+NStAcP+E\n",
       "U2o5REwMI5Q+jTMw2kq5iVmDT4dMlCofoHDPSYma9tnLPGURFaB+d4pxBtuA41htmgxBz58I1Yzb\n",
       "GiRprYGjeOFRyTJu+uzdgLonjbj0aHCK0T5JfWwkqYv3TdFYf3CS62uAR9PGEQd0V8LE22cuvrpj\n",
       "bMvlMXOF5xvzK1T1Io8PufX7by14NVqup/9ja0fY29v/U/rtoP9rqvdv6daf7b8ARYWPKS2lC4UA\n",
       "AAAASUVORK5CYII=\n",
       "\" style=\"display:inline;vertical-align:middle;\" /></a></span>"
      ],
      "text/plain": [
       "{x in Real} |- round(x) in Integer"
      ]
     },
     "metadata": {},
     "output_type": "display_data"
    }
   ],
   "source": [
    "round_x.deduce_in_number_set(Integer, assumptions=[InSet(x, Real)])"
   ]
  },
  {
   "cell_type": "code",
   "execution_count": 51,
   "metadata": {},
   "outputs": [
    {
     "data": {
      "text/html": [
       "<span style=\"font-size:20px;\"><a class=\"ProveItLink\" href=\"../../number_sets/real_numbers/__pv_it/theorems/7697fc34c81296f04a039eeb9dd22e91165d63b70/expr.ipynb\"><img src=\"data:image/png;base64,iVBORw0KGgoAAAANSUhEUgAAAEAAAAATBAMAAADSXRa0AAAAMFBMVEX///8AAAAAAAAAAAAAAAAA\n",
       "AAAAAAAAAAAAAAAAAAAAAAAAAAAAAAAAAAAAAAAAAAAv3aB7AAAAD3RSTlMAEHarMolUmd1mIs3v\n",
       "RLtmgJDEAAAACXBIWXMAAA7EAAAOxAGVKw4bAAAA3UlEQVQoz2NgwAcKGAiAB+Qp4Nzz7nfPS3wm\n",
       "8HEZ8Fo+xKsggOGBMwP7u3fn3r3EpaCKG4sJeh0dG+AK+DAV3FZEMsFQGK5ASFkkNAFIc21EsoLl\n",
       "2S64ggImI/YGIM29AKHgdH+TACwkORdwfmSeAFKA5MjIiRvgPBYGdgjHpwMIHkCteDgTyXE8CmBK\n",
       "Dtmb7nwCCAX3FzCCeBzICti94D6Uu2DDwApiMCkgKWB8oAnj5TvWMFwDs7YhFBQwzOS7AOWJK7FV\n",
       "JoBZwm8FYLH5bwHf62+YcXD1RccGDEEANpdAkzJdUSAAAAAASUVORK5CYII=\n",
       "\" style=\"display:inline;vertical-align:middle;\" /></a> <a class=\"ProveItLink\" href=\"../__pv_it/demonstrations/1412433763aa1e39b2e771cba9560062d66cfd420/proof.ipynb\" style=\"text-decoration: none\">&nbsp;&#x22A2;&nbsp;&nbsp;</a><a class=\"ProveItLink\" href=\"../__pv_it/theorems/e4df6bb9f827a61564505b253a64d76a7eeb2b4b0/expr.ipynb\"><img src=\"data:image/png;base64,iVBORw0KGgoAAAANSUhEUgAAAH8AAAAVBAMAAACd/CwcAAAAMFBMVEX///8AAAAAAAAAAAAAAAAA\n",
       "AAAAAAAAAAAAAAAAAAAAAAAAAAAAAAAAAAAAAAAAAAAv3aB7AAAAD3RSTlMAMom7Iplm783dEER2\n",
       "q1TfLoYRAAAACXBIWXMAAA7EAAAOxAGVKw4bAAACR0lEQVQ4y51UT2jTUBj/NX+a9KXNiiATD1IV\n",
       "FKFIPAjKVHISBoqyw1BQqKAXERs8eFLIRQQPUgceKh4CKqhQErwoKJiqu4iVImXMUSSgnrdhcTBF\n",
       "/F6SpiOwjvWDvu993+v7fX9+3wuwgUixNjGifI71m5T/2a9DDvaueOvfzNw+Tateis18JXV+TGuD\n",
       "LQ2LPRbQ8jQx76SOv5p7AGsYwFuHlunEvJQ6/maoJmrDAPbxZRBCcSL9vl63ue5ckezhALd4C+zE\n",
       "VKMmvPoY251C8R0HyOyWpuio3PLYbAUFR2s9Lh8h9r40/9G/ZOoh+7SwZT8gtENWk1Z0YIgeAQji\n",
       "lGBh0pN6gm6hSnYXromXprgah5XR8s8C2TAZ1RwAbGUPCOC4WqMwD4GZHXIN83idM3CqyK5D5hdy\n",
       "xMRFVJ05qiZsh4oBQDb4Tr7tYzwI8XnTUXzcgON6WHTIkeMToNCgFHEmnIuQ8/E6iREBYKFgxWwp\n",
       "BqS/tJOWgUVQHuRwvRgABEuihRk8WpMBGoyzQOXB9SH0aJdf4rfxm5GjirgEaD08pxJCynJrATI+\n",
       "z2WGD10FSglHIRqXcQ36quAGmNepX6IPNkGJUjnZMPG83wc4QL8m+aQ/nK02DgLnMV4qURV5+4Lo\n",
       "6/dlhNzpy08sLYgYJbnbB+Ab3mgtzGzXLBXbKP/oFslmcwHr7jzZ5J0j65z/8ypPPnp4jYloIret\n",
       "UHRmb/ia7yW7yVi/OFy3N/E5GDyh6dG+J2J/8iRjNABmpJE2Kydi/WGd8/+pDplK7Ng/WQAAAABJ\n",
       "RU5ErkJggg==\n",
       "\" style=\"display:inline;vertical-align:middle;\" /></a></span>"
      ],
      "text/plain": [
       "{x in RealPos} |- round(x) in Natural"
      ]
     },
     "metadata": {},
     "output_type": "display_data"
    }
   ],
   "source": [
    "round_x.deduce_in_number_set(Natural, assumptions=[InSet(x, RealPos)])"
   ]
  },
  {
   "cell_type": "code",
   "execution_count": 52,
   "metadata": {},
   "outputs": [
    {
     "name": "stdout",
     "output_type": "stream",
     "text": [
      "EXCEPTION: the closure theorems do not apply without more constraints.  Prerequisites not met while assuming (): No readily provable number set for x\n"
     ]
    }
   ],
   "source": [
    "# If we don't at least know the operand is real-valued,\n",
    "# difficult to know what set(s) the result belongs to \n",
    "try:\n",
    "    round_x.deduce_in_number_set(Integer)\n",
    "except Exception as e:\n",
    "    print(\"EXCEPTION: the closure theorems do not apply without more constraints. \", e)"
   ]
  },
  {
   "cell_type": "markdown",
   "metadata": {},
   "source": [
    "## Testing the `rounding_elimination()` method\n",
    "<font size=4> Some testing of the `rounding_elimination()` utility method(s), allowing the simplification of `Ceil(x)`, `Floor(x)`, and `Round(x)` to the operand $x$ when we know $x\\in\\mathbb{Z}$.</font>"
   ]
  },
  {
   "cell_type": "code",
   "execution_count": 53,
   "metadata": {},
   "outputs": [
    {
     "data": {
      "text/html": [
       "<a class=\"ProveItLink\" href=\"../__pv_it/demonstrations/0e59f9bd1ae96e9218e87188b5ea6607f0e587780/expr.ipynb\"><img src=\"data:image/png;base64,iVBORw0KGgoAAAANSUhEUgAAABcAAAAVBAMAAABfzGiYAAAAMFBMVEX///8AAAAAAAAAAAAAAAAA\n",
       "AAAAAAAAAAAAAAAAAAAAAAAAAAAAAAAAAAAAAAAAAAAv3aB7AAAAD3RSTlMARN12ZlQimc27Momr\n",
       "7xBJVNCIAAAACXBIWXMAAA7EAAAOxAGVKw4bAAAAcklEQVQY02MQUlJmAAFWJSUHBhcGGGAsAHPY\n",
       "yjsXwDmZDNwf4ZxjDAx34Zz7DxjOJ8A4hxgYzi+AcYBAnwHB4fqMxGE6gMSpRFjKwHIAiRPNwAY3\n",
       "mmsDA/MDGCepvLwIrkz///8fSKYheYEITiicw7UBAEaiI5wa7F/4AAAAAElFTkSuQmCC\n",
       "\" style=\"display:inline;vertical-align:middle;\" /></a>"
      ],
      "text/plain": [
       "ceil(2)"
      ]
     },
     "metadata": {},
     "output_type": "display_data"
    }
   ],
   "source": [
    "ceil_2"
   ]
  },
  {
   "cell_type": "code",
   "execution_count": 54,
   "metadata": {},
   "outputs": [
    {
     "data": {
      "text/html": [
       "<span style=\"font-size:20px;\"> <a class=\"ProveItLink\" href=\"../__pv_it/demonstrations/af325f8cb48202d44154f6425a74fd788a6954090/proof.ipynb\" style=\"text-decoration: none\">&nbsp;&#x22A2;&nbsp;&nbsp;</a><a class=\"ProveItLink\" href=\"../__pv_it/demonstrations/225e494d76b07021d38995c95301512a314464680/expr.ipynb\"><img src=\"data:image/png;base64,iVBORw0KGgoAAAANSUhEUgAAAEAAAAAVBAMAAAAEBPWpAAAAMFBMVEX///8AAAAAAAAAAAAAAAAA\n",
       "AAAAAAAAAAAAAAAAAAAAAAAAAAAAAAAAAAAAAAAAAAAv3aB7AAAAD3RSTlMARN12ZlQimc27Momr\n",
       "7xBJVNCIAAAACXBIWXMAAA7EAAAOxAGVKw4bAAAAsElEQVQoz2MQUlJmAIEgJRUGrMAFzhLHrSC9\n",
       "YhZWBWBxoAK2CQz7BbAogIgDFfAkMPBewKIAIg5UwPuPgecbFgUQcZAJCgw8v7CZABaH+ILpA3Zf\n",
       "AMUhCtYbwBSwK4HBAQaYOESBDo5w0IEGFPsE7ApA4mAFPjhC0gcakqwbGNKwuQEsDlKwmoHBDpsJ\n",
       "YHFQUKuXlytgC2qwOFAB0////xuwKICIExXdNFYQiuwpLAAAmnIt3+UflfYAAAAASUVORK5CYII=\n",
       "\" style=\"display:inline;vertical-align:middle;\" /></a></span>"
      ],
      "text/plain": [
       "|- ceil(2) = 2"
      ]
     },
     "metadata": {},
     "output_type": "display_data"
    }
   ],
   "source": [
    "ceil_2.rounding_elimination()"
   ]
  },
  {
   "cell_type": "code",
   "execution_count": 55,
   "metadata": {},
   "outputs": [
    {
     "data": {
      "text/html": [
       "<a class=\"ProveItLink\" href=\"../__pv_it/demonstrations/5e296efcc2b896d21019b0c54108c61490c5d1130/expr.ipynb\"><img src=\"data:image/png;base64,iVBORw0KGgoAAAANSUhEUgAAAD0AAAAVBAMAAAAHs/uBAAAAMFBMVEX///8AAAAAAAAAAAAAAAAA\n",
       "AAAAAAAAAAAAAAAAAAAAAAAAAAAAAAAAAAAAAAAAAAAv3aB7AAAAD3RSTlMARN12ZlQQqzKJmSLN\n",
       "77vFPH07AAAACXBIWXMAAA7EAAAOxAGVKw4bAAAAtElEQVQoz2MQUlJmwAFYlZQcGFwY8ADGBUNC\n",
       "ns24rHMqigSblQNDOlyei8HcYBGKPCfrBQZ/uLw3g39CCYp8K5cCQx1cvoFhDVg0RwkENICsBF4D\n",
       "hstI7ruM7jL5BI4fCHnG3wxpqPJrGJgvwOTZHrJfYJiAKv+cga8AJs/6I+sCYwCq/HIGeQe4/sUG\n",
       "Ua5o9qdPXr8Bf/jNwRe+nAfYruKTZzJgn4BPntV5ITR+QvHFH8cEAD3fMm2LAWLRAAAAAElFTkSu\n",
       "QmCC\n",
       "\" style=\"display:inline;vertical-align:middle;\" /></a>"
      ],
      "text/plain": [
       "ceil(x - y)"
      ]
     },
     "metadata": {},
     "output_type": "display_data"
    }
   ],
   "source": [
    "ceil_x_minus_y"
   ]
  },
  {
   "cell_type": "code",
   "execution_count": 56,
   "metadata": {},
   "outputs": [
    {
     "data": {
      "text/html": [
       "<span style=\"font-size:20px;\"><a class=\"ProveItLink\" href=\"../__pv_it/theorems/e7ea3ade6561bbbb858c02aa3be91f7305b5ebb50/expr.ipynb\"><img src=\"data:image/png;base64,iVBORw0KGgoAAAANSUhEUgAAADMAAAAQBAMAAABJt1qBAAAAMFBMVEX///8AAAAAAAAAAAAAAAAA\n",
       "AAAAAAAAAAAAAAAAAAAAAAAAAAAAAAAAAAAAAAAAAAAv3aB7AAAAD3RSTlMAEHarMolUmd1mIs3v\n",
       "RLtmgJDEAAAACXBIWXMAAA7EAAAOxAGVKw4bAAAA3UlEQVQY02NgwATZ50+/6DvJgA3omTBwM2zA\n",
       "KlXOwKDJmoBVyoqB8YEcqhDTi45uEC3AwO5ggiLDu0kAxnRmKQBRQsoioWCDV8NlGB7ygdkFTEbs\n",
       "DSDGLrgMW8AkEMW5gPMj8wQQC+FcqNNZGNghYiwnOjo6+sBMNdYLDIwgBo8CmM/4AKaJ8cE6Bgbm\n",
       "BUDW/QWMYEsbYFLMDlYMDPIMDHIXbBhYwSJKMCl3XqDTLRgY8h1rGK5BLIeFzUNuAYZ1eQwM4kps\n",
       "lRAxRruLEK+f2/PuzZ+nqMERBwkoKAAA5a8vMuYfrScAAAAASUVORK5CYII=\n",
       "\" style=\"display:inline;vertical-align:middle;\" /></a>, <a class=\"ProveItLink\" href=\"../__pv_it/demonstrations/1a5270d7d3401e3ec902ebbf86bec5c78898bba20/expr.ipynb\"><img src=\"data:image/png;base64,iVBORw0KGgoAAAANSUhEUgAAADIAAAATBAMAAAAg4UMRAAAAMFBMVEX///8AAAAAAAAAAAAAAAAA\n",
       "AAAAAAAAAAAAAAAAAAAAAAAAAAAAAAAAAAAAAAAAAAAv3aB7AAAAD3RSTlMAEHaZZquJVO8y3btE\n",
       "zSKD2s2pAAAACXBIWXMAAA7EAAAOxAGVKw4bAAAA8klEQVQY02NgwADsN37cXrXDAVOCgWnrBIYL\n",
       "vFgkGJgNGJgc0rHJsD5gkGbcgGLKrlVrQTQjA4Ml6wQkCZ5LAjAmZ8BkkAplBwZREPctXIKBW2Aj\n",
       "kGRjb2DwB3HvIbSXsSgAyenMCxiiQdwLCBmImwU4FBiaQGZ3rVq1ajXEKQU5QHEGhvMCnD9B9iHc\n",
       "Kc0HZMcxMNgyMDWA+AvgMpFAHzF+YGDYysAdAOIrwd1scBjoXaBCU4bz4NDjLYC7+SID33aggaJJ\n",
       "9g/AXo8+CJE5sbd7d393AoiZCw2EbEjowADbBcZ2BqyAS4E1AbsMu5MNdgkA2cc0b5s0PBoAAAAA\n",
       "SUVORK5CYII=\n",
       "\" style=\"display:inline;vertical-align:middle;\" /></a> <a class=\"ProveItLink\" href=\"../__pv_it/demonstrations/e3bc1d762aacdc49a183e469634ace4a0475c0820/proof.ipynb\" style=\"text-decoration: none\">&nbsp;&#x22A2;&nbsp;&nbsp;</a><a class=\"ProveItLink\" href=\"../__pv_it/demonstrations/54722cc644862c4fe0959d62b53e3f2196d5a1690/expr.ipynb\"><img src=\"data:image/png;base64,iVBORw0KGgoAAAANSUhEUgAAAJoAAAAVBAMAAABMN+opAAAAMFBMVEX///8AAAAAAAAAAAAAAAAA\n",
       "AAAAAAAAAAAAAAAAAAAAAAAAAAAAAAAAAAAAAAAAAAAv3aB7AAAAD3RSTlMARN12ZlQQqzKJmSLN\n",
       "77vFPH07AAAACXBIWXMAAA7EAAAOxAGVKw4bAAABzklEQVQ4y5WUz0sCQRTHv/7YVdcMCTqGZggd\n",
       "FwwEIRCqU5ESdSiSFoQMKRGKwEMhQUEnhQgJOpgJERjtXxAS/QGG1Lno0KFLhxDBS+NYh1lnhB3Y\n",
       "nWHm+z7vMW/ew0hgAoIhBQLR/l1dJHeTbxYDhqXct2WLC8WqedqqWD1lmibXxeohzSxNiYrV9rJZ\n",
       "mmeQ/NUsbX2Q/InS5ND+6Tl7PZEoUjzaLfmS4a0LNrPJKuQsUKI0BWG1why7pAZi/zQlQEe25x4o\n",
       "23YVPyMvJmD/BhYobR4xbY85PibyQ15sQXLZur3lYJLhjFfgeAMSlJZHje5u0xgmyUrzqGjyaM/E\n",
       "Fgp9JvIjlefJimiJAQp/WWgarXyasy2ggVqy2WqhQKhjPZqlg032vAZbg3dvQepKlzX2FdYxTaal\n",
       "Lk1+dzRQZGmfGM7yYvsAMt4DuNhdov0k02KXJrXTDYuhmG/gi/JoJWDj5A6jhgrJWn7o8+nGdq2u\n",
       "zRmsUmf3Oo92BKRDUtXgW85FOmQaF9fCJbcWrHm+2kXS7PYLaK66/MKl2ct8zztx2hH4NKvqKPL7\n",
       "2xdPPoEc+T+I+ps0cyXolhmefDni7TlaGdQUnMX+7q+KxDYdv/wyZ/u3EnCgAAAAAElFTkSuQmCC\n",
       "\" style=\"display:inline;vertical-align:middle;\" /></a></span>"
      ],
      "text/plain": [
       "{x in Integer, y in Integer} |- ceil(x - y) = (x - y)"
      ]
     },
     "metadata": {},
     "output_type": "display_data"
    }
   ],
   "source": [
    "ceil_x_minus_y.rounding_elimination(assumptions=[InSet(x, Integer), InSet(y, Integer)])"
   ]
  },
  {
   "cell_type": "code",
   "execution_count": 57,
   "metadata": {},
   "outputs": [
    {
     "data": {
      "text/html": [
       "<a class=\"ProveItLink\" href=\"../__pv_it/demonstrations/7530ee1d53014472c5afc104cebb108542505de90/expr.ipynb\"><img src=\"data:image/png;base64,iVBORw0KGgoAAAANSUhEUgAAAHAAAAAVBAMAAABs93eRAAAAMFBMVEX///8AAAAAAAAAAAAAAAAA\n",
       "AAAAAAAAAAAAAAAAAAAAAAAAAAAAAAAAAAAAAAAAAAAv3aB7AAAAD3RSTlMARN12ZlQiiRDNme+7\n",
       "qzJmaQM3AAAACXBIWXMAAA7EAAAOxAGVKw4bAAABmElEQVQ4y33Tv0vDQBQH8G/Spo1JU4puLg2n\n",
       "k2IJiCKCEPDHUJAWwcWpKDg4FcTByYxWKGR09cfSghgU9/oHKA4ODg4u0tFOxan1kpi0Fy55EC55\n",
       "ySe53L2HSTIDIIO4qPGSO2QWG97ZUiyc4qenfSjVY2HKjCSOWq8j2EB8XLKXmQ7OCiG8TYDl/1Hw\n",
       "P63VoDohdBKgavmjZPiXv9D6AZTsBDhhMlDToQ0CqNC1kRc/uieMkFdNNIHsGwNpiL0Aui9VsGZc\n",
       "MzArOagAaTsKf4wAilVgCxXrnYHfio5PCpwoXAi3Q6Xr+4WWl20QN0r0zFINPAL5nvszhMw/EOLN\n",
       "WukwEO5DbBStPF0GIfrF7VHluFOF0Mc5C1tIUSTpLKRVdhjAnAH5WXMQKbwX5Ojc0h0WdoGVANIV\n",
       "lwYXjlBl4R2Kpr9XYzAz127rAczrkG+Mvc3IPzaP72lTiQUGisPh0A5LrhRTNaf02Ed0O8baqsxT\n",
       "WVt+GmsAweTAHK/PRUOre22U0Mgy7660fhX3ThfueuNBbHMs89PdPx6wU6cl7fVbAAAAAElFTkSu\n",
       "QmCC\n",
       "\" style=\"display:inline;vertical-align:middle;\" /></a>"
      ],
      "text/plain": [
       "ceil((x - y) + 2)"
      ]
     },
     "metadata": {},
     "output_type": "display_data"
    }
   ],
   "source": [
    "ceil_x_minus_y_plus_2"
   ]
  },
  {
   "cell_type": "code",
   "execution_count": 58,
   "metadata": {},
   "outputs": [
    {
     "data": {
      "text/html": [
       "<span style=\"font-size:20px;\"><a class=\"ProveItLink\" href=\"../__pv_it/theorems/e7ea3ade6561bbbb858c02aa3be91f7305b5ebb50/expr.ipynb\"><img src=\"data:image/png;base64,iVBORw0KGgoAAAANSUhEUgAAADMAAAAQBAMAAABJt1qBAAAAMFBMVEX///8AAAAAAAAAAAAAAAAA\n",
       "AAAAAAAAAAAAAAAAAAAAAAAAAAAAAAAAAAAAAAAAAAAv3aB7AAAAD3RSTlMAEHarMolUmd1mIs3v\n",
       "RLtmgJDEAAAACXBIWXMAAA7EAAAOxAGVKw4bAAAA3UlEQVQY02NgwATZ50+/6DvJgA3omTBwM2zA\n",
       "KlXOwKDJmoBVyoqB8YEcqhDTi45uEC3AwO5ggiLDu0kAxnRmKQBRQsoioWCDV8NlGB7ygdkFTEbs\n",
       "DSDGLrgMW8AkEMW5gPMj8wQQC+FcqNNZGNghYiwnOjo6+sBMNdYLDIwgBo8CmM/4AKaJ8cE6Bgbm\n",
       "BUDW/QWMYEsbYFLMDlYMDPIMDHIXbBhYwSJKMCl3XqDTLRgY8h1rGK5BLIeFzUNuAYZ1eQwM4kps\n",
       "lRAxRruLEK+f2/PuzZ+nqMERBwkoKAAA5a8vMuYfrScAAAAASUVORK5CYII=\n",
       "\" style=\"display:inline;vertical-align:middle;\" /></a>, <a class=\"ProveItLink\" href=\"../__pv_it/demonstrations/1a5270d7d3401e3ec902ebbf86bec5c78898bba20/expr.ipynb\"><img src=\"data:image/png;base64,iVBORw0KGgoAAAANSUhEUgAAADIAAAATBAMAAAAg4UMRAAAAMFBMVEX///8AAAAAAAAAAAAAAAAA\n",
       "AAAAAAAAAAAAAAAAAAAAAAAAAAAAAAAAAAAAAAAAAAAv3aB7AAAAD3RSTlMAEHaZZquJVO8y3btE\n",
       "zSKD2s2pAAAACXBIWXMAAA7EAAAOxAGVKw4bAAAA8klEQVQY02NgwADsN37cXrXDAVOCgWnrBIYL\n",
       "vFgkGJgNGJgc0rHJsD5gkGbcgGLKrlVrQTQjA4Ml6wQkCZ5LAjAmZ8BkkAplBwZREPctXIKBW2Aj\n",
       "kGRjb2DwB3HvIbSXsSgAyenMCxiiQdwLCBmImwU4FBiaQGZ3rVq1ajXEKQU5QHEGhvMCnD9B9iHc\n",
       "Kc0HZMcxMNgyMDWA+AvgMpFAHzF+YGDYysAdAOIrwd1scBjoXaBCU4bz4NDjLYC7+SID33aggaJJ\n",
       "9g/AXo8+CJE5sbd7d393AoiZCw2EbEjowADbBcZ2BqyAS4E1AbsMu5MNdgkA2cc0b5s0PBoAAAAA\n",
       "SUVORK5CYII=\n",
       "\" style=\"display:inline;vertical-align:middle;\" /></a> <a class=\"ProveItLink\" href=\"../__pv_it/demonstrations/3ce1b737863d9ee49858d75ee84c451c1e3028570/proof.ipynb\" style=\"text-decoration: none\">&nbsp;&#x22A2;&nbsp;&nbsp;</a><a class=\"ProveItLink\" href=\"../__pv_it/demonstrations/13273b9726352ce23e3afc2f39253956a4c2e6f20/expr.ipynb\"><img src=\"data:image/png;base64,iVBORw0KGgoAAAANSUhEUgAAAQAAAAAVBAMAAABbMC3JAAAAMFBMVEX///8AAAAAAAAAAAAAAAAA\n",
       "AAAAAAAAAAAAAAAAAAAAAAAAAAAAAAAAAAAAAAAAAAAv3aB7AAAAD3RSTlMARN12ZlQiiRDNme+7\n",
       "qzJmaQM3AAAACXBIWXMAAA7EAAAOxAGVKw4bAAADNElEQVRIx42WTWgTQRTH//nYZE26IWg99dC4\n",
       "xYuiXaiKVAoBq2BRGvygaA8uCh6kh4CIeBADvWhtJYgHDx5qLEijYrQIQg9GBG+VoGIFhQZB6q0V\n",
       "pdRL47zZjexMZqoPXifdmfnPb97MmxlstLsAuNBYTPXRsO2sumlMp6MegZr3049ITtcv5Kg/T7Z+\n",
       "2+272jbp1DnAkLYfdsnQ5bt1JYCR91xjETlm56ffcnUCMIt6gA0F8f8RxH8oAa77rrM70kSquJom\n",
       "dQJIZPX9os2h2r3iIzCrBJjyXWcDzbB7g1kukhVSJ4DkOv3wwi+PecXLAhZcFUDFd50l/VAa3q5K\n",
       "rsJaIXUCOLkewG0R4B2wUFcAGEXP9WuZFQCsDKw1UieAB8xH+25eEnNhdApmDbgiAjDrVi1BIu+5\n",
       "2fNp8aJQY/ZmMQHEawIAs/Ayqff7k5yMvE9khI75YURZk0MyQOrnX4CSTbajOUHyBPqckqATNyoY\n",
       "ZJupKAMsOaROAFtZtRtdtYS9mMqVYFWBYRkgXFNFIJzz/CAGCx+Emm9sYl/YwBUZgMCHOcBTNhwS\n",
       "nNC8xSfFUt3EDJKs8ZI/1Vl/qnikPIiSac/rmPaykuvsZL8KTGWGjbBMC2Xb25/ZNl+NRJWi0AQA\n",
       "H0w8plaxxEA6pAhEa+sCgAYTrbOQYtstJEfgCP3paC4Ba+aa4pnDQrKPFUclgCHEXMUeaC4BQiu4\n",
       "JgJMI8IGNzIiADs1z5E6AbwGxtOfERf7tdUwx4rDIkAqj0hBEYE2h7v5yqpAOpDnSArRqgiwCOwl\n",
       "dQJgmXb6+0NslhKrFvrl52gA4Ey5XFItAWUZc2NtrBKSrrbH6Mx6ORoAiG0rlzOkTgBfgbEeY0rq\n",
       "Z873sqMKW0SA7kbjtwogleFu3ndOHZCqJi48YZdxOC0AhBuNRpHUCSBcVx9ecdYilmk5iNTX8U7f\n",
       "VXaZQgc5DcHV+4MXjtTrRi5wUbX/A2AgcOFI0zCfBy6qUPC0Yer8PfBG1bEL8/z6/c8HSZvreYuF\n",
       "HSvPr1+FjfgPknFV5fHetI5NBWBWPW99qey/Bw0bqZ/gS+FoHzLq12JK8fQ567va9mjU/wCYcMAc\n",
       "0hZMWgAAAABJRU5ErkJggg==\n",
       "\" style=\"display:inline;vertical-align:middle;\" /></a></span>"
      ],
      "text/plain": [
       "{x in Integer, y in Integer} |- ceil((x - y) + 2) = ((x - y) + 2)"
      ]
     },
     "metadata": {},
     "output_type": "display_data"
    }
   ],
   "source": [
    "ceil_x_minus_y_plus_2.rounding_elimination(assumptions=[InSet(x, Integer), InSet(y, Integer)])"
   ]
  },
  {
   "cell_type": "code",
   "execution_count": 59,
   "metadata": {},
   "outputs": [
    {
     "data": {
      "text/html": [
       "<span style=\"font-size:20px;\"> <a class=\"ProveItLink\" href=\"../__pv_it/demonstrations/0cb70ff66c6b3c7daefd6331ae0b75f535872c670/proof.ipynb\" style=\"text-decoration: none\">&nbsp;&#x22A2;&nbsp;&nbsp;</a><a class=\"ProveItLink\" href=\"../__pv_it/demonstrations/ba61e9f5f321c33aafbf8c954b9366cba0ca99420/expr.ipynb\"><img src=\"data:image/png;base64,iVBORw0KGgoAAAANSUhEUgAAAEAAAAAVBAMAAAAEBPWpAAAAMFBMVEX///8AAAAAAAAAAAAAAAAA\n",
       "AAAAAAAAAAAAAAAAAAAAAAAAAAAAAAAAAAAAAAAAAAAv3aB7AAAAD3RSTlMAEGZU7912IpnNuzKJ\n",
       "RKsnUPAAAAAACXBIWXMAAA7EAAAOxAGVKw4bAAAAsElEQVQoz2MQZIABdgasQAnOuoFbQUXnaqwK\n",
       "wOJABewLGM5fwKIAIg5UwFfAwOKARQFEHKiA5SMD33csCiDiIBMCGPh+YzMBLA7xBesH7L4AikMU\n",
       "7E+AKeAIBYMHDDBxiII4HOEQBw0ojgXYFYDEwQr0cISkHjQkmQ8wlGNzA1gcpGAPA0MiNhPA4qCg\n",
       "jujoCMAW1GBxoALW////T8CiACJOVHTTWIFJaBiYNoXS6AAAK5pAPG/IEPEAAAAASUVORK5CYII=\n",
       "\" style=\"display:inline;vertical-align:middle;\" /></a></span>"
      ],
      "text/plain": [
       "|- floor(2) = 2"
      ]
     },
     "metadata": {},
     "output_type": "display_data"
    }
   ],
   "source": [
    "floor_2.rounding_elimination()"
   ]
  },
  {
   "cell_type": "code",
   "execution_count": 60,
   "metadata": {},
   "outputs": [
    {
     "data": {
      "text/html": [
       "<span style=\"font-size:20px;\"><a class=\"ProveItLink\" href=\"../__pv_it/theorems/e7ea3ade6561bbbb858c02aa3be91f7305b5ebb50/expr.ipynb\"><img src=\"data:image/png;base64,iVBORw0KGgoAAAANSUhEUgAAADMAAAAQBAMAAABJt1qBAAAAMFBMVEX///8AAAAAAAAAAAAAAAAA\n",
       "AAAAAAAAAAAAAAAAAAAAAAAAAAAAAAAAAAAAAAAAAAAv3aB7AAAAD3RSTlMAEHarMolUmd1mIs3v\n",
       "RLtmgJDEAAAACXBIWXMAAA7EAAAOxAGVKw4bAAAA3UlEQVQY02NgwATZ50+/6DvJgA3omTBwM2zA\n",
       "KlXOwKDJmoBVyoqB8YEcqhDTi45uEC3AwO5ggiLDu0kAxnRmKQBRQsoioWCDV8NlGB7ygdkFTEbs\n",
       "DSDGLrgMW8AkEMW5gPMj8wQQC+FcqNNZGNghYiwnOjo6+sBMNdYLDIwgBo8CmM/4AKaJ8cE6Bgbm\n",
       "BUDW/QWMYEsbYFLMDlYMDPIMDHIXbBhYwSJKMCl3XqDTLRgY8h1rGK5BLIeFzUNuAYZ1eQwM4kps\n",
       "lRAxRruLEK+f2/PuzZ+nqMERBwkoKAAA5a8vMuYfrScAAAAASUVORK5CYII=\n",
       "\" style=\"display:inline;vertical-align:middle;\" /></a>, <a class=\"ProveItLink\" href=\"../__pv_it/demonstrations/1a5270d7d3401e3ec902ebbf86bec5c78898bba20/expr.ipynb\"><img src=\"data:image/png;base64,iVBORw0KGgoAAAANSUhEUgAAADIAAAATBAMAAAAg4UMRAAAAMFBMVEX///8AAAAAAAAAAAAAAAAA\n",
       "AAAAAAAAAAAAAAAAAAAAAAAAAAAAAAAAAAAAAAAAAAAv3aB7AAAAD3RSTlMAEHaZZquJVO8y3btE\n",
       "zSKD2s2pAAAACXBIWXMAAA7EAAAOxAGVKw4bAAAA8klEQVQY02NgwADsN37cXrXDAVOCgWnrBIYL\n",
       "vFgkGJgNGJgc0rHJsD5gkGbcgGLKrlVrQTQjA4Ml6wQkCZ5LAjAmZ8BkkAplBwZREPctXIKBW2Aj\n",
       "kGRjb2DwB3HvIbSXsSgAyenMCxiiQdwLCBmImwU4FBiaQGZ3rVq1ajXEKQU5QHEGhvMCnD9B9iHc\n",
       "Kc0HZMcxMNgyMDWA+AvgMpFAHzF+YGDYysAdAOIrwd1scBjoXaBCU4bz4NDjLYC7+SID33aggaJJ\n",
       "9g/AXo8+CJE5sbd7d393AoiZCw2EbEjowADbBcZ2BqyAS4E1AbsMu5MNdgkA2cc0b5s0PBoAAAAA\n",
       "SUVORK5CYII=\n",
       "\" style=\"display:inline;vertical-align:middle;\" /></a> <a class=\"ProveItLink\" href=\"../__pv_it/demonstrations/078e185da4b562ee03f6d75f9c05e65d97e1784c0/proof.ipynb\" style=\"text-decoration: none\">&nbsp;&#x22A2;&nbsp;&nbsp;</a><a class=\"ProveItLink\" href=\"../__pv_it/demonstrations/2aff24630512bd9a6e5faca773845af2bd1457f80/expr.ipynb\"><img src=\"data:image/png;base64,iVBORw0KGgoAAAANSUhEUgAAAJoAAAAVBAMAAABMN+opAAAAMFBMVEX///8AAAAAAAAAAAAAAAAA\n",
       "AAAAAAAAAAAAAAAAAAAAAAAAAAAAAAAAAAAAAAAAAAAv3aB7AAAAD3RSTlMAEGZU7912qzKJmSLN\n",
       "RLs7fb+cAAAACXBIWXMAAA7EAAAOxAGVKw4bAAAB30lEQVQ4y5XU3yuDURgH8O/Zy368vHqVRi7W\n",
       "otwQbxpFyuTHnVrxcqXeJGpXI6ndaJILV1bKUrtYMlLk/Qu0/AXCPVdcSOFKuXF2RnnmnLFT787e\n",
       "d8/5nGfnvOdBIyo191+PSq2OX22VMCP365HXUgY71WsD6uj5qjVWUEfXm+Xa9R+aHia/kztPrlzr\n",
       "/0OrIXeaQ25HqtWGKmmXQmOLy9u7RGPxMJpl2gm/gkst+xbRggdgCSAjNB1LTp5oAS2Knm9Nt0VL\n",
       "lKYHct41PUa0dASeF6BLaJ3oMVeItsnD12W5TfHFdj2vvvBPzW/l4bsHIkJL4VQ8zdv2mG3P8m9m\n",
       "jYMJmTbJx0IvfKU8PS5SZjyWD8DO1y5MlO/Cnel/V2gQI8k/NV6xkwJuS5rxgUaqncIbla3blJjK\n",
       "ZSbReLILvOsrauzZF0Waao9oSMhyewBCV6sI0Nx47CPvuoua9t4aNSyqHeMuLNMywPDGIW6opieM\n",
       "N/H6FHM7cgbby9atee/clWlbQOuidmBRjSXjH7ybU5+FrPQs1KbkZyHAt7kupjj1gQIblWqenOzU\n",
       "Z9FkiYogr0i1ji8tr29PsvAZJPnnhaq+aR1nimoZkoX3xq9KE0XsGVX102zb+V39HVW418UnN3pv\n",
       "I+duTzcAAAAASUVORK5CYII=\n",
       "\" style=\"display:inline;vertical-align:middle;\" /></a></span>"
      ],
      "text/plain": [
       "{x in Integer, y in Integer} |- floor(x + y) = (x + y)"
      ]
     },
     "metadata": {},
     "output_type": "display_data"
    }
   ],
   "source": [
    "floor_x_plus_y.rounding_elimination(assumptions=[InSet(x, Integer), InSet(y, Integer)])"
   ]
  },
  {
   "cell_type": "code",
   "execution_count": 61,
   "metadata": {},
   "outputs": [
    {
     "data": {
      "text/html": [
       "<span style=\"font-size:20px;\"> <a class=\"ProveItLink\" href=\"../__pv_it/demonstrations/b73193753a5ef1ee28f2f22f06d6f99298a1c47e0/proof.ipynb\" style=\"text-decoration: none\">&nbsp;&#x22A2;&nbsp;&nbsp;</a><a class=\"ProveItLink\" href=\"../__pv_it/demonstrations/928007b9601ae24767a2eca5dde14192e7d904ea0/expr.ipynb\"><img src=\"data:image/png;base64,iVBORw0KGgoAAAANSUhEUgAAAHsAAAAVBAMAAACUF4xmAAAAMFBMVEX///8AAAAAAAAAAAAAAAAA\n",
       "AAAAAAAAAAAAAAAAAAAAAAAAAAAAAAAAAAAAAAAAAAAv3aB7AAAAD3RSTlMAMom7Iplm783dEER2\n",
       "q1TfLoYRAAAACXBIWXMAAA7EAAAOxAGVKw4bAAAB7UlEQVQ4y52TP2gTcRTHP7k/ueYSr9kEBzl1\n",
       "EjLc4qZwIBQKitKSQgYhDi4uDQ51UQyICE6x0EGo9AYHF7nbHBRMwY6VIiIVAg3i3ghFpJbW97tf\n",
       "E/FiLM0X7vfn+977fd+79/vBEbD0FDIePujp7XHjco+vy+j5WNWHZUr1obQU/R9MdmV4CZcxfsGT\n",
       "rFnTo/EukmEOPsFduJU1a3o0zquhAQ8itkKcKGPW9Gg8UqU34QtslZnIFq/p3DlrRiyV9cRdq3Mi\n",
       "Kq6/qFyUH/NxdV98bD91XQFjY1hA0eaM0WA6sXYMr8G87DvEIa9Dc1cctGZuD/JNtao9U3h+2Buh\n",
       "pyZaIrEMi6ftFpu8KQRcK7sL2Mq/oP4+BVGWs7NQ9KlJEbB7cD9y2twjihO2IyEKKm8nUX6zSqo3\n",
       "FD7b748TYO3JyvoO20gOQsRJPzyvyi4Oqac0NfniNsaOrEo9FcsPV4h5+sl/xQrxWtnaU5pFdcHq\n",
       "OD6XMIPb3MHbNeIum54Yzbak7VOKyAfZS53Slrp59gYX4AYnfV/yLzVvmm1vyUa3a7parQ1a+Aea\n",
       "LqZJnV2TIl9VvnXKsnc/d93OmaurSkKsKwcHP6WMJNv0lD4CTwdiYz33wUuZGyvcPHwVVjBWuBv8\n",
       "fcxxcUVP7/9t/Q15uIj2+NOO0QAAAABJRU5ErkJggg==\n",
       "\" style=\"display:inline;vertical-align:middle;\" /></a></span>"
      ],
      "text/plain": [
       "|- round(2) = 2"
      ]
     },
     "metadata": {},
     "output_type": "display_data"
    }
   ],
   "source": [
    "round_2.rounding_elimination()"
   ]
  },
  {
   "cell_type": "code",
   "execution_count": 62,
   "metadata": {},
   "outputs": [
    {
     "data": {
      "text/html": [
       "<span style=\"font-size:20px;\"><a class=\"ProveItLink\" href=\"../__pv_it/theorems/e7ea3ade6561bbbb858c02aa3be91f7305b5ebb50/expr.ipynb\"><img src=\"data:image/png;base64,iVBORw0KGgoAAAANSUhEUgAAADMAAAAQBAMAAABJt1qBAAAAMFBMVEX///8AAAAAAAAAAAAAAAAA\n",
       "AAAAAAAAAAAAAAAAAAAAAAAAAAAAAAAAAAAAAAAAAAAv3aB7AAAAD3RSTlMAEHarMolUmd1mIs3v\n",
       "RLtmgJDEAAAACXBIWXMAAA7EAAAOxAGVKw4bAAAA3UlEQVQY02NgwATZ50+/6DvJgA3omTBwM2zA\n",
       "KlXOwKDJmoBVyoqB8YEcqhDTi45uEC3AwO5ggiLDu0kAxnRmKQBRQsoioWCDV8NlGB7ygdkFTEbs\n",
       "DSDGLrgMW8AkEMW5gPMj8wQQC+FcqNNZGNghYiwnOjo6+sBMNdYLDIwgBo8CmM/4AKaJ8cE6Bgbm\n",
       "BUDW/QWMYEsbYFLMDlYMDPIMDHIXbBhYwSJKMCl3XqDTLRgY8h1rGK5BLIeFzUNuAYZ1eQwM4kps\n",
       "lRAxRruLEK+f2/PuzZ+nqMERBwkoKAAA5a8vMuYfrScAAAAASUVORK5CYII=\n",
       "\" style=\"display:inline;vertical-align:middle;\" /></a> <a class=\"ProveItLink\" href=\"../__pv_it/demonstrations/b446d9f93d1d981fa0b6f630fdbae78a7c390d510/proof.ipynb\" style=\"text-decoration: none\">&nbsp;&#x22A2;&nbsp;&nbsp;</a><a class=\"ProveItLink\" href=\"../__pv_it/theorems/1465f80400cd6fb54baa170b6133a9e94ecb8fc90/expr.ipynb\"><img src=\"data:image/png;base64,iVBORw0KGgoAAAANSUhEUgAAAH0AAAAVBAMAAACZCfwhAAAAMFBMVEX///8AAAAAAAAAAAAAAAAA\n",
       "AAAAAAAAAAAAAAAAAAAAAAAAAAAAAAAAAAAAAAAAAAAv3aB7AAAAD3RSTlMAMom7Iplm783dEER2\n",
       "q1TfLoYRAAAACXBIWXMAAA7EAAAOxAGVKw4bAAAB3ElEQVQ4y2NgIAAcIBQLA3mA5wGE5j5Aqk7G\n",
       "9gAg+QjGPUay1fxAq7kaYDyOBaTq3w/UwZoA47EFkKpfE4jZEdwqUvW3AvELBLcNRzApswQBHalz\n",
       "dgPX0QQG3gXcZ5fo2ADj69LBf0DZICBec3ahEjAodNF1QsSZmIOYChg8N7B8YeIrYMgH8u8wrHdg\n",
       "2O7A/AtqaQDPHdYJDAwZID2sM8HgAgNc3I1jAqsCwxwGhklyQN4Nht2cBgz+AlxlDKygoJ8HDDgH\n",
       "tl+8QBc+R7MeKi7FD5Rj/cDAULuA/QBDDcOC9RsY3i8ACnAqABVVAz0IMYlBHt3jUHFQNLEbMLD8\n",
       "AbJYPjIwvGcAugIoADQHrB8oC0572zGCDiIeCcTrDzAwfQGyeD6ANDN84wIK5DNA3A+0wYELaMdL\n",
       "dP9DxSeBkloCA7sCgy0Ds0EWQxED3y+m9Q8YbvABsw4wJhZvuM7ABFSTjGY7VJzlN8jYCwymDAyx\n",
       "DOIKCkAv8DQkMh/gm8rKAI6091LhDPugUYkMoOLcE0AcpaNA367VeXJHAMjnuvaA646i70GguCQD\n",
       "w9IzfGGgTDgbTT9MHC/gFICxWCaQk/0RuQaRk0gCJjCGM3nlz2IMg0gDLNByi8cBuzwAcy2FpAfW\n",
       "zI0AAAAASUVORK5CYII=\n",
       "\" style=\"display:inline;vertical-align:middle;\" /></a></span>"
      ],
      "text/plain": [
       "{x in Integer} |- round(x) = x"
      ]
     },
     "metadata": {},
     "output_type": "display_data"
    }
   ],
   "source": [
    "round_x.rounding_elimination(assumptions=[InSet(x, Integer)])"
   ]
  },
  {
   "cell_type": "code",
   "execution_count": 63,
   "metadata": {},
   "outputs": [
    {
     "data": {
      "text/html": [
       "<span style=\"font-size:20px;\"><a class=\"ProveItLink\" href=\"../__pv_it/theorems/e7ea3ade6561bbbb858c02aa3be91f7305b5ebb50/expr.ipynb\"><img src=\"data:image/png;base64,iVBORw0KGgoAAAANSUhEUgAAADMAAAAQBAMAAABJt1qBAAAAMFBMVEX///8AAAAAAAAAAAAAAAAA\n",
       "AAAAAAAAAAAAAAAAAAAAAAAAAAAAAAAAAAAAAAAAAAAv3aB7AAAAD3RSTlMAEHarMolUmd1mIs3v\n",
       "RLtmgJDEAAAACXBIWXMAAA7EAAAOxAGVKw4bAAAA3UlEQVQY02NgwATZ50+/6DvJgA3omTBwM2zA\n",
       "KlXOwKDJmoBVyoqB8YEcqhDTi45uEC3AwO5ggiLDu0kAxnRmKQBRQsoioWCDV8NlGB7ygdkFTEbs\n",
       "DSDGLrgMW8AkEMW5gPMj8wQQC+FcqNNZGNghYiwnOjo6+sBMNdYLDIwgBo8CmM/4AKaJ8cE6Bgbm\n",
       "BUDW/QWMYEsbYFLMDlYMDPIMDHIXbBhYwSJKMCl3XqDTLRgY8h1rGK5BLIeFzUNuAYZ1eQwM4kps\n",
       "lRAxRruLEK+f2/PuzZ+nqMERBwkoKAAA5a8vMuYfrScAAAAASUVORK5CYII=\n",
       "\" style=\"display:inline;vertical-align:middle;\" /></a>, <a class=\"ProveItLink\" href=\"../__pv_it/demonstrations/1a5270d7d3401e3ec902ebbf86bec5c78898bba20/expr.ipynb\"><img src=\"data:image/png;base64,iVBORw0KGgoAAAANSUhEUgAAADIAAAATBAMAAAAg4UMRAAAAMFBMVEX///8AAAAAAAAAAAAAAAAA\n",
       "AAAAAAAAAAAAAAAAAAAAAAAAAAAAAAAAAAAAAAAAAAAv3aB7AAAAD3RSTlMAEHaZZquJVO8y3btE\n",
       "zSKD2s2pAAAACXBIWXMAAA7EAAAOxAGVKw4bAAAA8klEQVQY02NgwADsN37cXrXDAVOCgWnrBIYL\n",
       "vFgkGJgNGJgc0rHJsD5gkGbcgGLKrlVrQTQjA4Ml6wQkCZ5LAjAmZ8BkkAplBwZREPctXIKBW2Aj\n",
       "kGRjb2DwB3HvIbSXsSgAyenMCxiiQdwLCBmImwU4FBiaQGZ3rVq1ajXEKQU5QHEGhvMCnD9B9iHc\n",
       "Kc0HZMcxMNgyMDWA+AvgMpFAHzF+YGDYysAdAOIrwd1scBjoXaBCU4bz4NDjLYC7+SID33aggaJJ\n",
       "9g/AXo8+CJE5sbd7d393AoiZCw2EbEjowADbBcZ2BqyAS4E1AbsMu5MNdgkA2cc0b5s0PBoAAAAA\n",
       "SUVORK5CYII=\n",
       "\" style=\"display:inline;vertical-align:middle;\" /></a> <a class=\"ProveItLink\" href=\"../__pv_it/demonstrations/cb38aee5f51d4f14fd943b22a8455e410dff6ccf0/proof.ipynb\" style=\"text-decoration: none\">&nbsp;&#x22A2;&nbsp;&nbsp;</a><a class=\"ProveItLink\" href=\"../__pv_it/demonstrations/c636d0a86db17b37179cbed4399b83bc16fc40ff0/expr.ipynb\"><img src=\"data:image/png;base64,iVBORw0KGgoAAAANSUhEUgAAANUAAAAVBAMAAAAjhrYEAAAAMFBMVEX///8AAAAAAAAAAAAAAAAA\n",
       "AAAAAAAAAAAAAAAAAAAAAAAAAAAAAAAAAAAAAAAAAAAv3aB7AAAAD3RSTlMAMom7Iplm783dEER2\n",
       "q1TfLoYRAAAACXBIWXMAAA7EAAAOxAGVKw4bAAACRklEQVRIx6WVP2gTURzHv7k/vd5dcg1dBAc5\n",
       "dVEIcouTFjIJhYrSQVq0GMEuIuZw0EVLFhE6xYKDoHBDCyKE3KSDQq5gNyNFoRTJkEE3oSkEhyri\n",
       "7+Wq5L27y3nkC3nc+73P7977vd/vfgFSpCSulMemRX1MXHk3Nv1PuceXabTsRCBfiZiy0UOa6tLw\n",
       "cgSwGrFko4fU8mi4wplec7PliEs2ekin2eBypu/cTPNEl2z0kB6xBNRGeE+KKUijcyeVefIptX1j\n",
       "q4KCZ7bXS+epeD9t/iZApWQbH75Mn+G8GdkApG1hrzRakuclF7O+0pcsF1Wad9As401ZPjg8uop2\n",
       "sMh5hyQmBmEsPmN6gf+gL0zW6TjPgbVjah27eKs7uFQ07kFlb9KpFm+i6u1w3oz8TFfmCnGl0Uen\n",
       "2GF6wENPC/AAXtPHnkcGnX0rmg8UsYDDAO6HAYQkcj1hr1SalbbmQPlFT8o+sAeKjgy0Z+gNRvLZ\n",
       "bnk5Ik03Zq+RNLvcZgCpT0/5HtsIPwwyVP/eCsw+XvHeC8iTp1UX8pVKr7EWUYFmYwaycwt3YR1I\n",
       "zS52LWqXcgDjXMGFzXsTSTU44QhxpdHKT1as2zgLLOGIbdM15ms35MB6qmJQqNb+hmt2ee8ltCph\n",
       "iXNKo83BRZzYoqtulL52ijQ3drpG5/jFTdaAaXYt+HZHyECjdJ2C1n2xXWeiI3qS0AlO0W92TFrU\n",
       "clw3lWrGSqTTZqdFyXH/p3pQoFQpzpi0KCMOsW5fjX9xNjqiucSV91npP5lv14bq303lAAAAAElF\n",
       "TkSuQmCC\n",
       "\" style=\"display:inline;vertical-align:middle;\" /></a></span>"
      ],
      "text/plain": [
       "{x in Integer, y in Integer} |- round(x + y) = (x + y)"
      ]
     },
     "metadata": {},
     "output_type": "display_data"
    }
   ],
   "source": [
    "round_x_plus_y.rounding_elimination(assumptions=[InSet(x, Integer), InSet(y, Integer)])"
   ]
  },
  {
   "cell_type": "code",
   "execution_count": 64,
   "metadata": {},
   "outputs": [
    {
     "data": {
      "text/html": [
       "<span style=\"font-size:20px;\"> <a class=\"ProveItLink\" href=\"../__pv_it/demonstrations/8db3a3c819dc6d764cb74d8a1c6822a05ed690340/proof.ipynb\" style=\"text-decoration: none\">&nbsp;&#x22A2;&nbsp;&nbsp;</a><a class=\"ProveItLink\" href=\"../__pv_it/demonstrations/6e5c38a6ecb189e3441787e101a1d0f6e07ceaa20/expr.ipynb\"><img src=\"data:image/png;base64,iVBORw0KGgoAAAANSUhEUgAAANEAAAAVBAMAAAAqbRZ+AAAAMFBMVEX///8AAAAAAAAAAAAAAAAA\n",
       "AAAAAAAAAAAAAAAAAAAAAAAAAAAAAAAAAAAAAAAAAAAv3aB7AAAAD3RSTlMAMom7Iplm783dEER2\n",
       "q1TfLoYRAAAACXBIWXMAAA7EAAAOxAGVKw4bAAACNUlEQVRIx6WVP2jUUBzHv5c/l16SprcJDhJ1\n",
       "Em7I4qYQEIQDRamceINwDi4uDQ6KoFgQEZzOgkhEaQYHl5JsDgqmYMdKEakVDnqIe08oUtpi/b32\n",
       "LMlL4iPkC/fy/ny+eb/3y+N3gEBK0YJbFeb1uWjhQ1X4ULUnl6m1bOq95EPvPGrC7GUspeCEpobU\n",
       "vAUWrm1zK+cg7QBPM45ScEIfA2qu0s/8ZzbGkX0F7gI3M45ScEKnWOMlzVZ88HwYYN2FFvCOUnBC\n",
       "jxk+m2f+Dqw3McHnXgDXTirTZGktR/pSD5OBsfymdYa+45fFP4Spdp6ZNA9IK9xOAliSpyUP7UjZ\n",
       "lCwPMzQeIHTxzpWZZT/uHHNtF6izI6DrM72GGD4/0adYXgFzx9Q+1vC+4eBSU78Dlb2oMcw3N+g8\n",
       "lsedSQAfnaJI1BHwINBi3EcQRtgIaKLBcqFFh2bV91/c8/2DlF1hoY64nUQwu8yaA2WXesovYAN0\n",
       "MpoIo7Q5GWadvcLwinfKhbv0DGNIm9QzR2wb/NZpYuY/CfkBxYXV576TCJ5j5aAHzcZZyM4t3Ia1\n",
       "LYVDrFlUFuU4z1yzYQaoO9yZBLCyw9K6gtPAdRyxbUqgOXtDjq3nKsY3mY6bNrc7ne74UiclgI39\n",
       "HJxYohwvtH4OmjTWV4f64PjFRRYQrU5+21pNm+f39rYoWRFfk8vAGT1LFYE4OWpXg3mlKqPR4+tp\n",
       "BZiXXPhvqTjVYF66UyKGUnBGF4oWPpWE/wIW1drGLVi98gAAAABJRU5ErkJggg==\n",
       "\" style=\"display:inline;vertical-align:middle;\" /></a></span>"
      ],
      "text/plain": [
       "|- round(1 + 2) = (1 + 2)"
      ]
     },
     "metadata": {},
     "output_type": "display_data"
    }
   ],
   "source": [
    "round_1_plus_2.rounding_elimination()"
   ]
  },
  {
   "cell_type": "code",
   "execution_count": 65,
   "metadata": {},
   "outputs": [
    {
     "data": {
      "text/html": [
       "<span style=\"font-size:20px;\"><a class=\"ProveItLink\" href=\"../__pv_it/theorems/e7ea3ade6561bbbb858c02aa3be91f7305b5ebb50/expr.ipynb\"><img src=\"data:image/png;base64,iVBORw0KGgoAAAANSUhEUgAAADMAAAAQBAMAAABJt1qBAAAAMFBMVEX///8AAAAAAAAAAAAAAAAA\n",
       "AAAAAAAAAAAAAAAAAAAAAAAAAAAAAAAAAAAAAAAAAAAv3aB7AAAAD3RSTlMAEHarMolUmd1mIs3v\n",
       "RLtmgJDEAAAACXBIWXMAAA7EAAAOxAGVKw4bAAAA3UlEQVQY02NgwATZ50+/6DvJgA3omTBwM2zA\n",
       "KlXOwKDJmoBVyoqB8YEcqhDTi45uEC3AwO5ggiLDu0kAxnRmKQBRQsoioWCDV8NlGB7ygdkFTEbs\n",
       "DSDGLrgMW8AkEMW5gPMj8wQQC+FcqNNZGNghYiwnOjo6+sBMNdYLDIwgBo8CmM/4AKaJ8cE6Bgbm\n",
       "BUDW/QWMYEsbYFLMDlYMDPIMDHIXbBhYwSJKMCl3XqDTLRgY8h1rGK5BLIeFzUNuAYZ1eQwM4kps\n",
       "lRAxRruLEK+f2/PuzZ+nqMERBwkoKAAA5a8vMuYfrScAAAAASUVORK5CYII=\n",
       "\" style=\"display:inline;vertical-align:middle;\" /></a> <a class=\"ProveItLink\" href=\"../__pv_it/demonstrations/96d63adaaa60afe1657994c0f5c46722c7a7bcda0/proof.ipynb\" style=\"text-decoration: none\">&nbsp;&#x22A2;&nbsp;&nbsp;</a><a class=\"ProveItLink\" href=\"../__pv_it/demonstrations/d89566cf55ee05cef1bbebcfc489c4e877d3aed30/expr.ipynb\"><img src=\"data:image/png;base64,iVBORw0KGgoAAAANSUhEUgAAANMAAAAVBAMAAAAumMZDAAAAMFBMVEX///8AAAAAAAAAAAAAAAAA\n",
       "AAAAAAAAAAAAAAAAAAAAAAAAAAAAAAAAAAAAAAAAAAAv3aB7AAAAD3RSTlMAMom7Iplm783dEER2\n",
       "q1TfLoYRAAAACXBIWXMAAA7EAAAOxAGVKw4bAAAC00lEQVRIx5WWTWgTQRTH/9lssskm2QYvYg+6\n",
       "1pMQMYLeFBaqQg5iiKTqQYiIIII09GDxCwOigqdQKBK0dqV6U5JTe1A0BetBDAQRrRBoKIIVhEQI\n",
       "Imkxvs0mTWeyyZKB2Y95/9nfe/MeMwvYNK2XQRxIrcG2+cu9LL78IOrX/SCO+1G6rlrajp05ALzv\n",
       "HrdUi/E7QfgT/VhD5KKcspwcxv4cPDo/bq0ehbAOPOiHekufcrHOzJu3gAYpCXeUn8Gqfa23z8Ak\n",
       "cLEfai91iR36Zd6kOgI14Do/g1UrrWTe1rFCvul9UHepr1miAmkEfgP3+BlrlqhvwEoQngQce8QY\n",
       "RRoq5OSlBAK6r/AsdJjS8WnxH8li1F8Uno6UGRQ1bxXYx6NYtdIp0VlAKEJwxoQkIjmxJihJjNN7\n",
       "CVkNC5qzDtPxqL/kSvOoXfSdS838ZJqtiC51B+XYANwpHPekXSoeA1M7SbKMV94wTgblq3AZ5fSE\n",
       "NJq7HkjwqBnqP/ioWHUH5SVHKI7hITK4aDlu6VIeN6Fnc6joNOBVSXSDXDKhwNlMZjKTmTFrLWxE\n",
       "xqO2qCnYh9daweKUEVnVrGkpDHGDnkRKdgUUGw0QsjmZrHmuLIArxmXBArVFvRmV2wD6kuQs3bN5\n",
       "CDV68lcNDv7INDDeWhJyRpN1FqWoOAr85HPFqjdRqxA1KJTAKWNjSEBScQTO8GVMQKkL2TKWFdoi\n",
       "qRbncl8hcFFtAz4AF/ioWHUb5VDh1+GmhVs3XCviEHAO21WV1tCfOu/MK9MuNOu5Mnwab1iUOB2P\n",
       "p83aZhqrbqMi8TitHNWer1mZI0uUmZeh76UgvctfynJp94lFGt8BPP+ojJVZlLfRaFDyH/EoVt1G\n",
       "zTYaf2lOzuYM8QatdotWbOn+aoU5ZSJ2xxW3pc733ly71T7GPmZ7NB7sbRodRC2GbVFzA3nRW+20\n",
       "P/HFfM9fAW0Q9TvgP+722KPD/IprAAAAAElFTkSuQmCC\n",
       "\" style=\"display:inline;vertical-align:middle;\" /></a></span>"
      ],
      "text/plain": [
       "{x in Integer} |- round(x + 2) = (x + 2)"
      ]
     },
     "metadata": {},
     "output_type": "display_data"
    }
   ],
   "source": [
    "round_x_plus_2.rounding_elimination(assumptions=[InSet(x, Integer)])"
   ]
  },
  {
   "cell_type": "markdown",
   "metadata": {},
   "source": [
    "## The `rounding_extraction()` method\n",
    "<font size=4> Some testing of the utility `rounding_extraction()` method(s), allowing the conclusion of an equivalence from `Ceil(x+i)`, `Floor(x+i)`, and `Round(x+i)` to the expression $F(x)+i$ when we know $x\\in\\mathbb{R}$ and $i\\in\\mathbb{Z}$.</font>"
   ]
  },
  {
   "cell_type": "markdown",
   "metadata": {},
   "source": [
    "### Ceil.rounding_extraction()"
   ]
  },
  {
   "cell_type": "code",
   "execution_count": 66,
   "metadata": {},
   "outputs": [
    {
     "data": {
      "text/html": [
       "<a class=\"ProveItLink\" href=\"../__pv_it/demonstrations/5e296efcc2b896d21019b0c54108c61490c5d1130/expr.ipynb\"><img src=\"data:image/png;base64,iVBORw0KGgoAAAANSUhEUgAAAD0AAAAVBAMAAAAHs/uBAAAAMFBMVEX///8AAAAAAAAAAAAAAAAA\n",
       "AAAAAAAAAAAAAAAAAAAAAAAAAAAAAAAAAAAAAAAAAAAv3aB7AAAAD3RSTlMARN12ZlQQqzKJmSLN\n",
       "77vFPH07AAAACXBIWXMAAA7EAAAOxAGVKw4bAAAAtElEQVQoz2MQUlJmwAFYlZQcGFwY8ADGBUNC\n",
       "ns24rHMqigSblQNDOlyei8HcYBGKPCfrBQZ/uLw3g39CCYp8K5cCQx1cvoFhDVg0RwkENICsBF4D\n",
       "hstI7ruM7jL5BI4fCHnG3wxpqPJrGJgvwOTZHrJfYJiAKv+cga8AJs/6I+sCYwCq/HIGeQe4/sUG\n",
       "Ua5o9qdPXr8Bf/jNwRe+nAfYruKTZzJgn4BPntV5ITR+QvHFH8cEAD3fMm2LAWLRAAAAAElFTkSu\n",
       "QmCC\n",
       "\" style=\"display:inline;vertical-align:middle;\" /></a>"
      ],
      "text/plain": [
       "ceil(x - y)"
      ]
     },
     "metadata": {},
     "output_type": "display_data"
    }
   ],
   "source": [
    "ceil_x_minus_y"
   ]
  },
  {
   "cell_type": "code",
   "execution_count": 67,
   "metadata": {},
   "outputs": [
    {
     "data": {
      "text/html": [
       "<a class=\"ProveItLink\" href=\"../__pv_it/demonstrations/7530ee1d53014472c5afc104cebb108542505de90/expr.ipynb\"><img src=\"data:image/png;base64,iVBORw0KGgoAAAANSUhEUgAAAHAAAAAVBAMAAABs93eRAAAAMFBMVEX///8AAAAAAAAAAAAAAAAA\n",
       "AAAAAAAAAAAAAAAAAAAAAAAAAAAAAAAAAAAAAAAAAAAv3aB7AAAAD3RSTlMARN12ZlQiiRDNme+7\n",
       "qzJmaQM3AAAACXBIWXMAAA7EAAAOxAGVKw4bAAABmElEQVQ4y33Tv0vDQBQH8G/Spo1JU4puLg2n\n",
       "k2IJiCKCEPDHUJAWwcWpKDg4FcTByYxWKGR09cfSghgU9/oHKA4ODg4u0tFOxan1kpi0Fy55EC55\n",
       "ySe53L2HSTIDIIO4qPGSO2QWG97ZUiyc4qenfSjVY2HKjCSOWq8j2EB8XLKXmQ7OCiG8TYDl/1Hw\n",
       "P63VoDohdBKgavmjZPiXv9D6AZTsBDhhMlDToQ0CqNC1kRc/uieMkFdNNIHsGwNpiL0Aui9VsGZc\n",
       "MzArOagAaTsKf4wAilVgCxXrnYHfio5PCpwoXAi3Q6Xr+4WWl20QN0r0zFINPAL5nvszhMw/EOLN\n",
       "WukwEO5DbBStPF0GIfrF7VHluFOF0Mc5C1tIUSTpLKRVdhjAnAH5WXMQKbwX5Ojc0h0WdoGVANIV\n",
       "lwYXjlBl4R2Kpr9XYzAz127rAczrkG+Mvc3IPzaP72lTiQUGisPh0A5LrhRTNaf02Ed0O8baqsxT\n",
       "WVt+GmsAweTAHK/PRUOre22U0Mgy7660fhX3ThfueuNBbHMs89PdPx6wU6cl7fVbAAAAAElFTkSu\n",
       "QmCC\n",
       "\" style=\"display:inline;vertical-align:middle;\" /></a>"
      ],
      "text/plain": [
       "ceil((x - y) + 2)"
      ]
     },
     "metadata": {},
     "output_type": "display_data"
    }
   ],
   "source": [
    "ceil_x_minus_y_plus_2"
   ]
  },
  {
   "cell_type": "code",
   "execution_count": 68,
   "metadata": {},
   "outputs": [
    {
     "data": {
      "text/html": [
       "<span style=\"font-size:20px;\"><a class=\"ProveItLink\" href=\"../../ordering/__pv_it/theorems/d1323f34847310a404e8089c2c268d3c2eb89dbf0/expr.ipynb\"><img src=\"data:image/png;base64,iVBORw0KGgoAAAANSUhEUgAAADQAAAAQBAMAAACra0H4AAAAMFBMVEX///8AAAAAAAAAAAAAAAAA\n",
       "AAAAAAAAAAAAAAAAAAAAAAAAAAAAAAAAAAAAAAAAAAAv3aB7AAAAD3RSTlMAEHarMolUmd1mIs3v\n",
       "RLtmgJDEAAAACXBIWXMAAA7EAAAOxAGVKw4bAAAAyklEQVQY02NgwACce9797nnJgBXwcRnwWj7E\n",
       "IRXA8MAZp1QVN4qQXkfHBrgUH7LMbUUkXYbCQIaQskhoApDm2ohkIMuzXUBGAZMRewOQ5l6AkDrd\n",
       "3yQA9MUCzo/ME0BSSM6InAiylIWBHWw3g08HEDyAGvhwJliMRwFMySE73p1PAMS6v4ARRHMgS7F7\n",
       "AfXLXbBhYAUJMCkgSTE+0GRgyHesYbgGFtmGkCpgmMl3gUFcia0yASwi/FYAFvL/FvC9/oYcHFdf\n",
       "QAIKCgBACzQrtGfvLgAAAABJRU5ErkJggg==\n",
       "\" style=\"display:inline;vertical-align:middle;\" /></a>, <a class=\"ProveItLink\" href=\"../__pv_it/demonstrations/1a5270d7d3401e3ec902ebbf86bec5c78898bba20/expr.ipynb\"><img src=\"data:image/png;base64,iVBORw0KGgoAAAANSUhEUgAAADIAAAATBAMAAAAg4UMRAAAAMFBMVEX///8AAAAAAAAAAAAAAAAA\n",
       "AAAAAAAAAAAAAAAAAAAAAAAAAAAAAAAAAAAAAAAAAAAv3aB7AAAAD3RSTlMAEHaZZquJVO8y3btE\n",
       "zSKD2s2pAAAACXBIWXMAAA7EAAAOxAGVKw4bAAAA8klEQVQY02NgwADsN37cXrXDAVOCgWnrBIYL\n",
       "vFgkGJgNGJgc0rHJsD5gkGbcgGLKrlVrQTQjA4Ml6wQkCZ5LAjAmZ8BkkAplBwZREPctXIKBW2Aj\n",
       "kGRjb2DwB3HvIbSXsSgAyenMCxiiQdwLCBmImwU4FBiaQGZ3rVq1ajXEKQU5QHEGhvMCnD9B9iHc\n",
       "Kc0HZMcxMNgyMDWA+AvgMpFAHzF+YGDYysAdAOIrwd1scBjoXaBCU4bz4NDjLYC7+SID33aggaJJ\n",
       "9g/AXo8+CJE5sbd7d393AoiZCw2EbEjowADbBcZ2BqyAS4E1AbsMu5MNdgkA2cc0b5s0PBoAAAAA\n",
       "SUVORK5CYII=\n",
       "\" style=\"display:inline;vertical-align:middle;\" /></a> <a class=\"ProveItLink\" href=\"../__pv_it/demonstrations/651e9b42bde13508c9bea347aec625c9ba6ce7ea0/proof.ipynb\" style=\"text-decoration: none\">&nbsp;&#x22A2;&nbsp;&nbsp;</a><a class=\"ProveItLink\" href=\"../__pv_it/demonstrations/77e5ec25e61ce67091b01ccaf7f0cbca396af3710/expr.ipynb\"><img src=\"data:image/png;base64,iVBORw0KGgoAAAANSUhEUgAAAKwAAAAVBAMAAAAp2hhWAAAAMFBMVEX///8AAAAAAAAAAAAAAAAA\n",
       "AAAAAAAAAAAAAAAAAAAAAAAAAAAAAAAAAAAAAAAAAAAv3aB7AAAAD3RSTlMARN12ZlQQqzKJmSLN\n",
       "77vFPH07AAAACXBIWXMAAA7EAAAOxAGVKw4bAAAB9UlEQVQ4y5XUz0vcQBQH8G92k9kkdhcp9Ci7\n",
       "Zi8eAyrCQiFQe2mlhqIXQQws1CJVAoqwB4uXFnoyIKUUPGztQilYDHgvi/gHBETPevLgpYcigpe+\n",
       "/KiwO5O4mUMmTN77zMtkJnhs1JHSFMOwuMEhQDIMMz0gCsE0MprU5oYmAdnKCqBBMzereA+zmMjN\n",
       "vsMA7CMnL9sZhJXbedlgEBbnOVmlOxB7ErHNqbdf7Z5x1rCwLMjSvYRl45ufPvMBzQ6YC3yJ2HZx\n",
       "Xa/1PNaUALP/s3Qjam74MayE1TFl7vOstwj5DzATsrIv35R69/UHmua9oNqCnbAvMetscAGqvY/S\n",
       "BbAYsir0brx7oqrG6M4pmzgVsOXhhN3Gwf3asuMob5vuKIkysRN/srLZv+hVR73NYhHOygdIN9gh\n",
       "fiRmqz5zep8foBgI1vZ+ESDd4Q3P0ms/pe51yK4Nb0HrK+sKFVdQbcWMWXZZCuDxAZR0Rd2rkF36\n",
       "+AtP+vJ/oGoJWM2NWeV2JZBsQbWu9Je6nyG7Mq507L785d1DX8CqtaTa7+bCc8HaslbjjrrR9FO2\n",
       "JzxEYw+dMo021VAthdW67EyY9SKb3cMqvbdupbAFs+QJ2YqfydbRouvvtP+t8uyb+B3ZRSY71wg3\n",
       "9jUwn/UHUz1u6IjmtLMCgKKPf4QqeOcUraUQAAAAAElFTkSuQmCC\n",
       "\" style=\"display:inline;vertical-align:middle;\" /></a></span>"
      ],
      "text/plain": [
       "{x in Real, y in Integer} |- ceil(x - y) = (ceil(x) - y)"
      ]
     },
     "metadata": {},
     "output_type": "display_data"
    }
   ],
   "source": [
    "ceil_x_minus_y.rounding_extraction(1, assumptions=[InSet(x, Real), InSet(y, Integer)])"
   ]
  },
  {
   "cell_type": "code",
   "execution_count": 69,
   "metadata": {},
   "outputs": [
    {
     "data": {
      "text/html": [
       "<span style=\"font-size:20px;\"><a class=\"ProveItLink\" href=\"../../ordering/__pv_it/theorems/d1323f34847310a404e8089c2c268d3c2eb89dbf0/expr.ipynb\"><img src=\"data:image/png;base64,iVBORw0KGgoAAAANSUhEUgAAADQAAAAQBAMAAACra0H4AAAAMFBMVEX///8AAAAAAAAAAAAAAAAA\n",
       "AAAAAAAAAAAAAAAAAAAAAAAAAAAAAAAAAAAAAAAAAAAv3aB7AAAAD3RSTlMAEHarMolUmd1mIs3v\n",
       "RLtmgJDEAAAACXBIWXMAAA7EAAAOxAGVKw4bAAAAyklEQVQY02NgwACce9797nnJgBXwcRnwWj7E\n",
       "IRXA8MAZp1QVN4qQXkfHBrgUH7LMbUUkXYbCQIaQskhoApDm2ohkIMuzXUBGAZMRewOQ5l6AkDrd\n",
       "3yQA9MUCzo/ME0BSSM6InAiylIWBHWw3g08HEDyAGvhwJliMRwFMySE73p1PAMS6v4ARRHMgS7F7\n",
       "AfXLXbBhYAUJMCkgSTE+0GRgyHesYbgGFtmGkCpgmMl3gUFcia0yASwi/FYAFvL/FvC9/oYcHFdf\n",
       "QAIKCgBACzQrtGfvLgAAAABJRU5ErkJggg==\n",
       "\" style=\"display:inline;vertical-align:middle;\" /></a>, <a class=\"ProveItLink\" href=\"../../ordering/__pv_it/theorems/5d76fdd975252a644e3e1cb067a357f9a9c8486a0/expr.ipynb\"><img src=\"data:image/png;base64,iVBORw0KGgoAAAANSUhEUgAAADMAAAATBAMAAADPIygvAAAAMFBMVEX///8AAAAAAAAAAAAAAAAA\n",
       "AAAAAAAAAAAAAAAAAAAAAAAAAAAAAAAAAAAAAAAAAAAv3aB7AAAAD3RSTlMAEHaZZquJVO8y3btE\n",
       "zSKD2s2pAAAACXBIWXMAAA7EAAAOxAGVKw4bAAAA4ElEQVQoz2NgwAC+3ftvdTswYAUbnjIc9RbA\n",
       "LvWMgZszAJcU84MLKELaq1ZdgEttQJY5q4jQxSoINJBR2YFBFCTAdxHJwNm1DxgY2NgbGPxBArwP\n",
       "4FIvbv0CmTCdeQFDNFgKyRkusiBagEOBoQnEmLEKCDZApLhFwF4+L8D5E0RLI+niNNgIYtgyMDWA\n",
       "aC5kf1m+BjG2MnCDfc6kgCQlzQQy0ZThPCQsr8OlHjOwOOwBMkST7CHOFt0jAAv5fQy77xeA2LlQ\n",
       "1cd2rUIJObYLjO3Y44aBS4E1AYcUu5MNDhkADGJEjCMFBEsAAAAASUVORK5CYII=\n",
       "\" style=\"display:inline;vertical-align:middle;\" /></a> <a class=\"ProveItLink\" href=\"../__pv_it/demonstrations/4821916f80f10052e61c9f5df562872dad34f7b60/proof.ipynb\" style=\"text-decoration: none\">&nbsp;&#x22A2;&nbsp;&nbsp;</a><a class=\"ProveItLink\" href=\"../__pv_it/demonstrations/716a691baad4d4fd6e8ba08f2c2c603926d3f1b10/expr.ipynb\"><img src=\"data:image/png;base64,iVBORw0KGgoAAAANSUhEUgAAAQQAAAAVBAMAAABS242zAAAAMFBMVEX///8AAAAAAAAAAAAAAAAA\n",
       "AAAAAAAAAAAAAAAAAAAAAAAAAAAAAAAAAAAAAAAAAAAv3aB7AAAAD3RSTlMARN12ZlQiiRDNme+7\n",
       "qzJmaQM3AAAACXBIWXMAAA7EAAAOxAGVKw4bAAACoElEQVRIx5WWPWgUQRTH/7t3m9vs3h5BrbTI\n",
       "umqjJCz4gQjCgh9gUHJERNTmULCQFAGxSBG80oiBK1JYxiiEC4irIgg2J4KdYmFhYREEuTKpglXO\n",
       "2Zm542buzXI3sLA89v3mN7Mz8wb7oiMAxmBqNSo4Fx0lP7WiKDZwnChKiHDW8UX+dtqosJ8OHxwM\n",
       "FaooJjA3a40KxlLBWTAmFnTqg+Z3WuEmRlTgpFNSYTkn87k2cy08nqAU3MaICoI0XhcKr3IyZ7oE\n",
       "gQ9q8FNKwUuGVTiAPlJxTSikOZl+Xa4nsdD8fwh2KQUfwypcRz/pI1dwGjmZ44miEIQI9iiFW6Mq\n",
       "SNIqV/DYanRP/mo/Un/uuQQrQOmHosCavUMpbEgFI0hXkKQlrpAN1MP5eF3JLDkpZhm2oStsx10F\n",
       "L+KNS65KBSOIUMhIV7iCXQUuY7b+U8n864X4zbpOdYUpclMekwpGEKGQke5wBZ/tsi00eXSZj2ua\n",
       "vdX9GO+Byo4Y7ol3crhei1R4KxWMIKGwHkWfomgKPdJ2TwHZV2qbrFfYcrH0WbiGXAUzaGAWOOlQ\n",
       "70fA2sUTNbOJAuveCVUFdpLep9ZC90cYQQMKgjTHFcox3M9BCu2Y/oYygxdbqkIbOEvNwhehYAYN\n",
       "KAjSVa7A9p2z9zS1qmrma0wmYsf2KYwd39wMKYUloWAG6QqStMEVKiHcl/HtSxp05eEbVqrtCUXB\n",
       "7nQ6DUrhj5wFI0hXkKTD4oCeNhxoi+y5C31T0svR3so5HRdBbspsLkKhMEOllRruh74SZiX5Cqze\n",
       "GBQkSC9TverGFcrU3ciOgwVeUoe8snw1KQgQfWXBvLwvuFQ/zoUXJjtS4ZlJQYAMCkz8Bn+5Z6xv\n",
       "Z+hwm7gGxnCqOZWyQl3NCjX8B1z9tbs8/Td1AAAAAElFTkSuQmCC\n",
       "\" style=\"display:inline;vertical-align:middle;\" /></a></span>"
      ],
      "text/plain": [
       "{x in Real, y in Real} |- ceil((x - y) + 2) = (ceil(x - y) + 2)"
      ]
     },
     "metadata": {},
     "output_type": "display_data"
    }
   ],
   "source": [
    "ceil_x_minus_y_plus_2.rounding_extraction(1, assumptions=[InSet(x, Real), InSet(y, Real)])"
   ]
  },
  {
   "cell_type": "markdown",
   "metadata": {},
   "source": [
    "### Floor.rounding_extraction()"
   ]
  },
  {
   "cell_type": "code",
   "execution_count": 70,
   "metadata": {},
   "outputs": [
    {
     "data": {
      "text/html": [
       "<a class=\"ProveItLink\" href=\"../__pv_it/theorems/650fad3b9f030f749416a193d1e72df10d7ddb610/expr.ipynb\"><img src=\"data:image/png;base64,iVBORw0KGgoAAAANSUhEUgAAAD0AAAAVBAMAAAAHs/uBAAAAMFBMVEX///8AAAAAAAAAAAAAAAAA\n",
       "AAAAAAAAAAAAAAAAAAAAAAAAAAAAAAAAAAAAAAAAAAAv3aB7AAAAD3RSTlMAEGZU7912qzKJmSLN\n",
       "RLs7fb+cAAAACXBIWXMAAA7EAAAOxAGVKw4bAAAAu0lEQVQoz2MQZMAHNjAo4ZPmXUBt+UsE5M3I\n",
       "kWdMK+ycjCLPmKXAIA6X52JIT1iKIs/J7MCgD5fXZtAXKEKRb+YKYKiDyzcwrAGLLg0NdQkNDQey\n",
       "BFgSGNyQ3OeG7r77Ahw/EPK8vxkEUeXXMLA5wOQZ37I7MExAlX/OwFcAk2f+IeXAa4Aqv5zhvgJc\n",
       "/7IEK2U0+8Wnrd+AP/zm4IsfzgOMzvjilzWBfQI+eWa1tdD4MQkNw5U6mENDEwDf8zLGOYeXUQAA\n",
       "AABJRU5ErkJggg==\n",
       "\" style=\"display:inline;vertical-align:middle;\" /></a>"
      ],
      "text/plain": [
       "floor(x + y)"
      ]
     },
     "metadata": {},
     "output_type": "display_data"
    }
   ],
   "source": [
    "floor_x_plus_y"
   ]
  },
  {
   "cell_type": "code",
   "execution_count": 71,
   "metadata": {},
   "outputs": [
    {
     "data": {
      "text/html": [
       "<a class=\"ProveItLink\" href=\"../__pv_it/demonstrations/3d426bb180a97ac43a83a6a3119279c7e717ef6d0/expr.ipynb\"><img src=\"data:image/png;base64,iVBORw0KGgoAAAANSUhEUgAAAHAAAAAVBAMAAABs93eRAAAAMFBMVEX///8AAAAAAAAAAAAAAAAA\n",
       "AAAAAAAAAAAAAAAAAAAAAAAAAAAAAAAAAAAAAAAAAAAv3aB7AAAAD3RSTlMAEGZU7912IonNmUS7\n",
       "qzLCARrXAAAACXBIWXMAAA7EAAAOxAGVKw4bAAABcUlEQVQ4y2MQZAABdgZcoAC7MDuDEphOxqlx\n",
       "G3bhXRCNzA04NbIpoIs8FUBolGTADSaichlvzUfSuAhFbhMKTwtKc8OszkfS6ICi1AyFxyIAoZkT\n",
       "MDUyT8CjkVMBt0YuYNgwpl180YyikTFLgUGWgYHjAm6NIEO5GHITlqJo5GB2YNBnYGCagFsjqwED\n",
       "gzqDvsAlFI2PuQIY7gA1OODWyLKBgeEBw0qw8NLQUJfQ0FggS4AlgcGNgYHvA8gzoaEhrqGhF7Bo\n",
       "ZAApQg2c/QJ8/4DR4IDfqQzc3xkEUTWuZGADamIOwK2RJ4GB8TSvA0MDqsazDDxAtzEdwK0RGOLM\n",
       "/6QcuA1QNa5l2K8AiSsUjf0FcI18AQyMyxKslNH8KNu2HqiGdQOqxrv+cxXgSS4OR8rpBOJSBjQb\n",
       "kbOVFrZEzjGB0RkpA3ArYNHIgy2fsybwAr3HfgBfRmbEJsusthqXmSCNJqFhQLoMZz5OxyZoGhoG\n",
       "ACy+WRDL4H6QAAAAAElFTkSuQmCC\n",
       "\" style=\"display:inline;vertical-align:middle;\" /></a>"
      ],
      "text/plain": [
       "floor((x + y) + 1)"
      ]
     },
     "metadata": {},
     "output_type": "display_data"
    }
   ],
   "source": [
    "floor_x_plus_y_plus_1"
   ]
  },
  {
   "cell_type": "code",
   "execution_count": 72,
   "metadata": {},
   "outputs": [
    {
     "data": {
      "text/html": [
       "<span style=\"font-size:20px;\"><a class=\"ProveItLink\" href=\"../../ordering/__pv_it/theorems/d1323f34847310a404e8089c2c268d3c2eb89dbf0/expr.ipynb\"><img src=\"data:image/png;base64,iVBORw0KGgoAAAANSUhEUgAAADQAAAAQBAMAAACra0H4AAAAMFBMVEX///8AAAAAAAAAAAAAAAAA\n",
       "AAAAAAAAAAAAAAAAAAAAAAAAAAAAAAAAAAAAAAAAAAAv3aB7AAAAD3RSTlMAEHarMolUmd1mIs3v\n",
       "RLtmgJDEAAAACXBIWXMAAA7EAAAOxAGVKw4bAAAAyklEQVQY02NgwACce9797nnJgBXwcRnwWj7E\n",
       "IRXA8MAZp1QVN4qQXkfHBrgUH7LMbUUkXYbCQIaQskhoApDm2ohkIMuzXUBGAZMRewOQ5l6AkDrd\n",
       "3yQA9MUCzo/ME0BSSM6InAiylIWBHWw3g08HEDyAGvhwJliMRwFMySE73p1PAMS6v4ARRHMgS7F7\n",
       "AfXLXbBhYAUJMCkgSTE+0GRgyHesYbgGFtmGkCpgmMl3gUFcia0yASwi/FYAFvL/FvC9/oYcHFdf\n",
       "QAIKCgBACzQrtGfvLgAAAABJRU5ErkJggg==\n",
       "\" style=\"display:inline;vertical-align:middle;\" /></a>, <a class=\"ProveItLink\" href=\"../__pv_it/demonstrations/1a5270d7d3401e3ec902ebbf86bec5c78898bba20/expr.ipynb\"><img src=\"data:image/png;base64,iVBORw0KGgoAAAANSUhEUgAAADIAAAATBAMAAAAg4UMRAAAAMFBMVEX///8AAAAAAAAAAAAAAAAA\n",
       "AAAAAAAAAAAAAAAAAAAAAAAAAAAAAAAAAAAAAAAAAAAv3aB7AAAAD3RSTlMAEHaZZquJVO8y3btE\n",
       "zSKD2s2pAAAACXBIWXMAAA7EAAAOxAGVKw4bAAAA8klEQVQY02NgwADsN37cXrXDAVOCgWnrBIYL\n",
       "vFgkGJgNGJgc0rHJsD5gkGbcgGLKrlVrQTQjA4Ml6wQkCZ5LAjAmZ8BkkAplBwZREPctXIKBW2Aj\n",
       "kGRjb2DwB3HvIbSXsSgAyenMCxiiQdwLCBmImwU4FBiaQGZ3rVq1ajXEKQU5QHEGhvMCnD9B9iHc\n",
       "Kc0HZMcxMNgyMDWA+AvgMpFAHzF+YGDYysAdAOIrwd1scBjoXaBCU4bz4NDjLYC7+SID33aggaJJ\n",
       "9g/AXo8+CJE5sbd7d393AoiZCw2EbEjowADbBcZ2BqyAS4E1AbsMu5MNdgkA2cc0b5s0PBoAAAAA\n",
       "SUVORK5CYII=\n",
       "\" style=\"display:inline;vertical-align:middle;\" /></a> <a class=\"ProveItLink\" href=\"../__pv_it/demonstrations/8f957c1b7e9358ca5f9cf0369b438ab7f26ae3120/proof.ipynb\" style=\"text-decoration: none\">&nbsp;&#x22A2;&nbsp;&nbsp;</a><a class=\"ProveItLink\" href=\"../__pv_it/demonstrations/d435f12dcd1fc45ded28b2d3f8ffdfb4da5085260/expr.ipynb\"><img src=\"data:image/png;base64,iVBORw0KGgoAAAANSUhEUgAAAKwAAAAVBAMAAAAp2hhWAAAAMFBMVEX///8AAAAAAAAAAAAAAAAA\n",
       "AAAAAAAAAAAAAAAAAAAAAAAAAAAAAAAAAAAAAAAAAAAv3aB7AAAAD3RSTlMAEGZU7912qzKJmSLN\n",
       "RLs7fb+cAAAACXBIWXMAAA7EAAAOxAGVKw4bAAACBklEQVQ4y5XUz2vTYBgH8O+bdE2TmZKBbDKG\n",
       "BAcepmxBpgcvi8x57sFML8LLlBV6ijIGvYyJJ08LCIqwQymrImyYk0cp/gXDee9uO4jgPA128Uma\n",
       "jjXvm7TNoW95eN5P3h95Hkwg7wmFyDjArLyEOAU38lSzIYSeA4qdl0BBPjKrBoNZrI3MzmAI9oqV\n",
       "Zn8OYJty1rQvJymNNHtvAOvKWZX3ZT0YkVXbQ7E/Ynayeu2j08eymo0pCWsECcvWX759J7KTTTAf\n",
       "+BCzjeKmUeljddXFQm+W4cWPH12GnbAGqrwlssEilL/A7YhVQuVUs/vYN/SaLclqx5yEvYUF65XA\n",
       "lpwWtGNgMWJLMNpxtOV5Dz3vCf2zChyPJGzhMGG3sX9xtrSbxyvxbhhNopnY6V5ZgaevrGOVzvJY\n",
       "RG8VD8E8xc428KvLdsJenffYfRRdydleHALMc0yILG37BQ13I/b64Qb01GpPUPYlqy3zLsv+aC4C\n",
       "kaVJJzTMR+zS6z0cpdjP6NgSVve7rHo27ZqOZLW++Y+GLxE7va42nRQ79f5rKGFLlWS1n/j9WcnZ\n",
       "snrtnIZn2VW2Ky3ep4OqTKeParyS0Wr0NluWsnP5rWYXV2nfhp3RGMe4FkjZcpjbGFdRp9/vWf1W\n",
       "vXkg72DsOJe9U4s+7N9UZ95qVhNXPY8LwW8UX0ni0gSgGOI/+CeBaWF/yLIAAAAASUVORK5CYII=\n",
       "\" style=\"display:inline;vertical-align:middle;\" /></a></span>"
      ],
      "text/plain": [
       "{x in Real, y in Integer} |- floor(x + y) = (floor(x) + y)"
      ]
     },
     "metadata": {},
     "output_type": "display_data"
    }
   ],
   "source": [
    "floor_x_plus_y.rounding_extraction(1, assumptions=[InSet(x, Real), InSet(y, Integer)])"
   ]
  },
  {
   "cell_type": "code",
   "execution_count": 73,
   "metadata": {},
   "outputs": [
    {
     "data": {
      "text/html": [
       "<span style=\"font-size:20px;\"><a class=\"ProveItLink\" href=\"../../ordering/__pv_it/theorems/d1323f34847310a404e8089c2c268d3c2eb89dbf0/expr.ipynb\"><img src=\"data:image/png;base64,iVBORw0KGgoAAAANSUhEUgAAADQAAAAQBAMAAACra0H4AAAAMFBMVEX///8AAAAAAAAAAAAAAAAA\n",
       "AAAAAAAAAAAAAAAAAAAAAAAAAAAAAAAAAAAAAAAAAAAv3aB7AAAAD3RSTlMAEHarMolUmd1mIs3v\n",
       "RLtmgJDEAAAACXBIWXMAAA7EAAAOxAGVKw4bAAAAyklEQVQY02NgwACce9797nnJgBXwcRnwWj7E\n",
       "IRXA8MAZp1QVN4qQXkfHBrgUH7LMbUUkXYbCQIaQskhoApDm2ohkIMuzXUBGAZMRewOQ5l6AkDrd\n",
       "3yQA9MUCzo/ME0BSSM6InAiylIWBHWw3g08HEDyAGvhwJliMRwFMySE73p1PAMS6v4ARRHMgS7F7\n",
       "AfXLXbBhYAUJMCkgSTE+0GRgyHesYbgGFtmGkCpgmMl3gUFcia0yASwi/FYAFvL/FvC9/oYcHFdf\n",
       "QAIKCgBACzQrtGfvLgAAAABJRU5ErkJggg==\n",
       "\" style=\"display:inline;vertical-align:middle;\" /></a>, <a class=\"ProveItLink\" href=\"../../ordering/__pv_it/theorems/5d76fdd975252a644e3e1cb067a357f9a9c8486a0/expr.ipynb\"><img src=\"data:image/png;base64,iVBORw0KGgoAAAANSUhEUgAAADMAAAATBAMAAADPIygvAAAAMFBMVEX///8AAAAAAAAAAAAAAAAA\n",
       "AAAAAAAAAAAAAAAAAAAAAAAAAAAAAAAAAAAAAAAAAAAv3aB7AAAAD3RSTlMAEHaZZquJVO8y3btE\n",
       "zSKD2s2pAAAACXBIWXMAAA7EAAAOxAGVKw4bAAAA4ElEQVQoz2NgwAC+3ftvdTswYAUbnjIc9RbA\n",
       "LvWMgZszAJcU84MLKELaq1ZdgEttQJY5q4jQxSoINJBR2YFBFCTAdxHJwNm1DxgY2NgbGPxBArwP\n",
       "4FIvbv0CmTCdeQFDNFgKyRkusiBagEOBoQnEmLEKCDZApLhFwF4+L8D5E0RLI+niNNgIYtgyMDWA\n",
       "aC5kf1m+BjG2MnCDfc6kgCQlzQQy0ZThPCQsr8OlHjOwOOwBMkST7CHOFt0jAAv5fQy77xeA2LlQ\n",
       "1cd2rUIJObYLjO3Y44aBS4E1AYcUu5MNDhkADGJEjCMFBEsAAAAASUVORK5CYII=\n",
       "\" style=\"display:inline;vertical-align:middle;\" /></a> <a class=\"ProveItLink\" href=\"../__pv_it/demonstrations/2d61e9a08b936274fd958097c50d64456693b8500/proof.ipynb\" style=\"text-decoration: none\">&nbsp;&#x22A2;&nbsp;&nbsp;</a><a class=\"ProveItLink\" href=\"../__pv_it/demonstrations/3424103a21e21ff15801e65687fc49a30da0b75d0/expr.ipynb\"><img src=\"data:image/png;base64,iVBORw0KGgoAAAANSUhEUgAAAQQAAAAVBAMAAABS242zAAAAMFBMVEX///8AAAAAAAAAAAAAAAAA\n",
       "AAAAAAAAAAAAAAAAAAAAAAAAAAAAAAAAAAAAAAAAAAAv3aB7AAAAD3RSTlMAEGZU7912IonNmUS7\n",
       "qzLCARrXAAAACXBIWXMAAA7EAAAOxAGVKw4bAAACb0lEQVRIx53WP2gUQRQG8G9v7l/2LsemVAws\n",
       "CopByBXJoVYrGpsUHujaiDIoKAjiNaayCAiBFCFnekkIRBJEDEEsbJJKCxHUUhQCErDTzi44OzN3\n",
       "Zm7fWzYuHOzOvfn2t3NzO4MRJEcF3NGhmytkqRcg4+gwOcf12R223xu6+W26qdxEIcwQ1FaoRmkJ\n",
       "YpbtWE6l7gU04SwOS0iSblvCkYyeT91L7+syTfC6hySYpKHAEFad77acq7FeQi/+IU3wwxRhiyb0\n",
       "m5OkwoohRE5ty7kq2ikmZDahiBShRRNaBwm4oAmim9FzKMxHOPefhCVN8NVs9O5+/vnEKfHuhxgF\n",
       "qp/yEdYtgQ1iCAuakDyojwdyzSmpigjjKrbLE/xYHxq5ZAlsEEM4rQmlJnAK48EXp+SH38Y3deso\n",
       "3yhctQQ2iCFMaEJxE9jFhm5ei+NLcXxTnQVFictA47d53GtT9nEZwrQlsEGG8K/ZJv3qE5BUucrt\n",
       "oLGveuYchen+dOSC6FF43f8hUPuDEbdkA2V1e9HONxd6PwQbxBAmNaEu4X0YjjDrlnxEXYUXdvKN\n",
       "wjtD4IMYwhlNUP87sX80qjXdkpfYDs0/1iEsdkjCgiHwQWmCTlrXhEYb3nN5/sRAyejcK1VT2nQJ\n",
       "3688CynCnh0FNihFMEk3zAv6FvNSm1efRxgYBWaxLu1mvB3nybej3jC0DWGMWl2qXe/igSWsFmYT\n",
       "1HrDLFM2KL1M2dVNE+rUhqYkh9U0qOzk3bK85xZrE0RvWfDY7hc86j7i5AtORxKOcQQTxBAUfCK+\n",
       "rk5m2I3GPapxUnca3AZKiKlYMjkiJr8qd/AXmpi1Di7fHHIAAAAASUVORK5CYII=\n",
       "\" style=\"display:inline;vertical-align:middle;\" /></a></span>"
      ],
      "text/plain": [
       "{x in Real, y in Real} |- floor((x + y) + 1) = (floor(x + y) + 1)"
      ]
     },
     "metadata": {},
     "output_type": "display_data"
    }
   ],
   "source": [
    "floor_x_plus_y_plus_1.rounding_extraction(1, assumptions=[InSet(x, Real), InSet(y, Real)])"
   ]
  },
  {
   "cell_type": "markdown",
   "metadata": {},
   "source": [
    "### Round.rounding_extraction()"
   ]
  },
  {
   "cell_type": "code",
   "execution_count": 74,
   "metadata": {},
   "outputs": [
    {
     "data": {
      "text/html": [
       "<span style=\"font-size:20px;\"><a class=\"ProveItLink\" href=\"../../ordering/__pv_it/theorems/d1323f34847310a404e8089c2c268d3c2eb89dbf0/expr.ipynb\"><img src=\"data:image/png;base64,iVBORw0KGgoAAAANSUhEUgAAADQAAAAQBAMAAACra0H4AAAAMFBMVEX///8AAAAAAAAAAAAAAAAA\n",
       "AAAAAAAAAAAAAAAAAAAAAAAAAAAAAAAAAAAAAAAAAAAv3aB7AAAAD3RSTlMAEHarMolUmd1mIs3v\n",
       "RLtmgJDEAAAACXBIWXMAAA7EAAAOxAGVKw4bAAAAyklEQVQY02NgwACce9797nnJgBXwcRnwWj7E\n",
       "IRXA8MAZp1QVN4qQXkfHBrgUH7LMbUUkXYbCQIaQskhoApDm2ohkIMuzXUBGAZMRewOQ5l6AkDrd\n",
       "3yQA9MUCzo/ME0BSSM6InAiylIWBHWw3g08HEDyAGvhwJliMRwFMySE73p1PAMS6v4ARRHMgS7F7\n",
       "AfXLXbBhYAUJMCkgSTE+0GRgyHesYbgGFtmGkCpgmMl3gUFcia0yASwi/FYAFvL/FvC9/oYcHFdf\n",
       "QAIKCgBACzQrtGfvLgAAAABJRU5ErkJggg==\n",
       "\" style=\"display:inline;vertical-align:middle;\" /></a>, <a class=\"ProveItLink\" href=\"../../ordering/__pv_it/theorems/5d76fdd975252a644e3e1cb067a357f9a9c8486a0/expr.ipynb\"><img src=\"data:image/png;base64,iVBORw0KGgoAAAANSUhEUgAAADMAAAATBAMAAADPIygvAAAAMFBMVEX///8AAAAAAAAAAAAAAAAA\n",
       "AAAAAAAAAAAAAAAAAAAAAAAAAAAAAAAAAAAAAAAAAAAv3aB7AAAAD3RSTlMAEHaZZquJVO8y3btE\n",
       "zSKD2s2pAAAACXBIWXMAAA7EAAAOxAGVKw4bAAAA4ElEQVQoz2NgwAC+3ftvdTswYAUbnjIc9RbA\n",
       "LvWMgZszAJcU84MLKELaq1ZdgEttQJY5q4jQxSoINJBR2YFBFCTAdxHJwNm1DxgY2NgbGPxBArwP\n",
       "4FIvbv0CmTCdeQFDNFgKyRkusiBagEOBoQnEmLEKCDZApLhFwF4+L8D5E0RLI+niNNgIYtgyMDWA\n",
       "aC5kf1m+BjG2MnCDfc6kgCQlzQQy0ZThPCQsr8OlHjOwOOwBMkST7CHOFt0jAAv5fQy77xeA2LlQ\n",
       "1cd2rUIJObYLjO3Y44aBS4E1AYcUu5MNDhkADGJEjCMFBEsAAAAASUVORK5CYII=\n",
       "\" style=\"display:inline;vertical-align:middle;\" /></a> <a class=\"ProveItLink\" href=\"../__pv_it/demonstrations/76354bd432fead427917c5aa2364029d0d05bdea0/proof.ipynb\" style=\"text-decoration: none\">&nbsp;&#x22A2;&nbsp;&nbsp;</a><a class=\"ProveItLink\" href=\"../__pv_it/demonstrations/545593044b81a2ac5a1ef6d3a864357fc7487bb40/expr.ipynb\"><img src=\"data:image/png;base64,iVBORw0KGgoAAAANSUhEUgAAAYsAAAAVBAMAAABF1d8/AAAAMFBMVEX///8AAAAAAAAAAAAAAAAA\n",
       "AAAAAAAAAAAAAAAAAAAAAAAAAAAAAAAAAAAAAAAAAAAv3aB7AAAAD3RSTlMAMom7Iplm783dEER2\n",
       "q1TfLoYRAAAACXBIWXMAAA7EAAAOxAGVKw4bAAADvklEQVRYw6WXW2gTQRSG/yabptkk2+iLKKJR\n",
       "XxSqRtAnFQNeoKAolZaKFiNeEPESfFC81OZFBUGMhSJBLQsqiFCaJ0UUuoL1QawtiqVIC0EUFQRb\n",
       "KEWqtJ6Z3Rhmdut2kwMt2X/P7Hf+mdmZWcAlFFQQjo2T5SOTKOuBFG8rsRE27FqkUD7yuQfViqqr\n",
       "u+i/Fp9lxfN1SdjavAZ4ZU/8VAEykpIHbunuvF0VopZ128PZmVA/3JBsKAmszqNGt2VmKkFek64f\n",
       "QJuyq0L0sBKaBOmxfdoUe6JfF3OiSQTTqN4lNwikvCHDQv5hSe0vqL9KqmOsYP/SgvTDlqQZsg0r\n",
       "JziJ6DhwXm4Q9IjUhNcrqIvqkzx+lVTHuMzSM+XaiGYRHQOuyA2+wRtStFGTklVtgqtVy5QGulfX\n",
       "l1d7U4jq4b77dRtoar97McWmAL1u6puPc1cJJbLMLhcbFKFRYKVcaQO8IS2AhfQNyDaeprjq8zf4\n",
       "0qjPK+M+LY1TdD2M7iSeJP2TlvsA+ow9QolmpquNxXTvKH8fcjx4CTQ8npAWwEJWZyTswpEYV7fV\n",
       "ZMn/HaB9USCLITwLJbAzpp5BgLUI0dJxCKf0QaFElvne3cZd+vsqj0YnvCEtgIXU0rZJNcXVBbXM\n",
       "PQ1/qx40cBF6dx4/dRJCbPkO5oEYmnmDPbnc2VyO1WZm8l6+dc7qZdNGKYfuJtiIyDYuwAOyBLCQ\n",
       "VaMSFmjTucoWuWACyh/6pdBL+RPUQSTQs81ngpcs9HSPXjXmOhon+FLiYMMTsggwkWFpNOYAmwpc\n",
       "ZXOw24BvnH5FRtkDMaGSwCc/G2GEx/FILLEZkbSbDdqMtwDf5XejE96QRYCJ1LKiOq0zG0xtZ7tn\n",
       "CsE4NsKfOIbT0CZ93QUMaXTk8htQ10fTiIslUuaAm425wGvgoDwatCR5QhYBJrI6IaqtfFKRqvxm\n",
       "3TWAdUAL5sXjNMiRzAG/oXUEwJcybexBOlwQS2xBj7yAr06KNpSOxsYsX1/FoBXYE7IIMJEBydwR\n",
       "vm+QGubDtLSXZmRX3efhGF2rgwV1eMmOF+ywRlf7jC8npZ7uqtufFJ830nY9JeSEpqenaeG5bTtC\n",
       "whuyCDCRobyohhvpaPhPnTluzrCLL3fcZG07vZKVb4di3pAlAEPWO2LrXY+uh52Ohr6Mesnx5GY7\n",
       "PtoPgvbD4v+RFsBCNjlim1xt+J0+rUJGdJafIZvt0toKkErC8Wsx4f4h4ZSiHd87y48ph5rvVYB0\n",
       "dDiDKsb2Sj5iIw4AxSgf+XIm9S/65JeCRWP1zQAAAABJRU5ErkJggg==\n",
       "\" style=\"display:inline;vertical-align:middle;\" /></a></span>"
      ],
      "text/plain": [
       "{x in Real, y in Real} |- round(x + y + 1 + 2) = (round(x + y) + 3)"
      ]
     },
     "metadata": {},
     "output_type": "display_data"
    }
   ],
   "source": [
    "round_add_xy12.rounding_extraction(2, assumptions=[InSet(x, Real), InSet(y, Real)])"
   ]
  },
  {
   "cell_type": "code",
   "execution_count": 75,
   "metadata": {},
   "outputs": [
    {
     "data": {
      "text/html": [
       "<span style=\"font-size:20px;\"><a class=\"ProveItLink\" href=\"../../ordering/__pv_it/theorems/d1323f34847310a404e8089c2c268d3c2eb89dbf0/expr.ipynb\"><img src=\"data:image/png;base64,iVBORw0KGgoAAAANSUhEUgAAADQAAAAQBAMAAACra0H4AAAAMFBMVEX///8AAAAAAAAAAAAAAAAA\n",
       "AAAAAAAAAAAAAAAAAAAAAAAAAAAAAAAAAAAAAAAAAAAv3aB7AAAAD3RSTlMAEHarMolUmd1mIs3v\n",
       "RLtmgJDEAAAACXBIWXMAAA7EAAAOxAGVKw4bAAAAyklEQVQY02NgwACce9797nnJgBXwcRnwWj7E\n",
       "IRXA8MAZp1QVN4qQXkfHBrgUH7LMbUUkXYbCQIaQskhoApDm2ohkIMuzXUBGAZMRewOQ5l6AkDrd\n",
       "3yQA9MUCzo/ME0BSSM6InAiylIWBHWw3g08HEDyAGvhwJliMRwFMySE73p1PAMS6v4ARRHMgS7F7\n",
       "AfXLXbBhYAUJMCkgSTE+0GRgyHesYbgGFtmGkCpgmMl3gUFcia0yASwi/FYAFvL/FvC9/oYcHFdf\n",
       "QAIKCgBACzQrtGfvLgAAAABJRU5ErkJggg==\n",
       "\" style=\"display:inline;vertical-align:middle;\" /></a>, <a class=\"ProveItLink\" href=\"../../ordering/__pv_it/theorems/5d76fdd975252a644e3e1cb067a357f9a9c8486a0/expr.ipynb\"><img src=\"data:image/png;base64,iVBORw0KGgoAAAANSUhEUgAAADMAAAATBAMAAADPIygvAAAAMFBMVEX///8AAAAAAAAAAAAAAAAA\n",
       "AAAAAAAAAAAAAAAAAAAAAAAAAAAAAAAAAAAAAAAAAAAv3aB7AAAAD3RSTlMAEHaZZquJVO8y3btE\n",
       "zSKD2s2pAAAACXBIWXMAAA7EAAAOxAGVKw4bAAAA4ElEQVQoz2NgwAC+3ftvdTswYAUbnjIc9RbA\n",
       "LvWMgZszAJcU84MLKELaq1ZdgEttQJY5q4jQxSoINJBR2YFBFCTAdxHJwNm1DxgY2NgbGPxBArwP\n",
       "4FIvbv0CmTCdeQFDNFgKyRkusiBagEOBoQnEmLEKCDZApLhFwF4+L8D5E0RLI+niNNgIYtgyMDWA\n",
       "aC5kf1m+BjG2MnCDfc6kgCQlzQQy0ZThPCQsr8OlHjOwOOwBMkST7CHOFt0jAAv5fQy77xeA2LlQ\n",
       "1cd2rUIJObYLjO3Y44aBS4E1AYcUu5MNDhkADGJEjCMFBEsAAAAASUVORK5CYII=\n",
       "\" style=\"display:inline;vertical-align:middle;\" /></a> <a class=\"ProveItLink\" href=\"../__pv_it/demonstrations/df223de9066994798c758c47c95d67006f542d920/proof.ipynb\" style=\"text-decoration: none\">&nbsp;&#x22A2;&nbsp;&nbsp;</a><a class=\"ProveItLink\" href=\"../__pv_it/demonstrations/6792f4370da9a725b2f67f9025e9dd6287c21f220/expr.ipynb\"><img src=\"data:image/png;base64,iVBORw0KGgoAAAANSUhEUgAAAbUAAAAVBAMAAAAz7220AAAAMFBMVEX///8AAAAAAAAAAAAAAAAA\n",
       "AAAAAAAAAAAAAAAAAAAAAAAAAAAAAAAAAAAAAAAAAAAv3aB7AAAAD3RSTlMAMom7Iplm783dEER2\n",
       "q1TfLoYRAAAACXBIWXMAAA7EAAAOxAGVKw4bAAAEjElEQVRYw42YXWgcVRTH/zv7lZ396OKLtA92\n",
       "rS8VYt0HfbKFBUEIKIZIYoMWV7QgImbxwYJfXRArFMS04MPSakdiUaRh96l5sJgpNPrSaIi1thLp\n",
       "UtS0IKSFUCQt1nNmZmcm956Z6YGzO3v53/M7537lToAEy3gutavWkJskqaRNFmTuPY/E+GQ/ea5a\n",
       "0daaSn1ddkaWitpkgRBJyu2M55GW+niUPis113X7QWu5Sr7VCkZ0/MMqSk1R6mhjwbJAi+TkJkEd\n",
       "cKRt4ZH7xnPdhiylwWzD/PXToPVJGLeBw5KUtfHgCIEWiXKLgB6Oq22ee0x4rltu1Hs47X1neaR+\n",
       "DjAXgAPA/rDUt2wzARwh0KBObiJ0f1xtD/NHy3PB3vG+//G+8wrmoIUrDeStkNS3fBI4SqBCW5HQ\n",
       "vBWD+IiXc9t1yQ4pmGsK5jJwpYqhZkjq2zUkgKMECtTNTYSSpx7KjNHT8GLPXGiibBUXvxreTXty\n",
       "+ex/vHZqrpvnf79vl79ZSDgLPKLUNqZgyE4AxhICqW+kjQdzsFOLX+7wT8tTEzCXNGi2FgklN9Jj\n",
       "Rgsjvcy6UWlhin6voNvAXCO9AQwGAFks2pODzq4Qrym1HdIwqTu0Q3hkHWm249iSp40Hc7DR0kp2\n",
       "ehCrtorcDQ3qrAoZSv7U0DQVfxw4+gAFuoTvCnU8WzXfRpaTKvRdfxVT1sVBbxb+AqwqtX2hYQpU\n",
       "R4V3xKo6b6SNB5Mg18htlAdHSqo/iXJdgxb6kVDybVt4WmhE3rfyNt6D1e1hzaKGAk93vud6FXud\n",
       "jl3mukJs54bJTudAp/M5P74bYLruFn2Ok6LQrjRspI0HkyDlVulGM0lBMhXKuUVA2fnEzdeRuUNP\n",
       "mZvAGmgQqaHbC9UGLoYHZdQ9pFMknFPmLVSbK8vx8ivyvM0JtcWDnWB5O4AWN7C9qkHDtSlQdt5G\n",
       "XRvGOj2VbnB83DKpYQqhNYniOr71M9uLEnW8nrQmryLTQIV3zHV1v7E2FuwEm2+Yfjiawx+hQfU1\n",
       "6UPZj/JNoIl8DXuQrr+Ot1DZMLp9XKrQdTNtO24+UW4huHmRkDJ8Raltt4JJ1VCykKNN4kt9Y20s\n",
       "mAQzvd9g+D2IuAcaNG1HQskzt3lQlvA4sA/312q0Okrtl9N25bMs/MO0cvNkqxhcXvdhvumd+aHa\n",
       "nOP50eD+PTI+Pumd0mNqbaSNB5Ngbdvz+D64ySwVb0GDOn9hZCh50TlldyzQwp0d/nOlSr/Ni31z\n",
       "5cFnzvIwTDtuvmj/9WaQ2ezwSxTtmFLbVvI/Dn7iX5ZO3L37L60a3hHH1NpIGw8mwcnzlYlgPM3l\n",
       "hXVoUM4vAuqAY+2I54rtpHGfVmorVKUAIwhJg4O6msAVBEZbgB5BFHQk8fVNunUabfOD0G32tHqP\n",
       "3WQT4s1Y1sYJduLrvgCVb8TRN/ywpRuubxpTu1zjtwnVHpPelOuQpKI2VnAcy1KkdCMC6oDjzay7\n",
       "vul98I0XxOxmIsZGKmQmCawK/uaNqUcy6/c4IZI97bn2zq/3zQj/OzgnS0VtskCIJOV2zvX/ATAe\n",
       "xzArQTMmAAAAAElFTkSuQmCC\n",
       "\" style=\"display:inline;vertical-align:middle;\" /></a></span>"
      ],
      "text/plain": [
       "{x in Real, y in Real} |- round((x * y) + (1 * 2)) = (round(x * y) + (1 * 2))"
      ]
     },
     "metadata": {},
     "output_type": "display_data"
    }
   ],
   "source": [
    "round_add_mult_mult.rounding_extraction(1, assumptions=[InSet(x, Real), InSet(y, Real)])"
   ]
  },
  {
   "cell_type": "code",
   "execution_count": 76,
   "metadata": {},
   "outputs": [
    {
     "data": {
      "text/html": [
       "<strong id=\"round_02\">round_02:</strong> <a class=\"ProveItLink\" href=\"../__pv_it/demonstrations/1ffbf581a5ed466e01edc5fa19669c87abf299700/expr.ipynb\"><img src=\"data:image/png;base64,iVBORw0KGgoAAAANSUhEUgAAAL8AAAAVBAMAAADlQyK9AAAAMFBMVEX///8AAAAAAAAAAAAAAAAA\n",
       "AAAAAAAAAAAAAAAAAAAAAAAAAAAAAAAAAAAAAAAAAAAv3aB7AAAAD3RSTlMAMom7Iplm783dEER2\n",
       "q1TfLoYRAAAACXBIWXMAAA7EAAAOxAGVKw4bAAACgklEQVQ4y6VVTWgTQRh92exukt003YMH20tX\n",
       "vYhUGtBji4uC4KEkRBItIu7Fq4Sq9KDQgOBBEIOegtquFClICzkJQrHrT9FDtSEoYqw0iPgDhbZQ\n",
       "iqSl9ZumlEwSM8EMzMC+fW/efN9+8y0gGBZaGE2Ig8VWDKYavdx7la3fmt2rw+Gf5fgNA0G7kWST\n",
       "ppZqbnvt450qgxOQ1oFbDTR6iRaFP8LTGtYuMufwyAdgCLjYwEBK0+LjscUa1mKNwQ4y7GDBgs/5\n",
       "t4E/Ssuv/zb4DCwY8NvwHJBjNqTZL5hIAAVMFY6/coH+7i5WPzGaE+8e7S9yYmJqOYEBjVFKQw6S\n",
       "NyYl5fuIWOZPqMsw+1xtFfoVHGOKmzSjwXklzYnLTJGBZwNQUzjpTytmwEVgX3EAbSk9ew/yCsZt\n",
       "nGWkEeJYaqnNrhR7GDMsNAhQkKEkOttJfIE+ZwHX4XM1bR2hEgPuMtI12g5KuVYHMpmhTOYh1eQ2\n",
       "sxLZNahETrOzUKDT9OYyEHGpLiMGQssUBwFkVDZAebPK0xGzyxBFoLKvpCfJlI5E2eqxKNFzYLu3\n",
       "2082dpI8wpZpS3M4MYX0RlRF1ANkC6F0ORVrwCC8ORxRHZ+JJefQJhl9pxe9wFj2EyReTMw+kYHH\n",
       "RNCBGobMUnEe3iiUnGdQYll6qxq9+B1l9+AwsNR5Bs95sZLT16oNeiweORWPU24UEzqrQKn7HCUq\n",
       "/77/BZ4Bk5cw+XLPPMtyB/B4NpQo8mItP7NaZfB1+DZXaRjd2vpDlZQVNLGAUf/eSinx3d6OQ9Ql\n",
       "1Wi91nYQ40Vx+2MjIezDR+uBD5BvrovLYSFlrB74YybbnIFX/M+U3VZ+ma+BvzkY0m0BQDcBAAAA\n",
       "AElFTkSuQmCC\n",
       "\" style=\"display:inline;vertical-align:middle;\" /></a><br>"
      ],
      "text/plain": [
       "<IPython.core.display.HTML object>"
      ]
     },
     "metadata": {},
     "output_type": "display_data"
    }
   ],
   "source": [
    "round_02 = Round(Add(x, y, one, two))"
   ]
  },
  {
   "cell_type": "code",
   "execution_count": 77,
   "metadata": {},
   "outputs": [
    {
     "data": {
      "text/html": [
       "<span style=\"font-size:20px;\"><a class=\"ProveItLink\" href=\"../../ordering/__pv_it/theorems/d1323f34847310a404e8089c2c268d3c2eb89dbf0/expr.ipynb\"><img src=\"data:image/png;base64,iVBORw0KGgoAAAANSUhEUgAAADQAAAAQBAMAAACra0H4AAAAMFBMVEX///8AAAAAAAAAAAAAAAAA\n",
       "AAAAAAAAAAAAAAAAAAAAAAAAAAAAAAAAAAAAAAAAAAAv3aB7AAAAD3RSTlMAEHarMolUmd1mIs3v\n",
       "RLtmgJDEAAAACXBIWXMAAA7EAAAOxAGVKw4bAAAAyklEQVQY02NgwACce9797nnJgBXwcRnwWj7E\n",
       "IRXA8MAZp1QVN4qQXkfHBrgUH7LMbUUkXYbCQIaQskhoApDm2ohkIMuzXUBGAZMRewOQ5l6AkDrd\n",
       "3yQA9MUCzo/ME0BSSM6InAiylIWBHWw3g08HEDyAGvhwJliMRwFMySE73p1PAMS6v4ARRHMgS7F7\n",
       "AfXLXbBhYAUJMCkgSTE+0GRgyHesYbgGFtmGkCpgmMl3gUFcia0yASwi/FYAFvL/FvC9/oYcHFdf\n",
       "QAIKCgBACzQrtGfvLgAAAABJRU5ErkJggg==\n",
       "\" style=\"display:inline;vertical-align:middle;\" /></a>, <a class=\"ProveItLink\" href=\"../../ordering/__pv_it/theorems/5d76fdd975252a644e3e1cb067a357f9a9c8486a0/expr.ipynb\"><img src=\"data:image/png;base64,iVBORw0KGgoAAAANSUhEUgAAADMAAAATBAMAAADPIygvAAAAMFBMVEX///8AAAAAAAAAAAAAAAAA\n",
       "AAAAAAAAAAAAAAAAAAAAAAAAAAAAAAAAAAAAAAAAAAAv3aB7AAAAD3RSTlMAEHaZZquJVO8y3btE\n",
       "zSKD2s2pAAAACXBIWXMAAA7EAAAOxAGVKw4bAAAA4ElEQVQoz2NgwAC+3ftvdTswYAUbnjIc9RbA\n",
       "LvWMgZszAJcU84MLKELaq1ZdgEttQJY5q4jQxSoINJBR2YFBFCTAdxHJwNm1DxgY2NgbGPxBArwP\n",
       "4FIvbv0CmTCdeQFDNFgKyRkusiBagEOBoQnEmLEKCDZApLhFwF4+L8D5E0RLI+niNNgIYtgyMDWA\n",
       "aC5kf1m+BjG2MnCDfc6kgCQlzQQy0ZThPCQsr8OlHjOwOOwBMkST7CHOFt0jAAv5fQy77xeA2LlQ\n",
       "1cd2rUIJObYLjO3Y44aBS4E1AYcUu5MNDhkADGJEjCMFBEsAAAAASUVORK5CYII=\n",
       "\" style=\"display:inline;vertical-align:middle;\" /></a> <a class=\"ProveItLink\" href=\"../__pv_it/demonstrations/ed8948e5d4bdba1af8bd2c540116c00c6e4e53790/proof.ipynb\" style=\"text-decoration: none\">&nbsp;&#x22A2;&nbsp;&nbsp;</a><a class=\"ProveItLink\" href=\"../__pv_it/demonstrations/216d81352050b8a9a45cf0ac57c5bbaea334af420/expr.ipynb\"><img src=\"data:image/png;base64,iVBORw0KGgoAAAANSUhEUgAAAd8AAAAVBAMAAAD1KvkNAAAAMFBMVEX///8AAAAAAAAAAAAAAAAA\n",
       "AAAAAAAAAAAAAAAAAAAAAAAAAAAAAAAAAAAAAAAAAAAv3aB7AAAAD3RSTlMAMom7Iplm783dEER2\n",
       "q1TfLoYRAAAACXBIWXMAAA7EAAAOxAGVKw4bAAAFMUlEQVRYw61Yb2hbVRT/JXlJmveSNBRB8YN9\n",
       "U9Ap0UV0n9zw4ZxQcDRUOlrmWEQLIrqG+mco/gmIivuUTYbUTfY+KJNhaD5tiIW+qVWRdYYqc9bC\n",
       "gkzHQGgLoYysrJ773kvev5uXF9iBE+47/Z3zu+fcc++7r0AXEUzli8J36BSIh/eJ3hXQA72OVdBd\n",
       "LpjKl1m+A08kjY/3id4V0AO9jp31owl9lKfftGxoB0kW3BYGDn3mMu4eexj4kYv3i447XsetoBdG\n",
       "38/oWA69Tfrr9POVqZ3ksNtA4MpY00WYw7Yq+lQe3jc6bt4KeuxC+IaBPexHNscmuNdUS844niZa\n",
       "DduqHQMnm05rSkG8iFjehrdkr88UpKYHIBV6psfvwCEDO+GX8P3sp2iqJf85nuKq2UqaaSjaGU1r\n",
       "vIlUA3jLhrek6DOFcNkDaBMFp8d7Ki4rOtZLb5MPmEvJ0I4J9xWcsXWwmzFVRmoN+NCGtxIo+Uyh\n",
       "L+8BOBMORI8/gcsZHUsaukcYoVF2oSrOF5BSpYUvsjto2y2eY/snKhsqnl8aeMiRMENXaA1qztgM\n",
       "7GUEEqvAg7DwbWEOA7nd99Kfzv+Fr6kllzC79MT35LknO1j30LdCElKsBabHSYOaNBwZCRcxVBUa\n",
       "4XQRk/S8jBkFZ5VI06wg0ygWtHFHwgYasZIztl5yDuMgjV5ECz8+zeTzloO8Xb4PwnEMK/JVxFYh\n",
       "79TEBqTX8LjqoW+FNJBB6UMbBjXpU31lKssJ4Ohd0TIu4dtEDsMZ8Q1EWaxE3dAXMKledCTM0L9R\n",
       "zKIzNgPzGFlyV2Hh20IOQuFjjCChIbGlPo5USap+AmENpwoYg4feDBliyFxg+kTNoCa9s59VkBru\n",
       "HTWu4W2oM1WsqGRIsO6IVw3N6Nz60hwylsZAI7TKGml6+tM3p6drpoPJaLMimmOrDBPvOHaqCKnr\n",
       "NDhA4yUKGddE8QbSTWY4Cie9FVLUkUHp8YxJzZS9feI5CBs0orpiBbTOZJip2hIGS855aM2pIUJL\n",
       "rhLbGO0lfoX9nIWFtydsvH1eBYY1Gg1nkF6ldSYDJe6hb4Uk5GAmKH2sZlIzZXtjRkO4QaPkKssW\n",
       "6yIZJmFraUgNnHYmPIYk65FykJ6i+8+TwDW08LY9zBxod0CkXbZNodGvYNn2F05vsE3qoW8fTyX8\n",
       "FJQef0NQdCxT1jbU1nEZOxHJvYQpaqfwTB2X0nTVjmi6io+lipCdCROa6hbLOWMzBy/jAPAL8Dws\n",
       "fFuYg757qK2nWMhHYirNZUV94CYlfsVD3yaq0QwC0odkJFUdSyqwtonWsB3Yj9tlmbo6WXouoqWP\n",
       "RdE+ytNrXxalujPh/ZgrmO8BW2z9PUHd4rAKx0ZHqbQjsPDW3YIchqt6vEieJhKaCrOu/jmW2YFr\n",
       "+byHvr3CNWk9ID2GRkfH269YSW+Ku+eJs5K9spyhZ/FiXVzesuccq01ZV/FZ7Z+Drj1cyR6gFkhU\n",
       "XcUkh9Qf151HamJzc5PO/OOw8NY3Cjl8o881u48ae/EC8dJz5SAq3922nPHQt4jExflGQHqc3Ny8\n",
       "bmA99B45YirvprWVFc+9XY50vBYJZRveydB1CryQ4VJP9Dp2qOvnsPfGfaZFJ75ru9m3b+8THW/6\n",
       "0QL3U2EiyBS8IbfiVL0nes53EE8iiqEeSWgpWf/w4zjwZRd4eB8HX8AJLPZGz7AcereIOUO93+0v\n",
       "7+PGFzvGfJQ/HzEXYApe+ZedOr3Qd1w6lzxtKl9+4Dtw/zuh8PE+0bsCeqDXsaT/A5Qz7pU7fX9E\n",
       "AAAAAElFTkSuQmCC\n",
       "\" style=\"display:inline;vertical-align:middle;\" /></a></span>"
      ],
      "text/plain": [
       "{x in Real, y in Real} |- round((x + y) + (1 + 2)) = (round(x + y) + (1 + 2))"
      ]
     },
     "metadata": {},
     "output_type": "display_data"
    }
   ],
   "source": [
    "round_add_add.rounding_extraction(1, assumptions=[InSet(x, Real), InSet(y, Real)])"
   ]
  },
  {
   "cell_type": "markdown",
   "metadata": {},
   "source": [
    "## The `shallow_simplification()` method\n",
    "<font size=4> Some testing of the `do_reduced_simplification()` method(s), allowing the simplification of `Ceil(x)`, `Floor(x)`, and `Round(x)` to the operand $x$ when we know $x\\in\\mathbb{Z}$, and simplification of `f(x+n)` to `f(x)+n` when $x$ is real and $n\\in\\mathbb{Z}$. This is not a method that would typically be called directly — instead it ends up getting called by the more general Expr.simplification() method.</font>"
   ]
  },
  {
   "cell_type": "markdown",
   "metadata": {},
   "source": [
    "### Ceil.shallow_simplification()"
   ]
  },
  {
   "cell_type": "code",
   "execution_count": 78,
   "metadata": {},
   "outputs": [
    {
     "data": {
      "text/html": [
       "<span style=\"font-size:20px;\"> <a class=\"ProveItLink\" href=\"../__pv_it/demonstrations/af325f8cb48202d44154f6425a74fd788a6954090/proof.ipynb\" style=\"text-decoration: none\">&nbsp;&#x22A2;&nbsp;&nbsp;</a><a class=\"ProveItLink\" href=\"../__pv_it/demonstrations/225e494d76b07021d38995c95301512a314464680/expr.ipynb\"><img src=\"data:image/png;base64,iVBORw0KGgoAAAANSUhEUgAAAEAAAAAVBAMAAAAEBPWpAAAAMFBMVEX///8AAAAAAAAAAAAAAAAA\n",
       "AAAAAAAAAAAAAAAAAAAAAAAAAAAAAAAAAAAAAAAAAAAv3aB7AAAAD3RSTlMARN12ZlQimc27Momr\n",
       "7xBJVNCIAAAACXBIWXMAAA7EAAAOxAGVKw4bAAAAsElEQVQoz2MQUlJmAIEgJRUGrMAFzhLHrSC9\n",
       "YhZWBWBxoAK2CQz7BbAogIgDFfAkMPBewKIAIg5UwPuPgecbFgUQcZAJCgw8v7CZABaH+ILpA3Zf\n",
       "AMUhCtYbwBSwK4HBAQaYOESBDo5w0IEGFPsE7ApA4mAFPjhC0gcakqwbGNKwuQEsDlKwmoHBDpsJ\n",
       "YHFQUKuXlytgC2qwOFAB0////xuwKICIExXdNFYQiuwpLAAAmnIt3+UflfYAAAAASUVORK5CYII=\n",
       "\" style=\"display:inline;vertical-align:middle;\" /></a></span>"
      ],
      "text/plain": [
       "|- ceil(2) = 2"
      ]
     },
     "metadata": {},
     "output_type": "display_data"
    }
   ],
   "source": [
    "# simplifying ceiling of an integer\n",
    "ceil_2.shallow_simplification()"
   ]
  },
  {
   "cell_type": "code",
   "execution_count": 79,
   "metadata": {},
   "outputs": [
    {
     "data": {
      "text/html": [
       "<span style=\"font-size:20px;\"><a class=\"ProveItLink\" href=\"../__pv_it/demonstrations/afb365f108d4dd6c721b8c94587e09ba7c4bb65a0/expr.ipynb\"><img src=\"data:image/png;base64,iVBORw0KGgoAAAANSUhEUgAAAGYAAAAVBAMAAABGR4Y+AAAAMFBMVEX///8AAAAAAAAAAAAAAAAA\n",
       "AAAAAAAAAAAAAAAAAAAAAAAAAAAAAAAAAAAAAAAAAAAv3aB7AAAAD3RSTlMAInZUiRDNmWbv3US7\n",
       "qzJazP2FAAAACXBIWXMAAA7EAAAOxAGVKw4bAAABp0lEQVQ4y2NgYBBgwAEYcUkwMBngkuFWQBNg\n",
       "zvyZs+pkAwODCU7TGDTQjT/7gCGBjYGBNQG3HrYAVD57AQNTgzOQbsCth6MAlc8rwBDDeoCBgZMB\n",
       "D5gKddOpVctANCsDQx3vAwYGM3x6MiBhkQR3I9+F50CyBIiDdONcUEMvqIKB9QIDgy+YI4bwFk/A\n",
       "UahRBUyX2Beg6HGwZOD4wMDQBuYkIsRNOEDhvxjoVQGOr7woQcFnUMXAC/SsJZiHFLKgkGZgmA1U\n",
       "wcAOEQ5bBQLrQJ6dxMAJNPE92IBZQME10Pj3ZmAIAOlhAMujJoGvDO+BAbQTHFoH4MIxjED2RZDb\n",
       "GBj2C7CiRh/QYk0gZQXmILx6DxhDrB8YDgF1b7jJwIJqD88FhrNAqgfMUYJ7s2A7MGIXgILT/mkl\n",
       "w2a0VHKB+wc0IoBJyAAe0qkMjIcPMLxiYAhXYq5AS9ysV9Q/AqnVEM6drRDRncfmnJk/x4GB6wH2\n",
       "JMACDEpGqE+4fSBpB1c6hAA3hkgDPOn3IDbBRQxXgKQMrnQYg03QQn0DLuPAuV4BZ67HUVIAAMbT\n",
       "W4ACDxnyAAAAAElFTkSuQmCC\n",
       "\" style=\"display:inline;vertical-align:middle;\" /></a> <a class=\"ProveItLink\" href=\"../__pv_it/demonstrations/a3a963457decd0ce9280d83919aed212b22e109e0/proof.ipynb\" style=\"text-decoration: none\">&nbsp;&#x22A2;&nbsp;&nbsp;</a><a class=\"ProveItLink\" href=\"../__pv_it/demonstrations/54722cc644862c4fe0959d62b53e3f2196d5a1690/expr.ipynb\"><img src=\"data:image/png;base64,iVBORw0KGgoAAAANSUhEUgAAAJoAAAAVBAMAAABMN+opAAAAMFBMVEX///8AAAAAAAAAAAAAAAAA\n",
       "AAAAAAAAAAAAAAAAAAAAAAAAAAAAAAAAAAAAAAAAAAAv3aB7AAAAD3RSTlMARN12ZlQQqzKJmSLN\n",
       "77vFPH07AAAACXBIWXMAAA7EAAAOxAGVKw4bAAABzklEQVQ4y5WUz0sCQRTHv/7YVdcMCTqGZggd\n",
       "FwwEIRCqU5ESdSiSFoQMKRGKwEMhQUEnhQgJOpgJERjtXxAS/QGG1Lno0KFLhxDBS+NYh1lnhB3Y\n",
       "nWHm+z7vMW/ew0hgAoIhBQLR/l1dJHeTbxYDhqXct2WLC8WqedqqWD1lmibXxeohzSxNiYrV9rJZ\n",
       "mmeQ/NUsbX2Q/InS5ND+6Tl7PZEoUjzaLfmS4a0LNrPJKuQsUKI0BWG1why7pAZi/zQlQEe25x4o\n",
       "23YVPyMvJmD/BhYobR4xbY85PibyQ15sQXLZur3lYJLhjFfgeAMSlJZHje5u0xgmyUrzqGjyaM/E\n",
       "Fgp9JvIjlefJimiJAQp/WWgarXyasy2ggVqy2WqhQKhjPZqlg032vAZbg3dvQepKlzX2FdYxTaal\n",
       "Lk1+dzRQZGmfGM7yYvsAMt4DuNhdov0k02KXJrXTDYuhmG/gi/JoJWDj5A6jhgrJWn7o8+nGdq2u\n",
       "zRmsUmf3Oo92BKRDUtXgW85FOmQaF9fCJbcWrHm+2kXS7PYLaK66/MKl2ct8zztx2hH4NKvqKPL7\n",
       "2xdPPoEc+T+I+ps0cyXolhmefDni7TlaGdQUnMX+7q+KxDYdv/wyZ/u3EnCgAAAAAElFTkSuQmCC\n",
       "\" style=\"display:inline;vertical-align:middle;\" /></a></span>"
      ],
      "text/plain": [
       "{(x - y) in Integer} |- ceil(x - y) = (x - y)"
      ]
     },
     "metadata": {},
     "output_type": "display_data"
    }
   ],
   "source": [
    "# simplifying ceiling of expression assumed to be an integer\n",
    "ceil_x_minus_y.shallow_simplification(assumptions=[InSet(subtract(x, y), Integer)])"
   ]
  },
  {
   "cell_type": "code",
   "execution_count": 80,
   "metadata": {},
   "outputs": [
    {
     "data": {
      "text/html": [
       "<span style=\"font-size:20px;\"><a class=\"ProveItLink\" href=\"../../ordering/__pv_it/theorems/d1323f34847310a404e8089c2c268d3c2eb89dbf0/expr.ipynb\"><img src=\"data:image/png;base64,iVBORw0KGgoAAAANSUhEUgAAADQAAAAQBAMAAACra0H4AAAAMFBMVEX///8AAAAAAAAAAAAAAAAA\n",
       "AAAAAAAAAAAAAAAAAAAAAAAAAAAAAAAAAAAAAAAAAAAv3aB7AAAAD3RSTlMAEHarMolUmd1mIs3v\n",
       "RLtmgJDEAAAACXBIWXMAAA7EAAAOxAGVKw4bAAAAyklEQVQY02NgwACce9797nnJgBXwcRnwWj7E\n",
       "IRXA8MAZp1QVN4qQXkfHBrgUH7LMbUUkXYbCQIaQskhoApDm2ohkIMuzXUBGAZMRewOQ5l6AkDrd\n",
       "3yQA9MUCzo/ME0BSSM6InAiylIWBHWw3g08HEDyAGvhwJliMRwFMySE73p1PAMS6v4ARRHMgS7F7\n",
       "AfXLXbBhYAUJMCkgSTE+0GRgyHesYbgGFtmGkCpgmMl3gUFcia0yASwi/FYAFvL/FvC9/oYcHFdf\n",
       "QAIKCgBACzQrtGfvLgAAAABJRU5ErkJggg==\n",
       "\" style=\"display:inline;vertical-align:middle;\" /></a>, <a class=\"ProveItLink\" href=\"../__pv_it/demonstrations/1a5270d7d3401e3ec902ebbf86bec5c78898bba20/expr.ipynb\"><img src=\"data:image/png;base64,iVBORw0KGgoAAAANSUhEUgAAADIAAAATBAMAAAAg4UMRAAAAMFBMVEX///8AAAAAAAAAAAAAAAAA\n",
       "AAAAAAAAAAAAAAAAAAAAAAAAAAAAAAAAAAAAAAAAAAAv3aB7AAAAD3RSTlMAEHaZZquJVO8y3btE\n",
       "zSKD2s2pAAAACXBIWXMAAA7EAAAOxAGVKw4bAAAA8klEQVQY02NgwADsN37cXrXDAVOCgWnrBIYL\n",
       "vFgkGJgNGJgc0rHJsD5gkGbcgGLKrlVrQTQjA4Ml6wQkCZ5LAjAmZ8BkkAplBwZREPctXIKBW2Aj\n",
       "kGRjb2DwB3HvIbSXsSgAyenMCxiiQdwLCBmImwU4FBiaQGZ3rVq1ajXEKQU5QHEGhvMCnD9B9iHc\n",
       "Kc0HZMcxMNgyMDWA+AvgMpFAHzF+YGDYysAdAOIrwd1scBjoXaBCU4bz4NDjLYC7+SID33aggaJJ\n",
       "9g/AXo8+CJE5sbd7d393AoiZCw2EbEjowADbBcZ2BqyAS4E1AbsMu5MNdgkA2cc0b5s0PBoAAAAA\n",
       "SUVORK5CYII=\n",
       "\" style=\"display:inline;vertical-align:middle;\" /></a> <a class=\"ProveItLink\" href=\"../__pv_it/demonstrations/651e9b42bde13508c9bea347aec625c9ba6ce7ea0/proof.ipynb\" style=\"text-decoration: none\">&nbsp;&#x22A2;&nbsp;&nbsp;</a><a class=\"ProveItLink\" href=\"../__pv_it/demonstrations/77e5ec25e61ce67091b01ccaf7f0cbca396af3710/expr.ipynb\"><img src=\"data:image/png;base64,iVBORw0KGgoAAAANSUhEUgAAAKwAAAAVBAMAAAAp2hhWAAAAMFBMVEX///8AAAAAAAAAAAAAAAAA\n",
       "AAAAAAAAAAAAAAAAAAAAAAAAAAAAAAAAAAAAAAAAAAAv3aB7AAAAD3RSTlMARN12ZlQQqzKJmSLN\n",
       "77vFPH07AAAACXBIWXMAAA7EAAAOxAGVKw4bAAAB9UlEQVQ4y5XUz0vcQBQH8G92k9kkdhcp9Ci7\n",
       "Zi8eAyrCQiFQe2mlhqIXQQws1CJVAoqwB4uXFnoyIKUUPGztQilYDHgvi/gHBETPevLgpYcigpe+\n",
       "/KiwO5O4mUMmTN77zMtkJnhs1JHSFMOwuMEhQDIMMz0gCsE0MprU5oYmAdnKCqBBMzereA+zmMjN\n",
       "vsMA7CMnL9sZhJXbedlgEBbnOVmlOxB7ErHNqbdf7Z5x1rCwLMjSvYRl45ufPvMBzQ6YC3yJ2HZx\n",
       "Xa/1PNaUALP/s3Qjam74MayE1TFl7vOstwj5DzATsrIv35R69/UHmua9oNqCnbAvMetscAGqvY/S\n",
       "BbAYsir0brx7oqrG6M4pmzgVsOXhhN3Gwf3asuMob5vuKIkysRN/srLZv+hVR73NYhHOygdIN9gh\n",
       "fiRmqz5zep8foBgI1vZ+ESDd4Q3P0ms/pe51yK4Nb0HrK+sKFVdQbcWMWXZZCuDxAZR0Rd2rkF36\n",
       "+AtP+vJ/oGoJWM2NWeV2JZBsQbWu9Je6nyG7Mq507L785d1DX8CqtaTa7+bCc8HaslbjjrrR9FO2\n",
       "JzxEYw+dMo021VAthdW67EyY9SKb3cMqvbdupbAFs+QJ2YqfydbRouvvtP+t8uyb+B3ZRSY71wg3\n",
       "9jUwn/UHUz1u6IjmtLMCgKKPf4QqeOcUraUQAAAAAElFTkSuQmCC\n",
       "\" style=\"display:inline;vertical-align:middle;\" /></a></span>"
      ],
      "text/plain": [
       "{x in Real, y in Integer} |- ceil(x - y) = (ceil(x) - y)"
      ]
     },
     "metadata": {},
     "output_type": "display_data"
    }
   ],
   "source": [
    "# simplifying ceiling of a sum of an assumed real and an assumed integer\n",
    "ceil_x_minus_y.shallow_simplification(assumptions=[InSet(x, Real), InSet(y, Integer)])"
   ]
  },
  {
   "cell_type": "code",
   "execution_count": 81,
   "metadata": {},
   "outputs": [
    {
     "data": {
      "text/html": [
       "<span style=\"font-size:20px;\"><a class=\"ProveItLink\" href=\"../../ordering/__pv_it/theorems/d1323f34847310a404e8089c2c268d3c2eb89dbf0/expr.ipynb\"><img src=\"data:image/png;base64,iVBORw0KGgoAAAANSUhEUgAAADQAAAAQBAMAAACra0H4AAAAMFBMVEX///8AAAAAAAAAAAAAAAAA\n",
       "AAAAAAAAAAAAAAAAAAAAAAAAAAAAAAAAAAAAAAAAAAAv3aB7AAAAD3RSTlMAEHarMolUmd1mIs3v\n",
       "RLtmgJDEAAAACXBIWXMAAA7EAAAOxAGVKw4bAAAAyklEQVQY02NgwACce9797nnJgBXwcRnwWj7E\n",
       "IRXA8MAZp1QVN4qQXkfHBrgUH7LMbUUkXYbCQIaQskhoApDm2ohkIMuzXUBGAZMRewOQ5l6AkDrd\n",
       "3yQA9MUCzo/ME0BSSM6InAiylIWBHWw3g08HEDyAGvhwJliMRwFMySE73p1PAMS6v4ARRHMgS7F7\n",
       "AfXLXbBhYAUJMCkgSTE+0GRgyHesYbgGFtmGkCpgmMl3gUFcia0yASwi/FYAFvL/FvC9/oYcHFdf\n",
       "QAIKCgBACzQrtGfvLgAAAABJRU5ErkJggg==\n",
       "\" style=\"display:inline;vertical-align:middle;\" /></a>, <a class=\"ProveItLink\" href=\"../../ordering/__pv_it/theorems/5d76fdd975252a644e3e1cb067a357f9a9c8486a0/expr.ipynb\"><img src=\"data:image/png;base64,iVBORw0KGgoAAAANSUhEUgAAADMAAAATBAMAAADPIygvAAAAMFBMVEX///8AAAAAAAAAAAAAAAAA\n",
       "AAAAAAAAAAAAAAAAAAAAAAAAAAAAAAAAAAAAAAAAAAAv3aB7AAAAD3RSTlMAEHaZZquJVO8y3btE\n",
       "zSKD2s2pAAAACXBIWXMAAA7EAAAOxAGVKw4bAAAA4ElEQVQoz2NgwAC+3ftvdTswYAUbnjIc9RbA\n",
       "LvWMgZszAJcU84MLKELaq1ZdgEttQJY5q4jQxSoINJBR2YFBFCTAdxHJwNm1DxgY2NgbGPxBArwP\n",
       "4FIvbv0CmTCdeQFDNFgKyRkusiBagEOBoQnEmLEKCDZApLhFwF4+L8D5E0RLI+niNNgIYtgyMDWA\n",
       "aC5kf1m+BjG2MnCDfc6kgCQlzQQy0ZThPCQsr8OlHjOwOOwBMkST7CHOFt0jAAv5fQy77xeA2LlQ\n",
       "1cd2rUIJObYLjO3Y44aBS4E1AYcUu5MNDhkADGJEjCMFBEsAAAAASUVORK5CYII=\n",
       "\" style=\"display:inline;vertical-align:middle;\" /></a> <a class=\"ProveItLink\" href=\"../__pv_it/demonstrations/4821916f80f10052e61c9f5df562872dad34f7b60/proof.ipynb\" style=\"text-decoration: none\">&nbsp;&#x22A2;&nbsp;&nbsp;</a><a class=\"ProveItLink\" href=\"../__pv_it/demonstrations/716a691baad4d4fd6e8ba08f2c2c603926d3f1b10/expr.ipynb\"><img src=\"data:image/png;base64,iVBORw0KGgoAAAANSUhEUgAAAQQAAAAVBAMAAABS242zAAAAMFBMVEX///8AAAAAAAAAAAAAAAAA\n",
       "AAAAAAAAAAAAAAAAAAAAAAAAAAAAAAAAAAAAAAAAAAAv3aB7AAAAD3RSTlMARN12ZlQiiRDNme+7\n",
       "qzJmaQM3AAAACXBIWXMAAA7EAAAOxAGVKw4bAAACoElEQVRIx5WWPWgUQRTH/7t3m9vs3h5BrbTI\n",
       "umqjJCz4gQjCgh9gUHJERNTmULCQFAGxSBG80oiBK1JYxiiEC4irIgg2J4KdYmFhYREEuTKpglXO\n",
       "2Zm542buzXI3sLA89v3mN7Mz8wb7oiMAxmBqNSo4Fx0lP7WiKDZwnChKiHDW8UX+dtqosJ8OHxwM\n",
       "FaooJjA3a40KxlLBWTAmFnTqg+Z3WuEmRlTgpFNSYTkn87k2cy08nqAU3MaICoI0XhcKr3IyZ7oE\n",
       "gQ9q8FNKwUuGVTiAPlJxTSikOZl+Xa4nsdD8fwh2KQUfwypcRz/pI1dwGjmZ44miEIQI9iiFW6Mq\n",
       "SNIqV/DYanRP/mo/Un/uuQQrQOmHosCavUMpbEgFI0hXkKQlrpAN1MP5eF3JLDkpZhm2oStsx10F\n",
       "L+KNS65KBSOIUMhIV7iCXQUuY7b+U8n864X4zbpOdYUpclMekwpGEKGQke5wBZ/tsi00eXSZj2ua\n",
       "vdX9GO+Byo4Y7ol3crhei1R4KxWMIKGwHkWfomgKPdJ2TwHZV2qbrFfYcrH0WbiGXAUzaGAWOOlQ\n",
       "70fA2sUTNbOJAuveCVUFdpLep9ZC90cYQQMKgjTHFcox3M9BCu2Y/oYygxdbqkIbOEvNwhehYAYN\n",
       "KAjSVa7A9p2z9zS1qmrma0wmYsf2KYwd39wMKYUloWAG6QqStMEVKiHcl/HtSxp05eEbVqrtCUXB\n",
       "7nQ6DUrhj5wFI0hXkKTD4oCeNhxoi+y5C31T0svR3so5HRdBbspsLkKhMEOllRruh74SZiX5Cqze\n",
       "GBQkSC9TverGFcrU3ciOgwVeUoe8snw1KQgQfWXBvLwvuFQ/zoUXJjtS4ZlJQYAMCkz8Bn+5Z6xv\n",
       "Z+hwm7gGxnCqOZWyQl3NCjX8B1z9tbs8/Td1AAAAAElFTkSuQmCC\n",
       "\" style=\"display:inline;vertical-align:middle;\" /></a></span>"
      ],
      "text/plain": [
       "{x in Real, y in Real} |- ceil((x - y) + 2) = (ceil(x - y) + 2)"
      ]
     },
     "metadata": {},
     "output_type": "display_data"
    }
   ],
   "source": [
    "# simplifying ceiling of sum of some assumed real numbers and an actual integer\n",
    "ceil_x_minus_y_plus_2.shallow_simplification(assumptions=[InSet(x, Real), InSet(y, Real)])"
   ]
  },
  {
   "cell_type": "markdown",
   "metadata": {},
   "source": [
    "### Floor.shallow_simplification()"
   ]
  },
  {
   "cell_type": "code",
   "execution_count": 82,
   "metadata": {},
   "outputs": [
    {
     "data": {
      "text/html": [
       "<span style=\"font-size:20px;\"> <a class=\"ProveItLink\" href=\"../__pv_it/demonstrations/0cb70ff66c6b3c7daefd6331ae0b75f535872c670/proof.ipynb\" style=\"text-decoration: none\">&nbsp;&#x22A2;&nbsp;&nbsp;</a><a class=\"ProveItLink\" href=\"../__pv_it/demonstrations/ba61e9f5f321c33aafbf8c954b9366cba0ca99420/expr.ipynb\"><img src=\"data:image/png;base64,iVBORw0KGgoAAAANSUhEUgAAAEAAAAAVBAMAAAAEBPWpAAAAMFBMVEX///8AAAAAAAAAAAAAAAAA\n",
       "AAAAAAAAAAAAAAAAAAAAAAAAAAAAAAAAAAAAAAAAAAAv3aB7AAAAD3RSTlMAEGZU7912IpnNuzKJ\n",
       "RKsnUPAAAAAACXBIWXMAAA7EAAAOxAGVKw4bAAAAsElEQVQoz2MQZIABdgasQAnOuoFbQUXnaqwK\n",
       "wOJABewLGM5fwKIAIg5UwFfAwOKARQFEHKiA5SMD33csCiDiIBMCGPh+YzMBLA7xBesH7L4AikMU\n",
       "7E+AKeAIBYMHDDBxiII4HOEQBw0ojgXYFYDEwQr0cISkHjQkmQ8wlGNzA1gcpGAPA0MiNhPA4qCg\n",
       "jujoCMAW1GBxoALW////T8CiACJOVHTTWIFJaBiYNoXS6AAAK5pAPG/IEPEAAAAASUVORK5CYII=\n",
       "\" style=\"display:inline;vertical-align:middle;\" /></a></span>"
      ],
      "text/plain": [
       "|- floor(2) = 2"
      ]
     },
     "metadata": {},
     "output_type": "display_data"
    }
   ],
   "source": [
    "# simplifying floor of an integer\n",
    "floor_2.shallow_simplification()"
   ]
  },
  {
   "cell_type": "code",
   "execution_count": 83,
   "metadata": {},
   "outputs": [
    {
     "data": {
      "text/html": [
       "<span style=\"font-size:20px;\"><a class=\"ProveItLink\" href=\"../__pv_it/theorems/e7ea3ade6561bbbb858c02aa3be91f7305b5ebb50/expr.ipynb\"><img src=\"data:image/png;base64,iVBORw0KGgoAAAANSUhEUgAAADMAAAAQBAMAAABJt1qBAAAAMFBMVEX///8AAAAAAAAAAAAAAAAA\n",
       "AAAAAAAAAAAAAAAAAAAAAAAAAAAAAAAAAAAAAAAAAAAv3aB7AAAAD3RSTlMAEHarMolUmd1mIs3v\n",
       "RLtmgJDEAAAACXBIWXMAAA7EAAAOxAGVKw4bAAAA3UlEQVQY02NgwATZ50+/6DvJgA3omTBwM2zA\n",
       "KlXOwKDJmoBVyoqB8YEcqhDTi45uEC3AwO5ggiLDu0kAxnRmKQBRQsoioWCDV8NlGB7ygdkFTEbs\n",
       "DSDGLrgMW8AkEMW5gPMj8wQQC+FcqNNZGNghYiwnOjo6+sBMNdYLDIwgBo8CmM/4AKaJ8cE6Bgbm\n",
       "BUDW/QWMYEsbYFLMDlYMDPIMDHIXbBhYwSJKMCl3XqDTLRgY8h1rGK5BLIeFzUNuAYZ1eQwM4kps\n",
       "lRAxRruLEK+f2/PuzZ+nqMERBwkoKAAA5a8vMuYfrScAAAAASUVORK5CYII=\n",
       "\" style=\"display:inline;vertical-align:middle;\" /></a>, <a class=\"ProveItLink\" href=\"../__pv_it/demonstrations/1a5270d7d3401e3ec902ebbf86bec5c78898bba20/expr.ipynb\"><img src=\"data:image/png;base64,iVBORw0KGgoAAAANSUhEUgAAADIAAAATBAMAAAAg4UMRAAAAMFBMVEX///8AAAAAAAAAAAAAAAAA\n",
       "AAAAAAAAAAAAAAAAAAAAAAAAAAAAAAAAAAAAAAAAAAAv3aB7AAAAD3RSTlMAEHaZZquJVO8y3btE\n",
       "zSKD2s2pAAAACXBIWXMAAA7EAAAOxAGVKw4bAAAA8klEQVQY02NgwADsN37cXrXDAVOCgWnrBIYL\n",
       "vFgkGJgNGJgc0rHJsD5gkGbcgGLKrlVrQTQjA4Ml6wQkCZ5LAjAmZ8BkkAplBwZREPctXIKBW2Aj\n",
       "kGRjb2DwB3HvIbSXsSgAyenMCxiiQdwLCBmImwU4FBiaQGZ3rVq1ajXEKQU5QHEGhvMCnD9B9iHc\n",
       "Kc0HZMcxMNgyMDWA+AvgMpFAHzF+YGDYysAdAOIrwd1scBjoXaBCU4bz4NDjLYC7+SID33aggaJJ\n",
       "9g/AXo8+CJE5sbd7d393AoiZCw2EbEjowADbBcZ2BqyAS4E1AbsMu5MNdgkA2cc0b5s0PBoAAAAA\n",
       "SUVORK5CYII=\n",
       "\" style=\"display:inline;vertical-align:middle;\" /></a> <a class=\"ProveItLink\" href=\"../__pv_it/demonstrations/078e185da4b562ee03f6d75f9c05e65d97e1784c0/proof.ipynb\" style=\"text-decoration: none\">&nbsp;&#x22A2;&nbsp;&nbsp;</a><a class=\"ProveItLink\" href=\"../__pv_it/demonstrations/2aff24630512bd9a6e5faca773845af2bd1457f80/expr.ipynb\"><img src=\"data:image/png;base64,iVBORw0KGgoAAAANSUhEUgAAAJoAAAAVBAMAAABMN+opAAAAMFBMVEX///8AAAAAAAAAAAAAAAAA\n",
       "AAAAAAAAAAAAAAAAAAAAAAAAAAAAAAAAAAAAAAAAAAAv3aB7AAAAD3RSTlMAEGZU7912qzKJmSLN\n",
       "RLs7fb+cAAAACXBIWXMAAA7EAAAOxAGVKw4bAAAB30lEQVQ4y5XU3yuDURgH8O/Zy368vHqVRi7W\n",
       "otwQbxpFyuTHnVrxcqXeJGpXI6ndaJILV1bKUrtYMlLk/Qu0/AXCPVdcSOFKuXF2RnnmnLFT787e\n",
       "d8/5nGfnvOdBIyo191+PSq2OX22VMCP365HXUgY71WsD6uj5qjVWUEfXm+Xa9R+aHia/kztPrlzr\n",
       "/0OrIXeaQ25HqtWGKmmXQmOLy9u7RGPxMJpl2gm/gkst+xbRggdgCSAjNB1LTp5oAS2Knm9Nt0VL\n",
       "lKYHct41PUa0dASeF6BLaJ3oMVeItsnD12W5TfHFdj2vvvBPzW/l4bsHIkJL4VQ8zdv2mG3P8m9m\n",
       "jYMJmTbJx0IvfKU8PS5SZjyWD8DO1y5MlO/Cnel/V2gQI8k/NV6xkwJuS5rxgUaqncIbla3blJjK\n",
       "ZSbReLILvOsrauzZF0Waao9oSMhyewBCV6sI0Nx47CPvuoua9t4aNSyqHeMuLNMywPDGIW6opieM\n",
       "N/H6FHM7cgbby9atee/clWlbQOuidmBRjSXjH7ybU5+FrPQs1KbkZyHAt7kupjj1gQIblWqenOzU\n",
       "Z9FkiYogr0i1ji8tr29PsvAZJPnnhaq+aR1nimoZkoX3xq9KE0XsGVX102zb+V39HVW418UnN3pv\n",
       "I+duTzcAAAAASUVORK5CYII=\n",
       "\" style=\"display:inline;vertical-align:middle;\" /></a></span>"
      ],
      "text/plain": [
       "{x in Integer, y in Integer} |- floor(x + y) = (x + y)"
      ]
     },
     "metadata": {},
     "output_type": "display_data"
    }
   ],
   "source": [
    "# simplifying floor of a sum of assumed integers\n",
    "floor_x_plus_y.shallow_simplification(assumptions=[InSet(x, Integer), InSet(y, Integer)])"
   ]
  },
  {
   "cell_type": "code",
   "execution_count": 84,
   "metadata": {},
   "outputs": [
    {
     "data": {
      "text/html": [
       "<span style=\"font-size:20px;\"><a class=\"ProveItLink\" href=\"../../ordering/__pv_it/theorems/d1323f34847310a404e8089c2c268d3c2eb89dbf0/expr.ipynb\"><img src=\"data:image/png;base64,iVBORw0KGgoAAAANSUhEUgAAADQAAAAQBAMAAACra0H4AAAAMFBMVEX///8AAAAAAAAAAAAAAAAA\n",
       "AAAAAAAAAAAAAAAAAAAAAAAAAAAAAAAAAAAAAAAAAAAv3aB7AAAAD3RSTlMAEHarMolUmd1mIs3v\n",
       "RLtmgJDEAAAACXBIWXMAAA7EAAAOxAGVKw4bAAAAyklEQVQY02NgwACce9797nnJgBXwcRnwWj7E\n",
       "IRXA8MAZp1QVN4qQXkfHBrgUH7LMbUUkXYbCQIaQskhoApDm2ohkIMuzXUBGAZMRewOQ5l6AkDrd\n",
       "3yQA9MUCzo/ME0BSSM6InAiylIWBHWw3g08HEDyAGvhwJliMRwFMySE73p1PAMS6v4ARRHMgS7F7\n",
       "AfXLXbBhYAUJMCkgSTE+0GRgyHesYbgGFtmGkCpgmMl3gUFcia0yASwi/FYAFvL/FvC9/oYcHFdf\n",
       "QAIKCgBACzQrtGfvLgAAAABJRU5ErkJggg==\n",
       "\" style=\"display:inline;vertical-align:middle;\" /></a>, <a class=\"ProveItLink\" href=\"../__pv_it/demonstrations/1a5270d7d3401e3ec902ebbf86bec5c78898bba20/expr.ipynb\"><img src=\"data:image/png;base64,iVBORw0KGgoAAAANSUhEUgAAADIAAAATBAMAAAAg4UMRAAAAMFBMVEX///8AAAAAAAAAAAAAAAAA\n",
       "AAAAAAAAAAAAAAAAAAAAAAAAAAAAAAAAAAAAAAAAAAAv3aB7AAAAD3RSTlMAEHaZZquJVO8y3btE\n",
       "zSKD2s2pAAAACXBIWXMAAA7EAAAOxAGVKw4bAAAA8klEQVQY02NgwADsN37cXrXDAVOCgWnrBIYL\n",
       "vFgkGJgNGJgc0rHJsD5gkGbcgGLKrlVrQTQjA4Ml6wQkCZ5LAjAmZ8BkkAplBwZREPctXIKBW2Aj\n",
       "kGRjb2DwB3HvIbSXsSgAyenMCxiiQdwLCBmImwU4FBiaQGZ3rVq1ajXEKQU5QHEGhvMCnD9B9iHc\n",
       "Kc0HZMcxMNgyMDWA+AvgMpFAHzF+YGDYysAdAOIrwd1scBjoXaBCU4bz4NDjLYC7+SID33aggaJJ\n",
       "9g/AXo8+CJE5sbd7d393AoiZCw2EbEjowADbBcZ2BqyAS4E1AbsMu5MNdgkA2cc0b5s0PBoAAAAA\n",
       "SUVORK5CYII=\n",
       "\" style=\"display:inline;vertical-align:middle;\" /></a> <a class=\"ProveItLink\" href=\"../__pv_it/demonstrations/8f957c1b7e9358ca5f9cf0369b438ab7f26ae3120/proof.ipynb\" style=\"text-decoration: none\">&nbsp;&#x22A2;&nbsp;&nbsp;</a><a class=\"ProveItLink\" href=\"../__pv_it/demonstrations/d435f12dcd1fc45ded28b2d3f8ffdfb4da5085260/expr.ipynb\"><img src=\"data:image/png;base64,iVBORw0KGgoAAAANSUhEUgAAAKwAAAAVBAMAAAAp2hhWAAAAMFBMVEX///8AAAAAAAAAAAAAAAAA\n",
       "AAAAAAAAAAAAAAAAAAAAAAAAAAAAAAAAAAAAAAAAAAAv3aB7AAAAD3RSTlMAEGZU7912qzKJmSLN\n",
       "RLs7fb+cAAAACXBIWXMAAA7EAAAOxAGVKw4bAAACBklEQVQ4y5XUz2vTYBgH8O+bdE2TmZKBbDKG\n",
       "BAcepmxBpgcvi8x57sFML8LLlBV6ijIGvYyJJ08LCIqwQymrImyYk0cp/gXDee9uO4jgPA128Uma\n",
       "jjXvm7TNoW95eN5P3h95Hkwg7wmFyDjArLyEOAU38lSzIYSeA4qdl0BBPjKrBoNZrI3MzmAI9oqV\n",
       "Zn8OYJty1rQvJymNNHtvAOvKWZX3ZT0YkVXbQ7E/Ynayeu2j08eymo0pCWsECcvWX759J7KTTTAf\n",
       "+BCzjeKmUeljddXFQm+W4cWPH12GnbAGqrwlssEilL/A7YhVQuVUs/vYN/SaLclqx5yEvYUF65XA\n",
       "lpwWtGNgMWJLMNpxtOV5Dz3vCf2zChyPJGzhMGG3sX9xtrSbxyvxbhhNopnY6V5ZgaevrGOVzvJY\n",
       "RG8VD8E8xc428KvLdsJenffYfRRdydleHALMc0yILG37BQ13I/b64Qb01GpPUPYlqy3zLsv+aC4C\n",
       "kaVJJzTMR+zS6z0cpdjP6NgSVve7rHo27ZqOZLW++Y+GLxE7va42nRQ79f5rKGFLlWS1n/j9WcnZ\n",
       "snrtnIZn2VW2Ky3ep4OqTKeParyS0Wr0NluWsnP5rWYXV2nfhp3RGMe4FkjZcpjbGFdRp9/vWf1W\n",
       "vXkg72DsOJe9U4s+7N9UZ95qVhNXPY8LwW8UX0ni0gSgGOI/+CeBaWF/yLIAAAAASUVORK5CYII=\n",
       "\" style=\"display:inline;vertical-align:middle;\" /></a></span>"
      ],
      "text/plain": [
       "{x in Real, y in Integer} |- floor(x + y) = (floor(x) + y)"
      ]
     },
     "metadata": {},
     "output_type": "display_data"
    }
   ],
   "source": [
    "# simplifying floor of a sum of an assumed real and an assumed integer\n",
    "floor_x_plus_y.shallow_simplification(assumptions=[InSet(x, Real), InSet(y, Integer)])"
   ]
  },
  {
   "cell_type": "code",
   "execution_count": 85,
   "metadata": {},
   "outputs": [
    {
     "data": {
      "text/html": [
       "<span style=\"font-size:20px;\"><a class=\"ProveItLink\" href=\"../../ordering/__pv_it/theorems/d1323f34847310a404e8089c2c268d3c2eb89dbf0/expr.ipynb\"><img src=\"data:image/png;base64,iVBORw0KGgoAAAANSUhEUgAAADQAAAAQBAMAAACra0H4AAAAMFBMVEX///8AAAAAAAAAAAAAAAAA\n",
       "AAAAAAAAAAAAAAAAAAAAAAAAAAAAAAAAAAAAAAAAAAAv3aB7AAAAD3RSTlMAEHarMolUmd1mIs3v\n",
       "RLtmgJDEAAAACXBIWXMAAA7EAAAOxAGVKw4bAAAAyklEQVQY02NgwACce9797nnJgBXwcRnwWj7E\n",
       "IRXA8MAZp1QVN4qQXkfHBrgUH7LMbUUkXYbCQIaQskhoApDm2ohkIMuzXUBGAZMRewOQ5l6AkDrd\n",
       "3yQA9MUCzo/ME0BSSM6InAiylIWBHWw3g08HEDyAGvhwJliMRwFMySE73p1PAMS6v4ARRHMgS7F7\n",
       "AfXLXbBhYAUJMCkgSTE+0GRgyHesYbgGFtmGkCpgmMl3gUFcia0yASwi/FYAFvL/FvC9/oYcHFdf\n",
       "QAIKCgBACzQrtGfvLgAAAABJRU5ErkJggg==\n",
       "\" style=\"display:inline;vertical-align:middle;\" /></a>, <a class=\"ProveItLink\" href=\"../../ordering/__pv_it/theorems/5d76fdd975252a644e3e1cb067a357f9a9c8486a0/expr.ipynb\"><img src=\"data:image/png;base64,iVBORw0KGgoAAAANSUhEUgAAADMAAAATBAMAAADPIygvAAAAMFBMVEX///8AAAAAAAAAAAAAAAAA\n",
       "AAAAAAAAAAAAAAAAAAAAAAAAAAAAAAAAAAAAAAAAAAAv3aB7AAAAD3RSTlMAEHaZZquJVO8y3btE\n",
       "zSKD2s2pAAAACXBIWXMAAA7EAAAOxAGVKw4bAAAA4ElEQVQoz2NgwAC+3ftvdTswYAUbnjIc9RbA\n",
       "LvWMgZszAJcU84MLKELaq1ZdgEttQJY5q4jQxSoINJBR2YFBFCTAdxHJwNm1DxgY2NgbGPxBArwP\n",
       "4FIvbv0CmTCdeQFDNFgKyRkusiBagEOBoQnEmLEKCDZApLhFwF4+L8D5E0RLI+niNNgIYtgyMDWA\n",
       "aC5kf1m+BjG2MnCDfc6kgCQlzQQy0ZThPCQsr8OlHjOwOOwBMkST7CHOFt0jAAv5fQy77xeA2LlQ\n",
       "1cd2rUIJObYLjO3Y44aBS4E1AYcUu5MNDhkADGJEjCMFBEsAAAAASUVORK5CYII=\n",
       "\" style=\"display:inline;vertical-align:middle;\" /></a> <a class=\"ProveItLink\" href=\"../__pv_it/demonstrations/2d61e9a08b936274fd958097c50d64456693b8500/proof.ipynb\" style=\"text-decoration: none\">&nbsp;&#x22A2;&nbsp;&nbsp;</a><a class=\"ProveItLink\" href=\"../__pv_it/demonstrations/3424103a21e21ff15801e65687fc49a30da0b75d0/expr.ipynb\"><img src=\"data:image/png;base64,iVBORw0KGgoAAAANSUhEUgAAAQQAAAAVBAMAAABS242zAAAAMFBMVEX///8AAAAAAAAAAAAAAAAA\n",
       "AAAAAAAAAAAAAAAAAAAAAAAAAAAAAAAAAAAAAAAAAAAv3aB7AAAAD3RSTlMAEGZU7912IonNmUS7\n",
       "qzLCARrXAAAACXBIWXMAAA7EAAAOxAGVKw4bAAACb0lEQVRIx53WP2gUQRQG8G9v7l/2LsemVAws\n",
       "CopByBXJoVYrGpsUHujaiDIoKAjiNaayCAiBFCFnekkIRBJEDEEsbJJKCxHUUhQCErDTzi44OzN3\n",
       "Zm7fWzYuHOzOvfn2t3NzO4MRJEcF3NGhmytkqRcg4+gwOcf12R223xu6+W26qdxEIcwQ1FaoRmkJ\n",
       "YpbtWE6l7gU04SwOS0iSblvCkYyeT91L7+syTfC6hySYpKHAEFad77acq7FeQi/+IU3wwxRhiyb0\n",
       "m5OkwoohRE5ty7kq2ikmZDahiBShRRNaBwm4oAmim9FzKMxHOPefhCVN8NVs9O5+/vnEKfHuhxgF\n",
       "qp/yEdYtgQ1iCAuakDyojwdyzSmpigjjKrbLE/xYHxq5ZAlsEEM4rQmlJnAK48EXp+SH38Y3deso\n",
       "3yhctQQ2iCFMaEJxE9jFhm5ei+NLcXxTnQVFictA47d53GtT9nEZwrQlsEGG8K/ZJv3qE5BUucrt\n",
       "oLGveuYchen+dOSC6FF43f8hUPuDEbdkA2V1e9HONxd6PwQbxBAmNaEu4X0YjjDrlnxEXYUXdvKN\n",
       "wjtD4IMYwhlNUP87sX80qjXdkpfYDs0/1iEsdkjCgiHwQWmCTlrXhEYb3nN5/sRAyejcK1VT2nQJ\n",
       "3688CynCnh0FNihFMEk3zAv6FvNSm1efRxgYBWaxLu1mvB3nybej3jC0DWGMWl2qXe/igSWsFmYT\n",
       "1HrDLFM2KL1M2dVNE+rUhqYkh9U0qOzk3bK85xZrE0RvWfDY7hc86j7i5AtORxKOcQQTxBAUfCK+\n",
       "rk5m2I3GPapxUnca3AZKiKlYMjkiJr8qd/AXmpi1Di7fHHIAAAAASUVORK5CYII=\n",
       "\" style=\"display:inline;vertical-align:middle;\" /></a></span>"
      ],
      "text/plain": [
       "{x in Real, y in Real} |- floor((x + y) + 1) = (floor(x + y) + 1)"
      ]
     },
     "metadata": {},
     "output_type": "display_data"
    }
   ],
   "source": [
    "# simplifying floor of a sum of some assumed real numbers and an actual integer\n",
    "floor_x_plus_y_plus_1.shallow_simplification(assumptions=[InSet(x, Real), InSet(y, Real)])"
   ]
  },
  {
   "cell_type": "markdown",
   "metadata": {},
   "source": [
    "### Round.shallow_simplification()"
   ]
  },
  {
   "cell_type": "code",
   "execution_count": 86,
   "metadata": {},
   "outputs": [
    {
     "data": {
      "text/html": [
       "<span style=\"font-size:20px;\"> <a class=\"ProveItLink\" href=\"../__pv_it/demonstrations/b73193753a5ef1ee28f2f22f06d6f99298a1c47e0/proof.ipynb\" style=\"text-decoration: none\">&nbsp;&#x22A2;&nbsp;&nbsp;</a><a class=\"ProveItLink\" href=\"../__pv_it/demonstrations/928007b9601ae24767a2eca5dde14192e7d904ea0/expr.ipynb\"><img src=\"data:image/png;base64,iVBORw0KGgoAAAANSUhEUgAAAHsAAAAVBAMAAACUF4xmAAAAMFBMVEX///8AAAAAAAAAAAAAAAAA\n",
       "AAAAAAAAAAAAAAAAAAAAAAAAAAAAAAAAAAAAAAAAAAAv3aB7AAAAD3RSTlMAMom7Iplm783dEER2\n",
       "q1TfLoYRAAAACXBIWXMAAA7EAAAOxAGVKw4bAAAB7UlEQVQ4y52TP2gTcRTHP7k/ueYSr9kEBzl1\n",
       "EjLc4qZwIBQKitKSQgYhDi4uDQ51UQyICE6x0EGo9AYHF7nbHBRMwY6VIiIVAg3i3ghFpJbW97tf\n",
       "E/FiLM0X7vfn+977fd+79/vBEbD0FDIePujp7XHjco+vy+j5WNWHZUr1obQU/R9MdmV4CZcxfsGT\n",
       "rFnTo/EukmEOPsFduJU1a3o0zquhAQ8itkKcKGPW9Gg8UqU34QtslZnIFq/p3DlrRiyV9cRdq3Mi\n",
       "Kq6/qFyUH/NxdV98bD91XQFjY1hA0eaM0WA6sXYMr8G87DvEIa9Dc1cctGZuD/JNtao9U3h+2Buh\n",
       "pyZaIrEMi6ftFpu8KQRcK7sL2Mq/oP4+BVGWs7NQ9KlJEbB7cD9y2twjihO2IyEKKm8nUX6zSqo3\n",
       "FD7b748TYO3JyvoO20gOQsRJPzyvyi4Oqac0NfniNsaOrEo9FcsPV4h5+sl/xQrxWtnaU5pFdcHq\n",
       "OD6XMIPb3MHbNeIum54Yzbak7VOKyAfZS53Slrp59gYX4AYnfV/yLzVvmm1vyUa3a7parQ1a+Aea\n",
       "LqZJnV2TIl9VvnXKsnc/d93OmaurSkKsKwcHP6WMJNv0lD4CTwdiYz33wUuZGyvcPHwVVjBWuBv8\n",
       "fcxxcUVP7/9t/Q15uIj2+NOO0QAAAABJRU5ErkJggg==\n",
       "\" style=\"display:inline;vertical-align:middle;\" /></a></span>"
      ],
      "text/plain": [
       "|- round(2) = 2"
      ]
     },
     "metadata": {},
     "output_type": "display_data"
    }
   ],
   "source": [
    "round_2.shallow_simplification()"
   ]
  },
  {
   "cell_type": "code",
   "execution_count": 87,
   "metadata": {},
   "outputs": [
    {
     "data": {
      "text/html": [
       "<a class=\"ProveItLink\" href=\"../__pv_it/demonstrations/394519e724e0c70e3b2c6590eef1be51952919e10/expr.ipynb\"><img src=\"data:image/png;base64,iVBORw0KGgoAAAANSUhEUgAAAHcAAAAVBAMAAACOK2zoAAAAMFBMVEX///8AAAAAAAAAAAAAAAAA\n",
       "AAAAAAAAAAAAAAAAAAAAAAAAAAAAAAAAAAAAAAAAAAAv3aB7AAAAD3RSTlMAMom7Iplm783dEER2\n",
       "q1TfLoYRAAAACXBIWXMAAA7EAAAOxAGVKw4bAAAB80lEQVQ4y5WUPUjkQBTH/5uPzW4S43bCFRK1\n",
       "ErZIY6cQEA6EOxRl5SyEWNjYuFxxIiguiAhWq3DIyoEprrCRpLviDoygpcdyHH7AgovYu4KIqKhv\n",
       "1q+N5AMf5M28efnN+09mJkCMCWEJE/H2NyzxJ4pKLA6Q13Tqrb1Vk5vPQLWi6OYquQ1g88v1m0wv\n",
       "uBtgKQresskN06M+w8pTsf/AFDAeBXcyl2+ENe+xnbNxbEKyI+AF9nohCD4CjjNIWUh0CIOkJrvn\n",
       "yrsWmmxl72e2m77Jv+07ek3Ug2CydYArg+MHuTz6XOGC0/KYpLgCx8Qvk2dIygqGE7dAsoCPqSJN\n",
       "/wNYaRWLOMTvtIH+jPwNIlOcrgbD6TJFeXxopsnFGjBrSx5mYDsuzmwaSDPFkvsCi6XS6nSpVK7D\n",
       "Q6x67XFHJAPCLfWEc+AMVJ8GHNcPN1ZOsikU2okRah0P3AX11BojcSnTwCTCZZ9AMKEVaa3sMFmQ\n",
       "dPSANybwFdo151RxqNHR570gOKFDtZEkuTdsPWV0AaNo0XVSrhbGeE/7LqK+HWCi/HBfLjdS30al\n",
       "yML2XVrcZva0kqFY3q/KlbbP26wGZZsOrvb98Pr9/RUtyY27kcuNQcMhYfVjr7Pv9Cu+WzgcC/Oh\n",
       "PwzBiIVl4/3TvtqnsMQO8AAoFI2Yv2RkPgAAAABJRU5ErkJggg==\n",
       "\" style=\"display:inline;vertical-align:middle;\" /></a>"
      ],
      "text/plain": [
       "round(1 + 2)"
      ]
     },
     "metadata": {},
     "output_type": "display_data"
    }
   ],
   "source": [
    "round_1_plus_2"
   ]
  },
  {
   "cell_type": "code",
   "execution_count": 88,
   "metadata": {},
   "outputs": [
    {
     "data": {
      "text/html": [
       "<span style=\"font-size:20px;\"> <a class=\"ProveItLink\" href=\"../__pv_it/demonstrations/8db3a3c819dc6d764cb74d8a1c6822a05ed690340/proof.ipynb\" style=\"text-decoration: none\">&nbsp;&#x22A2;&nbsp;&nbsp;</a><a class=\"ProveItLink\" href=\"../__pv_it/demonstrations/6e5c38a6ecb189e3441787e101a1d0f6e07ceaa20/expr.ipynb\"><img src=\"data:image/png;base64,iVBORw0KGgoAAAANSUhEUgAAANEAAAAVBAMAAAAqbRZ+AAAAMFBMVEX///8AAAAAAAAAAAAAAAAA\n",
       "AAAAAAAAAAAAAAAAAAAAAAAAAAAAAAAAAAAAAAAAAAAv3aB7AAAAD3RSTlMAMom7Iplm783dEER2\n",
       "q1TfLoYRAAAACXBIWXMAAA7EAAAOxAGVKw4bAAACNUlEQVRIx6WVP2jUUBzHv5c/l16SprcJDhJ1\n",
       "Em7I4qYQEIQDRamceINwDi4uDQ6KoFgQEZzOgkhEaQYHl5JsDgqmYMdKEakVDnqIe08oUtpi/b32\n",
       "LMlL4iPkC/fy/ny+eb/3y+N3gEBK0YJbFeb1uWjhQ1X4ULUnl6m1bOq95EPvPGrC7GUspeCEpobU\n",
       "vAUWrm1zK+cg7QBPM45ScEIfA2qu0s/8ZzbGkX0F7gI3M45ScEKnWOMlzVZ88HwYYN2FFvCOUnBC\n",
       "jxk+m2f+Dqw3McHnXgDXTirTZGktR/pSD5OBsfymdYa+45fFP4Spdp6ZNA9IK9xOAliSpyUP7UjZ\n",
       "lCwPMzQeIHTxzpWZZT/uHHNtF6izI6DrM72GGD4/0adYXgFzx9Q+1vC+4eBSU78Dlb2oMcw3N+g8\n",
       "lsedSQAfnaJI1BHwINBi3EcQRtgIaKLBcqFFh2bV91/c8/2DlF1hoY64nUQwu8yaA2WXesovYAN0\n",
       "MpoIo7Q5GWadvcLwinfKhbv0DGNIm9QzR2wb/NZpYuY/CfkBxYXV576TCJ5j5aAHzcZZyM4t3Ia1\n",
       "LYVDrFlUFuU4z1yzYQaoO9yZBLCyw9K6gtPAdRyxbUqgOXtDjq3nKsY3mY6bNrc7ne74UiclgI39\n",
       "HJxYohwvtH4OmjTWV4f64PjFRRYQrU5+21pNm+f39rYoWRFfk8vAGT1LFYE4OWpXg3mlKqPR4+tp\n",
       "BZiXXPhvqTjVYF66UyKGUnBGF4oWPpWE/wIW1drGLVi98gAAAABJRU5ErkJggg==\n",
       "\" style=\"display:inline;vertical-align:middle;\" /></a></span>"
      ],
      "text/plain": [
       "|- round(1 + 2) = (1 + 2)"
      ]
     },
     "metadata": {},
     "output_type": "display_data"
    }
   ],
   "source": [
    "round_1_plus_2.shallow_simplification()"
   ]
  },
  {
   "cell_type": "code",
   "execution_count": 89,
   "metadata": {},
   "outputs": [
    {
     "data": {
      "text/html": [
       "<span style=\"font-size:20px;\"><a class=\"ProveItLink\" href=\"../__pv_it/theorems/e7ea3ade6561bbbb858c02aa3be91f7305b5ebb50/expr.ipynb\"><img src=\"data:image/png;base64,iVBORw0KGgoAAAANSUhEUgAAADMAAAAQBAMAAABJt1qBAAAAMFBMVEX///8AAAAAAAAAAAAAAAAA\n",
       "AAAAAAAAAAAAAAAAAAAAAAAAAAAAAAAAAAAAAAAAAAAv3aB7AAAAD3RSTlMAEHarMolUmd1mIs3v\n",
       "RLtmgJDEAAAACXBIWXMAAA7EAAAOxAGVKw4bAAAA3UlEQVQY02NgwATZ50+/6DvJgA3omTBwM2zA\n",
       "KlXOwKDJmoBVyoqB8YEcqhDTi45uEC3AwO5ggiLDu0kAxnRmKQBRQsoioWCDV8NlGB7ygdkFTEbs\n",
       "DSDGLrgMW8AkEMW5gPMj8wQQC+FcqNNZGNghYiwnOjo6+sBMNdYLDIwgBo8CmM/4AKaJ8cE6Bgbm\n",
       "BUDW/QWMYEsbYFLMDlYMDPIMDHIXbBhYwSJKMCl3XqDTLRgY8h1rGK5BLIeFzUNuAYZ1eQwM4kps\n",
       "lRAxRruLEK+f2/PuzZ+nqMERBwkoKAAA5a8vMuYfrScAAAAASUVORK5CYII=\n",
       "\" style=\"display:inline;vertical-align:middle;\" /></a> <a class=\"ProveItLink\" href=\"../__pv_it/demonstrations/b446d9f93d1d981fa0b6f630fdbae78a7c390d510/proof.ipynb\" style=\"text-decoration: none\">&nbsp;&#x22A2;&nbsp;&nbsp;</a><a class=\"ProveItLink\" href=\"../__pv_it/theorems/1465f80400cd6fb54baa170b6133a9e94ecb8fc90/expr.ipynb\"><img src=\"data:image/png;base64,iVBORw0KGgoAAAANSUhEUgAAAH0AAAAVBAMAAACZCfwhAAAAMFBMVEX///8AAAAAAAAAAAAAAAAA\n",
       "AAAAAAAAAAAAAAAAAAAAAAAAAAAAAAAAAAAAAAAAAAAv3aB7AAAAD3RSTlMAMom7Iplm783dEER2\n",
       "q1TfLoYRAAAACXBIWXMAAA7EAAAOxAGVKw4bAAAB3ElEQVQ4y2NgIAAcIBQLA3mA5wGE5j5Aqk7G\n",
       "9gAg+QjGPUay1fxAq7kaYDyOBaTq3w/UwZoA47EFkKpfE4jZEdwqUvW3AvELBLcNRzApswQBHalz\n",
       "dgPX0QQG3gXcZ5fo2ADj69LBf0DZICBec3ahEjAodNF1QsSZmIOYChg8N7B8YeIrYMgH8u8wrHdg\n",
       "2O7A/AtqaQDPHdYJDAwZID2sM8HgAgNc3I1jAqsCwxwGhklyQN4Nht2cBgz+AlxlDKygoJ8HDDgH\n",
       "tl+8QBc+R7MeKi7FD5Rj/cDAULuA/QBDDcOC9RsY3i8ACnAqABVVAz0IMYlBHt3jUHFQNLEbMLD8\n",
       "AbJYPjIwvGcAugIoADQHrB8oC0572zGCDiIeCcTrDzAwfQGyeD6ANDN84wIK5DNA3A+0wYELaMdL\n",
       "dP9DxSeBkloCA7sCgy0Ds0EWQxED3y+m9Q8YbvABsw4wJhZvuM7ABFSTjGY7VJzlN8jYCwymDAyx\n",
       "DOIKCkAv8DQkMh/gm8rKAI6091LhDPugUYkMoOLcE0AcpaNA367VeXJHAMjnuvaA646i70GguCQD\n",
       "w9IzfGGgTDgbTT9MHC/gFICxWCaQk/0RuQaRk0gCJjCGM3nlz2IMg0gDLNByi8cBuzwAcy2FpAfW\n",
       "zI0AAAAASUVORK5CYII=\n",
       "\" style=\"display:inline;vertical-align:middle;\" /></a></span>"
      ],
      "text/plain": [
       "{x in Integer} |- round(x) = x"
      ]
     },
     "metadata": {},
     "output_type": "display_data"
    }
   ],
   "source": [
    "round_x.shallow_simplification(assumptions=[InSet(x, Integer)])"
   ]
  },
  {
   "cell_type": "code",
   "execution_count": 90,
   "metadata": {},
   "outputs": [
    {
     "data": {
      "text/html": [
       "<span style=\"font-size:20px;\"><a class=\"ProveItLink\" href=\"../../ordering/__pv_it/theorems/d1323f34847310a404e8089c2c268d3c2eb89dbf0/expr.ipynb\"><img src=\"data:image/png;base64,iVBORw0KGgoAAAANSUhEUgAAADQAAAAQBAMAAACra0H4AAAAMFBMVEX///8AAAAAAAAAAAAAAAAA\n",
       "AAAAAAAAAAAAAAAAAAAAAAAAAAAAAAAAAAAAAAAAAAAv3aB7AAAAD3RSTlMAEHarMolUmd1mIs3v\n",
       "RLtmgJDEAAAACXBIWXMAAA7EAAAOxAGVKw4bAAAAyklEQVQY02NgwACce9797nnJgBXwcRnwWj7E\n",
       "IRXA8MAZp1QVN4qQXkfHBrgUH7LMbUUkXYbCQIaQskhoApDm2ohkIMuzXUBGAZMRewOQ5l6AkDrd\n",
       "3yQA9MUCzo/ME0BSSM6InAiylIWBHWw3g08HEDyAGvhwJliMRwFMySE73p1PAMS6v4ARRHMgS7F7\n",
       "AfXLXbBhYAUJMCkgSTE+0GRgyHesYbgGFtmGkCpgmMl3gUFcia0yASwi/FYAFvL/FvC9/oYcHFdf\n",
       "QAIKCgBACzQrtGfvLgAAAABJRU5ErkJggg==\n",
       "\" style=\"display:inline;vertical-align:middle;\" /></a>, <a class=\"ProveItLink\" href=\"../__pv_it/demonstrations/1a5270d7d3401e3ec902ebbf86bec5c78898bba20/expr.ipynb\"><img src=\"data:image/png;base64,iVBORw0KGgoAAAANSUhEUgAAADIAAAATBAMAAAAg4UMRAAAAMFBMVEX///8AAAAAAAAAAAAAAAAA\n",
       "AAAAAAAAAAAAAAAAAAAAAAAAAAAAAAAAAAAAAAAAAAAv3aB7AAAAD3RSTlMAEHaZZquJVO8y3btE\n",
       "zSKD2s2pAAAACXBIWXMAAA7EAAAOxAGVKw4bAAAA8klEQVQY02NgwADsN37cXrXDAVOCgWnrBIYL\n",
       "vFgkGJgNGJgc0rHJsD5gkGbcgGLKrlVrQTQjA4Ml6wQkCZ5LAjAmZ8BkkAplBwZREPctXIKBW2Aj\n",
       "kGRjb2DwB3HvIbSXsSgAyenMCxiiQdwLCBmImwU4FBiaQGZ3rVq1ajXEKQU5QHEGhvMCnD9B9iHc\n",
       "Kc0HZMcxMNgyMDWA+AvgMpFAHzF+YGDYysAdAOIrwd1scBjoXaBCU4bz4NDjLYC7+SID33aggaJJ\n",
       "9g/AXo8+CJE5sbd7d393AoiZCw2EbEjowADbBcZ2BqyAS4E1AbsMu5MNdgkA2cc0b5s0PBoAAAAA\n",
       "SUVORK5CYII=\n",
       "\" style=\"display:inline;vertical-align:middle;\" /></a> <a class=\"ProveItLink\" href=\"../__pv_it/demonstrations/368a56ef1060c2ae1e7c71345330f1a4ce7facf00/proof.ipynb\" style=\"text-decoration: none\">&nbsp;&#x22A2;&nbsp;&nbsp;</a><a class=\"ProveItLink\" href=\"../__pv_it/demonstrations/1162d93143ed7d727dd028cf09184b851d8e29860/expr.ipynb\"><img src=\"data:image/png;base64,iVBORw0KGgoAAAANSUhEUgAAAR8AAAAVBAMAAACNlfesAAAAMFBMVEX///8AAAAAAAAAAAAAAAAA\n",
       "AAAAAAAAAAAAAAAAAAAAAAAAAAAAAAAAAAAAAAAAAAAv3aB7AAAAD3RSTlMAMom7Iplm783dEER2\n",
       "q1TfLoYRAAAACXBIWXMAAA7EAAAOxAGVKw4bAAADLElEQVRIx5VWTWgTQRh92WySZjfZhl5ED7oq\n",
       "aIUoe7AnLeSiUFBaeigtWoxgLyJ28aCIP+SiYk+xIBKoZUFFEUtyUsRCt9DixUqoUIr0EMS/g9AU\n",
       "Qg9VxG+yWdvZ3cTxg1l23nzv7ZtvZ2YX+EfITUcygligXEZY0hvvm45M+6FERVRuWlRyM0J3+uiq\n",
       "6U0TElkf9ElYLoDcFHWjnU33WYuEMS+g5MTlxsQkt8aMRZcBDnrJ9Ua8jEhWXM4lq9mWklvjALuY\n",
       "HPSD68UsDyP2H3IuWbNbSm6NWyw918JQm7cg3yEu55J5Q4SG9sr9NJZeKCnzWSQtdeFx+ihtz8XZ\n",
       "3+wl0CJU3n3sOMQZYplTgFT2PLOfWodxbJ+InEt2Db0YgFJmqBTul0z0lOSapJkYpf4Kihm8yoQ3\n",
       "GvOIYMEe4gw5mYjW5ztUYPGQ3d6mpnfp+0XkojnekP4N0SpDj7flyfcEML4zkscy3sQN9KaUy4gw\n",
       "Rpy2xjmMWkucIZb5gbRMT4UmqRTZu1QoATmX3DAUqgwhaTB0RztzXQVuWDEb12EVS1i1CIizIyNW\n",
       "AlIYRKMUV5xSOJkIVT2GrhFmrYvJ1cmRQuHB1UKB3p5CuURgKNuOMQPyL7qT14BV0MQIICVHAezh\n",
       "/KKesUKUqZp+Q1A3xORUvkKMtytVR9nyKNqQanSXqDI61hUCRtGoMdQanvOGBpEgppb3rKFJNum8\n",
       "mJxD3jREr/Stg46zUzSLmI5uhI3zuARtQypWsKzRpy5sQzmSNKHzhiiTyhw1PBU6yp6pi8m5ZNcQ\n",
       "CXbXUfkns1dGFzCMbbpOZU7kzoZt7X4E9c2prT0x1QpvaBgzWWcTc3GQWm9JTM4l/61QWV2vo2q9\n",
       "dHvmSWcq/XklRX1lqaKs7D45y5Ye9U7bXy561tBU+gzNN17yGNpO7bWgnEt2DSmL87UASV/ca3JS\n",
       "d1Lr8SbHU+JyLnnzpJZyAZK+GAn6uEo55abvw0sR7ROXG/B8XDvxtBIg6Ytw0E9c3E7SCpAN38Bh\n",
       "YTkfeQKLgZK+X5ygFO3CqWCvj4TlfOSvbNmFBf5hTzQdmQv4Y7ZF5eaaSf4BFrY28Qyq30sAAAAA\n",
       "SUVORK5CYII=\n",
       "\" style=\"display:inline;vertical-align:middle;\" /></a></span>"
      ],
      "text/plain": [
       "{x in Real, y in Integer} |- round(x + y) = (round(x) + y)"
      ]
     },
     "metadata": {},
     "output_type": "display_data"
    }
   ],
   "source": [
    "round_x_plus_y.shallow_simplification(assumptions=[InSet(x, Real), InSet(y, Integer)])"
   ]
  },
  {
   "cell_type": "code",
   "execution_count": 91,
   "metadata": {},
   "outputs": [
    {
     "data": {
      "text/html": [
       "<span style=\"font-size:20px;\"><a class=\"ProveItLink\" href=\"../../ordering/__pv_it/theorems/d1323f34847310a404e8089c2c268d3c2eb89dbf0/expr.ipynb\"><img src=\"data:image/png;base64,iVBORw0KGgoAAAANSUhEUgAAADQAAAAQBAMAAACra0H4AAAAMFBMVEX///8AAAAAAAAAAAAAAAAA\n",
       "AAAAAAAAAAAAAAAAAAAAAAAAAAAAAAAAAAAAAAAAAAAv3aB7AAAAD3RSTlMAEHarMolUmd1mIs3v\n",
       "RLtmgJDEAAAACXBIWXMAAA7EAAAOxAGVKw4bAAAAyklEQVQY02NgwACce9797nnJgBXwcRnwWj7E\n",
       "IRXA8MAZp1QVN4qQXkfHBrgUH7LMbUUkXYbCQIaQskhoApDm2ohkIMuzXUBGAZMRewOQ5l6AkDrd\n",
       "3yQA9MUCzo/ME0BSSM6InAiylIWBHWw3g08HEDyAGvhwJliMRwFMySE73p1PAMS6v4ARRHMgS7F7\n",
       "AfXLXbBhYAUJMCkgSTE+0GRgyHesYbgGFtmGkCpgmMl3gUFcia0yASwi/FYAFvL/FvC9/oYcHFdf\n",
       "QAIKCgBACzQrtGfvLgAAAABJRU5ErkJggg==\n",
       "\" style=\"display:inline;vertical-align:middle;\" /></a> <a class=\"ProveItLink\" href=\"../__pv_it/demonstrations/6c3bb59eb6cb80550424e3317163961732613a6c0/proof.ipynb\" style=\"text-decoration: none\">&nbsp;&#x22A2;&nbsp;&nbsp;</a><a class=\"ProveItLink\" href=\"../__pv_it/demonstrations/0a11d99b2fe3b3e4c885d0ac76e9920fd5a297e60/expr.ipynb\"><img src=\"data:image/png;base64,iVBORw0KGgoAAAANSUhEUgAAAR8AAAAVBAMAAACNlfesAAAAMFBMVEX///8AAAAAAAAAAAAAAAAA\n",
       "AAAAAAAAAAAAAAAAAAAAAAAAAAAAAAAAAAAAAAAAAAAv3aB7AAAAD3RSTlMAMom7Iplm783dEER2\n",
       "q1TfLoYRAAAACXBIWXMAAA7EAAAOxAGVKw4bAAADLUlEQVRIx5WWTWgTQRTH/0k2SbNJtqEX0YOu\n",
       "CopQdQV7skKgVigoLZWUFhQiWhBBGzwofmFAVPQUC0WC2i6oIIIktyIW3IL1IFaCSFEpNBRFPbWF\n",
       "UCQtxjeb0LKTWTt9sMvsf+b99r2387HAGqasqyMuixMPXNOd7KNbR9iq1yJFWdyYsHfsf66eO110\n",
       "13RRX3vvPuBdvT4rjYsk+dIlbsbqVYc1snSfC+tuYG8eDSavq2l53D2uuw3epXrVYW/YC3ucn6ma\n",
       "QTSOYAqBLt7Dn5TH9TuR+AxcWlWFtovdUg5Jq86bYBnREnCF9wiuAxc0HUjcMDETX1GFdosNT4sC\n",
       "imYQXQBu8x6/II9rSDoD+grMxJjq2a50U1/zZF6dSCJqhiefNrfSNPk0/pd9BJqE6odvTXuc3kBo\n",
       "HtjNv7ObriajfYcMzlvgkRixVa+v25tCR14pebUUBuh5Grk4RuO+ci0PPyatPt57C7XO2K2+LLPH\n",
       "rMlKprfoO2VwgTSP9Czb6uGGDMX9CBjc7M/gC16HDHTG1IvwM48QLY3TGDCneG8WwE++QsNUiuRd\n",
       "KpQETkvVFb1gq5saWdT0Aa6bQQvXYObymDNJCLEtI5gHYuitrqFs9sHlbNYutd9gVeIDukppmoty\n",
       "OM88h8SxmsqWY9CAskwthabqHCgxEohUJYC44NI5x26jgoAQLsvhwnyFAoWayqZHzoK3RK3IPHPH\n",
       "okrCAGo1RriEF05v2nAPAb/5OTTMks7I4bQMF9AslLitDrJdNImgjoPwGWdxAVrZmyvii0ZHnc+C\n",
       "eiCagu70bgLeA6f4CrWyd+pyuIDhRHp0REymKkssrQJagBPYoOtU5kj6pM/Shvywl6G28CwVLjq8\n",
       "laFEIlNd5Q5j+0BnXg7n53LsSCT6bDVsl27bBHFeNn+fjtGzOlVUp7ceHWdx09Nx68d55xwKVSoV\n",
       "WjQP+YA20vVKEhfKOwMaqVT+rKrudl+0U9eO2Aw/OBSTx3WIkCuqu/WLDle3o7T+uHXH9YiQ3Fku\n",
       "Mp/7T1xbvbRfGqcYLv81a5nqPkTw9ifSOHGiPol/2CNuHRGBs2LJ4t4Ke0n9B8W8MjJpfGpbAAAA\n",
       "AElFTkSuQmCC\n",
       "\" style=\"display:inline;vertical-align:middle;\" /></a></span>"
      ],
      "text/plain": [
       "{x in Real} |- round(x + 2) = (round(x) + 2)"
      ]
     },
     "metadata": {},
     "output_type": "display_data"
    }
   ],
   "source": [
    "round_x_plus_2.shallow_simplification(assumptions=[InSet(x, Real)])"
   ]
  },
  {
   "cell_type": "code",
   "execution_count": 92,
   "metadata": {},
   "outputs": [
    {
     "data": {
      "text/html": [
       "<span style=\"font-size:20px;\"><a class=\"ProveItLink\" href=\"../__pv_it/demonstrations/6395594dde9afd8f7aee1a29d57d2702734f034c0/expr.ipynb\"><img src=\"data:image/png;base64,iVBORw0KGgoAAAANSUhEUgAAAGcAAAAVBAMAAACphe0AAAAAMFBMVEX///8AAAAAAAAAAAAAAAAA\n",
       "AAAAAAAAAAAAAAAAAAAAAAAAAAAAAAAAAAAAAAAAAAAv3aB7AAAAD3RSTlMAInZUiRDNmWbv3US7\n",
       "qzJazP2FAAAACXBIWXMAAA7EAAAOxAGVKw4bAAABtElEQVQ4y2NgYBBgwAVwyzAZ4JTahMZvm3M+\n",
       "a04DiGXCgNu8BjSBA7IMe3sCGBhYE3BrYkhF1yTCwMN3gYGBHdW0HSi8dkxN7AJAWzhRhY1QeJwB\n",
       "EGeeWrUMoekAA4MZPk1sYGdwJwUgbOINBTqvBMgO0o1zMUDRxKrewBDLwMByAcQRC0By3hszYERk\n",
       "ANkFTJfYF6BoYmGewNDPwMABDqVEhJ8ks36pAunFQCkBjq+8DSiaHgMNucPAANQKBAlIAdERBqJn\n",
       "MzDwMbBDxKtWrZq5atVaICuAU4FhElDmA5DNN2vVqlVroJp4IhogmoChpIAeEPsD+P4BgwBkE+sB\n",
       "JJv4Co5CnAdUIsAagKqpjIEJqIEZ7NMFyPFUJwOkDzEwxGy4ycCCZtNZBh5gyHGALVFC1hQDSlu+\n",
       "DAz2TysZNqNpqmXYD5RkdwDHFjxJHxBn4Gg4zcDwioEhXIm5wgBNU6xTPTA+uDaAI+3OVngqP8hw\n",
       "Jt+AgesBjhThBsRSECa3DzQZwQBHAbYEy5LAOhlIVeBK/gexCXIp8AK9w3gAl6YYbILMTdVAkgdn\n",
       "fmdUwJkHFXGIAwBj9WRTuxoG5AAAAABJRU5ErkJggg==\n",
       "\" style=\"display:inline;vertical-align:middle;\" /></a> <a class=\"ProveItLink\" href=\"../__pv_it/demonstrations/bf6b000e44347c4c0e2317e98958346c4015df6e0/proof.ipynb\" style=\"text-decoration: none\">&nbsp;&#x22A2;&nbsp;&nbsp;</a><a class=\"ProveItLink\" href=\"../__pv_it/demonstrations/216d81352050b8a9a45cf0ac57c5bbaea334af420/expr.ipynb\"><img src=\"data:image/png;base64,iVBORw0KGgoAAAANSUhEUgAAAd8AAAAVBAMAAAD1KvkNAAAAMFBMVEX///8AAAAAAAAAAAAAAAAA\n",
       "AAAAAAAAAAAAAAAAAAAAAAAAAAAAAAAAAAAAAAAAAAAv3aB7AAAAD3RSTlMAMom7Iplm783dEER2\n",
       "q1TfLoYRAAAACXBIWXMAAA7EAAAOxAGVKw4bAAAFMUlEQVRYw61Yb2hbVRT/JXlJmveSNBRB8YN9\n",
       "U9Ap0UV0n9zw4ZxQcDRUOlrmWEQLIrqG+mco/gmIivuUTYbUTfY+KJNhaD5tiIW+qVWRdYYqc9bC\n",
       "gkzHQGgLoYysrJ773kvev5uXF9iBE+47/Z3zu+fcc++7r0AXEUzli8J36BSIh/eJ3hXQA72OVdBd\n",
       "LpjKl1m+A08kjY/3id4V0AO9jp31owl9lKfftGxoB0kW3BYGDn3mMu4eexj4kYv3i447XsetoBdG\n",
       "38/oWA69Tfrr9POVqZ3ksNtA4MpY00WYw7Yq+lQe3jc6bt4KeuxC+IaBPexHNscmuNdUS844niZa\n",
       "DduqHQMnm05rSkG8iFjehrdkr88UpKYHIBV6psfvwCEDO+GX8P3sp2iqJf85nuKq2UqaaSjaGU1r\n",
       "vIlUA3jLhrek6DOFcNkDaBMFp8d7Ki4rOtZLb5MPmEvJ0I4J9xWcsXWwmzFVRmoN+NCGtxIo+Uyh\n",
       "L+8BOBMORI8/gcsZHUsaukcYoVF2oSrOF5BSpYUvsjto2y2eY/snKhsqnl8aeMiRMENXaA1qztgM\n",
       "7GUEEqvAg7DwbWEOA7nd99Kfzv+Fr6kllzC79MT35LknO1j30LdCElKsBabHSYOaNBwZCRcxVBUa\n",
       "4XQRk/S8jBkFZ5VI06wg0ygWtHFHwgYasZIztl5yDuMgjV5ECz8+zeTzloO8Xb4PwnEMK/JVxFYh\n",
       "79TEBqTX8LjqoW+FNJBB6UMbBjXpU31lKssJ4Ohd0TIu4dtEDsMZ8Q1EWaxE3dAXMKledCTM0L9R\n",
       "zKIzNgPzGFlyV2Hh20IOQuFjjCChIbGlPo5USap+AmENpwoYg4feDBliyFxg+kTNoCa9s59VkBru\n",
       "HTWu4W2oM1WsqGRIsO6IVw3N6Nz60hwylsZAI7TKGml6+tM3p6drpoPJaLMimmOrDBPvOHaqCKnr\n",
       "NDhA4yUKGddE8QbSTWY4Cie9FVLUkUHp8YxJzZS9feI5CBs0orpiBbTOZJip2hIGS855aM2pIUJL\n",
       "rhLbGO0lfoX9nIWFtydsvH1eBYY1Gg1nkF6ldSYDJe6hb4Uk5GAmKH2sZlIzZXtjRkO4QaPkKssW\n",
       "6yIZJmFraUgNnHYmPIYk65FykJ6i+8+TwDW08LY9zBxod0CkXbZNodGvYNn2F05vsE3qoW8fTyX8\n",
       "FJQef0NQdCxT1jbU1nEZOxHJvYQpaqfwTB2X0nTVjmi6io+lipCdCROa6hbLOWMzBy/jAPAL8Dws\n",
       "fFuYg757qK2nWMhHYirNZUV94CYlfsVD3yaq0QwC0odkJFUdSyqwtonWsB3Yj9tlmbo6WXouoqWP\n",
       "RdE+ytNrXxalujPh/ZgrmO8BW2z9PUHd4rAKx0ZHqbQjsPDW3YIchqt6vEieJhKaCrOu/jmW2YFr\n",
       "+byHvr3CNWk9ID2GRkfH269YSW+Ku+eJs5K9spyhZ/FiXVzesuccq01ZV/FZ7Z+Drj1cyR6gFkhU\n",
       "XcUkh9Qf151HamJzc5PO/OOw8NY3Cjl8o881u48ae/EC8dJz5SAq3922nPHQt4jExflGQHqc3Ny8\n",
       "bmA99B45YirvprWVFc+9XY50vBYJZRveydB1CryQ4VJP9Dp2qOvnsPfGfaZFJ75ru9m3b+8THW/6\n",
       "0QL3U2EiyBS8IbfiVL0nes53EE8iiqEeSWgpWf/w4zjwZRd4eB8HX8AJLPZGz7AcereIOUO93+0v\n",
       "7+PGFzvGfJQ/HzEXYApe+ZedOr3Qd1w6lzxtKl9+4Dtw/zuh8PE+0bsCeqDXsaT/A5Qz7pU7fX9E\n",
       "AAAAAElFTkSuQmCC\n",
       "\" style=\"display:inline;vertical-align:middle;\" /></a></span>"
      ],
      "text/plain": [
       "{(x + y) in Real} |- round((x + y) + (1 + 2)) = (round(x + y) + (1 + 2))"
      ]
     },
     "metadata": {},
     "output_type": "display_data"
    }
   ],
   "source": [
    "round_add_add.shallow_simplification(assumptions=[InSet(Add(x,y), Real)])"
   ]
  },
  {
   "cell_type": "markdown",
   "metadata": {},
   "source": [
    "## The Expr.simplification() method"
   ]
  },
  {
   "cell_type": "markdown",
   "metadata": {},
   "source": [
    "### Ceil.simplification()"
   ]
  },
  {
   "cell_type": "code",
   "execution_count": 93,
   "metadata": {},
   "outputs": [
    {
     "data": {
      "text/html": [
       "<span style=\"font-size:20px;\"> <a class=\"ProveItLink\" href=\"../__pv_it/demonstrations/af325f8cb48202d44154f6425a74fd788a6954090/proof.ipynb\" style=\"text-decoration: none\">&nbsp;&#x22A2;&nbsp;&nbsp;</a><a class=\"ProveItLink\" href=\"../__pv_it/demonstrations/225e494d76b07021d38995c95301512a314464680/expr.ipynb\"><img src=\"data:image/png;base64,iVBORw0KGgoAAAANSUhEUgAAAEAAAAAVBAMAAAAEBPWpAAAAMFBMVEX///8AAAAAAAAAAAAAAAAA\n",
       "AAAAAAAAAAAAAAAAAAAAAAAAAAAAAAAAAAAAAAAAAAAv3aB7AAAAD3RSTlMARN12ZlQimc27Momr\n",
       "7xBJVNCIAAAACXBIWXMAAA7EAAAOxAGVKw4bAAAAsElEQVQoz2MQUlJmAIEgJRUGrMAFzhLHrSC9\n",
       "YhZWBWBxoAK2CQz7BbAogIgDFfAkMPBewKIAIg5UwPuPgecbFgUQcZAJCgw8v7CZABaH+ILpA3Zf\n",
       "AMUhCtYbwBSwK4HBAQaYOESBDo5w0IEGFPsE7ApA4mAFPjhC0gcakqwbGNKwuQEsDlKwmoHBDpsJ\n",
       "YHFQUKuXlytgC2qwOFAB0////xuwKICIExXdNFYQiuwpLAAAmnIt3+UflfYAAAAASUVORK5CYII=\n",
       "\" style=\"display:inline;vertical-align:middle;\" /></a></span>"
      ],
      "text/plain": [
       "|- ceil(2) = 2"
      ]
     },
     "metadata": {},
     "output_type": "display_data"
    }
   ],
   "source": [
    "# simplifying ceiling of an integer\n",
    "ceil_2.simplification()"
   ]
  },
  {
   "cell_type": "code",
   "execution_count": 94,
   "metadata": {},
   "outputs": [
    {
     "data": {
      "text/html": [
       "<span style=\"font-size:20px;\"><a class=\"ProveItLink\" href=\"../__pv_it/demonstrations/afb365f108d4dd6c721b8c94587e09ba7c4bb65a0/expr.ipynb\"><img src=\"data:image/png;base64,iVBORw0KGgoAAAANSUhEUgAAAGYAAAAVBAMAAABGR4Y+AAAAMFBMVEX///8AAAAAAAAAAAAAAAAA\n",
       "AAAAAAAAAAAAAAAAAAAAAAAAAAAAAAAAAAAAAAAAAAAv3aB7AAAAD3RSTlMAInZUiRDNmWbv3US7\n",
       "qzJazP2FAAAACXBIWXMAAA7EAAAOxAGVKw4bAAABp0lEQVQ4y2NgYBBgwAEYcUkwMBngkuFWQBNg\n",
       "zvyZs+pkAwODCU7TGDTQjT/7gCGBjYGBNQG3HrYAVD57AQNTgzOQbsCth6MAlc8rwBDDeoCBgZMB\n",
       "D5gKddOpVctANCsDQx3vAwYGM3x6MiBhkQR3I9+F50CyBIiDdONcUEMvqIKB9QIDgy+YI4bwFk/A\n",
       "UahRBUyX2Beg6HGwZOD4wMDQBuYkIsRNOEDhvxjoVQGOr7woQcFnUMXAC/SsJZiHFLKgkGZgmA1U\n",
       "wcAOEQ5bBQLrQJ6dxMAJNPE92IBZQME10Pj3ZmAIAOlhAMujJoGvDO+BAbQTHFoH4MIxjED2RZDb\n",
       "GBj2C7CiRh/QYk0gZQXmILx6DxhDrB8YDgF1b7jJwIJqD88FhrNAqgfMUYJ7s2A7MGIXgILT/mkl\n",
       "w2a0VHKB+wc0IoBJyAAe0qkMjIcPMLxiYAhXYq5AS9ysV9Q/AqnVEM6drRDRncfmnJk/x4GB6wH2\n",
       "JMACDEpGqE+4fSBpB1c6hAA3hkgDPOn3IDbBRQxXgKQMrnQYg03QQn0DLuPAuV4BZ67HUVIAAMbT\n",
       "W4ACDxnyAAAAAElFTkSuQmCC\n",
       "\" style=\"display:inline;vertical-align:middle;\" /></a> <a class=\"ProveItLink\" href=\"../__pv_it/demonstrations/a3a963457decd0ce9280d83919aed212b22e109e0/proof.ipynb\" style=\"text-decoration: none\">&nbsp;&#x22A2;&nbsp;&nbsp;</a><a class=\"ProveItLink\" href=\"../__pv_it/demonstrations/54722cc644862c4fe0959d62b53e3f2196d5a1690/expr.ipynb\"><img src=\"data:image/png;base64,iVBORw0KGgoAAAANSUhEUgAAAJoAAAAVBAMAAABMN+opAAAAMFBMVEX///8AAAAAAAAAAAAAAAAA\n",
       "AAAAAAAAAAAAAAAAAAAAAAAAAAAAAAAAAAAAAAAAAAAv3aB7AAAAD3RSTlMARN12ZlQQqzKJmSLN\n",
       "77vFPH07AAAACXBIWXMAAA7EAAAOxAGVKw4bAAABzklEQVQ4y5WUz0sCQRTHv/7YVdcMCTqGZggd\n",
       "FwwEIRCqU5ESdSiSFoQMKRGKwEMhQUEnhQgJOpgJERjtXxAS/QGG1Lno0KFLhxDBS+NYh1lnhB3Y\n",
       "nWHm+z7vMW/ew0hgAoIhBQLR/l1dJHeTbxYDhqXct2WLC8WqedqqWD1lmibXxeohzSxNiYrV9rJZ\n",
       "mmeQ/NUsbX2Q/InS5ND+6Tl7PZEoUjzaLfmS4a0LNrPJKuQsUKI0BWG1why7pAZi/zQlQEe25x4o\n",
       "23YVPyMvJmD/BhYobR4xbY85PibyQ15sQXLZur3lYJLhjFfgeAMSlJZHje5u0xgmyUrzqGjyaM/E\n",
       "Fgp9JvIjlefJimiJAQp/WWgarXyasy2ggVqy2WqhQKhjPZqlg032vAZbg3dvQepKlzX2FdYxTaal\n",
       "Lk1+dzRQZGmfGM7yYvsAMt4DuNhdov0k02KXJrXTDYuhmG/gi/JoJWDj5A6jhgrJWn7o8+nGdq2u\n",
       "zRmsUmf3Oo92BKRDUtXgW85FOmQaF9fCJbcWrHm+2kXS7PYLaK66/MKl2ct8zztx2hH4NKvqKPL7\n",
       "2xdPPoEc+T+I+ps0cyXolhmefDni7TlaGdQUnMX+7q+KxDYdv/wyZ/u3EnCgAAAAAElFTkSuQmCC\n",
       "\" style=\"display:inline;vertical-align:middle;\" /></a></span>"
      ],
      "text/plain": [
       "{(x - y) in Integer} |- ceil(x - y) = (x - y)"
      ]
     },
     "metadata": {},
     "output_type": "display_data"
    }
   ],
   "source": [
    "# simplifying ceiling of expression assumed to be an integer\n",
    "ceil_x_minus_y.simplification(assumptions=[InSet(subtract(x, y), Integer)])"
   ]
  },
  {
   "cell_type": "code",
   "execution_count": 95,
   "metadata": {},
   "outputs": [],
   "source": [
    "# from proveit.logic.sets import SubsetEq\n",
    "# from proveit.numbers import NaturalPos\n",
    "# SubsetEq(NaturalPos, Integer).proven()"
   ]
  },
  {
   "cell_type": "code",
   "execution_count": 96,
   "metadata": {},
   "outputs": [
    {
     "data": {
      "text/html": [
       "<span style=\"font-size:20px;\"><a class=\"ProveItLink\" href=\"../../ordering/__pv_it/theorems/d1323f34847310a404e8089c2c268d3c2eb89dbf0/expr.ipynb\"><img src=\"data:image/png;base64,iVBORw0KGgoAAAANSUhEUgAAADQAAAAQBAMAAACra0H4AAAAMFBMVEX///8AAAAAAAAAAAAAAAAA\n",
       "AAAAAAAAAAAAAAAAAAAAAAAAAAAAAAAAAAAAAAAAAAAv3aB7AAAAD3RSTlMAEHarMolUmd1mIs3v\n",
       "RLtmgJDEAAAACXBIWXMAAA7EAAAOxAGVKw4bAAAAyklEQVQY02NgwACce9797nnJgBXwcRnwWj7E\n",
       "IRXA8MAZp1QVN4qQXkfHBrgUH7LMbUUkXYbCQIaQskhoApDm2ohkIMuzXUBGAZMRewOQ5l6AkDrd\n",
       "3yQA9MUCzo/ME0BSSM6InAiylIWBHWw3g08HEDyAGvhwJliMRwFMySE73p1PAMS6v4ARRHMgS7F7\n",
       "AfXLXbBhYAUJMCkgSTE+0GRgyHesYbgGFtmGkCpgmMl3gUFcia0yASwi/FYAFvL/FvC9/oYcHFdf\n",
       "QAIKCgBACzQrtGfvLgAAAABJRU5ErkJggg==\n",
       "\" style=\"display:inline;vertical-align:middle;\" /></a>, <a class=\"ProveItLink\" href=\"../__pv_it/demonstrations/1a5270d7d3401e3ec902ebbf86bec5c78898bba20/expr.ipynb\"><img src=\"data:image/png;base64,iVBORw0KGgoAAAANSUhEUgAAADIAAAATBAMAAAAg4UMRAAAAMFBMVEX///8AAAAAAAAAAAAAAAAA\n",
       "AAAAAAAAAAAAAAAAAAAAAAAAAAAAAAAAAAAAAAAAAAAv3aB7AAAAD3RSTlMAEHaZZquJVO8y3btE\n",
       "zSKD2s2pAAAACXBIWXMAAA7EAAAOxAGVKw4bAAAA8klEQVQY02NgwADsN37cXrXDAVOCgWnrBIYL\n",
       "vFgkGJgNGJgc0rHJsD5gkGbcgGLKrlVrQTQjA4Ml6wQkCZ5LAjAmZ8BkkAplBwZREPctXIKBW2Aj\n",
       "kGRjb2DwB3HvIbSXsSgAyenMCxiiQdwLCBmImwU4FBiaQGZ3rVq1ajXEKQU5QHEGhvMCnD9B9iHc\n",
       "Kc0HZMcxMNgyMDWA+AvgMpFAHzF+YGDYysAdAOIrwd1scBjoXaBCU4bz4NDjLYC7+SID33aggaJJ\n",
       "9g/AXo8+CJE5sbd7d393AoiZCw2EbEjowADbBcZ2BqyAS4E1AbsMu5MNdgkA2cc0b5s0PBoAAAAA\n",
       "SUVORK5CYII=\n",
       "\" style=\"display:inline;vertical-align:middle;\" /></a> <a class=\"ProveItLink\" href=\"../__pv_it/demonstrations/651e9b42bde13508c9bea347aec625c9ba6ce7ea0/proof.ipynb\" style=\"text-decoration: none\">&nbsp;&#x22A2;&nbsp;&nbsp;</a><a class=\"ProveItLink\" href=\"../__pv_it/demonstrations/77e5ec25e61ce67091b01ccaf7f0cbca396af3710/expr.ipynb\"><img src=\"data:image/png;base64,iVBORw0KGgoAAAANSUhEUgAAAKwAAAAVBAMAAAAp2hhWAAAAMFBMVEX///8AAAAAAAAAAAAAAAAA\n",
       "AAAAAAAAAAAAAAAAAAAAAAAAAAAAAAAAAAAAAAAAAAAv3aB7AAAAD3RSTlMARN12ZlQQqzKJmSLN\n",
       "77vFPH07AAAACXBIWXMAAA7EAAAOxAGVKw4bAAAB9UlEQVQ4y5XUz0vcQBQH8G92k9kkdhcp9Ci7\n",
       "Zi8eAyrCQiFQe2mlhqIXQQws1CJVAoqwB4uXFnoyIKUUPGztQilYDHgvi/gHBETPevLgpYcigpe+\n",
       "/KiwO5O4mUMmTN77zMtkJnhs1JHSFMOwuMEhQDIMMz0gCsE0MprU5oYmAdnKCqBBMzereA+zmMjN\n",
       "vsMA7CMnL9sZhJXbedlgEBbnOVmlOxB7ErHNqbdf7Z5x1rCwLMjSvYRl45ufPvMBzQ6YC3yJ2HZx\n",
       "Xa/1PNaUALP/s3Qjam74MayE1TFl7vOstwj5DzATsrIv35R69/UHmua9oNqCnbAvMetscAGqvY/S\n",
       "BbAYsir0brx7oqrG6M4pmzgVsOXhhN3Gwf3asuMob5vuKIkysRN/srLZv+hVR73NYhHOygdIN9gh\n",
       "fiRmqz5zep8foBgI1vZ+ESDd4Q3P0ms/pe51yK4Nb0HrK+sKFVdQbcWMWXZZCuDxAZR0Rd2rkF36\n",
       "+AtP+vJ/oGoJWM2NWeV2JZBsQbWu9Je6nyG7Mq507L785d1DX8CqtaTa7+bCc8HaslbjjrrR9FO2\n",
       "JzxEYw+dMo021VAthdW67EyY9SKb3cMqvbdupbAFs+QJ2YqfydbRouvvtP+t8uyb+B3ZRSY71wg3\n",
       "9jUwn/UHUz1u6IjmtLMCgKKPf4QqeOcUraUQAAAAAElFTkSuQmCC\n",
       "\" style=\"display:inline;vertical-align:middle;\" /></a></span>"
      ],
      "text/plain": [
       "{x in Real, y in Integer} |- ceil(x - y) = (ceil(x) - y)"
      ]
     },
     "metadata": {},
     "output_type": "display_data"
    }
   ],
   "source": [
    "# simplifying ceiling of a sum of an assumed real and an assumed integer\n",
    "ceil_x_minus_y.simplification(assumptions=[InSet(x, Real), InSet(y, Integer)])"
   ]
  },
  {
   "cell_type": "code",
   "execution_count": 97,
   "metadata": {},
   "outputs": [
    {
     "data": {
      "text/html": [
       "<span style=\"font-size:20px;\"><a class=\"ProveItLink\" href=\"../../ordering/__pv_it/theorems/d1323f34847310a404e8089c2c268d3c2eb89dbf0/expr.ipynb\"><img src=\"data:image/png;base64,iVBORw0KGgoAAAANSUhEUgAAADQAAAAQBAMAAACra0H4AAAAMFBMVEX///8AAAAAAAAAAAAAAAAA\n",
       "AAAAAAAAAAAAAAAAAAAAAAAAAAAAAAAAAAAAAAAAAAAv3aB7AAAAD3RSTlMAEHarMolUmd1mIs3v\n",
       "RLtmgJDEAAAACXBIWXMAAA7EAAAOxAGVKw4bAAAAyklEQVQY02NgwACce9797nnJgBXwcRnwWj7E\n",
       "IRXA8MAZp1QVN4qQXkfHBrgUH7LMbUUkXYbCQIaQskhoApDm2ohkIMuzXUBGAZMRewOQ5l6AkDrd\n",
       "3yQA9MUCzo/ME0BSSM6InAiylIWBHWw3g08HEDyAGvhwJliMRwFMySE73p1PAMS6v4ARRHMgS7F7\n",
       "AfXLXbBhYAUJMCkgSTE+0GRgyHesYbgGFtmGkCpgmMl3gUFcia0yASwi/FYAFvL/FvC9/oYcHFdf\n",
       "QAIKCgBACzQrtGfvLgAAAABJRU5ErkJggg==\n",
       "\" style=\"display:inline;vertical-align:middle;\" /></a>, <a class=\"ProveItLink\" href=\"../__pv_it/demonstrations/1a5270d7d3401e3ec902ebbf86bec5c78898bba20/expr.ipynb\"><img src=\"data:image/png;base64,iVBORw0KGgoAAAANSUhEUgAAADIAAAATBAMAAAAg4UMRAAAAMFBMVEX///8AAAAAAAAAAAAAAAAA\n",
       "AAAAAAAAAAAAAAAAAAAAAAAAAAAAAAAAAAAAAAAAAAAv3aB7AAAAD3RSTlMAEHaZZquJVO8y3btE\n",
       "zSKD2s2pAAAACXBIWXMAAA7EAAAOxAGVKw4bAAAA8klEQVQY02NgwADsN37cXrXDAVOCgWnrBIYL\n",
       "vFgkGJgNGJgc0rHJsD5gkGbcgGLKrlVrQTQjA4Ml6wQkCZ5LAjAmZ8BkkAplBwZREPctXIKBW2Aj\n",
       "kGRjb2DwB3HvIbSXsSgAyenMCxiiQdwLCBmImwU4FBiaQGZ3rVq1ajXEKQU5QHEGhvMCnD9B9iHc\n",
       "Kc0HZMcxMNgyMDWA+AvgMpFAHzF+YGDYysAdAOIrwd1scBjoXaBCU4bz4NDjLYC7+SID33aggaJJ\n",
       "9g/AXo8+CJE5sbd7d393AoiZCw2EbEjowADbBcZ2BqyAS4E1AbsMu5MNdgkA2cc0b5s0PBoAAAAA\n",
       "SUVORK5CYII=\n",
       "\" style=\"display:inline;vertical-align:middle;\" /></a> <a class=\"ProveItLink\" href=\"../__pv_it/demonstrations/692082d15676ecb64677a01e788e857d7e777d930/proof.ipynb\" style=\"text-decoration: none\">&nbsp;&#x22A2;&nbsp;&nbsp;</a><a class=\"ProveItLink\" href=\"../__pv_it/demonstrations/5dd6df07bfba4269a47d3e5f0410db2088f9a47e0/expr.ipynb\"><img src=\"data:image/png;base64,iVBORw0KGgoAAAANSUhEUgAAASQAAAAVBAMAAAAdho5jAAAAMFBMVEX///8AAAAAAAAAAAAAAAAA\n",
       "AAAAAAAAAAAAAAAAAAAAAAAAAAAAAAAAAAAAAAAAAAAv3aB7AAAAD3RSTlMARN12ZlQiiRDNme+7\n",
       "qzJmaQM3AAAACXBIWXMAAA7EAAAOxAGVKw4bAAADHklEQVRIx42WTWgTQRiG391k0+0mG4L2pIeu\n",
       "W70oLQv+IBEhYBQsSkNVRHsJCj2Ih4B48CAGvFi1sAcPHmsslBbEqAiCl4jQm5KDUA8eiiA9tgcp\n",
       "PbXOzE6a3cmXqR+8bLIz8+w73/xinz8CoIp+QZZM+od7X2aACMbC8v0SUa6PjFSZ/0lV+tbbT78+\n",
       "0PvqpIRFYcwR5fowgkiCcr1/vZTa2zuL30lLVk1viZf3D0E9ASFOsUNN5ZdKdlt4VKAszUBvaUY7\n",
       "ZoI6WAcXpzglTe1x+RyKHm4V2SZlaZ62ZJRi5b2RoKZZGyZOyeo6kK1Hzyvy7xbcTcpSk7ZkBbHy\n",
       "3khSP4GLU27oLA2WEo1dD+42YckK9ZasUGdJUl+Ai1MW+Hw6/nPtfqK2XSxhFhhoJxqzMDcIS05N\n",
       "WpIg1ZITm92P52GT1IfgKiMy5+Bs0Eh8ZMBqYoINbqg2Xg86lho+j9HdZJa7INXSYGy+1qaQ3qCo\n",
       "F8HFKUeYLmCi/iNh6Y/j4RdjNtXGo9QmYFakJQlSLZndrS9facBtUdQpIU55x7SKxWitio6PsV/1\n",
       "bIAPDLARpeOzTAecFmUpW5CWJEhYcnz/2Hvfb8tyybYZNhtQ1HWhjiXwzydjuJ5nU85Qs3QZWksS\n",
       "pGZJlHem/hbWVynqQaHOwMHYxJPkVxaRYnYsL9mY7cLTxFzaHTgJ0gwcnBBnQFEn+fkpKF/ZOvni\n",
       "NqFs+d+QYylPK6O+BpwmspQLIksdkGopF8Tqthmbol4CV1msO1jbT5uGcvi+wXCpu3pl48zRpSWP\n",
       "sCT2inIXpFrq7CUiS23jLyjqgtiRuKXfrHOvg5vnla/M3nvLriZmIdHY3NnZCQlLeU9mSYJUS3kv\n",
       "tuOtFDdBUQ+Bi1syV/vs3A+YbkFdrvTlZGyPA2UskdOQomY8IU5Jz1F+BkL7Y+y4HNrD0vgex+54\n",
       "vKfPKhSVH/9MgrJMWTIDtyauDf93hctV9ZeTXPd+OoIVEno3kqA8pypY514lSXpLdktvye727Wqx\n",
       "QEKXI10Tgxj0vQicol+v9b66LWFyOteIcn2kqkL/AAD8zhxKB6WnAAAAAElFTkSuQmCC\n",
       "\" style=\"display:inline;vertical-align:middle;\" /></a></span>"
      ],
      "text/plain": [
       "{x in Real, y in Integer} |- ceil((x - y) + 2) = (ceil(x) + (-y + 2))"
      ]
     },
     "metadata": {},
     "output_type": "display_data"
    }
   ],
   "source": [
    "# simplifying ceiling of sum of an assumed real,\n",
    "# as assumed integer, and an actual integer\n",
    "ceil_x_minus_y_plus_2.simplification(assumptions=[InSet(x, Real), InSet(y, Integer)])"
   ]
  },
  {
   "cell_type": "markdown",
   "metadata": {},
   "source": [
    "### Floor.simplification()"
   ]
  },
  {
   "cell_type": "code",
   "execution_count": 98,
   "metadata": {},
   "outputs": [
    {
     "data": {
      "text/html": [
       "<a class=\"ProveItLink\" href=\"../__pv_it/demonstrations/3d426bb180a97ac43a83a6a3119279c7e717ef6d0/expr.ipynb\"><img src=\"data:image/png;base64,iVBORw0KGgoAAAANSUhEUgAAAHAAAAAVBAMAAABs93eRAAAAMFBMVEX///8AAAAAAAAAAAAAAAAA\n",
       "AAAAAAAAAAAAAAAAAAAAAAAAAAAAAAAAAAAAAAAAAAAv3aB7AAAAD3RSTlMAEGZU7912IonNmUS7\n",
       "qzLCARrXAAAACXBIWXMAAA7EAAAOxAGVKw4bAAABcUlEQVQ4y2MQZAABdgZcoAC7MDuDEphOxqlx\n",
       "G3bhXRCNzA04NbIpoIs8FUBolGTADSaichlvzUfSuAhFbhMKTwtKc8OszkfS6ICi1AyFxyIAoZkT\n",
       "MDUyT8CjkVMBt0YuYNgwpl180YyikTFLgUGWgYHjAm6NIEO5GHITlqJo5GB2YNBnYGCagFsjqwED\n",
       "gzqDvsAlFI2PuQIY7gA1OODWyLKBgeEBw0qw8NLQUJfQ0FggS4AlgcGNgYHvA8gzoaEhrqGhF7Bo\n",
       "ZAApQg2c/QJ8/4DR4IDfqQzc3xkEUTWuZGADamIOwK2RJ4GB8TSvA0MDqsazDDxAtzEdwK0RGOLM\n",
       "/6QcuA1QNa5l2K8AiSsUjf0FcI18AQyMyxKslNH8KNu2HqiGdQOqxrv+cxXgSS4OR8rpBOJSBjQb\n",
       "kbOVFrZEzjGB0RkpA3ArYNHIgy2fsybwAr3HfgBfRmbEJsusthqXmSCNJqFhQLoMZz5OxyZoGhoG\n",
       "ACy+WRDL4H6QAAAAAElFTkSuQmCC\n",
       "\" style=\"display:inline;vertical-align:middle;\" /></a>"
      ],
      "text/plain": [
       "floor((x + y) + 1)"
      ]
     },
     "metadata": {},
     "output_type": "display_data"
    }
   ],
   "source": [
    "floor_x_plus_y_plus_1"
   ]
  },
  {
   "cell_type": "code",
   "execution_count": 99,
   "metadata": {},
   "outputs": [
    {
     "data": {
      "text/html": [
       "<span style=\"font-size:20px;\"><a class=\"ProveItLink\" href=\"../../ordering/__pv_it/theorems/d1323f34847310a404e8089c2c268d3c2eb89dbf0/expr.ipynb\"><img src=\"data:image/png;base64,iVBORw0KGgoAAAANSUhEUgAAADQAAAAQBAMAAACra0H4AAAAMFBMVEX///8AAAAAAAAAAAAAAAAA\n",
       "AAAAAAAAAAAAAAAAAAAAAAAAAAAAAAAAAAAAAAAAAAAv3aB7AAAAD3RSTlMAEHarMolUmd1mIs3v\n",
       "RLtmgJDEAAAACXBIWXMAAA7EAAAOxAGVKw4bAAAAyklEQVQY02NgwACce9797nnJgBXwcRnwWj7E\n",
       "IRXA8MAZp1QVN4qQXkfHBrgUH7LMbUUkXYbCQIaQskhoApDm2ohkIMuzXUBGAZMRewOQ5l6AkDrd\n",
       "3yQA9MUCzo/ME0BSSM6InAiylIWBHWw3g08HEDyAGvhwJliMRwFMySE73p1PAMS6v4ARRHMgS7F7\n",
       "AfXLXbBhYAUJMCkgSTE+0GRgyHesYbgGFtmGkCpgmMl3gUFcia0yASwi/FYAFvL/FvC9/oYcHFdf\n",
       "QAIKCgBACzQrtGfvLgAAAABJRU5ErkJggg==\n",
       "\" style=\"display:inline;vertical-align:middle;\" /></a>, <a class=\"ProveItLink\" href=\"../../ordering/__pv_it/theorems/5d76fdd975252a644e3e1cb067a357f9a9c8486a0/expr.ipynb\"><img src=\"data:image/png;base64,iVBORw0KGgoAAAANSUhEUgAAADMAAAATBAMAAADPIygvAAAAMFBMVEX///8AAAAAAAAAAAAAAAAA\n",
       "AAAAAAAAAAAAAAAAAAAAAAAAAAAAAAAAAAAAAAAAAAAv3aB7AAAAD3RSTlMAEHaZZquJVO8y3btE\n",
       "zSKD2s2pAAAACXBIWXMAAA7EAAAOxAGVKw4bAAAA4ElEQVQoz2NgwAC+3ftvdTswYAUbnjIc9RbA\n",
       "LvWMgZszAJcU84MLKELaq1ZdgEttQJY5q4jQxSoINJBR2YFBFCTAdxHJwNm1DxgY2NgbGPxBArwP\n",
       "4FIvbv0CmTCdeQFDNFgKyRkusiBagEOBoQnEmLEKCDZApLhFwF4+L8D5E0RLI+niNNgIYtgyMDWA\n",
       "aC5kf1m+BjG2MnCDfc6kgCQlzQQy0ZThPCQsr8OlHjOwOOwBMkST7CHOFt0jAAv5fQy77xeA2LlQ\n",
       "1cd2rUIJObYLjO3Y44aBS4E1AYcUu5MNDhkADGJEjCMFBEsAAAAASUVORK5CYII=\n",
       "\" style=\"display:inline;vertical-align:middle;\" /></a> <a class=\"ProveItLink\" href=\"../__pv_it/demonstrations/7a66b79a0ddd36f9b4388659732b6c0d7e66959b0/proof.ipynb\" style=\"text-decoration: none\">&nbsp;&#x22A2;&nbsp;&nbsp;</a><a class=\"ProveItLink\" href=\"../__pv_it/demonstrations/359d55237c1a52d44d926da8fbebaa736f5088cd0/expr.ipynb\"><img src=\"data:image/png;base64,iVBORw0KGgoAAAANSUhEUgAAAPIAAAAVBAMAAACOB66tAAAAMFBMVEX///8AAAAAAAAAAAAAAAAA\n",
       "AAAAAAAAAAAAAAAAAAAAAAAAAAAAAAAAAAAAAAAAAAAv3aB7AAAAD3RSTlMAEGZU7912qzKJmSLN\n",
       "RLs7fb+cAAAACXBIWXMAAA7EAAAOxAGVKw4bAAABx0lEQVRIx7WWP0jDUBCHL339m5qQTgVxCAoO\n",
       "dWgHdXAKqF3tYNQxICjoYHURHEQQB7eA4CQIhepSMYvOdXK0ODi4tJuT4FhwsWnSwktyx8vgW1KO\n",
       "/L6Pe0kvDwoQa+VDlQJSHy0HA03HM3+GKh5gG018YCBx84WGm5mNxtI6AhI1SydvhHmKSL4goID5\n",
       "PRQcVw4Ic4OAlPyrovOggHkxRF4UMRsEJKl5V2b9g5m1CciEjpulncPLKy4k7elQFDfLNgHJ1XGz\n",
       "DLtWkwvlmAFl3Cybw1Ufmd22UEiijZvnoKwdcaFzuQan4j2nKgSEGbj5DFrDUtM0V0xzc/BLS1pQ\n",
       "5SqkOdkhINkfb5fWV/1d4t6wavDl6GrZvnjPrhmFKETPoPz643ccakHaEH/O7m6jEFZDzdJ3xgCb\n",
       "D32BWhfvWbUISKKHmll/0lAqfOgeunrAfOug5sEfB4fIdsDsg9ye76ylmcAjKl4/OnzleO1Vx8zZ\n",
       "GgFJdXjzCITOsJvIgYRMzy0C8gSBnqO/kv6wz7Wl5cjxj5hLBKQR/GKQ3+eUlbHjnAxUB4Xke7FO\n",
       "Bmz2IdaZROqhENVBQPPmhvhZaCHiZg/wjGb2EdAfiLamLJqBlVgAAAAASUVORK5CYII=\n",
       "\" style=\"display:inline;vertical-align:middle;\" /></a></span>"
      ],
      "text/plain": [
       "{x in Real, y in Real} |- floor(x + y + 1) = floor((x + y) + 1)"
      ]
     },
     "metadata": {},
     "output_type": "display_data"
    }
   ],
   "source": [
    "Floor(Add(x, y, one)).inner_expr().operand.association(0, 2, assumptions=[InSet(x, Real), InSet(y, Real)], auto_simplify=False)"
   ]
  },
  {
   "cell_type": "code",
   "execution_count": 100,
   "metadata": {},
   "outputs": [
    {
     "data": {
      "text/html": [
       "<span style=\"font-size:20px;\"><a class=\"ProveItLink\" href=\"../../ordering/__pv_it/theorems/d1323f34847310a404e8089c2c268d3c2eb89dbf0/expr.ipynb\"><img src=\"data:image/png;base64,iVBORw0KGgoAAAANSUhEUgAAADQAAAAQBAMAAACra0H4AAAAMFBMVEX///8AAAAAAAAAAAAAAAAA\n",
       "AAAAAAAAAAAAAAAAAAAAAAAAAAAAAAAAAAAAAAAAAAAv3aB7AAAAD3RSTlMAEHarMolUmd1mIs3v\n",
       "RLtmgJDEAAAACXBIWXMAAA7EAAAOxAGVKw4bAAAAyklEQVQY02NgwACce9797nnJgBXwcRnwWj7E\n",
       "IRXA8MAZp1QVN4qQXkfHBrgUH7LMbUUkXYbCQIaQskhoApDm2ohkIMuzXUBGAZMRewOQ5l6AkDrd\n",
       "3yQA9MUCzo/ME0BSSM6InAiylIWBHWw3g08HEDyAGvhwJliMRwFMySE73p1PAMS6v4ARRHMgS7F7\n",
       "AfXLXbBhYAUJMCkgSTE+0GRgyHesYbgGFtmGkCpgmMl3gUFcia0yASwi/FYAFvL/FvC9/oYcHFdf\n",
       "QAIKCgBACzQrtGfvLgAAAABJRU5ErkJggg==\n",
       "\" style=\"display:inline;vertical-align:middle;\" /></a>, <a class=\"ProveItLink\" href=\"../../ordering/__pv_it/theorems/5d76fdd975252a644e3e1cb067a357f9a9c8486a0/expr.ipynb\"><img src=\"data:image/png;base64,iVBORw0KGgoAAAANSUhEUgAAADMAAAATBAMAAADPIygvAAAAMFBMVEX///8AAAAAAAAAAAAAAAAA\n",
       "AAAAAAAAAAAAAAAAAAAAAAAAAAAAAAAAAAAAAAAAAAAv3aB7AAAAD3RSTlMAEHaZZquJVO8y3btE\n",
       "zSKD2s2pAAAACXBIWXMAAA7EAAAOxAGVKw4bAAAA4ElEQVQoz2NgwAC+3ftvdTswYAUbnjIc9RbA\n",
       "LvWMgZszAJcU84MLKELaq1ZdgEttQJY5q4jQxSoINJBR2YFBFCTAdxHJwNm1DxgY2NgbGPxBArwP\n",
       "4FIvbv0CmTCdeQFDNFgKyRkusiBagEOBoQnEmLEKCDZApLhFwF4+L8D5E0RLI+niNNgIYtgyMDWA\n",
       "aC5kf1m+BjG2MnCDfc6kgCQlzQQy0ZThPCQsr8OlHjOwOOwBMkST7CHOFt0jAAv5fQy77xeA2LlQ\n",
       "1cd2rUIJObYLjO3Y44aBS4E1AYcUu5MNDhkADGJEjCMFBEsAAAAASUVORK5CYII=\n",
       "\" style=\"display:inline;vertical-align:middle;\" /></a> <a class=\"ProveItLink\" href=\"../__pv_it/demonstrations/2d61e9a08b936274fd958097c50d64456693b8500/proof.ipynb\" style=\"text-decoration: none\">&nbsp;&#x22A2;&nbsp;&nbsp;</a><a class=\"ProveItLink\" href=\"../__pv_it/demonstrations/3424103a21e21ff15801e65687fc49a30da0b75d0/expr.ipynb\"><img src=\"data:image/png;base64,iVBORw0KGgoAAAANSUhEUgAAAQQAAAAVBAMAAABS242zAAAAMFBMVEX///8AAAAAAAAAAAAAAAAA\n",
       "AAAAAAAAAAAAAAAAAAAAAAAAAAAAAAAAAAAAAAAAAAAv3aB7AAAAD3RSTlMAEGZU7912IonNmUS7\n",
       "qzLCARrXAAAACXBIWXMAAA7EAAAOxAGVKw4bAAACb0lEQVRIx53WP2gUQRQG8G9v7l/2LsemVAws\n",
       "CopByBXJoVYrGpsUHujaiDIoKAjiNaayCAiBFCFnekkIRBJEDEEsbJJKCxHUUhQCErDTzi44OzN3\n",
       "Zm7fWzYuHOzOvfn2t3NzO4MRJEcF3NGhmytkqRcg4+gwOcf12R223xu6+W26qdxEIcwQ1FaoRmkJ\n",
       "YpbtWE6l7gU04SwOS0iSblvCkYyeT91L7+syTfC6hySYpKHAEFad77acq7FeQi/+IU3wwxRhiyb0\n",
       "m5OkwoohRE5ty7kq2ikmZDahiBShRRNaBwm4oAmim9FzKMxHOPefhCVN8NVs9O5+/vnEKfHuhxgF\n",
       "qp/yEdYtgQ1iCAuakDyojwdyzSmpigjjKrbLE/xYHxq5ZAlsEEM4rQmlJnAK48EXp+SH38Y3deso\n",
       "3yhctQQ2iCFMaEJxE9jFhm5ei+NLcXxTnQVFictA47d53GtT9nEZwrQlsEGG8K/ZJv3qE5BUucrt\n",
       "oLGveuYchen+dOSC6FF43f8hUPuDEbdkA2V1e9HONxd6PwQbxBAmNaEu4X0YjjDrlnxEXYUXdvKN\n",
       "wjtD4IMYwhlNUP87sX80qjXdkpfYDs0/1iEsdkjCgiHwQWmCTlrXhEYb3nN5/sRAyejcK1VT2nQJ\n",
       "3688CynCnh0FNihFMEk3zAv6FvNSm1efRxgYBWaxLu1mvB3nybej3jC0DWGMWl2qXe/igSWsFmYT\n",
       "1HrDLFM2KL1M2dVNE+rUhqYkh9U0qOzk3bK85xZrE0RvWfDY7hc86j7i5AtORxKOcQQTxBAUfCK+\n",
       "rk5m2I3GPapxUnca3AZKiKlYMjkiJr8qd/AXmpi1Di7fHHIAAAAASUVORK5CYII=\n",
       "\" style=\"display:inline;vertical-align:middle;\" /></a></span>"
      ],
      "text/plain": [
       "{x in Real, y in Real} |- floor((x + y) + 1) = (floor(x + y) + 1)"
      ]
     },
     "metadata": {},
     "output_type": "display_data"
    }
   ],
   "source": [
    "floor_x_plus_y_plus_1.simplification(assumptions=[InSet(x, Real), InSet(y, Real)])"
   ]
  },
  {
   "cell_type": "code",
   "execution_count": 101,
   "metadata": {},
   "outputs": [
    {
     "data": {
      "text/html": [
       "<a class=\"ProveItLink\" href=\"../__pv_it/demonstrations/e181a13f38ef4ebe7909b25fd4f1c05390dda9080/expr.ipynb\"><img src=\"data:image/png;base64,iVBORw0KGgoAAAANSUhEUgAAAGAAAAAVBAMAAABLWfZ5AAAAMFBMVEX///8AAAAAAAAAAAAAAAAA\n",
       "AAAAAAAAAAAAAAAAAAAAAAAAAAAAAAAAAAAAAAAAAAAv3aB7AAAAD3RSTlMAEGZU7912qzKJmSLN\n",
       "RLs7fb+cAAAACXBIWXMAAA7EAAAOxAGVKw4bAAAA6klEQVQ4y2MQZCAJcDMokabhFi4NHIGkaRBf\n",
       "85E4DbwKUAbbR3QR7BqYE9A1wEUo0iCWLjHTgIAGsUUMjAUwDQvYyrgCCGiYYMLA9AGqgWkD00d2\n",
       "BfwaOAyWMrA/gGrgYOA6ABLkCg0NcQ0NLUBoQIgwMrgxsCTAPc2SQNDTvB8Z+hvgGu5vYBQgoAHo\n",
       "iBRYKMldKGHgJGQDXwHDc5gG+8YlDJfRNHD+RrehgPcTTINUGvMiA1Rp9pI/RagijJVZv/HFNBYR\n",
       "zgP4Eh+GyBwGEQN8+QEDhDFUMpCkwSjrAkSDSWgY8RnUNDQMACfZTsslz7clAAAAAElFTkSuQmCC\n",
       "\" style=\"display:inline;vertical-align:middle;\" /></a>"
      ],
      "text/plain": [
       "floor(x + 1 + y)"
      ]
     },
     "metadata": {},
     "output_type": "display_data"
    }
   ],
   "source": [
    "Floor(Add(x, one, y))"
   ]
  },
  {
   "cell_type": "code",
   "execution_count": 102,
   "metadata": {},
   "outputs": [
    {
     "data": {
      "text/html": [
       "<span style=\"font-size:20px;\"><a class=\"ProveItLink\" href=\"../../ordering/__pv_it/theorems/d1323f34847310a404e8089c2c268d3c2eb89dbf0/expr.ipynb\"><img src=\"data:image/png;base64,iVBORw0KGgoAAAANSUhEUgAAADQAAAAQBAMAAACra0H4AAAAMFBMVEX///8AAAAAAAAAAAAAAAAA\n",
       "AAAAAAAAAAAAAAAAAAAAAAAAAAAAAAAAAAAAAAAAAAAv3aB7AAAAD3RSTlMAEHarMolUmd1mIs3v\n",
       "RLtmgJDEAAAACXBIWXMAAA7EAAAOxAGVKw4bAAAAyklEQVQY02NgwACce9797nnJgBXwcRnwWj7E\n",
       "IRXA8MAZp1QVN4qQXkfHBrgUH7LMbUUkXYbCQIaQskhoApDm2ohkIMuzXUBGAZMRewOQ5l6AkDrd\n",
       "3yQA9MUCzo/ME0BSSM6InAiylIWBHWw3g08HEDyAGvhwJliMRwFMySE73p1PAMS6v4ARRHMgS7F7\n",
       "AfXLXbBhYAUJMCkgSTE+0GRgyHesYbgGFtmGkCpgmMl3gUFcia0yASwi/FYAFvL/FvC9/oYcHFdf\n",
       "QAIKCgBACzQrtGfvLgAAAABJRU5ErkJggg==\n",
       "\" style=\"display:inline;vertical-align:middle;\" /></a>, <a class=\"ProveItLink\" href=\"../../ordering/__pv_it/theorems/5d76fdd975252a644e3e1cb067a357f9a9c8486a0/expr.ipynb\"><img src=\"data:image/png;base64,iVBORw0KGgoAAAANSUhEUgAAADMAAAATBAMAAADPIygvAAAAMFBMVEX///8AAAAAAAAAAAAAAAAA\n",
       "AAAAAAAAAAAAAAAAAAAAAAAAAAAAAAAAAAAAAAAAAAAv3aB7AAAAD3RSTlMAEHaZZquJVO8y3btE\n",
       "zSKD2s2pAAAACXBIWXMAAA7EAAAOxAGVKw4bAAAA4ElEQVQoz2NgwAC+3ftvdTswYAUbnjIc9RbA\n",
       "LvWMgZszAJcU84MLKELaq1ZdgEttQJY5q4jQxSoINJBR2YFBFCTAdxHJwNm1DxgY2NgbGPxBArwP\n",
       "4FIvbv0CmTCdeQFDNFgKyRkusiBagEOBoQnEmLEKCDZApLhFwF4+L8D5E0RLI+niNNgIYtgyMDWA\n",
       "aC5kf1m+BjG2MnCDfc6kgCQlzQQy0ZThPCQsr8OlHjOwOOwBMkST7CHOFt0jAAv5fQy77xeA2LlQ\n",
       "1cd2rUIJObYLjO3Y44aBS4E1AYcUu5MNDhkADGJEjCMFBEsAAAAASUVORK5CYII=\n",
       "\" style=\"display:inline;vertical-align:middle;\" /></a> <a class=\"ProveItLink\" href=\"../__pv_it/demonstrations/0ca2f31e221b994ee5c830d54b8788e3f8a6dc960/proof.ipynb\" style=\"text-decoration: none\">&nbsp;&#x22A2;&nbsp;&nbsp;</a><a class=\"ProveItLink\" href=\"../__pv_it/demonstrations/0a2c642075698b1c5d12b98bef04951b5cc125780/expr.ipynb\"><img src=\"data:image/png;base64,iVBORw0KGgoAAAANSUhEUgAAAPQAAAAVBAMAAACDGd7qAAAAMFBMVEX///8AAAAAAAAAAAAAAAAA\n",
       "AAAAAAAAAAAAAAAAAAAAAAAAAAAAAAAAAAAAAAAAAAAv3aB7AAAAD3RSTlMAEGZU7912qzKJmSLN\n",
       "RLs7fb+cAAAACXBIWXMAAA7EAAAOxAGVKw4bAAAB6ElEQVRIx6WWPUjDQBiGvzT9jW1Jp4I4BAUH\n",
       "FdtBOzhF1K52iboIQUHBxeoiOIggDk4WBF0KFqGKUDGToxQXR0Xc6+Yg7gUXm2uqvbvvmkRvCm94\n",
       "n4drw3cHKfC3LC7pA5BUfxVSgkF/5kSFi1YBApq/Sis0xepD1SNHLvlW2+wVkVraffKqHgCf6jY7\n",
       "rrLql87DpsomAvUFrxZUKHagwqpznDrnotZ5taBCs6f/rZbrf1Q/ELW0tnV04qKWNjRII2ql5Kh5\n",
       "CFuh2WdErcC6WXVRx2QdMh2OYpBVbD3GNUfNQ6gKxx4j6lHIqNsu6gOlAHvIrkNZR81D2ArNniDq\n",
       "faiRqGoYs4ax2KX+TdSgCXlEHXx21DyEqnDsY+czy7t/Zg012uylRiBMhWa/ttWJL0i5qWsQ1pH/\n",
       "+ucHRyDdFY49aaulz4gOJTf1OySLyK6TZluNQZgKzR631XKzX09kmdfnFlO4goaGqGPFthqDMBWa\n",
       "fU12fWlODTGvd+YfNTpJn95aiDpacHaNQJgKzV4WTjMkKaODdKnXNCuj04wc2AXh8cEmsbo0g6pH\n",
       "hMcHW6HYiub5qhAyIyVUnbREh6awYq9777cUefgGP7mkN5FaWLHXR2ueGQver0eyYZhceNfK55C8\n",
       "RwUgbME3J++eYTfbxhYAAAAASUVORK5CYII=\n",
       "\" style=\"display:inline;vertical-align:middle;\" /></a></span>"
      ],
      "text/plain": [
       "{x in Real, y in Real} |- floor(x + 1 + y) = (floor(x + y) + 1)"
      ]
     },
     "metadata": {},
     "output_type": "display_data"
    }
   ],
   "source": [
    "Floor(Add(x, one, y)).simplification(assumptions=[InSet(x, Real), InSet(y, Real)])"
   ]
  },
  {
   "cell_type": "markdown",
   "metadata": {},
   "source": [
    "### Round.simplification()"
   ]
  },
  {
   "cell_type": "code",
   "execution_count": 103,
   "metadata": {},
   "outputs": [
    {
     "data": {
      "text/html": [
       "<a class=\"ProveItLink\" href=\"../__pv_it/demonstrations/2ce73d428eb69d45cc7ae4b1a774d53d6d5eee960/expr.ipynb\"><img src=\"data:image/png;base64,iVBORw0KGgoAAAANSUhEUgAAAOEAAAAVBAMAAABCnpRGAAAAMFBMVEX///8AAAAAAAAAAAAAAAAA\n",
       "AAAAAAAAAAAAAAAAAAAAAAAAAAAAAAAAAAAAAAAAAAAv3aB7AAAAD3RSTlMAMom7Iplm783dEER2\n",
       "q1TfLoYRAAAACXBIWXMAAA7EAAAOxAGVKw4bAAAC60lEQVRIx5WWT2jTUBzHv0nTdU3brHgRPEjU\n",
       "i0KRXDypEBCEgaJMJhs6rOAuIi54cAj+KYgIO3UDkYqwHBREKO3Ng4Nl4G5OhsqcMlgRPW+DIaMb\n",
       "zt/Ly2Ze8rLpF74h+fF5v997vzS/DdhFWmC5bPmCRNbG7voQWK4J+YJEdmKnUsrj83Q1TO4E5cvR\n",
       "CIOVZ9Fz9z4s+mycD6urRZdXgZM0Eg0QXO9rR4KnoK5zdmSnipMuXS4G/qucsM3BaJTB+XYk+hkY\n",
       "5uzgThWPsIsTONQ2L/yUcSNRJ1xxK/rAxaLts1u8VI/Ykgp3YsXOshj14VjFr8Bi0WfJyiGth+5K\n",
       "M019uoyCm5t5UTpB7/rj1G9C0ya3/v7bnqNCFkbXAXVWzM3geEXSOGfJaqpHddDd1FZVw8EQPS+g\n",
       "YeONnWoHR2BOY8brF7JwGh0VMbd/ZklFZYOz5NOdVdrXc2Bsf7qKebzNWjhX1G8jzXJlW9zXMOTO\n",
       "CVkY/YmeHDE3g2UVs7OcJe/rYkdYBu65GQ934TaaWHIpkGX9yTS5i+jjTavVnt6p1Wg5p6EsC1Ef\n",
       "DiqGosAFcJaZfQQZC9oG3WkrwBLopBRoNEMVwbKL+550FaJzkTOGKobP2MHqMpaZvZ6GB3WV7vLL\n",
       "rBx+6RQYQqiryK3itZilD3nWpeo/dfU7NNtnmcfYeCkjY+IkUtZ13ILRVhstzBs0dlOeb/14wYEp\n",
       "ZiGaNt5hiVG2IF5RMZF3fZasrbOWz+IYMIC9pkmNzVeupjzjSRrbP2hj5aWTa4lZBjBZDr6GUNT/\n",
       "WqhfYrS7t7d/+1PL+W05OE39r5d+LBTpWZ9r6QsHzk6xzVV965e9nzcjWeqlK9SEbDNyGlpQ+LIm\n",
       "/q4xvrm5xtktPlmjgWUz5zDbfTQ6mjyfukN8suLTN5jOakW/H5ry25N8MHnqx/8qyJSyuWPKegV6\n",
       "LZolW5Dw34Ql42PSLe6YjBuXpPl16783H9GZwHK9ky9IZMl/AF7J8rOZlL5IAAAAAElFTkSuQmCC\n",
       "\" style=\"display:inline;vertical-align:middle;\" /></a>"
      ],
      "text/plain": [
       "round((x + y) + (1 + 2))"
      ]
     },
     "metadata": {},
     "output_type": "display_data"
    }
   ],
   "source": [
    "round_add_add"
   ]
  },
  {
   "cell_type": "code",
   "execution_count": 104,
   "metadata": {},
   "outputs": [
    {
     "data": {
      "text/html": [
       "<span style=\"font-size:20px;\"><a class=\"ProveItLink\" href=\"../../ordering/__pv_it/theorems/d1323f34847310a404e8089c2c268d3c2eb89dbf0/expr.ipynb\"><img src=\"data:image/png;base64,iVBORw0KGgoAAAANSUhEUgAAADQAAAAQBAMAAACra0H4AAAAMFBMVEX///8AAAAAAAAAAAAAAAAA\n",
       "AAAAAAAAAAAAAAAAAAAAAAAAAAAAAAAAAAAAAAAAAAAv3aB7AAAAD3RSTlMAEHarMolUmd1mIs3v\n",
       "RLtmgJDEAAAACXBIWXMAAA7EAAAOxAGVKw4bAAAAyklEQVQY02NgwACce9797nnJgBXwcRnwWj7E\n",
       "IRXA8MAZp1QVN4qQXkfHBrgUH7LMbUUkXYbCQIaQskhoApDm2ohkIMuzXUBGAZMRewOQ5l6AkDrd\n",
       "3yQA9MUCzo/ME0BSSM6InAiylIWBHWw3g08HEDyAGvhwJliMRwFMySE73p1PAMS6v4ARRHMgS7F7\n",
       "AfXLXbBhYAUJMCkgSTE+0GRgyHesYbgGFtmGkCpgmMl3gUFcia0yASwi/FYAFvL/FvC9/oYcHFdf\n",
       "QAIKCgBACzQrtGfvLgAAAABJRU5ErkJggg==\n",
       "\" style=\"display:inline;vertical-align:middle;\" /></a>, <a class=\"ProveItLink\" href=\"../../ordering/__pv_it/theorems/5d76fdd975252a644e3e1cb067a357f9a9c8486a0/expr.ipynb\"><img src=\"data:image/png;base64,iVBORw0KGgoAAAANSUhEUgAAADMAAAATBAMAAADPIygvAAAAMFBMVEX///8AAAAAAAAAAAAAAAAA\n",
       "AAAAAAAAAAAAAAAAAAAAAAAAAAAAAAAAAAAAAAAAAAAv3aB7AAAAD3RSTlMAEHaZZquJVO8y3btE\n",
       "zSKD2s2pAAAACXBIWXMAAA7EAAAOxAGVKw4bAAAA4ElEQVQoz2NgwAC+3ftvdTswYAUbnjIc9RbA\n",
       "LvWMgZszAJcU84MLKELaq1ZdgEttQJY5q4jQxSoINJBR2YFBFCTAdxHJwNm1DxgY2NgbGPxBArwP\n",
       "4FIvbv0CmTCdeQFDNFgKyRkusiBagEOBoQnEmLEKCDZApLhFwF4+L8D5E0RLI+niNNgIYtgyMDWA\n",
       "aC5kf1m+BjG2MnCDfc6kgCQlzQQy0ZThPCQsr8OlHjOwOOwBMkST7CHOFt0jAAv5fQy77xeA2LlQ\n",
       "1cd2rUIJObYLjO3Y44aBS4E1AYcUu5MNDhkADGJEjCMFBEsAAAAASUVORK5CYII=\n",
       "\" style=\"display:inline;vertical-align:middle;\" /></a> <a class=\"ProveItLink\" href=\"../__pv_it/demonstrations/67f4640d5404a683fcd2908bd0d877dbfa8413cd0/proof.ipynb\" style=\"text-decoration: none\">&nbsp;&#x22A2;&nbsp;&nbsp;</a><a class=\"ProveItLink\" href=\"../__pv_it/demonstrations/b1ea92a2d89e3332348a766ad2e11ac4dc6fb3c80/expr.ipynb\"><img src=\"data:image/png;base64,iVBORw0KGgoAAAANSUhEUgAAAasAAAAVBAMAAAAKiNzvAAAAMFBMVEX///8AAAAAAAAAAAAAAAAA\n",
       "AAAAAAAAAAAAAAAAAAAAAAAAAAAAAAAAAAAAAAAAAAAv3aB7AAAAD3RSTlMAMom7Iplm783dEER2\n",
       "q1TfLoYRAAAACXBIWXMAAA7EAAAOxAGVKw4bAAAEY0lEQVRYw41XXYgbVRT+kkw2m0kyjfsiiuhY\n",
       "QS1sNUL7ZMWAVlhQWlZ22aLFEW0pom7wQdFazYsVfYqFIvGPgVoQYdk8WYrCTsH6IK4WhVrKCkGU\n",
       "tiB0C2FZonQ9986dzL2Te5P54CQzZ8453zl3ztw5A4yBJUSPeirVIJD2Yj1NCqnp0wQk/CxEj++G\n",
       "NOWuwbQUaO3NDkoKaenNWoHM+/vp13FDMaDsJTV/MtdPEsq9Cw8BP2jtucPYFNLSW9uf7uhIJGxj\n",
       "y/iVEBM+TJzbTWBpoZ8gq+HBDiZ9jT13GJ9CWvrTcG5qSGSssDTmhcT4Rjk7FLWYWKE8+y/3VW2l\n",
       "jkIDE/sl+wHyXpoUpF72RtH/0rU3NSQydrCfhpAY/yhnBT/8dwJxDrksoS30UekBb0n2cYBUKcSI\n",
       "iPT0ZzrY1JDIeI+ZN0MxljXpqXGv6sqqtFC5ARyX7Ae4ihQpGMtK0tPRBtdm7rFm6dr0asc+76Hi\n",
       "l1a/nN5Dj8Ov526yFnFDsX+6PPWAUhazXgKyF9S4s7qyCMV1YCdi+wGYw1Rt770jU5DoRUgDPXDW\n",
       "49psbjbbwEzH6mWdBhbpfA3LdZyp5/piNZjksRocUMoKrTHRVOMeN5R1Fx0dQWR/oM3weeTg7nbv\n",
       "G5mCRC9CGuhxxx9Vrn1iskXr8Rlw4s58C5fwbbGGfVX7deSZR7EbyotY9C8qZTHr3yheQ437haEs\n",
       "VsIVxPYDkIPlfUA3bVQKEr0IaaAH3wlJe/s2thrUIsf8QoC34S93cN0nRZG9LgqdUKpYgFjmN8Jl\n",
       "Dq2RWWd90m5//Ga7zRriaFyWpEW+xu4YhL0Mcsj4G2NSiOjjkAZ6wrs+17JNtFCD9R8dWfRgXwct\n",
       "GCkodlwWWAx1y1jxM2RdSizXUf3deoVvU4jt5bJQ6o9JQaKPQurpbwEe7XIt69nlANkeHZXXWUBs\n",
       "2KRYhNSEKPXwtVrWAsrk7bTSNCENCo8D1xDZS88Wc6CGGp2CRB+F1NNv+awspj3B3uYeCi4eQa72\n",
       "El6D088ud3HJoZExF3CxH6404KplkTXd9omaGnePtqwp4EfgBcT2AzAH1myjUpDpo5B6+mO8CUlr\n",
       "/cuW6wJ2Awdxq+tSE5Sbz+cC52Re7Mckzo3TjVJXLesgVrxw+5Xj7uTbVE8tyzo5N9cK9/J8csBj\n",
       "Dvs6o1OQ6SMiPf1h/t4ibYnfxu3nKfLS9F9rVTq3L3bttbufOsee8BYX+9ng71cTz9bS9HO0lsWO\n",
       "Gvc29vb9fVPdtopbW1u0qX2K2H4A5nB2TAoyfUSkpy/N0ag7TDKEj4Topoz7SWYSbMWqcSSwWpL9\n",
       "AKqDKQVdSB19iJmxn1uHhsZTMepmm/Y70hwazZp8ntXPpXyonU8SqA6mFIZCGuhDzI8tK1cPZQjF\n",
       "oOLyT44EdhlDPQad/QgHKYXU9IBJq34O1UIZgvPyM1rKU8ZQu/QpnkqTQmp64zok8KQQPb4fXqrA\n",
       "9CVb19qbHZQU0tIL7f/W4rryrQhh/QAAAABJRU5ErkJggg==\n",
       "\" style=\"display:inline;vertical-align:middle;\" /></a></span>"
      ],
      "text/plain": [
       "{x in Real, y in Real} |- round((x + y) + (1 + 2)) = (round(x + y) + 3)"
      ]
     },
     "metadata": {},
     "output_type": "display_data"
    }
   ],
   "source": [
    "round_add_add.simplification(assumptions=[InSet(x, Real), InSet(y, Real)])"
   ]
  },
  {
   "cell_type": "code",
   "execution_count": 105,
   "metadata": {},
   "outputs": [
    {
     "data": {
      "text/html": [
       "<strong id=\"round_01\">round_01:</strong> <a class=\"ProveItLink\" href=\"../__pv_it/demonstrations/1ffbf581a5ed466e01edc5fa19669c87abf299700/expr.ipynb\"><img src=\"data:image/png;base64,iVBORw0KGgoAAAANSUhEUgAAAL8AAAAVBAMAAADlQyK9AAAAMFBMVEX///8AAAAAAAAAAAAAAAAA\n",
       "AAAAAAAAAAAAAAAAAAAAAAAAAAAAAAAAAAAAAAAAAAAv3aB7AAAAD3RSTlMAMom7Iplm783dEER2\n",
       "q1TfLoYRAAAACXBIWXMAAA7EAAAOxAGVKw4bAAACgklEQVQ4y6VVTWgTQRh92exukt003YMH20tX\n",
       "vYhUGtBji4uC4KEkRBItIu7Fq4Sq9KDQgOBBEIOegtquFClICzkJQrHrT9FDtSEoYqw0iPgDhbZQ\n",
       "iqSl9ZumlEwSM8EMzMC+fW/efN9+8y0gGBZaGE2Ig8VWDKYavdx7la3fmt2rw+Gf5fgNA0G7kWST\n",
       "ppZqbnvt450qgxOQ1oFbDTR6iRaFP8LTGtYuMufwyAdgCLjYwEBK0+LjscUa1mKNwQ4y7GDBgs/5\n",
       "t4E/Ssuv/zb4DCwY8NvwHJBjNqTZL5hIAAVMFY6/coH+7i5WPzGaE+8e7S9yYmJqOYEBjVFKQw6S\n",
       "NyYl5fuIWOZPqMsw+1xtFfoVHGOKmzSjwXklzYnLTJGBZwNQUzjpTytmwEVgX3EAbSk9ew/yCsZt\n",
       "nGWkEeJYaqnNrhR7GDMsNAhQkKEkOttJfIE+ZwHX4XM1bR2hEgPuMtI12g5KuVYHMpmhTOYh1eQ2\n",
       "sxLZNahETrOzUKDT9OYyEHGpLiMGQssUBwFkVDZAebPK0xGzyxBFoLKvpCfJlI5E2eqxKNFzYLu3\n",
       "2082dpI8wpZpS3M4MYX0RlRF1ANkC6F0ORVrwCC8ORxRHZ+JJefQJhl9pxe9wFj2EyReTMw+kYHH\n",
       "RNCBGobMUnEe3iiUnGdQYll6qxq9+B1l9+AwsNR5Bs95sZLT16oNeiweORWPU24UEzqrQKn7HCUq\n",
       "/77/BZ4Bk5cw+XLPPMtyB/B4NpQo8mItP7NaZfB1+DZXaRjd2vpDlZQVNLGAUf/eSinx3d6OQ9Ql\n",
       "1Wi91nYQ40Vx+2MjIezDR+uBD5BvrovLYSFlrB74YybbnIFX/M+U3VZ+ma+BvzkY0m0BQDcBAAAA\n",
       "AElFTkSuQmCC\n",
       "\" style=\"display:inline;vertical-align:middle;\" /></a><br>"
      ],
      "text/plain": [
       "<IPython.core.display.HTML object>"
      ]
     },
     "metadata": {},
     "output_type": "display_data"
    }
   ],
   "source": [
    "round_01 = Round(Add(x, y, one, two))"
   ]
  },
  {
   "cell_type": "code",
   "execution_count": 106,
   "metadata": {},
   "outputs": [
    {
     "data": {
      "text/html": [
       "<strong id=\"round_01_alt\">round_01_alt:</strong> <a class=\"ProveItLink\" href=\"../__pv_it/demonstrations/f87d87306b2c121269a97724d6769d4aaa308fa10/expr.ipynb\"><img src=\"data:image/png;base64,iVBORw0KGgoAAAANSUhEUgAAAL8AAAAVBAMAAADlQyK9AAAAMFBMVEX///8AAAAAAAAAAAAAAAAA\n",
       "AAAAAAAAAAAAAAAAAAAAAAAAAAAAAAAAAAAAAAAAAAAv3aB7AAAAD3RSTlMAMom7Iplm783dEER2\n",
       "q1TfLoYRAAAACXBIWXMAAA7EAAAOxAGVKw4bAAACjUlEQVQ4y6VVTWgTQRh9u9ndJLvJNgcP2ktX\n",
       "vYhUDOixxUVB6KEkRBJbRNyLVwlVKaJgQPDgKehB1p82UqQgLeQkCMWuP0UPVUMQi7HQUMQfENpC\n",
       "KCUtrd+Y1LDpuhvMwMxh5r1587355hvAo+loo7VADpXbEZhyW9x9mY2LjmvcPc+9heSNCEKGG2ST\n",
       "upxxWpkcqHoKnAC/DtxyQShsE9F+hKfbxm0LKDuPWMd8BIaB8y4CfJYGv33uV7OAau3g1THXc1jQ\n",
       "4c/9WyAQp+HHfwt8BhYiCBjg9gsJA/zsF0ykgBKmSsdfEau/u4vlT4L6xLtH+8oeAsSVC3YMMEo2\n",
       "FMD7EnxauI+Yrn2HtAyt15IrUC7hGIvuJvV4aF7MegjUuHYBbgOQMjgZyIpa0EJwb3kQ4YySvwNh\n",
       "BeMGBhhohDC6VA0b7gIc40abBIIUkppGZweRz9F1lnANfkuW16FW2cRtBrpKZIi1XB00zWHTfNgQ\n",
       "EE3z7hXTpH3kP1w7BqeYMoU1TVZcBGIW5WUsAnWZ4qAJEqoJoEZ1t4i4XRE7RmJ3oqRJlA5Abh3W\n",
       "yegPYLt3GE826paOsGFal3MeAhTkm6ZDLELQoWZrVqwCQ/AVcETK+TUs5Q5uktBXWugBxvJz4L0i\n",
       "IG6vHcNpCOUgRSEwK87CF4dY4IZ45tJbKdKDn3H2Dg4BS52n8bxJgK80R1BQVu2YvmSSvBE1KCwD\n",
       "+e4zZFTxff8LPKNScwGTL3fNM0/3AI9n1VTZTg7PrX2yC8jFmYodM7q1tUaZlPcoWcGI40v+2xov\n",
       "mc84Yfq8aqIUdyx2jYpYfyAHMF52wqQ8q+7R1n6WByg6fgpRT+ZYawLfZhzN9nn/mYLVzpf5GvgN\n",
       "dB/Nrr/y/64AAAAASUVORK5CYII=\n",
       "\" style=\"display:inline;vertical-align:middle;\" /></a><br>"
      ],
      "text/plain": [
       "<IPython.core.display.HTML object>"
      ]
     },
     "metadata": {},
     "output_type": "display_data"
    }
   ],
   "source": [
    "round_01_alt = Round(Add(x, one, y, two))"
   ]
  },
  {
   "cell_type": "code",
   "execution_count": 107,
   "metadata": {},
   "outputs": [
    {
     "name": "stdout",
     "output_type": "stream",
     "text": [
      "Expected exception:  Proof step failed assuming {x in Complex, y in Complex}:\n",
      "Attempting to instantiate |- forall_{x in Real} [forall_{n in Integer} (round(x + n) = (round(x) + n))] with {x: x + y, n: 3}:\n",
      "Unsatisfied condition: (x + y) in Real. For debugging purposes, this is accessible via Instantiation.unsatisfied_condition with applicable assumptions in Instantiation.condition_assumptions.\n"
     ]
    }
   ],
   "source": [
    "try:\n",
    "    # if we don't know that the variables x and y are real, \n",
    "    # we cannot perform a simplification\n",
    "    round_01.simplification(assumptions=[InSet(x, Complex), InSet(y, Complex)])\n",
    "    assert False\n",
    "except Exception as e:\n",
    "    print(\"Expected exception: \", e)"
   ]
  },
  {
   "cell_type": "code",
   "execution_count": 108,
   "metadata": {},
   "outputs": [
    {
     "data": {
      "text/html": [
       "<span style=\"font-size:20px;\"><a class=\"ProveItLink\" href=\"../../ordering/__pv_it/theorems/d1323f34847310a404e8089c2c268d3c2eb89dbf0/expr.ipynb\"><img src=\"data:image/png;base64,iVBORw0KGgoAAAANSUhEUgAAADQAAAAQBAMAAACra0H4AAAAMFBMVEX///8AAAAAAAAAAAAAAAAA\n",
       "AAAAAAAAAAAAAAAAAAAAAAAAAAAAAAAAAAAAAAAAAAAv3aB7AAAAD3RSTlMAEHarMolUmd1mIs3v\n",
       "RLtmgJDEAAAACXBIWXMAAA7EAAAOxAGVKw4bAAAAyklEQVQY02NgwACce9797nnJgBXwcRnwWj7E\n",
       "IRXA8MAZp1QVN4qQXkfHBrgUH7LMbUUkXYbCQIaQskhoApDm2ohkIMuzXUBGAZMRewOQ5l6AkDrd\n",
       "3yQA9MUCzo/ME0BSSM6InAiylIWBHWw3g08HEDyAGvhwJliMRwFMySE73p1PAMS6v4ARRHMgS7F7\n",
       "AfXLXbBhYAUJMCkgSTE+0GRgyHesYbgGFtmGkCpgmMl3gUFcia0yASwi/FYAFvL/FvC9/oYcHFdf\n",
       "QAIKCgBACzQrtGfvLgAAAABJRU5ErkJggg==\n",
       "\" style=\"display:inline;vertical-align:middle;\" /></a>, <a class=\"ProveItLink\" href=\"../../ordering/__pv_it/theorems/5d76fdd975252a644e3e1cb067a357f9a9c8486a0/expr.ipynb\"><img src=\"data:image/png;base64,iVBORw0KGgoAAAANSUhEUgAAADMAAAATBAMAAADPIygvAAAAMFBMVEX///8AAAAAAAAAAAAAAAAA\n",
       "AAAAAAAAAAAAAAAAAAAAAAAAAAAAAAAAAAAAAAAAAAAv3aB7AAAAD3RSTlMAEHaZZquJVO8y3btE\n",
       "zSKD2s2pAAAACXBIWXMAAA7EAAAOxAGVKw4bAAAA4ElEQVQoz2NgwAC+3ftvdTswYAUbnjIc9RbA\n",
       "LvWMgZszAJcU84MLKELaq1ZdgEttQJY5q4jQxSoINJBR2YFBFCTAdxHJwNm1DxgY2NgbGPxBArwP\n",
       "4FIvbv0CmTCdeQFDNFgKyRkusiBagEOBoQnEmLEKCDZApLhFwF4+L8D5E0RLI+niNNgIYtgyMDWA\n",
       "aC5kf1m+BjG2MnCDfc6kgCQlzQQy0ZThPCQsr8OlHjOwOOwBMkST7CHOFt0jAAv5fQy77xeA2LlQ\n",
       "1cd2rUIJObYLjO3Y44aBS4E1AYcUu5MNDhkADGJEjCMFBEsAAAAASUVORK5CYII=\n",
       "\" style=\"display:inline;vertical-align:middle;\" /></a> <a class=\"ProveItLink\" href=\"../__pv_it/demonstrations/a094dd3aa524597ffabad3c299942a0bea7f5f3b0/proof.ipynb\" style=\"text-decoration: none\">&nbsp;&#x22A2;&nbsp;&nbsp;</a><a class=\"ProveItLink\" href=\"../__pv_it/demonstrations/545593044b81a2ac5a1ef6d3a864357fc7487bb40/expr.ipynb\"><img src=\"data:image/png;base64,iVBORw0KGgoAAAANSUhEUgAAAYsAAAAVBAMAAABF1d8/AAAAMFBMVEX///8AAAAAAAAAAAAAAAAA\n",
       "AAAAAAAAAAAAAAAAAAAAAAAAAAAAAAAAAAAAAAAAAAAv3aB7AAAAD3RSTlMAMom7Iplm783dEER2\n",
       "q1TfLoYRAAAACXBIWXMAAA7EAAAOxAGVKw4bAAADvklEQVRYw6WXW2gTQRSG/yabptkk2+iLKKJR\n",
       "XxSqRtAnFQNeoKAolZaKFiNeEPESfFC81OZFBUGMhSJBLQsqiFCaJ0UUuoL1QawtiqVIC0EUFQRb\n",
       "KEWqtJ6Z3Rhmdut2kwMt2X/P7Hf+mdmZWcAlFFQQjo2T5SOTKOuBFG8rsRE27FqkUD7yuQfViqqr\n",
       "u+i/Fp9lxfN1SdjavAZ4ZU/8VAEykpIHbunuvF0VopZ128PZmVA/3JBsKAmszqNGt2VmKkFek64f\n",
       "QJuyq0L0sBKaBOmxfdoUe6JfF3OiSQTTqN4lNwikvCHDQv5hSe0vqL9KqmOsYP/SgvTDlqQZsg0r\n",
       "JziJ6DhwXm4Q9IjUhNcrqIvqkzx+lVTHuMzSM+XaiGYRHQOuyA2+wRtStFGTklVtgqtVy5QGulfX\n",
       "l1d7U4jq4b77dRtoar97McWmAL1u6puPc1cJJbLMLhcbFKFRYKVcaQO8IS2AhfQNyDaeprjq8zf4\n",
       "0qjPK+M+LY1TdD2M7iSeJP2TlvsA+ow9QolmpquNxXTvKH8fcjx4CTQ8npAWwEJWZyTswpEYV7fV\n",
       "ZMn/HaB9USCLITwLJbAzpp5BgLUI0dJxCKf0QaFElvne3cZd+vsqj0YnvCEtgIXU0rZJNcXVBbXM\n",
       "PQ1/qx40cBF6dx4/dRJCbPkO5oEYmnmDPbnc2VyO1WZm8l6+dc7qZdNGKYfuJtiIyDYuwAOyBLCQ\n",
       "VaMSFmjTucoWuWACyh/6pdBL+RPUQSTQs81ngpcs9HSPXjXmOhon+FLiYMMTsggwkWFpNOYAmwpc\n",
       "ZXOw24BvnH5FRtkDMaGSwCc/G2GEx/FILLEZkbSbDdqMtwDf5XejE96QRYCJ1LKiOq0zG0xtZ7tn\n",
       "CsE4NsKfOIbT0CZ93QUMaXTk8htQ10fTiIslUuaAm425wGvgoDwatCR5QhYBJrI6IaqtfFKRqvxm\n",
       "3TWAdUAL5sXjNMiRzAG/oXUEwJcybexBOlwQS2xBj7yAr06KNpSOxsYsX1/FoBXYE7IIMJEBydwR\n",
       "vm+QGubDtLSXZmRX3efhGF2rgwV1eMmOF+ywRlf7jC8npZ7uqtufFJ830nY9JeSEpqenaeG5bTtC\n",
       "whuyCDCRobyohhvpaPhPnTluzrCLL3fcZG07vZKVb4di3pAlAEPWO2LrXY+uh52Ohr6Mesnx5GY7\n",
       "PtoPgvbD4v+RFsBCNjlim1xt+J0+rUJGdJafIZvt0toKkErC8Wsx4f4h4ZSiHd87y48ph5rvVYB0\n",
       "dDiDKsb2Sj5iIw4AxSgf+XIm9S/65JeCRWP1zQAAAABJRU5ErkJggg==\n",
       "\" style=\"display:inline;vertical-align:middle;\" /></a></span>"
      ],
      "text/plain": [
       "{x in Real, y in Real} |- round(x + y + 1 + 2) = (round(x + y) + 3)"
      ]
     },
     "metadata": {},
     "output_type": "display_data"
    }
   ],
   "source": [
    "round_01.simplification(\n",
    "    assumptions=[InSet(x, Real), InSet(y, Real)])"
   ]
  },
  {
   "cell_type": "code",
   "execution_count": 109,
   "metadata": {},
   "outputs": [
    {
     "data": {
      "text/html": [
       "<span style=\"font-size:20px;\"><a class=\"ProveItLink\" href=\"../../ordering/__pv_it/theorems/d1323f34847310a404e8089c2c268d3c2eb89dbf0/expr.ipynb\"><img src=\"data:image/png;base64,iVBORw0KGgoAAAANSUhEUgAAADQAAAAQBAMAAACra0H4AAAAMFBMVEX///8AAAAAAAAAAAAAAAAA\n",
       "AAAAAAAAAAAAAAAAAAAAAAAAAAAAAAAAAAAAAAAAAAAv3aB7AAAAD3RSTlMAEHarMolUmd1mIs3v\n",
       "RLtmgJDEAAAACXBIWXMAAA7EAAAOxAGVKw4bAAAAyklEQVQY02NgwACce9797nnJgBXwcRnwWj7E\n",
       "IRXA8MAZp1QVN4qQXkfHBrgUH7LMbUUkXYbCQIaQskhoApDm2ohkIMuzXUBGAZMRewOQ5l6AkDrd\n",
       "3yQA9MUCzo/ME0BSSM6InAiylIWBHWw3g08HEDyAGvhwJliMRwFMySE73p1PAMS6v4ARRHMgS7F7\n",
       "AfXLXbBhYAUJMCkgSTE+0GRgyHesYbgGFtmGkCpgmMl3gUFcia0yASwi/FYAFvL/FvC9/oYcHFdf\n",
       "QAIKCgBACzQrtGfvLgAAAABJRU5ErkJggg==\n",
       "\" style=\"display:inline;vertical-align:middle;\" /></a>, <a class=\"ProveItLink\" href=\"../../ordering/__pv_it/theorems/5d76fdd975252a644e3e1cb067a357f9a9c8486a0/expr.ipynb\"><img src=\"data:image/png;base64,iVBORw0KGgoAAAANSUhEUgAAADMAAAATBAMAAADPIygvAAAAMFBMVEX///8AAAAAAAAAAAAAAAAA\n",
       "AAAAAAAAAAAAAAAAAAAAAAAAAAAAAAAAAAAAAAAAAAAv3aB7AAAAD3RSTlMAEHaZZquJVO8y3btE\n",
       "zSKD2s2pAAAACXBIWXMAAA7EAAAOxAGVKw4bAAAA4ElEQVQoz2NgwAC+3ftvdTswYAUbnjIc9RbA\n",
       "LvWMgZszAJcU84MLKELaq1ZdgEttQJY5q4jQxSoINJBR2YFBFCTAdxHJwNm1DxgY2NgbGPxBArwP\n",
       "4FIvbv0CmTCdeQFDNFgKyRkusiBagEOBoQnEmLEKCDZApLhFwF4+L8D5E0RLI+niNNgIYtgyMDWA\n",
       "aC5kf1m+BjG2MnCDfc6kgCQlzQQy0ZThPCQsr8OlHjOwOOwBMkST7CHOFt0jAAv5fQy77xeA2LlQ\n",
       "1cd2rUIJObYLjO3Y44aBS4E1AYcUu5MNDhkADGJEjCMFBEsAAAAASUVORK5CYII=\n",
       "\" style=\"display:inline;vertical-align:middle;\" /></a> <a class=\"ProveItLink\" href=\"../__pv_it/demonstrations/e69aa4a60561fc58ddc1dea2ba4b81cd855efc400/proof.ipynb\" style=\"text-decoration: none\">&nbsp;&#x22A2;&nbsp;&nbsp;</a><a class=\"ProveItLink\" href=\"../__pv_it/demonstrations/81bc54f59d4a94ddd790e6c2998a316e76f7ebbd0/expr.ipynb\"><img src=\"data:image/png;base64,iVBORw0KGgoAAAANSUhEUgAAAYsAAAAVBAMAAABF1d8/AAAAMFBMVEX///8AAAAAAAAAAAAAAAAA\n",
       "AAAAAAAAAAAAAAAAAAAAAAAAAAAAAAAAAAAAAAAAAAAv3aB7AAAAD3RSTlMAMom7Iplm783dEER2\n",
       "q1TfLoYRAAAACXBIWXMAAA7EAAAOxAGVKw4bAAADvElEQVRYw6VXW2gTQRQ9TTZNs0nW6I8oolF/\n",
       "FKpG0C8VAz6goCiVloqKER+I+Ah+KD6q+VFBEGOhSPDBggoiSPOliEJXUD/E2qIoIhWCKCoItlCk\n",
       "VGm9M7uxzuzU7W4vJOyembvnnrkzd+8CHqZhAqZ0zganzCLQA8leTkRG3HJjiUpwykc+UMdqzm2k\n",
       "fyOtHJxmekpY07IYeObGPwak5EuQkxM3Z1PZjQo2iS3bbdWI/uaipwwtg0Vl1Lnm6YVAlI6dl+5v\n",
       "wRh2o4J1shCaBehe9aLblBF5TjKLaB61G+XhSM4fZVyYv1tCuyv64CiqtPnsLy9A310yvrvcHCQ6\n",
       "hOQAcFwejvqkNITjFTVF9H4Zg6Oo0s6w6YWgMpJFJPuBs/LwV/ijFGXU5WTU+MnRmrlaI43Vd5X1\n",
       "pzkkzXjXzfrltLVfPR5mW4COm/7i/ZSFHjKY711ZWKwPWCBH2gh/lE7ADkGoR5bxIMfRULgxlEdD\n",
       "WRsIGXkcovtedGRxPxsectRH0GVt9pBh+0oyZhHXXn4eStx4CJQeX5ROwA5BbUGSMeNDiqNr64qk\n",
       "/yrQNjNSxDs8jGWwIaUfQYR5xKh07MIh862HDOb7WpZxjX5f5Gxchz9KJ2CHwMi7NtUwR6dPYuop\n",
       "/a1m1MJJmB1l/DAJiLHyHS0DKbRwh82l0tFS6do/MkYR21ecE8mwjMgyTsAHJaXx8jGeRoegpk9A\n",
       "mZ02OcqKXDQD7TddaXQof4AWiAB6tv1M8AA9jninWdMvzTnAS4lChi/K6rrbBHEpG5OBlRWOsj3Y\n",
       "YSE0QFeJPvZA/NQJ4FudZRjxAdzxktGCRF5E6GW8Gvgmn43r8EdZDdgmMIoiOmIyGQxtY2/PHKJp\n",
       "rEA4sw+HYQyFOip4Z1DLFbagL0vmkfaSQb49IjIFeA7slLNBJckXZTVgm6A2I6KtfFMRqv1iy9WD\n",
       "pcA2TE2nKcmJwo6wZbRHwEuZ0X8rH69IMhZlJRnb0JkTEK29qanI66toVIF9UVYDtgkikrg9/L1B\n",
       "aJynac5T2pF36z/1puhef1vRe2evf8yaNbrban0+KAX94fQFMWjy3Z4VkNjIyAgVniuuphL+KKsB\n",
       "2wSxsojGm6g1/IuObZfUb3EFMk81RyvKDrGUP8rR0soIGpTv9gbPdnu3ujWUkVBBP6Wa424E3c3i\n",
       "/ymdJtAhaFY2jM2eMsLj+bSiNbaSyq+EVW5oSSBKm0DLjPFN4GV6ZlwyjP1blLgi5huBKG0C9aKO\n",
       "Z6nXTeQjNqEg0KzglE/GQv8ALV2Y6k6GDGcAAAAASUVORK5CYII=\n",
       "\" style=\"display:inline;vertical-align:middle;\" /></a></span>"
      ],
      "text/plain": [
       "{x in Real, y in Real} |- round(x + 1 + y + 2) = (round(x + y) + 3)"
      ]
     },
     "metadata": {},
     "output_type": "display_data"
    }
   ],
   "source": [
    "round_01_alt.simplification(\n",
    "    assumptions=[InSet(x, Real), InSet(y, Real)])"
   ]
  },
  {
   "cell_type": "code",
   "execution_count": 110,
   "metadata": {},
   "outputs": [
    {
     "data": {
      "text/html": [
       "<span style=\"font-size:20px;\"><a class=\"ProveItLink\" href=\"../__pv_it/demonstrations/e2305f6c44c611450f9ebc35008aa6f195de02940/expr.ipynb\"><img src=\"data:image/png;base64,iVBORw0KGgoAAAANSUhEUgAAAFsAAAAVBAMAAADbSo+2AAAAMFBMVEX///8AAAAAAAAAAAAAAAAA\n",
       "AAAAAAAAAAAAAAAAAAAAAAAAAAAAAAAAAAAAAAAAAAAv3aB7AAAAD3RSTlMAInZUiRDNmWbv3US7\n",
       "qzJazP2FAAAACXBIWXMAAA7EAAAOxAGVKw4bAAABp0lEQVQoz2NgYBBgwASMDLgAkwEWQW4FNAGz\n",
       "+dNOrZkBZJhgNUQDja9zj4GNIYGBgTUBq3K2AFR+OdAEFqA72BuwKucoQOVfZGA9EAOkOXF4aSrU\n",
       "Z6dWLQPRAQzsD+6B/IBDeQbEy0lwR73lA1lYAsRBunEu8PAJqmBgvcDA4AvmiCG8cJQnAGpKAdMl\n",
       "9gUwYQdLBo4PDAxtYE4iXDWzQxOIWgz0lgDHV16Yj/kMqhh4DzAwWIJ5iGBjg7BnA1UwsEOE40EB\n",
       "yzCJgRMYSe/BemetWrVqDVhOmWUDUA6knAEsDwRcIM9wf2V4/4CBYSdIgPUAzHDWAzIMDLwCIMcw\n",
       "MOwXYIX7CWiTJpCyAnPgPuJ9cBFoOwPDIQaGmA03GVjgjuS5wHAWSPWAOUow0efcQJtvgQPM/mkl\n",
       "w2a4cvYL3D+gAQz0ICx8jwJThYwNA8MrBoZwJeYKRLJkvaL+EUithnDubIVE15zMMyd/HgF67wFG\n",
       "hLIAA4gR6mpuH0giwJWWGNwYInGnPAaGg2j8RQxXgKQMrtwUg8a3UN+AxRBEtlTAliMFsCsGAPxt\n",
       "V0aujDAHAAAAAElFTkSuQmCC\n",
       "\" style=\"display:inline;vertical-align:middle;\" /></a> <a class=\"ProveItLink\" href=\"../__pv_it/demonstrations/c43d98e6dee91bcfb4a4b55b48fef59e87a237fa0/proof.ipynb\" style=\"text-decoration: none\">&nbsp;&#x22A2;&nbsp;&nbsp;</a><a class=\"ProveItLink\" href=\"../__pv_it/demonstrations/7f9c01c3462f26e6f174bd5eaa4239dcc25f576e0/expr.ipynb\"><img src=\"data:image/png;base64,iVBORw0KGgoAAAANSUhEUgAAAMAAAAAVBAMAAADiAfyoAAAAMFBMVEX///8AAAAAAAAAAAAAAAAA\n",
       "AAAAAAAAAAAAAAAAAAAAAAAAAAAAAAAAAAAAAAAAAAAv3aB7AAAAD3RSTlMAMom7Iplm783dEER2\n",
       "q1TfLoYRAAAACXBIWXMAAA7EAAAOxAGVKw4bAAACRklEQVQ4y6WVP2gTURzHv7k/SfNySbOJHexZ\n",
       "F4UIGXSrcCAIDmLIUOkgRFzEpcXBwT/QRV1DoYO0yEkVl0qydRA0HaKLgZBBO2QIIlanVAhFoojf\n",
       "O9NL8nLXnuYL9+d9f5+733v3fu8dcIgsH08bCxyW0fIxE5UxQE+RRzmeP/nG3o5aocG+JtknseQb\n",
       "mrBlJzQ4oDcM6gXfUDQnO6HBAZ3iEQuI3ZGN0OCAHvD4GhB7KBvBYOSElufwMrWyqBaQtBO1Z5lZ\n",
       "Flhj6zfjeR4btaczXolszEHUgdPyi4JBRc0ri7hY1jpKahELbDdRsrBpqd1eT3NGUy/uP2fuILoL\n",
       "3HC/+2NXdRwIXpgo6ibWgOVjjG7jVTyLy2lxG7pTF084T1a0m9yfwkhrHskssCOPIBicmqSnM9d9\n",
       "O1bBPdilMto2jbhJ7i7Rv6mAEi+CBDFMywkGQPEDQ6BTjbEstF+8074DbXAcNJjIfQ4uSMWdkkt0\n",
       "MZ0GNn0SeOAKhsB5p3MVKB3eGbvO27EnaCz0Rs4uWMJbL+zkO16+yXNwALjsLNoCYibOQc3exC2k\n",
       "ukqphe0Uty/W03r5IxSvp2qdGHBdHkEwqP100tVxFriKI6bJr2QsXVMrqRUdbjm2p67gdX/F1hN7\n",
       "vaocUjCYcAtrpsov/jLzuZlmW3xoiebxS1v0jwLP36fm+julaFQ7vKzKCUKDkuLpEUthqWjF/wYP\n",
       "26xO4kXLb2sLDco6I7XX0OD5/BigpHWp/cWZrJG3/Qso/1X9fnqGFR78A3+ixUOl3IhKAAAAAElF\n",
       "TkSuQmCC\n",
       "\" style=\"display:inline;vertical-align:middle;\" /></a></span>"
      ],
      "text/plain": [
       "{(x * y) in Integer} |- round(x * y) = (x * y)"
      ]
     },
     "metadata": {},
     "output_type": "display_data"
    }
   ],
   "source": [
    "from proveit.numbers import Mult\n",
    "Round(Mult(x,y)).shallow_simplification(assumptions=[InSet(Mult(x, y), Integer)])"
   ]
  },
  {
   "cell_type": "code",
   "execution_count": 111,
   "metadata": {},
   "outputs": [
    {
     "data": {
      "text/html": [
       "<span style=\"font-size:20px;\"><a class=\"ProveItLink\" href=\"../__pv_it/demonstrations/628ee46282a9090fd23f867f6cea77434eb769db0/expr.ipynb\"><img src=\"data:image/png;base64,iVBORw0KGgoAAAANSUhEUgAAAFwAAAAVBAMAAAA5lpTPAAAAMFBMVEX///8AAAAAAAAAAAAAAAAA\n",
       "AAAAAAAAAAAAAAAAAAAAAAAAAAAAAAAAAAAAAAAAAAAv3aB7AAAAD3RSTlMAInZUiRDNmWbv3US7\n",
       "qzJazP2FAAAACXBIWXMAAA7EAAAOxAGVKw4bAAABoElEQVQoz2NgYBBgwATYxCCAyQCL4CY0Pkfm\n",
       "mW8rT4BYJljNaEAT4GG8wH3jKAMDawJWO1MxlDswHHjLwMDegFV5OxblhWwMDJzYfcQZAKF1Vq1K\n",
       "gCvnYWAww66cDWLpNlUk06/GMjCUANlBunEusPBhVW9gAAqzXABxGFORHMN3OJGBIQPILmC6xL4A\n",
       "Ks7CPIGhHxhyYCewCSCUT1u/COjAxUApAY6vvDAfPwZqvMPAANQEUo7kVY9WkAmzGRj4GNjBZrF+\n",
       "AxIBnAoMk4BiH0AiL1cBwQGoY452QJQDw0EBbMRyELE/gO8fAwM32PQY5IB8zgNxDFCJAGsATKKM\n",
       "gQmolBnsFy5k5ewPgfYcApqx4SYDC1ziLAMPMFQ4wE5gUkBSznpAg4HBl4HB/mklw2a48lqG/UBv\n",
       "szuAOckI5QUMHTwbGF4xMIQrMVcgkmWsUz0w+Lg2QDinA2Ap8o8Az7HPDFwPMGLUDYiloOwtp1ah\n",
       "pEGOAlS1LAmsk4FUBa7scRCVy6XAC3Q24wFcymNQucxN1SCf4cx9jApYBBVxKAYAlN1agl7D6McA\n",
       "AAAASUVORK5CYII=\n",
       "\" style=\"display:inline;vertical-align:middle;\" /></a> <a class=\"ProveItLink\" href=\"../__pv_it/demonstrations/e9f20193108b27c903113ef3c8df7a5b2ec818440/proof.ipynb\" style=\"text-decoration: none\">&nbsp;&#x22A2;&nbsp;&nbsp;</a><a class=\"ProveItLink\" href=\"../__pv_it/demonstrations/92a9c7cd351958004c269dd5aaca00e1c05e239e0/expr.ipynb\"><img src=\"data:image/png;base64,iVBORw0KGgoAAAANSUhEUgAAAZUAAAAVBAMAAAB8sm5kAAAAMFBMVEX///8AAAAAAAAAAAAAAAAA\n",
       "AAAAAAAAAAAAAAAAAAAAAAAAAAAAAAAAAAAAAAAAAAAv3aB7AAAAD3RSTlMAMom7Iplm783dEER2\n",
       "q1TfLoYRAAAACXBIWXMAAA7EAAAOxAGVKw4bAAAEE0lEQVRYw5WXXWgTWRTH/0knSTOpMQs+qAiN\n",
       "+iKiWHAfK4YVBEFpqLRaFtmAKD5J8YOC7tKCsA8LslGfgl8jIooomyeLIGt21dUH14aiiFUxiFgL\n",
       "ggqlSJXWc+beTO5MZjLXA2due3PO+c05996TGyBEclK9YmhNNWIY+A4Hl6eeVy40FjpqQpskVWma\n",
       "ehQU5Ja/fbCDStchS0agLD7Mz9dSm+U/70Q6S48llqeIfccy6Cj42QuHUHo42VixvSwYgTJHao4I\n",
       "9ZF2z1vjCpk++dMzuwnRL8AffvbsEE7XIF9Cek4wgiQ1S49YQaiPxPPyjxty7OfHmOWefQwMAXtU\n",
       "e0f6dega5LGa+VkwgiRapEdCqp8ckeN7OQ66cpGzwxZe5ZCwFHtHBnXoGuTRMiiXhBUcrZ2zfyfV\n",
       "T353R0yP+OXyDHiVQXtBsXeOywg06BpkCjUDZkRWGr0FRB8+xzVa8wncmvjpDjWKbWs6uYf0Sr32\n",
       "/4UVTk8hQ7MKrHVHjGX9ciE5T1Umc8e+LuwQTtcgAzcLNiPa1hsdNE6jJ5edRPwjshsq5jRSh7DR\n",
       "khVgzXe8iBXrnsIQ+9wR7dr75BL5Sjucl8C2j5VsqUqHcLoGGcteZmzG5vZiLJusILm8NoAFI6ny\n",
       "KRifcLmAnWx1Tmg8F59dUD+IETbsAibdEZM1/1yS9N5pPhqTnnVhh1C6Dhl2HyPG0oVk+QsdnQn8\n",
       "ikTFNL8gPcsTJ9noqNAIYmJz/8U92jYEOnlioFQaKpXO8kEtN3JpzALb+SWomMJeEXYIpeuQRYth\n",
       "xm2iHwR6KtQGezJIf6T60ARFbeQCOwTXMi/6ZSct6qi7OmouSs3ivJ1SvC6jPrmE0zXIPwAbazZj\n",
       "gPKlLb0uR9tyDBxqYeHqV3tfOnuMmDnT6XlUqfs0TGntsdcwckgX6/bKebEdQuka5HmLc2EGrya1\n",
       "tANoq2J93Epk8cFaPUdR39AH3UIvlp8i6hSUDDfQsNsdsa3il0skiw4L8S7F3gnDDmF0HfJv9h4j\n",
       "hsGruQttecSqkQNRXugH8Uw3pvJ52UdJPyzdgb8bzbSampEdU4lo910qsHt2S1/fgOzXvd6vQ3II\n",
       "peuQ99rfL8RI8fJH1/xMaz3+aNs/uAlc34/r/y56keGrotBLD9P9jSurOX5vmobTnhXgQC+Hjxdc\n",
       "s+fn5+k7OVlW7J1mTQ6hdB1yqo/uloLRSpIZod6SUlMxip6TccJl8l79ZwsUe0dOQIOuQ3YYLYWv\n",
       "cU2XwlW4XFMufvW7pftyd8N7i2y+KO7RoeuQQ2+qQn6UqsoZjNu3ee9ZDvxpZ3T52bdwUOkaZIfR\n",
       "Wi5KVeXtvbIPB2ZgNPulm+xbOKh0DbJeYWBUhDb/fG323RoU5K6/fbCDStchC8Y3Fs2u5XEhrAoA\n",
       "AAAASUVORK5CYII=\n",
       "\" style=\"display:inline;vertical-align:middle;\" /></a></span>"
      ],
      "text/plain": [
       "{(x * y) in Real} |- round((x * y) + (1 + 2)) = (round(x * y) + 3)"
      ]
     },
     "metadata": {},
     "output_type": "display_data"
    }
   ],
   "source": [
    "Round(Add(Mult(x,y), Add(one, two))).simplification(assumptions=[InSet(Mult(x, y), Real)])"
   ]
  },
  {
   "cell_type": "code",
   "execution_count": 112,
   "metadata": {},
   "outputs": [
    {
     "data": {
      "text/html": [
       "<span style=\"font-size:20px;\"><a class=\"ProveItLink\" href=\"../../ordering/__pv_it/theorems/d1323f34847310a404e8089c2c268d3c2eb89dbf0/expr.ipynb\"><img src=\"data:image/png;base64,iVBORw0KGgoAAAANSUhEUgAAADQAAAAQBAMAAACra0H4AAAAMFBMVEX///8AAAAAAAAAAAAAAAAA\n",
       "AAAAAAAAAAAAAAAAAAAAAAAAAAAAAAAAAAAAAAAAAAAv3aB7AAAAD3RSTlMAEHarMolUmd1mIs3v\n",
       "RLtmgJDEAAAACXBIWXMAAA7EAAAOxAGVKw4bAAAAyklEQVQY02NgwACce9797nnJgBXwcRnwWj7E\n",
       "IRXA8MAZp1QVN4qQXkfHBrgUH7LMbUUkXYbCQIaQskhoApDm2ohkIMuzXUBGAZMRewOQ5l6AkDrd\n",
       "3yQA9MUCzo/ME0BSSM6InAiylIWBHWw3g08HEDyAGvhwJliMRwFMySE73p1PAMS6v4ARRHMgS7F7\n",
       "AfXLXbBhYAUJMCkgSTE+0GRgyHesYbgGFtmGkCpgmMl3gUFcia0yASwi/FYAFvL/FvC9/oYcHFdf\n",
       "QAIKCgBACzQrtGfvLgAAAABJRU5ErkJggg==\n",
       "\" style=\"display:inline;vertical-align:middle;\" /></a>, <a class=\"ProveItLink\" href=\"../../ordering/__pv_it/theorems/5d76fdd975252a644e3e1cb067a357f9a9c8486a0/expr.ipynb\"><img src=\"data:image/png;base64,iVBORw0KGgoAAAANSUhEUgAAADMAAAATBAMAAADPIygvAAAAMFBMVEX///8AAAAAAAAAAAAAAAAA\n",
       "AAAAAAAAAAAAAAAAAAAAAAAAAAAAAAAAAAAAAAAAAAAv3aB7AAAAD3RSTlMAEHaZZquJVO8y3btE\n",
       "zSKD2s2pAAAACXBIWXMAAA7EAAAOxAGVKw4bAAAA4ElEQVQoz2NgwAC+3ftvdTswYAUbnjIc9RbA\n",
       "LvWMgZszAJcU84MLKELaq1ZdgEttQJY5q4jQxSoINJBR2YFBFCTAdxHJwNm1DxgY2NgbGPxBArwP\n",
       "4FIvbv0CmTCdeQFDNFgKyRkusiBagEOBoQnEmLEKCDZApLhFwF4+L8D5E0RLI+niNNgIYtgyMDWA\n",
       "aC5kf1m+BjG2MnCDfc6kgCQlzQQy0ZThPCQsr8OlHjOwOOwBMkST7CHOFt0jAAv5fQy77xeA2LlQ\n",
       "1cd2rUIJObYLjO3Y44aBS4E1AYcUu5MNDhkADGJEjCMFBEsAAAAASUVORK5CYII=\n",
       "\" style=\"display:inline;vertical-align:middle;\" /></a> <a class=\"ProveItLink\" href=\"../__pv_it/demonstrations/7a226a6bf9f8e1875006e7bcc850c8b9a5dfa9e90/proof.ipynb\" style=\"text-decoration: none\">&nbsp;&#x22A2;&nbsp;&nbsp;</a><a class=\"ProveItLink\" href=\"../__pv_it/demonstrations/95e8085c2f7c24bbcbc6301d0d57659e7434dd8b0/expr.ipynb\"><img src=\"data:image/png;base64,iVBORw0KGgoAAAANSUhEUgAAAYUAAAAVBAMAAABbHO+MAAAAMFBMVEX///8AAAAAAAAAAAAAAAAA\n",
       "AAAAAAAAAAAAAAAAAAAAAAAAAAAAAAAAAAAAAAAAAAAv3aB7AAAAD3RSTlMAMom7Iplm783dEER2\n",
       "q1TfLoYRAAAACXBIWXMAAA7EAAAOxAGVKw4bAAAEZElEQVRYw61Xb2gbdRh+crkkzSW9RhHUITar\n",
       "4D8iC+i+dexQFAaOhI5WiwwjMhE/uFL/DNSxgqgoiHHih7DpTuaYyErzaWU4NFOrfljXUPwza8aO\n",
       "MtwGg1YoRbrS+vwuTZv73SXeTV+43t2T933ee97fe+/9CvyLGb5R9T96/n/8kiUt32ii4uV62gM7\n",
       "d0NZ/fOvW+idPP/O8rjdlH+b9Yz4QS5c/5spJAsuPz3dOuttrwTg79lV9uJvsi4WQxuB9ssHsgai\n",
       "XtYh+T0C5Trwnsvvi3ZZV/zzH4O+4sXfZN8wJCJUTjViT66dI97ao3mn38/APmCPy2+gTdLEkn/+\n",
       "KUv724u/ye7jEUOzhmtr51iLiNecfgdMXDQQc3XiUJukStE//3gZ1ODmb7K3eFzx1HClRcTbTr/f\n",
       "gYspdMhF1UfaJO3I++cn1SIEf+gutY9ZMpNlbaKATjMx+Xmml+/L9BnRmX2eGgR6YvKznvXpcWIA\n",
       "WhV4QM6BI6xsVXqSCF/pm7OP3s2fzv4hQjGD0zMPf8exszPTbQXhP1Ww+ZVwnzKEHWV1QdGHsJf3\n",
       "NYwZGDfCSw3lLg0CzSdrkWKDK30Z0XngeTlHaJldbJc9UrJN6BELk96avgfqIeSMemh6W0VbQOJl\n",
       "bDcD8N9xIWXzP9ZRZGEOAwfvZMx5fBXPIpfSXkVE5P7UUwPRqBFd6mx0ScgaRGcWuCxriPOZdbn9\n",
       "4xbUwrssdryC+GYROpIofwT1Lxwv4MlA/GIukX9TFz0jFLnfjFXwBsyxMuZMAnExxV/f0DBYKu0r\n",
       "lT5BHQ3VNQJjPGmMYzC6JT/sEg8wL2mIlREy2ch4mtczdqimXYe+JICDgfjF2BD8YoTGslCXecVa\n",
       "YA5cDQLU4tDQpN9GY/XPZjxfn4jdXNZxyS8qWicx5NZQH6EvAbkKr3Ip6PNcDQLU4p//JmC7ZfMP\n",
       "CrEVKAu8Ss4LAVjUCOxFu16idkNbn2qs2Y88XZX8ZqEa0IvS+8Begmh1jS/LFoNXUxACugpfLttd\n",
       "75t/1RQaBL9YPfZTLI1tCGdfwDBXVRmzcF7ndqrXUwPRo+XfoKyXNlxlMPCs0y+URtJENCutQ5gF\n",
       "thuV/TQsQh+Mmsw+Z96/Qi2X/PPvt3uJ/KpYvUgVW4HduDWdZjslR54JV/SPI1ibZlsMSQPRuU1P\n",
       "4OuNcVlNLDYm8Ybfjv7+wfoodX7GuBg50ai7Ec4zNDSsiHb6KZrqxdV83j//c/b3gfwJe6l7Jkg6\n",
       "mrlUS/Fe+9XSapt3nhHbPR4XDrxfcGogeuysPrCxudSmJxZ4OuTMcWR1ld/ReFneTDLjKVtM5ikR\n",
       "eo6ZeD/6Ika/vaWW8s+f6Oeez80vWzzVfHfNE60Xl+NDLbq+cWI1XL4fIlDWwPyttlmOPZ8Tpd2L\n",
       "41bTVu1k+x3enmBZA/PL9pAv9DCm7b22139fWRcUNoJmDcYv21Ff6J/idfLW6/HAWjZo1mD8LpkV\n",
       "32jSk+17D+zxG8rakv8fW9adhxt87C8AAAAASUVORK5CYII=\n",
       "\" style=\"display:inline;vertical-align:middle;\" /></a></span>"
      ],
      "text/plain": [
       "{x in Real, y in Real} |- round(1 + (x * y) + 2) = (round(x * y) + 3)"
      ]
     },
     "metadata": {},
     "output_type": "display_data"
    }
   ],
   "source": [
    "Round(Add(one, Mult(x,y), two)).simplification(assumptions=[InSet(x, Real), InSet(y, Real)])"
   ]
  },
  {
   "cell_type": "code",
   "execution_count": 113,
   "metadata": {},
   "outputs": [
    {
     "data": {
      "text/html": [
       "<span style=\"font-size:20px;\"> <a class=\"ProveItLink\" href=\"../__pv_it/demonstrations/7b2ce9c28b8ce7ee04032781d3c084cfedd074e20/proof.ipynb\" style=\"text-decoration: none\">&nbsp;&#x22A2;&nbsp;&nbsp;</a><a class=\"ProveItLink\" href=\"../__pv_it/demonstrations/9595ad1dd2876fc42cc171674b693e5f4ae8f56e0/expr.ipynb\"><img src=\"data:image/png;base64,iVBORw0KGgoAAAANSUhEUgAAAPsAAAAVBAMAAAByEoVnAAAAMFBMVEX///8AAAAAAAAAAAAAAAAA\n",
       "AAAAAAAAAAAAAAAAAAAAAAAAAAAAAAAAAAAAAAAAAAAv3aB7AAAAD3RSTlMAMom7Iplm783dEER2\n",
       "q1TfLoYRAAAACXBIWXMAAA7EAAAOxAGVKw4bAAACZElEQVRIx7WWTWjUQBTH/5uPpkl206UXwYNE\n",
       "BT9gkVx6qsJeFApKyx6kRYsr6EXEDR48VdmLSD2thR4EhRwURFiSm4hCU7A3V4pCKbKHPei5W1iK\n",
       "rCK+2XRbdprSZKgDGSZv3vu9eW/mZQIc0JQ4YREpmzDlS5zwY1r36SmZJ1PUW3bcXLac1K84ZaRF\n",
       "3Zv4uaeJ4xamLHnUXY2fu53YvTDlLOvc+DnNS+pemPKYbVo1fm448eYfQMmcVErEKjQCY6WMnGc2\n",
       "XhXOU6V8Xf5LCiqdGePz99FzfQumVAekVY406lw8JUKR5JLkYiJQOpLlokLvTfhFvCvK3e0oVTTC\n",
       "mb5hpIShXjwzz1l7yYb2mH1ahHJpuEaLewEsHFNrWMcH3cFk3ngAlXnQ6dzeQsVb6xsypW+UTm43\n",
       "lfI8SiKUoyNsaW3goaeFmIPnB9jwSKCzWtUCII/pno3PSJESMm2uvL2thBTj1yCFVYbmQPlDI2UT\n",
       "2ACtngQEiAzBNFkMU1EhZUjJ5M+y2U1IweIghW2IH0Lq0CjbZlbYMkhQwXbaYHbwdsfPNLJkZNW4\n",
       "vadsilEW2KepDM3GBcjOHdyH1ZX8FtYtuhLkEMZ4zsXuR5OU6NQPOVz0LMkiFOU3W/sqxoBZHLFt\n",
       "yly2elMOrUUVvdKwNl+7ZmvHcBZL5aiUBtpkIEYxe2k8sULm9cKPZp7ejbWW0Tx+ZZkdKXq7Hv68\n",
       "t+unXrhB8egB5/79oVD2tGd7RWfomUh33wpT+FtBqhqP9r9DDp0ic78kepijbVecdO6FKQanYt29\n",
       "FoP7f5TLccJPaX+29qP8Aw70BMixxsOnAAAAAElFTkSuQmCC\n",
       "\" style=\"display:inline;vertical-align:middle;\" /></a></span>"
      ],
      "text/plain": [
       "|- round(x * y) = round(x * y)"
      ]
     },
     "metadata": {},
     "output_type": "display_data"
    }
   ],
   "source": [
    "# If operand is not known or assumed to be an integer\n",
    "# or a simple Add expression, we do not get an error but\n",
    "# instead the trivial self-equivalence\n",
    "Round(Mult(x,y)).shallow_simplification()"
   ]
  },
  {
   "cell_type": "code",
   "execution_count": 114,
   "metadata": {},
   "outputs": [
    {
     "data": {
      "text/html": [
       "<span style=\"font-size:20px;\"><a class=\"ProveItLink\" href=\"../__pv_it/theorems/e7ea3ade6561bbbb858c02aa3be91f7305b5ebb50/expr.ipynb\"><img src=\"data:image/png;base64,iVBORw0KGgoAAAANSUhEUgAAADMAAAAQBAMAAABJt1qBAAAAMFBMVEX///8AAAAAAAAAAAAAAAAA\n",
       "AAAAAAAAAAAAAAAAAAAAAAAAAAAAAAAAAAAAAAAAAAAv3aB7AAAAD3RSTlMAEHarMolUmd1mIs3v\n",
       "RLtmgJDEAAAACXBIWXMAAA7EAAAOxAGVKw4bAAAA3UlEQVQY02NgwATZ50+/6DvJgA3omTBwM2zA\n",
       "KlXOwKDJmoBVyoqB8YEcqhDTi45uEC3AwO5ggiLDu0kAxnRmKQBRQsoioWCDV8NlGB7ygdkFTEbs\n",
       "DSDGLrgMW8AkEMW5gPMj8wQQC+FcqNNZGNghYiwnOjo6+sBMNdYLDIwgBo8CmM/4AKaJ8cE6Bgbm\n",
       "BUDW/QWMYEsbYFLMDlYMDPIMDHIXbBhYwSJKMCl3XqDTLRgY8h1rGK5BLIeFzUNuAYZ1eQwM4kps\n",
       "lRAxRruLEK+f2/PuzZ+nqMERBwkoKAAA5a8vMuYfrScAAAAASUVORK5CYII=\n",
       "\" style=\"display:inline;vertical-align:middle;\" /></a>, <a class=\"ProveItLink\" href=\"../__pv_it/demonstrations/1a5270d7d3401e3ec902ebbf86bec5c78898bba20/expr.ipynb\"><img src=\"data:image/png;base64,iVBORw0KGgoAAAANSUhEUgAAADIAAAATBAMAAAAg4UMRAAAAMFBMVEX///8AAAAAAAAAAAAAAAAA\n",
       "AAAAAAAAAAAAAAAAAAAAAAAAAAAAAAAAAAAAAAAAAAAv3aB7AAAAD3RSTlMAEHaZZquJVO8y3btE\n",
       "zSKD2s2pAAAACXBIWXMAAA7EAAAOxAGVKw4bAAAA8klEQVQY02NgwADsN37cXrXDAVOCgWnrBIYL\n",
       "vFgkGJgNGJgc0rHJsD5gkGbcgGLKrlVrQTQjA4Ml6wQkCZ5LAjAmZ8BkkAplBwZREPctXIKBW2Aj\n",
       "kGRjb2DwB3HvIbSXsSgAyenMCxiiQdwLCBmImwU4FBiaQGZ3rVq1ajXEKQU5QHEGhvMCnD9B9iHc\n",
       "Kc0HZMcxMNgyMDWA+AvgMpFAHzF+YGDYysAdAOIrwd1scBjoXaBCU4bz4NDjLYC7+SID33aggaJJ\n",
       "9g/AXo8+CJE5sbd7d393AoiZCw2EbEjowADbBcZ2BqyAS4E1AbsMu5MNdgkA2cc0b5s0PBoAAAAA\n",
       "SUVORK5CYII=\n",
       "\" style=\"display:inline;vertical-align:middle;\" /></a> <a class=\"ProveItLink\" href=\"../__pv_it/demonstrations/eb23af7c817c1436c85eb6adc4396d1dc3bb44f20/proof.ipynb\" style=\"text-decoration: none\">&nbsp;&#x22A2;&nbsp;&nbsp;</a><a class=\"ProveItLink\" href=\"../__pv_it/demonstrations/7f9c01c3462f26e6f174bd5eaa4239dcc25f576e0/expr.ipynb\"><img src=\"data:image/png;base64,iVBORw0KGgoAAAANSUhEUgAAAMAAAAAVBAMAAADiAfyoAAAAMFBMVEX///8AAAAAAAAAAAAAAAAA\n",
       "AAAAAAAAAAAAAAAAAAAAAAAAAAAAAAAAAAAAAAAAAAAv3aB7AAAAD3RSTlMAMom7Iplm783dEER2\n",
       "q1TfLoYRAAAACXBIWXMAAA7EAAAOxAGVKw4bAAACRklEQVQ4y6WVP2gTURzHv7k/SfNySbOJHexZ\n",
       "F4UIGXSrcCAIDmLIUOkgRFzEpcXBwT/QRV1DoYO0yEkVl0qydRA0HaKLgZBBO2QIIlanVAhFoojf\n",
       "O9NL8nLXnuYL9+d9f5+733v3fu8dcIgsH08bCxyW0fIxE5UxQE+RRzmeP/nG3o5aocG+JtknseQb\n",
       "mrBlJzQ4oDcM6gXfUDQnO6HBAZ3iEQuI3ZGN0OCAHvD4GhB7KBvBYOSElufwMrWyqBaQtBO1Z5lZ\n",
       "Flhj6zfjeR4btaczXolszEHUgdPyi4JBRc0ri7hY1jpKahELbDdRsrBpqd1eT3NGUy/uP2fuILoL\n",
       "3HC/+2NXdRwIXpgo6ibWgOVjjG7jVTyLy2lxG7pTF084T1a0m9yfwkhrHskssCOPIBicmqSnM9d9\n",
       "O1bBPdilMto2jbhJ7i7Rv6mAEi+CBDFMywkGQPEDQ6BTjbEstF+8074DbXAcNJjIfQ4uSMWdkkt0\n",
       "MZ0GNn0SeOAKhsB5p3MVKB3eGbvO27EnaCz0Rs4uWMJbL+zkO16+yXNwALjsLNoCYibOQc3exC2k\n",
       "ukqphe0Uty/W03r5IxSvp2qdGHBdHkEwqP100tVxFriKI6bJr2QsXVMrqRUdbjm2p67gdX/F1hN7\n",
       "vaocUjCYcAtrpsov/jLzuZlmW3xoiebxS1v0jwLP36fm+julaFQ7vKzKCUKDkuLpEUthqWjF/wYP\n",
       "26xO4kXLb2sLDco6I7XX0OD5/BigpHWp/cWZrJG3/Qso/1X9fnqGFR78A3+ixUOl3IhKAAAAAElF\n",
       "TkSuQmCC\n",
       "\" style=\"display:inline;vertical-align:middle;\" /></a></span>"
      ],
      "text/plain": [
       "{x in Integer, y in Integer} |- round(x * y) = (x * y)"
      ]
     },
     "metadata": {},
     "output_type": "display_data"
    }
   ],
   "source": [
    "# If we try to nudge things along by assuming x, y in the set of Integer numbers,\n",
    "# simplification will (by design) not automatically deduce that the\n",
    "# product is an integer, so we still get the trivial self-equivalence\n",
    "Round(Mult(x,y)).simplification(\n",
    "        assumptions=[InSet(x, Integer), InSet(y, Integer)])"
   ]
  },
  {
   "cell_type": "code",
   "execution_count": 115,
   "metadata": {},
   "outputs": [
    {
     "data": {
      "text/html": [
       "<span style=\"font-size:20px;\"><a class=\"ProveItLink\" href=\"../__pv_it/demonstrations/e2305f6c44c611450f9ebc35008aa6f195de02940/expr.ipynb\"><img src=\"data:image/png;base64,iVBORw0KGgoAAAANSUhEUgAAAFsAAAAVBAMAAADbSo+2AAAAMFBMVEX///8AAAAAAAAAAAAAAAAA\n",
       "AAAAAAAAAAAAAAAAAAAAAAAAAAAAAAAAAAAAAAAAAAAv3aB7AAAAD3RSTlMAInZUiRDNmWbv3US7\n",
       "qzJazP2FAAAACXBIWXMAAA7EAAAOxAGVKw4bAAABp0lEQVQoz2NgYBBgwASMDLgAkwEWQW4FNAGz\n",
       "+dNOrZkBZJhgNUQDja9zj4GNIYGBgTUBq3K2AFR+OdAEFqA72BuwKucoQOVfZGA9EAOkOXF4aSrU\n",
       "Z6dWLQPRAQzsD+6B/IBDeQbEy0lwR73lA1lYAsRBunEu8PAJqmBgvcDA4AvmiCG8cJQnAGpKAdMl\n",
       "9gUwYQdLBo4PDAxtYE4iXDWzQxOIWgz0lgDHV16Yj/kMqhh4DzAwWIJ5iGBjg7BnA1UwsEOE40EB\n",
       "yzCJgRMYSe/BemetWrVqDVhOmWUDUA6knAEsDwRcIM9wf2V4/4CBYSdIgPUAzHDWAzIMDLwCIMcw\n",
       "MOwXYIX7CWiTJpCyAnPgPuJ9cBFoOwPDIQaGmA03GVjgjuS5wHAWSPWAOUow0efcQJtvgQPM/mkl\n",
       "w2a4cvYL3D+gAQz0ICx8jwJThYwNA8MrBoZwJeYKRLJkvaL+EUithnDubIVE15zMMyd/HgF67wFG\n",
       "hLIAA4gR6mpuH0giwJWWGNwYInGnPAaGg2j8RQxXgKQMrtwUg8a3UN+AxRBEtlTAliMFsCsGAPxt\n",
       "V0aujDAHAAAAAElFTkSuQmCC\n",
       "\" style=\"display:inline;vertical-align:middle;\" /></a> <a class=\"ProveItLink\" href=\"../__pv_it/demonstrations/c43d98e6dee91bcfb4a4b55b48fef59e87a237fa0/proof.ipynb\" style=\"text-decoration: none\">&nbsp;&#x22A2;&nbsp;&nbsp;</a><a class=\"ProveItLink\" href=\"../__pv_it/demonstrations/7f9c01c3462f26e6f174bd5eaa4239dcc25f576e0/expr.ipynb\"><img src=\"data:image/png;base64,iVBORw0KGgoAAAANSUhEUgAAAMAAAAAVBAMAAADiAfyoAAAAMFBMVEX///8AAAAAAAAAAAAAAAAA\n",
       "AAAAAAAAAAAAAAAAAAAAAAAAAAAAAAAAAAAAAAAAAAAv3aB7AAAAD3RSTlMAMom7Iplm783dEER2\n",
       "q1TfLoYRAAAACXBIWXMAAA7EAAAOxAGVKw4bAAACRklEQVQ4y6WVP2gTURzHv7k/SfNySbOJHexZ\n",
       "F4UIGXSrcCAIDmLIUOkgRFzEpcXBwT/QRV1DoYO0yEkVl0qydRA0HaKLgZBBO2QIIlanVAhFoojf\n",
       "O9NL8nLXnuYL9+d9f5+733v3fu8dcIgsH08bCxyW0fIxE5UxQE+RRzmeP/nG3o5aocG+JtknseQb\n",
       "mrBlJzQ4oDcM6gXfUDQnO6HBAZ3iEQuI3ZGN0OCAHvD4GhB7KBvBYOSElufwMrWyqBaQtBO1Z5lZ\n",
       "Flhj6zfjeR4btaczXolszEHUgdPyi4JBRc0ri7hY1jpKahELbDdRsrBpqd1eT3NGUy/uP2fuILoL\n",
       "3HC/+2NXdRwIXpgo6ibWgOVjjG7jVTyLy2lxG7pTF084T1a0m9yfwkhrHskssCOPIBicmqSnM9d9\n",
       "O1bBPdilMto2jbhJ7i7Rv6mAEi+CBDFMywkGQPEDQ6BTjbEstF+8074DbXAcNJjIfQ4uSMWdkkt0\n",
       "MZ0GNn0SeOAKhsB5p3MVKB3eGbvO27EnaCz0Rs4uWMJbL+zkO16+yXNwALjsLNoCYibOQc3exC2k\n",
       "ukqphe0Uty/W03r5IxSvp2qdGHBdHkEwqP100tVxFriKI6bJr2QsXVMrqRUdbjm2p67gdX/F1hN7\n",
       "vaocUjCYcAtrpsov/jLzuZlmW3xoiebxS1v0jwLP36fm+julaFQ7vKzKCUKDkuLpEUthqWjF/wYP\n",
       "26xO4kXLb2sLDco6I7XX0OD5/BigpHWp/cWZrJG3/Qso/1X9fnqGFR78A3+ixUOl3IhKAAAAAElF\n",
       "TkSuQmCC\n",
       "\" style=\"display:inline;vertical-align:middle;\" /></a></span>"
      ],
      "text/plain": [
       "{(x * y) in Integer} |- round(x * y) = (x * y)"
      ]
     },
     "metadata": {},
     "output_type": "display_data"
    }
   ],
   "source": [
    "# But if we assume the entire product is an integer, the simplification\n",
    "# process will find the expected equivalence and extract out the\n",
    "# product from the round() function\n",
    "Round(Mult(x,y)).simplification(assumptions=[InSet(Mult(x, y), Integer)])"
   ]
  },
  {
   "cell_type": "markdown",
   "metadata": {},
   "source": [
    "#### Testing `bound_via_operand_bound()` for `Ceil`"
   ]
  },
  {
   "cell_type": "code",
   "execution_count": 116,
   "metadata": {},
   "outputs": [],
   "source": [
    "from proveit import a, b, c, x, y, z\n",
    "from proveit.logic import InSet\n",
    "from proveit.numbers import Integer, Real\n",
    "from proveit.numbers import Less, LessEq, greater, greater_eq"
   ]
  },
  {
   "cell_type": "code",
   "execution_count": 117,
   "metadata": {},
   "outputs": [
    {
     "data": {
      "text/html": [
       "<strong id=\"ceil_assumptions\">ceil_assumptions:</strong> <a class=\"ProveItLink\" href=\"../__pv_it/demonstrations/33814bddefca9cd12b42da89c348ade16cebeda00/expr.ipynb\"><img src=\"data:image/png;base64,iVBORw0KGgoAAAANSUhEUgAAAdgAAAAVBAMAAAAX9uJ0AAAAMFBMVEX///8AAAAAAAAAAAAAAAAA\n",
       "AAAAAAAAAAAAAAAAAAAAAAAAAAAAAAAAAAAAAAAAAAAv3aB7AAAAD3RSTlMAInZUiRDNmWbv3US7\n",
       "qzJazP2FAAAACXBIWXMAAA7EAAAOxAGVKw4bAAAFM0lEQVRYw+WYf2gbZRjHn0tySZpc0vujKEoH\n",
       "sSKtxcn9MYcTYWHOOaaOMHC6kZhMKdqhmIE/6tQ1FJQiQ8fEMWZgZfMHngMD8wf7Q3pzdtquxVi7\n",
       "MWWUiEhRHOusLZvI8Hl/3I/3cneFgH/t/kjv8rnv932ee5/3eS8FABWui0MiHyGtGYT7rz6jj1e8\n",
       "VasPH5g4dhBagPH+yaWPv/MN543q9zurlf8r2WQGP1Z5gNBUA0pRdp4/5IJ3zEIUSj6WgRAUqZ48\n",
       "P+Ybj7ECvtqbay0XeXxkmTt68CavyGJlCFXu4xdPueBLqItoPo6BEJPNgnHRP9kOUNL1FmcuWl7u\n",
       "hhzEvOompUJeNvjFggv+ALKR93MMhDTZXdGgZGNqqcVk27VlboiXoU0o3wn9Q1oTAHtSDV7riy6I\n",
       "D6gx21S+ul7yhRalySpNi4Ybs2QNr04Q2EQZHXXX/1b3NL4Lq51r+AlLkK7P8bPISBO8mHaXzBe3\n",
       "gT+0KUn2bMHdOSxjTDb1iEcZv/lCUK6cbmpaxZsy4hdPw/OkK8/cQr+/wX44Ss7sI9HplZoLjinW\n",
       "+boeUgBSH3jALSsfX68JFJNNn9rB6QDIddEYk/3TnEQzJjx67xf9HFoHfbbrR5ZjdwUKIsIZ63oL\n",
       "4GFMF+CEqtBa3WGHvCpuDlXsky+LMJwdMk9v1mKk7KKqFyyHpmMjAlWkA58e4bll10B8XjQ2btr5\n",
       "j1kEZkyOCTL9HFqbyku5Ih0nEt4Hb7tKQjoKr+LWBkfxvoPATBy9oWS1kbU52C9Cx97yPrRl6Dce\n",
       "MK7GF1MVgSrSxtc5Tmu7IWWIxkbH8FazBs2YpN0Vt59Da9PwIgsFfkXdBWs576J/ElmSwxp4Dzea\n",
       "eXKFHod0XT/Geob2IGk25HgR4G8R3hqpkRZGtijevH5HphsumIZYyUWxjMeGeTY4PI3OYWx0KI/x\n",
       "4M2Y4JzVZC0/W+ugyNqpIIdkv90uzpLPQZrKJZJsmwHFGvGwG2FeMsg2wiYvuSBA2eikmxNQJbsd\n",
       "PCDwgBwUk50zlzR2+UsNcVSjI13mrcKMyZGO5WdrHRQfzSi7GM2lr9nJUr8qWxmkjIsZXuT2O8gs\n",
       "xivP822WzZ8FUw18CkW2nvnoCfCAOKwq5wSKycZ+MaypuN01KjaoPZ1gOrOY7EK1/Bxam+I2O2iW\n",
       "YmifVcZ0wuS/6MU98DUaa3AuTCajy6qY8pcY9wgt5GuwjRpacC6Je8vPtFbbkZDnH8p4wHztJ4iA\n",
       "QDFZ2ehhC0SpwxQIxiTZfKhCxVZMdgvifoLWpu0NXOZ0/UwRzBsUW7JwBYsBYC/2Y1Ay4Y9itLlo\n",
       "1sbTB9IpQ17C8/PwLQhwDN+7Ou+FIi4gbMURWk5PQjNc+9vLcBwEqkhlGFZq1DdWT14RjcG4EeKV\n",
       "M1RsxYT59LIOzfxErU1TFaVMlfAajFZcWw+24s2Au+wfeP/05hV3UuGFz3nfP12dPFzNgo6PsfAA\n",
       "k5owWe2fHL/6DSQ+wIv1w2yowplcE3y0KzygCRR/9fyrKqcXqK88031ZMCa/ek7C5HMaEVsx0Qmi\n",
       "QXM/QWtTeWYAWEyFdYOsJHqtiopsHELVJ5BoOF9mHuIvbmY/zwXAu5wXn03oJV/YRJlvpORt7BKT\n",
       "x6D6aV2UKTfQz+2u10VphLwe+x+RoNe0bMuQ+m6AbVor4kBtljwG+R1PRn7ynAww3hL0AzLTKmS+\n",
       "R2CmJXGQligTmZT3w+oUdsHmI2jUELQKme/d3bWWxEFaogwPveItJLMqZa6P/0GFVPgPdKCbkpO+\n",
       "av8AAAAASUVORK5CYII=\n",
       "\" style=\"display:inline;vertical-align:middle;\" /></a><br>"
      ],
      "text/plain": [
       "<IPython.core.display.HTML object>"
      ]
     },
     "metadata": {},
     "output_type": "display_data"
    }
   ],
   "source": [
    "ceil_assumptions = [InSet(a, Integer), InSet(b, Integer), InSet(c, Integer), InSet(x, Real), InSet(y, Real),\n",
    "                   Less(a, x), Less(y, b), greater(y, c)]"
   ]
  },
  {
   "cell_type": "code",
   "execution_count": 118,
   "metadata": {},
   "outputs": [
    {
     "data": {
      "text/html": [
       "<span style=\"font-size:20px;\"><a class=\"ProveItLink\" href=\"../../number_sets/integers/__pv_it/theorems/d82a9927958f2919b6e25fa4d8e512f4047160210/expr.ipynb\"><img src=\"data:image/png;base64,iVBORw0KGgoAAAANSUhEUgAAADIAAAAQBAMAAACmdTG/AAAAMFBMVEX///8AAAAAAAAAAAAAAAAA\n",
       "AAAAAAAAAAAAAAAAAAAAAAAAAAAAAAAAAAAAAAAAAAAv3aB7AAAAD3RSTlMAIquJdkTvuxBmmd1U\n",
       "zTKBpmoTAAAACXBIWXMAAA7EAAAOxAGVKw4bAAAA3klEQVQY02NgwAA8175d3102AVOCgaXoAcMF\n",
       "XiwSDFwLGFgm2GCTYRJgaOcoQDGlevdeEM3BwLCO6QGSBOuVBhiTT+EViGJUdnQA0bJwCQb2hgoQ\n",
       "FSbA/gNEX0RoP8wJUsuRycC1AcS9gJCBuJnrAwO3Acjs7N27d2+HOOWAKQNDAwNbAUN/AEgvwp3t\n",
       "jEC2IkO/A8N8MH8DXEYP6COODwz9Bxh0eQSAfBe4mxdEAb27gYHdgWcXF0iA9wDczTcYGGsKGDhU\n",
       "7IT8wF5Xj4DIhNWml+enGyAHgjkkdKAAAEfmMVewssrcAAAAAElFTkSuQmCC\n",
       "\" style=\"display:inline;vertical-align:middle;\" /></a>, <a class=\"ProveItLink\" href=\"../../ordering/__pv_it/theorems/d1323f34847310a404e8089c2c268d3c2eb89dbf0/expr.ipynb\"><img src=\"data:image/png;base64,iVBORw0KGgoAAAANSUhEUgAAADQAAAAQBAMAAACra0H4AAAAMFBMVEX///8AAAAAAAAAAAAAAAAA\n",
       "AAAAAAAAAAAAAAAAAAAAAAAAAAAAAAAAAAAAAAAAAAAv3aB7AAAAD3RSTlMAEHarMolUmd1mIs3v\n",
       "RLtmgJDEAAAACXBIWXMAAA7EAAAOxAGVKw4bAAAAyklEQVQY02NgwACce9797nnJgBXwcRnwWj7E\n",
       "IRXA8MAZp1QVN4qQXkfHBrgUH7LMbUUkXYbCQIaQskhoApDm2ohkIMuzXUBGAZMRewOQ5l6AkDrd\n",
       "3yQA9MUCzo/ME0BSSM6InAiylIWBHWw3g08HEDyAGvhwJliMRwFMySE73p1PAMS6v4ARRHMgS7F7\n",
       "AfXLXbBhYAUJMCkgSTE+0GRgyHesYbgGFtmGkCpgmMl3gUFcia0yASwi/FYAFvL/FvC9/oYcHFdf\n",
       "QAIKCgBACzQrtGfvLgAAAABJRU5ErkJggg==\n",
       "\" style=\"display:inline;vertical-align:middle;\" /></a>, <a class=\"ProveItLink\" href=\"../__pv_it/demonstrations/dca454e375a4fdb804cbe6e3b3b093b1e1eb58430/expr.ipynb\"><img src=\"data:image/png;base64,iVBORw0KGgoAAAANSUhEUgAAADIAAAAOBAMAAACfqVJUAAAAMFBMVEX///8AAAAAAAAAAAAAAAAA\n",
       "AAAAAAAAAAAAAAAAAAAAAAAAAAAAAAAAAAAAAAAAAAAv3aB7AAAAD3RSTlMAIquJdkTvuxBmmd1U\n",
       "zTKBpmoTAAAACXBIWXMAAA7EAAAOxAGVKw4bAAAAqElEQVQY02NgIBLwXMQhwbmrAYnHqOzoAGWy\n",
       "bIZIcLhoPLZhYAgTYP8BkWjeAlXBxeDksJqBI5OBawOYL7UTZsxEhvkNmgxcHxi4DUBcpjtwCx4w\n",
       "rAWSbAUM/QFoMgwMKUDc78AwnwHNNAbWjwwdDP0HGHR5BFBcwFHKlMBgwMDuwLOLC6q0ZQvY1Tz/\n",
       "uhJYDzBwqNgJ+cF9CvYQxxKHU3MwAuEiEUEIAJqZJcgWZ+RPAAAAAElFTkSuQmCC\n",
       "\" style=\"display:inline;vertical-align:middle;\" /></a> <a class=\"ProveItLink\" href=\"../__pv_it/demonstrations/231be755acffa9328f9429f09440e3e63f7f9b800/proof.ipynb\" style=\"text-decoration: none\">&nbsp;&#x22A2;&nbsp;&nbsp;</a><a class=\"ProveItLink\" href=\"../__pv_it/demonstrations/c763f2dac391db03ff172873ba01289c7e17bbd60/expr.ipynb\"><img src=\"data:image/png;base64,iVBORw0KGgoAAAANSUhEUgAAAHQAAAAVBAMAAABlHNfrAAAAMFBMVEX///8AAAAAAAAAAAAAAAAA\n",
       "AAAAAAAAAAAAAAAAAAAAAAAAAAAAAAAAAAAAAAAAAAAv3aB7AAAAD3RSTlMARN12ZlQQqzKJmSLN\n",
       "77vFPH07AAAACXBIWXMAAA7EAAAOxAGVKw4bAAABgklEQVQ4y2MQUlJmAANWJSUHBnTAzYADgCRc\n",
       "EFzGBRgqTHFpZTQgoJV1AlZ9TQkMDCZYtOYgOTsHm0a2qvNArTwJmFrZJhnARZag6BGBMeyBWlkW\n",
       "YHOw0TSYyAUUrcHIWhmuYfWrE1Qv6wE8Wo+AtbIZl3VORQ6mmNVgigsUStsnb8aqdTpYKxeDucEi\n",
       "lBCWKQORPMAQY7zN8D4Bm1YfsFZvBv+EElStz0AkUwADQ64DwyKstsaCtTYwrEGN15hqMMUrwMCw\n",
       "noFBE8RepKR0V0lJHaG1HxpMl1GDaRkDXOs9BraPWG2VhWhl/M2QhiVygA5m+8zA8gGr1iCQVraH\n",
       "7BcYJmBJEnwGDGxfGdgPRGPT6gfSyvoj6wJjAJaEyFnAwPCYIWjBAjSt8zcAiZVgWxcbRLliS/4c\n",
       "CgwM6ZbdxQ2oWsvvHwcar4g/52hgT03gDKuAX6sX9uQPTmkOmFqTlEAAYh/fBlxZnWEfgazO9gCn\n",
       "1tcMDKFIoYJZJmzGpZN5AwMAoglg6nImxawAAAAASUVORK5CYII=\n",
       "\" style=\"display:inline;vertical-align:middle;\" /></a></span>"
      ],
      "text/plain": [
       "{a in Integer, x in Real, a < x} |- ceil(x) >= (a + 1)"
      ]
     },
     "metadata": {},
     "output_type": "display_data"
    }
   ],
   "source": [
    "ceil_x.bound_via_operand_bound(greater(x, a), assumptions=ceil_assumptions)"
   ]
  },
  {
   "cell_type": "code",
   "execution_count": 119,
   "metadata": {},
   "outputs": [
    {
     "data": {
      "text/html": [
       "<span style=\"font-size:20px;\"><a class=\"ProveItLink\" href=\"../__pv_it/demonstrations/ab9efd361cdf04a40e51b5b0d3fd587cd7505e5a0/expr.ipynb\"><img src=\"data:image/png;base64,iVBORw0KGgoAAAANSUhEUgAAADAAAAAQBAMAAACigOGCAAAAMFBMVEX///8AAAAAAAAAAAAAAAAA\n",
       "AAAAAAAAAAAAAAAAAAAAAAAAAAAAAAAAAAAAAAAAAAAv3aB7AAAAD3RSTlMAiXZmMiLdVJm77xBE\n",
       "zatgdeJyAAAACXBIWXMAAA7EAAAOxAGVKw4bAAAAzElEQVQY02NgQAfst37dTJtlgCHOwDTPgeEC\n",
       "L6Y4A0cDA5OBOBYJvgCGndwTkI2YlpYLorkZGFr4HBDiPJc2wJgsDzzAtJAySD4WLs7AuWE2iAor\n",
       "4ACZeBWhuZBZAUQlMnCB6AsICYhjOX5DzF2WlpaWCXFFgQwDwwYGLojLkBy4kxXIfsqwXwHCTYBL\n",
       "PAH6hPsDAz8wVA4AuUpwxzacAPoygQHoJEaQc3kL4I69zcA6HWiaoLE22JKXpyESp+aunLl+pQCS\n",
       "1yUhQQIFAA/aLo4ZZrU0AAAAAElFTkSuQmCC\n",
       "\" style=\"display:inline;vertical-align:middle;\" /></a>, <a class=\"ProveItLink\" href=\"../../ordering/__pv_it/theorems/5d76fdd975252a644e3e1cb067a357f9a9c8486a0/expr.ipynb\"><img src=\"data:image/png;base64,iVBORw0KGgoAAAANSUhEUgAAADMAAAATBAMAAADPIygvAAAAMFBMVEX///8AAAAAAAAAAAAAAAAA\n",
       "AAAAAAAAAAAAAAAAAAAAAAAAAAAAAAAAAAAAAAAAAAAv3aB7AAAAD3RSTlMAEHaZZquJVO8y3btE\n",
       "zSKD2s2pAAAACXBIWXMAAA7EAAAOxAGVKw4bAAAA4ElEQVQoz2NgwAC+3ftvdTswYAUbnjIc9RbA\n",
       "LvWMgZszAJcU84MLKELaq1ZdgEttQJY5q4jQxSoINJBR2YFBFCTAdxHJwNm1DxgY2NgbGPxBArwP\n",
       "4FIvbv0CmTCdeQFDNFgKyRkusiBagEOBoQnEmLEKCDZApLhFwF4+L8D5E0RLI+niNNgIYtgyMDWA\n",
       "aC5kf1m+BjG2MnCDfc6kgCQlzQQy0ZThPCQsr8OlHjOwOOwBMkST7CHOFt0jAAv5fQy77xeA2LlQ\n",
       "1cd2rUIJObYLjO3Y44aBS4E1AYcUu5MNDhkADGJEjCMFBEsAAAAASUVORK5CYII=\n",
       "\" style=\"display:inline;vertical-align:middle;\" /></a>, <a class=\"ProveItLink\" href=\"../__pv_it/demonstrations/23d8134d95008625b4cc2041d156a313e4d2b2850/expr.ipynb\"><img src=\"data:image/png;base64,iVBORw0KGgoAAAANSUhEUgAAADAAAAAQBAMAAACigOGCAAAAMFBMVEX///8AAAAAAAAAAAAAAAAA\n",
       "AAAAAAAAAAAAAAAAAAAAAAAAAAAAAAAAAAAAAAAAAAAv3aB7AAAAD3RSTlMAEHaZZquJVO8y3btE\n",
       "zSKD2s2pAAAACXBIWXMAAA7EAAAOxAGVKw4bAAAAqklEQVQY02NgIAhkHXBIMGYpoPKVHRhEIUyt\n",
       "RJggm5InAxt7A4M/lO9lCKH5ljNYM0xnXsAQDVNZawemuBIYmhgEOBSAJAycDQSR9gIg8rwA50+E\n",
       "xEYQ2Q1m2zIwNcCNigO75xOYs5WBOwBmOcQKhi8MDDwMDKYM5x3QnGvNwJDJwCCaZP8AbIAW3INs\n",
       "KU5g63PBPCm0IGG7wNiONYi4FFgTsEqwO9lgFQcAAf8bYPP0Wl0AAAAASUVORK5CYII=\n",
       "\" style=\"display:inline;vertical-align:middle;\" /></a> <a class=\"ProveItLink\" href=\"../__pv_it/demonstrations/e6d2bd19d21e74d7c0362a2599f69033288209910/proof.ipynb\" style=\"text-decoration: none\">&nbsp;&#x22A2;&nbsp;&nbsp;</a><a class=\"ProveItLink\" href=\"../__pv_it/demonstrations/17d3f59559723c782a90c641d991802e94b30d2f0/expr.ipynb\"><img src=\"data:image/png;base64,iVBORw0KGgoAAAANSUhEUgAAAHAAAAAVBAMAAABs93eRAAAAMFBMVEX///8AAAAAAAAAAAAAAAAA\n",
       "AAAAAAAAAAAAAAAAAAAAAAAAAAAAAAAAAAAAAAAAAAAv3aB7AAAAD3RSTlMARN12ZlQQmauJ7zK7\n",
       "zSIgEiEGAAAACXBIWXMAAA7EAAAOxAGVKw4bAAABg0lEQVQ4y2MQUlJmAAFWJSUHBgzwgAEr4ANi\n",
       "FziPsQBDAXMAdo2MBgQ0RmLTtSmBgcEEUyPbFYQStguY2tja7wM18iZg2pipDBdhR/a1CIxhD9TI\n",
       "UoDFqcyaCVARLmSrgpE1MizD5kcWmM5Y3BqvgDSymTswZCAHDut1SDRUgojJJhuwaJwB0sjJuoDB\n",
       "HyVUGW+A7QSF06MA9gNYNPqCNG5lV2DoQdV4B6xRFYg1GbgMsGiMAmlMAEotRnHqDYhTFwID9huY\n",
       "VaSktEpJSQOhcT84cOQTuH8jB446NHCAGrkOYA8cKbDGWgbmBdiiA+jUfAPsGoPAGk8w8DRgSwCH\n",
       "GRj4gWlAAItGH7DGCgZ5B2xJbgbQjwcYONGiY/4DcEyBNGZMrn+ALZFvAuKZLmaoTu1YfwNoiyI0\n",
       "5czFmjuYNmBLOeAMqQBOABfYlmLVyFKALZFDkz9QI5MBxwREtlICA4hd5xhwgDfg/MjqXIgjI+fg\n",
       "0gg0MRTO4Z6AWbYYYNfH/IABAJLYWlhGKR3XAAAAAElFTkSuQmCC\n",
       "\" style=\"display:inline;vertical-align:middle;\" /></a></span>"
      ],
      "text/plain": [
       "{c in Integer, y in Real, y > c} |- ceil(y) >= (c + 1)"
      ]
     },
     "metadata": {},
     "output_type": "display_data"
    }
   ],
   "source": [
    "ceil_y.bound_via_operand_bound(greater(y, c), assumptions=ceil_assumptions)"
   ]
  },
  {
   "cell_type": "code",
   "execution_count": 120,
   "metadata": {},
   "outputs": [],
   "source": [
    "%end demonstrations"
   ]
  },
  {
   "cell_type": "code",
   "execution_count": null,
   "metadata": {},
   "outputs": [],
   "source": []
  }
 ],
 "metadata": {
  "kernelspec": {
   "display_name": "Python 3",
   "language": "python",
   "name": "python3"
  }
 },
 "nbformat": 4,
 "nbformat_minor": 0
}