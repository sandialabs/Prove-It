{
 "cells": [
  {
   "cell_type": "markdown",
   "metadata": {},
   "source": [
    "Theory of <a class=\"ProveItLink\" href=\"../../../_theory_nbs_/theory.ipynb\">proveit</a>.<a class=\"ProveItLink\" href=\"../../_theory_nbs_/theory.ipynb\">numbers</a>.rounding\n",
    "========\n",
    "\n",
    "Theory related to rounding of numbers, including Round, Ceil, and Floor classes."
   ]
  },
  {
   "cell_type": "code",
   "execution_count": 1,
   "metadata": {},
   "outputs": [
    {
     "data": {
      "text/html": [
       "<h3>Local content of this theory</h3>"
      ],
      "text/plain": [
       "<IPython.core.display.HTML object>"
      ]
     },
     "metadata": {},
     "output_type": "display_data"
    },
    {
     "data": {
      "text/html": [
       "<table><tr>\n",
       "<th><a class=\"ProveItLink\" href=\"common.ipynb\">common expressions</a></th>\n",
       "<th><a class=\"ProveItLink\" href=\"axioms.ipynb\">axioms</a></th>\n",
       "<th><a class=\"ProveItLink\" href=\"theorems.ipynb\">theorems</a></th>\n",
       "<th><a class=\"ProveItLink\" href=\"demonstrations.ipynb\">demonstrations</a></th>\n",
       "</tr></table>\n",
       "<h3>Sub-theories</h3>\n"
      ],
      "text/plain": [
       "<IPython.core.display.HTML object>"
      ]
     },
     "metadata": {},
     "output_type": "display_data"
    },
    {
     "data": {
      "text/html": [
       "<h3>All axioms contained within this theory</h3>"
      ],
      "text/plain": [
       "<IPython.core.display.HTML object>"
      ]
     },
     "metadata": {},
     "output_type": "display_data"
    },
    {
     "data": {
      "text/html": [
       "<dt><a class=\"ProveItLink\" href=\"axioms.ipynb#ceil_is_an_int\">proveit.numbers.rounding.ceil_is_an_int</a></dt><dd><a class=\"ProveItLink\" href=\"../__pv_it/axioms/ed765b9ce39bef24b7b045c119fd287b533000200/expr.ipynb\"><img src=\"data:image/png;base64,iVBORw0KGgoAAAANSUhEUgAAAIoAAAAVBAMAAABrmWvBAAAAMFBMVEX///8AAAAAAAAAAAAAAAAA\n",
       "AAAAAAAAAAAAAAAAAAAAAAAAAAAAAAAAAAAAAAAAAAAv3aB7AAAAD3RSTlMAq1RmmUTNIjK7EInv\n",
       "3XZ/CtNrAAAACXBIWXMAAA7EAAAOxAGVKw4bAAACPklEQVQ4y42UPWgUQRzF393tx7mrw4GFxmpB\n",
       "sYnCYaFooStoFEQ5VCw0xUIKMUhYG0FIcYJdEKOgcaMeV6Q5bS4HKlrINRZR/EBQsBjY4EeR4rCL\n",
       "hYX/2d2ZvQt7m2xx+5+dmd+9efNmgNzHh855GJVFzquZY0ys8zAHpXSq7g72Fq/+u8IfV3X6l4po\n",
       "7xxCGUUehd2twzOAH8Bx0b6cDbG8XIrmglU7gNHETbGy2WyKVs2lFHy0LJpacgUItpNN2YxMCnvC\n",
       "v0VSgZOFOhXvolHGEFt2Z1L0qab8Uq7cEq8J4APn74dQTiUUq7djpqMo1xUEm5rz4rVIooD5IZSJ\n",
       "hKJhOTytKH1bMVqKsrQfuAaz0jdz74ujU7L+klAO4Ehzq6J46WAv9mKPUGXX5DKXgxqz8bKdtN8m\n",
       "lDrGUl/KZAH/noTyOUDru0MJDJW5x8hwxnAoXEMBPqYUK41FS0RkGzAuZB2mn96Jnz4TE4iy4q5Z\n",
       "EfRVPFUr+qwo2ykx1h9ygerOJM31RwynFam0zYbc3EZMse4XumgrSk/ts3ueokfQg9SYJnNLaJRx\n",
       "LqJoj5TkxZhS/LvQ1R1FMRy1z5Mw783GiYjih1XasCAIHMbss5JyO9FyJty1L02dNXIx7h5/sBR8\n",
       "WiKRX5W6romZSAvTL8lYbalnngD9VXwC1AUjnZq2PY0URr7gtXSXjlneaew/tHHx680KzIdUXfjd\n",
       "XhiT/XMbotwYbD4LgtrAh9aGKHPr3JhmiGJ6a5Tb2deqj/+AiIX2goq6nwAAAABJRU5ErkJggg==\n",
       "\" style=\"display:inline;vertical-align:middle;\" /></a></dd>"
      ],
      "text/plain": [
       "<IPython.core.display.HTML object>"
      ]
     },
     "metadata": {},
     "output_type": "display_data"
    },
    {
     "data": {
      "text/html": [
       "<dt><a class=\"ProveItLink\" href=\"axioms.ipynb#ceil_of_x_greater_eq_x\">proveit.numbers.rounding.ceil_of_x_greater_eq_x</a></dt><dd><a class=\"ProveItLink\" href=\"../__pv_it/axioms/7a7abe75957c0525b4d0ab245d81779e724009d50/expr.ipynb\"><img src=\"data:image/png;base64,iVBORw0KGgoAAAANSUhEUgAAAIoAAAAVBAMAAABrmWvBAAAAMFBMVEX///8AAAAAAAAAAAAAAAAA\n",
       "AAAAAAAAAAAAAAAAAAAAAAAAAAAAAAAAAAAAAAAAAAAv3aB7AAAAD3RSTlMAq1RmmUTNIjK7EInv\n",
       "3XZ/CtNrAAAACXBIWXMAAA7EAAAOxAGVKw4bAAACGUlEQVQ4y42UPWgUQRTH/7cft5vdOASslBAW\n",
       "FBsNBgtFC11JTAJROSLYKHghgmgR1lJIsbYG0UbiKhxXXJEzEC4pElCQa2wUJYhWsrKHH0WKayNW\n",
       "vpnM5rLLnLmB3Xk7781v39cM8N8RwIzjRIhaHI8obSzsM5gHvbPV9JVGJv1lgAtHulCOowcKfgCX\n",
       "+HxHrXbKCoozmzcrVvGQR/ZUTTFGVL4sf8+Z6T4HwfXUlH4oI2Lfqlm798Kq2CUtx9QU6DkMxfgx\n",
       "jj90oUxJitM+vLC2N7va7UDMK62lNxTHKjAJvOhCmZUUA63kSqZG5ozwxmdDxiZwGrgPa2DPzuH1\n",
       "i3Op/FlSzuBC9WCWcpdT9ED/WyD9CaCv6pakzm5FJeZioyG/30lKiPFsv2gzIiIbRpnPT2gl2U3u\n",
       "WEgFYDiX5CjAp2x2v6TZ7RemN+kpn6dXe+JnwPgGomz5uYhgbuOVstK3AofkYZLW7pEiOFT06sLE\n",
       "tSppcSs7FOdZoYmGouvqpUG4NJ+lZ56Sq6Ni45qgGC93O3l1h6L9qTVNT3ECTj66jGnZEYWQr2xT\n",
       "waIo8hhzp1Orx9KXq8nRU6rTWGtro7ztv6YLdtPCgvCFmTfSsA+EPZ1pa1MK827ZoJqLvOC13zlm\n",
       "vVCM1MT49XYL1nOSrv9u1MZT/aLqZojFCDuUB1nochSVMgv1nnxZ3OfGtBJonVvDbqiv1QD/ANyP\n",
       "fuAv0KI+AAAAAElFTkSuQmCC\n",
       "\" style=\"display:inline;vertical-align:middle;\" /></a></dd>"
      ],
      "text/plain": [
       "<IPython.core.display.HTML object>"
      ]
     },
     "metadata": {},
     "output_type": "display_data"
    },
    {
     "data": {
      "text/html": [
       "<dt><a class=\"ProveItLink\" href=\"axioms.ipynb#ceil_of_x_less_eq\">proveit.numbers.rounding.ceil_of_x_less_eq</a></dt><dd><a class=\"ProveItLink\" href=\"../__pv_it/axioms/2e6b37719bd1a646b926904102c63034e5b9db880/expr.ipynb\"><img src=\"data:image/png;base64,iVBORw0KGgoAAAANSUhEUgAAAN4AAAAXBAMAAACWruz4AAAAMFBMVEX///8AAAAAAAAAAAAAAAAA\n",
       "AAAAAAAAAAAAAAAAAAAAAAAAAAAAAAAAAAAAAAAAAAAv3aB7AAAAD3RSTlMAq1RmmUTNIjK7EInv\n",
       "3XZ/CtNrAAAACXBIWXMAAA7EAAAOxAGVKw4bAAADKElEQVRIx7WVXUgUURTH/7sz487O6LS9Kcqy\n",
       "ZFAPSgNFYYRsWFlUsGj40JdbPfTxEBP0Ukhs9GRGWmE1CTKGVGbJFGFoENJTFMVCSUKsjGmBFiL0\n",
       "EPjUvTOzM7PLbAprF2bn3plzzm/OPf9zF1ihEQKOZCateW3mUyGbFRvfgI3u6oCvDWcAETqpLhoX\n",
       "1JfBwzSwk95PFs17gEK8oCd4iYbLdF+7iuY1FOIxnzX3MROnSIixonljBXjSV81r9g6MTNIsvnxJ\n",
       "f97gZK7dCeBDJvO+aB6r27yhqUevYg6v3+mLoQYIRJrPgN3AveUFjRd+VSLbvLgUZdNZXt9xx0Cv\n",
       "AbMAbAbOIRTxeNYObz+bG6uqZ88Lc+Kqqj2RxyuLWTxGYRYDcpYXcHh8bD8CxL8GCGti1pufUhOS\n",
       "iJe6E+d6RTe+YHQujyeM5CmsNGHxeLBJT/3OZ/dTwEeUkm7vJKU2HLnsSBFBSdhqOGUhmw2ZXyfn\n",
       "8YBZ2ZcHM6qPXrhFdJLoh8k0WU9+5htnFInGILw5WqijEXL0TFtUFi6Pm0KA3usMyyl3P4FWRdB8\n",
       "+oGk/YtWi1zPz5DHSkVJbMA0EEO9hCsYi/yYYGW0Zb2HN7RKu2autimmk/UqbFi8gUQVRL9+D0dw\n",
       "g34ludqIXBj08mg2eWwPjRu6n5a6OHPTBEP38C7WYtbcqW7LyRpixOJtuLoPTXnn2Skzvwj3m9z2\n",
       "UhWl6IM/RKyqqsYkSWwytaUHDOa0qt6EKGqC5tavElGqhHLbyVZa2uL1zwcbYn7ntVA5Q43HHYex\n",
       "EDrM/CTuEI1elihN8WZiTVcgenjjeEuaqDzrZI8JLPX/IBLhhtL2ok1MsqQzzPphNC7oKEu12geB\n",
       "HscRjz4nuAX0NTpO9ti0BG8YT0jebFbV7PfXcwjdJbOWH3r/Lv4Ngg23gQtkq5nV0ZFjHt7auiQe\n",
       "u072CCs+vKcZOmjqmCR1IPFyP2JQVe3WD+IhbtG+Vrvd1yZPUMKyz4FGpfyv/KpnaOQ7hc7Dg4hy\n",
       "yfyHJi9gtPh6XALWuKsOXxtJKcST0fwTvjyunoionShZVfCfx0oA/gKVO86sri/MBAAAAABJRU5E\n",
       "rkJggg==\n",
       "\" style=\"display:inline;vertical-align:middle;\" /></a></dd>"
      ],
      "text/plain": [
       "<IPython.core.display.HTML object>"
      ]
     },
     "metadata": {},
     "output_type": "display_data"
    },
    {
     "data": {
      "text/html": [
       "<dt><a class=\"ProveItLink\" href=\"axioms.ipynb#floor_is_an_int\">proveit.numbers.rounding.floor_is_an_int</a></dt><dd><a class=\"ProveItLink\" href=\"../__pv_it/axioms/ef4a67e9ee571b0eb9e3e2cb5f0ed83035f4ae030/expr.ipynb\"><img src=\"data:image/png;base64,iVBORw0KGgoAAAANSUhEUgAAAIoAAAAVBAMAAABrmWvBAAAAMFBMVEX///8AAAAAAAAAAAAAAAAA\n",
       "AAAAAAAAAAAAAAAAAAAAAAAAAAAAAAAAAAAAAAAAAAAv3aB7AAAAD3RSTlMAq1RmmUTNIjK7EInv\n",
       "3XZ/CtNrAAAACXBIWXMAAA7EAAAOxAGVKw4bAAACPUlEQVQ4y42UPWgUQRTH/3e3H+euDgcWSawW\n",
       "FJsoHBZKLOIK+QJRDhULTbGQQhIkrE1ASHEBuxCMAY2b6HFFmtPmcqCihVxjESUqgoLFwgaNRYrD\n",
       "LhYWvtmP2buwt8kUN+/d7Px483//GSB12NCq7VnSULHPYAZyRZHJZudq9s6/SfdpUfaAAs+Pd6H0\n",
       "I43CHpZhKcBPYJjnt5MhmpVKkUywYgNQqpjjJ1tMpkjFVErGRk2jrTmTg6AbyZTDSKSwZ+53v1Rg\n",
       "LFOm4IP/ldJFlpOJFHlatC1fuM+nCWDTdT92oVwKKVrr2HxDUGbi3h+qrvBpnYoCVrpQJkKKhC3v\n",
       "sqC0taI/5/HpLHAXaqFt5+lXF6ej+GtIOYcL1aOCYsUfW4EWp3hVeik65pZTYjpe18P8fUgpYyTW\n",
       "JU8SuD9CU74E6HwPyIGeEHeIBGcM5709FOBTTNFiW9S4RXqAcV7WIP20Rn/ZjG8gyo6550SQd/Fc\n",
       "nOiLoPSSY7Q/pALFjSnaa/cpRs2vUlcrUXMrAUV7lGmiLigt0WfzOlmPoAOUzJK4OVTyuOZTpFVR\n",
       "8npAyf5da8qGoCiG6PMU1KXFwBG+/bBLDXMcx2BMvxpRFsJarngnzsSu0/puBsvjjzeczxtU5DdR\n",
       "XVPFvF8Lk29FtjpSTrwB8pvgBogHJlJqVrckqtDXBW8jdemapd3G9ksbBNvvdqA+oejG7/raSLS+\n",
       "fCDKvc70heOUOv6oHYiyvM+LqXrIbrqBCbOu6yU/qzb+A8gMhtMgOXJMAAAAAElFTkSuQmCC\n",
       "\" style=\"display:inline;vertical-align:middle;\" /></a></dd>"
      ],
      "text/plain": [
       "<IPython.core.display.HTML object>"
      ]
     },
     "metadata": {},
     "output_type": "display_data"
    },
    {
     "data": {
      "text/html": [
       "<dt><a class=\"ProveItLink\" href=\"axioms.ipynb#floor_of_x_less_eq_x\">proveit.numbers.rounding.floor_of_x_less_eq_x</a></dt><dd><a class=\"ProveItLink\" href=\"../__pv_it/axioms/c68b5cfacaa00a4f0a64b832bc3c745ba71851820/expr.ipynb\"><img src=\"data:image/png;base64,iVBORw0KGgoAAAANSUhEUgAAAIoAAAAVBAMAAABrmWvBAAAAMFBMVEX///8AAAAAAAAAAAAAAAAA\n",
       "AAAAAAAAAAAAAAAAAAAAAAAAAAAAAAAAAAAAAAAAAAAv3aB7AAAAD3RSTlMAq1RmmUTNIjK7EInv\n",
       "3XZ/CtNrAAAACXBIWXMAAA7EAAAOxAGVKw4bAAACFUlEQVQ4y42UTUgbQRTH/9mPbLprF6EgKKUs\n",
       "WLyoVDxUFKortrZoLUHBi4IBD4IHWY8FD/GqFHsRXYWQQw6mgkQPLShKLr20WKTQ48KGth4Ec1V6\n",
       "6sxmdrMJs5oHu/Nm5s2P9968N8CdYkHNhmc8UXCP6AbEnmAmm1wj2QWaqdIeQelEAxT8Bl7RcYG/\n",
       "raYiKR2h6OJZrNLIPvIpUk8U5cVYyEw0KQiawac0IYJyfVxj982zikekpYNPUU/dWrt54NxxvkdQ\n",
       "xhlFLbetHwUUdSIAH5T2Tkgch8AbYCeCMs8oEkruhE9RW6rxm/oT6QJ4DixDaQ6d7P48vOTrPxml\n",
       "D0PZR4EvVYpoif9iZL8LeJDVkmw1UbKTuoYvBTb/yihpjIbyogQRJSCl6LgBCG6Q3JdpUq46Btw6\n",
       "CvAjIrtNnjZLvtQg+ZVf/7F0eoBQrsy6iCDf4BP3pucs2mfdRDtaJGet1riR91pHUzK+x5kKRd2M\n",
       "FVHgVF0++RgaGfvJt0KSKyKTwJRHkXaDSj6sUITbXFE26jqABI9na28xySoiRhdwQy7Mtm1D17VJ\n",
       "3/QD8+Wd+7SX1425sjBCL+yXv5AoKlj3fNHlGf9JeZhuqKeVC6asaCmJ3LmXFxyb1TZrhCL5JtLf\n",
       "syso20SbvizkRv39LQ5FdTxJVynva6H7tp2sWcg35MvWPS+m4kI4dyo1JjiOy39WLfwHeyd8dJUM\n",
       "MvgAAAAASUVORK5CYII=\n",
       "\" style=\"display:inline;vertical-align:middle;\" /></a></dd>"
      ],
      "text/plain": [
       "<IPython.core.display.HTML object>"
      ]
     },
     "metadata": {},
     "output_type": "display_data"
    },
    {
     "data": {
      "text/html": [
       "<dt><a class=\"ProveItLink\" href=\"axioms.ipynb#floor_of_x_greater_eq\">proveit.numbers.rounding.floor_of_x_greater_eq</a></dt><dd><a class=\"ProveItLink\" href=\"../__pv_it/axioms/8a943a94e0b6aa3a308f4498efe5fa3690a6b9500/expr.ipynb\"><img src=\"data:image/png;base64,iVBORw0KGgoAAAANSUhEUgAAAN4AAAAXBAMAAACWruz4AAAAMFBMVEX///8AAAAAAAAAAAAAAAAA\n",
       "AAAAAAAAAAAAAAAAAAAAAAAAAAAAAAAAAAAAAAAAAAAv3aB7AAAAD3RSTlMAq1RmmUTNIjK7EInv\n",
       "3XZ/CtNrAAAACXBIWXMAAA7EAAAOxAGVKw4bAAADLElEQVRIx7WVXUgUURTH/7s7687O6LRCEKYs\n",
       "C4YlKC0UhUGysZV9wqLhQ19u9BD1ENNjIbHRUx+kFVaTIEuIZR8yRRgahfQURbEvki8rY1qglQg9\n",
       "BD517p3ZdUbHFNYuzMydveec355z//cMsEIjADx2vLnbrNj4CmyaezvkauM3gBCbVBaM8+rL4GEc\n",
       "2MWepwrm9cCF1xOdZ1WUxiVW1/aCeXE3nvTGcFr5YgwJOVIwbwiu9fw16DT7AB/lXFT49iXdedju\n",
       "BJ4EPmWzHwvmCbrF6xt79Dpi10tVA3/0xSGRNJ8De4D7ywsaW3ypKGrxYkpYyDj02byW3fUa+GaA\n",
       "LcA5BEI2z9r+HWedsSo6977kE6eqqlXbS0nE5PlU36wn6uSxbMTIQXjIvwYIpuWEtSSOaQlFxis9\n",
       "b3yjrANfMDi1kFftkF5xwuSJEJLO81e1hisVn1FMHm201UZeLjtTgKJgWz6UQMVGVFwfXcCrcx6t\n",
       "HA88ql0v+6zWMos2in6Upsl6uk03TKgKi0G8KbZRx0PUesZNqoA5nn8MHmCSnyDm5Kwn0KJKaZfz\n",
       "QGn/ZLtF14szRFHLiiK9bEGRA13ElYxZcUgyM9q6wcbrW5W+juscx53MpaBh8noTFZDdznswhJus\n",
       "LHS1klx86BLRxIMInSxu4EFGaffzokmGbuNdqMUkvJ1pWE7mkEMmb+PVA2h062dCyP+bHvvp8qTY\n",
       "D39IrJqmRRRFZg7w6B7Dd1rTbkGW06xEuf0rR5iqyoHMyVJaxuR1T3vjEbd+LZVPMOPhvMNQANd4\n",
       "for/CItVkihOiTyxxsuQbbxhvGf2q1XTyRojWOr7IJNwAxnrpVVOCnQy+P5hMCbpKEm1WI1Aj+GY\n",
       "TZ8j/hn+7SxNcydrbF6C14+nlLeQK7Dw7e0UAvfY8fyud+8W38EbvwOcp1L7SsMDJ2y8dXVJ62PN\n",
       "nXJ6UF14z7JssNQxSvtA8Zx/4ommWUffi4e4TVUf0DrmljlPUoNRl4bGpPyv/ConWOS7i/XDwwj7\n",
       "k/N/5DyP0ezqcZGaVXbU6om5ybyhqIvxomj6AVeev55EdIWUrKn4z2MlAH8BETDLWER7KnwAAAAA\n",
       "SUVORK5CYII=\n",
       "\" style=\"display:inline;vertical-align:middle;\" /></a></dd>"
      ],
      "text/plain": [
       "<IPython.core.display.HTML object>"
      ]
     },
     "metadata": {},
     "output_type": "display_data"
    },
    {
     "data": {
      "text/html": [
       "<dt><a class=\"ProveItLink\" href=\"axioms.ipynb#round_is_an_int\">proveit.numbers.rounding.round_is_an_int</a></dt><dd><a class=\"ProveItLink\" href=\"../__pv_it/axioms/7e9ffadf6c95626d0d18d18d4e0a54f55a70f30d0/expr.ipynb\"><img src=\"data:image/png;base64,iVBORw0KGgoAAAANSUhEUgAAAMIAAAAVBAMAAADm9CyVAAAAMFBMVEX///8AAAAAAAAAAAAAAAAA\n",
       "AAAAAAAAAAAAAAAAAAAAAAAAAAAAAAAAAAAAAAAAAAAv3aB7AAAAD3RSTlMAq1RmmUTNIjK7EInv\n",
       "3XZ/CtNrAAAACXBIWXMAAA7EAAAOxAGVKw4bAAADKUlEQVRIx41VbUgTYRz/bbvttrt5DgJLijEI\n",
       "6oOK+xTlh5z0Jlgw7OVDCQ4KIhE5CYLAaEWfrGhGVLOSC4QaQbuEXkwaRvTBohpRQchiIwvxg0gR\n",
       "hkT0v+dut5e8zYPtnuf3/P7v//9zQMVHBlZE4C2O+WryUmCFBGe27MDe++dY5mZQw33afr2FggZr\n",
       "3e7eUDHha7npoSgiLobv0PZHl9ciRCq4XxsoJriU0lMuBCk4xvAzWrZiyyvhghUsdCvFBEeo9NQm\n",
       "IyHEGK4ZFy3S7a1UgmelhFdGdm5lPrHwgXZblOEOcsNloWRDJQtHSgmH9Yr3mdly+84Z+JtM5rWF\n",
       "kg7ijfMd5EMqFxZmgrApztyd1Ajlde3sD52A+7m7E5SDB0ziRKEcHmVYexHeDgxbWCD7oqdDnMSp\n",
       "ML8o2ifRSns/kjK6ZM+S4XhI8nNpYBPKWqbBwTqY8H7wviKtTY/a+vLr98BxV5pT8QWYPkt66rC/\n",
       "JobTUeEFuIhOcMiOJRtF2cgkipovoue+UYtGDOdTl4uHJRGPVWP/EhisJWluAXiueLN4CyUZRrNC\n",
       "QI2qE9y6LVxiCijlmc/GLD4EFIbbs2aht1PxJQkt2YIF1pTeGPi/tOJ/A82gSAhIhg0CvIzexTqo\n",
       "0PYJbQRW63hkK/3N75qRJa27ycJcqJAl7KFfMgtxkVbSgqYePwUCWvMEdMsCedHEJNKmhTU0EcKC\n",
       "jo/1kF653hVIsOhEfiQ/R9Q0mNbGNwiviiF4Yi14DfuSmAygzi4zQiK8DiJxtjCJebNXQ/to7NI6\n",
       "PkCFdmDEjb3MAnfDDJU6jf+lzbYPV4A2XFBVSpQU2ezJ2j9wOqF5cDc6jcalyQqYvdoD/nJMx9no\n",
       "YZEaKx6PByRJ7MxbuEgjxOKemKGs305t9EdpL6wKCP4n/bM6YXTevk1T+1G/yeoP6qJdV6fi76bU\n",
       "PK5FNcnjPItBch7Kj01NtMrlXSDwRgWc4/qtUY5jQIxwFBmrA56GLK6z/54CweqSNHHuW2oO/HVa\n",
       "Hfiuju7Mn1+r9okyCSctCGX4vXg8XAIkqllIVPOlmo98doUEyeKDTvg/kJHSzOnyofMAAAAASUVO\n",
       "RK5CYII=\n",
       "\" style=\"display:inline;vertical-align:middle;\" /></a></dd>"
      ],
      "text/plain": [
       "<IPython.core.display.HTML object>"
      ]
     },
     "metadata": {},
     "output_type": "display_data"
    },
    {
     "data": {
      "text/html": [
       "<dt><a class=\"ProveItLink\" href=\"axioms.ipynb#round_is_closest_int\">proveit.numbers.rounding.round_is_closest_int</a></dt><dd><a class=\"ProveItLink\" href=\"../__pv_it/axioms/cc9d1ec84be91daccfd48f3d0a22897fe10690e40/expr.ipynb\"><img src=\"data:image/png;base64,iVBORw0KGgoAAAANSUhEUgAAAUUAAAAWBAMAAAClN5ODAAAAMFBMVEX///8AAAAAAAAAAAAAAAAA\n",
       "AAAAAAAAAAAAAAAAAAAAAAAAAAAAAAAAAAAAAAAAAAAv3aB7AAAAD3RSTlMAq1RmmUTNIjK7EInv\n",
       "3XZ/CtNrAAAACXBIWXMAAA7EAAAOxAGVKw4bAAAEN0lEQVRIx81XXWgcVRT+dvZnZu/sTlcKgWhZ\n",
       "BhTri2SQYqVgkxAbf2p1SNGHapsVBFFUpvgktHXVt1Zk/Ym4FsJEgrUK7lC0mpQuY/tYlH0QDJTI\n",
       "rEYbIoagSEIexHvv3N3OhJ2dCfjgCezeufe7335zzrnn3ADbM5n+xWN8s3ovW7ETwSUL27afoZrx\n",
       "GN+O9V7+KnYiuMRISmx4e1KJktNPo/LiiI/xTTP+A42M5AAbPpdU4yfo68cduo8R9kKcxjutWI2M\n",
       "5HWWQLWkGsf6a5y0fYywPTEa738k3o+MJEdpVT2pRre/xssCI6xg99X4x3yCWDOSNI13LnE6Vvpr\n",
       "fFZghOWMPhrJZS9JPnKS7xYXryXVmHGYRmVOPkg3NtsmWTKQsrPtc81pmjG3Lf8pMGT11jMXKLQU\n",
       "3v5F+9NLupBEDhk3hTCemQgsI3kI+CipRvZOqqnmD6ouTpryuiq5GIaaL6Nh4WkrvykwGbS9Q0C6\n",
       "Et4+opUzLV8jGdADzvJ5emMZyXHIwde9++Loy2H0rrMPfymGRZ1pfCXXos76Cbj+BqUZwBPFGl6r\n",
       "kqvIVARmL4btnTTsbogobaU3U4bwY0gj4xmMwDKSvN3NMKVdNzUVXztd6NuDU/gR8yudQ2Ayjad3\n",
       "MFetAd/aBQ/fw26YGLLpRNERmCrGOd8a89hLi8yq9NF/CV+jHIy1z0PLFocuIIhlJJLXPTIPUCJN\n",
       "wz6vm380EWAou42QRl5iCjXI/9CRvAEMUbewiYYpMOC/iKy7JVcKXsSZmbSVjQgsJ6nspx+rDy5Z\n",
       "vC9QjSusWxwr0Rb0i680g1CsQVMNDQ/qOh1pa0wg/iJ0YriDQXYdn9HXb22tnxaxe9aecWhuBJaT\n",
       "XKCVXLMGc/p53sBUeZpqJd6m4hK/tu+9q7Mv73GN11lLMVBw8A7ytX24BmlTbegYkCyOIVMpFzTu\n",
       "6XBvOG/ugtq7hlOeUgSWk5ygq2lMKzjMNWbOskn545ZWy/IYE6+bn6wOqKb8N3NuCe8Do3jLcWi4\n",
       "tcp9eU/6IeNjpI1ZN6v7ZShgQ6cfxUS4F1aFxlFMGhFYTpLiwHXg3nq9rmuaOsGeU07KSz9fr78L\n",
       "VbWJaBhKi2nM8hBeWqKJN9PcXa7SZ7JTJ+Vvji/7GPKYd8c9LOzhcj+7Ko3pve8UM83HrQjsTRLF\n",
       "lXGG+1HLPmVz/kJV4X6YeBNqp6ktIP5uttAdndzGvediFLZLckKtZGgV4vmI+RHioFidFMXdGcHR\n",
       "wC0hVuOe4A0kmUa1Qq5EYbskmV+bK5A/pKMnf3Nmx5UrkMY+AF6laZC+pTz3TPfQWPEa852oRVyn\n",
       "/D6z2KmabKLopZwI7FaSz+t1IUDCObxHmebqUyEEPemxGkltq9hYP0r7D0TdKfKR/ywcQTlb6bVw\n",
       "Clo1rqufEt83ei8vx04El25Erhk4/Dv+L/Yv1NFM7Oelkg8AAAAASUVORK5CYII=\n",
       "\" style=\"display:inline;vertical-align:middle;\" /></a></dd>"
      ],
      "text/plain": [
       "<IPython.core.display.HTML object>"
      ]
     },
     "metadata": {},
     "output_type": "display_data"
    },
    {
     "data": {
      "text/html": [
       "<dt><a class=\"ProveItLink\" href=\"axioms.ipynb#round_up\">proveit.numbers.rounding.round_up</a></dt><dd><a class=\"ProveItLink\" href=\"../__pv_it/axioms/52e1dc378643a3ca4d15b31ae377fbc593b0a0270/expr.ipynb\"><img src=\"data:image/png;base64,iVBORw0KGgoAAAANSUhEUgAAAWwAAAAXBAMAAADdI2g8AAAAMFBMVEX///8AAAAAAAAAAAAAAAAA\n",
       "AAAAAAAAAAAAAAAAAAAAAAAAAAAAAAAAAAAAAAAAAAAv3aB7AAAAD3RSTlMAq1RmmUTNIjK7EInv\n",
       "3XZ/CtNrAAAACXBIWXMAAA7EAAAOxAGVKw4bAAAEh0lEQVRYw72XX4gbVRTGv0xmMpmZzTQgPnSV\n",
       "ErXYB7s0VKvog6bUdhVtDRWEslaDPgiKMgsiiKUbX5S6SlNQ1iiss7CIW6WMK1RZy5oHRXSxLEJB\n",
       "kchsrVUrxFKRLftQPPfOnztpZjI+mL2QyTn3frn3N2fOPXcCrFdTUxVWovBg+2fPkNrt8n+Y6X9s\n",
       "Z9MEZsn7VtyeoVuFqVS4oMjsmwZPLTnJY698ya63BO4vKdhMsJvZTw0e+/1+g5foo9cCL2enYJPg\n",
       "ZZZNjcFj7+ozpqzRRS4HbraSgk0CdmtGafDYrT5jxjJdhoT/bQo2CbJ0k7l1SO1an8EcQ7lZ+E+m\n",
       "YZPgu3Z7afDYMu3Iycbzn1BoO9fiBKXMMB4bfukPKgrji0fZ036APidWPvic7I/jsPXO8OS8j02C\n",
       "+4B3Yhfyw2RFO4Os0x2Yke4tKDR5Sco3n+maJKxlOXqozpvOKahnMGE5W5G9COeYq69C+Rrv2X6I\n",
       "K+YmmRLmdr5+m7digC1jxd3rY5NgHGoxstDIyZ3PcUPz/B1dGIFSr4hboC1SRSawZ+PuHSiUoJaf\n",
       "pZAWXBQ+K+1FpqZUf4R6GR+VsYcpvqd5rOxahu5va1y078A99jU+Ngk026j6o/mVZtU08KkjsPVi\n",
       "IvZY2DuDJGwlqNZDVeTtv8l4iOxhnMaQq+v/QFpjHT8xxVe0PmS+BY7GYde9u+PYJJDccEfeW6ez\n",
       "ysRdrsCWq4nYorzuTsTG0wLbq3PfABMuWRN1SBcp5tRB+B42yfjSj8ZvydMhNhPU7qZLZ/ScZbLK\n",
       "SdgXKgK7QD3nDo9GsLnLsEXZXPaw2RwRbO7OiyQBS1v9CvCFRdZfYMwbysevsDT3kgR43NIpGCNx\n",
       "uQ1lFcd9bCaYp4iY1sZcaY6/GRjqdFlgvwD8lmk8EcHmLsOWKri/Sa2s1jg2n0Nge+5m39MojAWW\n",
       "MZQoS9CKaGbtIQfb7IVLhL+FBqaBuer1MMi8Myba+luZFhwfmwkOEUsW03k8zFeT321EtuQBoKy5\n",
       "9Qg2dxm2EpytzMj4cwhszz0QnCj0ywmWcDuhVSAX80sGy5Pz2fo0Rip+Udv22oPY79fCq7Gly7Mt\n",
       "peRjM0GGQ61SWaHQlUzT2B/BvoE+GywqbNSmvNwml2PnA2yp6Of2qpfbR5jY8twjwW6nBDnI+Rdp\n",
       "J+jXnR3/nfkz2zHz56ubGMEb9NuOtItl3pm4aO9zN28PcjsU5FsqJnm0TWXMFths2ddhRbckc7uS\n",
       "JO9Fm88RyW3uBkmCH9IOpEL4SNXllFMyFBwyajKVQp7bWOjakmrrpCjRRd9l2KbbvSX5HALbczuB\n",
       "e1satniBEi9VCdihQP518QLUt8l65Lwzu0dgaxb2jXXsSLS5y7C18BlMcWw+h8D23KnA1aw07lD6\n",
       "Ytr79lWCD5tNUaa17vOit27Phb1jiXVbb/RaSW2uhz8Je6rPLP7hPpqILUZkK/FwFzE+nPpn0w0q\n",
       "Z8/QjcLMO3GCHmzDTsDORs7PhSTsHVjvFvw/7sLeeMyrL80S9GguiH/Tetck9oDg/gXzSzTaSzxJ\n",
       "IgAAAABJRU5ErkJggg==\n",
       "\" style=\"display:inline;vertical-align:middle;\" /></a></dd>"
      ],
      "text/plain": [
       "<IPython.core.display.HTML object>"
      ]
     },
     "metadata": {},
     "output_type": "display_data"
    }
   ],
   "source": [
    "import proveit\n",
    "%theory # toggles between interactive and static modes"
   ]
  }
 ],
 "metadata": {
  "kernelspec": {
   "display_name": "Python 3",
   "language": "python",
   "name": "python3"
  }
 },
 "nbformat": 4,
 "nbformat_minor": 0
}