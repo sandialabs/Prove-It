{
 "cells": [
  {
   "cell_type": "markdown",
   "metadata": {},
   "source": [
    "Expression of type <a class=\"ProveItLink\" href=\"../../../../../../../doc/html/api/proveit.Lambda.html\">Lambda</a>\n",
    "=======================\n",
    "# from the theory of <a class=\"ProveItLink\" href=\"../../../_theory_nbs_/theory.ipynb\">proveit.numbers.rounding</a>"
   ]
  },
  {
   "cell_type": "code",
   "execution_count": 1,
   "metadata": {},
   "outputs": [],
   "source": [
    "import proveit\n",
    "# Automation is not needed when building an expression:\n",
    "proveit.defaults.automation = False # This will speed things up.\n",
    "proveit.defaults.inline_pngs = False # Makes files smaller.\n",
    "%load_expr # Load the stored expression as 'stored_expr'\n",
    "# import Expression classes needed to build the expression\n",
    "from proveit import Conditional, Lambda, x\n",
    "from proveit.logic import Equals, InSet\n",
    "from proveit.numbers import Add, Ceil, Floor, Neg, Real, zero"
   ]
  },
  {
   "cell_type": "code",
   "execution_count": 2,
   "metadata": {},
   "outputs": [
    {
     "data": {
      "text/html": [
       "<strong id=\"expr\">expr:</strong> <a class=\"ProveItLink\" href=\"expr.ipynb\"><img src=\"expr.png\" style=\"display:inline;vertical-align:middle;\" /></a><br>"
      ],
      "text/plain": [
       "<IPython.core.display.HTML object>"
      ]
     },
     "metadata": {},
     "output_type": "display_data"
    }
   ],
   "source": [
    "# build up the expression from sub-expressions\n",
    "expr = Lambda(x, Conditional(Equals(Add(Floor(x), Ceil(Neg(x))), zero), InSet(x, Real)))"
   ]
  },
  {
   "cell_type": "code",
   "execution_count": 3,
   "metadata": {},
   "outputs": [
    {
     "name": "stdout",
     "output_type": "stream",
     "text": [
      "Passed sanity check: expr matches stored_expr\n"
     ]
    }
   ],
   "source": [
    "# check that the built expression is the same as the stored expression\n",
    "assert expr == stored_expr\n",
    "assert expr._style_id == stored_expr._style_id\n",
    "print(\"Passed sanity check: expr matches stored_expr\")"
   ]
  },
  {
   "cell_type": "code",
   "execution_count": 4,
   "metadata": {},
   "outputs": [
    {
     "name": "stdout",
     "output_type": "stream",
     "text": [
      "x \\mapsto \\left\\{\\left(\\left\\lfloor x\\right\\rfloor + \\left\\lceil -x\\right\\rceil\\right) = 0 \\textrm{ if } x \\in \\mathbb{R}\\right..\n"
     ]
    }
   ],
   "source": [
    "# Show the LaTeX representation of the expression for convenience if you need it.\n",
    "print(stored_expr.latex())"
   ]
  },
  {
   "cell_type": "code",
   "execution_count": 5,
   "metadata": {},
   "outputs": [
    {
     "data": {
      "text/html": [
       "no style options"
      ],
      "text/plain": [
       "no style options"
      ]
     },
     "metadata": {},
     "output_type": "display_data"
    }
   ],
   "source": [
    "stored_expr.style_options()"
   ]
  },
  {
   "cell_type": "code",
   "execution_count": 6,
   "metadata": {},
   "outputs": [
    {
     "data": {
      "text/html": [
       "<table><tr><th>&nbsp;</th><th>core type</th><th>sub-expressions</th><th>expression</th></tr>\n",
       "<tr><td>0</td><td>Lambda</td><td>parameter:&nbsp;21<br>body:&nbsp;1<br></td><td><a class=\"ProveItLink\" href=\"expr.ipynb\"><img src=\"expr.png\" style=\"display:inline;vertical-align:middle;\" /></a></td></tr>\n",
       "<tr><td>1</td><td>Conditional</td><td>value:&nbsp;2<br>condition:&nbsp;3<br></td><td><a class=\"ProveItLink\" href=\"../dd866ba58910aae2e4c12b0a39727b161434c61b0/expr.ipynb\"><img src=\"../dd866ba58910aae2e4c12b0a39727b161434c61b0/expr.png\" style=\"display:inline;vertical-align:middle;\" /></a></td></tr>\n",
       "<tr><td>2</td><td>Operation</td><td>operator:&nbsp;4<br>operands:&nbsp;5<br></td><td><a class=\"ProveItLink\" href=\"../fef9c817ac8d9452c00d6e41712ffa55435bccc30/expr.ipynb\"><img src=\"../fef9c817ac8d9452c00d6e41712ffa55435bccc30/expr.png\" style=\"display:inline;vertical-align:middle;\" /></a></td></tr>\n",
       "<tr><td>3</td><td>Operation</td><td>operator:&nbsp;6<br>operands:&nbsp;7<br></td><td><a class=\"ProveItLink\" href=\"../d1323f34847310a404e8089c2c268d3c2eb89dbf0/expr.ipynb\"><img src=\"../d1323f34847310a404e8089c2c268d3c2eb89dbf0/expr.png\" style=\"display:inline;vertical-align:middle;\" /></a></td></tr>\n",
       "<tr><td>4</td><td>Literal</td><td></td><td><a class=\"ProveItLink\" href=\"../../../../../logic/equality/__pv_it/common/fb96dc12b2aa8801dda64d0132b396c63d1502bb0/expr.ipynb\"><img src=\"../../../../../logic/equality/__pv_it/common/fb96dc12b2aa8801dda64d0132b396c63d1502bb0/expr.png\" style=\"display:inline;vertical-align:middle;\" /></a></td></tr>\n",
       "<tr><td>5</td><td>ExprTuple</td><td>8, 9</td><td><a class=\"ProveItLink\" href=\"../ef13247a816e86e30f15a47179f07e766c14cc990/expr.ipynb\"><img src=\"../ef13247a816e86e30f15a47179f07e766c14cc990/expr.png\" style=\"display:inline;vertical-align:middle;\" /></a></td></tr>\n",
       "<tr><td>6</td><td>Literal</td><td></td><td><a class=\"ProveItLink\" href=\"../../../../../logic/sets/membership/__pv_it/common/477487d8796864d23d5810f83761435f25167f690/expr.ipynb\"><img src=\"../../../../../logic/sets/membership/__pv_it/common/477487d8796864d23d5810f83761435f25167f690/expr.png\" style=\"display:inline;vertical-align:middle;\" /></a></td></tr>\n",
       "<tr><td>7</td><td>ExprTuple</td><td>21, 10</td><td><a class=\"ProveItLink\" href=\"../d87b972e3e29265b9fca1a9cb6e1de56983159ab0/expr.ipynb\"><img src=\"../d87b972e3e29265b9fca1a9cb6e1de56983159ab0/expr.png\" style=\"display:inline;vertical-align:middle;\" /></a></td></tr>\n",
       "<tr><td>8</td><td>Operation</td><td>operator:&nbsp;11<br>operands:&nbsp;12<br></td><td><a class=\"ProveItLink\" href=\"../dc634bf7bfebdefd4d679ce19b01696fc6bf84500/expr.ipynb\"><img src=\"../dc634bf7bfebdefd4d679ce19b01696fc6bf84500/expr.png\" style=\"display:inline;vertical-align:middle;\" /></a></td></tr>\n",
       "<tr><td>9</td><td>Literal</td><td></td><td><a class=\"ProveItLink\" href=\"../../../../numerals/__pv_it/common/dd4e19e8b134dfb293470ea55fe3589b0ab9f8040/expr.ipynb\"><img src=\"../../../../numerals/__pv_it/common/dd4e19e8b134dfb293470ea55fe3589b0ab9f8040/expr.png\" style=\"display:inline;vertical-align:middle;\" /></a></td></tr>\n",
       "<tr><td>10</td><td>Literal</td><td></td><td><a class=\"ProveItLink\" href=\"../../../../number_sets/real_numbers/__pv_it/common/93cac87a1a47e613f7a83b23ef7891599a1a4cca0/expr.ipynb\"><img src=\"../../../../number_sets/real_numbers/__pv_it/common/93cac87a1a47e613f7a83b23ef7891599a1a4cca0/expr.png\" style=\"display:inline;vertical-align:middle;\" /></a></td></tr>\n",
       "<tr><td>11</td><td>Literal</td><td></td><td><a class=\"ProveItLink\" href=\"../../../../addition/__pv_it/common/4b7effaab3619a1c2c38fe2dee8601df8ec714590/expr.ipynb\"><img src=\"../../../../addition/__pv_it/common/4b7effaab3619a1c2c38fe2dee8601df8ec714590/expr.png\" style=\"display:inline;vertical-align:middle;\" /></a></td></tr>\n",
       "<tr><td>12</td><td>ExprTuple</td><td>13, 14</td><td><a class=\"ProveItLink\" href=\"../a3f749c6b2243d6dfdeedaaabbdc5f6523f8b1c50/expr.ipynb\"><img src=\"../a3f749c6b2243d6dfdeedaaabbdc5f6523f8b1c50/expr.png\" style=\"display:inline;vertical-align:middle;\" /></a></td></tr>\n",
       "<tr><td>13</td><td>Operation</td><td>operator:&nbsp;15<br>operand:&nbsp;21<br></td><td><a class=\"ProveItLink\" href=\"../44713cf7f4ebb43f934d29140d15dff5c73b25e30/expr.ipynb\"><img src=\"../44713cf7f4ebb43f934d29140d15dff5c73b25e30/expr.png\" style=\"display:inline;vertical-align:middle;\" /></a></td></tr>\n",
       "<tr><td>14</td><td>Operation</td><td>operator:&nbsp;16<br>operand:&nbsp;18<br></td><td><a class=\"ProveItLink\" href=\"../778d2655079f592dc97b4c9ef2d03e53c53b57210/expr.ipynb\"><img src=\"../778d2655079f592dc97b4c9ef2d03e53c53b57210/expr.png\" style=\"display:inline;vertical-align:middle;\" /></a></td></tr>\n",
       "<tr><td>15</td><td>Literal</td><td></td><td><a class=\"ProveItLink\" href=\"../../common/6c084083358c4fee8d4be9f66e84060cea5608e90/expr.ipynb\"><img src=\"../../common/6c084083358c4fee8d4be9f66e84060cea5608e90/expr.png\" style=\"display:inline;vertical-align:middle;\" /></a></td></tr>\n",
       "<tr><td>16</td><td>Literal</td><td></td><td><a class=\"ProveItLink\" href=\"../../common/468bbdabad0328579afc2777e0e196d5e9a2f5740/expr.ipynb\"><img src=\"../../common/468bbdabad0328579afc2777e0e196d5e9a2f5740/expr.png\" style=\"display:inline;vertical-align:middle;\" /></a></td></tr>\n",
       "<tr><td>17</td><td>ExprTuple</td><td>18</td><td><a class=\"ProveItLink\" href=\"../feac92d6394e6c44a805ca612d862b6b88f8b4d90/expr.ipynb\"><img src=\"../feac92d6394e6c44a805ca612d862b6b88f8b4d90/expr.png\" style=\"display:inline;vertical-align:middle;\" /></a></td></tr>\n",
       "<tr><td>18</td><td>Operation</td><td>operator:&nbsp;19<br>operand:&nbsp;21<br></td><td><a class=\"ProveItLink\" href=\"../8ae6bcf9f63d27c3e43ea63be5df603397837e130/expr.ipynb\"><img src=\"../8ae6bcf9f63d27c3e43ea63be5df603397837e130/expr.png\" style=\"display:inline;vertical-align:middle;\" /></a></td></tr>\n",
       "<tr><td>19</td><td>Literal</td><td></td><td><a class=\"ProveItLink\" href=\"../../../../negation/__pv_it/common/221b3c4d1770ee9051b7c044c3f9ec61196fc34b0/expr.ipynb\"><img src=\"../../../../negation/__pv_it/common/221b3c4d1770ee9051b7c044c3f9ec61196fc34b0/expr.png\" style=\"display:inline;vertical-align:middle;\" /></a></td></tr>\n",
       "<tr><td>20</td><td>ExprTuple</td><td>21</td><td><a class=\"ProveItLink\" href=\"../../../../../__pv_it/common/eacfeccc0521684fcb20fe8f5180ac50fca471f20/expr.ipynb\"><img src=\"../../../../../__pv_it/common/eacfeccc0521684fcb20fe8f5180ac50fca471f20/expr.png\" style=\"display:inline;vertical-align:middle;\" /></a></td></tr>\n",
       "<tr><td>21</td><td>Variable</td><td></td><td><a class=\"ProveItLink\" href=\"../../../../../__pv_it/common/a0d9d672aa5e272d907247690c152cc2c6daafb70/expr.ipynb\"><img src=\"../../../../../__pv_it/common/a0d9d672aa5e272d907247690c152cc2c6daafb70/expr.png\" style=\"display:inline;vertical-align:middle;\" /></a></td></tr>\n",
       "</table>\n"
      ],
      "text/plain": [
       "0. x -> {(floor(x) + ceil(-x)) = 0 if x in Real.\n",
       "   core type: Lambda\n",
       "   parameter: 21\n",
       "   body: 1\n",
       "1. {(floor(x) + ceil(-x)) = 0 if x in Real.\n",
       "   core type: Conditional\n",
       "   value: 2\n",
       "   condition: 3\n",
       "2. (floor(x) + ceil(-x)) = 0\n",
       "   core type: Operation\n",
       "   operator: 4\n",
       "   operands: 5\n",
       "3. x in Real\n",
       "   core type: Operation\n",
       "   operator: 6\n",
       "   operands: 7\n",
       "4. =\n",
       "   core type: Literal\n",
       "   sub-expressions: \n",
       "5. (floor(x) + ceil(-x), 0)\n",
       "   core type: ExprTuple\n",
       "   sub-expressions: 8, 9\n",
       "6. in\n",
       "   core type: Literal\n",
       "   sub-expressions: \n",
       "7. (x, Real)\n",
       "   core type: ExprTuple\n",
       "   sub-expressions: 21, 10\n",
       "8. floor(x) + ceil(-x)\n",
       "   core type: Operation\n",
       "   operator: 11\n",
       "   operands: 12\n",
       "9. 0\n",
       "   core type: Literal\n",
       "   sub-expressions: \n",
       "10. Real\n",
       "    core type: Literal\n",
       "    sub-expressions: \n",
       "11. +\n",
       "    core type: Literal\n",
       "    sub-expressions: \n",
       "12. (floor(x), ceil(-x))\n",
       "    core type: ExprTuple\n",
       "    sub-expressions: 13, 14\n",
       "13. floor(x)\n",
       "    core type: Operation\n",
       "    operator: 15\n",
       "    operand: 21\n",
       "14. ceil(-x)\n",
       "    core type: Operation\n",
       "    operator: 16\n",
       "    operand: 18\n",
       "15. floor\n",
       "    core type: Literal\n",
       "    sub-expressions: \n",
       "16. ceil\n",
       "    core type: Literal\n",
       "    sub-expressions: \n",
       "17. (-x)\n",
       "    core type: ExprTuple\n",
       "    sub-expressions: 18\n",
       "18. -x\n",
       "    core type: Operation\n",
       "    operator: 19\n",
       "    operand: 21\n",
       "19. -\n",
       "    core type: Literal\n",
       "    sub-expressions: \n",
       "20. (x)\n",
       "    core type: ExprTuple\n",
       "    sub-expressions: 21\n",
       "21. x\n",
       "    core type: Variable\n",
       "    sub-expressions: "
      ]
     },
     "metadata": {},
     "output_type": "display_data"
    }
   ],
   "source": [
    "# display the expression information\n",
    "stored_expr.expr_info()"
   ]
  },
  {
   "cell_type": "code",
   "execution_count": null,
   "metadata": {},
   "outputs": [],
   "source": []
  }
 ],
 "metadata": {
  "kernelspec": {
   "display_name": "Python 3",
   "language": "python",
   "name": "python3"
  }
 },
 "nbformat": 4,
 "nbformat_minor": 0
}