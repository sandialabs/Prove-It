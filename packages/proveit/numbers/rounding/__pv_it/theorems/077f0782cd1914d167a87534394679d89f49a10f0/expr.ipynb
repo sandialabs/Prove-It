{
 "cells": [
  {
   "cell_type": "markdown",
   "metadata": {},
   "source": [
    "Expression of type <a class=\"ProveItLink\" href=\"../../../../../../../doc/html/api/proveit.ExprTuple.html\">ExprTuple</a>\n",
    "=======================\n",
    "# from the theory of <a class=\"ProveItLink\" href=\"../../../_theory_nbs_/theory.ipynb\">proveit.numbers.rounding</a>"
   ]
  },
  {
   "cell_type": "code",
   "execution_count": 1,
   "metadata": {},
   "outputs": [],
   "source": [
    "import proveit\n",
    "# Automation is not needed when building an expression:\n",
    "proveit.defaults.automation = False # This will speed things up.\n",
    "proveit.defaults.inline_pngs = False # Makes files smaller.\n",
    "%load_expr # Load the stored expression as 'stored_expr'\n",
    "# import Expression classes needed to build the expression\n",
    "from proveit import Conditional, ExprTuple, Lambda, n, x\n",
    "from proveit.logic import Equals, Forall, InSet\n",
    "from proveit.numbers import Add, Ceil, Integer, Real"
   ]
  },
  {
   "cell_type": "code",
   "execution_count": 2,
   "metadata": {},
   "outputs": [
    {
     "data": {
      "text/html": [
       "<strong id=\"expr\">expr:</strong> <a class=\"ProveItLink\" href=\"expr.ipynb\"><img src=\"expr.png\" style=\"display:inline;vertical-align:middle;\" /></a><br>"
      ],
      "text/plain": [
       "<IPython.core.display.HTML object>"
      ]
     },
     "metadata": {},
     "output_type": "display_data"
    }
   ],
   "source": [
    "# build up the expression from sub-expressions\n",
    "expr = ExprTuple(Lambda(x, Conditional(Forall(instance_param_or_params = [n], instance_expr = Equals(Ceil(Add(x, n)), Add(Ceil(x), n)), domain = Integer), InSet(x, Real))))"
   ]
  },
  {
   "cell_type": "code",
   "execution_count": 3,
   "metadata": {},
   "outputs": [
    {
     "name": "stdout",
     "output_type": "stream",
     "text": [
      "Passed sanity check: expr matches stored_expr\n"
     ]
    }
   ],
   "source": [
    "# check that the built expression is the same as the stored expression\n",
    "assert expr == stored_expr\n",
    "assert expr._style_id == stored_expr._style_id\n",
    "print(\"Passed sanity check: expr matches stored_expr\")"
   ]
  },
  {
   "cell_type": "code",
   "execution_count": 4,
   "metadata": {},
   "outputs": [
    {
     "name": "stdout",
     "output_type": "stream",
     "text": [
      "\\left(x \\mapsto \\left\\{\\forall_{n \\in \\mathbb{Z}}~\\left(\\left\\lceil x + n\\right\\rceil = \\left(\\left\\lceil x\\right\\rceil + n\\right)\\right) \\textrm{ if } x \\in \\mathbb{R}\\right..\\right)\n"
     ]
    }
   ],
   "source": [
    "# Show the LaTeX representation of the expression for convenience if you need it.\n",
    "print(stored_expr.latex())"
   ]
  },
  {
   "cell_type": "code",
   "execution_count": 5,
   "metadata": {},
   "outputs": [
    {
     "data": {
      "text/html": [
       "no style options"
      ],
      "text/plain": [
       "no style options"
      ]
     },
     "metadata": {},
     "output_type": "display_data"
    }
   ],
   "source": [
    "stored_expr.style_options()"
   ]
  },
  {
   "cell_type": "code",
   "execution_count": 6,
   "metadata": {},
   "outputs": [
    {
     "data": {
      "text/html": [
       "<table><tr><th>&nbsp;</th><th>core type</th><th>sub-expressions</th><th>expression</th></tr>\n",
       "<tr><td>0</td><td>ExprTuple</td><td>1</td><td><a class=\"ProveItLink\" href=\"expr.ipynb\"><img src=\"expr.png\" style=\"display:inline;vertical-align:middle;\" /></a></td></tr>\n",
       "<tr><td>1</td><td>Lambda</td><td>parameter:&nbsp;30<br>body:&nbsp;2<br></td><td><a class=\"ProveItLink\" href=\"../bbb34fc1278ab66dc28e3d5ff664eb55574a8f840/expr.ipynb\"><img src=\"../bbb34fc1278ab66dc28e3d5ff664eb55574a8f840/expr.png\" style=\"display:inline;vertical-align:middle;\" /></a></td></tr>\n",
       "<tr><td>2</td><td>Conditional</td><td>value:&nbsp;3<br>condition:&nbsp;4<br></td><td><a class=\"ProveItLink\" href=\"../cfe040736a1953ef0f79f01fb45acf2f1ce3bee20/expr.ipynb\"><img src=\"../cfe040736a1953ef0f79f01fb45acf2f1ce3bee20/expr.png\" style=\"display:inline;vertical-align:middle;\" /></a></td></tr>\n",
       "<tr><td>3</td><td>Operation</td><td>operator:&nbsp;5<br>operand:&nbsp;8<br></td><td><a class=\"ProveItLink\" href=\"../068b56597afe7e91bf410977f83181d123e77b590/expr.ipynb\"><img src=\"../068b56597afe7e91bf410977f83181d123e77b590/expr.png\" style=\"display:inline;vertical-align:middle;\" /></a></td></tr>\n",
       "<tr><td>4</td><td>Operation</td><td>operator:&nbsp;16<br>operands:&nbsp;7<br></td><td><a class=\"ProveItLink\" href=\"../d1323f34847310a404e8089c2c268d3c2eb89dbf0/expr.ipynb\"><img src=\"../d1323f34847310a404e8089c2c268d3c2eb89dbf0/expr.png\" style=\"display:inline;vertical-align:middle;\" /></a></td></tr>\n",
       "<tr><td>5</td><td>Literal</td><td></td><td><a class=\"ProveItLink\" href=\"../../../../../logic/booleans/quantification/universality/__pv_it/common/083d2baa0b8ecab1d230f9ec29a15aa1355809fb0/expr.ipynb\"><img src=\"../../../../../logic/booleans/quantification/universality/__pv_it/common/083d2baa0b8ecab1d230f9ec29a15aa1355809fb0/expr.png\" style=\"display:inline;vertical-align:middle;\" /></a></td></tr>\n",
       "<tr><td>6</td><td>ExprTuple</td><td>8</td><td><a class=\"ProveItLink\" href=\"../514dc4d1e62d76046221d4c2f39b82a6d3a4a4770/expr.ipynb\"><img src=\"../514dc4d1e62d76046221d4c2f39b82a6d3a4a4770/expr.png\" style=\"display:inline;vertical-align:middle;\" /></a></td></tr>\n",
       "<tr><td>7</td><td>ExprTuple</td><td>30, 9</td><td><a class=\"ProveItLink\" href=\"../d87b972e3e29265b9fca1a9cb6e1de56983159ab0/expr.ipynb\"><img src=\"../d87b972e3e29265b9fca1a9cb6e1de56983159ab0/expr.png\" style=\"display:inline;vertical-align:middle;\" /></a></td></tr>\n",
       "<tr><td>8</td><td>Lambda</td><td>parameter:&nbsp;29<br>body:&nbsp;11<br></td><td><a class=\"ProveItLink\" href=\"../00133b4ffb3d58678c2b4a992043af6d77bc4f4f0/expr.ipynb\"><img src=\"../00133b4ffb3d58678c2b4a992043af6d77bc4f4f0/expr.png\" style=\"display:inline;vertical-align:middle;\" /></a></td></tr>\n",
       "<tr><td>9</td><td>Literal</td><td></td><td><a class=\"ProveItLink\" href=\"../../../../number_sets/real_numbers/__pv_it/common/93cac87a1a47e613f7a83b23ef7891599a1a4cca0/expr.ipynb\"><img src=\"../../../../number_sets/real_numbers/__pv_it/common/93cac87a1a47e613f7a83b23ef7891599a1a4cca0/expr.png\" style=\"display:inline;vertical-align:middle;\" /></a></td></tr>\n",
       "<tr><td>10</td><td>ExprTuple</td><td>29</td><td><a class=\"ProveItLink\" href=\"../ca565dff2751ea9a3b48fe855133b9e0c2eca83f0/expr.ipynb\"><img src=\"../ca565dff2751ea9a3b48fe855133b9e0c2eca83f0/expr.png\" style=\"display:inline;vertical-align:middle;\" /></a></td></tr>\n",
       "<tr><td>11</td><td>Conditional</td><td>value:&nbsp;12<br>condition:&nbsp;13<br></td><td><a class=\"ProveItLink\" href=\"../fa67dc06ac8d1afd2ba93bffc029c067be0793850/expr.ipynb\"><img src=\"../fa67dc06ac8d1afd2ba93bffc029c067be0793850/expr.png\" style=\"display:inline;vertical-align:middle;\" /></a></td></tr>\n",
       "<tr><td>12</td><td>Operation</td><td>operator:&nbsp;14<br>operands:&nbsp;15<br></td><td><a class=\"ProveItLink\" href=\"../072b82ec00330f8b17495706337a1ea5c8d10d6a0/expr.ipynb\"><img src=\"../072b82ec00330f8b17495706337a1ea5c8d10d6a0/expr.png\" style=\"display:inline;vertical-align:middle;\" /></a></td></tr>\n",
       "<tr><td>13</td><td>Operation</td><td>operator:&nbsp;16<br>operands:&nbsp;17<br></td><td><a class=\"ProveItLink\" href=\"../4f87c8c2c4a39857c751c4c71492097b5d6c38b70/expr.ipynb\"><img src=\"../4f87c8c2c4a39857c751c4c71492097b5d6c38b70/expr.png\" style=\"display:inline;vertical-align:middle;\" /></a></td></tr>\n",
       "<tr><td>14</td><td>Literal</td><td></td><td><a class=\"ProveItLink\" href=\"../../../../../logic/equality/__pv_it/common/fb96dc12b2aa8801dda64d0132b396c63d1502bb0/expr.ipynb\"><img src=\"../../../../../logic/equality/__pv_it/common/fb96dc12b2aa8801dda64d0132b396c63d1502bb0/expr.png\" style=\"display:inline;vertical-align:middle;\" /></a></td></tr>\n",
       "<tr><td>15</td><td>ExprTuple</td><td>18, 19</td><td><a class=\"ProveItLink\" href=\"../cb6b534ff8fba2b289b572562487175c9965fd4b0/expr.ipynb\"><img src=\"../cb6b534ff8fba2b289b572562487175c9965fd4b0/expr.png\" style=\"display:inline;vertical-align:middle;\" /></a></td></tr>\n",
       "<tr><td>16</td><td>Literal</td><td></td><td><a class=\"ProveItLink\" href=\"../../../../../logic/sets/membership/__pv_it/common/477487d8796864d23d5810f83761435f25167f690/expr.ipynb\"><img src=\"../../../../../logic/sets/membership/__pv_it/common/477487d8796864d23d5810f83761435f25167f690/expr.png\" style=\"display:inline;vertical-align:middle;\" /></a></td></tr>\n",
       "<tr><td>17</td><td>ExprTuple</td><td>29, 20</td><td><a class=\"ProveItLink\" href=\"../43d692e0edc91f2bc944d41c97e1d92db754da9c0/expr.ipynb\"><img src=\"../43d692e0edc91f2bc944d41c97e1d92db754da9c0/expr.png\" style=\"display:inline;vertical-align:middle;\" /></a></td></tr>\n",
       "<tr><td>18</td><td>Operation</td><td>operator:&nbsp;27<br>operand:&nbsp;23<br></td><td><a class=\"ProveItLink\" href=\"../2a185df93270d92ed07e3465c14b1a9d0352c6e20/expr.ipynb\"><img src=\"../2a185df93270d92ed07e3465c14b1a9d0352c6e20/expr.png\" style=\"display:inline;vertical-align:middle;\" /></a></td></tr>\n",
       "<tr><td>19</td><td>Operation</td><td>operator:&nbsp;25<br>operands:&nbsp;22<br></td><td><a class=\"ProveItLink\" href=\"../2307f0ff0e0b5a197127fd4848a5de5c7bea64440/expr.ipynb\"><img src=\"../2307f0ff0e0b5a197127fd4848a5de5c7bea64440/expr.png\" style=\"display:inline;vertical-align:middle;\" /></a></td></tr>\n",
       "<tr><td>20</td><td>Literal</td><td></td><td><a class=\"ProveItLink\" href=\"../../../../number_sets/integers/__pv_it/common/e6b4e90f9467053e055a4fd2f735c0bb79cb79300/expr.ipynb\"><img src=\"../../../../number_sets/integers/__pv_it/common/e6b4e90f9467053e055a4fd2f735c0bb79cb79300/expr.png\" style=\"display:inline;vertical-align:middle;\" /></a></td></tr>\n",
       "<tr><td>21</td><td>ExprTuple</td><td>23</td><td><a class=\"ProveItLink\" href=\"../32eb58345ee8bccc3d070664fdd172100e591d830/expr.ipynb\"><img src=\"../32eb58345ee8bccc3d070664fdd172100e591d830/expr.png\" style=\"display:inline;vertical-align:middle;\" /></a></td></tr>\n",
       "<tr><td>22</td><td>ExprTuple</td><td>24, 29</td><td><a class=\"ProveItLink\" href=\"../15493fb30250554c3f2986332c269199eacfe3f10/expr.ipynb\"><img src=\"../15493fb30250554c3f2986332c269199eacfe3f10/expr.png\" style=\"display:inline;vertical-align:middle;\" /></a></td></tr>\n",
       "<tr><td>23</td><td>Operation</td><td>operator:&nbsp;25<br>operands:&nbsp;26<br></td><td><a class=\"ProveItLink\" href=\"../de207664809049a4cec00acf5088a40a6d0960ec0/expr.ipynb\"><img src=\"../de207664809049a4cec00acf5088a40a6d0960ec0/expr.png\" style=\"display:inline;vertical-align:middle;\" /></a></td></tr>\n",
       "<tr><td>24</td><td>Operation</td><td>operator:&nbsp;27<br>operand:&nbsp;30<br></td><td><a class=\"ProveItLink\" href=\"../0eb233226f3d6c4c9cc92c9ced4c48c688e6a2d00/expr.ipynb\"><img src=\"../0eb233226f3d6c4c9cc92c9ced4c48c688e6a2d00/expr.png\" style=\"display:inline;vertical-align:middle;\" /></a></td></tr>\n",
       "<tr><td>25</td><td>Literal</td><td></td><td><a class=\"ProveItLink\" href=\"../../../../addition/__pv_it/common/4b7effaab3619a1c2c38fe2dee8601df8ec714590/expr.ipynb\"><img src=\"../../../../addition/__pv_it/common/4b7effaab3619a1c2c38fe2dee8601df8ec714590/expr.png\" style=\"display:inline;vertical-align:middle;\" /></a></td></tr>\n",
       "<tr><td>26</td><td>ExprTuple</td><td>30, 29</td><td><a class=\"ProveItLink\" href=\"../b711a51d01d0bca01e3135545cca1b564fb835bc0/expr.ipynb\"><img src=\"../b711a51d01d0bca01e3135545cca1b564fb835bc0/expr.png\" style=\"display:inline;vertical-align:middle;\" /></a></td></tr>\n",
       "<tr><td>27</td><td>Literal</td><td></td><td><a class=\"ProveItLink\" href=\"../../common/468bbdabad0328579afc2777e0e196d5e9a2f5740/expr.ipynb\"><img src=\"../../common/468bbdabad0328579afc2777e0e196d5e9a2f5740/expr.png\" style=\"display:inline;vertical-align:middle;\" /></a></td></tr>\n",
       "<tr><td>28</td><td>ExprTuple</td><td>30</td><td><a class=\"ProveItLink\" href=\"../../../../../__pv_it/common/eacfeccc0521684fcb20fe8f5180ac50fca471f20/expr.ipynb\"><img src=\"../../../../../__pv_it/common/eacfeccc0521684fcb20fe8f5180ac50fca471f20/expr.png\" style=\"display:inline;vertical-align:middle;\" /></a></td></tr>\n",
       "<tr><td>29</td><td>Variable</td><td></td><td><a class=\"ProveItLink\" href=\"../../../../../__pv_it/common/8968bb04eb3f7dfa02353397ce929b025bbd79c20/expr.ipynb\"><img src=\"../../../../../__pv_it/common/8968bb04eb3f7dfa02353397ce929b025bbd79c20/expr.png\" style=\"display:inline;vertical-align:middle;\" /></a></td></tr>\n",
       "<tr><td>30</td><td>Variable</td><td></td><td><a class=\"ProveItLink\" href=\"../../../../../__pv_it/common/a0d9d672aa5e272d907247690c152cc2c6daafb70/expr.ipynb\"><img src=\"../../../../../__pv_it/common/a0d9d672aa5e272d907247690c152cc2c6daafb70/expr.png\" style=\"display:inline;vertical-align:middle;\" /></a></td></tr>\n",
       "</table>\n"
      ],
      "text/plain": [
       "0. (x -> {forall_{n in Integer} (ceil(x + n) = (ceil(x) + n)) if x in Real.)\n",
       "   core type: ExprTuple\n",
       "   sub-expressions: 1\n",
       "1. x -> {forall_{n in Integer} (ceil(x + n) = (ceil(x) + n)) if x in Real.\n",
       "   core type: Lambda\n",
       "   parameter: 30\n",
       "   body: 2\n",
       "2. {forall_{n in Integer} (ceil(x + n) = (ceil(x) + n)) if x in Real.\n",
       "   core type: Conditional\n",
       "   value: 3\n",
       "   condition: 4\n",
       "3. forall_{n in Integer} (ceil(x + n) = (ceil(x) + n))\n",
       "   core type: Operation\n",
       "   operator: 5\n",
       "   operand: 8\n",
       "4. x in Real\n",
       "   core type: Operation\n",
       "   operator: 16\n",
       "   operands: 7\n",
       "5. forall\n",
       "   core type: Literal\n",
       "   sub-expressions: \n",
       "6. (n -> {ceil(x + n) = (ceil(x) + n) if n in Integer.)\n",
       "   core type: ExprTuple\n",
       "   sub-expressions: 8\n",
       "7. (x, Real)\n",
       "   core type: ExprTuple\n",
       "   sub-expressions: 30, 9\n",
       "8. n -> {ceil(x + n) = (ceil(x) + n) if n in Integer.\n",
       "   core type: Lambda\n",
       "   parameter: 29\n",
       "   body: 11\n",
       "9. Real\n",
       "   core type: Literal\n",
       "   sub-expressions: \n",
       "10. (n)\n",
       "    core type: ExprTuple\n",
       "    sub-expressions: 29\n",
       "11. {ceil(x + n) = (ceil(x) + n) if n in Integer.\n",
       "    core type: Conditional\n",
       "    value: 12\n",
       "    condition: 13\n",
       "12. ceil(x + n) = (ceil(x) + n)\n",
       "    core type: Operation\n",
       "    operator: 14\n",
       "    operands: 15\n",
       "13. n in Integer\n",
       "    core type: Operation\n",
       "    operator: 16\n",
       "    operands: 17\n",
       "14. =\n",
       "    core type: Literal\n",
       "    sub-expressions: \n",
       "15. (ceil(x + n), ceil(x) + n)\n",
       "    core type: ExprTuple\n",
       "    sub-expressions: 18, 19\n",
       "16. in\n",
       "    core type: Literal\n",
       "    sub-expressions: \n",
       "17. (n, Integer)\n",
       "    core type: ExprTuple\n",
       "    sub-expressions: 29, 20\n",
       "18. ceil(x + n)\n",
       "    core type: Operation\n",
       "    operator: 27\n",
       "    operand: 23\n",
       "19. ceil(x) + n\n",
       "    core type: Operation\n",
       "    operator: 25\n",
       "    operands: 22\n",
       "20. Integer\n",
       "    core type: Literal\n",
       "    sub-expressions: \n",
       "21. (x + n)\n",
       "    core type: ExprTuple\n",
       "    sub-expressions: 23\n",
       "22. (ceil(x), n)\n",
       "    core type: ExprTuple\n",
       "    sub-expressions: 24, 29\n",
       "23. x + n\n",
       "    core type: Operation\n",
       "    operator: 25\n",
       "    operands: 26\n",
       "24. ceil(x)\n",
       "    core type: Operation\n",
       "    operator: 27\n",
       "    operand: 30\n",
       "25. +\n",
       "    core type: Literal\n",
       "    sub-expressions: \n",
       "26. (x, n)\n",
       "    core type: ExprTuple\n",
       "    sub-expressions: 30, 29\n",
       "27. ceil\n",
       "    core type: Literal\n",
       "    sub-expressions: \n",
       "28. (x)\n",
       "    core type: ExprTuple\n",
       "    sub-expressions: 30\n",
       "29. n\n",
       "    core type: Variable\n",
       "    sub-expressions: \n",
       "30. x\n",
       "    core type: Variable\n",
       "    sub-expressions: "
      ]
     },
     "metadata": {},
     "output_type": "display_data"
    }
   ],
   "source": [
    "# display the expression information\n",
    "stored_expr.expr_info()"
   ]
  },
  {
   "cell_type": "code",
   "execution_count": null,
   "metadata": {},
   "outputs": [],
   "source": []
  }
 ],
 "metadata": {
  "kernelspec": {
   "display_name": "Python 3",
   "language": "python",
   "name": "python3"
  }
 },
 "nbformat": 4,
 "nbformat_minor": 0
}