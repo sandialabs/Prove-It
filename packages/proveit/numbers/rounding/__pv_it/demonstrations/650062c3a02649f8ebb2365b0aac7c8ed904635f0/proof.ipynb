{
 "cells": [
  {
   "cell_type": "markdown",
   "metadata": {},
   "source": [
    "Show the Proof\n",
    "========"
   ]
  },
  {
   "cell_type": "code",
   "execution_count": 1,
   "metadata": {},
   "outputs": [
    {
     "data": {
      "text/html": [
       "<table><tr><th>&nbsp;</th><th>step type</th><th>requirements</th><th>statement</th></tr>\n",
       "<tr><td><a name=\"proveit.numbers.rounding.demonstrations.650062c3a02649f8ebb2365b0aac7c8ed904635f0_step0\">0</a></td><td>instantiation</td><td><a href=\"#proveit.numbers.rounding.demonstrations.650062c3a02649f8ebb2365b0aac7c8ed904635f0_step1\">1</a>, <a href=\"#proveit.numbers.rounding.demonstrations.650062c3a02649f8ebb2365b0aac7c8ed904635f0_step2\">2</a>, <a href=\"#proveit.numbers.rounding.demonstrations.650062c3a02649f8ebb2365b0aac7c8ed904635f0_step3\">3</a></td><td><span style=\"font-size:20px;\"><a class=\"ProveItLink\" href=\"../3d2ab8f43b04e936668868a3c63f710b426692830/expr.ipynb\"><img src=\"../3d2ab8f43b04e936668868a3c63f710b426692830/expr.png\" style=\"display:inline;vertical-align:middle;\" /></a>, <a class=\"ProveItLink\" href=\"../24a839eaa16bcdb3c8f162e4dd906c65563c0b450/expr.ipynb\"><img src=\"../24a839eaa16bcdb3c8f162e4dd906c65563c0b450/expr.png\" style=\"display:inline;vertical-align:middle;\" /></a> <a class=\"ProveItLink\" href=\"proof.ipynb\" style=\"text-decoration: none\">&nbsp;&#x22A2;&nbsp;&nbsp;</a><a class=\"ProveItLink\" href=\"../47e61b4424d891bbfb582a45f8b44666a7efeb900/expr.ipynb\"><img src=\"../47e61b4424d891bbfb582a45f8b44666a7efeb900/expr.png\" style=\"display:inline;vertical-align:middle;\" /></a></span></td></tr>\n",
       "<tr><td>&nbsp;</td><td colspan=4 style=\"text-align:left\"><span style=\"font-size:20px;\"><a class=\"ProveItLink\" href=\"../../../../../__pv_it/common/a0d9d672aa5e272d907247690c152cc2c6daafb70/expr.ipynb\"><img src=\"../../../../../__pv_it/common/a0d9d672aa5e272d907247690c152cc2c6daafb70/expr.png\" style=\"display:inline;vertical-align:middle;\" /></a> : <a class=\"ProveItLink\" href=\"../../../../../__pv_it/common/9705ebf23debd1198c43ec3d0c30ebe152d069440/expr.ipynb\"><img src=\"../../../../../__pv_it/common/9705ebf23debd1198c43ec3d0c30ebe152d069440/expr.png\" style=\"display:inline;vertical-align:middle;\" /></a>, <a class=\"ProveItLink\" href=\"../../../../../__pv_it/common/8968bb04eb3f7dfa02353397ce929b025bbd79c20/expr.ipynb\"><img src=\"../../../../../__pv_it/common/8968bb04eb3f7dfa02353397ce929b025bbd79c20/expr.png\" style=\"display:inline;vertical-align:middle;\" /></a> : <a class=\"ProveItLink\" href=\"../../../../../__pv_it/common/c713a5db2586f854a5051c95110df24af02bd7260/expr.ipynb\"><img src=\"../../../../../__pv_it/common/c713a5db2586f854a5051c95110df24af02bd7260/expr.png\" style=\"display:inline;vertical-align:middle;\" /></a></span></td></tr><tr><td><a name=\"proveit.numbers.rounding.demonstrations.650062c3a02649f8ebb2365b0aac7c8ed904635f0_step1\">1</a></td><td>theorem</td><td></td><td><span style=\"font-size:20px;\"> <a class=\"ProveItLink\" href=\"../../../_theory_nbs_/proofs/floor_of_real_plus_int/thm_proof.ipynb\" style=\"text-decoration: none\">&nbsp;&#x22A2;&nbsp;&nbsp;</a><a class=\"ProveItLink\" href=\"../../theorems/9be89b50fad099202b9966a8da351184e9ee7bd50/expr.ipynb\"><img src=\"../../theorems/9be89b50fad099202b9966a8da351184e9ee7bd50/expr.png\" style=\"display:inline;vertical-align:middle;\" /></a></span></td></tr>\n",
       "<tr><td>&nbsp;</td><td colspan=4 style-\"text-align:left\"><a class=\"ProveItLink\" href=\"../../../_theory_nbs_/proofs/floor_of_real_plus_int/thm_proof.ipynb\">proveit.numbers.rounding.floor_of_real_plus_int</a></td></tr><tr><td><a name=\"proveit.numbers.rounding.demonstrations.650062c3a02649f8ebb2365b0aac7c8ed904635f0_step2\">2</a></td><td>assumption</td><td></td><td><span style=\"font-size:20px;\"><a class=\"ProveItLink\" href=\"../3d2ab8f43b04e936668868a3c63f710b426692830/expr.ipynb\"><img src=\"../3d2ab8f43b04e936668868a3c63f710b426692830/expr.png\" style=\"display:inline;vertical-align:middle;\" /></a> <a class=\"ProveItLink\" href=\"../92b8b4732a1bd8095dabcdfb0ff2a0c8dbae30ed0/proof.ipynb\" style=\"text-decoration: none\">&nbsp;&#x22A2;&nbsp;&nbsp;</a><a class=\"ProveItLink\" href=\"../3d2ab8f43b04e936668868a3c63f710b426692830/expr.ipynb\"><img src=\"../3d2ab8f43b04e936668868a3c63f710b426692830/expr.png\" style=\"display:inline;vertical-align:middle;\" /></a></span></td></tr>\n",
       "<tr><td><a name=\"proveit.numbers.rounding.demonstrations.650062c3a02649f8ebb2365b0aac7c8ed904635f0_step3\">3</a></td><td>assumption</td><td></td><td><span style=\"font-size:20px;\"><a class=\"ProveItLink\" href=\"../24a839eaa16bcdb3c8f162e4dd906c65563c0b450/expr.ipynb\"><img src=\"../24a839eaa16bcdb3c8f162e4dd906c65563c0b450/expr.png\" style=\"display:inline;vertical-align:middle;\" /></a> <a class=\"ProveItLink\" href=\"../e19d0cb6f239e40b0fc0ae96855a458ef154cc8a0/proof.ipynb\" style=\"text-decoration: none\">&nbsp;&#x22A2;&nbsp;&nbsp;</a><a class=\"ProveItLink\" href=\"../24a839eaa16bcdb3c8f162e4dd906c65563c0b450/expr.ipynb\"><img src=\"../24a839eaa16bcdb3c8f162e4dd906c65563c0b450/expr.png\" style=\"display:inline;vertical-align:middle;\" /></a></span></td></tr>\n",
       "</table>"
      ],
      "text/plain": [
       "<proveit._core_.proof._ShowProof at 0x7f3e60cc7748>"
      ]
     },
     "execution_count": 1,
     "metadata": {},
     "output_type": "execute_result"
    }
   ],
   "source": [
    "import proveit\n",
    "# Automation is not needed when only showing a stored proof:\n",
    "proveit.defaults.automation = False # This will speed things up.\n",
    "proveit.defaults.inline_pngs = False # Makes files smaller.\n",
    "%show_proof"
   ]
  },
  {
   "cell_type": "code",
   "execution_count": null,
   "metadata": {},
   "outputs": [],
   "source": []
  }
 ],
 "metadata": {
  "kernelspec": {
   "display_name": "Python 3",
   "language": "python",
   "name": "python3"
  }
 },
 "nbformat": 4,
 "nbformat_minor": 0
}