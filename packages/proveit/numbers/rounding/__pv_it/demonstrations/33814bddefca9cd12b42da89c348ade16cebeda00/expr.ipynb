{
 "cells": [
  {
   "cell_type": "markdown",
   "metadata": {},
   "source": [
    "Expression of type <a class=\"ProveItLink\" href=\"../../../../../../../doc/html/api/proveit.ExprTuple.html\">ExprTuple</a>\n",
    "=======================\n",
    "# from the theory of <a class=\"ProveItLink\" href=\"../../../_theory_nbs_/theory.ipynb\">proveit.numbers.rounding</a>"
   ]
  },
  {
   "cell_type": "code",
   "execution_count": 1,
   "metadata": {},
   "outputs": [],
   "source": [
    "import proveit\n",
    "# Automation is not needed when building an expression:\n",
    "proveit.defaults.automation = False # This will speed things up.\n",
    "proveit.defaults.inline_pngs = False # Makes files smaller.\n",
    "%load_expr # Load the stored expression as 'stored_expr'\n",
    "# import Expression classes needed to build the expression\n",
    "from proveit import ExprTuple, a, b, c, x, y\n",
    "from proveit.logic import InSet\n",
    "from proveit.numbers import Integer, Less, Real, greater"
   ]
  },
  {
   "cell_type": "code",
   "execution_count": 2,
   "metadata": {},
   "outputs": [
    {
     "data": {
      "text/html": [
       "<strong id=\"expr\">expr:</strong> <a class=\"ProveItLink\" href=\"expr.ipynb\"><img src=\"expr.png\" style=\"display:inline;vertical-align:middle;\" /></a><br>"
      ],
      "text/plain": [
       "<IPython.core.display.HTML object>"
      ]
     },
     "metadata": {},
     "output_type": "display_data"
    }
   ],
   "source": [
    "# build up the expression from sub-expressions\n",
    "expr = ExprTuple(InSet(a, Integer), InSet(b, Integer), InSet(c, Integer), InSet(x, Real), InSet(y, Real), Less(a, x), Less(y, b), greater(y, c))"
   ]
  },
  {
   "cell_type": "code",
   "execution_count": 3,
   "metadata": {},
   "outputs": [
    {
     "name": "stdout",
     "output_type": "stream",
     "text": [
      "Passed sanity check: expr matches stored_expr\n"
     ]
    }
   ],
   "source": [
    "# check that the built expression is the same as the stored expression\n",
    "assert expr == stored_expr\n",
    "assert expr._style_id == stored_expr._style_id\n",
    "print(\"Passed sanity check: expr matches stored_expr\")"
   ]
  },
  {
   "cell_type": "code",
   "execution_count": 4,
   "metadata": {},
   "outputs": [
    {
     "name": "stdout",
     "output_type": "stream",
     "text": [
      "\\left(a \\in \\mathbb{Z}, b \\in \\mathbb{Z}, c \\in \\mathbb{Z}, x \\in \\mathbb{R}, y \\in \\mathbb{R}, a < x, y < b, y > c\\right)\n"
     ]
    }
   ],
   "source": [
    "# Show the LaTeX representation of the expression for convenience if you need it.\n",
    "print(stored_expr.latex())"
   ]
  },
  {
   "cell_type": "code",
   "execution_count": 5,
   "metadata": {},
   "outputs": [
    {
     "data": {
      "text/html": [
       "<table>\n",
       "<tr><th>name</th><th>description</th><th>default</th><th>current value</th><th>related methods</th></tr><tr><td>wrap_positions</td><td>position(s) at which wrapping is to occur; 'n' is after the nth comma.</td><td>()</td><td>()</td><td>('with_wrapping_at',)</td></tr>\n",
       "<tr><td>justification</td><td>if any wrap positions are set, justify to the 'left', 'center', or 'right'</td><td>left</td><td>left</td><td>('with_justification',)</td></tr>\n",
       "</table>\n"
      ],
      "text/plain": [
       "style name: wrap_positions\n",
       "description: position(s) at which wrapping is to occur; 'n' is after the nth comma.\n",
       "default: ()\n",
       "current value: ()\n",
       "related methods: ('with_wrapping_at',)\n",
       "style name: justification\n",
       "description: if any wrap positions are set, justify to the 'left', 'center', or 'right'\n",
       "default: left\n",
       "current value: left\n",
       "related methods: ('with_justification',)"
      ]
     },
     "metadata": {},
     "output_type": "display_data"
    }
   ],
   "source": [
    "stored_expr.style_options()"
   ]
  },
  {
   "cell_type": "code",
   "execution_count": 6,
   "metadata": {},
   "outputs": [
    {
     "data": {
      "text/html": [
       "<table><tr><th>&nbsp;</th><th>core type</th><th>sub-expressions</th><th>expression</th></tr>\n",
       "<tr><td>0</td><td>ExprTuple</td><td>1, 2, 3, 4, 5, 6, 7, 8</td><td><a class=\"ProveItLink\" href=\"expr.ipynb\"><img src=\"expr.png\" style=\"display:inline;vertical-align:middle;\" /></a></td></tr>\n",
       "<tr><td>1</td><td>Operation</td><td>operator:&nbsp;13<br>operands:&nbsp;9<br></td><td><a class=\"ProveItLink\" href=\"../../../../number_sets/integers/__pv_it/theorems/d82a9927958f2919b6e25fa4d8e512f4047160210/expr.ipynb\"><img src=\"../../../../number_sets/integers/__pv_it/theorems/d82a9927958f2919b6e25fa4d8e512f4047160210/expr.png\" style=\"display:inline;vertical-align:middle;\" /></a></td></tr>\n",
       "<tr><td>2</td><td>Operation</td><td>operator:&nbsp;13<br>operands:&nbsp;10<br></td><td><a class=\"ProveItLink\" href=\"../../../../addition/__pv_it/theorems/035e0ae7bd8c0fe127ee5d2062443d6c874adcdd0/expr.ipynb\"><img src=\"../../../../addition/__pv_it/theorems/035e0ae7bd8c0fe127ee5d2062443d6c874adcdd0/expr.png\" style=\"display:inline;vertical-align:middle;\" /></a></td></tr>\n",
       "<tr><td>3</td><td>Operation</td><td>operator:&nbsp;13<br>operands:&nbsp;11<br></td><td><a class=\"ProveItLink\" href=\"../ab9efd361cdf04a40e51b5b0d3fd587cd7505e5a0/expr.ipynb\"><img src=\"../ab9efd361cdf04a40e51b5b0d3fd587cd7505e5a0/expr.png\" style=\"display:inline;vertical-align:middle;\" /></a></td></tr>\n",
       "<tr><td>4</td><td>Operation</td><td>operator:&nbsp;13<br>operands:&nbsp;12<br></td><td><a class=\"ProveItLink\" href=\"../../../../ordering/__pv_it/theorems/d1323f34847310a404e8089c2c268d3c2eb89dbf0/expr.ipynb\"><img src=\"../../../../ordering/__pv_it/theorems/d1323f34847310a404e8089c2c268d3c2eb89dbf0/expr.png\" style=\"display:inline;vertical-align:middle;\" /></a></td></tr>\n",
       "<tr><td>5</td><td>Operation</td><td>operator:&nbsp;13<br>operands:&nbsp;14<br></td><td><a class=\"ProveItLink\" href=\"../../../../ordering/__pv_it/theorems/5d76fdd975252a644e3e1cb067a357f9a9c8486a0/expr.ipynb\"><img src=\"../../../../ordering/__pv_it/theorems/5d76fdd975252a644e3e1cb067a357f9a9c8486a0/expr.png\" style=\"display:inline;vertical-align:middle;\" /></a></td></tr>\n",
       "<tr><td>6</td><td>Operation</td><td>operator:&nbsp;17<br>operands:&nbsp;15<br></td><td><a class=\"ProveItLink\" href=\"../dca454e375a4fdb804cbe6e3b3b093b1e1eb58430/expr.ipynb\"><img src=\"../dca454e375a4fdb804cbe6e3b3b093b1e1eb58430/expr.png\" style=\"display:inline;vertical-align:middle;\" /></a></td></tr>\n",
       "<tr><td>7</td><td>Operation</td><td>operator:&nbsp;17<br>operands:&nbsp;16<br></td><td><a class=\"ProveItLink\" href=\"../f33cf6389b09fd80b0c863cd2ea7c66c5b8e2acd0/expr.ipynb\"><img src=\"../f33cf6389b09fd80b0c863cd2ea7c66c5b8e2acd0/expr.png\" style=\"display:inline;vertical-align:middle;\" /></a></td></tr>\n",
       "<tr><td>8</td><td>Operation</td><td>operator:&nbsp;17<br>operands:&nbsp;18<br></td><td><a class=\"ProveItLink\" href=\"../23d8134d95008625b4cc2041d156a313e4d2b2850/expr.ipynb\"><img src=\"../23d8134d95008625b4cc2041d156a313e4d2b2850/expr.png\" style=\"display:inline;vertical-align:middle;\" /></a></td></tr>\n",
       "<tr><td>9</td><td>ExprTuple</td><td>21, 19</td><td><a class=\"ProveItLink\" href=\"../../../../number_sets/integers/__pv_it/theorems/97b45a1fbe99ac9f6d293ef01d81cb055e55a0b70/expr.ipynb\"><img src=\"../../../../number_sets/integers/__pv_it/theorems/97b45a1fbe99ac9f6d293ef01d81cb055e55a0b70/expr.png\" style=\"display:inline;vertical-align:middle;\" /></a></td></tr>\n",
       "<tr><td>10</td><td>ExprTuple</td><td>23, 19</td><td><a class=\"ProveItLink\" href=\"../../../../addition/__pv_it/theorems/7a5273c178c04cb3ce78308074ba517705b130f80/expr.ipynb\"><img src=\"../../../../addition/__pv_it/theorems/7a5273c178c04cb3ce78308074ba517705b130f80/expr.png\" style=\"display:inline;vertical-align:middle;\" /></a></td></tr>\n",
       "<tr><td>11</td><td>ExprTuple</td><td>24, 19</td><td><a class=\"ProveItLink\" href=\"../91f20416e9a6ab1a27769f4eed666e1a275fd1b40/expr.ipynb\"><img src=\"../91f20416e9a6ab1a27769f4eed666e1a275fd1b40/expr.png\" style=\"display:inline;vertical-align:middle;\" /></a></td></tr>\n",
       "<tr><td>12</td><td>ExprTuple</td><td>22, 20</td><td><a class=\"ProveItLink\" href=\"../../../../ordering/__pv_it/theorems/d87b972e3e29265b9fca1a9cb6e1de56983159ab0/expr.ipynb\"><img src=\"../../../../ordering/__pv_it/theorems/d87b972e3e29265b9fca1a9cb6e1de56983159ab0/expr.png\" style=\"display:inline;vertical-align:middle;\" /></a></td></tr>\n",
       "<tr><td>13</td><td>Literal</td><td></td><td><a class=\"ProveItLink\" href=\"../../../../../logic/sets/membership/__pv_it/common/477487d8796864d23d5810f83761435f25167f690/expr.ipynb\"><img src=\"../../../../../logic/sets/membership/__pv_it/common/477487d8796864d23d5810f83761435f25167f690/expr.png\" style=\"display:inline;vertical-align:middle;\" /></a></td></tr>\n",
       "<tr><td>14</td><td>ExprTuple</td><td>25, 20</td><td><a class=\"ProveItLink\" href=\"../../../../ordering/__pv_it/theorems/bee9e297dbbe7973b768621f1e2595a566af7f1b0/expr.ipynb\"><img src=\"../../../../ordering/__pv_it/theorems/bee9e297dbbe7973b768621f1e2595a566af7f1b0/expr.png\" style=\"display:inline;vertical-align:middle;\" /></a></td></tr>\n",
       "<tr><td>15</td><td>ExprTuple</td><td>21, 22</td><td><a class=\"ProveItLink\" href=\"../16542dff4296b36f053bf5d488afb46dffba9b230/expr.ipynb\"><img src=\"../16542dff4296b36f053bf5d488afb46dffba9b230/expr.png\" style=\"display:inline;vertical-align:middle;\" /></a></td></tr>\n",
       "<tr><td>16</td><td>ExprTuple</td><td>25, 23</td><td><a class=\"ProveItLink\" href=\"../5024e767fc08a351533f8844fb27918bd48701f70/expr.ipynb\"><img src=\"../5024e767fc08a351533f8844fb27918bd48701f70/expr.png\" style=\"display:inline;vertical-align:middle;\" /></a></td></tr>\n",
       "<tr><td>17</td><td>Literal</td><td></td><td><a class=\"ProveItLink\" href=\"../../../../ordering/__pv_it/common/fa503ed52033522c609eef1cf3e1b45796489da50/expr.ipynb\"><img src=\"../../../../ordering/__pv_it/common/fa503ed52033522c609eef1cf3e1b45796489da50/expr.png\" style=\"display:inline;vertical-align:middle;\" /></a></td></tr>\n",
       "<tr><td>18</td><td>ExprTuple</td><td>24, 25</td><td><a class=\"ProveItLink\" href=\"../ac941adc390c452d2727f0ec34eca1dbbdc6ad9a0/expr.ipynb\"><img src=\"../ac941adc390c452d2727f0ec34eca1dbbdc6ad9a0/expr.png\" style=\"display:inline;vertical-align:middle;\" /></a></td></tr>\n",
       "<tr><td>19</td><td>Literal</td><td></td><td><a class=\"ProveItLink\" href=\"../../../../number_sets/integers/__pv_it/common/e6b4e90f9467053e055a4fd2f735c0bb79cb79300/expr.ipynb\"><img src=\"../../../../number_sets/integers/__pv_it/common/e6b4e90f9467053e055a4fd2f735c0bb79cb79300/expr.png\" style=\"display:inline;vertical-align:middle;\" /></a></td></tr>\n",
       "<tr><td>20</td><td>Literal</td><td></td><td><a class=\"ProveItLink\" href=\"../../../../number_sets/real_numbers/__pv_it/common/93cac87a1a47e613f7a83b23ef7891599a1a4cca0/expr.ipynb\"><img src=\"../../../../number_sets/real_numbers/__pv_it/common/93cac87a1a47e613f7a83b23ef7891599a1a4cca0/expr.png\" style=\"display:inline;vertical-align:middle;\" /></a></td></tr>\n",
       "<tr><td>21</td><td>Variable</td><td></td><td><a class=\"ProveItLink\" href=\"../../../../../__pv_it/common/c06c606ec12678c58933ac85412ecadc2ae28be60/expr.ipynb\"><img src=\"../../../../../__pv_it/common/c06c606ec12678c58933ac85412ecadc2ae28be60/expr.png\" style=\"display:inline;vertical-align:middle;\" /></a></td></tr>\n",
       "<tr><td>22</td><td>Variable</td><td></td><td><a class=\"ProveItLink\" href=\"../../../../../__pv_it/common/a0d9d672aa5e272d907247690c152cc2c6daafb70/expr.ipynb\"><img src=\"../../../../../__pv_it/common/a0d9d672aa5e272d907247690c152cc2c6daafb70/expr.png\" style=\"display:inline;vertical-align:middle;\" /></a></td></tr>\n",
       "<tr><td>23</td><td>Variable</td><td></td><td><a class=\"ProveItLink\" href=\"../../../../../__pv_it/common/195236b98c6c564a75b5dbada74b173bc52d5c3e0/expr.ipynb\"><img src=\"../../../../../__pv_it/common/195236b98c6c564a75b5dbada74b173bc52d5c3e0/expr.png\" style=\"display:inline;vertical-align:middle;\" /></a></td></tr>\n",
       "<tr><td>24</td><td>Variable</td><td></td><td><a class=\"ProveItLink\" href=\"../../../../../__pv_it/common/ceef4280a2f1cc604b455b54e735507244cc62cd0/expr.ipynb\"><img src=\"../../../../../__pv_it/common/ceef4280a2f1cc604b455b54e735507244cc62cd0/expr.png\" style=\"display:inline;vertical-align:middle;\" /></a></td></tr>\n",
       "<tr><td>25</td><td>Variable</td><td></td><td><a class=\"ProveItLink\" href=\"../../../../../__pv_it/common/ff7dba4ef0bbe791ab573bf2d9c220a304399ac80/expr.ipynb\"><img src=\"../../../../../__pv_it/common/ff7dba4ef0bbe791ab573bf2d9c220a304399ac80/expr.png\" style=\"display:inline;vertical-align:middle;\" /></a></td></tr>\n",
       "</table>\n"
      ],
      "text/plain": [
       "0. (a in Integer, b in Integer, c in Integer, x in Real, y in Real, a < x, y < b, y > c)\n",
       "   core type: ExprTuple\n",
       "   sub-expressions: 1, 2, 3, 4, 5, 6, 7, 8\n",
       "1. a in Integer\n",
       "   core type: Operation\n",
       "   operator: 13\n",
       "   operands: 9\n",
       "2. b in Integer\n",
       "   core type: Operation\n",
       "   operator: 13\n",
       "   operands: 10\n",
       "3. c in Integer\n",
       "   core type: Operation\n",
       "   operator: 13\n",
       "   operands: 11\n",
       "4. x in Real\n",
       "   core type: Operation\n",
       "   operator: 13\n",
       "   operands: 12\n",
       "5. y in Real\n",
       "   core type: Operation\n",
       "   operator: 13\n",
       "   operands: 14\n",
       "6. a < x\n",
       "   core type: Operation\n",
       "   operator: 17\n",
       "   operands: 15\n",
       "7. y < b\n",
       "   core type: Operation\n",
       "   operator: 17\n",
       "   operands: 16\n",
       "8. y > c\n",
       "   core type: Operation\n",
       "   operator: 17\n",
       "   operands: 18\n",
       "9. (a, Integer)\n",
       "   core type: ExprTuple\n",
       "   sub-expressions: 21, 19\n",
       "10. (b, Integer)\n",
       "    core type: ExprTuple\n",
       "    sub-expressions: 23, 19\n",
       "11. (c, Integer)\n",
       "    core type: ExprTuple\n",
       "    sub-expressions: 24, 19\n",
       "12. (x, Real)\n",
       "    core type: ExprTuple\n",
       "    sub-expressions: 22, 20\n",
       "13. in\n",
       "    core type: Literal\n",
       "    sub-expressions: \n",
       "14. (y, Real)\n",
       "    core type: ExprTuple\n",
       "    sub-expressions: 25, 20\n",
       "15. (a, x)\n",
       "    core type: ExprTuple\n",
       "    sub-expressions: 21, 22\n",
       "16. (y, b)\n",
       "    core type: ExprTuple\n",
       "    sub-expressions: 25, 23\n",
       "17. <\n",
       "    core type: Literal\n",
       "    sub-expressions: \n",
       "18. (c, y)\n",
       "    core type: ExprTuple\n",
       "    sub-expressions: 24, 25\n",
       "19. Integer\n",
       "    core type: Literal\n",
       "    sub-expressions: \n",
       "20. Real\n",
       "    core type: Literal\n",
       "    sub-expressions: \n",
       "21. a\n",
       "    core type: Variable\n",
       "    sub-expressions: \n",
       "22. x\n",
       "    core type: Variable\n",
       "    sub-expressions: \n",
       "23. b\n",
       "    core type: Variable\n",
       "    sub-expressions: \n",
       "24. c\n",
       "    core type: Variable\n",
       "    sub-expressions: \n",
       "25. y\n",
       "    core type: Variable\n",
       "    sub-expressions: "
      ]
     },
     "metadata": {},
     "output_type": "display_data"
    }
   ],
   "source": [
    "# display the expression information\n",
    "stored_expr.expr_info()"
   ]
  },
  {
   "cell_type": "code",
   "execution_count": null,
   "metadata": {},
   "outputs": [],
   "source": []
  }
 ],
 "metadata": {
  "kernelspec": {
   "display_name": "Python 3",
   "language": "python",
   "name": "python3"
  }
 },
 "nbformat": 4,
 "nbformat_minor": 0
}