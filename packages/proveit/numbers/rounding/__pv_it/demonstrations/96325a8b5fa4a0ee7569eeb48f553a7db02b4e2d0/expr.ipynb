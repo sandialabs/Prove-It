{
 "cells": [
  {
   "cell_type": "markdown",
   "metadata": {},
   "source": [
    "Expression of type <a class=\"ProveItLink\" href=\"../../../../../../../doc/html/api/proveit.logic.Equals.html\">Equals</a>\n",
    "=======================\n",
    "# from the theory of <a class=\"ProveItLink\" href=\"../../../_theory_nbs_/theory.ipynb\">proveit.numbers.rounding</a>"
   ]
  },
  {
   "cell_type": "code",
   "execution_count": 1,
   "metadata": {},
   "outputs": [],
   "source": [
    "import proveit\n",
    "# Automation is not needed when building an expression:\n",
    "proveit.defaults.automation = False # This will speed things up.\n",
    "proveit.defaults.inline_pngs = False # Makes files smaller.\n",
    "%load_expr # Load the stored expression as 'stored_expr'\n",
    "# import Expression classes needed to build the expression\n",
    "from proveit import x, y\n",
    "from proveit.logic import Equals\n",
    "from proveit.numbers import Add, Round, three"
   ]
  },
  {
   "cell_type": "code",
   "execution_count": 2,
   "metadata": {},
   "outputs": [
    {
     "data": {
      "text/html": [
       "<strong id=\"expr\">expr:</strong> <a class=\"ProveItLink\" href=\"expr.ipynb\"><img src=\"expr.png\" style=\"display:inline;vertical-align:middle;\" /></a><br>"
      ],
      "text/plain": [
       "<IPython.core.display.HTML object>"
      ]
     },
     "metadata": {},
     "output_type": "display_data"
    }
   ],
   "source": [
    "# build up the expression from sub-expressions\n",
    "expr = Equals(Round(Add(x, y, three)), Round(Add(Add(x, y), three)))"
   ]
  },
  {
   "cell_type": "code",
   "execution_count": 3,
   "metadata": {},
   "outputs": [
    {
     "name": "stdout",
     "output_type": "stream",
     "text": [
      "Passed sanity check: expr matches stored_expr\n"
     ]
    }
   ],
   "source": [
    "# check that the built expression is the same as the stored expression\n",
    "assert expr == stored_expr\n",
    "assert expr._style_id == stored_expr._style_id\n",
    "print(\"Passed sanity check: expr matches stored_expr\")"
   ]
  },
  {
   "cell_type": "code",
   "execution_count": 4,
   "metadata": {},
   "outputs": [
    {
     "name": "stdout",
     "output_type": "stream",
     "text": [
      "round\\left(x + y + 3\\right) = round\\left(\\left(x + y\\right) + 3\\right)\n"
     ]
    }
   ],
   "source": [
    "# Show the LaTeX representation of the expression for convenience if you need it.\n",
    "print(stored_expr.latex())"
   ]
  },
  {
   "cell_type": "code",
   "execution_count": 5,
   "metadata": {},
   "outputs": [
    {
     "data": {
      "text/html": [
       "<table>\n",
       "<tr><th>name</th><th>description</th><th>default</th><th>current value</th><th>related methods</th></tr><tr><td>operation</td><td>'infix' or 'function' style formatting</td><td>infix</td><td>infix</td><td></td></tr>\n",
       "<tr><td>wrap_positions</td><td>position(s) at which wrapping is to occur; '2 n - 1' is after the nth operand, '2 n' is after the nth operation.</td><td>()</td><td>()</td><td>('with_wrapping_at', 'with_wrap_before_operator', 'with_wrap_after_operator', 'without_wrapping', 'wrap_positions')</td></tr>\n",
       "<tr><td>justification</td><td>if any wrap positions are set, justify to the 'left', 'center', or 'right'</td><td>center</td><td>center</td><td>('with_justification',)</td></tr>\n",
       "<tr><td>direction</td><td>Direction of the relation (normal or reversed)</td><td>normal</td><td>normal</td><td>('with_direction_reversed', 'is_reversed')</td></tr>\n",
       "</table>\n"
      ],
      "text/plain": [
       "style name: operation\n",
       "description: 'infix' or 'function' style formatting\n",
       "default: infix\n",
       "current value: infix\n",
       "related methods: ()\n",
       "style name: wrap_positions\n",
       "description: position(s) at which wrapping is to occur; '2 n - 1' is after the nth operand, '2 n' is after the nth operation.\n",
       "default: ()\n",
       "current value: ()\n",
       "related methods: ('with_wrapping_at', 'with_wrap_before_operator', 'with_wrap_after_operator', 'without_wrapping', 'wrap_positions')\n",
       "style name: justification\n",
       "description: if any wrap positions are set, justify to the 'left', 'center', or 'right'\n",
       "default: center\n",
       "current value: center\n",
       "related methods: ('with_justification',)\n",
       "style name: direction\n",
       "description: Direction of the relation (normal or reversed)\n",
       "default: normal\n",
       "current value: normal\n",
       "related methods: ('with_direction_reversed', 'is_reversed')"
      ]
     },
     "metadata": {},
     "output_type": "display_data"
    }
   ],
   "source": [
    "stored_expr.style_options()"
   ]
  },
  {
   "cell_type": "code",
   "execution_count": 6,
   "metadata": {},
   "outputs": [
    {
     "data": {
      "text/html": [
       "<table><tr><th>&nbsp;</th><th>core type</th><th>sub-expressions</th><th>expression</th></tr>\n",
       "<tr><td>0</td><td>Operation</td><td>operator:&nbsp;1<br>operands:&nbsp;2<br></td><td><a class=\"ProveItLink\" href=\"expr.ipynb\"><img src=\"expr.png\" style=\"display:inline;vertical-align:middle;\" /></a></td></tr>\n",
       "<tr><td>1</td><td>Literal</td><td></td><td><a class=\"ProveItLink\" href=\"../../../../../logic/equality/__pv_it/common/fb96dc12b2aa8801dda64d0132b396c63d1502bb0/expr.ipynb\"><img src=\"../../../../../logic/equality/__pv_it/common/fb96dc12b2aa8801dda64d0132b396c63d1502bb0/expr.png\" style=\"display:inline;vertical-align:middle;\" /></a></td></tr>\n",
       "<tr><td>2</td><td>ExprTuple</td><td>3, 4</td><td><a class=\"ProveItLink\" href=\"../f780af870b00991139a51152789f3394290645650/expr.ipynb\"><img src=\"../f780af870b00991139a51152789f3394290645650/expr.png\" style=\"display:inline;vertical-align:middle;\" /></a></td></tr>\n",
       "<tr><td>3</td><td>Operation</td><td>operator:&nbsp;6<br>operand:&nbsp;8<br></td><td><a class=\"ProveItLink\" href=\"../d0ba2479ca37235002090e390c3df16e19cefa640/expr.ipynb\"><img src=\"../d0ba2479ca37235002090e390c3df16e19cefa640/expr.png\" style=\"display:inline;vertical-align:middle;\" /></a></td></tr>\n",
       "<tr><td>4</td><td>Operation</td><td>operator:&nbsp;6<br>operand:&nbsp;9<br></td><td><a class=\"ProveItLink\" href=\"../015926bd289449d662270b44609c7c9b0e5680310/expr.ipynb\"><img src=\"../015926bd289449d662270b44609c7c9b0e5680310/expr.png\" style=\"display:inline;vertical-align:middle;\" /></a></td></tr>\n",
       "<tr><td>5</td><td>ExprTuple</td><td>8</td><td><a class=\"ProveItLink\" href=\"../e985abd9665d001ca8a987fb992384a2cb1129bf0/expr.ipynb\"><img src=\"../e985abd9665d001ca8a987fb992384a2cb1129bf0/expr.png\" style=\"display:inline;vertical-align:middle;\" /></a></td></tr>\n",
       "<tr><td>6</td><td>Literal</td><td></td><td><a class=\"ProveItLink\" href=\"../../common/b04dbfb1eba88085219dbc24881f1f93367318c40/expr.ipynb\"><img src=\"../../common/b04dbfb1eba88085219dbc24881f1f93367318c40/expr.png\" style=\"display:inline;vertical-align:middle;\" /></a></td></tr>\n",
       "<tr><td>7</td><td>ExprTuple</td><td>9</td><td><a class=\"ProveItLink\" href=\"../0d30d123a7f40267a4b5517a4b0119ae36d962850/expr.ipynb\"><img src=\"../0d30d123a7f40267a4b5517a4b0119ae36d962850/expr.png\" style=\"display:inline;vertical-align:middle;\" /></a></td></tr>\n",
       "<tr><td>8</td><td>Operation</td><td>operator:&nbsp;14<br>operands:&nbsp;10<br></td><td><a class=\"ProveItLink\" href=\"../ae7abd12ef860cd9407f39470d55fd287359bfbf0/expr.ipynb\"><img src=\"../ae7abd12ef860cd9407f39470d55fd287359bfbf0/expr.png\" style=\"display:inline;vertical-align:middle;\" /></a></td></tr>\n",
       "<tr><td>9</td><td>Operation</td><td>operator:&nbsp;14<br>operands:&nbsp;11<br></td><td><a class=\"ProveItLink\" href=\"../0096e96f0f0be0136cb5ef4a032de02c92b7e6b60/expr.ipynb\"><img src=\"../0096e96f0f0be0136cb5ef4a032de02c92b7e6b60/expr.png\" style=\"display:inline;vertical-align:middle;\" /></a></td></tr>\n",
       "<tr><td>10</td><td>ExprTuple</td><td>16, 17, 13</td><td><a class=\"ProveItLink\" href=\"../aa8215631d807e044d9e26f9c31c57849ac614630/expr.ipynb\"><img src=\"../aa8215631d807e044d9e26f9c31c57849ac614630/expr.png\" style=\"display:inline;vertical-align:middle;\" /></a></td></tr>\n",
       "<tr><td>11</td><td>ExprTuple</td><td>12, 13</td><td><a class=\"ProveItLink\" href=\"../f8eebfeabae33da4a932f25c05f0b9803aed0b9f0/expr.ipynb\"><img src=\"../f8eebfeabae33da4a932f25c05f0b9803aed0b9f0/expr.png\" style=\"display:inline;vertical-align:middle;\" /></a></td></tr>\n",
       "<tr><td>12</td><td>Operation</td><td>operator:&nbsp;14<br>operands:&nbsp;15<br></td><td><a class=\"ProveItLink\" href=\"../434e0b09c1a7603c6b049cc33bcc54f90a1e12f60/expr.ipynb\"><img src=\"../434e0b09c1a7603c6b049cc33bcc54f90a1e12f60/expr.png\" style=\"display:inline;vertical-align:middle;\" /></a></td></tr>\n",
       "<tr><td>13</td><td>Literal</td><td></td><td><a class=\"ProveItLink\" href=\"../../../../numerals/__pv_it/common/1943b60945420e340d305780feff5c1aff2740ff0/expr.ipynb\"><img src=\"../../../../numerals/__pv_it/common/1943b60945420e340d305780feff5c1aff2740ff0/expr.png\" style=\"display:inline;vertical-align:middle;\" /></a></td></tr>\n",
       "<tr><td>14</td><td>Literal</td><td></td><td><a class=\"ProveItLink\" href=\"../../../../addition/__pv_it/common/4b7effaab3619a1c2c38fe2dee8601df8ec714590/expr.ipynb\"><img src=\"../../../../addition/__pv_it/common/4b7effaab3619a1c2c38fe2dee8601df8ec714590/expr.png\" style=\"display:inline;vertical-align:middle;\" /></a></td></tr>\n",
       "<tr><td>15</td><td>ExprTuple</td><td>16, 17</td><td><a class=\"ProveItLink\" href=\"../../../../../__pv_it/common/70b6dfe187a2382408546cc714e0c3bc5c3a48c90/expr.ipynb\"><img src=\"../../../../../__pv_it/common/70b6dfe187a2382408546cc714e0c3bc5c3a48c90/expr.png\" style=\"display:inline;vertical-align:middle;\" /></a></td></tr>\n",
       "<tr><td>16</td><td>Variable</td><td></td><td><a class=\"ProveItLink\" href=\"../../../../../__pv_it/common/a0d9d672aa5e272d907247690c152cc2c6daafb70/expr.ipynb\"><img src=\"../../../../../__pv_it/common/a0d9d672aa5e272d907247690c152cc2c6daafb70/expr.png\" style=\"display:inline;vertical-align:middle;\" /></a></td></tr>\n",
       "<tr><td>17</td><td>Variable</td><td></td><td><a class=\"ProveItLink\" href=\"../../../../../__pv_it/common/ff7dba4ef0bbe791ab573bf2d9c220a304399ac80/expr.ipynb\"><img src=\"../../../../../__pv_it/common/ff7dba4ef0bbe791ab573bf2d9c220a304399ac80/expr.png\" style=\"display:inline;vertical-align:middle;\" /></a></td></tr>\n",
       "</table>\n"
      ],
      "text/plain": [
       "0. round(x + y + 3) = round((x + y) + 3)\n",
       "   core type: Operation\n",
       "   operator: 1\n",
       "   operands: 2\n",
       "1. =\n",
       "   core type: Literal\n",
       "   sub-expressions: \n",
       "2. (round(x + y + 3), round((x + y) + 3))\n",
       "   core type: ExprTuple\n",
       "   sub-expressions: 3, 4\n",
       "3. round(x + y + 3)\n",
       "   core type: Operation\n",
       "   operator: 6\n",
       "   operand: 8\n",
       "4. round((x + y) + 3)\n",
       "   core type: Operation\n",
       "   operator: 6\n",
       "   operand: 9\n",
       "5. (x + y + 3)\n",
       "   core type: ExprTuple\n",
       "   sub-expressions: 8\n",
       "6. round\n",
       "   core type: Literal\n",
       "   sub-expressions: \n",
       "7. ((x + y) + 3)\n",
       "   core type: ExprTuple\n",
       "   sub-expressions: 9\n",
       "8. x + y + 3\n",
       "   core type: Operation\n",
       "   operator: 14\n",
       "   operands: 10\n",
       "9. (x + y) + 3\n",
       "   core type: Operation\n",
       "   operator: 14\n",
       "   operands: 11\n",
       "10. (x, y, 3)\n",
       "    core type: ExprTuple\n",
       "    sub-expressions: 16, 17, 13\n",
       "11. (x + y, 3)\n",
       "    core type: ExprTuple\n",
       "    sub-expressions: 12, 13\n",
       "12. x + y\n",
       "    core type: Operation\n",
       "    operator: 14\n",
       "    operands: 15\n",
       "13. 3\n",
       "    core type: Literal\n",
       "    sub-expressions: \n",
       "14. +\n",
       "    core type: Literal\n",
       "    sub-expressions: \n",
       "15. (x, y)\n",
       "    core type: ExprTuple\n",
       "    sub-expressions: 16, 17\n",
       "16. x\n",
       "    core type: Variable\n",
       "    sub-expressions: \n",
       "17. y\n",
       "    core type: Variable\n",
       "    sub-expressions: "
      ]
     },
     "metadata": {},
     "output_type": "display_data"
    }
   ],
   "source": [
    "# display the expression information\n",
    "stored_expr.expr_info()"
   ]
  },
  {
   "cell_type": "code",
   "execution_count": null,
   "metadata": {},
   "outputs": [],
   "source": []
  }
 ],
 "metadata": {
  "kernelspec": {
   "display_name": "Python 3",
   "language": "python",
   "name": "python3"
  }
 },
 "nbformat": 4,
 "nbformat_minor": 0
}