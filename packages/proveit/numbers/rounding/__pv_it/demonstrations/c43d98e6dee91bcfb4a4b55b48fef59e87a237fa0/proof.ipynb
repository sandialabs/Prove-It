{
 "cells": [
  {
   "cell_type": "markdown",
   "metadata": {},
   "source": [
    "Show the Proof\n",
    "========"
   ]
  },
  {
   "cell_type": "code",
   "execution_count": 1,
   "metadata": {},
   "outputs": [
    {
     "data": {
      "text/html": [
       "<table><tr><th>&nbsp;</th><th>step type</th><th>requirements</th><th>statement</th></tr>\n",
       "<tr><td><a name=\"proveit.numbers.rounding.demonstrations.c43d98e6dee91bcfb4a4b55b48fef59e87a237fa0_step0\">0</a></td><td>instantiation</td><td><a href=\"#proveit.numbers.rounding.demonstrations.c43d98e6dee91bcfb4a4b55b48fef59e87a237fa0_step1\">1</a>, <a href=\"#proveit.numbers.rounding.demonstrations.c43d98e6dee91bcfb4a4b55b48fef59e87a237fa0_step2\">2</a></td><td><span style=\"font-size:20px;\"><a class=\"ProveItLink\" href=\"../e2305f6c44c611450f9ebc35008aa6f195de02940/expr.ipynb\"><img src=\"../e2305f6c44c611450f9ebc35008aa6f195de02940/expr.png\" style=\"display:inline;vertical-align:middle;\" /></a> <a class=\"ProveItLink\" href=\"proof.ipynb\" style=\"text-decoration: none\">&nbsp;&#x22A2;&nbsp;&nbsp;</a><a class=\"ProveItLink\" href=\"../7f9c01c3462f26e6f174bd5eaa4239dcc25f576e0/expr.ipynb\"><img src=\"../7f9c01c3462f26e6f174bd5eaa4239dcc25f576e0/expr.png\" style=\"display:inline;vertical-align:middle;\" /></a></span></td></tr>\n",
       "<tr><td>&nbsp;</td><td colspan=4 style=\"text-align:left\"><span style=\"font-size:20px;\"><a class=\"ProveItLink\" href=\"../../../../../__pv_it/common/a0d9d672aa5e272d907247690c152cc2c6daafb70/expr.ipynb\"><img src=\"../../../../../__pv_it/common/a0d9d672aa5e272d907247690c152cc2c6daafb70/expr.png\" style=\"display:inline;vertical-align:middle;\" /></a> : <a class=\"ProveItLink\" href=\"../d823590ed2dbb050c594c903dcb4dd5f70fabe230/expr.ipynb\"><img src=\"../d823590ed2dbb050c594c903dcb4dd5f70fabe230/expr.png\" style=\"display:inline;vertical-align:middle;\" /></a></span></td></tr><tr><td><a name=\"proveit.numbers.rounding.demonstrations.c43d98e6dee91bcfb4a4b55b48fef59e87a237fa0_step1\">1</a></td><td>theorem</td><td></td><td><span style=\"font-size:20px;\"> <a class=\"ProveItLink\" href=\"../../../_theory_nbs_/proofs/round_of_integer/thm_proof.ipynb\" style=\"text-decoration: none\">&nbsp;&#x22A2;&nbsp;&nbsp;</a><a class=\"ProveItLink\" href=\"../../theorems/a6e354e062dd3332300822eb1b80d81bb647240d0/expr.ipynb\"><img src=\"../../theorems/a6e354e062dd3332300822eb1b80d81bb647240d0/expr.png\" style=\"display:inline;vertical-align:middle;\" /></a></span></td></tr>\n",
       "<tr><td>&nbsp;</td><td colspan=4 style-\"text-align:left\"><a class=\"ProveItLink\" href=\"../../../_theory_nbs_/proofs/round_of_integer/thm_proof.ipynb\">proveit.numbers.rounding.round_of_integer</a></td></tr><tr><td><a name=\"proveit.numbers.rounding.demonstrations.c43d98e6dee91bcfb4a4b55b48fef59e87a237fa0_step2\">2</a></td><td>assumption</td><td></td><td><span style=\"font-size:20px;\"><a class=\"ProveItLink\" href=\"../e2305f6c44c611450f9ebc35008aa6f195de02940/expr.ipynb\"><img src=\"../e2305f6c44c611450f9ebc35008aa6f195de02940/expr.png\" style=\"display:inline;vertical-align:middle;\" /></a> <a class=\"ProveItLink\" href=\"../6f40d6cc7a0d933bf70db2cc5ce73fbaa0267bcc0/proof.ipynb\" style=\"text-decoration: none\">&nbsp;&#x22A2;&nbsp;&nbsp;</a><a class=\"ProveItLink\" href=\"../e2305f6c44c611450f9ebc35008aa6f195de02940/expr.ipynb\"><img src=\"../e2305f6c44c611450f9ebc35008aa6f195de02940/expr.png\" style=\"display:inline;vertical-align:middle;\" /></a></span></td></tr>\n",
       "</table>"
      ],
      "text/plain": [
       "<proveit._core_.proof._ShowProof at 0x7ff9c2653208>"
      ]
     },
     "execution_count": 1,
     "metadata": {},
     "output_type": "execute_result"
    }
   ],
   "source": [
    "import proveit\n",
    "# Automation is not needed when only showing a stored proof:\n",
    "proveit.defaults.automation = False # This will speed things up.\n",
    "proveit.defaults.inline_pngs = False # Makes files smaller.\n",
    "%show_proof"
   ]
  },
  {
   "cell_type": "code",
   "execution_count": null,
   "metadata": {},
   "outputs": [],
   "source": []
  }
 ],
 "metadata": {
  "kernelspec": {
   "display_name": "Python 3",
   "language": "python",
   "name": "python3"
  }
 },
 "nbformat": 4,
 "nbformat_minor": 0
}