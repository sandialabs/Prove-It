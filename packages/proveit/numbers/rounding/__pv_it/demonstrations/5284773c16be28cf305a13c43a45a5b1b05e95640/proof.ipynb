{
 "cells": [
  {
   "cell_type": "markdown",
   "metadata": {},
   "source": [
    "Show the Proof\n",
    "========"
   ]
  },
  {
   "cell_type": "code",
   "execution_count": 1,
   "metadata": {},
   "outputs": [
    {
     "data": {
      "text/html": [
       "<table><tr><th>&nbsp;</th><th>step type</th><th>requirements</th><th>statement</th></tr>\n",
       "<tr><td><a name=\"proveit.numbers.rounding.demonstrations.5284773c16be28cf305a13c43a45a5b1b05e95640_step0\">0</a></td><td>instantiation</td><td><a href=\"#proveit.numbers.rounding.demonstrations.5284773c16be28cf305a13c43a45a5b1b05e95640_step1\">1</a>, <a href=\"#proveit.numbers.rounding.demonstrations.5284773c16be28cf305a13c43a45a5b1b05e95640_step2\">2</a></td><td><span style=\"font-size:20px;\"><a class=\"ProveItLink\" href=\"../6395594dde9afd8f7aee1a29d57d2702734f034c0/expr.ipynb\"><img src=\"../6395594dde9afd8f7aee1a29d57d2702734f034c0/expr.png\" style=\"display:inline;vertical-align:middle;\" /></a> <a class=\"ProveItLink\" href=\"proof.ipynb\" style=\"text-decoration: none\">&nbsp;&#x22A2;&nbsp;&nbsp;</a><a class=\"ProveItLink\" href=\"../054b9709aa39b6bd9d30b19b6d6db233d71cbb500/expr.ipynb\"><img src=\"../054b9709aa39b6bd9d30b19b6d6db233d71cbb500/expr.png\" style=\"display:inline;vertical-align:middle;\" /></a></span></td></tr>\n",
       "<tr><td>&nbsp;</td><td colspan=4 style=\"text-align:left\"><span style=\"font-size:20px;\"><a class=\"ProveItLink\" href=\"../../../../../__pv_it/common/a0d9d672aa5e272d907247690c152cc2c6daafb70/expr.ipynb\"><img src=\"../../../../../__pv_it/common/a0d9d672aa5e272d907247690c152cc2c6daafb70/expr.png\" style=\"display:inline;vertical-align:middle;\" /></a> : <a class=\"ProveItLink\" href=\"../434e0b09c1a7603c6b049cc33bcc54f90a1e12f60/expr.ipynb\"><img src=\"../434e0b09c1a7603c6b049cc33bcc54f90a1e12f60/expr.png\" style=\"display:inline;vertical-align:middle;\" /></a></span></td></tr><tr><td><a name=\"proveit.numbers.rounding.demonstrations.5284773c16be28cf305a13c43a45a5b1b05e95640_step1\">1</a></td><td>axiom</td><td></td><td><span style=\"font-size:20px;\"> <a class=\"ProveItLink\" href=\"../../../_theory_nbs_/axioms.ipynb#floor_is_an_int\" style=\"text-decoration: none\">&nbsp;&#x22A2;&nbsp;&nbsp;</a><a class=\"ProveItLink\" href=\"../../axioms/ef4a67e9ee571b0eb9e3e2cb5f0ed83035f4ae030/expr.ipynb\"><img src=\"../../axioms/ef4a67e9ee571b0eb9e3e2cb5f0ed83035f4ae030/expr.png\" style=\"display:inline;vertical-align:middle;\" /></a></span></td></tr>\n",
       "<tr><td>&nbsp;</td><td colspan=4 style-\"text-align:left\"><a class=\"ProveItLink\" href=\"../../../_theory_nbs_/axioms.ipynb#floor_is_an_int\">proveit.numbers.rounding.floor_is_an_int</a></td></tr><tr><td><a name=\"proveit.numbers.rounding.demonstrations.5284773c16be28cf305a13c43a45a5b1b05e95640_step2\">2</a></td><td>assumption</td><td></td><td><span style=\"font-size:20px;\"><a class=\"ProveItLink\" href=\"../6395594dde9afd8f7aee1a29d57d2702734f034c0/expr.ipynb\"><img src=\"../6395594dde9afd8f7aee1a29d57d2702734f034c0/expr.png\" style=\"display:inline;vertical-align:middle;\" /></a> <a class=\"ProveItLink\" href=\"../c2a96136a3179908d3b6d3f2a7b53136eb345d610/proof.ipynb\" style=\"text-decoration: none\">&nbsp;&#x22A2;&nbsp;&nbsp;</a><a class=\"ProveItLink\" href=\"../6395594dde9afd8f7aee1a29d57d2702734f034c0/expr.ipynb\"><img src=\"../6395594dde9afd8f7aee1a29d57d2702734f034c0/expr.png\" style=\"display:inline;vertical-align:middle;\" /></a></span></td></tr>\n",
       "</table>"
      ],
      "text/plain": [
       "<proveit._core_.proof._ShowProof at 0x7f0c7d6c55f8>"
      ]
     },
     "execution_count": 1,
     "metadata": {},
     "output_type": "execute_result"
    }
   ],
   "source": [
    "import proveit\n",
    "# Automation is not needed when only showing a stored proof:\n",
    "proveit.defaults.automation = False # This will speed things up.\n",
    "proveit.defaults.inline_pngs = False # Makes files smaller.\n",
    "%show_proof"
   ]
  },
  {
   "cell_type": "code",
   "execution_count": null,
   "metadata": {},
   "outputs": [],
   "source": []
  }
 ],
 "metadata": {
  "kernelspec": {
   "display_name": "Python 3",
   "language": "python",
   "name": "python3"
  }
 },
 "nbformat": 4,
 "nbformat_minor": 0
}