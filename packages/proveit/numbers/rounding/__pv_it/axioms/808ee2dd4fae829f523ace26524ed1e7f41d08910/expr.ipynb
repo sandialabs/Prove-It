{
 "cells": [
  {
   "cell_type": "markdown",
   "metadata": {},
   "source": [
    "Expression of type <a class=\"ProveItLink\" href=\"../../../../../../../doc/html/api/proveit.Conditional.html\">Conditional</a>\n",
    "=======================\n",
    "# from the theory of <a class=\"ProveItLink\" href=\"../../../_theory_nbs_/theory.ipynb\">proveit.numbers.rounding</a>"
   ]
  },
  {
   "cell_type": "code",
   "execution_count": 1,
   "metadata": {},
   "outputs": [],
   "source": [
    "import proveit\n",
    "# Automation is not needed when building an expression:\n",
    "proveit.defaults.automation = False # This will speed things up.\n",
    "proveit.defaults.inline_pngs = False # Makes files smaller.\n",
    "%load_expr # Load the stored expression as 'stored_expr'\n",
    "# import Expression classes needed to build the expression\n",
    "from proveit import Conditional, x, y\n",
    "from proveit.logic import And, InSet\n",
    "from proveit.numbers import Ceil, Integer, LessEq, Real, greater_eq"
   ]
  },
  {
   "cell_type": "code",
   "execution_count": 2,
   "metadata": {},
   "outputs": [
    {
     "data": {
      "text/html": [
       "<strong id=\"expr\">expr:</strong> <a class=\"ProveItLink\" href=\"expr.ipynb\"><img src=\"expr.png\" style=\"display:inline;vertical-align:middle;\" /></a><br>"
      ],
      "text/plain": [
       "<IPython.core.display.HTML object>"
      ]
     },
     "metadata": {},
     "output_type": "display_data"
    }
   ],
   "source": [
    "# build up the expression from sub-expressions\n",
    "expr = Conditional(LessEq(Ceil(x), y), And(InSet(x, Real), InSet(y, Integer), greater_eq(y, x)))"
   ]
  },
  {
   "cell_type": "code",
   "execution_count": 3,
   "metadata": {},
   "outputs": [
    {
     "name": "stdout",
     "output_type": "stream",
     "text": [
      "Passed sanity check: expr matches stored_expr\n"
     ]
    }
   ],
   "source": [
    "# check that the built expression is the same as the stored expression\n",
    "assert expr == stored_expr\n",
    "assert expr._style_id == stored_expr._style_id\n",
    "print(\"Passed sanity check: expr matches stored_expr\")"
   ]
  },
  {
   "cell_type": "code",
   "execution_count": 4,
   "metadata": {},
   "outputs": [
    {
     "name": "stdout",
     "output_type": "stream",
     "text": [
      "\\left\\{\\left\\lceil x\\right\\rceil \\leq y \\textrm{ if } x \\in \\mathbb{R} ,  y \\in \\mathbb{Z} ,  y \\geq x\\right..\n"
     ]
    }
   ],
   "source": [
    "# Show the LaTeX representation of the expression for convenience if you need it.\n",
    "print(stored_expr.latex())"
   ]
  },
  {
   "cell_type": "code",
   "execution_count": 5,
   "metadata": {},
   "outputs": [
    {
     "data": {
      "text/html": [
       "<table>\n",
       "<tr><th>name</th><th>description</th><th>default</th><th>current value</th><th>related methods</th></tr><tr><td>condition_delimiter</td><td>'comma' or 'and'</td><td>comma</td><td>comma</td><td>('with_comma_delimiter', 'with_conjunction_delimiter')</td></tr>\n",
       "</table>\n"
      ],
      "text/plain": [
       "style name: condition_delimiter\n",
       "description: 'comma' or 'and'\n",
       "default: comma\n",
       "current value: comma\n",
       "related methods: ('with_comma_delimiter', 'with_conjunction_delimiter')"
      ]
     },
     "metadata": {},
     "output_type": "display_data"
    }
   ],
   "source": [
    "stored_expr.style_options()"
   ]
  },
  {
   "cell_type": "code",
   "execution_count": 6,
   "metadata": {},
   "outputs": [
    {
     "data": {
      "text/html": [
       "<table><tr><th>&nbsp;</th><th>core type</th><th>sub-expressions</th><th>expression</th></tr>\n",
       "<tr><td>0</td><td>Conditional</td><td>value:&nbsp;1<br>condition:&nbsp;2<br></td><td><a class=\"ProveItLink\" href=\"expr.ipynb\"><img src=\"expr.png\" style=\"display:inline;vertical-align:middle;\" /></a></td></tr>\n",
       "<tr><td>1</td><td>Operation</td><td>operator:&nbsp;15<br>operands:&nbsp;3<br></td><td><a class=\"ProveItLink\" href=\"../37b6bdf4837da1205fee5e0ea39945df955693f50/expr.ipynb\"><img src=\"../37b6bdf4837da1205fee5e0ea39945df955693f50/expr.png\" style=\"display:inline;vertical-align:middle;\" /></a></td></tr>\n",
       "<tr><td>2</td><td>Operation</td><td>operator:&nbsp;4<br>operands:&nbsp;5<br></td><td><a class=\"ProveItLink\" href=\"../c26458a5eb0b4a9199fd6410a76068145bcf5e520/expr.ipynb\"><img src=\"../c26458a5eb0b4a9199fd6410a76068145bcf5e520/expr.png\" style=\"display:inline;vertical-align:middle;\" /></a></td></tr>\n",
       "<tr><td>3</td><td>ExprTuple</td><td>6, 20</td><td><a class=\"ProveItLink\" href=\"../d4564b8d36484bacd001e845997dc12bc9fc6aa10/expr.ipynb\"><img src=\"../d4564b8d36484bacd001e845997dc12bc9fc6aa10/expr.png\" style=\"display:inline;vertical-align:middle;\" /></a></td></tr>\n",
       "<tr><td>4</td><td>Literal</td><td></td><td><a class=\"ProveItLink\" href=\"../../../../../logic/booleans/conjunction/__pv_it/common/42118ff318bd65d98b1393f64ce7c2269feef76e0/expr.ipynb\"><img src=\"../../../../../logic/booleans/conjunction/__pv_it/common/42118ff318bd65d98b1393f64ce7c2269feef76e0/expr.png\" style=\"display:inline;vertical-align:middle;\" /></a></td></tr>\n",
       "<tr><td>5</td><td>ExprTuple</td><td>7, 8, 9</td><td><a class=\"ProveItLink\" href=\"../3b322e6dc98bc46cc3dacaa71ccc9c3c24b2d59e0/expr.ipynb\"><img src=\"../3b322e6dc98bc46cc3dacaa71ccc9c3c24b2d59e0/expr.png\" style=\"display:inline;vertical-align:middle;\" /></a></td></tr>\n",
       "<tr><td>6</td><td>Operation</td><td>operator:&nbsp;10<br>operand:&nbsp;19<br></td><td><a class=\"ProveItLink\" href=\"../0eb233226f3d6c4c9cc92c9ced4c48c688e6a2d00/expr.ipynb\"><img src=\"../0eb233226f3d6c4c9cc92c9ced4c48c688e6a2d00/expr.png\" style=\"display:inline;vertical-align:middle;\" /></a></td></tr>\n",
       "<tr><td>7</td><td>Operation</td><td>operator:&nbsp;13<br>operands:&nbsp;12<br></td><td><a class=\"ProveItLink\" href=\"../d1323f34847310a404e8089c2c268d3c2eb89dbf0/expr.ipynb\"><img src=\"../d1323f34847310a404e8089c2c268d3c2eb89dbf0/expr.png\" style=\"display:inline;vertical-align:middle;\" /></a></td></tr>\n",
       "<tr><td>8</td><td>Operation</td><td>operator:&nbsp;13<br>operands:&nbsp;14<br></td><td><a class=\"ProveItLink\" href=\"../1a5270d7d3401e3ec902ebbf86bec5c78898bba20/expr.ipynb\"><img src=\"../1a5270d7d3401e3ec902ebbf86bec5c78898bba20/expr.png\" style=\"display:inline;vertical-align:middle;\" /></a></td></tr>\n",
       "<tr><td>9</td><td>Operation</td><td>operator:&nbsp;15<br>operands:&nbsp;16<br></td><td><a class=\"ProveItLink\" href=\"../a0aa91adc27551a2639b6a65140381b54fd1bfca0/expr.ipynb\"><img src=\"../a0aa91adc27551a2639b6a65140381b54fd1bfca0/expr.png\" style=\"display:inline;vertical-align:middle;\" /></a></td></tr>\n",
       "<tr><td>10</td><td>Literal</td><td></td><td><a class=\"ProveItLink\" href=\"../../common/468bbdabad0328579afc2777e0e196d5e9a2f5740/expr.ipynb\"><img src=\"../../common/468bbdabad0328579afc2777e0e196d5e9a2f5740/expr.png\" style=\"display:inline;vertical-align:middle;\" /></a></td></tr>\n",
       "<tr><td>11</td><td>ExprTuple</td><td>19</td><td><a class=\"ProveItLink\" href=\"../../../../../__pv_it/common/eacfeccc0521684fcb20fe8f5180ac50fca471f20/expr.ipynb\"><img src=\"../../../../../__pv_it/common/eacfeccc0521684fcb20fe8f5180ac50fca471f20/expr.png\" style=\"display:inline;vertical-align:middle;\" /></a></td></tr>\n",
       "<tr><td>12</td><td>ExprTuple</td><td>19, 17</td><td><a class=\"ProveItLink\" href=\"../d87b972e3e29265b9fca1a9cb6e1de56983159ab0/expr.ipynb\"><img src=\"../d87b972e3e29265b9fca1a9cb6e1de56983159ab0/expr.png\" style=\"display:inline;vertical-align:middle;\" /></a></td></tr>\n",
       "<tr><td>13</td><td>Literal</td><td></td><td><a class=\"ProveItLink\" href=\"../../../../../logic/sets/membership/__pv_it/common/477487d8796864d23d5810f83761435f25167f690/expr.ipynb\"><img src=\"../../../../../logic/sets/membership/__pv_it/common/477487d8796864d23d5810f83761435f25167f690/expr.png\" style=\"display:inline;vertical-align:middle;\" /></a></td></tr>\n",
       "<tr><td>14</td><td>ExprTuple</td><td>20, 18</td><td><a class=\"ProveItLink\" href=\"../95d9012f54bb8c8449c89d2815d275ce4672841c0/expr.ipynb\"><img src=\"../95d9012f54bb8c8449c89d2815d275ce4672841c0/expr.png\" style=\"display:inline;vertical-align:middle;\" /></a></td></tr>\n",
       "<tr><td>15</td><td>Literal</td><td></td><td><a class=\"ProveItLink\" href=\"../../../../ordering/__pv_it/common/68379698d72b4689bbda4b5c5cca29ee599d70280/expr.ipynb\"><img src=\"../../../../ordering/__pv_it/common/68379698d72b4689bbda4b5c5cca29ee599d70280/expr.png\" style=\"display:inline;vertical-align:middle;\" /></a></td></tr>\n",
       "<tr><td>16</td><td>ExprTuple</td><td>19, 20</td><td><a class=\"ProveItLink\" href=\"../bbaa48af4605eceb7fbc4af345a1eb6de480e1c50/expr.ipynb\"><img src=\"../bbaa48af4605eceb7fbc4af345a1eb6de480e1c50/expr.png\" style=\"display:inline;vertical-align:middle;\" /></a></td></tr>\n",
       "<tr><td>17</td><td>Literal</td><td></td><td><a class=\"ProveItLink\" href=\"../../../../number_sets/real_numbers/__pv_it/common/93cac87a1a47e613f7a83b23ef7891599a1a4cca0/expr.ipynb\"><img src=\"../../../../number_sets/real_numbers/__pv_it/common/93cac87a1a47e613f7a83b23ef7891599a1a4cca0/expr.png\" style=\"display:inline;vertical-align:middle;\" /></a></td></tr>\n",
       "<tr><td>18</td><td>Literal</td><td></td><td><a class=\"ProveItLink\" href=\"../../../../number_sets/integers/__pv_it/common/e6b4e90f9467053e055a4fd2f735c0bb79cb79300/expr.ipynb\"><img src=\"../../../../number_sets/integers/__pv_it/common/e6b4e90f9467053e055a4fd2f735c0bb79cb79300/expr.png\" style=\"display:inline;vertical-align:middle;\" /></a></td></tr>\n",
       "<tr><td>19</td><td>Variable</td><td></td><td><a class=\"ProveItLink\" href=\"../../../../../__pv_it/common/a0d9d672aa5e272d907247690c152cc2c6daafb70/expr.ipynb\"><img src=\"../../../../../__pv_it/common/a0d9d672aa5e272d907247690c152cc2c6daafb70/expr.png\" style=\"display:inline;vertical-align:middle;\" /></a></td></tr>\n",
       "<tr><td>20</td><td>Variable</td><td></td><td><a class=\"ProveItLink\" href=\"../../../../../__pv_it/common/ff7dba4ef0bbe791ab573bf2d9c220a304399ac80/expr.ipynb\"><img src=\"../../../../../__pv_it/common/ff7dba4ef0bbe791ab573bf2d9c220a304399ac80/expr.png\" style=\"display:inline;vertical-align:middle;\" /></a></td></tr>\n",
       "</table>\n"
      ],
      "text/plain": [
       "0. {ceil(x) <= y if x in Real ,  y in Integer ,  y >= x.\n",
       "   core type: Conditional\n",
       "   value: 1\n",
       "   condition: 2\n",
       "1. ceil(x) <= y\n",
       "   core type: Operation\n",
       "   operator: 15\n",
       "   operands: 3\n",
       "2. (x in Real) and (y in Integer) and (y >= x)\n",
       "   core type: Operation\n",
       "   operator: 4\n",
       "   operands: 5\n",
       "3. (ceil(x), y)\n",
       "   core type: ExprTuple\n",
       "   sub-expressions: 6, 20\n",
       "4. and\n",
       "   core type: Literal\n",
       "   sub-expressions: \n",
       "5. (x in Real, y in Integer, y >= x)\n",
       "   core type: ExprTuple\n",
       "   sub-expressions: 7, 8, 9\n",
       "6. ceil(x)\n",
       "   core type: Operation\n",
       "   operator: 10\n",
       "   operand: 19\n",
       "7. x in Real\n",
       "   core type: Operation\n",
       "   operator: 13\n",
       "   operands: 12\n",
       "8. y in Integer\n",
       "   core type: Operation\n",
       "   operator: 13\n",
       "   operands: 14\n",
       "9. y >= x\n",
       "   core type: Operation\n",
       "   operator: 15\n",
       "   operands: 16\n",
       "10. ceil\n",
       "    core type: Literal\n",
       "    sub-expressions: \n",
       "11. (x)\n",
       "    core type: ExprTuple\n",
       "    sub-expressions: 19\n",
       "12. (x, Real)\n",
       "    core type: ExprTuple\n",
       "    sub-expressions: 19, 17\n",
       "13. in\n",
       "    core type: Literal\n",
       "    sub-expressions: \n",
       "14. (y, Integer)\n",
       "    core type: ExprTuple\n",
       "    sub-expressions: 20, 18\n",
       "15. <=\n",
       "    core type: Literal\n",
       "    sub-expressions: \n",
       "16. (x, y)\n",
       "    core type: ExprTuple\n",
       "    sub-expressions: 19, 20\n",
       "17. Real\n",
       "    core type: Literal\n",
       "    sub-expressions: \n",
       "18. Integer\n",
       "    core type: Literal\n",
       "    sub-expressions: \n",
       "19. x\n",
       "    core type: Variable\n",
       "    sub-expressions: \n",
       "20. y\n",
       "    core type: Variable\n",
       "    sub-expressions: "
      ]
     },
     "metadata": {},
     "output_type": "display_data"
    }
   ],
   "source": [
    "# display the expression information\n",
    "stored_expr.expr_info()"
   ]
  },
  {
   "cell_type": "code",
   "execution_count": null,
   "metadata": {},
   "outputs": [],
   "source": []
  }
 ],
 "metadata": {
  "kernelspec": {
   "display_name": "Python 3",
   "language": "python",
   "name": "python3"
  }
 },
 "nbformat": 4,
 "nbformat_minor": 0
}