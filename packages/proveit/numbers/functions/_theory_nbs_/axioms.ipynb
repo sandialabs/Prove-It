{
 "cells": [
  {
   "cell_type": "markdown",
   "metadata": {},
   "source": [
    "Axioms for the theory of <a class=\"ProveItLink\" href=\"theory.ipynb\">proveit.numbers.functions</a>\n",
    "========"
   ]
  },
  {
   "cell_type": "code",
   "execution_count": null,
   "metadata": {},
   "outputs": [],
   "source": [
    "import proveit\n",
    "# Prepare this notebook for defining the axioms of a theory:\n",
    "%axioms_notebook # Keep this at the top following 'import proveit'.\n",
    "\n",
    "from proveit import Conditional, ConditionalSet\n",
    "from proveit import i, j\n",
    "from proveit.logic import Forall, Equals, NotEquals\n",
    "from proveit.numbers import zero, one, KroneckerDelta"
   ]
  },
  {
   "cell_type": "code",
   "execution_count": null,
   "metadata": {},
   "outputs": [],
   "source": [
    "%begin axioms"
   ]
  },
  {
   "cell_type": "code",
   "execution_count": null,
   "metadata": {},
   "outputs": [],
   "source": [
    "# This general definition does not require i and j to be numbers.  This is deliberate.\n",
    "kron_delta_def = Forall((i, j), Equals(\n",
    "    KroneckerDelta(i, j), ConditionalSet(\n",
    "        Conditional(one, Equals(i, j)),\n",
    "        Conditional(zero, NotEquals(i, j)))))"
   ]
  },
  {
   "cell_type": "code",
   "execution_count": null,
   "metadata": {},
   "outputs": [],
   "source": [
    "%end axioms"
   ]
  }
 ],
 "metadata": {
  "kernelspec": {
   "display_name": "Python 3",
   "language": "python",
   "name": "python3"
  }
 },
 "nbformat": 4,
 "nbformat_minor": 0
}
