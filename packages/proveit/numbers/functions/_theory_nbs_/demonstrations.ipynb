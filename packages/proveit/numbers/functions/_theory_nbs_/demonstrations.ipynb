{
 "cells": [
  {
   "cell_type": "markdown",
   "metadata": {},
   "source": [
    "Demonstrations for the theory of <a class=\"ProveItLink\" href=\"theory.ipynb\">proveit.numbers.functions</a>\n",
    "========"
   ]
  },
  {
   "cell_type": "code",
   "execution_count": 1,
   "metadata": {},
   "outputs": [],
   "source": [
    "import proveit\n",
    "from proveit import Lambda\n",
    "from proveit import l, x\n",
    "from proveit.logic import InSet\n",
    "from proveit.numbers.functions import MonDecFuncs\n",
    "from proveit.numbers import Div, Exp\n",
    "from proveit.numbers import one, two, RealPos\n",
    "%begin demonstrations"
   ]
  },
  {
   "cell_type": "code",
   "execution_count": 2,
   "metadata": {},
   "outputs": [
    {
     "data": {
      "text/html": [
       "<span style=\"font-size:20px;\"> <a class=\"ProveItLink\" href=\"proofs/one_over_x_sqrd_in_mon_dec_fxns/thm_proof.ipynb\" style=\"text-decoration: none\">&nbsp;&#x22A2;&nbsp;&nbsp;</a><a class=\"ProveItLink\" href=\"../__pv_it/theorems/f00f005e38c25b9d2f61273269f4a9eb1ac9a1930/expr.ipynb\"><img src=\"data:image/png;base64,iVBORw0KGgoAAAANSUhEUgAAASAAAAAzCAMAAAAAaCUzAAAANlBMVEX///8AAAAAAAAAAAAAAAAA\n",
       "AAAAAAAAAAAAAAAAAAAAAAAAAAAAAAAAAAAAAAAAAAAAAAAAAABHL6OuAAAAEXRSTlMAEN2ZRGZ2\n",
       "qzKJVCLN77vz6c5ReRMAAAAJcEhZcwAADsQAAA7EAZUrDhsAAASKSURBVGje7ZvpluMoDIXZFwPq\n",
       "4f1fdhAYGyfgOGmfnkoP/MhSpRDxWVxJuIrQPMgt4865fsxgMQ1+z1yAc8HfBkjcO5+cgNphGJ2A\n",
       "xpKjuY8T0OlQE9AENAFNQBPQBDQBTUAT0NcBkoOV8+Pz/xbQMurQ6wIc3ADIRvelgKgnLwARqX4X\n",
       "kNYhei2/EhCg29IHgOhZANkBRHIn/qePO5xmMWzvQmTajQ2j1tozOzpK0CyEZAHp6d1jOhcqDacJ\n",
       "EVoCfQakNPkvzoMcxHq9pI7u5Cwl6qKWbGQk1uM5EcybbnK7AbL5yeB3cUgj4EP2kKLC/nlAVLG6\n",
       "/xWPJ5ferYDI0GqzkMubbkZxAMQd8c8RRLy8CEi53wCkgKXhG0BqjRsjrgGi9cXYQr3Hx9Tv3QFB\n",
       "BxCHMSB6KSW+BiS8oo8RRNdDcEWuASIw2InFwlGc6r3yhJEDIE2p7gBSYQOULqumxtotVNmxnPwU\n",
       "kPP0eYsRXSRSVkCUK8WTI8YH7pIn6gGQjeiX48ryYm6Lp8VCuvxJnbOSepylGhsllapxrP0BkIHF\n",
       "uw4gkdxbAXHU7HRFWR/JAh8C8q6jQemLcXkLXQGZrMKAC2Ia11ICZgekIq4ipJ/iEl1YVl3OFq5o\n",
       "OIO8GUvtss9SjSm0qwLYAQXPImvCnLc70ayA8CLI5Oxe1LBHIaGfAeqJ9LoaVeW3JHL0hkCOrZLm\n",
       "WkDJa5Y9T2g9TrogLhdTmvcFZ1lzAdTMUo1FrgTqTvS6iSApR1WjS1peAGGW5AerX/+ww4hxF6vY\n",
       "HT1AJtTPwwEQyrQTKyATy8bGMGmXeYwgU6h5S6M9ahB/BrS93o1ZhD3XMN5uMaBS9oV4A5SLNnWi\n",
       "OsKLTyKIQj+C0G9VE/iysseipg9Ip+BaIpc4jInqCGg5AbQbU8v2O6SHCCKGk/4GcdsWy4Lk8OZx\n",
       "H5Dx9DMNYn1AuAkkeYwgPgBEEV21InS/Eeya/D+KoNUYU11SEdMDRLhx0K8GXAFEQZTMYgcr8+5D\n",
       "kVaqD0hETbcSMPByhcQAUGmJQ3kniqykwOkAco+ANuMl/6JqrIYDoBToSnYr9TWLLdFQngCJvSAV\n",
       "V+sgaq3WdFgH+acaV+RFBSh7x2WlMlld8KEBVFsNy0zRM/TJJvEKsrxIFnAsbWTIl7iZpRovWaTB\n",
       "7QVOBYRrSxoEHQ2RtQ7COiRRGBbs9qTV4blbGgKiGgQ9dGIhYgWvBBYWeBqA2SjVKhrrIJ3Sklkg\n",
       "PW7NKiRZXj/KUyHksrvJX5esPWax6lv6oaQhwGGWzVhYpZQVTWhs3TxSA/DxefVc39CL4cZw0Yxb\n",
       "DWHh0Gr8iBEuLftyL3YqOvQFoB85uL1yqHZbN2/Ztx2YmXDl2t91HtT+Ecy3nCjqCwckuYe5AZBr\n",
       "q6zvP5Mmd5xJt80/5knnvg0QWezL604+B9Q0/w6MMZx+HaDhfbFtjfRzQG3zH5pOlcw7q6sqPzX/\n",
       "E9BzqaUmoLPx0PxPQMdTnqfmfwI6ZMjn5n8COkTQSfM/Ab2qACagCWgCmoDeASTv/Yc69dcBmv9Q\n",
       "dzr+BQ+UMM/gT7NLAAAAAElFTkSuQmCC\n",
       "\" style=\"display:inline;vertical-align:middle;\" /></a></span>"
      ],
      "text/plain": [
       "|- [x -> (1 / x^{2})] in MonDecFuncs(RealPos)"
      ]
     },
     "metadata": {},
     "output_type": "display_data"
    }
   ],
   "source": [
    "from proveit.numbers.functions import one_over_x_sqrd_in_mon_dec_fxns\n",
    "one_over_x_sqrd_in_mon_dec_fxns"
   ]
  },
  {
   "cell_type": "code",
   "execution_count": 3,
   "metadata": {},
   "outputs": [
    {
     "data": {
      "text/html": [
       "<span style=\"font-size:20px;\"> <a class=\"ProveItLink\" href=\"proofs/one_over_x_sqrd_in_mon_dec_fxns/thm_proof.ipynb\" style=\"text-decoration: none\">&nbsp;&#x22A2;&nbsp;&nbsp;</a><a class=\"ProveItLink\" href=\"../__pv_it/demonstrations/7443fa9c2fbf3ff7c6e812f810e0382a5d11855c0/expr.ipynb\"><img src=\"data:image/png;base64,iVBORw0KGgoAAAANSUhEUgAAARYAAAAzCAMAAABlhddMAAAANlBMVEX///8AAAAAAAAAAAAAAAAA\n",
       "AAAAAAAAAAAAAAAAAAAAAAAAAAAAAAAAAAAAAAAAAAAAAAAAAABHL6OuAAAAEXRSTlMAEN2ZRGaJ\n",
       "Ms12Iqu771Tz6eT7YcQAAAAJcEhZcwAADsQAAA7EAZUrDhsAAASBSURBVGje7ZvpttogEIDZl2FI\n",
       "y/u/bFlCIApeo73nXFvmh0YdCXwZZosSmoW8Ie+P8AOFhSj8nREwjYD/GhbxN0aRC0sSzejCcutM\n",
       "HDdhYRmIXVgWloVlYVlYFpaFZWFZWL5Z5Hi9/ObgP8OyTariY/6Ab2BRAT4SCzXkCyxE2lexOOeD\n",
       "cfIDsWCctDQeMRjmUY6wkFwFVyyKBf19jQVwLPjjlQ/MwVwxOOcMU7Pi3THvowbGp6vNL/A7A3CE\n",
       "CCeRDrBY11uLDOT7sKQ9G+rFkS7Ag55FcMX3sZmS2Jtewl+9kFxVLCo/6XQqjlF8eigTpMlvHli4\n",
       "+VYs1LJ6AsvDg8sMOxYy1To05HZxmkH0WDgQM7AWYmSHhdlxzIGXsFhkUUyPxe42osVzWGg9mGvY\n",
       "a1T0ft6GBUdYODYs0FwLfSaiPcQijKV31kL3lrElz2EhONlrRQNoGupaWsFIj8VR6kZYrG9YOtfC\n",
       "zvnedSxg6GATEVccnqxYKLeWx9Nr4zlY6+wNFhXSJgFuFS/qSqnt0JCQv+lyaLG3o1RlbaW11Wid\n",
       "6bFo3AyMsIg4vYrF4QTEhpexGBj5lni6tKiN7lh09qmYlsFcWkExjobFhjR5H99NCwO/7V42a0Dx\n",
       "yAzzdiu5RhulKlPsF4R4YPGGBdaZND/tNX1g8XZmHxbpVSxDl7uvwVZnWkJwmgPBbEclVPVY4mRZ\n",
       "nnAEatKoW4IEIQZoUyCWlRYs3ShVWeQYXpdmXLMWKaepHUTPvGPR3T7+9ZudJISW8oUbGWHRvn4T\n",
       "z1iS0wWxY9GhxJFkEv3iztaiCyujaFBn38LvsRzHTZkFbEGD8W4TIZVyEjQbFuun3kQYcc1aKE6s\n",
       "Jc3W1tC77bBTEjLG4qIhbYHLJFoHe8ayPcDSlGlMU4+7g721EM3JZBtA20ToWgA6Y9GGXvUtbIIl\n",
       "mbkkt9bCJ1hoAla1CG23PqGL3DNr2ZVTuIrRRA+wEK4BJ3EcKpZoq2q8KgOXXa61EywiOHokap4X\n",
       "ty8mWEo56ssrUdxFNJIBFrjFcihv+YNavjnssUSjtnKcRR+RKIiWG4kn8haqlHN0lreY+/RT5KV4\n",
       "LLsDsgvS2Wukhw5LTf4V08VRpemo6JS8LAdRA8+piPT5knajVOUtu1wEcvIUEUtaVfQtOPIPsuUt\n",
       "kk9KM6WnbRvOZlioQ0HPFVGsueNMrUilWKq/U0SJuYVLeYuLoUVvGB+PUhGjk92/ymPiAjkViXkO\n",
       "RG2TIlGdVnxTUu/xNMqhLJS1VonODGoFnVAhmjCoH7h7obFQSu1k+l1ifJf8C4Xn5P9HiH9qsaea\n",
       "6PmyMEVlSR9j+Zky2xI38Zm+guUotRX7tDaU9s9cdvdSd66W2v2POT6lO+eeaEXkquIylrp1oE+G\n",
       "Pr6XS97t5e6ldgpxAJ+GhWxfeZdXO/8lJwLUWnP6cVhm94ma56SvYSmltu8LxXVX8VRqk4Wl7+gt\n",
       "LHfSl9oLS+tDdaX2wtKwiNFtiP8ey7jUXr9veaINtbAsLAvLwsLk3/iblf3nsKy/WQ3kD48LL7q6\n",
       "h/uCAAAAAElFTkSuQmCC\n",
       "\" style=\"display:inline;vertical-align:middle;\" /></a></span>"
      ],
      "text/plain": [
       "|- [l -> (1 / l^{2})] in MonDecFuncs(RealPos)"
      ]
     },
     "metadata": {},
     "output_type": "display_data"
    }
   ],
   "source": [
    "one_over_x_sqrd_in_mon_dec_fxns.instantiate({x:l})"
   ]
  },
  {
   "cell_type": "code",
   "execution_count": 4,
   "metadata": {},
   "outputs": [],
   "source": [
    "%end demonstrations"
   ]
  }
 ],
 "metadata": {
  "kernelspec": {
   "display_name": "Python 3",
   "language": "python",
   "name": "python3"
  }
 },
 "nbformat": 4,
 "nbformat_minor": 0
}