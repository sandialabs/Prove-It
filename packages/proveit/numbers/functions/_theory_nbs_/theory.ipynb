{
 "cells": [
  {
   "cell_type": "markdown",
   "metadata": {},
   "source": [
    "Theory of <a class=\"ProveItLink\" href=\"../../../_theory_nbs_/theory.ipynb\">proveit</a>.<a class=\"ProveItLink\" href=\"../../_theory_nbs_/theory.ipynb\">numbers</a>.functions\n",
    "========\n",
    "\n",
    "Provide description here."
   ]
  },
  {
   "cell_type": "code",
   "execution_count": 1,
   "metadata": {},
   "outputs": [
    {
     "data": {
      "text/html": [
       "<h3>Local content of this theory</h3>"
      ],
      "text/plain": [
       "<IPython.core.display.HTML object>"
      ]
     },
     "metadata": {},
     "output_type": "display_data"
    },
    {
     "data": {
      "text/html": [
       "<table><tr>\n",
       "<th><a class=\"ProveItLink\" href=\"common.ipynb\">common expressions</a></th>\n",
       "<th><a class=\"ProveItLink\" href=\"axioms.ipynb\">axioms</a></th>\n",
       "<th><a class=\"ProveItLink\" href=\"theorems.ipynb\">theorems</a></th>\n",
       "<th><a class=\"ProveItLink\" href=\"demonstrations.ipynb\">demonstrations</a></th>\n",
       "</tr></table>\n",
       "<h3>Sub-theories</h3>\n"
      ],
      "text/plain": [
       "<IPython.core.display.HTML object>"
      ]
     },
     "metadata": {},
     "output_type": "display_data"
    },
    {
     "data": {
      "text/html": [
       "<h3>All axioms contained within this theory</h3>"
      ],
      "text/plain": [
       "<IPython.core.display.HTML object>"
      ]
     },
     "metadata": {},
     "output_type": "display_data"
    },
    {
     "data": {
      "text/html": [
       "<dt><a class=\"ProveItLink\" href=\"axioms.ipynb#kron_delta_def\">proveit.numbers.functions.kron_delta_def</a></dt><dd><a class=\"ProveItLink\" href=\"../__pv_it/axioms/cf497a6ff5d062fc52bf8c4816906a7652084a750/expr.ipynb\"><img src=\"data:image/png;base64,iVBORw0KGgoAAAANSUhEUgAAAP0AAAAyCAMAAACgVS2vAAAAPFBMVEX///8AAAAAAAAAAAAAAAAA\n",
       "AAAAAAAAAAAAAAAAAAAAAAAAAAAAAAAAAAAAAAAAAAAAAAAAAAAAAAAAAAAo1xBWAAAAE3RSTlMA\n",
       "q1RmmUTNIjK7EInv3Xbn9enzK1aD6QAAAAlwSFlzAAAOxAAADsQBlSsOGwAABFhJREFUaN7VW2uX\n",
       "oyAMBUTA8NgH//+/LtV2pYgSU1y7fOg5www0lzxIchnGSGMy7POhp4ndMGCCzzbgQwcpQpRwB3pm\n",
       "/Effy20HGWw8cYRDGDvCF/6DxYPqIMEYZVsv2i0npISJK/wgMQo+sm/L6e7qdAf0U6x4JJcqwvaI\n",
       "Bs80X+c9xvTCoYo82XV96GF9cdoJBm8qW37gvLfrC0d0/cF1CbyRY9A/44zsjZ4p4pbO9kEvb0U/\n",
       "RpL7VsW7CL1WLlmI4c6ttg9Btn0WQmg5iyJ5k+/jg0jdLzLmfm/ZuLqe9NnI/ijt7RpnJChaNNH8\n",
       "S/RTid4IJpsXbkhWHUVLAELw5o7dij791jXFBoxqJ0LK4/i96LEmK5vYhvNxz8ThbvQpFEDL7zEZ\n",
       "EZyHEqK+GT2klLd95+o4XmDG07vba6ncpHuit+/Hu9TAeSVsItNtpQ0RgSU5x3oAAmEJ7j0/TUoY\n",
       "OfRDz7mLai2f55se0mfkIauuEXJyROfAphOSf01E6dMyc+ht+Z2GQ1xnQ/IOw/92WjBB733XwL8Q\n",
       "PRcJGCDBqOcfWoEojYocAqIgimiivQi8STJ5gVXAy40wLYuhzPQmatYf4niV7mWQuL3nMtPNtyWq\n",
       "dCsuPMFFJDYmnWe3j1l2Oevz2QiCHJ7ZhkkoOlx8ntlZtZ+MSKfvR+8e5q756+OBLw9rvoQv3+rP\n",
       "hyGI2ReOV1WM05n7wTPvX2q3KFfhsbxTKTUfeA7sG9DPqZsIuJhXoJ/zZBMZAb38IvQJ+rCY7phd\n",
       "4BDk5t7ILR9mrT98f3fVrt9/k+Wnq3659CGwFZ5kQh1m4TN6Jdqrqo5/Luq12QyCOblFUv0sdzSs\n",
       "LAcAs3J742U6e4Q6wRGrqudePyNrg8zOBc9mmGkzAbUER1WKPP4CNeXBWw3H2Y4NwWJW4bOdZEkp\n",
       "Kqzw8WzGhlatsxk+P7gy2YYI2S7bWl5UZW6tQme6w2xDdnrrUTEMm2EIBQeUIiSfTecBy6xxyNZO\n",
       "axW6yll6GdvWVbufT2kylCUbA/5ohxon9gq4amXWXIVFv8yZTenURD9Sak2xV6KJPQf2RwFd4N2+\n",
       "ih5e6F9boNmMsjWBYDP2u3QjMDVWTfioob2/ColeL46YWySOzfjx8zybUaRuefSZy0Solrj71+r+\n",
       "qrPobREJWmxGqXoMm7Hp0iFbB11G3fLtcs2FffQ1NmMst0KxGZpA5lzKZixzeTRCsRm1huQlbEZK\n",
       "US9Ev3Suc+/CsBm/fpPYDE7or4ydOlJV9MvDiNyvMWyGgppZN8WksJjvuWJn9HM3EvL6D8FmCFk1\n",
       "67bhU6rs4crXCyBt4CbLXxFsRk31CDaD+A7h2pcr5zO2qjhNNoP4cqWT8vdeLZ0eW9Wj2IyJ+vWq\n",
       "i/Jjnze6g62lJE02YySr0HR6rdglflSe3GLYDE9P2kIPtXWismj9QfuJ23V6pdwpaSYkLZ89NFY9\n",
       "BA/XktgH9qI+dLr/+r8TVvB/ANR0KwiWnuvCAAAAAElFTkSuQmCC\n",
       "\" style=\"display:inline;vertical-align:middle;\" /></a></dd>"
      ],
      "text/plain": [
       "<IPython.core.display.HTML object>"
      ]
     },
     "metadata": {},
     "output_type": "display_data"
    }
   ],
   "source": [
    "import proveit\n",
    "%theory # toggles between interactive and static modes"
   ]
  }
 ],
 "metadata": {
  "kernelspec": {
   "display_name": "Python 3",
   "language": "python",
   "name": "python3"
  }
 },
 "nbformat": 4,
 "nbformat_minor": 0
}