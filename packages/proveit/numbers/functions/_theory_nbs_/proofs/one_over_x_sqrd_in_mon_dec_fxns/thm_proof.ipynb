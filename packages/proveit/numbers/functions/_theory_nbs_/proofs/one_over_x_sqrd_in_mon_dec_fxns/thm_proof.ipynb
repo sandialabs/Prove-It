{
 "cells": [
  {
   "cell_type": "markdown",
   "metadata": {},
   "source": [
    "Proof of <a class=\"ProveItLink\" href=\"../../../../../_theory_nbs_/theory.ipynb\">proveit</a>.<a class=\"ProveItLink\" href=\"../../../../_theory_nbs_/theory.ipynb\">numbers</a>.<a class=\"ProveItLink\" href=\"../../theory.ipynb\">functions</a>.<a class=\"ProveItLink\" href=\"../../theorems.ipynb#one_over_x_sqrd_in_mon_dec_fxns\">one_over_x_sqrd_in_mon_dec_fxns</a> theorem\n",
    "========"
   ]
  },
  {
   "cell_type": "code",
   "execution_count": 1,
   "metadata": {},
   "outputs": [],
   "source": [
    "import proveit\n",
    "theory = proveit.Theory() # the theorem's theory"
   ]
  },
  {
   "cell_type": "code",
   "execution_count": 2,
   "metadata": {},
   "outputs": [
    {
     "data": {
      "text/html": [
       "With these <a href=\"allowed_presumptions.txt\">allowed</a>/<a href=\"disallowed_presumptions.txt\">disallowed</a> theorem/theory presumptions (e.g., to avoid circular dependencies), we begin our proof of<br><strong id=\"one_over_x_sqrd_in_mon_dec_fxns\">one_over_x_sqrd_in_mon_dec_fxns:</strong> <a class=\"ProveItLink\" href=\"../../../__pv_it/theorems/f00f005e38c25b9d2f61273269f4a9eb1ac9a1930/expr.ipynb\"><img src=\"data:image/png;base64,iVBORw0KGgoAAAANSUhEUgAAASAAAAAzCAMAAAAAaCUzAAAANlBMVEX///8AAAAAAAAAAAAAAAAA\n",
       "AAAAAAAAAAAAAAAAAAAAAAAAAAAAAAAAAAAAAAAAAAAAAAAAAABHL6OuAAAAEXRSTlMAEN2ZRGZ2\n",
       "qzKJVCLN77vz6c5ReRMAAAAJcEhZcwAADsQAAA7EAZUrDhsAAASKSURBVGje7ZvpluMoDIXZFwPq\n",
       "4f1fdhAYGyfgOGmfnkoP/MhSpRDxWVxJuIrQPMgt4865fsxgMQ1+z1yAc8HfBkjcO5+cgNphGJ2A\n",
       "xpKjuY8T0OlQE9AENAFNQBPQBDQBTUAT0NcBkoOV8+Pz/xbQMurQ6wIc3ADIRvelgKgnLwARqX4X\n",
       "kNYhei2/EhCg29IHgOhZANkBRHIn/qePO5xmMWzvQmTajQ2j1tozOzpK0CyEZAHp6d1jOhcqDacJ\n",
       "EVoCfQakNPkvzoMcxHq9pI7u5Cwl6qKWbGQk1uM5EcybbnK7AbL5yeB3cUgj4EP2kKLC/nlAVLG6\n",
       "/xWPJ5ferYDI0GqzkMubbkZxAMQd8c8RRLy8CEi53wCkgKXhG0BqjRsjrgGi9cXYQr3Hx9Tv3QFB\n",
       "BxCHMSB6KSW+BiS8oo8RRNdDcEWuASIw2InFwlGc6r3yhJEDIE2p7gBSYQOULqumxtotVNmxnPwU\n",
       "kPP0eYsRXSRSVkCUK8WTI8YH7pIn6gGQjeiX48ryYm6Lp8VCuvxJnbOSepylGhsllapxrP0BkIHF\n",
       "uw4gkdxbAXHU7HRFWR/JAh8C8q6jQemLcXkLXQGZrMKAC2Ia11ICZgekIq4ipJ/iEl1YVl3OFq5o\n",
       "OIO8GUvtss9SjSm0qwLYAQXPImvCnLc70ayA8CLI5Oxe1LBHIaGfAeqJ9LoaVeW3JHL0hkCOrZLm\n",
       "WkDJa5Y9T2g9TrogLhdTmvcFZ1lzAdTMUo1FrgTqTvS6iSApR1WjS1peAGGW5AerX/+ww4hxF6vY\n",
       "HT1AJtTPwwEQyrQTKyATy8bGMGmXeYwgU6h5S6M9ahB/BrS93o1ZhD3XMN5uMaBS9oV4A5SLNnWi\n",
       "OsKLTyKIQj+C0G9VE/iysseipg9Ip+BaIpc4jInqCGg5AbQbU8v2O6SHCCKGk/4GcdsWy4Lk8OZx\n",
       "H5Dx9DMNYn1AuAkkeYwgPgBEEV21InS/Eeya/D+KoNUYU11SEdMDRLhx0K8GXAFEQZTMYgcr8+5D\n",
       "kVaqD0hETbcSMPByhcQAUGmJQ3kniqykwOkAco+ANuMl/6JqrIYDoBToSnYr9TWLLdFQngCJvSAV\n",
       "V+sgaq3WdFgH+acaV+RFBSh7x2WlMlld8KEBVFsNy0zRM/TJJvEKsrxIFnAsbWTIl7iZpRovWaTB\n",
       "7QVOBYRrSxoEHQ2RtQ7COiRRGBbs9qTV4blbGgKiGgQ9dGIhYgWvBBYWeBqA2SjVKhrrIJ3Sklkg\n",
       "PW7NKiRZXj/KUyHksrvJX5esPWax6lv6oaQhwGGWzVhYpZQVTWhs3TxSA/DxefVc39CL4cZw0Yxb\n",
       "DWHh0Gr8iBEuLftyL3YqOvQFoB85uL1yqHZbN2/Ztx2YmXDl2t91HtT+Ecy3nCjqCwckuYe5AZBr\n",
       "q6zvP5Mmd5xJt80/5knnvg0QWezL604+B9Q0/w6MMZx+HaDhfbFtjfRzQG3zH5pOlcw7q6sqPzX/\n",
       "E9BzqaUmoLPx0PxPQMdTnqfmfwI6ZMjn5n8COkTQSfM/Ab2qACagCWgCmoDeASTv/Yc69dcBmv9Q\n",
       "dzr+BQ+UMM/gT7NLAAAAAElFTkSuQmCC\n",
       "\" style=\"display:inline;vertical-align:middle;\" /></a><br>(see <a class=\"ProveItLink\" href=\"../../../__pv_it/theorems/70f7511f0a1ff9731e290a46783ff061ed7dbafd0/dependencies.ipynb\">dependencies</a>)<br>"
      ],
      "text/plain": [
       "<IPython.core.display.HTML object>"
      ]
     },
     "metadata": {},
     "output_type": "display_data"
    }
   ],
   "source": [
    "%proving one_over_x_sqrd_in_mon_dec_fxns"
   ]
  },
  {
   "cell_type": "code",
   "execution_count": null,
   "metadata": {},
   "outputs": [],
   "source": []
  }
 ],
 "metadata": {
  "kernelspec": {
   "display_name": "Python 3",
   "language": "python",
   "name": "python3"
  }
 },
 "nbformat": 4,
 "nbformat_minor": 0
}