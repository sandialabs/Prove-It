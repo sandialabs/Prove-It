{
 "cells": [
  {
   "cell_type": "markdown",
   "metadata": {},
   "source": [
    "Common expressions for the theory of <a class=\"ProveItLink\" href=\"theory.ipynb\">proveit.numbers.functions</a>\n",
    "========"
   ]
  },
  {
   "cell_type": "code",
   "execution_count": 1,
   "metadata": {},
   "outputs": [],
   "source": [
    "import proveit\n",
    "# Prepare this notebook for defining the common expressions of a theory:\n",
    "%common_expressions_notebook # Keep this at the top following 'import proveit'.\n",
    "\n",
    "from proveit import Literal"
   ]
  },
  {
   "cell_type": "code",
   "execution_count": 2,
   "metadata": {},
   "outputs": [
    {
     "name": "stdout",
     "output_type": "stream",
     "text": [
      "Defining common sub-expressions for theory 'proveit.numbers.functions'\n",
      "Subsequent end-of-cell assignments will define common sub-expressions\n",
      "%end_common will finalize the definitions\n"
     ]
    }
   ],
   "source": [
    "%begin common"
   ]
  },
  {
   "cell_type": "code",
   "execution_count": 3,
   "metadata": {},
   "outputs": [
    {
     "data": {
      "text/html": [
       "<strong id=\"Funcs\">Funcs:</strong> <a class=\"ProveItLink\" href=\"../__pv_it/common/ae5ace9763e6ba53d3ef8e10b337b51688443a880/common_expr.ipynb\"><img src=\"data:image/png;base64,iVBORw0KGgoAAAANSUhEUgAAADoAAAAOBAMAAACMfhKgAAAAMFBMVEX///8AAAAAAAAAAAAAAAAA\n",
       "AAAAAAAAAAAAAAAAAAAAAAAAAAAAAAAAAAAAAAAAAAAv3aB7AAAAD3RSTlMAdrvvq2bNMolEVCLd\n",
       "EJnHu19WAAAACXBIWXMAAA7EAAAOxAGVKw4bAAABFUlEQVQY03XPsUsCYRjH8a93ka9epxY5FhcZ\n",
       "jRkStArVUoMNERGRDU0NXURLS+fWEChtLeXuYH9AkGPjO7g1nENjwRGVNkg95833wvvw8vvAw+8F\n",
       "pkqFtfkV4s6P3OM4TA5k7MVp4ldGK06NgCTNOM1WuQB7tsKYTk2/1uYkq+Vd1OSHvK486wRUusgh\n",
       "yijjP/LUzDgsci9aL2wV4TLTYYO7CYdnlxfMnBWwIHqq6YE2cyyj/QZtnRlKbH3uR9+1w04P2upD\n",
       "G9lgOmFe//MgNYjKvZMIQuLb9nOj5FZWqH6kBQzngFXSQ5WtQOMGRMeDSN849zxZnqjuSmHlHpHu\n",
       "0V362hxpt9Yqu6kO9nqT650Zzrbz/AN41kXFqjGWFQAAAABJRU5ErkJggg==\n",
       "\" style=\"display:inline;vertical-align:middle;\" /></a><br>"
      ],
      "text/plain": [
       "<IPython.core.display.HTML object>"
      ]
     },
     "metadata": {},
     "output_type": "display_data"
    }
   ],
   "source": [
    "# temporarily to represent functions generally\n",
    "Funcs = Literal('Funcs')"
   ]
  },
  {
   "cell_type": "code",
   "execution_count": 4,
   "metadata": {},
   "outputs": [
    {
     "data": {
      "text/html": [
       "<strong id=\"EvenFuncs\">EvenFuncs:</strong> <a class=\"ProveItLink\" href=\"../__pv_it/common/2f0664e18a475d918e729205097cd88e523efdb10/common_expr.ipynb\"><img src=\"data:image/png;base64,iVBORw0KGgoAAAANSUhEUgAAAGwAAAAOBAMAAAA4dOSvAAAAMFBMVEX///8AAAAAAAAAAAAAAAAA\n",
       "AAAAAAAAAAAAAAAAAAAAAAAAAAAAAAAAAAAAAAAAAAAv3aB7AAAAD3RSTlMAdrvvq93NRIkQmTJm\n",
       "IlTMv30WAAAACXBIWXMAAA7EAAAOxAGVKw4bAAABuElEQVQoz3WRMWgTYRTHf5cYc5d4yVUctHQ4\n",
       "MU4KVju0g2BaqpNCBgfHc1caBBFE6GUQHYSekKlQ0qEtdDtxFa2TiBEz6OyBc2lailqs6P/LBRdz\n",
       "b3h3/H/f/73vew84PlWbP3uJ/8OAM5fJiu/mSBa4k+Uq/lRaHgHKBrzLstk/lJ6PAJYB21m2o30s\n",
       "yiNAri85ybJVfR6Zfs8oJDit8ah4YqV12oCAV+CMb3Hkn9aaiLHHNvW3eHPutz7hN/J17sfl0M7N\n",
       "0unBm9C9qzdUJvnEUPuSlHzO8VDnl2K3ofcnG1RC9xCr+aDg8zUWqF2dhNelBtcYarfIe26f87It\n",
       "qBORw0VZc7tjT4g6TXYigYhViPKeUKqVDnTe3fto3rYHPcejcqDJVOtG2UH1zdocM5DFyP011PK+\n",
       "wUt/Qq1t18w6QnexqXpGl+fQSfepWMfqD7XOAHNPTW2V4rPGXdeOCqqTMKPWdgoUNXL++1SrbkHz\n",
       "MchWUKnitOyB63EsYLmnO1nBB7PPQazxMgxTTWO049tUVmkv7M/PXQkM7iqd7HoUGzjXk/aF/RsD\n",
       "W7u1PRunGk+7p3jxdoK/CwSDkIjG4XIAAAAASUVORK5CYII=\n",
       "\" style=\"display:inline;vertical-align:middle;\" /></a><br>"
      ],
      "text/plain": [
       "<IPython.core.display.HTML object>"
      ]
     },
     "metadata": {},
     "output_type": "display_data"
    }
   ],
   "source": [
    "# temporarily to represent even functions\n",
    "EvenFuncs = Literal('EvenFuncs')"
   ]
  },
  {
   "cell_type": "code",
   "execution_count": 5,
   "metadata": {},
   "outputs": [
    {
     "name": "stdout",
     "output_type": "stream",
     "text": [
      "These common expressions may now be imported from the theory package: proveit.numbers.functions\n"
     ]
    }
   ],
   "source": [
    "%end common"
   ]
  }
 ],
 "metadata": {
  "kernelspec": {
   "display_name": "Python 3",
   "language": "python",
   "name": "python3"
  }
 },
 "nbformat": 4,
 "nbformat_minor": 0
}