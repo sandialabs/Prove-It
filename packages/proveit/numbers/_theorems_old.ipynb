{
 "cells": [
  {
   "cell_type": "code",
   "execution_count": null,
   "metadata": {},
   "outputs": [],
   "source": [
    "import proveit.special_statement_magic # for %begin_axioms and %end_axioms\n",
    "from proveit.expression import Operation\n",
    "from proveit.basiclogic import In, Implies, Forall, Exists, Equals, SetOfAll\n",
    "from proveit.numbers import Summation, Multiply, Exponentiate, DiscreteContiguousSet, \\\n",
    "    Fraction, subtract, Add, LessThan, LessThanEquals, Mod\n",
    "from proveit.common import  a, b, c, f, g, k, l, m, x, y, z, fx, fa, fb, gy, A, N, R, S, Am, x_etc, y_etc, z_etc\n",
    "from proveit.numbers import Integer, Real, Complex\n",
    "from proveit.numbers.common import zero, one, two, infinity"
   ]
  },
  {
   "cell_type": "code",
   "execution_count": null,
   "metadata": {},
   "outputs": [],
   "source": [
    "%begin_theorems"
   ]
  },
  {
   "cell_type": "code",
   "execution_count": null,
   "metadata": {},
   "outputs": [],
   "source": [
    "add_assoc_rev = Forall([x_etc,y_etc,z_etc],\n",
    "                  Equals(\n",
    "                        Add(\n",
    "                                x_etc,Add(y_etc),z_etc),\n",
    "                        Add(\n",
    "                                x_etc,y_etc,z_etc)\n",
    "                        )\n",
    "                  )\n",
    "add_assoc_rev"
   ]
  },
  {
   "cell_type": "code",
   "execution_count": null,
   "metadata": {},
   "outputs": [],
   "source": [
    "mult_assoc_rev = Forall([x_etc,y_etc,z_etc],\n",
    "                  Equals(\n",
    "                        Multiply(\n",
    "                                x_etc,Multiply(y_etc),z_etc),\n",
    "                        Multiply(\n",
    "                                x_etc,y_etc,z_etc)\n",
    "                        )\n",
    "                  )\n",
    "mult_assoc_rev"
   ]
  },
  {
   "cell_type": "code",
   "execution_count": null,
   "metadata": {},
   "outputs": [],
   "source": [
    "pow_one_unchanged = Forall([a], Equals(Exponentiate(a, one), a))\n",
    "pow_one_unchanged"
   ]
  },
  {
   "cell_type": "code",
   "execution_count": null,
   "metadata": {},
   "outputs": [],
   "source": [
    "%end_theorems"
   ]
  },
  {
   "cell_type": "code",
   "execution_count": null,
   "metadata": {},
   "outputs": [],
   "source": []
  }
 ],
 "metadata": {
  "kernelspec": {
   "display_name": "Python 3",
   "language": "python",
   "name": "python3"
  }
 },
 "nbformat": 4,
 "nbformat_minor": 0
}
