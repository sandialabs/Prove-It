{
 "cells": [
  {
   "cell_type": "markdown",
   "metadata": {},
   "source": [
    "Proof of <a class=\"ProveItLink\" href=\"../../../../_theory_nbs_/theory.ipynb\">proveit</a>.<a class=\"ProveItLink\" href=\"../../theory.ipynb\">trigonometry</a>.<a class=\"ProveItLink\" href=\"../../theorems.ipynb#sine_neg_interval\">sine_neg_interval</a> theorem\n",
    "========"
   ]
  },
  {
   "cell_type": "code",
   "execution_count": 1,
   "metadata": {},
   "outputs": [],
   "source": [
    "import proveit\n",
    "theory = proveit.Theory() # the theorem's theory"
   ]
  },
  {
   "cell_type": "code",
   "execution_count": 2,
   "metadata": {},
   "outputs": [
    {
     "data": {
      "text/html": [
       "With these <a href=\"allowed_presumptions.txt\">allowed</a>/<a href=\"disallowed_presumptions.txt\">disallowed</a> theorem/theory presumptions (e.g., to avoid circular dependencies), we begin our proof of<br><strong id=\"sine_neg_interval\">sine_neg_interval:</strong> <a class=\"ProveItLink\" href=\"../../../__pv_it/theorems/3cda853641b3664d57b17ebccdb29f624dd9511c0/expr.ipynb\"><img src=\"data:image/png;base64,iVBORw0KGgoAAAANSUhEUgAAAOcAAAAXBAMAAAACSEUKAAAAMFBMVEX///8AAAAAAAAAAAAAAAAA\n",
       "AAAAAAAAAAAAAAAAAAAAAAAAAAAAAAAAAAAAAAAAAAAv3aB7AAAAD3RSTlMAq1RmmUTNIjK7EInv\n",
       "3XZ/CtNrAAAACXBIWXMAAA7EAAAOxAGVKw4bAAADYUlEQVRIx7WWW0gUURjH/+7dWfdivlj0sBEE\n",
       "lYUPFfQSS1FKQdhLEEpt9RD60kYgGJkrRBBYboUs240RJFhMdu0pkcRuL93YikCChQkFKUHFMrWk\n",
       "7ftmd2b2foE6sDPnfOec+X3nu50Fym3eoivsMV/uCXNp+3N80VV0ibUpz4RRosdx+jl5tLF06NaE\n",
       "zs9TRDOP80MtnxXhWAMwyVrXA/tZcqZkpuBJ6PxDE1XWD+WF9h/4leydwpAXJpF6bUA36+0vGWqo\n",
       "T7xFTTQChy/vSe1JqD4Kqx96N3V3QIZbXSVDq7IklkU4Evu/xmKefNBKJ3TUfcWfEKEn1U2lu3RT\n",
       "lqQiirB8/KPfCpzU4YZlAThNXROtfhuLvS4deoiONjnraX+KKy8ufeFoDEs4wRRzWyHzhgn6HRjm\n",
       "aYrdRuB26md1ORLJrvZI1RAQxUngvcuyRJI5H+Z4i8lbCNoVgeUPsIvdSz44BzOhzYel5LKdmcTR\n",
       "GcCtDD4ALSIk3ADuAqQ7zlZXr/KMCcWgv4E6PtU4uVjkRSGRrHN9bR8EZwZTLxn9aFZGLwHbyjQY\n",
       "GgRId6xA4Bd6YtT8SegDHsQmUswbgZGW9XLkzRNYYh1v4SYMjZwTmeWkyoelRIIlocKTuFuDElEv\n",
       "fzhU8KQUSDoKpBbOcTopPHvIuvOUvVwvYFPXd8bjcfJTl4hnWlKReS9Av5wCXYTNnb4xZ8r4Zd22\n",
       "sXmj9HhEhjX4sSzItmlXa8/B81Z+94r4CJ3i1PvAdqAmxbyLqJPNYJfyQQV20jgMFEC7ucuci+RF\n",
       "253heaOcbcdUKKYHk9B3MCo1i2KeGAEmtiaga4QJpdDlgFopwMMe2UQPfXLGwRDh7KaBw2tw61uD\n",
       "wZvYQJ4OUgsA/sty3IlYgEWBXgOaZ2eaut+s616t3bxK+g5MJXOlv0/Mglas/1kDGxf9gbFaen5i\n",
       "PyjTDlR5LawBrmq3n/+IGkiqeW2+/IWj+V52GZTbFvWT7M5OZWQS9yZrhBYPBolibZB8ZXRqDtO7\n",
       "Uf59Gkm7Lvap1+sohWcHn6LSqyliE9HjwuiUmCINlA8V1BDryL7ShJFgH4yR9B2JXNGSMFQ+VCui\n",
       "gbRTpbSG9H8YYobQLBWH5vuPZGfedM4tYloRTDyb8J+bmONPyr8l/AWdgPeeQBu+iAAAAABJRU5E\n",
       "rkJggg==\n",
       "\" style=\"display:inline;vertical-align:middle;\" /></a><br>(see <a class=\"ProveItLink\" href=\"../../../__pv_it/theorems/1126a7d04ead87c972e95779c16997a3817724a80/dependencies.ipynb\">dependencies</a>)<br>"
      ],
      "text/plain": [
       "<IPython.core.display.HTML object>"
      ]
     },
     "metadata": {},
     "output_type": "display_data"
    }
   ],
   "source": [
    "%proving sine_neg_interval"
   ]
  },
  {
   "cell_type": "code",
   "execution_count": null,
   "metadata": {},
   "outputs": [],
   "source": []
  }
 ],
 "metadata": {
  "kernelspec": {
   "display_name": "Python 3",
   "language": "python",
   "name": "python3"
  }
 },
 "nbformat": 4,
 "nbformat_minor": 0
}