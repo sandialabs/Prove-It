{
 "cells": [
  {
   "cell_type": "markdown",
   "metadata": {},
   "source": [
    "Proof of <a class=\"ProveItLink\" href=\"../../../../_theory_nbs_/theory.ipynb\">proveit</a>.<a class=\"ProveItLink\" href=\"../../theory.ipynb\">trigonometry</a>.<a class=\"ProveItLink\" href=\"../../theorems.ipynb#complex_unit_circle_chord_length\">complex_unit_circle_chord_length</a> theorem\n",
    "========"
   ]
  },
  {
   "cell_type": "code",
   "execution_count": 1,
   "metadata": {},
   "outputs": [],
   "source": [
    "import proveit\n",
    "theory = proveit.Theory() # the theorem's theory"
   ]
  },
  {
   "cell_type": "code",
   "execution_count": 2,
   "metadata": {},
   "outputs": [
    {
     "data": {
      "text/html": [
       "With these <a href=\"allowed_presumptions.txt\">allowed</a>/<a href=\"disallowed_presumptions.txt\">disallowed</a> theorem/theory presumptions (e.g., to avoid circular dependencies), we begin our proof of<br><strong id=\"complex_unit_circle_chord_length\">complex_unit_circle_chord_length:</strong> <a class=\"ProveItLink\" href=\"../../../__pv_it/theorems/f393f69d6a4acf4860c2188ba3a7c50e0fbaeab20/expr.ipynb\"><img src=\"data:image/png;base64,iVBORw0KGgoAAAANSUhEUgAAAWcAAAAyCAMAAAC3UupPAAAAM1BMVEX///8AAAAAAAAAAAAAAAAA\n",
       "AAAAAAAAAAAAAAAAAAAAAAAAAAAAAAAAAAAAAAAAAAAAAADxgEwMAAAAEHRSTlMAq1RmmUTNIjK7\n",
       "EInv3XavTnTj9wAAAAlwSFlzAAAOxAAADsQBlSsOGwAABclJREFUeNrdXOnWpCoMlH1neP+nvYJL\n",
       "AyoNgrc9Hz/mTOZ0umMRKkmpM01jl+DTK1ZXHOyuixQy/sfMHLgAegfMfXEocteFmwTZzBx3eeol\n",
       "MPfFUY2zFNqkLtAkH8jMQQvRd8DcG0dDPlOcuSiQfhUYf3lMs1fA3B1HA84O5i4mpSwznkmNfUc6\n",
       "d8dRjzNxMneBOuHkzBxxWvVLWKM7jnqclTm6bFRybvYv/ZIi2B/HChoDyrLy2aDAWgBTnIljacqP\n",
       "ZVPr5CtgHhDHAhrxNC+K3yYdlfMfLD0CFGR7MZYVwTvSeUAcATSpfQXDxcYMhl3QNsUZpnsDhyYg\n",
       "d1cTGLozmiE+PI5GnLELu7aRkKTms7afwKGBdCrFWTqbJv3I/gBE1Qf38+XuxKk4/daaOLpw1iJg\n",
       "VCyJYReI7+2S0inSQyBGDis6Oq5DG499ttPNcfTgvGQhct+7Z+x5IcEZpaUPDayE3KGHcNa85VuT\n",
       "OPpw9hgCOsECSJ6jFh5PcJZpENKNm1VsvGcpInT/FamQVXV7uztxN3dOshpnOyJ3AmjCenkCF+nK\n",
       "y1UCH1vu7FDpcS2CiFG4wFkaNsPWiLM1crK4Gmcx4iwt/QawijNgS2VVAoXRyWhzQtAfqGFPdmtR\n",
       "xFl6ksUzXLwSh91JoE0X0q1xMIxpSYdmGnXrG+cuKqV1b+L9A7TjxEmHizhz3/Pr+acsqMd5cZqB\n",
       "wqAW5zgOJsIlkoI4gR/CGbmDyUEc1v0yaL/yRpibBJKyiTd8ZmhYi3McBwh5owtucnoI5xSOxaSb\n",
       "4gQ7cIYOfudn7emZoDacZ3pGorrfiOPQYQ4DNwpjN87p8V5MtF5RlzaOkilMr0VCGxxDRjCCVpWr\n",
       "wMGJY2vr+7o4DhCKEbgxH9puFweOpg6jZJ/KlbZTARGpDUStHU3JSTfHEc7DcdLgFllLJ0b9D3Gq\n",
       "MZtbx7HauRNHE4et6Ls1qxKtRO/pxBo1lJJTPNhHWkOiG6nclR/FBRkwMLuSZrywyceql5oeTQa2\n",
       "P/J9p1lphEZRDOjJ1uMjzssQJNqaxZJTTT7jHOcT9Y6EOxz+IgT4tNxu6P0lY05MIS+of5cWuAVC\n",
       "+K5s8tIUO1IMSE7nv5BIy7qkozMBrOj0r+Y8ZCyBRVSM6E4lwobsXXEOn/nkvbu7YmDTpFhMaC+q\n",
       "4CYtYLz+xfo0QNJ+uT4dIIPMrybeKDrpdpxRnM0G7+O/caEhOMd5SD6f4TyDjOyJArFJC3Y/UgFn\n",
       "K3EVb9wJvORUw89pHNCfC5YTb9jF0Jg8iPMZb8yt89pEpwrEKi3Iz9nzvMGERSd18NBv4OVGb1t5\n",
       "KTnV5HMSBw/0Y/PDAe0uAT2G81kd9IM+2AgiViBWaYGgCGcslDjtpw79szQaEdt4j7/kVNfXfeJg\n",
       "Bvt1ENmXO/2CbQjTJ3A+F+zAGl2qQKzSAqIiLLjwhiKwbk6ZT7ejzdFfO7XOKWapTofKQ5S1VnnF\n",
       "QWsgOXAacCicHnl/M1NOMjNTIFZpgasp5mdClDyZd0kjIjdypGruJtNj65v+FwOpCmakQARJcpMW\n",
       "PiPM0ted1MH0NsbvcObuuQdWv+p/ZR0pOVKbAsG9RLZJC2zbREItVZPEmJYPyu9wnhx+DOfv+t+F\n",
       "rJab6UfjvFeen8t3fuk7cDbPPbLaoP9lMkvhZhpplDuAfgfO4LmH/Br0v2xcAtd3zVtpDsUDwg9x\n",
       "Rk8/fWZcTaiiZPYsHlPQD3HmDj4KM6/ps1n6ITayN4/bz2feBeLNcTyRzqDqUD32nMw8MU+vWM/G\n",
       "gasYAJiS2bfIkxPCW+JAdYcl44nBEhV+R0I/GMe5/vetFg8uzeglz5k/F8eF/veNw0c/GP533pu4\n",
       "6CIu9L8jcz363sSfT+gr/S9fApTMAYu+JKF/GwdJt5mM33X+kvc0fxuHgSVzyLLiHQn9yzj+h/eO\n",
       "/8x79D2sQUvmOGqE7wD6V3FwKgvmwPUn/p+T20umuEbmf5bCOeldz6JFAAAAAElFTkSuQmCC\n",
       "\" style=\"display:inline;vertical-align:middle;\" /></a><br>(see <a class=\"ProveItLink\" href=\"../../../__pv_it/theorems/e0d3cd255131c74cb320b4700cad178d394582d60/dependencies.ipynb\">dependencies</a>)<br>"
      ],
      "text/plain": [
       "<IPython.core.display.HTML object>"
      ]
     },
     "metadata": {},
     "output_type": "display_data"
    }
   ],
   "source": [
    "%proving complex_unit_circle_chord_length"
   ]
  },
  {
   "cell_type": "code",
   "execution_count": null,
   "metadata": {},
   "outputs": [],
   "source": []
  }
 ],
 "metadata": {
  "kernelspec": {
   "display_name": "Python 3",
   "language": "python",
   "name": "python3"
  }
 },
 "nbformat": 4,
 "nbformat_minor": 0
}