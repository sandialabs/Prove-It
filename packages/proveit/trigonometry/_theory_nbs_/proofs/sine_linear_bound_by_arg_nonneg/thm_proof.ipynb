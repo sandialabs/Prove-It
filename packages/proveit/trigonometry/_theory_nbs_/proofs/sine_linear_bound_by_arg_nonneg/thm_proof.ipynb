{
 "cells": [
  {
   "cell_type": "markdown",
   "metadata": {},
   "source": [
    "Proof of <a class=\"ProveItLink\" href=\"../../../../_theory_nbs_/theory.ipynb\">proveit</a>.<a class=\"ProveItLink\" href=\"../../theory.ipynb\">trigonometry</a>.<a class=\"ProveItLink\" href=\"../../theorems.ipynb#sine_linear_bound_by_arg_nonneg\">sine_linear_bound_by_arg_nonneg</a> theorem\n",
    "========"
   ]
  },
  {
   "cell_type": "code",
   "execution_count": 1,
   "metadata": {},
   "outputs": [],
   "source": [
    "import proveit\n",
    "theory = proveit.Theory() # the theorem's theory"
   ]
  },
  {
   "cell_type": "code",
   "execution_count": 2,
   "metadata": {},
   "outputs": [
    {
     "data": {
      "text/html": [
       "With these <a href=\"allowed_presumptions.txt\">allowed</a>/<a href=\"disallowed_presumptions.txt\">disallowed</a> theorem/theory presumptions (e.g., to avoid circular dependencies), we begin our proof of<br><strong id=\"sine_linear_bound_by_arg_nonneg\">sine_linear_bound_by_arg_nonneg:</strong> <a class=\"ProveItLink\" href=\"../../../__pv_it/theorems/e3a4349c3f3e15301e1b7c3193f7fd7292242c480/expr.ipynb\"><img src=\"data:image/png;base64,iVBORw0KGgoAAAANSUhEUgAAAKMAAAAVBAMAAADY0UPbAAAAMFBMVEX///8AAAAAAAAAAAAAAAAA\n",
       "AAAAAAAAAAAAAAAAAAAAAAAAAAAAAAAAAAAAAAAAAAAv3aB7AAAAD3RSTlMAq1RmmUTNIjK7EInv\n",
       "3XZ/CtNrAAAACXBIWXMAAA7EAAAOxAGVKw4bAAACjUlEQVQ4y62US2gTURSGfzOZJJ00Sasg6iog\n",
       "CKJIFoI7CZqiIkhcuFI0VqFWQSsUodZIAuJOqZVSoiIjzCZo21QQTERQ1JUK8bEQSuRqBReFNqDB\n",
       "VkL13LnzSBzKzMKBZM795tx/zusO4O0a+M9+QDTu0fEo/bq4sdHNc4v+H3zRguYeO7wIRRNAD7f7\n",
       "XBSVjH6Tf9qoIzFh2b4+G50G8vztIy6S/oS4qzYqI5YzTOmjaqPtQICWYbdKdTpIqIGYsSs6o7ag\n",
       "ThUSBRBwK+UmB1lVxZQI/f7nNhQg+rZWe+0muZ9imJ3PXHiOqy8vf2FEphiOpfkj7YPpJFCY+r0X\n",
       "uOUmeQIoAlUcB97FQ7+ILOSwwGfwXq/lJJBEnTyPYNe/ElqFN+3rd3P9HjiiguEGcAf4QeRcd3dT\n",
       "z9aWFMj3jFqvhimD4AEm5mHm5Fqyhvfwxlk1fgVElugFJFkAloksQVnWHw1aiQsUqpMI4zuLKg3U\n",
       "9fVjYKXwMK0ne/CAd8+SVJ7+SdqStFn6jbb2GEimKJHZSX83MQo/lRWMSZPcI5vOIpKzE78IabFF\n",
       "soFIEm1DZCBfleyHFF+wjl7MQpeManS7UuFRmh+Bu8A2YE1L4g1stebeGHWBJH5sLlF3/CNYVPQz\n",
       "xEpDJH1Qn1arltPg7uNcr19IrlY+2d30nYKF/CXeNEovcnu6Luujy/aVaTTiesd3mHuuAYfn59L5\n",
       "NxvyzXWbmxSD9s3xGRMokjaWsQF/UuovFEYp8UfO42kV1f3KmkaM6hYqiVoeqmAwlUqlW/ykpGfJ\n",
       "3aYRUHcZh4iGSHM6jq+kMFHjl11X+6MmP6Fshyg9+ewZJZVx7Cx6DbKjvcRKuTC2gmeQeZSkI/YX\n",
       "bRPJoaurfjUAAAAASUVORK5CYII=\n",
       "\" style=\"display:inline;vertical-align:middle;\" /></a><br>(see <a class=\"ProveItLink\" href=\"../../../__pv_it/theorems/3e6425ac8e0de63195f0ca52d3bf0c4981e8fc380/dependencies.ipynb\">dependencies</a>)<br>"
      ],
      "text/plain": [
       "<IPython.core.display.HTML object>"
      ]
     },
     "metadata": {},
     "output_type": "display_data"
    }
   ],
   "source": [
    "%proving sine_linear_bound_by_arg_nonneg"
   ]
  },
  {
   "cell_type": "code",
   "execution_count": null,
   "metadata": {},
   "outputs": [],
   "source": []
  }
 ],
 "metadata": {
  "kernelspec": {
   "display_name": "Python 3",
   "language": "python",
   "name": "python3"
  }
 },
 "nbformat": 4,
 "nbformat_minor": 0
}