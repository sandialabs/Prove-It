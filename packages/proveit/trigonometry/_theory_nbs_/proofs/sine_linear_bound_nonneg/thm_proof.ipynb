{
 "cells": [
  {
   "cell_type": "markdown",
   "metadata": {},
   "source": [
    "Proof of <a class=\"ProveItLink\" href=\"../../../../_theory_nbs_/theory.ipynb\">proveit</a>.<a class=\"ProveItLink\" href=\"../../theory.ipynb\">trigonometry</a>.<a class=\"ProveItLink\" href=\"../../theorems.ipynb#sine_linear_bound_nonneg\">sine_linear_bound_nonneg</a> theorem\n",
    "========"
   ]
  },
  {
   "cell_type": "code",
   "execution_count": 1,
   "metadata": {},
   "outputs": [],
   "source": [
    "import proveit\n",
    "theory = proveit.Theory() # the theorem's theory"
   ]
  },
  {
   "cell_type": "code",
   "execution_count": 2,
   "metadata": {},
   "outputs": [
    {
     "data": {
      "text/html": [
       "With these <a href=\"allowed_presumptions.txt\">allowed</a>/<a href=\"disallowed_presumptions.txt\">disallowed</a> theorem/theory presumptions (e.g., to avoid circular dependencies), we begin our proof of<br><strong id=\"sine_linear_bound_nonneg\">sine_linear_bound_nonneg:</strong> <a class=\"ProveItLink\" href=\"../../../__pv_it/theorems/e459b601ff75bf9068c935690c8f272d94e11bd70/expr.ipynb\"><img src=\"data:image/png;base64,iVBORw0KGgoAAAANSUhEUgAAAQUAAAAyBAMAAACnsNMDAAAAMFBMVEX///8AAAAAAAAAAAAAAAAA\n",
       "AAAAAAAAAAAAAAAAAAAAAAAAAAAAAAAAAAAAAAAAAAAv3aB7AAAAD3RSTlMAq1RmmUTNIjK7EInv\n",
       "3XZ/CtNrAAAACXBIWXMAAA7EAAAOxAGVKw4bAAAEl0lEQVRYw61ZXYgbVRT+Nr+TmU2yVfBnFQwI\n",
       "QkHb+uSTbdBUqw8SCxZEoasUpD/YFIpS28oGRATFrlvKGv+IsBSKtolCoZtSmlZfRMWtllJaVkZb\n",
       "UCy2wW7Y7bpsPPdOZuZuEpObmXseZu6Qc3e+uec73zn3LqDEPvQ27UgRymxgjbd52iV1GO6R8tr9\n",
       "hLhc107Q5SFlEIIjMl7RMZzOOk+xNUfpagypwrAvJxWwHAarztMUkqN0+0UVhl+lvAYXMDDnMKGO\n",
       "ZIruDypiZbAqR9xpDMwLDyVG5EhaDYbBsqxnvGaPSiY2M3KE59RguCG9ngdMZ84obnAWvaQGwzkP\n",
       "njtXrFjkg9VKCKHNy3qGxngYWCbfgr5kB0WFSFZlPR+2SEE0JADBBUsnppVQUlZnAmW83hzqdQ6F\n",
       "JZUSUh6QLRbvAn/Z47qtDPpNJWmRk/OLns9knIW/Tb/YHJ1RgeETWXFoNBpOYZm8aiP/FODBvN8P\n",
       "hu+cD/2mtSzK2GlgPbu/4gOCPmuPwrNoKYs43Jsr67LIW1XVhzwsOUNBbpplUT/VM/1JOyM00Uj5\n",
       "wBD4pxOwZlkE/q70mF9KI0irFfFVNec718hSMwyP9gCRJEb+ODPzvR8MCS4y2pXrI6+dwdvfvvmb\n",
       "KZRFZg882R0DEWED8JEfDAbX3CPANKuB51LanFgWmW0a7iqzlK+7EG0T20m2ftHf/7CeurcZIY7h\n",
       "xSJMfMDF4qZYFjmGrt8YJ92KFQ1ategzFoEDl7fcQaO9tH6RYpMnVtY0PQITlIQ7dmxxQ8/7kvgt\n",
       "AkwYCsCSWBZZLO607o02szBQyQuYEb7b2Aa8f/chmGVjLz0fW48vMVgUMHAPBD5jQmAYaMGgn2qk\n",
       "XQxuWSROPt1DPlnZHVlLl4MYR4ioAdMMHmM/7c/uR3xUwMA8EDzIx1/EWmPxBssPF4NTFnvnJosF\n",
       "vqbvi9bwMq6AY0hM0u2tCluHnIuBeyTGrXnH464cGTwvVgG3C7Gwy6KERjFOYt8Q73Dmdf4us7yH\n",
       "sDzLVUPkA/PQzjbnpQIuhgTXB3rlBAOw1cJgl0UJrebtxwCtePzjr2ph7m8+NQV8nuJ58YiAgXlg\n",
       "ZeX/NOqF69ey+R+G84t3rVwcEstiT0vaaZfMhdLBrYXCOMXieKtyj9kewPMVm+FOlx6o+yv9JXtn\n",
       "kKTYa2WLD89VsDuTyWRbMFjsyLeJnuazEXL6/UjxsaZcUm5OdloH7kG2i4nexqsuQsx2ecHRGWYX\n",
       "u2FYbS97+CSN9hAxwq9u1zMjHTBwD2ZsNap6zf35gspWUJ8qHOrk1d5d5DShn7/XH4b7pLw6dDgx\n",
       "IRbr+topGT8RodOdWkE5DFqBbIKNNoik6qsDOrnxxNp3xG57SWpae6obRdPDHod/RiqR+3OZvHjd\n",
       "4+xsCDu0ULWvuTEMt3RcCizcn0jlseytSSV7Xpzvy/tx1Ja19moOg/r6M/oC6t4OLxSdBbEyO41/\n",
       "xUAqOgtyWiYpSqaWnajGVB1Qbvc+dbOis0G8l/M89WdFEJDwvF9Vd1YseWbewTYpg4CIx02ztk0d\n",
       "Bq//QznMGfkfAqllDqNItiUAAAAASUVORK5CYII=\n",
       "\" style=\"display:inline;vertical-align:middle;\" /></a><br>(see <a class=\"ProveItLink\" href=\"../../../__pv_it/theorems/11f5593972e0d314fa3f45ad4b6f0febc34d02fc0/dependencies.ipynb\">dependencies</a>)<br>"
      ],
      "text/plain": [
       "<IPython.core.display.HTML object>"
      ]
     },
     "metadata": {},
     "output_type": "display_data"
    }
   ],
   "source": [
    "%proving sine_linear_bound_nonneg"
   ]
  },
  {
   "cell_type": "code",
   "execution_count": null,
   "metadata": {},
   "outputs": [],
   "source": []
  }
 ],
 "metadata": {
  "kernelspec": {
   "display_name": "Python 3",
   "language": "python",
   "name": "python3"
  }
 },
 "nbformat": 4,
 "nbformat_minor": 0
}