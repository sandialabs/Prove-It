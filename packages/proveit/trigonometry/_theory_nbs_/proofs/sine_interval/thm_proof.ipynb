{
 "cells": [
  {
   "cell_type": "markdown",
   "metadata": {},
   "source": [
    "Proof of <a class=\"ProveItLink\" href=\"../../../../_theory_nbs_/theory.ipynb\">proveit</a>.<a class=\"ProveItLink\" href=\"../../theory.ipynb\">trigonometry</a>.<a class=\"ProveItLink\" href=\"../../theorems.ipynb#sine_interval\">sine_interval</a> theorem\n",
    "========"
   ]
  },
  {
   "cell_type": "code",
   "execution_count": 1,
   "metadata": {},
   "outputs": [],
   "source": [
    "import proveit\n",
    "theory = proveit.Theory() # the theorem's theory"
   ]
  },
  {
   "cell_type": "code",
   "execution_count": 2,
   "metadata": {},
   "outputs": [
    {
     "data": {
      "text/html": [
       "With these <a href=\"allowed_presumptions.txt\">allowed</a>/<a href=\"disallowed_presumptions.txt\">disallowed</a> theorem/theory presumptions (e.g., to avoid circular dependencies), we begin our proof of<br><strong id=\"sine_interval\">sine_interval:</strong> <a class=\"ProveItLink\" href=\"../../../__pv_it/theorems/6c1f2b6da41930a8e975fb6aac3a004944b54a1e0/expr.ipynb\"><img src=\"data:image/png;base64,iVBORw0KGgoAAAANSUhEUgAAAL0AAAAVBAMAAADhtvKAAAAAMFBMVEX///8AAAAAAAAAAAAAAAAA\n",
       "AAAAAAAAAAAAAAAAAAAAAAAAAAAAAAAAAAAAAAAAAAAv3aB7AAAAD3RSTlMAq1RmmUTNIjK7EInv\n",
       "3XZ/CtNrAAAACXBIWXMAAA7EAAAOxAGVKw4bAAACmklEQVQ4y5WVz2sTQRTHv/mxm91NdhMVhEK1\n",
       "AW+eevDcFqtWLyUXLx40iCBqkfUiFFuJ/gHt0tJDFHUFKYpoo5BDLEpzrQg5iMRq6GJBT4b4u/Qg\n",
       "vtndpBOz203mMm/fzHzmzXfevAV2ajEEtq9Vb79Wy0EPWvwpmF/0G4hncJq6FLMPeE8JF+xuapAL\n",
       "aznny5fWeIv4Gi08yr7Pe/MXne7MyLZrXqn48e8f2+It4uMicIPJbHjzR51O4Q5tYNM3fm2Ltxj/\n",
       "ECCaZKa9+SsdntkMvjuEO7V3wfyEiQhpJPrIn+1w7YPyg/XCZbOb+EWCv6nVXnvzo3S9M0OfYxMp\n",
       "aWKsvp8p9RfCLzZ01exKnzhlz3HgljefdlcMqBBTUHdjlrJZ24T2pz0hduRHSIEriNEusXHL0eTD\n",
       "ub2WO0tNQ1iFBjkFeQVJJuS3XQP2pWS744dpsmwy65FJuTTTtwCrEL/mzkqQf/2ubvMNJGnbpIEl\n",
       "trtEotbeu/zFGmtVL77UoD0sdr3zmEOUpIJlRZ5y/MfrPzk+wYeZ8orRXfwCO2x2iORp4Cw2YPO1\n",
       "B9v6xEwM5zh+Bm/toUqX+rB5z0mZKL0bJyirMLnhzpItOhxCg5w+mfCqPVT34yvt98uQU3S96u1n\n",
       "DcEuM9aJUuuxpkA4WSe46PBD6SdO+RHTHvw4pdZStmkxPstwhGhJUo+ORC7k83OkT7G5VqpAeFUv\n",
       "Sv3lhwPlm/fKFN34mFsy+k518EP9v/dAXWtajK9m3LEkErpUcPQ/+aK5oupfloVSZ32w20GuPmO6\n",
       "9ZTMw+4zo/xs3i8rTz3X/wLPH22Fs0yiTOZYYbmkHGm+Hlnvma9YHP+/uqyU8gvtDqNnvsb/vwLj\n",
       "ux7Mf+n3//2YwRfgH/GI1wR1zq9LAAAAAElFTkSuQmCC\n",
       "\" style=\"display:inline;vertical-align:middle;\" /></a><br>(see <a class=\"ProveItLink\" href=\"../../../__pv_it/theorems/4ee13fb713d5a86095f1ff47540b2ddb04c8f9d30/dependencies.ipynb\">dependencies</a>)<br>"
      ],
      "text/plain": [
       "<IPython.core.display.HTML object>"
      ]
     },
     "metadata": {},
     "output_type": "display_data"
    },
    {
     "name": "stdout",
     "output_type": "stream",
     "text": [
      "sine_interval may now be readily provable (assuming required theorems are usable).  Simply execute \"%qed\".\n"
     ]
    }
   ],
   "source": [
    "%proving sine_interval"
   ]
  },
  {
   "cell_type": "code",
   "execution_count": null,
   "metadata": {},
   "outputs": [],
   "source": []
  }
 ],
 "metadata": {
  "kernelspec": {
   "display_name": "Python 3",
   "language": "python",
   "name": "python3"
  }
 },
 "nbformat": 4,
 "nbformat_minor": 0
}