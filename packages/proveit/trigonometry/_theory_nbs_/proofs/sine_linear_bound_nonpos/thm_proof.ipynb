{
 "cells": [
  {
   "cell_type": "markdown",
   "metadata": {},
   "source": [
    "Proof of <a class=\"ProveItLink\" href=\"../../../../_theory_nbs_/theory.ipynb\">proveit</a>.<a class=\"ProveItLink\" href=\"../../theory.ipynb\">trigonometry</a>.<a class=\"ProveItLink\" href=\"../../theorems.ipynb#sine_linear_bound_nonpos\">sine_linear_bound_nonpos</a> theorem\n",
    "========"
   ]
  },
  {
   "cell_type": "code",
   "execution_count": 1,
   "metadata": {},
   "outputs": [],
   "source": [
    "import proveit\n",
    "theory = proveit.Theory() # the theorem's theory"
   ]
  },
  {
   "cell_type": "code",
   "execution_count": 2,
   "metadata": {},
   "outputs": [
    {
     "data": {
      "text/html": [
       "With these <a href=\"allowed_presumptions.txt\">allowed</a>/<a href=\"disallowed_presumptions.txt\">disallowed</a> theorem/theory presumptions (e.g., to avoid circular dependencies), we begin our proof of<br><strong id=\"sine_linear_bound_nonpos\">sine_linear_bound_nonpos:</strong> <a class=\"ProveItLink\" href=\"../../../__pv_it/theorems/9f797c2d1e0591fbaeca3c312cb60966e1fdd5770/expr.ipynb\"><img src=\"data:image/png;base64,iVBORw0KGgoAAAANSUhEUgAAAR8AAAAyBAMAAACXPMIiAAAAMFBMVEX///8AAAAAAAAAAAAAAAAA\n",
       "AAAAAAAAAAAAAAAAAAAAAAAAAAAAAAAAAAAAAAAAAAAv3aB7AAAAD3RSTlMAq1RmmUTNIjK7EInv\n",
       "3XZ/CtNrAAAACXBIWXMAAA7EAAAOxAGVKw4bAAAE7klEQVRYw7VZbYgbRRh+Lp+b3SZpFfw4lYv4\n",
       "Q0qrPX/5rw2aYosooaAgJ/QsBb1rsSkU4bQnCYgoiFevlDN+kcIhFK0XxUKvRbyqf0orvWoppeV0\n",
       "bQsKhTbYS788Et+Zze5O0m0y2dudH5OZ5J2dZ+d93veZmQDel4/dDdtXgj+lp9/dOOWsT4AekDGK\n",
       "ZobyQvfSQaoe8wdPcFDGagRa1e7F+vdTrS31BdDOnIzVvcBxuzeNJFuv330B9IeU1YkS+izkShXJ\n",
       "FH2u9IPWwRkps4eAPotEPbOYYpEQSfsAaElZ1vJPqzWlY2OWPsPXfQB0RXbZlZo9Jo8r3H+v+ADo\n",
       "pKxh3I6pbcuWLfDGKu9JpNyQtVzPKvUaq29CrZm+8zxNz8iS31igUwxVDcFbRj6a9Z7TssltBaJm\n",
       "2KtVxI34CnrP6jFJIVPKSFiEqZoZSL3qfZDl5OxGM5nnrM5d6plG64jngD6TTUL1+jWrM3nRfI3P\n",
       "Ae7zRzwDdNSS859bxVym/AisZZ+veoVHnTdb4flWMTdKoO1ca7IosLfZ5VkastNv6TYx53F0qm3u\n",
       "G9MRIQMt5RWgwL9OKBtiTiVxrn0unkojSHEa8U7rnRK1KebAV532Jkmi9K9zc8c8A5TgmU25cHnw\n",
       "jSN495e3/9IFMcdkxx1YksizDvjE6TdXOqdxCdgHzDLlPplSrgtivndT50RP+9/tiDql+yfy0fN/\n",
       "G83GtulRcSXu8MAQB/RyCTo+4knpqiDmPZ0BxUnMYiWN1jP6vCG0gXOb76GW+n2e6N7glhGDwayV\n",
       "YsjWABmYoPjeunWzTZcKf+xNehUCVARqopjvsFyWrLeWigGItDmgR/gpbRj48P490MvaW4g+S0v8\n",
       "NZaUBEB7hRPdMAY4ni9YwtE0tABSf6inbUC2mHcmNQOEwdVU7cY4QkQn6HrwG4yy1RhFPC8AWmuN\n",
       "YrYsWwR3G7PEWl32Jos2G5Al5p3DnrkM39HaRCvYhAvggBKTxKAsX6GcAMjaqnBbSl2JcaN/IG5P\n",
       "ovEoexy4W3BZVThOdEiMjNTYSZwO7cINlU+sl0cYsIf7KTuJHIpa5z9mi0Ba+anRTwXsORI8D9H8\n",
       "EwzNkAHIFnPm5tc6bqd6yDHxT7+thHny0tdP85/eyUbPPykAClvywmxZd/mhOyXGgcuXsoXjvYWF\n",
       "+5YvLBXFvGNJmr5N5kLp4FCxOE4uO9AqJBxKgJ78fpFKjtlCoS9f4ojsEGFW1cUl1inzEJUkvihl\n",
       "g0MvHMKOTCaTbQakWCvEbMll1Co8c5tsLXLLN2bu8iOlpxoJm8J+0mmFbFJz2wQfub2Xqg0XbeyY\n",
       "bzPb/jlWzrQDtMr0TvgwtUaITOHXt6iZQSdAExBtYwYtWD2jVmzb017ugNXp4h4nKwPQQPN1l93M\n",
       "KcLR58HFAeqTsjIAhZrAi+yJCS5b05UmaycoItJOO2AJQBCjnIRNYSHH/bhOZGVXe73DGw6ufk+8\n",
       "V6tJDWssjSp6V3zNku7ioMhjMpXI/dOUxjw5KG6rCwfg0ExXY2Pobdlbel3C3WXGApogJL2/bOC3\n",
       "B/LlaVSaTkE+3Ol19Uz1FqquLpd8udJjm4NZ/Cf6248rPXNzKMfpVNM1e8yXi+ot7oduLPkB6IOc\n",
       "66G/+YEHCdcXBT79tSD354tTedEfPIi4vLpQhn0C5PYPvC85pf8HI0xyyjkzjdsAAAAASUVORK5C\n",
       "YII=\n",
       "\" style=\"display:inline;vertical-align:middle;\" /></a><br>(see <a class=\"ProveItLink\" href=\"../../../__pv_it/theorems/6702c71d31a6de202be20a77642bf2a01f0871280/dependencies.ipynb\">dependencies</a>)<br>"
      ],
      "text/plain": [
       "<IPython.core.display.HTML object>"
      ]
     },
     "metadata": {},
     "output_type": "display_data"
    }
   ],
   "source": [
    "%proving sine_linear_bound_nonpos"
   ]
  },
  {
   "cell_type": "code",
   "execution_count": null,
   "metadata": {},
   "outputs": [],
   "source": []
  }
 ],
 "metadata": {
  "kernelspec": {
   "display_name": "Python 3",
   "language": "python",
   "name": "python3"
  }
 },
 "nbformat": 4,
 "nbformat_minor": 0
}