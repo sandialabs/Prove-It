{
 "cells": [
  {
   "cell_type": "markdown",
   "metadata": {},
   "source": [
    "Proof of <a class=\"ProveItLink\" href=\"../../../../_theory_nbs_/theory.ipynb\">proveit</a>.<a class=\"ProveItLink\" href=\"../../theory.ipynb\">trigonometry</a>.<a class=\"ProveItLink\" href=\"../../theorems.ipynb#sine_linear_bound_by_arg_pos\">sine_linear_bound_by_arg_pos</a> theorem\n",
    "========"
   ]
  },
  {
   "cell_type": "code",
   "execution_count": 1,
   "metadata": {},
   "outputs": [],
   "source": [
    "import proveit\n",
    "theory = proveit.Theory() # the theorem's theory"
   ]
  },
  {
   "cell_type": "code",
   "execution_count": 2,
   "metadata": {},
   "outputs": [
    {
     "data": {
      "text/html": [
       "With these <a href=\"allowed_presumptions.txt\">allowed</a>/<a href=\"disallowed_presumptions.txt\">disallowed</a> theorem/theory presumptions (e.g., to avoid circular dependencies), we begin our proof of<br><strong id=\"sine_linear_bound_by_arg_pos\">sine_linear_bound_by_arg_pos:</strong> <a class=\"ProveItLink\" href=\"../../../__pv_it/theorems/4c09b540255c17e537df2f24a3fe984a19e950350/expr.ipynb\"><img src=\"data:image/png;base64,iVBORw0KGgoAAAANSUhEUgAAAJwAAAAVBAMAAABBKZpuAAAAMFBMVEX///8AAAAAAAAAAAAAAAAA\n",
       "AAAAAAAAAAAAAAAAAAAAAAAAAAAAAAAAAAAAAAAAAAAv3aB7AAAAD3RSTlMAq1RmmUTNIjK7EInv\n",
       "3XZ/CtNrAAAACXBIWXMAAA7EAAAOxAGVKw4bAAACXklEQVQ4y42VTWgTQRTH/7pJN26apFUQ9RQQ\n",
       "BLFKT4IXWSSCUpBcPFkwVqFUQVOQQlQkuXhTa6WUqMgecglim4qCUTyIevEDolYQSstICh4KbUGD\n",
       "rYTqm93Zj0lk3YFJht++/b95HzML/H9kEWyogaziyYByYQZ08cVOP6s9lutXHrT4tM2KozpwmK8H\n",
       "fdS0jOX6p4s29T5stTJRh4EC9zzqIxfqtf4NF1WRyLdYmUjRuSKiftnpbCORBhLOGxsHPegtFHLe\n",
       "4Ze6XW1kQw1TYstQZgwPOg18mJt75yfXR77rS5mRl7j2+uo3Kh6mGE6mRdVnrRwINA0cAe60i1Sc\n",
       "FXksAzWcAj4mI7+ILOexbPXig3lhJNB+YBhqV7uc7qw+Af0GGG4B94AfRC50dzfNRxc/20YC9VCJ\n",
       "jShtUz3GrMzOntnKJLk3QGztO7hcEVgnsgZt3UzYgGMk0E0SYLwSZeMscGP7OFglerlVTnvxR3fl\n",
       "6EXltyxno36amYP0cxtjCFEawZgyicepmVTaDfYSlFWPXAMxXQ7WRntpPqJ9qSsY4GeEy8VL0u7u\n",
       "A/uALZ5gG+gRPe2UQqADNK9QJUKjWNXMs8EqubokR8Un0wmuNWTJbda+2g8n5y1hgfp4CujAxO5O\n",
       "r4TN1mRHq3JlrwMnlhbThfc7Cs1tu5vku7TgXlmK1XgCfRE0kQ3pylCxOEbBPklKfRfL+95Kiuf6\n",
       "UGu2HDqzkYqVu+PPZHsdQYd9W9BFcEgcDmqUkmw0EVgu51ykzynCHIUVPn9OS2Uko3JgOdmxVi2O\n",
       "/+sTwAKqxbP4C/jVuQ9M5ZDaAAAAAElFTkSuQmCC\n",
       "\" style=\"display:inline;vertical-align:middle;\" /></a><br>(see <a class=\"ProveItLink\" href=\"../../../__pv_it/theorems/491bd74b64d6d5306d2ede6a0de3d03d4a8031ff0/dependencies.ipynb\">dependencies</a>)<br>"
      ],
      "text/plain": [
       "<IPython.core.display.HTML object>"
      ]
     },
     "metadata": {},
     "output_type": "display_data"
    }
   ],
   "source": [
    "%proving sine_linear_bound_by_arg_pos"
   ]
  },
  {
   "cell_type": "code",
   "execution_count": null,
   "metadata": {},
   "outputs": [],
   "source": []
  }
 ],
 "metadata": {
  "kernelspec": {
   "display_name": "Python 3",
   "language": "python",
   "name": "python3"
  }
 },
 "nbformat": 4,
 "nbformat_minor": 0
}