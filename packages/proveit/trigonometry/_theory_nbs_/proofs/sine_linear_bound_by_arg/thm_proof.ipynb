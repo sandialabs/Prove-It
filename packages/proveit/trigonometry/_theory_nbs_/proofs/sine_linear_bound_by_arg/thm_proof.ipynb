{
 "cells": [
  {
   "cell_type": "markdown",
   "metadata": {},
   "source": [
    "Proof of <a class=\"ProveItLink\" href=\"../../../../_theory_nbs_/theory.ipynb\">proveit</a>.<a class=\"ProveItLink\" href=\"../../theory.ipynb\">trigonometry</a>.<a class=\"ProveItLink\" href=\"../../theorems.ipynb#sine_linear_bound_by_arg\">sine_linear_bound_by_arg</a> theorem\n",
    "========"
   ]
  },
  {
   "cell_type": "code",
   "execution_count": 1,
   "metadata": {},
   "outputs": [],
   "source": [
    "import proveit\n",
    "theory = proveit.Theory() # the theorem's theory"
   ]
  },
  {
   "cell_type": "code",
   "execution_count": 2,
   "metadata": {},
   "outputs": [
    {
     "data": {
      "text/html": [
       "With these <a href=\"allowed_presumptions.txt\">allowed</a>/<a href=\"disallowed_presumptions.txt\">disallowed</a> theorem/theory presumptions (e.g., to avoid circular dependencies), we begin our proof of<br><strong id=\"sine_linear_bound_by_arg\">sine_linear_bound_by_arg:</strong> <a class=\"ProveItLink\" href=\"../../../__pv_it/theorems/5200f588b3fed50b275ae682509856bb9791490d0/expr.ipynb\"><img src=\"data:image/png;base64,iVBORw0KGgoAAAANSUhEUgAAAKcAAAAVBAMAAADROuOhAAAAMFBMVEX///8AAAAAAAAAAAAAAAAA\n",
       "AAAAAAAAAAAAAAAAAAAAAAAAAAAAAAAAAAAAAAAAAAAv3aB7AAAAD3RSTlMAq1RmmUTNIjK7EInv\n",
       "3XZ/CtNrAAAACXBIWXMAAA7EAAAOxAGVKw4bAAACrklEQVQ4y52Vz2sTQRTHv/mxSXaa7KY9FAS1\n",
       "AaEnDzl4tS1WqQqWXLzaIoKoRddjscrqH9CGlh6ioHsookhtFAKmRUmuFSEHDwUJXayoILb1R7CK\n",
       "iG9md9PsZqzQOWTCe5PP7vf73rwAO614MGAE9raDRluqbb0NBkqB3VsduWbiDH2m+dcDcma4KLaJ\n",
       "rA+qLZly6Kdn/IBGp4/x2Hk59L6zjQz4oDOs1grtNVyomp0XBy4CN7kjeTl00NmYT35HHlst0MMn\n",
       "vTctQxcSDgExi0IZObQCiadTOXzdhn5e9OQnGtAzPJG0ECELYv+wdFQG3Qf2zYOy53bT01ANC1me\n",
       "iBHxVb3+Ug6NUp0m+97Hx9KJsaH1/Q6U/YHScKHsVHa7UAs2RnLCH6r9ceC2HEqPZHmkEEsj1YUp\n",
       "Q0C1LWg/HCjrzrRUf8PEhsETERJ4FXFCx4cdIeE357pdSUhloCxDg5qGWoGeFdDYl86eivumPuiV\n",
       "zs7fwp8wlUK1eOkeWtQJk3tmYRc7rrknkxRfvWsIaB66LaB6ngt1oPFW+T+5MzyR2CSwzes0g2lE\n",
       "yQnYduRxC/TR6nc/lIj9lqRQRIz8ElCFN81oHz1zE2exBgHV5rblxy30m35oDq8haSnWQGrAkV+j\n",
       "wFMSHqWOZuIK2MXxNfcHqk0yEMr65efCy5A1fwMHLZGIcM4E1Sl158mmIgyyT5Sb7qdBANUgYqwJ\n",
       "DWXmTd9A6TUdaBdbcRqZdyJCFNWN6EDkQqEwTfJLXk0TNSgv1kuJvdUHPdVb96pOnw4PyafU3Dun\n",
       "55DyJpaOpJEoOp6eXvSOrmAXow/Xm31uHXHvALWUVyg+GnYBHfSCyhJpHicflMuX2FHvzqvGjlBW\n",
       "F8v0QwMjj5ULs/5Afhdvqv7v/+RGMPAxsHtLM5uJD8Bf2hXgzjkLfJoAAAAASUVORK5CYII=\n",
       "\" style=\"display:inline;vertical-align:middle;\" /></a><br>(see <a class=\"ProveItLink\" href=\"../../../__pv_it/theorems/515ee62b4323c834ab5b9ecc85be5a6f9768b98d0/dependencies.ipynb\">dependencies</a>)<br>"
      ],
      "text/plain": [
       "<IPython.core.display.HTML object>"
      ]
     },
     "metadata": {},
     "output_type": "display_data"
    }
   ],
   "source": [
    "%proving sine_linear_bound_by_arg"
   ]
  },
  {
   "cell_type": "code",
   "execution_count": null,
   "metadata": {},
   "outputs": [],
   "source": []
  }
 ],
 "metadata": {
  "kernelspec": {
   "display_name": "Python 3",
   "language": "python",
   "name": "python3"
  }
 },
 "nbformat": 4,
 "nbformat_minor": 0
}