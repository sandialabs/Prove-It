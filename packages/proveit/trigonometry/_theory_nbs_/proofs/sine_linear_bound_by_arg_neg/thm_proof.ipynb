{
 "cells": [
  {
   "cell_type": "markdown",
   "metadata": {},
   "source": [
    "Proof of <a class=\"ProveItLink\" href=\"../../../../_theory_nbs_/theory.ipynb\">proveit</a>.<a class=\"ProveItLink\" href=\"../../theory.ipynb\">trigonometry</a>.<a class=\"ProveItLink\" href=\"../../theorems.ipynb#sine_linear_bound_by_arg_neg\">sine_linear_bound_by_arg_neg</a> theorem\n",
    "========"
   ]
  },
  {
   "cell_type": "code",
   "execution_count": 1,
   "metadata": {},
   "outputs": [],
   "source": [
    "import proveit\n",
    "theory = proveit.Theory() # the theorem's theory"
   ]
  },
  {
   "cell_type": "code",
   "execution_count": 2,
   "metadata": {},
   "outputs": [
    {
     "data": {
      "text/html": [
       "With these <a href=\"allowed_presumptions.txt\">allowed</a>/<a href=\"disallowed_presumptions.txt\">disallowed</a> theorem/theory presumptions (e.g., to avoid circular dependencies), we begin our proof of<br><strong id=\"sine_linear_bound_by_arg_neg\">sine_linear_bound_by_arg_neg:</strong> <a class=\"ProveItLink\" href=\"../../../__pv_it/theorems/3a064a18dc9048f1c891f94551986aa350a9b7d90/expr.ipynb\"><img src=\"data:image/png;base64,iVBORw0KGgoAAAANSUhEUgAAAJ0AAAAVBAMAAACu6/FQAAAAMFBMVEX///8AAAAAAAAAAAAAAAAA\n",
       "AAAAAAAAAAAAAAAAAAAAAAAAAAAAAAAAAAAAAAAAAAAv3aB7AAAAD3RSTlMAq1RmmUTNIjK7EInv\n",
       "3XZ/CtNrAAAACXBIWXMAAA7EAAAOxAGVKw4bAAAChklEQVQ4y42US2gTQRjH/2azeWyy2UahqCAG\n",
       "hIIokoN4qwaN+MKyF0+KxgdIFTSCCPVFcvGmxkqRqMgeesmhJhUE01JQ1IsPiOJBkMJIBMHSNj6C\n",
       "qYTqN7vZJpvEZQcm+30zX34z32sAByMJZ8OhXSjikHeYZg8X1tmabeDMyVTnhvd5izLzBKEosJPL\n",
       "J+1wUoJ+bkulzh3xV1P2R8eAU0Can5Ox47np1EAGtS5bWlMsQklhM+ChtYBtgII0b6r4sbTQ1yXu\n",
       "viqUCIIaBDrdYxu+PpprIP009f69XYyWlZCPwkOwt9PTr215+yiEixCrDXV2wrhQeS5x4Rmuvbj6\n",
       "mZGaZziiIkDZ3Q3cteUdp+zWEPptJGeKGas5oISjwLuIj+/MpzCfhECpOwdvjy3vPQXke3jtU71C\n",
       "9kcbq4c0MNwC7gM8EmfD4TrgIiO/FlDJcMA41/XpRC+z8l4CSoY7RKN3KXPywldwXhZYJHWBxwS+\n",
       "ChEYT0dOo9q5sWoErBC41MEj2DbNypOm/saaPIIJf6gguROJrbxeMQw3hRKMCQ9xPh6Pqy3+5lV8\n",
       "gNXfixBqLbwq5BjdjRf9I7qZt4JjKEPnhUat93tA/qquV7DmYxOwosXfKjaSAwJvjMuUDjfVv6R3\n",
       "CSsMla28caquyJjZvtLsN/1Lf7/DYYMGb7n0kbdSgZcimcr3xiui7grbU2zL73WCDOxq6v16AR6c\n",
       "m1HTb1an6yvX1+lCo19408hmkJSkOyYMZrPD5O/jtu6T21+WLf99566YgoJg0lcw4ndgwmokxOB0\n",
       "7DAFj7a90SZUL235oDg5HM13SpwkJ4fIMfHMaSmesJrlnPL81kBIxexI12OZQx51zD+zWLKejfsJ\n",
       "VwAAAABJRU5ErkJggg==\n",
       "\" style=\"display:inline;vertical-align:middle;\" /></a><br>(see <a class=\"ProveItLink\" href=\"../../../__pv_it/theorems/58d65b5f9a4a3d574d32df1a7146be54729fc9c70/dependencies.ipynb\">dependencies</a>)<br>"
      ],
      "text/plain": [
       "<IPython.core.display.HTML object>"
      ]
     },
     "metadata": {},
     "output_type": "display_data"
    }
   ],
   "source": [
    "%proving sine_linear_bound_by_arg_neg"
   ]
  },
  {
   "cell_type": "code",
   "execution_count": null,
   "metadata": {},
   "outputs": [],
   "source": []
  }
 ],
 "metadata": {
  "kernelspec": {
   "display_name": "Python 3",
   "language": "python",
   "name": "python3"
  }
 },
 "nbformat": 4,
 "nbformat_minor": 0
}