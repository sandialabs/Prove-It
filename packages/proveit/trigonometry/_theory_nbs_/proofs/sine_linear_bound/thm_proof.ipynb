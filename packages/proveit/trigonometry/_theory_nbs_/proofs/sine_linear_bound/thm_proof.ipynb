{
 "cells": [
  {
   "cell_type": "markdown",
   "metadata": {},
   "source": [
    "Proof of <a class=\"ProveItLink\" href=\"../../../../_theory_nbs_/theory.ipynb\">proveit</a>.<a class=\"ProveItLink\" href=\"../../theory.ipynb\">trigonometry</a>.<a class=\"ProveItLink\" href=\"../../theorems.ipynb#sine_linear_bound\">sine_linear_bound</a> theorem\n",
    "========"
   ]
  },
  {
   "cell_type": "code",
   "execution_count": 1,
   "metadata": {},
   "outputs": [],
   "source": [
    "import proveit\n",
    "theory = proveit.Theory() # the theorem's theory"
   ]
  },
  {
   "cell_type": "code",
   "execution_count": 2,
   "metadata": {},
   "outputs": [
    {
     "data": {
      "text/html": [
       "With these <a href=\"allowed_presumptions.txt\">allowed</a>/<a href=\"disallowed_presumptions.txt\">disallowed</a> theorem/theory presumptions (e.g., to avoid circular dependencies), we begin our proof of<br><strong id=\"sine_linear_bound\">sine_linear_bound:</strong> <a class=\"ProveItLink\" href=\"../../../__pv_it/theorems/6d04237b7ba67fcd28d4697624111bfaea4e2ba00/expr.ipynb\"><img src=\"data:image/png;base64,iVBORw0KGgoAAAANSUhEUgAAAREAAAAyBAMAAACJ9fKRAAAAMFBMVEX///8AAAAAAAAAAAAAAAAA\n",
       "AAAAAAAAAAAAAAAAAAAAAAAAAAAAAAAAAAAAAAAAAAAv3aB7AAAAD3RSTlMAq1RmmUTNIjK7EInv\n",
       "3XZ/CtNrAAAACXBIWXMAAA7EAAAOxAGVKw4bAAAE5ElEQVRYw62Z+2tbVRzAv8nNTe6jyW0VfExH\n",
       "Av40pi5/gQ0S2fqDIwgKMmGtFqTdcBmIUJ2aKviT2NgxauaD+8MQiszEQcG2ipkK4pzY6RjT0Xml\n",
       "gw2GXVybNSul8Txucs/JbndzH98f7rk3OefcT873eU4A/MpH3oblrXZahyAklPY2bsZqpb8CIXmo\n",
       "+66x7EiBI0nMF0j7WBAgwmD3fcdArXMkR5UF0qq9AZAcyXff936AsyyJWoQG1dIfAZBcdtH3Nx2S\n",
       "eYZkIgc3Kcmj/m1WqLrovB0gWWBItoOyQkmiGd8kPRV3/f9mtKNsglinJOKab5Ib7pZV2mRIEg1I\n",
       "rJnePOSb5Jy77vFehiT6X1+yapLs8msoUsNd/wF8UW5REq0IZcMkQTc+A2zVnX3TJTlPSdDb+3WT\n",
       "RF7wa7DuQtJOiDFeXM5hJkoi+DXZCVdJR6pAQrdItFz4TIsEubNP17GJsLGO1pI3s9mnGYsNpU4W\n",
       "2pnwtE+ST2w+U3N8ywSTZvMWG0/27rZy8qcARNOPeCT5ub0QP/Ak17+2IdmqKsDyHcBTuH3ZG4iy\n",
       "2roTVzkSOX2SkigvdUnSn4Nx/IuKHsOJFTJ1jmQWtAJdky8ud0cyYUAUzaGmvJGEb9rbiVQHLWVq\n",
       "J3FJ74aknAEBOWLUayZu2JOEFqCcbtmJYI9yjW81ZK+/Li7+4pEkQeKRtLQ8+NppeO/Ht/4xKAmK\n",
       "nvtzbYsND3dRTaHQD3sAjnskUdfxdRpgASfTcylpjZLcKKBIY/mOOOSc33pQFXoYYrYxO8NcI+1P\n",
       "xYMHh9sPEULygg4GfEiCywolOdTXt8F4sTjiTBJHiUfW8ZjYXpoNw5eG76N3xdb11WWQ6XdTaFZV\n",
       "ZRJgjUxy+ypgkhLAJiW5jasgSztDVDta017oJCiXhg1ssNP6KMAHDx4Do6K+wZEox6M6IQl/RtxS\n",
       "7iRRvm1mOBKEIay3SYTz3dQemAQGn8AFP0xCBJkMGIbwJUcip+UUfrtwlHpdXO/QzuvYhziSOsQz\n",
       "4ODFNtqBU2g1YjV4EZaAkCROcCRvQxSTJCbpkFSYCWLEdx4HuJfXTh0X6w6RzcZi4Qgy2Ajaeijk\n",
       "3UZlbIkjGUDxUgbpezsvbphbhCmMMdImuUe5CE7R3q7SCaHcHP/4q5pIig1jYBY4kj/nk9hid8yR\n",
       "57aJWZFt3/L13PjZbeMbD+zY6CUEJ67kwSkDdsaT1j5Dy0cywkipNIm0M5PiSNYgS3zn+bk7o33d\n",
       "VVVwNym3tisa9OSlCrWTZ+c4khr8RL14fPcdGXAlMJKJVkkd1Z80Qy3yYt5iRyMpM54c3oYuz1xh\n",
       "3rDqRKIsEik4kuxqJWFxHt2NoQHiKweU7CBLsu8UmCTk9KWq1KzxFwJbE74OVWZLx6ynInNlolle\n",
       "YnYWD9s5VIFvu5PkXb7bggRk5rf2e9u6fYMccHWLOtSRRCohmcL3e1g781RiqTM7373Gr1hs0/FI\n",
       "Lt+5Y1B1w/POy5R34Gqn6rzsvA41mY1jpOpJO1AMdag15Hc3Kta9VeK98c4Q63eHTjfbriWS1jo+\n",
       "8Wj6vmco61rO1zlMAKdbVP4FjR8XwOmWsO5l1CSEeBI5gAPZAxCE7Pd/Cgrv54Mg+T2AORLFACYJ\n",
       "5LTczT8IW8pzgag4mvI9hTQaCInXf5oY+ZzY6//i3I0cfvGTvgAAAABJRU5ErkJggg==\n",
       "\" style=\"display:inline;vertical-align:middle;\" /></a><br>(see <a class=\"ProveItLink\" href=\"../../../__pv_it/theorems/df14c2720d773d428e4dd42dd1acca3a2b45e83f0/dependencies.ipynb\">dependencies</a>)<br>"
      ],
      "text/plain": [
       "<IPython.core.display.HTML object>"
      ]
     },
     "metadata": {},
     "output_type": "display_data"
    }
   ],
   "source": [
    "%proving sine_linear_bound"
   ]
  },
  {
   "cell_type": "code",
   "execution_count": null,
   "metadata": {},
   "outputs": [],
   "source": []
  }
 ],
 "metadata": {
  "kernelspec": {
   "display_name": "Python 3",
   "language": "python",
   "name": "python3"
  }
 },
 "nbformat": 4,
 "nbformat_minor": 0
}