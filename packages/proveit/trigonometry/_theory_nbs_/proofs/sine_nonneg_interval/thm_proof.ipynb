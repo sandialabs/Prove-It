{
 "cells": [
  {
   "cell_type": "markdown",
   "metadata": {},
   "source": [
    "Proof of <a class=\"ProveItLink\" href=\"../../../../_theory_nbs_/theory.ipynb\">proveit</a>.<a class=\"ProveItLink\" href=\"../../theory.ipynb\">trigonometry</a>.<a class=\"ProveItLink\" href=\"../../theorems.ipynb#sine_nonneg_interval\">sine_nonneg_interval</a> theorem\n",
    "========"
   ]
  },
  {
   "cell_type": "code",
   "execution_count": 1,
   "metadata": {},
   "outputs": [],
   "source": [
    "import proveit\n",
    "theory = proveit.Theory() # the theorem's theory"
   ]
  },
  {
   "cell_type": "code",
   "execution_count": 2,
   "metadata": {},
   "outputs": [
    {
     "data": {
      "text/html": [
       "With these <a href=\"allowed_presumptions.txt\">allowed</a>/<a href=\"disallowed_presumptions.txt\">disallowed</a> theorem/theory presumptions (e.g., to avoid circular dependencies), we begin our proof of<br><strong id=\"sine_nonneg_interval\">sine_nonneg_interval:</strong> <a class=\"ProveItLink\" href=\"../../../__pv_it/theorems/abd87a067b28895a3ccd20463392bcd8ce74b23b0/expr.ipynb\"><img src=\"data:image/png;base64,iVBORw0KGgoAAAANSUhEUgAAAMMAAAAXBAMAAABE/uagAAAAMFBMVEX///8AAAAAAAAAAAAAAAAA\n",
       "AAAAAAAAAAAAAAAAAAAAAAAAAAAAAAAAAAAAAAAAAAAv3aB7AAAAD3RSTlMAq1RmmUTNIjK7EInv\n",
       "3XZ/CtNrAAAACXBIWXMAAA7EAAAOxAGVKw4bAAADCklEQVRIx62Vz0sUYRjHvzO7szs7+7O6JFgu\n",
       "9A/swbNKUUoH2a4StXSJQmIiCALNLTrrpEhYZBNEFGZugQeRRD0axVIRFi0OFXmIxLRUDLTnnZnd\n",
       "eWdWmT04l/f383me7/O+zwA1fmH/Lb/m3eNEKQ8VtX9f/beMeyeiWZyhJsX6R3yPiwWz6cpwTk7m\n",
       "qxDRqVZ7IH82EQk6cJyNz/siHlvN2RZnakApViHOYdSS5uGJTROBi8ANprPmizhmNQqngoYNLyJQ\n",
       "ZNNWjDaiEQjp1E37IqarZvqyWLGM3S99tBGRFMRNNyKmI0BihfxTkauaOgRllbXSJb0SRbIF8oob\n",
       "ESL7b0ql176IIGW7t+lHuDMld7YuHWaSbUH6y5au6o5QY4RYdSOidJ/agLucsdgdbhC4bXfIF0VD\n",
       "HKEU4vvRRylNbCCx7r4q4+gpQN5yIwIU/2WECRRuN6wlAZj8WTkl2G08DWkOCSZ2ZBpJJu7vfQ1m\n",
       "gnIexD83QqRNEZ31nup0u3rrBslowJA0LyJGWxaGVROhIUnuJDWMMa9kErr0qSxUAZInCnmZMAbL\n",
       "9gD6EWwzjcbyWN8JMbLwh0OQ/WaWBUXjoqB0i550SyzUXBPptEyv5ptltEfHLHW6t7e3VU6osI7m\n",
       "PIfI4oO5VOQQtBbwXFqRrb8kiYL0jix/BPTpeE/enbwSdaKIGBQthAwnVFacM5eW+Kc3jWAOuivd\n",
       "zGoXZTt+78WylKkg3rJ3vDjiIOjqkcWISvZDFkJIj1olKpTmCsg7PMsra+aJdQvBrjsE2ppUgy2B\n",
       "C0ND/ZZQpp7aLQchFyFNLY3L9TNPGmZuPpghF9rtgqfUdTiIR1MHgRKFIdSvHTAR8ay9mkRMlQvg\n",
       "0x3WTjkIzO/+LKWJSgGxS4HuFHN0l7eF9KP2CxSQMKSUUkDQOM0hGlH7/yLK/S/K9ZM8mSRFr+Xt\n",
       "p/ddl2eJGtcdREStHfGcQ3iKuDIxNFg2KrrfBX/9fREGh9jJNdtohweB6/6IV95/95csFrErIuNF\n",
       "7OEXcVXa4T2w+B8lEOO571dlggAAAABJRU5ErkJggg==\n",
       "\" style=\"display:inline;vertical-align:middle;\" /></a><br>(see <a class=\"ProveItLink\" href=\"../../../__pv_it/theorems/2b97cc49e383827e1a3165c2e88bd0ed7bb9297c0/dependencies.ipynb\">dependencies</a>)<br>"
      ],
      "text/plain": [
       "<IPython.core.display.HTML object>"
      ]
     },
     "metadata": {},
     "output_type": "display_data"
    }
   ],
   "source": [
    "%proving sine_nonneg_interval"
   ]
  },
  {
   "cell_type": "code",
   "execution_count": null,
   "metadata": {},
   "outputs": [],
   "source": []
  }
 ],
 "metadata": {
  "kernelspec": {
   "display_name": "Python 3",
   "language": "python",
   "name": "python3"
  }
 },
 "nbformat": 4,
 "nbformat_minor": 0
}