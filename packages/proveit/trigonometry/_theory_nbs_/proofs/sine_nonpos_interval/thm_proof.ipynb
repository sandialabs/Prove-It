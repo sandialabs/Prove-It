{
 "cells": [
  {
   "cell_type": "markdown",
   "metadata": {},
   "source": [
    "Proof of <a class=\"ProveItLink\" href=\"../../../../_theory_nbs_/theory.ipynb\">proveit</a>.<a class=\"ProveItLink\" href=\"../../theory.ipynb\">trigonometry</a>.<a class=\"ProveItLink\" href=\"../../theorems.ipynb#sine_nonpos_interval\">sine_nonpos_interval</a> theorem\n",
    "========"
   ]
  },
  {
   "cell_type": "code",
   "execution_count": 1,
   "metadata": {},
   "outputs": [],
   "source": [
    "import proveit\n",
    "theory = proveit.Theory() # the theorem's theory"
   ]
  },
  {
   "cell_type": "code",
   "execution_count": 2,
   "metadata": {},
   "outputs": [
    {
     "data": {
      "text/html": [
       "With these <a href=\"allowed_presumptions.txt\">allowed</a>/<a href=\"disallowed_presumptions.txt\">disallowed</a> theorem/theory presumptions (e.g., to avoid circular dependencies), we begin our proof of<br><strong id=\"sine_nonpos_interval\">sine_nonpos_interval:</strong> <a class=\"ProveItLink\" href=\"../../../__pv_it/theorems/ed610ba505cb21e2e218cad645c135d1660e336a0/expr.ipynb\"><img src=\"data:image/png;base64,iVBORw0KGgoAAAANSUhEUgAAAOEAAAAXBAMAAAAPVjVNAAAAMFBMVEX///8AAAAAAAAAAAAAAAAA\n",
       "AAAAAAAAAAAAAAAAAAAAAAAAAAAAAAAAAAAAAAAAAAAv3aB7AAAAD3RSTlMAq1RmmUTNIjK7EInv\n",
       "3XZ/CtNrAAAACXBIWXMAAA7EAAAOxAGVKw4bAAADHElEQVRIx7WWTWgTQRiG3zTZ7E+ym6inQrUB\n",
       "b16agxdB22KxLQolXkVs8CJKkRVBEFqN4lHatUUkirpeilKkUfBQAtJ6kopSULSKoesP9iCUWqst\n",
       "CtZvJsl2083mB3Qus9l3dp5v3u+bmQD1NbHqCC2X8hZ01N0+Vh0RSlRQjlAXZc/bawU2ZHjXH3eE\n",
       "nk15EqV3xafsZ50pGn24j/0+VitxNN/1tq+/GlFmvIh3On8VnoIx5Q1XTgAXWHKMWokd+U5xAAys\n",
       "eq5RKxL3ABNc2Ul0kwbFaiVOut4MJbCUn/1m7rUn8QrQYjIlbMJPzgZrTmPS9WorlO+sF06aFda4\n",
       "TKHFmBIk3PNc7lmtxAAVzmDrF7EvKvV1LWxj/v6B8INJZ8wKriqMGGdKiCq1G7jumDR8zQ3aFS0W\n",
       "QByKARXBKNTNGKLdpa1CWykpvnJE8TcRLab4yaVTEGlCscfKi76NuOzXwhaipsYgTEODHIU8iQhL\n",
       "yLdNzTy5yarEDFMaaLDMM3rPpLodbLzqIvotwbCJYRo5d0vnRAMRCjJiYJzFKlFycm8LxNEca7MO\n",
       "V4nYy9coLRLVYoUzgmEEususMZzCSglxbG7ZQSRcG8ugYlTcHZTHFl45AjMk2UrLXsRRfCpxdWBt\n",
       "bY0Sdd7EE6eroom2lIOYwCsuzVQkpkGBcVfZuIfkZ4D2cT7MIlHZfzrE95uJlzZRtsgS+OIOVxMN\n",
       "01xa8CLy02I30MkVP4P003zqjQeLQryEiPmxAvGFTaTaJoCsEy6YJ/pi91OFc6wMMURlPJ7k5ihP\n",
       "ucL2F3z0SUQPtPuPp9PDRJTS1GiPGJfYR+Tqkk2UZiA8XngkNU3dbZ66eHuKAuvpKkTYeMhF9DX9\n",
       "3AKVnebKgQ8prqhFNYKwLmVK8igaB12Vg1nv00GYcJ9yvO1w+j1Q/BE09xYOApsYsA5TYUKzhOg6\n",
       "cSfqvx8zTqXDDjBLaTibchKDpmricoxuNnOdKOt1ExXLoWy4pZSJtOsEyNeDTVSMuomaUykXcSlR\n",
       "MEuJOFed6Pk/530C86hG9GMD8T80udzdYf1DwF/Dw+P9DCrJsQAAAABJRU5ErkJggg==\n",
       "\" style=\"display:inline;vertical-align:middle;\" /></a><br>(see <a class=\"ProveItLink\" href=\"../../../__pv_it/theorems/ea4c590fbd22c5d4c439ca674a02d168c538b7260/dependencies.ipynb\">dependencies</a>)<br>"
      ],
      "text/plain": [
       "<IPython.core.display.HTML object>"
      ]
     },
     "metadata": {},
     "output_type": "display_data"
    }
   ],
   "source": [
    "%proving sine_nonpos_interval"
   ]
  },
  {
   "cell_type": "code",
   "execution_count": null,
   "metadata": {},
   "outputs": [],
   "source": []
  }
 ],
 "metadata": {
  "kernelspec": {
   "display_name": "Python 3",
   "language": "python",
   "name": "python3"
  }
 },
 "nbformat": 4,
 "nbformat_minor": 0
}