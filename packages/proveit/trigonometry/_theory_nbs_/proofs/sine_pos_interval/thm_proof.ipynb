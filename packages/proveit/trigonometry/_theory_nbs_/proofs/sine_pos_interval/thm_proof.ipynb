{
 "cells": [
  {
   "cell_type": "markdown",
   "metadata": {},
   "source": [
    "Proof of <a class=\"ProveItLink\" href=\"../../../../_theory_nbs_/theory.ipynb\">proveit</a>.<a class=\"ProveItLink\" href=\"../../theory.ipynb\">trigonometry</a>.<a class=\"ProveItLink\" href=\"../../theorems.ipynb#sine_pos_interval\">sine_pos_interval</a> theorem\n",
    "========"
   ]
  },
  {
   "cell_type": "code",
   "execution_count": 1,
   "metadata": {},
   "outputs": [],
   "source": [
    "import proveit\n",
    "theory = proveit.Theory() # the theorem's theory"
   ]
  },
  {
   "cell_type": "code",
   "execution_count": 2,
   "metadata": {},
   "outputs": [
    {
     "data": {
      "text/html": [
       "With these <a href=\"allowed_presumptions.txt\">allowed</a>/<a href=\"disallowed_presumptions.txt\">disallowed</a> theorem/theory presumptions (e.g., to avoid circular dependencies), we begin our proof of<br><strong id=\"sine_pos_interval\">sine_pos_interval:</strong> <a class=\"ProveItLink\" href=\"../../../__pv_it/theorems/1729b42b1b912ffb8d62809442355dd74384adc20/expr.ipynb\"><img src=\"data:image/png;base64,iVBORw0KGgoAAAANSUhEUgAAAMkAAAAXBAMAAABT3HZpAAAAMFBMVEX///8AAAAAAAAAAAAAAAAA\n",
       "AAAAAAAAAAAAAAAAAAAAAAAAAAAAAAAAAAAAAAAAAAAv3aB7AAAAD3RSTlMAq1RmmUTNIjK7EInv\n",
       "3XZ/CtNrAAAACXBIWXMAAA7EAAAOxAGVKw4bAAADT0lEQVRIx7VWTUhUURT+5s17M2/e/FabBMuJ\n",
       "ok2bWdhWpSilQKZlETXUIhKJiUAItKZo0yIdFAmL7AURiZmj0EIGRAU3RjFUREWDg0UuAjEtFQPt\n",
       "3Pt+5r2n0iPowsz9++Z8537nnnMHcN38bkBp+zRSzDiX/tJmXGAiccdCMIkz1MXYeK8LA0KOd60J\n",
       "i818xgE6QHZH6/WJ/ImzROgXR9j8gguWJ1p3tq681KUU7BglBZzDgKbRo6OrnAVNwA2meNYFy2Hd\n",
       "kEWNLFbsGDEBb4Gta0fVWaoBn0rDuAuWsQ0rHUksaOYeFN/zQQgIxCCs2llCKrykms9NWFIblnZB\n",
       "WWS9dEnVV/YD0TrIC3YWH1G8KhZfumARKfjtNd/8zTG5uX5uN9NuDdIvttVikOA4MEgsi3aWIN2w\n",
       "BuCezWnb/S4ZA3JIySIMXwzh7eggUGQFkWX73TkPXM9BXrOzeEmGy/ATl7/RsHcQyH8vH8EYhOOQ\n",
       "phBhugfGEGU6/9hWxYNV1vKNxvLbziIQKqCyUZ9K9629ohtKDN6SZF46KacPQgSa7k1zliyi5FM0\n",
       "i0HmmkyaFz9y0CQploPkOIs8T0wlFvwudEJsYM4nEcpg2XSvycLSP/3TwkIUtSwiSjkPJnn0BUf0\n",
       "JXbiVA0JNk/Z9IUrQ4dWMUGjtvX19TSGy4r5VdRmLCxJvONbBatitOl13GSBAYbJXZESTPOphfJA\n",
       "xVty8diVIM336QYCJTo1PAmLYklhim/NmSy9FOoxiCmotugzw60U/PD9oXmJV6iTnOU1S/LZfm2u\n",
       "JTpl2xQCaaLwaSye+IBWxnxmUg/x8zzLKEv8J8saC0sCeAgbTYt13os9PZ3YwxXjymZv0ddto/QV\n",
       "II3OvZArx59Wjd98OE5uNOplUak4pYPu0Ofx6E6gSIfxVC7t4CzhpL4dRSgt8+tEVvXo+7MnLIrh\n",
       "w9YZK43oFSZs1GhBLVd+tJk5px7Sk5OiHylJMSUHsXTaKnq1iwLhNQp20PK+GHWWvMmTtleZJwHK\n",
       "6vxXVZ4g5jB5dNeABNy8eQb6uYXFUfGVkZ5uMw0Ffc2EKG6ehz5nYSKWTd3TQ6oHVCxDrrn5b1By\n",
       "vNCfk5jdDBjUApcwq9r/aeqWk39ufwAQDOdV+bM3sAAAAABJRU5ErkJggg==\n",
       "\" style=\"display:inline;vertical-align:middle;\" /></a><br>(see <a class=\"ProveItLink\" href=\"../../../__pv_it/theorems/af777f5ff5dc3f0728593e35308e5a2b5c452e3b0/dependencies.ipynb\">dependencies</a>)<br>"
      ],
      "text/plain": [
       "<IPython.core.display.HTML object>"
      ]
     },
     "metadata": {},
     "output_type": "display_data"
    }
   ],
   "source": [
    "%proving sine_pos_interval"
   ]
  },
  {
   "cell_type": "code",
   "execution_count": null,
   "metadata": {},
   "outputs": [],
   "source": []
  }
 ],
 "metadata": {
  "kernelspec": {
   "display_name": "Python 3",
   "language": "python",
   "name": "python3"
  }
 },
 "nbformat": 4,
 "nbformat_minor": 0
}