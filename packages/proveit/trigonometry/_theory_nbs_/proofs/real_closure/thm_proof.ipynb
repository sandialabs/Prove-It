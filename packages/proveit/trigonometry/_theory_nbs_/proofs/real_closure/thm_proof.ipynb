{
 "cells": [
  {
   "cell_type": "markdown",
   "metadata": {},
   "source": [
    "Proof of <a class=\"ProveItLink\" href=\"../../../../_theory_nbs_/theory.ipynb\">proveit</a>.<a class=\"ProveItLink\" href=\"../../theory.ipynb\">trigonometry</a>.<a class=\"ProveItLink\" href=\"../../theorems.ipynb#real_closure\">real_closure</a> theorem\n",
    "========"
   ]
  },
  {
   "cell_type": "code",
   "execution_count": 1,
   "metadata": {},
   "outputs": [],
   "source": [
    "import proveit\n",
    "theory = proveit.Theory() # the theorem's theory"
   ]
  },
  {
   "cell_type": "code",
   "execution_count": 2,
   "metadata": {},
   "outputs": [
    {
     "data": {
      "text/html": [
       "With these <a href=\"allowed_presumptions.txt\">allowed</a>/<a href=\"disallowed_presumptions.txt\">disallowed</a> theorem/theory presumptions (e.g., to avoid circular dependencies), we begin our proof of<br><strong id=\"real_closure\">real_closure:</strong> <a class=\"ProveItLink\" href=\"../../../__pv_it/theorems/20d6c50e02bf1b72c9643d08b71d21d262559f200/expr.ipynb\"><img src=\"data:image/png;base64,iVBORw0KGgoAAAANSUhEUgAAAJMAAAAVBAMAAACwIsHjAAAAMFBMVEX///8AAAAAAAAAAAAAAAAA\n",
       "AAAAAAAAAAAAAAAAAAAAAAAAAAAAAAAAAAAAAAAAAAAv3aB7AAAAD3RSTlMAq1RmmUTNIjK7EInv\n",
       "3XZ/CtNrAAAACXBIWXMAAA7EAAAOxAGVKw4bAAACiUlEQVQ4y42US2gTURSG/zzmmWQSXQgFtQHB\n",
       "dUAR3LTBKq2bMi7cuNAggqitTqEIoVGiOzft0BIkinZAEauoUegiFqRZtiJkIaJI6GBBwUWIL+xG\n",
       "8dyZSWbSTE3u5ibnnvnO/f85Z4D/LQG9Lq1bwqeuiAMr8+MrKeAk/U6wwB7/vGDJ2nIpN6Qs5dtz\n",
       "9AkcO2hAoZwj7P9Zf9QDezuVdkNzcnUTagqSSPc5D1xjluj+qCF7k91IRMdGByqsZYD9AG9QQtIf\n",
       "tdwRmVHx3RZ6p/bORdFVogZCJJLfwqpMR2gX5B9s5y4a7q0Cj0ggT5w3tdprf1SYXJ8e+CyMJcSx\n",
       "4fpuJvUvuF/s6LLhEXhjL7VChHAjwC1/FBWSdcTAJxDbjhnKVzag/G5/T3pu/M9X2kMkYQICAYVR\n",
       "0xb18cwO08mKJcGtQoGUgLSMOHPi27Z+y8CMx/Z91osOUlwyIiqwYNDbnO4rwCxFppysKMXX7moW\n",
       "SkecKsR1PGOFRHKl9sFBSfdY34kNwpnM9TnMIkxaYZqhpx7U47WfHhRxBplLsu65lZhmBnHstpkB\n",
       "0tfAaazDQin3XYGCgcG8B6XirXVU9fbVSJYJZKEXJC1MrWeXMkvZdSdLMunKCKQ8AtXgqnVU96IW\n",
       "2NSE2NM5cj12+3mDs0bNPFputXYC9KSkEYe3UYHkE3sE+VZT65PUmgW7cxCg07gWTofOFYuzJHCx\n",
       "mSZWwb2qL4o7Kw/7K9fnK+TR6LAzS30nWl+GmyheSiKmOk/FEdXEku3V8ZfNiu+3/rhwZWdwmutK\n",
       "qxuNQ06nUjM0bWcj2vMaahVZIlXZPBuuC/LhZgNKWs+kTR8XuVwstAf0nlFdq17tGfUF+AdYFbT2\n",
       "Yxy2rAAAAABJRU5ErkJggg==\n",
       "\" style=\"display:inline;vertical-align:middle;\" /></a><br>(see <a class=\"ProveItLink\" href=\"../../../__pv_it/theorems/62156c7a112f4396ce4e1437142a64cac64ff00e0/dependencies.ipynb\">dependencies</a>)<br>"
      ],
      "text/plain": [
       "<IPython.core.display.HTML object>"
      ]
     },
     "metadata": {},
     "output_type": "display_data"
    },
    {
     "name": "stdout",
     "output_type": "stream",
     "text": [
      "real_closure may now be readily provable (assuming required theorems are usable).  Simply execute \"%qed\".\n"
     ]
    }
   ],
   "source": [
    "%proving real_closure"
   ]
  },
  {
   "cell_type": "code",
   "execution_count": null,
   "metadata": {},
   "outputs": [],
   "source": []
  }
 ],
 "metadata": {
  "kernelspec": {
   "display_name": "Python 3",
   "language": "python",
   "name": "python3"
  }
 },
 "nbformat": 4,
 "nbformat_minor": 0
}