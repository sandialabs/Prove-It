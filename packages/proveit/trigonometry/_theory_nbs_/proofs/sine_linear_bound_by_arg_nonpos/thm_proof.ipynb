{
 "cells": [
  {
   "cell_type": "markdown",
   "metadata": {},
   "source": [
    "Proof of <a class=\"ProveItLink\" href=\"../../../../_theory_nbs_/theory.ipynb\">proveit</a>.<a class=\"ProveItLink\" href=\"../../theory.ipynb\">trigonometry</a>.<a class=\"ProveItLink\" href=\"../../theorems.ipynb#sine_linear_bound_by_arg_nonpos\">sine_linear_bound_by_arg_nonpos</a> theorem\n",
    "========"
   ]
  },
  {
   "cell_type": "code",
   "execution_count": 1,
   "metadata": {},
   "outputs": [],
   "source": [
    "import proveit\n",
    "theory = proveit.Theory() # the theorem's theory"
   ]
  },
  {
   "cell_type": "code",
   "execution_count": 2,
   "metadata": {},
   "outputs": [
    {
     "data": {
      "text/html": [
       "With these <a href=\"allowed_presumptions.txt\">allowed</a>/<a href=\"disallowed_presumptions.txt\">disallowed</a> theorem/theory presumptions (e.g., to avoid circular dependencies), we begin our proof of<br><strong id=\"sine_linear_bound_by_arg_nonpos\">sine_linear_bound_by_arg_nonpos:</strong> <a class=\"ProveItLink\" href=\"../../../__pv_it/theorems/fd98f57b2861f78188bd66af48e6aa797d773de60/expr.ipynb\"><img src=\"data:image/png;base64,iVBORw0KGgoAAAANSUhEUgAAAKMAAAAVBAMAAADY0UPbAAAAMFBMVEX///8AAAAAAAAAAAAAAAAA\n",
       "AAAAAAAAAAAAAAAAAAAAAAAAAAAAAAAAAAAAAAAAAAAv3aB7AAAAD3RSTlMAq1RmmUTNIjK7EInv\n",
       "3XZ/CtNrAAAACXBIWXMAAA7EAAAOxAGVKw4bAAACuElEQVQ4y62VS2gTYRDH/2aTbLLpJo1CUUGM\n",
       "CAFRJILgSQ0a8VEse/GkaHyAVEEjiFA1sgHxpsZKKVGRPeQSsCYVBdNSUNSLD4jiQZDA2goeim18\n",
       "BFMJ1fk22WxiUnYPLmyYb7/Z3zfzn5kNYO2K/Wc/wBuw6HiQ7m5mrDbzXMuw43L7Bv+saTH9GN4Q\n",
       "sIPZx02IQpR+bgqFxoOgnqDjp+HlDo0AJ4AEOyppgrTT2Z4kKvp6857GlmJ45eGTsRFw0jOPmVJd\n",
       "dF+X8L2+/DrWyclVhi+ALgUcBeA0kzJI9woIP2oqTKgdnRYVkA3BSbw3xeIrM2QvgebhKGvEvSE9\n",
       "rKmZ6LmnuPL80id2SFbFIQkeqvcu4FYnTJNIOEr1rsD7ixF7GiplgAIOA28DLrYzK2M2Bo4qeQZ8\n",
       "dwfiBpmf/KIv3pE43/wrnzDbQB5QoOIGcAdgkpz2+6uAjZzcikeiovfVBLJ9PNZDlvBQpsI1NH4B\n",
       "+JIsM9YejcTFOTqTkClgnpZzTBy4SgRR2ZsZhRrq2rIhqDnPBfC91Hf3WPUaSOJtVVrLI0z8CRtI\n",
       "4nG/qVFZKtEtrI8xCDvJClXl7iNOcSMOUTYSz0p4j9YmOg+u0oQsQwxThGweHlB8fAlHMAUN6U2T\n",
       "kpIWpT4jdylxyfYSra2+HljSlHgZ6ygNjo3NRaqOnUZD0GZIzQ0w9CrqMKNfR6nrAiNNIx5kNhGG\n",
       "Ga+/hlwsfGCDlmMtStvi7dGSQ5Nd3Z3XXros8ZObdMJVyqtv579NsX9mWkq8Xp6oLl1TpbDSn1lS\n",
       "olTf9cXsYa4/lRqkxB+1j6coW/4MxnXDR7q5cjUt943hbCQSkZr8uLBl5HbdcCrb6kNETZRudxw2\n",
       "vnNF7VoobOOj5hinbAfIz3HqpBCJtnlmrAbpbv2nEPKpoYUOVy0iaZ7+ArW9xK/oV+TrAAAAAElF\n",
       "TkSuQmCC\n",
       "\" style=\"display:inline;vertical-align:middle;\" /></a><br>(see <a class=\"ProveItLink\" href=\"../../../__pv_it/theorems/32cbf9437185ffbcafbcca2b6f306a2a2b95b05b0/dependencies.ipynb\">dependencies</a>)<br>"
      ],
      "text/plain": [
       "<IPython.core.display.HTML object>"
      ]
     },
     "metadata": {},
     "output_type": "display_data"
    }
   ],
   "source": [
    "%proving sine_linear_bound_by_arg_nonpos"
   ]
  },
  {
   "cell_type": "code",
   "execution_count": null,
   "metadata": {},
   "outputs": [],
   "source": []
  }
 ],
 "metadata": {
  "kernelspec": {
   "display_name": "Python 3",
   "language": "python",
   "name": "python3"
  }
 },
 "nbformat": 4,
 "nbformat_minor": 0
}