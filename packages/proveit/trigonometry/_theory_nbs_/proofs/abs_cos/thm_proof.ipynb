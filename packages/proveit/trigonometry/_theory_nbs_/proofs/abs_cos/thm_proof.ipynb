{
 "cells": [
  {
   "cell_type": "markdown",
   "metadata": {},
   "source": [
    "Proof of <a class=\"ProveItLink\" href=\"../../../../_theory_nbs_/theory.ipynb\">proveit</a>.<a class=\"ProveItLink\" href=\"../../theory.ipynb\">trigonometry</a>.<a class=\"ProveItLink\" href=\"../../theorems.ipynb#abs_cos\">abs_cos</a> theorem\n",
    "========"
   ]
  },
  {
   "cell_type": "code",
   "execution_count": 1,
   "metadata": {},
   "outputs": [],
   "source": [
    "import proveit\n",
    "theory = proveit.Theory() # the theorem's theory"
   ]
  },
  {
   "cell_type": "code",
   "execution_count": 2,
   "metadata": {},
   "outputs": [
    {
     "data": {
      "text/html": [
       "With these <a href=\"allowed_presumptions.txt\">allowed</a>/<a href=\"disallowed_presumptions.txt\">disallowed</a> theorem/theory presumptions (e.g., to avoid circular dependencies), we begin our proof of<br><strong id=\"abs_cos\">abs_cos:</strong> <a class=\"ProveItLink\" href=\"../../../__pv_it/theorems/adc28fdc55259da0e553a471a228fcb1a43537cc0/expr.ipynb\"><img src=\"data:image/png;base64,iVBORw0KGgoAAAANSUhEUgAAAMEAAAAVBAMAAAANw5eWAAAAMFBMVEX///8AAAAAAAAAAAAAAAAA\n",
       "AAAAAAAAAAAAAAAAAAAAAAAAAAAAAAAAAAAAAAAAAAAv3aB7AAAAD3RSTlMAq1RmmUTNIjK7EInv\n",
       "3XZ/CtNrAAAACXBIWXMAAA7EAAAOxAGVKw4bAAACY0lEQVRIx6WVz2sTQRTHv91tNpvNDwJFwVtA\n",
       "8CSag2cppJWKFOrBkyJBRFFBIniprRL/Aa1KkXhxD6XopS7Com0RvFkQIV6sUAKDOSgIoYcW+gPU\n",
       "N7s7S3f3YQI7OWR4+ex8dt6bNwH+M7L04eN9RkNhjT7gD+SnuDgfPTBchV2mr7KcH2U5zUltKFWB\n",
       "cTm/znKL7FrW+kCGALsJPJQJm2O5GmvQ9gYyBNgpwLBpnQrLfWQNw+2BDAFWsKFTpgy+DHXWUHQG\n",
       "MgSYQct/6XQ+s9iw4xmsc6sVLPTGYXZ75Dz/8olIGGIMGRSWp5M0AbxgDVJP0Gwls2auIydeA20K\n",
       "n1Q7m+zI8VVO44wbYjoJ7yBLHsPvDW3j6mGh0lHxoGvQPtGWzZ1LNuRPZ5jcxRk3xDQqZs6WszcU\n",
       "f3RkHsLJzwSPFeQmp6x9mj4m2X5x96cMbyQNCcYNMXOTLEIW+hjlnfIFIfSliMH8IzND013rw99R\n",
       "Wm07aYgzZFBYhvaA+mlg5tt7dOEZSguRLFlbwftt3YO+Qy+0CTtehzhDBoVpsixvqe9wBZbXdsKZ\n",
       "7gaGnAjqAK0wisz2CWCEdlrXmkwdIgwZFKbLVWfl1bSHTNUznF0Ob5+yf5aqeGeuwXCO23gODJWX\n",
       "kpWOMWRQmDzyGGp66dJvtFpPKUuuanCz7ffDWK+Bu6uHcLH3mx7JPqsmDTGGDAorKrRUfmU6fh0u\n",
       "rKjnviP13Yr7Yf+KFb/v6LSqSstbK7WhFp63WhPTMlu3b1ljdVXqRmpD9Na2llvz0ezOpTbk+vyN\n",
       "PkCpycX56IHxS2HU4f8A9IDhzM93kwYAAAAASUVORK5CYII=\n",
       "\" style=\"display:inline;vertical-align:middle;\" /></a><br>(see <a class=\"ProveItLink\" href=\"../../../__pv_it/theorems/9ea476ff01632f713f130c4344b88aee0df40c2d0/dependencies.ipynb\">dependencies</a>)<br>"
      ],
      "text/plain": [
       "<IPython.core.display.HTML object>"
      ]
     },
     "metadata": {},
     "output_type": "display_data"
    }
   ],
   "source": [
    "%proving abs_cos"
   ]
  },
  {
   "cell_type": "code",
   "execution_count": null,
   "metadata": {},
   "outputs": [],
   "source": []
  }
 ],
 "metadata": {
  "kernelspec": {
   "display_name": "Python 3",
   "language": "python",
   "name": "python3"
  }
 },
 "nbformat": 4,
 "nbformat_minor": 0
}