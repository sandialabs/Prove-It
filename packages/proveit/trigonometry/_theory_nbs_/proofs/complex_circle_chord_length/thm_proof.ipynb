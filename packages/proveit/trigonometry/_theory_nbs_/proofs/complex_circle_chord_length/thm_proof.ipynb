{
 "cells": [
  {
   "cell_type": "markdown",
   "metadata": {},
   "source": [
    "Proof of <a class=\"ProveItLink\" href=\"../../../../_theory_nbs_/theory.ipynb\">proveit</a>.<a class=\"ProveItLink\" href=\"../../theory.ipynb\">trigonometry</a>.<a class=\"ProveItLink\" href=\"../../theorems.ipynb#complex_circle_chord_length\">complex_circle_chord_length</a> theorem\n",
    "========"
   ]
  },
  {
   "cell_type": "code",
   "execution_count": 1,
   "metadata": {},
   "outputs": [],
   "source": [
    "import proveit\n",
    "theory = proveit.Theory() # the theorem's theory"
   ]
  },
  {
   "cell_type": "code",
   "execution_count": 2,
   "metadata": {},
   "outputs": [
    {
     "data": {
      "text/html": [
       "With these <a href=\"allowed_presumptions.txt\">allowed</a>/<a href=\"disallowed_presumptions.txt\">disallowed</a> theorem/theory presumptions (e.g., to avoid circular dependencies), we begin our proof of<br><strong id=\"complex_circle_chord_length\">complex_circle_chord_length:</strong> <a class=\"ProveItLink\" href=\"../../../__pv_it/theorems/f612e03f6d6843fe55b204da11dea632dfad91920/expr.ipynb\"><img src=\"data:image/png;base64,iVBORw0KGgoAAAANSUhEUgAAAjYAAAAzCAMAAACzOrKdAAAANlBMVEX///8AAAAAAAAAAAAAAAAA\n",
       "AAAAAAAAAAAAAAAAAAAAAAAAAAAAAAAAAAAAAAAAAAAAAAAAAABHL6OuAAAAEXRSTlMAq1RmmUTN\n",
       "IjK7EInv3Xb58znApaUAAAAJcEhZcwAADsQAAA7EAZUrDhsAAAg7SURBVHja7V3tkrMqDBZBvuE9\n",
       "3v/NHkFFUECwuGud5cfOplMTYh5CSKLtupaD29H9jfeOO0ysxmmgxhNl9N2GeJp+nPEMyYyJWWPY\n",
       "DO21APDdqLlJP3L9EqoCoOzIacDnwwaIl6PmJv3EcP2SXgWf78hvgA3E70bNbfoVw4YzqfaXCBDy\n",
       "Al8GGyLJq1Fzn34V3gajwyUq3Dl35ONho/S7nc19+lXAZuwPl/QyiGd25NNhA+XLt6j79CuHzTDy\n",
       "4yUYRR3Sd8BGvjwevlG/ctgIFblkGEkILfI9sNHju1OHd+q3YIAAoUl+J8RAa9DvkYbB7kvfAxsF\n",
       "Xh7Z3KjfjIHBhNwsi04+Yj79ITvY9OFFAfls2NDx3fnhW/WzGODSHIGQyn1xBoTUO9jwUXcp8tmw\n",
       "AZ8EjPBuyH0uANwZ8FsMoNFaxUVQHKttLPNHNnM0in04xEKw+eSzYSM9H15d6Lo9mnYCKD7eRVSr\n",
       "3z2wkcw6iqxVLKgGcwgPYQPDoNgnHw0bOnpJJm9hwqtCiqFXKWGpD/jsZa1+t8Bm3lngeJ61QWan\n",
       "CmHDw+n55KNho324b3boL1fYSaG2tRIkPbCXtfrdBBsDCYC7PiPJBFhzDLQ7s++coUc+GjZMxpYv\n",
       "LyziYLc4uIBa2PsGi3KyhRKcADpOB1gespe1+t2zSTFtCpEo62dNBZ6hSKonHdw8GjaSxWDDYCVs\n",
       "uCKTZeflpkryJIUSnAA9cdUoZC9r9bvpJAW0oAToXPTOgUCwi8BGjClygs3menrYCDZtWPIxFiyQ\n",
       "0iVqrMpN0IEmNnS5ShcEoaUSnAADs7mQvbGXtfoRhPClfi0iYSZvcyHV4wXBQ4KcYIMcgUkj2LRh\n",
       "SYPEwWoHJCpgQ02ySw6bPXlBWrZUwiZgsjYCIXtZqZ+Ni8R4wVkPiW7Kz2ETGsAnJ9hQUBkwnsOm\n",
       "Dct+LcwGdii+s+seYvOfDC7tr/jc/ZVKcKyM85Z9+Jms1A/Y9SWvRDu8uwk2oTv0SRPb4LX+2TeL\n",
       "bZqwhEEOVa6Q55Ww6aQJbQY4X4fYuRPglQKmiGaNER17WamftFJBw7PV57DpRpAgjbpwUb9Fm9kC\n",
       "myYsw/PpGpyo08UHpEK+VQcEey0WSp/a81TCQQBFenXfjr2s1A9YqaBhtUHTjy/ZdZpvpF0l0qaa\n",
       "m2RV15NUC5YiWPaLHcCCRCrYFEWK45bDpephOv06nPqSRcI1AY69rNVvvn3HxFxyHlRDrXFHsJkL\n",
       "xRIRrUHbpi+JE6SFDbIgY7whbFqwRDHYsAXxomNT6CqO1rHLliTBcV49XCRcE+DYb9chrwoUVLzR\n",
       "gccuBs3Og9tpmrnMLQ3KtD7QtglEpRKkhQ0B658T74zEqijRvSYZ2CRZHuo3vRIYARxZJiBYev+W\n",
       "bW/mSWCHVfTQM6fAk6kXchrwzhIuCnDs/50bBRxcS6SPIjmPwbZpmtvGwJY7bFuuUDJBzqEc4+kI\n",
       "KjArEYi4mBfn0n1Jlu75DqoBY+Zs3JnaKxEnt/W/RcAczVMe3CE+Yrdg5yGSyRI3qVg12EnYCdgk\n",
       "5AU49v9dgI0Xrm/iUvOYNjQ2r9wFNvZi567Gq6MCNr2OgCBuVq5NUoYbBpJnYBNlab33Wq5Hyz/a\n",
       "LBnIddkm5ZrMwiBFIQebnpjBk96GFnmbQxS0SsgLIMdNqnATnu4BiCmUmkfHhZofgI3C5gc2KWPg\n",
       "Q7UmaVYyQYMYBopmYOOx3EpC3Va/0W4JWf6ao0jISDKwSbUendy4891/lXBJgGNfENuE+nW9WZjk\n",
       "OLvEPCxu7Rn+PtjkQ2KTX1kyLT3qoTYbUcqs1MY3s7chOdg4ln5JyNVv+OaPjTcjTMPIATWStwHr\n",
       "hSqxDaHZCZLrJyn2gYCak1SoH7Xi9HF2iXn0FiC2DHkfbFIl8AU2ZP0EDnKKwfqUWQfgJWSysc3G\n",
       "0i8JufrNAD3+iAlWmu5bEyPJ0JYrCQedfPzo/AmTRcI1AbAibxPoRxQyQxXH8POTS4ysgME3wGZX\n",
       "tgizxBa1swaUmJLc9H/UrBy4pO90koIkC5uVZVAScvUbiJkd/ezNxBBJJ/fBDZPhch7SSTmkRpy8\n",
       "e+j0wLhIuCbAsS8qLgx+xsaO41JMzWMQWuvp0EGBlIBTMEpAeza2bBjkYdzvkYfGiSVhVGLWLg8b\n",
       "J8wvCa31Gyo6fxMcBsEjcQI8wsai8INRUJP6REJNTere5r7kKC+1Z0uZ0XsWNStB8xhqYLOVhGyT\n",
       "wVq/2TKB80ktEhJ30cYJJD5bQO0q4Fn2JTXJ5i8CKkJNeak9rCX75B42ZPTyLmdmLYONKwlRUyVe\n",
       "6zdkBfyANRYdR+jonxWOwIZ+1BIHC3z4BxJgTb9NqN9PjYpS+65p1SP3sPFaHs7NWgYbH6/+whRm\n",
       "E8x+HUSbQsEnVXVVkny/LmFjX2IW8BsPuFeU2nf5SBB096X87blZa2EzVJaooL+jVPcSRzm27CXO\n",
       "spe1+v2Ytykvte+aVj3yR3uJayNA6u+tMsyLXd/XSzZ18TF7Wavfzw41FqgTRsQ++T2P13mr4/pz\n",
       "UqWr+5oEnz2t1e9HBy3J73zr43UdevnbbX5Nv6JXFgCVJJ8Nm2EcXg2b39IPFVl955G+59UBXh34\n",
       "neN39INFe+MuYIff86KS3zlr/KQBf0O/VKk9v5GpL3ot0t9L2G4Ih1Ol9v0G+r0vYftzN81HstS+\n",
       "GwxkyMe/YBa/3N38uH7JUvve2fAM+XjY0Je/zvqp+qk+Rz7/5fmavRo2D9Xv21+e//dTHb8xBpwj\n",
       "b4ANbP8bVbh/N26epx/FPE0aA7d2kX8/Q/YC/XiImh05/wzZ/xt6VQ9bA2WYAAAAAElFTkSuQmCC\n",
       "\" style=\"display:inline;vertical-align:middle;\" /></a><br>(see <a class=\"ProveItLink\" href=\"../../../__pv_it/theorems/191da1f252a253afec01cddd80e1a50c7b2f22510/dependencies.ipynb\">dependencies</a>)<br>"
      ],
      "text/plain": [
       "<IPython.core.display.HTML object>"
      ]
     },
     "metadata": {},
     "output_type": "display_data"
    }
   ],
   "source": [
    "%proving complex_circle_chord_length"
   ]
  },
  {
   "cell_type": "code",
   "execution_count": null,
   "metadata": {},
   "outputs": [],
   "source": []
  }
 ],
 "metadata": {
  "kernelspec": {
   "display_name": "Python 3",
   "language": "python",
   "name": "python3"
  }
 },
 "nbformat": 4,
 "nbformat_minor": 0
}