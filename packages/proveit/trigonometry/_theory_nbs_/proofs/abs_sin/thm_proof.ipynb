{
 "cells": [
  {
   "cell_type": "markdown",
   "metadata": {},
   "source": [
    "Proof of <a class=\"ProveItLink\" href=\"../../../../_theory_nbs_/theory.ipynb\">proveit</a>.<a class=\"ProveItLink\" href=\"../../theory.ipynb\">trigonometry</a>.<a class=\"ProveItLink\" href=\"../../theorems.ipynb#abs_sin\">abs_sin</a> theorem\n",
    "========"
   ]
  },
  {
   "cell_type": "code",
   "execution_count": 1,
   "metadata": {},
   "outputs": [],
   "source": [
    "import proveit\n",
    "theory = proveit.Theory() # the theorem's theory"
   ]
  },
  {
   "cell_type": "code",
   "execution_count": 2,
   "metadata": {},
   "outputs": [
    {
     "data": {
      "text/html": [
       "With these <a href=\"allowed_presumptions.txt\">allowed</a>/<a href=\"disallowed_presumptions.txt\">disallowed</a> theorem/theory presumptions (e.g., to avoid circular dependencies), we begin our proof of<br><strong id=\"abs_sin\">abs_sin:</strong> <a class=\"ProveItLink\" href=\"../../../__pv_it/theorems/1a415f97351e7aabee25e9fa889a2b82de85df0c0/expr.ipynb\"><img src=\"data:image/png;base64,iVBORw0KGgoAAAANSUhEUgAAAL0AAAAVBAMAAADhtvKAAAAAMFBMVEX///8AAAAAAAAAAAAAAAAA\n",
       "AAAAAAAAAAAAAAAAAAAAAAAAAAAAAAAAAAAAAAAAAAAv3aB7AAAAD3RSTlMAq1RmmUTNIjK7EInv\n",
       "3XZ/CtNrAAAACXBIWXMAAA7EAAAOxAGVKw4bAAACX0lEQVQ4y6WVz2vTYBjHv03aNEnXLngQBNGB\n",
       "4NUePE+h/jwI9eBViwiiDonHsSnRP0CrskM9uBxEBsIMQsDtIOt1ItSLCqMsOFBPYwe97OTzpHnf\n",
       "JenLOujbQ9OHz/NJ8n1/FNhnlOmjLO8/XEG5I8CfqDQVZWUxNUJBXacvh69PKDktEKr5+kh/CpH+\n",
       "GtXO8/Vtpf+tVN04K4v2d7U/hYSSugs85qjaSn9D+u3US+2q/XYmn4Q6DRg+WaaU/jVVFMXeQfJP\n",
       "qAkfOmVkqONvqfzV4CD+hDJI/qXf/6zEikHsfzr9qzzjmDMXt49R8eri82jIn0XIL6gKrZ5LwCul\n",
       "n29eadptVGE4qB7CM17Pp8RLXenz+MrR55BQUjpF8ABluosx2Avaxq3DkUhiiqHSOmqwHFhrmOQl\n",
       "eGE4tDwSSkqjKbR8vnrPr3lkAVFQmUvaJpoxtPnajZvbmOQ7bygmJYeEkjJ36B4RT+9JypuSQhTp\n",
       "y1n/u82/qWb7n8KfRcgvqBI9P1rTwNy3j9hC7K+9yeRT9nHG22vWduDn888h5BeU1qOfH2iX4SbP\n",
       "EvuD2a3Eb0Xs1yIU6nvNxZbm5Z8/h5BfUDo75/kI2kUpPkCiyyvymHFi/zoslzqNQXPBWR7KJ4eQ\n",
       "X1C8xFHw4qD0O53OC8onFJvZ7MXr59N2aB7tLh3vPlnsUhYv68PrJ4uQX1BVQdacJTMY5H9tVfT9\n",
       "wJjnMx7KvRqtDnYZrU8xv3w6jelviJLZ8DDLOd2/Z59riQl2x/Rnz2V7pbOQPXLbY/qtEX+Qj1Dz\n",
       "FGVlMTX+COo38B+8edPyyRARNQAAAABJRU5ErkJggg==\n",
       "\" style=\"display:inline;vertical-align:middle;\" /></a><br>(see <a class=\"ProveItLink\" href=\"../../../__pv_it/theorems/e3cc7ad51391d334c4a4dd3d82cc6006bd7da5740/dependencies.ipynb\">dependencies</a>)<br>"
      ],
      "text/plain": [
       "<IPython.core.display.HTML object>"
      ]
     },
     "metadata": {},
     "output_type": "display_data"
    }
   ],
   "source": [
    "%proving abs_sin"
   ]
  },
  {
   "cell_type": "code",
   "execution_count": null,
   "metadata": {},
   "outputs": [],
   "source": []
  }
 ],
 "metadata": {
  "kernelspec": {
   "display_name": "Python 3",
   "language": "python",
   "name": "python3"
  }
 },
 "nbformat": 4,
 "nbformat_minor": 0
}