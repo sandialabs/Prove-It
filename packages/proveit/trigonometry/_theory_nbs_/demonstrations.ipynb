{
 "cells": [
  {
   "cell_type": "markdown",
   "metadata": {},
   "source": [
    "Demonstrations for the theory of <a class=\"ProveItLink\" href=\"theory.ipynb\">proveit.trigonometry</a>\n",
    "========"
   ]
  },
  {
   "cell_type": "code",
   "execution_count": null,
   "metadata": {},
   "outputs": [],
   "source": [
    "import proveit\n",
    "from proveit import a, b, c, r, theta\n",
    "from proveit.logic import InSet\n",
    "from proveit.numbers import zero, one, two, e, pi, i\n",
    "from proveit.numbers import Real, RealPos, RealNeg, RealNonNeg, RealNonPos\n",
    "from proveit.numbers import IntervalCC, IntervalOC, IntervalCO, IntervalOO\n",
    "from proveit.numbers import Less, LessEq, Abs, Neg, Add, subtract, Mult, Div, Exp\n",
    "from proveit.trigonometry import Sin, Cos\n",
    "%begin demonstrations"
   ]
  },
  {
   "cell_type": "code",
   "execution_count": null,
   "metadata": {},
   "outputs": [],
   "source": [
    "# complex_unit_circle_chord_length.instantiate(\n",
    "#                         {a:_theta1, b:_theta2}, replacements=replacements, auto_simplify=False)"
   ]
  },
  {
   "cell_type": "code",
   "execution_count": null,
   "metadata": {},
   "outputs": [],
   "source": [
    "from proveit.trigonometry import complex_unit_circle_chord_length\n",
    "complex_unit_circle_chord_length"
   ]
  },
  {
   "cell_type": "code",
   "execution_count": null,
   "metadata": {},
   "outputs": [],
   "source": [
    "Abs(subtract(one, Exp(e, Mult(two, pi, i, theta)))).chord_length_simplification(\n",
    "    assumptions=[InSet(r, RealPos), InSet(theta, Real)])"
   ]
  },
  {
   "cell_type": "code",
   "execution_count": null,
   "metadata": {},
   "outputs": [],
   "source": [
    "Abs(subtract(one, Exp(e, Mult(two, pi, i, theta)))).chord_length_simplification(\n",
    "    assumptions=[InSet(r, RealPos), InSet(theta, Real)], auto_simplify=False)"
   ]
  },
  {
   "cell_type": "code",
   "execution_count": null,
   "metadata": {},
   "outputs": [],
   "source": [
    "complex_unit_circle_chord_length.instantiate(\n",
    "                        {a:Mult(two, pi, theta), b:zero}, assumptions=[InSet(r, RealPos), InSet(theta, Real)])"
   ]
  },
  {
   "cell_type": "code",
   "execution_count": null,
   "metadata": {},
   "outputs": [],
   "source": [
    "complex_unit_circle_chord_length.instantiate(\n",
    "                        {a:Mult(two, pi, theta), b:zero}, assumptions=[InSet(r, RealPos), InSet(theta, Real)], auto_simplify=False)"
   ]
  },
  {
   "cell_type": "markdown",
   "metadata": {},
   "source": [
    "### Deducing bounds (including triangle inequality)"
   ]
  },
  {
   "cell_type": "code",
   "execution_count": null,
   "metadata": {},
   "outputs": [],
   "source": [
    "Sin(theta).deduce_in_interval(assumptions=[InSet(theta, Real)])"
   ]
  },
  {
   "cell_type": "code",
   "execution_count": null,
   "metadata": {},
   "outputs": [],
   "source": [
    "Sin(theta).deduce_in_interval(assumptions=[InSet(theta, IntervalCC(zero, pi))])"
   ]
  },
  {
   "cell_type": "code",
   "execution_count": null,
   "metadata": {},
   "outputs": [],
   "source": [
    "Sin(theta).deduce_in_interval(assumptions=[InSet(theta, IntervalOO(zero, pi))])"
   ]
  },
  {
   "cell_type": "code",
   "execution_count": null,
   "metadata": {},
   "outputs": [],
   "source": [
    "Sin(theta).deduce_in_interval(assumptions=[InSet(theta, IntervalCC(Neg(pi), zero))])"
   ]
  },
  {
   "cell_type": "code",
   "execution_count": null,
   "metadata": {},
   "outputs": [],
   "source": [
    "Sin(theta).deduce_in_interval(assumptions=[InSet(theta, IntervalOO(Neg(pi), zero))])"
   ]
  },
  {
   "cell_type": "code",
   "execution_count": null,
   "metadata": {},
   "outputs": [],
   "source": [
    "Sin(Abs(theta)).deduce_linear_bound(assumptions=[InSet(theta, Real), LessEq(Abs(theta), Div(pi, two))])"
   ]
  },
  {
   "cell_type": "code",
   "execution_count": null,
   "metadata": {},
   "outputs": [],
   "source": [
    "Sin(theta).deduce_linear_bound(assumptions=[InSet(theta, RealPos), LessEq(theta, Div(pi, two))])"
   ]
  },
  {
   "cell_type": "code",
   "execution_count": null,
   "metadata": {},
   "outputs": [],
   "source": [
    "Sin(theta).deduce_linear_bound(assumptions=[InSet(theta, RealNonNeg), LessEq(theta, Div(pi, two))])"
   ]
  },
  {
   "cell_type": "code",
   "execution_count": null,
   "metadata": {},
   "outputs": [],
   "source": [
    "Sin(theta).deduce_linear_bound(assumptions=[InSet(theta, RealNeg), Less(Neg(theta), Div(pi, two))])"
   ]
  },
  {
   "cell_type": "code",
   "execution_count": null,
   "metadata": {},
   "outputs": [],
   "source": []
  },
  {
   "cell_type": "markdown",
   "metadata": {},
   "source": [
    "### Magnitudes and lengths"
   ]
  },
  {
   "cell_type": "markdown",
   "metadata": {},
   "source": [
    "Using the circle choord length formula"
   ]
  },
  {
   "cell_type": "code",
   "execution_count": null,
   "metadata": {},
   "outputs": [],
   "source": [
    "Abs(subtract(Mult(r, Exp(e, Mult(i, a))), \n",
    "             Mult(r, Exp(e, Mult(i, b))))).simplification(\n",
    "    assumptions=[InSet(r, RealPos), InSet(a, Real), InSet(b, Real)])"
   ]
  },
  {
   "cell_type": "code",
   "execution_count": null,
   "metadata": {},
   "outputs": [],
   "source": [
    "Abs(subtract(Mult(r, Exp(e, Mult(i, a)), c), \n",
    "             Mult(r, c, Exp(e, Mult(i, b))))).simplification(\n",
    "    assumptions=[InSet(r, RealPos), InSet(c, RealPos), InSet(a, Real), InSet(b, Real)])"
   ]
  },
  {
   "cell_type": "code",
   "execution_count": null,
   "metadata": {},
   "outputs": [],
   "source": [
    "Abs(subtract(Exp(e, Mult(i, theta)), one)).chord_length_simplification(assumptions=[InSet(theta, Real)])"
   ]
  },
  {
   "cell_type": "code",
   "execution_count": null,
   "metadata": {},
   "outputs": [],
   "source": [
    "Abs(subtract(r, Mult(r, Exp(e, Mult(i, theta))))).chord_length_simplification(\n",
    "    assumptions=[InSet(r, RealPos), InSet(theta, Real)])"
   ]
  },
  {
   "cell_type": "code",
   "execution_count": null,
   "metadata": {},
   "outputs": [],
   "source": [
    "Abs(subtract(one, Exp(e, Mult(two, pi, i, theta)))).chord_length_simplification(\n",
    "    assumptions=[InSet(r, RealPos), InSet(theta, Real)])"
   ]
  },
  {
   "cell_type": "code",
   "execution_count": null,
   "metadata": {},
   "outputs": [],
   "source": [
    "Abs(Add(Neg(Exp(e, Mult(two, pi, i, theta))), one)).chord_length_simplification(\n",
    "    assumptions=[InSet(r, RealPos), InSet(theta, Real)])"
   ]
  },
  {
   "cell_type": "code",
   "execution_count": null,
   "metadata": {},
   "outputs": [],
   "source": [
    "%end demonstrations"
   ]
  },
  {
   "cell_type": "code",
   "execution_count": null,
   "metadata": {},
   "outputs": [],
   "source": []
  }
 ],
 "metadata": {
  "kernelspec": {
   "display_name": "Python 3",
   "language": "python",
   "name": "python3"
  }
 },
 "nbformat": 4,
 "nbformat_minor": 0
}
