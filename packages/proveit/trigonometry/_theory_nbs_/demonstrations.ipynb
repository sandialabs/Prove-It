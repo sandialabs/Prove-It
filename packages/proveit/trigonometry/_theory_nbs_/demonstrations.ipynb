{
 "cells": [
  {
   "cell_type": "markdown",
   "metadata": {},
   "source": [
    "Demonstrations for the theory of <a class=\"ProveItLink\" href=\"theory.ipynb\">proveit.trigonometry</a>\n",
    "========"
   ]
  },
  {
   "cell_type": "code",
   "execution_count": 1,
   "metadata": {},
   "outputs": [],
   "source": [
    "import proveit\n",
    "from proveit import a, b, c, r, theta\n",
    "from proveit.logic import InSet\n",
    "from proveit.numbers import zero, one, two, e, pi, i\n",
    "from proveit.numbers import Real, RealPos, RealNeg, RealNonNeg, RealNonPos\n",
    "from proveit.numbers import IntervalCC, IntervalOC, IntervalCO, IntervalOO\n",
    "from proveit.numbers import frac, Less, LessEq, Abs, Neg, Add, subtract, Mult, Div, Exp\n",
    "from proveit.trigonometry import Sin, Cos\n",
    "%begin demonstrations"
   ]
  },
  {
   "cell_type": "code",
   "execution_count": 2,
   "metadata": {},
   "outputs": [
    {
     "data": {
      "text/html": [
       "<span style=\"font-size:20px;\"><a class=\"ProveItLink\" href=\"../../numbers/number_sets/complex_numbers/__pv_it/theorems/5c9b98ec381ed1eef8437437430dde6add03b8720/expr.ipynb\"><img src=\"data:image/png;base64,iVBORw0KGgoAAAANSUhEUgAAADMAAAAQBAMAAABJt1qBAAAAMFBMVEX///8AAAAAAAAAAAAAAAAA\n",
       "AAAAAAAAAAAAAAAAAAAAAAAAAAAAAAAAAAAAAAAAAAAv3aB7AAAAD3RSTlMAdokyu2YQ3URUqyLN\n",
       "75mYuQMGAAAACXBIWXMAAA7EAAAOxAGVKw4bAAAA5UlEQVQY02NgwAAxV/yPXwkAMxmVDFDlHHYx\n",
       "dIUkgFiubAVoUpsYWJgXABlMDgyfMaT4NhwAMuwbGH5CDHYvr0FIOQAZyxnYvoIEOA4mIHRxpQEN\n",
       "ZPvIwPEDJLAnAclAkzkbgMZ8ZmD8DRI4jbBr7/HvYkCa59eq9RdAAgeQnBGaA6L5HRjyBYA08/Xy\n",
       "8vISqBRLKsjLQPF4kC1sDki6mB+4gaQaGOrAAgXI/nq8BWRgA+c1sIAgslQKI9BErgnpkCDkmQCX\n",
       "2sfAGuABtOPha4gA25I2eMh7M7icn4AUdBwq0ICCAgBvTUGfeJd/4AAAAABJRU5ErkJggg==\n",
       "\" style=\"display:inline;vertical-align:middle;\" /></a> <a class=\"ProveItLink\" href=\"../__pv_it/demonstrations/193e78a5ab9ca0a3bc1429b31585abcaddc621df0/proof.ipynb\" style=\"text-decoration: none\">&nbsp;&#x22A2;&nbsp;&nbsp;</a><a class=\"ProveItLink\" href=\"../__pv_it/demonstrations/ea367f9e17668e3bda8efa15d2e228d2a30ba3790/expr.ipynb\"><img src=\"data:image/png;base64,iVBORw0KGgoAAAANSUhEUgAAASYAAAAnCAMAAACVMRX5AAAAOVBMVEX///8AAAAAAAAAAAAAAAAA\n",
       "AAAAAAAAAAAAAAAAAAAAAAAAAAAAAAAAAAAAAAAAAAAAAAAAAAAAAAACXHtMAAAAEnRSTlMAme8y\n",
       "+fOvEKvdVGYiu4l2RM0DgRKqAAAACXBIWXMAAA7EAAAOxAGVKw4bAAAEFElEQVRo3u2Z2ZajIBCG\n",
       "WbqHfZH3f9iBYpFETcBc9Dgt58zQJvxAfVKLBmH0s+2n1x9s5Jevf2O6Md2YroBJ0RNT9CKpxzTu\n",
       "0piIrX9Z6+zoFOtA5RFi1nLODkdr7FyX4a7tdCqa4s3sZIwXAFgcDjEMLRGit/8DJpIcKejJybBP\n",
       "qvifDkfea1T8J+MfC7supkUVzwjJCCKHpqgihOAMKdZh0iJAq8B1SII0r5UTmPRHNurJ73X/oX6B\n",
       "iQImoeYw6aVFtuJ0DDOtUBfkcHJkYCjxOCYnP6H0Vm39zrUvWSb3W0zMVkzEDWNKojWYUcHyR7Fz\n",
       "mmVM0AkTA3xA6+ARTNLm2I8X8yITa6JeqIcwOWtpu3ZlOui/NhZToovThXGnSyIkedmwSWr4KAYi\n",
       "RPO5gevkfRiuacb0NZAYljxpMiD4w2E+4GP1EKYYN5lYr0v0hP57339mQngTFct13K5urm2Q5+vY\n",
       "dJAyvuJ03wOJAebnoCIvTh97oR7BZGtAKNeqYE/9fmxCqbbpzZsI4dpQSnHdM3bId2vEO4NlW2HM\n",
       "6fIQAgecT2ffgQUyFgonNXlQPV2EtZ6UgocI/GBxLC8xe1clPYuMBntS67ggsU7kbclweeyIFTJ7\n",
       "DYd7wMPkc4JcRjHBAiyoFVM1LPawTUaEVITPbWBH5O242ozebNxPKsLme+qUc0tMs2kvdCFYO8fd\n",
       "s9rmuxf2AhhgYcFBgPMrJstbTxrIHLbH254ID7tEHdlhwqJrfMenk2O4fd5pLwtoBJdpnH5UW+ul\n",
       "pcpRenSaHJxTl4QVk1paD9sMqhbIE21XZAdRKz8cOkSXb8X2xHuIIImegS9NZ1FTU5kqE+TosdMt\n",
       "gccWSJf5JGk9gXuUmz1Oyd19pvXG7ooGMbHxCEv8Y3FaJghL80PjcumRMcGYdupWdfy8fyJfJ8hY\n",
       "gmmeVzHR0PqMSerUppzulOhMIloNVf1ZEjXIMCtyxHmNifKSiTcTAJYMSEEMqZhqivakOJ07YeAp\n",
       "0StMB7GpOR2U03rzAMbAPHqAqalT/RSOMx2DciCja04nWg/bxLlCmCtJTolOnCZTLKbg3u759Er4\n",
       "mqsDTFXN0jk5qOFtfbEhs0kthJvW54JAEOWdmDsep0QnMJW0rAVObfMiK5uWqrAMaHnEVJO6S8KD\n",
       "6AtYYoJkJe5WTLWYiD2pBz4s0wafEk1joqJEamibatFb51w0jHJCOKMxV3EqTagFXVHnd1z8BSaG\n",
       "XS1SKiax9n9++H3XwPqCfrLAgHr3RUo6v6j1F/hlRX30y/CA+gBTfWhO/RV+gDIfpYn36n1M2rR3\n",
       "HNfAxMwnK7xX72OqePPz/AUwIf1Ronirfn6GgWtXKOX+/tX3Etu8Md2Ybkw3phvTjenG9A80+svX\n",
       "H2t/Ad2CK2uJulD1AAAAAElFTkSuQmCC\n",
       "\" style=\"display:inline;vertical-align:middle;\" /></a></span>"
      ],
      "text/plain": [
       "{theta in Real} |- |e^{i * 0} - e^{i * (2 * pi * theta)}| = (2 * sin(pi * |theta|))"
      ]
     },
     "metadata": {},
     "output_type": "display_data"
    }
   ],
   "source": [
    "Abs(subtract(Exp(e, Mult(i, zero)), Exp(e, Mult(i, Mult(two, pi, theta))))).shallow_simplification(\n",
    "    assumptions=[InSet(r, RealPos), InSet(theta, Real)])"
   ]
  },
  {
   "cell_type": "code",
   "execution_count": 3,
   "metadata": {},
   "outputs": [
    {
     "data": {
      "text/html": [
       "<span style=\"font-size:20px;\"><a class=\"ProveItLink\" href=\"../../numbers/number_sets/complex_numbers/__pv_it/theorems/5c9b98ec381ed1eef8437437430dde6add03b8720/expr.ipynb\"><img src=\"data:image/png;base64,iVBORw0KGgoAAAANSUhEUgAAADMAAAAQBAMAAABJt1qBAAAAMFBMVEX///8AAAAAAAAAAAAAAAAA\n",
       "AAAAAAAAAAAAAAAAAAAAAAAAAAAAAAAAAAAAAAAAAAAv3aB7AAAAD3RSTlMAdokyu2YQ3URUqyLN\n",
       "75mYuQMGAAAACXBIWXMAAA7EAAAOxAGVKw4bAAAA5UlEQVQY02NgwAAxV/yPXwkAMxmVDFDlHHYx\n",
       "dIUkgFiubAVoUpsYWJgXABlMDgyfMaT4NhwAMuwbGH5CDHYvr0FIOQAZyxnYvoIEOA4mIHRxpQEN\n",
       "ZPvIwPEDJLAnAclAkzkbgMZ8ZmD8DRI4jbBr7/HvYkCa59eq9RdAAgeQnBGaA6L5HRjyBYA08/Xy\n",
       "8vISqBRLKsjLQPF4kC1sDki6mB+4gaQaGOrAAgXI/nq8BWRgA+c1sIAgslQKI9BErgnpkCDkmQCX\n",
       "2sfAGuABtOPha4gA25I2eMh7M7icn4AUdBwq0ICCAgBvTUGfeJd/4AAAAABJRU5ErkJggg==\n",
       "\" style=\"display:inline;vertical-align:middle;\" /></a> <a class=\"ProveItLink\" href=\"../__pv_it/demonstrations/e4e87810b6fbfb491bc9dec8fd029bcc8e05ee7a0/proof.ipynb\" style=\"text-decoration: none\">&nbsp;&#x22A2;&nbsp;&nbsp;</a><a class=\"ProveItLink\" href=\"../__pv_it/demonstrations/7ba7852b6a8e5e652b5efd86aae6db4e8958209b0/expr.ipynb\"><img src=\"data:image/png;base64,iVBORw0KGgoAAAANSUhEUgAAAQgAAAAbCAMAAAC3HeFMAAAANlBMVEX///8AAAAAAAAAAAAAAAAA\n",
       "AAAAAAAAAAAAAAAAAAAAAAAAAAAAAAAAAAAAAAAAAAAAAAAAAABHL6OuAAAAEXRSTlMAme8y+fPd\n",
       "EKvNdokiZlS7RHJk47YAAAAJcEhZcwAADsQAAA7EAZUrDhsAAANySURBVFjD3ZiJcuMgDEA5Wg5x\n",
       "mf//2QVxuQ2ucdJs02qmo1AjI551YBPyveI4+aVCL1tIY5SSBxeZ6T8tBbhziZ8Qdhc6Ks55BUm0\n",
       "vG+J3wEibulpx9MUCC79+b8MwskdCCsiiq0XtWuJEfNoHYR9aBf24nW7/6cl9z8uU1NDUmkdGXVh\n",
       "gKAhBw9fXQL8IxxOrc02GW+lhFXdvORCri+Mk2Xaf1JgpalFtILAHyKkmhpXWXtTyivV4aucs8wd\n",
       "Wy+BAGN4H0O9G2r0Uiqq4zoIG/JczjCmAuGlLeA4g8AfOVkoXQQhdbltdjFux/O2SA+tl0CkwiXF\n",
       "GOu656ybl7AOwiZvbE+wQDY1SY0cDGw1+yhaKZzOvpouj61XQJiWr3XsKtesr4OwgXNO22wKZGMT\n",
       "EAky9av1uMxg6IKKV+vmQuqVjXOMtuhHhDDZ9ToIqZig6G8WMjZMduWlg9iM8auO+hLbCiuwihcP\n",
       "p16vgsAFZHQDRHM36WUQkgnvmHpGh6b7YifipDiDA9DE6rw+14xaAAWfrU15RHFSSHDjMgLWmW2A\n",
       "MKrrZRCI014oqRMQVOxE3YYRhi9MDqlIKM9EI6F8nmg/WhuzecMdcH4QEYCxBtmugXC667dVENG1\n",
       "8+JVeTubIHbHADGJuQ1TOQMKeDWw4VC35j63cgL8MDV0VEki23URz7p+n4CQevfgeHtSRcx1EO+n\n",
       "ITM6Jp7DqhdRj3QJUHp1AYGTWujsrNP/d6+DuxvgxmPo+dFA8Nj1amrw6G0W+YQaMbbi9vEg6Hjh\n",
       "FSXzvwbBVUmg2xvkjRcEDvfZQLSGl/RyjZjk7nfViJ4aeES0N+0T6buc4TMQI7HygSIedg2JzbPA\n",
       "6akhul4GQUvPtU+IiFC3xDHv4MYRj9eVm4No1mmnsrwbH9SIfMmXXfRiGbpuXpqzc4wUzG0g4Akg\n",
       "ahOzgma5/dRRvA+2IdAfQLQWSCBbzosYbjz1GllLXgPRWm/SxUulWNTqpCNQETWQJ4DgopZElNvz\n",
       "0WYAIPnOFWNK8lT4Ffch1kMNb+Tw64c6BiEpUPvx3UMM/R++mpwvIR760rlgPX0NzzFIun4JEO6h\n",
       "z5oL1gcg2uta1i8BAvP/fjm3noOwob9BvwoIGR5Z4Nx6DqIBRP0aIIiFR1Y4tf588MYxVA5FvwiI\n",
       "nxf+J5Z4XP4B1ZgigIXw7+EAAAAASUVORK5CYII=\n",
       "\" style=\"display:inline;vertical-align:middle;\" /></a></span>"
      ],
      "text/plain": [
       "{theta in Real} |- |1 - e^{2 * pi * i * theta}| = (2 * sin(pi * |theta|))"
      ]
     },
     "metadata": {},
     "output_type": "display_data"
    }
   ],
   "source": [
    "Abs(subtract(one, Exp(e, Mult(two, pi, i, theta)))).chord_length_simplification(\n",
    "    assumptions=[InSet(r, RealPos), InSet(theta, Real)])"
   ]
  },
  {
   "cell_type": "code",
   "execution_count": 4,
   "metadata": {},
   "outputs": [
    {
     "data": {
      "text/html": [
       "<span style=\"font-size:20px;\"><a class=\"ProveItLink\" href=\"../../numbers/number_sets/complex_numbers/__pv_it/theorems/5c9b98ec381ed1eef8437437430dde6add03b8720/expr.ipynb\"><img src=\"data:image/png;base64,iVBORw0KGgoAAAANSUhEUgAAADMAAAAQBAMAAABJt1qBAAAAMFBMVEX///8AAAAAAAAAAAAAAAAA\n",
       "AAAAAAAAAAAAAAAAAAAAAAAAAAAAAAAAAAAAAAAAAAAv3aB7AAAAD3RSTlMAdokyu2YQ3URUqyLN\n",
       "75mYuQMGAAAACXBIWXMAAA7EAAAOxAGVKw4bAAAA5UlEQVQY02NgwAAxV/yPXwkAMxmVDFDlHHYx\n",
       "dIUkgFiubAVoUpsYWJgXABlMDgyfMaT4NhwAMuwbGH5CDHYvr0FIOQAZyxnYvoIEOA4mIHRxpQEN\n",
       "ZPvIwPEDJLAnAclAkzkbgMZ8ZmD8DRI4jbBr7/HvYkCa59eq9RdAAgeQnBGaA6L5HRjyBYA08/Xy\n",
       "8vISqBRLKsjLQPF4kC1sDki6mB+4gaQaGOrAAgXI/nq8BWRgA+c1sIAgslQKI9BErgnpkCDkmQCX\n",
       "2sfAGuABtOPha4gA25I2eMh7M7icn4AUdBwq0ICCAgBvTUGfeJd/4AAAAABJRU5ErkJggg==\n",
       "\" style=\"display:inline;vertical-align:middle;\" /></a> <a class=\"ProveItLink\" href=\"../__pv_it/demonstrations/c7175f04b4f3003893b3bc1ab6a5607dc549fa750/proof.ipynb\" style=\"text-decoration: none\">&nbsp;&#x22A2;&nbsp;&nbsp;</a><a class=\"ProveItLink\" href=\"../__pv_it/demonstrations/167bb352612cd4d5e585d5f45c5167876d5b39b80/expr.ipynb\"><img src=\"data:image/png;base64,iVBORw0KGgoAAAANSUhEUgAAAVYAAAAyCAMAAAAwYwNJAAAAM1BMVEX///8AAAAAAAAAAAAAAAAA\n",
       "AAAAAAAAAAAAAAAAAAAAAAAAAAAAAAAAAAAAAAAAAAAAAADxgEwMAAAAEHRSTlMAme8yr90Qq812\n",
       "iSJmVLtEPIqK3wAAAAlwSFlzAAAOxAAADsQBlSsOGwAABTlJREFUeNrVnOm6oyAMhlkO+2Lu/2pH\n",
       "QCtaVLR0pPyYp6dFA68hJF/pINRX8/SDi83XOp/cIr3gnqM+m7CfXK2H+r7KfT7aQa0NU9YnV6FR\n",
       "A6xaK3zmiy5ZMhjLGwtEaR0vUnb9PB3rkaqVqAFWOfohZ8dcebJkfLgKhot2vB0NxFeSr5eJFv1R\n",
       "NcQ0wGrjhLU/7ImTm4lokJCLZsK9IbqrxZvow2x3WJlCDbD66DAODsPcBJLEXgIuPU4avRtSbCZ8\n",
       "jdWR3sKrJagFVsBp7kdbkpuijYieLeBSdI0XcUhuKe1mr5S4M6xEt8DKZ6xHqxGvTDEo3IpAam+U\n",
       "OIRFNUwBOQXTDOsApiuqCngLrAZ0wnoUUaRdLer3rloPTlOrKC2Mk8Z/TbbL5pmd7GvXYp8PZ4X1\n",
       "yPeZOzZMx8+VQaoUHCSIsQGZY+kWq4P20dXeLpIoUNQmCOi0FtWcSrGlzSZIhgH7bH1nGd74tuCF\n",
       "j8C/IkEc9hZr+uh6hOVaC8FP46PBKpmusyAIaoJ12rLc4ZaVYbW5r7JlrHR8nxU+StTs7JLDm7ci\n",
       "z5ZU40IL98en5UQokFOyXGeBiEZYffQ+e7gUlyAQqy1jypktlOYV96oX/1RXrbDaEHavY4UYwc6W\n",
       "7FiJIO+qsR7v3JfKgWgPHxZsft6kaFxdihfo8TTT4vSX7NT6N6wx97qO1fIMq2EpDzGbLdbAVEZW\n",
       "WlAt8pI0u+CKnBw+9rnGNAyHVlh6KrxX3PaEGytXuk7V1hpPWHj3QpqeRsIxNxbp98wFLwVelQXf\n",
       "ILROs+NYK3G8mCibM9bYCp4dF1pR+eE4F3LY8I41BFfysnQhL4id+WiUh0SE67STTVjjC+bHjQ1Q\n",
       "NVaS1fCnspIh9kjBqsnmKGrSDCsY1jBNmgssL6RbJuq1NCkjHtFU14Q/A9b4IqxpjKux8qyaOZeV\n",
       "BsAfYrWNSsxJslkbtuPYyfUix+Bs8xwhDOI9CARHnQSpGqx5pVMhK3H0IVbkm5SYxpcMh8lcx2o8\n",
       "pRTPvbGacrc11jG3wg5VY83TzFuy0lWs3LfAOj+cteGw9OqxckFiupZECLTwQ0tYfmEdtHaoHqvN\n",
       "ErZbslKaw4VLjPqcqjJlwyDqsXLCnL2TtNdgfc+vSrISVVYpiYwMw6CSYKOUUKi7Nta31VijE5kb\n",
       "OkKGFWf1+Urh0Nv7lmSltHDZSyViYwo5djTdYSWyHmsqg7z9irfirfWSnjXE2ibgTt8ApFwXOvya\n",
       "g6G/AtaS6kMnWfe61vxXI7RslnxZVmLgUzibsMZOL7eGZ1uOlVR7KwVnQuNf8dYN1h1ZiWuW5Poi\n",
       "1o68lVwIAneHXxNb10FgR1aKjzTmDL1jZfVYcVJtzFe8Vecbz56s5CLAcPClc6zZlqXPdlTOiB3U\n",
       "jS+d6xIsmtXZO7JSkuNCCp6Aym6xznmrEATk2QEozEAq9BWseTmwKysNWik1FjRUECI4FUAEdR5I\n",
       "dydJsirri8+uqngdHgVx8yzWnm6kO8FKn80+b57FOtCN+sCK4NHDIPfOYh3pRp1gZfJJrPdFsz2B\n",
       "oxOsgjzqrbdFs73aphOsFp4/aVcSzW5N2HeD9fiE339ptFEGbMJ96PeHW5tCP+2sjUZge5IqMXl6\n",
       "AL7RjURPPyAYHi4IbLPV0lc1zR7NXHfPYt2IAV0dc390OLtnsZ4L0c0yBv2Y6f2zWDeCWWffrT3o\n",
       "rvtnsS43352eJjX6+TZAd7/PpMT8PFbm+huT8r9OtccfZ378U+LnQ4Dsc1zS/TJVKnv9DwU8/V2q\n",
       "fKH6D4FMNPOoJr5RAAAAAElFTkSuQmCC\n",
       "\" style=\"display:inline;vertical-align:middle;\" /></a></span>"
      ],
      "text/plain": [
       "{theta in Real} |- |1 - e^{2 * pi * i * theta}| = (2 * sin(|0 - (2 * pi * theta)| / 2))"
      ]
     },
     "metadata": {},
     "output_type": "display_data"
    }
   ],
   "source": [
    "Abs(subtract(one, Exp(e, Mult(two, pi, i, theta)))).chord_length_simplification(\n",
    "    assumptions=[InSet(r, RealPos), InSet(theta, Real)], auto_simplify=False)"
   ]
  },
  {
   "cell_type": "markdown",
   "metadata": {},
   "source": [
    "### Deducing bounds (including triangle inequality)"
   ]
  },
  {
   "cell_type": "code",
   "execution_count": 5,
   "metadata": {},
   "outputs": [
    {
     "data": {
      "text/html": [
       "<span style=\"font-size:20px;\"><a class=\"ProveItLink\" href=\"../../numbers/number_sets/complex_numbers/__pv_it/theorems/5c9b98ec381ed1eef8437437430dde6add03b8720/expr.ipynb\"><img src=\"data:image/png;base64,iVBORw0KGgoAAAANSUhEUgAAADMAAAAQBAMAAABJt1qBAAAAMFBMVEX///8AAAAAAAAAAAAAAAAA\n",
       "AAAAAAAAAAAAAAAAAAAAAAAAAAAAAAAAAAAAAAAAAAAv3aB7AAAAD3RSTlMAdokyu2YQ3URUqyLN\n",
       "75mYuQMGAAAACXBIWXMAAA7EAAAOxAGVKw4bAAAA5UlEQVQY02NgwAAxV/yPXwkAMxmVDFDlHHYx\n",
       "dIUkgFiubAVoUpsYWJgXABlMDgyfMaT4NhwAMuwbGH5CDHYvr0FIOQAZyxnYvoIEOA4mIHRxpQEN\n",
       "ZPvIwPEDJLAnAclAkzkbgMZ8ZmD8DRI4jbBr7/HvYkCa59eq9RdAAgeQnBGaA6L5HRjyBYA08/Xy\n",
       "8vISqBRLKsjLQPF4kC1sDki6mB+4gaQaGOrAAgXI/nq8BWRgA+c1sIAgslQKI9BErgnpkCDkmQCX\n",
       "2sfAGuABtOPha4gA25I2eMh7M7icn4AUdBwq0ICCAgBvTUGfeJd/4AAAAABJRU5ErkJggg==\n",
       "\" style=\"display:inline;vertical-align:middle;\" /></a> <a class=\"ProveItLink\" href=\"../__pv_it/demonstrations/f743828e43fd2be0aaa59e1ff8e74e82fd1faa3c0/proof.ipynb\" style=\"text-decoration: none\">&nbsp;&#x22A2;&nbsp;&nbsp;</a><a class=\"ProveItLink\" href=\"../__pv_it/theorems/ecab059ba847e91c9f34f5bc390778ec42914bcb0/expr.ipynb\"><img src=\"data:image/png;base64,iVBORw0KGgoAAAANSUhEUgAAAHgAAAAVBAMAAAB/IDdlAAAAMFBMVEX///8AAAAAAAAAAAAAAAAA\n",
       "AAAAAAAAAAAAAAAAAAAAAAAAAAAAAAAAAAAAAAAAAAAv3aB7AAAAD3RSTlMAMnZmzRC73UTvIomZ\n",
       "VKu7zOipAAAACXBIWXMAAA7EAAAOxAGVKw4bAAABVklEQVQ4y2NgIATUC0mVQAI7CMhwTUYS0t6I\n",
       "W7N4ADILIsPxByHPZhCOSzPrG/8AZBZUJgChdhsDvwBOm/UDkFkYHmL8wcB/AcxSKy93IFEzXwFD\n",
       "vAGI0aJKhM2MykoOS+YxiMxZpKcAFIxXYOhvAIWhKzHODmNgKGDwY2Cou8D4CyQowKC/AEizLCBG\n",
       "c2cAgwJDHgNDJgPDZ6Cg/7t3P0GSLEQFGPs3LQaQ5jQGhk9AwW8MrCCKQbIcCBIgmlndQZxyAUzN\n",
       "rNv/H0BoBupk/gqSDCPK5qUMzB+RNP9gYD8AkmQnSvMlBobHSM7+wXATrIBJAZfmACTNQLVZIJ1u\n",
       "EM1vWaF5xReb5v0LGFi/wFhAmW4l7Qa5mU/lfj689vMBA0OMDjSO4jICMDS/m+9nwFAeAGPhzm8M\n",
       "3emYyRMEeAMIZ1ac+ZmbgQLNQZRoViBF83acZdgMACAcev9xEDSvAAAAAElFTkSuQmCC\n",
       "\" style=\"display:inline;vertical-align:middle;\" /></a></span>"
      ],
      "text/plain": [
       "{theta in Real} |- sin(theta) in [-1,1]"
      ]
     },
     "metadata": {},
     "output_type": "display_data"
    }
   ],
   "source": [
    "Sin(theta).deduce_in_interval(assumptions=[InSet(theta, Real)])"
   ]
  },
  {
   "cell_type": "code",
   "execution_count": 6,
   "metadata": {},
   "outputs": [
    {
     "data": {
      "text/html": [
       "<span style=\"font-size:20px;\"><a class=\"ProveItLink\" href=\"../__pv_it/theorems/05c379420f103398b04164edc1436084b56e6e240/expr.ipynb\"><img src=\"data:image/png;base64,iVBORw0KGgoAAAANSUhEUgAAAE4AAAAVBAMAAAAazcUaAAAAMFBMVEX///8AAAAAAAAAAAAAAAAA\n",
       "AAAAAAAAAAAAAAAAAAAAAAAAAAAAAAAAAAAAAAAAAAAv3aB7AAAAD3RSTlMAdokyu2YQ3URUqyLN\n",
       "75mYuQMGAAAACXBIWXMAAA7EAAAOxAGVKw4bAAABRElEQVQoz2NgwATixYRFQEADuxCjkgGGoJLc\n",
       "Bgx1rmwF6Op4JrBVo6tjcmD4jK4unIFBBV2dfQPDTzCb0b28BiroxcAwPwFN3XIGtq8gJsfBBLjg\n",
       "P6D2Cajq2D4ycPwAMffADdBgA6kLALOZ7v////8BUB3jZwbG3yCR0wjN3J+A6gTAbKVO5UBjsNd+\n",
       "rVp/ASRyAE2dAojJPIFxgzDYXn4HhnyQVubr5eXlJVB7ger6IeYxsDAsA6sDKooHuYzNAcnRQPfN\n",
       "h/rDiqEAoq6BoQ4sUICkzoUBohkInjJ8gNjbwHkNLCCIpC6WgeENAxuIzfaN4QdYiGtCOiR6eSYg\n",
       "1LFPYLvMkA/yGWMBwydI+D18DZFlW9KGCNRHUgYM7GUgb0xgWISWhDhU4PEGAdPwJjWEoAJx6tgE\n",
       "iFPHyEBAnTpm/rgBAHFyTMI95JDkAAAAAElFTkSuQmCC\n",
       "\" style=\"display:inline;vertical-align:middle;\" /></a> <a class=\"ProveItLink\" href=\"../__pv_it/demonstrations/b999edd618f75a1db0994d23dccd7d6907481d7e0/proof.ipynb\" style=\"text-decoration: none\">&nbsp;&#x22A2;&nbsp;&nbsp;</a><a class=\"ProveItLink\" href=\"../__pv_it/theorems/e6052ca709dc768f5c0788c0f9468d7c9a61c5260/expr.ipynb\"><img src=\"data:image/png;base64,iVBORw0KGgoAAAANSUhEUgAAAGgAAAAVBAMAAABYjraNAAAAMFBMVEX///8AAAAAAAAAAAAAAAAA\n",
       "AAAAAAAAAAAAAAAAAAAAAAAAAAAAAAAAAAAAAAAAAAAv3aB7AAAAD3RSTlMAMnZmzRC73UTvIomZ\n",
       "VKu7zOipAAAACXBIWXMAAA7EAAAOxAGVKw4bAAABlElEQVQ4y2NgIATUCwkJYAE7cIhwTUYS0t6I\n",
       "oYR70ykYTzwAponjD0INm0E4hiZfhvAFYDbrG3+4JoYAhJptDPwCaJqYCxi4E6A8/QAsDmb8wcB/\n",
       "AcxSKy93gGhie8DA+xWfJr4ChngDEKNFFW4T/wEGxr8omhiVlRyWzGMQmbNITwEoGK/A0N8AChtX\n",
       "hPPigZo+o2gKY2AoYPBjYKi7wPgLJCjAoA/yNMsChKb1GxgYP6Fo6gxgUGDIY2DIZGAAmeb/7t1P\n",
       "kCQLA6qm3yia2L9pMYA0pTEwgEz7xsAKNlSyHAgSoM7bwMCBahPr9v8HEJqAOpjBARWGZBMwIHhR\n",
       "A2IpA/NHJE0/GNgPgCTZkTSxJUBNgmu6xMDwGMl5PxhugmOaSQEpcicw8DhAEwBEE1BNFkiHG0TT\n",
       "W1ZoGvZFSka1DJECrF/AvP0LQCLdStoNcjOfyv18eO3nAwaGGB1oWMdlBMA1xWx6yMBQDuK/m+9n\n",
       "gCXdw0F3OiwZQQBvAO7MgjM/cTOQoSmIHE0KpGjajlFGzAAA1auFC25wkbYAAAAASUVORK5CYII=\n",
       "\" style=\"display:inline;vertical-align:middle;\" /></a></span>"
      ],
      "text/plain": [
       "{theta in [0,pi]} |- sin(theta) in [0,1]"
      ]
     },
     "metadata": {},
     "output_type": "display_data"
    }
   ],
   "source": [
    "Sin(theta).deduce_in_interval(assumptions=[InSet(theta, IntervalCC(zero, pi))])"
   ]
  },
  {
   "cell_type": "code",
   "execution_count": 7,
   "metadata": {},
   "outputs": [
    {
     "data": {
      "text/html": [
       "<span style=\"font-size:20px;\"><a class=\"ProveItLink\" href=\"../__pv_it/theorems/a64190efa401c3d3f39b88812e45a37fd2c386870/expr.ipynb\"><img src=\"data:image/png;base64,iVBORw0KGgoAAAANSUhEUgAAAFIAAAAVBAMAAAAnX6R8AAAAMFBMVEX///8AAAAAAAAAAAAAAAAA\n",
       "AAAAAAAAAAAAAAAAAAAAAAAAAAAAAAAAAAAAAAAAAAAv3aB7AAAAD3RSTlMAdokyu2YQ3URUqyLN\n",
       "75mYuQMGAAAACXBIWXMAAA7EAAAOxAGVKw4bAAABnElEQVQoz42TPUjDQBTH/2nrtbWxrYiDDhJq\n",
       "J6eCm0s7KIIuFQQXP7q5CA0oRlAkk+AgZtJJKiIKLlZwdKiDk0tBqKNacNJBWxQ/wHrvktiEZvCG\n",
       "u/d++d97d+9eAI8R+QcxR08LCcVplhIpNw4rQKKv6GLdNI0w1a1cAGSDrbqYnAN8GdTdykdgCki6\n",
       "WNs9kNbxKRxpVFsTRhkYAwo5l7QCHIO9iUNfWp/CJeCHRzBcyiuwV4Q+yLywY0QVMFJmhee7azQa\n",
       "PPUApDqkb0LXf4fPIlLjSlEYJDb7Jwb5Og356+S0TKhkK4OGqVTI8RtSsYuMPcQyyNNu/62maUvE\n",
       "OnQwrtw2YyKAI1rSJJujE7KMHZMr6UYF60ZDEOXeQl7HuiCqIzuGYe4X1X2hZRcxPVwRpNNWBnja\n",
       "GeAZjDz2DlGaSbQb8+azy3b9fPsUl90gT5eUVNSIVsEenkwBO9wwDT8/B6v2phBcpgwGDoiuODsr\n",
       "ab3mok12HA2qerXnrG0oTRbNeikDVmuyeJOde7a8XVrJwca9/46zFiIV8QuRw1fEQ04wqgAAAABJ\n",
       "RU5ErkJggg==\n",
       "\" style=\"display:inline;vertical-align:middle;\" /></a> <a class=\"ProveItLink\" href=\"../__pv_it/demonstrations/f59100785365a8d9203499800a6ce0bb4083adbc0/proof.ipynb\" style=\"text-decoration: none\">&nbsp;&#x22A2;&nbsp;&nbsp;</a><a class=\"ProveItLink\" href=\"../__pv_it/theorems/b8e5697620e867cf0441fa64e0a74fb7924fbd9b0/expr.ipynb\"><img src=\"data:image/png;base64,iVBORw0KGgoAAAANSUhEUgAAAGsAAAAVBAMAAACzuQ2OAAAAMFBMVEX///8AAAAAAAAAAAAAAAAA\n",
       "AAAAAAAAAAAAAAAAAAAAAAAAAAAAAAAAAAAAAAAAAAAv3aB7AAAAD3RSTlMAMnZmzRC73UTvIomZ\n",
       "VKu7zOipAAAACXBIWXMAAA7EAAAOxAGVKw4bAAABv0lEQVQ4y5WUPyxDURTGv6qrqNLBXC+1KW03\n",
       "kUg0BoOBDsIiaiIM0ibqhUG6GMSAGEQiIk3ttTBYmuhmeZGQmBAhMWiitGlLwr33vdv3J4Ke6d5z\n",
       "zu+e75573gP+tmbLvk52/4NCj9XhTKjH7Rh8vmNLkisNnHUfajtbvIo1fupJDcEJCzYG1CtkRd1M\n",
       "ZQtVDGE96QRtFuXnQC/zaxczYLrZSmhT1PisvMgXW8ACcBv+DWuNIhLkwge1PFcIoJfoUEyYrdMb\n",
       "Sh2gfT/pl6g3ImGTn5USwlvSIAwLmrBxIIoRYFWxVag34EaAN21Y1K8PovmDYpIJWw9DYtrngDfq\n",
       "Hc3lyjwcEphDUbG0CXMUu/iVZ4A89RZB8rw1u7IsL7FVUwKEYpvmauT0K6NjlLEXWJRMi2oUYy25\n",
       "NbfkCPZXA1aCI8PDUYNIFhwwP8Al8GAQWcKNGvdWx4aq6wOyIEaMZs0zZkjFXkhMa6Ai5vaOVSTb\n",
       "iPAuOSsc2/D6Ep69R0/5/rpMEybFzJKnNW1uqFxy4XfDEWfj8Pz+8MOU6NZ4og1XTHiuLB/O79Yv\n",
       "FumasAYhW6oJE09Yh5owJK3/kuXEN0U0gdmKVNGpAAAAAElFTkSuQmCC\n",
       "\" style=\"display:inline;vertical-align:middle;\" /></a></span>"
      ],
      "text/plain": [
       "{theta in (0,pi)} |- sin(theta) in (0,1]"
      ]
     },
     "metadata": {},
     "output_type": "display_data"
    }
   ],
   "source": [
    "Sin(theta).deduce_in_interval(assumptions=[InSet(theta, IntervalOO(zero, pi))])"
   ]
  },
  {
   "cell_type": "code",
   "execution_count": 8,
   "metadata": {},
   "outputs": [
    {
     "data": {
      "text/html": [
       "<span style=\"font-size:20px;\"><a class=\"ProveItLink\" href=\"../__pv_it/theorems/16b606d8365dae683e59ca7a9207aaf7c94fc4820/expr.ipynb\"><img src=\"data:image/png;base64,iVBORw0KGgoAAAANSUhEUgAAAF0AAAAVBAMAAADWVP/xAAAAMFBMVEX///8AAAAAAAAAAAAAAAAA\n",
       "AAAAAAAAAAAAAAAAAAAAAAAAAAAAAAAAAAAAAAAAAAAv3aB7AAAAD3RSTlMAdokyu2YQ3URUqyLN\n",
       "75mYuQMGAAAACXBIWXMAAA7EAAAOxAGVKw4bAAABWElEQVQoz2NgwATixQzYAWO5ATZhDQZcgKkB\n",
       "pEvJgBj1SnIbIOpd2QqIUM8zga0arJ7JgeEzEerDGRhUwOrtGxh+QnzjXl6DW70XA8P8BJD65Qxs\n",
       "X0ECHAcT8Jn/D2jyBKB6to8MHD9AAnsSMN3DdP////8PQCw2kPoAoHrGzwyMv0Eip7G4X6lTOdAY\n",
       "zOL+BFQvAFTP82vV+gsgkQOY6pknMG4QZkCoVwCq53dgyBcAyV0vLy8vgarPKQcBYDSzMCyDqGcD\n",
       "qu8HmQ9UHA9yOZsDtvC0YihA+Hc+yL/5DQx1YIECbOqfMnyAslwYgOaC3NPAeQ0sIIhFPds3BlDY\n",
       "geyPZWB4A4ovrgnpBtAIx1TPWMAAdDfbHyCTfQLbZZB6toevoWYtacNQzzKBYRGQKgdawPZIygCS\n",
       "3mCAQwVXeuBMQE7PhNM/EwNp6hNJVC+AX706zvxb2wAA0eBXZQrlnZYAAAAASUVORK5CYII=\n",
       "\" style=\"display:inline;vertical-align:middle;\" /></a> <a class=\"ProveItLink\" href=\"../__pv_it/demonstrations/a9515a6a1fa56d54a66406d5dcc5e051f4f915290/proof.ipynb\" style=\"text-decoration: none\">&nbsp;&#x22A2;&nbsp;&nbsp;</a><a class=\"ProveItLink\" href=\"../__pv_it/theorems/6693685c18a55e6e0818e77cd2ba01c6a2461ff90/expr.ipynb\"><img src=\"data:image/png;base64,iVBORw0KGgoAAAANSUhEUgAAAHgAAAAVBAMAAAB/IDdlAAAAMFBMVEX///8AAAAAAAAAAAAAAAAA\n",
       "AAAAAAAAAAAAAAAAAAAAAAAAAAAAAAAAAAAAAAAAAAAv3aB7AAAAD3RSTlMAMnZmzRC73UTvIomZ\n",
       "VKu7zOipAAAACXBIWXMAAA7EAAAOxAGVKw4bAAABm0lEQVQ4y6WUv0sCYRjHv5eeSmY6BNEih1FB\n",
       "RvonuFRTejQogaRTv4bQ6abCoSUaCloKoo6oOXNIt5ybpCFoU6KthDRF+0G9jz/wwO4O8Vne957P\n",
       "8+F57733PUAvpuK9AkVkdMjgkSLlvlGXR8XWxJq6bxPLd4ebvCE1mX8NtOVFhOQ2ETu1t7A7VDt7\n",
       "WoWGGKzR7hfiarDnGrNJSfKpyaY8bJVueTiGiJcmuxMane1ZcD+McOMu3+UZRk4vZgWWjgg4SNAe\n",
       "zmktO8LkMiNBIAY/sJPjPgk74JHZaJS15OskuBIjeyIEbAEbQJmlA8VinbARevIXI+bqNEheBUos\n",
       "XQVPA8YkFtGmzC/Qg+RQLDsJC3Xm07/ZjsxMQ4VwULMz2zAbbdgVDO8KuQZzlrBZUzZFqUcGD8Cz\n",
       "Ytk1PDUKBgQ1mbDhEEM+RljtJpnzTfmNj7cP4D/ynQz+gybbWHYwsu9yJ5wnL8564bGeB8IzrW+0\n",
       "si52ycVzvxcS5cOpgtZ9w/5a9/GksIn6l1X1PlvRh7zUjyz0IqdV/2HHf9D9h7rIlXRiAAAAAElF\n",
       "TkSuQmCC\n",
       "\" style=\"display:inline;vertical-align:middle;\" /></a></span>"
      ],
      "text/plain": [
       "{theta in [-pi,0]} |- sin(theta) in [-1,0]"
      ]
     },
     "metadata": {},
     "output_type": "display_data"
    }
   ],
   "source": [
    "Sin(theta).deduce_in_interval(assumptions=[InSet(theta, IntervalCC(Neg(pi), zero))])"
   ]
  },
  {
   "cell_type": "code",
   "execution_count": 9,
   "metadata": {},
   "outputs": [
    {
     "data": {
      "text/html": [
       "<span style=\"font-size:20px;\"><a class=\"ProveItLink\" href=\"../__pv_it/theorems/6754c4ee1fd46e0f8fec11b57e0cbef9713b37700/expr.ipynb\"><img src=\"data:image/png;base64,iVBORw0KGgoAAAANSUhEUgAAAGEAAAAVBAMAAACkm51HAAAAMFBMVEX///8AAAAAAAAAAAAAAAAA\n",
       "AAAAAAAAAAAAAAAAAAAAAAAAAAAAAAAAAAAAAAAAAAAv3aB7AAAAD3RSTlMAdokyu2YQ3URUqyLN\n",
       "75mYuQMGAAAACXBIWXMAAA7EAAAOxAGVKw4bAAABpElEQVQ4y4WTv0vDQBTHv0nTa6KtjTipIKX2\n",
       "Dyi4uZhBEZzi5GStk4vQQIUMisRFcDL/QYuIgot1cnGoi4tLQdDRH+CkQ7Uo/sJ6l58tveAbksf3\n",
       "7vPuvXfvAI71I8pqEfpwJLHlfIVsvltWMtzd2bEaBJ15M8ToXlrlAkmbrAMX1BM1tLrXHrnEApAD\n",
       "CtSbsvDpZjdrbjhOg0vMAZUiUkXgEOSNKfJ50SujziV+aXAbSR3kBfIHU848AAMdhYu37Xb7jnmE\n",
       "ETrEKoQWhG8mXQYl6h392Rmfn3Dv6JUSKuJ1JL+Ojp3Eg1wSdgDEbKE2hJDIQGkgraGkssUb0zTX\n",
       "2FrKog02mZUBCQcuQSixqyLWZNuXWAVE8wMzIrBJGGHlFRtyAyULm45icLJid9P0vGmw0IqBtKVc\n",
       "O8qgv0lSQ4C8gzWSJbEIPANxDX32St6bAr+j1ZAQDND8yY9zNLlyWk/un7xw+9tegzrGTLKxR38m\n",
       "PYQ8jNDQic4i5Zw3JeWe+1b828Updx4KPYr4z5RKPS9tOXidGpcgPbIaHcy1k8hXOwr8AXnYXU5R\n",
       "NUgrAAAAAElFTkSuQmCC\n",
       "\" style=\"display:inline;vertical-align:middle;\" /></a> <a class=\"ProveItLink\" href=\"../__pv_it/demonstrations/bbe8488cbec98099a614363b4bdcc0849841eb3e0/proof.ipynb\" style=\"text-decoration: none\">&nbsp;&#x22A2;&nbsp;&nbsp;</a><a class=\"ProveItLink\" href=\"../__pv_it/theorems/0c39817fd10126185d63ae1b80a7594710d83efb0/expr.ipynb\"><img src=\"data:image/png;base64,iVBORw0KGgoAAAANSUhEUgAAAHsAAAAVBAMAAACUF4xmAAAAMFBMVEX///8AAAAAAAAAAAAAAAAA\n",
       "AAAAAAAAAAAAAAAAAAAAAAAAAAAAAAAAAAAAAAAAAAAv3aB7AAAAD3RSTlMAMnZmzRC73UTvIomZ\n",
       "VKu7zOipAAAACXBIWXMAAA7EAAAOxAGVKw4bAAABxklEQVQ4y52UO0gDQRCG/7tkPU3Mo7Cx0SOi\n",
       "hYaYTgTBNNqpV4g2kqTyVUhSyIGFBLERCxUrQSSIYhsbLWwCprM5BAUrI8HCQvFNooLuXi4PjHuG\n",
       "TLOzO//H7uzMLvCfiaqbE4mjCrPHeJElY7Rtli12HfJxYb7gnXjjEP15v/6rpKjzj3PxYOrN8Kwa\n",
       "WQAGjJlSUh/B5ebuLhbwHiZEX0U+QhYuTfc6VDXAxeeAawUNym/cGUFIT2m53Wx3mm2rBqsfQpsn\n",
       "sLeDpu1dn0zXQzLWmN42YHZ4wnA/7GmMAREMA4ua8EED3W50s3pa42a47ZPiMiwBrCiQWSozwAsN\n",
       "jDw85PSrxb94Ao51SO+d+k1MAs808A7CBjSr1MIGPsomarTs8BRfkyE8ghx/J0s4ZS26ZMy8cDT3\n",
       "aw3169iH5akMz0JKsrhkjlN1vwJHBOdApuzwWVzpxRRlHk6Y0wukAEuYqWcZO5jH70k0rxz6C7fT\n",
       "4oRYM0ka2QAaE1j1dMVatm5bcjeXuTQw4TUqFpxWKnDn3WsGEns25MxHW1uK8R/q6lRl0+p2UfQO\n",
       "annviaJ3WgNOipdqC9eAi6WvoZrfys7962i7/gDEGYKi4W5GmAAAAABJRU5ErkJggg==\n",
       "\" style=\"display:inline;vertical-align:middle;\" /></a></span>"
      ],
      "text/plain": [
       "{theta in (-pi,0)} |- sin(theta) in [-1,0)"
      ]
     },
     "metadata": {},
     "output_type": "display_data"
    }
   ],
   "source": [
    "Sin(theta).deduce_in_interval(assumptions=[InSet(theta, IntervalOO(Neg(pi), zero))])"
   ]
  },
  {
   "cell_type": "code",
   "execution_count": 10,
   "metadata": {},
   "outputs": [
    {
     "data": {
      "text/html": [
       "<span style=\"font-size:20px;\"><a class=\"ProveItLink\" href=\"../../numbers/number_sets/complex_numbers/__pv_it/theorems/5c9b98ec381ed1eef8437437430dde6add03b8720/expr.ipynb\"><img src=\"data:image/png;base64,iVBORw0KGgoAAAANSUhEUgAAADMAAAAQBAMAAABJt1qBAAAAMFBMVEX///8AAAAAAAAAAAAAAAAA\n",
       "AAAAAAAAAAAAAAAAAAAAAAAAAAAAAAAAAAAAAAAAAAAv3aB7AAAAD3RSTlMAdokyu2YQ3URUqyLN\n",
       "75mYuQMGAAAACXBIWXMAAA7EAAAOxAGVKw4bAAAA5UlEQVQY02NgwAAxV/yPXwkAMxmVDFDlHHYx\n",
       "dIUkgFiubAVoUpsYWJgXABlMDgyfMaT4NhwAMuwbGH5CDHYvr0FIOQAZyxnYvoIEOA4mIHRxpQEN\n",
       "ZPvIwPEDJLAnAclAkzkbgMZ8ZmD8DRI4jbBr7/HvYkCa59eq9RdAAgeQnBGaA6L5HRjyBYA08/Xy\n",
       "8vISqBRLKsjLQPF4kC1sDki6mB+4gaQaGOrAAgXI/nq8BWRgA+c1sIAgslQKI9BErgnpkCDkmQCX\n",
       "2sfAGuABtOPha4gA25I2eMh7M7icn4AUdBwq0ICCAgBvTUGfeJd/4AAAAABJRU5ErkJggg==\n",
       "\" style=\"display:inline;vertical-align:middle;\" /></a>, <a class=\"ProveItLink\" href=\"../__pv_it/theorems/85358d9f41c4d14a0e033f7f6dff0b354437b7c60/expr.ipynb\"><img src=\"data:image/png;base64,iVBORw0KGgoAAAANSUhEUgAAAD8AAAAlBAMAAAAHPCwRAAAAMFBMVEX///8AAAAAAAAAAAAAAAAA\n",
       "AAAAAAAAAAAAAAAAAAAAAAAAAAAAAAAAAAAAAAAAAAAv3aB7AAAAD3RSTlMAIolEdjK7ZhDdVKvN\n",
       "75nu1kSYAAAACXBIWXMAAA7EAAAOxAGVKw4bAAABOUlEQVQ4y2NgwAl0/////w+3NAOT8qJw1wA8\n",
       "CqIYHFnwyQNBAncDXnnWDZz4DeAr4MevoL+B3wBICUC5AhgKPBn4FYCUMpSrjKEgi4EbpoBFKQCL\n",
       "AiSd6RwTkBWsEUBTwJTA8BVJQeULdBPiDRh+IRR4amBYsZOB4ztMAYemA4YbOL4wMH+GKuB4WYDp\n",
       "SJavDCwfIQo49izA4gue37v3X4CagFUBfwJDvwNUASPCiv9g8AEoAZStb8DnyH4DhnkM+LzJb8B1\n",
       "gwFfQHEv6AxAiaw1AWjh8OQh1thEi2ZMBYzvjgXgVSDGwPQZXQHHTDCAuGEjA8NdvCbcb2DYD0wZ\n",
       "rlCuK4aCnQwM+wnkHIb5BORZvxBQwLmBgIJnBOTZCRmwiIFRAK8TFRhY8OZ/yXfvXuIPhP///zAw\n",
       "AADq/FI3Yx9nMAAAAABJRU5ErkJggg==\n",
       "\" style=\"display:inline;vertical-align:middle;\" /></a> <a class=\"ProveItLink\" href=\"../__pv_it/demonstrations/120632c84a47c01828792bf52bfc80315211c1960/proof.ipynb\" style=\"text-decoration: none\">&nbsp;&#x22A2;&nbsp;&nbsp;</a><a class=\"ProveItLink\" href=\"../__pv_it/theorems/0777aa52142bd49f44a9a4c1db88e444df06bf370/expr.ipynb\"><img src=\"data:image/png;base64,iVBORw0KGgoAAAANSUhEUgAAAIEAAAAtBAMAAAB7UBX2AAAAMFBMVEX///8AAAAAAAAAAAAAAAAA\n",
       "AAAAAAAAAAAAAAAAAAAAAAAAAAAAAAAAAAAAAAAAAAAv3aB7AAAAD3RSTlMAMnZmzRC73UTvIomZ\n",
       "VKu7zOipAAAACXBIWXMAAA7EAAAOxAGVKw4bAAACIUlEQVRIx83VP0gbURwH8O9deioJ9a7gnEYd\n",
       "ClU0uDi2k2N7Q2kWIYJUaIcSpy6iN7hIKRVKB6HUIP2z1qF1cAkttiAZDpGCuFhKECxNTPzDRVvT\n",
       "d33V/J4kns9Hxd+QR/K797n3u/u9F+BMET42ykfEEcfT3TbbZwmCPm/JCW8Q8QRh0EjJCRvAFBUi\n",
       "AyjKCdM2CmkiXHXwW05YBwoWEdZhbMkJLMZIFUYJTZ6soJWIoBeh78kKjWtEuHSQL0zKCp/9D2Ob\n",
       "C+YAkjFJIcSXMMIFNv2GLSmsIkzeZtLxLSlBewfdrgqmc/l5TaH+pnubzX4hT7LZTVg1hfqbbqxS\n",
       "2ab98HGRXBZ+Jgods0EFHr9R0y8h1RBP/EvdiZ/2fLCF1AeYFk8ZczHpE4b9pHkw3cPUtfdnEJpT\n",
       "SMaPUr01Cd2qjlp7281XL9HyYqYrxgXWbU+dKr68GNAod4EUbgGjrrbHhW4L3WmyvPHcycKEjRge\n",
       "AveBLS7czufLtMDxewFbdvc6fGEIKHFhF+z0IFVsBFRhzFUygsCmh3aqQu8CH81K7djEa4SKouCh\n",
       "MYOAt0ljCfguVuFh5XDj1+0oGuzqB/70viPhpzGMoK6m8bitw4lO5aLlb1/La39n9nemIX2MK/6l\n",
       "/lch8ciP4XNeA910Fzgi06yZMyrC/JPZnisqgObq6VbFMhqQUxSi7FRTi0/YVAOMHXhqgp7CvuKD\n",
       "dPGDfP0DEnrHJvHL7O0AAAAASUVORK5CYII=\n",
       "\" style=\"display:inline;vertical-align:middle;\" /></a></span>"
      ],
      "text/plain": [
       "{theta in Real, |theta| <= (pi / 2)} |- sin(|theta|) >= ((2 * |theta|) / pi)"
      ]
     },
     "metadata": {},
     "output_type": "display_data"
    }
   ],
   "source": [
    "Sin(Abs(theta)).deduce_linear_bound(assumptions=[InSet(theta, Real), LessEq(Abs(theta), Div(pi, two))])"
   ]
  },
  {
   "cell_type": "code",
   "execution_count": 11,
   "metadata": {},
   "outputs": [
    {
     "data": {
      "text/html": [
       "<span style=\"font-size:20px;\"><a class=\"ProveItLink\" href=\"../__pv_it/demonstrations/e6b70d495f8afdad31e7730973d3895699c64e380/expr.ipynb\"><img src=\"data:image/png;base64,iVBORw0KGgoAAAANSUhEUgAAAD8AAAATBAMAAADVH8ihAAAAMFBMVEX///8AAAAAAAAAAAAAAAAA\n",
       "AAAAAAAAAAAAAAAAAAAAAAAAAAAAAAAAAAAAAAAAAAAv3aB7AAAAD3RSTlMAdokyu2YQ3URUqyLN\n",
       "75mYuQMGAAAACXBIWXMAAA7EAAAOxAGVKw4bAAAA90lEQVQoz2NgwAP4GAgAFjIVxFzxP34lAEkB\n",
       "o5IBqgqHXQxdIQkIBa5sBWgKNjGwMC9geOLi6+ICNInJgeEzhgK+DQfgJtg3MPyESIiUlx+AK3CA\n",
       "K1jOwPYVzOgRQ5jAlbYApoDtIwPHDxCD+xiSFSZzNsAUMH5mYPwNYvBsgCvYe/y7GDwkeX6tWn8B\n",
       "zEByZGgOwsn8Dgz5AiCGbTkQOEAUsKQGwBUAZeNBgcKQgmQC8wM3hIIGhjowgx05HB5vQVjRwHkN\n",
       "EuICSApSGOF2cE1Ih0bFSbiCfQysAR4wHtvD11BWlkcCLDa9GVzOT8CM5yZ3SFCjAAAyfENlIMyr\n",
       "qgAAAABJRU5ErkJggg==\n",
       "\" style=\"display:inline;vertical-align:middle;\" /></a>, <a class=\"ProveItLink\" href=\"../__pv_it/theorems/0f6192035169065ce7d1f3c0fb342c011fc928f30/expr.ipynb\"><img src=\"data:image/png;base64,iVBORw0KGgoAAAANSUhEUgAAADUAAAAlBAMAAAAQHrzYAAAAMFBMVEX///8AAAAAAAAAAAAAAAAA\n",
       "AAAAAAAAAAAAAAAAAAAAAAAAAAAAAAAAAAAAAAAAAAAv3aB7AAAAD3RSTlMAdokyu2YQ3URUqyLN\n",
       "75mYuQMGAAAACXBIWXMAAA7EAAAOxAGVKw4bAAABFklEQVQ4y2NgwAZ0/////w+rDAOTxiRTYQPs\n",
       "cpYM0ow4pIDAgSsBlxTzAnac2vgC+HHK5SfwN+CSE2fgV8Al58nABZFjVMLtXle2Ajh7zgbUQHBg\n",
       "+Axjhz9D1WbfwPAT5gQ1NCOXM7B9BTPY1AXQpNg+MnD8ADOeB6C7hPEzA+NvkNSaCRiu5Pm1av0F\n",
       "EAOLHL8DQz7YHm6Emf/B4ANIIj4Bh1vyGxjqGHD4gb+B8xoDDr9zTUhHCs45KEHL9vA1A2lg3xtn\n",
       "XFLcDgz6SBHPVg4GEPu4NjDwXsChj/cbA9dvHHJcBQxcn3G7hv0Dbjl7AdxyVbil+Bxwy0XhluJU\n",
       "YNiNS86IgUEMV5jVvXtXgMtzwCRxgAEAENFE7p+66UIAAAAASUVORK5CYII=\n",
       "\" style=\"display:inline;vertical-align:middle;\" /></a> <a class=\"ProveItLink\" href=\"../__pv_it/demonstrations/17ead11ae3d19ad79330a76b45016bf671e6b3d90/proof.ipynb\" style=\"text-decoration: none\">&nbsp;&#x22A2;&nbsp;&nbsp;</a><a class=\"ProveItLink\" href=\"../__pv_it/theorems/d7050b2d9bd680763cc2dc50e8028b1d003983160/expr.ipynb\"><img src=\"data:image/png;base64,iVBORw0KGgoAAAANSUhEUgAAAGkAAAArBAMAAACJPLtuAAAAMFBMVEX///8AAAAAAAAAAAAAAAAA\n",
       "AAAAAAAAAAAAAAAAAAAAAAAAAAAAAAAAAAAAAAAAAAAv3aB7AAAAD3RSTlMAMnZmzRC73UTvIomZ\n",
       "VKu7zOipAAAACXBIWXMAAA7EAAAOxAGVKw4bAAABrklEQVRIx92TPUgCYRjH/6echkIaNMtlQ5CR\n",
       "0uLa5Fg3RC6BU0ENoVNLlINLRDQ0CZESfaw5lEOLEBWEg4QE0WKEBEZql8pZweUh98HJ6XtO0X94\n",
       "73ngfnfPve/vgN6xZQNOVetJgSQnsPNKZ/EFiagSEFe6CzicJFSCRSUpNRQPR46EegUq8uMHwwj5\n",
       "QJZNuQox2I2SQRQnl14nvEkyylqQy9lyuUk44I240DVxbYDmyCBz+1XrIsrBXCejnmCTPoXmYc2Q\n",
       "7cUZTKzU8HhkiajTbPZWbt7pCOFhCUJNbhYmpGFte8aVBgZ+OpSeI7CG7VCaTjMgj6L02Dk5pVLa\n",
       "3wWjRt3TRwcY3j+cZDRK5+90qXkgjBlgI0d9aZWOFfWoLRYMVoFl4FOrdGxR9ydojEOklgBOo3S+\n",
       "pDshnRYyCqVW2n/dvjoEbao4hvlDRSlKd935e+BFNaGkdI9Tbt20IiKBNiUp3cOobbcn6ooXXc3n\n",
       "h2ZBrfRfT3BNTAT/P/ZEy6WMUepyJzU1ZBSicqbkSB8jWlDsg3K1fnrjuULVOETXwRunTGF897EZ\n",
       "ObxJ9S84lJd4b3IJKwAAAABJRU5ErkJggg==\n",
       "\" style=\"display:inline;vertical-align:middle;\" /></a></span>"
      ],
      "text/plain": [
       "{theta in RealPos, theta <= (pi / 2)} |- sin(theta) >= ((2 * theta) / pi)"
      ]
     },
     "metadata": {},
     "output_type": "display_data"
    }
   ],
   "source": [
    "Sin(theta).deduce_linear_bound(assumptions=[InSet(theta, RealPos), LessEq(theta, Div(pi, two))])"
   ]
  },
  {
   "cell_type": "code",
   "execution_count": 12,
   "metadata": {},
   "outputs": [
    {
     "data": {
      "text/html": [
       "<span style=\"font-size:20px;\"><a class=\"ProveItLink\" href=\"../__pv_it/theorems/6c480b5b7b83da4785d9ba6b852ad31bb3f5ebd40/expr.ipynb\"><img src=\"data:image/png;base64,iVBORw0KGgoAAAANSUhEUgAAAEgAAAAUBAMAAADcj2b4AAAAMFBMVEX///8AAAAAAAAAAAAAAAAA\n",
       "AAAAAAAAAAAAAAAAAAAAAAAAAAAAAAAAAAAAAAAAAAAv3aB7AAAAD3RSTlMAdokyu2YQ3URUqyLN\n",
       "75mYuQMGAAAACXBIWXMAAA7EAAAOxAGVKw4bAAABRElEQVQoz2NgwAlMGsCUkhADHsCmMgFIsgpw\n",
       "OOBTxSASwMDAa8DwG68ihhABhv0JDDexyMRc8T9+JQDCjt1gn8BQCmQwKhmgqnLYxdAVkgBiJXkw\n",
       "ABVdBLJc2QrQFG1iYGFeAGTsW8wAsu4nAwOTA8NnDEV8Gw4wMOwCqoE63L4BpBRkrXt5DUKRA0PW\n",
       "a7CoAAfQ0OUMbF9BPI6DCQiTuNIWMKRBeEpyCQxsHxk4foA4exKQrDOZswHZAYyfGRjBoXUa4aa9\n",
       "x7+LobiS59eq9RdAjANIDg/NAcWdCxBADOR3YMgXANLM18vLy0ugilhSA1BMAqqIB7mGzQHJJOYH\n",
       "bqiKGhjqwIwC5HB6vAVFEX8D5zUwQxBZUQojin1cE9IhUcczAa5oHwNrgAdK0nr4GspY0gZPBd4M\n",
       "LucnYE08HCrQaMEAALS2VuddS9LWAAAAAElFTkSuQmCC\n",
       "\" style=\"display:inline;vertical-align:middle;\" /></a>, <a class=\"ProveItLink\" href=\"../__pv_it/theorems/0f6192035169065ce7d1f3c0fb342c011fc928f30/expr.ipynb\"><img src=\"data:image/png;base64,iVBORw0KGgoAAAANSUhEUgAAADUAAAAlBAMAAAAQHrzYAAAAMFBMVEX///8AAAAAAAAAAAAAAAAA\n",
       "AAAAAAAAAAAAAAAAAAAAAAAAAAAAAAAAAAAAAAAAAAAv3aB7AAAAD3RSTlMAdokyu2YQ3URUqyLN\n",
       "75mYuQMGAAAACXBIWXMAAA7EAAAOxAGVKw4bAAABFklEQVQ4y2NgwAZ0/////w+rDAOTxiRTYQPs\n",
       "cpYM0ow4pIDAgSsBlxTzAnac2vgC+HHK5SfwN+CSE2fgV8Al58nABZFjVMLtXle2Ajh7zgbUQHBg\n",
       "+Axjhz9D1WbfwPAT5gQ1NCOXM7B9BTPY1AXQpNg+MnD8ADOeB6C7hPEzA+NvkNSaCRiu5Pm1av0F\n",
       "EAOLHL8DQz7YHm6Emf/B4ANIIj4Bh1vyGxjqGHD4gb+B8xoDDr9zTUhHCs45KEHL9vA1A2lg3xtn\n",
       "XFLcDgz6SBHPVg4GEPu4NjDwXsChj/cbA9dvHHJcBQxcn3G7hv0Dbjl7AdxyVbil+Bxwy0XhluJU\n",
       "YNiNS86IgUEMV5jVvXtXgMtzwCRxgAEAENFE7p+66UIAAAAASUVORK5CYII=\n",
       "\" style=\"display:inline;vertical-align:middle;\" /></a> <a class=\"ProveItLink\" href=\"../__pv_it/demonstrations/752e0140715163a70b1b16014e780907da8fb46e0/proof.ipynb\" style=\"text-decoration: none\">&nbsp;&#x22A2;&nbsp;&nbsp;</a><a class=\"ProveItLink\" href=\"../__pv_it/theorems/d7050b2d9bd680763cc2dc50e8028b1d003983160/expr.ipynb\"><img src=\"data:image/png;base64,iVBORw0KGgoAAAANSUhEUgAAAGkAAAArBAMAAACJPLtuAAAAMFBMVEX///8AAAAAAAAAAAAAAAAA\n",
       "AAAAAAAAAAAAAAAAAAAAAAAAAAAAAAAAAAAAAAAAAAAv3aB7AAAAD3RSTlMAMnZmzRC73UTvIomZ\n",
       "VKu7zOipAAAACXBIWXMAAA7EAAAOxAGVKw4bAAABrklEQVRIx92TPUgCYRjH/6echkIaNMtlQ5CR\n",
       "0uLa5Fg3RC6BU0ENoVNLlINLRDQ0CZESfaw5lEOLEBWEg4QE0WKEBEZql8pZweUh98HJ6XtO0X94\n",
       "73ngfnfPve/vgN6xZQNOVetJgSQnsPNKZ/EFiagSEFe6CzicJFSCRSUpNRQPR46EegUq8uMHwwj5\n",
       "QJZNuQox2I2SQRQnl14nvEkyylqQy9lyuUk44I240DVxbYDmyCBz+1XrIsrBXCejnmCTPoXmYc2Q\n",
       "7cUZTKzU8HhkiajTbPZWbt7pCOFhCUJNbhYmpGFte8aVBgZ+OpSeI7CG7VCaTjMgj6L02Dk5pVLa\n",
       "3wWjRt3TRwcY3j+cZDRK5+90qXkgjBlgI0d9aZWOFfWoLRYMVoFl4FOrdGxR9ydojEOklgBOo3S+\n",
       "pDshnRYyCqVW2n/dvjoEbao4hvlDRSlKd935e+BFNaGkdI9Tbt20IiKBNiUp3cOobbcn6ooXXc3n\n",
       "h2ZBrfRfT3BNTAT/P/ZEy6WMUepyJzU1ZBSicqbkSB8jWlDsg3K1fnrjuULVOETXwRunTGF897EZ\n",
       "ObxJ9S84lJd4b3IJKwAAAABJRU5ErkJggg==\n",
       "\" style=\"display:inline;vertical-align:middle;\" /></a></span>"
      ],
      "text/plain": [
       "{theta in RealNonNeg, theta <= (pi / 2)} |- sin(theta) >= ((2 * theta) / pi)"
      ]
     },
     "metadata": {},
     "output_type": "display_data"
    }
   ],
   "source": [
    "Sin(theta).deduce_linear_bound(assumptions=[InSet(theta, RealNonNeg), LessEq(theta, Div(pi, two))])"
   ]
  },
  {
   "cell_type": "code",
   "execution_count": 13,
   "metadata": {},
   "outputs": [
    {
     "data": {
      "text/html": [
       "<span style=\"font-size:20px;\"><a class=\"ProveItLink\" href=\"../__pv_it/demonstrations/d2d231224210848a5c4386b97ba5bc9be9ee555a0/expr.ipynb\"><img src=\"data:image/png;base64,iVBORw0KGgoAAAANSUhEUgAAAD8AAAAQBAMAAABTi7oPAAAAMFBMVEX///8AAAAAAAAAAAAAAAAA\n",
       "AAAAAAAAAAAAAAAAAAAAAAAAAAAAAAAAAAAAAAAAAAAv3aB7AAAAD3RSTlMAdokyu2YQ3URUqyLN\n",
       "75mYuQMGAAAACXBIWXMAAA7EAAAOxAGVKw4bAAAA7UlEQVQoz2NgwAAxV/yPXwlAEmBUMkBV4bCL\n",
       "oSskAcF3ZStAU7CJgYV5AYOJCxBsYGBgcmD4jKGAb8MBONe+geEnxCr38hqEAge4guUMbF9BNMfB\n",
       "BIQJXGkLYPJsHxk4foAYexKQrDCZswHuh88MjL9BjNMIN+w9/l0MzuP5tWr9BRDjAJIjQ3MQTuZ3\n",
       "YMgXANLM18vLy0ugClhSEQEFlI0H2c7mgGQC8wM3hIIGhjowowA5HB5vQVjRwHkNzBBEVpDCCLeD\n",
       "a0I6JCp4JsAV7GNgDfCAh8PD11DGkjZ4bHozuJyfgBHNHCrQoEYBAKaxQ5P9Q/U4AAAAAElFTkSu\n",
       "QmCC\n",
       "\" style=\"display:inline;vertical-align:middle;\" /></a>, <a class=\"ProveItLink\" href=\"../__pv_it/demonstrations/33676741ebe0e97f8c10d86ac4d974ec77ad76de0/expr.ipynb\"><img src=\"data:image/png;base64,iVBORw0KGgoAAAANSUhEUgAAAFQAAAAlBAMAAAAuO9OWAAAAMFBMVEX///8AAAAAAAAAAAAAAAAA\n",
       "AAAAAAAAAAAAAAAAAAAAAAAAAAAAAAAAAAAAAAAAAAAv3aB7AAAAD3RSTlMAInZUiRDNmWbv3US7\n",
       "qzJazP2FAAAACXBIWXMAAA7EAAAOxAGVKw4bAAABlklEQVQ4y2NgIAKwzP///38BMSoZXDb7Nb0j\n",
       "SiWfAZOAHgORgIfhKrFK3zIsIFZpBcMHIlWyfmX4DWYIoAgzYlHKtIDhC5g2QBHmVsDiKwOGKyDa\n",
       "BFm7ywMGDdzuSEDinGBdwMAWgEspewNSBB5g+MfAgTMGOZHY7zcwfGZgmIoQMEPxshkS+xYD6w8G\n",
       "hgw4v6sUxdQSJGd/YuAGhp8vjK/liuqADCT//2Ng+sjA0AbV6IUebIsRTLa/d+9PYGCwhERFVQO6\n",
       "t2YD9WetAoEH/AcY4oEmvQeLX0PEDP9/MAAphQGgun5goO5EV4rFAfEbGJYDKStcDjiEYPJvYAaF\n",
       "aQ8ub/kimLwGUQ+Qgo9VSxVV6SukcC0qBFGrEVGAGrBcD9CsYUTKG23QiBUvOwckMVIHO4Z3GBgP\n",
       "MPhvANIH0cRlMJMUrwADJzBuGGLQxA9iSX1fGXg/gkxHDRMmASymLmDg/Uds7mbg+kC00vcKRCtd\n",
       "S7RK9gNEK+0lWiWzA4MgkUqfMDCoEqeScXl5OZGlJhcwuyQwAAChUF+rvyVZDwAAAABJRU5ErkJg\n",
       "gg==\n",
       "\" style=\"display:inline;vertical-align:middle;\" /></a> <a class=\"ProveItLink\" href=\"../__pv_it/demonstrations/bbe9f3aafef0e7dc002bdf61d44b82c6015e6cd60/proof.ipynb\" style=\"text-decoration: none\">&nbsp;&#x22A2;&nbsp;&nbsp;</a><a class=\"ProveItLink\" href=\"../__pv_it/theorems/25b9cc4bcfbb5b2ff6289ab7dcc5b9de119c74a40/expr.ipynb\"><img src=\"data:image/png;base64,iVBORw0KGgoAAAANSUhEUgAAAGkAAAArBAMAAACJPLtuAAAAMFBMVEX///8AAAAAAAAAAAAAAAAA\n",
       "AAAAAAAAAAAAAAAAAAAAAAAAAAAAAAAAAAAAAAAAAAAv3aB7AAAAD3RSTlMAMnZmzRC73UTvIomZ\n",
       "VKu7zOipAAAACXBIWXMAAA7EAAAOxAGVKw4bAAABsElEQVRIx92Tv0sCYRjHv3dyGoo/gmYx2zJS\n",
       "+gtqcQiqm3JIcgtqCK2hISnXiGhoEiIl+rE05FJDixDU4nA0BNFihARFapfKWcHlIXe+hV3vOUXf\n",
       "4eV54D7v+9x7nwN+jzUXdBGtLwOaHMAmtTpzIERFPQLJVncCp4uGSvEopdWGkeAUaKgHoKRt74gi\n",
       "EgBdVrUq4sFmgg5iRK30u+BP01GWvFZOFIt1ygEvlIWrKGsNnEgHmZpHxRVUhKlKR93Cqr4KJ8GS\n",
       "pbuLY7C82ki44amow1zuUmueuRjlx5LlitaEB9RhrVvGlQa6PtorbR/Vxfi2SpviPOWxhNLsMi1E\n",
       "KD21oLd5n3d4bwc927uDHlLp8KLe5pNAFOPAisC8EUpPj+mOtMbDg3lgFngllHboU5ZaPxRqBhBJ\n",
       "pY90J+RO5WyLIpTWbsMpf08Z+zC9EBShtN7NXwH3xISk0jpfufHQnIIEm9QXpe0jP1HrXl/CnSy4\n",
       "63fX9Typ9F9PaElJDP8/tlTDpaxR6mwjM9RtFGIENt3bwYhmFDqg3I2f3njOUTYOcVVIxik2ivcO\n",
       "LkPAk1p/AlpFk9UNyfbMAAAAAElFTkSuQmCC\n",
       "\" style=\"display:inline;vertical-align:middle;\" /></a></span>"
      ],
      "text/plain": [
       "{theta in RealNeg, (-theta) < (pi / 2)} |- sin(theta) <= ((2 * theta) / pi)"
      ]
     },
     "metadata": {},
     "output_type": "display_data"
    }
   ],
   "source": [
    "Sin(theta).deduce_linear_bound(assumptions=[InSet(theta, RealNeg), Less(Neg(theta), Div(pi, two))])"
   ]
  },
  {
   "cell_type": "markdown",
   "metadata": {},
   "source": [
    "#### Deducing lower bounds: distinguishing between $\\sin{\\theta} > \\theta$ vs. $\\sin{\\theta} > \\frac{2}{\\pi}\\theta$ depending on domain"
   ]
  },
  {
   "cell_type": "code",
   "execution_count": 14,
   "metadata": {},
   "outputs": [
    {
     "data": {
      "text/html": [
       "<span style=\"font-size:20px;\"><a class=\"ProveItLink\" href=\"../__pv_it/demonstrations/d2d231224210848a5c4386b97ba5bc9be9ee555a0/expr.ipynb\"><img src=\"data:image/png;base64,iVBORw0KGgoAAAANSUhEUgAAAD8AAAAQBAMAAABTi7oPAAAAMFBMVEX///8AAAAAAAAAAAAAAAAA\n",
       "AAAAAAAAAAAAAAAAAAAAAAAAAAAAAAAAAAAAAAAAAAAv3aB7AAAAD3RSTlMAdokyu2YQ3URUqyLN\n",
       "75mYuQMGAAAACXBIWXMAAA7EAAAOxAGVKw4bAAAA7UlEQVQoz2NgwAAxV/yPXwlAEmBUMkBV4bCL\n",
       "oSskAcF3ZStAU7CJgYV5AYOJCxBsYGBgcmD4jKGAb8MBONe+geEnxCr38hqEAge4guUMbF9BNMfB\n",
       "BIQJXGkLYPJsHxk4foAYexKQrDCZswHuh88MjL9BjNMIN+w9/l0MzuP5tWr9BRDjAJIjQ3MQTuZ3\n",
       "YMgXANLM18vLy0ugClhSEQEFlI0H2c7mgGQC8wM3hIIGhjowowA5HB5vQVjRwHkNzBBEVpDCCLeD\n",
       "a0I6JCp4JsAV7GNgDfCAh8PD11DGkjZ4bHozuJyfgBHNHCrQoEYBAKaxQ5P9Q/U4AAAAAElFTkSu\n",
       "QmCC\n",
       "\" style=\"display:inline;vertical-align:middle;\" /></a> <a class=\"ProveItLink\" href=\"../__pv_it/demonstrations/a9cecd686846a027f22164222a2e2bb00b9af84d0/proof.ipynb\" style=\"text-decoration: none\">&nbsp;&#x22A2;&nbsp;&nbsp;</a><a class=\"ProveItLink\" href=\"../__pv_it/demonstrations/abad5265a05b14279361b7b4498c7ebcaf0c20ce0/expr.ipynb\"><img src=\"data:image/png;base64,iVBORw0KGgoAAAANSUhEUgAAAE0AAAAQBAMAAAChN++qAAAAMFBMVEX///8AAAAAAAAAAAAAAAAA\n",
       "AAAAAAAAAAAAAAAAAAAAAAAAAAAAAAAAAAAAAAAAAAAv3aB7AAAAD3RSTlMAMnZmzRC73UTvIomZ\n",
       "VKu7zOipAAAACXBIWXMAAA7EAAAOxAGVKw4bAAABEUlEQVQoz2NgAAKuyQwIoL2RAR3AhDj+IMTY\n",
       "DMLRlSGEAhCC2xj4BdDUYRFiYPzBwH8BSIcYYAihAL4ChniQEtbtCqhCjMpKDkvmMYjMWaQHkolX\n",
       "YOhvAEurb4WqgwiFMTAUMPgxMNRdYPwFFNQXYNBfAJE3PwqhIUKdAQwKDHkMDJkMDJ+Bgv7v3v2E\n",
       "WXjlFJiCCLF/02IAqUtjYPgEFPzGwPoJ7tiWpwxwIdbt/w8g1AFFmL8i1KUywIWWMjB/RFL3g4H9\n",
       "ANzeVyASKnSJgeExkr0/GG7CAt0c4jyoEBBngRS5QdS9ZS2EKoOHC0SoW0m7QW7mU7mfD6/9fMDA\n",
       "EKMDCRVWdXg4w4SwgnADBrIAAH8VWkLfh66CAAAAAElFTkSuQmCC\n",
       "\" style=\"display:inline;vertical-align:middle;\" /></a></span>"
      ],
      "text/plain": [
       "{theta in RealNeg} |- sin(theta) > theta"
      ]
     },
     "metadata": {},
     "output_type": "display_data"
    }
   ],
   "source": [
    "Sin(theta).deduce_linear_lower_bound(assumptions=[InSet(theta, RealNeg), Less(Neg(theta), Div(pi, two))])"
   ]
  },
  {
   "cell_type": "code",
   "execution_count": 15,
   "metadata": {},
   "outputs": [
    {
     "data": {
      "text/html": [
       "<span style=\"font-size:20px;\"><a class=\"ProveItLink\" href=\"../../numbers/number_sets/complex_numbers/__pv_it/theorems/5c9b98ec381ed1eef8437437430dde6add03b8720/expr.ipynb\"><img src=\"data:image/png;base64,iVBORw0KGgoAAAANSUhEUgAAADMAAAAQBAMAAABJt1qBAAAAMFBMVEX///8AAAAAAAAAAAAAAAAA\n",
       "AAAAAAAAAAAAAAAAAAAAAAAAAAAAAAAAAAAAAAAAAAAv3aB7AAAAD3RSTlMAdokyu2YQ3URUqyLN\n",
       "75mYuQMGAAAACXBIWXMAAA7EAAAOxAGVKw4bAAAA5UlEQVQY02NgwAAxV/yPXwkAMxmVDFDlHHYx\n",
       "dIUkgFiubAVoUpsYWJgXABlMDgyfMaT4NhwAMuwbGH5CDHYvr0FIOQAZyxnYvoIEOA4mIHRxpQEN\n",
       "ZPvIwPEDJLAnAclAkzkbgMZ8ZmD8DRI4jbBr7/HvYkCa59eq9RdAAgeQnBGaA6L5HRjyBYA08/Xy\n",
       "8vISqBRLKsjLQPF4kC1sDki6mB+4gaQaGOrAAgXI/nq8BWRgA+c1sIAgslQKI9BErgnpkCDkmQCX\n",
       "2sfAGuABtOPha4gA25I2eMh7M7icn4AUdBwq0ICCAgBvTUGfeJd/4AAAAABJRU5ErkJggg==\n",
       "\" style=\"display:inline;vertical-align:middle;\" /></a>, <a class=\"ProveItLink\" href=\"../__pv_it/demonstrations/9e5780475f48a40663d3fa66ceb318a12e241e110/expr.ipynb\"><img src=\"data:image/png;base64,iVBORw0KGgoAAAANSUhEUgAAAGIAAAAmBAMAAADNQlNHAAAAMFBMVEX///8AAAAAAAAAAAAAAAAA\n",
       "AAAAAAAAAAAAAAAAAAAAAAAAAAAAAAAAAAAAAAAAAAAv3aB7AAAAD3RSTlMAIolEdjK7ZhDdVKvN\n",
       "75nu1kSYAAAACXBIWXMAAA7EAAAOxAGVKw4bAAABwElEQVQ4y5XVv0uCQRgH8K+hdv7Kt38gRLE1\n",
       "aYwgCQwhSAmaIhSiIFocWiIipyCCtCFIgnjHljCaIhfHaKklaEtaWsQsK1zq7Xzvkvf1Pc274Xjf\n",
       "u/fD3T333HtAl+LWtIy19VVroqu4ML0OPGmaVqEPj/2K4ER4YwESwqHalRhkBODElaRYRF5SvKAu\n",
       "J0gTDS4U3qT0FvY83rkI8aZQb+FUcWkQ0+EuIjjXOTQTzsyeWHhVcigUo/AnhWKz1ScQjgb86p+Y\n",
       "KRTKbbEOFLMC4ckjl+FiMm4c4wdIqQKRi2IqwoTtxjgr0hIZgUgkkVCY8CpGYaM7kIoKxF2p9M1j\n",
       "5YVFBATiC+SDi6UCLen2rKiYYmP4Nb0wQT8fbHKxa44uXUdRsHLSgKvChcssVoEdUXQbOM9yYY+a\n",
       "xDZQBbGKa3LUzsRbk3Cp5AG5skUc6OnGxP5y1iDI82wSrmNrXhmzfXzNkCWsnOn1SHWl7/Oh74gt\n",
       "jbFIn4Lo0fAo8N33Kex67WvC88ZEjHfEep9amuCeT7m/D411XVawNJYRJ5L/RAylZcUWJIU7gGE5\n",
       "MQ/E/xHme9B2Wqvle9+DnZtBzyxL0V/hx6aedDf4SAAAAABJRU5ErkJggg==\n",
       "\" style=\"display:inline;vertical-align:middle;\" /></a> <a class=\"ProveItLink\" href=\"../__pv_it/demonstrations/e8806d2131fdab86bba9786eb9b0b9d705b393ee0/proof.ipynb\" style=\"text-decoration: none\">&nbsp;&#x22A2;&nbsp;&nbsp;</a><a class=\"ProveItLink\" href=\"../__pv_it/theorems/0777aa52142bd49f44a9a4c1db88e444df06bf370/expr.ipynb\"><img src=\"data:image/png;base64,iVBORw0KGgoAAAANSUhEUgAAAIEAAAAtBAMAAAB7UBX2AAAAMFBMVEX///8AAAAAAAAAAAAAAAAA\n",
       "AAAAAAAAAAAAAAAAAAAAAAAAAAAAAAAAAAAAAAAAAAAv3aB7AAAAD3RSTlMAMnZmzRC73UTvIomZ\n",
       "VKu7zOipAAAACXBIWXMAAA7EAAAOxAGVKw4bAAACIUlEQVRIx83VP0gbURwH8O9deioJ9a7gnEYd\n",
       "ClU0uDi2k2N7Q2kWIYJUaIcSpy6iN7hIKRVKB6HUIP2z1qF1cAkttiAZDpGCuFhKECxNTPzDRVvT\n",
       "d33V/J4kns9Hxd+QR/K797n3u/u9F+BMET42ykfEEcfT3TbbZwmCPm/JCW8Q8QRh0EjJCRvAFBUi\n",
       "AyjKCdM2CmkiXHXwW05YBwoWEdZhbMkJLMZIFUYJTZ6soJWIoBeh78kKjWtEuHSQL0zKCp/9D2Ob\n",
       "C+YAkjFJIcSXMMIFNv2GLSmsIkzeZtLxLSlBewfdrgqmc/l5TaH+pnubzX4hT7LZTVg1hfqbbqxS\n",
       "2ab98HGRXBZ+Jgods0EFHr9R0y8h1RBP/EvdiZ/2fLCF1AeYFk8ZczHpE4b9pHkw3cPUtfdnEJpT\n",
       "SMaPUr01Cd2qjlp7281XL9HyYqYrxgXWbU+dKr68GNAod4EUbgGjrrbHhW4L3WmyvPHcycKEjRge\n",
       "AveBLS7czufLtMDxewFbdvc6fGEIKHFhF+z0IFVsBFRhzFUygsCmh3aqQu8CH81K7djEa4SKouCh\n",
       "MYOAt0ljCfguVuFh5XDj1+0oGuzqB/70viPhpzGMoK6m8bitw4lO5aLlb1/La39n9nemIX2MK/6l\n",
       "/lch8ciP4XNeA910Fzgi06yZMyrC/JPZnisqgObq6VbFMhqQUxSi7FRTi0/YVAOMHXhqgp7CvuKD\n",
       "dPGDfP0DEnrHJvHL7O0AAAAASUVORK5CYII=\n",
       "\" style=\"display:inline;vertical-align:middle;\" /></a></span>"
      ],
      "text/plain": [
       "{theta in Real, |theta| in [0,pi / 2]} |- sin(|theta|) >= ((2 * |theta|) / pi)"
      ]
     },
     "metadata": {},
     "output_type": "display_data"
    }
   ],
   "source": [
    "from proveit.numbers import frac\n",
    "Sin(Abs(theta)).deduce_linear_lower_bound(assumptions=[InSet(theta, Real), InSet(Abs(theta), IntervalCC(zero, frac(pi, two)))],\n",
    "        preserve_expr=Sin(Abs(theta)))"
   ]
  },
  {
   "cell_type": "code",
   "execution_count": 16,
   "metadata": {},
   "outputs": [
    {
     "data": {
      "text/html": [
       "<span style=\"font-size:20px;\"><a class=\"ProveItLink\" href=\"../__pv_it/demonstrations/e6b70d495f8afdad31e7730973d3895699c64e380/expr.ipynb\"><img src=\"data:image/png;base64,iVBORw0KGgoAAAANSUhEUgAAAD8AAAATBAMAAADVH8ihAAAAMFBMVEX///8AAAAAAAAAAAAAAAAA\n",
       "AAAAAAAAAAAAAAAAAAAAAAAAAAAAAAAAAAAAAAAAAAAv3aB7AAAAD3RSTlMAdokyu2YQ3URUqyLN\n",
       "75mYuQMGAAAACXBIWXMAAA7EAAAOxAGVKw4bAAAA90lEQVQoz2NgwAP4GAgAFjIVxFzxP34lAEkB\n",
       "o5IBqgqHXQxdIQkIBa5sBWgKNjGwMC9geOLi6+ICNInJgeEzhgK+DQfgJtg3MPyESIiUlx+AK3CA\n",
       "K1jOwPYVzOgRQ5jAlbYApoDtIwPHDxCD+xiSFSZzNsAUMH5mYPwNYvBsgCvYe/y7GDwkeX6tWn8B\n",
       "zEByZGgOwsn8Dgz5AiCGbTkQOEAUsKQGwBUAZeNBgcKQgmQC8wM3hIIGhjowgx05HB5vQVjRwHkN\n",
       "EuICSApSGOF2cE1Ih0bFSbiCfQysAR4wHtvD11BWlkcCLDa9GVzOT8CM5yZ3SFCjAAAyfENlIMyr\n",
       "qgAAAABJRU5ErkJggg==\n",
       "\" style=\"display:inline;vertical-align:middle;\" /></a>, <a class=\"ProveItLink\" href=\"../__pv_it/demonstrations/6adb636f81399867484ed472662735fca592ffdc0/expr.ipynb\"><img src=\"data:image/png;base64,iVBORw0KGgoAAAANSUhEUgAAADUAAAAlBAMAAAAQHrzYAAAAMFBMVEX///8AAAAAAAAAAAAAAAAA\n",
       "AAAAAAAAAAAAAAAAAAAAAAAAAAAAAAAAAAAAAAAAAAAv3aB7AAAAD3RSTlMAdokyu2YQ3URUqyLN\n",
       "75mYuQMGAAAACXBIWXMAAA7EAAAOxAGVKw4bAAABE0lEQVQ4y2NgwAZ0/////w+rDAOTxiRTYQPs\n",
       "cpYM0ow4pIDAgSsBlxTzAnac2vgC+HHK5SfwN+CSE2fgV8Al58nABZFjVMLtXle2AlxSTA4Mn3HJ\n",
       "2Tcw/IRz5mxAkVvOwPYVxg5/hiLF9pGB4wfM6WqoRjJ+ZmD8DVGlLoBmHc+vVesvgBjczwPQncLv\n",
       "wJAPVr9mAlzsPxh8AEnEJ6DJwYO1gaGOAZeZDZzXGHC4hWtCOiw42cTFUOXYHr5GcMLVGHCDGGiY\n",
       "7XvjjEsJtwODPq6I59rAwHsBhxzvNwau37j0FTBwfcbtKvYPuOXsBXDLVeGW4nPALReFW4pTgWE3\n",
       "LjkjBgYxXGFW9+4drgTNDkwSBxgAFUtBY86Sq/0AAAAASUVORK5CYII=\n",
       "\" style=\"display:inline;vertical-align:middle;\" /></a> <a class=\"ProveItLink\" href=\"../__pv_it/demonstrations/aedbbc8175c2b80bd961cd1e478cc0a648b301140/proof.ipynb\" style=\"text-decoration: none\">&nbsp;&#x22A2;&nbsp;&nbsp;</a><a class=\"ProveItLink\" href=\"../__pv_it/theorems/d7050b2d9bd680763cc2dc50e8028b1d003983160/expr.ipynb\"><img src=\"data:image/png;base64,iVBORw0KGgoAAAANSUhEUgAAAGkAAAArBAMAAACJPLtuAAAAMFBMVEX///8AAAAAAAAAAAAAAAAA\n",
       "AAAAAAAAAAAAAAAAAAAAAAAAAAAAAAAAAAAAAAAAAAAv3aB7AAAAD3RSTlMAMnZmzRC73UTvIomZ\n",
       "VKu7zOipAAAACXBIWXMAAA7EAAAOxAGVKw4bAAABrklEQVRIx92TPUgCYRjH/6echkIaNMtlQ5CR\n",
       "0uLa5Fg3RC6BU0ENoVNLlINLRDQ0CZESfaw5lEOLEBWEg4QE0WKEBEZql8pZweUh98HJ6XtO0X94\n",
       "73ngfnfPve/vgN6xZQNOVetJgSQnsPNKZ/EFiagSEFe6CzicJFSCRSUpNRQPR46EegUq8uMHwwj5\n",
       "QJZNuQox2I2SQRQnl14nvEkyylqQy9lyuUk44I240DVxbYDmyCBz+1XrIsrBXCejnmCTPoXmYc2Q\n",
       "7cUZTKzU8HhkiajTbPZWbt7pCOFhCUJNbhYmpGFte8aVBgZ+OpSeI7CG7VCaTjMgj6L02Dk5pVLa\n",
       "3wWjRt3TRwcY3j+cZDRK5+90qXkgjBlgI0d9aZWOFfWoLRYMVoFl4FOrdGxR9ydojEOklgBOo3S+\n",
       "pDshnRYyCqVW2n/dvjoEbao4hvlDRSlKd935e+BFNaGkdI9Tbt20IiKBNiUp3cOobbcn6ooXXc3n\n",
       "h2ZBrfRfT3BNTAT/P/ZEy6WMUepyJzU1ZBSicqbkSB8jWlDsg3K1fnrjuULVOETXwRunTGF897EZ\n",
       "ObxJ9S84lJd4b3IJKwAAAABJRU5ErkJggg==\n",
       "\" style=\"display:inline;vertical-align:middle;\" /></a></span>"
      ],
      "text/plain": [
       "{theta in RealPos, theta < (pi / 2)} |- sin(theta) >= ((2 * theta) / pi)"
      ]
     },
     "metadata": {},
     "output_type": "display_data"
    }
   ],
   "source": [
    "Sin(theta).deduce_linear_lower_bound(assumptions=[InSet(theta, RealPos), Less(theta, frac(pi, two))])"
   ]
  },
  {
   "cell_type": "code",
   "execution_count": 17,
   "metadata": {},
   "outputs": [
    {
     "data": {
      "text/html": [
       "<span style=\"font-size:20px;\"><a class=\"ProveItLink\" href=\"../__pv_it/theorems/6c480b5b7b83da4785d9ba6b852ad31bb3f5ebd40/expr.ipynb\"><img src=\"data:image/png;base64,iVBORw0KGgoAAAANSUhEUgAAAEgAAAAUBAMAAADcj2b4AAAAMFBMVEX///8AAAAAAAAAAAAAAAAA\n",
       "AAAAAAAAAAAAAAAAAAAAAAAAAAAAAAAAAAAAAAAAAAAv3aB7AAAAD3RSTlMAdokyu2YQ3URUqyLN\n",
       "75mYuQMGAAAACXBIWXMAAA7EAAAOxAGVKw4bAAABRElEQVQoz2NgwAlMGsCUkhADHsCmMgFIsgpw\n",
       "OOBTxSASwMDAa8DwG68ihhABhv0JDDexyMRc8T9+JQDCjt1gn8BQCmQwKhmgqnLYxdAVkgBiJXkw\n",
       "ABVdBLJc2QrQFG1iYGFeAGTsW8wAsu4nAwOTA8NnDEV8Gw4wMOwCqoE63L4BpBRkrXt5DUKRA0PW\n",
       "a7CoAAfQ0OUMbF9BPI6DCQiTuNIWMKRBeEpyCQxsHxk4foA4exKQrDOZswHZAYyfGRjBoXUa4aa9\n",
       "x7+LobiS59eq9RdAjANIDg/NAcWdCxBADOR3YMgXANLM18vLy0ugilhSA1BMAqqIB7mGzQHJJOYH\n",
       "bqiKGhjqwIwC5HB6vAVFEX8D5zUwQxBZUQojin1cE9IhUcczAa5oHwNrgAdK0nr4GspY0gZPBd4M\n",
       "LucnYE08HCrQaMEAALS2VuddS9LWAAAAAElFTkSuQmCC\n",
       "\" style=\"display:inline;vertical-align:middle;\" /></a>, <a class=\"ProveItLink\" href=\"../__pv_it/theorems/0f6192035169065ce7d1f3c0fb342c011fc928f30/expr.ipynb\"><img src=\"data:image/png;base64,iVBORw0KGgoAAAANSUhEUgAAADUAAAAlBAMAAAAQHrzYAAAAMFBMVEX///8AAAAAAAAAAAAAAAAA\n",
       "AAAAAAAAAAAAAAAAAAAAAAAAAAAAAAAAAAAAAAAAAAAv3aB7AAAAD3RSTlMAdokyu2YQ3URUqyLN\n",
       "75mYuQMGAAAACXBIWXMAAA7EAAAOxAGVKw4bAAABFklEQVQ4y2NgwAZ0/////w+rDAOTxiRTYQPs\n",
       "cpYM0ow4pIDAgSsBlxTzAnac2vgC+HHK5SfwN+CSE2fgV8Al58nABZFjVMLtXle2Ajh7zgbUQHBg\n",
       "+Axjhz9D1WbfwPAT5gQ1NCOXM7B9BTPY1AXQpNg+MnD8ADOeB6C7hPEzA+NvkNSaCRiu5Pm1av0F\n",
       "EAOLHL8DQz7YHm6Emf/B4ANIIj4Bh1vyGxjqGHD4gb+B8xoDDr9zTUhHCs45KEHL9vA1A2lg3xtn\n",
       "XFLcDgz6SBHPVg4GEPu4NjDwXsChj/cbA9dvHHJcBQxcn3G7hv0Dbjl7AdxyVbil+Bxwy0XhluJU\n",
       "YNiNS86IgUEMV5jVvXtXgMtzwCRxgAEAENFE7p+66UIAAAAASUVORK5CYII=\n",
       "\" style=\"display:inline;vertical-align:middle;\" /></a> <a class=\"ProveItLink\" href=\"../__pv_it/demonstrations/752e0140715163a70b1b16014e780907da8fb46e0/proof.ipynb\" style=\"text-decoration: none\">&nbsp;&#x22A2;&nbsp;&nbsp;</a><a class=\"ProveItLink\" href=\"../__pv_it/theorems/d7050b2d9bd680763cc2dc50e8028b1d003983160/expr.ipynb\"><img src=\"data:image/png;base64,iVBORw0KGgoAAAANSUhEUgAAAGkAAAArBAMAAACJPLtuAAAAMFBMVEX///8AAAAAAAAAAAAAAAAA\n",
       "AAAAAAAAAAAAAAAAAAAAAAAAAAAAAAAAAAAAAAAAAAAv3aB7AAAAD3RSTlMAMnZmzRC73UTvIomZ\n",
       "VKu7zOipAAAACXBIWXMAAA7EAAAOxAGVKw4bAAABrklEQVRIx92TPUgCYRjH/6echkIaNMtlQ5CR\n",
       "0uLa5Fg3RC6BU0ENoVNLlINLRDQ0CZESfaw5lEOLEBWEg4QE0WKEBEZql8pZweUh98HJ6XtO0X94\n",
       "73ngfnfPve/vgN6xZQNOVetJgSQnsPNKZ/EFiagSEFe6CzicJFSCRSUpNRQPR46EegUq8uMHwwj5\n",
       "QJZNuQox2I2SQRQnl14nvEkyylqQy9lyuUk44I240DVxbYDmyCBz+1XrIsrBXCejnmCTPoXmYc2Q\n",
       "7cUZTKzU8HhkiajTbPZWbt7pCOFhCUJNbhYmpGFte8aVBgZ+OpSeI7CG7VCaTjMgj6L02Dk5pVLa\n",
       "3wWjRt3TRwcY3j+cZDRK5+90qXkgjBlgI0d9aZWOFfWoLRYMVoFl4FOrdGxR9ydojEOklgBOo3S+\n",
       "pDshnRYyCqVW2n/dvjoEbao4hvlDRSlKd935e+BFNaGkdI9Tbt20IiKBNiUp3cOobbcn6ooXXc3n\n",
       "h2ZBrfRfT3BNTAT/P/ZEy6WMUepyJzU1ZBSicqbkSB8jWlDsg3K1fnrjuULVOETXwRunTGF897EZ\n",
       "ObxJ9S84lJd4b3IJKwAAAABJRU5ErkJggg==\n",
       "\" style=\"display:inline;vertical-align:middle;\" /></a></span>"
      ],
      "text/plain": [
       "{theta in RealNonNeg, theta <= (pi / 2)} |- sin(theta) >= ((2 * theta) / pi)"
      ]
     },
     "metadata": {},
     "output_type": "display_data"
    }
   ],
   "source": [
    "Sin(theta).deduce_linear_lower_bound(assumptions=[InSet(theta, RealNonNeg), LessEq(theta, frac(pi, two))])"
   ]
  },
  {
   "cell_type": "code",
   "execution_count": 18,
   "metadata": {},
   "outputs": [
    {
     "data": {
      "text/html": [
       "<span style=\"font-size:20px;\"><a class=\"ProveItLink\" href=\"../__pv_it/demonstrations/d2d231224210848a5c4386b97ba5bc9be9ee555a0/expr.ipynb\"><img src=\"data:image/png;base64,iVBORw0KGgoAAAANSUhEUgAAAD8AAAAQBAMAAABTi7oPAAAAMFBMVEX///8AAAAAAAAAAAAAAAAA\n",
       "AAAAAAAAAAAAAAAAAAAAAAAAAAAAAAAAAAAAAAAAAAAv3aB7AAAAD3RSTlMAdokyu2YQ3URUqyLN\n",
       "75mYuQMGAAAACXBIWXMAAA7EAAAOxAGVKw4bAAAA7UlEQVQoz2NgwAAxV/yPXwlAEmBUMkBV4bCL\n",
       "oSskAcF3ZStAU7CJgYV5AYOJCxBsYGBgcmD4jKGAb8MBONe+geEnxCr38hqEAge4guUMbF9BNMfB\n",
       "BIQJXGkLYPJsHxk4foAYexKQrDCZswHuh88MjL9BjNMIN+w9/l0MzuP5tWr9BRDjAJIjQ3MQTuZ3\n",
       "YMgXANLM18vLy0ugClhSEQEFlI0H2c7mgGQC8wM3hIIGhjowowA5HB5vQVjRwHkNzBBEVpDCCLeD\n",
       "a0I6JCp4JsAV7GNgDfCAh8PD11DGkjZ4bHozuJyfgBHNHCrQoEYBAKaxQ5P9Q/U4AAAAAElFTkSu\n",
       "QmCC\n",
       "\" style=\"display:inline;vertical-align:middle;\" /></a> <a class=\"ProveItLink\" href=\"../__pv_it/demonstrations/a9cecd686846a027f22164222a2e2bb00b9af84d0/proof.ipynb\" style=\"text-decoration: none\">&nbsp;&#x22A2;&nbsp;&nbsp;</a><a class=\"ProveItLink\" href=\"../__pv_it/demonstrations/abad5265a05b14279361b7b4498c7ebcaf0c20ce0/expr.ipynb\"><img src=\"data:image/png;base64,iVBORw0KGgoAAAANSUhEUgAAAE0AAAAQBAMAAAChN++qAAAAMFBMVEX///8AAAAAAAAAAAAAAAAA\n",
       "AAAAAAAAAAAAAAAAAAAAAAAAAAAAAAAAAAAAAAAAAAAv3aB7AAAAD3RSTlMAMnZmzRC73UTvIomZ\n",
       "VKu7zOipAAAACXBIWXMAAA7EAAAOxAGVKw4bAAABEUlEQVQoz2NgAAKuyQwIoL2RAR3AhDj+IMTY\n",
       "DMLRlSGEAhCC2xj4BdDUYRFiYPzBwH8BSIcYYAihAL4ChniQEtbtCqhCjMpKDkvmMYjMWaQHkolX\n",
       "YOhvAEurb4WqgwiFMTAUMPgxMNRdYPwFFNQXYNBfAJE3PwqhIUKdAQwKDHkMDJkMDJ+Bgv7v3v2E\n",
       "WXjlFJiCCLF/02IAqUtjYPgEFPzGwPoJ7tiWpwxwIdbt/w8g1AFFmL8i1KUywIWWMjB/RFL3g4H9\n",
       "ANzeVyASKnSJgeExkr0/GG7CAt0c4jyoEBBngRS5QdS9ZS2EKoOHC0SoW0m7QW7mU7mfD6/9fMDA\n",
       "EKMDCRVWdXg4w4SwgnADBrIAAH8VWkLfh66CAAAAAElFTkSuQmCC\n",
       "\" style=\"display:inline;vertical-align:middle;\" /></a></span>"
      ],
      "text/plain": [
       "{theta in RealNeg} |- sin(theta) > theta"
      ]
     },
     "metadata": {},
     "output_type": "display_data"
    }
   ],
   "source": [
    "Sin(theta).deduce_linear_lower_bound(assumptions=[InSet(theta, RealNeg)])"
   ]
  },
  {
   "cell_type": "code",
   "execution_count": 19,
   "metadata": {},
   "outputs": [
    {
     "data": {
      "text/html": [
       "<span style=\"font-size:20px;\"><a class=\"ProveItLink\" href=\"../__pv_it/theorems/ef272b037cafb6f3300feb4db1d8ccc9a158fca00/expr.ipynb\"><img src=\"data:image/png;base64,iVBORw0KGgoAAAANSUhEUgAAAEgAAAAUBAMAAADcj2b4AAAAMFBMVEX///8AAAAAAAAAAAAAAAAA\n",
       "AAAAAAAAAAAAAAAAAAAAAAAAAAAAAAAAAAAAAAAAAAAv3aB7AAAAD3RSTlMAdokyu2YQ3URUqyLN\n",
       "75mYuQMGAAAACXBIWXMAAA7EAAAOxAGVKw4bAAABQklEQVQoz2NgwAumbGBQEmIgoEaAgVWAwwGv\n",
       "mpAABgZeA4bf+NSITAAS+xMYbmKRi7nif/wK0AxbkBoG+wSGUiDFqGSAqsphF0NXSAIDp1MCRNFF\n",
       "IOXKVoCmaBMDC/MCBgYOkCqgdT8ZGJgcGD5jKOLbcADIYF63Aepw+waQUpC17uU1CEVgf3OvSmAU\n",
       "4AAaupyB7StIgONgAsIkrrQFYCY3A4OSXAID20cGjh8g/p4EJOtM5mxAdgDjZwZGcGidRrhp7/Hv\n",
       "Yiiu5Pm1av0FEOMAksNDc4CUiQsQQAzkd2DIFwD55Hp5eXkJVBFLagCKSUAV8SDXsDkgmcT8wA1V\n",
       "UQNDHZhRgBxOj7egKOJv4LwGZggiK0phRLGPa0I6JOp4JsAV7WNgDfBAVsT28DWUsaQNngq8GVzO\n",
       "T8CafDhUoNGCAQBprFZUELBx8gAAAABJRU5ErkJggg==\n",
       "\" style=\"display:inline;vertical-align:middle;\" /></a> <a class=\"ProveItLink\" href=\"../__pv_it/demonstrations/0027eebc2b2229837a53ebbb96e8209b9edfd1f80/proof.ipynb\" style=\"text-decoration: none\">&nbsp;&#x22A2;&nbsp;&nbsp;</a><a class=\"ProveItLink\" href=\"../__pv_it/demonstrations/c1a8540339980f742c44687d3b35de4f4c77a9610/expr.ipynb\"><img src=\"data:image/png;base64,iVBORw0KGgoAAAANSUhEUgAAAE0AAAARBAMAAABqazwPAAAAMFBMVEX///8AAAAAAAAAAAAAAAAA\n",
       "AAAAAAAAAAAAAAAAAAAAAAAAAAAAAAAAAAAAAAAAAAAv3aB7AAAAD3RSTlMAMnZmzRC73UTvIomZ\n",
       "VKu7zOipAAAACXBIWXMAAA7EAAAOxAGVKw4bAAABFElEQVQoz2NgAAKuyQwIoL2RAR3AhDj+IMTY\n",
       "DMJBVIgBhhAQBCAEtzHwCwAp1u0K6EIogPEHA/8FMEt9K4YQEuArYIiHWmm+FVmIUVnJYck8BpE5\n",
       "i/RANsUrMPQ3QPVcOQWmIEJhDAwFDH4MDHUXGH8BBfUFGPQXwAxvecoAF+oMYFBgyGNgyGRg+AwU\n",
       "9H/37ifcES2pDHAh9m9aDCB1aQwMn4CC3xhYP8GUXXkFpiBCrNv/H0CoA4owf4UqMz8KpqBCSxmY\n",
       "PyKp+8HAfoABJVygQpcYGB4j2fuD4SY40JHCGSIExFkgRW4QdW9ZCxnQ4g0i1K2k3SA386ncz4fX\n",
       "fj5gYIjRWYAe9FiEaAfCy0GgEM4HALPQXdUr7nyWAAAAAElFTkSuQmCC\n",
       "\" style=\"display:inline;vertical-align:middle;\" /></a></span>"
      ],
      "text/plain": [
       "{theta in RealNonPos} |- sin(theta) >= theta"
      ]
     },
     "metadata": {},
     "output_type": "display_data"
    }
   ],
   "source": [
    "Sin(theta).deduce_linear_lower_bound(assumptions=[InSet(theta, RealNonPos)])"
   ]
  },
  {
   "cell_type": "markdown",
   "metadata": {},
   "source": [
    "#### Deducing upper bounds: distinguishing between $\\sin{\\theta} < \\theta$ vs. $\\sin{\\theta} < \\frac{2}{\\pi}\\theta$ depending on domain"
   ]
  },
  {
   "cell_type": "code",
   "execution_count": 20,
   "metadata": {},
   "outputs": [
    {
     "data": {
      "text/html": [
       "<span style=\"font-size:20px;\"><a class=\"ProveItLink\" href=\"../__pv_it/demonstrations/d2d231224210848a5c4386b97ba5bc9be9ee555a0/expr.ipynb\"><img src=\"data:image/png;base64,iVBORw0KGgoAAAANSUhEUgAAAD8AAAAQBAMAAABTi7oPAAAAMFBMVEX///8AAAAAAAAAAAAAAAAA\n",
       "AAAAAAAAAAAAAAAAAAAAAAAAAAAAAAAAAAAAAAAAAAAv3aB7AAAAD3RSTlMAdokyu2YQ3URUqyLN\n",
       "75mYuQMGAAAACXBIWXMAAA7EAAAOxAGVKw4bAAAA7UlEQVQoz2NgwAAxV/yPXwlAEmBUMkBV4bCL\n",
       "oSskAcF3ZStAU7CJgYV5AYOJCxBsYGBgcmD4jKGAb8MBONe+geEnxCr38hqEAge4guUMbF9BNMfB\n",
       "BIQJXGkLYPJsHxk4foAYexKQrDCZswHuh88MjL9BjNMIN+w9/l0MzuP5tWr9BRDjAJIjQ3MQTuZ3\n",
       "YMgXANLM18vLy0ugClhSEQEFlI0H2c7mgGQC8wM3hIIGhjowowA5HB5vQVjRwHkNzBBEVpDCCLeD\n",
       "a0I6JCp4JsAV7GNgDfCAh8PD11DGkjZ4bHozuJyfgBHNHCrQoEYBAKaxQ5P9Q/U4AAAAAElFTkSu\n",
       "QmCC\n",
       "\" style=\"display:inline;vertical-align:middle;\" /></a>, <a class=\"ProveItLink\" href=\"../__pv_it/demonstrations/33676741ebe0e97f8c10d86ac4d974ec77ad76de0/expr.ipynb\"><img src=\"data:image/png;base64,iVBORw0KGgoAAAANSUhEUgAAAFQAAAAlBAMAAAAuO9OWAAAAMFBMVEX///8AAAAAAAAAAAAAAAAA\n",
       "AAAAAAAAAAAAAAAAAAAAAAAAAAAAAAAAAAAAAAAAAAAv3aB7AAAAD3RSTlMAInZUiRDNmWbv3US7\n",
       "qzJazP2FAAAACXBIWXMAAA7EAAAOxAGVKw4bAAABlklEQVQ4y2NgIAKwzP///38BMSoZXDb7Nb0j\n",
       "SiWfAZOAHgORgIfhKrFK3zIsIFZpBcMHIlWyfmX4DWYIoAgzYlHKtIDhC5g2QBHmVsDiKwOGKyDa\n",
       "BFm7ywMGDdzuSEDinGBdwMAWgEspewNSBB5g+MfAgTMGOZHY7zcwfGZgmIoQMEPxshkS+xYD6w8G\n",
       "hgw4v6sUxdQSJGd/YuAGhp8vjK/liuqADCT//2Ng+sjA0AbV6IUebIsRTLa/d+9PYGCwhERFVQO6\n",
       "t2YD9WetAoEH/AcY4oEmvQeLX0PEDP9/MAAphQGgun5goO5EV4rFAfEbGJYDKStcDjiEYPJvYAaF\n",
       "aQ8ub/kimLwGUQ+Qgo9VSxVV6SukcC0qBFGrEVGAGrBcD9CsYUTKG23QiBUvOwckMVIHO4Z3GBgP\n",
       "MPhvANIH0cRlMJMUrwADJzBuGGLQxA9iSX1fGXg/gkxHDRMmASymLmDg/Uds7mbg+kC00vcKRCtd\n",
       "S7RK9gNEK+0lWiWzA4MgkUqfMDCoEqeScXl5OZGlJhcwuyQwAAChUF+rvyVZDwAAAABJRU5ErkJg\n",
       "gg==\n",
       "\" style=\"display:inline;vertical-align:middle;\" /></a> <a class=\"ProveItLink\" href=\"../__pv_it/demonstrations/bbe9f3aafef0e7dc002bdf61d44b82c6015e6cd60/proof.ipynb\" style=\"text-decoration: none\">&nbsp;&#x22A2;&nbsp;&nbsp;</a><a class=\"ProveItLink\" href=\"../__pv_it/theorems/25b9cc4bcfbb5b2ff6289ab7dcc5b9de119c74a40/expr.ipynb\"><img src=\"data:image/png;base64,iVBORw0KGgoAAAANSUhEUgAAAGkAAAArBAMAAACJPLtuAAAAMFBMVEX///8AAAAAAAAAAAAAAAAA\n",
       "AAAAAAAAAAAAAAAAAAAAAAAAAAAAAAAAAAAAAAAAAAAv3aB7AAAAD3RSTlMAMnZmzRC73UTvIomZ\n",
       "VKu7zOipAAAACXBIWXMAAA7EAAAOxAGVKw4bAAABsElEQVRIx92Tv0sCYRjHv3dyGoo/gmYx2zJS\n",
       "+gtqcQiqm3JIcgtqCK2hISnXiGhoEiIl+rE05FJDixDU4nA0BNFihARFapfKWcHlIXe+hV3vOUXf\n",
       "4eV54D7v+9x7nwN+jzUXdBGtLwOaHMAmtTpzIERFPQLJVncCp4uGSvEopdWGkeAUaKgHoKRt74gi\n",
       "EgBdVrUq4sFmgg5iRK30u+BP01GWvFZOFIt1ygEvlIWrKGsNnEgHmZpHxRVUhKlKR93Cqr4KJ8GS\n",
       "pbuLY7C82ki44amow1zuUmueuRjlx5LlitaEB9RhrVvGlQa6PtorbR/Vxfi2SpviPOWxhNLsMi1E\n",
       "KD21oLd5n3d4bwc927uDHlLp8KLe5pNAFOPAisC8EUpPj+mOtMbDg3lgFngllHboU5ZaPxRqBhBJ\n",
       "pY90J+RO5WyLIpTWbsMpf08Z+zC9EBShtN7NXwH3xISk0jpfufHQnIIEm9QXpe0jP1HrXl/CnSy4\n",
       "63fX9Typ9F9PaElJDP8/tlTDpaxR6mwjM9RtFGIENt3bwYhmFDqg3I2f3njOUTYOcVVIxik2ivcO\n",
       "LkPAk1p/AlpFk9UNyfbMAAAAAElFTkSuQmCC\n",
       "\" style=\"display:inline;vertical-align:middle;\" /></a></span>"
      ],
      "text/plain": [
       "{theta in RealNeg, (-theta) < (pi / 2)} |- sin(theta) <= ((2 * theta) / pi)"
      ]
     },
     "metadata": {},
     "output_type": "display_data"
    }
   ],
   "source": [
    "Sin(theta).deduce_linear_upper_bound(assumptions=[InSet(theta, RealNeg), Less(Neg(theta), Div(pi, two))])"
   ]
  },
  {
   "cell_type": "code",
   "execution_count": 21,
   "metadata": {},
   "outputs": [
    {
     "data": {
      "text/html": [
       "<span style=\"font-size:20px;\"><a class=\"ProveItLink\" href=\"../__pv_it/demonstrations/d2d231224210848a5c4386b97ba5bc9be9ee555a0/expr.ipynb\"><img src=\"data:image/png;base64,iVBORw0KGgoAAAANSUhEUgAAAD8AAAAQBAMAAABTi7oPAAAAMFBMVEX///8AAAAAAAAAAAAAAAAA\n",
       "AAAAAAAAAAAAAAAAAAAAAAAAAAAAAAAAAAAAAAAAAAAv3aB7AAAAD3RSTlMAdokyu2YQ3URUqyLN\n",
       "75mYuQMGAAAACXBIWXMAAA7EAAAOxAGVKw4bAAAA7UlEQVQoz2NgwAAxV/yPXwlAEmBUMkBV4bCL\n",
       "oSskAcF3ZStAU7CJgYV5AYOJCxBsYGBgcmD4jKGAb8MBONe+geEnxCr38hqEAge4guUMbF9BNMfB\n",
       "BIQJXGkLYPJsHxk4foAYexKQrDCZswHuh88MjL9BjNMIN+w9/l0MzuP5tWr9BRDjAJIjQ3MQTuZ3\n",
       "YMgXANLM18vLy0ugClhSEQEFlI0H2c7mgGQC8wM3hIIGhjowowA5HB5vQVjRwHkNzBBEVpDCCLeD\n",
       "a0I6JCp4JsAV7GNgDfCAh8PD11DGkjZ4bHozuJyfgBHNHCrQoEYBAKaxQ5P9Q/U4AAAAAElFTkSu\n",
       "QmCC\n",
       "\" style=\"display:inline;vertical-align:middle;\" /></a> <a class=\"ProveItLink\" href=\"../__pv_it/demonstrations/777107b6666facbbc6b3fb1b466fabb93b8cd7f70/proof.ipynb\" style=\"text-decoration: none\">&nbsp;&#x22A2;&nbsp;&nbsp;</a><a class=\"ProveItLink\" href=\"../__pv_it/demonstrations/10348be47362843b3101d28f843f423c1de7b71d0/expr.ipynb\"><img src=\"data:image/png;base64,iVBORw0KGgoAAAANSUhEUgAAAHcAAAAVBAMAAACOK2zoAAAAMFBMVEX///8AAAAAAAAAAAAAAAAA\n",
       "AAAAAAAAAAAAAAAAAAAAAAAAAAAAAAAAAAAAAAAAAAAv3aB7AAAAD3RSTlMAMnZmzRC73UTvIomZ\n",
       "VKu7zOipAAAACXBIWXMAAA7EAAAOxAGVKw4bAAABuUlEQVQ4y5WUP0vDQBiHf2n6v8Z2cC6hblZt\n",
       "PoBDHXQQ1AzFDhbbSdBBWh0cFClu4mDBSRApRXFx0EXXQr9AcRDcKuJo0YqlFUGTu6SXawLad3lz\n",
       "l+dJLvfeG4CPYF92uGVE2U6Einy2xAQ/3DefeczL8RsHWbq2DDTCpdBL/zcne5W0VZbmSEpZXJ3A\n",
       "jDFQOfkW4QiTxV16t2aRdQJTTt8sdBCu92TXjvHkEoMIgYDqIA/nkVVMeXnTXHySQYSAW4EwGkue\n",
       "n2HktDIpUzkr46hoyJktUxiy7BchEGpgCchjAdirC19UTkSQKFN5Zb4nuBUmEwJiEgcqZGwAa8AH\n",
       "lRebza6x28NM9tWZTAhIJfjaY9DlVaBF5TY8LbNUV71lB7SJ1LYeBUpAeIPn7qfKydq8+AnbhgVY\n",
       "4SkBfwkXEN95uQNfFbZSWZZNCUh53APP/LI7eFRhOyRemX0zISDm9LSum7M9+dVT4BpDmiYHoMFk\n",
       "QujFO4zFi9GTl2j36aHbIFJmvOzQVUKeXRMCvuL/W7LQP3E5QD/b+qD2h5w2Ckt2rO/XEcwN8GZP\n",
       "H+y1/4dcET5bosIPtYP5C2XxhxXRh/99AAAAAElFTkSuQmCC\n",
       "\" style=\"display:inline;vertical-align:middle;\" /></a></span>"
      ],
      "text/plain": [
       "{theta in RealNeg} |- sin(|theta|) <= (-theta)"
      ]
     },
     "metadata": {},
     "output_type": "display_data"
    }
   ],
   "source": [
    "Sin(Abs(theta)).deduce_linear_upper_bound(assumptions=[InSet(theta, RealNeg)],\n",
    "        preserve_expr=Sin(Abs(theta)))"
   ]
  },
  {
   "cell_type": "code",
   "execution_count": 22,
   "metadata": {},
   "outputs": [
    {
     "data": {
      "text/html": [
       "<span style=\"font-size:20px;\"><a class=\"ProveItLink\" href=\"../__pv_it/demonstrations/e6b70d495f8afdad31e7730973d3895699c64e380/expr.ipynb\"><img src=\"data:image/png;base64,iVBORw0KGgoAAAANSUhEUgAAAD8AAAATBAMAAADVH8ihAAAAMFBMVEX///8AAAAAAAAAAAAAAAAA\n",
       "AAAAAAAAAAAAAAAAAAAAAAAAAAAAAAAAAAAAAAAAAAAv3aB7AAAAD3RSTlMAdokyu2YQ3URUqyLN\n",
       "75mYuQMGAAAACXBIWXMAAA7EAAAOxAGVKw4bAAAA90lEQVQoz2NgwAP4GAgAFjIVxFzxP34lAEkB\n",
       "o5IBqgqHXQxdIQkIBa5sBWgKNjGwMC9geOLi6+ICNInJgeEzhgK+DQfgJtg3MPyESIiUlx+AK3CA\n",
       "K1jOwPYVzOgRQ5jAlbYApoDtIwPHDxCD+xiSFSZzNsAUMH5mYPwNYvBsgCvYe/y7GDwkeX6tWn8B\n",
       "zEByZGgOwsn8Dgz5AiCGbTkQOEAUsKQGwBUAZeNBgcKQgmQC8wM3hIIGhjowgx05HB5vQVjRwHkN\n",
       "EuICSApSGOF2cE1Ih0bFSbiCfQysAR4wHtvD11BWlkcCLDa9GVzOT8CM5yZ3SFCjAAAyfENlIMyr\n",
       "qgAAAABJRU5ErkJggg==\n",
       "\" style=\"display:inline;vertical-align:middle;\" /></a> <a class=\"ProveItLink\" href=\"../__pv_it/demonstrations/fb40ad36185d050c05cd92c0124c00195b80dcc80/proof.ipynb\" style=\"text-decoration: none\">&nbsp;&#x22A2;&nbsp;&nbsp;</a><a class=\"ProveItLink\" href=\"../__pv_it/theorems/63367b7fbdb543d443a0fd0433e06ac846ac92440/expr.ipynb\"><img src=\"data:image/png;base64,iVBORw0KGgoAAAANSUhEUgAAAE0AAAAQBAMAAAChN++qAAAAMFBMVEX///8AAAAAAAAAAAAAAAAA\n",
       "AAAAAAAAAAAAAAAAAAAAAAAAAAAAAAAAAAAAAAAAAAAv3aB7AAAAD3RSTlMAMnZmzRC73UTvIomZ\n",
       "VKu7zOipAAAACXBIWXMAAA7EAAAOxAGVKw4bAAABEElEQVQoz2NgAAKuyQwIoL2RAR3AhDj+IMTY\n",
       "DMLRlSGEAhCC2xj4BdDUYRFiYPzBwH8BxuH1whCCAb4ChngDKJu5JgAhxKis5LBkHoPInEV6CkDB\n",
       "eAWG/gaIMqZqiHMgQmEMDAUMfgwMdRcYfwEF9QUY9BeApaOLoMZChDoDGBQY8hgYMhkYPgMF/d+9\n",
       "+wmWXVMMcwpEiP2bFgNIXRoDwyeg4DcG1k9gR/nCnQwRYt3+/wBCHVCE+SuqOqjQUgbmj0jqfjCw\n",
       "H0C1Fyp0iYHhMZK9PxhuQgMd7g+IEBBngRS5QdS9ZS2EWRhUBNEBEepW0m6Qm/lU7ufDaz8fMDDE\n",
       "6CyAe4AZEoDIQtgBsxcDqQAA7C5XXCzwSVUAAAAASUVORK5CYII=\n",
       "\" style=\"display:inline;vertical-align:middle;\" /></a></span>"
      ],
      "text/plain": [
       "{theta in RealPos} |- sin(theta) < theta"
      ]
     },
     "metadata": {},
     "output_type": "display_data"
    }
   ],
   "source": [
    "Sin(theta).deduce_linear_upper_bound(assumptions=[InSet(theta, RealPos)])"
   ]
  },
  {
   "cell_type": "code",
   "execution_count": 23,
   "metadata": {},
   "outputs": [
    {
     "data": {
      "text/html": [
       "<span style=\"font-size:20px;\"><a class=\"ProveItLink\" href=\"../__pv_it/theorems/6c480b5b7b83da4785d9ba6b852ad31bb3f5ebd40/expr.ipynb\"><img src=\"data:image/png;base64,iVBORw0KGgoAAAANSUhEUgAAAEgAAAAUBAMAAADcj2b4AAAAMFBMVEX///8AAAAAAAAAAAAAAAAA\n",
       "AAAAAAAAAAAAAAAAAAAAAAAAAAAAAAAAAAAAAAAAAAAv3aB7AAAAD3RSTlMAdokyu2YQ3URUqyLN\n",
       "75mYuQMGAAAACXBIWXMAAA7EAAAOxAGVKw4bAAABRElEQVQoz2NgwAlMGsCUkhADHsCmMgFIsgpw\n",
       "OOBTxSASwMDAa8DwG68ihhABhv0JDDexyMRc8T9+JQDCjt1gn8BQCmQwKhmgqnLYxdAVkgBiJXkw\n",
       "ABVdBLJc2QrQFG1iYGFeAGTsW8wAsu4nAwOTA8NnDEV8Gw4wMOwCqoE63L4BpBRkrXt5DUKRA0PW\n",
       "a7CoAAfQ0OUMbF9BPI6DCQiTuNIWMKRBeEpyCQxsHxk4foA4exKQrDOZswHZAYyfGRjBoXUa4aa9\n",
       "x7+LobiS59eq9RdAjANIDg/NAcWdCxBADOR3YMgXANLM18vLy0ugilhSA1BMAqqIB7mGzQHJJOYH\n",
       "bqiKGhjqwIwC5HB6vAVFEX8D5zUwQxBZUQojin1cE9IhUcczAa5oHwNrgAdK0nr4GspY0gZPBd4M\n",
       "LucnYE08HCrQaMEAALS2VuddS9LWAAAAAElFTkSuQmCC\n",
       "\" style=\"display:inline;vertical-align:middle;\" /></a> <a class=\"ProveItLink\" href=\"../__pv_it/demonstrations/21ca08f680c5b475ba5f20ed73a5ea992e3893a00/proof.ipynb\" style=\"text-decoration: none\">&nbsp;&#x22A2;&nbsp;&nbsp;</a><a class=\"ProveItLink\" href=\"../__pv_it/theorems/34278941668c514548ff6526302f1c3c0dfcd6af0/expr.ipynb\"><img src=\"data:image/png;base64,iVBORw0KGgoAAAANSUhEUgAAAE0AAAARBAMAAABqazwPAAAAMFBMVEX///8AAAAAAAAAAAAAAAAA\n",
       "AAAAAAAAAAAAAAAAAAAAAAAAAAAAAAAAAAAAAAAAAAAv3aB7AAAAD3RSTlMAMnZmzRC73UTvIomZ\n",
       "VKu7zOipAAAACXBIWXMAAA7EAAAOxAGVKw4bAAABEUlEQVQoz2NgAAKuyQwIoL2RAR3AhDj+IMTY\n",
       "DMLhbF4vNKEAhLptDPwCUCZzTQC6EBww/mDgvwBhMlUHoAshAF8BQ7wBmBVdhCLEqKzksGQeg8ic\n",
       "RXoKQMF4BYb+BpBsTDFMK0QojIGhgMGPgaHuAuMvoKC+AIP+AiAd5wu3AiLUGcCgwJDHwJDJwPAZ\n",
       "KOj/7t1PsGUIdRAh9m9aDCB1aQwMn4CC3xhYP4Fl18DthQixbv9/AKEOKML8lQHFH1ChpQzMH5HU\n",
       "/WBgP8CAEi5QoUsMDI+R7P3BcBMe6NBwhggBcRZIkRtE3VvWQkRg8joywIW6lbQb5GY+lfv58NrP\n",
       "B8Bg01mAHvRYhGgHwstBAOFWACHBWjIPEUIhAAAAAElFTkSuQmCC\n",
       "\" style=\"display:inline;vertical-align:middle;\" /></a></span>"
      ],
      "text/plain": [
       "{theta in RealNonNeg} |- sin(theta) <= theta"
      ]
     },
     "metadata": {},
     "output_type": "display_data"
    }
   ],
   "source": [
    "Sin(theta).deduce_linear_upper_bound(assumptions=[InSet(theta, RealNonNeg)])"
   ]
  },
  {
   "cell_type": "code",
   "execution_count": 24,
   "metadata": {},
   "outputs": [
    {
     "data": {
      "text/html": [
       "<span style=\"font-size:20px;\"><a class=\"ProveItLink\" href=\"../__pv_it/demonstrations/36df57631042b8b81d2319c6029c8fda14341da90/expr.ipynb\"><img src=\"data:image/png;base64,iVBORw0KGgoAAAANSUhEUgAAAG4AAAAmBAMAAADXfrPJAAAAMFBMVEX///8AAAAAAAAAAAAAAAAA\n",
       "AAAAAAAAAAAAAAAAAAAAAAAAAAAAAAAAAAAAAAAAAAAv3aB7AAAAD3RSTlMAdokyu2YQ3URUqyLN\n",
       "75mYuQMGAAAACXBIWXMAAA7EAAAOxAGVKw4bAAACX0lEQVRIx41Vz2sTQRR+a8w0u0maiOBBRELs\n",
       "sWDQg+Ali7aInvQkiJJ66km6FGFBpeQkeOr8By2lKIhgoEdFI/jj4CUgKCpoFTyItZiWBqNinLfT\n",
       "ducN86Rz2XnzzTdv3nvfvAVwj6/ADvGcx4bn0/muj4PBYNkAj02wvIvGvHrr0LmjJpid52iZ18Zc\n",
       "eq29FD7N8QoV09oNtyl8hbvoHAGOQ8RHT8Y0sb7ADwrnfzPh9Ujee/DT2nDCzQtC0/IiWLM2XHLz\n",
       "SmdJWiQsWBseSzyvWrOW6y22sNWDiA2hDMaFlS5osLSCFNcxoW0loxDWLfQeyzsPMIJXVAmuN6Gv\n",
       "4z8V39DoO5Z3RtfWV57ugNjApdyT7WKvsby/yo/KSaYPogu5pDwPU41ssE8IeSrZypO3Dl5S/pep\n",
       "HPocL69uUi+rSRcKv+7e7+BaO5XL/3mVJJJSCFN4QuZNHMdXEzS5t3gR46hBaZAMfU/Fmy0ncSpS\n",
       "AyMT4Q78YV7mpOY1YSZZinbCGwPtpQulpq8f9540Cnc+J7SgV3TGAzlZ25TQdra7zhr8QWFK8Upn\n",
       "XHz6trm+eHNrywenv1g5FJ/3o5eM+SBzI1s6e0oJj1ZO4sdPheH3nCd/p0UL4XAT+6jRUiMnr0Ha\n",
       "UtCCIirjsvGU3Y1pSppWsQcBKrHMNYT0uGXiL4LAeqGz7oaQ7VgLQ1YjHGWei9336mVqv2XkZJ93\n",
       "jZpeh+EVaYcbDi1YMrxsm5gXLPgAq/tnpuFX4AERwnuWN2km+gjAPgJKlpc3/uH5mdVVoqtx/v8O\n",
       "S0bxVJcw4xUo1n8OjJqc79941wAAAABJRU5ErkJggg==\n",
       "\" style=\"display:inline;vertical-align:middle;\" /></a> <a class=\"ProveItLink\" href=\"../__pv_it/demonstrations/dd1ccf68b6dc28e37b0c17fa32ff036efcb047fa0/proof.ipynb\" style=\"text-decoration: none\">&nbsp;&#x22A2;&nbsp;&nbsp;</a><a class=\"ProveItLink\" href=\"../__pv_it/theorems/25b9cc4bcfbb5b2ff6289ab7dcc5b9de119c74a40/expr.ipynb\"><img src=\"data:image/png;base64,iVBORw0KGgoAAAANSUhEUgAAAGkAAAArBAMAAACJPLtuAAAAMFBMVEX///8AAAAAAAAAAAAAAAAA\n",
       "AAAAAAAAAAAAAAAAAAAAAAAAAAAAAAAAAAAAAAAAAAAv3aB7AAAAD3RSTlMAMnZmzRC73UTvIomZ\n",
       "VKu7zOipAAAACXBIWXMAAA7EAAAOxAGVKw4bAAABsElEQVRIx92Tv0sCYRjHv3dyGoo/gmYx2zJS\n",
       "+gtqcQiqm3JIcgtqCK2hISnXiGhoEiIl+rE05FJDixDU4nA0BNFihARFapfKWcHlIXe+hV3vOUXf\n",
       "4eV54D7v+9x7nwN+jzUXdBGtLwOaHMAmtTpzIERFPQLJVncCp4uGSvEopdWGkeAUaKgHoKRt74gi\n",
       "EgBdVrUq4sFmgg5iRK30u+BP01GWvFZOFIt1ygEvlIWrKGsNnEgHmZpHxRVUhKlKR93Cqr4KJ8GS\n",
       "pbuLY7C82ki44amow1zuUmueuRjlx5LlitaEB9RhrVvGlQa6PtorbR/Vxfi2SpviPOWxhNLsMi1E\n",
       "KD21oLd5n3d4bwc927uDHlLp8KLe5pNAFOPAisC8EUpPj+mOtMbDg3lgFngllHboU5ZaPxRqBhBJ\n",
       "pY90J+RO5WyLIpTWbsMpf08Z+zC9EBShtN7NXwH3xISk0jpfufHQnIIEm9QXpe0jP1HrXl/CnSy4\n",
       "63fX9Typ9F9PaElJDP8/tlTDpaxR6mwjM9RtFGIENt3bwYhmFDqg3I2f3njOUTYOcVVIxik2ivcO\n",
       "LkPAk1p/AlpFk9UNyfbMAAAAAElFTkSuQmCC\n",
       "\" style=\"display:inline;vertical-align:middle;\" /></a></span>"
      ],
      "text/plain": [
       "{theta in (-(pi / 2),0)} |- sin(theta) <= ((2 * theta) / pi)"
      ]
     },
     "metadata": {},
     "output_type": "display_data"
    }
   ],
   "source": [
    "Sin(theta).deduce_linear_upper_bound(assumptions=[InSet(theta, IntervalOO(Neg(frac(pi, two)), zero))])"
   ]
  },
  {
   "cell_type": "code",
   "execution_count": 25,
   "metadata": {},
   "outputs": [
    {
     "data": {
      "text/html": [
       "<span style=\"font-size:20px;\"><a class=\"ProveItLink\" href=\"../__pv_it/demonstrations/83fd9d3bffca7e4e494ec7dae4419ffd2d474bc40/expr.ipynb\"><img src=\"data:image/png;base64,iVBORw0KGgoAAAANSUhEUgAAAGkAAAAmBAMAAAA1oqiwAAAAMFBMVEX///8AAAAAAAAAAAAAAAAA\n",
       "AAAAAAAAAAAAAAAAAAAAAAAAAAAAAAAAAAAAAAAAAAAv3aB7AAAAD3RSTlMAdokyu2YQ3URUqyLN\n",
       "75mYuQMGAAAACXBIWXMAAA7EAAAOxAGVKw4bAAABsklEQVRIx53VPUjDQBQH8H+0nP1uRHBwkFK7\n",
       "W3RzaUBFcNJJEMQ4OTaDEFApnQQnM7sURBRc7K5InRxcBEFHP8DJUqrF4hfGe9cibalNLjc09IUf\n",
       "797duwvQYeTtN/w7oratd3yx2/yn58627fvmSMSFSmyPzI9DUvVaSmEAsgrw4cCDmoDhQT2hIq9Y\n",
       "De/ySjHwKq98FvY6KCWR6lpXy+YNFxpqmhluVdhiG3XVo6HqVi0AybpK5/BRL3vG3HRQs7yzdaEO\n",
       "wUSH+891x1w/PIlFir3AL/bjVHecISM1R0qpQvmi0KVzXSG+cWmVVPjz6PiKQkWXKk4qpiGj0om4\n",
       "NU1z7U+xC5NGCjFbjPoMudoRuThZpoqY5mLleV15sRqZHLIiYrhQU6AUNMNc4EZE+h0UTWgJKIld\n",
       "DlqrqUa3dFXsm//0WexaKPbw3Ajvb3XNZfJk7HEo1XZS/MnOHXVWmqRHQJc5XyENozm6F6VOZbCA\n",
       "CLXBipSK1BCkllPlchkIVuVvNr7gFS8qrXpR6x7uXkQ1L2oRHlQgjhN5NQYMulEt3+VQtlw23HyX\n",
       "WzeLn/9iW+wXAo+OQVQk/QoAAAAASUVORK5CYII=\n",
       "\" style=\"display:inline;vertical-align:middle;\" /></a> <a class=\"ProveItLink\" href=\"../__pv_it/demonstrations/d807d43599eff36c3aaf446359a87119fd11f8b50/proof.ipynb\" style=\"text-decoration: none\">&nbsp;&#x22A2;&nbsp;&nbsp;</a><a class=\"ProveItLink\" href=\"../__pv_it/theorems/25b9cc4bcfbb5b2ff6289ab7dcc5b9de119c74a40/expr.ipynb\"><img src=\"data:image/png;base64,iVBORw0KGgoAAAANSUhEUgAAAGkAAAArBAMAAACJPLtuAAAAMFBMVEX///8AAAAAAAAAAAAAAAAA\n",
       "AAAAAAAAAAAAAAAAAAAAAAAAAAAAAAAAAAAAAAAAAAAv3aB7AAAAD3RSTlMAMnZmzRC73UTvIomZ\n",
       "VKu7zOipAAAACXBIWXMAAA7EAAAOxAGVKw4bAAABsElEQVRIx92Tv0sCYRjHv3dyGoo/gmYx2zJS\n",
       "+gtqcQiqm3JIcgtqCK2hISnXiGhoEiIl+rE05FJDixDU4nA0BNFihARFapfKWcHlIXe+hV3vOUXf\n",
       "4eV54D7v+9x7nwN+jzUXdBGtLwOaHMAmtTpzIERFPQLJVncCp4uGSvEopdWGkeAUaKgHoKRt74gi\n",
       "EgBdVrUq4sFmgg5iRK30u+BP01GWvFZOFIt1ygEvlIWrKGsNnEgHmZpHxRVUhKlKR93Cqr4KJ8GS\n",
       "pbuLY7C82ki44amow1zuUmueuRjlx5LlitaEB9RhrVvGlQa6PtorbR/Vxfi2SpviPOWxhNLsMi1E\n",
       "KD21oLd5n3d4bwc927uDHlLp8KLe5pNAFOPAisC8EUpPj+mOtMbDg3lgFngllHboU5ZaPxRqBhBJ\n",
       "pY90J+RO5WyLIpTWbsMpf08Z+zC9EBShtN7NXwH3xISk0jpfufHQnIIEm9QXpe0jP1HrXl/CnSy4\n",
       "63fX9Typ9F9PaElJDP8/tlTDpaxR6mwjM9RtFGIENt3bwYhmFDqg3I2f3njOUTYOcVVIxik2ivcO\n",
       "LkPAk1p/AlpFk9UNyfbMAAAAAElFTkSuQmCC\n",
       "\" style=\"display:inline;vertical-align:middle;\" /></a></span>"
      ],
      "text/plain": [
       "{theta in [-(pi / 2),0]} |- sin(theta) <= ((2 * theta) / pi)"
      ]
     },
     "metadata": {},
     "output_type": "display_data"
    }
   ],
   "source": [
    "Sin(theta).deduce_linear_upper_bound(assumptions=[InSet(theta, IntervalCC(Neg(frac(pi, two)), zero))])"
   ]
  },
  {
   "cell_type": "markdown",
   "metadata": {},
   "source": [
    "### Magnitudes and lengths"
   ]
  },
  {
   "cell_type": "markdown",
   "metadata": {},
   "source": [
    "Using the circle choord length formula"
   ]
  },
  {
   "cell_type": "code",
   "execution_count": 26,
   "metadata": {},
   "outputs": [
    {
     "data": {
      "text/html": [
       "<span style=\"font-size:20px;\"><a class=\"ProveItLink\" href=\"../__pv_it/demonstrations/1294e4ba296032dc32e87ff2174a12fc7b934d990/expr.ipynb\"><img src=\"data:image/png;base64,iVBORw0KGgoAAAANSUhEUgAAAD4AAAATBAMAAAA63aOfAAAAMFBMVEX///8AAAAAAAAAAAAAAAAA\n",
       "AAAAAAAAAAAAAAAAAAAAAAAAAAAAAAAAAAAAAAAAAAAv3aB7AAAAD3RSTlMAMom7Iplm783dEER2\n",
       "VKthCJTuAAAACXBIWXMAAA7EAAAOxAGVKw4bAAAAzElEQVQoz2NgwAMCGPADA3Lk2dqNf0w3w6Of\n",
       "meUB9zMrfPIKDAZyDKzGxsXGZjjkQzgw9R+eObMBLs+MIb/jFJL+V+tg8ozKLEEJQJqlC8l8RtsW\n",
       "mDwTcxBTAZDmcEDIV8yfswAWfm4cE1gVQPJI7lPLaoDzpPgTwLT4TCAwgJpvlYZw136wUQyLkf0n\n",
       "yrwAzo2EUJzI8qwiCK9NglA8B5DkuQyOwXgsv6GMXoR8AEMa8wYoj3sClLHOegEs/j47MFv8xQj3\n",
       "TZYzGzAEAZ+WK4vRwOQ/AAAAAElFTkSuQmCC\n",
       "\" style=\"display:inline;vertical-align:middle;\" /></a>, <a class=\"ProveItLink\" href=\"../../numbers/ordering/__pv_it/theorems/4aa8d696b1f407d6126de9f51a052e8d90e0848c0/expr.ipynb\"><img src=\"data:image/png;base64,iVBORw0KGgoAAAANSUhEUgAAADMAAAAQBAMAAABJt1qBAAAAMFBMVEX///8AAAAAAAAAAAAAAAAA\n",
       "AAAAAAAAAAAAAAAAAAAAAAAAAAAAAAAAAAAAAAAAAAAv3aB7AAAAD3RSTlMAIquJdkTvuxBmmd1U\n",
       "zTKBpmoTAAAACXBIWXMAAA7EAAAOxAGVKw4bAAAAzElEQVQY02NgwABz0+tvp09gwAoKhBiCpjdg\n",
       "lxJmYOdTwCXFJXABRch99+4LcKkCZJlYD4Qupg6QgYzKjg4gAcYbSAY+PysAZIQJsP8ACfAKwKXE\n",
       "bv8GmcCRycC1ASyF5IyZvSCa6wMDtwGI8Ww3EBRApNg7QV5mK2DoDwAJtCPp4ltQAaT7HRjmgwW4\n",
       "kf21ThwkdYBBlwfkAhYHJKl2FqCJ7A48u7jAInfgUlIMnBNKgS5UsRPyA4s0lTbAQr6Qofz+AeTg\n",
       "CK7ejRxyAISENKeL/c93AAAAAElFTkSuQmCC\n",
       "\" style=\"display:inline;vertical-align:middle;\" /></a>, <a class=\"ProveItLink\" href=\"../../numbers/ordering/__pv_it/theorems/6e5cad5b2984ed0d75bd47bd0c542ec447a4f3570/expr.ipynb\"><img src=\"data:image/png;base64,iVBORw0KGgoAAAANSUhEUgAAADEAAAAQBAMAAABNQoq8AAAAMFBMVEX///8AAAAAAAAAAAAAAAAA\n",
       "AAAAAAAAAAAAAAAAAAAAAAAAAAAAAAAAAAAAAAAAAAAv3aB7AAAAD3RSTlMAELvv3c2ZVESJq3Yi\n",
       "MmZ3LnoBAAAACXBIWXMAAA7EAAAOxAGVKw4bAAAA1ElEQVQY02NgQAdPjfRDjB4AGYzKDmhSCqcY\n",
       "uh4JABmsCegyJxmYeBcAGfwFmDJsBwKAjH4BqMgmF5cAuIwCkDEFKtG6EaGHSxBkWtTu5SA+TyCS\n",
       "aZdKDwDd9lVA/gDIIQfgModDvoD0s39kYN4AkkFywTtREM0WwMA/AUhfdgECBYgMkxzIpywTGPpB\n",
       "7hZC0sOboAjxTj7I3SzI/sk9BJK5wGgH4nNvQJIR4gYax/WACRI84XCZYwx8DzSArl6ZBxGQ0hCA\n",
       "hbUOg1I8cph1qkBCBwoAxe43BugJR6MAAAAASUVORK5CYII=\n",
       "\" style=\"display:inline;vertical-align:middle;\" /></a> <a class=\"ProveItLink\" href=\"../__pv_it/demonstrations/09f191a5ac589c8541c36d51e1e18592daa0cdff0/proof.ipynb\" style=\"text-decoration: none\">&nbsp;&#x22A2;&nbsp;&nbsp;</a><a class=\"ProveItLink\" href=\"../__pv_it/theorems/1bc3e331e6789e109619db4d3e4f4e48f738730b0/expr.ipynb\"><img src=\"data:image/png;base64,iVBORw0KGgoAAAANSUhEUgAAAXUAAAAyCAMAAACUCbuaAAAAM1BMVEX///8AAAAAAAAAAAAAAAAA\n",
       "AAAAAAAAAAAAAAAAAAAAAAAAAAAAAAAAAAAAAAAAAAAAAADxgEwMAAAAEHRSTlMAme8yr2ZEVBDN\n",
       "uyKJdt2r+Y93eAAAAAlwSFlzAAAOxAAADsQBlSsOGwAABVlJREFUeNrlXOm6nCoQZAmyL+//tBFU\n",
       "3AZtcbhOvPzId5IMXU0JvZTMQei1Q9EWVnX1FKEEev3wrIlZ01VPoe71tHuDnmVdKOI2U7h7OelM\n",
       "IvT0Xpd4O8X4V5OuiX6e9cB3Uxx7M+vOosdZ74LYTeHkxaGdEfQ868Z9mDJFnTcOYlqzrr2x+vhA\n",
       "SW+t5xvWu6DfSroNojHrXcwb6hBGBCn6P/TmeMjXJlTXcGWJQkFiVsSHhSBPz4TYDeu8akcw2piy\n",
       "+wA00Mas45Aebo5jQrp5jOA41a7BbFgXIcalq9G9YcjcAFCpdv8J8tYT1Jh1ohJ/h4k1PZMuVo/r\n",
       "BKziCZk9ZF2lI+AHdxFhbC+X5kF8Et+Y9WG/snBereMYT9assxjq8zp4dU2jFexzVxEI3ZknoADD\n",
       "mrMeGfUS8YOCJIa5If6vWRfRPZJDE7DNzUsShlmTYBmoJwEiZAAa+spLrM1DWLdNi7NEobJRVMGH\n",
       "pzyqbwp/KPHjUZzWodhF1oXTPTHDAkFiGhAhA9jeqsVr8xDWVcuwPtYw3hqqvT3K2sIbzD41VjGw\n",
       "k0m4QHDWRQy4uCeEjrMsIJJCETJAfEqDiDWbh9ggy4CnMZZVQrsm7K4OU5hiQl4HNhdYp7FHIN1M\n",
       "hwAUoVCEGaAnC/u1eQDrIuBNyjGhok7oAm7EOuvdGdcBdmwKAKnrUkyITbQvZ5fuYgiLJQLh638D\n",
       "sE7DIsv4FAFJTcwRqBHr0UEy/iQuso5IDOsdG+ZhdU6GuAjQR3M2ms3mAfTxSWBNn0+o/ov59T7r\n",
       "8TCSMXOdPnpPHF6S0mHGrRn/Zk/pOEXYAVBsp12bzQNYZ8vO1CdU/8Vm1dLbU4If1+HHqo4a1Scg\n",
       "s48XgjjOyu1Hd7qTR4Q6gGwewPqHwtHt+5miH9QyayXSMvpCJcG6r1+/q9YHNa5DjUfY9CWmQWa/\n",
       "uLRpdJHbc+ljRKgDyObneXihfKzULrOzsYr06HihIrnpsjjoolZLv9sBEDmuY9QfNUPSfSw3hn6v\n",
       "WHLr01w5IFQCZPOAvY53rH+QIIt+dOllT3xKys/F/3e7XefQn+GHoUyiYgUggszbZRimWK51R/pb\n",
       "RtgAzAjHANn8H4B6sw0ni0w/w5X86KORsmlnj6ynyfmwhNqxYp2s9/o2QDucWec6DlHc6xS013cZ\n",
       "YEI4BtD7CANmnflPCyr50TdoLqRS/SPr39nrO9ZLSv0J7nnkmxCqALJ5QFzfRBgeT4/ee1fwIz32\n",
       "VAY1ZN1NNcx0Cl0hhuDh5baur2HUDYArNYxZbQCa4Ozeu4If3GblqhnrOZtOBXExKwpHWGeLFx7O\n",
       "X8qPCHUA7EK9bpfBTjschwOn/+HqhNIT37IF61O9Pm2mrtzLYBdkERyfyl8jQh1ANn+1S3JDLttr\n",
       "zCU/OmOt7ZtJ6gnxgvpAPOUqfPVFSe5Nk5Z1YwB0mDsIV3QYHjr0wICLm6Iv1K5qjgVD39McD82D\n",
       "1K8nbrVdEDdn9Ssr5XWDAQ7gDQR2SV8PT1yvuiBuRnlu+pznd2ohSMdcjzCbh6zKyQdYvyBuRqHo\n",
       "6nvTj3vxm+9ND81DWG96MaMIChc3fVjeEaiOu+A7Aua2eQihLDx2b9YFyLFQ37kPA11lHcLSPOxm\n",
       "Bn+IdAqp63X8EEX/0gB5S566wAm6X8leeqsXk4dwQZHWv/TLSd0zfRKDHbFg38n6Qs/9D0dJ3Pyd\n",
       "XN961z2wsqK4WRP7/83R/Lr3vjIpiZu76Pfab8g8sNmL4uZmqDd/41Sa3/SrC2/+Ujslv3mQHUdv\n",
       "Hlb9olcv/0Z7u9/ecCu+SPT2IX/uMFP5P/gFMerHJCYxk/4XDqg1jIfMX6oAAAAASUVORK5CYII=\n",
       "\" style=\"display:inline;vertical-align:middle;\" /></a></span>"
      ],
      "text/plain": [
       "{r in RealPos, a in Real, b in Real} |- |(r * e^{i * a}) - (r * e^{i * b})| = (2 * r * sin(|a - b| / 2))"
      ]
     },
     "metadata": {},
     "output_type": "display_data"
    }
   ],
   "source": [
    "Abs(subtract(Mult(r, Exp(e, Mult(i, a))), \n",
    "             Mult(r, Exp(e, Mult(i, b))))).simplification(\n",
    "    assumptions=[InSet(r, RealPos), InSet(a, Real), InSet(b, Real)])"
   ]
  },
  {
   "cell_type": "code",
   "execution_count": 27,
   "metadata": {},
   "outputs": [
    {
     "data": {
      "text/html": [
       "<span style=\"font-size:20px;\"><a class=\"ProveItLink\" href=\"../__pv_it/demonstrations/1294e4ba296032dc32e87ff2174a12fc7b934d990/expr.ipynb\"><img src=\"data:image/png;base64,iVBORw0KGgoAAAANSUhEUgAAAD4AAAATBAMAAAA63aOfAAAAMFBMVEX///8AAAAAAAAAAAAAAAAA\n",
       "AAAAAAAAAAAAAAAAAAAAAAAAAAAAAAAAAAAAAAAAAAAv3aB7AAAAD3RSTlMAMom7Iplm783dEER2\n",
       "VKthCJTuAAAACXBIWXMAAA7EAAAOxAGVKw4bAAAAzElEQVQoz2NgwAMCGPADA3Lk2dqNf0w3w6Of\n",
       "meUB9zMrfPIKDAZyDKzGxsXGZjjkQzgw9R+eObMBLs+MIb/jFJL+V+tg8ozKLEEJQJqlC8l8RtsW\n",
       "mDwTcxBTAZDmcEDIV8yfswAWfm4cE1gVQPJI7lPLaoDzpPgTwLT4TCAwgJpvlYZw136wUQyLkf0n\n",
       "yrwAzo2EUJzI8qwiCK9NglA8B5DkuQyOwXgsv6GMXoR8AEMa8wYoj3sClLHOegEs/j47MFv8xQj3\n",
       "TZYzGzAEAZ+WK4vRwOQ/AAAAAElFTkSuQmCC\n",
       "\" style=\"display:inline;vertical-align:middle;\" /></a>, <a class=\"ProveItLink\" href=\"../__pv_it/demonstrations/8c5864665d603ebc7e84fdb786d604e60f56fcc70/expr.ipynb\"><img src=\"data:image/png;base64,iVBORw0KGgoAAAANSUhEUgAAAD0AAAATBAMAAADR6hicAAAAMFBMVEX///8AAAAAAAAAAAAAAAAA\n",
       "AAAAAAAAAAAAAAAAAAAAAAAAAAAAAAAAAAAAAAAAAAAv3aB7AAAAD3RSTlMAiXZmMiLdVJm77xBE\n",
       "zatgdeJyAAAACXBIWXMAAA7EAAAOxAGVKw4bAAAA0ElEQVQoz2NgwA04GPADTrLkbVfOv7bSAI/+\n",
       "CXEM5yw34JEPZOBkecDQOXPWzJkG2OU5Ai5g6tdMS7sAl5+AIX9WG6Gfb/cDhLyQsgOQZL2NZL5n\n",
       "bQBcPqyAA2QYbwBcPuraN21E+CUycCmA5JHcZ7wXKZB/Q2ivNCCYAJHn3IzwF9cECL0TST9Lw2w4\n",
       "b78ChGZD9n9LJJzHDzTqAJBmUkCS38kEtwDoeEaQ/xiuw+UjGJgN5sANEDSGBMy+ORtg8TeVYeb9\n",
       "AoxwPzgNEr4oAABdmzkc2vbi6QAAAABJRU5ErkJggg==\n",
       "\" style=\"display:inline;vertical-align:middle;\" /></a>, <a class=\"ProveItLink\" href=\"../../numbers/ordering/__pv_it/theorems/4aa8d696b1f407d6126de9f51a052e8d90e0848c0/expr.ipynb\"><img src=\"data:image/png;base64,iVBORw0KGgoAAAANSUhEUgAAADMAAAAQBAMAAABJt1qBAAAAMFBMVEX///8AAAAAAAAAAAAAAAAA\n",
       "AAAAAAAAAAAAAAAAAAAAAAAAAAAAAAAAAAAAAAAAAAAv3aB7AAAAD3RSTlMAIquJdkTvuxBmmd1U\n",
       "zTKBpmoTAAAACXBIWXMAAA7EAAAOxAGVKw4bAAAAzElEQVQY02NgwABz0+tvp09gwAoKhBiCpjdg\n",
       "lxJmYOdTwCXFJXABRch99+4LcKkCZJlYD4Qupg6QgYzKjg4gAcYbSAY+PysAZIQJsP8ACfAKwKXE\n",
       "bv8GmcCRycC1ASyF5IyZvSCa6wMDtwGI8Ww3EBRApNg7QV5mK2DoDwAJtCPp4ltQAaT7HRjmgwW4\n",
       "kf21ThwkdYBBlwfkAhYHJKl2FqCJ7A48u7jAInfgUlIMnBNKgS5UsRPyA4s0lTbAQr6Qofz+AeTg\n",
       "CK7ejRxyAISENKeL/c93AAAAAElFTkSuQmCC\n",
       "\" style=\"display:inline;vertical-align:middle;\" /></a>, <a class=\"ProveItLink\" href=\"../../numbers/ordering/__pv_it/theorems/6e5cad5b2984ed0d75bd47bd0c542ec447a4f3570/expr.ipynb\"><img src=\"data:image/png;base64,iVBORw0KGgoAAAANSUhEUgAAADEAAAAQBAMAAABNQoq8AAAAMFBMVEX///8AAAAAAAAAAAAAAAAA\n",
       "AAAAAAAAAAAAAAAAAAAAAAAAAAAAAAAAAAAAAAAAAAAv3aB7AAAAD3RSTlMAELvv3c2ZVESJq3Yi\n",
       "MmZ3LnoBAAAACXBIWXMAAA7EAAAOxAGVKw4bAAAA1ElEQVQY02NgQAdPjfRDjB4AGYzKDmhSCqcY\n",
       "uh4JABmsCegyJxmYeBcAGfwFmDJsBwKAjH4BqMgmF5cAuIwCkDEFKtG6EaGHSxBkWtTu5SA+TyCS\n",
       "aZdKDwDd9lVA/gDIIQfgModDvoD0s39kYN4AkkFywTtREM0WwMA/AUhfdgECBYgMkxzIpywTGPpB\n",
       "7hZC0sOboAjxTj7I3SzI/sk9BJK5wGgH4nNvQJIR4gYax/WACRI84XCZYwx8DzSArl6ZBxGQ0hCA\n",
       "hbUOg1I8cph1qkBCBwoAxe43BugJR6MAAAAASUVORK5CYII=\n",
       "\" style=\"display:inline;vertical-align:middle;\" /></a> <a class=\"ProveItLink\" href=\"../__pv_it/demonstrations/53b84c65165d46dcc158f3f4447f1da6ec0c84250/proof.ipynb\" style=\"text-decoration: none\">&nbsp;&#x22A2;&nbsp;&nbsp;</a><a class=\"ProveItLink\" href=\"../__pv_it/demonstrations/15fa7749b20021117dc9ecdfea6958114f96ec210/expr.ipynb\"><img src=\"data:image/png;base64,iVBORw0KGgoAAAANSUhEUgAAAb0AAAAyCAMAAAD/YfXPAAAAM1BMVEX///8AAAAAAAAAAAAAAAAA\n",
       "AAAAAAAAAAAAAAAAAAAAAAAAAAAAAAAAAAAAAAAAAAAAAADxgEwMAAAAEHRSTlMAme8yr2ZEVBDN\n",
       "uyKJdt2r+Y93eAAAAAlwSFlzAAAOxAAADsQBlSsOGwAABcpJREFUeNrtXNmSpCoQFRhkX/7/a68g\n",
       "Ki5oUqWlHVceJjq6C06SB3KlpmnekYYkv0RTH0/hkr9kLYejP4XT7cdTiH3pW5Knm2eyxyW2iynM\n",
       "vnzNBhVN89S7J9ByinYvY7lLweq57Hm2mmLpy9k0rGkey17r+WoKw6/rm+wmbp7LnrYbUwZr+o6m\n",
       "wfou9pTTRu1ffOGMcWzBXuvVS1s/jOc3sdcGfyt34bkXvPtHLa6reAOXwevdoIlIBcch+kC7CQCL\n",
       "3GKzYI99dOIoeZjqvxeIeHITe8jHwzPabS7sNJJQKOYyXi/Y4z7Y21rvd4OLAApEhFz9EbQ7h5ub\n",
       "2MMy8rAbwERu25A1zAMdGW7sJDltTxYQfDBOQk7lkhwWxAt2N7HX3x/qj7M9FOzknD0aXOG4P3Z6\n",
       "DKok7HNnIWOygoWwRzy9jb3AjBMN2wkgg1nv/eOcPR7ExqPJhaGKcatcU6N341YKyoH5d0WqUSDi\n",
       "u8iaz2Eh7Jlbgu9IhTShaIl2rVSonku0kSIGkzHsT9JKZXGrOoXtbxxUDJf0HPZMh2bQHBbCnrzD\n",
       "7aWY0xlNlDN7URN3GtGtBD84viS6whXK4sHBoE5R5GCWAXgU9aXyRoHCKeiLzRMsZG2cG3iFkDi1\n",
       "0acw/bLWUpqi/bg/pCuURUKOidtjdjggKUH6e/Z6gTqlIzeHBbDHPVq4au1PjN9ajy5ij3Zipv2B\n",
       "BR4MVcz+JeUc6CXLXrn9nr1+ocAWm/8OwB7xmXd20RPgM20pby5iLwiO00+8Vlk4uL2W7s9D8lh5\n",
       "/CT2Om9H5QIWQAMbGjDx81Ea94M45nv2gtHAyeMfHiGHLcqV1SLKjD64W+ZQfebTPvFKIIKMWcIC\n",
       "2KN5pcVFadwPii+GfD3Fu7Q/l6J2omXnuDc44dgyCk5rtTF9Aas9vFkJuQicrwYWaIQFsLeRMNh1\n",
       "/lwtHzHUGNEoEWQkAiPV5TPndhG9TPuTydToLrXQjV5vOh5KBbNyyrLBeB2XEBNyEThfDSzQCDut\n",
       "h7IK4qwqrVdrzDxh03wkH4+/CDL2zQAbejzkXIuMRdpf6jco2gi7GQb29QhYahYrczhqQB3GJD1y\n",
       "GThfDSzQCAu4e2jF3kbLoVq+Nja/w2+lm5LKc6s61jb/+h/6sJbwOQD3g0X1/dDluFtsqSOrwG7V\n",
       "z0fkIvBCuUCBRth/xzpwvhxpTXC18nXWV5p40xJ7cdHxUvtPx4w9PL97K0eVWO2UxVQYZctp0Vb2\n",
       "qw4t54BcAJ7n0lCB1NpygtmjbnNXlfI1XFsfU71N9s65eyv2Sp1COC7PP3ps6QfkAjAvAe8KNMIC\n",
       "/N7CcrJwm9Va6kr54rGK4eyF7Nkh5pS5Fd/yDv0jJojXTSamBcacch84Xw0sUE3MqWcHjEQxDN92\n",
       "b3D5WOQpVpgvY2+MWoYEqRhlcItpa0AP53q/oaPtOn6slZCLwPlqYIFoRb5ncuOuLArDluMgoHz9\n",
       "kz2pBt7EFewN+d5wWNty7oysFzBwrSlNpxcdZogJuQycrQYWaIStzdZtHxuse1a18rVdEmh02xCH\n",
       "sePEeewIk/7URvBYa4k15wsGoM55BXJNnZP5a7b+4YA3OXgXcNf2GOqqWT/oMezCgqrUT3pVXtHk\n",
       "mKrUh526zwYFGIoLkGlVf88/6VlyRZMjlNeHzzl2gSwWEqOejzzBQrRgxYPYq2hyhAJt7buWqjvw\n",
       "i3ctu7AQ9m55EFgUBt7kcD5/U3a6/wG/KdOXwUKIof5x38exHnJN5bXvOaFaORc5h4W9CGQPI49A\n",
       "8kIVPvS0h+0n6wGY9T7s6jmQyXi/RRQvK36YPCCP494vr/d1kWfl6xRmCrx5mest1ZMyvlKT4/mx\n",
       "1l2n/UGaKDY5PvGN/4/xnK+1FZscK2v/xizPu3zFJsdiyPfqTUPovyVv+3q93Nvgv2WILHs5y4aR\n",
       "f0na93+6Wia/f8h2tuLla+n6/owxIuJ1eusw7o+UfPlE3n8O+jnEvvLkXAAAAABJRU5ErkJggg==\n",
       "\" style=\"display:inline;vertical-align:middle;\" /></a></span>"
      ],
      "text/plain": [
       "{r in RealPos, c in RealPos, a in Real, b in Real} |- |(r * e^{i * a} * c) - (r * c * e^{i * b})| = (2 * r * c * sin(|a - b| / 2))"
      ]
     },
     "metadata": {},
     "output_type": "display_data"
    }
   ],
   "source": [
    "Abs(subtract(Mult(r, Exp(e, Mult(i, a)), c), \n",
    "             Mult(r, c, Exp(e, Mult(i, b))))).simplification(\n",
    "    assumptions=[InSet(r, RealPos), InSet(c, RealPos), InSet(a, Real), InSet(b, Real)])"
   ]
  },
  {
   "cell_type": "code",
   "execution_count": 28,
   "metadata": {},
   "outputs": [
    {
     "data": {
      "text/html": [
       "<span style=\"font-size:20px;\"><a class=\"ProveItLink\" href=\"../../numbers/number_sets/complex_numbers/__pv_it/theorems/5c9b98ec381ed1eef8437437430dde6add03b8720/expr.ipynb\"><img src=\"data:image/png;base64,iVBORw0KGgoAAAANSUhEUgAAADMAAAAQBAMAAABJt1qBAAAAMFBMVEX///8AAAAAAAAAAAAAAAAA\n",
       "AAAAAAAAAAAAAAAAAAAAAAAAAAAAAAAAAAAAAAAAAAAv3aB7AAAAD3RSTlMAdokyu2YQ3URUqyLN\n",
       "75mYuQMGAAAACXBIWXMAAA7EAAAOxAGVKw4bAAAA5UlEQVQY02NgwAAxV/yPXwkAMxmVDFDlHHYx\n",
       "dIUkgFiubAVoUpsYWJgXABlMDgyfMaT4NhwAMuwbGH5CDHYvr0FIOQAZyxnYvoIEOA4mIHRxpQEN\n",
       "ZPvIwPEDJLAnAclAkzkbgMZ8ZmD8DRI4jbBr7/HvYkCa59eq9RdAAgeQnBGaA6L5HRjyBYA08/Xy\n",
       "8vISqBRLKsjLQPF4kC1sDki6mB+4gaQaGOrAAgXI/nq8BWRgA+c1sIAgslQKI9BErgnpkCDkmQCX\n",
       "2sfAGuABtOPha4gA25I2eMh7M7icn4AUdBwq0ICCAgBvTUGfeJd/4AAAAABJRU5ErkJggg==\n",
       "\" style=\"display:inline;vertical-align:middle;\" /></a> <a class=\"ProveItLink\" href=\"../__pv_it/demonstrations/711099d64dbc8b5b42af5ccb6aa9b48c03a3050e0/proof.ipynb\" style=\"text-decoration: none\">&nbsp;&#x22A2;&nbsp;&nbsp;</a><a class=\"ProveItLink\" href=\"../__pv_it/demonstrations/315133dab94805b4699fb3c6dddd22ce9a9f33be0/expr.ipynb\"><img src=\"data:image/png;base64,iVBORw0KGgoAAAANSUhEUgAAANEAAAAyCAMAAAD1NM7xAAAAM1BMVEX///8AAAAAAAAAAAAAAAAA\n",
       "AAAAAAAAAAAAAAAAAAAAAAAAAAAAAAAAAAAAAAAAAAAAAADxgEwMAAAAEHRSTlMAme8yrxCr3VRm\n",
       "IruJdkTN6VGzdwAAAAlwSFlzAAAOxAAADsQBlSsOGwAAA4pJREFUaN7FmlmWgyAQRRmaGaT2v9oW\n",
       "jFOERGKJfCSHnIhca3oghHRvjl+42Jb7wgnyWJPmytV+KPe5egxJeoJCFLzn275WDwGZSFCInCFC\n",
       "7Wzm5SNAllkUIu/GD+A7L1TmCSIVCAYRh/QFekek2QOhZBhBIZLJ4QSYfaaItD8R8yhEApKph2So\n",
       "LdEAtjdQAIFCFFIEjZ/2LZvH7slBXb9jJoggxwbsvT7pwhMz/EYgDhyHCNziejui6Sdac3RLw+nE\n",
       "dC4kJSMoRNPETTbIXkO4lDFqd0lKKZ51+3NTZRKLKGEoelRFJoVWbTJjUSZOYxJxMATJ64al+uyJ\n",
       "ckLfTybON7WQeqhEASO5ZgKpRwnES8o1uUGFiM4yA4/IIYTRqx7RQG1Ri6dAOhKJlB2U817CNz+a\n",
       "JfypuTK30XeUxo/rJMtM02pi7kKJiCc1mTyEfkxhQtIIDUQC1uGsy3cf6v8egP5CZMYxK16XzPNV\n",
       "J4cWIg5rMZB5ZPbpMkF+IUo3qRCNiZtqgkmkYR2P5QvlD6niC1FyBPZyIZbz+0I0eK8JKpHZ5Jms\n",
       "nUeidg0R+Oc+yGkygilt2gtgE9ExeatC5uHBhBCJjWk2PDJqQ5ANi6pRILHlmdlmZVwiomrT5C4N\n",
       "iXpgrUoloy46Wo2lZ/zjee9kcZrMVM2dudNG9J2opMSHrAQSqZNrDWsQG0qRv/y0plZbj4m4ee68\n",
       "QPR3Rqe++Rh1m3iOqye6kC3yIsp/WowJxbYjYvnxctA2NXGnjd6IzNZCaik+wivIpahIdMJG7OV1\n",
       "v21oNMXR3ut08gd7iI/8UHNW/JVITZOhk5C1d9rIb+ObZwcPB6fQee5p2/VHojkzCMXMEJq3npZJ\n",
       "nsveawRaRVM7boNOawRnZ5bYTCTnyVAFsRFISgZx2sVurbBqCunj/urgQwijDuCSMSm4BCa5dnC+\n",
       "VC6a4equ1SkVNKDtWFSluxjzdTcilCXsN+l+VKo3EhFA2/KsS/ckh/sRqYhFVJfuSTz2I5IMzUZV\n",
       "6S6BdCQygPvuoCTd08q/HxEHjQlUku42/YayLXxuEIa60V6S7qbz2wnKMAdz1QDr1wbEGmuK9obQ\n",
       "l2izaLjaytIdO/d0zHYV6a76vy6//tbyk3R/4K0llpEq0t09caIh+vvGHuCJgzSc3ecYSpMnWnB3\n",
       "jfzQKZrLJ53qPhfJUy3e4hw8PnjAzt1wwkCsQP/XhSIE/oOfYQAAAABJRU5ErkJggg==\n",
       "\" style=\"display:inline;vertical-align:middle;\" /></a></span>"
      ],
      "text/plain": [
       "{theta in Real} |- |e^{i * theta} - 1| = (2 * sin(|theta| / 2))"
      ]
     },
     "metadata": {},
     "output_type": "display_data"
    }
   ],
   "source": [
    "Abs(subtract(Exp(e, Mult(i, theta)), one)).chord_length_simplification(assumptions=[InSet(theta, Real)])"
   ]
  },
  {
   "cell_type": "code",
   "execution_count": 29,
   "metadata": {},
   "outputs": [
    {
     "data": {
      "text/html": [
       "<span style=\"font-size:20px;\"><a class=\"ProveItLink\" href=\"../__pv_it/demonstrations/1294e4ba296032dc32e87ff2174a12fc7b934d990/expr.ipynb\"><img src=\"data:image/png;base64,iVBORw0KGgoAAAANSUhEUgAAAD4AAAATBAMAAAA63aOfAAAAMFBMVEX///8AAAAAAAAAAAAAAAAA\n",
       "AAAAAAAAAAAAAAAAAAAAAAAAAAAAAAAAAAAAAAAAAAAv3aB7AAAAD3RSTlMAMom7Iplm783dEER2\n",
       "VKthCJTuAAAACXBIWXMAAA7EAAAOxAGVKw4bAAAAzElEQVQoz2NgwAMCGPADA3Lk2dqNf0w3w6Of\n",
       "meUB9zMrfPIKDAZyDKzGxsXGZjjkQzgw9R+eObMBLs+MIb/jFJL+V+tg8ozKLEEJQJqlC8l8RtsW\n",
       "mDwTcxBTAZDmcEDIV8yfswAWfm4cE1gVQPJI7lPLaoDzpPgTwLT4TCAwgJpvlYZw136wUQyLkf0n\n",
       "yrwAzo2EUJzI8qwiCK9NglA8B5DkuQyOwXgsv6GMXoR8AEMa8wYoj3sClLHOegEs/j47MFv8xQj3\n",
       "TZYzGzAEAZ+WK4vRwOQ/AAAAAElFTkSuQmCC\n",
       "\" style=\"display:inline;vertical-align:middle;\" /></a>, <a class=\"ProveItLink\" href=\"../../numbers/number_sets/complex_numbers/__pv_it/theorems/5c9b98ec381ed1eef8437437430dde6add03b8720/expr.ipynb\"><img src=\"data:image/png;base64,iVBORw0KGgoAAAANSUhEUgAAADMAAAAQBAMAAABJt1qBAAAAMFBMVEX///8AAAAAAAAAAAAAAAAA\n",
       "AAAAAAAAAAAAAAAAAAAAAAAAAAAAAAAAAAAAAAAAAAAv3aB7AAAAD3RSTlMAdokyu2YQ3URUqyLN\n",
       "75mYuQMGAAAACXBIWXMAAA7EAAAOxAGVKw4bAAAA5UlEQVQY02NgwAAxV/yPXwkAMxmVDFDlHHYx\n",
       "dIUkgFiubAVoUpsYWJgXABlMDgyfMaT4NhwAMuwbGH5CDHYvr0FIOQAZyxnYvoIEOA4mIHRxpQEN\n",
       "ZPvIwPEDJLAnAclAkzkbgMZ8ZmD8DRI4jbBr7/HvYkCa59eq9RdAAgeQnBGaA6L5HRjyBYA08/Xy\n",
       "8vISqBRLKsjLQPF4kC1sDki6mB+4gaQaGOrAAgXI/nq8BWRgA+c1sIAgslQKI9BErgnpkCDkmQCX\n",
       "2sfAGuABtOPha4gA25I2eMh7M7icn4AUdBwq0ICCAgBvTUGfeJd/4AAAAABJRU5ErkJggg==\n",
       "\" style=\"display:inline;vertical-align:middle;\" /></a> <a class=\"ProveItLink\" href=\"../__pv_it/demonstrations/00f2327acff614183cfcbf1c42bd8e8765b0151e0/proof.ipynb\" style=\"text-decoration: none\">&nbsp;&#x22A2;&nbsp;&nbsp;</a><a class=\"ProveItLink\" href=\"../__pv_it/demonstrations/909d49aaab684186f1a16413f0114714fde4900c0/expr.ipynb\"><img src=\"data:image/png;base64,iVBORw0KGgoAAAANSUhEUgAAARYAAAAyCAMAAACu2QTpAAAAM1BMVEX///8AAAAAAAAAAAAAAAAA\n",
       "AAAAAAAAAAAAAAAAAAAAAAAAAAAAAAAAAAAAAAAAAAAAAADxgEwMAAAAEHRSTlMAme8yr4m7ImbN\n",
       "3RBEVHarstITkwAAAAlwSFlzAAAOxAAADsQBlSsOGwAABG5JREFUaN7VW9l2gyAQZSm7wPz/1xZw\n",
       "iRpJGFOs4aE95hBnvMxyLxhCbj0k73FXdXztpCNfMaLuclsxHF9z+xW4REH6whKE4Otrb78AFW1I\n",
       "X1ikJs5uokfE26OimOoLi5DpD/BNUll9d1hsIF1h4ZD/gd/A4tnNy4tmpC8sMeePA70twYbeGxYm\n",
       "+sLiIEfjkENmDcsA6s6oBHB9YQm5qqS/atewza2rru3oXYHBQEwD2J7H+G7roT/nphx4Z1hALpm0\n",
       "gWX8iPYtC4qGfUNpshgZ6QvL+PS6hMaW9cpcipHm9YCanmWGcVsomiyy2B2W/CSWPosBncsNDhaP\n",
       "DK7EI4lMzEBJHCwcNOmdRMPCUrawlJ6NgsW10XEzP5OCfOXzEgQULKFrmywwRJ+YPz+SjjlSGXbx\n",
       "MbDQmV6ncHUYWGTP0jLxFhqoOlTUubhg7KvGyRkWl8uulUJEGNc/YmBhcm2WUnNq40UxjdpYmC8B\n",
       "BwsV7bDwLPRyKlA6Zaxrh8XBqoaVuiRgwMMyAD0Di062MLC0urYkUQ6UWQcvHzZY5LDq6rHcgJ1J\n",
       "K0fOwJKtI6zxVv63IJB6M/XrOtMIiwe/SqhiNv5hEX4DS45VBCzh3d6Vi6wQgQWWQYjl+QJrh0Wv\n",
       "OW5RugmWv6O9gb++hjg6yYVMhU286TNxbM/VyY5Zr6s8bJhjrQGWg/5s4Tl6a47woEMwRJnsDDeM\n",
       "qhAiYvcm6YLipCAylVPxxmE5pkF1cllWVcu0ReU8vkjtasRNL3Cvqs08q+KIK37aRQ3bRFHSDdqT\n",
       "kJnipNLE2PeNZjRSnzwy0xq3UXPBbogW+gTLgaCuOjIU7pphlPFBghC82Vryk5fCbb/kzGoVH3k3\n",
       "CoinyWDmBR2HqDXdCZafBqG4zxgqD+zVHEkJJ0OJjQmW8uUl3OBwbGBh09oNLU1m3qDZTbZ0hsWr\n",
       "PFwtWnhztOxh0fHAXtWRRCUtFMpyCEtDtMyw0JYDkhmW2uTXhpfkbqgtuyTyOQDVc22oOFIWpjSz\n",
       "s7DYyUnbwl/jFMm1yXTUo+rzTiQ29ZEXe+E5CiuO+AJAPpE8CctUch/l8HXbZOTlZGeZHkLtHEMj\n",
       "eEtYkxRlaR62XsT3sJTlkWoGxKBhmXjL0HTIOK33i8nUgqlZp/EknbNjTXze06g5MogQQmKuPDIW\n",
       "HY/AIvcS2ne2cCyXsBNy7VkRNJH/Tyy16uuaMHepmfZQ0Mf9GaGg+27OvRPmSKlI+AebQxq13wL9\n",
       "z/bqwjwLVdSTRn/aC6swsFjTHZa6MM+KrMde7lGw4PZyu56HvBPmEdA7/+KDREbAouGiFwcOhHnZ\n",
       "Me17TrQUa4eDhYO/BJUjYa7yZ5xcPZossmsOyI9OuvWN31mg7BIrslp07jmGKwidjnjF+8/D9mcu\n",
       "x8L8smp/biW7e1cR5vbeL1t2fEnslTC/+Uti3cOlIszl3d/MNeIfjA5w9/fbOfuHcLae3H0EebnJ\n",
       "L3i5vd9PIeopZMg3DHNtSHPzJT8okldKNvdA5RdwoifBUGUTWAAAAABJRU5ErkJggg==\n",
       "\" style=\"display:inline;vertical-align:middle;\" /></a></span>"
      ],
      "text/plain": [
       "{r in RealPos, theta in Real} |- |r - (r * e^{i * theta})| = (2 * r * sin(|theta| / 2))"
      ]
     },
     "metadata": {},
     "output_type": "display_data"
    }
   ],
   "source": [
    "Abs(subtract(r, Mult(r, Exp(e, Mult(i, theta))))).chord_length_simplification(\n",
    "    assumptions=[InSet(r, RealPos), InSet(theta, Real)])"
   ]
  },
  {
   "cell_type": "code",
   "execution_count": 30,
   "metadata": {},
   "outputs": [
    {
     "data": {
      "text/html": [
       "<span style=\"font-size:20px;\"><a class=\"ProveItLink\" href=\"../../numbers/number_sets/complex_numbers/__pv_it/theorems/5c9b98ec381ed1eef8437437430dde6add03b8720/expr.ipynb\"><img src=\"data:image/png;base64,iVBORw0KGgoAAAANSUhEUgAAADMAAAAQBAMAAABJt1qBAAAAMFBMVEX///8AAAAAAAAAAAAAAAAA\n",
       "AAAAAAAAAAAAAAAAAAAAAAAAAAAAAAAAAAAAAAAAAAAv3aB7AAAAD3RSTlMAdokyu2YQ3URUqyLN\n",
       "75mYuQMGAAAACXBIWXMAAA7EAAAOxAGVKw4bAAAA5UlEQVQY02NgwAAxV/yPXwkAMxmVDFDlHHYx\n",
       "dIUkgFiubAVoUpsYWJgXABlMDgyfMaT4NhwAMuwbGH5CDHYvr0FIOQAZyxnYvoIEOA4mIHRxpQEN\n",
       "ZPvIwPEDJLAnAclAkzkbgMZ8ZmD8DRI4jbBr7/HvYkCa59eq9RdAAgeQnBGaA6L5HRjyBYA08/Xy\n",
       "8vISqBRLKsjLQPF4kC1sDki6mB+4gaQaGOrAAgXI/nq8BWRgA+c1sIAgslQKI9BErgnpkCDkmQCX\n",
       "2sfAGuABtOPha4gA25I2eMh7M7icn4AUdBwq0ICCAgBvTUGfeJd/4AAAAABJRU5ErkJggg==\n",
       "\" style=\"display:inline;vertical-align:middle;\" /></a> <a class=\"ProveItLink\" href=\"../__pv_it/demonstrations/e4e87810b6fbfb491bc9dec8fd029bcc8e05ee7a0/proof.ipynb\" style=\"text-decoration: none\">&nbsp;&#x22A2;&nbsp;&nbsp;</a><a class=\"ProveItLink\" href=\"../__pv_it/demonstrations/7ba7852b6a8e5e652b5efd86aae6db4e8958209b0/expr.ipynb\"><img src=\"data:image/png;base64,iVBORw0KGgoAAAANSUhEUgAAAQgAAAAbCAMAAAC3HeFMAAAANlBMVEX///8AAAAAAAAAAAAAAAAA\n",
       "AAAAAAAAAAAAAAAAAAAAAAAAAAAAAAAAAAAAAAAAAAAAAAAAAABHL6OuAAAAEXRSTlMAme8y+fPd\n",
       "EKvNdokiZlS7RHJk47YAAAAJcEhZcwAADsQAAA7EAZUrDhsAAANySURBVFjD3ZiJcuMgDEA5Wg5x\n",
       "mf//2QVxuQ2ucdJs02qmo1AjI551YBPyveI4+aVCL1tIY5SSBxeZ6T8tBbhziZ8Qdhc6Ks55BUm0\n",
       "vG+J3wEibulpx9MUCC79+b8MwskdCCsiiq0XtWuJEfNoHYR9aBf24nW7/6cl9z8uU1NDUmkdGXVh\n",
       "gKAhBw9fXQL8IxxOrc02GW+lhFXdvORCri+Mk2Xaf1JgpalFtILAHyKkmhpXWXtTyivV4aucs8wd\n",
       "Wy+BAGN4H0O9G2r0Uiqq4zoIG/JczjCmAuGlLeA4g8AfOVkoXQQhdbltdjFux/O2SA+tl0CkwiXF\n",
       "GOu656ybl7AOwiZvbE+wQDY1SY0cDGw1+yhaKZzOvpouj61XQJiWr3XsKtesr4OwgXNO22wKZGMT\n",
       "EAky9av1uMxg6IKKV+vmQuqVjXOMtuhHhDDZ9ToIqZig6G8WMjZMduWlg9iM8auO+hLbCiuwihcP\n",
       "p16vgsAFZHQDRHM36WUQkgnvmHpGh6b7YifipDiDA9DE6rw+14xaAAWfrU15RHFSSHDjMgLWmW2A\n",
       "MKrrZRCI014oqRMQVOxE3YYRhi9MDqlIKM9EI6F8nmg/WhuzecMdcH4QEYCxBtmugXC667dVENG1\n",
       "8+JVeTubIHbHADGJuQ1TOQMKeDWw4VC35j63cgL8MDV0VEki23URz7p+n4CQevfgeHtSRcx1EO+n\n",
       "ITM6Jp7DqhdRj3QJUHp1AYGTWujsrNP/d6+DuxvgxmPo+dFA8Nj1amrw6G0W+YQaMbbi9vEg6Hjh\n",
       "FSXzvwbBVUmg2xvkjRcEDvfZQLSGl/RyjZjk7nfViJ4aeES0N+0T6buc4TMQI7HygSIedg2JzbPA\n",
       "6akhul4GQUvPtU+IiFC3xDHv4MYRj9eVm4No1mmnsrwbH9SIfMmXXfRiGbpuXpqzc4wUzG0g4Akg\n",
       "ahOzgma5/dRRvA+2IdAfQLQWSCBbzosYbjz1GllLXgPRWm/SxUulWNTqpCNQETWQJ4DgopZElNvz\n",
       "0WYAIPnOFWNK8lT4Ffch1kMNb+Tw64c6BiEpUPvx3UMM/R++mpwvIR760rlgPX0NzzFIun4JEO6h\n",
       "z5oL1gcg2uta1i8BAvP/fjm3noOwob9BvwoIGR5Z4Nx6DqIBRP0aIIiFR1Y4tf588MYxVA5FvwiI\n",
       "nxf+J5Z4XP4B1ZgigIXw7+EAAAAASUVORK5CYII=\n",
       "\" style=\"display:inline;vertical-align:middle;\" /></a></span>"
      ],
      "text/plain": [
       "{theta in Real} |- |1 - e^{2 * pi * i * theta}| = (2 * sin(pi * |theta|))"
      ]
     },
     "metadata": {},
     "output_type": "display_data"
    }
   ],
   "source": [
    "Abs(subtract(one, Exp(e, Mult(two, pi, i, theta)))).chord_length_simplification(\n",
    "    assumptions=[InSet(r, RealPos), InSet(theta, Real)])"
   ]
  },
  {
   "cell_type": "code",
   "execution_count": 31,
   "metadata": {},
   "outputs": [
    {
     "data": {
      "text/html": [
       "<span style=\"font-size:20px;\"><a class=\"ProveItLink\" href=\"../../numbers/number_sets/complex_numbers/__pv_it/theorems/5c9b98ec381ed1eef8437437430dde6add03b8720/expr.ipynb\"><img src=\"data:image/png;base64,iVBORw0KGgoAAAANSUhEUgAAADMAAAAQBAMAAABJt1qBAAAAMFBMVEX///8AAAAAAAAAAAAAAAAA\n",
       "AAAAAAAAAAAAAAAAAAAAAAAAAAAAAAAAAAAAAAAAAAAv3aB7AAAAD3RSTlMAdokyu2YQ3URUqyLN\n",
       "75mYuQMGAAAACXBIWXMAAA7EAAAOxAGVKw4bAAAA5UlEQVQY02NgwAAxV/yPXwkAMxmVDFDlHHYx\n",
       "dIUkgFiubAVoUpsYWJgXABlMDgyfMaT4NhwAMuwbGH5CDHYvr0FIOQAZyxnYvoIEOA4mIHRxpQEN\n",
       "ZPvIwPEDJLAnAclAkzkbgMZ8ZmD8DRI4jbBr7/HvYkCa59eq9RdAAgeQnBGaA6L5HRjyBYA08/Xy\n",
       "8vISqBRLKsjLQPF4kC1sDki6mB+4gaQaGOrAAgXI/nq8BWRgA+c1sIAgslQKI9BErgnpkCDkmQCX\n",
       "2sfAGuABtOPha4gA25I2eMh7M7icn4AUdBwq0ICCAgBvTUGfeJd/4AAAAABJRU5ErkJggg==\n",
       "\" style=\"display:inline;vertical-align:middle;\" /></a> <a class=\"ProveItLink\" href=\"../__pv_it/demonstrations/07d50a89f72ff1d54633f4c7366cc5be651025af0/proof.ipynb\" style=\"text-decoration: none\">&nbsp;&#x22A2;&nbsp;&nbsp;</a><a class=\"ProveItLink\" href=\"../__pv_it/demonstrations/b8864b325f0c0bb3f2d4c4e16d52758d10a875820/expr.ipynb\"><img src=\"data:image/png;base64,iVBORw0KGgoAAAANSUhEUgAAARgAAAAbCAMAAACQs2CkAAAANlBMVEX///8AAAAAAAAAAAAAAAAA\n",
       "AAAAAAAAAAAAAAAAAAAAAAAAAAAAAAAAAAAAAAAAAAAAAAAAAABHL6OuAAAAEXRSTlMAme8y+fMQ\n",
       "zd2rVGYiu4l2RLeAep0AAAAJcEhZcwAADsQAAA7EAZUrDhsAAAOISURBVFjD5ZiJkuIgEEA5Zrih\n",
       "4f9/dqEJJCoxUXTH3aHK6mDSHC99BUKeb5aT/7jRu3dFCFqLnZss9EtHAV4z48c0drgJqg4HEV4Q\n",
       "KV4y4z8CJsVsDenQZbzNP/ObwFixAeNUwuaWm9I2R0ql91owbm5b7rHbbvunO7nMsLiSoMJZssaV\n",
       "FQz1xbj4K8GAmeJypB7ioB+XMFnl4TK5EiUI51+ez4mwBOUFDF4on2N0OjPOWTAm1JBOpb/H2zF7\n",
       "R/0MGAiB9z4so6E8WqbzZT+coX15wmtOwX4BgxfFuejdZCM0lek8GCHr1GXJKe4/FxPdVz8DJgdH\n",
       "odZ+SyBFHizT5Zlddz5Poh64UjEWdum28eZVwgNgKGprHJLde17cUT8BJrQYsPTtwrlIdmAvnHPa\n",
       "pqdAIhuAyYDplVMbmAFTH2GoodPDcfhE3EQQHK0xmdWCmOiS7Zg+UxTXVhpZARAlbsHEEK6D3RQY\n",
       "U11BY9TX6dEC28iTYHACkewKpm0py+EyBVPGMj2RFqbA0G3sVIOozsECSOJkWSOXjDoADdfqob7W\n",
       "NAhECEIkwDgVVzBBdzlcJqJ0SbwbDFWbpm9NEc0dBoU2EitPopLSpjx4VV+FEE3gFjjfsRhAW4Si\n",
       "18BY2eXXsOC1rZ59A5ivQ2W1cUw1sNuIoaDM4PGuZ+uiuzo3pbwgwHddSSadW2KbLGVYl981v23e\n",
       "HM/wawvPIKlWwNiVFaxgvo+D55qhsXZc7CTJ1b081PqhgsGHummt6vn/zSfwZgAEkXz3pwaGpy5H\n",
       "rsSTcaWJH4ox687s1l4UXT/6VY0c98FwXR3udoACoiKxuKwGpiXdLIfLTEAm21SM6a6EFay7Sdf4\n",
       "xmyJEEMwXb3UM2k3KwlM1hVWdyXV5RAMrfnc/ZDF+EWZoy+DGA+u7Q6Ypi7KjOPCubpSLMFEbMFY\n",
       "3+U4XStmIyh4JZjQssaJ8ksvX/O0tNvjoLob7xoSeQmm5VwomuNAiSByLhOKX3witEyfJdsLoUnC\n",
       "C11Ja5aktufAcLWEWGy35VoMAJD3wjVjWvCcWDQ3PrXCa1GvJ0R6H4ygQN3lt5Na5ZuOjQzMHDuo\n",
       "udPkY/XhsUOxUdLlm8BEOwPGzp0LH6vvgGlfn0X+/YPGMzP6uQO8Q/UxGOf7KcKnghF+aopD9TGY\n",
       "xhPlZ4Ihbq6SOlK//lDAPixcqvxQMD/f+C+Y8Zn2B0y+JUlLaz6JAAAAAElFTkSuQmCC\n",
       "\" style=\"display:inline;vertical-align:middle;\" /></a></span>"
      ],
      "text/plain": [
       "{theta in Real} |- |-e^{2 * pi * i * theta} + 1| = (2 * sin(pi * |theta|))"
      ]
     },
     "metadata": {},
     "output_type": "display_data"
    }
   ],
   "source": [
    "Abs(Add(Neg(Exp(e, Mult(two, pi, i, theta))), one)).chord_length_simplification(\n",
    "    assumptions=[InSet(r, RealPos), InSet(theta, Real)])"
   ]
  },
  {
   "cell_type": "code",
   "execution_count": 32,
   "metadata": {},
   "outputs": [],
   "source": [
    "%end demonstrations"
   ]
  },
  {
   "cell_type": "code",
   "execution_count": null,
   "metadata": {},
   "outputs": [],
   "source": []
  }
 ],
 "metadata": {
  "kernelspec": {
   "display_name": "Python 3",
   "language": "python",
   "name": "python3"
  }
 },
 "nbformat": 4,
 "nbformat_minor": 0
}