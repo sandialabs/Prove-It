{
 "cells": [
  {
   "cell_type": "markdown",
   "metadata": {},
   "source": [
    "Theorems (or conjectures) for the theory of <a class=\"ProveItLink\" href=\"theory.ipynb\">proveit.trigonometry</a>\n",
    "========"
   ]
  },
  {
   "cell_type": "code",
   "execution_count": null,
   "metadata": {},
   "outputs": [],
   "source": [
    "import proveit\n",
    "# Prepare this notebook for defining the theorems of a theory:\n",
    "%theorems_notebook # Keep this at the top following 'import proveit'.\n",
    "from proveit import a, b, r, theta\n",
    "from proveit.logic import Forall, Equals, InSet, Difference\n",
    "from proveit.numbers import Real, RealPos, RealNeg, RealNonNeg, RealNonPos\n",
    "from proveit.numbers import IntervalCC, IntervalOO, IntervalOC, IntervalCO\n",
    "from proveit.numbers import zero, one, two, e, i, pi\n",
    "from proveit.numbers import Add, subtract, Neg, Abs, Mult, Div, Exp\n",
    "from proveit.numbers import Less, LessEq, greater, greater_eq\n",
    "from proveit.trigonometry import Sin, Cos"
   ]
  },
  {
   "cell_type": "code",
   "execution_count": null,
   "metadata": {},
   "outputs": [],
   "source": [
    "%begin theorems"
   ]
  },
  {
   "cell_type": "code",
   "execution_count": null,
   "metadata": {},
   "outputs": [],
   "source": []
  },
  {
   "cell_type": "markdown",
   "metadata": {},
   "source": [
    "### Closure"
   ]
  },
  {
   "cell_type": "code",
   "execution_count": null,
   "metadata": {},
   "outputs": [],
   "source": [
    "real_closure = Forall(theta, InSet(Sin(theta), Real),\n",
    "                      domain=Real)"
   ]
  },
  {
   "cell_type": "markdown",
   "metadata": {},
   "source": [
    "### Trigonometric bounds"
   ]
  },
  {
   "cell_type": "code",
   "execution_count": null,
   "metadata": {},
   "outputs": [],
   "source": [
    "sine_interval = Forall(theta, InSet(Sin(theta), IntervalCC(Neg(one), one)),\n",
    "                      domain=Real)"
   ]
  },
  {
   "cell_type": "code",
   "execution_count": null,
   "metadata": {},
   "outputs": [],
   "source": [
    "sine_nonneg_interval = Forall(theta, InSet(Sin(theta), IntervalCC(zero, one)),\n",
    "                              domain=IntervalCC(zero, pi))"
   ]
  },
  {
   "cell_type": "code",
   "execution_count": null,
   "metadata": {},
   "outputs": [],
   "source": [
    "sine_pos_interval = Forall(theta, InSet(Sin(theta), IntervalOC(zero, one)),\n",
    "                                domain=IntervalOO(zero, pi))"
   ]
  },
  {
   "cell_type": "code",
   "execution_count": null,
   "metadata": {},
   "outputs": [],
   "source": [
    "sine_nonpos_interval = Forall(theta, InSet(Sin(theta), IntervalCC(Neg(one), zero)),\n",
    "                              domain=IntervalCC(Neg(pi), zero))"
   ]
  },
  {
   "cell_type": "code",
   "execution_count": null,
   "metadata": {},
   "outputs": [],
   "source": [
    "sine_neg_interval = Forall(theta, InSet(Sin(theta), IntervalCO(Neg(one), zero)),\n",
    "                           domain=IntervalOO(Neg(pi), zero))"
   ]
  },
  {
   "cell_type": "markdown",
   "metadata": {},
   "source": [
    "Additionally, we could exclude 1 and -1 if we exclude $\\theta = \\pm \\pi / 2$ (e.g., use the set difference)."
   ]
  },
  {
   "cell_type": "markdown",
   "metadata": {},
   "source": [
    "This linear bound of the sine function is easy to see visually in comparing the sine function to a line."
   ]
  },
  {
   "cell_type": "code",
   "execution_count": null,
   "metadata": {},
   "outputs": [],
   "source": [
    "sine_linear_bound = Forall(theta, greater_eq(Sin(Abs(theta)), Div(Mult(two, Abs(theta)), pi)),\n",
    "                           domain=Real, condition=LessEq(Abs(theta), Div(pi, two)))"
   ]
  },
  {
   "cell_type": "code",
   "execution_count": null,
   "metadata": {},
   "outputs": [],
   "source": [
    "sine_linear_bound_pos = Forall(\n",
    "    theta, greater(Sin(theta), Div(Mult(two, theta), pi)),\n",
    "    domain=RealPos, condition=LessEq(theta, Div(pi, two)))"
   ]
  },
  {
   "cell_type": "code",
   "execution_count": null,
   "metadata": {},
   "outputs": [],
   "source": [
    "sine_linear_bound_nonneg = Forall(\n",
    "    theta, greater_eq(Sin(theta), Div(Mult(two, theta), pi)),\n",
    "    domain=RealNonNeg, condition=LessEq(theta, Div(pi, two)))"
   ]
  },
  {
   "cell_type": "code",
   "execution_count": null,
   "metadata": {},
   "outputs": [],
   "source": [
    "sine_linear_bound_neg = Forall(\n",
    "    theta, Less(Sin(theta), Div(Mult(two, theta), pi)),\n",
    "    domain=RealNeg, condition=LessEq(Neg(theta), Div(pi, two)))"
   ]
  },
  {
   "cell_type": "code",
   "execution_count": null,
   "metadata": {},
   "outputs": [],
   "source": [
    "sine_linear_bound_nonpos = Forall(\n",
    "    theta, LessEq(Sin(theta), Div(Mult(two, theta), pi)),\n",
    "    domain=RealNonPos, condition=LessEq(Neg(theta), Div(pi, two)))"
   ]
  },
  {
   "cell_type": "markdown",
   "metadata": {},
   "source": [
    "### Trigonometry theorems related to complex numbers in polar form"
   ]
  },
  {
   "cell_type": "code",
   "execution_count": null,
   "metadata": {},
   "outputs": [],
   "source": [
    "complex_unit_circle_chord_length = Forall(\n",
    "    (a, b), Equals(Abs(subtract(Exp(e, Mult(i, a)), Exp(e, Mult(i, b)))), \n",
    "                   Mult(two, Sin(Div(Abs(subtract(a, b)), two)))),\n",
    "    domain=Real)"
   ]
  },
  {
   "cell_type": "code",
   "execution_count": null,
   "metadata": {},
   "outputs": [],
   "source": [
    "complex_circle_chord_length = Forall(\n",
    "    r, Forall((a, b), Equals(Abs(subtract(Mult(r, Exp(e, Mult(i, a))), \n",
    "                                          Mult(r, Exp(e, Mult(i, b))))), \n",
    "                             Mult(two, r, Sin(Div(Abs(subtract(a, b)), two)))),\n",
    "              domain=Real),\n",
    "    domain=RealNonNeg)"
   ]
  },
  {
   "cell_type": "code",
   "execution_count": null,
   "metadata": {},
   "outputs": [],
   "source": [
    "%end theorems"
   ]
  },
  {
   "cell_type": "code",
   "execution_count": null,
   "metadata": {},
   "outputs": [],
   "source": []
  }
 ],
 "metadata": {
  "kernelspec": {
   "display_name": "Python 3",
   "language": "python",
   "name": "python3"
  }
 },
 "nbformat": 4,
 "nbformat_minor": 0
}
