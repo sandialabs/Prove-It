{
 "cells": [
  {
   "cell_type": "markdown",
   "metadata": {},
   "source": [
    "Show the Proof\n",
    "========"
   ]
  },
  {
   "cell_type": "code",
   "execution_count": 1,
   "metadata": {},
   "outputs": [
    {
     "data": {
      "text/html": [
       "<table><tr><th>&nbsp;</th><th>step type</th><th>requirements</th><th>statement</th></tr>\n",
       "<tr><td><a name=\"proveit.trigonometry.demonstrations.21ca08f680c5b475ba5f20ed73a5ea992e3893a00_step0\">0</a></td><td>instantiation</td><td><a href=\"#proveit.trigonometry.demonstrations.21ca08f680c5b475ba5f20ed73a5ea992e3893a00_step1\">1</a>, <a href=\"#proveit.trigonometry.demonstrations.21ca08f680c5b475ba5f20ed73a5ea992e3893a00_step2\">2</a></td><td><span style=\"font-size:20px;\"><a class=\"ProveItLink\" href=\"../../theorems/6c480b5b7b83da4785d9ba6b852ad31bb3f5ebd40/expr.ipynb\"><img src=\"../../theorems/6c480b5b7b83da4785d9ba6b852ad31bb3f5ebd40/expr.png\" style=\"display:inline;vertical-align:middle;\" /></a> <a class=\"ProveItLink\" href=\"proof.ipynb\" style=\"text-decoration: none\">&nbsp;&#x22A2;&nbsp;&nbsp;</a><a class=\"ProveItLink\" href=\"../../theorems/34278941668c514548ff6526302f1c3c0dfcd6af0/expr.ipynb\"><img src=\"../../theorems/34278941668c514548ff6526302f1c3c0dfcd6af0/expr.png\" style=\"display:inline;vertical-align:middle;\" /></a></span></td></tr>\n",
       "<tr><td>&nbsp;</td><td colspan=4 style=\"text-align:left\"><span style=\"font-size:20px;\"><a class=\"ProveItLink\" href=\"../../../../__pv_it/common/b011a4fec64a1c824cf176959ebc716edbf098a10/expr.ipynb\"><img src=\"../../../../__pv_it/common/b011a4fec64a1c824cf176959ebc716edbf098a10/expr.png\" style=\"display:inline;vertical-align:middle;\" /></a> : <a class=\"ProveItLink\" href=\"../../../../__pv_it/common/b011a4fec64a1c824cf176959ebc716edbf098a10/expr.ipynb\"><img src=\"../../../../__pv_it/common/b011a4fec64a1c824cf176959ebc716edbf098a10/expr.png\" style=\"display:inline;vertical-align:middle;\" /></a></span></td></tr><tr><td><a name=\"proveit.trigonometry.demonstrations.21ca08f680c5b475ba5f20ed73a5ea992e3893a00_step1\">1</a></td><td>theorem</td><td></td><td><span style=\"font-size:20px;\"> <a class=\"ProveItLink\" href=\"../../../_theory_nbs_/proofs/sine_linear_bound_by_arg_nonneg/thm_proof.ipynb\" style=\"text-decoration: none\">&nbsp;&#x22A2;&nbsp;&nbsp;</a><a class=\"ProveItLink\" href=\"../../theorems/e3a4349c3f3e15301e1b7c3193f7fd7292242c480/expr.ipynb\"><img src=\"../../theorems/e3a4349c3f3e15301e1b7c3193f7fd7292242c480/expr.png\" style=\"display:inline;vertical-align:middle;\" /></a></span></td></tr>\n",
       "<tr><td>&nbsp;</td><td colspan=4 style-\"text-align:left\"><a class=\"ProveItLink\" href=\"../../../_theory_nbs_/proofs/sine_linear_bound_by_arg_nonneg/thm_proof.ipynb\">proveit.trigonometry.sine_linear_bound_by_arg_nonneg</a></td></tr><tr><td><a name=\"proveit.trigonometry.demonstrations.21ca08f680c5b475ba5f20ed73a5ea992e3893a00_step2\">2</a></td><td>assumption</td><td></td><td><span style=\"font-size:20px;\"><a class=\"ProveItLink\" href=\"../../theorems/6c480b5b7b83da4785d9ba6b852ad31bb3f5ebd40/expr.ipynb\"><img src=\"../../theorems/6c480b5b7b83da4785d9ba6b852ad31bb3f5ebd40/expr.png\" style=\"display:inline;vertical-align:middle;\" /></a> <a class=\"ProveItLink\" href=\"../705547c7c96cbb8b925fa4cc11e3dd0955c6600b0/proof.ipynb\" style=\"text-decoration: none\">&nbsp;&#x22A2;&nbsp;&nbsp;</a><a class=\"ProveItLink\" href=\"../../theorems/6c480b5b7b83da4785d9ba6b852ad31bb3f5ebd40/expr.ipynb\"><img src=\"../../theorems/6c480b5b7b83da4785d9ba6b852ad31bb3f5ebd40/expr.png\" style=\"display:inline;vertical-align:middle;\" /></a></span></td></tr>\n",
       "</table>"
      ],
      "text/plain": [
       "<proveit._core_.proof._ShowProof at 0x7f0c7d83c668>"
      ]
     },
     "execution_count": 1,
     "metadata": {},
     "output_type": "execute_result"
    }
   ],
   "source": [
    "import proveit\n",
    "# Automation is not needed when only showing a stored proof:\n",
    "proveit.defaults.automation = False # This will speed things up.\n",
    "proveit.defaults.inline_pngs = False # Makes files smaller.\n",
    "%show_proof"
   ]
  },
  {
   "cell_type": "code",
   "execution_count": null,
   "metadata": {},
   "outputs": [],
   "source": []
  }
 ],
 "metadata": {
  "kernelspec": {
   "display_name": "Python 3",
   "language": "python",
   "name": "python3"
  }
 },
 "nbformat": 4,
 "nbformat_minor": 0
}