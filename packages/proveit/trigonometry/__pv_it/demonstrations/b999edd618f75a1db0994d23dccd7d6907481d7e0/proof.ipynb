{
 "cells": [
  {
   "cell_type": "markdown",
   "metadata": {},
   "source": [
    "Show the Proof\n",
    "========"
   ]
  },
  {
   "cell_type": "code",
   "execution_count": 1,
   "metadata": {},
   "outputs": [
    {
     "data": {
      "text/html": [
       "<table><tr><th>&nbsp;</th><th>step type</th><th>requirements</th><th>statement</th></tr>\n",
       "<tr><td><a name=\"proveit.trigonometry.demonstrations.b999edd618f75a1db0994d23dccd7d6907481d7e0_step0\">0</a></td><td>instantiation</td><td><a href=\"#proveit.trigonometry.demonstrations.b999edd618f75a1db0994d23dccd7d6907481d7e0_step1\">1</a>, <a href=\"#proveit.trigonometry.demonstrations.b999edd618f75a1db0994d23dccd7d6907481d7e0_step2\">2</a></td><td><span style=\"font-size:20px;\"><a class=\"ProveItLink\" href=\"../../theorems/05c379420f103398b04164edc1436084b56e6e240/expr.ipynb\"><img src=\"../../theorems/05c379420f103398b04164edc1436084b56e6e240/expr.png\" style=\"display:inline;vertical-align:middle;\" /></a> <a class=\"ProveItLink\" href=\"proof.ipynb\" style=\"text-decoration: none\">&nbsp;&#x22A2;&nbsp;&nbsp;</a><a class=\"ProveItLink\" href=\"../../theorems/e6052ca709dc768f5c0788c0f9468d7c9a61c5260/expr.ipynb\"><img src=\"../../theorems/e6052ca709dc768f5c0788c0f9468d7c9a61c5260/expr.png\" style=\"display:inline;vertical-align:middle;\" /></a></span></td></tr>\n",
       "<tr><td>&nbsp;</td><td colspan=4 style=\"text-align:left\"><span style=\"font-size:20px;\"><a class=\"ProveItLink\" href=\"../../../../__pv_it/common/b011a4fec64a1c824cf176959ebc716edbf098a10/expr.ipynb\"><img src=\"../../../../__pv_it/common/b011a4fec64a1c824cf176959ebc716edbf098a10/expr.png\" style=\"display:inline;vertical-align:middle;\" /></a> : <a class=\"ProveItLink\" href=\"../../../../__pv_it/common/b011a4fec64a1c824cf176959ebc716edbf098a10/expr.ipynb\"><img src=\"../../../../__pv_it/common/b011a4fec64a1c824cf176959ebc716edbf098a10/expr.png\" style=\"display:inline;vertical-align:middle;\" /></a></span></td></tr><tr><td><a name=\"proveit.trigonometry.demonstrations.b999edd618f75a1db0994d23dccd7d6907481d7e0_step1\">1</a></td><td>theorem</td><td></td><td><span style=\"font-size:20px;\"> <a class=\"ProveItLink\" href=\"../../../_theory_nbs_/proofs/sine_nonneg_interval/thm_proof.ipynb\" style=\"text-decoration: none\">&nbsp;&#x22A2;&nbsp;&nbsp;</a><a class=\"ProveItLink\" href=\"../../theorems/abd87a067b28895a3ccd20463392bcd8ce74b23b0/expr.ipynb\"><img src=\"../../theorems/abd87a067b28895a3ccd20463392bcd8ce74b23b0/expr.png\" style=\"display:inline;vertical-align:middle;\" /></a></span></td></tr>\n",
       "<tr><td>&nbsp;</td><td colspan=4 style-\"text-align:left\"><a class=\"ProveItLink\" href=\"../../../_theory_nbs_/proofs/sine_nonneg_interval/thm_proof.ipynb\">proveit.trigonometry.sine_nonneg_interval</a></td></tr><tr><td><a name=\"proveit.trigonometry.demonstrations.b999edd618f75a1db0994d23dccd7d6907481d7e0_step2\">2</a></td><td>assumption</td><td></td><td><span style=\"font-size:20px;\"><a class=\"ProveItLink\" href=\"../../theorems/05c379420f103398b04164edc1436084b56e6e240/expr.ipynb\"><img src=\"../../theorems/05c379420f103398b04164edc1436084b56e6e240/expr.png\" style=\"display:inline;vertical-align:middle;\" /></a> <a class=\"ProveItLink\" href=\"../87e8d67da4f0de44c7944e19a61dd7566c16492c0/proof.ipynb\" style=\"text-decoration: none\">&nbsp;&#x22A2;&nbsp;&nbsp;</a><a class=\"ProveItLink\" href=\"../../theorems/05c379420f103398b04164edc1436084b56e6e240/expr.ipynb\"><img src=\"../../theorems/05c379420f103398b04164edc1436084b56e6e240/expr.png\" style=\"display:inline;vertical-align:middle;\" /></a></span></td></tr>\n",
       "</table>"
      ],
      "text/plain": [
       "<proveit._core_.proof._ShowProof at 0x7f214006f240>"
      ]
     },
     "execution_count": 1,
     "metadata": {},
     "output_type": "execute_result"
    }
   ],
   "source": [
    "import proveit\n",
    "# Automation is not needed when only showing a stored proof:\n",
    "proveit.defaults.automation = False # This will speed things up.\n",
    "proveit.defaults.inline_pngs = False # Makes files smaller.\n",
    "%show_proof"
   ]
  },
  {
   "cell_type": "code",
   "execution_count": null,
   "metadata": {},
   "outputs": [],
   "source": []
  }
 ],
 "metadata": {
  "kernelspec": {
   "display_name": "Python 3",
   "language": "python",
   "name": "python3"
  }
 },
 "nbformat": 4,
 "nbformat_minor": 0
}