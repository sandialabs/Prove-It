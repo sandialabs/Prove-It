{
 "cells": [
  {
   "cell_type": "markdown",
   "metadata": {},
   "source": [
    "Show the Proof\n",
    "========"
   ]
  },
  {
   "cell_type": "code",
   "execution_count": 1,
   "metadata": {},
   "outputs": [
    {
     "data": {
      "text/html": [
       "<table><tr><th>&nbsp;</th><th>step type</th><th>requirements</th><th>statement</th></tr>\n",
       "<tr><td><a name=\"proveit.trigonometry.demonstrations.a9515a6a1fa56d54a66406d5dcc5e051f4f915290_step0\">0</a></td><td>instantiation</td><td><a href=\"#proveit.trigonometry.demonstrations.a9515a6a1fa56d54a66406d5dcc5e051f4f915290_step1\">1</a>, <a href=\"#proveit.trigonometry.demonstrations.a9515a6a1fa56d54a66406d5dcc5e051f4f915290_step2\">2</a></td><td><span style=\"font-size:20px;\"><a class=\"ProveItLink\" href=\"../../theorems/16b606d8365dae683e59ca7a9207aaf7c94fc4820/expr.ipynb\"><img src=\"../../theorems/16b606d8365dae683e59ca7a9207aaf7c94fc4820/expr.png\" style=\"display:inline;vertical-align:middle;\" /></a> <a class=\"ProveItLink\" href=\"proof.ipynb\" style=\"text-decoration: none\">&nbsp;&#x22A2;&nbsp;&nbsp;</a><a class=\"ProveItLink\" href=\"../../theorems/6693685c18a55e6e0818e77cd2ba01c6a2461ff90/expr.ipynb\"><img src=\"../../theorems/6693685c18a55e6e0818e77cd2ba01c6a2461ff90/expr.png\" style=\"display:inline;vertical-align:middle;\" /></a></span></td></tr>\n",
       "<tr><td>&nbsp;</td><td colspan=4 style=\"text-align:left\"><span style=\"font-size:20px;\"><a class=\"ProveItLink\" href=\"../../../../__pv_it/common/b011a4fec64a1c824cf176959ebc716edbf098a10/expr.ipynb\"><img src=\"../../../../__pv_it/common/b011a4fec64a1c824cf176959ebc716edbf098a10/expr.png\" style=\"display:inline;vertical-align:middle;\" /></a> : <a class=\"ProveItLink\" href=\"../../../../__pv_it/common/b011a4fec64a1c824cf176959ebc716edbf098a10/expr.ipynb\"><img src=\"../../../../__pv_it/common/b011a4fec64a1c824cf176959ebc716edbf098a10/expr.png\" style=\"display:inline;vertical-align:middle;\" /></a></span></td></tr><tr><td><a name=\"proveit.trigonometry.demonstrations.a9515a6a1fa56d54a66406d5dcc5e051f4f915290_step1\">1</a></td><td>theorem</td><td></td><td><span style=\"font-size:20px;\"> <a class=\"ProveItLink\" href=\"../../../_theory_nbs_/proofs/sine_nonpos_interval/thm_proof.ipynb\" style=\"text-decoration: none\">&nbsp;&#x22A2;&nbsp;&nbsp;</a><a class=\"ProveItLink\" href=\"../../theorems/ed610ba505cb21e2e218cad645c135d1660e336a0/expr.ipynb\"><img src=\"../../theorems/ed610ba505cb21e2e218cad645c135d1660e336a0/expr.png\" style=\"display:inline;vertical-align:middle;\" /></a></span></td></tr>\n",
       "<tr><td>&nbsp;</td><td colspan=4 style-\"text-align:left\"><a class=\"ProveItLink\" href=\"../../../_theory_nbs_/proofs/sine_nonpos_interval/thm_proof.ipynb\">proveit.trigonometry.sine_nonpos_interval</a></td></tr><tr><td><a name=\"proveit.trigonometry.demonstrations.a9515a6a1fa56d54a66406d5dcc5e051f4f915290_step2\">2</a></td><td>assumption</td><td></td><td><span style=\"font-size:20px;\"><a class=\"ProveItLink\" href=\"../../theorems/16b606d8365dae683e59ca7a9207aaf7c94fc4820/expr.ipynb\"><img src=\"../../theorems/16b606d8365dae683e59ca7a9207aaf7c94fc4820/expr.png\" style=\"display:inline;vertical-align:middle;\" /></a> <a class=\"ProveItLink\" href=\"../dc48fe3ab103e9e3a91e209d78dab7284ead28dd0/proof.ipynb\" style=\"text-decoration: none\">&nbsp;&#x22A2;&nbsp;&nbsp;</a><a class=\"ProveItLink\" href=\"../../theorems/16b606d8365dae683e59ca7a9207aaf7c94fc4820/expr.ipynb\"><img src=\"../../theorems/16b606d8365dae683e59ca7a9207aaf7c94fc4820/expr.png\" style=\"display:inline;vertical-align:middle;\" /></a></span></td></tr>\n",
       "</table>"
      ],
      "text/plain": [
       "<proveit._core_.proof._ShowProof at 0x7f0c7c2a46d8>"
      ]
     },
     "execution_count": 1,
     "metadata": {},
     "output_type": "execute_result"
    }
   ],
   "source": [
    "import proveit\n",
    "# Automation is not needed when only showing a stored proof:\n",
    "proveit.defaults.automation = False # This will speed things up.\n",
    "proveit.defaults.inline_pngs = False # Makes files smaller.\n",
    "%show_proof"
   ]
  },
  {
   "cell_type": "code",
   "execution_count": null,
   "metadata": {},
   "outputs": [],
   "source": []
  }
 ],
 "metadata": {
  "kernelspec": {
   "display_name": "Python 3",
   "language": "python",
   "name": "python3"
  }
 },
 "nbformat": 4,
 "nbformat_minor": 0
}