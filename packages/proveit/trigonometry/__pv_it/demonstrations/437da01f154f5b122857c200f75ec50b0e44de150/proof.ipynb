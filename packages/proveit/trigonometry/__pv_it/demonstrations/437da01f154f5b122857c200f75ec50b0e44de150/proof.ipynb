{
 "cells": [
  {
   "cell_type": "markdown",
   "metadata": {},
   "source": [
    "Show the Proof\n",
    "========"
   ]
  },
  {
   "cell_type": "code",
   "execution_count": 1,
   "metadata": {},
   "outputs": [
    {
     "data": {
      "text/html": [
       "<table><tr><th>&nbsp;</th><th>step type</th><th>requirements</th><th>statement</th></tr>\n",
       "<tr><td><a name=\"proveit.trigonometry.demonstrations.437da01f154f5b122857c200f75ec50b0e44de150_step0\">0</a></td><td>instantiation</td><td><a href=\"#proveit.trigonometry.demonstrations.437da01f154f5b122857c200f75ec50b0e44de150_step1\">1</a>, <a href=\"#proveit.trigonometry.demonstrations.437da01f154f5b122857c200f75ec50b0e44de150_step2\">2</a></td><td><span style=\"font-size:20px;\"><a class=\"ProveItLink\" href=\"../33676741ebe0e97f8c10d86ac4d974ec77ad76de0/expr.ipynb\"><img src=\"../33676741ebe0e97f8c10d86ac4d974ec77ad76de0/expr.png\" style=\"display:inline;vertical-align:middle;\" /></a> <a class=\"ProveItLink\" href=\"proof.ipynb\" style=\"text-decoration: none\">&nbsp;&#x22A2;&nbsp;&nbsp;</a><a class=\"ProveItLink\" href=\"../../theorems/20ae885e0e275bb4505b1fa634c3608107102de30/expr.ipynb\"><img src=\"../../theorems/20ae885e0e275bb4505b1fa634c3608107102de30/expr.png\" style=\"display:inline;vertical-align:middle;\" /></a></span></td></tr>\n",
       "<tr><td>&nbsp;</td><td colspan=4 style=\"text-align:left\"><span style=\"font-size:20px;\"><a class=\"ProveItLink\" href=\"../../../../__pv_it/common/a0d9d672aa5e272d907247690c152cc2c6daafb70/expr.ipynb\"><img src=\"../../../../__pv_it/common/a0d9d672aa5e272d907247690c152cc2c6daafb70/expr.png\" style=\"display:inline;vertical-align:middle;\" /></a> : <a class=\"ProveItLink\" href=\"../../theorems/f39be49446d9d53fbe56d9e516f35704ce55a4ab0/expr.ipynb\"><img src=\"../../theorems/f39be49446d9d53fbe56d9e516f35704ce55a4ab0/expr.png\" style=\"display:inline;vertical-align:middle;\" /></a>, <a class=\"ProveItLink\" href=\"../../../../__pv_it/common/ff7dba4ef0bbe791ab573bf2d9c220a304399ac80/expr.ipynb\"><img src=\"../../../../__pv_it/common/ff7dba4ef0bbe791ab573bf2d9c220a304399ac80/expr.png\" style=\"display:inline;vertical-align:middle;\" /></a> : <a class=\"ProveItLink\" href=\"../../theorems/77e4e33a42c0072978d4eed67130b3f6e89830a10/expr.ipynb\"><img src=\"../../theorems/77e4e33a42c0072978d4eed67130b3f6e89830a10/expr.png\" style=\"display:inline;vertical-align:middle;\" /></a></span></td></tr><tr><td><a name=\"proveit.trigonometry.demonstrations.437da01f154f5b122857c200f75ec50b0e44de150_step1\">1</a></td><td>theorem</td><td></td><td><span style=\"font-size:20px;\"> <a class=\"ProveItLink\" href=\"../../../../numbers/ordering/_theory_nbs_/proofs/relax_less/thm_proof.ipynb\" style=\"text-decoration: none\">&nbsp;&#x22A2;&nbsp;&nbsp;</a><a class=\"ProveItLink\" href=\"../../../../numbers/ordering/__pv_it/theorems/e31e463cf2805f510e0c2c78f9eb78535b1640d20/expr.ipynb\"><img src=\"../../../../numbers/ordering/__pv_it/theorems/e31e463cf2805f510e0c2c78f9eb78535b1640d20/expr.png\" style=\"display:inline;vertical-align:middle;\" /></a></span></td></tr>\n",
       "<tr><td>&nbsp;</td><td colspan=4 style-\"text-align:left\"><a class=\"ProveItLink\" href=\"../../../../numbers/ordering/_theory_nbs_/proofs/relax_less/thm_proof.ipynb\">proveit.numbers.ordering.relax_less</a></td></tr><tr><td><a name=\"proveit.trigonometry.demonstrations.437da01f154f5b122857c200f75ec50b0e44de150_step2\">2</a></td><td>assumption</td><td></td><td><span style=\"font-size:20px;\"><a class=\"ProveItLink\" href=\"../33676741ebe0e97f8c10d86ac4d974ec77ad76de0/expr.ipynb\"><img src=\"../33676741ebe0e97f8c10d86ac4d974ec77ad76de0/expr.png\" style=\"display:inline;vertical-align:middle;\" /></a> <a class=\"ProveItLink\" href=\"../38048cb2a0250c915ab9d3ce5a9fce1e4337c0d90/proof.ipynb\" style=\"text-decoration: none\">&nbsp;&#x22A2;&nbsp;&nbsp;</a><a class=\"ProveItLink\" href=\"../33676741ebe0e97f8c10d86ac4d974ec77ad76de0/expr.ipynb\"><img src=\"../33676741ebe0e97f8c10d86ac4d974ec77ad76de0/expr.png\" style=\"display:inline;vertical-align:middle;\" /></a></span></td></tr>\n",
       "</table>"
      ],
      "text/plain": [
       "<proveit._core_.proof._ShowProof at 0x7fa29a312048>"
      ]
     },
     "execution_count": 1,
     "metadata": {},
     "output_type": "execute_result"
    }
   ],
   "source": [
    "import proveit\n",
    "# Automation is not needed when only showing a stored proof:\n",
    "proveit.defaults.automation = False # This will speed things up.\n",
    "proveit.defaults.inline_pngs = False # Makes files smaller.\n",
    "%show_proof"
   ]
  },
  {
   "cell_type": "code",
   "execution_count": null,
   "metadata": {},
   "outputs": [],
   "source": []
  }
 ],
 "metadata": {
  "kernelspec": {
   "display_name": "Python 3",
   "language": "python",
   "name": "python3"
  }
 },
 "nbformat": 4,
 "nbformat_minor": 0
}