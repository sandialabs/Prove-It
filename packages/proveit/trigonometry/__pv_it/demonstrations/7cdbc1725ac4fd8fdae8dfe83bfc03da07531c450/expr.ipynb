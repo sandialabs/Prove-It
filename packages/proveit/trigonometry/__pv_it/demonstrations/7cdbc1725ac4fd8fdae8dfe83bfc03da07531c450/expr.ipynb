{
 "cells": [
  {
   "cell_type": "markdown",
   "metadata": {},
   "source": [
    "Expression of type <a class=\"ProveItLink\" href=\"../../../../../../doc/html/api/proveit.ExprTuple.html\">ExprTuple</a>\n",
    "=======================\n",
    "# from the theory of <a class=\"ProveItLink\" href=\"../../../_theory_nbs_/theory.ipynb\">proveit.trigonometry</a>"
   ]
  },
  {
   "cell_type": "code",
   "execution_count": 1,
   "metadata": {},
   "outputs": [],
   "source": [
    "import proveit\n",
    "# Automation is not needed when building an expression:\n",
    "proveit.defaults.automation = False # This will speed things up.\n",
    "proveit.defaults.inline_pngs = False # Makes files smaller.\n",
    "%load_expr # Load the stored expression as 'stored_expr'\n",
    "# import Expression classes needed to build the expression\n",
    "from proveit import ExprTuple, theta\n",
    "from proveit.numbers import Abs, Exp, Mult, e, frac, i, one, pi, subtract, two, zero\n",
    "from proveit.trigonometry import Sin"
   ]
  },
  {
   "cell_type": "code",
   "execution_count": 2,
   "metadata": {},
   "outputs": [
    {
     "data": {
      "text/html": [
       "<strong id=\"expr\">expr:</strong> <a class=\"ProveItLink\" href=\"expr.ipynb\"><img src=\"expr.png\" style=\"display:inline;vertical-align:middle;\" /></a><br>"
      ],
      "text/plain": [
       "<IPython.core.display.HTML object>"
      ]
     },
     "metadata": {},
     "output_type": "display_data"
    }
   ],
   "source": [
    "# build up the expression from sub-expressions\n",
    "expr = ExprTuple(Abs(subtract(one, Exp(e, Mult(two, pi, i, theta)))), Mult(two, Sin(frac(Abs(subtract(zero, Mult(two, pi, theta))), two))))"
   ]
  },
  {
   "cell_type": "code",
   "execution_count": 3,
   "metadata": {},
   "outputs": [
    {
     "name": "stdout",
     "output_type": "stream",
     "text": [
      "Passed sanity check: expr matches stored_expr\n"
     ]
    }
   ],
   "source": [
    "# check that the built expression is the same as the stored expression\n",
    "assert expr == stored_expr\n",
    "assert expr._style_id == stored_expr._style_id\n",
    "print(\"Passed sanity check: expr matches stored_expr\")"
   ]
  },
  {
   "cell_type": "code",
   "execution_count": 4,
   "metadata": {},
   "outputs": [
    {
     "name": "stdout",
     "output_type": "stream",
     "text": [
      "\\left(\\left|1 - \\mathsf{e}^{2 \\cdot \\pi \\cdot \\mathsf{i} \\cdot \\theta}\\right|, 2 \\cdot \\sin{\\frac{\\left|0 - \\left(2 \\cdot \\pi \\cdot \\theta\\right)\\right|}{2}}\\right)\n"
     ]
    }
   ],
   "source": [
    "# Show the LaTeX representation of the expression for convenience if you need it.\n",
    "print(stored_expr.latex())"
   ]
  },
  {
   "cell_type": "code",
   "execution_count": 5,
   "metadata": {},
   "outputs": [
    {
     "data": {
      "text/html": [
       "<table>\n",
       "<tr><th>name</th><th>description</th><th>default</th><th>current value</th><th>related methods</th></tr><tr><td>wrap_positions</td><td>position(s) at which wrapping is to occur; 'n' is after the nth comma.</td><td>()</td><td>()</td><td>('with_wrapping_at',)</td></tr>\n",
       "<tr><td>justification</td><td>if any wrap positions are set, justify to the 'left', 'center', or 'right'</td><td>left</td><td>left</td><td>('with_justification',)</td></tr>\n",
       "</table>\n"
      ],
      "text/plain": [
       "style name: wrap_positions\n",
       "description: position(s) at which wrapping is to occur; 'n' is after the nth comma.\n",
       "default: ()\n",
       "current value: ()\n",
       "related methods: ('with_wrapping_at',)\n",
       "style name: justification\n",
       "description: if any wrap positions are set, justify to the 'left', 'center', or 'right'\n",
       "default: left\n",
       "current value: left\n",
       "related methods: ('with_justification',)"
      ]
     },
     "metadata": {},
     "output_type": "display_data"
    }
   ],
   "source": [
    "stored_expr.style_options()"
   ]
  },
  {
   "cell_type": "code",
   "execution_count": 6,
   "metadata": {},
   "outputs": [
    {
     "data": {
      "text/html": [
       "<table><tr><th>&nbsp;</th><th>core type</th><th>sub-expressions</th><th>expression</th></tr>\n",
       "<tr><td>0</td><td>ExprTuple</td><td>1, 2</td><td><a class=\"ProveItLink\" href=\"expr.ipynb\"><img src=\"expr.png\" style=\"display:inline;vertical-align:middle;\" /></a></td></tr>\n",
       "<tr><td>1</td><td>Operation</td><td>operator:&nbsp;20<br>operand:&nbsp;5<br></td><td><a class=\"ProveItLink\" href=\"../ffeb2fbb2c4aac5a29756deeeca4eaba9ce051780/expr.ipynb\"><img src=\"../ffeb2fbb2c4aac5a29756deeeca4eaba9ce051780/expr.png\" style=\"display:inline;vertical-align:middle;\" /></a></td></tr>\n",
       "<tr><td>2</td><td>Operation</td><td>operator:&nbsp;34<br>operands:&nbsp;4<br></td><td><a class=\"ProveItLink\" href=\"../51c12abc6192016c9ba597e623eb52a7175b43670/expr.ipynb\"><img src=\"../51c12abc6192016c9ba597e623eb52a7175b43670/expr.png\" style=\"display:inline;vertical-align:middle;\" /></a></td></tr>\n",
       "<tr><td>3</td><td>ExprTuple</td><td>5</td><td><a class=\"ProveItLink\" href=\"../35669c64af9f218c3165be9b260dd7825204b52d0/expr.ipynb\"><img src=\"../35669c64af9f218c3165be9b260dd7825204b52d0/expr.png\" style=\"display:inline;vertical-align:middle;\" /></a></td></tr>\n",
       "<tr><td>4</td><td>ExprTuple</td><td>36, 6</td><td><a class=\"ProveItLink\" href=\"../e68bb4e9e91e3cec66223396037e985de1fe4b560/expr.ipynb\"><img src=\"../e68bb4e9e91e3cec66223396037e985de1fe4b560/expr.png\" style=\"display:inline;vertical-align:middle;\" /></a></td></tr>\n",
       "<tr><td>5</td><td>Operation</td><td>operator:&nbsp;26<br>operands:&nbsp;7<br></td><td><a class=\"ProveItLink\" href=\"../3454321f57ca20f3f0a1f86752271985dfcb50c50/expr.ipynb\"><img src=\"../3454321f57ca20f3f0a1f86752271985dfcb50c50/expr.png\" style=\"display:inline;vertical-align:middle;\" /></a></td></tr>\n",
       "<tr><td>6</td><td>Operation</td><td>operator:&nbsp;8<br>operand:&nbsp;12<br></td><td><a class=\"ProveItLink\" href=\"../5717c7fef1e312e7067cd62872d2578f9420da4b0/expr.ipynb\"><img src=\"../5717c7fef1e312e7067cd62872d2578f9420da4b0/expr.png\" style=\"display:inline;vertical-align:middle;\" /></a></td></tr>\n",
       "<tr><td>7</td><td>ExprTuple</td><td>10, 11</td><td><a class=\"ProveItLink\" href=\"../88ce5c5be6b1350fe14b91e89d35a739943ae7af0/expr.ipynb\"><img src=\"../88ce5c5be6b1350fe14b91e89d35a739943ae7af0/expr.png\" style=\"display:inline;vertical-align:middle;\" /></a></td></tr>\n",
       "<tr><td>8</td><td>Literal</td><td></td><td><a class=\"ProveItLink\" href=\"../../common/74595f13699450f0507665bef91ec92c40b682690/expr.ipynb\"><img src=\"../../common/74595f13699450f0507665bef91ec92c40b682690/expr.png\" style=\"display:inline;vertical-align:middle;\" /></a></td></tr>\n",
       "<tr><td>9</td><td>ExprTuple</td><td>12</td><td><a class=\"ProveItLink\" href=\"../6acb0c8409fae499add06f6d3912b7c49ec7f0970/expr.ipynb\"><img src=\"../6acb0c8409fae499add06f6d3912b7c49ec7f0970/expr.png\" style=\"display:inline;vertical-align:middle;\" /></a></td></tr>\n",
       "<tr><td>10</td><td>Literal</td><td></td><td><a class=\"ProveItLink\" href=\"../../../../numbers/numerals/__pv_it/common/682157d4892d216d9e5626ed533aff9b56b9506e0/expr.ipynb\"><img src=\"../../../../numbers/numerals/__pv_it/common/682157d4892d216d9e5626ed533aff9b56b9506e0/expr.png\" style=\"display:inline;vertical-align:middle;\" /></a></td></tr>\n",
       "<tr><td>11</td><td>Operation</td><td>operator:&nbsp;31<br>operand:&nbsp;16<br></td><td><a class=\"ProveItLink\" href=\"../1e28dea79f87e034e2e5087a3dbd8d965cb9ab040/expr.ipynb\"><img src=\"../1e28dea79f87e034e2e5087a3dbd8d965cb9ab040/expr.png\" style=\"display:inline;vertical-align:middle;\" /></a></td></tr>\n",
       "<tr><td>12</td><td>Operation</td><td>operator:&nbsp;14<br>operands:&nbsp;15<br></td><td><a class=\"ProveItLink\" href=\"../ef4757561463595c86b0d72b91e99926a0422b9d0/expr.ipynb\"><img src=\"../ef4757561463595c86b0d72b91e99926a0422b9d0/expr.png\" style=\"display:inline;vertical-align:middle;\" /></a></td></tr>\n",
       "<tr><td>13</td><td>ExprTuple</td><td>16</td><td><a class=\"ProveItLink\" href=\"../92212632f21550d04624b74955fae6485cf567a70/expr.ipynb\"><img src=\"../92212632f21550d04624b74955fae6485cf567a70/expr.png\" style=\"display:inline;vertical-align:middle;\" /></a></td></tr>\n",
       "<tr><td>14</td><td>Literal</td><td></td><td><a class=\"ProveItLink\" href=\"../../../../numbers/division/__pv_it/common/a2a633e1e3c749fb1f2692466b287b6348c5de840/expr.ipynb\"><img src=\"../../../../numbers/division/__pv_it/common/a2a633e1e3c749fb1f2692466b287b6348c5de840/expr.png\" style=\"display:inline;vertical-align:middle;\" /></a></td></tr>\n",
       "<tr><td>15</td><td>ExprTuple</td><td>17, 36</td><td><a class=\"ProveItLink\" href=\"../62ec4364fe05601029c2207d27c6cbc0606e2b320/expr.ipynb\"><img src=\"../62ec4364fe05601029c2207d27c6cbc0606e2b320/expr.png\" style=\"display:inline;vertical-align:middle;\" /></a></td></tr>\n",
       "<tr><td>16</td><td>Operation</td><td>operator:&nbsp;18<br>operands:&nbsp;19<br></td><td><a class=\"ProveItLink\" href=\"../0dd486c61580cccd9b024411face0694f32b95920/expr.ipynb\"><img src=\"../0dd486c61580cccd9b024411face0694f32b95920/expr.png\" style=\"display:inline;vertical-align:middle;\" /></a></td></tr>\n",
       "<tr><td>17</td><td>Operation</td><td>operator:&nbsp;20<br>operand:&nbsp;24<br></td><td><a class=\"ProveItLink\" href=\"../cbbb1ca59ad62f50a405e3c1aed8b3d0447e14bc0/expr.ipynb\"><img src=\"../cbbb1ca59ad62f50a405e3c1aed8b3d0447e14bc0/expr.png\" style=\"display:inline;vertical-align:middle;\" /></a></td></tr>\n",
       "<tr><td>18</td><td>Literal</td><td></td><td><a class=\"ProveItLink\" href=\"../../../../numbers/exponentiation/__pv_it/common/0ac37aca1e54c35c5cda09672df32d4f69f1f3020/expr.ipynb\"><img src=\"../../../../numbers/exponentiation/__pv_it/common/0ac37aca1e54c35c5cda09672df32d4f69f1f3020/expr.png\" style=\"display:inline;vertical-align:middle;\" /></a></td></tr>\n",
       "<tr><td>19</td><td>ExprTuple</td><td>22, 23</td><td><a class=\"ProveItLink\" href=\"../d4a324151fb9eb8d18022685dd799e00cb83c5200/expr.ipynb\"><img src=\"../d4a324151fb9eb8d18022685dd799e00cb83c5200/expr.png\" style=\"display:inline;vertical-align:middle;\" /></a></td></tr>\n",
       "<tr><td>20</td><td>Literal</td><td></td><td><a class=\"ProveItLink\" href=\"../../../../numbers/absolute_value/__pv_it/common/eea56c667bc0aad2dc76ed04b44c2bd98b94005f0/expr.ipynb\"><img src=\"../../../../numbers/absolute_value/__pv_it/common/eea56c667bc0aad2dc76ed04b44c2bd98b94005f0/expr.png\" style=\"display:inline;vertical-align:middle;\" /></a></td></tr>\n",
       "<tr><td>21</td><td>ExprTuple</td><td>24</td><td><a class=\"ProveItLink\" href=\"../752880c5ef4caf7c0415c99b3f551a3df06b03750/expr.ipynb\"><img src=\"../752880c5ef4caf7c0415c99b3f551a3df06b03750/expr.png\" style=\"display:inline;vertical-align:middle;\" /></a></td></tr>\n",
       "<tr><td>22</td><td>Literal</td><td></td><td><a class=\"ProveItLink\" href=\"../../../../numbers/number_sets/real_numbers/__pv_it/common/e531ffa54fd897084533764a4a14f19f590674f80/expr.ipynb\"><img src=\"../../../../numbers/number_sets/real_numbers/__pv_it/common/e531ffa54fd897084533764a4a14f19f590674f80/expr.png\" style=\"display:inline;vertical-align:middle;\" /></a></td></tr>\n",
       "<tr><td>23</td><td>Operation</td><td>operator:&nbsp;34<br>operands:&nbsp;25<br></td><td><a class=\"ProveItLink\" href=\"../edc4d5f02308ed118afad5f65f7d8841b1eef57f0/expr.ipynb\"><img src=\"../edc4d5f02308ed118afad5f65f7d8841b1eef57f0/expr.png\" style=\"display:inline;vertical-align:middle;\" /></a></td></tr>\n",
       "<tr><td>24</td><td>Operation</td><td>operator:&nbsp;26<br>operands:&nbsp;27<br></td><td><a class=\"ProveItLink\" href=\"../4a626d2cd02ffe76480b15d4691a300b68ec4c440/expr.ipynb\"><img src=\"../4a626d2cd02ffe76480b15d4691a300b68ec4c440/expr.png\" style=\"display:inline;vertical-align:middle;\" /></a></td></tr>\n",
       "<tr><td>25</td><td>ExprTuple</td><td>36, 37, 28, 38</td><td><a class=\"ProveItLink\" href=\"../fbd2262aede6a0518d1cdb5bb27a7db3aeecffb30/expr.ipynb\"><img src=\"../fbd2262aede6a0518d1cdb5bb27a7db3aeecffb30/expr.png\" style=\"display:inline;vertical-align:middle;\" /></a></td></tr>\n",
       "<tr><td>26</td><td>Literal</td><td></td><td><a class=\"ProveItLink\" href=\"../../../../numbers/addition/__pv_it/common/4b7effaab3619a1c2c38fe2dee8601df8ec714590/expr.ipynb\"><img src=\"../../../../numbers/addition/__pv_it/common/4b7effaab3619a1c2c38fe2dee8601df8ec714590/expr.png\" style=\"display:inline;vertical-align:middle;\" /></a></td></tr>\n",
       "<tr><td>27</td><td>ExprTuple</td><td>29, 30</td><td><a class=\"ProveItLink\" href=\"../ff3b594d0b8ce0d428b0e44fb9d770cd8f96436a0/expr.ipynb\"><img src=\"../ff3b594d0b8ce0d428b0e44fb9d770cd8f96436a0/expr.png\" style=\"display:inline;vertical-align:middle;\" /></a></td></tr>\n",
       "<tr><td>28</td><td>Literal</td><td></td><td><a class=\"ProveItLink\" href=\"../../../../numbers/number_sets/complex_numbers/__pv_it/common/6c9cc69d472f352324c298b2318df233e9a7e0250/expr.ipynb\"><img src=\"../../../../numbers/number_sets/complex_numbers/__pv_it/common/6c9cc69d472f352324c298b2318df233e9a7e0250/expr.png\" style=\"display:inline;vertical-align:middle;\" /></a></td></tr>\n",
       "<tr><td>29</td><td>Literal</td><td></td><td><a class=\"ProveItLink\" href=\"../../../../numbers/numerals/__pv_it/common/dd4e19e8b134dfb293470ea55fe3589b0ab9f8040/expr.ipynb\"><img src=\"../../../../numbers/numerals/__pv_it/common/dd4e19e8b134dfb293470ea55fe3589b0ab9f8040/expr.png\" style=\"display:inline;vertical-align:middle;\" /></a></td></tr>\n",
       "<tr><td>30</td><td>Operation</td><td>operator:&nbsp;31<br>operand:&nbsp;33<br></td><td><a class=\"ProveItLink\" href=\"../33de7971504b1ff33c699c6df9c6149f1dac2eb30/expr.ipynb\"><img src=\"../33de7971504b1ff33c699c6df9c6149f1dac2eb30/expr.png\" style=\"display:inline;vertical-align:middle;\" /></a></td></tr>\n",
       "<tr><td>31</td><td>Literal</td><td></td><td><a class=\"ProveItLink\" href=\"../../../../numbers/negation/__pv_it/common/221b3c4d1770ee9051b7c044c3f9ec61196fc34b0/expr.ipynb\"><img src=\"../../../../numbers/negation/__pv_it/common/221b3c4d1770ee9051b7c044c3f9ec61196fc34b0/expr.png\" style=\"display:inline;vertical-align:middle;\" /></a></td></tr>\n",
       "<tr><td>32</td><td>ExprTuple</td><td>33</td><td><a class=\"ProveItLink\" href=\"../845b601bd07c138d61d5bc8ea35c804f361267730/expr.ipynb\"><img src=\"../845b601bd07c138d61d5bc8ea35c804f361267730/expr.png\" style=\"display:inline;vertical-align:middle;\" /></a></td></tr>\n",
       "<tr><td>33</td><td>Operation</td><td>operator:&nbsp;34<br>operands:&nbsp;35<br></td><td><a class=\"ProveItLink\" href=\"../cf38822dd3073ebbc03199795eb1b283c9738ff20/expr.ipynb\"><img src=\"../cf38822dd3073ebbc03199795eb1b283c9738ff20/expr.png\" style=\"display:inline;vertical-align:middle;\" /></a></td></tr>\n",
       "<tr><td>34</td><td>Literal</td><td></td><td><a class=\"ProveItLink\" href=\"../../../../numbers/multiplication/__pv_it/common/ed719cef37831779c16481533a4d380a2f95ab270/expr.ipynb\"><img src=\"../../../../numbers/multiplication/__pv_it/common/ed719cef37831779c16481533a4d380a2f95ab270/expr.png\" style=\"display:inline;vertical-align:middle;\" /></a></td></tr>\n",
       "<tr><td>35</td><td>ExprTuple</td><td>36, 37, 38</td><td><a class=\"ProveItLink\" href=\"../49a140289ec97573e92ba34194022f0a6b49103f0/expr.ipynb\"><img src=\"../49a140289ec97573e92ba34194022f0a6b49103f0/expr.png\" style=\"display:inline;vertical-align:middle;\" /></a></td></tr>\n",
       "<tr><td>36</td><td>Literal</td><td></td><td><a class=\"ProveItLink\" href=\"../../../../numbers/numerals/__pv_it/common/af4aab8a07465db063742696e006d04670f30cf10/expr.ipynb\"><img src=\"../../../../numbers/numerals/__pv_it/common/af4aab8a07465db063742696e006d04670f30cf10/expr.png\" style=\"display:inline;vertical-align:middle;\" /></a></td></tr>\n",
       "<tr><td>37</td><td>Literal</td><td></td><td><a class=\"ProveItLink\" href=\"../../../../numbers/number_sets/real_numbers/__pv_it/common/246c206266ac5b48800e508d580f91767b24c2df0/expr.ipynb\"><img src=\"../../../../numbers/number_sets/real_numbers/__pv_it/common/246c206266ac5b48800e508d580f91767b24c2df0/expr.png\" style=\"display:inline;vertical-align:middle;\" /></a></td></tr>\n",
       "<tr><td>38</td><td>Variable</td><td></td><td><a class=\"ProveItLink\" href=\"../../../../__pv_it/common/b011a4fec64a1c824cf176959ebc716edbf098a10/expr.ipynb\"><img src=\"../../../../__pv_it/common/b011a4fec64a1c824cf176959ebc716edbf098a10/expr.png\" style=\"display:inline;vertical-align:middle;\" /></a></td></tr>\n",
       "</table>\n"
      ],
      "text/plain": [
       "0. (|1 - e^{2 * pi * i * theta}|, 2 * sin(|0 - (2 * pi * theta)| / 2))\n",
       "   core type: ExprTuple\n",
       "   sub-expressions: 1, 2\n",
       "1. |1 - e^{2 * pi * i * theta}|\n",
       "   core type: Operation\n",
       "   operator: 20\n",
       "   operand: 5\n",
       "2. 2 * sin(|0 - (2 * pi * theta)| / 2)\n",
       "   core type: Operation\n",
       "   operator: 34\n",
       "   operands: 4\n",
       "3. (1 - e^{2 * pi * i * theta})\n",
       "   core type: ExprTuple\n",
       "   sub-expressions: 5\n",
       "4. (2, sin(|0 - (2 * pi * theta)| / 2))\n",
       "   core type: ExprTuple\n",
       "   sub-expressions: 36, 6\n",
       "5. 1 - e^{2 * pi * i * theta}\n",
       "   core type: Operation\n",
       "   operator: 26\n",
       "   operands: 7\n",
       "6. sin(|0 - (2 * pi * theta)| / 2)\n",
       "   core type: Operation\n",
       "   operator: 8\n",
       "   operand: 12\n",
       "7. (1, -e^{2 * pi * i * theta})\n",
       "   core type: ExprTuple\n",
       "   sub-expressions: 10, 11\n",
       "8. sin\n",
       "   core type: Literal\n",
       "   sub-expressions: \n",
       "9. (|0 - (2 * pi * theta)| / 2)\n",
       "   core type: ExprTuple\n",
       "   sub-expressions: 12\n",
       "10. 1\n",
       "    core type: Literal\n",
       "    sub-expressions: \n",
       "11. -e^{2 * pi * i * theta}\n",
       "    core type: Operation\n",
       "    operator: 31\n",
       "    operand: 16\n",
       "12. |0 - (2 * pi * theta)| / 2\n",
       "    core type: Operation\n",
       "    operator: 14\n",
       "    operands: 15\n",
       "13. (e^{2 * pi * i * theta})\n",
       "    core type: ExprTuple\n",
       "    sub-expressions: 16\n",
       "14. /\n",
       "    core type: Literal\n",
       "    sub-expressions: \n",
       "15. (|0 - (2 * pi * theta)|, 2)\n",
       "    core type: ExprTuple\n",
       "    sub-expressions: 17, 36\n",
       "16. e^{2 * pi * i * theta}\n",
       "    core type: Operation\n",
       "    operator: 18\n",
       "    operands: 19\n",
       "17. |0 - (2 * pi * theta)|\n",
       "    core type: Operation\n",
       "    operator: 20\n",
       "    operand: 24\n",
       "18. Exp\n",
       "    core type: Literal\n",
       "    sub-expressions: \n",
       "19. (e, 2 * pi * i * theta)\n",
       "    core type: ExprTuple\n",
       "    sub-expressions: 22, 23\n",
       "20. Abs\n",
       "    core type: Literal\n",
       "    sub-expressions: \n",
       "21. (0 - (2 * pi * theta))\n",
       "    core type: ExprTuple\n",
       "    sub-expressions: 24\n",
       "22. e\n",
       "    core type: Literal\n",
       "    sub-expressions: \n",
       "23. 2 * pi * i * theta\n",
       "    core type: Operation\n",
       "    operator: 34\n",
       "    operands: 25\n",
       "24. 0 - (2 * pi * theta)\n",
       "    core type: Operation\n",
       "    operator: 26\n",
       "    operands: 27\n",
       "25. (2, pi, i, theta)\n",
       "    core type: ExprTuple\n",
       "    sub-expressions: 36, 37, 28, 38\n",
       "26. +\n",
       "    core type: Literal\n",
       "    sub-expressions: \n",
       "27. (0, -(2 * pi * theta))\n",
       "    core type: ExprTuple\n",
       "    sub-expressions: 29, 30\n",
       "28. i\n",
       "    core type: Literal\n",
       "    sub-expressions: \n",
       "29. 0\n",
       "    core type: Literal\n",
       "    sub-expressions: \n",
       "30. -(2 * pi * theta)\n",
       "    core type: Operation\n",
       "    operator: 31\n",
       "    operand: 33\n",
       "31. -\n",
       "    core type: Literal\n",
       "    sub-expressions: \n",
       "32. (2 * pi * theta)\n",
       "    core type: ExprTuple\n",
       "    sub-expressions: 33\n",
       "33. 2 * pi * theta\n",
       "    core type: Operation\n",
       "    operator: 34\n",
       "    operands: 35\n",
       "34. *\n",
       "    core type: Literal\n",
       "    sub-expressions: \n",
       "35. (2, pi, theta)\n",
       "    core type: ExprTuple\n",
       "    sub-expressions: 36, 37, 38\n",
       "36. 2\n",
       "    core type: Literal\n",
       "    sub-expressions: \n",
       "37. pi\n",
       "    core type: Literal\n",
       "    sub-expressions: \n",
       "38. theta\n",
       "    core type: Variable\n",
       "    sub-expressions: "
      ]
     },
     "metadata": {},
     "output_type": "display_data"
    }
   ],
   "source": [
    "# display the expression information\n",
    "stored_expr.expr_info()"
   ]
  },
  {
   "cell_type": "code",
   "execution_count": null,
   "metadata": {},
   "outputs": [],
   "source": []
  }
 ],
 "metadata": {
  "kernelspec": {
   "display_name": "Python 3",
   "language": "python",
   "name": "python3"
  }
 },
 "nbformat": 4,
 "nbformat_minor": 0
}