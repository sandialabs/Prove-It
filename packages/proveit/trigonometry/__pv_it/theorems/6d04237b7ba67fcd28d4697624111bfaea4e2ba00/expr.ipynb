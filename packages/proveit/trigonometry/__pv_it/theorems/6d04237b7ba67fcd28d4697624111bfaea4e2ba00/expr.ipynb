{
 "cells": [
  {
   "cell_type": "markdown",
   "metadata": {},
   "source": [
    "Expression of type <a class=\"ProveItLink\" href=\"../../../../../../doc/html/api/proveit.logic.Forall.html\">Forall</a>\n",
    "=======================\n",
    "# from the theory of <a class=\"ProveItLink\" href=\"../../../_theory_nbs_/theory.ipynb\">proveit.trigonometry</a>"
   ]
  },
  {
   "cell_type": "code",
   "execution_count": 1,
   "metadata": {},
   "outputs": [],
   "source": [
    "import proveit\n",
    "# Automation is not needed when building an expression:\n",
    "proveit.defaults.automation = False # This will speed things up.\n",
    "proveit.defaults.inline_pngs = False # Makes files smaller.\n",
    "%load_expr # Load the stored expression as 'stored_expr'\n",
    "# import Expression classes needed to build the expression\n",
    "from proveit import theta\n",
    "from proveit.logic import Forall\n",
    "from proveit.numbers import Abs, LessEq, Mult, Real, frac, greater_eq, pi, two\n",
    "from proveit.trigonometry import Sin"
   ]
  },
  {
   "cell_type": "code",
   "execution_count": 2,
   "metadata": {},
   "outputs": [
    {
     "data": {
      "text/html": [
       "<strong id=\"expr\">expr:</strong> <a class=\"ProveItLink\" href=\"expr.ipynb\"><img src=\"expr.png\" style=\"display:inline;vertical-align:middle;\" /></a><br>"
      ],
      "text/plain": [
       "<IPython.core.display.HTML object>"
      ]
     },
     "metadata": {},
     "output_type": "display_data"
    }
   ],
   "source": [
    "# build up the expression from sub-expressions\n",
    "sub_expr1 = Abs(theta)\n",
    "expr = Forall(instance_param_or_params = [theta], instance_expr = greater_eq(Sin(sub_expr1), frac(Mult(two, sub_expr1), pi)), domain = Real, condition = LessEq(sub_expr1, frac(pi, two)))"
   ]
  },
  {
   "cell_type": "code",
   "execution_count": 3,
   "metadata": {},
   "outputs": [
    {
     "name": "stdout",
     "output_type": "stream",
     "text": [
      "Passed sanity check: expr matches stored_expr\n"
     ]
    }
   ],
   "source": [
    "# check that the built expression is the same as the stored expression\n",
    "assert expr == stored_expr\n",
    "assert expr._style_id == stored_expr._style_id\n",
    "print(\"Passed sanity check: expr matches stored_expr\")"
   ]
  },
  {
   "cell_type": "code",
   "execution_count": 4,
   "metadata": {},
   "outputs": [
    {
     "name": "stdout",
     "output_type": "stream",
     "text": [
      "\\forall_{\\theta \\in \\mathbb{R}~|~\\left|\\theta\\right| \\leq \\frac{\\pi}{2}}~\\left(\\sin{\\left|\\theta\\right|} \\geq \\frac{2 \\cdot \\left|\\theta\\right|}{\\pi}\\right)\n"
     ]
    }
   ],
   "source": [
    "# Show the LaTeX representation of the expression for convenience if you need it.\n",
    "print(stored_expr.latex())"
   ]
  },
  {
   "cell_type": "code",
   "execution_count": 5,
   "metadata": {},
   "outputs": [
    {
     "data": {
      "text/html": [
       "<table>\n",
       "<tr><th>name</th><th>description</th><th>default</th><th>current value</th><th>related methods</th></tr><tr><td>with_wrapping</td><td>If 'True', wrap the Expression after the parameters</td><td>None</td><td>None/False</td><td>('with_wrapping',)</td></tr>\n",
       "<tr><td>condition_wrapping</td><td>Wrap 'before' or 'after' the condition (or None).</td><td>None</td><td>None/False</td><td>('with_wrap_after_condition', 'with_wrap_before_condition')</td></tr>\n",
       "<tr><td>wrap_params</td><td>If 'True', wraps every two parameters AND wraps the Expression after the parameters</td><td>None</td><td>None/False</td><td>('with_params',)</td></tr>\n",
       "<tr><td>justification</td><td>justify to the 'left', 'center', or 'right' in the array cells</td><td>center</td><td>center</td><td>('with_justification',)</td></tr>\n",
       "</table>\n"
      ],
      "text/plain": [
       "style name: with_wrapping\n",
       "description: If 'True', wrap the Expression after the parameters\n",
       "default: None\n",
       "current value: None/False\n",
       "related methods: ('with_wrapping',)\n",
       "style name: condition_wrapping\n",
       "description: Wrap 'before' or 'after' the condition (or None).\n",
       "default: None\n",
       "current value: None/False\n",
       "related methods: ('with_wrap_after_condition', 'with_wrap_before_condition')\n",
       "style name: wrap_params\n",
       "description: If 'True', wraps every two parameters AND wraps the Expression after the parameters\n",
       "default: None\n",
       "current value: None/False\n",
       "related methods: ('with_params',)\n",
       "style name: justification\n",
       "description: justify to the 'left', 'center', or 'right' in the array cells\n",
       "default: center\n",
       "current value: center\n",
       "related methods: ('with_justification',)"
      ]
     },
     "metadata": {},
     "output_type": "display_data"
    }
   ],
   "source": [
    "stored_expr.style_options()"
   ]
  },
  {
   "cell_type": "code",
   "execution_count": 6,
   "metadata": {},
   "outputs": [
    {
     "data": {
      "text/html": [
       "<table><tr><th>&nbsp;</th><th>core type</th><th>sub-expressions</th><th>expression</th></tr>\n",
       "<tr><td>0</td><td>Operation</td><td>operator:&nbsp;1<br>operand:&nbsp;3<br></td><td><a class=\"ProveItLink\" href=\"expr.ipynb\"><img src=\"expr.png\" style=\"display:inline;vertical-align:middle;\" /></a></td></tr>\n",
       "<tr><td>1</td><td>Literal</td><td></td><td><a class=\"ProveItLink\" href=\"../../../../logic/booleans/quantification/universality/__pv_it/common/083d2baa0b8ecab1d230f9ec29a15aa1355809fb0/expr.ipynb\"><img src=\"../../../../logic/booleans/quantification/universality/__pv_it/common/083d2baa0b8ecab1d230f9ec29a15aa1355809fb0/expr.png\" style=\"display:inline;vertical-align:middle;\" /></a></td></tr>\n",
       "<tr><td>2</td><td>ExprTuple</td><td>3</td><td><a class=\"ProveItLink\" href=\"../a5b96e4c32a2b16930a91cf2d23a1e660c61da920/expr.ipynb\"><img src=\"../a5b96e4c32a2b16930a91cf2d23a1e660c61da920/expr.png\" style=\"display:inline;vertical-align:middle;\" /></a></td></tr>\n",
       "<tr><td>3</td><td>Lambda</td><td>parameter:&nbsp;33<br>body:&nbsp;4<br></td><td><a class=\"ProveItLink\" href=\"../c63405aee34e416f13f896982d3c927412c3c46b0/expr.ipynb\"><img src=\"../c63405aee34e416f13f896982d3c927412c3c46b0/expr.png\" style=\"display:inline;vertical-align:middle;\" /></a></td></tr>\n",
       "<tr><td>4</td><td>Conditional</td><td>value:&nbsp;5<br>condition:&nbsp;6<br></td><td><a class=\"ProveItLink\" href=\"../09110acf5dd849f8c7271fe564dc820a73ec71f50/expr.ipynb\"><img src=\"../09110acf5dd849f8c7271fe564dc820a73ec71f50/expr.png\" style=\"display:inline;vertical-align:middle;\" /></a></td></tr>\n",
       "<tr><td>5</td><td>Operation</td><td>operator:&nbsp;19<br>operands:&nbsp;7<br></td><td><a class=\"ProveItLink\" href=\"../0777aa52142bd49f44a9a4c1db88e444df06bf370/expr.ipynb\"><img src=\"../0777aa52142bd49f44a9a4c1db88e444df06bf370/expr.png\" style=\"display:inline;vertical-align:middle;\" /></a></td></tr>\n",
       "<tr><td>6</td><td>Operation</td><td>operator:&nbsp;8<br>operands:&nbsp;9<br></td><td><a class=\"ProveItLink\" href=\"../2255e2551450ec0b86a5397118ee4d7946c563c00/expr.ipynb\"><img src=\"../2255e2551450ec0b86a5397118ee4d7946c563c00/expr.png\" style=\"display:inline;vertical-align:middle;\" /></a></td></tr>\n",
       "<tr><td>7</td><td>ExprTuple</td><td>10, 11</td><td><a class=\"ProveItLink\" href=\"../d8d3b571e5cea708b9f5fa380c2e929daaa06c6c0/expr.ipynb\"><img src=\"../d8d3b571e5cea708b9f5fa380c2e929daaa06c6c0/expr.png\" style=\"display:inline;vertical-align:middle;\" /></a></td></tr>\n",
       "<tr><td>8</td><td>Literal</td><td></td><td><a class=\"ProveItLink\" href=\"../../../../logic/booleans/conjunction/__pv_it/common/42118ff318bd65d98b1393f64ce7c2269feef76e0/expr.ipynb\"><img src=\"../../../../logic/booleans/conjunction/__pv_it/common/42118ff318bd65d98b1393f64ce7c2269feef76e0/expr.png\" style=\"display:inline;vertical-align:middle;\" /></a></td></tr>\n",
       "<tr><td>9</td><td>ExprTuple</td><td>12, 13</td><td><a class=\"ProveItLink\" href=\"../32a295586034d0ae2405e3f69981f466f8510a3b0/expr.ipynb\"><img src=\"../32a295586034d0ae2405e3f69981f466f8510a3b0/expr.png\" style=\"display:inline;vertical-align:middle;\" /></a></td></tr>\n",
       "<tr><td>10</td><td>Operation</td><td>operator:&nbsp;26<br>operands:&nbsp;14<br></td><td><a class=\"ProveItLink\" href=\"../63973d86b64b2c81d4374a783fea8aa6a2e507570/expr.ipynb\"><img src=\"../63973d86b64b2c81d4374a783fea8aa6a2e507570/expr.png\" style=\"display:inline;vertical-align:middle;\" /></a></td></tr>\n",
       "<tr><td>11</td><td>Operation</td><td>operator:&nbsp;15<br>operand:&nbsp;28<br></td><td><a class=\"ProveItLink\" href=\"../9f07d2e13dd33eecb899a4000cb549dce1dddaef0/expr.ipynb\"><img src=\"../9f07d2e13dd33eecb899a4000cb549dce1dddaef0/expr.png\" style=\"display:inline;vertical-align:middle;\" /></a></td></tr>\n",
       "<tr><td>12</td><td>Operation</td><td>operator:&nbsp;17<br>operands:&nbsp;18<br></td><td><a class=\"ProveItLink\" href=\"../5c9b98ec381ed1eef8437437430dde6add03b8720/expr.ipynb\"><img src=\"../5c9b98ec381ed1eef8437437430dde6add03b8720/expr.png\" style=\"display:inline;vertical-align:middle;\" /></a></td></tr>\n",
       "<tr><td>13</td><td>Operation</td><td>operator:&nbsp;19<br>operands:&nbsp;20<br></td><td><a class=\"ProveItLink\" href=\"../85358d9f41c4d14a0e033f7f6dff0b354437b7c60/expr.ipynb\"><img src=\"../85358d9f41c4d14a0e033f7f6dff0b354437b7c60/expr.png\" style=\"display:inline;vertical-align:middle;\" /></a></td></tr>\n",
       "<tr><td>14</td><td>ExprTuple</td><td>21, 29</td><td><a class=\"ProveItLink\" href=\"../dd09a24f7925a60ef4589cf71bbd27814e030b850/expr.ipynb\"><img src=\"../dd09a24f7925a60ef4589cf71bbd27814e030b850/expr.png\" style=\"display:inline;vertical-align:middle;\" /></a></td></tr>\n",
       "<tr><td>15</td><td>Literal</td><td></td><td><a class=\"ProveItLink\" href=\"../../common/74595f13699450f0507665bef91ec92c40b682690/expr.ipynb\"><img src=\"../../common/74595f13699450f0507665bef91ec92c40b682690/expr.png\" style=\"display:inline;vertical-align:middle;\" /></a></td></tr>\n",
       "<tr><td>16</td><td>ExprTuple</td><td>28</td><td><a class=\"ProveItLink\" href=\"../1a44561927c4bbb773507eb0c725eb8fc6f0430c0/expr.ipynb\"><img src=\"../1a44561927c4bbb773507eb0c725eb8fc6f0430c0/expr.png\" style=\"display:inline;vertical-align:middle;\" /></a></td></tr>\n",
       "<tr><td>17</td><td>Literal</td><td></td><td><a class=\"ProveItLink\" href=\"../../../../logic/sets/membership/__pv_it/common/477487d8796864d23d5810f83761435f25167f690/expr.ipynb\"><img src=\"../../../../logic/sets/membership/__pv_it/common/477487d8796864d23d5810f83761435f25167f690/expr.png\" style=\"display:inline;vertical-align:middle;\" /></a></td></tr>\n",
       "<tr><td>18</td><td>ExprTuple</td><td>33, 22</td><td><a class=\"ProveItLink\" href=\"../5c4abc96ac87b79206a25f7f1bdb45eb8f47d6180/expr.ipynb\"><img src=\"../5c4abc96ac87b79206a25f7f1bdb45eb8f47d6180/expr.png\" style=\"display:inline;vertical-align:middle;\" /></a></td></tr>\n",
       "<tr><td>19</td><td>Literal</td><td></td><td><a class=\"ProveItLink\" href=\"../../../../numbers/ordering/__pv_it/common/68379698d72b4689bbda4b5c5cca29ee599d70280/expr.ipynb\"><img src=\"../../../../numbers/ordering/__pv_it/common/68379698d72b4689bbda4b5c5cca29ee599d70280/expr.png\" style=\"display:inline;vertical-align:middle;\" /></a></td></tr>\n",
       "<tr><td>20</td><td>ExprTuple</td><td>28, 23</td><td><a class=\"ProveItLink\" href=\"../c91d83afa3a928f46daa721d7e7b5cfd27c863580/expr.ipynb\"><img src=\"../c91d83afa3a928f46daa721d7e7b5cfd27c863580/expr.png\" style=\"display:inline;vertical-align:middle;\" /></a></td></tr>\n",
       "<tr><td>21</td><td>Operation</td><td>operator:&nbsp;24<br>operands:&nbsp;25<br></td><td><a class=\"ProveItLink\" href=\"../49f6f6f7ce74e9d12c71c0db677a92dd4b82f7c20/expr.ipynb\"><img src=\"../49f6f6f7ce74e9d12c71c0db677a92dd4b82f7c20/expr.png\" style=\"display:inline;vertical-align:middle;\" /></a></td></tr>\n",
       "<tr><td>22</td><td>Literal</td><td></td><td><a class=\"ProveItLink\" href=\"../../../../numbers/number_sets/real_numbers/__pv_it/common/93cac87a1a47e613f7a83b23ef7891599a1a4cca0/expr.ipynb\"><img src=\"../../../../numbers/number_sets/real_numbers/__pv_it/common/93cac87a1a47e613f7a83b23ef7891599a1a4cca0/expr.png\" style=\"display:inline;vertical-align:middle;\" /></a></td></tr>\n",
       "<tr><td>23</td><td>Operation</td><td>operator:&nbsp;26<br>operands:&nbsp;27<br></td><td><a class=\"ProveItLink\" href=\"../77e4e33a42c0072978d4eed67130b3f6e89830a10/expr.ipynb\"><img src=\"../77e4e33a42c0072978d4eed67130b3f6e89830a10/expr.png\" style=\"display:inline;vertical-align:middle;\" /></a></td></tr>\n",
       "<tr><td>24</td><td>Literal</td><td></td><td><a class=\"ProveItLink\" href=\"../../../../numbers/multiplication/__pv_it/common/ed719cef37831779c16481533a4d380a2f95ab270/expr.ipynb\"><img src=\"../../../../numbers/multiplication/__pv_it/common/ed719cef37831779c16481533a4d380a2f95ab270/expr.png\" style=\"display:inline;vertical-align:middle;\" /></a></td></tr>\n",
       "<tr><td>25</td><td>ExprTuple</td><td>30, 28</td><td><a class=\"ProveItLink\" href=\"../515b3ce4a47af9cb76ebcdc06eaf95e1335cb6280/expr.ipynb\"><img src=\"../515b3ce4a47af9cb76ebcdc06eaf95e1335cb6280/expr.png\" style=\"display:inline;vertical-align:middle;\" /></a></td></tr>\n",
       "<tr><td>26</td><td>Literal</td><td></td><td><a class=\"ProveItLink\" href=\"../../../../numbers/division/__pv_it/common/a2a633e1e3c749fb1f2692466b287b6348c5de840/expr.ipynb\"><img src=\"../../../../numbers/division/__pv_it/common/a2a633e1e3c749fb1f2692466b287b6348c5de840/expr.png\" style=\"display:inline;vertical-align:middle;\" /></a></td></tr>\n",
       "<tr><td>27</td><td>ExprTuple</td><td>29, 30</td><td><a class=\"ProveItLink\" href=\"../fa3bd54b24864c0523c773df47636f1e41f520450/expr.ipynb\"><img src=\"../fa3bd54b24864c0523c773df47636f1e41f520450/expr.png\" style=\"display:inline;vertical-align:middle;\" /></a></td></tr>\n",
       "<tr><td>28</td><td>Operation</td><td>operator:&nbsp;31<br>operand:&nbsp;33<br></td><td><a class=\"ProveItLink\" href=\"../9618bb5fe6552492a17a15976569b7ed7a631cf80/expr.ipynb\"><img src=\"../9618bb5fe6552492a17a15976569b7ed7a631cf80/expr.png\" style=\"display:inline;vertical-align:middle;\" /></a></td></tr>\n",
       "<tr><td>29</td><td>Literal</td><td></td><td><a class=\"ProveItLink\" href=\"../../../../numbers/number_sets/real_numbers/__pv_it/common/246c206266ac5b48800e508d580f91767b24c2df0/expr.ipynb\"><img src=\"../../../../numbers/number_sets/real_numbers/__pv_it/common/246c206266ac5b48800e508d580f91767b24c2df0/expr.png\" style=\"display:inline;vertical-align:middle;\" /></a></td></tr>\n",
       "<tr><td>30</td><td>Literal</td><td></td><td><a class=\"ProveItLink\" href=\"../../../../numbers/numerals/__pv_it/common/af4aab8a07465db063742696e006d04670f30cf10/expr.ipynb\"><img src=\"../../../../numbers/numerals/__pv_it/common/af4aab8a07465db063742696e006d04670f30cf10/expr.png\" style=\"display:inline;vertical-align:middle;\" /></a></td></tr>\n",
       "<tr><td>31</td><td>Literal</td><td></td><td><a class=\"ProveItLink\" href=\"../../../../numbers/absolute_value/__pv_it/common/eea56c667bc0aad2dc76ed04b44c2bd98b94005f0/expr.ipynb\"><img src=\"../../../../numbers/absolute_value/__pv_it/common/eea56c667bc0aad2dc76ed04b44c2bd98b94005f0/expr.png\" style=\"display:inline;vertical-align:middle;\" /></a></td></tr>\n",
       "<tr><td>32</td><td>ExprTuple</td><td>33</td><td><a class=\"ProveItLink\" href=\"../b552db72f8405cd45673f8b4dbbabc4eec4feb090/expr.ipynb\"><img src=\"../b552db72f8405cd45673f8b4dbbabc4eec4feb090/expr.png\" style=\"display:inline;vertical-align:middle;\" /></a></td></tr>\n",
       "<tr><td>33</td><td>Variable</td><td></td><td><a class=\"ProveItLink\" href=\"../../../../__pv_it/common/b011a4fec64a1c824cf176959ebc716edbf098a10/expr.ipynb\"><img src=\"../../../../__pv_it/common/b011a4fec64a1c824cf176959ebc716edbf098a10/expr.png\" style=\"display:inline;vertical-align:middle;\" /></a></td></tr>\n",
       "</table>\n"
      ],
      "text/plain": [
       "0. forall_{theta in Real | |theta| <= (pi / 2)} (sin(|theta|) >= ((2 * |theta|) / pi))\n",
       "   core type: Operation\n",
       "   operator: 1\n",
       "   operand: 3\n",
       "1. forall\n",
       "   core type: Literal\n",
       "   sub-expressions: \n",
       "2. (theta -> {sin(|theta|) >= ((2 * |theta|) / pi) if theta in Real ,  |theta| <= (pi / 2).)\n",
       "   core type: ExprTuple\n",
       "   sub-expressions: 3\n",
       "3. theta -> {sin(|theta|) >= ((2 * |theta|) / pi) if theta in Real ,  |theta| <= (pi / 2).\n",
       "   core type: Lambda\n",
       "   parameter: 33\n",
       "   body: 4\n",
       "4. {sin(|theta|) >= ((2 * |theta|) / pi) if theta in Real ,  |theta| <= (pi / 2).\n",
       "   core type: Conditional\n",
       "   value: 5\n",
       "   condition: 6\n",
       "5. sin(|theta|) >= ((2 * |theta|) / pi)\n",
       "   core type: Operation\n",
       "   operator: 19\n",
       "   operands: 7\n",
       "6. (theta in Real) and (|theta| <= (pi / 2))\n",
       "   core type: Operation\n",
       "   operator: 8\n",
       "   operands: 9\n",
       "7. ((2 * |theta|) / pi, sin(|theta|))\n",
       "   core type: ExprTuple\n",
       "   sub-expressions: 10, 11\n",
       "8. and\n",
       "   core type: Literal\n",
       "   sub-expressions: \n",
       "9. (theta in Real, |theta| <= (pi / 2))\n",
       "   core type: ExprTuple\n",
       "   sub-expressions: 12, 13\n",
       "10. (2 * |theta|) / pi\n",
       "    core type: Operation\n",
       "    operator: 26\n",
       "    operands: 14\n",
       "11. sin(|theta|)\n",
       "    core type: Operation\n",
       "    operator: 15\n",
       "    operand: 28\n",
       "12. theta in Real\n",
       "    core type: Operation\n",
       "    operator: 17\n",
       "    operands: 18\n",
       "13. |theta| <= (pi / 2)\n",
       "    core type: Operation\n",
       "    operator: 19\n",
       "    operands: 20\n",
       "14. (2 * |theta|, pi)\n",
       "    core type: ExprTuple\n",
       "    sub-expressions: 21, 29\n",
       "15. sin\n",
       "    core type: Literal\n",
       "    sub-expressions: \n",
       "16. (|theta|)\n",
       "    core type: ExprTuple\n",
       "    sub-expressions: 28\n",
       "17. in\n",
       "    core type: Literal\n",
       "    sub-expressions: \n",
       "18. (theta, Real)\n",
       "    core type: ExprTuple\n",
       "    sub-expressions: 33, 22\n",
       "19. <=\n",
       "    core type: Literal\n",
       "    sub-expressions: \n",
       "20. (|theta|, pi / 2)\n",
       "    core type: ExprTuple\n",
       "    sub-expressions: 28, 23\n",
       "21. 2 * |theta|\n",
       "    core type: Operation\n",
       "    operator: 24\n",
       "    operands: 25\n",
       "22. Real\n",
       "    core type: Literal\n",
       "    sub-expressions: \n",
       "23. pi / 2\n",
       "    core type: Operation\n",
       "    operator: 26\n",
       "    operands: 27\n",
       "24. *\n",
       "    core type: Literal\n",
       "    sub-expressions: \n",
       "25. (2, |theta|)\n",
       "    core type: ExprTuple\n",
       "    sub-expressions: 30, 28\n",
       "26. /\n",
       "    core type: Literal\n",
       "    sub-expressions: \n",
       "27. (pi, 2)\n",
       "    core type: ExprTuple\n",
       "    sub-expressions: 29, 30\n",
       "28. |theta|\n",
       "    core type: Operation\n",
       "    operator: 31\n",
       "    operand: 33\n",
       "29. pi\n",
       "    core type: Literal\n",
       "    sub-expressions: \n",
       "30. 2\n",
       "    core type: Literal\n",
       "    sub-expressions: \n",
       "31. Abs\n",
       "    core type: Literal\n",
       "    sub-expressions: \n",
       "32. (theta)\n",
       "    core type: ExprTuple\n",
       "    sub-expressions: 33\n",
       "33. theta\n",
       "    core type: Variable\n",
       "    sub-expressions: "
      ]
     },
     "metadata": {},
     "output_type": "display_data"
    }
   ],
   "source": [
    "# display the expression information\n",
    "stored_expr.expr_info()"
   ]
  },
  {
   "cell_type": "code",
   "execution_count": null,
   "metadata": {},
   "outputs": [],
   "source": []
  }
 ],
 "metadata": {
  "kernelspec": {
   "display_name": "Python 3",
   "language": "python",
   "name": "python3"
  }
 },
 "nbformat": 4,
 "nbformat_minor": 0
}