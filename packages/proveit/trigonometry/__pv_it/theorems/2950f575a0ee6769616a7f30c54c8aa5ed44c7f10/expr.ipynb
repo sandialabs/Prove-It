{
 "cells": [
  {
   "cell_type": "markdown",
   "metadata": {},
   "source": [
    "Expression of type <a class=\"ProveItLink\" href=\"../../../../../../doc/html/api/proveit.logic.Equals.html\">Equals</a>\n",
    "=======================\n",
    "# from the theory of <a class=\"ProveItLink\" href=\"../../../_theory_nbs_/theory.ipynb\">proveit.trigonometry</a>"
   ]
  },
  {
   "cell_type": "code",
   "execution_count": 1,
   "metadata": {},
   "outputs": [],
   "source": [
    "import proveit\n",
    "# Automation is not needed when building an expression:\n",
    "proveit.defaults.automation = False # This will speed things up.\n",
    "proveit.defaults.inline_pngs = False # Makes files smaller.\n",
    "%load_expr # Load the stored expression as 'stored_expr'\n",
    "# import Expression classes needed to build the expression\n",
    "from proveit import a, b\n",
    "from proveit.logic import Equals\n",
    "from proveit.numbers import Abs, Exp, Mult, e, frac, i, subtract, two\n",
    "from proveit.trigonometry import Sin"
   ]
  },
  {
   "cell_type": "code",
   "execution_count": 2,
   "metadata": {},
   "outputs": [
    {
     "data": {
      "text/html": [
       "<strong id=\"expr\">expr:</strong> <a class=\"ProveItLink\" href=\"expr.ipynb\"><img src=\"expr.png\" style=\"display:inline;vertical-align:middle;\" /></a><br>"
      ],
      "text/plain": [
       "<IPython.core.display.HTML object>"
      ]
     },
     "metadata": {},
     "output_type": "display_data"
    }
   ],
   "source": [
    "# build up the expression from sub-expressions\n",
    "expr = Equals(Abs(subtract(Exp(e, Mult(i, a)), Exp(e, Mult(i, b)))), Mult(two, Sin(frac(Abs(subtract(a, b)), two))))"
   ]
  },
  {
   "cell_type": "code",
   "execution_count": 3,
   "metadata": {},
   "outputs": [
    {
     "name": "stdout",
     "output_type": "stream",
     "text": [
      "Passed sanity check: expr matches stored_expr\n"
     ]
    }
   ],
   "source": [
    "# check that the built expression is the same as the stored expression\n",
    "assert expr == stored_expr\n",
    "assert expr._style_id == stored_expr._style_id\n",
    "print(\"Passed sanity check: expr matches stored_expr\")"
   ]
  },
  {
   "cell_type": "code",
   "execution_count": 4,
   "metadata": {},
   "outputs": [
    {
     "name": "stdout",
     "output_type": "stream",
     "text": [
      "\\left|\\mathsf{e}^{\\mathsf{i} \\cdot a} - \\mathsf{e}^{\\mathsf{i} \\cdot b}\\right| = \\left(2 \\cdot \\sin{\\frac{\\left|a - b\\right|}{2}}\\right)\n"
     ]
    }
   ],
   "source": [
    "# Show the LaTeX representation of the expression for convenience if you need it.\n",
    "print(stored_expr.latex())"
   ]
  },
  {
   "cell_type": "code",
   "execution_count": 5,
   "metadata": {},
   "outputs": [
    {
     "data": {
      "text/html": [
       "<table>\n",
       "<tr><th>name</th><th>description</th><th>default</th><th>current value</th><th>related methods</th></tr><tr><td>operation</td><td>'infix' or 'function' style formatting</td><td>infix</td><td>infix</td><td></td></tr>\n",
       "<tr><td>wrap_positions</td><td>position(s) at which wrapping is to occur; '2 n - 1' is after the nth operand, '2 n' is after the nth operation.</td><td>()</td><td>()</td><td>('with_wrapping_at', 'with_wrap_before_operator', 'with_wrap_after_operator', 'without_wrapping', 'wrap_positions')</td></tr>\n",
       "<tr><td>justification</td><td>if any wrap positions are set, justify to the 'left', 'center', or 'right'</td><td>center</td><td>center</td><td>('with_justification',)</td></tr>\n",
       "<tr><td>direction</td><td>Direction of the relation (normal or reversed)</td><td>normal</td><td>normal</td><td>('with_direction_reversed', 'is_reversed')</td></tr>\n",
       "</table>\n"
      ],
      "text/plain": [
       "style name: operation\n",
       "description: 'infix' or 'function' style formatting\n",
       "default: infix\n",
       "current value: infix\n",
       "related methods: ()\n",
       "style name: wrap_positions\n",
       "description: position(s) at which wrapping is to occur; '2 n - 1' is after the nth operand, '2 n' is after the nth operation.\n",
       "default: ()\n",
       "current value: ()\n",
       "related methods: ('with_wrapping_at', 'with_wrap_before_operator', 'with_wrap_after_operator', 'without_wrapping', 'wrap_positions')\n",
       "style name: justification\n",
       "description: if any wrap positions are set, justify to the 'left', 'center', or 'right'\n",
       "default: center\n",
       "current value: center\n",
       "related methods: ('with_justification',)\n",
       "style name: direction\n",
       "description: Direction of the relation (normal or reversed)\n",
       "default: normal\n",
       "current value: normal\n",
       "related methods: ('with_direction_reversed', 'is_reversed')"
      ]
     },
     "metadata": {},
     "output_type": "display_data"
    }
   ],
   "source": [
    "stored_expr.style_options()"
   ]
  },
  {
   "cell_type": "code",
   "execution_count": 6,
   "metadata": {},
   "outputs": [
    {
     "data": {
      "text/html": [
       "<table><tr><th>&nbsp;</th><th>core type</th><th>sub-expressions</th><th>expression</th></tr>\n",
       "<tr><td>0</td><td>Operation</td><td>operator:&nbsp;1<br>operands:&nbsp;2<br></td><td><a class=\"ProveItLink\" href=\"expr.ipynb\"><img src=\"expr.png\" style=\"display:inline;vertical-align:middle;\" /></a></td></tr>\n",
       "<tr><td>1</td><td>Literal</td><td></td><td><a class=\"ProveItLink\" href=\"../../../../logic/equality/__pv_it/common/fb96dc12b2aa8801dda64d0132b396c63d1502bb0/expr.ipynb\"><img src=\"../../../../logic/equality/__pv_it/common/fb96dc12b2aa8801dda64d0132b396c63d1502bb0/expr.png\" style=\"display:inline;vertical-align:middle;\" /></a></td></tr>\n",
       "<tr><td>2</td><td>ExprTuple</td><td>3, 4</td><td><a class=\"ProveItLink\" href=\"../a6ea6c825a9072724bfdf74ee99dc0b8b8a4949e0/expr.ipynb\"><img src=\"../a6ea6c825a9072724bfdf74ee99dc0b8b8a4949e0/expr.png\" style=\"display:inline;vertical-align:middle;\" /></a></td></tr>\n",
       "<tr><td>3</td><td>Operation</td><td>operator:&nbsp;26<br>operand:&nbsp;7<br></td><td><a class=\"ProveItLink\" href=\"../ae6849a40f4bb14ec716c78e5074b405558dfec60/expr.ipynb\"><img src=\"../ae6849a40f4bb14ec716c78e5074b405558dfec60/expr.png\" style=\"display:inline;vertical-align:middle;\" /></a></td></tr>\n",
       "<tr><td>4</td><td>Operation</td><td>operator:&nbsp;31<br>operands:&nbsp;6<br></td><td><a class=\"ProveItLink\" href=\"../dfda3f4eea54c2fc94a24b7bf5eba01054a6e0a20/expr.ipynb\"><img src=\"../dfda3f4eea54c2fc94a24b7bf5eba01054a6e0a20/expr.png\" style=\"display:inline;vertical-align:middle;\" /></a></td></tr>\n",
       "<tr><td>5</td><td>ExprTuple</td><td>7</td><td><a class=\"ProveItLink\" href=\"../e3770aa39689b83a6c71caa46914b3d931bf51890/expr.ipynb\"><img src=\"../e3770aa39689b83a6c71caa46914b3d931bf51890/expr.png\" style=\"display:inline;vertical-align:middle;\" /></a></td></tr>\n",
       "<tr><td>6</td><td>ExprTuple</td><td>22, 8</td><td><a class=\"ProveItLink\" href=\"../41b014a0c9b099401be2f832215bb080963b58270/expr.ipynb\"><img src=\"../41b014a0c9b099401be2f832215bb080963b58270/expr.png\" style=\"display:inline;vertical-align:middle;\" /></a></td></tr>\n",
       "<tr><td>7</td><td>Operation</td><td>operator:&nbsp;33<br>operands:&nbsp;9<br></td><td><a class=\"ProveItLink\" href=\"../ed1d59460af45981110397398dfef2cd043813f10/expr.ipynb\"><img src=\"../ed1d59460af45981110397398dfef2cd043813f10/expr.png\" style=\"display:inline;vertical-align:middle;\" /></a></td></tr>\n",
       "<tr><td>8</td><td>Operation</td><td>operator:&nbsp;10<br>operand:&nbsp;14<br></td><td><a class=\"ProveItLink\" href=\"../bc26a8999515688227c8226fa17ee6479386241b0/expr.ipynb\"><img src=\"../bc26a8999515688227c8226fa17ee6479386241b0/expr.png\" style=\"display:inline;vertical-align:middle;\" /></a></td></tr>\n",
       "<tr><td>9</td><td>ExprTuple</td><td>12, 13</td><td><a class=\"ProveItLink\" href=\"../3106f73bed5cfb0200c851a78627eb25692533d90/expr.ipynb\"><img src=\"../3106f73bed5cfb0200c851a78627eb25692533d90/expr.png\" style=\"display:inline;vertical-align:middle;\" /></a></td></tr>\n",
       "<tr><td>10</td><td>Literal</td><td></td><td><a class=\"ProveItLink\" href=\"../../common/74595f13699450f0507665bef91ec92c40b682690/expr.ipynb\"><img src=\"../../common/74595f13699450f0507665bef91ec92c40b682690/expr.png\" style=\"display:inline;vertical-align:middle;\" /></a></td></tr>\n",
       "<tr><td>11</td><td>ExprTuple</td><td>14</td><td><a class=\"ProveItLink\" href=\"../4e1a21792e0d42b9e984e9561b1a910155bc5bc10/expr.ipynb\"><img src=\"../4e1a21792e0d42b9e984e9561b1a910155bc5bc10/expr.png\" style=\"display:inline;vertical-align:middle;\" /></a></td></tr>\n",
       "<tr><td>12</td><td>Operation</td><td>operator:&nbsp;24<br>operands:&nbsp;15<br></td><td><a class=\"ProveItLink\" href=\"../2561c2a177276e9604edd23063044679fd770a090/expr.ipynb\"><img src=\"../2561c2a177276e9604edd23063044679fd770a090/expr.png\" style=\"display:inline;vertical-align:middle;\" /></a></td></tr>\n",
       "<tr><td>13</td><td>Operation</td><td>operator:&nbsp;38<br>operand:&nbsp;20<br></td><td><a class=\"ProveItLink\" href=\"../c1b7b087f7876e68280ced193a341182ef5916ca0/expr.ipynb\"><img src=\"../c1b7b087f7876e68280ced193a341182ef5916ca0/expr.png\" style=\"display:inline;vertical-align:middle;\" /></a></td></tr>\n",
       "<tr><td>14</td><td>Operation</td><td>operator:&nbsp;17<br>operands:&nbsp;18<br></td><td><a class=\"ProveItLink\" href=\"../970c162e853ba176fb61b342b50c44a76bfd7a690/expr.ipynb\"><img src=\"../970c162e853ba176fb61b342b50c44a76bfd7a690/expr.png\" style=\"display:inline;vertical-align:middle;\" /></a></td></tr>\n",
       "<tr><td>15</td><td>ExprTuple</td><td>28, 19</td><td><a class=\"ProveItLink\" href=\"../00855dd780373f7ac1fcf7b483cf5b98be64baaa0/expr.ipynb\"><img src=\"../00855dd780373f7ac1fcf7b483cf5b98be64baaa0/expr.png\" style=\"display:inline;vertical-align:middle;\" /></a></td></tr>\n",
       "<tr><td>16</td><td>ExprTuple</td><td>20</td><td><a class=\"ProveItLink\" href=\"../69f9f4b27b3a969db796faa2a4f21086a36ba5610/expr.ipynb\"><img src=\"../69f9f4b27b3a969db796faa2a4f21086a36ba5610/expr.png\" style=\"display:inline;vertical-align:middle;\" /></a></td></tr>\n",
       "<tr><td>17</td><td>Literal</td><td></td><td><a class=\"ProveItLink\" href=\"../../../../numbers/division/__pv_it/common/a2a633e1e3c749fb1f2692466b287b6348c5de840/expr.ipynb\"><img src=\"../../../../numbers/division/__pv_it/common/a2a633e1e3c749fb1f2692466b287b6348c5de840/expr.png\" style=\"display:inline;vertical-align:middle;\" /></a></td></tr>\n",
       "<tr><td>18</td><td>ExprTuple</td><td>21, 22</td><td><a class=\"ProveItLink\" href=\"../53f51d51a402dcc3c97b297a110224e81c6573570/expr.ipynb\"><img src=\"../53f51d51a402dcc3c97b297a110224e81c6573570/expr.png\" style=\"display:inline;vertical-align:middle;\" /></a></td></tr>\n",
       "<tr><td>19</td><td>Operation</td><td>operator:&nbsp;31<br>operands:&nbsp;23<br></td><td><a class=\"ProveItLink\" href=\"../6a0870f22151bcb202ee717b1f290c3da3db26220/expr.ipynb\"><img src=\"../6a0870f22151bcb202ee717b1f290c3da3db26220/expr.png\" style=\"display:inline;vertical-align:middle;\" /></a></td></tr>\n",
       "<tr><td>20</td><td>Operation</td><td>operator:&nbsp;24<br>operands:&nbsp;25<br></td><td><a class=\"ProveItLink\" href=\"../1a98be96648832d06ee72d35c67b261ece5fdfec0/expr.ipynb\"><img src=\"../1a98be96648832d06ee72d35c67b261ece5fdfec0/expr.png\" style=\"display:inline;vertical-align:middle;\" /></a></td></tr>\n",
       "<tr><td>21</td><td>Operation</td><td>operator:&nbsp;26<br>operand:&nbsp;30<br></td><td><a class=\"ProveItLink\" href=\"../f9ea9e9a000e7604ffdc2685b81bb5b83f576f280/expr.ipynb\"><img src=\"../f9ea9e9a000e7604ffdc2685b81bb5b83f576f280/expr.png\" style=\"display:inline;vertical-align:middle;\" /></a></td></tr>\n",
       "<tr><td>22</td><td>Literal</td><td></td><td><a class=\"ProveItLink\" href=\"../../../../numbers/numerals/__pv_it/common/af4aab8a07465db063742696e006d04670f30cf10/expr.ipynb\"><img src=\"../../../../numbers/numerals/__pv_it/common/af4aab8a07465db063742696e006d04670f30cf10/expr.png\" style=\"display:inline;vertical-align:middle;\" /></a></td></tr>\n",
       "<tr><td>23</td><td>ExprTuple</td><td>35, 36</td><td><a class=\"ProveItLink\" href=\"../b919b0d5dd9d52e921961f1c3b76d583d95eb2640/expr.ipynb\"><img src=\"../b919b0d5dd9d52e921961f1c3b76d583d95eb2640/expr.png\" style=\"display:inline;vertical-align:middle;\" /></a></td></tr>\n",
       "<tr><td>24</td><td>Literal</td><td></td><td><a class=\"ProveItLink\" href=\"../../../../numbers/exponentiation/__pv_it/common/0ac37aca1e54c35c5cda09672df32d4f69f1f3020/expr.ipynb\"><img src=\"../../../../numbers/exponentiation/__pv_it/common/0ac37aca1e54c35c5cda09672df32d4f69f1f3020/expr.png\" style=\"display:inline;vertical-align:middle;\" /></a></td></tr>\n",
       "<tr><td>25</td><td>ExprTuple</td><td>28, 29</td><td><a class=\"ProveItLink\" href=\"../2068ee435c13a9585072f62b3b8edeccaf366c1a0/expr.ipynb\"><img src=\"../2068ee435c13a9585072f62b3b8edeccaf366c1a0/expr.png\" style=\"display:inline;vertical-align:middle;\" /></a></td></tr>\n",
       "<tr><td>26</td><td>Literal</td><td></td><td><a class=\"ProveItLink\" href=\"../../../../numbers/absolute_value/__pv_it/common/eea56c667bc0aad2dc76ed04b44c2bd98b94005f0/expr.ipynb\"><img src=\"../../../../numbers/absolute_value/__pv_it/common/eea56c667bc0aad2dc76ed04b44c2bd98b94005f0/expr.png\" style=\"display:inline;vertical-align:middle;\" /></a></td></tr>\n",
       "<tr><td>27</td><td>ExprTuple</td><td>30</td><td><a class=\"ProveItLink\" href=\"../dac4995c9a6a717ed7566054e9c1e104cf7a037d0/expr.ipynb\"><img src=\"../dac4995c9a6a717ed7566054e9c1e104cf7a037d0/expr.png\" style=\"display:inline;vertical-align:middle;\" /></a></td></tr>\n",
       "<tr><td>28</td><td>Literal</td><td></td><td><a class=\"ProveItLink\" href=\"../../../../numbers/number_sets/real_numbers/__pv_it/common/e531ffa54fd897084533764a4a14f19f590674f80/expr.ipynb\"><img src=\"../../../../numbers/number_sets/real_numbers/__pv_it/common/e531ffa54fd897084533764a4a14f19f590674f80/expr.png\" style=\"display:inline;vertical-align:middle;\" /></a></td></tr>\n",
       "<tr><td>29</td><td>Operation</td><td>operator:&nbsp;31<br>operands:&nbsp;32<br></td><td><a class=\"ProveItLink\" href=\"../561c654dd5cc8cc3e4afde79f9b221c65f2468710/expr.ipynb\"><img src=\"../561c654dd5cc8cc3e4afde79f9b221c65f2468710/expr.png\" style=\"display:inline;vertical-align:middle;\" /></a></td></tr>\n",
       "<tr><td>30</td><td>Operation</td><td>operator:&nbsp;33<br>operands:&nbsp;34<br></td><td><a class=\"ProveItLink\" href=\"../45b4fce329f13e9ad2deab107090346eb2d110320/expr.ipynb\"><img src=\"../45b4fce329f13e9ad2deab107090346eb2d110320/expr.png\" style=\"display:inline;vertical-align:middle;\" /></a></td></tr>\n",
       "<tr><td>31</td><td>Literal</td><td></td><td><a class=\"ProveItLink\" href=\"../../../../numbers/multiplication/__pv_it/common/ed719cef37831779c16481533a4d380a2f95ab270/expr.ipynb\"><img src=\"../../../../numbers/multiplication/__pv_it/common/ed719cef37831779c16481533a4d380a2f95ab270/expr.png\" style=\"display:inline;vertical-align:middle;\" /></a></td></tr>\n",
       "<tr><td>32</td><td>ExprTuple</td><td>35, 40</td><td><a class=\"ProveItLink\" href=\"../68c707e522bc25d2097efbeac349d0108eca297a0/expr.ipynb\"><img src=\"../68c707e522bc25d2097efbeac349d0108eca297a0/expr.png\" style=\"display:inline;vertical-align:middle;\" /></a></td></tr>\n",
       "<tr><td>33</td><td>Literal</td><td></td><td><a class=\"ProveItLink\" href=\"../../../../numbers/addition/__pv_it/common/4b7effaab3619a1c2c38fe2dee8601df8ec714590/expr.ipynb\"><img src=\"../../../../numbers/addition/__pv_it/common/4b7effaab3619a1c2c38fe2dee8601df8ec714590/expr.png\" style=\"display:inline;vertical-align:middle;\" /></a></td></tr>\n",
       "<tr><td>34</td><td>ExprTuple</td><td>36, 37</td><td><a class=\"ProveItLink\" href=\"../471e850ccc16f5997a7ac48ffff46f61d15d0d5f0/expr.ipynb\"><img src=\"../471e850ccc16f5997a7ac48ffff46f61d15d0d5f0/expr.png\" style=\"display:inline;vertical-align:middle;\" /></a></td></tr>\n",
       "<tr><td>35</td><td>Literal</td><td></td><td><a class=\"ProveItLink\" href=\"../../../../numbers/number_sets/complex_numbers/__pv_it/common/6c9cc69d472f352324c298b2318df233e9a7e0250/expr.ipynb\"><img src=\"../../../../numbers/number_sets/complex_numbers/__pv_it/common/6c9cc69d472f352324c298b2318df233e9a7e0250/expr.png\" style=\"display:inline;vertical-align:middle;\" /></a></td></tr>\n",
       "<tr><td>36</td><td>Variable</td><td></td><td><a class=\"ProveItLink\" href=\"../../../../__pv_it/common/c06c606ec12678c58933ac85412ecadc2ae28be60/expr.ipynb\"><img src=\"../../../../__pv_it/common/c06c606ec12678c58933ac85412ecadc2ae28be60/expr.png\" style=\"display:inline;vertical-align:middle;\" /></a></td></tr>\n",
       "<tr><td>37</td><td>Operation</td><td>operator:&nbsp;38<br>operand:&nbsp;40<br></td><td><a class=\"ProveItLink\" href=\"../c216ece09f1f63dbbdaff75b3e8b87340ddef1330/expr.ipynb\"><img src=\"../c216ece09f1f63dbbdaff75b3e8b87340ddef1330/expr.png\" style=\"display:inline;vertical-align:middle;\" /></a></td></tr>\n",
       "<tr><td>38</td><td>Literal</td><td></td><td><a class=\"ProveItLink\" href=\"../../../../numbers/negation/__pv_it/common/221b3c4d1770ee9051b7c044c3f9ec61196fc34b0/expr.ipynb\"><img src=\"../../../../numbers/negation/__pv_it/common/221b3c4d1770ee9051b7c044c3f9ec61196fc34b0/expr.png\" style=\"display:inline;vertical-align:middle;\" /></a></td></tr>\n",
       "<tr><td>39</td><td>ExprTuple</td><td>40</td><td><a class=\"ProveItLink\" href=\"../2172b6b5a562721cf67ce94593b8be1eb7f26c660/expr.ipynb\"><img src=\"../2172b6b5a562721cf67ce94593b8be1eb7f26c660/expr.png\" style=\"display:inline;vertical-align:middle;\" /></a></td></tr>\n",
       "<tr><td>40</td><td>Variable</td><td></td><td><a class=\"ProveItLink\" href=\"../../../../__pv_it/common/195236b98c6c564a75b5dbada74b173bc52d5c3e0/expr.ipynb\"><img src=\"../../../../__pv_it/common/195236b98c6c564a75b5dbada74b173bc52d5c3e0/expr.png\" style=\"display:inline;vertical-align:middle;\" /></a></td></tr>\n",
       "</table>\n"
      ],
      "text/plain": [
       "0. |e^{i * a} - e^{i * b}| = (2 * sin(|a - b| / 2))\n",
       "   core type: Operation\n",
       "   operator: 1\n",
       "   operands: 2\n",
       "1. =\n",
       "   core type: Literal\n",
       "   sub-expressions: \n",
       "2. (|e^{i * a} - e^{i * b}|, 2 * sin(|a - b| / 2))\n",
       "   core type: ExprTuple\n",
       "   sub-expressions: 3, 4\n",
       "3. |e^{i * a} - e^{i * b}|\n",
       "   core type: Operation\n",
       "   operator: 26\n",
       "   operand: 7\n",
       "4. 2 * sin(|a - b| / 2)\n",
       "   core type: Operation\n",
       "   operator: 31\n",
       "   operands: 6\n",
       "5. (e^{i * a} - e^{i * b})\n",
       "   core type: ExprTuple\n",
       "   sub-expressions: 7\n",
       "6. (2, sin(|a - b| / 2))\n",
       "   core type: ExprTuple\n",
       "   sub-expressions: 22, 8\n",
       "7. e^{i * a} - e^{i * b}\n",
       "   core type: Operation\n",
       "   operator: 33\n",
       "   operands: 9\n",
       "8. sin(|a - b| / 2)\n",
       "   core type: Operation\n",
       "   operator: 10\n",
       "   operand: 14\n",
       "9. (e^{i * a}, -e^{i * b})\n",
       "   core type: ExprTuple\n",
       "   sub-expressions: 12, 13\n",
       "10. sin\n",
       "    core type: Literal\n",
       "    sub-expressions: \n",
       "11. (|a - b| / 2)\n",
       "    core type: ExprTuple\n",
       "    sub-expressions: 14\n",
       "12. e^{i * a}\n",
       "    core type: Operation\n",
       "    operator: 24\n",
       "    operands: 15\n",
       "13. -e^{i * b}\n",
       "    core type: Operation\n",
       "    operator: 38\n",
       "    operand: 20\n",
       "14. |a - b| / 2\n",
       "    core type: Operation\n",
       "    operator: 17\n",
       "    operands: 18\n",
       "15. (e, i * a)\n",
       "    core type: ExprTuple\n",
       "    sub-expressions: 28, 19\n",
       "16. (e^{i * b})\n",
       "    core type: ExprTuple\n",
       "    sub-expressions: 20\n",
       "17. /\n",
       "    core type: Literal\n",
       "    sub-expressions: \n",
       "18. (|a - b|, 2)\n",
       "    core type: ExprTuple\n",
       "    sub-expressions: 21, 22\n",
       "19. i * a\n",
       "    core type: Operation\n",
       "    operator: 31\n",
       "    operands: 23\n",
       "20. e^{i * b}\n",
       "    core type: Operation\n",
       "    operator: 24\n",
       "    operands: 25\n",
       "21. |a - b|\n",
       "    core type: Operation\n",
       "    operator: 26\n",
       "    operand: 30\n",
       "22. 2\n",
       "    core type: Literal\n",
       "    sub-expressions: \n",
       "23. (i, a)\n",
       "    core type: ExprTuple\n",
       "    sub-expressions: 35, 36\n",
       "24. Exp\n",
       "    core type: Literal\n",
       "    sub-expressions: \n",
       "25. (e, i * b)\n",
       "    core type: ExprTuple\n",
       "    sub-expressions: 28, 29\n",
       "26. Abs\n",
       "    core type: Literal\n",
       "    sub-expressions: \n",
       "27. (a - b)\n",
       "    core type: ExprTuple\n",
       "    sub-expressions: 30\n",
       "28. e\n",
       "    core type: Literal\n",
       "    sub-expressions: \n",
       "29. i * b\n",
       "    core type: Operation\n",
       "    operator: 31\n",
       "    operands: 32\n",
       "30. a - b\n",
       "    core type: Operation\n",
       "    operator: 33\n",
       "    operands: 34\n",
       "31. *\n",
       "    core type: Literal\n",
       "    sub-expressions: \n",
       "32. (i, b)\n",
       "    core type: ExprTuple\n",
       "    sub-expressions: 35, 40\n",
       "33. +\n",
       "    core type: Literal\n",
       "    sub-expressions: \n",
       "34. (a, -b)\n",
       "    core type: ExprTuple\n",
       "    sub-expressions: 36, 37\n",
       "35. i\n",
       "    core type: Literal\n",
       "    sub-expressions: \n",
       "36. a\n",
       "    core type: Variable\n",
       "    sub-expressions: \n",
       "37. -b\n",
       "    core type: Operation\n",
       "    operator: 38\n",
       "    operand: 40\n",
       "38. -\n",
       "    core type: Literal\n",
       "    sub-expressions: \n",
       "39. (b)\n",
       "    core type: ExprTuple\n",
       "    sub-expressions: 40\n",
       "40. b\n",
       "    core type: Variable\n",
       "    sub-expressions: "
      ]
     },
     "metadata": {},
     "output_type": "display_data"
    }
   ],
   "source": [
    "# display the expression information\n",
    "stored_expr.expr_info()"
   ]
  },
  {
   "cell_type": "code",
   "execution_count": null,
   "metadata": {},
   "outputs": [],
   "source": []
  }
 ],
 "metadata": {
  "kernelspec": {
   "display_name": "Python 3",
   "language": "python",
   "name": "python3"
  }
 },
 "nbformat": 4,
 "nbformat_minor": 0
}