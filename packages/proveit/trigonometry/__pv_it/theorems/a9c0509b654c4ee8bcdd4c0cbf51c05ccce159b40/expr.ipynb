{
 "cells": [
  {
   "cell_type": "markdown",
   "metadata": {},
   "source": [
    "Expression of type <a class=\"ProveItLink\" href=\"../../../../../../doc/html/api/proveit.numbers.Abs.html\">Abs</a>\n",
    "=======================\n",
    "# from the theory of <a class=\"ProveItLink\" href=\"../../../_theory_nbs_/theory.ipynb\">proveit.trigonometry</a>"
   ]
  },
  {
   "cell_type": "code",
   "execution_count": 1,
   "metadata": {},
   "outputs": [],
   "source": [
    "import proveit\n",
    "# Automation is not needed when building an expression:\n",
    "proveit.defaults.automation = False # This will speed things up.\n",
    "proveit.defaults.inline_pngs = False # Makes files smaller.\n",
    "%load_expr # Load the stored expression as 'stored_expr'\n",
    "# import Expression classes needed to build the expression\n",
    "from proveit import a, b, r\n",
    "from proveit.numbers import Abs, Exp, Mult, e, i, subtract"
   ]
  },
  {
   "cell_type": "code",
   "execution_count": 2,
   "metadata": {},
   "outputs": [
    {
     "data": {
      "text/html": [
       "<strong id=\"expr\">expr:</strong> <a class=\"ProveItLink\" href=\"expr.ipynb\"><img src=\"expr.png\" style=\"display:inline;vertical-align:middle;\" /></a><br>"
      ],
      "text/plain": [
       "<IPython.core.display.HTML object>"
      ]
     },
     "metadata": {},
     "output_type": "display_data"
    }
   ],
   "source": [
    "# build up the expression from sub-expressions\n",
    "expr = Abs(subtract(Mult(r, Exp(e, Mult(i, a))), Mult(r, Exp(e, Mult(i, b)))))"
   ]
  },
  {
   "cell_type": "code",
   "execution_count": 3,
   "metadata": {},
   "outputs": [
    {
     "name": "stdout",
     "output_type": "stream",
     "text": [
      "Passed sanity check: expr matches stored_expr\n"
     ]
    }
   ],
   "source": [
    "# check that the built expression is the same as the stored expression\n",
    "assert expr == stored_expr\n",
    "assert expr._style_id == stored_expr._style_id\n",
    "print(\"Passed sanity check: expr matches stored_expr\")"
   ]
  },
  {
   "cell_type": "code",
   "execution_count": 4,
   "metadata": {},
   "outputs": [
    {
     "name": "stdout",
     "output_type": "stream",
     "text": [
      "\\left|\\left(r \\cdot \\mathsf{e}^{\\mathsf{i} \\cdot a}\\right) - \\left(r \\cdot \\mathsf{e}^{\\mathsf{i} \\cdot b}\\right)\\right|\n"
     ]
    }
   ],
   "source": [
    "# Show the LaTeX representation of the expression for convenience if you need it.\n",
    "print(stored_expr.latex())"
   ]
  },
  {
   "cell_type": "code",
   "execution_count": 5,
   "metadata": {},
   "outputs": [
    {
     "data": {
      "text/html": [
       "<table>\n",
       "<tr><th>name</th><th>description</th><th>default</th><th>current value</th><th>related methods</th></tr><tr><td>operation</td><td>'infix' or 'function' style formatting</td><td>infix</td><td>infix</td><td></td></tr>\n",
       "</table>\n"
      ],
      "text/plain": [
       "style name: operation\n",
       "description: 'infix' or 'function' style formatting\n",
       "default: infix\n",
       "current value: infix\n",
       "related methods: ()"
      ]
     },
     "metadata": {},
     "output_type": "display_data"
    }
   ],
   "source": [
    "stored_expr.style_options()"
   ]
  },
  {
   "cell_type": "code",
   "execution_count": 6,
   "metadata": {},
   "outputs": [
    {
     "data": {
      "text/html": [
       "<table><tr><th>&nbsp;</th><th>core type</th><th>sub-expressions</th><th>expression</th></tr>\n",
       "<tr><td>0</td><td>Operation</td><td>operator:&nbsp;1<br>operand:&nbsp;3<br></td><td><a class=\"ProveItLink\" href=\"expr.ipynb\"><img src=\"expr.png\" style=\"display:inline;vertical-align:middle;\" /></a></td></tr>\n",
       "<tr><td>1</td><td>Literal</td><td></td><td><a class=\"ProveItLink\" href=\"../../../../numbers/absolute_value/__pv_it/common/eea56c667bc0aad2dc76ed04b44c2bd98b94005f0/expr.ipynb\"><img src=\"../../../../numbers/absolute_value/__pv_it/common/eea56c667bc0aad2dc76ed04b44c2bd98b94005f0/expr.png\" style=\"display:inline;vertical-align:middle;\" /></a></td></tr>\n",
       "<tr><td>2</td><td>ExprTuple</td><td>3</td><td><a class=\"ProveItLink\" href=\"../820ab077b34a18c168529882359c6cbd22c04ea70/expr.ipynb\"><img src=\"../820ab077b34a18c168529882359c6cbd22c04ea70/expr.png\" style=\"display:inline;vertical-align:middle;\" /></a></td></tr>\n",
       "<tr><td>3</td><td>Operation</td><td>operator:&nbsp;4<br>operands:&nbsp;5<br></td><td><a class=\"ProveItLink\" href=\"../7d62be3eedc21dfe9c86bb8d8e5811bd4c7b77a00/expr.ipynb\"><img src=\"../7d62be3eedc21dfe9c86bb8d8e5811bd4c7b77a00/expr.png\" style=\"display:inline;vertical-align:middle;\" /></a></td></tr>\n",
       "<tr><td>4</td><td>Literal</td><td></td><td><a class=\"ProveItLink\" href=\"../../../../numbers/addition/__pv_it/common/4b7effaab3619a1c2c38fe2dee8601df8ec714590/expr.ipynb\"><img src=\"../../../../numbers/addition/__pv_it/common/4b7effaab3619a1c2c38fe2dee8601df8ec714590/expr.png\" style=\"display:inline;vertical-align:middle;\" /></a></td></tr>\n",
       "<tr><td>5</td><td>ExprTuple</td><td>6, 7</td><td><a class=\"ProveItLink\" href=\"../cff418240624ae1b7ce17f4552e259cc65e703760/expr.ipynb\"><img src=\"../cff418240624ae1b7ce17f4552e259cc65e703760/expr.png\" style=\"display:inline;vertical-align:middle;\" /></a></td></tr>\n",
       "<tr><td>6</td><td>Operation</td><td>operator:&nbsp;24<br>operands:&nbsp;8<br></td><td><a class=\"ProveItLink\" href=\"../7d9e4f2f193d3f813e99193827b90d0b30b5136b0/expr.ipynb\"><img src=\"../7d9e4f2f193d3f813e99193827b90d0b30b5136b0/expr.png\" style=\"display:inline;vertical-align:middle;\" /></a></td></tr>\n",
       "<tr><td>7</td><td>Operation</td><td>operator:&nbsp;9<br>operand:&nbsp;12<br></td><td><a class=\"ProveItLink\" href=\"../480d5b8de261b6b034400965cc0105e0c9ccb3030/expr.ipynb\"><img src=\"../480d5b8de261b6b034400965cc0105e0c9ccb3030/expr.png\" style=\"display:inline;vertical-align:middle;\" /></a></td></tr>\n",
       "<tr><td>8</td><td>ExprTuple</td><td>16, 11</td><td><a class=\"ProveItLink\" href=\"../60c446b127a9dd6d60efd69f1c32d27c68929bee0/expr.ipynb\"><img src=\"../60c446b127a9dd6d60efd69f1c32d27c68929bee0/expr.png\" style=\"display:inline;vertical-align:middle;\" /></a></td></tr>\n",
       "<tr><td>9</td><td>Literal</td><td></td><td><a class=\"ProveItLink\" href=\"../../../../numbers/negation/__pv_it/common/221b3c4d1770ee9051b7c044c3f9ec61196fc34b0/expr.ipynb\"><img src=\"../../../../numbers/negation/__pv_it/common/221b3c4d1770ee9051b7c044c3f9ec61196fc34b0/expr.png\" style=\"display:inline;vertical-align:middle;\" /></a></td></tr>\n",
       "<tr><td>10</td><td>ExprTuple</td><td>12</td><td><a class=\"ProveItLink\" href=\"../097f94292cb09b296493b01e81f8c675b99f47210/expr.ipynb\"><img src=\"../097f94292cb09b296493b01e81f8c675b99f47210/expr.png\" style=\"display:inline;vertical-align:middle;\" /></a></td></tr>\n",
       "<tr><td>11</td><td>Operation</td><td>operator:&nbsp;19<br>operands:&nbsp;13<br></td><td><a class=\"ProveItLink\" href=\"../2561c2a177276e9604edd23063044679fd770a090/expr.ipynb\"><img src=\"../2561c2a177276e9604edd23063044679fd770a090/expr.png\" style=\"display:inline;vertical-align:middle;\" /></a></td></tr>\n",
       "<tr><td>12</td><td>Operation</td><td>operator:&nbsp;24<br>operands:&nbsp;14<br></td><td><a class=\"ProveItLink\" href=\"../6d73580da2d9311bf739953094bbee2bc45455a00/expr.ipynb\"><img src=\"../6d73580da2d9311bf739953094bbee2bc45455a00/expr.png\" style=\"display:inline;vertical-align:middle;\" /></a></td></tr>\n",
       "<tr><td>13</td><td>ExprTuple</td><td>22, 15</td><td><a class=\"ProveItLink\" href=\"../00855dd780373f7ac1fcf7b483cf5b98be64baaa0/expr.ipynb\"><img src=\"../00855dd780373f7ac1fcf7b483cf5b98be64baaa0/expr.png\" style=\"display:inline;vertical-align:middle;\" /></a></td></tr>\n",
       "<tr><td>14</td><td>ExprTuple</td><td>16, 17</td><td><a class=\"ProveItLink\" href=\"../7f874525c339a2cd2c09425c0b14e74d1195b8510/expr.ipynb\"><img src=\"../7f874525c339a2cd2c09425c0b14e74d1195b8510/expr.png\" style=\"display:inline;vertical-align:middle;\" /></a></td></tr>\n",
       "<tr><td>15</td><td>Operation</td><td>operator:&nbsp;24<br>operands:&nbsp;18<br></td><td><a class=\"ProveItLink\" href=\"../6a0870f22151bcb202ee717b1f290c3da3db26220/expr.ipynb\"><img src=\"../6a0870f22151bcb202ee717b1f290c3da3db26220/expr.png\" style=\"display:inline;vertical-align:middle;\" /></a></td></tr>\n",
       "<tr><td>16</td><td>Variable</td><td></td><td><a class=\"ProveItLink\" href=\"../../../../__pv_it/common/c3df45f28d41d286d2eebe2be9be7af76c74d56b0/expr.ipynb\"><img src=\"../../../../__pv_it/common/c3df45f28d41d286d2eebe2be9be7af76c74d56b0/expr.png\" style=\"display:inline;vertical-align:middle;\" /></a></td></tr>\n",
       "<tr><td>17</td><td>Operation</td><td>operator:&nbsp;19<br>operands:&nbsp;20<br></td><td><a class=\"ProveItLink\" href=\"../1a98be96648832d06ee72d35c67b261ece5fdfec0/expr.ipynb\"><img src=\"../1a98be96648832d06ee72d35c67b261ece5fdfec0/expr.png\" style=\"display:inline;vertical-align:middle;\" /></a></td></tr>\n",
       "<tr><td>18</td><td>ExprTuple</td><td>26, 21</td><td><a class=\"ProveItLink\" href=\"../b919b0d5dd9d52e921961f1c3b76d583d95eb2640/expr.ipynb\"><img src=\"../b919b0d5dd9d52e921961f1c3b76d583d95eb2640/expr.png\" style=\"display:inline;vertical-align:middle;\" /></a></td></tr>\n",
       "<tr><td>19</td><td>Literal</td><td></td><td><a class=\"ProveItLink\" href=\"../../../../numbers/exponentiation/__pv_it/common/0ac37aca1e54c35c5cda09672df32d4f69f1f3020/expr.ipynb\"><img src=\"../../../../numbers/exponentiation/__pv_it/common/0ac37aca1e54c35c5cda09672df32d4f69f1f3020/expr.png\" style=\"display:inline;vertical-align:middle;\" /></a></td></tr>\n",
       "<tr><td>20</td><td>ExprTuple</td><td>22, 23</td><td><a class=\"ProveItLink\" href=\"../2068ee435c13a9585072f62b3b8edeccaf366c1a0/expr.ipynb\"><img src=\"../2068ee435c13a9585072f62b3b8edeccaf366c1a0/expr.png\" style=\"display:inline;vertical-align:middle;\" /></a></td></tr>\n",
       "<tr><td>21</td><td>Variable</td><td></td><td><a class=\"ProveItLink\" href=\"../../../../__pv_it/common/c06c606ec12678c58933ac85412ecadc2ae28be60/expr.ipynb\"><img src=\"../../../../__pv_it/common/c06c606ec12678c58933ac85412ecadc2ae28be60/expr.png\" style=\"display:inline;vertical-align:middle;\" /></a></td></tr>\n",
       "<tr><td>22</td><td>Literal</td><td></td><td><a class=\"ProveItLink\" href=\"../../../../numbers/number_sets/real_numbers/__pv_it/common/e531ffa54fd897084533764a4a14f19f590674f80/expr.ipynb\"><img src=\"../../../../numbers/number_sets/real_numbers/__pv_it/common/e531ffa54fd897084533764a4a14f19f590674f80/expr.png\" style=\"display:inline;vertical-align:middle;\" /></a></td></tr>\n",
       "<tr><td>23</td><td>Operation</td><td>operator:&nbsp;24<br>operands:&nbsp;25<br></td><td><a class=\"ProveItLink\" href=\"../561c654dd5cc8cc3e4afde79f9b221c65f2468710/expr.ipynb\"><img src=\"../561c654dd5cc8cc3e4afde79f9b221c65f2468710/expr.png\" style=\"display:inline;vertical-align:middle;\" /></a></td></tr>\n",
       "<tr><td>24</td><td>Literal</td><td></td><td><a class=\"ProveItLink\" href=\"../../../../numbers/multiplication/__pv_it/common/ed719cef37831779c16481533a4d380a2f95ab270/expr.ipynb\"><img src=\"../../../../numbers/multiplication/__pv_it/common/ed719cef37831779c16481533a4d380a2f95ab270/expr.png\" style=\"display:inline;vertical-align:middle;\" /></a></td></tr>\n",
       "<tr><td>25</td><td>ExprTuple</td><td>26, 27</td><td><a class=\"ProveItLink\" href=\"../68c707e522bc25d2097efbeac349d0108eca297a0/expr.ipynb\"><img src=\"../68c707e522bc25d2097efbeac349d0108eca297a0/expr.png\" style=\"display:inline;vertical-align:middle;\" /></a></td></tr>\n",
       "<tr><td>26</td><td>Literal</td><td></td><td><a class=\"ProveItLink\" href=\"../../../../numbers/number_sets/complex_numbers/__pv_it/common/6c9cc69d472f352324c298b2318df233e9a7e0250/expr.ipynb\"><img src=\"../../../../numbers/number_sets/complex_numbers/__pv_it/common/6c9cc69d472f352324c298b2318df233e9a7e0250/expr.png\" style=\"display:inline;vertical-align:middle;\" /></a></td></tr>\n",
       "<tr><td>27</td><td>Variable</td><td></td><td><a class=\"ProveItLink\" href=\"../../../../__pv_it/common/195236b98c6c564a75b5dbada74b173bc52d5c3e0/expr.ipynb\"><img src=\"../../../../__pv_it/common/195236b98c6c564a75b5dbada74b173bc52d5c3e0/expr.png\" style=\"display:inline;vertical-align:middle;\" /></a></td></tr>\n",
       "</table>\n"
      ],
      "text/plain": [
       "0. |(r * e^{i * a}) - (r * e^{i * b})|\n",
       "   core type: Operation\n",
       "   operator: 1\n",
       "   operand: 3\n",
       "1. Abs\n",
       "   core type: Literal\n",
       "   sub-expressions: \n",
       "2. ((r * e^{i * a}) - (r * e^{i * b}))\n",
       "   core type: ExprTuple\n",
       "   sub-expressions: 3\n",
       "3. (r * e^{i * a}) - (r * e^{i * b})\n",
       "   core type: Operation\n",
       "   operator: 4\n",
       "   operands: 5\n",
       "4. +\n",
       "   core type: Literal\n",
       "   sub-expressions: \n",
       "5. (r * e^{i * a}, -(r * e^{i * b}))\n",
       "   core type: ExprTuple\n",
       "   sub-expressions: 6, 7\n",
       "6. r * e^{i * a}\n",
       "   core type: Operation\n",
       "   operator: 24\n",
       "   operands: 8\n",
       "7. -(r * e^{i * b})\n",
       "   core type: Operation\n",
       "   operator: 9\n",
       "   operand: 12\n",
       "8. (r, e^{i * a})\n",
       "   core type: ExprTuple\n",
       "   sub-expressions: 16, 11\n",
       "9. -\n",
       "   core type: Literal\n",
       "   sub-expressions: \n",
       "10. (r * e^{i * b})\n",
       "    core type: ExprTuple\n",
       "    sub-expressions: 12\n",
       "11. e^{i * a}\n",
       "    core type: Operation\n",
       "    operator: 19\n",
       "    operands: 13\n",
       "12. r * e^{i * b}\n",
       "    core type: Operation\n",
       "    operator: 24\n",
       "    operands: 14\n",
       "13. (e, i * a)\n",
       "    core type: ExprTuple\n",
       "    sub-expressions: 22, 15\n",
       "14. (r, e^{i * b})\n",
       "    core type: ExprTuple\n",
       "    sub-expressions: 16, 17\n",
       "15. i * a\n",
       "    core type: Operation\n",
       "    operator: 24\n",
       "    operands: 18\n",
       "16. r\n",
       "    core type: Variable\n",
       "    sub-expressions: \n",
       "17. e^{i * b}\n",
       "    core type: Operation\n",
       "    operator: 19\n",
       "    operands: 20\n",
       "18. (i, a)\n",
       "    core type: ExprTuple\n",
       "    sub-expressions: 26, 21\n",
       "19. Exp\n",
       "    core type: Literal\n",
       "    sub-expressions: \n",
       "20. (e, i * b)\n",
       "    core type: ExprTuple\n",
       "    sub-expressions: 22, 23\n",
       "21. a\n",
       "    core type: Variable\n",
       "    sub-expressions: \n",
       "22. e\n",
       "    core type: Literal\n",
       "    sub-expressions: \n",
       "23. i * b\n",
       "    core type: Operation\n",
       "    operator: 24\n",
       "    operands: 25\n",
       "24. *\n",
       "    core type: Literal\n",
       "    sub-expressions: \n",
       "25. (i, b)\n",
       "    core type: ExprTuple\n",
       "    sub-expressions: 26, 27\n",
       "26. i\n",
       "    core type: Literal\n",
       "    sub-expressions: \n",
       "27. b\n",
       "    core type: Variable\n",
       "    sub-expressions: "
      ]
     },
     "metadata": {},
     "output_type": "display_data"
    }
   ],
   "source": [
    "# display the expression information\n",
    "stored_expr.expr_info()"
   ]
  },
  {
   "cell_type": "code",
   "execution_count": null,
   "metadata": {},
   "outputs": [],
   "source": []
  }
 ],
 "metadata": {
  "kernelspec": {
   "display_name": "Python 3",
   "language": "python",
   "name": "python3"
  }
 },
 "nbformat": 4,
 "nbformat_minor": 0
}