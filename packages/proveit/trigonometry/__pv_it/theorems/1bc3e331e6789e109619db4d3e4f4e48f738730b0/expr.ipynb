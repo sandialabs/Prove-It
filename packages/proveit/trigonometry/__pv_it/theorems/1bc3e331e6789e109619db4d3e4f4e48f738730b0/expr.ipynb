{
 "cells": [
  {
   "cell_type": "markdown",
   "metadata": {},
   "source": [
    "Expression of type <a class=\"ProveItLink\" href=\"../../../../../../doc/html/api/proveit.logic.Equals.html\">Equals</a>\n",
    "=======================\n",
    "# from the theory of <a class=\"ProveItLink\" href=\"../../../_theory_nbs_/theory.ipynb\">proveit.trigonometry</a>"
   ]
  },
  {
   "cell_type": "code",
   "execution_count": 1,
   "metadata": {},
   "outputs": [],
   "source": [
    "import proveit\n",
    "# Automation is not needed when building an expression:\n",
    "proveit.defaults.automation = False # This will speed things up.\n",
    "proveit.defaults.inline_pngs = False # Makes files smaller.\n",
    "%load_expr # Load the stored expression as 'stored_expr'\n",
    "# import Expression classes needed to build the expression\n",
    "from proveit import a, b, r\n",
    "from proveit.logic import Equals\n",
    "from proveit.numbers import Abs, Exp, Mult, e, frac, i, subtract, two\n",
    "from proveit.trigonometry import Sin"
   ]
  },
  {
   "cell_type": "code",
   "execution_count": 2,
   "metadata": {},
   "outputs": [
    {
     "data": {
      "text/html": [
       "<strong id=\"expr\">expr:</strong> <a class=\"ProveItLink\" href=\"expr.ipynb\"><img src=\"expr.png\" style=\"display:inline;vertical-align:middle;\" /></a><br>"
      ],
      "text/plain": [
       "<IPython.core.display.HTML object>"
      ]
     },
     "metadata": {},
     "output_type": "display_data"
    }
   ],
   "source": [
    "# build up the expression from sub-expressions\n",
    "expr = Equals(Abs(subtract(Mult(r, Exp(e, Mult(i, a))), Mult(r, Exp(e, Mult(i, b))))), Mult(two, r, Sin(frac(Abs(subtract(a, b)), two))))"
   ]
  },
  {
   "cell_type": "code",
   "execution_count": 3,
   "metadata": {},
   "outputs": [
    {
     "name": "stdout",
     "output_type": "stream",
     "text": [
      "Passed sanity check: expr matches stored_expr\n"
     ]
    }
   ],
   "source": [
    "# check that the built expression is the same as the stored expression\n",
    "assert expr == stored_expr\n",
    "assert expr._style_id == stored_expr._style_id\n",
    "print(\"Passed sanity check: expr matches stored_expr\")"
   ]
  },
  {
   "cell_type": "code",
   "execution_count": 4,
   "metadata": {},
   "outputs": [
    {
     "name": "stdout",
     "output_type": "stream",
     "text": [
      "\\left|\\left(r \\cdot \\mathsf{e}^{\\mathsf{i} \\cdot a}\\right) - \\left(r \\cdot \\mathsf{e}^{\\mathsf{i} \\cdot b}\\right)\\right| = \\left(2 \\cdot r \\cdot \\sin{\\frac{\\left|a - b\\right|}{2}}\\right)\n"
     ]
    }
   ],
   "source": [
    "# Show the LaTeX representation of the expression for convenience if you need it.\n",
    "print(stored_expr.latex())"
   ]
  },
  {
   "cell_type": "code",
   "execution_count": 5,
   "metadata": {},
   "outputs": [
    {
     "data": {
      "text/html": [
       "<table>\n",
       "<tr><th>name</th><th>description</th><th>default</th><th>current value</th><th>related methods</th></tr><tr><td>operation</td><td>'infix' or 'function' style formatting</td><td>infix</td><td>infix</td><td></td></tr>\n",
       "<tr><td>wrap_positions</td><td>position(s) at which wrapping is to occur; '2 n - 1' is after the nth operand, '2 n' is after the nth operation.</td><td>()</td><td>()</td><td>('with_wrapping_at', 'with_wrap_before_operator', 'with_wrap_after_operator', 'without_wrapping', 'wrap_positions')</td></tr>\n",
       "<tr><td>justification</td><td>if any wrap positions are set, justify to the 'left', 'center', or 'right'</td><td>center</td><td>center</td><td>('with_justification',)</td></tr>\n",
       "<tr><td>direction</td><td>Direction of the relation (normal or reversed)</td><td>normal</td><td>normal</td><td>('with_direction_reversed', 'is_reversed')</td></tr>\n",
       "</table>\n"
      ],
      "text/plain": [
       "style name: operation\n",
       "description: 'infix' or 'function' style formatting\n",
       "default: infix\n",
       "current value: infix\n",
       "related methods: ()\n",
       "style name: wrap_positions\n",
       "description: position(s) at which wrapping is to occur; '2 n - 1' is after the nth operand, '2 n' is after the nth operation.\n",
       "default: ()\n",
       "current value: ()\n",
       "related methods: ('with_wrapping_at', 'with_wrap_before_operator', 'with_wrap_after_operator', 'without_wrapping', 'wrap_positions')\n",
       "style name: justification\n",
       "description: if any wrap positions are set, justify to the 'left', 'center', or 'right'\n",
       "default: center\n",
       "current value: center\n",
       "related methods: ('with_justification',)\n",
       "style name: direction\n",
       "description: Direction of the relation (normal or reversed)\n",
       "default: normal\n",
       "current value: normal\n",
       "related methods: ('with_direction_reversed', 'is_reversed')"
      ]
     },
     "metadata": {},
     "output_type": "display_data"
    }
   ],
   "source": [
    "stored_expr.style_options()"
   ]
  },
  {
   "cell_type": "code",
   "execution_count": 6,
   "metadata": {},
   "outputs": [
    {
     "data": {
      "text/html": [
       "<table><tr><th>&nbsp;</th><th>core type</th><th>sub-expressions</th><th>expression</th></tr>\n",
       "<tr><td>0</td><td>Operation</td><td>operator:&nbsp;1<br>operands:&nbsp;2<br></td><td><a class=\"ProveItLink\" href=\"expr.ipynb\"><img src=\"expr.png\" style=\"display:inline;vertical-align:middle;\" /></a></td></tr>\n",
       "<tr><td>1</td><td>Literal</td><td></td><td><a class=\"ProveItLink\" href=\"../../../../logic/equality/__pv_it/common/fb96dc12b2aa8801dda64d0132b396c63d1502bb0/expr.ipynb\"><img src=\"../../../../logic/equality/__pv_it/common/fb96dc12b2aa8801dda64d0132b396c63d1502bb0/expr.png\" style=\"display:inline;vertical-align:middle;\" /></a></td></tr>\n",
       "<tr><td>2</td><td>ExprTuple</td><td>3, 4</td><td><a class=\"ProveItLink\" href=\"../d8e8599f89664df8c2e63a899648332989347a2a0/expr.ipynb\"><img src=\"../d8e8599f89664df8c2e63a899648332989347a2a0/expr.png\" style=\"display:inline;vertical-align:middle;\" /></a></td></tr>\n",
       "<tr><td>3</td><td>Operation</td><td>operator:&nbsp;25<br>operand:&nbsp;7<br></td><td><a class=\"ProveItLink\" href=\"../a9c0509b654c4ee8bcdd4c0cbf51c05ccce159b40/expr.ipynb\"><img src=\"../a9c0509b654c4ee8bcdd4c0cbf51c05ccce159b40/expr.png\" style=\"display:inline;vertical-align:middle;\" /></a></td></tr>\n",
       "<tr><td>4</td><td>Operation</td><td>operator:&nbsp;40<br>operands:&nbsp;6<br></td><td><a class=\"ProveItLink\" href=\"../328ce7b70105202685625f17bae94a0051fb77db0/expr.ipynb\"><img src=\"../328ce7b70105202685625f17bae94a0051fb77db0/expr.png\" style=\"display:inline;vertical-align:middle;\" /></a></td></tr>\n",
       "<tr><td>5</td><td>ExprTuple</td><td>7</td><td><a class=\"ProveItLink\" href=\"../820ab077b34a18c168529882359c6cbd22c04ea70/expr.ipynb\"><img src=\"../820ab077b34a18c168529882359c6cbd22c04ea70/expr.png\" style=\"display:inline;vertical-align:middle;\" /></a></td></tr>\n",
       "<tr><td>6</td><td>ExprTuple</td><td>22, 28, 8</td><td><a class=\"ProveItLink\" href=\"../d4381c0aa02847e5ba68bf6cb2971e07c213b0010/expr.ipynb\"><img src=\"../d4381c0aa02847e5ba68bf6cb2971e07c213b0010/expr.png\" style=\"display:inline;vertical-align:middle;\" /></a></td></tr>\n",
       "<tr><td>7</td><td>Operation</td><td>operator:&nbsp;34<br>operands:&nbsp;9<br></td><td><a class=\"ProveItLink\" href=\"../7d62be3eedc21dfe9c86bb8d8e5811bd4c7b77a00/expr.ipynb\"><img src=\"../7d62be3eedc21dfe9c86bb8d8e5811bd4c7b77a00/expr.png\" style=\"display:inline;vertical-align:middle;\" /></a></td></tr>\n",
       "<tr><td>8</td><td>Operation</td><td>operator:&nbsp;10<br>operand:&nbsp;14<br></td><td><a class=\"ProveItLink\" href=\"../bc26a8999515688227c8226fa17ee6479386241b0/expr.ipynb\"><img src=\"../bc26a8999515688227c8226fa17ee6479386241b0/expr.png\" style=\"display:inline;vertical-align:middle;\" /></a></td></tr>\n",
       "<tr><td>9</td><td>ExprTuple</td><td>12, 13</td><td><a class=\"ProveItLink\" href=\"../cff418240624ae1b7ce17f4552e259cc65e703760/expr.ipynb\"><img src=\"../cff418240624ae1b7ce17f4552e259cc65e703760/expr.png\" style=\"display:inline;vertical-align:middle;\" /></a></td></tr>\n",
       "<tr><td>10</td><td>Literal</td><td></td><td><a class=\"ProveItLink\" href=\"../../common/74595f13699450f0507665bef91ec92c40b682690/expr.ipynb\"><img src=\"../../common/74595f13699450f0507665bef91ec92c40b682690/expr.png\" style=\"display:inline;vertical-align:middle;\" /></a></td></tr>\n",
       "<tr><td>11</td><td>ExprTuple</td><td>14</td><td><a class=\"ProveItLink\" href=\"../4e1a21792e0d42b9e984e9561b1a910155bc5bc10/expr.ipynb\"><img src=\"../4e1a21792e0d42b9e984e9561b1a910155bc5bc10/expr.png\" style=\"display:inline;vertical-align:middle;\" /></a></td></tr>\n",
       "<tr><td>12</td><td>Operation</td><td>operator:&nbsp;40<br>operands:&nbsp;15<br></td><td><a class=\"ProveItLink\" href=\"../7d9e4f2f193d3f813e99193827b90d0b30b5136b0/expr.ipynb\"><img src=\"../7d9e4f2f193d3f813e99193827b90d0b30b5136b0/expr.png\" style=\"display:inline;vertical-align:middle;\" /></a></td></tr>\n",
       "<tr><td>13</td><td>Operation</td><td>operator:&nbsp;42<br>operand:&nbsp;20<br></td><td><a class=\"ProveItLink\" href=\"../480d5b8de261b6b034400965cc0105e0c9ccb3030/expr.ipynb\"><img src=\"../480d5b8de261b6b034400965cc0105e0c9ccb3030/expr.png\" style=\"display:inline;vertical-align:middle;\" /></a></td></tr>\n",
       "<tr><td>14</td><td>Operation</td><td>operator:&nbsp;17<br>operands:&nbsp;18<br></td><td><a class=\"ProveItLink\" href=\"../970c162e853ba176fb61b342b50c44a76bfd7a690/expr.ipynb\"><img src=\"../970c162e853ba176fb61b342b50c44a76bfd7a690/expr.png\" style=\"display:inline;vertical-align:middle;\" /></a></td></tr>\n",
       "<tr><td>15</td><td>ExprTuple</td><td>28, 19</td><td><a class=\"ProveItLink\" href=\"../60c446b127a9dd6d60efd69f1c32d27c68929bee0/expr.ipynb\"><img src=\"../60c446b127a9dd6d60efd69f1c32d27c68929bee0/expr.png\" style=\"display:inline;vertical-align:middle;\" /></a></td></tr>\n",
       "<tr><td>16</td><td>ExprTuple</td><td>20</td><td><a class=\"ProveItLink\" href=\"../097f94292cb09b296493b01e81f8c675b99f47210/expr.ipynb\"><img src=\"../097f94292cb09b296493b01e81f8c675b99f47210/expr.png\" style=\"display:inline;vertical-align:middle;\" /></a></td></tr>\n",
       "<tr><td>17</td><td>Literal</td><td></td><td><a class=\"ProveItLink\" href=\"../../../../numbers/division/__pv_it/common/a2a633e1e3c749fb1f2692466b287b6348c5de840/expr.ipynb\"><img src=\"../../../../numbers/division/__pv_it/common/a2a633e1e3c749fb1f2692466b287b6348c5de840/expr.png\" style=\"display:inline;vertical-align:middle;\" /></a></td></tr>\n",
       "<tr><td>18</td><td>ExprTuple</td><td>21, 22</td><td><a class=\"ProveItLink\" href=\"../53f51d51a402dcc3c97b297a110224e81c6573570/expr.ipynb\"><img src=\"../53f51d51a402dcc3c97b297a110224e81c6573570/expr.png\" style=\"display:inline;vertical-align:middle;\" /></a></td></tr>\n",
       "<tr><td>19</td><td>Operation</td><td>operator:&nbsp;32<br>operands:&nbsp;23<br></td><td><a class=\"ProveItLink\" href=\"../2561c2a177276e9604edd23063044679fd770a090/expr.ipynb\"><img src=\"../2561c2a177276e9604edd23063044679fd770a090/expr.png\" style=\"display:inline;vertical-align:middle;\" /></a></td></tr>\n",
       "<tr><td>20</td><td>Operation</td><td>operator:&nbsp;40<br>operands:&nbsp;24<br></td><td><a class=\"ProveItLink\" href=\"../6d73580da2d9311bf739953094bbee2bc45455a00/expr.ipynb\"><img src=\"../6d73580da2d9311bf739953094bbee2bc45455a00/expr.png\" style=\"display:inline;vertical-align:middle;\" /></a></td></tr>\n",
       "<tr><td>21</td><td>Operation</td><td>operator:&nbsp;25<br>operand:&nbsp;30<br></td><td><a class=\"ProveItLink\" href=\"../f9ea9e9a000e7604ffdc2685b81bb5b83f576f280/expr.ipynb\"><img src=\"../f9ea9e9a000e7604ffdc2685b81bb5b83f576f280/expr.png\" style=\"display:inline;vertical-align:middle;\" /></a></td></tr>\n",
       "<tr><td>22</td><td>Literal</td><td></td><td><a class=\"ProveItLink\" href=\"../../../../numbers/numerals/__pv_it/common/af4aab8a07465db063742696e006d04670f30cf10/expr.ipynb\"><img src=\"../../../../numbers/numerals/__pv_it/common/af4aab8a07465db063742696e006d04670f30cf10/expr.png\" style=\"display:inline;vertical-align:middle;\" /></a></td></tr>\n",
       "<tr><td>23</td><td>ExprTuple</td><td>36, 27</td><td><a class=\"ProveItLink\" href=\"../00855dd780373f7ac1fcf7b483cf5b98be64baaa0/expr.ipynb\"><img src=\"../00855dd780373f7ac1fcf7b483cf5b98be64baaa0/expr.png\" style=\"display:inline;vertical-align:middle;\" /></a></td></tr>\n",
       "<tr><td>24</td><td>ExprTuple</td><td>28, 29</td><td><a class=\"ProveItLink\" href=\"../7f874525c339a2cd2c09425c0b14e74d1195b8510/expr.ipynb\"><img src=\"../7f874525c339a2cd2c09425c0b14e74d1195b8510/expr.png\" style=\"display:inline;vertical-align:middle;\" /></a></td></tr>\n",
       "<tr><td>25</td><td>Literal</td><td></td><td><a class=\"ProveItLink\" href=\"../../../../numbers/absolute_value/__pv_it/common/eea56c667bc0aad2dc76ed04b44c2bd98b94005f0/expr.ipynb\"><img src=\"../../../../numbers/absolute_value/__pv_it/common/eea56c667bc0aad2dc76ed04b44c2bd98b94005f0/expr.png\" style=\"display:inline;vertical-align:middle;\" /></a></td></tr>\n",
       "<tr><td>26</td><td>ExprTuple</td><td>30</td><td><a class=\"ProveItLink\" href=\"../dac4995c9a6a717ed7566054e9c1e104cf7a037d0/expr.ipynb\"><img src=\"../dac4995c9a6a717ed7566054e9c1e104cf7a037d0/expr.png\" style=\"display:inline;vertical-align:middle;\" /></a></td></tr>\n",
       "<tr><td>27</td><td>Operation</td><td>operator:&nbsp;40<br>operands:&nbsp;31<br></td><td><a class=\"ProveItLink\" href=\"../6a0870f22151bcb202ee717b1f290c3da3db26220/expr.ipynb\"><img src=\"../6a0870f22151bcb202ee717b1f290c3da3db26220/expr.png\" style=\"display:inline;vertical-align:middle;\" /></a></td></tr>\n",
       "<tr><td>28</td><td>Variable</td><td></td><td><a class=\"ProveItLink\" href=\"../../../../__pv_it/common/c3df45f28d41d286d2eebe2be9be7af76c74d56b0/expr.ipynb\"><img src=\"../../../../__pv_it/common/c3df45f28d41d286d2eebe2be9be7af76c74d56b0/expr.png\" style=\"display:inline;vertical-align:middle;\" /></a></td></tr>\n",
       "<tr><td>29</td><td>Operation</td><td>operator:&nbsp;32<br>operands:&nbsp;33<br></td><td><a class=\"ProveItLink\" href=\"../1a98be96648832d06ee72d35c67b261ece5fdfec0/expr.ipynb\"><img src=\"../1a98be96648832d06ee72d35c67b261ece5fdfec0/expr.png\" style=\"display:inline;vertical-align:middle;\" /></a></td></tr>\n",
       "<tr><td>30</td><td>Operation</td><td>operator:&nbsp;34<br>operands:&nbsp;35<br></td><td><a class=\"ProveItLink\" href=\"../45b4fce329f13e9ad2deab107090346eb2d110320/expr.ipynb\"><img src=\"../45b4fce329f13e9ad2deab107090346eb2d110320/expr.png\" style=\"display:inline;vertical-align:middle;\" /></a></td></tr>\n",
       "<tr><td>31</td><td>ExprTuple</td><td>44, 38</td><td><a class=\"ProveItLink\" href=\"../b919b0d5dd9d52e921961f1c3b76d583d95eb2640/expr.ipynb\"><img src=\"../b919b0d5dd9d52e921961f1c3b76d583d95eb2640/expr.png\" style=\"display:inline;vertical-align:middle;\" /></a></td></tr>\n",
       "<tr><td>32</td><td>Literal</td><td></td><td><a class=\"ProveItLink\" href=\"../../../../numbers/exponentiation/__pv_it/common/0ac37aca1e54c35c5cda09672df32d4f69f1f3020/expr.ipynb\"><img src=\"../../../../numbers/exponentiation/__pv_it/common/0ac37aca1e54c35c5cda09672df32d4f69f1f3020/expr.png\" style=\"display:inline;vertical-align:middle;\" /></a></td></tr>\n",
       "<tr><td>33</td><td>ExprTuple</td><td>36, 37</td><td><a class=\"ProveItLink\" href=\"../2068ee435c13a9585072f62b3b8edeccaf366c1a0/expr.ipynb\"><img src=\"../2068ee435c13a9585072f62b3b8edeccaf366c1a0/expr.png\" style=\"display:inline;vertical-align:middle;\" /></a></td></tr>\n",
       "<tr><td>34</td><td>Literal</td><td></td><td><a class=\"ProveItLink\" href=\"../../../../numbers/addition/__pv_it/common/4b7effaab3619a1c2c38fe2dee8601df8ec714590/expr.ipynb\"><img src=\"../../../../numbers/addition/__pv_it/common/4b7effaab3619a1c2c38fe2dee8601df8ec714590/expr.png\" style=\"display:inline;vertical-align:middle;\" /></a></td></tr>\n",
       "<tr><td>35</td><td>ExprTuple</td><td>38, 39</td><td><a class=\"ProveItLink\" href=\"../471e850ccc16f5997a7ac48ffff46f61d15d0d5f0/expr.ipynb\"><img src=\"../471e850ccc16f5997a7ac48ffff46f61d15d0d5f0/expr.png\" style=\"display:inline;vertical-align:middle;\" /></a></td></tr>\n",
       "<tr><td>36</td><td>Literal</td><td></td><td><a class=\"ProveItLink\" href=\"../../../../numbers/number_sets/real_numbers/__pv_it/common/e531ffa54fd897084533764a4a14f19f590674f80/expr.ipynb\"><img src=\"../../../../numbers/number_sets/real_numbers/__pv_it/common/e531ffa54fd897084533764a4a14f19f590674f80/expr.png\" style=\"display:inline;vertical-align:middle;\" /></a></td></tr>\n",
       "<tr><td>37</td><td>Operation</td><td>operator:&nbsp;40<br>operands:&nbsp;41<br></td><td><a class=\"ProveItLink\" href=\"../561c654dd5cc8cc3e4afde79f9b221c65f2468710/expr.ipynb\"><img src=\"../561c654dd5cc8cc3e4afde79f9b221c65f2468710/expr.png\" style=\"display:inline;vertical-align:middle;\" /></a></td></tr>\n",
       "<tr><td>38</td><td>Variable</td><td></td><td><a class=\"ProveItLink\" href=\"../../../../__pv_it/common/c06c606ec12678c58933ac85412ecadc2ae28be60/expr.ipynb\"><img src=\"../../../../__pv_it/common/c06c606ec12678c58933ac85412ecadc2ae28be60/expr.png\" style=\"display:inline;vertical-align:middle;\" /></a></td></tr>\n",
       "<tr><td>39</td><td>Operation</td><td>operator:&nbsp;42<br>operand:&nbsp;45<br></td><td><a class=\"ProveItLink\" href=\"../c216ece09f1f63dbbdaff75b3e8b87340ddef1330/expr.ipynb\"><img src=\"../c216ece09f1f63dbbdaff75b3e8b87340ddef1330/expr.png\" style=\"display:inline;vertical-align:middle;\" /></a></td></tr>\n",
       "<tr><td>40</td><td>Literal</td><td></td><td><a class=\"ProveItLink\" href=\"../../../../numbers/multiplication/__pv_it/common/ed719cef37831779c16481533a4d380a2f95ab270/expr.ipynb\"><img src=\"../../../../numbers/multiplication/__pv_it/common/ed719cef37831779c16481533a4d380a2f95ab270/expr.png\" style=\"display:inline;vertical-align:middle;\" /></a></td></tr>\n",
       "<tr><td>41</td><td>ExprTuple</td><td>44, 45</td><td><a class=\"ProveItLink\" href=\"../68c707e522bc25d2097efbeac349d0108eca297a0/expr.ipynb\"><img src=\"../68c707e522bc25d2097efbeac349d0108eca297a0/expr.png\" style=\"display:inline;vertical-align:middle;\" /></a></td></tr>\n",
       "<tr><td>42</td><td>Literal</td><td></td><td><a class=\"ProveItLink\" href=\"../../../../numbers/negation/__pv_it/common/221b3c4d1770ee9051b7c044c3f9ec61196fc34b0/expr.ipynb\"><img src=\"../../../../numbers/negation/__pv_it/common/221b3c4d1770ee9051b7c044c3f9ec61196fc34b0/expr.png\" style=\"display:inline;vertical-align:middle;\" /></a></td></tr>\n",
       "<tr><td>43</td><td>ExprTuple</td><td>45</td><td><a class=\"ProveItLink\" href=\"../2172b6b5a562721cf67ce94593b8be1eb7f26c660/expr.ipynb\"><img src=\"../2172b6b5a562721cf67ce94593b8be1eb7f26c660/expr.png\" style=\"display:inline;vertical-align:middle;\" /></a></td></tr>\n",
       "<tr><td>44</td><td>Literal</td><td></td><td><a class=\"ProveItLink\" href=\"../../../../numbers/number_sets/complex_numbers/__pv_it/common/6c9cc69d472f352324c298b2318df233e9a7e0250/expr.ipynb\"><img src=\"../../../../numbers/number_sets/complex_numbers/__pv_it/common/6c9cc69d472f352324c298b2318df233e9a7e0250/expr.png\" style=\"display:inline;vertical-align:middle;\" /></a></td></tr>\n",
       "<tr><td>45</td><td>Variable</td><td></td><td><a class=\"ProveItLink\" href=\"../../../../__pv_it/common/195236b98c6c564a75b5dbada74b173bc52d5c3e0/expr.ipynb\"><img src=\"../../../../__pv_it/common/195236b98c6c564a75b5dbada74b173bc52d5c3e0/expr.png\" style=\"display:inline;vertical-align:middle;\" /></a></td></tr>\n",
       "</table>\n"
      ],
      "text/plain": [
       "0. |(r * e^{i * a}) - (r * e^{i * b})| = (2 * r * sin(|a - b| / 2))\n",
       "   core type: Operation\n",
       "   operator: 1\n",
       "   operands: 2\n",
       "1. =\n",
       "   core type: Literal\n",
       "   sub-expressions: \n",
       "2. (|(r * e^{i * a}) - (r * e^{i * b})|, 2 * r * sin(|a - b| / 2))\n",
       "   core type: ExprTuple\n",
       "   sub-expressions: 3, 4\n",
       "3. |(r * e^{i * a}) - (r * e^{i * b})|\n",
       "   core type: Operation\n",
       "   operator: 25\n",
       "   operand: 7\n",
       "4. 2 * r * sin(|a - b| / 2)\n",
       "   core type: Operation\n",
       "   operator: 40\n",
       "   operands: 6\n",
       "5. ((r * e^{i * a}) - (r * e^{i * b}))\n",
       "   core type: ExprTuple\n",
       "   sub-expressions: 7\n",
       "6. (2, r, sin(|a - b| / 2))\n",
       "   core type: ExprTuple\n",
       "   sub-expressions: 22, 28, 8\n",
       "7. (r * e^{i * a}) - (r * e^{i * b})\n",
       "   core type: Operation\n",
       "   operator: 34\n",
       "   operands: 9\n",
       "8. sin(|a - b| / 2)\n",
       "   core type: Operation\n",
       "   operator: 10\n",
       "   operand: 14\n",
       "9. (r * e^{i * a}, -(r * e^{i * b}))\n",
       "   core type: ExprTuple\n",
       "   sub-expressions: 12, 13\n",
       "10. sin\n",
       "    core type: Literal\n",
       "    sub-expressions: \n",
       "11. (|a - b| / 2)\n",
       "    core type: ExprTuple\n",
       "    sub-expressions: 14\n",
       "12. r * e^{i * a}\n",
       "    core type: Operation\n",
       "    operator: 40\n",
       "    operands: 15\n",
       "13. -(r * e^{i * b})\n",
       "    core type: Operation\n",
       "    operator: 42\n",
       "    operand: 20\n",
       "14. |a - b| / 2\n",
       "    core type: Operation\n",
       "    operator: 17\n",
       "    operands: 18\n",
       "15. (r, e^{i * a})\n",
       "    core type: ExprTuple\n",
       "    sub-expressions: 28, 19\n",
       "16. (r * e^{i * b})\n",
       "    core type: ExprTuple\n",
       "    sub-expressions: 20\n",
       "17. /\n",
       "    core type: Literal\n",
       "    sub-expressions: \n",
       "18. (|a - b|, 2)\n",
       "    core type: ExprTuple\n",
       "    sub-expressions: 21, 22\n",
       "19. e^{i * a}\n",
       "    core type: Operation\n",
       "    operator: 32\n",
       "    operands: 23\n",
       "20. r * e^{i * b}\n",
       "    core type: Operation\n",
       "    operator: 40\n",
       "    operands: 24\n",
       "21. |a - b|\n",
       "    core type: Operation\n",
       "    operator: 25\n",
       "    operand: 30\n",
       "22. 2\n",
       "    core type: Literal\n",
       "    sub-expressions: \n",
       "23. (e, i * a)\n",
       "    core type: ExprTuple\n",
       "    sub-expressions: 36, 27\n",
       "24. (r, e^{i * b})\n",
       "    core type: ExprTuple\n",
       "    sub-expressions: 28, 29\n",
       "25. Abs\n",
       "    core type: Literal\n",
       "    sub-expressions: \n",
       "26. (a - b)\n",
       "    core type: ExprTuple\n",
       "    sub-expressions: 30\n",
       "27. i * a\n",
       "    core type: Operation\n",
       "    operator: 40\n",
       "    operands: 31\n",
       "28. r\n",
       "    core type: Variable\n",
       "    sub-expressions: \n",
       "29. e^{i * b}\n",
       "    core type: Operation\n",
       "    operator: 32\n",
       "    operands: 33\n",
       "30. a - b\n",
       "    core type: Operation\n",
       "    operator: 34\n",
       "    operands: 35\n",
       "31. (i, a)\n",
       "    core type: ExprTuple\n",
       "    sub-expressions: 44, 38\n",
       "32. Exp\n",
       "    core type: Literal\n",
       "    sub-expressions: \n",
       "33. (e, i * b)\n",
       "    core type: ExprTuple\n",
       "    sub-expressions: 36, 37\n",
       "34. +\n",
       "    core type: Literal\n",
       "    sub-expressions: \n",
       "35. (a, -b)\n",
       "    core type: ExprTuple\n",
       "    sub-expressions: 38, 39\n",
       "36. e\n",
       "    core type: Literal\n",
       "    sub-expressions: \n",
       "37. i * b\n",
       "    core type: Operation\n",
       "    operator: 40\n",
       "    operands: 41\n",
       "38. a\n",
       "    core type: Variable\n",
       "    sub-expressions: \n",
       "39. -b\n",
       "    core type: Operation\n",
       "    operator: 42\n",
       "    operand: 45\n",
       "40. *\n",
       "    core type: Literal\n",
       "    sub-expressions: \n",
       "41. (i, b)\n",
       "    core type: ExprTuple\n",
       "    sub-expressions: 44, 45\n",
       "42. -\n",
       "    core type: Literal\n",
       "    sub-expressions: \n",
       "43. (b)\n",
       "    core type: ExprTuple\n",
       "    sub-expressions: 45\n",
       "44. i\n",
       "    core type: Literal\n",
       "    sub-expressions: \n",
       "45. b\n",
       "    core type: Variable\n",
       "    sub-expressions: "
      ]
     },
     "metadata": {},
     "output_type": "display_data"
    }
   ],
   "source": [
    "# display the expression information\n",
    "stored_expr.expr_info()"
   ]
  },
  {
   "cell_type": "code",
   "execution_count": null,
   "metadata": {},
   "outputs": [],
   "source": []
  }
 ],
 "metadata": {
  "kernelspec": {
   "display_name": "Python 3",
   "language": "python",
   "name": "python3"
  }
 },
 "nbformat": 4,
 "nbformat_minor": 0
}