{
 "cells": [
  {
   "cell_type": "markdown",
   "metadata": {},
   "source": [
    "Common expressions for the theory of <a class=\"ProveItLink\" href=\"theory.ipynb\">proveit</a>\n",
    "========\n",
    "\n",
    "These are generic common expressions based upon single-symbol Variable names."
   ]
  },
  {
   "cell_type": "code",
   "execution_count": 1,
   "metadata": {},
   "outputs": [],
   "source": [
    "import proveit\n",
    "# Prepare this notebook for defining the common expressions of a theory:\n",
    "%common_expressions_notebook # Keep this at the top following 'import proveit'.\n",
    "from proveit import Variable, Function\n",
    "#%begin common"
   ]
  },
  {
   "cell_type": "code",
   "execution_count": 2,
   "metadata": {},
   "outputs": [
    {
     "name": "stdout",
     "output_type": "stream",
     "text": [
      "Defining common sub-expressions for theory 'proveit'\n",
      "Subsequent end-of-cell assignments will define common sub-expressions\n",
      "%end_common will finalize the definitions\n"
     ]
    }
   ],
   "source": [
    "%begin common"
   ]
  },
  {
   "cell_type": "code",
   "execution_count": 3,
   "metadata": {},
   "outputs": [
    {
     "data": {
      "text/html": [
       "<strong id=\"a\">a:</strong> <a class=\"ProveItLink\" href=\"../__pv_it/common/c06c606ec12678c58933ac85412ecadc2ae28be60/common_expr.ipynb\"><img src=\"data:image/png;base64,iVBORw0KGgoAAAANSUhEUgAAAAsAAAAJBAMAAAAWSsseAAAAMFBMVEX///8AAAAAAAAAAAAAAAAA\n",
       "AAAAAAAAAAAAAAAAAAAAAAAAAAAAAAAAAAAAAAAAAAAv3aB7AAAAD3RSTlMAIquJdkTvuxBmmd1U\n",
       "zTKBpmoTAAAACXBIWXMAAA7EAAAOxAGVKw4bAAAARUlEQVQI12NgYFR2dGBgYAgTYP/BwMCRycC1\n",
       "gYGB6wMDtwEDA1sBQ38AA0O/A8N8oIr+Awy6PAIM7A48u7iAKlXshPwYAE2lCqdX0eXEAAAAAElF\n",
       "TkSuQmCC\n",
       "\" style=\"display:inline;vertical-align:middle;\" /></a><br>"
      ],
      "text/plain": [
       "<IPython.core.display.HTML object>"
      ]
     },
     "metadata": {},
     "output_type": "display_data"
    }
   ],
   "source": [
    "a = Variable('a')"
   ]
  },
  {
   "cell_type": "code",
   "execution_count": 4,
   "metadata": {},
   "outputs": [
    {
     "data": {
      "text/html": [
       "<strong id=\"b\">b:</strong> <a class=\"ProveItLink\" href=\"../__pv_it/common/195236b98c6c564a75b5dbada74b173bc52d5c3e0/common_expr.ipynb\"><img src=\"data:image/png;base64,iVBORw0KGgoAAAANSUhEUgAAAAkAAAAOBAMAAAAPuiubAAAAMFBMVEX///8AAAAAAAAAAAAAAAAA\n",
       "AAAAAAAAAAAAAAAAAAAAAAAAAAAAAAAAAAAAAAAAAAAv3aB7AAAAD3RSTlMAELvv3c2ZVESJq3Yi\n",
       "MmZ3LnoBAAAACXBIWXMAAA7EAAAOxAGVKw4bAAAAT0lEQVQI12NgVHZgAALWBBDJXwAi+wVA5BQQ\n",
       "wRC1ezkDA+NXAfkDDOwfGZg3MLAFMPBPYGCZwNBfAFKeL8DAf4HRjoGB6wET0AjGlXkMDAAVqA7Q\n",
       "GyenWgAAAABJRU5ErkJggg==\n",
       "\" style=\"display:inline;vertical-align:middle;\" /></a><br>"
      ],
      "text/plain": [
       "<IPython.core.display.HTML object>"
      ]
     },
     "metadata": {},
     "output_type": "display_data"
    }
   ],
   "source": [
    "b = Variable('b')"
   ]
  },
  {
   "cell_type": "code",
   "execution_count": 5,
   "metadata": {},
   "outputs": [
    {
     "data": {
      "text/html": [
       "<strong id=\"c\">c:</strong> <a class=\"ProveItLink\" href=\"../__pv_it/common/ceef4280a2f1cc604b455b54e735507244cc62cd0/common_expr.ipynb\"><img src=\"data:image/png;base64,iVBORw0KGgoAAAANSUhEUgAAAAkAAAAJBAMAAAASvxsjAAAAKlBMVEX///8AAAAAAAAAAAAAAAAA\n",
       "AAAAAAAAAAAAAAAAAAAAAAAAAAAAAAAAAADmU0mKAAAADXRSTlMAiXZmMiLdVJm77xBEs3/oGgAA\n",
       "AAlwSFlzAAAOxAAADsQBlSsOGwAAADZJREFUCNdjYGAQUnZgYAgr4JjAwJDIwKXAwHGbAQi4JoDI\n",
       "vQogkteAgeEAA1ABI1CloLE2AwDCNQb+PNXqTgAAAABJRU5ErkJggg==\n",
       "\" style=\"display:inline;vertical-align:middle;\" /></a><br>"
      ],
      "text/plain": [
       "<IPython.core.display.HTML object>"
      ]
     },
     "metadata": {},
     "output_type": "display_data"
    }
   ],
   "source": [
    "c = Variable('c')"
   ]
  },
  {
   "cell_type": "code",
   "execution_count": 6,
   "metadata": {},
   "outputs": [
    {
     "data": {
      "text/html": [
       "<strong id=\"d\">d:</strong> <a class=\"ProveItLink\" href=\"../__pv_it/common/4f5c524ffda87296de1c79b96880123fe2efedd50/common_expr.ipynb\"><img src=\"data:image/png;base64,iVBORw0KGgoAAAANSUhEUgAAAAsAAAAOBAMAAAALT/umAAAAMFBMVEX///8AAAAAAAAAAAAAAAAA\n",
       "AAAAAAAAAAAAAAAAAAAAAAAAAAAAAAAAAAAAAAAAAAAv3aB7AAAAD3RSTlMAMs3vmVREEIndIqt2\n",
       "u2aBbGR5AAAACXBIWXMAAA7EAAAOxAGVKw4bAAAAWklEQVQI12NgYGBgVHZgAAH+ADCVXwCmOsEk\n",
       "gwoQc+04+BVIJS/g/c7AwG7HwKLAwMDygYGzgYGB+QJDfQIDQ/0BhvdAFfUBDJtYFzDwHmCdwgJU\n",
       "uadx9UEGAKwhEtVeQlhQAAAAAElFTkSuQmCC\n",
       "\" style=\"display:inline;vertical-align:middle;\" /></a><br>"
      ],
      "text/plain": [
       "<IPython.core.display.HTML object>"
      ]
     },
     "metadata": {},
     "output_type": "display_data"
    }
   ],
   "source": [
    "d = Variable('d')"
   ]
  },
  {
   "cell_type": "code",
   "execution_count": 7,
   "metadata": {},
   "outputs": [
    {
     "data": {
      "text/html": [
       "<strong id=\"e\">e:</strong> <a class=\"ProveItLink\" href=\"../__pv_it/common/f3b2e5223a46d6d30e0676b70270e0fb96f45ce80/common_expr.ipynb\"><img src=\"data:image/png;base64,iVBORw0KGgoAAAANSUhEUgAAAAkAAAAJBAMAAAASvxsjAAAALVBMVEX///8AAAAAAAAAAAAAAAAA\n",
       "AAAAAAAAAAAAAAAAAAAAAAAAAAAAAAAAAAAAAADAOrOgAAAADnRSTlMAEIl2mUTdMiJmu6tUzZF4\n",
       "WEUAAAAJcEhZcwAADsQAAA7EAZUrDhsAAAA7SURBVAjXY2BgVDYRYGAIK2BXYOB4ycAcwMD12FiV\n",
       "gYFvAwMQ8BmASDYFBoYDDJwXGEQaGBiMZhowAADQsAgpWHl0HwAAAABJRU5ErkJggg==\n",
       "\" style=\"display:inline;vertical-align:middle;\" /></a><br>"
      ],
      "text/plain": [
       "<IPython.core.display.HTML object>"
      ]
     },
     "metadata": {},
     "output_type": "display_data"
    }
   ],
   "source": [
    "e = Variable('e')"
   ]
  },
  {
   "cell_type": "code",
   "execution_count": 8,
   "metadata": {},
   "outputs": [
    {
     "data": {
      "text/html": [
       "<strong id=\"f\">f:</strong> <a class=\"ProveItLink\" href=\"../__pv_it/common/01b6dbb444a31fc38af4c2379badef6c75b363710/common_expr.ipynb\"><img src=\"data:image/png;base64,iVBORw0KGgoAAAANSUhEUgAAAAsAAAASBAMAAAB/WzlGAAAAMFBMVEX///8AAAAAAAAAAAAAAAAA\n",
       "AAAAAAAAAAAAAAAAAAAAAAAAAAAAAAAAAAAAAAAAAAAv3aB7AAAAD3RSTlMAmYkQqzLvVES73WZ2\n",
       "Is1wFLxSAAAACXBIWXMAAA7EAAAOxAGVKw4bAAAAUklEQVQI12NgYGBgVDIAkgwqYQUgKr0TxOP4\n",
       "DGIzMC0AkdxuSwRANP8BsOD9ADBVDyYZtCDUFAiVAyZ5f4Ap9g9gitEBRJbwgY1faQcW2yMLIgFk\n",
       "aQ2WW4Dm+QAAAABJRU5ErkJggg==\n",
       "\" style=\"display:inline;vertical-align:middle;\" /></a><br>"
      ],
      "text/plain": [
       "<IPython.core.display.HTML object>"
      ]
     },
     "metadata": {},
     "output_type": "display_data"
    }
   ],
   "source": [
    "f = Variable('f')"
   ]
  },
  {
   "cell_type": "code",
   "execution_count": 9,
   "metadata": {},
   "outputs": [
    {
     "data": {
      "text/html": [
       "<strong id=\"g\">g:</strong> <a class=\"ProveItLink\" href=\"../__pv_it/common/96ac097ea7ee432328a5e933062d0ef407701bf40/common_expr.ipynb\"><img src=\"data:image/png;base64,iVBORw0KGgoAAAANSUhEUgAAAAoAAAANBAMAAABiGeI2AAAAMFBMVEX///8AAAAAAAAAAAAAAAAA\n",
       "AAAAAAAAAAAAAAAAAAAAAAAAAAAAAAAAAAAAAAAAAAAv3aB7AAAAD3RSTlMAVIl2ImbN77sQqzJE\n",
       "md23+iBgAAAACXBIWXMAAA7EAAAOxAGVKw4bAAAAVElEQVQI12NgYBAydmVgYEpgqWBgkJ/A8JmB\n",
       "oYqB+wsD90cG5gIG1i8MHAsYWD8wzA9g4PzCsH4CA8Mpo3sMIJDLwLBrAvdvBoblE6YZgITvMDAA\n",
       "ALhGFCDgVTGpAAAAAElFTkSuQmCC\n",
       "\" style=\"display:inline;vertical-align:middle;\" /></a><br>"
      ],
      "text/plain": [
       "<IPython.core.display.HTML object>"
      ]
     },
     "metadata": {},
     "output_type": "display_data"
    }
   ],
   "source": [
    "g = Variable('g')"
   ]
  },
  {
   "cell_type": "code",
   "execution_count": 10,
   "metadata": {},
   "outputs": [
    {
     "data": {
      "text/html": [
       "<strong id=\"h\">h:</strong> <a class=\"ProveItLink\" href=\"../__pv_it/common/f13b5f19f59b59184c9a6a576c072499648aa8a80/common_expr.ipynb\"><img src=\"data:image/png;base64,iVBORw0KGgoAAAANSUhEUgAAAAsAAAAOBAMAAAALT/umAAAAMFBMVEX///8AAAAAAAAAAAAAAAAA\n",
       "AAAAAAAAAAAAAAAAAAAAAAAAAAAAAAAAAAAAAAAAAAAv3aB7AAAAD3RSTlMAELvv3c2ZVESJZiKr\n",
       "MnbRl/71AAAACXBIWXMAAA7EAAAOxAGVKw4bAAAAWElEQVQI12NgVHZgAAHWBDDFXwCm+gXA1BQw\n",
       "yRBWNWkDAwPj1w08BxgY2P8y8CgwMLAFMLBMYADh/RcYGOQbGCYDFa5nYLDk2sBwiIHhLycDgxYD\n",
       "w8sHDACy/hHM3VaUvgAAAABJRU5ErkJggg==\n",
       "\" style=\"display:inline;vertical-align:middle;\" /></a><br>"
      ],
      "text/plain": [
       "<IPython.core.display.HTML object>"
      ]
     },
     "metadata": {},
     "output_type": "display_data"
    }
   ],
   "source": [
    "h = Variable('h')"
   ]
  },
  {
   "cell_type": "code",
   "execution_count": 11,
   "metadata": {},
   "outputs": [
    {
     "data": {
      "text/html": [
       "<strong id=\"i\">i:</strong> <a class=\"ProveItLink\" href=\"../__pv_it/common/ae955345c83abf786c3aff8681cd5465beae262d0/common_expr.ipynb\"><img src=\"data:image/png;base64,iVBORw0KGgoAAAANSUhEUgAAAAcAAAAOBAMAAAARcxsoAAAALVBMVEX///8AAAAAAAAAAAAAAAAA\n",
       "AAAAAAAAAAAAAAAAAAAAAAAAAAAAAAAAAAAAAADAOrOgAAAADnRSTlMAdpndiRBmRO8yVM2rIuws\n",
       "s0IAAAAJcEhZcwAADsQAAA7EAZUrDhsAAAA6SURBVAjXY2BgEGIAAhMGdMAqlMDAwMLewMAwi2kD\n",
       "A0MAhwBQcF0AkNjDCpR9zsLAwPngGpB7LIEBALAvCJF4nqyTAAAAAElFTkSuQmCC\n",
       "\" style=\"display:inline;vertical-align:middle;\" /></a><br>"
      ],
      "text/plain": [
       "<IPython.core.display.HTML object>"
      ]
     },
     "metadata": {},
     "output_type": "display_data"
    }
   ],
   "source": [
    "i = Variable('i')"
   ]
  },
  {
   "cell_type": "code",
   "execution_count": 12,
   "metadata": {},
   "outputs": [
    {
     "data": {
      "text/html": [
       "<strong id=\"j\">j:</strong> <a class=\"ProveItLink\" href=\"../__pv_it/common/1ed21df18baca2f42b561a7ffbf30a2743d594650/common_expr.ipynb\"><img src=\"data:image/png;base64,iVBORw0KGgoAAAANSUhEUgAAAAoAAAASBAMAAACQmVJ4AAAAMFBMVEX///8AAAAAAAAAAAAAAAAA\n",
       "AAAAAAAAAAAAAAAAAAAAAAAAAAAAAAAAAAAAAAAAAAAv3aB7AAAAD3RSTlMAMrsQds2rme9mIlTd\n",
       "iUQmv6lAAAAACXBIWXMAAA7EAAAOxAGVKw4bAAAATElEQVQI12NgYGBgVAYSDCwBDNiAiRuILOCY\n",
       "AFSxgH8DAwMzw34DkFANWPosiOD6ByI5P4BINgUQyeEAZG2YD1Qov+E0kM/u/oCBAQDY7wxV/Qz6\n",
       "SAAAAABJRU5ErkJggg==\n",
       "\" style=\"display:inline;vertical-align:middle;\" /></a><br>"
      ],
      "text/plain": [
       "<IPython.core.display.HTML object>"
      ]
     },
     "metadata": {},
     "output_type": "display_data"
    }
   ],
   "source": [
    "j = Variable('j')"
   ]
  },
  {
   "cell_type": "code",
   "execution_count": 13,
   "metadata": {},
   "outputs": [
    {
     "data": {
      "text/html": [
       "<strong id=\"k\">k:</strong> <a class=\"ProveItLink\" href=\"../__pv_it/common/63b7c64bf9ec7a04ecc396c7a1670f3f12fb59490/common_expr.ipynb\"><img src=\"data:image/png;base64,iVBORw0KGgoAAAANSUhEUgAAAAoAAAAOBAMAAADkjZCYAAAAMFBMVEX///8AAAAAAAAAAAAAAAAA\n",
       "AAAAAAAAAAAAAAAAAAAAAAAAAAAAAAAAAAAAAAAAAAAv3aB7AAAAD3RSTlMAELvv3c2ZVESJq2Yi\n",
       "MnY6gD36AAAACXBIWXMAAA7EAAAOxAGVKw4bAAAATklEQVQI12NgVHZgAALWBBDJXwAi+wVA5GQQ\n",
       "wRDFUJnIwPibvcaagf1PO28MA5v1BaAwS1gukJQv6Ady9gvIFzxgWMogf2ECgzoDX54AABZPEDeN\n",
       "/qkHAAAAAElFTkSuQmCC\n",
       "\" style=\"display:inline;vertical-align:middle;\" /></a><br>"
      ],
      "text/plain": [
       "<IPython.core.display.HTML object>"
      ]
     },
     "metadata": {},
     "output_type": "display_data"
    }
   ],
   "source": [
    "k = Variable('k')"
   ]
  },
  {
   "cell_type": "code",
   "execution_count": 14,
   "metadata": {},
   "outputs": [
    {
     "data": {
      "text/html": [
       "<strong id=\"l\">l:</strong> <a class=\"ProveItLink\" href=\"../__pv_it/common/27cc275d44b4f4499fb9ccfb3fab1a98165d2fa60/common_expr.ipynb\"><img src=\"data:image/png;base64,iVBORw0KGgoAAAANSUhEUgAAAAYAAAAOBAMAAAD+sXAWAAAALVBMVEX///8AAAAAAAAAAAAAAAAA\n",
       "AAAAAAAAAAAAAAAAAAAAAAAAAAAAAAAAAAAAAADAOrOgAAAADnRSTlMAid0yZpnNdiKru+8QRPX7\n",
       "c7YAAAAJcEhZcwAADsQAAA7EAZUrDhsAAAA/SURBVAjXY2AQeszAwPKAgYE1gYGBqYCBoc+AgcGP\n",
       "gYFhFhBvZ2BgfsHAwL6BgYFrwgEGPgcBBr47BQwsgQwADSgKF43iUt8AAAAASUVORK5CYII=\n",
       "\" style=\"display:inline;vertical-align:middle;\" /></a><br>"
      ],
      "text/plain": [
       "<IPython.core.display.HTML object>"
      ]
     },
     "metadata": {},
     "output_type": "display_data"
    }
   ],
   "source": [
    "l = Variable('l')"
   ]
  },
  {
   "cell_type": "code",
   "execution_count": 15,
   "metadata": {},
   "outputs": [
    {
     "data": {
      "text/html": [
       "<strong id=\"m\">m:</strong> <a class=\"ProveItLink\" href=\"../__pv_it/common/674a03b9c3ca221b3aabd5636837b31528ff33830/common_expr.ipynb\"><img src=\"data:image/png;base64,iVBORw0KGgoAAAANSUhEUgAAABIAAAAJBAMAAADN8WE8AAAAMFBMVEX///8AAAAAAAAAAAAAAAAA\n",
       "AAAAAAAAAAAAAAAAAAAAAAAAAAAAAAAAAAAAAAAAAAAv3aB7AAAAD3RSTlMARHarECKJuzJmVO/d\n",
       "mc2qKiq2AAAACXBIWXMAAA7EAAAOxAGVKw4bAAAAXklEQVQI12NgVHZNKuJIK2RgYGM3YvCfyLCa\n",
       "gUGQp4AhXoFhPgODg78Aw3oHhnsMDAzrGUDUNiDLjoHhGAPjVxYQj+UjA/ODSAbWHwycHxjYExIY\n",
       "GA8wMF1gYLwUAABMtRSZFIjjRwAAAABJRU5ErkJggg==\n",
       "\" style=\"display:inline;vertical-align:middle;\" /></a><br>"
      ],
      "text/plain": [
       "<IPython.core.display.HTML object>"
      ]
     },
     "metadata": {},
     "output_type": "display_data"
    }
   ],
   "source": [
    "m = Variable('m')"
   ]
  },
  {
   "cell_type": "code",
   "execution_count": 16,
   "metadata": {},
   "outputs": [
    {
     "data": {
      "text/html": [
       "<strong id=\"n\">n:</strong> <a class=\"ProveItLink\" href=\"../__pv_it/common/8968bb04eb3f7dfa02353397ce929b025bbd79c20/common_expr.ipynb\"><img src=\"data:image/png;base64,iVBORw0KGgoAAAANSUhEUgAAAAwAAAAJBAMAAAD0ltBnAAAALVBMVEX///8AAAAAAAAAAAAAAAAA\n",
       "AAAAAAAAAAAAAAAAAAAAAAAAAAAAAAAAAAAAAADAOrOgAAAADnRSTlMARHarECKJu90yVM1m74AT\n",
       "aC0AAAAJcEhZcwAADsQAAA7EAZUrDhsAAABESURBVAjXY2BUdk0qYmBgYzdi8AtgEOQoYIibwODg\n",
       "J8CwzoGBYR0DgzUDGL9hYWC4xsD1hI2B9SUD04aTDIwNDCw2CwBlUgzGkPW4hwAAAABJRU5ErkJg\n",
       "gg==\n",
       "\" style=\"display:inline;vertical-align:middle;\" /></a><br>"
      ],
      "text/plain": [
       "<IPython.core.display.HTML object>"
      ]
     },
     "metadata": {},
     "output_type": "display_data"
    }
   ],
   "source": [
    "n = Variable('n')"
   ]
  },
  {
   "cell_type": "code",
   "execution_count": 17,
   "metadata": {},
   "outputs": [
    {
     "data": {
      "text/html": [
       "<strong id=\"o\">o:</strong> <a class=\"ProveItLink\" href=\"../__pv_it/common/5f58f2889c6bd74457c81f6b50dc3a365769dfdf0/common_expr.ipynb\"><img src=\"data:image/png;base64,iVBORw0KGgoAAAANSUhEUgAAAAoAAAAJBAMAAAD5iKAgAAAAJ1BMVEX///8AAAAAAAAAAAAAAAAA\n",
       "AAAAAAAAAAAAAAAAAAAAAAAAAAAAAAAilU6eAAAADHRSTlMAiXarRCLdme+7EGZA3MLDAAAACXBI\n",
       "WXMAAA7EAAAOxAGVKw4bAAAAP0lEQVQI12NgYBBSdmBgCHNgPcrAkMTAkMjAfoCBoZmBYwID6yGG\n",
       "NQoMjEcZeDYwcAgwsBswTGdgYBBUd2AAAPVdCO6UuFqQAAAAAElFTkSuQmCC\n",
       "\" style=\"display:inline;vertical-align:middle;\" /></a><br>"
      ],
      "text/plain": [
       "<IPython.core.display.HTML object>"
      ]
     },
     "metadata": {},
     "output_type": "display_data"
    }
   ],
   "source": [
    "o = Variable('o')"
   ]
  },
  {
   "cell_type": "code",
   "execution_count": 18,
   "metadata": {},
   "outputs": [
    {
     "data": {
      "text/html": [
       "<strong id=\"p\">p:</strong> <a class=\"ProveItLink\" href=\"../__pv_it/common/bbfd8ec921873eb340439a30c11dc66622cd75e90/common_expr.ipynb\"><img src=\"data:image/png;base64,iVBORw0KGgoAAAANSUhEUgAAAAwAAAANBAMAAABvB5JxAAAAMFBMVEX///8AAAAAAAAAAAAAAAAA\n",
       "AAAAAAAAAAAAAAAAAAAAAAAAAAAAAAAAAAAAAAAAAAAv3aB7AAAAD3RSTlMAMnarEInNVLtmRO/d\n",
       "mSJ9aoHvAAAACXBIWXMAAA7EAAAOxAGVKw4bAAAAV0lEQVQI12NgEDIRCnZgYAgwK2BtYGAsSGbg\n",
       "/MDAwvCdgekLAwPXFwaODQwMrAcY+C8wMLBdYJgNVOnfwHeQgYGhXkj1AZC6xgAGR8Eky3cwVfZt\n",
       "ApAEAHYzEvYrLOO7AAAAAElFTkSuQmCC\n",
       "\" style=\"display:inline;vertical-align:middle;\" /></a><br>"
      ],
      "text/plain": [
       "<IPython.core.display.HTML object>"
      ]
     },
     "metadata": {},
     "output_type": "display_data"
    }
   ],
   "source": [
    "p = Variable('p')"
   ]
  },
  {
   "cell_type": "code",
   "execution_count": 19,
   "metadata": {},
   "outputs": [
    {
     "data": {
      "text/html": [
       "<strong id=\"q\">q:</strong> <a class=\"ProveItLink\" href=\"../__pv_it/common/e94b28ab65b49707a4f3bf26580dfe7bba3eebd90/common_expr.ipynb\"><img src=\"data:image/png;base64,iVBORw0KGgoAAAANSUhEUgAAAAoAAAANBAMAAABiGeI2AAAAMFBMVEX///8AAAAAAAAAAAAAAAAA\n",
       "AAAAAAAAAAAAAAAAAAAAAAAAAAAAAAAAAAAAAAAAAAAv3aB7AAAAD3RSTlMAIqt2iRAyRN3vZs2Z\n",
       "u1SUszogAAAACXBIWXMAAA7EAAAOxAGVKw4bAAAAT0lEQVQI12NgYFR2NWNgqBBg+sDAOouBaQMD\n",
       "zwcGDgcGzgsM8gUM8QYM6xkY4h8w3GZg4DXg+sLAwKps950BCLg+gEigciDgdAASLPtbGABvAw9D\n",
       "3RwB5wAAAABJRU5ErkJggg==\n",
       "\" style=\"display:inline;vertical-align:middle;\" /></a><br>"
      ],
      "text/plain": [
       "<IPython.core.display.HTML object>"
      ]
     },
     "metadata": {},
     "output_type": "display_data"
    }
   ],
   "source": [
    "q = Variable('q')"
   ]
  },
  {
   "cell_type": "code",
   "execution_count": 20,
   "metadata": {},
   "outputs": [
    {
     "data": {
      "text/html": [
       "<strong id=\"r\">r:</strong> <a class=\"ProveItLink\" href=\"../__pv_it/common/c3df45f28d41d286d2eebe2be9be7af76c74d56b0/common_expr.ipynb\"><img src=\"data:image/png;base64,iVBORw0KGgoAAAANSUhEUgAAAAoAAAAJBAMAAAD5iKAgAAAAJ1BMVEX///8AAAAAAAAAAAAAAAAA\n",
       "AAAAAAAAAAAAAAAAAAAAAAAAAAAAAAAilU6eAAAADHRSTlMAMom7Iplm783dEETQmXsdAAAACXBI\n",
       "WXMAAA7EAAAOxAGVKw4bAAAAMklEQVQI12NgVGYJSmBgYg5iKmBw45jAqsAgxZPAAAR7FoDISBDB\n",
       "MAlEsJwGkdwTgAQAx0IG3sbhZKQAAAAASUVORK5CYII=\n",
       "\" style=\"display:inline;vertical-align:middle;\" /></a><br>"
      ],
      "text/plain": [
       "<IPython.core.display.HTML object>"
      ]
     },
     "metadata": {},
     "output_type": "display_data"
    }
   ],
   "source": [
    "r = Variable('r')"
   ]
  },
  {
   "cell_type": "code",
   "execution_count": 21,
   "metadata": {},
   "outputs": [
    {
     "data": {
      "text/html": [
       "<strong id=\"s\">s:</strong> <a class=\"ProveItLink\" href=\"../__pv_it/common/811706e3598661dd7051509b3af45e1ece9837d80/common_expr.ipynb\"><img src=\"data:image/png;base64,iVBORw0KGgoAAAANSUhEUgAAAAgAAAAJBAMAAAD9fXAdAAAAKlBMVEX///8AAAAAAAAAAAAAAAAA\n",
       "AAAAAAAAAAAAAAAAAAAAAAAAAAAAAAAAAADmU0mKAAAADXRSTlMAiXaZELsyRCJm3c1UhSksHQAA\n",
       "AAlwSFlzAAAOxAAADsQBlSsOGwAAADRJREFUCNdjYGBUMmFgCGMoZuC4wBDJwHF1BgMDg+xdASBZ\n",
       "eoVBioHhCsMmBh4DhqRJmgwAu88JE3/XMLUAAAAASUVORK5CYII=\n",
       "\" style=\"display:inline;vertical-align:middle;\" /></a><br>"
      ],
      "text/plain": [
       "<IPython.core.display.HTML object>"
      ]
     },
     "metadata": {},
     "output_type": "display_data"
    }
   ],
   "source": [
    "s = Variable('s')"
   ]
  },
  {
   "cell_type": "code",
   "execution_count": 22,
   "metadata": {},
   "outputs": [
    {
     "data": {
      "text/html": [
       "<strong id=\"t\">t:</strong> <a class=\"ProveItLink\" href=\"../__pv_it/common/36861eae73a44b53d5b3b017ac6a3a9dae53bfba0/common_expr.ipynb\"><img src=\"data:image/png;base64,iVBORw0KGgoAAAANSUhEUgAAAAcAAAANBAMAAACX52mGAAAALVBMVEX///8AAAAAAAAAAAAAAAAA\n",
       "AAAAAAAAAAAAAAAAAAAAAAAAAAAAAAAAAAAAAADAOrOgAAAADnRSTlMAEN0iVJmJRKu7ds0yZqK7\n",
       "ZTIAAAAJcEhZcwAADsQAAA7EAZUrDhsAAABASURBVAjXY2BgVGZgYGB5CCRYFYAEUwIDQ8W8GQsY\n",
       "GPyAPIZoEKEGxIzPQcoeMAgwsG5gOcDA0SDFwMA89wIDABLQChX+XlxKAAAAAElFTkSuQmCC\n",
       "\" style=\"display:inline;vertical-align:middle;\" /></a><br>"
      ],
      "text/plain": [
       "<IPython.core.display.HTML object>"
      ]
     },
     "metadata": {},
     "output_type": "display_data"
    }
   ],
   "source": [
    "t = Variable('t')"
   ]
  },
  {
   "cell_type": "code",
   "execution_count": 23,
   "metadata": {},
   "outputs": [
    {
     "data": {
      "text/html": [
       "<strong id=\"u\">u:</strong> <a class=\"ProveItLink\" href=\"../__pv_it/common/0d656bb6691dcf7801631ede213504e1b012f3d50/common_expr.ipynb\"><img src=\"data:image/png;base64,iVBORw0KGgoAAAANSUhEUgAAAAwAAAAJBAMAAAD0ltBnAAAAMFBMVEX///8AAAAAAAAAAAAAAAAA\n",
       "AAAAAAAAAAAAAAAAAAAAAAAAAAAAAAAAAAAAAAAAAAAv3aB7AAAAD3RSTlMAEHaZZquJVO8y3c1E\n",
       "Irudu/YqAAAACXBIWXMAAA7EAAAOxAGVKw4bAAAARUlEQVQI12NgVHZgYBVgYGNvYPBnYJjOvIAh\n",
       "moFBgEOBoYmBgeG8AO9PIGXFwPQBSD1l4HvgyMBgyjAjIYGBQTSpNmgCADyJDC3IslSOAAAAAElF\n",
       "TkSuQmCC\n",
       "\" style=\"display:inline;vertical-align:middle;\" /></a><br>"
      ],
      "text/plain": [
       "<IPython.core.display.HTML object>"
      ]
     },
     "metadata": {},
     "output_type": "display_data"
    }
   ],
   "source": [
    "u = Variable('u')"
   ]
  },
  {
   "cell_type": "code",
   "execution_count": 24,
   "metadata": {},
   "outputs": [
    {
     "data": {
      "text/html": [
       "<strong id=\"v\">v:</strong> <a class=\"ProveItLink\" href=\"../__pv_it/common/a4b9661da9b52dcebf59c5559fec8901f4df10750/common_expr.ipynb\"><img src=\"data:image/png;base64,iVBORw0KGgoAAAANSUhEUgAAAAoAAAAJBAMAAAD5iKAgAAAALVBMVEX///8AAAAAAAAAAAAAAAAA\n",
       "AAAAAAAAAAAAAAAAAAAAAAAAAAAAAAAAAAAAAADAOrOgAAAADnRSTlMAEHaJZt1U76symc27IudV\n",
       "iXkAAAAJcEhZcwAADsQAAA7EAZUrDhsAAAA/SURBVAjXY2BUdmAIY2BmK2CoYJjGtYEhmUGAXYFh\n",
       "GgNDngCDAgPDUgYGAwaGEwxsFxgYrBkuMTAwcLU4MAAA718JGFdsIZkAAAAASUVORK5CYII=\n",
       "\" style=\"display:inline;vertical-align:middle;\" /></a><br>"
      ],
      "text/plain": [
       "<IPython.core.display.HTML object>"
      ]
     },
     "metadata": {},
     "output_type": "display_data"
    }
   ],
   "source": [
    "v = Variable('v')"
   ]
  },
  {
   "cell_type": "code",
   "execution_count": 25,
   "metadata": {},
   "outputs": [
    {
     "data": {
      "text/html": [
       "<strong id=\"w\">w:</strong> <a class=\"ProveItLink\" href=\"../__pv_it/common/d365663894822dede40e6e04c77860068334d0820/common_expr.ipynb\"><img src=\"data:image/png;base64,iVBORw0KGgoAAAANSUhEUgAAAA8AAAAJBAMAAAAfoWtkAAAAMFBMVEX///8AAAAAAAAAAAAAAAAA\n",
       "AAAAAAAAAAAAAAAAAAAAAAAAAAAAAAAAAAAAAAAAAAAv3aB7AAAAD3RSTlMAEHaJZjKZVN3vq7tE\n",
       "zSL5cm/iAAAACXBIWXMAAA7EAAAOxAGVKw4bAAAAVUlEQVQI12NgVHZgCGOoEGBgZp/AsJrh/AGG\n",
       "cLYGhkkMvA8YBDgVWL8ysDEwMNQLME1gYAIychm4FzDEABm7GDgMGAyADGuGkwt4DgAZbMmKy0wY\n",
       "GAB9Kg85GMaWxgAAAABJRU5ErkJggg==\n",
       "\" style=\"display:inline;vertical-align:middle;\" /></a><br>"
      ],
      "text/plain": [
       "<IPython.core.display.HTML object>"
      ]
     },
     "metadata": {},
     "output_type": "display_data"
    }
   ],
   "source": [
    "w = Variable('w')"
   ]
  },
  {
   "cell_type": "code",
   "execution_count": 26,
   "metadata": {},
   "outputs": [
    {
     "data": {
      "text/html": [
       "<strong id=\"x\">x:</strong> <a class=\"ProveItLink\" href=\"../__pv_it/common/a0d9d672aa5e272d907247690c152cc2c6daafb70/common_expr.ipynb\"><img src=\"data:image/png;base64,iVBORw0KGgoAAAANSUhEUgAAAAsAAAAJBAMAAAAWSsseAAAAMFBMVEX///8AAAAAAAAAAAAAAAAA\n",
       "AAAAAAAAAAAAAAAAAAAAAAAAAAAAAAAAAAAAAAAAAAAv3aB7AAAAD3RSTlMAEHarMolUmd1mIs3v\n",
       "RLtmgJDEAAAACXBIWXMAAA7EAAAOxAGVKw4bAAAAQklEQVQI12NgEFIWCU1gYChgMmJvYOBcwPmR\n",
       "eQIDCwP7BgYQ4FEAU/cXMAowyF2wYWBlYMh3rGG4xsAgrsRWmcAAAFEjCyBvD0T9AAAAAElFTkSu\n",
       "QmCC\n",
       "\" style=\"display:inline;vertical-align:middle;\" /></a><br>"
      ],
      "text/plain": [
       "<IPython.core.display.HTML object>"
      ]
     },
     "metadata": {},
     "output_type": "display_data"
    }
   ],
   "source": [
    "x = Variable('x')"
   ]
  },
  {
   "cell_type": "code",
   "execution_count": 27,
   "metadata": {},
   "outputs": [
    {
     "data": {
      "text/html": [
       "<strong id=\"y\">y:</strong> <a class=\"ProveItLink\" href=\"../__pv_it/common/ff7dba4ef0bbe791ab573bf2d9c220a304399ac80/common_expr.ipynb\"><img src=\"data:image/png;base64,iVBORw0KGgoAAAANSUhEUgAAAAsAAAANBAMAAACN24kIAAAAMFBMVEX///8AAAAAAAAAAAAAAAAA\n",
       "AAAAAAAAAAAAAAAAAAAAAAAAAAAAAAAAAAAAAAAAAAAv3aB7AAAAD3RSTlMAEHaZZquJVO8y3btE\n",
       "zSKD2s2pAAAACXBIWXMAAA7EAAAOxAGVKw4bAAAAVklEQVQI12NgVHZgEGVgYGNvYPBnYJjOvIAh\n",
       "moFBgEOBoYmBgeG8AOdPIGXLwNQApLYycAcAKVOG8w5ASjTJ/gEDCOQCMdsFxnYgxaXAmgCk2J1s\n",
       "gCQAaFoNDtFIIdEAAAAASUVORK5CYII=\n",
       "\" style=\"display:inline;vertical-align:middle;\" /></a><br>"
      ],
      "text/plain": [
       "<IPython.core.display.HTML object>"
      ]
     },
     "metadata": {},
     "output_type": "display_data"
    }
   ],
   "source": [
    "y = Variable('y')"
   ]
  },
  {
   "cell_type": "code",
   "execution_count": 28,
   "metadata": {},
   "outputs": [
    {
     "data": {
      "text/html": [
       "<strong id=\"z\">z:</strong> <a class=\"ProveItLink\" href=\"../__pv_it/common/95a8f6b9b9f29b83f192ad7fd05708d6be097a3f0/common_expr.ipynb\"><img src=\"data:image/png;base64,iVBORw0KGgoAAAANSUhEUgAAAAoAAAAJBAMAAAD5iKAgAAAALVBMVEX///8AAAAAAAAAAAAAAAAA\n",
       "AAAAAAAAAAAAAAAAAAAAAAAAAAAAAAAAAAAAAADAOrOgAAAADnRSTlMAMt0iZhDNdom7q0RU75I/\n",
       "FSIAAAAJcEhZcwAADsQAAA7EAZUrDhsAAAA6SURBVAjXY2BgVBIwYWAIq5ixgIHBlIEjgIGBgbUV\n",
       "SDCYgwhuBwagyBkGhgUMjDOmNwkwcDCczWYAAM4bCMVQ6vlKAAAAAElFTkSuQmCC\n",
       "\" style=\"display:inline;vertical-align:middle;\" /></a><br>"
      ],
      "text/plain": [
       "<IPython.core.display.HTML object>"
      ]
     },
     "metadata": {},
     "output_type": "display_data"
    }
   ],
   "source": [
    "z = Variable('z')"
   ]
  },
  {
   "cell_type": "code",
   "execution_count": 29,
   "metadata": {},
   "outputs": [
    {
     "data": {
      "text/html": [
       "<strong id=\"A\">A:</strong> <a class=\"ProveItLink\" href=\"../__pv_it/common/09585084922504426caf1db2ff588a23a0932a960/common_expr.ipynb\"><img src=\"data:image/png;base64,iVBORw0KGgoAAAANSUhEUgAAAA8AAAAPBAMAAADJ+Ih5AAAAMFBMVEX///8AAAAAAAAAAAAAAAAA\n",
       "AAAAAAAAAAAAAAAAAAAAAAAAAAAAAAAAAAAAAAAAAAAv3aB7AAAAD3RSTlMAIs1UmauJMnZmRLsQ\n",
       "3e++988cAAAACXBIWXMAAA7EAAAOxAGVKw4bAAAAXklEQVQI12NgAAEhBijQh9LM/6EMlngBCCMx\n",
       "vwBMMzb0G0BkGOwngBmLGeoTwAwHBvkAEM2xxSV+A4hxgoGB/wJEhoH3AZDmAupg+gBkyAEx90cG\n",
       "htP/dRiY939KAABt3hLO6mcEjQAAAABJRU5ErkJggg==\n",
       "\" style=\"display:inline;vertical-align:middle;\" /></a><br>"
      ],
      "text/plain": [
       "<IPython.core.display.HTML object>"
      ]
     },
     "metadata": {},
     "output_type": "display_data"
    }
   ],
   "source": [
    "A = Variable('A')"
   ]
  },
  {
   "cell_type": "code",
   "execution_count": 30,
   "metadata": {},
   "outputs": [
    {
     "data": {
      "text/html": [
       "<strong id=\"B\">B:</strong> <a class=\"ProveItLink\" href=\"../__pv_it/common/a9162d1c3cc0470c02e5daf414500903a7a419230/common_expr.ipynb\"><img src=\"data:image/png;base64,iVBORw0KGgoAAAANSUhEUgAAABAAAAAOBAMAAADUAYG5AAAAMFBMVEX///8AAAAAAAAAAAAAAAAA\n",
       "AAAAAAAAAAAAAAAAAAAAAAAAAAAAAAAAAAAAAAAAAAAv3aB7AAAAD3RSTlMAZrurzTLvInZEmRDd\n",
       "VIkafcLnAAAACXBIWXMAAA7EAAAOxAGVKw4bAAAAb0lEQVQI12NgYBD6b2zsFMAABEkMDMxfgTT7\n",
       "DwYGzl9ABiOQxwjkMDB/YGBgSQcy2BQYuG1AiuM1OkwEQJr6Cxh4E0EMNSB+D5L6DMTyDQwMrB+B\n",
       "DPsJDAwc34GcL0AOSwIDwzRvoHH6n41NdBkYAF/iFeJ4bEa2AAAAAElFTkSuQmCC\n",
       "\" style=\"display:inline;vertical-align:middle;\" /></a><br>"
      ],
      "text/plain": [
       "<IPython.core.display.HTML object>"
      ]
     },
     "metadata": {},
     "output_type": "display_data"
    }
   ],
   "source": [
    "B = Variable('B')"
   ]
  },
  {
   "cell_type": "code",
   "execution_count": 31,
   "metadata": {},
   "outputs": [
    {
     "data": {
      "text/html": [
       "<strong id=\"C\">C:</strong> <a class=\"ProveItLink\" href=\"../__pv_it/common/9fba9f29e823606ff4fdf2f1c6d5d08d906e850a0/common_expr.ipynb\"><img src=\"data:image/png;base64,iVBORw0KGgoAAAANSUhEUgAAAA8AAAAOBAMAAAACpFvcAAAAMFBMVEX///8AAAAAAAAAAAAAAAAA\n",
       "AAAAAAAAAAAAAAAAAAAAAAAAAAAAAAAAAAAAAAAAAAAv3aB7AAAAD3RSTlMAEHa7q2Yiie9Umd0y\n",
       "zUTye3nKAAAACXBIWXMAAA7EAAAOxAGVKw4bAAAAZElEQVQI12NgYGBUdnFlK2BgYNBQZOBcHcDA\n",
       "ILwHyFmfwMBwQwDIeMHAwP4TSDOcYmDI3wBiyDAw1CswQMD+BCijH0wCNewH0ZwHICYwsANxPkhx\n",
       "IUj0KwPDc5CZDFImXg+AFACuvBKMxZNU9AAAAABJRU5ErkJggg==\n",
       "\" style=\"display:inline;vertical-align:middle;\" /></a><br>"
      ],
      "text/plain": [
       "<IPython.core.display.HTML object>"
      ]
     },
     "metadata": {},
     "output_type": "display_data"
    }
   ],
   "source": [
    "C = Variable('C')"
   ]
  },
  {
   "cell_type": "code",
   "execution_count": 32,
   "metadata": {},
   "outputs": [
    {
     "data": {
      "text/html": [
       "<strong id=\"D\">D:</strong> <a class=\"ProveItLink\" href=\"../__pv_it/common/8d36d28f3636cdaa66f8b7d56eb3bbf0b50f70200/common_expr.ipynb\"><img src=\"data:image/png;base64,iVBORw0KGgoAAAANSUhEUgAAABEAAAAOBAMAAAA7w+qHAAAAMFBMVEX///8AAAAAAAAAAAAAAAAA\n",
       "AAAAAAAAAAAAAAAAAAAAAAAAAAAAAAAAAAAAAAAAAAAv3aB7AAAAD3RSTlMAdrurIs1mVDKZ70SJ\n",
       "EN02Mxp8AAAACXBIWXMAAA7EAAAOxAGVKw4bAAAAZ0lEQVQI12NgYBD6r2yk7MAAAl8ZGNi+gxgc\n",
       "H4HELBCL8QeQ2J8AJJg+AAn/A0CCXwFI9BuACAEgkQ8Sk28AEvYbgIQ+SNsvEPEJiNm+wYy7pQAz\n",
       "ThUkyQo0bt8EIINZ/7Ox0hQgAwCCORgrtLsP4AAAAABJRU5ErkJggg==\n",
       "\" style=\"display:inline;vertical-align:middle;\" /></a><br>"
      ],
      "text/plain": [
       "<IPython.core.display.HTML object>"
      ]
     },
     "metadata": {},
     "output_type": "display_data"
    }
   ],
   "source": [
    "D = Variable('D')"
   ]
  },
  {
   "cell_type": "code",
   "execution_count": 33,
   "metadata": {},
   "outputs": [
    {
     "data": {
      "text/html": [
       "<strong id=\"E\">E:</strong> <a class=\"ProveItLink\" href=\"../__pv_it/common/bab67c83c02ef7fff18e38de447cea6afc251f350/common_expr.ipynb\"><img src=\"data:image/png;base64,iVBORw0KGgoAAAANSUhEUgAAABAAAAAOBAMAAADUAYG5AAAALVBMVEX///8AAAAAAAAAAAAAAAAA\n",
       "AAAAAAAAAAAAAAAAAAAAAAAAAAAAAAAAAAAAAADAOrOgAAAADnRSTlMAdrvvq93NRIkQmTJmIrxg\n",
       "88YAAAAJcEhZcwAADsQAAA7EAZUrDhsAAABrSURBVAjXY2BgEDJWcVE1YgCCZ0AsBMTsL4DELCDm\n",
       "eA4kJgIx2wMGRgZuIINPgaEGpJShLsTpLZjRt4E3AMzIY2BoYJgAZDxiYLjAKQA05iGQwwgU4XgN\n",
       "ZFwBYtYHQFFzBoYpeU9cnOwSGACAeRT03/gSFQAAAABJRU5ErkJggg==\n",
       "\" style=\"display:inline;vertical-align:middle;\" /></a><br>"
      ],
      "text/plain": [
       "<IPython.core.display.HTML object>"
      ]
     },
     "metadata": {},
     "output_type": "display_data"
    }
   ],
   "source": [
    "E = Variable('E')"
   ]
  },
  {
   "cell_type": "code",
   "execution_count": 34,
   "metadata": {},
   "outputs": [
    {
     "data": {
      "text/html": [
       "<strong id=\"F\">F:</strong> <a class=\"ProveItLink\" href=\"../__pv_it/common/9d1ffc79180dc7de30ad10ed4b26b62e9dcb5b670/common_expr.ipynb\"><img src=\"data:image/png;base64,iVBORw0KGgoAAAANSUhEUgAAABAAAAAOBAMAAADUAYG5AAAAMFBMVEX///8AAAAAAAAAAAAAAAAA\n",
       "AAAAAAAAAAAAAAAAAAAAAAAAAAAAAAAAAAAAAAAAAAAv3aB7AAAAD3RSTlMAdrvvq2bNMolEVCLd\n",
       "EJnHu19WAAAACXBIWXMAAA7EAAAOxAGVKw4bAAAAXUlEQVQI12NgYBAyVnFRNmUAgm9AnArE7D+A\n",
       "RCQQM/4EEquBmOkDAzvDAiCDP4GhFKSUob6BOxvM6FfxMQAz8i8wPGCAGMMLUsrA+YMBAji+Qxls\n",
       "HyD0Ff0v3iAaAKvvE3mgQaazAAAAAElFTkSuQmCC\n",
       "\" style=\"display:inline;vertical-align:middle;\" /></a><br>"
      ],
      "text/plain": [
       "<IPython.core.display.HTML object>"
      ]
     },
     "metadata": {},
     "output_type": "display_data"
    }
   ],
   "source": [
    "F = Variable('F')"
   ]
  },
  {
   "cell_type": "code",
   "execution_count": 35,
   "metadata": {},
   "outputs": [
    {
     "data": {
      "text/html": [
       "<strong id=\"G\">G:</strong> <a class=\"ProveItLink\" href=\"../__pv_it/common/cd2bbe4a07ced9e6cf68e9cc62da3ac2ecc7137e0/common_expr.ipynb\"><img src=\"data:image/png;base64,iVBORw0KGgoAAAANSUhEUgAAAA8AAAAOBAMAAAACpFvcAAAAMFBMVEX///8AAAAAAAAAAAAAAAAA\n",
       "AAAAAAAAAAAAAAAAAAAAAAAAAAAAAAAAAAAAAAAAAAAv3aB7AAAAD3RSTlMAEHa7q2Yiie9Umd1E\n",
       "Ms2lR6veAAAACXBIWXMAAA7EAAAOxAGVKw4bAAAAbElEQVQI12NgYGBUNnFlK2BgYNBQZOBcHcDA\n",
       "wLwNyFmfwMBgLwBknGBgYP8KpBluMTDkbwAxZBkY6hUYIOD9BSijH4i1Vi1nYNgP4q0HGuMPNIHB\n",
       "HojzgYrZPgMZnEBzrmwCyUuZlAckMjAAANpXFOhVHxbXAAAAAElFTkSuQmCC\n",
       "\" style=\"display:inline;vertical-align:middle;\" /></a><br>"
      ],
      "text/plain": [
       "<IPython.core.display.HTML object>"
      ]
     },
     "metadata": {},
     "output_type": "display_data"
    }
   ],
   "source": [
    "G = Variable('G')"
   ]
  },
  {
   "cell_type": "code",
   "execution_count": 36,
   "metadata": {},
   "outputs": [
    {
     "data": {
      "text/html": [
       "<strong id=\"H\">H:</strong> <a class=\"ProveItLink\" href=\"../__pv_it/common/db1921da064725c141f453bae2d02f0bb2333a8a0/common_expr.ipynb\"><img src=\"data:image/png;base64,iVBORw0KGgoAAAANSUhEUgAAABMAAAAOBAMAAAA/Njq6AAAAMFBMVEX///8AAAAAAAAAAAAAAAAA\n",
       "AAAAAAAAAAAAAAAAAAAAAAAAAAAAAAAAAAAAAAAAAAAv3aB7AAAAD3RSTlMAdqu7Zu8Qzd0yiSKZ\n",
       "RFTI+uAaAAAACXBIWXMAAA7EAAAOxAGVKw4bAAAAdUlEQVQI12NgYBD6b8TgFG+UwAAE34E4AsRg\n",
       "4PzFwMD9B8zk+svAwPIPzGT/wMDA/A3M5DdgYGBtADPvNykp6R8AM9dPYGCQfwBm1gOxPdhUhs9Q\n",
       "oxkYeD9CjAYZ+5OBgfEvmMkBMvYDiJVk/0mAx/6zAAMDAPA5G0WJzUceAAAAAElFTkSuQmCC\n",
       "\" style=\"display:inline;vertical-align:middle;\" /></a><br>"
      ],
      "text/plain": [
       "<IPython.core.display.HTML object>"
      ]
     },
     "metadata": {},
     "output_type": "display_data"
    }
   ],
   "source": [
    "H = Variable('H')"
   ]
  },
  {
   "cell_type": "code",
   "execution_count": 37,
   "metadata": {},
   "outputs": [
    {
     "data": {
      "text/html": [
       "<strong id=\"I\">I:</strong> <a class=\"ProveItLink\" href=\"../__pv_it/common/343861aa4b100ac072c90b5db5a254070d7bb9190/common_expr.ipynb\"><img src=\"data:image/png;base64,iVBORw0KGgoAAAANSUhEUgAAAAsAAAAOBAMAAAALT/umAAAAIVBMVEX///8AAAAAAAAAAAAAAAAA\n",
       "AAAAAAAAAAAAAAAAAAAAAADdcGRXAAAACnRSTlMAiburEN0ydkTNfktKrgAAAAlwSFlzAAAOxAAA\n",
       "DsQBlSsOGwAAAEJJREFUCNdjYGAQWqXswAAES0EEA9tCMMW+AkwxLQBTXBPAVFcBmJJKAFOzwCTD\n",
       "IjDJsRxMMS4DU6xgbc5aiwUYGADydQoiew/uIgAAAABJRU5ErkJggg==\n",
       "\" style=\"display:inline;vertical-align:middle;\" /></a><br>"
      ],
      "text/plain": [
       "<IPython.core.display.HTML object>"
      ]
     },
     "metadata": {},
     "output_type": "display_data"
    }
   ],
   "source": [
    "I = Variable('I')"
   ]
  },
  {
   "cell_type": "code",
   "execution_count": 38,
   "metadata": {},
   "outputs": [
    {
     "data": {
      "text/html": [
       "<strong id=\"J\">J:</strong> <a class=\"ProveItLink\" href=\"../__pv_it/common/9f16d7088a8a61eb23ba4b3fa39c88978b11e98f0/common_expr.ipynb\"><img src=\"data:image/png;base64,iVBORw0KGgoAAAANSUhEUgAAAA0AAAAOBAMAAAAGUYvhAAAALVBMVEX///8AAAAAAAAAAAAAAAAA\n",
       "AAAAAAAAAAAAAAAAAAAAAAAAAAAAAAAAAAAAAADAOrOgAAAADnRSTlMAiavdMs3vRGaZECJ2VPOK\n",
       "AxUAAAAJcEhZcwAADsQAAA7EAZUrDhsAAABHSURBVAjXY2BgYBCyM2IAAzkHCB0GoRgeQSj2FxCa\n",
       "8xWEZjaA0OsmQOi+AgitByK2CTCkguhzB3ifg+gahmUCIJrjjDqIAgA1KgxyT+JzEwAAAABJRU5E\n",
       "rkJggg==\n",
       "\" style=\"display:inline;vertical-align:middle;\" /></a><br>"
      ],
      "text/plain": [
       "<IPython.core.display.HTML object>"
      ]
     },
     "metadata": {},
     "output_type": "display_data"
    }
   ],
   "source": [
    "J = Variable('J')"
   ]
  },
  {
   "cell_type": "code",
   "execution_count": 39,
   "metadata": {},
   "outputs": [
    {
     "data": {
      "text/html": [
       "<strong id=\"K\">K:</strong> <a class=\"ProveItLink\" href=\"../__pv_it/common/1f2ffac7a1dc7c1a4f1fc7348356ae64ea992c790/common_expr.ipynb\"><img src=\"data:image/png;base64,iVBORw0KGgoAAAANSUhEUgAAABMAAAAOBAMAAAA/Njq6AAAAMFBMVEX///8AAAAAAAAAAAAAAAAA\n",
       "AAAAAAAAAAAAAAAAAAAAAAAAAAAAAAAAAAAAAAAAAAAv3aB7AAAAD3RSTlMAdqu77zLdVBCJZkQi\n",
       "zZm4b83uAAAACXBIWXMAAA7EAAAOxAGVKw4bAAAAc0lEQVQI12NgYBD6b8TAoO8cwAAE34C4qAHE\n",
       "Yv3JwMBVAGIxMP5m4JgDZjHwfmCIhLAY+C9wPYAy90+QT4Ay50vyfYcy7y/g+QtlfmZgsAebz8D9\n",
       "EahcAczk/MrAwPYDzGT7ALTlJ4jVZP9JgGHKfxsGBgCRzxsTSB6ELQAAAABJRU5ErkJggg==\n",
       "\" style=\"display:inline;vertical-align:middle;\" /></a><br>"
      ],
      "text/plain": [
       "<IPython.core.display.HTML object>"
      ]
     },
     "metadata": {},
     "output_type": "display_data"
    }
   ],
   "source": [
    "K = Variable('K')"
   ]
  },
  {
   "cell_type": "code",
   "execution_count": 40,
   "metadata": {},
   "outputs": [
    {
     "data": {
      "text/html": [
       "<strong id=\"L\">L:</strong> <a class=\"ProveItLink\" href=\"../__pv_it/common/a14e64e007515ca145bc975c6db7e9098f3b12fd0/common_expr.ipynb\"><img src=\"data:image/png;base64,iVBORw0KGgoAAAANSUhEUgAAAA4AAAAOBAMAAADtZjDiAAAAJFBMVEX///8AAAAAAAAAAAAAAAAA\n",
       "AAAAAAAAAAAAAAAAAAAAAAAAAADHJj5lAAAAC3RSTlMAdqvNZt0yiUQQIghaDycAAAAJcEhZcwAA\n",
       "DsQAAA7EAZUrDhsAAABQSURBVAjXY2BgENpt5MAAAlvBJAPbdgjNuANCM2+A0NwGELq7AEJXN0Bo\n",
       "ayDmBOLNQOzFwMCxEUgrMDCwbwMaATSYFai9egLDJOtNStabGAB7TA21BAVhoQAAAABJRU5ErkJg\n",
       "gg==\n",
       "\" style=\"display:inline;vertical-align:middle;\" /></a><br>"
      ],
      "text/plain": [
       "<IPython.core.display.HTML object>"
      ]
     },
     "metadata": {},
     "output_type": "display_data"
    }
   ],
   "source": [
    "L = Variable('L')"
   ]
  },
  {
   "cell_type": "code",
   "execution_count": 41,
   "metadata": {},
   "outputs": [
    {
     "data": {
      "text/html": [
       "<strong id=\"M\">M:</strong> <a class=\"ProveItLink\" href=\"../__pv_it/common/ce50a10c2eddfa57687148849d3b804ff497c1cf0/common_expr.ipynb\"><img src=\"data:image/png;base64,iVBORw0KGgoAAAANSUhEUgAAABYAAAAOBAMAAADZH/H+AAAALVBMVEX///8AAAAAAAAAAAAAAAAA\n",
       "AAAAAAAAAAAAAAAAAAAAAAAAAAAAAAAAAAAAAADAOrOgAAAADnRSTlMAZrtUdu+rMkQimc0Q3dux\n",
       "78cAAAAJcEhZcwAADsQAAA7EAZUrDhsAAACOSURBVAjXY2BgEHpnwMDAwPI0GUgy5DkAibIXICan\n",
       "6AIgKfYAxGacvQFIHFUAsbm4AhgYZsxzALNZgNIOcgUg9kTmlwzMB/JATAZJ9scMhxmCwOwFDE8Y\n",
       "HDifQNlRzBMYn4OY7AIMmw4zsAWA2CwTGFIdGFgTQGxeBga/CQx1AkAm272NDC0MbfeuHWAAALpg\n",
       "H/3NCEEGAAAAAElFTkSuQmCC\n",
       "\" style=\"display:inline;vertical-align:middle;\" /></a><br>"
      ],
      "text/plain": [
       "<IPython.core.display.HTML object>"
      ]
     },
     "metadata": {},
     "output_type": "display_data"
    }
   ],
   "source": [
    "M = Variable('M')"
   ]
  },
  {
   "cell_type": "code",
   "execution_count": 42,
   "metadata": {},
   "outputs": [
    {
     "data": {
      "text/html": [
       "<strong id=\"N\">N:</strong> <a class=\"ProveItLink\" href=\"../__pv_it/common/ec2f9d003f907f9688d46f19f6df289e52cc63ce0/common_expr.ipynb\"><img src=\"data:image/png;base64,iVBORw0KGgoAAAANSUhEUgAAABMAAAAOBAMAAAA/Njq6AAAAMFBMVEX///8AAAAAAAAAAAAAAAAA\n",
       "AAAAAAAAAAAAAAAAAAAAAAAAAAAAAAAAAAAAAAAAAAAv3aB7AAAAD3RSTlMAdrsyRM3vEKvdVCKJ\n",
       "mWY5NCfAAAAACXBIWXMAAA7EAAAOxAGVKw4bAAAAdElEQVQI12NgYBD6b8DAEp9UwAAE+g0MDJxg\n",
       "Fsui3wwMPCAWA0/JHwYGLzCTl2EaA8NxKPP9A4YLYKYXA/8EhgNg5nEG3i8sDmDmBQbuTzxgs0By\n",
       "+nvBLJYFDAz+dyDGAuU4v4CZlUDM9wHEqsiPApIKQAwAwg4Y8lVL+C4AAAAASUVORK5CYII=\n",
       "\" style=\"display:inline;vertical-align:middle;\" /></a><br>"
      ],
      "text/plain": [
       "<IPython.core.display.HTML object>"
      ]
     },
     "metadata": {},
     "output_type": "display_data"
    }
   ],
   "source": [
    "N = Variable('N')"
   ]
  },
  {
   "cell_type": "code",
   "execution_count": 43,
   "metadata": {},
   "outputs": [
    {
     "data": {
      "text/html": [
       "<strong id=\"O\">O:</strong> <a class=\"ProveItLink\" href=\"../__pv_it/common/2bbb17283019488d58a9b862d837c9ec12ec4a920/common_expr.ipynb\"><img src=\"data:image/png;base64,iVBORw0KGgoAAAANSUhEUgAAAA8AAAAOBAMAAAACpFvcAAAALVBMVEX///8AAAAAAAAAAAAAAAAA\n",
       "AAAAAAAAAAAAAAAAAAAAAAAAAAAAAAAAAAAAAADAOrOgAAAADnRSTlMAEHaZiatmzTK7791EItTw\n",
       "6Y4AAAAJcEhZcwAADsQAAA7EAZUrDhsAAABkSURBVAjXY2BgYFR2CWMAAfcGBtYCIC0+AUgsAeJq\n",
       "kGgcAwPLGxDDr4HhHkiawe4Ag58CiLHvAggBTXjFwPAOJMD0BCgIYkgtAGoUAOluYGDoS4AawbSC\n",
       "gXE6SANDq4nxASAFACZWFtJIJUeyAAAAAElFTkSuQmCC\n",
       "\" style=\"display:inline;vertical-align:middle;\" /></a><br>"
      ],
      "text/plain": [
       "<IPython.core.display.HTML object>"
      ]
     },
     "metadata": {},
     "output_type": "display_data"
    }
   ],
   "source": [
    "O = Variable('O')"
   ]
  },
  {
   "cell_type": "code",
   "execution_count": 44,
   "metadata": {},
   "outputs": [
    {
     "data": {
      "text/html": [
       "<strong id=\"P\">P:</strong> <a class=\"ProveItLink\" href=\"../__pv_it/common/de55da274ba0f49c86925fbf3828021c04d27faf0/common_expr.ipynb\"><img src=\"data:image/png;base64,iVBORw0KGgoAAAANSUhEUgAAABAAAAAOBAMAAADUAYG5AAAAMFBMVEX///8AAAAAAAAAAAAAAAAA\n",
       "AAAAAAAAAAAAAAAAAAAAAAAAAAAAAAAAAAAAAAAAAAAv3aB7AAAAD3RSTlMAdrurzZkQ7zJUiSLd\n",
       "ZkQEbk8lAAAACXBIWXMAAA7EAAAOxAGVKw4bAAAAWklEQVQI12NgYBD6r2zkmsAABF8YGJjKgDTH\n",
       "RwYGTiBmYPwBxL+ADKYPQAzkMPArMDD0CzCAiV0nQZrkrVbdA9EM+gxQ8AVKc/yCMhj/QRksHyA0\n",
       "q/4nkBkMAGrBE2oHiyZAAAAAAElFTkSuQmCC\n",
       "\" style=\"display:inline;vertical-align:middle;\" /></a><br>"
      ],
      "text/plain": [
       "<IPython.core.display.HTML object>"
      ]
     },
     "metadata": {},
     "output_type": "display_data"
    }
   ],
   "source": [
    "P = Variable('P')"
   ]
  },
  {
   "cell_type": "code",
   "execution_count": 45,
   "metadata": {},
   "outputs": [
    {
     "data": {
      "text/html": [
       "<strong id=\"Q\">Q:</strong> <a class=\"ProveItLink\" href=\"../__pv_it/common/d72bb8b07403efe79afab564c36a28e21330e5f90/common_expr.ipynb\"><img src=\"data:image/png;base64,iVBORw0KGgoAAAANSUhEUgAAAA8AAAASBAMAAAB2sJk8AAAAMFBMVEX///8AAAAAAAAAAAAAAAAA\n",
       "AAAAAAAAAAAAAAAAAAAAAAAAAAAAAAAAAAAAAAAAAAAv3aB7AAAAD3RSTlMAIomZq2bNMhC7791E\n",
       "VHYkqjbgAAAACXBIWXMAAA7EAAAOxAGVKw4bAAAAgklEQVQI12NgYGBUVnJlAAG1AgaWBCDdNgFI\n",
       "LAbibJCoPwMD83cQQ7+AQR4kw2B/gMH+AoiRL8CwvwFIc/xiYPgFEmD9ysCwG8ToSgBp5LnAYCXA\n",
       "wFB/IVyUaSFQlG/hAyYXkAaGkknaBxgKwLZyHuATgDAcroFpBub/3yEM9l1AawBt/xzBtQnGvwAA\n",
       "AABJRU5ErkJggg==\n",
       "\" style=\"display:inline;vertical-align:middle;\" /></a><br>"
      ],
      "text/plain": [
       "<IPython.core.display.HTML object>"
      ]
     },
     "metadata": {},
     "output_type": "display_data"
    }
   ],
   "source": [
    "Q = Variable('Q')"
   ]
  },
  {
   "cell_type": "code",
   "execution_count": 46,
   "metadata": {},
   "outputs": [
    {
     "data": {
      "text/html": [
       "<strong id=\"R\">R:</strong> <a class=\"ProveItLink\" href=\"../__pv_it/common/647ca33d6b96e29d5aa85a15d2241c7ebd0c6e4b0/common_expr.ipynb\"><img src=\"data:image/png;base64,iVBORw0KGgoAAAANSUhEUgAAABAAAAAOBAMAAADUAYG5AAAAMFBMVEX///8AAAAAAAAAAAAAAAAA\n",
       "AAAAAAAAAAAAAAAAAAAAAAAAAAAAAAAAAAAAAAAAAAAv3aB7AAAAD3RSTlMAdrurVCIyzd1EiZkQ\n",
       "72ZdbUU/AAAACXBIWXMAAA7EAAAOxAGVKw4bAAAAcElEQVQI12NgYBD6r6ykwgACnxgY4g2ANNtH\n",
       "Bgamr0AG4zcGBnYQg/0DA0O+ApDBr8DA2gxSO19RyjoBxFgfwGN0AMSoBcouADE+MzCcBxnD+Y+B\n",
       "wX8DkMH9B6hMgI2BIRbIeC8whYFr1aoHDNyFDwCHbBoCwDACPwAAAABJRU5ErkJggg==\n",
       "\" style=\"display:inline;vertical-align:middle;\" /></a><br>"
      ],
      "text/plain": [
       "<IPython.core.display.HTML object>"
      ]
     },
     "metadata": {},
     "output_type": "display_data"
    }
   ],
   "source": [
    "R = Variable('R')"
   ]
  },
  {
   "cell_type": "code",
   "execution_count": 47,
   "metadata": {},
   "outputs": [
    {
     "data": {
      "text/html": [
       "<strong id=\"S\">S:</strong> <a class=\"ProveItLink\" href=\"../__pv_it/common/38f47c5670ea8c5b56253448e95d8afb56bc09b40/common_expr.ipynb\"><img src=\"data:image/png;base64,iVBORw0KGgoAAAANSUhEUgAAAA0AAAAOBAMAAAAGUYvhAAAAMFBMVEX///8AAAAAAAAAAAAAAAAA\n",
       "AAAAAAAAAAAAAAAAAAAAAAAAAAAAAAAAAAAAAAAAAAAv3aB7AAAAD3RSTlMAVJmJZkS7dhDNMqsi\n",
       "791pxlESAAAACXBIWXMAAA7EAAAOxAGVKw4bAAAAX0lEQVQI12NgYGBUMmYJYGBgSGfgyAdSTAoM\n",
       "DJ5Amn8BA0M4kI53YGBYBaT7PwMFgIDl//89YEZ7/l8GCNAHamcBKRFgYOgG0ucbGBjkgLQyEOsZ\n",
       "MDBvANIK0dobgRQAj4AQu33LPq4AAAAASUVORK5CYII=\n",
       "\" style=\"display:inline;vertical-align:middle;\" /></a><br>"
      ],
      "text/plain": [
       "<IPython.core.display.HTML object>"
      ]
     },
     "metadata": {},
     "output_type": "display_data"
    }
   ],
   "source": [
    "S = Variable('S')"
   ]
  },
  {
   "cell_type": "code",
   "execution_count": 48,
   "metadata": {},
   "outputs": [
    {
     "data": {
      "text/html": [
       "<strong id=\"T\">T:</strong> <a class=\"ProveItLink\" href=\"../__pv_it/common/69c70dfa5f18cd09af12f2dcafa9764efe6f8cbd0/common_expr.ipynb\"><img src=\"data:image/png;base64,iVBORw0KGgoAAAANSUhEUgAAAA8AAAAOBAMAAAACpFvcAAAALVBMVEX///8AAAAAAAAAAAAAAAAA\n",
       "AAAAAAAAAAAAAAAAAAAAAAAAAAAAAAAAAAAAAADAOrOgAAAADnRSTlMAEN27q81272YimVREiemR\n",
       "V3wAAAAJcEhZcwAADsQAAA7EAZUrDhsAAABbSURBVAjXY2BUMnFSdglKYGBzZGBXYGBpYGBhYJi3\n",
       "gIH7AMMMBoa+DQxsAgwHGBj8BBh4GECgiAECOF9BGRyvoQyWh1AG0BgIABoDAUBjICBOAEzxOr8z\n",
       "SQDSAElYD+ghKmf2AAAAAElFTkSuQmCC\n",
       "\" style=\"display:inline;vertical-align:middle;\" /></a><br>"
      ],
      "text/plain": [
       "<IPython.core.display.HTML object>"
      ]
     },
     "metadata": {},
     "output_type": "display_data"
    }
   ],
   "source": [
    "T = Variable('T')"
   ]
  },
  {
   "cell_type": "code",
   "execution_count": 49,
   "metadata": {},
   "outputs": [
    {
     "data": {
      "text/html": [
       "<strong id=\"U\">U:</strong> <a class=\"ProveItLink\" href=\"../__pv_it/common/2586cdae2fd2785a5bcbf61f99f7aaf8229d775e0/common_expr.ipynb\"><img src=\"data:image/png;base64,iVBORw0KGgoAAAANSUhEUgAAAA8AAAAOBAMAAAACpFvcAAAAMFBMVEX///8AAAAAAAAAAAAAAAAA\n",
       "AAAAAAAAAAAAAAAAAAAAAAAAAAAAAAAAAAAAAAAAAAAv3aB7AAAAD3RSTlMAIqvdVO/NdolEmRC7\n",
       "MmaVuGqYAAAACXBIWXMAAA7EAAAOxAGVKw4bAAAAZUlEQVQI12MQsjdyYFD9VsDA0D+BgYG9gYGB\n",
       "IR+IuTYAiT9AzATEnN+BxA4g5vgLJF4CMXMAkFgAxPsVgAQI+z9gYGAEmsLQfwGoTgDEgOpm8Aea\n",
       "pQhisC1gELoAYjD0aIGUMgAALSwTKsmNdREAAAAASUVORK5CYII=\n",
       "\" style=\"display:inline;vertical-align:middle;\" /></a><br>"
      ],
      "text/plain": [
       "<IPython.core.display.HTML object>"
      ]
     },
     "metadata": {},
     "output_type": "display_data"
    }
   ],
   "source": [
    "U = Variable('U')"
   ]
  },
  {
   "cell_type": "code",
   "execution_count": 50,
   "metadata": {},
   "outputs": [
    {
     "data": {
      "text/html": [
       "<strong id=\"V\">V:</strong> <a class=\"ProveItLink\" href=\"../__pv_it/common/6d80eb1398b2335bf9ec427954b851b7094dced50/common_expr.ipynb\"><img src=\"data:image/png;base64,iVBORw0KGgoAAAANSUhEUgAAAA8AAAAOBAMAAAACpFvcAAAAMFBMVEX///8AAAAAAAAAAAAAAAAA\n",
       "AAAAAAAAAAAAAAAAAAAAAAAAAAAAAAAAAAAAAAAAAAAv3aB7AAAAD3RSTlMAds27VDLdmRBEq+8i\n",
       "iWYU/rnEAAAACXBIWXMAAA7EAAAOxAGVKw4bAAAAWUlEQVQI12MQ+m/CwBD2rYCB4xMDAwPnAiCx\n",
       "G4i5gJhBH4hFQYz1Bxh4LoAY9ydAZBjeP2B4CWbMvwCRYeg3gMgw8CdAZBjYfkBkGJg/Q2gG9p9Q\n",
       "Bl8BmAIA0MMU2FG+6lYAAAAASUVORK5CYII=\n",
       "\" style=\"display:inline;vertical-align:middle;\" /></a><br>"
      ],
      "text/plain": [
       "<IPython.core.display.HTML object>"
      ]
     },
     "metadata": {},
     "output_type": "display_data"
    }
   ],
   "source": [
    "V = Variable('V')"
   ]
  },
  {
   "cell_type": "code",
   "execution_count": 51,
   "metadata": {},
   "outputs": [
    {
     "data": {
      "text/html": [
       "<strong id=\"W\">W:</strong> <a class=\"ProveItLink\" href=\"../__pv_it/common/be2a62cde606eb0642ab6f06c6e4aa2c50ff45540/common_expr.ipynb\"><img src=\"data:image/png;base64,iVBORw0KGgoAAAANSUhEUgAAABUAAAAOBAMAAAAyKEr9AAAAMFBMVEX///8AAAAAAAAAAAAAAAAA\n",
       "AAAAAAAAAAAAAAAAAAAAAAAAAAAAAAAAAAAAAAAAAAAv3aB7AAAAD3RSTlMAic3vu0Sr3RBUZiKZ\n",
       "djLVooVUAAAACXBIWXMAAA7EAAAOxAGVKw4bAAAAh0lEQVQI12MQ+uzKkPw9g2H65wUMrB8ZGBi/\n",
       "MjCwJjAwcP+BsBkZGBg4vjEwMP1iYAgFshk+MTDc+svAIABimzNwz/vIwLUBxC5mYATq6QUxGfQZ\n",
       "5nF8gShh8G+4wPCJNQDMPr+3gcGcEcxkkF8J1LMCwr7vANSzAMJeDzTNHcJkCARiUTALAHJrICFY\n",
       "oHqUAAAAAElFTkSuQmCC\n",
       "\" style=\"display:inline;vertical-align:middle;\" /></a><br>"
      ],
      "text/plain": [
       "<IPython.core.display.HTML object>"
      ]
     },
     "metadata": {},
     "output_type": "display_data"
    }
   ],
   "source": [
    "W = Variable('W')"
   ]
  },
  {
   "cell_type": "code",
   "execution_count": 52,
   "metadata": {},
   "outputs": [
    {
     "data": {
      "text/html": [
       "<strong id=\"X\">X:</strong> <a class=\"ProveItLink\" href=\"../__pv_it/common/f1ca094affb79f5011ff4d63eb4e121bfbde7f330/common_expr.ipynb\"><img src=\"data:image/png;base64,iVBORw0KGgoAAAANSUhEUgAAABIAAAAOBAMAAADQ9FGEAAAAMFBMVEX///8AAAAAAAAAAAAAAAAA\n",
       "AAAAAAAAAAAAAAAAAAAAAAAAAAAAAAAAAAAAAAAAAAAv3aB7AAAAD3RSTlMAZrvvdhDdzVSrIjKZ\n",
       "iUQw4UTKAAAACXBIWXMAAA7EAAAOxAGVKw4bAAAAYklEQVQI12NgYBD6b8IQ9rmCAQjmNzBwaIEY\n",
       "DPsVGNaAGQzsv1gnQFiMfyIZoMB+Kox13wHGmp8AZfCs/Adlneb+BGHwbmDIXwBm+TEwyF8AMYKA\n",
       "JP9XIGOTvTUDd/23AwwAIdkX15Iso/wAAAAASUVORK5CYII=\n",
       "\" style=\"display:inline;vertical-align:middle;\" /></a><br>"
      ],
      "text/plain": [
       "<IPython.core.display.HTML object>"
      ]
     },
     "metadata": {},
     "output_type": "display_data"
    }
   ],
   "source": [
    "X = Variable('X')"
   ]
  },
  {
   "cell_type": "code",
   "execution_count": 53,
   "metadata": {},
   "outputs": [
    {
     "data": {
      "text/html": [
       "<strong id=\"Y\">Y:</strong> <a class=\"ProveItLink\" href=\"../__pv_it/common/72295dc899ebc16ab63a19612b428270c18ac53b0/common_expr.ipynb\"><img src=\"data:image/png;base64,iVBORw0KGgoAAAANSUhEUgAAABAAAAAOBAMAAADUAYG5AAAALVBMVEX///8AAAAAAAAAAAAAAAAA\n",
       "AAAAAAAAAAAAAAAAAAAAAAAAAAAAAAAAAAAAAADAOrOgAAAADnRSTlMAEKvd7yJUdkTNu2aJmYeN\n",
       "iygAAAAJcEhZcwAADsQAAA7EAZUrDhsAAABYSURBVAjXYxCycwpgYPNzZ2Dom8DAwLAaiJmfMjCw\n",
       "NwAZ7G8YGNKANAPjEwaOAhCDYV1DDJhmyFO8AGGwPILQDFwPoQyWCVBG3AEoY18DlLEOSt96pw6i\n",
       "AK7BEbPyHx5DAAAAAElFTkSuQmCC\n",
       "\" style=\"display:inline;vertical-align:middle;\" /></a><br>"
      ],
      "text/plain": [
       "<IPython.core.display.HTML object>"
      ]
     },
     "metadata": {},
     "output_type": "display_data"
    }
   ],
   "source": [
    "Y = Variable('Y')"
   ]
  },
  {
   "cell_type": "code",
   "execution_count": 54,
   "metadata": {},
   "outputs": [
    {
     "data": {
      "text/html": [
       "<strong id=\"Z\">Z:</strong> <a class=\"ProveItLink\" href=\"../__pv_it/common/aa55a17e9cd859874d9c4acf27d65631617e4fc60/common_expr.ipynb\"><img src=\"data:image/png;base64,iVBORw0KGgoAAAANSUhEUgAAAA4AAAAOBAMAAADtZjDiAAAAMFBMVEX///8AAAAAAAAAAAAAAAAA\n",
       "AAAAAAAAAAAAAAAAAAAAAAAAAAAAAAAAAAAAAAAAAAAv3aB7AAAAD3RSTlMA782r3URmEJlUIrsy\n",
       "iXbFnxI6AAAACXBIWXMAAA7EAAAOxAGVKw4bAAAAaElEQVQI12NgYJAXMjb6wsDA+o2BoUScgYFj\n",
       "AgOD4gIGBmYGBu4/DAwMPAwM/QEMIMD7DUwx5D8AU5w/INx4A5AaBp7fQL1AeqECA0MYAwO7SwED\n",
       "gzsDA5MUA8OhDQwM9t67Ff8nMAAAp+MRyCYl7toAAAAASUVORK5CYII=\n",
       "\" style=\"display:inline;vertical-align:middle;\" /></a><br>"
      ],
      "text/plain": [
       "<IPython.core.display.HTML object>"
      ]
     },
     "metadata": {},
     "output_type": "display_data"
    }
   ],
   "source": [
    "Z = Variable('Z')"
   ]
  },
  {
   "cell_type": "code",
   "execution_count": 55,
   "metadata": {},
   "outputs": [
    {
     "data": {
      "text/html": [
       "<strong id=\"a_star\">a_star:</strong> <a class=\"ProveItLink\" href=\"../__pv_it/common/e921074385baddd0a5d6e570771aec4936332e1a0/common_expr.ipynb\"><img src=\"data:image/png;base64,iVBORw0KGgoAAAANSUhEUgAAABMAAAAQBAMAAAAG6llRAAAAMFBMVEX///8AAAAAAAAAAAAAAAAA\n",
       "AAAAAAAAAAAAAAAAAAAAAAAAAAAAAAAAAAAAAAAAAAAv3aB7AAAAD3RSTlMAIquJdkTvuxBmmd1U\n",
       "zTKBpmoTAAAACXBIWXMAAA7EAAAOxAGVKw4bAAAAY0lEQVQI12NggAApBhg418UCY0qZ68CYrGs9\n",
       "YEzn5rdwxUJwFgMjmFB2dIDywwTYf0BYHJkMXBsgTK4PDNwGECZbAUN/AITZ78AwH6qr/wCDLo8A\n",
       "mMnuwLOLC2qCip2QH5gFAKy6D1qW6ZdeAAAAAElFTkSuQmCC\n",
       "\" style=\"display:inline;vertical-align:middle;\" /></a><br>"
      ],
      "text/plain": [
       "<IPython.core.display.HTML object>"
      ]
     },
     "metadata": {},
     "output_type": "display_data"
    }
   ],
   "source": [
    "a_star = Variable('a_star', \"a^*\", fence_when_forced=True)"
   ]
  },
  {
   "cell_type": "code",
   "execution_count": 56,
   "metadata": {},
   "outputs": [
    {
     "data": {
      "text/html": [
       "<strong id=\"b_star\">b_star:</strong> <a class=\"ProveItLink\" href=\"../__pv_it/common/524f5bfa0dd8ee2f185db8839c0246a0a05d816f0/common_expr.ipynb\"><img src=\"data:image/png;base64,iVBORw0KGgoAAAANSUhEUgAAABEAAAAQBAMAAAACH4lsAAAAMFBMVEX///8AAAAAAAAAAAAAAAAA\n",
       "AAAAAAAAAAAAAAAAAAAAAAAAAAAAAAAAAAAAAAAAAAAv3aB7AAAAD3RSTlMAELvv3c2ZVESJq3Yi\n",
       "MmZ3LnoBAAAACXBIWXMAAA7EAAAOxAGVKw4bAAAAcUlEQVQI12NgAINjDFBQK8bNwMCo7AAUmrQc\n",
       "yGdNYGDgSN0IZPEXMDDslLwKZPULAIlTINVTQAQPiIjavRxiAONXAfkDYBb7RwbmDWAWWwAD/wQw\n",
       "i2UCQ38BmAU0Ll8AwrrAaAfRy/WAKQFqyso8CAMACMkVzkHEHkMAAAAASUVORK5CYII=\n",
       "\" style=\"display:inline;vertical-align:middle;\" /></a><br>"
      ],
      "text/plain": [
       "<IPython.core.display.HTML object>"
      ]
     },
     "metadata": {},
     "output_type": "display_data"
    }
   ],
   "source": [
    "b_star = Variable('b_star', \"b^*\", fence_when_forced=True)"
   ]
  },
  {
   "cell_type": "code",
   "execution_count": 57,
   "metadata": {},
   "outputs": [
    {
     "data": {
      "text/html": [
       "<strong id=\"c_star\">c_star:</strong> <a class=\"ProveItLink\" href=\"../__pv_it/common/45cf38972474ac0b02d58e637b7120a47706d73f0/common_expr.ipynb\"><img src=\"data:image/png;base64,iVBORw0KGgoAAAANSUhEUgAAABEAAAAQBAMAAAACH4lsAAAAMFBMVEX///8AAAAAAAAAAAAAAAAA\n",
       "AAAAAAAAAAAAAAAAAAAAAAAAAAAAAAAAAAAAAAAAAAAv3aB7AAAAD3RSTlMAiXZmMiLdVJm77xBE\n",
       "q833A+o+AAAACXBIWXMAAA7EAAAOxAGVKw4bAAAAVUlEQVQI12NgAIMIBigo2cEEZUVIXoeyePq0\n",
       "oSzFjX4whbEwBgMrmBRSdoBwwwo4JkBYiQxcCmAGx2+YWq4JMNZ+BRiL34CB4QBE3QQGRqgpgsYQ\n",
       "OwHl2Aw3fk9Y+AAAAABJRU5ErkJggg==\n",
       "\" style=\"display:inline;vertical-align:middle;\" /></a><br>"
      ],
      "text/plain": [
       "<IPython.core.display.HTML object>"
      ]
     },
     "metadata": {},
     "output_type": "display_data"
    }
   ],
   "source": [
    "c_star = Variable('c_star', \"c^*\", fence_when_forced=True)"
   ]
  },
  {
   "cell_type": "code",
   "execution_count": 58,
   "metadata": {},
   "outputs": [
    {
     "data": {
      "text/html": [
       "<strong id=\"d_star\">d_star:</strong> <a class=\"ProveItLink\" href=\"../__pv_it/common/7b726b46d7e58b3dd459257f56ef7658158a115f0/common_expr.ipynb\"><img src=\"data:image/png;base64,iVBORw0KGgoAAAANSUhEUgAAABMAAAAQBAMAAAAG6llRAAAAMFBMVEX///8AAAAAAAAAAAAAAAAA\n",
       "AAAAAAAAAAAAAAAAAAAAAAAAAAAAAAAAAAAAAAAAAAAv3aB7AAAAD3RSTlMAMs3vmVREEIndIqt2\n",
       "u2aBbGR5AAAACXBIWXMAAA7EAAAOxAGVKw4bAAAAcklEQVQI12NggIAlDDAQWMIDphmVHZb0boWI\n",
       "8QewOR2HMPMLTlQIQZidDAyroZpUGBi4QDTXjoNfoULJC3i/Q1jsdgwsChAmywcGzgYIk/kCQ30C\n",
       "hFl/gOE9VFd9AMMm1gVgJu8B1iksUBP2NK4+CGYBAN2wGUZ6pVPiAAAAAElFTkSuQmCC\n",
       "\" style=\"display:inline;vertical-align:middle;\" /></a><br>"
      ],
      "text/plain": [
       "<IPython.core.display.HTML object>"
      ]
     },
     "metadata": {},
     "output_type": "display_data"
    }
   ],
   "source": [
    "d_star = Variable('d_star', \"d^*\", fence_when_forced=True)"
   ]
  },
  {
   "cell_type": "code",
   "execution_count": 59,
   "metadata": {},
   "outputs": [
    {
     "data": {
      "text/html": [
       "<strong id=\"Am\">Am:</strong> <a class=\"ProveItLink\" href=\"../__pv_it/common/0c7e7950f7edd578791c0f74d6b06301e43978820/common_expr.ipynb\"><img src=\"data:image/png;base64,iVBORw0KGgoAAAANSUhEUgAAADMAAAAVBAMAAAAZessyAAAAMFBMVEX///8AAAAAAAAAAAAAAAAA\n",
       "AAAAAAAAAAAAAAAAAAAAAAAAAAAAAAAAAAAAAAAAAAAv3aB7AAAAD3RSTlMAIs1UmauJMnZmRLsQ\n",
       "3e++988cAAAACXBIWXMAAA7EAAAOxAGVKw4bAAABLUlEQVQoz2NgQAKMCKYAjCEEoZoRUitgDH0w\n",
       "yZyAkOKYAKGZ/4OpQ8iG60Aolniw0Z7IUlMgVGJ+AYh6gCzFdwDssIZ+A5CxCshSTGDLWBjsQTQL\n",
       "0BUrYsS6G8qyFzAwsAWApBYz1CdA1SVsbeD5uYAZaDQn2AwHBnmQEl4DBq4FtxkYfzBwfgAaD7KZ\n",
       "Y4tL/AaQxQsYeHh+MTD/YWAB6mAHSjOcYGDgvwCRYmD+ABLnA5rP9QBsHgPvA4iBDKwKDLwJDOsF\n",
       "DjAwA1VzAW1nAunmbmAAqT+/gCGIcQIDJ9AOOZDoRwaIc+ULGOYzMGxjA3vl9H8dBub9n4CmswON\n",
       "WMvA0MLAsKQRaPwC5AC4jsyRZcASohCAEtYM3AJIEb4BRYpnA3ZlICCBYAIdAgBNmj+pPVRwGQAA\n",
       "AABJRU5ErkJggg==\n",
       "\" style=\"display:inline;vertical-align:middle;\" /></a><br>"
      ],
      "text/plain": [
       "<IPython.core.display.HTML object>"
      ]
     },
     "metadata": {},
     "output_type": "display_data"
    }
   ],
   "source": [
    "Am = Function(A,m)"
   ]
  },
  {
   "cell_type": "code",
   "execution_count": 60,
   "metadata": {},
   "outputs": [
    {
     "data": {
      "text/html": [
       "<strong id=\"b_of_j\">b_of_j:</strong> <a class=\"ProveItLink\" href=\"../__pv_it/common/b2eb53caae09b44c23921759afb8e0a23b943e240/common_expr.ipynb\"><img src=\"data:image/png;base64,iVBORw0KGgoAAAANSUhEUgAAACQAAAAVBAMAAADcCFGjAAAAMFBMVEX///8AAAAAAAAAAAAAAAAA\n",
       "AAAAAAAAAAAAAAAAAAAAAAAAAAAAAAAAAAAAAAAAAAAv3aB7AAAAD3RSTlMAELvv3c2ZVESJq3Yi\n",
       "MmZ3LnoBAAAACXBIWXMAAA7EAAAOxAGVKw4bAAAA+klEQVQY02NggIEDYJKHAQG4C8AUxwYGBkZl\n",
       "BzC7EkRcEmDYB6RYE0AcxgAQuRXIFWBg4AfrYHsANYAPqKJfAMRihhtqyMAwBcwohQvFMTBE7V4O\n",
       "ZGSCzNu9AEjOYmD8KiB/ACzHwMZgBySfMrB/ZGAGusUdyNnD8B1IFjOwBTDwT2BgsAByBIDSDAz3\n",
       "GVgmMPQXQIQY2ECubgY5K18AohEkzcBQwsB/gRFkqDZI6HwDkHjEwPWAKQFsNRC8ZwA7h3FlHohx\n",
       "BUQsAhEeMDezXAAS1qAAc2BA+HY530dk/zMw6PB+ZwGFySFEqAoxZGeApRBCPBsg4X2AAQDWajB/\n",
       "zuJM7QAAAABJRU5ErkJggg==\n",
       "\" style=\"display:inline;vertical-align:middle;\" /></a><br>"
      ],
      "text/plain": [
       "<IPython.core.display.HTML object>"
      ]
     },
     "metadata": {},
     "output_type": "display_data"
    }
   ],
   "source": [
    "b_of_j = Function(b, j)"
   ]
  },
  {
   "cell_type": "code",
   "execution_count": 61,
   "metadata": {},
   "outputs": [
    {
     "data": {
      "text/html": [
       "<strong id=\"b_of_k\">b_of_k:</strong> <a class=\"ProveItLink\" href=\"../__pv_it/common/05b2068f19cf101f841ff850a15872bab852b8540/common_expr.ipynb\"><img src=\"data:image/png;base64,iVBORw0KGgoAAAANSUhEUgAAACYAAAAVBAMAAADY/YGeAAAAMFBMVEX///8AAAAAAAAAAAAAAAAA\n",
       "AAAAAAAAAAAAAAAAAAAAAAAAAAAAAAAAAAAAAAAAAAAv3aB7AAAAD3RSTlMAELvv3c2ZVESJq3Yi\n",
       "MmZ3LnoBAAAACXBIWXMAAA7EAAAOxAGVKw4bAAABDUlEQVQY02NggIEDEIqHAQG4CyA0xwYGBkZl\n",
       "BzC7koFByATE2AfErAkgFmMAkAgDsVgFGBj4wZrYHgCJ7yAWH1BNvwCIxQwy6iPYFEMGhilgRikQ\n",
       "cxqAmXEMDFG7lwMZmSCTFrBPA2qaxcD4VUD+AFiSQf5B+WGgsU8Z2D8yMAOd5A4Uqz9RcBUoXczA\n",
       "FsDAP4GBwQIolvwWbN59BpYJDP0FEDHXtAsgsWaQ8/IFwHoZv3P8BYmVMPBfYLQDMrSBjv3I+J0b\n",
       "yHzEwPWACeS5WQwMXAGMfznBzmJcmQfScIWBgamAYdtGINMDFlQsF2AsHgcYiy8BxgKHBgTowBiH\n",
       "EOEshCEJNGYDNA4OMAAAaXE3Jyyu4R4AAAAASUVORK5CYII=\n",
       "\" style=\"display:inline;vertical-align:middle;\" /></a><br>"
      ],
      "text/plain": [
       "<IPython.core.display.HTML object>"
      ]
     },
     "metadata": {},
     "output_type": "display_data"
    }
   ],
   "source": [
    "b_of_k = Function(b, k)"
   ]
  },
  {
   "cell_type": "code",
   "execution_count": 62,
   "metadata": {},
   "outputs": [
    {
     "data": {
      "text/html": [
       "<strong id=\"Bm\">Bm:</strong> <a class=\"ProveItLink\" href=\"../__pv_it/common/152ff594246d33cd6d708313f3fe3a27dd19db020/common_expr.ipynb\"><img src=\"data:image/png;base64,iVBORw0KGgoAAAANSUhEUgAAADUAAAAVBAMAAAAUZLt1AAAAMFBMVEX///8AAAAAAAAAAAAAAAAA\n",
       "AAAAAAAAAAAAAAAAAAAAAAAAAAAAAAAAAAAAAAAAAAAv3aB7AAAAD3RSTlMAZrurzTLvInZEmRDd\n",
       "VIkafcLnAAAACXBIWXMAAA7EAAAOxAGVKw4bAAABPklEQVQoz21Ru0oDQRQ9k83uuplMWCzTZEEQ\n",
       "Gx+w2ykYbG3yBb4a2y0tRBcbRRCnkiCC5A9S2EcEez9h8QdMiGLUQu+dIDsrXpiZM3PmnnNnLmCH\n",
       "X8AUf+KigF0zz37H8UaHkcoLbiY0yx7gvDG4szU2jckECD4Z9WyuyZOgHDFhtGNzXp8mZwhU99mu\n",
       "bXNVNvQiyDWupUaldFePTrKtZw00Vuhoe+EsCX9v5nOZHGlF6oJVLlOoXebqTwj0A9cmyIZ5zNN4\n",
       "YU1PQ8oPqC/UKMclHmMarWzKQQ2Z8Mg5oDx3RMfreqoJp416jtu0D3VPn/NO/Cv7VSiZMgYaiR9C\n",
       "RFQd5V6ZD+KqjztoAUsN8yJneRwni+a1LqncAOfA9Sk56FKLHu3NYbl9TXvTK3MVq9l+VOZk9P89\n",
       "EwcFpGp+AG2zQmFueF+eAAAAAElFTkSuQmCC\n",
       "\" style=\"display:inline;vertical-align:middle;\" /></a><br>"
      ],
      "text/plain": [
       "<IPython.core.display.HTML object>"
      ]
     },
     "metadata": {},
     "output_type": "display_data"
    }
   ],
   "source": [
    "Bm = Function(B,m)"
   ]
  },
  {
   "cell_type": "code",
   "execution_count": 63,
   "metadata": {},
   "outputs": [
    {
     "data": {
      "text/html": [
       "<strong id=\"Cn\">Cn:</strong> <a class=\"ProveItLink\" href=\"../__pv_it/common/65ceb41563d7e9159b5e9ee81c0a489299f07c5b0/common_expr.ipynb\"><img src=\"data:image/png;base64,iVBORw0KGgoAAAANSUhEUgAAACwAAAAVBAMAAADP3xFXAAAAMFBMVEX///8AAAAAAAAAAAAAAAAA\n",
       "AAAAAAAAAAAAAAAAAAAAAAAAAAAAAAAAAAAAAAAAAAAv3aB7AAAAD3RSTlMAEHa7q2Yiie9Umd0y\n",
       "zUTye3nKAAAACXBIWXMAAA7EAAAOxAGVKw4bAAABEUlEQVQY02NgQAIJEIqNAQUwTYDQfAogklHZ\n",
       "xZWtAMiYDpNXBREaigycqwOA0hdgwrwCDAzCe4CM9UBjuQJgwqwLGBhuAKUYXgAxB8KWRgb2nyD6\n",
       "FBDPRQhfZcjfAKJlgHg50A0qYkVGQGYJQ70CQgkDO7MTgzzQmliG/Qkw4Z0MDO+4DRjyDzAwzGDo\n",
       "BwuBrO0DUvIPGOYD2ecZ9oNEOQ9AhBnmMzD4gh0GcjEDO9QQkNhXRgaG2Qz5ICsLQcIgJ7QzcH4E\n",
       "qglm4PzKwPAcZDTQVQxsfxiYLsSA3Spl4vUAbO1poLs3MDC6AsNxH1K4ch+Asdg2IAmDAggCEIEG\n",
       "AmYwRjJK7AhjyEOMhAYPUwIDAEbWNHaFWJWHAAAAAElFTkSuQmCC\n",
       "\" style=\"display:inline;vertical-align:middle;\" /></a><br>"
      ],
      "text/plain": [
       "<IPython.core.display.HTML object>"
      ]
     },
     "metadata": {},
     "output_type": "display_data"
    }
   ],
   "source": [
    "Cn = Function(C,n)"
   ]
  },
  {
   "cell_type": "code",
   "execution_count": 64,
   "metadata": {},
   "outputs": [
    {
     "data": {
      "text/html": [
       "<strong id=\"PofA\">PofA:</strong> <a class=\"ProveItLink\" href=\"../__pv_it/common/179eec53aec5f67dcadb70a64bbe503739c53abe0/common_expr.ipynb\"><img src=\"data:image/png;base64,iVBORw0KGgoAAAANSUhEUgAAADIAAAAVBAMAAAD2uKAMAAAAMFBMVEX///8AAAAAAAAAAAAAAAAA\n",
       "AAAAAAAAAAAAAAAAAAAAAAAAAAAAAAAAAAAAAAAAAAAv3aB7AAAAD3RSTlMAdrurzZkQ7zJUiSLd\n",
       "ZkQEbk8lAAAACXBIWXMAAA7EAAAOxAGVKw4bAAABHUlEQVQoz2NgQAYbYAxuBlTAOAFMbWFg4BMA\n",
       "MYT+Kxu5JoBYsyAK/IFYFsz6wsDAVAak2RzAXM7/QIIFpJTjI5AHxAysF8AyrPZA63gDQKb/AOJf\n",
       "QAY7xLDV6xuAJMgQpg9ADJRlmAJxloA8yCG+QMyvwMDQD3JLFMQwhvkgUxczgEV3nWSAKmNgeMnQ\n",
       "vwBIXQFieatV98BiYGmGAIb9BkBqOhDrwzxaB/ataqi9AsgkiHeQZBKBFh8A0s+B3vkFkzkJMYyB\n",
       "pwBIzwFq/weTUQRiPqC7WIDeYLgEpcEA5NDtIA/+BnuBVf+TAFSmh4Eh6b8bA6f+F6CzzyFHAk8D\n",
       "gs19AFkGHIpQAA1dGNBGMDehxmkSVkWQYIbH+wYGAAUzPGBwqko8AAAAAElFTkSuQmCC\n",
       "\" style=\"display:inline;vertical-align:middle;\" /></a><br>"
      ],
      "text/plain": [
       "<IPython.core.display.HTML object>"
      ]
     },
     "metadata": {},
     "output_type": "display_data"
    }
   ],
   "source": [
    "PofA = Function(P, A)"
   ]
  },
  {
   "cell_type": "code",
   "execution_count": 65,
   "metadata": {},
   "outputs": [
    {
     "data": {
      "text/html": [
       "<strong id=\"PofB\">PofB:</strong> <a class=\"ProveItLink\" href=\"../__pv_it/common/659ee98e18fe8cf68d21bf5ccc69f7d39f4a9e800/common_expr.ipynb\"><img src=\"data:image/png;base64,iVBORw0KGgoAAAANSUhEUgAAADMAAAAVBAMAAAAZessyAAAAMFBMVEX///8AAAAAAAAAAAAAAAAA\n",
       "AAAAAAAAAAAAAAAAAAAAAAAAAAAAAAAAAAAAAAAAAAAv3aB7AAAAD3RSTlMAdrurzZkQ7zJUiSLd\n",
       "ZkQEbk8lAAAACXBIWXMAAA7EAAAOxAGVKw4bAAABNklEQVQoz2NgQAYbsLAggHECnPkQTAr9VzZy\n",
       "TQCxZgHxpf/Gxk4NDIwXwHJfGBiYyoA0mwOIV8TAwPyDgcENxOb4yMDACcQMrCCV3EAW31cGhqtg\n",
       "G4BqGH8BGewgHi+QxwuUZgdZwfQBiIECDFNAUsxAHks1EIOM4FdgYOgXADKiQFLsCgxsNg0MDFwG\n",
       "DGDhXSdBor4gol9R0ASkgRfkJnmrVffALgXLy29g4KwF0pwFQEIf5s06EKEOxOuBBnJ8gHgLSeoz\n",
       "EN8H2swH1MXxCyYFMpDjL5CwfwA08ADQS/9gUoogT/4GSoPM4QW6m+UDTGoxELMAzXkOCiTWBQys\n",
       "+p8EoFI9QA/rfzY20QRxeB4gxwlPAxJnD0p08QYgcWJRo1IbweRWQJVKQjCZ0FIAtwCcKc3AAACD\n",
       "7UFe0ralugAAAABJRU5ErkJggg==\n",
       "\" style=\"display:inline;vertical-align:middle;\" /></a><br>"
      ],
      "text/plain": [
       "<IPython.core.display.HTML object>"
      ]
     },
     "metadata": {},
     "output_type": "display_data"
    }
   ],
   "source": [
    "PofB = Function(P, B)"
   ]
  },
  {
   "cell_type": "code",
   "execution_count": 66,
   "metadata": {},
   "outputs": [
    {
     "data": {
      "text/html": [
       "<strong id=\"Pk\">Pk:</strong> <a class=\"ProveItLink\" href=\"../__pv_it/common/10f6db3d92f2a6872bea0c3d23d18e515274bbde0/common_expr.ipynb\"><img src=\"data:image/png;base64,iVBORw0KGgoAAAANSUhEUgAAAC0AAAAVBAMAAAAgHXppAAAAMFBMVEX///8AAAAAAAAAAAAAAAAA\n",
       "AAAAAAAAAAAAAAAAAAAAAAAAAAAAAAAAAAAAAAAAAAAv3aB7AAAAD3RSTlMAdrurzZkQ7zJUiSLd\n",
       "ZkQEbk8lAAAACXBIWXMAAA7EAAAOxAGVKw4bAAABG0lEQVQY02NgQAYbUCg4YJwAoR+CSaH/ykau\n",
       "CSDWLAaGpBqQ/AWwxBcGBqYyIM3mACRcQSJuIILjIwMDJxAzsIKU/QQJXQWb+gOIfwEZ7EDM9w0k\n",
       "xA4ylukDEAPlGKYAMVcBSJwFpJNfgYGhXwDIiAKJGHAuTWDgMmAAi+06CVLlC8T5F2Zuv8DAC3KB\n",
       "vNWqe2B3gSTn75vQsoGBE2SaPsxbdUAcfgPsxA8Q5yPEj4Q2gFwFVM/xCyYONIftJx/IZZwHgE7/\n",
       "BxNXZGDg/cb2kxFIAZ3I8gEmvpiBgdmB7QcX0OcLGFj1PwlAxXuA/pvAICrGwMDzADmYeRpgrD0o\n",
       "wc8bAGPFosaLNpTmVkAVT4LSTGgRyQ11gTQDAwBocD0Lhjke+AAAAABJRU5ErkJggg==\n",
       "\" style=\"display:inline;vertical-align:middle;\" /></a><br>"
      ],
      "text/plain": [
       "<IPython.core.display.HTML object>"
      ]
     },
     "metadata": {},
     "output_type": "display_data"
    }
   ],
   "source": [
    "Pk = Function(P, k)"
   ]
  },
  {
   "cell_type": "code",
   "execution_count": 67,
   "metadata": {},
   "outputs": [
    {
     "data": {
      "text/html": [
       "<strong id=\"Px\">Px:</strong> <a class=\"ProveItLink\" href=\"../__pv_it/common/32fc7f13c9e7e89074583aa5bfc208d125f839970/common_expr.ipynb\"><img src=\"data:image/png;base64,iVBORw0KGgoAAAANSUhEUgAAAC4AAAAVBAMAAADLKsFqAAAAMFBMVEX///8AAAAAAAAAAAAAAAAA\n",
       "AAAAAAAAAAAAAAAAAAAAAAAAAAAAAAAAAAAAAAAAAAAv3aB7AAAAD3RSTlMAdrurzZkQ7zJUiSLd\n",
       "ZkQEbk8lAAAACXBIWXMAAA7EAAAOxAGVKw4bAAABBUlEQVQY02NgQAYbIBQ3AypgnACh+QRApNB/\n",
       "ZSPXBBBrFkyBLJj8wsDAVAak2Rxg4iwgZRwfGRg4gZiB9QJMnDcAZOoPIP4FZLAjbAJpZ/oAxEA5\n",
       "hikIcV8g5ldgYOgHuSAKiBOFM1YBXbWYASy26yRMUQCjIesBBoYrQKa81ap7YM1ASd4NvN+YgdZP\n",
       "B3L1YYbWAd3GwAp2bD/E+XBxoKPAfn0OVPILJg625P0GNqCn5gCd/g8mrsjAkPTAnIELyLwE9PMH\n",
       "mDjQcfPbwhlegp3Mqv9JACrew8CQKsgZCwrUc8jBzNMAY3EfQBYHhxYYIEIQDLRhjE2o8ZWEoQBq\n",
       "LNQFjBsYAPX/NdAdv2WaAAAAAElFTkSuQmCC\n",
       "\" style=\"display:inline;vertical-align:middle;\" /></a><br>"
      ],
      "text/plain": [
       "<IPython.core.display.HTML object>"
      ]
     },
     "metadata": {},
     "output_type": "display_data"
    }
   ],
   "source": [
    "Px = Function(P, x)"
   ]
  },
  {
   "cell_type": "code",
   "execution_count": 68,
   "metadata": {},
   "outputs": [
    {
     "data": {
      "text/html": [
       "<strong id=\"Py\">Py:</strong> <a class=\"ProveItLink\" href=\"../__pv_it/common/da54d8e4a8a27a02e3008e3dbdbc9c2042ade4470/common_expr.ipynb\"><img src=\"data:image/png;base64,iVBORw0KGgoAAAANSUhEUgAAAC0AAAAVBAMAAAAgHXppAAAAMFBMVEX///8AAAAAAAAAAAAAAAAA\n",
       "AAAAAAAAAAAAAAAAAAAAAAAAAAAAAAAAAAAAAAAAAAAv3aB7AAAAD3RSTlMAdrurzZkQ7zJUiSLd\n",
       "ZkQEbk8lAAAACXBIWXMAAA7EAAAOxAGVKw4bAAABHklEQVQY02NgQAYbUCg4YJwAoR+CSaH/ykau\n",
       "CSDWLJj8BTD1hYGBqQxIsznANLqBCI6PDAycQMzAegEmfhWs6wcQ/wIy2OEWsYOMZfoAxEA5hilw\n",
       "cRaQTn4FBoZ+ASAjCmiF6AWGZAYGLgMGsNiukyBVvkABzgKG+wwMvCAXyFutugfWDZTsZD3AYAR0\n",
       "RgGQqw8ztY6BIYFdgKEQ6MQPEOfDxRneJ3AAncAHVM/xCyYOsiSEgREoxnkA6PR/MHFFIFZmYAK6\n",
       "hRfoRJYPMPHFQBzM8B7odtYFDKz6nwSg4j1AnLwwHhjKPA+Qg5mnAUQuAeI9KMHPG8DA5cBWCWTF\n",
       "osaLNgOPAPMCBgZuBVTxJAbOi3GgkESLSG6oC6QZGAAcTjjh8GQ43gAAAABJRU5ErkJggg==\n",
       "\" style=\"display:inline;vertical-align:middle;\" /></a><br>"
      ],
      "text/plain": [
       "<IPython.core.display.HTML object>"
      ]
     },
     "metadata": {},
     "output_type": "display_data"
    }
   ],
   "source": [
    "Py = Function(P, y)"
   ]
  },
  {
   "cell_type": "code",
   "execution_count": 69,
   "metadata": {},
   "outputs": [
    {
     "data": {
      "text/html": [
       "<strong id=\"Pxy\">Pxy:</strong> <a class=\"ProveItLink\" href=\"../__pv_it/common/4e61be9aa333d2df63a3be6228e145aa7632e0400/common_expr.ipynb\"><img src=\"data:image/png;base64,iVBORw0KGgoAAAANSUhEUgAAAEIAAAAVBAMAAAAA8SWUAAAAMFBMVEX///8AAAAAAAAAAAAAAAAA\n",
       "AAAAAAAAAAAAAAAAAAAAAAAAAAAAAAAAAAAAAAAAAAAv3aB7AAAAD3RSTlMAdrurzZkQ7zJUiSLd\n",
       "ZkQEbk8lAAAACXBIWXMAAA7EAAAOxAGVKw4bAAABa0lEQVQoz21RPUjDUBD+kpq0aZv6RxEHsdDR\n",
       "obGLkMnFUegmiIVGFB11cXZyTbcuigWdOkVHp7opiBTRVbqJk1WkSMWf772mJW0auLsv9767+949\n",
       "IPAlMPwNZ2ZDjNSE8FN/2fxKicCohhiYk/4TUA8Yt8IEjInS2DvLaSiOYJgFOuWL1iHYG8GAaK62\n",
       "aGQZy6MYq7TxDOBSsyaEOtO7tbI8corQLeAM8vTqVohq0BWURa0uGdUKTHZ/JJy3a88ilWSt6Znt\n",
       "iGAiVt5AhN0rxDl/YrTJPDRfjY59RDnb7a6jz4DMdtfZhnsIvLCs46eSUuGbp5fkL5vNMBxzFb8+\n",
       "Q2X1ZnMJcUBwVAtZhgdeoeUz4rzb6dEaXqGLwZqV+mFYh5b78CfHeMvtSaPIYXdsotvpb2bvg+u7\n",
       "6SNDSonzWol6kPHUR5SCc+ywm9YIMlSvhxzaNWz6y4FH0jM9JJSdpMV+Fgbf8SL0soqHfy+/SSb0\n",
       "EJAAAAAAAElFTkSuQmCC\n",
       "\" style=\"display:inline;vertical-align:middle;\" /></a><br>"
      ],
      "text/plain": [
       "<IPython.core.display.HTML object>"
      ]
     },
     "metadata": {},
     "output_type": "display_data"
    }
   ],
   "source": [
    "Pxy = Function(P, (x, y))"
   ]
  },
  {
   "cell_type": "code",
   "execution_count": 70,
   "metadata": {},
   "outputs": [
    {
     "data": {
      "text/html": [
       "<strong id=\"Pxyz\">Pxyz:</strong> <a class=\"ProveItLink\" href=\"../__pv_it/common/74e067b301a98c748fdb20c784c9162fac1e28d00/common_expr.ipynb\"><img src=\"data:image/png;base64,iVBORw0KGgoAAAANSUhEUgAAAFUAAAAVBAMAAADFg78FAAAAMFBMVEX///8AAAAAAAAAAAAAAAAA\n",
       "AAAAAAAAAAAAAAAAAAAAAAAAAAAAAAAAAAAAAAAAAAAv3aB7AAAAD3RSTlMAdrurzZkQ7zJUiSLd\n",
       "ZkQEbk8lAAAACXBIWXMAAA7EAAAOxAGVKw4bAAABpElEQVQoz32TP0gCURzHv6feeed5ZoUENWQ4\n",
       "NmgtgZMNtQVuQSSoEEVTQTSGNDQJOgRBEIlFg5NzNNRm0ODSGtfYEF0REkZ/fu+9e6WC/uB37/Pe\n",
       "73vv/X6/dwd0Wh19rTeklPtrH/lz5Cc2u5BldNxfCqXJh3fAs0ujlhqgxSJ76K+AQQ61OUh7z3f/\n",
       "IG8T+AdJ4Wdpehxy0uNwoNbHTh2KAqUwwQp5bnSjJrqRy0BLCFmxYTYRYBPSXd6ypSXytDKjXnNB\n",
       "5QiWw0mbr54BFqt8Mll74Gv0glW3Wl5eol5ehTfK180sLqj8LcK4zGiPFFDdxmnYhj/sRjapLt0R\n",
       "7f3T4j8eaqFUEGiytRDtq7ellif9Utf4HbIDxtzAM50Cg8pQvqV2CsjbcwgAvJUJxAQZZXipFEre\n",
       "50gtFXt6sIwnaCwtNRH6ErRfHW/QvAI1/iYzLAJrw0aG2ntH22nJyKegirFjA0G782aCBUkGTzmQ\n",
       "ksTsqusWrbQkShnnWC8LEpbpvvJpCTnyGyRdEn2LdmvzElgFJxHbJW6enp/IDPf/zCaAX0UsVy7w\n",
       "m8spAAAAAElFTkSuQmCC\n",
       "\" style=\"display:inline;vertical-align:middle;\" /></a><br>"
      ],
      "text/plain": [
       "<IPython.core.display.HTML object>"
      ]
     },
     "metadata": {},
     "output_type": "display_data"
    }
   ],
   "source": [
    "Pxyz = Function(P, (x, y, z))"
   ]
  },
  {
   "cell_type": "code",
   "execution_count": 71,
   "metadata": {},
   "outputs": [
    {
     "data": {
      "text/html": [
       "<strong id=\"Pq\">Pq:</strong> <a class=\"ProveItLink\" href=\"../__pv_it/common/693ef0d7e025a2a270a2a06d55808e81d24556050/common_expr.ipynb\"><img src=\"data:image/png;base64,iVBORw0KGgoAAAANSUhEUgAAACwAAAAVBAMAAADP3xFXAAAAMFBMVEX///8AAAAAAAAAAAAAAAAA\n",
       "AAAAAAAAAAAAAAAAAAAAAAAAAAAAAAAAAAAAAAAAAAAv3aB7AAAAD3RSTlMAdrurzZkQ7zJUiSLd\n",
       "ZkQEbk8lAAAACXBIWXMAAA7EAAAOxAGVKw4bAAABEklEQVQY02NgQALcKBQcSEIoPgEQKfRf2cg1\n",
       "AcjgXACVlgWTXxgYmMqAdApMFwtIEcdHoEIgZoiFCfMGAAnGH0D8C8gogFsC0sv0AYiBUpwOcGFf\n",
       "IOZXYGDoB1rOCrKR23CZBAPDYgaw0K6TIIsuAIk3G5iBmq8AWfJWq+6BdPJMYGBgq2VgBpo1HcjV\n",
       "hxrI/gBo0AcGHqBZ/RBnw4XZFRj2A6nnQGf/ggqDDMkXYLgPZM4BOvkfVJgJ6Jr8CQwqQOYloAM+\n",
       "QIW5DEBSvCDNUQys+p8EIMIcB4AuMZQEaT6HHK4nwOEB1Mx9AFn4KogAOZv1ArIw0waQM4HO3oQS\n",
       "OWzAwOHyP8XAoI0aaRshFOMGBgAKtzkkdkjoYwAAAABJRU5ErkJggg==\n",
       "\" style=\"display:inline;vertical-align:middle;\" /></a><br>"
      ],
      "text/plain": [
       "<IPython.core.display.HTML object>"
      ]
     },
     "metadata": {},
     "output_type": "display_data"
    }
   ],
   "source": [
    "Pq = Function(P, q)"
   ]
  },
  {
   "cell_type": "code",
   "execution_count": 72,
   "metadata": {},
   "outputs": [
    {
     "data": {
      "text/html": [
       "<strong id=\"QofA\">QofA:</strong> <a class=\"ProveItLink\" href=\"../__pv_it/common/a3b5f30b31e2e6c8d4ff71eeb41c35c44be51cd10/common_expr.ipynb\"><img src=\"data:image/png;base64,iVBORw0KGgoAAAANSUhEUgAAADEAAAAVBAMAAAAdjxsPAAAAMFBMVEX///8AAAAAAAAAAAAAAAAA\n",
       "AAAAAAAAAAAAAAAAAAAAAAAAAAAAAAAAAAAAAAAAAAAv3aB7AAAAD3RSTlMAIomZq2bNMhC7791E\n",
       "VHYkqjbgAAAACXBIWXMAAA7EAAAOxAGVKw4bAAABRklEQVQoz11RMUvDQBT+0liT1DYEwUmoouDi\n",
       "oGBdXNpBZwsdXIOT4GAGdzM5OAX/QFP8A92EOpilq2QSnKyjg1BFLSpS33dHY/Tg3vvefe++e+8e\n",
       "kFtGhjz8XU+a94EbjZaXdhSoLCo3PQTcJtFKgCmf4FTfvBcGB4wjMRc82tRM7VlMS/Yho12aWBGF\n",
       "2ZHYUgiTHmuBPKMkUXW/+VgTCxRDPQFMXcB65Y03G6inDI88lSarnFov4oo+rkPx9qeYGZVjwnhl\n",
       "BzF4hiIFSgnh40btQ5w1xBXDM3/C2APgi6Kx1FtOseVN1EzZPap1cZLuzRU6vOhIOvosh/oR3M6g\n",
       "sB1CFwqD3bY93cLx+WqCgI92YbffQ9yN90ValeMkrprHZW4g88o6jVvlWzlG/645HumM30ka6s9g\n",
       "9VT3sKOMcf6Nu5qhB+AHo5JHTWUkwN0AAAAASUVORK5CYII=\n",
       "\" style=\"display:inline;vertical-align:middle;\" /></a><br>"
      ],
      "text/plain": [
       "<IPython.core.display.HTML object>"
      ]
     },
     "metadata": {},
     "output_type": "display_data"
    }
   ],
   "source": [
    "QofA = Function(Q, A)"
   ]
  },
  {
   "cell_type": "code",
   "execution_count": 73,
   "metadata": {},
   "outputs": [
    {
     "data": {
      "text/html": [
       "<strong id=\"Qx\">Qx:</strong> <a class=\"ProveItLink\" href=\"../__pv_it/common/fce49534291e406d3d43684e225f1a2779a61f030/common_expr.ipynb\"><img src=\"data:image/png;base64,iVBORw0KGgoAAAANSUhEUgAAAC0AAAAVBAMAAAAgHXppAAAAMFBMVEX///8AAAAAAAAAAAAAAAAA\n",
       "AAAAAAAAAAAAAAAAAAAAAAAAAAAAAAAAAAAAAAAAAAAv3aB7AAAAD3RSTlMAIomZq2bNMhC7791E\n",
       "VHYkqjbgAAAACXBIWXMAAA7EAAAOxAGVKw4bAAABM0lEQVQY02NgQAKMUFqAARW8hdLnIKqUlVzB\n",
       "DF4FqDhfAIhUK2BgSQAx2uAaM0C8CUBiMYhnChcPBuJsEMMfRCyAi3M1MDB/BzH0C4DGJ8DF2QIY\n",
       "5EHGMNgfYGBgBlrL8c6jSJeBgcmBwf4CSDxfAKyIgZnhyQNrBgbWBIb9DUBhjl9AghuoIpAhvgHo\n",
       "aN4FDCARBtavIMuAZhUwmIH47B8YdoPorgSoOAPDOhDBswDoQp4LDFYCUHMYeD4ydADN2cBQfyFc\n",
       "lGkhSBHnAwaOOSwLGIDOYp3AwLfwAZMLyG6Q43i/Ny8Aagc7uWSS9gGgfUDLNjBw2D24HAsyEmwV\n",
       "5wE+cIhvh/tXGkxyOlyDhxYEQEKQ+f93iDwsnhjBYcPAvgscFgwcE6DinGgRKQelHzIwAACPCz/5\n",
       "c4ZXDAAAAABJRU5ErkJggg==\n",
       "\" style=\"display:inline;vertical-align:middle;\" /></a><br>"
      ],
      "text/plain": [
       "<IPython.core.display.HTML object>"
      ]
     },
     "metadata": {},
     "output_type": "display_data"
    }
   ],
   "source": [
    "Qx = Function(Q, x)"
   ]
  },
  {
   "cell_type": "code",
   "execution_count": 74,
   "metadata": {},
   "outputs": [
    {
     "data": {
      "text/html": [
       "<strong id=\"Qy\">Qy:</strong> <a class=\"ProveItLink\" href=\"../__pv_it/common/5941bdda6544fc36bf4c4fbcb7f152f93ac5c5ab0/common_expr.ipynb\"><img src=\"data:image/png;base64,iVBORw0KGgoAAAANSUhEUgAAACwAAAAVBAMAAADP3xFXAAAAMFBMVEX///8AAAAAAAAAAAAAAAAA\n",
       "AAAAAAAAAAAAAAAAAAAAAAAAAAAAAAAAAAAAAAAAAAAv3aB7AAAAD3RSTlMAIomZq2bNMhC7791E\n",
       "VHYkqjbgAAAACXBIWXMAAA7EAAAOxAGVKw4bAAABPElEQVQY01WRMUsDQRCFv+QS7y6eIY2FjQYV\n",
       "GwtFSKNFjqC1AUGxu8bKwhT2Z2WRQqL4Aww2VpJOUNGrra7RIjaBYCMIWoiSRmf2TDBbzLx5y5s3\n",
       "Owv/TmooDc5bkryOuZyZXjPlWPHv+kXDXI1MoOCwrxo5kKIh4FyrUp/OLsKugnUNZwOTC6wvzQs1\n",
       "aR0M6B2mtAflCCxxPCrh+DBLOVZ6ryBGVSi2yb7DJvfiitOTMBpjxytkRN6mZ6w/JeQiHC7JyWNC\n",
       "bpSuBwmN900o7g8ymhezXEiaYAW8CnwmjLfG002VuKJ2fU4FbpNvdtKraktaJrN8T22WYP9kPkL6\n",
       "YbdkpEr3Q+CtUUd57c2V0Yh7qmVo/8k8eUO2SV2Nq1paP2YvuAXuqAiYMKV9bRaA0+CxK8NzPPxp\n",
       "k0kSp1+adkRggPyzgAAAAABJRU5ErkJggg==\n",
       "\" style=\"display:inline;vertical-align:middle;\" /></a><br>"
      ],
      "text/plain": [
       "<IPython.core.display.HTML object>"
      ]
     },
     "metadata": {},
     "output_type": "display_data"
    }
   ],
   "source": [
    "Qy = Function(Q, y)"
   ]
  },
  {
   "cell_type": "code",
   "execution_count": 75,
   "metadata": {},
   "outputs": [
    {
     "data": {
      "text/html": [
       "<strong id=\"Qz\">Qz:</strong> <a class=\"ProveItLink\" href=\"../__pv_it/common/12e031e181a11cc28796e3734ec9b9c408f199aa0/common_expr.ipynb\"><img src=\"data:image/png;base64,iVBORw0KGgoAAAANSUhEUgAAACwAAAAVBAMAAADP3xFXAAAAMFBMVEX///8AAAAAAAAAAAAAAAAA\n",
       "AAAAAAAAAAAAAAAAAAAAAAAAAAAAAAAAAAAAAAAAAAAv3aB7AAAAD3RSTlMAIomZq2bNMhC7791E\n",
       "VHYkqjbgAAAACXBIWXMAAA7EAAAOxAGVKw4bAAABJ0lEQVQY02NgQAKMKBQcvIVQPA/AkspKrmAu\n",
       "rwJU+imIUCtgYEkAMdpgutgagJwJQMZiEM8UJsxqwMCQDWL4g4gFcEtWMDB/B9H6BUCjE+DCqQzy\n",
       "IDMY7A8wMDCDbKzezhjAwKDCYH8BJJwvALQIyOfI01QBcsMY9gNtZeD4BSS4gQoYGxg0gMxbDL/A\n",
       "Vn8FElwHQMwmkLJ6ht0gdlcCTJgR7MNTQKfxXGCwEoAawnCUgQNI3maovxAuyrQQpIQTqJD3AgML\n",
       "kBnJwLfwAZMLyDwGJgcGhkrNR9uBTCMGhpJJ2gcYgL5hYN/AwKDAuwxkwx6w7gN8ILMZtsPDfQNY\n",
       "2OEamBcME2YOAJP/weHCwCkAFZYEk+y7wAHAwDEBKjwRNdLkIBTQJgBFeTuVS7XTWgAAAABJRU5E\n",
       "rkJggg==\n",
       "\" style=\"display:inline;vertical-align:middle;\" /></a><br>"
      ],
      "text/plain": [
       "<IPython.core.display.HTML object>"
      ]
     },
     "metadata": {},
     "output_type": "display_data"
    }
   ],
   "source": [
    "Qz = Function(Q, z)"
   ]
  },
  {
   "cell_type": "code",
   "execution_count": 76,
   "metadata": {},
   "outputs": [
    {
     "data": {
      "text/html": [
       "<strong id=\"Rx\">Rx:</strong> <a class=\"ProveItLink\" href=\"../__pv_it/common/2a336e2cf123a511b5db96282fa835d6efb007c90/common_expr.ipynb\"><img src=\"data:image/png;base64,iVBORw0KGgoAAAANSUhEUgAAAC0AAAAVBAMAAAAgHXppAAAAMFBMVEX///8AAAAAAAAAAAAAAAAA\n",
       "AAAAAAAAAAAAAAAAAAAAAAAAAAAAAAAAAAAAAAAAAAAv3aB7AAAAD3RSTlMAdrurVCIyzd1EiZkQ\n",
       "72ZdbUU/AAAACXBIWXMAAA7EAAAOxAGVKw4bAAABIklEQVQY011RLU8DQRQc2t4d19uW5cugjg9T\n",
       "12AhpB5BcTWEagzgIWlCgi4JHkRVDaBANXUISDj+QQWoivKRVhFg3mbZ9HjizcvkvZm5PWCsPItV\n",
       "pGvO4pnpMz/LSysy5C4tP9Ez8AHslon37vBImv8OZIYcOo7vm6sREAifOL7QZQvegP2Y8geOD8Rg\n",
       "KoZ3Qoxoq6bX91pAXuwuFhfW6nYpwqy+A4pyelVVq6I3WQFeMehuUFKsjiklyQtNoI5bE5GW+ASe\n",
       "ypYHnqWF3A+/ga1rq4NwiEfqNGj1RQvt89s0VCmbgJpFxt4hP9DnJlxu9JCEFRM53273EB0yo9+A\n",
       "utGbLyLZHH/mUzfVUs/fd1MnxWf+/pMXp3gV/1+wtW1xHvgFKvY/GGxcyYMAAAAASUVORK5CYII=\n",
       "\" style=\"display:inline;vertical-align:middle;\" /></a><br>"
      ],
      "text/plain": [
       "<IPython.core.display.HTML object>"
      ]
     },
     "metadata": {},
     "output_type": "display_data"
    }
   ],
   "source": [
    "Rx = Function(R, x)"
   ]
  },
  {
   "cell_type": "code",
   "execution_count": 77,
   "metadata": {},
   "outputs": [
    {
     "data": {
      "text/html": [
       "<strong id=\"Ry\">Ry:</strong> <a class=\"ProveItLink\" href=\"../__pv_it/common/85097678e92ec4038a2f5595a83450528519e5fc0/common_expr.ipynb\"><img src=\"data:image/png;base64,iVBORw0KGgoAAAANSUhEUgAAAC0AAAAVBAMAAAAgHXppAAAAMFBMVEX///8AAAAAAAAAAAAAAAAA\n",
       "AAAAAAAAAAAAAAAAAAAAAAAAAAAAAAAAAAAAAAAAAAAv3aB7AAAAD3RSTlMAdrurVCIyzd1EiZkQ\n",
       "72ZdbUU/AAAACXBIWXMAAA7EAAAOxAGVKw4bAAABMklEQVQY012RO0vDUBiG38bcmlsPgosuqdW9\n",
       "dHVxE7rY0UV0cHCz7ioF/QEK7qk4CF0sOEgdNNgfoIKLW5wd6gWdRH3PaRMaD3yXPCff9QDjp5Ez\n",
       "2SksDu2R0pO/ldk55dXT+0SZd2CtSus108Adqcw3QPuk4yYpf1FRX4AluZ8V8mMq6xXYCuksZdyS\n",
       "kaUQxr78umKJmQR9wJHlovL0wrrkewT6PQZAIDs4b3g1mQ8HwIbbQg3gLbDLVG3Jn4DYF3hgiyyJ\n",
       "D+CuOuKIYpPtFfl/8QdY7o7y4BIFMr3Fab5ZQphkZUoFGmMDtr1KPhDHZKeUC0Ts3W3D6XQSuNty\n",
       "kE1K/+SGW7YPx9dsqynOKCu59QddOE3vkd51/l3mYYsJjmKEeX4L/blHq/17SEMM7RTwB9/TQ0S7\n",
       "mmsrAAAAAElFTkSuQmCC\n",
       "\" style=\"display:inline;vertical-align:middle;\" /></a><br>"
      ],
      "text/plain": [
       "<IPython.core.display.HTML object>"
      ]
     },
     "metadata": {},
     "output_type": "display_data"
    }
   ],
   "source": [
    "Ry = Function(R, y)"
   ]
  },
  {
   "cell_type": "code",
   "execution_count": 78,
   "metadata": {},
   "outputs": [
    {
     "data": {
      "text/html": [
       "<strong id=\"Rz\">Rz:</strong> <a class=\"ProveItLink\" href=\"../__pv_it/common/4c988f9d4850adaa938ef75e237d34ee75b692670/common_expr.ipynb\"><img src=\"data:image/png;base64,iVBORw0KGgoAAAANSUhEUgAAACwAAAAVBAMAAADP3xFXAAAAMFBMVEX///8AAAAAAAAAAAAAAAAA\n",
       "AAAAAAAAAAAAAAAAAAAAAAAAAAAAAAAAAAAAAAAAAAAv3aB7AAAAD3RSTlMAdrurVCIyzd1EiZkQ\n",
       "72ZdbUU/AAAACXBIWXMAAA7EAAAOxAGVKw4bAAABGUlEQVQY02NgQAKsKBQciEAoTgEQKfRfWUkF\n",
       "xGBZAJWWA5OfGBjiDYD0cZgu9gNAgu0jAwPTVyBjH0yYbwOQYPwGlAcJX4Bbcgek5QMDQ74C0OgC\n",
       "uHAdEPMrMLA2A2lukI0ZbawPGBgWA1nzFaWsE0C6gHyewkUgoedAvD6AxwhkNYcD0CcHGNYAmb5A\n",
       "XAs0B6SfdwLI2FMgFflA/JmB4bwBTJgV7MO5QK/+Y2Dw3wA1hGEeAw+Q9AA64A/QeAE2oJeAClkc\n",
       "GJiBwo8YGGKBwu8FpjAwcAFNSlok1QYU3sXAtWrVAwbuQqDj2BoYGBawXAfZ0Ikcrm3wcG9AFn4N\n",
       "Y3A/QBZmCoAyglAih0cBylBFjbRACMUYwAAAPNU53jHKDQMAAAAASUVORK5CYII=\n",
       "\" style=\"display:inline;vertical-align:middle;\" /></a><br>"
      ],
      "text/plain": [
       "<IPython.core.display.HTML object>"
      ]
     },
     "metadata": {},
     "output_type": "display_data"
    }
   ],
   "source": [
    "Rz = Function(R, z)"
   ]
  },
  {
   "cell_type": "code",
   "execution_count": 79,
   "metadata": {},
   "outputs": [
    {
     "data": {
      "text/html": [
       "<strong id=\"fa\">fa:</strong> <a class=\"ProveItLink\" href=\"../__pv_it/common/87a201cf64512173f031b6f78a7cd5ef415a99ec0/common_expr.ipynb\"><img src=\"data:image/png;base64,iVBORw0KGgoAAAANSUhEUgAAACgAAAAVBAMAAADGNLEtAAAAMFBMVEX///8AAAAAAAAAAAAAAAAA\n",
       "AAAAAAAAAAAAAAAAAAAAAAAAAAAAAAAAAAAAAAAAAAAv3aB7AAAAD3RSTlMAmYkQqzLvVES73WZ2\n",
       "Is1wFLxSAAAACXBIWXMAAA7EAAAOxAGVKw4bAAABA0lEQVQY02NggANeFAoKjkMojgNgilHJAEiy\n",
       "K0AlT4NJlbACIGkH08EHUsKQ3gmipGGC3AIgQz6D2Qlww5OBmGkBiMX+AC74GqjabQlIPSPInis6\n",
       "d0B2ADE/2A18G4AG5TLMBxq/D8i9HwAS5AK6wGwDgxSQWQbE9WCD2BoYGOQZGBYBmfFArAUXzGRg\n",
       "/gFktgHxFAaoduY/DNwfgMwqIM4BC3IeYGD+zsDyoJaBYScwVH6ABZkcGBjmMFQJAJ0nBHT1B7Ag\n",
       "K9ALJodifYBOWQF0tQPEH0vh4bqAoYSvAMLeCBNk3MCwEhZknBegjJsMDHtkoWzmCVDGXOTouAOh\n",
       "eC4wAAC3OjE+2272cgAAAABJRU5ErkJggg==\n",
       "\" style=\"display:inline;vertical-align:middle;\" /></a><br>"
      ],
      "text/plain": [
       "<IPython.core.display.HTML object>"
      ]
     },
     "metadata": {},
     "output_type": "display_data"
    }
   ],
   "source": [
    "fa = Function(f, a)"
   ]
  },
  {
   "cell_type": "code",
   "execution_count": 80,
   "metadata": {},
   "outputs": [
    {
     "data": {
      "text/html": [
       "<strong id=\"fb\">fb:</strong> <a class=\"ProveItLink\" href=\"../__pv_it/common/f7c42e5722975eba184a89eadc6ac91c8e9658490/common_expr.ipynb\"><img src=\"data:image/png;base64,iVBORw0KGgoAAAANSUhEUgAAACYAAAAVBAMAAADY/YGeAAAAMFBMVEX///8AAAAAAAAAAAAAAAAA\n",
       "AAAAAAAAAAAAAAAAAAAAAAAAAAAAAAAAAAAAAAAAAAAv3aB7AAAAD3RSTlMAmYkQqzLvVES73WZ2\n",
       "Is1wFLxSAAAACXBIWXMAAA7EAAAOxAGVKw4bAAABBUlEQVQY02NggANeJBIGjoNJjgNgilHJAEiy\n",
       "KzBYZgHp02AxlbACIGkHxA+BmA+kgCG9E0RJA/F3IOYWAJnwGaw6AcZKBmKmBSAW+wMY6zVQrdsS\n",
       "kGpGBaBRPkeAJqsAefxg2/k2MDDYP2b+y8CwD8i7HwAS4wKqqDdgyGFgKAPy6sFWsDUwMMgxMHxi\n",
       "YIgH8rTgYosYOICuaQPypjDA9H5nYAS6pgrIywGLcQJt+spgBrRpJzAgfoDFmBwYGLwZJgJZQkDH\n",
       "fgCLsQLda6IIVMawAuhYB0hQLYUF4wKGEr4CCHsjVIxxA8NKOyib8wKEvsnAsEcWKsY8AULPRQ77\n",
       "O2CS5wIDADq2NLoLgl7kAAAAAElFTkSuQmCC\n",
       "\" style=\"display:inline;vertical-align:middle;\" /></a><br>"
      ],
      "text/plain": [
       "<IPython.core.display.HTML object>"
      ]
     },
     "metadata": {},
     "output_type": "display_data"
    }
   ],
   "source": [
    "fb = Function(f, b)"
   ]
  },
  {
   "cell_type": "code",
   "execution_count": 81,
   "metadata": {},
   "outputs": [
    {
     "data": {
      "text/html": [
       "<strong id=\"fab\">fab:</strong> <a class=\"ProveItLink\" href=\"../__pv_it/common/e1663c210c4dd72ccee533a2a3ae087f9cc778300/common_expr.ipynb\"><img src=\"data:image/png;base64,iVBORw0KGgoAAAANSUhEUgAAADoAAAAVBAMAAADlb+D4AAAAMFBMVEX///8AAAAAAAAAAAAAAAAA\n",
       "AAAAAAAAAAAAAAAAAAAAAAAAAAAAAAAAAAAAAAAAAAAv3aB7AAAAD3RSTlMAmYkQqzLvVES73WZ2\n",
       "Is1wFLxSAAAACXBIWXMAAA7EAAAOxAGVKw4bAAABVUlEQVQoz2NggANeBlSAyj+OJstxAEwxKhkA\n",
       "SXYFJBnLLCBxGsxUCSsAknYoGh8CMR9IE0N6J4iSRpH9DsTcAiDzP4P5CSh2gsWSgZhpAYjF/gBZ\n",
       "FiL2GqjfbQnIBEaQo67o3IHI8vkcAbpFBcjiB7ucbwPQvFyG+WCXMNg/Zv7LwLAPyLofAOJzAdWa\n",
       "bWCQguitN2DIYWAoA7HAfLYGBgZ5BoZFEFk5BoZPDAzxQJYWXDaTgfkHRHYRAwfQT21A1hQGqMnM\n",
       "fxi4P8C8ywj0UxWQlQPmcx5gYP7OwPKglgHkrq8gNzDsBEYFxDAmBwaGOQxVAgLM/4A8b4aJQFII\n",
       "GAwQw1iB/jc5FOsTwLAKqNlEEaiVYQUwGBwgVi2FhRO7ASyCFzCU8BVA2BvhoQhjMG5gWAmLOc4L\n",
       "UIYNTPYmA8MeWSibeQKUcQAmOxc5Xu6gpRyeCwwAhC1FufHyxp4AAAAASUVORK5CYII=\n",
       "\" style=\"display:inline;vertical-align:middle;\" /></a><br>"
      ],
      "text/plain": [
       "<IPython.core.display.HTML object>"
      ]
     },
     "metadata": {},
     "output_type": "display_data"
    }
   ],
   "source": [
    "fab = Function(f, (a, b))"
   ]
  },
  {
   "cell_type": "code",
   "execution_count": 82,
   "metadata": {},
   "outputs": [
    {
     "data": {
      "text/html": [
       "<strong id=\"fi\">fi:</strong> <a class=\"ProveItLink\" href=\"../__pv_it/common/68d279ba17eb875d9f466a293b0b7fcc3ad8621e0/common_expr.ipynb\"><img src=\"data:image/png;base64,iVBORw0KGgoAAAANSUhEUgAAACQAAAAVBAMAAADcCFGjAAAAMFBMVEX///8AAAAAAAAAAAAAAAAA\n",
       "AAAAAAAAAAAAAAAAAAAAAAAAAAAAAAAAAAAAAAAAAAAv3aB7AAAAD3RSTlMAmYkQqzLvVES73WZ2\n",
       "Is1wFLxSAAAACXBIWXMAAA7EAAAOxAGVKw4bAAAA9ElEQVQY02NggANeOAEHx0EExwEwm1HJAEiy\n",
       "KzAw8AgwnAYLqYQVAEk7IOZSYOADSTOkd4IoaYh2bgGQ9s9gdgLUyGQgZloAYrE/gAq9Bqp0WwJS\n",
       "ywg03QakWQWI+cH28m1gYFBoAzL2AfH9AJAQVwEDa4EckFEGxPVgI9gaGJgZcoCMeCDWggkxsIPs\n",
       "BmmewgDVyMDnAHRgFZCTAxbiBFpi3wC0difQ7z/AQkwOQGN4gdYKAQ34ABZiBTqYZTeQsQLoRgeI\n",
       "q5dCQ20BQwlfAYS9EUIxbmBYaQf1G+cFMHWTgWGPLFSIeQKYmosc0HdABM8FBgA8Qin27XpzDAAA\n",
       "AABJRU5ErkJggg==\n",
       "\" style=\"display:inline;vertical-align:middle;\" /></a><br>"
      ],
      "text/plain": [
       "<IPython.core.display.HTML object>"
      ]
     },
     "metadata": {},
     "output_type": "display_data"
    }
   ],
   "source": [
    "fi = Function(f, i)"
   ]
  },
  {
   "cell_type": "code",
   "execution_count": 83,
   "metadata": {},
   "outputs": [
    {
     "data": {
      "text/html": [
       "<strong id=\"fj\">fj:</strong> <a class=\"ProveItLink\" href=\"../__pv_it/common/a5fa35f0c18d1407c62034497b51177599a4126c0/common_expr.ipynb\"><img src=\"data:image/png;base64,iVBORw0KGgoAAAANSUhEUgAAACYAAAAVBAMAAADY/YGeAAAAMFBMVEX///8AAAAAAAAAAAAAAAAA\n",
       "AAAAAAAAAAAAAAAAAAAAAAAAAAAAAAAAAAAAAAAAAAAv3aB7AAAAD3RSTlMAmYkQqzLvVES73WZ2\n",
       "Is1wFLxSAAAACXBIWXMAAA7EAAAOxAGVKw4bAAABAUlEQVQY02NggANeJBIGjoNJjgNgilHJAEiy\n",
       "KwAJ1skMp8FiKmEFQNIOxOR5wMAHUsCQ3gmipKFGcAuATPgMZifAzE0GYqYFIBb7A5jYa6BatyUg\n",
       "1YwgK2yOgIwHYn6w7XwbgIQAG5DcB2TcDwCJcQHt5rnADyTLgLx6sClsDQwMzAz1QBfEA3lacDEG\n",
       "BikgbgPiKQwwvQwMi4C4CohzwGKcIJt4fwCJnVAa6EoHkB8+AAkhoGM/gMVYQS5nmQAkVgAd6wBx\n",
       "/lKQRUADeBcwlPAVQMQ2MrAU7Ac6hXEDw0o7qDc5L8QXLAfSNxkY9shCxZgnMB4EuXEuctjfAZM8\n",
       "FxgAn/sxBzYsKKMAAAAASUVORK5CYII=\n",
       "\" style=\"display:inline;vertical-align:middle;\" /></a><br>"
      ],
      "text/plain": [
       "<IPython.core.display.HTML object>"
      ]
     },
     "metadata": {},
     "output_type": "display_data"
    }
   ],
   "source": [
    "fj = Function(f, j)"
   ]
  },
  {
   "cell_type": "code",
   "execution_count": 84,
   "metadata": {},
   "outputs": [
    {
     "data": {
      "text/html": [
       "<strong id=\"fij\">fij:</strong> <a class=\"ProveItLink\" href=\"../__pv_it/common/76c757e2c33cbcd922d44f9ca4cbccdc8c73f8030/common_expr.ipynb\"><img src=\"data:image/png;base64,iVBORw0KGgoAAAANSUhEUgAAADcAAAAVBAMAAAAQkWtIAAAAMFBMVEX///8AAAAAAAAAAAAAAAAA\n",
       "AAAAAAAAAAAAAAAAAAAAAAAAAAAAAAAAAAAAAAAAAAAv3aB7AAAAD3RSTlMAmYkQqzLvVES73WZ2\n",
       "Is1wFLxSAAAACXBIWXMAAA7EAAAOxAGVKw4bAAABO0lEQVQoz11RPUsDQRB95+VuTe4jqRXlECur\n",
       "/IAjXmVtZWs6G4st7HOVIFgc6A8QUUSrWCuoIFgFUotgIH/gII2VOLM7p94N7Owsb9+bN7vAb0So\n",
       "xbR2equDp3ZzNvqUVQKEPUG8M4RjU23uacoDWp1EwHAGzE11cMLMVTTintPywtTDJugzZemCSzVr\n",
       "gjE1DXau2IZD7dJKOn1lUkap+1zdS44F7PnMYq3PXT53NDy9Ll6nXfKv2MXIts/h4tCCLkZkxiup\n",
       "3KpAqEVlZoWnYOY5RBZx1hfwkv3zFFarTba28wQGjr4oBYUU1vh+NHa/+RCUMpwq7VOTSOsBuGNq\n",
       "q+BG5MLJbJtruykGfR79HTiK9b93Jnni6Sf5iduBGGzbr0+ptb5hUyT9uCagW5iNBJ2X/O+yxEf9\n",
       "UybAD4f/PFMRm8itAAAAAElFTkSuQmCC\n",
       "\" style=\"display:inline;vertical-align:middle;\" /></a><br>"
      ],
      "text/plain": [
       "<IPython.core.display.HTML object>"
      ]
     },
     "metadata": {},
     "output_type": "display_data"
    }
   ],
   "source": [
    "fij = Function(f, (i,j))"
   ]
  },
  {
   "cell_type": "code",
   "execution_count": 85,
   "metadata": {},
   "outputs": [
    {
     "data": {
      "text/html": [
       "<strong id=\"fx\">fx:</strong> <a class=\"ProveItLink\" href=\"../__pv_it/common/6774f61458aed4cc9eb250f92b3634f1d09b19a40/common_expr.ipynb\"><img src=\"data:image/png;base64,iVBORw0KGgoAAAANSUhEUgAAACkAAAAVBAMAAAAp9toTAAAAMFBMVEX///8AAAAAAAAAAAAAAAAA\n",
       "AAAAAAAAAAAAAAAAAAAAAAAAAAAAAAAAAAAAAAAAAAAv3aB7AAAAD3RSTlMAmYkQqzLvVES73WZ2\n",
       "Is1wFLxSAAAACXBIWXMAAA7EAAAOxAGVKw4bAAAA/0lEQVQY02NggANeKH2BARkch9I9EIpRyQBI\n",
       "sitARXk2gCmVsAIgaQfX9BhMpneC1ErDRTeCCI7PYHYCXJQNpIhpAYjJ/gAuygc0mNttiQDISqBl\n",
       "zGecg9SByhyAfP4DMAWMDEcOSAHVgbTdDwCJcgHdsZdhv4E30DCQFfUQKxoYGAIY5EBM1g9AQgsu\n",
       "ysCQA3YUSO0UBpgJDBx/GYyBJiyAyTNwHmBgnsGSwAB0CvcEYFD9AIsCncP+1TCBowDiSPYPYFHW\n",
       "BQzMMgcKt4MMA1rB6ADx0VK4324xMJTwFSCFCRgAw2klLAQ5YXHAC7RsjyyUwzwBXRoM7kDpswwM\n",
       "AGRaMXIQBtPcAAAAAElFTkSuQmCC\n",
       "\" style=\"display:inline;vertical-align:middle;\" /></a><br>"
      ],
      "text/plain": [
       "<IPython.core.display.HTML object>"
      ]
     },
     "metadata": {},
     "output_type": "display_data"
    }
   ],
   "source": [
    "fx = Function(f, x)"
   ]
  },
  {
   "cell_type": "code",
   "execution_count": 86,
   "metadata": {},
   "outputs": [
    {
     "data": {
      "text/html": [
       "<strong id=\"fy\">fy:</strong> <a class=\"ProveItLink\" href=\"../__pv_it/common/06ea2446fcc086288e80a0ce3d5eebc763658e570/common_expr.ipynb\"><img src=\"data:image/png;base64,iVBORw0KGgoAAAANSUhEUgAAACgAAAAVBAMAAADGNLEtAAAAMFBMVEX///8AAAAAAAAAAAAAAAAA\n",
       "AAAAAAAAAAAAAAAAAAAAAAAAAAAAAAAAAAAAAAAAAAAv3aB7AAAAD3RSTlMAmYkQqzLvVES73WZ2\n",
       "Is1wFLxSAAAACXBIWXMAAA7EAAAOxAGVKw4bAAABEUlEQVQY02NggANeFAoKjkMojgNgilHJAEiy\n",
       "K0AlT4NJlbACIGkH08EHUsKQ3gmipGGC3AIgQz6D2Qlww5OBmGkBiMX+AC74GqjabQlIPSPQHhtp\n",
       "BmYHoB1ALj/YDXwbGBgUyhi4PzAw7ANy7weABLkKGFgLpBhYJjAwlAG59WCD2BoYmBlyGNiA2uKB\n",
       "XC2YIMgd8UBtbUDuFAaodgbGBwzHgMwqIM4BC3IC9XE6gFXsBIbKD7AgE9AtjA4cv4FMIaCrP4AF\n",
       "WYFeYHY6+BfIXAGShvhjKVg90F+8CxhK+AogghsZGPQYzEDWbWBYCQsyzgsMaxicgIybDAx7ZKGC\n",
       "zBMYqg8CHcswFzk67kAongsMADCPM9e2aZHgAAAAAElFTkSuQmCC\n",
       "\" style=\"display:inline;vertical-align:middle;\" /></a><br>"
      ],
      "text/plain": [
       "<IPython.core.display.HTML object>"
      ]
     },
     "metadata": {},
     "output_type": "display_data"
    }
   ],
   "source": [
    "fy = Function(f, y)"
   ]
  },
  {
   "cell_type": "code",
   "execution_count": 87,
   "metadata": {},
   "outputs": [
    {
     "data": {
      "text/html": [
       "<strong id=\"fz\">fz:</strong> <a class=\"ProveItLink\" href=\"../__pv_it/common/dbd9581b8ae6825001ed197d82004e902bad28e70/common_expr.ipynb\"><img src=\"data:image/png;base64,iVBORw0KGgoAAAANSUhEUgAAACgAAAAVBAMAAADGNLEtAAAAMFBMVEX///8AAAAAAAAAAAAAAAAA\n",
       "AAAAAAAAAAAAAAAAAAAAAAAAAAAAAAAAAAAAAAAAAAAv3aB7AAAAD3RSTlMAmYkQqzLvVES73WZ2\n",
       "Is1wFLxSAAAACXBIWXMAAA7EAAAOxAGVKw4bAAAA9klEQVQY02NggANeFAoKjkMojgNgilHJAEiy\n",
       "K0AlT4NJlbACIGkH08EHUsKQ3gmipGGC3AIgQz6D2Qlww5OBmGkBiMX+AC74GqjabQlIPSPInqil\n",
       "vBuAdgBZ/GA38AF5zG80QQL7gPh+AEiQC+gCXgMGZSCzDIjrwQaxNYBII5A74oFYCyHICzapDYin\n",
       "MMC0M3QzMAPJKiDOAQtyAhWxFzCwAJk7gVp+gAWZHBgYIjUPLQUyhYDSH8CCrEAvKLDngUxeAXS1\n",
       "A8QfS+HhuoChhK8Awt4IE2TcwLASFmScF6CMmwwMe2ShbOYJUMZc5Oi4A6F4LjAAABqqLA3Jp898\n",
       "AAAAAElFTkSuQmCC\n",
       "\" style=\"display:inline;vertical-align:middle;\" /></a><br>"
      ],
      "text/plain": [
       "<IPython.core.display.HTML object>"
      ]
     },
     "metadata": {},
     "output_type": "display_data"
    }
   ],
   "source": [
    "fz = Function(f, z)"
   ]
  },
  {
   "cell_type": "code",
   "execution_count": 88,
   "metadata": {},
   "outputs": [
    {
     "data": {
      "text/html": [
       "<strong id=\"fxy\">fxy:</strong> <a class=\"ProveItLink\" href=\"../__pv_it/common/ad3dcd95e6e424f73ff4024ae6a59974d431b2150/common_expr.ipynb\"><img src=\"data:image/png;base64,iVBORw0KGgoAAAANSUhEUgAAAD0AAAAVBAMAAAAHs/uBAAAAMFBMVEX///8AAAAAAAAAAAAAAAAA\n",
       "AAAAAAAAAAAAAAAAAAAAAAAAAAAAAAAAAAAAAAAAAAAv3aB7AAAAD3RSTlMAmYkQqzLvVES73WZ2\n",
       "Is1wFLxSAAAACXBIWXMAAA7EAAAOxAGVKw4bAAABXUlEQVQoz2NggANeBnRwAYV3HEO+B0IxKhkA\n",
       "SXYFDHmeDWBKJawASNoxYILHYDK9E6RfGov8RhDB8RnMTsAizwbSyLQAxGR/gEWeD+gAbrclAiBH\n",
       "Ap3HfMY5SB0swXxwA4MJUKsDkM1/AKaUkeHIASmwPBN7AsN+oF6QofcDQCJcQD/sZdhv4A2WD2dc\n",
       "wOAJtBTkqHqIUxoYGAIY5KAWG7AdYMhhYGD9AGRrweUZQGIQ0G/A+hXoNZD+KQww8xk4/jIYQ+Tl\n",
       "GHiAcuwL4Ho4DzAwz2BJYFBgYGYAa+IEup17AjDafkBc7MDA/tUwgaOAwR7kaBGG/g0QT7N/AMuz\n",
       "LmBgljlQuB1o02Ig10RHHhi7XEBHMTpAbFwKD7ViMKkHxLcYGEr4CpDiAgyAhjI9YE6HxNlKWLxy\n",
       "wlILMzA8uQ6wAFXxAp23RxYmPAGWKkCxtUcCWQsY3MGIvrMMDADglUMbVYLhZQAAAABJRU5ErkJg\n",
       "gg==\n",
       "\" style=\"display:inline;vertical-align:middle;\" /></a><br>"
      ],
      "text/plain": [
       "<IPython.core.display.HTML object>"
      ]
     },
     "metadata": {},
     "output_type": "display_data"
    }
   ],
   "source": [
    "fxy = Function(f, (x, y))"
   ]
  },
  {
   "cell_type": "code",
   "execution_count": 89,
   "metadata": {},
   "outputs": [
    {
     "data": {
      "text/html": [
       "<strong id=\"gj\">gj:</strong> <a class=\"ProveItLink\" href=\"../__pv_it/common/706707d09fc9799396b51ad5e61b2e161c08bf190/common_expr.ipynb\"><img src=\"data:image/png;base64,iVBORw0KGgoAAAANSUhEUgAAACYAAAAVBAMAAADY/YGeAAAAMFBMVEX///8AAAAAAAAAAAAAAAAA\n",
       "AAAAAAAAAAAAAAAAAAAAAAAAAAAAAAAAAAAAAAAAAAAv3aB7AAAAD3RSTlMAVIl2ImbN77sQqzJE\n",
       "md23+iBgAAAACXBIWXMAAA7EAAAOxAGVKw4bAAAA+UlEQVQY02NggAMHMMnCgASYBcAUjwGSmBCI\n",
       "2DGBwRQhxJkAIs0YGNgmwMV4A6AM1gtwMXY4qxLOEoOzUkGGG7sCyUsgM40XAEktBgamBJYKqCwv\n",
       "QymQDGNgkJ/A8BnIegjEJgwfgaQ4A0MVA/cXIKsGiCcw/gSS+xm4PzIwF0DFGHgfAInjDKxfGDgW\n",
       "QPUy8CkACTkG1g8M80HObQaJ+R8AEhEMnF8Y1k+AuICBIZ4B4qpTRvdArH0gYgWIeAMicsFGbQAS\n",
       "xaAAfMCwawL3b6jXF7L+hATG8gnTIKHYwv2RDxSsHiDj7kC8PoPhMpjVghTOLBDlzA4MAPGHNJ1a\n",
       "IOnSAAAAAElFTkSuQmCC\n",
       "\" style=\"display:inline;vertical-align:middle;\" /></a><br>"
      ],
      "text/plain": [
       "<IPython.core.display.HTML object>"
      ]
     },
     "metadata": {},
     "output_type": "display_data"
    }
   ],
   "source": [
    "gj = Function(g, j)"
   ]
  },
  {
   "cell_type": "code",
   "execution_count": 90,
   "metadata": {},
   "outputs": [
    {
     "data": {
      "text/html": [
       "<strong id=\"gx\">gx:</strong> <a class=\"ProveItLink\" href=\"../__pv_it/common/1d2b81c6e4903ee4506b066df3feec8a729a56a80/common_expr.ipynb\"><img src=\"data:image/png;base64,iVBORw0KGgoAAAANSUhEUgAAACgAAAAVBAMAAADGNLEtAAAAMFBMVEX///8AAAAAAAAAAAAAAAAA\n",
       "AAAAAAAAAAAAAAAAAAAAAAAAAAAAAAAAAAAAAAAAAAAv3aB7AAAAD3RSTlMAVIl2ImbN77sQqzJE\n",
       "md23+iBgAAAACXBIWXMAAA7EAAAOxAGVKw4bAAAA/0lEQVQY02NggAMHCMXCgASYBSA0jwGSoBCM\n",
       "YYoQ40yAsdgmwAV5A2As1gtwQXaEpko4SwwhmAqywdgVSF4C4slWs5WAbtBiYGBKYKmASl9gXsz7\n",
       "gIEhjIFBfgLDZ6DAQ6ANDqw/uYD2iTMwVDFwfwEK1jAwcDPwgt21n4H7IwNzAUQQ6ASwb44zsH5h\n",
       "4FgA0c7AcN6BE+hyOQbWDwzzQe5uZmCYcWA5AxOQGcHA+YVhPchfQHfI77zOcBDiulNG90A69zEw\n",
       "zDVmvAoKqjcgfi6I4NsA8xDLA4ZdE7h/owYDMGiWT5gGCdUWmKAHyMg7EPYMmGALUsizQKOB2YEB\n",
       "ADh6NR6+4G6CAAAAAElFTkSuQmCC\n",
       "\" style=\"display:inline;vertical-align:middle;\" /></a><br>"
      ],
      "text/plain": [
       "<IPython.core.display.HTML object>"
      ]
     },
     "metadata": {},
     "output_type": "display_data"
    }
   ],
   "source": [
    "gx = Function(g, x)"
   ]
  },
  {
   "cell_type": "code",
   "execution_count": 91,
   "metadata": {},
   "outputs": [
    {
     "data": {
      "text/html": [
       "<strong id=\"gy\">gy:</strong> <a class=\"ProveItLink\" href=\"../__pv_it/common/514d0ecf28cd917923cd997139a3840e1dea92bb0/common_expr.ipynb\"><img src=\"data:image/png;base64,iVBORw0KGgoAAAANSUhEUgAAACcAAAAVBAMAAAA3P+qgAAAAMFBMVEX///8AAAAAAAAAAAAAAAAA\n",
       "AAAAAAAAAAAAAAAAAAAAAAAAAAAAAAAAAAAAAAAAAAAv3aB7AAAAD3RSTlMAVIl2ImbN77sQqzJE\n",
       "md23+iBgAAAACXBIWXMAAA7EAAAOxAGVKw4bAAABEUlEQVQY02NggAMHFAoCmAUg9GFkQSGYZABC\n",
       "jDMBxspECPLCFcQiBNkRrAlwphicxQbSI2TsCiQvAY21DWCYxcDAtACIE1gqgIKpQBZjAUM8AwMr\n",
       "0Er5CQyfgYIPGRg28j5gWMHAAJRiqGLg/gIUrGFgmMBuwFDMwMD9gYH7IwNzAUSQ4fwE7t8MDDwF\n",
       "DKxfGDgWQLQzXAPLMz5gYP3AMB/khmYg7gLLszYwcH5hWA9yrRYQ32I4D5TnVWBgOGV0D+TkfUA8\n",
       "S/k+MOD4DoD4uSCCbwOIVANiPwaGXWAbgSZdAHqDsxDIusrAsHzCNAOwl1sY+Ay4gMaxNICMvAMJ\n",
       "hxkMjMEgJgdyfLBANDCYMDAAAFYfOPQU+yprAAAAAElFTkSuQmCC\n",
       "\" style=\"display:inline;vertical-align:middle;\" /></a><br>"
      ],
      "text/plain": [
       "<IPython.core.display.HTML object>"
      ]
     },
     "metadata": {},
     "output_type": "display_data"
    }
   ],
   "source": [
    "gy = Function(g, y)"
   ]
  },
  {
   "cell_type": "code",
   "execution_count": 92,
   "metadata": {},
   "outputs": [
    {
     "data": {
      "text/html": [
       "<strong id=\"gz\">gz:</strong> <a class=\"ProveItLink\" href=\"../__pv_it/common/73b388d8b1eda99ceacb52637179323a18d436f40/common_expr.ipynb\"><img src=\"data:image/png;base64,iVBORw0KGgoAAAANSUhEUgAAACcAAAAVBAMAAAA3P+qgAAAAMFBMVEX///8AAAAAAAAAAAAAAAAA\n",
       "AAAAAAAAAAAAAAAAAAAAAAAAAAAAAAAAAAAAAAAAAAAv3aB7AAAAD3RSTlMAVIl2ImbN77sQqzJE\n",
       "md23+iBgAAAACXBIWXMAAA7EAAAOxAGVKw4bAAAA+ElEQVQY02NggAMHFAoCmAUg9GFkQSGYZABC\n",
       "jDMBxspECPLCFcQiBNkRrAlwphicxQbSI2TsCiQvATH3uw1AJtMCIE5gqQAKpALxNKMmoAAr0Er5\n",
       "CQyfgQIPgdiTgQloHmMBA0MVA/cXoEAN2F2aIEM+MHB/ZGAugAk6gwieAgbWLwwcC6DaeQIYQNof\n",
       "MLB+YJgPckMzEAsyMIAsamDg/MKwHuRaLaBhTc16G4B+U2BgOGV0D2TSPqDjGMRzgCy+AyB+Lojg\n",
       "2wDzkR8Dw64J3L9BTNYLMMGrDAzLJ0wzALNboGIsDSAj70A4M6CCHMjxwQLRwGDCwAAAwzQxW3yy\n",
       "Y6QAAAAASUVORK5CYII=\n",
       "\" style=\"display:inline;vertical-align:middle;\" /></a><br>"
      ],
      "text/plain": [
       "<IPython.core.display.HTML object>"
      ]
     },
     "metadata": {},
     "output_type": "display_data"
    }
   ],
   "source": [
    "gz = Function(g, z)"
   ]
  },
  {
   "cell_type": "code",
   "execution_count": 93,
   "metadata": {},
   "outputs": [
    {
     "data": {
      "text/html": [
       "<strong id=\"pi\">pi:</strong> <a class=\"ProveItLink\" href=\"../__pv_it/common/6806788b6ef11447fdb2e9632fde6f44654688cf0/common_expr.ipynb\"><img src=\"data:image/png;base64,iVBORw0KGgoAAAANSUhEUgAAACQAAAAVBAMAAADcCFGjAAAAMFBMVEX///8AAAAAAAAAAAAAAAAA\n",
       "AAAAAAAAAAAAAAAAAAAAAAAAAAAAAAAAAAAAAAAAAAAv3aB7AAAAD3RSTlMAMnarEInNVLtmRO/d\n",
       "mSJ9aoHvAAAACXBIWXMAAA7EAAAOxAGVKw4bAAAA+ElEQVQY02NggAM+OAEH6iCCSwFJhD2AgYHp\n",
       "AoMmkpAbEPMEMLA5IIRuQijOCwihDVB6C8KoBCgjk4FByEQoGKifF2i6E0hzMANDgFkBawMDA9sE\n",
       "IHM1UGgaA2NBMgPnB6BlBUDmNaBQNQMLw3cGpi8MDNwLgMxNQCF5oHu/MHBsAAsxsAOlGICaWQ8w\n",
       "8F8Aa2RgMwDaUwOkLzDMBrI4gJ7zXwC0dgaQbuA7CFTPagA0hg9o7VUGhnoh1QdAIcYDDAzMM4GM\n",
       "UwwM16CuPggNNaDUUajQXAjFO4GB5TtUiOMBmHrBwFD2bQJEiKUBTPUhB/QjEMH0gAEAgOAyTqMe\n",
       "ZKwAAAAASUVORK5CYII=\n",
       "\" style=\"display:inline;vertical-align:middle;\" /></a><br>"
      ],
      "text/plain": [
       "<IPython.core.display.HTML object>"
      ]
     },
     "metadata": {},
     "output_type": "display_data"
    }
   ],
   "source": [
    "pi = Function(p, i)"
   ]
  },
  {
   "cell_type": "code",
   "execution_count": 94,
   "metadata": {},
   "outputs": [
    {
     "data": {
      "text/html": [
       "<strong id=\"pj\">pj:</strong> <a class=\"ProveItLink\" href=\"../__pv_it/common/a5610dd34ff09050d0406358097789ad67d6a48f0/common_expr.ipynb\"><img src=\"data:image/png;base64,iVBORw0KGgoAAAANSUhEUgAAACcAAAAVBAMAAAA3P+qgAAAAMFBMVEX///8AAAAAAAAAAAAAAAAA\n",
       "AAAAAAAAAAAAAAAAAAAAAAAAAAAAAAAAAAAAAAAAAAAv3aB7AAAAD3RSTlMAMnarEInNVLtmRO/d\n",
       "mSJ9aoHvAAAACXBIWXMAAA7EAAAOxAGVKw4bAAABAklEQVQY02NggAM+CPWAARmoQ6hFyGLsAUCC\n",
       "sYWBaQKSoBuIYEpgYEhBErwJY8xFEtwAY3A7IIxMgLHYgIYKmQgFA+V4QfY4KQMJVgMGhgCzAtYG\n",
       "iDzDBW4gyZnAwFiQzMD5gYGBpwBo9wN+IMm+gYGF4TsD0xeg8QsYgOx6oEGMQCVcXxg4NkAEGRju\n",
       "ADEXkMd6gIH/AkQ7A8NRkDsOAG24wDAbqIlDARQmv4AEJ9Ba/wa+g1CHgG0EO65eSBUUWoxATQzM\n",
       "QEUMPEDTr0E9AlLODTLjDdRsSDgwF8x3gIQMy3eoIMcD+YLjIMuARpR9gwYqSwOv7gKwJHLQP4JQ\n",
       "egwMABR1Nyjd5g8uAAAAAElFTkSuQmCC\n",
       "\" style=\"display:inline;vertical-align:middle;\" /></a><br>"
      ],
      "text/plain": [
       "<IPython.core.display.HTML object>"
      ]
     },
     "metadata": {},
     "output_type": "display_data"
    }
   ],
   "source": [
    "pj = Function(p, j)"
   ]
  },
  {
   "cell_type": "code",
   "execution_count": 95,
   "metadata": {},
   "outputs": [
    {
     "data": {
      "text/html": [
       "<strong id=\"pk\">pk:</strong> <a class=\"ProveItLink\" href=\"../__pv_it/common/caa70ab63db91e1f3ee15f620311f7fee0ce54650/common_expr.ipynb\"><img src=\"data:image/png;base64,iVBORw0KGgoAAAANSUhEUgAAACgAAAAVBAMAAADGNLEtAAAAMFBMVEX///8AAAAAAAAAAAAAAAAA\n",
       "AAAAAAAAAAAAAAAAAAAAAAAAAAAAAAAAAAAAAAAAAAAv3aB7AAAAD3RSTlMAMnarEInNVLtmRO/d\n",
       "mSJ9aoHvAAAACXBIWXMAAA7EAAAOxAGVKw4bAAABFklEQVQY02NggAM+FAoK1CEUlwKSGHsAA0v3\n",
       "ASBDE0nQDYjZLoAIB4TgTSDmLwASnBcQghuAeD1Y0RaEkQlAIhrMzGRgEDIRCgYq4A0AcpMZSq8w\n",
       "MAQzMASYFbA2AI2fwMDA8pO9bicDwzQGxoJkBs4PDAw8QDvY/y1nzGNgqGZgYfjOwPSFgYF7AdCI\n",
       "nQIgM+WBPvjCwLEBIsiTexEkuJqBgfUAA/8FiHb/gvUgpTVgX8wG2s4B9PJ8B/8CIDUDKN3AdxAo\n",
       "zWrAwGDG4C8AdNlVBoZ6IdUHQEFGYFi0MzBdAmo6xcBwDeqlg/BwBUofhbLnwgR5JzCwfIeyOR5A\n",
       "GS8YGMq+TYCwWRqggn3I0fEIQjE9YAAALL860A24QaoAAAAASUVORK5CYII=\n",
       "\" style=\"display:inline;vertical-align:middle;\" /></a><br>"
      ],
      "text/plain": [
       "<IPython.core.display.HTML object>"
      ]
     },
     "metadata": {},
     "output_type": "display_data"
    }
   ],
   "source": [
    "pk = Function(p, k)"
   ]
  },
  {
   "cell_type": "code",
   "execution_count": 96,
   "metadata": {},
   "outputs": [
    {
     "data": {
      "text/html": [
       "<strong id=\"va\">va:</strong> <a class=\"ProveItLink\" href=\"../__pv_it/common/0c6443cf8bf0dd80730a8b234949dc23ad10b9500/common_expr.ipynb\"><img src=\"data:image/png;base64,iVBORw0KGgoAAAANSUhEUgAAACcAAAAVBAMAAAA3P+qgAAAAMFBMVEX///8AAAAAAAAAAAAAAAAA\n",
       "AAAAAAAAAAAAAAAAAAAAAAAAAAAAAAAAAAAAAAAAAAAv3aB7AAAAD3RSTlMAEHaJZt1U76symc27\n",
       "IkSKjfYVAAAACXBIWXMAAA7EAAAOxAGVKw4bAAAA9klEQVQY02NggIMLKBQEMCVA6EfIgskwSQeE\n",
       "GOMGGGsjQpALrsALIciOYAnAmdlwFrcDA6OyA0MYkLkYiHmbdRUYGJgbGJjZChgqgAJbgPj5BZ6P\n",
       "DAwsGximcW0AuwaomrGEgSuAgQGoSoBdgWEaULAO6IAPDKwGDAycHxgY8gUYFCCC7AcY5B8wMPAV\n",
       "MDAsZWAwgGiXV2DwB7LYgEacYGADhcEhoGACQzeQzXKAgcGa4RLIdRYMDDwKbFFcQKOBGrlawB6c\n",
       "CrS9yfKGJgMD6wO4P1gnwFhXEX5nWQBjLUEKz7NQmvcAkqAMlOZBjg9eBQity8AAAO6rKwtCO0b7\n",
       "AAAAAElFTkSuQmCC\n",
       "\" style=\"display:inline;vertical-align:middle;\" /></a><br>"
      ],
      "text/plain": [
       "<IPython.core.display.HTML object>"
      ]
     },
     "metadata": {},
     "output_type": "display_data"
    }
   ],
   "source": [
    "va = Function(v, a)"
   ]
  },
  {
   "cell_type": "code",
   "execution_count": 97,
   "metadata": {},
   "outputs": [
    {
     "data": {
      "text/html": [
       "<strong id=\"vb\">vb:</strong> <a class=\"ProveItLink\" href=\"../__pv_it/common/13e8cceaa9c68c27f0dbeabe8976df3c93c218510/common_expr.ipynb\"><img src=\"data:image/png;base64,iVBORw0KGgoAAAANSUhEUgAAACUAAAAVBAMAAAAzyjqdAAAAMFBMVEX///8AAAAAAAAAAAAAAAAA\n",
       "AAAAAAAAAAAAAAAAAAAAAAAAAAAAAAAAAAAAAAAAAAAv3aB7AAAAD3RSTlMAEHaJZt1U76symc27\n",
       "IkSKjfYVAAAACXBIWXMAAA7EAAAOxAGVKw4bAAAA/UlEQVQY002QMUvDQBiGn9gk1bS19wMEg85C\n",
       "FkFwyezUybnQsYMdHJykUHHuYueCdTaCg2Nx0UUoBXfxD1RnF99LQnIHX943z93Hfe9BtVbOt1xb\n",
       "/Vy+XTbAe+tpK62Rl0FrLvNUs0j7Xdt+VrOmamOsMRUbqo6taaV4hynnsveql4NbaIxphCOu9P+s\n",
       "a/7M/go/YxZlGgN7NvylGaMzRjITu9bVGd2EnR+4MMQFCxI2fXZH8ABJ0avxHg2hwrwT2tyvYlPv\n",
       "EvwlnLK2Y53AdtpWuEhd0U2e+k6zTBYywVeVI5iW5rPO689Ls3De76OQztJhe4W03cfvxLkcwT9T\n",
       "rS2vqfpLRwAAAABJRU5ErkJggg==\n",
       "\" style=\"display:inline;vertical-align:middle;\" /></a><br>"
      ],
      "text/plain": [
       "<IPython.core.display.HTML object>"
      ]
     },
     "metadata": {},
     "output_type": "display_data"
    }
   ],
   "source": [
    "vb = Function(v, b)"
   ]
  },
  {
   "cell_type": "code",
   "execution_count": 98,
   "metadata": {},
   "outputs": [
    {
     "data": {
      "text/html": [
       "<strong id=\"vi\">vi:</strong> <a class=\"ProveItLink\" href=\"../__pv_it/common/f63b93109c631afbf6471ab6c2dc0807d57b8b890/common_expr.ipynb\"><img src=\"data:image/png;base64,iVBORw0KGgoAAAANSUhEUgAAACMAAAAVBAMAAAA+1EraAAAAMFBMVEX///8AAAAAAAAAAAAAAAAA\n",
       "AAAAAAAAAAAAAAAAAAAAAAAAAAAAAAAAAAAAAAAAAAAv3aB7AAAAD3RSTlMAEHaJZt1U76symc27\n",
       "IkSKjfYVAAAACXBIWXMAAA7EAAAOxAGVKw4bAAAA3UlEQVQY02NggIMLcAIGmBJA5CNkoWQg1mJg\n",
       "ckCIMG4AEsEMDBsRQlxQaS+EEDuMFoALZUNpbgcGRmUHhjAgczHQOC2gZuYGBma2AoYKoNAWII+v\n",
       "gIGBZQPDNK4NYPuBKkFMBqAKAXYFhmlAoToGMJOB8wMDQ74AgwJECMRkAGleysBgANHIsIMRqDGA\n",
       "geEEAxvIr4eANv5jBhp/gIHBmuESyD0WIGOuAH0B1MLVAvbKVCAGsVgfwF3POgFCX0X4kWUBhF6C\n",
       "FF5nwSTvASQhGTDJgxzSvCAHM+gyMAAAXYUmsHD8Bm8AAAAASUVORK5CYII=\n",
       "\" style=\"display:inline;vertical-align:middle;\" /></a><br>"
      ],
      "text/plain": [
       "<IPython.core.display.HTML object>"
      ]
     },
     "metadata": {},
     "output_type": "display_data"
    }
   ],
   "source": [
    "vi = Function(v, i)"
   ]
  },
  {
   "cell_type": "code",
   "execution_count": 99,
   "metadata": {},
   "outputs": [
    {
     "data": {
      "text/html": [
       "<strong id=\"vk\">vk:</strong> <a class=\"ProveItLink\" href=\"../__pv_it/common/a6c8cdfc20753355349e3546933532a8b12e10850/common_expr.ipynb\"><img src=\"data:image/png;base64,iVBORw0KGgoAAAANSUhEUgAAACgAAAAVBAMAAADGNLEtAAAAMFBMVEX///8AAAAAAAAAAAAAAAAA\n",
       "AAAAAAAAAAAAAAAAAAAAAAAAAAAAAAAAAAAAAAAAAAAv3aB7AAAAD3RSTlMAEHaJZt1U76symc27\n",
       "IkSKjfYVAAAACXBIWXMAAA7EAAAOxAGVKw4bAAAA+0lEQVQY02NggIMLEIqXAQkwJUBoPgUkwWQG\n",
       "BplSEEMFIca4AUjsArG4BeCCXA5A4huIxbIALsgOMu4jmFkIF8wGYuYCMHMLA6OyA0MYkLUYZFoD\n",
       "mxXQQAsGZrYChgqwNAODvEPadaDR3gzTuDaAXANWnX8vYTbQC+kMAuwKDNOAAnVAvNwTbOZ8oLQA\n",
       "gwJUMHrVBJDgcwaGpQwMBhDtjN/4foIEUxkYTjCwgYLiENDVHxm/MQGZPgwM1gyXQNIWDAwcGxh/\n",
       "MkNcx9UC8iDDVAYGngQGLUUgMw7uI9YJMBZvAFwQEQzgoIGCszDGHaRAlsGQBRkFjQamCwwAs9ou\n",
       "3pqIA/4AAAAASUVORK5CYII=\n",
       "\" style=\"display:inline;vertical-align:middle;\" /></a><br>"
      ],
      "text/plain": [
       "<IPython.core.display.HTML object>"
      ]
     },
     "metadata": {},
     "output_type": "display_data"
    }
   ],
   "source": [
    "vk = Function(v, k)"
   ]
  },
  {
   "cell_type": "code",
   "execution_count": 100,
   "metadata": {},
   "outputs": [
    {
     "data": {
      "text/html": [
       "<strong id=\"alpha\">alpha:</strong> <a class=\"ProveItLink\" href=\"../__pv_it/common/9705ebf23debd1198c43ec3d0c30ebe152d069440/common_expr.ipynb\"><img src=\"data:image/png;base64,iVBORw0KGgoAAAANSUhEUgAAAA0AAAAJBAMAAAAbVLtZAAAAMFBMVEX///8AAAAAAAAAAAAAAAAA\n",
       "AAAAAAAAAAAAAAAAAAAAAAAAAAAAAAAAAAAAAAAAAAAv3aB7AAAAD3RSTlMAiasyIt1EEO9UdruZ\n",
       "zWZ7xlX5AAAACXBIWXMAAA7EAAAOxAGVKw4bAAAAS0lEQVQI12NgYBAUMmAAAtcE9haWCQwMXQwM\n",
       "e7gKGHg+MDCcZWRg4NjAwCAhzsBQv4CBQR4ozQ+kJYDKeTYw8J1nBjIE3y3nkWIAAKtXDIZRy46v\n",
       "AAAAAElFTkSuQmCC\n",
       "\" style=\"display:inline;vertical-align:middle;\" /></a><br>"
      ],
      "text/plain": [
       "<IPython.core.display.HTML object>"
      ]
     },
     "metadata": {},
     "output_type": "display_data"
    }
   ],
   "source": [
    "alpha = Variable('alpha', r'\\alpha')"
   ]
  },
  {
   "cell_type": "code",
   "execution_count": 101,
   "metadata": {},
   "outputs": [
    {
     "data": {
      "text/html": [
       "<strong id=\"beta\">beta:</strong> <a class=\"ProveItLink\" href=\"../__pv_it/common/c713a5db2586f854a5051c95110df24af02bd7260/common_expr.ipynb\"><img src=\"data:image/png;base64,iVBORw0KGgoAAAANSUhEUgAAAAwAAAATBAMAAABW2/GaAAAAMFBMVEX///8AAAAAAAAAAAAAAAAA\n",
       "AAAAAAAAAAAAAAAAAAAAAAAAAAAAAAAAAAAAAAAAAAAv3aB7AAAAD3RSTlMAIol2mRAyZqtE3VS7\n",
       "ze8XF9CTAAAACXBIWXMAAA7EAAAOxAGVKw4bAAAAaUlEQVQI12NggAMhE1cgyWbAUAGkghgYZgEp\n",
       "AwYGDzDFvZSBgTPxxN0ABgYmhvJZCSCKgf0AA0MwUPwDA8M0BgbmBwwMCgwMPA0MDBcYGPIEGFjd\n",
       "GThXMjBwZxorM4DVMyCoYAg1DUwCADnTD436Tk6oAAAAAElFTkSuQmCC\n",
       "\" style=\"display:inline;vertical-align:middle;\" /></a><br>"
      ],
      "text/plain": [
       "<IPython.core.display.HTML object>"
      ]
     },
     "metadata": {},
     "output_type": "display_data"
    }
   ],
   "source": [
    "beta = Variable('beta', r'\\beta')"
   ]
  },
  {
   "cell_type": "code",
   "execution_count": 102,
   "metadata": {},
   "outputs": [
    {
     "data": {
      "text/html": [
       "<strong id=\"gamma\">gamma:</strong> <a class=\"ProveItLink\" href=\"../__pv_it/common/d3b5a05ce48f7e4b8f946549743adda31d51d0e80/common_expr.ipynb\"><img src=\"data:image/png;base64,iVBORw0KGgoAAAANSUhEUgAAAAwAAAAOBAMAAADpk+DfAAAALVBMVEX///8AAAAAAAAAAAAAAAAA\n",
       "AAAAAAAAAAAAAAAAAAAAAAAAAAAAAAAAAAAAAADAOrOgAAAADnRSTlMAVN27EERm75mJq3YiMrky\n",
       "WnoAAAAJcEhZcwAADsQAAA7EAZUrDhsAAABDSURBVAjXY2AQeuzAEMLAVjFpAcMGhsMMDLa8Fxi2\n",
       "MDB4czOAAOdBCLUBQk2AUBfAFAeYZOCCUJEQaiqEMoBQBxgYAP16C7Yss+DeAAAAAElFTkSuQmCC\n",
       "\" style=\"display:inline;vertical-align:middle;\" /></a><br>"
      ],
      "text/plain": [
       "<IPython.core.display.HTML object>"
      ]
     },
     "metadata": {},
     "output_type": "display_data"
    }
   ],
   "source": [
    "gamma = Variable('gamma', r'\\gamma')"
   ]
  },
  {
   "cell_type": "code",
   "execution_count": 103,
   "metadata": {},
   "outputs": [
    {
     "data": {
      "text/html": [
       "<strong id=\"delta\">delta:</strong> <a class=\"ProveItLink\" href=\"../__pv_it/common/0743d8a4f4ff93fd50a3189c2a5134398a7bd9d60/common_expr.ipynb\"><img src=\"data:image/png;base64,iVBORw0KGgoAAAANSUhEUgAAAAoAAAAPBAMAAAAv0UM9AAAALVBMVEX///8AAAAAAAAAAAAAAAAA\n",
       "AAAAAAAAAAAAAAAAAAAAAAAAAAAAAAAAAAAAAADAOrOgAAAADnRSTlMAIpnN77uJRKsQdlRmMt/D\n",
       "HBYAAAAJcEhZcwAADsQAAA7EAZUrDhsAAABUSURBVAjXY2BgEDIJZGBgSGDvBJIgzMCwAkzO2wAi\n",
       "WV8CCe7up0DyMEPfBAbGhwz7LjBwBDDcu8DAd4DhHlDdBaAMA98FBmsGBrYF3A1AlVnLGBgAEXgT\n",
       "/si7w8sAAAAASUVORK5CYII=\n",
       "\" style=\"display:inline;vertical-align:middle;\" /></a><br>"
      ],
      "text/plain": [
       "<IPython.core.display.HTML object>"
      ]
     },
     "metadata": {},
     "output_type": "display_data"
    }
   ],
   "source": [
    "delta = Variable('delta', r'\\delta')"
   ]
  },
  {
   "cell_type": "code",
   "execution_count": 104,
   "metadata": {},
   "outputs": [
    {
     "data": {
      "text/html": [
       "<strong id=\"lambda_\">lambda_:</strong> <a class=\"ProveItLink\" href=\"../__pv_it/common/32939ecfac671575754b298a0f24751901f187ae0/common_expr.ipynb\"><img src=\"data:image/png;base64,iVBORw0KGgoAAAANSUhEUgAAAAsAAAAOBAMAAAALT/umAAAAMFBMVEX///8AAAAAAAAAAAAAAAAA\n",
       "AAAAAAAAAAAAAAAAAAAAAAAAAAAAAAAAAAAAAAAAAAAv3aB7AAAAD3RSTlMAEKuJ70RUuyJ23TLN\n",
       "mWb8I+xeAAAACXBIWXMAAA7EAAAOxAGVKw4bAAAAR0lEQVQI12NgEFJgAAHGz2CKQQVCxSeAKZYC\n",
       "MMX8EUxx/IQo/QWmxOdvAIkdlL8ApHZtYHJgYOB2ZWD9BtG8nIGhDiie3wAAHM4OVjOHl4oAAAAA\n",
       "SUVORK5CYII=\n",
       "\" style=\"display:inline;vertical-align:middle;\" /></a><br>"
      ],
      "text/plain": [
       "<IPython.core.display.HTML object>"
      ]
     },
     "metadata": {},
     "output_type": "display_data"
    }
   ],
   "source": [
    "lambda_ = Variable('lambda', r'\\lambda')"
   ]
  },
  {
   "cell_type": "code",
   "execution_count": 105,
   "metadata": {},
   "outputs": [
    {
     "data": {
      "text/html": [
       "<strong id=\"theta\">theta:</strong> <a class=\"ProveItLink\" href=\"../__pv_it/common/b011a4fec64a1c824cf176959ebc716edbf098a10/common_expr.ipynb\"><img src=\"data:image/png;base64,iVBORw0KGgoAAAANSUhEUgAAAAoAAAAOBAMAAADkjZCYAAAAMFBMVEX///8AAAAAAAAAAAAAAAAA\n",
       "AAAAAAAAAAAAAAAAAAAAAAAAAAAAAAAAAAAAAAAAAAAv3aB7AAAAD3RSTlMAdokyu2YQ3URUqyLN\n",
       "75mYuQMGAAAACXBIWXMAAA7EAAAOxAGVKw4bAAAAWklEQVQI12NgYGBUMmBgYHBlK2BgYHJg+MzA\n",
       "YN/A8JOBYTkD21cGto8MHD8YGD8zMP5m4Pm1av0FBn4HhnwBEIpPYMhvYKhjYOBv4LzGwMA1IR1o\n",
       "DNvD1wwMAB2NFJ4TRe8NAAAAAElFTkSuQmCC\n",
       "\" style=\"display:inline;vertical-align:middle;\" /></a><br>"
      ],
      "text/plain": [
       "<IPython.core.display.HTML object>"
      ]
     },
     "metadata": {},
     "output_type": "display_data"
    }
   ],
   "source": [
    "theta = Variable('theta', r'\\theta')"
   ]
  },
  {
   "cell_type": "code",
   "execution_count": 106,
   "metadata": {},
   "outputs": [
    {
     "data": {
      "text/html": [
       "<strong id=\"eps\">eps:</strong> <a class=\"ProveItLink\" href=\"../__pv_it/common/e5d4d625b3ac29c5d40d223bc332325a360907440/common_expr.ipynb\"><img src=\"data:image/png;base64,iVBORw0KGgoAAAANSUhEUgAAAAgAAAAJBAMAAAD9fXAdAAAAJ1BMVEX///8AAAAAAAAAAAAAAAAA\n",
       "AAAAAAAAAAAAAAAAAAAAAAAAAAAAAAAilU6eAAAADHRSTlMAIpmrZu8yVHaJuxCnVZmVAAAACXBI\n",
       "WXMAAA7EAAAOxAGVKw4bAAAAMUlEQVQI12NgYFQ2YWBwTWBgYDvOwMDAfNi4gYHVAMjimQAkuBSA\n",
       "BFs0w24GhqSWbgCFKAbM5hXqAgAAAABJRU5ErkJggg==\n",
       "\" style=\"display:inline;vertical-align:middle;\" /></a><br>"
      ],
      "text/plain": [
       "<IPython.core.display.HTML object>"
      ]
     },
     "metadata": {},
     "output_type": "display_data"
    }
   ],
   "source": [
    "eps = Variable('eps', r'\\epsilon')"
   ]
  },
  {
   "cell_type": "code",
   "execution_count": 107,
   "metadata": {},
   "outputs": [
    {
     "data": {
      "text/html": [
       "<strong id=\"vareps\">vareps:</strong> <a class=\"ProveItLink\" href=\"../__pv_it/common/fbe339d6612b84cf8401e9e899dea574faa30b7a0/common_expr.ipynb\"><img src=\"data:image/png;base64,iVBORw0KGgoAAAANSUhEUgAAAAkAAAAKBAMAAACUK2mNAAAALVBMVEX///8AAAAAAAAAAAAAAAAA\n",
       "AAAAAAAAAAAAAAAAAAAAAAAAAAAAAAAAAAAAAADAOrOgAAAADnRSTlMARLvviSJmmTJUq3YQzV2O\n",
       "xMsAAAAJcEhZcwAADsQAAA7EAZUrDhsAAAA1SURBVAjXY2BgVDYSYGBwCWArYOCYwAAEjA0gkkHJ\n",
       "C0gz7twGZJ4GC6SCyagGnmlA8ctATQDrCgiouTFrvgAAAABJRU5ErkJggg==\n",
       "\" style=\"display:inline;vertical-align:middle;\" /></a><br>"
      ],
      "text/plain": [
       "<IPython.core.display.HTML object>"
      ]
     },
     "metadata": {},
     "output_type": "display_data"
    }
   ],
   "source": [
    "vareps = Variable('vareps', r'\\varepsilon')"
   ]
  },
  {
   "cell_type": "code",
   "execution_count": 108,
   "metadata": {},
   "outputs": [
    {
     "data": {
      "text/html": [
       "<strong id=\"rho\">rho:</strong> <a class=\"ProveItLink\" href=\"../__pv_it/common/9528518515ad3a418953b148d1d0eb3372f91f130/common_expr.ipynb\"><img src=\"data:image/png;base64,iVBORw0KGgoAAAANSUhEUgAAAAsAAAAOBAMAAAALT/umAAAALVBMVEX///8AAAAAAAAAAAAAAAAA\n",
       "AAAAAAAAAAAAAAAAAAAAAAAAAAAAAAAAAAAAAADAOrOgAAAADnRSTlMARJmJqyLvVN0QZjJ2zTGB\n",
       "5rgAAAAJcEhZcwAADsQAAA7EAZUrDhsAAABWSURBVAjXY2BgYFR2ZQACIwYxIMnewDBPgIGBbQHD\n",
       "vgIGBrkJDOcCGBh0GRhuAOWaGLhfMzBwPmGYsQCo8OkZbaAY0wWQXgYOAzA1rwBMAbWBwEQwCQAP\n",
       "qA9jMbFOGgAAAABJRU5ErkJggg==\n",
       "\" style=\"display:inline;vertical-align:middle;\" /></a><br>"
      ],
      "text/plain": [
       "<IPython.core.display.HTML object>"
      ]
     },
     "metadata": {},
     "output_type": "display_data"
    }
   ],
   "source": [
    "rho = Variable('rho', r'\\rho')"
   ]
  },
  {
   "cell_type": "code",
   "execution_count": 109,
   "metadata": {},
   "outputs": [
    {
     "data": {
      "text/html": [
       "<strong id=\"Psi\">Psi:</strong> <a class=\"ProveItLink\" href=\"../__pv_it/common/3b8334337a92ebd373a1de57b1f56b05daa246770/common_expr.ipynb\"><img src=\"data:image/png;base64,iVBORw0KGgoAAAANSUhEUgAAAA4AAAAOBAMAAADtZjDiAAAAMFBMVEX///8AAAAAAAAAAAAAAAAA\n",
       "AAAAAAAAAAAAAAAAAAAAAAAAAAAAAAAAAAAAAAAAAAAv3aB7AAAAD3RSTlMAVKu774ky3SJmzRCZ\n",
       "dkTmpjIrAAAACXBIWXMAAA7EAAAOxAGVKw4bAAAAXUlEQVQI12NgYFR2MRJgAAEXECGawFDOwBHJ\n",
       "wOUApNmrGVi/Aen9Bxg4PwLp/AsMjD+B9PsJDNx/gPT9BAYGEyBdBdS460A5azXIhEtfdMHGAcUh\n",
       "4AuYZNT6D7QHAO9cFy3GfV/RAAAAAElFTkSuQmCC\n",
       "\" style=\"display:inline;vertical-align:middle;\" /></a><br>"
      ],
      "text/plain": [
       "<IPython.core.display.HTML object>"
      ]
     },
     "metadata": {},
     "output_type": "display_data"
    }
   ],
   "source": [
    "Psi = Variable('Psi', r'\\Psi')"
   ]
  },
  {
   "cell_type": "code",
   "execution_count": 110,
   "metadata": {},
   "outputs": [
    {
     "data": {
      "text/html": [
       "<strong id=\"Upsilon\">Upsilon:</strong> <a class=\"ProveItLink\" href=\"../__pv_it/common/07d75db563e32b14d1d7555c005166eb2dd107350/common_expr.ipynb\"><img src=\"data:image/png;base64,iVBORw0KGgoAAAANSUhEUgAAAA4AAAAOBAMAAADtZjDiAAAAMFBMVEX///8AAAAAAAAAAAAAAAAA\n",
       "AAAAAAAAAAAAAAAAAAAAAAAAAAAAAAAAAAAAAAAAAAAv3aB7AAAAD3RSTlMAdu+J3Waru5nNIkQQ\n",
       "MlRR06xmAAAACXBIWXMAAA7EAAAOxAGVKw4bAAAARElEQVQI12NgVDJgYHQyYIhP/8FgP02RoYph\n",
       "/66vDCcZLjBwJBcw8DIwMHB/ecAABv8PQGh9BlTanwANUceX/n9aAAMAkgkQpXmBmRkAAAAASUVO\n",
       "RK5CYII=\n",
       "\" style=\"display:inline;vertical-align:middle;\" /></a><br>"
      ],
      "text/plain": [
       "<IPython.core.display.HTML object>"
      ]
     },
     "metadata": {},
     "output_type": "display_data"
    }
   ],
   "source": [
    "Upsilon = Variable('Upsilon', r'\\Upsilon')"
   ]
  },
  {
   "cell_type": "code",
   "execution_count": 111,
   "metadata": {},
   "outputs": [
    {
     "data": {
      "text/html": [
       "<strong id=\"Omega\">Omega:</strong> <a class=\"ProveItLink\" href=\"../__pv_it/common/53406c163510d898bbe57aa9c808cb4fce1aa1e40/common_expr.ipynb\"><img src=\"data:image/png;base64,iVBORw0KGgoAAAANSUhEUgAAAA8AAAAOBAMAAAACpFvcAAAAMFBMVEX///8AAAAAAAAAAAAAAAAA\n",
       "AAAAAAAAAAAAAAAAAAAAAAAAAAAAAAAAAAAAAAAAAAAv3aB7AAAAD3RSTlMAVJl2q0QizbsQ3e9m\n",
       "iTL5N35BAAAACXBIWXMAAA7EAAAOxAGVKw4bAAAAcklEQVQI12NgYBAyNglgAIL0TgbO8glAxmog\n",
       "Mb+AgYH5E5DD8oeBgQOIGZi/MDCwgxk/GBh4/wIZTJ8ZGNi+AxlcP4HEfaCufAMQ7wADgzmQ5uQD\n",
       "mrGMDaiYwZOBTYEXaNbBewysFw8BRf5/ZOD5/5kBACXTGwIkfCtaAAAAAElFTkSuQmCC\n",
       "\" style=\"display:inline;vertical-align:middle;\" /></a><br>"
      ],
      "text/plain": [
       "<IPython.core.display.HTML object>"
      ]
     },
     "metadata": {},
     "output_type": "display_data"
    }
   ],
   "source": [
    "Omega = Variable('Omega', r'\\Omega')"
   ]
  },
  {
   "cell_type": "code",
   "execution_count": 112,
   "metadata": {},
   "outputs": [
    {
     "data": {
      "text/html": [
       "<strong id=\"a_prime\">a_prime:</strong> <a class=\"ProveItLink\" href=\"../__pv_it/common/09378e094f7d56f9487e24ea8d7d17534569e4930/common_expr.ipynb\"><img src=\"data:image/png;base64,iVBORw0KGgoAAAANSUhEUgAAABAAAAARBAMAAAAmgTH3AAAAMFBMVEX///8AAAAAAAAAAAAAAAAA\n",
       "AAAAAAAAAAAAAAAAAAAAAAAAAAAAAAAAAAAAAAAAAAAv3aB7AAAAD3RSTlMAIquJdkTvuxBmmd1U\n",
       "zTKBpmoTAAAACXBIWXMAAA7EAAAOxAGVKw4bAAAAYElEQVQI12NgAAO+RAjNwPUDymBbAGW8F4Ay\n",
       "jKA0wz4ozVgAE2kA8ZQdHcCcMAF2sCEcmQxcG8BmfmDgNgCbWcDQHwBi9DswzAer7T/AoMsDsoDd\n",
       "gWcXF1iXip2QH5AGAPqOD54+aciXAAAAAElFTkSuQmCC\n",
       "\" style=\"display:inline;vertical-align:middle;\" /></a><br>"
      ],
      "text/plain": [
       "<IPython.core.display.HTML object>"
      ]
     },
     "metadata": {},
     "output_type": "display_data"
    }
   ],
   "source": [
    "a_prime = Variable(\"a'\", fence_when_forced=True)"
   ]
  },
  {
   "cell_type": "code",
   "execution_count": 113,
   "metadata": {},
   "outputs": [
    {
     "name": "stdout",
     "output_type": "stream",
     "text": [
      "Expression notebook is being updated for b'\n"
     ]
    },
    {
     "data": {
      "text/html": [
       "<strong id=\"b_prime\">b_prime:</strong> <a class=\"ProveItLink\" href=\"../__pv_it/common/80ba634d9ed4f452337d92ea8ecc55109370e7240/common_expr.ipynb\"><img src=\"data:image/png;base64,iVBORw0KGgoAAAANSUhEUgAAAA4AAAARBAMAAAAf5oCsAAAAMFBMVEX///8AAAAAAAAAAAAAAAAA\n",
       "AAAAAAAAAAAAAAAAAAAAAAAAAAAAAAAAAAAAAAAAAAAv3aB7AAAAD3RSTlMAELvv3c2ZVESJq3Yi\n",
       "MmZ3LnoBAAAACXBIWXMAAA7EAAAOxAGVKw4bAAAAbUlEQVQI12NgAAFeGzDFwPYRQjMnMDAqOzAw\n",
       "3D/AwMCawMAwCyjGX8DA4Auk+wUYeBSA9BQgFgDiqN3LQVoYvwrIA1UzsH9kYN4AMiqAgX8CkGaZ\n",
       "wNBfANGeD1LOf4HRDqSe6wFTAljfyjwQBQCvnxM1NNi96gAAAABJRU5ErkJggg==\n",
       "\" style=\"display:inline;vertical-align:middle;\" /></a><br>"
      ],
      "text/plain": [
       "<IPython.core.display.HTML object>"
      ]
     },
     "metadata": {},
     "output_type": "display_data"
    }
   ],
   "source": [
    "b_prime = Variable(\"b'\", fence_when_forced=True)"
   ]
  },
  {
   "cell_type": "code",
   "execution_count": 114,
   "metadata": {},
   "outputs": [
    {
     "name": "stdout",
     "output_type": "stream",
     "text": [
      "gj expression notebook is being updated\n"
     ]
    },
    {
     "name": "stdout",
     "output_type": "stream",
     "text": [
      "Omega expression notebook is being updated\n",
      "These common expressions may now be imported from the theory package: proveit\n"
     ]
    }
   ],
   "source": [
    "%end common"
   ]
  },
  {
   "cell_type": "code",
   "execution_count": null,
   "metadata": {},
   "outputs": [],
   "source": []
  }
 ],
 "metadata": {
  "kernelspec": {
   "display_name": "Python 3",
   "language": "python",
   "name": "python3"
  }
 },
 "nbformat": 4,
 "nbformat_minor": 0
}