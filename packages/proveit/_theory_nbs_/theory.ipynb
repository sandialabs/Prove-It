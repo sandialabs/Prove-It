{
 "cells": [
  {
   "cell_type": "markdown",
   "metadata": {},
   "source": [
    "Theory of proveit\n",
    "========\n",
    "\n",
    "This is the top-level theory for general \"textbook\" mathematics."
   ]
  },
  {
   "cell_type": "code",
   "execution_count": 1,
   "metadata": {},
   "outputs": [
    {
     "data": {
      "text/html": [
       "<h3>Local content of this theory</h3>"
      ],
      "text/plain": [
       "<IPython.core.display.HTML object>"
      ]
     },
     "metadata": {},
     "output_type": "display_data"
    },
    {
     "data": {
      "text/html": [
       "<table><tr>\n",
       "<th><a class=\"ProveItLink\" href=\"common.ipynb\">common expressions</a></th>\n",
       "<th><a class=\"ProveItLink\" href=\"axioms.ipynb\">axioms</a></th>\n",
       "<th><a class=\"ProveItLink\" href=\"theorems.ipynb\">theorems</a></th>\n",
       "<th><a class=\"ProveItLink\" href=\"demonstrations.ipynb\">demonstrations</a></th>\n",
       "</tr></table>\n",
       "<h3>Sub-theories</h3>\n",
       "<table>\n",
       "<tr><th><a class=\"ProveItLink\" href=\"../core_expr_types/_theory_nbs_/theory.ipynb\">core_expr_types</a></th><td>theories pertaining to some of the core exression types</td></tr>\n",
       "<tr><th><a class=\"ProveItLink\" href=\"../logic/_theory_nbs_/theory.ipynb\">logic</a></th><td>basic logic concepts: boolean arithmetic, equality, and set theory.</td></tr>\n",
       "<tr><th><a class=\"ProveItLink\" href=\"../numbers/_theory_nbs_/theory.ipynb\">numbers</a></th><td>basic number concepts and operations for whole numbers, real numbers, and complex numbers.</td></tr>\n",
       "<tr><th><a class=\"ProveItLink\" href=\"../trigonometry/_theory_nbs_/theory.ipynb\">trigonometry</a></th><td>theory of lengths and angles of triangles as well as their connection to complex numbers</td></tr>\n",
       "<tr><th><a class=\"ProveItLink\" href=\"../abstract_algebra/_theory_nbs_/theory.ipynb\">abstract_algebra</a></th><td>abstract algebra concepts: groups, rings, and fields</td></tr>\n",
       "<tr><th><a class=\"ProveItLink\" href=\"../linear_algebra/_theory_nbs_/theory.ipynb\">linear_algebra</a></th><td>basic concepts in linear algebra: matrix product, etc</td></tr>\n",
       "<tr><th><a class=\"ProveItLink\" href=\"../statistics/_theory_nbs_/theory.ipynb\">statistics</a></th><td>basic statistical concepts</td></tr>\n",
       "<tr><th><a class=\"ProveItLink\" href=\"../physics/_theory_nbs_/theory.ipynb\">physics</a></th><td>basic physics-related concepts, including quantum topics</td></tr>\n",
       "</table>\n"
      ],
      "text/plain": [
       "<IPython.core.display.HTML object>"
      ]
     },
     "metadata": {},
     "output_type": "display_data"
    },
    {
     "data": {
      "text/html": [
       "<h3>All axioms contained within this theory</h3>"
      ],
      "text/plain": [
       "<IPython.core.display.HTML object>"
      ]
     },
     "metadata": {},
     "output_type": "display_data"
    },
    {
     "data": {
      "text/html": [
       "This theory contains no axioms directly."
      ],
      "text/plain": [
       "<IPython.core.display.HTML object>"
      ]
     },
     "metadata": {},
     "output_type": "display_data"
    },
    {
     "data": {
      "text/html": [
       "<h4>proveit.core_expr_types</h4>"
      ],
      "text/plain": [
       "<IPython.core.display.HTML object>"
      ]
     },
     "metadata": {},
     "output_type": "display_data"
    },
    {
     "data": {
      "text/html": [
       "<dt><a class=\"ProveItLink\" href=\"../core_expr_types/operations/_theory_nbs_/axioms.ipynb#operands_substitution\">proveit.core_expr_types.operations.operands_substitution</a></dt><dd><a class=\"ProveItLink\" href=\"../core_expr_types/operations/__pv_it/axioms/e9a2fec83f7f76487e4e1ae47c47050c1e84bf510/expr.ipynb\"><img src=\"data:image/png;base64,iVBORw0KGgoAAAANSUhEUgAAAvMAAAAzBAMAAADoXJp5AAAAMFBMVEX///8AAAAAAAAAAAAAAAAA\n",
       "AAAAAAAAAAAAAAAAAAAAAAAAAAAAAAAAAAAAAAAAAAAv3aB7AAAAD3RSTlMAq1RmmUTNIjK7EInv\n",
       "3XZ/CtNrAAAACXBIWXMAAA7EAAAOxAGVKw4bAAAJfUlEQVR42u1cfWwcxRV/d7d7u7f34avoHwlB\n",
       "6UVAGtF8HIUggVB8yE2TFtJYVELQROQa/kDwD4eEQEF8uKh/QGWIIUrTWGq0fKiQpIovqbDUIJIj\n",
       "UkUgClwpVMiq0UaYogAyFhEYGZXrfO3M7OzNXuDsRHL2Sd6bmffmY3878+bN27cGiCBn3z4XYpoD\n",
       "6ohsvtWqzHsUMgPnsre9FPFMqzUUDX3/BTABLzqnvdljLJGKoU/U25fXumpVX3tFDL1P17QvLpS6\n",
       "avV2LSdbjKGnZL2ultx4GF9/0l2zhbKW9a8YenaLnjorFxzDFki1y3bv1nKWuzH0hK5XC3KXD6Or\n",
       "Ue6y3au1nHQlhp7QCbVgC5mUuW7bzWnNdnM6hp7o5Bm15FVyXdptw2n9svltDD25w6JScOXJH5K9\n",
       "Fv0dOPXSK5Kdo2TbkCyRLWrFVrkx9Ii2h46y35LrHeivUlhsNAVDybYhWSJF9ukN45j+GRQb8WLo\n",
       "EV0SMja/Jj/vIGxqqZlEGZ5ntg7NOq/8QKvEWQVKyYbec9GMoUf0mlqQnCI//0BHfjAQ6vYkm8c0\n",
       "a4B+5lMJPzOl7TM1HUOPADoTOmw2feiRlYI1Q5JDjbM9/WxZtDdrxCHB1M9650wMPTJwpkPaoOgr\n",
       "HGRn1hxXgh5nU24U9ESi76kJ/sTa6nq61C506DMNzcTdA7C3/xLIUgwd4Fm8LJxwQy6XeH5zOVeL\n",
       "RvbPMfQI6ND9P0pv+SCyAf9wE9xMoR+p8iw86ZIsuThfyQkq8eB/oQc9CKOu7/Uog54ssEu10CfI\n",
       "3lOep9CPVEJGN/15EuCFyWRfiUKfH+NZa5hmIY+rvusnxl0usRg2d5i1vf0U+rU4c6cWegOLpWvz\n",
       "FPrtnlpyA7tzbu8TpX0F598HD8hZLiVMzuPwMxvg4U69Iuh/h43ZIS30Nl4V2+arwlmlHE+Txa3M\n",
       "AKwEoOfaw/rT47+UssIwEgeDKXh/GUBfp7WGoE+j55Ut6XU99n4emq/Q9yqH2fywb5nv8pEc/cYD\n",
       "hy+OXKs1JWWFD0FYlUX4tKydzIR6ihT6FNLj6Yht9ir0W52v0H+uaNLUhF+wN2CDKiZpuCH1YWSi\n",
       "VHTPELNwTo6Pn4iAPjc+/p/6fIX+qNYrYHldNfxxpF1VZdCvBxiOgN4YgIw75xgw1fpjHd/rwA9N\n",
       "xKR+2kmyG93z8cDzTQb9vWDJDk7r3Zfh+qKAHjHvxekX+uZyNFQ1prQWmdGBD6qVuLrzc0b0o/Oy\n",
       "1vINBn3GzfI7emrhTliSdQ1XOlINw8s4vePWuYf+WS3frEfzYZPiJynC2cieZ+iTHt9ljfX4eOVV\n",
       "svJpdiXdZWdg7qFfqxe4uwM/HVQdRtQ5XMieZ4UD1TUoQZw+H2LGsssfCUCfTmFFu+QENkALE4+s\n",
       "8zWmSEpqVCo0T9GjMKLbixCahRKbQ4+GNLluQtbSvOYhxle65XzFPs6HByg6FLJH9TtCF6dIq5P7\n",
       "wt9m4RCaUcTp4xAAlmWf2yRDn13qcm/Px4mhrf4eLpLSxi4VHuhxB9nq92bskJ9KsDn0VhUKtYVp\n",
       "AoyxG9EOUfMyyuc9qPxkUNnfL4/lF1i2LDoUsp8PaPfi0veH3uxgHeWKPqAPoRRx+pjEVbMMKqdl\n",
       "6C3i4zTIcMsZzx+slBQkFz64Alg71nPNQuiIIdgcehOdMmCPLc8fXvM2yle6FXwz2MFt4QGKDoVs\n",
       "bxvoZyEE6sNodk/Fhz6B+8dOn9Rdu3c/g6Dfn5ahhwXkjEA9aD1oHW5z/aS5UtW+PdI6XYQapbKJ\n",
       "esK7eUJRv5gdhD6JZ8M0dVExwjVJ9gmfH+yWt2wHoV+ijCXQoZBdFd4SZiMEKh29hYzUQXYaY6eP\n",
       "Xaez3lwZgJ4uEjo/BqFmr3D9ZA5GlFYHJR35Hhxnsvn+3EDDUV6ZIbYCPYbEbljw2JivUEhNnCUK\n",
       "h0DGupX4pGVF4Twhj4UqHNGhkN0edsnORghUqtLZacehp06fYWYRnwpDP+KCU7cao8gozvOkhW7P\n",
       "qcN+/0IKU2t/ih7hfoD3zSkqC/mBLeiRNSRZyqai8jb7ULaKTPgxsV2imiQ7ias0gXcr8XHLUPDk\n",
       "gaBtVhoLI95hwQss/SDNSgjUm52ddhx66vTZhqa2/e8aNz0k6NHN2sfgV5smXQynn4SdODlYs1/H\n",
       "F1qYPI0tkcESXHZtlckm+/6IVFa/JEvZVFRAvwuMj458IkNPao4RFqqyC3i3Mh+1DJlaYCCZmjQW\n",
       "RrxD4WDJh/XKrIRA3dHZc6S8pXL+vnun6khghGMIk6zU5UljgCcFfwG2RKDk1ND+QGVfhB3EYSHJ\n",
       "UjYV5dD7lpWAntREWWx8lTjfGAjw11N3lzwQsy6Phd4c71C4xhIhw0uEQDkTZfkMd6Av+pwWED8Y\n",
       "CT05yJ31C8Jn8F77GwE9Sx4u8KTgNwurXTDdhHeLL7vYrELW9SRZxiaiAnqjpkKPa+Is4pgu5x8u\n",
       "yHzS8jplIOuksTCYeYfC3E+FD4o8BCqbbECvKK8vh9RUBFYB8WsiYX3jO0F/BKtHuvXYnx3yk+nW\n",
       "//wkcL5TTP4NtQzmmrov++tPAe5pNSVZyqaiAno4TN0ZJ7hRjWvi7GpcxeeTbgUft4y9O4GBZF0x\n",
       "Fva0/Q4lT5D9Reg4xEOgHjOasJBHQNmlDZAY2n/wYh1WVJzR8sgT17ffCfq5JjadHR3f7cB3dDU6\n",
       "yEaEQLk5D97iEVAOvAU5rwIbtCPE4tyGibR/4hAoTDeF9IYIgdri2l+LMBxzBrYPfAmPas+/RJzR\n",
       "5qg+E3HgH8FLvUMpBOrnUGgI6I0qfAbXRUCPxVn8E/9Wrf1h1ouhBxbJEThRUZt/D/p7Gj8HPwIK\n",
       "p5+mtqfbXoVhcRb/BNdG9dnrxtC3M3FECBTcAFvKPAIKjKJ5hnz2yuOeglFQRJzFP5HwfC3ROMD4\n",
       "gx71tbQIgYJnj2ys8QgocBZNTFP/FQ53IqtFREGN+eI0/gnei/Jrxh/0yKtfUCAEajQQAZWtglWx\n",
       "anK4k09UYNSPf7KiPoFgu0kMfToQbSGHQGWrzjEpAmoU/lqCbY//3pXCncR5C6g4i3+KdL5RJ1EM\n",
       "PdiBT5blEKi8l6hLEVAfwCKAt1stOdyJb7MeUHHqCouO1nsHYugpnQ7sulIIVHKN/1aAuC0u5e8b\n",
       "vFAbWECIi9C1tg6H+EN9fsBpH99led+/yULUe91b4Oygv+4C+FdEW8+tgqNf8Dv7DnSAPv5XRLNN\n",
       "f6FzGf8rov8DpcUX4DAl9WUAAAAASUVORK5CYII=\n",
       "\" style=\"display:inline;vertical-align:middle;\" /></a></dd>"
      ],
      "text/plain": [
       "<IPython.core.display.HTML object>"
      ]
     },
     "metadata": {},
     "output_type": "display_data"
    },
    {
     "data": {
      "text/html": [
       "<dt><a class=\"ProveItLink\" href=\"../core_expr_types/conditionals/_theory_nbs_/axioms.ipynb#true_condition_reduction\">proveit.core_expr_types.conditionals.true_condition_reduction</a></dt><dd><a class=\"ProveItLink\" href=\"../core_expr_types/conditionals/__pv_it/axioms/99547e0677900727aee7970197d1753b64c335eb0/expr.ipynb\"><img src=\"data:image/png;base64,iVBORw0KGgoAAAANSUhEUgAAAKAAAAAVBAMAAAAz5vjYAAAAMFBMVEX///8AAAAAAAAAAAAAAAAA\n",
       "AAAAAAAAAAAAAAAAAAAAAAAAAAAAAAAAAAAAAAAAAAAv3aB7AAAAD3RSTlMAq1RmmUTNIjK7EInv\n",
       "3XZ/CtNrAAAACXBIWXMAAA7EAAAOxAGVKw4bAAAB+0lEQVQ4y2NgwAQFQLw0gIEMwI5VlE8BiFMX\n",
       "oAraEWUB6wMGBgEQQxlZVBuI9ZHMYz/MwMCm8RXI8r0LAhfxmPiYgcEVRKcjiXElAIm9yNZ+YWCw\n",
       "ZZeCcPTwO5FtAUMjyA0TkMRYDNAMZAC6VhDGJmAgswPITAZuBSQxHgZ0A4FAhEgDGU4xMAMdxIYs\n",
       "pEaRgckMDGfv3j2NLOQNM5Bd+vkDELvsIEPjGUGCBhbuqwOSGxkYPBgYZqHZwcDgBsQxBZy/wCKJ\n",
       "OMMQKdpZjzPMB4aeGdBkBnYBZEWXoCmF6zADywWwyERiImWNAYMvkNJhYOBcwI2SaI8CzRMDirB8\n",
       "YODdQLyB/gwMt4FUPwMD0wOUOAEZyNACDASeCQzrA4g38CQDFyjtxwBxgh2QWG23HcnLIDPWP2Cw\n",
       "ZyBgICIMuf4xMH8A0rpAvCkLyL/O8R2qaB40ltcrMIgxFRDrQq5PDIwJ6gwMlkB2DTBOWBw4DkCl\n",
       "NkIN5HzAdIUFLDITjFANXJ+AZuI8Bl0HB0iiY2wABlgAHyyqe6EGcsntKHwBYjeekWo8LweVDYbS\n",
       "vA5oBi583S4HNOgqzMICTitoAcPbgCWnEF0gXoBl4IL+4AXw/E2+geCSBZzOnfU2wwSnA/EbMg2s\n",
       "xCa4EojrFcgzcDrWcAAWCeyOZJnIV8AAAH5VfF0OvkrKAAAAAElFTkSuQmCC\n",
       "\" style=\"display:inline;vertical-align:middle;\" /></a></dd>"
      ],
      "text/plain": [
       "<IPython.core.display.HTML object>"
      ]
     },
     "metadata": {},
     "output_type": "display_data"
    },
    {
     "data": {
      "text/html": [
       "<dt><a class=\"ProveItLink\" href=\"../core_expr_types/conditionals/_theory_nbs_/axioms.ipynb#condition_replacement\">proveit.core_expr_types.conditionals.condition_replacement</a></dt><dd><a class=\"ProveItLink\" href=\"../core_expr_types/conditionals/__pv_it/axioms/477fa00338386b957e051df9105be19ef197cd130/expr.ipynb\"><img src=\"data:image/png;base64,iVBORw0KGgoAAAANSUhEUgAAASUAAAAyBAMAAADo7dDTAAAAMFBMVEX///8AAAAAAAAAAAAAAAAA\n",
       "AAAAAAAAAAAAAAAAAAAAAAAAAAAAAAAAAAAAAAAAAAAv3aB7AAAAD3RSTlMAq1RmmUTNIjK7EInv\n",
       "3XZ/CtNrAAAACXBIWXMAAA7EAAAOxAGVKw4bAAAFEklEQVRYw7VZb2hbVRQ/Sd7Le3n506hjstnN\n",
       "gh/8oDP55IehTcrw75SGKRNFWJzKdMyRot8MSwXZEJS04gaduEZQsVaWTAXB1rWbYC1FyNQhKIWI\n",
       "Ex2t29o5nRU6z73pS957ue++95rbS3m5ty/vvN8993fOPb8bACEt1C/EzEgJxLUbzMP3M6szo/4k\n",
       "DpKvYhrGnrXMN/CbS0NbxGG60zxMGCHlkwC7i3XHvbz9RJJrKBwXBUmZMo+/NA52pSFQ7aMow88B\n",
       "rOeb+l4UpmiNg0nDpa3PXnseL5E019Ttolh+F3AwEbrVcQSrpH+JayqYFoRpxh2mXpIwwle5puR/\n",
       "xECKLbEw9Z08QLm2L652niKLp/xLxtIVvrGnBNHJGiz3kglPwTDlRjC+widpkQ4dHJEQQ6iiJYkr\n",
       "X+Hl4yQ8XE/xOqYodWd5km+sXBOCqdMCaT1JRr0AP5sxdVA0qaTDLlUVgumUZfzqUbxMg3bF4ify\n",
       "Nu1rB2MBISRXL1v/M4jvXobAJTMmzAI7QJpysKZdFhJ2LTPDuNMWwZe91YRJXQwcSo7nvHp9dXXK\n",
       "JAMTHIMtaZqWQgPkj7T5A3BiY90Zf9ubeweATuGWdjBFBliY3p07tJnEIyanDzsXaDCpG8bOgkq/\n",
       "8YO9uQmAe8jnnnYwldPgkMeb7TD87mQulYFXSPQOtJWeau4xDfqzLswFMW+Gu9rBlGh5et72u73X\n",
       "+l24PYA5LNgWx1MtrynYzvGN047mOpDh387OzrSF6WJLeCs9bTi+A4l0P8DRtjBNiBQbGMbIuD5Q\n",
       "eEWw5GikVywmsgWFSmGD8omdPEeXQh7e3kPFSGjlxtyF+wwPPv7XZzfp/ZtBLCZMwf6ageLyHr3g\n",
       "/xPgGQOmnTnIG3gTqzar1DXABNlus756gPbWARxpYvKjQyUk33uoh1aq2VDW1dp5lp+0fPhkL15G\n",
       "uz8nAUOK5RS9dRrkb5qYChjvZJ+/EaERd0W64Ek9BUzwtlXv8pNwHPJIce1HlezuPjIep+G83L0N\n",
       "mpiIKgtPgjQ9NHSEQC38eq5Rm13sd1vKGuTn+WuDQ2+yMZGI86FNKa2SZYxU9Co9UNXeNmCaoYW1\n",
       "fD2NxAcB7oaRin3OdCE/AQVDgRnvHTpPI5kY+UIEJ0IdRgiTMGAiFXYx56OJzH+YsM3f0GmJjFtM\n",
       "TfkJ6jKaZpaUZX2y5VxoK+IPpeVSlC4KEmbcgOkteILI5teGsD1N2RZuVE3FpFtMTakHsat2Eqax\n",
       "pUdyxUdKo5gHtv6BrxxFv5Zgk5xrYMq/ePwgvlrDmIjhp7IEvupjVmd7wRRENxcHuFu6vO2OT+H1\n",
       "Lnhp83WlHHZiw1/AwQtNPyk9v2xU8PM2gBHC0P9K6n59PtGsE6YW+Ul3NeWMm+2TIHxUq9U7emWr\n",
       "o04fJ2YBPmo5fLLUvtIsbXGO/ES6H5tbx44NcwqWyYOFTaV6x4JJWbA7QwsscU6B2PKTJDVtAzvX\n",
       "TpuN07mcXelYMMELduGlLtpDspGfAPtw+SrMR5ZdnHd515zO8hNgAWM9vnaaEx7i8IktP0FGZZlg\n",
       "xqtPjDbfleHGHUN+goQcnKiprDQu5gwjmubnAob8zCOmVG0HQ36mxFSIvMBjy8/w2FgSpP1Jhvw8\n",
       "s0Znh66k3tqeHfL87RVTSNQBebBie2vea7yIEhyq/aFSwaPS+05YXX/ePuV6k5/iftuw/ga0+rZT\n",
       "oADaLYgEewViEvSb4geU4f8DsSlWhpwxuMIAAAAASUVORK5CYII=\n",
       "\" style=\"display:inline;vertical-align:middle;\" /></a></dd>"
      ],
      "text/plain": [
       "<IPython.core.display.HTML object>"
      ]
     },
     "metadata": {},
     "output_type": "display_data"
    },
    {
     "data": {
      "text/html": [
       "<dt><a class=\"ProveItLink\" href=\"../core_expr_types/conditionals/_theory_nbs_/axioms.ipynb#condition__as__condition_eq_true\">proveit.core_expr_types.conditionals.condition__as__condition_eq_true</a></dt><dd><a class=\"ProveItLink\" href=\"../core_expr_types/conditionals/__pv_it/axioms/d0dc202382d6630c56a19d0c4385cef00f4bf3ca0/expr.ipynb\"><img src=\"data:image/png;base64,iVBORw0KGgoAAAANSUhEUgAAAQMAAAAyBAMAAACqrqNEAAAAMFBMVEX///8AAAAAAAAAAAAAAAAA\n",
       "AAAAAAAAAAAAAAAAAAAAAAAAAAAAAAAAAAAAAAAAAAAv3aB7AAAAD3RSTlMAq1RmmUTNIjK7EInv\n",
       "3XZ/CtNrAAAACXBIWXMAAA7EAAAOxAGVKw4bAAADz0lEQVRYw72YX0gUQRzHf+ft/dm7vVMxfLDS\n",
       "hSB6qNOnCCnvIooCwwWjp0ArQhCik6KnwDvoMfB8zAjuJSEM7qiooMzEQEIjLSOIju4hyCAw+qdI\n",
       "VDN73Z/d2/mz056Dzs3cju5nf/P7M98FoDc5AbVrN9M8q5qM0xuakwj+txyLXFnDNHzGxN31f0i7\n",
       "ONbsNk7bKwh8MwDeHT8K47sPm0QQgg3MJb5Z43yyYuz5DrDP16KP7yXA1S/C8Iq5IpQnIwCySGNh\n",
       "NJ5C3VMRhJ1Mh9wLFATUNhU+zuKuTQTBG2OtmONCkNZwPyUSvp5VxoLwugWCb/NHfXsuTkNyXt+J\n",
       "YbwP0CMUHCdZrmB22EPo90RcXi/+dcEXelTcn4uLILQznGHEZFsch4EZkBb02WgR4T3+N4FfQpkh\n",
       "k6df32IiaEa2lr5AKGtE0G/u/iaEIC/Qr0+b5pfHAJQUZDQjQg53t4TyArjp/uiverBR3XJRMCK0\n",
       "gUeFbiFXgADdeOEqQhQRGRWa6+IGhBF1z/ngrGCZmKbv0xMLBDlftyTpk6v6D0adzQcbC54d+GkX\n",
       "4TqAHnfbLK8qKQuEQOuDoWU8Ts63JF+06l8nr01qUIieJbsIUwAH8eeAdcDEgJEdywbTwmK+AFEN\n",
       "kjjaUtZpIc+P0LBd0BfQTbxoE4Oqdeaq+voz6R9Jf9YEEZCp3R2oXhFsVFV4hlVS/L5TBRHqkTM+\n",
       "z+XmrK+uVG2vb7/oncgIyAkOA4wRnDUNtW8KyqpD4KsoiOHHH0rP3rMRCCFUJOR0sFzpPQMV58U2\n",
       "2AgElP/q8l7jqfrIhiNAfxfqJrruY3fDoRXl2wiHVA3eCLg9iNLuGz+uSfpJ/FHJHWkJzylVg90R\n",
       "LiFvlGJ+bBAlW3mcW0lwnrhYquZoDrdFawQcCy50J0UL46GC8pR/lZyaxFVNhJgXioUoE5c70WPJ\n",
       "MU861FF6UI0TgUPVEBEyRdWqxEd60xMoIDuXT5crSAcvAlvVRChl6p8pD0TuwBUVLrQ2puNVNuJH\n",
       "IKoaIoKpFuLZsUCpRIf6GQg2VA0RwViIPNjJh7eWXN1lOrhJumPnGvhUjTEMiAjGTXPrQvN1eb5O\n",
       "kf02VQ0R4Rn9EP+VTGBX1ZAQfL+FD9h2VU1ETMpAN8UXmKqGzxdcDEHXp1Ejwo6qISHUM2RtKEZF\n",
       "oKsaa4SMaZOijGMRLSTYqsbQeglPtWj3RY/jqob5oodmJmdUjcx88ejNEi85o2r6mCdkP1myO6Nq\n",
       "XrKXfCLnRydUDccLYPNrcKfbcZ5Fp2pJ4B/kctlEDRHGdWf8C5YHKnNyINgbAAAAAElFTkSuQmCC\n",
       "\" style=\"display:inline;vertical-align:middle;\" /></a></dd>"
      ],
      "text/plain": [
       "<IPython.core.display.HTML object>"
      ]
     },
     "metadata": {},
     "output_type": "display_data"
    },
    {
     "data": {
      "text/html": [
       "<dt><a class=\"ProveItLink\" href=\"../core_expr_types/conditionals/_theory_nbs_/axioms.ipynb#conditional_substitution\">proveit.core_expr_types.conditionals.conditional_substitution</a></dt><dd><a class=\"ProveItLink\" href=\"../core_expr_types/conditionals/__pv_it/axioms/63e5e0c1276cb1bb5fa7a2b0d0bc38d036151d290/expr.ipynb\"><img src=\"data:image/png;base64,iVBORw0KGgoAAAANSUhEUgAAATsAAAAyBAMAAADRimGIAAAAMFBMVEX///8AAAAAAAAAAAAAAAAA\n",
       "AAAAAAAAAAAAAAAAAAAAAAAAAAAAAAAAAAAAAAAAAAAv3aB7AAAAD3RSTlMAq1RmmUTNIjK7EInv\n",
       "3XZ/CtNrAAAACXBIWXMAAA7EAAAOxAGVKw4bAAAFsklEQVRYw72Zb0wbZRjAn7bXu+tdKSWYGREZ\n",
       "xkT94KQxcVGiUOKfaZzS6LJE/QBOzRzZYsnMvkhGmyxbTGYKQT8wo54fXJzMwYRo4v4Am4oLm6Jz\n",
       "MWESSzKjhslYJzLRMN/3vWvvT+/eK/ieb8i171vuuV+ff+/7PAVgPkIpFlIOKODNqDRP30+sSIo4\n",
       "6Q2db8A0jbxoUUPg59LkrPEGb615Wmek64gBbMqo6nz1scMxmhw56gWdMGaeHzNOWuIQmGgnwPJL\n",
       "AKuoks56gVeWpeBJyPaqUqQt6BKO0yTd4UVw3AcUPOyaKhI/gd/P0STxcQ/wxkvDa8bZR75KkxRc\n",
       "YE8XWbTDaz++k/jl1qhYPYqtK/yF59w8VdZzHrieNd4exnoYg3eJI/FRzfe4HJnS9VPH3vkyli1D\n",
       "OIkuB2PwuLqh5PHKiJL7R6iy+rPM8aotdKtwkmsGOG/GKydgjTH67jjBHG/UMt+1D11OgTRv0R5+\n",
       "svQlXVaAeWyIV6wr3QhjCQJzZjyUUp4EbowuTLrCPHCLvjCKXCkHvtbbTHhiLrAndjS5TFP898PU\n",
       "iA0evANr4iTdhbrwHx4Xd8LhKlVHfzpKexuAfJlbWOGFu+zw3pvZU4MjGiW9D6ovk3gUbzhyDkTy\n",
       "H987ShsGeAi/bmaF1x8Hl11DH2/CLy7SGhOQxuHfxSztZUvH6/a3ukvjUWqWa1nh1RVJuuj4v83X\n",
       "Uu62CKDUyDMLjcaiJ3Y6fvXXT7hJK0eBcWZqapwZ3qWiXCE0rdw05cjpHgHYxwxvmOkuHkbO2Q6C\n",
       "46mes131W1QUMfgTUzy89YUUuVDqiVu0Bx6/QBBC2vrM7DrDXXcbRexGBtCzyWq2pzOU5P1ZQ2Tc\n",
       "qJ5TN2sVjYa3MQkdusakqLVufNZDPGht0Be+KpSYj+p4fqRjjqRGPz4Bcaa6OoxilVdKM+5yK3Jy\n",
       "rvm4DV36Gj7Fxl2aRvIFXAI06nidiEA7clyPb0IKHJzJazMzW2XIm8O0Xd5akTckSggN6EDGkn4Q\n",
       "8VkjMhlBfuTDq0d1PFyOyiNyLxpbEekOgI+SmSSH5z3wu3IB/AXnu5RyOZwfOFM4RPO3q4dAYehI\n",
       "pQMediMfEsnFRWznUCyA0MID+TokVCi+eM3hhhLwNMCDsDcvogfWQrDLOS1b97cXVO/+A+B+QT2y\n",
       "fJJSFWKT9/JfO5yIRIkjcegljDyMKFPDw+VCRrNa+2dwM8AXMK17axOIBby6hBteTn2PFFmhvtuP\n",
       "b/7cflPLt2v6k6F6dEc5hJEbheJBpSym470Bz8BZIMbtRTe8BtIC9HyoGXcOThiMm4m54AX1QvM6\n",
       "9WWbc8QXDhjhZOYppQ/KlHuhDyWV+l+fBx2vY/uh3dpjB9XQGBPn67U7JwNdEMkWmcMJT56w4HGk\n",
       "FB9OUQ8YwQfuHIS9teITWXSFV2oqFENaFpqmqwQ1beOnh5Kw4a6ZvJp2zZKVfCpodcHja6bxM3eM\n",
       "Qvo0sW4ncYzmRAk7eG3hukHKGneNYPxQvoWDJgNFnUw9SVsO89wUGdFCRd7fJi1oHQDV95rJQ1+2\n",
       "TUhmkweVwrXzJsWIJ1w29irXWcXoC4FFSmvtpJpcvtYKOBXvJ/wg6R/bO06Z60r9yp8DIx5sMypf\n",
       "tvY79Q/FnDMdqciRBv824RGwgG3JKCy59RLtly14Umm1H6nIz0MwZ8KbwpeDrf9PGQ7rKb7XTdIe\n",
       "t2jCWw3BWlhv63o+9k2MlgQ9cq/ifpARL1N7z3bZvl1Qzr4FVBan41WiJI9HL/nD2/xYVq5QbAvy\n",
       "RvYNNFrokop8iCgvfboq/U0NWU2/dSwBKbuC/Fv27UcYd9lz7TofiYid73nRvKVZxBEveqv9sgd4\n",
       "/IDjR04VOXfNtgXeoniAJzo37ZwqcvFH2w++Ay/Gb85JflkVuTc/Wll/8lvx2AjejE1snKTNIzw2\n",
       "PzfvJ4HxL0EKbSFnHLA6AAAAAElFTkSuQmCC\n",
       "\" style=\"display:inline;vertical-align:middle;\" /></a></dd>"
      ],
      "text/plain": [
       "<IPython.core.display.HTML object>"
      ]
     },
     "metadata": {},
     "output_type": "display_data"
    },
    {
     "data": {
      "text/html": [
       "<dt><a class=\"ProveItLink\" href=\"../core_expr_types/conditionals/_theory_nbs_/axioms.ipynb#true_case_reduction\">proveit.core_expr_types.conditionals.true_case_reduction</a></dt><dd><a class=\"ProveItLink\" href=\"../core_expr_types/conditionals/__pv_it/axioms/9151abb9e4e0cba92a2ae162c7e73f15a663ee9e0/expr.ipynb\"><img src=\"data:image/png;base64,iVBORw0KGgoAAAANSUhEUgAAAe4AAAD7CAMAAACbpYf4AAAAVFBMVEX///8AAAAAAAAAAAAAAAAA\n",
       "AAAAAAAAAAAAAAAAAAAAAAAAAAAAAAAAAAAAAAAAAAAAAAAAAAAAAAAAAAAAAAAAAAAAAAAAAAAA\n",
       "AAAAAAAAAAAAAACwjqETAAAAG3RSTlMAq1RmmUTNIjK7EInv3XYgpUAwucNsr99chXwZ27ZgAAAA\n",
       "CXBIWXMAAA7EAAAOxAGVKw4bAAAM3klEQVR42u2d7aKjKBKGVVAQkJ6e6e3ZXu7/Plc0JqKYKFEk\n",
       "5q0f6T4cD6KP9QFSqSyDvC2i+NpL56aT/NIXWZXjn4ip0xoea8SkpempHIFbklbKK9OmzsNMw59t\n",
       "oo+5T3I6IouE5IfgZlc3YIUaK4/erttMkd5IFNw4vEuy0xCVryMC3CGe2rmXpTFiaw+lod3tbzKW\n",
       "O39c6J3GWPooAHeI5JXrFWXAE9N3NHMCu+HO8hq4d7rA8k3lviOhx+FmpgDuXaJyR7lzU2Up4s7q\n",
       "Brj3iNPc4KoxdFHBcqmZjx+rVGvGea7U1JzviJsbDdw7KLerNcYsESpVeyNqv6mv8qN9d3tqBdy7\n",
       "K80i7j5+p93DIcjE4tcRcBcz7w3c2/3tRF2NWZgq0+7eNjZs51o38XFns6gCuDfPoKZrKou4Vd0d\n",
       "3jv64gzcueHA/Z6QqYVcwi06Iz/c4FNwl9MVAeDeHP9MQ69l3EW/IlOws3BnRgH3m7Z8OptdNOa1\n",
       "tpRpRr3aXT8+j8NdT6w5cG+25XItbpFryVmu+Rx3N+MW7afJ73hpY0Wp7p+d3h7ryWiBe3P0U67F\n",
       "7Wptc86ksQLud0TNbljKuLPJej5wv+u6s3///e/LP2OyMlKfMN7KlMAdLsV8J8M67T5JqLvkB9xb\n",
       "b5/8KNyTTXTAvdU4Fh+Fm7szb+DeGqnxj8It3L2nwP1WpJs87nZ0HLhDhXk2ahvzJ+ERN473Ae6N\n",
       "gXmTfZZ2V05oDtybRHv2pb2H+6i0gkFyZyoB3JtEehIIgnAfn1ZwnznmwB2uK/k+uI9PK7g/oBVw\n",
       "h0rt2XUaZsyPTysYcDfAHR740F0j80P3md+iDQXc4dMauWuodjxu4kwdgXuTqG24z00rAO73cesN\n",
       "uM9OK+hXCoD7DdxkPe5RWoGQMncj8Bq40xezBfcorYAO3KPjLoH7HdzFetyjtAL7wZyXFbFwc+el\n",
       "zhG4f/z146q4//n196zt92/ut+WjtAIizsL949ev0U8//4J2H6TdblpBlslTjPnx2g3cN6LjtIKM\n",
       "u199FSetALjj4XbSClg9ph0rrQC44+F21lVaFWdn3BbgPgE3qznnVAD3FXC/fkWiDvqCSuBO05if\n",
       "JsAN3MAN3MAN3MAN3K78NH9fF/d/giLz8+Sng/t/0G5oN3ADN3ADN3ADN3AD94Vx/wFuaDdwAzdw\n",
       "AzdwAzdwA3eKuLFmvkLEG+WotsHAmnkK2t1QGHMYc+AGbuAGbuAGbuAGbuDeEfdSwi9wQ7uB+ztx\n",
       "x1pmAe40tBvLLDDmwA3cieMWRFwVN/3NPLhT3rwkfv8e/cQItBvaDdzADdzADdyYdwM35t3XxY20\n",
       "Amg3cAM3cAM3cAM3cAN3kriRVpCQIK0A2g3cwA3cwA3cu+M+tIQ3cCeCO04Jb+BOBHecEt7AvTPu\n",
       "4LSCKCW8gTst331wTWfgBm7g3h/3YvHu26/jlPAG7ji4nxXv7iVKCW/gjoJ7VLx7Sepr4EZaQeYU\n",
       "7z4VN9IKomj3qHj3xbUbuCfFuynhWueZJjUH7ovivhfvFqS0ftzG4ToH7msa80fxbia0zSAwrWZT\n",
       "x5VHKeEN3HEi81HxblujmysbuY3+OlIJb+DeHferzUuqZa5bJWYmi/6tPcAdZ5llNPsxNw0ndUaB\n",
       "++q4S2uWK2aXVbUA7qvjPlWAG7iBG7hD5evSClLGjbQCaDdwAzdwAzdwT0T4HoGUcT8WZwuyJ+69\n",
       "+00Td3s/t6+Milo1hwxw1vEcN72/g6/Ynrj37jdN3MQEGcjqqOXUScdz3HxQQ1bvasz37jdN3LkJ\n",
       "enV1mAeYdOzx3dWtQRa74t673yRxt647JKGvNAetnk879uAmN9e60/f43XHv3G+SuGWYcsvmoBFO\n",
       "O/ZF5v37dCX3jsz37TdF3MyoIDWtcq3zI4zetGMfbtrFlrXYG/e+/SaIWzQqKAoVpnV04q0Ja7/z\n",
       "5Sb5Ysc+3CwfPlYLa6hsnRZR+RPcAf2GPF5VfRJu0QQ+ykXHQOndBzjr2LvMYkct14UcXOd13R5a\n",
       "5Jls/4rOr3eUVrCh3zckj+YtJmkFxARuRqJdOGP2H/esY29agd38uC6gopQPSyfabsWRz4z5hn7f\n",
       "EcVP0u42UAtbQOqyS8oDJmOzjv2LqFVGegPg2wPft3XTd32/vIIXJdMvcD/6zYQkWs6clb/V6+4W\n",
       "j+SmHfD9mqQmcxvpbfTFtS+Om4VqNIx31w19azLm992zjv24ZdFPkn174Ic2ZtfoHl6Ct8a8KF/g\n",
       "Hvpt3RzzLKb7W720l4/Ujcj0sJbUlP0eX/eZ9zX6dOPVcfOJWBM07bZOQKgDlpZnHftxs1vI5dsD\n",
       "P7QJ51tiCntIt5/2Ge6h39YJ3PZaZ2wU3txby0LT8rkTyZZQ1O2gyM1l0HY8grsnGRpfn+P2x1tw\n",
       "l0YFUMnbIdfbl1FflziYdbzwRiwfLtO3B962lbaNVHUnRY9bSJ9ndpRw6FeVN3vBi+Zx/nurstfy\n",
       "1D+X05wbx3XT/HHY9CRD46pzbF1myVSIORe5pCG6/bLEwazjVy9AfXvguxtK25+5dLTbKswL3Pfn\n",
       "0ia3E2FP/SDxaGXZczP6OJLQghBaFvI+OnsJ6obhfuox7lvjq3MMx7W9k0KuxU1N0ouGL3BP9sAL\n",
       "ObQ13AJ+2EjSqYJP4bwuVlnXW5IH7q7nUWtmZ3d9q+/jfmRhn8VWD4v7r9r+SH37f2U7kQ/cbuOL\n",
       "c9yO687QrMVdGiM+F/dkDzy3atO1aUk6x3tTKt70bzXX4i4pKfoubiT6nh+t/QSva+WKuR/Oke0I\n",
       "RKtQtLgfTrUe/s8oIXpkQtzGF+cYjmsdEKvW4uZh70gSwT1fp5nOh6zvLtctoi44IOHpWbbRte98\n",
       "87ZW76xmNxmZ/qrwnGTcuPYcjZ1wlmIdbnGpzUulCDgDe7oqp/oXok7PlTGmWTqf0ybsHLG0DodN\n",
       "fjX6//0k48a157BnKCRZqd3X2qtGsp1xv+iZbBsDeXUYef8c34Q7QJBWkJAgreAt3NBu4AZu4AZu\n",
       "4J5FiLoE7svjjlOpALgPwb29jlicSgXAnYoxj1KpALjT8t0Hf3U9cAM3cB+IW2pN5vtjIlUqAO64\n",
       "uJndEUR9u+CjVCoA7ri4u23Ado+/IJP35/V1cH9ZtYLlOmL3DcBc6+Yk3KhWEE271WibdnNZ7Qbu\n",
       "m2IZDdxfpN23X5TA/RW4+5i82yE9wx2jUgFwx43MpbxtgZ3gjlSpALgPwb3iFUnRnDRi4I6n3cD9\n",
       "lbiZrIzUwP012n2aADdwAzdwh8rXpRX8SXjESCuAdgM3cAM3cAP3rriRVvANuJFW8MG4kVYA7X4u\n",
       "SCv4Qt+NfebADdyfixtpBV+EG2kFX4V7SCsQUuZuBI60gk+QwLQC66JpcwpupBVE0+57WoFdSmFO\n",
       "IQtsPL4c7kdagTV3wH117R6lFUzruQH39XCP0goy3rihGtIKrheZP9IKnGIZSCv4aNyvX5GwNjZn\n",
       "p9wV4I6n3XfaNeecCuD+DtzKWMmA+ztwnyjADdzADdyhgrSChARpBdBu4AZu4AZu4AZu4Abu78H9\n",
       "B7ih3cAN3MAN3MAN3MAN3Cnixpp5QoI1c2g3cMfGLUwF3F+k3Q0Fbhhz4AZu4AZu4D4F93LCL3BD\n",
       "u4EbuIEb827gxrwbuGHMT8V9YWHc9wik/Iok4/zwB+rC2l1Cu2HMgRu4U8GdAXegKA/atHGXwJ0C\n",
       "7ljzbuB+Qxov7qDIPNK8G7jfkMroDzPmhVHAHSq1kR+Gm5gGuEMlN/TDcGsnRgDuTUJN/mG4pamB\n",
       "e5+b9wm4qWOPgHujJ6z2isyjRRsauMOnNerDtLty1gGBe5Mwz1ddpo1bOd+aD9zbxMyvLW3czhsS\n",
       "4N4ozfwNaNK4met9gHvrxJvsi/vgis6lG1sC99ZVC7oL7lgVnbW7DAjcb2mLlaC0glgVnXP3BT1w\n",
       "bxMxD80DX4D2NI4uNdQ4kRpwb79/bEfffXSJXzFZJwDujSJncFPGXUzW+IF7s9PNN+D213OOV9F5\n",
       "4rqBe7Mosxr3cj3nWBWdp4MF7q1CDV+Le6jn7JMoVSH51BQB93ZrLlfipuZJ5bAouPV0nzRwbzeQ\n",
       "aiVuVWcn466m7++AO0BlylW4R/WcKeFa0+i4+WxnHXBvl4lDNGaB0FDPWZDSLpkqFht3PvMmwB0y\n",
       "9RbuwsvCjvGhnjMT2q68mtgVncV8Yx1wh9xG6erQUj7IvZ6zLdtcjv1olIrOes4BuIPuo3BCdfOq\n",
       "dq9q526UZpG/oUnNrQ5wh0gjXWv+wgAze5MbXvATH0rgDpfCucLSqOfqXVrTrGXcTS/CN2EA7iBx\n",
       "V0alydMbYu6b9QN3oDknbrRGUxtg6bU4x+DuJL8ybu7eTZ3c1TbTLXBNT+UAr0E6KS+t3qVrwViR\n",
       "2GRxdvd7KCT7PyYIOOI8QI8UAAAAAElFTkSuQmCC\n",
       "\" style=\"display:inline;vertical-align:middle;\" /></a></dd>"
      ],
      "text/plain": [
       "<IPython.core.display.HTML object>"
      ]
     },
     "metadata": {},
     "output_type": "display_data"
    },
    {
     "data": {
      "text/html": [
       "<dt><a class=\"ProveItLink\" href=\"../core_expr_types/lambda_maps/_theory_nbs_/axioms.ipynb#lambda_substitution\">proveit.core_expr_types.lambda_maps.lambda_substitution</a></dt><dd><a class=\"ProveItLink\" href=\"../core_expr_types/lambda_maps/__pv_it/axioms/bff143def57912affde18c7a27272cb1e41a7d8d0/expr.ipynb\"><img src=\"data:image/png;base64,iVBORw0KGgoAAAANSUhEUgAAAqkAAABMCAMAAAB57t7tAAAANlBMVEX///8AAAAAAAAAAAAAAAAA\n",
       "AAAAAAAAAAAAAAAAAAAAAAAAAAAAAAAAAAAAAAAAAAAAAAAAAABHL6OuAAAAEXRSTlMAq1RmmUTN\n",
       "IjK7EInv3Xbz6T5NtFUAAAAJcEhZcwAADsQAAA7EAZUrDhsAAA4JSURBVHja7V0L160aGy2XEvJ9\n",
       "/v+fPasLkWtayXvOMsbevYOyJmY8eMy67guByDX093IZcPcL//UwzvQUM2/k+k72RDL4CfeYhvpf\n",
       "O/1Cx840WJgF+68xdbydB+A0kCLmmdR9ry9Fv4Lloce+g3W81W4ceiJhO0ylXoDbW1bZKhDgSvTD\n",
       "AYsvFqESVo25qOWwj0wNMbUfuhhTjyEBwIfrGzDDImGMeqKrvjfwXhHewKquZX1MP7XMVCJxlKlI\n",
       "Jw8PD2x0MG0mwoEbXTcM9E4R3sG6X8uYOkrQMFOHSOUu5SWqUx2nhysbGX0YB3iibnTdANGdIryD\n",
       "db8W2m3T3C5TQaRL3cqr3lb2tAXGTYuJ+qJrB07Li/AW1u3qZ+pEk3QSzTJ1mLsEU+HeTzw9sAFz\n",
       "8J+90dWHVFhehLewblc/U0lyWJx4q0z1vETO3J/PS+BPzxWQ/gHY87lHTvTYMzGG4EYT84w0NweW\n",
       "sdAMmBAjPGGNo3kU63YNjP4w1YjAsVRbYWovaZKpiGSNHN/swIz3R0dj/inqFMAbTcxbojFyoHul\n",
       "wqOPRLMRDAKzzy0jn2yscTTPYt2uBlMt5DJlesuhTaZSGR0PtvKOvfrv0TADYw5KnOht2RetZgGF\n",
       "p/o0EiljfX+dBWb2HdtfFJC0O8FKF/Vi7VijUJ/Gul2DMyowgETXRZpkKpQgzdS1O31+E4Bjo/3d\n",
       "aLTGzcvwRYQ4WddGIjoa8ZLtceRg1m4SdG82wo41CvVprNs13Fx04LGmxJI1ydTEGLSXF4jn51MW\n",
       "U40JlY5eR1i6r1SAU/Maict/o7y8mWhlf4yyyepf3nTBbaxRqE9jxfE+dRxYnDGSt8hUKuMvtCrv\n",
       "0MF9jKEMCreo/ljvL4bvNEb/qXei6TrCqmo7Nb+ZCGlJ65s5YKF+3vgZv50K1+rXcDesUaiPY92u\n",
       "ITt1Tm7fTCc8bTAVSpbFVAb2RVU6j56f9Md6Kzly53TMorhwounae/VDB0ajWWjnSVR9cpYB6OZA\n",
       "RadGGjglK3B9FlpY/VBrYd2ugT4Vp3dvxIkTbTC1lziLqSPf31z0sazIOjyMxlqAjsVAoGiOx/Od\n",
       "U2fHktBowlLRCwvAjFbbTjU/VTNVK7Ejq6elTjz+ivxx5DBSTS7Ekt3baK6f7Fh9UDOxun9cxbpd\n",
       "/UwdhxxGDQ0ylSdQ6PL25DDE1vGGAMPvVsfypTpTtqgIrCKQ2Teh0tG0F4yMvSBm8887CitRvUSz\n",
       "hjij8B+eHHTvPienkfjz2DEn2rF6oWZidRFexLpdA3tUOYaGtOcuTTA1ZaY65V27kAnSpSgHU4/Y\n",
       "UfeYkS5ovRMwd+Vb+1Tant0+V0vd/MAdNsdPw45jINGTFXVR0u0nx7xp+YBiWA87tQrW/RroU7OK\n",
       "Yw+0TTAVyOkaUzu+mJkYHkylzI7tJqxiff/pOwFwl6A35wrQd/aSn89PRDe/OzyPEyEEUX+ir4ye\n",
       "Jcd9ZE76m5BlMZQYUxAP1oOpVbDu1xuLisjetmyCqSgxoXLLixEEgq2VsTF19c0zYrf9rDWW8NH+\n",
       "z7rTNxBNS1nm6ew6N52LOLJBbn0yFR6LRp39oTkblp6bPoPruPEoaedz2tFBRLAeUOtgVdcbTIV2\n",
       "/9UEUwcJLjLVHJT3kcjKgtFOuLGdeyedPbfQpYqgQKMnOjBRjc5ic+ogctOUrNrVSsUtYVXXG0wl\n",
       "9opqE0zlqaU8FjyPQwTfvAAxtagvN9MXe6wuO24SnlsCbhv3vDlKgyiq2Xex7lcx83KmUvs0ahNM\n",
       "lfK+1wnMjn3NyfgXrtKCNMbU8VtHuX/hXxVmyyhsgalAXnCOmMivCasH+rirpX/6IhpjqpD5bif9\n",
       "b+x+I5D5Bar21pJQC0xlMvsMXx9ezjpUECprMoyvPVz8c9cVI8Bcn6nIEo9qgal9tpwVTJxf3Zqh\n",
       "siYDvjHLfg3r5dUjVl+JiVlj7cLUb2g+KKaW5DXJzFPCIx/TTF01GejE57DRxW91EM7z15QjDKmL\n",
       "F7FeX+ecYX2mziemfkPzQTG1JK8hl6lz+lSg1mQYInkO6F4Vnp+/ohxhSF28ifU6UwGvbaoKa+l/\n",
       "Yeo3NB8UU0vymmXecVMY9Xzf617tO8e2veTNMff8/BXlCEPq4k2sBXtHd9+ZywFaq5ernfoFzQdt\n",
       "pxbkxTOZGj8/vde9OhsR2UzANzca3OdD3Y27vWQ9+yLWAqZiOb7O1C9oPmimFuTFZd5uc85ZK6XJ\n",
       "wCLmHbs5j3WfNw5eWxhdRy3z2TexluzHD5UnVcBl6hc0H465//W8uMwy1ud4Re2aAEzVqhA9CNV4\n",
       "OC2vxc7PGxNjmxknnlhSF69iLWEqkPR1pt7XfDiYej0vmcVUknBj2ep+792o/Fgh1D9cxdKy5tPH\n",
       "8x7lCJub4Gytm8PHm1gPpoakLnyZ1fV6wR6mWpoPNFYvLMnUk34ERUk/YJk1a+gTJ4m3ut9PkG6v\n",
       "/3Jgz1Vk0GmFegxH3j7liFMvKuxX1joA+ibWIm+8qe7yP7E8l/aVf1PzwT6vMc5oSYD7WbvQ/I9C\n",
       "namtHzFBnNoOgTCnCXifw1SlybA2+Wem5lNkUGmlegzqebNO9Z//+791WHiW1hkL62TWm1iLmArr\n",
       "zqkoNPu4XXPLo/lARD8tRzxAv/gld9vZhSBTjT0qO68M20ZKnPOCwQtMXXU98NpXO/uAOq1Qj8HI\n",
       "W49TwT4V25+DsSY4b2ItYiqV8PU+1dB8UG8j2qsFfBKQHvYzmGrmBXpuLFdBIaAoHP1F6n22Rv81\n",
       "R7QW1Gl9nVamx3A871WOsH+NnDYFTKmLV7GW2Knpca0GU7Xmw16kY4cQEIBHsTCVIYTmzz+cYKrO\n",
       "q7M1FQQ6NdUVpk4pwZut7vfDvEub7l+4OCsymGklegz6eb9yhM2180Ydt846BbFqPI9hLTs1UtdQ\n",
       "JZ4Z1aH5sBfJOIYDyGf0B/hCnzoarx5CxmyC+jVrs1ap+JTF1H29aHEOnJDV32k9BSOtSI9BPe9X\n",
       "jsCx9VRL6iKM9fj1x7CWMZVVdXnHXqYqzYe9SBiaTP3wU0z5TNX6EeuE6vippfZ8Y3gOU2nSN2Cr\n",
       "e63JwNSSg0eRQacV6jGo55PKEYycp+JWnQWxajyPYS1jKpT4fabaYxIcpjWAjamUqTlSFlNNFh5t\n",
       "xVBAL2LOYCpJruXtde84XkYUGW7qMVxVjnA+YhjG6uL5MtYyppKqK6oJpm5FIszqUxehp9z11HNu\n",
       "64Wts6tPb+szyYeM8oOkLbvXveMtElZkuKvHkK8csc8uT1IXEawOnm9jLWMqlTW9VIDjS+Ur0rFg\n",
       "vX0LVfSpt83L1L0P3RzdkBCDj5NThocKTM57Vd3bp+Njigx39RjylSO2HtSRughidfF8G2vhOXxZ\n",
       "c/IPHf9UX5FGdbKO7EqXZUzVvQZwjAHDrM14U5OLVLrug5oMkRa+p8cw5a2Hu1IXQayiexprKVOn\n",
       "ikwVjs+//61ki52aXR4vUyeg5laYrvMH4fWwQhlvKkvuIGj1itqaDOLGxs1LWIsVI3jNzwfZ5+se\n",
       "PUfFhGoIuPTSkCGaRhSYi8g3zvH+wtmCqbmgiqyxtoUTfzDjFHX/E69ogqk1Px44NXfeH0v+Y+qP\n",
       "qZ41odY0VHLUfn6j/39v9OfN6VJ1Mv0wS97yJ5Up/oowxSszKltYrwmmzulNOpG9nvqXlCn+jjCF\n",
       "YmrF9dSxQf3UPr2dmr/yD1hXOYhSr833oJYyteYeFbYn2k0wVaQrACS73ZMyRc0wlNnQL0ItZCqV\n",
       "Fd+t0wepmmAqTi9TJV3+z8oUNQMs62lehFrI1KoeKr3t6tHIV37SKDK9/jrevRDylSmsp96DWshU\n",
       "ICsa1nOD36P6gEo+PQ9ZTAXDG82fr0xhJr4ItZCpouKRP3paZW+DqSw9perzTqcc3vdMCBiahcXS\n",
       "svCens9Vplg+1CZG9cWmHKh3kQagFjK15v4LOHmDtMFUnPZRgamlf0uZohuX43TI708QS8taPtHP\n",
       "X1WmYMNydmeyO+IInLtIg1ALmcorulKdzNRGmJr8cKr6gn2SqeqT5+vxYb/ag04rVHs48r6qTLHp\n",
       "RKhZSQbUu0iDUMuYOtacUJ0p0QhTUfqA8DVlCtUD+9QeVFqp2oPbu2cqU6xF0DWVhnoXaRhq6TGq\n",
       "emYqOQ+zjTAVpxfqEL/AVGOYcs7Q67RCtQfPEJinTLENC0Ldm4Z6F2kYahlT+4q7/sIRfm2DqR3n\n",
       "aTLj7NHf1Po6N/+RVqb2cDx/VZli65K04kES6l2kEahlTK05+A+8a5OpIr31P6MMpiq1h222gjuf\n",
       "MsWRVqb2sD9/WZliretDMScMNYI0C+ohbBGCWihLVc+fjTiDbCtM7W7P/i1lim2+vB63d5QpjLSg\n",
       "2kNMAEI9f1mZYlWH7HUpglAjSGO4PKUIQi1i6lzRPaV3GrsZpqYPSmWpp+9qDx1jEG7f7nWUKYy0\n",
       "sNqDR/fBff6qMsX6yWjd6YahRpDGhClcpEGoJUzFVZf9+65VpmY4P8Q71b+gTNFZ33W4IExxIM2C\n",
       "6tzzDWGKqWKX6tkMa4apKRn/tZVZmqntKlOQZUXUVNbOF6YwkGZBde75gjAFrnnqgqOuXaZuq9Tx\n",
       "H8n5clqzyhQ9px21pDmyhSkOpFlQ3Xu+IEwxV3RO8fVaDTEVpLMQU5qpzSpTrFaqxZCnhCnC95QL\n",
       "U9T8GqVXUbghpuZscEe+8PsXlSn+jjAFrun41U9d20zN+TTnUPnk0S9szTtUNFKx1933e0xdw70h\n",
       "gmR8mnMiP95UD7QmUd01v1kedvr9ssA13BSCxeOPFb/XwiHRxi3Y/QPyhqzIMKLsYwAAAABJRU5E\n",
       "rkJggg==\n",
       "\" style=\"display:inline;vertical-align:middle;\" /></a></dd>"
      ],
      "text/plain": [
       "<IPython.core.display.HTML object>"
      ]
     },
     "metadata": {},
     "output_type": "display_data"
    },
    {
     "data": {
      "text/html": [
       "<dt><a class=\"ProveItLink\" href=\"../core_expr_types/lambda_maps/_theory_nbs_/axioms.ipynb#unary_composition\">proveit.core_expr_types.lambda_maps.unary_composition</a></dt><dd><a class=\"ProveItLink\" href=\"../core_expr_types/lambda_maps/__pv_it/axioms/fc5ad42732757eaff21c92028e4df6e1e6bc96200/expr.ipynb\"><img src=\"data:image/png;base64,iVBORw0KGgoAAAANSUhEUgAAAToAAAAWCAMAAABnhaCXAAAANlBMVEX///8AAAAAAAAAAAAAAAAA\n",
       "AAAAAAAAAAAAAAAAAAAAAAAAAAAAAAAAAAAAAAAAAAAAAAAAAABHL6OuAAAAEXRSTlMAq1RmmUTN\n",
       "IjK7EInv3Xbz6T5NtFUAAAAJcEhZcwAADsQAAA7EAZUrDhsAAAPrSURBVFjD7VnZkuQoDDSXuZn1\n",
       "///sYi4jwJhy1bwNEd0EVXRmSggh6G37vHH/46wV1ydwFCZ82/h4uATdyPmFAA6Q3xrosP+lGfyw\n",
       "HocJX7YWgznYT1sr7gcCCm/AjiNUvsVkCRPrbe66OOFFo1qrWwxHYP8XXFfx9wIyb8QOI1po9qUw\n",
       "VPs2d12a8HnTSBh8j7Er2P/cdRX/SEDiTdjnSOSw43JtaciD6yh56TqDmVT3GITC/ueuq/hHAhJv\n",
       "wg6jvIp6LUOZ7cF1ZimT9BHODrVNMYyC/Veu6wXU/EMBkTdjnyOSHLy2z/D+4Dp8hwMMxn3oaNuR\n",
       "NDuGwP5T1z0IqPjHAiJvxg4jY89m1pI71UAdtVYKoDZPUM4hJfQVyxbg2HY7IGMRnWJotIH+wXXK\n",
       "hV2n0JIAwJ8FQIjImw0NIxpsl2rJdTs4aHZvlNhZ7bo8wctwyHnfjrXiLrMeriOBGCSFArlCgtqq\n",
       "Ieg6veFz25FjUUDFnwVAiMibDQ0jjvKv6Go6S/QW1+pIOY2K69IEwk9KtSFys8yuWSt+iJakwcAp\n",
       "AWGzEnUCR5cjuSag5k8CGojImw2NoxPjSg+SsEkpbljlurT84O/ThBOCgozx5z8L2nGAjISPjqTB\n",
       "EAfs567zmswZR8atCaj5k4AGIvJmQ+MIu/qQOKY7F7pOlRqndd0GVA8Wne3sNkuPMZiB/dMxEY5M\n",
       "cQXTXEDNXwQACAaiLqnYN5IVYmSuzE6cI26yYV34ko82bOD1G06psXLRVrYS9SQQAycEbJdyXQxY\n",
       "Z7Y1ATV/EQAgIm/ZsDaVdBcOudKnow3iyeBqdVJzhS2vXRcnKMk2ZEKmHSvvri51iI4xsjIi16Iu\n",
       "SK/0zwWALZKtBBCRtxwTUQU3FwGlV+JUfRFVKoRUVMtdg0oxTcCHUNSbza46m03LKl4nnjFGLlmo\n",
       "XnMdRWfUkjUBgL9YCSAouLxnFeg6GGThCsfv0SyOsA8lcZygqN/MmJK7G4puTyKQpccYlsH+yXUK\n",
       "aUcPviYA8BcrAUTk1fcqTMHUfmFEl5LTS9j9RezdUxlFAxIYFxb2S7cJvb/irwVkiMSbsAcqVDhg\n",
       "lQ4nhg9HNL8FD9QuXM+72x0KxXV/1R+8O6w8L8Si05usDH7FnwQACPjuMVARwyy+vvgNs/cvi5I/\n",
       "vNfJj99QrWwfeXqM/LCz8sATxFgvHemX/FFADZF5o6EjFXm9cbt9r7iUD65T8lPXEUf5iGTkzJWF\n",
       "CWKwR2Vv+aOAGiLzptO7UyFxOjCYCqnSjVIFd6GChP+bqKrYOOHL1mLkRyK3EtL6B/+baAQk3mTo\n",
       "QIV26Q/IGZNEU7X9a3ftf6i2JZi+RUhJAAAAAElFTkSuQmCC\n",
       "\" style=\"display:inline;vertical-align:middle;\" /></a></dd>"
      ],
      "text/plain": [
       "<IPython.core.display.HTML object>"
      ]
     },
     "metadata": {},
     "output_type": "display_data"
    },
    {
     "data": {
      "text/html": [
       "<dt><a class=\"ProveItLink\" href=\"../core_expr_types/lambda_maps/_theory_nbs_/axioms.ipynb#binary_composition\">proveit.core_expr_types.lambda_maps.binary_composition</a></dt><dd><a class=\"ProveItLink\" href=\"../core_expr_types/lambda_maps/__pv_it/axioms/2af0f0b4298cae1127661da204438790d82f59d50/expr.ipynb\"><img src=\"data:image/png;base64,iVBORw0KGgoAAAANSUhEUgAAAb0AAAAWCAMAAABjXLLvAAAANlBMVEX///8AAAAAAAAAAAAAAAAA\n",
       "AAAAAAAAAAAAAAAAAAAAAAAAAAAAAAAAAAAAAAAAAAAAAAAAAABHL6OuAAAAEXRSTlMAq1RmmUTN\n",
       "IjK7EInv3Xbz6T5NtFUAAAAJcEhZcwAADsQAAA7EAZUrDhsAAATYSURBVGje7VrZtpwqEJV5Jtf/\n",
       "/9mrqEhBIfS0Vh7CQzhtt3uoYigxy/J6U0UfQ9DLx02hH5+wv8Cr+pxq5v6vWFfjq+p9iZhqWvRO\n",
       "fJ67jHg1Ec8/+uif81akgDN/eGrfsF47x65mMYhEkn9F2RQhdWX/rgXunK0RC/ns59lrSAFnZD/L\n",
       "3rNz7GoW00rkWYOcmoxWgv5NC45oTyvEskn74+whpIBT2h9lb+Qcu5rFNBL1NfmUmRs6DPRvRtFT\n",
       "YWyFWDbGf5w9hBRwnh++n72Rc+xqFtNKvBLr6Bw77GcsxGZSi9W2iJDGfpq9qGZsdDm9/Tx7iISx\n",
       "c+xqFtNIZGeq5dx2IWHfsQCs02Ycu9AiVosFeyN7A9ZlQAo4JXsreyMJY+fY1SymlejD3ryb3HNh\n",
       "fwDZGInV7p6+AdwUqoWA+EB4jQgxHKkDxEMwGoTOxrTIWDLFuhUDMSoGSCEC4HRkMnt6L+Av3IEE\n",
       "3DkqDQBnMa1EnmJi7FT2rlEgQVW4CYokbgHGZdN6S11jiwgxmKyyJ7esainK0LmF7qsMW6dY3Yao\n",
       "vAGkEAFwMlmOm7uRKntWRmccmTSOOkelAeAsppWoyPXPcRfnD4tGoLBPQEztEbALYZ1BF+HYUKtu\n",
       "ECuMFNUie47Bcmz7RtMj1cTMsNK04VzBO0grBMBJ/dzcUzvs/QzwbBx1jkqDwFkMInFnuONkmHg4\n",
       "QvAC9um+/fccLNd//gugrWu5SdC1Raww9Aqzd36Tg7F9s/3pd8c+zrB6klBVSVohAE69Tu979k7e\n",
       "wDjqHJUGgbMYRCKNZc2yPi6haPYWEENkCAopelt3qbbAENXcOytjacvQpQJO38P5gVWv+5COviIF\n",
       "CIBT+NnsqThtHHXekVYCZzGYRLmw64eU+Lv2YDGyOLFypjBsQ8d2FhBdPfsagiBCDBpg9mLSoSQI\n",
       "XZqr0S8TrCwN7Ux8kQIEwEnD3L63CFaWms/GUecdaSVwFoNJdPRmYfdGG3lFt5NE2Kfaz4iF+FQE\n",
       "4CbqUxwwTw+kGuOQUVQtxilLgwKhS+IKhQ+sqTCxK6ttlAiAk5m5uUcpOG98No4570krgbMYTKLy\n",
       "dwQ4v3dY2z72XNVV7sW+mGvLt8iL+3lfPD32KLAXHEg1Bm9OUZmRxf5yzD2yT1g2w2r3AU7yrnDJ\n",
       "BwiAk7up7GnjTHT3y4ZH46jzjjQAnMWgEsldp5gcjFSQrtXo0QH2ae7xbV2jnPUOa1xVBYGt+0Sq\n",
       "MYKYeFq3xEW+qilWQaK7n2gu+QABcAYxlT23l35SzBlHnXekAeAsZiTRZ0a3jRzd7N3XMDv7dw77\n",
       "OEERwSANs+ecTs4TS46RXgiAU4VfnHP2nePSYDTGEm2awdalAmablKR3Yjo8R+6dUZH04I2dwbYn\n",
       "tc/Z28Nu/dTxrCawOj1JAQLg5Ozr2es470hDz61HEo/JdrzE2BYz2b6mNKrsX85eMM0bENOsfdf7\n",
       "jufshU0cmTvgI97uhxc1aYkAOGdeuLxqveO8Iw2JxljilXhar6P37DRl/3L2WOSqg9jqf84e3bAm\n",
       "6dPWIhrSEgFwGvX97HWcd6Rh2RxINPSsX4RNu2fENpXrITL17iv/uSOib1Zi8P3sfcxbkQLOOPOi\n",
       "+hvWVRxfzWJGEl0872P7zGSO2+Vf+4vb/y8eNvYGDFNNAAAAAElFTkSuQmCC\n",
       "\" style=\"display:inline;vertical-align:middle;\" /></a></dd>"
      ],
      "text/plain": [
       "<IPython.core.display.HTML object>"
      ]
     },
     "metadata": {},
     "output_type": "display_data"
    },
    {
     "data": {
      "text/html": [
       "<dt><a class=\"ProveItLink\" href=\"../core_expr_types/lambda_maps/_theory_nbs_/axioms.ipynb#multi_composition_def\">proveit.core_expr_types.lambda_maps.multi_composition_def</a></dt><dd><a class=\"ProveItLink\" href=\"../core_expr_types/lambda_maps/__pv_it/axioms/c8218f0ba26027b3ef1d7c72ef17c078d0917f760/expr.ipynb\"><img src=\"data:image/png;base64,iVBORw0KGgoAAAANSUhEUgAAAhkAAAAzBAMAAADInAfBAAAAMFBMVEX///8AAAAAAAAAAAAAAAAA\n",
       "AAAAAAAAAAAAAAAAAAAAAAAAAAAAAAAAAAAAAAAAAAAv3aB7AAAAD3RSTlMAq1RmmUTNIjK7EInv\n",
       "3XZ/CtNrAAAACXBIWXMAAA7EAAAOxAGVKw4bAAAHjklEQVRo3t1bbWwURRh+u3t3u9272x7REGOE\n",
       "XmI0MUi4RCTWKD2kGLEQTvghMQROkBDhB8cfExDsaQzR2NrTGKF+0IsaE4rCFRNJaAwtBEGI2vgR\n",
       "o7HxCEZSQ0qBUkobOWdmd293ZmfvlthlK5Pc3u7Ms3uzz77vzDvvswfgqnR1dcEtXpSurrxL6B+l\n",
       "kUn84drsVGLhPb1TpVLO5Sk/T2oHbqMPMzflrh1/pc0wCdEXNmoK1KEaJ18vcLFS2v11K2NXOzUI\n",
       "/b6yMY8+nKV9beZiQ8Pur+uAbShNm/Z8FtSE03ndfrIhnaD9VnuiQokLnnMDbDhhv0HmOAaw0em8\n",
       "aMJHNqJF6jCg9SVQz3XsBVfdX9gBK10HCKJJYK6jq5zykY1H6MOI9nXoCG+iCb845vq6TlgRVYuI\n",
       "kYjjBPqcj2ycpg/v1R5g8UKcg31JveT6uk7YGuRAIeSdIceBY03GNzbUcfq4WXMUmGN2NjCwW99L\n",
       "Cpc5tZSjcbG4LP1Vs7ZIDpQZaDcccxx+Y76xEWU6tY5sl0O7Oe+uhZ0pshOMyxP2WqrwsfgW4/J6\n",
       "stO+Z2g6ZlpME/JIofsgjPvGRjszPvygPVhoQT38mMwv4YQx0QRAugiwr/tOqpYaLBisWb4A+JTs\n",
       "XMiAcAzfc69jOHrdNzbuYo6PE/d5p6k+B/IQCYRC6KOFy4NNC65hppZStZQFMFizII5qybj5Afrg\n",
       "IVp2nqw/9I2NPh4b+wHq+o2wMJTXgwMFzcX/AFyBlqyllmaDwZplo9YIgC2mEbUGHW0DGjM+sSFf\n",
       "Bo6nJNF40muwoRb1IDuAPr8DPEzYKNfSYzKDnfvQUOwsGVeH9GCf/GB9Sr84d9yAAwmf2FDZEGkP\n",
       "HgETWlytLxne3zabPKwVRsD+lbWWLjRWefAYMr4zZE166KNfjB+URyvfbCTmExu1vZxVwnbccLXM\n",
       "hvjuYRKDYGgnulf5N0vtAWQKCr47smGw0v40jOmTdsMm4igh1LIKO1Og4Nypfp0NwsrdLthwB6xa\n",
       "IuwDaAPYW9oIQudowVxOkpGgczQP95U2AWy1RpFR5FXwExgbBltTlHv1aUqPvTovTpv+Njkx5RzG\n",
       "DutsLMLfG1yw4Q5YtRxIsvFHlrO4phcaScl1CiSSVXPSMDebtMP5LPGKzsbL+OdyLthwB6webhTZ\n",
       "niSrsbH1tVfd5uigBVmHmEvymhZWGNqv62zgWSgcd8GGO2D1ZbftErtMI/hyosg55ftSyfXln4JQ\n",
       "RprJI6/Sk1RGdDbEhBbCVGXDHbBqabRZ8d6bkgiE2kredtGYU74dGDjtak5xBaxaLtg6JRVvChvn\n",
       "KjVeM9h4ghfw8tgoA612qPDxzn5+JA9TsHxtsLEFJP5SN8ywYQCVk5aGz7jDNwWB10d6Fpdhy6Yk\n",
       "GwMGG7X5MDMR72hOiX1arGtlwwCGrUmVI9xxlYKA2A9qOeaqn4pk4JheY0MoWsdG+UxHSogdhift\n",
       "bBjAld+Z9cFWrtNbISgASoI4/D9hA9LzLdVNyKSF+QEo2NkwgMVnLauOENfLrBAUEcXh80QFT8mA\n",
       "JwqTxK/OVPQUOIiCeHHhm2fUBl10EF55ulgINy1tWkSzcZAsnVV43HLbgTRvZWaFoIjo7Nw7TNey\n",
       "9QarS14oTEH+XLW64igK23HSaVUiElNj2twvZA/fw7ON7cQOVsL58sohmEUDwvI/2QUAgZjlUVBu\n",
       "N2dY27A7CzxSmM7STZVUpr4yGzWof9v+grosWuSt0NgIqDkOGzXkRpp76vPybI2NQE/3OPQqbG8x\n",
       "xHKIqGhJOUZfOJHnjcIUYpyygso0Qq/oZ0IrROMwr6OjIy5klUKaw4buBTj3EtV+qAjSGGTkXtZR\n",
       "EER87IFFs7Q7PwqwpszBHNaQsLrkjcIk0suVCiqTMkGzcRIGoUWGNzTbgOVFe7yhFWQ9dXHMhlIg\n",
       "SRo0l9amYB8+1DcaRBiE40IB10jjoJiL73bWUCPgmcJ0il4eOqtM5VWbztswso6GgJZXFVOgxhyy\n",
       "PYE+UJatx2zIR2FJDD4ZTeEgtTUun4DWDN7EdchuJR2IY9S8iZ7FZlRSx64v7wXPFKZ1VFsFlUm4\n",
       "RLERjMEG2PI3SDil2LZBz+04576wpwjG88gjQzJvw9jrFwpR0USVz2QniGbwTGHSxHcXKpOWnrRn\n",
       "Avd1dKSqZwLl8wcBntEPNpf6IVi2PmNPiampmnMmqvyE2EzgOvBMYSKvRvBVJrCZzX/Mi1oNTuTs\n",
       "2VGknREeSdrOI4XpfrxxozJp6Uk/FAR2EDgOnilM7SSCdqEytRR9YoOrLnmkMK3CGzcqk2/qEixx\n",
       "8pTkpCtMs3ElX2Wiywzwi401zDC4BzxTmBpIBtCFyuSfKh1lAo5u8Exhcqsyif69scBOKm3gmcJk\n",
       "7XUllSnq39ss7JtOWF3yRmGSuFfiqEw+vukEjfQ6Aa+tvFGYAvwXvewq01vgHxshxm93gUcK01Z+\n",
       "Psh2z8FxH9mQ6bdnSYbJE4VpF7fWrjJF4z6yAYPMwyp6ozCp/IHGrjL5+mY1+9a93yWYvlE2fpzU\n",
       "f+usnVJs7NSGZ6Vrv1s2buV/6+gLH/xvnX8BM3/ecaHa9PIAAAAASUVORK5CYII=\n",
       "\" style=\"display:inline;vertical-align:middle;\" /></a></dd>"
      ],
      "text/plain": [
       "<IPython.core.display.HTML object>"
      ]
     },
     "metadata": {},
     "output_type": "display_data"
    },
    {
     "data": {
      "text/html": [
       "<dt><a class=\"ProveItLink\" href=\"../core_expr_types/tuples/_theory_nbs_/axioms.ipynb#tuple_len_0\">proveit.core_expr_types.tuples.tuple_len_0</a></dt><dd><a class=\"ProveItLink\" href=\"../core_expr_types/tuples/__pv_it/axioms/5ba20ac4cfac03c219d84ca0525bd00d74b0bacb0/expr.ipynb\"><img src=\"data:image/png;base64,iVBORw0KGgoAAAANSUhEUgAAAD8AAAAVBAMAAAADRiu8AAAAMFBMVEX///8AAAAAAAAAAAAAAAAA\n",
       "AAAAAAAAAAAAAAAAAAAAAAAAAAAAAAAAAAAAAAAAAAAv3aB7AAAAD3RSTlMAIolEdjJUEM2ZZu/d\n",
       "u6v6CvZmAAAACXBIWXMAAA7EAAAOxAGVKw4bAAAA8UlEQVQoz2MQYAACAUYwyYANKAMxSwKzA5SJ\n",
       "XUESA4MXNgVKngJgUfYGBgaOAkwFHAnsB8GinAsYGLgmYCpYw8CgCxblBvG2Yyq4x8CQXwASzQDx\n",
       "ujAV/GRgiE8AiU4C8fQwFLCDFCwAiXaBuCugCuacAYFzQBbjJ6ACB5DoMZBENoYJYAUKINHNIG48\n",
       "phVABfYOcAXWWB2ZnwC3IgfDDQx3GRjWg715BcRbi2nCagaGGWBRPRBvEqYCngT2rWDRGBDvMKYC\n",
       "9kl+AWBRHiDFeABPdIMiChRhuNPDRQYGWbwJphasBocCV1CgOrAIQJkYAADq+TiDa/mHSQAAAABJ\n",
       "RU5ErkJggg==\n",
       "\" style=\"display:inline;vertical-align:middle;\" /></a></dd>"
      ],
      "text/plain": [
       "<IPython.core.display.HTML object>"
      ]
     },
     "metadata": {},
     "output_type": "display_data"
    },
    {
     "data": {
      "text/html": [
       "<dt><a class=\"ProveItLink\" href=\"../core_expr_types/tuples/_theory_nbs_/axioms.ipynb#tuple_len_incr\">proveit.core_expr_types.tuples.tuple_len_incr</a></dt><dd><a class=\"ProveItLink\" href=\"../core_expr_types/tuples/__pv_it/axioms/31e6c515c8bcc36197a8784e24d8800658bd23ba0/expr.ipynb\"><img src=\"data:image/png;base64,iVBORw0KGgoAAAANSUhEUgAAAbwAAAAWBAMAAABJbjTQAAAAMFBMVEX///8AAAAAAAAAAAAAAAAA\n",
       "AAAAAAAAAAAAAAAAAAAAAAAAAAAAAAAAAAAAAAAAAAAv3aB7AAAAD3RSTlMAq1RmmUTNIjK7EInv\n",
       "3XZ/CtNrAAAACXBIWXMAAA7EAAAOxAGVKw4bAAAFN0lEQVRYw81YYWgcRRR+t7d3t7d7dzkpCFIJ\n",
       "J2oNtYmHxkCK1INoCUr1sP7SUA4UpP3TDQiSquH0j/5Ik6CWNP6om/5QazR3sR4qxXIoIdVaOSVq\n",
       "SAlsVIgSAkehTTmhcd7M7N5cbrYX3T++kNk38+bte9+8NzNvD8CT1hfBB0XIHyUTfFNEaCWCJjK5\n",
       "6KYISr5c+g2MLD4TKf/wQja27H1bjEjpkKNTgiT275TD85a1JKXI3bnXJ7Qzl0jzuxweMQKJTOOY\n",
       "tkTG0lynBI/i2AtyeN6ylvQ+d0fP+Q3d8+Q/bEnhESMQLzYMTe2vkfYI1ynBa5in43J43rKW1Mfd\n",
       "UdN+4V0h/8GMFF6fwB/kzwTC6+Y6JQrSSMnhectaUpm7E/O979Bd+E4KryzwXSK8mMV0ShAkyxv2\n",
       "OFq8ZS23Xo67s8svPKOC7XMyeErOC144zXTI6Xhpefmi18npKWtFapG78zjm985VW5ANnh9ucQ+I\n",
       "88PtKyR/ZmXw0MhMnwyegYfiLIXQD/AuOQJMGTwm+w+Ey0fdwWUfMKM1Idvm4T3rpsps/gesUzii\n",
       "bwD0uPAOLCP96BgpDsjgBTGuPRTCIEQIVoOtV2ShBA8lXXhMtm3SDjtcPMXd+Yms3DegVkDv4aKP\n",
       "03AA9HO3eEJk8+E8691nwQ8Ae2TRI0a01H4ZPAV35R4KIWo5eqO3nYA7DEu1XHh12fZop8PEstyd\n",
       "OZJDVTy9R9e56EmAy6BSBB6JXRVPe+L+3wBjMnjEiI7YaUi/5yGl8LQqUB0CQbH56aH24yVuZ4x6\n",
       "crqybdIFGbzYOBQI28lF34J+FdqyketeL+HzOV2GELkaBjzggVKTRS+E0RtghVduH+mv8NKg4+5h\n",
       "AR6VwfS+z503Cmw9mc6u8Y2r3VixmpOzYMPD4MLTb0CwCkHLGx6bfyjpXHtqjSk37T00Ek5asuSs\n",
       "MIMI4VNyx8+0WTq9vzuM088K8FCm/6ptOEjqbJ0+Mcc4vMSSUyJFbe7OKeJuCm5VTOohcUW/AoHc\n",
       "PezAb95+OvD5x+wak1/HzQq9suihkUK2KDtaEEsvg/AKWadjnRCi9UUHZP4S4KFMzWhliNATlLJP\n",
       "/dFo5xEYIaaovXSQX0V4MlN3ZtELZUGli6lfo4A7M2QRjlusW8hBnaENnR85XWHDO+Adfr80wUMj\n",
       "Y5F0Izxjg18ZqIMQAnlqNHh4cvItAm86LMBDWSybSMLrSyzbCVvWqw1W5mDF2Qx5laeUVuHuHCfO\n",
       "t38x+CfLr2USj6m1N9rzbLmwG8d4LwBn4kvOfAwNnf4Z+v+zDB4aCTzQuPcCt1/bQV6TZTrOR49e\n",
       "y2tFFr1Q15YPooIZ3WvBksuaWrkhnzbg7Y8Ueoy3Qcwp4Ra5O/G8Mw/hKW46vggviV2Xdrs78ENB\n",
       "HqlIi7JFSdVC6VWuU3Lrmwy7wB8ENxaOLGaOHaTwpjkbzRJWL9KGPOa1q3uVu1Act3odA93cnWBG\n",
       "hGe4hcnJNx8TunVyb4RdqiCnhXkzvG5JSe3W2qjjRq/dhCGy0NovJgS2wAv1dZ0FhDeSYmw/sto8\n",
       "jJjavPY1PH3/WhpO0rEn3GIqanJ3JvjAy0dJgGfcM31zsyp066ngvmBqVZAPyb/3oh6/BNCvnKEt\n",
       "X+T6l5MnvL/WMTlZ5hmW7bAYd6ZbSQljODDO3TkjvsRudMNuciwhl0/I4ekeH2sU9kSLHxy+ElN7\n",
       "9GIKQmwrHN2sOCyhZ9jjlCWMIQ1Dgm67iO3/x4gEjVIi3yTwqM1Xuc763L+xEpSxaZn4f0P/ADQw\n",
       "jR6KJAN3AAAAAElFTkSuQmCC\n",
       "\" style=\"display:inline;vertical-align:middle;\" /></a></dd>"
      ],
      "text/plain": [
       "<IPython.core.display.HTML object>"
      ]
     },
     "metadata": {},
     "output_type": "display_data"
    },
    {
     "data": {
      "text/html": [
       "<dt><a class=\"ProveItLink\" href=\"../core_expr_types/tuples/_theory_nbs_/axioms.ipynb#tuple_eq_def\">proveit.core_expr_types.tuples.tuple_eq_def</a></dt><dd><a class=\"ProveItLink\" href=\"../core_expr_types/tuples/__pv_it/axioms/1eb3a9f2b67de7239ba27a19d778534a9eece6400/expr.ipynb\"><img src=\"data:image/png;base64,iVBORw0KGgoAAAANSUhEUgAAAukAAAAzBAMAAADY0ItYAAAAMFBMVEX///8AAAAAAAAAAAAAAAAA\n",
       "AAAAAAAAAAAAAAAAAAAAAAAAAAAAAAAAAAAAAAAAAAAv3aB7AAAAD3RSTlMAq1RmmUTNIjK7EInv\n",
       "3XZ/CtNrAAAACXBIWXMAAA7EAAAOxAGVKw4bAAAKW0lEQVR42u1cfYwbRxV/56+11/bZogIBQYcB\n",
       "cUQNl5xIQCKqEqPQqqigWID6R4hyLi1CrSq6J/HPFZq6ompBOnIWJQqJIGyKVJqExE7a0gLq9WhB\n",
       "oVQFN6QlSjnJ4SqlTehxuiq9yhU182Zmv2Z2fdndw6ySjrR7Mztv3s7+dubNm7c/H4BnUg8d0uHd\n",
       "tNJpGVjz3W65r/3J1C5ruA8ysDPdbr0X6pU+d+uqy3uQp8/wTDxKqA80nWWNHMoK6NUu8ZqvpATo\n",
       "3EgUUf+MszhYIqd/roDeHfIlqjtUSrbZ4Sdli9FDXTnhLK8hR6wZcuX6aYtAPCpdXxOyr/f9AebI\n",
       "nzmfzf4WPdTzzpGjVsnpobBKU+gP3Ca9jGpYvYuQImtjyqeP90k9cqhf4ywmcIRuCau0gKZkg3g1\n",
       "MRrWvnQgTt5nvBxgDEQL9eecxRyeZsIqHcPRlROHZC6s2iwxXH8Gdvh5WUtRQ32w4ywPo1kPbQme\n",
       "pENMHNrDK2G4bgZ2+Ek3RQ31fNFZvgEtAS6m49M77WvuqnPLeA4O+Zvm32P5Dg7dMD1n35Q5S3Ky\n",
       "149PTxHDdQzY4Set0yOG+pTw1DfzQZo8AT+3WYjtWqbTexZTeZU55OqbekODOE6ZxCxNRUP3XaWE\n",
       "7eGdJTnR+l/a70AdXers2jUvkxrtiKH+IaF8EntAhtSvRuFLAL/gtkZ9BhItOHzsg556mHyWTYhY\n",
       "B3JtiM246H6Z1KjmFgFLvbRiPUybd7gOHRJ++Ip5tCKG+u+F8h9x1SM92IqPnJ5vce9jAfJNKCOw\n",
       "HonKm85KFQpNSC/IuhM4Y3a9bshhqYfWREe+wxQ//KT4UrRQT7/hgfqzoF4kg5ajnqtDowIX4W5P\n",
       "K8zkjUdowlgJkjOy7lzdvkenpR5ac3X5Dtv54WvX9ka0UB9ccrcw6jsQX7BQJ4ZxM8BGb3yYfPKs\n",
       "6a5v1Vlju/U9aVjYEbu97aGV1u8o2u7A2o74tOtsRkcH9Yw4HvfjxTaoizBQ/QQFTsXHL8H7Yhr1\n",
       "COV9IQow+aMFndYXamQhkJ+S6C6QhbpCUcNWrOStFeu3tTu0mvcIPgvs8JV+Fi3Uc2JPjvFw0X4Y\n",
       "KZcp6o0qvofYqQQNmqpvUh8F2HUzw+TvHGFXBkYzZe6ACrqJS5KtUdSxFSsZWqkeh1asv//BFrvA\n",
       "ekTdzxv8PuZTHHU6MT7mgfoAdQRG+4B6Q9xc/xCNPcH6wIX7h2oU9fwZgsPQE+OvAkyQMTeLw/IU\n",
       "9rNsZDCAzeT3s3p11Ra34YO6f7f+PLMQtBUtGVqpQqdWrCczj1azO8CLwA5faXOFoX4tFr7pgXoC\n",
       "hVJaH1CfEvc+ebSxp40SNc1Xm1ulsqJBTDYGpoDaqdnq7wI33aZdv/oStTYeBlu10mJHgMckqN+D\n",
       "GuoeqKdxJkz0w8KsK4lOVtket6Kom4Zi4vv36pCVlZgCsWrZVi/F0Myo1Yi91XJah4lpyzoiaP6j\n",
       "aHRKE9QxWpktedl1DJIe7wfqmyX3YQ8up3yaKb9+myys5nT4a7cLcFRe90wBdUiz6l3G1B725zt3\n",
       "TNtaLaf1wDl79USg8VgoMtTj5H2lPFfT9eRvtR+o/1syYwfxie2ADTrr5XDMoHt9RraQB5dv5V7f\n",
       "dry4Pf5Rr3Mf5vnZ2ec8Uc/Nzv6j2Q/Un5LsqYJPuHMFVJ+TLynt0PsLjR1+XbUqR/16gH1ghItE\n",
       "1BM1yOj9QH1rX+7yf0/5Fkd9HJSiGS5STj0G1xQt1EnVuB+t99V9DnHDnH8YrgzUZzjqGT3L/dld\n",
       "H9gNH8nqCd22S9oHj/nROuDTHN0NVyjqsTZfTBPX436pXc7a96Zr/S2muZq/Xrx2pVoYqG4CGi6i\n",
       "PIPVH9/pQD0VJ6ZHfeSCYfYPb3pc1mVdnJqnMerpTUaVlbNSdq5ttPuWaWrkdcVgIQVnIrm21ILr\n",
       "Ui7tDuZtNO/VFI4Tp/xoQWde2ursg1+zo54dJoPwiDbFFah/Ty/JHq118XX9Fdpy0tQxKXfoxfSM\n",
       "0e4t03OUJonJQgrORHKjCQUlILnTjrz7tgPc+E+5ooH6d0nuzhFI0o3Waii/Zkddwdjk52GSRSkg\n",
       "USaIffkVZ2CDXgT60h6gH7W+AA8zccwl117rvHOirtaoNGm34L1LMlhIYZhILjShNWF0ifpI3w4+\n",
       "7yKbvr2M3CeZ/1QoG6gP1GggLX7r3r0/IqgfTjliju8H/ApwFtIjCGOuMliEGdX5cYZeZOlP8Dkq\n",
       "z8Xp9wNoCO+7YrUzXZ51YoTKZCGFYSLJNKHgBCQ77cjYzGPfbnHdDZXotl7iPzWaYIv0qp1ausnG\n",
       "enKtA3WsXIIHDkEe79jQMht1jVsIUxVeXENn3wI8Tc5ob6g45hQQjEyBWCsqTdqdN2CZEoeFyUIK\n",
       "w0SSaULBCUh22tGRqhXhWXQTHtNpDGmDV/TLChftw8ynAc6KqMOJ9MWNCONhyGlTX9EhUyFZtWmc\n",
       "6MWPlrFwJl4n529AFsV5DnaDQzxVgSaRpu2+p9unnmNG4GkGQjKRJJpQLpwurm/uvezvDKWBuaQn\n",
       "GfdJ4j/RIJ811oc0mCCWJv2SxoLqDtS/+qkLowjjZCm5Ze0jdDs7WUqfgEkNT+xipgbpp+HeeTx/\n",
       "e/15FOc5sr91iCtbNulE2lDGbybOfIOFFI6JJNGEhsPp4vpaP+BjldHA5HQLo5VI/CcabnJ8S1J/\n",
       "s3e3GBGwF8l7Y+Ysq7eNLCaWOxIjvWB9McVZ7reDIImjtMOZGBCHtMFCCsdEkmhCIQhIFu0o1mTf\n",
       "HLBvqaGzolekrHp1kX0Ik/hPdDPo4wte+l/HIckmzB3dlpFFl4rlMucBttHcNkOc5VLd/4AkTqST\n",
       "jtkX77iMLGO4BGciSTShEAQkk3YEKS1GDSL2rXGbuiTcg/UvXmWHIz3rE3Uq7pa1XRy1nZ05F/G4\n",
       "09cSFyWDhRSOiSTRhEIQkCza0T0A9Ncu2Ld1OvxFcJOeQR4O5T6J/CflnQCo/y+TFwspHBNJogmF\n",
       "ICBZtCPiTc8bPvB1AG8LLWj/KPdJ5D9FjYUEX+yBenAm0nYX1IMSkEzaEfr8RwzUX4bkotSC9I9y\n",
       "n0T+00DUGHdjFU8LE4KJJNGEQhCQTNoR7pESJd6/RTYbbPdg/aPdjQkOTqEdMdTzgsPOWUjhmEgy\n",
       "TSg4AcmiHeXRQld5/97CVcT5nlj/EFsR3816xFAXnRiDhRSGieRCEwpMQLLRjmgY9Se8f1fBj4Vb\n",
       "8P6Zbq8tvQARQ138hYzBQgrFRJJpQsEJSBbtiPo7u3j/Djwq7oR4/xA+AcLo/UKGzz7r7mhoT0M4\n",
       "JpJMEwpOQHKjHZ3u5eeDxH/KFCOHeqopB64cEaQATCQ51hWcgORGO9rQ43lcIndjeuRQTwu/8jVY\n",
       "SGGYSC40ocAEJDfaUcb7wxRyn0T+00mIHOrWN1SWDBZSGCaSC00oMAHJjXakeuNnHzA8RfEX7SK/\n",
       "QEEUdkIYJpIbTUhpB9cl6/Pu2zmQ+E83wqWgvrHP/5Xn63BZpzT7sqQeOtoT9Xf/K8+Kpod4cLbb\n",
       "rf8XLOfadpJlcVgAAAAASUVORK5CYII=\n",
       "\" style=\"display:inline;vertical-align:middle;\" /></a></dd>"
      ],
      "text/plain": [
       "<IPython.core.display.HTML object>"
      ]
     },
     "metadata": {},
     "output_type": "display_data"
    },
    {
     "data": {
      "text/html": [
       "<dt><a class=\"ProveItLink\" href=\"../core_expr_types/tuples/_theory_nbs_/axioms.ipynb#tuple_neq_with_diff_len\">proveit.core_expr_types.tuples.tuple_neq_with_diff_len</a></dt><dd><a class=\"ProveItLink\" href=\"../core_expr_types/tuples/__pv_it/axioms/0b0a503f51c899e8f458ba72ce7dea71357f449d0/expr.ipynb\"><img src=\"data:image/png;base64,iVBORw0KGgoAAAANSUhEUgAAAlwAAAAZCAMAAADTyAB0AAAARVBMVEX///8AAAAAAAAAAAAAAAAA\n",
       "AAAAAAAAAAAAAAAAAAAAAAAAAAAAAAAAAAAAAAAAAAAAAAAAAAAAAAAAAAAAAAAAAAAAAAAeYafp\n",
       "AAAAFnRSTlMAq1RmmUTNIjK7EInv3Xbt5cnn9enzas/lfgAAAAlwSFlzAAAOxAAADsQBlSsOGwAA\n",
       "BlxJREFUaN7tW4mSpCgQlUO5hD1m1v//1AXkJkGnqtaJ3mgipmQSSJ7kMzNBe1keLkhrzZbv8j8v\n",
       "xpoZPz7r9tWXjXWV3zH5xzp+GlmemJBvcv3qI4nbypNlNYMGKmGUjyPLCC25UGrG5DFyPT3p5wpW\n",
       "beVhbsPrxUWPUopdj9TM2u4UYHxElhBactE1mZ09Rq6nJ/1YkVtbedzzS0gqOIRyoxM99E0cdIQs\n",
       "Xi25ePQiTDwXFp+e9GOFkrbydCEQKTgCUR6T4Hi8GTj78RFZupJMNIWfI9fTk36s7F3leQiA6xIM\n",
       "QrkecpwiTdpupVjA+IgsXB25YlL/kJ/fqp3EF0vv8dZWfkNc7H3mikCUapJWKf0eCmh8RBau3sa7\n",
       "dmVXT5Lr4Uk/FhVVW2FIGTbawk0bb+7wOxUK9WvKQJQbMgYNQsOs7ZYZgfERWbh6clGfDAr5KLme\n",
       "nfTjXiNW1t3aVQxCzLTxZvTpVZDsNKl/QvXfP9wvalHKwyYf8gB3TLO2WxsbaHxERoroxFD8caPK\n",
       "/vzySS7nK0fKoYYtPpHFpF+mpEPnUJG7fzrhEDNtvGnDUkVYYLxfOK4IDntO7qDnnLXdyg/K8dHI\n",
       "EVm4nqmP8x8qHA6ocj5dcoNp6jqRvWBEudcrR0ZttYYqyyon/Xzhm7gluzs2pqxrXaGHv0kfhiRp\n",
       "8rCiUSqF0AserNQfF5gfrXejMErq8RwKgJbbXkSWdRdGjsjC9SQXNtPMmhskhMWL0aJkfRYsRonC\n",
       "ZVi8mvTdgtQ92d2xMLl24UPE6lfJND6qaKQvurBCRREpLxxXBOc5uR4YgJbbXkSWxkPI1tJzWSOT\n",
       "sYOkNBAT204WS7nyA3Ihdk2u+aTvb9j5PdndsWBYlIe7AxIeWKybtCQ3Onqwg//qTdT6l24an3P9\n",
       "/OfMvFCL0pue+viFNXRK5dpeRFbo7pGFayCXwuHcaTUZojTUacjvGzDHq924wOQqR66q0jAgV5rU\n",
       "umZiVMtHUAibAOjJD7uZkdcy0FOP+wlTVaRfY7QtmBVrG++qaCQymvBWBJJLryItMGme6P7IPqB0\n",
       "851JWwutaHsRWdZdGDkiC9dALhbyKGmWTEbqz0tkvhXMbVjEK0iuMJIKV/6w/0jSMCJXnHSRmlmD\n",
       "NuwAhfD9Qj2Nlouh1zKoTPqlY4BQcWbEmp4bm2BBu5Fa+sZwMpQac21SKVRk09A6aGM6QomsDQRd\n",
       "IGhlW4sMgNGL8vjCyBFZuMazTHT6RSaz/5RyUXb0SkpyWVVGQOQqR0ZfFzSMyBUntXHXegsfplk+\n",
       "mkjCFRs6zfvz8MKROnK7LLbQGGWXCuPY7lMDO4+uKxIZxRkyvHQPWsu+0Y6QZaOt0XEldsoq8gLr\n",
       "9cJxZXAqvgdqoZVtHbIeT48sjS+NHJGFa/fJjTDNqQ7ZvDMS+CSXVFUWLoCRha+DTpM3MEv2Pp/j\n",
       "tPJZuLvnZZohxZ5t2kRRpTHKrhWe/eCkiw+3wTmxwUCESSzHd8IP1CksMKvTJ/DjjA7cDNrbyKKR\n",
       "I7J4bcklD1ngcrGGq8pzueceJNc50oXFP/8SISyeGq7I5Y/iBJEOtZadkCW/NEp6Y09cHIY49uy4\n",
       "1JhkVwrTWAK8I04ioC1ZELA3s90ZGzQC4Re6z9M0zRtz8COJDtwE2vvIopEjsnhtyWXDJ/XuybvL\n",
       "vT5EJ97bVU5CNCOX+gU9ZETAc7mcaSWJXH76Qri4c5BTCv2knvhMP7zQKjrTypNctexCYejHGPRZ\n",
       "TXpFLNiIXNIA3oFz7oOsvLNDhjqFBW4+IyEwI1pwY2jvI4tGjsgSws5zIeMfbJxpxOKnQlyfByow\n",
       "uc6RS/1Gx6A75FopwUaRRAU/fSE8j0K8lO+s/ql6iqIjNecynOSqZRcKUz/Icinoy2bTxtR2nK4T\n",
       "MNJ+uDJoBLYUkFnPBW5oo+FQVoObQXsfWTRyRJYQjj5zxkUslcqFOTgF7s+5sFmmKdf84DSsVXWA\n",
       "oWS4JTwCmraN4b8YWH38gkIE3XR6i8z+w1O6sXHbI5dBvwfBBSNHZBnhgFyrXLaV3/hkSUy4M9Aw\n",
       "fRWw+++71vJx3OyDpZdWmoFWKa9shFFjKbuvUC/f5YpZE5oMyGWl1FD5ArlwftgHGm688iG3peSd\n",
       "jnOZwZh+k+eqzGjy7l//vPDJxvZF/m4Ro29uvRO/td7JvzYzP8AOzrwyAAAAAElFTkSuQmCC\n",
       "\" style=\"display:inline;vertical-align:middle;\" /></a></dd>"
      ],
      "text/plain": [
       "<IPython.core.display.HTML object>"
      ]
     },
     "metadata": {},
     "output_type": "display_data"
    },
    {
     "data": {
      "text/html": [
       "<dt><a class=\"ProveItLink\" href=\"../core_expr_types/tuples/_theory_nbs_/axioms.ipynb#empty_range_def\">proveit.core_expr_types.tuples.empty_range_def</a></dt><dd><a class=\"ProveItLink\" href=\"../core_expr_types/tuples/__pv_it/axioms/a96de2387feb1b6e6d0957c14e9b9fd9aee93d570/expr.ipynb\"><img src=\"data:image/png;base64,iVBORw0KGgoAAAANSUhEUgAAAasAAAAXBAMAAABHQH3kAAAAMFBMVEX///8AAAAAAAAAAAAAAAAA\n",
       "AAAAAAAAAAAAAAAAAAAAAAAAAAAAAAAAAAAAAAAAAAAv3aB7AAAAD3RSTlMAq1RmmUTNIjK7EInv\n",
       "3XZ/CtNrAAAACXBIWXMAAA7EAAAOxAGVKw4bAAAEe0lEQVRYw9VXTYgcRRR+89/TvTM74HUJvQge\n",
       "RMmCG8FLHMyfUZQ5Gg1hQETIabwEEkxcj8LCRjxIgoQOQiARJpMgXkQYcgoRZSMK8WdgVhdyC3sx\n",
       "gfWS9179V3WagfGSB1XU6+97XfXVX78G+F+sIYvtOw9cJLTB7P1I9iAXHsz+rhnsb1lsH2rTJzBz\n",
       "7MTs/Uj2iVxYIR1yn51TVXkkCkD1+0z67S78Y3McxLHoD3y2UtyDiYboIrNzIhBWyCHyP5xT1hVZ\n",
       "AG6sp7LdGkE9szgOYtvlw7tYnyzuwURDuy/YJ3OHIZFPaUuen1PWAVkAbh3LdBsq9rI4CO9RNd1t\n",
       "krVa3IMXvZobccAgNKNJOqessSxQ29U+2R1LhIvQlpnashayog78aGKHEWODVHDO6vMerb4oOEGb\n",
       "ymd733A8JJBVLzxcfjSxgwiGFfLTZPLjnLKqI1GgsnS3K/0h7YgbmuIjgaykU9CBFQ3DLckOIhhW\n",
       "yOsAFzUSizt/jVmyd3wUWcFt8NnW3C1OlT86jo2XDddDAlmVftHEmWjoLqwItoh4a0J2V8MK+Qga\n",
       "JDs+SA8T0dU9qprijfvo7lqTr/8aA8w9INnQSkUB+GRN+lF6GBsvmIF5SCCrPC6SpaOhPVhMBTuI\n",
       "4CEopJklPRKxb81jCVmxWmpavOgB7vH3gk4XeqIA7FV+DD9jY8NwPKQ6mfyF27+jZUU7RbJ0NIbv\n",
       "zQQ7iOAhKKQ85RtjMbhXhKxqz3bLm+B+jTxZP2i/TGM9bjgeEqxWrXC1TDRuO8kOIhjWSH8/9bF0\n",
       "k55t8QJtp0ZWi07pa7Ys/TkQbGcTfq79egfVv2j69JBwE24WyTLRAH9KtoiwzpbYhAq5yZ/rV6ga\n",
       "8ppVxUUqZJ2iU/qcLavchaMX0FaGaoWbU1GA95doX++N5EsFyUPCK4NSgjgU5EdD41/JrvhJBMMa\n",
       "+Zg3+EGqzvD0Xku6RtYx7Cz71pZVU687oxZDX7fcpWhvNPAKepOG+hByEFtW8kjdztf7ks+V9uxo\n",
       "qOzYnxTn49axkRLfFV8wcklf2ErWsvisHr3wFa4Py4r0LF1SueqmKFDe0X7pJWz8Rt4ky0EsWaWl\n",
       "h8/gDqKD0cKkF34FWbW6OdFQou6J3ep5shj2kNt8qnZZ4uLAyPqMqke5m1Cy5QeBSrVjfJpkkRtk\n",
       "IeKsFttZrp8PMxg/emEq2WcD7r0AiXF/f4PpRzfGBVwH98qIxras9lQnK10381yup8an0fCqJxAi\n",
       "Tqqr01T8VIdpkxtdSl/NnNzattUAoZGvp/GeQXQLYMuS1cSVa3ek2/juvyk/EVOxR7XoEZbfr1g+\n",
       "2mmuh1h8JPyv5Z0dhz+eXvRG+otk5/x24Ms9hP8heE7KKkMVsmojedaaino1HFR8nsv+I5aP9iXX\n",
       "NFQfyRuRm5gp86Kr2z0zjTnDcJHmMh6TGl+m79bfGVuy4Ah8sG6liPQgtHOy2D7mOU9g5tj92ZLq\n",
       "c4Z9Pxd2keQBrRg3V6rbmS0ryd5+w8mme/BUW8P5IJqVfhrG/hidIl/FSbb1iAAAAABJRU5ErkJg\n",
       "gg==\n",
       "\" style=\"display:inline;vertical-align:middle;\" /></a></dd>"
      ],
      "text/plain": [
       "<IPython.core.display.HTML object>"
      ]
     },
     "metadata": {},
     "output_type": "display_data"
    },
    {
     "data": {
      "text/html": [
       "<dt><a class=\"ProveItLink\" href=\"../core_expr_types/tuples/_theory_nbs_/axioms.ipynb#range_extension_def\">proveit.core_expr_types.tuples.range_extension_def</a></dt><dd><a class=\"ProveItLink\" href=\"../core_expr_types/tuples/__pv_it/axioms/37dc76e7aec5f45735897544f11e03818c2b7d1a0/expr.ipynb\"><img src=\"data:image/png;base64,iVBORw0KGgoAAAANSUhEUgAAAokAAAAyBAMAAADCa1yNAAAAMFBMVEX///8AAAAAAAAAAAAAAAAA\n",
       "AAAAAAAAAAAAAAAAAAAAAAAAAAAAAAAAAAAAAAAAAAAv3aB7AAAAD3RSTlMAq1RmmUTNIjK7EInv\n",
       "3XZ/CtNrAAAACXBIWXMAAA7EAAAOxAGVKw4bAAAInUlEQVRo3t1bXWxURRQ++9fdvdvdrsqDxEa3\n",
       "UYQYkBqBhMTAKj8lEkwTEyNCSpEYIz6wvpig/PlIUmmRECxRc/GBBElaIPogBqn4IKhgi0j8q1mw\n",
       "kfggNCg/6QNxzsy9c+eemd3evtzeMrmdO3e+c87M/e78ny5ANML7MDXDITtClYm1TlEWM79GqDIP\n",
       "+B/TNJ02KaXNtirBikzXy68Ervmc6JCY6PQ/X6bpVNWgddlsrCNYmTW0RVEdgaueK0aGxS3+bx8/\n",
       "gnHyC9tJF8rwp4r7EK2DFcYZHTxtyOwn2LsMwqIKwUeYHyPD4h/+x4M8PtpVctL5I9CgjuI+RA0H\n",
       "lo+xeGP9wjxtKPj7gDVtEyuGF7UxcN1nR2V+SQz4n5fw+NRqW6YhoTY6H8J7odt0CsjivPqladoA\n",
       "z7uJa7ZT1LzAlW8oR4TFRn+LAk5qasxLs/Ctwpkfwe5ZVVlsrNs6dG2Ax1UWeVGNgVtY6lZEWLzm\n",
       "r3Kc97PcoJdmYYMyoPsRjcWGuoOark1Z3DCuDV9YHxEWh8jwj00z0TxUdtJ92PuOev2fIBqLdadN\n",
       "RRv6LhlZPDqxqXduNAbGzG0y0vB20FR100fWssQCDyeIxiJdN/mDpw3lxlYTiwukjVXDGIbqV7+/\n",
       "Go2NC5lc8jiHwvYdTjpTWo5ToYcTRGMxPlCvNKkNhUpTycTi7HFt+EJ2MBqTC+k9je28o7hpC86x\n",
       "RLfShfxIcnj497PDw0XJYma0bgeUZViiM7IG973b4DiL3ePa8I8R0ZheultNLJ6Q6ThSs9bDCaK1\n",
       "xVTddnRCKWOVcVxcO64N/yrz32hM0RVTj94t0w1F27dfJYjeo+t2sd1KGb8ZWZwjbQQaF+GrSLD4\n",
       "AR1oOCfnZLq/nU2oC/FJcEYQfXbpwRail0O1IX3DyOJC10bA8GEkWDxj2uA7b4jp7jTr8iuRmZtg\n",
       "QFQWc7fcVUx/pyPPI/mkakNilLJ4ErvFStdGwHASgA/KD08midZ/dOWDvSk+KtOxJ1niJ3watg2I\n",
       "wmKs+eZ9rLfimJfHg78L4ET5skEbYj2ExXt+WN8qiuI2AobF7bAM769O6nLxDs35GRtD0UtjExI7\n",
       "DltHfG2Rh608fkwrSNNurNK2KIvaOpHZsQrvoF7PZLIYv05z5gG0NJRkmu9neNfNgY74TiOUwwy9\n",
       "SxLtWGmxTU8jZFFLJvAC/WV+DpQrTeqJzm1tHVuBXw56aQybedzH/iiiBdEmLH1HQbS7S+eN+psn\n",
       "2q6aipBgzDdM6uRS0FatVg8savPSGPbxGJmhCBi+AVrVAaKdHDGPffvqfCEzi6wibNn/3aSymBvT\n",
       "srbRdMH0VtvM9q4EK3ZbrY9aCW7D2SWwBcAKAO/c3BK15VvNJLjxTAedyXD1G8crroL3sfXAtDPY\n",
       "NArSJjnCGYOpHfJsOnoD0jhtWUtxUM1VvekvC06caBcwuzO87PDNMuZLBfa8wMCRowX5HahWdm1C\n",
       "+sJn8JS7e46NTnUW2W4xa+dwfMjO30HHFzc+4MAHeMYaB52/w3J5QGJ3/cOmSjovelqotkbY3DV9\n",
       "L7Tk7KR9N7EYr/LJpUk7a5QsLnPgZeL0TwiyjKQ7OvNhHnef1OfjaaEau5i15Apc5lfLubuqR0Pn\n",
       "Ihzimo/huosf/lojJR+Lgw48yHGxLMKMvKsgWTxGVoJCC/qe4WrsygpHJcyasU2ymNNPlkL06leC\n",
       "GxbCFePsAsd4C+K7/T7eIpPCKeGymO4UMLsjHhcDI8t401WQLD5C7AstKD8KqMaurLM+mZX7eI2c\n",
       "FLX1Yphe/Y7ghoVwh/l8dAsf3pZi9BY/f/okV1ZZTPUImN0RT4llGstY7SpIFlcT+0LLsj/ld3Zl\n",
       "nW3GLCj/XXvVHaZX3y+98rgsfqdtNq2bb8JKxPi0sodnfCTGsFaVxXhRwHhneEawyDJauEKyt/dM\n",
       "7x7B4k5i39FCrxpTyyCLidd6e99jLB6WS/34DVqtUL36qnTu/lOy+L+ghmnNfL9XidN8RBzjjDZV\n",
       "VBY5bac5D4g7Pfo050wo1OzRpx3Sb3k9OnNEtMWUPAHIaGfFoXr1VenGGfvpHlo3Pc9wGuGu7JjM\n",
       "YYh3li32ll1AZxeE2Z3hUKgyQZ6RB56hsHiVQcyAE7lakGFLAabGrqyzxGcrzUuyFvRkLFyvviq9\n",
       "ziaGTaY183PlMQS+aFfJerCSOeW+oGRxn4DZneG4xWRdAjNYCjMEi29v+hIlukqZb6CrglHJ1YJC\n",
       "kQvjxTb7rPVmLlYgJmtxkQ6LfHILy6uvSp+ghk2mNfOex4P3GLGGcWssWVzjwGJWPcQFMUMusnuU\n",
       "8wHveKgktbDcQ/xi1qzPe/f6a9FMh/9QvfqK9BNnp7mQdbVYy7Rm/iG5wm5hLSTFm+pLDS8O+FlM\n",
       "VjjM7pjRhoIio03Zu4AQSMnm7golK690Cdk2uQMkZ8Wki4Tr1Vel70goCV/XMq2Zlx6P3FUU4cnW\n",
       "5IjtZxGOc5jdQWyqE0IecuT157s2+EcHV+u5Z7kaahpZ7CbHm+F69RXp9G1Z/BW4Xss0NZ++M/7i\n",
       "HmPXn2YB8a0RFs2juuVEVq1dweR69RVp4ZPhxdvc1W00Tc1HxKufHDCxGJZXX5EWE4+AkoO1TFPz\n",
       "sWj8h0nqhqlHh+XVV6SzRQ9y1/O6aWq+qRqNQ5EL5DCJVyssrz6XFpDwCYrit7dDDdPU4b/YjgaL\n",
       "pB7hevVRWkAOc2Ils5iuF6Vp6vAfigaJ9D+Sw/Xqc2kOORMPh2A61DJNHP6R+Y/kBDmnDdWrv1VC\n",
       "8LRi+FxN08Thn43MD15e9z+G6tVf4kLx4svS8L3yw+qmicN/nR0VFrv8B8hhevWFNEL5/Z0ulLme\n",
       "L9UyTR3+5yPjuSj4axamV19II5QYqUjDzy2raZp8vAj9go3+mjJEr/6V4IaFMFF4ITokQkMJpmbI\n",
       "bIxSbabqr8wP8rnlf8ODJ51kDGFUAAAAAElFTkSuQmCC\n",
       "\" style=\"display:inline;vertical-align:middle;\" /></a></dd>"
      ],
      "text/plain": [
       "<IPython.core.display.HTML object>"
      ]
     },
     "metadata": {},
     "output_type": "display_data"
    },
    {
     "data": {
      "text/html": [
       "<dt><a class=\"ProveItLink\" href=\"../core_expr_types/expr_arrays/_theory_nbs_/axioms.ipynb#array_eq_def\">proveit.core_expr_types.expr_arrays.array_eq_def</a></dt><dd><a class=\"ProveItLink\" href=\"../core_expr_types/expr_arrays/__pv_it/axioms/c903e5650c08768a9af4af964efcf8d2cc5526440/expr.ipynb\"><img src=\"data:image/png;base64,iVBORw0KGgoAAAANSUhEUgAAAyEAAACiCAMAAABh/DIqAAAAQlBMVEX///8AAAAAAAAAAAAAAAAA\n",
       "AAAAAAAAAAAAAAAAAAAAAAAAAAAAAAAAAAAAAAAAAAAAAAAAAAAAAAAAAAAAAAAAAACGKEuzAAAA\n",
       "FXRSTlMAq1RmmUTNIjK7EInv3XZAMGxgr3zKxjj6AAAACXBIWXMAAA7EAAAOxAGVKw4bAAAT9UlE\n",
       "QVR42u1d6cKjKhZ0F0HpuXOH93/ViWtUUIstmvThR/s1AjmFFBwWyyRxCkwNIU1+O1SlYzIw4ydD\n",
       "3fH4NXEnHC+AeuZubOKuBTIl8lcof5sgReqYrHhi1yHS6DVxLxwfgHrmvn3nqQdD6uTnQ9Zyt2Rg\n",
       "xk+HNo9cE3fDcQd4lDknhpwEjlW4nox7Pal4oXR9aM8EpMMpfVqlMTMx5CyklWMyMOMNiJqoNXE/\n",
       "HFeAh5mJIacQS7dkVxlzFs9oefpYapXFqIl4gGzhOAI8zkwMOQlV5ZjsKmMV0afPitPbTRejJuIB\n",
       "sobjBvA4MzHk5OFgQ4ie7Cpjia641KmQtbQ0u7t4bDJ8TcCAEiGl5XhjC8cJ4ElmYshJx9g5JrvI\n",
       "yNEet2xfVdwoy/45O/fEmzZ4TcCA6u7lxRRNXDguAE8yE0N8e1vrXoxVYCc6rh8VQ+vkOT5Vlg0/\n",
       "HQ+ywDUBA0o68fqnlXHhZD4zET0zMeR4YQPrvPVk5xmFarttOHqghVpaFZPypBsvdgWqU6dIVWFr\n",
       "wgbQVE5cOMpn3U3LTAw57MFV45bsKmOO+iRtM5Q2No8Mn4CW5+dDUsXC1oQdoCQ6HGuAp5mJIYfP\n",
       "HRusc8OwfJGRVWDDlKsHhDcpdtFgSyUC14QVoPhwrAGeZiaGHM7ZMCdLT3adMRdYg+obZlolWW3V\n",
       "pKqr56La0DWBAUrUuC9fxoajfObq+8zEkMP22bklQzJizaORfUsqksKq073YQBhaPAtdE5hx4yqW\n",
       "YLHhND5u1j4zMeTQtRBuyZCMAtpo4akUrE4ls2KIuGwd0s4LCQcoESLPJY8OR/q4WfvMxJDDGVvp\n",
       "lgzMaBuyLlhRzG6xJwqgqHCYz2rWPjMx5GjdRTkma1XycIYkymoTMgqguHCU4sGKI4bcMA2xD7Wo\n",
       "lJChSqtsRoUYgGLDqXyGvV1mYshBH4fthujJwIy3hsLm6NLzAelwCp+zWbvMxJCjahJuyQqfWeLH\n",
       "ViGa4DXxKDi5D6t3mYkhR0Nt5pas8jkV9KHAbDYMng9Ih8N8dkR2mYkhR9NT5pasVezx4LiNfsfz\n",
       "AelwuFLBiiOGQAsaeDKvZZTPoWOha+JZcJQPrbeZiSHGUGOdkJ6sVuoL4HW45/QNgHQ4nY9ruM1M\n",
       "DDGGDFvi1JNlURZ7w8+yZOCaeBicymcxa5uZGGIMEtuV1ZNJVX0BvBRfn/oGQDqc1GcBbpuZGGIM\n",
       "Alsu1JOJL9gO6Vdw08A18TA4hY9a7jYzMeSgG0ndkqVfIWQs8IHhGwDpcITPyLfNTAwxhkYVbsnA\n",
       "jLc3qS5wTTwMjvCZPW0zE0MOJmuFWzIs432KcvPkog1bE3cpyh3BkT5bhtvMxBBj6LCZnp4My3ij\n",
       "otz01FXYmrhNUe4ATu6zRr3NTAwxhhZjiJ4MyninopxtAwoLKLiiHDHkNoZIt2RIxnsV5YYkNgwJ\n",
       "CCiCopwZTubDkIwYgrSL3C0ZkNFFUY4LkaYoU84l2KwZEg7QoigXHQ4xJHZQGEP0ZNcZnRTlipkq\n",
       "5oRWEmz94IQ3oLCAprYeHU7pw5AyEEP+qP/8MkP+cUsGZHRRlOv/qdHTeOXlFwf/4McRgwNKPgHn\n",
       "j895y23m/xFDzO3iv27JkIwOinI5x5sUu26wVgwJDOgjcB7BkB/3sjK3ZFBGF0W5lzcDboJVNfDs\n",
       "LBgSDNBaUS4yHObDkG1mmofcwBAXRbmEgV9CRjYQQjPEXlEuMhxiyJczxEFRrm7ARy7YDQyxVpSL\n",
       "DIcY8uUMsQ/1qyutg1V4cIY8DQ4x5G9jSN0wxgr+KwyJDocY8rcxpFV9SH6FIdHhEEP+Oi8rbLjd\n",
       "y4oNhxhCDCGGEEOIIcQQYggxhBjyswyhc1mO57IeEMKey3ogHDp1QmMIjSHkZRFDiCHEEGIIMYQY\n",
       "QgwhhhBDiCHEEGIIMYQYQgwhhhBDiCHEEGIIMYQYQgwhhhBDiCHEEGIIMYQYQgwhhhBDfpAhPOe/\n",
       "y5Di39otGZjRqqLDfyeN//tv4Jq4FY8OxwLgVXF17s40GkM+M4Z0wb9xc+8YEhwPeVnkZZGXRQwh\n",
       "hhBDiCHEkIc2qY3aevqDDDkBSAwhhtAYQmMIMYQYQgwhhhBDiCF/G0OCfmRZ1s5NKtA85ClwaB7y\n",
       "MwyBPt6E7rBlhUeTCjKGYN+iAvF4waEx5DcYAn5kGd1h625mCPrNaBBP9xyGvIFluT1D3HITQyw+\n",
       "sgyGrLmVIU+CE5ghxfJ5lMpiWJgV5dxyP54h8RXl8I8sw647+tmaGIpyj4ITWFGOzcNA3VgxbSSE\n",
       "W24aQ/CPLB8H6+8qxxtDngUn9DxkHh5F5sAQt9zEEPwjy/i8piqTuxjyLDihGZJPE4gqcWGIU25i\n",
       "CPyRZYvyeHIfQx4FJ/ha1jhAtsKJIU65iSEJ/JFlNODzwDhrWQ+CE5whxTDJmiZGvLZkyCY3McTi\n",
       "Z6AFze/ZD8HWZ79yP6RO53/6+YRcJ6+7ov8UcN6mhwzZ5A4fWBV3CUAodhdDsI8sg/sHgt3NEPCb\n",
       "0RgeLzjhdwz7AWCHj8m0aV5RWZqI113ty6WrHUND7pAhjeu/1eq2MeSuQOeyrBmSyf1MuygmDme5\n",
       "TF6kF8deliF30NCyqPUrG2IIMeSKIa8Gno/OVSkHd0ku++MZy8panjLknTvhIpdiP5ExRpp9VENK\n",
       "pqRMF5OFzKU2IBvijAO3lq7/vUoSQ4ghlwwR2bi2xmXS3+bvfjVjLy8rK08ZMudOeFfrB7aMkWaC\n",
       "mFLKjidydl27MmHt3q81xBn9Xy3d+HuMGEIMuWRIPc3Ea571KxJlvmbIy8vSXZF1S55zv3yzZGqF\n",
       "9Xtta4ksM1mcTlfe2ZP37zV5vx01JXhFc7YpfY67LnzKuyp6+D2VEEOIIZcMSdK5J216pyOvmiFk\n",
       "I0O40OcZm75+zt2+2ujgprGsW35liWz7pb7TGceccj8NKdJ3gl3pcxxUuOn3GmIIMQRgyOJ4qL6f\n",
       "ZWIzhvQdtOYRGRTleM+aJuf9naUNvyPr5NwdeqfMVkvOvYXt9JgWVq4YMsVdFT6nWxU9/p7kOpAn\n",
       "KcpFCLcqyn0CTkxFuazqV65W+3/50PVqPbt5ZtH2fn2ZLwzhYhuZ9OvHY6zpnyVlNu4XDZGvgvJm\n",
       "+ns4qSMWhmzjxsJNBa/TrYsefo8ZqE5jCI0hh2NIOrz+WDeT38S6cfcfY0hZ5JkU+dLLs77zX0WO\n",
       "S8hDLGvr7T+blM0qYSHl/Hdd5Ll8j1DbuGl92lD6Jt2q6JVlxBBiCMaQhSmin4eUZ+WcD7+TH7Sp\n",
       "X8ETqcfOo9dmkWn6b3aQYPayMkPhptKz86KJIcQQW4YA5ZwxhMl2OA1frg2tlFLD2Z3SYP42rhlG\n",
       "hU3k6u+59HXcUrip9HWUoWhiCDHk0wxZyodj86uETpmsooghxJCElBxCtgtiCDGEGEIMIYYQQz7P\n",
       "kDzWaUxIiC08QyLhwWTliCE/yJAq1vtm0ItH4RkSCQ/2GhUx5PcYgoqv1amQtbQyvbuDISX8/pyQ\n",
       "0ma86YghfyVDUPG1st/ybMbnBb4cDQmxhWYILCZX9xpB/RFSFA4kK/dQhsyKcj/KkH8iMgQVX+Nt\n",
       "vyRddFPni/ru14oBgRmCi8l1w1kfaQEHkZULzBBdUY7GEPcxpLyMMTgaqPhaoZZWdRbshdisGFIG\n",
       "w/MCdP2zDrJy5GX9mpeFiq+1gzuiLBUAACG2wGMILCbX2mtyILJyxJCfm4dg4mtcyeUJlRKdCyNC\n",
       "bK82ELQmQDG5EZAVHEhWTodjAZAYEpMhrcovY8y9roAaVG9EWiVZPb0cjQREiK3EGxAGCBSTm8oq\n",
       "cTiQrJwOpySGfDlDsFXM/nXPrCuSYn45Gln8KZIbGAKKyQ2rWIlgMBxsP4QY8liGdFrz6UCGQPJi\n",
       "PJWv1pRKNrEFKpiFZQgICJRLE2J6lweEg8nKEUMey5BKycuYMGF8OTpUyFSLJo0DKDYcC4DEkJgM\n",
       "aZS4jAnUCMaXowOFXMGfQIsDKDYcC4DEkJgMSVVxGROo001lwOqWCpbIjAMoNhwLgMSQmAwpVHoZ\n",
       "88QgFLwx8Q2AdDgWAIkhMRkS+NF8LBT4wPANgHQ4hc/IRwwJx5BcG8xz9Q2f4mrw6fc3ANLhND7r\n",
       "C6EYYlKU+5kA6qiV2pJJ6bOI8rFQWXwk/QsA6XAqnzcjLxTlaAyxGENqbdm99lmI/1hoFbzW+g2A\n",
       "dDgWAMnLismQV7r6MuaR8LhF2vr74PgcXCSGhGRIpx287VT5eHS1jef0fEA6nNrLNSSGBGRIqp3J\n",
       "SFX+eHSlzez7+YB0OKXX8gIxJCBDpLaqKEPvsPGm7QKjkzb75DLCliGr2iImHOl1EIAYEpAhobsv\n",
       "Y6hCN9HUZqWnjLLcG1KFS4eTehVPDAnIEK7UZcyjWtM0tbCYx/IYi1ml4jHhdF7FE0MCMuT1LOrL\n",
       "mKMAquLArQk96sTt5rEoIBuRH9GFA6TD4X57OMSQkAwR2jxWwDNb8O1ugU5DMtAby+yOWqGAbETl\n",
       "MMcRA6TDyfzOkhFDQjKk1B5GiT4eVIWtSqVMsRe6IkxDYEA2InkMXUy/YxpCDAnKkKRV1zFm5wDs\n",
       "c7l6JeRQZWeNo8kB0ruI5IUB5PwEiCEfYUihnW8ooBMPsApbNjyuFjqJh8ivvR6cpQ+CALIUyUOX\n",
       "xyB1vNQXIDHEhSHoRnKpLb2XyGK8hQrb0JoOynSQX0ukrQ8CAAomkmcPSIcjPRf/iCFBx5Ckba9j\n",
       "TCs/6MR2aE0lKJgNyK8llfVCDwAokkgeAEiHU3meRiaGhGWI1B63hBoAqMI27oYUkOMOyq9Z7zcj\n",
       "gOxF8sIA0uEw3zfrt3J0xJCD2R9+GEn3ejE/GFVhY7P3fj06IE8kddhNQwDZiuQFAqTDSX13I0ti\n",
       "SFiGCO2JCOwZYYuz6cuSJtz2AXeZxkKALEXywgDS4XDvF+uJIUjjtWAI10Z1jo3zmAobT0UBqtQh\n",
       "y0nS5bFBgKxF8kIA0uFI73ZJDEGGd5v3nKXWw0r12DeU3Q7VPhaQDsf/1PBWjo4YYnYGrGZ7+uJl\n",
       "Jx4KzLWpPxRQlM5pK0dHDDmY/9n0RJlWFdlDK4e7vg71TEA6HB7gfa+tHB0xxBgsddSK5jrmGcx3\n",
       "NuuRgHQ4aQAztxJhxBCgkgAnJL+OeUAoW3cX5IGAdDg+AFfdY0EMuXZF7V6sY9qTYe0D57adhyjD\n",
       "AwHpcLoQqhNbOTpiiLl3sn0Hp6yvY+53273az+MA6XB4EFmWrRwdMcQYvkMYjkKUsJWjI4aYg/pp\n",
       "dBTOnz0nhly7uNDpw/rg+tnxLnjCsHbVcUyLVuc7OTpiiDlAOmoyM18/PGcCt/8/bd1sF2Cfi2kW\n",
       "xdvOQStiCNCcgC3DTJivH7cVWof9vHWzXZf2DaZZKOeNgnRw8daPXhBDrDsSU+CV+fr5gLwWcod1\n",
       "s117+0RmNM1COW9YbToq3tt9yIghQIO6XsyaT9zur58POdC07rButmtnH+8qo2k2HzXhx8X7T0E5\n",
       "MQSqpyt47cH1hgBs5rV32rW1T+ZpaTDNQodxkhAzF+/dN26rihhy9BCupupZZb7e4mZdDhD3WDfb\n",
       "tbWvS1hjME3gAt6TP2Yu3jPs5eiIIYcD+cXZxUKYr4NkWn24wHJ+FwmGEsTlOcvFukRIeagfenYP\n",
       "6lZ2+We7Nvb18/L167WzaZhy3lqQzlh84GkIMeTYQ1B2/eN8PZdMsxJUuyyBT48gf48QGzmdVLO2\n",
       "7mV6Ds7pnt2DqLvk39uVr0ewnh3r92sn03bKeQc4NvVnLD70cyeGHPa6FzpqsyLU7jpJpg0eA9ce\n",
       "3eouFyJN7ZmyLv/VZ0/d8uUsY7Gy77B7eTrdtuWeo2XvsjW71vaxobl3fG8apJy3FaQzFe8bNDk6\n",
       "Ysixm3W+gdCWxutKMo1J2Wm0W+4W74ZuR9ylhPWzuOwZZ+umlmm0bbrnbBnX24huXzp0PFJqpp0p\n",
       "55nRm4r3DZocHTHkuFG1LgzZSKZl+3a2utv/U9t/stUoyVa2IEPatw9lti3xtCwx2rWyb9r84N3e\n",
       "NEg5b4veULz/4sK+LGLISW9S2ntZW8m0fStc3+0/R2/fDtcllDLVW/uB/7627sw2X8vMdq1+a94t\n",
       "LLJdRe6U84w4doJ0huL9nSxBDIHD+WpWI03XrWTa8uj4/IS3gmrjAifk8uslcJnM7Sm/nF5PVk5L\n",
       "2OXKtuXXV/dcLFvyG+xa2TfXSF3tTQOU83b1ZyjefyWLE0PgcK6jtl9qnK4bybSlFc5nWLaCamyY\n",
       "ry43lz8MUYYSar4QsLiWnh6tG1eqBh2qKfP7R1f3Di07M3HOb7DrbV++DGIN25oGKedt608v3jcY\n",
       "5OiIIWfVdVbzrDNeN5JpS1PpprWbzd16kv6fbybd0kCWv95/GEqYhy/g5dPZSiHyXPK1bcuvr+4d\n",
       "W2YycU605Nfsetv3XiNjMtlVHKCctxWk04v396xrYohVfZ0NIh0zX1fh7SBnekn1q4nV9cFNPeiJ\n",
       "uOLjT9aAH65Zt9imF+xpmWbXhX2d4yYlWLzVaoM+iBFDTp/d2SCyPzhnOED3ZoheUN0wxgpuvmny\n",
       "k/TSq9nbAE5daNYttonQlml2XdjnevIw/JFRU5dIDDntHU8xNrX5urQ0Ualp74zrG2Gt6sPBTYN/\n",
       "IU0uRz22aATL1rq3bXrBvpbt7bq0r3FqSXDxFm61gWvEkPNu6qz2eWO+mjqn054L6t58G9iRdTKa\n",
       "ZUc9B2waxqsmWDs0ytERQy78rLMRfD4/uL9+eLYEPodPWzfbBdjnYppF8WAwy9H5MGQI6W8z5JHC\n",
       "cBTi9Ib7JbFOLf6mk9OWD6H88WorSRXoLwm6HN3YwvPk/xvjZocigFqQAAAAAElFTkSuQmCC\n",
       "\" style=\"display:inline;vertical-align:middle;\" /></a></dd>"
      ],
      "text/plain": [
       "<IPython.core.display.HTML object>"
      ]
     },
     "metadata": {},
     "output_type": "display_data"
    },
    {
     "data": {
      "text/html": [
       "<dt><a class=\"ProveItLink\" href=\"../core_expr_types/expr_arrays/_theory_nbs_/axioms.ipynb#varray_eq_def\">proveit.core_expr_types.expr_arrays.varray_eq_def</a></dt><dd><a class=\"ProveItLink\" href=\"../core_expr_types/expr_arrays/__pv_it/axioms/27eebbbdd3efd6b8bfa3ba02ffb8ef6a829ff9e80/expr.ipynb\"><img src=\"data:image/png;base64,iVBORw0KGgoAAAANSUhEUgAABBcAAABICAMAAACa9e0yAAAAgVBMVEX///8AAAAAAAAAAAAAAAAA\n",
       "AAAAAAAAAAAAAAAAAAAAAAAAAAAAAAAAAAAAAAAAAAAAAAAAAAAAAAAAAAAAAAAAAAAAAAAAAAAA\n",
       "AAAAAAAAAAAAAAAAAAAAAAAAAAAAAAAAAAAAAAAAAAAAAAAAAAAAAAAAAAAAAAAAAAAAAAAAAACB\n",
       "rqoyAAAAKnRSTlMAq1RmmUTNIjK7EInv3Xbh0fXtQPP9YPfByTD5oSCx5dvx03CR1a/716mnVpn4\n",
       "AAAACXBIWXMAAA7EAAAOxAGVKw4bAAANyklEQVR42u1daYOmqBFWvBCVmdnM7EySzbWbY+P//4FR\n",
       "EeRSSmyl83bVh25EoMrnxYfiNMtihC2SfVgpKjeEApEyBmQUKKrl9bKuvNvDOEn5yki39OAmKd0Q\n",
       "CkiaFpoSoY1AFQ6vRgStwQLt/G63kbzw6lSeF0dA1m4IBeoFcGBtRWhjUIXCqwsdbPegQF7w00J3\n",
       "6EsUbggFXHdgPipCG4fqENEFIAPyAoh9D9uqpndD+80ev2LItdyptB/n4znIM74V2ou4JoEViCoM\n",
       "Xku6HHkBUiebo9tl54b2f69L7jC/6Eyn0X6cj42QFu1eaC/imgRWIKoweJ0XukBeCD/dMaGPlRva\n",
       "/bn6kVxoWS7lTqU9lK+G9BBuhfYirklgBaNax3TASM+QF0K9iGMXlipCpkFqZm2R19FYXcudSnsw\n",
       "XwmodLdCexHXJLDCUS2j3um6RF4ISH/swvLBDe31CGtKS5bnNK4/eSV3Ku2AfDw8dHAntBdxTQLr\n",
       "GVQh8LpSjQ3ywnGVDDRVee2GdpyzyaOjEw/TLsaOa7lTaQfkqwA94BuhvYhrEljPoFpFDTBkdY68\n",
       "cPxsgQHdtnVDBw7xpdU59OLanjTaA/nouLV65aBJ7gP5loe7iGsSWKGo6vDu4uuhHp1OkBcOa22A\n",
       "WOsceSEiXxMeU7wb2hfkBYUqBF5fV2XkyAtHHmyoezaUbgh54UQ+Bqi4N0P7grygUGVxvJC1A/LC\n",
       "gfShlgr9hcstW3jQDf2FaFQh8Pqk0EYekRfcbkSBvHD3+EIT7P8iL0SjqsN7Ynxh8jMK5IVd4WMT\n",
       "6mi0bgh54UQ+0HwEjjvGoho5H2F4ysgLTi8rOPu7zQ9DZoqRF1yHFbJ+oUdeiES16GOr/qDzwkYS\n",
       "pDjJC1FZ3/vwQpApNz6GMDPygiMloI9wM7QvyAsK1TKPtKsbdV4oVdNfNyd5ISrr+xYGOG2mr9wQ\n",
       "8gI8H2gB/73QviAvXNsfsZDBNpEx8QKV9HLmqBfBC1FZ37fQMbwJ9tR+SuQFl3rfaD8l8oIPVRY7\n",
       "vKDX/Xl8oV7L6chZXojK+r6FAPa60d4NIS+A8xUgP/deaF+PFxSqRWw3QveVZ14oVr/jzK7wlRdi\n",
       "sr5vKSCTvzlxQ3vSdFfMuZY7lfbjfAOsz3krtBdxTQIrENUhvks/5jovZP0yudl353khJuv7lvA0\n",
       "ZYbnO15jXjzf8U5UiwtHSW2nvS68UC5N5HooLGvO8IKR9RWkA/XOSOeGUGCtHvw8aIT2PKqXRvr6\n",
       "2uCFJpd/5hfD4JtmKLtqnhLN/bxgZH17oXV7MwvYvYYSNmqD34+IlRLehiC051EtrzTRw2DwwtLe\n",
       "d+aPQHnetlMUybOOuerUuiZP1reU/N42oxkdhSNWMpQPKkNv8gLh9tBhWa4NKZn6K+X06u/0IzxZ\n",
       "31R6eisQvEVeQEHZ4YXpzV6HKypxyjRXSyMIJVXD93lhy5qxruCdPTrhjfSKLyUdOc+Vq9Jxd1DF\n",
       "F+fvMtgJZ321kxfWj2jsQIplXc2bJ3xbu5p7TEsJ+avzgtWPyDoiViIwns3vBduaUUKnfgSp9nlB\n",
       "Zs3Y0JhbuXYj/bTgS8kHlvFy0+lMavvi/I9sJxT6qDviADCWEyvAU6zfqIAjz08bJ+0C2Bdj2oni\n",
       "UU5657XFC806rtiw5cszVaHzwtSPcPztjRdk1qnrIRejNNv8hIqsCC8PhyG27NmmbP7mkPzGy3zM\n",
       "LaNG6TIuWLjKvJW96HM7DRywfkENlMtAopFzDlrw+rhx7O/fB5h9i2ms7QdgybTuy61Y/uE+SCWe\n",
       "/0ZeyC1eyNQ5s+3MwkXdLkIEL7DOGULQ9lPKrPOC9qUXQsn2KSwV2c/LqQ5tqjyfypmHF+Q2kHXB\n",
       "vF66jAsW7lltv+hzZzsA65rUxLoMJJtprwF9nhTGff/Fb5+1LFaaVsMr+7IaVRZbf7wPqo+3+n7m\n",
       "ekfjpxrnVlU7dXbmhbk93ucFlbOZ2/flA9nqzd0im8DK1i0l0WZK55e9X6FQDr7GC2tcE1w2uybc\n",
       "yhb6uPM9bxI+BKssrECZquEqAC9UCuPk+hjLPjbUXtPglV3sspTFFh/ug9fRRyvAHL2x2+MFUs+z\n",
       "D9pCJTGH7DTknvMX+rm/XhWKF1hnRmbztKeI9f1RKYn4vvkSORU0W7iEl49qdIoXzDhR+H7pa0JR\n",
       "9qaPFjbO4eOast4O9MnqSR+uJn2K2vsP5rOPF3nlMe1EZe8Go9j+ozkM3XBn6da+KYMyct4sIwTy\n",
       "zOlB7KAG8EJVFoR3hWrR6dzQa5Fi5nOJpX1j/jFStlrCknMZbsqi4Js3Ysat06q7pcuES9m2ZTu+\n",
       "1F6nuLYCJN2C3fCW2hTGdYO0y7RvyGjrMe1EZV97HP7iP4DUt3pI2p7BvfOaWDePL+y71MfnNa2e\n",
       "vuEedizjbqy0yPA210uyk0D2I4in8EDpsuwDx3UIvUhqA7AMqIgm73izdYLMS+tmUDzp3aguuNJ0\n",
       "267ccV7sjZ147p2y18xf5z9+FbueDPvmUUb9nA5pWp1zDtgkNdlD14o7Fbto7KIW2h4B8QBpRmrX\n",
       "n/8m0fYG3XGOG+X9MsBU6V5ePY7j0i5UHt/PjGsXD8CI1MKydD1OFR4sXZRdHfifwWPinfMv5P9q\n",
       "9k7a7TAn49K6GfbF3fR61LqLpdhIbOeAT2lcM5DdLxf67nmU7VdZlX9Jycb6t3oZv9HtE5xASgfI\n",
       "KTkTwz1Hz2HgUfxLaCwinKEjIO4XC6oTfbOT9SdGcuO8pjfnBVU2OLYIJYzKtB935H4WIewHYgXW\n",
       "/6wvlmq9hIvavPy8XbGuy/PgR1nd9HqBchcLCY4eKCOXMRW+mOakWe9plvmU7euQZYuUZGSTXcu1\n",
       "bp84xEcbNF5NE9856jkED9lz+yY0kp6dpgbPwz4oFlTwIUHj+e8arWof4YX/Twn6amrKUwbW/+Wo\n",
       "fnjK+WBeft2uyu2FO3D/3fRalGasvxaNcgZ1/CaM+2X8LN0t54uwaomnZplP2b6t5us11d7JrmVs\n",
       "W7dPzGdzbgMpKvvYQfGY5N+rxnk57MmRON/Dgl/ODdbajjqp/ayc+T2ifRntqDLkBfe9z+N4YWFb\n",
       "+a0fMpiX37ar+U/w0x+9m94oUHmXOz+PWiP659W478qBJ8NeM6FZ5lMGaGZkm1j11UKvmn3rYgU2\n",
       "2EAulb0KsLFpz5f/qMcnJ3nB97DwWl/aAdB3sfahOpcx9kNSQMHvyhxTcx/VjxCf9yvWBpJ8Mi5/\n",
       "1q7mqdFQhWRuej2qkvPG2lux0y/XjfPzwnZvs8yr7NBWLeX0ipNBtIyaLrmmqSQWkAsjbA2p9zlM\n",
       "cNn4k3oUcrbJdx/2OXGgOpexuHdPX47foTsc4QmwcsutgPjPlvqd1xlpBC8sl5/F5c/GTTk1xw7q\n",
       "gUrP1vR6lNjFAvr5ViPXVRmV/q5K9do9adlffMocI638MuX0shU/lv6wbp/U2tS2aVR2nzMIHkuW\n",
       "34XGqfiz/oLnYR8UGyo4L5j15x7j8Lu1MG/RL2pyTAbW/3M1n9rJpeM6BZbLT6OYcSbf9ZsZFQu/\n",
       "3F6qCvyYAkv6JWZJv5W/7mLJIIcmr8aJAfiOarygdGn3lGVfhbIpzarMNdHJL83Ki6z8VFr2bZtZ\n",
       "5dIYadqUPGtLAL1t+P3+SWicij/LC+7DPuqLWlCBxXz+m7oR+J17OECegcnBCqz/Wc6nHzznVPCC\n",
       "uPzy0x9Et0K/KXd+DapeOh1X9uWPa/opkUivly9dlfDPII3sunUF2PYmKfXbPWXZp78KZX8rpTK3\n",
       "b+3mXz2nvPv6T9u+beif8szCrQuv1TbAzYb/Co1T8Wd5wfOwT4oFFdxhMJ7/nuZQ79kgL/gGeY5b\n",
       "4YFagcH9tVR1Jczp0zfTi9U0282AkD+p9JtbyQTBAF4Kx7jNFke91zKpzGMZs73dNaW0K2DfEFnL\n",
       "9eJJdFegcWB9dKSB0fdV6SvjgAHkhfMOg9quc7B/R1XXzhnra1pKqTgXDzYNuKVXpYtdLKA9UY5x\n",
       "my22er9lUpmn8bNLlimBG8pi9z3pxUfzQuPC+qDsg5pKWmMgFHnBJ/XxC9s2VqC1mp2mq0exboVx\n",
       "43LxRsZZ1M1gy/Jdpde9SrGLBfSDN37TXPV+y1ZlHsu46+w2mWZX0L62iXuj1X8T2XNOoQvrk/7C\n",
       "Hqjp3AWGvBDslPeHP5o6zkoG2C6Kh3UWVKH51ddq1zh+l2V7dAk3DcQmLZ7k9oajC+b6EeQFf5U/\n",
       "hkXtJ5KBJsWZYtAW52njpF0A+2JMO1E8ClTsHWjIC37J8ZsmKB9HKns1dzQvFIyxVz4VoyZYW1A+\n",
       "iFDjRLz5zeaxvDAP2rz0MVotxfqC8iGEmQdltvO73SIsKCgoKCgoKCgoKCgo70uaLl3uVNqb7r1D\n",
       "e9HCJLA2OEf2QkLLdLlTaafle4f2ooVJYKUlvk3IC8gLyAvIC8gLyAvIC8gLyAvIC8gLyAvIC8gL\n",
       "yAvICyjIC8gLyAsoyAvIC8gLKMgLyAvICyjIC8gLyAsoyAvIC8gLKMgLyAvICyhPCCnEr0m753On\n",
       "0n7V6vvVXLQwCawPoYryiLCurqZfM8/p87lTab9q9f1qLlqYBNaHUEV5ihlqXuZVmtyptF+1+n41\n",
       "Fy1MAutDqKI8RAz9SFLlTqX9qtX3q7loYRJYH0IV5RnhQ7rcqbTz4b1De9HCJLDyAd+m15FrX2+4\n",
       "+u2HNNof+mLFBTUXLUwC67PfAfkf2HKxzm4dAeYAAAAASUVORK5CYII=\n",
       "\" style=\"display:inline;vertical-align:middle;\" /></a></dd>"
      ],
      "text/plain": [
       "<IPython.core.display.HTML object>"
      ]
     },
     "metadata": {},
     "output_type": "display_data"
    },
    {
     "data": {
      "text/html": [
       "<dt><a class=\"ProveItLink\" href=\"../core_expr_types/expr_arrays/_theory_nbs_/axioms.ipynb#array_neq_with_diff_len\">proveit.core_expr_types.expr_arrays.array_neq_with_diff_len</a></dt><dd><a class=\"ProveItLink\" href=\"../core_expr_types/expr_arrays/__pv_it/axioms/72434f751c53ac750ebaffc03e950e64147ab03d0/expr.ipynb\"><img src=\"data:image/png;base64,iVBORw0KGgoAAAANSUhEUgAAAt4AAABxCAMAAADVn1R/AAAAYFBMVEX///8AAAAAAAAAAAAAAAAA\n",
       "AAAAAAAAAAAAAAAAAAAAAAAAAAAAAAAAAAAAAAAAAAAAAAAAAAAAAAAAAAAAAAAAAAAAAAAAAAAA\n",
       "AAAAAAAAAAAAAAAAAAAAAAAAAAAAAACACGXEAAAAH3RSTlMAq1RmmUTNIjK7EInv3Xbt5ckgpUAw\n",
       "ucNsr+f16fN8nNoXkQAAAAlwSFlzAAAOxAAADsQBlSsOGwAADUVJREFUeNrtnYvSpaoRhQVREZQk\n",
       "cyaZnNx4/7eMum8iuIEWFZ3uqvNXnTVe9tJPbFCbojg4uJ6CFLeIuvIrp0fTi6QWs7NjK/2DsuN/\n",
       "HNeyHKK6Bd2M+JUMQpKUFjO0YykjYiU5Be+muEvQTniVLKIr01nM0o7TYIl4bwlhHVQB52jXqKAH\n",
       "PYUh0Xb93nacBhHvTUFqv5LLT21TWQSl72x3Oy6DiPc2J5VXyaY7pmkai6CA7TzKjssg4r2pTar9\n",
       "yuJ48/1+jfp+WNs+jUWIoUqLxG4cdhwGEe8t/UqrZaO+tq7esZtGmeewqxQWQYZkn9qNw47DIOK9\n",
       "pfHu/cqiFQsdY2uIVE0sjp6dt10KiyBDNVGK0KRuHHZsBfHe4iOg/TBHEEIb76obDlEbe0enracl\n",
       "ptstggwJPSwnIk+7x43Djq0g3hs67xZ+5DuQvA7MvB+DcWxqv0QZPnSh2q/71/V2iyBDdNpMp5K6\n",
       "cdixFMQbHEK3XsVMQHXXm7HWmrLprPRyPFhKfblLs8UG9ddUmWi+1SLMEJuw0zKpG4cdS0G8wVE6\n",
       "boXf7/5laG7StRNbj5NLw7tl1fe3Qyott1qEGZou1GraWDo3DjuWgniDw06NvckyD7sziynjfZ2a\n",
       "cCC4jzbdbbUIMzSBzaaNJXTjsLNUEG94btJ7Fbu5k2GbHnEgdUGbKCDqxosr32YRaGjc7fPhfkI3\n",
       "DjtLBfGG5ybSqzhu02Gtpho5YAWLAoJ6H3yruOwkmSEykN2yIrEbh52lgnjDx00qr+LojQU94hZE\n",
       "Sd4QxaOAkNx/5OttFoGGBJGsjEy1/G4cdpYK4g2NTvuVJEETvmyno4bS9zCU0o3DzkJBvI9MvU8H\n",
       "oo55QWoXQ0nxtu0sFMQbepqsIWGq2x3208haS5VqayzmvZMdDKV147CzUBBv8JGVXiXH/nC7xWL+\n",
       "dhYK4g2+L1Kvkl/wmJHv/A3ZdhYK4g3uWXKvkmOPQW+xmL+dhYJ479Vpz/Vn8w0WL2DHVBBvYB/J\n",
       "ajeaM2pqREcfnnBcwZBtx1QQb1hQa9CM7jQumLrLoOAWr2DHVBBvWCjrgZnS9QV+NwkfDbmCIduO\n",
       "qSDesJDWkJTcZdg7dbDw2ndXMGTbMRXEG9psEK+S52VZwy3CRziSl/FZtWMqiDcsWs28Sp5493CL\n",
       "W5JkdpAdU0G8oX0a5lXy7DN0cIsbYqcnRLYdU0G8YdFbfZo+qNN2Yhmf5/nWcItwQzuU8VmxYyqI\n",
       "Nyw669x3QTScWMYnFu+UhnYo44N474q38iquVuzMMj4TNDF4pzO0Rxkftx2KeCfBu/QqjhGEU8v4\n",
       "ROOdzNAuZXwQ7/1CW+de+2mAlPERUhISirmv8M2YBGu4RbChdxmfxG4cdirEOwne1KtYCSikjA97\n",
       "ce5eMK7wzTSvkQBbBBt6l/FJ7MZhx1TOwPvHHz8uj/c/fv3dq9gdIUAZn/FPE/qaX+Wd5OnHr19w\n",
       "i2BD7zI+id047JjKzz+w9T6q9QaV8SlFOBD+wjdpW+/4Mj6J3WTZev++eIPK+IQPq/kL36TGO76M\n",
       "T1I3iHdeeEPK+BQ8cFLKkJHi1HhHl/FJ6gbxzgxvQBmfpg0EMqDwTXq8Y8v4JHWDeGeGd3w0QyvW\n",
       "NOmOfWK8T3WDeF8d76blnDNxE7wTu0G8r453l3Zm9JPxTuwG8b58cpL62J+bnOxuB/FGvBFvxPt3\n",
       "w3uZEt8F7887jbQ8EO+jd4t4f8Wbtzdtvdl76LI+pFn9qaeXGY7ebWK8/+lVcoyfq3i3/IKGbDum\n",
       "8r8Bb/5qR5v2oEtuwvno3WLr/a315uS2uffr3RVJj8T76N0i3t/wbpvb4l0+c9+6OBTvg3eLeH/B\n",
       "2/FR2X1GTh5vpXfyWLwP3i3i/QVvR/fnPnizqVvRioPxPna3iLeDh+cHMv/69/iX3BTvhrz+DCHm\n",
       "F7LvtS3jrUVjTbG6hTfexm538F63gWIRvdzNWm/X2NWNHuuMLejr1UZjap9+TmfTs3GhsvsQaTAw\n",
       "X/P9omTPV/E2drtDEBkqRi93L7wrVtwab6q+9vC4Im07YEhJIYXxfGutifvWJn/w9ux2a3Q8VIxe\n",
       "7l54Ox883OmhfF2U60VbGHueajosNFzos3ZtDW/ShOA9262QpZLWSm7VFY4luVbKqjrgFJ0/8uty\n",
       "t8q9//PfRwZObou3pM9R6Ep9TArFRofq/cycclo1agXv+ZqVNLawivd7t6JvHO+iuFUn3Y4lVS8K\n",
       "tbztOkVHeJa7Vevt/mb3Tng3z3xaqOLzz6yg9VicufjgPSQntHLi/VyTtWP8ZfivfG9hHe/Xbocb\n",
       "xKBPtT3nXyu91Yoq9jVH/6z/+UnjLyjrxfdPT9G7wdfK9qtGt8N75avGW70xSB75RyM+syILUcjB\n",
       "eVXO8R6IVa0L7/mar/b+uYV1vF+7LbqBtan153T2qelb7cbPx79myq8lF9kzI+YWX6J/g4/lfofW\n",
       "e6Xgwj1fiG3nOXg9tWFTg9zSB95CznuDrWvNWXs/bWGZSJTW8Zzqz7WlGP/hA+NHbd5t80pu8l6S\n",
       "foZvRmsdNbb4Fn0bfK9cls62jf3ZeJXNIdLPbiP+/NNqvFeGiNIbSu/HtmMqTWn9BDEbMhip4dJo\n",
       "vcf7uhPvx5pjcvLXv7XP5OSxhS+t97uxHFPnqvzgLaSpFuPIzUN1/XkvSadb7aQNGyqn3/fE2xQ9\n",
       "G3wu1zSiPq/17tn+zd1qCeMdDCX3E916D7kye57hVwP3SV3LKV2dJwHtcs3CfPnM1US68K5YSZUs\n",
       "PzDysemcqY/Bm0nlXWP+MZacXux8LMfU40J84m2Kng2+l3MXqrlPcrJaiOeWyYkg6nWGXyA3r1eB\n",
       "eV8vPkQwWm/yLKg/78kpEob3/BJ/rm4cXCkKZauFvaToH/9LHVuci8EbJNW98V6tqnPrj9HoLHEW\n",
       "ckw2nKfZMe5Nl8l7FN5cdY8XZKv57661fkwJVLmeuQmz7yBM7b3FuRi+wf7mXUte/IZ4D2e4rrh/\n",
       "miEH3p9cdWULYSPZZbAaqgFWVjR41Aw/Jb4Q3sMZZiqg3oqNN/208itbuNCnxJSwAvG+YXISGA3o\n",
       "N+GX8oj3JfAuEG8IDUnn/1PN6Xif5QfxzhLv4BmXgjIodjreZ/lBvHPEO3T+v8DHIP3ZeJ/mB/HO\n",
       "EG+RePJW2p6L93l+EO/88A6e/y88Ww3+XnUPvE/0g3jvhXflVVYifP6/9YifIg+Cd5W9H8Q7v9a7\n",
       "TD6xfMAUeTu23if6QbwzzL154vdCeThfPGZWYpq9H9sOx1mJEwRsTvn3UU9buSiiBGmVdk75s/3g\n",
       "pNs54h049LXDuPc+eJ/mB/HeJ3rr3PcxeAcWdwkbJ5Z8F7xjDJ3lB/HeJ2qtvEqOQXUHt3gFO6aC\n",
       "eMOi1dKr5Bil7uEWr2DHVBBvWBDNvEqOocK/5r2CIduOqSDesGCaeJUcQ+oWbvEKdkwF8d7nuOZ7\n",
       "WbIdroSM7JgK4g1N+mqvkmefQcEtXsGOqSDesKisLnsVPiZxYtQRb7lewJBtx1QQb1g01oBro/UF\n",
       "fnenOdziFeyYCuINDG2Z0FewFf5G1SUM2XZMBfEGRm+9stnrKvtf3cQkHPkbsu0sFMQbGMR6ZE10\n",
       "/nOHVzHdxfwN2XYWCuINDGUNSalLPAaRWyyCQ7Rdf4idhYJ479VwZHrPoVssbhnjYIfYWSiIN7Q9\n",
       "ssYVxAVGGvqInmVaQ7vUBLLtLBTEG35oG6/iiJLv9YMCqt+IuKHsEEOBfiotjrCzVBBvaEir4yVD\n",
       "umL1bnMwB3wFQONeIwkxFOhH9ofYWSqINzz5Jl7FsVYoXw2Rqol74dpPEIlLEQIMhfqpiVKE7m5n\n",
       "qSDe4Oi0X7Fup6GNdzVOE9E+7ugi8HD5q990eqtFoB+hhwXF87zz/ewsFcQbHMx6IMx8T7yDC96I\n",
       "bpo28dGAydBG3Ff9hse+4uozFOyHThdq95wLhu9lx1IQ7w3ZifQqy1w2tOANm05L7xukjqx+o2KH\n",
       "LzyGIvxMQ4y+QffNdiwF8d6QnXR+ZXG0Q3OTrp3u6JEPxX3Vb+puu0WYn+lCrSKvrng7loJ4w0NZ\n",
       "+CkfkIEFb8T00vLj3FQqNKPwVb/h8R9P+gyFFvCZwGZjhuKchj2RHVtBvDeEncp6k9uwgjdiwoHU\n",
       "BW2MWdA9oxONb6BBJLAI8VOMOfyzP+Gahj2RHVtBvDeEtA6n9BIUNv47TvBMezbAMJ/L3NN9Y75r\n",
       "hqSwCPJDBrLbaT5d5zTsaew4DCLeG0JYN0Phvf+HFbwRREneEMWLxSzo37bMfYlGk8Ii0I9kr0dE\n",
       "dbmTHYdBxHtb9i28yvZrSKR5jt+xNBY3p3TNTnYcBhHvTWEP3fWpa9+85zJPfilCLW48+2m+4Axr\n",
       "WRDvbexZVmhqc++5zLfeBMpUFjdymaR6im3HaRDx3has9StZBGnTWdwUdbmPHadBxHtrelL6lQyi\n",
       "6kRCi3C2qzS5iW3HbfAcvKcgt8CbW4eVdyLDq7BKaRF+swuZyB1kp7e/7J7i+EMtyimqW+BdVI1f\n",
       "OT1EldZidnZs5QFZWfwfBQ8GDMQTeCwAAAAASUVORK5CYII=\n",
       "\" style=\"display:inline;vertical-align:middle;\" /></a></dd>"
      ],
      "text/plain": [
       "<IPython.core.display.HTML object>"
      ]
     },
     "metadata": {},
     "output_type": "display_data"
    },
    {
     "data": {
      "text/html": [
       "<dt><a class=\"ProveItLink\" href=\"../core_expr_types/expr_arrays/_theory_nbs_/axioms.ipynb#varray_neq_with_diff_len\">proveit.core_expr_types.expr_arrays.varray_neq_with_diff_len</a></dt><dd><a class=\"ProveItLink\" href=\"../core_expr_types/expr_arrays/__pv_it/axioms/55a6d1746895ccd9497b72a845aa7fa46ca4ebce0/expr.ipynb\"><img src=\"data:image/png;base64,iVBORw0KGgoAAAANSUhEUgAAA3AAAABHCAMAAABxo1VtAAAARVBMVEX///8AAAAAAAAAAAAAAAAA\n",
       "AAAAAAAAAAAAAAAAAAAAAAAAAAAAAAAAAAAAAAAAAAAAAAAAAAAAAAAAAAAAAAAAAAAAAAAeYafp\n",
       "AAAAFnRSTlMAq1RmmUTNIjK7EInv3Xbt5cnn9enzas/lfgAAAAlwSFlzAAAOxAAADsQBlSsOGwAA\n",
       "CIZJREFUeNrtXYmygygQlENBVPb2/z91RSOHYkRRSOJ01UvxKAfGluYWiyIpUNd1rPhmkHIZeCLo\n",
       "CcKeSpEOyKHw48ReVN9OI6bLwCPB6sOEPZYimytCQHCHIKpl4KEgcqtiF37CHkyRxdUgOGTqIpJG\n",
       "cGlzvBY1WQbeiFPGKFtG1gzyZvNOeKN5vUHYHY7G3WQ6igxXg+Co7mJXLI3g0uZ4bTehXQbeQMZU\n",
       "7jKyZYi03zeXyF8jcT9htzgad5PpKDJcDYLj6HC3PFJwaXO8diDcLANvasC2Pz9CjjKOtw8wF72v\n",
       "ieNog7A7HI27yYQUGa7UGK56/dPgRIJLm+Ol6MtlYJvtmqDq7ARdlHG8fZB55ess1myDsBscjbvJ\n",
       "pBTpgBLcPHGSZHRb2VM1Xzee5nNNxXux18GvOKcCIX5qdBBhHG8faE49/ZMSbRB2vaNxN5mYIh0Y\n",
       "i37bKbRNMsElzfFKyG4Z2IKaDuJ0+Dtzj1HG8faB5tIzPFsOynd4inE07iYTU6QDo+DoKNNapBNc\n",
       "yhyvBKqWgbftYcwKFI9cvoq0DzAvrdaLjjVo9/c/6hd5CLvH0bibTEiRDoyCY2j+UY2lXUfttbdO\n",
       "lo6l2EhhegBOjl+Eul4GHiw43vO9Bi6Ep18WnKZIB6bRlGpqmtcAsLFXFzqbUtZRdRFpjVAcOm3L\n",
       "OTU3BTNss3O8YahV1UFxwcbae7QMPFhwbDUhUtJNwp4pOE2RDkyCw/LtBAaXqK4HA4yKRjhbCbaK\n",
       "5nbj9cpmJ8forl8TFhdsPFcfdBl4sODESnDrZdUAnn5ZcJoi4QpuKPtke9mcUj6PFKXqRFrlcUtw\n",
       "iO0I7n2O0Wh5WFywMbRwvuqbu2O4f/+bRnIIWrglRcztUhYNfi2Nldb+ASGpWieTerkFc1wyuSE4\n",
       "27JsnBR8gtM5FqIhslkJ1B/rrUXWV/JeSiSK3biNfvf2hSA4h6jF86lEAV1KP0U68BIce43LhCzM\n",
       "1BMtcKUW+AojuKFLiUuv4F6WtFb4Y/gjOgWv4OYcC9Gx9aPbiPXqzXOl7EQhF3T44rx4dyGql4EH\n",
       "C65crLH5XgtAz5402ZilVMRMLR4TWC+cCFE0Q5IlsQU3aEjWPsHZlnOb+ErBK7g5x6HDOrg+rlIw\n",
       "a5lAx5ZY0reTK8beeKPUTio3xVfcbnraeLXvvfCtqzxYcKTdbeBCePplwWmKiLMO5xQ3e2RVjWVv\n",
       "bLRqPAlONPZkR+2ztNrE9faf1UxJW772dnJs7T/Xsa0acL4dcZXrfbRqFEbRIsUpbje9+cLAGuvB\n",
       "gluQhJuAVvBhgtMU6cBScKIX1pSB6qlZa+lKcKqJ8ApuslRdyj//ql9dyimFt4IT6oqaCPVcjDxM\n",
       "LNPt19Y80HwlNssSSlEtdlKc4/bSM8aEUL+83cBzBbeoTCuxVR8+V3D+vZRONVWpeUgxiWwqmaZb\n",
       "Nr0rbzcn9dKycPeLr8v2uoVTQ7CSGMGNmVuxhVqRmGJ9P/pKPI4hxrghITK6ZqWo46b0thN8XciY\n",
       "79XJI28L/LjgFm8LED8h+zz9sOA23hZwLkFybAOwkRab33Di3bTO4hfcZFm4G7bW70ytCnFJCZYN\n",
       "MfIYM7dip0WJMZa3zP1xrhz9nK6jcmrtrBR13GuRYzNBfaGvCOkahAcM4ljMXlEWudE00n7fnLjP\n",
       "dut91PZOR+NuMh1FxH4fzgtstYOiUV1Eb9fAMweFZfFmCPd2tXt+Zs5SQiMKuY4t1leKbvoXv09R\n",
       "p7ebIPLdMsLLwFOxOAtqa/HyyTxpigxXG4IrRVGVAZW4R3BGUd4UtgXHZTu9H1fadWXV9323ijVu\n",
       "OrM2wo3zpajT20/Qu9EdzjSZS07gvgU402R5pon30qHnJak4IThsmgVvCgH0k+DYmLidCyXeOG1K\n",
       "T8bh5sl6O3BqV/N0ii48tev4kSTVl5xLidHWkBjOpRxr0/BXqx57LqVYBmTXtaQAAAAAAAAAAAAA\n",
       "gG+EqNsuh21WxwGAfKhoHtusjgMAuRBzEGuPv9RxACATgl65uME2q+MAQC40XR7brI4D7gBDjWQy\n",
       "h3Fu5w+NhJCUZ7daxthmdRxwR5dDvXpQn+x3RBlf7Ly4c1OQ6Csxvc+Y1vZaxzkU9+wQ4/4dOvY7\n",
       "BKlOG4umQUhkdN49pPRq4FHUrTxBkrHNwZFxvFgfvApIDzqe4dCpTbtcyu60MTUl/0DluwhYoaP5\n",
       "303T6FffnCDJ2F7C0VGK5swBn4G2LszRn7g7bax+WH+sBvUcVdvR087filHU5TjDfpQkY3sNR8co\n",
       "shwHfEKPsledDfI6qgh3p43VCRNHC9OVzpfy1q8/jCWWjt2zw4LTtjk4Mo57Dl4FZBCcegioKjA7\n",
       "IzjbOP0MtJW/c0jpHeWWzyPGE4Iztuk5Mpl7Dl4FpIc6MBAPvRR6piw5xgXvRDbn7aNG7wAaimxN\n",
       "T/W7bdv0HOnMfQevAjI0cUg2nCHJz5Qlx5il/4SenX8t782poaQ4JzjLNj1HVub+7y4DMiKmlWBU\n",
       "HdeXsW8s+MeTlJmjnkER/xnBsZqrD0nnc70q6KeTlJmjkNMSAQnBmqo/vXrc9gpZu8bs00nKzJFE\n",
       "UMYBgGSAIRwAkExtJfQoAYBkCDq6FQAAAAAAAAAAAAAAAAAAAMiK3/4g4yew9OEfZASkxY9/4/sD\n",
       "WPr0b3wDQHAgOBAcCA4EB4IDgOBAcCA4EBwIDgQHAMGB4AAgOBAcCA4EB4IDwQFAcCA4EBwIDgQH\n",
       "ggOA4EBwILgPAybTE+FNauN4+9js0+QU5+XXUAQIg2iqcngiCPHUxvH2sdmnySnOy6+hCBD8TCpJ\n",
       "UZnDON4+Nvs0OcV5+TUUAUIfSRvxRaMo43j72OzT5BTn5ddQBAiE7HIZx9vL7htYivPyaygChCHq\n",
       "y/Sxn7WPtGfyG1iK8zIPRf8D7HJX2uIHQqgAAAAASUVORK5CYII=\n",
       "\" style=\"display:inline;vertical-align:middle;\" /></a></dd>"
      ],
      "text/plain": [
       "<IPython.core.display.HTML object>"
      ]
     },
     "metadata": {},
     "output_type": "display_data"
    },
    {
     "data": {
      "text/html": [
       "<h4>proveit.logic</h4>"
      ],
      "text/plain": [
       "<IPython.core.display.HTML object>"
      ]
     },
     "metadata": {},
     "output_type": "display_data"
    },
    {
     "data": {
      "text/html": [
       "<dt><a class=\"ProveItLink\" href=\"../logic/booleans/_theory_nbs_/axioms.ipynb#true_axiom\">proveit.logic.booleans.true_axiom</a></dt><dd><a class=\"ProveItLink\" href=\"../logic/booleans/__pv_it/common/95025295868b9266d37330b4427adf122f6061770/expr.ipynb\"><img src=\"data:image/png;base64,iVBORw0KGgoAAAANSUhEUgAAAA4AAAAOBAMAAADtZjDiAAAAG1BMVEX///8AAAAAAAAAAAAAAAAA\n",
       "AAAAAAAAAAAAAAB4Gco9AAAACHRSTlMAmd2rVHZEZkA3AkMAAAAJcEhZcwAADsQAAA7EAZUrDhsA\n",
       "AAAYSURBVAjXYxBSAgFlBiBwZYAAWtHpQAwAFRwEg6MlY1sAAAAASUVORK5CYII=\n",
       "\" style=\"display:inline;vertical-align:middle;\" /></a></dd>"
      ],
      "text/plain": [
       "<IPython.core.display.HTML object>"
      ]
     },
     "metadata": {},
     "output_type": "display_data"
    },
    {
     "data": {
      "text/html": [
       "<dt><a class=\"ProveItLink\" href=\"../logic/booleans/_theory_nbs_/axioms.ipynb#bools_def\">proveit.logic.booleans.bools_def</a></dt><dd><a class=\"ProveItLink\" href=\"../logic/booleans/__pv_it/axioms/0ed31a4273b0db746a43c9d8e01361d0476217f00/expr.ipynb\"><img src=\"data:image/png;base64,iVBORw0KGgoAAAANSUhEUgAAAGYAAAAVBAMAAABGR4Y+AAAAMFBMVEX///8AAAAAAAAAAAAAAAAA\n",
       "AAAAAAAAAAAAAAAAAAAAAAAAAAAAAAAAAAAAAAAAAAAv3aB7AAAAD3RSTlMAdt3vu82rRCIQZolU\n",
       "mTIFPM77AAAACXBIWXMAAA7EAAAOxAGVKw4bAAABA0lEQVQ4y2NgwA44y7GL9zQACSGT+GC1Agw5\n",
       "0UrsevhSJgBJh0KOyHR0KZ6fDAy8SmCQABOrApMsIL5DFcMOFnQ93AoQrQJIYgcRMkA9a9jI0MNK\n",
       "up6M1aTqKZyotoFUPUXBn26CeJfAwaQGluENwKWH0QDiNqnSCWj2NC/ApYfjD0QPCzua49rCGXDp\n",
       "YZgWA9HD4IAW21cm4NSztQCqJwDNPywJuPSAUghYD4ocRrhNQAk3cBhUM2zciy+sOb+ih7WoiT+W\n",
       "dA3Vww4OPqUJYIcbgx0OlcECUGR4JuCSwa2Hm4EoPeDYhoGJyDLQFIIFgGMbBlACdfICXHoYenOw\n",
       "i3cDxQHNskJHEZ2ZVQAAAABJRU5ErkJggg==\n",
       "\" style=\"display:inline;vertical-align:middle;\" /></a></dd>"
      ],
      "text/plain": [
       "<IPython.core.display.HTML object>"
      ]
     },
     "metadata": {},
     "output_type": "display_data"
    },
    {
     "data": {
      "text/html": [
       "<dt><a class=\"ProveItLink\" href=\"../logic/booleans/_theory_nbs_/axioms.ipynb#false_not_true\">proveit.logic.booleans.false_not_true</a></dt><dd><a class=\"ProveItLink\" href=\"../logic/booleans/__pv_it/axioms/eb8cfde2511c6ba3e5c8a65a4e82d309baeb3e560/expr.ipynb\"><img src=\"data:image/png;base64,iVBORw0KGgoAAAANSUhEUgAAADoAAAAUCAMAAADrw95cAAAAPFBMVEX///8AAAAAAAAAAAAAAAAA\n",
       "AAAAAAAAAAAAAAAAAAAAAAAAAAAAAAAAAAAAAAAAAAAAAAAAAAAAAAAAAAAo1xBWAAAAE3RSTlMA\n",
       "RGZUdpnd76sQMrsizYnn9enzwjX02wAAAAlwSFlzAAAOxAAADsQBlSsOGwAAAH9JREFUOMudk0cS\n",
       "wCAIAFFj17T/PzaHOBljRTiCy1oQYBbSjuuM9yrOZ11UFiYlxdZDvSszxdou6gxQUR+oKKulWDSG\n",
       "ZTTd5XHmd7lkbUlxKJNARZtS1Fmv+z83C9bYnl4EKiSM0fcZtK631pEOvsrXfAdqREslOV2qyFJw\n",
       "0xUPtZQDboKIjKIAAAAASUVORK5CYII=\n",
       "\" style=\"display:inline;vertical-align:middle;\" /></a></dd>"
      ],
      "text/plain": [
       "<IPython.core.display.HTML object>"
      ]
     },
     "metadata": {},
     "output_type": "display_data"
    },
    {
     "data": {
      "text/html": [
       "<dt><a class=\"ProveItLink\" href=\"../logic/booleans/_theory_nbs_/axioms.ipynb#eq_true_intro\">proveit.logic.booleans.eq_true_intro</a></dt><dd><a class=\"ProveItLink\" href=\"../logic/booleans/__pv_it/axioms/af7fcd0228bc2f434dd8febb9d8c4f56a07241be0/expr.ipynb\"><img src=\"data:image/png;base64,iVBORw0KGgoAAAANSUhEUgAAAIwAAAAXBAMAAAArT7qNAAAAMFBMVEX///8AAAAAAAAAAAAAAAAA\n",
       "AAAAAAAAAAAAAAAAAAAAAAAAAAAAAAAAAAAAAAAAAAAv3aB7AAAAD3RSTlMAq1RmmUTNIjK7EInv\n",
       "3XZ/CtNrAAAACXBIWXMAAA7EAAAOxAGVKw4bAAABqElEQVQ4y2NgIAIU4JdmZyAK8CmAqTJc8qwP\n",
       "GBgEQAxlvMZoQ6h8dHGWu2AgwPCYgcEVJJCOzxSuBDDF9B+LHNMDEMm2gKER5LkJ+IxhMYBQ8gW4\n",
       "jGF2AJnEwK2AzxgeCLV9fwMuYxhOMTAD7WLDGzRqkOh48F4BpzHJDAxn7949jdcYb4ifGPQNcBqz\n",
       "kYHBg4FhFpi9AKocChbAGMlgMoihfwNK9CAbY8bAUMjADhbjOgEW4YTFzwmYMZfApANDvQBO1+gA\n",
       "9S3gDgAxuT+hGAPlAsFRcBKc4iI/Aacx/SAWJIQjzqEYA+XCjFnHwMB/AacxMUCcYAdmPkhEMQbK\n",
       "hXnKgYGB9wDOsNEF4k1ZYFczuCEbA+MCwTxQtgEliw84XWMJxDVgkyMY3iAbA+NCYpOhBiTzHacx\n",
       "oDTBCE6d3rvlFyAZA+MCQS8Dw8r/WQxM879twMzckLR0FV4YMDDUNyCMgXOBgLeBUEnCDg/8YGBM\n",
       "KCCMgXMhGY8AYIGlb5aDDFz+qXBjEFwQmE7ImEpMIU5MoZWEjJlOlDHsDwgUsgVEGUMOYCdLFwD3\n",
       "G2avyaI3nAAAAABJRU5ErkJggg==\n",
       "\" style=\"display:inline;vertical-align:middle;\" /></a></dd>"
      ],
      "text/plain": [
       "<IPython.core.display.HTML object>"
      ]
     },
     "metadata": {},
     "output_type": "display_data"
    },
    {
     "data": {
      "text/html": [
       "<dt><a class=\"ProveItLink\" href=\"../logic/booleans/_theory_nbs_/axioms.ipynb#eq_true_elim\">proveit.logic.booleans.eq_true_elim</a></dt><dd><a class=\"ProveItLink\" href=\"../logic/booleans/__pv_it/axioms/e109ec75dbf9febf42e2a6841bae9d9b810afe380/expr.ipynb\"><img src=\"data:image/png;base64,iVBORw0KGgoAAAANSUhEUgAAAGgAAAAWBAMAAADeGsQjAAAAMFBMVEX///8AAAAAAAAAAAAAAAAA\n",
       "AAAAAAAAAAAAAAAAAAAAAAAAAAAAAAAAAAAAAAAAAAAv3aB7AAAAD3RSTlMAq1RmmUTNIjK7EInv\n",
       "3XZ/CtNrAAAACXBIWXMAAA7EAAAOxAGVKw4bAAABQklEQVQ4y2NgIBWwJzAwCIAYyiRoYvvAwOAK\n",
       "YqSToEkfqKkRZOMEEjQ5fgfatoCBgVuBeD3c1T8YGJgNgBpJsKiO7xOQPHv37mkSNDkwfQaSHgwM\n",
       "s8DcBWCSBSbLhVUPqwLHbyBVyMAODnauE2BRTpj0mgaYL2bOPDlzHpTDwsD+EaRqAXcAWO4Tqqb9\n",
       "SKGDCN2XLo4/gRTTA0g4RJxD0cTa8wCLJi6g4F8QI8EOzH+QiKKJj00AiyaQj++AGJuywIoY3FA0\n",
       "PWBJYPCcCQQGyJqCgTgfxKgBGxnB8AZZE2sD3wFMm9hBYvMLgAQjOJi8d8svQNLEsnvjLwxNXPO/\n",
       "LWDQ/J8NE+ZjYKhvQNL0gIH9BxbnoQKgY/kVEJpYgUo/YQtyZMBykIHLPxWhyUeAYcm3AETaIZC2\n",
       "OBnIAPTTxE6EGgDCrEmFo2pTSQAAAABJRU5ErkJggg==\n",
       "\" style=\"display:inline;vertical-align:middle;\" /></a></dd>"
      ],
      "text/plain": [
       "<IPython.core.display.HTML object>"
      ]
     },
     "metadata": {},
     "output_type": "display_data"
    },
    {
     "data": {
      "text/html": [
       "<dt><a class=\"ProveItLink\" href=\"../logic/booleans/implication/_theory_nbs_/axioms.ipynb#implies_t_f\">proveit.logic.booleans.implication.implies_t_f</a></dt><dd><a class=\"ProveItLink\" href=\"../logic/booleans/implication/__pv_it/axioms/aac2148bd08007417c156444654d2678db44244f0/expr.ipynb\"><img src=\"data:image/png;base64,iVBORw0KGgoAAAANSUhEUgAAAHoAAAAVBAMAAAB71edYAAAAMFBMVEX///8AAAAAAAAAAAAAAAAA\n",
       "AAAAAAAAAAAAAAAAAAAAAAAAAAAAAAAAAAAAAAAAAAAv3aB7AAAAD3RSTlMAInZUiRDNmWbv3US7\n",
       "qzJazP2FAAAACXBIWXMAAA7EAAAOxAGVKw4bAAAA8ElEQVQ4y2NgYBBgIATwqGAyIKh7E24pEwaG\n",
       "qlUgsBab7A6wBQ24ZFgTwGwjHGZDxFNxybA3EKG7HZcMJwOm7qPoujkDcOg2w6L7DbputgYcukuw\n",
       "6OZwQNPNcgGH7gwU3ezg0F/1HU03BzhoUaMGLLMYi90MzMmoupkn4LB7NjbdDGGzUXTzfSBFN2OK\n",
       "AIpublx2L8bm72UCaC5fgMPfh7DYzX0APdQO4LDbF4tuMfT4ZnfAofsVUpqHgXNQGujUmWCncm1A\n",
       "0wqT4XpARH6WwpVBOQoYCIMKnDIHCWtmPIBTKoawbh7cRROjAkHdirgkAD2cQqjL4NQdAAAAAElF\n",
       "TkSuQmCC\n",
       "\" style=\"display:inline;vertical-align:middle;\" /></a></dd>"
      ],
      "text/plain": [
       "<IPython.core.display.HTML object>"
      ]
     },
     "metadata": {},
     "output_type": "display_data"
    },
    {
     "data": {
      "text/html": [
       "<dt><a class=\"ProveItLink\" href=\"../logic/booleans/implication/_theory_nbs_/axioms.ipynb#affirmation_via_contradiction\">proveit.logic.booleans.implication.affirmation_via_contradiction</a></dt><dd><a class=\"ProveItLink\" href=\"../logic/booleans/implication/__pv_it/axioms/e370e39221e2813384746423b62d6484d70717460/expr.ipynb\"><img src=\"data:image/png;base64,iVBORw0KGgoAAAANSUhEUgAAAJkAAAAWBAMAAAAhlCOEAAAAMFBMVEX///8AAAAAAAAAAAAAAAAA\n",
       "AAAAAAAAAAAAAAAAAAAAAAAAAAAAAAAAAAAAAAAAAAAv3aB7AAAAD3RSTlMAq1RmmUTNIjK7EInv\n",
       "3XZ/CtNrAAAACXBIWXMAAA7EAAAOxAGVKw4bAAACDklEQVQ4y2NgoBooA2IBEEOZGqblA7EriJFO\n",
       "BcOY/gOJRiBmn0AF01jkCxgY2BYwMHArUMG07fsbGBiYDYAmUsEw9gfvQW46e/fuaWp4lEEf6C4G\n",
       "DwaGWWD+AnQFDhBKHS7AxcDwAJdpQQz9G4BUIQM7OJVwnYDGTXbKFUg4QuKGOQCuY00D0AlY7IMw\n",
       "60HGcC7gBqvn/gQk+iSnMjzYUKSBZNpChI79CgysG5BNQ6QFviku8iAe0wNIJEScA3oe6G2gadyL\n",
       "kNS6wnWw9gD9mcWAlNwRpq1jYOC/AGIk2IH5DxIZGB6DGRuKdyGpvYCwnw3ol01gJmMBmmlAP/Me\n",
       "ADE2ga3jY3Bj4ALLPnA504BQy54A1/GABchWYdg5c+bMaSdQTWMFpbMPIFYNOBIiGN6AxUBua3mK\n",
       "UMs6gYEbqH0ukNXAB7Q9EqKd2xXFtBpQBHwHuxrsEu/d8guYM2fOnAQKN26EaUwCEK8BA3X3xl8M\n",
       "DJ3QxCq9AMm0lf+zGJjmf4PHEB8DQ30DxwaI27j5EKZxTICZ9oCB/QfMpzNno4UbKggGxokCJBkD\n",
       "TevDiAUWcDAAE9E7iEcN8JnGcpCByz+VoRLoaaa87JnIaqdDlfgIMCz5FgDltoBMnDnz5Mx5eDIb\n",
       "186ZU9HTZjSqignYcyFhANHIUoDiiQJyiwVoqOxCFjMlu5ApgJccCIDfiwCVsoREg7XbngAAAABJ\n",
       "RU5ErkJggg==\n",
       "\" style=\"display:inline;vertical-align:middle;\" /></a></dd>"
      ],
      "text/plain": [
       "<IPython.core.display.HTML object>"
      ]
     },
     "metadata": {},
     "output_type": "display_data"
    },
    {
     "data": {
      "text/html": [
       "<dt><a class=\"ProveItLink\" href=\"../logic/booleans/implication/_theory_nbs_/axioms.ipynb#denial_via_contradiction\">proveit.logic.booleans.implication.denial_via_contradiction</a></dt><dd><a class=\"ProveItLink\" href=\"../logic/booleans/implication/__pv_it/axioms/15e245c22c3eb4d9b40c738cddd8abe5669ddc9a0/expr.ipynb\"><img src=\"data:image/png;base64,iVBORw0KGgoAAAANSUhEUgAAAJ4AAAAXBAMAAAAIFOtYAAAAMFBMVEX///8AAAAAAAAAAAAAAAAA\n",
       "AAAAAAAAAAAAAAAAAAAAAAAAAAAAAAAAAAAAAAAAAAAv3aB7AAAAD3RSTlMAq1RmmUTNIjK7EInv\n",
       "3XZ/CtNrAAAACXBIWXMAAA7EAAAOxAGVKw4bAAACJUlEQVQ4y6WVPUgcURDH/96pp7t62onVHQQk\n",
       "oOJVgTRhCw0BC0UbCwuDCcEPjCYQEAQ3kNYPQkSehLjY2chpAqIpokVA1IiIlgcLYicoFlqambe3\n",
       "d+/tRSN7A29v5s2935t5M/sWKEJGA3YMRUk8qVofgDIXqGX9USheo2a9pXEKtLH+JgzO6FOtyC09\n",
       "yh185Lxnw/BKU5qVoNOMWoyEmQzDq9Ks9V82PXcRpV3KQx1fg1Za94KD6gf+ZDJ7oXjtWrpo4fRX\n",
       "gRfAgpxyggssX3H+yetXjS7MpOnnCTCGmOwZYydbqKFXx955+lXyPX4kWTkiPcNiyb0nmdIEVDpm\n",
       "J7vNK3pM18/BTb97rPGkJyeVvvLbPzoCxb+0JvjvMxSP65Wj54D2o+SJZy5pPPZw4Km7eStAzSHp\n",
       "vTT6nslp96Xsb+a939R47GGp03lHCo9Srt4ivZnG2qB8GfEchiS4rfu2ymOPKUiGbY33zedZKOOm\n",
       "uyT9KY0JWY4enMtpju/Tmcpjjyc/OlXeav5MJ3j+JttDJXLb9p8JJzogxGc+P1PlscfTxjZV3lQO\n",
       "t3w7iMjiNTXMSe7uASbtirQXnxlXeNIj8xVpLd9qu6AlY4e+1k0FSnqNTbxphed5WL7r9Yhad18R\n",
       "pdswOl5jnLaMjAyJVJ6X9ZBU8PoN8VUI11s0X8AbD15pG2IubwVuMSO4ermAN3/vC/+/WzHmBj8A\n",
       "o0Xxiv18PUT+AqeEhq3dPYtNAAAAAElFTkSuQmCC\n",
       "\" style=\"display:inline;vertical-align:middle;\" /></a></dd>"
      ],
      "text/plain": [
       "<IPython.core.display.HTML object>"
      ]
     },
     "metadata": {},
     "output_type": "display_data"
    },
    {
     "data": {
      "text/html": [
       "<dt><a class=\"ProveItLink\" href=\"../logic/booleans/implication/_theory_nbs_/axioms.ipynb#iff_def\">proveit.logic.booleans.implication.iff_def</a></dt><dd><a class=\"ProveItLink\" href=\"../logic/booleans/implication/__pv_it/axioms/58a59ea31f5a83ad01737244ae60b8d4dd112afb0/expr.ipynb\"><img src=\"data:image/png;base64,iVBORw0KGgoAAAANSUhEUgAAAXkAAAAWBAMAAADX+PE1AAAAMFBMVEX///8AAAAAAAAAAAAAAAAA\n",
       "AAAAAAAAAAAAAAAAAAAAAAAAAAAAAAAAAAAAAAAAAAAv3aB7AAAAD3RSTlMAq1RmmUTNIjK7EInv\n",
       "3XZ/CtNrAAAACXBIWXMAAA7EAAAOxAGVKw4bAAAD3klEQVRYw9WWTUhUURTHjzOj83zjvBQq2oRC\n",
       "EYSLJpAgohr7IpFIamMRZUVIGTRuhCizlkGRRFBE6KwEoULduHCRGn0RxRDhqqEBFxFEmYlWUtO9\n",
       "95xz38ybO80wuekPfxzfub/3zr333A+AvypGLtxqqcjimKLe7tShhbr+0uzo0pHE5FOwDRl2tXy4\n",
       "Jk/jerLQOVN8c7qm5vRlcCJLRta7MZMqZkAx7N3yYbs5ebsNLeRLG1u8ACj7DnDmn8kRl9MxgzaI\n",
       "7BVDviLno9ecfSCClj9rTWUW/A1QPgfQ8K+kPeVyOmZQ4wIgQ66IA4TyFFsVWWj0EU1lBWCPlfxi\n",
       "hPziW1XxIkipu3lIZ2OL5nSMVOm+PHRBTolkyP4IZmTSOrIYjtQX6uG0fB/nUyYmsuKZcKQIUuoq\n",
       "mMmw1as5HSNZbmVccmYBGfarZPJlnuybyWJGYUPEfZXN1VrVC/Zq0ZVQdWESh3zITNbT0mvOjLG2\n",
       "6F9R3zdAhr2X5zOek/1JMsABuIHfvSY6m0w+pbY3+j6vlLn55WILJJWqzSRFuZyzSLltrNVf1DGA\n",
       "fYp5HyWovM5aJIbdCUH1Qfs5zu3cWBP3+w1ZdBp6VCMHO2rdxAZfYuB7LPeVcU+/c0mS74SJtKoh\n",
       "HGdOx9w6pNoLQPArMezKeEitmNAszm0CHM7lCRmcW7tqVclMUOQ+ZnRPWC5Ka8aTfQ6pNfDEQJaJ\n",
       "nT/FnI65++9ZXNMfdzX+AGTYvhQu2tbXuJyi4J/x5vAQYFlC/ujE+gl2YAM5EtvFZ8vH82WvSd4p\n",
       "O2IGckBkmNDZc0yraxQ7IZ79AmTY0LZNxVLHcTnVwYOId/5F4YUxwa1YvjgyllxDtWJcfAlP3eeS\n",
       "FJ2KGUh1Vu1gTse47pPtXDgA7wAZNoyoHcSBPapJz3TDKu5zH7k8gme0LKxoxtnsiLPDmpdPvced\n",
       "gcR112skE3wd6suMsQ7R34N07ZAMGy6q0WqFTzi4YC9nbJh8Ue7xC/hshRyEFjq5xKgekX0PDHmy\n",
       "N5GZN7Zs0p/iQ2Q4M5ZxM1N/5Rz2x5BhyyUjd9qxWrXqReo9lBxcRw+mz4Cvfx4zFCUK5+nE6f9a\n",
       "s1LtPuEWT/YmUuqOkSyTX7ZSyLgxPmuxTO3++TisT3cgw6apFEmrVpMAx3i9hy+jsy4o8kXeg6Hb\n",
       "+8BEGm/v3blczpXIxHRnsaKmltXZQxD8CfZbfTJGudALaKf3Qalk0czOTDYwAfb+U9YkbFoca3Lv\n",
       "JbfJBWS4o5ZKFsmws+Tz/D9ILqDK3DtwqWSRDDtLh73dTKEL6INhgEoki2Q+mNgI/F/6A9dMcbXF\n",
       "hKa/AAAAAElFTkSuQmCC\n",
       "\" style=\"display:inline;vertical-align:middle;\" /></a></dd>"
      ],
      "text/plain": [
       "<IPython.core.display.HTML object>"
      ]
     },
     "metadata": {},
     "output_type": "display_data"
    },
    {
     "data": {
      "text/html": [
       "<dt><a class=\"ProveItLink\" href=\"../logic/booleans/negation/_theory_nbs_/axioms.ipynb#not_t\">proveit.logic.booleans.negation.not_t</a></dt><dd><a class=\"ProveItLink\" href=\"../logic/booleans/negation/__pv_it/axioms/fa3556271013b3b54b7b75b637f6a18a1772897d0/expr.ipynb\"><img src=\"data:image/png;base64,iVBORw0KGgoAAAANSUhEUgAAAFcAAAAVBAMAAADBdm84AAAAMFBMVEX///8AAAAAAAAAAAAAAAAA\n",
       "AAAAAAAAAAAAAAAAAAAAAAAAAAAAAAAAAAAAAAAAAAAv3aB7AAAAD3RSTlMAInZUiRDNmWbv3US7\n",
       "qzJazP2FAAAACXBIWXMAAA7EAAAOxAGVKw4bAAAAvElEQVQoz2NgYBBgQAWMDLgBkwGaALcCbsUm\n",
       "MAb7KjC4wKCBRRV3A4hkTUASYgYbyhaAqRgiw96AIcRRgEsxJ6YQw1Rcis2wKM7ApbgEi2JfXIoz\n",
       "sChuQwkcJJnFMOEChGJLXCbPhsXbBYTi96Qo3olL8WIsiq1wufkQTDGSm3twmeyLJTRKcCl+hZlc\n",
       "GFajqQS6aOUskIu4HmCYwrgAVwrFkmpQ0hYqOIghIoM78ccQoR3hQvRcxCSASykA470wqH9vffUA\n",
       "AAAASUVORK5CYII=\n",
       "\" style=\"display:inline;vertical-align:middle;\" /></a></dd>"
      ],
      "text/plain": [
       "<IPython.core.display.HTML object>"
      ]
     },
     "metadata": {},
     "output_type": "display_data"
    },
    {
     "data": {
      "text/html": [
       "<dt><a class=\"ProveItLink\" href=\"../logic/booleans/negation/_theory_nbs_/axioms.ipynb#not_f\">proveit.logic.booleans.negation.not_f</a></dt><dd><a class=\"ProveItLink\" href=\"../logic/booleans/negation/__pv_it/axioms/b9bd74a578c6b2e794e4ce82c543ff5c79f215890/expr.ipynb\"><img src=\"data:image/png;base64,iVBORw0KGgoAAAANSUhEUgAAAFcAAAAVBAMAAADBdm84AAAAMFBMVEX///8AAAAAAAAAAAAAAAAA\n",
       "AAAAAAAAAAAAAAAAAAAAAAAAAAAAAAAAAAAAAAAAAAAv3aB7AAAAD3RSTlMAInZUiRDNmWbv3US7\n",
       "qzJazP2FAAAACXBIWXMAAA7EAAAOxAGVKw4bAAAAuklEQVQoz2NgYBBgQAWMDLgBkwGaALcCbsUm\n",
       "yOoaQKQGuhL2VWBwgYE1AUmUGWwoWwCmkRAZ9gYMIY4CXIo5MYUYpuJSbIZFcQYuxSVYFPviUpyB\n",
       "RXEbShAgySyGCRcgFFviMnk2LN4uIBS/J0XxTlyKF2NRbIXLzYdgipHc3IPLZF8soVGCS/Er5OSy\n",
       "chbY3tWYiiFJjOsBhgTjAlwpFEuqQUlbqOAghogM7sQfQ4R2hAvRcxGTAC6lAOIDMKhWJ6jVAAAA\n",
       "AElFTkSuQmCC\n",
       "\" style=\"display:inline;vertical-align:middle;\" /></a></dd>"
      ],
      "text/plain": [
       "<IPython.core.display.HTML object>"
      ]
     },
     "metadata": {},
     "output_type": "display_data"
    },
    {
     "data": {
      "text/html": [
       "<dt><a class=\"ProveItLink\" href=\"../logic/booleans/negation/_theory_nbs_/axioms.ipynb#negation_elim\">proveit.logic.booleans.negation.negation_elim</a></dt><dd><a class=\"ProveItLink\" href=\"../logic/booleans/negation/__pv_it/axioms/0fd3f403bc4d76bb1a3bc88358aa217c1bfc7dc50/expr.ipynb\"><img src=\"data:image/png;base64,iVBORw0KGgoAAAANSUhEUgAAAJcAAAAXBAMAAAD0AcCSAAAAMFBMVEX///8AAAAAAAAAAAAAAAAA\n",
       "AAAAAAAAAAAAAAAAAAAAAAAAAAAAAAAAAAAAAAAAAAAv3aB7AAAAD3RSTlMAq1RmmUTNIjK7EInv\n",
       "3XZ/CtNrAAAACXBIWXMAAA7EAAAOxAGVKw4bAAABvElEQVQ4y2NgIBoUUCSNCvgUwFQZLvk4IBYA\n",
       "MZSJMEwbQuVjkQoGW2bAwOAKYqQTNosrAUwx/ccipwcmsxgYGoEU+wTChrEYQCj5AlyGmTAwsC1g\n",
       "YOBWIGwYD4Tavr8Bl2E8CxiYgTayERFkamCS/cF7BVyGsQFNOnv37mkiDPOG+JJB3wCXYdzAuPRg\n",
       "YJgF5iyAKkcBC2CMZDAZxNC/AUT73gWBiyiGMQOjqJCBHZw8uE6AhThR4/AEjHUJTDow1AvgchnT\n",
       "AaDuBdwBYFd+wmIYVBAIjoLT0hQX+Qm4DOP4ADTwAST8I85hMQwqCDNsHQMD/wVchrECXcaQYAdm\n",
       "P0jEYhhUEOZNBwYG3gO4wowJZM2mLLAPGNwwDYMJAsE8kN2gZPQBl8uYQQFQAw7SCIY3SIbtnDlz\n",
       "5gWEIBBsBKkEyX/HZRgLKJ4ZwWnae7f8AlSXCSAEgaCXgWHl/ywGpvnfNqCaBPTxGbCPeQMQHmKo\n",
       "b0A3DC4IBLwNhJJ1LXIpwq+AapgDQhAUIg6EDHOGlwkHGbj8U9EiACEIAtMJmIWt6OHEpXglAcM4\n",
       "C0gwjP0BfsOeM5BgGDmAnQK9AL/XYzuwbv1UAAAAAElFTkSuQmCC\n",
       "\" style=\"display:inline;vertical-align:middle;\" /></a></dd>"
      ],
      "text/plain": [
       "<IPython.core.display.HTML object>"
      ]
     },
     "metadata": {},
     "output_type": "display_data"
    },
    {
     "data": {
      "text/html": [
       "<dt><a class=\"ProveItLink\" href=\"../logic/booleans/negation/_theory_nbs_/axioms.ipynb#operand_is_bool\">proveit.logic.booleans.negation.operand_is_bool</a></dt><dd><a class=\"ProveItLink\" href=\"../logic/booleans/negation/__pv_it/axioms/9b3df63ea9b96f801a3dadc45f3be22470f1b8ac0/expr.ipynb\"><img src=\"data:image/png;base64,iVBORw0KGgoAAAANSUhEUgAAALUAAAAXBAMAAAC/qRN/AAAAMFBMVEX///8AAAAAAAAAAAAAAAAA\n",
       "AAAAAAAAAAAAAAAAAAAAAAAAAAAAAAAAAAAAAAAAAAAv3aB7AAAAD3RSTlMAq1RmmUTNIjK7EInv\n",
       "3XZ/CtNrAAAACXBIWXMAAA7EAAAOxAGVKw4bAAACq0lEQVRIx62VTYjTQBiG302bpm222V48iIdG\n",
       "BS+C9uB6EaTo6grrT9DLqiArIkIRrQg9KVuPImJAUSOo8bgIEj2o1YP1ICzIahFZECzEi4K/i4f1\n",
       "uH4zk9/tjxCcQybzJvNkvvf7ZgIkb7XED//ZNJ139WXqx+uLcyuAI3RfZMLaJOz1oju9TM7Jbv2e\n",
       "Aa0M7GDjEwnQ+SneSUtd7LJaM4EqcIGGipmAnS6LrlTrYqd0cmMTkLEBVU/AHhbdkxcNz+jbnfmA\n",
       "TTEN20jR5zNJ7F7Hr4r7SyxMPmUH6x466xCUwHOdzusk7AlhCTYKb+p24MnXH6uoV8mXXcAtLtre\n",
       "yyJFoYs2tF7sY/y6H1ccxMohJ8+/fU+sFPlyBgqvw/yseCTeGA3rgfSK78PjPdt8/R2/VjDNZ2Mq\n",
       "kkttlIpEatG9rRpMU39H2PliwGb6YeqznyxDU5U1Xurwiifw2liJF1mWrO188NgwaUJ2gfiuSOXk\n",
       "mwg7bQRsprNiGiOopuKZHmU/AEbafDFmZN0wiSK3WDRbueYejbALoa9MpyJl+4zYyhY76gmZVWjx\n",
       "YTvGpuVKTHlU5dFhZ4QdHhJclyqY4YP07ln/wR1WeKyAF/jwZ4y9gXLJIjnHvZ3E9wj7INC0LKvt\n",
       "6bKJA5ytZvf6bj1kU9mEP3yY0QO2o36jeNKsfoZ4diael+yQvVq8V/T0rInN9Cmd/HYcj3EZmFmq\n",
       "Qrq7yJX8ykMizpMWPwdRMMLQMd0I2Rd9ttDJk0ti3XBcb0ahEa93uSn2vN/OB3cU8ojelcuKp2su\n",
       "lapgP/XZqcrgfbs9ONReIr/veMjO1WI6DZWbbO98bl4NJt8YiO51tgq27MREViT3LcvoEvu3XK0f\n",
       "G+MxcbznytxB7C/oy1btiJYy8F+aEpx+kd9XMtRftIWaMXw2otwAAAAASUVORK5CYII=\n",
       "\" style=\"display:inline;vertical-align:middle;\" /></a></dd>"
      ],
      "text/plain": [
       "<IPython.core.display.HTML object>"
      ]
     },
     "metadata": {},
     "output_type": "display_data"
    },
    {
     "data": {
      "text/html": [
       "<dt><a class=\"ProveItLink\" href=\"../logic/booleans/conjunction/_theory_nbs_/axioms.ipynb#and_t_t\">proveit.logic.booleans.conjunction.and_t_t</a></dt><dd><a class=\"ProveItLink\" href=\"../logic/booleans/conjunction/__pv_it/axioms/2e06e480834dffc99779e341f5b63756ff25f98e0/expr.ipynb\"><img src=\"data:image/png;base64,iVBORw0KGgoAAAANSUhEUgAAAHAAAAAVBAMAAABs93eRAAAAMFBMVEX///8AAAAAAAAAAAAAAAAA\n",
       "AAAAAAAAAAAAAAAAAAAAAAAAAAAAAAAAAAAAAAAAAAAv3aB7AAAAD3RSTlMAInZUiRDNmWbv3US7\n",
       "qzJazP2FAAAACXBIWXMAAA7EAAAOxAGVKw4bAAABBklEQVQ4y2NgYBBgwAPwSDIZ4NO4CbeUCQP7\n",
       "KjC4gCxaBRZay8DUgK4eJsOaAOIxK8DEWeAOMAKTqVjsAsuwN6BqjEpA1diOSyMnA6pGjduoGjkD\n",
       "cGg0Q9O44A2qRrYGHBpLUDUyO7AJoGhkuYBDYwaqRjYB5gIUjRwJyEGJJLMYVeNbBoalKBqZJ+Cw\n",
       "cTaqxnsMDEooGvk+EKURFKtRKBq5cdmI6lRQ9LMboDh1AQ4/HkLRyAXEjAkogXMAh42+KBqbQMQ5\n",
       "ZI3sDjg0voL4BBrNV0HEIwh7B8QNGzA1gmW4HjDgBVK4JDgK8GuswClzEK8+xgM4pWLwauTBXXYw\n",
       "KuDTqIhLAgC+eT6Z7OhW8wAAAABJRU5ErkJggg==\n",
       "\" style=\"display:inline;vertical-align:middle;\" /></a></dd>"
      ],
      "text/plain": [
       "<IPython.core.display.HTML object>"
      ]
     },
     "metadata": {},
     "output_type": "display_data"
    },
    {
     "data": {
      "text/html": [
       "<dt><a class=\"ProveItLink\" href=\"../logic/booleans/conjunction/_theory_nbs_/axioms.ipynb#and_t_f\">proveit.logic.booleans.conjunction.and_t_f</a></dt><dd><a class=\"ProveItLink\" href=\"../logic/booleans/conjunction/__pv_it/axioms/12e5b601afe5116e2b09be2b7482d4d0c350a2490/expr.ipynb\"><img src=\"data:image/png;base64,iVBORw0KGgoAAAANSUhEUgAAAHAAAAAVBAMAAABs93eRAAAAMFBMVEX///8AAAAAAAAAAAAAAAAA\n",
       "AAAAAAAAAAAAAAAAAAAAAAAAAAAAAAAAAAAAAAAAAAAv3aB7AAAAD3RSTlMAInZUiRDNmWbv3US7\n",
       "qzJazP2FAAAACXBIWXMAAA7EAAAOxAGVKw4bAAABCElEQVQ4y2NgYBBgwAPwSDIZ4NO4CbeUCQP7\n",
       "KjC4gCaxA2xsAxYtYBnWBBDJrAATZIE7wAhMpmLRCJZhb0DVGJWAqrEdl0ZOBlSNGrdRNXIG4NBo\n",
       "hqZxwRtUjWwNODSWoGpkdmATQNHIcgGHxgxUjWwCzAUoGjnAfq4Ch/taZJnFqBrfMjAsRdHIPAGH\n",
       "jbNRNd5jYFBC0cj3gSiNoFiNQtHIjctGVKeCop/dAMWpC3D48RCKRi4gZkxACZwDOGz0RdHYBCLO\n",
       "IWtkd8Ch8RXEJ9BovgoiHkHcNhPsNq4NaLpgMlwPGPACKVwSHAX4NVbglDmIVx/jAZxSMXg18uAu\n",
       "OxgV8GlUxCUBANnJPncvU02iAAAAAElFTkSuQmCC\n",
       "\" style=\"display:inline;vertical-align:middle;\" /></a></dd>"
      ],
      "text/plain": [
       "<IPython.core.display.HTML object>"
      ]
     },
     "metadata": {},
     "output_type": "display_data"
    },
    {
     "data": {
      "text/html": [
       "<dt><a class=\"ProveItLink\" href=\"../logic/booleans/conjunction/_theory_nbs_/axioms.ipynb#and_f_t\">proveit.logic.booleans.conjunction.and_f_t</a></dt><dd><a class=\"ProveItLink\" href=\"../logic/booleans/conjunction/__pv_it/axioms/a65bf4fde9913e34cd5a85bbb0b1d1d29d885ac50/expr.ipynb\"><img src=\"data:image/png;base64,iVBORw0KGgoAAAANSUhEUgAAAHAAAAAVBAMAAABs93eRAAAAMFBMVEX///8AAAAAAAAAAAAAAAAA\n",
       "AAAAAAAAAAAAAAAAAAAAAAAAAAAAAAAAAAAAAAAAAAAv3aB7AAAAD3RSTlMAInZUiRDNmWbv3US7\n",
       "qzJazP2FAAAACXBIWXMAAA7EAAAOxAGVKw4bAAABDUlEQVQ4y2NgYBBgwAPwSDIZ4NO4CbeUCYjg\n",
       "bkATrVoFAmsZmBqwaNkBIlgTQCSzAkyQBe4AIzCZikUjWIa9AVVjVAKqxnZcGjkZUDVq3EbVyBmA\n",
       "Q6MZmsYFb1A1sjXg0FiCqpHZgU0ARSPLBRwaM1A1sgkwF6Bo5EhADmQkmcWoGt8yMCxF0cg8AYeN\n",
       "s1E13mNgUELRyPeBKI2gWI1C0ciNy0ZUp4Kin90AxakLcPjxEIpGLiBmTEAJnAM4bPRF0dgEIs4h\n",
       "a2R3wKHxFVBu1aqVs1atAkXYVZDQI6SkzMC1ATP5zwS5musBA14ghUuCowC/xgqcMgfx6mM8gFMq\n",
       "Bq9GHtxlB6MCPo2KuCQAUbM+d/PnPScAAAAASUVORK5CYII=\n",
       "\" style=\"display:inline;vertical-align:middle;\" /></a></dd>"
      ],
      "text/plain": [
       "<IPython.core.display.HTML object>"
      ]
     },
     "metadata": {},
     "output_type": "display_data"
    },
    {
     "data": {
      "text/html": [
       "<dt><a class=\"ProveItLink\" href=\"../logic/booleans/conjunction/_theory_nbs_/axioms.ipynb#and_f_f\">proveit.logic.booleans.conjunction.and_f_f</a></dt><dd><a class=\"ProveItLink\" href=\"../logic/booleans/conjunction/__pv_it/axioms/b5ff076bc01af38ecec321425420cbf9d4b90b460/expr.ipynb\"><img src=\"data:image/png;base64,iVBORw0KGgoAAAANSUhEUgAAAHAAAAAVBAMAAABs93eRAAAAMFBMVEX///8AAAAAAAAAAAAAAAAA\n",
       "AAAAAAAAAAAAAAAAAAAAAAAAAAAAAAAAAAAAAAAAAAAv3aB7AAAAD3RSTlMAInZUiRDNmWbv3US7\n",
       "qzJazP2FAAAACXBIWXMAAA7EAAAOxAGVKw4bAAABC0lEQVQ4y2NgYBBgwAPwSDIZ4NO4CbeUCYjg\n",
       "bsCU2AE2FosERIY1AUQyK8AEWeAOMAKTqVg0gmXYG1A1RiWgamzHpZGTAVWjxm1UjZwBODSaoWlc\n",
       "8AZVI1sDDo0lqBqZHdgEUDSyXMChMQNVI5sAcwGKRg6wn6tWgcBaZJnFqBrfMjAsRdHIPAGHjbNR\n",
       "Nd5jYFBC0cj3gSiNoFiNQtHIjctGVKeCop/dAMWpC3D48RCKRi4gZkxACZwDOGz0RdHYBCLOIWtk\n",
       "d8Ch8RVQbtWqlbNWrQJF2FWQ0COI22aC3ca1AU0XTIbrAQNeIIVLgqMAv8YKnDIH8epjPIBTKgav\n",
       "Rh7cZQejAj6NirgkAF5+PmZemn66AAAAAElFTkSuQmCC\n",
       "\" style=\"display:inline;vertical-align:middle;\" /></a></dd>"
      ],
      "text/plain": [
       "<IPython.core.display.HTML object>"
      ]
     },
     "metadata": {},
     "output_type": "display_data"
    },
    {
     "data": {
      "text/html": [
       "<dt><a class=\"ProveItLink\" href=\"../logic/booleans/conjunction/_theory_nbs_/axioms.ipynb#left_in_bool\">proveit.logic.booleans.conjunction.left_in_bool</a></dt><dd><a class=\"ProveItLink\" href=\"../logic/booleans/conjunction/__pv_it/axioms/75f54c05e4cea1b258e66ff4d9fbf25b99fcb9940/expr.ipynb\"><img src=\"data:image/png;base64,iVBORw0KGgoAAAANSUhEUgAAANQAAAAXBAMAAACBjHwxAAAAMFBMVEX///8AAAAAAAAAAAAAAAAA\n",
       "AAAAAAAAAAAAAAAAAAAAAAAAAAAAAAAAAAAAAAAAAAAv3aB7AAAAD3RSTlMAq1RmmUTNIjK7EInv\n",
       "3XZ/CtNrAAAACXBIWXMAAA7EAAAOxAGVKw4bAAADUUlEQVRIx61WXUgUURQ+7u44O7M5+WBU9NCW\n",
       "EARFS5kQUq1lP6bVgBCm/RgRgUluL0IUrj1KQUs95AaxE0QQZawhlS2U+aRFofRDQQtbghBUmJWZ\n",
       "YnXOubO7sz8YyS7snHvOvfd855zv3DsDkLOfPOvJ//59ED4bUq2fB5qbhnSQYgCFpBfnAMkWZpE/\n",
       "mmYPHJAb5wEMA2wh9WgOoK4LsSoDqgbuKRiCAWco6UAOoDYLUf4zE2p1HoDdS2jgcucAqpefrlMT\n",
       "QtWuRF8noPJRPgG7B5PLBVWiHVq1MZbScSOZ1fwylIcBnkWjT3MA5RBd4bV9Y9liJNvi9hDNdQFs\n",
       "B7jMNiNtrxmtDx9q6pSWBSrfw8m4nVOQ2miB/U3TO1CWApwAmRte7eeZ9u+RyjYaKGLlWnrcajP3\n",
       "OUNV3R0Yu6kuu7tzkzkscIv45K+sNljbYngPprECXRounQkVRbYPgtabhFI5jEfkp5FG6wE+AdQT\n",
       "6vugrrnkpWYUc9jJx4ryXxwS0hJ9G4dSJKzgeaxQTHRF7XMWeV6wjyahHORBOodn3b6I9CKAjXxI\n",
       "oAIxNBc8cFugVFw3zREGrFkpgOo+ynUDm2KHxBY3dHqSUAXMTT7mpihEZh+oL/h0aLQIsyozLAUk\n",
       "ft+xOpgKhfVcieM7jYLqrTzjHy5ZAEmoFo7CgUuLqQry7zXlmI3NCzd4k6O63/SoYEJQg/9mVr+k\n",
       "QNlwch2OTzMdtcQBk6EWWaD2Uv3aiL0ANSoyeRV7QgqwV8zKuUsXHl3oRSaSQz5uyMStEKiHh90o\n",
       "q4gdJrYqstgwyfDrSaglVJZI1yTYPNQMyKT8A1kPQGkwGHQjV+Gw2ZuDoIbGDVj+5xiTtbBO2EcG\n",
       "QnSzA7yyHBU/Q/YBHLQ0ezvVD+QJUpEsZFKa4AKeFVlBOGZ6eJN6zqQe82KKv7AS7GE95rrVMMiT\n",
       "oL6ElLaQsAHG6D2D7xy/AZ1YQC0G3CQIdT8OVfKP28QTHzwGdfcRZx+UTkUq3RYoxQfVhXBtXKdT\n",
       "67U3R7ovCKvcQUd4pOdi3JfimxHqZPqdaRkLKCmcbR+1381gULfa1JnfRJfS9LoMKNiWbV9WY+tM\n",
       "SFp6zp5MKJeRuc+u5/SjJPGNkwVKnZXDv8A3yAJGq2d5AAAAAElFTkSuQmCC\n",
       "\" style=\"display:inline;vertical-align:middle;\" /></a></dd>"
      ],
      "text/plain": [
       "<IPython.core.display.HTML object>"
      ]
     },
     "metadata": {},
     "output_type": "display_data"
    },
    {
     "data": {
      "text/html": [
       "<dt><a class=\"ProveItLink\" href=\"../logic/booleans/conjunction/_theory_nbs_/axioms.ipynb#right_in_bool\">proveit.logic.booleans.conjunction.right_in_bool</a></dt><dd><a class=\"ProveItLink\" href=\"../logic/booleans/conjunction/__pv_it/axioms/0fd3c8ac5f4e37ae647b9491b9192a9b51a486980/expr.ipynb\"><img src=\"data:image/png;base64,iVBORw0KGgoAAAANSUhEUgAAANUAAAAXBAMAAABuThcPAAAAMFBMVEX///8AAAAAAAAAAAAAAAAA\n",
       "AAAAAAAAAAAAAAAAAAAAAAAAAAAAAAAAAAAAAAAAAAAv3aB7AAAAD3RSTlMAq1RmmUTNIjK7EInv\n",
       "3XZ/CtNrAAAACXBIWXMAAA7EAAAOxAGVKw4bAAADGklEQVRIx62WS2jUQBjHv032kUebtqBi8dBo\n",
       "oSeRCG0vol18F18BL7UFXREpliIrwp7U1WPx0IAgpiCmF0FECB7E2kvtQRSp9lBKBRdSBQUftYpv\n",
       "Qf1mJplkHywiCexs5vvvzG++x8wsQGxPpq6ahzifFzWt2vPLX2dWAhzG92ZiaI8BJbgA4rWPLauu\n",
       "lNvllFcYN0EzAHaQ/mAMrOukabAA2s5XsAw1j+YhgAsk0lYMrG2kKXoAR7KVLFHH6HUCpB0AVY+B\n",
       "NUWaHvSpx2OJulqa56wcuuyAiHFMx5GuHGnb8DNMSy510uF+JU5jLtMImimVHsfASrqkfQQwvkD7\n",
       "BYfH8M37NfitYhx3A4xRo1Mx2F9vvlrTarDIskH6sbR4jPUHw3zNP53D8SI6fgoytO6Vh1Qa+TzZ\n",
       "SwtJZj/timhcDrLfcWffVv+1keRc+waw3qD9XKQ2tC4sQgETKjuqSWzqJyqJs6BNhSylmWukinx5\n",
       "gPiwaJuamlnnV3gDmUTGkep30pUwNaVnPgssHCAtI89jpdH3hH4lsiAuh6ykybWNLpcJdjtCNBXu\n",
       "6RFWE65M/E3XaEX8AgsnSxEPcluozTvKxuhwywhZjaFmjXEZNwk5B5CV2eREYjiKxsQX2p8tY6E7\n",
       "ArHcHmL53kml4svO1RCyClwTjAEuC1m4QYXk3iCTMtlVH7CQRlmmlspYG9Bf4ukZmpI+eEelzaCs\n",
       "iLAOcU3GzAZyyoKDlKVK+002JSlpGEbpAXM0rXOWq77N+psiQbO7Z7KN/ghnKpohay3X2iHlBrJk\n",
       "Qbdt2zrmy3XZlBKGqPVPS8sJn6G09rP9MWzTcx4azciWKVLmNB5okZof4ZpF9yGTMYYXmV/gev4M\n",
       "CxUbLjXBzqjgOcvfMCRNuuJC5icoc1BeG1QTDHIH+bLm0YAS1t2A1fkvZzMt7fugHDguTUP3r8le\n",
       "PcKS876WpEeJL6M1Q66pjlcTl3gN1L95q+4SIXoXsEi4tQaSIrxp22bUptS/mKqW0l/Fgl21BtY0\n",
       "nqvLel1pMKpZqlM9TjQh3if4W1SDpfzfjH8BDObDlhJXfUIAAAAASUVORK5CYII=\n",
       "\" style=\"display:inline;vertical-align:middle;\" /></a></dd>"
      ],
      "text/plain": [
       "<IPython.core.display.HTML object>"
      ]
     },
     "metadata": {},
     "output_type": "display_data"
    },
    {
     "data": {
      "text/html": [
       "<dt><a class=\"ProveItLink\" href=\"../logic/booleans/conjunction/_theory_nbs_/axioms.ipynb#empty_conjunction\">proveit.logic.booleans.conjunction.empty_conjunction</a></dt><dd><a class=\"ProveItLink\" href=\"../logic/booleans/conjunction/__pv_it/axioms/78b88323a9b068018175a0ae2b6e5ee81f7d387a0/expr.ipynb\"><img src=\"data:image/png;base64,iVBORw0KGgoAAAANSUhEUgAAACkAAAAVBAMAAAAp9toTAAAAMFBMVEX///8AAAAAAAAAAAAAAAAA\n",
       "AAAAAAAAAAAAAAAAAAAAAAAAAAAAAAAAAAAAAAAAAAAv3aB7AAAAD3RSTlMAdt0yiURUEM1mq7si\n",
       "me/+MEVxAAAACXBIWXMAAA7EAAAOxAGVKw4bAAAA4ElEQVQY02MQUmaAACiDh+EAkHRlgAEIS4wh\n",
       "EFOUzYGBcQKU7QYXrQDidgibXQMuehOI50LYjLMCYKIPgJivAMxmYt4AFWVrABIcE8DsFIYeqCiv\n",
       "A5BgWQBm9zDkQkWByhgYOBtAbOYFDEwFEFGmBJAxD0BsLgMGRgGIKB/IWuYPIDbQjewKSKKsYLUg\n",
       "P1xDNkEBxAaqYzgBEeUWANm2AcjmBLG4DcCiQEeBnefKwFUAskEALMoM0scUgB5moEA+hBGScyEh\n",
       "hCbKfYCBZwOGKPsGkASDEzzenoKpgwwyDAwAXGQq05XnXYMAAAAASUVORK5CYII=\n",
       "\" style=\"display:inline;vertical-align:middle;\" /></a></dd>"
      ],
      "text/plain": [
       "<IPython.core.display.HTML object>"
      ]
     },
     "metadata": {},
     "output_type": "display_data"
    },
    {
     "data": {
      "text/html": [
       "<dt><a class=\"ProveItLink\" href=\"../logic/booleans/conjunction/_theory_nbs_/axioms.ipynb#multi_conjunction_def\">proveit.logic.booleans.conjunction.multi_conjunction_def</a></dt><dd><a class=\"ProveItLink\" href=\"../logic/booleans/conjunction/__pv_it/axioms/c857baeacaa4aa6e146076efc61af651d3fc8ea00/expr.ipynb\"><img src=\"data:image/png;base64,iVBORw0KGgoAAAANSUhEUgAAAhsAAAAzBAMAAADMadf8AAAAMFBMVEX///8AAAAAAAAAAAAAAAAA\n",
       "AAAAAAAAAAAAAAAAAAAAAAAAAAAAAAAAAAAAAAAAAAAv3aB7AAAAD3RSTlMAq1RmmUTNIjK7EInv\n",
       "3XZ/CtNrAAAACXBIWXMAAA7EAAAOxAGVKw4bAAAH5klEQVRo3uVbb2wURRR/t3t3u932rteoxBih\n",
       "l6gkhpjWgEQSpcc/YygJJ3yQGAKnaIj4gSMxGBXs4QejsdBKTGiJ0jMYE4vAQYgm9EOvEAQlmouo\n",
       "H4yNRzASDGmPf6WUyDmzs7O3M7ezd43b2xom6d7Omze7s7+d9+bN+20BKpT+/n64O4rW35+uqPRH\n",
       "8bqLt6xLTUMY9hpjKxa7Kyr/4uqt72GryVo+tvBmO+mkkGsMhy/DVMNR/WerQHvr5C6uJJzb14ka\n",
       "pJxHcMxnq3PIz2aB9ubJXTxYEDQsKDY1vZqCcKuo5xFv4FBOs0ZLXqdUtAqPll6aQM6U+qh52lIQ\n",
       "NX2H5uU4wCbRuEKtnsARyjNVPxmFv9li1dqvpWaBnCkHSxay6KagSbkDEEALwjyhtXzvCRxPsdUG\n",
       "8vPNoGW5CT8ep6ciOVMu3GdOhrfHBU0yapARJA3CdfRlT+A4y1Znk3eXH41aJpBKhySSsyX3AT17\n",
       "J3xV0ORDVhREdhoUOo/1SQ/gCE+w9XZiE9DSavWuG6mtCOTsNM8EqUXFpGuCpoZu0GaimVYfEXrh\n",
       "iAdwhLjhbNCPq6DLsvxuhIeNM5GcfY6kFCNngah6W9DUtW9kBkZWxs7EP6wXdijShAdwdHEh6U/k\n",
       "rUIHGtt+4vfUCIQMC9fl2kBTmpMzZQfAb3QyKVcETaNJkE7ih84KA9M7HsDxIFc/pVvQx0ubu0Ed\n",
       "IaGQD4UHZPkhcj/4c6ycLfcDjJCzS0sX3RI0fYL+sFtWC8KhfeoBHEN2cBwCaMyZkeEX6E2RMyJv\n",
       "jCvjrLwscjlIzhBY/9g3AZ41bag9IJwd0JasORzqNbAxFmTfoawJBw62FkNJLqcJHCV5WaTljxJb\n",
       "AfgdhRZPjkQu9LBN+n2b48Y9bH0HHG6tORxhLkyCfdgDtpLo2oAjR7cqVA71OUbOOWdzq7JaD+q1\n",
       "J06iOXiebcL3Vcecn7YhUnM46rI2W4VtuOEmhUPO0yQAlZPtpinX8GMdTtDDQtwJTwYFX7svqRxK\n",
       "wDhZwM0mCKK2tThA92fEY8sZcOiwPOQIRyWVKksDj/1OgC+Lm0DqG8sYcPjws6t5i1zZy8jhZ/zi\n",
       "Y/TwAG7chVDqG0vDo8XXwJdXs8QIaRP4+q40zditT5i4cGz1BQOOZWRVd4KjkkqV5XCMn+opm002\n",
       "V16HNyYFeSrcrRQEOabt4n7yDQOOHXiqdTvCUUml2rCDXynlWEU4lJ73l0/mHh1ofsjdMfvGJQ5u\n",
       "/o4BRzDN7JLt4KikUmVpKbvEntJjf307b/u2i8XCZO7xHApGlVn2WzWnN6pdN+CQsQt3dqWVVKos\n",
       "bWVz+Mta5gahzikVeYWuLD8MD5+tsLJUUKmyjJYNR8nXEo6LTo23KBzPAuytAIepYp2Fmr2+MKcA\n",
       "g2mYvuVbCscWULgQbXt7XB6ywkFVtDMWra9s/TejAmpf+7EeWlk5neEYpnDUpest67F6vjcuRY7D\n",
       "ciscVKXemmAZtHWu9WwO5mmAy/S8eRqjgQN8AoeUt7rJpeidSwv9kLHCQVXW/FhSDHTaGr5VBZV7\n",
       "kQf9f8EBCRTPykt2nQ8vMJLv0rvP5xk4dBVU8i9adiBB29ySVQWVE6CdczCWJEwh9ZScjNw0FjiK\n",
       "4vn9a1sbIuEIWfqk1PFHWDiO6jn5MDxjeW5/wm6bZlXBOey5i0wXM1g2Dkw7uUs9WfVFNNM6R1cK\n",
       "29BrfusvaEyhLc5qAoc/3M3AsU2fCWuwH3iTvONAKpyFVX/yu4A1JVehXz8Hn5kh4miZ750DblNP\n",
       "Vv0ymsmJfhoy4fDhYc6CTghFYX5vb29USmmZBAOHrgLtA81p9TECh3/gyARkNT5kxCqWqi8Gyg1h\n",
       "GIYzNC5TT4z+Jr6bA/10nd3gn4FL0KHCh2R2wKp8+QY/jLYEKZqyzIMyDkk1y9sKUpEXz102hzx6\n",
       "QxQCJvvRwk8lTDu5TD0x+vO4bg70k3abgUMpoPmxwI+WVCyNQzhSDgcypMYohkPL6NkZtKTWxXHl\n",
       "ADkcMFSkS3BKQr4H1TvScNA0li5+kjaA29QTq2/QTGY3B/rJ3MIZy2YE7eC3/I12kDgPsdHIcTBw\n",
       "+IdAW/kKhkM9ASsi8PlYHIerqNKZVE+jQ2fUUOnREjgt1xmVNw8c223espHfaM4Gt6knVt+gmcxu\n",
       "DvSTdNU+G3agtzfumA3DxiJRo03nSxUAOpKclAnJljrtyS9F7eA29cTqGzST2c2BfiKJy8knB9XL\n",
       "yDG9QN14MVeqQMCYg1okHPddLNVNv8onBzeAy9QTpy8n2G4M/cSNrfAfcqWtthWZz+7wdY6T1JN4\n",
       "rlJPxnXMaZNluznQTyRxWVtigaOUdZ7FVeqJ6JduWGC7OdBPHfmaw2FLO7lJPdHrmNabZbs50E8e\n",
       "0E6wQmQsMXeoJ6pv7L+M65ndWPqJLTOh9nCs58KGfeAu9WTo0/2X8XRmNyf6yQvKOsQFHkfAVeqJ\n",
       "6tP9F6GZSpcLZoX0k+zFBw380rIT3KSeSvrG/ovQTGY3J/op5MXnLvzHUJh2mgLqie6/hDRTudyT\n",
       "j6GgjQ0bMO00BdQT3X8JaaZy+UfgBRxBzmj3wFRQT+b+S/Bw5fLAhCdwqOxntnrubeqoJxHNVC4P\n",
       "RT2BA9k0+57yU0k9Xaxa7tFH2Pwn+tOkBBLVw3HO1X/veWk6wvEe8fBa/6HKcNwF/95j5E7xv/f8\n",
       "C5yU6Meafm4fAAAAAElFTkSuQmCC\n",
       "\" style=\"display:inline;vertical-align:middle;\" /></a></dd>"
      ],
      "text/plain": [
       "<IPython.core.display.HTML object>"
      ]
     },
     "metadata": {},
     "output_type": "display_data"
    },
    {
     "data": {
      "text/html": [
       "<dt><a class=\"ProveItLink\" href=\"../logic/booleans/disjunction/_theory_nbs_/axioms.ipynb#or_t_t\">proveit.logic.booleans.disjunction.or_t_t</a></dt><dd><a class=\"ProveItLink\" href=\"../logic/booleans/disjunction/__pv_it/axioms/51ce2bda98b4bba5508f7e5f97f3c050ced5ef980/expr.ipynb\"><img src=\"data:image/png;base64,iVBORw0KGgoAAAANSUhEUgAAAHAAAAAVBAMAAABs93eRAAAAMFBMVEX///8AAAAAAAAAAAAAAAAA\n",
       "AAAAAAAAAAAAAAAAAAAAAAAAAAAAAAAAAAAAAAAAAAAv3aB7AAAAD3RSTlMAInZUiRDNmWbv3US7\n",
       "qzJazP2FAAAACXBIWXMAAA7EAAAOxAGVKw4bAAABDElEQVQ4y2NgYBBgwAPwSDIZ4NO4CbeUCQP7\n",
       "KjC4gCxaBRZay8DUgK4eJsOaAOIxK0BEr4KIRxC2EZhMxWIXWIa9AVljE4g4h6yxHZdGTgZkjVxA\n",
       "zJiArJEzAIdGMxSNLMCQYjdA1sjWgENjCYpGkG1cyNIMLBdwaMxA0chwj4FBCUUjRwJyUCLJLEbV\n",
       "+JaBYSmKRuYJOGycjaqRTYC5AEUj3wfiNDI7sAmgaOTGZSOaUxkWvGFAdeoCHH48hKZR4zaqRo4D\n",
       "OGz0RdMYlYCqkd0Bh8ZXEJ/Ao5kdnll2QNLSBkyNYBmuBwx4gRQuCY4C/BorcMocxKuP8QBOqRi8\n",
       "Gnlwlx2MCvg0KuKSAAAZyT5Ic8b3zgAAAABJRU5ErkJggg==\n",
       "\" style=\"display:inline;vertical-align:middle;\" /></a></dd>"
      ],
      "text/plain": [
       "<IPython.core.display.HTML object>"
      ]
     },
     "metadata": {},
     "output_type": "display_data"
    },
    {
     "data": {
      "text/html": [
       "<dt><a class=\"ProveItLink\" href=\"../logic/booleans/disjunction/_theory_nbs_/axioms.ipynb#or_t_f\">proveit.logic.booleans.disjunction.or_t_f</a></dt><dd><a class=\"ProveItLink\" href=\"../logic/booleans/disjunction/__pv_it/axioms/60330ee6db5efb06d1adf8b0bcef3a1d453390260/expr.ipynb\"><img src=\"data:image/png;base64,iVBORw0KGgoAAAANSUhEUgAAAHAAAAAVBAMAAABs93eRAAAAMFBMVEX///8AAAAAAAAAAAAAAAAA\n",
       "AAAAAAAAAAAAAAAAAAAAAAAAAAAAAAAAAAAAAAAAAAAv3aB7AAAAD3RSTlMAInZUiRDNmWbv3US7\n",
       "qzJazP2FAAAACXBIWXMAAA7EAAAOxAGVKw4bAAABD0lEQVQ4y2NgYBBgwAPwSDIZ4NO4CbeUCQP7\n",
       "KjC4gCaxA2xsA7r6KrDitQysCSAeswJE9CqIeARhG4HJVCx2gWXYG5A1NoGIc8ga23Fp5GRA1sgF\n",
       "xIwJyBo5A3BoNEPRyAIMKXYDZI1sDTg0lqBoBNnGhSzNwHIBh8YMFI0M9xgYlFA0ciQgByWSzGJU\n",
       "jW8ZGJaiaGSegMPG2aga2QSYC1A08n0gTiOzA5sAikZuXDaiOZVhwRsGVKcuwOHHQ2gaNW6jauQ4\n",
       "gMNGXzSNUQmoGtkdcGh8BfEJPJqh0Q9020yw27g2YGoEJ3+uBwx4gRQuCY4C/BorcMocxKuP8QBO\n",
       "qRi8Gnlwlx2MCvg0KuKSAAAmlD43fBQDCQAAAABJRU5ErkJggg==\n",
       "\" style=\"display:inline;vertical-align:middle;\" /></a></dd>"
      ],
      "text/plain": [
       "<IPython.core.display.HTML object>"
      ]
     },
     "metadata": {},
     "output_type": "display_data"
    },
    {
     "data": {
      "text/html": [
       "<dt><a class=\"ProveItLink\" href=\"../logic/booleans/disjunction/_theory_nbs_/axioms.ipynb#or_f_t\">proveit.logic.booleans.disjunction.or_f_t</a></dt><dd><a class=\"ProveItLink\" href=\"../logic/booleans/disjunction/__pv_it/axioms/9e9f256c794c8500531ff9573d3ae5b5b63b68f90/expr.ipynb\"><img src=\"data:image/png;base64,iVBORw0KGgoAAAANSUhEUgAAAHAAAAAVBAMAAABs93eRAAAAMFBMVEX///8AAAAAAAAAAAAAAAAA\n",
       "AAAAAAAAAAAAAAAAAAAAAAAAAAAAAAAAAAAAAAAAAAAv3aB7AAAAD3RSTlMAInZUiRDNmWbv3US7\n",
       "qzJazP2FAAAACXBIWXMAAA7EAAAOxAGVKw4bAAABEElEQVQ4y2NgYBBgwAPwSDIZ4NO4CbeUCYjg\n",
       "bkATrVoFAmsZmNAl4DKsCSAeswJE9CqIeARhG4HJVCx2gWXYG5A1NoGIc8ga23Fp5GRA1sgFxIwJ\n",
       "yBo5A3BoNEPRyAIMKXYDZI1sDTg0lqBoBNnGhSzNwHIBh8YMFI0M9xgYlFA0ciQgByWSzGJUjW8Z\n",
       "GJaiaGSegMPG2aga2QSYC1A08n0gTiOzA5sAikZuXDaiOZVhwRsGVKcuwOHHQ2gaNW6jauQ4gMNG\n",
       "XzSNUQmoGtkdcGh8BZRbtWrlrFWrIBHGDs8sOyBpaQOmRrAM1wMGvEAKlwRHAX6NFThlDuLVx3gA\n",
       "p1QMXo08uMsORgV8GhVxSQAAnm8+N7e7o2QAAAAASUVORK5CYII=\n",
       "\" style=\"display:inline;vertical-align:middle;\" /></a></dd>"
      ],
      "text/plain": [
       "<IPython.core.display.HTML object>"
      ]
     },
     "metadata": {},
     "output_type": "display_data"
    },
    {
     "data": {
      "text/html": [
       "<dt><a class=\"ProveItLink\" href=\"../logic/booleans/disjunction/_theory_nbs_/axioms.ipynb#or_f_f\">proveit.logic.booleans.disjunction.or_f_f</a></dt><dd><a class=\"ProveItLink\" href=\"../logic/booleans/disjunction/__pv_it/axioms/4e6ae09189e7fdfa4842751d2c37d9938b19ca550/expr.ipynb\"><img src=\"data:image/png;base64,iVBORw0KGgoAAAANSUhEUgAAAHAAAAAVBAMAAABs93eRAAAAMFBMVEX///8AAAAAAAAAAAAAAAAA\n",
       "AAAAAAAAAAAAAAAAAAAAAAAAAAAAAAAAAAAAAAAAAAAv3aB7AAAAD3RSTlMAInZUiRDNmWbv3US7\n",
       "qzJazP2FAAAACXBIWXMAAA7EAAAOxAGVKw4bAAABEUlEQVQ4y2NgYBBgwAPwSDIZ4NO4CbeUCYjg\n",
       "bsCU2AE2FosERIY1AUQyK0CEroKIRxC2EZhMxaIRLMPegKyxCUScQ9bYjksjJwOyRi4gZkxA1sgZ\n",
       "gEOjGYpGFmBIsRsga2RrwKGxBEUjyDYuZGkGlgs4NGagaGS4x8CghKKRA+zwqlUgsBZZZjGqxrcM\n",
       "DEtRNDJPwGHjbFSNbALMBSga+T4Qp5HZgU0ARSM3LhvRnMqw4A0DqlMX4PDjITSNGrdRNXIcwGGj\n",
       "L5rGqARUjewOODS+AsqtWrVy1qpVkAiDRj/QbTPBbuPagKYLJsP1gAEvkMIlwVGAX2MFTpmDePUx\n",
       "HsApFYNXIw/usoNRAZ9GRVwSALm/PhVmCEK+AAAAAElFTkSuQmCC\n",
       "\" style=\"display:inline;vertical-align:middle;\" /></a></dd>"
      ],
      "text/plain": [
       "<IPython.core.display.HTML object>"
      ]
     },
     "metadata": {},
     "output_type": "display_data"
    },
    {
     "data": {
      "text/html": [
       "<dt><a class=\"ProveItLink\" href=\"../logic/booleans/disjunction/_theory_nbs_/axioms.ipynb#left_in_bool\">proveit.logic.booleans.disjunction.left_in_bool</a></dt><dd><a class=\"ProveItLink\" href=\"../logic/booleans/disjunction/__pv_it/axioms/31cf087cfdbabf741dc6de93d74bdfb1386ee4500/expr.ipynb\"><img src=\"data:image/png;base64,iVBORw0KGgoAAAANSUhEUgAAANQAAAAXBAMAAACBjHwxAAAAMFBMVEX///8AAAAAAAAAAAAAAAAA\n",
       "AAAAAAAAAAAAAAAAAAAAAAAAAAAAAAAAAAAAAAAAAAAv3aB7AAAAD3RSTlMAq1RmmUTNIjK7EInv\n",
       "3XZ/CtNrAAAACXBIWXMAAA7EAAAOxAGVKw4bAAADUElEQVRIx61WW0hUYRAed/fs2XM2Tz4YFT10\n",
       "KgiCoiVNCKm07GJaLQhh2sWICExyexGiUHuUgg71kBvEniCCKGMNqWyhi09aFEoXClrYEoSgwm5m\n",
       "itXM/Gd3z14wkl3YM//Mf2a+mfnm/3cBcvaRZ7z535/3ImZDqvXTQHPTkB+kGEAB6UtygOQIs3CP\n",
       "ptmNfXLjHIBhgE2kHs4B1FUhVmZA1cAdBVMw4RQVbeQAaqMQ5T8zoVblATjLCA28eg6gHvLTe2Jc\n",
       "qNql6KsElBvlY3D6sLhcUCXGoVX7ylI6aiarmluK8iDA02j0SQ6gXGIqyhzfWLaYybG4OUR73QBb\n",
       "AS6yzUzztbIN4ENN3dKyQLl9XIzumYTUQTP2Nk1tQ1kCcAxkHni1n3c6vkcq22mhiDdX0+NGu+Xn\n",
       "CVX1dGLulrr09vYN1jJfF/nJX1htsI/F8C4sYzmGNL1+JlQ02TkI2sMklMppPNA5Oq7XAnwEqCfU\n",
       "d0G/5pUXW1nM4iAfKsp/cUpIS/RNHEqRsINnsUMxMRW1z1jklYFzNAnlogjSmRidcnIoBFjPhwQq\n",
       "EEPzwj3dBqXinTDFGRr2qhRAdQ/Vuo5NsQPCRYcuXxIqn7lxF5CqIEAfqM/5dGj0ElZVatoaSPy+\n",
       "ZXUwFQr7uQLXtxoF1Zt5p224eB4koVo4C1cDOHzUNvl3UTlW4yiDa+zkqu63IipYENTgt5nVzylQ\n",
       "Dtxcg+uTTEctcQBEhlpog9pN/Wsn9gwaVGTyMrImGRwVq/Ls8IuIXowiE8mhAA9k4lYw6uF+D8oq\n",
       "YoeJrYos5FYgTps/CbWI2hLpngAoIqqQSfkHsm5ASTAY1JGrcNiazUFQQ2MmLPtzhMmaXyfsIwMh\n",
       "utkBXtqOShtD9gHstw17B/UPZLxt3EQVMimNcwNPi6ogHLMivE49Z1KvdTHFf7AS7GE/ZutqGOQJ\n",
       "UF9AylhIOAB4EJwLiEkTurCBWoxnhKDuxqGK/3Gb+OKLR6DuPOTpg5LJSKVug1ICUF0AV8awBTg9\n",
       "zuZIzzlhlTvpCI/0no/HUgLTQh1PvzNtawElhbP50fhdDwb9dps6/S/RhTS9LgMKtmTzy2psnQ5J\n",
       "S6/ZlwnlNTP9nP6c/ilJ/MfJAqXOKOBfW9/Hr8gz2R4AAAAASUVORK5CYII=\n",
       "\" style=\"display:inline;vertical-align:middle;\" /></a></dd>"
      ],
      "text/plain": [
       "<IPython.core.display.HTML object>"
      ]
     },
     "metadata": {},
     "output_type": "display_data"
    },
    {
     "data": {
      "text/html": [
       "<dt><a class=\"ProveItLink\" href=\"../logic/booleans/disjunction/_theory_nbs_/axioms.ipynb#right_in_bool\">proveit.logic.booleans.disjunction.right_in_bool</a></dt><dd><a class=\"ProveItLink\" href=\"../logic/booleans/disjunction/__pv_it/axioms/75538c610162aedd9326f6bb1421f121a3b110aa0/expr.ipynb\"><img src=\"data:image/png;base64,iVBORw0KGgoAAAANSUhEUgAAANUAAAAXBAMAAABuThcPAAAAMFBMVEX///8AAAAAAAAAAAAAAAAA\n",
       "AAAAAAAAAAAAAAAAAAAAAAAAAAAAAAAAAAAAAAAAAAAv3aB7AAAAD3RSTlMAq1RmmUTNIjK7EInv\n",
       "3XZ/CtNrAAAACXBIWXMAAA7EAAAOxAGVKw4bAAADHElEQVRIx62WS2gTQRjH/8k2yT7abQsqFg9d\n",
       "LfQkEqHtRbTBd/G14KW2oBGRYikSEXpSo8fioQuCmIK4vQgiwuJBrL3UHkSRag+lVDCQKij4qFV8\n",
       "C+o3M7ubzYMgsguZ7Hz/zPzme8xMgNCeRE01gzCfF1Wt+vPLX2dWAofpvYkZ2kJARR1AuvaxedWV\n",
       "UrsSKwyPm9CTwA7WHwiBdZ019RbQer6MldQyZB4ELrBIWyGwtrEmWwCOpMpZkkHR6wDiNqAZIbCm\n",
       "WNNNPnUXRKKu5ud9VppctiFRHONhpCvN2lb6DPGSi520fb8ipymXcQLN5POPQ2DVOax9BIwv8P6w\n",
       "7cfwzfs19K1RHHcDY9xolw1215up1PQqLLZsyD+WFo+J/kAxX/NP52i8RI6fQoLXvfqQSyOfJ3t4\n",
       "ISnip50BzZe97Lff2bfVfW1gOde/AeuTvJ8O1IbeSUUYpYQqtmYym/aJS9Is9KkiS21yNeZmxJP7\n",
       "mQ+LOVPXEuvcCq9nkyg0UvvOujKlJv/MZcGiAfIy8QqiNHqf8K9ICtJykVVnulqUltvvyax4txNE\n",
       "13DPCLAaaWXSb75GK+AXLJosxjxIb+G2wlExxsCtZJHV4GsWz6uQaZOwc4BYiU12IIajZIx84f3Z\n",
       "Eha5E2WW24Mi3zu5lH3ZsRpF1rCvtSHmeHI0hRtcqNvrZVJhu+oDFdKoyNRSCWsD+cs8PcNT0ot3\n",
       "XNoMdUWAdcjXFMqsJ8csHOQsTd5viilZSWOIpAfC0bjhsxztbcrdFBGe3T2TrfxHNFPWLLLW+pqU\n",
       "7Pdl2UJXLpczKF+OI6aUKUQtf5qbT7gMtaVP7I+hHD/n0WAGtkyWM6fpQAvU/EhRS4/5MsXwovAL\n",
       "TsGdYaFsw8UmxBnlPWf9NwpJo6E6SPyEOofS2uAasJE8cGW9wAPKWHc9Vse/nM28tO9DPXBcnkbX\n",
       "r8keI8BSMq4mTmlXJmuCXVPtryYu+TVQ++atuEuiwbtARMKpNpAV4c1czgza1NoXU8VS+ipY2FVt\n",
       "YFXjuZqs1+WGZCVLsyvHSSbCfby/RVVY6v/N+BfImsNhObOtPgAAAABJRU5ErkJggg==\n",
       "\" style=\"display:inline;vertical-align:middle;\" /></a></dd>"
      ],
      "text/plain": [
       "<IPython.core.display.HTML object>"
      ]
     },
     "metadata": {},
     "output_type": "display_data"
    },
    {
     "data": {
      "text/html": [
       "<dt><a class=\"ProveItLink\" href=\"../logic/booleans/disjunction/_theory_nbs_/axioms.ipynb#empty_disjunction\">proveit.logic.booleans.disjunction.empty_disjunction</a></dt><dd><a class=\"ProveItLink\" href=\"../logic/booleans/disjunction/__pv_it/axioms/7c8a5fceb27af0b8c336880a32aa294256f5ebef0/expr.ipynb\"><img src=\"data:image/png;base64,iVBORw0KGgoAAAANSUhEUgAAADsAAAAVBAMAAAAKrYvGAAAAMFBMVEX///8AAAAAAAAAAAAAAAAA\n",
       "AAAAAAAAAAAAAAAAAAAAAAAAAAAAAAAAAAAAAAAAAAAv3aB7AAAAD3RSTlMAmd0iq3YyiUQQZrvN\n",
       "VO8LyBxeAAAACXBIWXMAAA7EAAAOxAGVKw4bAAAA8UlEQVQoz2NggIEgNVQGM4MBAxKoQGPFMrTi\n",
       "keYtYGBdgCLNMgFIsQVApOcA8UkUaa4AIMWdAJGWAuKFqIYrACkbqOEPgJhvAop0LZCShUjzHgAS\n",
       "PAtQpIE6QSaApBkLgAS7A4o0SwIDawBEGqyR6wCDkBIQKEKk2RwYmCZApJkugGx4ANFpAvXtYYaL\n",
       "UBZfA8iTH1ClrwMVIElzoOlmYtvAgGy4AkTaECrIuqQByuIGBRHXBtQw59SBscB+AvsOOSJkYSw2\n",
       "kLlMDThjDBTpRrgjdCE0WnBIcxswMG/ALc25AaQCAYrgae0FmDJlCGZgAABmdjU0Gp74gwAAAABJ\n",
       "RU5ErkJggg==\n",
       "\" style=\"display:inline;vertical-align:middle;\" /></a></dd>"
      ],
      "text/plain": [
       "<IPython.core.display.HTML object>"
      ]
     },
     "metadata": {},
     "output_type": "display_data"
    },
    {
     "data": {
      "text/html": [
       "<dt><a class=\"ProveItLink\" href=\"../logic/booleans/disjunction/_theory_nbs_/axioms.ipynb#multi_disjunction_def\">proveit.logic.booleans.disjunction.multi_disjunction_def</a></dt><dd><a class=\"ProveItLink\" href=\"../logic/booleans/disjunction/__pv_it/axioms/3a12f2e98e109c481cfba1ef0427fed927129dd10/expr.ipynb\"><img src=\"data:image/png;base64,iVBORw0KGgoAAAANSUhEUgAAAhsAAAAzBAMAAADMadf8AAAAMFBMVEX///8AAAAAAAAAAAAAAAAA\n",
       "AAAAAAAAAAAAAAAAAAAAAAAAAAAAAAAAAAAAAAAAAAAv3aB7AAAAD3RSTlMAq1RmmUTNIjK7EInv\n",
       "3XZ/CtNrAAAACXBIWXMAAA7EAAAOxAGVKw4bAAAH5UlEQVRo3uVbb2wURRR/3b0/2+3d9RqVGCP0\n",
       "EpXENKY1KJFE6fHPGErCCR8khsApGiJ+4EgMRgV7+MFoLPQkJrRE6Rn8QlEohGhCP/QKQVCiuYj6\n",
       "wdh4BCPBkPb4V0qJnDO7M7s7czt717i9rWGS7t68ebM7+9t5b9683xagQunv74e7o6j9/dmKSn+U\n",
       "rrt4y/r0DIRhLxlbqZSpqPyLq7e+h62mavnYwpvtpJNCrjEcdQNMNRLTTlsF2lundvFg0rl9nahB\n",
       "ynsEx3y22qKfNgu0N0/t4oGioGFBqanptTRE2kQ9j3gDR/A0a7T665RK5uzB01YpgKPcUh7Ah12k\n",
       "0loUNX2HrjABsEk0rnCbJ3CE2Qfy6aPwNRtWLRcs7lYkt5SF+NBDKotuCpqCdwD8aEF4Qmgt33sC\n",
       "x9NsNaSfvhkynzNvcRkiuRVfi8toeGdC0CSjBhlBEhKuo694AsdZtjpXf3eFsZghOor+FoOj3Foa\n",
       "kIaPaL0buSpoqkNWFEB2GhA6j/UpD+CITLL1Dt0moLWNWUyInxfJ+cUkTH7HpWuCplAG1NlopjVE\n",
       "hV446gEcYW44G7TjKug2l986tAAQByOSM+V+gFH9lz+m3BY0de8bnYWRlbHt+Ea0wg5FmvQAjm7O\n",
       "F/6kv1XoRGPbr5u5EoUwsXBNrg42ZTk5U3YA/EYnU/CKoGksBdJJ/NA5YWB6xwM4HuTqpzQL+mRp\n",
       "cwaUUWIKG+FhYlma3Ae+PCvnZnlKiuu/Li1ddEvQ9Cn6w25ZKQqH9pkHcAzbwXEIoDFvRoYt6MHB\n",
       "lDcmghOsnFsiBwK6F1SRKf1j3wR41rSjdr9wdkB7quZwKNfAxljQGwznTDjCSobaCpbLWQKHIedK\n",
       "/kNqKwC/o9DiqdHohR62Sbtvc4Lcw9Z3wOG2msMRuckJ9mEP2KZH1xSOyOMJ3TMSOTTkGTlfLtyn\n",
       "n1drQb365Ek0B8+zTfi+yrjz04aiNYejPmezVdiGG26acKi/6mcqp9tNIlfxYx1O0gPAV/opiK/d\n",
       "lwoeSsIEWcBpEwRQ21ocoPsGxGPLEzg0WB5yhKOSSpUlxGO/E+BAaRNIfeMD5q5SD7YMeXAvI4ef\n",
       "seHE6YFGWmrfeBYeLb0OdQUlR1YsIwjru9I0a7dmcAnh2BqKBI5lut92gqOSSpXlcJyPQ9I2m2yu\n",
       "vAFvTgnydCQTLApyTNvF/eQbBI4deKplHOGopFJt2MHHUXK8IhzBng+WT+UenWh+yJm4feMSBzd/\n",
       "h8ARyOrxvQMclVSqLK1ll9hjPvbXtwu2b7tUKk7lHs+jcCM4x36r5vRG1esEDhm7cGdXWkmlytJe\n",
       "NocP1DI3CPVOqcgrdGX5YWTkbIWVpYJKlWWsbDjBQi3huOjUeIvC8RzA3gpwGCrWWaja6wtzCjCU\n",
       "hZlbvqVwbIEgF6Jt70jIw1Y4qIp6xqL1pa3/ZlRA6es4RpNVsHImwzFC4ajPNljWY+V8b0KKHofl\n",
       "VjioSoM1wTJk61wZFYBnAC7T380zGA0c4OtwSAWrm1yK3rm00AcDVjioypofTUV/l63hW1VQuRd5\n",
       "0P8XHJBciH4s2XU+soAk36X3XigwcGgqqBResuxAAra5JasKKidAPedgLCmYRuopNRW5YSxwFMXz\n",
       "+9e2haKRqL70Senjj7BwHNVy8hF41vLcvqTdNs2qgnPY8xYZLmaobByYdnKXerLqi2imdY6uFLah\n",
       "1/z2X9CYRluc1TocvkiGgWObNhPWYD/wlv6O/elIDlb9ye8C1piuQrt+Hj43QsSxMt/bAm5TT1b9\n",
       "MprJiX4aNuCow8OcA10QjsH83t7emJRWB5IMHJoKdAw2Z5XHdDh8g0cmIafyISNWsVTr4hC8IQzD\n",
       "MO3kMvVk0Sc0k7WbA/10nd3gn4FL0KnAR/rsgFWF8g1+BG0J0jRlWYDgBKSUHG8rSEVePG9Zi/7o\n",
       "oRj4DfajlZ9KmHZymXqy6BOaydLNgX5SbzNwBItofizwoSUVSxMQiZbDgQypMYbhUAe07AxaUusT\n",
       "uHJQPxwkKtIlOCUh34PqnVn4yjCWbn6ShsBt6onRJzST2c2BfjK2cGTZjKId/Ja/0Q4S5yE2khwH\n",
       "A4dvGNSVr2I4lBOwIgpfjCdwuIoqXSnlNDp0xYhKj5rEuYaumLx58Nhu45aN/EZzLrhNPTH6hGYy\n",
       "uznQT9JV+2zYwd7ehGM2DBuLREeSLZgVADqSvDQQli112pNfijrAbeqJ0Sc0k9nNgX7SE5dTTw4q\n",
       "lxHaL1I3XsqbFfCTOahGI4m6i2bd8IV8cnADuEw9sfogJ9luDP3Eja34H3KlbbYVmc/u8HWOk9SS\n",
       "eK5ST+Q6hgXk2G4O9JOeuKwtsXCVE5wCl6knXd+8YZHt5kA/dRZqDoct7eQm9USvY1hvju3mQD95\n",
       "QDvBCpGxxN2hnqg+2X/R69FuLP3EltlQezjWc3HYPnCXeiL6dP9Fn452c6KfvKCsw1zgcQRcpZ6o\n",
       "Pt1/UZqJXi6QE9JPshcfNPBLy05wk3oy9cn+y6CZSBDmQD+Fvfjchf8YCtNO00A90f2XkGYql3vy\n",
       "MRS0s2EDpp2mgXqi+y8hzVQu/xi8gCPAGe0emA7qydh/CR6uXO6f9AQOhf3MVsu9TR/1JKKZyuXh\n",
       "mCdwIJtm31NhOqmni1XLPfoIm/9Ef4YUf7J6OM65+u89L89EON4nYU3/ocpw3AX/3kNyp/jfe/4F\n",
       "Munjd4pGHZcAAAAASUVORK5CYII=\n",
       "\" style=\"display:inline;vertical-align:middle;\" /></a></dd>"
      ],
      "text/plain": [
       "<IPython.core.display.HTML object>"
      ]
     },
     "metadata": {},
     "output_type": "display_data"
    },
    {
     "data": {
      "text/html": [
       "<dt><a class=\"ProveItLink\" href=\"../logic/booleans/quantification/universality/_theory_nbs_/axioms.ipynb#forall_in_bool\">proveit.logic.booleans.quantification.universality.forall_in_bool</a></dt><dd><a class=\"ProveItLink\" href=\"../logic/booleans/quantification/universality/__pv_it/axioms/1b39e2c22b081dc382c4103afab9326d41f53ed00/expr.ipynb\"><img src=\"data:image/png;base64,iVBORw0KGgoAAAANSUhEUgAAAbcAAAAWBAMAAACxjs8nAAAAMFBMVEX///8AAAAAAAAAAAAAAAAA\n",
       "AAAAAAAAAAAAAAAAAAAAAAAAAAAAAAAAAAAAAAAAAAAv3aB7AAAAD3RSTlMAq1RmmUTNIjK7EInv\n",
       "3XZ/CtNrAAAACXBIWXMAAA7EAAAOxAGVKw4bAAAFWUlEQVRYw71YfWhbVRQ/yXsv7+WlSVtUtCoj\n",
       "oo5itYbZ+YFDA6065gdxA8FtakBBHMNlIJPq2OL+Et1qFEqt4Pp0Q5yDGmenjOKojjG3oXSjjlkW\n",
       "eFvroEpj/lBbV7Sec9/XfR9JJhEP5L3zkXNyfvfce+69AahLiVI+SJ2D2bPQIMkNe1fJQa6atodi\n",
       "mUDISTjYKDa40JC3pOPDk8Ts8U0bT2WYCfNuIdWNtcGF6BVOubQdFLe+cxDNLL7d9pxGIYuNjc2U\n",
       "HxwUnpY3XMVMCO4B0jxfG5xItYvkeKWapbj1nQPpD4DoCXx/1GDhI1oAuDXwZZSZENxrNEMLtcEp\n",
       "VKFel1JMUdz6zkGk/I1Fww90NwhOSAeCWxZiJgRH6GPJOmtuA74OuJRNbEbUdw5crvP4WUBmrNE1\n",
       "e8IGl3i/dMYGF2EmzFvAEkTqNZQ78JV1KZcycPWdgyhawQ8CDGcbBfesBU56UXMqd/W9zESN8LtS\n",
       "6WQ9cE2l0jn34n/YWMt1nYOoGSfyW9jORAo5fP7jUa72HtFPavnaN+1J9JkFbovmNJThU0VmInAr\n",
       "Ad4LCFLkwYl5iGreMaO4VZxrEwJ79TT1A+q/6cQScdyxeUQ/iXBef9QS7rTAOU2t8NTGv1YxE4Hb\n",
       "DHJLQJA0Dw6/sRm5J38baTV75mkDXBXn2vTrdaPL6R3HEgk54VIoBXvMGWqI6mirVs35Lrhfu8IS\n",
       "brXAZfmGMvWERiYCF9Vcu7Q8cRBWtHjAYXkoiDAOMXNYjxrgPM6XR0NWU0JXBURMTCmbYQ1RhOrV\n",
       "y8OD3BwwwSm4PEo/WuCiUpFMlFlYd1pCX1s/3BDTRM0LrpONTSgNiYoLHO/8b7Y5Gxw+6ZwRtsGQ\n",
       "2JyR56u7f++w601waoGvXBQKZGLDnr3Pns8r6cChp2Mw0jPRk+HARQRKoSkJ8RbXtDScyw9NWzs8\n",
       "xzrkVioLJhNnneOZnKpx4EgUtBrgpDn4BLruLtPo32ZNy3E3uCyZGLgDuIsJ3X3TxnEG2m/eFvOu\n",
       "OYgtpUWwXZOvNJW7TXDknMi1RcwOx7HcvuZWJn63tgQcsH2Z6yFmVE4FW6TZr/pxYQ5qf2gMiury\n",
       "I3AMFfdY4MoucGGdTAzcVizGnvWpppxR3PbYh+t84OSviVtRvqA5TZjFJWcBdisgs67J2NXT7nXI\n",
       "lNyhqWIFRt/b33gEVhvgPs3aIuzSmKjSDGYPSwrP7x2TkvJwFi4ZG5IBzhm8wjo4PMJMDFwIrwav\n",
       "XIRmTWJH43ZIz/jAwTXEtToZ7jLBhdi9Yg5gx6RhQHZMrXiGfI7v5UN/6ub8RER7y+HupAEuPmmL\n",
       "NFIkwgSYjzjlU9JAfUy/aRn+rC7R8eYHC5zattaIefH4EN0KyOS0uiW4AoUXBgffQXD7I959zqQj\n",
       "TorxPHesU8bw/jRpsznFc64iZdeaDt80c+5ibM3dYosvwcu8aH/L3iCa8mI6D/K4nYR0yDx+WU1/\n",
       "nMv7W+hRlKJROakz+D4nzwWfWbfGsiIDt99koxlQiyixh6nsLMR9yXa5wdnjKb/7+ip+eO1MbG47\n",
       "xHfkzdN78F6f4vKuwNl247CB++v5YHAzC9zWOuDEFX86/DMDtzNpsNh0lW9gZ045hg9TGcpv8R8y\n",
       "rR4qf7Ggg6rbdVlcrHCiczazucch8blxUakCrpfLW2qBX1LQi3NNOZOD0GXcxPd549K0NJZ1TMO8\n",
       "wrbBUMZhaq3vnOi6LSU8Pdb/m164A9XBDfjyVg8N9gccnAP/jJB1+Ir//6LvZBIko7KbFnGS2UhM\n",
       "5QfQkfIF2dbQnSCBhZ89Ws2UOJeB/5IEjk8FKf9n+gcn8ZaK2QN6jAAAAABJRU5ErkJggg==\n",
       "\" style=\"display:inline;vertical-align:middle;\" /></a></dd>"
      ],
      "text/plain": [
       "<IPython.core.display.HTML object>"
      ]
     },
     "metadata": {},
     "output_type": "display_data"
    },
    {
     "data": {
      "text/html": [
       "<dt><a class=\"ProveItLink\" href=\"../logic/booleans/quantification/existence/_theory_nbs_/axioms.ipynb#exists_def\">proveit.logic.booleans.quantification.existence.exists_def</a></dt><dd><a class=\"ProveItLink\" href=\"../logic/booleans/quantification/existence/__pv_it/axioms/c17288ed07a16d05dcae94da1e9ef525a5dcdb630/expr.ipynb\"><img src=\"data:image/png;base64,iVBORw0KGgoAAAANSUhEUgAAArwAAAAzCAMAAABCHStVAAAAPFBMVEX///8AAAAAAAAAAAAAAAAA\n",
       "AAAAAAAAAAAAAAAAAAAAAAAAAAAAAAAAAAAAAAAAAAAAAAAAAAAAAAAAAAAo1xBWAAAAE3RSTlMA\n",
       "q1RmmUTNIjK7EInv3Xbn9enzK1aD6QAAAAlwSFlzAAAOxAAADsQBlSsOGwAAC5ZJREFUeNrtXYmW\n",
       "q6oSVQYRUN7g///rFRlkBhPT0rfDWqdPFmCVwW1RFMXOMNxU2FGGD5ZxXVcyfMvzRexPAjx6Bzej\n",
       "bd32gt4WQ+ds0/RFTT8Fwh9GK/WgSiXa6H3gxbdY18KYfMF7FNKF7p8G7zCvoaGFnYF35MMXvJUp\n",
       "+8n5GovHwDuAtW/wwiI+j0a0qrLgP4DTfXKk40gndBodwJ+9JfgYeAc+9gxespAqeLswQD9WNvWd\n",
       "6WLQy56efib2GHiHFXYM3lUMX/B6ft6mRgRsZmQQfPiWIHoOvGBh3YIXLsMXvP4kvc36f+MsLI/f\n",
       "kwbQE+AdJtQteBf+Ba9f6Gb+1wFE8PyidYLPgRdvpFPwio19wRu4vNTzHnavQb/fTIiRzZynB6Hc\n",
       "2layMvSy6RHwDtPYKXjXcfiCN+HyEn7uZmmzN+zTpxjFgNbkdeXWtpKVoSNCLnhNBOgo4ydHBLgG\n",
       "riPwztvcAl5gQmUfBm9hrxB8aJtAxHPRyDmHzsBqGMP9DuD+HI8tHRYGGN1Wxvk4vrCN6mkIVk0P\n",
       "Wl62iS7BO1bXIj9qeYOBEVwIpEAL8U+9MMbldZYFSrd8zZEejlmIwDq6regwjC+YEkdGaGQeBO9A\n",
       "1y7Bu4z9ghdPErcqDM0+Ny/iYMW6TRnwHh+tDQIJcJrWbb+AVOe0zBNJRi7xk5Z3nw1Ih+CdN9gt\n",
       "eA06kKxEH9zam5g/JFH45fR+j4W3yqtKgNe2QvYyeE8ZCO7mHfmD8YzPu/sNsEPwio1cB6+cys1s\n",
       "7jQla9Nas12dgbEPH8oZcy1d2K462dNf24stGlJ6GENGsfKyuPduaeQHrfv/q9NawcYQy2AQLzti\n",
       "zO6nhsxDltedoPsBL62H3yPwCjKMdJgCG5yuTSMo39UZmNEo5vs9kqlwYbvqdE/geb1T5PLqOBXY\n",
       "Zob2e8HABS/TXkbQqtOxmPVB7KfCB1cGYULWmnW+jtY9BV7H6d3BeyIZwPfB+7K0hbaB103MgYcp\n",
       "kmaRONmethYDUZnjTwEl8NrNExllxNS/0NV8QXVaM3a0IpmVE3qdszKiSIgd6BD4Xs2qkgaDVnOD\n",
       "q00pXFH+g+7kyxiFdXWtkXoKvHxzwXsO8kTeB++r0lhDHntq8aucjRn4yZ6qdpFia0Jz3ooLXmh8\n",
       "0L0vGIuaL6hOaJ6rb/CaeNOszwsSrgHZx5WQXGssK9Vp2ZUipF41opU9BV54+lI7eGfzNMh7LoQC\n",
       "76vS5k28At550QnSHoR0LVGfynpVV4gw9JMNndun+/PHTCc1GXylNV9QndIMqm8wRAXwJrbXCZ3n\n",
       "WWVUNuVSpjqRw9WfwQFekxn0FHgdoEif1yxxObgBvK9KAxu4DF6yDHzS0VE9Y3K/dqDYVKf+nF2B\n",
       "oGYplliwLQQyMevdrTWpOaP6omZRf4NpaK8Jnzau1nGJqxd5XGbLtcYTYKoTlgZJcOjZpKfA60zR\n",
       "ErzmNt7M+Qh8oYvSYEM4JxKJBOZCsBNCs9x3c2rRPNjqeSH+H6/rOOulWCpURtAo5D4VseiJNGdU\n",
       "X9RM664Wy89oZXS2YLfeyd7hU+AdttGLNixqBcRvAe+L0hoiZcX3wUzenv3mzDyNlFn36lZ5SACz\n",
       "NHgP84O0WQp3EqzbkFZ9RTNrcbWIGJ4rwj6l58BLPfAqI0HZPeB9TRrf2BvgncWi3BQXfsO0T5hq\n",
       "QsYJ4V6d3DYDHA558JJt1DD1grNWc0b1Jc3oFx3sfwy8y+SBl4zmz6suvQteTxqmG+JoHO1TcXIE\n",
       "fA+gBbx13gbYXl0ZfBprx6dVbZZ3RTP8NcfyxD61PgXedfXAe5hJnh05siLZCPXeBqqA15cGD1Vc\n",
       "K3RzBPwybp09n9Jb8iFqFTZ8SwN4Fx+8QKTjUGKkcs0MxsPY6COsVfB60kakPFovpoPoveD9Uun8\n",
       "5nKRficE7441GC8DEDJnT/ZGZP2FKng9aSrtVmVr+DkC192GrDn8c4QO5MW2h26peol2oJtkhG7D\n",
       "wIEOzzoJRPaE/gBmgPc17g5ejhBa93+4CF4rTeJVZjUp8+vnCEQLtoY7z2WS/TXwljLqnjphgjNB\n",
       "EMQaLtHgxS2BlGDBJr1Q5c86CURO2AbMu9sAcLPlJWfmD1yEEGbL0csRCMe8Ic6b5ds4vs5dORr9\n",
       "FzMOfXGSiOSouxveUeZkxGAiGp7cMgbglZHyA3ZnAhGGLnh3yAraCl4jTX5yYerlCIQr7Tp483wb\n",
       "KmPnphyN7oszDl1xkkwpGxvzJgIRX2LjblPdefR32Py1j0kgghM9ClDgZXyYmsEb41V9ETdHIPxK\n",
       "WzVOlOfbOO7srhyN7ss5Dn1xkqTSLuZ4jnXBGzGYwGpyBzsz9CPw2gSimXuWVyb5ae/0AniJsbHH\n",
       "pr6fIxB8y/pBinyiy+S9tfxffq54iXytTjhJlthsJva7XfDGDCZLzfQGiTk+2gaTQHTukanguajs\n",
       "YiTAuztl3Nn593MEsrNBztObKuC9KUeje4/3/H6dcZLEVgknMOOBN2IwmWo2zMngCsHrJBAR467M\n",
       "q3Iir4PXU2o0oHTq0lobd8Qr4L0pR6N7r+H8fjlOEiYO9yF5VLTU1uhz5yTwqCa1+vDAGzGY8Np9\n",
       "OUkwpWNAjEuft3nLsgxefAbPxjU1NVRPvhfeSeON35Kj0XuZApc3wUnCFbkCTG38lNraSlbCyR+h\n",
       "4wr/+W/iRKYH3ojBBNZs2OidpLirrLVjL2aA0x1hbZdCPyIn3oIC8F7L0XjN7BWmlk/EOER2HIY8\n",
       "J8kMFFXDSGNGEqftRT4SV3owAkuD4fXBGzGYgJoNc46L9XT0vbLOitikT5jadNhijsYd5cepSFBh\n",
       "HHKcJExTLux/IkYSp+1FPhJHQvQIg9k2+ap74I0YTObKjECcEze/iHSkAbyZHI1PgfcnqEgwz49D\n",
       "npMEy2lM8WdFpA627WU+Eke6X780GF4fvBGDCa5Y3j5JRwa0NLkNJfCmczQ+Bd6foSKJwvZ2HAqc\n",
       "JAdRk1iGFHht28t8JKcEj43EUXX4dv/7f5KFxHcbQgYTUJkKxj7pnnBlmyI6Bk5QBF6bVYGPwF4w\n",
       "bMnK5K1kO1aoSN5Tm+wZRa3tOGQ5Sfb/R/MnZCTx2myu6iVCEishYCMJwZTZLfMXbCGDSQ2QnRLt\n",
       "neQBmUXuWIs2ODkaQm5xB+d3k5XpWFC2Y5mK5D216Z7RgWI7DllOkt3ySYIJte0TMJJ4bebnoQrs\n",
       "I6kqIyFgIwmCmbmT0B54IwYTxCteQ58Up7V4w7zWwXvmaMhnJrMxHE4QW1ljBDmvLoE3QUXyntq0\n",
       "XkzT41DgJJEeOBdIeYcBI4nXZu/SNsY0JDEhiSPBYyMJEJBLU8AwBs0J3gqK1l7JpWu0/utcB++J\n",
       "Yn4Mrc8JoivrjCC6Yxm8KSqS99Sm9MY8JOvcNEZ88p1Il05EtZ18JNcJSZQEl43E0pHozi17RRGD\n",
       "CVkrrmWvtP4105tP2pjSdyOH1uME0ZV1RhDd8ToVyXtqU3rj2beUvKLaJLLYAnzw8hN1qs3hI7lE\n",
       "SOJIcNlIgqSgqeV1iBhMKolF1HMd+/opq6k8hllWgylpgvBh5k42EqeyzAhiO16kImlUe01vgoek\n",
       "xO5wtMmfBFO/JRozkpxtJx/JNUKSU4LLRhIk88EmwxsymFQSAvHW709ZKU6OwujRdvACBOl0okgl\n",
       "BtnKCiOI7XiRiqRN7TW9CaSW6B2ONgBj79rAM9V2jZAkKSG80bXF8EYMJhXSlSBa2tnPt4ry7eT4\n",
       "NmLwsn0UKHRHETiVNUYQ2/EqFUmj2gt6k0At8Y48xUkifNzNly7R4BXkUrzpV/1wdkO0wcoRA5a1\n",
       "HhuJqawygpiOl6lI2tRe0Yv+xKnoJgYTHD7mO8ELGWNvZ3RN4BbwYij81wDmKqNxTHXMgjegImlT\n",
       "e0EvxMMXvNqWe0tAiTVxI3il+4/eFkNf2K+cfoy34aepSP4CD0kb/Q7zwxdUoo3+A//jeEVhkrfm\n",
       "AAAAAElFTkSuQmCC\n",
       "\" style=\"display:inline;vertical-align:middle;\" /></a></dd>"
      ],
      "text/plain": [
       "<IPython.core.display.HTML object>"
      ]
     },
     "metadata": {},
     "output_type": "display_data"
    },
    {
     "data": {
      "text/html": [
       "<dt><a class=\"ProveItLink\" href=\"../logic/booleans/quantification/existence/_theory_nbs_/axioms.ipynb#not_exists_def\">proveit.logic.booleans.quantification.existence.not_exists_def</a></dt><dd><a class=\"ProveItLink\" href=\"../logic/booleans/quantification/existence/__pv_it/axioms/09ed128a386f17e52e1f98d99ad7d38eeaf293cf0/expr.ipynb\"><img src=\"data:image/png;base64,iVBORw0KGgoAAAANSUhEUgAAAn0AAAA0BAMAAAANlZNzAAAAMFBMVEX///8AAAAAAAAAAAAAAAAA\n",
       "AAAAAAAAAAAAAAAAAAAAAAAAAAAAAAAAAAAAAAAAAAAv3aB7AAAAD3RSTlMAq1RmmUTNIjK7EInv\n",
       "3XZ/CtNrAAAACXBIWXMAAA7EAAAOxAGVKw4bAAALYklEQVR42u2bD4wUVx3Hf/tnbnZn/7BEYwpU\n",
       "sqa1EvnTTQsYTAPbHBS0Ui9t0kQgZSNNjJiGIRoTWoSzMY1RCotKK6TC0DZqDwNL/5BYUrKlqVZQ\n",
       "XFuohNy2C5w2J3IsFgocac/3b968efN2lr2dYyXxJTv33pv35mY++/78fr/vLMCYJcOE/yeS+vr6\n",
       "Wmofqv4dHRPZG/qh09W3mw2Qvj7rmi71/siFZk1+KRa6yDF+o4+/Oxtx20b/xkdGitd0oWPNR1zO\n",
       "yy/V0Yc32+/diB88aQ+7SFD8JoHEL1qt/rm/p4Ozr73F4yFffuFKwPwiBfCOv7ltPsNoqO24Mv6p\n",
       "r+Lc1DYvlPPjB3sD5rfWVPBbdP35wTj0RT6DZpdRaPNCK335pXLB8nsPFPwqHeC3qQZwO/pEc21e\n",
       "aKYvv/ChQPlFyip+hQ7wO9eLPiWAZLsXSlp+/ODhQPklSwp+Wr4D/HbgD2J4W7sX6sr58ltuBsnv\n",
       "nKXgl851gN8VgNgn6O+92EwbmvjTFwWrzV1UpN0nf7vfvuVExpdfVyZIfn8DD79w9f1q/3Xnh9jp\n",
       "r+H/ugJ9onCyttg5JxUVKZ+eHK0IFgXlhywxnDLuBXA4QH6xy6AYf6mWbbCoq/SFFqwNnjm//yVi\n",
       "dGLX60swz/oUGLPZOVrctXdiw1XcjAxzPyBc9h1/xicB8guVVfzWtMwvzv6eGVqIbq0V4ztvX6HO\n",
       "Mm+iTy/cg44bz7IqWsxDwzEYg6hj9cTqvvzgVwHyS2ZU/KaOlt+DJrYnd7bSc6lg/nF+AEfwYTpv\n",
       "hYsXYX1v4wep8azmP/5gnhkcv005Fb9XRskPO0fRIixoabdkG9gm2xAgoRPtEvQJ/Ejxy378lpuG\n",
       "FeneOMDuwmf9gz254PidM1X8VmJ+QwsH7JNC1kmuSsoPP1+kDhXXyfTAuoXeZY9X2qGyc/ak346W\n",
       "qC1oXSlRfpZThNdIUV7P0OeFnpshAc8tyyVNSubOpnMuGH7PgIpfBfFLmxO62KMJWYGAq5Ly+wzm\n",
       "UdYLrpMfhIrf9PxfpzLMFsBVgoMavvx8WcsSfsZHTjF2ghRhT4EdeOn2n3wN7odH/wnjEN9oyZ9f\n",
       "vML4EY63NOMXInfZwCn6k4JftPpxtb8nAttjoJNwGcneP+DeFUilxO8wMa+0IgidIRev9WozpDmN\n",
       "K9nUpOPgKyPb7QgT4nJf7dY72PpXtXhxjUWKkMLIyeEozpwAeH4o3I0AT4ZluKLHn1+izviRe/pW\n",
       "M35R/Nxd6piacUE1/iJ0Lb4E8PgJsLNloy41veRZ/97A65gZzrg7jzORT7ZHjhbYNxST51HKWeQw\n",
       "vzCfsXpeN4UiT1/kubdgPvpOfwD+/CIXGb8f4osWm/GLZYhF0shoVfALkSeIlXUAigBnzZhk6uDK\n",
       "mQ9MFfn9ApbAO4SI0Bk2gKmjgzuhysiCO0rO/HUeL+/il+ClNT/+kSUUeeIeqF6H41MAupvwow+N\n",
       "+OGtq5lScYzGcxp4P+H/qPiR6PPaRCFKEOxi2XgPGCVUIgdWOaOYEvmt/e7uJ3J4+eSdjZJe3odt\n",
       "vC1CZ1YZHsQ7Tbom38LTduaxVQeQZ8br/zoyIhb5HOIX0DJwJkdHlB8/OukQv0jOjpf48sPXahBT\n",
       "i1xW8dPI3v+PA/8iCDZkaXYR+uYOwgYz9kd0YJWh3u+L/PS7T07UMQDeGfW4b+mQBdFeobNdeRPa\n",
       "aRRSywuukoS31tiDsZcSswk/OG/vv3+pVg8355esVvtLDbynS8r910l4CtIRnrDQrYf5CVqZgtNL\n",
       "XP6Hlt/tmMS4M+vxalrszHKV9CxLokW+hVpbjvQH0IzfFZsfGhLbmvND333carAVDfvz23g4Cxrt\n",
       "u2oETbYlfKrQyp0wNefip59H0KIm78x6dI18LHRmOSMTfglg4ZhEI3z5/cHmtxr0DPgsqJQfarMa\n",
       "5b5x4eXxJvdRmdvv5Uf0X7ehIpgdqkqRHzyCd/tXFT3ErFAZGQuhKl19w+901eYXtxLiv9ePvgJ3\n",
       "ZRyX3LaftyGHDHWoQKLCfVQWPqgHdMe6xyW4xmTA9U/9Nr9wzZluGydsgc8lrKjl5TeDbB+hPKTr\n",
       "3Ee9Jn4hz2C8sdLZataXHxTm8pm4CPsitXwCvPy6iEGczEIqw33URvPXNZK6Og3AbHNGIAtF95m/\n",
       "8CKy7WjU4TSum/L5dQl4ef7R+T0ufonb8Gq/3tI/zX1Ue//w7L9w6n+IXzsqglaj/LRa4/0D1qIB\n",
       "RaIOBpmRUxLPLlWMP/11nLtr6JTFfVT7Bj32X7jk5re4Wq2+eX2pDY5snvCwReOQbaTTlB8dWa70\n",
       "OueHPS0SddDIljYF8oMKfnATPowHwUdtaD//WmHMnLrOw+4jtDNilbY9JR17Z8TD8NhuF9zxKxx1\n",
       "iHx769afIX67ulT8ODjuo9qj7aJ87e7O88P+aRj7qO0p6diPxvwisoNtXHXzw1GHWImOP22G1/5j\n",
       "6yle6pD7yXxUdqsfyv+13Hl+eFFJ42dsU0k/RPnBoUbxAzHqQPyQWQAnG8VPB69axB1lPqo4lMXl\n",
       "r9B5flhJiuOFpU0lfQXjt0IZNOH8aNRhDVoJY++aNFraOP4ctn1Ult6VmkdLnec3rkhfhsFKujGQ\n",
       "E+Wo3d3I6/OzxsXmexm/vUqnX4rfG7/fuqWB/yumJbaPytLN8qKb6zw/xO6xt9kASoTLME/wTKc5\n",
       "tqvSnxebz2b8ZsteQV3Bzyd+ALID+4hjHs6TNqdUlpos1aOM33SUP9jS449WSudxqHOT9s8iGQTx\n",
       "8WgFJsBzbFWJZRdDqOijo9PmLE1j/KZJjZLF0fPzfNeShZq00a4e9fgbtZRu75M77Apkd1rJGhyJ\n",
       "DVVsZ/kIJGs+Ojppzp+N8dskNVpfC46frJ8Hx691KX2pY/5xfrDcil12XrrVhmFTr5+OTpqztIzx\n",
       "Wya1CVI/j5a98zcQfqOQ0pmhG7tqV+BF8B5Ilx1+0QL821dHx82ZjI7VE8JvutTmsxAcP00yoOO2\n",
       "t/g9F7+HMmAPVCHrXOWksO/LUrrTwdUMPNdjUk6a3xJWNDdDPEP4kUAXym8GHx2dNGcyOsxh/OZI\n",
       "DYN8f4goqOIGllHtv0Zt2FbfhKxgVoyzNkj8uJQudHA1A8/1wnQB7KoLBgjcDctzhB8RzaMZ7UM/\n",
       "HZ00ZzI6Nn8Iv3slvyTI99fkDThWAUX8QH+2ki5SOZxkZS390ekwKPHjUrrQFzeTlXRymg1P8je6\n",
       "44o9B55En50Hvm4SflgmB2PSwCU/HZ02pzI6fnTCT0KQCvT9Sfn93eOgil+FSqEak8Nx1qOlT0L3\n",
       "7ObnSOlCX9TMo6Tj0+y7Uyvp+9iPNqhMnig00dH32TK6XqH89Iq0xQT6/m5EiqDOVPJL9SR7mRyO\n",
       "sx4t/Ri8RdVw8ErpQl/UzKOk49NUhg/nvRGARME4yPiVCJzfZf10dNKcyeg4+oD5yVGIzRAkP/iO\n",
       "tIGYSn69y5kcTrPxHkcLRwc4rtWpGg4eKZ33pc1kJZ2cpjK8SklP1UIl0PddrVGZ/D38aykfHZ00\n",
       "pw4teeUikvO8eqENB8tvgztGbhRV/MLdT9lyOMkuwrI61cLRIQu3zilQNRw8Ujrvy5pFJSUdn6Yy\n",
       "vEpJD89dILont/CFt6b0X5zm9DUGzO9ptYUWFL+0dJ11Kn6/gZ/bcjjOEi3d8VyyhhnPUTUcvFI6\n",
       "70ubyUo6Pk1l+GCV9LRJ+aWlbyXo329Jvx8E5fo3WSvYcjjOYi1d4wu4ZoVqDzI1HLxSut2XNvMo\n",
       "6fg0leHHQEmPeCKwWqE1fu80/f2099VIL78HzvD4g511FPQIaHNLXv/XltKdDryZqKTzS4+Fku7l\n",
       "9wT92o2+3dfGr9XfT7v5jUb/Ha2UPgZK+tl+mZ+xkn3JIyPF/wJNa8Z/2gKsggAAAABJRU5ErkJg\n",
       "gg==\n",
       "\" style=\"display:inline;vertical-align:middle;\" /></a></dd>"
      ],
      "text/plain": [
       "<IPython.core.display.HTML object>"
      ]
     },
     "metadata": {},
     "output_type": "display_data"
    },
    {
     "data": {
      "text/html": [
       "<dt><a class=\"ProveItLink\" href=\"../logic/equality/_theory_nbs_/axioms.ipynb#equality_in_bool\">proveit.logic.equality.equality_in_bool</a></dt><dd><a class=\"ProveItLink\" href=\"../logic/equality/__pv_it/axioms/80c61ed0a9ea703286def3ed4e81641a1e239b430/expr.ipynb\"><img src=\"data:image/png;base64,iVBORw0KGgoAAAANSUhEUgAAAKYAAAAWBAMAAAC4bPoxAAAAMFBMVEX///8AAAAAAAAAAAAAAAAA\n",
       "AAAAAAAAAAAAAAAAAAAAAAAAAAAAAAAAAAAAAAAAAAAv3aB7AAAAD3RSTlMAq1RmmUTNIjK7EInv\n",
       "3XZ/CtNrAAAACXBIWXMAAA7EAAAOxAGVKw4bAAACZklEQVQ4y6VVTWgTQRh9+5dkd9vYi0hQSkDx\n",
       "osXgQShCrEhVVDAo9OBfFzwIpeh6EZQeqkepuJ4EwboFDxYhpCKKCCEIglWUVqjoIbClVVBo8KYI\n",
       "gvO3m2R3BxQfvLDzdubN7Pd98wWQwhVMR/YfdYZ8kVMCI4gJa/MXxhcrTO+j480pi7YJyrASF7wz\n",
       "2bH1TB+mw3PJJZbDKUXGj3sex1OT6VdpDLzkEr3EKYU2lPTcqTCdbmenhK1HUI7XIu53mx8izwzT\n",
       "NXKWTMqKrYJynOW5Ou+3z7lhN9ffNptvUlYcFqwuP3ge+wxrtYQZYI4NLvntHFUXa2D6QeCO5BSU\n",
       "Q/l+fYHGt8lAy8RWG9gD7EJ3er3T478PgekXke1L8XzPqbnaLyWWqmtkkwKwnQ2czhytjPhMN327\n",
       "kuL5kjMHPVFQfk+Ad8BN+pwjoWt+Cj1No8Z0NUhLUehJkh8k3o36uZ/AKRZbr/OcJjyuO2Xy0zqw\n",
       "Su62sQyl+9uJgWv53fHEfuQbwACbt9Dt6XD90RgpMreQIdmtrvOnxIxpztnKJtjxc96CSbwH2XOr\n",
       "y1MNuD5B3muYzpHHKwP4KmbMce64fgTH4p57MVrilUZqOyo07yTqj0UFKpNU+cH0jegXM25w3m+p\n",
       "+xK3bKZ+lARqiRdr4QQXv8zfo30p1Gn+GqzxLeGVEHonOdPxhDQJEUnjmbibYQMNIzxhOzoeAh+N\n",
       "7x0tItEmOGzHeiFvMJGuf65/w1QRWwajarwtmERvoJAyvCz5hJhetFwz2n1WMAm1PCzdL64bvhKM\n",
       "tOMScMr+Wty/0jUY5Rr+H38A4JajDXZHxnUAAAAASUVORK5CYII=\n",
       "\" style=\"display:inline;vertical-align:middle;\" /></a></dd>"
      ],
      "text/plain": [
       "<IPython.core.display.HTML object>"
      ]
     },
     "metadata": {},
     "output_type": "display_data"
    },
    {
     "data": {
      "text/html": [
       "<dt><a class=\"ProveItLink\" href=\"../logic/equality/_theory_nbs_/axioms.ipynb#equals_transitivity\">proveit.logic.equality.equals_transitivity</a></dt><dd><a class=\"ProveItLink\" href=\"../logic/equality/__pv_it/axioms/b5b3cf1e74e7e4fc2d5f197f08b661e6992950090/expr.ipynb\"><img src=\"data:image/png;base64,iVBORw0KGgoAAAANSUhEUgAAANEAAAAXBAMAAABnpbd1AAAAMFBMVEX///8AAAAAAAAAAAAAAAAA\n",
       "AAAAAAAAAAAAAAAAAAAAAAAAAAAAAAAAAAAAAAAAAAAv3aB7AAAAD3RSTlMAq1RmmUTNIjK7EInv\n",
       "3XZ/CtNrAAAACXBIWXMAAA7EAAAOxAGVKw4bAAACg0lEQVRIx61VTWgTQRT+Nrub/clPA55UKAF7\n",
       "8CIEEUSQWijaIrQEioIWNPRS8CDxoIdaSzz0UIwSKAp6kEVFwYLEIkI9yOKhCKLEg5JLYCuVooXQ\n",
       "W8WTb2Z3s3HbXRqYB7vf23mz8715780bQJxo0aYyhMqPaNMlenJMOSSCKFGPtmULwGmmTItgeh5n\n",
       "vALcZgGuiWAajjMeA5IWkMqLYLLjjGkLMkUwKSRNpThrkmg+t1qfRDApVBBm+8Cd5bDhblMrIEWV\n",
       "Nwo8ivq5FybmtYI1Z4x9jLWYfGWqeXXlNSDTjq9By0X8bPTClKFkH8cpa1/4PFt4R7GlLBpWqiiC\n",
       "KU2rVHBmF8sSFZ2+RWxOZEH0zAR82aVJOfRSWWWWBunVHlmn3qSuQeJJnD4XMGXX50b8ppLjPcUD\n",
       "Jvr368UgelC38TKUJ0zApP00SFum85st70/SzFd9VpUZRyeHAqYNqTalPCRZNJ2/OvnGwR2BMv/G\n",
       "D4AD875kI9yTEnnmvcyawyz5J+OxTurMEfzi5ptd0SsYTsWLw5NGttYBb8xfmeo48eeZrYa7wMLK\n",
       "ZtM9A5D4Ott8+CD6eUyc7jz1dXq+VJecALjc8xW9AXPcGTgaTlM9sUrxzXSqTrf57fINH93QznQx\n",
       "VVH2YpUppplbDLwRtUBV7Eozrl5u+cpsqqRgiWarWwTa1Hytw6TZbzHkn5nKZZh1Dp7cOHyhq4nu\n",
       "of0qP9//RjWPgRMlAuXpajnY0/hk23c7MfwA+gcOnpw92blxjJiLNXxb5M2yQT0lH3meXmCR6FzY\n",
       "IWbM3RPyQrUk5zyDSKZ+ldrXRRd2ylw008b/nzLUwTqDSKaJTVb1LggVTeRi/wCTbqEcktiIwgAA\n",
       "AABJRU5ErkJggg==\n",
       "\" style=\"display:inline;vertical-align:middle;\" /></a></dd>"
      ],
      "text/plain": [
       "<IPython.core.display.HTML object>"
      ]
     },
     "metadata": {},
     "output_type": "display_data"
    },
    {
     "data": {
      "text/html": [
       "<dt><a class=\"ProveItLink\" href=\"../logic/equality/_theory_nbs_/axioms.ipynb#equals_reflexivity\">proveit.logic.equality.equals_reflexivity</a></dt><dd><a class=\"ProveItLink\" href=\"../logic/equality/__pv_it/axioms/864f59d0e02493d4a93bdd8b5654226c327952290/expr.ipynb\"><img src=\"data:image/png;base64,iVBORw0KGgoAAAANSUhEUgAAAGIAAAAVBAMAAABPrCZEAAAAMFBMVEX///8AAAAAAAAAAAAAAAAA\n",
       "AAAAAAAAAAAAAAAAAAAAAAAAAAAAAAAAAAAAAAAAAAAv3aB7AAAAD3RSTlMAq1RmmUTNIjK7EInv\n",
       "3XZ/CtNrAAAACXBIWXMAAA7EAAAOxAGVKw4bAAABTklEQVQ4y2NgwAQFDDgBO1ZRPgXcOlgfMDAI\n",
       "gBjKyKLaDHjAYwYGVxCdjiTGlYBPB9sChkaQ6yYgibEY4NPB7ADSxMCN7HIeBrzgFAMz0Eg2ZCE1\n",
       "/DqSGRjO3r17GlnIG4jXPVyxGz3EoGIbGRg8GBhmoRnC4MAnx3IB5Ke7YAAOT6iYGQNDIQO7ALKO\n",
       "S0DvFTD/YkQLAJiYDgMD5wLuAGSpowwMHAwsGEEME+tnYGB6gOJxkA5ggD3A9DNELAaIE+yAxDv3\n",
       "JwVwVzEwxBdwLUDzB1RMF8jalAVMSwWSbNDAmcfAsDJAhoEbzQaYmCUQ1wCNYGaYxwGVAgaffpcP\n",
       "QxCaDpgYKPAZG0Ai32FSvQwMS94xOaNHB0zsKjwoDsCSPm8DvihnvwBl1HAnsCDSGh4AT6csT/e9\n",
       "gglOx6ejEpvgSnw6sBrH/gC3Br4CBgBNaE7Uk29NoAAAAABJRU5ErkJggg==\n",
       "\" style=\"display:inline;vertical-align:middle;\" /></a></dd>"
      ],
      "text/plain": [
       "<IPython.core.display.HTML object>"
      ]
     },
     "metadata": {},
     "output_type": "display_data"
    },
    {
     "data": {
      "text/html": [
       "<dt><a class=\"ProveItLink\" href=\"../logic/equality/_theory_nbs_/axioms.ipynb#equals_symmetry\">proveit.logic.equality.equals_symmetry</a></dt><dd><a class=\"ProveItLink\" href=\"../logic/equality/__pv_it/axioms/789c834568adff331f7b46a8f81cd1f96d48c8060/expr.ipynb\"><img src=\"data:image/png;base64,iVBORw0KGgoAAAANSUhEUgAAAN0AAAAWBAMAAAC2xYReAAAAMFBMVEX///8AAAAAAAAAAAAAAAAA\n",
       "AAAAAAAAAAAAAAAAAAAAAAAAAAAAAAAAAAAAAAAAAAAv3aB7AAAAD3RSTlMAq1RmmUTNIjK7EInv\n",
       "3XZ/CtNrAAAACXBIWXMAAA7EAAAOxAGVKw4bAAACf0lEQVRIx7VVTWgTQRR++5fuTxoDnqogCxYv\n",
       "IgQRxEuqhKog1Z482gUPgqd4lSrRayvUgwgeyhZEaAsl9tBjWQRBECUKgpfAViqih+KtPTpvZnab\n",
       "fTuTiOAHX5J93/fezM68zABo0ZYcIlOM/XM1gFooqMMtRezbcDuyjg8nFYbTktr5NEohszvcjpzG\n",
       "hztl3Y8E9bhbirwaZWd8hMu+VJbthqAe50qR1ig7YyUGCBTbVJXUoxrTSDLKzmixd6go5FOSelTo\n",
       "25vRKDvyQ7//XiFfE/R3G7BCt3bv2MImW5U63YJurhXsogTakVcBXijGuy0YmAlM4fNMH/GJ14Wd\n",
       "dAbAikgcZy81sHm4j1OSJdCOvAdjdcV4nwUf2z2YINJ5mIqPsuWj2zUe5togZAm0I704mFWM91Yw\n",
       "rqbwkUgduIxf7m/aEbO5NghZAu1IM1W1SzYezMXuQUnkM3ASxXhQml1WAu08JWqyj70ru+x0c3bA\n",
       "KK4nm24tIfsEzj6ssYn2SBzXU2qD+ydLoJ2nbLJ/fa09UWHujSPxohxvWfIpeGR7/WdGAqwVLXpK\n",
       "eGmuFSBKoJ2nzOMDLLvs5/0z8FOaXktegjnyPzMPXiZOKNq/ANbtmVaAKIF2nmJ0MLjPpeNwQpqe\n",
       "SK5s3yDXiH89nTyLy0fbzO3lWgGiBNoPU9yE311f4F3W3B1BgC3NgfGgFPmqO1u2pD1PmQ8iG9ZZ\n",
       "hpM1uXWRM4j8N5oirb84wfkyixKtwRT7+/YvWAxh8kJ+Bj7nHE8NzaWmuFQ85QUuSqCdpoR+28ub\n",
       "Y5XTbE5rXk9R3F9SGUUJtJMUJzbSm4fzTwV1+KGIPRxuJykWOM0u/F/8AftFwtP6vVzMAAAAAElF\n",
       "TkSuQmCC\n",
       "\" style=\"display:inline;vertical-align:middle;\" /></a></dd>"
      ],
      "text/plain": [
       "<IPython.core.display.HTML object>"
      ]
     },
     "metadata": {},
     "output_type": "display_data"
    },
    {
     "data": {
      "text/html": [
       "<dt><a class=\"ProveItLink\" href=\"../logic/equality/_theory_nbs_/axioms.ipynb#not_equals_def\">proveit.logic.equality.not_equals_def</a></dt><dd><a class=\"ProveItLink\" href=\"../logic/equality/__pv_it/axioms/460c0757688de5036b09e198e4b33898716c95990/expr.ipynb\"><img src=\"data:image/png;base64,iVBORw0KGgoAAAANSUhEUgAAAP8AAAAWCAMAAAA4nbqyAAAAPFBMVEX///8AAAAAAAAAAAAAAAAA\n",
       "AAAAAAAAAAAAAAAAAAAAAAAAAAAAAAAAAAAAAAAAAAAAAAAAAAAAAAAAAAAo1xBWAAAAE3RSTlMA\n",
       "q1RmmUTNIjK7EInv3Xbn9enzK1aD6QAAAAlwSFlzAAAOxAAADsQBlSsOGwAAAsNJREFUWMPVWNmy\n",
       "pCAMlUXZM4v//68DKt2CiURnXiZ1q0/VjeYAWUicpjdiOnz18vsHzT9Z9DsrRUC2SIn22H9neMbC\n",
       "V9xL5W1RfPRSMQ3J0CIl1hHrV09Y+IrhgSoE9VzVCzMg/NIiKc4SisXzWfiKsVTeM9oaAMYxrWjV\n",
       "Iul+QWmU5rPwFWOpvA3WwwjcrIodku6n4yl6NgtfwVm6v6I6zpMbVnJpkSw34iYQFZeFr2AlgEIw\n",
       "piKRW1V0aNEDCG/DJXzacuJhi1u/H0oQXBZSQdH21QLlbVBvZcr5l2eYcwgETDrVBW7HmX78LL+f\n",
       "fYZJlsBV6554Xycej+8ixhFC0RKGcN4Gjag/LEmyQWWKdT8Jded+K/eVir3IyshkOW1Ks2j7Gozz\n",
       "tlhcH2Z2DZkbLMGjrzk5tyU+M8TSbsS997Arl+XbvQkO7SX8cd4WJfCr32X/09c67f5yIGu5bNe9\n",
       "JZjj3+6foEXKMMbb4TKpwxSANvmvNoiiaRDR+N8o8gven/Pw1+8+oTdnQY27NMr/JIn9U7SUIZS3\n",
       "wyCPJgBMyZRFHqVzymdne1c5OKN38yTiVmjuOzwn6k/J3mGv5XrfGs2gxQxhvB2aWPWb/aNtNb4c\n",
       "D/RLbe8QuVqv80Lmxl/y2uBpUTymBrfbhYVQ4LTofYnx9ii+nfp6SlyR1aJ3hE1n9Bogb1fJUYPv\n",
       "RQBdjadhtbXpVoHTohUQ4+3xZD6eBuOijpchJtkW+RNaOKqsSYxr1j5V3ARTx9vjJ8fi9mgOXh8O\n",
       "qnkdThGs+a7Y9VHyRxjSOmd4GvCSE5yGOQCUC2N7JQeYW+jBhhpwFOL+BHs68SdNcnxyTz7cYLw9\n",
       "4jGczy0TOcRV3rV44URaaang86WBtwHKOq1At4Hwjvy3Xa5+K30z2hcZaLGvIYPPMEz/GXiq4PH2\n",
       "iMdwOQMFbz81/TfyB1l9Gx7F99IvAAAAAElFTkSuQmCC\n",
       "\" style=\"display:inline;vertical-align:middle;\" /></a></dd>"
      ],
      "text/plain": [
       "<IPython.core.display.HTML object>"
      ]
     },
     "metadata": {},
     "output_type": "display_data"
    },
    {
     "data": {
      "text/html": [
       "<dt><a class=\"ProveItLink\" href=\"../logic/equality/_theory_nbs_/axioms.ipynb#substitution\">proveit.logic.equality.substitution</a></dt><dd><a class=\"ProveItLink\" href=\"../logic/equality/__pv_it/axioms/b3647e5bced6c805148d96be1aa0946871a946d20/expr.ipynb\"><img src=\"data:image/png;base64,iVBORw0KGgoAAAANSUhEUgAAAO8AAAAXBAMAAAARnwX+AAAAMFBMVEX///8AAAAAAAAAAAAAAAAA\n",
       "AAAAAAAAAAAAAAAAAAAAAAAAAAAAAAAAAAAAAAAAAAAv3aB7AAAAD3RSTlMAq1RmmUTNIjK7EInv\n",
       "3XZ/CtNrAAAACXBIWXMAAA7EAAAOxAGVKw4bAAAC/UlEQVRIx7VWTWgTURCeJLtpkk3SHDxYLCXi\n",
       "z0VLV1Chl1pp/aOCwYMnMYseBE/rUalYPUrFigexh7IFDxah1B48KJYgCKJUglDwEkixInoovVV6\n",
       "EOfN+9vsS1sT6MDMfvvmy5t5+97MC0Db4pu44z/4fuSnLUu+aGK7vj3/itACe9nXRuBDZEfeaIzy\n",
       "vRmzkZN3uZ5iL9dbj5vxmHV2v1eYSTIwmVHODa732NZMtB7YcpnNHphUmEli0GRGOUe5shydYuuB\n",
       "s2TLgcYkn0xmlJMNSBOYSbKNLT5I9l0Ik1wzmVFO0uW6WKt9biPwCDNHFndJPLv84i1+uFcGUXMy\n",
       "Ky5M4/ctcD0LMLnZ7IObB+ZL+6vwYL7HqgIcp/2vkRSgkePEK3ACz4HH9SZ0MEZm2DVn3+LQfaWG\n",
       "8UfihJ/YiOEMhw2i5tzHzLoAMDxpOnBK6EgfG2sp8Adm4msSp8CienlkEDUnyNbhC1LXuMbrdLY6\n",
       "m1TgtoGdqsZZ6lqXzTLWnHKQwuXbFa7gDbC8uueZe/XMCvZRexliocB8kFqidIhPnS5oXPYzmHuv\n",
       "scchzmnIs89c5QrzrJVAP7UzvyuJR3O2MxjXgWnw3DMUVzkApvQqGZ4pdYMjp2kseMWBx5RFYoIr\n",
       "jFJKw9R4YCqFj9u98EsHFoMQdoi6uVuSuO/Bebgoq6xBNAdOQhnPnzXHFWJ0qp5w2jrZPdAT3uN1\n",
       "NYt0ADxkpk/h56vxIdb/lozAmgPTCxdwz3IlrkI+kk1V6EpdEq8TapB/auXAn47REjTmtVM1Ajdw\n",
       "XqPeESoumw2AlzDqeBY+4Ju9pgPToBDpoOsgXrgavRqsaDMIcxwvw+6pIaEgVgUwXrR+LPzGB+zv\n",
       "93RgGhQiHShPITfpKSzkVnS9YU6uHpvjV2HoOqSkxSVVzPhpt2kdKwfKDCRklSGOZqDmDXHiA+zy\n",
       "T/tcuaT34hbYvIfYQax+qXkDUQ62naG/ORLnt/gzJTk/hYr2skp1w5MEe2CueWDl2Gnxd27qf2UN\n",
       "1FvBvR7LAAAAAElFTkSuQmCC\n",
       "\" style=\"display:inline;vertical-align:middle;\" /></a></dd>"
      ],
      "text/plain": [
       "<IPython.core.display.HTML object>"
      ]
     },
     "metadata": {},
     "output_type": "display_data"
    },
    {
     "data": {
      "text/html": [
       "<dt><a class=\"ProveItLink\" href=\"../logic/sets/membership/_theory_nbs_/axioms.ipynb#not_in_set_def\">proveit.logic.sets.membership.not_in_set_def</a></dt><dd><a class=\"ProveItLink\" href=\"../logic/sets/membership/__pv_it/axioms/0592f2e31092a6f12b70ad6e1b04d96f0a4266170/expr.ipynb\"><img src=\"data:image/png;base64,iVBORw0KGgoAAAANSUhEUgAAAQIAAAAWCAMAAAAcoWJbAAAAP1BMVEX///8AAAAAAAAAAAAAAAAA\n",
       "AAAAAAAAAAAAAAAAAAAAAAAAAAAAAAAAAAAAAAAAAAAAAAAAAAAAAAAAAAAAAADFBd4eAAAAFHRS\n",
       "TlMAq1RmmUTNIjK7EInv3Xbp8+P3nXbhrUQAAAAJcEhZcwAADsQAAA7EAZUrDhsAAAL6SURBVFjD\n",
       "5VjZstsgDGU1Bmza3vL/31pwbAcJhJXbvlWTyckA5mChNUJ8SxzC+SruOH+h+zfH/uY2VZKCSMgS\n",
       "xuM2fUbDn3iQixiivOeV5u6kIkRCVokeMyZGoW15Bf0JDX+CWt8RAzT2vjOuWYQFIiXvrQ/xVeXB\n",
       "55l9jGj4E4SMiFu8r8p57pZGQ6Rkh0+ZA/Rxfm34NPwJYvmIGOClj8j2rw3h0Fv9/uPn3l5XXls3\n",
       "3AKbhj/x4i0CzGRM3KI+dcq2LrVAHIWdJQUhVzCUXzzra3TRXBr+xMmLx8bEALeqt31jhxgTIYaU\n",
       "ZFhjY0WuWhby2JBzbHQSJZeGnCB4u8gxJgZojgU+cFWA9Vi8KckkzNv1j8CqUebTuYi8Qq5+K8js\n",
       "jciOhuQneDsZEwN08voaWFZMSacVRjkFULvKUuz+feRlGPRD8jlffqy2J02f2zcKMizegR2MiCFW\n",
       "A4h26Hb1JteMopEFWPVjAPlaXevXV/nqkozJ58N400HQwye6bmnOe0if3DpiiPVFl0nslVMVHD+B\n",
       "0QffJxh9OeY5bLe/VQHB27kBQYxwuR03JePK584nelBJI0c4gm5ZEgIoCGBREM7ju3yuUvtTLNgV\n",
       "oYI5L3YCihhhVKfjJiekF8vNkXL2elhs3Ri8FbJqsgngKQkLa5+L8A7z+rEQ87iRcIbB27kyRYzQ\n",
       "bfK2mkLQRL+gTMaBEqYVlddgylFse2mLgkVBuekIU6F5zMFk2pzydjGAIsbYHDg3Zh9e1oa7n73F\n",
       "YIruldEKmt+XBQnBCCuNlO9Fu31SwbpPJwheD3lpYoxtVH37/kvBfe+wrxBHQeh39LhQBUa9P9cf\n",
       "5PYT3pLFp7w3McZ7fhNxOWqOUM3DHNYju3oDtxof/FPwSadDbs/psbgtXncQk2otVPvHTdWysfbZ\n",
       "g4rLO4i9rh+CHa8rJbf33/635yLGOG5GZp28nyRiTtfJewdy++C/qwJ8ebOD2KkluwQRy0MPlJi3\n",
       "SG1PTwgeMcaxv4n/Rv4AIvwdMCUnlXYAAAAASUVORK5CYII=\n",
       "\" style=\"display:inline;vertical-align:middle;\" /></a></dd>"
      ],
      "text/plain": [
       "<IPython.core.display.HTML object>"
      ]
     },
     "metadata": {},
     "output_type": "display_data"
    },
    {
     "data": {
      "text/html": [
       "<dt><a class=\"ProveItLink\" href=\"../logic/sets/equivalence/_theory_nbs_/axioms.ipynb#set_equiv_def\">proveit.logic.sets.equivalence.set_equiv_def</a></dt><dd><a class=\"ProveItLink\" href=\"../logic/sets/equivalence/__pv_it/axioms/a526f1ab8a886b46cea1848b9b6f2e135fcc6d080/expr.ipynb\"><img src=\"data:image/png;base64,iVBORw0KGgoAAAANSUhEUgAAAY4AAAAWBAMAAAAlaGbVAAAAMFBMVEX///8AAAAAAAAAAAAAAAAA\n",
       "AAAAAAAAAAAAAAAAAAAAAAAAAAAAAAAAAAAAAAAAAAAv3aB7AAAAD3RSTlMAq1RmmUTNIjK7EInv\n",
       "3XZ/CtNrAAAACXBIWXMAAA7EAAAOxAGVKw4bAAAFA0lEQVRYw9VXa2gcVRQ+u7PP2c0kQSlWqllQ\n",
       "CmK1i4ZKf9Rsqa8SW4OClLbYbUXUWnT7RyhqsoJ/1EoWoVSKbbZQxApKLIwg+eG2Ep8oq/iI0IGJ\n",
       "EaJit6nWNm3Veu45d3Z35t6dBP954OPcPXvnu/fc85g7AGGSlAiTkmKxnPJ/oCot0hYkPDW14Bbh\n",
       "Rwl8othpzkOKJTMUSqXbU1HHA1YuZG9xlwE2qR5hu04/NTrOQEnMkTKXfS34abz6cm/v42Ww8qof\n",
       "EXo6r6fSiGBXeeBG7WRj7EzvktcAZoBhk7pT/PWonv4NCZSV7EfXz2twMxG2fYqjeYCdqh8xEZFE\n",
       "SU+lEWJXeMwOOZCtAPSVIVEFgk3qeRHWiv6BdRIoa8+TmgFzO8ALnAz/YGDPAvSrfqRElPd0oNII\n",
       "sSs8sbx+9gim0bYCGAUg2KSER5kOeViTwBnPzJPG/UUei3/P8UWTgb5kq2p9iLM9pqfy5BfH8c6b\n",
       "2RWerL9YDjrf8WgA28gA+vIZEGxSBjqd6FAeRQbKsPU7aZHhp//iOo5gMiQ+RuRVP25FVdRTSXnw\n",
       "19aY2RWe5b6yfrLpZh9iFybtw0CwWX3hOJ/r/YiNM1AK0T9a9mozTc1r8GgyPaofWcc5Oa6hMhtX\n",
       "v0xxSrZXA7MrPIOId6bfnKBseboVLazLw1Oo32XYrO4BONC+vbYukvcOKZ5LXVLcHD3UWCL+Neic\n",
       "NzhCvpJ+xMqQrmqoYjDtboBAE5DsxBMjGodcEuddsK6N1f2tKHWhMS3+glUMm9VuSNJT5ic068Wz\n",
       "E+vla6wrxxDLJ89AYLdwugTRD0XO1NR4IOXudpNHdRsMVK8gP9qDxewKD7Z4o2RcjNBRtpLSwqaw\n",
       "QthWMGxW6Sq/tzJcAUYdLEmYHWJgTd6x9oISj9cRH6DLqTnNe/AA0bdKVlKV4S427BXnIdukZFd4\n",
       "JtEGMXYghenv/EDDNG4vIxrDKMNmFXX5bDZ9ydWLDW0u4IeJzeFvxQ9xhqJtxDXxgJt9Zd52JLwK\n",
       "HG17TUh2hWeSnnR5UuvV0N3DfRK2Mmw5LN5Of7vbecUcvJ0P5FUMcTLoRkrUZh/uLVpX6wMSBq5v\n",
       "/TR8d4Aqfh7eIkN7WjE78bTXh7g6wLaSSYVWb9Ulbi/yJw5uYthyeIxahyUjPjLTf5V8IO0y4AHE\n",
       "U8H6EGmaOicysaKJR2Y5rj4bqezwUZn7IjXq3WC5zekeu8JzCMM2tAwy9KPRNGNdwqiI9mqGLYfP\n",
       "kvOb4DeatQbMK7399DCSIuBjwbtnAq1bd0KzNfv9SB7HQT7tln1U0fkjtTi/dHc074geu8KDzXTl\n",
       "S/fC/bxc8129C6P6UVX25UH2QwwjtNbgRB/FD50YkffVVJ1gjp2rwg2Xn/AvEhG3tVcpRYZ0910K\n",
       "arfnvEe10b3+FrYc3sd9ucWu8LwCcKQRXccOmEs3s3WpuJ6S7VuGLYfczHD75M8JTEnv82FKIlye\n",
       "63xv39v8glCpthx0iuE8Xb7PmPj73r3EC2SdYbNqJml3zhyH5EUwv/GM/brbm/Y2qfUjWXsPCoun\n",
       "UniMQuh8cY0UsNtulLHjYN73SOoErLo0sb6ZiekSI/ybsdIxHhu3NKqLptJcuveHLrxHwg5crUXr\n",
       "C3wAVHyNWy/q7nTfgwtTabw8GrrwfglbdXhz4PewRJjMqt+1uu/zBalmNSFyQ+ZbJcapSVI+ycP/\n",
       "Vf4Fq76F4zG+p2EAAAAASUVORK5CYII=\n",
       "\" style=\"display:inline;vertical-align:middle;\" /></a></dd>"
      ],
      "text/plain": [
       "<IPython.core.display.HTML object>"
      ]
     },
     "metadata": {},
     "output_type": "display_data"
    },
    {
     "data": {
      "text/html": [
       "<dt><a class=\"ProveItLink\" href=\"../logic/sets/equivalence/_theory_nbs_/axioms.ipynb#set_not_equiv_def\">proveit.logic.sets.equivalence.set_not_equiv_def</a></dt><dd><a class=\"ProveItLink\" href=\"../logic/sets/equivalence/__pv_it/axioms/9437f7172aa913560deca1c56b1db5fda3c9a51d0/expr.ipynb\"><img src=\"data:image/png;base64,iVBORw0KGgoAAAANSUhEUgAAARkAAAAWBAMAAAAGH/VFAAAAMFBMVEX///8AAAAAAAAAAAAAAAAA\n",
       "AAAAAAAAAAAAAAAAAAAAAAAAAAAAAAAAAAAAAAAAAAAv3aB7AAAAD3RSTlMAq1RmmUTNIjK7EInv\n",
       "3XZ/CtNrAAAACXBIWXMAAA7EAAAOxAGVKw4bAAAD4klEQVRIx8VWS0iUURQ+M+M8/EfHEcJqETMQ\n",
       "BFHRLERqUSpaJBGJbSp6GBGRSdomiEwnWrkQJYIkRMeN4KLQWrRwkRX2pJikQMiJqRYRhK9s1MSm\n",
       "c+7rf8w/M8sOfHP/ufeec7/z+u8PkFNaBXKIN5tezg02Z+Q5ByAQ5kC5km2PO2mvp+Qr59SYzcAp\n",
       "A4I0sTnLxm0CKC0ZzroG5kvLegG+2etJcY6wwTPHhsG3RJQ7sDtdWnohCoEIKOyj+fP2ZLRGDrKZ\n",
       "1qdlmIp6AEJR8MTs9JQM8WEnZ/P55icZAoBXAI5lgCZQuEHO9tizKYhw0GOIpdXdcgmgN8CXO9DF\n",
       "01XgqrLTU1LDh+ollsIIDAXBxzW8f9HgIkA5KJBn/rA9myIBlEePozR07do64awa5nOVOFWJjF7b\n",
       "6SkZZ7/+a8s0OBBl0ZO8YF045UJGRTEFF/rhyVI2WwTQjeQsY7we4GRfw0e+HEI0o+GzdnqqbHjW\n",
       "2gMLjBTFJz3BlxyYPM8LRETH20TiTRY2BwUw9rCTRZ/KrzkVVmkfnMJx1E5PZY0XcZXzl15Wet1p\n",
       "mzC+/qCOAwB32WJGMTKnueMN0D0iO0qWqG9l5gtbrWCnJpgEAczB8jAv3GHfaob57v6ZMlp1Neq4\n",
       "DF5mQnvJtnQujtVFxfZJAXQNOkQfgKNevlSwLreTte3WYyYlOazW4jCPrXfeyhlmW8H5jJI5rqMw\n",
       "5mf2/Qu8tOIQGBdWJwQgcLs2JPvumDyzELf5qTa7rWwmZBjx1CJm/Edt9UpGbPoQ1By+OR3OJC/i\n",
       "o++469iyc1Y29wFK4vRwKJFYSyTes9WSIG8JOJGXjYb1tpbBhqJFPeke1wGNe9la8gwvrTDci1gz\n",
       "RREXAXONqLTjNsdvfNhhzcGkgQ3LVAFi2krGR3UdQrLOuA540MSSAfv5K+1b+Qa5v1/AHVFvdihW\n",
       "1jDt0E0lvdt6Tr9kg14UUhsekVeLkTPVnS9FDvbogDa2dhR+Mgt7QFsnrY4KtFGVLPG5h+rMZqT5\n",
       "PGZpaKUnhdrWS3EdsN7RHpw90SReAhLgYC10cCzEWhypdMiu6eIYTjeBcyBFew9N4+uJ181GuvNY\n",
       "w3y0suky5iMO2kAqBlvTF82bHHTp3mLhrtch2hVJMFZP8e6RHV4c5TDaqM/8wIlbZ0w6U/k+W+C6\n",
       "AVwwsyVhbQS8f0D7ICfpPrTciZ32d6tZTDrlednUGMAtPgHt8DnfU6hYHavT79A7Arr0Zhq7mjll\n",
       "1CnM901HXxASJnFa/g8L6BLNfbRBT91KPXnYEF0Jkxy30k5y5PxatfHdpNOeh813A0wSgf8r/wAu\n",
       "HRcDmrsnNQAAAABJRU5ErkJggg==\n",
       "\" style=\"display:inline;vertical-align:middle;\" /></a></dd>"
      ],
      "text/plain": [
       "<IPython.core.display.HTML object>"
      ]
     },
     "metadata": {},
     "output_type": "display_data"
    },
    {
     "data": {
      "text/html": [
       "<dt><a class=\"ProveItLink\" href=\"../logic/sets/enumeration/_theory_nbs_/axioms.ipynb#enum_set_def\">proveit.logic.sets.enumeration.enum_set_def</a></dt><dd><a class=\"ProveItLink\" href=\"../logic/sets/enumeration/__pv_it/axioms/6fb4ff7ba9c954a5bc3bf9289224108e230746630/expr.ipynb\"><img src=\"data:image/png;base64,iVBORw0KGgoAAAANSUhEUgAAAlcAAAAzBAMAAABI7zDSAAAAMFBMVEX///8AAAAAAAAAAAAAAAAA\n",
       "AAAAAAAAAAAAAAAAAAAAAAAAAAAAAAAAAAAAAAAAAAAv3aB7AAAAD3RSTlMAq1RmmUTNIjK7EInv\n",
       "3XZ/CtNrAAAACXBIWXMAAA7EAAAOxAGVKw4bAAAI4klEQVRo3u1be4hUVRj/5nnv3HnsVASaYhOa\n",
       "LPmaSiNDdHKzl5qbkX+o6KSE5B81hhia2uhfFauuhfkA5apR+WgdFRdEqMkILUlGUzFp44qLIsYm\n",
       "Cq1s0HYe93XOvXdeu/eC4geO58ye7zv3/u53vvN953cHoJxIe/fKcF+qgyLe25vp8zSR/F2N0h6K\n",
       "UaS3t7UCWM39MNtDd7dLiZfURsADsHwFtp+z9/I3+zDF+9im4BZaozwE6xm2m0jZjro6uy8PfyBa\n",
       "KiHFJbCiSc/AEk6w/RG2o/w9fQuL+H6uuOVav3kGVpx94FLW/umV+vbwsXrYrY17pOwVWBPYbjDt\n",
       "GliBjEtghTNegXWK7cbYALa940K/gQW/uARWqNsjsBJcMBrOXMW7cj96Fix0K2i95RFY8STbn4r+\n",
       "tV3+5hjZE5fJ5ruVOtOw0whuTM8u2TANoGAddAusMbI3YG3g0nf89DOJIUFyd4uMUIbiftRfhEmG\n",
       "szA9O28yDUgU9SQl2EEk2Z9gHVC8AWsw1z+LJs0Fenwkzhs740rUX4sQHAi71S9JTzr2gOMWR4er\n",
       "+cktsmu55VmRkjdg/cD1f0IpJPEjnEv+ilzgd9xa8jb6kGMKnBa71OhFekEIOgYzMkDr7FyAvdgt\n",
       "sALdnoAl3raChbZEmntJ+uziK9iB5sviHfBr6OBeQ7Nwx9E2Ga5KO77Qua6dONz2BKxEt3UZotvM\n",
       "SWR1ldgU/EUce3SwcC8glwGLDGha36kXAKPcill0fbgOVqTIfbEDYE/zYIiSThe792/EmGGwJNB6\n",
       "5A/WsKUP2D03HUNVdJRMM961k4ftnoAV4ydA2/uYT6fBTJoapxiwnof5aQLWgazWg3UySP8A/Upv\n",
       "GANWXIUGWUsdproG1vcqWMRfhzqD5SN1brreTZcvQdYBfNnlb6IoSQNnm8Ha+d2MHAErfknrCdtQ\n",
       "qwPBEceGzoHaMAYMIZGKgnXeNbAmNVOwprAJjwWsIB4XztWbZvHnJnEm7wodZcuddqAx6wmttxQ+\n",
       "QF9Z16E+4CS8IKrqQsk1sMhtILDW4GlancESsestrzv35U+vHKpdfLfRrHRcBaug9oQtH78KaoBj\n",
       "RB9wEy42qmAF066BRRYIAgsfbERTZWLWYvT/obr9N89/s9l+1yziwxxfAYT2fxWQFLUX6+29icoj\n",
       "a4DXBoSScCNNC4D6n2hlaUhSsAJornC5AP80k2rXKH9b1u8e+yNClIL7J07RoANzDxQrtuwA2J92\n",
       "fAz9A1aruhuiNPpUObBiHR1/FOreRizhRlBsBy59sA/38iFWTuTcAyuWVcF6GWBbObCCeYjI9c4y\n",
       "Q4Z7QeIlFawlIJjTXeHcEZiQNIGF/rqk7lkehXsDrKIKVkSO6qnn+oGb4LGoHJTNSek2OHIfLBUs\n",
       "v6LH9+DLOEFVMlEmgx9df3y/55YhZCeiBilICZnU+PhqFqxwAMXkROfql1B7XhK0JWpqGknmZZrx\n",
       "GwHeGnVz4ES0MkMqfVPLn2sYaX91eoCHQyiTIgUpPTJpjO6aw4AVHY7c45qvdQHOb3rEopbq6E1D\n",
       "2hrkFjZ1sORZmGRNpMpf8Tw7pZoUHE9BKhgilqzWYkkNrJWoRQrSEEmBGyFznQFLwAcU6YiC7lvY\n",
       "VUq0knqNNmd2spX2ilFwvUJSOgKciFbTLaVtlGpScJIRUIUlq7WGjAaWD98QLkgD72zd+hkCa1+Y\n",
       "PXUYQMYT5/QVfMpa+qYEbhalm6zVQcgQU+7wxxaYZJUqxsDFZAIc70QF6lBg5RGyd0FVhoilxZZy\n",
       "p8Ac0eCCVCxQzwqNtjmiaSFLOd4cy8Ml9W+xfI5fiefhZGDKU0YOu4F/SLiAq1zEjSVlJL5t8r5S\n",
       "zQqsTMQfW6C68nGsZs2ukFazK1KQkvU1DuCyBSyh2A4ZqQDx/HzAYGnNSDPswx31Ay6Gbvqvm05A\n",
       "G/i6OQY80WqbMesHqcugHgVuL8M3kK3OELEUk+3OA3SwaEG6HD0V8ULO2NEMz3ptTpcsHgd/0xcE\n",
       "LK2Jco2WlHgCWnL4IwXDxmdhgGA4e5z3++HAEa22EiYegMv3yVCPAnekgW41mKrOELEUTtuVuNxJ\n",
       "qXR066ZyJ6V++Bo+J2CpzaiM/NPYYFJSLpKGUmKc/mR8/IY5FTii1TS7wZrSt3yWqc5SuwJXjmap\n",
       "dzkaamsCSUuDsKVo0i63rvFYeTYMCWVh/amU1nyvtwQhHZmQ7FNmoWn9h43jK/5VooXAEq0mfsHE\n",
       "mgaIQ6KdJ6FAPQqcDNCO+82GphM7Z8jp2EgIaDsVthTg18PPdYCVhjduWJoBAxkITeTOJ8RbnMWz\n",
       "wBGthphIVj9xSDEJcRkqKFAellPgZA2om5K9ITE1HXwaEtiSn1sPwn91gFWH2JCsDNFqEhPJKtLn\n",
       "vAiGaUqOCpSH5RT4OJTzZ8oYkuC0RmVSSyKXEHlEssI0e7DAuDpDDJI1VFRTyEW6kpMC5WE5BU78\n",
       "BZVEcDAU6jHeycCWQpxn+Tyi7+c32y5DnWg1c6IGyaoyrXGxVVdyUqA8LKfAS+kTsBgyxSzka3/B\n",
       "2Ge7MurUfm6XaFC8ASvOJVo7gCNaTaKTrNp1JZ5s1pScFQhbwSnwcuVhKGcIWdkojfsRTqhT87BM\n",
       "kr0Bi98ODwJHtJpEJ1khSPcJ6YKu5KyAeVhOgbCxBiUL8G22rKFgMnRbaMtCjzp1kNumzoA3YPGv\n",
       "Sa4Djmg1iU6y6vNO1pWcFUhdzymc0z5Uxw6myhqSBnV2g08hoQpb4m7bs9ckVRc2LOZ5otUsGsm6\n",
       "CixKjgqEh11VZVBwMhTNQiwfzOSppVWWVeoRWGHWpTHJ6kS0GiRrE1iUnBQoD9tUZVDIOEC+PwUf\n",
       "QXxtnlpq4jddr8ASuR8NbAYnhs8gWS0MeRkFwsMKrVVejb2hP2EQwOuQOEzJed7aWfAKLO40kJCs\n",
       "9kSrwZpG+IPdmhWcxN7QUOMME1virHn4cxT+h06C4ki06nLNUgrXquAklQwRS5y1WVAlWM/1w48z\n",
       "F8BdLSI9N5X2tlUC6/6PM+Er6i74x5n/A7VG70C6mvdEAAAAAElFTkSuQmCC\n",
       "\" style=\"display:inline;vertical-align:middle;\" /></a></dd>"
      ],
      "text/plain": [
       "<IPython.core.display.HTML object>"
      ]
     },
     "metadata": {},
     "output_type": "display_data"
    },
    {
     "data": {
      "text/html": [
       "<dt><a class=\"ProveItLink\" href=\"../logic/sets/enumeration/_theory_nbs_/axioms.ipynb#empty_set_def\">proveit.logic.sets.enumeration.empty_set_def</a></dt><dd><a class=\"ProveItLink\" href=\"../logic/sets/enumeration/__pv_it/axioms/3c056759c1e748a3edc5ec6822723c8041cb7d900/expr.ipynb\"><img src=\"data:image/png;base64,iVBORw0KGgoAAAANSUhEUgAAADoAAAAWBAMAAABj+5JWAAAAMFBMVEX///8AAAAAAAAAAAAAAAAA\n",
       "AAAAAAAAAAAAAAAAAAAAAAAAAAAAAAAAAAAAAAAAAAAv3aB7AAAAD3RSTlMAMlRm3bsiEJmr74l2\n",
       "zURt5drLAAAACXBIWXMAAA7EAAAOxAGVKw4bAAAA20lEQVQoz2NgYGBgZMADlEUwxeoeMCQlgBii\n",
       "6Z0Ykjz3ChgYpxYAWe4MXQLosvogCdYJDAxMAQzOAeiyW0AEtwMDA8cGtrAPOGVZDHjMv+GU5TLg\n",
       "Lf+HU5ZfgYXhEx5ZbbAshwsYTADL9oK9tQAoa9DHjm4y22Iw+QlkrwMbmizb3AdguvISA+/BCYzf\n",
       "0fRKhIOpvQ8YuHsM+Bag2xsJIpiAmhh9C7g3YHczSFMLQ0kBTh8x2J5pZ8Atuw1LlCNkGUiWPQUi\n",
       "OC7gkM1XABJVBjhk2ToVGLInMTAAAK9fONv24lJ2AAAAAElFTkSuQmCC\n",
       "\" style=\"display:inline;vertical-align:middle;\" /></a></dd>"
      ],
      "text/plain": [
       "<IPython.core.display.HTML object>"
      ]
     },
     "metadata": {},
     "output_type": "display_data"
    },
    {
     "data": {
      "text/html": [
       "<dt><a class=\"ProveItLink\" href=\"../logic/sets/inclusion/_theory_nbs_/axioms.ipynb#subset_eq_def\">proveit.logic.sets.inclusion.subset_eq_def</a></dt><dd><a class=\"ProveItLink\" href=\"../logic/sets/inclusion/__pv_it/axioms/0a73f44893619de306ad70c8de110c34b161d8b90/expr.ipynb\"><img src=\"data:image/png;base64,iVBORw0KGgoAAAANSUhEUgAAATUAAAAWBAMAAABTfhYbAAAAMFBMVEX///8AAAAAAAAAAAAAAAAA\n",
       "AAAAAAAAAAAAAAAAAAAAAAAAAAAAAAAAAAAAAAAAAAAv3aB7AAAAD3RSTlMAq1RmmUTNIjK7EInv\n",
       "3XZ/CtNrAAAACXBIWXMAAA7EAAAOxAGVKw4bAAAERElEQVRIx81XXWgUSRCu/d+dzU426In6sgEP\n",
       "X/xbNCg+nAno+YM/F04QUdHVI4hBMHkRAmrWF0GMZpELGuHODYiQ45REiHIEcQ0o3omyiKIPLkxO\n",
       "ISgaf1ATFYzV1d2zO9MzE3yzobZmqnu+/rqqu7oWwLO1CPFoEdX08tE3f2KdEgEmmRVAr+WCbb/b\n",
       "mJChmAYmgf3fq3M7R2AqyR5nuYybIwTbPqUzcPZNzbTTAE9Ubj7260+7oPr7HM0CT08TN6Z+Zubd\n",
       "ziBahgvDmxC2Z6VSSYSsKgeQykI4r3ALNuJv2C0s513sAq+Zex7VYRb/nPPgYJoLe0zxmY6MlLvb\n",
       "MZo7GiDQoHCLsmi0uUVtuYtd4NVxbqjYquO1LgsRgu3KtSx58mFFdz2a6hHvP3W/sbVfcuNWsLxh\n",
       "IDIWvKo8cUMVQL+EXUBmC0HPGq+Iv6+xojuFshfd+ZvKbRH+Zty2m6Vj03M7XjhN3Ji6UyrddkFZ\n",
       "KwRDCgsotpZV/AvQw7Zev8qtqlR63OeCGsQObXTmMfJrpFnBiyeJG1OrAc5Ql7KlySHcKb9CJ011\n",
       "uKI3+nF0mHoX04wlaknOLZiFmA1Pkw/MIUEYNtaD9cBIvECGuDHVChEC1G7RiKPvBtdkxeh7QgAa\n",
       "oJ0GtVYmvzGAucybc1W/IWSrzfi3RE3g7lgC9fkptkBIPH+BuDEVy8dpE8Xf8ixTBF1u1htCQP99\n",
       "RYrOcqJishgOi4/jQ6dD7j1TTsAnZnQxdU0euCqcLgsr+UsHc3bOghd9TQhM+Q3OffNdUj5MCq/t\n",
       "3C4CVBdlVpGtGj0Z+IIP2xy4zTePQnA1vz46jApuAHw26FXxQtxvTEFmGXUZO/mXtXAhbY8pZrAE\n",
       "d2ZTGasTh/ne48M8db9BOIBU9KeHVslrQw8nK2IKoTH4yxYIiecv8pgyZ1yio6ILL7c/qZsuR/8p\n",
       "JMTyDHdmzw/mFn+F27iTeWepg9/is3HciC+3SxN53QhKR8YM0Lp8BaDDpZdvY4kXyPGzwD48QAva\n",
       "DC9oxE+gTZWj+4UcYIhj3Lb1D3ln7UXSN/NmmrFyi1xHnY4Z2RAPQihr7mJMDv7xc4UQ33+7zK8k\n",
       "HssxA1yBjw7Q2sEUeQSJtcsEe5xL70Qz+M9+sOWrGRM1NXsI/4FTHULOr26BwJ7u7pM402D/J5kr\n",
       "iqBtMH5cyN96uvI2vEQjISTMNK8jJeI4hHeaedqzXCapxoquNVIHtET5kgyIjEurtbrDQFhvkIMc\n",
       "4aBp2IiLrNX6IPIJtPtm1dIADje5U0XgyC1SuIyniBI7i+xb2V3njbecI5gVQfA6aL80RYdg8efB\n",
       "NeWb/5SQMg86jNaFt7nWlhu2juahjTl+XRLOfZBBinnWtFQUDai1kd/23mvNQM7tlHfdq/3T3WW7\n",
       "vXJecMR8QF3AFvsaDC6edbvqhauT/F845NXJCsSXN2DEbk/D99S+AiaFO+dj7lWNAAAAAElFTkSu\n",
       "QmCC\n",
       "\" style=\"display:inline;vertical-align:middle;\" /></a></dd>"
      ],
      "text/plain": [
       "<IPython.core.display.HTML object>"
      ]
     },
     "metadata": {},
     "output_type": "display_data"
    },
    {
     "data": {
      "text/html": [
       "<dt><a class=\"ProveItLink\" href=\"../logic/sets/inclusion/_theory_nbs_/axioms.ipynb#not_subset_eq_def\">proveit.logic.sets.inclusion.not_subset_eq_def</a></dt><dd><a class=\"ProveItLink\" href=\"../logic/sets/inclusion/__pv_it/axioms/fa6d2eeca38ae0bae56c100793dd172eed9163fb0/expr.ipynb\"><img src=\"data:image/png;base64,iVBORw0KGgoAAAANSUhEUgAAARkAAAAYBAMAAAA8FZQ1AAAAMFBMVEX///8AAAAAAAAAAAAAAAAA\n",
       "AAAAAAAAAAAAAAAAAAAAAAAAAAAAAAAAAAAAAAAAAAAv3aB7AAAAD3RSTlMAq1RmmUTNIjK7EInv\n",
       "3XZ/CtNrAAAACXBIWXMAAA7EAAAOxAGVKw4bAAAD/UlEQVRIx81WS2hTQRS9SZpPX9o0BRVdSAKC\n",
       "ICrNoggiaosfLCIW3UgRrYiI8Vc3glht3QguSoIIimgbNwUXSnUj0oW14h8lFMUifRh1IYJo/dXW\n",
       "ovXOne97eTG4EL1w8l5m7p137m9mAP5cIvCPpE3AIdWOf+FSdr9V8PhGWzkysSQHykE9usyhEyx4\n",
       "2yl5xTm1lvrIFgNxNjCnhOJ8AZT9evQ5fwR6PtbOOAPw2ttOir+PHqHRIq3FU7W1uzohlgKFVWx8\n",
       "pzcZq5WDrTklxt7aI4+G+WtVFiDRCaGcl52SXv6oE2xi523b7uTv9wF84wBpUDjGopj1ZlOR4mCv\n",
       "CZ7W42/AJ9aCDszR1gYINHjZKVnBH43feAfs0+UR/ol5/gJQDwrMs2jSm02VAMq1G8TBeqacBViO\n",
       "Q8uR0QMvOyUD9Bs9PE7PS0atBnAogIyqcgoB9CNUomzmCqAbhQ/E2NcMcFVOJxB7cPXtXnaqbHjW\n",
       "jsY+0XO6MeXD5IXuIlIaj2z7YQk2awUw9lBH0We883Ia036BldAVLzuVNV7EDf7P9DQrCuvOmo3x\n",
       "jcY11gCcpcmiYiSnueMbIEOrYpUF+uQmOPH+Jc0uoq/aJHEAZ7BC5EUwGZkkm7gxlel+P4PNBlo1\n",
       "DkCYVKx7pHLiS3+TLNMhAXQNOkjpAOgWimFdLmCrLXB7MSTJYX1XJ3lswx8p4yabD23gv8WSOaBR\n",
       "mYs2U53xxAbyEBsQ6rcFIHZqZSIrtuFjcrFKVIuy2sy42dyWTYPfrqLF365snKChvKF2DsGaIzKq\n",
       "4S/wIt70mJcWtuyom81lgBpapyIJM+ViNXHeErC5LBsLO++H2e8kLFqsJ4MDGtDKd/rCNl5aSbiU\n",
       "cmeKRZwCZj3VO1sG1Xxf8WWhu26GDDaUqQrECC+jZn34srpO4H9/XgOupikZsJpvaa/rlffdAsGU\n",
       "2tl7p6WMtEOGcVvsjk23ZINeVLJjbKM6WqzaFjDqLjLGiiOrAe3kzyZ4RzpLwZom9a8ItLMq4Xsp\n",
       "bN1r2/xk2IM07+RcDa3spLC2DbO49vB9L3hdngwhHN2cFpuAhNjp1/YnqFmQSoeMZhfHxak0+HvG\n",
       "+pwH4ix25lHDPHWz6TIvQ3mwesZyMG9qt1PJxw7dk9QazRoibEiCWA2i+7LDqzs5TCk+YMP5oguQ\n",
       "aTNc9hJ1xAAXzGxN0uqD8HewnqiDpAHcZ2IkC789I5WdkvqybFYY4CveBGv9jsggLJrsb9Jn6GkB\n",
       "/eUXrHGc7h4qXt+0qXTc6dZR5znizW4QEg7xu/5fFCh1Cy36tGGnLjvZMqFhdCUc0uIuiQKHliXF\n",
       "t06P+6zD5mgZNm8MOCRVNsdp+J+k7a+u/gtJyha8EVNJ2gAAAABJRU5ErkJggg==\n",
       "\" style=\"display:inline;vertical-align:middle;\" /></a></dd>"
      ],
      "text/plain": [
       "<IPython.core.display.HTML object>"
      ]
     },
     "metadata": {},
     "output_type": "display_data"
    },
    {
     "data": {
      "text/html": [
       "<dt><a class=\"ProveItLink\" href=\"../logic/sets/inclusion/_theory_nbs_/axioms.ipynb#proper_subset_def\">proveit.logic.sets.inclusion.proper_subset_def</a></dt><dd><a class=\"ProveItLink\" href=\"../logic/sets/inclusion/__pv_it/axioms/62d68349fdc6e5e10115b34eb80d97b83bd304d20/expr.ipynb\"><img src=\"data:image/png;base64,iVBORw0KGgoAAAANSUhEUgAAAWsAAAAWBAMAAAD0o6DgAAAAMFBMVEX///8AAAAAAAAAAAAAAAAA\n",
       "AAAAAAAAAAAAAAAAAAAAAAAAAAAAAAAAAAAAAAAAAAAv3aB7AAAAD3RSTlMAq1RmmUTNIjK7EInv\n",
       "3XZ/CtNrAAAACXBIWXMAAA7EAAAOxAGVKw4bAAAECUlEQVRIx9VXS2hTQRS9Sdp8XkzaghV1k4Ai\n",
       "iBWzKAURteIHSxcWBREVjYqItWDdCKL240Jwoe1CUERt3AhdVFI3XXRhLFT8G/xgFYPRLqQgbf3V\n",
       "H1rvfN6beTPvJaV044WTl7w7Z96dM3fuuwEoaM0cBSwwY7wATC2YIhMDROMMaEfdxpTmZ4r3vtAi\n",
       "kwC7QKCc3FzgMngJB9phzenr+lQx5yLA8AzxvGnhkwWm5h9HIRIC68nNA85RG0kGMuek7p7VCRBr\n",
       "A39qKryRXC435MgLs22B65JP0pjZMgwbGgXaibfTOeySBAP5GtMzqhW3eXct+GqnwDv9wZXXw2Nb\n",
       "K/nQtk7kIdRmZtKa7/hRLUDWbK5Xk5MDre9Wm6baary1Gue9X5xnvJTcCm+4kl0zsg+Cz05dblho\n",
       "cEHDx3+QOVMWfKiK3yW1F3HgfuTH2NJO9wl3DNGEYu4rzvM0gCsve4alU1L2gacZSl8NLuW8luhn\n",
       "kuAJgUe53AOXsOs5cK9hWUJT7R7ANSJ8b3GeTRg7z5v20zwqScs+iBLWk72cUuv9QjQvF9gIcIm6\n",
       "tJNF5WCSbIaOtKpa8OfoO+qtoU/NUSt35rWDGw/8zV6ay0RC4bMXz9J48DepQUmBIxCgzzLu0hFn\n",
       "vvbXmSf5KQeuFlrLVdWieEqqyLOq1OXqvCPuPFzRa3KNxGUftUrrjEPgE9mYjEAoFaYShj+zqpqF\n",
       "aIaPHuSA6Pl1sU5VtRAOC5OT0qGGrfMi7ry5AKP0HDfIPqqxVeBG1q35SfZiXMCbZxJue0wvHqxM\n",
       "4+rjbwCUZVXVylBH31/8stM1bItXknDjkfreY4Vt+UjSvTWTzsDS8oesIyMAyVV0tvweVrzi0JNQ\n",
       "NxuTL5JRVevAYZ5v+GWpmts6D/a78UjxLYmbSWL5iK0QOQLwhiRJVgBuNrKTu4G9C4ar55rDr3KU\n",
       "Jtjb1a7aGBaADlK1lqtq6zy4Vply5kXMl2EoL/toZTQZW3iT4OsUgBNUoW3wkQ5ZCcZsc3gvxwky\n",
       "63dVtSaM607KqnWSOfBgxxXzNWXn0a2+yKub8JEbpkQBsmFdzaxGmgAPLRz1/TE6HGNuNavcWYbu\n",
       "yUbwdk3QStZtqTZvsqLiIH2XvFDDduAJU3jzycc5ct6ysg+T7iFPOqNrIgWLJw/hzjQI8KqE0dLw\n",
       "B7AnMAtgpI1BNqGa1e9k1bCdeA69qMIbUvyVGuOkBCt9yuJGGgK/wHhutZi14NAoOTVOSms6LV61\n",
       "/WdQ7+/WSmBT3AZj0/7gANT87q8TjdUFjoJ2TL+l8VidGSrIC9l7zJC2XaRRNWHv1JXf3RwFzWFd\n",
       "0+IZ9miCGoGsy4TNtqvryzMU/OPm8NdueryWIuv8IMFmCfhP7B+IqWtlplTDXAAAAABJRU5ErkJg\n",
       "gg==\n",
       "\" style=\"display:inline;vertical-align:middle;\" /></a></dd>"
      ],
      "text/plain": [
       "<IPython.core.display.HTML object>"
      ]
     },
     "metadata": {},
     "output_type": "display_data"
    },
    {
     "data": {
      "text/html": [
       "<dt><a class=\"ProveItLink\" href=\"../logic/sets/inclusion/_theory_nbs_/axioms.ipynb#not_proper_subset_def\">proveit.logic.sets.inclusion.not_proper_subset_def</a></dt><dd><a class=\"ProveItLink\" href=\"../logic/sets/inclusion/__pv_it/axioms/7d2ab8ca139d19ea56c6739c6bcb2fc80d1d3ffc0/expr.ipynb\"><img src=\"data:image/png;base64,iVBORw0KGgoAAAANSUhEUgAAARkAAAAWCAMAAADD7xhEAAAAPFBMVEX///8AAAAAAAAAAAAAAAAA\n",
       "AAAAAAAAAAAAAAAAAAAAAAAAAAAAAAAAAAAAAAAAAAAAAAAAAAAAAAAAAAAo1xBWAAAAE3RSTlMA\n",
       "q1RmmUTNIjK7EInv3Xb341Cp3V2mrwAAAAlwSFlzAAAOxAAADsQBlSsOGwAAAzZJREFUWMPlWMmC\n",
       "2yAMNavZpy3//6+1wSQIkMFNbtVhXjLY6KGdbNsHsjf44Tb//uCXCHzpPNsWKMS8qxw+yw2+jwjP\n",
       "9N0vIATupBCASF7rlD3bj1qIWWQcPas0+Mp0jOQQqVU6GXuib7IwJtAIQgAgF68tnwWRkRAvlnFI\n",
       "LBOoxGVTkZgWpFnXN1lACHQyJlCjKkGz62chwxnE6xuJAwMr0mZ2zIErIk8u5Ov6JgtjAn1pGRMA\n",
       "WMxk6TPLuAbzJruNMDyC9t7//PIe/JtdT7GLoDPL+u4XEAKnLBGokV0mf1i4qISYPRG2EGsLK2kP\n",
       "D4o2ZI4gvpS67GDJVvXdLyAEesEIAHTJos4+TCYLMX8587w6pPH7uILlLDekONKSVX33CwgBrMz0\n",
       "BADytKireF6oh52RU9Ie3lKxYkpSee9DRkUdQiDvd9nb8dxXQjp9KJEbAoPChxEAuJPypxjGqbrf\n",
       "Rm4t75qLpxAvjx2lrdpJIk0v5CpJXWFG3cwTl57KbnyZwGACwghAPMPFVsa1IFOZT1u11J2AmGod\n",
       "50dr0E1LEn3j0a5oUsWH0wLcer/4ck5gNEVgBCDSAIwrlKuHUpLbWpxaxuS3om/ID+ak4tbSGTbh\n",
       "vmAZjMBAUAINyo1VtgibrDd0NFUyNs2mEt3VIU+OlA+ynJUOcR2L+lmd8RSxzJTAsMxgBBq0tBpC\n",
       "DxtxCUYixjhRXTwGiJtg/XR+DmGD+fbK8oOgfE3rs5jR7eVq54sE8DIzINDg7kiVS7CopDJjSOf4\n",
       "ts3t5R1dz6BSDELmGCKuiH1ZjU9nBrSvzwgM+xlKoMUqJI5GZEk0TZnZY6tB+RrNcUNLWuj54X1M\n",
       "o93vNmbI6zb3ThAvZpZR/nYBJ0DEEwIt1kUm2UHBMnNcL7p0KjOSV7ej6x+rB8N5mxl+PkChG9wT\n",
       "2MQTAi1W2+S8PNu2sdlIJhXgPifaSxgyh61MjfhtcaBvfeGD63FHiKeCY3g80lOd0cJktOecN7pt\n",
       "6h3ikPXSnWPtmo/q0R//BlcItIhmwuQHEw1xGOnmozMP9a0vLEvr5AkhMTvVHiCOyuPSr5iLPkf1\n",
       "7OEzwxQCLaKZsP3X8hf5WiEujFvRCQAAAABJRU5ErkJggg==\n",
       "\" style=\"display:inline;vertical-align:middle;\" /></a></dd>"
      ],
      "text/plain": [
       "<IPython.core.display.HTML object>"
      ]
     },
     "metadata": {},
     "output_type": "display_data"
    },
    {
     "data": {
      "text/html": [
       "<dt><a class=\"ProveItLink\" href=\"../logic/sets/unification/_theory_nbs_/axioms.ipynb#union_def\">proveit.logic.sets.unification.union_def</a></dt><dd><a class=\"ProveItLink\" href=\"../logic/sets/unification/__pv_it/axioms/3e9689977a829a27bd7a6590ed239898acafcfc40/expr.ipynb\"><img src=\"data:image/png;base64,iVBORw0KGgoAAAANSUhEUgAAAoUAAAAzBAMAAAATC2+mAAAAMFBMVEX///8AAAAAAAAAAAAAAAAA\n",
       "AAAAAAAAAAAAAAAAAAAAAAAAAAAAAAAAAAAAAAAAAAAv3aB7AAAAD3RSTlMAq1RmmUTNIjK7EInv\n",
       "3XZ/CtNrAAAACXBIWXMAAA7EAAAOxAGVKw4bAAAJuUlEQVR42u1bb4wbRxV/t97z7q3jzUoIiVZV\n",
       "ehIlEkqjHBACQdC4+QOIpK0bJKAQETcITiqCOF8ihbSNi/gA9JL6S5UeUlKjRhF3gcTJByQa0TpU\n",
       "VQMVxaR/FBAnfE2huqgcgUASguCYfzs7MzuzXtcOK536pNnzvHuzs/vbeTNv3m8XIJVMT0/DO6IR\n",
       "b3q6kdL0jwv/GFi3I7XFAN4UhW5kYaGessWrA+z9XYtiALq/Zz9yGWA41JTrVa2Vc6Pu3RnUyVdm\n",
       "iOEaueqPaq1epzdcMQBR6RG4yH64Q0vfUggyw9B5Qa6v0FpZdLDmL+lPYtKbRLS/wErf8nJmGBbl\n",
       "MeDpR9RR+mdVdO/kSo9Asl5YuMjJS3F7yDdo6Vtub2SF4cflqj2mtdpA/9x5lWva+LALkvXCoyJj\n",
       "PojbQ65ES9+SL2WF4YtydYk8OR6aeY38aNEpZ+81LVYmvQlD0R7gV6z0K8NXM8LQvy7Xl0tX9U3m\n",
       "Yxb18If9v2uxMulNGIr2AF9hpW+5PyMMi4Fc34zK8dkfnSar8+5wmrLpklKyLmuxMulNGIr2ACdZ\n",
       "6VtWNbLB8DFlk4IHRMlfZhMoxvlUQ2bJ4VH33zqsTHoThpI9Da5IgGXPEAne7r2c6GSD4S1K/Ry6\n",
       "iGru+hABja/RRTIsbXD+hhbXNSpWVH/s5M0pMaT20XrKSv+b1nY2GJ5R6s+jXRPYFDz312hU/I6s\n",
       "NGV8nNt4578ADvxFxZDqS3BXSgypfeQKrPQtuauZYOhejmOIIKMxo8evhmDoIe1/+KaKYPUIRPp/\n",
       "wr6apI9j6AaCPZdtrPSfs7mcCYb+1bgvA2yveg2OE/dlG5U/cAwP4sMdEOk/RjGM9LKf4W14riPY\n",
       "r/7ofHDhCXa+lYOYD6lT/d8xHGkpisMAU+VboEAq89wM3/xnUdnJMbwP++YDIOjh57JeDt7qfJ2n\n",
       "9t6Hn0P3PIt+r2WlfzmUCYZL1A5RkLHq+1tgK12OR4X9vIPhfrIaYmjtAO8TeOBxPc0+cf0JNKl6\n",
       "V4AdYPkoPHUeInvneAWukVAqLP3LswxDMpLfmwLDdIbdwgF1k7UfbXbnrQ0UPO+mL7Jpsw3ek1ca\n",
       "8P6Fr/Mk095vfO0ituH6PQ1RD0V86lcgPDg/fY1E7Nx+qOO2yNTx6sDGxLoyxXCTFJglYJjOsFt4\n",
       "qGadilK8OPwzttc7r0nUqQmgklPtyQVqft25VAMHzbpOezDBbodiiJc0p54Cw3SG3UJ7NVto2P2v\n",
       "7o7hnu9+p6fsyz40EnP1EslyGDIdb8urEIY4DVQYTYFhOsNuo7+mag7q155oiO3d+YzW5DcLCz11\n",
       "fS/kq86yBuzB+A9mdl8aUAxz6JHk06wp6Qy7yF9j7jelD73qcKPkoPHB9Y5hna3LaHPwYqp1OZVh\n",
       "t5Us5n5OR2v48I2C0K/SMpAoo8Iw/DTAD7QWBQVD1VCEw9N3EkPsngYsIim2GYa7onSvLLaCoWLo\n",
       "nRUqP65pPfKsqrkVFhWGLYbhSKNQlv/10OZy7kwcQ8WwIOY1n9UuNpLJYsbQ6ogrhTs7WbaCp+Ez\n",
       "cQxlQ/jCS0JcN6Gd1USTRe3LUBF37BuRU1p32NAsbLxr4yZ5r0cM5z/1Bp2RO/cLE3VeOx2IJmy8\n",
       "xmfzKph4emHhSaHp1UC6gDQ2VfOaAqfQjj234cCsv7YGPg4+rW9/vtOMj0Ni6FdvortaHz4pgMUy\n",
       "gMoSKJqw2CY2b2KO3jeFnSG3HifVX4eem5gW6m6dY/kyKwqGQYjhg+jXU9vGlgR+QKM1q/b0+3QY\n",
       "YsMcHHapn8JbfMs6XPNbsPWNsurK2KRbjL0CTDw9CNy6SqpbzZ6bmKR75xjoMVqU+LAUYjiE7utb\n",
       "f4alNbtJ8kQIQ9uvazAcIgCwDODm07c23JUUQ/v0yevQ8tSXD7CJutdTccYcvYGnB4Fbp6Q6Sf4f\n",
       "wIejkK7JED648SEZ6VN0juUBVuS9XlPKfS2DCZz5XDM5OTlq1bxmJR4fskWn5VA/xSnQIsWoA841\n",
       "qLot1ZWRSW79hzatiAbfY+qzTN69cm6dbqvJxI3TqCGH37UJycJqXtaL9Ck6Dzfwq005ByZnYQ72\n",
       "ufAoHYewtWPIHz5YqNhwjCQ2l45iDL0mDKPLQFHMSBlXjtFDaGLNwfOC4y1VUwxLwMjTS9w6IdWL\n",
       "fJaSH9fczEzF0ASvnLs1AHF9ms6xWYOWeAaFY+hcQiNxrY1iQKwtgx8YMLT/9MxFmBi1z4B3z1cx\n",
       "hu4vYEsAR66U8T4GVSaq7gvowE2e8Cp2NGsXVc9ZDiaeHiRunZDqOOVBTmZJp/ncRTA2OYXKeg2G\n",
       "XJ+mc6BsbX5Mt/vnGA4HMA67LoKDPWX/OMu46nyZSAgK9mUrfG6NTlSJTNpWs5iL5qGWOmeCiacH\n",
       "iVs/Ga6UhGzCHL43f/Ojp4hWnKfUJrtBoGkE4fo0nQPNrBcC3Y4hzgUcm5wsG3IOwuNiXblvoZtg\n",
       "qWfYudCOKtzEC/zy0JvRPKS8KsJf3Ijz9DK3Tknm9zDOBY8IG2Y7hB3NVxOaoHXQ10U5XJ+mc3zh\n",
       "FVok+aUew4S8jXBCsTKmreT053HV3d85MPH0MkdPSfVHAAiJgnm/j8C6BnktOQ9qE0rfkyZuEC58\n",
       "yoWE+uTOo2CqRYsUQP63Dwz7EA1Hb+DpZY6ekur5qkUWJcw/18IIfgITnHWxCaXvaZNxuE17IaE+\n",
       "ufMI80u0SEMpG44etugx1PD0Mke/jYXW1HHpexAvxbK4En2/jYXQ44bQepxfQELn3LVbtEjzQUbv\n",
       "imwva31Zw9PLHD0jVdrfg9CX8ft/02HEIzeh9D1tUnT19xjqkzvnxL7VpkXapnSywbCoBIiHwcTT\n",
       "yxw9I9UvvJv8GemA9zha40ngKawZEn1Pm/gfKOu3yUyf2HlE7GOkVLTWNbLBUF2Y2cuAGp5e5ugZ\n",
       "qf6TShhpWNeOtIap7Q5QmxD6njbxWMzMKfwTFUmf2HlE7ONoylY26b+FbDBU3yXeDwaeXuHo2QWw\n",
       "cB1z+Hd3bvsgVf7w8YbShORCWJP1ggO8InjCen4BCZ1zYr9YpkWcIrN6l5g5QOTbNSNPHwrGUCXV\n",
       "z0u1Lx2akUI3Qt+n5OGTOw+JfXgIaBFkJMgKw7zsECne0l+pyQysTmxB6PuUPHxy5yGxT5IcSqJj\n",
       "eyMrDF3lG5+udC/h6FVSfSQx+Uzo+7Q8fGLnIbGPX/BQX/I4B1lhCHNydQpMPH3Sjabg8NPy8FNp\n",
       "jPAzU55bht+aqd88Oh0jTy8EIrFh15XDT83Dd+0cy5usiNki6BHDlwf4DfgOWAzi0myRN308LYbv\n",
       "fAOuylG6ouBvwP8HiSxFN+WcdTsAAAAASUVORK5CYII=\n",
       "\" style=\"display:inline;vertical-align:middle;\" /></a></dd>"
      ],
      "text/plain": [
       "<IPython.core.display.HTML object>"
      ]
     },
     "metadata": {},
     "output_type": "display_data"
    },
    {
     "data": {
      "text/html": [
       "<dt><a class=\"ProveItLink\" href=\"../logic/sets/unification/_theory_nbs_/axioms.ipynb#union_all_def\">proveit.logic.sets.unification.union_all_def</a></dt><dd><a class=\"ProveItLink\" href=\"../logic/sets/unification/__pv_it/axioms/953b5a6fe496f5c98bee946e83edeb34298130860/expr.ipynb\"><img src=\"data:image/png;base64,iVBORw0KGgoAAAANSUhEUgAAA5gAAABABAMAAACNY8VRAAAAMFBMVEX///8AAAAAAAAAAAAAAAAA\n",
       "AAAAAAAAAAAAAAAAAAAAAAAAAAAAAAAAAAAAAAAAAAAv3aB7AAAAD3RSTlMAq1RmmUTNIjK7EInv\n",
       "3XZ/CtNrAAAACXBIWXMAAA7EAAAOxAGVKw4bAAAQW0lEQVR42u2de4xcVR3HfzvvubM7O0SiloY6\n",
       "hqqN0O6ILaLBdknLwwewgkVpCTvCH4Qq9BpJDVjYkRgjYWkXoZYlArdVMVjsrgUxUGw3JVoCgS4K\n",
       "iCQLU9oAtbjd0uI+oB3P75xzz+M+Z5kus132JLO99/5+95x77+fcc87vzPlOASZTiuW9jrZUDsFH\n",
       "PsUqFQsesGrNJl6pHJmgCyw7Dpzt6fbpaZSYGi1IveI6aqxg/yYqlXeqgfnu0u9OzOW94diPFqdh\n",
       "BsKEL7gP72P/pJYurQrm0ARdXXzYcaDTmoYZDDPt7ofSvfbWjnrCfKjgOPB9mIYZDNN42t3O7pgU\n",
       "MM917EfGpmGGwPQaVZxmTQKYqRHHgabeaZhhMDtM1/Gm1kkAM5FzHFhrTcMMg5l2V/jI8CSA2eKs\n",
       "ZDPAF2aScU4dxyySNZxrCpjRPrf1mkkA89/OA4f8YfIWuOU4hvl6DedeIWAmPeKPllLdYaacl5Ua\n",
       "DoDJ+oUW6zgjmL1/dEY3DScivbVkU7Bhwgse7W9r3WE2OLONDk09mNDcBcmDuPFATdmsEDDPdRtj\n",
       "Q3WH2dPqpFucgjDXlgHuxy5vcU3ZzBcwD3gAOlR3mItKztbCMbrdNzBQPO5hHiB3uRJh9tU8kmUw\n",
       "W0pu69/rDvN+V4uk9yqX/mcqvJkryVhgFLvMYm1hXMGGuTbvtl5k1hvmqAsm9vLG4Em3baEj+RVT\n",
       "opkld3kTtjgxUlM3LwZDtj7G3gJsCDpVdc/kbJg9BY/hbKHOMOPvOY90YJ2Lwe7yBbQumlMBZnx0\n",
       "8E/n269W72nqIC8T6YNFQeeq7tGiDbO57PbsyNUZZuxd11gBYX4JFlkfo3c/JQZAmWHYcA9uNOUh\n",
       "lb8AGrqE6ZZYv+80CY3UVHcC3obpEeI09tUZZsI1q97eRv6U7LF35wBJXcc7zAR5zLQJamwDA56D\n",
       "xrJxBjdZjWV4zth6gt8tMXeb7JCA2ep2TY/VGWZzv+ebCeQWaHpwSryZzTkwDnKYEB+DtaU1/xWV\n",
       "10qNxCDW7/vc0d3e7guCmX2nzjA7urxhxofhD7Rd8oEZMf1mSXiDFGKXydcTgL8QMe3g56q+N9mt\n",
       "tRcgcpg3sxArwtsAc23buZDta25Ljvh2RNSdX2t/UJ/JiqgjzBZXDesgYwRjXUMf0F4hW/aGucB1\n",
       "edv2vEU3mEuYXaYF4OvKKab58f2D55ExSFv14wEZNFiQOUr6DkiT20nn4A4Gk2K5gxyIWgSm4c4B\n",
       "Haj7/DMH8bqjXQKmx2g2NVpnmAdcNayHHImM/LYvzprbKz1gLlLH9gBrZqwDmEc7FJKW054mxK70\n",
       "Sdoche4a71VhXmrCajM4jHA8MXuQktxlQfQo3hDGFrEcztUQmMb/0Hg2vreQ6YeeIj+EG3IP3Y0F\n",
       "T8JOHtkwmB0ecaZxhMOkt3RKGMxwr/Gmi1wXhfPFxoXl2aez3Q3rLAkzzRrlJyCmvB8xOujv41cH\n",
       "CfQPsytW9U1zuMIKBSY2cbEuOGccN2fHyFu3Pkya0z348pBMjJl7h9mbOYCXsmEbBvu3W9CEa+5w\n",
       "Ap1WWfoHHdA9ubkIOLppahOTBl4NRIXDpNd4dRjMcK9xTwC5pqUSjl50+b1yOi/KxmvPY1ca3w0N\n",
       "dG8P/XuIf90HmTzragPtMhHPK3I2PIcrbFFgdpTolwD9MmNQN2WS2W1x3+/L9BKKDGaE1atHybuL\n",
       "gcvn3b2gxd0byjj2gZtATOd5jQFfsxjMn2Jr0BUGM9xr3PNcruFHzG/6ksA06PRjZgRWAWxutjpp\n",
       "48Ku58Ao70UiWKXD7DKtAqM8lmJlOl1htgLz41hyX7IoMgZQN2VjJ7Ljp2tpPrJ7KM9gZigpXIp1\n",
       "PfwYwB06ZoC7N5ZirSU2Tc9g/tX/Ye6gjU8mHwYz3Gu8aZerhkXH/GFCO5JYVIbLAG6cC/vgBgvi\n",
       "7Mkbsw+y+h1HItwen3eOar94bxu3y3QZJDf2Z9kxxdU2SpjPYKuRI2fbBYMsQ00yO366Hgua8CrM\n",
       "BAZzM7YM5YZeSN79i6+TWuCeyiMf6t4BTbeU2HvUyIdNXs1cG4MZLWizLT4ww73GmyrubvydAJjR\n",
       "989MfvYw254Js1Jzycjimu7uX+JQsB1uwV4n1QXC3gg9qr3PGOJ2LdeG3gb2HBVXlm5VYD6JPZUZ\n",
       "yYmCQZahJZEdP12/uy44BavUT1ZuY7FLZCGpC42VypA7aGIO1P1bkH2Y1gQbpudyjE/l+Wj22YGB\n",
       "Z8JHs6FetcOEuwJgwg2VypESe0wvwlPQZEGKtk4XExPAK3Yzyu1J6FTtJrZ/jmb2VhxWNJbmX3Iq\n",
       "qK50X2tm74Jl8E9aFXjBIMvQe2E7O69mFm6u4WG9CTbM+HAgTDKOuyccZqjXMYB5VhBM2Hi6yecS\n",
       "XiZXhM/0HjbAh08wmNmy0SvssE6zp9u4fRPYf4hnU6kd5nXhKdKV7Q8qMFf/aPPPScPULwveJMrQ\n",
       "cxTZDU5EMEdhZoqeoUGBw/whJHNec/Y6TO61fHBhyRlh60NQ6cCDbexCDj8y09nqeMDsaQuCKboe\n",
       "mP3lIn2mN2BJ5y/ZajKYaTO1Q9hjJc1+vm3vNFM78Q/1jCz+FTSUVoHqyvbXKzCTZ+8+KUkP2QV3\n",
       "5u0ytBxldusnDGZjPhBm2sqoDzH5wp/hrJw6X0JhMq9IGdbah0WErQ2pFQcebOM70w8Jx/yL8b7H\n",
       "VwzFcJgkHjfMdIE+U+Ox7nX88CtsNjci7I9nVXvGKnO7uFD0/D3cSV7QPctUV7rPR7f2DFC8dTPO\n",
       "OYiCIS/KUHMU2RldEwbzbU/T9jKHGSkntHmQT2esmOWCybwaQYZXMsJWC1QceLCNI4NWSBfDYZIe\n",
       "KRQmnEdCr0sh9bYWyq15Jo8W0rlxe0JXIa6s9Nt2nqjnrHgRNsCp2gQZ3Y+ZGszkQVJZYqYoOG6J\n",
       "MtQcRXYxc8Jg7giGCcWF2jzIKeXWDLhgMq/mglzLKyNs9VsCxYEH26xtuBzbsezem88LgnlGFTAz\n",
       "Vnyh56pFnDsthNt5op6X7Pd5bgv0uVm4Ftuux0XGURCbao4iuwUwUTCzxRCYW1aQy1u8Zi+fB5nz\n",
       "mZsz8MiSF5a0aTDRC7KVO+Xk6qjHlK/qwIJtinXPXur7ZkPXlQEDIPp1fBhMsHzu1ajSHp6TsCRD\n",
       "Mgg5fQJgrvZ+50WfCatJa/mbywuNJmvq52Q2Lvd4M1fTNnXjRTkeNstgXEvowBMLtnHrq/AgrciF\n",
       "dLkUBNP4VxUwP7KJwDT+ASEwG8gDvvENaLbYPMgcaN3nARO9SJWLD/GwWQbjep2U37GwYBu3ToQI\n",
       "O9psBoUmAKs86/T0bxoA/02DtHfTJeNMlmbB5XweZA5sSnjApFt5nFhiYbMMxtWxJjpEzzm9Vwbb\n",
       "rBTW3JIoW9Dc5XVRydI0taD0O6gK5lOwJMXmQeZAfJ47zmS1IwcNJsIkEbIIxjcpkTN1iOwjATbZ\n",
       "ZcE22UiOQUP/d4zeZN+jso68FtSxnDxgTpPzSdkBd1vLvoKyYSaH4OU5bB6EDMV2u2eAGMyffeMv\n",
       "QGfSdshgvDPPgmbyJ88cPpksogcLtsnGvves1HVlsnHh8kFLL98nFaeZBaQvuo68Zqow4znYX6Dz\n",
       "IKmXTMdXdc6VBtjMRpRgXM5J8K3+7AKLetBgOyKjaq3PbpuKMJM12oOSyT8eMHcBuGJQZUrFHyYN\n",
       "m5fJYDwuXja+ZeQiDzMPGmwvU+J0JR0oTEWYr9doD0pX8I8HzPc9YHonrzVAComox5btca0aqOv0\n",
       "FvUGw7xgYGDgb8cbSx8R5r7KHWRkCcdApEmFmi6YySM1waw9tefC38zXjzeYfiLMUS4hqF2kucIL\n",
       "ZvxgnWH2FKcgTB8RZuooGfcPw7EQac73ghk9WmeYTUNTEKYWdWfvHXiJb40AJIbhWIk0XTBjI3WG\n",
       "GRueejA1EWb8OjEyTJAnuLbrmIg08eOCmRiqM8zooakHE5cqC4GpMjWJP2zwPHwgkabqgAup8eOC\n",
       "yXU79YOZPOw4gMPXgYHnHTB9BSFl/jKE2GUKkIpw31btLat+DqqsvjpCYKqsMm6/b/+JJfhAIk3V\n",
       "IVpkHxfMtb11hgnPBr+ZcwnZHQHSEa7nCLPLlsA9SSGWuHBfvj4gu22vOa7vJEVRqA4SAlOlSd1u\n",
       "GjMsUESaQtdHRZoBuj5NxYkiTfy4YB4o1RvmdquKZtZfOsL0HGF2mbTGLLW7u01Z4sJ9+RraqyG5\n",
       "06FECXlAdlGo27MFpqlnSW3kv1v1A66RFSJNoeujIs0gXR91sK96iH1cMH8N9YbZUa4CZoB0hOo5\n",
       "wuwyaQuWl2BVVpa4rFBg4iLlr+lKlGoCQBumLTBV1wGRMLAnB4pIU+r6UKQZpOujDjaIPvZxwjQO\n",
       "1h1molhFn6kKQhx6EDrKCLPL1K940nkUdYnLFgmTPtdFmmZFVZEoj0WatyjNrBCYypcNtV9Uwegj\n",
       "0qS6Pr9EHeg6ELqoCj9OmNGRusOMDlfxZiqCEKcehC40DrPL8VZR0YIwVbayxGW2hEl/WuoJVbOi\n",
       "qUhkUuQmdlHpsiIwlWtnY2O4SiflFGnSZSgo0qS6Po+1JsKBrgNhIk38OGEm+usO03ivCphcEIJa\n",
       "Eqe0hOo5uB2XrzilJbreI96laEEuYcfkEpfLJMxGJPE9VdMCsgw1UbN6Oo0bpMA0kbc9V4+hTOZi\n",
       "h0iTzYExkebtlhRo6kpN6kDXgbDIBj9OmB2FusOEbwbCZBPtXBCCWhKntITqObgdl684pSW63gOl\n",
       "IkILckZ3d3deXeJyqwKzQH+SUdG0gCxDS8SsnU5FmFJgaszgXxNltm4tQOy6glOkSWWZVKRJKydK\n",
       "Mqk2Uyo1hQOuA2EiTfw4YW6H+sPsKYe9mUIQgoucndKS2Yodl684pSV6M4tSEaEFuY3elrLERWlm\n",
       "061xq6mgalpAlqElYtZOBy7CFM/tMXs6DzS7LdLkssxHua4v4m5nhQOuA2EizZvcc7PG0UkAM9sX\n",
       "DpMLQig9h7RkUBGMUC2JQ1oyqCxn2UTHI0ILksbnJpe42P0bGwDt/MpbV2maFq4iwUy1HIlZO51P\n",
       "g4dMlUuRJnatVKRJdX1UkulIwoGuA6HT9IvdMEVcU9cf3H81HCYXhFB6DmnJepCCEaolcUhL1itC\n",
       "kM48yj+EFiR5N9hrYHCJi60NYR3q9bNOsExV08JVJJipliOa1dOBS+8Cki3SpLo+lGVSkSbV9VFJ\n",
       "puOVsx3YOhAUaVKhpgNmR9tkgNluhsLkghBKT5eW4OBVCEbo8hVdWsLsdsrjz1NIacmm7m7+BOgS\n",
       "Fz4QtiPDb5OnqGpaIrIMJUdqVk93BJeegz4u0mQtE3CRps/8o9MBawqtLQ6YJ8BkgJkphsLkghCq\n",
       "JVGmesgu6jmEYIRqSWTCXW7nt2Dhvoe0hC1x4doQm0THyZamaVkmy1ByRLN2OqYwEWatIk0q1NRh\n",
       "Rp+eFDDhvnCYvoIQnDsthNv5DZPP4xAmLbFhJl4ETbOiqEiUHKWkZQF8uEmHubo0LpgT9h+7/bHk\n",
       "Y7hWrpv1m8G1qrTrIXigrxmcQdjpH1LKDjyp7V/Fa2B1/7GbsXSi/mO36QXsx2DuhXfBqaVLl/0f\n",
       "4BEDy4U2YqgAAAAASUVORK5CYII=\n",
       "\" style=\"display:inline;vertical-align:middle;\" /></a></dd>"
      ],
      "text/plain": [
       "<IPython.core.display.HTML object>"
      ]
     },
     "metadata": {},
     "output_type": "display_data"
    },
    {
     "data": {
      "text/html": [
       "<dt><a class=\"ProveItLink\" href=\"../logic/sets/intersection/_theory_nbs_/axioms.ipynb#intersection_def\">proveit.logic.sets.intersection.intersection_def</a></dt><dd><a class=\"ProveItLink\" href=\"../logic/sets/intersection/__pv_it/axioms/ed6964e06badac9deec83590822e4338cc88630c0/expr.ipynb\"><img src=\"data:image/png;base64,iVBORw0KGgoAAAANSUhEUgAAAoUAAAAzBAMAAAATC2+mAAAAMFBMVEX///8AAAAAAAAAAAAAAAAA\n",
       "AAAAAAAAAAAAAAAAAAAAAAAAAAAAAAAAAAAAAAAAAAAv3aB7AAAAD3RSTlMAq1RmmUTNIjK7EInv\n",
       "3XZ/CtNrAAAACXBIWXMAAA7EAAAOxAGVKw4bAAAJp0lEQVR42u1bfYzcRhV/5/Wuvd6ssxICtVWV\n",
       "nkSphMIpVwiBQ6jZ5qMgkrRLkAqCiGyLUESQyOafSqEf2aIIAb0k9wdVc0hJjYiq3oUmm/xHo7Yb\n",
       "UNVARVlSWhXEga8pRBeVIxDIhSA4PF/2zHjsne1usHTqk96e590bj/3zfLx5PxtAS6anp+FdUYgz\n",
       "Pe1puv5x8R8Da7bYXArgTRHoiouLE5o1Xhtg6+9ZEh3Q/h09yGWA4VBLLDeUXtb1undrUCcfyRDD\n",
       "NWLRHVZ6vUluuJ4ARL1H4CL/vE+0bylVMsPQekksr1R6GaSzFi6pT5JkTxLe/zzVvuXVzDAsi33A\n",
       "Ufeop8ifVdy95973/Ro7TrLzcvvXNoLKv+AR7Vs+5GWF4SfFojmq9FpP/ty5EM3hf2g8fRe79SQ7\n",
       "J/svOPt2QtwfclWifUuhmhWGL4vFZeLkeHjmdXzQJlPOg1fDf307wMmioCTZ+WUTmR7w4v4Av6Da\n",
       "r+QXMsLQvSaWbxOu6hv0pg0ywh9x/x7+7wb0cwek2vnVHwWhOT/uD/AVqn3LfRlhWK6I5U2BHp99\n",
       "+jRenVm/AZMsKVXjcujYQT/7INXOt4M7YzXuD3CSat+yyssGw4PSJgV1iKq7wsRQ7AinGjxL5oft\n",
       "f4tY7YY0ewxDqxL3J8EVDrDMGSyVd3ovJ/xsMLxZKp8LLqKRuzaEQQvX6DLuliZYfwtW7jUyVsR+\n",
       "7ORNmhgS/2g9pdr/prWTDYZnpPKLwYgDk4Bn/zLoFb/FKw2OVuY23PkvgAN/kTEk9ips0cSQ+EdD\n",
       "gWrfklvIBEP7chzDADIy9zvh1WAMncD6n3BTFWFF7f+EvU0tDNl5mGyj2n/O5nImGLoL8bEMsL3h\n",
       "eCFO4Vg2A/29AkNq/4QuhtR/9cfnK+cP0fONDGI+JIPq/45hsS0ZjgBM1W6GEi7Mh26oY34u0F0K\n",
       "DJkdntMby8Tf+ejPgnueDY7HqPYvhzPBcJncYBBkrPreZthKluNhbj9vIbifbMQwDO0k+xTaTwST\n",
       "qnMF6E+EIfW3jtfhKg6lmPYvL1AM8aN6vwaGeo7dwgF5k7Uf4Oi8sZ6A59z4RTptdsB58ooHH1z8\n",
       "OsMQg38UOPsej7dDGZ36N0B/ivh8Vc5/yLfbeOp4bWB9Ym2NYLhRCMxSMNRz7BYeylmnshAv5n9C\n",
       "93pvKBJ1cgKoajV6GgJNd8K61AQr6LlWZzDBrk8wfBRdzoQGhnqO3UJ7OVuYsPtf3R3DPd/Z11P2\n",
       "ZW/QE3MTVZzlSMh0vKNRFWCI0kClYQ0M9Ry79f6mbHlCvfZEXezBXc8rXX61uNhT05+FQsNa4cEe\n",
       "hP9gZvflFYJhLngkBZ01Rc+xi/w1Nvym1KHXBFwveSLxwfWO4QRdl4PNwcta67KWY7eVLDb8LF/p\n",
       "+Mj1gtBtEB1IlFGnGH4a4AdKj5KEoezIw+GoG4khdo8HS0jKHYrhbratlMWUMJQcnbNc4cdN5Yg8\n",
       "K1tugSWFYZtiWPRKEh/x8KZa7kwcQ8mxxOc1X1AuNoLLUsbQ8PmVwp6drBmVZ+EzcQxFR/jCK1xc\n",
       "N66c1XiXJT2Woc5n0jcEg9K4w4RWacOWDRvFvR52nP/UW2RG9u/jJuqCcjrgXWh/jc/mDUji6bmF\n",
       "R8PSq4NwATo+jeQ1BU7tDA7WH5h1x5rgouDT+Nbn/Va8H2JHt3Ej2dW6cBcHFs0ASksg70Jjm9i8\n",
       "iTh6NynsZNx6nFR/E3qukrRQd2scyZepShhWGIYPBUc/2ja6rOJWSLRmNJ/9gApD5JiDIzYZp/A2\n",
       "27JCvum2YetbMs2LXbrF2CshiacHjluXSXWj1XOVJOneOAJ6lKgUH1YZhogC++afYXnTbOE8UYCh\n",
       "6U4oMMRcGdAM4KbTt3j2CMHQPH3yGrQd+eUD5CLv9WScEUefwNMDx60zUp1tlJ4C7SqnEhxPRRfQ\n",
       "5UxIdlIV93otIfe1AsZR5nPN5OTksNF0WvV4fEgXnbZFxilKgZbJdfpgXYWG3ZaHcuCSW/eRjSuj\n",
       "zndQfpbpu9eQW2fb6mfoHa8H3SrO62o/ZtdonG3gVyflHKichTnYa8NjpB/CVj8hf/hQqW7CMZzY\n",
       "XD6MMHRakA8uI4hiijVUOEZ+mIsxBy9yA2+5nGJYBok8vcCtU1L9/HvJX/Fxzc3M1JOquLfX1NMg\n",
       "tes0jtw8ovEMSoihdSnoiWNmEAMiaw3cSgKG5p+evwjjw+YZcO75KsLQ/ilsrsDRKzW0jwkK4w37\n",
       "peAndDnk1M1o1i7LI+c2SOLpQeDWKane+S6ZDoXT3HsRkquUbfXWm9l1GgfC1hZGVbv/EMN8BXbA\n",
       "7otgIcJh/w6acVWNZSwMFDSWDfbcPD8qRC4do1XOhdahtjxnQhJPDwK3fpIuJQUcYSAO35m/6TE8\n",
       "pwlvisSqrEzIeTK7TuNAMuulimrHEOcCjk1O1hJyDtzjok3Zbwc3QVPPsGuxExVCF6fi1oYuROlC\n",
       "6VWR8MWNOE8vcuuEZC40jCrrFSbM+luIMa3KDrhViSGz6zSOLrxOVJCfqzFMydtwJ+QLo8pCTn0e\n",
       "W979nYMknl7k6Amp/igAJlEQ7/cxWOvh15ILIFch9D2uYlfYwiddCLOnNx4FU22iQgD53z4w7EMU\n",
       "HH0CTy9y9IRUv4Fyf4h/brIIfhwRnBN8FULfH6TxmKuKtkN7euMR5peICl0pG44eNqsxVPD0Ike/\n",
       "jcVyzzAMAV6JZXEF+n4bDSQdFXkS2rs0Hg7tNlHhOWT0rsj2mnIsK3h6kaMfYRE2XuQxh59fAPzR\n",
       "TBnkKoS+H2GR9LqECHsddG08JPaNDlFhm+Jng2FZChCPQBJPL3L0YwwtvIst+uA8HqzxOPDkxqpA\n",
       "348xVB5QXEdoT208IvYRUjJaa71sMJQXZvoyoIKnFzl6TKrjBNMhEmkYV4+288T3fpCrYPoeVcFv\n",
       "ceKPikIK/0RdsKc2HhH7KJoypU36ryEbDOV3ifdDAk8vcfT4AvDLcgeAcPh3+7d+mJzjh497UhWc\n",
       "C0FVhtCB7QNH4eODyJ7eeEjsl2tE+Skyq3eJ6QCIxnYzkadngjCUSfU3hNKXDs8IoRum7zV5+PTG\n",
       "GbEPDwNRToqVrDAsiANC4y39EUVmYHVqDUzfa/Lw6Y0zYh8nOaREx3YvKwxt6RufrnQv5uhlUr2Y\n",
       "mnzG9L0uD5/aOCP20Qse8kse5yArDGFOLE5BEk+fdqMaHL4uDz+l44SemfTcMvzWTP7m0fITeXou\n",
       "JRXrdl05fG0evmvjSC5Q5bNF0COGrw7wG/D7YSmITbJFzvRxXQzf/QY8tlkkKwr6Bvx/WQZH0cuB\n",
       "EIkAAAAASUVORK5CYII=\n",
       "\" style=\"display:inline;vertical-align:middle;\" /></a></dd>"
      ],
      "text/plain": [
       "<IPython.core.display.HTML object>"
      ]
     },
     "metadata": {},
     "output_type": "display_data"
    },
    {
     "data": {
      "text/html": [
       "<dt><a class=\"ProveItLink\" href=\"../logic/sets/intersection/_theory_nbs_/axioms.ipynb#intersect_all_def\">proveit.logic.sets.intersection.intersect_all_def</a></dt><dd><a class=\"ProveItLink\" href=\"../logic/sets/intersection/__pv_it/axioms/8bf16903d293588df5fd8a4b0df464c872d0a01f0/expr.ipynb\"><img src=\"data:image/png;base64,iVBORw0KGgoAAAANSUhEUgAABOkAAABABAMAAAC90z50AAAAMFBMVEX///8AAAAAAAAAAAAAAAAA\n",
       "AAAAAAAAAAAAAAAAAAAAAAAAAAAAAAAAAAAAAAAAAAAv3aB7AAAAD3RSTlMAq1RmmUTNIjK7EInv\n",
       "3XZ/CtNrAAAACXBIWXMAAA7EAAAOxAGVKw4bAAATD0lEQVR42u2dfZAcxXXA337d7M7e7V0qdhxM\n",
       "rFoKJSjBQhtHomLKRkt0QqTA0RkixyDiW4c/bFOFtSlSxNiC22A7FYIiLbGxfaSCRjhxQglLC9jY\n",
       "gK2chV0QHKIrDC5Mcs7KKAYsfDos5JNOgUu/1z39MTM7M3crIe4074/V9L433buzv+l+/ebdE0Ai\n",
       "85A/CHozPTtbSS7N+tkZgK843XaTm5197TS/ktm2pz0QSN1AwhzKEwD553zvuiBump0tx6HuyIYP\n",
       "nubX8aee9vmQUBdKHfyu791Sk//72Q3DsaibOt0vY27abOefSKiLoK7gJ+sf3IPehLo4cq/HXetp\n",
       "JdRFUGf7b8x7ywl1c5GLPe0VTkJdBHVwkf/yPJFQNwfJH/W88V+QUBdF3Ujd9/7TCXVzkB4PTfmZ\n",
       "hLpI6gp+L2RFPaEuvqzw3Lap5qKmrj7/Uy1FXWbMf/c2E+riy4887f5KGHXv3/fvCzpWXCrP/9xc\n",
       "W1Jn/cJ/fY4m1MV367zXb1s9hLodry25+Jf1hcfa9mNnjBIN53bTzfOSOunFafLdhLrYkvJ+/9UQ\n",
       "Qt1/s4nuT6cX3rfsb4L1CoY8al25wI6k7mK/dn1CXWzZXfW88Wsh1GUJuImF9y23scVxO5ujs125\n",
       "B5mqpO6QXztcSaiLK6sbnje+41mc/nHih5I6fmFH2gvuWx5i33ITo663+/0rp25Fw6fsrSXUxZXt\n",
       "3jeOm5fn4442113GF+XxBfctNzEH9hj797e66+YaSd02P1t8IUioiyPHvG8cxpdd+//1Ebp6Nzj6\n",
       "CvthvtBMLcRveRP6pZcy1+5ABXYoza41YIfFhAzz+yR1u/1LdfpwQl3caMBxzxs8JlAtLcnSjPYR\n",
       "w6/jO7f0zIL7lscm77tETFbF9Ji+Y2q9M/wuMszPl9T1+70M2q4k1MWR7JGgSEqmnplJ0d1cWxTU\n",
       "Fadhx5148BTALex2OkN93fL7OsbFSQzzdyrqAlIk/iOhLm4wwEtQDjHMQ5bjln9yYmLiRwueup4x\n",
       "4a9+D8DpbcN/wpfF7WSz4972zvve3ulUbu5uhRV11QAX2Umoiyf940FzHbt2fAWxm4tirusfAPsV\n",
       "QR0MO/mj+Un3e+dmYFujCu/reC6au8dXh1J3qJxQF09GmsHUDddtunPHO1B3TqcOhb8TpVdyTucP\n",
       "J2yNHzgd/8mIGmq4AulXxQoLF0NpDNLuF2OT+stwBEYanXohcyHLw/w6WFFNqIsnK7z3rIU7sXuG\n",
       "fgOK1JwMpi4z5LuOe55/kX5Fvs316TdOXthQeiV+S2nq2oobo7TnACNu1Rx8Vnm03oHi68A6vYs1\n",
       "bofCAFFno4od3w4XIHWOf/8KwjyzZusBPH63oi4g3LytmVAXTw5571n7dWTxby+Dy7lHVA6kbod+\n",
       "ytYz7gA4D/J0JXPkZuv6/P7RIUi3ySly9UqMnkxT15ZTl/sIWI+FRzm8P607lLXPgczruTIPfVxE\n",
       "Ux+jbjf6dtmBHN5n3wb7lyDewhfVQvMvX13prfPAi6BuJICt3eOCOvqMZ0dRF221aGW97+rhQ+x/\n",
       "mkyv4Qr7jKuCqFurTykUkxgTlxGuxRddP4gTVy9ACpReiW7pNRW2Tbm6/SFkh+bw5dyhHnnkAbZS\n",
       "4rP7v0PO96yvE3V9+Kde9pkHpvlffU2wya4Pp356wa9KBmj+yZ9CP06Fz0jqtgV8jv4pQd1aM+bU\n",
       "gbpoq0Ur233+zMc81+ch7YmYpI79Zh8aEJhRJgYGl7nHdb9wB119qSJWJJ6exvVKxiG336XMayps\n",
       "iToLXfrV0KcNbByqDyy78w6FHNHXfRC4X/c7PKzCZrQbGVNp/xLLDZj5EtpIWOOSuqA0/74ZQd1f\n",
       "oW0zirpoq0Urm3zO+WUdLHXqrBrY7Zn8mLbNPXRMeDpL8WJq+ns4ULOfA6XX3Mga7Op3tvCG11TY\n",
       "0gApXO2+BTeojkE/VKK68wxFXmSVQWbvFdS1CKl7y2BVrbpwZA1pgTB/HAbzIneAU/ftoPjMtKAO\n",
       "c1OK5Sjqoq0Wrezz3bOrnWjqck2w7h4vNa072QXktNlLXwFswpV4UYX+8gNDcAU//e71A7nz1gq9\n",
       "dvmb8Mnl8BJvKFOhvVJR14uIfJi9IwcGNYYuqjvPUCRfhL52qsWps9Gn/TGcyaa6v/mMA7v8uwlm\n",
       "QObWFDy7jJmBpO72gCtUOCKoy7BL0hO5m4i2WrQy6/eJy9HU4XGqlWrfwhyfzMdGR/8et3vDgE24\n",
       "VdiifsyegvNHR0fLbIOYm+qF3UJv9nomW8BIlKnQ3qpRx36j/DScpQYGNYYhsjvPUGI6TV/I2Lce\n",
       "PN6GErnzCO2+2dmAmA4ZkHluAA5WEFlJ3eGAK5T6hbuHfXJi4vvRe9hIq9OIukI1mro8A6FvqLcB\n",
       "7MfP007xcpoJnhPLmquvswXwNrrKbBVrWrDFt+yh5TPweGbtu1g3ypS39RW2UM05fRUEyR0Y1BiG\n",
       "yO4CVliw2vO/VqW6pC43HUod21/dGU1dpNVpRF3AH6JI6n6VkzKOu4W+xjDHjK7cRQBv481J2AlS\n",
       "XxiCgkPxCUix3+wOobdb7gtaPpubSr+EB8qUt0W0kO8mHrvgxWsAdxPuwOx8dwyjR9mdFmw8gfKE\n",
       "uwPxxwcPu9T9OVhBEZ6WSV0Hq/lJ9tTwM6+gve2nzj7SmTrNPYL0mi9wzG7EfeElg4/UefOLsKUs\n",
       "9ex2tr6E1+Qzl36DvTaEPv8YbKnjC1kufXcNfp1tK3RTavMlTURO/mLJrzh1KNTlwPm9cgyjR9md\n",
       "OP1kUBcYClbUFZyi7mxaT38d3jOgP2Qh6oSVDIqrULspmgHAwcl13Gd99WtnGksUvT40OvrsG8Rb\n",
       "F0F7+//82gdjULcR4F/gcxwz+6HRO8Tbz/EtbdnVFx0G+M7RUfETPFxy9a6gpV0vVGC8tMrRTakt\n",
       "tsdudOGPmXefa6mB02oMrUfVnd08adS9HKQpvu5Sl273GDH0s4pO1vFRx61UUFyF2s0LrxnAB+qw\n",
       "maaX0jj0VH3UMXnxjYGui6B9IHW9jWjqsnVYkqvB1u8b9zw2mSbnuPpNs3pyQQ/WbON694OgZar9\n",
       "Afbp0w8YEy61s3WDupF3sBPXqYGvkmPoParusvWTRt3ecOqgdqERQz+7XcW4jIc6bqUFxVWo3fg9\n",
       "NAPcemd5JKkKhdoppK6LoH0gdZlaNHXwMFxxMNCMTbmZGHoxFFrmLmx1+Jhi+nap68FHA0VHdlyR\n",
       "Y+g9qu5WwcmirlSLoO5+doX5w1uKoS/7zZuL8LXBpweHDOrQSg+Kq1C7LroBJilk3EcgV+P0UDpw\n",
       "87pTQF13QfvZgB6viUGd3enjOPH0MXqStvXwDiD2UCeMus2Bs6jy62Azu1j08Jav8suKd28MmOvQ\n",
       "Sg+Kq1C74UBpBvgHfEXa7o08f4BsX0g1/0xR99tvlF/XXdA+iLqv1qOpO32FUWc/BRHUpdg0RA9v\n",
       "eQx9GVRfCqAuRb4MBsVv5HcIhtq9UW89ag4Y3+OFad4L99CcXim0G565LudxkbYe/AnRy8fw1AjN\n",
       "T+4hL+lnninK62aJTtxeugvaB1FnXRtIXVKXGERd4kLwhVDxOi748JbH0JfBzp4A6sSMnJvKL3fE\n",
       "tD8Mvqi3FjWHR8EtzvAWSPN3++tev+7TvhDl2+iAhs97PvvNFNLyRV4+DR06EV+iu6D9vqDL94mE\n",
       "rlD5Z4hFHT685TH0ZZA7zx+v40cYFIc+oo5C7d6otx41h8+zLdQPgO9n+EoLW7gHolGnbd1XDlYh\n",
       "XQE+/Vxh2DEHcXAQU61yfBiTRn37b3QiHlt2F7T/nzDn5x0T9QSxTuGqCd8yWzhqUMcf3t4p9jX7\n",
       "TZQkdTx+zqizWyLU7ol6q6g5a26+ftdfV/DAmoHU+J/YLWvsQT77KOqsFqT38DeLtE6OviDuCnz5\n",
       "lFTCN+m8u8RvbDhQWh+eTsTeoLug/fZGyJWtJXCFyO953+ibNqjjD28xhp7/YV0FP7zUUVCcUZff\n",
       "K0Ltnqi3ipozC+ui/W+38OCl407+42128EcbJx0zSsympfTSPPmK13NCzm+Q40gmZ5MSEzEsPrtd\n",
       "/1HuShrBTbcPMpCd6Et5V0H79UOLkbqoKdrqImQg+/dR1ztlrrB8g6Bi6IHUCWAdDHrzqcUT9eb/\n",
       "UNgbLXLVXdJUO9BWzgw75a2lCvqKVw6yxfEvId8mx5Ei1+8iJSZi5D7PVlirDlu5K2n82KIPWhpl\n",
       "J3yhlPHvLoL2hyqLkLrIInU/mX/fVMTuQ4HU9Y8FUNehF5O6/Mv3Y9CbxBv15uxS2BstrFeek6ba\n",
       "gUZdnn3C8UIDSd7JOSvREo4mDmMMlZiIYbc4Xi9wV7LJlBbeUBbb1Yg+aGmUnYiH5TJ2OP+g/epW\n",
       "KHULM7c/uEidKmKXbnXROYZ9KenZR93I+HypI9Hu/0zAkWtx3ZBmWgmgDn+0ydU0f9Ltt2fP//LJ\n",
       "9DawxnClRyUmYuC9Vzw4OUS+WJ65iHATpkvfBJtlH7g0qk5oobzNHaaLoP3wQCh1CzK3v1OROreI\n",
       "HXylm96piN21QdTxa3mK/kZMcxpWgVVeykFbOthSS3gVl77MECmzzEtLD14qzriEIidlbd0WfdDS\n",
       "KDuhVtUb14krmuXuWih1CzK3v1OROreIHazppncqYrcyiLrV7VNInT6p1/MPtEFEY5TjmG7Q3PgC\n",
       "KR8uaUr0xZZpE2fG7cN8PE6tdOMEfMK+qVDqFmRuv1mkThbgk0XsYKyr7vGRWK8TQN36xpuDOj6r\n",
       "kK+oO47i0SP902P853noizkQbw6zT8i8MB1K3YLM7TeK1KkCfLKIXbq7XRI+pu6pBFC3Cd4k1L3p\n",
       "JXM4fA+7EHP70VsJKMAni9hlW96ydVFF7AwD/Evu4kAAda8l1MV1Ql/1zH0TJAMudSK3v1MxEtc7\n",
       "iNJLCcl4FrbmA8Fz4nszxmQUUIBPFrHDicosWxdVxM4wwCJ2mZqfuvzxhLq48mT4XMdz+zuXLeE7\n",
       "mii9vr/y/QAya7tqhAAoVTszh6xBOdRTwQX4ZBG7vrIoW2eL/5OUt0LKiRlV7rCIXXrMT13paEJd\n",
       "XPk3J5Q6ntvfuWzJRnqN0mvbIL1lFEhxbQV1PFV7xxy+iRzqe8EF+HrGRBG73iFRtm7rz10PGVsh\n",
       "5cS4gbsVxm6n/NQVxhLq4kpYQfWam9vfuWwJRa8i9WoB1+cuT4EUYcupE6naa+caSBPUBRXgk0Xs\n",
       "GHW8bB2lYRME2AorJ8bNuWDtiVzAXLd7IKEu9m9VC/XreG6/VozEU4uEh1Wi9CpQo6c0ewqkCFtO\n",
       "nUjV1uup6MnQSpRaDkXJIP4CfLKIHVthedk6SR21LgihjgxW/v4kruLLxU3hpU78HwoJdXE2sdOh\n",
       "cx3l9uvFSDy1SNL4O0TpldygpTR7C6QIW04dT9XW66UYydBq7VNqOdRdwQX4ZBG7QluUrSOAkE3e\n",
       "wuIldnD0Cw3sVY/CY8CL2GWafuqug4S6uGIfD6cOc/vdYiSYLqPVIsFmDtEReqpj4ilrkjMfbFyp\n",
       "pTRrBVLET9FU1PFUbb2eCqgx9D04qvXTeWgjoACfKmKHYQ9etm65KFTHW1hOzKxdJ1toYO2qwYwI\n",
       "zGDwxUOddTihLr5cFk4d5vaLYiSULqNqkVATK0a4eqpj4ilrkjepOwtUSrNWIEXsQzTqeKq2Xk8F\n",
       "1Bi6oFo/HahIXUABPlXELj/ulq3DuQ7L1vEW3kVUso5q11XdF2mQaqM7R0Xs+oZ81BWnEuriy+52\n",
       "KHXu7/kMPC4SF0BPu6ZlTeipjomnrIlnhb0VVEqzViBl5RXnelZYnqqt11MBNYbhKTK1fjq4Rerk\n",
       "D+wW4FNCf0aFRSPIRXNEi8qJiZJ1RojRNehtZKsNXsTuJvBR517HhLpY0dWxSOpEMRKepOWAlnYN\n",
       "pbYqVkLpM56yJqQX+cyY4wxaSrMqkHJeExWltqKOp2rr9VR2qjGMHplaPx3E8/kwWSnK1hF16P5R\n",
       "i8qJgT8JShqMQN8tDZ5bsMZPnRt2SaiLJT+Opk4UI0HMtFokBGFdK1aSbfjKmpBe5DPn92JTpTSr\n",
       "Aimpxg1AtpI6nqqt11MRydDYqd4jqvXTxccNFWZJZes+tWkPUNk6alE5Mds/80uD90PpAV7EjtJw\n",
       "TOqsIwl1c5HheiR1ohgJ5c6oWiTYxC2rLFZC6TNmWROud9cqzHjWUpplcncfPH+Vu/11n01QqrZe\n",
       "T6WsxtB6RLV+utpHh+ygmrxsHQliplolv7VpQEgT4CZ1qYGEurlIYFUskzpejMTInRGpNOu0YiVm\n",
       "+gxvrpNJ2ED51usgqKzJDji3QrYadZSqrdVT4cnQ1KneI6r10+nUdsRXvrkLhwSBo7+XMql7j5NQ\n",
       "Nye5K5K6jsVI8DlpJoaeSwUTCDuWNRHPXGUqNqZqa/VStGRovUeZQD2XR7YnRAzqrMdhTtTNmnfo\n",
       "aShfbXRQXCf/HrZTLp8dU2/GXENtrYgOIPZQJ3cTNvGoMbGLUPem2dk41NkbNnzwNKfOakAiXYpb\n",
       "DuCzGzY4/w+Wptc8iLrNLwAAAABJRU5ErkJggg==\n",
       "\" style=\"display:inline;vertical-align:middle;\" /></a></dd>"
      ],
      "text/plain": [
       "<IPython.core.display.HTML object>"
      ]
     },
     "metadata": {},
     "output_type": "display_data"
    },
    {
     "data": {
      "text/html": [
       "<dt><a class=\"ProveItLink\" href=\"../logic/sets/subtraction/_theory_nbs_/axioms.ipynb#difference_def\">proveit.logic.sets.subtraction.difference_def</a></dt><dd><a class=\"ProveItLink\" href=\"../logic/sets/subtraction/__pv_it/axioms/a6d8ea886fd34ab928091f8055840448d4dbe2820/expr.ipynb\"><img src=\"data:image/png;base64,iVBORw0KGgoAAAANSUhEUgAAAZ8AAAAWCAMAAAAo9GECAAAAP1BMVEX///8AAAAAAAAAAAAAAAAA\n",
       "AAAAAAAAAAAAAAAAAAAAAAAAAAAAAAAAAAAAAAAAAAAAAAAAAAAAAAAAAAAAAADFBd4eAAAAFHRS\n",
       "TlMAq1RmmUTNIjK7EInv3Xbp8+P3nXbhrUQAAAAJcEhZcwAADsQAAA7EAZUrDhsAAARRSURBVGje\n",
       "7VnbluQmDDT3O0k2/P+3xsa4jQCDsafnKZw5W7OeBlWBkGT1svzYEAVOTfodi+KlVfH6M+I+ObH8\n",
       "6PAY4tSknRCfNMk8xK9QzKndMDRYm+vbanZEn79j8uZ4sIE4NSlxD8MJRIWA1sGVjJuRKHvyNYqQ\n",
       "2tDQYG2JJtREpOzD4c2F0hzi1KQkLYQbc6yKgILM3bHjlu8oltRKQwZ3FNXj3O07ajb8nKhQb64P\n",
       "JRCnJqX/oTD2EBH2288CjR5IkyfSL1EsqRWGtOMdRfVwU2oiHodl8JvzsQU2Q7Ny6+D1pN2+MLsX\n",
       "9QNc+gxJymxib/V3KFbUoCFPEGvZuFj7r7/h2iM1G5J05PzN8WAOsZX+uNftSbsr+cWHsYugFGi4\n",
       "3R2aH+zJVyjW1KAht0h1paixNpJzaiLazWWcNa/Cm4GovUdamuxOijpF0Nwk3aL8OPLsAVsjl5Qa\n",
       "BPGHKdbUgKGtGsjT9mDtKjuN1ESk8Y/qMkDcSL3Vwa+SPPILPeNto/rIXZGtUmQY+ogMyq/az5mE\n",
       "Q9xsu2ygdxRraiTf420GprWii7WJn1QTUaDjn/bx2OxSShWoMVSVicJhgERsMXW9z+cJNG6+w8BH\n",
       "12w5vAR+z9PYHgtjC7GTmp9QrKnlhvbayunSxtXa5f0cqtlxuzqGXekyICuQ6BK+3A3LAG7HR4Fc\n",
       "aQ+PVtWkmDspXYsklRWq2SU4vUHZg5Q8XBBiJzI+oVhTyw3t6cT70sbF2v/8KdYeqtkR+051wKTN\n",
       "byXaC8HQFx9/BZdZq+sd2+J1hOBGm3y48VHwLMxCvH0+9yjW1DJDKZ1o1/K4xtpVhTxUk5B/IqP3\n",
       "VKw/ufssPI86FkdGpB88Ykm/rqL1VeUPP5xCuLPD9EOOwiftBHYQr/PPI4o1tczQsd8U14paa7tp\n",
       "NQkNTpHRiwWpheP8eMBNXV+oCKGoek9RPket2II2QVm+93Xr6pi0MHKzwZMC9qqMf1okEK/HI4o1\n",
       "tcyQq/qG3bUZnVaTUNjjokUTMo9uMNnE9KNR9bYOC0McpKZ2r3zODImvJonDgBo1ELhN1/6Tacuq\n",
       "+Xo8olhTOw2d1dinXOquXXn1WM2B2VS4RWuxZlDQRfoRoawmpMtR09VdMCVArkaK6cYkrUKIBPH2\n",
       "S2+b0aedeC7sGMRObJyn2KJ2GkKfj0q/3Fj7D5R/R02tStr8iwe/n4aE6WcNrlWAO2os12nRMKNg\n",
       "88SN+zmjdpyD2C2wn1C8Mjiw0epM/Ttau1JTGltvs+ExJWqTBd+twN4fiHiVtKu7kTONymrS77Rl\n",
       "H1Hst3RnFN1osZdqKmPUM+O3HpTcLgqNaUnTwNn+gPBgtrfTVptMCYi3hnr5HeHRc7/Xe39EsW1w\n",
       "XtENiqWa7hQ8fFC8J6jeW8Rg0tMxt+OPKE461OXaN74eKNX0jDE9etDo8gK854/+zfF4AXH5BsWW\n",
       "wQeK0LSarjEyfPD/+I3xHysTMLUPLRTJAAAAAElFTkSuQmCC\n",
       "\" style=\"display:inline;vertical-align:middle;\" /></a></dd>"
      ],
      "text/plain": [
       "<IPython.core.display.HTML object>"
      ]
     },
     "metadata": {},
     "output_type": "display_data"
    },
    {
     "data": {
      "text/html": [
       "<dt><a class=\"ProveItLink\" href=\"../logic/sets/comprehension/_theory_nbs_/axioms.ipynb#comprehension_def\">proveit.logic.sets.comprehension.comprehension_def</a></dt><dd><a class=\"ProveItLink\" href=\"../logic/sets/comprehension/__pv_it/axioms/fe8cfed962229e9bdef2d6d73ad0e27a41a45f0b0/expr.ipynb\"><img src=\"data:image/png;base64,iVBORw0KGgoAAAANSUhEUgAAA6IAAABABAMAAADystegAAAAMFBMVEX///8AAAAAAAAAAAAAAAAA\n",
       "AAAAAAAAAAAAAAAAAAAAAAAAAAAAAAAAAAAAAAAAAAAv3aB7AAAAD3RSTlMAq1RmmUTNIjK7EInv\n",
       "3XZ/CtNrAAAACXBIWXMAAA7EAAAOxAGVKw4bAAAQt0lEQVR42u1dD4wU1Rn/bv/c7s7e3p1tYkVb\n",
       "PCKtpApsDdBqDBwBKy1BrlpMASOrprXSNG5bQ6tSbmtMq/HkTi3FM20d/NdYDHdgS1NRvGAojaZ6\n",
       "Wmkp6dVFSJWK5wFSEAvX+b7vvZn35s/O0i03Qu5LZm++ed+8mX2/ee993zfvtwfw0ZFEC4xKVfKE\n",
       "WdPpyeHhYyflvq5w6TNHoapS0jt13VjKf+uHhw9Ug+ihBV87GbfVWND1eGEUqmrlcy59r0B6wYKq\n",
       "EB06OXe1pKjrHeYoUtVKxjVBZXrl3pboEDVecB341ihQ1Tfeiy59y0cA0YRrkI0dHQWqenH7HBea\n",
       "0SPaWdL1XO8oTtVLu2vKyrVGj+h1boRHp9ETmUhdz3/scOSI2rcgZUyQ5eNtipKq4ZLFCpUUa6v2\n",
       "u8URRjTe5zpwU+SI5rpcBw4GBTlfVzvvmzVc8lq5k23zXKSltmrTY0Z4hEm5o5TJpagR7XS1Yfpw\n",
       "gOFkbqvEJvwbq2Wybcy7Eb197no+dkGt1WaaR7iTvu7SG1qjRvRc9zASdJXn+M/6DnwEnqjpmktd\n",
       "iGa/CXAmOf+FWqvN9o8wol90hw5DESNqvO86UFeojOiWhdhHZ9V00Sk6osZN8tlO5GutdsQRfc+N\n",
       "0sGIEY0fcY8armFr78BAQUE0ydFqX00XbTA1ROsRhTr8dg01VzviiE52BX/wh4gRzbgrbdJnyKv/\n",
       "pfdRbrFYTaMj1Oc1ROdjo2Tx0fpMzdWOOKJuPwTmF6NFtMnt6jZhaxuDZ9+zgVy5pfqoG//kqzQ6\n",
       "WrCvmwWG0591zUdUg2yzimjqA5p/Dlkfc61L78nDGmdS0DS/WUMxwGpHHNEe90QxOR8tokvcTms7\n",
       "PnMJ2FWeR4990eUCNJVlb+i9UPWidM1HVIN4QUU0QQFAPfrYN1jHYn0wwz5L13xENcBqG/tGGFFu\n",
       "ELUBm6NFdH6b3yjyeZhhfpza2Qm8OKHfTtNGrgXSLfOgzu7guuYjmkGsT0U0R1NzDx57DeCORL+S\n",
       "5NA1H1ENsNrUgZFG1N0lGvqiRfRmd0S+BFu5JJ3yjgFLEIjUmQz9ZL7rNjDgZWgoG9PE4Efa2vVn\n",
       "B46OZCDhHVIRbaImmIGD1VYA07J6GR4VvZg0Y9MZgXkDNleqXXP9CCPa6vZMjkaL6LGAmV600pP2\n",
       "8TsfUvwjC1H0ejtLK9+VN4daK8wLvvujzjuBpN5HceozyEXcio+UmT6SHpTTIWoJSATPjmigVrux\n",
       "LWJEGw9Eiih7JV5Ek4fh19TaTsF9yqc16uJbuH0AE2VgjdohMSj7CZuL4bFfRdSKW66ExDbgUdca\n",
       "Hay5UFqQ1tSWOlIhwrenTjyJ3wWeH5RWEn/Dym2JBeeJGwPm0dj7kSIacycYoN0a/YxVdX1A80Nj\n",
       "2ZVh4L6bKVO+7T5G1AShXYKIGj5DozSY8oVBfKTjXSqi6QPxn+Sfpab7JT0zlimCY4DQ4iYiavqM\n",
       "5NJg1so9otoswhv39NPFg9PpWeMOFVbuyFQvCpt3v817rU5soHkMH0SKaONxjzdugRU78lhfkkff\n",
       "63VEU4fsOCHRjOkRC1Hj3yA1NOopiEO442hoYEx9AbaJ4EeJR/etADEBrwd8h7wkT4jS+aRhTGJX\n",
       "qddNBo9ek28ocrUUvajxTnpXdxvEytDJyNFnWLnzzGgB2coxqwAm2V7AYic20M45JhClc88LQzTc\n",
       "6sQk4XENMRtnXFEefxGra1aZKqIx/jZp7ELn7DnMfXTAlBqujcvh+jjMX9PLX/qQBql1BcBRMdem\n",
       "IZoes2k7pHHvXrziZitGR0SpItLgXpMrodqcuqXBbf+EJpOrJUQvU77P7BLnouo4CUHfJqzcaR61\n",
       "MyfmiGyZgJltOz39fVggSle5MQzRcKsTTBl5Jqh6Vwyy+BdqFjAhvs0OAqTAiMZMqd2Ke5/1ju3S\n",
       "oK5M3ssP9byuJavgLZqfaejbKGZarsjSUg/ZlWhiG4yFa0S1hGg/JHcJiPg9jzU08rvYLPWosHJb\n",
       "LDfCtoTd9HnQfofLtpM9t/WGyYj+CMe0rjBEw61OMHHmeXeWCArREdFx9eIbT8GGfKqFEc2C0FKt\n",
       "Kevbel+02QYNpURrycnzO4jex3nFeKuFO66+IkRxECXtFvg+V+LOWkiDP8LsNFeLiKYKsK7J7FCc\n",
       "9cbhB8SzhX07rNyRZeBYGtzs730gJ062fc4bEBYZUezD2ZYwRMOtTjC57VkmFg9aOIae6t/kW7RM\n",
       "Ef4B5wAjus7aSLv1rjtNMMreDKA0aIfcHSXnkXQQnT/MTvJqyJXrehlRrIi01IN3fZkrcc1YtsEQ\n",
       "7JjA1eI6uGQX3DYR9tKIcRWbPjK/mdQk2ojy5KTL1HJSk3pvWQhcEzU/I2mM3y/x6HKcf1UebmNE\n",
       "43k1QxOEaLjVCUZTHm/LCEq6oAsw/XJp1QXn7bHu/PabNwMghKS9MjzsEwEoBl+BxqfpcXAjeu8W\n",
       "Gf/GplsNm9r4YZkqIq1heHiIK/HGD2SQbIZ38lztU1YDxayp4RwYm55oQTitu7u7xfKTk0OkphEF\n",
       "Ud4APWo5qWkd0XFAlvyo39TdfT/610ukT9UlRmGXnNsifN0/DQy8FO7rhlrViij8NCh0namODStq\n",
       "uOhbNiSe6DVVrq3a2z8mmnq7NRLnLAjvoZZrwQ6MKo2UojwFHWo5qa5R924gy/hlF/VCmmaTK62R\n",
       "CKZcdYEcdZOHgxG1PKmHwhENtaoZ0UvhlBdryN5htRZCmDHZn6srkmrF12vtcssfU8tRpXKjlz6s\n",
       "P5hgsSxje/EUaveZAJ+ASV05GatnC95UeV4g+h1I+b2O6tURFVYyItZCXr+QmeSdQTFaPuZee9Dj\n",
       "RbSn7ZRHdDXA+IsLBGHqQUTszrm/Awa4CB0tsjxR0spRpfL0Nugoprelt9BAjpZnpdCRxwadM3tT\n",
       "EepKy0BMHg0twYhmTG1pXOr138KlzWoWgxBlKzsiBjXkVeMFxQCuLsJynroecFOheryerc9Td6rJ\n",
       "YjCKmTxBCGu7u0WzooqubYssf6ZRK0eVy2UjQrKXLfsbp1ou3++7V8mgZvci4Sbv8179+bJANFau\n",
       "17IT47JmwvQgylZ2RKyFvKoPqxig35jgGd/jx/ogak1Ap7okinXlqyG9b4OWnUPVGquSpiiv18mb\n",
       "pHK5kEWoo6XRHHtaNV0DF+TJ1jfZZyMKheladuK8cmsWPIiylR0RayGvOj8qBpg955fN417C569x\n",
       "z4rLKyE67dSfSJ9JTvddfooJ3XgV5SyYfjQDLEVyuLFQCdENSy0zyjlTdmLCp1dk4TezX5/dpiGK\n",
       "Vk5ErIW8qmOvGOC6SUpgiwz5W3Vd11fwjOxVQKewGCHHjarPMytfY7nPuxl7HoXl1uBJOWfOTkzI\n",
       "PrLYp48ub1YjZhHyXrnH7c6ggRCMdupJS1Bl+Uy5VAlR468wKlU+Oa9BJUTrrHamnDNnJyZA614f\n",
       "RNHKiZiBQ94+Y8j9aDlvanA5SSc9SxnufU3FStELwDJzFKsq0+J+w5kdj7JgzpmzExNgbb0PonrE\n",
       "LELeYlqfD8mA4mJKGSyCP7O/xH2zw5l4G/wQTZVGsapOHodwRDHnzNmJCZCc5I1H2XOSEbMVBFPI\n",
       "C5k2JzK2PsiA4mJLXf69dT/O4w704Bmpvo3OY5KrRP+tGxgdf4Pk3YGWoKKHSyqinHOm7MRUgF3e\n",
       "nBEjKiNmKwimkBdTSXZkbO2xAcbFlkVq5q6zU7iDaS7rzxWLB+1hNXOkwl3XjwIXLPFA//GNoooo\n",
       "55wxO5H+S9EJKV2IOhFzTGQFzLISGcs9iovRItm6jkyngH2GfDYOnY6IhpFbi7VVnaqM6CvgDVSd\n",
       "7EQFRCliXsT7Nw/3K5Gx2OO4GC1S+3fizv1ngX2GjHIOno6IhpBbayGpJsu8VUD0PxCQeghDVAbB\n",
       "9jDgsyctvt2GO5vL+hlo+mFlROcNDAxsPdUADSa3Mvm1FpIq5Qp2V0I0dawmRGuV5P7wPvrmqYZo\n",
       "MLmVyK+1kVRxzQFugYiKJo0KUVpYd7ohGkxuJfJrbSTVeKvYgmqJH48UUXjjNES0L7AFKVarjaQK\n",
       "L/IWiGjiSLSIzi+edogGk1uZilgbSRX5c7gFIlo/FC2iM/KnHaK4ENsmwGrjIZNf50JN5Nf1vAUi\n",
       "2tQfLaLtrbqOzu3AwKsuRAPpH2XRLULKHTk/+FaErXZDsepDR/tS+O7IJsCq30dwVLCT1UB+ncZb\n",
       "IKKdvdEi2tBfsY9OtJpjiw/9Qy6FSbAaVu50E++SF3tVjbAVq/EaN+8p+vFOgrumnXlpUQiw+uNb\n",
       "ws/XJJtVUiVZq0CV1MivF/IWiOh7pWgRzR6tYtTVhiSN/ZHs5VxG5XJHdAa+TiQRttxyyRshtS1k\n",
       "LHQ1j7wUUiFLnl+lQWHy61bJZpVUSdYqUCU18msnb4GI/hyiRTR1vApEVfqHi/1Bv9MQVu7IZVqv\n",
       "chFJliqI4sruL+m8kzBZqiBqE2A1eU4iKtisEx0fuLNUiSqpkl+v4S0IUWN/xIjCN6qYR3MA1zaL\n",
       "dnexP8j9CCt3pF+x9BBJNjiIEmF0hs47Uc5UxDm4QRl1bQKsNo/y+nd8S+1Dfr0kjPwqqJITeQtC\n",
       "VP6cUHSIziiG99FlYJSP8itYN/tjPH6ElTsjQsGx9BJJxjuI0u9kPavxTpQz1S7hHJSXypQVAqwm\n",
       "3G+RpOpDfqUuXIH8KqmSF/MWhGh9f9SI9vSGI7oQUo/0N3YhRUxhfxBjbCHQB5Xj2hilnJbKLNS/\n",
       "QhdbsuImkix0EG3Au7rO5p3QAhz7GtozYldnXyrbrBJgVdtDdvjhR35FqqRGUKUd20BSJefyFoRo\n",
       "ez5qRAO5aEqmfpzVaXrrynfs1NgfqBKPQJbj2hilnJbK3K0H/81syeOTm0hyt4Jonn5zUvBOxAIc\n",
       "eQ1N7OrsS6X7VQKsenU+FUmqfuRXfGx08iv9iqNtIKiS23kLQvR5iBpR43hYH6W2yrU1lMD6ugr7\n",
       "A1Ue6kQ5ro1RymmpjD7qIuMELYk44iGSKKNupjVp5vKSdyIW4MhraGJX51xqR9DDyxMuk1Q95Fem\n",
       "SlYgvzJVMoV0xv5ARO3mjPA3sPeFI5rDZljCEDrsD1IHgekhVJ5p08pRHVTWyjDjBC2ZOOImkgwq\n",
       "ntG2S96+ASTvRCzAkddwahQH1dPB+SFJl0jyK+bZfcivRJWsRH5lqiTm+XELQNT+VZcIEc2VQxHN\n",
       "FCE262cMocP+IHU1MD2Eyufo5XNkOa+VKTLjBC2ZOOImkqxWopdbxp5hFm3eCS/AkddwahQH1dNB\n",
       "YTPqYpNfVws2K1ElbW4rUSUrkV+ZKnkr8BaAaHtb9IgmD4ciagXvv4IHGEJlfcVO9ldjspzWxjjl\n",
       "qHK5FGSckCUTR1xEEuH7ytzMV63WlbwTXoBjX8OpMeZUZ9jUT8OfBG+TX58UbFY7eeholciv9uNA\n",
       "WwCiZ0D0iOLvGIQgCpfD2GQBVr6kuY+oJoqCHoLluDZGEVRFufgCyDghSyaOqKkkS08UNUTbP2VK\n",
       "3olYgGNfw1lZs8ipLuH0zBBya6r8vzdWY5G3AETjL34UEM2UQxHNmle942uCedd8eLn4utb2DARY\n",
       "2jlciWj9dtB4J3nnTKcxlYNTYUTFH9HlpRNC9CT9JzwjyDesd9brmgEmZpXlSoo0UIRtsXIFYaeP\n",
       "kLz7d19EbxAtV91/wjMWnJz/hAc/gFH5P3UOMd2mFyxY9F+XXu7QwuOWAAAAAABJRU5ErkJggg==\n",
       "\" style=\"display:inline;vertical-align:middle;\" /></a></dd>"
      ],
      "text/plain": [
       "<IPython.core.display.HTML object>"
      ]
     },
     "metadata": {},
     "output_type": "display_data"
    },
    {
     "data": {
      "text/html": [
       "<dt><a class=\"ProveItLink\" href=\"../logic/sets/power_set/_theory_nbs_/axioms.ipynb#power_set_def\">proveit.logic.sets.power_set.power_set_def</a></dt><dd><a class=\"ProveItLink\" href=\"../logic/sets/power_set/__pv_it/axioms/a988875a839b41a2a0d9a556b77839ba464e6e330/expr.ipynb\"><img src=\"data:image/png;base64,iVBORw0KGgoAAAANSUhEUgAAAQcAAAAWBAMAAAA/eEQeAAAAMFBMVEX///8AAAAAAAAAAAAAAAAA\n",
       "AAAAAAAAAAAAAAAAAAAAAAAAAAAAAAAAAAAAAAAAAAAv3aB7AAAAD3RSTlMAq1RmmUTNIjK7EInv\n",
       "3XZ/CtNrAAAACXBIWXMAAA7EAAAOxAGVKw4bAAADlUlEQVRIx8VWS2gTURS9SSafTj6NP6SuAhY3\n",
       "WoyiFTdtxWqF0I9blRoQEVxIuhGFqimICCotFCkIbVMRoQo2duEHQeLCjaJGQa3IQLRqqUiILdLi\n",
       "h/G+z7x5MxmnSw+cmZt5L2fuu5/3BuDfCHK6IrPE5OBSf86463/kdEMswQ1/idFJ5J/o5oyTH2ud\n",
       "ZnjzjA6ru/NC/9NGzfXkUp/Kb4VpNKYdRRzhbX3g64olcRnIXeTJEadp1zmr0do9f6JRJzFQ03ip\n",
       "KcF4BQI5oKwWMTGradoUM0dAHQU4CpR9ZGUDTq/ayVmFQDK2ANBcQFNJEp8AfGnwtQBltYjAuRlh\n",
       "KjizEWALUBLnwwmndxU4zfwPa2/IfRMoFfwjOgIR8nuRVcMTYKwSMaC+Ne3aLK2GSI7Sh2sJOCYt\n",
       "zSjgPyaCXVME8KAjsI48nwcIoeYhYLSLCHi6TPsgvvY8CSrjM0176uSEkmdUy2suTJIHx82ERzB/\n",
       "UVJyKbJA/R59eJvTLiIE5LVO/MqSWzjOuAfginPmGRX4UGq3Ve8ERv8LGCtv1r+TZm/khHaN4KUh\n",
       "IgT6JHWfrq8GWkuUPRCMm4P7y01ZZkUTjNugObeCPJAiuzELPur5K5rrWZ2kfgOnDItAjzxya/Q3\n",
       "SVeBsSYXNnPlLUG/EfIuxizspr9DmDftHRvrVLuXU+Mxj/oPvPRzypAFIGod68SxUIXRW5JyhdXu\n",
       "sTkB8JzVttTHj74NgnACI67O4f0Ap90JQ4D1M88GySlGyV9ghHQTXsptn0hea5NiszfSAf4FuEEe\n",
       "FM0+mTMsTIeKyQz+RLuBU64JiwAcFgpjyDNY6N4iI0zilhXL1AXI/Jg+KNqwRKle9hSA7r1ls+Yr\n",
       "hjXCNEgTwHZOGRYBGFtlNFgD7yzfACP0xkl4RkJ09GqnUaW8e7yL1wp+upkFxJYWEZWMLam8552Z\n",
       "4pRhEcCyH+bbdnue6ot9ADy0HRborBz4jVWGipRqR6l+MyuKun3GTpM1XnIJNfwrl9F3vOaUYRGQ\n",
       "0LJ3B63saBcjn10gtYAem+fIFKdZCvfZtg0dZgtmzaO1yGjFlPuXwClOit5wWoGboMTBIz4y+OHi\n",
       "CunEIrUv1b8k4gLLIal8fvgVLiaUs6m7ZlFlGF0xJKyTnLbKlAQU2jVybEjY7Ue49TAlG4M6sIQT\n",
       "4xZ3hqrG3QUc1um3fZKc5nRD0Piii2UY7XAVmOGUEwz/CX8BOv/+Zq/+4lkAAAAASUVORK5CYII=\n",
       "\" style=\"display:inline;vertical-align:middle;\" /></a></dd>"
      ],
      "text/plain": [
       "<IPython.core.display.HTML object>"
      ]
     },
     "metadata": {},
     "output_type": "display_data"
    },
    {
     "data": {
      "text/html": [
       "<dt><a class=\"ProveItLink\" href=\"../logic/sets/cartesian_products/_theory_nbs_/axioms.ipynb#cart_prod_def\">proveit.logic.sets.cartesian_products.cart_prod_def</a></dt><dd><a class=\"ProveItLink\" href=\"../logic/sets/cartesian_products/__pv_it/axioms/66321768f896b82968f6f3bbc5ba0b5e96a7f9e00/expr.ipynb\"><img src=\"data:image/png;base64,iVBORw0KGgoAAAANSUhEUgAAA9cAAAAzBAMAAABvZOYTAAAAMFBMVEX///8AAAAAAAAAAAAAAAAA\n",
       "AAAAAAAAAAAAAAAAAAAAAAAAAAAAAAAAAAAAAAAAAAAv3aB7AAAAD3RSTlMAq1RmmUTNIjK7EInv\n",
       "3XZ/CtNrAAAACXBIWXMAAA7EAAAOxAGVKw4bAAAMUElEQVR42u1cf4xURx3/3u67e3vvdvfWGI22\n",
       "BjaxrbF4ZW0RhT/KtoA2RdoVTW0s0a3GkNBElsTU0HKwbUys6cFtoqSckfKaNiRAyy0Yq0JsFxtC\n",
       "sWndYjW19syjbURKhRPkhzRlnXkz8+bHm7l714NjX3Lf5O29me98v/feft5838x35rMAEcTZscOF\n",
       "aYm1RMYw02oVr9A1bp6GaZKynWDc3WrVooFdulJX2lGYRmuSknqDniTbHeyr5aKtb2VfxiuwL7P/\n",
       "yy99MQE7WZbLb+mbkWq7bMKrPGGEuUWnR474Sk8uHmCvrUjFRF3bilZ3jRq8GBVGES3epkd85c/x\n",
       "APsfcnGbvhWtnm3CdPaEwRYtulxyxFc+58YB7GRDLi/UN6PVt5wzuDEqjCJaJIvkiK90FeMAdloJ\n",
       "2zL2x0ZGykJ1z4PnDe8sk8L8lpMs/kiP2ErnuTiAfVKOnglpoHXXu3L1uuwpPmND73qb3ZtRIc3x\n",
       "TBYA36NHfOXeOID9qly0UEd3Tlz16B5/wLxSrEZSTJzmo+nXAfqrtGBUSONvkwXAbnrEV2a77Q92\n",
       "Sgm/XQWELBzxlvqFiliNYlU+9T5v2l/F6MGYClmMFjCXHmCN+JKLHdjDXvuD3aGMzzJ5gC/CAvej\n",
       "PsRSNX4K7P+gjj+XddSgmxLFzt1XqQq1aysWfDBLj/hKd7P9wU4rfSiNLqMKXyaFAdzJaqwaDdcW\n",
       "3fI/gI3/Zh016L9EUYSlqkLt2opFIIP0iK8kz7U/2IOFMNgAr5DCdrnaQZHqA+C5wQA6qjgD66sR\n",
       "wWaumCynR3zFOd3+YJ+shMM4nkfs8AtytYWONznYPChTxXwKdoQwTi3mfOlE7u3N1GVfrN/ZsL/9\n",
       "wf6l+urxwNmEXuT+6DvrCdUAX0fHKg42H24xBfw+6gCNWDhfeAF9R0fQ+Tx6xFi2tD/Yh9RcRw4S\n",
       "559qdPoDMviuUA02HsttrTCw+UQqUJCVPq4YRrNz5yzQj7CFvasM52EJOmdHjOV5CrYflD49Ltgd\n",
       "fvpiSleXnf+qU7EmOHd419xISk9scnn11rMufLZ1HwO7o0pXrrhijSspIFNEH68B+whbdHipBhxG\n",
       "NX+hR4xlQYmAvRgXVowLtlWS5rZTMs2+qNbIAfieLTRdKlb3GZzZRXuCF5+uZmv2aBVsNG+xm/EG\n",
       "e9AjYD8EhgSiDHYKR4A1U3qFiVNqzRx9wzkRwF7zyI/dif379ahvJ2tFsHAqJ+YbZoaLBGy8eteT\n",
       "H/+djbOTe6Z2dhhav+jWd06h+sFVz+md/anVmuC//xoKZPYM13/C18Qba+jNEbCTBTEbZQb7JvS3\n",
       "PKVXmA2tTDr6COTULudlPEaPWINdo6Pxl0dGXooAdnpk5M36lF5hz4VQ1Tp9y3WX85GrkCPWki5T\n",
       "sG8D+IX+y5bAtqrQLb71HDAVuLiTukLrAkzLpZFMk4K9Gmx9TsiSwEaNVovap6umAn8EXpzUFXaM\n",
       "TqN0qcBuULC73R4lZ9K/pJTcr4KNuv+vpXl63lTgoeHUNNhtBnbCE8dnqSNDpURuL9weAvsGaXzW\n",
       "OeAZClzufmU6jLdZGIfyzUL1IhSQEzdbUO9ZtHTRYhHsriRCNPvOuq+QcUuXEPulAhfvXjGm/+p4\n",
       "JXyq1bPAEN4nONaO/Unu5Ne7juS0cqnMJt/Sb1oxD9BgD5pCJxduPJKdV4Uszh4kHv6mVw/17J7r\n",
       "0HjraEeN5KQ9S+jnUoE/Amzp2ZdnKoOV8KlWz+zD+wTfAiNRwFgfUfRkgDGdMirBtyd2LfeDycw0\n",
       "IRgnDRJ4pE7DjtM5BvZadPbk8kI6l82RVeJEde+1YbBtvE5W6Pb8sVhnNdsAm47i/cKyd9TVkrvh\n",
       "PTFkwABLUOPTzhsWy619/ThJFcwGMBAFjPWRRUcGGNspoxJkCxMyWwUGM5PMGq/BKuHBKOgc9xYZ\n",
       "2HgN4IF/Qm/VqvvLewhsK1sLgQ2f8M1I97P27b4AD1PKmF9oOOp4asm+mcLc6wAcgVSfy07TMCy3\n",
       "PuAvJ0pf2Rn1mreBkShgrI8sIhlgTySnAZWA7X2MZJYIUnmqmTq+pR3aGS+XlRCTgysFx4EM10Fc\n",
       "4pyBOlYmD3OHhobyiapTL6vzbCoD5I3ggY36HQXbL1RSDTWKw/pq8tabFs/CscA5Bz/bARmXndpK\n",
       "R/Yrg9ZkrHhaveaFYCQKGOsji0AGcP4ayWlAJaDJ+Whm1syKwUx9sVGQx03Mc4/UaWgNgS2EUHkR\n",
       "jsH6FDxKejYs89QMGnlLNZ6FolOHTvT/T/lg80J3CXbiIv3AQaI3nzgGB1BQQzUHU2fmY7DZKWwS\n",
       "GtNK2pqJusTpswEahjtuTHrIyskA2c+XTE4DZoJIJUi7EzD7zfNVg5n6XvkYbaZ9j28ZCZ4R7pE6\n",
       "TavZrNl5EWx7FPXteRZJkiVLkM1pwYY77jnhpv4AX83BU2dLGGxeuA11+3zqIAxU8Efe2g/Ond+H\n",
       "zU7ZyuNW37jxeAGDzU6tKj4ljSuskrRmoj7xmA2QMMS0RHnSYHMyQCZVMzgNmAkgUgnIZuZoZrZ3\n",
       "Mq83U6X5U/L3Ot1w8geuziN12qXGAn+DVwB2Zw5WwOp3wcabrjasADCATW6GnbwhFHpcFAz4P2Vn\n",
       "zUQ9kwxa4TBOT/dmBUfsjLam8ik1XNUVooCig9XPiVly++qj3tjwyu05GWAWXeAPObXFtyGnElBS\n",
       "bCQzC2YX9GahUR7dPrBEcy/3u1qP1GmPOhOeCaDblrRzaCgcVBSwv0X/bnwpzwurWk3oDC6BnTm5\n",
       "bKnjKGuVem8PO+1qfcBt2RlrTWWBEo3YQxsQBZb6GwBfZbrOg7BVMFle6R47LaO0D8gA6Mu/BrRO\n",
       "xd0bApUgWY5utgwG63ozdcBYSRSDiKPei/h4CB6p06QaWg7pwdYnYGSwC6ZCUnMWaqU91Y5BBpX5\n",
       "Jd5GKhEFFN3TBbw5/El6p84LYDUDcoBOSPtAAjJAKkdGkmGnYq5RYCUkGnozZ99HXNWsCOtzVKGY\n",
       "KfIQGwAfZvciSFn1yANCgzkWYtzFDw/2VImOJCARBRTdnQB/h9QJ+q1Yo5Cpc3KARvz2wrNFDzwX\n",
       "JXtXQ045M0FiJaRG9WYWhUgwy/580cwaVShmiqCZ7gk6KaX3IiS1X0YO/waCR64aZY6FThgDkoDV\n",
       "0IMdEAUU3SFw0NQ8QcFO12C4xMkBGiHtedinB54mO02t0+3CXNHjrITOht6st2SfV8x2oTlKkyoU\n",
       "MyV9jDrvMwxsci+CsqZ65G+XBnPMpSMG9J/OM/owHhAFhHc2qncuQnKUgz3swQJODtAIac8SxQIZ\n",
       "AA/+btU6zYhRnLMSiDZslnQJ2Bkx5uIlKKJQzMIpFTIzOczuJaAtoJFsyCO7Dew0oTw8vV77g002\n",
       "+XLBbACJKCDrnFPQUf6Mf6d4M8VwHj6eqPjkAM3eCvSWJO1ZolggAzRZull2CiIzQWIlkK9RYwY9\n",
       "TdkM5yT8LCtWKGbKdx4k3x+n9/JAQFtgAV7wGNwGdqrCSka6bQ62MhynswqBKCDrHoe+YtHHBTMA\n",
       "ur3EaxYhBwSEAJkZ4LdniWJOBsCre9BdDTnFEjATJFaCb64zgw2ubLYWt8FvUKyQzYILJB/+UuRm\n",
       "OiX074XTFhC8ecVjcBvsEIXw3OP1MxuppkoUkHVPHP/JjKqPSwbn9mb8dvW/yNoLLvphgjMDRlzW\n",
       "niaKORmgAwOU8kJOsTBmgsxK8L8fnRlbKmJm21srIbH1bJ0oFLPgAv0PfxKxEX9sYPcS0BZQxSfp\n",
       "tDXwyG4DO1XwisfPbCSVefLroBIFZB2Ze2Bcrg96oE8OuD6csnCVRLGWDCA7xRIwE5hgsPtN1/JD\n",
       "+JHezFf0R/sWMkF6ldIWfAB/NyInGNlt9IevpzsXB7DhPrmoTfLLqwoUlyAkEHJAeMkxWOVhiWIt\n",
       "GWBOCOyQ9GkWPpiZvfmR27VGRBFx7Sb4qSZGW9B6ZLehWSz6jhsLsAfk/QyYDWAgCgT19rPve/68\n",
       "iIhPDnDC89hdoCSKtWQAyalWMCshRKhhZulWS7+PzlfYUbe7s13rjLagnbmwfHctTPA5DLEAOytf\n",
       "H55emhgBUn1WcRNu7mm/0sfGcmqU0PP3Ic1Msn0C35imP8Tl5yzVH6pdB2ZGwCSZAnoyQCSnR+ES\n",
       "mRnE9qLfxtGw47tgYmDPv1I/Lt+Vh2mZnKTIkpuzY1dEsKd/XD6+so30U/zj8v8Hwh9j6Q33RbMA\n",
       "AAAASUVORK5CYII=\n",
       "\" style=\"display:inline;vertical-align:middle;\" /></a></dd>"
      ],
      "text/plain": [
       "<IPython.core.display.HTML object>"
      ]
     },
     "metadata": {},
     "output_type": "display_data"
    },
    {
     "data": {
      "text/html": [
       "<dt><a class=\"ProveItLink\" href=\"../logic/sets/cartesian_products/_theory_nbs_/axioms.ipynb#cart_exp_def\">proveit.logic.sets.cartesian_products.cart_exp_def</a></dt><dd><a class=\"ProveItLink\" href=\"../logic/sets/cartesian_products/__pv_it/axioms/c0ce8eb8933c92961f912dc440e89961bc796e3d0/expr.ipynb\"><img src=\"data:image/png;base64,iVBORw0KGgoAAAANSUhEUgAAAbwAAAAVCAMAAAAKCqt/AAAAM1BMVEX///8AAAAAAAAAAAAAAAAA\n",
       "AAAAAAAAAAAAAAAAAAAAAAAAAAAAAAAAAAAAAAAAAAAAAADxgEwMAAAAEHRSTlMAq1RmmUTNIjK7\n",
       "EInv3XZehM4hfQAAAAlwSFlzAAAOxAAADsQBlSsOGwAABH9JREFUaN69WomSrCAM5JRLefz/1z6u\n",
       "KCIKjrpU7WYO7IQ0hBAGobeaXRY52FXUH1BGpbUYWarkbwifNPHHzw2BitvuHmiGD9NMqg805TNF\n",
       "aMb+O/wTwiftZy3cfmANgK7g3uGbswh9TN4QGDHbS8aMQfSftpN/5/xUYmZA1YaQAXrzZrDbqZ2D\n",
       "a8MYpqIOS1/jbDMdQEF6h7N1RJN4TN4ImJ7WlypMIq2cZ92/krN/twzM9g1hA7hsg91O7Rx8gAVf\n",
       "uziASb/EXWk6gGbpHS5htQj1PGyOgLF1VjKWNjzvpdkvOuufEQ71I/mKUABc9h/rdmrnaJQNvGk3\n",
       "pU38He52pgNolsHhwKchz8kbAZvXV05CEBdhZoXVRxXqD3s+Aly2wW6ndo5uSnPwQCIPze8svb3p\n",
       "AJpkcDjNM2xCL5DXByPrV9ylzlIijnOkFdh2R70iFAC5YdFY+Mdu7X5ndt7borKyqVi3A9rGTAfQ\n",
       "JKPD5yW02bxBXh9sy0i0c+aXbHdFOAKIlD6LXRbd0NPs19TCLdbCWL/1SGNUN+PhC2QT+Ja2MdMB\n",
       "NMnocBa/VnfWuTklrwtWTEnqfMPnaRJbioYbCEeAOPbaSw09zX4tOw1SIZxrF/I90gml0mKcIXcb\n",
       "bF/bmOkAmmR0uMDwb3zyn5K3B+PGWmp39pTppLbKudt7S4FwBPCjP3qpoafZ76iFc7SEOCacja4c\n",
       "CJvJOjLf0jZmOoAmmRwe1knniC0WFvfHGXfI24GRMGK5H/FcKWKO3ySvQqgAxEnlodYjOhWKpEX7\n",
       "NccjJyGWsGk9RhQxYQ8zx571qMVIPaRrOoAmmbwcfDydRwIVQj3ByHirmO6RV4KliYLbrqcQ1smP\n",
       "5LUBDh440TNGXqANrbRd5wUpq1BJD59fIK82HUB5sfK8s6k9O2dIqJjYQJm33jDGFv/HT8pjBVjK\n",
       "lUQz6OnMqXD65p6XEdoAh9hzomcwbPqpF2lbTMz9BLrIDFzUkMkjy/OweTAdQJPMDjckn8/qAvFW\n",
       "5iGScGEhU7lYeRtYOLY6RVslg8IQdjvLzQhNgOOu39bTTyHAzrjaUuz0PIqLk3vaUnLYpOp5wnIw\n",
       "HUCTzA4XeSurC8R6s4BIHzYJHyAPwCIgYa7KhCDdZXEy71Lq0VQXnwI08u2mnka/VBrJBZLtARGP\n",
       "ySlTUQZdzbR4xoVzXjlXBrSNmQ6gSYLDc4IrqgIxpyV5njKr+uQBGEohhlcZmoTp5E/mDOMfyjoZ\n",
       "oQUAqsVUJMYNPY1+aGHb/00Lj8LGTzmzl+Vf7jcTOAou/Ja2MdOXHfghx9wXiOmkYiOJPG0gFTFX\n",
       "5K1jIc2ywvNrqDcvsj7SIpYPLALQLA8O3xeIpdmtPE+H7VVYynwDl2WfLbo8rtm+VfX9UAujH1gE\n",
       "oFnWDq8LxFulJN2FXV2VHsmT4SrqGGjU44tm9ScX6Q+0PL2huQQFWTu8LhAL+FWCXNIF3R3yzpp+\n",
       "PDKt/oK8B1o+mV0ACrLrcG3CnjdEixn+UYV4/CsBYf+CvZ+12C+4A9As7TLz/3z5LXuEFF27AAAA\n",
       "AElFTkSuQmCC\n",
       "\" style=\"display:inline;vertical-align:middle;\" /></a></dd>"
      ],
      "text/plain": [
       "<IPython.core.display.HTML object>"
      ]
     },
     "metadata": {},
     "output_type": "display_data"
    },
    {
     "data": {
      "text/html": [
       "<dt><a class=\"ProveItLink\" href=\"../logic/sets/disjointness/_theory_nbs_/axioms.ipynb#vacuously_disjoint\">proveit.logic.sets.disjointness.vacuously_disjoint</a></dt><dd><a class=\"ProveItLink\" href=\"../logic/sets/disjointness/__pv_it/axioms/be31749269034760e1e677de7ebbac06cedb14e10/expr.ipynb\"><img src=\"data:image/png;base64,iVBORw0KGgoAAAANSUhEUgAAAFUAAAAVBAMAAADFg78FAAAAMFBMVEX///8AAAAAAAAAAAAAAAAA\n",
       "AAAAAAAAAAAAAAAAAAAAAAAAAAAAAAAAAAAAAAAAAAAv3aB7AAAAD3RSTlMAdt3vRCKJMhBUu82r\n",
       "Zpm9SALjAAAACXBIWXMAAA7EAAAOxAGVKw4bAAABoElEQVQoz42Tz0sCQRTHv/7aXdfMNSgJCoSI\n",
       "Lh6EhAgyjKCzdgqCWj1Ex+4J7rlAN7rVISG6RIc9RnTwEGRQ2F8gHroGlZYgaL3ZWcVkIx+82Xlv\n",
       "Prz9zrwZYCjzIIlhbRIrfDIWgyfOpxmNl4n/Rr0qHM98pQF3hycr/FfdEFDN8ZD8micaAK8HyUK0\n",
       "rs6a+Xklr/bYP8zB2Si5S/uHzZms16DBR4KFdKiBzSWI00FDmNGRD76wcH85NaV4K5EHwkaZaqEE\n",
       "aREC1b3FARBGQRdnISsUIqKLn3CadVlJ+A3IBjsHXGFVg4KA7lQhNinEOdC2WKfOhERRUCCZrLM1\n",
       "DmJzlP9i7CXwbrGuBA3iG3JdVsp814g9o3zLjnX31d2Av2nV7fSxQk9DGL6ipfcIeCLWVYO70WN9\n",
       "Jkubpb0RGMNIm60ca7ggVlyAT2XgDWMFQ+DHxQ8unw59lLLz5bXgRIJYbO3cgcJs/f6kXsLjLttW\n",
       "mAlJDPQpoNu2b458fbD723u2bNW6P30mR0/tr4WchKc48FLSZXtWKjJ8SEuBmvoD1+h6pR3OkfYA\n",
       "AAAASUVORK5CYII=\n",
       "\" style=\"display:inline;vertical-align:middle;\" /></a></dd>"
      ],
      "text/plain": [
       "<IPython.core.display.HTML object>"
      ]
     },
     "metadata": {},
     "output_type": "display_data"
    },
    {
     "data": {
      "text/html": [
       "<dt><a class=\"ProveItLink\" href=\"../logic/sets/disjointness/_theory_nbs_/axioms.ipynb#disjoint_pair_def\">proveit.logic.sets.disjointness.disjoint_pair_def</a></dt><dd><a class=\"ProveItLink\" href=\"../logic/sets/disjointness/__pv_it/axioms/f14adaabad7a4e2f200a61c0eb734bfa1255d07e0/expr.ipynb\"><img src=\"data:image/png;base64,iVBORw0KGgoAAAANSUhEUgAAAWIAAAAXBAMAAADD6liPAAAAMFBMVEX///8AAAAAAAAAAAAAAAAA\n",
       "AAAAAAAAAAAAAAAAAAAAAAAAAAAAAAAAAAAAAAAAAAAv3aB7AAAAD3RSTlMAq1RmmUTNIjK7EInv\n",
       "3XZ/CtNrAAAACXBIWXMAAA7EAAAOxAGVKw4bAAAFA0lEQVRIx9VXb2hbVRQ/eUmb5KX5U5miKCYi\n",
       "DGQTI4zhPrgFdOoIatAvQ0QrKtKszAxkUKw2Fb8IqwkiVkTaCCoW55qKfz6Uuab+YVaUTDcY07DM\n",
       "FvdFslrrNhWt55x778t7N++t9eMu5L13fzm/c3/33HPPuw/gMmnF9ZkF1+mu8H/YBU+CtzfjtjrD\n",
       "awr6eX2CYym+7dfgrqaXsQdBtkc6kNDY2wmGyWWCkBvdqUaVRvgpB0Np7kdOCVx2rbZJ3J5Wff/E\n",
       "b71XvQ6w4OZ0kwvByYuldU60EjgqYHS5k5Cn3BW/y9fhHDya4SffBYHLLk6Br2afmN+qRewpAySL\n",
       "0F3p9EnGGuHW/p1OXl4n3QTRbcAwuhyh7Ci7K76Dr/EcmBKQClQXnuFrQMQkkLQScLjJ0/JnOn2S\n",
       "sZMwetZ8Me/gbdFJWRgcBobRJcUhknJXPKsUe7VFERnR+fSItZ934NMOHH1edLvxN6LCqBNCpHZ/\n",
       "xc7r0dfmB1iYKgh4Hvxp4dEtjfvWUBxa4dtGURma56yJJ/E3gAF8XHQpn8NyOht1go/+8DftvG49\n",
       "kT+H/FROwOjy20bjG3dBAdp4M61SLjiQgJe3/wKH58C8b5G6oYG7W9fDDf/0pnjN2BpusQb6GuCt\n",
       "k3ifFhOjpDPzaoE1QpRNMnZeJKEpWYZ6PCVgdHkPwBv2JG03mtPBFBzB2SXMMro2l2G0AOPYhegV\n",
       "UCrAcbYTkXwASlUV+z9bZxjcyt0DGJRG46uKZewgsOJgws7z8+LeS6zGMVZsVFExw+hynzQ3j7Kf\n",
       "l1ZmdskFjGIAX+NaEU50zUOM5vojQKkYTkB4FuJpqfh7vmZgWIUmhjVlM8VvM/dEQEKvWMYOgk2x\n",
       "4hmzWux+D+QwKxhGl+FKhBM1sixqYh1iktCDReJfgClSDKfHMS+XQ2gUr5LiMsSbUvGXPNqrdyZV\n",
       "ycHpQOQiPpQoEjWJHkwoYwfBpljxQkt6HkcpbgyjS6MpNt7u70TNxaK0ZCkOWYrfP71Cq/MHKi67\n",
       "KT6Ef9TlAHEc349MeJh6+0SyBPeAQ7Ei2BQrXpce470jUKoImFz2bWe0+ZiQmYIP0lZWWDEOVqj0\n",
       "iBhnbIqrapFx60TVQCV04MO5wc3cvZ0TslF0ZoUi2BQrnlHX8vijBVLKMLn8kHdxDO4SRXxhy9Vq\n",
       "cbHk9Ms8NprgS2Mef4ElPmcpfoIVj9MLn4rkkty+5zCBSrRNtolEy9jeq+Mawa5Y8fz6G200DzMS\n",
       "JpdDbL0bfhUBAXODegfjH0M5SKZRnzEP4QIqPlCEPSS3mxV/woqphg3RDC+AeZ6IAyiIS4MoY3Al\n",
       "1TJZ1aedBIdixQtU9TpbN09JOKtKOGRnkhyfDRxUsbtxFcxsq3QsdF3tnc9aH1OtCGanc9h9L1l7\n",
       "YaIGvmuJMwowuZoHY+J8FRoIXLPa29vPb5MT7fPJoAqXRoAwFypaBosX1d9Z/r2LFQmfsM6AKJSV\n",
       "z+Gyq7ftSeio5G4tajttG/aqHqy3D8qmzTi6xvH8OR2IFBSsXAI8iDsqZVYh+BeYxxWonUgWgxdd\n",
       "B7AfeCL6qcfN2O2E1HkCc4Utl4EamPc/GZqDrX/P7LKOB2Hn18Cb8qDR0cbaj4fs+KCX8dilv3zK\n",
       "3rDu0tDOsk7qs2cq7kNMth+bHjNxGk9eUnG44A3rLh/S+s+v83Ow6f4xVfAy9iDIdtYb7nCZvgw+\n",
       "qv8DizKGo9G6KfcAAAAASUVORK5CYII=\n",
       "\" style=\"display:inline;vertical-align:middle;\" /></a></dd>"
      ],
      "text/plain": [
       "<IPython.core.display.HTML object>"
      ]
     },
     "metadata": {},
     "output_type": "display_data"
    },
    {
     "data": {
      "text/html": [
       "<dt><a class=\"ProveItLink\" href=\"../logic/sets/disjointness/_theory_nbs_/axioms.ipynb#disjoint_induction\">proveit.logic.sets.disjointness.disjoint_induction</a></dt><dd><a class=\"ProveItLink\" href=\"../logic/sets/disjointness/__pv_it/axioms/da1727f8601009f71456048fd617c96f91b3a7cb0/expr.ipynb\"><img src=\"data:image/png;base64,iVBORw0KGgoAAAANSUhEUgAAA1gAAAAzBAMAAAB4arSfAAAAMFBMVEX///8AAAAAAAAAAAAAAAAA\n",
       "AAAAAAAAAAAAAAAAAAAAAAAAAAAAAAAAAAAAAAAAAAAv3aB7AAAAD3RSTlMAq1RmmUTNIjK7EInv\n",
       "3XZ/CtNrAAAACXBIWXMAAA7EAAAOxAGVKw4bAAANPklEQVR42u2ce4wbxR3Hf17bu3vr8yO0IKAQ\n",
       "u6KNRAPEUlPUSBDMI5AQVNzwR1EbGvOoKElUHAmlDQTO4Q9UxJEzqDS5CHJGpKh5cYaqtM2V5C4Q\n",
       "CKGAaamo0pziUygQmlyOy+tyIXHntbuzs+u1L936zmpGOt/OeNae2c/8Zn7z3d8awD1t2LABzqaJ\n",
       "kOogsbdyxMMvbMmdvehjTdoa+r+rcqJW1b97+sVfGfMZWe97n20yWk8W2MGMhsLyFcd6RiRB/i0V\n",
       "y5fWPlXJVHnjx00GSyqNC6wrhfzBHaC8Tg9fo8NHz+ppKv13v/hJ99f+MnlILJlRmTTpvhxEkk1G\n",
       "6+XxgKW8JRYchSBbEuN0cgoaKyQxQo1ah1QRB1ul9rdNs8GCt5FxjwAsbDJY4eQ4wAqXxZKjAGxC\n",
       "1liJPj8rKfwaoM0MxIV1xlbgkK49bhssp+lomN5s8+CucYB1FTjAqrZYEVitNPOHbYIXaSuwp9BD\n",
       "I2KRH5X4EbBWNiJk9LeiGWjdMw6w3hkDrA4Cawq1iPKhhNVExAKH9Ehk2ObfoIlRRlOxzKaVfc2y\n",
       "mViQbTisyKgw9rd+dhSW9oG6bzAT2pOAdYOzcPaxNx4ZKEvxD85BVebSSQ+mWX0CW4FDSkmHxaLW\n",
       "PGgXIzihGMmqeTz9NsMCJscaDiscs272tkMIWdadsB6gBN0J9SNoKaMsfJBQj0OYWNbdpOY86LD6\n",
       "/LYCewom1JM2a107eB6G7KduS/u7/Si9WWiCRWu04bA6rDNOSwZ7g/AUzC9AGaKJcBHUEZSFZwEO\n",
       "M1h/pUYCbYjzC+a+iRRoPZNcrnMAlC/EskNZkPDWQOolhk6VAfXpJhAxTjcc1kXWbHcZNAIrfOJT\n",
       "QLA60DJ0EsPqBDjNYO0gV/VXN8TzoA6WjPmUFAQgUKr+ZftvuNamzqBRANgzUbFTr/Wx0k2xiU/r\n",
       "uYbD6hMMTYelvVZJIVjT0gAnnGC9hFCWuI08K4imlZHqYxHtEk6JhdjUrkFvBIllLaEzqbKoCRat\n",
       "a7INhqUermJZD2KfmlrWEQ5WSJ8GEbZwLw+LFvgLLrAC6G8P2lF9dzC2bzXfgHja+KSr+0lqBnew\n",
       "O9lgWBFhkyrn2Zp1BRZ4o4nWFASPGrBkAmstdhWSVDrCl5hsnfUCCJWMvTSXyEJ2G5GktO+8jux5\n",
       "gJ2HG6Aeww5Gnm67iPHe2wwbrdZYg2G19Ap6wg7wHcZoLivAKgRL3QlyEZO6D8MKZUJMFVuOzz1O\n",
       "YXVnuAIsR5MC/KId4w8U/F1dWeWlDIxg/59Uk1HhfOypB5greS4+TjcDrJYShUWYXeIGq0aNukdH\n",
       "XihYt/WzU7EVf7nwR4P/TiNY8EDPuYCyK748/9IvYzBpC8YBsL6yEKSuY0UCK7ybK1DW0AK6vn2o\n",
       "H/QXQOs6VoBLK4vAV1Z78VyKq/m6vph0HnH9wgzQi+hvWVMITqEhCmuW+1yAYM3yZrboTrm9G3WU\n",
       "JMLcgkJWmm9xbz4AP7cWsHqcQ9+ai+SVoZxQ7WHdtgGc5tEJmPxHKSwsjil5N1g1atS9zSq7rGep\n",
       "Nsd13p8SYHF7YWX1L2+2FOijkDtuQ7blz6eEatdDsyX1NIUlo4EYSrjBqlGj3jQt4baeTXF+Y5XJ\n",
       "5tWTZeKRG1ZTqQxZCkzH3kjfBzmrTC5Yq3kw8Bq+Kz5CYfmTVH6uDqtGjbr3Ci4+srL1Quc31gsW\n",
       "aDNJ+ylOBmyp1pJtOlhki4i9wXf7+99x9wbda9SbDp3JNVLK3nf80+ZjBScYrNkAa9xhGTV4La7K\n",
       "ylxdrttWgLPpTNObDNYSUAR17OG5aX8fB0uvoe3kKm1ynNUsVeDxIz1zjGq3noV15qmfwWophLiN\n",
       "oTrQmZZiW+BmDpZeI8Tfztvm6C9YqoC/BBFjKxx3cPbGdUfq6/9owkE52J8gUpmY9jBYUpn3Hm5A\n",
       "liDNDBi+Loal17j9PbNesN1xNeGroMuRAv+QC6xvjOuFkSeiCSFvzslb1WFBZiaqc/3KgcgMFqYl\n",
       "PfqDMg+L1MB+1p2cfyU73lngqyDvOgGbk9WnQRa7VDt54r4pEwZW1qWB2PWeWX0ahFcWArwwP9ka\n",
       "i8SoqyzltnzTAuuVhdT/vZGjEsg4usg38tm2fdPPN+dNWxtb6gzg8ybSM1ieILAiVTacpIEYVrhQ\n",
       "1cGA5chGHvwEorlAkajVCFYgkudhLSdWdDscAFhGPyiYQ4vRvI/FNYdUMdPVoH3VdN1tHsly0vQ9\n",
       "aVhOqYV2s3IBokeRnvvssDySPS2rTl2BqzMq78HmL+9iUx9WLVfTBmJYEfuk1afD8uGrOBnaIZyA\n",
       "Kzs7OxNSTitmeFikBsztiRfUy2kDAj0vj0KvJsZR4ipcFpFqS1ffFNNwGFRjAVWVfOwmyoKURTny\n",
       "KtJTZk3T1RjZM9nTYsvVA1f57sQTIBnyDNa44znSQAxLG7V96hEdFkk7YT+0qfAEtSyYV+Zh6SpA\n",
       "W0430TIoI5BVe21CQVvOf923Z02lYLajC28gmmZz/WggWjQtRngaW7gH6MDwKNJTFxo3ZwxYHsme\n",
       "Yq+EfhQcutORZ1kyXstkhOIGYlgsTohf3U/ysJQhZFszAshLpx61YYkmrNuINI5gaUVy/w856S1p\n",
       "2Iiz7IVWkfbDDqmIS5RR0D40zu8QVyh1VIdVLX1Mxx3N/PeRniywdd+5BiyPZE+HIVirO/JxLWZR\n",
       "4nC8wS4Ga454pi7kssUthmaDJZ+Dgu+BP3kvm815WIE+0G79CYalbodbYrDuWBpLG+0J9S1oz+KX\n",
       "BKuyWssEErjWlSd75phXIpoSF9pSDVgqnT88i/RkA7b0uAHLI9mzPliW7viPPG++g3c1i7OkgQTW\n",
       "AfFUadgyDeppY2dnWpSb+ISnQUkftwU0GswLph+VpGLYb9YyzhTdRx8u6BnsSCuLY7By5ifw2nbQ\n",
       "vvcxzqqLbxqcDF8/NSkBHkZ60qcxpKKcNbxBb2RPzpRdAlct3YH3Oen6bYDn/0EbSGAtEN1BGhIx\n",
       "1tv66oFXAH6oe2OVEgSNz9WPtFgk7fvUrGWw6RU9d7RYbErAtjTIMS0PYdCG4cksrMUBqOFzoCML\n",
       "H3IG4UGkJ33iSM5KKQOWuzA65uQeuMp3B7aZOwn1xODA3ayBBFaHOL/7hs4EFkn8gPY7HNlrkfdF\n",
       "Hwdvq39NvMGWWHAX9k6G4Z+4pS0xHLARTbLeeRbpeRl5RU7FbgOWXRgF/+8sXoE9Y6Ixjp5g6px7\n",
       "4CrfHYiXLHZzWZI2kMBqE1cGGhLRyFA08UGBcIqEmnZjWLB3LZqbhnGdaBHDykO0zHrnWaRnB3lF\n",
       "2/RBAxaVPaWuVXCRvn1vtyvSVnnaSctmz7u5B65y3YHAEnNtw6FEoRHaQAKrW4TVVm4wLDHIE1uW\n",
       "asDauBctv8MS6kE07wTLi0jP+fo2Z7MBi8merSm4Cf1becEzugNgUaRDw46fz2nZ7Ea3e+AqD2u2\n",
       "ag6jaIw+ioQbSC1LnAYbHuQJt9hhGZalFLD/Si0rxcEqgoeRnpfrW+JAwpCbqOwZGQ2hmS4w27zu\n",
       "FkXaKk87adlTBMtyDFzluhPKwd4sv6nxHaUNpGuWuIG8GBoNa4Fg3L48iREka5ZUBl8SrVlv4GoG\n",
       "rHtI77yK9KSdDRuKoWzKnvDGFkOPmmJXpK3ytJOWzWC5B66a3YF/IWsp6u3E99A7MrSBzt5g4x9M\n",
       "CAsbLXyra3ka4kmERtqFQyOGoT0HizApmcB6lfSurkhPI8izeqQndZqJJa02YFHZkwiXWt70GS2K\n",
       "tCBPO2nZd7C9n2vgqtmd9eggOsraCYvR2CNPHs1lsK5y9s0aCUt0B4O4tXMHOz5QL+r7zdbB32Nv\n",
       "UJn7chplfxvve7SrD3xfw12oL9LTCPKsGulJ+0K2NysNWFT2hD+nqLEiP+inomhNMsErZomzYM68\n",
       "sQry5/S/a+Cq0Z3H398J6v2nUqSdcAH+EYEEu9gE1rXiMG/8w3S2x1R3iBWc13GvIj2VUtVbJKGX\n",
       "0MDx39fZ+TSsuFAUrUmmFbrFFRFr2cb3/cyh4bUDVy3tJA101AbH4TFVuKbgpLqb0lkVX8GrSM9A\n",
       "siqsLXixVOnHDIiiNckozKXnZkGsZU+/ZPq8P+p3e4RZvo7AVUs7SQMdVfenoPGwZOGiCt1/Vso4\n",
       "n+dRpKcY1m7CChTgUEHXMqbworUhTwM8w0nWhpZ9Rb41PdV0MCwCTe3AVWs7SQMxLH/Mvl40HJYq\n",
       "/GiJzzpNPDRQRYzwKNJzVTVY6/oLWhxNPctyDJYpWpvydCCHtWkqWWcNLbsl9yJc5wyrrsDVsthA\n",
       "cqdY8NzDiXGABfuFTWumvtOUshdfHslWtSy9PX/qfIa/7mQa1AfUlgivTetHYZgKpaQjrDF3hzTQ\n",
       "KQZjXH4OyPZDW1NhPFOVeyN3WERrXZ6WK6d4bVo/eh7tmCZnxwbL3WW2RzcFM/XC+punPw55l9Cy\n",
       "cY0blJ3jBmXLwPc7a9OCr6Le5VGbDu5J4hXUkh6j+Q0b9tc6+//wxyEfHfspv/gfNkf/WZWuyon/\n",
       "AOsTowHPKEIGAAAAAElFTkSuQmCC\n",
       "\" style=\"display:inline;vertical-align:middle;\" /></a></dd>"
      ],
      "text/plain": [
       "<IPython.core.display.HTML object>"
      ]
     },
     "metadata": {},
     "output_type": "display_data"
    },
    {
     "data": {
      "text/html": [
       "<dt><a class=\"ProveItLink\" href=\"../logic/sets/disjointness/_theory_nbs_/axioms.ipynb#distinct_def\">proveit.logic.sets.disjointness.distinct_def</a></dt><dd><a class=\"ProveItLink\" href=\"../logic/sets/disjointness/__pv_it/axioms/8f3d89e15fbe2633aedf18c36601466c977e8e320/expr.ipynb\"><img src=\"data:image/png;base64,iVBORw0KGgoAAAANSUhEUgAAAsgAAAAXBAMAAADkcqSWAAAAMFBMVEX///8AAAAAAAAAAAAAAAAA\n",
       "AAAAAAAAAAAAAAAAAAAAAAAAAAAAAAAAAAAAAAAAAAAv3aB7AAAAD3RSTlMAq1RmmUTNIjK7EInv\n",
       "3XZ/CtNrAAAACXBIWXMAAA7EAAAOxAGVKw4bAAAHaUlEQVRo3u1ZbWwURRh+e1+7t9trD0xIQAJH\n",
       "/GqEwsUgBmPgDBUwFXLB+EdJuIjVoCQsxphUGiiEH0ahLSZIIAYXAYOWwJVYjEKxiARSohZTDKk2\n",
       "XKWSqHAhDVgCUZyvnZ3Z2927tuAv3mQ2M3PPvu8zz86+M7MHUNSunIcRmnKHcXf2bgOVvWmh401D\n",
       "/Fl7QYzxSBFnkiMKV1gpSb/2EQ//tzuMc7dwbkS3VSRQqTOFHnW82Lr0oohev8PfmeSIwjEvwq0d\n",
       "4rjvAX+Ri2NcLZDF4X9NQ0OS9wlVGTcKu+gyaDuq3useeSoqM2RponGB1E0ZvsWXgsMRhV9kpR2e\n",
       "wV2v+YtcHONqn5LrujQsS9EOJKZVpaYLuJFbxCzss6OWDdEeHpkG1TLo0iHfpHe716EQCkV+7WC8\n",
       "cGmH9ThztPiLXBzjavPItTINGstUaJiahHhLwI3cgqnCPjsqsEegyUFDybsuMuaFSzuRWk/4i1wc\n",
       "42qd1nCtd7hAjAEBNwrrchXZy2jQcrjrIhNeXVjAIHqikSILX3GMa0rOOIbb7BRZvSbgRmHLhyMy\n",
       "DQoP/w8iL6cF7Ry+7+s7U2x3URTjZiG8nh3JN6eVlXFomnMpMPnsWFRVVy7IT0Jvb+2RxJR/xiQo\n",
       "TstPeP+QsH2Smy52oH/fEf5utTl/FaJCx7egLR5I88g0KNRaUgienCKLNIqLLFHqsHi1EQEXAuwo\n",
       "JnJRjOt6hOb//gR8k4ZIXGuBGMTQTI7EITYWmg1oSIRPQ4+FC0F/bpHwfOSmi6UqJoW4JLPwZVEf\n",
       "trO4KkXVBmGzATvtyD327J8ve6oQElcoI9O47EtnvpPSZYvXLCLgalDiLrdlRZE9MP4WQ4/1Q7LO\n",
       "R+PhLqggIqNdUrQTKpPwKgRO0fFi3BMw17zPvtXRdFnrjODNMr4nm+b4VYoKg/ALSlWNPDIV+Se8\n",
       "Ep+QPSmDIO01RRrr/NYkpyMGn0YLEjBq6mL+Unra4SmkaEoU2YEpzcrRAv8vwEE8XLiw0+Ait0Bl\n",
       "TruFIT0MB41kLmiz2K202do2wTOxkpnGk738oxwVBlWkXWXWisxEPomGOi7NPe0m7na9bPlYXeeg\n",
       "oY3zVll0ZHHA8GbKDQkYyNlrWtP4rTBFN0OmQ2QRMxyRVT7c1gvXJJHxL4LIAD/g8Ff4zbiZAp+U\n",
       "US6c85Y6noAUFQYD15HILYUiw8Ydlic1T170w3wqqc+aMg29zmeotiOe0usYr6X0yJyZw/PQQnyy\n",
       "y6V0cIgsYIaVLvicUkyY2xhDjvlMvkZFztJ0AeEh+Bygmh+VcfM6rGv09L7M0PgZpFrOyXJUNpNT\n",
       "gshZli7oMY54CnQ7Tnnk9CfQmGH6jXWLkxKBV9OCBTz0Okoo85oG2Pm06qG1OnxR01OTFkTGGMgv\n",
       "GLA+oQhV2xydUfRgV7DsGMhBWTIiiIxyMgTgFTxehNO2lnXiajU9O7Dmk3h0hWPDp4rP0hPRyY2y\n",
       "BpjtQEhRUU7+DgmQ5pFJULQS0j0A9URF1jvtUwvaXYg04Kh4sHGwERxZlI5avGZTARvQM9u9NFlu\n",
       "aORQV6V/8lLBTMaYCmN8hOUloSp8L3B06uiehjRMTqLBBbogaugZHY8zQoaKFpYv4TAeL8IFbuzp\n",
       "DCeIyNrfwJuIO27Sy8GMUJnx3nOwhLK2tmOCSVGRyJsa4Q07MglKt30dlicmMskZBzNMZIEG25PJ\n",
       "RHhLcGRRIvBaWrCAZeg5vXMJKs0wWRurIPVHgcgYE4SdKigk+5DqkgF5MSSdYmrEO83afPNZdeLx\n",
       "vcfyyM2Yr1F13+TjGz4+DlpN3oCy+02C0xbnHnyMvV99Jm+qvaRJczfO6LSCevfkA/MSlDXqOeec\n",
       "XVLUQVBq29J2ZBIUNjNtqCdR5FivNZMFGmyfjNlwIpyN4MiiRODnaOGfMSehDB1csX37B0jk1kiB\n",
       "yNSGADb08mqndtUxuCG5Wep3aBuHRQ7Yr2S9KTUtexRE1mhx7/Z1P+i+YjRKJwxBZOpfOJjUc9U8\n",
       "2XQ4KJEOzAsXLuBpqFHVLJ3J4enOfTKbmp0KQC+vGqrjowPunPn8VN6eWaLIMyWRdXtnlFIMoemy\n",
       "hces2bcezy8Vyg3vr0ruImdlkQkNBvVi0+GgRDowL1wsAZWrcL6KnuoeB+h3/WjfoGdCRORWVo2m\n",
       "UVXLWhfSOb0lZq98Rmki2zgs8gF7Br270RSaPBnwnRJlDfV+zj/y+jSyTTrGEZHpRpf6t09/hAbZ\n",
       "MYMnm8sOSgRez4olYDgOfyWhHr1C6s8oVbqKHPr92J9E5E0JWl2Iq+op2GTgC+0sa3zbjl/i11GO\n",
       "W7PqGIC92fzx9m2xyRdY+z8RwprI5Wlr+j32Xp+Jxzjl8C0UaH/S9m+f/ggN7QSpe7HhjhglAt/G\n",
       "ivzXkvbV9q0uHz+k3IrTBfWomzmrCrwzBhftv23WlpgvSsV5/PVjjOg2BbFXnha3Q2vGSt+6xZbS\n",
       "5v+lV3ZE4ZgXLldODpda05kEhOncWHW726riR0hru2BqEu7Z6C3oVg3e08XT/gMEprCmefwX+QAA\n",
       "AABJRU5ErkJggg==\n",
       "\" style=\"display:inline;vertical-align:middle;\" /></a></dd>"
      ],
      "text/plain": [
       "<IPython.core.display.HTML object>"
      ]
     },
     "metadata": {},
     "output_type": "display_data"
    },
    {
     "data": {
      "text/html": [
       "<dt><a class=\"ProveItLink\" href=\"../logic/sets/cardinality/_theory_nbs_/axioms.ipynb#empty_card\">proveit.logic.sets.cardinality.empty_card</a></dt><dd><a class=\"ProveItLink\" href=\"../logic/sets/cardinality/__pv_it/axioms/c8461ef3c312a771af56f5c8e024224fedeb55c20/expr.ipynb\"><img src=\"data:image/png;base64,iVBORw0KGgoAAAANSUhEUgAAADkAAAAWBAMAAACIzClVAAAAMFBMVEX///8AAAAAAAAAAAAAAAAA\n",
       "AAAAAAAAAAAAAAAAAAAAAAAAAAAAAAAAAAAAAAAAAAAv3aB7AAAAD3RSTlMAIolEdjJUZt27EJmr\n",
       "782vM/RyAAAACXBIWXMAAA7EAAAOxAGVKw4bAAAA4UlEQVQoz2NgAAFWBhxAAIjTIyA0JlBmYIiU\n",
       "2gOmsct2MewNwJRV8hYAybJNYGifgCHLl8DVCJLlVmCc+AFDtoKBQRMky1HAUvURQ3YOA0P+AqAo\n",
       "bwHfqs8Ysr8ZGOITgKL8CRwM39BluUCyBWDZJJjsjg4Q6AGyGD8BZR1AsgWbuTBMBssqgO1tYMSQ\n",
       "5QLK2oP08rkeYP2FzVX5IFcxbSlgvoBuL8NMBoZ6kI9Y+xYwKWDorWVg2AcO5x0MKxZgyHIkcF0F\n",
       "y9a57MKMI65NPgFgUUVoXGGPQQbayLqi0SgAAHw4PCSS1A3HAAAAAElFTkSuQmCC\n",
       "\" style=\"display:inline;vertical-align:middle;\" /></a></dd>"
      ],
      "text/plain": [
       "<IPython.core.display.HTML object>"
      ]
     },
     "metadata": {},
     "output_type": "display_data"
    },
    {
     "data": {
      "text/html": [
       "<dt><a class=\"ProveItLink\" href=\"../logic/sets/cardinality/_theory_nbs_/axioms.ipynb#card_induction\">proveit.logic.sets.cardinality.card_induction</a></dt><dd><a class=\"ProveItLink\" href=\"../logic/sets/cardinality/__pv_it/axioms/30e1e12878a55096e65f4f6ac2b61f2c91236c0a0/expr.ipynb\"><img src=\"data:image/png;base64,iVBORw0KGgoAAAANSUhEUgAAAV4AAAAXCAMAAAB01dc4AAAAPFBMVEX///8AAAAAAAAAAAAAAAAA\n",
       "AAAAAAAAAAAAAAAAAAAAAAAAAAAAAAAAAAAAAAAAAAAAAAAAAAAAAAAAAAAo1xBWAAAAE3RSTlMA\n",
       "q1RmmUTNIjK7EInv3XbPqdvtPAm6/gAAAAlwSFlzAAAOxAAADsQBlSsOGwAABAxJREFUWMPtWYmO\n",
       "3CAMxdxX6MH//2sDBAKEMGG0bUdq0e7KSYwfPIyxWYQ+tInjd6FpxjobWPQm38YVC+Ne6vBXmsP7\n",
       "H8OWunCmu1cSVPXqiblb3KdjYa4RoHzA5HPYxaadEqbUGERmU8ReD94qWGLoHvdlZ7klfJdpjAIt\n",
       "3fjnuLPmLR8qeIJW/ng69WhF3jayVL99Te8Ed95ZA+V5eXle5iDIvLxCfY7zUtJMkyYWSZo8OhkT\n",
       "8LX0TnC7zuyy1V2ml+Q1j0Im2+DPode2fHjZhLXfR+8Et+uM3S29yNYCOdaBf1Dk5c00mU9DlPI3\n",
       "0zvDXaCXk1qwW2jWfFBsMM00tfdGVp/n9GrnQEtzbMYleme4C/QaqAUaTSj9aOJDcfj8ohF5/y0v\n",
       "f54S8XsDMaeX8jIOBw7RpOXsiF66VQ0e4S7Qm8+IJMQx1gOtI7hxjriTier4U51GezKKjYYBEQs3\n",
       "FKoxQOIPd3xop7y3U3qFTdwQEWjRCNKj8Pi5985wF+jFthGC446hoxHp0T29p8bxSTpQajeGAZnd\n",
       "Lh1siqDy7fsYIB0JbMAH9eyeXgH8+CorR04pE8dP6Z3hlnfJ863tPL+it8wnCWGOfHKSwoTeU0Md\n",
       "uYzMRYoL+3QQ0aMK6DHAYJrHjtXFD7eqKisSraKbrVzLcIbeo7fFXfBeZluBI3JoO0fF/pO7pKNT\n",
       "TOg9NVRTsiAsMRPupLdYjioabgCumzSrijJ8VfSJG9VnzO8KWl9quZexd4a7Ehy2VjD4SH6dQKBQ\n",
       "2U17F6/IIGKe4qmhYoFz4ss9OGCW6S2Wk4pjNwBnsZSnlAdLy0qxjCK47jMHvQcmCE6TkwC7kDnM\n",
       "cFeONtUKIh9AJEJUB43G1MOM3lNDtbXMTu8eHFxBypaTiroDaDKbOCW6mSbbiflpcABNNnnJcLGX\n",
       "mu6UMvxG3jvDfUmv8aLL74oA5zh9tVN12moTeisNFTMRFRtO9GpTx/RkOap8+6HwGOC4HamniRhQ\n",
       "gKamFIZvnDt9LSA0dQ5hSvA7ZcUM9wW9ANbzI1vZyhl8AZT2DIXJA5q7iI7eWiP8kabx3v276y1H\n",
       "leNgGwAc45JLl4BfVhRPcF96b5WT9kLJHfeDNibmOpBA474AcU9vraHa4iRdHjpItk7LQSWfGgOA\n",
       "5lbkj9M7wX15pdPfC1VC+eJCmh/u0SwO5Vy47RSTo63WUMkTZd5n6X4Tsq1sOajkUnMA0CQHS/TW\n",
       "9dm1lnto7h738VjKZpxeQeJZrdWJ1bM2IfaymS1tfl5V+vtTtUxvXZ+ddixZYuge9/FYStqoJvfn\n",
       "TL9H7xNbT/4tIkJsc3LlFkNQ6AgWpnnzxNwt7tOxONELwyiEvo7e3hZo9L+NF3coDp8nO/Df4esX\n",
       "JUMprPG62NsAAAAASUVORK5CYII=\n",
       "\" style=\"display:inline;vertical-align:middle;\" /></a></dd>"
      ],
      "text/plain": [
       "<IPython.core.display.HTML object>"
      ]
     },
     "metadata": {},
     "output_type": "display_data"
    },
    {
     "data": {
      "text/html": [
       "<dt><a class=\"ProveItLink\" href=\"../logic/sets/functions/_theory_nbs_/axioms.ipynb#functions_def\">proveit.logic.sets.functions.functions_def</a></dt><dd><a class=\"ProveItLink\" href=\"../logic/sets/functions/__pv_it/axioms/2228d474e096a5d243ea8bec4457f92ddc17cb330/expr.ipynb\"><img src=\"data:image/png;base64,iVBORw0KGgoAAAANSUhEUgAAAZkAAAAWBAMAAADgGvxEAAAAMFBMVEX///8AAAAAAAAAAAAAAAAA\n",
       "AAAAAAAAAAAAAAAAAAAAAAAAAAAAAAAAAAAAAAAAAAAv3aB7AAAAD3RSTlMAq1RmmUTNIjK7EInv\n",
       "3XZ/CtNrAAAACXBIWXMAAA7EAAAOxAGVKw4bAAAFqklEQVRYw9VYb2gcVRCfu729P3vJ5YKhNFLJ\n",
       "FbVQrPbUWMkHmwtG21JbA4JoW9ozoYTGotcvQtAk6xdBjCZWQk2wzRVKof6BpKBQQzGNVKtSuYpK\n",
       "ClnY2kKpaGxrm6YpJr6Z997u3u3umfabD+beZOfNe/ObNzM7G4DFjJyg0pEw9P9S/XMSIrevF/Hg\n",
       "c2Wsww1zsLiRSHFyjXgLPy9bRvlzUE0fPf/xmwe/3W/xdr4jTkn8+97yez8gCGDjl15WhS97KCnD\n",
       "V6qXfIho4LwbTQCnYNrnwOAI/obG8haPPnWtbliort6lk4BZgtNT+Li9LBgty4npLJ3wQrPaCw1U\n",
       "9APU6YgmnHehCaFm2C84DtPvaG/K4nF0uNZ9BxCYJQFawqY3MVL6y6IJpTkxA+8f8kLTdMNLrYcF\n",
       "2I4MolEyLjRRjIlOvxOfpN+JF/MWj6PelV3zAOo1EqAl9dxv8VRZNBWCmHHCyYn9xq82mvjrs84k\n",
       "kw5vZJneaCIa+N6dN+joo34njuOPOmfz3A5x+iXD4ImqsHOVeRKgJWxSmNPD5dNmhSCA4/yB+kre\n",
       "eTfdiavOmJcXUcdod47QtLnRPMomv+IR5GFdsHmenjxxnv9dPgiwCA9/SwK0BOWnDeOH8mg2CoKH\n",
       "T9fQg9fyRZGWCf7tXF6wg/rgJFUBGHWjqTCMqRG/0EaBsuxMRvDa9N3vsHuMU8WKdDgzU7tHJwFa\n",
       "gvL1AEXJkHdt3mZ5d54/aC/KGzUVveVcvpJP0ZvT59qAo1mDDzYZOM4IvZAOsZKjtOJLqDIlH4Jz\n",
       "5iaGj67JUTr6DkwvwaVMgJagfA9EELPWzO9RO0XT29fGNsg33E+CICLyI1uEJgSRK0VvJ+6cBCsN\n",
       "q9IczSr33bBD95Q8/VQeWEl53KNL/nFozN/Fgo5SyJEWf+Ug+DWQAC1BeSxPNsUe43vFeQ4oBUjI\n",
       "/DspCIK8EkdZcBpnLTSXmptugu18w1ig+Isx9fgsR9Pn8fYcIgmN92oHcPpKFqMK2mC1xevwNJ1L\n",
       "x/fiEbwIf4RKOglwR5QHTUJbJa79hR95gmVAuVyKhuclaP1OqzQWEP84TVV30lSV5AUHbd7mgeYh\n",
       "64pD67ler1mE5riDJ6NUcu8RexsMCVY1UYA7kjy7Ft2+TJRL8yW+SQo+S5dGWixZnOe0R4jNU05T\n",
       "3+J+6WPqgesczYPuvIGwwuxIXOheJ1uFRDhZFGnv27x6Az5mNtK5ldZBUSw+dS0kiLcI+VEqEg1i\n",
       "S36p0HO+fqnUOiAIKoTzpp1onmPzq0407VZQQ1+Wo2nwuJv4Cob6YqC/VV61GZKXFTOt+0BeGwiM\n",
       "AyttCi1MWF0fZmZ0BkhAVQDlb5BLmkWgwR80PwFajdQalTW2RzSL4ZQjm/F6h3Pu981u5tJv8hzN\n",
       "Rg80kROMScdMXeUxoOpWolIpjlyXfHD20LiaEoUboNUqfWz9tg5exSlKUB6g9P9AvFvG6ihQamzb\n",
       "4V1BIi9ZqtRukVZpwzN5WLnwssNSXk1qsSNMiQr9i1cPTXdflQNl1+DgXuwxR+dkCBUcJacA2mbz\n",
       "vkcwxrhBBwd4KAewrd0LXIA7Vtqd+SkRaKIwsu5yh1UwdU7QZCX6MWdnU34wNJGC7xdBL+Si3OWm\n",
       "9QIAmESHJ22ejy4xb91vFHcRXXzHLvvNxfzyCSVBVUobgcgcaD9bvX2GKJhsve3vFI4mlPbRi4x/\n",
       "ARn+8sZ4u+roL5fLcK4v6UW9m1Tc0ZZHWQz2pkInQHt2Z3QC1twa22C3ovuIKoeyd4im01dv89bp\n",
       "PHTivT+ThEMz8nEsB2cP27yA7tfpowAz2JZT0y7tD5YsP0KkXMjdIZp95fW0Y4MDJT1OP6xdZ/Ml\n",
       "sEoHCtiOtjy2nPlHlX3TllLwJif3l/Qi/i9w0v5GWLxetwd/0W8xEySmWhzyOL5CFPlXGv6n41+L\n",
       "B5EIApTT3wAAAABJRU5ErkJggg==\n",
       "\" style=\"display:inline;vertical-align:middle;\" /></a></dd>"
      ],
      "text/plain": [
       "<IPython.core.display.HTML object>"
      ]
     },
     "metadata": {},
     "output_type": "display_data"
    },
    {
     "data": {
      "text/html": [
       "<dt><a class=\"ProveItLink\" href=\"../logic/sets/functions/images/_theory_nbs_/axioms.ipynb#set_image_def\">proveit.logic.sets.functions.images.set_image_def</a></dt><dd><a class=\"ProveItLink\" href=\"../logic/sets/functions/images/__pv_it/axioms/b0847d02082266150472c17f24c0e55906adbc420/expr.ipynb\"><img src=\"data:image/png;base64,iVBORw0KGgoAAAANSUhEUgAAAP0AAAAZBAMAAAAIzjVbAAAAMFBMVEX///8AAAAAAAAAAAAAAAAA\n",
       "AAAAAAAAAAAAAAAAAAAAAAAAAAAAAAAAAAAAAAAAAAAv3aB7AAAAD3RSTlMAq1RmmUTNIjK7EInv\n",
       "3XZ/CtNrAAAACXBIWXMAAA7EAAAOxAGVKw4bAAADyUlEQVRIx7VWS0hUURg+3hnnce/MOERYguRE\n",
       "VAuLsYVCEDHSlIVCQ20kAqdEAjfdNkEgzAStejBJgY0Lm4VFQ2HqJspMUwIxDIlcCiPpJszEhYVQ\n",
       "9v/n3Me5954ZN3pg/jmP77/f+V/nHEJKtHqyo829xboU40eJbef3Piy9/twyWqJSNZRFGs/4Taom\n",
       "0HtYSHCyNP8jyyiPIhSh/ZuElBecCqGOHDdgUAa83SsiCAI8jJ0DQveM07/md2zo2wOilvWvw++7\n",
       "UyOa4zRq9VkK7BYxhID8NHauCdNjEKWyd4K8zWL7qxI5yRJjE4Qn59AYJboG0aE6cFTEIG+AZ4om\n",
       "QgUNZuCg5roQbMddx3ZWA7F1xYrwMw0NSjSgkJ+0s90pEdFihhrYppt5Az/Num/G0iCni/AzjYA5\n",
       "PV2U/xzsDvbpES7+5L4JrQl+h1hiFH5F2OaF/EweslhZhH8ZfjPz85+Fi5Uojs3s1oZoVbN2bkTR\n",
       "uUNifk0DoQMLL0YiDCjmR1edJYQvDtnoZan8Z4sXtAskg6nZQPcyTxutInKG00BoLLTPPcuAy0L+\n",
       "TBrj6kVtOc4S5lVaX7xCff2Hx3+lMkZSqHHEUbCTnAZAXapro6yOAVPCFEtBivtzCia6v54RjxnA\n",
       "b7TUVnn8J1oIj+M1WDAZO31lgtMAqI+4aREiUK4UbeA1aEgFmn4VLM/L7xcs9iuzDv4BAOPsZfvX\n",
       "7vRyGhQaoB9DoNJhA1O6FNqcxGNYqh5mVe4JW/j9YYf/oZyDeDQedcS/m9Og0DZVzjFg1HZayVPU\n",
       "M3hHDHdi9zibL7iNc6vKtEBvfeghLNhVU8Oe/5oGQPOJaqJowPc6xreQxTApa8ZR0UU3HGfuT4fG\n",
       "+eKkGWI2rKQutPG3UYwOfk0DoNG7LVArDGjUX5ylWesXlCdQlKXNy849MrTBFyeJWggegFGbnUR6\n",
       "ug4FOCfmjxrQ/hXpFGbdnLa00rSohrRjuUCj22jqTrFpruACCSsCL8w0l+6zYv5GO5QCYSmkVnki\n",
       "ee0yYWdFO38VyYM0tmvc/SeFr1oI+DvHvGB4fkPDhFIgLLlIn49cZHOtNLqy4WviGye+CdISJv3r\n",
       "CXMq2Ju0MvSY3VvC49zU6LEAqbmQNQ1wkUNMmkdqILqusMUyyfa5XcS1qBLnI8ixFeM4i3AaeR4o\n",
       "T1KDvOSe5n5a+kHj6/79MLxU8v2nXX3G20UVrDZGnFAEeodgoUtJuuG0xTmIQkWEf/8pKyDsAZUG\n",
       "t/e5vfThB/E+wd5HIp/v2PL9uyPv/5fZrJ5gbvDFf1Ts+BbBYfHjAAAAAElFTkSuQmCC\n",
       "\" style=\"display:inline;vertical-align:middle;\" /></a></dd>"
      ],
      "text/plain": [
       "<IPython.core.display.HTML object>"
      ]
     },
     "metadata": {},
     "output_type": "display_data"
    },
    {
     "data": {
      "text/html": [
       "<dt><a class=\"ProveItLink\" href=\"../logic/sets/functions/injections/_theory_nbs_/axioms.ipynb#injective_def\">proveit.logic.sets.functions.injections.injective_def</a></dt><dd><a class=\"ProveItLink\" href=\"../logic/sets/functions/injections/__pv_it/axioms/2b2f642643127f05db20f5f1c25ec967e12d64980/expr.ipynb\"><img src=\"data:image/png;base64,iVBORw0KGgoAAAANSUhEUgAAAmQAAABACAMAAACDbZuHAAAAUVBMVEX///8AAAAAAAAAAAAAAAAA\n",
       "AAAAAAAAAAAAAAAAAAAAAAAAAAAAAAAAAAAAAAAAAAAAAAAAAAAAAAAAAAAAAAAAAAAAAAAAAAAA\n",
       "AAAAAAAAAAAsiKZwAAAAGnRSTlMAq1RmmUTNIjK7EInv3Xbh+fvl1/Ptyef16aOoTZEAAAAJcEhZ\n",
       "cwAADsQAAA7EAZUrDhsAAAwjSURBVHja7Z2L1qQoDoBFkKsyO72zN9//QdcbSBAIVlVr9bScM+0/\n",
       "lpUS+AwhhNg031ZYe+LidpwKveKu5h/S81+a6+YpV5VubvdxONtbFvmcnJHWkgsr3K90yeGhLFPi\n",
       "B5AviLRvQdZNRZ77kuXlzylvvh2yhpIHp1z3KvC/cibkTche+Y4ofi57/WHINMCWoVdUQNao9sEp\n",
       "U5Q5NtvFkOkesZ+4aT4LmbQ2HNAH9IoayHT/DJjZHm7vhoxxzI7XH4ZsuiRAyPbYFVWQnTQcf6vS\n",
       "Hh7AiyGTI2LBDab5mZB1ZDRmagNLrdHvQCaQUf93LgO7FzJOMAj1T4VsMvkWu6Gb1PrwDmQp0+Mp\n",
       "bjQSd0LWYs8/Uc0FkMnlvpV9BzLaPzRlVYm6E7IBY+i8WzWCTPAMZGocR7NBtgJC2HbuJcjE+Eww\n",
       "87pE3geZxDpGxpqOGaNPQcZHVJNpumoyjmoyOlFIpsKVPEB2tDyeslPF7oOMYNfT6AJDJHaDELJ2\n",
       "RCDTYyNlwyehIiAmq8l6td24PEDG+ANT1ocw3gaZHrGHn/B4MO/UKU3GyMHqE4aPZldahs0DpLGW\n",
       "icwV4XdHu1WUHSCz4wNTHgx6F2QU8180PYnkR4RZNUyFZyEzwozy9fpYkbljusEWQta+80t/+/GS\n",
       "3wWZQi8foV/AwFGs41YXNZmwk355o0Ity4zvvBcHyORj+ZfGS3ETZCPqnwBalpJ+ICycOGpkuGSz\n",
       "fnkn7GdImmSaDAnDX18SYPTLzi/pPZB1I+a/jN0CIzCUuEBssq6d9cs7TtI2CiEYlbWWcJpwYcC7\n",
       "Y0NQnhWnqSfJPZCxsTvn4hDQ6uGY4c8OtTtvlYF5hl2VfusX9SFkj8+/YJT190DG0SWjDmLYAvGy\n",
       "d5pCpSGzirFpdhl8qvl8+R//+HMuP5Y/f3h988c/53//+tN/uJQxvAW1tZSfTUDIHkdZyf7Wt0CG\n",
       "h9BGmgza/VqVNZm2lb9SrBEPMXda0U0uH8jqh4SwK6+DTOB2fwSZIkWrPIJs6/LhnTVFCeYW0lmv\n",
       "xKm3xyart/zZHZC1+JMvIh8edJBaW4Kso25QfqNCcG6xmWQTbDxpkz2zy5K+UHdAZkeLXaLBJSKe\n",
       "KPA2D5novTHweqBX5Cfjq8yu9/othOxZIS935QAg27V7S1+DrEoCq+gUsLDaxghrojqdhEyrcVxI\n",
       "aOc/Xp71mXA2S/zq+H7f0BnbPSwVLPARQMa69GhRD1mVBFWxDAMCkRIRzp1RxWWlnz4xB8tKT5h/\n",
       "oQxB80yQSddN4mzEoIOsSgKvGMdYH7DDq4aj2yAzw0NSU9fds03mTA7TvghZlYS+4smn/ppB6bpQ\n",
       "mtsgU88kslRUYE3MkFE3MXvZ8K+RMFbMErS322gQivOdkD2Ty2IhgQm+zC5XX3pvXoasRkINZI06\n",
       "7eC8C7Lu2a50DjK2mOThsp0+CdlRwmuQnd+ecRdk5gmMLZvXgaZfIBPE/eMY64OZoFQjM4YpWYAs\n",
       "kqAZo4eRsAYyfdovcBdk/eMlOwfZooJM0L0G+LToMo9K7L0OnLFQgqKHNCx6rFJSpxXETZDZZ0cc\n",
       "0pGBY32FrLXAaO8kWNFZIwfpWIIMSkhMJCsha3r5S0D2KLLTkE180AArC3d6L9fogZYgCyW0pD/6\n",
       "MmohO5k56ibI7GORnYfMtEH8gYX7vcRoKWVENkXIQglUvWr4z7TS74dM9M/U8rRNNrVaEMUsocmx\n",
       "mGSasDJkoQTG3oBMD+LbIdPDM1i+AFkTKKppKmlIYFWteInEvA9EYQQSFH0DssyGkSxk1+eMTdfv\n",
       "KaAc/GSg2BUpGV3SjbIMGWa899VxQeLLNzTqJ/ziTci24L/5Em1W3vQyQiDDJbDxU6poqItaoF/e\n",
       "g2QYht/RILNTvVdW6hZl1EFNBYPCYlppNvKuWfJQUD6a2RWbskIykMke+9XC6PftgfO/8bRyW6Gu\n",
       "C9YZoiiMQpeXBWUgoyxt01ToqCD0Qpx5yOQHHlRZ9aP3QiaqzotPiBeHcy4MgtoKUT0MWixApF+A\n",
       "TLUk2eW2xjzfTWpbP4EzHZw3vOjYmaV09qshyzVKdD5bC6brxTshuzAHWVPzGoPQLVqEDKMiCZlJ\n",
       "b/hoaMVmWLEHLQYXY0nKIGTVO0mi7GOrFEtrIHs9Yv2tkmuUNm7ZTC3kcaA7iNGqH6AQL8xDZnG3\n",
       "kYhi/F8vpzaSdBV7u5k5Dpt4kjIAWTvW3xTIPrZJif0n8drFcmOvR6y/NavNNEoivDPtBTrGOKTE\n",
       "cBYJcUcPmcbncKC3r4NMj/hI4822MIgDTVIGIEtkKMs/bWH2sU1KZFDqgScgez1i/Z2SaxRG68xi\n",
       "eXzKU2L2wFEWHf3v4KsyNNx4duEO8gG9es993Yc/giUpA/Ej+QxlSPYxk9rAO40VpEvYZC9HrL9T\n",
       "co2SmsynXmahxLEDj2KCc07IdtwhY+izxcJeuDThCqZi/ItB2hAhNElZAFkpQxmSfcxJgU/pEBsy\n",
       "HLT3ldOAXKO0qZtI6JruqMhSYoJzTsh23CHDA52AZXwhZBSdXvpsnt42q0pSFkBWzFBWzj7mpBgS\n",
       "mdrQ7Npu8dWI9XdGy0yj+POCGCtsohYZ8zEthhNrSQuEbMcdsg41ykBKkgshE2ieAqUSzyGepGyH\n",
       "rJyhrJx9zEkBsUbzz0ENuH1aEW8e26QAmOor08opbBR3vpsVssumE9Riy9Pxn/8e83QkxOh5l7Re\n",
       "Bx0nhPIIMvTFMrATrsy02GM7FX0UWxDlUJGkbIcMyVBWzD7mpLR9bCoDtxB3WqOBEev+Kzxtr4CI\n",
       "9kZh85iEmFyjbOfXV6Ox4ViL7OOZErPuWV6DVp2Q7bhDJjDHugW9diVkBlOyfn207wKXBOjCVJIy\n",
       "D9khQxlItoNkH3NSZPCDq1sZOP4c5XHE+v4d9wxLS5Tq9sq3dZBt5JKDPs41ynZ+TWvu3k0l467p\n",
       "EsozKWap4KqInJDtuEOGbsVQfXMTZAJLueI1WdCeFUnKXF+jGcqK2ceclK6PHVPhW5g8ZFHEetCi\n",
       "2zPMWPgwRxHtBciIAGKSkIFG2c4vFqbv/a7HFVlSzELp9hpUJ6Q7ajKJuKvIXZA1nJ8fLiuSlDk8\n",
       "sAxl5exjfrgcDo7Y8KXofP/DreFpQ60RXuxk5+mD0z2KaA8hA19vOgPEpIdL0Cjr+TUjkt+IEdRi\n",
       "Uef/+yuROy0hZvWSsXXMcUK2Y2iTCWSOJ2+DjCL35l/fFbxbqyJJ2YYHmqGsnH3MG/7qQHS4HMp3\n",
       "ArmLkxVBq9vJgrMsVrlRRHsImf86U3P51/Qf9WIAEplGWc+vm++n+XkroloAxx7UjUcxzYyHe/Ot\n",
       "E7Id62eXfGhug0wjy5fe/bJPwGuSlK14oBnKkOxjXh/ungLfB8F6jEfFx5vPweZ7dNNMyDQb64Ai\n",
       "iyPaQ8jg150C3MSAamYaZTs/Q9JOVi2LapH2EWbFELrv43dCtuMOGbIHO0pmePFb4liPyNseEDmk\n",
       "7f4mmaRsxqMiQxmSfcxBNviW34craRPTWxdsMhsz+5LxbEsxMgGy6KVNehzRHkIGvu4V4CYGjPaZ\n",
       "RtnOa2KNFMTKqBZ5RZYRY/wy1QCbJPD4E2SG19wImUZMf2/b+gCxmiRl5iPBtJsUgfhZ+LFOs3uK\n",
       "6q0bx7VRpYGDZWQsq8TX5+Hyx7/VOlyOib7JNUoimi6qRZt86jAxTog71q5dHnr54jf3IusRXsmv\n",
       "a7KVSco+ChmjJyFr+tmm6qhew9UnW2oxYQKXXBDRntJk7utNuITtxACTNtMoidXwqBY8+bogTIwT\n",
       "4o61URjssLRy8Yvuh6IqC0yb2a6qTFL2ScjQsIrjDXWMttbQZg1Xl2ydmwhvx4UR7QnI/NcBmU4M\n",
       "NP0zjXJY+Y5qQROKDBfjhHhhHjJKyhZZdzNkSMYl0obGSWWSsk9CpsRpyEL1ADwT88iXubXMOwkQ\n",
       "P2KuUQ7ew6gWqUhWXIwT4oXtkbHlPjwgeDVkSEaV/ekStl7kR2L8F3vQolCXbr+rXspU5wEuNUp0\n",
       "Pq5FbesAMU7ILqwuxp8eo4wuhyx096Qe5m9/YVEJhPpQ7CRk7ZfvBqzarSQSm27fhGwuJxP06rLa\n",
       "+fZ9l/wj+y5/vZ2bdhg2F215N0o08eQLIu9Apru5nB2qxPPG279viXfXywUR/X/ea4BdWgTnAgAA\n",
       "AABJRU5ErkJggg==\n",
       "\" style=\"display:inline;vertical-align:middle;\" /></a></dd>"
      ],
      "text/plain": [
       "<IPython.core.display.HTML object>"
      ]
     },
     "metadata": {},
     "output_type": "display_data"
    },
    {
     "data": {
      "text/html": [
       "<dt><a class=\"ProveItLink\" href=\"../logic/sets/functions/surjections/_theory_nbs_/axioms.ipynb#surjective_def\">proveit.logic.sets.functions.surjections.surjective_def</a></dt><dd><a class=\"ProveItLink\" href=\"../logic/sets/functions/surjections/__pv_it/axioms/eeddd6b66b031a33f7115b1fedaaa1b29629166e0/expr.ipynb\"><img src=\"data:image/png;base64,iVBORw0KGgoAAAANSUhEUgAAAdgAAAA/CAMAAAB0MSklAAAAP1BMVEX///8AAAAAAAAAAAAAAAAA\n",
       "AAAAAAAAAAAAAAAAAAAAAAAAAAAAAAAAAAAAAAAAAAAAAAAAAAAAAAAAAAAAAADFBd4eAAAAFHRS\n",
       "TlMAq1RmmUTNIjK7EInv3Xbh+fvl8+nnyKUAAAAJcEhZcwAADsQAAA7EAZUrDhsAAAmuSURBVHja\n",
       "7Z3plqsqEEYVkBnuxPs/61UTCQXIYNKGXuvw49gnoUjJFiiGL5mm62lxWzKdVsTWMqD2wtDmAZ5+\n",
       "KpGteLn9JamchkyJY3Sngqa3wC5r4n1GltYqc+4oDc0/XnP6UXHcDErWCvh/vkF5F+wVG1bOgOk0\n",
       "JNgJz2OCnYTKOH03WKkr/SbXclCwk0BjgpUZireDJbX2SNU0KlipB+2MUerY3WC547VgSA4Ltm/0\n",
       "vzMZ8m2wtFY1Rk3jgmW1+OBrTTZx7GawqFYzvLPB3gs2G6YMkaj4LlgjKhlmMY0MFutp1CbLvwmW\n",
       "V2dX3WsNMVhGfxIsc4MGxpMm3wQ7uyp52FUTpWQfWOrerSIsnJvXRAVPwGailEEScV8EK12tWjAs\n",
       "UM285mAEFjn3gadfPB9DnoAldFCwS9TX3QoW1+Y600wj7xbR12LJ/H7gypx93h1JwFo3KNhJ0++B\n",
       "FdXseobFx1StMGuip2AVU65z6Xqy7OT5w0/AIVjUXfx9fTH7GlhXDXkdmE6oaN9ooVYWWyyza5Pq\n",
       "vSNETiIBqlkClg8bPSHYF98JdnHVWWDoHJ61mQkIeGWlKybJ/TXNwbJDrJxNJniSP7hF+O4AMn8L\n",
       "LHFL1TngjoMbt5RVxtgFbU2qew0BiSgyF9bameLMdAf6REyQvr7aqPW3wNLqqhLs6Fg0ntFa8ETS\n",
       "B7dtlAURmn0MVshvQ0Gwo649rRGM/BLY+lGLBbRpBEvn+mgcIg/WCkLWqPj1rqR79r/+/mdN/z7+\n",
       "3C///eNf2ZMLP1c8n3wfhkGwo05ko+jiRrCsHjvBFhvFTlKUW6y0jY9Pehs0fJ6OJn8Exb8FLAKu\n",
       "3QgW1esEghVzOciJwD5LN93LuRwEZfwIj+ajGf+SMZaDhnMjWOtsvVGHMaeO8ltbArvgYyTvvQsY\n",
       "lD2H2LWeaHaMHTUqXgN28x2wpD4FlCF7lgTRFJ2DZdrHEJ1LT9E8lj4KWrRvxyHYcXcB1mfOQbCv\n",
       "PgTha2DbShANizbhHgVKnho5i0VmwUrh3A4CbX/0Ba4qdGv2OwAvgHCBYhkWrAnD4hUsWYoTxQaw\n",
       "bSXQhqYU7hfnzqEsShSXFH9mggiWFOWwYEEFr2D5UTWsd5P7ANtWgm6oE6JfvGhTp3czWGWG5bp2\n",
       "iQscY4/BRKGLYNtKaNlQwwd8I2TbBtkVsOQ6WDGPC3YOx/8NLMaFlZ0msE0ltICVh2/YEvZjYM11\n",
       "sOMGxRmw02NJR6vLYJtKaNoCF73z/wtgrb4Mdhn1mOJj2oEjsGSPC8MFU9kJNi0h0xhbwHafFmsA\n",
       "a7FVcg2cDUd2zb3Mbj9w83i5D6yi028Cy+bjnwOCDqYAXDiiFBG8ADYqQRKCU7AtzGTvdKIOVqwl\n",
       "SvOcgm4RGdfhy11gNRoYrApXAR6ebk1NLWGW8AawOevAXgsUsASBUwleG9juNlEFy3cfhV3Byv36\n",
       "AOtf7gFr9fS7wCILAp+Fg9W8x243diWwsITcxKYR7KT5Z8E+Ovf1Htjm7HyA9S/3gB26webArkxw\n",
       "8KKFSow9jzS4BDYsAc06N+9pPD/Yp6JsbbHUArAS+5c7wNqRR9jcGLtNQIMdDgtPWTJnMSYzn4pg\n",
       "wxKwuBwVb5WNPwp2H1bZCmcHu/W90k2c+5fbwTLNfh1YFhwP3IbHcDDZh1iZ7bQCsGEJhLwDVhr2\n",
       "UbCTstukWM6OrB3wtvWqiPIvt4OVZuiOODeP3V58Ncg1BFZzMEo+kLJcuBru7gQliGyb061bQazn\n",
       "2x5u+w6Kk7saHWw4wE7wuNEjy+J4GWw1/jHN6+dsxLO7chmcK9w+S8A+96s3+FI9GMu9H6p0xSD+\n",
       "ldXP/ZM+n0y0uwO7nn2olMStY9Gum8HUqW15Ak3NYLk+6dWWP5X/k0m7aWpcSqlFC3mwOD85tE1D\n",
       "IYuu9WSNebsreJbBOhzM1EY515WQmvUYg4WCIthFXgAr0JyvZ9xyJNcieG2Zly8w8ro4u99KWWyz\n",
       "g7m3lnyup0uL7ffK2zQYs/YzT9UWlgOrrD3LXJ+ZIAWvzyhdtoNtP8sGdbCPUixudDDn2Ot8LFI5\n",
       "lyzud8vb2AYYc3NXfAXseVjpqo3p2FwPN9mrGlkFD5l3uBTqYJ+lxDOtaAmt7BifWZIrdKlxGgfk\n",
       "ud6maozBKdA7lQCmmvvYEyJgCaWikQVge/SxQAf7LCWKD6ShWQcDx5R4JfdYW4FbWy+XMOl262VT\n",
       "NSZg1nGvKKtW5zq6ThmNbCKRBdtS5/rYRAYLdbAqdzp87QDnJedgzrE1t0pyQZeaVjAjea6WjcZw\n",
       "ELoTLK6FxYjC614vcMs0I5ENwJb0sYkMFupgj1LgSrWZuMg4mHFseu1Hh7mgS03L4JE819vUjKG2\n",
       "5U6wrKbxIApeU41sbrUxAFvUx5r8WPbUwR6lqDkKlcITteeO7e+yOFfskmo5xxPJc71NxTjSj96q\n",
       "aNeVAwvHMxk+m1AXkju3/AJb1sei+NtfgQ72KAXsGm4fF7b0c8d2Fplc0KWg8FPdTyzP9TaV/UwL\n",
       "x6BbwarKavGxfRJso0QaWVoMnir6WCiDjXSwRylIh1Hu7o1MHEwdy91G6hJqOGsQy3O9TcVYwLdv\n",
       "Bcsqsiy9wOsU6zyyElkPNtHHglYRy2AjHexRCk82rIJ5+alj2dtIXeIN9RXLc71N2VhGD/S9X+BF\n",
       "aS9YGKJkJbIHkqo+FspgIx3sUcqi40lrcOLt1LETsLFLS0OLjeW53qZsHH/V0r1gcXnCk+mKo5P3\n",
       "pgC2po+FMthYB+u7YpMsTrx+ouDcsXxXHLsUFH42xibyXG+DihEKjd69F6wsLxcfZwaDs4ORRja3\n",
       "XPlEUtXHRoFXpIP1wZNInqLX8vO5Y7nbSF3CdXVUIs/1NkVjFk8Gbv72U1LsTo6A/hXYJ+c2Mkqt\n",
       "B5KqPjaex0Y6WN/uXzMaj84fqS44lrmN1CVS3wZJ5LnepmisYhI3g5XF8IkbeM2EKBmJ7IakQR8L\n",
       "ZLCpDvYAazyw2X8Ot1PVseQ2ci6Z2o50Rp7rbUrGab3e/Q3j5SPXx8aq32DNaGQTiaz6yP79sxRW\n",
       "nmqXHMvkivvLCxpMb1M0Junqy90/9mBKTfZY6H5cGzWyHwVLyut2bY6drdeTC8fhvE3JODMw3A62\n",
       "rFcTLLg2amQ/Cbaq/W5zTGTvsV9YHtgUjee0/7gdbFmcc0xU92ujRvaTYEXtA9scy38llbhwOMbb\n",
       "lIxxZuPnfrBlIRSz8NqC5CNnnvZVBVuv+jbHcrnsBa7epmTMcsd93wV74UcLpflzDPWjKd7P+8CP\n",
       "Fsrlwo8Wjnke/Pem5CT7/qOFi/wfthFlI4HX+E4AAAAASUVORK5CYII=\n",
       "\" style=\"display:inline;vertical-align:middle;\" /></a></dd>"
      ],
      "text/plain": [
       "<IPython.core.display.HTML object>"
      ]
     },
     "metadata": {},
     "output_type": "display_data"
    },
    {
     "data": {
      "text/html": [
       "<dt><a class=\"ProveItLink\" href=\"../logic/sets/functions/bijections/_theory_nbs_/axioms.ipynb#bijective_def\">proveit.logic.sets.functions.bijections.bijective_def</a></dt><dd><a class=\"ProveItLink\" href=\"../logic/sets/functions/bijections/__pv_it/axioms/11baf34a26927fa841541f3e826bbe3990c964c40/expr.ipynb\"><img src=\"data:image/png;base64,iVBORw0KGgoAAAANSUhEUgAAAkoAAABNCAMAAABuZ7s6AAAAQlBMVEX///8AAAAAAAAAAAAAAAAA\n",
       "AAAAAAAAAAAAAAAAAAAAAAAAAAAAAAAAAAAAAAAAAAAAAAAAAAAAAAAAAAAAAAAAAACGKEuzAAAA\n",
       "FXRSTlMAq1RmmUTNIjK7EInv3Xbh+fvl1/OhCx0iAAAACXBIWXMAAA7EAAAOxAGVKw4bAAALI0lE\n",
       "QVR42u2d2YKkKBBFVRCVbVb//1fHJTUJBSMUXKYsH3pqurMtb3mEAOF0lj3x4AX9s0XbHeyKi+q/\n",
       "key/kkJmv0fKo26HI9/9F0WJ3LQ9pyzyCyPrkaHavJalahXdjBhEoqRYd5S7H2/k5jORPRyljOWv\n",
       "bUDUMnrPAMtjUaqO/LVCbz/StZZpUZKATY5+goBS1hSvZUn7qgl2B0pSI4WNUFlSlGprjdseo5+g\n",
       "oCT1a7u40nfbb0EpF1gZLdOi1H3EAcVq7BMklPbVcz/ryJtnoFS3SG1l9jVKO1Eq81apjgfLrJIx\n",
       "KFXHevcfUXm3xSNQEgI7qTwTpa4SG0qdjmdpYlDKGvVWlLLGPAGlAmuUfK1ncpTqIXhjY1Bi+rUo\n",
       "1a19AEoCu2e7ZxsXKFUigFLTtq36oDRikPPP7x1CydfMv6ZZ0vej5OF5+5xcKbkLJdGirZJkY6sk\n",
       "0FaJdazl3SGaeoVSZvhrUSpWj9H1KOVYJbS4JJXXutiDUtEiKMk2q+tMdCetHC6CrZJuPtddr1Di\n",
       "4rUoZa24GyXZYpXQYqpAF2Wzq1Xi+eqiKiVa9W2AFO+7NGUtrwKfAIMV+5lL4SuUbPtelKZH6z6U\n",
       "GFpfaABGuWzEbGO6QwRRUpVahtxz2Gp1wfXnv3aFUhHznf7nR9mqm1Fq0JE+vEQF+51SWLnZKlW2\n",
       "aysiquGCr56+TwWmqxVK9Yvr7qzV96IkW3Sg5A7gWK5Nzt3BmUQ6ON63FTELToy3VJK58ZTd8pKl\n",
       "LU8dwy2a5KtRYi02rbcYYcPxnqiQWqkshuUKMUOTZpGwsdbmgnkmA+DVceMcL3inYhc/5qtRyrH5\n",
       "yUWnUUH0BVZ28+HvRN1IC6p8OyYs5jfQEKX3znd3N0rcipJGv18JYCvA52s9PfWNHyXbcN6N4Jw/\n",
       "laL/+B9//tUffw9f/j23HX/80//671/zHw5H617BNBU31/IQpfdOLHXhYdl7MUqEUgm2SrDqls12\n",
       "qyTH/qY1MZlKsMJzauGmAdwvSt8uAvYwF6NUoLNKC5SafLMmXqD0ubEm5t1YDSr7eiqs5575t1aa\n",
       "A8M69mKUOF5cVGBUpOG0obVbKJVselxinrUqW5dKTmEAUXrxCK5jp7kRJYFPxEiX9WpZpYsijFKl\n",
       "52Hq8YVEi3klMZ6z1HNb5aL05ve5/c3XN6KkCdPDmoeq7mF+pymlFyXZtO1wv4v+i8MjK+VeYD6/\n",
       "y/0iA6coyxejJOHLzotRagmr2oTTbHrWvJaq2XxxcvYBX5y8ejdcCxqGa1GqKHuluP4SIkgdyG0o\n",
       "KfNmkjID+vdrUSoow3Q2PeqmkbRFHLeh1OSvRkmAIdy1KNmWwIacWGfOIpBTUOKxKL16ANdPkKjb\n",
       "UFItZdl2s/cWH0XJRKJUvnfLyfgogjdU16KUk96O7V59fxAlqyNRUuLVJHUtg1ig9L0RBTuIEvEU\n",
       "DelFg9w7xCaiNG58k42pC5sH98PtQEkXb0fJLFDi850T1UGUiKcQtHdWe592GkrTxrdhXrEfGvr3\n",
       "w9FRsvrdJHWlr16gVE93otq7AW1GiXgKQ1yUoev0KM0b36p+hNhvgPPvh6Oj9PZGqYOnXdZK00sB\n",
       "VRxFiXgKTURpnxOHhtK08a1Dqf+vXeyH24+SfXml5EWJTa9Bj5fdtFPolvj0C3ZSqyQsQMmzH46K\n",
       "UqWrt6NUrFHKxhVlWh1HiXYKTZ2IkaZKjdK88W1Aqe/R/PvhiChJ8/buzY8SH2oTdyGq3IvS+hSe\n",
       "g26MrPa4HokuynHjm8y72p/pfn2bZz8cNpEyuSizhr2epKz0oFTl0y8TSW7hW3djeKV4U2+htDiF\n",
       "5Jz5UCI/ytWzd5jJ8pek3kQqlygNrYkq3RkD8KLOhMa+ks3ngqdoWOlhgbFfr+wPOiRzm4tq/J/C\n",
       "goq5rMHqxXF845sYd2a74Sn8qy9a+uSjK1v+UeLlB4WZI4AE9DjeVqmDgDnw2Ey4lewwgSIN20TJ\n",
       "PUWRa++sAL2Dcxcq/Sjx8tPCjBFAAnIcP0qqcFi00NFRtZYxntfZNkruKVgTKLuJKLkTS6nFyyfY\n",
       "cuni5cdZpD8RQAJqnNpTdvfDYWeHaw0Lo6FUkt5ZPBcl9xScR00GuLLl1OLlU2y5VPFycot0KpRg\n",
       "AmKc0otS5jQ63XBNuRakEaLKV+eAlQHOKQJDZSpK7tLs1OLlU2y5VPFy+jCpUAIJiHECKLmFUgY3\n",
       "WI/vmsq2RlByL9A/lDc0lNwl0+eKl5PZcmkl0AlhUqEEE9DiYCh9NpP1VY1UI1VDkW+wDs4tNgI/\n",
       "MkF7ceLKls8VLyez5dLEyyeESYYSSECLU6xWBsARxlDxSN6KMhvMfUx0D67i/u4zgFIdWH7RkF7n\n",
       "urLlS8TLKWy5FPHyGWGSoQQTkDzSbLVeaSsL+sPxosQCL9pz0nolV7Z8mng5tS2XsvTzjDDpUAIJ\n",
       "SCtZ7WoV5UZnKI+g1BR5HZoTo/xs3IIqVrzsMy8ftuVuoUTZqHtGmHQogQSkfcdwqf42Smh0L0rK\n",
       "WtL3JpwzWrzs8wcct+Uuzcv7xMunhNl5bLmjQQKKR5qDTubabQKMsnnJvaRY8bLHvBxjy12alzfF\n",
       "ywoRW6cIc6QZCrqjQQKKR7q5cR9c2VIqCuH/OjsgXvaZl2OOhXl5S7wsjdgIdluYDXc0SEDxSIsb\n",
       "d+eSNnq7suVI8XKkeXklXl6al7fEy5blZTjYRWHQBG4EkIDikdY3OgOylvB5d8IgTrwca15eiZeX\n",
       "5uUt8bLJ6iYc7KIwaAI3AkhA8UhDmcjFKBnCKpPQAG6/eDnavGz8hcZsXt4QLxdqtZHrjjBYAjcC\n",
       "SEDwSFe3+pVyygUWoSHpTvFyvHl5IV5emZeDMsHx6mCbcEsYLAFUINjg9fkrX3EjSrYlDJmLQCu7\n",
       "V7ycwLwMxcsr83JYvDxuDDQyy24OgySAKKlgd+y/mepGlEp8NsCVLUeJl9fm5ZV4+WNbHsXLg4R5\n",
       "U7y8Mi+HbbnjJC2YYLsozL4EECUeihPoYoobUZL4EC7cKu0TLycxL0Px8sq8HETpI4YCG8jvCYMk\n",
       "iEHJ3Ort7r59dRilfeLlFOZlKF5em5eDtdI0PcmDY6KLwmAJImoluZgkvBolhdbdrmw5QrycxLy8\n",
       "KIZX5uWgeNnMA7Ps3jBYgrB5DL1RxaJwuxqlEi0cXdnycfFyEvPyclZmZV4OiZe/Wy6czYN3hEET\n",
       "BN9I4+9zF6XS9f8eHP6PnLiy5YPi5UTmZSBe9pmXQ+LlfP792t4aBk0ApyhLfxzanbwcJY5OyLuy\n",
       "5R8lXn5kGB1Y+4zGqZf9y+Uoleh8Bdeer3+CePmRYVwfosl2xFm9xLn+X/TW2CCEOc/DjxIvXxKG\n",
       "H48AEqBxhM7uRslinbB0cL9OvByNEv5K6JIw5niEXQO49Tuc61HK0DGcK1u+TLwcixJFvHxBmN1+\n",
       "zG8EkACNk69qqRtQUlhB5y5Rv0q8HF9oUNaHpg8Tbf39RgAJsDhy3SDcgJLECm9XtnyWeDk5ShTH\n",
       "afow8dbfgKUVi2Pb6gEodZeBPDDuI3GOeDk5SrSOJXWYBNbfr6VV7+knNc+egBK+SdXdJ36GeDk9\n",
       "SkTxcuIwCay/c4SdjZJ8BkoF9reOO3FuQokqXk4cJoH1d4oAEli0UmLZM1DKOLYdzpUtnyBeTo0S\n",
       "XbycOEy89ffzKZAAjePdZnwPSplBfqKubPkM8XJalHaIl1OHibb+jhFAAjRO6aU0GqXh2H37UGWV\n",
       "u2z+DPFy/HFQvPykMN8IIAEaxywHombEIOpiJBuO/ebhEntmXNnyjxIvPzEMSIDGWX9gpIBl/wF+\n",
       "UZjguKejIAAAAABJRU5ErkJggg==\n",
       "\" style=\"display:inline;vertical-align:middle;\" /></a></dd>"
      ],
      "text/plain": [
       "<IPython.core.display.HTML object>"
      ]
     },
     "metadata": {},
     "output_type": "display_data"
    },
    {
     "data": {
      "text/html": [
       "<dt><a class=\"ProveItLink\" href=\"../logic/classes/membership/_theory_nbs_/axioms.ipynb#not_in_class_def\">proveit.logic.classes.membership.not_in_class_def</a></dt><dd><a class=\"ProveItLink\" href=\"../logic/classes/membership/__pv_it/axioms/03e5da56ed25c73199bb4234f567574cd0ad0d120/expr.ipynb\"><img src=\"data:image/png;base64,iVBORw0KGgoAAAANSUhEUgAAASYAAAAmCAMAAABebcZcAAAAP1BMVEX///8AAAAAAAAAAAAAAAAA\n",
       "AAAAAAAAAAAAAAAAAAAAAAAAAAAAAAAAAAAAAAAAAAAAAAAAAAAAAAAAAAAAAADFBd4eAAAAFHRS\n",
       "TlMAq1RmmUTNIjK7EInv3Xbp8+P3nXbhrUQAAAAJcEhZcwAADsQAAA7EAZUrDhsAAAR8SURBVGje\n",
       "1ZqJ0tsoDIDNbcDQbtfv/6w1PkA+AGE6uy7T+SfVJOizbkiGoWNxOnxvvYUy0qBk7UDki1Z6DTU6\n",
       "g5I1LiY/aKUeKEZwsjbjT+Z7VuqD0hQna1nSfjCY+qDMg5FNXzTQ+YPB1Av1VNj6KrD7YjD1QqlZ\n",
       "oWT4IvDFYOqH0hYnwy6iocHLLkL7sveNJ6h3zW66azhkb9bM0mtfbgboEU143Puy+iDU26yjN5RV\n",
       "lgoUZS3hnexNy0E5lkug8ZoQwga17OJRBFl944sqAtWv1Y3vrgAoQcZF9HqDEjaDgb7SPUQxMiYf\n",
       "go1yx5CBl9cHoLDrrD7QynsOBFl0tmpJbJJYeSUEXOmRtRv3XdZIYBzRtBkCChlKF/XBboepAcoq\n",
       "O8xmW8bNKWVSqcB57X78dHl6GWc3sW2DmOUmDFQGZlmypD5MXuOxmxmgjO3eaXLFHOsDzX9OyCWi\n",
       "yZjfxc7RNePmPFmtTgV9c6lIrjA19aG+HbKEssmmYGQ3NU0Hqadwe9RCT8xoQUyqEKelyqXmlJBm\n",
       "s6atjrzcIqAyMFX1y4u4SULZZHx9i26ZzFTyw2H0xR2e+IEn1WtLYL4UTL5wwOcOrGS9fLwBqAxM\n",
       "VX2wtb+jrDJFjj9PCU24tcaaa+uNRG57xVToNEuOpaeQ16Hpupe7N3BaHeV2fcCI93zJwVx2epwf\n",
       "YuYClE0WAsk+tm2xQekrvJjj26ft1Qib6X6nsTzCP7+WPzqz1wQauDketVrBr6DRwQkqA7MuXVIf\n",
       "TJKsfpFRnyngdK/2lA/ZaALYkz9321P7fNjLJRA6XjrOCzMBqGeYWzTd1EMzAZRdJmMJ8Z6r5d8l\n",
       "2Uc61JJu9ebyOWNOA5O7FQ6wF09RHyPd1WqToygzPcFcm8FdPaxNAGWXWbqXEK/C8VHu6ojLV8uY\n",
       "9dpv3hIDmc4KvR9EDJ2nvVREivWKVWdcfa27il+hMjAI9bBdApRdpo7BjK0YccDKzsQmNYmtby4T\n",
       "mOELmYC+ljQNTY970U2/SJi8OpbkR4YIlYFBqIftMqFEGZgBQfmP6X3XkJ56XMPE8MVdlLPTOw35\n",
       "JUxxL8OXgyc89DlRPXTnDz8HVAZGi+vMc1MfMlfcUJIMtIR02UJ2x/l745QpIl1+zGb/Wr2fDwp7\n",
       "wTxwiBvKrD5ZzlgRYUpD/nGzB1CuV8dqGqxchzMTIs5sXcU/eJinNlA4roKhqbAX6lg7IPTxjvuz\n",
       "mNPujmKvzuNeWB/OPuNE16Dk238f7iySVOcC5HTnkN8r84F8EVfZi5T+i2dN7ii6cIIq3xcY0HxN\n",
       "7uFs61dcGnXjldVn5v4v649GB1EKl6Ki4hgNQl9lzm2t39x45L1gTt8J6t0SeweDKKJwKVorEuwP\n",
       "1IE/vvqhrMTJ0Bd/s/iemfqhJoqTddn9f1+9UH7CyVoMP37QTkWo0TP7HwfTX/i7nfDlSHni8BIn\n",
       "a1qSfdBOBShdC381KZSssWA69T0zFaDCD99M8aMUJWtdSn7w5xZ5KGEZKyWAZjhZO9IXq/hbKCMK\n",
       "st8D/Cgy3+OS+QAAAABJRU5ErkJggg==\n",
       "\" style=\"display:inline;vertical-align:middle;\" /></a></dd>"
      ],
      "text/plain": [
       "<IPython.core.display.HTML object>"
      ]
     },
     "metadata": {},
     "output_type": "display_data"
    },
    {
     "data": {
      "text/html": [
       "<h4>proveit.numbers</h4>"
      ],
      "text/plain": [
       "<IPython.core.display.HTML object>"
      ]
     },
     "metadata": {},
     "output_type": "display_data"
    },
    {
     "data": {
      "text/html": [
       "<dt><a class=\"ProveItLink\" href=\"../numbers/number_sets/natural_numbers/_theory_nbs_/axioms.ipynb#zero_in_nats\">proveit.numbers.number_sets.natural_numbers.zero_in_nats</a></dt><dd><a class=\"ProveItLink\" href=\"../numbers/number_sets/natural_numbers/__pv_it/axioms/6bc27fa16ea1c04bf3d4c776d5c721085150bfa20/expr.ipynb\"><img src=\"data:image/png;base64,iVBORw0KGgoAAAANSUhEUgAAADMAAAAQBAMAAABJt1qBAAAAMFBMVEX///8AAAAAAAAAAAAAAAAA\n",
       "AAAAAAAAAAAAAAAAAAAAAAAAAAAAAAAAAAAAAAAAAAAv3aB7AAAAD3RSTlMAiXaZIs1UEN1mu6sy\n",
       "RO+L2jdBAAAACXBIWXMAAA7EAAAOxAGVKw4bAAAA9klEQVQY02NgwAAVv5YWMMj9u8DAwChkgia3\n",
       "jHcDA/sHICOMocIBVWqHgyQDwwMGBs4GBsYFqFLbFrA6MDQwMHBtYGD7DhZhWtHRCmZsmcQSAJLi\n",
       "N2Dg+QYS4A0qgOrawn1AESRVD5T6CRJwhckwbGFYwHUBKOUvwMDzCSQQwoCQOszeDpX6CBIIQJLi\n",
       "TMgCurBegIEXpIvnRUdHRxdUimE79wOwM9hAzmBfgKSLoZod5PgFDJxgxzcgS/EoAFVyPmBgBluj\n",
       "BJdaA8Q6IEPaGOoOgARYE2BSYUAMVl4stAcswL7rOkTm6D+gDvYA5KDjlYIGFBQAAFS8PxwW/emj\n",
       "AAAAAElFTkSuQmCC\n",
       "\" style=\"display:inline;vertical-align:middle;\" /></a></dd>"
      ],
      "text/plain": [
       "<IPython.core.display.HTML object>"
      ]
     },
     "metadata": {},
     "output_type": "display_data"
    },
    {
     "data": {
      "text/html": [
       "<dt><a class=\"ProveItLink\" href=\"../numbers/number_sets/natural_numbers/_theory_nbs_/axioms.ipynb#successor_in_nats\">proveit.numbers.number_sets.natural_numbers.successor_in_nats</a></dt><dd><a class=\"ProveItLink\" href=\"../numbers/number_sets/natural_numbers/__pv_it/axioms/a3ae0a8e821daec9b64e4404a6b570bcd10c30650/expr.ipynb\"><img src=\"data:image/png;base64,iVBORw0KGgoAAAANSUhEUgAAAK4AAAAVBAMAAAAtL8hrAAAAMFBMVEX///8AAAAAAAAAAAAAAAAA\n",
       "AAAAAAAAAAAAAAAAAAAAAAAAAAAAAAAAAAAAAAAAAAAv3aB7AAAAD3RSTlMAq1RmmUTNIjK7EInv\n",
       "3XZ/CtNrAAAACXBIWXMAAA7EAAAOxAGVKw4bAAACnElEQVQ4y4WVS2gTURSG/0kyyWQmTQNuVIpE\n",
       "RIjgYyhVEEQC1VJwEzduWkvQhdiNI4JQHzUuBYlRCBJRmCoIIsVRcOHOjeADMQsfVRwcH1Sim2y0\n",
       "4spz596ZPDq3HviTOydzvzn57z13gBUjJRQd1gqzVo4vQtEx1Xetf2pMw3j1RPWAHEtskEyMOVwR\n",
       "oX0AsmZfMp3fD9wDvgJ72fURCfe20PKYG/tLn9N9WeWdYSIDJG2cZ37UJNxRoU6oQYlZxh3p526i\n",
       "EgeAeJGhYeQl3MdCXc543dyMzS9arlv2uSe8k4yL54hTAUmZvWUuKTfJqz/wI6jXWp11GPcw8NJ1\n",
       "X0i4CYdrau3plhfFNfxVT4U2K1Yadca9D4wD1yRcVg6Tc9nTl6K4cf/PJK0OVyvOz9NgB3AcqVz3\n",
       "nn79ELtEYiDvSy29R+pPFDfmm9+xUbEwHLtOg82052yjFOSra+pYb9gJsRyZki9d/4UYwyRc9yPZ\n",
       "lgu5WpsNL7oUNcFV7CEaXGIVhM9LjLMe8YoGeriItaGUo+pV/XrvdNer55gPk6TybjJqtPrNbxOg\n",
       "sHE24AofGHTQtKN8aPq3dXNRTdNgC+kBLeetSTNj6f5/KRg3J4K29LgyDrbZTtS6+TOyXtjHFbq6\n",
       "QIOdpDPk16lFDNq8lwootsRtbBsxnatgMV7p5RpLYiNSHAo3EGuwMdI+VjybsY4siR9tNK4Q925g\n",
       "uNbkOkjnwXCvv8rQ71XkAF/xuTo3STv2TBwob4InPcUeTXN4verWILsgFNFvfpwV3xM33J62TDWD\n",
       "QRsLBd4f24HPwe8jy84W1ew/lyIbNbhLzeGniRlyRHtLezBcB4tL9l6QnYMzfef9o0a9N1HjkoT0\n",
       "kVf/9x6aFYqO75J81sI/jnmqdXuyuT0AAAAASUVORK5CYII=\n",
       "\" style=\"display:inline;vertical-align:middle;\" /></a></dd>"
      ],
      "text/plain": [
       "<IPython.core.display.HTML object>"
      ]
     },
     "metadata": {},
     "output_type": "display_data"
    },
    {
     "data": {
      "text/html": [
       "<dt><a class=\"ProveItLink\" href=\"../numbers/number_sets/natural_numbers/_theory_nbs_/axioms.ipynb#successor_is_injective\">proveit.numbers.number_sets.natural_numbers.successor_is_injective</a></dt><dd><a class=\"ProveItLink\" href=\"../numbers/number_sets/natural_numbers/__pv_it/axioms/0776530ed61db0ef0dfad4b23c9ae9d1109d9aa50/expr.ipynb\"><img src=\"data:image/png;base64,iVBORw0KGgoAAAANSUhEUgAAAQ8AAAAXBAMAAADn89dPAAAAMFBMVEX///8AAAAAAAAAAAAAAAAA\n",
       "AAAAAAAAAAAAAAAAAAAAAAAAAAAAAAAAAAAAAAAAAAAv3aB7AAAAD3RSTlMAq1RmmUTNIjK7EInv\n",
       "3XZ/CtNrAAAACXBIWXMAAA7EAAAOxAGVKw4bAAADJklEQVRIx72WT0gUURzHv+7M7I6z67qnoA5h\n",
       "VOSlGiIDIWpBJT0Ec+gSmu0t6tJ4NEu3YyRihcRUhzEhCA8tQoEdomMRwQYRdhDGCsUkESKKguj3\n",
       "5u+bmXWnoPXBsr/5/X7vzee93583wJaMTH2zjq0aH+qbB+lXYMLuBnOkKvXteRXoYcK5BoM8SHK4\n",
       "AFxlEZxsMEhXksNhIG0C2bYGgzxPcsiZECg86UanSCnJI00UrxcXXzUYRKRcHdwxsmpFi4Xprs9r\n",
       "FBOqmV7gTsJCRedvX4105+SY2eL3W7lhKd/Zw8lFNt4wkem+aikKnEBnNoRMoXYTevsYR22Tk8uC\n",
       "FnGYKfmMMbNyhA7Ce2hpg6S9R+ZHeL6t+w1hg4JHMM1mVotTTGyfwq6sKZoByDR/2PST16tAv6+a\n",
       "Dh3gxBd6kdc9choU5RtSP8PvcHUi7UdmMFaNXBV7WZuzilkEID2cvdnOwapTdIiYbff9TnfwQJDa\n",
       "QFM0Z0lHFDnilVhdlY7RuXZNLOU7y7ClT8BH5te+d5QHqXJePkhQ+VV3KgcyF4SGUbSqZjhHSNdS\n",
       "wVndtJfCHIHPDKi5Qp4lBJN0xV6rPXu/PwDJlDgvHyRVRJ9BQ3XNOg+yxzs/Slva90Ez0ulJ90jD\n",
       "towKgc25TCtfWkZrmVWZLZmSaoOguBqASJOclw8ieU3ZNZs8yGnXxopzrIxloRwGId1x4G7WKXA0\n",
       "MfNOjNsnyKQBCOcN4yaBzKYDkFTB9+oz7tEZ2CCyB+KYByAaxkvjlgNyzbXJ5HiG0vlQJEdIR7E8\n",
       "tULB8+vlBVYxJjtStyxXnBORDgQg7JW+Vzw0jrlbrhUaLCS1vCt+z9ig7XSKmGXSQrvT4jqApVCy\n",
       "el4cSN4KktWZyoGsc3faX96KUoE+BYY+Y7yNpDUVwxQu+Z2OJg7ktu/lgGSe/LLQ7H9c2eY11XUf\n",
       "ufiMqbxsTfgEq3H9u9WozBtTCDcGrne5J8LGQ1/VH3GnRfzllYTvjDioZNbyc5YR9XBntceJQKVH\n",
       "riZ+wmh9kJWYRsDmIHgat/AXTMzc8d+vcXdnStyibCLbw/yXd/wB0hzgYTrKUi8AAAAASUVORK5C\n",
       "YII=\n",
       "\" style=\"display:inline;vertical-align:middle;\" /></a></dd>"
      ],
      "text/plain": [
       "<IPython.core.display.HTML object>"
      ]
     },
     "metadata": {},
     "output_type": "display_data"
    },
    {
     "data": {
      "text/html": [
       "<dt><a class=\"ProveItLink\" href=\"../numbers/number_sets/natural_numbers/_theory_nbs_/axioms.ipynb#zero_not_successor\">proveit.numbers.number_sets.natural_numbers.zero_not_successor</a></dt><dd><a class=\"ProveItLink\" href=\"../numbers/number_sets/natural_numbers/__pv_it/axioms/8b77cfd77a7c54e07d6a512fd86c0934d1514ab90/expr.ipynb\"><img src=\"data:image/png;base64,iVBORw0KGgoAAAANSUhEUgAAAKsAAAAVCAMAAAAO9u4uAAAAPFBMVEX///8AAAAAAAAAAAAAAAAA\n",
       "AAAAAAAAAAAAAAAAAAAAAAAAAAAAAAAAAAAAAAAAAAAAAAAAAAAAAAAAAAAo1xBWAAAAE3RSTlMA\n",
       "q1RmmUTNIjK7EInv3Xbn9enzK1aD6QAAAAlwSFlzAAAOxAAADsQBlSsOGwAAAmxJREFUSMe1V1mW\n",
       "pCAQZN8SsrvH+991WERl0ZaaN3yYTyvEIHItQv5l6c5+8Or/QM8WstauLIk3Pwh3i6bHPeOLn2PQ\n",
       "2nfLhEIG558z9noHgEIfaCHrc7UotFOtffUOFWrbhVMzAYk1lxsVHeaCrmhThdV2UVbBWzt39fAj\n",
       "Vq5czGSllxsesrb2QNfjwWrQ+c7O4wRvuRI/EdZenWszcVZeSGi+n1ytRqtq7TpXNTpEXmUlW1be\n",
       "bOxA+5CWh9UQgMZKpE4DWnzPFeiwaZMzrnLlB1rkaLZukWtVZbcQPYZpf/2aKz89IrJe4es7XY8M\n",
       "2qBwxQOtab3My3AQEGsF9x0isKuVkgSb9zevuTL/KOvJFU50khTkmJJIrY2PGSXgxhrt5dW6qKg8\n",
       "E+GQypcIozOuZuujta0MrpCURdeCTmcfE0QIU3sEEpGc/MQ1scytRb2PV+kfZa25xUpu7WhFOO4l\n",
       "jxtE0bYVZpjUOHBtY6CyjHngXsdAaOP1509onWBLZS0v7Ghgpcg6Ln2k6OPx3NkZmIkxwGTPtWZ8\n",
       "tbmQpBCA17nVdZ+hkfEspVBXtN7zRjtMz9Nml34TucYYwL6t1Yqz25JU8X1unrnCUSlEe3w29rHk\n",
       "M+dNg6Z1/1R2cmBwZfNihauDIaJNaKwMpd9z9hivlPpN0SJEkM+yxu0EYOUW+uxPZxCCGGKg0ZXI\n",
       "UaBgWvuyb12K4XRqe4dOjszfTuzO3sDzgXAowHX2mM4g97PLMPuQp7HrDr23YwSexy5TfVxKCb2d\n",
       "M+xHU3s313FYQfexAile5RPCtnZtdScMbgX9gTTY2qX/P93Hze/ov04IFRyVGik6AAAAAElFTkSu\n",
       "QmCC\n",
       "\" style=\"display:inline;vertical-align:middle;\" /></a></dd>"
      ],
      "text/plain": [
       "<IPython.core.display.HTML object>"
      ]
     },
     "metadata": {},
     "output_type": "display_data"
    },
    {
     "data": {
      "text/html": [
       "<dt><a class=\"ProveItLink\" href=\"../numbers/number_sets/natural_numbers/_theory_nbs_/axioms.ipynb#induction\">proveit.numbers.number_sets.natural_numbers.induction</a></dt><dd><a class=\"ProveItLink\" href=\"../numbers/number_sets/natural_numbers/__pv_it/axioms/220a014824abc1d908bda5bedda393ae441a602b0/expr.ipynb\"><img src=\"data:image/png;base64,iVBORw0KGgoAAAANSUhEUgAAAfEAAAAXBAMAAADpdmtlAAAAMFBMVEX///8AAAAAAAAAAAAAAAAA\n",
       "AAAAAAAAAAAAAAAAAAAAAAAAAAAAAAAAAAAAAAAAAAAv3aB7AAAAD3RSTlMAq1RmmUTNIjK7EInv\n",
       "3XZ/CtNrAAAACXBIWXMAAA7EAAAOxAGVKw4bAAAFvElEQVRYw+VYW4gbVRj+k5kkk0mTplpcWxCC\n",
       "rgXxwipV8WW7WLXiUg32QbBaYvuwUEHHl4LY1VGLIGVxUOo2giUrpbBqaboyaIus8WFf1GosWKol\n",
       "MvVCvdB1tUqrFtfzn+tkcmaaPveHr93z/yf5vm/mXANwceGEEN8jHKWOm/iNOY7YYlz+9PG4stOX\n",
       "hYuLUkUhJjZF2oVq8ld+x6GNTJCQ92PKMeL2//16Az48X93ERZYxeU2/zq9XKMyu6ykPjjZvLQ1F\n",
       "nSdSpJsMmphoAHwPWhKa97VlJpD1IjF1BJ8DfUKvZspgLwAKRNyNubE+jds1hc2wPzpm8gFML8BW\n",
       "3poRzhMp9nH0ci1/kjjPNkBLgnlfV2bieC8S3754Qrzfq5z3AFpABRI8j7PG69O5OSRhtKEQ/dhd\n",
       "AEYNVnMBx4TzRIq1HCo2iD9+I7aMEdCSYN7XlZlA3ou+3H1lsGi3y7ysA22gAlezp1ao9Ol8iUK+\n",
       "DOl/2LR6s8NNnqMTcAl7D6Wbq9x5IkWLQ8VNYefwCWhJMO+rMsYbIZGiF6QIrnAfpaNzYDhXQ+co\n",
       "kMAgTyjb7zRfpbB0BKw/6GLzhBhxmTMAlgtZNtGLlsedJ1GkawyxzreAlgTzvizTeDkkUvSCAj61\n",
       "xTlaGEi5v6JzFIg40ul82q/zUYUDxPkZzG2TU81e/IBaLfN1Zkys7QkUZpPBnl+5c0bn/CBoSTDv\n",
       "yzINo6lEil78M+y/AfDy1TYTiLhXjROMkSTnWxSea4L1X2TpWrP4u8PnF+YHhfMIRTjE8zfhZLBe\n",
       "5/w20JJg3hdls0PjTyVS9OqKAdhhf9NmAhFPQQ5f0sb5YXri4CsRbRbq9bozPlo1PuafPaqAzv/F\n",
       "XGio2j8vkimbptPWKkOxwZ1zChWCjMyJCsPtsKZxuc75DaAlwbwvy3zmbJYiRS/xUMrMuVG5jgtE\n",
       "5Bt41kgH8Aoo57Rp76J/lg/Dffy75xQONCGD79wiQ7nztRy8f5EM3U1SLpQC7pxR0LBO1quKjKw0\n",
       "VQYX7qHt9Z3OZ53Ol8o57dhLgnlflOUOOSdEil6Rdw4rUy0mEJEOsmxBTIWc02aejpf0sAnNXudk\n",
       "hUvjCmer7YoMWpukMi2+T9tt7pxRsD3JDZMp5wCf61e4R0BLgnlflMWR9nFHiBS9os6nUBMKpCJr\n",
       "w+SfpUP8EMw4aPMZ9vpfeCho9o72vAcG3dXachiSIZUjqXRbnGPuFKdXSjG/7geHHfAkmRrtkDkL\n",
       "b+uc3whaEsz7osyH9DFHiJS9os6twGMCqciZrXTlfw1CzmnzaubcPXytcL5HwWiBSWffvJxmbbZM\n",
       "G57Quk04R4qSsyJbmVbfLk9kCHsXGYZNnfM7QEuCeV+W2X7nSZGyV9c8303wk8cEUpHbafqtB8oh\n",
       "57S5gTs3S2KwHQzhKLxLV6msOKOYJ1iBUho4x/Mud44UBuyxxPlMkMkdJn1ubytTiTj/yOF7lIYE\n",
       "874ss51PiZS9ugIXQHxbYifFtQigAZmFkHPanOLO7aZYWidC2Dt7JRt/Kx7mojLLl6HAIk7bFL4v\n",
       "K+DOKQWcJZsQ2S0qiox0aVPY9weDt0Tm+bIvHiNz4ys9CeZ9EGUQr5SLlL3C8dJ5jx3qUWBRLLnk\n",
       "efOTtaea7MSZduFBcRksugpqlB0SB0sW4zG3VKuVg53dZCSOc2jOcHTVautJMO+rcvhWXnQvcB4b\n",
       "D4s0y5BylHPeHMXvMKpQEmMTLwgCsbFW73x7oWaS/a2LDOT1QXdjkdePmLuTry8niuu5JJk7Rt8P\n",
       "rXC8mTlETjITY/yShzEZQtzPJZ7eufnj7C+Q291FhmuBA3z71MbTCXk/pjyZbBwF6q6OyRfW6RBi\n",
       "Imqj+zeZd+r17t9ocKu240knE/J+THk62Xncs052ngsUYuJU9NeoC/wO9yyH/tcvJz5/ei6mnCBO\n",
       "CDwFic5TdTy3w6USl4zT/wEQrfUwtClbTwAAAABJRU5ErkJggg==\n",
       "\" style=\"display:inline;vertical-align:middle;\" /></a></dd>"
      ],
      "text/plain": [
       "<IPython.core.display.HTML object>"
      ]
     },
     "metadata": {},
     "output_type": "display_data"
    },
    {
     "data": {
      "text/html": [
       "<dt><a class=\"ProveItLink\" href=\"../numbers/number_sets/natural_numbers/_theory_nbs_/axioms.ipynb#boolean_natural_membership\">proveit.numbers.number_sets.natural_numbers.boolean_natural_membership</a></dt><dd><a class=\"ProveItLink\" href=\"../numbers/number_sets/natural_numbers/__pv_it/axioms/006d7445932ac3cda43afbc2d55b6ae3298c3a050/expr.ipynb\"><img src=\"data:image/png;base64,iVBORw0KGgoAAAANSUhEUgAAAJoAAAAVBAMAAABMN+opAAAAMFBMVEX///8AAAAAAAAAAAAAAAAA\n",
       "AAAAAAAAAAAAAAAAAAAAAAAAAAAAAAAAAAAAAAAAAAAv3aB7AAAAD3RSTlMAq1RmmUTNIjK7EInv\n",
       "3XZ/CtNrAAAACXBIWXMAAA7EAAAOxAGVKw4bAAACRUlEQVQ4y5WUTWgTQRiG381ufna3DbmIFooU\n",
       "BEFULD0IRZCA+IN6iAoe/F3oQQjFjggFoYd4VFD3IkXRmoOIPbSmIogIxUsPUcRUUPEQXKl6EMxV\n",
       "EARn5pttZ7JdIR+8y+wzM+/8fDMDJIMppUS+J14cInWH9+VOFf67pWzUVfGrOTG+XIHgJfG/Ra/c\n",
       "rpQId+gY8ARY6a4Iz+WrGyTfL34v6FMISMmwPvnD6ANy9W63E3juSn5VrDjUqpxh0jpu2/iw/YBd\n",
       "TrqNWJKLgXx9l/qUtI283/4o3S5Hk8INr00u3XKS23waOb3vVqXVyF5UK7PYpmJDuI2ZXLht3EP8\n",
       "bbv9Ru98RGn+6+OXcs6TcSeLubgt3BZgcJ6F+eUG8UPAXd1tTKlc3Oy0jBRZrFCem+OF3TBTF54d\n",
       "/3uY+CXkS7rbe5LN7D+WTEaw5oaRzD1e2AGDi5WunKxL7tb9iu62RCrAoeYFvhXtz8rNqg/ywi2T\n",
       "Czc325A8ExlJiN14YunMe6E2N68kVnrG5NINIfFgL/90Dn5jxkqB88yT+9zS3HCTn1LshMHJLSD+\n",
       "tMqPDhvIqUM3Q5qtDMKXoLN6s2q84TVeGDW5dMtExKd4EmzMFFTVAmnX9aM4LkE8DBUOqAOkcYSn\n",
       "sfhMcasmyO+46gbpYSezj5p7A6coHRNN/n3E9cHg+NF8IN6QmIumr+Lnqb9G0i7DC3WD4oes9X+O\n",
       "KT9wVFHc6cS9NmL9N0HjzvfFnzGcVkqNK73wWaXUmO6F5yNSWhRZKv8H2fmdaVUcrekAAAAASUVO\n",
       "RK5CYII=\n",
       "\" style=\"display:inline;vertical-align:middle;\" /></a></dd>"
      ],
      "text/plain": [
       "<IPython.core.display.HTML object>"
      ]
     },
     "metadata": {},
     "output_type": "display_data"
    },
    {
     "data": {
      "text/html": [
       "<dt><a class=\"ProveItLink\" href=\"../numbers/number_sets/natural_numbers/_theory_nbs_/axioms.ipynb#natural_pos_def\">proveit.numbers.number_sets.natural_numbers.natural_pos_def</a></dt><dd><a class=\"ProveItLink\" href=\"../numbers/number_sets/natural_numbers/__pv_it/axioms/3dac39f5064fe3a6661936f9e9338e3a96b32c0d0/expr.ipynb\"><img src=\"data:image/png;base64,iVBORw0KGgoAAAANSUhEUgAAAMAAAAAZBAMAAACVwzzTAAAAMFBMVEX///8AAAAAAAAAAAAAAAAA\n",
       "AAAAAAAAAAAAAAAAAAAAAAAAAAAAAAAAAAAAAAAAAAAv3aB7AAAAD3RSTlMAEN27zYnvRFSrImZ2\n",
       "MpmnAiL6AAAACXBIWXMAAA7EAAAOxAGVKw4bAAACa0lEQVRIx8WWz2sTQRTHv2OyTbNx06WoWLzE\n",
       "HxcFJbJi24MQ8GCPq/XHwUv+gUIUrRfBBQURDW3spRQPEakoiC4eqgfBpU0PRSw5eCxarV4qSkSs\n",
       "Iii+3U0y07CzG6rFd8jOm3nZz7z35sss0LQ01tli/wXALgiOGv6Ce+Wg2e6vB3ScXClIAJUzgqMU\n",
       "QgHamB403ZcYBatJMuj8gvYAJ+Zp+7HRoKWb5dNAHkvGQcOwWxeVTHuAuMX2tEY3bDwbLyMjyaBd\n",
       "wGNgUAaYeKbm1gbYxBPuB0Z0GSBZnV0bgB1zGsPfwBtLBkA2VggDXCxNzjgCgPuYPlpHuQBbCnjN\n",
       "tmcEJb/b4dpuX905wOx32E8BwH2q/VtfIN8I4GBjPhiQsi7nJc27ayNR2An1FwcIPtmV5SbAhPoj\n",
       "GIBSUgK4f4TSZ98bcvAAgu/auZI7R4BLVLaegWBAD8tItLlE2uysIZkTSsR9D7C/3uQRCzheCAZo\n",
       "TlaYEHvgapPe1mXrHMB9t0QT3sMAnustulf3ncIU/f8QjV9mJT1wz0WHSWfc5ADuU5OX/ecU8J7W\n",
       "eaUXxnpxTdHTtJGB+mGRAh5VUUlVOYD7zWOKDRYbElWT/kQ/151FBXi1QrtnYYCz1KSnQg+aPptu\n",
       "Co19mKv60amPC/PAC3eyePWBEnVHhCq52w6I3jZsd5SZV/KisvX8XwECo29X0KUnPHQRizNRgNXa\n",
       "jAJ4rbyFYaQOG0YfATbHowCrtRkF2OJufAifNc30M0jciLyoH46L+VRDYyfdWLWGvUV46nsCzP37\n",
       "Twe6gGdt3KGtaLvKSK7XFwobNHr90R9qbahr09xOeQAAAABJRU5ErkJggg==\n",
       "\" style=\"display:inline;vertical-align:middle;\" /></a></dd>"
      ],
      "text/plain": [
       "<IPython.core.display.HTML object>"
      ]
     },
     "metadata": {},
     "output_type": "display_data"
    },
    {
     "data": {
      "text/html": [
       "<dt><a class=\"ProveItLink\" href=\"../numbers/number_sets/integers/_theory_nbs_/axioms.ipynb#integers_def\">proveit.numbers.number_sets.integers.integers_def</a></dt><dd><a class=\"ProveItLink\" href=\"../numbers/number_sets/integers/__pv_it/axioms/e46a1d95134476e91de118c3fe06344dbd4ecad30/expr.ipynb\"><img src=\"data:image/png;base64,iVBORw0KGgoAAAANSUhEUgAAAL8AAAAZBAMAAACSgeLGAAAAMFBMVEX///8AAAAAAAAAAAAAAAAA\n",
       "AAAAAAAAAAAAAAAAAAAAAAAAAAAAAAAAAAAAAAAAAAAv3aB7AAAAD3RSTlMAVM3vu91mdqsymYki\n",
       "EESqKsraAAAACXBIWXMAAA7EAAAOxAGVKw4bAAAC1klEQVRIx6WWTWgTURDH/2k32c0mG3LwZMXE\n",
       "j/bU1hxCEZQ22gUrqPTSm2BUpNSDBD3Yi7BWUAoetqhY9NAgFTRBiYgfl0qwKEUPWaRFUKERRYpo\n",
       "VQTBQ8R5m8/dzYumeZCw783b+c3Mm5l9AGd48mh5yI2E61vXD3+ML1PCnPVVu5INDQij9HNt+bl1\n",
       "ZDBuFwlx5ZDaA99Av3X95Ff7zun9fIDbAMQhHeE2h2ieGMEVYNm67Co4tQzxAaJGB5GEGL/nEKUB\n",
       "6aAvjnY2MUP5hv35hp1aHjQINNkjZbGoOA/jD0nWoRtuNjG1LqwBgC6CALcl3S7wMvTzxNNWAbOm\n",
       "Mu2aM3jDzLdJMdMi4JSZMIYzD6QwAwg40AAQGH/3aM8/AN8ojdDhSRTrbsQcmgmNMYA3ubRkBcg1\n",
       "5eETLmA5W7KSM2ZY8OskKdo08/gPuwatgPmagll1x5AjBbkgH5CjhiMGnwCGvUKSJkAyzlkAC70s\n",
       "9zpNT3VjOY8QvahM8Am0BYusY1ys74GiVUM0zfJhttaSEDDBQtVbR7Ov5AF5OMkUfbedQQmAqwKb\n",
       "7Sv3FQhajRLS/ouyPGRx/1k679leaaQzWXiTn0mXPfsk8koguniZzT6yptbjSNMd1DnI0vvV6hlX\n",
       "8y5tDncqAMoiweiBf5e9lMUIecFCe8PsQJugHNPtAP9viOGx2jRN0R7XqIxMBXAU+LA7qg5EMzZA\n",
       "oADvtig9vDKnLzs3n4GjDoahnA8WAcfHTrOexoyZ+pLI+FI3U3fZnlvc4++vv8ypZOVEH3Zi0fRW\n",
       "n9tY9aCLC0g3BfC/DqOAT0WALMbKAKXABVziNPiIc40dk5QIRHBEVdWgS1cy4TLAo3EBUv3i8f9w\n",
       "9vw++mvX5aR+vegB3ifKdeDONv1NfnHWjnzMTMnBPaULRvE2Imq132Te6Gjq/rAC8SH8e+npSjeg\n",
       "/cetYk33oreqanlLJpf+AlT4uQ6ArWMWAAAAAElFTkSuQmCC\n",
       "\" style=\"display:inline;vertical-align:middle;\" /></a></dd>"
      ],
      "text/plain": [
       "<IPython.core.display.HTML object>"
      ]
     },
     "metadata": {},
     "output_type": "display_data"
    },
    {
     "data": {
      "text/html": [
       "<dt><a class=\"ProveItLink\" href=\"../numbers/number_sets/integers/_theory_nbs_/axioms.ipynb#integer_interval_is_subset_of_integers\">proveit.numbers.number_sets.integers.integer_interval_is_subset_of_integers</a></dt><dd><a class=\"ProveItLink\" href=\"../numbers/number_sets/integers/__pv_it/axioms/673538a27ac778b35a8fffac94ede61aae34577c0/expr.ipynb\"><img src=\"data:image/png;base64,iVBORw0KGgoAAAANSUhEUgAAAMIAAAAWBAMAAABgYF47AAAAMFBMVEX///8AAAAAAAAAAAAAAAAA\n",
       "AAAAAAAAAAAAAAAAAAAAAAAAAAAAAAAAAAAAAAAAAAAv3aB7AAAAD3RSTlMAq1RmmUTNIjK7EInv\n",
       "3XZ/CtNrAAAACXBIWXMAAA7EAAAOxAGVKw4bAAAC80lEQVRIx7VVS2gTQRj+2s1zk6yr4gOEsuBB\n",
       "QasrSKEeSqBaFFED1Yv0EFCRVg+pehFEUxE8KNSKVFNf24sQq31ZEYtKwYNGqfYiiiWQKnipBylI\n",
       "pUrx//eRbLvNqAcHZnZmvn/mm/+5wJ9bkLq8TySwRnT0L9on6l/2iyTauubvVB791Zy/ofsLgMrr\n",
       "1aLjlf3UZ8qh2VEeO+ZvKx1pJAPAZ2Abrw+LGO5Qj4yVhQ/y8HT+ri8ORR8EAgba2FqXRAz1Yoap\n",
       "BRkqUsjKdK0UZxJENBHDiJDBP+NmUG7m8/k0RwawvYInryDppIrQDUkhg4XYDKEjqSIQUs/x5wAw\n",
       "ms+/FjH4+p17Wp+d9sKBqgmtyHC/RICwYQbYACkDdIkYAjrTkCL+F7hteOC+Fnka+GotlrmAdVKB\n",
       "PzX0MgTVombNjqNyQ9fj1jTGTjpFNPd07PI+YKOBN8AZy5NJF5C0bL+etYkkiturmGYik4ilIr32\n",
       "e6OEth6iyR5g3MvQAPwkxy7XTNO7EkJ7CNAV7eTJgsvRL6lvpRCQcPY4SgyhHSSbg/zdyzAOP8Vr\n",
       "5JBZI1wMWU6BFUATq1NHQ0/dI37E7ISh6KZE3DaSZaWwCnkW0reF0sE3Y9qKmyviVlJGyCRfTfPB\n",
       "FtLyfWiaVfuoxLOmgHQs7cREwYoleQoVSW+J+8H+wZNSctoeje8lbxJjLXtR5SQPcWKFdSnZaEr0\n",
       "RooBr9rRegvVlmJ9SWegthRXSvkQSJRitQXBy2SonRw3aTa2whdF0z61JpPJaOgfxl37NWM2Q/fk\n",
       "+SpTsVjcGah1D+klBrnDKcFNnbnM2xyl0jsnqlPhLWTKRYhqF8xasFbHsI19ENcluKuG/7FdNYo/\n",
       "COdgNNXeaPQgZtSSfnyjD34H2/wPDN6KoDvc9Rse4KIW2l1A8BqtNy2e7HRCL0ylQBkRMzSUA07O\n",
       "XVqJ2ZPJJNy7XISDU0IC+Xk55OrcQmwsLMX17sQS0X96oFz5V1JzlhL+R/sNyYm1E8L5PEsAAAAA\n",
       "SUVORK5CYII=\n",
       "\" style=\"display:inline;vertical-align:middle;\" /></a></dd>"
      ],
      "text/plain": [
       "<IPython.core.display.HTML object>"
      ]
     },
     "metadata": {},
     "output_type": "display_data"
    },
    {
     "data": {
      "text/html": [
       "<dt><a class=\"ProveItLink\" href=\"../numbers/number_sets/integers/_theory_nbs_/axioms.ipynb#integer_interval_element_bounds\">proveit.numbers.number_sets.integers.integer_interval_element_bounds</a></dt><dd><a class=\"ProveItLink\" href=\"../numbers/number_sets/integers/__pv_it/axioms/462e2f2b82759427daac478b6eebdbf64dc2e01b0/expr.ipynb\"><img src=\"data:image/png;base64,iVBORw0KGgoAAAANSUhEUgAAARwAAAAZBAMAAAARYIzUAAAAMFBMVEX///8AAAAAAAAAAAAAAAAA\n",
       "AAAAAAAAAAAAAAAAAAAAAAAAAAAAAAAAAAAAAAAAAAAv3aB7AAAAD3RSTlMAq1RmmUTNIjK7EInv\n",
       "3XZ/CtNrAAAACXBIWXMAAA7EAAAOxAGVKw4bAAADo0lEQVRIx72XXUgUURTH/7uzszs7+1lBUIIs\n",
       "BOZLOZFIBcmCBhKYC9Kb5tZL2UOs9VJhtvrSg2ISFE2FTQRFGWoZRIIi+KASgfSiFAu7FQVJIUUf\n",
       "9CDde2dndj62xiX0gCP37P/M/Obec889AziaK7OAdbFw5tUqVF6sm+1eQxxfSerUWuO8LUl9RMWJ\n",
       "0n/bHHCcRXZzj65WKd6aJ4kjMZwD1HHcAcdZZLd7VkdFyi5Sfd44uZxkON10lQcccJxFdquzjPcf\n",
       "tGvyvkiMXKoZjlcBAjEHHGeR3abMw8/jdonmayO3R1ChOJzklKzkV2eRPXWSpvSYyNpTRvdNsMdI\n",
       "bGe9zGReOO4sR5HNPDSTOya71Cc3Snk3n7s/OWjx4eiXjWT2owynAbjhiGMTcWNFtb16gtCX5Wdw\n",
       "m66DuFlf6IC/HCMps0/8oRAXl2Q4HfBFtR+Edu1gmHt6M27AMYqY9dlRWPBjbRQiT3skoZENCo8+\n",
       "HBrAxbTZ5/6NYBbuKYbjVwIJ/ZZl9LY5ORFKBYYVA45R1L/lKtmhRaaGBuv+INE3AW/UAq0vjDKS\n",
       "QJVi9nmSiIxCWGY47qwhSWfJXz2B59BzxrhYBpGnASiOM2vFmYP43Zq2VWReLL7QKNpi4NXZQbKW\n",
       "XIZqn9GJWckpYRU6HjcdElTE1fW/B95Bw1FjCotFggs4ZLHEFXDL1k1NWL6JZh8pO00K3PMqzhNS\n",
       "D8UF4Sc94l+H4w/UVD2dNuFQ0d0WKZgS1WpYo8cU+gMSjFZt5M9C/ApXcrul5L0gqRIw+yJpcZo8\n",
       "cUDF6SRJ6okLtGz5JS7ZzITDAfMRSkXnPyCi8GzyhBN6jG40GN5P2hYiAYPYUZhkVNAX9P1COLnH\n",
       "7HNJ/rhaGSiOK01XOkx3TjDtidbIshzD6DgeGnGoCOVoAdcuy1fQvVWP0Y0Gw31KWzoy93eWLpWn\n",
       "zfnFz0PcZKnvYhk9UEKJQoMxkvLvI/keQTDWy6IqJYzbGoxZ1AuCelDn9BjdaDA69eFiif3IBUO/\n",
       "E0xdblaGEFL2kj1Np9pD38OC41vGYmW+HFbkY2hGQ2SINNiw46pR+pGr4fB1O8fQFxMOZeG7Tsa7\n",
       "Nixdi1px+CiWJJxL53FYDK2IKWGGLQ8JNuD4C/2EmGFmWjerjzUM5m5QXdMhWU78oxsUn8t/KYPm\n",
       "eiSW1pAwehMOr6y+OW11xEFXSTgfbb0yV0Kv7M0W1QrH1v5Louh3Vk9R7dn/+86a/gM5nei9+UCz\n",
       "TwAAAABJRU5ErkJggg==\n",
       "\" style=\"display:inline;vertical-align:middle;\" /></a></dd>"
      ],
      "text/plain": [
       "<IPython.core.display.HTML object>"
      ]
     },
     "metadata": {},
     "output_type": "display_data"
    },
    {
     "data": {
      "text/html": [
       "<dt><a class=\"ProveItLink\" href=\"../numbers/number_sets/rational_numbers/_theory_nbs_/axioms.ipynb#rationals_def\">proveit.numbers.number_sets.rational_numbers.rationals_def</a></dt><dd><a class=\"ProveItLink\" href=\"../numbers/number_sets/rational_numbers/__pv_it/axioms/76f0ca3554aa173e3c2b96df26193413f06c41b10/expr.ipynb\"><img src=\"data:image/png;base64,iVBORw0KGgoAAAANSUhEUgAAAMQAAAAqCAMAAADbNgSrAAAAPFBMVEX///8AAAAAAAAAAAAAAAAA\n",
       "AAAAAAAAAAAAAAAAAAAAAAAAAAAAAAAAAAAAAAAAAAAAAAAAAAAAAAAAAAAo1xBWAAAAE3RSTlMA\n",
       "EIm7mSJ2q+8y3WZEzVTn9enzjbdKLwAAAAlwSFlzAAAOxAAADsQBlSsOGwAAA3BJREFUaN7VWYly\n",
       "ozAMtSXf1x7+/39d2wQwxAlgCNtoOtNMGyQ/63oShPSIMJp8RKyx5B7hxvPpswTBxXW6nfH0FgxK\n",
       "zjZVgoPxQrvUmDtAyPnMVGXvs0vNunhHRBk/fWSx/AEu1a/YDSCqaFKY3RHdp/TfAYLGnNI2ku8G\n",
       "EXKOeBL494IgmDwRDCPLKOb/BQQFTML4YSNUCtBcimXrgz05wui1IIRUOrcwCdfcVAWComrXX42L\n",
       "J0DMV9gFAiyUyuyYw6tBEOLbBRNr5/mQmxw/AUIDeRR+JFZcDqLk/rNRuSBM5Sk8AQIpfTwFmvir\n",
       "Qbg2JcE6/7AoDOM3O0BQJPpx/yEQtoOdxiMgoJkSbqEilojTo8+M74km9yAr6bcN2w9scpsahJdC\n",
       "yCelvnYEHUE89MJxPunEdPLkkTAekJlKFvfmNy+qrk4xMWsa+VLrr9+1Vh5hADEmpMGjIDhMJ0+e\n",
       "EG4z+rb5fgViCHQl3jhiBjFWeOrxqC+WOUG3Zpb6PHGWFyBYcVtcNiC3rLp0+LeLs2ob9dHqxPdX\n",
       "J+7Z9iVVIApLd6sy61fUYMiJMH8rmKOzoqv7xKTnZU6A0gdAlIOxKVOL1j9/V1oRh9un+008s5ix\n",
       "Y8tdHVuqIyD0OP5Vjlj70qo58orjeuYTGLnTrpGKR7EfhEznx6Xa8GzFZNoxXT/2TbucRe8j2+nE\n",
       "QwRQAlu1lUZ1owyE1ItxsWv41/t40xpEk6W+peJhkyp3gyBSJEYetDvsiQZLfQtiu82cmOyCRK/Q\n",
       "HgbRYKnvQFggHwTROT62WOo7EIb+QBAtlireVAhNfiCINkv9xKJAe3zqWAgs/Zw1smKpH13ZTCsA\n",
       "LSRiCtk80AIV9KyRNkv9DIixG7KxoaUqpAPv29zWdL/JUq9bzoEVwKdhLAVuujJRn3q98tot9VTU\n",
       "ZKnn5DHokWEBoqdQFamwCZbH6apg89D5tgeqFFix1CtkVs8SGj3RzdzDrJ9m6YJSkN4YoGYu9i2W\n",
       "ek7E7Fbl8mKvTgkmEw4skr8FKa+T/a4rTITJvmapp0Sb+W1gKXpoxzPm4VGFvNiYGm3Q+RzQGQdh\n",
       "5JwNlnoORN3sVU4JZ1MNh6HXWyyT6BR4JavdLa/HusUxG0Qe2HTyANFMlErOxw2olVIKQC/Jl0hd\n",
       "/oYdviPfJo6S75eNtPsHiScb82EfOTgAAAAASUVORK5CYII=\n",
       "\" style=\"display:inline;vertical-align:middle;\" /></a></dd>"
      ],
      "text/plain": [
       "<IPython.core.display.HTML object>"
      ]
     },
     "metadata": {},
     "output_type": "display_data"
    },
    {
     "data": {
      "text/html": [
       "<dt><a class=\"ProveItLink\" href=\"../numbers/number_sets/rational_numbers/_theory_nbs_/axioms.ipynb#rationals_pos_def\">proveit.numbers.number_sets.rational_numbers.rationals_pos_def</a></dt><dd><a class=\"ProveItLink\" href=\"../numbers/number_sets/rational_numbers/__pv_it/axioms/21c91a6ba1803ea3b86e2bd6ce4e8493c1471fc80/expr.ipynb\"><img src=\"data:image/png;base64,iVBORw0KGgoAAAANSUhEUgAAALoAAAAbBAMAAAA5YIiJAAAAMFBMVEX///8AAAAAAAAAAAAAAAAA\n",
       "AAAAAAAAAAAAAAAAAAAAAAAAAAAAAAAAAAAAAAAAAAAv3aB7AAAAD3RSTlMAEIm7mSJ2q+8y3WZE\n",
       "zVRISQrpAAAACXBIWXMAAA7EAAAOxAGVKw4bAAACu0lEQVRIx72WT2gTQRTGv90km6QbQ6xoxSLZ\n",
       "WrwYKpUFPdhKWilSSjXEQvWii4jFtkqkWOyhWsxJvCweerRSCIKnPahIUROpKIhiwKvYvYmIJBb1\n",
       "ILU4s5v9k2aypBCdywzz3v72zXvvm13AGUn8y9H93+ncW2cd8Hz6TIq53SrLA3Xpl144a77gRQ9P\n",
       "xRi7wjU1cF+qQ49+RyP0PedJ4L4Mw5JIAC+X4ZflrHx4o5G/1wh9i87lNvhaB5KK5LWiwo69MfoS\n",
       "0Mmm+7aSA/FqcdP03Zq9PASUYkz6tjAJO6oPbprO7VOs5Q9gQWfS70RIDBHtuQc9MN1x0UUfPbdD\n",
       "NRbjHZX3ULrGpL8SdZJ85aujVf8DYxgd4KcZe5MKlh16JIcbVr77TB2sEroCYa6Wno4asU+y63WK\n",
       "GLnbCBYd+k4Ns5b524BNlxBYZ1TVzHsfEz76kcZfRovk0E8Ai7bDuys0M4T+nlDaPtXSt9s9w2jX\n",
       "o0R/oW6cLTj0LAJrDv1Apaolkt+u2o6NmP2uOzvuvFP9xRXknZ7hfkEs25m5akwykI9V6xpc5zFq\n",
       "HCJafb1cRye0D+I6el30dfisgy6Z9xOeAMPEbFd1fqoHaQkJEjJP75mkB92niKuufj+IvISqjkSL\n",
       "zt1yacNPxbNXR/sjMo/8WRmEB52bvrzmorddKBkzN26riesfUyv01sdPMUErdjcFQaDGGVHxosNK\n",
       "tKVVswq7NFYkufBPjqpSbEeFHlTGvhS86Ga72/TZ+r7+ZHiOit8gC7yx/7k3q7GfMPUXkqroN9m+\n",
       "VNehgpARP8jykYidGY9h6I9fWXTTu35LTF8iYsRTPiVsmK2qeo6R666DqF6eaeoZSi2oMBQ2n8F+\n",
       "rckf/sgQuShOqsYFPTzT/B+LZ1Smcg/J42mt+fR+e3X84WSz4XzW/q0JT6h/AWsGvS3IsUWkAAAA\n",
       "AElFTkSuQmCC\n",
       "\" style=\"display:inline;vertical-align:middle;\" /></a></dd>"
      ],
      "text/plain": [
       "<IPython.core.display.HTML object>"
      ]
     },
     "metadata": {},
     "output_type": "display_data"
    },
    {
     "data": {
      "text/html": [
       "<dt><a class=\"ProveItLink\" href=\"../numbers/number_sets/rational_numbers/_theory_nbs_/axioms.ipynb#rationals_neg_def\">proveit.numbers.number_sets.rational_numbers.rationals_neg_def</a></dt><dd><a class=\"ProveItLink\" href=\"../numbers/number_sets/rational_numbers/__pv_it/axioms/3d8c09bc0c64c97929c8521791819244ed748b4f0/expr.ipynb\"><img src=\"data:image/png;base64,iVBORw0KGgoAAAANSUhEUgAAALoAAAAZBAMAAAB0qCmCAAAAMFBMVEX///8AAAAAAAAAAAAAAAAA\n",
       "AAAAAAAAAAAAAAAAAAAAAAAAAAAAAAAAAAAAAAAAAAAv3aB7AAAAD3RSTlMAEIm7mSJ2q+8y3WZE\n",
       "zVRISQrpAAAACXBIWXMAAA7EAAAOxAGVKw4bAAACl0lEQVRIx62WTWjUQBTHX7KbZNPEZV3xAyps\n",
       "tHjporQE8dJKLUgppbqsXrzYHIRWWmShWOxBKfQkvQQRj1aKraCXHFRE1C5UFLy4IL1Jm5tID90W\n",
       "van4ZjaZTN1JLGUf7GZeJvPLm/f+b3YB/mNHq2yoJD54tSS8nbft87Fr1K85NparSXR9Midaf8tV\n",
       "nlhxaza5JfH049cw8FRFMFMsArxfAd1GO9002wm7oO/zpUWcfiTYkFXD1xpOzMJd0V8DdIjpqf24\n",
       "Idmt7Y2eXSXfZ2gGRfQDOoad9Qf3RDce07L8AJj3hfR7pgdgeu8S6MrUsescPXRREAsULhG6J6R/\n",
       "MHxMvrMR3Uk/pdZQwDB+PpW0OkcPXcgvBX2wjXQH1JlmejlLY58Qh67MYWhzoNUiOnMvPwOOboHy\n",
       "R1DVRt7PieG3EZiuQ5sV0UNXWwufkpD+GSmH15rpB5M0c78bINMFI9WIHroRnVR1E/N7sllTZkPv\n",
       "fkzeUWwFB5Y5zTCXZQZsgOUcZLd4rtQxcBMvQ9irH1cgXjMFH3p5euiyqsIrWn2ZVfXBZA+ULShi\n",
       "yDI5Z/oS6CnH2ObozAU4tNQ4hdp86S7Xq2nSPCd8aH9Bdvh7fRAS6NLUjV8cnbmkmwLB94+6AT3/\n",
       "8g2MkwPmYQlUlUxOx54yQa8a9R29Grh0uMq1MtKlRf2n1EUm2iGga87o92oSvaFvRtfEAiP0dJ8+\n",
       "Q5qfklWZ3v/WO+vF0MeoCK0d9Iz41yCNL81U1YrxxbbPmiwzSTZC6r6+wNND9187ghEWSilHpy8P\n",
       "q5poykDUCaqb9GT5DtlWad6FbqrKCpzyoLVmDl0EuESikDqHp6Hl9pa0qd2DCbzitZ7ez0YXnk+0\n",
       "Gi7Psr81+rj7F++etLU1uTpGAAAAAElFTkSuQmCC\n",
       "\" style=\"display:inline;vertical-align:middle;\" /></a></dd>"
      ],
      "text/plain": [
       "<IPython.core.display.HTML object>"
      ]
     },
     "metadata": {},
     "output_type": "display_data"
    },
    {
     "data": {
      "text/html": [
       "<dt><a class=\"ProveItLink\" href=\"../numbers/number_sets/rational_numbers/_theory_nbs_/axioms.ipynb#rationals_non_neg_def\">proveit.numbers.number_sets.rational_numbers.rationals_non_neg_def</a></dt><dd><a class=\"ProveItLink\" href=\"../numbers/number_sets/rational_numbers/__pv_it/axioms/3ee9c4b92353fbf95bce881b634cd0e06ca372f30/expr.ipynb\"><img src=\"data:image/png;base64,iVBORw0KGgoAAAANSUhEUgAAAMIAAAAcBAMAAADB+31dAAAAMFBMVEX///8AAAAAAAAAAAAAAAAA\n",
       "AAAAAAAAAAAAAAAAAAAAAAAAAAAAAAAAAAAAAAAAAAAv3aB7AAAAD3RSTlMAEIm7mSJ2q+8y3WZE\n",
       "zVRISQrpAAAACXBIWXMAAA7EAAAOxAGVKw4bAAAC6UlEQVRIx7WWQWjTUBjHv6RN2jS1qxNRnNLO\n",
       "oocVZSOoB7exDqSUMS3Vi5ctB3HqhlSm0x2UwfAwdgkiHp0IQ/TUgw4Z6gqKA0EseBWXm4jIuqE3\n",
       "Fb/3mry+rkmqh3zQJF/f6/u97/v+32sALFN66U08mAS/rL2fXJfgtW8EkI/jZQ7a8v4h1KMgbUDY\n",
       "bBrYW2aPkucKI867a9e0ExbitrIBkVJTcJ/i7FksexGUybhTcm4Y0iNaXiFVRkJY3zpjnfuZO2H/\n",
       "OQwgUHQYSacB3pDySlmDZKmtKUtd4EbYV493myks4vADh8CSFUSrOkjXDZdKuxOELhbwMkDKmRDY\n",
       "joGJRkW4Slc+D6vw7wSAS53WwzGaTSfCDgW3ETNzQtzquMx/EWDZQvwAWDAdCXeimMto6ZWHQghB\n",
       "muq8yBFsF+07FaJACCVHwlsVK6vo3xq/DT6hVlPGMH7e5UNVjmC7xN5fIchNJOggzzQTCjEaw4Si\n",
       "oR1xCkGaxy3OQ6hSJzCXEnpsQhKkPw6VrtUh45oj6SYuGqxCJFknMJdk6RplIuEDrrTrczNhZ01L\n",
       "7mW4i3sMd8NouU5gLlY6wyq9jvk+1NyR0Vo/mB51QCEmdFjhtMTculo1gJU4xDYa2iWVJQEOYU+v\n",
       "eh7ZqKWECX08wXK5jntOFSGySt+b7IVCEtK4dZGcSwMtCAFd3eQItsudGhFTmON6OpjDywETOp7h\n",
       "/czvtRy0IAhTl39xBOZyGRkcMyxC+9ILGCcH0v08yDIZnFb1VgQ82asNPa1WHacSgrCo/BS6yZwO\n",
       "sAghfexruRXB0r9NCFVcCcEBZYYcFHR1WaTff+mbLXkQLlCBJhsINXcPVdxjToMIDpflovpR0/qj\n",
       "LEutbJToYe0hT7DdrbYbd5rIB3SFbsCudEuTsvVukQ2vmYVbJLz8ggE9VLFFOFzy4YUiOnQK4LRB\n",
       "22V42p+XlpeknTV8xRPPlvwhDLKnk08n/ACIs+yvXhk3/gItf8qEMhclOQAAAABJRU5ErkJggg==\n",
       "\" style=\"display:inline;vertical-align:middle;\" /></a></dd>"
      ],
      "text/plain": [
       "<IPython.core.display.HTML object>"
      ]
     },
     "metadata": {},
     "output_type": "display_data"
    },
    {
     "data": {
      "text/html": [
       "<dt><a class=\"ProveItLink\" href=\"../numbers/number_sets/real_numbers/_theory_nbs_/axioms.ipynb#real_pos_def\">proveit.numbers.number_sets.real_numbers.real_pos_def</a></dt><dd><a class=\"ProveItLink\" href=\"../numbers/number_sets/real_numbers/__pv_it/axioms/988052b728edd5e8d053df0f4486c5f7407797eb0/expr.ipynb\"><img src=\"data:image/png;base64,iVBORw0KGgoAAAANSUhEUgAAALkAAAAZBAMAAACfn5KBAAAAMFBMVEX///8AAAAAAAAAAAAAAAAA\n",
       "AAAAAAAAAAAAAAAAAAAAAAAAAAAAAAAAAAAAAAAAAAAv3aB7AAAAD3RSTlMAZs3vu90iq0QQiTKZ\n",
       "VHZ+Ip2vAAAACXBIWXMAAA7EAAAOxAGVKw4bAAACUklEQVRIx2NggAMeBloCFvqbPqMBwU7Ap5vt\n",
       "GjZRIRN/VRMBXKbzaUxAcFbgddx2T2yiDukM7SITcJh+H8lw3KZzrTsGJN2xmp7FwMJdwHDExdnF\n",
       "RQBdcikDMabrMkxNQFOLZDpPggIOtxNlOmMAA5cDPtMdSDadUxGRHAoYeH/iNp19ZgHpbp8VB2Px\n",
       "H2Dg/ovb9C2XEvCYvsshZyHCdO4lbKcg0cMXBY3y+UDTP+IyPVn160ukvMoTCgYFYM4hIF7gs2Ax\n",
       "wnQullNcBtDwjoEYn7+AgfsfA8Nj7G4XnIQzixgCsYAqwymE6YlMATwLoNK8Ogkw038BqQtYTWeZ\n",
       "KIDD8CJgTuWe8BE53HfyIynmUAe5fv4CBg6g2zmLLmAznfuAJw637wFJcPxEidV+pAzGoTIBEqu8\n",
       "wFjl0sAeq6dTkPgo4Q7KfzwBKKYfRSjlVQeHDIsDA+NPtHx9ddFxPajpU/hwBA04HbAuQDE9CpGL\n",
       "YiDlGqMBAw8wOy6GiXM/d2ng42JYBtLnkMPAKOCBx/T8BmTT2X7ASzhYimSIZZi8ASlFngFy+PgY\n",
       "JB+Ay0g3Bhf9C7hNb0XJTRywcJoHz00Mc9ZVQ9XeufgmARwQQNNfHiBU5uMpCQKxqZUwZLowBewx\n",
       "LjY/AfJNx6qWO1GBm6ERbDqPlwPB+uoxCaaD8jU7KKxdXFwu8PFx9RI0HSX/4TedE5ivGZiBKWAX\n",
       "2O18HF0TCJnOdhzJ+Nd4VS4HqcwHJf8J4HBnWEkwVkkF20H2eAOJpkcL5hyiSeNilosLNIsAAIhN\n",
       "noo3qHX6AAAAAElFTkSuQmCC\n",
       "\" style=\"display:inline;vertical-align:middle;\" /></a></dd>"
      ],
      "text/plain": [
       "<IPython.core.display.HTML object>"
      ]
     },
     "metadata": {},
     "output_type": "display_data"
    },
    {
     "data": {
      "text/html": [
       "<dt><a class=\"ProveItLink\" href=\"../numbers/number_sets/real_numbers/_theory_nbs_/axioms.ipynb#in_IntervalOO_def\">proveit.numbers.number_sets.real_numbers.in_IntervalOO_def</a></dt><dd><a class=\"ProveItLink\" href=\"../numbers/number_sets/real_numbers/__pv_it/axioms/91fd9d4243b18056ed6f0bd2871364db106dd3dd0/expr.ipynb\"><img src=\"data:image/png;base64,iVBORw0KGgoAAAANSUhEUgAAAc0AAAAWBAMAAABQ5dp2AAAAMFBMVEX///8AAAAAAAAAAAAAAAAA\n",
       "AAAAAAAAAAAAAAAAAAAAAAAAAAAAAAAAAAAAAAAAAAAv3aB7AAAAD3RSTlMAq1RmmUTNIjK7EInv\n",
       "3XZ/CtNrAAAACXBIWXMAAA7EAAAOxAGVKw4bAAAFYElEQVRYw91YXYgbVRQ+yUw2k0kyuygU6koJ\n",
       "WPrgokYtKy3YRldrUbfGFnxQaaM+iIXWWSgF2a3ER63ivJQ1/qwDLmK60KQrWq2sBESwiBK11FpN\n",
       "mRV1ZaFLn1xZUDz3Z2bunblJtq8e+DbZe+/5zv3unHvunQD0tSsXFY02R5eu9QxNc3Qzex0tfdw5\n",
       "rE51HQ4fKdqsAkOXLsn2c0TtV46ojZ5799C5osKnS8Autl9AtgxDpO2m3jrjY0Y4FCY2m2+3cXpF\n",
       "hoglmwxxcybg0W1u3GdkvRKlsASo837S8WxvnbExZoVBFUNqHijhn4Mcsr3PodA5CRljKPSZVzH3\n",
       "NCnsQarzJbJLnN46Y2P0IoPC5OZBkmpbOWQb41Dq1O1K4GNeUDH3NCnsVqpzwMWPQm+dsTE5DmHv\n",
       "vNO5EHSFdsAlTS6DbC2OOAXV6QQ+1u1lBTPJfEUabrFjYRGoU8NVGuhTh2JjtnAEljrsCl2hLdAs\n",
       "KjLIk6wwKChQZ+LkUOCTNxwFM4B2PrZ2cPeD8bAI1AnfdDpf96u30TEPcZxa/OAz+pyPumJXenjJ\n",
       "Y/89tXIdpsIQg5zfTQZz5Ybj8zIF6nyZPBfuM8JLg8wM1s/MISAgR+BZRVgE0bkb4M1+OqNjnuEo\n",
       "WZv0tlykSPOTdmaNzeEvt2GDho9No49uvEPsO3G1dVj0xmUKZ+rQP8vg+2DH5jgzzF32F8wnAHOB\n",
       "r4EcFkF0TkA6WGvjOf7llo/vOSzoFMcQ+55Bs7W1BE2uithlfgFMPSTXIOdBErdhshVZvXyB4S7Y\n",
       "6V4vUziTd9JCzHyw8ubdGPORH/zRAUF63N8bclgE0Zlxs+UgxDAhXqyVrSycaYY6pTFoXzIYoLPZ\n",
       "GZjYnZ/8Lv0q5Jkzdg82wbgKFJLlygxV2BWlcCYz75EpM59EFSwvypx4OiDyCWBDUCnlsAgy+6Qn\n",
       "lJivEPfhJcmyYLsX6pTGhDqBLBtNFEfsyjnQYMuCkzpQgBQuaqrVRSfAt1EKZ9IokW3CfPDRmu0o\n",
       "s6DTJxB0ymFT7HlCZQdJ9x1nyAr+u+jSawjqXC4J9z46ZuWB32wpb7GA2ybNqbaYtw0Pdgbn2CMu\n",
       "JLE32Y7sTz9vIbUKJ2UKrEO7XwDfh9SYe2PMYd4GBGHeymERVOc8XhjMH41VIu+SVarTYpZNzxQF\n",
       "nWSMZW8c4Es2w1Av3whZ2rASRMXmRgE2JG2TBKzijgLNYZAs41GYJxItaMoUqLNOVpv5ELFHJWap\n",
       "DoUEYR2SwyKoziksMXrJIEmSKWqVfVSn/pYj3uPJGA1mDN50muG2Vx6GveyiFeTMaTL95HkdGrh1\n",
       "E8VMKTxCJOMVP/n3bCtVkCmcI3hin+A+Gpl7pioyMzt1mWZSSIBCryzTTzksgurEjY47xSIFNVfV\n",
       "h0ZrtVrBsrJ7RZ0J+mKz6je9xjC7khxjIcyNj4dd5qZPJv6E/CX8Nkxudvkyg2RGm8Lc422+Q6bA\n",
       "95VpqD1fYD4JosbwRGb/nkAP0JCA3hPoASqHRQRVtGFntqPXIOQKx+nztFJPuNH3MqPlvy7mqwzC\n",
       "beZTfmkLm2/2vxzjkO0iR5xC9BNPouhLpKa4943aEA17DEKdOfv1fe4cHlTb8Ayh+xPOliI6p7IV\n",
       "P2e0EoPCwuZm7xu7+nYfvekrmddnYyECnamxWz+EVwvGHg/Sb+D/j/3RnN0V0an//vmyzzHNoTC/\n",
       "2fTPJfKmo3gjytgMXS3mM31NMv2wBPLpD2yvzdVq5X6/J9Q5unTR1O8jiByYZq8XwphP/Zp0+mEJ\n",
       "ZJ0pV+mwoPh9KO0xgLpLsiWOqL3I0c2W+jL3tKUQ1i+STg3+v/Yfv77B8wwkG10AAAAASUVORK5C\n",
       "YII=\n",
       "\" style=\"display:inline;vertical-align:middle;\" /></a></dd>"
      ],
      "text/plain": [
       "<IPython.core.display.HTML object>"
      ]
     },
     "metadata": {},
     "output_type": "display_data"
    },
    {
     "data": {
      "text/html": [
       "<dt><a class=\"ProveItLink\" href=\"../numbers/number_sets/real_numbers/_theory_nbs_/axioms.ipynb#in_IntervalOC_def\">proveit.numbers.number_sets.real_numbers.in_IntervalOC_def</a></dt><dd><a class=\"ProveItLink\" href=\"../numbers/number_sets/real_numbers/__pv_it/axioms/dfdd8678cea43c1488ad4f19204191779287d9020/expr.ipynb\"><img src=\"data:image/png;base64,iVBORw0KGgoAAAANSUhEUgAAAcsAAAAWBAMAAABd+6oxAAAAMFBMVEX///8AAAAAAAAAAAAAAAAA\n",
       "AAAAAAAAAAAAAAAAAAAAAAAAAAAAAAAAAAAAAAAAAAAv3aB7AAAAD3RSTlMAq1RmmUTNIjK7EInv\n",
       "3XZ/CtNrAAAACXBIWXMAAA7EAAAOxAGVKw4bAAAFXklEQVRYw91YbYgbRRh+k2ySzSbZC4rF9qQs\n",
       "KP1hUYNKpQXbSLQWtTW24A+VXtQfotC6B0WQu0L8WevH/ik1fpwLHuL1aBMrWq2cHIhgEeXQ4kc1\n",
       "ZQ8/Tg4a+suTA8WZd2ZnZ3dnk95fX3iOMDPP884zO58HMDQu/agotDkSqqQwey1lywEKKpkhrRPl\n",
       "bdaD4fGhosy0GBKqQlFswP41KGw59/aBc1WIcxLyJcR+CaQHFVp2/WCb8TabORQhFxtvLmASs6ps\n",
       "plZwxuGhrW6cs/lKHWJWSvdBenAPrXhqsM1YG6PJoMoRKs7VMAk8o2qWoOBMQEGvCE7RUgknxCbb\n",
       "z4p0DtKDF8ivvDPYZqyNVmVQRLh4xGI2b1c1S1AgNjW7KTgnmyphddx5n8iKdA7Sg5wbDFiSzVib\n",
       "Eoe0cN7qfS+qghhzmc2SGxEdoIA2HcH59RpQCJNIx+bgpbNBVqRzkB5kyCDlhmxBsTabOERkD7pS\n",
       "VRBzbAOAXPRTDFAgNlMnKoKzcEQlDJA5Hxk6Y86TsiKdg/bg617vq2E7bbTN/RynFt/7FL/yc65c\n",
       "lR9d4hkf71+FSYqViKivYPQ3HD0dViA2j9A1xjjpbs5WCIP5MyMIAWO3GEqaFekctAe7AF4fZjPa\n",
       "5kmOmrlRWwjvT7T4Mbuwyvrwl9uxaZIMXWBaD6MiK2iw6O0OKziTB/5ZBs6BnJ2uxYVh9qK/yLmA\n",
       "sU6sKsyKdA7ag3HIi6HWn+Y/bvroroOSTbkNjW8ZMnZmNYVj2JSrjM+BmYf0KpQ8miQ9Hxk7rgB3\n",
       "wA736rCCM3Hbu0hGDtn+LsSFD33ntxYCgU3MinQO2oOCS//yGKVeF9sNswhnuoHNUBsSXzDooLHe\n",
       "6WRW937yq7TLUGZkUj3SpVT9csQmV4AW7IwqOBOFd+jYMc61AP2YcOoJIeQLQF5MWsyKdA4caE/a\n",
       "Xb4kuJtcjUwTtnmBzVAbqZN01HCaOHJVyYEOGxXSqTGLJsnOJ9gE+Caq4EzoNbpEkENPy5MxYcmm\n",
       "LyBtQZgV6Rz4jZrb6VzffoYO4L+LLt4+iM3lmnTZwzb9e3+zw1MOxmwDd4IFeTZ2PNghjs0HcSKk\n",
       "FyJrUyhkV+BEWIFsQbueB86h55hmxYSDSSsEggMFsyKdA22eJvcE4wd9hbq7YNZmcB8r5qeqkk3a\n",
       "xrTX5/j8n2KYaVwHRSzoi6ykuGPBurRt0IQtspxwC4peQLiCcSw1D92wArE5Q8caOWU6HZsh4dAW\n",
       "FAgE1wPMinQOtDlJhler6XSKFKqZ5j60qb3hyFd32iYDUzovep/hlhcfgL3sUifWPykueOnzGnRI\n",
       "51LVQg2TaN2ITa6Q/nt6PmuFFZxD5KA+xjl0FsFrIWEWpy7iNAoE2OFK3yKYFekcaDNFqkoNk86l\n",
       "UkurbGm325ZpFvfKNlP4lFnxi15mmO6n6yyFsf6RoMrY+PH4n1AmG6QxWmfXg3IjYpMrGHu8G24N\n",
       "K5AXynFoP2sxzgZa9EpI2L8e4MEZCEj3BJoV6Rxi/+zYhW2ENQIl6yh+TTP7qBt9iOnzef6r3GKQ\n",
       "LjGf8KtaUHxj8BCDw9HDeICCH4fjjPA1aOCDA+kcwmbJfnWfOwtldys5PHBtwtlaxOZksenPmEyN\n",
       "QRFBcVeyWVc1S1Dwo54kfGVRDyBsZus3fwAvWfoeD/J0JTz8R3d6Z8Sm9vtny77GcQ5F+MWGF9hU\n",
       "PIEGKPBz0EkQTnhksm28JdN9hA99YOtstt1uDPvvwQxHQhXOe+m/BwV7LQosYpyZNX1MSvcRtpl1\n",
       "lYQ5xf+C8h4DqKtCD6xfGrC0JgUWS8OEB8dSANoDefbD/zb+A3mXxBqVohtOAAAAAElFTkSuQmCC\n",
       "\" style=\"display:inline;vertical-align:middle;\" /></a></dd>"
      ],
      "text/plain": [
       "<IPython.core.display.HTML object>"
      ]
     },
     "metadata": {},
     "output_type": "display_data"
    },
    {
     "data": {
      "text/html": [
       "<dt><a class=\"ProveItLink\" href=\"../numbers/number_sets/real_numbers/_theory_nbs_/axioms.ipynb#in_IntervalCO_def\">proveit.numbers.number_sets.real_numbers.in_IntervalCO_def</a></dt><dd><a class=\"ProveItLink\" href=\"../numbers/number_sets/real_numbers/__pv_it/axioms/bb5e867afdfac71f56ccb8e1154e66d5ca8810460/expr.ipynb\"><img src=\"data:image/png;base64,iVBORw0KGgoAAAANSUhEUgAAAcsAAAAWBAMAAABd+6oxAAAAMFBMVEX///8AAAAAAAAAAAAAAAAA\n",
       "AAAAAAAAAAAAAAAAAAAAAAAAAAAAAAAAAAAAAAAAAAAv3aB7AAAAD3RSTlMAq1RmmUTNIjK7EInv\n",
       "3XZ/CtNrAAAACXBIWXMAAA7EAAAOxAGVKw4bAAAFXUlEQVRYw91YW2gcVRj+d3Z2d3Z2M1kUi20k\n",
       "DCj1oVQXLZEWbEeitahp1xZ8UGlWfVALrRMogiSV9UlqvcxLqeslnWIQ05hmrdRqJSUgokEsQYvW\n",
       "1pUJXiKRLkGwkYDFc5uZc+ays776w5dszv7f95/vzLlNABLj8oWIRpMhOTsuM1aB+z6pJYHOoDVr\n",
       "HRBORbRpOkUH2bsZOlXomz26d7YcwYmuFxe7ORQqUMJtN7a3Gc5Zx9DepvrWHOpdmSIQ8QrWEDy4\n",
       "0Q5z1nXqUCiLgWzeg794sr3NUI5apUh6mlkD/djDIHYlXsEahrxS8jgF3WcIIcX2Wii7h9h8AX3K\n",
       "We1thnLkMkWSzW7cxQ0MQrRRQDZls+pxJqs+g4/0eTuux0LZDcRm1vYHLM5mKKfIwC2ct5vfhW0O\n",
       "4p4UbQoh2igQm5bH+fk6n8GnX4pyudYMlUVANtNokLIJW1AoZy2DF5l9dtTTnCZTqEwBHSogm6nj\n",
       "JY8zd9Bn+DHxU1RX77wvXBYB2YSvm82vknbaYM79DCfm3/uUPOVnbS576Ozz7I/HWtegeVCigCgF\n",
       "tbXm0ElRAdk8iJ8K5UiNrOkxcj0LDvlj7FtvkbsC+DA7E1EWAdvcBvBGks1gzhMMhtYrz4n70ynI\n",
       "fAFHaZ/VK/aUCWm0uDBAbpIo8QoyzDsDooI1svefRWAcyJqS4dV81Myv4M/HHvcXuSsA6rQDEWUR\n",
       "sM0hyHlDrTzNPqz/6K59/PPhcnB8Q5E20yspMrWqnM33yzDA9sIVKDogzQABRCjAHbDFvlZUsIZv\n",
       "f5ewCQdtfxddhvoZ0FFN+TY9gdyAuzDEsgjYZt7GP1n0YK/z9YpWgNMN36aQg+JzCgVk2jsFzerm\n",
       "Dyx7B8AlNtJV6G6AsgQEEKEANdgaVLCG8+/gHlPO9QAtlyEvQRft1X5v0roCsMrbI8WyCLjzksPt\n",
       "Ll8i3I2uRpoGmxzfppDDdRKPGpkmFvc0Z0H9i35GfRrUIYOGNDMTYxPgXFDBGlYMvEQIB5+Wky6j\n",
       "aMFUJbQFnQvaFMtm6NOE6mZM23waD+DVeZvcPpDNRYPbO0lO695fTHHKwaCpkmU459tUr0J6yTu/\n",
       "dtggoS8xhLXpKWSW4biogLagbc8B4+BzTNYZY8qBLaEDxRXwJ61YFoHYPInuCer3yjLmXtSMcSJS\n",
       "yI2WOZs4RzNXZ9mIjVKMV26AAmlocTb/hFT1ZsCd6K6h1QRpi0IIpqAeTs1AQ1RANsfxWBNOFzZQ\n",
       "ZYwpHVZJpnA98AX8LUgsi0BsjqDhlQ0FT5F8OV3dRWzKb1r8vQbnpGFUYU0fUNz60gOwk16vdD97\n",
       "FNYbhnoF7xTlPJoScoNCCKYg/T02k9FFBWs/OqgPMw6eRfA6Y+Qd6bzsX/aeAl4A+by8SH6LZRGI\n",
       "zRRai8WKhudSsSaX+ur1uq5phZ28zRR5lVl2m16hGGtJ/bSEuvphL/vYHy/21qCJxlrt6ccPpEIh\n",
       "BFNQtzs33SYqoDeUI1B/RqecNbjpVcZQez8e+j1wN/YEyPWAHJxiWQRv/5wy85tQv7qhqB8iT1PL\n",
       "PBK61ygzOXeR1yi4S8wngcue5B33BxiEaKPA8wKMxOgzIVj2APg2i+Zru+wJ6LI3osODrE04YwRs\n",
       "jhSq7oxJGxRtru4Fr6WfQbx4xyvwvADjv0S/D89mpv+WD+FlXdnuQA6vhId+a4xtDXRc/vXsoqtx\n",
       "hCHe5gm3Ab/aRLwCxStwvBCDxSTZsi8k0V2Ihz7QdTZRr1eS/nswzhBv0z11IW9SdKzA8UKMzsMt\n",
       "iyHazES/wE1HjFrOoegge4GhYwWOF2J0Hgs+tB8Fm2n438a/bPzN2iVooUQAAAAASUVORK5CYII=\n",
       "\" style=\"display:inline;vertical-align:middle;\" /></a></dd>"
      ],
      "text/plain": [
       "<IPython.core.display.HTML object>"
      ]
     },
     "metadata": {},
     "output_type": "display_data"
    },
    {
     "data": {
      "text/html": [
       "<dt><a class=\"ProveItLink\" href=\"../numbers/number_sets/real_numbers/_theory_nbs_/axioms.ipynb#in_IntervalCC_def\">proveit.numbers.number_sets.real_numbers.in_IntervalCC_def</a></dt><dd><a class=\"ProveItLink\" href=\"../numbers/number_sets/real_numbers/__pv_it/axioms/4e2e4d57090b17d20133ba7fac7880bb2e660bfb0/expr.ipynb\"><img src=\"data:image/png;base64,iVBORw0KGgoAAAANSUhEUgAAAcgAAAAWBAMAAAC2zBEyAAAAMFBMVEX///8AAAAAAAAAAAAAAAAA\n",
       "AAAAAAAAAAAAAAAAAAAAAAAAAAAAAAAAAAAAAAAAAAAv3aB7AAAAD3RSTlMAq1RmmUTNIjK7EInv\n",
       "3XZ/CtNrAAAACXBIWXMAAA7EAAAOxAGVKw4bAAAFmUlEQVRYw91Yb2hbVRQ/SV7y8l7St0JBZEoJ\n",
       "OOqH2S26MVnBGa1uYm0NG/ilA8MUqkUkBREKUjIQBq6yoM6aivUVilirW9zsBhtK/VD/shH/F7vM\n",
       "11UUJy1ScJ0Vhvf/u/e9l6T96oEfTW7P75z7e+/cc+8NQCOzqoWA0TxDQ++lOdAD/HSGWqavY6QB\n",
       "nQPNoKElskFaUhTr8J6GqOP3u8LgtcgzpWuXXoUAzpWNiMR0DjSDZjx2W12RIfwnnJYHtzLUFzl5\n",
       "gaSARZ9buEzhN0NvjraM+jnB3kFGsi5KmIYH8XhfXZEannhMLk4zR9HoTT5JRcZsr9s7DEEiy1A8\n",
       "7HJOSQzF2vyrJdwnsmI6xzQcxpVbrCsyjt/2oDympSkaiVyhIiMZr1snQ7DIfTHBMX+UGLLd87C/\n",
       "1L+3RVZM55gmUhOp+muyX3qixJIMrv1RreZ8IqNrVCR85Q06w+APQEQagmPdmXUZcj875+8T87ab\n",
       "ldAZpiGCXkisQePZgf4oxdnGIOyxq0FvMlFhIp/w1lWOIiAAFrl5XHCa4kXBkJbLx/5eNnVZzkro\n",
       "DGgGF6rVrxuITFarl5R138VwYuHd87gK9H65XAc+GaJfYq0LKSLyQ09MrUxhLm8+SkrEDYBExl/p\n",
       "E5ytrF9gbxHY7OZLRQSAie94BJKV0BnQDB4CGG0gUiuAofQO/pgyVqtWUboS8o5+Dm9T75P95ioR\n",
       "uQt/665i+4bMI02hwYLTDUoAQ//sl8s25yCJW4AzeGDzJrG8RIDxQ2JyJCuhM6AZDIDezP8ff5p9\n",
       "aD9z37PutJHDgCL8W4pIPrIWwg81Jj+S99PQTb9st+EiEXmH58E1pSjuhnvtFlACGPrpDlKahIN6\n",
       "XpPNGSKwK1IECLkiSVZCZ0AzMGxpHd2CAy+UslYCzpbdAhwlU3VtliIOGl0qw/gdFZn3owDz1G0v\n",
       "wL+EecwjMpmlKGAXNQAq11HcAygnVADL4QwRWBflKgLAc6JcSVZCZ0AzCDtS3/kC4QF0MLMs6HBc\n",
       "kdvUvsNFotzUaVJ+k1+C+Tf9Mg/RFSLyYA2RgJ+5GgCJfJGsjYNsdzQrnOEGlhrPRV/jIVkJnQHP\n",
       "ILcHu+w5i1/ijQXbwk8JibyacUXGIiio9evQPrVcAR7Pm3hCTZJI8wZE/uLbpLZGUrR71iQvV4iu\n",
       "wnugBEAitSNFzsFN5X7GkAK7WwgPIG0hJCuhM+AZnEKdzfwpvor9frYy5KFaCX0s7YpMtCH+76Ei\n",
       "L/wxisnsrZAg7o4kcgVCudsBJ7yOlxFOsdu74zsE5vHQDJTVAEikWVzkHPwWn2cMFlg+DLgBpMMA\n",
       "yUroDHgGL6C+o2XieLc10pHcAZJUe7MobQr6p+hD2nD4DYP15u0vPQL7ycAhqVzHoD2TMa+hLy3w\n",
       "Gk3R5e3YzQTh6xMz0ZQawNAzsMPIUg4uIDAKjEECu3s1GpYCkM30KeBZxS7XRWeAFjcqeQu32GRB\n",
       "a95VKpVSlpXYL2/vN+NPm0Sff5liYjncSVOMH7eF9/ifR1oLUEUD4x+laYofPCLjFQKzx9lyFygB\n",
       "0C3kn7zx+grlhPBg3GEMGlg5FLgBXCNZCZ2BN82TeaMDBdwEydRR8iataK/tPcMMixtkU4HCtd63\n",
       "PMe6sC2uWqBXvBOZY/AHEDfCip+xkQtlxQUXmcwfO2BPoT1pN9320RZyLqOK1GfOAC8WfvStc0BP\n",
       "uPfJgLP8Toba5uXs3JhIfoXQ0q7IaOe20zCcivc4oL+Bj5K/lSf2eqbd07ssjj0jDLVFnpBEDvrv\n",
       "GnmK2jYYwOBFStq0+hPEB2RoTqFzqHs8XV9TpVK20S8Dk8reFuTtSCL9j8MsUtS2kQDGBmxEgiIy\n",
       "agdOO+g3Ht2haOy9NAtWwCsbYqj5y1I+iLFuw3SOpVnl0gn/U/sP1uXVdLugG3EAAAAASUVORK5C\n",
       "YII=\n",
       "\" style=\"display:inline;vertical-align:middle;\" /></a></dd>"
      ],
      "text/plain": [
       "<IPython.core.display.HTML object>"
      ]
     },
     "metadata": {},
     "output_type": "display_data"
    },
    {
     "data": {
      "text/html": [
       "<dt><a class=\"ProveItLink\" href=\"../numbers/number_sets/complex_numbers/_theory_nbs_/axioms.ipynb#imaginary_number_def\">proveit.numbers.number_sets.complex_numbers.imaginary_number_def</a></dt><dd><a class=\"ProveItLink\" href=\"../numbers/number_sets/complex_numbers/__pv_it/axioms/5b16aa60a4b2f6340d52cd72e6d8400fdd89acf00/expr.ipynb\"><img src=\"data:image/png;base64,iVBORw0KGgoAAAANSUhEUgAAAGsAAAAVBAMAAACzuQ2OAAAAMFBMVEX///8AAAAAAAAAAAAAAAAA\n",
       "AAAAAAAAAAAAAAAAAAAAAAAAAAAAAAAAAAAAAAAAAAAv3aB7AAAAD3RSTlMAInZUiRDNmWbv3US7\n",
       "qzJazP2FAAAACXBIWXMAAA7EAAAOxAGVKw4bAAABOElEQVQ4y2NgYBBgQAaoPAhgZMBUwmTAsRgm\n",
       "AGRtwqJNGZULVmLCwPQZJgBkMTVg6GJ2QLD5ljKAlbAmoClKxdAWhmDGln2FKGFHN70dQ1sFEpvp\n",
       "K0QJJ7oizgB0kQno2oBKzIBu/wf3BZDFhm49cwK6NqCSEnRtLBfQtLE7oGsDKslA18YBNrxqFQis\n",
       "ZWBAsx6sDahkMbo25glotnEZoGsDKpkN1cb6DaqN7wN6GG0AxgHY8nVQbUAlMG0My6HauCdg0YZq\n",
       "G1AJpiMXoPkNiyMXMBzCCJIDaLbxKGAEyQEGX3RtKOHNwIAWIywfIVHyCl0b1wY0bXwLEGzem99u\n",
       "gJVwPUBTJYWRJtcxYCrhKMCTcHEkbpCSg2g5+QCGNh4BLEpi8KsBpYQDWJQwKqCIKWIpFIQY0JUA\n",
       "AFRLXTKaaokhAAAAAElFTkSuQmCC\n",
       "\" style=\"display:inline;vertical-align:middle;\" /></a></dd>"
      ],
      "text/plain": [
       "<IPython.core.display.HTML object>"
      ]
     },
     "metadata": {},
     "output_type": "display_data"
    },
    {
     "data": {
      "text/html": [
       "<dt><a class=\"ProveItLink\" href=\"../numbers/number_sets/complex_numbers/_theory_nbs_/axioms.ipynb#complex_numbers_def\">proveit.numbers.number_sets.complex_numbers.complex_numbers_def</a></dt><dd><a class=\"ProveItLink\" href=\"../numbers/number_sets/complex_numbers/__pv_it/axioms/72b04c8a6bf0c174867bd6817c704499d6f811210/expr.ipynb\"><img src=\"data:image/png;base64,iVBORw0KGgoAAAANSUhEUgAAANoAAAAWBAMAAABUGZ8nAAAAMFBMVEX///8AAAAAAAAAAAAAAAAA\n",
       "AAAAAAAAAAAAAAAAAAAAAAAAAAAAAAAAAAAAAAAAAAAv3aB7AAAAD3RSTlMAq1RmmUTNIjK7EInv\n",
       "3XZ/CtNrAAAACXBIWXMAAA7EAAAOxAGVKw4bAAADM0lEQVRIx7VWTWjUQBR+TbI/ye6miwcPFiQg\n",
       "eNGWPUihPdRIVYSiLla8tNjVCqKHkoIHRYUVvNnSvYhu1RKll9LDbhWsCoJQBPEHa1kVhECKaG0P\n",
       "UjxU7UF885Nsxt2GvfjBl868N8037828lwVoABZnfU9jKwFi0BB0g7GeR14QDMc5RWiPPwydL0dc\n",
       "gDSZbgtV28FZz6P/8F95ex7lM4wiFudg8rcJnwH2kenpMDEtx1jfU0XUxMdZziCUL2WADhOiNlwh\n",
       "GS2EqSkZxip6A54qmkmyd3EGcVW1AZpMkKkgJIwwtSRnFW0BTxUDNjHZjATLjkOD36KSPODOXoKM\n",
       "z2josW3nrFVDq/TLtz6l6cwwIo6tcEfhHB8MArxxnFehaj2csZYlV1TrEdROfN+EaUoz4nLv+GLp\n",
       "a3w0A3AAYDxUbZCz31LXRbXBoJq2ZpcskDF3Ms1f1Ku7eNk753aAYRT3/iN+hg9aH+4Z8owLjNoc\n",
       "KPOi2kJQTVqHpAvSM6AMHE/M9CpwJ4BqJ7J+HC1EcrGY1RMwW+a254zKKqSI6aDjvHacd9xD1bQ1\n",
       "ckFz0FyG+CpQAow4CHrZCxf5m8ZwvRu4JC+Qe/NYoTp0uqJasgClrBibpwYVJG5lwIAIxhWhsU35\n",
       "Lx1X+aAfmevCx3TXLAnrz6JNWwGqrZhiJksu7IaQTGK5HbZBwmRLNOEpX+0oqTfAnbbin/t4ebSP\n",
       "8Z9E5JNu0j3pidiEV7oTjCUDNkuWoDYhqOXxZEEuMOIr3GovSdNEQwdOLpGxGSfhqxk5Ry+Qrtzy\n",
       "+8sMo+pKFUWMbSao1pRRMRtKmRFx0g9u+ZR1r8LrqAnPKZnVycVM5pV0e7FYNHQ9ccRbO8qobX00\n",
       "/E1UGxUqoKWb5C/LiLh73fa/AW8rJCvv+bxkqZ3oa4akQUtR1yN93tpUnrG2l4hWisucBH13HKFt\n",
       "x+a9jmeN9drTkLI7gB4pVsAT75ZgM6Ws7cqilaKbc6P2ThHpbnsAI0b8kAuxm6THfS1P7vdW3eCs\n",
       "RY2VfE02/KJcEKfsUzBdLGYF85RQPf96BKgWYwN7i9gb/KBwGet7BCxx1v1ZIe5Chv+Nv3Fw04Gv\n",
       "2FbHAAAAAElFTkSuQmCC\n",
       "\" style=\"display:inline;vertical-align:middle;\" /></a></dd>"
      ],
      "text/plain": [
       "<IPython.core.display.HTML object>"
      ]
     },
     "metadata": {},
     "output_type": "display_data"
    },
    {
     "data": {
      "text/html": [
       "<dt><a class=\"ProveItLink\" href=\"../numbers/number_sets/complex_numbers/_theory_nbs_/axioms.ipynb#conjugate_def\">proveit.numbers.number_sets.complex_numbers.conjugate_def</a></dt><dd><a class=\"ProveItLink\" href=\"../numbers/number_sets/complex_numbers/__pv_it/axioms/6c3d83938327ee86e813b76183cef6c952fcb6cd0/expr.ipynb\"><img src=\"data:image/png;base64,iVBORw0KGgoAAAANSUhEUgAAATcAAAAZBAMAAACm3XTzAAAAMFBMVEX///8AAAAAAAAAAAAAAAAA\n",
       "AAAAAAAAAAAAAAAAAAAAAAAAAAAAAAAAAAAAAAAAAAAv3aB7AAAAD3RSTlMAq1RmmUTNIjK7EInv\n",
       "3XZ/CtNrAAAACXBIWXMAAA7EAAAOxAGVKw4bAAADlklEQVRIx62XTWgTURDHJ03SpElMg4IgQgko\n",
       "eNDaHKpQ0bBSFKVUC3oUjFQQe5DtUSg1ngQpVFEQPej2UpAKrR+geJBcxC8qFRSDNZDWo4oSKBWF\n",
       "4sx7+/X2vd0kxoFZsv/N/JidN+9jAfwsPISXXdC0xTSACLRswYit6G1a09C2y1oVYldaTi4QkSjg\n",
       "ZZr9TR2suGc+cDULkG8gIpijRFjWkcPLNfq1rHy+DPuy7vtolTscP2cArDNUEU1xCJEhZYscNEZv\n",
       "UKJxmlOO3hz8sKF35/HyhXv66ROseTqjimiGwxAHSD0jRw1QU85ZQyuZqJ5Gbze4xyivxO86EfU5\n",
       "hLjo03wr6J00YfuFoufMH4IKNZrdGnfQSRmWgP3K5AI4wzzJZFYKitOrT1LnlIRRqJo/BDXK6vTa\n",
       "dGaHJWJJmVwABxFhrEW7HJRewMt3SqegSo7UnqKlJhesYtkF+yY1V0HZcgEcQsxXKm/kqBCxNlp9\n",
       "N/psXEyOVAfa3rWEtb8P3Jmd9E5XkeNW/TiEOARwS7GSUBvepACsbPQF3DGE5Eh1oLMjiVWA3cCd\n",
       "2SR7OFghewcSx04ngEOIUT6/eKedtaNIO0XLDb7LvRwMipUj1YH2GPAWYAdwZ3ZhyPO2Iset+nEI\n",
       "0WEkHdBmO4rmy3v0FD48CrBIY1CpfMYmyJgqg87S8B8E+INvCtx5EbzJuTgwzQparsMhRFvVNR9e\n",
       "SpWj8FeQWBErZ0PZSyxCFBeBE8CdV66oSM7huFU/DkMUaBebyT+mYV1bMuRhTaxB+GfQsNYggotA\n",
       "N3DnPad7ek7kqIdV5DDEgxFcjj/GV2kB+ZQ2zyEhmhCbaGZUIVHDybtNSA5VF/QXdRP0AXf1bBU5\n",
       "LtWXwxBjWKSIFi+x3T5sLkfpkrnSJPHpbejWNCE5Uh3oBrhubngDlrTXO/1Fjlv14zBEqEhjz7bq\n",
       "VDGScS3WlHscF8apr5e6ikJypDrQqUe0q30wndl+acsROG7Vj2MjZvWOPZhJJ6Ssney52a5QVm5f\n",
       "ZflgtsCdm7y3lpXbVwDHRqT0yWPGDJ6h+qRTSa9y4++Vz9U57vyoKp9KepXJ+XMcRLR/50OYyMaP\n",
       "WJWBCSo660NdeRaV1POm8w+QTAMRwRwvwn04CdHNeiqC8jAvqzdM50uE3kBEMMeDiBrKb4hx5Xh4\n",
       "1bTOnVu+gYg6HA8iLNxt9z1at/jp9D8Q//rdypraaP27FRF/AUEsJprLAx/KAAAAAElFTkSuQmCC\n",
       "\" style=\"display:inline;vertical-align:middle;\" /></a></dd>"
      ],
      "text/plain": [
       "<IPython.core.display.HTML object>"
      ]
     },
     "metadata": {},
     "output_type": "display_data"
    },
    {
     "data": {
      "text/html": [
       "<dt><a class=\"ProveItLink\" href=\"../numbers/rounding/_theory_nbs_/axioms.ipynb#ceil_is_an_int\">proveit.numbers.rounding.ceil_is_an_int</a></dt><dd><a class=\"ProveItLink\" href=\"../numbers/rounding/__pv_it/axioms/ed765b9ce39bef24b7b045c119fd287b533000200/expr.ipynb\"><img src=\"data:image/png;base64,iVBORw0KGgoAAAANSUhEUgAAAIoAAAAVBAMAAABrmWvBAAAAMFBMVEX///8AAAAAAAAAAAAAAAAA\n",
       "AAAAAAAAAAAAAAAAAAAAAAAAAAAAAAAAAAAAAAAAAAAv3aB7AAAAD3RSTlMAq1RmmUTNIjK7EInv\n",
       "3XZ/CtNrAAAACXBIWXMAAA7EAAAOxAGVKw4bAAACPklEQVQ4y42UPWgUQRzF393tx7mrw4GFxmpB\n",
       "sYnCYaFooStoFEQ5VCw0xUIKMUhYG0FIcYJdEKOgcaMeV6Q5bS4HKlrINRZR/EBQsBjY4EeR4rCL\n",
       "hYX/2d2ZvQt7m2xx+5+dmd+9efNmgNzHh855GJVFzquZY0ys8zAHpXSq7g72Fq/+u8IfV3X6l4po\n",
       "7xxCGUUehd2twzOAH8Bx0b6cDbG8XIrmglU7gNHETbGy2WyKVs2lFHy0LJpacgUItpNN2YxMCnvC\n",
       "v0VSgZOFOhXvolHGEFt2Z1L0qab8Uq7cEq8J4APn74dQTiUUq7djpqMo1xUEm5rz4rVIooD5IZSJ\n",
       "hKJhOTytKH1bMVqKsrQfuAaz0jdz74ujU7L+klAO4Ehzq6J46WAv9mKPUGXX5DKXgxqz8bKdtN8m\n",
       "lDrGUl/KZAH/noTyOUDru0MJDJW5x8hwxnAoXEMBPqYUK41FS0RkGzAuZB2mn96Jnz4TE4iy4q5Z\n",
       "EfRVPFUr+qwo2ykx1h9ygerOJM31RwynFam0zYbc3EZMse4XumgrSk/ts3ueokfQg9SYJnNLaJRx\n",
       "LqJoj5TkxZhS/LvQ1R1FMRy1z5Mw783GiYjih1XasCAIHMbss5JyO9FyJty1L02dNXIx7h5/sBR8\n",
       "WiKRX5W6romZSAvTL8lYbalnngD9VXwC1AUjnZq2PY0URr7gtXSXjlneaew/tHHx680KzIdUXfjd\n",
       "XhiT/XMbotwYbD4LgtrAh9aGKHPr3JhmiGJ6a5Tb2deqj/+AiIX2goq6nwAAAABJRU5ErkJggg==\n",
       "\" style=\"display:inline;vertical-align:middle;\" /></a></dd>"
      ],
      "text/plain": [
       "<IPython.core.display.HTML object>"
      ]
     },
     "metadata": {},
     "output_type": "display_data"
    },
    {
     "data": {
      "text/html": [
       "<dt><a class=\"ProveItLink\" href=\"../numbers/rounding/_theory_nbs_/axioms.ipynb#ceil_of_x_greater_eq_x\">proveit.numbers.rounding.ceil_of_x_greater_eq_x</a></dt><dd><a class=\"ProveItLink\" href=\"../numbers/rounding/__pv_it/axioms/7a7abe75957c0525b4d0ab245d81779e724009d50/expr.ipynb\"><img src=\"data:image/png;base64,iVBORw0KGgoAAAANSUhEUgAAAIoAAAAVBAMAAABrmWvBAAAAMFBMVEX///8AAAAAAAAAAAAAAAAA\n",
       "AAAAAAAAAAAAAAAAAAAAAAAAAAAAAAAAAAAAAAAAAAAv3aB7AAAAD3RSTlMAq1RmmUTNIjK7EInv\n",
       "3XZ/CtNrAAAACXBIWXMAAA7EAAAOxAGVKw4bAAACGUlEQVQ4y42UPWgUQRTH/7cft5vdOASslBAW\n",
       "FBsNBgtFC11JTAJROSLYKHghgmgR1lJIsbYG0UbiKhxXXJEzEC4pElCQa2wUJYhWsrKHH0WKayNW\n",
       "vpnM5rLLnLmB3Xk7781v39cM8N8RwIzjRIhaHI8obSzsM5gHvbPV9JVGJv1lgAtHulCOowcKfgCX\n",
       "+HxHrXbKCoozmzcrVvGQR/ZUTTFGVL4sf8+Z6T4HwfXUlH4oI2Lfqlm798Kq2CUtx9QU6DkMxfgx\n",
       "jj90oUxJitM+vLC2N7va7UDMK62lNxTHKjAJvOhCmZUUA63kSqZG5ozwxmdDxiZwGrgPa2DPzuH1\n",
       "i3Op/FlSzuBC9WCWcpdT9ED/WyD9CaCv6pakzm5FJeZioyG/30lKiPFsv2gzIiIbRpnPT2gl2U3u\n",
       "WEgFYDiX5CjAp2x2v6TZ7RemN+kpn6dXe+JnwPgGomz5uYhgbuOVstK3AofkYZLW7pEiOFT06sLE\n",
       "tSppcSs7FOdZoYmGouvqpUG4NJ+lZ56Sq6Ni45qgGC93O3l1h6L9qTVNT3ECTj66jGnZEYWQr2xT\n",
       "waIo8hhzp1Orx9KXq8nRU6rTWGtro7ztv6YLdtPCgvCFmTfSsA+EPZ1pa1MK827ZoJqLvOC13zlm\n",
       "vVCM1MT49XYL1nOSrv9u1MZT/aLqZojFCDuUB1nochSVMgv1nnxZ3OfGtBJonVvDbqiv1QD/ANyP\n",
       "fuAv0KI+AAAAAElFTkSuQmCC\n",
       "\" style=\"display:inline;vertical-align:middle;\" /></a></dd>"
      ],
      "text/plain": [
       "<IPython.core.display.HTML object>"
      ]
     },
     "metadata": {},
     "output_type": "display_data"
    },
    {
     "data": {
      "text/html": [
       "<dt><a class=\"ProveItLink\" href=\"../numbers/rounding/_theory_nbs_/axioms.ipynb#ceil_of_x_less_eq\">proveit.numbers.rounding.ceil_of_x_less_eq</a></dt><dd><a class=\"ProveItLink\" href=\"../numbers/rounding/__pv_it/axioms/2e6b37719bd1a646b926904102c63034e5b9db880/expr.ipynb\"><img src=\"data:image/png;base64,iVBORw0KGgoAAAANSUhEUgAAAN4AAAAXBAMAAACWruz4AAAAMFBMVEX///8AAAAAAAAAAAAAAAAA\n",
       "AAAAAAAAAAAAAAAAAAAAAAAAAAAAAAAAAAAAAAAAAAAv3aB7AAAAD3RSTlMAq1RmmUTNIjK7EInv\n",
       "3XZ/CtNrAAAACXBIWXMAAA7EAAAOxAGVKw4bAAADKElEQVRIx7WVXUgUURTH/7sz487O6LS9Kcqy\n",
       "ZFAPSgNFYYRsWFlUsGj40JdbPfTxEBP0Ukhs9GRGWmE1CTKGVGbJFGFoENJTFMVCSUKsjGmBFiL0\n",
       "EPjUvTOzM7PLbAprF2bn3plzzm/OPf9zF1ihEQKOZCateW3mUyGbFRvfgI3u6oCvDWcAETqpLhoX\n",
       "1JfBwzSwk95PFs17gEK8oCd4iYbLdF+7iuY1FOIxnzX3MROnSIixonljBXjSV81r9g6MTNIsvnxJ\n",
       "f97gZK7dCeBDJvO+aB6r27yhqUevYg6v3+mLoQYIRJrPgN3AveUFjRd+VSLbvLgUZdNZXt9xx0Cv\n",
       "AbMAbAbOIRTxeNYObz+bG6uqZ88Lc+Kqqj2RxyuLWTxGYRYDcpYXcHh8bD8CxL8GCGti1pufUhOS\n",
       "iJe6E+d6RTe+YHQujyeM5CmsNGHxeLBJT/3OZ/dTwEeUkm7vJKU2HLnsSBFBSdhqOGUhmw2ZXyfn\n",
       "8YBZ2ZcHM6qPXrhFdJLoh8k0WU9+5htnFInGILw5WqijEXL0TFtUFi6Pm0KA3usMyyl3P4FWRdB8\n",
       "+oGk/YtWi1zPz5DHSkVJbMA0EEO9hCsYi/yYYGW0Zb2HN7RKu2autimmk/UqbFi8gUQVRL9+D0dw\n",
       "g34ludqIXBj08mg2eWwPjRu6n5a6OHPTBEP38C7WYtbcqW7LyRpixOJtuLoPTXnn2Skzvwj3m9z2\n",
       "UhWl6IM/RKyqqsYkSWwytaUHDOa0qt6EKGqC5tavElGqhHLbyVZa2uL1zwcbYn7ntVA5Q43HHYex\n",
       "EDrM/CTuEI1elihN8WZiTVcgenjjeEuaqDzrZI8JLPX/IBLhhtL2ok1MsqQzzPphNC7oKEu12geB\n",
       "HscRjz4nuAX0NTpO9ti0BG8YT0jebFbV7PfXcwjdJbOWH3r/Lv4Ngg23gQtkq5nV0ZFjHt7auiQe\n",
       "u072CCs+vKcZOmjqmCR1IPFyP2JQVe3WD+IhbtG+Vrvd1yZPUMKyz4FGpfyv/KpnaOQ7hc7Dg4hy\n",
       "yfyHJi9gtPh6XALWuKsOXxtJKcST0fwTvjyunoionShZVfCfx0oA/gKVO86sri/MBAAAAABJRU5E\n",
       "rkJggg==\n",
       "\" style=\"display:inline;vertical-align:middle;\" /></a></dd>"
      ],
      "text/plain": [
       "<IPython.core.display.HTML object>"
      ]
     },
     "metadata": {},
     "output_type": "display_data"
    },
    {
     "data": {
      "text/html": [
       "<dt><a class=\"ProveItLink\" href=\"../numbers/rounding/_theory_nbs_/axioms.ipynb#floor_is_an_int\">proveit.numbers.rounding.floor_is_an_int</a></dt><dd><a class=\"ProveItLink\" href=\"../numbers/rounding/__pv_it/axioms/ef4a67e9ee571b0eb9e3e2cb5f0ed83035f4ae030/expr.ipynb\"><img src=\"data:image/png;base64,iVBORw0KGgoAAAANSUhEUgAAAIoAAAAVBAMAAABrmWvBAAAAMFBMVEX///8AAAAAAAAAAAAAAAAA\n",
       "AAAAAAAAAAAAAAAAAAAAAAAAAAAAAAAAAAAAAAAAAAAv3aB7AAAAD3RSTlMAq1RmmUTNIjK7EInv\n",
       "3XZ/CtNrAAAACXBIWXMAAA7EAAAOxAGVKw4bAAACPUlEQVQ4y42UPWgUQRTH/3e3H+euDgcWSawW\n",
       "FJsoHBZKLOIK+QJRDhULTbGQQhIkrE1ASHEBuxCMAY2b6HFFmtPmcqCihVxjESUqgoLFwgaNRYrD\n",
       "LhYWvtmP2buwt8kUN+/d7Px483//GSB12NCq7VnSULHPYAZyRZHJZudq9s6/SfdpUfaAAs+Pd6H0\n",
       "I43CHpZhKcBPYJjnt5MhmpVKkUywYgNQqpjjJ1tMpkjFVErGRk2jrTmTg6AbyZTDSKSwZ+53v1Rg\n",
       "LFOm4IP/ldJFlpOJFHlatC1fuM+nCWDTdT92oVwKKVrr2HxDUGbi3h+qrvBpnYoCVrpQJkKKhC3v\n",
       "sqC0taI/5/HpLHAXaqFt5+lXF6ej+GtIOYcL1aOCYsUfW4EWp3hVeik65pZTYjpe18P8fUgpYyTW\n",
       "JU8SuD9CU74E6HwPyIGeEHeIBGcM5709FOBTTNFiW9S4RXqAcV7WIP20Rn/ZjG8gyo6550SQd/Fc\n",
       "nOiLoPSSY7Q/pALFjSnaa/cpRs2vUlcrUXMrAUV7lGmiLigt0WfzOlmPoAOUzJK4OVTyuOZTpFVR\n",
       "8npAyf5da8qGoCiG6PMU1KXFwBG+/bBLDXMcx2BMvxpRFsJarngnzsSu0/puBsvjjzeczxtU5DdR\n",
       "XVPFvF8Lk29FtjpSTrwB8pvgBogHJlJqVrckqtDXBW8jdemapd3G9ksbBNvvdqA+oejG7/raSLS+\n",
       "fCDKvc70heOUOv6oHYiyvM+LqXrIbrqBCbOu6yU/qzb+A8gMhtMgOXJMAAAAAElFTkSuQmCC\n",
       "\" style=\"display:inline;vertical-align:middle;\" /></a></dd>"
      ],
      "text/plain": [
       "<IPython.core.display.HTML object>"
      ]
     },
     "metadata": {},
     "output_type": "display_data"
    },
    {
     "data": {
      "text/html": [
       "<dt><a class=\"ProveItLink\" href=\"../numbers/rounding/_theory_nbs_/axioms.ipynb#floor_of_x_less_eq_x\">proveit.numbers.rounding.floor_of_x_less_eq_x</a></dt><dd><a class=\"ProveItLink\" href=\"../numbers/rounding/__pv_it/axioms/c68b5cfacaa00a4f0a64b832bc3c745ba71851820/expr.ipynb\"><img src=\"data:image/png;base64,iVBORw0KGgoAAAANSUhEUgAAAIoAAAAVBAMAAABrmWvBAAAAMFBMVEX///8AAAAAAAAAAAAAAAAA\n",
       "AAAAAAAAAAAAAAAAAAAAAAAAAAAAAAAAAAAAAAAAAAAv3aB7AAAAD3RSTlMAq1RmmUTNIjK7EInv\n",
       "3XZ/CtNrAAAACXBIWXMAAA7EAAAOxAGVKw4bAAACFUlEQVQ4y42UTUgbQRTH/9mPbLprF6EgKKUs\n",
       "WLyoVDxUFKortrZoLUHBi4IBD4IHWY8FD/GqFHsRXYWQQw6mgkQPLShKLr20WKTQ48KGth4Ec1V6\n",
       "6sxmdrMJs5oHu/Nm5s2P9968N8CdYkHNhmc8UXCP6AbEnmAmm1wj2QWaqdIeQelEAxT8Bl7RcYG/\n",
       "raYiKR2h6OJZrNLIPvIpUk8U5cVYyEw0KQiawac0IYJyfVxj982zikekpYNPUU/dWrt54NxxvkdQ\n",
       "xhlFLbetHwUUdSIAH5T2Tkgch8AbYCeCMs8oEkruhE9RW6rxm/oT6QJ4DixDaQ6d7P48vOTrPxml\n",
       "D0PZR4EvVYpoif9iZL8LeJDVkmw1UbKTuoYvBTb/yihpjIbyogQRJSCl6LgBCG6Q3JdpUq46Btw6\n",
       "CvAjIrtNnjZLvtQg+ZVf/7F0eoBQrsy6iCDf4BP3pucs2mfdRDtaJGet1riR91pHUzK+x5kKRd2M\n",
       "FVHgVF0++RgaGfvJt0KSKyKTwJRHkXaDSj6sUITbXFE26jqABI9na28xySoiRhdwQy7Mtm1D17VJ\n",
       "3/QD8+Wd+7SX1425sjBCL+yXv5AoKlj3fNHlGf9JeZhuqKeVC6asaCmJ3LmXFxyb1TZrhCL5JtLf\n",
       "syso20SbvizkRv39LQ5FdTxJVynva6H7tp2sWcg35MvWPS+m4kI4dyo1JjiOy39WLfwHeyd8dJUM\n",
       "MvgAAAAASUVORK5CYII=\n",
       "\" style=\"display:inline;vertical-align:middle;\" /></a></dd>"
      ],
      "text/plain": [
       "<IPython.core.display.HTML object>"
      ]
     },
     "metadata": {},
     "output_type": "display_data"
    },
    {
     "data": {
      "text/html": [
       "<dt><a class=\"ProveItLink\" href=\"../numbers/rounding/_theory_nbs_/axioms.ipynb#floor_of_x_greater_eq\">proveit.numbers.rounding.floor_of_x_greater_eq</a></dt><dd><a class=\"ProveItLink\" href=\"../numbers/rounding/__pv_it/axioms/8a943a94e0b6aa3a308f4498efe5fa3690a6b9500/expr.ipynb\"><img src=\"data:image/png;base64,iVBORw0KGgoAAAANSUhEUgAAAN4AAAAXBAMAAACWruz4AAAAMFBMVEX///8AAAAAAAAAAAAAAAAA\n",
       "AAAAAAAAAAAAAAAAAAAAAAAAAAAAAAAAAAAAAAAAAAAv3aB7AAAAD3RSTlMAq1RmmUTNIjK7EInv\n",
       "3XZ/CtNrAAAACXBIWXMAAA7EAAAOxAGVKw4bAAADLElEQVRIx7WVXUgUURTH/7s7687O6LRCEKYs\n",
       "C4YlKC0UhUGysZV9wqLhQ19u9BD1ENNjIbHRUx+kFVaTIEuIZR8yRRgahfQURbEvki8rY1qglQg9\n",
       "BD517p3ZdUbHFNYuzMydveec355z//cMsEIjADx2vLnbrNj4CmyaezvkauM3gBCbVBaM8+rL4GEc\n",
       "2MWepwrm9cCF1xOdZ1WUxiVW1/aCeXE3nvTGcFr5YgwJOVIwbwiu9fw16DT7AB/lXFT49iXdedju\n",
       "BJ4EPmWzHwvmCbrF6xt79Dpi10tVA3/0xSGRNJ8De4D7ywsaW3ypKGrxYkpYyDj02byW3fUa+GaA\n",
       "LcA5BEI2z9r+HWedsSo6977kE6eqqlXbS0nE5PlU36wn6uSxbMTIQXjIvwYIpuWEtSSOaQlFxis9\n",
       "b3yjrANfMDi1kFftkF5xwuSJEJLO81e1hisVn1FMHm201UZeLjtTgKJgWz6UQMVGVFwfXcCrcx6t\n",
       "HA88ql0v+6zWMos2in6Upsl6uk03TKgKi0G8KbZRx0PUesZNqoA5nn8MHmCSnyDm5Kwn0KJKaZfz\n",
       "QGn/ZLtF14szRFHLiiK9bEGRA13ElYxZcUgyM9q6wcbrW5W+juscx53MpaBh8noTFZDdznswhJus\n",
       "LHS1klx86BLRxIMInSxu4EFGaffzokmGbuNdqMUkvJ1pWE7mkEMmb+PVA2h062dCyP+bHvvp8qTY\n",
       "D39IrJqmRRRFZg7w6B7Dd1rTbkGW06xEuf0rR5iqyoHMyVJaxuR1T3vjEbd+LZVPMOPhvMNQANd4\n",
       "for/CItVkihOiTyxxsuQbbxhvGf2q1XTyRojWOr7IJNwAxnrpVVOCnQy+P5hMCbpKEm1WI1Aj+GY\n",
       "TZ8j/hn+7SxNcydrbF6C14+nlLeQK7Dw7e0UAvfY8fyud+8W38EbvwOcp1L7SsMDJ2y8dXVJ62PN\n",
       "nXJ6UF14z7JssNQxSvtA8Zx/4ommWUffi4e4TVUf0DrmljlPUoNRl4bGpPyv/ConWOS7i/XDwwj7\n",
       "k/N/5DyP0ezqcZGaVXbU6om5ybyhqIvxomj6AVeev55EdIWUrKn4z2MlAH8BETDLWER7KnwAAAAA\n",
       "SUVORK5CYII=\n",
       "\" style=\"display:inline;vertical-align:middle;\" /></a></dd>"
      ],
      "text/plain": [
       "<IPython.core.display.HTML object>"
      ]
     },
     "metadata": {},
     "output_type": "display_data"
    },
    {
     "data": {
      "text/html": [
       "<dt><a class=\"ProveItLink\" href=\"../numbers/rounding/_theory_nbs_/axioms.ipynb#round_is_an_int\">proveit.numbers.rounding.round_is_an_int</a></dt><dd><a class=\"ProveItLink\" href=\"../numbers/rounding/__pv_it/axioms/7e9ffadf6c95626d0d18d18d4e0a54f55a70f30d0/expr.ipynb\"><img src=\"data:image/png;base64,iVBORw0KGgoAAAANSUhEUgAAAMIAAAAVBAMAAADm9CyVAAAAMFBMVEX///8AAAAAAAAAAAAAAAAA\n",
       "AAAAAAAAAAAAAAAAAAAAAAAAAAAAAAAAAAAAAAAAAAAv3aB7AAAAD3RSTlMAq1RmmUTNIjK7EInv\n",
       "3XZ/CtNrAAAACXBIWXMAAA7EAAAOxAGVKw4bAAADKUlEQVRIx41VbUgTYRz/bbvttrt5DgJLijEI\n",
       "6oOK+xTlh5z0Jlgw7OVDCQ4KIhE5CYLAaEWfrGhGVLOSC4QaQbuEXkwaRvTBohpRQchiIwvxg0gR\n",
       "hkT0v+dut5e8zYPtnuf3/P7v//9zQMVHBlZE4C2O+WryUmCFBGe27MDe++dY5mZQw33afr2FggZr\n",
       "3e7eUDHha7npoSgiLobv0PZHl9ciRCq4XxsoJriU0lMuBCk4xvAzWrZiyyvhghUsdCvFBEeo9NQm\n",
       "IyHEGK4ZFy3S7a1UgmelhFdGdm5lPrHwgXZblOEOcsNloWRDJQtHSgmH9Yr3mdly+84Z+JtM5rWF\n",
       "kg7ijfMd5EMqFxZmgrApztyd1Ajlde3sD52A+7m7E5SDB0ziRKEcHmVYexHeDgxbWCD7oqdDnMSp\n",
       "ML8o2ifRSns/kjK6ZM+S4XhI8nNpYBPKWqbBwTqY8H7wviKtTY/a+vLr98BxV5pT8QWYPkt66rC/\n",
       "JobTUeEFuIhOcMiOJRtF2cgkipovoue+UYtGDOdTl4uHJRGPVWP/EhisJWluAXiueLN4CyUZRrNC\n",
       "QI2qE9y6LVxiCijlmc/GLD4EFIbbs2aht1PxJQkt2YIF1pTeGPi/tOJ/A82gSAhIhg0CvIzexTqo\n",
       "0PYJbQRW63hkK/3N75qRJa27ycJcqJAl7KFfMgtxkVbSgqYePwUCWvMEdMsCedHEJNKmhTU0EcKC\n",
       "jo/1kF653hVIsOhEfiQ/R9Q0mNbGNwiviiF4Yi14DfuSmAygzi4zQiK8DiJxtjCJebNXQ/to7NI6\n",
       "PkCFdmDEjb3MAnfDDJU6jf+lzbYPV4A2XFBVSpQU2ezJ2j9wOqF5cDc6jcalyQqYvdoD/nJMx9no\n",
       "YZEaKx6PByRJ7MxbuEgjxOKemKGs305t9EdpL6wKCP4n/bM6YXTevk1T+1G/yeoP6qJdV6fi76bU\n",
       "PK5FNcnjPItBch7Kj01NtMrlXSDwRgWc4/qtUY5jQIxwFBmrA56GLK6z/54CweqSNHHuW2oO/HVa\n",
       "Hfiuju7Mn1+r9okyCSctCGX4vXg8XAIkqllIVPOlmo98doUEyeKDTvg/kJHSzOnyofMAAAAASUVO\n",
       "RK5CYII=\n",
       "\" style=\"display:inline;vertical-align:middle;\" /></a></dd>"
      ],
      "text/plain": [
       "<IPython.core.display.HTML object>"
      ]
     },
     "metadata": {},
     "output_type": "display_data"
    },
    {
     "data": {
      "text/html": [
       "<dt><a class=\"ProveItLink\" href=\"../numbers/rounding/_theory_nbs_/axioms.ipynb#round_is_closest_int\">proveit.numbers.rounding.round_is_closest_int</a></dt><dd><a class=\"ProveItLink\" href=\"../numbers/rounding/__pv_it/axioms/cc9d1ec84be91daccfd48f3d0a22897fe10690e40/expr.ipynb\"><img src=\"data:image/png;base64,iVBORw0KGgoAAAANSUhEUgAAAUUAAAAWBAMAAAClN5ODAAAAMFBMVEX///8AAAAAAAAAAAAAAAAA\n",
       "AAAAAAAAAAAAAAAAAAAAAAAAAAAAAAAAAAAAAAAAAAAv3aB7AAAAD3RSTlMAq1RmmUTNIjK7EInv\n",
       "3XZ/CtNrAAAACXBIWXMAAA7EAAAOxAGVKw4bAAAEN0lEQVRIx81XXWgcVRT+dvZnZu/sTlcKgWhZ\n",
       "BhTri2SQYqVgkxAbf2p1SNGHapsVBFFUpvgktHXVt1Zk/Ym4FsJEgrUK7lC0mpQuY/tYlH0QDJTI\n",
       "rEYbIoagSEIexHvv3N3OhJ2dCfjgCezeufe7335zzrnn3ADbM5n+xWN8s3ovW7ETwSUL27afoZrx\n",
       "GN+O9V7+KnYiuMRISmx4e1KJktNPo/LiiI/xTTP+A42M5AAbPpdU4yfo68cduo8R9kKcxjutWI2M\n",
       "5HWWQLWkGsf6a5y0fYywPTEa738k3o+MJEdpVT2pRre/xssCI6xg99X4x3yCWDOSNI13LnE6Vvpr\n",
       "fFZghOWMPhrJZS9JPnKS7xYXryXVmHGYRmVOPkg3NtsmWTKQsrPtc81pmjG3Lf8pMGT11jMXKLQU\n",
       "3v5F+9NLupBEDhk3hTCemQgsI3kI+CipRvZOqqnmD6ouTpryuiq5GIaaL6Nh4WkrvykwGbS9Q0C6\n",
       "Et4+opUzLV8jGdADzvJ5emMZyXHIwde9++Loy2H0rrMPfymGRZ1pfCXXos76Cbj+BqUZwBPFGl6r\n",
       "kqvIVARmL4btnTTsbogobaU3U4bwY0gj4xmMwDKSvN3NMKVdNzUVXztd6NuDU/gR8yudQ2Ayjad3\n",
       "MFetAd/aBQ/fw26YGLLpRNERmCrGOd8a89hLi8yq9NF/CV+jHIy1z0PLFocuIIhlJJLXPTIPUCJN\n",
       "wz6vm380EWAou42QRl5iCjXI/9CRvAEMUbewiYYpMOC/iKy7JVcKXsSZmbSVjQgsJ6nspx+rDy5Z\n",
       "vC9QjSusWxwr0Rb0i680g1CsQVMNDQ/qOh1pa0wg/iJ0YriDQXYdn9HXb22tnxaxe9aecWhuBJaT\n",
       "XKCVXLMGc/p53sBUeZpqJd6m4hK/tu+9q7Mv73GN11lLMVBw8A7ytX24BmlTbegYkCyOIVMpFzTu\n",
       "6XBvOG/ugtq7hlOeUgSWk5ygq2lMKzjMNWbOskn545ZWy/IYE6+bn6wOqKb8N3NuCe8Do3jLcWi4\n",
       "tcp9eU/6IeNjpI1ZN6v7ZShgQ6cfxUS4F1aFxlFMGhFYTpLiwHXg3nq9rmuaOsGeU07KSz9fr78L\n",
       "VbWJaBhKi2nM8hBeWqKJN9PcXa7SZ7JTJ+Vvji/7GPKYd8c9LOzhcj+7Ko3pve8UM83HrQjsTRLF\n",
       "lXGG+1HLPmVz/kJV4X6YeBNqp6ktIP5uttAdndzGvediFLZLckKtZGgV4vmI+RHioFidFMXdGcHR\n",
       "wC0hVuOe4A0kmUa1Qq5EYbskmV+bK5A/pKMnf3Nmx5UrkMY+AF6laZC+pTz3TPfQWPEa852oRVyn\n",
       "/D6z2KmabKLopZwI7FaSz+t1IUDCObxHmebqUyEEPemxGkltq9hYP0r7D0TdKfKR/ywcQTlb6bVw\n",
       "Clo1rqufEt83ei8vx04El25Erhk4/Dv+L/Yv1NFM7Oelkg8AAAAASUVORK5CYII=\n",
       "\" style=\"display:inline;vertical-align:middle;\" /></a></dd>"
      ],
      "text/plain": [
       "<IPython.core.display.HTML object>"
      ]
     },
     "metadata": {},
     "output_type": "display_data"
    },
    {
     "data": {
      "text/html": [
       "<dt><a class=\"ProveItLink\" href=\"../numbers/rounding/_theory_nbs_/axioms.ipynb#round_up\">proveit.numbers.rounding.round_up</a></dt><dd><a class=\"ProveItLink\" href=\"../numbers/rounding/__pv_it/axioms/52e1dc378643a3ca4d15b31ae377fbc593b0a0270/expr.ipynb\"><img src=\"data:image/png;base64,iVBORw0KGgoAAAANSUhEUgAAAWwAAAAXBAMAAADdI2g8AAAAMFBMVEX///8AAAAAAAAAAAAAAAAA\n",
       "AAAAAAAAAAAAAAAAAAAAAAAAAAAAAAAAAAAAAAAAAAAv3aB7AAAAD3RSTlMAq1RmmUTNIjK7EInv\n",
       "3XZ/CtNrAAAACXBIWXMAAA7EAAAOxAGVKw4bAAAEh0lEQVRYw72XX4gbVRTGv0xmMpmZzTQgPnSV\n",
       "ErXYB7s0VKvog6bUdhVtDRWEslaDPgiKMgsiiKUbX5S6SlNQ1iiss7CIW6WMK1RZy5oHRXSxLEJB\n",
       "kchsrVUrxFKRLftQPPfOnztpZjI+mL2QyTn3frn3N2fOPXcCrFdTUxVWovBg+2fPkNrt8n+Y6X9s\n",
       "Z9MEZsn7VtyeoVuFqVS4oMjsmwZPLTnJY698ya63BO4vKdhMsJvZTw0e+/1+g5foo9cCL2enYJPg\n",
       "ZZZNjcFj7+ozpqzRRS4HbraSgk0CdmtGafDYrT5jxjJdhoT/bQo2CbJ0k7l1SO1an8EcQ7lZ+E+m\n",
       "YZPgu3Z7afDYMu3Iycbzn1BoO9fiBKXMMB4bfukPKgrji0fZ036APidWPvic7I/jsPXO8OS8j02C\n",
       "+4B3Yhfyw2RFO4Os0x2Yke4tKDR5Sco3n+maJKxlOXqozpvOKahnMGE5W5G9COeYq69C+Rrv2X6I\n",
       "K+YmmRLmdr5+m7digC1jxd3rY5NgHGoxstDIyZ3PcUPz/B1dGIFSr4hboC1SRSawZ+PuHSiUoJaf\n",
       "pZAWXBQ+K+1FpqZUf4R6GR+VsYcpvqd5rOxahu5va1y078A99jU+Ngk026j6o/mVZtU08KkjsPVi\n",
       "IvZY2DuDJGwlqNZDVeTtv8l4iOxhnMaQq+v/QFpjHT8xxVe0PmS+BY7GYde9u+PYJJDccEfeW6ez\n",
       "ysRdrsCWq4nYorzuTsTG0wLbq3PfABMuWRN1SBcp5tRB+B42yfjSj8ZvydMhNhPU7qZLZ/ScZbLK\n",
       "SdgXKgK7QD3nDo9GsLnLsEXZXPaw2RwRbO7OiyQBS1v9CvCFRdZfYMwbysevsDT3kgR43NIpGCNx\n",
       "uQ1lFcd9bCaYp4iY1sZcaY6/GRjqdFlgvwD8lmk8EcHmLsOWKri/Sa2s1jg2n0Nge+5m39MojAWW\n",
       "MZQoS9CKaGbtIQfb7IVLhL+FBqaBuer1MMi8Myba+luZFhwfmwkOEUsW03k8zFeT321EtuQBoKy5\n",
       "9Qg2dxm2EpytzMj4cwhszz0QnCj0ywmWcDuhVSAX80sGy5Pz2fo0Rip+Udv22oPY79fCq7Gly7Mt\n",
       "peRjM0GGQ61SWaHQlUzT2B/BvoE+GywqbNSmvNwml2PnA2yp6Of2qpfbR5jY8twjwW6nBDnI+Rdp\n",
       "J+jXnR3/nfkz2zHz56ubGMEb9NuOtItl3pm4aO9zN28PcjsU5FsqJnm0TWXMFths2ddhRbckc7uS\n",
       "JO9Fm88RyW3uBkmCH9IOpEL4SNXllFMyFBwyajKVQp7bWOjakmrrpCjRRd9l2KbbvSX5HALbczuB\n",
       "e1satniBEi9VCdihQP518QLUt8l65Lwzu0dgaxb2jXXsSLS5y7C18BlMcWw+h8D23KnA1aw07lD6\n",
       "Ytr79lWCD5tNUaa17vOit27Phb1jiXVbb/RaSW2uhz8Je6rPLP7hPpqILUZkK/FwFzE+nPpn0w0q\n",
       "Z8/QjcLMO3GCHmzDTsDORs7PhSTsHVjvFvw/7sLeeMyrL80S9GguiH/Tetck9oDg/gXzSzTaSzxJ\n",
       "IgAAAABJRU5ErkJggg==\n",
       "\" style=\"display:inline;vertical-align:middle;\" /></a></dd>"
      ],
      "text/plain": [
       "<IPython.core.display.HTML object>"
      ]
     },
     "metadata": {},
     "output_type": "display_data"
    },
    {
     "data": {
      "text/html": [
       "<dt><a class=\"ProveItLink\" href=\"../numbers/absolute_value/_theory_nbs_/axioms.ipynb#abs_val_def_sqrt\">proveit.numbers.absolute_value.abs_val_def_sqrt</a></dt><dd><a class=\"ProveItLink\" href=\"../numbers/absolute_value/__pv_it/axioms/183fe76d857d11096c0fef8577619b02def67a260/expr.ipynb\"><img src=\"data:image/png;base64,iVBORw0KGgoAAAANSUhEUgAAALgAAAAmBAMAAACFcUzHAAAAMFBMVEX///8AAAAAAAAAAAAAAAAA\n",
       "AAAAAAAAAAAAAAAAAAAAAAAAAAAAAAAAAAAAAAAAAAAv3aB7AAAAD3RSTlMAq1RmmUTNIjK7EInv\n",
       "3XZ/CtNrAAAACXBIWXMAAA7EAAAOxAGVKw4bAAADRElEQVRIx6WXX0gUQRzHv3p7t3e3d2s+FAQR\n",
       "C0EQEfoQPkTklf2jDA6DXoI88CHqITaI6sHI3qKSjnrIU7B7kEjKugQNEuKKIiiCq9c4OKFMfBAx\n",
       "RTHQ5u/qdbfOsg6MNzv7m8/OfH+/38wIKMoh+CrRix6MtE3+4OjOqm2afLIRUM8q/NkvHA+UFqGc\n",
       "F07NSmXBc6UuDVkv8Fv+vPXDkwI91Tr1BZXkS17Y4XTV7j6VmHSYLZ9sN6uu1ZfRsfqsaO9XwOsa\n",
       "yZ8R+TTiYnWVVNMSSkMr4Bxr3rTAZN/hMuy+7QW+mdTdcjpJfREmnRPiCRyhv+ddhjXDA1xPETVS\n",
       "MneyBA6W+1qKhZGedoFv8QLXiCJao/NoFIC9tGHOIEQi2bBc4O+8wJ+QGivfVGI0PWoXESDfDLk5\n",
       "9K8X+DCpO1dF6qWJTRcSngW+Fotf3OB/BPPF+NMxywUeJTLgJKTRFVwjUtAwiZLRx4FeF7Y+K+AJ\n",
       "czuJMAY/VaTlG+fS1bPQ6IAw0ntunyBuZf5dBi5DX7sL7Bk9eMlJPQEP2IGlmsbKmd9L0Iijre8Q\n",
       "RrGVlRkid16IGskaSQkbzyRNA6/lVhic5/AwDatKzWt3EQ6mafMjpBEH0ReYIyYlx5+HSR6bJvaV\n",
       "/ps5cX+pmkOD1CcFARdG/EVewJE6QL9/7KfN1CPwqUQFvN0m+lZojiJRIydkEUZ8TQWhOYZJPpn2\n",
       "1pA1yELf0PtlRugiWgaT22BUC8XmJOKM1w9pxPM0LWOtk/gzgP4wTjO41ufka3SZwxvutKKtGrwu\n",
       "LTaVV5BGPGlzMtbYjgmytTdlMhnLNI02Z/AHDh+Yrm2xqsG1Bb6NoBvSiJU4DZHwvOPfvI67bOZm\n",
       "8Kxztl1QZKg+F+T+iXeV9d9gwsuTptNIaSQomeZ4Ix2KVlX6Pw7xgyGQKOtukTsYX9+vt1PQ6Vl4\n",
       "ZiI3cNRxWFYBb68XjUdlC2Jei5Sf0M8ymWRZx0tLAY/LU3hwbW/Edo6xdUqErnZSPk2uc6/SS2t6\n",
       "f/NV2Yo7WR7+y6jqrjq/Afj7jX59nWIqVx3r8g2PWcqLcMo3fEJt0uGXrX9S2wzZPuFDlocJXPQJ\n",
       "f+jF6LrPf7hoqv8Dmx3tzDvWk4oAAAAASUVORK5CYII=\n",
       "\" style=\"display:inline;vertical-align:middle;\" /></a></dd>"
      ],
      "text/plain": [
       "<IPython.core.display.HTML object>"
      ]
     },
     "metadata": {},
     "output_type": "display_data"
    },
    {
     "data": {
      "text/html": [
       "<dt><a class=\"ProveItLink\" href=\"../numbers/numerals/binaries/_theory_nbs_/axioms.ipynb#single_bit_reduction\">proveit.numbers.numerals.binaries.single_bit_reduction</a></dt><dd><a class=\"ProveItLink\" href=\"../numbers/numerals/binaries/__pv_it/axioms/c2580fa18a89b8886aabfd2fcbcf83972f4f38450/expr.ipynb\"><img src=\"data:image/png;base64,iVBORw0KGgoAAAANSUhEUgAAAKkAAAAVBAMAAADP89MSAAAAMFBMVEX///8AAAAAAAAAAAAAAAAA\n",
       "AAAAAAAAAAAAAAAAAAAAAAAAAAAAAAAAAAAAAAAAAAAv3aB7AAAAD3RSTlMAq1RmmUTNIjK7EInv\n",
       "3XZ/CtNrAAAACXBIWXMAAA7EAAAOxAGVKw4bAAAC5ElEQVQ4y41VQUgUYRT+nBmd2dndmUUJIlEW\n",
       "pC4V7UEED9mAa0RCDXXoErlRIAmBQZcgYxI6ReUhqImo6RKIwk4hBEK0IVFkxhIIYQmzdehm5sHC\n",
       "yu39s+vqP05NP7x/5w3v/977v/3eG+D/1iDnyRv2iNB/LS3NuZ/8vd4LjT1BlmIPbVGoOzlPcDE6\n",
       "Q7+fg2Hq3SJVkAF6mNcfAarmAKUoeVLZr/kh2WmyBicY2GDQNgBcZgSNRKBKlF5bTBpqX4a53WRL\n",
       "ZKIRDNRZ1vZKvng6AjXBkAu6B91HLRCnK+zhdTCwj1WfcCBSXEMUrTuorr1TXxsrqALxES+y96eC\n",
       "gU99GihoZn5+Ogq1F8iXy+Vf0CfebIPk0snWEl3wUTDw5EIjZSQFHADuhP1BGx1Wk+7tc6Avt310\n",
       "WC35AfU70OGTPu8vJiZ12ckPQqS7nIOc2gwqboW8nuwdWT79jKBzGDeSVOUeB2+BXYFTwgoSHgTi\n",
       "PebETShnqu+Hek3xOTBGNxieq0W/ILthtbCCES8kTGA/8JPeBbWSg+5CWSR8j/1ZzWRKyTaF1CQO\n",
       "4vwTFsOhVnnNQFhkqB9QT9o6HkBNuuhLo55qRa6LtldkWYtydElw5VnwqMSAeH9h+ROrRCswBpYg\n",
       "kbZ2B3gluR52IDB9PKZeUFZLjuarZviY50LcwqPeI2vBKh0rImHEqP9/YJzCO4NNYKlTVABrqouU\n",
       "RZvTjFGfb2tyOwlHaOJQmYJsma6sf7ty1mHKacLNiuK4VZeJUbsx5aGOLh7LiLmjFVRJY6mUHlyf\n",
       "rrXcNbJW9SURV/pt0EQAHkywm80G5djMmjlprrWkJaU6bNtOC5bq5jbpLGlx7vu1MVsM7ZmhGiFI\n",
       "pK9WasURT85msz2cevkx0r5h6ISs7loxTicJl503oYU0xS3Oi1XH/YVQ0PUJqBzyIN9mDPZXBzm/\n",
       "Rnn6RsJyBXNW15htm38ZLzL/MblU+eyEf6G+AH8A2T68SjF2THcAAAAASUVORK5CYII=\n",
       "\" style=\"display:inline;vertical-align:middle;\" /></a></dd>"
      ],
      "text/plain": [
       "<IPython.core.display.HTML object>"
      ]
     },
     "metadata": {},
     "output_type": "display_data"
    },
    {
     "data": {
      "text/html": [
       "<dt><a class=\"ProveItLink\" href=\"../numbers/numerals/decimals/_theory_nbs_/axioms.ipynb#one_def\">proveit.numbers.numerals.decimals.one_def</a></dt><dd><a class=\"ProveItLink\" href=\"../numbers/numerals/decimals/__pv_it/axioms/2ccccb8b1272c6c33b2e567a94aa7d476677c2ba0/expr.ipynb\"><img src=\"data:image/png;base64,iVBORw0KGgoAAAANSUhEUgAAAGAAAAAVBAMAAABLWfZ5AAAAMFBMVEX///8AAAAAAAAAAAAAAAAA\n",
       "AAAAAAAAAAAAAAAAAAAAAAAAAAAAAAAAAAAAAAAAAAAv3aB7AAAAD3RSTlMAMt0Qq5nNdoki72ZU\n",
       "RLsDrqvKAAAACXBIWXMAAA7EAAAOxAGVKw4bAAABN0lEQVQ4y2NgwAY4GRhIEmeowSHOWwAkGJUx\n",
       "xHkaGBg6SiegiQoZMDBUMzCYhH3G0GDGwMB2gFkTRYzZNR+ogQ2I2TE1RDMwbGJg6IM6YwNUtB6o\n",
       "mDsAq4YFDAxPGBjOG0DcV4CkgWExNg08CQwMXxkY5A9g0ZCNTQNrAwMzSMMGLBpa4BqClEBABcRk\n",
       "28DA+QOooQCLhm3YbGA6ANHQgEXDKWwauC4wMAM13AeqZFVS0lqkpOQA1yCPQwPI0+exefoWNj8A\n",
       "ncTwjoFhP7ZgPYTNBj6gkl0MDGEMWDTsY2Dg+ImugcMBZAvzQjQN/aDEFcHA4vXNG00DowIw6USU\n",
       "CKBqcFmfAowYXaypWBEl3guQM4QCVg1bUfLABuREsAGrBr4JuHLWPOzCzA9waXiJQ3w6DnH2CQwA\n",
       "EW1Pw1YVmQcAAAAASUVORK5CYII=\n",
       "\" style=\"display:inline;vertical-align:middle;\" /></a></dd>"
      ],
      "text/plain": [
       "<IPython.core.display.HTML object>"
      ]
     },
     "metadata": {},
     "output_type": "display_data"
    },
    {
     "data": {
      "text/html": [
       "<dt><a class=\"ProveItLink\" href=\"../numbers/numerals/decimals/_theory_nbs_/axioms.ipynb#two_def\">proveit.numbers.numerals.decimals.two_def</a></dt><dd><a class=\"ProveItLink\" href=\"../numbers/numerals/decimals/__pv_it/axioms/d413b22246cc8399a743d40ccfbcde6da49a48d40/expr.ipynb\"><img src=\"data:image/png;base64,iVBORw0KGgoAAAANSUhEUgAAAGAAAAAVBAMAAABLWfZ5AAAAMFBMVEX///8AAAAAAAAAAAAAAAAA\n",
       "AAAAAAAAAAAAAAAAAAAAAAAAAAAAAAAAAAAAAAAAAAAv3aB7AAAAD3RSTlMAIpnNuzKJRKvvEN12\n",
       "ZlQ4bmvwAAAACXBIWXMAAA7EAAAOxAGVKw4bAAABMElEQVQ4y2NgwAYYGRhIEmc4h0Oc/QBQk5JJ\n",
       "ALo4XwIDA+sudNHoBQwMZxkYRBjYvqNLLWZgWKH8C1WMq8keqIF5AUMjA8NMdA26QMwD08B+Aco4\n",
       "D9TAq8AwfwFDvwCahgnIGvgOIGlgmMXQzcDQj+YJPgPcGmxBrP1oFjAl4NaQAcSsf0Bc7d0gsAPE\n",
       "ZL6AW8NlIOZuQLOB+wFuDS+BWAU9kDgL4BqYdu/eOXv37ga4hnhgSDXg0YBhQyUDwzMGRgFUP+Bz\n",
       "0msG1gQGngWoNrAcwK3hCoO0kpI2mpPYQI5k+4iuIR/kEDWG/f//f0bTwLqBgYGj83MvqoaO+RbA\n",
       "4N6ONRVvRYn3A8gZYgNWDZdQ8sAF5ERwAasGFgFcOUsEuzCXAy4NjjjEZXCI8wgwAACIhmCJvv6T\n",
       "WAAAAABJRU5ErkJggg==\n",
       "\" style=\"display:inline;vertical-align:middle;\" /></a></dd>"
      ],
      "text/plain": [
       "<IPython.core.display.HTML object>"
      ]
     },
     "metadata": {},
     "output_type": "display_data"
    },
    {
     "data": {
      "text/html": [
       "<dt><a class=\"ProveItLink\" href=\"../numbers/numerals/decimals/_theory_nbs_/axioms.ipynb#three_def\">proveit.numbers.numerals.decimals.three_def</a></dt><dd><a class=\"ProveItLink\" href=\"../numbers/numerals/decimals/__pv_it/axioms/9164cdb0502f5b9f20ded32bf4210b3e301f339e0/expr.ipynb\"><img src=\"data:image/png;base64,iVBORw0KGgoAAAANSUhEUgAAAGEAAAAVBAMAAACkm51HAAAAMFBMVEX///8AAAAAAAAAAAAAAAAA\n",
       "AAAAAAAAAAAAAAAAAAAAAAAAAAAAAAAAAAAAAAAAAAAv3aB7AAAAD3RSTlMAIomZu0QQVHbN72bd\n",
       "Mqv0UZE7AAAACXBIWXMAAA7EAAAOxAGVKw4bAAABV0lEQVQ4y2NgwAoEGEgTZ+AowCERASKElF0x\n",
       "JIoYGIQtfdEEeY8BjdrAwMBmwFCPbiLbBAZGBwb9ABTBPMtvQHIaUNd3hvwJaDqYNzDwCTBwLYDw\n",
       "omFOBenYzMDAupSBH10HFxB9Y+D7COFVIOvgSgAx6zeg6ahkYOA7wMD3F4sOTpBa1tPoHjcCkzwf\n",
       "sOhgegAMgr63YLefAYMHIPZssIr7DVh0cIN9gBFWx8HkOQYsOtjBwcH1DU3HUrClDiDS5syZVWfO\n",
       "nIPr4P3AwHuBgeU7Nh37GLDZwbqAgf8bRAeyP0CuYldgEMTmqgMMXA8wXeUBxJcYGNqw+dyBgXsD\n",
       "ZnzoMTAwHjY2PoCqgwkUo8wKDAzBxhgp8Q4wMv7//z8BRQffq5+vgeIBWNM0zwVkXgUyRwZ7LuA2\n",
       "QOZFI3OscWQcR1xZjdEBh0QKLh0suLItYwMOiUYGBgDp/F5X9dMTQgAAAABJRU5ErkJggg==\n",
       "\" style=\"display:inline;vertical-align:middle;\" /></a></dd>"
      ],
      "text/plain": [
       "<IPython.core.display.HTML object>"
      ]
     },
     "metadata": {},
     "output_type": "display_data"
    },
    {
     "data": {
      "text/html": [
       "<dt><a class=\"ProveItLink\" href=\"../numbers/numerals/decimals/_theory_nbs_/axioms.ipynb#four_def\">proveit.numbers.numerals.decimals.four_def</a></dt><dd><a class=\"ProveItLink\" href=\"../numbers/numerals/decimals/__pv_it/axioms/c91ac013cdf53f6d75bbec3db989932dbd8bd4760/expr.ipynb\"><img src=\"data:image/png;base64,iVBORw0KGgoAAAANSUhEUgAAAGEAAAAVBAMAAACkm51HAAAAMFBMVEX///8AAAAAAAAAAAAAAAAA\n",
       "AAAAAAAAAAAAAAAAAAAAAAAAAAAAAAAAAAAAAAAAAAAv3aB7AAAAD3RSTlMAMpndq3ZmzYkiRO+7\n",
       "VBCly6GvAAAACXBIWXMAAA7EAAAOxAGVKw4bAAABQ0lEQVQ4y2NgwAomMJAmzsB6AYfEUgglhCFx\n",
       "g4FhRtMpNEFGO6BRCWCmCboGvgIGPgWG+6gWPVH/ByTrwE7A0MGUwMD6l+F9AYS3DOZUkI4kEEus\n",
       "BF0HNwMD1y4GfqiOq8g6uB8AiQYMHdfB5P0ELDrYgYKsEzB0aIAILjMGLDo4HBgYpjGAdTAZg4ED\n",
       "iF0GCpkQR2w62IBObWDAsMMW4qoLWHTwbmBgm4CpYxfE/yAVysbGu42NTeA6GD8wTGXAqoNRgIHn\n",
       "LxY7uDYwLHFx+e2B5g+gq/j/YdfBawBibkG34yjQSQ4QV2H4/ACI+QddRwtQJgEjPjh+gpzSACR0\n",
       "/rui6RAG4kVKp1BDl8X7uxsDA/MCrGmaWQCZdxWZMxl7LmBTQOYtQ+ao4cg4J3FlNc4DOCTe4NLB\n",
       "gyvbcgbgkIhkYAAAtidUe0sWfekAAAAASUVORK5CYII=\n",
       "\" style=\"display:inline;vertical-align:middle;\" /></a></dd>"
      ],
      "text/plain": [
       "<IPython.core.display.HTML object>"
      ]
     },
     "metadata": {},
     "output_type": "display_data"
    },
    {
     "data": {
      "text/html": [
       "<dt><a class=\"ProveItLink\" href=\"../numbers/numerals/decimals/_theory_nbs_/axioms.ipynb#five_def\">proveit.numbers.numerals.decimals.five_def</a></dt><dd><a class=\"ProveItLink\" href=\"../numbers/numerals/decimals/__pv_it/axioms/f5a5795727e00e986481dca4966902ab43b42b120/expr.ipynb\"><img src=\"data:image/png;base64,iVBORw0KGgoAAAANSUhEUgAAAGAAAAAVBAMAAABLWfZ5AAAAMFBMVEX///8AAAAAAAAAAAAAAAAA\n",
       "AAAAAAAAAAAAAAAAAAAAAAAAAAAAAAAAAAAAAAAAAAAv3aB7AAAAD3RSTlMAMhAi783diatmdrtE\n",
       "mVQhVHx6AAAACXBIWXMAAA7EAAAOxAGVKw4bAAABRUlEQVQ4y2NgwAaYGRhwijMyMChjSKzDoYFn\n",
       "AQMDy9ewJHRxvgKQSRfQRMUUGBhWMjCw+acroGtQBRFsDShiTL3xQHWsCgwcWGy+CSKWQTXwTICK\n",
       "rgdq4LyAVYMDyEVToRr4FiBpYHDCpoEvAEiws2LVEMnAMatCAE0DL8jPi7FrqGDgVmD+A+JeSwOB\n",
       "DBCTFehq5gnYNUwFsbah2cD2AOgiBuwanoBY9w1QNbAcYGCYDNHAm5aW4paW1gDXIM+wFahBAEMD\n",
       "8wIcNhxhcGNg6EfzA9BJPB0d/R4FWDQ8YwCKeqP5gRushAWrDbMZbBm4nNA0sIOV8m9A01AP8up1\n",
       "Bua7vehpiTEB5N39PxagaOjwjwAGdw7WVJyIEu8LkDNEAlYNc1HywATkRDABqwZuAxwZiMEauzDT\n",
       "BlwaNuMQt8IhzmXAAAAqVk694E5VtQAAAABJRU5ErkJggg==\n",
       "\" style=\"display:inline;vertical-align:middle;\" /></a></dd>"
      ],
      "text/plain": [
       "<IPython.core.display.HTML object>"
      ]
     },
     "metadata": {},
     "output_type": "display_data"
    },
    {
     "data": {
      "text/html": [
       "<dt><a class=\"ProveItLink\" href=\"../numbers/numerals/decimals/_theory_nbs_/axioms.ipynb#six_def\">proveit.numbers.numerals.decimals.six_def</a></dt><dd><a class=\"ProveItLink\" href=\"../numbers/numerals/decimals/__pv_it/axioms/ffff94ca8f01a14d5caf2067e459420ddbc6fa640/expr.ipynb\"><img src=\"data:image/png;base64,iVBORw0KGgoAAAANSUhEUgAAAGEAAAAVBAMAAACkm51HAAAAMFBMVEX///8AAAAAAAAAAAAAAAAA\n",
       "AAAAAAAAAAAAAAAAAAAAAAAAAAAAAAAAAAAAAAAAAAAv3aB7AAAAD3RSTlMAiTIizUSr3Xa7VBDv\n",
       "mWZb+y3UAAAACXBIWXMAAA7EAAAOxAGVKw4bAAABWklEQVQ4y2NgwAoMGEgTZ+BYwKDAwI1FOgJM\n",
       "CgoqoEssZGA471K+AVWQqRpo1AMgwySArQBNA7cDA0PNd2lUwW1XfgNJbyD2YOCcgKaDF2hSApwX\n",
       "B3MqSMdbBgau35iu5WFA1rECWQfPBgbOA5g6luDWwfKAgcdJ4iq6jotAnNeYhE0HYwIDvx8DzwKQ\n",
       "28vBAGy0HxDPZrAPwKKDz4Fh/wcG3tNodlSBSc4CLDq4DjDsL2Dg+4qm4ygkxD4Dievl5WfKy8vg\n",
       "Opg+MPA7MPD9w9TB6cDA+wmLHawHQHaD7UD2B9BVPAUMbB+wuaqAgQvoD/QAngEME6CmCdh8DhSc\n",
       "yLBnAZoOMQYG5gsMPRtQdTCC/MUrAGTcTUKPD3Ugtr12GzU+2HK+5DEwsAdgTezsKIl5BTLHHHv2\n",
       "4LuAzItD5tzDkaMm48pqzBNwSOzEpYMTV7ZlbsAh0czAAADz+VuN+5YcyQAAAABJRU5ErkJggg==\n",
       "\" style=\"display:inline;vertical-align:middle;\" /></a></dd>"
      ],
      "text/plain": [
       "<IPython.core.display.HTML object>"
      ]
     },
     "metadata": {},
     "output_type": "display_data"
    },
    {
     "data": {
      "text/html": [
       "<dt><a class=\"ProveItLink\" href=\"../numbers/numerals/decimals/_theory_nbs_/axioms.ipynb#seven_def\">proveit.numbers.numerals.decimals.seven_def</a></dt><dd><a class=\"ProveItLink\" href=\"../numbers/numerals/decimals/__pv_it/axioms/93ade1e9e9bc9f0f2d3818243da4fef204a68cd00/expr.ipynb\"><img src=\"data:image/png;base64,iVBORw0KGgoAAAANSUhEUgAAAGAAAAAVBAMAAABLWfZ5AAAAMFBMVEX///8AAAAAAAAAAAAAAAAA\n",
       "AAAAAAAAAAAAAAAAAAAAAAAAAAAAAAAAAAAAAAAAAAAv3aB7AAAAD3RSTlMAImYQVO+Ju5ndqzJE\n",
       "zXbfw+mkAAAACXBIWXMAAA7EAAAOxAGVKw4bAAABV0lEQVQ4y3WTsUvDUBDGP01NK1oJgugk2XQR\n",
       "8w+IXRycKujiIGZS0cE6iLgVQWmdujhEHTJWcegkONnF2eIogkEc3JwdSvyioSTXS+A9ku/43Xf3\n",
       "cg/QngEgUx93lMBnBjAaAOUwDFeEnnMBc2tPqA9M/QFs12r1kggt0PwNNynNaL4TKDpgsinpfMJI\n",
       "gKO4DDtWvwkMVsHsvgRYYrnXWi5IAFjlMluyhQ5wCB144ZqUBgWWuXH/1daAXa67v8+6Fz2X0WuR\n",
       "VXdtrGnAHM9DHiqGSzBC4NRRgCW20JHAUBvGDzDPmgqed7HueX4PeGS+igKgS8BWHJ6ARV/2wJJw\n",
       "/O/QBywDz1XpkI8mhj1oTc8w5ErApGfeNeQp7VvczoAJOUkYaXDbOW+lgdvNVzZ1rU7xVeq/B8kL\n",
       "0VCB2dQdsJNDYKtA3sq4QP1jFM9+JQs4yNCnM/QxC7+M7llaGyugPwAAAABJRU5ErkJggg==\n",
       "\" style=\"display:inline;vertical-align:middle;\" /></a></dd>"
      ],
      "text/plain": [
       "<IPython.core.display.HTML object>"
      ]
     },
     "metadata": {},
     "output_type": "display_data"
    },
    {
     "data": {
      "text/html": [
       "<dt><a class=\"ProveItLink\" href=\"../numbers/numerals/decimals/_theory_nbs_/axioms.ipynb#eight_def\">proveit.numbers.numerals.decimals.eight_def</a></dt><dd><a class=\"ProveItLink\" href=\"../numbers/numerals/decimals/__pv_it/axioms/648c22bf23e345c13ac82d561bcea5c60702a8600/expr.ipynb\"><img src=\"data:image/png;base64,iVBORw0KGgoAAAANSUhEUgAAAGEAAAAVBAMAAACkm51HAAAAMFBMVEX///8AAAAAAAAAAAAAAAAA\n",
       "AAAAAAAAAAAAAAAAAAAAAAAAAAAAAAAAAAAAAAAAAAAv3aB7AAAAD3RSTlMAEImZRKtUZs27dt0i\n",
       "7zLMHA9cAAAACXBIWXMAAA7EAAAOxAGVKw4bAAABUklEQVQ4y2NgwAoOMJAmzsCVwFOIVcILRAgp\n",
       "mWBIJDGw/f///y+qIN9GoFEFQIYBA2sCmgbGBgamycbG21AERS0+AslGBgb2ApACVMBcwMDEwMBj\n",
       "AOG5w5wK0lHMwMAUgKmDl4GBjYGBFcrLQtbBK8DA9lOAuQBNRwaY1MOmgwOoNv6XGbrHjUAEzwRs\n",
       "OoBOYmD+vwfs9t1gEABit4MIVgdsOtiBPkg6+R89rMCBdJYBmw62CwzsBgz5F9F0XAERGmCm9e7d\n",
       "d3fv3grXwfcB5Hmeb9h07MRqB8sFBnkgFY7mD5CrGL9id9UGBl5g4pqDZscskGGfsepgn8DA0sjA\n",
       "vgBNhyrIsE/oOpj+gJyiwMDw1BgjJb4GRcc1NB2ssT+Arud2wJqmuR8g87KQOaexZw92A2SeOzLH\n",
       "HEeOmoMrq8GTDjqQxKWDE1e25VmAQ2INAwMA885WDu/VyfgAAAAASUVORK5CYII=\n",
       "\" style=\"display:inline;vertical-align:middle;\" /></a></dd>"
      ],
      "text/plain": [
       "<IPython.core.display.HTML object>"
      ]
     },
     "metadata": {},
     "output_type": "display_data"
    },
    {
     "data": {
      "text/html": [
       "<dt><a class=\"ProveItLink\" href=\"../numbers/numerals/decimals/_theory_nbs_/axioms.ipynb#nine_def\">proveit.numbers.numerals.decimals.nine_def</a></dt><dd><a class=\"ProveItLink\" href=\"../numbers/numerals/decimals/__pv_it/axioms/8b429c3529aa742e1358196c78dbf1f22f4449ac0/expr.ipynb\"><img src=\"data:image/png;base64,iVBORw0KGgoAAAANSUhEUgAAAGEAAAAVBAMAAACkm51HAAAAMFBMVEX///8AAAAAAAAAAAAAAAAA\n",
       "AAAAAAAAAAAAAAAAAAAAAAAAAAAAAAAAAAAAAAAAAAAv3aB7AAAAD3RSTlMAmasQ3XYy7yK7zYlE\n",
       "ZlRwlz41AAAACXBIWXMAAA7EAAAOxAGVKw4bAAABZUlEQVQ4y2NgwAoaGEgTZ2B9gEPiKIhgFFTG\n",
       "kHjNwGC9WwZNkM0ZaNQFBgZmV4Z0dLuYFzAwCDAwoVpkJPUZSC5mYGAqYOCcgKaD8QID7wWwPhA4\n",
       "C3MqSMdFBgb+BQzcn9F0sDMwcCvAdTxF1sFuwGA/gYH1D5qOVwwMfD8NgDZh6uC6ALbjL5oOaSDW\n",
       "/yrHgEUH0G6QP76C3O4CBgogubUg/n8PbDp4FzAw1zAk/UOzww8UwJ3/H2DRwVfAwGAY/fQbmo4a\n",
       "oFkCDO+LgUwRF5dyFxcnuA62DyAmRljVgMOE4x8WO3gKQExwfCD7A+gqeyCli81VDgx8xQz2CWh2\n",
       "TAXaAUwHM7D5HBgZzgxz0ZPVJqDtixl4A1B1cP8AOWUDA8NuwQPoOlKAOElQBjV0mdR/AZ3JcgBr\n",
       "mmZBceZTZE4L9lwADFokcBaZI4sj48zAldU4JuCQsMSlgxNXtuUIwCERwcAAAKcnWS20uyE1AAAA\n",
       "AElFTkSuQmCC\n",
       "\" style=\"display:inline;vertical-align:middle;\" /></a></dd>"
      ],
      "text/plain": [
       "<IPython.core.display.HTML object>"
      ]
     },
     "metadata": {},
     "output_type": "display_data"
    },
    {
     "data": {
      "text/html": [
       "<dt><a class=\"ProveItLink\" href=\"../numbers/numerals/decimals/_theory_nbs_/axioms.ipynb#N_leq_9_def\">proveit.numbers.numerals.decimals.N_leq_9_def</a></dt><dd><a class=\"ProveItLink\" href=\"../numbers/numerals/decimals/__pv_it/axioms/657fcfc0830904624e93dba2069392e90dcc8c110/expr.ipynb\"><img src=\"data:image/png;base64,iVBORw0KGgoAAAANSUhEUgAAAVsAAAAaBAMAAADrkuKjAAAAMFBMVEX///8AAAAAAAAAAAAAAAAA\n",
       "AAAAAAAAAAAAAAAAAAAAAAAAAAAAAAAAAAAAAAAAAAAv3aB7AAAAD3RSTlMAq1RmmUTNIjK7EInv\n",
       "3XZ/CtNrAAAACXBIWXMAAA7EAAAOxAGVKw4bAAAEsUlEQVRYw81YTYgcRRT+uicz09Pzs6OIqyHq\n",
       "gB5cjDjGKAiyJG4UJSjtxYsxjuag7MUWJRD/dgQRAiE7KjFuVOw1IoguGVcPHgTnIv4hrhh1VUYb\n",
       "lWjcSBYlxoQcrFddVdPdVR0HD6sfvLfVPe/r93X1e9XVC/xbjPlYWsL/AVcqdxq1IayuXceqFVOV\n",
       "lcneIF02rm4CI233JIqdlZKblekV5TJxuMHclI9jwLjpysIyMw9xRsGXP4+bf39auTTmTjwT4J1T\n",
       "3i5Si4rn/AFUAz3uB2FpuN/PTKL86Xv50MTIwFZmnECZ6nTmwsSN9qTT8VS+DncZ9nOkMb9v/+9A\n",
       "ra5XUzcyHaXGLcAB4EcDw4RNGwPUWN1xAmW6js7enSjprnQ6zvPfBNid5Lnel9rH2YydNFaTuZis\n",
       "r8pNVICCeCTz8fpL6OeS5kLnfWASEYEyPaYV8YgnnY4zOwUfC2zgnOXDCfI03KZFTQgzyB1jU1MF\n",
       "clEju1/GGHHkDvL7WQPMAOshCNsi2eVGPHQ6kC7WWv1+i/6OjhdbXC6KZwSlZqHNRjdqonrCdL51\n",
       "f7id5OIjfrp2uTdgxFD7Nkr/J/BugEogCCxTjlVGIRH7m3IKt/4qBqNWeymSy5o1f8XbNDiiPchW\n",
       "ZAa+5Z9T61bVI6k6HcWI4bXvRGeeAI56KDQFgTJ90u9/nAg+W7qtqx86zFu4OCl/G0Wn5C0k1d2R\n",
       "Xhqo7skMfMsvYQ/JfYMfXiK6JhGNlz+X4TS7TZTrgkCZbgD2JbLNSNd9MnSP00HBH8h93P0mJXea\n",
       "KgI39Qmf8fBmZAa+5Tsb5ubY4CpELX4RJENFz96lLs1q98UQuZYgUKb7UEwuRXcKl/e+RvEvfjUM\n",
       "5OYaYz3snGGQGqbSXVltcDPxLR/r7OfZYC0dOXWxaieirYHc1z3nggbsniBQplJQTuY7KJzrHoPN\n",
       "V6ldNHGdSC5WW6m+OJCWW/G4mfhMrhWsoYniR23UQsEYROMBVQzuzfNH23CWBYEy2WGy09Tswl6G\n",
       "xXvg1djsYtZNFcNU2yzXxGdy3ToVwxax2kYXS0QPWo3AVoZ8TxB4phZ7F+cmdv+kyWXskSY9rGpc\n",
       "rhOmthrTfqp2RTGY+EwudpfY4FL5krhWMlR0bCGLmsheEASeaZ717f4tzYqsxXOlq3RxWUBvt5p6\n",
       "xT/L7JfOP6wMpTAyA7/E5qe2k3Z0dEQytkuGio69JtYGLivnXEcQeKaHWac9eAgjMusR6djcH8rx\n",
       "J62Knwarkoskrkmvu7TwkBn4BXohXc9sM2kKxQ2kovlKfA9f/dmrSGwINstMFsWcH1WTmi1yt7NC\n",
       "XcdPze6J7uWJU+xG3ZTcjWm5zkJkOt+590OxQfiCEtNJJ0Q6Onbjb9GWpuoJwiDTB9jkxDolcgPc\n",
       "9kK/lbXB0/cMi8Ky+cUFnZGJRyRBZSouY/HiIXZkpj2sviNbL+w0HzJNnZGJCUEYZGLb2CV5Bacn\n",
       "3VDI6fvdkh9ZNnYYGOobgK8xi8mPnh3mTHyXqNwwqOq63E5k2dhrYGSB38pec6Yhv9ViMH1BPSos\n",
       "CzXfxMjAz5KQ8a3Gv0TsIYv3v/8SHur/DKppghX7PwPL9DeFD3IQ2KUjIgAAAABJRU5ErkJggg==\n",
       "\" style=\"display:inline;vertical-align:middle;\" /></a></dd>"
      ],
      "text/plain": [
       "<IPython.core.display.HTML object>"
      ]
     },
     "metadata": {},
     "output_type": "display_data"
    },
    {
     "data": {
      "text/html": [
       "<dt><a class=\"ProveItLink\" href=\"../numbers/numerals/decimals/_theory_nbs_/axioms.ipynb#single_digit_reduction\">proveit.numbers.numerals.decimals.single_digit_reduction</a></dt><dd><a class=\"ProveItLink\" href=\"../numbers/numerals/decimals/__pv_it/axioms/0cd14f1ce5e880b5bb2db65ae9990f9b87200b9d0/expr.ipynb\"><img src=\"data:image/png;base64,iVBORw0KGgoAAAANSUhEUgAAAKcAAAAVBAMAAADROuOhAAAAMFBMVEX///8AAAAAAAAAAAAAAAAA\n",
       "AAAAAAAAAAAAAAAAAAAAAAAAAAAAAAAAAAAAAAAAAAAv3aB7AAAAD3RSTlMAq1RmmUTNIjK7EInv\n",
       "3XZ/CtNrAAAACXBIWXMAAA7EAAAOxAGVKw4bAAACe0lEQVQ4y41UXWjTUBT+mrRNlrRr8E1hI0OU\n",
       "guA60Td/Cq0wGELenaPgg+hTBX3wZ1sEX51TGFIfNCoIotD6h/hkQURBhCki86EQp0yGMIvgDyLW\n",
       "c9vdJE13iRcO9+TLyXfPPec7Af5zlbmjhAFRYPTqN7m3uLpPCCIZbjBnYyTpFu5INX5MTnA84XuZ\n",
       "cyiKUysB6nzcBW562BFBLOFnWJlmo0jjdHx/M50HCh62XRBLeNIBdDOKNMWI6xnKtO5jjiDWgUw5\n",
       "JCNLuhmQdz39ug5SycOSgqIy/FWj8TKSdAyotlqtP4hTnyY2nFqmnHUj3HcfHwUur0kUvN1Bsoy7\n",
       "x2mnUbvgaj8p9XbS+xpsvWZuAD8KxViLc8RW7z/iD2/IquYTIG0iYb2H8ovEVe/+IIj3OboVeKW8\n",
       "fYidBrQHNnXH088zsvP2AHXBgqZ9h/SbJNYMyS6AS67fp5n1cxjSnbijjNG0VZFxfNJOTYkUUhMx\n",
       "umIilGkXXtrtqXGUTZeb1zHJktfN4bJ/ffnqyo9Fdn32ZSbnQJoP1TSI36MRkAszn4CP7FV205RO\n",
       "FWWsx+/w466QDeAvFYvam6ph2KlBDo9MED9NfboxnkuVtXZUVr++n7ahHFV7hcffJaso3zp6mbax\n",
       "JNttdXWtIB6zgZNLVL9EW81Z5JfZftaSv3jyPkc2qD1nPwDgAHBtGwnBCpH24IMYh3y4UrlIpLd7\n",
       "Jyxtc2/BwyYFg+LjL1BU1Von08RWHCsWi8FE5Hzvb6QgIPVwpYmFbGeydgAfeiMvcaePC0L0a/Px\n",
       "hAEq4Am6pPqujFhv6C1P4rNh9tAK49rjypzgTorLvanV/bMgkvB/s9Gwcd7iv/cAAAAASUVORK5C\n",
       "YII=\n",
       "\" style=\"display:inline;vertical-align:middle;\" /></a></dd>"
      ],
      "text/plain": [
       "<IPython.core.display.HTML object>"
      ]
     },
     "metadata": {},
     "output_type": "display_data"
    },
    {
     "data": {
      "text/html": [
       "<dt><a class=\"ProveItLink\" href=\"../numbers/addition/_theory_nbs_/axioms.ipynb#nat_plus_zero\">proveit.numbers.addition.nat_plus_zero</a></dt><dd><a class=\"ProveItLink\" href=\"../numbers/addition/__pv_it/axioms/bea0fccac2a58cc474226d079eea64e39ed7de2b0/expr.ipynb\"><img src=\"data:image/png;base64,iVBORw0KGgoAAAANSUhEUgAAAKkAAAAVBAMAAADP89MSAAAAMFBMVEX///8AAAAAAAAAAAAAAAAA\n",
       "AAAAAAAAAAAAAAAAAAAAAAAAAAAAAAAAAAAAAAAAAAAv3aB7AAAAD3RSTlMAq1RmmUTNIjK7EInv\n",
       "3XZ/CtNrAAAACXBIWXMAAA7EAAAOxAGVKw4bAAACXklEQVQ4y4VVP2jUUBz+fMndJZe7600iCHIg\n",
       "uqilgxTscB5UUSxC8AaXIsUOBad0FCymriK9TeMgN7iUKpfqoHQoJ+LiHzhFcQpEHOpYdBAqiL+X\n",
       "93K9JC/nB1/ykvzel19+/wKMhSOpQmnMnrGoNQSVKITq+9eIdb44mrPxhGQG1vYF4HuOK1PAeb5Y\n",
       "Uj8vLwhmcR1PHRS76m03gFUeoY76sT4luI+2OGkDWB1oLfW204heaOWEriK5j0lxMutge8DbnG1d\n",
       "aORLMSesxyUzqhMtGD+BRfW2Ikl+CIJ3OapzkqXDO2FCtUeqv4DNTLFFhhZVwEXgYY7qouS8Y+4l\n",
       "VG/7MP4C01HwgwhRLQlDjRK8jFJ9RGllztZeyfUnwfJr6IOM6h/gZLpmhCHrU+S7li3vGt88m9W3\n",
       "cElevxHUd1H1aXk5CN4HwUceAR8F8nUtXTPC0Ngl5XCYrHMuXTZ1+EnVSgc9O50tRtmaTydfGBbI\n",
       "Vyw06bDRfBE1Bdidq6GfjEAvxNlUZVGxUgBPpeIqDRkP1zPqhfJX4zfWuRFzt47Fqo8Eew0cZM6o\n",
       "qtaHTik5k/JVGmq8qW7Ra/SW0ReNw1y9FrfapqAZss96wlf6gieuqLpRSEOde3WAnlfsWh3Tnuc1\n",
       "mFv249a/J1g+8nL5R1L18fYhOn5J14AwrMbZ7znmTPeu8BVX4hFXdQUzvSVrfqAu85Vh9py1dtfk\n",
       "M0izUYvrl4+P5Ahpp4ePCrPDCTw7+RylB/yLl+TM5bgvqcbNnH9EagJueJ6duLEuqUbO+8z//WJK\n",
       "oaB65ufs3gH+Ae3GoLjoay3JAAAAAElFTkSuQmCC\n",
       "\" style=\"display:inline;vertical-align:middle;\" /></a></dd>"
      ],
      "text/plain": [
       "<IPython.core.display.HTML object>"
      ]
     },
     "metadata": {},
     "output_type": "display_data"
    },
    {
     "data": {
      "text/html": [
       "<dt><a class=\"ProveItLink\" href=\"../numbers/addition/_theory_nbs_/axioms.ipynb#nat_plus_successor\">proveit.numbers.addition.nat_plus_successor</a></dt><dd><a class=\"ProveItLink\" href=\"../numbers/addition/__pv_it/axioms/d3201edcad63f2d484dff912040f1af275c55b980/expr.ipynb\"><img src=\"data:image/png;base64,iVBORw0KGgoAAAANSUhEUgAAAU4AAAAWBAMAAABd12h0AAAAMFBMVEX///8AAAAAAAAAAAAAAAAA\n",
       "AAAAAAAAAAAAAAAAAAAAAAAAAAAAAAAAAAAAAAAAAAAv3aB7AAAAD3RSTlMAq1RmmUTNIjK7EInv\n",
       "3XZ/CtNrAAAACXBIWXMAAA7EAAAOxAGVKw4bAAAEI0lEQVRIx81XTWgTQRR+3WyaZJum0YqXSgmI\n",
       "9aDVHIqghxqoFrHUBnvwUmqkgtiL26NgS/TiQUt7EGpE6vYihAqJP6AU1IqI/1rFYqkGUj1UELQU\n",
       "bCVC8b3Z2bKzO1n15sBskvfm+/ab996+nQD8eQTooktd+j8idMtZDvRPCMf4hDMSk3nkVgB/ES/d\n",
       "ZdZ/Ag+Qa3RzT5R+bPSSqeTxskXq2gLa5SmncdAA+Eyi4pL1nM45si/BBAkjOMtZ0LOXDMe8dF7F\n",
       "qaVkHrJWJhy2dSdQZyVO6JWtZ3TucRQ4yDbGWkucBT2nKf/DXjpbcKpCbDr5J1lrrNT7rSXf8XY+\n",
       "Ut/kZGIsLUKuLdAicJCdP1LiLOihTVTFvHRO4gwLlm38k6yHrSAoRZtOeEZuR3xMlkmhpjjIT4oY\n",
       "yM7PdIZNOh/uqNKzPClZDVKdZL0LUp09lC1ngTZYdC6dVazKe2Q6GQt6XhYKz710qlT3bVQddfNF\n",
       "kYesR76tlem8TjePOqjaLLq+ewMiqLJ+LmaCXDoZC3r2AVzy0mntB7r0UEnkQau2ZOR0ic4dVFUs\n",
       "dO0FGm/AFmT/Y7hiCKBcr7Zsglw6GQt6+iCwuu/gcf6lvy3pe2B+rabifYuKHoI6JfKgVSlBuCjR\n",
       "uZUsk44tv+V01+LQLsZzuwGvTJBLJ2NBT8ioSq4y1ZHYuUxSiU7Afl785H2ECVuA6rwZnxc8PmRN\n",
       "QQ1a1ULhIxZQdFXnEBEtOHQ+4nQdAB9AALUC/DJBdn6mk7EM0ZZsj9ETnHvSaGxWIS/qDA9DLinu\n",
       "F60o/XBMEs8ueogny+h8CtoPMZ4fwL9oglzxZCzkSTXjZbz5NmlfmTPYC0A5c6iYF/OeK8JucOUd\n",
       "22eHIdHZSJYpR33yvGsr4FsQdS6CWjJB7rxPcbob2PG198FlcsxGElmGT09s4jpDRDWKOmOwXtEF\n",
       "HrTWpLFuJTp30hPgfH2MmnTaIlSkNgugn1SzDOR+joY53SksEDURpPCG4r5Up6lTjfC7WH0hVFTe\n",
       "qSIPWivioYRD533d3oLsw2pWo9CYSAigWrjAQXb+qmV7X6xIU9VESE44rUZ3ZDKZmJLW8rwhBynu\n",
       "gxjy+jt9X0Qesta1OFr2mtdHMDTTlOKk84TC6ca+nq1PC6CxW1Rt06LOig1LtZzF8uT00C5MVw2E\n",
       "Y+fMeMJBKz4zdMu07H0kWBX7sSxAm+t3tmK2fgY8QXZ+s0XaPWF9qNMYh2pjJ/YpKookRKyu2mQ/\n",
       "IgjnBMHqj3ueOFbXN4EnyM7vPgb5W7bdhPOx4IEiBC5Sho7xkykVLdXbiPRdNVLuJXZSfgobsejK\n",
       "gtyn/GG3x2yE45mMUFgarcxKmbPlbllGUNai+/tdS6LkN+R4OjMEpH8K5FZsKEQ+X2b9AHiAXGPe\n",
       "7fHB/zt+A67vPnirmEHmAAAAAElFTkSuQmCC\n",
       "\" style=\"display:inline;vertical-align:middle;\" /></a></dd>"
      ],
      "text/plain": [
       "<IPython.core.display.HTML object>"
      ]
     },
     "metadata": {},
     "output_type": "display_data"
    },
    {
     "data": {
      "text/html": [
       "<dt><a class=\"ProveItLink\" href=\"../numbers/addition/_theory_nbs_/axioms.ipynb#empty_addition\">proveit.numbers.addition.empty_addition</a></dt><dd><a class=\"ProveItLink\" href=\"../numbers/addition/__pv_it/axioms/3d075160c5b0d229ccc6ad0fbe727e0d3196138a0/expr.ipynb\"><img src=\"data:image/png;base64,iVBORw0KGgoAAAANSUhEUgAAAFMAAAAVBAMAAADInc9CAAAAMFBMVEX///8AAAAAAAAAAAAAAAAA\n",
       "AAAAAAAAAAAAAAAAAAAAAAAAAAAAAAAAAAAAAAAAAAAv3aB7AAAAD3RSTlMAdt0yiURmVJnvqyIQ\n",
       "zbvoc3vrAAAACXBIWXMAAA7EAAAOxAGVKw4bAAABEElEQVQoz2MQUmaAAiiLm2EDA3bgis4UZwgk\n",
       "Uim7AwNjAoYqF4kNmErPAvEddJW8BTzaUHnWBLjSNiDOQFeaxMDgB7NVAK50AhBzHkBT+oqBof4A\n",
       "ulL2CyD70B37g4HBvgBdKYcDkGBZgKqSB6Q0AV0p2EA2kNEMTUogoAUK6i9ApQLoSpkKQNwJqKaC\n",
       "lToA5TmUlDQnKSktACvlDAASzB/QHABUGo9hKlgp6wRMb9UXYHeAAqpbGd4xMORjBBYfiMX2AM3U\n",
       "TAaGXowoAIcTOMSQAVMBz2QMpcwgu5kC0JTytEgZYEYsKNFuwpMIkZJLBjTJEJFe+TYwcD8gTinP\n",
       "A5BqrMAJkbemgqmNDNLYVQIAnjw6Z/A04MUAAAAASUVORK5CYII=\n",
       "\" style=\"display:inline;vertical-align:middle;\" /></a></dd>"
      ],
      "text/plain": [
       "<IPython.core.display.HTML object>"
      ]
     },
     "metadata": {},
     "output_type": "display_data"
    },
    {
     "data": {
      "text/html": [
       "<dt><a class=\"ProveItLink\" href=\"../numbers/addition/_theory_nbs_/axioms.ipynb#multi_addition_def\">proveit.numbers.addition.multi_addition_def</a></dt><dd><a class=\"ProveItLink\" href=\"../numbers/addition/__pv_it/axioms/da0e4b4b13fc617f8c632335cd523265199f2bed0/expr.ipynb\"><img src=\"data:image/png;base64,iVBORw0KGgoAAAANSUhEUgAAAf4AAAAzBAMAAACEQHfIAAAAMFBMVEX///8AAAAAAAAAAAAAAAAA\n",
       "AAAAAAAAAAAAAAAAAAAAAAAAAAAAAAAAAAAAAAAAAAAv3aB7AAAAD3RSTlMAq1RmmUTNIjK7EInv\n",
       "3XZ/CtNrAAAACXBIWXMAAA7EAAAOxAGVKw4bAAAG50lEQVRo3t1bfWgcRRR/udu729vcXQ8KIlbj\n",
       "QbH+0V56aAkkSHPYKmKsPRrBfwINVhD7Tzd/xq+cIiqYNhGFmILNBkHoRcmlVSwF2xSpqa3VKC1C\n",
       "28AFP2OUxtgYm0LPmf26m9mZ+74xdiG3M+/tzM5v5+2b9+a3AShyKKmUBrfokUqlil4TzGbj1d/J\n",
       "n1xNuJWDxnkke704/kQt7riWrKpCYPq4mv2WSbeKwd+QJqqhiBD8ngxP45oWi7+FrG6sP/bD59HP\n",
       "D1z1hFD8viny9esWMPlPoz8v13MHYyLxB0lDlGKOKzrZDTt5lh3j3stqsoj+3FzP7TorEv8DZDXg\n",
       "vKKZ3bCZN3zum2018azg37MFzUMY/nNkdYMA/I26h9vDvWy3Kg5/aIWsd2CXsO6XDAMoR8zF33Pi\n",
       "JTZ+b9NsJOfmnIc3LA5/MEzW8ax0qf4VBlCOmIffMwUjGhP/+F5l2Vx3pBn9IAfhWhGHf4AK/r5D\n",
       "S8DnIE2D0kKN2hCPTdxRIv4PY7CDPf+bNfgaYBM/BLwpDv+dVP00mpMFCKbhwB96fcfMzFczM9+C\n",
       "JY4boHJi8kDzeeW8MZ87AS7nq3JNHga4gZ48f1DvicN/yok/MAjjqOMoNWuGeAn6kqXN/5egLLHn\n",
       "/zJ40ArYxR9UuyoKv/wXOOx/PAPt4MRviNtKxY+M2L0A7m0HZkOtSbKnRZBWzP6Z7z+Mx0ThDy1T\n",
       "gkPo7hG4zaU68Rti+Ky0919ZhIbue9/vigXCoTDZ5B/sGwrBC4RF4fdPOoNvf8Z1QXLOvymWL1Fu\n",
       "8W/8bLrNQp79H4JoPP7cz7AmKaXJJmvhHXOl5Y1q2sCvP4b1BfE36LeMVYofvdRU9omANB3r+dWJ\n",
       "3xT3atT8X8ADiZuFPPyj8683JaEJ+iEYIZuMfozHe5E/qsYFA/9D+PRMQfwSNgFvxTn7OB2FB+31\n",
       "MMpc6H1xn1pO/HcG5qBPZvTkm+aPyr1k4H8ZXzdYEL+MbaS38uWfDlZzaUmUmej0vvGqVkb+41tA\n",
       "FtAqMXqSCtisfNPAj3PExkjh938vOh+pGP9mR+9D5vn5fSdYDb7JZsva5ggj++35jaEpNGfKNQO/\n",
       "Gz0jbxH/dz86V56ztzv2/g4L2ucbKqT80/T/KJQ6VwR/AEVc6YpHcdXhOXwZIfBDBV3WdRP/IwAH\n",
       "i+CXkuDXKh7GSQ1W4/GFib8HfFRo9GJHwn0qHz+6oKfcoO9Zu7hzdeKfMfH7tca8EEeeHU64wsfh\n",
       "USL+OQiflNv9Ort096qED1dM/K5MvvvbjpyVa6sEaQJ/c/nu78z/BT90bwU7hwjhFdP1ypMZEr/X\n",
       "jTyWcnTecihjWz91dkgI5ZuzGt/+VagTB+IrWWjbPxxBy7uVQ+grkyt5/B4Sf+MGhOEjdcAcs/K9\n",
       "vOxcUAlh6FLIinJOOpBi/qM+HAiT8mDzIJb/gxeQ+7NyiE4DvxQaJPD7sDvcjsJsIzSX4vIk7PqR\n",
       "zIx0YS69iLmtV+aqY/3fCHXjQGjKg8+DnLLwN+DxmTlEy/DwcMSVVNLdZP53u75tMQtyFOMPJJCp\n",
       "TCoLZJqTCOWtI4GkFObFP5j/qBcH4qA8uDzINSL/NXOIN435h10ZR/6rLMPbKQjirsZVf5umymRe\n",
       "qwu3rN+y6xiurYGAZeCb6Qwah+XVcyBshZ1bFONBlBv5+K0cQg9z3AnITWUu/5+Sl9ow/jEIqAOd\n",
       "GvgTqKikrR9d2DwYSCDLHkPX2Y92gIYagFpwIBzFWVLL5UGs/IfMIXzv4vwcpcMM/E/cNx/D+Psj\n",
       "nm3NR/XAsT8iT0G/in8MoT/5ATyoyx+3LWgN/fQ3QC04EI5iD6nl8iCuReb+z9jwcKLQ/g+2f8Ow\n",
       "G7WMVcSHUQoivzYdy5cjGf2qd0AtOBBbQXIgE6SWy4MYu3Ll7n/Jvx8Bj+FN9mWnrSI2IKM0Cj9B\n",
       "k5onx/51kjFF1XMgtoWTHEgLtaOY40HIo2Gh0v0/N6vo5l2CKhT9hfd/a8CBWAqKA9lEark8iLEr\n",
       "J2T/e5ESnIaqOZA8BcWBDJBaLg/SlxGFn8V/1IADsRQUB9JFark8iDj+Ax5j23+VHIipoDmQKNlb\n",
       "Hg9CHneBMPy7qS4OQS04EAs/xYG0ks24PIhA/jNIBQATUAsOxFJQHEgHqeXxIG6B/De9AOyHWnAg\n",
       "NtNBciAXKS2HBwkK/P6B/v4F8x/VcyCkwuJAbMqjCA8i8vsXaNccOUr1HAihsDkQO68qwoO8BQLx\n",
       "e6nN8yGoGwfCpDycQs+KSPzyFLUpAXXjQIZKE1p0qaDvX+eoDblMvTgQJuXBEIr9/pX+/vk/Pzzd\n",
       "peNvq8X/Pzy1uvC/ZkBKpeaK478V//9hr3EeyV7/F930XGzBPok0AAAAAElFTkSuQmCC\n",
       "\" style=\"display:inline;vertical-align:middle;\" /></a></dd>"
      ],
      "text/plain": [
       "<IPython.core.display.HTML object>"
      ]
     },
     "metadata": {},
     "output_type": "display_data"
    },
    {
     "data": {
      "text/html": [
       "<dt><a class=\"ProveItLink\" href=\"../numbers/negation/_theory_nbs_/axioms.ipynb#negation_is_injunctive\">proveit.numbers.negation.negation_is_injunctive</a></dt><dd><a class=\"ProveItLink\" href=\"../numbers/negation/__pv_it/axioms/bb0cbaf988ea7c65f5d196c4c1dbcdc2b58d31e10/expr.ipynb\"><img src=\"data:image/png;base64,iVBORw0KGgoAAAANSUhEUgAAAPAAAAAXBAMAAADHOt+bAAAAMFBMVEX///8AAAAAAAAAAAAAAAAA\n",
       "AAAAAAAAAAAAAAAAAAAAAAAAAAAAAAAAAAAAAAAAAAAv3aB7AAAAD3RSTlMAq1RmmUTNIjK7EInv\n",
       "3XZ/CtNrAAAACXBIWXMAAA7EAAAOxAGVKw4bAAADDklEQVRIx7VWTWgTURD+TDZNsvkxIHgplIg/\n",
       "F/+K0EJ7qAGrFYuyWEHEHgIKxZ62F0FQiN6KlQYq1HiQ9VirJLaC0pMioiiVKoqgBDZ4UCiIFKSi\n",
       "IM7s33u7TaQgO8y+zJvZed+++XkvQIiktzLEESpl860sMRPIsbA1FOCdTbUzizR8Bg7yZCQMXLXY\n",
       "XH+WnjYDlznk5TCAlc7m+hV6ogXGRiofBnC6RX5/8fgSUfqutlBSvKO5OrXE4xlgsV5/FQrwICex\n",
       "/YsZULd1NCjA94HDwM1/JMr+iejMUqcIUdabsoU2hWE9aUX2aJ3pDYvVUXUV6AbGEM+57ybOOcKl\n",
       "QS36hIWkPe+yWKKCJ3VJvopseUuF/RTKUmArew28BnbR0kZK87TtvEKjokVyCzgigNUcs0ynvabJ\n",
       "Sb6xmmR5Rh/yHZlaAPgQ8BuYpFCZUm29oKe/RMo+BTUBrGjMvkwZbi402XdUshBwuoyqFgD+hBg1\n",
       "1DBJxT4aZvse8mb/NIwst1/kyklTAs5Y7O5xflkXHejp2RdzUm9SqKsm9iOQ4xUolPbdJM3RZ6of\n",
       "EqtcMx+zhRmrYkoL2yXg8xY7dE+fpFIrKBWiKaFnX2wjVzfJtwg4j82RwFXxE3dpaz0kXaQsKYXE\n",
       "Y4bpjBaHbGAlWxbApyx2qB8TlE33sPP07Mszz0IdkzQj75RAqDfhutNrGyinaS3LRZIuKblu2kg+\n",
       "UlJrRQG8xeIE73Gactcg2V2e9OOs19kX45LlGgWy49HY1wDw7Qecy/fOrKone6koNiKdv2rvGMdN\n",
       "ATxusZPiVUzdEaH29OzrC3Wm1Pp4iLtNltYnh4xZZIweai8+xDVYIWhWXM8TP3qRNYPFxb74BmGJ\n",
       "FtZxgcQO7JnHRD5xzET8BodpxLmpbeCkzuzQiX3LnWLqCeyLaUnBk1Z0wT+1G2G2UhG9ZwPTwRDz\n",
       "HwQz3mUj69WyZJGkNeT/ppix9g3nyBywWKKBJhJFUJfncbPlnyJ/i0XREjhlMEuvipjI+i6f5b/I\n",
       "/T9oWCxiKsmGT1TXufBffXnAUIYWrqQAAAAASUVORK5CYII=\n",
       "\" style=\"display:inline;vertical-align:middle;\" /></a></dd>"
      ],
      "text/plain": [
       "<IPython.core.display.HTML object>"
      ]
     },
     "metadata": {},
     "output_type": "display_data"
    },
    {
     "data": {
      "text/html": [
       "<dt><a class=\"ProveItLink\" href=\"../numbers/negation/_theory_nbs_/axioms.ipynb#neg_def_add_inv\">proveit.numbers.negation.neg_def_add_inv</a></dt><dd><a class=\"ProveItLink\" href=\"../numbers/negation/__pv_it/axioms/a78cc718fb00b1c938f71461a971fc79f471ce9e0/expr.ipynb\"><img src=\"data:image/png;base64,iVBORw0KGgoAAAANSUhEUgAAAQ8AAAAXBAMAAADn89dPAAAAMFBMVEX///8AAAAAAAAAAAAAAAAA\n",
       "AAAAAAAAAAAAAAAAAAAAAAAAAAAAAAAAAAAAAAAAAAAv3aB7AAAAD3RSTlMAq1RmmUTNIjK7EInv\n",
       "3XZ/CtNrAAAACXBIWXMAAA7EAAAOxAGVKw4bAAADM0lEQVRIx71WQWjUQBT9zWZ3k+x2d/HgpSAB\n",
       "FW+yYBX1sC7UglXQYA8iil0PUuwphR6tRG9ixYAHjfQQL0XZw4b2YCkoFREUURZRLEIh1UPFQykI\n",
       "FnoozmRmspNpUisGP/zZ7JuXnzf//5kEIHXLU4818y/Qf7Wv1GPtUiJawRe7U9QhecTjrVQVAG2y\n",
       "TdB+/G84RSFT1BNsRARydYLewBW1UxTSRz3BekWgrBM05wIU9BSFzFNPsKIrAEMuQTOoPLk0W6RB\n",
       "PMlyYpM8Y+i7xcW3KQqRPeJQWDksbOueZR/BFeGGyys7CHoC4OEfw9fJzz4B9uNXjD3/AQaiMxdN\n",
       "dR0gg7MlLwaGNWm/3JYZoKOQD0UqVyO3jp8yMi+CK9LNGYObxFx5s5BunboH76P79CXIaKdKQv9I\n",
       "61D0A1R1C534PZ3nLDmGVJmDk5yQR2H+KTe7+bwoGsTPkKacCpa+gO9ZxeJAWRVK2YCyF6CSz/Xq\n",
       "6/DquIWmajJ4nJB+Nqky7kiikDebJmxoITwrZASJG9IJ2qihoVl7itOwsYQXUvjmByegdPOczwtp\n",
       "M57KuNNhwOe1SGm0DVFIy4djOGY72iPoGEHJC9BptCzts7KGD+AvJdyWn5T5J0H9rLm9nJB8g/FU\n",
       "xt0DsoPsHnQbEzRZPvGfaPFRITrslFBbCodn2ULNQ9BrSJhcV3By1CpuX9nWrEEiRC7ZHSFZO+Qx\n",
       "7nkWbwAekwu8EbGjLTMbeaLqSx9lurU566qqdYp2WbiqJZynoiVXSIkPoXXqkqV5jY4QqUJ4A86k\n",
       "41QD7i0W71XY5G3ihZla9AzVds2OfkdlM4SXXg9+H4Roy1SPovvKUEQlLqPPg9skI3DW7whRbMbD\n",
       "GQm4YWnWwsgL1BNsfGu0aN4ddJvQ7R6BJuQM8FSXnBulSqRZAx4RgrmwwgJcgQL3Vuvd+p24BZrt\n",
       "2z8DE7py2kdjvq/m5h8g9M4w/V6hQu4THt01iIsQamMHfrBeMIknfL7Z20F1bmw6DldNQrwQOUdw\n",
       "gWPCYkxL/K6IlyigWbczCkYCyyZ/svIAb9epx9rydtAMN8YKgTkBPgj/2+jKNQF203vCbxJo30ul\n",
       "4glEAAAAAElFTkSuQmCC\n",
       "\" style=\"display:inline;vertical-align:middle;\" /></a></dd>"
      ],
      "text/plain": [
       "<IPython.core.display.HTML object>"
      ]
     },
     "metadata": {},
     "output_type": "display_data"
    },
    {
     "data": {
      "text/html": [
       "<dt><a class=\"ProveItLink\" href=\"../numbers/ordering/_theory_nbs_/axioms.ipynb#less_eq_def\">proveit.numbers.ordering.less_eq_def</a></dt><dd><a class=\"ProveItLink\" href=\"../numbers/ordering/__pv_it/axioms/77d6ff7c532a194c5fae4b1c6707b9c6decf64260/expr.ipynb\"><img src=\"data:image/png;base64,iVBORw0KGgoAAAANSUhEUgAAAUcAAAAWBAMAAAChwkO+AAAAMFBMVEX///8AAAAAAAAAAAAAAAAA\n",
       "AAAAAAAAAAAAAAAAAAAAAAAAAAAAAAAAAAAAAAAAAAAv3aB7AAAAD3RSTlMAq1RmmUTNIjK7EInv\n",
       "3XZ/CtNrAAAACXBIWXMAAA7EAAAOxAGVKw4bAAADSElEQVRIx82XTWgTQRTH32azabJpYkAQqiAB\n",
       "Sy9FiFIQD7ZaaRWlmpNHG/QQ8BRBepBWolcr1IMUPJQtiKCFEnPwIFiCIAiixE8ESdlKpShYvLVH\n",
       "Z3bezO7MzmZz9MEvNJP3f/Nm5u3bKUCk1ZAuP6vWh/QsqcVP38UFIF9kRNllzdgPpFdJXHxOgQ4c\n",
       "0jgNI5GLKIWGEg1Gz5K4+JwJOlAN+9gVhmxDgc2/FtI8RiLNkxgO+Ui7oIuvOiO3aRkthF2SJYZk\n",
       "J84FvoyENKeRSPMkJs0vUwdN/JAzkiLrympKox8J2p8XkoejalqIXANVVdImzIAmvpKBIzDJalIa\n",
       "lyEkUAAvXel7St2HRIUhmfnZUSVNwjiE4qtGnTnvOp23GpfziL29/27Ty3GKJ2VvlmCZ7H9BrZAG\n",
       "Q0ho+X93QpIZ3E05fmA3fGfOWYCHmiSvIknYcKeocp+oiWyiBWNkj7xNm+pQ+xBcOpcQW1nXSIw6\n",
       "5F1Q4ie9OJ2C7My5Dn0FTZIfkWMw5uylA36Sd5JtGCAnq5ZfrsgQErjxSSdJFyDngBrft4AzJ+Nk\n",
       "y5okXyN1mMS3iThup9+F92Suv2qllxlCYlwBraQKg2IO4exbwJmTcHXPjUgSqL/y4Ew76V0AqxWR\n",
       "pJD4ScqSYWzMcnzQOHOgMko+ts9skj5tbYChHDdYO/BUaUGTkKfH0FZqkh+3LxHHLUkgl14Qc3Dn\n",
       "QE0GnDnQJC09XxtIkfCre5x5jLrEsB8YLWgozfw+ZEgwU30FZFyPoIQ/OLIkf6TM55Djh5w5MEsH\n",
       "YClN/rx5GH6h4zNGYvdRy/J7/RB9UcApmC6xbiMZ9gtJsrrO2qQksb+KOZT4oDhzaEcgtuP9fAAO\n",
       "ouM9hn3BHTyq1szy2kVSGzn1eUu3PWSJyRqlLBkXc8TE5+AELe8e+AXe8H5SZ+jtOWEuNPoNkV85\n",
       "1UhJfPy5oGg2W0nCCpnC4n3FPMnQWLZiv9JeJUa0145oSXx86cqS/Ln2G+aLMHhcvHsXEd6A2NNH\n",
       "155zjYb26pSpMcIWIVmE7s6coBXtWkbcGp4gYUuMToA2G3uB0bMkLr5m1ZZjuJf8/1dcRpRtacZu\n",
       "Ib1K4uJvhUUmWKMN+A/tHwCSLCX1hrYEAAAAAElFTkSuQmCC\n",
       "\" style=\"display:inline;vertical-align:middle;\" /></a></dd>"
      ],
      "text/plain": [
       "<IPython.core.display.HTML object>"
      ]
     },
     "metadata": {},
     "output_type": "display_data"
    },
    {
     "data": {
      "text/html": [
       "<dt><a class=\"ProveItLink\" href=\"../numbers/ordering/_theory_nbs_/axioms.ipynb#transitivity_less_less\">proveit.numbers.ordering.transitivity_less_less</a></dt><dd><a class=\"ProveItLink\" href=\"../numbers/ordering/__pv_it/axioms/5b78a7ab6ba3fa1d1e3ffb772b8741309cc27b2a0/expr.ipynb\"><img src=\"data:image/png;base64,iVBORw0KGgoAAAANSUhEUgAAANEAAAAXBAMAAABnpbd1AAAAMFBMVEX///8AAAAAAAAAAAAAAAAA\n",
       "AAAAAAAAAAAAAAAAAAAAAAAAAAAAAAAAAAAAAAAAAAAv3aB7AAAAD3RSTlMAq1RmmUTNIjK7EInv\n",
       "3XZ/CtNrAAAACXBIWXMAAA7EAAAOxAGVKw4bAAACvElEQVRIx61VT2jTUBj/JWmaNO26ggdxwii4\n",
       "gxehiCCCTGHohuAoDIU60LLLwINUmDvMObrDDmKVoqjgQYKKgoURhwjbQYKHIYhS8A8D2chkMnRQ\n",
       "dpt48nt5SZOlpmyQB+3vve97ye/L7/ve94DohhLuKiHS8SPcdZF+GTY5EAWRaIT70jngFJuMRsH0\n",
       "vJ3zMjDNBK5GwdTXznkEiOtAMhsFk9kip0+qlA6JFIxHkqZiwCB90b1FnGg+Li9/iIIpRgWhNbpu\n",
       "zblF8N0hur2k5JCkyhsAHoU9vBsmFnUMq9ZZvqytOHbtyvwr+kD64qtQMiEPJ3bD1EHJPooT+h57\n",
       "Nfa5eZ51LJC2lMWEnszvjElv2eC3pOgtZZzmC2HE56nRNnWT2KzQgtjONNYV9G+zpOx4P7UyKRb9\n",
       "yawyi7301+hfo94kr0Kwkzh6zmNKr031E0zvpaaSsXuKA8yifruW99SDvIWXAfUwBI2+p06zOTq/\n",
       "6dK+OO2c7dQrzDkwfNJjWheqFGGB2DTrr2o2gVkQm3ntCmBBuy+YMAIVIWZZ9BJrDpMUn4THKk0n\n",
       "DuGX7b7uUy+XsMooLDAdntTTVRdsCy3cbkd1LP55ZspuF5hd4Vm8Ob+xxM8AhDIzbNnm/ehmoFr+\n",
       "PHWWoL7j8huC5YBjwR1XJLUObdDqOeydXH6gDHGR9O1oVp1q2rfLV7zn0k74mCp0vdTu2rnIp8ou\n",
       "cIucU9wCXAoWjOTrRjfcyWSyGEONdsubBMrITLXJpJhvQFlL32MU5UvQDBscy/jBgq+J7qD9xn6+\n",
       "/Y1KFj3HigSxp4sl75sGhxssbIleLPY9YEIycCxnjjcDT7S5WIO3RVYrJainZP9/nsSHeAFGx4Fb\n",
       "fENrc/cEopB1wTrPILQbdcvUvi5waB1T4UzrgQxC7jUYhDINbbCq5xDpUKJ82T8tw6bVT5/uSQAA\n",
       "AABJRU5ErkJggg==\n",
       "\" style=\"display:inline;vertical-align:middle;\" /></a></dd>"
      ],
      "text/plain": [
       "<IPython.core.display.HTML object>"
      ]
     },
     "metadata": {},
     "output_type": "display_data"
    },
    {
     "data": {
      "text/html": [
       "<dt><a class=\"ProveItLink\" href=\"../numbers/ordering/_theory_nbs_/axioms.ipynb#max_def_unary\">proveit.numbers.ordering.max_def_unary</a></dt><dd><a class=\"ProveItLink\" href=\"../numbers/ordering/__pv_it/axioms/c619de107728b41083d1940d72422213f1ece1390/expr.ipynb\"><img src=\"data:image/png;base64,iVBORw0KGgoAAAANSUhEUgAAALQAAAAVBAMAAAAdo9lKAAAAMFBMVEX///8AAAAAAAAAAAAAAAAA\n",
       "AAAAAAAAAAAAAAAAAAAAAAAAAAAAAAAAAAAAAAAAAAAv3aB7AAAAD3RSTlMAq1RmmUTNIjK7EInv\n",
       "3XZ/CtNrAAAACXBIWXMAAA7EAAAOxAGVKw4bAAAClUlEQVQ4y4VVTWgTQRT+kt3NJtm4FDwJokGh\n",
       "Hmwxp4IeJMVfUDBW8FLBSBF/DmV78FDooT2IoIjeahTiHnowKGn0oNCq5OLBiqQKCh5CN2o9RGjR\n",
       "RipF0DeT3exmk3Ef7O7b75v5ZubNmzfAf80IYlQBrSLA9GQQo1jdeYb3MGenQGA3xpbKzKm8M/yM\n",
       "bV8EXQk/xL4XutPxLDC+Ro603ehkmhYxu/clfIoF5nZ3Wk4BxY9s+SfMTqZpUrp7X8LZqJogpAl6\n",
       "iqs04at+6YTrLggisgCJxo8I2F4mPUvTsvzSva47IuhM+Ntq9Y2APcakQ7SPKZKWVuZN6f6a8uei\n",
       "w9QezNNyH/t7ufhR4K54YBSVnwibJN1nyFloGzjvMGl9m7wIDPDYV7nxdHPxMag9Hrn+p4Ojjv+e\n",
       "SeMTdHBpZR24JE3ajGRIGyGKZp9//1w8ZmoZG43Wchldw7OS/f+KS68aV5g04sMk/Wizw0Qh8wy8\n",
       "5ZP24GGrtYsHaUa6jn1Wm/RsyWLS8cEdJB3+1WKQ4O3OdCZWC8/up9fKka+GzpKVpOvptoDEyike\n",
       "kEyUpOXnpsPgrBGnn35/rD34k8skaGyJJAu8OGhq3jkPeS6t/DCZdAPK+jXMxbI2U8hshUbuXt+c\n",
       "vfgEjSUhH8UpLi3fa51NllcngdcAHfQG9N+7NCvesJk9149jyM5Dr3nxEN9zWuxALpdL6ro25LS6\n",
       "SSWkMoJl1CrnjKnP9Rffl7LS39EmM7MSPsBO8QefdAceLau4wWetK8PO0ds0KaqpLqMuCgq2g09o\n",
       "WZnSkMcac+mA0uNl3EIlKGDy8ss61Dvknf5Wmjns8NPCS6LFjAsa+PCHuVymfbeF0oWg0acDLjDV\n",
       "CmJ0we1J+D+3lcW7HtLpBAAAAABJRU5ErkJggg==\n",
       "\" style=\"display:inline;vertical-align:middle;\" /></a></dd>"
      ],
      "text/plain": [
       "<IPython.core.display.HTML object>"
      ]
     },
     "metadata": {},
     "output_type": "display_data"
    },
    {
     "data": {
      "text/html": [
       "<dt><a class=\"ProveItLink\" href=\"../numbers/ordering/_theory_nbs_/axioms.ipynb#min_def_unary\">proveit.numbers.ordering.min_def_unary</a></dt><dd><a class=\"ProveItLink\" href=\"../numbers/ordering/__pv_it/axioms/7df364387f7097a264361920ef692dfc45f0c4230/expr.ipynb\"><img src=\"data:image/png;base64,iVBORw0KGgoAAAANSUhEUgAAALAAAAAVBAMAAAAUSHkwAAAAMFBMVEX///8AAAAAAAAAAAAAAAAA\n",
       "AAAAAAAAAAAAAAAAAAAAAAAAAAAAAAAAAAAAAAAAAAAv3aB7AAAAD3RSTlMAq1RmmUTNIjK7EInv\n",
       "3XZ/CtNrAAAACXBIWXMAAA7EAAAOxAGVKw4bAAACeElEQVQ4y42VTWgTQRTH/8km2SRrt8GbUNqA\n",
       "0IsWcxL0IBE/KigkVvCi0EgPghTZHoQWcoiCF0Xam65C3EMPDUIaPSgoSHLwYEVSBQUPwQ1aDz2k\n",
       "qAfBk29md5P9mtQHSV5+b95/Zt+8mQWGmjacy4KwjF1MzQ7ncTM8zniGOfsFwgew8LXJnPYHrZxz\n",
       "c9u+CRKJn2K/V8PD6RKw9JscaULDbN7DLUsY4ZnEb7KSrISHY7TI+mf26AUDaS+3TMqHZxJncyqC\n",
       "Uu6hT32HNup2wfBz2zYEtdiARLMnBNFJJrxOizK9wpMDd06QSvx9p/NOED3LhCO0e7mCIc9nkvPT\n",
       "vfE+7669ogd96s8Z8DPAQ/G0qMd/IWrQihMZjOzFsmbzvDoe2wQO85p3uPEGG/AFyBmX2NTz49cd\n",
       "/yMTxheoIOFUBqkmRnMWlzTpb4T8g/5dG/CUoRRtmuzqRVXBi4b9/w0X3tFuOMIrGDUtnkSM99yy\n",
       "T9jFo2Z/705WqLNUHDU9wusNMyhMrcFHXQ62Up+XjtFXb/q7prLHJOHtvKcUqWbOJ8w4ZrU0tcqU\n",
       "v8Yu/uwayWn7EtkavwYUuer0f5ULx38aPmHiteIYFHKP+Nbr5mWaSUI1iQtcOPaofw5ZL50H3gJ0\n",
       "pEk1YQsTP3TnHGbsznObm0cqjPyhFtF1Pauqyowz6h5dFe05bKHbvrI41lqbaN163LL4ai96gp3X\n",
       "Tz7hAE82ZdzlK1bjl5xjNlIJ7+8BlzcFF7LDy0opRo3Ha4yX+d2vmMB1FLy+LGfr9TbkB+Rd/NFY\n",
       "Pe3E7wuOZJ8vCQb4+BNdL3r3WJBX+++ZRe8uczhXBe9E4v8ATzu4zy8bcZYAAAAASUVORK5CYII=\n",
       "\" style=\"display:inline;vertical-align:middle;\" /></a></dd>"
      ],
      "text/plain": [
       "<IPython.core.display.HTML object>"
      ]
     },
     "metadata": {},
     "output_type": "display_data"
    },
    {
     "data": {
      "text/html": [
       "<dt><a class=\"ProveItLink\" href=\"../numbers/ordering/_theory_nbs_/axioms.ipynb#max_def_bin\">proveit.numbers.ordering.max_def_bin</a></dt><dd><a class=\"ProveItLink\" href=\"../numbers/ordering/__pv_it/axioms/112a9c7f7c68b65c22eb9c549f5045dd5acb93350/expr.ipynb\"><img src=\"data:image/png;base64,iVBORw0KGgoAAAANSUhEUgAAAV4AAAAyBAMAAADmRK68AAAAMFBMVEX///8AAAAAAAAAAAAAAAAA\n",
       "AAAAAAAAAAAAAAAAAAAAAAAAAAAAAAAAAAAAAAAAAAAv3aB7AAAAD3RSTlMAq1RmmUTNIjK7EInv\n",
       "3XZ/CtNrAAAACXBIWXMAAA7EAAAOxAGVKw4bAAAGOElEQVRo3sVaW2gcVRj+d2dmdzKTTBYFS9Jt\n",
       "WGifippVBO1LshLrtdVFtI/uVgNSKzJ9Mxo19sEHje5GiBiJuoUo1dhkLSi0Yi6CrVYqEaOINWFi\n",
       "U8SqSWqTbE28nTlzO3PJ7NnOQA8hl39nzvnmP//lO98EgHK8DkFHVzHQ7cIbtVwdSQeFKy2Xgk3w\n",
       "ci33bw7s3nHvJ2bO0U4QnaJfjMkHhcstu23d6BEeLmRpp/iQfrVuOSjeuiW3LZcBZuoAuc3CIz5T\n",
       "NNDH5GzgcGj0yDYB5UXCbhr2WSl6ijocJgLjHU1453HGmZZnNk6rTtrF6svB8Wbo8AKzMeAcbVQu\n",
       "lsLEOzJ3+JMU+hl/PMEnJxOkCW97J4YlzKfhkH2OWIJysW8gTLwZqYWd0tfX49c04VKyV3WPGJ2A\n",
       "dkcAr9GtxV8KEy8jM2ta+6kz8FomjHefivcgeoAmR37+S9ncJsLEywOrV3MTr2VSvbgXx0OpXoGv\n",
       "HZO8SZluiVDjARASO17LhHw9rSdLruTa13a6hCukw8Wbk4WSA69hIurZ7SA593WUDsii72PFXRbZ\n",
       "F+972SSIdv9aJqJf9KmfX9ZGD/p++rPL8pAv3tYXd8H9Gt6i+kWayH58K+Sc7qybAox4qz/eL7Eb\n",
       "t/yNH/GfTY4i4+4lUtoP79BCtAPXWlR8DycvKKSJHIfG7nNulLgEO9Wfj/ozZY1axd9WYdxQcXz6\n",
       "rscdj1H3N9/xsav3rcDzKhJ/5s9rZU/4Q605886a3eFxx00h4BXzwmceSGIoHcWUP1H+U8O7gFzL\n",
       "P+DE61Wb6939u0BFQYQZPHpU9qhEyh47zaBNjlVhZ1oZFM6juJBYB96oF5OPuQN4MVujf6NtO93G\n",
       "CwCnZ2a+qnLy0kJWUJIIu4q37bfjsOO/dO4E8gNbVj3f/NJRIEiK6K47pyGM8RfAnQBVTp7imo43\n",
       "l4LtCG/0JKrlMF6KZXVXsjCn7NYu1UgKPj6x2t5q0NmToeA9AXAA4m5vRM90XmN2SNbA21AERcOL\n",
       "mGiseAs+pKDYvxnaS1fja3SSEnUF9a6eUPDOoBpcEh2h9UpTPyhl8WmT7izpeKVKPIvBvzMugzCJ\n",
       "g7Qe3dyj+hsIksI7D2tHmkOBCz8hXyiOdGNRhICiMCMuvMK6hJ09dFUrquStWQMvWERKIymc079H\n",
       "7g4NL+Tb0LeFO+YRBG4OInAWMF5pyBUPMMiof0Q/hwK6+J5TRjwAV4H3SZKCpQJb/IYXD3AUdSNJ\n",
       "boqhhUcaS70Cbh5KueusmW9GfYBcs4q3MQO5J2Wx9Bpu6QoI/Yggl9XTrkFSGFcD2jDf6PUSPd+g\n",
       "W10A3uLRr09dB79yOCyVu45Z9Uyrv1wC6osQqah4Fw/KY1rLQqUremlogkvBaN4kKay7OXwPgfSS\n",
       "Ua3MT6rhibeqostOLcy+gYFXUTx8lLL3i/jgalrKSsnVTXzL9cOzn65C+yoqIfwUCPcq225EkfGj\n",
       "SVIaslT9wq2XbKyVaO3cFIn4CUxjv4Mv+LIWvw8eN4vbit9MP5i/bTdJyjNA1Y899JIq7Xrd2Bkx\n",
       "z8IwWpxb0roHqmdmvvEX/eawuE3ZJCkdl6k/+MpRFvNCAXdu7Dz0pmDbjjx0ofjgntgv3GYyg2Vf\n",
       "YcwgqSgfdZLixffo9JLhWRrmZYyUINelQTg20F89VyyfGOAkk6TUyf56SQcICZteYmkj1vGNlFAc\n",
       "TMY495ciyh4vSEnfh37WZfnF/7xZvhaYJZteQmgj5vHYJqHYO5dRB4Br82Sp7cHlKFJ/SO2GSNF2\n",
       "3iS1EV2OsksoBq+me6VQSIWJV0DdW5MbTLw2bUSTo2wSijGeU66EXsKtQaHHrj+Q2ogmR5ESSq16\n",
       "CRuqHqU67neHvkNoI7ocRUgo1thCtxa3EipeBLPPgdfSRphp2aGqEINS74PpcP2b4C7a9RJLGzHr\n",
       "maWqEAWBUk8No0AQeIXN8xW7XmJqIyOzLlWFJBG0eRT2+wAx762NCN/6zkH9PoB6I3zwJghoH6Sq\n",
       "ayMeo496tf2B8RLvs2Zdb0u9tBGPtKf3Wm/w94XWYlvnszTaiJsD07ctqRgUL78eeItqeB8bxvvu\n",
       "oE2dy9dwcSwwhZCWA07wQk1F9cr/vwYWlf8H543fsVt259YAAAAASUVORK5CYII=\n",
       "\" style=\"display:inline;vertical-align:middle;\" /></a></dd>"
      ],
      "text/plain": [
       "<IPython.core.display.HTML object>"
      ]
     },
     "metadata": {},
     "output_type": "display_data"
    },
    {
     "data": {
      "text/html": [
       "<dt><a class=\"ProveItLink\" href=\"../numbers/ordering/_theory_nbs_/axioms.ipynb#min_def_bin\">proveit.numbers.ordering.min_def_bin</a></dt><dd><a class=\"ProveItLink\" href=\"../numbers/ordering/__pv_it/axioms/752760836d3f86f4583cb4dcf21cfa9aec6caa870/expr.ipynb\"><img src=\"data:image/png;base64,iVBORw0KGgoAAAANSUhEUgAAAVoAAAAyBAMAAADvrw7GAAAAMFBMVEX///8AAAAAAAAAAAAAAAAA\n",
       "AAAAAAAAAAAAAAAAAAAAAAAAAAAAAAAAAAAAAAAAAAAv3aB7AAAAD3RSTlMAq1RmmUTNIjK7EInv\n",
       "3XZ/CtNrAAAACXBIWXMAAA7EAAAOxAGVKw4bAAAGDUlEQVRo3sVaW2gcVRj+d2dmdzKTTBeE1KTb\n",
       "MtBSsCquIooPuUisl9joIuqju2pBakW2L0I0auJDHzR1N0LQSKxbyEO9NNkWLLRiTbzfKrGoiJoy\n",
       "oSliMJeapFuTKJ6Z2TlzOTOzZzuDHrK7yb+7c77zn//ynW8CQDleg2CjuxDo68LrtXw6kgoGVlou\n",
       "BrvAgVq+vymgaz90Xy1znvYC0Un6yZhsMLDcMmnrQQt4JJ+mvcRR+tl6csHQ1i2Stkw7MJP7yA3e\n",
       "7j5XA30sng0YCBtcckxA2ZAgzS2dHqHwFXUgjAdEO5Zwz912wjR30usau2knqy8FRdtOh1b4QPG8\n",
       "RoY2GheK4aEdnT78voxe408k+OREwmoCocsITmEmBYfs14glKCf7DsJD2y5tYScrs1fi1jAJjbLx\n",
       "KTE6Dm2OwF2lm4u/FB5aJses6q2mzkBrmky0LyD4TY4o+YeykY2Hh5YHtlK7MVrTFMeRUKxX4FvH\n",
       "Rd6gTLJEiJEA9YoDrWmyZFmmSOxoG12a5VNhos3khKIDrWGyVLDbQXLu6BgdjAWfReUoLFa0b6WT\n",
       "INp9a5os3WFAff+ytnjYh1vJhOkhX7TXvbgL7tPRFtQfm0nvvL3q862QcbqybhI0vFv90X6pZcDm\n",
       "dW2Bf2+Mf2y+dbXLAlJ+aEfmox3aClGxPZy8oFhN1nHo1L3OTRIXYaf6+pg/E9YJVPxNFcb1ZSuh\n",
       "Ety42ePUvcx3HCf6/wr0qTj8eT2vFzphToU2g2q02dlYt8C/MQS0Ylb4yAVHDE0tyv5E+E8d7XwZ\n",
       "feN+W0epdy14ZJ/OUxENYUobatw2KJGSyx4zyDuxKgxML3zCLIoAibWh3e72+Rjp8IV0jb6Ntu4k\n",
       "jRcATk9NfV3lTFXW0SpJhByhfWoC9n/y3LSaIHdrPm9+6ZiViohkpTkNYYy/AO4EqHKeFFcraDMy\n",
       "7FB9+zDiOTKvruFRNXZhWumyUhHtWMTqu6oDZz8PBe1nAPsgTvoi+svuRsw0WQNtQwEU9Y8BrQQv\n",
       "IdsZ9LgZ2opXWKlIlKAVu3pDQTuFam5RdATVy02DoJTEZzCpWayglcrxdAXtEIBaKT5Fj17UJW1U\n",
       "hHcewo40hwIWfkWeUBxJxqLYAEVhRgm0wpoEJFowyZJORTinb490hoYWsq3oaf6OGdQ6uGmIwDnQ\n",
       "0EojRCTAMONAe0Y7fpfhbSsV0Y7+trgNLxLgGOo9Uq4phoru6IZiv6C1CqXUfQ5nmVETINPsQHsQ\n",
       "mQcR/S2pJ1iDijBEs/HMMnr1o5Jl0KNOAAd59OvT18LvnFYtlbtOmBVMr7dcAuoLEClrUPfoaI8i\n",
       "T14aGedkGMtiKsKSreBHCKR+jOkNfkINS22byhUBaQuzZ2joFRQJ78n27hAfvpiS0lLy4sa+b5r7\n",
       "1q+8ah2t8gDy7T3KthtQ8/kZU5GGNFV38FI/3JQPvXFjfsKPx9WXH+ALvqTH7QP4YB9d8b6MGZA7\n",
       "MBV5Fqg6r4f64dOY14xdEbMsvAPwE7eo9wpUwXCW8UveTdlkKyVMRTouX0/wFpZMdoVC7fypWeiX\n",
       "YdstWehG/uKe3Cvchtngsvd6X8ULVwwq4sbo6NG2dFZjV8aQhVxdCoQTQ4PVc8Q4uOBUxFSkLuev\n",
       "fnSAkLCpH1alwziWYUGE5CuGbFmMKA+6QUp6o42TStBv/qfI0jXALNrUD1PpMI+8WCOx7oStRzLA\n",
       "tbry0LagwpJVT5C7IFKwnSKx0mHKCaYgYuXNdDcD8nJ4aAXUp3X5AKPFSocp1ZiCiGU8r/z36ge3\n",
       "Cvleu55gKB2NMqmR1K5+sCEqS6rT/nBoNYbSYUaCTRAxxma6ubiVENEikAMOtFjpwFlmF0Qqg1K1\n",
       "g+/D9G2CW7KrHxalQ5ibBRdBRM88SkU0eFGwoBU2zZTt6odN6Wg5CR6CSANt9oSr5ItZP6XjJq9c\n",
       "olbyqTfBE23CAuxdubrS4TIGqGfbGxCt5Q7UWeK+ppvS4ZLq9B7rD3p3z5xq60yaRukgySl9i5KC\n",
       "3QEHfi3woayGO6fB70oHbd5ctoYPxwLOJi0HRLu/piL6f/83hSYK/wvz9NYhAoH02AAAAABJRU5E\n",
       "rkJggg==\n",
       "\" style=\"display:inline;vertical-align:middle;\" /></a></dd>"
      ],
      "text/plain": [
       "<IPython.core.display.HTML object>"
      ]
     },
     "metadata": {},
     "output_type": "display_data"
    },
    {
     "data": {
      "text/html": [
       "<dt><a class=\"ProveItLink\" href=\"../numbers/ordering/_theory_nbs_/axioms.ipynb#max_def_multi\">proveit.numbers.ordering.max_def_multi</a></dt><dd><a class=\"ProveItLink\" href=\"../numbers/ordering/__pv_it/axioms/52da64a97548ec1c4da6644196d73ab5884d998f0/expr.ipynb\"><img src=\"data:image/png;base64,iVBORw0KGgoAAAANSUhEUgAAAtoAAAAXBAMAAADHKfVDAAAAMFBMVEX///8AAAAAAAAAAAAAAAAA\n",
       "AAAAAAAAAAAAAAAAAAAAAAAAAAAAAAAAAAAAAAAAAAAv3aB7AAAAD3RSTlMAq1RmmUTNIjK7EInv\n",
       "3XZ/CtNrAAAACXBIWXMAAA7EAAAOxAGVKw4bAAAGnElEQVRo3u1Zb2wURRR/3b3r3e31jjMkJGpS\n",
       "LxIhsRTvQ22sH7BIMQghnBBioo05AwbBBLaJxlREDqJiIrQXlZTjgyzRmBBI71AboQgpEIJCkGrA\n",
       "PyUNW0FRSMvJHyHVWOfN/p2dLrc9rtEPvGS3c29+3fd7b968mdkFKC6DP0L5RC6hZ0wS+B9wkTlG\n",
       "Ac9x7CpjsKPxsfeMTfzqf8/lOY4RZdUFMfw9uUi0PYA8Sg20nO3BxslvZWfP7cuOE+R2zql1tzhe\n",
       "XKIJjtE5GsjZqFtWJNoeQN5ESgG0XiUN8T6Z77l9WUquSsWpdbc4XlxWcIzw6oJ1WFQyRaLtAeRN\n",
       "fGTQO7/H0V+g8D23L1cweI1OrbvF8eJSxzHCq4vGPBwvEm0PIG9Shb5fJqn0ltPDqrLU7GG8H+Oi\n",
       "7WpxvLhUKRyjYxhIkYxjZbFV0gPIm0xBD3NkmFWnh1PK8fhwL96XcNF2tTheXCoTHKMldLtxor//\n",
       "eNE9SXGQN5mHHlaQpSlBPBSH9initqv+v1/UewL3XrBvKFoOvHHrp3GAyuoBMgN3c9F2tVg+Liw+\n",
       "HOMY7aaBnAOwtWi0i4O8CQ5yp/8KCArxcJrsS0F4GF4weprl0LCtLByFbcot6wYHyK2QbgDU09rb\n",
       "T4V67W6xbFwceDHFMaqngWyBQGz0aWmLtitojPIdegg/QRSoh37CZLmY1nukw+DrtbC7EjD/lg/j\n",
       "AQ8p8A3ANC633SyWj4sDL/RwjKbRQIaUcJL9zzXzkuJBkh22aPOgovK2vocRziydZM6xI9TDy/Ir\n",
       "6CFIzxIPd000enwFiORBqtexCwDOgLTvLtecogBGngD4C6Cdj7aLxfJx0fCmBAsco3YaSEG1r3/B\n",
       "gWxSiHXDXDbaLMiTVKDxtrs3g5oPr2ajncur6KE0837ioXDd6KnKQC4JbYM69muQrhMS9pRhhQIY\n",
       "OQOkMkAzH20Xi+XjouGtytPDMWrWDuWpGbb/aiJTSZjhgzwbbRbkbRNEnuQj9R5UVexkK0moJ0Fn\n",
       "bzJIPPR9qeg9ORUeI61afW7+A2IBJiQDN90mLwU4ttu+Yf0BTN12s1g2LgberCS9HKNaLZCfkoOP\n",
       "OKttINqQ1o6cwvqnST42zW+abUUbQbBzxhfG42xNSxhl+9A92iFaVaMfG8oPqYf+PxT08Br4b2yA\n",
       "7lBK78nFYZIgU2o4ta9ARWqqqBAPJd6UBdCZowZuYoGFBj63XSyWwAX4YoL0NHzdI0Oxc1twlcyA\n",
       "k1GDFsjXyfh/1JyoikVjsIMOTLr7AWduI0j6AcdfM2A1bVYZ5aByXqKlW823mq8ucCv0FE5MIKfl\n",
       "axC9OTWsStf0npAqnPLRJJD+pD7XNjbSHWsOY4A3qjcbFGAwp5qJ8IG+gWPE1WIJXFgKJjOKlx4+\n",
       "DAdhAGdWHpyM5mmBrCCJ8dqvMCFNIIu0aPuiGUe0EeRrDPZAgO4EaXPheXblpEpT3od6P93jq0/u\n",
       "NZWbAFpPLoFfYODk8/K6ny/uv3Q2JY6s1Hqk6j0tv2nTrp/kxfZLG6qJ1U0KRPqIKoIH8lNGwwQY\n",
       "zDXN52jxtPM1iavFErjQnywXpEfxgc4USWYMbSQJTkanbS9Tq2EjROJQn81m40Jayqcc0aaVOEly\n",
       "aH2f2eyR2LJJlaZ8BTPF5dnse6SSdJmH/kjarfBZPeihYM5XOroPcnALoDO3NIFebwtLiVwEvpSY\n",
       "9CpUkm+4HqxhOCIjvLqs2PwOa4PwrpbbsFBl99vaSiCHHlWgz2zK9lQ2lHWT6xbuwV8FOBTMa3V7\n",
       "cbe5629089DqqbXv9eFleBUg734YMJhbGq/vlErkEubxeWtnEM0ECmSsZjEckRFeRiADBZIjDT6y\n",
       "r0ZjSbAnqZXbcvsiGu2dejOUJE0pb9yocnqmKlmDv/vISrFVq9thc5WEDlfnO+wempuYwJZ35oLE\n",
       "fyCwADpzS9PqdddUEhfrp7VemfTWkuwWM436+1KGUastkP4YLIOWi+SBWLaWAYwWbf+s6Z8BRntj\n",
       "XGvOwWbwKGyU8aYpQ+lP4HEIHoI3h4gJMsz+lS9JTeYL4x3uXwL0v6tXHSAjZGbLyEiBnPY4MQEG\n",
       "c0vT4fnbQylcgB/5qG05rpQD1SQNZYZjh35xH8F2ZrPcoXE/8z0NK4lWh8OKajTBVEagBnoTIGij\n",
       "vje72fHyxvU7VsDzF64i3008f1McPy4XOEZ4DR4Z84PajsfBr5X/VSO9RhOTTGttJ4t8tQzPwB0p\n",
       "k4ijNUUGkrgTpVHkX5YDBMp+bfGOAAAAAElFTkSuQmCC\n",
       "\" style=\"display:inline;vertical-align:middle;\" /></a></dd>"
      ],
      "text/plain": [
       "<IPython.core.display.HTML object>"
      ]
     },
     "metadata": {},
     "output_type": "display_data"
    },
    {
     "data": {
      "text/html": [
       "<dt><a class=\"ProveItLink\" href=\"../numbers/ordering/_theory_nbs_/axioms.ipynb#min_def_multi\">proveit.numbers.ordering.min_def_multi</a></dt><dd><a class=\"ProveItLink\" href=\"../numbers/ordering/__pv_it/axioms/2feb8dd0c2add876f2a7b1fde3bad224b0994da00/expr.ipynb\"><img src=\"data:image/png;base64,iVBORw0KGgoAAAANSUhEUgAAAs4AAAAXBAMAAADpbNTRAAAAMFBMVEX///8AAAAAAAAAAAAAAAAA\n",
       "AAAAAAAAAAAAAAAAAAAAAAAAAAAAAAAAAAAAAAAAAAAv3aB7AAAAD3RSTlMAq1RmmUTNIjK7EInv\n",
       "3XZ/CtNrAAAACXBIWXMAAA7EAAAOxAGVKw4bAAAGtUlEQVRo3u1Za2wUVRQ+3dfszj66akLiI0sT\n",
       "oiZCcX/UxvoDqxRFGtIVYkxME2tKQkQi00SjFYSV+EqEdqOSsv6QIRoiwXQXtREwkhZCUAhSCSiW\n",
       "NE4tvtNSMQrBRLznzvPundudZfenJ5nJnW/P3vPdb849984MQHmbOgu1M8UdlmrUvVQlDyF+TeEl\n",
       "4/Cm4FANZU40uOM/1Kj/oFYdDxF+beHxkkJDkMTreWV09uDk0eZDz/fD2Dj5tbIhbcG+Yg363n2C\n",
       "nCZLUdd4Ih4Er84meTaTVMIliK0uo7MHJ28mdwH0/kka/rkKPN5q4btqksyryBFSS1G3eCIeiFdl\n",
       "jvAmGzyG4CUsIbkyOntw8mYBkjqD3+D87FBBtvHFNdH5IgrXWoq6xRPxCKSrpOAIb7LBY4iqHW0o\n",
       "o7MHJ28Ww3FfIGvNKx1M3g3XpDZfwfMxTmeXeLFZ8OrsGM/mGEroJ3cwVG4d9ODkzW7D8RXIDdaY\n",
       "8fm6atF5dBTP3ZzOfDwRD4pXZ908m266lTgxPn687H6jvJM3a8fx1ZHsTXeo0tpkeO2D0ymcrrgM\n",
       "Sjf/7Fytew5unL0vziGUmiBzbi+nMx9PxIPilfJg/ffybPZSCZcCvFNW5/JO3u/2YPAi+FSSR6Ek\n",
       "xK+HfjJ7Q1gWO5XIFUcROAo71FmrBOdQWCNfAmimdXacGt0nucQT8aB4hTxK/Jt5Ns1Uwh6Qku7T\n",
       "0KGz0KlCO4Xjg+8gAWR8kSREhqGeaBwnd14+DIFR2/PDNCyftSve4U4VvgJYwOUzH0/EA/FKeZT4\n",
       "L+DZLKASRtRohv3ni+0Z/wjJCYfOvFNZe9XYn/jOrZpjzasjdHwXlGfN8eWgnvwYI50HZiBeBNnM\n",
       "hw6AcyB/dp0wl6gDYw8A/APQz+vMxRPxQLxSHrq/Zf08m34qoU9zrnDhiXzGlzwAy1idWSdPVofB\n",
       "+27cBloxup7VuVDUeJ1jOShkoG/K8PwS5L8IBWeqsEYdGDsHpBJAJ68zF0/EA/FKeej+dhXh2XTq\n",
       "j9Rdixz/assSURcFoMjqzDp528KRngKkroOm+QfZuhEZTrPjw7pR0OBe8mujMRv/Bf8M1Geky6Lp\n",
       "Sh1Kts+BK0YHTH3m44l4IF4hD9PftEaeTaMu4UdryF56cd9EoiULCSxSvs2PkhxsW962xNYZnWDP\n",
       "ok/NXhxN2xiwf/om/SlU0xLvm+C7dHzBP1R2fBFyFBpgjk+hxMgclS9CXdftfpWMT+YD2Q4Gb0Tg\n",
       "MhZTaOHzmYsn4oG4kAeobjwM/6a7p5OT28EIz7Jp0SXcQO76e53pWDKRhN20omYP3Fqaz+gkfxu+\n",
       "ZGaT3XSkGANOqedlWqK1Yu+kc9fzME5GIM+7ZHAhfXzRJGrtOx2gN1/+m464sbWV7kILuLnGE8Wt\n",
       "BnUweVPkBnjb2Jox5hJPxANxIQ82vNWg/vJdh2EEJozwJWzadQnrSDq88BPUZ8kudqWucyCRK9EZ\n",
       "nQKt4WGQ6P6ONlecZ9dGClr2FjQH6VOs9tB+C9wK0HuyG36EiZNPPH/LyAdzRzbvIEtumFQ/ObWv\n",
       "5xd9oo2TfNj5+2spEnOrCvExAsXxefa02bAcTN468gnGO1P6esMlnogH4kIe9JLnQf2lwS6SwO1m\n",
       "eJbNGccrzxRswSrZnM/nG3xZudhVojOtuBmSOZvHrOawzBZIClr2BdznfzKff5PUjSHrkT2edS9y\n",
       "Z5n65rNmKL2rd3DutoPB20akUS+Lh4iHjbvw8KliHnUaybFTZniGDR5Dtiq/wqYwvKHnM6zQ2P2z\n",
       "XvGVyD0qjFlNJcy+lqBg07ymFfvwagYOhYt6fX7kgMtrFsaaGJ2tyPAMPAdQFG/tTd424u1NkIiH\n",
       "jbvwiM7CI5ZN5KSZrBGeYYOHKaE0QzKjJUD2yRgsA87EtPNZ6V9Jdd5jNCMZ0pSL5omCC3OxzHy8\n",
       "HvPn9GdIsqZa6yAMuI8vojjHZ21PpO2vLwOZf3VvOxi8baTX225ooBzO87AveR6wiWS0P9dqhGfY\n",
       "9DokDCZhNfT8RjrEIrUawE3n4OKFHwPqvKVBby7FZvgobFHwpIOR7C64H8KH4OVpEoJMw+DTT8lt\n",
       "1nui3YJdmvnSdf26g+TOWFly9eoMeWbjzHIwedvIgMdvAmVwFx6giXmQRTWkSCnVCM+wGXD7JLUn\n",
       "n+ce/D5nvm5h3dDrbVTVzCZYYBzmw2gafLp8+/PbSl66CL4rbazVdzGP3/dEPCStluHxEo+pIxX3\n",
       "1He8AYJ6mV93ddRsYmrprZ1kEU8p8Bj8b1Wb363pZ1zS/6vE2H9Yed6c+tc2kwAAAABJRU5ErkJg\n",
       "gg==\n",
       "\" style=\"display:inline;vertical-align:middle;\" /></a></dd>"
      ],
      "text/plain": [
       "<IPython.core.display.HTML object>"
      ]
     },
     "metadata": {},
     "output_type": "display_data"
    },
    {
     "data": {
      "text/html": [
       "<dt><a class=\"ProveItLink\" href=\"../numbers/multiplication/_theory_nbs_/axioms.ipynb#mult_def\">proveit.numbers.multiplication.mult_def</a></dt><dd><a class=\"ProveItLink\" href=\"../numbers/multiplication/__pv_it/axioms/b16352cec32b4c35b440b7e621eeb07a3af49ab50/expr.ipynb\"><img src=\"data:image/png;base64,iVBORw0KGgoAAAANSUhEUgAAAbAAAAAWBAMAAABTUtReAAAAMFBMVEX///8AAAAAAAAAAAAAAAAA\n",
       "AAAAAAAAAAAAAAAAAAAAAAAAAAAAAAAAAAAAAAAAAAAv3aB7AAAAD3RSTlMAq1RmmUTNIjK7EInv\n",
       "3XZ/CtNrAAAACXBIWXMAAA7EAAAOxAGVKw4bAAAEkElEQVRYw9VYXWgUVxQ+Ozub2cwmcYtPSgkr\n",
       "/TFgG4N/pbbUhaTW0loWfSk02oAPYkEYH9OadPtQkFo1ikGnhXSqUpoG7CrtgwiyPghFa40hygou\n",
       "bPxFhTS0VMUXe86d2bl3Z+5dZ/rWw55lZs7dc7/v3HPOvbMAMcVCNWQGQzU6jhhN543swoDY0pHD\n",
       "rxsyS6qmGB1Hbigtm6O6IBykWbp5IfLMS1C1ktR0Uz46jsg9G6ffLUBHT1QnN119m663Rv2ROYBf\n",
       "P8htLY50dByRez4G2l8An0R1QjhQv6CQjET9kU5x65XbknnpaJ4j4ZhvDNzLPf+ZMx8CrFCj2hjC\n",
       "gUr8MpFLoY2+ygrjeelonmfhIuwO3Ms99xcAibU5SlTdYRznIYlxbImcKy8TQFWCbZGNjkNM6Vn7\n",
       "G0GyBU9YkgTrDuNAvVitXohM7D1KMKzwzQs/u8dxHp/58TQu+gnZaM8mEDNnF+4+KUUU9uzJJiSV\n",
       "YW3OqAAMFRXEBByo6wC+iUyMgkGhK+2vmY/8p/mOTn0SYBUDV2WSrY/2bAIxHWZq66XEwp5d2fsc\n",
       "Ukm6yzlUJG5yYgIO1B1gZMXeOv0rvJlt3I0Odg57l1Oo7TlIFa6B8divViv5JIGYXglOOMVtArHX\n",
       "YI0zX0os5NlPReyKmluARiW0YHU3Ig7UVidT8EOzYBQWZRzdr9P0jF0w91vat979OWoJBTDNf0B7\n",
       "Qmn1kAaBzqK5LzjhOW7Dhbx+0V3IIqxl1vXV6u/V6mWx2Yiet7OV90hcciA9514OBRaMuxFx7KNA\n",
       "+r1DX0ebdS2f8X/Vh44zxwHeaCQG2hwkmJNpFxFbjH4JsbqtoXn8oaj6Bs9cdgF8h2tZlhMT3XAc\n",
       "pANv4Sr27r3lnR26XhpmxGbfuWWx7f7ol/zw5aUizT2vh/ffjy0Tb14N1tgUt4nEUo/gJ1UqBj2T\n",
       "PHWImDb5rFQUcZCexD39aH9Pm2WyNtqVOfIRFZa1oCU3Tg8WL+YuxlBbEWBbCZY69fPPeOF5oFi8\n",
       "HpxwjNs4MXM0UYaSlFjIsytnWSomR57VPEQcpDsxup/egXmOezTogvw9qkQYS7tb+urV3AV1Uuq7\n",
       "nxfhTrIeuaVfvQ8bvO7eICe4jRPTHh8rp3INiLBSWbGGPLuynO1jeqmx3f88QB/RjYiDNEHjOjEr\n",
       "k9ts+wASm3CLDpvuKtu2c7s+5HPsoRrFnNgE8P0y/yw3q/US0itBYnu4TVixD2ovLgvk0LRbrCHP\n",
       "Xur24SEY2lmLI7AG49Oep4/oRsThY/kN+tLpkrtiKTYwXTZgN11Q8zDrVUBBqChehCaDT9qLMY9U\n",
       "lSZb6BBEPFIRDh+LMQeVLnejXgkwAxOwMzOg41ZAtl8sOCMedFc0OSA3ORZHOAQ3Oeiqjt5hN4TD\n",
       "x5LKwoMeGMQIp69akICvc/rtM/fBOEzGiW0H/dAfohqXv80Ohh8divna0qp+T47+BjIYxmKeske9\n",
       "S68uJmy70DCE+qQpn0PCYjwmMXPkv3CW4FBGNKV6RzCoUIalfxpYitFxZFhpuRv5zwtLjsWrDvi/\n",
       "y7+H5FQWoGeNzQAAAABJRU5ErkJggg==\n",
       "\" style=\"display:inline;vertical-align:middle;\" /></a></dd>"
      ],
      "text/plain": [
       "<IPython.core.display.HTML object>"
      ]
     },
     "metadata": {},
     "output_type": "display_data"
    },
    {
     "data": {
      "text/html": [
       "<dt><a class=\"ProveItLink\" href=\"../numbers/multiplication/_theory_nbs_/axioms.ipynb#empty_mult\">proveit.numbers.multiplication.empty_mult</a></dt><dd><a class=\"ProveItLink\" href=\"../numbers/multiplication/__pv_it/axioms/10dffaa04e752db94cb43e4f7f74b09821cd2f250/expr.ipynb\"><img src=\"data:image/png;base64,iVBORw0KGgoAAAANSUhEUgAAAEgAAAAVBAMAAAAX07VdAAAAMFBMVEX///8AAAAAAAAAAAAAAAAA\n",
       "AAAAAAAAAAAAAAAAAAAAAAAAAAAAAAAAAAAAAAAAAAAv3aB7AAAAD3RSTlMAdt0yiUQQzZnvIlRm\n",
       "u6udCZk7AAAACXBIWXMAAA7EAAAOxAGVKw4bAAAAyUlEQVQoz2MQUmZgYAATDAxcDAsYsAJXJFKa\n",
       "IZCgIm4HBsYDGAqY1VAUpQNxGbqavPZvKIp6gPgEhkmMqIomADFnAn5F3AVAgv0AfkUcDkCC5QF+\n",
       "RWBDeEDGMTQpgYAeFkVMG0B2TsBuEtt3iCLOAFCofMBhnQaSItYJ+N0EsU4Bv5t4BUAOv4DfJLDv\n",
       "weGAAlh+IStiBtnEFICmhu/l9zfI0QJKVIsIJZUT0EjGq4h3AQPXBUKK2C6A1GEDTuA0PhXMXsgg\n",
       "hVUNAK/QNPltHbNmAAAAAElFTkSuQmCC\n",
       "\" style=\"display:inline;vertical-align:middle;\" /></a></dd>"
      ],
      "text/plain": [
       "<IPython.core.display.HTML object>"
      ]
     },
     "metadata": {},
     "output_type": "display_data"
    },
    {
     "data": {
      "text/html": [
       "<dt><a class=\"ProveItLink\" href=\"../numbers/multiplication/_theory_nbs_/axioms.ipynb#multi_mult_def\">proveit.numbers.multiplication.multi_mult_def</a></dt><dd><a class=\"ProveItLink\" href=\"../numbers/multiplication/__pv_it/axioms/2dcbd4d37bf5e18d61fe3876c719b26b6bfff9d00/expr.ipynb\"><img src=\"data:image/png;base64,iVBORw0KGgoAAAANSUhEUgAAAmAAAAAXBAMAAABe/e6zAAAAMFBMVEX///8AAAAAAAAAAAAAAAAA\n",
       "AAAAAAAAAAAAAAAAAAAAAAAAAAAAAAAAAAAAAAAAAAAv3aB7AAAAD3RSTlMAq1RmmUTNIjK7EInv\n",
       "3XZ/CtNrAAAACXBIWXMAAA7EAAAOxAGVKw4bAAAFAUlEQVRYw+1Yb2hbVRQ/aV76kpcmjQiCDEJE\n",
       "tIW1NR+2YqvMwKYUixrtF9F8CFQY3Ze9gihVmXEgDtzaKh0zCvrqPpXK0roFFbEUxqh2TIq0c3QU\n",
       "Ujr8w6iEgW5UWL3n3vfnvpeXl0RuvogHzuO8c//83v3d98459wF4yPY1ECWqrgJFbiKO7HIv12ak\n",
       "KGxx0QRTkRIoNQ/HOTfeU18RYnj/YDXCvFobkb26ipKZK+Sy1UScLResLUrJk+g7XI0wr9YGRMky\n",
       "FSevEG3VmofDz21goRbhHfw6J6sR5tXagEhJpuLkFlF/qnk4/NwGFmqR0hZOVCPMq7UBadNVXPza\n",
       "wetyE3GWXbCWkRI/2ZDWqkHfq7UBeVhXYRJewetwE3GGXbCGaR68srFxuXqW9GhtQAZ1lff86kg/\n",
       "owvH6kjyFcNa45vkvZ9vIs68C9Y8pWQA4OPqhHm0NrhdqBk1tGP/tJbgM63m8IphUDii3AbopXFr\n",
       "g0pMME6vC1YvpWQU5Fh1wjxaG5CfmCoXQVqxNXyRhGdq59iKYfCIBj8CdDURp8sFq4tSEtLCaf61\n",
       "XC3C4zGTMEdrbQmOmEXkVNz4DC4xlcoQmQOFbV4B0/9zANdB+fYe3H3lL5c1oI8NMzccxz0F8DfA\n",
       "hLP7v8ahnWw4Ey5YE5SSlpIV1cfvPw0PhDVJMwnjW+uTPcjaZj6tfKC2fGJfSNskFNIwvk19EUzc\n",
       "P4DyJ0j6xq66zIY+NswQOu46BEiyz1QhrHEc2smGk3HByrDDT/aAWcYMYF1fSoW5o5HVWqd8T/RQ\n",
       "jiSXcwCP2T+VQgmeIFa39QLdBX8Z2tPyHa8Z9WH2Mkza0SfiY5hAnG4XrG5GyZdHSE12cPyGfh7o\n",
       "fOgYTxi2wuyBr4zhnGkJ5wze3dSiWDuefdc6w37KtJCA+1pUfiG3wJft8Gs1FkKH7Xv0D6uYvINR\n",
       "CfqcPQXi9Llg9TFK3iKbczaTbFMVWtJ3hj9/mSMMW5Wfg7cNaMvkIg3njK5HUzNodHRYHfScHCq1\n",
       "rEr85pHVdadSRqljRhMaZQrmEYcOU/ZfhCWz170wpVcQNhGIM+iCNcgo8ZHv541foF0L0ENFJ6R+\n",
       "5wjDVikVXASZlhfUfOGGPRFQp4Ga9GeH0OjvtzqcYqrEvx79zbaQ6ZvvxQnAKc0eTVYNg+0HDpPP\n",
       "ZcEqFaYv4LOuOQkTiLPmgrXG/cCJk4jmH8nnPySEzbY6fu+0paMxOL5umotK2X4iQadh56RYbz6f\n",
       "T5x4kYupOabO8GBk5npKPV8psOgYtlIRu4XhOOfGe9SiFaoPBYNz7A0L9DgIK6ihfg3WTVMN2h+d\n",
       "OvcN0f8q7dCWeJ+eKEjQV7ijrHWcrVjIq/B6HefRnJTKVRy1K4/MYnCccxvHeoMSuQzXOllNvx9g\n",
       "0/mGqRNDlLBZ3QylianMGRfq7JmMYIeI1keKN5zyggoLBt4ZXV0XIn904unaC3kbIsfthI1VdhKG\n",
       "45x7TFeDkkAMbiZhjDxQ8KoKPgdhgYM95wEJO5lg5gCawSU4qeKFOX2516j32RJ5Mpo6R6bMBc7o\n",
       "ivLm0QXHnu7ulmsv5HmInq9kx/ljURTOmSo7Yf8JrXyTP83ff2f7g42fJPvTE9ZKhgmmMwJbLxn2\n",
       "bD5vTwtyialIibr8uxeF45wb71G3L9U/x/jlBARYljm6u2KY+P4xaxr2Jjnv/0KDqpvpd+/wH5V/\n",
       "AJWP5fZr9aD7AAAAAElFTkSuQmCC\n",
       "\" style=\"display:inline;vertical-align:middle;\" /></a></dd>"
      ],
      "text/plain": [
       "<IPython.core.display.HTML object>"
      ]
     },
     "metadata": {},
     "output_type": "display_data"
    },
    {
     "data": {
      "text/html": [
       "<dt><a class=\"ProveItLink\" href=\"../numbers/divisibility/_theory_nbs_/axioms.ipynb#divides_def\">proveit.numbers.divisibility.divides_def</a></dt><dd><a class=\"ProveItLink\" href=\"../numbers/divisibility/__pv_it/axioms/4db0f292ce4a27734d1fb2121a85530bf79b23460/expr.ipynb\"><img src=\"data:image/png;base64,iVBORw0KGgoAAAANSUhEUgAAANwAAAAmBAMAAABdfejNAAAAMFBMVEX///8AAAAAAAAAAAAAAAAA\n",
       "AAAAAAAAAAAAAAAAAAAAAAAAAAAAAAAAAAAAAAAAAAAv3aB7AAAAD3RSTlMAq1RmmUTNIjK7EInv\n",
       "3XZ/CtNrAAAACXBIWXMAAA7EAAAOxAGVKw4bAAAES0lEQVRYw41XX2gcRRj/bu/2bm/3cgkIbVNr\n",
       "ODAIRYpBpKUgadraKpho6EMffDAHeRBbketLMFLpVXxqI422RWybsIU+GDV/LKQgQjjbpn+xxkLV\n",
       "UA4uGlvrQwitpSEVdeabnZ3NzszefnC/nduZnd/M933z228BImwbxLVUIaLT3iMwao6m2HRbyXTz\n",
       "bXBa3fuxK1BvG2OzJYsAjlGBLZruJoFas67FphsgC/8wNQPNmv5PA6iz9ERsur3k5+ZqcEPT/7Ur\n",
       "UGfPuXHZjGWKPa61FJkF0blwO/bmGtAPOyFf0QzIPBKoC91ybLoj6IdPIKtd/skAqi0xiJeS9zd8\n",
       "DVqzdxh62nSTvRhAtTXis3l+fie965uKoQ8QT0+9Hl7LMz9eGpq9QBoHcBqCuP+nVR7CZ5+FEF1e\n",
       "3oHFY3Iu3HNvDaShSKPbAQx30OtbCjo8snYxTAeyFiUXKTpF+3y45yWA3x26sRTOQ/AgTZlBBd0q\n",
       "HNAm0b0gRxnnaqglpIO6GuzBEfTJoodpklWOSmC/p5ADiS4nHcccBsRo3+HfyQ9Vf6ZXF1LlNdi5\n",
       "5GGSrD+tSpXHGGuZLi0FrzG8K/Ndf0kHLYyadZ/jD9XqddCl26vkNzb3xXcFQudJvtOkzuGA9QkH\n",
       "nMhi237A8RVyTyUEuJ5e8uvItxD1neSSn8RIdVWp/QTgZ3nAROYZE+2s8S/HfZBRiQHb/k0yfSm5\n",
       "nGgjdJ7kG5JSHQnTFYXM8/ZjjlnX6VbQmQ8pThNelsWTXPKtxfDQHvp843/UsM8i8anOYtdvZG6b\n",
       "Nv4GD42aMlPY7qYx82osVZjkm3V3Zw+KVj85J6UgHRSpexdenid3zTlIhJ1JaEq2S+mY5Bsz4dhJ\n",
       "zpzxT2R5NcD4itjBWaIT+VJzmjw01ugO8FTBXBoGGOleBw7ujkl+UtKEA+HMXOCNj0xyDJ4Sskpx\n",
       "P50Dhi3SfH8D3ON+wPV8Q96yhzphF9IxyU9J2jFeC9cBfLsniIj0r/fzHDFRpk0ms09CC3/mIlZP\n",
       "AGcWjO0FpGOS3yAlVq4jXOk1v8HS7eo7n5/6h77lLEw8htiqZOjlFlzhd95GISyvUBUq+R/IRY3k\n",
       "XvNbJmKh8sLgb+z9TjEFXwH8avpp3oli3yHoPMnfLlcilbrve2dGIH3ij6m/YKAArZv9I7oF1ecz\n",
       "QcckX/H2SNYvM1hZESouCnYp62fZOMZ7RNAxyc/K1YN9vy4dk9WV4mq6idpusSD0Y4Zn3Z/e9a5i\n",
       "smN16XpKAn2ngNkusjxZPyIrCh97Ye3hs7oR59TFRdBFD2PTjdOzkYK5WpduxPkARq4ojjk0vzaR\n",
       "5HpCM4DVu/lIf+XKsfnoYS0TTdVOVRAY9RUV09in2Q1t/50Aaq03Nh3WL+Yj+FLziXBZoN5GS3Hp\n",
       "7F/APp6ogOYTbbQgUG+ZPbG31+caS2cqpmbCowGMsPdi02XK9mu11uc1e+/28X/YOCadZYDVZwAA\n",
       "AABJRU5ErkJggg==\n",
       "\" style=\"display:inline;vertical-align:middle;\" /></a></dd>"
      ],
      "text/plain": [
       "<IPython.core.display.HTML object>"
      ]
     },
     "metadata": {},
     "output_type": "display_data"
    },
    {
     "data": {
      "text/html": [
       "<dt><a class=\"ProveItLink\" href=\"../numbers/modular/_theory_nbs_/axioms.ipynb#mod_greater_eq_zero\">proveit.numbers.modular.mod_greater_eq_zero</a></dt><dd><a class=\"ProveItLink\" href=\"../numbers/modular/__pv_it/axioms/196a21f904e9d1535c0b84f29ae08cffd48bf27e0/expr.ipynb\"><img src=\"data:image/png;base64,iVBORw0KGgoAAAANSUhEUgAAAPEAAAAXBAMAAAAo+LSlAAAAMFBMVEX///8AAAAAAAAAAAAAAAAA\n",
       "AAAAAAAAAAAAAAAAAAAAAAAAAAAAAAAAAAAAAAAAAAAv3aB7AAAAD3RSTlMAq1RmmUTNIjK7EInv\n",
       "3XZ/CtNrAAAACXBIWXMAAA7EAAAOxAGVKw4bAAADhklEQVRIx8WWSWjUUBjH/81sWWbSIqiooAHB\n",
       "m7YH7UGsjlj3g4OiBxVbQRAXdAQv4kIV8SI4o1IwVTSHQRDRCe6tKLUiFEToQagohbigRXAouCuC\n",
       "73vvzapjM4L4wZdJ/snL733LexngLywi3Ycla5JHtRfSfdiG6nIDnUytCay4wqvauwd01M8MAGbT\n",
       "L3dvv0pyeSFdbK6JfF569Wp85D/hODtsFUOKEwhb+iCXD9KT6ZrIC6RXN0Gut9hhJj/V73j5ey1A\n",
       "N5fDDmBYNZF7pY9GbmOvRtSRFeiR944DjQ7JAZaHcG1lbhc+KvkOT24+zy0S/QFIWVx+NDT0sCZy\n",
       "0BWOyKQ3lEN1++Lc2VCuE8jkqGuMu8OCvDE3hl015MdNW8zzTuQmLi8Bunzwir1M0+WRrE9q30iI\n",
       "jUFqFuZAHYTmQe+Dwcn6JyebRKCYnTUTabrfGdnj8i5EGnyQ44WzmCVcv4/gAAlaL+rTSHXEXKhf\n",
       "oLXL3la+IepBKXbEmq482eWy5hiJEsL0G/N30O8R2e/Ks03jvDJyNCE8OIIYz4SWRr3LyKx8+I4s\n",
       "C5uTg+0kqyOFbI/nmWDkNo/LildoMPW5nTAN3KT31dHh2IROeK6x97fkaBrZRJ7sMXIju/pKqRRk\n",
       "Nq02C6F8zC3LCh3WKOX2ufl3tnawTcfEbIoxys6DrAfgeYHLuNb6uDVRkW0W3DyUkinmD8WY2XJe\n",
       "4UAZqFhVNjBPyldom7k496bY6Rj5LcWXyk3ES3CymSmLmXUR96yFcUqyhByNI/QR4bSsc30H6wQE\n",
       "0hU7yRxgkZT3sQbTB9XPuEA3TCNylmbwznml80Geu+dlGZkWBLnmKY+DvNkFOaH2I+wi8gB170mu\n",
       "a9Licv2V7p4xS++Xch3lNa72YhUnB09z4Ek0h/jj3tLu8t5WB4Trk2/tGqbrKfcOnbtn7HyG3bfH\n",
       "suvM3eEftFr0SbTFxhIVi0Rf/ryjRI4mzAY027ZtmaaxkpR+zA9sse0TLNvXrbL1jCfSfdn+UeRs\n",
       "UpvtHOUxm6F1tNWOoE91RZ1X95SPmln4EPj8vPxJjiZTqxzN4XVGT1x38ZT1QJeos5EpH6Ulhfv6\n",
       "+yK2hUtDZE8qZWahBTOuInKKNprXbmaR2ofDOWAPK0hoxza9tfz7QJ2n+/ywVplhpXzRtmXhFYHo\n",
       "tjt/N+6AdB/2piaZ2Vr8L2v694ifWAESwLc36nsAAAAASUVORK5CYII=\n",
       "\" style=\"display:inline;vertical-align:middle;\" /></a></dd>"
      ],
      "text/plain": [
       "<IPython.core.display.HTML object>"
      ]
     },
     "metadata": {},
     "output_type": "display_data"
    },
    {
     "data": {
      "text/html": [
       "<dt><a class=\"ProveItLink\" href=\"../numbers/modular/_theory_nbs_/axioms.ipynb#mod_less_modulus\">proveit.numbers.modular.mod_less_modulus</a></dt><dd><a class=\"ProveItLink\" href=\"../numbers/modular/__pv_it/axioms/ec0b206860a2c96fc353e339e7e8086f2022b3a40/expr.ipynb\"><img src=\"data:image/png;base64,iVBORw0KGgoAAAANSUhEUgAAAPAAAAAXBAMAAADHOt+bAAAAMFBMVEX///8AAAAAAAAAAAAAAAAA\n",
       "AAAAAAAAAAAAAAAAAAAAAAAAAAAAAAAAAAAAAAAAAAAv3aB7AAAAD3RSTlMAq1RmmUTNIjK7EInv\n",
       "3XZ/CtNrAAAACXBIWXMAAA7EAAAOxAGVKw4bAAADsElEQVRIx8VWXWgcVRT+srOzOzuz2Q2VFloh\n",
       "XfChL8bmoQYsUrY0xkooXSz6UIuJGpBEaVfoS7HWKKU+CN1QTXWipFMIhZLSjBoNSWhN4oNViaxY\n",
       "qbhNmf6goLiEYNsYQXrOvbOzmWTX7AaKB86dM/fOvd8953zn3gFWIWFXK5B02QVWIzdcrUCeL9mr\n",
       "OkAdGw9VhRuwpZaT2NUUP/SPs2Q3Lh09O03NTeAJfnm5KuAzrpaVNwUwQklqupaNdvCQhbc45D1V\n",
       "Ae9wtazEJXA8Qc2WZaNzpEqSsWEkqgKecHUl4DZaGlGrmCIRWHWB22+hUBJC1aW4XeqKwBdEvL0k\n",
       "K5fFHowsty8B0zMz31UFHLSl4rWLR/hde/XJfL+a7wUG8syY8XxGAr+QX0M4dQXK5aTvofrrFOBP\n",
       "gJ1AXwVwRRazD6zq1zgl1qpdg8yjeBzaFUQcnEvgS8nqO9ZQGoobm8Fr7vShLv0u0ET7RriuAuCk\n",
       "Z9UmpJ5rxC7REZlAvAeZ7lob2jxOFlgdWEDUQUCy4eCPhembLXwPPEzTLCO1CKDhi+37+XnMZXog\n",
       "17HO8QFHU1J3AzkJ3IO4TcAZ2s0/+r/klFgw2M7d2izbNS9601voIyBDKzset7TrZipmYITDWsPN\n",
       "8fW9cGzj9ZLA30C/7QE7BLyZOv/WPGAKQFsC6sQS4BxUKqh9ZLVvK/Q1dxMHYtjKHkbJDlL+4TjK\n",
       "eQw3X25O+UNNrimzPmD2+K+ix1TGuy0EsktCPYcgFVQDWZ/y4TK4bUQebwT8O3uXyW/gg42BYwM+\n",
       "j4lArPocato3LQaOJqHeRmchx/Fu/Ssqop4l5JpncuAxsg4Tt/Qr2l2cFaw3wv28gT+tW7qY49iH\n",
       "bvqAuUBY+9GQFL0hCZzSLiFk43AKG0Xt1jRGkm7hsZy/JsvpAbxPbSt/wEFNahPYI4CDHwm899Ck\n",
       "ivnOU6N+VmtZqaf/eKe+m983Tr59atI4kMPB8bXkQ2s+84Mopwf5XK31mKvIQj49zMv+5BEmVocm\n",
       "0zQTsZjxNPdcwnal0zRPUKg/T/jqGD+7WpG8UTSV4l0UzhaqOh3Zar0rPI6pz/HOZjGl2TLHz4z5\n",
       "19pS8uz/jxulxOlXOEij6cweK2KJHGMsqdv4hVjRJ3NsDPhnRdJSK/pZKX3xHfJ+CXY88hnCH5L1\n",
       "7K/2QIs2haN5GqYUqvtf0Zv9VwKTTq/wJi2zwQ/8r4Om6VIhIBFGzd5S0464WoH8VvofpWy89uJ/\n",
       "ksb7jnAPRVMFAuEAkfYAAAAASUVORK5CYII=\n",
       "\" style=\"display:inline;vertical-align:middle;\" /></a></dd>"
      ],
      "text/plain": [
       "<IPython.core.display.HTML object>"
      ]
     },
     "metadata": {},
     "output_type": "display_data"
    },
    {
     "data": {
      "text/html": [
       "<dt><a class=\"ProveItLink\" href=\"../numbers/modular/_theory_nbs_/axioms.ipynb#mod_is_remainder\">proveit.numbers.modular.mod_is_remainder</a></dt><dd><a class=\"ProveItLink\" href=\"../numbers/modular/__pv_it/axioms/cd7e386997cf4ed862bd282f0474da403ee3b4ea0/expr.ipynb\"><img src=\"data:image/png;base64,iVBORw0KGgoAAAANSUhEUgAAAY0AAAAXBAMAAAAFAw5zAAAAMFBMVEX///8AAAAAAAAAAAAAAAAA\n",
       "AAAAAAAAAAAAAAAAAAAAAAAAAAAAAAAAAAAAAAAAAAAv3aB7AAAAD3RSTlMAq1RmmUTNIjK7EInv\n",
       "3XZ/CtNrAAAACXBIWXMAAA7EAAAOxAGVKw4bAAAFNklEQVRYw9WXa2gcVRTHz75nZ3Yna8WCFuKC\n",
       "UAVNu0IMWKRuSayKlC5W/aDVrlgQq9SJ+qWoNRbRDz52UVPdVtItBCFWs1ubWhttSCOhrVqJUmkx\n",
       "LkxascHSJVRra4viOffeeexkJpmWgHjhP9m5czJzfveccx8Al95OH5vpacyjXxOa3Vrz5YVmSa11\n",
       "XQYG7J7x6XH3bjXN5WgR3dXSR3vEJiUHKeq77hI5VtRqtVH3h8Gqe/+NQrbWdxgvJ1wtPVOBfVX+\n",
       "YAxxM5aQ4w568PhlxMNj3D9075bzXA1tLSpadrH0Ttqz7E80i5d1lpDjZXpanDuOdvfucIaroZ1B\n",
       "hbLiZpXN0rtxjiZKvVZLyEHjoaTnjmPYvTsh1FAbF+j6tbhbZLOcjWMNBTFRNoUcIcSPwpxxBD2y\n",
       "YqGQvSljdH3MwbHQB8c+llwZU8gBh2u1b+aOI0xl3jm00dl/j1CseXDS6Is2T2Ai7HRwMKsFJ2ke\n",
       "k566s94TqXcD9NapjpWhSc7xaH0e3qVMEcddAFt8OF/1x0EDFDkA2yjw4RprKWPUSQ9rgSnDtrJO\n",
       "PgfQ5uAgq9VanOVcch4UboHbQDoKcR3kEVAYh/xnuaJBCEMvRBydEEv54MjaOVrQvRGrI3BoYKt4\n",
       "nsQR/jgDK5z//gOX/BUEzMxbXIbvAG5ycHCrMMu5+DA0FaHQlayCdB7ieTFfBS9AQocglqIQccTL\n",
       "dDVby2fL1tPfV8UcFhxfO193ctjiIU2UcklN6RfTZwLftRJg3MkxyhWegiRFtkIwywEuAhToMS5I\n",
       "39Zq30OjFcSL0FRFjkKaTCsYEsYRzlO3hIEVIoKgbpY5+aQqsIfeEaDLW1d3g15Vnp+BowO3BCHY\n",
       "9CxYHIfE51w4EkV4iUYtSa8bhwjOvKsd8eBWlZzBoSPHYrz7CwoGB0KuSUMEYyHEIpFfanyMfFJV\n",
       "WELjn8DfYawd0PVQPwx0HOnIOTnkXSdyKp/tswYm5pX8D4RYDdjrQ+QVDunttuUjjFXQMj2vTCuD\n",
       "g+LxhxUPXD5WliGIqSfEOD6lRXHH0j1shSeO38ipQv0avmfQdbXXPR6faAWtj/0OPWNs1Kgcz2AN\n",
       "XO+IRw9XJQ2bzb7zVElwq4ODW80PajaORBYiZyFaFPXR1IUVBKGiKcbxAg6YfFQ6B8wnVYn1EM/p\n",
       "8i8yKxG9uuGEO0cHvCFW4X7FXBNS5ElLNuvg2MkV10MXzb4r4V0xz9o5mFXwSJjNfpwjJx2EaBVi\n",
       "oxD4nc0rmXiWT/FCjCNAGZSVhrlPangrc/8daIuwnNHv3jttvuL7xFGYgLZSqZSG6iB8JEoMA739\n",
       "1GvNzo30m1xy83GrdLYP0Ad+dHAwq887aZWRrt2/adt+5elxeO6Lq/C+d2jyb8pSeQHtfpI5U+ZM\n",
       "lcipKe6Tqir3Us9BWBZ6olR6G/Nqd9pt/QCc/HvgdbbBuCEDg+Khx9kk2cUlSse28xtzcCT9niVe\n",
       "tGRyVLT4kjLzSVUjD9EcOgUjUpXXx/2D7uePAzSnk60ShojhTqv7R2k7yLaEgfz0DWTDPjGU9cnR\n",
       "bsmKh1ZYVWY+4bw7mJWr8BOWzxZeH0qvO8d9rVMQex9/3HzFqc3GWhr3OM29J5RwnE82uFr6aLRJ\n",
       "N2RyRNoX7eI+PfBrtXe5NAKv1PEbGOLI+ifljrz7eZB2BTtKpVzD8cHjDNDHRck+i9d9/jhowAw1\n",
       "rOR2n4Lcp72lbpc37Dtm3xQ620aP4dO5nIdYzdXSRztpSf0552H0oK9XfekzBf67loH/WfsXBtqw\n",
       "iDAvfy4AAAAASUVORK5CYII=\n",
       "\" style=\"display:inline;vertical-align:middle;\" /></a></dd>"
      ],
      "text/plain": [
       "<IPython.core.display.HTML object>"
      ]
     },
     "metadata": {},
     "output_type": "display_data"
    },
    {
     "data": {
      "text/html": [
       "<dt><a class=\"ProveItLink\" href=\"../numbers/modular/_theory_nbs_/axioms.ipynb#mod_abs_def\">proveit.numbers.modular.mod_abs_def</a></dt><dd><a class=\"ProveItLink\" href=\"../numbers/modular/__pv_it/axioms/dcdd087ff4180dd75da040d314fc2fe2278309ca0/expr.ipynb\"><img src=\"data:image/png;base64,iVBORw0KGgoAAAANSUhEUgAAAcYAAAAXBAMAAABjWfIkAAAAMFBMVEX///8AAAAAAAAAAAAAAAAA\n",
       "AAAAAAAAAAAAAAAAAAAAAAAAAAAAAAAAAAAAAAAAAAAv3aB7AAAAD3RSTlMAq1RmmUTNIjK7EInv\n",
       "3XZ/CtNrAAAACXBIWXMAAA7EAAAOxAGVKw4bAAAFrUlEQVRYw91Ya4wTVRT++p6ZttMGE6JiliYm\n",
       "Gh9oTQwJxKwlrKAhQpXoDyVsEYzhIZn9YeJGhEJ8/FDcBiVaxGWIGyNBt0V5CImbskJ8BVkMokKI\n",
       "s4KyaFhWCIK84rn3Trud7bTMwA8T7+bMTqfnuz3fed3TAlexQvRnLg1Xv7RrUNac2YlhS12uXxFO\n",
       "m7dbrp6imrgG5dlOQAFDSJy9uNmVcd6iS45tv5TYv737tCXJ4ad3NECc2M2uytq+espqsjEUG/bQ\n",
       "5YiQB9iDZ1xx/ABu49h+mi6+sRpaU5VnSqZRlp3h/4KpusoLrgDFPIbXuSxnj3OuOE52zbH7AHP9\n",
       "DB3K8DN/shFCGBpL1FW+9wpQnGJuTXFhVMMJVxxL7jmepB7xMnGsWhFcmWOrXlc5ojeGBs6z6zdc\n",
       "fOShoLtyzLjnWCCHGlaOtzjg+Hl95WCyMTTMS3mukD2HD3/riqO/KDi29Sx1zNFDsU/O0EOL4tKi\n",
       "qYNN7Nk0ViRjjhns/pVdS48bs4+noUw/SjuHewaEoXMGR4kNplUXHAeF4+JVPWiwqZ+ycxO4PAis\n",
       "cWBm0eJB4hj4Euv0Bhz9h/nipnQHTsGrUxyDcURHoUMzXTxLk3lKYV9COp32lbBSQyeUXoS5ocrf\n",
       "ekEchHOrNhYgX7kL2UNRWKCcBcaDSxtCcQcchxtiNME5fpTEw47jiJ+hgjjKccglxFiefU8cvoBf\n",
       "nA5rgX8gncMhoCMrZ8zm6D2PCI8zU670YwHylszX9lDcreM74E5wkfVKcbE1buukxTwHzF7rPTRv\n",
       "tGHhGElzjjPAtnXK8aT2XJljDjG2IR1j/iFERX7kgQtkqETNMFYsGFC4of4MveLvk7LyLM+LrAmS\n",
       "hsy97aGYwh6jA1y8RqXlSP35tBrGNravh13euGE1jGL4BTuOX/PdnHIsFI1ajpEcCumyoZfJUC/t\n",
       "GMt1lA0lLq2JMsfKxwtQoDTM0QZK/qf6wCwIyTSX4S1ZOsVUTGQmROjeT7UKw/B1Y3PL/pa0JVeV\n",
       "y/AN1XBUe8lT82vrkTI0OYIjpR95/X6LoTwYqUow6Hg0e3FVrpogbx8aQel49FPVjoOQT9jIsLF5\n",
       "m5iPiOMfLGYdgzfyUYg4ql2WOMoG53gKnsytNXF8imSMTRwDf+kjOHaSuQmM9mpVhmIXnYnpYM4s\n",
       "qliWio+PDZ1VHAXIl7NyHAHFOdYwMAFClpCrlR+ls9jAIxEOdTKuJ/SjCt/GKLYfsXBkXZtytRPj\n",
       "UqkajqtIvqrh+AgotUGzHBEMmhw3MW959/u5wnxu6Bm8nsVChHbDw4Y/eJJyCoWMUB52MQf5y43e\n",
       "Horr8JZ55jDxsKxMSSXM5Bz973Jqb2J8gB+zxkPbrX1V6uMc1//5alMWW5T3VvS/f08aavMOYLCZ\n",
       "4ihd7h8xg7TvnYvf0L93zvM37fxw7M4V63bSw5Xk2abP2gaYwvKL1992Mb71UjE0bROVRFfPwCWW\n",
       "48oYGhujB4Vypa8KUNQsnTpQrN/MrP/BFNFH1DjG5/P5hKqGHwUPxiTf/Hx+FeXqloTlfMRPljln\n",
       "WSKYo+JYjY+Zb6ke1YNqykEfimYdzhy32yq/6OgLZJ8QkeSaPFF/jcdRDTzJwjCEXqko6vGxHTXj\n",
       "cDVHXS5KJWrlsrFMZ/UoJ30ZB5/vSznkWLRVnuxoJEtWjfMRrWOmLuu8HrEjpRRxkIp6jajHcJcV\n",
       "KWsWjvAYUokGDU+qlfecSNbvZKjA284oKoadsrOvSu2miCl98l2fIvQO3T3+e7FritSLlwbpbcqQ\n",
       "wOKFSos1LtSLajhSHINmHGOIOPoes8HhLwC2yrLm1I0jvLMxnzdt9woy2/Or7aBLoZbrY4A4ysSR\n",
       "yC3RPckQ1WNUn+DsVyHDzU9II5SPOXKPJsR+PeH4w5WxqfuebruA8OBUoKf5QBbSdDfG/3crif/R\n",
       "+heW7BCOW9xYOAAAAABJRU5ErkJggg==\n",
       "\" style=\"display:inline;vertical-align:middle;\" /></a></dd>"
      ],
      "text/plain": [
       "<IPython.core.display.HTML object>"
      ]
     },
     "metadata": {},
     "output_type": "display_data"
    },
    {
     "data": {
      "text/html": [
       "<dt><a class=\"ProveItLink\" href=\"../numbers/exponentiation/_theory_nbs_/axioms.ipynb#nat_exp_def\">proveit.numbers.exponentiation.nat_exp_def</a></dt><dd><a class=\"ProveItLink\" href=\"../numbers/exponentiation/__pv_it/axioms/6d47ab1332566898f17e2e8eb5976189ece78a0c0/expr.ipynb\"><img src=\"data:image/png;base64,iVBORw0KGgoAAAANSUhEUgAAAXEAAAAWBAMAAADEL7HBAAAAMFBMVEX///8AAAAAAAAAAAAAAAAA\n",
       "AAAAAAAAAAAAAAAAAAAAAAAAAAAAAAAAAAAAAAAAAAAv3aB7AAAAD3RSTlMAq1RmmUTNIjK7EInv\n",
       "3XZ/CtNrAAAACXBIWXMAAA7EAAAOxAGVKw4bAAAD9klEQVRIx8VXTWgTURCe7G6adNPEiieLlIB/\n",
       "Bw8WrT9UqIHW36pEPSiiNeChWBDWs027FoRiUVqoaBRqxCJWocafk4JERTyIWqSHeihsRS16qKKo\n",
       "pRedefvT3c1m+9aLD1528+Z7X76dNzM7AQg4Isa1fuN0qtSqBOL4t/0K9+84x3v9Iq97Bi9KjIlk\n",
       "EA6P0cqxu9WY1fRlKbdwoWC4bSQDsyXWVYE4XAfxaEcaEnXzbycMzS30pY1b+Q3zJqSFi26jnAnG\n",
       "4RhDIHwHaOfY367P0/S4fdzKm8ybKlVKqS6jVBeMwzG+JuVfmD4c++v1WZEHiCW5lVt+7oJ4t1t5\n",
       "VUAOxzicBlRelZ9/P2FwiuinCv4wt+JhLyTuu60rAnK4DT9QCju2kOIXCISh+Wpi4iW3cgmTS56u\n",
       "6b3naW3BOTJ585F1hJ5Q4mitOfVZcxuOoJoYqxiRcYCsWsJv0BGG5naAy9zK6VElmNR2z+mYYIP9\n",
       "4DGcqUStNGoZHVAbR6Ffk3+71s8vRK2ifiBZlcSXPLNORxiaJyFS7Sg6A7WdDny2JS0+Me7j6M4N\n",
       "sDm/yPO53iKjIs6GrET1hCJHOP0OIjMl0YK1RdCTIDLu4XKTjjA0K/OxtGGJTubScr8iXLGwtCJU\n",
       "P4SdZnIgVIWtZU7kOW4ASffaHbqYUKoacwmWBln+CQK9DuQT7MQMlW/yEP1muMvlcjsdYWgKmpWg\n",
       "zcgQGwHYBPYVoVGCgk05wOvyyhGix29c7w0M6JhTOQjfIORK1B6Aq3gaRW/ldjrCMFymET+mt31Q\n",
       "2Avs+hm9r2B9CVsRug9oBVu0QPg33PKM87f0cVSR5yqbA2rjQNkL6pwF8E+elAujPtFi0BGG4e7h\n",
       "+yihLK5IDpNx5UpbX8JWBPXhclN5pQbyhVARPN/fMAgwnF4CMasWeEKRA6oKsDrvtDxh0SL2lc9Q\n",
       "k44wDNeB/hJhMAr7ydzQYOtL9uvKpYRZW7EYCTNDxbD3q+suwOqzu2CflXIOKAY7i3cqaF0qfBKd\n",
       "Xl3L6rlUcFZFjO87GRcdYRguxCBYo9bncrlkz0FbX8JWBFUumJujoyDv0Zat8Y7zc9h9TAtNc1qd\n",
       "0DE93pEDjgBcc5GEm7HjgjhLJJIUyRjxHU+56OIWjkkqRqCXeRUzVDb7kl7d57DPemuM+1X7uMr1\n",
       "UvDjyHLsz9pxHbGMhPWRDuqBAo/lgt6XsBURm89qe7dTdogpLuX1gbuxUoyFkz4+/gKRS3R7+/iA\n",
       "Gn2q9yVs5Vyb0cWz9PL9N3KRS7kPB0/XShg37nYuZ4SPULJixpov9TCXch+OSoXvwcvjDpXd1+nr\n",
       "Do1LenmOKY7dU744vr8I/3X8BaGXJHX3G48lAAAAAElFTkSuQmCC\n",
       "\" style=\"display:inline;vertical-align:middle;\" /></a></dd>"
      ],
      "text/plain": [
       "<IPython.core.display.HTML object>"
      ]
     },
     "metadata": {},
     "output_type": "display_data"
    },
    {
     "data": {
      "text/html": [
       "<dt><a class=\"ProveItLink\" href=\"../numbers/summation/_theory_nbs_/axioms.ipynb#sum_single\">proveit.numbers.summation.sum_single</a></dt><dd><a class=\"ProveItLink\" href=\"../numbers/summation/__pv_it/axioms/dd7c47b6a5a43e230e1d3347ec2de5e0db1e52380/expr.ipynb\"><img src=\"data:image/png;base64,iVBORw0KGgoAAAANSUhEUgAAAUAAAAA/BAMAAABjvQw5AAAAMFBMVEX///8AAAAAAAAAAAAAAAAA\n",
       "AAAAAAAAAAAAAAAAAAAAAAAAAAAAAAAAAAAAAAAAAAAv3aB7AAAAD3RSTlMAq1RmmUTNIjK7EInv\n",
       "3XZ/CtNrAAAACXBIWXMAAA7EAAAOxAGVKw4bAAAG70lEQVRo3qWaa2wUVRTHz3ZmHzO73S7RD2gI\n",
       "LPGBH4Su+CASQteArxhoo/aDzxZIMJgYFhMTSZCu8YMfJO4qIabF2DERPiCGCooBg6z1gaLQNdGA\n",
       "j6aLkhCFYGktWwrdcR53Hmd2Hnd7T1L+ne2ZO79777lnzr0sQL11yXIZgmy1Q4NMfB6obbeka0SW\n",
       "x9z+3tXZmQ9qI9mNNdj+pgdMFnWNdXa6A1K00ZXDGmzCAD3hTvO3wRkCil9hBfhw+WcBtwzSA+5N\n",
       "swLy3VhBPBWrBtxzu0QN2HScFbCQxwp8NlYKuKc5Sz+EP7MCrnEoJDqSqaBhqdIDtubYAI1nWc/c\n",
       "lxOWBk3hBnrASJENsLmIVRnBXOGxIMDWPH0QTrIBFtJYAcIrFh0IuivRQBB+zQY4z6F0xo/S+7Yz\n",
       "AYr/YaW08Di9b1eGBZCbxEpr39K7JrpZAIVRrNTzlqMPhyoLYEsRK3V2y9Av43EWwK4BrLTWk6J2\n",
       "jV5iAWzvsOtG2bKaf2CV6DvzIwvgRsmurbKegMWXzgxd84/dKXrAfokBcBppyKq/uZG0byE6Rg/4\n",
       "b3rmgNErWEcuWYvPd9k0NZA3W7MzBzSeY2hBtlbng7grREl6iV3x6za+pVCcOWCy5lDZKqQ45Pkn\n",
       "0WfJm2fap1XiG66Q8qhMALWVf5MTMKSNkEfa4sewQn/9gx85rDZgpKEkaUl2be5zye77F8mxowTw\n",
       "flWecwLyagKJeCR+YRIr7JWddUp8tjo3u81rsucccavIPt6WtvtGdJ/mKQL4qjrvRSdgTB3YzV7V\n",
       "ZBUrhOu2r4lb+pR/V5jXd5G85NblwSckuy+XtTc+qAHH03UxqHZ5v1e+ncIKcPSaY2i6tGsrLyf0\n",
       "v/d3uNQ4eiuWr75hEiYIIKeER6R+kdyp/HjtyUl4mKoeATh8j2gxbH0Y0YNwnkuajJcdvuv07Dpm\n",
       "rOITw8M/1AMmhof/GKAGFIeuIo87TlyvRr/SgHjxxjeUmYinvAC5OT9liS9s+mKrGpMOwIcA+uoB\n",
       "+TwIEjWg+bozrGYMGw9nKqsUDH2A2vWB5Ic106FbKoZv+Jj2grtH9xk3ADdBVPUUV2bsgMpnm+xP\n",
       "nLPz4U/MHdwoVrU5+ThKutr6blbGawm0SdcpM1iyA+ISJ2/47s3AKnWD7wAUpLgausLdeZSo++BT\n",
       "4/rNG3bAKTj8jwlYwqolEFTHNI3qe2WAPDygvUP0vhytuLzTwPBV9iG/q+8QPTRrBmBTRVsjLRJ+\n",
       "kywy1wivBAFkYgsyfoA95frAT2hr9qS2VEuegEdMwO9BVJfu0w5A6F6u9nnOfgwY4ZTGxAPncyS1\n",
       "8zz4AV5AGU5IGdMG4SrsUZov2wFRDL4FxFesAacO9EIn4H4tzd/reBfHb1WG9KNcISfqWXzJbX6L\n",
       "JIy3TwkNRKiAuCNUAmWBckXPGDwJhu8YhLoXGCRWDMIWrScrHYDRL7UPt0FYa1SsDPgBFnD+6NEm\n",
       "V8ktTZMflMJpkkVcAaN6Qlbz0HuwMKuknEecgCFtdWx3VjOzlZ9v4AxwG3p734Z4XBIl7zx40i3w\n",
       "Y2UQV1duXqzOYIdXHtTXk+oL759/fa7C8osjDxL7zqXcEquwfU9M6/yjr0HcAEyMYlUC1lEs3KfL\n",
       "afODV8ALkE85fKNlV0Bxyq0ePBabWKqn8YEsPGMeHU1hBejFg5Jai0oEqxTorzs+mh9JO3z5jL1U\n",
       "MgHtx48W4OOLz2dgs9IqN2vuoTWe5Rb/mwWngveRDCUYS9sol0bqqplfjTLL9CU1VHMVA3JZz4pa\n",
       "PNS7A8/KBFZYZj1XDTjuLLkWi46nD9XN8HJjj2D6voPixwAU5ucbKPnHsdpyTBPe+W4leo6o366U\n",
       "+CZJX1pKCDB+sYE9CXcVa48Z+mK77xFgdLqBU4jyzDdN4UtIrRzz4jw5T3Mj1flbauaA4mWkkcvr\n",
       "NRsekmX/IeJq9IBtFYaThRGk7bazGf8jSr6B88T2PMvhUa7h8z59rBs4T9zIcnjUlsFKay1let9p\n",
       "FsCeLFZaK9CfJ8ausgAmylipT6zy1K7JSRbA+BRWWnuX3lUosQBGa1gpTWwgDe5LsQDCeofSWSP/\n",
       "a9GWZwJsy2GlzDINhOwLwAS4b8CmybNbzZJE3WR5L376rBQdZwPkSzY9Fyqu5XsV265tsrzvOko/\n",
       "gPFRNkCxZtOMUDHSh7rJCryJao1U2ADhgl1bzFFTN1new95ACK4CRsDmik23QU6fYm2T5R2CHfQh\n",
       "OMEKGK6aGi0dhKx9k+Vls+gHMJRiBYSDlq5+6qJk32R5ZcHj9IDLJGZAoYI12LbQv4ij1ibdHZDi\n",
       "y2XiaazBtq6BjJ4xTpbdv1y2i+LLZfCyQwN7RL9EYJdRc3V2Pvk/d5lXUmlRfogAAAAASUVORK5C\n",
       "YII=\n",
       "\" style=\"display:inline;vertical-align:middle;\" /></a></dd>"
      ],
      "text/plain": [
       "<IPython.core.display.HTML object>"
      ]
     },
     "metadata": {},
     "output_type": "display_data"
    },
    {
     "data": {
      "text/html": [
       "<dt><a class=\"ProveItLink\" href=\"../numbers/summation/_theory_nbs_/axioms.ipynb#sum_split_last\">proveit.numbers.summation.sum_split_last</a></dt><dd><a class=\"ProveItLink\" href=\"../numbers/summation/__pv_it/axioms/c382484991dfcefb9338964fba21be0b9b8d1b4a0/expr.ipynb\"><img src=\"data:image/png;base64,iVBORw0KGgoAAAANSUhEUgAAAiMAAAA/BAMAAADAj9VLAAAAMFBMVEX///8AAAAAAAAAAAAAAAAA\n",
       "AAAAAAAAAAAAAAAAAAAAAAAAAAAAAAAAAAAAAAAAAAAv3aB7AAAAD3RSTlMAq1RmmUTNIjK7EInv\n",
       "3XZ/CtNrAAAACXBIWXMAAA7EAAAOxAGVKw4bAAALOUlEQVR42rVcbWwcRxke39fe7X3YBSQgjchF\n",
       "QIVEqI8KglqV+KoEStUmtlosUQnVLkVFqVT5KCCBSPEVUX7QgA0RBKdVcj9CIc3HuSkCKVVry9A2\n",
       "lCa+IhBtRPAZCqikdZy4iR0n8bKzM+/Ozuzu7AzWjpS85/HM88w8O/POOzN7RsiX0pZ1Fa0updr0\n",
       "wzbFCuYDCmgualR6sqFJ69IPWVY5oFz6Qv8XVinJv6ktDRKb3R5V400FNNt+f9TtzcbwCqVR1Ya+\n",
       "KdhH+wcCJZlfpSAovUg/DNToh2ujquTGI9Gw7XCL/ehtCdrjqi0FWkZfiEeSQxX6JH8HOccjh/BU\n",
       "JBq2hbqb/TFZA8qqM2dKpI9Jks+CE6DzBmVXZqOm94ZGFBq2I3NrVCRJvKzaVKB16eORJLtEP4zA\n",
       "My2dKlUjKhWrEWiOfbvxhook6M+qbQValz4eSTJd9MO97pStJAcjKiUWI9AcuwttVJKku6bYVqB1\n",
       "6eORBNrDelmop7qiam2PQHPscXRLdsxOuyMkySivOdsFG48kr8OgdNvVGczEd70uR3PsPJpSGiWJ\n",
       "JeXnV+dtLJJkz4MrcdGLjRsjqxWqUjRiTyVHlSRBv1dtLdC6Ng5JOqD+OtavbdGBZ2peikbs9+Yg\n",
       "/9tDz8vQepUD7XnexiJJk+ptvqMX3y1I0ZpVLbSBiiYt2Fgk6aGzMrmkV+9FKVpPXQusMKhL+2KM\n",
       "kuyDlVcTp7cmQ9unufFc1KWlNhZJLsEyM6pXr7siQ7ukB5ZY0KWlNg5J0pdhOo/rVRzukqC5qIrJ\n",
       "OKdLS20ckqQuwIjs06tYmJSguaiq6RVdWmrjkCSzDMcxDXoo46YV+UZ9WYJGbMYDZsnX9X2qx0hA\n",
       "S20cknS26AdyNNdtkaXC/Mbs9BVpxdJ5CRqxCYuuYr+8Z601KUU7q3o+ALTUxiHJMPWqBnGIHRZI\n",
       "hJIz0mYm3pGgUbuOHYF++rzca6rGMUBLbRySQFuAaoY5upR0DcpekqBRW7SYD75N2owR1fUOaKmN\n",
       "Q5KzdI6XqOcYsdjieiu/KlBLAwPzqgSN2qzFFtcUH8fUeNBmK7yJtSBaauOQpJdipmCOWixqSnIl\n",
       "/0HtPdRaEjSwZy0mBBfHlGiBNNWwM7wXtKhIa4EkzkD8oCiJP1c9eKWRdw7i+X2+p596Fi8HCYhb\n",
       "SrRvM41wNBfV8j3924/h/z8KP/6Tbr6D1i8oaj7R8tMSa0vyGWy/Ikriz1VOQ/QxZmBwHLJET/f0\n",
       "TvycnnR/foCvGYQG1pwWnXD+ffgIxXT3NJkGTx9YNFP10xJrS/IInn+joiT+XOU0TUUvwGNKW+La\n",
       "MHU3LrPZ/fkTdCT0haOBRQPi3VPhw3vwwHNnUZI8gJwb290VULSz7Kcl1pYEi5ovi5L4c5UTTE02\n",
       "mSeu8DMiTcRicUWB/H5dORzN9TN5Szh9HyDjnWWQ33e4z+H6gKLOJ4GWWFuSpK1Zxude/bmrkCRj\n",
       "8Tv1PAm7WGamoi4JGrrIl3jO+f86lnFfqCSs6HMBtK4k6MTp03/0rzi+3FVIYk5ze7bk2lfx2E7Z\n",
       "3tWcW/PYUVsjEmz0VlQkOWRx28mPn3iP4zjtf0dmf/Ws3aGniQtf8EniKXrv3Lt8tMRiST6H0B6/\n",
       "JL5c1WRC45tsFYSgHsRqwzNKodn2VlukQW/btp7G6VUOzWSSuEE9TSvu0KiWPpCyB+DGMElYUfNi\n",
       "o1kTaD2SfBUZWC1zS8UrCc0N2+1KJIGNTJP5ihQ//4cdgYo296dQT+Pddi9J0Yl2KJrp2R71cq7J\n",
       "IAL9yRa2llzusDuxgczOFZ8krGhiGRXaIi2xWJJcI49dbe6Tda8kNJeEjHDH0fGHXz/u+POc2HTP\n",
       "jX6AJGiG2wN3E59q49fJ7WZ2XkeSIrcHTpC6L9go9MJ1xCuJPeRegSHHitoFO8dFWiZJou340c4G\n",
       "N3FoLkn43j87O9ZXrOWPNAIkaXhu9AMlGW75HWLBkfykw6g1Soyrfl+N+4nwk7fTF8NGCStaHEcD\n",
       "ZZGWSYIGN2EJ1h7lA3onlyZ877+ljuPx734N+SX5+hrvjb7fvSL0FheE/RjBxMEvSDxlk7fCfEmA\n",
       "e0Wll7jjji6YDfjdDbMBFzwBvoQVtcOS3oZA6/El6KgTxd0o7HGc3IObfovIvT+NfqtVjyTmM2dw\n",
       "Vx95L3ejHyBJmneIJwlGG5k/7ZhE9vii91VqKw4a4Hw1GRloL0IH+taivNuTAElY0c46fs9DoPVI\n",
       "ssMRb4sgCc41/5rFYTG+9z9A1s+H6h5JDtdGbEnuxttbz41+gCQjXMBhkLjSXgITS/sn02WyHivH\n",
       "JVk+Fh4mLs9eebt/cAe6ky6ygXEJK9pRyVV9tCwuQR1ON3cJkuDcVDWLpxu+9ydR8ZE88kiyBe20\n",
       "FTlGars3+tPwTFhccpI/syG/yLaQua39oRvwHOoLlWRasHZcwnsc4qvRDxHaP5fYjBH+EiYJK2pe\n",
       "u9lP65GE+QvxcKDQV8IjCN/7bxwbGyuj8WN46oMkL6BZlJ2itW9xV5eGuBXN8Ns+eIngNTfnYX63\n",
       "6038NhWnL/MFKG/RrWu0+I04k0Qs+nDQZptJYi4HSNKs5W5qkHv/x5zffKSCjrmSmIto11Po4E/w\n",
       "Z8+Nvu9wAI1xfVifKXObPbYBnKlFHw6gHLcZTXR9idvssQ1gcVHY9vmLCrQzNV6S7GTQKKmN3NU4\n",
       "6Nz75/BTyqdQusVGyUvZCzfZngZPOc+NPtxVuNcMqVOsB/a/1+FQIAcKwJZ7OugIqU+4AdnK4jS7\n",
       "8cU9sFPaDbnfEucthDNiUZF2WjhVYyp7JElvvv4ZtLOM7/2Nn+NNwjVnftbFJPn8DWfwE0nu8t7o\n",
       "o7PUgZfA5d/MHj52HJvgtNEcFbQJOsAHNLBJtgIn7cYn3wDwA4jvcKd4gO8rKtJe4SXJra+HHjSS\n",
       "MgfHxthxBh+XJHZ7f+qhUVvysm8FTvDN/A61/wkKwQQ0sJ4VeAN/kAtHvrWg6DCoqEBrCGev+bnQ\n",
       "s9d0wPFfTrLvG6DeM01P5oeZv+qVXiSkz0nQqDXYCrxf/q7GQOSbYAIttSrH0UmkJ0mTTlnzorAC\n",
       "P7TOqsvallyRoFHrrsDGekv+rkZPW1ESoKX2/z2hNyS/K0L1GbICX7zfSaeno17NTy1J0KgdImAP\n",
       "/s2yrJb8oqCuKAnQUhvLNTmsfuSFjV7PLa78BYfMvASN2JT3Tlj+ntGQanuBlto4JElCx3sqehU7\n",
       "WxK05IJmM67q0lIbhyQGuL3hql7FkXEJmqH34hvKXtalpTaWt5BOQKDX0qt3ti5DO6EHVlrSpaU2\n",
       "Fkkm6KqdX9ar94QUbaKhBZab1KWlNhZJhunyZ6zonWOfk6INt7XQml2atGBjkSQDe4n79dzykhTN\n",
       "RVVLyu+EAi3YWCRJwircU9NSsiVFSy5qNeJBXVqwsUhigrNvar3SOFyRoplarzQaC7q0YOP5psUd\n",
       "EGZhFzd3q7sDJSe5oV45As2xqmh55T5MCDYeSZrUE5oreGP6/kz5NvwVmgo9yQ0bWysRaNgqozVV\n",
       "nTHQuvTxSFKCBfAtvGncm4VBU81KVsZUKwINW2W0rcrbj5ZAH9PXHf8Oezb8rNhXt8hJbtic7otC\n",
       "c6wamqH84jDQuvQxSQJfD8bf7M1OGogMdXqSG5KuiUTDVhGtQzUqcWld+pgkyUMM8Ru0Iz8Id+rO\n",
       "SW7oyv1yJJptVdFuVg11gZbRxyQJvlAjYXU79a/n/wu4+CQ3LO2oR6PtRYpoxnHVhgItow+WZPV/\n",
       "huEwZTBfU61xnwLaYdWINFPRpQUb8mcYzP5V/xkGAxr/TdW1sE8BzVCV5BdIk9alf7S/v/E/B3UK\n",
       "YwGuOioAAAAASUVORK5CYII=\n",
       "\" style=\"display:inline;vertical-align:middle;\" /></a></dd>"
      ],
      "text/plain": [
       "<IPython.core.display.HTML object>"
      ]
     },
     "metadata": {},
     "output_type": "display_data"
    },
    {
     "data": {
      "text/html": [
       "<dt><a class=\"ProveItLink\" href=\"../numbers/summation/_theory_nbs_/axioms.ipynb#breakup_sum\">proveit.numbers.summation.breakup_sum</a></dt><dd><a class=\"ProveItLink\" href=\"../numbers/summation/__pv_it/axioms/85378f0ada67eb98b7706ce21519b64be1c810960/expr.ipynb\"><img src=\"data:image/png;base64,iVBORw0KGgoAAAANSUhEUgAAAmEAAABABAMAAACgtL3CAAAAMFBMVEX///8AAAAAAAAAAAAAAAAA\n",
       "AAAAAAAAAAAAAAAAAAAAAAAAAAAAAAAAAAAAAAAAAAAv3aB7AAAAD3RSTlMAq1RmmUTNIjK7EInv\n",
       "3XZ/CtNrAAAACXBIWXMAAA7EAAAOxAGVKw4bAAALkUlEQVR42uVcW2wdRxke+1z2nD32iSN4QIAS\n",
       "o76QqhBTUESqJnHVAI0gtaViiQfArgpBrVR5CSBVouIcEEVCFGwpEmBS4fPAtXHrI4KKVKQ6gra5\n",
       "tIn90Ig0avBJi4rSpI1zvzT2srsz/9z2nzkT5WhfmAf/qz0z33777cw//9xMSOdSIQyXDT/lW+zi\n",
       "fivCHxqWH+/XsdDkP2L+zV4yTQOwOOZ4GPaTTip2aeQrhp/eZrY6ZkWoTlp+G9OwfoJnPmWGeNvx\n",
       "RTiNU5p9YmS0s4otGX+5wi5GAzvEbvNPUJRjdTXRfOVmWxZt024NS2D2ZKTYzACr3v9sAzFjJMSL\n",
       "AhbpqeMZ/9GORfsENABLYGal2OfBkfBGWXkL9Sndh4w+aEzDIhPvfRjNeUejDQuWXthsfBNOA7A4\n",
       "ZkaKla7CS/JqcbS0D836mgkcinIs8m7jP2jO3sE2LFi24SfNr/KahsUxM1Ks2McuHuQ1ZtLH29R6\n",
       "k6N7UMciu8gGvIJcacOCpm3kT+ZXARqAxTEzUkx/fvTgYZO4ht6SFxWSHiD34HkfJi4f4yXbq3Aa\n",
       "D2s2I8VehzrO5VhlqkrdV/H7vOjr/NYSMfj49XUrC5asHSenAVhgs1GsdB58EX9ccZgYgoAXDW6s\n",
       "X8Mi5HjOUB97Bq0sWPomqVje5UUNi9tMFOuC+2v5Le/ezYYebQi/vVbHIuTH75m61SUrC5a+++l3\n",
       "LO8ypGGBzUaxWfZ9/IsOIKNo0MSLzg468LhgY+GWgAZggc1GsS3MB+SuOoD0oOMoXnRL3QHjZRsL\n",
       "t8RpvKzabBSbhjHHkgNIHvXIvOi0C5GhwMLCLXEagMVsNopdgw5y0gGkG21SvOg1FyLrByws3BKn\n",
       "AVjMZqJY4X3wDU0HEO8c6laaGpY11fosLNwSpwFYzGaiWP4SVPBhF5RX0XY2rGHZndA+CwvH9KqG\n",
       "xWwmihWvs4vxJKAYD0VawfwNFnaMN2SsogQRIiP68nULi/YMFBqAxWwmiq1aYBd0gnZ9SDst/3sn\n",
       "528g2c9inJYVrO6QdZ1//PpHQ6Q+Vc9bWLRnoNAALGYzUazGvLZHfW9XyLnnFpHnr0fiJu+airVW\n",
       "zI5vQtTpvmhm4cBAoQFYzGaimP7sReHb80jvOTFpkYBh9YZ90hxEekB0zf4h2jBQaAAWs5kodpZ5\n",
       "mirzGROh6Py/gMTmC0gzW1GxSqGIQfLp4MtfNrNwYKDQACxmM1FsiD0kDx4hFEFqDnE4CAoU5Vhn\n",
       "Q6ETEnyFZhYODFQaoWIjxZLqfVvHFEPgptnwpAwjnellG0ov0tGJooAVLtgwFtP97bQ8SLIzUGkA\n",
       "FrWRYp+L7bc6phgCN86qQxE+7ExoGxQXr1juAZY/bx3Vjwf2W3YG+COpjRT7YdwVTXZMMQRunn2k\n",
       "HvhqhfC8BaWMhJq8KGCRUetS6zTEyoUBnYUDA5UGYFEbKVaMkCr9HVMMgQtTDmruRsOM0nXewamQ\n",
       "SnjIwmQtMOhu4a7NykClAVjURorloq9Q7JznR+DSihXDsVtVjIxfvhXFrAzaKEYOnzjxSgf7yjRc\n",
       "WjF/XhkWV/7+IblfvOCk2EzYNEKQoYE2imkMbDQAi9pYsfsI+U3b2SJ3xVJwPnCdXUqNU2hAf5TM\n",
       "BDt1qvkTSepTivrivflICYFAFPO1gENhYKGBKfZt4vEAuqQuXHUd/OvupFMpK7fXBZBvXZBSTIaj\n",
       "XGHoNitGgHnZC/W0SHnwHbKJvVwFGRxDUV8aBg5JrkiDIHOtlGLaADKf8oMmGoBFbaxYuVERszAf\n",
       "ESONk1PDvUHl2UZKsXUtyLeula5jCpxJMbIoyTIUbxFo8iVMV8V6pVkLDYK9XVRN3zjMqqmumMLA\n",
       "SiOtWHdL8tQH+NXWehwP/+g7RFds4wDk2ziAtEoFzqhYTQpAD0b0XmmQGrk5xbxlI4RDHVMYWGmk\n",
       "FSNj8Y6NPZv/FleslZNxnaq81apSNQYHJcWSPKf6IV9yJW85oaOkBK6yuembPT8hZ0Rz9iNqlahj\n",
       "2uidNvoxxPOT6n4jRHvPrzCw0cD8GPnLI1H+f5XiGLd6vBpLdLS078900LWzLhRL8jyZyBTno1fy\n",
       "lhOqWAxHjpE1FYtiBXlVKaYaYazZORPcRF9JRutGCAfFCql1LRMNRLHHo++YH0xevDyQG6PbSB5I\n",
       "cj3LXjtRLMnTvbvB8tErecsJVSyB6yMbRiyKTcgx7jZCPrNUJ0f6SzcTjylL3BpE+3hMZWClkY7H\n",
       "SFc93jlSjet/Tz1618T5bZiamuonzefJ01wxmqcQC5Xko1fD+twFhSNf5eHSPHRGIh47osRBezc3\n",
       "vtjyLt5njmB50XkRj7XMEJhi82obPJIOxww0EMUS1xqU74ref1VyJ95G8rNEgo8PkOe5YixP6YMB\n",
       "y5dcBdhsT3R3oqFPJIhJiSIyDs5Nfs1T5ylsEwmEfMMCISYqhGLqdEbRNBJP0wAsarliPcHEA409\n",
       "pLexkexJtpGUkx4gTwoLoo7FeeJOanUjzkev5C0nQrHo7pxvnO0hU9iopPVz6gJ6rzjM9pDypAWC\n",
       "LAapkbgy24MyMNAArMVAUaxw7yf3Rl69dH8r+htvI/F+Hd391OrTv+zjiiV5EqFInI9eyVtOhGLe\n",
       "mtvyb/JAR185yx8XkbsQJej6rNZ4pXgztYC3XVSZ/hSE1gTVkkYGBhrzitXmYPulv3umpsQzyrc0\n",
       "a82+cxV6n7tFS74T8fL7kFnrCxpWToQWOWTi5YaZhQMDlcYNxaqKFRrir6b8rSi2hTXb3Pupjr0b\n",
       "UaeGzK5CUY4lhRZ3pLN7y2YWDgwUGoDlYfP8OePEt1Dsp1EfOhWoV20UG2XjzAJbwanxh/pDg+bs\n",
       "CvI59UdP9Ke/u2jJboBtwwBlzazryoh3K3Vslk1F+Ze1jn3n2tQEQlwZWul7/mUVi4cW3sdCpGvN\n",
       "rZhZODBQaAAWs5msJfXC7UXaj17ekaQT8/gxpiHsHRZVrHEK8egbYYgtkeSvWli0Z6DQACxms9mp\n",
       "om7FGpJ2PWA7n8ZR/oGMlZf3XSCLb8UlC4v2DBQagMVsJorlgNUWp1Mu6FeHorkLLhCrFiwsHNOy\n",
       "hsVsJop54Jtrgw4gJXSfFxT1XLbSkommhYVb4jQAi9ls9igehoHFggNIFd0sy4sediFytm5h4ZY4\n",
       "DcBiNhvF5liEV7nuAFJGAyRedK7hgPGUjYVb4jSeUm02itVYR+2tOIDM9qEte0XDsiX/nI2FWwIa\n",
       "gAU2G8WKEArtcAAxbCLfoWNZEr4L3qVkmgZggc1GsRx07FviGGGT/Vs/aniDQMLK/dsKUVwwspBK\n",
       "ikPT/gYzDcACm41iPvQ7s01iOfZGm58hCJhtyljWc2ukNmBmIUrSQ9NxH/yLd800AAtsRmffvgRR\n",
       "ZOxOa1aMigEjv0/C8uxHKebMLKSS9NB0UtE+YaYxp9mMFJtlDTFerxELPrCAhWZN1ZAVKUNu8gcQ\n",
       "cfl7TwemrAi0VJIemjYopjCWMTNSrAoV5AyhizXb4nmPAbaApaTtJvAzElbXf2/fn48hdpFnggld\n",
       "sfyCmYVUkh6aNii2XcPimFmdrAd/2xt9Or7gAwtYiv8wnlPobQmsnjcJ9KhbSeq0d23YzEIqSQ9N\n",
       "44pxGoDFMbNSTPpfFWLBBxaw5NTVZwSX/mVGbSsPQV4iJ/Wcqy0spJIHyD1RbTsY1ba0YpzGah0z\n",
       "K8UqEAs9RxdraKtki1NyutscmD8nsDYWFgLatvwrZNfTWhRxyMJClGSHpvE6BjQAS2BmpRj5LQw+\n",
       "WmLBhy9OSa3hgGXc0uJYa0oL4L/3ly7dpeZ7vG5hIZWkh6ZRxTgNwBKYHVbMPEH3DHukf0ws+IjF\n",
       "KRF7WuaD/GMc61fkA/AKX77ztFbmITOEUpIemo4V+/74CwYaD2m20//pyB8x/qcjD3g+ZkX4ve3H\n",
       "x3QsnIQlQEZKTtpoABbHfGJkpEH+z9PgTZf4H8uo1Ie08aXjAAAAAElFTkSuQmCC\n",
       "\" style=\"display:inline;vertical-align:middle;\" /></a></dd>"
      ],
      "text/plain": [
       "<IPython.core.display.HTML object>"
      ]
     },
     "metadata": {},
     "output_type": "display_data"
    },
    {
     "data": {
      "text/html": [
       "<dt><a class=\"ProveItLink\" href=\"../numbers/functions/_theory_nbs_/axioms.ipynb#kron_delta_def\">proveit.numbers.functions.kron_delta_def</a></dt><dd><a class=\"ProveItLink\" href=\"../numbers/functions/__pv_it/axioms/cf497a6ff5d062fc52bf8c4816906a7652084a750/expr.ipynb\"><img src=\"data:image/png;base64,iVBORw0KGgoAAAANSUhEUgAAAP0AAAAyCAMAAACgVS2vAAAAPFBMVEX///8AAAAAAAAAAAAAAAAA\n",
       "AAAAAAAAAAAAAAAAAAAAAAAAAAAAAAAAAAAAAAAAAAAAAAAAAAAAAAAAAAAo1xBWAAAAE3RSTlMA\n",
       "q1RmmUTNIjK7EInv3Xbn9enzK1aD6QAAAAlwSFlzAAAOxAAADsQBlSsOGwAABFhJREFUaN7VW2uX\n",
       "oyAMBUTA8NgH//+/LtV2pYgSU1y7fOg5www0lzxIchnGSGMy7POhp4ndMGCCzzbgQwcpQpRwB3pm\n",
       "/Effy20HGWw8cYRDGDvCF/6DxYPqIMEYZVsv2i0npISJK/wgMQo+sm/L6e7qdAf0U6x4JJcqwvaI\n",
       "Bs80X+c9xvTCoYo82XV96GF9cdoJBm8qW37gvLfrC0d0/cF1CbyRY9A/44zsjZ4p4pbO9kEvb0U/\n",
       "RpL7VsW7CL1WLlmI4c6ttg9Btn0WQmg5iyJ5k+/jg0jdLzLmfm/ZuLqe9NnI/ijt7RpnJChaNNH8\n",
       "S/RTid4IJpsXbkhWHUVLAELw5o7dij791jXFBoxqJ0LK4/i96LEmK5vYhvNxz8ThbvQpFEDL7zEZ\n",
       "EZyHEqK+GT2klLd95+o4XmDG07vba6ncpHuit+/Hu9TAeSVsItNtpQ0RgSU5x3oAAmEJ7j0/TUoY\n",
       "OfRDz7mLai2f55se0mfkIauuEXJyROfAphOSf01E6dMyc+ht+Z2GQ1xnQ/IOw/92WjBB733XwL8Q\n",
       "PRcJGCDBqOcfWoEojYocAqIgimiivQi8STJ5gVXAy40wLYuhzPQmatYf4niV7mWQuL3nMtPNtyWq\n",
       "dCsuPMFFJDYmnWe3j1l2Oevz2QiCHJ7ZhkkoOlx8ntlZtZ+MSKfvR+8e5q756+OBLw9rvoQv3+rP\n",
       "hyGI2ReOV1WM05n7wTPvX2q3KFfhsbxTKTUfeA7sG9DPqZsIuJhXoJ/zZBMZAb38IvQJ+rCY7phd\n",
       "4BDk5t7ILR9mrT98f3fVrt9/k+Wnq3659CGwFZ5kQh1m4TN6Jdqrqo5/Luq12QyCOblFUv0sdzSs\n",
       "LAcAs3J742U6e4Q6wRGrqudePyNrg8zOBc9mmGkzAbUER1WKPP4CNeXBWw3H2Y4NwWJW4bOdZEkp\n",
       "Kqzw8WzGhlatsxk+P7gy2YYI2S7bWl5UZW6tQme6w2xDdnrrUTEMm2EIBQeUIiSfTecBy6xxyNZO\n",
       "axW6yll6GdvWVbufT2kylCUbA/5ohxon9gq4amXWXIVFv8yZTenURD9Sak2xV6KJPQf2RwFd4N2+\n",
       "ih5e6F9boNmMsjWBYDP2u3QjMDVWTfioob2/ColeL46YWySOzfjx8zybUaRuefSZy0Solrj71+r+\n",
       "qrPobREJWmxGqXoMm7Hp0iFbB11G3fLtcs2FffQ1NmMst0KxGZpA5lzKZixzeTRCsRm1huQlbEZK\n",
       "US9Ev3Suc+/CsBm/fpPYDE7or4ydOlJV9MvDiNyvMWyGgppZN8WksJjvuWJn9HM3EvL6D8FmCFk1\n",
       "67bhU6rs4crXCyBt4CbLXxFsRk31CDaD+A7h2pcr5zO2qjhNNoP4cqWT8vdeLZ0eW9Wj2IyJ+vWq\n",
       "i/Jjnze6g62lJE02YySr0HR6rdglflSe3GLYDE9P2kIPtXWismj9QfuJ23V6pdwpaSYkLZ89NFY9\n",
       "BA/XktgH9qI+dLr/+r8TVvB/ANR0KwiWnuvCAAAAAElFTkSuQmCC\n",
       "\" style=\"display:inline;vertical-align:middle;\" /></a></dd>"
      ],
      "text/plain": [
       "<IPython.core.display.HTML object>"
      ]
     },
     "metadata": {},
     "output_type": "display_data"
    },
    {
     "data": {
      "text/html": [
       "<h4>proveit.trigonometry</h4>"
      ],
      "text/plain": [
       "<IPython.core.display.HTML object>"
      ]
     },
     "metadata": {},
     "output_type": "display_data"
    },
    {
     "data": {
      "text/html": [
       "This sub-theory contains no axioms."
      ],
      "text/plain": [
       "<IPython.core.display.HTML object>"
      ]
     },
     "metadata": {},
     "output_type": "display_data"
    },
    {
     "data": {
      "text/html": [
       "<h4>proveit.abstract_algebra</h4>"
      ],
      "text/plain": [
       "<IPython.core.display.HTML object>"
      ]
     },
     "metadata": {},
     "output_type": "display_data"
    },
    {
     "data": {
      "text/html": [
       "This sub-theory contains no axioms."
      ],
      "text/plain": [
       "<IPython.core.display.HTML object>"
      ]
     },
     "metadata": {},
     "output_type": "display_data"
    },
    {
     "data": {
      "text/html": [
       "<h4>proveit.linear_algebra</h4>"
      ],
      "text/plain": [
       "<IPython.core.display.HTML object>"
      ]
     },
     "metadata": {},
     "output_type": "display_data"
    },
    {
     "data": {
      "text/html": [
       "<dt><a class=\"ProveItLink\" href=\"../linear_algebra/_theory_nbs_/axioms.ipynb#linear_map_unary_addition\">proveit.linear_algebra.linear_map_unary_addition</a></dt><dd><a class=\"ProveItLink\" href=\"../linear_algebra/__pv_it/axioms/e72ce76ef5b45f3d101485dd975937a77347233a0/expr.ipynb\"><img src=\"data:image/png;base64,iVBORw0KGgoAAAANSUhEUgAAASQAAAAZBAMAAABqRE4YAAAAMFBMVEX///8AAAAAAAAAAAAAAAAA\n",
       "AAAAAAAAAAAAAAAAAAAAAAAAAAAAAAAAAAAAAAAAAAAv3aB7AAAAD3RSTlMAq1RmmUTNIjK7EInv\n",
       "3XZ/CtNrAAAACXBIWXMAAA7EAAAOxAGVKw4bAAAEFElEQVRIx72XXWgUVxTH/5mZ7OxHsln6UH0R\n",
       "FhSV1o+FLVbEj9WNrSDBafqmEFN8KAjCSp9Kq44PgqCSvOmK6ApSCFLdWnywqSVt8UGikvpQRLK4\n",
       "tQ+KKEZNUKOo59zJzNyZm1ldwVx279eZe+9vzj333DNAwzSnVsKMpnTt+lue6MWMp/yHQirhwQ23\n",
       "PlUzfVnkoA+IlM7ivN9yqrfdZk/UqB4HKcPF3GikFi60XJNIn0JB0qqcdQ7qVnqa2XxBHuu549to\n",
       "JMOiItakkSd7VaSfODuO5AlguzrCF+Sxl3e5Pxopzmr8vkklGbkpjtach1Tk/gKwDPhMHeAL8ohV\n",
       "gFS2gS0x+bkmkdq83ap7SEP077CFwbRVwgMkQR46vUeskXnn38PK56tIGs+xlRbbT+spxiQJaL2r\n",
       "tdpwI6S2Wm202iTSRhXJ4DnOvrC5ncqEB0gCQtoAHG2EZNhIVKYRLVBPvlfbpiIJzeivX8/iQmi9\n",
       "q8bpHzFAEhDSTpgZ6KQI7bKNlcNYPIyBYQmJpDvZUP/4/663L9dotIVV9NiiI9CvVLXRavJYFQX3\n",
       "gesqUruw1zMnXnLvkPI6voCQEpUUnfPfaW1SbaIfLb3QbdlVHhVTLkF8DPH/yvSs8UkNOElqpgl+\n",
       "IFEZ+BhYDmxxh10SHAZtOZlFRoxvsxzRJippJjW5gjy/CFv30gpSvOO9+HkIZwLee4nIafkMOgXr\n",
       "IBaC/Zk2CbCFfIHkKJKkj1glgBTQEiPpbDWkrdawlmSBOE6rKdtj4XM2hyH8OoZ6ACmmc/sJXUGO\n",
       "2zUnOR+hygR09qH3kVojDMlzJhEbd5IXImxtJGRLsoCRzrHn6aibvJ42pu2bjFsBpNR8fvmHz3MY\n",
       "EH0pdqwmS17hO+5YioVbK/t4dMHzxQpSgmqLpw6jHnbNsoCRfuQjGcvwviH+NG0+SwevXfNPcUfM\n",
       "e4SvHT/I7K086zdi39BXqu+x624np19UJD7fXVXn/BthpyILGKmFDcQYuScWnqjj8YpQJDCbBeTO\n",
       "sKxcLmfRx0rTeIautDCesz3omMu1uIt0SEWK054Uvlr7EbfbrRCSLPCCE33CsYPxLMZz0wQn3XzR\n",
       "HRDVTvrbYvU13c5tsA4dRcgb126rF8oNf9ZdUW5wlxwvxcdJE6S2y8C/08VLa4FZjss0nxfthMXm\n",
       "jT5COE072Y928WDaPRd6Qb12pbu2GIVUDIRwNwnrL16XfyrShs7BEswjVDvVfeEWlYdZGYR4MIuW\n",
       "Ev/YhL0Y5rAanPjCyMBDCIJRpfa2qPJ0ueyagecWpShiQK6FkZIeSCIq+hKCINLmJgJdY2reVun+\n",
       "+9J/3zou+rH3JVHsdtt3oua8o8beuWZi7998x+takDUTXyg7or/jku/Q8z7fcX+/AQxPKZNhHyws\n",
       "AAAAAElFTkSuQmCC\n",
       "\" style=\"display:inline;vertical-align:middle;\" /></a></dd>"
      ],
      "text/plain": [
       "<IPython.core.display.HTML object>"
      ]
     },
     "metadata": {},
     "output_type": "display_data"
    },
    {
     "data": {
      "text/html": [
       "<dt><a class=\"ProveItLink\" href=\"../linear_algebra/_theory_nbs_/axioms.ipynb#linear_map_binary_addition\">proveit.linear_algebra.linear_map_binary_addition</a></dt><dd><a class=\"ProveItLink\" href=\"../linear_algebra/__pv_it/axioms/d23e0d0ed950b5933d0b44fe5d690f1aac82aacc0/expr.ipynb\"><img src=\"data:image/png;base64,iVBORw0KGgoAAAANSUhEUgAAAhUAAAAZBAMAAAB0l8EfAAAAMFBMVEX///8AAAAAAAAAAAAAAAAA\n",
       "AAAAAAAAAAAAAAAAAAAAAAAAAAAAAAAAAAAAAAAAAAAv3aB7AAAAD3RSTlMAq1RmmUTNIjK7EInv\n",
       "3XZ/CtNrAAAACXBIWXMAAA7EAAAOxAGVKw4bAAAGyUlEQVRYw+VZb4hUVRQ/897MvtmZndkxQbMo\n",
       "RzQL3F0HWk2j2vVvgkiTfqpEJ/oQSdFIEFjpToJQ9GdnI1lHKl9fAhHXWbVAjBgrP9i6MkmWxk48\n",
       "80Nh/zZbSS2yc+697859f+atLPihPHh23p/fOefe37333HOfAIESqn0DN4b8UkuPg2iCG0b0zPXl\n",
       "IlkrBAMMoQ0lrwAbYA2fm2vwKUPneTuvNxfx7DiA74U2lHUKECVi+ftw3/jh5AClJYTB1vGGIhcp\n",
       "ej6zMRch+tEyE+Ui2L1W5gra0sO6g7dYre+2M5OesZIZCWRyzteHtG+I23tmUq1vynd0OUeBkFII\n",
       "zsUyevxkYy7CFKIpP1Eugt1/IBTeg9gu5+DdAi1VCGVggwTyBpl+PqR9Q9xZE4YBJhPLOQXCYBts\n",
       "Ll6mZVNszEWURnbThNdIsPslQsPdAPP5ozViAwPo6QYtC50SyDNct58Pae/BRcSMToExBnAHYTMK\n",
       "hME6bS6ImXg6IF/QwOyfMBfB7itCWwsyM3Twn+cAutKQNKHFtIFcvvDzIe09OI0nDiMD+gWA83jZ\n",
       "4oCQYgjOBaXPpqDceTf+5CbMRaB7LccV1iPqFQcXuDKnmxBB44wACnnCx4e09+IEF+godIV5hdkO\n",
       "CCmG4FzAcK02FMRFS602Up74PhLkPlzmCvv+kntvh3w7zF2kBHDgACRwgg36+JD2XpwmNxRMP0xW\n",
       "Ysr4KQMnOWSQhxBcrADYGcRFuADNZkB/NW9etRQugtzTmLNx169enermgtY3vcoJYLkNWlIiLayq\n",
       "kXxp+5D2bpzKRU+3nA1xrQJHOGQ+DyG42AhGCnQceu0YFhzHy9pIOfZOuc4Fvt1Is+yTcz+i2VeD\n",
       "nx88KWl4GiPNg/tx4Nt2ANw3BO1DsHsIwgoXzL1S3YlATGj8EiyZDOz6280FrW+KUeHAaHo52zHb\n",
       "XHw67L24OhddImth67eGc7SzEqSNhxBcNJtUEX2MnSYCSgBTABaotdZO+JC1MTqKi87UR7H38Oa0\n",
       "7fhs8d4qxHCCYXNfxNvmIoRyoBcgUq5zwd0ziZ4tZWUgNm2zXEkeyvLxPi7Gm61vMhrlwBicwH4C\n",
       "9Lq4cNi7cGFc3rhG+VhMF5P7KIDZYsFWDunlIQQXmkUdnou5lJDLITYCMUvlooOlzgrtS5jeQ0W4\n",
       "E8IrWE/LWoHqDw1bTd1DtvdWYIDv2DYX3D2TpQUlkMqFTks+7ZoXYn1HKgKIUZJ4udaHC2nvxdXn\n",
       "xTBILqgRFoes5SEEF5B7gFZTFu4h5M8Q72K+6lw06eTvD1a45wEpzYuqroeYTuA4XwSdkkayAgdG\n",
       "WbLYr9Tg5D5yFg4DLyHtQOoaed92pnIh1rdWFcBwlZHY7soXDns3TuFCpB+2RmAVG7x2AcMQNhf7\n",
       "aRRbLYM1dS7ctd7c5uAiPpvC/HaZ1yg9OLgxXjwdoj/Po/5D5QD6HNW2XYnSXJ2lcEHuB1rNGbCb\n",
       "PbIDkTRbXNt5endyIda3XrSBKZyQAAtd88Jh78VJLkT6oRIVoI9l/IUChiFsLl6i9dSU4jO3N2/1\n",
       "FCwHF8YRdkCY9TtvYr2Y+4z+PIL6OFsiEP0zaVxK2g9tLsj9C+04VryitAPZ+yXpqjLfOh1cPGvW\n",
       "90wGzBmWwpnqQ9p7cZKLpivignbRj2CLgKzkIWwuQrSMw9XzDLlvHbTONJ3n1JuJCixo2JNpRORT\n",
       "pdJbEGXeZ9CUSzKL2EULLtxLV68qXDD3t8I2mF8qldIyECOvyrX74UU3ueqL+LSrfawbiawAwiKq\n",
       "+uCUiwuHvRdnczG46/Lt/OoN6u3kjICc4iFsLvgUusinZOtiaF3ic2ZfbR9KTlBINg3oEBBl3e5a\n",
       "zUFjaRhjHme5z+xHMY285gjE5LRQRTpcfd0sgXzZV91FymnfGxuneQ7viYICYbDN4OQiSqllD2bi\n",
       "IiRyPlwsAphK741LAKJ66nl7AWyn3Am9yEoM+TkG8DVD/+rm4rSRFRVbdExpV6dQRdb4HL0UUNjz\n",
       "9aDT98bGRTx4ebojCIMtcXEB36K+noZQnv55uVix9HAe30cPjRHRmyiBLpvz7mWsSRGdwF5GPyW2\n",
       "gJeP/W4uHsN5a+yQgWTiy3MN+PBVlEAm3hOzwz4AJ6VfgWwSIZxcMEmP813Lfh87VNouLmVdpSkf\n",
       "Yoq+37X2lEqu71wEjBWDuBCdk6B+D8JhH4CTsluB9IsQXi4iZjAXEb9zyYPi91HlvGSPTny8751b\n",
       "hDaUHxQglTB5fx/um2TAZDMsCWEwDJEc8XChj/O9U/c9iwqCFFfz/p/fwa/h/0fMa3jyH/j/kZHM\n",
       "vzeb6eWI7IsVAAAAAElFTkSuQmCC\n",
       "\" style=\"display:inline;vertical-align:middle;\" /></a></dd>"
      ],
      "text/plain": [
       "<IPython.core.display.HTML object>"
      ]
     },
     "metadata": {},
     "output_type": "display_data"
    },
    {
     "data": {
      "text/html": [
       "<dt><a class=\"ProveItLink\" href=\"../linear_algebra/_theory_nbs_/axioms.ipynb#linear_map_multi_addition\">proveit.linear_algebra.linear_map_multi_addition</a></dt><dd><a class=\"ProveItLink\" href=\"../linear_algebra/__pv_it/axioms/38381e76fdffeef817d59326b3c5e2806698c8b30/expr.ipynb\"><img src=\"data:image/png;base64,iVBORw0KGgoAAAANSUhEUgAAAjAAAAAzBAMAAAB71C/bAAAAMFBMVEX///8AAAAAAAAAAAAAAAAA\n",
       "AAAAAAAAAAAAAAAAAAAAAAAAAAAAAAAAAAAAAAAAAAAv3aB7AAAAD3RSTlMAq1RmmUTNIjK7EInv\n",
       "3XZ/CtNrAAAACXBIWXMAAA7EAAAOxAGVKw4bAAAHgklEQVRo3uVbb2wURRR/t3fX3e71rkc0JhqF\n",
       "S4gmRgpNrI01Sg8pxlgIB36QGBJO0RCRpMdHBOlqjDGx0NMvUBLtEQ2JrUpL+GAgSosREPxzgiTE\n",
       "0HgVNalBKEiRlsg5s7P/ZnZnby922Rom6e3OvHm7M7+ZefPm/bYAnlJfXx/cQsl7d38uX5nG99Yq\n",
       "MxQQeRe59pYnPWqcntb330Zncze7/yJXsq2g3bQEAUxogMomUqS1WV43slV3vIJGtMSTCMUggWmm\n",
       "sw+QS804pzpXwE1cjXDvpVl37AQ4x1UdDBAY8Si9rrXhXcDrzYKqgeFr1OUB5ihQU+BViDcGB0yc\n",
       "nsgRrSmL/rZO9kbzniuglwdPA6en9ZtO9O41aQinuWvpeHDAPMoMIrnENl+zts8EjytgesTTwGm+\n",
       "ftOK9sNWVPM4t3UvBAfMCTp7H7lsTVx27iZXwAWG1qCAmYP+NqBdcC23dWtyQQGTmKLz7eSSFv5y\n",
       "7iZXwAWG1qCA+Rpg9xmLjXUw3MmggIkn6TwZvGhKuu7YTa6ACwyjYQVGmrwwutbYGCMjaqLbI0wF\n",
       "BUw34/aeJCYYxEtoh2q2dZMI+gfv8gwM0XAEJoGs8jxspefxnd8bQQFzN5P/Sv0da1uEvPDtf2oj\n",
       "efZbfSSJIA3LWAG1s9k1zLRsZOSbkZEf1LPIEDLN2DJ389v3XlDADDsBI6Px/gddG9jx1wQT0Kl4\n",
       "nDH6o5xmTD2CLoynxGp++1pzwQAjsYbxJJn+AGedgNEEj3gHRtNoevhC8txOBphutIxCE/p7HG0M\n",
       "7G0MBpgE63y9r3tgHU7A6AL43KuNIRryQ1+iuTnKAHMRzYburHu/65LBAIOXue10IuLC3pwdGEMg\n",
       "/UQL9qLuyVdB+7FriJ9m4ZruChjAbEB71pGC6SM4NrBIgFHxmesBGG8VKyZ8WqFP+qhzvVcLcH/5\n",
       "ZRswpmBTge5/HDv1P4L+Y9cIlaQhbcczgLmzPGvWS6kKAx0bJ8AswZd1HoDxVrFi2sseU+LW7buB\n",
       "466IaTHn2cEjA6Ak8uK4wjh4+uOK/AaGJwgwr+F6eQ/AeKtY2Y1he0Yd6Bo4Z8VNb71R8H6IVI+L\n",
       "aM6E82nmEMkcXB13hxsEGHwCj6U8AOOtYuWQgO0RO8zbzR1fOGt9Xy5X+Z4VUJMTZ3PCC5tcFOUr\n",
       "BJgwAq/Gi/H1VrFialXYko/gpqcdbsJL2q6EPMYTnnYlTxUrpou2CK9Yutm4JFyjzJMaME8C7PIE\n",
       "jFHROj9lznzkPulQAWZ4OqIBsxHEpPO+xQCjV5SPWQQfK466VLHU275f90Fh+YwHZkQDprYQy9CS\n",
       "V9sz4WHiW1uB0SvGrGGgQ87mmC5+DOC8NVQ0s9NZDRihZDWp0mhPRkgegKfswOgVV31n2SS7HA0E\n",
       "U3w7srn/P2Agu9BS2obWgLAwAgN2YPSKpecsZqzGcRkyxYdBPuWylLApFH3sqVidQF9KsG892osX\n",
       "bx9NtCiQwJ6P8PozpYFY27K2JTQwuCLqNDxhPqQUyTo9my4Wbzy4yLA5h2w7gkq4/UJqZnldyFaN\n",
       "hqnB5decBbrxhS1odD9Y3ViXTCSJTyEoB+51mjFb1GmwCtsL7egSVRJDsPLXDPtCXGzxbYuw23Bv\n",
       "L9qsNSbcBEJO+kS62fg1V+JtWAcmhJr6yu9Qr0QGiO8sKJFE3gGYkNqn9oNzClIDASZycHAKhmS2\n",
       "1WqxmUJpECe4Dp5KuO3R3GJ/SDc7v+ZGvF2hwg6zoQviKWju6elJCYo8kHUAhkx8wDGjOHliCcRr\n",
       "kJPYSIJa3DS3aeVnpBUpiBpMz4KM07llMbn3iXQzjmNeiDf5OgXMMRiDTgneJjMGVpbsfozx7PoU\n",
       "BkYeUBuC9u7aDM70Gz+keH6+LoNWST9qRQE+MVrQzfZKJdwItL6RbseZuIwb8aYfIjVTNY7mTEsE\n",
       "+SoY4AwkkpxAVWQY5OUvYmCkw7A0CR9ezWCXGGW6ctJR/KMX1yp74HGArlS44+D+d40n1bODhAk3\n",
       "gVhK30i3tSwwLsSbcNkKTDQJ62DjHyBiD3XbOi0sxY/g4aUk6INTKJkZ8y6OrGoRTQ/GA4yz+wsO\n",
       "pkWI7fWNdBtkgXEh3kjs1Rba7O/pyVQObUrn9wE8q2U6ykUzY97tht9gdg6ijH0LsQYJD1qNur78\n",
       "I92aGWBo4o1p4Ph/jfk2OmcYGxJmd0qGoVXDj3F1WvlHus1jgHEj3kjsNQD6hCXcMa9Up85S/0g3\n",
       "lV/zSLx1loIBxpFwU4HxkXRbzcwYN+ItKMINlvKWko+kWwMDDE280ekeCAiYNYxxx4RbbQl8Jd1a\n",
       "GGDciLfASP0448jgHTOW9Jd0q4J4Cwf2GQi7LW3DFrnoL+l2mgbGjXiLB/bhEPupmUq4nbEUTD/p\n",
       "ZvBrHoi34D41g1ba5VMPck0OwEwf6Wbwax6It3cgMGBq6A/DVZKn1gxf+UC6cfk1uyA6FRwwEv0B\n",
       "tBock/PgY9rhXRBPBQcMjDELHVuGrT7iwuXXHARBfjLP/pPFTErRbJXAnJrWf+R6fsYC8yYx7319\n",
       "Yx4VbpV/5FpPrr3lyX8BC/fhnvfNQYUAAAAASUVORK5CYII=\n",
       "\" style=\"display:inline;vertical-align:middle;\" /></a></dd>"
      ],
      "text/plain": [
       "<IPython.core.display.HTML object>"
      ]
     },
     "metadata": {},
     "output_type": "display_data"
    },
    {
     "data": {
      "text/html": [
       "<dt><a class=\"ProveItLink\" href=\"../linear_algebra/_theory_nbs_/axioms.ipynb#tensor_exp_one\">proveit.linear_algebra.tensor_exp_one</a></dt><dd><a class=\"ProveItLink\" href=\"../linear_algebra/__pv_it/axioms/9919d3c7eac506baf0163bfedf493f27e4c239420/expr.ipynb\"><img src=\"data:image/png;base64,iVBORw0KGgoAAAANSUhEUgAAAHsAAAAaBAMAAABlQT6zAAAAMFBMVEX///8AAAAAAAAAAAAAAAAA\n",
       "AAAAAAAAAAAAAAAAAAAAAAAAAAAAAAAAAAAAAAAAAAAv3aB7AAAAD3RSTlMAq1RmmUTNIjK7EInv\n",
       "3XZ/CtNrAAAACXBIWXMAAA7EAAAOxAGVKw4bAAAByUlEQVQ4y2NgIAi4zBhIA6Ywja93P2Bg6HuL\n",
       "XRULDt1MDlBGN1BNAwODLnZl7BOwiy+DWb6lgKF6A07tDHbYhSdDaT6G7ewbFuPWzruAgUEAxFBG\n",
       "cdQBuHZubSCBUzsfUK8riJGOEiQb4No50vFp5/rFwNCIEQj8AXDtfdwFeLQzJDMwsAE9wK2ALNi/\n",
       "AMpgjXjAsF0Dj3ZPBgZmA6ARKIKIaN4NNPkBQ3X+Phza3wDx2bt3T6MIigHxuocrdisw8FlwPMaq\n",
       "DyLNEA90pwcDwywUuZlA7MAnx3KBgWHp0wWIEL0LBuCYgkr3A9NUIQO7AIr2RKCPCph/MRrgTNQw\n",
       "6XpgIHMu4A5AkbzCwMDBwJKAJ0/ApNcDNTI9QA05kO0MDDwP8GYqiHQ90PEMCaC0+879SQGy9vgC\n",
       "rgVoGQzJ71DpfpCWTVnAFFIgyQaLfEkGhpUBMgzcuO2GSYNCnqEGaCAzwzwOpNjU7/JhCMKtHSZt\n",
       "A+IwgnzA8B0uCTRzyTsmZwXc2mHSjojAPMAOD5YAYkulZBijhjuBBSPHESwEf8G1PN33CuEQIrUz\n",
       "C2AVFiJSO28B3rKOEMBR1jER53lcJS28nMcPWICJBgCmnW0r9VUnAQAAAABJRU5ErkJggg==\n",
       "\" style=\"display:inline;vertical-align:middle;\" /></a></dd>"
      ],
      "text/plain": [
       "<IPython.core.display.HTML object>"
      ]
     },
     "metadata": {},
     "output_type": "display_data"
    },
    {
     "data": {
      "text/html": [
       "<dt><a class=\"ProveItLink\" href=\"../linear_algebra/addition/_theory_nbs_/axioms.ipynb#scalar_add_extends_number_add\">proveit.linear_algebra.addition.scalar_add_extends_number_add</a></dt><dd><a class=\"ProveItLink\" href=\"../linear_algebra/addition/__pv_it/axioms/9cc42b9f59d8f54b324b4a57d29329120ae2a1ac0/expr.ipynb\"><img src=\"data:image/png;base64,iVBORw0KGgoAAAANSUhEUgAAAk4AAAAXBAMAAAAPad3QAAAAMFBMVEX///8AAAAAAAAAAAAAAAAA\n",
       "AAAAAAAAAAAAAAAAAAAAAAAAAAAAAAAAAAAAAAAAAAAv3aB7AAAAD3RSTlMAq1RmmUTNIjK7EInv\n",
       "3XZ/CtNrAAAACXBIWXMAAA7EAAAOxAGVKw4bAAAFLElEQVRYw+1YXWgcVRQ+md3NzM42MU+CCmFF\n",
       "bQK6YZEacJU60AiBUlysD6KlLPRB2pdOHlM1rqJYMCZVW9pViNMW1LrabGzjz0NDqIRgq7hK/CEa\n",
       "mKgQJUSKEAsRjPdvZufeO7Mza3ZfxANn9+45597v7Df359wBCJG172GrYjJtqvgNqLYCRI1GwvSW\n",
       "wTrTVJsr+31sP7UCJGETFrrw79vq8RQWESZ3Mm2udGYlk1JpCcjPhIUH8e8n6vEUFhEieoFqs+WQ\n",
       "ZHmrNSDtFmbhWbwEj9XjKSwiROJZqoLs9Y8OMENCGmGHFLMrQq+6ILIDg8QMzAJmK5Wux1NYRIhs\n",
       "YypIn390gBkUWxrXEi2zEXrVBZEdBOQKZiGGKG+vu4+HRYTIdqbN5qldnCtKofk8EZAD5DT7Ymnp\n",
       "av3zLiQiRHYzVW9ZsX1SCjAH/uOhmRHaSHWJC7zidXO9IoLISRGQKcLCIMDr9XkKiQiRA0z3mckN\n",
       "n5QCzEE8JebhTbrgYmT67FnC8pXz7GturldEEDkpAtJPWBgCFZGm83VbxcsTjfi38jVV/VOIV+WU\n",
       "AsyBPL2XhT00W0XcjjrSjlvsFRVESOptBnIXYSFppfJogtER1YVpuB+RYnh5ohGNFR7Hu535P0c1\n",
       "fg06KqD3A5sFn9NZQM3lqZt5s7CilpZ+RIsfP6yHAH6g2WrXxD0377jPFvhekUCkpGCGgYwTFhTb\n",
       "2aTHbjoBt6asuCXwVIuIItpyKa+/Yipv8DxtOwaTeRhbEx4dNRvuLAibT5+Bvs5W4KwPT8St/V7l\n",
       "e0UF4ZNyQfbRW0lhJ3tqg7juto0UCDy5EZFkoIie93mA+/h1N2nDA6iVEVKi5nV4phiJJ/1viLF5\n",
       "pFSF/QmtO+ZWBJ6igvBJuSAZysIHqOhMLNP6HHrvGEnBxYGFgbyHJxwB5Z0fOcN5mrWy+8Kq6Zb6\n",
       "Z1+oXUonqE6m4UbFlHki5lxknv6AtkIPzhZiYumbtJlb5ikiCJ/U/i4Gci9l4Sn0+/wNlk5we1Nn\n",
       "HpfmE47Qv9OuO5TUmjV53xwnPJ3DHz09NccU1aStLMTl+cTMcEnItMA+9D/5dTcBGcNA2bIywCv4\n",
       "DCduiacAEDK2F4RLSrc3GMhuykIbYvlIhtX4vWD8JvGEI+KGNgsqqQ9I8+Ff+L19AEYRACv9c7ma\n",
       "42WqevfHQ7/KPDGztsibOwznY4Hn6fTqi93FI3iUDvFs0arMLfEUAELG9oJwSalnqgzkG89bkwmI\n",
       "HSyVXkU8ldslnugu2dkFzy26zVmdP2/mYJl895dKpfTRRz3HdZEqlYz/2TxsNVSP47X8tBTjviQS\n",
       "eYoKwjvQOiYgarXGgr5R1Cp0PiX6xPqJrgQzmbNg0W2aGnfe6NfhtXcVdJK+RJYA2sd15sHXyJgh\n",
       "8cRdOVVDNRu4B6Ns/W69OySeuF7hILxj8h0Kgi/x0+7dyKA19z3A5oU0n8zxvYSnMmsm86ipV8gH\n",
       "+prX1nPK7bjYwildNHH1QeUkU54nfjodfd5q4EjF2fq8wUiaIk9bAYHtcQoy7GFB7zZhGD0k7VsT\n",
       "2nx5SuzquwCYp9E0bQ7ipjYPo6Y2r12GR+5ezcIpRNEpciIePO4utXPO7o7kycMzfil9ubnZ0Cst\n",
       "lG1SfvGrM+rUD/+ytw4Cp1coyEnhra7+SemEHH2JezWM1x19xZKybKeJnyAdoYoM5VKJ32FVm2pz\n",
       "ZcXHNtIKkE7E1dpcY/3GrqYhQSfv4c2q00TyGNtfLfhfnH3Zr5n9r//rfwDARtwkSL1ZDwAAAABJ\n",
       "RU5ErkJggg==\n",
       "\" style=\"display:inline;vertical-align:middle;\" /></a></dd>"
      ],
      "text/plain": [
       "<IPython.core.display.HTML object>"
      ]
     },
     "metadata": {},
     "output_type": "display_data"
    },
    {
     "data": {
      "text/html": [
       "<dt><a class=\"ProveItLink\" href=\"../linear_algebra/addition/_theory_nbs_/axioms.ipynb#scalar_sum_extends_number_sum\">proveit.linear_algebra.addition.scalar_sum_extends_number_sum</a></dt><dd><a class=\"ProveItLink\" href=\"../linear_algebra/addition/__pv_it/axioms/f6fd452f8a6415db9ddf6bb2de753ad8c24156970/expr.ipynb\"><img src=\"data:image/png;base64,iVBORw0KGgoAAAANSUhEUgAABA0AAABABAMAAACD2pN/AAAAMFBMVEX///8AAAAAAAAAAAAAAAAA\n",
       "AAAAAAAAAAAAAAAAAAAAAAAAAAAAAAAAAAAAAAAAAAAv3aB7AAAAD3RSTlMAq1RmmUTNIjK7EInv\n",
       "3XZ/CtNrAAAACXBIWXMAAA7EAAAOxAGVKw4bAAAOkElEQVR42u2dC5AcRRmA/519zOzs4xZFpHi5\n",
       "UcAqBHIWIVUoxS0kPOSVKyAoYnELwUJixVtKSkAIt1JAaZGQ00BBgspEJRYh5JYUUkUQOAIYilcW\n",
       "DBQETjcYoqg5zsRwx4Vk7b+ne96zM7c7TC7rdVV2//Rjtv/ub7r/7un5DyDwcPhQCdosbB/Kw/97\n",
       "6KnXqx5ZYjXj/4pt2AjRzjZUaqWifvfW6z4w75k7t+yRZRvsYw5KLnKz1zAGsW05yPar37fN7fHD\n",
       "gWeO+Og+5iCbd5YnFC6zxciPv/mD6yvxWrtyAPdxIR0IB6s7LRxE8EsIr+m+Qj/PWafK8i+N89iD\n",
       "rzQuq+XO2uq75Vn43ccF+FvbcrA6HygHZ4CFg1g3+UqEZi3KdARKHbyeyYmCMfVKj9Ja7vlWq+f9\n",
       "CsBJBUgo7cqB8GKQHEhjVg6kHPm6ITR1YrST0kctZ3KHSasdHqW13DMsCbcmCQCRAkQL7coBbAqS\n",
       "g0TOygG9tdaGpk1arafC5R7FaLyMe+nHc6eZ8MHQEB1gDkni+EIAeNHMwfL24WB6KUAOppdsHJwQ\n",
       "qrl4NP18UpOfNCamvBa9Wu6E2tcX/5P9v/9aJswzc/Cz9uEg0R8gB2+DjYP00NC7ldC0OQc/vvrK\n",
       "gVy+fPgzBlWP2NJYSS13io5rIjcTxNwdTHrEzEG00jYcCGPBcSDtsHMQK0NSCU2befRzL5flj5QB\n",
       "fYgamC+PNjQy1dxl0r90BNPMW6lyIZNmcg5iQzT8t30GhOeC4yAyYudAzME1EzH0TP/7ss9NA016\n",
       "nd6+Y1wWxiFdk2fyWUuBV+UnDnClkuYGeItIg5QDbf+owHcUjrXYicIVbcPBnOA4GCjYOSC21B8A\n",
       "bu/nUbqkB0Nckn3/a/hM0uTd0tXgp6D2u8/TzhnhcqwIHZU7t+uL2t0xiLlaCTS3OgDQKyzCO57+\n",
       "Qv+NLMsS63ph5fPtwkFPZ2AcdJUdODgePyPaRBpxmFINcYyDi0twUwlWABwKfgpeauKA2YNEzlSg\n",
       "Jw/HscR3IL6jo1scc6u+mpuuLOh48KC+LuB4fsfCgfj9tnmQli4GxsH94MBBIkrG2rRGSLrsUIWy\n",
       "hQOB9GSsH04HeAH8FEwoxnkhmeNyRx7mKBoHOyA2HlXcOaC55a159fcJF1rKRdTE6Qa8lMk+eLN9\n",
       "nqfGRgPj4GMnDlJHkzZcMnwIH1k1SQ+GOJWDPrTVRqAK0t4tio+CKV75X1NValzuKMvP0s4DvMoY\n",
       "3fYmo4Vsrzqm09wxgVQ6SmeDbE1ro/dzdNqAk8zjQby/fexEYWdQHMR3O3EgPkM+titbWZQu6cEQ\n",
       "p3JwEPbtoFiE7OZswUdBoaCv6whF3VyOdCYLlAP5IxLxWbiLfC5WYADrhR80WhNo7lUpUiKmzje6\n",
       "EfjBlaXfbFLXokYOftQ+GID4n6A4iO1y4gAOJv+WkhXXDfTOJlL8+NPN2TAVzjZw8BKO9TlytyU7\n",
       "o0VxOXgV1O7LxXRdoMnyobNAHQ+GyI+veJR0IV4tsxlHfWRnExcwXc2Ne0gZlaQVd/PBSH584yac\n",
       "At4wc3BvG3EALwfFQWLckQMML8Cp0nEKk9IwYM5G4szjwbM45peEHDEAYrlbNoNXQYlzkEGD4VSD\n",
       "DIwDgffotXAdwDH2UVFbTXaQ/l7I5Et/NVQ03TNVMwdtddrqfiUgDjqqrhyMwHrIKEwSYZE5G6ae\n",
       "UDBwcBd8G/6MvduB9doMXgW1eSFaACF3hSbrHKR4T977UzJ+2JceKU3Cn5jlNuJ1tu1zJoAP8wFx\n",
       "0NfvysFmYnkRDuQKleBulB7SPkic+OOigYObfrjmdtLcVVKGWGaEA4+CukV3D2SWFzWZhht7nwJY\n",
       "w1cY9foIyDVb3ddo0hYCi5v5hw9O25aD6YWAOJhecOXg1mFADqT1VIqVUVpUkjbghxrHtupVDsRT\n",
       "txwiYkdK59coBx4Fk9oA/SBEt5Y0WQ815/1Hh/R5xstZwj3tzMGS/oA4+LDmygGdr8m8IFBpXZZL\n",
       "dGpWt4S6TfuJ8cIabXtoM3gV1HtcNNRBrE28MRLfGgT4u0tittTOHAxUGQd0++VLHhw0yDQn34gD\n",
       "6d9rgUz72Nb1PUyiQZUypv1EsoohvR+j9+WdL+W9Cp4Z3G7KVsUjR9ty0DHCOKCLsqs8OGiQ6X7b\n",
       "jt8C6/sLnW7Se0eaOYAFOD6s81cw2h1ea21/t105yIwzDn4CDUwkzkGDTL0tLKOmMdtCNMXK/grK\n",
       "MBVaD4lRxgHu0qfyHhw0yLTRaUg9jczj9fp+ew/F6nW7Vvu9QvJ8h5TkLsYBznwJLzuxQaa6088S\n",
       "e0LI7c+3SdqBg/1eocUOt2xkB18vvDI09JLnesE9kxMHM2GKg0moUDTXiIOzPE7gUg7cMzlwIL04\n",
       "xcGkVOgXDkP3Ts7BNXiKjHSeKTll4YBlkmfTKZKeG2JGnQMHicoUB5NSodVKAw6SSgpXYOwBzcJz\n",
       "uqPPmE4MUg5YpuSJmEs9N8Q4+MT+m9OVKQ4mpUIxuwqpvZwDocYtQGnLsm4htw6f6Vo5YJk6aA+r\n",
       "54bcOXgHpjiYlAqJow04gOIpLG42udmFU2L4YM7KgZpJOAxfUmLnhlw5kManOJikCt3XiIO1uK5c\n",
       "c5r6wq9wyzdrldTs82afbuaAZsITWvzckLudGOnnzdZLlhlD7250Wo1/+qElPwjOHCQ+weOJL9fr\n",
       "4/tAHxFaV+jkBvYB3ISgF45Wn9sI5XVHOY0HNBPMxg/13JA7Bx2dnIMe+hBDvrReC7/ZWvOD4MxB\n",
       "fA+VHnh67z7g4D1oXaG+fAMOImScl5VH4UKVgxi6ybBxEKFm5FL8UM8NuXOgpiEHKfbmz4pqmA3W\n",
       "nB8ELZ0Oiy7zwtMFdTI8PEx9Yk9Qq6xiUaEZhTIF9/0DFubBzGXLluWFslwpOnCgBnqgXD03xMNG\n",
       "WwW69Om0lz0L+nyIzdasHwQtfb47Bwl2GDMS5tm0RxZhL620qdCEQnj62oODUbhDHQ/ggpp9/4AZ\n",
       "heN4HoidG2Lhr7YWO0jnoI85WlgTpkXUpB8ELX2GOwfiJ2q8HOZEt/4S/NFZNhWaUChrfQcRkmNm\n",
       "DqRB9c3UaDdkzYaxgQOSSVrPzw2xYH/u/IzOQfTj8OfRJv0g6OnYZG7rha7w311gFRu0qtCMQoLt\n",
       "dZ7MqJkD0vkiHshefBU7deLEAR4CxfNA9NwQC3NsxwB2G5ZZXwjfQmzSD4KejmfY3TiIhG8hqhXD\n",
       "F23MKjSjkO3ddEiPmDnAvA8tW+ZwtkPnIDmtrJ4HoueGWPjQ9jB2p4GD1WNhN1uzfhD0dPSD4MaB\n",
       "vLEcsj7Rw15DMwdfsjGr0IxC8k7b4m7QxMF3F7mPszphw8DOAy3QeemyHgcXdxg4kPaEfv806QdB\n",
       "TcenLNGixsF59H3G1wwKLamGrU9Hjd+nZhWaUsg2nPVVTRycf7YPDpyTrdtskpEDvtIKcbulST8I\n",
       "mK4+ZUE/CK77ianQnWD00REok2dV/G2xFYV2O3dfAOeVB6xLkfguIweJ0ZCbrVk/CGdojYR+ENz3\n",
       "lXvDfp1JfWEv3a1WURqutqKQjeKuWkAcZEYajgepiY4HLfpGadoPAqYzkBuNB/AotKKQ4JOimtXu\n",
       "RQ5oFYVqKwrZOJhTDoiD2GhDDi5hsWH5RmnaDwKm41MW9Xmqq33AX671WS9doexT+KrNiYaChkuA\n",
       "Nc4Az8+Bzwu0ihoHTSlksw96ISAOolYTVDSuF0S+sAjLN0rTfhBoegGXm/gqnet4sJAn+KuXplD8\n",
       "KhA3gJwzFjzUoTlZXFwv/6p6lRqrInYqVaEphWzrhT1BcSBahxp5r6HZEnyZFZZvFH9+EGiM2Q8C\n",
       "puNTFnWJ5srB9/h//dVLUwhx/AZ1OKwXfMGhOXmcdrZY3KWt/agK2DLUJrMrZPbw4KSQaN0/kHYH\n",
       "xQHYHnc8Z2i2pYyN0Hyj+PSDQB3Kmvwg0HTqgg/9ILhxkGS7JYrPenGF6PDdha9h6QUNl9D7hcet\n",
       "tdi9UpVVETmgKtgVoro0VEiyOqvIjgXGwdNWZa7Wm437Nbk5NN8oLfpBQGNnIbhzwGog1nzWiysU\n",
       "wVv1j+hKRS9ouITeLzzuSM3+Yuvyt3g10D7QVJigQoJ1Lzo5GBgHfdat43P1ZrtYG+VC8o3Soh8E\n",
       "CZtlljsH8SKfhnzWiyuUxh+9HK1mvSBKF2w17+BiHMQU3b6elmBdNMPIQaVJhWx70QO5wDhIWDcQ\n",
       "uhTebNxKPLYYlm+UFv0g4CM2+v6eCwfMShT+5LdeGgdkjJZGYRoYCqI0KI9Y7Ap2/3Mnzm+v5JdR\n",
       "V5ziY7trugoTVShp3fRjTg+D4CBqXTgO5HmzZY5ZtWrVdbdtq3eG5RulRT8IuHtLG9yFg9eJPr+/\n",
       "/rLenX7rxRVKFuJKphN7Vy+IUkkaNG8ik7joDMO8cAp/Q0Dud1NhAgp1WB8GLYDAOJCte5XJAm+2\n",
       "OXUWlPB8o2h2dm3iW3f0KQv1g+DMQYzrM+63XpqduOFr/5hHX9fnBR9SpWS3oaAadx0OAcO2378Z\n",
       "Wleop+S4xg/G3/q51gFi0LCPxENovlFaCfpTFs/zyj7rpSl07REHKCWsJi+4KE+ls8BQkMV9XZ/W\n",
       "AlboMasdMRIgBwOWO0/e5cABnbyVEHyjBBP8nVv3rpdBoYvIPM63h7AgbfqUUjMWVLvjc+ZZIECF\n",
       "1rt0XSAcZActEY85N9v+4RtlAhz4qJdBob7DFV5PLBinv9CLfxtTK6jGQZUrHrRCtp46DwLkAP7i\n",
       "tJnm8trHfuIbxf97LL4VSrxB739t9nS4BI3LfrGAzyE+DYWs3S3uCpQDq/URLcLEX/+ZXL5RAnif\n",
       "yVkhxbOccKCvbM0otM36FCQXKAcp6w7CPJh6r20SKiRusESerATKgerw3BAeLk1xMAkVetg6LWgP\n",
       "unxx4P13vh8uW35g/pR/pEmo0FJLLPsDdT7/zvcD3n/nW7RmuB6mwqQLstWYfoB93zZ3rvI/wiaz\n",
       "FeJlKjcAAAAASUVORK5CYII=\n",
       "\" style=\"display:inline;vertical-align:middle;\" /></a></dd>"
      ],
      "text/plain": [
       "<IPython.core.display.HTML object>"
      ]
     },
     "metadata": {},
     "output_type": "display_data"
    },
    {
     "data": {
      "text/html": [
       "<dt><a class=\"ProveItLink\" href=\"../linear_algebra/addition/_theory_nbs_/axioms.ipynb#vec_sum_single\">proveit.linear_algebra.addition.vec_sum_single</a></dt><dd><a class=\"ProveItLink\" href=\"../linear_algebra/addition/__pv_it/axioms/c597457ddc11a8c1f529715454e18f71ef3d31de0/expr.ipynb\"><img src=\"data:image/png;base64,iVBORw0KGgoAAAANSUhEUgAAATYAAAA/BAMAAACY6vnmAAAAMFBMVEX///8AAAAAAAAAAAAAAAAA\n",
       "AAAAAAAAAAAAAAAAAAAAAAAAAAAAAAAAAAAAAAAAAAAv3aB7AAAAD3RSTlMAq1RmmUTNIjK7EInv\n",
       "3XZ/CtNrAAAACXBIWXMAAA7EAAAOxAGVKw4bAAAG+klEQVRo3qWafWwURRTAX3sfe7f30SP+qZES\n",
       "EzQR7BkIiUZpDUokWHsJaWLU0BIMRhPSQ/5Rg7SSGP8wpveXemLoYRREKgdiJMEEGhQRFDmNRgwi\n",
       "hxKJwYTSWlsKdJ3ZebO7d/vRx80kvd3Ovd357cz7mrcH4GoRw7gBs7VwFU8eh9mb/jxQ246SOEYN\n",
       "Y8zj68hE9xOz3uMvPKZ7KSP+TWZLF8Qx1t3tyTY6+y0ik3jSk6eMGN9LhttqnR1pkG04i6v1JXbs\n",
       "XnogaFGPkNmGW1XZlku1wyXVf4lNBskvKFHZmk8ossWm8GRwABk7YiNBF6Q6yBP3kyJbNIMna/CY\n",
       "zKUzgbMxSWZry6uxyeutIcv5+P2By/YcmS1aUGP7VS6VvE8yP7gqkK1tgKxwU0psMel6BqVRRZbd\n",
       "sz/wkiRd4b5SYmuSEnPJA4ZHyaJdSmxlnAT9X/KAkXGyaE9Wha0dlSc0RR4QviZLJntV2IZkKKIv\n",
       "FHTlycs/qcJ2FY8tBTpbW5ZsqOMKbJFrUjPoIRz6M1RJ7YoCW3hCrlNOZFp2q/pr0Qj5Mb5TYItO\n",
       "40kfd7fNBlrEztW3Gf4A8Wky21CpcbaWCp6I9HiunSU/OOafNI6R2S63Ns7WjyagCZtIGbYqrfDX\n",
       "cLovbOtonA2vlcPFDNuvhms8Rd76YFJXA7S/5gCDhcbZLqPGp2fwf8MmcnqKtLk2qzGGBOyP/sCB\n",
       "8b7lCrKZ63FHPZu71+lGMcKHUYXiRsVT7m72dwHSiGv4L7d0RX+iPo8i2yP88Gw9m7vXaUcYsuJo\n",
       "oPopT13Seew5A4AbwHO+OdQOywEIkdQ0sr3KF7pQz+budbQ+XMKotdkyWr3cIE7Y4tqr3G2ZPAl1\n",
       "OO97xGRNtNazuXsd7RTOQFK6rIRxwsvbyqMQH8r5sdlOUdwmPoFsIfZ0UZctuHsdTWpOi2U0ff95\n",
       "iM2XKyXmb67fozbb2++1Ij0ck3Z68uzZb9126uoNZBs2HJF1z35IcY6VTOUuMK5ExocNBcP82g2H\n",
       "NrPPfXVsjwK862Zz9QayWXGLt70LIJkRk5CIsPUKiXnpEtPXeZa3HxyCfF4jx8xItUQo6rhk2wBa\n",
       "xs1W19t0/LOtMuPXJVvZdoRd1y0rjLUuF17hR4AtfG/dPOJkc+w6UJDP3XAWOvkWu44tXkrk3GyO\n",
       "3tj5Yi6VT+yRo+vXJZutxCk7A9HhezYsOzkKUEqy7ph4hMP1OYoUTObMPcIZHhGEac1ItuZq1CMu\n",
       "OHofZu4sBFs2QgCb5vD6zdOQBsEGbeyBIiPebFKQsx0HnRvn03Vs0LuUXX8evqiNWbzXrMCgX+/o\n",
       "CGJLH3P4tQokQKwprNEZQsXJ5tA3FGRrqs9AiI+6sJ7tU+a497SU5tWy8V6zArNLuMUXBgJsAXoc\n",
       "W+N4Bu7kx23sBhNs8FDBW9+kYLwK+hg09bLz++r0DTYxpX95oXhWm433mhWYVcLeE0F2GnMmZ4le\n",
       "zZyifVzVNqKP8GJDQe5jtsFCvjAr69ma+DPfCq/VsvFeswKzpFgstsLeg/BxgH+r0aWHFpmHN9nf\n",
       "LQwolfPzvUIwxtZ8+6XXb2cD/lzn30Q7ClV3jmRWYN4w++7KwkErZslgZAk+41nXwnV+BYLjApy2\n",
       "LKriyXZay7nZzApMnPuORBgiViIkM4qUjKdxz6wAI7cM5UO+1ZrFddkB5jcW21OLPHJLswKjvcPO\n",
       "7p1z6a2MX44EnXb645yct8VkIPg53zwkLr95CZ95kpz37i4Wa51zV652LxiyHUjIybarZuRT/tXg\n",
       "Qs3DSF1pLCdHi0uPuxzIgpptgKnCF/G/6/433Iz3w6doGWmcrR2TjpDY32u2A/nAfzOlzf4+xdrH\n",
       "VRpn60HNi1ypdSDaPMO/sITCpCJXpnG2MiaDusgo+9aZbf1vhuGzqTEneYbM1l5tnC0lBc6ZFuGs\n",
       "h/gXi8L0Wl3XgEKtZvKma2osg6TX6voUajUhuY9vz9LZWipk0RsKbJq0xn568RsGybW62DWVuuVJ\n",
       "GdPocwGXB6iS6SkVtsMYoxL0mhq8R5aMj6iw9aNH04Rf2EkYUKe7t3JGhS0qd7vrzM9DhAFvotwv\n",
       "3xA0xhaSTqSd7ESidNVcDypsuiyUl8nG1092N9q4Ehs8Jr0wV9vVVmIX8GL8MHnaEqNqbGU0BrZ3\n",
       "A706DSvYnqKYDXgxrtOjqbx3o2xpuTP9h63B+1KVAl6Mh+nq1glqbPC7DPtVc3+Jrtj/xXh/jqxu\n",
       "E6ps8mch/Hci5Y9wTQNejM8hT1tTRpUtIT3c5wDzw85tmbfTOUFme6CkysYLCiLAVGH7Ree2zLNt\n",
       "IgdT7RsIZKP8VuoTHE0/TRlxLT3NQz/o81spvZvwWylNzsSLlGBKtgT4UCZK3d1P/g+XAGP4eMN3\n",
       "DQAAAABJRU5ErkJggg==\n",
       "\" style=\"display:inline;vertical-align:middle;\" /></a></dd>"
      ],
      "text/plain": [
       "<IPython.core.display.HTML object>"
      ]
     },
     "metadata": {},
     "output_type": "display_data"
    },
    {
     "data": {
      "text/html": [
       "<dt><a class=\"ProveItLink\" href=\"../linear_algebra/addition/_theory_nbs_/axioms.ipynb#vec_sum_split_last\">proveit.linear_algebra.addition.vec_sum_split_last</a></dt><dd><a class=\"ProveItLink\" href=\"../linear_algebra/addition/__pv_it/axioms/74ec50df03185dc3d54e824409d3fe91e9926fd50/expr.ipynb\"><img src=\"data:image/png;base64,iVBORw0KGgoAAAANSUhEUgAAAhIAAAA/BAMAAABHvjxNAAAAMFBMVEX///8AAAAAAAAAAAAAAAAA\n",
       "AAAAAAAAAAAAAAAAAAAAAAAAAAAAAAAAAAAAAAAAAAAv3aB7AAAAD3RSTlMAq1RmmUTNIjK7EInv\n",
       "3XZ/CtNrAAAACXBIWXMAAA7EAAAOxAGVKw4bAAAJVUlEQVR42r1bf4xcRR3/3v58+/bHLeEPEzR2\n",
       "iQma2LOrkCYQ5Y6AKNFym+AlIKZ3BAKhCekq/iGI3NKo/4jeaY31xOjDKFAKvcMSSGoC9RSoxdKV\n",
       "aKzA2T1pIKbCXVuOHtf2njNvZvbNr/c6r3dz32TvvZ2bz2dnPzPz/X5nZh+AYlnfPwsrs0yH3lxv\n",
       "UNndsiZMvD3iiYCc75/QVMsuDN24QiXeotfKCLl+fzyu9n/NmEISd+N5MPFWGRcBztCQVon5FeoA\n",
       "2VP0ZrhJrj1TcdULU0ZMIcmP3knOJNpDCmDaihJP1Gnf/YkWlFqxg3raiIkj6UvOJPHWZIAdJa5l\n",
       "k5xODhh796K4+us9EyaOpC85k2ipAzLAihLOIhOA9eI73tE4QHnAhIkj6UvMJNvfZYAVJXJVenML\n",
       "K9kOG2N76JQJE0fSl5hJtg1NCWBFCeVTYD9cFYu404QJkTgTyHbEKBHJpGg8LgGsKPEvNvK6YW8e\n",
       "4l3ZhpYBE0fSl5hJGTyLEsCGEg4LzWM1VvRaOjahgNKAARNH0peUSbU/SwAbSvQw/Lpu0XffPUdO\n",
       "Om/AFJJ8e+tzCZlUG5QANpSYpCq775mnYictM6k2XBcBNpTopzMvvWiOedEyk2YajYgAG0r8mmWy\n",
       "CXgGm3aZNNPolAiwocQH9No7niDw1u0yaYLHSRFgQYnsaTYTp8xBo1WrTBrLHxcBFpTILLBh1zAH\n",
       "lfZZZdLZX0WABSVyS/Rmq0f2QELrRC/Ml6wyaZ2QJwAsKNHbpjfBxlfKp37/0c0f8aO7q3LCKpPO\n",
       "5moCwIISo9S95Ym/WxfuBH4uupGp96wyaV3rgACwoIT0CWU/dGHXRWfoH1hl0tnYuACwoMQcncOV\n",
       "ZfJBfpj1ZYRY3+z+QVnkWatMdGxxf1EC2xYAFpQYpPMvQ0fwnB+2mo/1laDeZvrOt8pE7D/k61F9\n",
       "e+cFwDQEI+5jshJqqXmKSVPkAnVwBb+trfdJ9DoKFfqVjng2mcgkm4KdB9H1TbrSZ0GGAKbh8/hy\n",
       "h6yEWmpsW2nH5Wg66x7S+jAX5/2vA2wRUXaYAnsEvW7DdJ7ASgHT8ACeOuOyEmqpsR2ifVJimg/7\n",
       "NV3aRLvwMtr/jVVnykp599XohedZmjjiAsvbCGA6UKhYk5VQS42NzdPuPCz6B3S5ILuSr7uutupM\n",
       "KSn9QjlINtCUkPSwSEwA05BGyuUUj6mWnr8SsPV9TbVLWCJZN1ciGZOkRApNomLgaG7VKwEHZ2Ze\n",
       "VmOHUroCJZ7wuRWUe6wOr6Lrl9DtUdT2IkkSBuuJmXbvgXIthokpQetlEDT30Vl09xSZVCwmEwBS\n",
       "4osAv1CVUEpNzWXtn+y2v5snByM8tQ/+SDqmmEUDNj3Ct3/TDLa/GTFNrYdSNZIpVILWw0NmcouL\n",
       "/OTGCCW+DvmqqoRSKjqpGCXOsPaHa4PBM2Fk25YZCcLeq+QWUqTa852kTE7tWhwYo5moEqweHhcb\n",
       "PHgFYD3pkmVajwCQEgWv2FCV4EsddibQ85enHwocb0FuNXeOrWl/mVs7eqUObEPXF8gtOPNJlOCY\n",
       "XPSlnFoUU2Zm5g00w6thvVIjOFw8jfLsCCVSnZwmxxRKP4zlmJ1olJvF3Z5GCY87x9a1P89nwKhf\n",
       "OqT9+BayicYEz5RaggrEMLHZQethJV6HLPKTX4tQAkauRCyz8Acx28alzPaj1zUo4UvDtrtBVeKb\n",
       "F/Hn2Kqfg8pLXO1NaOaSMQ23uKid7Sg/cS6mTBuKEMkUKkHr4dlxAjJL7LRE9RPwe5Sc7e71LhaV\n",
       "wKWw68pn8XBYnvVoLjswwCnh7jmG07MHPiScY2vaP9zilPgxpDDqVwi/gFpIj3PMYofAVKjCxyGG\n",
       "iSlB6xXQ28XgZwiXRylxH5pM9/YRfUMlcKn7TwenpJXXKgM7g3+lv9HilHiyOYa+001fAOEcW22/\n",
       "I+wmPAP348tTeGLfTYKbcT4hMBVH8p04JqYErYeD7IXwUxJ2tfkE9LQCV/A9UQlcmhlw8Nwr1NMj\n",
       "N5DQTOUiSlwDDyIh9uJb7hz7EEv5wixA8AGZC4M++CF64btyI1KJczFddSnEMXUzK1LPQZPn4afx\n",
       "Z/8jSgkgbqejrspLjQoOpaVWprpxYmKiBlN74fFQiRdgFpxp6km6h+FsLdhd6wXLHsXKdJx/R1x3\n",
       "8rZCJjnbPsy8bltY4VJAV4nD+YaqxGSzcAVqTS+Uaj8I/vOJOuztKoGSlO2Pw66f4HvuHFteS0NB\n",
       "u5Kj66BgXYS/dfPcq/KETPIK7DJxxVZma9EjTUGJmy/V7NSUmmM3eLug7F2O8gs81TKQbYdj4iVn\n",
       "4QrkRbaDcI7NtuS7e/SbwrSKnwI7SAeNizNB2KlZNSaiI5XoHmnOHTLYs8pe/ak98GDNub4D+Z+j\n",
       "95++4NjPqqESX/nMMSxvertwGD5Hu6JCfXM6DHxpvv07head0e3erRoTCXXjvHDQy7KUM8a7d+RD\n",
       "d01MhKmomE+kdvDv+mmSlT6tBL71wq5iMI3f1uReq89E7H6iK1VstC0ADJTIanbDCjFLsGG6XsmS\n",
       "47Z8GPh+G70Bnz1ulcmgnQZKpCGZEpMjdDC+Lwa+/MV+9OF/etkqk876OwLgPPe28zH/KzP4EbK5\n",
       "cntgd73h+xEbsoFTXLTKpN2DbwkAGyfEwg8TMvxpZvSBfm7eKpN251kEWFAizfL5/ro5qLdtlUln\n",
       "Z0WABSXyzJuNDpiDxqasMmnMOS0CbPym5iDLy9rmmLmWXSbVKosiwIYSz9OwW1wyx/zSMpMm/O0T\n",
       "ATaUGKXhKU/C06Mm28DHLTNpQnRVBNhQIkfTALg9+PuciZddtMykSSdaIsCGEmkW/PqbxuK1LTOp\n",
       "dpcEsKGEy7zypPFP5kbrlpnUuHRSAlj5Lf+XWWaEndLm7rEJ2RTVu0brTLIV5yWAFSUmqaNzkaNz\n",
       "O0twHX4qo043RbV9v2ydKY7ZnhIVFqD+h0bhb9jEpZui2gS9bZ1Jtk0ywM4Tcf9mS6gO2Vwn6RHZ\n",
       "FNVO7oZ9JslNLMgAO0qwx0Tx056Tj9ExTTdFdXbBGjCJ1lOVAXaUKLI84BmAS9hpcrApqg+WB9aA\n",
       "SbTPejLAjhL4WIqktB14+G1GizdFtXZfay2YhMmxXwFolVj5E/ZP0g9wD5vUvnVNmIT8qy4CIp6w\n",
       "d4dW/IR9nkn9LZNMrLEmTLz9TgI4Q0Nf/T89qCRPosXDDQAAAABJRU5ErkJggg==\n",
       "\" style=\"display:inline;vertical-align:middle;\" /></a></dd>"
      ],
      "text/plain": [
       "<IPython.core.display.HTML object>"
      ]
     },
     "metadata": {},
     "output_type": "display_data"
    },
    {
     "data": {
      "text/html": [
       "<dt><a class=\"ProveItLink\" href=\"../linear_algebra/scalar_multiplication/_theory_nbs_/axioms.ipynb#scalar_mult_extends_number_mult\">proveit.linear_algebra.scalar_multiplication.scalar_mult_extends_number_mult</a></dt><dd><a class=\"ProveItLink\" href=\"../linear_algebra/scalar_multiplication/__pv_it/axioms/c3e448c268301a38379b968d4d15c77dd1c82ca00/expr.ipynb\"><img src=\"data:image/png;base64,iVBORw0KGgoAAAANSUhEUgAAANEAAAAWBAMAAACs+WTQAAAAMFBMVEX///8AAAAAAAAAAAAAAAAA\n",
       "AAAAAAAAAAAAAAAAAAAAAAAAAAAAAAAAAAAAAAAAAAAv3aB7AAAAD3RSTlMAq1RmmUTNIjK7EInv\n",
       "3XZ/CtNrAAAACXBIWXMAAA7EAAAOxAGVKw4bAAADA0lEQVRIx7WVTWjUQBTHX5Nsd5Nmu0XBS2EJ\n",
       "CPag1T1IoRVqoCqC1C704qHYlQrSntKjoLIeREGlFQq6Kpriqay4rRb0YimI+EVllYpgKWTxUEGQ\n",
       "UtBKheK8mSSbTMbQiw/+w+6bX/Jm3ps3AdiCWa4E7i34kv9ABdZsMPF2UozylnAY2oJ/dsZG2u0q\n",
       "YNrdKnltTogGbWqBDF8ZehgdZ+ICaQWmkDWaZBgRoWE7jaxN0YuYyfG4SEqOKWQZTNN+ERq2NSLZ\n",
       "pCgGbDLiIumuQjZoo9cWoOEabeD4lqIyWUZjbJl2uQrZc5rCnAANWVMVxyGGLiwvv4uNdMxVsnXF\n",
       "8Z2nfmwj72kRoDA6d6FezmyN5GuGoUcBbsdGGnI1YKkbful/2RULZHoAepfRPnho4hXc97NaGdHW\n",
       "ATqAoqOQ9JeWGvYbYyLrrewjk/YClKo3LW2A7oA0zy0K0Yc56PUd+2x4D7AHKKraTXl/phXD1Up5\n",
       "7YYl3XF9L5mUVUhP4zJxI0oBMtOQWuUiIdoHsER3jY4jAH8AxoCikhM4EK+JDhVJWh8BHAhH0seh\n",
       "gktKYyeRmIMGJOYFkd6A9hN/L+KwBAlyzgeAoYVuMpS7n+J2Nms27fwHl9h9FchexYGDwXbqs0Gq\n",
       "cnXCJG+CvBpoJ4XUth0Y+pj0r/Y5tY7V+dJsTiHR1lZf6D2migE7JO+mzBRJ2UDmO55g2ho0FPyn\n",
       "f2PZoNNFz5EDoZgp3J6akwv9SHR11R+fYVIdaVHxfA05lSRRmeYizdBo7abpObbDBDv8FG0gddHz\n",
       "zXgA9aLS0lEqlYwrJ+qPX2fSss9Gv/mnvLUHq5XnIiE6+f1ytug5JmexFp8CaMVSu0gTZEA3rtLe\n",
       "JidCc+fSRaaonecdYixZDaC6NdZvlyFtd5JTj5OzFsy5c3hByqboFT28Q4zhveujiZ69T+CakTru\n",
       "QPIWOsrDE/76brqKrDX6CRBhcDaKsiu9XCqF8z/lijc1+s0WYRieQxO2+OJLOky8rYjRyBffiqAy\n",
       "/E/7CzTlxCrMuYHGAAAAAElFTkSuQmCC\n",
       "\" style=\"display:inline;vertical-align:middle;\" /></a></dd>"
      ],
      "text/plain": [
       "<IPython.core.display.HTML object>"
      ]
     },
     "metadata": {},
     "output_type": "display_data"
    },
    {
     "data": {
      "text/html": [
       "<dt><a class=\"ProveItLink\" href=\"../linear_algebra/inner_products/_theory_nbs_/axioms.ipynb#inner_prod_space_def\">proveit.linear_algebra.inner_products.inner_prod_space_def</a></dt><dd><a class=\"ProveItLink\" href=\"../linear_algebra/inner_products/__pv_it/axioms/47680eed701a0e117b34daaafe2b7da7457a25d90/expr.ipynb\"><img src=\"data:image/png;base64,iVBORw0KGgoAAAANSUhEUgAAAwoAAAAmBAMAAACWkHHCAAAAMFBMVEX///8AAAAAAAAAAAAAAAAA\n",
       "AAAAAAAAAAAAAAAAAAAAAAAAAAAAAAAAAAAAAAAAAAAv3aB7AAAAD3RSTlMAq1RmmUTNIjK7EInv\n",
       "3XZ/CtNrAAAACXBIWXMAAA7EAAAOxAGVKw4bAAAKwUlEQVRo3sVafYwTxxV/Z3u96/V5z7QRDSUB\n",
       "V0GRqpDg9FBVVAQOH/0iAad/5I+Cek5BiQJRu5UimqSQM/2jqtqDuzSVQtMWXIlWRSTg0AIql8BB\n",
       "QdCGlKNKKA29xAQa0kKPj+MgcAfXNzO7O+PdWe81svdG8u/mxjv7e/vevHlv3hogoM0RMPSmL/f5\n",
       "IpbhGCZv/UlGRRVLcxyDtrYkH39AwDB5G0AyGqrPCzgGLSo3f7TAMUzeRpCMgkr7C8cxaT+VjnaU\n",
       "OIbJ2xCSYKp4meOYtJelml4hYJi8DSEJpppW4jgmTRqRIjc4hsnbGJJgqpMCjklTr0kGU2WOYfI2\n",
       "hiSQSrvBcYzaLyRjnSWOYfI2iCSIqqmLYzhL39OdKblqgoB1aqa76+b974nak4ueFVzzeqOv6JDM\n",
       "DJCtJcsxlPY+7yoV+qddcjIbELA+zRBYvinl3VF7supZqYmi7wTCkMw7JIg0NNzlc3mnydGYfD0d\n",
       "veP6p8XvlfFHbpMu6TtHxk14wbWYDgJsmjcnVksZkTLjgabh9XCaxYCcd5+8xlEmFcwYOQawevgl\n",
       "ZyCIF+7Bz6mR5wEm/7loZGW8O/w1RSYnPYsl4hVcZKBWYCSI88nfx32Emy0gtOAhqbnXpZDrPgHl\n",
       "EsCq6kOVOgj6CYgcr6WM31Ie5IigWuN03495j2bRixylUsEiosi3ea0giFenJDfx8xkkXV7Fu922\n",
       "gp+m6OSUd7zXOyQwUCswEsQ1IHMnq40XEDpxoba7DKxe8tnfcTw6VD02CMlcwDF8rs3zOaJmymVc\n",
       "9EarAkepVNBOvuODgbwxYjUN5Y2SJT1d5NWP21bw0xSdPMU7vt27NgUGagVGgkhWXDLjI90+AWEv\n",
       "zpttXWn8qu94kBW0m24rkNNfopY2eghcyMMWugfSE3vkI89VzWmOUqkggbtVNF919qzJ20xno7Pu\n",
       "ov+VBF7j/rxlBT9N0cnrvePPgEuqKgZqBUaCGEVLxv2kGxIQvoOfjSw7VL5dCvYF5arbColDqJxa\n",
       "YaHAeDR2ElhK189lb85Q5iiVCiJX0FeEQBnAC3dTW12EnzCjZQXelNZlWcFPU3c7W5qr7mC6pKpi\n",
       "oFZgJATf7Ot7w0+6qmSEhIA3WXdliWv7hweeO1WxEJ46l1OefH+nSayQvEy7+sIzSJjc8+EgREZI\n",
       "pvHIG9MfwAeadW43hs3u7aAu/ANop/vxOWJUsVfZlgDwKt0RBmpnbjKpAI4ArKPSgL6gOxPECwtY\n",
       "hGF7ICTTAu89VijY4aspMpnE262nftfNXGXrXNDTNNWolkpkoFZgJAS/AvCSX/Z+mSMoN8eNG3eF\n",
       "ffG4uOaPZUi6QlE7BB9A85z2LI7r57O0u9aEDaDvh+QgbjYjV5H8SF5/CyKH4Eug7oclxQ7TKGym\n",
       "wYwuQmXIsLYytpXfovhQH2nHhCSSoVQq3Kcy8DUmzaqMcjiIl3ldW/lCr1CxvWXfdIptBR9NLbWC\n",
       "c86YFGM3KE+luUOvWyqRgVrBIkH8Lqh+hQzuMMR+uIcZlpsWRCv8knoLRcy5WjKpXh3Um917UEuk\n",
       "exIjaDFRIDkS6PcfxUsfBZiWR220mfECTDXfAri8pAToSSmi2OSt8iK2pKaK+6GYP2c4SqWi4TnN\n",
       "pHmM6D2AF/5GLXcuxm4U6eG8Gt6mZFnBR1Nk8sOoWTN6o4n6p5Z5iJ5057ulEhmYFZwtP1EiA8rk\n",
       "ORA/ALSjLrJSfWWQI9nUIMFqGRr6Zt8/bCv8nBqTYmcWI2EcRVVZBotdYsOW8rYK6PQ22lGAZQDb\n",
       "0DN/s9fchk6roX5WpK6fJUGLSBYfYCkO6pniFc9jt+U5SqXC4WsYnIk0uy0j1uSFgzTCZFUWybSL\n",
       "nLepCEbFsgLTlKeRyfPJWdlObnX4KzTjpDVuqUQGdqsr9iNGKjTknAdYXLI6nabEF1q6WHJOaLpE\n",
       "XxCsMG1ua2sxnuNWyEFkkEztpFaIMuUtozfb9IlpJg5jJG1t/YL++kjOsgJ+lWD5yRIfK4i+IJUK\n",
       "bzqEwZlI8yPi80G8zAoo8kZ63lV6OC+eYPReywqWpmRWoCfM5op9mL2B7s9Oc1VSiQwuK0BhFuk9\n",
       "DwYzNB7vXpPtSG0VlpxXHUjcvpCx8kLbCmXmCznmCyRbbCmyNRk5iMYmS5Pe/lmIfmTtSMijsMzr\n",
       "Xp+4IFpBKhUJz+vYFTp5wiBeuqkoSNRGd5xIL+clSf8cu4LBNCXbkehxs83UWSRGpzjvRAQuVRWD\n",
       "Ky7AdnpWHFB3O3nRMlvHAxxhb5Gm8rT1+1iB5PD5aivAAbIO410kLqRwejvbn4stOWh7eiWu4gwe\n",
       "R5T7AD6J2qpYPO/Rp5nhUy5qz3KUSkVOz++wE0X+MXzmIF5MH1iESdG9LdrFeYkOV9pWoJrq//IZ\n",
       "3CqUU04qTCYnTNicvwOSAETyRJqsZeuEx6WqYmBW4EnoqjStysxk/qRd6e62U3T9Fkd4jyTmduKb\n",
       "ESoYT1ArUNQOQtIkxRHtqlME6ijCClAPQhMG72+BjhnFk6Z+Ev0DLvzge3/C6zvysGtqCV60UkTC\n",
       "c6Fsp4B2hia2bRWOUqmIjfBWVJpVWdgVxEtz4hRGA4NGEZowM95oxa7L7bA0ZZgTCM/WllIH8IQa\n",
       "s9JpP34Qvg76VfreRhlwTnhcqioGagUhCW0iJMbQ93vY+a7HqpORdsBBfcLIJPjqyAbLPBO+wXzs\n",
       "zuHb1gzf/tnhNEN4auEuZfK+jDp+ZCKN9PsyoC54FQk37fnwZrpJWTAO+4/OOpUHbdJ9W96FTQvP\n",
       "gjrvnLm4/xx+ofUynuTR66ZdCNIGvYfVnI1yqeizk4dEaUCf128G8cJagF9vvFSB10aITVJ5h7eJ\n",
       "LG2tYlmBaCoKG0jN+tl74d8W1VrmM5v6I3NR4X04Q5945ppTWnKkqmZIchL+iIkuYCcS9Cajxx59\n",
       "QsCqpvyx7/jHLiMv8/2mqoav9vq814x3cfx/pPLnTVVVoVfLeHllm63RiTBJnOwUjSJ0M00WeGlJ\n",
       "ItVqq47kfnWLJ9ELJauTcLLiBwWsX/PXxnRPlQyS3tJkrIdjfXijOU9N0c3rWEHroe+f3obD4uRn\n",
       "nM0fPzvhZfSKF2tWLakVGAmnwuS0uQxbaIe/1Zld4li/dsz3m4TpqYYlvAel6A2O9eGt0hiLqm5e\n",
       "2wqrkoUY0dMJ5aI4OW7raCt+3kVPkZaWBAZqBUbiUBkbd8PUIejIGBt3RSbf7sTBDMe6tYeHP+Vb\n",
       "5+/yaEbyok+/zLE+vLDZsxTcvLYVYv/a8x/UE0yZURAnR+2zAvl7F6mcGdmai41aweddpkvfiRzH\n",
       "UNpzwntE5hdtpveqnwlYn6ZWeP+slPf1qpiV0c1Etmqyx2Wb/NmQwfhn3iFxUymuvSfaw3GM2k7J\n",
       "2OhemtefV9BTU+WRupG4qdxFeFb70QfH0Ar7JWPb8hzD5BX0pMwq141k/8czVojNkPlhssAxTN7G\n",
       "kARTNRc5jklrlmYGhwUMk7chJMFU7IVH1LPqtNMh/YD4A+mo3+/5132xsbwNebhRUC0VUGhrIJzf\n",
       "66mHpMP0pZyF4tpIJxrL24iHGw3VKyZHoa0PaUN6Re6t+t85iol1scG8jXi40VCpyzkK7R0ohWKF\n",
       "F3zG2Sv1lS4hUiW9wbwNeLhRUT0tIG+LW0P57arul4yqRY5CGv/71gbz1v/hKP4Pn6vuCxHjuRUA\n",
       "AAAASUVORK5CYII=\n",
       "\" style=\"display:inline;vertical-align:middle;\" /></a></dd>"
      ],
      "text/plain": [
       "<IPython.core.display.HTML object>"
      ]
     },
     "metadata": {},
     "output_type": "display_data"
    },
    {
     "data": {
      "text/html": [
       "<dt><a class=\"ProveItLink\" href=\"../linear_algebra/inner_products/_theory_nbs_/axioms.ipynb#hilbert_space_def\">proveit.linear_algebra.inner_products.hilbert_space_def</a></dt><dd><a class=\"ProveItLink\" href=\"../linear_algebra/inner_products/__pv_it/axioms/8c5be0132c33db4f2d5df1036ecd9d4e292d63f80/expr.ipynb\"><img src=\"data:image/png;base64,iVBORw0KGgoAAAANSUhEUgAAAVEAAAAVBAMAAAAN5sC/AAAAMFBMVEX///8AAAAAAAAAAAAAAAAA\n",
       "AAAAAAAAAAAAAAAAAAAAAAAAAAAAAAAAAAAAAAAAAAAv3aB7AAAAD3RSTlMAMqvN74kiu2ZEmRB2\n",
       "VN1Y5l/sAAAACXBIWXMAAA7EAAAOxAGVKw4bAAAEyElEQVRIx82XbWxTVRjH/3fd2t3dvmUOP4lt\n",
       "FiBTWdawzZcZBa5j2URDg+miqOwKix9mdA0QSQCl6peFLOFmY18MZgWyBZsZm+gCLmYski0GS2h0\n",
       "kJAgQxATibIN2QuLUJ/n9Hr30q7pB5bsZj09e85z/+d3n/M859wCy/nSUjrL9LLHgd6Py4dW4Cj9\n",
       "V1ih+nesV/3WWjyion1Tintf5KuCLJXbKtRwOvuO0TvFe0PzIX7XoUQi8XAmvYvktyqkfL0Pdr7b\n",
       "E6SPD/IMsA6YT5oHKL/BcSPbILBWWrsX1pfmm5p19Ltx1ZdBTaHBng4gfx/wPN/ipQ/NEAV2AZXz\n",
       "fJsIlp76s2xJWWsx+2H/PJNLxzaCyERaEIIU3k+dJ4FDc0iRhvQcYKEJbA+D1HNtISnPFcyglgvk\n",
       "RNnhNPWjGUklyghbDT35wyDt9C0k3UMVHcqg9gvNbjUS2RIySXeqgrSq9Vwc1p5taH/l4tM/PyiO\n",
       "OxJvkGP7pkPHybd18E0qscDbwkP6MeZLIZIqumNrkWxNHTFHQ1x0+2JfkmMg5tExMqEDcsXrkRIK\n",
       "RiwQhdIViKNpMIzHWs+SUxfVomTkTB5TqsXFB4OinIj0RQ1VKNLsPrx8aRq3yOdC4h8SrNaVW3DU\n",
       "4ASsr+KImz1OAbygBbfF5TVi5yyFRzNaU4fs39eCu9IfsA3g2zgadNgTiedoXevQH8awVuBDY1ze\n",
       "KNXgrBKEk9SeBVbIRtA5of9f/V3ij3g7dQK8j9tUY0yqfLplWthHdCLt1Cw+kmWPI1EMpK6ybQNc\n",
       "IaM1dZpvBs7TMHWdfkjj2C1qH6dXJUKweOG4R5LyJMopFs4wXJc3w07uf1NJy8YUjg0LSasog45N\n",
       "c74SmyCldN0i7GcoZb5r0M7Qekjs4ZwaSpOPtiBcA8lWMnWMOqCuhzbzCeVfUtPZUjQGSxgK1YPS\n",
       "MalM8IZG7P7RA3wo1XGeGqsvjaUj/WimpeUT7jEpV1OnLuxB9JWOaB56Sgd7KNsT4YykDlPHIK3i\n",
       "hQGmpCQpLax8j0kxBeX4r5NsxsjJlhZ37+iMQRo1Ngc5fUzv81ilIPXzDuVyJ2PqqKPs49BK7PEe\n",
       "8sdT83RuTE0dg7QyGdMZI6ZsHDdiOqxLkxxa4WCN4rBbrL4s9lOZYnMtTZ563CoPVoog+J0UhOZk\n",
       "nrpdYXS+s5NyO84eV4CSjDGFqTNLmhvmOD4j8vRPYhoTeTqOGciTj5YTUS7hfDGAHAr4Abqlp42a\n",
       "E7S0QfM0xV5BWh7FahTpqBc5+hqRvgCFirBCU26CSC+sfLcWeRp7DEfxYeppahGMydbU8SS3M+pK\n",
       "G/ksadRRFsKNOL6hrKxBv59I7eOXGkOol+qQ9/5m2ChRt/L7we5u5SqtYoEfhev5DeWOv7D6qcLq\n",
       "Ndh/+agOa2RQa7tbSkfE6miO3FVMYV3X+oMOae2V3r/Q1zMkPDpig/qCN5RR9ViZuvKgKonW1GF9\n",
       "HmbJpsATVD5dMc91eD/fSn1LSYzawvM/bR9QIjENTT318lsx3sQfZ83ePQ+66cupZ3v6VC3Zq51l\n",
       "0dcpp3u2/wGWM2n+nJGTWetdXzJSp3fRodkysAazlWu7u2aJQOUyddGfHqfMnm2Z/zyxmqc1nYb/\n",
       "Ab4nsT0IqKLUAAAAAElFTkSuQmCC\n",
       "\" style=\"display:inline;vertical-align:middle;\" /></a></dd>"
      ],
      "text/plain": [
       "<IPython.core.display.HTML object>"
      ]
     },
     "metadata": {},
     "output_type": "display_data"
    },
    {
     "data": {
      "text/html": [
       "<dt><a class=\"ProveItLink\" href=\"../linear_algebra/inner_products/_theory_nbs_/axioms.ipynb#norm_def\">proveit.linear_algebra.inner_products.norm_def</a></dt><dd><a class=\"ProveItLink\" href=\"../linear_algebra/inner_products/__pv_it/axioms/9ecc4619f5e6658292c5f6e958b8d0afa83347240/expr.ipynb\"><img src=\"data:image/png;base64,iVBORw0KGgoAAAANSUhEUgAAAeYAAAAzBAMAAACwObbUAAAAMFBMVEX///8AAAAAAAAAAAAAAAAA\n",
       "AAAAAAAAAAAAAAAAAAAAAAAAAAAAAAAAAAAAAAAAAAAv3aB7AAAAD3RSTlMAq1RmmUTNIjK7EInv\n",
       "3XZ/CtNrAAAACXBIWXMAAA7EAAAOxAGVKw4bAAAG/klEQVRo3u2aa2wUVRSAz3Yf89hXDYkBonRU\n",
       "IgkaWGnER0lZQIQEhPXxB2vCBp8QY4ZojKSNuxr/KIVdNA0uCTIYILQEugGlsUVdhPiDl8Twg6gN\n",
       "U0ENUpYikEqbsN7HzM7sziw7bbfUbfZuMjs7M/ee+91z7jnn3h0As8K3tUkwPktbW5v5DW8mExyn\n",
       "zNsyNwswh2D8licqzBXmCnOFuTSlKpMJFH9q/ojl7CKRd3lm4P/AXG3hIUf1iOWwv9DvY+XCPLsE\n",
       "gh4pL2b2WAkEcUJZMbuSlpuryRQoffyxsmKeaTnzZ2/T2ryyYv7VugFHC9+LiGXEzA5Ybu3j241H\n",
       "soyYbXF0YNBHKbrT/DIRD5Fx0MjRniojZj9OWhrgI/W37jSvMGF0WFfA4pl/dMxE6gNGZhvpU2DU\n",
       "mYvJiYlWmW1YUfuNMuhOwBkd80L89bqR2YFbcImjzlxMzlywyvwuPpw2XqeXntYxf4AVHzcyE8e/\n",
       "bvRtu5icuy0zz9eUmlOo6q/omF0o/LkFk/m8xtRSSj+fi8g5bJWZDxcIV3RAZ0Y1ZjuaSi4zH1aL\n",
       "vsN3gLmInEGrzERxu8wSOTJxYoLOb5/s7j5uxuzp7v4teQeYi8i5lgXd17O7SyjMvBcfziN9pyev\n",
       "V+yG1qgirbcHdMyLAbaYMTuiwEl3gPn2cmiMIaBB3xTHaZXZ0U0KjXVtCi7xVw7okZ+hlWkN6sT8\n",
       "so55LTCoprNmPriO6pnR1bUlBZymnvhymA1ynr0uvHNTDV5sltku2gdsATM9s0dV9+xE7T0Gc6UJ\n",
       "NA+hNWho8id1zJzkxuGiF7Us5eQkW+Dr3B40nuzIF7fnRNc8fWztFSB9ab0psj1EGoM3gxDMyUmo\n",
       "HFI2TmpBQ5ICtl+94ryhMrPgCJvP5/u34YHEesSBL0rDEsnASA0SmsAf1DFXycSFbQJfKDcPm0Fc\n",
       "i9IDticRQs8Yyl0Ar+j9hYBMdZ4p83bamLMT91vPPCPrwhyLSeJUDe4UGPSMZr5cwIetRMPuJRZE\n",
       "xv9U9gapAQ8ZmCFcT3wF05mXe7rsstaDp6JkXMyYr+SszT1AUytDWUgb+wO3LOmZiRzfhfcX0SmJ\n",
       "s01X0Ix5pchLpvPZi+y6LhuvnP2g/j1DatCMK2c+w34cIdn+OXIes/tBKdsDOoCboPXsjGp+64c9\n",
       "AAfSzGtTg5j5ED7x1aMh853/U3BNBobZWv+VxBxAlJd6RHe9DL/XBch88wcaJdDlA4SZyPnLFl/F\n",
       "09QotqTr+2zCwGT9dmvoHnCb69mOJgDd8doMfIstBUng0Q+lBs24/Hq/DU1YsG+wMZXHzBzWetAK\n",
       "lBm50VUQEVzo4wi8NC2JmL88C+ikBceKJeARmHNnQihJ9oVtSY/oDjqSq2CBM8nIZAUQe/sU6LMl\n",
       "wkzkBDg56qSeoVdJsmmmcUtlnvnJUniuQHy+qQQkZMZV/+5IOQVoR+KUGnSEI/r4DDZstlwcjuev\n",
       "qyZqPXheZR6ALyAicXIMnPEY0s+9aWSsMYntA05GN10Cmvm3oBngBiNygXaR2d0HK9jr09HjOAHs\n",
       "OEQcUzxnXUXk+EWwr04kPiUzqFfrylGVeUe6aoFQgHm5qEwXL/DL5Kmz0AnSu1LDS60nZFhLItVf\n",
       "kczWkrQHsxOJhICZ+2AKRMAmz6mtDSEymISfacbLU1vQ2YeYkVHFMPMRuHRZXons7kjto7AiEyJ4\n",
       "CfBgfbBx41qyGUQ2qWYhOsex2koeFgm+oEvGSJmevTlV22LKZUa69CTNmGkP1qt6Vplj6OcGlXkD\n",
       "ID27qJ5teGCxnr0B7u+IhO8AK9nDhPMa+AYMtk2mbeogimAkN8JR4pqGs9QKM9enrAy11ZIGs5kc\n",
       "vzXsGfi2dcLDgybMSg9opkSYkW0jO+YCvKzTM5rlTRJMgCbBH0IpRkzyxdslb5pL8vJnsA8xxrEP\n",
       "w40dV2Nprp6XNaQlWIdn2cVB8b6r2lJhrmSB2XlVbWiN6gfknLWHYjrW9kmUHjCf45zkRMf26/Yf\n",
       "X6wJznkVutJMTQfKSZC7xifu9CJkWecvv+Fo6EpCbNYF8C14/C30FLi/k6uW1Yl4uC8OSlU/IQVw\n",
       "ovk+Cf9NoiW/K+2ClTXGObXFekOuR0MONZ2h7Q3tSSSGsF/UbHKtQTttHcLeEIfnwUZozKZq2qnx\n",
       "fwqz3IBecfaP9n5YzOSaQ9sLWTQEZnuqJMm+OzzKzEyN2eKwU595W2bmb5SE2SOMyb4nbzixtKd/\n",
       "sCTCe8vqfwxPtBSSfhgO88a6MWK2l2KDyhceBjNbzY0RM7xcAkFN4jCYuehY2TbsHfkmO/8zDIPZ\n",
       "K/GjwWzlfRJmzYjlcETKUN8ncR6ohbEq7424hZ36H5V3pSrMFebxz/zkOH5n/WIB5nH9zvp/EKdL\n",
       "5xyctcUAAAAASUVORK5CYII=\n",
       "\" style=\"display:inline;vertical-align:middle;\" /></a></dd>"
      ],
      "text/plain": [
       "<IPython.core.display.HTML object>"
      ]
     },
     "metadata": {},
     "output_type": "display_data"
    },
    {
     "data": {
      "text/html": [
       "<dt><a class=\"ProveItLink\" href=\"../linear_algebra/inner_products/_theory_nbs_/axioms.ipynb#ortho_norm_bases_def\">proveit.linear_algebra.inner_products.ortho_norm_bases_def</a></dt><dd><a class=\"ProveItLink\" href=\"../linear_algebra/inner_products/__pv_it/axioms/c24789e110924ef0da0eddcb28846959abb9c8140/expr.ipynb\"><img src=\"data:image/png;base64,iVBORw0KGgoAAAANSUhEUgAABKcAAAAzCAMAAAB15psJAAAAM1BMVEX///8AAAAAAAAAAAAAAAAA\n",
       "AAAAAAAAAAAAAAAAAAAAAAAAAAAAAAAAAAAAAAAAAAAAAADxgEwMAAAAEHRSTlMAq1RmmUTNIjK7\n",
       "EInv3XZsTBlw/QAAAAlwSFlzAAAOxAAADsQBlSsOGwAAEY1JREFUeNrtXYuaqygMlouCoCzv/7Qr\n",
       "d1AEPGM7dgrf7qmDlJpofpOQkGFobEy34Q+1Wyn6e+zprbdfE8j8YUtb5dbwX2LLrRQ9lT0z7c9/\n",
       "b08FpjnBn1nJ0Fw4bBLE8a9x6VaKHsoegEpniXtexl+9egLJQ9hFir1k6O3eRte9ooTmymHHqT+I\n",
       "U4CXzgpoP6fxdy1WCuZHmMyOIbs2ivSzt9saXDtOdZxCU/EZsSAG5e+DxAwaUARgDEQCb5M0z/m8\n",
       "yNUZ3QSscgEAzBO/SJdjiACbobFdEALL9rlNIqxWKlBHlpsbBx2nvh2nyFKyVJgDMb4+4HGtXgOZ\n",
       "NESJNXa40UmClBg91DgK2bpcAqpoDmkPF3tZE0s/e7tPcFDHqS/HqbVop2D0SThFpHDaXwRUBAFp\n",
       "bLV4CYPZBY1RgivX4BkyUMljwNvkZPfZ232WX/oy6Tj1dTiFluLppV2X+QWcEvO6taDhTP5ypzXG\n",
       "KbaY5zyHU0xeoiywi0tzN5F0DisnTEtXqO5uE+449dU4tRSd6HB6ME6Nk0gBAYaYDyFRhFOb0jSf\n",
       "4RS8pE/BCBSl+Zy9525C6Wdvt7VRko5TX4xTouwex/yAEUwIwCjn+VWv8tmmdj5FilPk4AcCAZzG\n",
       "KJhmw6kB61MZnGKrWfVGQnDtUqdiO1RoRLDgOO5IGTK4X1j8VTl3LwcdWG5XqEDHqS/GqbUsUkEz\n",
       "wF5S1VKXGHBevyqfbWrnU4jERp0O/v/JW2ADlUuCU8OqXsgpTk1CCGw9tFCtJigamX7Yt9+mqmfD\n",
       "J9+xY8goV6BbUOLcymm0gorXqHX4+veWrDd3nPoynKKyHIm+OsEnixVQRJRHhpnYULaPaYjPMs4B\n",
       "uO6pSX4gbUTGOtYxnKKEU1StzmX0qdGEKmicUsbFqJ1LYiNd90voO1KGDNyyToQfhUv62dt9jUnR\n",
       "ceprcQpUJGoxF0zA5K6cRroVFWKn9MRnsVYnrkNnrLztH1YwBSRanJoyZ+w+KKcUpzZcESd+dDuS\n",
       "jVzpXKucBVG4pr81cdeRMCTrntq+k372dmOb145TX4tTC2jCqYHiOBZ88a82mMEhd1YthxH5T5mD\n",
       "y0msBJ8CA9nxqUTBJc6j16/BKWX55XBqAxo1KcMAQoVTjK8qBxNKjFSjrmOPU849FQHiuKSfvd3Y\n",
       "UORJ7zj1XThFZWVlKpg5USy4XnsxyekZnPJnEftXnApTYLTpbDjroxgyEDl5RWZJ4hIssWsWp7QW\n",
       "BhUA0e13CdMyQakz51zHjiGjBUIXRRVzI+JK90/dZ/ihjlNfilNCVrJmZ6+V2LU2No/GWOSJRLIh\n",
       "d9Z9q8lJlZmCoVG5xXzAPE/0FCEyDizsCIvwkbqEliSh3uOU9rDrPzZ8pP/pWQFyquYIXUfKkOCe\n",
       "Gg+CckFgevsX3b/j1Hfh1FwzUMIKu8UpKCnDixLfGKecj2d31ma6Bw+Qt5GOXbkpCNPxAF6L2sVP\n",
       "TcfIBWpUJmEYbed0GXnDNEe9DtOwVoz0Hxu6wf+023wmA9UmHifQdaQMWb17Kvy6C1rAvKPKSx1U\n",
       "pzgVoAyiuiC2jv4cnLqJoqexZ6m9gei616fwpsZAjGBq4dggpN1ZYp1aq9uYIxhe/igc5KZQGcXj\n",
       "WUw8A/NxCwcxY+w3gFCT01lKi2jWP6V6Qx7yrO8JBQIKxlcxciEEH/VoLDgZQkdgyPbLUqprw9tn\n",
       "0Dnda+jvva2f0Lis4xQOyxykLoitoz8Hp26i6GHsYfU9+3xCbz4e3XtiYMa2U7BAyNnZ41yZQcv2\n",
       "8xgP9OQaRj4neTPveB7OHW5kTT97u7WhYGGf4hR1OgCZGwSxdfTn4NRNFD2MPVRW90ryObUVnMpY\n",
       "OmSmlGJ2cjbzvsxMITUyQFq6hjdLyzm0uxRl3NNmXvy0nvunXI5CJSHCaryNoz/IP3UPRQ9jD5T1\n",
       "C3COGZFxZRE+Sa4fHpYBvEVtBSvPzh6Vu8ygUSG64E7u8fSAB2I+04HdW4d0L/qrtf9znEIuxbJJ\n",
       "EBtHfxBO3UPRw9iDGqIGXJgSKWJaGYiadrisD2LLExQVNlcAbO47D7+mhei4wnqfif5deJMgNo7+\n",
       "IJy6h6KHsacalqABygIIweBX1T/CwTO0c5JHVBezLjpMvQqn5gacwvrVW9uh2gli2+hPwqlbKHoY\n",
       "e7jsGyX19jFtmRpwigD3j/YbSKxebtOC84KYjH5iyxQvEUVouUYRH26c7GfN3CuC5XywmnDHqd4+\n",
       "SGVYG3BKv/19GInxqo6HPfB95Eg8+kRSCF9WXlOSGV8WzvFp5SaxKLxUES70ihWFxgze4hK0pPQf\n",
       "jYEVq5PIBs3iMk5VJruhUQFmExlk7xXN2HhAXmFWb00NbBZ9N/2a3A4bp2BJXPbSs7TglMof8IqX\n",
       "zvYS47kgJqNTSQki1FI/ZAB60HRGigrh02YUvqCeMJDD25GXoCWh6AgIEAxqFrMOX8Wpk8luaxgH\n",
       "D7nhMs+s17XhFOzbfV9pU2fBBX3B6B9tS6RtOLXdAORNI4k2dYgVBDEZnUhKJEIXcEqcidQM3Z7V\n",
       "F3DKR1qmeDs1U3QEBIj0tiEuc6KCU9FkQmCy/bd/12R7s2+lzMikNJPdoCRzSU12X1Rg5RkVR19c\n",
       "cPSnVUQ/CaccNY3J4vR2FruVb9SyJNxm9w0cejneVCOU3XsjCGI0OpGUWIQUSrB5pVDEB9t3kRAD\n",
       "mSaIscOpDeRch0DCQqTYDpU+Nent2MgGy+t2Tqk0hCODRYILQOyMqkQk0sE4ax5vc/FMGYqiLP5A\n",
       "DaRwJELhFMcYr9v/Y9NkggxgPqSq5XuzMJUZmSydU4n51nJhBbxlvS8Y60+pOPrSgqM/riL6QTgl\n",
       "fH5T2/i5DagInpZicEZgosOpYW24o01+dLWlo9dYhOQkZ0hEghiNjiUlESGtzejAHCVn/kCbcmgY\n",
       "F0i4wSkGVbqC6VBGFtNAo9M9lX+KrHLVsKBNS5W7qjK8VJq92uB6G+Zm5GZVmUx5vM1ZOEeKoiz+\n",
       "iBpIN7sPjq36lGcP0jn4dAjZcEnvCAUuKi/h+9FzgBIP3pl7Kt1V4Oyh87f5QRVHa4r4b1YRnVLd\n",
       "/sEZrj4/uzXeuNEDwJXjt8h3z0SPU6LBGlpAE04NIBhsOqKKlwQxGh1LSiJCFqeY2S7DHejdEMd5\n",
       "+2TGLymEscx0h9kr0Y+3mgTdniuh9njUStKo08o2RYCp3yQszIh1Etk45/F2nFsoirL4I2pUbgce\n",
       "xNyIUxF7BgMhFKbvFNO7qDjcyv07QBCaZt1gkOlcOHlTnKfP/X9SxdGGgqNvqyK6F/IpcSw8OMM1\n",
       "0Np8Q9sGNmw27ZjocYo1vPxa4tF330BDvlRJNlM8lpSjCOkcLiDCAVrUPoqjBR1l1TjtR3WYenMA\n",
       "q92CBotTzKCYwyml7Wz23irsED/jBkRSGp93Fm9pGafCjXBZ/BE1CqcYH6ZWnIrMmMVa7AlO2V7i\n",
       "iCqYQWbkZugi+4ZMlj6N0Z3VQKCs+5n8kCdVHK1fwtuqiLJ9GvRkTNPhmkn1C83T2r5Q0qZ4NehG\n",
       "npme3/VaYizsSNiIU9aIyChUWUGMJSURoTxO+V2m1z1OrYPTp6ZEnwIO7L0+tWpziJkhYUZmaoF4\n",
       "PNrhbdnuixRQl8UfUaNzZe2matX4qcSs4q7AgN3YhKe9g1kbVd27f9KRUOlyVn4jC9Leq+zGndXt\n",
       "PAen1A7PqjhaLTj6viqiAoEx45/6gAzX5aLbqRl1WUPaqGViwCk81x9FcQ2nxCyV2Q8XyVukOpWU\n",
       "2AUacGoW0YHy3DJxok8ZV5YmUwVVEeWf0o+UCpvUUrXJq9YiN3txmLmeys6ocWgO+usebzM7ROYo\n",
       "irL4AzUmyKjyKslMhvWORyzgFFUURb12QVF361pN/p/dyM2SdI434h89da/IpkBKQIua9Om70W/c\n",
       "Mj0Xpw4FR99YRXTda+FTIoDP9ap7WtmFa2yzYue6EWeZGHBKVPeUj7LmX7Gf505SgggRFcJJmKp/\n",
       "hpZp9AfbY8jVeh9Q39Nxnsw6R6UOC+XCLcNzgcQ60QGPyk9vFASoF+IERogqpUtP5T4gFkhPYVYj\n",
       "DnibW6TIUBRl8Xtq6Gpu4WWcis/au5u8jbYrFJnuTNeqXu52JY5xZY5Wrbr61k3gWGDTgUSlpOgr\n",
       "K47WCo6+r4qosrRT4fVurYdnuHpajVObmQd6hQn/dR9V2rrhI2ygBwIoq4hhmYiicog1bIuyUd+x\n",
       "73CjCP1To42FPrIRnflM+ApF16gpTUbFYgQyWfSfpLSWSyYWIOlSsauQX1tdAlV+zfPBfxDVvSqV\n",
       "FH1lxdFawdF3VRE1v526Cxx3np7h6mldradCVx1MChDZPmXRjNYMjm7FSYkKxR5QBR007XCKVtd0\n",
       "QMN+njfi1Ctbc+G0bARltvP9+6Oj5u4fL3mj6vPky2UfKo6WC46+tuJoreDo26qIGn95sgDiTO/L\n",
       "KZyIvyqEgXKcWfKCkXUwUGjeP7HCpPoULunIHfsywLUnmCitB1ZBxzIx4BSpruks81/BKWUZtno4\n",
       "jjcun8b2x+ti1ayydVe4LlQcLRccfXHF0UrB0bdVETW+jMSv6S74agonfWXRP34ETEerQR5m4YhG\n",
       "D4TtM5oOjoG5pPXMTcqRZWLAKVbDKRJtPvtF9WZYQ8+fx6lqndGgT2UrjpYLjr6w4mil4Oi7qoha\n",
       "FzRbMzjVlsIZkl3hK13umckdrS7m0oTvpuzWfcbIFsEfV2z6BVC3a8ajPkVrun+vM/ouih7HHry0\n",
       "4lSu4mi54OgLK45WC46+qYqo8/BjmLFCp4astSjZ9d045Wh1y31G4U1hSGuz+n7T8eALzPqnmGal\n",
       "8gKMau2bu/n0XwwPzBZjtEyM/VOVpUTw9rrtVCDeceoRbaxp2z4qZF9xtFxw9MUVR6sFR99URdSJ\n",
       "DpkyOOVTOBOJTQQ2TsJxUHKSgf6zxPQMTnla7Sq3hiOT4s2SV9LKw22sB1Bpxm1GORMqY8NFVJu/\n",
       "dKGFMWbihfW+uObIW3BKmbhzx6mHkFeJoPIra/uKo+WCo80VRws1SAsVR+sFR99SRTTaEYQeccrn\n",
       "g8YSmwhsYrHalYiTDPSfJaYP43rusrKmnAoXNlsqh1vB1UqfIsNtkFGPMlF1PRSthOlHwuGb/ktF\n",
       "c1tnoGViwCm01Mw+9macmunwQe2P41Rtxc+/5vYVR8sFR9srjh4PGiqO1gqOvqmKaFjDpOKIUyEf\n",
       "NJLYRGDjZFc6mdH5vPQfJqarBI79fQ431B5g4FDD36XNLuWCAcxRwcQ+AJUwpKq9AGjgFTcuMZEw\n",
       "MYpHr3hK1/j8W3BKMYF1nHpIq0UietdyueJoseDo7RVHX1Zw9IYqopmLSCQ2EtgoPZRGgRv5vPSf\n",
       "JKYrw0+c0npUks7u0qUtEyNUMo++vm6UMLE5v29MaHoLTo0cIdRx6kMUKm/llCuOlgqO3l9x9GWp\n",
       "OzdUEZ0qEhsJbJLs6lOu8nnpP0pMj3bnydB6dDqd3aVLJb82HCR6rVXPtqmLalcARBImNu+XkObR\n",
       "9/W+r8MpFUNUe+jThzSTiVUuOHp/xdHXFRz9eRXR6VRijwIbW3bG1X3MSz9JTM/kpRcS07OLiZ7W\n",
       "fd7R2V1il9iu9BHzBEF9AwVC3MYoeiZ6nEKgzf3QcepbcYou5Zekr5rXVHG0gkP3VBx9YcHRn1cR\n",
       "nU4l9iiwJPLVWig55KWfJKZn8tILielZnPK07uMnzm6A+Ee2w1OEDPt5ltm6plN0nPo+nPJ7+w21\n",
       "l+hDKo6+tuDoj6uITlcENkoPPUKJt/vyiemw9gNRYno+OMvT2pje84+F3A6ZqYGJjfuj78PpO059\n",
       "IU5pz25JuPjQ2wU7+oLAJid3Pjefl36SmJ6b7DQxHf7m/jIFLayt3sx4SB79MU4hxtifKl55K0UP\n",
       "ZU8lLKfX77vEzPP6fWWzaRKX5Bxd+AE6PXG7PrGu1oDHRZmgif9MSZA1AfKHTYKoHKZ/qt7brRQ9\n",
       "lT2fFdL2Vxt9FZiQj769LHXzz0qG5vzh/5oawJoUd40PAAAAAElFTkSuQmCC\n",
       "\" style=\"display:inline;vertical-align:middle;\" /></a></dd>"
      ],
      "text/plain": [
       "<IPython.core.display.HTML object>"
      ]
     },
     "metadata": {},
     "output_type": "display_data"
    },
    {
     "data": {
      "text/html": [
       "<dt><a class=\"ProveItLink\" href=\"../linear_algebra/inner_products/_theory_nbs_/axioms.ipynb#ortho_proj_def\">proveit.linear_algebra.inner_products.ortho_proj_def</a></dt><dd><a class=\"ProveItLink\" href=\"../linear_algebra/inner_products/__pv_it/axioms/8ab1e609191156a9e1ae87a5fc2084a8aeae4db50/expr.ipynb\"><img src=\"data:image/png;base64,iVBORw0KGgoAAAANSUhEUgAAA6kAAABYCAMAAAAgJ0GgAAAAQlBMVEX///8AAAAAAAAAAAAAAAAA\n",
       "AAAAAAAAAAAAAAAAAAAAAAAAAAAAAAAAAAAAAAAAAAAAAAAAAAAAAAAAAAAAAAAAAACGKEuzAAAA\n",
       "FXRSTlMAq1RmmUTNIjK7EInv3XYgpbnDMEDI1t8AAAAACXBIWXMAAA7EAAAOxAGVKw4bAAAVmklE\n",
       "QVR42u1d24KEKq4VRJGL7Dn7DP//qyMCAgoatavK6iYPXa0iBmWREELSNH+EBj0T+tTz+66pVOmI\n",
       "6MhXZ0bbcf/OKxi0aCf6FF4Iqr2wEoDEuqOYXtuiP4VU+sGnY8l3R9Jnju9Xb6AVcNdJtpmTbUXq\n",
       "e4hnX/9CCj/xjZ3nqlPpb6UL1OU6akXqmwj1uwJXOGgwrRlCrCccgCNECMojYuglyQg8NM140FQ9\n",
       "K48aIpolOa4o6f3knvYrvtqJYTnxwEcte4Nr5apWbUXc9c7CKlI/9+y96TEPMNb2XyaPoEr7GaRq\n",
       "HFZQc1YIlGdjPk1lcdxA4SU5rggZOqmL4w3Ss+DFzN3nsdzzirjLkw6NK1I/RP2uSCVt4NEKSazV\n",
       "0cd0BbBOoEqdLGUofxdyn10UR40VV8xU2I9uHGkzb5VFj52qJulvpQvExorUzxDeFamNDBqtw50q\n",
       "Q8lBf7mnT76qAiF10CPAsDFzPt8gmWtGRlD202vl0dO8NrDWCtxYNVQTOKSrqorUz4jUXWDgIHCZ\n",
       "9r/DAfRJAHcbtxGE1E73x6NLKMLduJGdbLeaxEBt+jb9bVYTVzZUJB4LVVmR+pAhMlF+g/zUDHKD\n",
       "mR0uOOime7peKix6ipEeEcIzUqlSzt7EiVKki5EqpomQvye+3ohR4i1XnVMJ8lxJjWLx6ZcD02XB\n",
       "gYXpb53BApQwXJH6AUJ6t3P2q2kqFWP4TmSMCAWVE4d7zPgrCaYGvaOXqca+a1s8jOYvUwtSubJL\n",
       "Ru6e6LoRn3jD1SS2XffJvkCRArjt01/LpJRLI2SF6jFtlJ6K1DcQ12z3esCl0kgIAXCj2iB1HK0x\n",
       "aEGqXCxAo7DFBoPUcarfL5O6e6Lr5ha85mpAUjNDUhbGoUS3xzL9ndvFeCJfcYXi4eA+VKS+nVq9\n",
       "3zNlt56mAj5kGxQlM/z2TtwGmerV1cE93cw1aTJm2Hvi6zFSF65wqxE2pLPmXEJRYi8bdPprvD5W\n",
       "k+bNiUpr6tYmxYrUd5gH9pXfCKkAQ4//bihVPntSQqq3OxuQrpBKLNK7eIq8RarXeged82Ygg1uo\n",
       "WfqYTH+N0o2Sbkd7UaF4qP7KitT3K78HSyJBz8yszeTnqZP6u+B8rt13foNUkZepZINUkchUUtB+\n",
       "vcm3zb0/YZS0Mb6Cx/TX3hu3YqzWX8jwPlSkvl35PRAhTC3TVPBGH+pVUbcC65Hab5DaWMfC2X6b\n",
       "Q2p8PUbqwpU3+RLfVyINQXWbFrYs/XVHQXPuq/s+gNYr6hWp7zAOHOBvWc/oT3yNweq5auwSrVf0\n",
       "Fql9QOogBw/LIVGv3T3R9RipC1fe38E4W/DB6Ai+Es78TZF+71d3SNrTkH8JpG7ThfXWviL1zST1\n",
       "IehsFzbu+Sf2oChGiJsAdkhLZCGGkODNYI4HzPRsuqFECAMUinqtlyljuMdfT5E6eO2VMd+OwS7o\n",
       "jNaLf2BSzyAfpmrHRWa6oWP59ah2HY+yikLYRDW1blSkfn6aOnXqB03cgp3ac+V978kER9t58I6F\n",
       "jI7pb7iw1Z0r7VCfqmIVqS8nrA+lyFO82RWZZrLDMVd7826/24DUbW/3iKwcSipSX//Gj9ck2DOM\n",
       "LEzG3r5FrviOiu6V26rk3qU2HeErUt+gxRx75PBn9GsqVOzCW+JKAcYcVg28t7urrEh9K0kNmIXS\n",
       "R0YzOc+VoulvpcvE02iEFakvJ62rDaXSpY4zVKS+Uy79pUCtlX6QxmTaVJH6asKQ8AqBSA3q93v1\n",
       "2XPb/frE+FuR+mpSYK/7uXRfO/TvJXXKcIiSRYOK1FeT0Cc+T6efZ4lRP+BRT+HX6LWq1Vf4/bMz\n",
       "m4hIkpilIvXVhE4kwjkI3/0ZEvf9dPcifK+vnY3pvZQXX+BPzOWJPfQi0cYqUl8+jGq4AxJ5ou5r\n",
       "EBAGG3xhLNmLO443UuZsTG9f/huQepTzZIXUsSL1jdTDkTro4aFIDftfLmxZ24s7zjNj09kwS658\n",
       "glTx1PgvI3zcVonrQ0Xqyz+NBs9N+kfGLDEIWIL0XnES3Is7nvMOPusF7crHSOXjUy1zGN4J22R9\n",
       "ryL11STBSMWaPhWpi5y7Iqv24o5nY6jJk0LVlo+Rqlr0VF24ZxWpT0Uq1EQyPtOpfUZA68NtX5Ai\n",
       "O3HHcba+/uRM1ZaPkTpG8YUfJ1QHcMmK1PcitYWyh5+L1MaG65UXQpXtxR3317hSiA/CSWxxOAvI\n",
       "lY+QasxUj40BI8llpN4z7H0dUt/cXA1F6lOTTlsEkFkSsAsuzHtxx/01YnJMqoZYY2cU07sQ7y1X\n",
       "PkKqQSl+agYrAv3O3Qaptwx734fUNzdXA0Ul1+TJSKXI/ylJAKbNTjck0Uq724s77q611PRE3iAL\n",
       "XCyPZnC58gGp1v41PnRjRAdXsuK9HQaptwx7X0T//Oef8B3f1tz/+/f/gfaD4clIncXpdslyUIix\n",
       "LlLryGb024s77q6ZlkdrycNh4Klc+cCcHSvUUz2oJXCy/8+//0ZH//1Pc8+w94Xz1Pc2FypT2VMt\n",
       "Bg4BWGXsSYREw4uaRIDYCrK9uOPhWiMDsDoJ6e/r8gtS3RotHx/6QgnQXrKVqXcMe9+I1Pc2F4pU\n",
       "zZ6N1Ol1tQ4cShGqjPBcuRNJkgHqbtzxoBnPHs/cBVQbj+apufILUv0ITB4qeDBQ/c0g9YZh7xuR\n",
       "+t7mApHaafFwpArslBFFG8SaHm+it6isAr8Xd9xe45P+jIxcdK+gPRi08uUXpHqc04dKHgr0BM8h\n",
       "9bph7yuR+tbmApFKdPdwpFKf9qmdETa9w24lG0R2AWIv7ri9hvXAyYS8zgtDcSSUcuU9n+2iFj81\n",
       "p7KUl5F6aNh7gHL/g0g931wMmFmoW0jtHxvDZZFVkVHXvsm2n5M1+hyLgqtcI/bijttrJtNyg0m7\n",
       "ZMQ5GLTy5T2fIWbb8FCbEoN96xxSY8MeJf0cGD3e5ZC3wHMhx2liInothqY1uTiNVYSycQ9rSikx\n",
       "XFD0EoVoxY+wHYYWuN8gNbFjdkwTQRDKYBH3zmwxLyxkqk5PkTtI1U+1f+T2qAxy3heafkczR80K\n",
       "1b2No7lr9OSrcOXF12TRULAukUVqMOy1wqelTka2xAK/mObZLJeU9OMX1U2UJWH9URbFk6CbSE34\n",
       "4SwwWuB+jdTEjtlae8SYNm22SPDRjvkoX/XqVCeuI5U+1qC0QQCVc/IbsppAzDvZskJ1z+M+d+1s\n",
       "TG9X/nuQimFL51mkLoY9Azhuc87LdBgIFvhgmo+QaqXsDlJtKVv0PlIjfqLIsiXu10iN7JgTMzYT\n",
       "k06bNn35CXh4PjS+EpmqN6ey27VgSMVP9XvIIICoTihl2kr9TJCTOVcNRzrns7sX+3d77ewyty//\n",
       "PUgdYMNyHqmLYa/xC8mErISYB2pkmg9InRVfh1TZKmX3Covpv4b2PSakQ1pMNfTzLIIaHblVwpSi\n",
       "onVeQ0ooo4PONzUKt6ItIzXwQ8W6fRnu10iNm2u34c9LAPGqAw2vaSxXnZzKLtDCkKq0+hqkJhMg\n",
       "M+04gshe3PHttbMxvX3570Eqh0118kilUT53a/ReqY+LBT5+tWwUEzHpFV+LVAOIeZNEj2fVpJN4\n",
       "gpOVO3TU4wzMuZSJ72Vyj0nzsgWZrXj2JqNJJnGh2aZr++0YKyBkuV8jNWrujEg6C9ak14jlYLH2\n",
       "Z6pOTmVdTWFIJfqxXififoSivQjf62tnY3q78mqU35PtERZYNo/UYNjjvdZyolVliwU+Ns1H2i+P\n",
       "ZOrMTGflTcemXx4pjdNMcM6U7UvR6U2z1umRlLubBk3ShGJrpGb5KXK/Rmpkx2ylUso+K6kqhDTq\n",
       "WKnq1amOXUYq0zVP99+hEWT8LSA17lumQ7fpsnGwwMem+R2kTh29le1EnTth/3KvMi6ljNI7KrP0\n",
       "74Bjb+qYTlYYVyAI/HB0zP0WqYFQpExETRvCW8KoXHVyariO1F7X9BB/h2Bf+xCp3RjsLAEYiwU+\n",
       "Ns0DZOpiYppO89bZksao1DgvpHM/L3Q3DXyFCdYU+FnNDnPc7yI1CgcYN83PRocAwEzV6amC9gvR\n",
       "ymRxlMVagzfO7SvYv9Wr+5MNS4JtxwfEfDZe1KC6n0Cq7aO99fOyfTexwEem+TxSDSDm+dus1Cov\n",
       "TXUzDM3MonE6mGWWYtPp6Xc0NiQTC3UqbW+aOz0rITVdESBiyHMPQSqNT4amUc1IO1U7W0vG8otJ\n",
       "npbdvQGTqeWZC/4hhxSCfitQP9qwId5cN6Q77YpRZhCoTxwi1a7lS2WcPQaJNxb4YJoXUk7CTRnP\n",
       "h+kqmUqatQaq2lbZjiyEsf0iLazFSJgFD2ODmtlosTL9XJG2Hea+Ppd2P5ioVtAsUrcrAp1YPB8S\n",
       "7gFIVUxHXuXRqkOHBRu1PXbWxfWL2Twta7V8CFLb37r94tMNa1Hp4AeQ2uwh1dni0Gi9djJVwkzz\n",
       "R2zIc+WBi2wr7gHaL6Bp1qUh82LSU/nFCFh0llcjdZC/1Kn78w1juHRQZI2A+kR3Ko5S96r3MOiX\n",
       "IHX/kVetNtvt0bkXQ+hlpPJXI7X/rfukPt8wHgMyOXgrUl8VaYiik7u8ykhFjAW/39cgNbNBevti\n",
       "2ryWMcKQKl+KVPxbc7i+rmHw155MlOODIlIFyM+l+87YhD+wiHEnNiG/XKSHfJVXI3X8rSL1dQ2D\n",
       "T+8So2R8cBOpuMbQf+80BqI8vBipw28VqS9oGHcBJk5smUgyuEUHN5Ha3s9LM6hWVKRCtSiQ7/1r\n",
       "56nI97ofyV3o3yKgpuFKvSeYRAxY52nFTKH92+Jzrcwf3Jynqtu53kxwP1aRCp3FgGJxvBapS8f4\n",
       "CS92n0YRsuflVNSFkI8RzOZRj1+lfDyR8XEoVrKtisaLLtHBTaSmmXevIJV9qYvqkzMdHyH1Vjjx\n",
       "0PD7GRbDPnpIaEdQeGwhlDWbq7MDSvxFQSkfQRkfF36SSijp/ZhLjS9SXFWSwC0c3FxPJYk2dgWp\n",
       "s99BRSqQWg1ZmpcHSL0VTjx85NsZFqM0iqCdW4BCZvMUH2dWlviu3dmGzaMdIOUjIONjxE9UCSFD\n",
       "5z8S6ldVJXlvw8FNpLJkNnsFqZ1o27YiFfq2NMTHo7y7wiL1Vjhx1MdIvReZfAnIAMsmcSx4XciN\n",
       "mRcfAQKKVNQnnxeQ8vE442PMT6iEmfv6Mda5o6qUTqaXh0iF7ZzqEzxX2++riYI2I5a/nZun3kqL\n",
       "iJIJ4K3I5PLcHOh4NGAuPCGP+nYWqZlYkhIlCIGkfDx0aUr48ZXYjyBZE18LVSX528JB8VkjqCfK\n",
       "pE9UpL6cNOSx5SCiDql3womHdaK7GRZDGkUOvPtQw7aTMZfort8JiZTZU5gsgMFSPh5mfEz4SSrh\n",
       "7nFeksepsXDczfARUqWGdRxekfpOGiFbnFTRGuhtvzfCiYe672ZYDKF4nUElTY/oerSaNUa7cRgf\n",
       "PIV7ZNgcqGhH+90uDSYvrZTyMWHnMONjyk8Se7hzH9I/IFTFY0bCQRGpoAkRTUtVpL6cEMQk3xb9\n",
       "IzxSr4cTj9YN7mZYDHLE7wRM0iO6h9jka65rHWSuoLbhDl9uY0xAanLPemWapqKskPIxZeco42PK\n",
       "TyKD3QR0SR0fVZXYfpaDElIpKI5Sl5oiK1JfTgri+tAVV109Ug/Cie8EOh7WSL2eYXFJJNM5nTxN\n",
       "j2gfhy1wnVcC6Q6GEYeM+cflYyxZlHCPCw0rp3xcsXOU8THlJ86qg6Se3cuXCPhRVck4G+bJ/OzH\n",
       "TvuNqEh9K3WQZRpeLLR4PmTTIvr4xHuBjrugft/NsLgkZyPZdIq2KS4Pm4tqPqCDhgvLow1iq3eR\n",
       "Os2O47hmXTyvKKV8XLOjmxP8RNnocKsRNrQMvFFVyWC8HJSQ2oKcCVdLORWpLycOMv6O+gipubSI\n",
       "Pj7xbqDjjUy9nmFx6bjRur9U26GBm6fa6o4mqrZfY8tjty9TaZ9EF0hkajnlY8LOYcbHhJ84b6TT\n",
       "epcZbFzVOaQS0CLNauGuIvUdJiWQ8ZceIDWEE+9mp1S0crkpBjreIvVyhsVFGQym3zg9om+Luejj\n",
       "tQfjbz7DIrMrqbZb4nFvnjquDMkxUndSPibsHGZ8TPiJ80Y6k28bMjGMF+epPQR0600bFamvJwEz\n",
       "KbVHSPXhxLlqNJ8jyCXrFsVAx3Rt+72eYTGkWGQ2ykWcHnHpl/OSpF2XPF5QtR7tToV2+RjzMnUT\n",
       "pDVqWDnlY8rOYcbHlJ+owR6ARKcv3F5LjNBHtl+QQQmvJrMVqe+YqAIMCLRkdwpI9eHEKTejuWJJ\n",
       "fOKdQMdcb1zfr2ZYDCsTs1KbpEcMU22zm7pz/fXYvcJILW6tYX5NJIvUbTrUqGHllI8pO4cZH1N+\n",
       "4gY7KdubjBFDWlXBRb+A1AEURGHtcViR+gYCLXTL8QipIZy4yTuA1CorYjnQcQDd3QyLUdIh80+a\n",
       "HnH0kfk4Espr88figxOhPDtOI8j7KA3lhu2kfEzZOcz4mPITNZgx/zGHwXoFh6qGWKCHgwJSFWia\n",
       "uu40FalvIJAFQRQ8f3O73kwfmUb9JCviTqDjnm2QGr2VUxkWQxrFjLCMsx4IO2TgU4mxfD7GvEzd\n",
       "a1izy+vCzumMj6ESH/yH6NHu1omqSmLERI6I+S/KJKizoorUD6i/AHWHFkz3WaQONuVAkhWxHOiY\n",
       "yBJST2dYDH7pmQmoCKjgNsrqyXRQ3qUe6qFP9vu85TVm53TGxx2f/qgqkTh+LAd5pHLgaiquSP2A\n",
       "+gsZRfsejNRJ4WR9E8UnbnYDHS+GzB/IsBiwt9lAxt0oYXKXIOfJd8q3eAE/fNfbvp/VzGvEzqXt\n",
       "Q4XBJq6Kxd8oHOSR2sI20simIvX9pCCuv22evQxSuUu6Fccn3gt0zJfx+X6GxWAkbtfi2x/jVpHt\n",
       "susZTECRyg/2ec68RuyczviYNLgM4Lzpt4DUfgT1VVGR+gmCKDw8ryNnkIpU050SVowsmtn9OEpL\n",
       "GkVAm05FlvH5GE8kWGQEyGv6hIsNLlXV6fxBFqkUFJkFbbSFitS3kIDE0MvPujJI7Xw2EfBcS/7S\n",
       "T/qMhok+f5BFqoC5PaCmIvUTxGGhRBVwnnr+8d3v/KTPaJjE+YMcUjnI51dtu2pF6rtmqgChquSL\n",
       "kJqO+r+JntCw5LPFBzmkEtAyUWaFrCL1TQQK9j6qFyG1kb815fkDGlYSqTmkUpASkBvXK1LfRBjy\n",
       "8C5T6GeQWpMyvk6k9qWDDFIR5GvynNGpIvVdRCBLeRll7ofyp/btL/2qn24YlbRwkEFqC8ohmc0M\n",
       "UJH6Pv0X0qU2zqs/hdQogu3vog83jI+4cJBBKgXp6l0Wzn8LqTN9Ktk8KCcv36x3YsPzD8gN2v/S\n",
       "LFKfbRhr8wfEfDZ+Sf5vNhGMtuP+HaTydqaP2fU7yOBPX2Yhob/VqPTJhvGudHBU+EQp22/b5n9y\n",
       "0+rz3RrG2wAAAABJRU5ErkJggg==\n",
       "\" style=\"display:inline;vertical-align:middle;\" /></a></dd>"
      ],
      "text/plain": [
       "<IPython.core.display.HTML object>"
      ]
     },
     "metadata": {},
     "output_type": "display_data"
    },
    {
     "data": {
      "text/html": [
       "<dt><a class=\"ProveItLink\" href=\"../linear_algebra/vector_sets/_theory_nbs_/axioms.ipynb#span_def\">proveit.linear_algebra.vector_sets.span_def</a></dt><dd><a class=\"ProveItLink\" href=\"../linear_algebra/vector_sets/__pv_it/axioms/4a191e176997ed3758130659208e586be46607e70/expr.ipynb\"><img src=\"data:image/png;base64,iVBORw0KGgoAAAANSUhEUgAAA2oAAABMBAMAAADuGFmOAAAAMFBMVEX///8AAAAAAAAAAAAAAAAA\n",
       "AAAAAAAAAAAAAAAAAAAAAAAAAAAAAAAAAAAAAAAAAAAv3aB7AAAAD3RSTlMAq1RmmUTNIjK7EInv\n",
       "3XZ/CtNrAAAACXBIWXMAAA7EAAAOxAGVKw4bAAAN8klEQVR42u2df4wU5RnHn9tfMzv747aapmot\n",
       "rNVWooBbD9QqlbUc1dZCV61/KKZubU1TauqijQ2CsJKm2kq5swkpR7UMxZBSBBYOMQUlR21LrbGe\n",
       "CVpDubog1Sp6nnpX8S5l+z7vOzM77/zaXXbkZmCfZPfeeWee9515P/P+nO/OAViYWKlUUuCmdVUq\n",
       "79VznPs5nwT2aqUyZPpjUXZjHR05d6n1dkyvi5rrOZ8E1tHxhSHTH4uy+9DtjLsK9R3nfs4nhQWH\n",
       "LP54kFobfgUyLWC+ohbCdjJSaAHzFTURxyQLW7z8RQ3mk8+2Fi+fUesgn3yLl8+oxQcGDpRavHxG\n",
       "LVSEqNzi5TNqQgoWNH51pHoGni22qI3bLHs1PNFQFuLBnhw8RXCXWnVt/KhNbXAw0olV7CIZYq0W\n",
       "chypRYJlgOThJVcr27pg1aqRSbqOsjQHl7aojSO12OfJYOSNtu7blG1dsGrVyA30u70sZFrUxpGa\n",
       "sId8ZaLlIiykY0kMhqfO5o+n+6ndwCpo6mRsIH1EDc6glacA4hQ2AyDBOGwxOLSrCV/S09OThlD/\n",
       "Wy1q40qN2nIoQEJWgwL5Mu0Pzr6YDBsfYhc0km5RG29qQt8OyCI1qcSCsJIEYaP6RSMDb0I/KFNy\n",
       "cbg1yx7/ujZ33qCM1MQ/smCoiMHlBXEvfimRZwhkjiCsog77W9Q80EKiYQsZYMGdSS0IWqg/OZ0c\n",
       "sbGn56TVLviQmvj2NoCb2RCx8j81iMZCUirQCye3+bGu0SG+VfCUESj4ldqpbS1qLWofO7VVpygm\n",
       "abWPqbXV13MJeJ03NneGd+EZekcT9gvZv9Q+XZ/XIfJ5/ebmzlA8k5TTtzxDLdDvW2rBPNdqdHam\n",
       "s5ZXWCKf0WZPMZpSH/d4wrY6UqO/hTjXXHbuin+RmlVOztQWc6w3FWFK3sppPfnE+ps9RZrCfM9Q\n",
       "S2ScqNFHH98zl5274l+kZpWTM7V/cfu2GyufarPcozbNO03k35yo3Y+9ebe57NwV/yI1q5wcqQX7\n",
       "uH0/IB9L9z73qMVlz2D7rhO1CDnPWNqi7FwV/yI1q5wcqcV53c4jBevVkEDePWoR73RstxYcqAXJ\n",
       "eUasys5V8S9Ss8rJkdq7/I1/0RhptMN39HaeTtIa3CWLd1w9OIHEh0pqmW8++LtdutvCsGkxKxo8\n",
       "66FtHLWYd37yGEk5jSGfHxh4zqrsXBX/0jGkRU6O1F7k9yUrldvJaf0ZNmVhciGUh8RprA5j/Qjh\n",
       "DZZNTgjp6pxh02whOFieoyXfp41a5wygvTjOHduoE7VrUHpoUXYhN8W/lJpFTk7UxKOGnevOrmTw\n",
       "FgyMEGrhDyHaB+2EWALr02ISCBaCo2Revk5pIdimtOsTtldxKcyUT9em6u9jUfV5Z3nkmBO1BSjz\n",
       "hfDEL0PkT/qyOy7xL1642h4njdRYTiYr2VBrM5fgctIPZ0EaJtc0j1DrhvYyqX2k4VxwOzrTGicO\n",
       "KvWLbYbAvr4V4Su6rbW3EZ8h76xqPepELSrHcJD/NsA89aaULsdvKv79EmnTJrPVwPDElSAOlJVj\n",
       "Bo88ZJ3ZdIDrhtNwRxZ0U+J1mLSSk3Zz73sCZhCM+pkzy1kZjBgQk9oUHkFq8BFIV32WoyZ+lZ57\n",
       "vMwtK+Bme044al8yf9eFd2C36Z26BjOrwxFFLqj7EyjTIcLDkMzxdzwV/8bIZSwiGyvOXEnHdG+o\n",
       "XUIRrrKu2CnaRYR3krvAUNeUnKhheufE5JDMU9PXtS7DeA5H/UeVujY5J2rUaAsZTbFxlyTrqOFm\n",
       "UHagRprZ38O0ywazaj/CfD3Rr8GWjNOKVv5KDH4g7DSUHRX/4rUQWKFrsMkbqjZncWX1xNzD52gR\n",
       "/hvYUJ9b0WI50aMwvXPLWVQv2lF71zDFf4ncZUO0XzsKw6TAH1CoRcvKCHBD7mzUi2PJS6Bt4i7J\n",
       "fJ7k3KSVpBEuSdOfgb3A7k8IdnunrunaGgtq2+bT4ppRNpQdFf8KI6RXB3iNxn8AgSL0DkJy96ci\n",
       "Z4EgPHrldlnonQ1w5GAB4w9dkYEEOa49swiB6SZnjBrmFJy14rCS3qTPLYnB9s59nTlLao8YruLl\n",
       "NKwno5G9sKlEqCWPnh9h1OhoHald9POvw/WM2pa8tonL57hJv6T/6gKBo4/1hdPC5jyMqiP/kId+\n",
       "2hHtd6K2GK86Obaoz1B2VPwLx+Buco3sFpxD+vZIOpTZDtcKr+7LERbJfFspXohlQyUSP70klOEe\n",
       "ZHQ37S8CWQM1zGndLZl4gaU3KfbbeQ517VnDVaS+ufWTpAKfPki+7z/01tP/mbhn2RpyjmK/UuaP\n",
       "DQZmpRm1xH5tU1jNNiGBGe1TAwMySHPL511M2oxyWFtdSXhIMBQbcqLWVkSw3fCcseyo+Pfb2CiG\n",
       "WRO7NLcMuiC8+kO4F8SDx1BSOiIUopktBUEm8auGLwC4Cdu2J5+ivUa3gRrmdO/r0C6z9CZB9k17\n",
       "apK1tDGSNUW9wq+N0L7pAm3zR/Bj/aZ2lNZ8x4uhbFFJ4T7vQIPgiBM1amTiU12K0N/xc5IkOvj9\n",
       "np5fItoSzOjouHGIdhxdSO0ZOPJO+VZyHInP3VTJwTkk3MMWo0QjNWoT4BYlvUmwMWJPTTxWL7Vp\n",
       "FtS0lk5Y9eDX+NmFcidroaWQWKZSm+UharoCsKNGirW67KenNhO7BpHtCo+UCSsQRulQJEHrWiIT\n",
       "fWupjAxBlIN5+Bnt/5KjVi0ktb9Cp8jSmwThqfbztcD7lteSME/5ogVlZYNh2jFWBknrpOP42qnq\n",
       "ZnW5SwtdB8leZXVF8NBgRN/Y2FBLrtkJk8csx99ZNnejdkCGaEYq/xo2t+fIpLlLTnZvkROD0ZJU\n",
       "JvGHsmR0nmDu2NwmyxbUyDDwlUksPTKzO2i/NhK0HLCHJ+4xPT3CXlLgGSfBaRPNxPHxDOPvHXuv\n",
       "Zl2zXVdiP41YWKQb55HPrkGI7S6H5u0qQdfFhyE567IfYhz5BOZeUcALf3NMDrxQ4sqgSi2cgiMZ\n",
       "mp74csE0e9DlnKz/gfoS7L5Oa66IFqH/G16CBh8dPzXldv5Dz0rzccutKkO1wdsAVi2kQ3r8rw5H\n",
       "4RS3vzRLzWZN2CryaovQ8ehGQqc8tYGPhZow0WpOGlOHosFcU9Tahk51agc+nrpmbdoaNLSo+Yea\n",
       "ZVvqSgtJlaqCc/2vK6ruvY0dixd5l3vD0OZbyBVXnGhqMfNJUKXqIccEwuaZWcMOtnaoxn4UwVI1\n",
       "rEdGI2IqeqKpJU3zNfYspcb67msmr0YdbK1WSkwEG3VNerKnWWrR4glvIc2zbLrmtL5GChHjrd6w\n",
       "g62tr3nEfHBDLabacLPUErJ0oqkFRiyp1VopDGaVlk99ptiwg6kNrTcl04pokytaY81SC/d2nGhq\n",
       "4geW1PpqJaFodgNqf9Wwg6lhrDslKoJ1jVodq8feG0PCsBU1Kll1tO/wZd2wgy212ilRkZ9r1HTL\n",
       "5z6i9rIVNfqwecHuJYbGRCdH3cqXdcMOttSsU+K0svhY3TVquoVYH1E727gTn6Xg3RzeC2v4IYRe\n",
       "jnoJX9YNO9hSs06J08oG8/pnRk1a25Afqc00Du4WK5LVxzNASnydrsFiclSJlv9kvqw1B07Oyhw2\n",
       "bj3L7GBLrZo1N5hh0lnl0D7TM6Pjt3i3H6l1pfl9VKmK4sdvAPxTFatS+Y4iR13xDnXDqjQwcOD5\n",
       "gYGU3kGRs+odshSBwcFQvy1S0ppZTIppZdXTx/Jce5s7Zba07EdqRhUrVapi0T0L0ogmVt3HdlJ5\n",
       "0RT8uoWvIZqDKmfVOYzA0qLJwbauVbNWjSUVrzpS2dAOlxRDOhWrj6iFjB0ErjqQZko6Rs+b++Uy\n",
       "laMyalNM7Rpz4OWs1OFySm1K/S2kkhIVB2pGtbIsCs/peH5rzOn1VfsM+JFaeMRiDBktg/Q+tOXP\n",
       "11NjclSl/L/Il3XVQTe6Ux3gabODLTUtJSoOVPcyrawShSLYWGOjEfqSbU6vr9oxX1JT2zKOGo6t\n",
       "fwNTslk9NSZHVahdy5d11UH3NgjVQdxvdtDErqwHtEiJigPVpJhWVonCyUGDI/9Oulao1+urpEb9\n",
       "Sc04iMTyQMnq2iMPTChydY3JURm1l/iyrjoIq00O9N28BgdN7KreNeaUJqh9IWhaWRaFIlhKbeOV\n",
       "T6oH6IJV0yKVty7o9frqImLKn9QMv/Bl5fGKVl/M9zRSE/oNDZ7mQOWsnAlZoWB2sF3R0lJCcaDh\n",
       "IBZ1n3KW0j+0C9EFdZN8LXKDctkzTLk7/sLXw9SCoxbUptWgFsoY1nxVByZn5Wzhgz+RzQ6moYIp\n",
       "JSoO5PmzKPVtDKGs2KfUbRq8/jDf/tFIauwl25xeX7GHwZ/U6FsP9Es8eGWqXI+KVXlbdOdui9c2\n",
       "qA5x839RfaFSaeQ9D2pKTBzIk6VRVASL07d4LpmCZfvZfIEE+yQ+axrJFmboS7Y5vb6S4qhfqS3n\n",
       "veiqg1RDHvwrU2vUqIOt1UqJYUU17JZC9HKZvc2XBgsiX5Vo5LQbLlRfss3p9asrMf6kljQUE1Wq\n",
       "LnFecjVn1LCDrS2psR9FsFQNGy903UCpbVSC0Vz1Fdtq5NTuhPqSbU6vz8z5jUxeplbv2888Z+FZ\n",
       "U3vpm7OXp1nwGgyyV2zvVSPbivcoL9nm9foshbx/qUXS4GPDFpJdQEwuq0HQIhPw2s22L9n+qdw4\n",
       "Nc/8b3o/v9VzxXNpCLPCv7PSrwaxHrHQWrjQ9k1Ckv41bHX+b3qpw+3/EL+uo77/Te9+zuNrQatg\n",
       "sMFESJlk+D//B+Ve3U0+fTqUAAAAAElFTkSuQmCC\n",
       "\" style=\"display:inline;vertical-align:middle;\" /></a></dd>"
      ],
      "text/plain": [
       "<IPython.core.display.HTML object>"
      ]
     },
     "metadata": {},
     "output_type": "display_data"
    },
    {
     "data": {
      "text/html": [
       "<dt><a class=\"ProveItLink\" href=\"../linear_algebra/vector_sets/_theory_nbs_/axioms.ipynb#spanning_set_def\">proveit.linear_algebra.vector_sets.spanning_set_def</a></dt><dd><a class=\"ProveItLink\" href=\"../linear_algebra/vector_sets/__pv_it/axioms/d2606354d98d645c217f1a1a3d5e474d3d3139d10/expr.ipynb\"><img src=\"data:image/png;base64,iVBORw0KGgoAAAANSUhEUgAAA9gAAAAzBAMAAACeb72eAAAAMFBMVEX///8AAAAAAAAAAAAAAAAA\n",
       "AAAAAAAAAAAAAAAAAAAAAAAAAAAAAAAAAAAAAAAAAAAv3aB7AAAAD3RSTlMAq1RmmUTNIjK7EInv\n",
       "3XZ/CtNrAAAACXBIWXMAAA7EAAAOxAGVKw4bAAAMRUlEQVR42u1ce3BUVxn/sq979252s8DYGSqS\n",
       "VVAy8lol0NGpsJBgsZW6UP0D0oGUDqMiI5fKlEEeCZ2O1hZCWoeBOAoXQQYSgQ2F1hKLi8igYCUV\n",
       "wiBjYCmI5WHICGkgDK7ndV97z012myUDzT0z5+w5373nO993fve8vu/eBeCE+vp6yGfIkl++m3UC\n",
       "7VKpvl6x793z6Vt5bTJLfvlu1gmwOX0HwJ9O17IsJ7TkucmWvN7mhFzCV3DirtWyDtgO2A7YDtj3\n",
       "H+wwToY5OPULsKfi5LsOTv0C7NUoCrUOTv0CbB86FQYiDk79Amx3FAHuwNRPduPvtbYed2DqJ2BP\n",
       "A/iFA1M/AXsxCOGcG/kamgxGbXTQfdjA9iuBeE4N1AxeD4EkwHIH3IcObFcqt/2ZZxqu1AWQcMB9\n",
       "6MCGyokoaXvikszKhqwedOJFnAgd4JYdcB8+sPcuAAjJg33ssG3I6kEnStQA8z/4kYPtQwj2CrQ/\n",
       "c8MmEQSyKyfZmZfM6zghkuCNkp/nnFm8J7B5XoeWPDsjsuSng11QjdNOgJfOUgLKJqX2jPs7Vdi/\n",
       "X1f3BsD0kOJg2z3YPK9DS56dEVnyy5gAxKQAcFbLymLSer30mZEoQ0f0pJkOtD2AzfM6tOTZGZEl\n",
       "PzPYKwKVHgJ2A8v64yAlUIkkjDimNgiqBWZdzIG2B7B5XoeWPDsjsuRnBtvzr4NXCdhrIjSLzlfi\n",
       "H2GNLB5FCSMWVL+Ibl1GZv2gM4v3BDbP69CSZ2dElvx4+zg8jdNnJKCk0GFau0CJQbg4G23H36lb\n",
       "78CazW6c43XAvZ5PZ0SW/Dhg1xyPgJeO2EXpZoDZ6gVG3AIjow6g2YPN8TrgXv+4zogRaiaVFb9E\n",
       "zyc0tyEf5RGdkDXY1OvgLZ4Cvj8Zep2Q3f9MgOsvZEWEGXfisPacatFo+x3/UOuOq6w8ZhRtnBux\n",
       "+3i8d4IFbOZ1uA5QoRh6nZJ/j/bQCFXxQl0cjmOrFbtjGnj4fqktGitvwoRihnNDOLUfHg87YPcx\n",
       "2Mzr8DqE4sZep+SxCgTQTzke3DeA5ElIMjOJJUzVWS0AKz+2Eg9eD58NKB7FAbuPwaZeB7gpHDD3\n",
       "OiFXxeExNKDJUlkUhRIITEzBtQvycwrIy05eexKWlyJcEQHRQ8PeBGjWWe3l8KOHKuykGpaKBWBf\n",
       "+anyOA9smcXfxHulqTAi750nW2S0NJq7mChK3+mdXC/IBpFkW7Cx1wHEzsdT5l4n5KKUgIDeSTFq\n",
       "RuNwHpQFYp7EyntTURW4DJ+Go4AJiF4Bq0Co1FkNt/Jzl9VcYk6qks+vCtiu2aEIi/N7eXZene83\n",
       "XkK6rWAOi5nhg5yZ4hqXZ/dOMHGwoos0xxZs7HWA0N3lSXOvE7IvjBF5hj5/HWJEbIdZe2RBgZri\n",
       "lJiEovhS+Dkgwg5EXzcFLdS1OqtZVn5bn40WytRJVRL4dYUt2CNZHNtrO8nrGWWpvDxia2lbYTrG\n",
       "bSuf4rHcMhJCi+5EQDx/isx3IevBz5WAy+k3ANbei2XZNKpBvPG9C/4waCIZxMoAm3gd/LVw3Nzr\n",
       "hOxpvorSCXV1deiJrguA+/C48XMRRQGxHYFdGA0dPAeIgOnezR3gCuusfmbl9+PLUKRQJ1UJxK7Y\n",
       "gS1V0gjv9nokZnLYVQ2jK+1unmuURjoDrtOZB0Qs1R5cfwbblCywMNmO7voIWwLC2Ta9HZuMmnur\n",
       "KeGwwCIWz8WJFuQbinWIuTvwtPUa64s5CGK0jitkd9ZMRvZJ2KRUKYT+KkwAsVZnNZwzZIfCs8xJ\n",
       "VQINPrtztidK430Aex/SyRZsydR5CPkJbE2NGSUrxPMWRrKURXMoQ/Gv+OGGbJsuyx/YpRaxeGCv\n",
       "k6EwYQVHJF9M++ljEDwGaNLe7U9IqQ50aha74IrUBedSmIDow8FPNmgqqzYO2H+GcpE6qUrAO8bO\n",
       "glbIYh7BDv2qlQzTH6CYnX/Hh8T0s8oxo2Q+9GCH8LRXqNBoDvhRWITih5kXbJtO5g9sVSRdLA7Y\n",
       "oc0HYNRdzraYuBgF+tKmC+kcOJiCpjaY2tQE4s0xMbg07ieEgOjDL74NsEFntcGKotAOZ0qoJW08\n",
       "wAU7sL/AYv7A9v6Qaf9L2WCG63bX7T+q2el0fxqWqqCTvdnoi9JoXoDx4C2WiXnCHOyaJjXyBLYq\n",
       "ki5W7m+qNNTVWc9Amf5lEir0ObHWyg+tY9eixEklnpYtE51221MsEqiktkdf22uYas1FTth9YUdT\n",
       "JAPsF9UnfexdpIh34Zvlg1AXtDUp4sIn2oYCTYWFYZqBGY0TR7vS+3GFJddiruL3B0LNxMtMqkAH\n",
       "MzIEwjSaggeD/Ie4dRa3aZrVIFCZJLcUe1CVcFBF0sXK02tJYjuH6JGtuUx+dk4q7bbnWYSvYz5w\n",
       "ITXd0IC5yLPAhoZ6tHFynf5or02E0un5aJY7ArtiMEr2VEJwIF53aOoL0wxaoA574Ub6oziIR9H5\n",
       "MhjDj26QSeW+iY3CQFdgugpPb8XhfXW4w6Qonrkyrtg0TWt4KjMltxR7UDWUNIikbw7yBPbiuzyq\n",
       "ZpoZn7NpTLvt7ywKh1HyGExSBoHE9kqs2ND4qB0Xt+zuKtBmsSr64Osbo61D0lGMqqsD9bi3E/xJ\n",
       "vKNkaZhmCprhM+iZ/NKJmxjnoghKvMcgxKTy3mXvp7uSNJpCEDc4NyFwXAf8pmkNfOpjkm+tNCoi\n",
       "NQ1QslJV+K9BJF2s+/rCobajVT4+2EdoFB7BA6iajO+a/7BrtBgD29Et0lGiivMI7krxPTS8/sFI\n",
       "a9rBh4Yq2npKFZ34oFiUUtMwzVCwUbUTsA7Bk0Bgw/lNMpNMusNMxXhqs0xvhVjmPbUFXNl4TZMa\n",
       "i+drkottzUZFPGA/us2qbpmni6SL9cC/XcrAhpep/etvOBmt3YaLHVBVbcunMGXYtsw37x/QOPB2\n",
       "4B6HOyBN/hwfbG8XnCSbs7nxsWXjxlVjsBvO32JSwT06i4M3SaMV7KLm8VaxbJomNcRvKJrkrmaj\n",
       "IkVx4TZkpepbcV0kby9Gtngx0Zdgq9M4tX+hCa/eADYpfrU7sOfKkkINs5oNTus/rPVtNrxGxUU+\n",
       "2NLkxig5dhVVr8MTQzAWEBSYVM2kOt/AttHNKjKGlZlMysEutb8MV2yapjX8YVVyA9hEEaU7sA2q\n",
       "EhucKpLOI3ewV0NtX4K9iUW8l5bWFySx6WU0XRnUIr6kcNeQnfEhEKCGWSA+WjCe+VvI+Q8vnLfh\n",
       "FnpwfsoD24VHZxAlVVCIQIj7YgFXCvDqSKTazDoDd6E7s2P8eKz57/DV4zVNa+C9NJWcAKUrQi5J\n",
       "Vm5KpqqBpEEkXazcwd7Yt9N4I4sYUdftbUlvhICNrZBqUTxLjZLEdokTrTT21W/CTGqY1Y9e2gcl\n",
       "pyOwHS3DR2FXAvV46PYIH+lxnwo5yXi/t1SB4DyQngfxCATkQGXAdQz8MpPqW3H9lOXJnPLIocfT\n",
       "wVHPpmlaA4NNJSdg64oArFU4WpKMSVVy9FJF0sXKHeyzoPQl2GtZJCP76dTwL7M1u1XRissUUsS7\n",
       "ZZacwpmzANvaXGURapjVwZYGM6dS+NuNn0LYD2pD6eoPrr77YfGhlzYfEmk65NAOkoFF6XupAu9T\n",
       "AxCqS55+G2DAAe/Btv2qVKotEo/9YKb9QcR97uY5PPhNsxoYKiY5BtugCP4oBhcNWsZoX5hVJWCr\n",
       "Iuli5Q52xbhoX4IdrKbRaEHDYLu0R06ICbKhqIUvmgyzBg7ed1pPG0yhse4dSBHphXPcK0HjTmEl\n",
       "i+ZwpgcrbIxbw2BBI+utrsgSWGosancpGaoSDistYj3wu3E8MMjgyABbe1EGlr3ysmIoaiFhNsza\n",
       "GVx7AHuWbc+YhmwZi+ZQmjPYpRywdUU2vvIk71tkXXmmKuFQZhHrwf+wbwOL1zXK8kUHAXZrxRPp\n",
       "tLGobdBSZsMstcFxBmj3f+ywC43fefxLusGffODC+cjF3/13w5ymcY2QdlYS3rqbMihSmE63G4q6\n",
       "pRQyVMVHblUkg1gPPtg7Wawym4YzVLb2QMiC/mFeQ97iQ90iIjW17bM52e00Y8RBVur24MJrGtcg\n",
       "9i9bRUJWRhblfxvVRTKI9eCDLaRYnBzpVcNCYyTPqgh6J/+bxcywKmemuMaSgb0TbPlAg0gGsXoE\n",
       "+2Se/+U9S34nnT+Xz3eor7+C/1x+dy3LcoLz5/KflGD+c/n/A1GCwXFyadDhAAAAAElFTkSuQmCC\n",
       "\" style=\"display:inline;vertical-align:middle;\" /></a></dd>"
      ],
      "text/plain": [
       "<IPython.core.display.HTML object>"
      ]
     },
     "metadata": {},
     "output_type": "display_data"
    },
    {
     "data": {
      "text/html": [
       "<dt><a class=\"ProveItLink\" href=\"../linear_algebra/vector_sets/_theory_nbs_/axioms.ipynb#lindep_set_def\">proveit.linear_algebra.vector_sets.lindep_set_def</a></dt><dd><a class=\"ProveItLink\" href=\"../linear_algebra/vector_sets/__pv_it/axioms/673673d3851a313718d95d25112d17832c22ce550/expr.ipynb\"><img src=\"data:image/png;base64,iVBORw0KGgoAAAANSUhEUgAAA40AAABxCAMAAABGMrb0AAAATlBMVEX///8AAAAAAAAAAAAAAAAA\n",
       "AAAAAAAAAAAAAAAAAAAAAAAAAAAAAAAAAAAAAAAAAAAAAAAAAAAAAAAAAAAAAAAAAAAAAAAAAAAA\n",
       "AAAAAADECekxAAAAGXRSTlMAq1RmmUTNIjK7EInv3XYgpUAwucPt5cl8V7D/wwAAAAlwSFlzAAAO\n",
       "xAAADsQBlSsOGwAAFktJREFUeNrtnYmao6oSgEVQEJCz3HMX3v9Fr4AoKFtM7CQzxTfTdisUiPwU\n",
       "a9F1rY5p61D3ue7lSfyCdwb3JW52Zanhr7aSKfDiho+m8cVJ/IJ3BvclzhQkjHTDX20lk376C788\n",
       "iV/wzuC+Cknd+hfQCDSCAxq/iMa9C9ljKFzggMZ30ki2PuQIahMc0PhWGplXjnSCsgUOaHxvv3Hk\n",
       "7ip6KFvggMb30ojX7uIIRQsc0PhmGjs5GycFFC1wQOO7aSTM/Jw4FC1wQOO7aaTI/7j9060auJcT\n",
       "g4IMNAKNCYFGLYo7F8sxhabJRCCk4x9axUAj0JgW2Kt7x3AI8Zqw17Y9DDACjUBjTuDYYeV+U4rQ\n",
       "5d/hefpuyqV8qn2ND9VGQ2JYZgA0Ao05gaJfJx0V7dDUjYeZx/TdJIwJnzxcVaAX6imswAMagcas\n",
       "QCrXMZyFk0l1pl1JgzHW7e7QK1LsX+7hdzeE8I0I2qlAI9BYFIh2gJwH1s/RjIe7KxdNV8vhUwR4\n",
       "nKyzCpPMnYKpFKARaGwSyBbirJeIxvUudb81hMdkwL1TgkxEH2iABXhAI9DYIJDKToyLAttp5CK+\n",
       "29mJCnM39WP32aultzg7qeG6AqYJlGCgEWhsEUjUIJRrSjoameyju26uwt5lksY/Ip9L25eusyY0\n",
       "nOqfoZ0KNAKNjwr02EQNS8E7db7bJXzOZmZjcDK4MP1GsMUDNAKNlwQyJd0OqyHUZaPWej7dXV10\n",
       "j6OFTgFTGUAj0PhCgbj5LqAHNAKN7xUIDmgEGm8TOEL/DtzmaG3UDWi8UyABM+TgAicQ0Pg2GntZ\n",
       "rAt9YD68U4PS/vM+HC3c++rOgcRA45to5OW8V+skhhqHt04bMvRplgpUaspnUPH1K91QLjFA430C\n",
       "UXGb47rUze9SfKebUI3XUUvkl9/SYyVD0aw1Qmici0vYOVlc39WXD9mcUaPWbjUum/VsAvm9ZOqb\n",
       "x5vRBDS+hUamSw1Q7lEV8/u7M3P9Taegfifnx45nMuczhM+G5n6OqyiRzRmuvc9hrSy8dczxi1cg\n",
       "Ud0Dje+gcSyqRoK/iUYaHovH849JXtELxzCOcoWSfM5Iv6TeR41JfP1KN81A4xto7IuqsZPdB9Oo\n",
       "JmOGcszQWICV5/2NqxqMmmqK5HNmXIuf2hbm+kEx+cXKkWkFNP48jWORsn78XBqH8bRrspXGbspm\n",
       "ySTdExxlIMnnDHKiAiNcI46v36kcJdD44zQW68ClOSaOKHClEGcid2RA5XGLy4qIaaQjL7VU6Whs\n",
       "G7BRErrIU4fHwvaLKFGmYTqMUmBCEHZtBb2Z0luf90jPCJkdLAorNR5yRrjGRVAN+Ok68c3TuH2h\n",
       "5wg03iQQlYdK9+qd+FK4tMmWwk0yqrLyuMVlRaiouk6drhXpxtH+PluMVv21PVZarJvCLF1SDmb8\n",
       "hrhHi7OLk/bn7okz9jMfcgZr81t4crTvcwZ9TzIH7jsg1SPQ+MM0cl0+pGr2FaSfLzCm3/BCsFUk\n",
       "HB+/WPiYC4HQ412nKIYDa2F1PdZGcdyEiGtxWWIiGolnzAh14K5daI6R1CbA/tz9NtiOoDrkzGDA\n",
       "jozF9jK+fqdDmt1O4x9//vHp2fDyJBYEYl1uUkpX5VPkV7KyQE0ypY76i8Va9IqODEUc6w60W6Zj\n",
       "0quaKUEj22m0j117PNaNzCFqhm1Gp/v27iGTOnzuaOxmPSka58xaoaG49ouv3+lsLZN2f/3Z+hfo\n",
       "xkcETpU5fV/mGAkWwsitq9mnYPOPjaah+pK1f5nuzIpgdTufSrpRVGg0FX+vCTaOeRo7wxX2ZXEI\n",
       "nq80cjFrT+xGY6fnqJ1qdGh8/VKnJbRUf5RGriu6a2uPBQth7LIpznM0bo8xv0rjLoLgRQGTbWAh\n",
       "rDrmEo2oTKPVZ2xvFwS60UOuWfDc0Cg6ym1pY4ecmTWPtYjPlSB3vrDfuNTUDGj8SRqxrtg5nTYl\n",
       "5QY0+TR0SHZ+cYovb3xTWNHjLVRLKvlZBMeD6a6ucw7+QA/f2FR5Gu2RzQUahc2R1aDssPcbjRpc\n",
       "2+Y6em5p7K2QtT+758x07HvjKb5+qVPZwgE03iIQ6cq2jH2Q3nG1FFhOpDF5HNK4rQ47PO6Y3Sm3\n",
       "PS78sv0WiqDcjmh6lXiYb0zYQV+XvjnDzY7DMaDRr4wT82p3yx7as2TOaIDndv3qbMVyM2S6PzdG\n",
       "8cS612Wih5whx0z0kx/ku006s+yoKtB4i0BZyzo2H3QjWVRST3Aft8XmdX/q4bG3Xe4f+/5X6hfv\n",
       "KRZhJgq37teBRo6meFcJ88vCtRmjQVIizpCWiPXT8nNbNT6NYg1GCVEGtkU3YqXQOm84EIHc79vz\n",
       "DqEljDGNp/xk5J4zpxVwq3rdrl/bccwNKgCNdwisdhuXEsXSKBx6Rn3qu5nVnZRmH5+EJTxJZk67\n",
       "Wo8VOCVhEFO8Mu6qGy8sKZ1zvSo6x9evdWOu5QQ03iGw19WezVbxl2lMtcnoxBgj7afFiVQ/0Bb7\n",
       "nuWT8Jpyd4HG7KJwv5ycfLsJL5JbpwU03iGQ6DomazfpsBDGsSJGLewH4yrZDDYu+/ikqBOe7CYl\n",
       "5Y1CktvOm7w0zDmlc5VO8fV7Hc5V1kDjHQJHXV9O6uf1ijveKrQ1bYOveqrYKLjuBtO5fDzP+VSE\n",
       "dPp6Q30sN+MINN4hULbMBlLle4HonWfbUIE+7WgdmqpA/GId9f1WM7nW12jcWxo9biqZzQHeR+PL\n",
       "kpilUWs4IANc3ulMbV2jcT/vcyzXSX/pv10fpDXAz7uXJ9ELPI+RaChx4Ard6Uzv5H+6/BdDXVvf\n",
       "2euJ5gDv040vS2JON/a6ZZBysIMxM5TNX8WN9oP2TT7VtX6j33pa2+a6lczWAG/sN74qiTkalR6b\n",
       "aBwWx6AU/yqOme/ZRCPKjLlXacTe+kFryWwN8EYaX5XEHI1CT000QgH+9ZxsoZFkDJvUx1Tddjcp\n",
       "mktmY4A30viqJOZoRBoBjUBj3olM46lOozuAt2qOei+ZjQHeSeOLkpijcWo6AfxMo98eJOEsnV+d\n",
       "xvkijRT5H52dzyUmulGSbMmMAvyAO58joWrwPJZE8SiN40Uat/T3UKp/aRpVZvq/YfbfqJDN2pdb\n",
       "xzUIXiiZewC8tgZ7GZ5Wb5i2R2WzeT6CYxbzs4dakG57eFxNkBo80TudHJ2JeYjXfXjkURpnLYBG\n",
       "oLFQZjNTYA00mr2gWzPX7jRVQ7FkBgHWfaze1hBTyB1Zv3bZTusqbBPyoXPWOEpUE4OowBO9U+Bj\n",
       "TV+POiPIrcx+nEYJNAKNN9G4FFu8qTCNF7R4pWTuAVYbD36XKGGbqk63AR28j9Dop/LjamJsT2Io\n",
       "y6evXx6SPdmP06iARqCx0Ll6gkbRb4V7KX84bekoLJl7AGp3cmH3KDxcyJoNsxt6BLamH5RQiHaj\n",
       "tUxIOzrNWAmjm6jADjjnwftXPXY7EOZkNZGcSUwmMbAQs6evZ/1AlaFREELm5f/wGI0YaAQa76GR\n",
       "SrR3PwUVslYygwBGS1BXNqOl+dYCoWHA2Gcg2J6ZQsTSY9OzLflWnDEXgYSz37J6WP2bpqhdW0zH\n",
       "ZDXRk8YkBhZigvQt1YTg/XBVN2qgEWgsf/rrNHZoG4KxJlGS83RRydwDGDNFq/chLKJGabJ+NY05\n",
       "TNyEtqbDlq6bIZg527mD3eM+4c57WP0zTdyO9mFKVhPD1JjEwEJMkD6jtEmnpss09pdo7P0Mx7to\n",
       "jN+0eOhx2BVINpaeC13QK5W1xU+I/jEaWWZbwYM7qmylr1KiOE7KX3SgP2IFj5N1vefaUIqlsaw5\n",
       "+JLJXVo9jUZtLS3UWW1Fd/W/4KZtI7hHyWqCpWhMJ3GzEBOkz9DIRTdWaMy8c/evf/7+eN2YnKuK\n",
       "cg2XZj3dgLQQSmRy6LnQhQGQmvmv66J/jsY//vkneZ/i1r8CZZBSjhk9gbU3c9bFExeDtkdGr2aj\n",
       "6Qq4Y2sOdOOMjVE/7j2s/hlfT2Pw2B2qiWpLNcg+byEmSJ/t0A79WrU+PN94VTfeT+M2qJ2eqwpp\n",
       "5KWxNDdXawbCbCtkiIo+ejp0WmNX5eZE/5q6UU3afLw+NYKfKZnhmWDx2pfZncI3YWsrYhL2YvWd\n",
       "yVFmkrs0Fbm5zmrzsPq3tAVnqRyriZRN0HQSAwsxe/pcBaxQNVO/jMZ9UDs9VxX17EtKyO3oNxVZ\n",
       "Z/PADomtu0UtAc+FPrRNW+XmRP+qLdXHS+a8R0ujJQBefS2NCrVdyCAWZ8Xh3o50KoIxG9Xmz117\n",
       "orAzAWjtMpyqiaS1hmQSAwsxW/rY7DY+vpVGLvBq5TBqHCfvJpvRZ5/hoHZyriqkcS7E55Bx7RVb\n",
       "/NwY9rRXus+F7lLJCuRmsyEjGmhMFhDTL2tahMlaj1pItkXSllWqSXwgfbfTyGeakJ++m3yXs88o\n",
       "V5JzVeE5OGNSCrFd638v/7Frv9iuxFq1WiVmP8hzoZPKMZCbermiaKDxyQ5Oc9yEtt37Qbs4V2kM\n",
       "V40vXdm1SqKButjuLp3acqNtD79HGKrG5FxVQKMblU6nYtWxrtBbpNcx7MmrsEPoKLX10EnlGMhN\n",
       "vVxZNND4jKNIN/e/z0uDMuNuH09j9FWHtePK+qCxv92VxtZRU/ggW8JB7eRcVVB03WB1MhW7tTtz\n",
       "y77rOpiG8arcDqHD1DaEPpfSWG7q5cqigcYfc7x64/totPOrE7YnVgUcbHdppTG/+8RkwL0tytGg\n",
       "dnKuKii6thifU2EahP/572QbhMFgiW8QjqtyO4T2qW0MfXaR3OTLVUQDjZ/mvks3mp7RgHcO7Olp\n",
       "wd3OdnDt3dSPzWdvFjHMxxGS9FzVaRTnlIouMCtkR67tKNg2ho2RSIfufHe8JfThVU5yky9XFg00\n",
       "JjwpLIDGJhoHgvvVGLjjgJnvHNwlbLvLJI1/RD4R84Mf+6B2Zq4qpNEOS59SETMthHL7XLYxbD+j\n",
       "cAy9Ta20hD68z0lu8uUqooHGkx90WO4BNLY4z0F/6C2r890u4XM2oxvDql/Lg8bhxzl24bZUJLTN\n",
       "eQz7EHpPbVPoQqYdU7W/3LOifzcap/caSPtOGpmSbtIsOsVt9MYfh8Rnje6Z1Su9aDPjHJXdaGB6\n",
       "S0XStFdiDDu6taW2NXTexZ7Dl3ta9G9Go6leOdD4qG70n6P57mUL6tNRoSXUbkKzJsewnwuddyJT\n",
       "gl4g+veicRAY49+CxuE5GsmbNnEcXqe15uQP3L3u74L/m6p+XlhvB2Oqv5puJKgD99ElaeZA429C\n",
       "Ix6hvH+4w+hZGjug8YdofM4SB5NwwNXHu6l/hsYBaPwWGkcBhf3jHc9VmUDjp9E4P0NjD2c/vtE1\n",
       "99hzfXug8dNoHJ+x4DiDanxnC7R1ToTm2kVtNuMk0PhTNE5PWDdmoBrf0vJcN7Pp5sU7k7hOI758\n",
       "DgfQ+LBA9MQ5HCgqDvRwveDoS729OOitci9kXrBNi1ZShOV1GtXlM6qAxocFkidOjIu6nN5AzjOG\n",
       "coamXQz3x/Cwe9o6kE/XA+lj5dhDSTQ9jdV4RtUENP4UjU+cphqJ7EV8vViqG4aU7o/hYdc/33/2\n",
       "6WpJn9n1ccx6NWrtpjKYsbp9kDSTyzSSTOMJaLxBIG48abzyPfgYX6+6ut20+2N4vCP3iiUQPl31\n",
       "9I2rKaI4dr59yAGdJJHxMo1TZpgPaLxB4KDlVRpR8IkJjq9XHT5WxMNR4P0xVDPj1UmK0oVr/Xhs\n",
       "R1XEdIxd+g+Jzm+q9GUax8xiLaDxBoFU66s0yqDHKQ/Xy+44U33aCXh/DNV26cuTFKWrtrzJGpcN\n",
       "pnrlhs1KHju/aa/ZVRqlZkDjT9HY6ZaYkjQGcyP9GF+faLDhctG/P4aHaexfs1bXp2usaFrXj2Ne\n",
       "ZW2xI/chqUi8KUsquCYaM4vGgcZbBM4tW6rSNO7Fhoj42lEkFC0Wc64U4kwcTfoKVC7698fwMI0P\n",
       "JCmbqCBdojzIzT2N+BC7cB8Spd6UJ1dctdBIcz0ZoPEOgahlaVyKxnDY/FivD8ZGzFRcHEDMjJly\n",
       "x/GFH3IsF/37Y3iYxgeSlE1UkK4gfd5orXXIZ7szqucHVzYFiO2HDDctB5KSQzEtNA65UT6g8Q6B\n",
       "qmX6P0Vj2PqZ++jKzYFda4nj6U1X5tRavJRchGM/vSwX/XMMXAiEeDmG0E8thodpTLx0fggmfO2D\n",
       "WJlO36kSXGkUcdYv30hE7dRIUnLFVQuNKrdWC2i8Q+DQMsWRonEImrhyiK7EererWJlSc9jM8pGZ\n",
       "oQE/7h762Q23O8UgZagYUjGQiIF0DKGfWgwlxdaYpHPrMpWo0xc6pi/TUhUu91Wc9cuD6bCSPJCU\n",
       "rHJbaES5/a9A4x0Cecugak03HmiUzmCw+6MPtUU0Db2frbH7GSqa6xyD+UH3gb9kDKGf4dW6MfXS\n",
       "x855+rXjPJbpHEiP4vQ+9zcaOz0fjOsEki7TOOda3kDjLQLnFitBD7VUua23/Sfp56xQc2Y6j/0c\n",
       "faebhWEMxiIxTQ/DbzGEfmoxXGypRkkieNH3pPLaB18+XUH6Uv1Gdw6Cbe7GLVUDTqyYA0lX+408\n",
       "Ox0NNN4iUDQM46RHcfZwkwqv3HKKRnfSdpJGPg0dMh9aHMoNnspFPxXDImWuxbD7qcXwMI2nJHE8\n",
       "mD6kpMVEHX35dOHKUkW3BHxr7k5baqbjIsdA0tUx1T67jBlovEXg0LBuPEUjD+rbw+i8KSH90joj\n",
       "Wd3Ya8aJNCdCHWgkolz0UzEkLTEdYtj9VGLY+njnX1qTRLkyIXQ5UUdfp1mibOPRrIyT7JD1puN6\n",
       "aCXvkujV+cZstxFovEmg1Jdo7OTeFGNzdOVICUaRWxWS1o3EnjOL+2Obah7KNKZioKkDag4x7H5q\n",
       "MWx9vPMvzUlCKt3/ixMV+/Lpmmvzv5wIhdgx6xNr6nZJLNmdbaAxXzaAxnsEEs0u0TgGDaOZxdd0\n",
       "7yXfIPJ+6FxpFiZioEsppJXs2v3UY3i0pZpIktFchHSVfI18+XTR+cHkzLlYAklpkyl1Glm+3QQ0\n",
       "3iNwqG//T9JIgsq/sOb5IRpPC7BPS7RPMdCJMUbKc+6Bn3oM1cyoJ0lbSvoyjbGvy+vus8vMA0ki\n",
       "+Q3qNKq8fU+g8SaBUl6iEYcVrj9g6XjQEhWjFhXts/uhDZstjzFIbVytweX90DvOnjkmye5pUrUD\n",
       "RSJfPl0X0pc52yqUNKFrNI75kgE03iRQVZeqJmnkYcXpT1h67qSllkPT7o/hYfeC46Vytdn12ENJ\n",
       "6WHzKo2s0GoCGu8SWB1VTVvimMI2kl8uTZ+wdaGaXvr+GB529FkDHz5dl9KXjD2UNKQ/fpVGVFh0\n",
       "CzTeJVDUjL+lacSyA/cNTqTX4tVo5KVaGmi8SyCvjeOkaeR6gJL+DS6DXY1GVSozQONtAlVFOWas\n",
       "Gws4E+cbnJLdJRplaXcP0HifwIrV8Nw5HJJBWf9a1VijsVxFA433CezLj3M0woFx36Aax+4Kjby8\n",
       "fhlovFEgma7QWDXiAu7tjkp6iUZUnrYBGu8UOOMrNAZ2PcF9pONz312hcajYrnshjdahj6bxxUms\n",
       "CiwejDrYwKnlVXSEk3E+2k3JWna0H7REY2Hx+qzD5U+lv5qqC2zdJw/PvzyJdYFDaQpkMC45ZENh\n",
       "IOejVWP6izP7QfnD4Zzqc6741/8BLpA+2JU75agAAAAASUVORK5CYII=\n",
       "\" style=\"display:inline;vertical-align:middle;\" /></a></dd>"
      ],
      "text/plain": [
       "<IPython.core.display.HTML object>"
      ]
     },
     "metadata": {},
     "output_type": "display_data"
    },
    {
     "data": {
      "text/html": [
       "<dt><a class=\"ProveItLink\" href=\"../linear_algebra/vector_sets/_theory_nbs_/axioms.ipynb#bases_def\">proveit.linear_algebra.vector_sets.bases_def</a></dt><dd><a class=\"ProveItLink\" href=\"../linear_algebra/vector_sets/__pv_it/axioms/cc76e2bedb7974acf3017bebf0fbe465784a41370/expr.ipynb\"><img src=\"data:image/png;base64,iVBORw0KGgoAAAANSUhEUgAAA0QAAABlCAMAAABa39MSAAAAUVBMVEX///8AAAAAAAAAAAAAAAAA\n",
       "AAAAAAAAAAAAAAAAAAAAAAAAAAAAAAAAAAAAAAAAAAAAAAAAAAAAAAAAAAAAAAAAAAAAAAAAAAAA\n",
       "AAAAAAAAAAAsiKZwAAAAGnRSTlMAq1RmmUTNIjK7EInv3XYgpUAwbOnz4/edfEVsh9UAAAAJcEhZ\n",
       "cwAADsQAAA7EAZUrDhsAABNRSURBVHja7Z2JmquqEkZFUFCEO0+8/4NeQVEwDKXBjukN3zk7aWMI\n",
       "Kj8FRbFoGmhiyiTUPDcVL+IXXHNN9yaxVAHAX7AKxfGcukeLqHARv+Caa7o36eePkQL8BatQ9OkX\n",
       "XLyIX3DNNf2EkhT0ryqiKqKaqojuF9E+PGpxrVxVRFVEFzIk2/ior0aqiqiK6EqGzJoiOtS6VUVU\n",
       "RXQpw35cXnlb61YVURXRpQzxOhTqa9WqIqoiupjhJHSaeK1aVURVRBczJEz/O4y1alURVRFdzJAi\n",
       "+8/tj261d+00sFqRq4h+kYiMEeJ3RgIxiYZB/wCfFtnWrmMV0S8TUSvvdSsQYu1Oq0ynsWqoiui3\n",
       "iWhWEJbLOykJnf87fB4+GkqhM+UeCUGVtke4zupWEf06EfF2nSyStEFD0x9mjMJHgxoKnDm6k7hq\n",
       "Fiut4UVVRL9PRHRa3Qpz9R5koztf1PHWbUe7VpLk2Gn//p46VzM9qp25KqJfKaIG7fV+OYG1wnN5\n",
       "L0en2a7k7vDLD+B+MMmYJyIaWX3pVUS/UUTOCbNQzCmeiNajdHkH+D4mHW4Xk8O494C6Gl1URfSb\n",
       "RUSnhvezudhFNHL/aGM81fpo6J/9zFbOIyGx5OpO4zJFag2uIvrVlojIjsulv7WIiE2td3RxVpuj\n",
       "bKL+P96ZcweRrm5z6s6sitqZqyL67d25l9ru9b742MjXo03gTKFd292Sx8j1mKhyHaqI/iwRMTkt\n",
       "SyM613L0SinxcnRN3rERzaLi1ZddRfRHWyJ7R8FHq2KqiKqIaqoiqiIqkmFfxy7fn2jOf1NFdGeG\n",
       "pMJRf0PiqIroYyJqp2QTZr88dp+0V7S99cHRxLGv6QxPuIroQyIa0/derl5s2Xcfne5h6MZ1uDLk\n",
       "vu+k//r41KUfdBXRfRmi5LKiNY7Hrgr6ZBoy3RWKhJoQQkPPT5bVXKTslVqC/ZhQQgdZ2PUc8luc\n",
       "kGioIvqIiJhK9dJGqzAuPt/nzxaBLgFGo5hOqWi9yFHZi+1WuVqyWP8lIRdUtVVEnxBRnzREBH+T\n",
       "iMY1Sq87t4+MvcjJBtrab2Pivz4+DaKK6AMiapOGqJmaB4tIDpr71b+KaFSnSmsvsl9rktzi/qxF\n",
       "m77EFDElq4h+XkR9srq1/XNF1PUvq5SsiNpTlmi7SLTcKAep0mP/9fmmaKoi+nERJZuuuaPDjzV4\n",
       "lBKNjMf4w5mPQSOUWBa+iGhgoDLaMdEy74il5MbHwOT8VkuFEsmJe8C7SL5YZUeAduqFf8tMWpsY\n",
       "FVUR3ZQhSjvd9haYrFVuroISSb1aNay69MegEUosC+m1sqH9LEbVSymJWErd6tUautwL8UGs6zdm\n",
       "8WwH/IvESr9ztxTEvf+qiyec9Dxtqb6K6IdFNKr0thDCtmt0nUzS0B48Cw/pP0d8fGLuxyPnCJ0f\n",
       "S3i/kPA99XHHQmcc1IuI9NxJZ4Y0s8ldjqt2O+BfZKf4gY/XTv7r8xNS7HYR/eWvf3n6bShexESG\n",
       "WKX7XdPSKlNko+uYY5SYlEdrwXybdcUiuVkcNYJ2phCbrDUYQo6FNYOx47oFEWqQeg2hsTRNz+0B\n",
       "7yLXJgX57Y//+vxkGoJw+ttfoX9VS3QmwyEzhWrrFyNOuMC0DaPakEbsx3qAQdUldPAUHqhxJ1B2\n",
       "HOKWSF+XWdFOUNvqix+5UPNHrSJml19mDxxE1CjR+PtDd5P/+gVJTbU796MiyrqCt56OEy5ggkvG\n",
       "MSai7WM8XhXRngXBs7kj26DZVbxIiQhpm9NqdeiLp6OpJoxZu2sPHC9SqNFvx+0FOhf68DHR3H6w\n",
       "KqKfFBFWGR7cIH3X2Dh0DdJNHffq1riZB+/j7Vsgp9xrFiPu9FBsWovPvTZWyoSIhL5k88csSPYP\n",
       "c+o8yFpRe11rDxwucjgOEfHgv35BktFnWkV0S4ZIZQKzd9fuIodWsZFMuhq6ItqGIIePG2ZczfsI\n",
       "Jf5me+dmQUfjhrYG6DBPFKCzrmE/DTGOe/OHVKz9h/EjDHQeSBnCPm3tgcNFkuP9sN5v8j3wSRb1\n",
       "z+VEBN4O21aoB++fXbyIcRFNufaHiYMlIrMBaAlu/V7OOi9z/NgSVe3Hq3cs+Mae5GeBpDMeOYho\n",
       "RIMfV74HoC6AFIZkK+fRj6ERSbMFBiVEctrsB/yLfAnvEZ3/+hWDotg4Nyci8HbYtkI9eP/s4kWM\n",
       "iggQHSNYuAYfhgpt6LnRuUpSGv34JbPASRPT+0usjOKXInR88MN+LiYRG0VQ4b9+Repj3YuciMDb\n",
       "YdsK9eD9s4sXMSqiVmVz3trmtIhCvR06MMYIfFuVwElUmSresngRSqRofKmNTCXfBGQhsSCU7JgI\n",
       "uh32VqGeu3928SJGRURUvnbbgYN89ZxS3ituHtgog31FnaIfv5jFwElmSYK0FC5y235KQ/gG2daL\n",
       "Dl+koVkPw0URQbfD3irUc/fPLl7EqIh6lZennY9JLlXJiAS0MjR7UmYF7jtpHJLaGr6KlsRiM0V5\n",
       "7xxwO+y9Qj12/+ziRYyKaILM4lBpRzjok0ab8jt/noYkbGMa5HcRx0alrooIuB32XqF+ev/sV9CG\n",
       "LFtEflpESlVI9i9MKtI25kXkbYfdIUV0u9VPxyHj39TfbeOzfyGywfWci/GVMiGO9V17SNkpC7GE\n",
       "k/gFC49ng0WEDChjH+wZHoftqta4X5hEpOf9P5X9y9sOexkGd6/ACqdVdr5w2OB62/h67Um92HNj\n",
       "Ik7R2kYUKFjHM4YjvcU3FUR/iNd5eHLWErWn1n8OrFbPz3XRzvSY+oh7DhCx4G2HbSK9ZJesUM4X\n",
       "/A2u942vpQp3lBbNnRGRnfTxCxYEYISL6J2xirxFesuGZnEjnxeRVCdcFqhitz86UD6xPQ2KOF0h\n",
       "YT/7dthztxDPZiVTQ50veBtcu4AkEztvpik4NsFakktEm96sk6ENHQSWXFdiyvGik+UEe75s8eKg\n",
       "FcGCBZ3X4SK6grQib+cPidE4J4SI+f/ujIi4grtuUWgWxzaTH6U63o11LFTIxDFQ8Vt4r4FEFsdD\n",
       "RLRth22qDQ6H07sVyvmCs8G15+4062F0E68DtQhu9NpiwueOlBKmwprsdICXrmQ6UHI9YT1f99eM\n",
       "48fufXUoWEugRXTimXeRt6zt5ux5c80SITiJAAds1lOojvdiHcukAnBI+Ap1HulhQES0bYdtIlkp\n",
       "n3IVyvmCs8G1t/G1NlGsXRdldcOov02XVftIC2/ZzXQ+SYe3DLixJ6znM0WWYJZuCBasG4BFdOKZ\n",
       "HZHPJpKPbXdVRAN4G0g6vebwIKpjFuvYjLOVJm1znnxFE5NT8EyLwCEFBotIXBaRsx32MOxegUSF\n",
       "2r/gbHDtbXytc9LZ4Ekv5uq69aeWXRmVFZG+0XM3TsjGnrCeP6tEmZ5ii4IFYwOwiE48syNy3c8k\n",
       "jRwuiqgHi0i8tpVPojpmyzCa6Lj2QphdF79HkUwDte4kHDISodJCuV0yMtt6cimEGcrIUBMZqVDO\n",
       "Bte+57pTxtiuy4PpmuVyD4RjiXQzMcjRnrCez8a1J2TVcihYtjvnqMnGMzsi1yIauXU9nJ4nEgro\n",
       "pMeBh/IkqmO2DJxEO6VZv9jJTCmJ3ysYHHKMab0Htnk4MnVxTkRrrQmZokiFcje49jvYK5F2wCa6\n",
       "a+DmxVgXPYHDtB5mUzDqVyG3E9bzjUgcssyxYKGFZZEibvHMjsiNx2NdYZYaM0RENEFFFLqRT6I6\n",
       "ZrGO/XoBRWPgwplKEr9XMDikxKiLWEX6cyKSg9IOsDZUSaKt8n4V3sbXm7Hg3NT45YV0fE4mO9ya\n",
       "2yYJxqyX23nLa0sk5uYHTfjVS8GCQVnBIjrxzLvIlwlciS6LCLbdQcikP4rqmMU6DuuYrpybnkYy\n",
       "ZYHu30k4pAj38teRO8SRV8QSXahQngWHb3zNoACL4LxqOO4xWEQnnnkTORPLQqPrIoJVqhBJ4JXq\n",
       "mOE2FqA6Xsc6ztXKzll3/cQxIeu0l8U7sn4iVGrcnf+e9tqz4x6ZnwRHWLbCzXSjQrZICaSD/Fw6\n",
       "5Dk4pHZC9LHZ8fFrRHQqO+iZhMKOAYp4dnf7WIYKJiIWCsV6pTpmuI0FqI5vYB2lXpWxsoImvUZ8\n",
       "NO6xDe+oW4p2u1Pu+6X134+YDvyEm87L1FIh7VJdjw55Dg6pS9+GRz8jrOvQfZeIKFLgALrXuV/c\n",
       "/YTOUyICmQUUsrYvVMcM1rEA1fE9rCNG09poLLIwIP8N72gh1ssZ3nvkH0FaGUgcMrVUSPvOo0Oe\n",
       "gkMuSzEj8QmDgD3vsMUqJqIPphHu+PmZhDGoBFOou/hCdcxgHQtQHd/COi4fqN3JtXEeF7zjMvnQ\n",
       "LE299x75R1wRbZnuVEgLjXDpkKfgkMuchoxFv0Ha1xHfHKJVaT+uJepA38ZxEflUxwzWsQDV8SLW\n",
       "EVtL0G0iakzM04Z3BIuoM35Y7Ge6UyGtiFw65Bk4pJ1SEpH+HAY9sZstEaiGzqNC/keICNKdk8Fv\n",
       "h6iOGaxjAarjVayjlZX5UccSbXhHuIhm2fGlP+lkyvY7KUwwo0eHPAOHtE4T0sJ7BY8Uke6WDlVE\n",
       "tgIGHZBHqmMG61iA6vgO1nElXlHljomYg3ekYBG1XShTS4VcJMobjw55Bg4pNg/j9UERe4Jj4cMr\n",
       "Z35MRDAX9xRsT45UxwzWMUN1BPEd38A6CnNkXNxkvYlAFFrOG96RNr0jnP5FUPuRrmfU2BkvU0uF\n",
       "1B1LIyKXDnkCDrnH7IcrIYfU9Ud45/QDHquIbB0OuluPVMcM1jFHdUxhHcNkyFNYR9R0hKM1EKBH\n",
       "WErk4x0ZUhNi7TD/2/jvpwmN7pGm145tHUzoZbpSIfVvIT76dMgTcMjdaclkWAfdl4io4xjjP0BE\n",
       "AiKi2FZ6aapjGutYgOr4Btaxf2sXYx2zONJWyBPfKQeHZJCZoi+bJ/puEfWQJxLbvzBNdUxiHQtQ\n",
       "Hd/BOr4lou4K4b4cHHKEBN63ZaK4q4ggGQ6QmWIcc6MlqI4ZrGMBquM7WMe39kMZV6vSnwpfKgeH\n",
       "hKyjxO+sJ6oiOpchgjRrMgryhlAdM0jGMlTHU1jHTo9v3rjBo44s5uSc76kcHBKyol++sbK1iuhk\n",
       "hgTSrPFo0ONDqI43Yx0LlbEUHHLqIY9sqCL6KRGBQCWkAh6flISAPDJSRfRTIsIQZBaqgMdHiQiw\n",
       "9ma4zp2rIjqbYaemKqJfKKLYPgVVRDdkCMII1+7c13Xnpsss7iqi8xkqwC/xM6V5Bs4xSnP84KN/\n",
       "G954wrEQ26egiuiODAUgiESeCLd+Cs4xRnPsP1aqAvDGVUR5hyq9vj9RFdH5DBEg7gfDRfQgnGOQ\n",
       "5siQ87bXeySvl/ZCaNRbKCuEUC+S09FgemMReONiZfI/1sX8RVVEd2QoAY+kVdCe2ZNwjsEieKRy\n",
       "5vj3A4RGts6hERF/GGF64/vwxtQ9BgSZyNg5VUR3ZNgBfNxMQZvJJ+Ecg0XwkUDuTPMY6BOhrGMl\n",
       "SG98H96Yfhr5rh+KhZBUEd2R4Qhxz4FZw0/COYZojv/8l2szaDpcY/t4jJ8XpDe+D29M9wvywRki\n",
       "JvsqolsyFJDVVcDgzkfhHEM0R8SilighomaI3qMQvbEAvDHdVcs+sDE6+1dFdEuGHNBXQ0A+5SvO\n",
       "McNrLIBzPENzHPuISkKERudjbhr/Fc7ooR9demM5eGOmqwYwVqiK6CdF1AFCUDHQ1/aKc8zwGgvg\n",
       "HM/QHA+7pXmW6EhodD824/QdzuigHx16Y0F4Y7rLPAB01lYR/aSImkkBvg0zFS84xzTNsQTO8RTN\n",
       "8eAB80R0JDT6IiIunNFBPzr0xnLwxibdycz7FeKPtIrongwJYBZognU1XnCOaZpjCZzjGZrjv//j\n",
       "0xw3lbDmFelztEQOnNFHPzYLvbEgvDHTK6D5h42qiH5WRB1g3oFMZ0Tk4xzTNMcSOEcozfE4btpU\n",
       "wjMiQnO5HDijg37c6Y3l4I2Zrlq+oZHxjkMV0U0ZTvmn18GmW0M4xzTNsQTOEUxzFDH3G0qLyFgP\n",
       "p0vrWKKd3lgO3phOgN5cPzVVRD8sIglQiADNFB1xjmmaYwmc4xmaY0ciIjJ8g4SIlgBcB864ox8d\n",
       "emMxeOO7Ph6W6FpUEd2VYTH/3BHnmKY55nCOiTdBImSO5ohYeOyw7Cx9JDTuQwu+gEl2OKODfnTo\n",
       "jaXgjZnWLP+sUOJZVRHdlSEHKGSCPOIjzjFNc8ziHBM0xzARMk1z/I8fV85shKnSboMXQqMNQB16\n",
       "uyHOBmd00I8uvbEQvDHfdc3Y6FSbWEV0V4aQkEaYKUrjHJM0xxI4xyTNEf83QXM8la5Q6wrBG4e8\n",
       "IUpGNFQR3ZahBCikh5iiNM4xRXMsgXNM0xzLrSS6IqIy8MYO0mcgTRXRB0TUiHy9ZROkSAmcY5rm\n",
       "WALnmKQ50nKbfFxCPxaBN4r8pHe6Qawiui/DFvB7EvKYQTjHjEjK4ByPNEdeCkx3Ef1YAt4ICK/L\n",
       "7AFWRXRjhgSgEATpZj0E5/hKc0Sffqbvwxs7CN5saKqIPiSiZffE3Fjg8ZTRX50YYFTXZVYlFRSR\n",
       "SejRIipcxGyGDLIm7MNbn/3ZaYR4RhJ+cqG2UWfmL1BpTIwT7p58w0oXMZ9hR2s9/X6hJR7wUgNw\n",
       "8q//A7LCLwvx03cJAAAAAElFTkSuQmCC\n",
       "\" style=\"display:inline;vertical-align:middle;\" /></a></dd>"
      ],
      "text/plain": [
       "<IPython.core.display.HTML object>"
      ]
     },
     "metadata": {},
     "output_type": "display_data"
    },
    {
     "data": {
      "text/html": [
       "<dt><a class=\"ProveItLink\" href=\"../linear_algebra/vector_sets/_theory_nbs_/axioms.ipynb#dim_def\">proveit.linear_algebra.vector_sets.dim_def</a></dt><dd><a class=\"ProveItLink\" href=\"../linear_algebra/vector_sets/__pv_it/axioms/b1bd1a901233f9b44274a33df8bb8282cab7c4d10/expr.ipynb\"><img src=\"data:image/png;base64,iVBORw0KGgoAAAANSUhEUgAAAuMAAAAzBAMAAADP8huRAAAAMFBMVEX///8AAAAAAAAAAAAAAAAA\n",
       "AAAAAAAAAAAAAAAAAAAAAAAAAAAAAAAAAAAAAAAAAAAv3aB7AAAAD3RSTlMAq1RmmUTNIjK7EInv\n",
       "3XZ/CtNrAAAACXBIWXMAAA7EAAAOxAGVKw4bAAAIs0lEQVR42u2cf4wUZxnHn9tfM7t7O7f3j4Ga\n",
       "yJoinrHipsdVE2u59LiUaDBr+1d7Fa71D1MS6ZAmNUi5W/yDROXHUoOwjYFRE2OPpEyhrS0ovdoa\n",
       "VGiyLVVb0qODIHpQDho8KUfxfJ73ndn59Q7d++mRvG8yO+9+533feZ/PvO/z/pjNAgjCwMAAyDAT\n",
       "ITMwYAgvvDf+b0lnRkJ6fLwivPAXyWbGQlwil8glchkkcolcBolcIpdBIpfIJXKJXCKXyCcXmob+\n",
       "Nm2pbtJwYajAjtlCnprGVDdt4y7yQyJvOOhRF5SPTaJL5JMJWiHqyt/rsZURKVYGkedJuDWEXCRP\n",
       "AXkDxaWgiU6x4lxE/nlY+94Hrd81sVW/6rsQM+Hs+JMAW653ahE1Z7oXeTep3wkhF8lTQN5AcSlI\n",
       "lOikz0HimV6AbdhsVuiQ9L8w+xVe/A+ek3h1dUTu1QHkG8kfVULIRfIUkDdQXApU6gvr5mIjTyCs\n",
       "fqxdYgzA8F3pwuMYzbfwWBKRe0kAeQqLyBZCyEXyFJA3UFyKN4f9cxF5M3DkmQ+CVwbxeBSPf1Eq\n",
       "IyK34UdO51R4+BTJU0DeQHF4uR1PvXMR+SIbOewJuL0YVXeBDopJFkQ481QxMGN5fWjoqGDGIpCn\n",
       "MmP5+OIwVfPQ0LvmXET+dQf5y4XHX4FNr/UNWyuHaeRJUHVfLvGRP5sPzlVuWT9scd2HfDnAUwLk\n",
       "Armh8FknYvmQRxRn+pAnypA2Jni/Tn76ygQmOupzRkMmaHXl2w7yiyY8BPBGQb1cig86DXtpETrY\n",
       "RJD10BVDFN5g1m23Mle47kO+FhQsLLngbki95kHO5Dg2utifykz85tUSbDnp1GbkRXFzjJecohI+\n",
       "5PwuUcDsVJhk7UQfMR+T1cGJ5Kk3x73HDj1rCkz4KvbI23a5tXuzjrwTtgP8DOAqqB/i9xyNT6tM\n",
       "5lcgFqhEsvQOKB9y3Yc8bWSpi7wP0GN4kHP5t8DclHqqWgKshua4suWQyAut+Xm9qKTpRW7fpb5m\n",
       "e+t5uDMfRI4d4fnJIY9NaAhgqZlNrQDzBSZkEdJ6tMKR/uBp5Yi8CnCNI28mo/ZVmvhzvxSYWmZG\n",
       "ITbGdR/ymMXGte2glbyOhctfNCCLp2XU0C8CizsDtRh5t1vUai9M+y4sbJ2/Az6dNRJGCPniiY+e\n",
       "k0bObELkSwUmECiTz7P8yBeUbeT/9SBvqXXwVh3sarFL0NTLdf+Cv/cuunxZOehf8DO5vwRfstdP\n",
       "0FKENsjeZcH5U/pDBujrjp//GqxfgjdFAXXt1gMANbeo/b6lPL8Lm+Qup5Wo1ZmF55a9tazkTZWK\n",
       "4wignem7x/FfbtSzmvOJLvKRe87ojeWj1NymVuKnHOgGqrxtA5qgjEJc90xrHceSuQp+5Myx5MZ4\n",
       "h47VAr4cebcUDab7ke+n5qheudPyI2dyi6Vguqc5qho2yoehK9uZMDdc78YscBY+CUeABNR7oA+U\n",
       "XreohT7kVFy8a+sZgNP0te0zfdmQL4fsImxX/2yqPGxrnqgb/CJHjiOUps9PFRrLl6w5Nn2ifbgA\n",
       "TWazTpXnNpAJSPQxYuhUb7eNPHslgDxNlqav2oNAcK3XbKKbMJnuR/4E9Rjt2vpBP3Imp/IE5j7u\n",
       "f0fVArql+/fpigFbF1g4ZLWUvgc/ARR+jfq2u9GBV9yi7vchp+J++WCxWc+wirVlf9ETRq68gh/F\n",
       "tFW2NU/UDX6Rm7mpDHHYrUKD+dYYtk2toOwGRU8XsfIqt4FMwGkJNdykw/BZ4Av+35UZ70cY8lFn\n",
       "IE6M2t03OBL3l+FsvMx0P/Imqki6Akf9yJmcqJ3Dzzuq1So2oGoW4q+2d6wCWvWqlxB5c1E7fBJQ\n",
       "ID25B0eLvFvUD33Iqbjvn4UWI8l6dBt0DoeRwzzmwbBPr+NuFKPJxd0BS1r0oC9XWyk5NkHlKWgk\n",
       "3yLLtqmV+c7zFyysvG0DmQArNCpQdZBvAbat9VN0mBuP3bLxo3mf+yj/wnWaV5AvidtW5EqBG34L\n",
       "x+LbuS7YvEVHfdEIb97GR6mv/ph/WbWSDb79Bhs7a6yVH4fdRr/B9B/BHaySTlELw9uyn4IHIf5I\n",
       "tfokIt+bCs3L7bAZdPULhhNthn0BSzZ7t6a5BVqeJooK/OAENJBPGXRsaiXfmSumz2HlbRsY56X3\n",
       "gtex5MpRI/HbnviGiDQbxPvl23TyPCHkKts3s9cnuT8DupFn0mbGGsU5tDoGw5kxOGmRgPpCSLPh\n",
       "0ylqJAzzj7BMVU3eypOLxfvlyuAL2PhzBmRMFlUQFezFb+zDFuPdt5uB4fOJbC8uBRC5J5+diX14\n",
       "8tHwyW2iGYu+z8iNUOVtG6jhbmOwNWd4i3fCDbasvFtcotAlRK7tOQi3XRO8omCtRtkFzkPPHrbg\n",
       "0Ah0HzoE6uXFnXCmfRMTUF94+jcAO92idoaQK5fg7Ta+CsVp1amIVxTf6BkxCLn6ex6FHdhAC+oR\n",
       "2KyrR2wxNszIeJEn/nH4HKuvJx9GKRN9ePMRcmYTLYV2gdb15TVUedsGqneOPZB0vTftjELuJonc\n",
       "KWX6hN8K7a1WS+F1s2jF1+MuBCohmMk8nC/COuyl6l91vi8R9VaIbI7ZoxL16voupC3OU3qF8/IT\n",
       "4MsXA1E+llpok9+EpwWx4E56RUQ//FSm50VccLHF7dTDscAWYual6o6IzS8/8gd49KCGD6s+zthi\n",
       "TeswPMiTNQ9yT74HQJTvxgsnt+Lu3F6xolL3uZPQiBRMnx7ka6+J1PqCqiMC5o32G93H+T4upPhO\n",
       "VWr8OlbUnerxx5aPHfC2clhjL2yPFnz5isJ8m268c3/Q3WyZtjCTr5szTsTdrUs19AuV1OR+x2I3\n",
       "SXUCr1OUcmMmZKaP+IV3i+yQv9b6P4RGkaunTQlrdpFvhIqENbvId0lUs438ROCnBDLMOPKe9qKE\n",
       "NbvIZZDIJXIZJPKbDvlx+Rc4MxQyA8+Ikcu/wJmpQH+B8z968Om3rd/cowAAAABJRU5ErkJggg==\n",
       "\" style=\"display:inline;vertical-align:middle;\" /></a></dd>"
      ],
      "text/plain": [
       "<IPython.core.display.HTML object>"
      ]
     },
     "metadata": {},
     "output_type": "display_data"
    },
    {
     "data": {
      "text/html": [
       "<dt><a class=\"ProveItLink\" href=\"../linear_algebra/linear_maps/_theory_nbs_/axioms.ipynb#lin_map_def\">proveit.linear_algebra.linear_maps.lin_map_def</a></dt><dd><a class=\"ProveItLink\" href=\"../linear_algebra/linear_maps/__pv_it/axioms/32b9d20d9ae6ac799d803063543d26c05059b7360/expr.ipynb\"><img src=\"data:image/png;base64,iVBORw0KGgoAAAANSUhEUgAAAxQAAABlCAMAAADjy1VaAAAASFBMVEX///8AAAAAAAAAAAAAAAAA\n",
       "AAAAAAAAAAAAAAAAAAAAAAAAAAAAAAAAAAAAAAAAAAAAAAAAAAAAAAAAAAAAAAAAAAAAAAAAAACC\n",
       "gUnDAAAAF3RSTlMAq1RmmUTNIjK7EInv3XYgpUAwucNsfIllMuQAAAAJcEhZcwAADsQAAA7EAZUr\n",
       "DhsAABN/SURBVHja7V2Llq0mElXxichNMpnh//90FPAB8tiox3M7gZUVbrdQVEttKKDYFgWaeiFT\n",
       "WfysdEfttily+gelbqLWbyZlHc6fMOsayZyaHweKy2rXZbajf1Ya7R5dTIOUwvkTZl3dT3wP19Wu\n",
       "GA0OOw+MXBfLd9m8LyZGHL8kwv9TBoWRqPMFbolXt1VLFtFwM88pNTUua8iggFPZBqeRURv2IMRQ\n",
       "lkNbU6BLBsYaUwRv5/oSHP0kpnqb51vBhrloycRUzpKrSSwY5RqnnGT7vtirQwbFdbV7EVqG0B0x\n",
       "Qv1zYFFU1HXVisESQcUqqimNIU2hbtRq6IetbqSl2b6veayiyqC4rHYbnChqsstXvkwlYj7NUC62\n",
       "PtgiGFsHMbPzagMUemIitZnnlJqGKYPiqtpVcKIo2L4wEL3Ox+NyYZjmZOCKi3l070Zqi2h1J/De\n",
       "mIr0JnIrJHaaVZt1PrLnJd1UnzfMovbAMyguqt1OQcjs5j6INd+Numn52b1htVtEqRTsRrO48qo4\n",
       "UX24PWyJmRfWImPos91HpgqWQXFN7T7sDNW7BWt/6Fihc3n83Jp6NhHaQbKHeLagsqt6OQGR7W9Y\n",
       "d9rNHff+sFLJq42YD1BlUFxSuxRB22qtJUU3Toc33bpanJhHBJEO0ul0UZYf1dqC7oAjrZkrJRib\n",
       "1sQyKiJJtBkUV9SmYgg+3yHARTmOo2nSrXPXo/aIkPtMtvOklhpVrzQ5PKyYmasFDDVmjSobfnjA\n",
       "6zMoLqhNRNiw9tOG4fwK+23YHvze0y5Cmv15fTzMcxVX41rTHP8cM18OGa3Kp1/kZKRGjBkUF9Qe\n",
       "wt7TARTiPC1Q1yzTMr+IqXCEZtWik6v1eW1x7MOGmfkyCZVGJ3ftmA0/7D+xDIp0tamYCsx96oXD\n",
       "AieX97StQqjtgU2COoSMglRqbUGOAK0mM1f9OB1T3n+KDnl9BsUF7yky2A7c5xXJX553rmpWNVT5\n",
       "Vo0lYu6jfWqhB39r0GsLY/OVDGauf6rDq/ycjP6xujeDAluKRSLNtw3R1vkG2+rkxjIhxFSTatt0\n",
       "2vdU6721PeZj7hult3UCu+7k1ma/lquIOl8BAUyizaBIrsNi76VXllov0YCOAw1aDs3R5+mGrqBV\n",
       "PQlW9pYIc5gvpu0aTKOtfjStfGrMfG2xXVvKNg8sKswlYwbFE0uK2SYjjnszDnaYByaiCq/wu8nM\n",
       "9wcn/ysnb2pNTyCDAkiViI63DwTkuUVEFjNrFGGdY8dvpNqMV8iggN5ZfFNzuP8yXCJoONR29Y6y\n",
       "l3RvPDJHvQwKaHaNnwnT+2bpEsExHA15i+meTbAMiuR1NrDV392/EposgndmntPF4UiIDIp7mxM5\n",
       "/eOSMIa9DApgAE9i/snpB6bJcJAzKOKpiu/IWmuQfGD25XRmOYutGnkGRZrnLtqk8pkz7ftpTOuD\n",
       "0thfzKAAXrBI2lmq2MdXIPx+lF+HP+vuNcG/EpLIkg5uaoNGNYMCGUZShh3KPn+ONt72z0K8a/az\n",
       "q1RrW73xC+5kk9TNo+EMZFDE0yBSjqvLtngFFDtQq3QUhqjbqtNJZYxqzcPUttX7BiicLGcBUEwZ\n",
       "FImrsDpFfPMOKPbw1/Tg8BB1G3WAOnbN28PUttYzQDG+dDm2EwkNceP0LoMiniaRcHWtfWGikFa2\n",
       "MTpdCPEIUbe5oqhikV0epra13hEUdGpf6ughYc+QGLvuGRTAmi0BFNUbE4WysnX4vjD0hqjbmLOC\n",
       "MVWcmN18TG263hEUnJTNWx3NMyg+CAr87bZT8RYoyEqDlr6iCFC3VU5xR6o1F7Obh6lN1zuCYjpw\n",
       "Un16qmAJY1kGRSooCC6cvwaKQpGEsHRaghB12/qMcl7SftTT0GHb38ns5mFq0/VGk1n9rQuyFb6q\n",
       "yKBIVVvgoCjfiZJSVlbLwX1IbzFE3bY+m1cDvORFrWa+A9Wan9ntzNSm6x1AsdSu3iKDxg9dmwyK\n",
       "ZFCgIw4V77gGysq6cv2f20/Wk0jFbD7ZEHWbfraM9mRGeKkwcqBac7tXbqY2XW8HhdodmF6KryxF\n",
       "DxvFcTS7AYpff/z6iaBIV/s/f/8Fr9eqF0EhJ4nzGUDPy2E5NShGZclnssEQdZt+tlhT3R6MZvuX\n",
       "i9nNx9Sm6+06qivp/KUPLzXwDsmvv/8+/PTnH4X3pzxTpM4Uw0sx5trKKu4YuOu63xxlai57z6A4\n",
       "OxiHLyux3XZ3qjX3ZSoPU5uut4Fi/S7N9FJfCwYbxUMzRQbF2Xt6qbdXK2sLog2X87qb/zNOnzu5\n",
       "PUzOf26Ium13rWSgBFW2cqBac/6JHqY2XW8Dxbp7XL90gDeg/lMGxcdAQcT4LijGSm8F8W4Ja2gr\n",
       "cyBfVtGdY5MgRN2mntHZ/yrZPs0cqNacvo+HqU3X20AxbTtY77wnjnZIBsXHQFGK5l1QdCt1MpHW\n",
       "PA+LzdEo29LNBhKiblPPKtHTegZFsw7tBzFt5RoOnExtut6qLtlJEPuX+rp9BhRwoNlqXbci074H\n",
       "ClxtGBTsrRt629C7c6kV6s8i7SCT1LieCu5a5ISo29QzWs8TQlWT9Q8/Uq3ZzG7S1XIztel6629L\n",
       "um8GvLSoABd5MVDAgWardd2JTPsiKHC1UVC8tqRwhZ32TF5g6M3LMo1b89AFB9czi2oNYHYz6o1f\n",
       "u4nYgnN3DBRwoNlqXXci074IClxtFBSVGL4Eio4VYysP3IyzvN4X3hsK8HM9u0q1put9DxQ1GGEQ\n",
       "XVOggWabc34jMu2bawpYbRQU9Vvr7LOV1bwZuXSVuqO77j0lC/FEnZ9dHe3Wet8DBQHHqSgo0ECz\n",
       "zbquR6Z9FRSw2igoWlF9CxRHJ25c1hQRMwxRt52fXaVaW+t9DxQ9eFIR330CA832bZzLkWnf3X1C\n",
       "1UZBwcRbd5HH29eeQ7xr9rOrVGu6Hp/Y10BBQXaiOCjAQLPdui5Hpj2YqlPP8afURkGROdN+vySw\n",
       "gSoOCiPQrCmFPH9smb0A+1OsIUGHClYUGmHLj5X8JR3MQXmWLGf5fpps++Wcj33SxKNi2kxl3atJ\n",
       "p9pz1UHUY12WnevF/hcafDNn2u+XJmxA+9MAxf+MjtQ/GYFmXHplzUj9Q+6xghWFNkgHVV3mJxq0\n",
       "W8SaBslpepZDeBJ7Ei0dyjZjeKYw/06iIhKmyzNF9dqObE5warHtJ+BE2wg0GxZ7403Qug4VrCg0\n",
       "GWlJZbj9Gme/R6xx1dw5ilP+PwUU66GDqazzvr1b7bm5+qDSFVCkcqbl9EIqsR1BJMyjPZzICzIP\n",
       "+xHrOlSwotDk0D1KuWvo2mHPW0bKVL0sImNq+MhnB6aVR59d0Q0T4ePCvtKNRNu9KqHL84qMUtzk\n",
       "VNa52epWe0aiimgrL4PCx5n2OBlYd/HZ3Sod/Kh76G/rPDn+SmuMswsBxRZoJm2IMB7xQ44VzCi0\n",
       "St4+aeYme2XUxoafvNe1jNBLPE1NirGW4TLdJCaJAdkEnwfg5cvQbGlOl1DlF/9IbpWsAWaWss4r\n",
       "Xh61u+WtdGV9faHt40x7ekMyhccMSSjXWUD2U/RptqBVjp3jL3XEpm8EFFugmQw07EYWA8WhghmF\n",
       "thTis8X160RhRKwt00pf6bsozUAXiR1Vy44FXL1seC7UzQ8GsmyxyRK6fD8vq9XqYXAq2wy42jOY\n",
       "OHd/YA4EhY8z7TZzmbV0SeIxgyyR3Gw3nT4NFbTKsfMEUExPgeIQaCZXys69fCPcdK9gRqFRIdEt\n",
       "qjXO3ohYW6TLq+6MzKlpdPPqA9NiBcXCNjd7TcselS6hyy9bRtJbq0qnsv2Aq12WgW09CBRtABTP\n",
       "xYel8phBmtNb7V6hT0MFrXLsHOVX49jpXWLouHT7uWsH3hODbUWhqT1SsUXPmDutjcKMvu3Y6WaU\n",
       "fU6HmWKSsdF0LaHL91RfjV+t31I26j4dF/fkLih8nGl3mcssJzmRx2x704FnyFcsA+1C9GmO9hFB\n",
       "qxw7R/nVCLZPngYKbUKuqcJjXWsUGlVVmLSCg9rmYdmkRgnpGvFiGGUmR//lAKFfVOXDPN/M+bQs\n",
       "rXUJVV4a/bAvtG1lnfdh3Gp3gVsWIChYABTPxYcl85gddtr8Qumddhki0tE+JGiVY+Uov9onQDH7\n",
       "fctmTuXqcN9tHR2F1qvtHHUadjgTMyLWtsF8HKUFq6xuxjnJJkjFlxK8JqRvuVWwqjkZpWQZZXNS\n",
       "1hmz41RbV70JCu4HxVPxYek8ZggoWnKj3Th9mqd9SNAqx8pRfrXqEzNFUFDEPfaYEhSxpptAL547\n",
       "z+ncUW8fu3nn40y7yVxmeTHJPGZuo6Rc+ir60DP+iZNAu1H6NB8oPILcqlk5yq/2u4GiuR8J1MP6\n",
       "1B32uw+CQgRB8VB8WDqPmdsoR0XJpDv8wHVWT4dUIu1G6dM8oPAJcqtm5Si/WvObgeL+3dSuxG8o\n",
       "nL0f0hQvg6IKgCLCXGap/iCPmdMo+0oZr/6IQxWdkQPtRunTPKDwCPKoZuUov1qPRWk+BorfLNHo\n",
       "Ly5jEzs9JYQGQOFhLrP65gM8ZnrsZ+w49lPN6qRPOuMzcqDdGH2aq/2AII9qVo7yq1GCjc39Q0EH\n",
       "/yI2j+ZOsRBzmeXvfYLHzDNSL0EG87tQDTYMB8Wp3Rh9mm+m8ApyqmblKL/a2zPFZVD0nIw/CxQP\n",
       "uE9O5jLZy3wZPWUg40d4zDxGKQd1vvokU2xNEWg3Sp/mBoVfkFM1K0f51X4KKBYncPgXguLMXKb2\n",
       "WoolMIwVn+Ix8xiljCceVtqoaH8E2o3Sp7lB4RPkUc3KUX61Hl5oF18FxdAX30wf+z5FeEvWxVwm\n",
       "f0uXsY8PH+Mx880U5TKyk9OGq28fw99unD7NCQqfII9qVo7yq4G7T1+n4l82Cui/EBRn5jL967mb\n",
       "S/4xHjOPUdJy5PWqxhRdNAXajdOnOdr3C/KoZuUov9pPAUUzEkJ+EigmDBRTDBQHHdjh5sDSzaz/\n",
       "FI+Zf6FbSK4oOVsBkaQB2QB9WuRE/SzIVs3O0SjZnwKKH7f7BF5pbENhHkd72ZjLVHjYbAoq+Pcj\n",
       "PGZbt5MTHihbXR0A9AHZEH1aA7fhVM3OUVBUWJRslT8ZnLoIwo4Qh1BAoGEwK3OZCg+bfY5Bjouf\n",
       "4DHzDspc+W2qXejP6xIeXQwGloJcqtk5DAqC3acg+ePyiTVK7OPyZeA+hXeEmgdFfX+q+AiPmbdh\n",
       "wrc7HhiUArIfo0+Tglyq2TkMCvDivFksgyKewHu+vmIB5rIlPGxeYzdJsbMpPGaQQXS3232KPs0W\n",
       "tMo55TC/2ojxZprFMig+9GKxyV0623wscvpQqrFZ3iyWQYE4nO2DxXJ6Mw3YJolZLIMinhpsB6OB\n",
       "PzuY02upRe/XVxkUaY4uttedaTN/wwSSXpvFMiiAJLAqQLF7xGgP0Ko9QKTWFc+WC9TxkKGp9wC9\n",
       "DZD02iyWQQGkCYsdB4rdI0a7T6v2BJEayHR2hZfNR6p2IkMbG+x9dJhLaxXLoABSicV5AMXuEaPd\n",
       "plV7hkgNIk+LicNU8JGhoaBosM0Pq1gGBWIF2L4eUOweMdpdWrWniNQApjNAHKSChwwNBQX4IW2r\n",
       "WAZF+kByo9g9YrS7tGpXidTsBJCnxcVhKnjI0FBQlCgNcJVBkTrCYvtKQLF7xGh3adWuEqmdBVG8\n",
       "Kf/oDKngJkNDQTFh62yrWAYF9tK6Z4rdI0a7Sat2mUjt7NQQvClfAlVwk6GBoKDYOtsulkEBWSO2\n",
       "0o4Xu0eMdpNWDSFSmxvhnJy3OsNMZ6Gm3PJgLjc3GRoIigqLWrOLZVBgq4XymWL3iNFu0qohRGrd\n",
       "8qv6vFzxMp25iQ62pnzyYC43NxkaCIprS4oMCtCJFs8Ug4jRvN/ehGrfIlIrpqXumSAnwnR2diS3\n",
       "W6lueTiXm5sMDQTFxW7LoMA8DyxaIFosQIy2EaH5v70ZpFV7hEitPq446b6b5mU685lZUwTl4Vxu\n",
       "bjI0DBQ9+m2vMoPigtoNtt8dLeYnRtuJ0Pzf3gzRqj1DpMYMR2cyZqoA05m3Kb88lMvNTYaGgYKj\n",
       "X/CsMiiuqM3YI8XOxGjzQnT5p3FK7Pv2ZoBW7RkiNRoItPYwnbnXFLopvzyYy81NhoaBosU67VQs\n",
       "gwJLHAt/ihU7EaMtXB49My90er+96adVe4hIrdDbZ/bjGNOZtymPvAQuNzcZGgSKHv1c8JhBcU1t\n",
       "zD2NFTsRoy0bM7Q3uS68397006o9RKSm94lGe2UUYzrzNuWRl8Dl5iZDg0BRYid352IZFGAasTcc\n",
       "KXYiRtOOtEGE5v32pp9W7SEiteULUYScK8eYznxN+eQlcLm5ydAQUFBsHHMUy6AAE8Xm4kixUzdq\n",
       "ZQwiNO+3N/20ap8lUrMTQJ525eJHiFTNyhFQcKyjHcUyKPBVBb1f7NSNbaPc58NZnP/bm35atc8S\n",
       "qZ0G+vj5foq4UB0PGRoCCoap4CiWQYEPZOP9Yqdu7GrlXuxEaIFvb/pp1V4lUoPic68wP/lJ1ewc\n",
       "AMWNQSyDAk4VVjFYzN+NCBFayAheJFKD7J1e4Aj0k6rZeRwUFAtXcxbLoEjwGobbxcZbt6zH23e0\n",
       "nyBSA5nOrvCy+UjVrFxxoYUZ0Uqss5zFMihSHCjyZLGcPpgaRq8XuwUKmcofB4rLavfYmwaL5fTB\n",
       "NDXXik3KOpw/Qe4Ykan5Ya/rjtpN92SxnD7Xyc3FYso4iPXT/wE7hRZP3WIUjgAAAABJRU5ErkJg\n",
       "gg==\n",
       "\" style=\"display:inline;vertical-align:middle;\" /></a></dd>"
      ],
      "text/plain": [
       "<IPython.core.display.HTML object>"
      ]
     },
     "metadata": {},
     "output_type": "display_data"
    },
    {
     "data": {
      "text/html": [
       "<dt><a class=\"ProveItLink\" href=\"../linear_algebra/linear_maps/_theory_nbs_/axioms.ipynb#vec_add_lin_map\">proveit.linear_algebra.linear_maps.vec_add_lin_map</a></dt><dd><a class=\"ProveItLink\" href=\"../linear_algebra/linear_maps/__pv_it/axioms/ed1816b775c6861b0a6a8a447d2eebfb39da58e20/expr.ipynb\"><img src=\"data:image/png;base64,iVBORw0KGgoAAAANSUhEUgAAAvkAAAAzCAMAAAA6juexAAAANlBMVEX///8AAAAAAAAAAAAAAAAA\n",
       "AAAAAAAAAAAAAAAAAAAAAAAAAAAAAAAAAAAAAAAAAAAAAAAAAABHL6OuAAAAEXRSTlMAq1RmmUTN\n",
       "IjK7EInv3Xbz6T5NtFUAAAAJcEhZcwAADsQAAA7EAZUrDhsAAAlcSURBVHja7VxZYsMoDDWbWc0M\n",
       "97/ssNpstnHadJmij7pJVfEEDyEEybIMivCyTJny2+UhlTdjBc9um/LrhTsq83Hmk9llU/43gibz\n",
       "p0zmT+ZPmcyfzJ8ymT+ZP2Uyf8qUyfwpUybzp0yZzJ8yZTJ/ypTJ/ClTJvOnTJnMf5uAbdvoHOQp\n",
       "QbSlA/wbzF/naE8pIz2azP86odXzQ0ZuYhp7blkQMt4u/SwHvmgpDl1CJ/O/ZY2F5TMM/FNoRN/r\n",
       "yFdGSK+k+IxGiawAPQjjshdGDCH9iVRznXI0VjAf7EoQ3TN/VPvnMP+bEUNZPiMyM7AFMwZYWbkP\n",
       "5Bq9hfnQVJ9NKpCVoAdhVMCHDVEV3lohM+TR3DWG+4nFNrPhXqfsjRXMx3srK71n/qj2z2H+9yIW\n",
       "a/lMfDMD/6vCggyMZ9Aq3sF8udUzwbTgiz4VT4GPGiLhE39oWyh49KlXYZJ5Ak46JTVWMJ8lbcoH\n",
       "sp1R7Z/D/O9FjFH5jK+AqWYhaWMpNbpgBP4K5hfIcCfA1zDugQ8asgwO8wU8dkKp+As465TUWJnn\n",
       "p/kg4UieP6j9g/L8b0WsqmdAQqWp9qKwzXtR1EGRSEp8AvM1vWR+iUx1PRJPgY8ZSgLuZrjmm5W1\n",
       "k6FpdtopsbGS+enVOrTDHdT+Qcz/TsRwLZ8hJupFG3jLfBDHc1WBrSt6jfkFwSC+Yn6JDHZ7rIIx\n",
       "AHzM0CDzyapF26BviMrzTomNVbUd5ebQpuRYbWdM+yfVdr4RMZblM7xw6TS6ZX7IlgVIpUoJhpgv\n",
       "tAaCyWOFK6P6dsX8ElkCXVqsYAwAHzNEVwVcbqpUlu80ztDePkMacpLr7MyPjVXMxx4hF2PMH9N+\n",
       "cyht9qr6gvktYvHxBnvL8Hlcy+MbscPIjLxjPjNc23E//hPtkRNvmYBqkC17NdBWp891WO52cB6O\n",
       "K2Sp6dIiWp8CHzNk1UCT5zfOdKsUyM9WRC6Yj9Ye8ylIP/z22GDolyrcZ36mjWIghcoXsJByL6F/\n",
       "U/AyxlqznPjC01Z3le0myR4F5OhjARWfM7/wzxNfZQkh4wZLiTnr5SpK7w1Wzva8bTGk0/INFqNp\n",
       "N4Hgjvk6LOFQpcGCaiTmI+qYIBaATqK8zkMAVWg5RRZBVxYrGAPAxwzZ2NQwv3WmmzcRN1upvEoB\n",
       "Y2P1SZbriz1J1F6HSHES83NtGeylRrm3Bjw6FJnENOCe83Em1FusEJHxkw29AB2oRJ4yv/TPr455\n",
       "lo22w9YB14GCYtuOBitnO962GBQpn555GGNwfNFRCOBKVQF84SqBTT1pRpjP6kC+/PPvVojZq+UU\n",
       "rKSYEyWyCLqyuMMYBn5n6Jz5jTNMJS94UdbkJ7nOPu6xsZr5bt6uRfudU7Sd+Zl2PAeR+dIpNuUT\n",
       "tPgWZnsoWHLdqoDwhPl7hb6A2kkA1xaxJyhTutlSIVPCtUhdSGdHg5WzPW8bDC3zo6rZ7mJ+ir17\n",
       "hYQMxXzfmr7I7EnGdoazBaBBlk3XzCJRT4GPGeoxv3FG9CvTFjMil51C+jHf0gLt9m3ORKU4z/Nz\n",
       "bWrSAnvEYOk5FBXykzqfjHkqSaTd37XUgNrszjVGF8o3pCUWLqqiSO6gEfU1RBIVQ1lA7RQt1xZx\n",
       "yMfXvHcV9AxGFVx6nG5uPWc73rYY2mwnZkSbumE+SztNkEI03IbyfLf4U/fdkX3ms3J2crCcIjtA\n",
       "5xbh9hT4mKET5l86s79rhLwOB7GxhvkS7v3BDEVKL1fMz7TdtKa7NWgctYmlDCPtFPXbFNe9K/Rn\n",
       "GxL7XT91R84ktOyOoq3v1gtfEIsaQd+lElQv2c2SEirE58zPEHua5isoNRohDFgNV/KjntBztvW2\n",
       "g4Hr8rkf/NTXFxoCxWzZOrmWY3Ud84VN1YAq1taSLNUW8ajttMgC6NpiBWMA+JihDvM7zuhuKYOf\n",
       "f0tm2uHyPvOpAgdwSaW6ZH6m7YKnzKY7tbyiNr/TZW/uMZPBmHIRLlwPURFya0cq5lu1StT+gSOX\n",
       "vnmNqM/sdtbTl/AuVMLPmZ8htrnOntQfab7wKU8B99igJculs623HQypcpeeVO1jRa8JtKq4Su9z\n",
       "FssB5kPDBFahTJNADdXzO8gC6NpiBWMA+JihtHHiPIstjTM+DLb5b+eiT7zTEJkfG2vvagJWNN+r\n",
       "fWd3NQ9tG8ezgwVh/K04A1G6JrFyLzCZlr4ogqwQYrIKo2N3YL4jnE1yXAUoakR9S6uwN4OgC5Vd\n",
       "MD9DbPtASpDd0wppvk9lcrjsUEkNls623nYwsC1/CuuB5wN0v8gLAoH91hfsDcBFzMc2KkKMzs6r\n",
       "Jesyv4ssgq4sVjAGgI8Z8pV8YX8akEz2nBGAkyYX797sCJfXIvOrc9jeCuqzNG3EFfPzSmo+H5dQ\n",
       "ZTT7NY2yWEkCVeI2O+XRIC3Je8x3KTe3HIsaUZ+JWJXd6VVCvcp26qI7zY/oYcDGSrgY7+WF1GDl\n",
       "bONtD0M6zbm7OQ9vr//SbRlg/lORV1Z7oOn2FPigoWEhkle3F+47JTV2wXwW1rpO0O8yn8VLSXGD\n",
       "EU7vMlTlgdcWbk/4TEYvXPqHj+Ou2u6jrOY2ltrn5hK6qBH0Pat4lrhWUDsZYKd3YkLjypoBc5he\n",
       "IgSIAy41HLtSpa9wbqWzp952MOxXpW5uo5Db278YfTnze6BrGGTk6veIoTdJPN5Dd8zX3LhiCVRG\n",
       "DjF/2USss/poCOjxMxCoOCBKIVFKT5HwwMSmHzIUBaB2GhojxFZdKUKskfSWOe1B5XSA+dgn/AKb\n",
       "lQTMaDXSnWPBEq7ABNrQYsLrZDo6e+ptD0N6i3/wivTATdNXmK8vS6Ut6BcvvH6aodeYvzf2js9k\n",
       "nSSWQrrEeWhImBpE0ju06lZ671ZEOAi3bbDvbQ9Dek98cKQHZs4rzKfm6gZrC/rFCfxphl5j/t7Y\n",
       "G5hPPn6Ph5lRTUzH3rth/jjm2vjJf/YwhEps9nxN9ABR5Cufw6UYXHC/Bq1f5eunGXrYbZs7RTsa\n",
       "ewPzP560UWCGL++0J23dI7wb5j/AXDXY/080v5Hop8vv/wS6uH3DM//zvm9HfJLOlO8TvW3qj3z3\n",
       "wpQpp9H/7cxnGsnZz1P+HPPd57/57Ocpf475nM1OnvIXme8Of+bOb8rfYz6RCKHZz1P+3g53ypTJ\n",
       "/ClTJvOnTJnMnzLlJzMfCSFmmWbK7xdHZP2A+cYKnt025dcLd1Tm/wHE/F3L7kJnhgAAAABJRU5E\n",
       "rkJggg==\n",
       "\" style=\"display:inline;vertical-align:middle;\" /></a></dd>"
      ],
      "text/plain": [
       "<IPython.core.display.HTML object>"
      ]
     },
     "metadata": {},
     "output_type": "display_data"
    },
    {
     "data": {
      "text/html": [
       "<dt><a class=\"ProveItLink\" href=\"../linear_algebra/linear_maps/_theory_nbs_/axioms.ipynb#scalar_mult_lin_map\">proveit.linear_algebra.linear_maps.scalar_mult_lin_map</a></dt><dd><a class=\"ProveItLink\" href=\"../linear_algebra/linear_maps/__pv_it/axioms/de07bf52e411cdc7abcbf4028b381b0e77fa764d0/expr.ipynb\"><img src=\"data:image/png;base64,iVBORw0KGgoAAAANSUhEUgAAAu4AAAAzCAMAAAD//H0gAAAANlBMVEX///8AAAAAAAAAAAAAAAAA\n",
       "AAAAAAAAAAAAAAAAAAAAAAAAAAAAAAAAAAAAAAAAAAAAAAAAAABHL6OuAAAAEXRSTlMAq1RmmUTN\n",
       "IjK7EInv3Xbz6T5NtFUAAAAJcEhZcwAADsQAAA7EAZUrDhsAAAjwSURBVHja7VzrYrSqDh0E5abs\n",
       "w/u/7OEqF0FxpjNtvyY/ytSmZAWXIQScx2NQhJMHCMivlJv83bQRAsMG8juFW/7ycbrPMGQgv1sw\n",
       "0B0E6A50BwG6g4AA3UFAgO4gIEB3EBCgOwgI0B0EBOgOAgJ0BwEBuoOA/Pt0R9u20W/uAeR7RJk7\n",
       "NxUf/nm6Lz+gB5Dvi+X48AHo/tPoTqv2xr9chTt2H42Y5xd8uO/Ka/GcFcaA7j+f7moq2xGZ1YCS\n",
       "fOb+qWUWz/swgA+rL6SVczEZa9Id7doTvqb7qPbPoftLiJdPuzzJsu0yimvNEeILsXRU+D10n/QV\n",
       "2UscPewHfHT1V5aJ6fne82fsuaeJbXojLRcVPqM72c0t9Jruo9o/h+4vIV4+7LJYyvZEtFfhq+XZ\n",
       "It5Cd7k97uHoYa/xzf69OLw9KLo3fQgdu59Rx8VorEl3Fv+L8oFkZlT759D9JcTLh10muGz7wrQK\n",
       "Adi2mHwX3UscPewHfJ6RCN3HtK7hA+q5GI21c/f4MMhpJHcf1P5BufsriJcPu7xW7cmsrlloXeqw\n",
       "iq+gu6K36V7h6GFv40OXT6nim5F8vlh0+AvruhiMtekef1mGlqqD2j+I7q8gXj7r8rSU7YlwHVt3\n",
       "2xf8JN0LGk7kNt0rHD3sbXxXdJ8XdXhMkHbPJJV9F4OxTmVmtQ/QtsqxysyY9k+qzLyAePmsy0SW\n",
       "rbmDSuFm/TC8VB9zCYnG6C6UQoLJNFGVhN56dB/FkbCXlkp8dFmRzRLXNUtnDtCMWmNOkHpupzKJ\n",
       "7sFYh+7E+cHFGN3HtN8cBQ9rRnVC9xcQL092MA0salU/BsaW2v1AwrspM5VxwxCnmEq2TFDFBRNO\n",
       "FVJGp03wqbRFlrs4EvbSEq5i/oIOufsBWrs0gLU1gOcTuuPljO4UxR9uvauJhb6spE33TBuHiDet\n",
       "3BICr/bXyV0UvAyGpls+u/LRVt9mpZRktyJn8LWASvp0L/xrzJg9j/ceygHimkiCEG3lIqvaAV4P\n",
       "ztFcJM3eWrVVNVNmJKVMN31ah6I7ppYv4oFwJ56r/KGO5cIbOHbslaUaHz/Q/QitnT3OdpFA5Vm+\n",
       "Foz1tpmsi3tqp5zuLEUnuufa0vcbjXPXG/IJb5j6mELcET3Qv14N+dBJ7izRBWpAnWWX7qV/jwpX\n",
       "3+PUQ9EB3rJ5PuvmQSaxbQng5eAcIa9z0ZKi7J1KcFnKnKLsEN1ZFrK9/Pe/rRC918EpWqJj4zh2\n",
       "7JWlGt+R7kdobI2geGGet1OZdIuCsR7dJ5U9SQ5IY69rp3umHbYhZD73iW11iVi4RNgeBx65blWM\n",
       "uEP3vRBeQG3kecsR8d4HYY8rj1MPRQd+feXdybuRNnqzBPB6cA6QK7qvZfqQ76royp95LLo/DlF6\n",
       "qxeHaRwYCaH+Bo7kQ2lpvozuR2iiXfjVWzuVSS7O59Hd3Eq8GzKpEW0FunSIIGlTHWfIFCYl1ikx\n",
       "zbfTXM7l+CCxsn9XUpmUYHH7DPRB+YaVtJtzVOLAaK8R9NWEJS7uUAG1USZcjojNmst+LLb5eh5n\n",
       "PeQDtDpDLivOu6EpBG5jg3OEXCYzQqt+tbsKG9M2lrvbZIDaL0xs052VT6An5R0cyYfS0rQN0L2C\n",
       "9mjXhTYt5PkTHYx16S6n3U2mKW5maYnumbYdCLrf80lbPs/mvrP5+Hy6NYgNDMvk9iIkcct4ajeD\n",
       "Z2/ZbhKbQTDerJYlQcPr26mfunXR0oQ6kT7dE2LjBVtLXF2Psx4ylx2tqQvxRTeSp4LC0OA0IHNV\n",
       "tNr/89xKmauL14efLBeEybvQWsyxJaWqxWHI2G7giNhrSzW+A90b0B5KtUuf/GICC8a6dKcrSg5I\n",
       "KtdTumfadoEtc+KYyEU1i/FrzoOojXZsCpnVzIVlNxU+/7XMYM6qUaLmDxzbqOI0gj4zC0rh14pN\n",
       "qDPv031HbKsLgpW4uh5nPWQum0dDqYAk72bFNZKLwWlAjuW60PpaiGwUABfdKWGe033STBDj6pym\n",
       "lXmg7n4DR8ReW6rx+ZUMTwPQgOYD4zGXPT5iYTkR6R6M9U9EIlbgaJWYsxORSdtE7GwjQGh3HE1P\n",
       "OJ5aWLiTKXYtHV+wkXnW2T6HpbSnu2WNyWFs/SZoBH1bEnGOTqgJlZ3QfUccEssCV9fjvIfkchaR\n",
       "8m5YymUiwIvBaUBmW9lKifFxo8XQT2uuenfnLLoTEzAngnvbwzWj5W0cEXttqcTnKu7C/NQo/nsT\n",
       "mkD8eCKzdWDCLyci3asd0bMDwG7iUo2TcM0Bxbp4Gn1FT++nJsr64uxveFg3x1wXxTl1j+4btlOi\n",
       "iBpBn4lQUN1JUkI9S2YSQHrE1fW4XQpLUbzohpC9wBABXgxOC3I8kn73aDq93v581xGxR8+Hm/g6\n",
       "VWLJq0ME1y5GYwN0Z54QjWDXpDsL3/geFg9+CZ+hK7dmNn+YwSUq6sGla1zEtkVtFx8VN2HQtJvN\n",
       "24KG13fc4Fm6WUFtJHrHUXJ1B1ng6nvc7IHqLL1N3VDNiS0vuqLkNjY4Dcj76aabX6R/faTsc3Rv\n",
       "YScfOS0eXIzGrumuuLY1imltrLibw7WJUCJ1cczvvWQ7MJSzRmoopbvRviGzlLaGZ9iBJ2U1FMGY\n",
       "LapSnIjC0vXMaQsqpyNkJX5WTrhOPG71ENRr9wSZJxOHtP89QrkYnBbkeInfOms8clbzGbqr9RnW\n",
       "HbF/6Pisd3E39s63mTrpoJA2uR0aaTY6tq0dpWaR9mQOHMR1NYu2uzkAbA9OC3K8JvhrBPsaulP9\n",
       "zCHQI3ZOP0j33dgb6T6/fobmemNwnxrp2LVve3mvAtMZnBZkX2vN2qEgPMIm+cy7qpSgJwhfY1cf\n",
       "YbvaXCEiGXsj3V/PzSjSwwdnjptCzX2273tXtQTYHhwMX9zzXvl3Xs0WlxccWV/+lpinexBfogLy\n",
       "QqzffA1t//CAbxED+Vvx/u10ZwpLGGeQv0F3+14zh3EG+Rt05wwGGeTP0N3utMCaDOSP0H2WGGMY\n",
       "Z5A/slQFAQG6g4AA3UFAgO4gIJ+mOxZCQJEF5JeKZa+6QXdthMCwgfxO4Za//P9BeFnlnF33BgAA\n",
       "AABJRU5ErkJggg==\n",
       "\" style=\"display:inline;vertical-align:middle;\" /></a></dd>"
      ],
      "text/plain": [
       "<IPython.core.display.HTML object>"
      ]
     },
     "metadata": {},
     "output_type": "display_data"
    },
    {
     "data": {
      "text/html": [
       "<dt><a class=\"ProveItLink\" href=\"../linear_algebra/linear_maps/_theory_nbs_/axioms.ipynb#identity_def\">proveit.linear_algebra.linear_maps.identity_def</a></dt><dd><a class=\"ProveItLink\" href=\"../linear_algebra/linear_maps/__pv_it/axioms/1e08937b2a8a3d85d471cb87364faff60f60fbfc0/expr.ipynb\"><img src=\"data:image/png;base64,iVBORw0KGgoAAAANSUhEUgAAAQ8AAAAVCAMAAABvy5tFAAAANlBMVEX///8AAAAAAAAAAAAAAAAA\n",
       "AAAAAAAAAAAAAAAAAAAAAAAAAAAAAAAAAAAAAAAAAAAAAAAAAABHL6OuAAAAEXRSTlMAq1RmmUTN\n",
       "IjK7EInv3Xbz6T5NtFUAAAAJcEhZcwAADsQAAA7EAZUrDhsAAAL2SURBVFjDzVjbkqQgDDXc77P8\n",
       "/88uKIpKoNXt7lkeLEsSkpyEQ3CaLg85PRvBe3Vfy3A+fWssHt6ML5CH1uyTwILgZixBwxsByz7y\n",
       "kN9g+0boSIPYoqlj1GA+jAeJPQvSLW4KoiK/BXDye06p8tEzzMeQV2bbomJUMEZsr9F/vj5s1waP\n",
       "cyzUT/JWViYT1xA4dHwUaUG1Tko9Wo1txaOi/U08pgUEgNtrOldeoOcjZQWU+dOQH1wtvMjfjkeQ\n",
       "1/EoMbFXS2qfhth9EbHMqK6PLmFBS+bFcD/XWR3fwqeHWifszXhwEZrNBHFGXdq+jyJj4TKQ3g13\n",
       "AauzUTzBw4QARtlahMeAfQePRk0KB3mTO7fbMYgUQi12KWwY5MzmSTbXjx6Sk6CVz0IXNL8bcLSV\n",
       "0hkgJBEcAXIiL1ZAb9SSK9DwRyOFHg005iAoH+BBs1kJ6yOx9lImxOnjJvOkoqxGgh1bVGZ/zAS0\n",
       "UxHhkI/1UG3VUuIaPFopgZ9MtrNbNjyIW0tjLZiFNxstx0+s1BPs2FK7nC/j548/jFhpWoIo760a\n",
       "hkcjpdy6qj4cuLqzW7bw1RwcCRuipQ9qoqx4RD0UHPCpCwPG4GJXx4rtqsWFV3g0UgZvHVLjRPnQ\n",
       "R+5KedGynJyzRJvtt+2XlT4wwRF/ZM0kbAyOhzoRoIZa5Qe1Dh7Dxbev0dhxzogvrcfmTg5Xto27\n",
       "Dgf66AvitozmE7hDPR1dPhPgcr4gaggeiFRAOV9H/aKGqS70BXv2RkC0sGE8FsRtkagMSy7z2vPx\n",
       "C/0Hopai0vU59aQE1lwypJMsXXzBY20rQNWanwJy8qolX5Auc2BHgp36YCljhNFeC2wVigeiNnce\n",
       "Jj0jrDWALZ48be/HFOvhlqtdwcPz9pDmqNPNL4ye4MfvLxcHt/rUr7/2UbZWVcQb4QbbnuD/gseT\n",
       "OwVD+NB3NoGWFwXfgkdwv4DH+IZ/Jh79b9jfGzKS7+Ohb/0xlOGprSf/TyWD7yESfO43558OfwGo\n",
       "DBv/HIyuqgAAAABJRU5ErkJggg==\n",
       "\" style=\"display:inline;vertical-align:middle;\" /></a></dd>"
      ],
      "text/plain": [
       "<IPython.core.display.HTML object>"
      ]
     },
     "metadata": {},
     "output_type": "display_data"
    },
    {
     "data": {
      "text/html": [
       "<dt><a class=\"ProveItLink\" href=\"../linear_algebra/linear_maps/_theory_nbs_/axioms.ipynb#commutator_def\">proveit.linear_algebra.linear_maps.commutator_def</a></dt><dd><a class=\"ProveItLink\" href=\"../linear_algebra/linear_maps/__pv_it/axioms/25471d9587401d4c05cbfcde7516b091cd9aef0e0/expr.ipynb\"><img src=\"data:image/png;base64,iVBORw0KGgoAAAANSUhEUgAAAlwAAAAzBAMAAACwD8slAAAAMFBMVEX///8AAAAAAAAAAAAAAAAA\n",
       "AAAAAAAAAAAAAAAAAAAAAAAAAAAAAAAAAAAAAAAAAAAv3aB7AAAAD3RSTlMAq1RmmUTNIjK7EInv\n",
       "3XZ/CtNrAAAACXBIWXMAAA7EAAAOxAGVKw4bAAAIAklEQVRo3u2be4hUVRjAv73zuDN3du6uEL0g\n",
       "ZqIQKq0hLTIrx+zJYm1FYA9qTCIyqYkgMKud+iOIstki81G5t/4QXMjGTCS3hz3sJdUmRQY7dLUi\n",
       "zFytfKRLTt937jln7pl7ZlxrC5L7wcfce+53vu+e3z3nO49lAXRi9fc7EEqD9Pf36x+ka7V8iKdR\n",
       "+moHmuDqDuHoZEqIK8QV4gpxhbhCXKGEuEJcIa4QV4grxBXiCnH9f3Dt3DJ622ITa7taCpSZXJv7\n",
       "OkxRsXVl0xeDvdV/g2vt6E3trLC+v+FJKvhO27higwo6Z7fo3De983+HAqscc+vKXmsKdNLjU4K4\n",
       "2ujXyI0RLm0UnZwh4d4jiiJ9v447dokGl1HxFCW+Wx00tXHj7iyBndO4b7jjpqqQO6r8PdTVw3Up\n",
       "Pb4jiCtKbxcvjhEubRSNWAWBy6jJwvZegEwpiGsFV5SzVFzwCUDbHwBzNe4b77ipIswdVo47dfVw\n",
       "PUJ9rzeIK0EdYv5YDUZtFI1EcwJXNCM/VQ+OhVvzQVwzuKJM368OpkM4gvYATOb3sVzdvRpMmirC\n",
       "3GHlSL6uHi4Cl8pqchd9mdfGCpc2ikbaZaZb944cIdPwapobxLWBK7peoPaPCN5GkEO7w4etW3ev\n",
       "BpOmSppk7qjypyDVwxVBxHFdqp+Ev4WxwqWNopHxApfp7pJ0M6jzigFcRsFTlIft35RHbTiY4h+h\n",
       "5lRc4wPBpKlfPHdUeQ5I9XDBZ9XqJh2u9mp1qDJmM6Muika6BK4onJXzJaKXtgRTfbTiKUre+J39\n",
       "zvy2JLKddRJepjpVXF2BYNIUfVWX8AeeO6q8GqRyXFcALNPhipYg6fwNNobIObYfl4zS2uUcgeta\n",
       "KItvlTgwvHWOWEjMrJJ8Cfzre90nlk2MsJJs4nZWpbx8+Fh6EimouOYEgklTgNvgMe+LcHdU+VyQ\n",
       "ynHdCyZijGUuhvgHflxYei/AhdgnJnjUY5lFkKjywDC84wl9i88BuGZPFublIe/D5UXB2ehjVvL4\n",
       "noEreW7yRQDYLHDloadTYMe8OyEX7F3prKfUFc1f6XeNmCl3FcF4nzBtUHFtVhxs9ptCKicmTu6O\n",
       "Kk8AqRxX0mEv8gvATY6yTF1GFimsswBvnjphEbTj9/5JjIQSTNcvBbCV9gaIrUd/Plw8CqS8JBMZ\n",
       "JCPmVURgspHjsp+9JCMm0iQapP4I4mrv9hRg+yXT2R9MC8AHxAuoNFUkdrNBVh3CXNDJ3a9g/XML\n",
       "v5OmLLV6A4C7o8plkMpxGS7LwU+D3a2u6s+k8MZBAMoRV1AbdrNrMau06ZcCWDXZCT+Ct1oRuHgU\n",
       "mPW5l4vzENnteeURVFyrADoGeVlHJ5u7muOysO/8CfWVEgB1jmm0HG/oXRsVBxv9pqwmW6cJd1T5\n",
       "ZpDKcUHhIjL63VzfsAmKR7CeuRciRW9ZizZglGDNMNhvHxc/EUzzxYted8w1uATdsbVI5dum5iBN\n",
       "DcwtoLeWK4e1Mgq4s72mZuGVnOeVR1AHI47jNG8qlDG1tO0N5i45GKOoQyxB8K1TgjJ1Bu2NwcMN\n",
       "RmkKtsu3UsIdVZ4IUgWu14hpYv8FbgOu1Hhq8yG4D4F7A2Mmuopno7nXocv87qtuKBftQlulvZjK\n",
       "RytYfk7FdNn7lu9jfcjI+3CxKJj+L/NWnt9PPl54ZRG4LPesaVlJGxGHZxcoF4K9K+l6CteJLVNy\n",
       "3cvfiGyX2EdjvlfFtVxxsNxvCvD8AxPZZxPuqPIUkCpwPUij2h5ZsKEBl/kuXc6mkcJXxT3dj+Io\n",
       "ji3bDw9AYusheBJgr1lM5l4tmg6WL9lzOsAN1MB1b7K5odeHi0WBWZQjKb+DdYzwOrs+FtmkjdYP\n",
       "Utv3g8XaMQ89fegEcdFET2rSi/exlk65iwGO0zCaC3KdIXGtVhys9psinufY+JLuqHIXSBW42ijR\n",
       "JXthU+OJxPGsR9n4BpE7ly59howqcMGkSdfjd7co/SGu92HHTvdWtMPy7htq3XAyXi9lswIk/LhY\n",
       "FOgayLAGHUPsuVcWgctCZr2yNheMvn0VqOKTE2gPnNWcSCQGmVp9+xw4rXaXb5FKe/Jn/CcrAtdC\n",
       "xcFCv6mcqqQ7qvw1SF3rP8DpyMEuR3eAM+1aejPvK8X2ujRHmAdZnk+z3pXOJX/ucdjckXBwqfI4\n",
       "y3H2wcbBKJZiPQzbe7gLLHGvLIIIXFKOewyn1QHOFq7N5SFQcaWVo4d06XCVzcG6KrjKRa9HBHCV\n",
       "WZv5QnbIgWTOcp+HVR3duJQqO3bvq056OFmxXCzflodeSvUJzAebvOTZgAvTQkfWqhBw6yvhtZz3\n",
       "bfbyCq5Uy/OuyVDfROtlRsMWO5JXdpb5w1WmTbhQPy67bz1MGNHhSrMPPN/7EKeiDgxD6m03etNA\n",
       "Bcpn/wD2jPPupjJU46qpRUgWYfuIY3yB7JPFBlzRd8G6+vbEe3DuyMCVWeE17V/oL1ZwrWqJi/wn\n",
       "Wx0xBc9AFre401SeD3VdewSnqdYbSxcFzZ7UVI3V++jKJqepRguvKxVrtyUumlmtVqdCQZYrW9xp\n",
       "Ki+Guh4JLr2UdYWXB6/eUjPMja2+qdtoLfr/UPCdHubaTH7SuW96F6xsF+u6c+M/xWVmdCcWKTG2\n",
       "Is2cjM2J9tHylyCBy4KjTsK/M/47uJ6aGsIaPa5EZzKENXpcyVLI6ghwpR0rhDV6XLE1k0JY4cwY\n",
       "4gpxhbiOLlznh//+GZT+/u1NcIX//qmRvtqBvwB5KZElKNBRJgAAAABJRU5ErkJggg==\n",
       "\" style=\"display:inline;vertical-align:middle;\" /></a></dd>"
      ],
      "text/plain": [
       "<IPython.core.display.HTML object>"
      ]
     },
     "metadata": {},
     "output_type": "display_data"
    },
    {
     "data": {
      "text/html": [
       "<dt><a class=\"ProveItLink\" href=\"../linear_algebra/linear_maps/_theory_nbs_/axioms.ipynb#anti_commutator_def\">proveit.linear_algebra.linear_maps.anti_commutator_def</a></dt><dd><a class=\"ProveItLink\" href=\"../linear_algebra/linear_maps/__pv_it/axioms/1ccff941f344b2be2f6b4c3bf28ec2b7cd6603ec0/expr.ipynb\"><img src=\"data:image/png;base64,iVBORw0KGgoAAAANSUhEUgAAAkIAAAAzBAMAAACJaHp+AAAAMFBMVEX///8AAAAAAAAAAAAAAAAA\n",
       "AAAAAAAAAAAAAAAAAAAAAAAAAAAAAAAAAAAAAAAAAAAv3aB7AAAAD3RSTlMAq1RmmUTNIjK7EInv\n",
       "3XZ/CtNrAAAACXBIWXMAAA7EAAAOxAGVKw4bAAAHRElEQVRo3u2be4hUVRjAv53Xnbmzc3cF2SyI\n",
       "nUg2UtOhVcl8zaaZsliDEmhKrcgSrlAjQWBaO0b/SOqMkqxutXsJClxIR1eR3DQfLT2s2MTogUuT\n",
       "BmLmuuZj06WdzvOec++cGbWWqLgffOy953yPe3/nfYcFUIne0WGCKwAdHR3qikg+H3fxIGnPXy9C\n",
       "KOHCYTLFJeQScgm5hFxCLiGXkEvIJeQScgm5hFxCLiGXEFz47tZtk0jfVafX7ivmkLxJwJsXWTkk\n",
       "JY/9zxDad+umRhRpo0mftsFRua61iENUbU/kaaWLUl4E8OeEkueeApW46t5CQmX4ryc2TISUWVQy\n",
       "FukECggC/VZXz48YsSIFsFntMNZpLzsZMZULj2iT55GekZQSehRXPVtIyIe7USA5TISUWRSi425w\n",
       "kN1MEG/8GUDZ76LG7qA3FNjLTk2qHLxSFk8ev7IplBJah7tnppBQEDf76uEaZcosCvHFJEJ1A9bs\n",
       "MIT6/RUVIezgizntbU4T2f1COQevtMWqRh3CGxdKCWFW4ahiHsLo9wwXIWUWhZSDIBReY7WxF115\n",
       "h1SEyrmTzd7mVM4G7Xg5B6+UZf9HeNh9LpQS8iKiAdVMXYv+NgwXIWUWhdRIhF4xfuPFZWj8BD5R\n",
       "EarhTjZ7m1MgZidUI1fKfS53EbfhcqGUEHzZ23tcRai8t/dUdtjWMlUWhdRLhOKey1ZPyYB+d0pF\n",
       "qJ47Cfv536dsTuFKO6F6uVKYgw8mYJa7hTJCcwFaVYR8KQiZfwGHx5rdcxIhK0vpkLjxYA659EeD\n",
       "g7w43dZXhZ/+V3o7vxfL1yC1uLAPRIONNidvg53QcrlSmMMCSOMeMVkoI7QKNATZX/0IBD6WCaHS\n",
       "VQDTUcuP20YfoXorBHv5a/edf139kpOsYD6JEM2CFpJPScn6K13zWNNJGQBO4N5+jDWpdokHuJgE\n",
       "Dy5tLpjKTjAV9p0A79mcPIfthE7IlcIc4tCMH3GcUEYoZIYTtHmWmLYdYyu2CKPwa9DNpju3QjlC\n",
       "fJbP+ymoU6/XlVYwf1YQYlkgTOcKbw8Yh2lUnoFINwJURber52bXWb/mvYUUT6N6lRNRN1Nh3wCs\n",
       "73OnYD/tdl+wbtctVwpz443Z1Xi1TQtlhDw5MoVuBiNh31OPx96eGwDoRX1zcYx+cs0XhDL1ep0Q\n",
       "wZoEIZYFFn1FZ9E4ePtpVJZBvPBrZDjqqLP+wYtx55iJCsKNUIyQZd9E9zLCye/oQ91ypTDfCVDR\n",
       "g/4uFcoIQcMMbHBZO+A4dQS8KIJ2FbxJusNENuBJQWcfGIfuCNwFmvb2jL2m1ol2g6gAl5+eGoOI\n",
       "FGyPdOqgWSC3jAKOwvsxGpVlkEbAZjpoAE6x0iCegqsT1m5bmoesUWbZ95HTg+Tk6SkcZValZY4G\n",
       "GUQwyweEckJ7cFMHB6blHITCNfh5huAF1EB0szcfPUcg6ovthXrtx5MJSCeNhrJseRJQASqflNVy\n",
       "JB0PNloiRLKAwabh5jMTR/GoJAOTNmstW0hPATrxQlvB4DV08WFBl23jTswejZn973xrc/Jm7ITa\n",
       "5ErL3B9jx5YpQjmhtXjmMAbXHHYQ0o7gy2V4CPjplqI58Soanv7WAXgJgj8NwQaAq1oyFNNRASrf\n",
       "dmUMwGIp2GKJEMkCi9hyNB30kTzqMjHIyDJLCGk4QHsSduGFKIBuljaBarXnazO3x++0kvQ0y8mX\n",
       "tRPaLVda5msxrQFp/1AvCJXhCSuUgePOs/0o0m8MFMC7Yvv2LdgoC9Nqa5/sJ22bxoSOwfkLOT8q\n",
       "QOWJxfkE3CMFWy8RIlmgvquaPM9IjJtFJRmYbGSE9PZrJtyfXwmRH5Br+6URVVtASWgjVcte7Bct\n",
       "J/6hYrxwEZVcduSbwNN+DcH8BizdJ3/9qIjBRVP19WPmAjxsaDP4r+bwFK/dINN0hPShSCz0Cy5A\n",
       "5UETbT3WS8FGO79+GAgMIXUU4JkUi0oy8MQpJ4cx8k0hIewQSZXcY70MdkKlzbUeoTZC6SRZzAsJ\n",
       "peMA1p7ylAloTOXehJ0VCbTFSZtGZpcZ6QNUgMpPxyFDZmoerM9JCE0WFVE9ixnrJ3lUmoGdpeJO\n",
       "DtnShPghs4TMcpxcS5vzozBWmZDRfgDGDaoIRUjPWk25407R1QfhQznfkq4spB/8GYxZDz2HC1C5\n",
       "5/GpSQglRbAWByHfEdCfaAwehcmDXfOiPGpE3ma3iJ0z8EVcyJzCN2qR8qg7RUblUlRWS7rvNr4x\n",
       "6h9s31potkHh6heNrmfU3xg9JaLucOycDdtTHCvMt4NpUQklVS5FpUXS2yGklrSq8DHRYfmzHbR/\n",
       "p36qVIvjPVid+juJtjtaxCFXIuJZpUvRr8BJoRe6/y4hrVp19g+b0glNKcPzafc//FuHWXDh/hr0\n",
       "f5ZbJrRpqkuoJKFgZcglVJJQKOWOstKEIqbuEipJyN9Z6xJy1zKXkEvIJfSvIvSw+x94RDo6zhUh\n",
       "5P4HHpX2/PU/AdTUcX2icKjPAAAAAElFTkSuQmCC\n",
       "\" style=\"display:inline;vertical-align:middle;\" /></a></dd>"
      ],
      "text/plain": [
       "<IPython.core.display.HTML object>"
      ]
     },
     "metadata": {},
     "output_type": "display_data"
    },
    {
     "data": {
      "text/html": [
       "<dt><a class=\"ProveItLink\" href=\"../linear_algebra/tensors/_theory_nbs_/axioms.ipynb#unary_tensor_prod_def\">proveit.linear_algebra.tensors.unary_tensor_prod_def</a></dt><dd><a class=\"ProveItLink\" href=\"../linear_algebra/tensors/__pv_it/axioms/026244e3c85720162558aa90459257f16b6155d50/expr.ipynb\"><img src=\"data:image/png;base64,iVBORw0KGgoAAAANSUhEUgAAAY4AAAAzBAMAAAByCfJQAAAAMFBMVEX///8AAAAAAAAAAAAAAAAA\n",
       "AAAAAAAAAAAAAAAAAAAAAAAAAAAAAAAAAAAAAAAAAAAv3aB7AAAAD3RSTlMAq1RmmUTNIjK7EInv\n",
       "3XZ/CtNrAAAACXBIWXMAAA7EAAAOxAGVKw4bAAAFlklEQVRo3u2aXWgcVRTHT3Z3dj42O8mb2pes\n",
       "KAW11MVYUFPjxPhRCNVVEVoKkiIifqBbKkKNtatvxdpdhWAT0cyDCOahrk1D20RLihaEYq3FBx+y\n",
       "OKaGkNam0TRGE2w892Nm7u7cJUVXccNcSHZyzrn7v78z995zZwiArBmDgzbUTxscHJQ7ksvLVh1x\n",
       "DCz/UYUjA/XV7gw5Qo6QI+QIOUKOkCPkCDnqkOPi9yuGZIUgfqUKzurdWPR/wzG8YoSZEoPY5QSj\n",
       "6QZ4QtrH9QxTjmZiuiHI0UA+I+kacUhVhHYLBDgiRXodn0VK6TBcD+O4n5ieDnLEyC2JZ2vEIVUR\n",
       "nj+7gxwfsetbcbTwrKyT62Ecr5M7VAhyaCSFu2o1r6QqfovxtJqjo+ddjk7m6ljAX7fLOrkexhHH\n",
       "B/FESrI+SA4O1YpDquK3RjZ4DSEOZjjHGPUken4nfsnbAs/DOKKYirhsnbfiZ3etOKQqflvLOPbi\n",
       "NDZ6GUeEab9m/krmt2SBeB7GAV+XSqdkHI2l0nixZvuVTMVvXSzIOgLwYYJlOMa0rcgcyX1zsI/n\n",
       "4RybAPplHLEc6HbNODwV6Vc+SYPMbCJrWEaRjozdAiWlLeFHlN6czSXSvmVdfA/n2AEq0iot90L8\n",
       "S5EDrTv+zqAj7h5nihxMBafNV9x2N96edQf4H2dpEG71R18CYBlO0tUUA/UX8p1jwa3B83AO3U6Q\n",
       "LfZngG12WR3sJxGCnNLSC1rJ4SEzF96Uc2wAeORyCp63wBI4uAokyKTef10vJHBoPW7ASRqUwNEh\n",
       "LLsfjTR8+r4O8mpKmw3I+B7OEXHoAnwbzEx5PV9PlrkrR6QbccpOuenIQYe8FOBIzDFQRjAvAgdX\n",
       "gS2nse8mkshFMuIyjhhKHcWJ73MYmLU/SQoD90PwcA7obieOOXWk4lwSjzqeHJU2Z31p3Ckb5KUA\n",
       "u+rNMEm+wBbqGlMBZzvAOXqqmIeoV2XPcg61iMm0/HmFZDBOoM9Urg/B43IcIpVCW9joVHAk1tqe\n",
       "HJWGOYjkYGgGzOPXxNeAqr7ffthWh7BWo4HYJ9rSkMS4pnQPQfAKxrCrgmvmATBYPbwCOz29D2iQ\n",
       "lsKpOqmwo5ZOhvMY/rxIVnOghAoel+NVsgDNpZ6xCg71hCfHpTdjGuKpWPowdKk/fJeBfNbsbig2\n",
       "ZgENaN9QVB14GePyO0/TFW8JHFQFtuA6VFgx2O5PK/iUBU2ixeRHLbLVqmRIA1lvExbOiILH5WjI\n",
       "EfwCnKo8717ryXHpPZk3IA9K/wK8AtqPV2AfwLya1dMGGtB+4PLNAFsx7tKRz+jGUBA4qAp0jbbY\n",
       "0Wf6+t7BpJj+FvwW3wxIHVzD4rUzYAz8ZsNNy88Fz99lnmHx3N6Uhku27NxO5bi0XijCxtbWx3Gd\n",
       "GJh1wvEFXLjoKGhAe2brcgauxz59dEsArVB5bseteE9OY8m951EhbzkW1J7Tzrnx4jPL7qq7/G4o\n",
       "58hnmXaAg8pxaWXewdGDukgXeZLej2RaP08MaNdsrEp76ToyFyvnlTurm1K8IOYtfzRRiwUZ6yds\n",
       "N148G3ZW5egs5zAHRmDdkoyDyfGKP24DziLnPTjYlMHSlrfNwid2cgbQgPYJCwpknWt4ECWT1HQq\n",
       "OGInwHj4KdhFp1hSrOzvBs/tuv/MUP2kTDzDV/U8yOSYNNyIP6MzkDjuxLaNFiF/209gdt7xAjGg\n",
       "PfJQW5bITy/ZkW+KwkgqngeNY329FYIfBzkMf/B61ccg4rk6jqrS2PZJuipFcXCsfb7i8zludH7Q\n",
       "xZPsQOt5p6r2m+LR/+z5PC8zPii5+n+/L1FbZOf6hDvvo5k64ajSXA4jfA/373Hsb1sVHFqzvio4\n",
       "9NzqmFdJ21gVHMpQa/i+PeQIOVYZx1119n9k01U46u7/yP4CH9fNayYhzmIAAAAASUVORK5CYII=\n",
       "\" style=\"display:inline;vertical-align:middle;\" /></a></dd>"
      ],
      "text/plain": [
       "<IPython.core.display.HTML object>"
      ]
     },
     "metadata": {},
     "output_type": "display_data"
    },
    {
     "data": {
      "text/html": [
       "<dt><a class=\"ProveItLink\" href=\"../linear_algebra/tensors/_theory_nbs_/axioms.ipynb#tensor_prod_in_vec_space_only_if_valid\">proveit.linear_algebra.tensors.tensor_prod_in_vec_space_only_if_valid</a></dt><dd><a class=\"ProveItLink\" href=\"../linear_algebra/tensors/__pv_it/axioms/92c88f3976152998a79032d6af11c9dffcdc4bc30/expr.ipynb\"><img src=\"data:image/png;base64,iVBORw0KGgoAAAANSUhEUgAAAvMAAAAzBAMAAADoXJp5AAAAMFBMVEX///8AAAAAAAAAAAAAAAAA\n",
       "AAAAAAAAAAAAAAAAAAAAAAAAAAAAAAAAAAAAAAAAAAAv3aB7AAAAD3RSTlMAq1RmmUTNIjK7EInv\n",
       "3XZ/CtNrAAAACXBIWXMAAA7EAAAOxAGVKw4bAAAI4UlEQVR42u2cf4wcZRnHv/tzdmdvZ68JAVGT\n",
       "24QGiaBdOKrVYrvtIZIUcJVg2jS2B8Q0NI1sY2Kihdxq9A/To7tWm7LVenNRCT20N7RHGnoEDhAj\n",
       "KeIpaozpplMQayleD9praRu7vr92Zt+dubvGmTV7ybzpOzv7vu/3nWc+87zPvO+76QEuaWRkBP4m\n",
       "dWRE7/Qe258YV3aY1fpj9bM+XzRdr+c7vcf2p6H6BXFI1usV1yZ/8f2i6ULn9/j/SJ+xDpEAfYA+\n",
       "QB+gD9AH6AP0AfoAfYA+QB+gD9AH6AP0AfoAfYA+QB+gv/JUFHnuFvOVzNJlgH6OpGV5JumbszTZ\n",
       "4KaZK22wRBL6bvp5nQO9W7E3UCH6Gc75if7uWq32is/obxSZpIdbqrYe+2MWHz1najkXTWTovUVX\n",
       "Py6X/7O+E3jsP3kq4CIJ/efp5yYHerdib6Ci1E3jRb+9/k1/yav9PFM3qbdWvkCuqRnAZvH9gK0B\n",
       "ukgE6SnJnZ0jh1g3F2x2oP8O+VAqDvRuxd5AJehA+hY6HH00xzM97Wn1EzoMojpwqyD7V1sDDJjA\n",
       "xrwseI1kOtpvFVlGHyddpbIO9G7FHkFttv2kc9F3iUzSoReED5+s1fg4uCBIduk8xN9csDTAStJ6\n",
       "pSkL6LP6lxAwkYQ+Qh5Z3PmadSv2CKqXfPZ3OvrrRSZj3jzNXe8r74i62GVyeIqGTT4s0omKpSHB\n",
       "huQtRUkAMm4UQwiYSJ7h/L5WO+Iyw3Ep9giqq1Y7anQ6+jUikzCCJYyw0ojsSH1ADkvpSbd4u26y\n",
       "NMCrwPDfZAF9ObDZBRUwkYz+TmCPC3qX4itMH7PmXDKoaAlJNlLVFkG+Sae31JntRO9i6YMiA19G\n",
       "mTmKPTNITwhjI3zwbsJiS4PEhanjXNg0lViZY4+KCZhIRr8VCnkesZ7ViP+mCT0rjrxmhI8a6k+5\n",
       "s8Z6diFRa8CYOrXd9X4ihMmXzmaxJY+8BIr0t5V9+RWLoYmhNWN8MlaxdFB/Z0l4fbTRq2SJ6PET\n",
       "ZHL5Er73Xk7ZayBChlT41ZJHS/8kMmU8wJzbDruj9DvN4QlmYDfSekMD7TxwU04WYKPB4g0TMJGM\n",
       "Pqmn6E2/C6zXm9Dz4ipwNbCMfN9x7S50kX5ONKYCJaxyvaFhascEYodJh7KP7sEzfBjyGPo5dlEL\n",
       "/TAbme8T/KfGTas+Ri6ZOF4tNFnS6vXhaeA+cvYceGD1ZOkrIkP78e09zLBB8nxr7IwGIIWalpim\n",
       "X0MlaGZDg+SEiEhNAoxWQtyNpoVIRh822WP6IbRCc8DhxXdAPQqVXCB6JzWHqA17KhByvSG6Ikh2\n",
       "423waVITqE/yt2xskLvjVWRANqFnK4m1rwPbGa1GPQmct5eaLXGgj/bzuLRERwpeLbXQ7wcyk/Rk\n",
       "nx25iR0pGk1izOufIF4yaaHPkOEQuSwLSA9L+SicEKKWjYT+FfT0jHJY3khgxe8itZJFwrdYxRmE\n",
       "Szg4Be35a+IfhqLsXTGmKwfJLZw6XkytMPHm8hyoNZncNnov9uyUgYpHGDktzt9SL0F9owk9uwvz\n",
       "fqhjRWwzrPoDYh1oWeJAnzY45oECPu3ZUivg5EVsR9pGL+aWCE82FlSrrYBTJlaGZmQB0hf586cC\n",
       "JmpBf4C+kRPnbzNl9Kx4CW7YqH+fPF6O524Se+PZaG4Ma5Rjfy6gXNT6Q0ZXMZWPGg+gL2YopkI9\n",
       "u/yN19kV8xKo1PXMt8woc37lcu+qko2e6TTi3BoOKcbPrfrFwosaljjRjxa412dMJefZ0p+JHKPT\n",
       "QRZXNIsLGVa4xt76mmxs89D2OE2GQ7lfFiB5QbxVKkLUgv4R6oTapW0TMnpWXC6aAyWTW8Ic67so\n",
       "I7bnPL5NIvBlDAIzSjGZGy0qT05jXeLsxxGjXZ4+9BwbZxUJlPIiKyxp7EqRSQznbfSs7Vri3BpS\n",
       "N1L3FvXrcC9r1LDEiX4J7ZMOqu4UPFv6tMiPUHDnWdEDjUvG89jKnCVKfZkN4WRJtMcW0slvdVmA\n",
       "6Iz4NISoBX2IypMVHJHRs+LRDchcRzqMPFSt7qStDNzW23vfNJshlukNvYxT/zY3khYv9y7Funoh\n",
       "TJ9Ylb3nkJDR40PMjPGnL7L+81BmbPRMt2a8R9eQ2ETRi/of4FPVajVrWeLcPrtDTA6jk3Qp49HS\n",
       "x3jeV9+M8NA5Fi6GdzUu++xVpn03IVqaMIXm2vqiRQ+JqGULInnbWCZy2zTO5HBad24aZ1Yj00cv\n",
       "IaaXMya5DSgXWdBLM19K55LvDOj8Ja5H+tlNnIF20RlwGjN1hU0EurKIfWCjpzpCcKCkYUeqqFn1\n",
       "i7FdssTZ4yr2TiQ3M5P1bmm6xHNzWr+3Jq/CH21ZYrS0dxc8Ott+fbnIH38L+q4K0qwXsbw6qiOZ\n",
       "U82fYH+mQGbpZV2rjOrpqaShmj/CfnIDFRoCE2SkHpGing2KBoT36XKcQPh1Xn7NktCSycbWmjh0\n",
       "g1U/JdZhliWOHr8K1aAdJvh/CvBmKfXTSH6epVhfy/pgvvZM0DcLem3oMG665EQfKtJ/dMuRP1m6\n",
       "fBufQup5M7p+3ED5ln9A61v2dVEWvmd5EbuBk5f08B/Ig0wWnaDu6sYvzhUGs5GHx8d2ogn9bkRf\n",
       "hPrFr2GcvJBNNOp3Q3lcssTRY/gjZFIzSDz+7/DB0t0iz5EcO7rztGcCLvpffqVSn63ucpYOuojt\n",
       "dVTTDNfxm1LzpmhF1mnLEm/Z1yWVT1WrhXl/pcr6ZOk+eWbulpKtm8nztGcCLvLvB8Ky2463bdgX\n",
       "ZgUV0x3obd0v39bdepsTfUz3yVK6XFXMOfs64fDqudszwQn4il7pcduJPNy8RzIL+ggc6G1dc1qK\n",
       "K0Mf8cvS9qY2/yyuOk7m+RG76GhuJ/0K0ftm6YJG3y5Q7e6xY9HvWL5Q0HuztPPQJ7qTCwS9R0s7\n",
       "D32ytFACjkdLOw99WlcXCHqPlnYe+tjB3gWC3qOlwQwnmOEE6AP0AfoAfZvRv+H7nyJKf9bvPxzk\n",
       "f4/tTyMjJ8VBHdnvjj74U0TtSfKfIvov+vJ1UBBxMr8AAAAASUVORK5CYII=\n",
       "\" style=\"display:inline;vertical-align:middle;\" /></a></dd>"
      ],
      "text/plain": [
       "<IPython.core.display.HTML object>"
      ]
     },
     "metadata": {},
     "output_type": "display_data"
    },
    {
     "data": {
      "text/html": [
       "<dt><a class=\"ProveItLink\" href=\"../linear_algebra/tensors/_theory_nbs_/axioms.ipynb#multi_tensor_prod_def\">proveit.linear_algebra.tensors.multi_tensor_prod_def</a></dt><dd><a class=\"ProveItLink\" href=\"../linear_algebra/tensors/__pv_it/axioms/4471dc29e46bdc5130913932a120eb34d9660bb10/expr.ipynb\"><img src=\"data:image/png;base64,iVBORw0KGgoAAAANSUhEUgAAAgYAAAAzBAMAAAAeOd2kAAAAMFBMVEX///8AAAAAAAAAAAAAAAAA\n",
       "AAAAAAAAAAAAAAAAAAAAAAAAAAAAAAAAAAAAAAAAAAAv3aB7AAAAD3RSTlMAq1RmmUTNIjK7EInv\n",
       "3XZ/CtNrAAAACXBIWXMAAA7EAAAOxAGVKw4bAAAHuUlEQVRo3t1bbWgURxh+c7uX3du7bC5QCv0y\n",
       "B9IfrV8HDUIK1UvVUkyhR/xRaaVeaYtUBU+QFhs1V3/0A2NyLRWNtNylFcHY6imCkgON/rBqabnS\n",
       "D/xhymlJrdZqjCYmil5n9ut2Zndv15K9TR309mb3ufl4Zt535p1nA2CThL6+LDzAqa+vzxZTVyrF\n",
       "JrHKHVOl78JO+ZopTdhzEJ/MmmuiRJZzvavWNWxVp3dzlTl4jMxekNuZMEG+ex+lVsD6i1ZPfAVv\n",
       "OGDI3vpy0qV22AS65j6KNcMymesNDyPL+8PyVwe84WBDksjuli9zTDjwlZyXao4NpQEaU1Br6dHr\n",
       "op5w8DuZXSBfWm6pN8R8/rL8jW3U6Po7f9SsH6ZYHbwDWcHyGDCWHt13xgsOmAEyL2eD7eNKnked\n",
       "2ifXd/hYSrnZlQVhyFiWKVYPn49uzkc8nLFszltecBDKkQMhe4dN4ohy4xM0nsI2yU0Wr0WUvm5H\n",
       "H3uMjTDDEvBG9H81Ar1p2ZzlSQ84uEbOaVamJOa7odyIHQbYFcQgFuYo1soGkyDE+g1lmWEJ+GmA\n",
       "3rM612dMtWEPOPiJaoPUdH+Ev6NYeDKYFGICZqYNupU5cxEOwy7Ya/AGZlg9nJ+4el6aAnMlagal\n",
       "FCbn4e3qc8CPU0VLU5gF7jqa1qipNQBH1gHghsagIwxCviGLcsGPYvgRtdmisGrS4CJytDMxyTOt\n",
       "t4r3qs9BDeUSQ1LRlxa2oN1q1z/IOSJCUG/QoIqfL2xMI3bYAs61SI/IRGPVpMEDqLIgJr3bukFf\n",
       "Vp+DUNiEAwG57rvoOgvPCGg/gscV9gHUF6A+zo2jHJdP4UdkorGam1Dh9agyBg/0MusGzU9WnYPu\n",
       "qIkt4N6dUzngcmIc9wv9qxsAJitx0A5DZhxQ2AVd58XmVBmOK6sZlQu28AewP1p1Dq6Ru0QI4L38\n",
       "EmWvi5rKR7YADPkj4I8qG+hgATbzORDjbQbfQmG/XhYNhcVwGY4r605U7qI8MavKwRe0TaMmcNhH\n",
       "ZJLycA1h856BttSYoFtybCe+hmMr9EAYwyOXUD8o7Pt/Qn0KLbYafDVacU7ipbPVukGBgsyBRMX0\n",
       "ihzYQZym0/RYFkDIjGXhqdIqmYMA3vc8CntKK8GXGcsBh2N8vOnpxZ35Bbcmpn7Q2GnQKRmXAn+k\n",
       "1NDwjrTu/GrdoOCwzMEifFlRkQM7iNNTi5v0nbO675LZzkvx+jhvHbyHHNtf0BU1KY7CnoJL0MEb\n",
       "4Vyhwt59VObgA4xLV+TADuJ0e3CPvtNEcyDMvqDbSnI7Pl6MLl9dfdqUUhI7jGZCM2uEs1G7FjVL\n",
       "sWUwUpEDO4jTEHfEYI9lJ9m+5qjRZZVKw04L94fRTF172fhgve3MbAYG+9XKPtEO4jRqHDe0IQ2u\n",
       "p+2VHl5X1oUfBge/t1kXbCAOk3jLcGuT6xSIyUpPJxQOXgTYacOBBiHiPvMDGsHaC9+GqZZOKhys\n",
       "BY7aPm1sjTPH9RyoEOGUvrOnTIv9JqV3OpnWQ9ppOjv1OBhUOAhkg7ptEH++J+4L98NiPQcqJKj3\n",
       "asER02KPEc7zOYArWsg0POU4OKdw4Cvq/d1CNIy+eSzk9ByokKU/6pBEpuyfO4v67EMoMPkfcACJ\n",
       "eaCFHCJeTX2bXykSHEgQlIpv6H5PZMo+qJYwrBMg/FzBFjhwQ2cxd4NcBVuAgytBCzn2SAt5qv9J\n",
       "kgMMQf2DF3Sd1Wd0zLAJfb33nmnR/EPQuC5cADd0ltfNdxBFa58IG9DIqSHHEpkDVkwTHGyQBncp\n",
       "tu31ynKAM/7Zi+iKUqL+oIQpQG9MY82wP8Aaiws6i0huDSuoLcdVDmrwSCkhx9yenp6ILyXkEgQH\n",
       "EgRa841ZfpbCAc6EYD8d1ucP6Gd8TQy4Ues90m5wR2dZSe03LdWWm0TsrIQcW+R5AG1FY+wsAnSk\n",
       "oC5bznCIOMoUgBuHpulNbUfk2lF8r/XcN0o3YQG4o7M0kT+yVFuEO3oO1JAjgH/ExEEMGzlAdlIf\n",
       "kTjYq2ZgGwg5lFU/8IHGCMxOh+IzJFRHFr7VauZv0G0YAHd0llCW+JGl2qLGTGTIweEdzdYV8oEt\n",
       "yQF7HISX35Y46IwoGTYF/AnoTPLf4Y8T8FIYdo3FA6nd8DxGMWvyhz6jZp5+/ibc0VnkQ3sHaosc\n",
       "xRnOkfb29MQrniNJtqDW149MwlcuUoXADChEyyg1/UY7j5w7Oot0QOVEbZEjmPs+S+OvHESzRrHN\n",
       "2tJdgFe1Z+q3XhiCaUkNpaXHqTweLjd0FmASYKm2EIf9w//9PJHRZ6Im34woyS6zxnNlN3QW8GEn\n",
       "40BtCaWrf7ZOGQfWF9zQWYDH4+tAbekoVp0DM43FDZ0F/APgSG3xQGNhByxsYZJ1FvlVIwu1RZ+e\n",
       "gKpz4Kc2SVhjcUNnAQbbhQO1xQPNVVIIgFzC3NBZ5AXXXm1hPNDe6YWBL7iks8httlVb6rx4B4N6\n",
       "F0fSWNzQWTbKw2yntnjyLg5DnaI0gTs6ixKH2aktn4IHHMAqyikmXdFZLDQxWm3x3/aEg07ymAtr\n",
       "LC7oLAHzwzRabamLeMKBSHV4E7ihs1w0r5tmxqN3del3tr1M/oRzDp6dzL/hqI1MGQ4+lLvV13fJ\n",
       "noMH9W84lEPHTGniX5a4C1q+4S3NAAAAAElFTkSuQmCC\n",
       "\" style=\"display:inline;vertical-align:middle;\" /></a></dd>"
      ],
      "text/plain": [
       "<IPython.core.display.HTML object>"
      ]
     },
     "metadata": {},
     "output_type": "display_data"
    },
    {
     "data": {
      "text/html": [
       "<h4>proveit.statistics</h4>"
      ],
      "text/plain": [
       "<IPython.core.display.HTML object>"
      ]
     },
     "metadata": {},
     "output_type": "display_data"
    },
    {
     "data": {
      "text/html": [
       "<dt><a class=\"ProveItLink\" href=\"../statistics/_theory_nbs_/axioms.ipynb#samples_space_def\">proveit.statistics.samples_space_def</a></dt><dd><a class=\"ProveItLink\" href=\"../statistics/__pv_it/axioms/a62d5a09d871fd9b207d66d4a77ed5fba8168f430/expr.ipynb\"><img src=\"data:image/png;base64,iVBORw0KGgoAAAANSUhEUgAAAiEAAABABAMAAAA+DrpiAAAAMFBMVEX///8AAAAAAAAAAAAAAAAA\n",
       "AAAAAAAAAAAAAAAAAAAAAAAAAAAAAAAAAAAAAAAAAAAv3aB7AAAAD3RSTlMAq1RmmUTNIjK7EInv\n",
       "3XZ/CtNrAAAACXBIWXMAAA7EAAAOxAGVKw4bAAAL8UlEQVR42uWbDYxURx3A//v99u3t3gEKotTb\n",
       "2GqN0NwqFGNi4Piw2NDCthoSc40sH5ZAMbcYomJObjGxJhZ7Swm2py0ssSFCOdi2Lo0h5Y62FEM/\n",
       "OGvbKLCyQAVLyx6Ur+Nznc+3782b2b2zt71nnITH7cxkPn4z8/968wAGmqbD0Cd9GfzvJG9B+N1Q\n",
       "i15+k3HOjKstz0nh9+SajMLT4KBN8H7FUt9l62/tQG1G8ZiDiASzlUq3x6y//dnajGK7k47NS5VK\n",
       "7xJ+N9Vo5F4nHZsJFSap9QsZh2s0iMBlBxEJN6vL/MLSaVdrNYrfO4iIu8LyNCWtv13pWo3im04y\n",
       "OZaqi/4h/K6P1WoQ7VEHEWlKKcXIR0JGB9kz7jnFT4vyeebMqPT0Pby3SoUBnN1PPNUpB+M6K2RM\n",
       "JVJwaQa2CIZdVwruSEjbWFCtAlM2CScZ6mdVJTtFVqPJciIrTb9kLfgTsjvlc1pXrQJNkbMOIuI7\n",
       "ryqZKp4ncgT6MKdGKlHez+fJPB9C/9KViKgrMPne7yTR+qqqYJOYcY3kYhh9RC/PO80KnkQCJlaJ\n",
       "iLqCQmQNa5qbVBRcETPIbmolRPCCBwxp0nQtjh224u6MtnxWcaOvuAHmvTZpWowQWflBM63gW/78\n",
       "zFG0Guizd0dJyaNTsDepn3cSkSbF4vmuiZYlWchu7NvMxVECv4EyUir9AJm/SSQgwyOh405sX7we\n",
       "19/GRLT9yIOmFer2QVczrdYW9f0Fl+hpCOMWbpJ27s3j9NfhJtKucCq8F6Vbux1LjqPY9veXi/4w\n",
       "rhRDU0W+crAH6tPQkcJapimOiCDFWh+lFZAN7L5Iqz0I7v245IsHIGIcSMeo3x6FDS/a7D6CKISy\n",
       "A2RJ1+IF5fJyLdIWegsikob6LCaymCirddARoy4zquBvBv0CqaZjAqTk6Eay0y44iUhQ4a3U98rF\n",
       "39/QKSEaZqtREiO49GlfoEQKjAjaLOugacbEiSlaARFBwglX0zBSUvLM0QuOIxJRyPn2tJRI5mFk\n",
       "kyTxwoaNElyzHybENSsRukeiRgW6R3A1vFVISSBDlbyj5IhbsT5NooEWIAoh68rASsDnIFLgJe+g\n",
       "wrNonX2Xf2UQWUAchHVQh8RUnFbAcqSfVnsQ9YtL7i+AK8bVmFOSdkWe31cQvReykKPGp6DlVkJr\n",
       "IS95NwpbYmiqkf7b/ZRIHJYn9cNE1+yDUJJW8O+Hriyt1haDF3DJjw5AMMnVmGPCaDcAiLq5VbBT\n",
       "bP7oK0T7lqIwtURobd7Awk0N330WOX9rjp9+8d+Ne3+xaW+o9TAsmHIsDmteHwMr57zAKvhHFVm1\n",
       "gj6zmMQlvj3FHF6Vi04iAiWAb+H/lwgma6pq4KDlqbzSW1ks0V5Kp9J91VFEkHGxBosJQZK22mzZ\n",
       "ewbT6qCIhHodRQRN3Y+2f0g4JQczNtcvM4hWJRojrAwwBxscRWRTHDwxiwnKD5MYHhhEpOu+62Ns\n",
       "bkHjXpULVbvo3H+VGtFE38jnX6tKJFizSNf8pOOIfBvgd1WJeHpqNYRdjgICc9GWXQEBdJQjz08y\n",
       "tq9uJ6LXTEe+5DwiwUwoDvrLAHcb07/+yS1lpMdZRLqRueUuIMEaRMZFfaECkTrBRNFODM2L4Lqo\n",
       "84hAYgoNy4fTFYh4BHtsDQzNO62T4EAizy0D7Lfi4IZSsgIssv58YmgGENgPzpMj0IYEq/ssf0ul\n",
       "ItJl1ZKHIDMUA+iKOpGIC4uIUQBzoBKRgPXVVcvEIbGs1jsMCLFH6Hy3AKQN4XlQVventXC+444l\n",
       "Eook3amsyQH8f02G2+8vxSOlrDoaAJ7hWc07AW7Jfxw7/0xeKqm8xkOMBsg7m2uf/m3DAsSNjILE\n",
       "x2vCI5V3JP4RkBgQB+Wt9Nla0dG4zvy9iiZVZdiwiy1F8ilS2dbDFiBEWpE3mj9ysFQa4GlOmvqX\n",
       "E4EpxsOarstbnGqzR4Oo3VyVcRxXZXxfLLC1hPwIX0FSsJ4SmU+iSnpLqTAwz4AdFNKkgkg4wx/W\n",
       "Rbyh8NBtUZw2MlxZTLa8w7OBW0ojxq43ZfARxuxEQntmcX/gECECJ+xEAj2USIi9M9isiLetOHpu\n",
       "RGe5k/H8jxNyIviidQTPJWKbp++cvIedtrM7mwxXFpM173ANtdeWMG95mpbZiSzkJt/mu65SIjiY\n",
       "x4g8x+VflhKBVibYxij67miAwKvmE870RUZCRP9UK8rWcXhXt8V4PTflHYRtt1wuknmsUYgjkmag\n",
       "MkTEc82UwdIkGxFPL4RYQxFGxNPMiejvsnr1cUaknd243qHoG7/ANo6612CAm5Tskb4M90oW2XSQ\n",
       "4jaLV7zFSC5v5qQxWSP1UCLaDVMGd3DZeeXXcHI4usqD8JwIHOBEIl9lW6Ijw4h4rlSWHJhIBz9S\n",
       "deX8A2oiJPZxt1jkV9x48ojv2SK9dGUlMVlDaiQoEd8lUwbvh47KuIaTg/pm4yqNQWQRJxLW2PY5\n",
       "A4wINBaqEpnP+/uSxT1VEfkQ+MOc6hWSKiC+/XQl6OmXxGTBdOYxkdBHvuXHdyVphl787CNIKIQa\n",
       "rJ5RDr8X1s4LRJ7lRMZzWTXaILK9vyqR7ui8N8cvYTJvx7E/7o6SJlVE5hsPi0BSRX3eEJVvmhKR\n",
       "xGTN+wAR0T+MQd309hjN8MKxwr08uFK+hpOD9ixoNwUikzmRJdwe7DSIaDeqEdnxMsArt59nwqE5\n",
       "8nlvL2mSETG/aSdEOlL8YYGVUsVNBHbkUniOx2RNp6kcnQ1HsTbfvQf9F+7VWcbXYWoGedVuIlL8\n",
       "YCVyTSAygRHRGrihsMAgAt3NFYkc3o2NnzwJUbyFMCQ9V/Fr9gnqPdIe5w9zelLZg3BsyTXcHIvJ\n",
       "MmF7rDNujs7WoYLAlTI/kpGi32BoRF6Vr+GgU5MFn7hHOhgRV4rfPXi7TMRf8YsCdr2DXqHdhzpk\n",
       "12Q71ER2xvnDrJnPqXrwJ+R7hMRkaZqZskZnzUSaeQbAm8TuIXtkq2mPIMnqFiXrA4wIsmP0XnGP\n",
       "hJoHQGQxJ4J6J8N6oMIeSfGHWaUoxZXnspwIiclCcdZ7SWKHmqOz5NQwIlmegT/l2oZAkgmGTUSQ\n",
       "YPKI2vcORgTbZ9NFIt+zD/KDiTMEIg+R51vE7E7qGdKkUo4kwRw2ZPNUvoTWhetyLiZZSUw2khzr\n",
       "j27lApdHZ4MFgQjK0De4evANHA8ZcPkaTg6/EUP7OmMh8g1GBI/qx6TeWINI4JBlPI+O3YC/EvOm\n",
       "ZUQ2ou0YHwch2uSgdE27OjAo3AUgb1VyLCbrgY0afIeYHKboLNaw2qWy1MEZ7v6ne3xRZo2bruHk\n",
       "8EJuT9Eb5aHLjMhs2oUHgwumDHOB6inL9vYinQe/BX5jCw0iUZY7WOU2/foeuJ82KSHSjYdMvmIR\n",
       "P2XpVh/MnVbR6rvKiJCYLKA5TO7s7Iyao7NaLwRGlz4H5LV3lGbocwq3fQ0jogLMuIaDWnp6z2eQ\n",
       "bkC/XeMujaJE3mFd4Eoa6X8+t1l5PFaHyHurZxEPjlzyYR+9rGg9h5nfd30kceRQ60X3jCht0k5k\n",
       "xMEFKG8a/nOacDRuVnCoe6y/95kdU60nAI/YorO26Ek54+c8XP0Ut+KZWZspRwMg0Gvzfeu4XxNh\n",
       "cnU1nHKlF+ppbqxI78KGjf2Em1REA6R+jbfSXZZ/ynxfFhkIJbxID4vRWdGdM2XMUMRHQqb4CHHQ\n",
       "cnY7mBCZZzjRsWAh5SOTbEJLI1XJHkMt4SYVRKS+b3ul0KlwiWGtaR7ef+05DYEnxOhsUAyVGRk2\n",
       "d5m3tMNMZJU9PqKx+AiXqxOwtk+CZ2ln52P4oqNX7u08zv9YpY4YkU+vxe+vR1TS8CGrReKKisN9\n",
       "prPTSlQX521k2FjxlgpmIo9LYmgjKZHwV7Zt2/aTX54sxfDaJDWyCD9LQFCTjn2rGY0qhpbkDxOl\n",
       "yl95b7TFWV+sEmddrco4JRaILUWOxJFOR77uPnmcdW6JpUygZxc0U98qewq+HJI7qow0bnIwcda2\n",
       "VMX5dVmLxw9PLD4rxuLntBQzsAqPrfUi9A3gK4NBxOIXVYmsW4kM3/uaH9rf1+h/7twwwAbOHJES\n",
       "8Wb4w9QqneJ/AO9otwBEj5+4AAAAAElFTkSuQmCC\n",
       "\" style=\"display:inline;vertical-align:middle;\" /></a></dd>"
      ],
      "text/plain": [
       "<IPython.core.display.HTML object>"
      ]
     },
     "metadata": {},
     "output_type": "display_data"
    },
    {
     "data": {
      "text/html": [
       "<dt><a class=\"ProveItLink\" href=\"../statistics/_theory_nbs_/axioms.ipynb#event_prob_def\">proveit.statistics.event_prob_def</a></dt><dd><a class=\"ProveItLink\" href=\"../statistics/__pv_it/axioms/cddbd49054333ed7ddfd19c90c1784ac366096e60/expr.ipynb\"><img src=\"data:image/png;base64,iVBORw0KGgoAAAANSUhEUgAAAfoAAAA/BAMAAAD6aRfJAAAAMFBMVEX///8AAAAAAAAAAAAAAAAA\n",
       "AAAAAAAAAAAAAAAAAAAAAAAAAAAAAAAAAAAAAAAAAAAv3aB7AAAAD3RSTlMAq1RmmUTNIjK7EInv\n",
       "3XZ/CtNrAAAACXBIWXMAAA7EAAAOxAGVKw4bAAAIMElEQVRo3s2bW2wUVRjHv92d3bnspRDiBW+t\n",
       "0Qc1CBNbowkqGwmiGOi+NN4SWi/BQNSuTwoCXV940dCNBrFiZEhQoyF0A4ZwMbiiwQSjrtEHNAJj\n",
       "JRJE21IuhYV2PJe57sxsd4Z1nEm23e/Mzn/O71y+851vdgGad8QVZcLnpUs8fr5bUSqeb5JQlDEA\n",
       "YYXZaiL9ua7H/V2Z6fFK39VV8HwXrqsL8560WM2jH/V7ZXfe6wU+b3QAvfiS2fr/6YWvIEB64UC4\n",
       "6JmeIOlhlhQq+v5CoPTpbKjon4ZA6aPjYaLXaxMQPSwPE326GDD9nEKI6PvbAqZPZUNE3woB0zOj\n",
       "4aEXzgZNHz8THvrYhaDp4WB46PnRwOk786GhbykGTj9HDA19dylw+r5poaHvzPmkRzt045C90KfK\n",
       "oaHvlXzSRxXVX3689Aal7IWer4aG3k8+iI78VuPS+8e80GfGwkLPXvRNn1am6SWPeKGPng0LfdQx\n",
       "2GGNt3lXek45Y+QIXNJDrEVF5eUuhoU+M+lUOmS8Xeru80cUg1l0lh+yqKi8woRqkbFzS9Povcsx\n",
       "ZA6yNyrTZ75tDAi0CsY2X5aFYwfbMqIrPW/P7DoI0UYWzb2tqPQL8L/nm0bvXY6njps7DbC6Ryv8\n",
       "CP+JoHa5HXXuCld64Qf7tHEQIscKM/0xiVqv4/YqNo3eu1yC5jZYVOnYJa1wvjo7WbwX7XCPdroV\n",
       "2+7YQYgcHWb63jy1EqgVkm1No/cul6rqleb0Fays1nEL+YTkSp9UDjnR1wrpKhr95hylj6H5kGie\n",
       "1/Mu1zKqVzp+XputdOTOW0TcSEJ0j3R7zzvR1wrpKhp9a5s6Er47cuTbJvp8z3Im+uRY/IWhXWhQ\n",
       "MtRXpU6TXk9Oc6ffppQc6C1CwvB1b+xQVWz0DwO810R6z3IGvfC3CKkH+0S9t5N0MYyRDlx8BB8/\n",
       "1tDr0a6Z3irEwO/yYlVFo+/UVoCXgUWtktnZoY2vzPDu2vYUNrudsdFTOdORnYJ+UKWf2LcfdUi6\n",
       "IuAgjnqOCJ2+0XKdPV7n5RqvYBO6B+ZJM1QVGz0vJXPkWRKOFdfP3IB6j7ENtT7y1+lMLT2Rg+jm\n",
       "jXDDtaSULgC3X8xHviwA7BkY2Ahwqt3wxYNlc8CbIDdI0W3fwlbynxutQ5+u3d3ZhArwkK6i0X8h\n",
       "q/RRGXkpHg2LFhmYh6mbtDEOag50SnoiR9KmC8FED1+TWPQTgrNNBKboQp816JlCP/lUvF7fsxPO\n",
       "+waz0Pe6io0eeh6gOd50Ef7AZU9LkGd3LoBPDs++rv0qWPnTqUWYfucwOUPM1zpykNl/DS4bmita\n",
       "I10shyZJNSlZ6EekvejvRvL+HfSadKEnU4uO/N2QJrFAtOI+7yHzjQu9IRQfh09VFTv9DhQF8aiO\n",
       "LSWB1HTNxAKIlFJ5dgyWw53AjcOfiD7Rxoj4DDGvh2/gM3gUld1dYmUr/Q4amn29Fyz0qUdRa7Al\n",
       "dRwA/FLr9cyV5rFmJqdGLbFinb7vLtSjR0LChkgZSqqKbd7DajSao6gK/fk47cb1rTKb50W2Cpvg\n",
       "TeDK0JIbhH6IF/EZYr4CbwvjsAqVvXv2jppdzmo6OUYKVvoM9s1R6s0G0OtSDT1Hl2j6hBGvTsIm\n",
       "HI/jAcSU3Ok5276+Vih6YWs53qaq2OkjuJ4z8LdHYssHBt4CCTuIU//I7CjcROlT4iDc196ew2eI\n",
       "mdl/FKPisieUnJU+QrE/z1rpk7jD1eadA3gIWejZq5Xr8Qdav8QNxFWAe/9yAdYpP2OQXJ31vjaj\n",
       "ZRMSlsi33qWp2NZ7eg3aDRQLHGlk1O6VtMj/ZdDTvqdniPkTfPAxClBRGSfFepx2uMntVSv93hHU\n",
       "jQIdFxHk9fRap5z2xYfNxpo6Wc3nplhPD1tVnOmTmXy0UKJxyjm0Yg9K6WFE/wGmr8JJNO95UZDx\n",
       "GWwKVTgqb4LtqGwoC0Un+r1kchv0SYk8PNtBjFU9wHP6klV1qLRlYzPfnZ6fakPVYVXR4/yC2Uoo\n",
       "uQyKGVfiwgX79kFm/r0vbTkbO/hYa4k7MzsrdGZh3zA5g0043r5OTu6XUVl0ydy8Az0jwYjF5y9C\n",
       "qwAu342N0gm4LVmzw63Z9poyNU5bRo1+sRHqOG+tdCGqou9w8w65HWHPwAabFynXM51zO1uPSELr\n",
       "swa9sPhX2HIeT/qncLTTew5GdK/HnHOQEorOLVFDHzOWu5gzvS7EW3h/aDSzVRNpcaMeM1tTjc3M\n",
       "GafStcbbE+6ZLdNyN8tFfq1FReO93Cj9y5fqmVdOH7vkO6fLGsvd1sYeBB+wBIgBZDUt9DMHSJxv\n",
       "ueq0b3p9uWNvVi54oVfvGQD9VF9EFM77pu9dRo4Xf1Ma/eKqyhubdKRfPzfwjDYc80vPmJ/jiV7o\n",
       "mQtO9Nw0Pnj6zrzfvvd+qLyJUSd6vhD80wyYJwZO31Jxok9LQvD0fdnA6ftLTvTxne3B06cqgdOr\n",
       "G9AwPMFOVgOnfx9CQ89OBk0vnA4PPSy7YnotZ9ogvfYduVDQz8tfAT3OQms500bpE5UQ0Q+W/NOT\n",
       "LLSWM22Uvk8MET1T9kWfOb52Ic1CqznThum/gBDRC5O+6E9Eis8I5pxpo/T6/cLx24y/fdGLvFxQ\n",
       "06Q0Z9ooPVMJFX1a9jXvW/JqFlrNmTZK35cLFX183Bf9m5CnWWgtZ9og/XQIFT3s8kHPlndBVn1a\n",
       "ruZMG6OPHQoZPS/76PslTw1LJAtt5Ewbol9d+G/off8KWTjslV5L5jhlod0O9XfHz1qsph1Cl99f\n",
       "IcOrHj//oc9fIT+JapkzrH8BwFY9SrhsHMYAAAAASUVORK5CYII=\n",
       "\" style=\"display:inline;vertical-align:middle;\" /></a></dd>"
      ],
      "text/plain": [
       "<IPython.core.display.HTML object>"
      ]
     },
     "metadata": {},
     "output_type": "display_data"
    },
    {
     "data": {
      "text/html": [
       "<dt><a class=\"ProveItLink\" href=\"../statistics/_theory_nbs_/axioms.ipynb#prob_of_all_def\">proveit.statistics.prob_of_all_def</a></dt><dd><a class=\"ProveItLink\" href=\"../statistics/__pv_it/axioms/b3d610e95b5eda02efb32eed79e21f25f087bc5c0/expr.ipynb\"><img src=\"data:image/png;base64,iVBORw0KGgoAAAANSUhEUgAAAqIAAAAzBAMAAAC+incPAAAAMFBMVEX///8AAAAAAAAAAAAAAAAA\n",
       "AAAAAAAAAAAAAAAAAAAAAAAAAAAAAAAAAAAAAAAAAAAv3aB7AAAAD3RSTlMAq1RmmUTNIjK7EInv\n",
       "3XZ/CtNrAAAACXBIWXMAAA7EAAAOxAGVKw4bAAAME0lEQVR42t2cf3AU1R3Av7nbu73b+5GDViq/\n",
       "jxG1HSucDfSH7cApUCpUSW1LR9uRUGsptdZlyrSDRhP+oVNFcpSiHrawzjC2pJ3kgP4kmIYfBasj\n",
       "E4sWtQQPpFIFQvgRA6GQvp97+3bfbe7ipZJ7M9nd92Pf2/3s+/H9ft/3AlDC0NjYWFS6a9AaG42C\n",
       "ClZ0HIDBDCc74gW8Nn3cAb2pS3ir71xR6a4h0teXzJf3tDXih0EO3kSeb76Onjf0XQAI9vWl2GUJ\n",
       "w2tFprsTrc7fKxODTlSnJ9WNKDzBB9HnSLGUeTnkiI6GwSYaZQPdl3Uj6mkvE6LeGjvRJW+dHpa2\n",
       "vPf8lwb8DnO34eMNPPq2G1HYXCZEa3VHH22IgbrHkjZgoqGrd+IZ0vxmfsONaCRRHkQPgYNoXQxg\n",
       "eiaXdv9AXyF8LV5uFJOhN+lG1PNiWRD1tsmJNrSXgOgCstiEcwkvuhGF75QF0XBGTnRBTQmIPk+O\n",
       "1+US7nUlukAvB6KnDDnRv8bn77thEWzsnIX6zrSj8YE0etPLHyXLE/prOvybljhZfFyI+mPlQPQV\n",
       "kBJt2gWw+/qzgQMQzMIDOh+QRYbLvGNCMjpOQfPIpzlRpYOEmDiR9pYB0cB5GdF/tRxBpw4wIhlc\n",
       "YiEakHnuVwQidNRmeVyllf8D8dG9vViT+KRrH9UulwHRijYZUfI2GGQDGqkXcQettOqwng1PwZir\n",
       "yWWQyfCtRxHNqTbKni5y+hv6cKCQebnBlSj8qgyIhmP5iSKQk9FtFwjRFOvTh9MoKZyE2WAh6lsE\n",
       "6l7QWF0+vtiF2jlRdAvpud9yJzpdH/pEGxL5id5P++g5ax+dWU+6ZG/IsBK9Ef3dBgpv4/vsHIzx\n",
       "UY/Xcc0gBV3mUWhODH2ip3RXoqgz+rrJ8K+HztlH9Sj7ALu3gYUomS+nQwQdcSHYwgcAnVHXA2yq\n",
       "HgMhSsitj9IRM7SJ/hIkRBuoLPoqGuQvgD8D3zVgNET1kf74Jv4h6q1EK3D57fBjoIVgIsusq+b6\n",
       "+uTHvgx3UkHKjWiw3UGUML6mVEQryPSecBItvhlEVFrb3yVElzx4Gs+EX/nvcIClLVcBrLv2nmrw\n",
       "wvoAfJWV2p60EiVawkK4C2ghfEHCZGamAyTWembE6bO7EQ11OYjOwqdFpSJKJia/7iRafDOIqKw2\n",
       "7Zysj+YJPUieTKfTiEyoqVcgiiAFemACKwQ/Y5m3sLbrTXGq3Z2ot9tBdDm+LVUqogHcF5dJRn3x\n",
       "zSCistoClwsnGmhT4XF6uQ12W4kGkz4jkiAgcSE26j2xb+fsI0yuSrgTpY8jEMXmqlC8ZPMoXjS3\n",
       "SNKLbwbPo5LaPGcKJlobqlEgSJZ4xTCVV7oy7b35P0gxirBC0EmbXMdNA0/xOpaBO1E6ZASiuHip\n",
       "rOCIXBU61UjSi28GE5XU5j1fMFHl363vgYr3pDZ2GNr4e63S09JxwwwdgjotxAh6j/IZhq9nJMON\n",
       "KJx2rvUvd3S8VDqi4Y6OgxnZWl90M5iopLZoTxHzKA6/TacFqYHpTPA1LWtK9pp9PlKZXhrV+yN6\n",
       "wUn0S2hlLB1RpZ6NMzvRopvBRCW1hXqLJOqQd7igNBbVzPQoRXe7w5XoHifRJaCiBSC6dQq/L9r5\n",
       "Z3sv0zbky7GTQ3UtQVefuKBX7Ki3EqXNWIQg+Ut4V1uJstrgeOdscyg7iRa3X8+J+vFTMUVqqtsN\n",
       "Jw+6Ee1wEg0aoWrQdmGlDGDVyLWoNyl21RnqyFGWY++L6+APREWxfnecTppB32Yme7yYHTviVjUD\n",
       "qAxqSvi0tvl6bm+pousDDiRViBmW44DCQSdRTxYNmyCa/yuzoKCxCW1MHhfUV3KU5diJTqJLySlj\n",
       "m5hOmkENTa2ntouYHTv8LgFKykaU1IY3cZVUoUSnwuCEZMFEoWYa0YYhkiJ7qbDQAF3dOgs2vT5p\n",
       "VNVVsGz/8TmY6NZOkkOiD0+phmjrx3Ba9JqtAjm/l0zq4bmGTQvFzaDPZjDbRUzA7kN/TxKDr0iU\n",
       "1FaHynu78o56m3SF31z7uqRT6vJeas3DOer18oqXFTzqYQuS+oIoVpmhS94jl2ZBRSasq2dgMdyI\n",
       "VYt3EFF/XEngHBIdDXvh9zAXp30THhXIha4jKKPn7Xo9bgY8Y7YAtV3EBOzRaiAi+Bs2oqS2EfiC\n",
       "W0VDPe5En8OHd+62pBxh53vMxc1hMRAcHpbLV1BvttCVCWpj1NLaoPvoHLdqfFbVgwm1F56BlUin\n",
       "gMrqZmgAXwrnkOhPYI3WAw/htIZbDYGcuoM+9W470VpupdnE51ELdvwt04BtxSJRUhuWuvx8uona\n",
       "5FF1bN+wkWtycXzJ9iqUFvxoHr6YcitUjujDczfTNMHhAVbLv9Wb0tQdEqIVeBB+BOAO8C5Op3+O\n",
       "pulAFxw/mVW7YBwlGk40wxeqqqpxDolGWw/50DfAab4N3SI5ainfdso+6kkzMBOY7SImYl+uYysF\n",
       "GgAiUVLbLmxc0vNJ+AEkY9eaaoDalrMbb14Z551WMIJyoqHv0f5vc3hg+6GOcFiaei6PNU9F7abq\n",
       "Axn2ru2RRPC9HFHaR2kOie6H9b/uJTsG8Bje23JY7UJGOCm15q3htosYxx5K47DhAPYPU7J2ojj8\n",
       "Au6G/eY82W1fuxFR70VTuMrkiO68C/OZYZacIhLVFgNdQGwOD/mINsskAu1iHqKhqO6pz1AZvBuJ\n",
       "gc1GpBMRXY+J9sK7aB4NJrQszsFRrRcOZZ+BJpw20RTwrOTmQLRXSvQFYLaLmIj9OMBDNRAMyIjW\n",
       "/qhphfnOgbMSooFLPFZZbRL19XIBhVuHDYGov52LDqLDQz6i/kRhlhJWuq862peBZXhkzmppgeiM\n",
       "z/7w2XPePd8YnwmcnZTU5iWhpZPk4CgcrVqRDbVmcdrEt//kIKfd/iY8+35CQhR9C6YFxQTsWPrP\n",
       "HIOPh2RE1VsOj1LFYWYj6nvf3DMxTKL06KlxIGFE5+GXDeFJRHR4yEdUkZnOqOEmvw1f+0t6rdMk\n",
       "5hYt0oaP7ya2C4gJ2LFc+mA3nLooI4qIJZvM639KiIbO+H5w5I94qj1psvSOeSXJpgGtc9TjW1By\n",
       "zEpUJRq50g12h4d8RKOyN6dmhuJ2RQJdbtEiiZJ5itguRFVBM6+kRNXTuYV2jJOodiIB4Vvr8Nch\n",
       "Kw3dF67M8o6pwOHs7TkvSUpUIb3L3wN2hwc4IX8Ln0wSrugqnuiSi27R4ogGJ5hKZz7lS0oUHshF\n",
       "ptsWCPVSSyvqXJF28lXSZOIlPb+OtBVBeZ9BNyFhxtNmJRohgJpxmujwAHVyO67D9YLMzaniiRZn\n",
       "e3JPD3XCwIhaQoPtfeno5QLrQvzR77PsGYVRNfXwRevwokQrCd/pGL7o8ADaCClStVuSWJf9cIla\n",
       "QjqP7Wl9f0TtHhCcKBUbXsXkbiPd+HmTKMA+MmzFPoonW42oPKLDA4Tuk5vrZUT79YBY9fn/F9GC\n",
       "7KPSJbdNTjRj9lHmx0BVHzzqwdcDjTm3eUoUzYB3grIXwO7wAJPlpihVNurHgjvRQCx4xRP1dfdL\n",
       "lMpN++jUnQVtbUUbZPgrc6KBM96fJraTLiY6PMB2UT7iLlMBmUWhP0+yYD1c8UTJwLb2AiqLRuio\n",
       "H2kSZdMeEpk85ze2+eJMn8rJoycehc2jqLoqODzkpCfRZUq21nv783aMGNqVT1Rc7NURffjHOL7x\n",
       "O8hycsIkytzsAu2g3ZGd+ClLjYxoYGTLa2hFArvDQ44oMTuaLlNeiTwa6c8j17e16sonGnbbmVlg\n",
       "6kx8u+F1M+8RhzVvLRwjTZlDEzs8EKISlynZ/kV5eI173WzOYa7XT/DHRftIzmaSI7qa6qiiwwMm\n",
       "KnOZkun1zPA31H994/azBTJXYn3xDW7FC3IxzXRpyRGd10dhCQ4PWHiVuUxJbE98ah3qRFe67AUT\n",
       "s4OKFMxpsy3GbBFtjugTO+lZcHjAu5gyl6mbJM8YLw+iUTf/qeH4sHS4JYXv2hwz73dINGqW5SDo\n",
       "6uY4SF2mJHvY5fIrRtsvbcXwXEneROIyJdln8tUMNtH9eX6vv38gv+OP3Jz3Pxb44/lv82RK8SYS\n",
       "lynJXugK+oCNje/i/1jQlGKXJQwfzn8ssIUS7tcLLlNznIo+27gS/2PB/wCGag2UJjgW/QAAAABJ\n",
       "RU5ErkJggg==\n",
       "\" style=\"display:inline;vertical-align:middle;\" /></a></dd>"
      ],
      "text/plain": [
       "<IPython.core.display.HTML object>"
      ]
     },
     "metadata": {},
     "output_type": "display_data"
    },
    {
     "data": {
      "text/html": [
       "<h4>proveit.physics</h4>"
      ],
      "text/plain": [
       "<IPython.core.display.HTML object>"
      ]
     },
     "metadata": {},
     "output_type": "display_data"
    },
    {
     "data": {
      "text/html": [
       "<dt><a class=\"ProveItLink\" href=\"../physics/quantum/_theory_nbs_/axioms.ipynb#hadamard_on_zero\">proveit.physics.quantum.hadamard_on_zero</a></dt><dd><a class=\"ProveItLink\" href=\"../physics/quantum/__pv_it/axioms/4f993b4441289b1e3bbc69a15b5f98e0704a0a660/expr.ipynb\"><img src=\"data:image/png;base64,iVBORw0KGgoAAAANSUhEUgAAAHQAAAAVBAMAAABlHNfrAAAAMFBMVEX///8AAAAAAAAAAAAAAAAA\n",
       "AAAAAAAAAAAAAAAAAAAAAAAAAAAAAAAAAAAAAAAAAAAv3aB7AAAAD3RSTlMAInZUiRDNmWbv3US7\n",
       "qzJazP2FAAAACXBIWXMAAA7EAAAOxAGVKw4bAAABv0lEQVQ4y31UPU9CQRAceAgIivwAEiltVAoi\n",
       "0YpoaYx0RqMRY2MnJnY2VFaa2NhgIQmVGn+AlWhP8A+o1CZGI6Im4sfs3Sngw7vksrdvZm73du8e\n",
       "gCjahnEinB64RosqBHgT7eC0Nn01IBx3Sad/V0JAknP4q4Ldw0pGgb7JDTg5fh2ySIXQk5XVC2fB\n",
       "gKtYiKLItT/zv1QIgbxk/syjvWowWISvjCmug7mu0rAohNAr1vdOYl2DfVdwGoiJs99V6qgakDAm\n",
       "1v/Igzc0OJBDpA6/FHPNIiVhU+xAmeGLGlym9A1Oms6MRUqC2vn89Pr6NqfBwTQiT6oM2JYvgWM1\n",
       "rv5ISSiJmWWXRhMtKau2RWfcEpWEAzHrnNWMSTiNMKPe03lwS5nDUUHlcK+lTdNaUyanrm/KmS1q\n",
       "UiUsUSRJ3Zwygiz2Cp0J21lXcClt/eRVfjfS4B4CWXhYc+xYopIgDQhJWx9/wBLma/BJ0TYtUhLu\n",
       "gKXqRzxQbcYNODd5w93EObFISQjVul7wlORUtEhTrjv+I72AeRn/Xf8LM11S9RRjlveqCIvdQG/e\n",
       "tWmnVBE8Hf+REW36BY26pCO/KxK+AbTadIU/jKMKAAAAAElFTkSuQmCC\n",
       "\" style=\"display:inline;vertical-align:middle;\" /></a></dd>"
      ],
      "text/plain": [
       "<IPython.core.display.HTML object>"
      ]
     },
     "metadata": {},
     "output_type": "display_data"
    },
    {
     "data": {
      "text/html": [
       "<dt><a class=\"ProveItLink\" href=\"../physics/quantum/_theory_nbs_/axioms.ipynb#substitution\">proveit.physics.quantum.substitution</a></dt><dd><a class=\"ProveItLink\" href=\"../physics/quantum/__pv_it/axioms/0d04619532c27b8a748cbd8141d8b4b817ccd9cf0/expr.ipynb\"><img src=\"data:image/png;base64,iVBORw0KGgoAAAANSUhEUgAAAO8AAAAXBAMAAAARnwX+AAAAMFBMVEX///8AAAAAAAAAAAAAAAAA\n",
       "AAAAAAAAAAAAAAAAAAAAAAAAAAAAAAAAAAAAAAAAAAAv3aB7AAAAD3RSTlMAq1RmmUTNIjK7EInv\n",
       "3XZ/CtNrAAAACXBIWXMAAA7EAAAOxAGVKw4bAAADWElEQVRIx7VWTUhUURQ+M/Pe/DvOIkJJZCRr\n",
       "U+IEJcxmGtGyMGhoEQTVPGoRtHotC0OrXRgpLSIDeYJJEsjookWiiFBEoVggFGGMZEQtxE0YLqpz\n",
       "z/15b3w6NQMe+O49c8/37jn33HvuHYCKxXTrgf/gm5s+LVtiCbeuF/7NvygQZz/2VuD4ALXapKV0\n",
       "lC+8G5pjXmQUnS/AwYklOY6xH1fK9xs2qBvvTSgdxW9R9/nOJ7kmgEjNLDg5Vzlusa3pK9+xlqRu\n",
       "9pyldBRfRixqJA7BDB+L7hsAJ+cwB4sxkijfcZRv6oatk7xhjQexu+eCOEI5q5gTtQg+jMRfwRbv\n",
       "52lcsHWSyzTKVv3npRiagmKOP8kxt7T0tgLHnZTZuncZoY8tP53ExI3bh0D0h+Z2CX54JQlDGFac\n",
       "4wTAwHazZ7Z3TEuD6oLUM7F6DZff4mb+lvyIdwaOYrQGxzUIsOMXbk+6vylx6N5T290jdJ/p2/Dg\n",
       "DAfp4C2R8FMd+CX5tzGyWgB0TwhZkSwaQkd6SjmOvMI8OkPjO9gs9SBoVC/3XXN41yTHihZgHqlr\n",
       "HN4Cna1qC0o5bnzyGCDvcjxl61HK+nnXHPz8ESdnBXH5+gwHGGkWV90EM692rGAR6MtUEdIxG8yA\n",
       "VjOcVQaZ6n5bz5lhjL3J5TgUV5zjEGNpXuCACXaVQIoq36z1Y0rHqq1e2zENYpZb5m0DwCC181If\n",
       "zdZRFaVce8wzQfx+isLXxwFdRGin8oDBIHY3muC77ZgGTz5CSSqDqJvAT6k33z0FZ2SVFUl3VvFb\n",
       "IYcL0PIc4KFT9YDT1qndA/XOPV5Xs0gDwD3HwUF9eNXbxu6/RZfjZps/NH0aN7IqyyHkNbXBGXpS\n",
       "F8XPPueg04CfsnC1uK3z2llwOW518OE54qaAuGfw0n0GXRFDww4+6Gu2YxrkqVYG/hw0+BOOpwGK\n",
       "ngJZTPFLih8xwuydahMAsSqA3oT2dfoHdtCYMmzHNCirKqVet4cAH0dsncv1zeutGjAUp6rgyfOn\n",
       "0PEcUtDikUqEzVByy5tLGVBGAdIdtr4pAjXviqk43jR7/EMmhyi2BtwCnd8huuUpnN36ylQGtp2O\n",
       "vzlSj5X4MyU53wTE9bJKdcODBD2d39qxMuy0mDs39V/GaeT5yy4pDAAAAABJRU5ErkJggg==\n",
       "\" style=\"display:inline;vertical-align:middle;\" /></a></dd>"
      ],
      "text/plain": [
       "<IPython.core.display.HTML object>"
      ]
     },
     "metadata": {},
     "output_type": "display_data"
    },
    {
     "data": {
      "text/html": [
       "<dt><a class=\"ProveItLink\" href=\"../physics/quantum/algebra/_theory_nbs_/axioms.ipynb#ket_zero_def\">proveit.physics.quantum.algebra.ket_zero_def</a></dt><dd><a class=\"ProveItLink\" href=\"../physics/quantum/algebra/__pv_it/axioms/3e54a8dd88a104f7713a7d6a665a594620eff24a0/expr.ipynb\"><img src=\"data:image/png;base64,iVBORw0KGgoAAAANSUhEUgAAAF0AAAAVBAMAAADWVP/xAAAAMFBMVEX///8AAAAAAAAAAAAAAAAA\n",
       "AAAAAAAAAAAAAAAAAAAAAAAAAAAAAAAAAAAAAAAAAAAv3aB7AAAAD3RSTlMAIolEdjKZzVQQ3Wa7\n",
       "q+/tGue1AAAACXBIWXMAAA7EAAAOxAGVKw4bAAABmElEQVQoz3XTMUjDQBQG4L9p0yZNrJlFMGgH\n",
       "B0UHd+Ogm9i5INY6OLjUTRExOOjYDOIgRetWOmVycNAIjgpddBMK4qyIaIuL75pcCXf1QZq7x9eX\n",
       "u9wLLPRCxYCwBswnwqFZkHnKFRJzoVfy69BKsj+kq+hFk/ElCym/53dwZqEucb0C/fkg8hlXvwR2\n",
       "mTfqUAJMSj5N1bAS+WtgCrhi3mxB62JU8jnE/CNQ9ZDzyA+XoHaQEV8GjuP+G1hzkfHJX5D/hWaL\n",
       "vhzzOvM+lBb5MRvqF8INp5u9aLHxXswnPsk7MCqRp+mGWL8hehtam63HRpLqr4r+Nb4e8vMO1I9w\n",
       "v1onPJ1/Pdtv1UWS1TcDGF1gW1x/fD14AG49aHV2Xm2kK0gEYv177tlfboBNwAhYPzRwXoAiNhem\n",
       "2c+MBf2H7llXf6PH28yf5p8oIZ1vka6X930fTXqAXl6mDs7O8n7GkeSzvMU13qMY6fc/7iRv8BZX\n",
       "+qmtvqfmlYKXOOEJ9k4izz4FMWrR3eEJk3pyMRwODfh8E46QWAD+ACZBZgCqtNF4AAAAAElFTkSu\n",
       "QmCC\n",
       "\" style=\"display:inline;vertical-align:middle;\" /></a></dd>"
      ],
      "text/plain": [
       "<IPython.core.display.HTML object>"
      ]
     },
     "metadata": {},
     "output_type": "display_data"
    },
    {
     "data": {
      "text/html": [
       "<dt><a class=\"ProveItLink\" href=\"../physics/quantum/algebra/_theory_nbs_/axioms.ipynb#ket_one_def\">proveit.physics.quantum.algebra.ket_one_def</a></dt><dd><a class=\"ProveItLink\" href=\"../physics/quantum/algebra/__pv_it/axioms/e6f6bf2356ecf8190ace216be589ed33260d1a2e0/expr.ipynb\"><img src=\"data:image/png;base64,iVBORw0KGgoAAAANSUhEUgAAAF0AAAAVBAMAAADWVP/xAAAAMFBMVEX///8AAAAAAAAAAAAAAAAA\n",
       "AAAAAAAAAAAAAAAAAAAAAAAAAAAAAAAAAAAAAAAAAAAv3aB7AAAAD3RSTlMAIolEdjLdEKuZze9m\n",
       "u1Q7ZGlWAAAACXBIWXMAAA7EAAAOxAGVKw4bAAABdklEQVQoz23TMUvDQBQH8H9T0zZtenZyEwN2\n",
       "cFIHP0AdnO1UHDvVTTKIKCJ2ERQdqm7iUCcdihb8AGZ1i+AHkG46qQiFIuK7JHc57nLQ9O7x4929\n",
       "ywtqiIaNjFHLWM/H02rT5FNvWmAl8S0frGf6EWDVz5OFvUkJAu6LJw8+0DZ4sQ/cYyc+1O7VmJ63\n",
       "cf518ouGdwK4bVhhcjjun1M/a/gKVdUFGyu+4ktf1i8DH8B0D/af4suB9MzT/QVwSP5X8VZX+rhg\n",
       "pxONLp8PgDkP9o/i3X7qL/X8W7H/Vjwbpn5D9490Hg95Nb/9mfpRhqd6mVpvXsl/o5+fzlMN4ar3\n",
       "ydrS50I9/yvVN4TTh5/WG0Z+ie7e0psLC9Ee+83ihK+sL769x/3x012AgvF+W/Tbqx8BHdqgdDo5\n",
       "AwrLop/xbviCaHHmi9CM7H+8GN4VLW7J0LX0vHn1IVJsiwC/k8TzT0EfB8l/QwSqdC9r8bSU8fnm\n",
       "GlpgFfgHwR9cODOdQZgAAAAASUVORK5CYII=\n",
       "\" style=\"display:inline;vertical-align:middle;\" /></a></dd>"
      ],
      "text/plain": [
       "<IPython.core.display.HTML object>"
      ]
     },
     "metadata": {},
     "output_type": "display_data"
    },
    {
     "data": {
      "text/html": [
       "<dt><a class=\"ProveItLink\" href=\"../physics/quantum/algebra/_theory_nbs_/axioms.ipynb#ket_plus_def\">proveit.physics.quantum.algebra.ket_plus_def</a></dt><dd><a class=\"ProveItLink\" href=\"../physics/quantum/algebra/__pv_it/axioms/5912ed46f91e762c4c6e5cbd2247bf564cdfc8140/expr.ipynb\"><img src=\"data:image/png;base64,iVBORw0KGgoAAAANSUhEUgAAANsAAAAyBAMAAAAn5rM5AAAAMFBMVEX///8AAAAAAAAAAAAAAAAA\n",
       "AAAAAAAAAAAAAAAAAAAAAAAAAAAAAAAAAAAAAAAAAAAv3aB7AAAAD3RSTlMAIolEdjJmVJnd76u7\n",
       "zRDVRUmUAAAACXBIWXMAAA7EAAAOxAGVKw4bAAADzklEQVRYw7WYz0/TUBzAv+3abpNt7KoxcQkk\n",
       "HjjAyYOJgYM/ju6KGtkfoGFBD0himHgQEg9LNOIkCoknEWRqTPxxYEv0oBeHBzxgcEc1EETHj4QA\n",
       "tt/Xta99pX10tYet7fd936fv+76/WgDP4wMEcSxV+cY1ZQLByY/4xr0wzrqrjfCucY1SKvpJ4vX3\n",
       "hnBikWfUoaRxerYhHNzjGXQXgsINcKgrE4Hh4jnvMQdSgeFCq95jaESDOFjwHjIGweEGPfXltQBx\n",
       "K12eKWUiQFws7+kpxQBxiqev9GQCxCXWAcykITs5ZpK6aE8y8mRdX3YQGQJBv/UUoMU0bZrFfaLO\n",
       "380s2IuDlK3rs8qUIKT7yEcaF3aI+il38/Shvth6w0G5hdQQFJzWzUPjgHWcxKb7ZlRQ/yv8TLLK\n",
       "LXoN0QRxsuu9HQQXQisdZcOu5oqLZLRZlTyIJVP5GLU6zbk0gULW3tNFcGE07mFmvvCGe5jgrLEi\n",
       "hHdM5as2HAqekTjP0bg443nKmivuOs7anAN5w1S241Awj7eaizQunLLPJ7kH5hDOqj6zvG4q23Eo\n",
       "aCO4Eo0j2x0p4IHpRNxxxc3jrEdSuMf5PXAouEyMX7HgbjK+4I4bNXB/TGUGpwkG8FY0r95Vl/Pg\n",
       "CS7nPJOhfxMj7NKHdi+xrd1/TIyZglBNVx4pFCYLhTELThP0ENyEZXV9e+AcjvsmTnUVzYP79lqd\n",
       "JjjuhJuz7x2XMWMlUHZ0ZSfcnNFkojENnFBiekN3z3yPs6rdU6RiKttxKLjk4CpilgkEa9zJ7bh5\n",
       "xnUbmXUUfqVNZRqn1RAUDNWrJ4WLgkeY29N+N5n1R+srSpnCYQ1BwR3icpas0s8msb+Wyws2cTRt\n",
       "pvh+pyRWFwgkKFUfplJ0mU3R65bLl/bF58xZy04pui6IZCwp2ign9sNSgATVIYa/0QYtG7OyyrRA\n",
       "z9+DWQonObzIPbTkmA5VT6Ttu2TMyirTgrLRipwyY9rB1d/SF8sAzwEm6fV21fVZZUog6dVi1qt5\n",
       "6qWbr1sAM1WYTfpuxaY8Gz8qFBOqe71RHzHtlybU9tPWimR7xv9jWxvRm/YrRhaQa75xTZ5Ne4j4\n",
       "oTSt/pwkoV30jWv2fCUhhQYutqfr5fq2/6a9t8o7ZKUICj6b4n9xlndF95flyCpEq6QCC34Dgedl\n",
       "WSEFVtgk1VpOgeT3PSjGY5gv5O9zdVH7Ozg8POLXlp08z3mO2K7zDPbd47u7235xozyDJNIUxKf9\n",
       "5679fKTSP8GFtxr95HeC82NP1uzSGvnAuMg5MJjPp8voKP8AMJcWcsglbEIAAAAASUVORK5CYII=\n",
       "\" style=\"display:inline;vertical-align:middle;\" /></a></dd>"
      ],
      "text/plain": [
       "<IPython.core.display.HTML object>"
      ]
     },
     "metadata": {},
     "output_type": "display_data"
    },
    {
     "data": {
      "text/html": [
       "<dt><a class=\"ProveItLink\" href=\"../physics/quantum/algebra/_theory_nbs_/axioms.ipynb#ket_minus_def\">proveit.physics.quantum.algebra.ket_minus_def</a></dt><dd><a class=\"ProveItLink\" href=\"../physics/quantum/algebra/__pv_it/axioms/8cf4ee20de6c1e918a0d6d47ed4fabfa75fa2b520/expr.ipynb\"><img src=\"data:image/png;base64,iVBORw0KGgoAAAANSUhEUgAAAPsAAAAyBAMAAABou7DpAAAAMFBMVEX///8AAAAAAAAAAAAAAAAA\n",
       "AAAAAAAAAAAAAAAAAAAAAAAAAAAAAAAAAAAAAAAAAAAv3aB7AAAAD3RSTlMAIolEdjIQzd27VJmr\n",
       "Zu9JOMHMAAAACXBIWXMAAA7EAAAOxAGVKw4bAAAEEklEQVRYw71ZTWgTURCezX+TbLsei6ABexKh\n",
       "vXnS5qAeBDF4EAWxuWkRNPUgIhYDikpVSEDBk4YasFDQqAdFL0HxpGhvIggtFCwF8beNUC36/rJv\n",
       "dt+6+8Rdh067m/fNfNm382bmvQIEyjWIQkbLerj8TCT0yfN6uKf21b5ymPxTWiizIi5SL86ESh9r\n",
       "66DWWfbl7lDp4YoO6BxERX9Hw505Fxl9uhWM6S1ERh//EozBlCHTw+lgyGWIjv5uoL/kcoT0x4qB\n",
       "KW8uQvqeamDktSOkNwNjb2QmQvrUKoBMakmvwLfQzaCljFtdey9jy31FQYZQKh8ANshXUVI93EDX\n",
       "Lz+ddhe/RKNr72FMBruCQPEiVyrXMX3WIwst+k/fJLOPDdzzMp4EBz2plwy0SyidTkwPaiCmfvi/\n",
       "vAqzPwWHLdU4VcH0vF5SULrMlcjsEKbfqC77JV/63Az1bFYhVpPGW9AgfnoauBRktrjSwC5i+n7F\n",
       "f3bFf1kyzz1tyHakcRMNuukZ6L1QkndamD6tRLa57Et/m3nua0FyRRo30aCbnoHGhQL0tTF9tqAE\n",
       "r39iuM88k2dIrkrjJhp00zPQJqGEvobpefg8ukiFl5pYx5d+nHleX2AxUnXRj3vQM9AboeT9VBz0\n",
       "D5TY8qefsOm/SuMmGlToKeiOUIBMla6Jk+x5SUo4oFScz3ySfmGhn6W+08/n+eQXIL4kjMnUfRRT\n",
       "RwZtzzY9BY0IJfRzjqef/AO9h1yS9CT06AqZdD39vNfTU9BWoQr9mPvda01+Tw3MjjAOmvwx0eBP\n",
       "ycm3xagpvbh/5F9lnkk3mqtI4yYadNMz0Fuh7tCLNZSF51z3Sfvdc9nEPU/A0ZI0bqJBTE/rJQPd\n",
       "t1dlr2PdZyAg7bjL2j7u+cjAc2TcRIOIntVLBjorFGjUIPppNel+c9zudw1nSrJkTbvpMyVwF1wG\n",
       "MqpcadItYPq6WnJWHbfP3JPTkp7r7pJjtlT6uihFohw5Sg6ukF1xFFyjAmsfOnb7dduzh3FdoWeg\n",
       "flnc7jYQfcJjI3/BkQOHSOQODuEzAtuzh/GoQs9AdfnNSCu3XeYYj6X1Ct8cgrwFvbj1Nopdew9j\n",
       "Q7bxCJSwuFJ5HdSMzuLm9jH0diCvsTPTlcXARhulglQV8uRnOTR2Y+lvthkx9nozn//jNiMn3vQt\n",
       "OyuNFEOjzwdusuI87yQWyK9typb3H6Uv+ElYYYW9gyXRzuRq4dHPlnUhx9pgsu/6LsQ9nsZEisOV\n",
       "3BfIlHk3uuZ/Hq6YvOEwfvBuZg/AjtC29zoHe8f5n5vlE/RbXHrypBoW/bDOfv0gT5DDO2kBy5Bu\n",
       "oxIW/YQOKMFDPb1ghXu2oHmoKo6Usz9DZofNmoePDdkFhyjJE5rAaP6dcIgF3m/XRRif4nokkQAA\n",
       "AABJRU5ErkJggg==\n",
       "\" style=\"display:inline;vertical-align:middle;\" /></a></dd>"
      ],
      "text/plain": [
       "<IPython.core.display.HTML object>"
      ]
     },
     "metadata": {},
     "output_type": "display_data"
    },
    {
     "data": {
      "text/html": [
       "<dt><a class=\"ProveItLink\" href=\"../physics/quantum/algebra/_theory_nbs_/axioms.ipynb#num_ket_def\">proveit.physics.quantum.algebra.num_ket_def</a></dt><dd><a class=\"ProveItLink\" href=\"../physics/quantum/algebra/__pv_it/axioms/900622405d888843c6cd488daf560dca8c33bf8f0/expr.ipynb\"><img src=\"data:image/png;base64,iVBORw0KGgoAAAANSUhEUgAAAocAAAAZBAMAAACxyZnLAAAAMFBMVEX///8AAAAAAAAAAAAAAAAA\n",
       "AAAAAAAAAAAAAAAAAAAAAAAAAAAAAAAAAAAAAAAAAAAv3aB7AAAAD3RSTlMAq1RmmUTNIjK7EInv\n",
       "3XZ/CtNrAAAACXBIWXMAAA7EAAAOxAGVKw4bAAAH4klEQVRYw+2Za4gbVRSATzKTncnMJlkQxAeW\n",
       "iFpLa0t8FVt0HXGLYq0OVfCHr4A/ioI6FUFKbTeKomIfi1LW+EPHB5V1azdV19YWy4pI8R2lPtCu\n",
       "pK2l1bV1Faui2PWec2Ymc2cSsy/8Uy/cZO7JuefMfHPvPefeALQupw078H9pVg4P58ejVpxWpw5o\n",
       "MclUrAGUmv2oya5KzZzq43AkWdI9AQmVwn8OMZsH045KJl9uEfWpZj/uk11JeoOh63SptSPJEnZI\n",
       "1bgixA4UntECYgK/koXpgDgHohDnTOmdiJs6s8lvyYrs6sxmEJPWBCFSh/1eFRAXoXBZC4gqWmib\n",
       "jpXRKPL9rIVr1LG8L5lCuQMg0+SnjZFHzzSDCNUJQqQObS5XAfEBnNo9LSDqOF5XTMdAVAt8Pz/B\n",
       "buPWgi+ZQrlA2GuyHlweeXTWG9mx041CfJUG9Y4dPzQywx1kiNhBsbxaIJZmvtWaeIfvaaql3Xup\n",
       "V8MxyBV8yVQMuk3HwFDk0UlvnQvGgShEHB+6ILjZjlvxOsgQaUC9z1VAxNjS1jKwnD9d8WUmQzx/\n",
       "T+fPeYY4c2oG2wrNVqNkMfroQk/vFd99dgQirlSPiWpsiFnxO8iWaGm7jSsS/Gh4+IOWENuHh/dU\n",
       "pgPiYoJojIkylHv9w1NYop16sBYeMnKzQb5RVzA7moUmtcIQl+9cXQ9hqumAYW0niHUrIgSBtRXg\n",
       "RdONWfE6yJawA2zhihCvBHi6JUS1BGl3OiDe5k3nY8qfkPvtjD0uSW5y0n+GlCLNeAkpKEUpYiwZ\n",
       "xvKpP0aFq9QueNYNIstB2AovQj9BDFmpQtYxHcMyYiPF7yBbosgynytCXA5aR4NgJEMUKssnDS5M\n",
       "/zOGaPxijkKuCJsslBjvgBoKkJFmgxAfUkiKlU+1G2ll8uRqUwGW+KPKFhmd+YiFKdugZGURirbd\n",
       "CxBD4XeQLVFScw5XhJh2cWRc4k+PVYtt5W3hL5JsPy0vIhMp55ZgRcDxXYao/5GoQq4G5hBK1FHI\n",
       "VMCY7z8rNfu3nNI0xJOC8i2tWaOAyQM35JBjk6trAb4BeAEfQuiJkXYZDZFByc0DKFIFwdhI9DsE\n",
       "lpgUJjXruSLEZK3N8wj63rKd7NgOV8UhzptwXNF2D8LFHWC8XgJ9bgSityYWIDmKkvYeGLBh3WH/\n",
       "6alp1V97DA8pkC1IDfEK9W4ziO+BcRT0I1VeySzQdpTw6QYlN3NQtHKbWBmjVvwOviUmRcvwTVxp\n",
       "21fsFB/d+EuX2M0kO1WkH4XYptQmQnDdyRvgdNNVXW0xxrGMG5nOC479dFc+V4HsEEoGanCpkM/1\n",
       "dLh5FLqb7cZYQRul6VylWMkNaU3k6WwcA2WU1VDPgpVwgCGG3SwTIq2StRtB5A6BpW4/0NP9zvUg\n",
       "vopJ4AJthLZQkHzwhlrF7FrStUiCaM6cSFxRr8S9ZM0yYRW9tzrEZxhioirmcq4K7RZKBvJwYtKh\n",
       "m0JFbi7Ep4s7NQIFpWe1eNtKD2Vt3JBKukYQf4FE8WyGKPQe1MWbs5cSxLobkUHq+ccBDqRiGbPf\n",
       "IbCEpDjlXMCVIN6Pi+mMezY5ffRmS9vPajAStbfxAV4b8bd+/Z1b4+wCIW4pYdZZq8VCc64tQdzC\n",
       "ENM93XnI/fzwnS5K0rXkbpXeqvEbBE14i5sDRU8etFghcXD2Lk5kxDaAG3Js7CBXz8Bcy2KIQi97\n",
       "Ix5MVBBi3Q3tNg4IYXaO56Hu1O8QWEJSvD1ZzJUgJnDWfJzX4TqGqGZ74hDhJFFfcdZ7EI0v9d/j\n",
       "gwSFquhs0BZilvk83sDphTDEtd5IrIk7yez92yKJMWPb8kM8PYbdoKl/zc0MTrHd4H1kvvYV2vfh\n",
       "4VbGpnyDG3KaXCVXz408MqPEELFi7vycS9G57gZzpDQm2xhkyF/dqdchsISkOKn6nGtwFKb9Kibg\n",
       "/HK5nE+WjEqxAURaM2ENcKRVLX0Iln4npxYkxAOOFJmdBdb3+P2Qrf8YbBkzpeg2IhM8PEJM1icw\n",
       "OkrG5/Ns/6Ibl3BYxWcq3JDLVyFXCJHOXpRDsK4Q3vahGzrf6Szp+xssTV4H3xKRog5alWsAUem5\n",
       "WYPHeSTC0losT/RD614v0rbb2Q4YMkYj4VAI8TxBub1cfkJA7I/vJ3HHLkNUrDDEul/N0hzpNuo5\n",
       "B5cFqapDpww4hrgRP5sIQ0yTxvNHZodPcchNL02kefsarvvcwbdEpKgDPik9rQ8xUVtr8p5EsSHb\n",
       "0fhQ1vgdnnyZp+aAk17oOmLgSUEThW33HQG9wiMxNQ/u7erqkpj1xs4Te8MQN9cH4qMPuaFmsGYE\n",
       "WcIMvVqhFX6j34hGFkeGuLHRURi6Gc9pnG+JSFGHFV4NIKadxEWg4dHv2mWxtD1wsUs/uhAh9kO7\n",
       "s/46F9K2uBQ7Je+DhLl7+rx95IUgBm6s9MUg9nnfK+/eCVBPpD4ZGws3g1PYEPwTSjS69vuNKO+e\n",
       "+iR8468a7G8EEd1kC+OHSKSoQ69XI38P9JfL9r/9PXD9eSMFhLgmn7p83mu07V6T13fBGgc/WLge\n",
       "1+YV4oH0Lxw+EY/k4DXIlqKSyZeD0GCr5pfVsitJ71DoOjGeI/RSpEPW4Tqp/1hwOnM2Zbo1/xIL\n",
       "X42sekmMgTfLG+B4KZOAiJE2xQvw3WNV/xL3X3x1hXkeHF9lfBDvjP7vrDS6VOD4LIf3FP4BQWyC\n",
       "4PDlrCcAAAAASUVORK5CYII=\n",
       "\" style=\"display:inline;vertical-align:middle;\" /></a></dd>"
      ],
      "text/plain": [
       "<IPython.core.display.HTML object>"
      ]
     },
     "metadata": {},
     "output_type": "display_data"
    },
    {
     "data": {
      "text/html": [
       "<dt><a class=\"ProveItLink\" href=\"../physics/quantum/algebra/_theory_nbs_/axioms.ipynb#bra_def\">proveit.physics.quantum.algebra.bra_def</a></dt><dd><a class=\"ProveItLink\" href=\"../physics/quantum/algebra/__pv_it/axioms/62c8ddcbc2490a9323e872a0ae41d353e97803290/expr.ipynb\"><img src=\"data:image/png;base64,iVBORw0KGgoAAAANSUhEUgAAAmEAAAAfCAMAAACYnOrhAAAANlBMVEX///8AAAAAAAAAAAAAAAAA\n",
       "AAAAAAAAAAAAAAAAAAAAAAAAAAAAAAAAAAAAAAAAAAAAAAAAAABHL6OuAAAAEXRSTlMAq1RmmUTN\n",
       "IjK7EInv3Xbz6T5NtFUAAAAJcEhZcwAADsQAAA7EAZUrDhsAAAezSURBVHja7VvneusoEBW9c1fv\n",
       "/7JLF4hi2c51vN+KH4kjj2YOcJgmZdu+dABjDNvu8V8e1u0h/Fp09MP2Mpv59JvVQvKhGH8GgCSk\n",
       "uu2StoUQf27Wr4J+uBYI3QxLK5POGhPdV4o8uDcKDMTEE7tlKZEVhEvaFkIr08iSCxpeHV4lsRXD\n",
       "QPkKoq9j2MfAQZXXB/4Iw+IKQ3wdwC63GsLAaK9tYXJgmum4hhTynTzWsPJ8mO5paxiVI1AWHQzD\n",
       "xQZlX8ewT4GTxWOa7UcYpqbaZjoOUTMzapbITiZ702QP3EFmY0Be0DAdGHOi95Qu0zGoTDzHMJ79\n",
       "xCA+/DrDPgUOo6mfeIlh0k494kOGRQgjo522lcmB6bjpAFzUMBvCA6QJ747Gq4HwkYdltin4fQz7\n",
       "FDi9SkJeYBjkDw6GZVOGRQgjo522lcmpaYAvaihYhSsJTfFVMDBUi3NwP6nUsjAsZ/t0+0KGfQYc\n",
       "pF20fI9hahDc5TKnKgxLEIZGz6nC0uQsr5gyTA3NEGrlIK3Y1SRIZpUUHRuoPUWNVl9ZS34EHM7q\n",
       "U4LKeVzbXcgnGSZtCLjKl+1NBXFOb8yMYQlC1NkCqbVtD02ehRnVwOcdWldx8hHoQSafcrq4KLud\n",
       "MUyBg2E4TEPIr2TYR8BR1O57OOWcIgJUwzBsqgFGDFMbdBFXOn02xg8z4RQ8hSJMW7GoswXS8XJt\n",
       "ssvYKRjnYQvQM09o9xQk2YxhqApCDOQfX8iwJTg8+dz/uR658UxAlZCEz+I5H8ahY6FbVlZyu6Ma\n",
       "NufsRg46CRlC1HkCUmvbHpvEZ9xizLAV6HF64hzhLvzQeppUQF2lOX6u6TrDVPPex0qljZKborvi\n",
       "vtzdpNh9SmhWO2+tVVy9ybAaXF/VTD77mcFRF2c0N7+u7Z6Er5HMM3mCYe4ebZMCvDXV8PbnH9OM\n",
       "vTSl3Ami+XPe3ORcGiC1tu2xSQ6uMWwFmusMt15fiHYA/djnpTffK4ZBWxJr5XK4sDcmyVkgBCno\n",
       "rA7X/KJ4BXzCMFPiGwbvMuwA9xTDjr/zFLq59QxLOZAtP0IB/1SmH4orddT+B5tPa0VopZbj7NFy\n",
       "qzL2LVsg3dlYm+wO0oRhK9BSTPrDLLIITRlGah/mdhDZLXFHhpu5zr21Bp3VRzExZ1iUiqJvM6yA\n",
       "e5JhmG3NFLq5DaJkquP8wSThLiyfzMNCPsW8ulSBHXlMu1b8lEEL0FazQdsJSJcVrU12KdSUYXPQ\n",
       "k/ZrKiHRIA0rUdLUDFPwmG/0bhjXB6phWAiQiWEaWRsnr9wnV3hQiDEBu3IhlYbGMfOxFFnlpZhC\n",
       "KQhYZQFLN20WIoXmDDvAobAzGs0ZVkkwvJ2m0M6tWfpMYcFy/9XLSMCf7lZgEeNaeoxd9ZbMuvFg\n",
       "GgiJYS2QrE2e+DE22TfE5gybgt7s8HSnEhLv8+YOEjXDmD6sxm9CIKldpDDKDaFzgIwM8xwOzSQK\n",
       "w3oQDZlKToKZ3QRCBSnrpHxBpP0CKhw6BPEm4q4yO2dYAUeYz1gYp1OGNRKi9/LV3NpFydNP4YFS\n",
       "SznCSfAphhE3QacEka5TTK71wxKE9OylAZK0yZ02hicm+ya1EMfPKxriWsBRkEy+zjscfoQ1Wi1X\n",
       "6gDlhibgpd+379qNQE6CtoEPi+RKPiwQmkTnQIT7Lasw5DIgT/YixRwBBErBisl0E98xlIsoWcDZ\n",
       "lPuqKcMaifCsvJ5CM7c2ZJmTo0EuDzfqpY4rB0rY0rKfPeNTfNrTN40nqIFkbcbINqkemjR9AaiB\n",
       "9GUgsF1aPgctgSBySFXnLnbOq5f4TP28K52Kwds7IbTGZgaioSQVcM0wF5SQRm6QdCH+lDkuFSkf\n",
       "HI317bpoPN1ERFVWLcpkm5OFFcMOiVDG1lNo5nZKxPjWHl+MXu/pczh3VXMdZmsgZG01kKINyhOy\n",
       "gclrpq+AJkrUT42OSO6ipMGTp0Ysn9WOYcQcTxbqVsMFH1acgbss82tBppIyyKc80oVZWdWzXA53\n",
       "vb8CInUgnDKskQipftMtqed26m3kazkF0fx1hlVPWQR7nmERQtZWAynaOu86MHnN9HugFyrzyegZ\n",
       "FtNgardTK33MMO8UQnITgp/N3mv3jzuCX/K90hA6rXCX3W/jU0ehgnS8KRwZcYFhCHDg6no1ryVr\n",
       "iZSB1X3NZm4nv59Xldbkf41hqorLl/flqNIjhLar1GrLL0GsTF40/R7oucpSLPQMi2dG281Xgiy/\n",
       "aiCV1q48tL7jKsGON4l9s41Z5MrEqFf5WtJVkTGTV7536GuD2DWB1m+uxQjxsMFBOv2C2CLFLjDM\n",
       "1RS7FmTVragkbK6L+Hhu7SgVQeyMWPMGww4G2+uvTbK9uGZUNeFqIEWb7T1QJ3TR9Hug5yrLie0Y\n",
       "loo6YACLzPJJDHnPJNdv9cNqL2Yf9cMOCVEeR+QpnOY2nHhq4LE6EbePXitW4d30gdgzzUCGAaxu\n",
       "S9pqIL22hcmLpt8EPVBofPv6eDnpI+/p8/2nGCbgI4YVCWK3e3zB+ATDfOj8IYYZ+YhhRQLIe3f/\n",
       "Lwx7cdAL/y/JJp+30/t+9/idYY3R6F6Ge/zq4K7Ou1fhHn+PYGDUqrrHPX5qvPv/v/e4x3r40uzO\n",
       "me/x9wZRCN3FwD3eGf8CoRxLJRnqBlYAAAAASUVORK5CYII=\n",
       "\" style=\"display:inline;vertical-align:middle;\" /></a></dd>"
      ],
      "text/plain": [
       "<IPython.core.display.HTML object>"
      ]
     },
     "metadata": {},
     "output_type": "display_data"
    },
    {
     "data": {
      "text/html": [
       "<dt><a class=\"ProveItLink\" href=\"../physics/quantum/algebra/_theory_nbs_/axioms.ipynb#qmult_of_ket\">proveit.physics.quantum.algebra.qmult_of_ket</a></dt><dd><a class=\"ProveItLink\" href=\"../physics/quantum/algebra/__pv_it/axioms/bc155234130051aaa3e97c3889e6353b1e436f9f0/expr.ipynb\"><img src=\"data:image/png;base64,iVBORw0KGgoAAAANSUhEUgAAAVgAAAAfBAMAAABQaMgTAAAAMFBMVEX///8AAAAAAAAAAAAAAAAA\n",
       "AAAAAAAAAAAAAAAAAAAAAAAAAAAAAAAAAAAAAAAAAAAv3aB7AAAAD3RSTlMAq1RmmUTNIjK7EInv\n",
       "3XZ/CtNrAAAACXBIWXMAAA7EAAAOxAGVKw4bAAAEmUlEQVRYw9WYX4gbVRTGv2SSzGSSHfOqPmyg\n",
       "iz4oMpC2/l+C28ViKQR8EqVGBUXxYSoFWWrbqQ8+1G0ytBQbxXZQKS7CbnTRukRLYJE+tEraIi7U\n",
       "lClbK3btGtClsIvouXf+ZGY72UZJaXPYZZh8M19+c+65594J0LuINH/CzQulebaXdgnc3MjdGlgN\n",
       "V+dE70xnadNXXRKQ6YZbBqtk8SVSBff0MP23z5wIytts2Aw7rOsVbHdu96ENawFDa8A6sqJy2FH2\n",
       "0Su9gu3KTS76YKvAwBqwjozXOOxeVh9Gr2C7coupbViZUpfKdoR1ZaznsAnTOe0JbFduabRho7r9\n",
       "dB1gXRlpk8EKas96Dtl05XaPDzbl1E0HWFdGQuXd4Ptm81TvukE3bltc2MkRornKJ1wYrE9GKsNh\n",
       "NwPv9w7Wdss7xRl+3UsubPV+fIw/TDaFbNitTRZnHFifDKHIYbdDJOodr+uIVu3J+s1586sV/XFM\n",
       "tMQPfdOCGsji19UbwNpufIqpELzq9dkDZx1YKbsVD7IKjhXCMuuXEa1z2KRJFwrVqSwG6MPSnYeQ\n",
       "zECpowSxhf3tuwdY2mKZG8ByNxvWso/SxUrBs+fxnQMr4wdqTZQEKRMG65chtThs1KIvKWFKwzg9\n",
       "xGb2hRyWUhyA/R2oO11/DVjuxiFFSuuTdNykt+2DsIguE80kWM7DatYnI25nFsVhJpbJFpiHCysf\n",
       "ZbDjw5dMTC+KLw+NDtbMF0xoY+cWnsLO9eS9cFFLDVvKuunAcsvdDGzLCOYcdjhrj2sfLAPEivRE\n",
       "V+hGLbRmfTKiDRv2C7Y64GHgR8h8/JLnazN17GGwZS1aTGRj6nP3Vikxu/4ehXQNl3E3TiKVj1Vf\n",
       "xMiz2B2A5W6GbC0rOIAkMGFr3N6JIx6sIZhxohwL7wY+GYJhw77FhvbYP6dPtxBXvcxiimcWWCoj\n",
       "bpRNPoqlQUuq447CmzhIAyt+2sIz5SfMACx3M8SPGgoeQlTF01yy7Z343IWNn0xhA3vAcFifjFjV\n",
       "ho3w3dk11h2EVyuVA6tgZx/L5Qp0pD+T6pxg06py4gKep8edzW2IH10KwHI3AxHrDSo4qYqNlUol\n",
       "69g7sd9bFPbOLLLNX6PDotCW+ez0tojxBiJ5Zh6WWe4/LquUtAbP7DkcMfeYfIruw8brt4gGmT8i\n",
       "qohpeNdn7/YV3VvB3uZrar7TCubJ2OXfz8bySFjO8uCDLWuCkVRli6CnJH2Jmqi0jN/kZVywklXZ\n",
       "OojJIVaY18NGLGsnL9ik6bO3Q8h7sFf492mdYD0ZI37YtI60dRfGdLYonDIvr+wbzH/yF3bnFoDa\n",
       "ojh4HKktGK3VIP35QB6Xcu9Y9DFSJ6yh+eNhsPKmD6j+f6EOdthn78R7HiwfyWMdt4iezDczHixN\n",
       "6cgZDfJM5dDaa6pU7+JNwbDbLO+3n1UqBdfeiQkPlmd7viOsJ/Ps/vfXGqnVHaxAwx+3wi8ULXw7\n",
       "p3hvXTQVlJ9XwwZk/Pr/3sG2r3QHq7DOYN7Gb7fe7wbOgMu9/d1gFv0cpUf7h1XKJPsHNqn3URUM\n",
       "mHL/wManc7cx3b9KxokoFB0UEgAAAABJRU5ErkJggg==\n",
       "\" style=\"display:inline;vertical-align:middle;\" /></a></dd>"
      ],
      "text/plain": [
       "<IPython.core.display.HTML object>"
      ]
     },
     "metadata": {},
     "output_type": "display_data"
    },
    {
     "data": {
      "text/html": [
       "<dt><a class=\"ProveItLink\" href=\"../physics/quantum/algebra/_theory_nbs_/axioms.ipynb#qmult_of_matrix\">proveit.physics.quantum.algebra.qmult_of_matrix</a></dt><dd><a class=\"ProveItLink\" href=\"../physics/quantum/algebra/__pv_it/axioms/e3067366bceeab8f876659a383695810398a24700/expr.ipynb\"><img src=\"data:image/png;base64,iVBORw0KGgoAAAANSUhEUgAAAdsAAAAXCAMAAAB0+RV9AAAANlBMVEX///8AAAAAAAAAAAAAAAAA\n",
       "AAAAAAAAAAAAAAAAAAAAAAAAAAAAAAAAAAAAAAAAAAAAAAAAAABHL6OuAAAAEXRSTlMAq1RmmUTN\n",
       "IjK7EInv3Xbz6T5NtFUAAAAJcEhZcwAADsQAAA7EAZUrDhsAAAWFSURBVGje7VqJkqM4DPV927v+\n",
       "/59d+QBMEAGSkO6dGld1pp02kuVnSU9iCLlrpBgN+crQT7Wd2MdrW3VSkh8ZXHCTksCt0N84ff8t\n",
       "yxM70Ha4k5e2mpR0L6OTrmp03kalkjaeOC4DJyRo1A6Zlgmd/8L4p7G9TfY4mB/g4TZnNp9+DpTd\n",
       "hS3LM7KoUjTAhHYMipl8TWWi5VEnshVEu6Tgq+xwOxKfJ2JWovSnsb1N9nih1RoemqeLa2g/wFuw\n",
       "9XGYIEqxIXMNpDwSTS/5vEjS92tUJFDQJsOeHcpNEzM5l7Yfj8m3yR7N5it4NA9TIuI0k+9giynF\n",
       "L2K7CfSiLiOI7XeBFkUBUqkQxOB2cDFPOszEs8/n27tkDyOs4eFaqf6bC/aD2Ca9jy2m9Mmg4lCZ\n",
       "jTDU/IAjk1QHV1mX6xMN28GWBDdNeI/P6gYudZfsIe2pNTyCiIa2lnoKlK9iuwqbTOxjiyl9A1up\n",
       "0jpiW6LHR2Tx++T5nh2Kz5NQ7kgM/g6efJPs4Vj9I7apBcVEeDaXsHUpUWf8EmPialF8hu1WKSJP\n",
       "q0BLRg5hiMqbVbDsIRdrSow/feTwD50nou7Gujdg3FX0vuyDofjKLM2BwJboyRyZM9+CrYjDoA9n\n",
       "IgodTbAGR5Otg61QQ7pFlCLyYLd0k2+3qza8E4CV/AK2XM0TTaePl51nV9GbsqtJ5lmUi2xtliam\n",
       "1CMOfubMd85v4VHwOkCH73hqGq/oVM7sKkXkwSXfYIus2iQwCMgyXcCWhWVS9nyNKuooajoN9ADb\n",
       "lWwzlwoiC/N4cIImDTFNMM6FZL79HRK2aXWDkJwh8SHIlVllbVGSCuNIl7A1a2eE8c+/cTXyXN5o\n",
       "quT6am+UIvIwbLerTJj02SHfXonJJi8Tlk6zHZOotfAQo8QDasIdYbuSzbtVktq1OGepLlHPw3pb\n",
       "AZtw5L4Jr9/HU9hCPcKqN5jLfamQnmRYOeBpxODEqFJEHobtdpXbEm278OQzdsgwEivC07ngO7kb\n",
       "gwdETbReCBHhR+6RtkG2YPW4HLNpLc671IAEO0xtR4gea43twYoaIBlHMdmUxcqW4EhoINfybekt\n",
       "ADzO4diaNcWx8+O4UkTeDraPq7Y3WC71LZEnYnIciRXr+25daEoStwbpTKc5KTDDJERQf5RvB9ll\n",
       "Xa3MCCftds/iHDedClXLis9GwnvV3uuoWNZvO7h2VefUIpQ2Pwj0Uj/ZQfyoyPidQ36gOAtPxpUi\n",
       "8hBssVUpYX0puqFw+1zKjuyyb2nqQtPC3eZznzvTQ7SAutk7Jk9gqxdzgU+WKyp1SwiLOKbZdHCu\n",
       "6JalraYbQ+xFcvmeYSUdHbXF1tGtj2Z+CVuWjStVqlyKEXmuvsWVIvIAW7t87q9SDGlmKKEh4EW8\n",
       "NHZZjYlp7LCXgFcPv3ehzVI3jp3pgYiXnghUdfYY20l244SwbYhd7blFHHfcHXbqdghAXLTRmEtJ\n",
       "VDilhN/j1LM957cC/IUJvtdB8wbHdk8pIq9Wtg4+M51cE9XqqN0EKOdtyFHsteUb5t3QKFGri1IT\n",
       "hjw2dqa5snWwhq3zE0vy55o9ol4ZPgXSRZwx8uWXjf015dff8flI7hvS27HneKldBEUMblTpQhev\n",
       "gsRoxu9qZ3pojtRepmTp0oGVMt1KTXq6HcR1LkVe6HEMnfE/B9t3WoGPb0/mjJi7n0I6FtUzV53p\n",
       "hffzRl3olQPT1f/ZVH+N4rSv0canFwyy+kewTeGXYqt33pBUNlYIoaalXW0KEkNnWk/s2cTGGq9g\n",
       "myLUh4U/Jdv7y3oh485DgBYvBWZnfwRbndnvxNbqk0axTUa3tdlwKmgd/o+dK+KenHJ6qi3FIN/f\n",
       "KqJW0N+FbjO0v4s8tlo68nf8oYP/PYL/8fgPXiI1ujy4uPEAAAAASUVORK5CYII=\n",
       "\" style=\"display:inline;vertical-align:middle;\" /></a></dd>"
      ],
      "text/plain": [
       "<IPython.core.display.HTML object>"
      ]
     },
     "metadata": {},
     "output_type": "display_data"
    },
    {
     "data": {
      "text/html": [
       "<dt><a class=\"ProveItLink\" href=\"../physics/quantum/algebra/_theory_nbs_/axioms.ipynb#qmult_of_linmap\">proveit.physics.quantum.algebra.qmult_of_linmap</a></dt><dd><a class=\"ProveItLink\" href=\"../physics/quantum/algebra/__pv_it/axioms/b8b523331b2694a06a93e80e962968435e6030920/expr.ipynb\"><img src=\"data:image/png;base64,iVBORw0KGgoAAAANSUhEUgAAAXQAAAAfBAMAAAAFCStNAAAAMFBMVEX///8AAAAAAAAAAAAAAAAA\n",
       "AAAAAAAAAAAAAAAAAAAAAAAAAAAAAAAAAAAAAAAAAAAv3aB7AAAAD3RSTlMAq1RmmUTNIjK7EInv\n",
       "3XZ/CtNrAAAACXBIWXMAAA7EAAAOxAGVKw4bAAAFNUlEQVRYw92YbWgcRRjH//eW2+wlm3wQqlbJ\n",
       "SYNQqvYgTVGEcG2TtiRIT/2SWIW0ImIt5gJSianJ9Yv4UpJoG9JTa7YolVBMzlpomkhMm4CiaT0t\n",
       "opReWY0IRUlOaxOTWNJnZnY3d7lNcz1ykDiwe3vz8sxvnnleZhfIRrHFfkJ2ixL7ITuCc5D9UrLc\n",
       "0N2kz5Cp2dBCnZYj+q/wBAReLYzH5LIPcGkcvZD9XbP06JnJtUcM3pz4Auh1dI1y9Ar29/mlR89M\n",
       "7nGTd/0C6PZZJl9l6AfY5rQtPXpmcreYvJsmrdGdRUHA4WfobAEe79KjZyZ30OD1NP5rjX76S+a7\n",
       "3zB0hy8LsYwEZiTXbvpmk/K3JbpbG2f6eJZHmPOx2LfZiDCZyHVGDF6//ZoluhPrSSf4jKNvB97L\n",
       "BropV52n2WBKd80c59N5XV5pRn90xngpFD2eQCstDxs5ej3cVP3y3hCLTFTWTgVtZ0UuOHG+z1PX\n",
       "64jKnWiIzs1EPqKM9UYWQRdyAfnrOeq9BFkK91aqWscrOjtwz52kSr3kew1euP+y1LofzUzqAxw9\n",
       "V6UejkiPF/mi5zCcpBjpl3AA7wB/QtLQDCkBPcpU6ixcBJ3LZQ5HRouWu9rpvvnTKORCPCpT1Y+8\n",
       "Y54f20jHhhryAjrv1fJNU1boyuHyIha2Wjm6XaOJWtATxEHRPK720b2cKZ6jU+lJRFcGeSRYDJ3L\n",
       "pVJ9gZS4nS8iYg/BGZA0eRLSoJA17WH2tGceuky7c8MKvRsoYCRPi4NAbRnEOsr18VUkTWHOINC7\n",
       "4gx9aKwSnjJt3+7yx2f6sEtFsOHiH5Vo3BCAMrCKNSlrPk86CAi50HaJ7Ac0M8p8uqQ4nH7Rc5ip\n",
       "CSfnGQyzoMtWtk6j8tmiHxToJ/maHzH2EApFVHTxx6P9/R/AzdEncT92Y4vrXCNT2Gs3KljV71iN\n",
       "r3AKVaxpJ5qS0IVcBVshi9R0Rj+CwNFmGCfGuVcV6+NyNcH7pEj4KVp3+cQJgdEy9P1sQcdnR0bi\n",
       "ot0zDDFY17rM0QdRUB1HjTQt9rqlSGNVgVdwiLb/VdJjTetmNQmdy0U1SXDxLcQQu9WQOdT9N/Kd\n",
       "3vMLv14ppi7kvG42Q2cwFX0/Wx6lWdIVR7fxhU/CUSva+8YJYWM4HPYmo+eVDJWU0i9DV2nTWZVP\n",
       "GbjioiU7qMnVeT0JXcit6i9SHS+Ew++CVk3lProKgiy6cdZuXvmmPo55lCcgd06oWDv7Ygp61+we\n",
       "CkoTEW4g5qHXFYVNmJ9HJbfH29ZaZ8KlwY+Yj0a51i/iw0+mufXiLYMnMY0qZOIhiUcQZt4Sp3wG\n",
       "uENXE4YTDQY/J1mJ5cmR59RoAjrJzdEg0xyV5PYstM1DnyT7OoRu4pXjb+A6BW3S4lV5Gle098nx\n",
       "qakYuanoZHgFXpGbmg8/jHbuphQPXqKsQbOqYFuMMaP7hvTQnb4E9LwQ8rS7pXPyY5dwbMIH9xGW\n",
       "kkb6lLreY//IO/zu0TI6Sg9o9TNBnIqgor8f0rWH/Pit5HWNqllT8ejpFHTnWcg7nkMD2Y5cse7o\n",
       "VAi5lDMoI12wqQe9H8dUuYiOI+gw+ucG00JvSHxLouBg+z4Iu9l6IhwO3Drb66E5nbck+Uy43bDM\n",
       "CB2hgHtXAea5Um5LeEoHvcPiBe+p2zioSPGMXvC2me5lBiTn3LGmCZ65d9PLC6ArQQt0322g189k\n",
       "hO4xiB1mVely+iJwq+8waho1aXyHGcL/sEijkZWKfgBtKxX9yMo1mEuZOM/yKDtLfMuc8CYFpZDb\n",
       "8uEapwAAAABJRU5ErkJggg==\n",
       "\" style=\"display:inline;vertical-align:middle;\" /></a></dd>"
      ],
      "text/plain": [
       "<IPython.core.display.HTML object>"
      ]
     },
     "metadata": {},
     "output_type": "display_data"
    },
    {
     "data": {
      "text/html": [
       "<dt><a class=\"ProveItLink\" href=\"../physics/quantum/algebra/_theory_nbs_/axioms.ipynb#qmult_op_ket\">proveit.physics.quantum.algebra.qmult_op_ket</a></dt><dd><a class=\"ProveItLink\" href=\"../physics/quantum/algebra/__pv_it/axioms/d8fd9fb1e441f8e1cf290aaf741467826282813c0/expr.ipynb\"><img src=\"data:image/png;base64,iVBORw0KGgoAAAANSUhEUgAAAlYAAAAfBAMAAADXQ56hAAAAMFBMVEX///8AAAAAAAAAAAAAAAAA\n",
       "AAAAAAAAAAAAAAAAAAAAAAAAAAAAAAAAAAAAAAAAAAAv3aB7AAAAD3RSTlMAq1RmmUTNIjK7EInv\n",
       "3XZ/CtNrAAAACXBIWXMAAA7EAAAOxAGVKw4bAAAH7klEQVRo3u2ZaYwURRSA386x3dO908wPE6/o\n",
       "TqJBxYOO6wUoWbPgtUEnGhMP1FGjxrs9YoIHtP7UhZl4BIdEaCIxbkzYFkSFNbqIRqOIKwl/lImN\n",
       "Eg+QZb1AQLO+V6+6d3q6NwM6q8ZsJW+7tqr69auvXlW9qgEYl3RM1fqPKvsraVc1D0Z18zhpL/4r\n",
       "yiwpMilBzg5XyGRU7bqcNdpKlQqEkqSJfzr+T6yMPAumh+iPXvBrnke5PtJe1itFP4svr/ErM0gv\n",
       "7bH4rHJUcVzzWTVRbxFa6JEwG7Q7WQqme2tYYGePJxDmGKxah/0svsysDPxaJz6/liJZzaa625rP\n",
       "qol6i5CirrQ2WLW0IgthHalh4QJk6XnHGKym+qzoZWalowzSJx0Wyepx8sJy81k1UW8RVPLSeQ2a\n",
       "pUwWyrZbAQsN/UqnmXnGGKzO3yuz9DKzWomyivypUwqzImx6vvmsmqi3yD6xqkGzNimY3njHDlgk\n",
       "bDlobU4sK/2R32SWXmZWJ/pD8xGLZEWP1nFY25uot8h7UKMlfrIUROPtzo+y8BeDVjOW1XzjJ5md\n",
       "HLBy/Sl/M4u/D35SrX48Hvtg8/SisrZqdavboFm3FJxMMNVkFiu7kNUuXvL1XCyrzsTPMtstWGnb\n",
       "TXCNQUjQ915l8VldBLBkPFg1Ty8qS9mQcRo0kz6A6XIouczCPQVehN2OWNyTwjHnVCl9FrBK59UD\n",
       "MnuzYKUnBjTT2M+L+1ksPqv7QMmNB6tAryPHWqwpi7lkWt0nT4gGSyFlqOo+Xwe6Quw3N0uh+gU5\n",
       "wULNz4GzaR2ijTQxEOdXKVB+lNnNgtUTqcGkBdiWdvJTWHxWGYcaPniXzV4HJ+2zWtZzGKu99YXz\n",
       "+gH7POgdVl6o2XCwJ0Nvug1YsV5U8iHHduJvi18yymryJrSlEDWgMxSLLqGVROhIApweROYXfBiE\n",
       "VPC+FDCendVeFiw02IRrD9pLG6k6HMfq+1nn75PZ9wUrp83TxXDQTl5i8VklPFyCk25fHrK8h74H\n",
       "KVrWFh35HGRyYAzAIlCGYeHoN7I0wVK5BqyEXrLop3pWVEK2b6vgB1NTqgDLYwy4NsTqNIFfOpx4\n",
       "kn0zNFS1pZ4V7viTBplFYj+ywv9pFNJxfkURxR8hVjDV0UUxjcFcluCMU5yJH4Y+C3pYxW5nHTnP\n",
       "RdRBwQo1hlj9AOSijVgJvZiu2lTPikrw7VnCeftpg54dY0CrU6usNelJHfeDQEn2qZ62F9SB+jmI\n",
       "PpEdYBapopKHHbypJQZj1iua1ltDcxAuwE8YDu+dp7IErFaJgBY9bZaMU7odGdozK20ZseqZud2B\n",
       "1UPKrcfPbu93bnTAUl6Y+ZqjrMZpvXObpc/04KsZZm33WC94N9azopKcPHMo+0HGyPUGjAZnpEyf\n",
       "7JCO9DaYnrWVTmkfzauUP1mXSkmbfG4RrMpJJ13gYClZjvGrK/hAJFgtZVYXw3S4UsZk01gCVo8K\n",
       "D5kWOLPxG3mSUJz5on/tACwgViUrUWzNp8y5J7g4/I/9gYhKllFscdssvTPl3gRdaVfxarvHeg0c\n",
       "pzArUZKDXra3LE+v9QbwgSxQpqwXOlZOcrxMHsrSPup/1j8hy/0dHqWWe5lF+gMdzpRxbMqNslLI\n",
       "/5ZZzOpVZjXXcnH95LGScUjAqoXmwksjGzfKtU9/Tw6OPwf7hF8B/FqCdLnkiKmyqN0TRYqVMfss\n",
       "5eVhuFr9ZUpoDgq9cBVN2RArUZITI4o+RN9Jl6MGiMKae4YjhI6HTwUvaeOZnO3T7v1946d+s4Us\n",
       "vSN3QGLZHped5fG1Q5Z03ADqKCtt2R4HThq5k1ktZFbq0Uu/BXmG3MJSdyezV8YfAOt202nx9krl\n",
       "6TpWG87t6Cjgs4d2fZWLYOcu7wZsvqHjTLh6pBC9Runub3fCrERJDs6qVCp5KFFlIhc1ANRyRBnq\n",
       "OFbJ4y71lLQPJlkiBOItx2YJ73NPBD762BjnwSBLL1PcrorZT3cTyiBLmFV6EFrY6XWnDTOqG+tX\n",
       "An6PZuZoqKgoa2Z2LBDkQHWSxUj3cNdaYIdYcUkO+0uJliibsNQbUDcHfVZbks4DABdK++A6gMP8\n",
       "Wv+gGwawQ7xIvtXViBW9TKwMMbiLa47jYVa4QrZ6oKEFlwAFrRxz17AqWclyxtQ8BNSn2r9SdFhy\n",
       "jHKfkx3KuJr3DKzEzkVdAWfapHyIFZfkOA5X9nXZmQJNkYgBhhfrV4biisVqiY/6nqDDi6WEAAim\n",
       "L8VeetSzopfX+CdIcbszT0qYVZsNbd5R6rvanM9h+R6smmdTLPqx882BJ9s7V/wC8zt24gY/pLS/\n",
       "AXo3zO7vx7X99O1gdJ1zDxaD/raXuHSGVd+91HrQLrullpUsyYFCl5UrLl/75fPCyIgBGSuO1YqL\n",
       "VyPGAtsHgKHophY/uOiVEgIgiH8NtfrGZNUr/Qr8q0GffpjVfOzHZxYkRm/O1laea3CQ6TmUa9+a\n",
       "mIESTuJXKhXf2GtjDOiFOFYUXomnsI823mMOD6J4jyWY/3bN1+Db6B3y6H371oJU8J1fKXZsiyX+\n",
       "vv2aQzn0lf4eq9prOitqwIXxrKbHXp2Pc4plZR6CAqXdbRYrWBcxIFmIZ0V+c9R/glWz0t2Rn/T4\n",
       "B6iMXHuneXV35dHb8xhl/o9Yzj+MatdWE4zqBphITUiLZkwwOMik5jITEA4yZewJBgebso42AeEg\n",
       "U3p1xwSEcPoToB5nxao4CGYAAAAASUVORK5CYII=\n",
       "\" style=\"display:inline;vertical-align:middle;\" /></a></dd>"
      ],
      "text/plain": [
       "<IPython.core.display.HTML object>"
      ]
     },
     "metadata": {},
     "output_type": "display_data"
    },
    {
     "data": {
      "text/html": [
       "<dt><a class=\"ProveItLink\" href=\"../physics/quantum/algebra/_theory_nbs_/axioms.ipynb#qmult_op_op\">proveit.physics.quantum.algebra.qmult_op_op</a></dt><dd><a class=\"ProveItLink\" href=\"../physics/quantum/algebra/__pv_it/axioms/b0a552b83e719d53869b41753235e49cfdcbc60e0/expr.ipynb\"><img src=\"data:image/png;base64,iVBORw0KGgoAAAANSUhEUgAAAoQAAAAfBAMAAACMp8HVAAAAMFBMVEX///8AAAAAAAAAAAAAAAAA\n",
       "AAAAAAAAAAAAAAAAAAAAAAAAAAAAAAAAAAAAAAAAAAAv3aB7AAAAD3RSTlMAq1RmmUTNIjK7EInv\n",
       "3XZ/CtNrAAAACXBIWXMAAA7EAAAOxAGVKw4bAAAIL0lEQVRo3u2Za4wTVRSAz3TaTp/DkhAFErM1\n",
       "Enzgo7GgkCjyMohorPhHXYMb+GEkKCUxJiK69Y/xsdhFRSgKW6Ix2SBseTTAVmVdwARFsyIkhlgt\n",
       "WROMj2U1wAKbgOfcc2c6nRlgE6xrdG84O4e5586955t77j1zC1DTclUpBf/popcO1riHxn+Hoykp\n",
       "tqK52/7+naFXNEErbdHMRyb+Fwj1GAuWZ633fWVX2wKYpgVLTThpVefjZT4jrKPLNbVDqNDFEx9S\n",
       "hBOkYFki/qqtf4y8Yg1Aj6ttoWJqRygboqqjSySI8G6qfaJ2CL307vxDuiKGGlnoXZ7nW5EWgPo0\n",
       "+HNutoWKqWMWckNSFwFLAl6iNaGldggDNM2fG9JJ6I2zkFrPL7MJQ/jxaaBOc7MtVEwdCLkhqROB\n",
       "JSFeRDhWw7WQ3tTWIUUYkYJlx27eEu7Cy11I4ws320LF1IGQG5IaybEkQEXs/lpuJ4kh31XGS8Fw\n",
       "Kx/n2VKPshhn2UI320LF1IGQG5Lqj7Ogf1+VSl/WEmGkVPo+P6QI50rB4IRbOKD3A2yghGWLm22h\n",
       "YspqaY2JkBuSGq5jQYT3AKytJUJvGoK5IUW4EIzpNg8y4m0GzvQeFXduY0Si1Bm2hYqpUBfAy0mJ\n",
       "UDYUm3MjCyJcClpdLRHi05fyZmer46V8f0pUqSurKz2OPZxzuMhq/p/d/lpngmdqB6VQl03CV70f\n",
       "4EaajzfaWx00ELIpqeE47+fETTYk1dPJggiDObrxzOI0eMQbuv5MSvkMF82Pvwb4bTY/eONXHeEl\n",
       "O9XuUCs8110FoffX1y+VWq+VK8pHYiUPtM7dLuICOA2ok1VKhd5ipDWpMpDwgTLoe1NeUYlmr54o\n",
       "zrHaj8eBqkmnB+Zuu08K6G/Pqhe9BtH18GlUMvYB75MIpSmpfuA4JUyyoZiQfSyI0FNGGzXfHoMo\n",
       "p997wUtTIHwW4Ge8vjFmFQC+898gUIYmCFgQdlOUTr8UwpvlbrKbV/I76VE2hFilGF3BjE3dEKqr\n",
       "DAR250BPgy8vEardoHeSEjiaxRF7byjh+uTiQYMD4WaAEWL4I/Dx6jlUHrsQQmkqEOY4rSBusiGp\n",
       "vk4WsV1OxcFDewqa+SnHcx0i7gZAxYF476H/rJR+t1sRoiMRsEyHCyD0qyIGfc0ciqMwK7AhpCrF\n",
       "6Cqc96Q5IZcDgfY83C7zWDJTMJ/rI2WWmNZFuA7wA8HpgZk3m4GM8zLaSUoGg1g5icpN9rXQCGRp\n",
       "KiZkGTQjkGVDEcjdLIRwqxgbTulZMjWay30/AJPB+AYSCNv6COGe3nshPLX87IJZDw50+MeCpq2b\n",
       "uj2nbcPPHP3TK2FbL+jXbLMiDI8Xz9P9vOR2QehbG0KqUoyumsg6ah2It09NG8klmkVisCmOivi8\n",
       "Au0sx4PTAzPbXS/FR2lIn2CMcyNDY5tif+frGaFhKpagd5fdlJIIZUOxnbSwEMLlwjV82GE5uU7z\n",
       "takHDUPs6Lpi8T3QBMJ+zJ0WwExf1/OBTtB+PJSETEpvVPKRFGyHuf6YN94AL1oRap/xduAV8ayd\n",
       "S0xP2xBSlWJ0tcs8DTAGop2bRJdxEmFTz8TRpLRxtkattEYXDzzGYrhFynJaBfvpzmKE9HnOzHUs\n",
       "ZQsjNEwFQvWdDiOpkQ1J9eZZCKFCHn14/sCBPplC7uVrcJ98c8YsDAmEnTDi4T54JHCWVFyPzlH4\n",
       "nNRSwXioH5ZlwNeSmZGrOqkZLeI4rYsYwpVsw7RqhKJKMbraQ38esQ4E3kua9xRaTEOjSHmIZxy1\n",
       "8rW4eOAzPltXsLSdXwSe1lPo9ZjzI0c+KeboYTvCFQKhaWpLrY2GhDAqpXLY1S+SHCodx2X80BDU\n",
       "J7PZN20II4k9iUl4xX8hip9m8vvX38s+9OCORCLpaz3pPOzyFreIkMOVTDtZjVBUKbKrgLC62joQ\n",
       "mCP+vioRIr+mJCq3ZbPZGGTIxlPn4kHAQBhNs7gcGHbb70Srv+oufNgFLwCLidDXTc6J6lyElSgt\n",
       "/4G8+yykbSXQ+b5CyxbNwmg8+AstS5QlvMYZazVCXJNFeOFK5jtdjVBUKbIrL3YeELjMgcAPYA3k\n",
       "LvzQp6SGsyla/tJEy+GBGch0mOA8UDAOFaoL2Q0O4UxgMRHiyP1lCKEX94J+Vijt4sWttSPsx0Xn\n",
       "LdhMU7DvlRFJzJszOb2lPRfthXdhM4ZzeRwEHQgpSv+EjWK32FQdyFylyK6a3p4Mq8R2IgZCTUKM\n",
       "vJdGpdD+ETpELMU3j3ZmZjqYpO3E5oHYSWVZLcVRXE6QVg8SIZ1uiRMuE2EkDZHy2EBX6P4jsOFU\n",
       "PNAFausO0QuB3HigQ1+yc8OJ0APTtJ6peQh/Wl46gNtH3ttQzEPm1p9Anzn5aboNxV4Y17PDgfC+\n",
       "OvjgVLI5pi4pbn8TqhBylcJdhe6esO4MfhKm5ECgOQZTBlLsHI4K43egOCdGCDXK0D+Yt+vHNcJx\n",
       "mwe4lpsfOG1S3HjZS9sgEdLTRQ8mQtxDlW9S4DE/EcwzyF3ZVZf4imse/MG/9VTNklpzhFq68uUd\n",
       "TWjD9lSyUFQ2ZrOGVw1ODyzQtDKL4xvQ7feUMnxS+e1knxVh5beT75NwDK/H3H47edShDKJkBo3Q\n",
       "l7sYQmuZ7WhCHxyPViG0Lmop58Bn/zOHGHaEcYdy6aLV5weLUIXBIgzn7E0miVFdACF0OAauJocG\n",
       "4d9dnrrI78hck+WLut5W6zgf4xtB46TGZh9y/mLyjwDUS3tguNS+BHrywxAur7wELcMQLq+sGUZw\n",
       "ueUI5IYhXF5pSMSHIVys/AURSLMjNAMIowAAAABJRU5ErkJggg==\n",
       "\" style=\"display:inline;vertical-align:middle;\" /></a></dd>"
      ],
      "text/plain": [
       "<IPython.core.display.HTML object>"
      ]
     },
     "metadata": {},
     "output_type": "display_data"
    },
    {
     "data": {
      "text/html": [
       "<dt><a class=\"ProveItLink\" href=\"../physics/quantum/algebra/_theory_nbs_/axioms.ipynb#qmult_ket_ket\">proveit.physics.quantum.algebra.qmult_ket_ket</a></dt><dd><a class=\"ProveItLink\" href=\"../physics/quantum/algebra/__pv_it/axioms/844e638ce739672576f23bfde42140e9fcd2d9990/expr.ipynb\"><img src=\"data:image/png;base64,iVBORw0KGgoAAAANSUhEUgAAAdQAAAAfBAMAAACsUSGcAAAAMFBMVEX///8AAAAAAAAAAAAAAAAA\n",
       "AAAAAAAAAAAAAAAAAAAAAAAAAAAAAAAAAAAAAAAAAAAv3aB7AAAAD3RSTlMAq1RmmUTNIjK7EInv\n",
       "3XZ/CtNrAAAACXBIWXMAAA7EAAAOxAGVKw4bAAAGv0lEQVRYw+WYfYhUVRTAz8ybmfe189w/Ak3R\n",
       "HVIs/KjB1Uo3ZWTTNDGGIKi0GhD6kNKn9Uf2oaOEQa47QyCrgvYsESTYfbpNYhuxJVGk2SotBLb0\n",
       "/Epxc1vCEFSyc+7HOPPmxe7KQIt72TNv77vnvHt/9+Pccy9AFdP4HhuGabJ6Tlb1exkYxql+OKDa\n",
       "TIoTQmO/arE4K1T8SfXp3Hrvs1SHDaqVYFKQeZ2120zL/HaU5wPszvh0ZKqwjHoctZYeE6uFGqJH\n",
       "ODkkq6lcOKqF5qnyBk+i15WfDLtSx+M6lajS8ixHXUCPl6qFGqFqYkNyTkaGC0c1UbrKGxynn5UV\n",
       "dvuKOq7QqUCVljGHoW6k2Z2vFqpGk2TdkIwiSS4ctRXlYHmDTZzgMLPCrlHqGJ7Qgd6Or5wgSyXF\n",
       "UImYK1Zlra6UTR10qhHCUe+TXXWrwWwgahy/XafUCWeFTrMDxvlAyx8YqoIdGqueW6ofsneaLKQg\n",
       "JyNfALcazJZXzL9YwxmpYwodrQWf+9NBliu4B/6xp+do9VBrenp+dYdktERIAYxzSXCtLnI4DEPL\n",
       "QnT1Tu63zFr/vHeZTmsjol5mOhHTBiP1RZDlAY66CGBn9VAjWdAdiIgXKd6qspw/rRBSADPcaSSt\n",
       "a9wvYYPRbvOscdy7KGyqLO2hdALEYKGOOw0+gT8d0rkAh2AvfBpk+SBHXQMqcr/xapb3Ji7zL085\n",
       "n1/PzoX9/equkm5E6evdMgAqfmsNbo2UUwBm8I1SFM8orqGF3/Mep3RSSAE2RboUm9bgAo6K67aW\n",
       "jMmthzt9dcUTpKMllsJDtNRRpxbM91O43QVYTuOouoNlituWgDgWNN+9DfRasDqhGdR+2FrybTZk\n",
       "8wcKIXbSotPFFqmXobInVdBg/AXQLd5+K6QATo1nsrHfyFFdUNgEIbeu9fu9WZp0DDiOalwHB2o+\n",
       "rdwAyxxHDXvolZqhzYYmhFlETWKoOLxlqH8wRxkaCPV++mVQa/Fzdikq5agCzTOugtZZgQoPOCbb\n",
       "OqZyVI96q5UFCxDtDESF8DXk4jopUDuyCBhguVwEhpl5ZIrgj4q4gqEaHxFq07xzDrT3qS9OWlDX\n",
       "4cTGgqrumveZo7bjHOs9bWMRnGlIlqLGFI/goqdhTjyrpgRqEjYfAcqd5WFuP0RSFRMYFmL3WA53\n",
       "nNjgFDwN8Dj3yOEu31rlExgiGTUBl5hOCt6G8xzVbzldoB5kkchsmlIGiyX0Ux2HO2EDoebscCaW\n",
       "iCSX3+vimKu//ZzGV1Ym5NbYZiriYtEsV/VKUc3JDsG1jnI8PQH8exC11dGbAXO8AlDybLWwtFsI\n",
       "oi6GOfCU2A6xwY3Y5D1Zvs8q/ihH9zhqXnGiaaazSXPBSj8ZZDlboL5DfnzfzWPH+iGaLI4qtLFR\n",
       "Bfg7B9F8zqF/QTv9D3ul2nqyzVYdLNp+ZUrZBFa/ZnBvTQdPyfLgWsfpZNL2N1FUYKy+cewnaXRA\n",
       "CKIut10lLSIabHBs1cszu0VIEvHvYLSHoE70OxNmcR1rGZ0B3CDLJQI1xE4SV8krK6/s2PGhD/XI\n",
       "I/X1aXzin0HznF5B72XvBTSiomdupstONmP4lJ2gJhBui0RdS6tni6gARtnM/7O0VQiiauN2X5Ch\n",
       "KwUCc2+eAhETx9M+VK2L62w83GcLHQoh9jhBlt2lh7hoF4RSoLmBo8ra0mQkQ9QMehVP6pc2OGyB\n",
       "a46SqTjEIWq34rwO8BjPhdBR3EM5XgE8B3BX0bNnuVC0pCXkgYQ1OMLmADvpvFvhA38R0dKmoo5y\n",
       "EZqTQZZqVykqeomYJ4KJEtScreT1pOEhX5uWHZXGTTPnWPk2J96nu4aHRWdSkA9CnWCpLi1Nw8Wc\n",
       "Mqb2PZYT0Qo6wFVSl2JxEkK1WKTbIlFr2HzTbR7c+9JMgXqpqAMf900JtGTgRVQsq/HGwroshRBH\n",
       "nd+vf1CX2nsF1tf3AnT0qXWHwFwCkWUdLuRmnAOr8eFV+JqKwk802EGoexe3Y9MxRvuGcpNvbGM5\n",
       "VgEARhDHQzKAb+FSkOGskZGoOXlaCzp7IQdDdaVO6SGu3HJd2S3EelyzJzCGPLxj2wDRX9MgbiF0\n",
       "vq2yZ5h+aQdiOVYB+ezxo6Xyfi4FHnXIYzg1+DIrP1sctfJzbp6jelKnFLXcsuU2L1xyg0SdI+5J\n",
       "nqWcnviPWxPqd4/JRZnnUYqFw/8m+482iAsBduuZDhR1ihc4fkvLvj1Utc4dHCr19lig6AFzcUfk\n",
       "7pQbw9fkPbC8tHMCcv/XPfARGLmpuWGkkGq1+khB1bMjZv7GHWOkoEbb6+9Ytn8Beqv4cH6vmk8A\n",
       "AAAASUVORK5CYII=\n",
       "\" style=\"display:inline;vertical-align:middle;\" /></a></dd>"
      ],
      "text/plain": [
       "<IPython.core.display.HTML object>"
      ]
     },
     "metadata": {},
     "output_type": "display_data"
    },
    {
     "data": {
      "text/html": [
       "<dt><a class=\"ProveItLink\" href=\"../physics/quantum/algebra/_theory_nbs_/axioms.ipynb#qmult_ket_bra\">proveit.physics.quantum.algebra.qmult_ket_bra</a></dt><dd><a class=\"ProveItLink\" href=\"../physics/quantum/algebra/__pv_it/axioms/1152354e9e60dc70de123b27370ee4a27c45f27e0/expr.ipynb\"><img src=\"data:image/png;base64,iVBORw0KGgoAAAANSUhEUgAAAxIAAAAfCAMAAABEbAu6AAAANlBMVEX///8AAAAAAAAAAAAAAAAA\n",
       "AAAAAAAAAAAAAAAAAAAAAAAAAAAAAAAAAAAAAAAAAAAAAAAAAABHL6OuAAAAEXRSTlMAq1RmmUTN\n",
       "IjK7EInv3Xbz6T5NtFUAAAAJcEhZcwAADsQAAA7EAZUrDhsAAAnDSURBVHja7VzZdisrDi3mme76\n",
       "/59t5qmAKse+ayW3zUPIcUDaAm0QAp/j+CsFGGPYrxb4LX+1WOcKsKn/SKG/XuC+sKaeMJHffhB7\n",
       "sWczzC8N+StgJSEjbr60aFTF5x8fx/pz/nz8fmTPfIhaoQj19ZcS//xCBJtakcvfxTDFTFyahF7E\n",
       "3usKDUcd4gUfspTIAfcKz3FVlTWtoD6wvjiqJate4j1OjKPZUAKUNhD9fkp8Ei39sLxtgaqtu+mN\n",
       "swLxMGNw4UoW/YwSo4Id2FOOuNd4rqqKpgXUe+uZjj0p5OdCyRN7GKZnmmFG5X40G0rgoomy30+J\n",
       "T6KlH5a3DURoV3fTm5zO9D3M0pUuk/uMEjOJq/5mxL3Dc1VV2s6h3ltPzuDvyBwMyNXecmsPxpzo\n",
       "Mx0c6c1oNpTgYL1T/z5KfBIt/bC87eygrm6nV9rZMjxbA1MvhH9GCQVfp0TGvcNzVVU0zaHeW39E\n",
       "PwVgF27d2SO8cppMOdHNaLZniUwTBf8AJT6Jln5Y3q7ovm6nF/IZKWeRcu6l5Y8osWa9ZStK6Cd4\n",
       "LqqqpinUe+tTAXhHiUsXK4wreTuAgU9ajKHgYjRbSuTf6fEXKPFBtPTD8nbBOe3rdnrVLHSTdONK\n",
       "FP2IEr2C3ZZUKJHx7vFcVRVNU6i31j+jxNCFUHvlnzzVIm4aR7PLOGnPLaPV38g4fQ4t/bC8Xdyk\n",
       "+jpMh7QhLFE+I9idZOupj/M42aeQzSQq8JgS0iovKSbbWwVmF5YXSmS8ezxXVfVQDlbwdtYzqoEP\n",
       "arVuQqe9PZPzczyURIynXVIiQewogYOdQv4NSnwOLf2wvJ0q1NfRZw/o4hLpPrJxWzcXHw2rJKeI\n",
       "ANVMIipLHjZNARNKRB2HBsdcQd4N+hgE03GR3+KZqMri0XJ32VnvFIP5WWJpzyI9Ys8UN7ElJRC9\n",
       "UoKB/OMvUKJFO+z3+CcC99bjpfSXlOUr0Vz76eDQebSbAlZC9pr+IqAJtMPvoplEqJ/uEl4Hretp\n",
       "VTDuC7ZdE3IKtOLd45mowjuod9Z78XNKrO2ZRr5unzmFL1qvw7cEsb+q88ORGjBMNR82JShO4ZAD\n",
       "DdojllTaKHkoeirus2WHFKc/8pidb1lrFVdvUaJFW9e2YAeaHJHn4FuBjbxJ1mL660LZbPBStEf6\n",
       "2utzarVNwTQ+unRanuvwNyRzi4ySn08pkXR4V+oVHP/5r+nKWfL/DFAy4t7jmajKmipUedLjeGb9\n",
       "mhJre7jOljTzBNEJoC/nJl+WIPaUgLYcXpWDHtSZ1km0l4jT3sMtEIIU2FaHz/xYetl8QQlTghQM\n",
       "3qNERdt4qe3/XTCO4CcCG3mvUOKqbDF4K0qkNIiqmcjKpBS62/IjtMiTSB7vEjnVkiLphqrDNJFK\n",
       "g4PjsmVkvHs8E1VZUwPV4ON4Zv2aEmt75DSdlgImfqI1Jchsl3AegeyRPFsGKVz3EZnbDtIwYcw7\n",
       "2FbXdWBNidgqNn2TEgVt45UsrhrZ8SvGAfxUYJX3EiVGZavBWwVOMWQPyFOqpIbDKcHjnYgE6bg9\n",
       "zkLz+CwRopOS12ni7X6aeH82FWDAvcczUZU1QbPMOK2t31FiZc/84i4lmtDkKDGO5kAJBeuQxH0E\n",
       "9zuNxtmpmjv6SokQMyVKaGRtGLBDud8ORinEmIBTOQk0XEUyH14hq3wrplDalK2ygKVOh4VIoRUl\n",
       "KlrvpcSCsJn7V1wMjxh78HOBVR4K3qHRmhJNi5my6eD5vrav0/SKGIakJ3Ztnl2EOfQ5GS9Lxqiv\n",
       "HAjF810iTBJkFwVmk86sGaeMd4/nqqpomkK9tX5DiZU9h50taynRhM9NKjhBHCjBdNUdWwxbvz35\n",
       "dX8SRrkidI6ZIiU8IUM6m8IwhkRDptLCycxpAgNCK+ta+cyF9gYqHFJ+sRNxnzK7okRFK8Ku63YB\n",
       "11bA7LbjHlrALwQWeYT5SJpxuqRE12KibDp4TS6y1CRu2cyvdyhHU83pJIUElFrKEU4C8yRi9ZwS\n",
       "itahbBWQR/cSJYe6xXNVVTRNod5a78ZW1J8rJUMXCidxU9qA/LLNh1PNMJrjS9hy9pT0PLUrA62U\n",
       "ToNG0DHZJSIb0i4R2EnigkmEq2UTS7i42zO3tGLOxwRKEQeTqRM/MZTLwKmiFb6P3/icSMSP9HaP\n",
       "oAX4lcAsz6YtWS0p0bW4KFsMXhNO5jpNBwdK2HJ1bCY3Bcide40a1jVDnlPCHd0Q2sUWoT1fUKKG\n",
       "wTs8V1W1G1mvz2vrw42E9PkiYMdeS3skEGRwmkwpfXLefDUmnmqG0dw8Dg9h15BOVjLljt0fQlIr\n",
       "LslrSrjIAmnkCkkfxJ8yBxellY+XjPVXKlF86kREzYBssmzBYjdqPiQN8xSyWS3GDvydQJuD2x0l\n",
       "aouJstngxXHnXV2cicPFUp1XQIwursRu37vNb6+fP4WtDzoy7h2ezSPVOdR767e9ll2IEs2DjhLu\n",
       "+cDJ4NWDjgxxTQkSWoB+emTK2yQ3eL5LlIXGfSzzQ3TTtDLIB6zSRV6ySYhxOXGsFSUcy11IylA5\n",
       "8vZZ3gb8nUAQfR3CJSW6Fldls8FLA427ukxv8wZBdPF8jpM1v0wiRj+jhGCvU6K829vgmXyVIWua\n",
       "Q723/hElxHtvl4fRXFMiHg1pzLSlCxF5lCvG9pp3Tgm/UIaQOsRDNu8Pp38MEFZ+fy0Woikr3Meu\n",
       "Nv5kJFRoHTsF/ovnu4TbJ1QT2LfXTh34G4EIcHDwLvwdKNG2mClrBm8xf7GuznQMSaaKTl6uIGKv\n",
       "B292p5SQz59x1Sxi9bslnquqomkB9YH1Dygh33yWNozmmhJxFdD2ANJ5MzwkNkb6QO2Ml/ssP4mU\n",
       "Smu3Alt/Vef+il1LfyHCLEI2mqqUzziBU8Xjs/I3Pv5AHhPF0Hr/sRghHnwotE4VxBYp9pASEmOR\n",
       "0lM2Jy8yxgH8nUBITy3ILgnbtBiVDYM3lHwMj3VdJ4/hKqLyM14CmGvOhf2MEvb5d6TYCS/5/iWe\n",
       "q6qiaQH1gfUPKGHRJyhRIC4pkQ7zwIDQdHIdLJUPncl7cLh+vQ9d3howODjwM4wTgZcLisu9RG1x\n",
       "VTYM3nRkY22vOTAw/YC1DUMv+yBcUP6LxaOOV66DGAZwwL3Cc1zNyZpWUJ9Yf9/rvRdI1oRryArx\n",
       "4XevyT/1GO72ScJLlEAJ5pOvJd8IhHeUKC1eVPYtv7w8pMQ/9XVkH019kBJlHZPvCjTyjhKlBZBf\n",
       "N/o/pMSvKvT63y4N/5RvC7yS91PKvuU3F2tMeJGQ62/5lm956xxgkfqOwrd8S2EEuF4ZfMu3/B+X\n",
       "d/+TtW/5ln9ZCXdf32H4lm/JhSiEvofyb/n3lv8B6OFe39CxxU4AAAAASUVORK5CYII=\n",
       "\" style=\"display:inline;vertical-align:middle;\" /></a></dd>"
      ],
      "text/plain": [
       "<IPython.core.display.HTML object>"
      ]
     },
     "metadata": {},
     "output_type": "display_data"
    },
    {
     "data": {
      "text/html": [
       "<dt><a class=\"ProveItLink\" href=\"../physics/quantum/algebra/_theory_nbs_/axioms.ipynb#qmult_complex_complex\">proveit.physics.quantum.algebra.qmult_complex_complex</a></dt><dd><a class=\"ProveItLink\" href=\"../physics/quantum/algebra/__pv_it/axioms/68434144f27cba0cf40f0c5972dab7a400165d810/expr.ipynb\"><img src=\"data:image/png;base64,iVBORw0KGgoAAAANSUhEUgAAAMYAAAAWBAMAAABpi/5BAAAAMFBMVEX///8AAAAAAAAAAAAAAAAA\n",
       "AAAAAAAAAAAAAAAAAAAAAAAAAAAAAAAAAAAAAAAAAAAv3aB7AAAAD3RSTlMAq1RmmUTNIjK7EInv\n",
       "3XZ/CtNrAAAACXBIWXMAAA7EAAAOxAGVKw4bAAADFUlEQVRIx7VVXUgUURT+nJ11d8b9o6AXYVkI\n",
       "8qGsfRBBA1uwIghT8KUHyY2C0KfxMajYHqKgQgPBtqJGgkA2WiuhXhIhoj+MLYwkEUZ7MAhChDQM\n",
       "pHPmb2d2x7GXDnx355777T3nnnPuucDWEuJBcWqUzVjVqhD+SRYJsZRTc2ITVoUENQMJnuz0MyGM\n",
       "07Dbmsl3SmQx7c1yyNg0Dd8MHGLFGT8bD3jnrD2tzdDQ78lyyWnmqjoucsyG/Gy0E8Sy43GOWpMn\n",
       "yyUrhEBGB5uqS/nZmCJEytNeleeqF8uVi3Ue3+kIkIe1vungMO0qz1/oAUt7sZxSV+LxlIHp+fn3\n",
       "fjZETuZRjmj9EtUITv7cRjskvFgDkxfKaUsuUHQeQ8cR4JafDd1l9qdHkej88qpaVBDQ3e6YZ/lo\n",
       "sYKvcc+OYbFfXgOaoWMAIdupcJ/1FRtOmj5FOVmfaPOXEOn8wjoiGoTK8DPrYRodtmKfig/AHuiQ\n",
       "1Loue6WeDS3ku+QbinDbUEV49RVFYxlRCoiYRXwc4eUKG8zqBOa4zldZcRj4AwxCh6A5Uv6GcDBH\n",
       "8X4E7HfbiAyhSJ9kpzeF4JSHjbeQf/H3DA9zCFL19sBAto2GQtszPsLGgqrf4fuX7E5jxaqo4YBx\n",
       "PTpVCKWKfBBL3kBg2XE9RMpeIww8oUsrfwmvcRa+xjJjzGhosMkSF9NdspHCDkFBPEeJQaDy1hJL\n",
       "XkFN1v7fb04PWmDgHKVczIT59FI6kO1mRmtrudATRv1JmjAjAjVpKWOWqus6JNiRxkzGUmzHsFnz\n",
       "jJochzPGW0VyYqI5n8+nrhy3/x3msFynoyafD3ynn3ruGtGuChvMGv1xOZmzFKMTHPPPJvRqVqRW\n",
       "Ku04IqmruluUc9lcm+U9c+4tz1ddo1nPl6dkwCgLZbBbLSCqtlAt8+KEgklzrclsbr4d0KNLmq3U\n",
       "bqfB9r1PcS0VPqYhdJMVhb5hy3WJX70Rt3/VjVryehvPmnCI0X4L+bwr2jJvOLbVhrLX+zBS5V1Q\n",
       "9e5Y3FRCmlOztAmrQmKKAYcE8H/kLyTSwcA+DvrsAAAAAElFTkSuQmCC\n",
       "\" style=\"display:inline;vertical-align:middle;\" /></a></dd>"
      ],
      "text/plain": [
       "<IPython.core.display.HTML object>"
      ]
     },
     "metadata": {},
     "output_type": "display_data"
    },
    {
     "data": {
      "text/html": [
       "<dt><a class=\"ProveItLink\" href=\"../physics/quantum/algebra/_theory_nbs_/axioms.ipynb#qmult_complex_left\">proveit.physics.quantum.algebra.qmult_complex_left</a></dt><dd><a class=\"ProveItLink\" href=\"../physics/quantum/algebra/__pv_it/axioms/620214921fa356f153bc411210027ca4fca80c140/expr.ipynb\"><img src=\"data:image/png;base64,iVBORw0KGgoAAAANSUhEUgAAASEAAAAlBAMAAAD/1UKKAAAAMFBMVEX///8AAAAAAAAAAAAAAAAA\n",
       "AAAAAAAAAAAAAAAAAAAAAAAAAAAAAAAAAAAAAAAAAAAv3aB7AAAAD3RSTlMAq1RmmUTNIjK7EInv\n",
       "3XZ/CtNrAAAACXBIWXMAAA7EAAAOxAGVKw4bAAAD10lEQVRYw+1YXUhUQRQ+7q7ueu/681gRuVHk\n",
       "Qw8JSpSBCRYZQS30Ehgi9RD60gq+BCrrQ6FEtZWi18C2HwKRbLOgsjAfDIpIRQr6YWlrKamHjH6M\n",
       "7MfmzMy9zp179wZRZuSBb2dnzjd3vjtz5szsAjjYqun3MKvmmZ6OOhKWwqybf17RvKJ5Rf+UIi+H\n",
       "2UI2zJD9A0K663cpes5htkorMTtg/4BKnU4U5WK5LKUiJ7dhrhgDt7XTw3D+6y7ILrAwV0p1kUrp\n",
       "RNFGdOxJqcjJbdg5Dt3yAuBqJ2WNTFSq5BaRWsMUNWEIRFIqcnIbVsah25EI1GFZZDm3LLMmUouY\n",
       "ogwSSmogpSInt2GDHLplfFJybcPUb+kqUjncRHZG6sh2chthVMVgmPvDKTacPCUrLH1FKgJV3YvH\n",
       "7zrsNQe3sRYxBlDfrGEtI4tooeZKzC34MZAMC00CFYGKygE6HRQ5uI2Z5+/nHYPNrOVmgk0ATpwn\n",
       "To2K203QEPCIcSlQEaioFrziq2S3LmkUFTG362Q7LF5gkF5+KxW6ZAU4YjDMd9AoW85BSfsYwRPw\n",
       "J8TNNkNFoKLMqBpkTt8zLagcDblOiIq4218Km0hxeGEb+awIuyeJdj1u/UGGbXqDp/Yje+BbSdEt\n",
       "4ptieWDSSkWgIldCj9wNZH3VXoB1oiLuzp5SCddTrifE9WHXQIuk6I7er9z3mZbpg1ZFfr5k963U\n",
       "dD5HUFWCkZVM0Jx5Zr9wQtFThLoBhvrJR5J+PUCQUwA7O82rpnzndTUMT+kh5RqV4ois2gVxycxU\n",
       "BFXUh7nygW+wGz35+fK51scy7wSZQIW9XxfOS8C1VZ+jzAQD+ZmQjvUXZArpmeKWU2sXfRUIGg0m\n",
       "KoIqqifyPRElvB09xcWyonoW9zdILKez/PIO5yg6E0f6ziUb7SqpdpMhcqb0tGCyizgSTgw3MxVB\n",
       "FaWFWRis1jQt0LxDVpRG+6u9pKO7WtOOAXyRrgW+UQb1Ugl5XsvIbfDtpZsxKygpOkRwvfC1XpWo\n",
       "CCPN55DFPMhGJotjcxvphyEyLHvnvOLT5kP0IYdsDXJDVjhVTmvgMBRlBCGWiRXv5RAMWBV5ojAR\n",
       "1XOl59GVOtPNq8juVJVOX5YHS392WBuKvGUlUW8Hfuupbg1bFJ2NR5U8knD3UZfSvDwB4iGaGWKQ\n",
       "b5bWO0N7qktohNPNh3OPpgWd75DKNa0Nl3845BaDFvegYh3eRmR3CkXGO/3irdb7auS4qaGRw2zj\n",
       "Nj0T9k8c1+nzv47+C0W+ZGyOKWqCyBxT1DHnVu0xRP+qIuv/kBWFBX/6f8gf1HwniHEnBwwAAAAA\n",
       "SUVORK5CYII=\n",
       "\" style=\"display:inline;vertical-align:middle;\" /></a></dd>"
      ],
      "text/plain": [
       "<IPython.core.display.HTML object>"
      ]
     },
     "metadata": {},
     "output_type": "display_data"
    },
    {
     "data": {
      "text/html": [
       "<dt><a class=\"ProveItLink\" href=\"../physics/quantum/algebra/_theory_nbs_/axioms.ipynb#qmult_complex_right\">proveit.physics.quantum.algebra.qmult_complex_right</a></dt><dd><a class=\"ProveItLink\" href=\"../physics/quantum/algebra/__pv_it/axioms/22cc4db7a129c945e7f45a784a332a0f098e38e10/expr.ipynb\"><img src=\"data:image/png;base64,iVBORw0KGgoAAAANSUhEUgAAASEAAAAlBAMAAAD/1UKKAAAAMFBMVEX///8AAAAAAAAAAAAAAAAA\n",
       "AAAAAAAAAAAAAAAAAAAAAAAAAAAAAAAAAAAAAAAAAAAv3aB7AAAAD3RSTlMAq1RmmUTNIjK7EInv\n",
       "3XZ/CtNrAAAACXBIWXMAAA7EAAAOxAGVKw4bAAAD+0lEQVRYw+1YW2gTQRS93d3msUnTfKqIiSiK\n",
       "+GHBIlhBC1UsChLwR6iUoB+iP67gj2Bl/VAqosYX7aro+kAoxRqLoFap+VARRFuKgg+C0aCiP2p9\n",
       "Ya3GeW52Z5MVxEfFXDiZ7Jy7u2fm3rkzCYCHzSq8gz9qSqFgejpMhj9u4YqiiqKKon9KkZ/BaVoJ\n",
       "T630AzRO/SpFTxmc1up2jMRLP6CVuyNFUdxOKavIi7ZMSlPIx0Zz6uMb/K2ROpfnTOF6buEOnBld\n",
       "RVyJO1K0CBNryiryoi07zQBVwwAzioFZJzqqSbEnFgepg7muo4q24hRIlVXkRVvWxACBz+BvLPbX\n",
       "u/Yt16ztScFG7lpPFflQKoXiZRV50ZZlGADWa8e9Fk7Ydavvkxrlrgwyku0rn9letJVGSQpkC5ZE\n",
       "7a8Tp2Sa6175/XHLFQOrup3N3vJYax60FYs0BR7qWz4t/XkdQlHBcylnijYwgTTYFQMragY45KHI\n",
       "g7ZPBZuO0DfW1xZXUiDjiVOyxIi41Zwp2tUcnaskBVa0Afz2oUQOTNpiV0Rp6VgHTBxnOT3/astf\n",
       "qIlT4MX2lfU9gnAOpIygfYgztsU2SCOfocCKgmYoQcnAEyOh7tWkw3ZFjA43wmLU7B5/EH226PJH\n",
       "pJ0HKJygQLY4RltlhDzwjaDoOmdA/cgivuEDcFcMrEjK8cxdiOIb6gGYZ1fE6MhICPkqzbwgLtCl\n",
       "/h0uRYq+h0YkTJrqjFtRmIXsLm2aUcHgrtVsjiA5HydAPkdq5sltth2K7CKEBrjWhz7y5Ot2hNo6\n",
       "WHnIFbWLUPOJdJ0lgZEGhTwa4gy3kA6PNe6KQRT14lp5L5Dpwsz06eK+1ksr72s0gSod31E8CXFp\n",
       "GZ+jYI4CIgmQv5AuJBjQhVhaj3KG2zM022SVYlcMomgzkq+kVH05ZhoaREWbad5fQblcTRfUMH6l\n",
       "WcwjvnJVnID0xwRaTmj4rCQU7RxnmHUhh9oRewUhiqp0mgZzDMOIt68QFVWR+0M96EZ5rWHsA/gi\n",
       "HAsCgwSBI6M6bC/QBLk8+xUKZUJQtIsz1HYM3ITAerJusSuGVeZrUTB30jejsZY4jfTBNfRaOuZY\n",
       "wwnnJnqfQbQ2saNGL1fT2hgsRb4EpIP4wn9eg363IsWE1yavlcqDCxsdJ6/6Ursq330de0bjjzZr\n",
       "S5G/ab7p78Tfutce0F2KTmVNNYYK7iZCqe1Tc2DfRIMahXiydJ8ZOsodQlPM3bk5dxtGwvsMqV4y\n",
       "DuLw39Fke9LiNai6X19CZFcZRdaYfvJU6385sN/RsYXBaS9K3Jkr/cQX3L3y6+i/UBTIp8eYoq2Q\n",
       "GmOKOsdc1B6C+VcVuf+HbJld97v/h/wOTeko8MJmc5wAAAAASUVORK5CYII=\n",
       "\" style=\"display:inline;vertical-align:middle;\" /></a></dd>"
      ],
      "text/plain": [
       "<IPython.core.display.HTML object>"
      ]
     },
     "metadata": {},
     "output_type": "display_data"
    },
    {
     "data": {
      "text/html": [
       "<dt><a class=\"ProveItLink\" href=\"../physics/quantum/algebra/_theory_nbs_/axioms.ipynb#qmult_in_codomain_only_if_valid\">proveit.physics.quantum.algebra.qmult_in_codomain_only_if_valid</a></dt><dd><a class=\"ProveItLink\" href=\"../physics/quantum/algebra/__pv_it/axioms/cf8c083dbae760cf10a382ea8a25c8dff49c6f670/expr.ipynb\"><img src=\"data:image/png;base64,iVBORw0KGgoAAAANSUhEUgAABFQAAAAmBAMAAAAYdtK6AAAAMFBMVEX///8AAAAAAAAAAAAAAAAA\n",
       "AAAAAAAAAAAAAAAAAAAAAAAAAAAAAAAAAAAAAAAAAAAv3aB7AAAAD3RSTlMAq1RmmUTNIjK7EInv\n",
       "3XZ/CtNrAAAACXBIWXMAAA7EAAAOxAGVKw4bAAAOiElEQVR42u1cC3BU1Rn+2Ufu3bvJEqlVsTgJ\n",
       "SGlVKDsl2jI+WOUNKumgHUHaRKl2fJHFYbAMAmsfViWS+CpGkVws05EiEKooECsRwSJSQyu1thpZ\n",
       "RFTEQsI7L7bnP497zrn3Lk0ZnArdM5Pdu+ee/zvfOee7//nPvzsBOGklkMnEIVdOzzIu03YS0QKF\n",
       "uRk9jcvmnFRyJSeVXMlJJVdyUsmVnFRyJSeVnFRyUvlKSsXAlyT86z3+OdaU8lzhXcNral3PbF1g\n",
       "fiWZpePj3D8+ZNJtlOwCnNFVbk5rA7oyui4Pht66W3I/taTyEYqiGFaxEZcDREv5HeeClFUQTntM\n",
       "P5nIbHUw3/Jjb5UKqIF4+Wll6TO3fjqXAqqgGkI2OJ8xHKdvbK1ZECrWmnen/KzOJZNE9sFM86Ft\n",
       "9rQF981A1/f8kyWVa5qamjZ+WUoJ4LgvAi6VvGaXVIK1LWec9SS9vdNjSnONF9HrCVtKOdi0CkLZ\n",
       "uJ23GZx5G5Z13AwxmXM2RrSQ1+m2CoggwdqOtLX9DTHP4QUbwQ8y1itujXucAiqgGg36QfSM3u+8\n",
       "jrMB+nek9THIxg4lWhwi2HqnPlU7XofFrQmnptfhOgg8lEiDezAAvRvvAPj24hh4aEOkUHDfDMPx\n",
       "7acn06t89GVJ5Xc4leVCKgPdUoH8aoCiFN7Os12m0a3cFiB0VUU1AwuNmkQwupWLRkXFEJhP3m93\n",
       "zIb9qpG8nqUCMpBu+wEucJz3sH6t4Ad57Y1kMR9ngBJUo8E+iJ5RdodxgeL6GJTGDiVWBBFsrVgg\n",
       "lV1ELoOFVMILH7jsMBhjHyn2DmbCZ79oLIdpa3qAlzaduNuZVO7Dh6f6lJDKUJy0uJDKlUfcUplD\n",
       "npiyBN4OJvykEqJPxyNQVs3AHoc8Ut3ded6rqpkTLhEVkQTcRd4OqIAMxGylvpw3Kwy3gg+kmXiK\n",
       "vJ7JAEtAR+A02AfRM5btZOF3gT4G2VhSYkUQwdaKBaHyywhRRDdRtZvoYnsarptiewYTI9DLjkF4\n",
       "xOfgpU0nroRJBSUWLT4lpNKAngO4VKIzj7qlMoSEtkPS9DaPwWLPNL0rpZJPq9pgpk3BCF/0QwOd\n",
       "ZyzviEWHkC9qegO8yTcvJ6jLZ28VyUUOr322sRZ8ILvZuL6/ZYAOqE4jX+uZopF9oliPI5XGCiWd\n",
       "yGbNgkzVuRF0G/w5iCKTsq2xtavLPYNZg06nE/YsvR+8tNnE2dQoiL4OTgWpBHCU/YRUZsf2u6VS\n",
       "RP7uTNLbk5nXnWKrXqUfnZ2EBIMVdYovh+BBNut5Mq6w2vl2MlnU9GNvQ8bIIH4D+ENGhONBQAmq\n",
       "0uBwomcK0MDjSKdLvbFDSScyWbVAKtXTlLkro0prBqMQ3IMJU9mRXW0q+NCmE0e5E339uanprVNC\n",
       "KiGMascKqSQCB9xSIY/bovfY7ZW0drqtbUBj6UNbKsGgjHw4JntoPJc1lioIHyLbSdoBFCBk2lsc\n",
       "7Ngh8IecavLzBwJKUJWGgOM905U6ZDCzldJtqY0dSjqRlaoFoWIUzlXm7i1xEEiCezD5tLcKeYjW\n",
       "aW8VE0KkMgrgqVNCKlTbk7lUwsVmu0sqZuveHeL2JaBH6yHHM3yggME+wvqI7GEdW4GgfGZjZHYH\n",
       "Jh1A+URGpcIKGrJAzg1zT4KAElSlIeDWybUPtCxmF06XemOHkk7kEtWCUDHrxitLQ9WMYZSOjIAD\n",
       "6RzeJRtrtGMNYkI2o99hXglcp4YQ7wVZWcpJ/LhSGUAOy+u/JKkU4A7+V66FEBgtLqnEyAr151Fv\n",
       "f1orl/zeOLc1Dipg9zXW1CxokD0UsbkMOFVmr9aami3gAHIQ3NA7Has5iSyQ00QGAwElqEpDwBVt\n",
       "VXwbf+ScLrXGkpJOpL9qQagYCSWVEz2i7mP6YNYllU3UQ9vYLyaESCViswm3NtH7Dx6sH00znxHW\n",
       "/mJ8eR5rzNqxLz5JPL9UTcU2f69ijNjEj+yB2vnQ6xzCdUsaYhvYs2C98r79UnvqcljSbDyjSTO2\n",
       "d3VddqnkI82NXCq7h13Z6pJKhAwoepTdrqILTfbWpn9Qn3oLcFuxW1Cw81v69BkoxxOaym6azc6Q\n",
       "hvTo04cuVJWo4lmjkUWl7u3BAxnhOwkFlKAqDQ4neqallj+zVe4djjaWlHQiVaoFUqmeqeiJIlSJ\n",
       "jLY2GGpvHpWNNdqw6GZ+QaQSSLOoNrqfeZ2tzOlwqbDIfB0NyS8H+AKAHLphXs8nyB6wGoaQ5/Zz\n",
       "r1QutQjW30RENpIi2BAjTM0dNaWY1iFdzAOjGR5WnAbuhaHCrknFIsLvdEmlO7ENHmNSmUS5OzkA\n",
       "c7TNbfMaFDDcKapkDDvKbGUBinQ0xNOb9GA6SZdKKFXlgN8JWSAjNm+DgBJUpcHhRM+0vMHfnS71\n",
       "xg4lncgk1QKpPBVRtgJM25GTvBsZAfcVsrSAlIpKG14q5Rd4bCq/gt644W0mwAQEm6VUQjj+cCV1\n",
       "SeSoPYQmcEKjeKYveBQu+qzaLRUzbR0Bs4Gf86I2Pxh8D5NVKZYBpGq0NKl8QY94hV3bgEJsB9ek\n",
       "giuEjw9KZQCtlV4dk47Udk6c7acUDA8SQ5xtP5qiOQ0yEGlHzjJB6rwH6BvQaigQMY5xgO/eHsgw\n",
       "TVCEGaAEVWkwOKdnitfOL5wu9cYOJZ3IANUCqVyHeRVgE2RlRpovBx0G2mBWHEzOTV6ufkmg0W4T\n",
       "E4JS+QNLJKZvYoIshmVxKZUCut55dAXXg/UOTcLQzLBZTlNB4Tdtb1hLPFaI63TDWia55mBKpIip\n",
       "VKxalErlFR/b8MJe49a+w4vq7ZtsSM54Z88YmFlChrhnRzJ6RTp2/gtiuVGvC5lUxrOgnUrF5lLZ\n",
       "R2a7iidzB1OLvXoKDm2v/qYN5kYOhgeJcU4otossMnW9wWqn7hgyBw5IqxbSCSmFYDvvOrR+IkBl\n",
       "qR/ktT8gLyMYoARVaTA40TOdyaDYbpwu9caCkq0SYa0Hi5ATqYR2FdJwnrZ7OLPB/qETjGqDMbd3\n",
       "jAmLXLKHdrRBTAhK5d5CFq6OYBLeWXIOSKlMpyqiBwjj2KAryXIHEsyx05lZD329XoViF/AHfh/b\n",
       "II1jGPQsYcjv169pgDkolapkoDyvOBSf9K26SoBZncPBPAKfwDfgTxBNhOpuhqE3wmyQZzd6zlsF\n",
       "Bg6gNkkVYh3mUiEbQfgNm0mFnUHzijWpENtwR6ZzaL84B8NU2Z3wHKzA4S0hi9W9zTn10jp8pvIa\n",
       "rBQDpFVIwHqavGRs1nVZY2bbdyeDH2TsNyOtAQkGKEFVGhRO9EzhINKsnGTRQG8sKNHGgghvjX9s\n",
       "OpDK7p8kn93GQYkGYnKP0QaD4vrYSeq4abM0dx2XSje6mDfgDkADEutMRSoT0Bel2JFpKyzCLyar\n",
       "2WGqO65DmytWYV8XWhUdWxp57Suc4QKUznhwvAqsoF4F4FAVgayy8RLmFaXJxtW99B54DFYkjeea\n",
       "YULVVeJhMJE17lirrNrDNlyQuYN5lSabSqVn5owzbivmUS8LlKyeE1WpENsZyWev6ThHgNXgeeOB\n",
       "v0PBP0k437gJzIpOZEtVjnUQIY9B/tGHkwyQVhEQc0FHCu7PbKNdG/OtvttfS/lBAixd0DmSA0pQ\n",
       "lQZ+kD3jSEK1LfwAIrrUGktKpLEkwlrTUSMIpWKtadyWZJ/BvL7k63KLUQcD8KvxVzohuoc2nTjK\n",
       "XaaCx9YX2TwgmVMqpdIbRVW/so1FMQZxjmZ18Laamkehe53rdwfKh+5JcXaPLuc56NH0QF9TU1Ps\n",
       "ksrrlw0aVEreK1HeZjORSn489uqHUEbE+fqgi8O1zuEAf6ZSkBLfATmZt4Dt/hECGHxbDq9RE/sF\n",
       "KYUtguE3dOO2EfMLtaBoFn3FugiZ6lDnGAF4oRskoCUYskLO0kA1hOxwskutsUNJ7xtbMwta/54L\n",
       "dHuGbFPmZjcyAhZkMmQlKzmamzaduFna9wwxopAUC0igTDksP4j7DxhHWRQTPoobEMvmdTvw+2Lt\n",
       "G1xFKj+iksOyVpzYP6TZHX+vQuVdacUJwFbqVd6BhfYcmx7SHpIJoxL+tZhLKlHwSCUU9/u6UPsS\n",
       "sUS9Xef5WtJVxwDr3CBRzS4r5FANVEPIDie77EJj2ppZRF1U6Gejd6bl+9NLfQdzd1Hma7++JQtt\n",
       "OnFDNamMxx3FqgOjDaxtoIW1uN/gQZqs3TICHUvz7O41T98zEvylMgxgCvFjhJUN+2y8sI6yc5hL\n",
       "KlXJYHUkbqWJZFaYqUNgFJptsNtqgw/TkTor/Rgs7wvOoQ8fKHxsXVJZ7pXKDPfpiZ3/5ys1EeX3\n",
       "X1Zae0CrvXUzZJUKslzrJBskAqqgKkJ2uBleFsfpe4awYPUKFd4ucF7n2dkG03v7X5L+tGmam3EX\n",
       "Ugm9Bta4W8z1cEl7/ehiRSqkz6sLYfFhEmlX1L/4KKuZQd3Ocz+/Vk3jqlLZBPB2N7uyeHGTbRVN\n",
       "hspiGNyOZIwnaQruLfuT9oeKEosPwuxBewDq9xpFL0N0LAyvrwfzwHcS8PGg+9OkGqKvpvvufNmZ\n",
       "/moWGbukkvZKZb5bKjTpyKNqBcw3A82mOeZdI1algugLmQ0SAVVQFSE73Hyf3Hj2vuc76552UUl7\n",
       "sg5ZBuNHG56PC+6uH0wG1JZst/ekT5dgwFTzBMZUn8KlvlIxCL3ziIadA4hzsbSmpvT46XuzIfu9\n",
       "2Qz7j85vaz9w8irKb2s3Qsz7i9FpPTgvDcy3fOqtUgGN9HH5ZQFUQTWEbHAxv1+9Zu0bW2sWs7PP\n",
       "YhcHQynP7OFwd0llokcqMNKNICtmL2iN+3sVHlTa7osuFJkAz5WvVHFJJe6VStS1zMHS//TNsmzq\n",
       "uehCmdqeW5VTQSqas+PvLqlY0GWp5Mr/iVT+65KTSk4q3jLv0hOViq9lrpy2UjELIycoFX/LXDlt\n",
       "pRJJnegG5G+ZK6etVApsv+C2K/8Lzt8yV77y5UT/F1z4hUEn2OOJW+bK/7r8G7eX/mxSQXl6AAAA\n",
       "AElFTkSuQmCC\n",
       "\" style=\"display:inline;vertical-align:middle;\" /></a></dd>"
      ],
      "text/plain": [
       "<IPython.core.display.HTML object>"
      ]
     },
     "metadata": {},
     "output_type": "display_data"
    },
    {
     "data": {
      "text/html": [
       "<dt><a class=\"ProveItLink\" href=\"../physics/quantum/algebra/_theory_nbs_/axioms.ipynb#multi_qmult_def\">proveit.physics.quantum.algebra.multi_qmult_def</a></dt><dd><a class=\"ProveItLink\" href=\"../physics/quantum/algebra/__pv_it/axioms/4a0b7fff5eca7af9b84edc9ad19d4f4a1cdfe02b0/expr.ipynb\"><img src=\"data:image/png;base64,iVBORw0KGgoAAAANSUhEUgAAAd8AAAAzBAMAAAAk3x8mAAAAMFBMVEX///8AAAAAAAAAAAAAAAAA\n",
       "AAAAAAAAAAAAAAAAAAAAAAAAAAAAAAAAAAAAAAAAAAAv3aB7AAAAD3RSTlMAq1RmmUTNIjK7EInv\n",
       "3XZ/CtNrAAAACXBIWXMAAA7EAAAOxAGVKw4bAAAHJUlEQVRo3tVaX4wTRRj/urvt9rbtXi8a4oNw\n",
       "TYwkBsldIl68RLkihxEOQoUHiSFSRUPEB0piMCh41Qej8fCqMYEjyl2iLxwKPR4w4R4oEAQhmqr4\n",
       "5sUSjARDoMB5HHeROrO7s92Z/dM12zAySbf9pt9O5zfzzffn1wXw1UZHR+Heb8ro6IhP1d9rk038\n",
       "4Zb8XQa61/jdWq3g85ZfmzqB+2gx16xxXQfaRTZW5AI4VKRENaW9baM6t3kPIWedel90UxfKXAF3\n",
       "0eIC/W0L1bnFe4hIlRK7a21tr+VB7XTTH+MJWD5NHzB9s4QatSU17zE6aMDwPbKbaYDNbvqJTo6A\n",
       "ExVKlPS5SO3WE0hL9rbkFr2GdwDCyK0ucrXpsxwBP0mLcf3t22NW101LthZ7e5qSRSSKCHTcNeq8\n",
       "whHwOVqcr+9R5VrKsmOUZG/vqDdoN4gsPIJOSsT1EG/IcQOsztByn27D0GGZLC3ZW1q4SVtJAZS5\n",
       "yCZiSVcvl+QGOMFMaqN2XQODlmBFS7YWTkVnqY7BfVfn4BUSNQe4agK3n+hDPMMN8CBzOn/W9wz6\n",
       "0UJ8aYRXTVLG21yOpATydarjWg6EkxhWyTXZusMN8IOMfEqz88962wsQvaonCLokgVR2HuJy75Lb\n",
       "VMfn6IXdXLTq+rNfcAN83AnwQYDWspkR6VJrRp523i0U1/6hevB+96DesOsOQ0+OE+DoTXAw6TQ6\n",
       "2yUTsC6JIy6AJfT6DQXdJ64mL+4xx2zPkPudzjAc6uQEWL3FdOzDXqhTzxb1CRMJYs4mvVZLPZXH\n",
       "TyJruUDGjE5544knOQFuKTmkuTvwF7cIYCIZRY6CoRzKkgvIeIThnHwwC9N6UIugnvU4rZTcfXtL\n",
       "2QCsAX/IB2B/ig1bnF3jXQD7a5tBGJ4q6oBNSTbK2PM4mKXJRRmeGoFHaq9DqBItaQciNHy9bc6n\n",
       "WsjLuCdnVQPwMvy+yQdgf4oN26E0G5fzDmWc1t6ANz2XLq8W5CoV5Ha6a4t/G4DfxUZS8AHYn2Lj\n",
       "MFxhZ5J2ASzv+WCF10j9aI/FArV+Sz2c5R0DcASdk1jKB2B/ig1bh22I3XWIR2YtyxGv1apeIz0H\n",
       "kZw8z5qbeO2HMmkAFrFL9OO0/Ck2bD22Mmh/8xyiV015nXjpHyYmzvny0r4UG7ZrtknJlWYBvuT1\n",
       "5W0C+FmAvb4Am4pWK1Kc9V3rUjg2AnzadwTwVpCdi6oYA5goKmcsX3ztWKhTKvDh5PhyU201L8AT\n",
       "BHDLSIyJXjv7MuJxPYOzAiaKMWvxfczRjVEqIJZBNdONdk54cTKqAxYqVlcUvTCUEZJHYYUdMFFc\n",
       "96OlMh1wPIBWFZQYpEGs/n8AQ3axpbsX2Z6wWIKiHTBRrLxkyYwjjsfBqoLiSwq+6fQw6RwEJuOZ\n",
       "22Uvk4bDKAsVl358Qe02mF3hvecrxVjvqt5lNODDGguqwjMWZFLWqUCwqqAM4eKiB+pnwAYNE/FB\n",
       "yXiGgg9XPJwW7MBUw/rOeFJN6jFRyB992GmHd2i7uQ6uAGzX9ymcR4dzzR9sBqup1NtToNxfD0s2\n",
       "L7cAgpPxJgVvUPIXXepwDXAITeGtP6E1j2qNtTpgSS04AA5pc+0bbx+JLtQBS+NjM1BS2IQIq1hE\n",
       "hLY/45p4YCI+OBlvUvA6JR+xH5xJujycBwOQSEHX0NBQSsgrxawDYMNcoT8PCX3ACqAaPRctsRaN\n",
       "VMSnH1u2QAd3AmCDCbODNQdMxAcn4wkFb1DyYtoWKWdpwGfgMvRH4SN9h2FNxR6Hzeq7NYUBK0Wt\n",
       "UkcBqCUDB7BoXHQV4TKcEoq4R54B5Xy9eGD51zg0g4wnFDyh5M+6Fg/GwlTRHndLKNbi3gyoSRcC\n",
       "QDoOyupXMeDoCViZhK+mMjgFG0hFT8NADl9ShsoeJSulsFbX7PjyerRuZdd+PjSDjCcUPKHkN7Lq\n",
       "wg0KcDiJSt2tf6GSDJfkm4xy353xwCYtkKUeQeZQnxv5VBaKCbGuZd7JuvU+aAYZTyh4QsmPOVNL\n",
       "dornwNBQpjHFE71yGOAF4kxrZQibToJ8UpJqJnSprmVmISzFsxGaQcaLxjoSSr6L1Q9VA3Na1vUX\n",
       "HT7ZtbTvZxxYy+BkPKHgCSX/qDO1xIOmveHASwcn4wkFTyj5QRs/UuEE2JGID07GEwqeUPLrbcQD\n",
       "LyIeVrqZdDoIGW/cZVLyC9kb5gIvwBsYp7gPmkHGG0hMSr6bvYHfn2kJJhCPQTPIeIOCj5QMSr7P\n",
       "2VfyAMy66V3QDDJep+DrlLwtceD3hzj7yAMm4oOT8QwFL7MHgeMjD9BDR1ac5wcn45faKxKqfQL8\n",
       "AEeYBGo3BCfjWQp+O5uXzXAEHKUfTNNIh6BkPEvB72aPcIojYFSI0uetEpyMZyh4la2kuT56yD5c\n",
       "ehdaOPtfAf/S1AfEX77bgN/X/aQyetAv4Hv8AXGD8cIPiP8LG66NWS72K/sAAAAASUVORK5CYII=\n",
       "\" style=\"display:inline;vertical-align:middle;\" /></a></dd>"
      ],
      "text/plain": [
       "<IPython.core.display.HTML object>"
      ]
     },
     "metadata": {},
     "output_type": "display_data"
    },
    {
     "data": {
      "text/html": [
       "<dt><a class=\"ProveItLink\" href=\"../physics/quantum/circuits/_theory_nbs_/axioms.ipynb#qcircuit_eq_def\">proveit.physics.quantum.circuits.qcircuit_eq_def</a></dt><dd><a class=\"ProveItLink\" href=\"../physics/quantum/circuits/__pv_it/axioms/276b536fec3f74a48c6cda9ff45d7b5f18ea4c880/expr.ipynb\"><img src=\"data:image/png;base64,iVBORw0KGgoAAAANSUhEUgAAA9cAAAFFCAMAAADRmO56AAAATlBMVEX///8AAAAAAAAAAAAAAAAA\n",
       "AAAAAAAAAAAAAAAAAAAAAAAAAAAAAAAAAAAAAAAAAAAAAAAAAAAAAAAAAAAAAAAAAAAAAAAAAAAA\n",
       "AAAAAADECekxAAAAGXRSTlMAq1RmmUTNIjK7EInv3XYgpUAwucNsr2B8AJ0hKwAAAAlwSFlzAAAO\n",
       "xAAADsQBlSsOGwAAIABJREFUeNrtfYm27CqupOfZrndfV1cX//+jnZNz28kkAcZTsFadyu2LhAgU\n",
       "TMYoScKmRrxSmiAhIUVP45t/wfU2os8fqQTCSEjx05N8eboFr2uAi4S0K7lj8PpvSp7lgBwJ6Rq8\n",
       "Lr5z8gpDORLSRXjdzAN23QJxJKSL8Dqpuvf/9xkQR0K6Cq/zz7K6AuBISJfhdTKMzzT0ABwJ6Tq8\n",
       "Lprnv23396SjqOpcbehCKd/UglBaumRfK5Huyus6nf+ZHWpoCF5HyeQquL8FobS4l2WTbFpR9H3R\n",
       "hsjlJkjS7WyAhyRfSVQrI/H6NVT3iyNovSBsoZEyuQrub0EoLe5lWSXz8fnvNITI5SZI0u1sgIck\n",
       "X0lMK2PxOptWu2ZlM0xWRaRMroL7WxBKi3tZdsm0oDgJLZebIEm3swEeknwlMa2MxesHqfOFD01J\n",
       "Zf8uhJTJVXB/C0JpcS/LLjk8x/NuzEPkchMk6XY2wEOSrySmldF43WdVt3CopKjsXkfIRBWsq4yv\n",
       "fFMLGFqK1jsXWXJlZi2mPC9Sy7qOlosuuDSBpNvZAIoFPCWGRiBmo0uarIzG63pIF/O/ebFQL7bI\n",
       "l791mcpsKmwfiqm1t7Uyz0qhzoJlJpYFq8wt8wztXz2yYgmkDqZlLh5OK/1LM1/ruu49C9Q3lSaX\n",
       "3Qad+oUJiyz6ptJkIoCgU89qq2U1DE2lycazclWAwcpovE4WnWLR930qHnVusvFb8+VvbaaHG3Y2\n",
       "i5WCyaDOs1SotWCZiWXBKjN3v+SrJSkWEzCtkatcLCtXkiszP5QTpbGpNLnsNmgElyYssuibSpOJ\n",
       "AIJGktdWCyWmptJk41n528r783o1/3ta+eL5suYrFNSZHpqbwUX7+mT6X561Qo0Fy0wsC1aCzGny\n",
       "oh5VXU+TFaZlLh5OK8n2d12XlJam0uSy26ATbJVZ9E2lyUQAQSfJaqtlNQxNpcnGs3Il2R6K1+W7\n",
       "x3m/YpGdpeuNmZK2/OZa/2MUzN9H3RR5PgrNFiwzvX8rDDALvi3Qipm0iDrrWquR61wcK5eSCzMf\n",
       "rO9e+zVFYmoqfa6XDXoTdIK5LovUVLZMNhB0kjmtlRRK9E1lyMaxciGZ90fidfFaaHeFqEqlszTP\n",
       "3kmf6X1y7Z2rGerFP0bBzxJGkadoCBYsM71/KwwwC74tUIuZtTQiXZJFY+RPLoaVK8mFmXkl+udx\n",
       "iCzR8NqW62WD1gSt4MsEVRapqWyZLCBoJf8sMDaVrETfVIZsHCuXkqZleb7zfSmfHm3VspkhU98l\n",
       "kyaXUXDsMnWej0KzBctMXwtUm5EGwdkCwk7rT5apr8euthm5zsWxciWpN5PUVKq2ogClaCspi6qp\n",
       "jJlYTaVoq4zbUsSm+mbjW7mU/Pr04XjdTMPz0816+Pv9mCF2+kyVEGJMVLksgv1UK/N8FJotWGb6\n",
       "WqAwwCj4saC0H8n+zVLUSZ9bYVrlYlm5ktSZSWoqZVtRTFC0lZRF1VTGTCwQFG1lbyopB62p5mwO\n",
       "Vi4lZ58+4nit6JVyUt+oyEURzINZoMpEECScLci9YHK3kmQm3wZHE5x1BwMhd2+pmE11YF7nwTK5\n",
       "Cu5vQTA1ebI7UJsile8PwvGbKj/wfaRVaX+CRE312AVtCyQP6P0ag8L7PXhNc5IitT/5TcIhBdIT\n",
       "FEMhwlvQe5xYj4a8uCLyCug9GoPUJ+zB64JUp2zorE/kVnFoyDB6AnvXFjKD87QvHvIiuSLyCujd\n",
       "G4PUJ+zAa4KTJM9P/nPrE/CaJVO6LpAiIn9RXsvQlx6rVUJzxOd1R+up0sr+BLzmyaSO1zxHRP6i\n",
       "vFZAn7rfuU3oE+LzOq1oSkrrE/CaKVO7XawSE/mr8lqGvva4UcfeJ0TnNclJkqSq7E+Oz2v3fbtt\n",
       "vKsdXRo0JvLBGvBgyCugd2sMYp8QndckJ0kyif0ZqT+QalNXQXgdSI27e9sNoBTWCIcbkxyR35nX\n",
       "EQ0gycjQOzUGtU+IzeuMOFyP9ickhCsRxC0CqXH3LrsBtFHD4dI8NvJ5K0T6SJXlAk2xnZogyFMN\n",
       "oBUmQ98OHhybjsVrmpM4d25C6kaCEDKQGndeEwwgFZbxF3UuyA/v9V8qGq+Ku6sJhDzNAFphMvSZ\n",
       "xwrb1idE5jXRSd7XeJifkBAuUuvWIcUtAqlx5zXBAGJh7PvaHJCvP61cisKn4h5qwiBPNIA4d5eh\n",
       "F+5xrWx9QmRe05ykE631CQnhvu5F40/IQGrceU0xgFZYKpi3+7kgn38Kyc29uNhOTRjkiQYQeS1D\n",
       "z24Mep8Ql9dEJ8mlzignTlnWtamnZLIK2t0ikBp3XpMMoBVWCmaMNBfk088f1VD7VNxDTRjkiQYQ\n",
       "eS1Dz24Mep+wAa//9T//8nSSVhrVW9pk8Afh4jlfyb0JGUiNO69JBlBng8zNGhfk38vSLh299s18\n",
       "1IRBnmgAdQ9dhl6475xZ+oR//ifmeN0Sp+Gj9QkF4fJ5sYy1S7S6RSA17rymGUD0rpY393NBvhHt\n",
       "NE1plftV3EdNEOSpBlB5LUPf+kzEh8PMw4lOkks+nFMnLL/jbFKL9yH5Ll+sR1Z/WN1ioabr+/Tv\n",
       "fimeGndeL+uRj8ulnt0CKU28uZ8L8tPbAbL3gWEe8jo1eyC/roc38groJ4+JuLlPiMpropOk0jvu\n",
       "VJR8Xk9tURTpe0XfTNNfl7L6w+oWSzVPhhUjX00373LIP+y8XhrwmBsukCBYoGgd1iasC/LzO5jX\n",
       "Xh8TeZ2aPZBfGeCPvAL6xmNH3NwnROU10UkGYX+SaI4KLnrUd/c6TxGy5VRh+YfliOFKzdP++q+f\n",
       "pKuZb7JV/ODVo14jYbVABRvnk34X5D9Ti3kbmYe8Rs0eyK/r4Y+8AnpeYzD6hKi8HkiFeSyvlz3n\n",
       "p/XGwcZrs56VmrzTe9dWs8F1PfI2qaeeXhE5VYJx9YkL8s28xffpxlnI69TsgPxPPfyRV0DPagxO\n",
       "nxCT10QnyaSXYZlo2d71uff+ewDTkde/ah6zsjGJ6V0/BqRTnXV/r10cvKvgHEt2Qf6zLP0OKI68\n",
       "/lUTHfkfA/yRV0BfeJwRN/YJMXlNdJJCWjgU5O2Fb23q4bu9UHvwWlKTNItbaCJ4168Bw/TcHPcZ\n",
       "NXLB+PDXAfmkeptcDp8Aqo68/lUTG/lfA/yRV0DPagxOnxCT10QnqaSX3BX5IO2nNl0rxKs1sueP\n",
       "3pXXCjWrEImbe5dkQC2KZTwLF+9qOC9N2cgn6fdjiSxJ3Hktq4mLvGRAAOQV0Dceb7CNfUJMXhOd\n",
       "ZJA28Afyaz59bVzX1+tUP1a7dR3Pu6TmapNyTGof7+o4F/1FR16r5gLIK6DvPG5dNPYJMXlNdBKf\n",
       "XUObd70DmTm7Rd02TVN0vmrcvSudHtPRpKdXRIkv/TBEdOS1HeoVkFdAL9xPphj7hJi8pjlJLZlb\n",
       "0zs1rVv0leinTyCz+Q++WwyfNxieaty96xnJPM0bugWKNNI/D4yPvEgujLwC+tHjW01Tn7ABr/8R\n",
       "/+vjJJm0a56RX7YQEM5IIiKSGvZ0lGuBcjlE3oONj3y0BtwDeQX0lceGuKlP+G+88ZroJJP0vn2i\n",
       "n8qx37XbBXGLQGo8vItogWpGST+8GB/5WA24C/IK6FOPk6SmPiHiPJzoJL20zdfTXwZYa5MnQdwi\n",
       "kBoP78oTV+8qBDnWRHzkYzXgLsgroGc0BquDjshropOkUk1Tet3PeB9pzNvz3u1Q0T0nNvJR7yON\n",
       "jbwC+t7jhLipT4jIa6KTtNKlM63lGprj8nrrbI68Ji+a4yO/3f3hB0BeAT2jMVgddEReE52kkrJV\n",
       "4HVImYl+FqICr4PKyNBPHgdTTH1CRF4TnWSUVg0jfW8BvLanXDDey/TgdUAZGfrc42CKqU+IyGui\n",
       "kwxStgG83onXA3h9YF6bZCPyeqDyerI+0SN89PjXYrt6UFsy4/A6NvLiysgroM+uwOuJ5ku59cmW\n",
       "feq2asT+9WDxOj8K8FdAPjCvs6PwmuQkQsomwOuQ9SgZh0PB66AVkaEvz89rQeV1Zn0CXnu1D/1j\n",
       "jgDIg9cm6BuPm5DKo/Ca5CT/59//a30CXnukf/3739SsIZAHr03QMxqD1UFvwOsu73ycBOM1xmuM\n",
       "174ddJ0H57XneA1eg9fg9QHHa/AavAavwWvwGrwGr8Fr8Bq8Bq/Ba/AavAavwWvwGrwGr8Fr8Bq8\n",
       "Bq/Ba/AavAavwWvwGry+O6/xneZevMZ3muC1Bdj/a30Ssk+93b0K/3B4HRv5a9+rIEP/z3l4rYsL\n",
       "QHQSv/EavN5rvAavY4/Xpj7hvxebh4PX4PVdeH2n9TV4DV6D1+D1AeICgNdbNOARkQevg3lXXQXh\n",
       "dSA17u5tNwC83gZ58PqIvK5EELcIpMbdu+wGHIfXeStE+khV2/hU3EdNEOSpBoDX0XlNuO6R4haB\n",
       "1LjzmnJt5YHG6+EdiS01B20X26kJhDzNAPA6Oq+LVGMMzy0CqXHnNcGAA/G6/twoXZojvIjt1IRB\n",
       "nmgAeB2b133dW7paklsEUuPOa4oBB+J1/jE2N98YL7ZTEwZ5ogHgdWRe11MyWWXtbhFIjTuvSQYc\n",
       "iNfp549qqH0q7qEmDPJEA8DryLwungvT3JuQgdS485pkwIF4/V6WdunotW/moyYM8kQDwOu4vC6z\n",
       "pzG9LyEDqXHnNc2A4/C6Ee00TWmV+1XcR00Q5KkG3ITXnufDi//U1ic0hIvX1kf6+t3lfy+Au75P\n",
       "047sFgs1K0mmGndeL+uRj4ulHsECRer+8x8qnG7IT++OPRtyPvI6NXsgv65HAOQV0DMaQ0G0W54P\n",
       "n9qiKFLxmks10zSueFKMVLdYqllJMtR0otL9sPN6acBjblgmnIrsMV63n7DMr70+JvI6NXsgvzIg\n",
       "BPKYh1MELUcDu3f3Kj7oZ3/eJcrn+NeY1Ai1mpUkR81YaH/w6lEv24tgwSa8tpT0mVrM28g85DVq\n",
       "9kB+XY8AyIPXAUaNT+uNg8TrZ5yhRaOY9azUrCRZatxng+t65G1STz29IjuM1828xZeKko28Ts0O\n",
       "yP/UIwDy4LW/d5WfRpkPYC686zW3Is7Df9UsJRlq3L3rx4B0qrNu+dqlP9w8/LMsfZRT8ZHXq4mO\n",
       "/I8BAZAHr729qx7mRdLHmrV3NSNt20VSs5Skq3H3rl8Dhum5OU63YAdeV2+Ty6Hq+Mjr1cRG/teA\n",
       "AMiD157e1bVCvFoje/7oJe+q2y4huIVCzVKSqsbduyQDalEUDaci0Xmdfj+WmEVZyOvVxEVeMiAE\n",
       "8uB1gPX1T1p6V/1Ys9a1i1usJN3VcNbX6+Zqk3JManpFdhivvZDXqrkC8uD1Vt7V9a+utmmaonNw\n",
       "i1nSU427d6XTY/6X9PSKHIbXRIO1HeoVkAevQ3tX3Veinx62DQ9Vw+o9BMctZklPNe7e1T6gTfOG\n",
       "bsHuvGYir1NzCeTB6/Cjxnf0IImISGrY01GuBQcYr1kGR2vAPZAHrzfzrrIL4haB1Hh4F9GC4/Ca\n",
       "ZnCsBtwFecQFsDxx9648CeIWgdR4eFeeuHrXTnEB8jAVPzPy544L0OXq0ogfEdzuPtLYt+fhPtK9\n",
       "kA88Xpu+Ganz4LzGPcPRsoHXCe4Px/oavAavwWvwGrwGr8Fr8Bq8Bq/B6014jfjXe/Ea8a/B6814\n",
       "HbYf3kCN2L8e2/B6a+CvgDx4DV6D1+A1eA1eg9fgNXgNXoPX4DV4DV6D1+A1eA1eg9dX4/WecQHA\n",
       "a3vaJi4AeO0EPeICgNcYrzFeYx4OXoPX4DV4DV6D1+A1eH0ZXhfjIqXg9a68NjQGeA1eY7zGeA1e\n",
       "g9fgNXgNXoPX4DV4vSevfT6qs+hxLT6YpmOvr4E81tcb8jpQtyvc1GyZSYRzri3G61AGXwl5jNfg\n",
       "NXgNXoPX4DV4DV4fnNcecQHAa3vaJi4AeO0EPeICgNcYrzFer4h2n7gA4DV4jXk41tfgNXgNXoPX\n",
       "4DV4DV6D1+A1eA1eg9fgNXgNXoPX4DV4DV6D1+A1eA1eg9fgNXgNXoPX4DV4DV6D1+A1eA1eg9fg\n",
       "9X68PlJcAPBaTnHiAoDXJOgRFwC8xniN8Rrz8FUTdKIKwWuumvCZ/iw4Ca99Db4S8uB18FFjLIKM\n",
       "10w1G2T6WnCW8drT4CshD15jHo55OObh9+S1442Twik5qknkdYCnJm49tuC1W8ni9siD15cbr/+m\n",
       "kRivb4s8eI15OHiNeTh4DV6D1+A1eA1eg9fgNXgNXoPX4DXOpegyqXZncS7lLsgjLoDlCb+3P8q5\n",
       "FMXubOzTEZHjAhzlXMoBkEdcAMzDMQ/HPNxGNMQFAK/Ba6yvwWvwGrwGr8Fr8Bq8Phyv0+9fWQ5e\n",
       "R/Gu5e4seH0X5CPzuijnv6oavI4zaix2Z8HruyAfmdfNPGDX7VXn4bhXYS9e416F/dbX1ec/99lV\n",
       "eY17FXYbr3Gvwm68zj/L6iq5LK+PNg/fcfcG+2Y3mYcnyTA+09CD1+A1eH0dXhfN89+2A6/Ba/D6\n",
       "Oryu0/kfVuq34fUW58PB62+KfD4cvDZBv/H58OdQ3b9fd+Xj9P2vXbquQz0Wz1z58O4CCo3xXnEB\n",
       "MF5jvMZ47dtBf+ICZNPfrtlQ/v3n7POwmdK2fTzP0qR/6Co6A68xDwevwetDzMOfpM4/w3S9NLt4\n",
       "T7WL9wL8eSBterL5MwE/Pq8T2j2RW6lxvbdys3rE4zWQPwSv+2x+iZ23ST3NK+fxNXZP3+OlWZOV\n",
       "9fTkdV8Uxfj4X3lsXgfoZIOqEfvXIxKvAwN/BeR34HU9zLtm6VRn3fCmZvf6r93fMbSseczDs/I8\n",
       "4zV4DV7fmddJ2szL6+nRls1yeV3mS14/2Dy14DV4DV6fgddzqsV3MT0vr/OqfaXszeuun7fYwGvw\n",
       "Grw+B68fy+tyTOp5ef0UbPrVeJ2U2WeLrQevwWvw+hS8TqekGR+M7fpXVV4M/juIlr/30VJzceA1\n",
       "eA1eH4vX7YOUad4kzfBo0mJ68bhuPzPzZnx/oQ1eg9fg9al4/ZcWTdr1z/V1SS0OvAavweuD8rrs\n",
       "nIsDr8Fr8PqgvM6TfXhdN/Yn4LWXd5HxDIE8eG2EvmmSuLx2Tt5xAUrrE/A61nhdgteHHa9vHBcA\n",
       "vMY8HPNw8PomvE7A67147d4YJ+f1IHLrE6Mr8lIgNSK0c2xlQJKU9Lwc5AWQd4C+BK836VVFoM45\n",
       "vHdtNppsxesEyIPX+jRKvjSC1zvxegSvwetAvK7EZH0CXnvkz8RAzcpBHrx2gZ7RGCfndSt66xPw\n",
       "2iN/LkZqVg7y4LUL9IzGODmvU1FYn4DXHvknQY7/wEEevHaBntEYJ+d1IVLrEwbKdRXGu5z0eOyn\n",
       "MuvB8K5ekMOwcZA/Fq8DIh+w4jL0jMY4Oa896y6kJWIY73LS43ErJrMeDO8q6IMwB/mFAXkrRPpI\n",
       "Vdt4Ie+hJwjypPI5vJahLzhz0VPzOpdmJjlnriJ+9yXC8NpNTzhe28pneFdL3wzjIL8yYGg/8/jG\n",
       "D3lnPYGQJ5TP4bUMfcvZE96X155xAUpph7Dk7Bn+1KdIRR2C1256wvHaVj7Duyr6ITIO8ksD6o+3\n",
       "lobRSGyqJwzylPI5vJahrzxO9BHiAhxovK6FsD4ht1Vf96IJwGtHPcF4bS2f4V2DoH/PxUBerEaL\n",
       "5vP/kxfy7nrCIE8pn8NrGXpGY5x8Hv7IV1ufEFGup2Qyl0rjtaueULy2l8/wLs6XBgzklwbM4Z+q\n",
       "ofZC3l1PGOQp5XN4LUPv8dnH2Xg9Sh8HjozPBVf1KZ4L09yf1656QvHaXj7du2rOqoaBvLws7dLR\n",
       "b9/MQ08Y5CnlM3gtQ197HEs5G69TyYNTx+OM5fMmdPPRChKvnfUE4jWhfLp3lZxdSAbyYukB7TRN\n",
       "aeXbo3roCYI8qXzWCd7KpzFOzutJ2qSYHI9HFK8e8f0Ktsv/EFyECSXxeqGn6/s07ah6AvF6WY9l\n",
       "uFNKRRTwMk7vMZAXS6mXB2RD7of8Ss8OyK/r4Y28AnpWY5yc13692tIt2qIo0vcr2GaaFgf2sorD\n",
       "66Wep5sXI1VPGF4vy1+HOyVURDEEM3ZgGcgvDGg/k8vXXp8H8is9OyC/Kt8feQX0qc8H7ifjdSdt\n",
       "wnZO27Ldu3udD+BmC+8qeoZ3rfQ815v1dw/Tpkd8K1Dpfti9a12Pej2T6NneNXJ2ahjILzLOp9Q+\n",
       "28jOyK/07ID8uh7eyCugHz22zc7G60dla+uTRHtUcDV7fcoOMq/H0qJk6c4rPc+72/68y6rnW2Ch\n",
       "/cGsxyrcKaEiMlNZOzUuyDfzojx977q5Ir/WEx/5n3r4Iq+AvvPZNjsdr3tps6Z32L6ZowXOBzAX\n",
       "3tUJxu7Nr56HNSNVT4jZ4E/5y3CnlIr8poxz2J6DvLQsfThC5YX8r57YyP+U74u8AnpmY5yc16VU\n",
       "25Je/7k+9dwTth9zFt71tzaye5ekJ2nGjqongHf9lr8Md0qpiNfymoP8nwHV2+Ry+IRUd0Re0hMZ\n",
       "+d/yfZEPvbw+Ha+TQdifmNuqa4V4tUb2/NH/eNff2sjmXQo99V+0Mqseb++Syl+FO6VUxB1JZv5v\n",
       "wOXvxxJzczshr9ATFXmpfG/kvdz6ErwupMN1Bfm4nbY+C+8a/2KZsL8WrB+rs7om6gn4PdfcXstw\n",
       "p5SKSI3DnPmRkTcEhALyaugbr2n4yeICvCZ/vfWJI6+XYUJdvKtum6YpOqKe8N41hzslV+QnTdyZ\n",
       "Hxl5G6/vjrwC+snvGudzxQV4zU8G+xOeW9R9JfpHUyzDhLp41/DZ6qTpCe9dc7hTckV+UsXegKUi\n",
       "r+UjkNdBXw2eRDvZPPzRkZXWJ+xhYx49SNntsGTuLpIEEc34RVlPo5LaItnU4Isir4C+8Tlsdkpe\n",
       "J/LCg7oUsdXnJ0yos3eR9GzpXcSK/EwmHc5BEJEPZfBFkVdAn/ocSjknr3vJ4p4Igq0+eRLGu/Jk\n",
       "Z+/KHYrqXDZqiMiHMviayCug7/x2zU7J606aonTEScuh7iM92u15E+NDdi7yuLeQCb1TY5yc149K\n",
       "d9Ynx+e1R9rEgMHpkjwa8ke/Z3hf5BXQD0VyP14nY29/Al7z8k+OCzoS8uD1JuPU1XidSVoy0rwF\n",
       "vDZMqB1fapKQB69Z0Ds3xsl5nRSt/Ql4zcmfOl9BT0EevGZB794YJ+d1Mub2J+A1PX85uE/8CMiD\n",
       "1xzofRrj5LxupKo3BDB2iq4eHMXw0dXH0qNNgbyPBTL0Po2xE6894wIs+rTa/gSJmjovTwLyQaHv\n",
       "yiBEO1NcgL9UlfYn10v16DNDuwNCCoj8QDtpOuk8vEjtT66Yeo9a3gMhBUR9Cl6fg9eZtKTLdIu8\n",
       "2v0SZg/RzYoanN+AZMNNhi0ZoiEHr8/A605qqE7bdJV7JSoRrRnIRZWuBwxVCNFivap9w11066Jk\n",
       "iEpRg9cn4HVa2Z/Mo5T7pmgmovGaUZTru001QpRYr7ph0V1046I2eSEMXm/O60b66rfRfgdsjSFr\n",
       "Wo9G6+YZRdVu92ioESLFetXZ4Sy6dVEyRLXf5SPgdRReV5X9ybxlYo0hq99/cRfdtKh2dJroV+oW\n",
       "JsR61TmHs+jmRckQuYEGXsfkdSYNPZluuCbEkNV2+pPvFVMbFdW4EEmDECnWq2ay6y66eVEyRM32\n",
       "vQ947cnrarQ/mee39hiySXjRjYtqHW6+0iBEivWahBbdvigZonYAr4/Na0ZnTIkhmwQX3bqojD+N\n",
       "0CBEi/WaBBaNUJQMUXazFfb5eM24C0oXC3f9h010FYSVIOowXKsj3erK4sdF1iCkj1lrraY+TG1w\n",
       "hAwRabVlyRCJCrzejtf+58M70VqfzA6hi4W7Ds9qE10FYTWLGiM0Eopax1vVlcV+taRDSB+z1oqQ\n",
       "PkxtcIQMEWm1ZckQpbE2QY+RTnc+PJdy5hpZQyzc9R8W0XUQVrOoKUIjoaifeKuaskru+kCHkCFm\n",
       "rQ0hQ5ja0AiZItLqyvKJHoHxeg9et5K9raYGhli4Nq81hL+1ibrMwhNNpFtdWdwIqhqETDFrLdU0\n",
       "hakNjJAxIq22LBkiMYDXx+V1J0brk08HrY+Fa3M9Q/jb0F5rinSrLavlzSl1CBli1tqqaQhTGxoh\n",
       "U0RafVkyRO2tJuJn43UuTady9QTLFAvX4nqm8LeBvdYY6VZb1sSbU2oQMsWstVXTEKY2NK9NEWn1\n",
       "ZckQTbeaiJ+N16l0wCJVHbkwx8I1up45/G1Qr7VEutWW1fA2d5UImWPWmqtpDFMbltfmiLT6smSI\n",
       "mlvtiJ+N1+5xgjnr659BdRGENfj6eo34Kt6qYfXIuof2jggpIBKiA68Pymv68lrjtV3Pdr1VENZt\n",
       "vXYdb1VfViUYV5/cEiEFRCzQwOuovM6kN7GZIH2Dt4rIOv9BHe4WQVh5oty0jreqL6vgHHe+JUIK\n",
       "iIo7nRE/Ga8LafOj4G6HeJwnjHkU0VhWLhgfFN8SIQVELNDA66i8rqR8FfPgb+m+yCojrs/MZTWc\n",
       "l7G3REgBUXOnN9gn4/UgvYQcmK8lPT5UiHlLVm5ZMjOa5pYIKSDq4t1/A14zeX3zXc5FrRtG3jsi\n",
       "pIBI3OhkSmRed7nmzOd/SJ/M11KXW9+pE/5LI31ufVOEFBCNN/pWs/vPf/QeEX5a5TleZ9Irm0yM\n",
       "d3Tair63e1OEFBBVN9oQP9c8fJLODE03+672k1L6HvdNEVJAlN7oJOm5eN1Lryp628uLi8UFmNct\n",
       "ghzDohftLXktQ8QADbyOyutUapnU1lYXiwvwJSu5IzAgdM24AFqI+hvNXM7F61a6Qbq13Cl9ubgA\n",
       "s4uSF81GhC4ZF0AHUX+jnYZz8bqSfLSy8PpycQHmRTP5jIUJoWvGBdBBNN3oYMq5eD1KOx+jeS/k\n",
       "gnEBPk1DbhsTQheNC6CBKL/RG79z8XqQfHQw8vqKcQG4LmpC6KJxAcDr0/F6sj5ZzW+vGBeAuSA3\n",
       "IXTVuABqiDLw+rC8zq1PFumacQHYvM71rXHRuADg9bl4LSQfFSZe6+ICrO+xt4muchNEHYZrdVwA\n",
       "Q1kxAuc0AAAI80lEQVQl3UUNCOnjAlirqY8LEBwhQ1wAU1kyRCV4vRWvPeMCyNlMgtq4AKt77K2i\n",
       "q9xm0bBxAQxl/UP/mMOAkD4ugBUhfVyA4AgZ4gKYypIh+udGX8CcKy6AEP/P+uTPhbRxAX7usbeI\n",
       "rnJbRIPGBTCUxeK1FiF9XAArQvq4AMERMsQFMJV1b16fbR6e0QX1cQF+7rG3iK5yW0VdZuGJOi6A\n",
       "oayGw+tM2xjauAC2ahriAoRGyBQXwFSWDFEDXl+A18a4AKt77K2iP7n7gMeWzHEBtGUF4bUxLoC5\n",
       "msa4AGERMscF0JcFXl+S1+a4AKt77K2i69wmUW6yxAXQlhWE18a4AOZqGuMCBEXIEhdAXxZ4fUFe\n",
       "2+ICrO6xt4quchtEuckaF0BbVgBeW+ICmKppiQsQECFrXAB9WeD1RdfXP2nptet77K2D6jI3T5SZ\n",
       "fm6915cVZLy+NELg9a14/bpOfr7Hnui0y1vveaLs0Wl1672hrA15fRGEwOtb8Hp16/18jz0trW69\n",
       "54ly0/rWe0NZG/D6YgiB1zcZr7+jkrv1x7n1fpPx+lIIgdf34vVVbr3fjtfXQAi8vhevr3Hr/Za8\n",
       "vgZC4PXN5uGXbzYgBF6fLC6AnI0oeLVkuvYdCGkgYoB2aQc5XlwAjNcYrzFeYx4OXoPX4DV4DV6D\n",
       "1+A1eH2YZivGRUqBEHgNXmO8Bq/Ba/AavAavwWvwGrwGr8Fr8Brra/AavAavMV6D1+A1eA1eg9fg\n",
       "NXgNXoPXthQ1LsCFU5i4ADeDCHEB3um/Fxqv7XE3thDdrKwNxuuLIYTx+h7z8NE9/PpYxGsPYllb\n",
       "zMOvhRB4jfX1LuPJbdfXkUZ38Bq83mM8uS2vI43u4DV4falmA0LgNXgNXoPX4DV4DV6D1+A1eA1e\n",
       "g9fg9Wa8jv52dlupK7y/3lgKvL7FeB397eymUpd4f72tFHiNeTjm4ZiHg9fgNXgNXoPXhFQ3jtmI\n",
       "gtdrtyYwtHeAqGngIFt1I7rxuqSNPaWb4K3H6zIBRBivMQ8PmrY5DX2lefhG58XBa/B6y7TJaeiG\n",
       "Hjn+pggpIGKAdgVeJwfg9SBIscDkbETBq31dXNJd9KYIKSAqb8Tr8ia8vtjXxRvw+mrfX4PXB+D1\n",
       "SHM+Odso8uSGieGiN0UIvD4CrysxUcTlbETBq6VMDNSsN0VIAREDtEs7SERet6KniMvZiIJXS7kY\n",
       "qVlvipACIgZol3aQiLxOBWnVJGcjCl4tTfSdqpsipIBoiri9d2QHicjrQqQUcTkbUfBqqRctNetN\n",
       "EVJAxADt0g4SkddEyO/dViuyFht0AReHqLjRzMVU14i8zmlTJDlbfqO51WrRTN4MuylCCojaG+0g\n",
       "muoakdclbatSzlbeaI9zkSr6IbKbIqSAqLrRl22mukbkdU17tShnq2/0TnKRBkH/nuueCCkgYoB2\n",
       "aQeJyOtE6P6DLRtR8GKJ8wXDPRFSQHSjzz6MdY3J65H2NaGczSpYuy8v64grU1ZZNWduPd7yQ00Z\n",
       "ovpGCxJjXWPyOqWddpSzWQUr91pUEWewrLJKzl6YAaG8FSJ9pKplz1A9RJMYZckQlTfaQDTWNSav\n",
       "J9o7CDmbTTBzX15mEVemvLImzhkyI0JD++E+n50eohHKkiGabnTwzljXmLwmdqb8XrhInZeXHqIb\n",
       "l5VydnZNCNWf1yEl/9Wuh2gSoSwZovRG2+HGusbkdUcbr+RsFsG+7l3HEw/RrcsaOTtAnfHTnubz\n",
       "/+xXux6iSYSyZIjGG22bGesak9cPS2qawTVHsJ4eUxK3btpDdOuyOt4OkAGh9NPE1cCemXiIJtuX\n",
       "JUPU3WjbzFzXqLzuaRtncjajYPFcubp9f+whunVZGe/ItwGh97q1S0fX5bWTaISyZIiyG52TN9c1\n",
       "Kq9LGuxyNpNgmT2LdNou8RDdvCzmSlGPUCPaaZrSKndpSWfRGGVheX0QXicDrTQ5m0GweO25vL26\n",
       "y/+2j7rUWthCtOv7NO3ooi7D9dfMfJysZg5ME7T5p3dzZEPORmglujFCazOXCDEgGm507M5c17i8\n",
       "LmgbR3I2veDUFkWRvr9naqZp8aV5Ztt9X4o+aVeMFNHvpXryD2JZjzYpbWY23BmlFqF2mGfqDReh\n",
       "lejGCK3KWiNEhqi50TTcUte4vC5pE1E5m1awe/fr880R2cJrC0tZK9Hnea36Sw2j6PdSPfkHraxH\n",
       "QYnNTPZ2nhahuf0/+8wchFaiGyO0NnOFEBmi6UbTcEtd4/I6GWj7lXI2neDHX8ZB5vVY2mfGX9G8\n",
       "W3rtGPpU5trMvE3qqTeWVbE3djUINfOGWvo+aspAaC26LUI/Zq4QIkNU3eirNktdI/N6op1jlrNp\n",
       "BMuPN8wnNBde21lq9iv6mAKORFF2+ikrneqs+7zOUZflsJunQeizbn1orLgI/YpuidBPWUuEyBA1\n",
       "NzpsZqtrZF4nxBWQnE0pWM+dVvspc+G1lsWjJJo0Y0ddmTPTb1nD9NwcN5WVOpyvUEP76dfLoeqY\n",
       "CEmiGyL0W9YSITJE6Y0OpdjqGpvXPQ17OZtCsGuFeLlB9vzR/3itcQWoEK3bjrru5CWprFoURWMs\n",
       "q3PZAFJBm36/pphXY1SEFKKbISSVtUKIClF3o10za11j87qjzZXkbDTBhdeOJav3rh9L4Lp2EuWm\n",
       "x+KxHBNTWZPLofWrIkSFaLrRN+jWusbm9cOijmZ45yL49tru6eAi4ZxprtumaYrORZQ/Ok2PGW3S\n",
       "G8oaCrfGvhpCLIiGG921bK1rdF4nI20KJ2ezC9Z9JfqHDzTDYzpXTJwt20E8k5MoO7UPfNK80Zc1\n",
       "OS4UL4cQB6LpRqtre13j8zqjTZfkbBljnuXxHjPmK9BMM6F2PLh5QYTIEHU3ClFGqGt8XicF7a5r\n",
       "OVtBviTbY/VXRuz1NWWlzpeBXw4hOkTpjW5QJ9R1B14nI61nlbON1C7Zo+uO2euryyoHd+JcDSEy\n",
       "RD6gnS1R6roJr19JvxHf0NpAztbcovF8jnLdAyEFROON7m201HUUn52Q0LP//JUMhZe0ZaCcrbzB\n",
       "m4zOy0PvgJACou5GtLbV9U2/PPn/vLngRvS5TOYAAAAASUVORK5CYII=\n",
       "\" style=\"display:inline;vertical-align:middle;\" /></a></dd>"
      ],
      "text/plain": [
       "<IPython.core.display.HTML object>"
      ]
     },
     "metadata": {},
     "output_type": "display_data"
    },
    {
     "data": {
      "text/html": [
       "<dt><a class=\"ProveItLink\" href=\"../physics/quantum/circuits/_theory_nbs_/axioms.ipynb#qcircuit_input_eq_def\">proveit.physics.quantum.circuits.qcircuit_input_eq_def</a></dt><dd><a class=\"ProveItLink\" href=\"../physics/quantum/circuits/__pv_it/axioms/48a9505ab2f3a34939c36fb397f33b5a19f36d3e0/expr.ipynb\"><img src=\"data:image/png;base64,iVBORw0KGgoAAAANSUhEUgAAAZMAAAAZBAMAAAAGbt5YAAAAMFBMVEX///8AAAAAAAAAAAAAAAAA\n",
       "AAAAAAAAAAAAAAAAAAAAAAAAAAAAAAAAAAAAAAAAAAAv3aB7AAAAD3RSTlMAq1RmmUTNIjK7EInv\n",
       "3XZ/CtNrAAAACXBIWXMAAA7EAAAOxAGVKw4bAAADjklEQVRYw81YTUhUURQ+M0/n540zjiGSi5iB\n",
       "ok1GsyhBqJygIpFIaiMhaEREIjhthECYaRkULyqwIvS1CVxUY5sWLjKjf4pJDNoMTLQtHcu0DJzu\n",
       "z3uOzj3XuVk+OvDeZe5533vnfOeec88dgFVFayO3XeCUVKwjcAu53HHHXPFeXjeg3kVud8A52YtN\n",
       "Jsq4IQUuF3+M3K466ErQFOdCUTb0yTCVOQsYpr82S57qp06POehKKCzObeNDr5jIQzM1ddcBPlnA\n",
       "A3TytOTNrTSj0tIP9/1zV/QFfJGTjC2IT1eRDImkwGNy4PnVkuY7uarbpB/uXaPBTYWamjMpVHVS\n",
       "LE4xPkTElEmSpdUZBy3OgdSlQBT/pI9yZJgyizCi1OQlgOsHqmkRqefDw0ei781kqpm484oDNeK0\n",
       "R7ZyM+T2RV7MI4k1ls5FkqyzqOqzMLOVQ3LTIt8RcvUkeCgp8E02+1rySRddpnVSizCilEQjEdEW\n",
       "UVWnieUr3QN3xLDg3v5AxhELeAjgJlOIC8lPc+iGlFuMKC6Hs1TeyZCuPFkJz1GVwdipYPhsuJg9\n",
       "R8FIl77Z93PqI9M2WsCz4GUQ/QXTX5gdbbHJ9lDFCXmzgBClJKTy6JvwiCaFIjPB7nFICnU6NA/Q\n",
       "QE1osIB+M8Dgga88+BkI2TtJkJaGSZlBNlGFJckrumIMTtUxFqqLWEt1X3DlKbP62v6IUGb9xM4A\n",
       "rR6GBXTneNa3v+XBJ8UtrxQVjCg1mU6A+wmuSqZQV+4RtzOlmuqwlXIdNrCL9y85bnNVFO7GVFxB\n",
       "iVLLlVvkkpQMI1GaKxOcNgiOlb7ZIHa66Na33QY+6GaWwUFOy6edG5fSk5paL7EHJUpNZoDvB0oV\n",
       "bJC2WXTHyCPBBYMW2SYb2M+cb7dK+h7Qa5eIH0Mrvb2+LKL+WHzf6J6ANxG7hZkRqxf0z5dqeoiP\n",
       "z0yrXjOgi4W6dTTCCKldVkUqF1CeuA4lSq1nJEb55nDdPmHmEsBwoRvcQ3MlzWA9bX/YdvB+BTBk\n",
       "Z9w4MT61POWq2qRNs0iUknhIMDu6QbEHC5bdh72ZFcBjZOVH9TR4F0CfVOiMcaKUxEV78yvKnbFW\n",
       "9hBLG84isOIx6EdO+cah8ddoS3EPv0hXtpPnFQ0p7wPlQOcwoLuUQOrVBidPkUiDOlwONIABj/+P\n",
       "Z3tvrkwVSWDAGHYYdacd82Qd/3Fx/H8w8y+AvwGdlgcjXZDK1AAAAABJRU5ErkJggg==\n",
       "\" style=\"display:inline;vertical-align:middle;\" /></a></dd>"
      ],
      "text/plain": [
       "<IPython.core.display.HTML object>"
      ]
     },
     "metadata": {},
     "output_type": "display_data"
    },
    {
     "data": {
      "text/html": [
       "<dt><a class=\"ProveItLink\" href=\"../physics/quantum/circuits/_theory_nbs_/axioms.ipynb#qcircuit_output_eq_def\">proveit.physics.quantum.circuits.qcircuit_output_eq_def</a></dt><dd><a class=\"ProveItLink\" href=\"../physics/quantum/circuits/__pv_it/axioms/22b3902d2bc2355cf31395a3f09ec458e601dcb50/expr.ipynb\"><img src=\"data:image/png;base64,iVBORw0KGgoAAAANSUhEUgAAAZMAAAAZBAMAAAAGbt5YAAAAMFBMVEX///8AAAAAAAAAAAAAAAAA\n",
       "AAAAAAAAAAAAAAAAAAAAAAAAAAAAAAAAAAAAAAAAAAAv3aB7AAAAD3RSTlMAq1RmmUTNIjK7EInv\n",
       "3XZ/CtNrAAAACXBIWXMAAA7EAAAOxAGVKw4bAAADhklEQVRYw81YS2gTQRj+m03z2DRpI6XYUwKK\n",
       "IFaagxYEtSlUsRSx6KWI0IqIWAvGiyAWG4+CEkGh6sGsF6EHNfXioQdrQfGBEksFDwYiPQlqWx/V\n",
       "tmicx86k2Zntble7+MPuJjvz7f7fP/9rFmBZUbrQaSu4Jd5VBK5HhyfpGhX/5VUDqr3odBvck52y\n",
       "mykLGqbApRJMoNMVF6mENfFeJE4up80w1UUdWIf/rTOZNYBJj7lIJVIn3ttELyfFQM7ORhuuAUzp\n",
       "wF345jGTJ3fiiMrZ8dXef0NFXZA7OYrYkji7BkVILA0+jQLPLxc039FR22VDBd+MM9WZYbkcEZNT\n",
       "gl5iYsgMItfqSYKSpEBMKRSXvyiAbZTRbKjU7JAKMyyXDnEGvTx4mBaGWtGtVkTnOQUqiLTPzHPz\n",
       "6PTJjkZtPxxS0Q3L5aMwYwP14OK0aO8YOvpTdCkx8GWh8MLkPVXYTRtsKBQ6+9MhFWZYJj2aLF5x\n",
       "DWxOCOBnALfeouuIDtwDcIMMiI4UxDF03YZC5yJfKv7vLWB5bQPJDMskQ9zIS/CFunL07IdMzvjk\n",
       "wPzn92S0RQeeAj+BqE/J+IVvox3MK3144LANhZKerw5XhRmWO5yQZCboG2BQyNMR5NVNeK2adGBQ\n",
       "CxF4iBpWyUOEVZIwduJJ8f0lLjTaq+OBRZuqG6DcsEzuCVQeE62vtseENBtEeoawZ2d0oKdIo777\n",
       "FY0PlNxmVrgqXvDPOiyJzLB8VdJSKndRUcgbR2qRespv9OMQA/bS/qVIda6Jw53ECql8aG+bdxYr\n",
       "3LA8VlLGWJmg/gXhMeOTM0jPKlz6NjPg/T5iH9hNzTK1ZS3PYHhNG61LNMpAv5ytCjeseQa7iT04\n",
       "IavC00j7DE6y2xhwgJDv1lP6DlDr+fKPSTO9bLPwzhkVblgm24UpI3ovGBRKVz/i+ETT8zUBVhH3\n",
       "7ByNEYPUL8ki1QtSOxnlgLTZsyXcsLzWClMuAQyX+sCTnTM0g42laPQ4qZtvKoARFnHjSPn00pCr\n",
       "serBSOucTTmiwg1r3oOF05a9bL4CiCxbG1dz4F8AdXJFnbGandNgY+mEEyZlw5p3xorlJhY3nGWg\n",
       "9xGo+44GxqFlcbSj/OyLOPW7uV9RJPuVISvQGRnQY2zCMKs1bu4iJX46bAUakgEP/o97e3/Rosym\n",
       "ZMCEbDPqybnGZBW/uLj+HUz7C+AfvuMIXpyGyy4AAAAASUVORK5CYII=\n",
       "\" style=\"display:inline;vertical-align:middle;\" /></a></dd>"
      ],
      "text/plain": [
       "<IPython.core.display.HTML object>"
      ]
     },
     "metadata": {},
     "output_type": "display_data"
    },
    {
     "data": {
      "text/html": [
       "<dt><a class=\"ProveItLink\" href=\"../physics/quantum/circuits/_theory_nbs_/axioms.ipynb#qcircuit_input_part_eq_def\">proveit.physics.quantum.circuits.qcircuit_input_part_eq_def</a></dt><dd><a class=\"ProveItLink\" href=\"../physics/quantum/circuits/__pv_it/axioms/b071f55dc5c27621dae8ad34530b8021a6fdb6850/expr.ipynb\"><img src=\"data:image/png;base64,iVBORw0KGgoAAAANSUhEUgAAAuEAAAAmBAMAAACYHFiEAAAAMFBMVEX///8AAAAAAAAAAAAAAAAA\n",
       "AAAAAAAAAAAAAAAAAAAAAAAAAAAAAAAAAAAAAAAAAAAv3aB7AAAAD3RSTlMAq1RmmUTNIjK7EInv\n",
       "3XZ/CtNrAAAACXBIWXMAAA7EAAAOxAGVKw4bAAAHaklEQVRo3t1ba2wUVRQ+u7Pz2JntdguC8EN3\n",
       "xaiQIN0EJJAA3UJJSMCw6k9UmmhiWpuwECWi2C6JQX8Ut+GRWDR0IMTEQGnFAtHGUBAFNZgSCZBI\n",
       "kwVfAU2B0sdCset9zExLZ6az7NzwY26yO9OZ+82557vnnvvdO10Ap+LP5+NQWFlKvgMx8GqRa90h\n",
       "A/m86lzXHyn0qQFasxK8W7apLpEhpozPJ99ctYcZ5yIukUwZl34ih0bVw4zDdpdIpowL7eTwppcJ\n",
       "h4OqOyRTxsvJw/x3Pc14IOIOyZTx38h3SbunGReH3CFZMi7R4M54Oo0DfOoOyZJxXxM5TPc24bDI\n",
       "KnwdMKlRJEvGS+k66bZ9jY1eYLzBYn13lfJuK4tfHUUixgmfT07MuI8cHVaeGdKT0gR5bt2E+C/O\n",
       "2jWgqpNLFiWBW26VTf2Esc2ShLkynbqEm6Y7C/NlZTVpCMcNJGJ8Of7jjYkZD2DjQmpi/yqolzcn\n",
       "2C6wvq5Pta/b4PaA3FJcPIZQooum2doMmCP5c02rWbj+I8q2OYBaA4kY34LHQ9PEjEt4IGxycG8q\n",
       "zeb2K85A1LLPRD1o+mxgCX01++AZIAuwNsHWZtjM6zJ6qDQPb3EEgO8HmGcgEeMCSuVKzCGP4z46\n",
       "7ODeCRpW9ln/2HHLcAtr3vM2Qr40rSfCBy4VCFqRZWvTnzNd6iLfynvmOxy6xI1o8yVBojMO5RjB\n",
       "aeaci45O2yXDtK22clzM3rDs2IzmvdJljVuLGvhRcYxH0acuxdamZBoWfspMfdg8YHworIXT6BPX\n",
       "kZj7sz09PzsxHurpuey0srk9VrFYjVQoJ/f4uq+qJqOu7+1U+bqrRzdEz02iE0/E30Gk0/7e5bD1\n",
       "VP0VLTjbhtPF6gqURfdeYmxTNomxAGUm4b9tNZHIj6FHKREdiRlfAbDbifFAGoIOQlLssxVPtLwI\n",
       "Gdq00PfQmoDZKTSThJY2xPXJvy0+YzMJhYsQzMK5mK56uHz+UbtO7CHFLpFJd3qvvAaMbcII+X6e\n",
       "WD5Huo0GUkwaNrUps6d3Kr7LVetIzPh6ECP2kzllHNVYT3vYfslJGc/YMp6AhogWWOAfQN7zQ1DS\n",
       "LRtyq/zt2NYU3SaQcvDZqLI/1HKvuBAPI/5mx1nbHDbpxRgdwuItU90bKfB/hzns0pGY8aCqIPG3\n",
       "WBtP4vkjsCiC+blvBbQbjtANMDLapJaVHVTnruldoo0/foBmQDvlHN5ZFaWSSEiAjOZvec0QJsLw\n",
       "ftUCMPpsGJr1YMJldVFyHILITyXH2ma/KXWQmteqKu+Y6qI+BKwXpJs6EjPuzwo67OPpu+AJRQ2o\n",
       "JsbnaBPncRrCiwH+JfeykCkwxg+hHN+tew93QK6cMUROde8vVNG+K0/i24b3HB78+KGleaMUyHhp\n",
       "hCoFtjatGZdRxP5nagGOeiyW+K6xjEP1Epx/8cBYgZef2YQCJsYFjowBvpEOhUe0BU8I6Hq0AMax\n",
       "n11j4m12EiVNvKVeQuyB3MfnjCf0j3q/FzdOLSqPZ1BG8Q0wtmnO4ySrBNDn8vg2SThJRVGH+LvH\n",
       "5nE4jNX2QvEf+B1fnvlUvQIdVeerkmMZV54mDQgL1LuTIP+qKRN9F0ekKbDBRqvwcWMZjHNqDjnI\n",
       "D32IvReo99xduS9MejGBM5Th/bPos7K4PI6yKGSqWds0KZIgjsKXrHYx8EQiDWJDTTqSML4Zs/j4\n",
       "hoPvksszlX1rzDEu0vVNlq5xxZG5lWQ4hvM7DNVEG9uWtW7nZtw0qgSQQG1tR96Hc8/g0a1UK3Sx\n",
       "KufIiXQGh2GNEUztVFsVUepQR/+gMrYpmlQ3riri4dsyXvoL6OrLtbqAFHU9Dj5M3i8xiSfhORMS\n",
       "18yMwzQSqOkwSQxcN+ylFfatNlp2CrRosdwyyteCv2WQKCBhcu8UgC1Xr3/7Z/QEGpFl35BIicEf\n",
       "10ndtzqnwJZ702bdI49OvFA5qTjCp+NtJC3JsbMpDZiudIPcMqjCrPy4F44+vJNGXm+WJHWksVsr\n",
       "9q8Arqa5eTti/IBgwTjNm51fkmWxLwEiMawCb2wz1FDXmhyZEBIPf4+VnU2Lt4qXHEHvG0iDca7p\n",
       "FVFqpzHOzzHpca1kQSQzTSgGZMrhY2M2wVbRTunyOONKt+nSPEfQMgNpMO7LblPo0vM5gCs2byRw\n",
       "2umDA2QeRyu4A/hlqc/IXRUqnYwczZdEHj7j7GwGzU8KOuxja2FJkAbjwZRvAWzCWv1CyhB84xlf\n",
       "FYH9g8nGGLeuswOlp8ZY4IOVx4x6RMAiweXUZD56IvWwCWdo02LjSHbKpLRLCPL+t27y1827rPdV\n",
       "7isx0wl9LB24O8HbZa1F19U7YP4eRRbznpNXx59oUwHN4Is8zvhRd8hiGOdMJ9oIobKpLeltxk+6\n",
       "QzL9DyHa+0q1pwkPd7lDMmU8RHeFznia8VDMHZIp4xyN7vmeZvwvl0i2/z9O37cIcQ8TLp52iWTL\n",
       "eCsRTvJFDzPeGnOJLIjxgn8HJNJfyWxUvcv4DnfIwn4H9ADlHUp82rOEy0n3yP8BsgCCSxUAtKgA\n",
       "AAAASUVORK5CYII=\n",
       "\" style=\"display:inline;vertical-align:middle;\" /></a></dd>"
      ],
      "text/plain": [
       "<IPython.core.display.HTML object>"
      ]
     },
     "metadata": {},
     "output_type": "display_data"
    },
    {
     "data": {
      "text/html": [
       "<dt><a class=\"ProveItLink\" href=\"../physics/quantum/circuits/_theory_nbs_/axioms.ipynb#qcircuit_output_part_eq_def\">proveit.physics.quantum.circuits.qcircuit_output_part_eq_def</a></dt><dd><a class=\"ProveItLink\" href=\"../physics/quantum/circuits/__pv_it/axioms/792b438dc35c649fddc7843dce8131e6df3549ee0/expr.ipynb\"><img src=\"data:image/png;base64,iVBORw0KGgoAAAANSUhEUgAAAuEAAAAmBAMAAACYHFiEAAAAMFBMVEX///8AAAAAAAAAAAAAAAAA\n",
       "AAAAAAAAAAAAAAAAAAAAAAAAAAAAAAAAAAAAAAAAAAAv3aB7AAAAD3RSTlMAq1RmmUTNIjK7EInv\n",
       "3XZ/CtNrAAAACXBIWXMAAA7EAAAOxAGVKw4bAAAHFUlEQVRo3t1bfWzUZBh/rte79nq320bIlBih\n",
       "BBUMCSzhI5LAdpOpxCEWTfgHdSOSED4SijEG/IBK/HO4C0giSFglaGJguYMAfmDCATNTUTLioiYw\n",
       "cyjREAyMjS/52Pl+tN3d2lu7tpHYN7nre7v++uvze5/3eZ737Q3ArjGFQi04a0+Sd1aEoDZhlTck\n",
       "Wyio9ucyVU6vytIzGyC4bYvqEZnwVfHZ5D3cEmDFw1Uekb4qzn9PDq1qgBWHrR6RvioezZLD6iAL\n",
       "DvtVb0hfFZ9OLsbcDrTibJU3pK+KnyXvFdlAK87d9Ib0U3GeOndboMM4wEfekH4qHkqTw7hgCw5z\n",
       "rdzXBiMPIf1UvJKukwYczbD/bwW5yWJ997uNUa8MIZHiRM9JIyseIkeblWcbGUneUZyL9o24PtvV\n",
       "XeabR5qys1zpNKdQXb1S8YOzImVWKFvOKI02WWsgkeJP4Q8rRlaclfAF5ZGNqqeFfp+jssb6rLg+\n",
       "IClrWCwPn/W5c83vUNi75Qcna/bkT8sbpdGuMpBI8XfxfEiPrDiPJ8IGG5tqaDR3FC8arGfC63qA\n",
       "KrMz0+h6RcsNAkSu+cGZNOs6v6xROu1MA4kUj6JQHhdt4jgeo4M2Rh2nayonUT/+lqW7wQXt2Fwm\n",
       "vSBUJO9ujY2g4UE/OBnzrefKGqXTknxJkKgXRjEmapc5Z6CjnXPdoa7ipBzfmOy3rC91J/zaGhZB\n",
       "WZlXXCkeQv4V7fKDkzfdOtNS1iidNlqrI7H2P/b2nrJTPNHbe85OyoHiimXklmLoyUtOzWxA59dd\n",
       "+gqWnJ66YuK9ajrZlsHUZ0k6W3RB4tc8c3m8lt0KX7itMBJpEB5W/OAUTMUYmy0xyoo2XqUjseIL\n",
       "AHbaKc4qELMpJLn+ssWTyW9Enk4I+EESeoDpgqcBOicPQI9uFDP5JO5skWE3VIzRyiCUnAtXS9I3\n",
       "20uag0DWtvtyTa0vnEBj03OE+QzJubXFRpXck05LM8Ggpvg64CxuOVuiODpjHb2x8ktOqnibA8VZ\n",
       "4K6C5lgwXULWN8vQC6puPXPzBX6Ftm/QpsRyxsQRLhZy7nz8igzMSX847wy/doVYapQFLZPTkVjx\n",
       "mBpHxd88LTtwPYdhLtI4VboC2gmH6QYYmZl8e9OhD8nnpZfrtCAXuU4TkGRv/sXGhn9obzlABjF9\n",
       "ckzGQujWsycVYxArs7E0VBqpi73uTvFd6HVM8YXTVPEkpFKjLGj5Ph2JFWfyUR32/rjtMDGusqpJ\n",
       "8Wla4jxGXXgewN/kuzy02ft4wWiEWEC23DMUr0zD3jHTZdzVra9YvoAyX8dfD1mPvE7od7gAHuIk\n",
       "n7H71ed94bRWvMiooqbTRnLFikNLHY6/eDAx6aR8Ci8KhikeDZMbiLTS+xirLXgSQNejo4oqLHqd\n",
       "K/Jx5hscNFcT60kwy4jNiuFvKcN6AYe3267iOI+T1gTJD05zHCdRxTCq+J4MWqa7OI7DQVxtz+Eu\n",
       "wR/4z1Me3RiHQ409jVKx4vHHSOJMRql1J0D4SatM9F0cjmbqTfa1yovotXYopiqVKWheL68mYhDr\n",
       "69WMSOztxFHKsB7fNutuLziJFif8DX84ByxWpSVGWdCG0zqSKP42VnH8a/vfJH+eEt+z1OzjHF3f\n",
       "5Okalxuc0UA8IlnYZlRNdOwztisUDs+wdpr/18jCWeRScGWzjGf3EWp9DWQU0mlVkBtGdetZlNQO\n",
       "uAvjUcT5kvYc3iMnZ4pruPQrNsqClgwap9fjEMLinRb5CHHPKZC6aFYcHiRBRUmSgBTuho/pCXue\n",
       "N6Z0Jw1qKRvjhfYbKjxeoM/mltWdl4AfP23fb4vvjkF38hCZSVshuYh0uKYDEj/h+OZ2Mt5sZGy1\n",
       "6ErwUPvV6hr9CaVHTt6Uu/nuUqMsaCskHWns1nLXFkB45Y4dW5Hi+6IWitO4efQAiWmhFHCEWIWI\n",
       "sc2wkg5rejRSLL8P260eOS2eKv5qC3rHQBqKh9Mvc3yW+nhkmqke11oeOLJ3kBAhcotU/UWbYAvp\n",
       "oOQCrnjcvKs70xY030AaiofyW+J06TkL4HyZJxI47PTDPpQeVehIoQ5bBSEjdtWTa4VH9WD5zH1Q\n",
       "3CNnzFwZxWS71JU2kIbiMTn0BGzAtfrPslHwDVd8YRXsvSG1iuG1Rw+h8NQqsu81fW6clyHxzmnB\n",
       "TNriuw/854J75bTYOBLsIikdEoIsfeomfLlju/W+SkkTTR16WRr6P4Bgt2YLh95og/lrCOnmOWdE\n",
       "Hd7RUgGN4HMDrvgRb0g3iodNHW2G0LIpIwVb8RPekL7+QoiOfrwl0IInc96QviqeoLtv3wZa8YTo\n",
       "Demr4mHq3bMDrfifHpH+/n78VbrqrA2w4FyXR6S/ineQwkn4JcCKd4gekY4Ud/x/QBzdnXtDDa7i\n",
       "27whnf0f0Cjaeiq8EljBBck78l+9g5CmsFRvKAAAAABJRU5ErkJggg==\n",
       "\" style=\"display:inline;vertical-align:middle;\" /></a></dd>"
      ],
      "text/plain": [
       "<IPython.core.display.HTML object>"
      ]
     },
     "metadata": {},
     "output_type": "display_data"
    },
    {
     "data": {
      "text/html": [
       "<dt><a class=\"ProveItLink\" href=\"../physics/quantum/QPE/_theory_nbs_/axioms.ipynb#QPE1_def\">proveit.physics.quantum.QPE.QPE1_def</a></dt><dd><a class=\"ProveItLink\" href=\"../physics/quantum/QPE/__pv_it/axioms/2fef25ec0f6b2da2091797dca4ed88ac63be8aa10/expr.ipynb\"><img src=\"data:image/png;base64,iVBORw0KGgoAAAANSUhEUgAAA0MAAADJCAMAAADW3Rn+AAAAQlBMVEX///8AAAAAAAAAAAAAAAAA\n",
       "AAAAAAAAAAAAAAAAAAAAAAAAAAAAAAAAAAAAAAAAAAAAAAAAAAAAAAAAAAAAAAAAAACGKEuzAAAA\n",
       "FXRSTlMAq1RmmUTNIjK7EInv3XZAMGxgr3zKxjj6AAAACXBIWXMAAA7EAAAOxAGVKw4bAAASRElE\n",
       "QVR42u2dida0JgyGRVEQxC5/uf9brfsGKiqOMvNyTtv5qEaMeQwEDFGEgvKiol3Kd6uAtzdJPnW9\n",
       "LIXZfZUetKdjLhamxG6NuglormVSlU89UUqAz3fp4SUMRZLs1tSGnpA7GGIfVHhcCPDzXXp4C0NR\n",
       "kezX1CAFzpCw3tXvlW/Sw2sYSg1LTm22HTpDJAM/36aH1zAUkXy/JniGuEZA4ev08B6GmI53a4Jn\n",
       "KIMb+j49vIehKFf7NYEzFMMN+dIDVUXOwJBhy+VuTeAMZQr8+NFDO9HBwdDS7RT7NUEzZHkn/Oho\n",
       "6KoeZDtXqN7EkNB9B3X4NVZ9iqHYGP+YNUEzRDTmhux60EGX3jfSaPlr+HH3tUdNZrs1ITMkdA5+\n",
       "/Ogh6yzoFe+kN/XlqvcT36sJmaHEEmf8xeJBD2/sy72DoVTLvZqQGcrRlfOmB8QUVq9U7NUEzJDQ\n",
       "iMr50wNVOn8HQi9jKDfeLMuagBlKDC/7q105+THT/UGGSkO9y5qAGSKYYPWqBzC0Ys7ZTk3ADBUa\n",
       "/PjUAxhauZRl5kB8B0MYDnnWAxiyl8zw84uacBmKMTvkVw9gyF6osQpkURMuQxQhBb96AEP2khgv\n",
       "qUVNuAxlmGH1q4f3MPSuvD7cmCFa1ITLUPGSGcHnQwr8yxh6WdOEAeyiJlyGNFYp+NUDGFrVMN+s\n",
       "CZYhphHa9qsHMLRSlNFbntcEy1CM0LZnPYCh1RFnuVkTLEOlRioFv3oAQyuFGJHPeU2wDElMD3nW\n",
       "AxhaKdTIez2vCZYhopEj2K8ewNDqayrbrAmWoVxTAORVD2BolSG1WRMsQxkY8qwHMLQ65Cw2a4Jl\n",
       "SGGpj2c9gKGVkhjTB/OaYBkqwJBnPYCh32MIueX86gEMrZTYYCj+FoawaYpfPYChX2NIgyHPegBD\n",
       "KyU1GErvZugv/fdHbOcfAORVD/j2YdWgl8t65zX/hcvQvwDIqx7wDd57GPpUXw6f4PnVAxhaNegl\n",
       "Q/OaBAyBITAEhsAQGAJDYAgMgSEwBIbAEBgCQ57LuU1ewRAYAkNdObkhCxgCQ2CoLWc3BgNDYOgF\n",
       "DH3Dfqzbexp/aj9WMAQ/9KAfOrvJq9Oext/th7Be7rMMvXa93Lf05bDWB34IMQWMh8BQoAxFVBcn\n",
       "NnkFQ2AIDF2TCYbAEBgCQ2AIDIEhMASGwBAYAkNgCAyBITAEhsAQGHqAoZflJAFDYCg0hp71OmAI\n",
       "DIEhMASGwNDPMySST2zYTf8wAORVD2BozaD//NmsYckN2MIPwQ/BD4EhMASGwBAYAkNgCAyBITAE\n",
       "hsAQGAJDYAgMgSEwBIbAEBgCQ2AIDIEhMASGwBAYAkPvLRl7SA93fFdw7WMFT98+ePtiAjkawyhC\n",
       "P6UHfcNb/5pMT9/gebux38vRuJ/Q7AW5pGelVlfcZ5TOhSc9gCFfN/ZzfTmS+HhE9zXb1o0TTKpM\n",
       "tuxzJcAQGHqSISKj0BjipOZouJtYgSEw9CBDSRYFxxBN6/rxmUgChsDQYwyxgoXHUO130mJakYAh\n",
       "MPQUQ6qMgmMorrfUKUkkhlhIXAgwBIaeYSgpovAYIjU7tIzk+FQyCobA0DMMFTI8hkQzguM0mYTk\n",
       "0wMaBENgyCNDpduuhe9iKLF1PzMChsDQEwwpEoXHUGbjPnbfwxQMgSF/DHHLroVPp5l1a5DZwdMl\n",
       "GAJDn2eIFP4e0cf8kLQTkCsw9MsMPZWjsSABMrTCSuL8HrqcoxEM7Rr0z+Ro5DoJj6F0JYotXG8G\n",
       "fgh9OX8Mla6XfRNDZG2RuatTBUNgyB9DeRGFx9DqsMd5QASGXsHQ+MqLE48MeRa7ZztF/nGG2PEj\n",
       "5hdPVsNvUoOhkBhqFg43JWMeGfIsdsd2hKafZqjct9603Lx4thp9SXQ6uztSqP5q5T0MCZ15Z+ic\n",
       "TM8MXb4xF4Z47zFYHnlkyLPYHYa485TKUpMloZS0JzOitCaE5HnS3IAqiuovkhWFxZPGsjtDkbop\n",
       "pNCZ2YQy2bj4hmIWt6NKnqhuJRO5yQ8p6t8PnZLp2w9dvTGn8VD/OpSxT4Y8i91hKHa2pbkmeWua\n",
       "peo+I9WNibKieXel7V+RyM2VeCLre12dxyjnxwjFLK5mdvENxczdakOiaFcAcfozfbnRg7w/ppB0\n",
       "L8ss8sqQX7E7DCWan3nArH/fl+35rKMm0XLyV9WXMsTQ/u56eVQsoG7+Tuj6xbdib5qYB5KMR6li\n",
       "DgxdyvBwR9aIc2cruv74b2rE6bhcoerituz5QFzOq9gdhpxD23MzzoZonlJThrhWU4Yi82H2J+rc\n",
       "TgTtImvzj4GcX4V62s+Tw03qIkVM4Y1+KKLNOzgXnhnyKnaHIem8TFPPnIUcISwn1KRNN6L9K63M\n",
       "1jDUPhFP2jsysXhV9MOXLDn1GAu79xaIy72UIUb6fx0qcoehw2Jjiy8p3RiipxgioxQ+oaZGMh7+\n",
       "KlOLFCp7drs+ZDI9KiW5zttAxTw9gvNjVOrcuwQMPcRQ4yukzVTmYWmmaH1U0s2i23urkxyNo1hO\n",
       "dZ21iuVqCp6Qhaq/36RFM2HfmKGQkpBpm+mK7cxzExJ95hFlYwiZ6WKgRpRtIK6qIyTTVsV07kUV\n",
       "9mbG/WXmaVLcGSpm/cJJIZt6AEPeb8wxR2Nc2of+ffpNXpI8r7s0pPlmuRs+0x0/NBXb2VSazuRF\n",
       "+YTGduBO+7EET9qgRCpd3r8eGGpHQEpK2c/8NESx3MZQN10jhhHTcjjUqzMurjMEPxSAH6os3Tpn\n",
       "3vX6Ke06LHF1FB06cbsMTcR2NlXO5fUMNQLbSdnaqlndQRquY52J9N6XS5tRPJuN5cfxkLHioBvb\n",
       "x/3iUFbah0OVOsLoy714jtUS437bHGtjxPFgqTJJ+tdwl35znCiMeZxW1lLZh6SUquqfdJOhUWxn\n",
       "U+1kzDjMnjLUWk395UTDUNqTJmOnmMKZuFw8TsOUDQ02hoRo17eLabesY2gYDkm2eOy9YtJzfqjI\n",
       "PszQm+dYzRj36+ZYa2sZFgpXhjusMGjTb4rRrGJe9eXi1NkPDWJ7myrn8qYMsdFqZIUTYdWwpL0o\n",
       "dbCd8tz8ULNSNY2HzpONoUZPlVbKUhl9uWFdG7EMhxo9z/OWujNEXMdD6Mu9pC83rsLPs8k3dM2h\n",
       "aTJlqCKnzF0ZGsT2wyE+lzdlKB2st8k5HSf9UtU0d2Do9ByrjOK0gnWYY7UzlC1xyDu+O2WS9p7F\n",
       "dDgUNxKT/NRjdF3+B4bew9D4/ws9ZAtt+yFJljclbs1CyD5O4MDQYohdLuRFJB8Yisf1dfMmcxeG\n",
       "Ymv0bF+3LCvL2tV1fTM+63rzniFZLBnqQ9ZNLjjWvSrGrjchvRel8sxjFFqCoVAZYiJiQ7rQNv0m\n",
       "lzM/VHV9uv8vDzDUmFxrVhN5Udc9khNUWGWVbCrCqS/H3b/8XPxd5qRsA4EVC5nWQ9p73q1AJXnR\n",
       "eqcpQ7z/LXNCyzESIPr3QL/SSaVnHqPzElow9D6G6kcueTft3qXfHP1CO5FYku1LWhhKa5Prp/Kn\n",
       "fqYZV5R8jCmwnHM+W3tWli62c+3bh3oV2u7y8tnQRln7jvEyOsjUqcfovIT2lxiaxOdezVA1CmnC\n",
       "cryIh/SbrN8Xi6t2zvU4Q1VPTQ7hODbZZ0vIqrR/5s15hbH0L2cutqOyK4+IZDxRhxhKrMwarpkm\n",
       "uxe33Z77l+2/5IfG+Fwg34JPno2Q9fgldb3k7uO3y7NPps7CeBu2Qy59Cx5X3JaHGLKiLZYylp8I\n",
       "2ffwiqYzCu3dfPw7VnyD55+h9OxS0fP5FChzrzVsJ3GdZLXfMXXIAjJnyMa2geEStLU9vGYzCtGR\n",
       "L9vxDd7dN3aeodM5EC7kJJEWDJLUzXa48wjiZOOYzLScQsL2h/0l2794M009m1GYfNaEvlyAMYXr\n",
       "5UqORuFU1Vjed+Ro7EMp0xmFCDkaX8XQ7+RorHpjQTLURO5nMwr1cAi5gn/aDz3FUOo4y/rGPbz6\n",
       "GYXhMOSsB0MPMLTx9f2LGWpTm/QzCkfjI2AIDHllKPmaPbzUE3t46RsY0mAoLIaC3EvS9nHUZ/eS\n",
       "vGODpktC9cn8O3fd2W/taWw4ojD38MpJ9DmGbn236Pc2DQzZbSeTb38gLnt4pVqAITD0EEO8YIEx\n",
       "ZIthqzgCQ2DoIYaGrwNDYci2h5ckERgCQ48xFBEZFEOWPbzSLAJDYOhBhtoMEMEwZHbleCbA0M8z\n",
       "NMnReCtDK7kJcx4OQ+bkkDiI0PUcjWBo36CdcjR+jx8KajyUiQf1AIbQlwufIR+bm4EhMPQAQ4+W\n",
       "aUt8bG4GhsDQ87bzXCERGAJDYOjpAobAEBgCQ2AIDIEhrzJ9rdsGQ2DoZxl6mWcCQ2AIDIEhMASG\n",
       "wBAYAkNgCAyBITD0MYau5Gh0L5dzE35J8acHMLRm0L+ToxF+CAyhLweGwJB/hqgqcgaGwBAYOitY\n",
       "NVOyHAyBod9jaNw3aPh1Yish2S5rUGAIDB3Tgw669B5kSNgy/Bq3EvrEtylgCH4Ifbkoyjo2xBWD\n",
       "BkNg6IcZQl8ODIEhxBTAEBh6lKGI6iLnERgCQ2DotGB92aDBEBgCQ4Ex9HCOxp9j6B8wdO+NIUcj\n",
       "/BAYQl8ODIEhMASGwBAYAkNg6GMMec7rA4bA0K8x5FsMGAJDYAgMgSEwBIbAEBgCQ2AIDIEhMASG\n",
       "wBAYAkNgCAyBITAEhr6GoRQAedUDGIIfgh8CQ2AIDIGhdzK0WRMsQ4VOAJBXPYChlZIaDKVgCAyB\n",
       "ITBUp2sBQ8f0cEf6wugOmecpuOXi38tQpksAdEgPV5+0vkGofuKwo4fHutisCZahXEsAdEgPYOjk\n",
       "4YmR4XFeEyxDRFMAdEgPYOjk4eWQKd9eEyxDVBMAdEgPYOjk4VLnmzXBMmTe2G8Wdz2AoZOHU8PV\n",
       "z2uCZSgxHOxvFnc9BMPQ+SDhPQzlRthmXhMsQ6kRLPnN4q6H/SfNlu9blourDC1lpnFJ0+tcnjqR\n",
       "lXHJNg+3Wm5mLAWZ1wTLENMaAB3Sw/5xyeJ9y2N1maGlzKLeze4hhrLqbrLNw+sjIpkkM2gKY9eI\n",
       "eU2wDFUen4GgI3rYfdKlossX7mWGDJlVY3nxDEOivm4hNg7ndXyG8va/Ew0LQ+fiKxhS+PjhmB5W\n",
       "n7SQkpDaKMyNrk4ztCEzyj/dl+saw+q2KL5xeNPLzLNEzD19Yfj+IvoKhggW+xzTw+qTrkcstLIv\n",
       "kbUDmLaklxjakEl59GGGusa0fohtHN4AzwtdsNmIMzPGoNl3MFRikvWYHlafdO3IWNXDj2mU+PJD\n",
       "6zKliMoPM9Q3prb8rfFQXGuS1Q6rnClYGiqX38FQiuD2MT2sPum661KbGKPJ/MnxspDxObNdlZnN\n",
       "Nkf9DENDY8o42YrLkdpDqgo4yWeOPjZcf/wdDAkE5o7poT+MEaUVqa2AFDrr3rhSXTLbO2SeP9HW\n",
       "GktjljLafmcSL8JyyggpLGrCZai6EwTmjuhhfNKyD0OUfZ+EK3HR3u+Qef5EozW2xixlJKX9HVXs\n",
       "1ATMkERQ4ZAe9KQ/1Q+2O8OazaWeM1v/MsXQSR1+jVX62B1aG7OUkVkbHBsLEpc1ATOUYtXpqh62\n",
       "l8cMS+y6E+u1BGz3oW2vublBphqCJcOv4Yc+dIf2xritIdodDoXMUFRgQHRED3qEruu0CNm9pDnn\n",
       "VDifb6u8Q+b5ExetWWnMQoaMHbW7rAmZIWqswfjN4qiHydClOz5JO5tw+jB602zvkHllcDZrzUpj\n",
       "FjVqxZrJXk3IDKX4lPWIHoYnrfoh8bEJtk2zvUPm+RPdWjOXkdqPLY2unFETMkNRgaXbB/SghxE6\n",
       "mQ9dPNj7HTLPn+jYmrkMYnfmWbFbEzRDJZbMHdCDHsJKXRyPld7s/Q6Z5090bI126srJ3ZqgGYoQ\n",
       "mTugB2PoIpk3e79DpofB2XZrZjLsk0MRMSZYzZqwGZJaACBXPYwWdqrbtcOQf5lXGHJqzUyGfXJI\n",
       "GG8nsyZwhgSiCu56GHs6rbkQ5s/e75B5pS/n1JqpDJav9JLZbk3gDFV3BEfkqodxSUGzPJkcnRjY\n",
       "NNs7ZJ4/0a01Uxlrk0N0vyZ0hiIFR+Sqh8lqspzQ41lid6ZkbpB5/kSn1kxlEMdXk+1lFTpDMRae\n",
       "uuoBeX2OHi6MlYjCtjYxdIYiijRzjnoIOL/cPdJ2Dyf5fs03MBQprN520wMYOnh4WojdmtsYasqn\n",
       "pm54gbCCkx7A0MHDVbpbow5twuJeRNKUjy0hSDEictIDGDp2uEj3a1pTR0/oV0rAe3jddIf+rvw/\n",
       "E70oYsKTgLsAAAAASUVORK5CYII=\n",
       "\" style=\"display:inline;vertical-align:middle;\" /></a></dd>"
      ],
      "text/plain": [
       "<IPython.core.display.HTML object>"
      ]
     },
     "metadata": {},
     "output_type": "display_data"
    },
    {
     "data": {
      "text/html": [
       "<dt><a class=\"ProveItLink\" href=\"../physics/quantum/QPE/_theory_nbs_/axioms.ipynb#QPE_def\">proveit.physics.quantum.QPE.QPE_def</a></dt><dd><a class=\"ProveItLink\" href=\"../physics/quantum/QPE/__pv_it/axioms/0c004e18e55f3b78cf9ef6920a995efb3d5ead9d0/expr.ipynb\"><img src=\"data:image/png;base64,iVBORw0KGgoAAAANSUhEUgAAAu0AAABMBAMAAAArT5Q2AAAAMFBMVEX///8AAAAAAAAAAAAAAAAA\n",
       "AAAAAAAAAAAAAAAAAAAAAAAAAAAAAAAAAAAAAAAAAAAv3aB7AAAAD3RSTlMAq1RmmUTNIjK7EInv\n",
       "3XZ/CtNrAAAACXBIWXMAAA7EAAAOxAGVKw4bAAANzUlEQVR42s2dDYxcRR3A//v59t7e7u0Zra1Q\n",
       "ukkLmAjepqcVm8BdQ/mItHAiaMTqbcWkpCDdhsSk0HpbxUQjeNegrYfFPmJCrGhvqTGSVugWgkaE\n",
       "3BWk1bZHFz8ionB3lHL9uHadjzdv3sz72He3O7u+pN1/Zuftf+Y3M//5z3/mvQMIdiWq1WoGZn/F\n",
       "+6CVV4vVo0s7KgsphDLw7Ylz3d1zqcOK1tZ6BbT8ekoWIt3di4Jzn56T0vCLLa2zQvVVr0vO2J6T\n",
       "BYAe1dx/mWspd4XqJz3SO+SE2LQsNIH7vNaOcYXqA3OHBQ5BOffEqZZiV6k+OPeBrCwo5x7Pt9ab\n",
       "yf8/cG8bkwXl3Lta68apVB+ce+KCLCjn/vXWmneV6oNzh50OQTF33sCtMe8Xmsv9Qw7u8QIZdsyu\n",
       "W4Ji7qGzLeWuVH0g7iN0CLBpxhIUcx8ZUo123WzVV+u7fLm/JXEvwGW0/U+zjnC6Odx7smpDH6BP\n",
       "zlb9ZF0aO/x+aPsPnxOzrH/g8NNkwXSOrZzONYf7LsMSfyzXoAF9Lm6E0cDdbQRQ3wzusE/MksjA\n",
       "V6k0w5JmmsJdP89Nba72tD/rum/Vnrm7CImjtdU3h7tk36N9YE4wu4ogCmq5R85Z4kWggPt1EMeW\n",
       "5Mra6tVw33r8YOdjLxnxw9vG127/K9DezbOkIFam0kQJREEt95C1TI/kVXAfgw5sSZKZWupV9fd+\n",
       "NHGvKXZkYSIHVzi4L4F05udEGmTVZ4Ja7u1WJTcXFHAP98IaIrxaS70q7gOoxSPZxwFzbwP4kZhl\n",
       "PkQr++htzKFlglruI1Y84nVQwD1UhDd0bDCvMGqoV8ldr9xHuCcNibueh8S11J7H2chjglruXcx/\n",
       "jpRVcH8C4OYkRh7v9Vevkvv9UPkO4R4poA5uzxKp8Bn2giSo5X4Lm07aSyq4XwPw4FXELZ72V6+S\n",
       "+6fofEnctRuELHE+CiNnJEEt9w1s3TJhqOC+3kpa66/evkqtk7v4QwMZ7YiN+1suWSi8GUlQy32U\n",
       "ua2HXMrdiLpbFsXwVa+uvx+cN23jLmbZa1tJVCVBLfeqiSNxGhT09yTvziMVP/VK7cwNntzts3q1\n",
       "KApKuWuslUNlFdxTPKltzE+9Uu6X27ivs2eJ2Sf7E1lRUMo9zNbp7RkV3G+zrUyn/dSr9SM5dxqk\n",
       "6+Berm2qqYiCUu7p99kqLaeC+3yb/Tzpp75Z3MN5j+EIsKgkCkq5J5n3NFFQwd1uWw76qVfHfXDI\n",
       "xp0E6XiWawSXNiMKSrmHpkxhJyjgHrHPpY/5qVcXF9twkAy62IrRgzcCDdJZWdbb7zuQFwXEnTTA\n",
       "4kDcQ8RsBj6C1faeKfxxLtzlMaJJd8bt3soBP/Xq+rv0pWHLogmL5QNjotCDg6lQY7vM4h7FxyLi\n",
       "haCFjJsV19+bA/d0VkqIVcQ7N9m/7KEHNvSLX8G3iuqbxn2NPUtSKP9EWRQQ962OxvHknsjI9fW9\n",
       "Umb823Vbn9Ug/cEVCOjGE1OdwzkS0J73EhlQHwNt4fkPQGj0XnbH38U799p/bZA2SurNq0vmsOTq\n",
       "m8adBunMLCHhq55JUeih4zWZDWbf18v19b3azYqH3/WuQeIYwNuouIMZ0H4P0I9adneJBvMgiYN3\n",
       "/6H5flWwDIt5p+CbjvSaTaOvBXhQVD8H7gWvBF/uNEjnOpBduEdQ94oHnFe70b98cO5mP4+c9uY+\n",
       "gDpq+jT1yHpKNLCKiUZxqXAZP2NFAiK93haqI8PaInRX7IiofvbcHTYOvhKEOw3SuXLvmhQF7M+8\n",
       "PD7+p4Dc28fHj5eCcze96vS0N/d78H/jlPvgGHWIMd92nGWId+vV6N+LPtypocRlm5jpE9W7c39j\n",
       "5SXIvi6sdi54BBILX+rsvOd5K4/TxqVzAbj7TFxu3JEH9GhA7tEitBnBjaFZ8eRZz+KFiS2YqBDg\n",
       "/Xn8cTvg3oYPnvSjsaCbzYzMEdzpXbF22yg0JPWu3B8uQfovqFbI19ychxj60H9ircIkG6cfsbzC\n",
       "uXLvnxQFzH0jaF4PLiUl7ijjRteMl1uSzavuMO161Jt7iGQZJMDhQBZ//JN8cRP2uZDdj5DOG1tw\n",
       "5hLrORW3iqWoe7Z6HF+HRPVu3DVsgyaKoE2R7W/8AY+zLLKNC6Pyf6I+7oNnRQFzbzOS/Nis6VBu\n",
       "uakvgtaAUdtSfDn+/1H4DbJjUzntMdoPn3x5H6yaj+k8+dRHaKFtUZPl5tQ+6Vk8uu81UMbA9zxP\n",
       "Aqt0Jwz37eP858L4J5b5cHeJvDH1btzjZdpYGHjiPOVulVy2cVHUqO1GXdx/lhOF+3CdKnxaxaGd\n",
       "xBvDfeHMPtzaUXm9+nE8rWIIt9N8sI1kehwb5dWQ6M5BjNv/jlNBuSPDfmz/30jAQyOblID8cH2K\n",
       "u2NRbEeumB33jlPe3LtwKdMXCPDY+/gj1hdmWWQbl0Kf8VzD+zvkeSgBh3ZWouEdviaKJykH9zhe\n",
       "nWMIFZoPc0+StdcpGCiSe9bP3s70D8EAnRiJfccr0xdQGbB9/iavOgzWtDOiBh87swjPIQkCHJLv\n",
       "4o80H/OijYPP7tpWYWdFGsp9L0aV7M7S0A6ZusPf+kKllFy5euV1IvfkZQaFUDKneMod1Xo54h7D\n",
       "TbHXUfGktz8Tfs+MKnHuvyCDEHFPYvfzt6Z/3metB/3m1cD2fQP+PW0GA9f/m0NS5wbOXbJx0AXW\n",
       "ASCb7sDP8xHck6JAuG/GbXkjWYzGs7Cb8Cjuu9Stv2sHTQgVmo9y10ihnoEP6xV8WsfhR/r47zsh\n",
       "lsWV5NwBrqJ2JjnJTWwX6Na5MFfuGW831ps7Muzn9z+L+9sUbOLcJRsH12Mg5bqieW7+DI3Qb19u\n",
       "hnY+R7lH00Mu3EnQG7V/rEjzUe4xDC1xFBbj8NoXHRX3XTeVLt1D1k027rgVf0rdiFCB+oXXw0cB\n",
       "Pu3jv/fOjjuxM7EzoNFYMbHv1qJUsnHEh01MNp47uR6aKdChvGx4eDgbLuqlvBt3s/3TZj78aGAS\n",
       "wiRuY/rN3+NG16x4+JQ3d+3eSnhVn3WAbRD9UhJ3Lewzfg001Mw63r7oxCPpJm/uIy6ruZQP9y7c\n",
       "TumTNu66oeX0ZYy73cbpuPixshrumrGlQkM736f9HW6tOP13eq0A2ANA8sHbOFMCdVatV6P9hduZ\n",
       "uLlQT5z0i4tt+8cYFDdumMLktp6Y6lwwirv+w3he2HYzWc2iBt2EIxSveXMfrLiEQ33iBG1luBU7\n",
       "QZw7GpbFH7zN7IzdxiH3zYDwWF3cu8qiYHFP9SVRF8ehHbIgRVN5OuO17/Fl4mHRhWsqC2+SeXXT\n",
       "dx+kHf4dHgBngakaceAj4AyHporcxzIHkjYm38nDV10ugb02n7iYdi58RwWvm2zc42wGkWxcNI96\n",
       "YWSoLu49Y6JgcY8sXgqJ53BoR8NPCDy8Tgr42bmHL8IhWZIP9P37EaEdAKNsIt/BN3wY78P+3Od9\n",
       "2+kFRnodi+aoI0bCXVa3ncSQX/z9G+/AkheIK0kqh7n/jnGXbFwog0Z3tFQX94m8KIj7fHTl8OTw\n",
       "cJ9HfEa4bPm+ZFvX8r4bZRttF/tz76q6WAnefHtA3Oiw7kQeGPF+8TzpoiHqu8/370vQOk+bV8UH\n",
       "8xMLq52dO88w7pKN0x7JYXtQF/cDQ6Igcr+jVlzM64oW3ERrY7nH8OUedduV3u2I+OyQ74z2md6v\n",
       "+05irX3tVKFN/vJKLxsHW6Au7rf0ioLIPTdX7vTJHnJ90mYrrHMc2YDLOtulyWMg7dh7SDHvl4a5\n",
       "HKaqxjmO0F1Xu3N3sXFwbX3cd1VEoVHnCXRHFBb7XjM+q5oGnEtdwrxf93NLlnoP7uHqBXfuLjaO\n",
       "bYTOtdTWEVlTaM45vWhZCff5zPuF0JzO6a3KeHB32ri2Qn2lto7ImoLic6lmaWOnVHDX88T7JUkV\n",
       "P/Ve3B3XAxuedbdx8K86S20dkTUFtdxPMH/nzyq4RyrE+/WauG3qg3KfxVgTRxbUSNZmJEEt90U5\n",
       "b4emfu62g0uH/NWr5h43aiTH3pcEtdwnmGNgPWej5rkDj+dsJnqbxH0rwK+X+iWn2dKZCWq597NV\n",
       "WuSsgv7OA/1tGX/1qrlfB9HiVr/kENsKYILi5yitSt6tgDv3YfqNGuoVcx+DtjsNv+QU63eppjy/\n",
       "mrLueajxzw3bnqd4pZZ6tdzDvZAY/YNf8ghzpJmglnvSCgCnhxrOnT9P4fWcfPJkc7ijktyvve6X\n",
       "3MVKyAS13GM8MtX490Lw5yk+X1u9Uu5P4K2Bp/2SF7HlKhMUv39mlPtU2UZztw5BJNbXVq+UOyrJ\n",
       "0u6sX/KoXCLF3G+xbIHzvT/11t2i/YQRQL1K7h7tzpMTU7KgmHt/aZaeQfC6Bziyb1Ov4HntABfT\n",
       "lX5XFhRzby8r4x7gyL6r+sb3d4+S2JLjZVlQzD3t837eOt8vFpqj+sZzT3l4sVwcLMmC6velTkFL\n",
       "r6lmcL/NPasteZEhC6q5HzBayt1FfeO5z3fPypP1KVlQzn2k1FLuLuobz30MPIIHlrmblgXl3NOt\n",
       "fVGti/qGcxeeX3ZNbu+VBfV/7+BYaw38MfXcawbf+VuP+OuPlHPvKrSUu1N9w7l7PM/Lk62XVtje\n",
       "XqGce3Sopdyd6hvO3eN5Xp4cGpKFJnD3erdjs65X61txBniowCMYypPXGLIwK+5z/HtlD7XWk2yx\n",
       "eny9Jguz+ntlevfc/l5ZrLUGvsXqMbg+WYgglPA/W/wSX+2CunwAAAAASUVORK5CYII=\n",
       "\" style=\"display:inline;vertical-align:middle;\" /></a></dd>"
      ],
      "text/plain": [
       "<IPython.core.display.HTML object>"
      ]
     },
     "metadata": {},
     "output_type": "display_data"
    },
    {
     "data": {
      "text/html": [
       "<dt><a class=\"ProveItLink\" href=\"../physics/quantum/QPE/_theory_nbs_/axioms.ipynb#_t_in_natural_pos\">proveit.physics.quantum.QPE._t_in_natural_pos</a></dt><dd><a class=\"ProveItLink\" href=\"../physics/quantum/QPE/__pv_it/axioms/43c5ca85739dab0e5d869af8d9f6b96cb94286c70/expr.ipynb\"><img src=\"data:image/png;base64,iVBORw0KGgoAAAANSUhEUgAAADwAAAATBAMAAAA+KHOiAAAAMFBMVEX///8AAAAAAAAAAAAAAAAA\n",
       "AAAAAAAAAAAAAAAAAAAAAAAAAAAAAAAAAAAAAAAAAAAv3aB7AAAAD3RSTlMAEN0iVJmJRKu7ds0y\n",
       "Zu8qwvqBAAAACXBIWXMAAA7EAAAOxAGVKw4bAAAA5klEQVQoz2NgwA0CGPCCCaRLM+rP3MjA9v45\n",
       "Lt2cDhUMDPJw3YzKqNIcymwXGPgYWGfOfDlzLgMDy0c0aU+GzQxMcN2sChDhlUpKG8DStguskaSZ\n",
       "EsCy1Qthug16uBLg0hXzZywAUswb4YYbcDJMR+j2BwtyGyCkeQKEhOChFg2RRjjNgOEKyzw4Vw1M\n",
       "nlMCgglQaQ6BPngofQdTksi6GRuEYDyWDwwCIPcjSzOc4oTxWDewHABSXAvggQrkcp2EK26QAtNb\n",
       "YALcDnD3gjw89wKYlpguAKZ59r8EktIYMVU2CRKoKAAARP0vCk79Y/oAAAAASUVORK5CYII=\n",
       "\" style=\"display:inline;vertical-align:middle;\" /></a></dd>"
      ],
      "text/plain": [
       "<IPython.core.display.HTML object>"
      ]
     },
     "metadata": {},
     "output_type": "display_data"
    },
    {
     "data": {
      "text/html": [
       "<dt><a class=\"ProveItLink\" href=\"../physics/quantum/QPE/_theory_nbs_/axioms.ipynb#_s_in_nat_pos\">proveit.physics.quantum.QPE._s_in_nat_pos</a></dt><dd><a class=\"ProveItLink\" href=\"../physics/quantum/QPE/__pv_it/axioms/89b9f03344b95013be5c8b0bea35b6e272ad9bde0/expr.ipynb\"><img src=\"data:image/png;base64,iVBORw0KGgoAAAANSUhEUgAAAD0AAAATBAMAAADR6hicAAAAMFBMVEX///8AAAAAAAAAAAAAAAAA\n",
       "AAAAAAAAAAAAAAAAAAAAAAAAAAAAAAAAAAAAAAAAAAAv3aB7AAAAD3RSTlMAiXaZELsyRCJm3c1U\n",
       "76sUjwJqAAAACXBIWXMAAA7EAAAOxAGVKw4bAAAA5UlEQVQoz2NgwA2YGfADVrLkvb5GOzDI/i3A\n",
       "qT+G/QEDywfc5r9qkGRguMBgGhobGjoBi/ybAO4GhgUY+pmiVq0GM15M4tiAKc++yQHKesGXoIgk\n",
       "z6hkAqK6YdIMLxgCWAsQ8mEMxSBqBwNCPpllyQJY+HF8YIgE0RuQ5DkPHL0A43F8nQGi2G6tWrVq\n",
       "KVSe4QkfXJ5B/r8AkGQJQNLP4MeyAOHy0i8gcgGyPJsCXLkUAwNYXgkuHwbEanD5TQw8BiCa+wBM\n",
       "ZA/I6XDnJk3SBNMsT0sgAtl/gXpZNmAEO7soNHxRAABjOjsCU0Qw3QAAAABJRU5ErkJggg==\n",
       "\" style=\"display:inline;vertical-align:middle;\" /></a></dd>"
      ],
      "text/plain": [
       "<IPython.core.display.HTML object>"
      ]
     },
     "metadata": {},
     "output_type": "display_data"
    },
    {
     "data": {
      "text/html": [
       "<dt><a class=\"ProveItLink\" href=\"../physics/quantum/QPE/_theory_nbs_/axioms.ipynb#_unitary_U\">proveit.physics.quantum.QPE._unitary_U</a></dt><dd><a class=\"ProveItLink\" href=\"../physics/quantum/QPE/__pv_it/axioms/b97223f2d5084937c84c5cb577d63bf6e3b794440/expr.ipynb\"><img src=\"data:image/png;base64,iVBORw0KGgoAAAANSUhEUgAAAF0AAAAVBAMAAADWVP/xAAAAMFBMVEX///8AAAAAAAAAAAAAAAAA\n",
       "AAAAAAAAAAAAAAAAAAAAAAAAAAAAAAAAAAAAAAAAAAAv3aB7AAAAD3RSTlMAIqvdVO/NdolEmRC7\n",
       "MmaVuGqYAAAACXBIWXMAAA7EAAAOxAGVKw4bAAABqUlEQVQoz4VTv0sCYRh+ztPz54no0FCQFS0u\n",
       "Sg7REDq2aUGzDjUZ/YC2Gu4PqHSqRsEmCTkaoiHwIBraDqE5B5ccIgiUoLD38z7Pu0Tuhe/eHzzf\n",
       "873f870HOJjA/UUHiMDZjg0X0FvAFQXRzEoWy71DK6a1u6Xg+atKoVuBUN/TEdpXAW+bKuUKBYqd\n",
       "9E0DgikW3QNz8H1DLmxSVqJ1wE5T7fj5OH3YQgNYALYxK6xS1qX1Q8vFcafpdNGOzwMFFcnIGs4p\n",
       "86jw98k/GPDLk//8btq+BCT1zkeWUqkN3y/5d0O60kQ/AeNiGV73xSHSiagOMykygZeYIpD7vB4u\n",
       "omm2CmnyviLrAmKc19155IhBMNR/TZNpNrynwtLbEY/8ibJObRmNPJr8Tc2KD4/o4c+jPJZTNPEe\n",
       "kkVuj/rZgMBv5k4hpw5fhJnXHIowieZibxiikqzAy98zrEGqIqpz2I55QE3FDRcQsXq9xstM3rOE\n",
       "SXv3MpoLf2JxSCLTEGUGgx4vixX73Fw/GfMwtnVbFnMc/64tazjiQ9Z/StAc8UFt2uYpNmOJj4A/\n",
       "KA1aDqCeBmsAAAAASUVORK5CYII=\n",
       "\" style=\"display:inline;vertical-align:middle;\" /></a></dd>"
      ],
      "text/plain": [
       "<IPython.core.display.HTML object>"
      ]
     },
     "metadata": {},
     "output_type": "display_data"
    },
    {
     "data": {
      "text/html": [
       "<dt><a class=\"ProveItLink\" href=\"../physics/quantum/QPE/_theory_nbs_/axioms.ipynb#_u_ket_register\">proveit.physics.quantum.QPE._u_ket_register</a></dt><dd><a class=\"ProveItLink\" href=\"../physics/quantum/QPE/__pv_it/axioms/8fdf4d4869eca944a64f0cf8f9d26f26ffcd6c600/expr.ipynb\"><img src=\"data:image/png;base64,iVBORw0KGgoAAAANSUhEUgAAAE4AAAAZBAMAAABtDwVhAAAAMFBMVEX///8AAAAAAAAAAAAAAAAA\n",
       "AAAAAAAAAAAAAAAAAAAAAAAAAAAAAAAAAAAAAAAAAAAv3aB7AAAAD3RSTlMAIolEdjIQmWarVO/d\n",
       "zbuGLT5cAAAACXBIWXMAAA7EAAAOxAGVKw4bAAABaklEQVQoz2NgIAZEdBBUwqY0M4GhgImgOnYG\n",
       "9gMM5qUE1fEbMH7lFEhhEIDyWXGo40hg/MrV1cCgDOXzBWC4TO/sFVEFBgamAyAeTB1XAbo6zx0M\n",
       "6f+AojEJyOoYDqB7wBloVl8BA+MzBhR1WmjqwvmA5nAWMIgzCKKok4PSfmfOXADR0/hAbmxgfBpa\n",
       "hqKOF+JzWzco/4E4mOL+//8DRB2bewMDZwIDlwKIy3gNqoxxQhCKM5QZmLg2MPTDPMILD08FCzR1\n",
       "UcCImQtkFYPVwcQZC0zQ1CVwOzBsAbIiQdzoM0DwAOw+ITR1DPbAqAGyFoG4eXCJZ3zo6moYWEBe\n",
       "ugji8sAlzEHhx2CApO4lA9+DNgZGsG0sDoj4mAAkLiCpq2SIVlBgYFoA5t+CG+h3XSDrOLK9mSoL\n",
       "pwTAbMx8nABPL/uPCyCrg4DlUNrozZkLWNIhXN1D/Okapo7tAnHqWBrwq3OF0pz4lQEAE8dMzY/q\n",
       "8JcAAAAASUVORK5CYII=\n",
       "\" style=\"display:inline;vertical-align:middle;\" /></a></dd>"
      ],
      "text/plain": [
       "<IPython.core.display.HTML object>"
      ]
     },
     "metadata": {},
     "output_type": "display_data"
    },
    {
     "data": {
      "text/html": [
       "<dt><a class=\"ProveItLink\" href=\"../physics/quantum/QPE/_theory_nbs_/axioms.ipynb#_normalized_ket_u\">proveit.physics.quantum.QPE._normalized_ket_u</a></dt><dd><a class=\"ProveItLink\" href=\"../physics/quantum/QPE/__pv_it/axioms/9dd0f917afb835233a1de3ba51a6f0768bbcc8fd0/expr.ipynb\"><img src=\"data:image/png;base64,iVBORw0KGgoAAAANSUhEUgAAAFIAAAAVBAMAAAAnX6R8AAAAMFBMVEX///8AAAAAAAAAAAAAAAAA\n",
       "AAAAAAAAAAAAAAAAAAAAAAAAAAAAAAAAAAAAAAAAAAAv3aB7AAAAD3RSTlMAIkSJMpl2EGarVO/d\n",
       "zbtGyc70AAAACXBIWXMAAA7EAAAOxAGVKw4bAAAA30lEQVQoz2NgZGBkACEIcAARAkCIBSgzuDIw\n",
       "MCtAeU+AmMmAJYCwyqU4VLIcR1fJg11lZex3dJXMC7CbyYahkvEBsSoZLhJWWRbBwDCdgWExYZUG\n",
       "qxk4PoC9BFMZcwYETqKrZFkQw8B5gYGBVYGQmewM2xi4E4ABN4Gg7UzfGeSBccllQFAl6wGGfKAQ\n",
       "rwAhdzLwTWB4x1HAIEfY76wTWDYzMzBYYVfJ/BGhkn1ylmQKA8MBrCo5Z/+dgRZHXAHEpjo+AWJV\n",
       "1hKdkjPwqHRjEAYGggOUNwGUvhMYDbAoBAArJUYL2YmStgAAAABJRU5ErkJggg==\n",
       "\" style=\"display:inline;vertical-align:middle;\" /></a></dd>"
      ],
      "text/plain": [
       "<IPython.core.display.HTML object>"
      ]
     },
     "metadata": {},
     "output_type": "display_data"
    },
    {
     "data": {
      "text/html": [
       "<dt><a class=\"ProveItLink\" href=\"../physics/quantum/QPE/_theory_nbs_/axioms.ipynb#_phase_in_interval\">proveit.physics.quantum.QPE._phase_in_interval</a></dt><dd><a class=\"ProveItLink\" href=\"../physics/quantum/QPE/__pv_it/axioms/90ad83733d1e3e414be95a70e25c2d5e068a872e0/expr.ipynb\"><img src=\"data:image/png;base64,iVBORw0KGgoAAAANSUhEUgAAAFAAAAAVBAMAAAAjqnRBAAAAMFBMVEX///8AAAAAAAAAAAAAAAAA\n",
       "AAAAAAAAAAAAAAAAAAAAAAAAAAAAAAAAAAAAAAAAAAAv3aB7AAAAD3RSTlMAMkTNuxCZZquJVHbd\n",
       "7yKDlRhzAAAACXBIWXMAAA7EAAAOxAGVKw4bAAABW0lEQVQoz2NgwAL2HEQT4GPADiahCzBtwKmQ\n",
       "c3YejCcTwMCwHadCK4aYB2A2a5s9UCFzAA6F7AcYOB2gvP1ARewJKAq2nDljAFHI0sDA9RVJIcNV\n",
       "ZHXKW+Em8icwMP5CVmjOwCjAwGTvCg4DU4TV8UCF35EVzmBgY2AQLuoECTA/QCh8P4GB8TeywmKG\n",
       "hQwMDQwsYIUMqAp/IitcyzCBgT0AZCwDg+wZIHCAWj2BgQnFRHmGDQzcDAzRIIEQJBOBnuFC8Ywu\n",
       "QwKDIgNDKkiAB0khiwMDO0rwrGFIByqNEAAJcG9ACvALDGwGDAEIhSUMzNaGZYcg8lZIUXiKIVaA\n",
       "9TOYNx8UGpkMDDX/T0LlI5wC4ArDZjcyMJwB8TvuWxQwMADNYiuAu03TBxaFEMAFTwp8BxgYeAVw\n",
       "pkdOuAjINHncCTcaLvIElO5xK0Skaz8gfoipcA56nuF+wAAACYFae6IiZsQAAAAASUVORK5CYII=\n",
       "\" style=\"display:inline;vertical-align:middle;\" /></a></dd>"
      ],
      "text/plain": [
       "<IPython.core.display.HTML object>"
      ]
     },
     "metadata": {},
     "output_type": "display_data"
    },
    {
     "data": {
      "text/html": [
       "<dt><a class=\"ProveItLink\" href=\"../physics/quantum/QPE/_theory_nbs_/axioms.ipynb#_eigen_uu\">proveit.physics.quantum.QPE._eigen_uu</a></dt><dd><a class=\"ProveItLink\" href=\"../physics/quantum/QPE/__pv_it/axioms/049acc055a4608bf7d7f32f3fcf67cb8662731950/expr.ipynb\"><img src=\"data:image/png;base64,iVBORw0KGgoAAAANSUhEUgAAAMsAAAAbBAMAAAAg62YvAAAAMFBMVEX///8AAAAAAAAAAAAAAAAA\n",
       "AAAAAAAAAAAAAAAAAAAAAAAAAAAAAAAAAAAAAAAAAAAv3aB7AAAAD3RSTlMAInZUiRDNmWbv3US7\n",
       "qzJazP2FAAAACXBIWXMAAA7EAAAOxAGVKw4bAAADC0lEQVRIx7VWS2gUQRB9Mzub/SS72SiiiJAR\n",
       "BD8HUQwRPY3GWxDnEARF8XMxFyFIcjAaWASFoGgUhYAHxRyCelm85SC7EQRBI6sBwaBhQUiIoBvU\n",
       "BD/oWtUzs/Z8EmclFvR099TUez1V1dUNLIFcxv+R6J63pjS9vuQEF8Uzhtjt0Cax2lkiXaJrzCm/\n",
       "QtsoBdFlpFfOOM3qAJP9Vhc3Bc3qSqXCFp38LoupwUAcnOOHukWCabf7hhJQr/tpnjgDjZwW7Vml\n",
       "iQnT1GeUF1OBOEhyHFugTHwfR+rWcUktnLPB//8Dzui9GTWiWNtBZAbRdECFBs1HI3DUIn11lJb2\n",
       "gybrZDU4wnWmL5qGw/cY6atAYRrcd2Imo2I5UXlpBE50jiyzhDdLkx6Xuo0j0OWlaczZg5VoEsF9\n",
       "WHVaCjq2+WnabH2CrTkXii71Gn7c8NKU7f9Tnn/kVcX0kSpNfLI4bfhpBM5ZoJW6vC5cLKvrqhkk\n",
       "yyZ2wethJCqVWeFVEV3ru9ZvT/2pZOFsBLqp20f5EM9Z6uj6LFImIsy610vzitqBof5i0PaI666M\n",
       "lXHypljJ3epebYcWGcAVO3YXRNjvCRHQz6hNQJkLomlwbwwZp1zCELnhpwihpX5HZYQXfYbaDi/U\n",
       "SWpfpd0jS9J00cg4zTncpOQmSyyz1WZCxzUafeBVeKGGKX9p539ZrKrO+3GOCBqNC8cuJ3R5q5C0\n",
       "UBsJ+Jv056amFYuVsGE/TrNwmjbr5DOre6Hy/Bi1nd7YsNM+hSmXbpxyBo/IaRTSVMZRj6GhcN4q\n",
       "q5e81m+onTYDi6qPRsKhTOOkPQFlsqruw4xhQOO86fZa0wbAwcEHd8LQSDj9VAO53I6d+qM+vHvr\n",
       "yxKSPLvvtc5zNvXO62FoJJw+ysMSAg4CbOeS4jshE7mQR5kLh/emuz5W1aOwquoCFTo0zahdocXA\n",
       "p+bjwSp7LkkP1EgjcOKcpYeC1GrWuwBLxmukEThJzmJFDuhmu+fSo2YWvAv8VWQc6y5Q283GqNnE\n",
       "udn8wz2tJonRLvgNEfPGRyDbHn8AAAAASUVORK5CYII=\n",
       "\" style=\"display:inline;vertical-align:middle;\" /></a></dd>"
      ],
      "text/plain": [
       "<IPython.core.display.HTML object>"
      ]
     },
     "metadata": {},
     "output_type": "display_data"
    },
    {
     "data": {
      "text/html": [
       "<dt><a class=\"ProveItLink\" href=\"../physics/quantum/QPE/_theory_nbs_/axioms.ipynb#_mod_add_def\">proveit.physics.quantum.QPE._mod_add_def</a></dt><dd><a class=\"ProveItLink\" href=\"../physics/quantum/QPE/__pv_it/axioms/dca063a26f7d32fc4e98aed9b851b536a2d568920/expr.ipynb\"><img src=\"data:image/png;base64,iVBORw0KGgoAAAANSUhEUgAAAUUAAAAaBAMAAADS9VP4AAAAMFBMVEX///8AAAAAAAAAAAAAAAAA\n",
       "AAAAAAAAAAAAAAAAAAAAAAAAAAAAAAAAAAAAAAAAAAAv3aB7AAAAD3RSTlMAq1RmmUTNIjK7EInv\n",
       "3XZ/CtNrAAAACXBIWXMAAA7EAAAOxAGVKw4bAAAE10lEQVRYw81XXWgcVRT+sjubmZ39rUJVgsmC\n",
       "1B9q6xa0WJW6pVGsoXGg+BZ0RUHSvkz0KaDpVEQfbE1Aqa6Kbl+EuqW70aAlizVgRatWU6lU2i7d\n",
       "rYKW/hAisbHW1nPmJ5m7O7PdfRA9cGfuzNzv3O/83HvPAP9TebrN8Xfh3wY0iDoDZOgutTg+kGlz\n",
       "grYBHiqywDDd5bHWxr/PF93no+wHkNsANA76dIuBYJV6a1vj+Bq1eMrnY6jqDcCpNgCN0snzHaMW\n",
       "ywNJfnNTU5um6LLc68vuQ3T52RsQKLUOsCV+QjPhvYMGEkQNNX5JBB+46iKSaDY16/npKbY47wWw\n",
       "4t0iwJGtJsdhROYwwL0ijVQvAtuumpgJQkppt73rlkxavVlqwYwXAOuF+Dpwb4AAxHXAt6ipBlnD\n",
       "sCctqyKpZhxHaUTU9axMKlrB1Ba6yNevvQCYElapnYM+AJHj93n06P0RUiKx7zaQVcS1s2n6nqN2\n",
       "s+v5VSgalnEvMg3L0EZAIOvF0QcgcrwR6DFevJsDxoaepXaoUvmmKcel1Po4I7p+NacqMUc2E53d\n",
       "NYrAuBfAzMmh/SMiRwHw0oGR09XHTmtQ+39hcuXzo5qt4aTL7Y/TTA8BbzXlmLNNH9DDjInrzFFl\n",
       "DsXN6gVgNQ/aWGE5vADgVAp9iffyAkcXgORwSvldC05hh453gT0pfGZzVC7b93nOHErMIcjJhVQb\n",
       "tDsdByfedlL7CWo/0AL7HBKHqgPM0Tyo7sjjO+D2eqMYECN/7Uljo+hHEfAO8CfzOG4S2emsawLb\n",
       "hOQ5e7GH8xFtQX0XE63ltJge2etsEUeofUHRm0GMnRculye6ymVO5weBv0h/PUcGREnnI+DpIVUq\n",
       "Jyihkg2AHD8p8wot9kRJJd8VbSIbnEObOfLLQNW1ZL6i1kvODeKFZ91uIY7RMUuHtOjH4wiR/gEv\n",
       "PzLHg9YkLj+KAOJ4mTgGaFBiTFnkGHTiKnOstxIdZPlILKz9xEyEWj5u7WWZDMRYF6u4HyLHWUiU\n",
       "oSvq89GONXkmOCNydAEWOZp+zLj8uByyVR0oFzgfuf/hZvLqUfM5fiye2W3Z8ozhcLyBGuV0MYWl\n",
       "ARqvpJhjiLfUeU45rKn3IwPCVaiz6MjeInAUATZHHKDFq2HQyUelhHheXNd4jlwrZRTei8LpYHaT\n",
       "+XlvZGFK3qDGedbAEbOam2SOBe5di9ftfUkQBkSSbNgKOxoORxEwaHKcw3YDW4iGhh4zhM/39tpL\n",
       "Lcic7jPXsMHpw2c3ooaUXJ3L5VIoTeIDWxUbsoNc3b1v6Dcz2LqiyQ9zb9cEK/2xniMDFNoCdp15\n",
       "udsQOAqAbZeuv+1S8uO/S3LfODlQ7Ts/aubKyStX/rAPfua0zlFb1MP3kOYEoqlXTC/fmoZ9Jpvp\n",
       "HzNcHO59dNl+V5UzXc+RAfjJ65zxAfgWaGn3qRTVRzflC1SsraG9iEMlITTtKmOEOkBdecpVugjl\n",
       "xmLdc6dnTeEN8BOn7rGVrF/5EbanlP4q5DfpedWSMzudHcDM1Dd8FQ03vLFSW28d4Cer3BuRLVb5\n",
       "U8jlNOH1NVyd+iryYM8AdawNgI8c5U1MtDWU9/+fkf0q/Lju8z8z0gbAW7z+Z4J+/2ildn/q2gX4\n",
       "J0Wr/4X/xf81C+9vEsX2H9sTZopuVDYJAAAAAElFTkSuQmCC\n",
       "\" style=\"display:inline;vertical-align:middle;\" /></a></dd>"
      ],
      "text/plain": [
       "<IPython.core.display.HTML object>"
      ]
     },
     "metadata": {},
     "output_type": "display_data"
    },
    {
     "data": {
      "text/html": [
       "<dt><a class=\"ProveItLink\" href=\"../physics/quantum/QPE/_theory_nbs_/axioms.ipynb#_psi_t_def\">proveit.physics.quantum.QPE._psi_t_def</a></dt><dd><a class=\"ProveItLink\" href=\"../physics/quantum/QPE/__pv_it/axioms/76de7e7071b91f042f672b1eff2dcdb49c12091a0/expr.ipynb\"><img src=\"data:image/png;base64,iVBORw0KGgoAAAANSUhEUgAABKsAAAAyBAMAAABhdkUjAAAAMFBMVEX///8AAAAAAAAAAAAAAAAA\n",
       "AAAAAAAAAAAAAAAAAAAAAAAAAAAAAAAAAAAAAAAAAAAv3aB7AAAAD3RSTlMAq1RmmUTNIjK7EInv\n",
       "3XZ/CtNrAAAACXBIWXMAAA7EAAAOxAGVKw4bAAAOA0lEQVR42tWdfYwctRXA337O7Oze3qJ+qFAq\n",
       "tgLaqIHL5Q8+VCFugYOilpBVkdo/WilLghQloLJIEZBCexuEWiiBOyioQFt1QlNalIRbaAOBiNyB\n",
       "qgTSplzoCaSUK0tQykeBhISQ9FBz9YztGXvG4/Hebu9mLMXejD3en/089nvP3jkAhZBrQDvFHoQo\n",
       "BePhoJy4cHYmlTnCpuljpvKtn2mrWKI/UuKCuwMaGhfODqUyV9gk1fep3photlXsi9GSFiQnxNfj\n",
       "wtmZVOYMm6Znq954blvFUjV6QX3g/n/DE8KrceEMl8o88z/Bp/mS2m3arraK3VonFzZcNh0NcfUI\n",
       "V7u4cIZKZb75KTZN/654W6utYv90rhQjIq7kbtHVuHCGS2We+Sk2Tc9S0xEvgHaKpcYjJy64RrQG\n",
       "xoRTQSrzzX8Nn2YrSnf9BdopVmiGNPdieTUXd6Ohj5pujMKyur9IXDgVpCLkT5elt4dkq2Abqz3Y\n",
       "JM0cU6lD8VmgxQ6aIc2Va3TpUjfEhZVYR5XNCiqNC6eCVIT8F8nvv6hzbMe1QLFperXSIq7WVlps\n",
       "b0hzz+3E6tTo/Lo2ZP1ezMRo1ReAzAlnpu/STjkVpCLid+3cEDNYiL//bRXsVInHpukiFeVquKHU\n",
       "TlJMPy5vri5XS0OyU0RP1c8OIc+V3RhN1yf8XzQnnAUY7ZBTRSoi/vXyDpJnZ82sCjbcx2PTdFTF\n",
       "xjtVrZ2kWGJc3tys3Iknzk7RPvyAajQ9IcPK2O3GKPzaV2BuODVY3yGnilRE/NfKbxdnn0/SzVAw\n",
       "FbBhs8ljkzSn4td9Xq2dpFghZHIOmSBp9qYnTvGq19alHlAcVkR3oBrEgE8XniNOeKBDThWpCPhD\n",
       "llMnm+e3zABj+0nmj6CnoYJNFUyKTdKUgs6uH1HT4kix4X65uP4hr4ZmV2CJN8u69CjAmsHBwWr4\n",
       "sBqquzGaln2OxjniTDc65FSRioC/Rz7ZOtl+/jSkJ9BsVVfB1o7x2CQ1FIZMUclcdIodrEubq8uf\n",
       "Iif7KAx5BWJdOiOlOlvlmm7Mz01zyvlssUNOFakI+Ifl/eNk+/l7q9rxLGSVsOGXPDZNFRa43DhW\n",
       "EthODSwG8CvmWt4/IhMjKKoHVmNnW+HrdnO1N2ZmrDqy/eTSmvPIre8/ac+2oF/nPt9ctdjbSX2e\n",
       "/tV+bjizM//tkFMqlWD+k0HKfzII+VdYKKZ2XNt/nhI29clSbJoqqIgFuwfzVbZNjaBiAC8xfX/q\n",
       "J76zG70W5tbAanrdVjyH/m38fb/9VGT7nUtc+C7ccLNrKXPVaofdGOEf8t4aF06pVIL5j4CUn1ml\n",
       "WP4VGGJCFRuGyhw2TccA7Hnr9OAGjFaYYYUtx2QlqBgYH4fYxXUMmN/xDVE1w3XG47YJzOIPUXM3\n",
       "IXEZTd9GPbrUgiY0uXbfbdJqJ5kYUke9pkxMOOVSCV6kj4GMXz8Gfn7EuQJ9pl5OJeyeCodN04Eq\n",
       "2P66lZIObjHDinzJRFAx0EM8LwMEcDlsqQuqGXA+rTVhfR1yOuJeX8/267t8LlB0qaWVocW02/js\n",
       "9Salu4yJ/Vhx4ZRLJdhvdkjKnzok4EecK6zP2sPq2Okah01TRLfOmtJGJKZ02R1WBvmSJ4OKQfKw\n",
       "vDs+jwFTE5Afcau5isu2J9mKZk0IazMlZ3Ehl9hQKkKyzD1O1pYMrvYgEzuT07+37zDjwFncvv09\n",
       "EZbDv6gsxU/UpPyJmpjfXgTXwE3K2MVDHDZN0VyaRSXzEsiBhjuskmSVXhtUDFLHFdwtWyFXslwn\n",
       "TjV9Pm/M2jtut/rvysy4Iy5yiQ2L1+nfAl+7cbWLGm4M8JEd32OCcSAGnDoaU49X/VQu/4DccYFN\n",
       "skB+1+Dk+a1hpT14xzeVsZPHWWwn7S1BCnWFzJzEljgeVnnqY64HFAt1R3yKAXvRnHvYraaPy96w\n",
       "pwIvz8xYH1fDPkdc5BLn1bv+paq/3bja4bIbA/zHltYvUPRYNfKccCfKMfyOVIb/oNyv1NuU8uNs\n",
       "P781rAozM4eUsfXDLLaT9qLVb8/UlOzoy5hJhtXjl6Bh9QH+vmZAMciHbJYSCwXNkvoRt5o+NtvY\n",
       "c7qiYx/gQvY/tN24Wuyao466nbYmkK+DUXk28pxQeRpZZ3mf64nhH5P7pbClGshvZyvwh2JTx+dO\n",
       "4NICWmQvB/D/lMgdN0vpsGqeBb+lx0lstS09ZYcSUwzScnFhu3QrDDVt9W7C01w7OzEBQ6aiuO4T\n",
       "tRtX29tyY4ApK3obnoaNtrETbc5iPV83Kobv2WX4l8q/GRv+gfx2tgJ/KDacYLDdtAcVuQE0v2/X\n",
       "tUlPw7NQVS8vgfOggK1G/3GP04gyKHe86Iy4PnWr6WOz0aOUU93D2Cds96XuRN9LZPO6rYJC/qcV\n",
       "SESeExFuW0NcP5zm7/KfFmIolqX8drYCfyg21gYItpv2IE0tZ1qKE1l/tcmtcEFJNKwM+Buaw9Jg\n",
       "WAJZFzKsemfYYF0btY2PzFEyOTchc4JUs2Rq6q9TU3ud7GF0R5u/VRqtce22q+2tuDFpb9PeIs1L\n",
       "OY1P5p8zjzdxm4IlhPKT7ubwZ9yvWFaV8tvZ6vy4T0TY8HHgsEq2LI3dOhd0z8kPwJfzZtpkh5Wz\n",
       "CCKTogmPQ9LiXuj76rBFEDvO6CyAoCwTf6FoFhj+6k03me2JC1futHuhX1xTeArWtjfQkyFdBCfn\n",
       "nxMR3rKNlYGzhDj8gYsg/go6WwXw29lt8E8GYdNhJVgEoWZpZl9Brbnc8re3Knn40+DkILUBxqgl\n",
       "mK5pZXhPe+7aBnGfcroVLibanhItLrkRSE27Xlh+cWnB7ILT7pV+nWUnFsstcACLJdKcadCaxapo\n",
       "WDn8Y3WlRTCAHy+Crc6xqW4lUNnhydXo6Xh1G7xlXVlw5o/znG51kPqt0iMpM1OFbFnoPsXFoCj3\n",
       "B2nEwkqNWw5ap5o+Nju929nWnF27cbXYGKKbd7bNc5vehGL125Hn1Mt3ARzI+JyJDP9Bud9qqF/K\n",
       "b2e3yy/CppuLz/P+PNsvdqsVLQfDLr4g/8j3uGHluEMzu/JwDqpP7D4Vu0N1R2chq/QJAvgKbG64\n",
       "1fSx2cbr53zQmq24rKcYVzvExGSyLlot29+MPCccQIzFhURTsjUbO2L4Pe7Quzz8+NhvIL+d3S6/\n",
       "CJtukdMdVpLaK2TCQpyGjD3+FkDlXW5YLapSd+i6Zz5EtX7fWjsFmzd40Uzye6W+zfM/E8CNO77A\n",
       "VNPHZaff+MFsF5eTXr66n1Q7XHVjMLDFYrkTN5jR58xZ7tBTqKY06ag3Lv8i3gfvffdNoSLlx9lt\n",
       "8ouw9aMstpOOUlMgMw6pVQ89dB8aVpuynN8KH6O0vey3WZ/eNBpwhmA1x5Oi5yzpnd5iq+i4t8IZ\n",
       "PnGtgg4CXy0+FkwOB5M90NQ7cE8cOOHChv6W4E6Xf5hzDehepSQ7IuXPjnQJmxxeFmw141As/UFv\n",
       "4tkq08c7bCvOsLJ3P6/Mm/ZT4/XrVvjpEIfPeYtdwQI61VzFZXcqLlztc0zs7Cw/8uHXIA6cRt9+\n",
       "oZHm8Pdy+nzCu3+YHpfy4+wuYJOjWRSbps5GeLr1LPa1I+3pTd5irTnDyh53t58PRk1g2JJrr3Ka\n",
       "bw3WXMZN0AOmCyioZsDsXFyk2nuZWLAFGBfOID8Cx3QjePhT0yDjT013CTtX4rB9J8/1SxqwFikY\n",
       "+qt17MZ1n4RxZ1g5U5vAOUt/IMX9/CtdRWbDGPsojZZdQEE1o+XOxVVkbZQjQc7/uHAGhAQ331wK\n",
       "Hn7jMMj4jcNdwib2IMWmKbcHYDzzkODnR3hkF1mdNgFBxTzP8aOQqEOB7YGcNXm/E1hNrtKBuLhq\n",
       "8YsA6OsACiPS+SbCnAGBm2/QBOLlvx+k/Pd3B5u+dYFiC06eyz2DysWG2ef4YihMQ4Kd2FPyVT01\n",
       "Dl0K+ZobI3O4JXYYRp9TRSrpso8/5C0/F3QHG57isUmqqZxxnf3PT40Ja5s8wbqIDPlhbeNot8RV\n",
       "KLtx2M9Po8ypIpUt4OMfrUrvDslWxYYXeOw2fn6qavVc4Tcy8vbK28PpC0/Ja3mqW+J6n4kBvuTL\n",
       "jwunilT+CD7+fE1lsukUuzjOY5M0ofKztGVqI5sUy5Dn+EzHa8qf5i805E9Bo0vieoF9msA/K8eF\n",
       "M6S7k1YyIeB/UX77i13BppPsCR5fabexR009pcXwL32K1qbjh/bHvbxWIn9OUrXuSKtYc2OxQR0X\n",
       "Tnl3v4/uLLYE/B29R0kRG/7FYwvNNiWjI7wYrvNnYw16htRj3KyQV7OiO+LC75ulb50VvaIrLpzS\n",
       "7tY3HaeTrYc/Kz+hl+3vAjZ9Ky7FFrziTBJm9ZLH0RJ5ydNiT7Etcq10S70b0jJecWOQvuQx8pzy\n",
       "7jY+oifOPfzGa/Ivfq1zbNhS5rHbesmjqkuZFCOzVvoYfv1Gsun87AwHbbW0lpBsxYBP0zpnau8N\n",
       "nl0jzxnS3Uvr+Giwj/9GudRuNDvGhp97sEmaU5tzs822iuE3cmkf41OEd5GtRDfcLK/m5m6I63dM\n",
       "jB4f4TIeF055dw9V8C9hfPya3KjQGh1jG1Uem6bL1EasvqutYuvxVPgb03qetcnBwQmY59BTFl2N\n",
       "C6e8u3PT1u+H55WfYtP0FcX73m2rWBHrjsv2W7ZKz8zMTG2+xSX+ox9x4ZR3d+aEfVBlPvln+cdJ\n",
       "ZvenlLI76xCNkAno77hwyrv7upURwabpd5TvXN5Wsaw9GSY/ioi04CcBa31cOOXdvagUEWyS6uq2\n",
       "zKz+TOXKiEjLCGxnXDil3Z2tRwObpvgvTPwPsu5yPDN6GkYAAAAASUVORK5CYII=\n",
       "\" style=\"display:inline;vertical-align:middle;\" /></a></dd>"
      ],
      "text/plain": [
       "<IPython.core.display.HTML object>"
      ]
     },
     "metadata": {},
     "output_type": "display_data"
    },
    {
     "data": {
      "text/html": [
       "<dt><a class=\"ProveItLink\" href=\"../physics/quantum/QPE/_theory_nbs_/axioms.ipynb#_Psi_def\">proveit.physics.quantum.QPE._Psi_def</a></dt><dd><a class=\"ProveItLink\" href=\"../physics/quantum/QPE/__pv_it/axioms/49753eae3adcb021158e8a9c66de5119b10ecbde0/expr.ipynb\"><img src=\"data:image/png;base64,iVBORw0KGgoAAAANSUhEUgAAAJgAAAAmBAMAAADKLE8XAAAAMFBMVEX///8AAAAAAAAAAAAAAAAA\n",
       "AAAAAAAAAAAAAAAAAAAAAAAAAAAAAAAAAAAAAAAAAAAv3aB7AAAAD3RSTlMAIolEdjJUq7vv3WbN\n",
       "EJlNEWA8AAAACXBIWXMAAA7EAAAOxAGVKw4bAAADIElEQVRIx42WS2gTQRiA/91s0mSTTUJPBZUG\n",
       "pCJFMdeemoMiqKULgkEPdvUiBdFcbD0IRkHFB5KCGj25vWnpYUU8FARjDz4O2j1UxAekolK0l1bb\n",
       "IpQW57W7007KzByGzOSfb//3DIBkZB1QGdY7FalZUBvHfLlMuqEIS1fkMkd9RRhclYtMCjttxdaS\n",
       "n6SfTawqw7JSO82CsGVsooG2IIMNCCeTb35tkiyXAfLhIt5C4Ly4pRO+xm/ZZJ4A2B590xZPrsAm\n",
       "PtN5z10hc6dDYKeu3x9Czp4RDsaxH8qP68M3HviZ8Wtjr289gozDwUpkPkP9O0M1S9Xw7IqZOI/n\n",
       "3ipAj51zoN+DwfUwGh+ThrOBYIkuMF1o92CHaBLJ/04U9LTzETAsCUnOTItqphO+MY81e4thYz50\n",
       "CLBUJYBZpS0Epvs8LEHdrFXJYgnD9tima60BZPIbYbkCg22D0mECS+fb7AimM7mXxMHLGPbCMd34\n",
       "IkILGZrzGOwJWfbjZTbPYNNzCHaA/HGS2LyCYWc9042tBBHIjpFRYdEmMG00gtEKQLDCIHyBfj+K\n",
       "wCKGNWdM11hCq+9CAVBY/cJCBGOpW4w7v5HCKWJjlhj9B8OSNdM1cdzKG2G9RWbmNxFmwR2UGVmw\n",
       "UPrEiR1rGGa9N91uPzC9hWYVOBHBMoHPUEcpwDQkGoG3CQyMi/VSGBTeZyEMIliTaYaSVHOgT+ue\n",
       "tNkHFmkFmG6ULvzo9ETY6RBWTfuxIqmIDlbIBJarRYnMjyZReKDKwdrHuxgsNqLDU3QWOYjUjrZM\n",
       "C33q31AY4HUVgGu/PFU/hxex2Yf1nwCvAs2gvHMvMq8nyKn4X64FseLnR6YqtqDVEAZH8K/9lk37\n",
       "DQoIB7sk9vWasBWrRbA+/OsHKlcaYJeDWeIVmRbvE6PyIYSRhDj+DL7S5lrhYIYnXvrLorKl3SGs\n",
       "xPYOBoW8L2peLe6A22LznSNdw+B7PE2d3rzkdpoA9bFLJtAsqsPuyQT0hjLLqElF7irDUvKH3HNl\n",
       "2CG5SMZTZGkjCs/LUUXYZ5Xn6lbF195NJfVttQcyzqH/HLHG0BMnwbEAAAAASUVORK5CYII=\n",
       "\" style=\"display:inline;vertical-align:middle;\" /></a></dd>"
      ],
      "text/plain": [
       "<IPython.core.display.HTML object>"
      ]
     },
     "metadata": {},
     "output_type": "display_data"
    },
    {
     "data": {
      "text/html": [
       "<dt><a class=\"ProveItLink\" href=\"../physics/quantum/QPE/_theory_nbs_/axioms.ipynb#_sample_space_def\">proveit.physics.quantum.QPE._sample_space_def</a></dt><dd><a class=\"ProveItLink\" href=\"../physics/quantum/QPE/__pv_it/axioms/5625eefcfb050ef65b8087a6c51183ba94f224dc0/expr.ipynb\"><img src=\"data:image/png;base64,iVBORw0KGgoAAAANSUhEUgAAAqEAAAEaCAMAAAAWmX5HAAAAh1BMVEX///8AAAAAAAAAAAAAAAAA\n",
       "AAAAAAAAAAAAAAAAAAAAAAAAAAAAAAAAAAAAAAAAAAAAAAAAAAAAAAAAAAAAAAAAAAAAAAAAAAAA\n",
       "AAAAAAAAAAAAAAAAAAAAAAAAAAAAAAAAAAAAAAAAAAAAAAAAAAAAAAAAAAAAAAAAAAAAAAAAAAAA\n",
       "AAAAAACPpJ+zAAAALHRSTlMAVJl2q0QizbsQ3e9miTKFr+Ew19vjQMHp0dXZ5XCl96mRfPmXXmCh\n",
       "kyDnUOZAw78AAAAJcEhZcwAADsQAAA7EAZUrDhsAABIaSURBVHja7Z1rt6u2EYYFuoAE0snJSZM2\n",
       "bZqs1Sa96f//vnK1wca2jIQA650P56ztvY2G4WEuQmgIWSkyIxAvsU5yAEUFP6N5a1uCMU9Cg/3R\n",
       "xsJtKU9n3dwyIJYKoQ2iSpzMuBQeNCVCW0TPZVturY/bX7wfDQidZvkiDKGhqoWzxUxltc/X9VLm\n",
       "XQZA1O4hmxB6sYYfocGqBWntmVyIpwtdJjTLI8XNPWL1u9/kLMgpBfR85amcKLMFCU4oUSD0IoUI\n",
       "cUohq4Xa0yvFDvJ5KEJ5ff00A6EjDjrEKfGQUPFThXlraShCs+uRRAlCB/n6fYhT8qwW7hLRLHVC\n",
       "J6EtcUL1NxPg8DxsXLa2PhOh9RaEZhqEdu7qBxbi8L7VAgi9I9S/VvoMQtkPIsThfasFEHpPaM5B\n",
       "KCE/Kh3m8J65WPKE5qqVqur+68OaYSCUkJ/+LEHoQX3oNRGN/nzHxxhBnkY9+oXP064ahAYm1LuY\n",
       "P6sPnUL5l5/JFFJ7FKRAaIgJ0XMSOvOZ9V/5jFkQuk7ZL1sQ6v9Q6YyE3qQmf/tpzu2BCP2SPKGK\n",
       "JEjoDaD6FzExsyehXxImdIsoH2Bx0+kIva3tZDG3sx+hf0ce6k/oZOVIKRIk9OYjxl/9BQiNTOgj\n",
       "95FWLT+KKUMeHoSGJZTWIFSKoIR+AaErhS6tNGQEhIY9fMKzTd99d9DFrCB0O6QOe9FPdTuB0O2Q\n",
       "SirKg1BEeRAKQkEoCPVGaNvX8UEoCN1rTBD6UtkvIDQ9QhN6Lg9CT+hHEOVBKKI8CAWhIBSEglAQ\n",
       "CkJBKGp5EIpaHoSilgeh8KEgFISCUBAKQkEoCAWhqOVBKGp5+FAQiloehCLKg1AQCkJB6BHGxFsg\n",
       "IPTghOItENTy8KGo5UEoojwIBaFrBDs6rJfN+st/DqEB+svDh66X7frLfwyhAfrLg9DAhKK//ERC\n",
       "9JcHoYEJRX/5iYToL4/dGYMQiv7yS/JLfrxaPqndGdFf/sU3f/0xCKFYORKWUPSXH+W3IsjhkYeG\n",
       "JhT95XuRvwoQekhC0V9+iCW/ERB6TELRX76VH/8hQai3sgG6Jj7tL59e9+7Lkcif/hno8Fg5EtyH\n",
       "eiei5/WhF2Jv2UUtfyRCU+0vP0Oy+n32AaL8gQhFf/lGvnydfwhCD0Qo+ss38vX7uWMFoQciNMX+\n",
       "8rflkq6nZgahe9byd4Siv/xdg2iLt0B296HoLz+TsP3lUcsHIPSh+0iplr9I4P7yyEODEor+8sH7\n",
       "y4PQtYL+8u7fBKEfpSwIBaHHLutAKGp5+NATEYpaHoQiyoPQTyYUO4uB0A8dE4SCUBAKQkEoCN1M\n",
       "DvtyPwjdDqmkdnQAoSf0I4jyIBRRHoSCUBAKQkEoCAWhIPSlslg5kiChWDkCQo/sRxDlQSiiPAgF\n",
       "oSAUhIJQEApCQShq+dBj2rCCWh4+NNiYsmaFKsKOKZQqX24HjFoehDqMmRUFNXKDYSXXiglEeRDq\n",
       "NaYpcrnh0KZgEoSC0PVj0gBbUT0XrjgIBaFrx2T59qPLogahqOXXjfntjyjj/6tELQ8fumZMlkVS\n",
       "QGvU8iD0/TGpjqZBmSHKg9B3x5QqngYPxgKhIPTJmHkWUYXlrVdnV+nBpIIBoYkSKouoOqiXV0kv\n",
       "z0qVBoSmSWgd10CLT0BdCH2juwV2dPgoQksZVQeeryT0jQ5B2NHhowgtIiuhXiH1iFD3LmuI8p9E\n",
       "qGCRlSjW+lD3TpXJEqryDySU68jGWMoqnAh17/abKqHSFh9IaGYjG8MaF0I5ZVJoWlJitC57Zp07\n",
       "pifrQyX5QEKljWwM6xTlNSkZbbWrm5+y6r1aCStHPqpSsgdQ4o5Qzolq005h22aq9fCdYabqZbTH\n",
       "yhEQGpzQL3NCZeM9eZeDtL46HzIKw9y8Pmp5ELq1Dx3z457NakhA+0Q0K0AoCN2fUNZxqFomuRV9\n",
       "2tuGd6FVoQ0ITaeWJ9FreTdCO7/Zh/oGVtH+fpgQLbKIF/1cPvQj50PXKrLaGG6Eim5Sqi+RSk26\n",
       "8D48VLLywwhFLX/GKM+7mSXa3QY8p1313k828eq8Fx156MfU8ksyLG6ijEjkoSB090rpXob3pXNK\n",
       "tAShIPRwhI4rrU1eGwJCQejhCKX1+S86CP0IQumyi2QEhILQQxD6wRcdhH5ELQ9CQSh86DkJfW/z\n",
       "N7E3oeL9P3iH0M2sEYVQehpApbWu71/R9zY24HRfQl+re6/hG4RuZ40ohOodmctySinjjn9trHV8\n",
       "MdXxFQOhdd6/lEDroIRSluesv86CKWsZY2XZDmGYqqrmJ1ZUVT1Xt/1D1W0Lxipb3EFyp6E7oRta\n",
       "IwKhyrLd+BRF9yKWLAq3txBq6+irxvlgqZ4GLNk+ect6v1zIcISabpkZocoMN1ZnYlF1WvHB4LLU\n",
       "t+pqO9yr893BhrO41dCZ0C2tEYHQ3Ba7EaoqOURvNx2Y692UDybKnq+coe3lGAav82CEijFxor3L\n",
       "F4PadReuxp+IZLfqFuNh5lt8D2dxq6EzoVtaI0It30ROuROg1OYX9FzuuiYNdcwHxgUz+fO3tXjV\n",
       "Hm+4PSoZitDisl5HqSmhxqopoSS/VdeO75DPb8TxLG40dCZ0S2tE8KFNmN+rVCovZ0KdnKN2daGX\n",
       "NwuUQwKWDVpMdr0eW128sevA7ID6eg/SCZO8u/r9T7x96fFGXT5eCTlXezyLm325XQn1tMZzY8Qg\n",
       "lFu1E6HFhFAHFoR1vbHz7lJwVtqSvbr9uBqU0Ff8RZ9ADv+9Syi7TjiYCZPtHZZdfqL8Vt3298N4\n",
       "9eSXk7PQbBWhntZ4bowYhDaG2amavw6cX/14ribCZvVC5TpPV1wSr5c5DmVsxGKSC3eX4w1AZxeq\n",
       "uOYizU11YVLSvnhvPmsq+Wm+MqqrqtvwPz+LulhFqK81nhojCqHNTc93IVRcCiT1OheWyn1bNzU4\n",
       "sdylABuq18tGA+NVeQfQx4T2mafSWo9zkh2vouR36spLEnOTho5nkVWrCPW2xjNjxCG0r+J2caJy\n",
       "Xvw+nWlyB6bid4mXLCaueX6kqtfCzOtx9RDQV/0uJ1Ge234jg3J2X4556PjsZlB3TAGJoItp6I2G\n",
       "xLXxpr813jXGBo8py51mnIashxZOONdvEipfxQZj+oIt60tZR0JfV0r59davHxAqGw5EPVP3koZq\n",
       "MZ/B4Jdie5UP9bfGM0IXPgu/4WejwC4TTpKYHk0lro+CH+ahTbLqiugQ17rE69mZ9RNtwzXJVKAo\n",
       "T8r26vLsklkuEdqFBTNTV9vFIH89i0z5RPn11tg9youq2mdGtIk6XXtIkRPiUqwp13y5pJfEK3uG\n",
       "WcUmca0uA1VKDYOaZFzS64z9MqHFXN1xQn2Y3pGTNLQ/i7pcRaivNfavlNROhRJhddbtN8F15vQM\n",
       "g9vKEf2eAcaaAvppbltP0r9cB5ptap/mUtquORjiq5k9MjMjobqaq0uK1ghiqKYvz9muZ5HrVYR6\n",
       "WmP/2Sa922NPbfu1SrV1XGBVOZ666UOUKF/1HeB5no9V9aSV6jjlIop1hLatXxntHuGYBrnCWnap\n",
       "doZ1JKysLp7VjBFVlyy/GGJMva5ncdPs1ZVQT2s8N0YEQt0fJe4vzmsI1PupuvB6brFIS7tQo1yv\n",
       "biafa+j81HNLa0QgtHYNnQcQ7rqGYMUykLwOTigrTK3Wq6tfaOhM6JbWiLBypLTlaQg1zv7+7f7q\n",
       "ws8Ky8syXbOXRXVvk8Y7Dd3Xh25ojQg+tNp1BfPbGYnjuct3gStFeEJJXrH16tJXGroTuqE18BbI\n",
       "2nMX750V9XxRyfctkNfq3mv4xlsg21kDb9KdRFm86wlCQSgIBaEgNBCh2NEBhMKHglAQCkJBKAgF\n",
       "oSAUhMYlFJ0WEiQUnRZAKGp5EAofCkJBKAj9KELRky6EMUDoZsqir2cQY4DQ7ZSVBIT6GwOEziX8\n",
       "m9gg9PB56GEvOiqlsxIaGCnU8p9EqEQtD0IPTWgW+4WJ3IBQ1PJvjMl1ZGMsbUgIQsPIR86HChbZ\n",
       "GAWi/I2yWDnyfMzY+8eoGIRi5cgHEVrG3SSO59sjhUrpowilcQ2Uc0R5EPrWmDJumFcEhILQ98bM\n",
       "Y274vuyxQSgIfTJmTCcqFQGhqOXfHZPG24erzOIQilr+owh9xE140ToKUojyn0Yo+fmPKOP/u4xz\n",
       "lUDoxxFKWIRAL0tKQCgIXTmm9twO9bVwxQkIBaGrx+RFvuXDJVMyQUAoanmfMbOioJs4Uml0wURE\n",
       "pFDLfyahDUo1K1Rhw4pSxctnAqjlQehuY+5xlUAoCAWhIBSEglAQCkJRy4PQfQhFLQ9Cj+xHEOVB\n",
       "KKI8CAWhIBSEglAQCkJBKAgFoacmFLszJkgodmcEocf2I4jyIBRRHoSCUBAKQt8xo4uAUBC6G6Fb\n",
       "3wBYOQJCkyIUK0dAaGBCsXIEhG5GqBSI8jsqu/iKogGhEykNCN1RWc2fXRMQSghniPKHIzTLQehF\n",
       "ChGC0L+jlg9J6PJGwmkSWmtyQEITquUnhPLrkXQGQgf5+v0RCU0zyk+6t4kShA72+WaCEIpKKSyh\n",
       "k+QrbULlD4yA0CMSmmkQ2gr7QYDQQxLqXyt9BKHmmyYg9DC1/IzQnINQQv7zX3lMQlOr5XPVSlV1\n",
       "//WJl7nOU6+UXYxhQ2jr8vm7gigf2od6J6Jn9aFTLP9XkSmkPj6UgtDAhHoX8+ckdO41q9/7z7wP\n",
       "r2wOQsMS6j8hekpC51H9y1cy+3j94ZktQGhYQv0fKp2Q0Nvc+fo4qf/N+sNzayUIDUqoIukReguo\n",
       "rmd29jolFTQRTWpHh2VCAyxuOh2ht1++aVjrRyi3lTzORT+rD52sHAnQHuv086GMhzwlbRmivC+h\n",
       "D91HkoSaMuwpsYDlPAilNQiVIvAp0XBeNClC6VJGwwgIDX9KIgOhh1IMhKZ30ZeVxY4OCRKKHR1A\n",
       "KHwoCD0UoUddrgVCQegJBYSCUFx0EApCUcuD0M8lFLU8CMVFB6EgFISCUBAKZUEoLjoIBaGo5UEo\n",
       "ann4UBCKKA9CQSiUBaG46CAUhIJQEApCUcuDUNTy8KHwoVAWhOKig1AQCkJBKAiFsiAUhIJQEHo6\n",
       "Qv036rvbn8iA0AddzYOKh92T2p1xYW+x0oBQUsitlfWwe2JR/s5SWQ5C+2Y9uq6zeIS62z11QkP0\n",
       "7j47oV3Ds9xM2kptT6i73ZMnVGfJE9rBUhb1hrHew+7JExqgd/fJCe0DrqlsJSIS6mz3xFaOLOzC\n",
       "XIjECWVt0SIkEYpGJNTZ7omtHOksJWneHYd1Yc2/d/e5Ce338VeNYbTZltB1dk8xymuSVc1/tQ1W\n",
       "K52Z0LrznHW2ZSnvY/cECTUZyVvrsGJSyqZL6PaToX52T5DQ5opUrd+ohrQrwCTLiQkNUiluafck\n",
       "a3neNp4Udki7rglRmI7t0YxxAnGzOwi9JbQLNtSGK+ZP7EMVieVDV9o9SULLNr6UJenmqEOEufMS\n",
       "yvOIhK6ye5o+lLUz1Jp0YSbEQ6XzEspMREJX2T1JQiXTNBOsb1GnSMqExgnyPnY/GaE0iKWmEmRx\n",
       "02kJrWlMQtfYXVqbnYdQ5d1y995SpUiZ0CiToV52F9aeaAUzs0VoS4Xo3X1eQuNMhnrZvbbW8S6q\n",
       "9TvpgHjs7IzO19643FlbZ0vROmVCdbYXoc52Z659wE01DKXpk4lWqTXr1gUs5TeyHu4bvfohjvJN\n",
       "RO/6dwdatLvnbLhPUIp1O622e5OGPn04aigry+4vsuKSWfPHoaH1nO20LFV5dn8sOpRv2erIym0l\n",
       "CSQheeFC8/yC/kBV1X5gHya5Le/dU63FqYTMm1CiLcNVS0i4nZFU53Xj6FiTI/Rv4k1zhZ4q0eWB\n",
       "1cPspR6euy7nwQEIbe6pHNctIUBn6/5lzauGyarxUrT1VHIazfsc0nSEqqdZrlbdZFf9mFDuM01M\n",
       "4UUTArScJXVC0hbDNkjnbTXEJ5CZwlwJrZ6VK0a1fjSvxWNCSUE9skmR4dIlIveXmtGhaFdZ5zbL\n",
       "TrJ2KV+/cr+P8s8m+cWUelOOImaEZgWF+SErpK2DaNmC2O5aYqbTSpS5VErdPKh49OuRUFHB1JBV\n",
       "TtUOfrQuu3mjqTscqhvazjZdEkGpx38uHtQY83BCPkSlBEk6MW3Ra9eVCkb7FXzmltB2xv5KoGkr\n",
       "LTMpt6onU8lCF1ZTEAoJKFK3OSQPTRUIhWzgXxUIhRxawpXfpsB8EWQDMYG4En1y+38plBcvQQRA\n",
       "8AAAAABJRU5ErkJggg==\n",
       "\" style=\"display:inline;vertical-align:middle;\" /></a></dd>"
      ],
      "text/plain": [
       "<IPython.core.display.HTML object>"
      ]
     },
     "metadata": {},
     "output_type": "display_data"
    },
    {
     "data": {
      "text/html": [
       "<dt><a class=\"ProveItLink\" href=\"../physics/quantum/QPE/_theory_nbs_/axioms.ipynb#_alpha_m_def\">proveit.physics.quantum.QPE._alpha_m_def</a></dt><dd><a class=\"ProveItLink\" href=\"../physics/quantum/QPE/__pv_it/axioms/c1601e95111031655bd293b12854febe6ac18c180/expr.ipynb\"><img src=\"data:image/png;base64,iVBORw0KGgoAAAANSUhEUgAAASYAAAAXBAMAAABUu/9VAAAAMFBMVEX///8AAAAAAAAAAAAAAAAA\n",
       "AAAAAAAAAAAAAAAAAAAAAAAAAAAAAAAAAAAAAAAAAAAv3aB7AAAAD3RSTlMAq1RmmUTNIjK7EInv\n",
       "3XZ/CtNrAAAACXBIWXMAAA7EAAAOxAGVKw4bAAAEC0lEQVRIx7VWXYjTWBQ+M23npkmTVh98HLvs\n",
       "4ovKFPzBQdDCqMiKbkX2QfChsMLCrmhFQca/iSCi+NcHxaksElhwEWFnHNZFHB0rsuiuKFEUBBlI\n",
       "FUR9GAoqjgrquT9JbjKtmbV64OQmuTf3fjn3O9+5AF/EShH9RLRm6BP/O0WMIvCFzMhGDHgkoJX9\n",
       "V+e9C7Mkwk043DP0xbctYpoZ0d8+yFst2wDTN7/9OxWH5PH2MfeltOvn1iCpxYgBp0WrQ6M4par0\n",
       "aqN3WMz3hEL6ORbPRQzoEe13EzG1XwDdhh05GMLHWJ45haZlW8OUihpQFW1/gzhtoJhGLeilz/8x\n",
       "j+E/drRIpxlRdCo22GMX0xVTt9WXCILm4E/cb42O3mwR0wp6GT5nNt1bQXEjB4naHyOnlOHjPqbF\n",
       "Wd1W3os8OMd9OcDJ8CQLGxNkq/yg/GW5t/TvdhXU60TmwMpRanfobUfOo7iW7ISBeTDLx9SV0+3E\n",
       "C0Hy+dw3A8mE1lZw/7WRwUBqDU+xYJH3+DvuguZ9dhf9NsAxw2ocJz3Lc3s1wI96GfocWOxjGsjr\n",
       "tjEOXAFmcU9aWkGCU6sU2P4vgrWB8EPcNu65cVDGbJ8lAP9gfx1gmdYsB3ABtc5WtQYK0GXBMh9T\n",
       "sqrbOp2KKsBR7u2OTPElpuDkDUjLBSNdIOMsuoK1YUwplJNLFz+BiY6mktgFFNBNH5O6XrcvW0J4\n",
       "1wkv4pbEeo7UjG6TspBjIm8hJbMjZpFxKW2CmHDvBrAkXMnC3AVjmcf9YT7h3pHLv5pMOqcBPITE\n",
       "a9XXTGP6VccV7tnCh35BfqzLpTJGBs5wAEVQ3oIeJLpmt+dzMqaEF7ZTGEec9hKo867BVaiF45TE\n",
       "zg78w2SJRkh9BW3FLZKO67ZXC7uF70Subn8CaRNTdg2bY59JMaWcwMSHLdJTkjHBRpfSmL3xMsR+\n",
       "UMifRRjn0hD4HVwhbbF0RwbE6pAcHJQwpateLVwhvI1SqBMO0RDPr1QqWQVTDPcuHVB3wgXjAA6o\n",
       "lDimGS7ow1Se5jyPj0Cbgzl7N4xJsTlLkJAYXCMPiVUlqQZvejPVrYX3hTO7Ac+gT4GDXNsyEziO\n",
       "2rRNVmZchVS9XPfUMmUaZVKfIJ4PAGoqvh2CpmcVVguJzZ1HoY6R6o6jMLi1YIyqCcBZUJlOkf79\n",
       "34cw+RynpZNbH0YqVs6HMc0FWKXh1L2fwHRCFHOvoCcySPvNz3FpF5M2wjAcKinXWQA+fKhLG/n3\n",
       "O0fCxOZjthrLFumcIJ1I7r0LxFmkCSaW1L0QxM3tbEVoZrRJo85EHbDEYSjmNMXEVOiE/H9B87N8\n",
       "kpiIEzF2t2ilKvbUuzBro7hK3Bvaxslg2tfiqet/mjKJ5Yj5tVb/CAbEIF+lIKxZAAAAAElFTkSu\n",
       "QmCC\n",
       "\" style=\"display:inline;vertical-align:middle;\" /></a></dd>"
      ],
      "text/plain": [
       "<IPython.core.display.HTML object>"
      ]
     },
     "metadata": {},
     "output_type": "display_data"
    },
    {
     "data": {
      "text/html": [
       "<dt><a class=\"ProveItLink\" href=\"../physics/quantum/QPE/_theory_nbs_/axioms.ipynb#_best_floor_def\">proveit.physics.quantum.QPE._best_floor_def</a></dt><dd><a class=\"ProveItLink\" href=\"../physics/quantum/QPE/__pv_it/axioms/0e82dd42d26199effba99054b273dc7d693606b30/expr.ipynb\"><img src=\"data:image/png;base64,iVBORw0KGgoAAAANSUhEUgAAAGoAAAAaBAMAAACtLdRlAAAAMFBMVEX///8AAAAAAAAAAAAAAAAA\n",
       "AAAAAAAAAAAAAAAAAAAAAAAAAAAAAAAAAAAAAAAAAAAv3aB7AAAAD3RSTlMAELvv3c2ZVESJq3Yi\n",
       "MmZ3LnoBAAAACXBIWXMAAA7EAAAOxAGVKw4bAAABfElEQVQ4y53Uv0vDQBQH8G9sev2RpLnBzhX8\n",
       "E1z9USQ4uLQIgopIkdJBoXZ1E6QOLo3Q0aGDIILSDrroEsQ/4CY3pf4BQhULgkPttVTu8I6Gvil5\n",
       "x4d39y4vwLjYRviIjh6Mzv/Fk7Eqlp9A2fVNNkGtaEVVy5jN6pRdWmNwqXKH0YJOPSLxjWMolVvR\n",
       "qWtgDveG8lw1qlNLFM1gP0FVqq7txgXQZM/vyh1uPVzqe5iTki9A9ZMOetilmWCYLHo8VgXl/Eiq\n",
       "AGfn1Ocq9oFIC/E9ZS2zIeZiDElghiuSh+sjkg5Uanf0muHfVQJ44wX7yvRRq6CqPFfqr5TJL9UC\n",
       "WjBaXPWv64Bay2eqcx3CFrdAEGcgg264zFgENlS1HB+WeFmkTWDcDDqfbE/1q8+r1FOpVJSS63ev\n",
       "xaPh13tVVo0eV7leryslU7kvX5iUeF47KVKUpfmyGuHUgqRIO5RyOpIyg1DKyopqOo1QymaiIufh\n",
       "1Pi/jecxzdKtt/ILLFBXqSJvJI4AAAAASUVORK5CYII=\n",
       "\" style=\"display:inline;vertical-align:middle;\" /></a></dd>"
      ],
      "text/plain": [
       "<IPython.core.display.HTML object>"
      ]
     },
     "metadata": {},
     "output_type": "display_data"
    },
    {
     "data": {
      "text/html": [
       "<dt><a class=\"ProveItLink\" href=\"../physics/quantum/QPE/_theory_nbs_/axioms.ipynb#_best_round_def\">proveit.physics.quantum.QPE._best_round_def</a></dt><dd><a class=\"ProveItLink\" href=\"../physics/quantum/QPE/__pv_it/axioms/f4e6a6731694d0ecfec6206c9173d43fddce15d70/expr.ipynb\"><img src=\"data:image/png;base64,iVBORw0KGgoAAAANSUhEUgAAAKcAAAAaBAMAAAAgbFF0AAAAMFBMVEX///8AAAAAAAAAAAAAAAAA\n",
       "AAAAAAAAAAAAAAAAAAAAAAAAAAAAAAAAAAAAAAAAAAAv3aB7AAAAD3RSTlMAELvv3c2ZVESJq3Yi\n",
       "MmZ3LnoBAAAACXBIWXMAAA7EAAAOxAGVKw4bAAACsklEQVRIx61VTWgTQRT+Nlk3f7ubFU/WQ4uC\n",
       "Bz0oFcTiLyKigqSIHhQpQWKxFdKAIgiCAfWih67YW1A3Iqho6aIU0SouKoK9ZEEUBG1WPHgQIRVD\n",
       "A1Xrm92GdLPbwyYO7MzszLzvvfe9N2+A9tpR/Mcm5+2BqzRvCG2AnnGGSG/zhtjVMibngIkjh83m\n",
       "re8tg4YsZ1yS82zxCulctSMQ3PuNrH9FVvYfMJFUPAcSGlOWDmbkDOsGgJeI1XDBh5lp6pK5QJhR\n",
       "JoMa8ADYgKech1P00TesBAKNMbYkQt6uYMw4GfNKH6NvJJj3NlsJQr4NjJkffnhPPKLvyMQdH9mP\n",
       "XW9ukFkTd7EiCxRxpfj2oQ5MFsqMrbiTUSmXyGfg0k/Fdp2rKp3G/HJmF2v72FRdrV6DuAclQz0F\n",
       "uQJ1jc79RnQL1jF/Q3aGS7Mu0DSkvssqUDYRmUZY9xgqWgcpwrwO/nouQ4ZF8zsh/sEyC8dtDjQ7\n",
       "I7WFIhETcYC0lfIQepFUPaCS8pf6ISBcxGbSynE1pp4W9tpw6XpEnCyqsggCX5i56MyDVzGcWyRz\n",
       "ukmtTrMSOVRhRHaDwOuWyg1Dd7PgATo4cppOU5oOKctHC5qbU4HiyxFnNw2avbBDk7SWzjJ666Bn\n",
       "IRqu8hQ1IRDjZQNJk9uGZ7fQVG54RglR0IOQhpWyElZxXrk6Q+DnWPSJOklFYmGSCpYAbtRJ/LgV\n",
       "SiO/v9n9EquXg6A9QZN6Ysyncdlci9NpO0/XA6/7+zMukUPjUxkm9ZV8vJf1q7UX7dtTOMEOPJ58\n",
       "zv47vqHjyaf75jzjqbm5qrtup37ZER+sp0PQyrrJbzHbuPs2H2pA0AG/xa2NKsVa3AwI+s5nTXI4\n",
       "lLVWK3/cJ7UTTrXnjTbfKPfVNtt8oyjzF2ltvKb1d9/b2J36B0YusI2y5lm/AAAAAElFTkSuQmCC\n",
       "\" style=\"display:inline;vertical-align:middle;\" /></a></dd>"
      ],
      "text/plain": [
       "<IPython.core.display.HTML object>"
      ]
     },
     "metadata": {},
     "output_type": "display_data"
    },
    {
     "data": {
      "text/html": [
       "<dt><a class=\"ProveItLink\" href=\"../physics/quantum/QPE/_theory_nbs_/axioms.ipynb#_delta_b_def\">proveit.physics.quantum.QPE._delta_b_def</a></dt><dd><a class=\"ProveItLink\" href=\"../physics/quantum/QPE/__pv_it/axioms/9c6dd005645132e987ea00ed0bf076438075b1060/expr.ipynb\"><img src=\"data:image/png;base64,iVBORw0KGgoAAAANSUhEUgAAANcAAAAyBAMAAAA92lO3AAAAMFBMVEX///8AAAAAAAAAAAAAAAAA\n",
       "AAAAAAAAAAAAAAAAAAAAAAAAAAAAAAAAAAAAAAAAAAAv3aB7AAAAD3RSTlMAq1RmmUTNIjK7EInv\n",
       "3XZ/CtNrAAAACXBIWXMAAA7EAAAOxAGVKw4bAAAEdElEQVRYw7VYX2gURxj/cnu3t3d7f1L6UIpW\n",
       "T/oitGIEKxZqc9BUbNF4pSB9KCRKQY2g1/algsWtFF9qiQUpPf/g+iJEJTnFJ6FNfdHGaI1tFdGm\n",
       "uTyKVNPENPEE09mZb9fsZeab1eJAMsv9dua38/35zTcDoGk/kGjKoUenD4q+x4UIramFhF/Ujf9W\n",
       "sFi3opDNoz+lqkJ6rog+NiT6JRG4jE4SXqGGPsH+tOjsZj3ZrjKFJi+qsXHss+iH3/Vkf5FotqaE\n",
       "EnV8iF0S/evaEDF+JuG31JA91GBPs6gjy1RJeFANmQtGC+KpQ3giMaUju0+uPVdXY31daZzdxNDY\n",
       "qCO7RruMiLClLvyKTqsHv5DNmibhbkI+VgM8QhF5jGutaeSDjo/5BHYbEn7wH0FlG9LEB52J54FK\n",
       "s7jv0VYRIYYmQrpJYbQmCHAaTvmD+8RDekITjKR+5KZIhT7QaJ/zNNlhVKXVAzLWFOXRY2cDq/jO\n",
       "Yr7jtK/KRwygGsAHsrDN7IdIzR4TfT/Au16/Wb7zPcCglGdIXzEamTGJgVKCrzw7yb/RwgzJyYOy\n",
       "uxaNzJ+GvW+yz7YL0rdimCnpcblIFKKR+QZiljCYI03F+n0BOSq1Y6sTjQz+EV2eGejK8PAgHduL\n",
       "lu5XJ4blQGLHQZLsIZKxWdYAKN6161gaNPliEB/mTfiwn683DrD3DbpSuYDRy0qMTyHZDNZWXw4H\n",
       "zh7yowwFZ3c5Nh3gs9p6TrbYy54USTaMmwTLt5Rrl0QVZY1WStmy3et7qEkkyMue+ku+fSH/XwXD\n",
       "9ZYHx/mib3KDzWATE/yJZEwEYjUvPn5hf23M4wbs+RzCZBNgjXFcSlaDHEAvubJZZND5tpcLo25O\n",
       "CEwxyFVhxvQ085qHN/pMmLEIHwG8H9WMcKaLBd6tXLFHhMNnQUTbUyjgZsHDG+fo59H4DqM75kQN\n",
       "ENjFPjTVYnR+yH/qtZ+Evsizn2ARx+eEPqcwt29Zfl1Osjm873H1b2KDMk68eUWlUilA9RycCCe1\n",
       "fa/KcUVSr5q5rVAOFGBABcn7tslDpvANr7gWt8A5X64mg4EePkeuSsKzkh022bbVgRjaIo3FSJ9f\n",
       "F2bdN1kOeMuIQ2Jo7lbs4Yp9PCNx2E6wJ5M/bnMahRjnba9B0juKLXvh7veBwR48Ue72uRKPZumW\n",
       "WPAlgMssrMJ6Hhbuk5VKKTTmBl02CjP9LYGuurCwnHfDEksXGWStFhR6X0igV1jKOx+HtQFFQNla\n",
       "ySLWqFPoCIymnVD5MKAp5cjt0Rqnt+d2W3zrbuHu5OPnVqSyc8DXK5+qSI3T5fdaAnsv5EDuOk35\n",
       "nZgk4Y6S2p+zbILmy+vqoz/o2FfXcq9BstwQR626c+6zhqNVhZzbcIq79ryOuV+2ta0LjB31mEun\n",
       "knrhIzMz//rP32HFr78I2UaiZlVfNPp3FB3626t9pJ5ZF/VkWRSG3/Sv5uiTyh39DE9xnfTMF2WB\n",
       "FXEH3RClTjfp08Mm3fi9eAXYFelU8D8vN5HkOOf8D7ABLvciRM5qAAAAAElFTkSuQmCC\n",
       "\" style=\"display:inline;vertical-align:middle;\" /></a></dd>"
      ],
      "text/plain": [
       "<IPython.core.display.HTML object>"
      ]
     },
     "metadata": {},
     "output_type": "display_data"
    },
    {
     "data": {
      "text/html": [
       "<dt><a class=\"ProveItLink\" href=\"../physics/quantum/QPE/_theory_nbs_/axioms.ipynb#_success_def\">proveit.physics.quantum.QPE._success_def</a></dt><dd><a class=\"ProveItLink\" href=\"../physics/quantum/QPE/__pv_it/axioms/68e37a549a3bcabb8001164e89f0c49bfd46ddf30/expr.ipynb\"><img src=\"data:image/png;base64,iVBORw0KGgoAAAANSUhEUgAAAt0AAAFFCAMAAAAHNKFzAAAAbFBMVEX///8AAAAAAAAAAAAAAAAA\n",
       "AAAAAAAAAAAAAAAAAAAAAAAAAAAAAAAAAAAAAAAAAAAAAAAAAAAAAAAAAAAAAAAAAAAAAAAAAAAA\n",
       "AAAAAAAAAAAAAAAAAAAAAAAAAAAAAAAAAAAAAAAAAAAAAAB8dl/BAAAAI3RSTlMAq1RmmUTNIjK7\n",
       "EInv3Xa5wzBsryClQGDj4YVQXufXodWTfH6c11AAAAAJcEhZcwAADsQAAA7EAZUrDhsAABvHSURB\n",
       "VHja7Z2LtqwokoZFRbkIU6erq7rPqe7pmeH933HES3rFNBVN1D/Wqsp9crsRw48wCMIgIlErcRJB\n",
       "ILeSlLY/ZTm0AbmXsNZ45xzKgNxNMlF/yhi6gNxNksbdzqAKyP2kUFYKCU1AbjivZPb/XEATkPtJ\n",
       "Ttr/uXwX+UmsME/HXywNHCZTDCvIgWLpk9QNYFF/imTJNRdSEmJBTfToz2MlFg6PJMEdgBwnsZ6Z\n",
       "UzJNOK+Qj7PmC62W/Bv7X3mAVuk4+DJHd3v4q3kI5BjJJgY3SmtvfIBfvES3KUdCbso/mh40R/fr\n",
       "cNANOVZk3Aa9hUy0dbJ1z9NeR3cialxFVjvftVAX3e3hoBty9LyyaHxfoUreyp9Ff90yWUV3NUrK\n",
       "A+I0SlbY7vbwKKIKNwBypJDGDSEkym2AhPYAZRlbSTezGOdpko8c+GJ+GZQ11GcaURPICVKkSVzF\n",
       "PTJeSWzzUIhYR3f+JmTOeCv54PA409A85Hgxjdll/YVLTVbRbePc+fo0w9fheQG9Q84Qa6wjS3bf\n",
       "DM/OKoVs//ey3Iyx9Ssz3eGYVULOEZHqpPKCS/jGdOcyM/LlQ7Aib/7XOjXGynof6HU46Iaczrm0\n",
       "DjI9AT/QDfmiHByyA92Qb8qhMQ2W4a0JyDeFHQdgzqBeCAQCgUAgbiebBuUTVYFDgxRwiFOU6Qej\n",
       "c7Ww5pKGBRIzMimlN+JyUl4NIYTz+ReGaIY3RJ8lFpCEvJZaFt6GiQsRGN35zHdV//PCEUoE3U9E\n",
       "vFtILFzvSYoisGprc3TnjaOSmHmMM9D9aLqpcWQ7kdBWVpboZkaBbsiE7ohwB0v0QnRTk4FuyJTu\n",
       "3Myuz2TBLYov0S3LiyjnkDqWtr6nSLWuX3TL0qT8ESugj6U74nMP9Tg4071At9D1HKFI49wkEVP2\n",
       "QG5zBrLqxyzFLX8q3czM5I5k4b3hOE+3klLqxjirstOi/JD14ay8DFL7Le+G6mdFiKZViHq9HJcc\n",
       "Sh0/vxOMSC90R7yYIUlfhO7+rKFmmTWulg2jNFbbvEGlLUJUDpQlR91Zhaj6ZftG9SjIyh0/z3Uj\n",
       "46uPdUrMc9A98EImjikx4op0p32nyv6qpXsWlUkRIgst5cvm1FGFqFfAaJTG+wHdEZF76Y45Xkwd\n",
       "0h1NAg7CBFiefgXdcmC702XbPS1CVNgvjNv0LVQhirqX8XbQXbB9dCccO8JM6CaGjX8fX5fucnL5\n",
       "crZbX6W8viRNSvtKIp3Ub9JNixDl1QOrcF/6sArRNrrH3Rj5g/pVdeBzujWPe05UohPQXYMw8jZ5\n",
       "gI6JYyW+j5JKGy+atahnVWEt+8AXCbWBFVuLqHqxf6YIEauuWi1D4ahC1KN79P7SkO5xN4Z4KhFp\n",
       "ew3W+/+UbtYflm2pJdBtH7nFyDEJsSbUlO6cZMa8fFVKTEHiOqRRTv8qh5qLmFJtf8yFtghbK57a\n",
       "v5gpQlTTXSw6rvNViAZ0j0oODeked2M4EJJ6oIm0bGE13W0AJ+bydd621BLormw1G/5aXoLuz4To\n",
       "Jjii4mi2CFHtmSw6ZYMqRKOSQy+6hyWHxn73sBuDNuwzxyZmVvsprqa7C+DQF99tqSXQbZ+EQ5xJ\n",
       "eEs5Hui27GhuIY7YfBGid7PK5SpELd2jkkNjuofdGD5Ca7c/r4y/m+5h8uYggMNIWnXPPDkqOKZ7\n",
       "6L5GhYnuR3duGsOZ8Cq0N1OESNuIIOnNzKJPqhCtm1WOu9GX0utJ7OHZm1llXaWXxnW6gRp5a/ZB\n",
       "9Cq1BLrtWO9PI8N0u/fSXWFrs1By4ipCZFdzevB+VIWoK2C0TPe4G4MrTHXVwjq6C3unomkAx/b3\n",
       "VWoJdFt99X2R2PAb0j2Ro4oQ7Yh396eJ3MZ10iQhNLbzQ6ZjbYcjk3FSeyZ57b/PB3CeLBO60/7K\n",
       "exrkpNI73X27rkKiO47bY2lWORl5Vltoa7NV1CuCbsfmfAAHdA++4H1DHj+Mbp9FiMYlhz6lW+g6\n",
       "8MEbb4pXq0dVgkAJM8uibkvotD8tHUVwQHefnKI/qWRPo9tfEaJJyaHc8bNTmji1PZamLd2itdk9\n",
       "212OAiSVrKFb9CdLxojH0R2kCKIYVWkkizii5TSRNn53vSablTNc7MSyhu6S6JfNyU2QAcEH0g3x\n",
       "RLfqfO04UIsAug8W4+2g0OjOuqCJNtlF6c4oEN1D9zr5djcXK0zN0026KKAMM9z9nu4URdgeYbvf\n",
       "7bc+pTvt6vORQEv1vaM7tNpZoPsoeVNHakq37NwRbtIr0h1c7ax70S1yL3QLH5FXukzCHN2qc8Ev\n",
       "SfeO2lmz7TLQ3Zc2K2cf3Ykfr5fwz+jW3XKOCnMh/g3de2pnSbpwO0+Yp/mVQ+h+pU7uojv15PTm\n",
       "i6vpU7qTTivFJeneUztrlu7YwxPsG07qMXRnuYdL0t7iFVxtp1tfj+5dtbNm6Y4U6O7wkB4uifpb\n",
       "BF+stzOlO+7TnVyP7l21s3p09163lDHobueC/xQeLsmny8uLjXSbC9K9r3ZWj+64ayfnoLuRn788\n",
       "NE995i/FC573lG7apzu+HN37amfN0935mk+n+6/CR/PE6xr4QmNTulk3sP7rtx9B0v33P/7ufHLu\n",
       "m6446I4l6K591X/5aF55jTQTd5r2n39M0Pnttwvb7p21sxx0759X3oPuXz/9NO81WkHdTvyi7b4g\n",
       "3TtrZ7noTinoLh+M//4RIN3jClP3pXvvS/wV3amyUhTVR7MbD+nuzMkrKzvuuqd1oO7rX56a9xut\n",
       "4E7X5GZ0762d5bLdux3vy9ruHut/FQPu99hur3Rr502/Gd17a2e56N4dNLko3QOcqyll900wdDNn\n",
       "1ORmdO+tneWge3/A+5J0Dz2UdkrZ8h0M3e7Xf+9F9+7aWQ669y9WXpDu8Vzh54+OprDozlxP7HvR\n",
       "vbt2loNuFT2P7jHcgzLJZifdv7xeaOqKwdyL7t21s+bp9pAkeDm6x3CPihSWv95D9x9eL9SZK34v\n",
       "unfXzprPovJQ0+l6dI/n69Rj857pZq6I973o3l07azYDVmTR8+geq5z7bN6zZyJcywlv6P5bkHT/\n",
       "aX58OHneRbePTZWuTrfIvdLtOffUOKza/5kpOpe13ftrZ+k5LZEIdPtt3jfdygHqrTyTONxqeqD7\n",
       "QM+kX2HqvnSHWjsLdB9su4kjVnYrukOtnQW6D6bb9Yb9regOtXYW6D6Ybul4aN+K7lBrZ12O7ujY\n",
       "rN4D6Fb3pzsD3d8+53fo1o7lnFvRHWrtLNA9pttzzCRxPEduRXcBup9pux9CtwbdT6Q7fgbdCegG\n",
       "3Tel24DuZ9JNt9Cd/h7m7ksiEQ6t/Q10P5HuPx3pc/nkPOL336PL2u5/gO5L0P3rHLpv5pnEoPuJ\n",
       "tpuBbtANukE36AbdoBt0g27QDbpBN+gG3aAbdF+f7t9/Z6AbdMN2g27QDbpBN+hej9+13s3ZSPe1\n",
       "qvWAbl90Hz14TqL7VtV6Qs36At0H093LjYJnArq/Tfcv30DA7wbdXv6yLSl4Ac8EdA9ktl0GuvvC\n",
       "Gei+Jt2zNWA5A92dUBKB7hvR7WHrhRvR/dr+DXTfgm4P2+bch+5ERqD7+nT3dhbZv+XZbegW/xSI\n",
       "mdyA7t6uUPu3q7wN3T9/+WgetjsguvdvNXwXuv8qItB9N7p3bxN/F7qrzbRB973o3j+vvAfd7Wba\n",
       "t6D7edV6XHSnFHSXev/3jzDpfki1Hi+2O1VWiqL6qNcuGOnOsU2+Qfd2cTXjqXnETILyTHY73le1\n",
       "3X2kyyllH3D43Xehe3fQ5Jp0D611PaV8fQW6b0L3/oD3JekeeiKvKWXzNei+Cd37FysvSPd4rvDz\n",
       "RzTAG3TfhG4VPY/uMdwyGWgadN+Fbg9Jgpejewy3yEaqBt1XpruXRcXz59E9FkL9NY9qPV+n22m2\n",
       "Hkk34z6bh+0Oh26dgG6Rg+7L063nHpkkAt1+m0e1ngVBtR7QvYpuVOsB3denG9V6QHdAdCOLCnR/\n",
       "j+5nVMkE3Y+k++iOgW7QDbpBN+gG3aAbdINu0A26T6AbMRPQDdsNukE36AbdoBt0I88EdN+G7lvl\n",
       "mYQ6GkH3wXT/Cc8EdIdDN2ImoBu2G3SDbtANukE36AbdoBt0g27QDbpBd7B0i4RkKjN+RSn+ttg5\n",
       "6AbdB58zzjLNxAGnFVQqsviCK6r1gO5Dz8myVBx5hzIiYLtB93fOqfnR1QOooqAbdH/jnCQ9/uwi\n",
       "S8Km+3q7QoHuNef873+ccv7/8G/TfatdoVCtZ9U5yVl3VcqT6Ea1HtDd+tzytB7w2HGfkEUFug85\n",
       "p1Dn9cBxLswqQfdB50zP1NF8cegB3Q5nkoFu0P3xOX2U2v9A1Fu65XzkkDPQDbo/PWeSnNqH2VX5\n",
       "NXR/tFcR6AbdtU0Up/aBphvp/mifOdANuivJTu6EehczcdH9yR6hoBt0V3M4cnInsq22+5P9nUH3\n",
       "51YnvSHdVJ6sjDlPaBXdUZaD7sPoFia7Id39HZRPUUbK1tBNNRG51FxHTEpe8x7Lo+l+crUeEd2Q\n",
       "bmFOVoZZ5ZnIiBNte5eU/4qLT+eVqNYDv/srHVlFN6WRsm52bnTP4r59x2eOWXgmoPvbdI9iJqK0\n",
       "2hbluEIvbbwgRtb63x78bq3U/heGxo3kzn+A7ufYbst19OK6aBzu2vFe40t5oFtSL5c7aEYPcKQa\n",
       "dD+UblJxrSzPtLy7ojPacXYq3ZobwwnhG9/M69M9nhav3JEdMZOz6d6ujJV0V/a6dk9K0Ku3DqqA\n",
       "dy5VJtmJdJff15fKC7GP7mlGTyaCofue8e6tHdmsjHV054a9YOQyqoxes1iZxWuA8Ec3M7UHERu9\n",
       "j+50YqqTNBy64Zmc55nQKvqnq7tPU13d3iYgaMS5dGvDmk+5j+5i+ttVjwPQfbOYyZw0SYK0iM6l\n",
       "m5v2k+2ie26+kCWg+4mzyqk0NSk0icSpfrfhAwdlM91pa/qF1LqZokoCukF3b06W6kiKE+muqS4n\n",
       "s9tQ6q6mtdPUhsBZjXrysuep6gkB3Q+juw2fsTR57yH4jAgaIqVMtka/u6tphkdeXatuUmfWuVmg\n",
       "+zZ063l4P8rU9VCtp8WS71NQR3dBm/a01t2DYUUTqNZzI7p9iIdqPS2AO1c5JnSb/jCle2w3qvU8\n",
       "lG4P1XoaLFkXB9RxIpNIWGOuC+uMa6ltbdvmQyZatwe1HzOeyWByGiv43benO8QKxw2W2rR42vc8\n",
       "cm0dZ+tflD/ItAqENB92kSlNmoPaY/t08xprVY+W+lQJX3UxHuj+zMzn36Y7//yAT+g+TBtf9Uw+\n",
       "pzsz3ZFpLKKGbqIjYaHLRfNRedCUNwe1x/bpbqJ/VZhEpLXGUnkS3fozM0/1d+l+391pDz+g+zht\n",
       "XIru1KZQtddGy3/Qjm5at9V8JEVSCm0Paj76dLPGC9EySdomFT2H7pWvNeVSpvWLUDrxSrcmaUrq\n",
       "i86JMoYQwrk9BSOqKMp/kawokmF37YGqKnFJCpNpVwxtA90HauNitrt3pKgNb+uZ5PUfNh9N9KM5\n",
       "qD120Mw0XzxX0Sl0v/K3hFp6ygq7GhzXrWbCH92s9sZ0owBWT6zzIqutQ/1ME1yOuytbr3BY6bK5\n",
       "iHEPV9PdNr+sjG3auCzdVSaA9ZPLPxA2hdHeDqFfH4n9aA56HdtvZpozlSbn0P06T7yYpKNtg032\n",
       "Z5J6oztvJ9JNxk7e8JxUE/b2X5Eg4+6+vMJh8nFzEeMerqa7bX5ZGdu0cWG6dSItZ0npWhAbAZHS\n",
       "RkkGH81Br2MHzYz3t1hZw2I/3UUXmVn0L6ugZRMCLYQvurPX6ZXq082M6tMdpePumlY/wxhSexGj\n",
       "Hq6mu1iljG3aeJtFFSrd26TfjBjRvHI3l910d/lb6r3HGTeWppfg1W7ptb6ijBk02MVU66yGhmda\n",
       "kVP/i9I2jNR1l7Y2Xwx73V7EKAVtLd0vbaxQxsfauIzt9vNeZdEfJPlgbqTz6By6m8gMJdxw8mb+\n",
       "T1UyCPHU0wPW+/iUbtJ1k/V4tm51/PqXppPulr9vztdPg+hdxCgFbS3ddfOrlPG5Nq5Cdziym+6s\n",
       "c7vfnUoT0iKVRcMb+gHcg5ucvVYMSpKLF89C10GS8jtCesd03VXF2GUZXkSSbaI7S1YqY4s2Qqb7\n",
       "ptV6XumN6YqsgiZKMEzwKu/lJ3C76a49bSXLSUrcfkfsU55OuiteDvnI7W4vYpSCtpbuVhtrlPGx\n",
       "Nr5K9zOr9by8o56nKbLeyv/gThWDEOfrhjrhnt1het4zoaYuUsMHEZXW727XBJvuti7vyJ/rLmKU\n",
       "gmbedWSkjVXK+FQb851IfJs7eCbT+ynM8kyZVbeM180OE7zyz2Yhw1ll2s0qEwfdQnQpbk13X263\n",
       "HFx+dxF0m+1umn+njG3auErM5EZ0t8/iytNc3PJZdPczVp48k4hbMmj88qTn6K5uDht0V5pZx6S7\n",
       "iFjt8UzeKWObNjCrPJ3uNpfAeprxAqMF6T2L+wleu2aVJb8yiqnQ3WrOPN3ZsLvtYksTgRPR+CJG\n",
       "KWhr6W6af6eMbdoA3afT3YazCLGLqm6pNplp3d1egte+iGD5h5ld7orTgvbigt3VNb2Txai7mfVo\n",
       "8iZq8Sqg013EKAVtLd1N8++UsU0boPt0utv8rZy/2SSJpmnaRi96CV5tWCzPttFtC3oRXS0NshLX\n",
       "zBjymhk2OVWEFy+L3nY3kpykLwCVEqOLGKWgraW7af6tMjZpA3SfTne0YV0q37WL6SxpNmmJb+9u\n",
       "LJZ7uHol/khtgO7z6d6QEpUm3ukmGUvU9u7KNz1cTfeR2kDM5Hy612a09IwVj7zTHRuzsibMXHfH\n",
       "TvKkh+vzuw/UBmz3F+gWn8LKc/90R2lBtndXv+vheroP1Abo/gLd4/W+d6J3vli5982z992d9vCD\n",
       "N8+O0wbo/gbdJwveiQ+O7lDrg6BaD+heRfcH1XrCt92o1vNQuj1U64FnArr9dCLEaj2gG3Tfye8G\n",
       "3aAbdINu0A26QTfoBt2gG3SDbtB9VbqRRQW6YbtB91F0Y69hH8oA3UHSjX3ivSgD1Xo+ld3Vetbd\n",
       "UXgmHpSBaj3+bHeYoxF+98F0o1oP6EbMBHSDbsRMQPc16RagG3RHd42ZxPpkZaQMdIdou28Z76by\n",
       "ZGVwAbrhmZx0zpyc3IkMngnoPu2c2cmdUIiZgO7TzsnFqX2gKWw36D7tnDo5tQ8pBd2g+7RzinNd\n",
       "ExWBbtB93jnTM3U0/6RAtZ4lcVfrQZ7J23OeabyFik6h+88nVOuB7V5zTi1P6wGPHfcJMRPQfdA5\n",
       "+Vlako5xBL8bdB93zv/5xynn/19X3WTQDboPPCc5wTkR3JnSArpB95HnlPzoeAFV7r1dQTfoPvSc\n",
       "NEuPXLRknCwMH9ANug8+Z5xl+hADLpjMyGLLoBt0H35OkZBMZcavKJW9XS9ChWPQfclzrusYbDfo\n",
       "Bt2gG3SDblTrAd3Po/tW1XqwK9RD6cauUKA7ILqRRQW6YbtBN+gG3aAbdINu0A26QTfoBt2gG3SD\n",
       "7ul9QswEdMN2g27QDbpBN+j2+5cGdIPuS9K9Tq5NN6r1wHZfwnajWg/oDohuxExAd5h0ixx+9zXp\n",
       "nm2Xge6+cAa6r0m3pAu3E3RboQQxkzvRHaegu5Msh999J7rnS6w/lO5E+phV/gG6v0s37Z6eMgbd\n",
       "7ZTynwJ034Du3r6lOQfdjfz85aN5+N0B0d35mk+n+68iAt13ozuWoLuS4l+g+3Z0759X3oPuXz+j\n",
       "O9H9tGo9LrpTCrrLKeW/f1yLblTrmdKdKitFUX3UaxeMdHdmm3yD7u0y39LPX56aR7WeoDyT3Y73\n",
       "ZW13D/a/htzD774L3buDJhele4BzNaXsvthDtwbd4dC9P+B9SbqHLko7pWy/3N68MinoDofu/YuV\n",
       "V6R75H7//NHpeV/zxGSgOxy6VfQ8usdTS5n0Fb2reeqAEXR/g24PSYKXo3sM92h7+fLXOy5JeXa8\n",
       "QfendPeyqDxs7ng9usfeBPV4SdQUAnR/k26n2XpSzKRTOfd6SdIQ0B0G3ToB3SL3e0nEa9gEdK8S\n",
       "PfeSGYlAt/dL0j6tN/JMviugeyx5fDzdt8ozQbWeC9Ht19zBMwHdd6UbfjfoBt2gG3RHa7NbQTfo\n",
       "viLdFxPQDbpBN+gG3aAbdINu0A26QTfoBt2gG3SDbtANukE36H5Dd86udZGgG3S/PZR1tNBAL2be\n",
       "dgc8GkH3sUTM3/mbeSYUdMN2w+8G3Y+lu/2x8F0RC3SD7oPoXumZ0OvSHWp/QffBQrfQrUA36L4t\n",
       "3ZnvaoYH061AN+hepjs2r71RuJGXojvU0Qi6D5Yes2/oTsyrah7xXavzYLpDHY2g+2DpMfuGbt0V\n",
       "6Ez9Vgw6nO5QRyPoPli0o6jslG5p+MyPl6A71NEIug8WF6hTutPOACa+6ywfTHeooxF0Hyyp46E9\n",
       "pZt3UzPqcNZDpTvU0Qi6DxbuCCdM6c66Bb/cmEvR7WM0TlpmoHtOLb5ll94zxyL1lO7CdO0ak1+J\n",
       "bh+jcVIFljPQXfJj8zhkkhyW6rBL731ml+nuJ6SoMJPuXHT7GI0TLccp6K7360xZb9/Ow+n+RO+u\n",
       "9O4J3Xn/6U7CXPxz0u1hNE4reCvQXe+1zLNERKfR/YHec5dHOqGb9mdmOswAspNuD6NxqmUZg+6K\n",
       "NFaYIj+P7vV6p65owoRu3V/vo2EGIZx0exiNUy3n/PF0V15CLqJc6fPoXq937VqjntBN+tNPEWbQ\n",
       "xEm3h9E4s7dIlj+dbmInbarUjGTn0b1e78SV1z+hWw0cdBVk0MRJt4fRWGlZ6LRycUili1g+nO56\n",
       "W6wkPjBkskvvyvXO8JhuMXTQZZDTSifdHkZjpWUZxUVPOerhdCcnpF7u0LtwLnOM6Y6HqRo0yMwN\n",
       "N937R6PVMouj1GqWZL2IwYPpzsQ5dG/Ue+yEdEz32IUpzKXo3j8arZbLm1lYc1U0NquL8prN8g26\n",
       "ryDr9L7N7Z7QPaY5NexKdO8fjfXshlpPLm+v3YPjfWXbLc94F3uH3t33fEQ3G9s+GuILAQt07x6N\n",
       "tZarB6Q2/oImV6ZbRafRvUXvzP28HtGtJ0a+KC5F9+7RWGuZW4VxHlWLcz4C3hemm6bn0b1F79pd\n",
       "52NEd1ZM/5Zeie7do7GxIcQuzclI+noyX5huws6je4veM/cdH9LNZixfgFGTJbr3jsZay4JIHeek\n",
       "3lhbRY+m+xTHZLve2cLTekg3mQmLSyOuRPfe0ThdM/OSJHhduhN9It0b9E4W+BzQLebIEOHNKxfp\n",
       "3jkap1rm+aPpzsSX6F6nd7FkzQZ061lqdHDGe5HunaNxomWRRU+mOz/pVdWtetdLLAzoLuafBUpe\n",
       "ie6do3GiZe0lF+GrKyW7qIu/RPdKvRdL/kufbhcWcWipVMt07xuNehwhCLaIxDly1uVv1PuyKevR\n",
       "LZw5Gim/FN1xmG+DQvyLWM4r6tFN3Ayr5Ep0BzcaIYc9WZbvdEc3Ldw2nhUiLLorIVcZjZCDZIFZ\n",
       "NZx6qKVVEBrUs14kldCrjEbIQbLAbI1Ia+UEvdWghuf9BK97G7P/DziawhSZ+O+WAAAAAElFTkSu\n",
       "QmCC\n",
       "\" style=\"display:inline;vertical-align:middle;\" /></a></dd>"
      ],
      "text/plain": [
       "<IPython.core.display.HTML object>"
      ]
     },
     "metadata": {},
     "output_type": "display_data"
    },
    {
     "data": {
      "text/html": [
       "<dt><a class=\"ProveItLink\" href=\"../physics/quantum/QPE/_theory_nbs_/axioms.ipynb#_fail_def\">proveit.physics.quantum.QPE._fail_def</a></dt><dd><a class=\"ProveItLink\" href=\"../physics/quantum/QPE/__pv_it/axioms/7940ea8d65f7c3ff7e61ac174ebc74dee593006a0/expr.ipynb\"><img src=\"data:image/png;base64,iVBORw0KGgoAAAANSUhEUgAAAsEAAAFFCAMAAAA6psAVAAAAb1BMVEX///8AAAAAAAAAAAAAAAAA\n",
       "AAAAAAAAAAAAAAAAAAAAAAAAAAAAAAAAAAAAAAAAAAAAAAAAAAAAAAAAAAAAAAAAAAAAAAAAAAAA\n",
       "AAAAAAAAAAAAAAAAAAAAAAAAAAAAAAAAAAAAAAAAAAAAAAAAAADrabCLAAAAJHRSTlMAq1RmmUTN\n",
       "IjK7EInv3Xa5wzBsryClQGDh19vj54VQXqHVk3xPmRDsAAAACXBIWXMAAA7EAAAOxAGVKw4bAAAb\n",
       "UklEQVR42u3diZasKLYGYFEQBOFWdQ1dp1af7jvw/s94wykcMRxwIPxZqyrzZEYqEp/EBnEbkagp\n",
       "cRKhoARXKGu+SzlaAyW8IppOmGdoDJQQSyqrrypGW6CEWJI6/E3RFChhllwXJVdoCZRAx3Ki+H8m\n",
       "0RIoYRZOmv+54gy1Zp6N0+EP5k4OoShOHZSdpRCmmBtZXn2VyVyoLJUipMCYmMGfx1rOvDxSBO8A\n",
       "yr4Sm4lxnDAky0rWcVr/wOi5WKT47/UCo+lwUmNKcPPy9+ZRULaXdNRxRrSKjnvE4jnB9qWd29cf\n",
       "jV80Jfj9cghG2V9U3EwKS5WYIug1nch3meBEViRlWgXDVWEuwc3LIRjFx1gur2NRqV+mXt/L7vW5\n",
       "ZJHg8kx4vSCmUbKgD25eHkVM4w1A2VtIHTIQEvFi4oF1EIpULBQsCqqcJnwQUOfTl/tELTs1mI1A\n",
       "8VRymsTlfEKalSUu1k0QuUww/zClLLKm8N7L49Sg5VH8FFt3n6J7gc6QRYKLeWC+fHnb++U8R7uj\n",
       "+CpFpxsVervd6eRITqrmf+8eWAix/OpE+3KM5FD8FUlNUkalL2BDwVylVr0/70XO6/81AYgtyvJ4\n",
       "5f1yCEY5xLIqAlZ2AjEIRjm4HDzdBcEoR5dD5wpEipX1KEcXcRwyLtC8KCgoKCgo3xL0stNjlHJi\n",
       "zWKZMIqzaNudrOV65roDPR+SsCp5lc6Zw8mrxoSQLJu+OYSluKvvWaUAkpD35YaZuyLiXF4gmE/8\n",
       "rKwjzx1TbRD8RMbtBbPcdd+bzC/IPDUlmNdBRWKnqaYQ/GjBzDpW4JArri7MCRZWQzDKSHBEMocl\n",
       "djPBzKYQjDIWzO3kNYr0kgu8c4LVq6KvcZuJVZGXUFJjqhuXUpq8vsXVvMcKjrKpD+f4ki54RrA0\n",
       "VVye05jbJBK6eGFWXONOy29Tirf1qYKFnVjrkF5zx9q0YK2UMnUnq18Vk68vqnq5eFWVVDHGp1Nu\n",
       "XbKWcbaWTi0HqVmo4/uPBWedF8FRlk9IMjcS3I3UK6+iDn2K6Ym697UfODTJWl4nw1zg7MzWUv6y\n",
       "udO1PwmZOb6frEaaLX8xyjLB8TgSJlbeVTDtBjnFrxrBkxxGyVoKmCyb7xYd2Vo6iV76y0DXCI6I\n",
       "2i5Y4j7YScHRaJAv7UW9wwLBqtcH0/k+eJysJS9+YN338M1ka4nam6t2CM7FdsE8o0iuPyWYWDH8\n",
       "fXxvwa8B3Tv4beKK1zEkNHn1kyQySXVn1DhZCy8/XHL34fWztWwTPKzGID4z7zu+1/cTghDeBjyJ\n",
       "SSC4gjCIDLOLggjHVeUuF03rqFY0nNMyyVDx4SwTVkxYFDlbypuqJ5K1iPLI9Pwb78jW0hHcv1dl\n",
       "IHhYjV4xWkamOIYiGt/yScdpndGjSUkDwcVHZz4IIq7KnTMWzElq7Tt2ZMTmJK7eyNeQqwxwMxkz\n",
       "ZopvuTQF06I3psVfTCRrqQTns+PU6WwtPcH91CwDwcNq9DuHpDqZJH1tIVvOtvv20DKyb1LSQHDZ\n",
       "54r+r9VtBK8rxNSTDjqOJpO1VFHEbJDUy9YySM3yFtxLzTKKg/vV6G2j+OwoFv2VzztbLHgwMZIU\n",
       "N4Y3KWkguPhE65Ml11zO8CC48GGKbtBGYjpZy6eR3Hy2lkZwPzXLSHC/Gv2PuyoM52Un7hbcXxjY\n",
       "nxiJyws5kX3yoG4ouB9qRrmNwhTMbd0BJlk5LTaRrMUUs2lt9LgyW8uykdywGt3yilCS4jXph5Fc\n",
       "lUGUxdWlc92N5+vI4Z2SBoKL87k7dLsuDN4ruKRZrJrgxJWspbii0QG6KltLm+hlXvCwGr0jpKbc\n",
       "wjLBefFuRJ2JEZPFbThcp6SB4KK9unFDbLNABY/KUcladswHd4dmxcRFRpOEsLgYkwkTm+KUEypO\n",
       "qiiCV/F0MzEiMixgcgim3avI9LKBnHfB3f5Z30lwHL877LQMCHha9bRF36ujTqLl4vybnhiB4N4P\n",
       "sm6HHH+hYJ/JWgapWVYLlkbJbsiRlVdQyovdL7AijdrHq1Ik0VgkWHRnhHMrvlGwv2Qtw9Qs3PG9\n",
       "u9TzuMWLGW0Ey6bv7fTBL+nIqLxEsOwOXqyVXyn4lkUSLZimkcrjiL2GZqyOg6trj+lrVIknMywR\n",
       "/FL77le4vWwy7YGCUTwJ1m3sG1941kPwwcV6e9HdBKftZISx6Y0FpwwM9wheVK6u5WwiHodg0s6g\n",
       "qeumgz8LpkhI9YQ++OPjiceCaZurjFyYtuyT4CvyCEHwBeVTup2xYNWGDpmldxV8SR6hxwiW3I9g\n",
       "6WHWkn3oyqYE6zYkvq3gHXmEJrcrILhT3otI9glOvEShJFsp2LSXNPR1F5U/CN6TR0ixuffs8LGR\n",
       "53KE4HbF3i7B1E8QyucvDI8FJ22r5LcVvCeP0KTgmB7bq10aza79y5T7OCTjax4g0zsEm3sK3pVH\n",
       "aFJwpCH4LUD5OCTm7YLufMqSseC4Kzi5p+BdeYQ6gju3z6kYguvy168+DsljCJrlWwXbmwrel0eo\n",
       "Izhut8MzCK7b54fwsHnmcU1NPBcJjwWzruD4loL35RGaFtwJ/p4tWP5NfGye+LyeO7etsWDRnjz/\n",
       "9cuvlwn+/Y/fXb/amUfIIThWEFzS+5v72Lz2ORNLZlb5/vnHiM4vv9y8D96ZR8gheP9Y7isEix/K\n",
       "z+Z9zgKwmZh6tg++qeCdeYRcgimD4FcH9i95P8HDRDyBC957A3UpmOqi5Hn5pX46RzuPf/bVhR1v\n",
       "radrIe2Pf3ravNdZgMwdRgQoeG8eIVcfvDsQDrYP7nj+d96zvacP9inYuN/zAAXvzSPkErx7MiJM\n",
       "wf3uOP9P9aObCRbu2YgABe/NI+QQvH9COEjB/Wji519v1rcSPHPHZniCd+cRcgjef1EuQMHD2L29\n",
       "HFf95jaCU+cHb3iCd+cRcgjW0fMEDwH3UrjanYJ/+jxO6pzaCE/w7jxC04I9LE4LTvAQcD9bffHb\n",
       "PYL/8Hmc7qXG4QnenUdoemVPxh8neHyLJPO4eb+ChXNGODzBu/MITa6ulGn0OMGjJs98bt5vFCGd\n",
       "s+0fBP/jMsF/2l/Xjkr3CPbxIJXQBUvuVbDfdY3W1XH9nx3TuXUfvD+PkJlqChJBsN/NexasXRaD\n",
       "iyLi+2YPg+DjoohuIp7ABV+ZRwiCr+uDiWsKKjjBV+YRguDrBDtvfA5O8JV5hCD4OsHK9dkbnOAr\n",
       "8wh9l+CD01F4F6y/RHAKwVfv8xLBxnVJIzjBV+YRguDr5iIS1+dBcIJzCH5kH/xNgg0EP1Bw/EWC\n",
       "EwiG4IAFWwh+pGC2STD97bqnschEOlrmHxD8QMF/ulZ08dF+5G+/Rbfug/8JwQ+ci3AKDjCKiCH4\n",
       "gX2wgGAIhmAIhmAIhmAIhmAIhmAIhmAIhmAInim//SYgGILRB0MwBEMwBH+n4MDu0dgq+H4ZTyDY\n",
       "l+CjT5CTBAeX8eTK1UYQfJ3gznIdRBEQfIrgn549IA6G4MV/+c6gFn4c/I2CJ7crILhTMgHBNxY8\n",
       "mbsyExD8LoxEEByaYA8p3L9HcPtUJwgORrCHx2h8jeBERRAciODOUwj2P8roawS3DzTCXMTdBXee\n",
       "BLP/cXLfIlj9EOiDAxS8/5GeXyJY/k0iCA5R8O7HKn+JYPI3h+AgBe8fy32FYPFDRd8j+DsznrgE\n",
       "UwbBUfT7v+QtBX9TxhMvfTDVRcnz8ksV+Il2Hn9juULw9uLajKfNYy7i9ChidyAcah/cZfvvPOoi\n",
       "RhwckuDdkxFhCu53uvl/ej+D4IAE758QDlJwfwM//+q7huCABO+/KBeg4GHs3l6Oq34DwQEJ1tHz\n",
       "BA8Bq2T4AggORrCHxWmhCR5Nnsh0uG0IvrngzsqejD9O8KgQ5m/zyHhy8upKmUaPFywyn5tHH3yu\n",
       "YJNAsOQQHIRgM/XxRiII9rt5ZDxBxhMIXiIYGU8gOAjByHgCwWcLxsoeCD6Y2CMy/0Hw1wo+umIQ\n",
       "DMEQDMEQDMEQDMEQDMGPFIy5CAhGHwzBEAzBEAzBIQvGuggIvrng4NZFXHlWQfB1gv9EFAHBmIuA\n",
       "YAjGSA6CIRiCIRiCIRiCIRiCIRiCIfjofcqEpDq1fovW2cdkyxAMwR72GaepEfKA3UqmNJm9YREZ\n",
       "TyB49z5FSuWR71BKJPpgCD5unyY7+q5uphkEQ/BR+yT0+L3LNLm34Hs+CQaCl+zzxz9P2f9/Z1cL\n",
       "Du5JMMh4smif5Kx3TqlzBCPjybMEG3VaDbLY8T5hZQ8Eb96n1OfVwLEvjOQgeMc+6ZltNJ24tifY\n",
       "EfgJCIZgOz1FcGod9EfBanrWLRMQDMGTb2pyah0mrzAvEbzm2SUQ/CTBmTy1DoxuFLzm+VEQ/CTB\n",
       "6cmV0J/mIlyCVzzDD4IfJJiTkyuRbu2DVzxHFYIdvQf9QsFMndwYU1HLIsErnmUNwZNF2vQLBfee\n",
       "d35GY1CxRDAzRHJlMhMJpbLKdKyOFvztGU9k9IWCpT25MeyiKEJFGTFF7ZLXv+J85VgOGU+eNJKz\n",
       "N6jESDBjkS7CXm5Np+f8eK/HBEtEERB8iuDBXIR89b4F17jkReuIRZCF8bCPONhovewayuCFvcpx\n",
       "CH5oH1zYjd528zoArgLhBXGPD8GKLT6k7ktNTxwzEPxUwaS0qwuz7PXuyrbzjdNTBZvM2oyQbOYu\n",
       "rI7g4Whz6QOMMRdxtuDtjbFQcNnvVqHEC3O5Mr2cEOZKp0qcKPj18+pQs1x+FDxeZJLK+wj+zvng\n",
       "rRXZ3BjLBHMr3uAyFZU9W31RLo0XePAoWNgqFIit+SiYjrrchN5IMKKI86IIVs6cmfLtZ9SUb289\n",
       "mWbluYKNFfVX9VFwPv5lLiH4gXMRU6VenMby6FzBmW2+ik+Cp0L0NIHgR47kxqXOB2BIJE+Ng23W\n",
       "CybmBNOml5bKmHrkpwgEQ3B3kERNpOSJgiu5rwGkm9K7xk1/y4oZYlFxTtp+mepOIRD8MMHNvJSg\n",
       "yccrDV5n0yxRSiVlcK7oux9OXlG5rAOMd41r5bw8HFOv5siXtAoEf5FgMw10zSpQHxlPGpZZ+ydW\n",
       "8nfdRNkzDwTnrP4TY0zbhy+pMTKefJFgD8VHxpNGYDvxLUe9qZwWbLtnG9vVByPjyTMF+8h4UrMU\n",
       "7zk0Qa1KXgFxUiwwqgIIOR1F9MZ8sUYc/P2C75h9tWZpLOv1uOQFOud1ADEUnFV0dYW+2lqSLaux\n",
       "B8Hrumt+tWC+/gVrBPOjGuPSKGK94NT2Ywb+OtYsqf8xFFzPnJXTD5JWrULVWYLNuu6amWsFf67u\n",
       "uIYrBK9rjTWNEZRgWizrMb2o1yijjUOwqCMGo5Kk+SvNThK88BYWrhStbnoxiVfBhlBKqqPmRFtL\n",
       "CMmKcz0SROf5618kzfOkX93ihbpM20dymxrX/NMGwctaY1NjBNYHD8dtOimCBTktOBovKeY6Okdw\n",
       "M18u9ewnoiyubMbVVlPpT7CoQidTt4CoRrM8L2vF6rGtzNSwuqqJ0vrZ++qjGNZwseBlrbGtMcIW\n",
       "LItXa2McgsfreGhykuBmR/H8uhFTbLBeWZhQb4J5M3qtV5Hw2mxSDoSbf0WSDKv7jtL6i1froxjW\n",
       "cLHgZa2xrTGCFSyJfYW2hiaJSE3xj9cpbOngpcNU+EtTBOwXnL8nPOYDvnLGr54izKUvwel7zlDr\n",
       "rmBhdVdwRIfVtU0D9edmmqMY1HCx4GWtsa0xPq7suW0f7Cydl8qB2KUPd9gt+L2oSC8IAOO6x+is\n",
       "Omoe1bM8K4ftbVC1/ZrpmGUlj+pfjDXzM211WdN3y361m6MYrItaKnhNa6xujGD64OX3yeUd7Lw3\n",
       "HDE8OklwNeXBSGYz8mlczXTSmzup4nXR+bJWMGmrKTpmizA3fv/LsGF1i9/X+0s6v+wcxWBd1FLB\n",
       "K1pjfWOEIvjcsltw+g78Pu7KENKwSaP+u7YCcO+NTNtZc27zt1lpqsmH188I6bymra7Oh+FF/yiS\n",
       "dJPgxa2xpTHuLDjgjCfN0jm65O6vevjdX3X0esPWAHYLriJfrZRq5mRLzzxjo+rKd4A8CIOboxis\n",
       "i1oqeE1rrG6MSwV/b8aTJpLpBH4y7VzE7r8beXXQ/VVH3B03TT6tdTqKYLZK9JH1ZiqaOLi5+FVX\n",
       "t4lBB8FXexSDdVH2U0W2tIaXxvAs+IEZT+r3TNoPA1BRvi9Ztdn+qiOu13TBg5EcbUdyiUOwlO3S\n",
       "qrq67zBY8f68JXvPFmzqgxe2xrbGCGUuIjDB9edmGfjNTQtVh1u/abH2FEVEWfH2s/gd2U4JLt8A\n",
       "0auuspNBRHsUsd4TRXxqjW2NgZHcIYLra99F4BfPMcxJ54Ozu+po10juZVRFMZOmvaIxLTjtV7e5\n",
       "4FBPX8lOGFwdxWBd1FLBC1tjW2NA8CGC67kgQiI5O31UPnSiCT87q472zaa9/jA1prgbN2edObX2\n",
       "6GrBKu9XN0qL6IPX0wHvJCTtUQzWRS0VvLA1tjUGBB8iuF5UxLNPz0VhlNJmVqCz6qiZU+LpNsFF\n",
       "ciNiyktg4kUytZa8R2P1Oh+S5e+euVkDFamMtLduaS0HRzFYF7VU8NLW2NQYEHyI4EivX2LNdz1J\n",
       "cFJTsZAm217dWM7XcPFV5fWtsbwxIPgYwRuW6dDEu2CSikRvr676UMPFgte3xvLGwFzEMYIXL8Fo\n",
       "e50s8i44ttaazdUdBq2jGi5fH7y2NVY0BvrggwTLtSAz7l9wRHOyvbrmUw2XC17bGisaA4IPEjy8\n",
       "rvWpmJ03yu29y+hzdcc1XHGX0brWWNMYEHyU4JML7lW+neArczMg4wkELxK8IuPJPfpgZDx5pmAf\n",
       "GU8QRUDw8krcMeMJBEMwRnIQDMEQDMEQDMEQDMEQDMEQDMHfLBgreyAYfTAEfyp4pqePxoDgywTj\n",
       "ucpeGgMZT6bK7owny941RBEeGgMZT9b1wdedVYiDrxP8J6IICMZcBARDMEZyEHz8PiUEYy4iaMGx\n",
       "ObkxqIDgq/rgr5wPZurkxsgkBCOK8LhPTk6uRIooAoK97jM9uRIacxEQ7HWfmTy1DoyiD4Zgr/s0\n",
       "yal1oAyCIdjrPuW5YYSOIBiC/e6TntlG0z0+Mp64M55gXcTHfZ7ZCUsdnSH4z6/JeII+eMk+jTqt\n",
       "BlnseJ8wFwHBO/aZndVKynGuIA6G4H37/J9/nrL//3XldIVgCN65T3JCICEz5xIMCIbgvftU2dHj\n",
       "cKbdz1eEYAjevU+W0iMvzomMzJwiEAzBHvYZp6k5pCOWQqVkdssQDMFe9ikTkurU+i1apx+vmSD7\n",
       "KgTfdp/LKoY+GIIhGIIh+PGCvz3jCQQHLzi4jCd4EswzBeNJMBB8tmCs7IFg9MEQDMEQDMEQDMEQ\n",
       "DMEQDMEQDMEQjLkICIZg9MEQDMEQDMG792kP3jwEQ/DRxJaUwAUj4wn64LsIRsYTCD5bMOYiIPgy\n",
       "wZIjDr6x4MntCgjulExA8I0FKzb3nkFwFDGCuYjgBMcUgt8l5YiDgxM8ncb5mYIT5WUk9wcEHy+Y\n",
       "tZ90Kobguvz1KwSHIrjz7ECeQXDdPj+EF8GIg88V3An+ni1Y/k0iCA5RcKwguCjkbw7BQQreP5b7\n",
       "CsHih4q+SfA3ZjxxCaYMgqPo93/JsAQ/MONJKZjqouR5+aUK/EQ7j7+xXCF4e5ne0F8/PW0eGU9O\n",
       "jyJ2B8LB9sEd0APbiINDErx7MiJQwT2y+X/Kn/gQbCD4XMH7J4SDFNyPJn7+1f/p9s1rSyH4XMH7\n",
       "L8qFKHgQDreX46pfbN88sSkEnytYR88TPBzOqaTb0Ls2z1ziIPggwR4WpwUneAi4/zjm4rc7Dkn7\n",
       "DYQheFJwZ2WPh4evhSZ49LeEeTwkZnMJwUcLdnU/j5qLaJs883pIyhIIPk+wSSBYcr+HRHxOR0Bw\n",
       "B+vUDUUkgmDvh2Q89sJYF3FrTV8qOOLx8YKDWxeBjCcBCfbaoyGKgOCQBSMOhmAIhuDvEnzXBaMQ\n",
       "DMHfWCAYgiEYgiEYgiEYgiEYgiEYgiEYgiEYgiEYgiH4WMFc3JAJBEPwp9eKVgu7sMbTffAdzyoI\n",
       "PgOE440PMIpgEIw+GHEwBH+14Obb3HPmIAiG4B2Cl0YR7N6Cr6wTBF9X2CbBGoIhOGjBqefsbT4E\n",
       "awiG4HnBsc2bbzOrbif4yrMKgq8rHZafBCf2nUGMeM4/6EPwlWcVBF9XOiw/CTZt0kHqNeuKH8FX\n",
       "nlUQfF0xrlyYY8HKZhPf3kbwlWcVBF9XnBbHgmnbySWec8D6EHzlWQXB1xXq+uwdC87aoRJzRc8X\n",
       "Cr7yrILg60rmGsGPBaftRS9+4d3WLsE+zqrRlgUET7SK97Kn3VPXtdix4Nx2Hqtr+d0E+zirRtkr\n",
       "MwHBUVqsO1BJctxV+z3t3mX5QXB3BYW+biGYS7CPs2rUkjGF4PJxelR0Hqt3vOAV7e5cHjwSzLuf\n",
       "0uS6C2BOwR7OqnEGYQ3B5SNNszSR0XmCl7c7dwaPI8GsO1Iy102+OgV7OKvGLanixwsuMYnc5vxE\n",
       "wYvbnTkH8CPBpnvNi1038HcK9nBWjVuSZ08XXH6gcxlxbU4UvLjdjfNS7Egw6Y755HWTEU7BHs6q\n",
       "iecQpPzhgkkxUNKvhlHiRMGL2504l4WPBOtexKwvm4xwCvZwVpUtKQ0twxFSHm+sni24ehJOEh85\n",
       "FbGn3bXzPs+hYNmPmNVlQzmnYA9nVdmSKorzTgPoZwtOzljxt73dpfsqwFBw3F92wC5bheAWvP+s\n",
       "KlpSxBEtWo+knaH4cwWn8iTB29o9djscCh7GG7m9neD9Z1XRkq93LC/6nbzufNppULu5XCE4hLKs\n",
       "3beFwSPBQ7HUirsJ3n9WVSMKVoRWvDk+D4FwwH2wOuX22e3tPvOWDwSLYf/GrlpQPiN491lVtWT5\n",
       "YWasv8mIgAXr6DzBG9pdzHzsDgSbUW+d57cTvPusqloyK1oly6LyKpSPCeFwBTN6ouAN7W5mUiwM\n",
       "BKf5+I/Z3QTvPqvqvoAU16BUpHx9jIYrmIgTBW9o93TmDe8LFhO920WzEXOC955VVUtKokzMSfWQ\n",
       "Wh09WfA5QcTmdhdzH7p9wWRi3lhZeTfBe8+q8bUhL4vTghWcmDMFr293MkewJ1hOyZDXjOVmBe88\n",
       "q8YtmfEnC07lVYIXtbuc7bB6gs2kGnNJJzwreOdZNWpJmUYPFszPuvNwY7ub2YuwPcH5dJ+u1d0E\n",
       "7zyrRi1pvFw7v/RqwZ7miK8SvKzd89lQoyvYxSK+YnnPvOB9Z5UZDr1vewP/KeW0o9/W7h96q45g\n",
       "6VxvQLPbCY6vu4MP5dQiPyyD6Qgmbqc6uZvgS84qlCs+IT680a1glrs7a5HL8wWXhdzprEI5v8yx\n",
       "1P2hgJ67SsBO/8yWSVnYnc4qlPPLHMuKSNOTSRbc2YlI+AFR8EaW/w8MctQISmPKjAAAAABJRU5E\n",
       "rkJggg==\n",
       "\" style=\"display:inline;vertical-align:middle;\" /></a></dd>"
      ],
      "text/plain": [
       "<IPython.core.display.HTML object>"
      ]
     },
     "metadata": {},
     "output_type": "display_data"
    },
    {
     "data": {
      "text/html": [
       "<dt><a class=\"ProveItLink\" href=\"../physics/quantum/QPE/_theory_nbs_/axioms.ipynb#_n_in_natural_pos\">proveit.physics.quantum.QPE._n_in_natural_pos</a></dt><dd><a class=\"ProveItLink\" href=\"../physics/quantum/QPE/__pv_it/axioms/c56e8d491dac79118ccc66af825783557ca23e9b0/expr.ipynb\"><img src=\"data:image/png;base64,iVBORw0KGgoAAAANSUhEUgAAAEEAAAATBAMAAAA9n32KAAAAMFBMVEX///8AAAAAAAAAAAAAAAAA\n",
       "AAAAAAAAAAAAAAAAAAAAAAAAAAAAAAAAAAAAAAAAAAAv3aB7AAAAD3RSTlMARHarECKJu90yVM1m\n",
       "75kejotwAAAACXBIWXMAAA7EAAAOxAGVKw4bAAAA90lEQVQoz2NgwAf4GAgBdrJVeHyvdmDI/SuA\n",
       "x4wqRgMGlg/4bLEIyGFguMDwvLy2vPwAVhVWBdwBDA3YzFDv6NgAok0PsW7AqkJaBcowZZ6ghlDB\n",
       "qOyaVAQWZ90CU2rKUMAuAFfBxm7E4B8AYnEHIFTMY2lpgIWpIEcBQ/wEsAoGhAqeBcsvwHgO/gIM\n",
       "6x1ArLkdQFAAUcFgwgxXwbCegcEazHBHMoPBmaUBzgVK/2EBMTiQVXAqFMC51xi4vrCBGEwKMKFK\n",
       "INaEq2D9ycC04SSYuQsmBmLwbYDxGBsYWGwWgJnOhWAXM8z+C9TPsgFbfIhVdGCKAwDDkzTgOh63\n",
       "3AAAAABJRU5ErkJggg==\n",
       "\" style=\"display:inline;vertical-align:middle;\" /></a></dd>"
      ],
      "text/plain": [
       "<IPython.core.display.HTML object>"
      ]
     },
     "metadata": {},
     "output_type": "display_data"
    },
    {
     "data": {
      "text/html": [
       "<dt><a class=\"ProveItLink\" href=\"../physics/quantum/QPE/_theory_nbs_/axioms.ipynb#_n_ge_two\">proveit.physics.quantum.QPE._n_ge_two</a></dt><dd><a class=\"ProveItLink\" href=\"../physics/quantum/QPE/__pv_it/axioms/44249447384a00e3c2eddd544381c73d683c1cbb0/expr.ipynb\"><img src=\"data:image/png;base64,iVBORw0KGgoAAAANSUhEUgAAADMAAAARBAMAAACC64kkAAAAMFBMVEX///8AAAAAAAAAAAAAAAAA\n",
       "AAAAAAAAAAAAAAAAAAAAAAAAAAAAAAAAAAAAAAAAAAAv3aB7AAAAD3RSTlMARHarECKJu90yVM1m\n",
       "75kejotwAAAACXBIWXMAAA7EAAAOxAGVKw4bAAAAwUlEQVQY02NgwAZY322fgMz3PgBnhjOwfUSW\n",
       "YslQgDFNGRjuopqjkQJl3HdgsA9AlTsBlbNgYLCfwMCo7JpUBJdb/RTG6mdgYGM3YvBHaJY2gdCc\n",
       "nxgYBDkKGOIRLpUugdAcBgwMDv4CDOsd4AaaQhnPQcR6BgZruDOeQBk8BiASKP6HBc3xDMsYWIH2\n",
       "X2Pg+sKG5mXOBAYmBwbWnwxMG06iBVTEu3cvGBgYGxhYbBagBW////+/GSgGHh0g0AnnAwCzoC1e\n",
       "iNAJMAAAAABJRU5ErkJggg==\n",
       "\" style=\"display:inline;vertical-align:middle;\" /></a></dd>"
      ],
      "text/plain": [
       "<IPython.core.display.HTML object>"
      ]
     },
     "metadata": {},
     "output_type": "display_data"
    },
    {
     "data": {
      "text/html": [
       "<dt><a class=\"ProveItLink\" href=\"../physics/quantum/QPE/_theory_nbs_/axioms.ipynb#_eps_in_interval\">proveit.physics.quantum.QPE._eps_in_interval</a></dt><dd><a class=\"ProveItLink\" href=\"../physics/quantum/QPE/__pv_it/axioms/9d5ec70dac6f6bf937c670e5f1e42dac8ce086460/expr.ipynb\"><img src=\"data:image/png;base64,iVBORw0KGgoAAAANSUhEUgAAAEsAAAAVBAMAAAD85A5eAAAAMFBMVEX///8AAAAAAAAAAAAAAAAA\n",
       "AAAAAAAAAAAAAAAAAAAAAAAAAAAAAAAAAAAAAAAAAAAv3aB7AAAAD3RSTlMAIpmrZu8yVHaJuxDd\n",
       "zUQ1r71vAAAACXBIWXMAAA7EAAAOxAGVKw4bAAABL0lEQVQoz2NgwAIEULkcZxKwqeIoQBPgfIBN\n",
       "WSVQYoYilMN2Gocy7gsMDNcZ9kBs3qz7G4cyJgcGlgMMnAugLkBTxrHmzFkwg5WBgcuAgf03VmV8\n",
       "NzZAWbUMDPwKDGzfUZUxKpuAuLIwVQyaDAz7gcq+oCpzhQTKRbi5VxgY5CcwsP1AUQYz/AJc2XGI\n",
       "sp8oypg/GzeAgifmzJkzp8AScUBLJzDwoZrGagAJrAVw0+LAXmBH9QL/BAj3ALKlXAsYWFADhEsB\n",
       "wu2AK1vBwMASwMB0gWEDsheiGXaDuLzw+J4MNnFrAvdfcLR/hARIUks32HFWr6HKcoB40wwzBoYz\n",
       "QOOYTf+aoEQW3yxoZPHAUhf7BnwJiUUBJos/vS2E0jvwK9sFpRvwK2NsQEv0Rx8AAKhjXov/PGqx\n",
       "AAAAAElFTkSuQmCC\n",
       "\" style=\"display:inline;vertical-align:middle;\" /></a></dd>"
      ],
      "text/plain": [
       "<IPython.core.display.HTML object>"
      ]
     },
     "metadata": {},
     "output_type": "display_data"
    },
    {
     "data": {
      "text/html": [
       "<dt><a class=\"ProveItLink\" href=\"../physics/quantum/QPE/_theory_nbs_/axioms.ipynb#_t_req\">proveit.physics.quantum.QPE._t_req</a></dt><dd><a class=\"ProveItLink\" href=\"../physics/quantum/QPE/__pv_it/axioms/536ff1b8d0476ded2e01a40fc226c6e47c8b6b3c0/expr.ipynb\"><img src=\"data:image/png;base64,iVBORw0KGgoAAAANSUhEUgAAAQsAAAAzBAMAAAByJTAVAAAAMFBMVEX///8AAAAAAAAAAAAAAAAA\n",
       "AAAAAAAAAAAAAAAAAAAAAAAAAAAAAAAAAAAAAAAAAAAv3aB7AAAAD3RSTlMAEN0iVJmJRKu7ds0y\n",
       "Zu8qwvqBAAAACXBIWXMAAA7EAAAOxAGVKw4bAAAE3UlEQVRYw72ZX2gcRRzHf3u3d3u527tsKora\n",
       "h4tbKyHaZvHPQ1/s4oMPFswZCVb6khYswRfzZqWUXhuoorSJfSqi7emTFCQRtCgIHkJBqPTOvini\n",
       "pX2QiJr2TNNr04Tr7M7++e3tzN7OUvqDsHu5+e58duY3v99v5gCETBoaGoL7ZORRWt9GnzL/m+p2\n",
       "74pqQq/yMb2e63aHAR6LRMk12Rgz4pqQ/eT2rBAM9YmopidAHONE1ANRd/IwwoCXIkTFRXEMnsa2\n",
       "R/e1/Q/TGCNb5ateNMQxeBpqeYSRaiIM2MEXjYI4xijExZCvYoxXuU5aXBLH4GrCGPAtxihUeJrS\n",
       "lDgGV8PAOGogDGWVp1nQxDEWtPgYhSrCgO94mhEQxxiB+BhyG2OMc15A3RDH4GsYGNI6xijXOOFw\n",
       "SRwjtySAAacxxsAwx9uq4hilqghGy0AYRY6PNpriGI2mCEa5iTCkTY7TG+IYC0Y0RnY1PHYOBiyz\n",
       "JWdBHONsNEXu1N2T6CN1BxfjNFvzdyTGpWW+Jj35fT1Ors/ewBjvWDOzzbrbiqZWWoseDVa4cTS7\n",
       "INuJg1HsYIzWjBtKpAP+4lXXe1VHAhhnWGGDamYBVpx8EemytLmL0SB9Z5z7L/Z7Me5mr+qVvhiO\n",
       "5roGc9RX5VpkIbiGMcokuaXclHTF5ShuxMbwloejOQ4wV4+BAbcxxmAVDp074wr2vO4scXttKV8+\n",
       "9PYnPIyHz78BcGj6d6+Cy3vrcQziYNwJYMyTxOJ/d/gYdWPbW7IDH0LZYGOo22CgprbhP8Vz/XaP\n",
       "Y/XB+AdjlEj5uA9h0NI9Yz/y3dQ87K6zMchEqhu5YWsOHMu4GKlqLAwdY6TI9Snvqz2zTqixF7VW\n",
       "nqEpeELXV3R9BGM0TIBbAQyqIfamDaXrO6/pukU02O0x2nBnAGMJJG+dX3kt+EgyWx9xfGOcXO4o\n",
       "bauafWT6GMYouhmuz2j0Ysg3QOtZsM4AE4ZNiY1hjcaatHeaxIYKTOBJeRnSRpJJySzK9Z7w5WSh\n",
       "v0hky7IxShVQOrKdXzrUgRyNOgV5LYmL5qqP9wbzvB0D0huQX/yDs1L+hcKU8sNzpMdfKQbVwLOT\n",
       "kxOxJmU5gFGF9GehqEtDEWkjnTQZGD+vzMILB98H+LH7v9XXARS+xrytdh+MQBQdZG4R5E50FHWT\n",
       "tSk9P+puTkMaD4OZdKVbgWDO3Fuom9GpzbH3yN9vJKlqTI2X2phJN5zaqG3RLXsGjVjfsmcLeclv\n",
       "IF2hS4Or8ZNuKBO6GOMmU/l0LAzp4Pm36rDrl4tapMZPurgyXcUYnALylEAReL3bjdb4SRfXhIHq\n",
       "a46tbGnitWgrYu845t2l99KKtDSPMThFZ8NMsEEw+5Ratv3pjMvuGsJIrz+Q7VLK+0q9KbJdyiTY\n",
       "PPI1NOlKVljL3f6g5jqMj5HjbB6VjjgGX+Mk3e14yAJb6UFewN2e4GCBq/GSLunQCZfFwMEC17tb\n",
       "CY5ZeBo/6ZL4Xwl4i4Mx8iAOnfykS5CuwpDAoVOxneAIjqMZw+fbF7/6HPwtBsUY4K+xCwkOJC9A\n",
       "XFPaGOMoP/BdTnA8e9mIi5EyMcaTEYci8+IYPE3YYh9W3/+jezwnixjjcFTTgimOUTDjYVwK/JDx\n",
       "dWRb9k80siGuCRWAXscSqdC22kz3AC7ma+ONSySBAAAAAElFTkSuQmCC\n",
       "\" style=\"display:inline;vertical-align:middle;\" /></a></dd>"
      ],
      "text/plain": [
       "<IPython.core.display.HTML object>"
      ]
     },
     "metadata": {},
     "output_type": "display_data"
    }
   ],
   "source": [
    "import proveit\n",
    "%theory # toggles between interactive and static modes"
   ]
  },
  {
   "cell_type": "code",
   "execution_count": null,
   "metadata": {},
   "outputs": [],
   "source": []
  },
  {
   "cell_type": "code",
   "execution_count": null,
   "metadata": {},
   "outputs": [],
   "source": []
  }
 ],
 "metadata": {
  "kernelspec": {
   "display_name": "Python 3",
   "language": "python",
   "name": "python3"
  }
 },
 "nbformat": 4,
 "nbformat_minor": 0
}