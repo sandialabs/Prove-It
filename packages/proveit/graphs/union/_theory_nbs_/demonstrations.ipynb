{
 "cells": [
  {
   "cell_type": "markdown",
   "metadata": {},
   "source": [
    "Demonstrations for the theory of <a class=\"ProveItLink\" href=\"theory.ipynb\">proveit.graphs.union</a>\n",
    "========"
   ]
  },
  {
   "cell_type": "code",
   "execution_count": null,
   "metadata": {},
   "outputs": [],
   "source": [
    "import proveit\n",
    "from proveit import g, i, n, x, G, ExprRange, IndexedVar\n",
    "from proveit.logic import And, InSet, Or\n",
    "from proveit.numbers import one, two, NaturalPos\n",
    "from proveit.graphs import GraphUnion, InGraph, NotInGraph\n",
    "%begin demonstrations"
   ]
  },
  {
   "cell_type": "markdown",
   "metadata": {},
   "source": [
    "## Graph Union, Graph Union Membership, & Related Concepts and Methods: $G_{1} \\cup G_{2} \\cup \\cdots \\cup G_{n}$"
   ]
  },
  {
   "cell_type": "markdown",
   "metadata": {},
   "source": [
    "## Miscellaneous Testing\n",
    "Testing various classes and methods related to unions of graphs and membership (or non-membership) in such unions. Some of this material could eventually be integrated into the `_demonstrations_` page and/or deleted as development continues."
   ]
  },
  {
   "cell_type": "markdown",
   "metadata": {},
   "source": [
    "#### Basic Constructions: Graph Unions and Union Membership\n",
    "\n",
    "A graph $G = (V, E)$ consists of an ordered pair of sets $V$ and $E$, where $V$ is the set of vertices and $E$ is the set of edges. The union $G = G_{1} \\cup G_{2} \\cup \\cdots \\cup G_{n}$ of graphs $G_{1}, G_{2}, \\ldots G_{n}$ is a graph $G = (V, E)$ with vertex $V = V_{1} \\cup \\cdots \\cup V_{n}$ and edge set $E = E_{1} \\cup \\cdots \\cup E_{n}$."
   ]
  },
  {
   "cell_type": "code",
   "execution_count": null,
   "metadata": {},
   "outputs": [],
   "source": [
    "G1, G2 = (IndexedVar(G, one), IndexedVar(G, two))"
   ]
  },
  {
   "cell_type": "code",
   "execution_count": null,
   "metadata": {},
   "outputs": [],
   "source": [
    "GraphUnion(G1, G2)"
   ]
  },
  {
   "cell_type": "code",
   "execution_count": null,
   "metadata": {},
   "outputs": [],
   "source": [
    "G_1_to_n = ExprRange(i, IndexedVar(G, i), one, n)"
   ]
  },
  {
   "cell_type": "code",
   "execution_count": null,
   "metadata": {},
   "outputs": [],
   "source": [
    "GraphUnion(G_1_to_n)"
   ]
  },
  {
   "cell_type": "code",
   "execution_count": null,
   "metadata": {},
   "outputs": [],
   "source": [
    "InGraph(G, GraphUnion(G1, G2))"
   ]
  },
  {
   "cell_type": "code",
   "execution_count": null,
   "metadata": {},
   "outputs": [],
   "source": [
    "NotInGraph(G, GraphUnion(G_1_to_n))"
   ]
  },
  {
   "cell_type": "markdown",
   "metadata": {},
   "source": [
    "#### Basic Testing of `GraphUnion()` methods\n",
    "\n",
    "TBA"
   ]
  },
  {
   "cell_type": "markdown",
   "metadata": {},
   "source": [
    "#### Basic Testing of `GraphUnionMembership()` methods"
   ]
  },
  {
   "cell_type": "code",
   "execution_count": null,
   "metadata": {},
   "outputs": [],
   "source": [
    "G_in_union_G1_G2 = InGraph(G, GraphUnion(G1, G2))"
   ]
  },
  {
   "cell_type": "code",
   "execution_count": null,
   "metadata": {},
   "outputs": [],
   "source": [
    "G_in_union_G1_G2.definition()"
   ]
  },
  {
   "cell_type": "code",
   "execution_count": null,
   "metadata": {},
   "outputs": [],
   "source": [
    "G_in_union_G1_G2.as_defined()"
   ]
  },
  {
   "cell_type": "code",
   "execution_count": null,
   "metadata": {},
   "outputs": [],
   "source": [
    "G_in_union_G1_G2.unfold(assumptions = [G_in_union_G1_G2])"
   ]
  },
  {
   "cell_type": "code",
   "execution_count": null,
   "metadata": {},
   "outputs": [],
   "source": [
    "G_in_union_G1_G2.conclude(assumptions = [Or(InGraph(G, G1), InGraph(G, G2))])"
   ]
  },
  {
   "cell_type": "code",
   "execution_count": null,
   "metadata": {},
   "outputs": [],
   "source": [
    "G_in_union_G1_G2.deduce_in_bool()"
   ]
  },
  {
   "cell_type": "markdown",
   "metadata": {},
   "source": [
    "#### Basic Testing of `GraphUnionNonmembership()` methods"
   ]
  },
  {
   "cell_type": "code",
   "execution_count": null,
   "metadata": {},
   "outputs": [],
   "source": [
    "G_not_in_union_G1_to_Gn = NotInGraph(G, GraphUnion(G_1_to_n))"
   ]
  },
  {
   "cell_type": "code",
   "execution_count": null,
   "metadata": {},
   "outputs": [],
   "source": [
    "G_not_in_union_G1_G2 = NotInGraph(G, GraphUnion(G1, G2))"
   ]
  },
  {
   "cell_type": "code",
   "execution_count": null,
   "metadata": {},
   "outputs": [],
   "source": [
    "G_not_in_union_G1_to_Gn.definition(assumptions=[InSet(n, NaturalPos)])"
   ]
  },
  {
   "cell_type": "code",
   "execution_count": null,
   "metadata": {},
   "outputs": [],
   "source": [
    "G_not_in_union_G1_G2.definition()"
   ]
  },
  {
   "cell_type": "code",
   "execution_count": null,
   "metadata": {},
   "outputs": [],
   "source": [
    "G_not_in_union_G1_to_Gn.as_defined()"
   ]
  },
  {
   "cell_type": "code",
   "execution_count": null,
   "metadata": {},
   "outputs": [],
   "source": [
    "G_not_in_union_G1_G2.as_defined()"
   ]
  },
  {
   "cell_type": "code",
   "execution_count": null,
   "metadata": {},
   "outputs": [],
   "source": [
    "try:\n",
    "    G_not_in_union_G1_G2.conclude(assumptions = [And(NotInGraph(G, G1), NotInGraph(G, G2))])\n",
    "except Exception as the_exception:\n",
    "    print(f\"Exception: {the_exception}\")"
   ]
  },
  {
   "cell_type": "code",
   "execution_count": null,
   "metadata": {},
   "outputs": [],
   "source": [
    "try:\n",
    "    G_not_in_union_G1_to_Gn.conclude(\n",
    "        assumptions = [InSet(n, NaturalPos), And(ExprRange(i, NotInGraph(G, IndexedVar(G, i)), one, n))])\n",
    "except Exception as the_exception:\n",
    "    print(f\"Exception: {the_exception}\")"
   ]
  },
  {
   "cell_type": "code",
   "execution_count": null,
   "metadata": {},
   "outputs": [],
   "source": [
    "G_not_in_union_G1_G2.deduce_in_bool()"
   ]
  },
  {
   "cell_type": "code",
   "execution_count": null,
   "metadata": {},
   "outputs": [],
   "source": [
    "G_not_in_union_G1_to_Gn.deduce_in_bool(assumptions = [InSet(n, NaturalPos)])"
   ]
  },
  {
   "cell_type": "code",
   "execution_count": null,
   "metadata": {},
   "outputs": [],
   "source": [
    "%end demonstrations"
   ]
  }
 ],
 "metadata": {
  "kernelspec": {
   "display_name": "Python 3",
   "language": "python",
   "name": "python3"
  }
 },
 "nbformat": 4,
 "nbformat_minor": 0
}
