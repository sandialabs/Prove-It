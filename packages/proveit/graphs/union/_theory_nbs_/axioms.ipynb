{
 "cells": [
  {
   "cell_type": "markdown",
   "metadata": {},
   "source": [
    "Axioms for the theory of <a class=\"ProveItLink\" href=\"theory.ipynb\">proveit.graphs.union</a>\n",
    "========"
   ]
  },
  {
   "cell_type": "code",
   "execution_count": null,
   "metadata": {},
   "outputs": [],
   "source": [
    "import proveit\n",
    "# Prepare this notebook for defining the axioms of a theory:\n",
    "%axioms_notebook # Keep this at the top following 'import proveit'.\n",
    "\n",
    "from proveit import n, x, E, G, V\n",
    "from proveit.logic import Equals, Forall, Or\n",
    "from proveit.logic.sets import InSet\n",
    "from proveit.numbers import NaturalPos\n",
    "from proveit.graphs import G_1_to_n, Graph, GraphUnion, InGraph, x_in_any_G_1_to_n"
   ]
  },
  {
   "cell_type": "code",
   "execution_count": null,
   "metadata": {},
   "outputs": [],
   "source": [
    "%begin axioms"
   ]
  },
  {
   "cell_type": "markdown",
   "metadata": {},
   "source": [
    "### Graph Union Membership\n",
    "\n",
    "An element (i.e., a vertex or edge) of the union of a collection of graphs is an element of at least one of those graphs."
   ]
  },
  {
   "cell_type": "code",
   "execution_count": null,
   "metadata": {},
   "outputs": [],
   "source": [
    "graph_union_membership_def = Forall(n,\n",
    "       Forall((x, G_1_to_n),\n",
    "              Equals(InGraph(x, GraphUnion(G_1_to_n)),\n",
    "                     x_in_any_G_1_to_n)),\n",
    "       domain=NaturalPos\n",
    ")"
   ]
  },
  {
   "cell_type": "markdown",
   "metadata": {},
   "source": [
    "But that membership axiom doesn't really get at the heart of the desired idea that the union of a set of graphs is itself a graph. To better achieve that and to avoid the idiosyncratic construct $x \\in G$ (meaning $x \\in \\texttt{Vertices}(G) \\lor x \\in \\texttt{Edges}(G)$), we could instead try:\n",
    "\n",
    "$\\forall_{G_{1}, G_{2}, \\ldots, G_{n} \\in \\texttt{Graphs}}\n",
    " \\big[ G_{1} \\cup G_{2} \\cup \\ldots \\cup G_{n} \\in \\texttt{Graphs} \\big]$\n",
    "\n",
    "$\\forall_{G_{1}, G_{2}, \\ldots, G_{n} \\in \\texttt{Graphs}}\n",
    " \\big[\\texttt{Vertices}(G_{1} \\cup G_{2} \\cup \\ldots \\cup G_{n})\n",
    " = \\texttt{Vertices}(G_{1}) \\cup \\texttt{Vertices}(G_{2}) \\cup \\ldots \\texttt{Vertices}(G_{n})\\big]$\n",
    "\n",
    " $\\forall_{G_{1}, G_{2}, \\ldots, G_{n} \\in \\texttt{Graphs}}\n",
    " \\big[\\texttt{Edges}(G_{1} \\cup G_{2} \\cup \\ldots \\cup G_{n})\n",
    " = \\texttt{Edges}(G_{1}) \\cup \\texttt{Edges}(G_{2}) \\cup \\ldots \\texttt{Edges}(G_{n})\\big]$\n",
    "\n",
    "where we us all three as axiomatic. Alternatively, we could possibly use the Vertices() and Edges() statements as axioms, then prove the more general union statement as a theorem. The proof might be accomplished by showing that the new Edges() set is a subset of the set of 2-element subsets of the new Vertices() set, and then we have the axiom that $\\forall_{V}\\forall_{E \\subseteq [V]^{2}}(\\texttt{Graph}(V, E) \\in \\texttt{Graphs})$."
   ]
  },
  {
   "cell_type": "code",
   "execution_count": null,
   "metadata": {},
   "outputs": [],
   "source": [
    "%end axioms"
   ]
  }
 ],
 "metadata": {
  "kernelspec": {
   "display_name": "Python 3",
   "language": "python",
   "name": "python3"
  }
 },
 "nbformat": 4,
 "nbformat_minor": 0
}
