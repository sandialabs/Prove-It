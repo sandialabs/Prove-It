{
 "cells": [
  {
   "cell_type": "markdown",
   "metadata": {},
   "source": [
    "Axioms for the theory of <a class=\"ProveItLink\" href=\"theory.ipynb\">proveit.graphs.union</a>\n",
    "========"
   ]
  },
  {
   "cell_type": "code",
   "execution_count": null,
   "metadata": {},
   "outputs": [],
   "source": [
    "import proveit\n",
    "# Prepare this notebook for defining the axioms of a theory:\n",
    "%axioms_notebook # Keep this at the top following 'import proveit'.\n",
    "\n",
    "from proveit import n, x, E, G, V\n",
    "from proveit.logic import Equals, Forall, Or\n",
    "from proveit.logic.sets import InSet\n",
    "from proveit.numbers import NaturalPos\n",
    "from proveit.graphs import G_1_to_n, Graph, GraphUnion, InGraph, x_in_any_G_1_to_n"
   ]
  },
  {
   "cell_type": "code",
   "execution_count": null,
   "metadata": {},
   "outputs": [],
   "source": [
    "%begin axioms"
   ]
  },
  {
   "cell_type": "markdown",
   "metadata": {},
   "source": [
    "### Graph Union Membership\n",
    "\n",
    "An element (i.e., a vertex or edge) of the union of a collection of graphs is an element of at least one of those graphs."
   ]
  },
  {
   "cell_type": "code",
   "execution_count": null,
   "metadata": {},
   "outputs": [],
   "source": [
    "graph_union_membership_def = Forall(n,\n",
    "       Forall((x, G_1_to_n),\n",
    "              Equals(InGraph(x, GraphUnion(G_1_to_n)),\n",
    "                     x_in_any_G_1_to_n)),\n",
    "       domain=NaturalPos\n",
    ")"
   ]
  },
  {
   "cell_type": "code",
   "execution_count": null,
   "metadata": {},
   "outputs": [],
   "source": [
    "%end axioms"
   ]
  }
 ],
 "metadata": {
  "kernelspec": {
   "display_name": "Python 3",
   "language": "python",
   "name": "python3"
  }
 },
 "nbformat": 4,
 "nbformat_minor": 0
}
