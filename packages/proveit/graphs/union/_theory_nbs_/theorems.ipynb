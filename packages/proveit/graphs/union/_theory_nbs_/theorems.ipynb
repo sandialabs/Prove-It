{
 "cells": [
  {
   "cell_type": "markdown",
   "metadata": {},
   "source": [
    "Theorems (or conjectures) for the theory of <a class=\"ProveItLink\" href=\"theory.ipynb\">proveit.graphs.union</a>\n",
    "========"
   ]
  },
  {
   "cell_type": "code",
   "execution_count": null,
   "metadata": {},
   "outputs": [],
   "source": [
    "import proveit\n",
    "# Prepare this notebook for defining the theorems of a theory:\n",
    "%theorems_notebook # Keep this at the top following 'import proveit'.\n",
    "\n",
    "from proveit import n, x, E, G, V\n",
    "from proveit.logic import Equals, Forall, Or\n",
    "# from proveit.logic.sets import InSet\n",
    "from proveit.numbers import NaturalPos\n",
    "from proveit.graphs import (G_1_to_n, Graph, GraphUnion, InGraph, NotInGraph,\n",
    "                            x_in_any_G_1_to_n, x_not_in_any_G_1_to_n)"
   ]
  },
  {
   "cell_type": "code",
   "execution_count": null,
   "metadata": {},
   "outputs": [],
   "source": [
    "%begin theorems"
   ]
  },
  {
   "cell_type": "code",
   "execution_count": null,
   "metadata": {},
   "outputs": [],
   "source": [
    "membership_unfolding = (\n",
    "    Forall(n, Forall((x, G_1_to_n), x_in_any_G_1_to_n, conditions = [InGraph(x, GraphUnion(G_1_to_n))]),\n",
    "    domain=NaturalPos\n",
    "))"
   ]
  },
  {
   "cell_type": "code",
   "execution_count": null,
   "metadata": {},
   "outputs": [],
   "source": [
    "membership_folding = (\n",
    "    Forall(n, Forall((x, G_1_to_n), InGraph(x, GraphUnion(G_1_to_n)), conditions = [x_in_any_G_1_to_n]),\n",
    "    domain=NaturalPos\n",
    "))"
   ]
  },
  {
   "cell_type": "code",
   "execution_count": null,
   "metadata": {},
   "outputs": [],
   "source": [
    "from proveit.logic import in_bool\n",
    "union_membership_is_bool = (\n",
    "    Forall(n, Forall((x, G_1_to_n), in_bool(InGraph(x, GraphUnion(G_1_to_n)))),\n",
    "    domain=NaturalPos\n",
    "))"
   ]
  },
  {
   "cell_type": "code",
   "execution_count": null,
   "metadata": {},
   "outputs": [],
   "source": [
    "nonmembership_equiv = (\n",
    "    Forall(n, Forall((x, G_1_to_n), \n",
    "    Equals(NotInGraph(x, GraphUnion(G_1_to_n)), x_not_in_any_G_1_to_n)),\n",
    "    domain=NaturalPos)\n",
    ")"
   ]
  },
  {
   "cell_type": "code",
   "execution_count": null,
   "metadata": {},
   "outputs": [],
   "source": [
    "nonmembership_folding = (\n",
    "    Forall(n, Forall((x, G_1_to_n), \n",
    "              NotInGraph(x, GraphUnion(G_1_to_n)),\n",
    "              conditions=[x_not_in_any_G_1_to_n]),\n",
    "    domain=NaturalPos)\n",
    ")"
   ]
  },
  {
   "cell_type": "code",
   "execution_count": null,
   "metadata": {},
   "outputs": [],
   "source": [
    "from proveit.logic import in_bool\n",
    "union_nonmembership_is_bool = (\n",
    "    Forall(n, Forall((x, G_1_to_n), in_bool(NotInGraph(x, GraphUnion(G_1_to_n)))),\n",
    "    domain=NaturalPos\n",
    "))"
   ]
  },
  {
   "cell_type": "code",
   "execution_count": null,
   "metadata": {},
   "outputs": [],
   "source": [
    "%end theorems"
   ]
  }
 ],
 "metadata": {
  "kernelspec": {
   "display_name": "Python 3",
   "language": "python",
   "name": "python3"
  }
 },
 "nbformat": 4,
 "nbformat_minor": 0
}
