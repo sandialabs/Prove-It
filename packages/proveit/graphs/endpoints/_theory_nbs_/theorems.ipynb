{
 "cells": [
  {
   "cell_type": "markdown",
   "metadata": {},
   "source": [
    "Theorems (or conjectures) for the theory of <a class=\"ProveItLink\" href=\"theory.ipynb\">proveit.graphs.endpoints</a>\n",
    "========"
   ]
  },
  {
   "cell_type": "code",
   "execution_count": null,
   "metadata": {},
   "outputs": [],
   "source": [
    "import proveit\n",
    "# Prepare this notebook for defining the theorems of a theory:\n",
    "%theorems_notebook # Keep this at the top following 'import proveit'.\n",
    "\n",
    "from proveit import v, E, P, V\n",
    "from proveit.logic import And, Equals, Forall, InClass, NotEquals\n",
    "from proveit.logic.sets import EmptySet, InSet, KPowerSet, SubsetEq\n",
    "from proveit.numbers import one, two, LessEq\n",
    "from proveit.graphs import Degree, Endpoints, Path, Vertices\n",
    "\n",
    "from proveit.logic.sets import SetOfAll\n",
    "from proveit.graphs import Paths"
   ]
  },
  {
   "cell_type": "code",
   "execution_count": null,
   "metadata": {},
   "outputs": [],
   "source": [
    "%begin theorems"
   ]
  },
  {
   "cell_type": "code",
   "execution_count": null,
   "metadata": {},
   "outputs": [],
   "source": [
    "membership_unfolding = (\n",
    "    Forall(P,\n",
    "    Forall(v,\n",
    "           And(InSet(v, Vertices(P)), LessEq(Degree(v, P), one)),\n",
    "           domain = Endpoints(P)),\n",
    "    domain = Paths())\n",
    ")"
   ]
  },
  {
   "cell_type": "code",
   "execution_count": null,
   "metadata": {},
   "outputs": [],
   "source": [
    "# membership_unfolding = (\n",
    "#     Forall(V,\n",
    "#            Forall((v, E),\n",
    "#                   And(InSet(v, V), LessEq(Degree(v), one)),\n",
    "#                   conditions = [SubsetEq(E, KPowerSet(V, two)),\n",
    "#                                 InSet(v, Endpoints(Path(V, E)))]\n",
    "#            )\n",
    "#     )\n",
    "# )"
   ]
  },
  {
   "cell_type": "code",
   "execution_count": null,
   "metadata": {},
   "outputs": [],
   "source": [
    "# membership_folding = (\n",
    "#     Forall(V,\n",
    "#            Forall((v, E),\n",
    "#                   InSet(v, Endpoints(Path(V, E))),\n",
    "#                   conditions = [SubsetEq(E, KPowerSet(V, two)),\n",
    "#                                 NotEquals(E, EmptySet), And(InSet(v, V), Equals(Degree(v), one))]\n",
    "#            )\n",
    "#     )\n",
    "# )"
   ]
  },
  {
   "cell_type": "code",
   "execution_count": null,
   "metadata": {},
   "outputs": [],
   "source": []
  },
  {
   "cell_type": "code",
   "execution_count": null,
   "metadata": {},
   "outputs": [],
   "source": [
    "%end theorems"
   ]
  }
 ],
 "metadata": {
  "kernelspec": {
   "display_name": "Python 3",
   "language": "python",
   "name": "python3"
  }
 },
 "nbformat": 4,
 "nbformat_minor": 0
}
