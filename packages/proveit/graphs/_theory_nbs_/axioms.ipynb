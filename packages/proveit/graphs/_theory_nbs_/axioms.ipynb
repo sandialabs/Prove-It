{
 "cells": [
  {
   "cell_type": "markdown",
   "metadata": {},
   "source": [
    "Axioms for the theory of <a class=\"ProveItLink\" href=\"theory.ipynb\">proveit.graphs</a>\n",
    "========"
   ]
  },
  {
   "cell_type": "code",
   "execution_count": null,
   "metadata": {},
   "outputs": [],
   "source": [
    "import proveit\n",
    "# Prepare this notebook for defining the axioms of a theory:\n",
    "%axioms_notebook # Keep this at the top following 'import proveit'.\n",
    "\n",
    "from proveit import E, V\n",
    "from proveit.logic import Equals, Forall, InClass, InSet\n",
    "from proveit.logic.sets import CartProd, SubsetEq\n",
    "from proveit.graphs import Edges, Graph, Graphs, Vertices\n"
   ]
  },
  {
   "cell_type": "code",
   "execution_count": null,
   "metadata": {},
   "outputs": [],
   "source": [
    "%begin axioms"
   ]
  },
  {
   "cell_type": "code",
   "execution_count": null,
   "metadata": {},
   "outputs": [],
   "source": [
    "graph_v_e_in_graphs = (\n",
    "    Forall(V,\n",
    "    Forall(E, InClass(Graph(V, E), Graphs()), conditions = [SubsetEq(E, CartProd(V, V))])\n",
    "    )\n",
    ")"
   ]
  },
  {
   "cell_type": "code",
   "execution_count": null,
   "metadata": {},
   "outputs": [],
   "source": [
    "vertex_set_of_graph_v_e_is_v = (\n",
    "    Forall(V,\n",
    "    Forall(E, Equals(Vertices(Graph(V, E)), V), conditions = [SubsetEq(E, CartProd(V, V))])\n",
    "    )\n",
    ")"
   ]
  },
  {
   "cell_type": "code",
   "execution_count": null,
   "metadata": {},
   "outputs": [],
   "source": [
    "edge_set_of_graph_v_e_is_e = (\n",
    "    Forall(V,\n",
    "    Forall(E, Equals(Edges(Graph(V, E)), E), conditions = [SubsetEq(E, CartProd(V, V))])\n",
    "    )\n",
    ")"
   ]
  },
  {
   "cell_type": "markdown",
   "metadata": {},
   "source": [
    "axiomatic definitions of Vertices() and Edges() functions\n",
    "(and implicitly of Graph(V, E))\n",
    "\n",
    "Forall(V,\n",
    "Forall(E, Vertices(Graph(V,E)) = V,\n",
    "       conditions = [E subset of V X V]\n",
    "))\n",
    "\n",
    "Forall(V,\n",
    "Forall(E, Edges(Graph(V,E)) = E,\n",
    "       conditions = [E subset of V X V]\n",
    "))\n",
    "\n",
    "Forall(V,\n",
    "Forall(E, Graph(V,E) is elem of class of Graphs,\n",
    "       conditions = [E subset of V X V]\n",
    "))"
   ]
  },
  {
   "cell_type": "code",
   "execution_count": null,
   "metadata": {},
   "outputs": [],
   "source": [
    "%end axioms"
   ]
  }
 ],
 "metadata": {
  "kernelspec": {
   "display_name": "Python 3",
   "language": "python",
   "name": "python3"
  }
 },
 "nbformat": 4,
 "nbformat_minor": 0
}
