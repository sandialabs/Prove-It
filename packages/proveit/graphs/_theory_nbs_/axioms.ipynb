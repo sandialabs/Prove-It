{
 "cells": [
  {
   "cell_type": "markdown",
   "metadata": {},
   "source": [
    "Axioms for the theory of <a class=\"ProveItLink\" href=\"theory.ipynb\">proveit.graphs</a>\n",
    "========"
   ]
  },
  {
   "cell_type": "code",
   "execution_count": null,
   "metadata": {},
   "outputs": [],
   "source": [
    "import proveit\n",
    "# Prepare this notebook for defining the axioms of a theory:\n",
    "%axioms_notebook # Keep this at the top following 'import proveit'.\n",
    "\n",
    "from proveit import u, v, E, G, P, V, W\n",
    "from proveit.logic import And, Equals, Exists, Forall, InClass, InSet\n",
    "from proveit.logic.sets import Card, Set, KPowerSet, SetOfAll, SubsetEq\n",
    "from proveit.numbers import two\n",
    "from proveit.graphs import (AdjacentVertices, Closed, Connected, Degree, EdgeSequence, EdgeSet, Edges,\n",
    "        EndVertices, Graph, Graphs, HasEulerianCircuit, HasEulerianTrail, Order, Path,\n",
    "        Paths, Size, Vertices, WalkLength, Walks)\n"
   ]
  },
  {
   "cell_type": "code",
   "execution_count": null,
   "metadata": {},
   "outputs": [],
   "source": [
    "%begin axioms"
   ]
  },
  {
   "cell_type": "code",
   "execution_count": null,
   "metadata": {},
   "outputs": [],
   "source": [
    "graph_v_e_in_graphs = (\n",
    "    Forall(V,\n",
    "    Forall(E, InClass(Graph(V, E), Graphs()), conditions = [SubsetEq(E, KPowerSet(V, two))])\n",
    "    )\n",
    ")"
   ]
  },
  {
   "cell_type": "code",
   "execution_count": null,
   "metadata": {},
   "outputs": [],
   "source": [
    "graph_order_def = Forall(G, \n",
    "       Equals(Order(G), Card(Vertices(G))),\n",
    "       domain = Graphs()\n",
    "      )"
   ]
  },
  {
   "cell_type": "code",
   "execution_count": null,
   "metadata": {},
   "outputs": [],
   "source": [
    "graph_size_def = Forall(G, \n",
    "       Equals(Size(G), Card(Edges(G))),\n",
    "       domain = Graphs()\n",
    "      )"
   ]
  },
  {
   "cell_type": "code",
   "execution_count": null,
   "metadata": {},
   "outputs": [],
   "source": [
    "connected_def = (\n",
    "    Forall(G,\n",
    "          Equals(Connected(G),\n",
    "                 Forall((u, v),\n",
    "                         Exists(P, Equals(EndVertices(P), Set(u, v)), domain = Paths(G)),\n",
    "                         domain = Vertices(G))),\n",
    "          domain = Graphs()\n",
    "    )\n",
    ")"
   ]
  },
  {
   "cell_type": "code",
   "execution_count": null,
   "metadata": {},
   "outputs": [],
   "source": [
    "vertices_def = (\n",
    "    Forall(V,\n",
    "    Forall(E, Equals(Vertices(Graph(V, E)), V), conditions = [SubsetEq(E, KPowerSet(V, two))])\n",
    "    )\n",
    ")"
   ]
  },
  {
   "cell_type": "code",
   "execution_count": null,
   "metadata": {},
   "outputs": [],
   "source": [
    "edges_def = (\n",
    "    Forall(V,\n",
    "    Forall(E, Equals(Edges(Graph(V, E)), E), conditions = [SubsetEq(E, KPowerSet(V, two))])\n",
    "    )\n",
    ")"
   ]
  },
  {
   "cell_type": "markdown",
   "metadata": {},
   "source": [
    "##### Characterizing an edge: An edge in a graph $G(V, E)$ is a 2-element subset of the vertex set $V$. The set of 2-element subsets of $V$ is denoted by $[V]^{2}$."
   ]
  },
  {
   "cell_type": "code",
   "execution_count": null,
   "metadata": {},
   "outputs": [],
   "source": [
    "# needs a name!\n",
    "Forall(G, SubsetEq(Edges(G), KPowerSet(Vertices(G), two)), domain = Graphs())"
   ]
  },
  {
   "cell_type": "markdown",
   "metadata": {},
   "source": [
    "##### The _degree_ of a vertex $v$ in a graph $G$, denoted $\\text{deg}_{G}(v)$, is defined as the number of edges incident with the vertex $v$. We can formulate this in different ways, but one fairly efficient formulation looks like this:"
   ]
  },
  {
   "cell_type": "code",
   "execution_count": null,
   "metadata": {},
   "outputs": [],
   "source": [
    "vertex_deg_def = (\n",
    "        Forall(G, Forall(v,\n",
    "                    Equals(\n",
    "                        Degree(v, G),\n",
    "                        Card(SetOfAll(E, E, condition = InSet(v, E), domain = Edges(G)))),\n",
    "        domain = Vertices(G)), domain = Graphs())\n",
    ")"
   ]
  },
  {
   "cell_type": "markdown",
   "metadata": {},
   "source": [
    "Two vertices $u$ and $v$ in a graph $G$ are __adjacent__ if there is an edge directly connecting them — _i.e._, $u$ and $v$ are adjacent in graph G if $\\{u, v\\}$ is an edge of $G$."
   ]
  },
  {
   "cell_type": "code",
   "execution_count": null,
   "metadata": {},
   "outputs": [],
   "source": [
    "adjacent_vertices_def = (\n",
    "    Forall(G,\n",
    "           Forall((u, v),\n",
    "                  Equals(AdjacentVertices(u, v, G), InSet(Set(u, v), Edges(G))),\n",
    "                  domain = Vertices(G)),\n",
    "           domain = Graphs()\n",
    "    )\n",
    ")"
   ]
  },
  {
   "cell_type": "markdown",
   "metadata": {},
   "source": [
    "Characterizing what it means for a graph $G$ to have an Eulerian circuit: this means that there exists a closed walk $W$ in graph $G$ such that $W$ uses each and every edge of $G$ exactly once. That can be awkward to express literally in _Prove-It_, but an equivalent definition involves a walk whose edge set is the same as the graph's edge set (capturing the idea that we use all of the edges of $G$), while the length of the walk (i.e. the number of edges) is the same as the cardinality of the graph's edge set (_i.e._, the “size” of the graph) (capturing the idea that we have no repeated edges)."
   ]
  },
  {
   "cell_type": "code",
   "execution_count": null,
   "metadata": {},
   "outputs": [],
   "source": [
    "has_eulerian_circuit_def = Forall(G,\n",
    "    Equals(\n",
    "    HasEulerianCircuit(G),\n",
    "    Exists(W, And(Equals(EdgeSet(W), Edges(G)), Equals(WalkLength(W), Size(G))),\n",
    "       conditions = [Closed(W)], domain = Walks(G))\n",
    "    ),\n",
    "conditions = [Connected(G)],\n",
    "domain = Graphs()\n",
    ")"
   ]
  },
  {
   "cell_type": "markdown",
   "metadata": {},
   "source": [
    "Characterizing what it means for a graph $G$ to have an Eulerian trail: this means that there exists a walk $W$ in graph $G$ such that $W$ uses each and every edge of $G$ exactly once. If the walk is closed, then the Eulerian trail is an Eulerian circuit. As in the case of the Eulerian circuit, the definition can be awkward to express literally in _Prove-It_, but an equivalent definition involves a walk whose edge set is the same as the graph's edge set (capturing the idea that we use all of the edges of $G$), while the length of the walk (i.e. the number of edges) is the same as the cardinality of the graph's edge set (_i.e._, the “size” of the graph) (capturing the idea that we have no repeated edges)."
   ]
  },
  {
   "cell_type": "code",
   "execution_count": null,
   "metadata": {},
   "outputs": [],
   "source": [
    "has_eulerian_trail_def = Forall(G,\n",
    "    Equals(\n",
    "    HasEulerianTrail(G),\n",
    "    Exists(W, And(Equals(EdgeSet(W), Edges(G)), Equals(WalkLength(W), Size(G))),\n",
    "       domain = Walks(G))\n",
    "    ),\n",
    "conditions = [Connected(G)],\n",
    "domain = Graphs()\n",
    ")"
   ]
  },
  {
   "cell_type": "code",
   "execution_count": null,
   "metadata": {},
   "outputs": [],
   "source": [
    "%end axioms"
   ]
  }
 ],
 "metadata": {
  "kernelspec": {
   "display_name": "Python 3",
   "language": "python",
   "name": "python3"
  }
 },
 "nbformat": 4,
 "nbformat_minor": 0
}
