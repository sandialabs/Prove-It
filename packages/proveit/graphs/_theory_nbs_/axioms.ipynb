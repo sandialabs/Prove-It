{
 "cells": [
  {
   "cell_type": "markdown",
   "metadata": {},
   "source": [
    "Axioms for the theory of <a class=\"ProveItLink\" href=\"theory.ipynb\">proveit.graphs</a>\n",
    "========"
   ]
  },
  {
   "cell_type": "code",
   "execution_count": null,
   "metadata": {},
   "outputs": [],
   "source": [
    "import proveit\n",
    "# Prepare this notebook for defining the axioms of a theory:\n",
    "%axioms_notebook # Keep this at the top following 'import proveit'.\n",
    "\n",
    "from proveit import v, E, G, V\n",
    "from proveit.logic import Equals, Forall, InClass, InSet\n",
    "from proveit.logic.sets import Card, KPowerSet, SetOfAll, SubsetEq\n",
    "from proveit.numbers import two\n",
    "from proveit.graphs import Degree, Edges, Graph, Graphs, Vertices\n"
   ]
  },
  {
   "cell_type": "code",
   "execution_count": null,
   "metadata": {},
   "outputs": [],
   "source": [
    "%begin axioms"
   ]
  },
  {
   "cell_type": "code",
   "execution_count": null,
   "metadata": {},
   "outputs": [],
   "source": [
    "graph_v_e_in_graphs = (\n",
    "    Forall(V,\n",
    "    Forall(E, InClass(Graph(V, E), Graphs()), conditions = [SubsetEq(E, KPowerSet(V, two))])\n",
    "    )\n",
    ")"
   ]
  },
  {
   "cell_type": "code",
   "execution_count": null,
   "metadata": {},
   "outputs": [],
   "source": [
    "vertices_def = (\n",
    "    Forall(V,\n",
    "    Forall(E, Equals(Vertices(Graph(V, E)), V), conditions = [SubsetEq(E, KPowerSet(V, two))])\n",
    "    )\n",
    ")"
   ]
  },
  {
   "cell_type": "code",
   "execution_count": null,
   "metadata": {},
   "outputs": [],
   "source": [
    "edges_def = (\n",
    "    Forall(V,\n",
    "    Forall(E, Equals(Edges(Graph(V, E)), E), conditions = [SubsetEq(E, KPowerSet(V, two))])\n",
    "    )\n",
    ")"
   ]
  },
  {
   "cell_type": "markdown",
   "metadata": {},
   "source": [
    "##### Characterizing an edge: An edge in a graph $G(V, E)$ is a 2-element subset of the vertex set $V$. The set of 2-element subsets of $V$ is denoted by $[V]^{2}$."
   ]
  },
  {
   "cell_type": "code",
   "execution_count": null,
   "metadata": {},
   "outputs": [],
   "source": [
    "Forall(G, SubsetEq(Edges(G), KPowerSet(Vertices(G), two)), domain = Graphs())"
   ]
  },
  {
   "cell_type": "markdown",
   "metadata": {},
   "source": [
    "##### The _degree_ of a vertex $v$ in a graph $G$, denoted $\\text{deg}_{G}(v)$, is defined as the number of edges incident with the vertex $v$. We can formulate this in different ways, but one fairly efficient formulation looks like this:"
   ]
  },
  {
   "cell_type": "code",
   "execution_count": null,
   "metadata": {},
   "outputs": [],
   "source": [
    "vertex_deg_def = (\n",
    "        Forall(G, Forall(v,\n",
    "                    Equals(\n",
    "                        Degree(v, G),\n",
    "                        Card(SetOfAll(E, E, condition = InSet(v, E), domain = Edges(G)))),\n",
    "        domain = Vertices(G)), domain = Graphs())\n",
    ")"
   ]
  },
  {
   "cell_type": "code",
   "execution_count": null,
   "metadata": {},
   "outputs": [],
   "source": [
    "%end axioms"
   ]
  }
 ],
 "metadata": {
  "kernelspec": {
   "display_name": "Python 3",
   "language": "python",
   "name": "python3"
  }
 },
 "nbformat": 4,
 "nbformat_minor": 0
}
