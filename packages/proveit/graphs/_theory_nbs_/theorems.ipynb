{
 "cells": [
  {
   "cell_type": "markdown",
   "metadata": {},
   "source": [
    "Theorems (or conjectures) for the theory of <a class=\"ProveItLink\" href=\"theory.ipynb\">proveit.graphs</a>\n",
    "========"
   ]
  },
  {
   "cell_type": "code",
   "execution_count": null,
   "metadata": {},
   "outputs": [],
   "source": [
    "import proveit\n",
    "# Prepare this notebook for defining the theorems of a theory:\n",
    "%theorems_notebook # Keep this at the top following 'import proveit'.\n",
    "\n",
    "from proveit import e, v, E, G, V, W\n",
    "from proveit.logic import Equals, Forall, Iff, Implies, InSet, InClass, NotInSet\n",
    "from proveit.logic.sets import Card, KPowerSet, SetOfAll, SubsetEq\n",
    "from proveit.numbers import two, IntegerEven, IntegerOdd, Mult, Sum\n",
    "from proveit.graphs import (\n",
    "        Connected, Degree, Edges, EndVertices, EulerianTrails, Graph, Graphs,\n",
    "        HasEulerianCircuit, HasEulerianTrail, Vertices)"
   ]
  },
  {
   "cell_type": "code",
   "execution_count": null,
   "metadata": {},
   "outputs": [],
   "source": [
    "%begin theorems"
   ]
  },
  {
   "cell_type": "markdown",
   "metadata": {},
   "source": [
    "#### Total Degree of Graph $G$.\n",
    "##### The _total degree_ of a graph $G$ is twice the number of edges in $G$ (this is what Chartrand & Zhang (2012, pg 32) call “The First Theorem of Graph Theory” and what is more generally called the “degree sum formula”) . "
   ]
  },
  {
   "cell_type": "code",
   "execution_count": null,
   "metadata": {},
   "outputs": [],
   "source": [
    "total_deg_is_twice_num_of_edges = (\n",
    "        Forall(G, Equals(Sum(v, Degree(v, G), domain = Vertices(G)),\n",
    "                         Mult(two, Card(Edges(G)))),\n",
    "        domain = Graphs())\n",
    ")"
   ]
  },
  {
   "cell_type": "markdown",
   "metadata": {},
   "source": [
    "##### An immediate corollary to the First Theorem is that the total degree is alway even. This is often referred to as the “Handshake Lemma” or “Handshaking Lemma” (although that name is sometimes applied to the degree sum formula above, and sometimes even to the next theorem about there being an even number of odd vertices)."
   ]
  },
  {
   "cell_type": "code",
   "execution_count": null,
   "metadata": {},
   "outputs": [],
   "source": [
    "total_deg_is_even = (\n",
    "        Forall(G, InSet(Sum(v, Degree(v, G), domain = Vertices(G)),\n",
    "                         IntegerEven),\n",
    "        domain = Graphs())\n",
    ")"
   ]
  },
  {
   "cell_type": "markdown",
   "metadata": {},
   "source": [
    "##### And because the total degree is always even, there must be an even number of odd-degree vertices."
   ]
  },
  {
   "cell_type": "code",
   "execution_count": null,
   "metadata": {},
   "outputs": [],
   "source": [
    "even_number_of_odd_vertices = (\n",
    "        Forall(G,\n",
    "        InSet(Card(SetOfAll(v, v, condition = InSet(Degree(v, G), IntegerOdd), domain = Vertices(G))),\n",
    "              IntegerEven),\n",
    "        domain = Graphs()\n",
    "        )\n",
    ")"
   ]
  },
  {
   "cell_type": "markdown",
   "metadata": {},
   "source": [
    "#### Membership Theorems for Vertex and Edge sets $V$ and $E$"
   ]
  },
  {
   "cell_type": "code",
   "execution_count": null,
   "metadata": {},
   "outputs": [],
   "source": [
    "vertices_membership_def = (\n",
    "    Forall((v, V),\n",
    "    Forall(E, Equals(InSet(v, Vertices(Graph(V, E))), InSet(v, V)), conditions = [SubsetEq(E, KPowerSet(V, two))])\n",
    "    )\n",
    ")"
   ]
  },
  {
   "cell_type": "code",
   "execution_count": null,
   "metadata": {},
   "outputs": [],
   "source": [
    "vertices_membership_unfolding = (\n",
    "    Forall(V,\n",
    "        Forall((v, E), InSet(v, V),\n",
    "               conditions = [SubsetEq(E, KPowerSet(V, two)), InSet(v, Vertices(Graph(V, E)))])\n",
    "    )\n",
    ")"
   ]
  },
  {
   "cell_type": "code",
   "execution_count": null,
   "metadata": {},
   "outputs": [],
   "source": [
    "vertices_membership_folding = (\n",
    "    Forall(V,\n",
    "        Forall((v, E), InSet(v, Vertices(Graph(V, E))),\n",
    "               conditions = [SubsetEq(E, KPowerSet(V, two)), InSet(v, V)])\n",
    "    )\n",
    ")"
   ]
  },
  {
   "cell_type": "code",
   "execution_count": null,
   "metadata": {},
   "outputs": [],
   "source": [
    "vertices_nonmembership_def = (\n",
    "    Forall(V,\n",
    "        Forall((v, E), Equals(NotInSet(v, Vertices(Graph(V, E))), NotInSet(v, V)),\n",
    "               conditions = [SubsetEq(E, KPowerSet(V, two))])\n",
    "    )\n",
    ")"
   ]
  },
  {
   "cell_type": "code",
   "execution_count": null,
   "metadata": {},
   "outputs": [],
   "source": [
    "vertices_nonmembership_unfolding = (\n",
    "    Forall(V,\n",
    "        Forall((v, E), NotInSet(v, V),\n",
    "               conditions = [SubsetEq(E, KPowerSet(V, two)), NotInSet(v, Vertices(Graph(V, E)))])\n",
    "    )\n",
    ")"
   ]
  },
  {
   "cell_type": "code",
   "execution_count": null,
   "metadata": {},
   "outputs": [],
   "source": [
    "vertices_nonmembership_folding = (\n",
    "    Forall(V,\n",
    "        Forall((v, E), NotInSet(v, Vertices(Graph(V, E))),\n",
    "               conditions = [SubsetEq(E, KPowerSet(V, two)), NotInSet(v, V)])\n",
    "    )\n",
    ")"
   ]
  },
  {
   "cell_type": "code",
   "execution_count": null,
   "metadata": {},
   "outputs": [],
   "source": [
    "edges_membership_def = (\n",
    "    Forall(V,\n",
    "    Forall((e, E), Equals(InSet(e, Edges(Graph(V, E))), InSet(e, E)), conditions = [SubsetEq(E, KPowerSet(V, two))])\n",
    "    )\n",
    ")"
   ]
  },
  {
   "cell_type": "code",
   "execution_count": null,
   "metadata": {},
   "outputs": [],
   "source": [
    "edges_membership_unfolding = (\n",
    "    Forall(V,\n",
    "        Forall((e, E), InSet(e, E),\n",
    "               conditions = [SubsetEq(E, KPowerSet(V, two)), InSet(e, Edges(Graph(V, E)))])\n",
    "    )\n",
    ")"
   ]
  },
  {
   "cell_type": "code",
   "execution_count": null,
   "metadata": {},
   "outputs": [],
   "source": [
    "edges_membership_folding = (\n",
    "    Forall(V,\n",
    "        Forall((e, E), InSet(e, Edges(Graph(V, E))),\n",
    "               conditions = [SubsetEq(E, KPowerSet(V, two)), InSet(e, E)])\n",
    "    )\n",
    ")"
   ]
  },
  {
   "cell_type": "code",
   "execution_count": null,
   "metadata": {},
   "outputs": [],
   "source": [
    "edges_nonmembership_def = (\n",
    "    Forall(V,\n",
    "        Forall((e, E), Equals(NotInSet(e, Edges(Graph(V, E))), NotInSet(e, E)),\n",
    "               conditions = [SubsetEq(E, KPowerSet(V, two))])\n",
    "    )\n",
    ")"
   ]
  },
  {
   "cell_type": "code",
   "execution_count": null,
   "metadata": {},
   "outputs": [],
   "source": [
    "edges_nonmembership_unfolding = (\n",
    "    Forall(V,\n",
    "        Forall((e, E), NotInSet(e, E),\n",
    "               conditions = [SubsetEq(E, KPowerSet(V, two)), NotInSet(e, Edges(Graph(V, E)))])\n",
    "    )\n",
    ")"
   ]
  },
  {
   "cell_type": "code",
   "execution_count": null,
   "metadata": {},
   "outputs": [],
   "source": [
    "edges_nonmembership_folding = (\n",
    "    Forall(V,\n",
    "        Forall((e, E), NotInSet(e, Edges(Graph(V, E))),\n",
    "               conditions = [SubsetEq(E, KPowerSet(V, two)), NotInSet(e, E)])\n",
    "    )\n",
    ")"
   ]
  },
  {
   "cell_type": "markdown",
   "metadata": {},
   "source": [
    "#### Theorems about the existence of an Euler circuit or Euler trail in a simple connected graph $G$:\n",
    "\n",
    "(1) a connected simple graph $G$ has an Eulerian circuit if and only if $G$ has all even vertices;\n",
    "\n",
    "(2) a connected simple graph $G$ has an Eulerian trail if and only if $G$ has exactly 2 odd vertices (and every Eulerian trail in $G$ will start at one of the odd vertices and end at the other odd vertex)."
   ]
  },
  {
   "cell_type": "code",
   "execution_count": null,
   "metadata": {},
   "outputs": [],
   "source": [
    "euler_circuit_iff_all_even_vertices = (\n",
    "    Forall(G,\n",
    "           Iff(HasEulerianCircuit(G),\n",
    "               Forall(v, InSet(Degree(v, G), IntegerEven), domain = Vertices(G))),\n",
    "    conditions = [Connected(G)],\n",
    "    domain = Graphs()\n",
    "    )\n",
    ")"
   ]
  },
  {
   "cell_type": "code",
   "execution_count": null,
   "metadata": {},
   "outputs": [],
   "source": [
    "euler_circuit_imp_all_even_vertices = (\n",
    "    Forall(G,\n",
    "           Forall(v, InSet(Degree(v, G), IntegerEven), domain = Vertices(G)),\n",
    "    conditions = [HasEulerianCircuit(G)],\n",
    "    domain = Graphs()\n",
    "    )\n",
    ")"
   ]
  },
  {
   "cell_type": "code",
   "execution_count": null,
   "metadata": {},
   "outputs": [],
   "source": [
    "all_even_vertices_imp_euler_circuit = (\n",
    "    Forall(G,\n",
    "           HasEulerianCircuit(G),\n",
    "    conditions = [Connected(G), Forall(v, InSet(Degree(v, G), IntegerEven), domain = Vertices(G))],\n",
    "    domain = Graphs()\n",
    "    )\n",
    ")"
   ]
  },
  {
   "cell_type": "code",
   "execution_count": null,
   "metadata": {},
   "outputs": [],
   "source": [
    "euler_trail_guarantee = (\n",
    "Forall(G,\n",
    "    Iff(\n",
    "    HasEulerianTrail(G),\n",
    "    Equals(Card(SetOfAll(v, v, condition = InSet(Degree(v, G), IntegerOdd), domain = Vertices(G))), two)\n",
    "    ),\n",
    "conditions = [Connected(G)],\n",
    "domain = Graphs()\n",
    ")\n",
    ")"
   ]
  },
  {
   "cell_type": "code",
   "execution_count": null,
   "metadata": {},
   "outputs": [],
   "source": [
    "euler_trail_imp_two_odd_vertices = (\n",
    "Forall(G,\n",
    "    Equals(Card(SetOfAll(v, v, condition = InSet(Degree(v, G), IntegerOdd), domain = Vertices(G))), two),\n",
    "conditions = [HasEulerianTrail(G)],\n",
    "domain = Graphs()\n",
    ")\n",
    ")"
   ]
  },
  {
   "cell_type": "code",
   "execution_count": null,
   "metadata": {},
   "outputs": [],
   "source": [
    "two_odd_vertices_imp_euler_trail = (\n",
    "Forall(G,\n",
    "    HasEulerianTrail(G),\n",
    "conditions = [Connected(G), Equals(Card(SetOfAll(v, v, condition = InSet(Degree(v, G), IntegerOdd), domain = Vertices(G))), two)],\n",
    "domain = Graphs()\n",
    ")\n",
    ")"
   ]
  },
  {
   "cell_type": "code",
   "execution_count": null,
   "metadata": {},
   "outputs": [],
   "source": [
    "euler_trail_between_odd_vertices = (\n",
    "Forall(G,\n",
    "    Forall(W,\n",
    "           Equals(EndVertices(W),\n",
    "                  SetOfAll(v, v, condition = InSet(Degree(v, G), IntegerOdd),\n",
    "                           domain = Vertices(G))),\n",
    "           domain = EulerianTrails(G)),\n",
    "conditions = [Connected(G), HasEulerianTrail(G)],\n",
    "domain = Graphs()\n",
    ")\n",
    ")"
   ]
  },
  {
   "cell_type": "code",
   "execution_count": null,
   "metadata": {},
   "outputs": [],
   "source": [
    "%end theorems"
   ]
  }
 ],
 "metadata": {
  "kernelspec": {
   "display_name": "Python 3",
   "language": "python",
   "name": "python3"
  }
 },
 "nbformat": 4,
 "nbformat_minor": 0
}
