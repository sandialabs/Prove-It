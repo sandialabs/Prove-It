{
 "cells": [
  {
   "cell_type": "markdown",
   "metadata": {},
   "source": [
    "Theorems (or conjectures) for the theory of <a class=\"ProveItLink\" href=\"theory.ipynb\">proveit.graphs</a>\n",
    "========"
   ]
  },
  {
   "cell_type": "code",
   "execution_count": null,
   "metadata": {},
   "outputs": [],
   "source": [
    "import proveit\n",
    "# Prepare this notebook for defining the theorems of a theory:\n",
    "%theorems_notebook # Keep this at the top following 'import proveit'.\n",
    "\n",
    "# from ... import ...\n",
    "from proveit import e, v, E, G, V\n",
    "from proveit.logic import Equals, Forall, InSet, InClass, NotInSet\n",
    "from proveit.logic.sets import Card, KPowerSet, SetOfAll, SubsetEq\n",
    "from proveit.numbers import two, IntegerEven, IntegerOdd, Mult, Sum\n",
    "from proveit.graphs import Degree, Edges, Graph, Graphs, Vertices"
   ]
  },
  {
   "cell_type": "code",
   "execution_count": null,
   "metadata": {},
   "outputs": [],
   "source": [
    "%begin theorems"
   ]
  },
  {
   "cell_type": "markdown",
   "metadata": {},
   "source": [
    "#### Total Degree of Graph $G$.\n",
    "##### The _total degree_ of a graph $G$ is twice the number of edges in $G$ (this is what Chartrand & Zhang (2012, pg 32) call “The First Theorem of Graph Theory”). "
   ]
  },
  {
   "cell_type": "code",
   "execution_count": null,
   "metadata": {},
   "outputs": [],
   "source": [
    "total_deg_is_twice_num_of_edges = (\n",
    "        Forall(G, Equals(Sum(v, Degree(v, G), domain = Vertices(G)),\n",
    "                         Mult(two, Card(Edges(G)))),\n",
    "        domain = Graphs())\n",
    ")"
   ]
  },
  {
   "cell_type": "markdown",
   "metadata": {},
   "source": [
    "##### An immediate corollary to the First Theorem is that the total degree is alway even."
   ]
  },
  {
   "cell_type": "code",
   "execution_count": null,
   "metadata": {},
   "outputs": [],
   "source": [
    "total_deg_is_even = (\n",
    "        Forall(G, InSet(Sum(v, Degree(v, G), domain = Vertices(G)),\n",
    "                         IntegerEven),\n",
    "        domain = Graphs())\n",
    ")"
   ]
  },
  {
   "cell_type": "markdown",
   "metadata": {},
   "source": [
    "##### And because the total degree is always even, there must be an even number of odd-degree vertices."
   ]
  },
  {
   "cell_type": "code",
   "execution_count": null,
   "metadata": {},
   "outputs": [],
   "source": [
    "even_number_of_odd_vertices = (\n",
    "        Forall(G,\n",
    "        InSet(Card(SetOfAll(v, v, condition = InSet(Degree(v, G), IntegerOdd), domain = Vertices(G))),\n",
    "              IntegerEven),\n",
    "        domain = Graphs()\n",
    "        )\n",
    ")"
   ]
  },
  {
   "cell_type": "markdown",
   "metadata": {},
   "source": [
    "#### Membership Theorems for Vertex and Edge sets $V$ and $E$"
   ]
  },
  {
   "cell_type": "code",
   "execution_count": null,
   "metadata": {},
   "outputs": [],
   "source": [
    "vertices_membership_def = (\n",
    "    Forall((v, V),\n",
    "    Forall(E, Equals(InSet(v, Vertices(Graph(V, E))), InSet(v, V)), conditions = [SubsetEq(E, KPowerSet(V, two))])\n",
    "    )\n",
    ")"
   ]
  },
  {
   "cell_type": "code",
   "execution_count": null,
   "metadata": {},
   "outputs": [],
   "source": [
    "vertices_membership_unfolding = (\n",
    "    Forall(V,\n",
    "        Forall((v, E), InSet(v, V),\n",
    "               conditions = [SubsetEq(E, KPowerSet(V, two)), InSet(v, Vertices(Graph(V, E)))])\n",
    "    )\n",
    ")"
   ]
  },
  {
   "cell_type": "code",
   "execution_count": null,
   "metadata": {},
   "outputs": [],
   "source": [
    "vertices_membership_folding = (\n",
    "    Forall(V,\n",
    "        Forall((v, E), InSet(v, Vertices(Graph(V, E))),\n",
    "               conditions = [SubsetEq(E, KPowerSet(V, two)), InSet(v, V)])\n",
    "    )\n",
    ")"
   ]
  },
  {
   "cell_type": "code",
   "execution_count": null,
   "metadata": {},
   "outputs": [],
   "source": [
    "vertices_nonmembership_def = (\n",
    "    Forall(V,\n",
    "        Forall((v, E), Equals(NotInSet(v, Vertices(Graph(V, E))), NotInSet(v, V)),\n",
    "               conditions = [SubsetEq(E, KPowerSet(V, two))])\n",
    "    )\n",
    ")"
   ]
  },
  {
   "cell_type": "code",
   "execution_count": null,
   "metadata": {},
   "outputs": [],
   "source": [
    "vertices_nonmembership_unfolding = (\n",
    "    Forall(V,\n",
    "        Forall((v, E), NotInSet(v, V),\n",
    "               conditions = [SubsetEq(E, KPowerSet(V, two)), NotInSet(v, Vertices(Graph(V, E)))])\n",
    "    )\n",
    ")"
   ]
  },
  {
   "cell_type": "code",
   "execution_count": null,
   "metadata": {},
   "outputs": [],
   "source": [
    "vertices_nonmembership_folding = (\n",
    "    Forall(V,\n",
    "        Forall((v, E), NotInSet(v, Vertices(Graph(V, E))),\n",
    "               conditions = [SubsetEq(E, KPowerSet(V, two)), NotInSet(v, V)])\n",
    "    )\n",
    ")"
   ]
  },
  {
   "cell_type": "code",
   "execution_count": null,
   "metadata": {},
   "outputs": [],
   "source": [
    "edges_membership_def = (\n",
    "    Forall(V,\n",
    "    Forall((e, E), Equals(InSet(e, Edges(Graph(V, E))), InSet(e, E)), conditions = [SubsetEq(E, KPowerSet(V, two))])\n",
    "    )\n",
    ")"
   ]
  },
  {
   "cell_type": "code",
   "execution_count": null,
   "metadata": {},
   "outputs": [],
   "source": [
    "edges_membership_unfolding = (\n",
    "    Forall(V,\n",
    "        Forall((e, E), InSet(e, E),\n",
    "               conditions = [SubsetEq(E, KPowerSet(V, two)), InSet(e, Edges(Graph(V, E)))])\n",
    "    )\n",
    ")"
   ]
  },
  {
   "cell_type": "code",
   "execution_count": null,
   "metadata": {},
   "outputs": [],
   "source": [
    "edges_membership_folding = (\n",
    "    Forall(V,\n",
    "        Forall((e, E), InSet(e, Edges(Graph(V, E))),\n",
    "               conditions = [SubsetEq(E, KPowerSet(V, two)), InSet(e, E)])\n",
    "    )\n",
    ")"
   ]
  },
  {
   "cell_type": "code",
   "execution_count": null,
   "metadata": {},
   "outputs": [],
   "source": [
    "edges_nonmembership_def = (\n",
    "    Forall(V,\n",
    "        Forall((e, E), Equals(NotInSet(e, Edges(Graph(V, E))), NotInSet(e, E)),\n",
    "               conditions = [SubsetEq(E, KPowerSet(V, two))])\n",
    "    )\n",
    ")"
   ]
  },
  {
   "cell_type": "code",
   "execution_count": null,
   "metadata": {},
   "outputs": [],
   "source": [
    "edges_nonmembership_unfolding = (\n",
    "    Forall(V,\n",
    "        Forall((e, E), NotInSet(e, E),\n",
    "               conditions = [SubsetEq(E, KPowerSet(V, two)), NotInSet(e, Edges(Graph(V, E)))])\n",
    "    )\n",
    ")"
   ]
  },
  {
   "cell_type": "code",
   "execution_count": null,
   "metadata": {},
   "outputs": [],
   "source": [
    "edges_nonmembership_folding = (\n",
    "    Forall(V,\n",
    "        Forall((e, E), NotInSet(e, Edges(Graph(V, E))),\n",
    "               conditions = [SubsetEq(E, KPowerSet(V, two)), NotInSet(e, E)])\n",
    "    )\n",
    ")"
   ]
  },
  {
   "cell_type": "code",
   "execution_count": null,
   "metadata": {},
   "outputs": [],
   "source": []
  },
  {
   "cell_type": "code",
   "execution_count": null,
   "metadata": {},
   "outputs": [],
   "source": [
    "%end theorems"
   ]
  }
 ],
 "metadata": {
  "kernelspec": {
   "display_name": "Python 3",
   "language": "python",
   "name": "python3"
  }
 },
 "nbformat": 4,
 "nbformat_minor": 0
}
