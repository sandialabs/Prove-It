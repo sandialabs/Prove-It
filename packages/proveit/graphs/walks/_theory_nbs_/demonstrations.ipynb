{
 "cells": [
  {
   "cell_type": "markdown",
   "metadata": {},
   "source": [
    "Demonstrations for the theory of <a class=\"ProveItLink\" href=\"theory.ipynb\">proveit.graphs.walks</a>\n",
    "========"
   ]
  },
  {
   "cell_type": "code",
   "execution_count": null,
   "metadata": {},
   "outputs": [],
   "source": [
    "import proveit\n",
    "from proveit import G, S, W\n",
    "from proveit.graphs import (\n",
    "        Closed, EdgeSequence, EdgeSet, EndVertices, EulerianTrails, Graph,\n",
    "        Path, Trail, Walk, WalkLength, Walks)\n",
    "%begin demonstrations"
   ]
  },
  {
   "cell_type": "code",
   "execution_count": null,
   "metadata": {},
   "outputs": [],
   "source": []
  },
  {
   "cell_type": "markdown",
   "metadata": {},
   "source": [
    "## Walks of Various Kinds\n",
    "### Including: Walks, Trails, Paths, Circuits, & Cycles"
   ]
  },
  {
   "cell_type": "markdown",
   "metadata": {},
   "source": [
    "### Miscellaneous Testing\n",
    "Testing various classes and methods related to walks in an undirected simple graph. Some of this material could eventually be integrated into the `_demonstrations_` page and/or deleted as development continues."
   ]
  },
  {
   "cell_type": "markdown",
   "metadata": {},
   "source": [
    "`Walks(G)` represents the set of all walks in the simple undirected graph $G$. \n",
    "\n",
    "A __walk__ $W$ in a simple undirected graph $G$ is a sequence\n",
    "    $(u = v_0, v_1, ..., v = v_k)$ of vertices of $G$ such that consecutive\n",
    "    vertices in the sequence are adjacent in $G$ --- in other words,\n",
    "    every pair $\\{v_{i}, v_{i+1}\\}$ of vertices (for $i \\in \\{0, 1, ..., k-1\\}$)\n",
    "    corresponds to an edge in $G$. $u$ and $v$ are called the endvertices\n",
    "    or endpoints of the walk, and a walk from $u$ to $v$ is often referred\n",
    "    to as a $u$-$v$ walk. The vertices $v_1, v_2, ..., v_{k-1}$ are called\n",
    "    _internal vertices_. The number of edges in the walk $W$, denoted\n",
    "    by $||W||$, is the length of the walk (in this example, $||W|| = k$).\n",
    "    The number of vertices in walk $W$, including\n",
    "    multiplicities of repeated vertices, is denoted $|W|$, analogous\n",
    "    to the notation for the order of a graph, $|G|$."
   ]
  },
  {
   "cell_type": "code",
   "execution_count": null,
   "metadata": {},
   "outputs": [],
   "source": [
    "Walks(G)"
   ]
  },
  {
   "cell_type": "markdown",
   "metadata": {},
   "source": [
    "A specific walk in graph $G$ consisting of a sequence $S$ of vertices in $G$:"
   ]
  },
  {
   "cell_type": "code",
   "execution_count": null,
   "metadata": {},
   "outputs": [],
   "source": [
    "Walk(S, G)"
   ]
  },
  {
   "cell_type": "markdown",
   "metadata": {},
   "source": [
    "The length (_i.e._, number of edges) in a walk $W$, denoted by $\\|W\\|$:"
   ]
  },
  {
   "cell_type": "code",
   "execution_count": null,
   "metadata": {},
   "outputs": [],
   "source": [
    "WalkLength(W)"
   ]
  },
  {
   "cell_type": "markdown",
   "metadata": {},
   "source": [
    "Assert that walk $W$ is a closed walk:"
   ]
  },
  {
   "cell_type": "code",
   "execution_count": null,
   "metadata": {},
   "outputs": [],
   "source": [
    "Closed(W)"
   ]
  },
  {
   "cell_type": "markdown",
   "metadata": {},
   "source": [
    "The sequence of edges traveled during a walk $W$ is denoted by $\\texttt{EdgeSeq}(W)$:"
   ]
  },
  {
   "cell_type": "code",
   "execution_count": null,
   "metadata": {},
   "outputs": [],
   "source": [
    "EdgeSequence(W)"
   ]
  },
  {
   "cell_type": "markdown",
   "metadata": {},
   "source": [
    "The set (not the sequence) of edges traveled during a walk $W$ is denoted by $\\texttt{EdgeSet}(W)$:"
   ]
  },
  {
   "cell_type": "code",
   "execution_count": null,
   "metadata": {},
   "outputs": [],
   "source": [
    "EdgeSet(W)"
   ]
  },
  {
   "cell_type": "markdown",
   "metadata": {},
   "source": [
    "A trail in graph G, consisting of a sequence $S$ of vertices in $G$. A trail is a walk in which no edge is repeated."
   ]
  },
  {
   "cell_type": "code",
   "execution_count": null,
   "metadata": {},
   "outputs": [],
   "source": [
    "Trail(S, G)"
   ]
  },
  {
   "cell_type": "markdown",
   "metadata": {},
   "source": [
    "A path in graph $G$, consisting of a sequence $S$ of vertices in $G$. A path is a walk in which no vertices (and thus no edges) are repeated."
   ]
  },
  {
   "cell_type": "code",
   "execution_count": null,
   "metadata": {},
   "outputs": [],
   "source": [
    "Path(S, G)"
   ]
  },
  {
   "cell_type": "markdown",
   "metadata": {},
   "source": [
    "The set of endvertices (or endpoints) of a walk $W$ is denoted $\\texttt{EndVertices}(W)$:"
   ]
  },
  {
   "cell_type": "code",
   "execution_count": null,
   "metadata": {},
   "outputs": [],
   "source": [
    "EndVertices(W)"
   ]
  },
  {
   "cell_type": "markdown",
   "metadata": {},
   "source": [
    "The set of all Eulerian trails in graph $G$:"
   ]
  },
  {
   "cell_type": "code",
   "execution_count": null,
   "metadata": {},
   "outputs": [],
   "source": [
    "EulerianTrails(G)"
   ]
  },
  {
   "cell_type": "code",
   "execution_count": null,
   "metadata": {},
   "outputs": [],
   "source": [
    "%end demonstrations"
   ]
  }
 ],
 "metadata": {
  "kernelspec": {
   "display_name": "Python 3",
   "language": "python",
   "name": "python3"
  }
 },
 "nbformat": 4,
 "nbformat_minor": 0
}
