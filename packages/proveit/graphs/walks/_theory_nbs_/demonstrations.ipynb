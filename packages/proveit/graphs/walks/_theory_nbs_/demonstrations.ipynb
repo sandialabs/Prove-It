{
 "cells": [
  {
   "cell_type": "markdown",
   "metadata": {},
   "source": [
    "Demonstrations for the theory of <a class=\"ProveItLink\" href=\"theory.ipynb\">proveit.graphs.walks</a>\n",
    "========"
   ]
  },
  {
   "cell_type": "code",
   "execution_count": null,
   "metadata": {},
   "outputs": [],
   "source": [
    "import proveit\n",
    "from proveit import a, b, i, k, G, P, S, T, W, Function\n",
    "from proveit.logic import And, Equals, Forall, InClass, InSet, Set, SetOfAll\n",
    "from proveit.logic.sets import Functions, Injections\n",
    "from proveit.numbers import zero, one, Add, Interval, Natural, subtract\n",
    "from proveit.graphs import (\n",
    "        AdjacentVertices, BeginningVertex, Circuits, Closed, Cycles, Edges,\n",
    "        EdgeSequence, EdgeSet, EndingVertex, EndVertices, EulerianTrails,\n",
    "        Graph, Graphs, Paths, Trails, Vertices, WalkLength, Walks)\n",
    "%begin demonstrations\n"
   ]
  },
  {
   "cell_type": "markdown",
   "metadata": {},
   "source": [
    "## Walks of Various Kinds\n",
    "### Including: Walks, Trails, Paths, Circuits, & Cycles"
   ]
  },
  {
   "cell_type": "markdown",
   "metadata": {},
   "source": [
    "`Walks(k, G)` represents the set of all walks of length $k$ in the simple undirected graph $G$. \n",
    "\n",
    "A __walk__ $W$ in a simple undirected graph $G$ is a sequence $(u = v_0, v_1, ..., v = v_k)$ of vertices of $G$ such that consecutive vertices in the sequence are adjacent in $G$ --- in other words, every pair $\\{v_{i}, v_{i+1}\\}$ of vertices (for $i \\in \\{0, 1, ..., k-1\\}$) in the sequence corresponds to an edge in $G$. We have chosen to embrace a formal definition of a sequence, so a length-$k$ walk in graph $G$ is actually a function, $W:[0, 1, 2, \\ldots, k]\\rightarrow \\texttt{Vertices}(G)$.\n",
    "\n",
    "Trails, paths, circuits, and cycles are all special cases of walks.\n",
    "\n",
    "In the walk with sequence $(u = v_0, v_1, ..., v = v_k)$, $u$ and $v$ are called the endvertices or endpoints of the walk, and a walk from $u$ to $v$ is often referred to as a $u$-$v$ walk. The vertices $v_1, v_2, ..., v_{k-1}$ are called _internal vertices_. The number of edges in the walk $W$, denoted by $||W||$, is the _length_ of the walk (in this example, $||W|| = k$). The number of vertices in walk $W$, including multiplicities of repeated vertices, is denoted $|W|$, analogous to the notation for the order of a graph, $|G|$. In the example used above, $|W| = k+1$."
   ]
  },
  {
   "cell_type": "markdown",
   "metadata": {},
   "source": [
    "### Miscellaneous Testing\n",
    "Testing various classes and methods related to walks in an undirected simple graph. Some of this material could eventually be integrated into the `_demonstrations_` page and/or deleted as development continues."
   ]
  },
  {
   "cell_type": "code",
   "execution_count": null,
   "metadata": {},
   "outputs": [],
   "source": [
    "Walks(k, G)"
   ]
  },
  {
   "cell_type": "markdown",
   "metadata": {},
   "source": [
    "We can claim that $W$ is a length-$k$ walk in $G$ by claiming $W$ is a member of the set of all such length-$k$ walks:"
   ]
  },
  {
   "cell_type": "code",
   "execution_count": null,
   "metadata": {},
   "outputs": [],
   "source": [
    "InSet(W, Walks(k, G))"
   ]
  },
  {
   "cell_type": "markdown",
   "metadata": {},
   "source": [
    "And we could make more specific assumptions about a walk $W$, for example claiming or assuming that $W$ is a length-$k$ _u_,_v_-walk in $G$ “connecting” vertices $u$ and $v$, using the following:"
   ]
  },
  {
   "cell_type": "code",
   "execution_count": null,
   "metadata": {},
   "outputs": [],
   "source": [
    "temp_assumptions = [InSet(W, Walks(k, G)), Equals(EndVertices(W), Set(a, b))]"
   ]
  },
  {
   "cell_type": "markdown",
   "metadata": {},
   "source": [
    "The length (_i.e._, number of edges) in a walk $W$, denoted by $\\|W\\|$:"
   ]
  },
  {
   "cell_type": "code",
   "execution_count": null,
   "metadata": {},
   "outputs": [],
   "source": [
    "WalkLength(W)"
   ]
  },
  {
   "cell_type": "markdown",
   "metadata": {},
   "source": [
    "Assert that walk $W$ is a closed walk:"
   ]
  },
  {
   "cell_type": "code",
   "execution_count": null,
   "metadata": {},
   "outputs": [],
   "source": [
    "Closed(W)"
   ]
  },
  {
   "cell_type": "markdown",
   "metadata": {},
   "source": [
    "The sequence of edges traveled during a walk $W$ is denoted by $\\texttt{EdgeSeq}(W)$:"
   ]
  },
  {
   "cell_type": "code",
   "execution_count": null,
   "metadata": {},
   "outputs": [],
   "source": [
    "EdgeSequence(W)"
   ]
  },
  {
   "cell_type": "markdown",
   "metadata": {},
   "source": [
    "The set (not the sequence) of edges traveled during a walk $W$ is denoted by $\\texttt{EdgeSet}(W)$:"
   ]
  },
  {
   "cell_type": "code",
   "execution_count": null,
   "metadata": {},
   "outputs": [],
   "source": [
    "EdgeSet(W)"
   ]
  },
  {
   "cell_type": "markdown",
   "metadata": {},
   "source": [
    "`Trails(k, G)` represents the set of all trails of length $k$ in the simple graph $G$. \n",
    "\n",
    "A __trail__ $T$ in a simple graph $G$ is a walk in which no edge is repeated."
   ]
  },
  {
   "cell_type": "code",
   "execution_count": null,
   "metadata": {},
   "outputs": [],
   "source": [
    "Trails(k, G)"
   ]
  },
  {
   "cell_type": "code",
   "execution_count": null,
   "metadata": {},
   "outputs": [],
   "source": [
    "InSet(T, Trails(k, G))"
   ]
  },
  {
   "cell_type": "markdown",
   "metadata": {},
   "source": [
    "`Paths(k, G)` represents the set of all paths of length $k$ in the simple graph $G$. \n",
    "\n",
    "A __path__ $P$ in a simple graph $G$ is a walk in which no vertex (and thus no edge) is repeated."
   ]
  },
  {
   "cell_type": "code",
   "execution_count": null,
   "metadata": {},
   "outputs": [],
   "source": [
    "Paths(k, G)"
   ]
  },
  {
   "cell_type": "code",
   "execution_count": null,
   "metadata": {},
   "outputs": [],
   "source": [
    "InSet(P, Paths(k, G))"
   ]
  },
  {
   "cell_type": "markdown",
   "metadata": {},
   "source": [
    "A __circuit__ is a closed trail (_i.e._, a closed walk with no repeated edges). A circuit of length $k$ in graph $G$ is denoted by its membership in the class of all such circuits:"
   ]
  },
  {
   "cell_type": "code",
   "execution_count": null,
   "metadata": {},
   "outputs": [],
   "source": [
    "Circuits(k, G)"
   ]
  },
  {
   "cell_type": "code",
   "execution_count": null,
   "metadata": {},
   "outputs": [],
   "source": [
    "# circuit membership under construction"
   ]
  },
  {
   "cell_type": "markdown",
   "metadata": {},
   "source": [
    "A __cycle__ is a circuit in which no vertex is repeated, in other words: a closed walk in which no vertex (and thus no edge) is repeated. With some abuse of terminology, one might call a cycle a “closed path.” A cycle of length $k$ (generally referred to as a $k$-cycle) in graph $G$ is denoted by its membership in the class of all such cycles:"
   ]
  },
  {
   "cell_type": "code",
   "execution_count": null,
   "metadata": {},
   "outputs": [],
   "source": [
    "Cycles(k, G)"
   ]
  },
  {
   "cell_type": "code",
   "execution_count": null,
   "metadata": {},
   "outputs": [],
   "source": [
    "# cycle membership under construction"
   ]
  },
  {
   "cell_type": "markdown",
   "metadata": {},
   "source": [
    "The _set_ of endvertices (or endpoints) of a walk $W$ is denoted $\\texttt{EndVertices}(W)$:"
   ]
  },
  {
   "cell_type": "code",
   "execution_count": null,
   "metadata": {},
   "outputs": [],
   "source": [
    "EndVertices(W)"
   ]
  },
  {
   "cell_type": "markdown",
   "metadata": {},
   "source": [
    "Since a length-$k$ walk $W$ in graph $G$ is a function $W:(0, 1, \\ldots, k)\\rightarrow \\texttt{Vertices}(G)$, there is a natural “begining vertex” and “ending vertex,” denoted `BeginningVertex(W)` and `EndingVertex(W)`, respectively."
   ]
  },
  {
   "cell_type": "code",
   "execution_count": null,
   "metadata": {},
   "outputs": [],
   "source": [
    "BeginningVertex(W)"
   ]
  },
  {
   "cell_type": "code",
   "execution_count": null,
   "metadata": {},
   "outputs": [],
   "source": [
    "EndingVertex(W)"
   ]
  },
  {
   "cell_type": "markdown",
   "metadata": {},
   "source": [
    "The set of all Eulerian trails in graph $G$:"
   ]
  },
  {
   "cell_type": "code",
   "execution_count": null,
   "metadata": {},
   "outputs": [],
   "source": [
    "EulerianTrails(G)"
   ]
  },
  {
   "cell_type": "markdown",
   "metadata": {},
   "source": [
    "#### Walks Membership and Related Methods"
   ]
  },
  {
   "cell_type": "code",
   "execution_count": null,
   "metadata": {},
   "outputs": [],
   "source": [
    "InSet(W, Walks(k, G))"
   ]
  },
  {
   "cell_type": "code",
   "execution_count": null,
   "metadata": {},
   "outputs": [],
   "source": [
    "InSet(W, Walks(k, G)).deduce_in_bool(assumptions = [InClass(G, Graphs()), InSet(k, Natural)])"
   ]
  },
  {
   "cell_type": "code",
   "execution_count": null,
   "metadata": {},
   "outputs": [],
   "source": [
    "InSet(W, Walks(k, G)).definition(assumptions = [InClass(G, Graphs()), InSet(k, Natural)])"
   ]
  },
  {
   "cell_type": "code",
   "execution_count": null,
   "metadata": {},
   "outputs": [],
   "source": [
    "InSet(W, Walks(k, G)).as_defined()"
   ]
  },
  {
   "cell_type": "code",
   "execution_count": null,
   "metadata": {},
   "outputs": [],
   "source": [
    "InSet(W, Walks(k, G)).unfold(assumptions = [InSet(W, Walks(k, G)), InClass(G, Graphs()), InSet(k, Natural)])"
   ]
  },
  {
   "cell_type": "code",
   "execution_count": null,
   "metadata": {},
   "outputs": [],
   "source": [
    "InSet(W, Walks(k, G)).conclude(\n",
    "    assumptions = [InClass(G, Graphs()), InSet(k, Natural),\n",
    "                   InSet(W, SetOfAll(S, S,\n",
    "                            conditions = [\n",
    "                                Forall(i, AdjacentVertices(Function(S, i), Function(S, Add(i, one)), G),\n",
    "                                       domain = Interval(zero, subtract(k, one)))],\n",
    "                            domain = Functions(Interval(zero, k), Vertices(G))))])"
   ]
  },
  {
   "cell_type": "code",
   "execution_count": null,
   "metadata": {},
   "outputs": [],
   "source": [
    "InSet(W, Walks(k, G)).conclude(\n",
    "    assumptions = [InClass(G, Graphs()), InSet(k, Natural),\n",
    "                   InSet(W, Functions(Interval(zero, k), Vertices(G))),\n",
    "                   Forall(i, AdjacentVertices(Function(W, i), Function(W, Add(i, one)), G),\n",
    "                                       domain = Interval(zero, subtract(k, one)))])"
   ]
  },
  {
   "cell_type": "markdown",
   "metadata": {},
   "source": [
    "#### Trails Membership and Related Methods"
   ]
  },
  {
   "cell_type": "code",
   "execution_count": null,
   "metadata": {},
   "outputs": [],
   "source": [
    "InSet(T, Trails(k, G))"
   ]
  },
  {
   "cell_type": "code",
   "execution_count": null,
   "metadata": {},
   "outputs": [],
   "source": [
    "InSet(T, Trails(k, G)).deduce_in_bool(assumptions = [InClass(G, Graphs()), InSet(k, Natural)])"
   ]
  },
  {
   "cell_type": "code",
   "execution_count": null,
   "metadata": {},
   "outputs": [],
   "source": [
    "InSet(T, Trails(k, G)).definition(assumptions = [InClass(G, Graphs()), InSet(k, Natural)])"
   ]
  },
  {
   "cell_type": "code",
   "execution_count": null,
   "metadata": {},
   "outputs": [],
   "source": [
    "InSet(T, Trails(k, G)).as_defined()"
   ]
  },
  {
   "cell_type": "code",
   "execution_count": null,
   "metadata": {},
   "outputs": [],
   "source": [
    "InSet(T, Trails(k, G)).unfold(assumptions = [InClass(G, Graphs()), InSet(k, Natural), InSet(T, Trails(k, G))])"
   ]
  },
  {
   "cell_type": "code",
   "execution_count": null,
   "metadata": {},
   "outputs": [],
   "source": [
    "InSet(T, Trails(k, G)).conclude(\n",
    "        assumptions = [InClass(G, Graphs()), InSet(k, Natural),\n",
    "                       InSet(T, SetOfAll(W, W, conditions = [InSet(EdgeSequence(W), Injections(Interval(zero, subtract(k, one)), Edges(G)))],\n",
    "                                        domain = Walks(k, G)))])"
   ]
  },
  {
   "cell_type": "code",
   "execution_count": null,
   "metadata": {},
   "outputs": [],
   "source": [
    "InSet(T, Trails(k, G)).conclude(\n",
    "        assumptions = [\n",
    "            InClass(G, Graphs()), InSet(k, Natural),\n",
    "            And(InSet(T, Walks(k, G)),\n",
    "            InSet(EdgeSequence(T), Injections(Interval(zero, subtract(k, one)), Edges(G))))])"
   ]
  },
  {
   "cell_type": "markdown",
   "metadata": {},
   "source": [
    "#### Paths Membership and Related Methods"
   ]
  },
  {
   "cell_type": "code",
   "execution_count": null,
   "metadata": {},
   "outputs": [],
   "source": [
    "InSet(P, Paths(k, G))"
   ]
  },
  {
   "cell_type": "code",
   "execution_count": null,
   "metadata": {},
   "outputs": [],
   "source": [
    "InSet(P, Paths(k, G)).deduce_in_bool(assumptions = [InClass(G, Graphs()), InSet(k, Natural)])"
   ]
  },
  {
   "cell_type": "code",
   "execution_count": null,
   "metadata": {},
   "outputs": [],
   "source": [
    "InSet(P, Paths(k, G)).definition(assumptions = [InClass(G, Graphs()), InSet(k, Natural)])"
   ]
  },
  {
   "cell_type": "code",
   "execution_count": null,
   "metadata": {},
   "outputs": [],
   "source": [
    "InSet(P, Paths(k, G)).as_defined()"
   ]
  },
  {
   "cell_type": "code",
   "execution_count": null,
   "metadata": {},
   "outputs": [],
   "source": [
    "InSet(P, Paths(k, G)).unfold(assumptions = [InClass(G, Graphs()), InSet(k, Natural), InSet(P, Paths(k, G))])"
   ]
  },
  {
   "cell_type": "code",
   "execution_count": null,
   "metadata": {},
   "outputs": [],
   "source": [
    "InSet(P, Injections(Interval(zero, k), Vertices(G)))"
   ]
  },
  {
   "cell_type": "code",
   "execution_count": null,
   "metadata": {},
   "outputs": [],
   "source": [
    "InSet(P, Paths(k, G)).conclude(\n",
    "    assumptions = [InClass(G, Graphs()), InSet(k, Natural),\n",
    "                   InSet(P, Walks(k, G)), InSet(P, Injections(Interval(zero, k), Vertices(G)))])"
   ]
  },
  {
   "cell_type": "code",
   "execution_count": null,
   "metadata": {},
   "outputs": [],
   "source": [
    "InSet(P, Paths(k, G)).conclude(\n",
    "    assumptions = [InClass(G, Graphs()), InSet(k, Natural),\n",
    "                   InSet(P, SetOfAll(W, W, conditions =[InSet(W, Injections(Interval(zero, k), Vertices(G)))],\n",
    "                                     domain = Walks(k, G)))])"
   ]
  },
  {
   "cell_type": "code",
   "execution_count": null,
   "metadata": {},
   "outputs": [],
   "source": []
  },
  {
   "cell_type": "markdown",
   "metadata": {},
   "source": [
    "A __walk__ $W$ in a simple graph $G$ is a sequence $ S = (v_{0}, v_{1}, \\ldots, v_{k})$ of vertices of $G$ such that two vertices are consecutive in sequence $S$ only if they are adjacent in $G$. We might formulate the constraint like this:\n",
    "\n",
    "$$\\texttt{Consecutive}(u, v, S) \\Rightarrow \\texttt{Adjacent}(u, v, G).$$"
   ]
  },
  {
   "cell_type": "markdown",
   "metadata": {},
   "source": [
    "A sequence $S$ can be conceptualized as a function $S: \\mathbb{N} \\rightarrow X$, from the natural numbers to some set $X$, where $S(0)$ is the first element of the sequence, $S(1)$ the second, and so on."
   ]
  },
  {
   "cell_type": "markdown",
   "metadata": {},
   "source": [
    " A $(k+1)$-vertex walk $W \\in \\texttt{Walks}(G)$ would then be a sequence $S: \\{0, 1, \\ldots, k\\} \\rightarrow \\texttt{Vertices}(G)$ such that $\\texttt{Adjacent}(S(i), S(i+1), G)$ for $i \\in \\{0, 1, \\ldots, k-1\\}$. In this approach, $S(0) = s_{0}$ and $S(k) = s_{k}$ are the two endvertices of the walk $W$."
   ]
  },
  {
   "cell_type": "markdown",
   "metadata": {},
   "source": [
    "A __path__ $P$ in a simple graph $G$ is a walk in $G$ such that no vertices (and thus no edges) are repeated. If we think of the path/walk as a literal sequence $S = (v_0, v_1, \\ldots, v_k)$, then the non-repetition of vertices might be formulated using a predicate such as $\\texttt{Unique}(S)$ or $\\texttt{NonRepeating}(S)$, or, if we can index the elements of the sequence $S$, we might claim that $\\forall_{v_{i}, v_{j} \\in S} \\big(v_{i} = v_{j} \\Leftrightarrow i = j\\big)$.\n",
    "\n",
    "If we think of the path/walk sequence as a function $S: \\{0, 1, \\ldots, k\\} \\rightarrow \\texttt{Vertices}(G)$, a path would be a walk where the sequence (function) $S$ is one-to-one (_i.e._, $S(i) = S(j) \\Rightarrow i = j$).\n",
    "\n",
    "domain?\n",
    "\n",
    "$W \\in \\texttt{Functions}(\\{0, 1, \\ldots, k\\}, \\texttt{Vertices}(G))$\n",
    "\n",
    "$W \\in \\texttt{Walks}(G) := W \\in \\texttt{Functions}(\\{0, 1, \\ldots, k\\}, \\texttt{Vertices}(G))$\n",
    "\n",
    "$\\forall_{G \\in \\texttt{Graphs}}\\forall_{k \\in \\mathbb{N}}\\big[\\texttt{Walks}(G, k) := \\texttt{Functions}(\\{0, 1, \\ldots, k\\}, \\texttt{Vertices}(G))\\big]$\n",
    "\n",
    "By the end of our discussion on Fri 6/27, generally thinking that we'd represent walks in $G$ as $\\texttt{Walks}(G, k)$ or walks of a specific length $k$ in graph $G$, and those can be represented as special functions (equivalent to a sequence), as written above. And despite the annoyance of using $0$-based indexing, such indexing can be useful since we then talk about lengths of walks as the number of edges, which will be one less than the number of vertices in the sequence. Paths of length $k$ can then be defined in terms of injective walks. And Trails can be defined in terms of injective functions into the edges — to be more clear, WW suggested we might have something like a claim that the EdgeSequence(Trail) is an injective function."
   ]
  },
  {
   "cell_type": "code",
   "execution_count": null,
   "metadata": {},
   "outputs": [],
   "source": [
    "%end demonstrations"
   ]
  }
 ],
 "metadata": {
  "kernelspec": {
   "display_name": "Python 3",
   "language": "python",
   "name": "python3"
  }
 },
 "nbformat": 4,
 "nbformat_minor": 0
}
