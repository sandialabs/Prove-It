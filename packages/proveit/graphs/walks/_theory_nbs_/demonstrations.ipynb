{
 "cells": [
  {
   "cell_type": "markdown",
   "metadata": {},
   "source": [
    "Demonstrations for the theory of <a class=\"ProveItLink\" href=\"theory.ipynb\">proveit.graphs.walks</a>\n",
    "========"
   ]
  },
  {
   "cell_type": "code",
   "execution_count": null,
   "metadata": {},
   "outputs": [],
   "source": [
    "import proveit\n",
    "from proveit import a, b, i, k, C, G, P, S, T, W, Function\n",
    "from proveit.logic import And, Equals, Forall, InClass, InSet, Set, SetOfAll\n",
    "from proveit.logic.sets import Functions, Injections\n",
    "from proveit.numbers import zero, one, three, Add, greater_eq, Interval, Natural, subtract\n",
    "from proveit.graphs import (\n",
    "        AdjacentVertices, BeginningVertex, Circuits, ClosedTrails,\n",
    "        ClosedWalks, Cycles, Edges, EdgeSequence, EdgeSet, EndingVertex,\n",
    "        EndVertices, EulerianCircuits, EulerianTrails, Graph, Graphs, Paths,\n",
    "        Size, Trails, Vertices, WalkLength, Walks)\n",
    "%begin demonstrations\n"
   ]
  },
  {
   "cell_type": "markdown",
   "metadata": {},
   "source": [
    "## Walks of Various Kinds\n",
    "### Including: Walks, Trails, Paths, Circuits, & Cycles"
   ]
  },
  {
   "cell_type": "markdown",
   "metadata": {},
   "source": [
    "`Walks(k, G)` represents the set of all walks of length $k$ in the simple undirected graph $G$. \n",
    "\n",
    "A __walk__ $W$ in a simple undirected graph $G$ is a sequence $(u = v_0, v_1, ..., v = v_k)$ of vertices of $G$ such that consecutive vertices in the sequence are adjacent in $G$ --- in other words, every pair $\\{v_{i}, v_{i+1}\\}$ of vertices (for $i \\in \\{0, 1, ..., k-1\\}$) in the sequence corresponds to an edge in $G$. We have chosen to embrace a formal definition of a sequence, so a length-$k$ walk in graph $G$ is actually a function, $W:[0, 1, 2, \\ldots, k]\\rightarrow \\texttt{Vertices}(G)$.\n",
    "\n",
    "Trails, paths, circuits, and cycles are all special cases of walks.\n",
    "\n",
    "In the walk with sequence $(u = v_0, v_1, ..., v = v_k)$, $u$ and $v$ are called the endvertices or endpoints of the walk, and a walk from $u$ to $v$ is often referred to as a $u$-$v$ walk. The vertices $v_1, v_2, ..., v_{k-1}$ are called _internal vertices_. The number of edges in the walk $W$, denoted by $||W||$, is the _length_ of the walk (in this example, $||W|| = k$). The number of vertices in walk $W$, including multiplicities of repeated vertices, is denoted $|W|$, analogous to the notation for the order of a graph, $|G|$. In the example used above, $|W| = k+1$."
   ]
  },
  {
   "cell_type": "markdown",
   "metadata": {},
   "source": [
    "### Miscellaneous Testing\n",
    "Testing various classes and methods related to walks in an undirected simple graph. Some of this material could eventually be integrated into the `_demonstrations_` page and/or deleted as development continues."
   ]
  },
  {
   "cell_type": "code",
   "execution_count": null,
   "metadata": {},
   "outputs": [],
   "source": [
    "Walks(k, G)"
   ]
  },
  {
   "cell_type": "markdown",
   "metadata": {},
   "source": [
    "We can claim that $W$ is a length-$k$ walk in $G$ by claiming $W$ is a member of the set of all such length-$k$ walks:"
   ]
  },
  {
   "cell_type": "code",
   "execution_count": null,
   "metadata": {},
   "outputs": [],
   "source": [
    "InSet(W, Walks(k, G))"
   ]
  },
  {
   "cell_type": "markdown",
   "metadata": {},
   "source": [
    "And we could make more specific assumptions about a walk $W$, for example claiming or assuming that $W$ is a length-$k$ _u_,_v_-walk in $G$ “connecting” vertices $u$ and $v$, using the following:"
   ]
  },
  {
   "cell_type": "code",
   "execution_count": null,
   "metadata": {},
   "outputs": [],
   "source": [
    "temp_assumptions = [InSet(W, Walks(k, G)), Equals(EndVertices(W), Set(a, b))]"
   ]
  },
  {
   "cell_type": "markdown",
   "metadata": {},
   "source": [
    "The length (_i.e._, number of edges) in a walk $W$, denoted by $\\|W\\|$:"
   ]
  },
  {
   "cell_type": "code",
   "execution_count": null,
   "metadata": {},
   "outputs": [],
   "source": [
    "WalkLength(W)"
   ]
  },
  {
   "cell_type": "markdown",
   "metadata": {},
   "source": [
    "Assert that walk $W$ is a closed walk:"
   ]
  },
  {
   "cell_type": "code",
   "execution_count": null,
   "metadata": {},
   "outputs": [],
   "source": [
    "InSet(W, ClosedWalks(k, G))"
   ]
  },
  {
   "cell_type": "markdown",
   "metadata": {},
   "source": [
    "The sequence of edges traveled during a walk $W$ is denoted by $\\texttt{EdgeSeq}(W)$:"
   ]
  },
  {
   "cell_type": "code",
   "execution_count": null,
   "metadata": {},
   "outputs": [],
   "source": [
    "EdgeSequence(W)"
   ]
  },
  {
   "cell_type": "markdown",
   "metadata": {},
   "source": [
    "The set (not the sequence) of edges traveled during a walk $W$ is denoted by $\\texttt{EdgeSet}(W)$:"
   ]
  },
  {
   "cell_type": "code",
   "execution_count": null,
   "metadata": {},
   "outputs": [],
   "source": [
    "EdgeSet(W)"
   ]
  },
  {
   "cell_type": "markdown",
   "metadata": {},
   "source": [
    "`Trails(k, G)` represents the set of all trails of length $k$ in the simple graph $G$. \n",
    "\n",
    "A __trail__ $T$ in a simple graph $G$ is a walk in which no edge is repeated. A _closed_ trail is a trail in which the beginning vertex and ending vertex are the same."
   ]
  },
  {
   "cell_type": "code",
   "execution_count": null,
   "metadata": {},
   "outputs": [],
   "source": [
    "Trails(k, G)"
   ]
  },
  {
   "cell_type": "code",
   "execution_count": null,
   "metadata": {},
   "outputs": [],
   "source": [
    "InSet(T, Trails(k, G))"
   ]
  },
  {
   "cell_type": "code",
   "execution_count": null,
   "metadata": {},
   "outputs": [],
   "source": [
    "ClosedTrails(k, G)"
   ]
  },
  {
   "cell_type": "code",
   "execution_count": null,
   "metadata": {},
   "outputs": [],
   "source": [
    "InSet(T, ClosedTrails(k, G))"
   ]
  },
  {
   "cell_type": "markdown",
   "metadata": {},
   "source": [
    "`Paths(k, G)` represents the set of all paths of length $k$ in the simple graph $G$. \n",
    "\n",
    "A __path__ $P$ in a simple graph $G$ is a walk in which no vertex (and thus no edge) is repeated."
   ]
  },
  {
   "cell_type": "code",
   "execution_count": null,
   "metadata": {},
   "outputs": [],
   "source": [
    "Paths(k, G)"
   ]
  },
  {
   "cell_type": "code",
   "execution_count": null,
   "metadata": {},
   "outputs": [],
   "source": [
    "InSet(P, Paths(k, G))"
   ]
  },
  {
   "cell_type": "markdown",
   "metadata": {},
   "source": [
    "A __circuit__ is a closed trail (_i.e._, a closed walk with no repeated edges). A circuit of length $k$ in graph $G$ is denoted by its membership in the class of all such circuits:"
   ]
  },
  {
   "cell_type": "code",
   "execution_count": null,
   "metadata": {},
   "outputs": [],
   "source": [
    "Circuits(k, G)"
   ]
  },
  {
   "cell_type": "code",
   "execution_count": null,
   "metadata": {},
   "outputs": [],
   "source": [
    "InSet(C, Circuits(k, G))"
   ]
  },
  {
   "cell_type": "markdown",
   "metadata": {},
   "source": [
    "An __Eulerian circuit__ in graph $G$ is a circuit in $G$ that uses every edge of $G$. An Eulerian circuit in graph $G$ then always has length equal to the number of edges in $G$ (or the size of $G$), denoted by $||G||$."
   ]
  },
  {
   "cell_type": "code",
   "execution_count": null,
   "metadata": {},
   "outputs": [],
   "source": [
    "EulerianCircuits(G)"
   ]
  },
  {
   "cell_type": "code",
   "execution_count": null,
   "metadata": {},
   "outputs": [],
   "source": [
    "InSet(C, EulerianCircuits(G))"
   ]
  },
  {
   "cell_type": "markdown",
   "metadata": {},
   "source": [
    "A __cycle__ is a circuit in which no vertex is repeated, in other words: a closed walk in which no vertex (and thus no edge) is repeated. With some abuse of terminology, one might call a cycle a “closed path.” A cycle of length $k$ (generally referred to as a $k$-cycle) in graph $G$ is denoted by its membership in the class of all such cycles:"
   ]
  },
  {
   "cell_type": "code",
   "execution_count": null,
   "metadata": {},
   "outputs": [],
   "source": [
    "Cycles(k, G)"
   ]
  },
  {
   "cell_type": "code",
   "execution_count": null,
   "metadata": {},
   "outputs": [],
   "source": [
    "# cycle membership under construction"
   ]
  },
  {
   "cell_type": "markdown",
   "metadata": {},
   "source": [
    "The _set_ of endvertices (or endpoints) of a walk $W$ is denoted $\\texttt{EndVertices}(W)$:"
   ]
  },
  {
   "cell_type": "code",
   "execution_count": null,
   "metadata": {},
   "outputs": [],
   "source": [
    "EndVertices(W)"
   ]
  },
  {
   "cell_type": "code",
   "execution_count": null,
   "metadata": {},
   "outputs": [],
   "source": [
    "EndVertices(W).definition(assumptions = [InClass(G, Graphs), InSet(WalkLength(W), Natural), InSet(W, Walks(WalkLength(W), G))])"
   ]
  },
  {
   "cell_type": "markdown",
   "metadata": {},
   "source": [
    "Since a length-$k$ walk $W$ in graph $G$ is a function $W:(0, 1, \\ldots, k)\\rightarrow \\texttt{Vertices}(G)$, there is a natural “begining vertex” and “ending vertex,” denoted `BeginningVertex(W)` and `EndingVertex(W)`, respectively."
   ]
  },
  {
   "cell_type": "code",
   "execution_count": null,
   "metadata": {},
   "outputs": [],
   "source": [
    "BeginningVertex(W)"
   ]
  },
  {
   "cell_type": "code",
   "execution_count": null,
   "metadata": {},
   "outputs": [],
   "source": [
    "EndingVertex(W)"
   ]
  },
  {
   "cell_type": "markdown",
   "metadata": {},
   "source": [
    "The set of all Eulerian trails in graph $G$:"
   ]
  },
  {
   "cell_type": "code",
   "execution_count": null,
   "metadata": {},
   "outputs": [],
   "source": [
    "EulerianTrails(G)"
   ]
  },
  {
   "cell_type": "markdown",
   "metadata": {},
   "source": [
    "#### Walks Membership and Related Methods"
   ]
  },
  {
   "cell_type": "code",
   "execution_count": null,
   "metadata": {},
   "outputs": [],
   "source": [
    "InSet(W, Walks(k, G))"
   ]
  },
  {
   "cell_type": "code",
   "execution_count": null,
   "metadata": {},
   "outputs": [],
   "source": [
    "InSet(W, Walks(k, G)).deduce_in_bool(assumptions = [InClass(G, Graphs), InSet(k, Natural)])"
   ]
  },
  {
   "cell_type": "code",
   "execution_count": null,
   "metadata": {},
   "outputs": [],
   "source": [
    "InSet(W, Walks(k, G)).definition(assumptions = [InClass(G, Graphs), InSet(k, Natural)])"
   ]
  },
  {
   "cell_type": "code",
   "execution_count": null,
   "metadata": {},
   "outputs": [],
   "source": [
    "InSet(W, Walks(k, G)).as_defined()"
   ]
  },
  {
   "cell_type": "code",
   "execution_count": null,
   "metadata": {},
   "outputs": [],
   "source": [
    "InSet(W, Walks(k, G)).element_length_derivation(assumptions = [InClass(G, Graphs), InSet(k, Natural), InSet(W, Walks(k, G))])"
   ]
  },
  {
   "cell_type": "code",
   "execution_count": null,
   "metadata": {},
   "outputs": [],
   "source": [
    "InSet(W, Walks(k, G)).unfold(assumptions = [InSet(W, Walks(k, G)), InClass(G, Graphs), InSet(k, Natural)])"
   ]
  },
  {
   "cell_type": "code",
   "execution_count": null,
   "metadata": {},
   "outputs": [],
   "source": [
    "InSet(W, Walks(k, G)).conclude(\n",
    "    assumptions = [InClass(G, Graphs), InSet(k, Natural),\n",
    "                   InSet(W, SetOfAll(S, S,\n",
    "                            conditions = [\n",
    "                                Forall(i, AdjacentVertices(Function(S, i), Function(S, Add(i, one)), G),\n",
    "                                       domain = Interval(zero, subtract(k, one)))],\n",
    "                            domain = Functions(Interval(zero, k), Vertices(G))))])"
   ]
  },
  {
   "cell_type": "code",
   "execution_count": null,
   "metadata": {},
   "outputs": [],
   "source": [
    "InSet(W, Walks(k, G)).conclude(\n",
    "    assumptions = [InClass(G, Graphs), InSet(k, Natural),\n",
    "                   InSet(W, Functions(Interval(zero, k), Vertices(G))),\n",
    "                   Forall(i, AdjacentVertices(Function(W, i), Function(W, Add(i, one)), G),\n",
    "                                       domain = Interval(zero, subtract(k, one)))])"
   ]
  },
  {
   "cell_type": "markdown",
   "metadata": {},
   "source": [
    "#### ClosedWalks Membership and Related Methods"
   ]
  },
  {
   "cell_type": "code",
   "execution_count": null,
   "metadata": {},
   "outputs": [],
   "source": [
    "InSet(W, ClosedWalks(k, G))"
   ]
  },
  {
   "cell_type": "code",
   "execution_count": null,
   "metadata": {},
   "outputs": [],
   "source": [
    "InSet(W, ClosedWalks(k, G)).deduce_in_bool(assumptions = [InClass(G, Graphs), InSet(k, Natural)])"
   ]
  },
  {
   "cell_type": "code",
   "execution_count": null,
   "metadata": {},
   "outputs": [],
   "source": [
    "InSet(W, ClosedWalks(k, G)).definition(assumptions = [InClass(G, Graphs), InSet(k, Natural)])"
   ]
  },
  {
   "cell_type": "code",
   "execution_count": null,
   "metadata": {},
   "outputs": [],
   "source": [
    "InSet(W, ClosedWalks(k, G)).as_defined()"
   ]
  },
  {
   "cell_type": "code",
   "execution_count": null,
   "metadata": {},
   "outputs": [],
   "source": [
    "InSet(W, ClosedWalks(k, G)).unfold(\n",
    "        assumptions = [InClass(G, Graphs), InSet(k, Natural), InSet(W, ClosedWalks(k, G))])"
   ]
  },
  {
   "cell_type": "code",
   "execution_count": null,
   "metadata": {},
   "outputs": [],
   "source": [
    "InSet(W, ClosedWalks(k, G)).conclude(\n",
    "        assumptions = [InClass(G, Graphs), InSet(k, Natural),\n",
    "                       InSet(W, SetOfAll(S, S, conditions = [Equals(BeginningVertex(S), EndingVertex(S))],\n",
    "                                domain = Walks(k, G)))])"
   ]
  },
  {
   "cell_type": "code",
   "execution_count": null,
   "metadata": {},
   "outputs": [],
   "source": [
    "InSet(W, ClosedWalks(k, G)).derive_element_in_walks(\n",
    "    assumptions = [InClass(G, Graphs), InSet(k, Natural), InSet(W, ClosedWalks(k, G))])"
   ]
  },
  {
   "cell_type": "markdown",
   "metadata": {},
   "source": [
    "#### Trails Membership and Related Methods"
   ]
  },
  {
   "cell_type": "code",
   "execution_count": null,
   "metadata": {},
   "outputs": [],
   "source": [
    "InSet(T, Trails(k, G))"
   ]
  },
  {
   "cell_type": "code",
   "execution_count": null,
   "metadata": {},
   "outputs": [],
   "source": [
    "InSet(T, Trails(k, G)).deduce_in_bool(assumptions = [InClass(G, Graphs), InSet(k, Natural)])"
   ]
  },
  {
   "cell_type": "code",
   "execution_count": null,
   "metadata": {},
   "outputs": [],
   "source": [
    "InSet(T, Trails(k, G)).definition(assumptions = [InClass(G, Graphs), InSet(k, Natural)])"
   ]
  },
  {
   "cell_type": "code",
   "execution_count": null,
   "metadata": {},
   "outputs": [],
   "source": [
    "InSet(T, Trails(k, G)).as_defined()"
   ]
  },
  {
   "cell_type": "code",
   "execution_count": null,
   "metadata": {},
   "outputs": [],
   "source": [
    "InSet(T, Trails(k, G)).unfold(assumptions = [InClass(G, Graphs), InSet(k, Natural), InSet(T, Trails(k, G))])"
   ]
  },
  {
   "cell_type": "code",
   "execution_count": null,
   "metadata": {},
   "outputs": [],
   "source": [
    "InSet(T, Trails(k, G)).conclude(\n",
    "        assumptions = [InClass(G, Graphs), InSet(k, Natural),\n",
    "                       InSet(T, SetOfAll(W, W, conditions = [InSet(EdgeSequence(W), Injections(Interval(zero, subtract(k, one)), Edges(G)))],\n",
    "                                        domain = Walks(k, G)))])"
   ]
  },
  {
   "cell_type": "code",
   "execution_count": null,
   "metadata": {},
   "outputs": [],
   "source": [
    "InSet(T, Trails(k, G)).conclude(\n",
    "        assumptions = [\n",
    "            InClass(G, Graphs), InSet(k, Natural),\n",
    "            And(InSet(T, Walks(k, G)),\n",
    "            InSet(EdgeSequence(T), Injections(Interval(zero, subtract(k, one)), Edges(G))))])"
   ]
  },
  {
   "cell_type": "code",
   "execution_count": null,
   "metadata": {},
   "outputs": [],
   "source": [
    "InSet(T, Trails(k, G)).derive_element_in_walks(\n",
    "    assumptions = [InClass(G, Graphs), InSet(k, Natural), InSet(T, Trails(k, G))])"
   ]
  },
  {
   "cell_type": "markdown",
   "metadata": {},
   "source": [
    "#### ClosedTrails Membership and Related Methods"
   ]
  },
  {
   "cell_type": "code",
   "execution_count": null,
   "metadata": {},
   "outputs": [],
   "source": [
    "InSet(T, ClosedTrails(k, G))"
   ]
  },
  {
   "cell_type": "code",
   "execution_count": null,
   "metadata": {},
   "outputs": [],
   "source": [
    "InSet(T, ClosedTrails(k, G)).deduce_in_bool(assumptions = [InClass(G, Graphs), InSet(k, Natural)])"
   ]
  },
  {
   "cell_type": "code",
   "execution_count": null,
   "metadata": {},
   "outputs": [],
   "source": [
    "InSet(T, ClosedTrails(k, G)).definition(assumptions = [InClass(G, Graphs), InSet(k, Natural)])"
   ]
  },
  {
   "cell_type": "code",
   "execution_count": null,
   "metadata": {},
   "outputs": [],
   "source": [
    "InSet(T, ClosedTrails(k, G)).as_defined()"
   ]
  },
  {
   "cell_type": "code",
   "execution_count": null,
   "metadata": {},
   "outputs": [],
   "source": [
    "InSet(T, ClosedTrails(k, G)).unfold(assumptions = [InClass(G, Graphs), InSet(k, Natural), InSet(T, ClosedTrails(k, G))])"
   ]
  },
  {
   "cell_type": "code",
   "execution_count": null,
   "metadata": {},
   "outputs": [],
   "source": [
    "InSet(T, ClosedTrails(k, G)).conclude(\n",
    "        assumptions = [InClass(G, Graphs), InSet(k, Natural),\n",
    "                       InSet(T, SetOfAll(W, W, conditions = [InSet(EdgeSequence(W), Injections(Interval(zero, subtract(k, one)), Edges(G)))],\n",
    "                                        domain = ClosedWalks(k, G)))])"
   ]
  },
  {
   "cell_type": "code",
   "execution_count": null,
   "metadata": {},
   "outputs": [],
   "source": [
    "InSet(T, ClosedTrails(k, G)).conclude(\n",
    "        assumptions = [\n",
    "            InClass(G, Graphs), InSet(k, Natural),\n",
    "            And(InSet(T, ClosedWalks(k, G)),\n",
    "            InSet(EdgeSequence(T), Injections(Interval(zero, subtract(k, one)), Edges(G))))])"
   ]
  },
  {
   "cell_type": "code",
   "execution_count": null,
   "metadata": {},
   "outputs": [],
   "source": [
    "InSet(T, ClosedTrails(k, G)).derive_element_in_closed_walks(\n",
    "    assumptions = [InClass(G, Graphs), InSet(k, Natural), InSet(T, ClosedTrails(k, G))])"
   ]
  },
  {
   "cell_type": "code",
   "execution_count": null,
   "metadata": {},
   "outputs": [],
   "source": [
    "InSet(T, Walks(k, G)).prove(\n",
    "        assumptions = [InClass(G, Graphs), InSet(k, Natural), InSet(T, ClosedTrails(k, G))]\n",
    ")"
   ]
  },
  {
   "cell_type": "markdown",
   "metadata": {},
   "source": [
    "#### Paths Membership and Related Methods"
   ]
  },
  {
   "cell_type": "code",
   "execution_count": null,
   "metadata": {},
   "outputs": [],
   "source": [
    "InSet(P, Paths(k, G))"
   ]
  },
  {
   "cell_type": "code",
   "execution_count": null,
   "metadata": {},
   "outputs": [],
   "source": [
    "InSet(P, Paths(k, G)).deduce_in_bool(assumptions = [InClass(G, Graphs), InSet(k, Natural)])"
   ]
  },
  {
   "cell_type": "code",
   "execution_count": null,
   "metadata": {},
   "outputs": [],
   "source": [
    "InSet(P, Paths(k, G)).definition(assumptions = [InClass(G, Graphs), InSet(k, Natural)])"
   ]
  },
  {
   "cell_type": "code",
   "execution_count": null,
   "metadata": {},
   "outputs": [],
   "source": [
    "InSet(P, Paths(k, G)).as_defined()"
   ]
  },
  {
   "cell_type": "code",
   "execution_count": null,
   "metadata": {},
   "outputs": [],
   "source": [
    "InSet(P, Paths(k, G)).unfold(assumptions = [InClass(G, Graphs), InSet(k, Natural), InSet(P, Paths(k, G))])"
   ]
  },
  {
   "cell_type": "code",
   "execution_count": null,
   "metadata": {},
   "outputs": [],
   "source": [
    "InSet(P, Injections(Interval(zero, k), Vertices(G)))"
   ]
  },
  {
   "cell_type": "code",
   "execution_count": null,
   "metadata": {},
   "outputs": [],
   "source": [
    "InSet(P, Paths(k, G)).conclude(\n",
    "    assumptions = [InClass(G, Graphs), InSet(k, Natural),\n",
    "                   InSet(P, Walks(k, G)), InSet(P, Injections(Interval(zero, k), Vertices(G)))])"
   ]
  },
  {
   "cell_type": "code",
   "execution_count": null,
   "metadata": {},
   "outputs": [],
   "source": [
    "InSet(P, Paths(k, G)).conclude(\n",
    "    assumptions = [InClass(G, Graphs), InSet(k, Natural),\n",
    "                   InSet(P, SetOfAll(W, W, conditions =[InSet(W, Injections(Interval(zero, k), Vertices(G)))],\n",
    "                                     domain = Walks(k, G)))])"
   ]
  },
  {
   "cell_type": "code",
   "execution_count": null,
   "metadata": {},
   "outputs": [],
   "source": [
    "InSet(P, Paths(k, G)).derive_element_in_trails(\n",
    "    assumptions = [InClass(G, Graphs), InSet(k, Natural), InSet(P, Paths(k, G))])"
   ]
  },
  {
   "cell_type": "markdown",
   "metadata": {},
   "source": [
    "Because of cascading of side-effects in walk-related memberships, we can automatically prove that $P$ is a walk if we know or assume that $P$ is a path:"
   ]
  },
  {
   "cell_type": "code",
   "execution_count": null,
   "metadata": {},
   "outputs": [],
   "source": [
    "InSet(P, Walks(k, G)).prove(\n",
    "        assumptions = [InClass(G, Graphs), InSet(k, Natural), InSet(P, Paths(k, G))]\n",
    ")"
   ]
  },
  {
   "cell_type": "markdown",
   "metadata": {},
   "source": [
    "#### Circuits Membership and Related Methods"
   ]
  },
  {
   "cell_type": "code",
   "execution_count": null,
   "metadata": {},
   "outputs": [],
   "source": [
    "InSet(C, Circuits(k, G))"
   ]
  },
  {
   "cell_type": "code",
   "execution_count": null,
   "metadata": {},
   "outputs": [],
   "source": [
    "InSet(C, Circuits(k, G)).deduce_in_bool(assumptions = [InClass(G, Graphs), InSet(k, Natural)])"
   ]
  },
  {
   "cell_type": "code",
   "execution_count": null,
   "metadata": {},
   "outputs": [],
   "source": [
    "InSet(C, Circuits(k, G)).definition(\n",
    "        assumptions = [InClass(G, Graphs), InSet(k, Natural), greater_eq(k, three)])"
   ]
  },
  {
   "cell_type": "code",
   "execution_count": null,
   "metadata": {},
   "outputs": [],
   "source": [
    "InSet(C, Circuits(k, G)).as_defined()"
   ]
  },
  {
   "cell_type": "code",
   "execution_count": null,
   "metadata": {},
   "outputs": [],
   "source": [
    "InSet(C, Circuits(k, G)).unfold(\n",
    "        assumptions = [InClass(G, Graphs), InSet(k, Natural),\n",
    "                       greater_eq(k, three), InSet(C, Circuits(k, G))])"
   ]
  },
  {
   "cell_type": "code",
   "execution_count": null,
   "metadata": {},
   "outputs": [],
   "source": [
    "InSet(C, Circuits(k, G)).conclude(\n",
    "        assumptions = [InClass(G, Graphs), InSet(k, Natural),\n",
    "                       greater_eq(k, three), InSet(C, ClosedTrails(k, G))])"
   ]
  },
  {
   "cell_type": "code",
   "execution_count": null,
   "metadata": {},
   "outputs": [],
   "source": [
    "InSet(C, Circuits(k, G)).derive_element_in_closed_trails(\n",
    "        assumptions = [InClass(G, Graphs), InSet(k, Natural),\n",
    "                       greater_eq(k, three), InSet(C, Circuits(k, G))]\n",
    ")"
   ]
  },
  {
   "cell_type": "code",
   "execution_count": null,
   "metadata": {},
   "outputs": [],
   "source": [
    "InSet(C, Walks(k, G)).prove(\n",
    "        assumptions = [InClass(G, Graphs), InSet(k, Natural),\n",
    "                       greater_eq(k, three), InSet(C, Circuits(k, G))])"
   ]
  },
  {
   "cell_type": "markdown",
   "metadata": {},
   "source": [
    "#### Eulerian Circuits Membership and Related Methods"
   ]
  },
  {
   "cell_type": "code",
   "execution_count": null,
   "metadata": {},
   "outputs": [],
   "source": [
    "InSet(C, EulerianCircuits(G))"
   ]
  },
  {
   "cell_type": "code",
   "execution_count": null,
   "metadata": {},
   "outputs": [],
   "source": [
    "InSet(C, EulerianCircuits(G)).deduce_in_bool(assumptions = [InClass(G, Graphs)])"
   ]
  },
  {
   "cell_type": "code",
   "execution_count": null,
   "metadata": {},
   "outputs": [],
   "source": [
    "InSet(C, EulerianCircuits(G)).definition(assumptions = [InClass(G, Graphs)])"
   ]
  },
  {
   "cell_type": "code",
   "execution_count": null,
   "metadata": {},
   "outputs": [],
   "source": [
    "InSet(C, EulerianCircuits(G)).as_defined()"
   ]
  },
  {
   "cell_type": "code",
   "execution_count": null,
   "metadata": {},
   "outputs": [],
   "source": [
    "InSet(C, EulerianCircuits(G)).unfold(assumptions = [InClass(G, Graphs), InSet(C, EulerianCircuits(G))])"
   ]
  },
  {
   "cell_type": "code",
   "execution_count": null,
   "metadata": {},
   "outputs": [],
   "source": [
    "InSet(C, EulerianCircuits(G)).conclude(assumptions = [InClass(G, Graphs), InSet(C, Circuits(Size(G), G))])"
   ]
  },
  {
   "cell_type": "code",
   "execution_count": null,
   "metadata": {},
   "outputs": [],
   "source": [
    "InSet(C, EulerianCircuits(G)).derive_element_in_closed_walks(\n",
    "        assumptions = [InClass(G, Graphs), InSet(C, EulerianCircuits(G))]\n",
    ")"
   ]
  },
  {
   "cell_type": "markdown",
   "metadata": {},
   "source": [
    "#### Cycles Membership and Related Methods"
   ]
  },
  {
   "cell_type": "code",
   "execution_count": null,
   "metadata": {},
   "outputs": [],
   "source": [
    "InSet(C, Cycles(k, G))"
   ]
  },
  {
   "cell_type": "code",
   "execution_count": null,
   "metadata": {},
   "outputs": [],
   "source": [
    "InSet(C, Cycles(k, G)).deduce_in_bool(assumptions = [InClass(G, Graphs), InSet(k, Natural)])"
   ]
  },
  {
   "cell_type": "code",
   "execution_count": null,
   "metadata": {},
   "outputs": [],
   "source": [
    "InSet(C, Cycles(k, G)).definition(assumptions = [InClass(G, Graphs), InSet(k, Natural), greater_eq(k, three)])"
   ]
  },
  {
   "cell_type": "code",
   "execution_count": null,
   "metadata": {},
   "outputs": [],
   "source": [
    "InSet(C, Cycles(k, G)).as_defined()"
   ]
  },
  {
   "cell_type": "code",
   "execution_count": null,
   "metadata": {},
   "outputs": [],
   "source": [
    "InSet(C, Cycles(k, G)).unfold(\n",
    "        assumptions = [InClass(G, Graphs), InSet(k, Natural), greater_eq(k, three), InSet(C, Cycles(k, G))])"
   ]
  },
  {
   "cell_type": "code",
   "execution_count": null,
   "metadata": {},
   "outputs": [],
   "source": [
    "from proveit.logic.sets import Restriction\n",
    "InSet(C, Cycles(k, G)).conclude(\n",
    "        assumptions = [InClass(G, Graphs), InSet(k, Natural), greater_eq(k, three),\n",
    "                       InSet(C, SetOfAll(W, W,\n",
    "                       conditions=[InSet(Restriction(W, Interval(zero, subtract(k, one))), Paths(subtract(k, one), G))],\n",
    "                       domain=Circuits(k, G)))])"
   ]
  },
  {
   "cell_type": "code",
   "execution_count": null,
   "metadata": {},
   "outputs": [],
   "source": [
    "InSet(C, Cycles(k, G)).derive_element_in_circuits(\n",
    "        assumptions = [InClass(G, Graphs), InSet(k, Natural),\n",
    "                       greater_eq(k, three), InSet(C, Cycles(k, G))]\n",
    ")"
   ]
  },
  {
   "cell_type": "code",
   "execution_count": null,
   "metadata": {},
   "outputs": [],
   "source": [
    "InSet(C, Walks(k, G)).prove(assumptions = [InClass(G, Graphs), InSet(k, Natural),\n",
    "                       greater_eq(k, three), InSet(C, Cycles(k, G))])"
   ]
  },
  {
   "cell_type": "code",
   "execution_count": null,
   "metadata": {},
   "outputs": [],
   "source": [
    "Size(G).derive_size_in_natural(assumptions = [InClass(G, Graphs)])"
   ]
  },
  {
   "cell_type": "code",
   "execution_count": null,
   "metadata": {},
   "outputs": [],
   "source": [
    "InSet(C, Walks(Size(G), G)).prove(\n",
    "        assumptions = [InClass(G, Graphs), InSet(Size(G), Natural), InSet(C, EulerianCircuits(G))]\n",
    ")"
   ]
  },
  {
   "cell_type": "code",
   "execution_count": null,
   "metadata": {},
   "outputs": [],
   "source": [
    "%end demonstrations"
   ]
  }
 ],
 "metadata": {
  "kernelspec": {
   "display_name": "Python 3",
   "language": "python",
   "name": "python3"
  }
 },
 "nbformat": 4,
 "nbformat_minor": 0
}
