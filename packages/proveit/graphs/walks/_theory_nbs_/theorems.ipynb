{
 "cells": [
  {
   "cell_type": "markdown",
   "metadata": {},
   "source": [
    "Theorems (or conjectures) for the theory of <a class=\"ProveItLink\" href=\"theory.ipynb\">proveit.graphs.walks</a>\n",
    "========"
   ]
  },
  {
   "cell_type": "code",
   "execution_count": null,
   "metadata": {},
   "outputs": [],
   "source": [
    "import proveit\n",
    "# Prepare this notebook for defining the theorems of a theory:\n",
    "%theorems_notebook # Keep this at the top following 'import proveit'.\n",
    "\n",
    "from proveit import i, j, k, u, v, G, P, S, T, W, Function\n",
    "from proveit.logic import And, Equals, Exists, Forall, in_bool\n",
    "from proveit.logic.sets import Functions, Injections, InSet, Set, SetOfAll\n",
    "from proveit.numbers import zero, one, Add, Interval, LessEq, Natural, subtract\n",
    "from proveit.graphs import (AdjacentVertices, Edges, EdgeSequence, EndVertices, Graphs,\n",
    "        Paths, Trails, Vertices, Walks)\n"
   ]
  },
  {
   "cell_type": "code",
   "execution_count": null,
   "metadata": {},
   "outputs": [],
   "source": [
    "%begin theorems"
   ]
  },
  {
   "cell_type": "code",
   "execution_count": null,
   "metadata": {},
   "outputs": [],
   "source": [
    "walks_membership_def = (\n",
    "    Forall(G, Forall(k, Forall(W,\n",
    "    Equals(\n",
    "        InSet(W, Walks(k, G)),\n",
    "        InSet(W,\n",
    "        SetOfAll(S,\n",
    "             S,\n",
    "             conditions = [Forall(i, AdjacentVertices(Function(S, i), Function(S, Add(i, one)), G),\n",
    "                                  domain = Interval(zero, subtract(k, one)))],\n",
    "             domain = Functions(Interval(zero, k), Vertices(G))))\n",
    "    )), domain = Natural), domain = Graphs())\n",
    ")"
   ]
  },
  {
   "cell_type": "code",
   "execution_count": null,
   "metadata": {},
   "outputs": [],
   "source": [
    "walks_membership_unfolding = (\n",
    "    Forall(G, Forall(k, Forall(W,\n",
    "    InSet(W,\n",
    "          SetOfAll(S, S,\n",
    "              conditions = [Forall(i, AdjacentVertices(Function(S, i), Function(S, Add(i, one)), G),\n",
    "                                  domain = Interval(zero, subtract(k, one)))],\n",
    "          domain = Functions(Interval(zero, k), Vertices(G)))),\n",
    "    conditions = [InSet(W, Walks(k, G))]), domain = Natural), domain = Graphs())\n",
    ")"
   ]
  },
  {
   "cell_type": "code",
   "execution_count": null,
   "metadata": {},
   "outputs": [],
   "source": [
    "walks_membership_folding = (\n",
    "    Forall(G, Forall(k, Forall(W,\n",
    "    InSet(W, Walks(k, G)),\n",
    "    conditions = [InSet(W,\n",
    "          SetOfAll(S, S,\n",
    "              conditions = [Forall(i, AdjacentVertices(Function(S, i), Function(S, Add(i, one)), G),\n",
    "                                  domain = Interval(zero, subtract(k, one)))],\n",
    "          domain = Functions(Interval(zero, k), Vertices(G))))]), domain = Natural), domain = Graphs())\n",
    ")"
   ]
  },
  {
   "cell_type": "code",
   "execution_count": null,
   "metadata": {},
   "outputs": [],
   "source": [
    "walks_membership_unfolding_components = (\n",
    "    Forall(G, Forall(k, Forall(W,\n",
    "    And(InSet(W, Functions(Interval(zero, k), Vertices(G))),\n",
    "        Forall(i, AdjacentVertices(Function(W, i), Function(W, Add(i, one)), G), domain = Interval(zero, subtract(k, one)))),\n",
    "    conditions = [InSet(W, Walks(k, G))]), domain = Natural), domain = Graphs())\n",
    ")"
   ]
  },
  {
   "cell_type": "code",
   "execution_count": null,
   "metadata": {},
   "outputs": [],
   "source": [
    "walks_membership_folding_components = (\n",
    "    Forall(G, Forall(k, Forall(W,\n",
    "    InSet(W, Walks(k, G)),\n",
    "    conditions = [Forall(i, AdjacentVertices(Function(W, i), Function(W, Add(i, one)), G),\n",
    "        domain = Interval(zero, subtract(k, one)))],\n",
    "    domain = Functions(Interval(zero, k), Vertices(G))),\n",
    "    domain = Natural), domain = Graphs())\n",
    ")"
   ]
  },
  {
   "cell_type": "code",
   "execution_count": null,
   "metadata": {},
   "outputs": [],
   "source": [
    "trails_membership_def = (\n",
    "    Forall(G, Forall(k, Forall(T,\n",
    "    Equals(\n",
    "        InSet(T, Trails(k, G)),\n",
    "        InSet(T,\n",
    "        SetOfAll(W,\n",
    "                 W,\n",
    "                 conditions = [InSet(EdgeSequence(W), Injections(Interval(zero, subtract(k, one)), Edges(G)))],\n",
    "                 domain = Walks(k, G) ))\n",
    "    )), domain = Natural), domain = Graphs())\n",
    ")"
   ]
  },
  {
   "cell_type": "code",
   "execution_count": null,
   "metadata": {},
   "outputs": [],
   "source": [
    "trails_membership_unfolding = (\n",
    "    Forall(G, Forall(k, Forall(T,\n",
    "    InSet(T,\n",
    "        SetOfAll(W,\n",
    "        W,\n",
    "        conditions = [InSet(EdgeSequence(W), Injections(Interval(zero, subtract(k, one)), Edges(G)))],\n",
    "        domain = Walks(k, G) )),\n",
    "    domain = Trails(k, G)), domain = Natural), domain = Graphs())\n",
    ")"
   ]
  },
  {
   "cell_type": "code",
   "execution_count": null,
   "metadata": {},
   "outputs": [],
   "source": [
    "trails_membership_folding = (\n",
    "    Forall(G, Forall(k, Forall(T,\n",
    "    InSet(T, Trails(k, G)),\n",
    "    conditions = [],\n",
    "    domain = SetOfAll(W,\n",
    "        W,\n",
    "        conditions = [InSet(EdgeSequence(W), Injections(Interval(zero, subtract(k, one)), Edges(G)))],\n",
    "        domain = Walks(k, G) )), domain = Natural), domain = Graphs())\n",
    ")"
   ]
  },
  {
   "cell_type": "code",
   "execution_count": null,
   "metadata": {},
   "outputs": [],
   "source": [
    "trails_membership_unfolding_components = (\n",
    "    Forall(G, Forall(k, Forall(T,\n",
    "    And(InSet(T, Walks(k, G)),\n",
    "        InSet(EdgeSequence(T), Injections(Interval(zero, subtract(k, one)), Edges(G)))),\n",
    "    domain = Trails(k, G)), domain = Natural), domain = Graphs())\n",
    ")"
   ]
  },
  {
   "cell_type": "code",
   "execution_count": null,
   "metadata": {},
   "outputs": [],
   "source": [
    "trails_membership_folding_components = (\n",
    "    Forall(G, Forall(k, Forall(W,\n",
    "    InSet(W, Trails(k, G)),\n",
    "    conditions = [InSet(EdgeSequence(W), Injections(Interval(zero, subtract(k, one)), Edges(G)))],\n",
    "    domain = Walks(k, G)), domain = Natural), domain = Graphs())\n",
    ")"
   ]
  },
  {
   "cell_type": "code",
   "execution_count": null,
   "metadata": {},
   "outputs": [],
   "source": [
    "paths_membership_def = (\n",
    "    Forall(G, Forall(k, Forall(P,\n",
    "    Equals(\n",
    "        InSet(P, Paths(k, G)),\n",
    "        InSet(P,\n",
    "        SetOfAll(W,\n",
    "             W,\n",
    "             conditions = [InSet(W, Injections(Interval(zero, k), Vertices(G)))],\n",
    "             domain = Walks(k, G)))\n",
    "    )), domain = Natural), domain = Graphs())\n",
    ")"
   ]
  },
  {
   "cell_type": "code",
   "execution_count": null,
   "metadata": {},
   "outputs": [],
   "source": [
    "paths_membership_unfolding = (\n",
    "    Forall(G, Forall(k, Forall(P,\n",
    "        InSet(P,\n",
    "        SetOfAll(W,\n",
    "             W,\n",
    "             conditions = [InSet(W, Injections(Interval(zero, k), Vertices(G)))],\n",
    "             domain = Walks(k, G))),\n",
    "    conditions = [InSet(P, Paths(k, G))]),\n",
    "    domain = Natural), domain = Graphs())\n",
    ")"
   ]
  },
  {
   "cell_type": "code",
   "execution_count": null,
   "metadata": {},
   "outputs": [],
   "source": [
    "paths_membership_folding = (\n",
    "    Forall(G, Forall(k, Forall(P,\n",
    "        InSet(P, Paths(k, G)),\n",
    "        domain = SetOfAll(W, W,\n",
    "             conditions = [InSet(W, Injections(Interval(zero, k), Vertices(G)))],\n",
    "             domain = Walks(k, G))),\n",
    "    domain = Natural), domain = Graphs())\n",
    ")"
   ]
  },
  {
   "cell_type": "code",
   "execution_count": null,
   "metadata": {},
   "outputs": [],
   "source": [
    "paths_membership_unfolding_components = (\n",
    "    Forall(G, Forall(k, Forall(P,\n",
    "        And(InSet(P, Walks(k, G)),\n",
    "        InSet(P, Injections(Interval(zero, k), Vertices(G)))),\n",
    "    conditions = [InSet(P, Paths(k, G))]),\n",
    "    domain = Natural), domain = Graphs())\n",
    ")"
   ]
  },
  {
   "cell_type": "code",
   "execution_count": null,
   "metadata": {},
   "outputs": [],
   "source": [
    "paths_membership_folding_components = (\n",
    "    Forall(G, Forall(k, Forall(W,\n",
    "        InSet(W, Paths(k, G)),\n",
    "    conditions = [InSet(W, Injections(Interval(zero, k), Vertices(G)))], domain = Walks(k, G)),\n",
    "    domain = Natural), domain = Graphs())\n",
    ")"
   ]
  },
  {
   "cell_type": "markdown",
   "metadata": {},
   "source": [
    "#### The existence of a $u$-$v$ walk implies the existence of a $u$-$v$ path:"
   ]
  },
  {
   "cell_type": "code",
   "execution_count": null,
   "metadata": {},
   "outputs": [],
   "source": [
    "walk_implies_path = Forall(G,\n",
    "Forall((u, v),\n",
    "Forall((j, W),\n",
    "Exists((k, P), Equals(EndVertices(P), Set(u, v)),\n",
    "       conditions = [LessEq(k, j)], domains = [Natural, Paths(k, G)]),\n",
    "conditions = [Equals(EndVertices(W), Set(u, v))],\n",
    "domains = [Natural, Walks(j, G)]),\n",
    "domain = Vertices(G)),\n",
    "domain = Graphs())"
   ]
  },
  {
   "cell_type": "markdown",
   "metadata": {},
   "source": [
    "#### Some standard membership boolean claims"
   ]
  },
  {
   "cell_type": "code",
   "execution_count": null,
   "metadata": {},
   "outputs": [],
   "source": [
    "walks_membership_is_bool = Forall(G,\n",
    "Forall(k,\n",
    "Forall(W, in_bool(InSet(W, Walks(k, G)))),\n",
    "domain = Natural),\n",
    "domain = Graphs()\n",
    ")"
   ]
  },
  {
   "cell_type": "code",
   "execution_count": null,
   "metadata": {},
   "outputs": [],
   "source": [
    "trails_membership_is_bool = Forall(G,\n",
    "Forall(k,\n",
    "Forall(T, in_bool(InSet(T, Trails(k, G)))),\n",
    "domain = Natural),\n",
    "domain = Graphs()\n",
    ")"
   ]
  },
  {
   "cell_type": "code",
   "execution_count": null,
   "metadata": {},
   "outputs": [],
   "source": [
    "paths_membership_is_bool = Forall(G,\n",
    "Forall(k,\n",
    "Forall(P, in_bool(InSet(P, Paths(k, G)))),\n",
    "domain = Natural),\n",
    "domain = Graphs()\n",
    ")"
   ]
  },
  {
   "cell_type": "code",
   "execution_count": null,
   "metadata": {},
   "outputs": [],
   "source": [
    "%end theorems"
   ]
  }
 ],
 "metadata": {
  "kernelspec": {
   "display_name": "Python 3",
   "language": "python",
   "name": "python3"
  }
 },
 "nbformat": 4,
 "nbformat_minor": 0
}
