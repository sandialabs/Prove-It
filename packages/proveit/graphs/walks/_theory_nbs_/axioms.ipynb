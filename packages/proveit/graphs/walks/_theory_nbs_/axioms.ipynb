{
 "cells": [
  {
   "cell_type": "markdown",
   "metadata": {},
   "source": [
    "Axioms for the theory of <a class=\"ProveItLink\" href=\"theory.ipynb\">proveit.graphs.walks</a>\n",
    "========"
   ]
  },
  {
   "cell_type": "code",
   "execution_count": null,
   "metadata": {},
   "outputs": [],
   "source": [
    "import proveit\n",
    "# Prepare this notebook for defining the axioms of a theory:\n",
    "%axioms_notebook # Keep this at the top following 'import proveit'.\n",
    "\n",
    "from proveit import i, k, C, G, S, T, W, X, Function\n",
    "from proveit.logic import Card, Equals, Forall, Functions, Injections, InSet, Set, SetOfAll\n",
    "from proveit.logic.sets import Restriction\n",
    "from proveit.numbers import zero, one, three, Add, greater_eq, Interval, Natural, subtract\n",
    "from proveit.graphs import (\n",
    "        AdjacentVertices, BeginningVertex, Circuits, ClosedTrails,\n",
    "        ClosedWalk, ClosedWalks, Cycles, Edges, EdgeSequence, EndingVertex,\n",
    "        EndVertices, Graphs, Paths, Trails, Vertices, Walks)"
   ]
  },
  {
   "cell_type": "code",
   "execution_count": null,
   "metadata": {},
   "outputs": [],
   "source": [
    "%begin axioms"
   ]
  },
  {
   "cell_type": "markdown",
   "metadata": {},
   "source": [
    "### Walks & Closed Walks\n",
    "\n",
    "A walk $W$ of length $k$ in a simple graph $G$, denoted using $W \\in \\texttt{Walks}(k, G)$, is essentially a sequence of vertices of $G$ such that whenever two vertices $u$ and $v$ are consecutive in the sequence, $u$ and $v$ are also adjacent in $G$. A _closed_ walk $W$ of length $k$ in a simple graph $G$, denoted using $W \\in \\texttt{ClosedWalks}(k, G)$, is a walk that begins and ends at the same vertex. Notice that trails, paths, circuits, and cycles are all special types of walks."
   ]
  },
  {
   "cell_type": "code",
   "execution_count": null,
   "metadata": {},
   "outputs": [],
   "source": [
    "walks_k_G_def = (\n",
    "    Forall(G,\n",
    "    Forall(k,\n",
    "    Equals(\n",
    "        Walks(k, G),\n",
    "        SetOfAll(S,\n",
    "             S,\n",
    "             conditions = [Forall(i, AdjacentVertices(Function(S, i), Function(S, Add(i, one)), G),\n",
    "                                  domain = Interval(zero, subtract(k, one)))],\n",
    "             domain = Functions(Interval(zero, k), Vertices(G)))\n",
    "    ),\n",
    "    domain = Natural),\n",
    "    domain = Graphs()\n",
    "    )\n",
    ")"
   ]
  },
  {
   "cell_type": "markdown",
   "metadata": {},
   "source": [
    "Since a length-$k$ walk $W$ in graph $G$ is a function $W:(0, 1, \\ldots, k)\\rightarrow \\texttt{Vertices}(G)$, the begining vertex is $W(0)$ and the ending vertex is $W(k)$. Sometimes it is useful to consider the _set_ of both endvertices, denoted with $\\texttt{EndVertices}(W)$."
   ]
  },
  {
   "cell_type": "code",
   "execution_count": null,
   "metadata": {},
   "outputs": [],
   "source": [
    "beginning_vertex_def = (\n",
    "    Forall(G,\n",
    "    Forall(k,\n",
    "    Forall(W,\n",
    "        Equals(BeginningVertex(W), Function(W, zero)),\n",
    "    domain =Walks(k, G)),\n",
    "    domain = Natural),\n",
    "    domain = Graphs())\n",
    ")"
   ]
  },
  {
   "cell_type": "code",
   "execution_count": null,
   "metadata": {},
   "outputs": [],
   "source": [
    "ending_vertex_def = (\n",
    "    Forall(G,\n",
    "    Forall(k,\n",
    "    Forall(W,\n",
    "        Equals(EndingVertex(W), Function(W, k)),\n",
    "    domain=Walks(k, G)),\n",
    "    domain = Natural),\n",
    "    domain = Graphs())\n",
    ")"
   ]
  },
  {
   "cell_type": "code",
   "execution_count": null,
   "metadata": {},
   "outputs": [],
   "source": [
    "endvertices_def = (\n",
    "    Forall(G,\n",
    "    Forall(k,\n",
    "    Forall(W,\n",
    "        Equals(EndVertices(W), Set(Function(W, zero), Function(W, k))),\n",
    "    domain=Walks(k, G)),\n",
    "    domain = Natural),\n",
    "    domain = Graphs())\n",
    ")"
   ]
  },
  {
   "cell_type": "markdown",
   "metadata": {},
   "source": [
    "A __closed__ walk $W$ is a walk whose beginning and ending vertices are the same. We could define such closure using the observation that $|\\texttt{EndVertices}(W)| = 1$, but it's more straightforward to use our `BeginningVertex` and `EndingVertex` classes:"
   ]
  },
  {
   "cell_type": "code",
   "execution_count": null,
   "metadata": {},
   "outputs": [],
   "source": [
    "closed_walks_k_G_def = (\n",
    "    Forall(G, Forall(k,\n",
    "        Equals(\n",
    "            ClosedWalks(k, G),\n",
    "            SetOfAll(W,\n",
    "                 W,\n",
    "                 conditions = [Equals(BeginningVertex(W), EndingVertex(W))],\n",
    "                 domain = Walks(k, G) )\n",
    "        ),\n",
    "    domain = Natural), domain = Graphs())\n",
    ")"
   ]
  },
  {
   "cell_type": "markdown",
   "metadata": {},
   "source": [
    "### Trails & Closed Trails\n",
    "\n",
    "A trail $T$ of length $k$ in a simple graph $G$, denoted using $T \\in \\texttt{Trails}(k, G)$, is a walk in which no edge is repeated. This means that the _edge_ sequence is a one-to-one (injective) function $S: [0, 1, \\ldots, k] \\xrightarrow[]{1:1} \\texttt{Edges}(G)$. A _closed_ trail is a trail in which the beginning and ending vertices are the same."
   ]
  },
  {
   "cell_type": "code",
   "execution_count": null,
   "metadata": {},
   "outputs": [],
   "source": [
    "trails_k_G_def = (\n",
    "    Forall(G, Forall(k,\n",
    "        Equals(\n",
    "            Trails(k, G),\n",
    "            SetOfAll(W,\n",
    "                 W,\n",
    "                 conditions = [InSet(EdgeSequence(W), Injections(Interval(zero, subtract(k, one)), Edges(G)))],\n",
    "                 domain = Walks(k, G) )\n",
    "        ),\n",
    "    domain = Natural), domain = Graphs())\n",
    ")"
   ]
  },
  {
   "cell_type": "code",
   "execution_count": null,
   "metadata": {},
   "outputs": [],
   "source": [
    "closed_trails_k_G_def = (\n",
    "    Forall(G, Forall(k,\n",
    "        Equals(\n",
    "            ClosedTrails(k, G),\n",
    "            SetOfAll(W,\n",
    "                 W,\n",
    "                 conditions = [InSet(EdgeSequence(W), Injections(Interval(zero, subtract(k, one)), Edges(G)))],\n",
    "                 domain = ClosedWalks(k, G) )\n",
    "        ),\n",
    "    domain = Natural), domain = Graphs())\n",
    ")"
   ]
  },
  {
   "cell_type": "markdown",
   "metadata": {},
   "source": [
    "### Paths\n",
    "\n",
    "A path $P$ of length $k$ in a simple graph $G$, denoted using $P \\in \\texttt{Paths}(k, G)$, is a walk in which no vertex (and thus no edge) is repeated. This means that the vertex sequence is a one-to-one (injective) function $S: [0, 1, \\ldots, k] \\rightarrow \\texttt{Vertices}(G)$."
   ]
  },
  {
   "cell_type": "code",
   "execution_count": null,
   "metadata": {},
   "outputs": [],
   "source": [
    "paths_k_G_def = (\n",
    "    Forall(G, Forall(k,\n",
    "        Equals(\n",
    "            Paths(k, G),\n",
    "            SetOfAll(W,\n",
    "                 W,\n",
    "                 conditions = [InSet(W, Injections(Interval(zero, subtract(k, one)), Vertices(G)))],\n",
    "                 domain = Walks(k, G), )\n",
    "        ),\n",
    "    domain = Natural), domain = Graphs())\n",
    ")"
   ]
  },
  {
   "cell_type": "markdown",
   "metadata": {},
   "source": [
    "### Circuits\n",
    "\n",
    "A circuit $C$ of length $k$ in a simple graph $G$, denoted using $C \\in \\texttt{Circuits}(k, G)$, is a closed trail of length $3$ or more. Instead of defining an intermediate “closed trail” class, we return to the trail definition as a walk with no repeated edges and add the closure constraint to the walk itself. Recall that the requirement that we have no repeated edges means that the edge sequence associated with circuit $C$ is a one-to-one (injective) function $S: [0, 1, \\ldots, k] \\xrightarrow[]{1:1} \\texttt{Edges}(G)$."
   ]
  },
  {
   "cell_type": "code",
   "execution_count": null,
   "metadata": {},
   "outputs": [],
   "source": [
    "circuits_k_G_def = (\n",
    "    Forall(G, Forall(k,\n",
    "        Equals(\n",
    "            Circuits(k, G),\n",
    "            SetOfAll(W,\n",
    "                 W,\n",
    "                 conditions = [greater_eq(k, three)],\n",
    "                 domain = ClosedTrails(k, G) )\n",
    "        ),\n",
    "    domain = Natural), domain = Graphs())\n",
    ")"
   ]
  },
  {
   "cell_type": "markdown",
   "metadata": {},
   "source": [
    "### Cycles\n",
    "\n",
    "A cycle $C$ of length $k$ in a simple graph $G$, denoted using $C \\in \\texttt{Cycles}(k, G)$, is a circuit in which no vertex is repeated (except the beginning and ending vertices). Another way of saying this is to realize that a cycle is a circuit (_i.e._, a closed trail) $C \\in \\texttt{Circuits}(k, G)$ such that the restriction $C\\vert_{[0, 1, \\ldots, k-1]}$ is a length-($k$-$1$) path in $G$."
   ]
  },
  {
   "cell_type": "code",
   "execution_count": null,
   "metadata": {},
   "outputs": [],
   "source": [
    "cycles_k_G_def = (\n",
    "    Forall(G, Forall(k,\n",
    "        Equals(Cycles(k, G),\n",
    "               SetOfAll(C, C,\n",
    "               conditions = [InSet(Restriction(C, Interval(zero, subtract(k, one))),\n",
    "                                   Paths(subtract(k, one), G))],\n",
    "               domain = Circuits(k, G))),\n",
    "    domain = Natural),\n",
    "    domain = Graphs())\n",
    ")"
   ]
  },
  {
   "cell_type": "code",
   "execution_count": null,
   "metadata": {},
   "outputs": [],
   "source": [
    "%end axioms"
   ]
  }
 ],
 "metadata": {
  "kernelspec": {
   "display_name": "Python 3",
   "language": "python",
   "name": "python3"
  }
 },
 "nbformat": 4,
 "nbformat_minor": 0
}
