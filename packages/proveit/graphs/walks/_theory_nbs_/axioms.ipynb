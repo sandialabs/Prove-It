{
 "cells": [
  {
   "cell_type": "markdown",
   "metadata": {},
   "source": [
    "Axioms for the theory of <a class=\"ProveItLink\" href=\"theory.ipynb\">proveit.graphs.walks</a>\n",
    "========"
   ]
  },
  {
   "cell_type": "code",
   "execution_count": null,
   "metadata": {},
   "outputs": [],
   "source": [
    "import proveit\n",
    "# Prepare this notebook for defining the axioms of a theory:\n",
    "%axioms_notebook # Keep this at the top following 'import proveit'.\n",
    "\n",
    "# from ... import ...\n",
    "from proveit import i, k, G, S, T, W, X, Function\n",
    "from proveit.logic import Card, Equals, Forall, Functions, Injections, InSet, SetOfAll\n",
    "from proveit.numbers import zero, one, Add, Interval, Natural, subtract\n",
    "from proveit.graphs import (\n",
    "        AdjacentVertices, Edges, EdgeSequence, Graphs, Paths,\n",
    "        Trails, Vertices, Walks)"
   ]
  },
  {
   "cell_type": "code",
   "execution_count": null,
   "metadata": {},
   "outputs": [],
   "source": [
    "%begin axioms"
   ]
  },
  {
   "cell_type": "markdown",
   "metadata": {},
   "source": [
    "A walk $W$ of length $k$ in a simple graph $G$, denoted using $W \\in \\texttt{Walks}(k, G)$, is essentially a sequence of vertices of $G$ such that whenever two vertices $u$ and $v$ are consecutive in the sequence, $u$ and $v$ are also adjacent in $G$."
   ]
  },
  {
   "cell_type": "code",
   "execution_count": null,
   "metadata": {},
   "outputs": [],
   "source": [
    "walks_k_G_def = (\n",
    "    Forall(G,\n",
    "    Forall(k,\n",
    "    Equals(\n",
    "        Walks(k, G),\n",
    "        SetOfAll(S,\n",
    "             S,\n",
    "             conditions = [Forall(i, AdjacentVertices(Function(S, i), Function(S, Add(i, one)), G),\n",
    "                                  domain = Interval(zero, subtract(k, one)))],\n",
    "             domain = Functions(Interval(zero, k), Vertices(G)))\n",
    "    ),\n",
    "    domain = Natural),\n",
    "    domain = Graphs()\n",
    "    )\n",
    ")"
   ]
  },
  {
   "cell_type": "markdown",
   "metadata": {},
   "source": [
    "A trail $T$ of length $k$ in a simple graph $G$, denoted using $T \\in \\texttt{Trails}(k, G)$, is a walk in which no edge is repeated. This means that the _edge_ sequence is a one-to-one (injective) function $S: [0, 1, \\ldots, k] \\rightarrow \\texttt{Edges}(G)$."
   ]
  },
  {
   "cell_type": "code",
   "execution_count": null,
   "metadata": {},
   "outputs": [],
   "source": [
    "trails_k_G_def = (\n",
    "    Forall(G, Forall(k,\n",
    "        Equals(\n",
    "            Trails(k, G),\n",
    "            SetOfAll(W,\n",
    "                 W\n",
    "                 conditions = [InSet(EdgeSequence(W), Injections(Interval(zero, subtract(k, one)), Edges(G)))],\n",
    "                 domain = Walks(k, G) )\n",
    "        ),\n",
    "    domain = Natural), domain = Graphs())\n",
    ")"
   ]
  },
  {
   "cell_type": "markdown",
   "metadata": {},
   "source": [
    "A path $P$ of length $k$ in a simple graph $G$, denoted using $P \\in \\texttt{Paths}(k, G)$, is a walk in which no vertex (and thus no edge) is repeated. This means that the vertex sequence is a one-to-one (injective) function $S: [0, 1, \\ldots, k] \\rightarrow \\texttt{Vertices}(G)$."
   ]
  },
  {
   "cell_type": "code",
   "execution_count": null,
   "metadata": {},
   "outputs": [],
   "source": [
    "paths_k_G_def = (\n",
    "    Forall(G, Forall(k,\n",
    "        Equals(\n",
    "            Paths(k, G),\n",
    "            SetOfAll(W,\n",
    "                 W,\n",
    "                 conditions = [InSet(W, Injections(Interval(zero, subtract(k, one)), Vertices(G)))],\n",
    "                 domain = Walks(k, G), )\n",
    "        ),\n",
    "    domain = Natural), domain = Graphs())\n",
    ")"
   ]
  },
  {
   "cell_type": "code",
   "execution_count": null,
   "metadata": {},
   "outputs": [],
   "source": [
    "%end axioms"
   ]
  }
 ],
 "metadata": {
  "kernelspec": {
   "display_name": "Python 3",
   "language": "python",
   "name": "python3"
  }
 },
 "nbformat": 4,
 "nbformat_minor": 0
}
