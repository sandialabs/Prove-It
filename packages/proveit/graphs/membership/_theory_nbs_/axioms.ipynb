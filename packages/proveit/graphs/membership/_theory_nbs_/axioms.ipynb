{
 "cells": [
  {
   "cell_type": "markdown",
   "metadata": {},
   "source": [
    "Axioms for the theory of <a class=\"ProveItLink\" href=\"theory.ipynb\">proveit.graphs.membership</a>\n",
    "========"
   ]
  },
  {
   "cell_type": "code",
   "execution_count": null,
   "metadata": {},
   "outputs": [],
   "source": [
    "import proveit\n",
    "# Prepare this notebook for defining the axioms of a theory:\n",
    "%axioms_notebook # Keep this at the top following 'import proveit'.\n",
    "\n",
    "from proveit import x, E, G, V\n",
    "from proveit.logic import Equals, Forall, InSet, Not, Or\n",
    "from proveit.graphs import InGraph, NotInGraph"
   ]
  },
  {
   "cell_type": "code",
   "execution_count": null,
   "metadata": {},
   "outputs": [],
   "source": [
    "%begin axioms"
   ]
  },
  {
   "cell_type": "markdown",
   "metadata": {},
   "source": [
    "An element of a graph is either a point or an edge (but not both)."
   ]
  },
  {
   "cell_type": "code",
   "execution_count": null,
   "metadata": {},
   "outputs": [],
   "source": [
    "# this should eventually use an exclusive or (XOR) instead of simple disjunction (OR)\n",
    "in_graph_def = (\n",
    "    Forall((E, V),\n",
    "    Forall((x, G,\n",
    "           Equals(InGraph(x, G), Or(InSet(x, V), InSet(x, E))))\n",
    "    ))"
   ]
  },
  {
   "cell_type": "code",
   "execution_count": null,
   "metadata": {},
   "outputs": [],
   "source": [
    "# this should eventually use an exclusive or (XOR) instead of simple disjunction (OR)\n",
    "(\n",
    "    Forall((E, V),\n",
    "    Forall(x,\n",
    "           Equals(InGraph(x, Graph(V,E)), Or(InSet(x, V), InSet(x, E))))\n",
    "    ))"
   ]
  },
  {
   "cell_type": "markdown",
   "metadata": {},
   "source": [
    "axiomatic definitions of Vertices() and Edges() functions\n",
    "(and implicitly of Graph(V, E))\n",
    "\n",
    "Forall(V,\n",
    "Forall(E, Vertices(Graph(V,E)) = V,\n",
    "       conditions = [E subset of V X V]\n",
    "))\n",
    "\n",
    "Forall(V,\n",
    "Forall(E, Edges(Graph(V,E)) = E,\n",
    "       conditions = [E subset of V X V]\n",
    "))\n",
    "\n",
    "Forall(V,\n",
    "Forall(E, Graph(V,E) is elem of class of Graphs,\n",
    "       conditions = [E subset of V X V]\n",
    "))"
   ]
  },
  {
   "cell_type": "code",
   "execution_count": null,
   "metadata": {},
   "outputs": [],
   "source": [
    "not_in_graph_def = Forall((x, G), Equals(NotInGraph(x, G), Not(InGraph(x, G))))"
   ]
  },
  {
   "cell_type": "code",
   "execution_count": null,
   "metadata": {},
   "outputs": [],
   "source": [
    "%end axioms"
   ]
  }
 ],
 "metadata": {
  "kernelspec": {
   "display_name": "Python 3",
   "language": "python",
   "name": "python3"
  }
 },
 "nbformat": 4,
 "nbformat_minor": 0
}
