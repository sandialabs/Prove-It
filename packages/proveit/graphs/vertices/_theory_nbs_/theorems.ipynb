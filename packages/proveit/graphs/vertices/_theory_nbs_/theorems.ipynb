{
 "cells": [
  {
   "cell_type": "markdown",
   "metadata": {},
   "source": [
    "Theorems (or conjectures) for the theory of <a class=\"ProveItLink\" href=\"theory.ipynb\">proveit.graphs.vertices</a>\n",
    "========"
   ]
  },
  {
   "cell_type": "code",
   "execution_count": null,
   "metadata": {},
   "outputs": [],
   "source": [
    "import proveit\n",
    "# Prepare this notebook for defining the theorems of a theory:\n",
    "%theorems_notebook # Keep this at the top following 'import proveit'.\n",
    "\n",
    "from proveit import v, E, V\n",
    "from proveit.logic import Equals, Forall\n",
    "from proveit.logic.sets import InSet, KPowerSet, NotInSet, SubsetEq\n",
    "from proveit.numbers import two\n",
    "from proveit.graphs import Graph, Vertices"
   ]
  },
  {
   "cell_type": "code",
   "execution_count": null,
   "metadata": {},
   "outputs": [],
   "source": [
    "%begin theorems"
   ]
  },
  {
   "cell_type": "code",
   "execution_count": null,
   "metadata": {},
   "outputs": [],
   "source": [
    "membership_def = (\n",
    "    Forall((v, V),\n",
    "    Forall(E, Equals(InSet(v, Vertices(Graph(V, E))), InSet(v, V)), conditions = [SubsetEq(E, KPowerSet(V, two))])\n",
    "    )\n",
    ")"
   ]
  },
  {
   "cell_type": "code",
   "execution_count": null,
   "metadata": {},
   "outputs": [],
   "source": [
    "membership_unfolding = (\n",
    "    Forall(V,\n",
    "        Forall((v, E), InSet(v, V),\n",
    "               conditions = [SubsetEq(E, KPowerSet(V, two)), InSet(v, Vertices(Graph(V, E)))])\n",
    "    )\n",
    ")"
   ]
  },
  {
   "cell_type": "code",
   "execution_count": null,
   "metadata": {},
   "outputs": [],
   "source": [
    "membership_folding = (\n",
    "    Forall(V,\n",
    "        Forall((v, E), InSet(v, Vertices(Graph(V, E))),\n",
    "               conditions = [SubsetEq(E, KPowerSet(V, two)), InSet(v, V)])\n",
    "    )\n",
    ")"
   ]
  },
  {
   "cell_type": "code",
   "execution_count": null,
   "metadata": {},
   "outputs": [],
   "source": [
    "nonmembership_def = (\n",
    "    Forall(V,\n",
    "        Forall((v, E), Equals(NotInSet(v, Vertices(Graph(V, E))), NotInSet(v, V)),\n",
    "               conditions = [SubsetEq(E, KPowerSet(V, two))])\n",
    "    )\n",
    ")"
   ]
  },
  {
   "cell_type": "code",
   "execution_count": null,
   "metadata": {},
   "outputs": [],
   "source": [
    "nonmembership_unfolding = (\n",
    "    Forall(V,\n",
    "        Forall((v, E), NotInSet(v, V),\n",
    "               conditions = [SubsetEq(E, KPowerSet(V, two)), NotInSet(v, Vertices(Graph(V, E)))])\n",
    "    )\n",
    ")"
   ]
  },
  {
   "cell_type": "code",
   "execution_count": null,
   "metadata": {},
   "outputs": [],
   "source": [
    "nonmembership_folding = (\n",
    "    Forall(V,\n",
    "        Forall((v, E), NotInSet(v, Vertices(Graph(V, E))),\n",
    "               conditions = [SubsetEq(E, KPowerSet(V, two)), NotInSet(v, V)])\n",
    "    )\n",
    ")"
   ]
  },
  {
   "cell_type": "code",
   "execution_count": null,
   "metadata": {},
   "outputs": [],
   "source": [
    "%end theorems"
   ]
  }
 ],
 "metadata": {
  "kernelspec": {
   "display_name": "Python 3",
   "language": "python",
   "name": "python3"
  }
 },
 "nbformat": 4,
 "nbformat_minor": 0
}
