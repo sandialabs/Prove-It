{
 "cells": [
  {
   "cell_type": "markdown",
   "metadata": {},
   "source": [
    "Axioms for the theory of <a class=\"ProveItLink\" href=\"theory.ipynb\">proveit.graphs.inclusion</a>\n",
    "========"
   ]
  },
  {
   "cell_type": "code",
   "execution_count": null,
   "metadata": {},
   "outputs": [],
   "source": [
    "import proveit\n",
    "# Prepare this notebook for defining the axioms of a theory:\n",
    "%axioms_notebook # Keep this at the top following 'import proveit'.\n",
    "\n",
    "from proveit import E, V\n",
    "from proveit.logic import And, Equals, Forall, Not\n",
    "from proveit.logic.sets import KPowerSet, SubsetEq\n",
    "from proveit.numbers import two\n",
    "from proveit.graphs import Graph, E_prime, NotSubgraph, Subgraph, V_prime"
   ]
  },
  {
   "cell_type": "code",
   "execution_count": null,
   "metadata": {},
   "outputs": [],
   "source": [
    "%begin axioms"
   ]
  },
  {
   "cell_type": "code",
   "execution_count": null,
   "metadata": {},
   "outputs": [],
   "source": [
    "subgraph_def = (\n",
    "        Forall((V, V_prime),\n",
    "                  Forall((E, E_prime),\n",
    "                         Equals(\n",
    "                         Subgraph(Graph(V_prime, E_prime), Graph(V, E)),\n",
    "                         And(SubsetEq(V_prime, V), SubsetEq(E_prime, E))\n",
    "                         ),\n",
    "                        domains = [KPowerSet(V, two), KPowerSet(V_prime, two)])\n",
    "        )\n",
    ")"
   ]
  },
  {
   "cell_type": "code",
   "execution_count": null,
   "metadata": {},
   "outputs": [],
   "source": [
    "not_subgraph_def = (\n",
    "        Forall((V, V_prime),\n",
    "                  Forall((E, E_prime),\n",
    "                         Equals(\n",
    "                         NotSubgraph(Graph(V_prime, E_prime), Graph(V, E)),\n",
    "                         Not(Subgraph(Graph(V_prime, E_prime), Graph(V, E)))\n",
    "                         ),\n",
    "                        domains = [KPowerSet(V, two), KPowerSet(V_prime, two)])\n",
    "        )\n",
    ")"
   ]
  },
  {
   "cell_type": "code",
   "execution_count": null,
   "metadata": {},
   "outputs": [],
   "source": [
    "%end axioms"
   ]
  }
 ],
 "metadata": {
  "kernelspec": {
   "display_name": "Python 3",
   "language": "python",
   "name": "python3"
  }
 },
 "nbformat": 4,
 "nbformat_minor": 0
}
