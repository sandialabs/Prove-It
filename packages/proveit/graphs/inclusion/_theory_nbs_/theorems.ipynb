{
 "cells": [
  {
   "cell_type": "markdown",
   "metadata": {},
   "source": [
    "Theorems (or conjectures) for the theory of <a class=\"ProveItLink\" href=\"theory.ipynb\">proveit.graphs.inclusion</a>\n",
    "========"
   ]
  },
  {
   "cell_type": "code",
   "execution_count": null,
   "metadata": {},
   "outputs": [],
   "source": [
    "import proveit\n",
    "# Prepare this notebook for defining the theorems of a theory:\n",
    "%theorems_notebook # Keep this at the top following 'import proveit'.\n",
    "\n",
    "from proveit import E, V\n",
    "from proveit.logic import And, Equals, Forall, Not\n",
    "from proveit.logic.sets import CartProd, SubsetEq\n",
    "from proveit.graphs import Graph, E_prime, NotSubgraph, Subgraph, V_prime"
   ]
  },
  {
   "cell_type": "code",
   "execution_count": null,
   "metadata": {},
   "outputs": [],
   "source": [
    "%begin theorems"
   ]
  },
  {
   "cell_type": "code",
   "execution_count": null,
   "metadata": {},
   "outputs": [],
   "source": [
    "unfold_subgraph_def = (\n",
    "        Forall((V, V_prime),\n",
    "                  Forall((E, E_prime),\n",
    "                         And(SubsetEq(V_prime, V), SubsetEq(E_prime, E)),\n",
    "                         conditions = [Subgraph(Graph(V_prime, E_prime), Graph(V, E))],\n",
    "                         domains = [CartProd(V, V), CartProd(V_prime, V_prime)])\n",
    "        )\n",
    ")"
   ]
  },
  {
   "cell_type": "code",
   "execution_count": null,
   "metadata": {},
   "outputs": [],
   "source": [
    "fold_subgraph_def = (\n",
    "        Forall((V, V_prime),\n",
    "                  Forall((E, E_prime),\n",
    "                         Subgraph(Graph(V_prime, E_prime), Graph(V, E)),\n",
    "                         conditions = [And(SubsetEq(V_prime, V), SubsetEq(E_prime, E))],\n",
    "                         domains = [CartProd(V, V), CartProd(V_prime, V_prime)])\n",
    "        )\n",
    ")"
   ]
  },
  {
   "cell_type": "code",
   "execution_count": null,
   "metadata": {},
   "outputs": [],
   "source": [
    "unfold_not_subgraph_def = (\n",
    "        Forall((V, V_prime),\n",
    "                  Forall((E, E_prime),\n",
    "                         Not(Subgraph(Graph(V_prime, E_prime), Graph(V, E))),\n",
    "                         conditions = [NotSubgraph(Graph(V_prime, E_prime), Graph(V, E))],\n",
    "                         domains = [CartProd(V, V), CartProd(V_prime, V_prime)])\n",
    "        )\n",
    ")"
   ]
  },
  {
   "cell_type": "code",
   "execution_count": null,
   "metadata": {},
   "outputs": [],
   "source": [
    "fold_not_subgraph_def = (\n",
    "        Forall((V, V_prime),\n",
    "                  Forall((E, E_prime),\n",
    "                         NotSubgraph(Graph(V_prime, E_prime), Graph(V, E)),\n",
    "                         conditions = [Not(Subgraph(Graph(V_prime, E_prime), Graph(V, E)))],\n",
    "                         domains = [CartProd(V, V), CartProd(V_prime, V_prime)])\n",
    "        )\n",
    ")"
   ]
  },
  {
   "cell_type": "code",
   "execution_count": null,
   "metadata": {},
   "outputs": [],
   "source": [
    "%end theorems"
   ]
  }
 ],
 "metadata": {
  "kernelspec": {
   "display_name": "Python 3",
   "language": "python",
   "name": "python3"
  }
 },
 "nbformat": 4,
 "nbformat_minor": 0
}
