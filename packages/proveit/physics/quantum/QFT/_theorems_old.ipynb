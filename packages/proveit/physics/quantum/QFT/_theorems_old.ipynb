{
 "cells": [
  {
   "cell_type": "code",
   "execution_count": null,
   "metadata": {},
   "outputs": [],
   "source": [
    "import proveit.special_statement_magic # for %begin_theorems and %end_theorems\n",
    "from proveit.basiclogic import In, Forall, Equals\n",
    "from proveit.physics.quantum import Ket, RegisterBra, RegisterKet\n",
    "from proveit.physics.quantum.QFT import InverseFourierTransform\n",
    "from proveit.linalg import ScalarProd, MatrixProd, SU\n",
    "from proveit.numbers import subtract, Multiply, sqrt, Summation, Exponentiate, frac, Neg, DiscreteContiguousSet\n",
    "from proveit.numbers.common import zero, one, two, e, i, pi\n",
    "from proveit.numbers import NaturalPos\n",
    "from proveit.common import k, l, n"
   ]
  },
  {
   "cell_type": "code",
   "execution_count": null,
   "metadata": {},
   "outputs": [],
   "source": [
    "%begin_theorems"
   ]
  },
  {
   "cell_type": "code",
   "execution_count": null,
   "metadata": {},
   "outputs": [],
   "source": [
    "# transfered 3/01/2020\n",
    "inv_f_tin_s_u = Forall(n, In(InverseFourierTransform(n), SU(Exponentiate(two, n))),\n",
    "                   domain=NaturalPos)\n",
    "inv_f_tin_s_u"
   ]
  },
  {
   "cell_type": "code",
   "execution_count": null,
   "metadata": {},
   "outputs": [],
   "source": [
    "# transfered 3/01/2020\n",
    "inv_f_ton_matrix_elem = Forall(n,\n",
    "                           Forall((k, l),\n",
    "                                  Equals(MatrixProd(RegisterBra(l, n), InverseFourierTransform(n), RegisterKet(k, n)),\n",
    "                                         Multiply(frac(one, sqrt(Exponentiate(two, n))),\n",
    "                                                  Exponentiate(e, frac(Neg(Multiply(two, pi, i, k, l)),\n",
    "                                                                           Exponentiate(two, n))))),\n",
    "                                  domain=DiscreteContiguousSet(zero, subtract(Exponentiate(two, n), one))),\n",
    "                           domain=NaturalPos)\n",
    "inv_f_ton_matrix_elem"
   ]
  },
  {
   "cell_type": "code",
   "execution_count": null,
   "metadata": {},
   "outputs": [],
   "source": [
    "%end_theorems"
   ]
  },
  {
   "cell_type": "code",
   "execution_count": null,
   "metadata": {},
   "outputs": [],
   "source": []
  }
 ],
 "metadata": {
  "kernelspec": {
   "display_name": "Python 3",
   "language": "python",
   "name": "python3"
  }
 },
 "nbformat": 4,
 "nbformat_minor": 0
}
