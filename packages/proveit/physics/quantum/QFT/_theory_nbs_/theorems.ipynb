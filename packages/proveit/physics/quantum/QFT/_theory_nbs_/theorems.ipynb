{
 "cells": [
  {
   "cell_type": "markdown",
   "metadata": {},
   "source": [
    "Theorems (or conjectures) for the theory of <a class=\"ProveItLink\" href=\"theory.ipynb\">proveit.physics.quantum.QFT</a>\n",
    "========"
   ]
  },
  {
   "cell_type": "code",
   "execution_count": null,
   "metadata": {},
   "outputs": [],
   "source": [
    "import proveit\n",
    "# Prepare this notebook for defining the theorems of a theory:\n",
    "%theorems_notebook # Keep this at the top following 'import proveit'.\n",
    "from proveit import k, l, n\n",
    "from proveit.linear_algebra import MatrixMult, Unitary\n",
    "from proveit.logic import Equals, Forall, InSet\n",
    "from proveit.numbers import zero, one, two, e, i, pi\n",
    "from proveit.numbers import Exp, frac, Interval, Mult, Neg, sqrt, subtract\n",
    "from proveit.numbers import NaturalPos\n",
    "from proveit.physics.quantum import NumKet, NumBra, Qmult\n",
    "from proveit.physics.quantum.QFT import InverseFourierTransform"
   ]
  },
  {
   "cell_type": "code",
   "execution_count": null,
   "metadata": {},
   "outputs": [],
   "source": [
    "%begin theorems"
   ]
  },
  {
   "cell_type": "code",
   "execution_count": null,
   "metadata": {},
   "outputs": [],
   "source": [
    "invFT_is_unitary = Forall(\n",
    "    n,\n",
    "    InSet(InverseFourierTransform(n), Unitary(Exp(two, n))),\n",
    "    domain=NaturalPos)"
   ]
  },
  {
   "cell_type": "code",
   "execution_count": null,
   "metadata": {},
   "outputs": [],
   "source": [
    "invFT_on_matrix_elem = Forall(\n",
    "    n,\n",
    "    Forall((k, l),\n",
    "           Equals(Qmult(NumBra(l, n),\n",
    "                        InverseFourierTransform(n),\n",
    "                        NumKet(k, n)),\n",
    "                  Mult(frac(one, Exp(two, frac(n, two))),\n",
    "                       Exp(e, frac(Neg(Mult(two, pi, i, k, l)),\n",
    "                                   Exp(two, n))))),\n",
    "           domain=Interval(zero, subtract(Exp(two, n), one))),\n",
    "    domain=NaturalPos)"
   ]
  },
  {
   "cell_type": "code",
   "execution_count": null,
   "metadata": {},
   "outputs": [],
   "source": [
    "%end theorems"
   ]
  },
  {
   "cell_type": "code",
   "execution_count": null,
   "metadata": {},
   "outputs": [],
   "source": []
  }
 ],
 "metadata": {
  "kernelspec": {
   "display_name": "Python 3",
   "language": "python",
   "name": "python3"
  }
 },
 "nbformat": 4,
 "nbformat_minor": 0
}
