{
 "cells": [
  {
   "cell_type": "markdown",
   "metadata": {},
   "source": [
    "Theorems (or conjectures) for the theory of <a class=\"ProveItLink\" href=\"theory.ipynb\">proveit.physics.quantum.QFT</a>\n",
    "========"
   ]
  },
  {
   "cell_type": "code",
   "execution_count": 1,
   "metadata": {},
   "outputs": [],
   "source": [
    "import proveit\n",
    "# Prepare this notebook for defining the theorems of a theory:\n",
    "%theorems_notebook # Keep this at the top following 'import proveit'.\n",
    "from proveit import j, k, l, n\n",
    "from proveit.linear_algebra import MatrixMult, Unitary\n",
    "from proveit.logic import Equals, Forall, InSet\n",
    "from proveit.numbers import zero, one, two, e, i, pi\n",
    "from proveit.numbers import Exp, frac, Interval, Mult, Neg, sqrt, subtract\n",
    "from proveit.numbers import NaturalPos\n",
    "from proveit.physics.quantum import NumKet, NumBra, Qmult\n",
    "from proveit.physics.quantum.QFT import FourierTransform, InverseFourierTransform"
   ]
  },
  {
   "cell_type": "code",
   "execution_count": 2,
   "metadata": {},
   "outputs": [
    {
     "name": "stdout",
     "output_type": "stream",
     "text": [
      "Defining theorems for theory 'proveit.physics.quantum.QFT'\n",
      "Subsequent end-of-cell assignments will define theorems\n",
      "'%end theorems' will finalize the definitions\n"
     ]
    }
   ],
   "source": [
    "%begin theorems"
   ]
  },
  {
   "cell_type": "code",
   "execution_count": 3,
   "metadata": {},
   "outputs": [
    {
     "data": {
      "text/html": [
       "<strong id=\"invFT_is_unitary\"><a class=\"ProveItLink\" href=\"proofs/invFT_is_unitary/thm_proof.ipynb\">invFT_is_unitary</a> (conjecture without proof):<br></strong> <a class=\"ProveItLink\" href=\"../__pv_it/theorems/3258150f34adc6261dd0c0ef93ff57ca9714be5d0/theorem_expr.ipynb\"><img src=\"data:image/png;base64,iVBORw0KGgoAAAANSUhEUgAAANIAAAAmBAMAAABDtNh+AAAAMFBMVEX///8AAAAAAAAAAAAAAAAA\n",
       "AAAAAAAAAAAAAAAAAAAAAAAAAAAAAAAAAAAAAAAAAAAv3aB7AAAAD3RSTlMAq1RmmUTNIjK7EInv\n",
       "3XZ/CtNrAAAACXBIWXMAAA7EAAAOxAGVKw4bAAADyklEQVRIx6WXW0gUURjH/3ubmXV21xWkELKM\n",
       "CIQgltDqQWLLDQwSNohelFp6CS1pewmMdNeeSxfLB7vAVBBEF5duUE9WD0kX8iGqhxbtgmFBeMnS\n",
       "suycM87szM7udmQOuHvO8dv5ffdzBuAa7irYGCWt/LJbYWucUnglXTF7JFeQV/KkYo+EXl7BgzZB\n",
       "uM6pqvOXZcsRXRLJzek+f9ouSfzJJ9djtT2wxMid4xOrsOx4W3YWqTBR/arZ/C0MxNm8jo80bd2S\n",
       "i9n0Qa3X2sd4Auxli0QVWKjWFAVJxMlS5fOyindP0dZS+bqiLWWNU9ehh2mc/xOmCZSGGGlJijdj\n",
       "IKkUCLFQh7Gdfh8oXncT5MMzR/6GMIXANJyDECzO60kRM4bp7ArQDnkGjlHPIFmyVuSOoYv6NVWU\n",
       "5KAdQpwkHxtKgpSEVB5SgnqHeageWA48hy/pDidJuFgGTUAgDpeL909fUCPdFEOM9ABe3XvjmUzM\n",
       "TCKGvFSwKp6A/wQh+WhInbNwETcKxROiNK2SRCUgRRlpU5a050uuTU4CrgRWJXchcJusBRooaQp4\n",
       "kck8+w8ppJJcLGEDLBMdycWEbrV4z63W+YiepnSzhPyqATib5/GGtpCoUkkdBpJbLRMIcQuJ2QDp\n",
       "r/kgIMsjEPM1pbAhqxhpvuywgaT1CMGaEX4Wdb/+UCdNQPwm5a7IxtoQX91FXdBE2hdVbXIbSPp5\n",
       "kiEjZSL52ON2ZMuRFgm+E+RoVq/uij6slhW3ksemSTjzkK7qs4GUkWQ4+1hRURJiW/Te3kD7xWhY\n",
       "xp3Iq0g0l7TYW00kf7YWSDikkOa9dRC1CDqHF+OEWyR9XPXdn4CPdKt6badsjlMiVJgUGNUDP0sy\n",
       "kkbPS7akdLbbu1Ja7zxODL3cHPLFS9hWtXypyUwaoE+T5owkVTM69utijQq2aVndEYk06p5i5Ti1\n",
       "WBrHxlCqeFh6ViM8bib5yFxaNl/GSmj3ivnypKoZ++fFPk13T7kqIRFvjSws/NAdTMMgzWjLlWiG\n",
       "q6W/v5eQrgnmehKsbZFppk6bLmRybk5vzcsO8wVhCBFJSqs2edbnXAIGreVGNSs0aszLeubSYa2K\n",
       "JvC2Wu0VtcD7nFPDemFhmhUieeOmA5h5xKtlvSeIryG0Ez9Lr+Nw5Fx2p6znN9Os0OU4ZeWy3mkQ\n",
       "ud/fl++nZyw7qmaFRqdx8VntM3GuewTndaPYuMcnNhC1TXrEJybH7IICg5yCQ3ZJPt73r412SWO8\n",
       "gkLIHkh8wv36+MYe6Qb/y+tRe69qp5dgftLWGzWtkn8mkO81X1sRfQAAAABJRU5ErkJggg==\n",
       "\" style=\"display:inline;vertical-align:middle;\" /></a><br>"
      ],
      "text/plain": [
       "<IPython.core.display.HTML object>"
      ]
     },
     "metadata": {},
     "output_type": "display_data"
    }
   ],
   "source": [
    "invFT_is_unitary = Forall(\n",
    "    n,\n",
    "    InSet(InverseFourierTransform(n), Unitary(Exp(two, n))),\n",
    "    domain=NaturalPos)"
   ]
  },
  {
   "cell_type": "code",
   "execution_count": 4,
   "metadata": {},
   "outputs": [
    {
     "data": {
      "text/html": [
       "<strong id=\"FT_on_matrix_elem\"><a class=\"ProveItLink\" href=\"proofs/FT_on_matrix_elem/thm_proof.ipynb\">FT_on_matrix_elem</a> (conjecture without proof):<br></strong> <a class=\"ProveItLink\" href=\"../__pv_it/theorems/9d732ad313f8dfb016bf1976cbccd2ed5bd8bfb90/theorem_expr.ipynb\"><img src=\"data:image/png;base64,iVBORw0KGgoAAAANSUhEUgAAAigAAAAzBAMAAABPre7HAAAAMFBMVEX///8AAAAAAAAAAAAAAAAA\n",
       "AAAAAAAAAAAAAAAAAAAAAAAAAAAAAAAAAAAAAAAAAAAv3aB7AAAAD3RSTlMAq1RmmUTNIjK7EInv\n",
       "3XZ/CtNrAAAACXBIWXMAAA7EAAAOxAGVKw4bAAAIs0lEQVRo3uWbeYwTVRjAv54znW67XTUqKrAK\n",
       "KhHFRkHdxEgjS6JESVHjHwq6XlEUpCYqrnIU/yAaOVYTwhENgyYmLglbOWKERIpEURQtisQYkAoE\n",
       "BKIuC6u7K7q+a6Zvru2bZscx+CXta2e++abvN+99x5spgIC0t7fD/0ZEO3ug//TgnniFVz2qxfB7\n",
       "KmmUVfTr6v5eocO+G+SfHkh7xKQmw/IPtF2ssg1NvkC52KuBohvWOygi19AmWPITSqjFIyaaYeW8\n",
       "WW6gxFO0fd9PKHNyHkGpGP7NDRT4ljaJtI9QfvRq9lQMu4NyNdUO7vQPSqjo1ewp1gglmqHto/5B\n",
       "qSt4BIUzLAjldtpE/qDtgznfoLi7irUZNp8jMmZi5ctC8j4JvUayLQ+xEZPyDcpur1zKbmfwddBh\n",
       "d8QE1l7LnEqfX1DkHo+Y8IbNUCRYhMfLjBnYbbTiLddjP/L4vDLZ3UEb5W+/oAS88rO8YesUXYbA\n",
       "ROJxzKcVvaQXWySAP65qIztjLG97yy8odSmv/GxqACjhPMwFWBsD1LTij6HCXJBPMrUQ87Tjcz5B\n",
       "WepV4cMbtkDZnMTvmxKqNn0CWYDkBz/QeKOcolodaZ+g/JbTprkmedY6J7psj2zeYGsYy1aTQrT/\n",
       "L9w0BnUoCTx8chsa6f5t/GDzAcqbrD2oO8E29mGT4zFsT0zDBw8MYBhJw9cPVRmPB0cavr4FnG9p\n",
       "AsJmRFUoImpi8jmrSfVMK94I7+1iXZeHftkwZN9OmDl96N4hM9sMUF5VgxltQzLtaFhMLs0Yvm5l\n",
       "P6WTQiFJzeNVoYioCYnC1qve1bcktAQbdz3Si16fQRckT0GwaIByBKCkH/Sko2Fb6XeUTuphs9Th\n",
       "dlMoC/gB7AxFRE0sm/jbmDfRtLJL67p0Er1dp6QwFGgzTR9Yrx801tFw9RJp4nWWQmNpmbPRBFGV\n",
       "DOBqUETUhCTYRdtKUrECjY0+A5R1UppA2WyG0lqJv6qT4YHlrsPZ4DFuxDHpyHCjrQlCaHZGqzta\n",
       "ETWx60TzzqC+0KSgT/EiB0VSk3KWQLnRDCWqB5Vo2sGwRdbs4t1HUemECyXLKlc9y3FOsuiza//+\n",
       "LwSij4CakCRpnhQu8D4zmgpuVDUoIdLz5Clj9FF+TRm8c8rBsMXV7BqxjQ/uchFKyXHmcVbPZmov\n",
       "g3IbwCoBKAJqQhLvM13pBEmaLpuT1qDMtYUShu3AedoQudh37seymzdsSf5LMJ9HEMsqqeAGSzbM\n",
       "xs6nDMozINkl3gUTFKYmm8bsBiESr02q5Nv0tyd0/zQFV6nPNS7MUShnGmbZQjlKnLG+ABC0VFBh\n",
       "eyj1aYjxU+02W60Eo72fQYmp8SxfT+7ZBDej7mdMUJhaAuVPocqyH649t5wwjtctDYbBqdwAlTVh\n",
       "dOVoDKzTz4n7ecdNnE8J20JRSV2/QI81nZYhQbfUm+LtUtRwFziulm2hMMb7GJRgueJAlwxZBpfG\n",
       "1bBqhcKrfaLpwhUIUTliCNVhCJf4qLfkFyB6TlAOodfe5nwFStAWCrKK3kbrq0ZFByiWYHvl7Nnc\n",
       "RZrVXxKBAi236P3BY2tEOYMKbAsUTk3q1HRxZ+vyYHBx9VmpxxD1rjFA4abP2Jt+zZAsTumK9PAh\n",
       "WYdCNeieRIGkj6EJSw6DdpOG9ylO06csMr/N0wfWo+yQngpfNBh1+bw4bGze05w1QsFqsO5W7Eja\n",
       "5hWoLu4scmMfG9yMKvUYop4RSpwSjJVBGbcddqBPOQj1KV1JGyhMg+6ZnyXp4ztT03U5/BssHtxw\n",
       "acbezQZVeOdAlaaTo4U5yIOQUynkRKPib99vN1KwGmRw7wJHr9pBdQH5i6Wqdt9E/3klQ9TDUKZV\n",
       "ImePFlKldS3QR8JsoEXpidOuy70cFKZB94ynZdKLR6Be5UO6yTCTMW0J5tL2jful+mDR1mK2aVAC\n",
       "aD6TU0WIlx4FmWN2ULCaom7EFg5CnurKTxAoXxnPsFg1RD0MJXrclGPJaLwGysQzlCDWCIeP04Lw\n",
       "/DMNpBS+55Iz5+U1DQJlCAvfw2Aq/pQdOHkL5J/X5uuBp6tPn3rW3dOGpQN8qtD0lSvfQFDWRu2g\n",
       "UHkED2TkFqnugovI9DEm2BLLZ+SVSJZTKEH9hwW7afs99kbhTJ4raKxLB0yD7PmKlUmfQbOM188s\n",
       "aX63wUnAoftcZE8ddOApfxqg4FPJBTpSImNs8hQmeOI2RUo5qgs/WR0tPAuzDd8xlDmVuu2UXtHN\n",
       "h8TLea6gsUJhGmjPOSE8j5YTL//9KL6eNBuWmqejQ9bAaDcrfKaCUA8o6FTkEo8jXXVYZJKLSgGG\n",
       "yaUCS2+Ri0mWI2RCrgWFgJJWvDLJAqXiaIFV+Mi/ToEknmRR1REK04BNchcOV7hMQic7kbYt2E9r\n",
       "RWO823WefW0jV1RqUOipWhFieW8OAo5Qkin5Y3S9zs0TXdrZLYdJrxblZBIp6rQ1CiYvzfrIAGUv\n",
       "c4B6t0JlgZW3yRMNS0sxm4DCDF8A8CVN4Tpdr5HS+sm4HKl8uHLZwMuRqGQJ8rpXCJ6U07uEtfP0\n",
       "LVqV8bPj4WxP5WIdtVFihr9WYbjrxxqG8wmgyzXax1Bab/Bf09xDGa96tJrPDA9FXczXuEZa11YD\n",
       "lMnIWxj8V1QoXwT5Yc6nNXoEpWL4gOnmcVWR2Krd/PKgrOa/LGTgBZs8adBFN4xjiMPNY6eVL79v\n",
       "hoWLHkHRDSdS2s1jUQmw0mco+AQl0u0RFN0wfepkmYtDtarRtxvssMcjKJrhEJlGYTfOlvnokG+P\n",
       "YngefkaDlNNuHgvK7sq8g7Py8S5UgCRV7eax4MTz//GuUJ9HUKjhuc3Nd7o8MMbi1uvgGxR4yiun\n",
       "Qgwf6O//3eVxD9J5F+nzEcoirx4urtXwN6AvkfoGJdnmEZQaDf8nHkP/F/6w4EruZe62xRWUbwf5\n",
       "T1BRr8qfmgzL7LGOhdSztLcfEzrs7P4T1LsUhsLYrO7v/Qd/FMohouHh7AAAAABJRU5ErkJggg==\n",
       "\" style=\"display:inline;vertical-align:middle;\" /></a><br>"
      ],
      "text/plain": [
       "<IPython.core.display.HTML object>"
      ]
     },
     "metadata": {},
     "output_type": "display_data"
    }
   ],
   "source": [
    "FT_on_matrix_elem = Forall(\n",
    "    n,\n",
    "    Forall((j, k),\n",
    "           Equals(Qmult(NumBra(k, n),\n",
    "                        FourierTransform(n),\n",
    "                        NumKet(j, n)),\n",
    "                  Qmult(frac(one, Exp(two, frac(n, two))),\n",
    "                        Exp(e, frac(Mult(two, pi, i, j, k),\n",
    "                                    Exp(two, n))))),\n",
    "           domain=Interval(zero, subtract(Exp(two, n), one))),\n",
    "    domain=NaturalPos)"
   ]
  },
  {
   "cell_type": "code",
   "execution_count": 5,
   "metadata": {},
   "outputs": [
    {
     "data": {
      "text/html": [
       "<strong id=\"invFT_on_matrix_elem\"><a class=\"ProveItLink\" href=\"proofs/invFT_on_matrix_elem/thm_proof.ipynb\">invFT_on_matrix_elem</a> (conjecture without proof):<br></strong> <a class=\"ProveItLink\" href=\"../__pv_it/theorems/b6c2e947c5ee90228f03290c9742e98cf850e4790/theorem_expr.ipynb\"><img src=\"data:image/png;base64,iVBORw0KGgoAAAANSUhEUgAAAkwAAAAzBAMAAACXoUrNAAAAMFBMVEX///8AAAAAAAAAAAAAAAAA\n",
       "AAAAAAAAAAAAAAAAAAAAAAAAAAAAAAAAAAAAAAAAAAAv3aB7AAAAD3RSTlMAq1RmmUTNIjK7EInv\n",
       "3XZ/CtNrAAAACXBIWXMAAA7EAAAOxAGVKw4bAAAJt0lEQVRo3uWbDYwcVR3A//s5szP7dRENjS2s\n",
       "ouRitV1Ji72IvTMsiFp0EWOioj0aE0IFuppKU1LoqslFQ0uXjyKLGgZISLiW3go9jDWha0mkgOgK\n",
       "pRpCyxIatMWU7V1r76615/ucfbPzdnd2Z5fR8JLbmXvz5s283/u//9e+BXBQxsfH4X1cnA7/jfmT\n",
       "PX1uJN+/MT3Qgz4eN8hBe5D++9D8rKPbXu3xUD7QP0q+dA86UV+jx60GqxjyApOv1D9MH+5JL5+i\n",
       "B3/FS0yX9o9SYJSfmZLQTdGT9PgbDzEpz/UP06YcPWrnrXODCV6hh1jaO0yxav8wHTbP3nWF6ZP0\n",
       "bv8L3mG6rI9rrtwjTOERevyed5heZMdgqusutLXy+mjJEaaQxCH5ItEHa+AYbXGa1q7OeYUpPsdO\n",
       "Pu+ikyYKWmDTCtNPIbTkivq/Y/jjY+T0FxCkddczqUp6hSmWbDRK3ayupLT6r+AIUwGiMNFQdzn5\n",
       "LEOIau2lTDnNeYVpG5P4La6Uxz1St3DGESalBApswUvrppuw8tmIK2+4A1kWpQBAJ2CC2hntnFeY\n",
       "FrLj9131slNGwVd2hMmPBWY7QhXSdYQGYVIATn+ioECghEWNxFPMs/y1V5j+AKI4ty4fbHolKFt1\n",
       "0WQ7TOszmUw2gGxHMA+3A+yIADpsRH/qCQN9BrMAVBcEmA4fznmDSZ1mKqrkCpNyWrae046kSUUL\n",
       "ak8cn03GDLbo4r99DQGJPcKlSWOvOZH2BlOcjW+bE9V0rPmlX8oMXc6ZCk9CeP4/+CTl55iCuaeQ\n",
       "jOn/ALVkEXoqoO89pgjTHwvE6SXyYW97/337yJGPPt/GSf2VcL431/wdlrd4P+YQMKXEdNR7jylK\n",
       "hRqmhTpiavSsvfEeepiU5JI2S5zT5+unA3+5vnlKJd4C4SDHzILgGsVEhOqitpicNHNUJmgYoIq6\n",
       "5UnQ38hjTOqiPw0seP0FuPnGRQcX3Fzguglhevwl0wVkum3E7ps7Th4a7S8N01kLnKKYiDd6Q1tM\n",
       "Tpo5c5uoQxKoCXVIsIepNIVm0d9+mIL4NPjLsKYuTdjBiYmLw+6dqufaPTwx76DUxPekfQ7Bj4F6\n",
       "VW0wOWnmqCyli8UnjNKPBONKikk5gT4u0ZIYE7I5AqYpvAKEhRav2f2hqS7c+SsuKbWSeiqhQxA2\n",
       "rI9vgslJM0dlOG9zcXBq/LCAaZeSJpj2IB+QYwrNNcyTf8Y+5JkO3+VrR7L+o1CRCx57wRMUUwBp\n",
       "unB7Fe6kmaPCjHZCmMPHEIAZE5NixNUswfQZAZNeblj16lRTX0OeVFh4wFZX1mpwviKPLRNsSmaZ\n",
       "pXvp0KEXHVg6B80clb1URyYEO/QWUVUcU4BwjBNLeL6JKZz07zZgsTDsaVvXeivHfufLl9kc95xa\n",
       "hkp8uVShRxm9PzJMVwE8KGlWasAkb/ZZR19kqLvrb/JVw2bPkdT7Ciam2wVMXzAxTaQ/uilt0eFU\n",
       "X199CBeaGQi2wrQIFPvlSFZL+p+SJzLYWjzEMP0AFFl8NNKAiTb7HNH/D3P1iWYD9GcsOlD7/YB1\n",
       "dh4drafgUbmQGbw6phC6GK0yTGcH1gmYjpmYlv4oNZYjMRcvZ+yRb60FJtTfvbbKq1rke5gb/DrD\n",
       "FDEsjp1yYBKweDZios2ipKkfjVx9s5glJyvhm1YvNlgRzYd6vEJvsGJaXX8mHvu2nClNQQETmJhW\n",
       "rSCdCRN6shkmi3UnRgu/Ljq3gdWNqmNM/mpdNd+1YDt8RDeChh0TbbaZDgxByOQZr/2QEJ3aRFaZ\n",
       "sZgPvxUTW3SCNMXRwv0XmJj8UkwH6fNKrTA1W3TYE1WnNmy4rfHCuvlKc0wNiw5GV5rPwUJ4UXVE\n",
       "h92ZA5msNVghzYaUd3AXWTI2Mny04qOioxAwkNUSzUcDJhZrEUzLVhxHI9DQxbs1wSGQYNKmQtja\n",
       "h3PsHqlu0ltZunMdmppGFQ5PrkWDu/yuI8TkoKDm43foEt1EmsEFP9yJhjmBggeeqFXnzG+zuChX\n",
       "LOYDYwrVZ+1d6jdtRvdoy5+F50gCGqb11pgCc9pUHAd//B5rUMjusfhNy65dLP67ypAF1y0wJYVM\n",
       "Aca0CVU8el06mtOIqzCoP/JtGSbcDP6cwtH8xQDXkgtjeYwpal3hWw2L+SDfMN9iNLiXOImq7BoF\n",
       "vE7QcE7topjUWRETl5xJ5LRrMzoO/vg9oEy1cS+XFES7CE88+93DnWBKjAhrG2PyoRe/7W1IGDRb\n",
       "PggjR2WYcDPlJLENXwa4tFgsplRk1NCiS1i8c4X7DT9HTYo5iulik+RSupajuH9fNVSmodqyEsGk\n",
       "fujsAMH49YVnz8ubkjMJkRQcOUZdB3oPqKfswYqlype/1XL16n9XOwrRqRrUzlgSKRfAdRC4sVi8\n",
       "B2HaEZb4TXS+Ct/BkvuqAXfSOU/aVDishw3Wl0djU8qNGcYwltxoPjiS50GQPZFiSs6kEPyxe2RJ\n",
       "YtWyDmPw1rfch+g89GVlP2RUmrgbhNCSZvkmX3WrrpWgVkX+AfcMjsM1+HQHaOR25YGffcmGSVDh\n",
       "TJiDZWI3Yz/J81BNkm/iksMxRXLmPVgD2gozfuuvxImph2Gxm008LESn4TTHpNTg74PUzV4O8GYz\n",
       "TJGcb4W6D76SRTQ4Jv0ZgmVLTiULJMozEbznp89URUwxlpLHwnANxIkOW9sEE5ecyXrwZ94TkfjE\n",
       "B+kTC7A326vYk8aJQ3VP+J00bETvpB7Mga9l9tJPPncUmXvppAjt2JdEmqiBVzbBxCVnsh781aVS\n",
       "Iir0uy1fDqJlmlqqdY/pQtFltSZ5td8Vt7dP8gorPlTpGFOA6ZT7xMVF5i1vu41Lzj/NVH+9rJYk\n",
       "aoeJJojOge+0a2l6XsxJd5MLF6fxFmfPHEvZEiBu96U8LVO75DG+CviQa2DZJtBxUZg7urnai68M\n",
       "VEeZOkUUFPbNzoRL9bGvhUsIMbRU7NsEOspqevx1Jqxivvqoq17iZUllsCxYc7pNoNviq/D8i0eY\n",
       "eG5gv6teojIxDnH/ksZ42130n6iKoaAXG3eYf+9uo+rb0lqWxw0SvRvMu0nZG6LB8QATN3VhN85f\n",
       "k22ubHCfJp90m0CXhe2Uinm2DYxvKtT+5qKPJ+Smg24q9JdwvMS2CXRXvN9UyKccbjW67+PeVpJ6\n",
       "Z8s9Go4K9/HvBs8whUsSN6GzojXzJvDeMuVAJlNx+Y6r6RSG5rzDpPZx+/wWvEkJRSmjLvt5mamm\n",
       "lHeY4Gj/MMULPenmf+HHGP8HP+35BlPkox1heqXHPztc0z9M4VQv1ALbnT9GNdT4uDP5f7/97PAx\n",
       "iof/luGh+dn/Ao9XBIizLxXdAAAAAElFTkSuQmCC\n",
       "\" style=\"display:inline;vertical-align:middle;\" /></a><br>"
      ],
      "text/plain": [
       "<IPython.core.display.HTML object>"
      ]
     },
     "metadata": {},
     "output_type": "display_data"
    }
   ],
   "source": [
    "invFT_on_matrix_elem = Forall(\n",
    "    n,\n",
    "    Forall((k, l),\n",
    "           Equals(Qmult(NumBra(l, n),\n",
    "                        InverseFourierTransform(n),\n",
    "                        NumKet(k, n)),\n",
    "                  Mult(frac(one, Exp(two, frac(n, two))),\n",
    "                       Exp(e, frac(Neg(Mult(two, pi, i, k, l)),\n",
    "                                   Exp(two, n))))),\n",
    "           domain=Interval(zero, subtract(Exp(two, n), one))),\n",
    "    domain=NaturalPos)"
   ]
  },
  {
   "cell_type": "code",
   "execution_count": 6,
   "metadata": {},
   "outputs": [
    {
     "name": "stdout",
     "output_type": "stream",
     "text": [
      "These theorems may now be imported from the theory package: proveit.physics.quantum.QFT\n"
     ]
    }
   ],
   "source": [
    "%end theorems"
   ]
  },
  {
   "cell_type": "code",
   "execution_count": null,
   "metadata": {},
   "outputs": [],
   "source": []
  }
 ],
 "metadata": {
  "kernelspec": {
   "display_name": "Python 3",
   "language": "python",
   "name": "python3"
  }
 },
 "nbformat": 4,
 "nbformat_minor": 0
}