{
 "cells": [
  {
   "cell_type": "markdown",
   "metadata": {},
   "source": [
    "Proof of <a class=\"ProveItLink\" href=\"../../../../../../_theory_nbs_/theory.ipynb\">proveit</a>.<a class=\"ProveItLink\" href=\"../../../../../_theory_nbs_/theory.ipynb\">physics</a>.<a class=\"ProveItLink\" href=\"../../../../_theory_nbs_/theory.ipynb\">quantum</a>.<a class=\"ProveItLink\" href=\"../../theory.ipynb\">QFT</a>.<a class=\"ProveItLink\" href=\"../../theorems.ipynb#invFT_on_matrix_elem\">invFT_on_matrix_elem</a> theorem\n",
    "========"
   ]
  },
  {
   "cell_type": "code",
   "execution_count": 1,
   "metadata": {},
   "outputs": [],
   "source": [
    "import proveit\n",
    "theory = proveit.Theory() # the theorem's theory"
   ]
  },
  {
   "cell_type": "code",
   "execution_count": 2,
   "metadata": {},
   "outputs": [
    {
     "data": {
      "text/html": [
       "With these <a href=\"allowed_presumptions.txt\">allowed</a>/<a href=\"disallowed_presumptions.txt\">disallowed</a> theorem/theory presumptions (e.g., to avoid circular dependencies), we begin our proof of<br><strong id=\"invFT_on_matrix_elem\">invFT_on_matrix_elem:</strong> <a class=\"ProveItLink\" href=\"../../../__pv_it/theorems/93755fac1e3bce96cd040f096bb42ec154dee51c0/expr.ipynb\"><img src=\"data:image/png;base64,iVBORw0KGgoAAAANSUhEUgAAAkwAAAAzBAMAAACXoUrNAAAAMFBMVEX///8AAAAAAAAAAAAAAAAA\n",
       "AAAAAAAAAAAAAAAAAAAAAAAAAAAAAAAAAAAAAAAAAAAv3aB7AAAAD3RSTlMAq1RmmUTNIjK7EInv\n",
       "3XZ/CtNrAAAACXBIWXMAAA7EAAAOxAGVKw4bAAAJt0lEQVRo3uWbDYwcVR3A//s5szP7dRENjS2s\n",
       "ouRitV1Ji72IvTMsiFp0EWOioj0aE0IFuppKU1LoqslFQ0uXjyKLGgZISLiW3go9jDWha0mkgOgK\n",
       "pRpCyxIatMWU7V1r76615/ucfbPzdnd2Z5fR8JLbmXvz5s283/u//9e+BXBQxsfH4X1cnA7/jfmT\n",
       "PX1uJN+/MT3Qgz4eN8hBe5D++9D8rKPbXu3xUD7QP0q+dA86UV+jx60GqxjyApOv1D9MH+5JL5+i\n",
       "B3/FS0yX9o9SYJSfmZLQTdGT9PgbDzEpz/UP06YcPWrnrXODCV6hh1jaO0yxav8wHTbP3nWF6ZP0\n",
       "bv8L3mG6rI9rrtwjTOERevyed5heZMdgqusutLXy+mjJEaaQxCH5ItEHa+AYbXGa1q7OeYUpPsdO\n",
       "Pu+ikyYKWmDTCtNPIbTkivq/Y/jjY+T0FxCkddczqUp6hSmWbDRK3ayupLT6r+AIUwGiMNFQdzn5\n",
       "LEOIau2lTDnNeYVpG5P4La6Uxz1St3DGESalBApswUvrppuw8tmIK2+4A1kWpQBAJ2CC2hntnFeY\n",
       "FrLj9131slNGwVd2hMmPBWY7QhXSdYQGYVIATn+ioECghEWNxFPMs/y1V5j+AKI4ty4fbHolKFt1\n",
       "0WQ7TOszmUw2gGxHMA+3A+yIADpsRH/qCQN9BrMAVBcEmA4fznmDSZ1mKqrkCpNyWrae046kSUUL\n",
       "ak8cn03GDLbo4r99DQGJPcKlSWOvOZH2BlOcjW+bE9V0rPmlX8oMXc6ZCk9CeP4/+CTl55iCuaeQ\n",
       "jOn/ALVkEXoqoO89pgjTHwvE6SXyYW97/337yJGPPt/GSf2VcL431/wdlrd4P+YQMKXEdNR7jylK\n",
       "hRqmhTpiavSsvfEeepiU5JI2S5zT5+unA3+5vnlKJd4C4SDHzILgGsVEhOqitpicNHNUJmgYoIq6\n",
       "5UnQ38hjTOqiPw0seP0FuPnGRQcX3Fzguglhevwl0wVkum3E7ps7Th4a7S8N01kLnKKYiDd6Q1tM\n",
       "Tpo5c5uoQxKoCXVIsIepNIVm0d9+mIL4NPjLsKYuTdjBiYmLw+6dqufaPTwx76DUxPekfQ7Bj4F6\n",
       "VW0wOWnmqCyli8UnjNKPBONKikk5gT4u0ZIYE7I5AqYpvAKEhRav2f2hqS7c+SsuKbWSeiqhQxA2\n",
       "rI9vgslJM0dlOG9zcXBq/LCAaZeSJpj2IB+QYwrNNcyTf8Y+5JkO3+VrR7L+o1CRCx57wRMUUwBp\n",
       "unB7Fe6kmaPCjHZCmMPHEIAZE5NixNUswfQZAZNeblj16lRTX0OeVFh4wFZX1mpwviKPLRNsSmaZ\n",
       "pXvp0KEXHVg6B80clb1URyYEO/QWUVUcU4BwjBNLeL6JKZz07zZgsTDsaVvXeivHfufLl9kc95xa\n",
       "hkp8uVShRxm9PzJMVwE8KGlWasAkb/ZZR19kqLvrb/JVw2bPkdT7Ciam2wVMXzAxTaQ/uilt0eFU\n",
       "X199CBeaGQi2wrQIFPvlSFZL+p+SJzLYWjzEMP0AFFl8NNKAiTb7HNH/D3P1iWYD9GcsOlD7/YB1\n",
       "dh4drafgUbmQGbw6phC6GK0yTGcH1gmYjpmYlv4oNZYjMRcvZ+yRb60FJtTfvbbKq1rke5gb/DrD\n",
       "FDEsjp1yYBKweDZios2ipKkfjVx9s5glJyvhm1YvNlgRzYd6vEJvsGJaXX8mHvu2nClNQQETmJhW\n",
       "rSCdCRN6shkmi3UnRgu/Ljq3gdWNqmNM/mpdNd+1YDt8RDeChh0TbbaZDgxByOQZr/2QEJ3aRFaZ\n",
       "sZgPvxUTW3SCNMXRwv0XmJj8UkwH6fNKrTA1W3TYE1WnNmy4rfHCuvlKc0wNiw5GV5rPwUJ4UXVE\n",
       "h92ZA5msNVghzYaUd3AXWTI2Mny04qOioxAwkNUSzUcDJhZrEUzLVhxHI9DQxbs1wSGQYNKmQtja\n",
       "h3PsHqlu0ltZunMdmppGFQ5PrkWDu/yuI8TkoKDm43foEt1EmsEFP9yJhjmBggeeqFXnzG+zuChX\n",
       "LOYDYwrVZ+1d6jdtRvdoy5+F50gCGqb11pgCc9pUHAd//B5rUMjusfhNy65dLP67ypAF1y0wJYVM\n",
       "Aca0CVU8el06mtOIqzCoP/JtGSbcDP6cwtH8xQDXkgtjeYwpal3hWw2L+SDfMN9iNLiXOImq7BoF\n",
       "vE7QcE7topjUWRETl5xJ5LRrMzoO/vg9oEy1cS+XFES7CE88+93DnWBKjAhrG2PyoRe/7W1IGDRb\n",
       "PggjR2WYcDPlJLENXwa4tFgsplRk1NCiS1i8c4X7DT9HTYo5iulik+RSupajuH9fNVSmodqyEsGk\n",
       "fujsAMH49YVnz8ubkjMJkRQcOUZdB3oPqKfswYqlype/1XL16n9XOwrRqRrUzlgSKRfAdRC4sVi8\n",
       "B2HaEZb4TXS+Ct/BkvuqAXfSOU/aVDishw3Wl0djU8qNGcYwltxoPjiS50GQPZFiSs6kEPyxe2RJ\n",
       "YtWyDmPw1rfch+g89GVlP2RUmrgbhNCSZvkmX3WrrpWgVkX+AfcMjsM1+HQHaOR25YGffcmGSVDh\n",
       "TJiDZWI3Yz/J81BNkm/iksMxRXLmPVgD2gozfuuvxImph2Gxm008LESn4TTHpNTg74PUzV4O8GYz\n",
       "TJGcb4W6D76SRTQ4Jv0ZgmVLTiULJMozEbznp89URUwxlpLHwnANxIkOW9sEE5ecyXrwZ94TkfjE\n",
       "B+kTC7A326vYk8aJQ3VP+J00bETvpB7Mga9l9tJPPncUmXvppAjt2JdEmqiBVzbBxCVnsh781aVS\n",
       "Iir0uy1fDqJlmlqqdY/pQtFltSZ5td8Vt7dP8gorPlTpGFOA6ZT7xMVF5i1vu41Lzj/NVH+9rJYk\n",
       "aoeJJojOge+0a2l6XsxJd5MLF6fxFmfPHEvZEiBu96U8LVO75DG+CviQa2DZJtBxUZg7urnai68M\n",
       "VEeZOkUUFPbNzoRL9bGvhUsIMbRU7NsEOspqevx1Jqxivvqoq17iZUllsCxYc7pNoNviq/D8i0eY\n",
       "eG5gv6teojIxDnH/ksZ42130n6iKoaAXG3eYf+9uo+rb0lqWxw0SvRvMu0nZG6LB8QATN3VhN85f\n",
       "k22ubHCfJp90m0CXhe2Uinm2DYxvKtT+5qKPJ+Smg24q9JdwvMS2CXRXvN9UyKccbjW67+PeVpJ6\n",
       "Z8s9Go4K9/HvBs8whUsSN6GzojXzJvDeMuVAJlNx+Y6r6RSG5rzDpPZx+/wWvEkJRSmjLvt5mamm\n",
       "lHeY4Gj/MMULPenmf+HHGP8HP+35BlPkox1heqXHPztc0z9M4VQv1ALbnT9GNdT4uDP5f7/97PAx\n",
       "iof/luGh+dn/Ao9XBIizLxXdAAAAAElFTkSuQmCC\n",
       "\" style=\"display:inline;vertical-align:middle;\" /></a><br>(see <a class=\"ProveItLink\" href=\"../../../__pv_it/theorems/b6c2e947c5ee90228f03290c9742e98cf850e4790/dependencies.ipynb\">dependencies</a>)<br>"
      ],
      "text/plain": [
       "<IPython.core.display.HTML object>"
      ]
     },
     "metadata": {},
     "output_type": "display_data"
    }
   ],
   "source": [
    "%proving invFT_on_matrix_elem"
   ]
  },
  {
   "cell_type": "code",
   "execution_count": null,
   "metadata": {},
   "outputs": [],
   "source": []
  }
 ],
 "metadata": {
  "kernelspec": {
   "display_name": "Python 3",
   "language": "python",
   "name": "python3"
  }
 },
 "nbformat": 4,
 "nbformat_minor": 0
}