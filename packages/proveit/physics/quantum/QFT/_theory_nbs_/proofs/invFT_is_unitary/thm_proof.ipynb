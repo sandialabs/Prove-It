{
 "cells": [
  {
   "cell_type": "markdown",
   "metadata": {},
   "source": [
    "Proof of <a class=\"ProveItLink\" href=\"../../../../../../_theory_nbs_/theory.ipynb\">proveit</a>.<a class=\"ProveItLink\" href=\"../../../../../_theory_nbs_/theory.ipynb\">physics</a>.<a class=\"ProveItLink\" href=\"../../../../_theory_nbs_/theory.ipynb\">quantum</a>.<a class=\"ProveItLink\" href=\"../../theory.ipynb\">QFT</a>.<a class=\"ProveItLink\" href=\"../../theorems.ipynb#invFT_is_unitary\">invFT_is_unitary</a> theorem\n",
    "========"
   ]
  },
  {
   "cell_type": "code",
   "execution_count": 1,
   "metadata": {},
   "outputs": [],
   "source": [
    "import proveit\n",
    "theory = proveit.Theory() # the theorem's theory"
   ]
  },
  {
   "cell_type": "code",
   "execution_count": 2,
   "metadata": {},
   "outputs": [
    {
     "data": {
      "text/html": [
       "With these <a href=\"allowed_presumptions.txt\">allowed</a>/<a href=\"disallowed_presumptions.txt\">disallowed</a> theorem/theory presumptions (e.g., to avoid circular dependencies), we begin our proof of<br><strong id=\"invFT_is_unitary\">invFT_is_unitary:</strong> <a class=\"ProveItLink\" href=\"../../../__pv_it/theorems/08eaf4c7318014f2dd5700d22649b88853783f700/expr.ipynb\"><img src=\"data:image/png;base64,iVBORw0KGgoAAAANSUhEUgAAANIAAAAmBAMAAABDtNh+AAAAMFBMVEX///8AAAAAAAAAAAAAAAAA\n",
       "AAAAAAAAAAAAAAAAAAAAAAAAAAAAAAAAAAAAAAAAAAAv3aB7AAAAD3RSTlMAq1RmmUTNIjK7EInv\n",
       "3XZ/CtNrAAAACXBIWXMAAA7EAAAOxAGVKw4bAAADyklEQVRIx6WXW0gUURjH/3ubmXV21xWkELKM\n",
       "CIQgltDqQWLLDQwSNohelFp6CS1pewmMdNeeSxfLB7vAVBBEF5duUE9WD0kX8iGqhxbtgmFBeMnS\n",
       "suycM87szM7udmQOuHvO8dv5ffdzBuAa7irYGCWt/LJbYWucUnglXTF7JFeQV/KkYo+EXl7BgzZB\n",
       "uM6pqvOXZcsRXRLJzek+f9ouSfzJJ9djtT2wxMid4xOrsOx4W3YWqTBR/arZ/C0MxNm8jo80bd2S\n",
       "i9n0Qa3X2sd4Auxli0QVWKjWFAVJxMlS5fOyindP0dZS+bqiLWWNU9ehh2mc/xOmCZSGGGlJijdj\n",
       "IKkUCLFQh7Gdfh8oXncT5MMzR/6GMIXANJyDECzO60kRM4bp7ArQDnkGjlHPIFmyVuSOoYv6NVWU\n",
       "5KAdQpwkHxtKgpSEVB5SgnqHeageWA48hy/pDidJuFgGTUAgDpeL909fUCPdFEOM9ABe3XvjmUzM\n",
       "TCKGvFSwKp6A/wQh+WhInbNwETcKxROiNK2SRCUgRRlpU5a050uuTU4CrgRWJXchcJusBRooaQp4\n",
       "kck8+w8ppJJcLGEDLBMdycWEbrV4z63W+YiepnSzhPyqATib5/GGtpCoUkkdBpJbLRMIcQuJ2QDp\n",
       "r/kgIMsjEPM1pbAhqxhpvuywgaT1CMGaEX4Wdb/+UCdNQPwm5a7IxtoQX91FXdBE2hdVbXIbSPp5\n",
       "kiEjZSL52ON2ZMuRFgm+E+RoVq/uij6slhW3ksemSTjzkK7qs4GUkWQ4+1hRURJiW/Te3kD7xWhY\n",
       "xp3Iq0g0l7TYW00kf7YWSDikkOa9dRC1CDqHF+OEWyR9XPXdn4CPdKt6badsjlMiVJgUGNUDP0sy\n",
       "kkbPS7akdLbbu1Ja7zxODL3cHPLFS9hWtXypyUwaoE+T5owkVTM69utijQq2aVndEYk06p5i5Ti1\n",
       "WBrHxlCqeFh6ViM8bib5yFxaNl/GSmj3ivnypKoZ++fFPk13T7kqIRFvjSws/NAdTMMgzWjLlWiG\n",
       "q6W/v5eQrgnmehKsbZFppk6bLmRybk5vzcsO8wVhCBFJSqs2edbnXAIGreVGNSs0aszLeubSYa2K\n",
       "JvC2Wu0VtcD7nFPDemFhmhUieeOmA5h5xKtlvSeIryG0Ez9Lr+Nw5Fx2p6znN9Os0OU4ZeWy3mkQ\n",
       "ud/fl++nZyw7qmaFRqdx8VntM3GuewTndaPYuMcnNhC1TXrEJybH7IICg5yCQ3ZJPt73r412SWO8\n",
       "gkLIHkh8wv36+MYe6Qb/y+tRe69qp5dgftLWGzWtkn8mkO81X1sRfQAAAABJRU5ErkJggg==\n",
       "\" style=\"display:inline;vertical-align:middle;\" /></a><br>(see <a class=\"ProveItLink\" href=\"../../../__pv_it/theorems/3258150f34adc6261dd0c0ef93ff57ca9714be5d0/dependencies.ipynb\">dependencies</a>)<br>"
      ],
      "text/plain": [
       "<IPython.core.display.HTML object>"
      ]
     },
     "metadata": {},
     "output_type": "display_data"
    }
   ],
   "source": [
    "%proving invFT_is_unitary"
   ]
  },
  {
   "cell_type": "code",
   "execution_count": null,
   "metadata": {},
   "outputs": [],
   "source": []
  }
 ],
 "metadata": {
  "kernelspec": {
   "display_name": "Python 3",
   "language": "python",
   "name": "python3"
  }
 },
 "nbformat": 4,
 "nbformat_minor": 0
}