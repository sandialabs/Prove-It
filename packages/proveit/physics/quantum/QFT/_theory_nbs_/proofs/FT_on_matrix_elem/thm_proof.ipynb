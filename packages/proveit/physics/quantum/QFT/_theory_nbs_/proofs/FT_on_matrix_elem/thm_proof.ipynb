{
 "cells": [
  {
   "cell_type": "markdown",
   "metadata": {},
   "source": [
    "Proof of <a class=\"ProveItLink\" href=\"../../../../../../_theory_nbs_/theory.ipynb\">proveit</a>.<a class=\"ProveItLink\" href=\"../../../../../_theory_nbs_/theory.ipynb\">physics</a>.<a class=\"ProveItLink\" href=\"../../../../_theory_nbs_/theory.ipynb\">quantum</a>.<a class=\"ProveItLink\" href=\"../../theory.ipynb\">QFT</a>.<a class=\"ProveItLink\" href=\"../../theorems.ipynb#FT_on_matrix_elem\">FT_on_matrix_elem</a> theorem\n",
    "========"
   ]
  },
  {
   "cell_type": "code",
   "execution_count": 1,
   "metadata": {},
   "outputs": [],
   "source": [
    "import proveit\n",
    "theory = proveit.Theory() # the theorem's theory"
   ]
  },
  {
   "cell_type": "code",
   "execution_count": 2,
   "metadata": {},
   "outputs": [
    {
     "data": {
      "text/html": [
       "With these <a href=\"allowed_presumptions.txt\">allowed</a>/<a href=\"disallowed_presumptions.txt\">disallowed</a> theorem/theory presumptions (e.g., to avoid circular dependencies), we begin our proof of<br><strong id=\"FT_on_matrix_elem\">FT_on_matrix_elem:</strong> <a class=\"ProveItLink\" href=\"../../../__pv_it/theorems/f16b5acac674c533e14b9a61318395ec1cf0b1480/expr.ipynb\"><img src=\"data:image/png;base64,iVBORw0KGgoAAAANSUhEUgAAAigAAAAzBAMAAABPre7HAAAAMFBMVEX///8AAAAAAAAAAAAAAAAA\n",
       "AAAAAAAAAAAAAAAAAAAAAAAAAAAAAAAAAAAAAAAAAAAv3aB7AAAAD3RSTlMAq1RmmUTNIjK7EInv\n",
       "3XZ/CtNrAAAACXBIWXMAAA7EAAAOxAGVKw4bAAAIs0lEQVRo3uWbeYwTVRjAv54znW67XTUqKrAK\n",
       "KhHFRkHdxEgjS6JESVHjHwq6XlEUpCYqrnIU/yAaOVYTwhENgyYmLglbOWKERIpEURQtisQYkAoE\n",
       "BKIuC6u7K7q+a6Zvru2bZscx+CXta2e++abvN+99x5spgIC0t7fD/0ZEO3ug//TgnniFVz2qxfB7\n",
       "KmmUVfTr6v5eocO+G+SfHkh7xKQmw/IPtF2ssg1NvkC52KuBohvWOygi19AmWPITSqjFIyaaYeW8\n",
       "WW6gxFO0fd9PKHNyHkGpGP7NDRT4ljaJtI9QfvRq9lQMu4NyNdUO7vQPSqjo1ewp1gglmqHto/5B\n",
       "qSt4BIUzLAjldtpE/qDtgznfoLi7irUZNp8jMmZi5ctC8j4JvUayLQ+xEZPyDcpur1zKbmfwddBh\n",
       "d8QE1l7LnEqfX1DkHo+Y8IbNUCRYhMfLjBnYbbTiLddjP/L4vDLZ3UEb5W+/oAS88rO8YesUXYbA\n",
       "ROJxzKcVvaQXWySAP65qIztjLG97yy8odSmv/GxqACjhPMwFWBsD1LTij6HCXJBPMrUQ87Tjcz5B\n",
       "WepV4cMbtkDZnMTvmxKqNn0CWYDkBz/QeKOcolodaZ+g/JbTprkmedY6J7psj2zeYGsYy1aTQrT/\n",
       "L9w0BnUoCTx8chsa6f5t/GDzAcqbrD2oO8E29mGT4zFsT0zDBw8MYBhJw9cPVRmPB0cavr4FnG9p\n",
       "AsJmRFUoImpi8jmrSfVMK94I7+1iXZeHftkwZN9OmDl96N4hM9sMUF5VgxltQzLtaFhMLs0Yvm5l\n",
       "P6WTQiFJzeNVoYioCYnC1qve1bcktAQbdz3Si16fQRckT0GwaIByBKCkH/Sko2Fb6XeUTuphs9Th\n",
       "dlMoC/gB7AxFRE0sm/jbmDfRtLJL67p0Er1dp6QwFGgzTR9Yrx801tFw9RJp4nWWQmNpmbPRBFGV\n",
       "DOBqUETUhCTYRdtKUrECjY0+A5R1UppA2WyG0lqJv6qT4YHlrsPZ4DFuxDHpyHCjrQlCaHZGqzta\n",
       "ETWx60TzzqC+0KSgT/EiB0VSk3KWQLnRDCWqB5Vo2sGwRdbs4t1HUemECyXLKlc9y3FOsuiza//+\n",
       "LwSij4CakCRpnhQu8D4zmgpuVDUoIdLz5Clj9FF+TRm8c8rBsMXV7BqxjQ/uchFKyXHmcVbPZmov\n",
       "g3IbwCoBKAJqQhLvM13pBEmaLpuT1qDMtYUShu3AedoQudh37seymzdsSf5LMJ9HEMsqqeAGSzbM\n",
       "xs6nDMozINkl3gUTFKYmm8bsBiESr02q5Nv0tyd0/zQFV6nPNS7MUShnGmbZQjlKnLG+ABC0VFBh\n",
       "eyj1aYjxU+02W60Eo72fQYmp8SxfT+7ZBDej7mdMUJhaAuVPocqyH649t5wwjtctDYbBqdwAlTVh\n",
       "dOVoDKzTz4n7ecdNnE8J20JRSV2/QI81nZYhQbfUm+LtUtRwFziulm2hMMb7GJRgueJAlwxZBpfG\n",
       "1bBqhcKrfaLpwhUIUTliCNVhCJf4qLfkFyB6TlAOodfe5nwFStAWCrKK3kbrq0ZFByiWYHvl7Nnc\n",
       "RZrVXxKBAi236P3BY2tEOYMKbAsUTk3q1HRxZ+vyYHBx9VmpxxD1rjFA4abP2Jt+zZAsTumK9PAh\n",
       "WYdCNeieRIGkj6EJSw6DdpOG9ylO06csMr/N0wfWo+yQngpfNBh1+bw4bGze05w1QsFqsO5W7Eja\n",
       "5hWoLu4scmMfG9yMKvUYop4RSpwSjJVBGbcddqBPOQj1KV1JGyhMg+6ZnyXp4ztT03U5/BssHtxw\n",
       "acbezQZVeOdAlaaTo4U5yIOQUynkRKPib99vN1KwGmRw7wJHr9pBdQH5i6Wqdt9E/3klQ9TDUKZV\n",
       "ImePFlKldS3QR8JsoEXpidOuy70cFKZB94ynZdKLR6Be5UO6yTCTMW0J5tL2jful+mDR1mK2aVAC\n",
       "aD6TU0WIlx4FmWN2ULCaom7EFg5CnurKTxAoXxnPsFg1RD0MJXrclGPJaLwGysQzlCDWCIeP04Lw\n",
       "/DMNpBS+55Iz5+U1DQJlCAvfw2Aq/pQdOHkL5J/X5uuBp6tPn3rW3dOGpQN8qtD0lSvfQFDWRu2g\n",
       "UHkED2TkFqnugovI9DEm2BLLZ+SVSJZTKEH9hwW7afs99kbhTJ4raKxLB0yD7PmKlUmfQbOM188s\n",
       "aX63wUnAoftcZE8ddOApfxqg4FPJBTpSImNs8hQmeOI2RUo5qgs/WR0tPAuzDd8xlDmVuu2UXtHN\n",
       "h8TLea6gsUJhGmjPOSE8j5YTL//9KL6eNBuWmqejQ9bAaDcrfKaCUA8o6FTkEo8jXXVYZJKLSgGG\n",
       "yaUCS2+Ri0mWI2RCrgWFgJJWvDLJAqXiaIFV+Mi/ToEknmRR1REK04BNchcOV7hMQic7kbYt2E9r\n",
       "RWO823WefW0jV1RqUOipWhFieW8OAo5Qkin5Y3S9zs0TXdrZLYdJrxblZBIp6rQ1CiYvzfrIAGUv\n",
       "c4B6t0JlgZW3yRMNS0sxm4DCDF8A8CVN4Tpdr5HS+sm4HKl8uHLZwMuRqGQJ8rpXCJ6U07uEtfP0\n",
       "LVqV8bPj4WxP5WIdtVFihr9WYbjrxxqG8wmgyzXax1Bab/Bf09xDGa96tJrPDA9FXczXuEZa11YD\n",
       "lMnIWxj8V1QoXwT5Yc6nNXoEpWL4gOnmcVWR2Krd/PKgrOa/LGTgBZs8adBFN4xjiMPNY6eVL79v\n",
       "hoWLHkHRDSdS2s1jUQmw0mco+AQl0u0RFN0wfepkmYtDtarRtxvssMcjKJrhEJlGYTfOlvnokG+P\n",
       "YngefkaDlNNuHgvK7sq8g7Py8S5UgCRV7eax4MTz//GuUJ9HUKjhuc3Nd7o8MMbi1uvgGxR4yiun\n",
       "Qgwf6O//3eVxD9J5F+nzEcoirx4urtXwN6AvkfoGJdnmEZQaDf8nHkP/F/6w4EruZe62xRWUbwf5\n",
       "T1BRr8qfmgzL7LGOhdSztLcfEzrs7P4T1LsUhsLYrO7v/Qd/FMohouHh7AAAAABJRU5ErkJggg==\n",
       "\" style=\"display:inline;vertical-align:middle;\" /></a><br>(see <a class=\"ProveItLink\" href=\"../../../__pv_it/theorems/9d732ad313f8dfb016bf1976cbccd2ed5bd8bfb90/dependencies.ipynb\">dependencies</a>)<br>"
      ],
      "text/plain": [
       "<IPython.core.display.HTML object>"
      ]
     },
     "metadata": {},
     "output_type": "display_data"
    }
   ],
   "source": [
    "%proving FT_on_matrix_elem"
   ]
  },
  {
   "cell_type": "code",
   "execution_count": null,
   "metadata": {},
   "outputs": [],
   "source": []
  }
 ],
 "metadata": {
  "kernelspec": {
   "display_name": "Python 3",
   "language": "python",
   "name": "python3"
  }
 },
 "nbformat": 4,
 "nbformat_minor": 0
}