{
 "cells": [
  {
   "cell_type": "markdown",
   "metadata": {},
   "source": [
    "Demonstrations for the theory of <a class=\"ProveItLink\" href=\"theory.ipynb\">proveit.physics.quantum.QFT</a>\n",
    "========"
   ]
  },
  {
   "cell_type": "code",
   "execution_count": 1,
   "metadata": {},
   "outputs": [],
   "source": [
    "import proveit\n",
    "from proveit.numbers import one, two, num\n",
    "from proveit.physics.quantum.QFT import InverseFourierTransform\n",
    "%begin demonstrations"
   ]
  },
  {
   "cell_type": "code",
   "execution_count": 2,
   "metadata": {},
   "outputs": [
    {
     "data": {
      "text/html": [
       "<a class=\"ProveItLink\" href=\"../__pv_it/demonstrations/0a42e68a212616516b9d7b8ec1448e188de9033a0/expr.ipynb\"><img src=\"data:image/png;base64,iVBORw0KGgoAAAANSUhEUgAAACQAAAAZBAMAAACrypHYAAAAMFBMVEX///8AAAAAAAAAAAAAAAAA\n",
       "AAAAAAAAAAAAAAAAAAAAAAAAAAAAAAAAAAAAAAAAAAAv3aB7AAAAD3RSTlMAMqvd77sQRCJmVHbN\n",
       "mYkwxVJaAAAACXBIWXMAAA7EAAAOxAGVKw4bAAAAy0lEQVQY02NgQAVMBQwMhIW4E9BFWI9eWYAu\n",
       "xpeA1SwhEyelYJcEHpsg40Mxpgw8IH31AQwMJQL8Cxj2T2BYAhHqV2Bg4FyQxAASYmVgLYAKsW3o\n",
       "BAvxJcCE2hg2iIOFOBuYBCBCM8CWAYUYGHgbwEIcFgghsOv7nXR+IITAAKjxBqbQCrgQ2zulBIgj\n",
       "4EK8DLwGaEL8BRwfGRjkA5CEOBOAQkLnnRRBAuyX/J0ugkLHACN0hDECjCMMQ1EvQwe6okDBa2hC\n",
       "LP//fwAAx6g7uu99588AAAAASUVORK5CYII=\n",
       "\" style=\"display:inline;vertical-align:middle;\" /></a>"
      ],
      "text/plain": [
       "FT^{dag}_{2}"
      ]
     },
     "metadata": {},
     "output_type": "display_data"
    }
   ],
   "source": [
    "InverseFourierTransform(two)"
   ]
  },
  {
   "cell_type": "code",
   "execution_count": 3,
   "metadata": {},
   "outputs": [
    {
     "name": "stdout",
     "output_type": "stream",
     "text": [
      "FT^{dag}_{2}\n"
     ]
    }
   ],
   "source": [
    "print(InverseFourierTransform(two))"
   ]
  },
  {
   "cell_type": "code",
   "execution_count": 4,
   "metadata": {},
   "outputs": [],
   "source": [
    "%end demonstrations"
   ]
  }
 ],
 "metadata": {
  "kernelspec": {
   "display_name": "Python 3",
   "language": "python",
   "name": "python3"
  }
 },
 "nbformat": 4,
 "nbformat_minor": 0
}