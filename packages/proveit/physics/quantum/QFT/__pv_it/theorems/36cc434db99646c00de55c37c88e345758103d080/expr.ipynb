{
 "cells": [
  {
   "cell_type": "markdown",
   "metadata": {},
   "source": [
    "Expression of type <a class=\"ProveItLink\" href=\"../../../../../../../../doc/html/api/proveit.logic.Equals.html\">Equals</a>\n",
    "=======================\n",
    "# from the theory of <a class=\"ProveItLink\" href=\"../../../_theory_nbs_/theory.ipynb\">proveit.physics.quantum.QFT</a>"
   ]
  },
  {
   "cell_type": "code",
   "execution_count": 1,
   "metadata": {},
   "outputs": [],
   "source": [
    "import proveit\n",
    "# Automation is not needed when building an expression:\n",
    "proveit.defaults.automation = False # This will speed things up.\n",
    "proveit.defaults.inline_pngs = False # Makes files smaller.\n",
    "%load_expr # Load the stored expression as 'stored_expr'\n",
    "# import Expression classes needed to build the expression\n",
    "from proveit import k, l, n\n",
    "from proveit.logic import Equals\n",
    "from proveit.numbers import Exp, Mult, Neg, e, frac, i, one, pi, two\n",
    "from proveit.physics.quantum import NumBra, NumKet, Qmult\n",
    "from proveit.physics.quantum.QFT import InverseFourierTransform"
   ]
  },
  {
   "cell_type": "code",
   "execution_count": 2,
   "metadata": {},
   "outputs": [
    {
     "data": {
      "text/html": [
       "<strong id=\"expr\">expr:</strong> <a class=\"ProveItLink\" href=\"expr.ipynb\"><img src=\"expr.png\" style=\"display:inline;vertical-align:middle;\" /></a><br>"
      ],
      "text/plain": [
       "<IPython.core.display.HTML object>"
      ]
     },
     "metadata": {},
     "output_type": "display_data"
    }
   ],
   "source": [
    "# build up the expression from sub-expressions\n",
    "expr = Equals(Qmult(NumBra(l, n), InverseFourierTransform(n), NumKet(k, n)), Mult(frac(one, Exp(two, frac(n, two))), Exp(e, frac(Neg(Mult(two, pi, i, k, l)), Exp(two, n)))))"
   ]
  },
  {
   "cell_type": "code",
   "execution_count": 3,
   "metadata": {},
   "outputs": [
    {
     "name": "stdout",
     "output_type": "stream",
     "text": [
      "Passed sanity check: expr matches stored_expr\n"
     ]
    }
   ],
   "source": [
    "# check that the built expression is the same as the stored expression\n",
    "assert expr == stored_expr\n",
    "assert expr._style_id == stored_expr._style_id\n",
    "print(\"Passed sanity check: expr matches stored_expr\")"
   ]
  },
  {
   "cell_type": "code",
   "execution_count": 4,
   "metadata": {},
   "outputs": [
    {
     "name": "stdout",
     "output_type": "stream",
     "text": [
      "\\left({_{n}}\\langle l \\rvert \\thinspace {\\mathrm {FT}}^{\\dag}_{n} \\thinspace \\lvert k \\rangle_{n}\\right) = \\left(\\frac{1}{2^{\\frac{n}{2}}} \\cdot \\mathsf{e}^{\\frac{-\\left(2 \\cdot \\pi \\cdot \\mathsf{i} \\cdot k \\cdot l\\right)}{2^{n}}}\\right)\n"
     ]
    }
   ],
   "source": [
    "# Show the LaTeX representation of the expression for convenience if you need it.\n",
    "print(stored_expr.latex())"
   ]
  },
  {
   "cell_type": "code",
   "execution_count": 5,
   "metadata": {},
   "outputs": [
    {
     "data": {
      "text/html": [
       "<table>\n",
       "<tr><th>name</th><th>description</th><th>default</th><th>current value</th><th>related methods</th></tr><tr><td>operation</td><td>'infix' or 'function' style formatting</td><td>infix</td><td>infix</td><td></td></tr>\n",
       "<tr><td>wrap_positions</td><td>position(s) at which wrapping is to occur; '2 n - 1' is after the nth operand, '2 n' is after the nth operation.</td><td>()</td><td>()</td><td>('with_wrapping_at', 'with_wrap_before_operator', 'with_wrap_after_operator', 'without_wrapping', 'wrap_positions')</td></tr>\n",
       "<tr><td>justification</td><td>if any wrap positions are set, justify to the 'left', 'center', or 'right'</td><td>center</td><td>center</td><td>('with_justification',)</td></tr>\n",
       "<tr><td>direction</td><td>Direction of the relation (normal or reversed)</td><td>normal</td><td>normal</td><td>('with_direction_reversed', 'is_reversed')</td></tr>\n",
       "</table>\n"
      ],
      "text/plain": [
       "style name: operation\n",
       "description: 'infix' or 'function' style formatting\n",
       "default: infix\n",
       "current value: infix\n",
       "related methods: ()\n",
       "style name: wrap_positions\n",
       "description: position(s) at which wrapping is to occur; '2 n - 1' is after the nth operand, '2 n' is after the nth operation.\n",
       "default: ()\n",
       "current value: ()\n",
       "related methods: ('with_wrapping_at', 'with_wrap_before_operator', 'with_wrap_after_operator', 'without_wrapping', 'wrap_positions')\n",
       "style name: justification\n",
       "description: if any wrap positions are set, justify to the 'left', 'center', or 'right'\n",
       "default: center\n",
       "current value: center\n",
       "related methods: ('with_justification',)\n",
       "style name: direction\n",
       "description: Direction of the relation (normal or reversed)\n",
       "default: normal\n",
       "current value: normal\n",
       "related methods: ('with_direction_reversed', 'is_reversed')"
      ]
     },
     "metadata": {},
     "output_type": "display_data"
    }
   ],
   "source": [
    "stored_expr.style_options()"
   ]
  },
  {
   "cell_type": "code",
   "execution_count": 6,
   "metadata": {},
   "outputs": [
    {
     "data": {
      "text/html": [
       "<table><tr><th>&nbsp;</th><th>core type</th><th>sub-expressions</th><th>expression</th></tr>\n",
       "<tr><td>0</td><td>Operation</td><td>operator:&nbsp;1<br>operands:&nbsp;2<br></td><td><a class=\"ProveItLink\" href=\"expr.ipynb\"><img src=\"expr.png\" style=\"display:inline;vertical-align:middle;\" /></a></td></tr>\n",
       "<tr><td>1</td><td>Literal</td><td></td><td><a class=\"ProveItLink\" href=\"../../../../../../logic/equality/__pv_it/common/fb96dc12b2aa8801dda64d0132b396c63d1502bb0/expr.ipynb\"><img src=\"../../../../../../logic/equality/__pv_it/common/fb96dc12b2aa8801dda64d0132b396c63d1502bb0/expr.png\" style=\"display:inline;vertical-align:middle;\" /></a></td></tr>\n",
       "<tr><td>2</td><td>ExprTuple</td><td>3, 4</td><td><a class=\"ProveItLink\" href=\"../6768f62e806e0ca7e0b5f9219bdfdff97a9248ed0/expr.ipynb\"><img src=\"../6768f62e806e0ca7e0b5f9219bdfdff97a9248ed0/expr.png\" style=\"display:inline;vertical-align:middle;\" /></a></td></tr>\n",
       "<tr><td>3</td><td>Operation</td><td>operator:&nbsp;5<br>operands:&nbsp;6<br></td><td><a class=\"ProveItLink\" href=\"../bf405fa790aa4d5bbccfded51237832171f1e9e00/expr.ipynb\"><img src=\"../bf405fa790aa4d5bbccfded51237832171f1e9e00/expr.png\" style=\"display:inline;vertical-align:middle;\" /></a></td></tr>\n",
       "<tr><td>4</td><td>Operation</td><td>operator:&nbsp;38<br>operands:&nbsp;7<br></td><td><a class=\"ProveItLink\" href=\"../ee05e0a9ba16d38ef3f7243ec666fd4f3ed8cafc0/expr.ipynb\"><img src=\"../ee05e0a9ba16d38ef3f7243ec666fd4f3ed8cafc0/expr.png\" style=\"display:inline;vertical-align:middle;\" /></a></td></tr>\n",
       "<tr><td>5</td><td>Literal</td><td></td><td><a class=\"ProveItLink\" href=\"../../../../algebra/__pv_it/common/2972e0deb52c96565b39f905d407d7302ae287580/expr.ipynb\"><img src=\"../../../../algebra/__pv_it/common/2972e0deb52c96565b39f905d407d7302ae287580/expr.png\" style=\"display:inline;vertical-align:middle;\" /></a></td></tr>\n",
       "<tr><td>6</td><td>ExprTuple</td><td>8, 9, 10</td><td><a class=\"ProveItLink\" href=\"../15c77c1442faef5cecf3158eb632dbe2523bed8f0/expr.ipynb\"><img src=\"../15c77c1442faef5cecf3158eb632dbe2523bed8f0/expr.png\" style=\"display:inline;vertical-align:middle;\" /></a></td></tr>\n",
       "<tr><td>7</td><td>ExprTuple</td><td>11, 12</td><td><a class=\"ProveItLink\" href=\"../2c182a789d5b546eb35f9b199d409b3e229edf590/expr.ipynb\"><img src=\"../2c182a789d5b546eb35f9b199d409b3e229edf590/expr.png\" style=\"display:inline;vertical-align:middle;\" /></a></td></tr>\n",
       "<tr><td>8</td><td>Operation</td><td>operator:&nbsp;13<br>operands:&nbsp;14<br></td><td><a class=\"ProveItLink\" href=\"../55a763735fee20eef2b6518d00dad0720374b6740/expr.ipynb\"><img src=\"../55a763735fee20eef2b6518d00dad0720374b6740/expr.png\" style=\"display:inline;vertical-align:middle;\" /></a></td></tr>\n",
       "<tr><td>9</td><td>Operation</td><td>operator:&nbsp;15<br>operand:&nbsp;37<br></td><td><a class=\"ProveItLink\" href=\"../7d53b8db114a317f5c96867b16a73fea2e04ffd90/expr.ipynb\"><img src=\"../7d53b8db114a317f5c96867b16a73fea2e04ffd90/expr.png\" style=\"display:inline;vertical-align:middle;\" /></a></td></tr>\n",
       "<tr><td>10</td><td>Operation</td><td>operator:&nbsp;17<br>operands:&nbsp;18<br></td><td><a class=\"ProveItLink\" href=\"../9fa52f773787a699b8cdd5be011cae4954d52c3f0/expr.ipynb\"><img src=\"../9fa52f773787a699b8cdd5be011cae4954d52c3f0/expr.png\" style=\"display:inline;vertical-align:middle;\" /></a></td></tr>\n",
       "<tr><td>11</td><td>Operation</td><td>operator:&nbsp;30<br>operands:&nbsp;19<br></td><td><a class=\"ProveItLink\" href=\"../4c838756061af3d68ff37990a15bdecede4b623d0/expr.ipynb\"><img src=\"../4c838756061af3d68ff37990a15bdecede4b623d0/expr.png\" style=\"display:inline;vertical-align:middle;\" /></a></td></tr>\n",
       "<tr><td>12</td><td>Operation</td><td>operator:&nbsp;34<br>operands:&nbsp;20<br></td><td><a class=\"ProveItLink\" href=\"../05632e669b67860e3167db40a623641bd40b59770/expr.ipynb\"><img src=\"../05632e669b67860e3167db40a623641bd40b59770/expr.png\" style=\"display:inline;vertical-align:middle;\" /></a></td></tr>\n",
       "<tr><td>13</td><td>Literal</td><td></td><td><a class=\"ProveItLink\" href=\"../../../../algebra/__pv_it/common/13db10c1cee2a5c20b353170837d54aa664b4df90/expr.ipynb\"><img src=\"../../../../algebra/__pv_it/common/13db10c1cee2a5c20b353170837d54aa664b4df90/expr.png\" style=\"display:inline;vertical-align:middle;\" /></a></td></tr>\n",
       "<tr><td>14</td><td>ExprTuple</td><td>44, 37</td><td><a class=\"ProveItLink\" href=\"../8f591fc632fbf60a7b5194806fd60ef6d685e5540/expr.ipynb\"><img src=\"../8f591fc632fbf60a7b5194806fd60ef6d685e5540/expr.png\" style=\"display:inline;vertical-align:middle;\" /></a></td></tr>\n",
       "<tr><td>15</td><td>Literal</td><td></td><td><a class=\"ProveItLink\" href=\"../../common/435b6ace9516fa72bfa2318e4ae9eb79e9793f8e0/expr.ipynb\"><img src=\"../../common/435b6ace9516fa72bfa2318e4ae9eb79e9793f8e0/expr.png\" style=\"display:inline;vertical-align:middle;\" /></a></td></tr>\n",
       "<tr><td>16</td><td>ExprTuple</td><td>37</td><td><a class=\"ProveItLink\" href=\"../ca565dff2751ea9a3b48fe855133b9e0c2eca83f0/expr.ipynb\"><img src=\"../ca565dff2751ea9a3b48fe855133b9e0c2eca83f0/expr.png\" style=\"display:inline;vertical-align:middle;\" /></a></td></tr>\n",
       "<tr><td>17</td><td>Literal</td><td></td><td><a class=\"ProveItLink\" href=\"../../../../algebra/__pv_it/common/8fae26fc802d6e77100c911db42f2d3784cdc7330/expr.ipynb\"><img src=\"../../../../algebra/__pv_it/common/8fae26fc802d6e77100c911db42f2d3784cdc7330/expr.png\" style=\"display:inline;vertical-align:middle;\" /></a></td></tr>\n",
       "<tr><td>18</td><td>ExprTuple</td><td>43, 37</td><td><a class=\"ProveItLink\" href=\"../4e5e499db9b60be5725bf051e2b99c195d0a21e80/expr.ipynb\"><img src=\"../4e5e499db9b60be5725bf051e2b99c195d0a21e80/expr.png\" style=\"display:inline;vertical-align:middle;\" /></a></td></tr>\n",
       "<tr><td>19</td><td>ExprTuple</td><td>21, 22</td><td><a class=\"ProveItLink\" href=\"../2cc79b3c8125e76939691c13ecb5d7726d8462f00/expr.ipynb\"><img src=\"../2cc79b3c8125e76939691c13ecb5d7726d8462f00/expr.png\" style=\"display:inline;vertical-align:middle;\" /></a></td></tr>\n",
       "<tr><td>20</td><td>ExprTuple</td><td>23, 24</td><td><a class=\"ProveItLink\" href=\"../655b6bcb169123fe17cb1c4a09cc890d82c3d2130/expr.ipynb\"><img src=\"../655b6bcb169123fe17cb1c4a09cc890d82c3d2130/expr.png\" style=\"display:inline;vertical-align:middle;\" /></a></td></tr>\n",
       "<tr><td>21</td><td>Literal</td><td></td><td><a class=\"ProveItLink\" href=\"../../../../../../numbers/numerals/__pv_it/common/682157d4892d216d9e5626ed533aff9b56b9506e0/expr.ipynb\"><img src=\"../../../../../../numbers/numerals/__pv_it/common/682157d4892d216d9e5626ed533aff9b56b9506e0/expr.png\" style=\"display:inline;vertical-align:middle;\" /></a></td></tr>\n",
       "<tr><td>22</td><td>Operation</td><td>operator:&nbsp;34<br>operands:&nbsp;25<br></td><td><a class=\"ProveItLink\" href=\"../f4bccf679962d3b444955063ed88c9bcdd7c665d0/expr.ipynb\"><img src=\"../f4bccf679962d3b444955063ed88c9bcdd7c665d0/expr.png\" style=\"display:inline;vertical-align:middle;\" /></a></td></tr>\n",
       "<tr><td>23</td><td>Literal</td><td></td><td><a class=\"ProveItLink\" href=\"../../../../../../numbers/number_sets/real_numbers/__pv_it/common/e531ffa54fd897084533764a4a14f19f590674f80/expr.ipynb\"><img src=\"../../../../../../numbers/number_sets/real_numbers/__pv_it/common/e531ffa54fd897084533764a4a14f19f590674f80/expr.png\" style=\"display:inline;vertical-align:middle;\" /></a></td></tr>\n",
       "<tr><td>24</td><td>Operation</td><td>operator:&nbsp;30<br>operands:&nbsp;26<br></td><td><a class=\"ProveItLink\" href=\"../ef697fe198c6baddefa0d3a464e31c9f97ecef910/expr.ipynb\"><img src=\"../ef697fe198c6baddefa0d3a464e31c9f97ecef910/expr.png\" style=\"display:inline;vertical-align:middle;\" /></a></td></tr>\n",
       "<tr><td>25</td><td>ExprTuple</td><td>40, 27</td><td><a class=\"ProveItLink\" href=\"../2819ff5953ac55a0b68bc5914f788a9f3fba66230/expr.ipynb\"><img src=\"../2819ff5953ac55a0b68bc5914f788a9f3fba66230/expr.png\" style=\"display:inline;vertical-align:middle;\" /></a></td></tr>\n",
       "<tr><td>26</td><td>ExprTuple</td><td>28, 29</td><td><a class=\"ProveItLink\" href=\"../05355b7833ef3fba85567287fd911e2bae0c872f0/expr.ipynb\"><img src=\"../05355b7833ef3fba85567287fd911e2bae0c872f0/expr.png\" style=\"display:inline;vertical-align:middle;\" /></a></td></tr>\n",
       "<tr><td>27</td><td>Operation</td><td>operator:&nbsp;30<br>operands:&nbsp;31<br></td><td><a class=\"ProveItLink\" href=\"../51062e7c49d0445a6704b1424dd67c6ac1538bff0/expr.ipynb\"><img src=\"../51062e7c49d0445a6704b1424dd67c6ac1538bff0/expr.png\" style=\"display:inline;vertical-align:middle;\" /></a></td></tr>\n",
       "<tr><td>28</td><td>Operation</td><td>operator:&nbsp;32<br>operand:&nbsp;36<br></td><td><a class=\"ProveItLink\" href=\"../43d0079b90d3f2e8f31110fd08d730248e1b042b0/expr.ipynb\"><img src=\"../43d0079b90d3f2e8f31110fd08d730248e1b042b0/expr.png\" style=\"display:inline;vertical-align:middle;\" /></a></td></tr>\n",
       "<tr><td>29</td><td>Operation</td><td>operator:&nbsp;34<br>operands:&nbsp;35<br></td><td><a class=\"ProveItLink\" href=\"../ace97dd72f2323bff6da2fd242faedaef12f1d280/expr.ipynb\"><img src=\"../ace97dd72f2323bff6da2fd242faedaef12f1d280/expr.png\" style=\"display:inline;vertical-align:middle;\" /></a></td></tr>\n",
       "<tr><td>30</td><td>Literal</td><td></td><td><a class=\"ProveItLink\" href=\"../../../../../../numbers/division/__pv_it/common/a2a633e1e3c749fb1f2692466b287b6348c5de840/expr.ipynb\"><img src=\"../../../../../../numbers/division/__pv_it/common/a2a633e1e3c749fb1f2692466b287b6348c5de840/expr.png\" style=\"display:inline;vertical-align:middle;\" /></a></td></tr>\n",
       "<tr><td>31</td><td>ExprTuple</td><td>37, 40</td><td><a class=\"ProveItLink\" href=\"../82bc1199d7f6b54531e035b70f9e4164960095fe0/expr.ipynb\"><img src=\"../82bc1199d7f6b54531e035b70f9e4164960095fe0/expr.png\" style=\"display:inline;vertical-align:middle;\" /></a></td></tr>\n",
       "<tr><td>32</td><td>Literal</td><td></td><td><a class=\"ProveItLink\" href=\"../../../../../../numbers/negation/__pv_it/common/221b3c4d1770ee9051b7c044c3f9ec61196fc34b0/expr.ipynb\"><img src=\"../../../../../../numbers/negation/__pv_it/common/221b3c4d1770ee9051b7c044c3f9ec61196fc34b0/expr.png\" style=\"display:inline;vertical-align:middle;\" /></a></td></tr>\n",
       "<tr><td>33</td><td>ExprTuple</td><td>36</td><td><a class=\"ProveItLink\" href=\"../a1032f4ebf0447f1dd81b8ab791d553792ff62600/expr.ipynb\"><img src=\"../a1032f4ebf0447f1dd81b8ab791d553792ff62600/expr.png\" style=\"display:inline;vertical-align:middle;\" /></a></td></tr>\n",
       "<tr><td>34</td><td>Literal</td><td></td><td><a class=\"ProveItLink\" href=\"../../../../../../numbers/exponentiation/__pv_it/common/0ac37aca1e54c35c5cda09672df32d4f69f1f3020/expr.ipynb\"><img src=\"../../../../../../numbers/exponentiation/__pv_it/common/0ac37aca1e54c35c5cda09672df32d4f69f1f3020/expr.png\" style=\"display:inline;vertical-align:middle;\" /></a></td></tr>\n",
       "<tr><td>35</td><td>ExprTuple</td><td>40, 37</td><td><a class=\"ProveItLink\" href=\"../6c749d4e1f417a139feccd8843f9a814e5ee6a6b0/expr.ipynb\"><img src=\"../6c749d4e1f417a139feccd8843f9a814e5ee6a6b0/expr.png\" style=\"display:inline;vertical-align:middle;\" /></a></td></tr>\n",
       "<tr><td>36</td><td>Operation</td><td>operator:&nbsp;38<br>operands:&nbsp;39<br></td><td><a class=\"ProveItLink\" href=\"../b269d897d19c346df6c6f28296ff62be321ccf1f0/expr.ipynb\"><img src=\"../b269d897d19c346df6c6f28296ff62be321ccf1f0/expr.png\" style=\"display:inline;vertical-align:middle;\" /></a></td></tr>\n",
       "<tr><td>37</td><td>Variable</td><td></td><td><a class=\"ProveItLink\" href=\"../../../../../../__pv_it/common/8968bb04eb3f7dfa02353397ce929b025bbd79c20/expr.ipynb\"><img src=\"../../../../../../__pv_it/common/8968bb04eb3f7dfa02353397ce929b025bbd79c20/expr.png\" style=\"display:inline;vertical-align:middle;\" /></a></td></tr>\n",
       "<tr><td>38</td><td>Literal</td><td></td><td><a class=\"ProveItLink\" href=\"../../../../../../numbers/multiplication/__pv_it/common/ed719cef37831779c16481533a4d380a2f95ab270/expr.ipynb\"><img src=\"../../../../../../numbers/multiplication/__pv_it/common/ed719cef37831779c16481533a4d380a2f95ab270/expr.png\" style=\"display:inline;vertical-align:middle;\" /></a></td></tr>\n",
       "<tr><td>39</td><td>ExprTuple</td><td>40, 41, 42, 43, 44</td><td><a class=\"ProveItLink\" href=\"../8799b7ad4de9afc9ff5d24df28d67bf0daa18b7a0/expr.ipynb\"><img src=\"../8799b7ad4de9afc9ff5d24df28d67bf0daa18b7a0/expr.png\" style=\"display:inline;vertical-align:middle;\" /></a></td></tr>\n",
       "<tr><td>40</td><td>Literal</td><td></td><td><a class=\"ProveItLink\" href=\"../../../../../../numbers/numerals/__pv_it/common/af4aab8a07465db063742696e006d04670f30cf10/expr.ipynb\"><img src=\"../../../../../../numbers/numerals/__pv_it/common/af4aab8a07465db063742696e006d04670f30cf10/expr.png\" style=\"display:inline;vertical-align:middle;\" /></a></td></tr>\n",
       "<tr><td>41</td><td>Literal</td><td></td><td><a class=\"ProveItLink\" href=\"../../../../../../numbers/number_sets/real_numbers/__pv_it/common/246c206266ac5b48800e508d580f91767b24c2df0/expr.ipynb\"><img src=\"../../../../../../numbers/number_sets/real_numbers/__pv_it/common/246c206266ac5b48800e508d580f91767b24c2df0/expr.png\" style=\"display:inline;vertical-align:middle;\" /></a></td></tr>\n",
       "<tr><td>42</td><td>Literal</td><td></td><td><a class=\"ProveItLink\" href=\"../../../../../../numbers/number_sets/complex_numbers/__pv_it/common/6c9cc69d472f352324c298b2318df233e9a7e0250/expr.ipynb\"><img src=\"../../../../../../numbers/number_sets/complex_numbers/__pv_it/common/6c9cc69d472f352324c298b2318df233e9a7e0250/expr.png\" style=\"display:inline;vertical-align:middle;\" /></a></td></tr>\n",
       "<tr><td>43</td><td>Variable</td><td></td><td><a class=\"ProveItLink\" href=\"../../../../../../__pv_it/common/63b7c64bf9ec7a04ecc396c7a1670f3f12fb59490/expr.ipynb\"><img src=\"../../../../../../__pv_it/common/63b7c64bf9ec7a04ecc396c7a1670f3f12fb59490/expr.png\" style=\"display:inline;vertical-align:middle;\" /></a></td></tr>\n",
       "<tr><td>44</td><td>Variable</td><td></td><td><a class=\"ProveItLink\" href=\"../../../../../../__pv_it/common/27cc275d44b4f4499fb9ccfb3fab1a98165d2fa60/expr.ipynb\"><img src=\"../../../../../../__pv_it/common/27cc275d44b4f4499fb9ccfb3fab1a98165d2fa60/expr.png\" style=\"display:inline;vertical-align:middle;\" /></a></td></tr>\n",
       "</table>\n"
      ],
      "text/plain": [
       "0. ({n}_〈l| . FT^{dag}_{n} . |k〉_{n}) = ((1 / 2^{n / 2}) * e^{(-(2 * pi * i * k * l)) / 2^{n}})\n",
       "   core type: Operation\n",
       "   operator: 1\n",
       "   operands: 2\n",
       "1. =\n",
       "   core type: Literal\n",
       "   sub-expressions: \n",
       "2. ({n}_〈l| . FT^{dag}_{n} . |k〉_{n}, (1 / 2^{n / 2}) * e^{(-(2 * pi * i * k * l)) / 2^{n}})\n",
       "   core type: ExprTuple\n",
       "   sub-expressions: 3, 4\n",
       "3. {n}_〈l| . FT^{dag}_{n} . |k〉_{n}\n",
       "   core type: Operation\n",
       "   operator: 5\n",
       "   operands: 6\n",
       "4. (1 / 2^{n / 2}) * e^{(-(2 * pi * i * k * l)) / 2^{n}}\n",
       "   core type: Operation\n",
       "   operator: 38\n",
       "   operands: 7\n",
       "5. .\n",
       "   core type: Literal\n",
       "   sub-expressions: \n",
       "6. ({n}_〈l|, FT^{dag}_{n}, |k〉_{n})\n",
       "   core type: ExprTuple\n",
       "   sub-expressions: 8, 9, 10\n",
       "7. (1 / 2^{n / 2}, e^{(-(2 * pi * i * k * l)) / 2^{n}})\n",
       "   core type: ExprTuple\n",
       "   sub-expressions: 11, 12\n",
       "8. {n}_〈l|\n",
       "   core type: Operation\n",
       "   operator: 13\n",
       "   operands: 14\n",
       "9. FT^{dag}_{n}\n",
       "   core type: Operation\n",
       "   operator: 15\n",
       "   operand: 37\n",
       "10. |k〉_{n}\n",
       "    core type: Operation\n",
       "    operator: 17\n",
       "    operands: 18\n",
       "11. 1 / 2^{n / 2}\n",
       "    core type: Operation\n",
       "    operator: 30\n",
       "    operands: 19\n",
       "12. e^{(-(2 * pi * i * k * l)) / 2^{n}}\n",
       "    core type: Operation\n",
       "    operator: 34\n",
       "    operands: 20\n",
       "13. NUM_BRA\n",
       "    core type: Literal\n",
       "    sub-expressions: \n",
       "14. (l, n)\n",
       "    core type: ExprTuple\n",
       "    sub-expressions: 44, 37\n",
       "15. FT^{dag}\n",
       "    core type: Literal\n",
       "    sub-expressions: \n",
       "16. (n)\n",
       "    core type: ExprTuple\n",
       "    sub-expressions: 37\n",
       "17. NUM_KET\n",
       "    core type: Literal\n",
       "    sub-expressions: \n",
       "18. (k, n)\n",
       "    core type: ExprTuple\n",
       "    sub-expressions: 43, 37\n",
       "19. (1, 2^{n / 2})\n",
       "    core type: ExprTuple\n",
       "    sub-expressions: 21, 22\n",
       "20. (e, (-(2 * pi * i * k * l)) / 2^{n})\n",
       "    core type: ExprTuple\n",
       "    sub-expressions: 23, 24\n",
       "21. 1\n",
       "    core type: Literal\n",
       "    sub-expressions: \n",
       "22. 2^{n / 2}\n",
       "    core type: Operation\n",
       "    operator: 34\n",
       "    operands: 25\n",
       "23. e\n",
       "    core type: Literal\n",
       "    sub-expressions: \n",
       "24. (-(2 * pi * i * k * l)) / 2^{n}\n",
       "    core type: Operation\n",
       "    operator: 30\n",
       "    operands: 26\n",
       "25. (2, n / 2)\n",
       "    core type: ExprTuple\n",
       "    sub-expressions: 40, 27\n",
       "26. (-(2 * pi * i * k * l), 2^{n})\n",
       "    core type: ExprTuple\n",
       "    sub-expressions: 28, 29\n",
       "27. n / 2\n",
       "    core type: Operation\n",
       "    operator: 30\n",
       "    operands: 31\n",
       "28. -(2 * pi * i * k * l)\n",
       "    core type: Operation\n",
       "    operator: 32\n",
       "    operand: 36\n",
       "29. 2^{n}\n",
       "    core type: Operation\n",
       "    operator: 34\n",
       "    operands: 35\n",
       "30. /\n",
       "    core type: Literal\n",
       "    sub-expressions: \n",
       "31. (n, 2)\n",
       "    core type: ExprTuple\n",
       "    sub-expressions: 37, 40\n",
       "32. -\n",
       "    core type: Literal\n",
       "    sub-expressions: \n",
       "33. (2 * pi * i * k * l)\n",
       "    core type: ExprTuple\n",
       "    sub-expressions: 36\n",
       "34. Exp\n",
       "    core type: Literal\n",
       "    sub-expressions: \n",
       "35. (2, n)\n",
       "    core type: ExprTuple\n",
       "    sub-expressions: 40, 37\n",
       "36. 2 * pi * i * k * l\n",
       "    core type: Operation\n",
       "    operator: 38\n",
       "    operands: 39\n",
       "37. n\n",
       "    core type: Variable\n",
       "    sub-expressions: \n",
       "38. *\n",
       "    core type: Literal\n",
       "    sub-expressions: \n",
       "39. (2, pi, i, k, l)\n",
       "    core type: ExprTuple\n",
       "    sub-expressions: 40, 41, 42, 43, 44\n",
       "40. 2\n",
       "    core type: Literal\n",
       "    sub-expressions: \n",
       "41. pi\n",
       "    core type: Literal\n",
       "    sub-expressions: \n",
       "42. i\n",
       "    core type: Literal\n",
       "    sub-expressions: \n",
       "43. k\n",
       "    core type: Variable\n",
       "    sub-expressions: \n",
       "44. l\n",
       "    core type: Variable\n",
       "    sub-expressions: "
      ]
     },
     "metadata": {},
     "output_type": "display_data"
    }
   ],
   "source": [
    "# display the expression information\n",
    "stored_expr.expr_info()"
   ]
  },
  {
   "cell_type": "code",
   "execution_count": null,
   "metadata": {},
   "outputs": [],
   "source": []
  }
 ],
 "metadata": {
  "kernelspec": {
   "display_name": "Python 3",
   "language": "python",
   "name": "python3"
  }
 },
 "nbformat": 4,
 "nbformat_minor": 0
}