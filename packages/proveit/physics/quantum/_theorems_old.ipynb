{
 "cells": [
  {
   "cell_type": "code",
   "execution_count": null,
   "metadata": {},
   "outputs": [],
   "source": [
    "import proveit.special_statement_magic # for %begin_axioms and %end_axioms\n",
    "from proveit.expression import Operation\n",
    "from proveit.basiclogic import Forall, Equals, In, Implies, Iff, And\n",
    "from proveit.linalg import ScalarProd, TensorProd, TensorExp\n",
    "from proveit.physics.quantum import Bra, Ket, RegisterBra, RegisterKet, Meas, Circuit, Input, Output, Gate, MultiWire\n",
    "from proveit.physics.quantum.common import I, H, Hgate, CTRL_DN, WIRE_DN, WIRE_LINK, PASS, \\\n",
    "    QubitSpace, QubitRegisterSpace, RegisterSU, ket0, ket1, ket_plus, inv_root2\n",
    "from proveit.common import a, b, c, d, f, k, l, m, n, u, x, y, z, N, U, X, alpha, Psi, x_etc\n",
    "from proveit.numbers.common import zero, one, two\n",
    "from proveit.numbers import NaturalPos, Complex\n",
    "from proveit.numbers import fraction, Exponentiate, sqrt, Add, subtract, Abs, DiscreteContiguousSet, Summation, sqrt,\\\n",
    "    Multiply\n",
    "from proveit.statistics import Prob\n",
    "from proveit.linalg import ScalarProd, MatrixProd, SU"
   ]
  },
  {
   "cell_type": "code",
   "execution_count": null,
   "metadata": {},
   "outputs": [],
   "source": [
    "def controlled_ngate(a, b, x, y):\n",
    "    return Circuit([[Input(a), PASS, CTRL_DN, Output(b)],\n",
    "                    [Input(x), MultiWire(n), Gate(U), Output(y)]])"
   ]
  },
  {
   "cell_type": "code",
   "execution_count": null,
   "metadata": {},
   "outputs": [],
   "source": [
    "pregated_controlled_ngate = Circuit([[Input(a), Gate(u), CTRL_DN, Output(b)],\n",
    "                                   [Input(x), MultiWire(n), Gate(U), Output(y)]])\n",
    "pregated_controlled_ngate"
   ]
  },
  {
   "cell_type": "code",
   "execution_count": null,
   "metadata": {},
   "outputs": [],
   "source": [
    "pregated_controlled_ngate_with_merge = Circuit([[Input(c), MultiWire(k), PASS, WIRE_DN, PASS, PASS],\n",
    "                                            [Input(a), Gate(u), CTRL_DN, WIRE_LINK, MultiWire(Add(k, one)), Output(d)],\n",
    "                                            [Input(x), MultiWire(n), Gate(U), Output(y), PASS, PASS]])\n",
    "pregated_controlled_ngate_with_merge"
   ]
  },
  {
   "cell_type": "code",
   "execution_count": null,
   "metadata": {},
   "outputs": [],
   "source": [
    "%begin_theorems"
   ]
  },
  {
   "cell_type": "code",
   "execution_count": null,
   "metadata": {},
   "outputs": [],
   "source": [
    "# transferred Mon 2/24/2020 by wdc\n",
    "unitary_hadamard = In(H, SU(two))\n",
    "unitary_hadamard"
   ]
  },
  {
   "cell_type": "code",
   "execution_count": null,
   "metadata": {},
   "outputs": [],
   "source": [
    "# transferred Mon 2/24/2020 by wdc\n",
    "ket_plus_distributed = Equals(ket_plus, Add(ScalarProd(inv_root2, ket0), ScalarProd(inv_root2, ket1)))\n",
    "ket_plus_distributed"
   ]
  },
  {
   "cell_type": "code",
   "execution_count": null,
   "metadata": {},
   "outputs": [],
   "source": [
    "# transferred Mon 2/24/2020 by wdc\n",
    "scaled_qubit_state_in_qubit_space = Forall(x, Forall(alpha, In(ScalarProd(alpha, x), QubitSpace),\n",
    "                                               domain=Complex),\n",
    "                                      domain=QubitSpace)\n",
    "scaled_qubit_state_in_qubit_space"
   ]
  },
  {
   "cell_type": "code",
   "execution_count": null,
   "metadata": {},
   "outputs": [],
   "source": [
    "# transferred Mon 2/24/2020 by wdc\n",
    "transformed_qubit_state_in_qubit_space = Forall(x, Forall(U, In(MatrixProd(U, x), QubitSpace),\n",
    "                                                     domain=SU(two)),\n",
    "                                           domain=QubitSpace)\n",
    "transformed_qubit_state_in_qubit_space"
   ]
  },
  {
   "cell_type": "code",
   "execution_count": null,
   "metadata": {},
   "outputs": [],
   "source": [
    "# transferred Mon 2/24/2020 by wdc\n",
    "summed_qubit_state_in_qubit_space = Forall(x_etc, In(Add(x_etc), QubitSpace), domain=QubitSpace)\n",
    "summed_qubit_state_in_qubit_space"
   ]
  },
  {
   "cell_type": "code",
   "execution_count": null,
   "metadata": {},
   "outputs": [],
   "source": [
    "# transferred Tues 2/25/2020 by wdc\n",
    "scaled_qubit_register_state_in_qubit_register_space = Forall(n,\n",
    "                                                      Forall(x, \n",
    "                                                             Forall(alpha, \n",
    "                                                                    In(ScalarProd(alpha, x), QubitRegisterSpace(n)),\n",
    "                                                                    domain=Complex),\n",
    "                                                             domain=QubitRegisterSpace(n)),\n",
    "                                                      domain=NaturalPos)\n",
    "scaled_qubit_register_state_in_qubit_register_space"
   ]
  },
  {
   "cell_type": "code",
   "execution_count": null,
   "metadata": {},
   "outputs": [],
   "source": [
    "# transferred Tues 2/25/2020 by wdc\n",
    "register_ket_in_qubit_register_space = Forall(n, Forall(k, In(RegisterKet(k, n), QubitRegisterSpace(n)),\n",
    "                                                   domain = DiscreteContiguousSet(zero, subtract(Exponentiate(two, n), one))),\n",
    "                                         domain=NaturalPos)\n",
    "register_ket_in_qubit_register_space                               "
   ]
  },
  {
   "cell_type": "code",
   "execution_count": null,
   "metadata": {},
   "outputs": [],
   "source": [
    "# transferred Tues 2/25/2020 by wdc\n",
    "register_qubit_complex_amplitude = Forall(n, Forall(k, Forall(Psi,\n",
    "                                                           In(MatrixProd(RegisterBra(k, n), \n",
    "                                                                         Ket(Psi)),\n",
    "                                                             Complex),\n",
    "                                                          conditions = [In(Ket(Psi), QubitRegisterSpace(n))]),\n",
    "                                                 domain=DiscreteContiguousSet(zero, subtract(Exponentiate(two, n),\n",
    "                                                                                             one))),\n",
    "                                       domain=NaturalPos)\n",
    "register_qubit_complex_amplitude"
   ]
  },
  {
   "cell_type": "code",
   "execution_count": null,
   "metadata": {},
   "outputs": [],
   "source": [
    "# transferred Tues 2/25/2020 by wdc\n",
    "register_qubit_born_rule = Forall(n, Forall(k, Forall((Psi, m), \n",
    "                                                   Equals(Prob(Equals(m, k), m), \n",
    "                                                          Exponentiate(Abs(MatrixProd(RegisterBra(k, n), \n",
    "                                                                                      Ket(Psi))),\n",
    "                                                                      two)),\n",
    "                                                   conditions = [In(Ket(Psi), QubitRegisterSpace(n)),\n",
    "                                                                 Equals(m, Meas(Ket(Psi)))]),\n",
    "                                         domain=DiscreteContiguousSet(zero, subtract(Exponentiate(two, n), one))),\n",
    "                               domain=NaturalPos)\n",
    "register_qubit_born_rule                                     "
   ]
  },
  {
   "cell_type": "code",
   "execution_count": null,
   "metadata": {},
   "outputs": [],
   "source": [
    "# transferred Tues 2/25/2020 by wdc\n",
    "register_qubit_all_probs = Forall(n, Forall((Psi, m), \n",
    "                                         Equals(Summation(k, Prob(Equals(m, k), m), \n",
    "                                                          domain=DiscreteContiguousSet(zero, \n",
    "                                                                                       subtract(Exponentiate(two, n), \n",
    "                                                                                                one))),\n",
    "                                                one),\n",
    "                                         conditions = [In(Ket(Psi), QubitRegisterSpace(n)),\n",
    "                                                       Equals(m, Meas(Ket(Psi)))]),\n",
    "                               domain=NaturalPos)\n",
    "register_qubit_all_probs"
   ]
  },
  {
   "cell_type": "code",
   "execution_count": null,
   "metadata": {},
   "outputs": [],
   "source": [
    "# transferred Tues 2/25/2020 by wdc\n",
    "pregated_controlled_ngate_equiv = Forall(n, \n",
    "                                     Forall(U, \n",
    "                                            Forall(u,\n",
    "                                                   Forall((a, b),\n",
    "                                                          Forall((x, y),\n",
    "                                                                 Equals(pregated_controlled_ngate,\n",
    "                                                                        controlled_ngate(MatrixProd(u, a), b, x, y)),\n",
    "                                                                 domain=QubitRegisterSpace(n)),\n",
    "                                                          domain=QubitSpace),\n",
    "                                                   domain=SU(two)),\n",
    "                                            domain=RegisterSU(n)), \n",
    "                                        domain=NaturalPos)\n",
    "pregated_controlled_ngate_equiv"
   ]
  },
  {
   "cell_type": "code",
   "execution_count": null,
   "metadata": {},
   "outputs": [],
   "source": [
    "# transferred Tues 2/25/2020 by wdc\n",
    "controlled_ngate_equiv = Forall(n, \n",
    "                             Forall(U, \n",
    "                                    Forall((a, b, c),\n",
    "                                           Forall((x, y, z),\n",
    "                                                  Iff(Equals(controlled_ngate(a, b, x, y),\n",
    "                                                             controlled_ngate(a, c, x, z)),\n",
    "                                                      Equals(TensorProd(b, y), TensorProd(c, z))),\n",
    "                                                  domain=QubitRegisterSpace(n)),\n",
    "                                           domain=QubitSpace),\n",
    "                                    domain=RegisterSU(n)), \n",
    "                             domain=NaturalPos)\n",
    "controlled_ngate_equiv"
   ]
  },
  {
   "cell_type": "code",
   "execution_count": null,
   "metadata": {},
   "outputs": [],
   "source": [
    "# transferred Tues 2/25/2020 by wdc\n",
    "superposition_controlled_ngate = Forall(n, \n",
    "                             Forall(U, \n",
    "                                    Forall((a, b, c, d),\n",
    "                                           Forall((x, y),\n",
    "                                                  Implies(And(controlled_ngate(a, c, x, y),\n",
    "                                                              controlled_ngate(b, d, x, y)),\n",
    "                                                          controlled_ngate(Add(a, b), Add(c, d), x, y)),\n",
    "                                                  domain=QubitRegisterSpace(n)),\n",
    "                                           domain=QubitSpace),\n",
    "                                    domain=RegisterSU(n)), \n",
    "                             domain=NaturalPos)\n",
    "superposition_controlled_ngate"
   ]
  },
  {
   "cell_type": "code",
   "execution_count": null,
   "metadata": {},
   "outputs": [],
   "source": [
    "# transferred Tues 2/25/2020 by wdc\n",
    "pregated_controlled_ngate_merger = Forall((n, k), \n",
    "                                       Forall(U, \n",
    "                                              Forall(u,\n",
    "                                                     Forall((a, b),\n",
    "                                                            Forall(c,\n",
    "                                                                   Forall(d,\n",
    "                                                                          Forall((x, y),\n",
    "                                                                                 Implies(pregated_controlled_ngate,\n",
    "                                                                                         Implies(pregated_controlled_ngate_with_merge,\n",
    "                                                                                                 Equals(d, TensorProd(c, b)))),\n",
    "                                                                                 domain=QubitRegisterSpace(n)),\n",
    "                                                                          domain=QubitRegisterSpace(Add(k, one))),\n",
    "                                                                   domain=QubitRegisterSpace(k)),\n",
    "                                                          domain=QubitSpace),\n",
    "                                                   domain=SU(two)),\n",
    "                                            domain=RegisterSU(n)), \n",
    "                                        domain=NaturalPos)\n",
    "pregated_controlled_ngate_merger\n"
   ]
  },
  {
   "cell_type": "code",
   "execution_count": null,
   "metadata": {},
   "outputs": [],
   "source": [
    "# transferred Tues 2/25/2020 by wdc\n",
    "register_bra_over_summed_ket = Forall(n,\n",
    "                                  Forall(U, \n",
    "                                      Forall(l,\n",
    "                                        Forall(f, \n",
    "                                             Equals(MatrixProd(RegisterBra(l, n), \n",
    "                                                               MatrixProd(U, \n",
    "                                                                          Summation(k, ScalarProd(Operation(f, k), RegisterKet(k, n)),\n",
    "                                                                                    domain=DiscreteContiguousSet(zero, subtract(Exponentiate(two, n), one))))),\n",
    "                                                    Summation(k, Multiply(Operation(f, k), \n",
    "                                                                            MatrixProd(RegisterBra(l, n), U, RegisterKet(k, n))),\n",
    "                                                             domain=DiscreteContiguousSet(zero, subtract(Exponentiate(two, n), one))))),\n",
    "                                            domain=DiscreteContiguousSet(zero, subtract(Exponentiate(two, n), one))),\n",
    "                                         domain=SU(Exponentiate(two, n))),\n",
    "                                  domain=NaturalPos)\n",
    "register_bra_over_summed_ket"
   ]
  },
  {
   "cell_type": "code",
   "execution_count": null,
   "metadata": {},
   "outputs": [],
   "source": [
    "%end_theorems"
   ]
  },
  {
   "cell_type": "code",
   "execution_count": null,
   "metadata": {},
   "outputs": [],
   "source": []
  },
  {
   "cell_type": "code",
   "execution_count": null,
   "metadata": {},
   "outputs": [],
   "source": []
  }
 ],
 "metadata": {
  "kernelspec": {
   "display_name": "Python 3",
   "language": "python",
   "name": "python3"
  }
 },
 "nbformat": 4,
 "nbformat_minor": 0
}
