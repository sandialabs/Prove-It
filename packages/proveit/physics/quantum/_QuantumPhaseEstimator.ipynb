{
 "cells": [
  {
   "cell_type": "code",
   "execution_count": null,
   "metadata": {},
   "outputs": [],
   "source": [
    "from proveit.expression import Literal, Variable, Operation\n",
    "from proveit.multi_expression import Block\n",
    "from proveit.basiclogic import Forall, Equals\n",
    "from proveit.numbers.arithmetic_ops import subtract, Exponentiate\n",
    "from proveit.numbers.natural.decimal import ONE, TWO\n",
    "from circuit import Circuit, I, X, Y, H, CTRL_DN, CTRL_UPDN, TARGET\n",
    "from proveit.common import x, y, z, n"
   ]
  },
  {
   "cell_type": "code",
   "execution_count": null,
   "metadata": {},
   "outputs": [],
   "source": [
    "U = Variable('U')\n",
    "class QuantumPhaseEstimator(Operation):\n",
    "    def __init__(self, n, U):\n",
    "        Operation.__init__(self, QPE, [n, U])\n",
    "    def formatted(self, format_type, fence=False):\n",
    "        return QPE.formatted(format_type) + '_{' + self.operands[0].formatted(format_type) + ', ' + self.operands[1].formatted(format_type) +'}'\n",
    "QPE = Literal(__package__, 'QPE', operation_maker = lambda operands : QuantumPhaseEstimator(*operands))\n",
    "QuantumPhaseEstimatorDef = Forall((n, U), Equals(Circuit([[Block(QuantumPhaseEstimator(n, U))]]), Circuit([[H, CTRL_DN], [Block(QuantumPhaseEstimator(subtract(n, ONE), U)), Exponentiate(U, Exponentiate(TWO, subtract(n, ONE)))]])))\n",
    "QuantumPhaseEstimatorDef"
   ]
  },
  {
   "cell_type": "code",
   "execution_count": null,
   "metadata": {},
   "outputs": [],
   "source": [
    "QPE_nsub1 = QuantumPhaseEstimatorDef.instantiate({n:subtract(n, ONE)})\n",
    "QPE_nsub1"
   ]
  },
  {
   "cell_type": "code",
   "execution_count": null,
   "metadata": {},
   "outputs": [],
   "source": [
    "spec_q_p_edef = QuantumPhaseEstimatorDef.instantiate()\n",
    "spec_q_p_edef"
   ]
  },
  {
   "cell_type": "code",
   "execution_count": null,
   "metadata": {},
   "outputs": [],
   "source": [
    "blah = spec_q_p_edef.substitution(fn_expr=QPE_nsub1)\n",
    "blah"
   ]
  },
  {
   "cell_type": "code",
   "execution_count": null,
   "metadata": {},
   "outputs": [],
   "source": [
    "blah"
   ]
  },
  {
   "cell_type": "code",
   "execution_count": null,
   "metadata": {},
   "outputs": [],
   "source": [
    "eqn = Equals(x, Equals(y, z))\n",
    "eqn"
   ]
  },
  {
   "cell_type": "code",
   "execution_count": null,
   "metadata": {},
   "outputs": [],
   "source": [
    "eqn.substitution(fn_expr=Equals(Equals(y, z), Equals(z, y)))"
   ]
  },
  {
   "cell_type": "code",
   "execution_count": null,
   "metadata": {},
   "outputs": [],
   "source": [
    "fn_expr = Equals(Equals(y, z), Equals(z, y)).substituted({Equals(y, z): n})\n",
    "fn_expr"
   ]
  },
  {
   "cell_type": "code",
   "execution_count": null,
   "metadata": {},
   "outputs": [],
   "source": [
    "eqn.substitution(n, fn_expr)"
   ]
  },
  {
   "cell_type": "code",
   "execution_count": null,
   "metadata": {},
   "outputs": [],
   "source": []
  }
 ],
 "metadata": {
  "kernelspec": {
   "display_name": "Python 3",
   "language": "python",
   "name": "python3"
  }
 },
 "nbformat": 4,
 "nbformat_minor": 0
}
