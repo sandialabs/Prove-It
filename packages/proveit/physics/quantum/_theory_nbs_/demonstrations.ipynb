{
 "cells": [
  {
   "cell_type": "markdown",
   "metadata": {},
   "source": [
    "Demonstrations for the theory of <a class=\"ProveItLink\" href=\"theory.ipynb\">proveit.physics.quantum</a>\n",
    "========"
   ]
  },
  {
   "cell_type": "code",
   "execution_count": null,
   "metadata": {},
   "outputs": [],
   "source": [
    "import proveit\n",
    "#proveit.defaults.automation = False # prevents proveit from calling automations that are currently broken\n",
    "from proveit import ExprArray, ExprTuple, ExprRange, IndexedVar, var_range, Literal, ConditionalSet, Conditional, defaults\n",
    "from proveit import A, B, C, D, E, F, G, K, M, P, Q, R, S, U, a, b, f, g, h, i, j, k, m, n, p, q, r, s, t, u, x, y \n",
    "from proveit.core_expr_types import Len\n",
    "from proveit.core_expr_types.expr_arrays import Aij, Bij, Cij, Dij, Eij, Pij, Qij, Rij, Sij, D11_to_Dmn, S11_to_Smn\n",
    "from proveit.logic import Equals, NotEquals, Implies, InSet, Forall, And\n",
    "from proveit.logic.sets import Set\n",
    "\n",
    "from proveit.numbers import (Add, Neg, zero, one, two, three, four, five, six, seven, eight, nine, Natural, \n",
    "                            NaturalPos, Complex, Exp, subtract)\n",
    "from proveit.numbers.numerals.decimals import DecimalSequence\n",
    "from proveit.numbers.numerals.decimals import posnat1, posnat4\n",
    "from proveit.physics.quantum.circuit import Gate, Target, Circuit, Input, Output, MultiQubitGate, CircuitEquiv, MultiWire\n",
    "from proveit.physics.quantum import (H, X, Z, I, ket1, ket0, ket_plus, ket_minus, ket_psi, SPACE, CONTROL, \n",
    "                                              CLASSICAL_CONTROL, MEAS, SWAP)\n",
    "#from proveit.physics.quantum import single_time_equiv, time_equiv\n",
    "from proveit.physics.quantum.quantum_ops import Ket\n",
    "%begin demonstrations"
   ]
  },
  {
   "cell_type": "code",
   "execution_count": null,
   "metadata": {},
   "outputs": [],
   "source": [
    "ExprRange(i, Add(zero, i), one, n).with_expansion(3)"
   ]
  },
  {
   "cell_type": "code",
   "execution_count": null,
   "metadata": {},
   "outputs": [],
   "source": [
    "ExprRange(i, Add(zero, i), one, n).with_expansion(3).with_simplification()"
   ]
  },
  {
   "cell_type": "code",
   "execution_count": null,
   "metadata": {},
   "outputs": [],
   "source": [
    "expr = MultiQubitGate(MultiWire(k).with_implicit_style(), Set(one, two))"
   ]
  },
  {
   "cell_type": "code",
   "execution_count": null,
   "metadata": {},
   "outputs": [],
   "source": [
    "MultiQubitGate(MultiWire(k), Set(one, two))"
   ]
  },
  {
   "cell_type": "code",
   "execution_count": null,
   "metadata": {},
   "outputs": [],
   "source": [
    "ExprArray(ExprRange(j, ExprTuple(ExprRange(i, Aij, zero, n)), zero, m)) #default expansion is 1"
   ]
  },
  {
   "cell_type": "code",
   "execution_count": null,
   "metadata": {},
   "outputs": [],
   "source": [
    "ExprArray(ExprRange(j, ExprTuple(ExprRange(i, Aij, zero, n).with_expansion(3)), zero, m).with_expansion(1))"
   ]
  },
  {
   "cell_type": "code",
   "execution_count": null,
   "metadata": {},
   "outputs": [],
   "source": [
    "ExprArray(ExprRange(j, ExprTuple(ExprRange(i, Aij, zero, n).with_expansion(3)), zero, m).with_expansion(1)).with_styles(parameterization='explicit')"
   ]
  },
  {
   "cell_type": "code",
   "execution_count": null,
   "metadata": {},
   "outputs": [],
   "source": [
    "ExprArray(ExprRange(j, ExprTuple(ExprRange(i, Aij, zero, n).with_expansion(2)), zero, m).with_expansion(3))"
   ]
  },
  {
   "cell_type": "code",
   "execution_count": null,
   "metadata": {},
   "outputs": [],
   "source": [
    "ExprArray(ExprRange(j, ExprTuple(ExprRange(i, Aij, zero, n).with_expansion(2)), zero, m).with_expansion(3)).with_styles(parameterization='explicit')"
   ]
  },
  {
   "cell_type": "code",
   "execution_count": null,
   "metadata": {},
   "outputs": [],
   "source": [
    "#assert False"
   ]
  },
  {
   "cell_type": "code",
   "execution_count": null,
   "metadata": {},
   "outputs": [],
   "source": [
    "try:\n",
    "    Circuit(ExprArray(ExprTuple(Gate(Z), Gate(X), Output(ket_psi)),\n",
    "        ExprTuple(MultiWire(n), Gate(X), MultiWire(m))))\n",
    "    assert False, \"expected a ValueError\"\n",
    "except ValueError as e:\n",
    "    print(e)"
   ]
  },
  {
   "cell_type": "code",
   "execution_count": null,
   "metadata": {},
   "outputs": [],
   "source": [
    "Circuit(ExprArray(ExprTuple(MultiWire(n), Gate(X), MultiWire(n).with_implicit_style())))"
   ]
  },
  {
   "cell_type": "code",
   "execution_count": null,
   "metadata": {},
   "outputs": [],
   "source": [
    "try:\n",
    "    Circuit(ExprArray(ExprTuple(MultiWire(n), Gate(X), I)))\n",
    "    assert False, \"expected a ValueError\"\n",
    "except ValueError as e:\n",
    "    print(e)"
   ]
  },
  {
   "cell_type": "code",
   "execution_count": null,
   "metadata": {},
   "outputs": [],
   "source": [
    "#assert False"
   ]
  },
  {
   "cell_type": "code",
   "execution_count": null,
   "metadata": {},
   "outputs": [],
   "source": [
    "ExprRange(j, ExprRange(i, Aij, zero, n).with_expansion(1), zero, m).with_expansion(3)"
   ]
  },
  {
   "cell_type": "code",
   "execution_count": null,
   "metadata": {},
   "outputs": [],
   "source": [
    "ExprRange(j, ExprRange(i, Aij, zero, n).with_expansion(3), zero, m).with_expansion(3)"
   ]
  },
  {
   "cell_type": "code",
   "execution_count": null,
   "metadata": {},
   "outputs": [],
   "source": [
    "ExprRange(j, ExprRange(i, Aij, zero, n).with_expansion(3), zero, m).with_expansion(1)"
   ]
  },
  {
   "cell_type": "code",
   "execution_count": null,
   "metadata": {},
   "outputs": [],
   "source": [
    "try:\n",
    "    ExprArray(ExprRange(j, ExprRange(i, Aij, zero, n), zero, m))\n",
    "    assert False, \"Expected a ValueError error.\" \n",
    "except ValueError as e:\n",
    "    print(e)"
   ]
  },
  {
   "cell_type": "code",
   "execution_count": null,
   "metadata": {},
   "outputs": [],
   "source": [
    "#assert False"
   ]
  },
  {
   "cell_type": "code",
   "execution_count": null,
   "metadata": {},
   "outputs": [],
   "source": []
  },
  {
   "cell_type": "code",
   "execution_count": null,
   "metadata": {},
   "outputs": [],
   "source": [
    "# QPE circuit part 1\n",
    "ExprArray(ExprTuple(Input(Ket(u)), MultiWire(m), ExprRange(i, MultiQubitGate(Exp(U, Exp(two, i)), \n",
    "                                                                       Set(one, Add(i, two))), zero, subtract(t, one)\n",
    "                                                    ).with_expansion(3).with_simplification(), \n",
    "              Output(Ket(u))))"
   ]
  },
  {
   "cell_type": "code",
   "execution_count": null,
   "metadata": {},
   "outputs": [],
   "source": [
    "# QPE circuit part 2\n",
    "ExprArray(ExprRange(i, \n",
    "          ExprTuple(Input(Ket(u)), Gate(H), \n",
    "                    ExprRange(j, ConditionalSet(Conditional(MultiQubitGate(CONTROL, Set(one, Add(i, two))), Equals(i, j)), \n",
    "                                                Conditional(I, NotEquals(i, j))), zero, subtract(t, one)\n",
    "                             ).with_expansion(3).with_simplification(), \n",
    "                    Output(Ket(u))), \n",
    "          zero, subtract(t, one)).with_expansion(3).with_simplification())"
   ]
  },
  {
   "cell_type": "code",
   "execution_count": null,
   "metadata": {},
   "outputs": [],
   "source": [
    "# Full QPE circuit array\n",
    "QPE_Circuit_array = ExprArray(\n",
    "    \n",
    "    ExprTuple(Input(Ket(u)), MultiWire(m), ExprRange(i, MultiQubitGate(Exp(U, Exp(two, i)), \n",
    "                                                                       Set(one, Add(i, two))), zero, subtract(t, one)\n",
    "                                                    ).with_expansion(3).with_simplification(), \n",
    "              Output(Ket(u))),\n",
    "    ExprRange(i, \n",
    "          ExprTuple(Input(Ket(u)), Gate(H), \n",
    "                    ExprRange(j, ConditionalSet(Conditional(MultiQubitGate(CONTROL, Set(one, Add(i, two))), Equals(i, j)), \n",
    "                                                Conditional(I, NotEquals(i, j))), zero, subtract(t, one)\n",
    "                             ).with_expansion(3).with_simplification(), \n",
    "                    Output(Ket(u))), \n",
    "          zero, subtract(t, one)).with_expansion(3).with_simplification())"
   ]
  },
  {
   "cell_type": "code",
   "execution_count": null,
   "metadata": {},
   "outputs": [],
   "source": [
    "# testing to debug find_wires()\n",
    "QPE_Circuit = Circuit(ExprArray(\n",
    "    \n",
    "    ExprTuple(Input(Ket(u)), MultiWire(m), ExprRange(i, MultiQubitGate(Exp(U, Exp(two, i)), \n",
    "                                                                       Set(one, Add(i, two))), zero, subtract(t, one)\n",
    "                                                    ).with_expansion(3).with_simplification(), \n",
    "              Output(Ket(u))),\n",
    "    ExprRange(i, \n",
    "          ExprTuple(Input(Ket(u)), Gate(H), \n",
    "                    ExprRange(j, ConditionalSet(Conditional(MultiQubitGate(CONTROL, Set(one, Add(i, two))), Equals(i, j)), \n",
    "                                                Conditional(I, NotEquals(i, j))), zero, subtract(t, one)\n",
    "                             ).with_expansion(3).with_simplification(), \n",
    "                    Output(Ket(u))), \n",
    "          zero, subtract(t, one)).with_expansion(3).with_simplification()))._find_wires()"
   ]
  },
  {
   "cell_type": "code",
   "execution_count": null,
   "metadata": {},
   "outputs": [],
   "source": [
    "# WIP\n",
    "QPE_Circuit = Circuit(ExprArray(\n",
    "    \n",
    "    ExprTuple(Input(Ket(u)), MultiWire(m), ExprRange(i, MultiQubitGate(Exp(U, Exp(two, i)), \n",
    "                                                                       Set(one, Add(i, two))), zero, subtract(t, one)\n",
    "                                                    ).with_expansion(1).with_simplification(), \n",
    "              Output(Ket(u))),\n",
    "    ExprRange(i, \n",
    "          ExprTuple(Input(Ket(u)), Gate(H), \n",
    "                    ExprRange(j, ConditionalSet(Conditional(MultiQubitGate(CONTROL, Set(one, Add(i, two))), Equals(i, j)), \n",
    "                                                Conditional(I, NotEquals(i, j))), zero, subtract(t, one)\n",
    "                             ).with_expansion(1).with_simplification(), \n",
    "                    Output(Ket(u))), \n",
    "          zero, subtract(t, one)).with_expansion(1).with_simplification()))"
   ]
  },
  {
   "cell_type": "code",
   "execution_count": null,
   "metadata": {},
   "outputs": [],
   "source": [
    "#assert False"
   ]
  },
  {
   "cell_type": "code",
   "execution_count": null,
   "metadata": {},
   "outputs": [],
   "source": [
    "MultiWire(one)"
   ]
  },
  {
   "cell_type": "code",
   "execution_count": null,
   "metadata": {},
   "outputs": [],
   "source": [
    "Circuit(ExprArray(ExprTuple(Input(ket_psi), MultiWire(n), Output(ket_psi))))"
   ]
  },
  {
   "cell_type": "code",
   "execution_count": null,
   "metadata": {},
   "outputs": [],
   "source": [
    "Circuit(ExprArray(ExprTuple(Input(ket_psi), MultiWire(n), Gate(X), MultiWire(n).with_implicit_style(), Output(ket_psi))))"
   ]
  },
  {
   "cell_type": "code",
   "execution_count": null,
   "metadata": {},
   "outputs": [],
   "source": [
    "Circuit(ExprArray(ExprTuple(MultiQubitGate(SWAP, Set(one, two))),\n",
    "                  ExprTuple(MultiQubitGate(SWAP, Set(one, two)))))"
   ]
  },
  {
   "cell_type": "code",
   "execution_count": null,
   "metadata": {},
   "outputs": [],
   "source": [
    "# multigate block test\n",
    "Circuit(ExprArray(ExprTuple(Input(ket0), MultiQubitGate(CONTROL, Set(one, two, three, four, six, seven)), Output(ket0)), \n",
    "        ExprTuple(Input(ket0), MultiQubitGate(CONTROL, Set(one, two, three, four, six, seven)), \n",
    "                  Output(ket0)), \n",
    "        ExprTuple(Input(ket0), MultiQubitGate(Z, Set(one, two, three, four, six, seven)), Output(ket0)), \n",
    "        ExprTuple(Input(ket1), MultiQubitGate(X, Set(one, two, three, four, six, seven)), \n",
    "                  Output(ket1)),\n",
    "        ExprTuple(Input(ket0), I, Output(ket0)), \n",
    "        ExprTuple(Input(ket1), MultiQubitGate(X, Set(one, two, three, four, six, seven)), \n",
    "                  Output(ket1)),\n",
    "        ExprTuple(Input(ket1), MultiQubitGate(Z, Set(one, two, three, four, six, seven)), \n",
    "                  Output(ket1))))"
   ]
  },
  {
   "cell_type": "code",
   "execution_count": null,
   "metadata": {},
   "outputs": [],
   "source": [
    "# multigate block test\n",
    "Circuit(ExprArray(ExprTuple(Input(ket0), MultiQubitGate(CONTROL, Set(one, two, three)), Output(ket0)), \n",
    "        ExprTuple(Input(ket0), MultiQubitGate(CONTROL, Set(one, two, three)), \n",
    "                  Output(ket0)), \n",
    "        ExprTuple(Input(ket0), MultiQubitGate(Z, Set(one, two, three)), Output(ket0)), \n",
    "        ExprTuple(Input(ket1), MultiQubitGate(X, Set(four, six)).with_styles(representation='block'), \n",
    "                  Output(ket1)),\n",
    "        ExprTuple(Input(ket0), I, Output(ket0)), \n",
    "        ExprTuple(Input(ket1), MultiQubitGate(X, Set(four, six)).with_styles(representation='block'), \n",
    "                  Output(ket1)),\n",
    "        ExprTuple(Input(ket1), MultiQubitGate(Z, Set(seven)), \n",
    "                  Output(ket1))))"
   ]
  },
  {
   "cell_type": "code",
   "execution_count": null,
   "metadata": {},
   "outputs": [],
   "source": [
    "# multigate block test\n",
    "Circuit(ExprArray(ExprTuple(Input(ket0), MultiQubitGate(CONTROL, Set(one, two, three, four)).with_styles(representation='block'), Output(ket0)), \n",
    "        ExprTuple(Input(ket0), MultiQubitGate(Z, Set(one, two, three, four)).with_styles(representation='block'), \n",
    "                  Output(ket0)), \n",
    "        ExprTuple(Input(ket0), MultiQubitGate(Z, Set(one, two, three, four)).with_styles(representation='block'), Output(ket0)), \n",
    "        ExprTuple(Input(ket1), MultiQubitGate(Z, Set(one, two, three, four)).with_styles(representation='block'), \n",
    "                  Output(ket1))))"
   ]
  },
  {
   "cell_type": "code",
   "execution_count": null,
   "metadata": {},
   "outputs": [],
   "source": [
    "Circuit(ExprArray(ExprTuple(Input(ket_psi), MultiQubitGate(I.with_styles(representation='implicit'), Set(one, two))),\n",
    "                 ExprTuple(Input(ket_psi), MultiQubitGate(I.with_styles(representation='implicit'), Set(one, two)))))"
   ]
  },
  {
   "cell_type": "code",
   "execution_count": null,
   "metadata": {},
   "outputs": [],
   "source": [
    "Circuit(ExprArray(ExprTuple(MultiQubitGate(X, Set(one, two)).with_styles(representation='block')),\n",
    "                 ExprTuple(MultiQubitGate(X, Set(one, two)).with_styles(representation='block'))))"
   ]
  },
  {
   "cell_type": "code",
   "execution_count": null,
   "metadata": {},
   "outputs": [],
   "source": [
    "Circuit(ExprArray(ExprTuple(MultiQubitGate(X, Set(one, two)).with_styles(representation='implicit')),\n",
    "                 ExprTuple(MultiQubitGate(X, Set(one, two)))))"
   ]
  },
  {
   "cell_type": "code",
   "execution_count": null,
   "metadata": {},
   "outputs": [],
   "source": [
    "from proveit._core_.expression.style_options import StyleError\n",
    "try:\n",
    "    Circuit(ExprArray(ExprTuple(MultiQubitGate(X, Set(one, two))),\n",
    "                     ExprTuple(MultiQubitGate(X, Set(one, two)).with_styles(representation='block'))))\n",
    "    assert False, \"Expected a StyleError error.\"\n",
    "except StyleError as e:\n",
    "    print(e)"
   ]
  },
  {
   "cell_type": "code",
   "execution_count": null,
   "metadata": {},
   "outputs": [],
   "source": [
    "from proveit.physics.quantum import temporal_circuit_substitution\n",
    "temporal_circuit_substitution"
   ]
  },
  {
   "cell_type": "code",
   "execution_count": null,
   "metadata": {},
   "outputs": [],
   "source": [
    "temporal_circuit_substitution.instantiate({\n",
    "                                  g:one, h:two, k:one, m:one, n:one, \n",
    "                                  A:ExprTuple(Input(ket_psi)), B:ExprTuple(H, H), \n",
    "                                  C:ExprTuple(Output(ket_psi)), D:ExprTuple(I.with_styles(representation='implicit')), \n",
    "                                  P:ExprTuple(Set(one)), Q:ExprTuple(Set(one), Set(one)), \n",
    "                                  R:ExprTuple(Set(one)), S:ExprTuple(Set(one))}, assumptions=[])"
   ]
  },
  {
   "cell_type": "code",
   "execution_count": null,
   "metadata": {},
   "outputs": [],
   "source": [
    "temporal_circuit_substitution.instantiate({\n",
    "                                  g:one, h:one, k:one, m:two, n:one, \n",
    "                                  A:ExprTuple(Input(ket_psi), Input(ket_psi)), B:ExprTuple(CONTROL, Z), \n",
    "                                  C:ExprTuple(Output(ket_psi), Output(ket_psi)), D:ExprTuple(Z, CONTROL), \n",
    "                                  P:ExprTuple(Set(one), Set(one)), Q:ExprTuple(Set(one, two), Set(one, two)), \n",
    "                                  R:ExprTuple(Set(one), Set(one)), S:ExprTuple(Set(one, two), Set(one, two))}, assumptions=[])"
   ]
  },
  {
   "cell_type": "code",
   "execution_count": null,
   "metadata": {},
   "outputs": [],
   "source": [
    "temporal_circuit_substitution.instantiate({\n",
    "      g:one, h:one, k:one, m:three, n:four, \n",
    "      A:ExprTuple(Input(ket_psi), Input(ket_psi), Input(ket_psi)), \n",
    "      B:ExprTuple(CONTROL, I.with_styles(representation='implicit'), Z), \n",
    "      C:ExprTuple(Output(ket_psi), Output(ket_psi), Output(ket_psi)), \n",
    "      D:ExprTuple(CONTROL, I.with_styles(representation='implicit'), CONTROL, I.with_styles(representation='implicit'),\n",
    "                 Gate(X).with_styles(representation='implicit'), CONTROL, Gate(X).with_styles(representation='implicit'), CONTROL,\n",
    "                 I.with_styles(representation='implicit'), Gate(X).with_styles(representation='implicit'), I.with_styles(representation='implicit'), Gate(X).with_styles(representation='implicit')), \n",
    "      P:ExprTuple(Set(one), Set(one), Set(one)), Q:ExprTuple(Set(one, three), Set(two), Set(one, three)), \n",
    "      R:ExprTuple(Set(one), Set(one), Set(one)), S:ExprTuple(Set(one, two), Set(one), Set(one, two), Set(one),\n",
    "                                                   Set(one, two), Set(two, three), Set(one, two), Set(two, three),\n",
    "                                                   Set(three), Set(two, three), Set(three), Set(two, three))}, \n",
    "    assumptions=[])"
   ]
  },
  {
   "cell_type": "code",
   "execution_count": null,
   "metadata": {},
   "outputs": [],
   "source": [
    "Circuit(ExprArray(ExprTuple(Input(ket0), MultiQubitGate(I.with_styles(representation=\"implicit\"), Set(one, two)), Output(ket0)),\n",
    "                  ExprTuple(Input(ket0), MultiQubitGate(I.with_styles(representation=\"implicit\"), Set(one, two)), Output(ket0)))).with_styles(spacing=Circuit.DEFAULT_SPACING)"
   ]
  },
  {
   "cell_type": "code",
   "execution_count": null,
   "metadata": {},
   "outputs": [],
   "source": [
    "Circuit(ExprArray(ExprTuple(Input(ket0), MultiQubitGate(I, Set(one, two)), SPACE),\n",
    "                  ExprTuple(Input(ket0), MultiQubitGate(I, Set(one, two)), Output(ket0)))).with_styles(spacing='@C=3em @R=2.5em')"
   ]
  },
  {
   "cell_type": "code",
   "execution_count": null,
   "metadata": {},
   "outputs": [],
   "source": [
    "Circuit(ExprArray(ExprTuple(MultiQubitGate(Z, Set(one, four)).with_styles(representation='block')),\n",
    "                  ExprTuple(MultiQubitGate(H, Set(two, three)).with_styles(representation='block')),\n",
    "                  ExprTuple(MultiQubitGate(A, Set(two, three)).with_styles(representation='block')),\n",
    "                  ExprTuple(MultiQubitGate(A, Set(one, four)).with_styles(representation='block'))\n",
    "                 )\n",
    "                   )"
   ]
  },
  {
   "cell_type": "code",
   "execution_count": null,
   "metadata": {},
   "outputs": [],
   "source": [
    "Circuit(ExprArray(ExprTuple(MultiQubitGate(Z, Set(one, two)).with_styles(representation='block')),\n",
    "                  ExprTuple(MultiQubitGate(Z, Set(one, two)).with_styles(representation='block')),\n",
    "                  ExprTuple(MultiQubitGate(H, Set(three, four))),\n",
    "                  ExprTuple(MultiQubitGate(A, Set(three, four))),\n",
    "                  \n",
    "                 )\n",
    "                   )"
   ]
  },
  {
   "cell_type": "code",
   "execution_count": null,
   "metadata": {},
   "outputs": [],
   "source": [
    "Circuit(ExprArray(ExprTuple(Gate(H)),\n",
    "                  ExprTuple(Gate(Z)),\n",
    "                  ExprTuple(Gate(CONTROL))\n",
    "                 )\n",
    "                   )"
   ]
  },
  {
   "cell_type": "code",
   "execution_count": null,
   "metadata": {},
   "outputs": [],
   "source": [
    "Input(ket0)"
   ]
  },
  {
   "cell_type": "code",
   "execution_count": null,
   "metadata": {},
   "outputs": [],
   "source": [
    "MultiQubitGate(Input(U), A)"
   ]
  },
  {
   "cell_type": "code",
   "execution_count": null,
   "metadata": {},
   "outputs": [],
   "source": [
    "# Defining assumptions\n",
    "assumptions= CircuitEquiv(\n",
    "                    Circuit(ExprArray(ExprTuple(Gate(H), Gate(H)))),\n",
    "                    Circuit(ExprArray(ExprTuple(I.with_styles(representation='implicit'), I))))"
   ]
  },
  {
   "cell_type": "code",
   "execution_count": null,
   "metadata": {},
   "outputs": [],
   "source": [
    "from proveit.physics.quantum import temporal_circuit_substitution"
   ]
  },
  {
   "cell_type": "code",
   "execution_count": null,
   "metadata": {},
   "outputs": [],
   "source": [
    "temporal_circuit_substitution"
   ]
  },
  {
   "cell_type": "code",
   "execution_count": null,
   "metadata": {},
   "outputs": [],
   "source": [
    "MultiQubitGate(IndexedVar(C, [i,j]), IndexedVar(Q,[i,j]))"
   ]
  },
  {
   "cell_type": "code",
   "execution_count": null,
   "metadata": {},
   "outputs": [],
   "source": [
    "Circuit(ExprArray(ExprRange(i, ExprTuple(ExprRange(j, MultiQubitGate(Cij, Rij), one, n)), one, k)))"
   ]
  },
  {
   "cell_type": "code",
   "execution_count": null,
   "metadata": {},
   "outputs": [],
   "source": [
    "I"
   ]
  },
  {
   "cell_type": "code",
   "execution_count": null,
   "metadata": {},
   "outputs": [],
   "source": [
    "Len(ExprTuple(I.with_styles(representation='implicit'), I))"
   ]
  },
  {
   "cell_type": "code",
   "execution_count": null,
   "metadata": {},
   "outputs": [],
   "source": [
    "MultiQubitGate(I, Set(one))"
   ]
  },
  {
   "cell_type": "code",
   "execution_count": null,
   "metadata": {},
   "outputs": [],
   "source": [
    "ControlZ = Circuit(\n",
    "        ExprArray(\n",
    "            ExprTuple(MultiQubitGate(CONTROL, Set(one, two)).with_styles(representation='block'), I), \n",
    "            ExprTuple(MultiQubitGate(Z, Set(one, two)).with_styles(representation='block'), I)))"
   ]
  },
  {
   "cell_type": "code",
   "execution_count": null,
   "metadata": {},
   "outputs": [],
   "source": [
    "Reversed = Circuit(\n",
    "        ExprArray(\n",
    "            ExprTuple(MultiQubitGate(Z, Set(one, two)), I), \n",
    "            ExprTuple(MultiQubitGate(CONTROL, Set(one, two)), I)))"
   ]
  },
  {
   "cell_type": "code",
   "execution_count": null,
   "metadata": {},
   "outputs": [],
   "source": [
    "CircuitEquiv(\n",
    "    ControlZ,\n",
    "    Reversed\n",
    ")"
   ]
  },
  {
   "cell_type": "code",
   "execution_count": null,
   "metadata": {},
   "outputs": [],
   "source": [
    "# Null control\n",
    "Circuit(\n",
    "    ExprArray(\n",
    "        ExprTuple(Input(ket0), \n",
    "                  MultiQubitGate(CONTROL, \n",
    "                                 Set(one, two)).with_styles(representation='explicit'), \n",
    "                  Output(ket0)), \n",
    "        ExprTuple(Input(ket_psi), \n",
    "                  MultiQubitGate(U, Set(one, two)), \n",
    "                  Output(ket_psi))))"
   ]
  },
  {
   "cell_type": "code",
   "execution_count": null,
   "metadata": {},
   "outputs": [],
   "source": [
    "# Null Gates\n",
    "Circuit(\n",
    "    ExprArray(\n",
    "        ExprTuple(Input(ket_psi), Gate(Z), \n",
    "                  Gate(Z), Output(ket_psi)), \n",
    "        ExprTuple(Input(ket_psi), Gate(X), \n",
    "                  Gate(X), Output(ket_psi))))"
   ]
  },
  {
   "cell_type": "code",
   "execution_count": null,
   "metadata": {},
   "outputs": [],
   "source": [
    "Circuit(ExprArray(ExprTuple(Input(ket_psi), I, I, MultiQubitGate(CONTROL, Set(one, two)), \n",
    "                            Gate(H), MEAS, MultiQubitGate(CLASSICAL_CONTROL, Set(one, three)), SPACE),\n",
    "                 ExprTuple(Input(ket0), I, MultiQubitGate(X, Set(two, three)).with_styles(\n",
    "                                                                                             representation='implicit'),\n",
    "                           MultiQubitGate(X, Set(one, two)).with_styles(representation='implicit'), \n",
    "                           I, MultiQubitGate(Literal('MEAS'), Set(two, three)), SPACE, SPACE),\n",
    "                 ExprTuple(Input(ket0), Gate(H), MultiQubitGate(CONTROL, Set(two, three)), I, I, \n",
    "                           MultiQubitGate(X, Set(two, three)), MultiQubitGate(Z, Set(one, three)), Output(ket_psi)))\n",
    "       ).with_styles(spacing='@C=3em @R=2.5em')"
   ]
  },
  {
   "cell_type": "code",
   "execution_count": null,
   "metadata": {},
   "outputs": [],
   "source": [
    "from proveit.physics.quantum import single_time_equiv, temporal_circuit_equiv"
   ]
  },
  {
   "cell_type": "code",
   "execution_count": null,
   "metadata": {},
   "outputs": [],
   "source": [
    "temporal_circuit_equiv.instantiate({h:one, k:one, m:one, n:three, A:ExprTuple(Z), \n",
    "                        B: ExprTuple(H, X, H), C: ExprTuple(Z), D:ExprTuple(SPACE, X, SPACE), \n",
    "                        S:ExprTuple(Set(one), Set(one), Set(one)), R:ExprTuple(Set(one)), Q:ExprTuple(Set(one))})"
   ]
  },
  {
   "cell_type": "code",
   "execution_count": null,
   "metadata": {},
   "outputs": [],
   "source": [
    "# lhs = Circuit(ExprArray(ExprTuple(MultiQubitGate(CONTROL, Set(one, two)).with_styles(representation='explicit')), \n",
    "#         ExprTuple(MultiQubitGate(Z, Set(one, two)).with_styles(representation='explicit')), \n",
    "#         ExprTuple(MultiQubitGate(CONTROL, Set(three, four)).with_styles(representation='explicit')), \n",
    "#         ExprTuple(MultiQubitGate(Z, Set(three, four)).with_styles(representation='explicit'))))"
   ]
  },
  {
   "cell_type": "code",
   "execution_count": null,
   "metadata": {},
   "outputs": [],
   "source": [
    "# rhs = Circuit(ExprArray(ExprTuple(MultiQubitGate(CONTROL, Set(one, two))), \n",
    "#         ExprTuple(MultiQubitGate(Z, Set(one, two))), \n",
    "#         ExprTuple(MultiQubitGate(CONTROL, Set(three, four))), \n",
    "#         ExprTuple(MultiQubitGate(Z, Set(three, four)))))"
   ]
  },
  {
   "cell_type": "code",
   "execution_count": null,
   "metadata": {},
   "outputs": [],
   "source": [
    "# big = Circuit(ExprArray(ExprTuple(Gate(H), MultiQubitGate(CONTROL, Set(one, two)), Gate(X)), \n",
    "#         ExprTuple(Gate(H), MultiQubitGate(Z, Set(one, two)), \n",
    "#                   Gate(X)), \n",
    "#         ExprTuple(Gate(H), MultiQubitGate(CONTROL, Set(three, four)), Gate(X)), \n",
    "#         ExprTuple(Gate(H), MultiQubitGate(Z, Set(three, four)), \n",
    "#                   Gate(X))))"
   ]
  },
  {
   "cell_type": "code",
   "execution_count": null,
   "metadata": {},
   "outputs": [],
   "source": [
    "# big_left = Circuit(ExprArray(ExprTuple(Gate(H)), \n",
    "#         ExprTuple(Gate(H)), \n",
    "#         ExprTuple(Gate(H)), \n",
    "#         ExprTuple(Gate(H))))\n"
   ]
  },
  {
   "cell_type": "code",
   "execution_count": null,
   "metadata": {},
   "outputs": [],
   "source": [
    "# big_right = Circuit(ExprArray(ExprTuple(Gate(X)), \n",
    "#         ExprTuple(Gate(X)), \n",
    "#         ExprTuple(Gate(X)), \n",
    "#         ExprTuple(Gate(X))))"
   ]
  },
  {
   "cell_type": "code",
   "execution_count": null,
   "metadata": {},
   "outputs": [],
   "source": [
    "single_time_equiv"
   ]
  },
  {
   "cell_type": "code",
   "execution_count": null,
   "metadata": {},
   "outputs": [],
   "source": [
    "# # single variables, no ExprTuple, unflattened\n",
    "# single_time_equiv.instantiate({h: one, k: one, m: four, A: ExprTuple(H, H, H, H), B: ExprTuple(CONTROL, Z, CONTROL, Z), \n",
    "#                                C: ExprTuple(X, X, X, X), D: ExprTuple(CONTROL, Z, CONTROL, Z), \n",
    "#                               R: [Set(one), Set(two), Set(three), Set(four)], S:[Set(one, two), Set(one, two), Set(three, four), \n",
    "#                                                                   Set(three, four)], \n",
    "#                               Q: [Set(one), Set(two), Set(three), Set(four)]})"
   ]
  },
  {
   "cell_type": "code",
   "execution_count": null,
   "metadata": {},
   "outputs": [],
   "source": [
    "# # single variables, but flattened\n",
    "# single_time_equiv.instantiate({h: one, k: one, m: four, A: ExprTuple(H, H, H, H), \n",
    "#                               B: ExprTuple(MultiQubitGate(CONTROL, Set(one, two)), MultiQubitGate(Z, Set(one, two)), \n",
    "#                                            MultiQubitGate(CONTROL, Set(three, four)), MultiQubitGate(Z, Set(three, four))), \n",
    "#                               C: ExprTuple(X, X, X, X), \n",
    "#                               D: ExprTuple(MultiQubitGate(CONTROL, Set(one, two)), MultiQubitGate(Z, Set(one, two)), \n",
    "#                                            MultiQubitGate(CONTROL, Set(three, four)), MultiQubitGate(Z, Set(three, four))), \n",
    "#                               R: ExprTuple(Set(one), Set(two), Set(three), Set(four)), \n",
    "#                               S:ExprTuple(Set(one, two), Set(one, two), Set(three, four), Set(three, four)), \n",
    "#                               Q: ExprTuple(Set(one), Set(two), Set(three), Set(four))}, assumptions=[CircuitEquiv(lhs, rhs)])"
   ]
  },
  {
   "cell_type": "code",
   "execution_count": null,
   "metadata": {},
   "outputs": [],
   "source": [
    "single_time_equiv"
   ]
  },
  {
   "cell_type": "code",
   "execution_count": null,
   "metadata": {},
   "outputs": [],
   "source": [
    "# 3 by 4, subbing two controlled z gates\n",
    "single_time_equiv.instantiate({h: one, k: one, m: four, \n",
    "                              A: ExprTuple(H, H, H, H), \n",
    "                              B: ExprTuple(CONTROL, Z, CONTROL, Z), \n",
    "                              C: ExprTuple(X, X, X, X), \n",
    "                              D: ExprTuple(Z, CONTROL, Z, CONTROL), \n",
    "                              S: ExprTuple(Set(one, two), Set(one, two), Set(three, four), Set(three, four)), \n",
    "                              R: ExprTuple(Set(one), Set(two), Set(three), Set(four)), \n",
    "                              Q: ExprTuple(Set(one), Set(two), Set(three), Set(four))}, \n",
    "                             assumptions=[])\n"
   ]
  },
  {
   "cell_type": "code",
   "execution_count": null,
   "metadata": {},
   "outputs": [],
   "source": [
    "CircuitEquiv(\n",
    "                    Circuit(ExprArray(ExprTuple(ExprRange(j, MultiQubitGate(IndexedVar(B, j), Set(Add(m, one), Add(m, k, two))), one, n)),\n",
    "                            ExprTuple(ExprRange(j, MultiQubitGate(IndexedVar(D, j), Set(Add(m, one), Add(m, k, two))), one, n)))),\n",
    "                    Circuit(ExprArray(ExprTuple(ExprRange(j, MultiQubitGate(IndexedVar(F, j), Set(Add(m, one), Add(m, k, two))), one, n)),\n",
    "                            ExprTuple(ExprRange(j, MultiQubitGate(IndexedVar(G, j), Set(Add(m, one), Add(m, k, two))), one, n))))\n",
    "            ).lhs"
   ]
  },
  {
   "cell_type": "code",
   "execution_count": null,
   "metadata": {},
   "outputs": [],
   "source": [
    "ExprRange(i, ExprTuple(ExprRange(j, MultiQubitGate(Aij, Sij), one, n)), one, m).first().entries[0].first()"
   ]
  },
  {
   "cell_type": "code",
   "execution_count": null,
   "metadata": {},
   "outputs": [],
   "source": [
    "Circuit(ExprArray(ExprRange(i, ExprTuple(ExprRange(j, Gate(Aij), one, n)), one, m),\n",
    "                     ExprTuple(ExprRange(j, MultiQubitGate(IndexedVar(B, j), Set(Add(m, one), Add(m, k, two))), one, n)),\n",
    "        ExprRange(i, ExprTuple(ExprRange(j, MultiQubitGate(Cij, Rij), one, n)), one, k),\n",
    "                     ExprTuple(ExprRange(j, MultiQubitGate(IndexedVar(D, j), Set(Add(m, one), Add(m, k, two))), one, n)),\n",
    "        ExprRange(i, ExprTuple(ExprRange(j, Gate(Eij), one, n)), one, p)))"
   ]
  },
  {
   "cell_type": "code",
   "execution_count": null,
   "metadata": {},
   "outputs": [],
   "source": [
    "Circuit(ExprArray(ExprRange(i, ExprTuple(ExprRange(j, Gate(Aij), one, n)), one, m),\n",
    "                     ExprTuple(ExprRange(j, MultiQubitGate(IndexedVar(B, j), Set(Add(m, one), Add(m, k, two))), one, n)),\n",
    "        ExprRange(i, ExprTuple(ExprRange(j, MultiQubitGate(Cij, Rij), one, n)), one, k),\n",
    "                     ExprTuple(ExprRange(j, MultiQubitGate(IndexedVar(D, j), Set(Add(m, one), Add(m, k, two))), one, n)),\n",
    "        ExprRange(i, ExprTuple(ExprRange(j, Gate(Eij), one, n)), one, p)))"
   ]
  },
  {
   "cell_type": "code",
   "execution_count": null,
   "metadata": {},
   "outputs": [],
   "source": [
    "Circuit(ExprArray(ExprRange(i, ExprTuple(ExprRange(j, MultiQubitGate(Aij, Sij), one, n)), one, m),\n",
    "                     ExprTuple(ExprRange(j, MultiQubitGate(IndexedVar(B, j), Set(Add(m, one), Add(m, k, two))), one, n)),\n",
    "        ExprRange(i, ExprTuple(ExprRange(j, MultiQubitGate(Cij, Rij), one, n)), one, k),\n",
    "                     ExprTuple(ExprRange(j, MultiQubitGate(IndexedVar(D, j), Set(Add(m, one), Add(m, k, two))), one, n)),\n",
    "        ExprRange(i, ExprTuple(ExprRange(j, MultiQubitGate(Eij, Qij), one, n)), one, p)))"
   ]
  },
  {
   "cell_type": "code",
   "execution_count": null,
   "metadata": {},
   "outputs": [],
   "source": [
    "Circuit(ExprArray(ExprRange(i, ExprTuple(ExprRange(j, MultiQubitGate(Aij, Sij), one, n)), one, m),\n",
    "                     ExprTuple(ExprRange(j, MultiQubitGate(IndexedVar(B, j), Set(two, four)), one, n)),\n",
    "        ExprRange(i, ExprTuple(ExprRange(j, MultiQubitGate(Cij, Rij), one, n)), one, k),\n",
    "                     ExprTuple(ExprRange(j, MultiQubitGate(IndexedVar(D, j), Set(two, five)), one, n)),\n",
    "        ExprRange(i, ExprTuple(ExprRange(j, MultiQubitGate(Eij, Qij), one, n)), one, p)))"
   ]
  },
  {
   "cell_type": "code",
   "execution_count": null,
   "metadata": {},
   "outputs": [],
   "source": [
    "Circuit(ExprArray(ExprTuple(Gate(X), Output(ket0), Input(ket0), Gate(H)))).latex()"
   ]
  },
  {
   "cell_type": "code",
   "execution_count": null,
   "metadata": {},
   "outputs": [],
   "source": [
    "Circuit(ExprArray(ExprTuple(Input(ket0), Gate(H), MultiQubitGate(X, Set(one, three)), Gate(H), Output(ket_plus)), \n",
    "        ExprTuple(Input(ket1), MultiQubitGate(H, Set(two, three)).with_styles(representation='block'), MultiQubitGate(H, Set(two)), Gate(X), Output(ket_minus)),\n",
    "       ExprTuple(Input(ket1), MultiQubitGate(H, Set(two, three)).with_styles(representation='block'), MultiQubitGate(X, Set(one, three)), Gate(X), Output(ket_minus))))"
   ]
  },
  {
   "cell_type": "code",
   "execution_count": null,
   "metadata": {},
   "outputs": [],
   "source": [
    "Circuit(ExprArray(ExprTuple(ExprRange(j, Gate(IndexedVar(B, j)), one, n))))"
   ]
  },
  {
   "cell_type": "code",
   "execution_count": null,
   "metadata": {},
   "outputs": [],
   "source": [
    "CircuitEquiv(\n",
    "                    Circuit(ExprArray(ExprTuple(ExprRange(j, Gate(IndexedVar(B, j)), one, n)))),\n",
    "                    Circuit(ExprArray(ExprTuple(ExprRange(j, Gate(IndexedVar(D, j)), one, n)))))"
   ]
  },
  {
   "cell_type": "code",
   "execution_count": null,
   "metadata": {},
   "outputs": [],
   "source": [
    "Circuit(ExprArray(ExprRange(i, ExprTuple(ExprRange(j, MultiQubitGate(Aij, Sij), one, n)), one, m),\n",
    "                            ExprTuple(ExprRange(j, Gate(IndexedVar(B, j)), one, n)),\n",
    "                            ExprRange(i, ExprTuple(ExprRange(j, MultiQubitGate(Cij, Rij), one, n)), one, k)))"
   ]
  },
  {
   "cell_type": "code",
   "execution_count": null,
   "metadata": {},
   "outputs": [],
   "source": [
    "CircuitEquiv(\n",
    "                    Circuit(ExprArray(ExprRange(i, ExprTuple(ExprRange(j, MultiQubitGate(Aij, Sij), one, n)), one, m),\n",
    "                            ExprTuple(ExprRange(j, Gate(IndexedVar(B, j)), one, n)),\n",
    "                            ExprRange(i, ExprTuple(ExprRange(j, MultiQubitGate(Cij, Rij), one, n)), one, k))),\n",
    "                    Circuit(ExprArray(ExprRange(i, ExprTuple(ExprRange(j, MultiQubitGate(Aij, Sij), one, n)), one, m),\n",
    "                            ExprTuple(ExprRange(j, Gate(IndexedVar(D, j)), one, n)),\n",
    "                            ExprRange(i, ExprTuple(ExprRange(j, MultiQubitGate(Cij, Rij), one, n)), one, k)))\n",
    "            )"
   ]
  },
  {
   "cell_type": "code",
   "execution_count": null,
   "metadata": {},
   "outputs": [],
   "source": [
    "Circuit(ExprArray(ExprRange(i, ExprTuple(ExprRange(j, MultiQubitGate(Aij, Rij), one, k), \n",
    "                                            MultiQubitGate(IndexedVar(B, i), IndexedVar(S, i)),\n",
    "                               ExprRange(j, MultiQubitGate(Cij, Qij), one, h)), \n",
    "                                    one, m)))"
   ]
  },
  {
   "cell_type": "code",
   "execution_count": null,
   "metadata": {},
   "outputs": [],
   "source": [
    "Circuit(ExprArray(ExprTuple(Input(ket0), Gate(H), Output(ket_plus)), \n",
    "        ExprTuple(Input(ket1), MultiQubitGate(H, Set(two)), Output(ket_minus))))\n",
    "# MultiQubitGate of a single gate - automatic equality reductions. "
   ]
  },
  {
   "cell_type": "code",
   "execution_count": null,
   "metadata": {},
   "outputs": [],
   "source": [
    "Circuit(ExprArray(ExprTuple(Input(ket0), I, Output(ket_plus)), \n",
    "        ExprTuple(Input(ket1), Gate(), Output(ket_minus))))\n",
    "# Empty gate reduction"
   ]
  },
  {
   "cell_type": "code",
   "execution_count": null,
   "metadata": {},
   "outputs": [],
   "source": [
    "# Single Qubit Gates"
   ]
  },
  {
   "cell_type": "code",
   "execution_count": null,
   "metadata": {},
   "outputs": [],
   "source": [
    "Circuit(ExprArray(ExprTuple(Input(ket0), Gate(H), Output(ket_plus)), \n",
    "        ExprTuple(Input(ket1), Gate(H), Output(ket_minus))))\n",
    "# H gate (both inputs)"
   ]
  },
  {
   "cell_type": "code",
   "execution_count": null,
   "metadata": {},
   "outputs": [],
   "source": [
    "Circuit(ExprArray(ExprTuple(Input(ket0), Gate(X), Output(ket1)), \n",
    "        ExprTuple(Input(ket1), Gate(X), Output(ket0))))\n",
    "# X gate (both inputs)"
   ]
  },
  {
   "cell_type": "code",
   "execution_count": null,
   "metadata": {},
   "outputs": [],
   "source": [
    "Circuit(ExprArray(ExprTuple(Input(ket0), Gate(Z), Output(ket0)), \n",
    "        ExprTuple(Input(ket1), Gate(Z), Output(Neg(ket1)))))\n",
    "# Z gate (both inputs)"
   ]
  },
  {
   "cell_type": "code",
   "execution_count": null,
   "metadata": {},
   "outputs": [],
   "source": [
    "#Two Qubit Gates"
   ]
  },
  {
   "cell_type": "code",
   "execution_count": null,
   "metadata": {},
   "outputs": [],
   "source": [
    "Circuit(ExprArray(ExprTuple(Input(ket0), MultiQubitGate(CONTROL, Set(one, two)).with_styles(representation='explicit'), \n",
    "                            Output(ket0)), \n",
    "        ExprTuple(Input(ket0), MultiQubitGate(Z, Set(one, two)).with_styles(representation='explicit'), \n",
    "                  Output(ket0)), \n",
    "        ExprTuple(Input(ket0), MultiQubitGate(CONTROL, Set(three, four)).with_styles(representation='explicit'), Output(ket0)), \n",
    "        ExprTuple(Input(ket1), MultiQubitGate(Z, Set(three, four)).with_styles(representation='explicit'), \n",
    "                  Output(ket1))))\n",
    "#CZ gate - 0 qubit control for 1 and 0 qubit inputs"
   ]
  },
  {
   "cell_type": "code",
   "execution_count": null,
   "metadata": {},
   "outputs": [],
   "source": [
    "Circuit(ExprArray(ExprTuple(Input(ket1), MultiQubitGate(CONTROL, Set(one, two)), Output(ket1)), \n",
    "        ExprTuple(Input(ket0), MultiQubitGate(Z, Set(one, two)), \n",
    "                  Output(ket0)), \n",
    "        ExprTuple(Input(ket1), MultiQubitGate(CONTROL, Set(three, four)), Output(ket1)), \n",
    "        ExprTuple(Input(ket1), MultiQubitGate(Z, Set(three, four)), \n",
    "                  Output(Neg(ket1))))) \n",
    "#CZ gate - 1 qubit control for 1 and 0 qubit inputs"
   ]
  },
  {
   "cell_type": "code",
   "execution_count": null,
   "metadata": {},
   "outputs": [],
   "source": [
    "Circuit(ExprArray(ExprTuple(Input(ket0), MultiQubitGate(CONTROL, Set(one, two)), Output(ket0)), \n",
    "        ExprTuple(Input(ket0), MultiQubitGate(X, Set(one, two)).with_styles(representation='explicit'), Output(ket0)), \n",
    "        ExprTuple(Input(ket0), MultiQubitGate(CONTROL, Set(three, four)), Output(ket0)), \n",
    "        ExprTuple(Input(ket1), MultiQubitGate(X, Set(three, four)), Output(ket1)))) \n",
    "#CX gate - 0 qubit control for 1 and 0 qubit inputs"
   ]
  },
  {
   "cell_type": "code",
   "execution_count": null,
   "metadata": {},
   "outputs": [],
   "source": [
    "Circuit(ExprArray(ExprTuple(Input(ket1), MultiQubitGate(CONTROL, Set(one, two)), Output(ket1)), \n",
    "        ExprTuple(Input(ket0), MultiQubitGate(X, Set(one, two)), Output(ket1)), \n",
    "        ExprTuple(Input(ket1), MultiQubitGate(CONTROL, Set(three, four)), Output(ket1)), \n",
    "        ExprTuple(Input(ket1), MultiQubitGate(X, Set(three, four)), Output(ket0)))) \n",
    "#CX gate - 1 qubit control for 1 and 0 qubit inputs"
   ]
  },
  {
   "cell_type": "code",
   "execution_count": null,
   "metadata": {},
   "outputs": [],
   "source": [
    "Circuit(ExprArray(ExprTuple(Input(zero), MultiQubitGate(CLASSICAL_CONTROL, Set(one, two)), SPACE), \n",
    "        ExprTuple(Input(ket0), MultiQubitGate(Z, Set(one, two)), \n",
    "                  Output(ket0)), \n",
    "        ExprTuple(Input(zero), MultiQubitGate(CLASSICAL_CONTROL, Set(three, four)), SPACE), \n",
    "        ExprTuple(Input(ket1), MultiQubitGate(Z, Set(three, four)), \n",
    "                  Output(ket1)))) \n",
    "#cZ gate - 0 classical bit control for 1 and 0 qubit inputs"
   ]
  },
  {
   "cell_type": "code",
   "execution_count": null,
   "metadata": {},
   "outputs": [],
   "source": [
    "Circuit(ExprArray(ExprTuple(Input(one), MultiQubitGate(CLASSICAL_CONTROL, Set(one, two)), SPACE), \n",
    "        ExprTuple(Input(ket0), MultiQubitGate(Z, Set(one, two)), \n",
    "                  Output(ket0)), \n",
    "        ExprTuple(Input(one), MultiQubitGate(CLASSICAL_CONTROL, Set(three, four)), SPACE), \n",
    "        ExprTuple(Input(ket1), MultiQubitGate(Z, Set(three, four)), \n",
    "                  Output(Neg(ket1)))))\n",
    "#cZ gate - 1 classical bit control for 1 and 0 qubit inputs"
   ]
  },
  {
   "cell_type": "code",
   "execution_count": null,
   "metadata": {},
   "outputs": [],
   "source": [
    "Circuit(ExprArray(ExprTuple(Input(zero), MultiQubitGate(CLASSICAL_CONTROL, Set(one, two)), SPACE), \n",
    "        ExprTuple(Input(ket0), MultiQubitGate(X, Set(one, two)), \n",
    "                  Output(ket0)), \n",
    "        ExprTuple(Input(zero), MultiQubitGate(CLASSICAL_CONTROL, Set(three, four)), SPACE), \n",
    "        ExprTuple(Input(ket1), MultiQubitGate(X, Set(three, four)), \n",
    "                  Output(ket1)))) \n",
    "#cX gate - 0 classical bit control for 1 and 0 qubit inputs"
   ]
  },
  {
   "cell_type": "code",
   "execution_count": null,
   "metadata": {},
   "outputs": [],
   "source": [
    "Circuit(ExprArray(ExprTuple(Input(one), MultiQubitGate(CLASSICAL_CONTROL, Set(one, two)), SPACE), \n",
    "        ExprTuple(Input(ket0), MultiQubitGate(X, Set(one, two)), \n",
    "                  Output(ket1)), \n",
    "        ExprTuple(Input(one), MultiQubitGate(CLASSICAL_CONTROL, Set(three, four)), SPACE), \n",
    "        ExprTuple(Input(ket1), MultiQubitGate(X, Set(three, four)), \n",
    "                  Output(ket0))))\n",
    "#cX gate - 1 classical bit control for 1 and 0 qubit inputs"
   ]
  },
  {
   "cell_type": "code",
   "execution_count": null,
   "metadata": {},
   "outputs": [],
   "source": [
    "#NULL GATES"
   ]
  },
  {
   "cell_type": "code",
   "execution_count": null,
   "metadata": {},
   "outputs": [],
   "source": [
    "Circuit(ExprArray(ExprTuple(Input(ket0), Gate(H), Gate(H), Output(ket0)), \n",
    "        ExprTuple(Input(ket1), Gate(H), Gate(H), Output(ket1))))"
   ]
  },
  {
   "cell_type": "code",
   "execution_count": null,
   "metadata": {},
   "outputs": [],
   "source": [
    "Circuit(ExprArray(ExprTuple(Input(ket0), Gate(X), Gate(X), Output(ket0)), \n",
    "        ExprTuple(Input(ket1), Gate(X), Gate(X), Output(ket1))))"
   ]
  },
  {
   "cell_type": "code",
   "execution_count": null,
   "metadata": {},
   "outputs": [],
   "source": [
    "Circuit(ExprArray(ExprTuple(Input(ket0), Gate(Z), Gate(Z), Output(ket0)), \n",
    "        ExprTuple(Input(ket1), Gate(Z), Gate(Z), Output(ket1))))"
   ]
  },
  {
   "cell_type": "code",
   "execution_count": null,
   "metadata": {},
   "outputs": [],
   "source": [
    "Circuit(ExprArray(ExprTuple(Input(ket0), MultiQubitGate(CONTROL, Set(one, two)), MultiQubitGate(CONTROL, Set(one, two)), \n",
    "                  Output(ket0)), \n",
    "        ExprTuple(Input(ket0), MultiQubitGate(Z, Set(one, two)), MultiQubitGate(Z, Set(one, two)), Output(ket0)), \n",
    "        ExprTuple(Input(ket0), MultiQubitGate(CONTROL, Set(three, four)), MultiQubitGate(CONTROL, Set(three, four)), \n",
    "                  Output(ket0)), \n",
    "        ExprTuple(Input(ket1), MultiQubitGate(Z, Set(three, four)), MultiQubitGate(Z, Set(three, four)), \n",
    "                  Output(ket1)),\n",
    "        ExprTuple(Input(ket1), MultiQubitGate(CONTROL, Set(five, six)), MultiQubitGate(CONTROL, Set(five, six)),\n",
    "                  Output(ket1)),\n",
    "        ExprTuple(Input(ket0), MultiQubitGate(Z, Set(five, six)), MultiQubitGate(Z, Set(five, six)),\n",
    "                  Output(ket0)),\n",
    "        ExprTuple(Input(ket1), MultiQubitGate(CONTROL, Set(seven, eight)), MultiQubitGate(CONTROL, Set(seven, eight)), \n",
    "                  Output(ket1)), \n",
    "        ExprTuple(Input(ket1), MultiQubitGate(Z, Set(seven, eight)), MultiQubitGate(Z, Set(seven, eight)), \n",
    "                  Output(ket1)))) \n",
    "# Double CZ gate"
   ]
  },
  {
   "cell_type": "code",
   "execution_count": null,
   "metadata": {},
   "outputs": [],
   "source": [
    "Circuit(ExprArray(ExprTuple(Input(ket0), MultiQubitGate(CONTROL, Set(one, two)), MultiQubitGate(CONTROL, Set(one, two)), \n",
    "                  Output(ket0)), \n",
    "        ExprTuple(Input(ket0), MultiQubitGate(X, Set(one, two)), MultiQubitGate(X, Set(one, two)), Output(ket0)), \n",
    "        ExprTuple(Input(ket0), MultiQubitGate(CONTROL, Set(three, four)), MultiQubitGate(CONTROL, Set(three, four)), \n",
    "                  Output(ket0)), \n",
    "        ExprTuple(Input(ket1), MultiQubitGate(X, Set(three, four)), MultiQubitGate(X, Set(three, four)), \n",
    "                  Output(ket1)),\n",
    "        ExprTuple(Input(ket1), MultiQubitGate(CONTROL, Set(five, six)), MultiQubitGate(CONTROL, Set(five, six)),\n",
    "                  Output(ket1)),\n",
    "        ExprTuple(Input(ket0), MultiQubitGate(X, Set(five, six)), MultiQubitGate(X, Set(five, six)),\n",
    "                  Output(ket0)),\n",
    "        ExprTuple(Input(ket1), MultiQubitGate(CONTROL, Set(seven, eight)), MultiQubitGate(CONTROL, Set(seven, eight)), \n",
    "                  Output(ket1)), \n",
    "        ExprTuple(Input(ket1), MultiQubitGate(X, Set(seven, eight)), MultiQubitGate(X, Set(seven, eight)), \n",
    "                  Output(ket1)))) \n",
    "# Double CX gate"
   ]
  },
  {
   "cell_type": "code",
   "execution_count": null,
   "metadata": {},
   "outputs": [],
   "source": [
    "Circuit(ExprArray(ExprTuple(Input(ket0), MultiQubitGate(CONTROL, Set(one, two)), Output(ket0)), \n",
    "        ExprTuple(Input(ket0), MultiQubitGate(U, Set(one, two)), \n",
    "                  Output(ket0)), \n",
    "        ExprTuple(Input(ket0), MultiQubitGate(CONTROL, Set(three, four)), Output(ket0)), \n",
    "        ExprTuple(Input(ket1), MultiQubitGate(U, Set(three, four)), \n",
    "                  Output(ket1)))) \n",
    "#CU gate - 0 classical bit control for 1 and 0 qubit inputs (Always null regardless of what U is)"
   ]
  },
  {
   "cell_type": "code",
   "execution_count": null,
   "metadata": {},
   "outputs": [],
   "source": [
    "# CONGRUENCIES"
   ]
  },
  {
   "cell_type": "code",
   "execution_count": null,
   "metadata": {},
   "outputs": [],
   "source": [
    "Circuit(ExprArray(\n",
    "    ExprTuple(Input(ket0), MultiQubitGate(Z, Set(one, two)), Output(ket0)), \n",
    "    ExprTuple(Input(ket0), MultiQubitGate(CONTROL, Set(one, two)), \n",
    "              Output(ket0)), \n",
    "    ExprTuple(Input(ket0), MultiQubitGate(Z, Set(three, four)), Output(ket0)), \n",
    "    ExprTuple(Input(ket1), MultiQubitGate(CONTROL, Set(three, four)), \n",
    "                Output(ket1)),\n",
    "    ExprTuple(Input(ket1), MultiQubitGate(Z, Set(five, six)), Output(ket1)), \n",
    "    ExprTuple(Input(ket0), MultiQubitGate(CONTROL, Set(five, six)), \n",
    "              Output(ket0)), \n",
    "    ExprTuple(Input(ket1), MultiQubitGate(Z, Set(seven, eight)), Output(Neg(ket1))), \n",
    "    ExprTuple(Input(ket1), MultiQubitGate(CONTROL, Set(seven, eight)), \n",
    "              Output(ket1))))\n",
    "\n",
    "#Congruent to a regular CZ gate"
   ]
  },
  {
   "cell_type": "code",
   "execution_count": null,
   "metadata": {},
   "outputs": [],
   "source": [
    "Circuit(ExprArray(\n",
    "        ExprTuple(Input(ket0), I, MultiQubitGate(CONTROL, Set(one, two)), I, Output(ket0)), \n",
    "        ExprTuple(Input(ket0), Gate(H), MultiQubitGate(Z, Set(one, two)), Gate(H), Output(ket0)),\n",
    "        ExprTuple(Input(ket0), I, MultiQubitGate(CONTROL, Set(three, four)), I, Output(ket0)), \n",
    "        ExprTuple(Input(ket1), Gate(H), MultiQubitGate(Z, Set(three, four)), Gate(H), Output(ket1)),\n",
    "        ExprTuple(Input(ket1), I, MultiQubitGate(CONTROL, Set(five, six)), I, Output(ket1)), \n",
    "        ExprTuple(Input(ket0), Gate(H), MultiQubitGate(Z, Set(five, six)), Gate(H), Output(ket1)),\n",
    "        ExprTuple(Input(ket1), I, MultiQubitGate(CONTROL, Set(seven, eight)), I, Output(ket1)), \n",
    "        ExprTuple(Input(ket1), Gate(H), MultiQubitGate(Z, Set(seven, eight)), Gate(H), Output(ket0))))\n",
    "# Congruent to a CX gate"
   ]
  },
  {
   "cell_type": "code",
   "execution_count": null,
   "metadata": {},
   "outputs": [],
   "source": [
    "Circuit(ExprArray(ExprTuple(Input(ket0), Gate(H), MultiQubitGate(CONTROL, Set(one, two)), Gate(H), Output(ket0)), \n",
    "        ExprTuple(Input(ket0), Gate(H), MultiQubitGate(Z, Set(one, two)), Gate(H), Output(ket0)),\n",
    "        ExprTuple(Input(ket0), Gate(H), MultiQubitGate(CONTROL, Set(three, four)), Gate(H), Output(ket0)), \n",
    "        ExprTuple(Input(ket1), Gate(H), MultiQubitGate(Z, Set(three, four)), Gate(H), Output(ket1)),\n",
    "        ExprTuple(Input(ket1), Gate(H), MultiQubitGate(CONTROL, Set(five, six)), Gate(H), Output(ket1)), \n",
    "        ExprTuple(Input(ket0), Gate(H), MultiQubitGate(Z, Set(five, six)), Gate(H), Output(ket1)),\n",
    "        ExprTuple(Input(ket1), Gate(H), MultiQubitGate(CONTROL, Set(seven, eight)), Gate(H), Output(ket1)), \n",
    "        ExprTuple(Input(ket1), Gate(H), MultiQubitGate(Z, Set(seven, eight)), Gate(H), Output(ket0))))\n",
    "# Intermediate step to show the congruence of a switched CX gate"
   ]
  },
  {
   "cell_type": "code",
   "execution_count": null,
   "metadata": {},
   "outputs": [],
   "source": [
    "Circuit(ExprArray(ExprTuple(Input(ket0), Gate(H), MultiQubitGate(Z, Set(one, two)), Gate(H), Output(ket0)), \n",
    "        ExprTuple(Input(ket0), Gate(H), MultiQubitGate(CONTROL, Set(one, two)), Gate(H), Output(ket0)),\n",
    "        ExprTuple(Input(ket0), Gate(H), MultiQubitGate(Z, Set(three, four)), Gate(H), Output(ket1)), \n",
    "        ExprTuple(Input(ket1), Gate(H), MultiQubitGate(CONTROL, Set(three, four)), Gate(H), Output(ket1)),\n",
    "        ExprTuple(Input(ket1), Gate(H), MultiQubitGate(Z, Set(five, six)), Gate(H), Output(ket1)), \n",
    "        ExprTuple(Input(ket0), Gate(H), MultiQubitGate(CONTROL, Set(five, six)), Gate(H), Output(ket0)),\n",
    "        ExprTuple(Input(ket1), Gate(H), MultiQubitGate(Z, Set(seven, eight)), Gate(H), Output(ket0)), \n",
    "        ExprTuple(Input(ket1), Gate(H), MultiQubitGate(CONTROL, Set(seven, eight)), Gate(H), Output(ket1))))\n",
    "# using cell 24 we can show that this is equivalent to cell 26"
   ]
  },
  {
   "cell_type": "code",
   "execution_count": null,
   "metadata": {},
   "outputs": [],
   "source": [
    "Circuit(ExprArray(ExprTuple(Input(ket0), Gate(H), MultiQubitGate(CONTROL, Set(one, two)), Gate(H), Output(ket0)), \n",
    "        ExprTuple(Input(ket0), I, MultiQubitGate(X, Set(one, two)), I, Output(ket0)),\n",
    "        ExprTuple(Input(ket0), Gate(H), MultiQubitGate(CONTROL, Set(three, four)), Gate(H), Output(ket0)), \n",
    "        ExprTuple(Input(ket1), I, MultiQubitGate(X, Set(three, four)), I, Output(ket1)),\n",
    "        ExprTuple(Input(ket1), Gate(H), MultiQubitGate(CONTROL, Set(five, six)), Gate(H), Output(ket1)), \n",
    "        ExprTuple(Input(ket0), I, MultiQubitGate(X, Set(five, six)), I, Output(ket1)),\n",
    "        ExprTuple(Input(ket1), Gate(H), MultiQubitGate(CONTROL, Set(seven, eight)), Gate(H), Output(ket1)), \n",
    "        ExprTuple(Input(ket1), I, MultiQubitGate(X, Set(seven, eight)), I, Output(ket0))))\n",
    "# using cell 26, we apply instantiation to return to the X gates"
   ]
  },
  {
   "cell_type": "code",
   "execution_count": null,
   "metadata": {},
   "outputs": [],
   "source": [
    "Circuit(ExprArray(ExprTuple(Input(ket0), I, MultiQubitGate(X, Set(one, two)), I, Output(ket0)), \n",
    "        ExprTuple(Input(ket0), Gate(H), MultiQubitGate(CONTROL, Set(one, two)), Gate(H), Output(ket0)),\n",
    "        ExprTuple(Input(ket0), I, MultiQubitGate(X, Set(three, four)), I, Output(ket1)), \n",
    "        ExprTuple(Input(ket1), Gate(H), MultiQubitGate(CONTROL, Set(three, four)), Gate(H), Output(ket1)),\n",
    "        ExprTuple(Input(ket1), I, MultiQubitGate(X, Set(five, six)), I, Output(ket1)), \n",
    "        ExprTuple(Input(ket0), Gate(H), MultiQubitGate(CONTROL, Set(five, six)), Gate(H), Output(ket0)),\n",
    "        ExprTuple(Input(ket1), I, MultiQubitGate(X, Set(seven, eight)), I, Output(ket0)), \n",
    "        ExprTuple(Input(ket1), Gate(H), MultiQubitGate(CONTROL, Set(seven, eight)), Gate(H), Output(ket1))))\n",
    "# using cell 27 we can show that cell 28 is congruent to this cell "
   ]
  },
  {
   "cell_type": "code",
   "execution_count": null,
   "metadata": {},
   "outputs": [],
   "source": [
    "%end demonstrations"
   ]
  },
  {
   "cell_type": "code",
   "execution_count": null,
   "metadata": {},
   "outputs": [],
   "source": []
  }
 ],
 "metadata": {
  "kernelspec": {
   "display_name": "Python 3",
   "language": "python",
   "name": "python3"
  }
 },
 "nbformat": 4,
 "nbformat_minor": 0
}
