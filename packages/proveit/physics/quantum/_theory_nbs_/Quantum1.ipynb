{
 "cells": [
  {
   "cell_type": "code",
   "execution_count": 1,
   "metadata": {},
   "outputs": [],
   "source": [
    "import proveit\n",
    "from proveit.physics.quantum import hadamard_on_zero,ket_psi,Qmult\n",
    "from proveit.physics.quantum.algebra import ket_plus_def,ket_minus_def,bra_def,ket_zero_def\n",
    "from proveit.logic import (And, Or, Iff, Forall, Exists, Equals, \n",
    "                           Set, InSet, NotInSet, SubsetEq, CartExp, InClass,NotEquals)\n",
    "from proveit import Function, IndexedVar, ExprRange, ExprTuple, VertExprArray\n",
    "from proveit import i, j, k, l, m, n, A, B, P, Q, R, S\n",
    "from proveit.logic import Set\n",
    "from proveit.numbers import one, two, three\n",
    "from proveit.core_expr_types import a_i, b_i, c_i\n",
    "from proveit.core_expr_types.expr_arrays import Aij, Bij, Cij, Dij, Eij, Pij, Qij, Rij, Sij, Tij, Uij, Vij, B11_to_Bmn, D11_to_Dmn, S11_to_Smn\n",
    "from proveit.physics.quantum import I, X, Y, Z, H, CONTROL\n",
    "from proveit.physics.quantum.circuits import Qcircuit, Input, Output, MultiQubitElem, Gate, target,Measure\n",
    "from proveit.physics.quantum import (\n",
    "    Bra, Ket, ket0, ket1, ket_plus, ket_minus, Qmult, \n",
    "    psi, varphi, ket_psi, ket_varphi, bra_varphi, \n",
    "    var_ket_psi, var_ket_varphi, var_ket_v, NumBra, NumKet)\n",
    "%begin demonstrations"
   ]
  },
  {
   "cell_type": "code",
   "execution_count": 2,
   "metadata": {},
   "outputs": [
    {
     "data": {
      "text/html": [
       "<span style=\"font-size:20px;\"> <a class=\"ProveItLink\" href=\"../__pv_it/demonstrations/47e0bdcae31286d8588a8159fea72ec0c688fe520/proof.ipynb\" style=\"text-decoration: none\">&nbsp;&#x22A2;&nbsp;&nbsp;</a><a class=\"ProveItLink\" href=\"../__pv_it/demonstrations/c7abcb5c759b081ed7b8bf08b7cedf60b76515c70/expr.ipynb\"><img src=\"data:image/png;base64,iVBORw0KGgoAAAANSUhEUgAAALEAAAAVBAMAAAD7ihIOAAAAMFBMVEX///8AAAAAAAAAAAAAAAAA\n",
       "AAAAAAAAAAAAAAAAAAAAAAAAAAAAAAAAAAAAAAAAAAAv3aB7AAAAD3RSTlMAInZUiRDNmWbv3US7\n",
       "qzJazP2FAAAACXBIWXMAAA7EAAAOxAGVKw4bAAAB/0lEQVQ4y31UPU8bQRB9xhfbYGP8AyzFJU3A\n",
       "RZQIKouUCOEuSgTCEQ1djJQujatUiZSGBgosUUGUH5AKQ2/Zf8DENRIKwkAimY/M3syeZW52R3q6\n",
       "nZs3b+d25wZAAYzIxMkTEojZiOogRDZRZoxsmR+5PpAtxfjL0cpBiOyl4MVjG9/229UwN1jaRrJO\n",
       "b2c9yjohfRRaF89qCAHcEnYldxPvC2jSOlV1KzsItGX4IekGA/lrOrW/nJtpImjhDa0zdVU5azIc\n",
       "BKs8KUAwJNqAc3NdJG9QNM6Oqsy5OsFGXwmQuqQ7ueHcmTryA6RMG2x5lHWCjX4SYKZFxTc5d4OU\n",
       "/yFZIWfFo6wTbHTLbnv8s9f7Xefc5xXkr/iGvozd97iyTrDRAwFWqTvnyyNlutDP5Cx4atYJNron\n",
       "wEdCpyqnUUGWar4g509cmQo83A0LVAkx5TtpabnB5IB/oF++mlXC09MwNZoT4K5rIUNt8oGcRd85\n",
       "qwQbPRUEDzQ+hqKc+Y50DQnqFnz11KwTbHRFMGXa+dLmHuBdH0HZdqRDWSfY6DljvXNfSnfuSpL7\n",
       "dumMNjPOD4+yTrD//lSfocyc1+aDmx5lnWDNTJQnU8Uqn8jAck4knRDZiSCmHM7Womc+OwiRrQli\n",
       "uRON2J7jyg5CZIkSY2Rz/Jg2yYUYfy5aOQhi/wG9LJeOQ6JDMAAAAABJRU5ErkJggg==\n",
       "\" style=\"display:inline;vertical-align:middle;\" /></a></span>"
      ],
      "text/plain": [
       "|- ((H . |0〉) = |+〉) = TRUE"
      ]
     },
     "metadata": {},
     "output_type": "display_data"
    }
   ],
   "source": [
    "hadamard_on_zero.evaluation()"
   ]
  },
  {
   "cell_type": "code",
   "execution_count": 3,
   "metadata": {},
   "outputs": [
    {
     "data": {
      "text/html": [
       "<span style=\"font-size:20px;\"> <a class=\"ProveItLink\" href=\"../__pv_it/demonstrations/cdb0d1596b8340e175b6d3163e0b1252741535260/proof.ipynb\" style=\"text-decoration: none\">&nbsp;&#x22A2;&nbsp;&nbsp;</a><a class=\"ProveItLink\" href=\"../__pv_it/demonstrations/857d8c85aa9477e0fc089529de32be7fe4a99dbb0/expr.ipynb\"><img src=\"data:image/png;base64,iVBORw0KGgoAAAANSUhEUgAAAScAAAAyBAMAAADsGADuAAAAMFBMVEX///8AAAAAAAAAAAAAAAAA\n",
       "AAAAAAAAAAAAAAAAAAAAAAAAAAAAAAAAAAAAAAAAAAAv3aB7AAAAD3RSTlMAuzKrZonNIu/ddhCZ\n",
       "VERetuGgAAAACXBIWXMAAA7EAAAOxAGVKw4bAAAE2UlEQVRYw7VZTYhTVxQ+SSYx/xPqQoubgFja\n",
       "1QSpYFcNFEREMKArYZxsigUrvNm0VYSJiLbFzcOCzPgDUQYsiExAOlQQzEKsgmg2bkphsuiqm45j\n",
       "dWDitH333vdzz/157yZ5czbnTebe73333PN37wNwJFGFaPkAYpDCLqxD5FMDuFQ9DlLwSQdr/fsa\n",
       "Bmj7vIfk9XFIlWystXLAAGyi6T7cfzIYy1RHBa2Rbd8bYH1neU/58Ujl6ljrhrUNsK5BTKRKl7HW\n",
       "yEGT3WvFRQq+FrRaLhogZRuxkfrbwlopRi9Z6sRGKlPDWu1SNQOknyA2UqUB1kqZMkjnybX4SBU2\n",
       "sFbKfpN03oqPFHwoaJVcMPHzWoykjlhYq3bmHwOcqXqMpB7VsVYF3zrN6sEPKhdb4haVXpdrAoA7\n",
       "IKn4l49qYbNn9RGWoO6S7oe2KDs599r/Tmoq7gGccNHEJXnABPUvd4yNtcpdKgKpPxSDzocHeYOS\n",
       "Sh//DUpdBSnSVxDUPNuv9CogHUhxgUoNHnUFUjlFFL8PJbUMlNRpeGCBLZOifQVFPcVK1r+ANF4g\n",
       "LcRT7YDUn/SxJwfDRiipx5TUhA3pCky7v5XrgaVIaFDUwwhNicpIrfQCUr9T16zIIzdDSbUoqUSN\n",
       "JOlZBB6QoqjZDm93pf3ZvCNVgRSclHuEtVCXalJSk11IbkLGUpOiqBlmvjfuxDdaUizaeVKvNGlD\n",
       "J8UGJeU4p5PzSg0NKYKaZkngtTvxtZbUTEckxTz9GQ0EVojTofmSrv8EzDWol9gaUrmgp77kTryE\n",
       "Q46b91IiVexLtggllev5pN4CvNCQIqglVkIX3IkLWkt97s11TPMDNU1SyrQpllH+Q0IrBVl6ts+2\n",
       "rwFlx1K72eLnf2SL90kR1CTDmXdh56NJ+ZYqNTSkFEbqBqQcRydR+kpjKYJabhmSkrePBRDvU0bb\n",
       "l6jAxMCPXYkUQXUPe3j7VD41I0XfrPTadGj0Jdosebag2PSznESKoE5UFI6uTAlSnpqWUwLOU3uo\n",
       "T/lbSgPdKTM34deqXw94UnRN017yCDq4C0MkTzsqeQp9RNJmpB4e3xtUTo4U6yvIoByLay+TqzI6\n",
       "K08rfYGUVOidn1DpTIp16Ar4rYvfY/CW8lHPsPLyFpDWNpVcQU5YEd1pSsxjhzlSOxQF2Ud9HF2Q\n",
       "mUyKrcuyYhAy9DcA557wW0he6JIqNDVN3nJQ6r3yHlLmc02B1KJi0FX+jxcEfYYzV6Hik8rXNaQW\n",
       "gz3wKmlIRWWnp3zQxtYijmGOMVIWZLlDF5wFuO2iSYFbDVDv4FSsTclAE170qYi7dyv2IDuA1PrI\n",
       "p5lsBWvVEWvT5IjFdaMPnDXakFobmdRcG+s4DqPHmCuubuVhFJ4a4BSZB5X6fm6dao9M6jNBK++L\n",
       "+tE4ZZY9f3YiNd8Wr2GGlQ1Ba9uPKLlB3e+XNa+OFCsjc/IiKzTChgi/gtPqH6J/fzHGTWzN5F5s\n",
       "iOvFlxZcd/vAb7f0ehEloQhzznVZW7oH4O6opLYLWnMaMfng8CWrcoMMWcG2G8+f2yNyKg+w1qVP\n",
       "k8v9j6mxyxu0Nck5PV5zVJfqYa2TWwZYeRZuX50c88bM9DPIMB+MVmpjcio3sdbLaQO0TC846Ywh\n",
       "H3WwDjmPVA3g4vkIeQprtfwPYGGOXdxXD2EAAAAASUVORK5CYII=\n",
       "\" style=\"display:inline;vertical-align:middle;\" /></a></span>"
      ],
      "text/plain": [
       "|- (|+〉 = ((1 / sqrt(2)) * (|0〉 + |1〉))) = TRUE"
      ]
     },
     "metadata": {},
     "output_type": "display_data"
    }
   ],
   "source": [
    "ket_plus_def.evaluation()"
   ]
  },
  {
   "cell_type": "code",
   "execution_count": 4,
   "metadata": {},
   "outputs": [
    {
     "data": {
      "text/html": [
       "<span style=\"font-size:20px;\"> <a class=\"ProveItLink\" href=\"../__pv_it/demonstrations/27a53e4012e7aa7c6a14c66107140055d5d15e1c0/proof.ipynb\" style=\"text-decoration: none\">&nbsp;&#x22A2;&nbsp;&nbsp;</a><a class=\"ProveItLink\" href=\"../__pv_it/demonstrations/72a4fcac9843d9b66b19d0e0f5d649199dd652ed0/expr.ipynb\"><img src=\"data:image/png;base64,iVBORw0KGgoAAAANSUhEUgAAAP0AAAAyBAMAAABlpcCuAAAAMFBMVEX///8AAAAAAAAAAAAAAAAA\n",
       "AAAAAAAAAAAAAAAAAAAAAAAAAAAAAAAAAAAAAAAAAAAv3aB7AAAAD3RSTlMAInZUiRDNmWbv3US7\n",
       "qzJazP2FAAAACXBIWXMAAA7EAAAOxAGVKw4bAAAEj0lEQVRYw71ZS2gTQRj+82o222YbT6IIRkX0\n",
       "ogYpinowqDeV5lRRKk1RoRcxYqmiF2+iIM1J8L1afCAIxYN4a/SmWJuDB0W0OehBUZq2pi1Uq/88\n",
       "NpndnaxmsnTo7mZ3//m+2X/+10wBGm9vwI/WnVHsGD/vC79xT7Hj26YRWNuu1k3L8h+HBypN8YeL\n",
       "St2WJaxfweb44aFSr7vgF/82FQvU8r7xt+QUOsXSvvG3Tip02pTxjR+OK/R5DP7x72zcAIwFH/l7\n",
       "ko0Hv7yP/G1m4+ZX9JFfa9wAJ877yB+ZI+eE+CjAryXnC8v8hYdhyfATVi/D+UaGfJN8RcoWlIdr\n",
       "OfaJhP+lYArvZ945XyPYXj63JWe4lyC/wqMDjw1/RuHy7dEMk9qzLgFbCZgk0d7w1iiCIX9410kI\n",
       "5ST8JGOKyJ04BzSdzeBxjUu1pCJ3QCc3x9wzNus9oVnKfwQOJcB089OMKSIPDkOUDMX4ifMzy6Uu\n",
       "AeyDMJmVC273n/LkJ2B7QTMhXIDd1sNnte8nFisiTyQhRt/NozNMc6lREpgCBeJsrvgUmvb2TiD8\n",
       "bUUIVWCF9XCznV9E7snBFpqJymgwFS6FephIQS957DIAbcGTfwvlb8+BMQ0tCTm/iNxehH56xTHF\n",
       "TCZFphi9vENaoQS9I0Y/5cevMuYglK7DLyAjbx+5jjz++HE8x6QCP+m86NVS6+wj0ljeCXuHnD7K\n",
       "vzJN7cSsw19DhlgWhqgfoLNuSgn8aYiieCjvMjBv/qEqP4Kcq8MvIOsmXCfXE3iMZbj+setIEgzU\n",
       "kFF2pR/2pP2P2MizHvpB15n+09CK3/+DK+8qU16VX0DW84z/Fw8Blv3tTNHpa83X4Xc3PVfjR/sj\n",
       "ftJR5/sFZOQnKiOjJRpjUq8xLmSo+YZM5/z/l/7bCqBVmJ3L+GvIRP8vyCv0quC8JXURYACo+2oF\n",
       "V83ubf8vKD+WqNEs83MZv4CM9refDIO4f9mS0lORW0DDVzTt8j+7/xvV+WdtP+VHNRwssTjn4KfD\n",
       "F5CxmviGC5mx38no2K8kl4r0bygx79GH/xF/nEnuG+M/sOsTj/N2fpYxBWS0FL0kzZI0fS13KTg0\n",
       "b7v97rTCElj5l+Y55/c7kdFTtJyUv41EzzPu/DNnu/3gVE+uxv9ckn+cyBjnanI2qS6AmgUJzZZ/\n",
       "A1lYOmDbDXhe5Y9k69QfIjL6OXRLpdZbI3W0+7ZoOIxAnaKRdFf5XcWLDJlUcwFbER7k5kDywyqJ\n",
       "h70Xb7ognoCYGKQQbCOPVC7XkSCPN1yyDoolwSmIVSCusor7v2pOVn8L1WrEhDj+LSjTB6aaWn+E\n",
       "6RTr5cVcf0T5bO8AK8JMJJX5442vv1pZAApewdNq54K40dauMPQH9Pylk4doiBbU+Qczyn16iqDR\n",
       "0V9uYv2nojq+/xKdBD3Diokli7r/orEKBFcrtL75DLBWefmvtAF4lF3GMmQNFXhw+rSpyj+itAP8\n",
       "lcXukTUkcepYfmRV+YeUegWZwbdcSTS5+6C4/8r3n0O/m6SHp6rbliwF9DZJbxxT7enP/x+6qPX9\n",
       "BVqPYU6mR8CbAAAAAElFTkSuQmCC\n",
       "\" style=\"display:inline;vertical-align:middle;\" /></a></span>"
      ],
      "text/plain": [
       "|- (H . |0〉) = ((1 / sqrt(2)) * (|0〉 + |1〉))"
      ]
     },
     "metadata": {},
     "output_type": "display_data"
    }
   ],
   "source": [
    "hadamard_on_zero.apply_transitivity(ket_plus_def)"
   ]
  },
  {
   "cell_type": "code",
   "execution_count": 5,
   "metadata": {},
   "outputs": [
    {
     "data": {
      "text/html": [
       "<span style=\"font-size:20px;\"> <a class=\"ProveItLink\" href=\"../__pv_it/demonstrations/27a53e4012e7aa7c6a14c66107140055d5d15e1c0/proof.ipynb\" style=\"text-decoration: none\">&nbsp;&#x22A2;&nbsp;&nbsp;</a><a class=\"ProveItLink\" href=\"../__pv_it/demonstrations/72a4fcac9843d9b66b19d0e0f5d649199dd652ed0/expr.ipynb\"><img src=\"data:image/png;base64,iVBORw0KGgoAAAANSUhEUgAAAP0AAAAyBAMAAABlpcCuAAAAMFBMVEX///8AAAAAAAAAAAAAAAAA\n",
       "AAAAAAAAAAAAAAAAAAAAAAAAAAAAAAAAAAAAAAAAAAAv3aB7AAAAD3RSTlMAInZUiRDNmWbv3US7\n",
       "qzJazP2FAAAACXBIWXMAAA7EAAAOxAGVKw4bAAAEj0lEQVRYw71ZS2gTQRj+82o222YbT6IIRkX0\n",
       "ogYpinowqDeV5lRRKk1RoRcxYqmiF2+iIM1J8L1afCAIxYN4a/SmWJuDB0W0OehBUZq2pi1Uq/88\n",
       "NpndnaxmsnTo7mZ3//m+2X/+10wBGm9vwI/WnVHsGD/vC79xT7Hj26YRWNuu1k3L8h+HBypN8YeL\n",
       "St2WJaxfweb44aFSr7vgF/82FQvU8r7xt+QUOsXSvvG3Tip02pTxjR+OK/R5DP7x72zcAIwFH/l7\n",
       "ko0Hv7yP/G1m4+ZX9JFfa9wAJ877yB+ZI+eE+CjAryXnC8v8hYdhyfATVi/D+UaGfJN8RcoWlIdr\n",
       "OfaJhP+lYArvZ945XyPYXj63JWe4lyC/wqMDjw1/RuHy7dEMk9qzLgFbCZgk0d7w1iiCIX9410kI\n",
       "5ST8JGOKyJ04BzSdzeBxjUu1pCJ3QCc3x9wzNus9oVnKfwQOJcB089OMKSIPDkOUDMX4ifMzy6Uu\n",
       "AeyDMJmVC273n/LkJ2B7QTMhXIDd1sNnte8nFisiTyQhRt/NozNMc6lREpgCBeJsrvgUmvb2TiD8\n",
       "bUUIVWCF9XCznV9E7snBFpqJymgwFS6FephIQS957DIAbcGTfwvlb8+BMQ0tCTm/iNxehH56xTHF\n",
       "TCZFphi9vENaoQS9I0Y/5cevMuYglK7DLyAjbx+5jjz++HE8x6QCP+m86NVS6+wj0ljeCXuHnD7K\n",
       "vzJN7cSsw19DhlgWhqgfoLNuSgn8aYiieCjvMjBv/qEqP4Kcq8MvIOsmXCfXE3iMZbj+setIEgzU\n",
       "kFF2pR/2pP2P2MizHvpB15n+09CK3/+DK+8qU16VX0DW84z/Fw8Blv3tTNHpa83X4Xc3PVfjR/sj\n",
       "ftJR5/sFZOQnKiOjJRpjUq8xLmSo+YZM5/z/l/7bCqBVmJ3L+GvIRP8vyCv0quC8JXURYACo+2oF\n",
       "V83ubf8vKD+WqNEs83MZv4CM9refDIO4f9mS0lORW0DDVzTt8j+7/xvV+WdtP+VHNRwssTjn4KfD\n",
       "F5CxmviGC5mx38no2K8kl4r0bygx79GH/xF/nEnuG+M/sOsTj/N2fpYxBWS0FL0kzZI0fS13KTg0\n",
       "b7v97rTCElj5l+Y55/c7kdFTtJyUv41EzzPu/DNnu/3gVE+uxv9ckn+cyBjnanI2qS6AmgUJzZZ/\n",
       "A1lYOmDbDXhe5Y9k69QfIjL6OXRLpdZbI3W0+7ZoOIxAnaKRdFf5XcWLDJlUcwFbER7k5kDywyqJ\n",
       "h70Xb7ognoCYGKQQbCOPVC7XkSCPN1yyDoolwSmIVSCusor7v2pOVn8L1WrEhDj+LSjTB6aaWn+E\n",
       "6RTr5cVcf0T5bO8AK8JMJJX5442vv1pZAApewdNq54K40dauMPQH9Pylk4doiBbU+Qczyn16iqDR\n",
       "0V9uYv2nojq+/xKdBD3Diokli7r/orEKBFcrtL75DLBWefmvtAF4lF3GMmQNFXhw+rSpyj+itAP8\n",
       "lcXukTUkcepYfmRV+YeUegWZwbdcSTS5+6C4/8r3n0O/m6SHp6rbliwF9DZJbxxT7enP/x+6qPX9\n",
       "BVqPYU6mR8CbAAAAAElFTkSuQmCC\n",
       "\" style=\"display:inline;vertical-align:middle;\" /></a></span>"
      ],
      "text/plain": [
       "|- (H . |0〉) = ((1 / sqrt(2)) * (|0〉 + |1〉))"
      ]
     },
     "metadata": {},
     "output_type": "display_data"
    }
   ],
   "source": [
    "Equals(hadamard_on_zero.lhs,ket_plus_def.rhs).conclude_via_transitivity()"
   ]
  },
  {
   "cell_type": "code",
   "execution_count": 6,
   "metadata": {},
   "outputs": [
    {
     "data": {
      "text/html": [
       "<span style=\"font-size:20px;\"> <a class=\"ProveItLink\" href=\"packages/proveit/physics/quantum/algebra/_theory_nbs_/axioms.ipynb#bra_def\" style=\"text-decoration: none\">&nbsp;&#x22A2;&nbsp;&nbsp;</a><a class=\"ProveItLink\" href=\"packages/proveit/physics/quantum/algebra/__pv_it/axioms/62c8ddcbc2490a9323e872a0ae41d353e97803290/expr.ipynb\"><img src=\"data:image/png;base64,iVBORw0KGgoAAAANSUhEUgAAAmEAAAAfCAMAAACYnOrhAAAANlBMVEX///8AAAAAAAAAAAAAAAAA\n",
       "AAAAAAAAAAAAAAAAAAAAAAAAAAAAAAAAAAAAAAAAAAAAAAAAAABHL6OuAAAAEXRSTlMAzWaJVBAi\n",
       "uzKZ3atEdu/z5b9XFTIAAAAJcEhZcwAADsQAAA7EAZUrDhsAAAeySURBVHja7VuHkusqEhU56y3/\n",
       "/7NLlMiW7Jl53lp11XX52qj7AIdOeLbtS4VJKen2yP+yaLeH6GvRyX/JLuw+4eTSg4Nh+JZhAQsI\n",
       "l7QtBl00/Snol0LVw7C0Eml7eb8iSL941kjAm2E8vCp92T45D3uAMDDaa1uYvGj6PdBcSZvWibI6\n",
       "0EAg3fOQFgwD55fw6xj2Z+AoS2+Evs+wOKAahmZ0nXowe7wNEAZGe20LkwPTfDcxdinDLmiYi0Jc\n",
       "7wmvkkNQip4MQ4dXBOTrGPZn4ACdu873GbbJy6jR3sx8YLTTtjLZm+YWRaIRbfUFDdO18uNkWihr\n",
       "hqtBwMmw4/Ry9n1R8q/AQZGTEPQjDMsx18D7DIsQRkY7bSuTU9OCXdQwkYjPRi3Y0slqmDMPy95B\n",
       "4O9j2F+BO6pWRn+EYTkPIWCWutEpwyKEkdFO28rk1LRSFzUcWH1ZL+sPSfSHruKfrAbZT4ZBRIPI\n",
       "7QsZ9jfgDvUUbD/CMLQtGBvOvpgxLEEYGm21LU12pinnS4aNQXNgBlETxzhL+iCZVQJ91pKWefm2\n",
       "xkWO838BzuT9RjFA4LAVGlhGbjKMGGHiZhnZRF22LJUPhiUIUWcNpIvhS5PtYMp8/cfVvhccewXa\n",
       "ObRhVoZsqk/ojGFInAxTfHXalmef/zrD3gd3QxisjcaMGECtRMUwBAoRI4ahDTuqUBfTjSU1k2pO\n",
       "4SaxVKCBoHsgHS/XJju/DwKzFLusoSwKq7R1t0n2qcuH4GSYVquwHZksrBVkQ9K6HYcOAPE4KduX\n",
       "ngEhwdGHDFuC05P3pcu/ZCtleVoUCYnKLzd8mNsl4YBDv0970/2QbXZTOge88wpC1NkA6Xopa5Nd\n",
       "44WNGbYCvQ0rLFeMGp+7EKumDMPyZFiYeyogNJNxrrBJFFgwZfa86dqGwndSrpx9EfYhw0pwve+Z\n",
       "vPeP9LSYzm3b6z0JX4cF38Q9hrlnfNMJHVqK7tI//5GV2KNl4CrlTLBjc4POBkjXq1qb7BpbE4at\n",
       "QPM9wwV1947E/oeZMozbgmE+9McmiHLv4sTTohOMRLjNKBiWiokFwwKa8B35mGEnuFsMI8ci5Sl0\n",
       "c+sZlpgc1jqsHTV3M33tMxMUkpsmG2omoWXlgTPF8mFK4asC0uVWa5Nd52XCsBVoOt4/FvlmLL/G\n",
       "MFe+RNZSZ4gGeuLIHcgwJaTxYYS/YFjMWmPoMZ8y7AB3j2FHApGn0M1tECVTNA4+OqydqDN9VPog\n",
       "NWQYcri5V4dIU5fVUZI3GbRqmgwxAtRAunx0bbJLXqcMm4PehjtMbDwHws5Lb11GSafxvIyKGVro\n",
       "2x5JQcUwwuzJMGhMmDwRBhnHBqCFwMoK9yG0LOQRFEiIhHKjNMq3u8inaOmhzRiIzJRhBTgTdmbH\n",
       "c4YVI1IGqMuIWM5tmOmnXhSM4YLEMuOWD/P9TF/eY936gJphoG08yLpVEH1YDaTzKEuTvfuZMmwO\n",
       "ehMjF5GC5ObzcMJfZ/q+O5Pn5+hj932X0f0VsZdJ4QTsmVyRYd67Yj8K+DCEnbPXFGXXhp0uf1K5\n",
       "V2aAp1JqkygU/sWHtPsPRXOGHeCw90KMczllWDWCbc0U6rlVi9K09AEwgDu7+n4/zAccpwTmdOo8\n",
       "DlUuqaf9sAQhaquBJG3Egi7GDUyirkkdvQQbR8kx6NO/D4LkJi2hkp+eDRTLJVDJsPJ2Kax/vIel\n",
       "YpjplwwLT2gH0Z8AlT44gycHrBi1cWOkycEqP0StwITMGXaAM+kfmjKsGgFxM4Vqbk1O1FiFLg8/\n",
       "enD3Oq6YCQbN4pozrj+f9vRl5QlKIFmbzCnd0mRrmitrFfGvzHSF3xw0UUy3u8MSemGlKL6LiUPu\n",
       "uPKKYZCcKWd2mw6TDO3OAGjBMAndrkEITfZe8TVOw+ZRO9yQK9CVSXXodjykWVFWDRiWwSGftS8Z\n",
       "Vo0I5CqnUM1tcmt0VPrw/Z4+x3NXNddxMExU2koghzZMG2QDk9dMXwGtEetujV6qzNck/e/DonNL\n",
       "qYq66sNS4VAwzKT4JItRPqYyg50Po0W1wenRPFk1vQManyzAeR5WjUC8mUI9tzqxEE3ttPP3GVbc\n",
       "sih+n2ERQtZWAjm0dd51YPKa6c9Ar1bDzBgWZ7SbDdHKl08YRlNKF3JlkxjmvnNHIgQ3fx7CKJeH\n",
       "ER+kpE/GfIfaFcbxoXBFxy4wDAIXUrVC81qyGsG6cFTNbXLjB1IA395nGCquXC7vSxG7QVHAlkAO\n",
       "bcS0yHqTF01/Bnqusvz1ThusU5EQfTXDR09/zz194kpFF53DJRdyYU7k6hD5qy/htwp5CgkuUPAa\n",
       "3EXDkEtDZQwHIVFyVWR+CCNj+i0fZTAa2J3pVbeiGIFTeGF4Mrfm0i7vdNg9oz5g2JnlwBu9mtO1\n",
       "wqIJVwI5tMHeA3WDLpr+EPRUJaMzhnU3P0cS875w+0k/rDro5lU/7BzB7k0h/zhqcILNq6hhpC+o\n",
       "BsPYnZ9NYlFCuKRtMeii6U9Bj9ai/RX178vPMYzpVww7RnCxPfIF8hcM86HzhxjW3h71DDtGiOcv\n",
       "4f5vGPamyAt/Lykm77fRH6U98ueiq8u1Rx75NwQj+CQ0j/wiwdTN3/I98sgtAfxZg0d+lWH+xwrP\n",
       "Mjzya8IFNE9V9sgn8l/uuEoFEs6g2AAAAABJRU5ErkJggg==\n",
       "\" style=\"display:inline;vertical-align:middle;\" /></a></span>"
      ],
      "text/plain": [
       "|- forall_{H in_c HilbertSpaces} [forall_{varphi | |varphi〉 in H} (〈varphi| = [|psi> -> {<|varphi〉, |psi>> if |psi> in H.])]"
      ]
     },
     "metadata": {},
     "output_type": "display_data"
    }
   ],
   "source": [
    "bra_def"
   ]
  },
  {
   "cell_type": "code",
   "execution_count": 32,
   "metadata": {},
   "outputs": [
    {
     "data": {
      "text/html": [
       "<a class=\"ProveItLink\" href=\"__pv_it/demonstrations/1f104041810f880f2955718e4fb992a6414f6b2b0/expr.ipynb\"><img src=\"data:image/png;base64,iVBORw0KGgoAAAANSUhEUgAAAEkAAAAbBAMAAADCG78TAAAAKlBMVEX///8AAAAAAAAAAAAAAAAA\n",
       "AAAAAAAAAAAAAAAAAAAAAAAAAAAAAAAAAADmU0mKAAAADXRSTlMAZqvNmRDdRHYyiVS7cVoREgAA\n",
       "AAlwSFlzAAAOxAAADsQBlSsOGwAAAIxJREFUOMtjYICDu2iAASu4gMrlHbaqGHUvOwCxKwGzeA2A\n",
       "OIGQjbUNDAxzHQipWjuBgaF3AyFVtkB8NoCQqjtAfA3Dj4jYBativ6ykpHMFrApNBtksrpsMDBy3\n",
       "CYUXM5DkuUpIFe8BSJDhVwUOrgWEVIGDq4CQqlxYcOFRxap8V4PB5+6JYZui8eRtAAOBXZkpMpkE\n",
       "AAAAAElFTkSuQmCC\n",
       "\" style=\"display:inline;vertical-align:middle;\" /></a>"
      ],
      "text/plain": [
       "[GATE]{operation:H}"
      ]
     },
     "metadata": {},
     "output_type": "display_data"
    }
   ],
   "source": [
    "Gate(H)"
   ]
  },
  {
   "cell_type": "code",
   "execution_count": 38,
   "metadata": {},
   "outputs": [
    {
     "data": {
      "text/html": [
       "<a class=\"ProveItLink\" href=\"__pv_it/demonstrations/3b70fc1f95594efcabf0c060aca101ce79cfbdea0/expr.ipynb\"><img src=\"data:image/png;base64,iVBORw0KGgoAAAANSUhEUgAAADEAAAAWBAMAAACbG2mhAAAAMFBMVEX///8AAAAAAAAAAAAAAAAA\n",
       "AAAAAAAAAAAAAAAAAAAAAAAAAAAAAAAAAAAAAAAAAAAv3aB7AAAAD3RSTlMAMhCJRHaZZs1U3SLv\n",
       "u6tsAoCUAAAACXBIWXMAAA7EAAAOxAGVKw4bAAAAq0lEQVQoz2MQYgADTgYMYAKh+BywyaiZGzIw\n",
       "PsAm08mgtYFhERYZ9gMMzA0M4VhkeB8wcH5i0MAiw/+AgeUnA+8GTBn9BAaWrwycBpgy+w0YGD8z\n",
       "MCzAIpMAlknBZRqDHIj3Hw4+QFzA+ZOBYTIWV19gYP/EwHAbq0/ZGhi4L2AJnZUMOgIMzBOwyCiH\n",
       "PmRg4MIVCwxuOGUe4pJhasAlwx6AIRMIoXgVGIgGAB4FLhEsgag8AAAAAElFTkSuQmCC\n",
       "\" style=\"display:inline;vertical-align:middle;\" /></a>"
      ],
      "text/plain": [
       "[INPUT]{state:|0〉}"
      ]
     },
     "metadata": {},
     "output_type": "display_data"
    }
   ],
   "source": [
    "Input(ket0)"
   ]
  },
  {
   "cell_type": "code",
   "execution_count": 40,
   "metadata": {},
   "outputs": [
    {
     "data": {
      "text/html": [
       "<a class=\"ProveItLink\" href=\"__pv_it/demonstrations/fc2305452bfd908f0a604fb8e934ec99bb7c38530/expr.ipynb\"><img src=\"data:image/png;base64,iVBORw0KGgoAAAANSUhEUgAAADEAAAAWBAMAAACbG2mhAAAAMFBMVEX///8AAAAAAAAAAAAAAAAA\n",
       "AAAAAAAAAAAAAAAAAAAAAAAAAAAAAAAAAAAAAAAAAAAv3aB7AAAAD3RSTlMAMhCJRHZU76uZzWbd\n",
       "uyLr89xdAAAACXBIWXMAAA7EAAAOxAGVKw4bAAAAfElEQVQoz2NgQAGMChA6gQEdMDtA6BacMhJY\n",
       "ZdiKGBh4FLDIaMz4xMDAugGbHlagDNMCXDIM93DKJOOU4cEpw+nA8B8OPiDLMDbg0sNmgEuG9wEu\n",
       "mbc4XWCGRYaz/Vc3A8MBXGHNMgGXDIcALhktnDG3FUOGFWrKJQY8AABJSif0dHTIXwAAAABJRU5E\n",
       "rkJggg==\n",
       "\" style=\"display:inline;vertical-align:middle;\" /></a>"
      ],
      "text/plain": [
       "[OUTPUT]{state:|1〉}"
      ]
     },
     "metadata": {},
     "output_type": "display_data"
    }
   ],
   "source": [
    "Output(ket1)"
   ]
  },
  {
   "cell_type": "code",
   "execution_count": 57,
   "metadata": {},
   "outputs": [
    {
     "data": {
      "text/html": [
       "<strong id=\"qc\">qc:</strong> <a class=\"ProveItLink\" href=\"__pv_it/demonstrations/6c5530f6e255efb965b3edf7b3bc6049c6b723c60/expr.ipynb\"><img src=\"data:image/png;base64,iVBORw0KGgoAAAANSUhEUgAAAJQAAABKCAMAAABq1o25AAAAbFBMVEX///8AAAAAAAAAAAAAAAAA\n",
       "AAAAAAAAAAAAAAAAAAAAAAAAAAAAAAAAAAAAAAAAAAAAAAAAAAAAAAAAAAAAAAAAAAAAAAAAAAAA\n",
       "AAAAAAAAAAAAAAAAAAAAAAAAAAAAAAAAAAAAAAAAAAAAAAB8dl/BAAAAI3RSTlMAZqvNmRDdRHYy\n",
       "iVS77yLhMNfb4yDnUOtehXD3QKnDkXz5l2gqdkEAAAAJcEhZcwAADsQAAA7EAZUrDhsAAAIfSURB\n",
       "VGje7dl/d4IgFAZgE9B0ZKv9Xm3nbO/3/46rtAwy4Qao2+Afz9TsmdwuV2+SDDpgNW76qAPq9pPg\n",
       "4coRFQ4lqgmiZDE9VJ5OcPpYZY2apQDjx60Ih5qVlEAHa7ZZ0Du1vCegcswP2wI8JKpcFQRUifrs\n",
       "Oe4sUIIvwAo6SqxTSp5izR8SwgKVHZahnIzi64qCgtRDqgdV1mtjRkUVq5KS0XOwdD9kG1I9KNas\n",
       "2IKIenwSykmGMqAjpCzrD3OBcXW/6f/pCCk/03cueV4k5y4j6hRSzCot14FeGFHqvXl5rfdZotos\n",
       "VdotMzyDrIwpQZ2ut2Wi7Dah2pDKbdc+GA/qpWubzOsjJlTWEVKuKN1UzvQT+q4r0t1PPN3NH5eA\n",
       "nPtBXVT4gukfD1C6gHiQ5wOUw0RUIZPpoUQ1QdQwTzP/C+Xy2B4K5fYOI9ALjnCosUZERVRERVRE\n",
       "RVRExdLlz9ypiPKAMvRmxkEZejMOIsOvx6E3czupeW2CG1Cm3ozTxHW+FzN/3zsPEui4oFFQm20I\n",
       "FNBhs0Z9sCApAYkDSmyqIVDdl772fZ8fQZInXFDbL4s2SLjRndcevsMsM0iod+qE1LmjTZ+i2LdB\n",
       "znaMFejKPB7bIMCYKUELrVMbBH1tEA8ZvQfV1wYBfKNgtczoJrUNAvhekHHtZigpSNultUHgvZ7a\n",
       "B0VvReXQBnGs8kiVp3UbZOTH54iKqF+Psho/V8B1sB/UPM4AAAAASUVORK5CYII=\n",
       "\" style=\"display:inline;vertical-align:middle;\" /></a><br>"
      ],
      "text/plain": [
       "<IPython.core.display.HTML object>"
      ]
     },
     "metadata": {},
     "output_type": "display_data"
    }
   ],
   "source": [
    "qc=Qcircuit(VertExprArray([Gate(H), Gate(I)], [MultiQubitElem(CONTROL, Set(two)), target],[Measure(Z),Measure(Z)]))"
   ]
  },
  {
   "cell_type": "code",
   "execution_count": 76,
   "metadata": {},
   "outputs": [
    {
     "data": {
      "text/html": [
       "<span style=\"font-size:20px;\"> <a class=\"ProveItLink\" href=\"packages/proveit/physics/quantum/circuits/_theory_nbs_/proofs/unitary_gate_operation/thm_proof.ipynb\" style=\"text-decoration: none\">&nbsp;&#x22A2;&nbsp;&nbsp;</a><a class=\"ProveItLink\" href=\"packages/proveit/physics/quantum/circuits/__pv_it/theorems/331c374f66175a5b20978f1d97bd38b42d2827bf0/expr.ipynb\"><img src=\"data:image/png;base64,iVBORw0KGgoAAAANSUhEUgAAAi4AAAAmBAMAAAARqA2oAAAAMFBMVEX///8AAAAAAAAAAAAAAAAA\n",
       "AAAAAAAAAAAAAAAAAAAAAAAAAAAAAAAAAAAAAAAAAAAv3aB7AAAAD3RSTlMAzWaJVBAiuzKZ3atE\n",
       "du8ZZGYNAAAACXBIWXMAAA7EAAAOxAGVKw4bAAAHjElEQVRo3s2aC2xTVRiA/91XH+vtqokYokgF\n",
       "AUkUCzqeRhoxPOJjRTERMK4+GALq5iRUJYQiKBEiDGSCiNrE8IhoKCpmMjE1kiiyuAsBEUWzGKck\n",
       "xLkBc4LgPI+2673n3Hu72Uu9Sdvd85/795zv/P9//vN3APlccltbHThzDWKbhCA4e8lJa8Fbba15\n",
       "KmpxaohqgG07BE5fn9sJis7lmwjT5Gt1nIuatBEUm4t8km17KO44F7jcRlBsLqWchWt0HgtUR6wF\n",
       "xeayNso0uf/M68lu/VWA9cgVFJvLVWxTSTKvJ9t1d2W9/F53p7WgyFwUjm1URy8BFxhgLSgyF0+C\n",
       "bduce/Ni5g+pj1zMFIwwe2DE/4GLX2Pbfs+9uZUaN/L7VN+4mCmoTpkF3hTlEjBJOo1cSpzIRKvR\n",
       "lqzs7W7cXdvjWn+x0xLRzJK94KLs/acWXN0DLBT4Q2ZLFaJcbsEfV9hzEcM4JkYKy+Umsph/AzyV\n",
       "TXuFdi4X2NobexEvoLcfrRSUsnm21NojaIW5eGQ19lwU3Gdlgf2IxBIFcRHO8EMOndYj6HWYw2XB\n",
       "rt+CsLRDY7iUYGm9lQK13TiW2W909ghaiQl4wnnEF2xTGwrMZXuGi/t8pslbw3IZil7TefYyEQUD\n",
       "VWPtpQwrSVopkNidUO3sEbSCMLqqan4+cXdwVVVVosBczmW5dGSnVMdywS7vinK4DMQGFmG5NCNW\n",
       "cshKgfusCRcqQC7VFYu9wx20qOdSFos9Hyowl4sZLupp3zVHRuKRl2l6LvJxDUJqAqQQh0sXDgic\n",
       "+DIRxXMhZaVAPm3ChQoQlwaARfzkQs+lNM6sWTr6595YnfmWj4kKGwZtmRTXDw5zaa4D/4ZKvNtV\n",
       "BvVcRKlFCeMhJ1guPsz1Pg6XXdnhmyogSwIjL8NX/xwuVIC4HAQ5kA8XXxK76MoOzT2Qbnkz2+rh\n",
       "7WexkYob6zM97yLvZKk0ar89V40vIR2CX3oWTqFczt88YSyKlXTc1QYuj3kSQgTQ929huYh4T7+B\n",
       "5SJn7chcwRkTe6ECxMULqiErWfVqSj3FcEG8UUj3oYf3p1tj5MtLozAadmdhEpOqSXM5kdUwZcJO\n",
       "LSB3QoOc8KT0Tq505Z6L1ob1XCJ+DTk0Cjqr9adFzMWL30g8KtMJJMz7Sa4CfWjjcTmX5iIGvTlZ\n",
       "iTzp9aBQUw71nsa9jR/puIzCKYCIVvUo7Ya5oG9cDrANnYuH3z58/9hMJRBzkRHt2fhmxrj18MAi\n",
       "WBYCKQEJqc6bTcndp3O50IC71mAv0BwVQUaMJ7H2UpnddvT2QuxotLUCWy5KIBfksMn3g3CjB8pZ\n",
       "e3kYp4x4VUO0W5oLik/voez57oA/jL+5X4aLFCW2BMLCOREYGsJxb3pUTqqp0m8NfqTjYvQjGA8r\n",
       "QIwwQRBzqUB9FY3DpT3Dy1SBTP1o/Lv42pkbdzN+BIs+RYNf/8px9Yc4+PDghBUvaRwurgXIAcqC\n",
       "mAvpluZCwkJFpDQ+i3jwYcrli6QKO8CNEB7AAXIFejQq7zFu/xdZLpWG/Qg2IvtEUUupYbngbUeM\n",
       "slxwDlIatVSgmO1HSmY/gmloZkJz0L9HTaZPQfHy6zlcpM20kOQO0m6Ui0K4vI/C1DRIoNhwJ+US\n",
       "6lRhITEcHNSFe/EoZ84x7vNncrh4KZeyEONHIbzlimEOl2x4NexH/cHdYK3APn8hGcOc76Es5QnB\n",
       "PMpFFPewXMgO9hMSR2k3ysWHl0GsQ6HkBOxDs/+ScFEeTKgwGeA6UPB0pRmYy65uY154CmPZ3L0P\n",
       "m9TSLjJwf9LARXquFjuel5PvViCtH3PPR4vftFHgu8Bsv591fJAVYC4CDrv7YA14w7AqFotpQlwZ\n",
       "spUczvVchgA2Suw7pBusI1zwPIb3dF1G7UUMNeE4NA/c22OxJcpUfl7zNNvkChjzXTfhdYDDBbne\n",
       "6rh9nYGnQDAr2FFBtv5yEo5BtZtapRCHr46a1F8mALyQMd57MBd85vSFfNl5H6RcSlKagkLR2HT8\n",
       "q0c2yTmL38bJsluM01LJgw2889GYT7Q86i88BaJZRYkKMlyUdmQxw0Tw4PkhbxTKTbisIrGUdIMS\n",
       "DW2GMvKNZXdMyU56MMyNIC6uYOhRujFtwq3zNoHIqUFVsKykTuO0yHmEyT17UZfiKfCaVZGpIMMF\n",
       "eUM/WIBgoFgJX1+d2eVYLr4PR+GPheRm3LgoqWv8kVOP3wJrggiH3PgMMhcJvVzYiuXxVzZwBlHJ\n",
       "1rn0Bxey3MSGtb5z4SmoNKuwUQFTx1Rx4LCvY+Z0O6KXoGUJYzNRMA4XbjkWW2I2ahdn1Rbn3nyX\n",
       "7RnpGxczBRVm1XUqKEB916V3gyBO6GrS0fxlG71Ci1nh2enfA9ZZCwrARdJZ5Ew0WRJWBHz3mp3e\n",
       "sxxDDl8KLj9bCwrxe8DU3Bu6j2VqS7Zlcs6/LqiBvIb0335vVFusBcX+vdHPyWtOgvOXP2gtKDYX\n",
       "gWMc114CLodsBEX//xfO76ElmuNYlF9tBEXnMot1JHmH41xmhW0E+XLpijm0iMo2tm1+1GkutdaC\n",
       "Y7HOPBU1NTk11sc5rOIOY5FT1oInmlL/AtxFb5nXrW/RAAAAAElFTkSuQmCC\n",
       "\" style=\"display:inline;vertical-align:middle;\" /></a></span>"
      ],
      "text/plain": [
       "|- forall_{m in NaturalPos} [forall_{U in U(2^{m}), |psi> in Complex^{2^{m}}} (Pr(QCIRCUIT(VertExprArray(([MULTI_QUBIT_ELEM]{element:[INPUT]{state:|psi>, part:1}, targets:{1 .. m}}, [MULTI_QUBIT_ELEM]{element:[INPUT]{state:|psi>, part:2}, targets:{1 .. m}}, ..., [MULTI_QUBIT_ELEM]{element:[INPUT]{state:|psi>, part:m}, targets:{1 .. m}}),  \\\\ ([MULTI_QUBIT_ELEM]{element:[GATE]{operation:U, part:1}, targets:{1 .. m}}, [MULTI_QUBIT_ELEM]{element:[GATE]{operation:U, part:2}, targets:{1 .. m}}, ..., [MULTI_QUBIT_ELEM]{element:[GATE]{operation:U, part:m}, targets:{1 .. m}}),  \\\\ ([MULTI_QUBIT_ELEM]{element:[OUTPUT]{state:(U . |psi>), part:1}, targets:{1 .. m}}, [MULTI_QUBIT_ELEM]{element:[OUTPUT]{state:(U . |psi>), part:2}, targets:{1 .. m}}, ..., [MULTI_QUBIT_ELEM]{element:[OUTPUT]{state:(U . |psi>), part:m}, targets:{1 .. m}})))) = 1)]"
      ]
     },
     "metadata": {},
     "output_type": "display_data"
    }
   ],
   "source": [
    "unitary_gate_operation"
   ]
  },
  {
   "cell_type": "code",
   "execution_count": 54,
   "metadata": {},
   "outputs": [
    {
     "data": {
      "text/html": [
       "<a class=\"ProveItLink\" href=\"__pv_it/demonstrations/90c4778cfa4fc9d4d532854fd3162c636e55164b0/expr.ipynb\"><img src=\"data:image/png;base64,iVBORw0KGgoAAAANSUhEUgAAASkAAAA/BAMAAABOTyODAAAAMFBMVEX///8AAAAAAAAAAAAAAAAA\n",
       "AAAAAAAAAAAAAAAAAAAAAAAAAAAAAAAAAAAAAAAAAAAv3aB7AAAAD3RSTlMAdlTdIu8yic1Eu2ar\n",
       "EJk85eg2AAAACXBIWXMAAA7EAAAOxAGVKw4bAAAD1klEQVRo3sWZP2gTURzHf+nlX9O+JI6C2GyO\n",
       "iaCrZrCLoO2kuGVzUGgqaHVqUAcHNV0cXJoOTqK0ouIiJKtQ6LmIiLQBK7pYr21Im7RJfBdzrXe5\n",
       "d3cv+bY+uEK+5R6f+73f3zsifR2hvtcsoddAyqq0LMt9j0gcTTWasSqa+WfMfQ92BU11kvqnoidp\n",
       "LFQoh6CK5rBUYzMIKraBpXpOCCq6iY3AKoZqBRqF4ZyA6n3rsX6pHqlCDSTVxILIVtv82vRsK/8O\n",
       "kmqJBFSD60TBpmcqegCEYrsiqhB3ON9GFxX7vp2x3WkEmLGGaiKqMP8baXRRKa1Wzd7dsziqiCai\n",
       "is3xK9VFNd1qbdqHzTiOKpYTURUeLi7Ol7uo8rxaq7ZBWMVRFfbsHtvvEdpU09x9RhKW/9gs4349\n",
       "OlBrekZkqzy/5lXvJ8jqOKq8KqKqd1JWt7cLjuo0jsr2uTUjXW3ZVJxvdUEKWIKlBn9dRNVOVzW7\n",
       "OqiJnGEBVpubIiplL115pSqKE1aw4ycJF62zfOsCqq/53Xh0vh6XoCqUxKW7E1MfXDSjhdwR2Urc\n",
       "yYioxnJOVOzHuwxdd9GM1F7DUcXGnajCCXaKFNVZM8pEBUilOVG9JbpNPj0g2PGpSdWimVeggaMK\n",
       "NJyoXhAlVaYf8qxK7KhF8/J8vVEpFScq3jEVEvSMx959LnxJmLT/RcV4CirE6QQPsGiaWPmXSfNE\n",
       "5TzRi6jCVQcqPy8TE1lSiN7QKi3TR5NmbdU0+cwrusU+ng2qZpsgOkNlil7gl0mzUo0fElXntIIl\n",
       "4hVgjSsmzXQ+2uFR6Z6dTNBAltuKraXbttrX/tcJ6iN6UaVImlMtc8+KmjTvmU+aKlxzyaI/ic4T\n",
       "PWVlCqWvmbSDpHKKQVIS7BLRDZ4ZLnLhVsmkHSCV4kjFJo/xQYDPTOyR/gRpk+a9SshTVVw7mUF9\n",
       "ZlrmDr5q0Sw7AakCmivVcHvsvjp1p0szx00VRxVzp/rsohld3waOaiXlSvXKRXPskHujmpgT3uLr\n",
       "nNJLF82YJrZwVMkyasYJ7uKoRmCTF9uWfl0i/FbxOwObnc/KW0oje6w8bqKXfcBW+wQ1zy8HeltJ\n",
       "OWeI/UWye1MabOKoxkpyVB1vtzGWD/h1IpCSPUAR1bCGowpVpLOCgCowh6Pyb/VEZROFBeQnk3v/\n",
       "JqJe1t5LNRVIVcyAbAUMQW6iLMavhqpIKrlvVeLMEM4hqegyhqqQgVIVZbxUnNvPQKFIkXIsUR0c\n",
       "aGCpgrJ51LZnCCxgqeg1or9aBEPRMKCzHUqhqehu/1uMpuFUn/rf4hyS5w9vWfram6JC1QAAAABJ\n",
       "RU5ErkJggg==\n",
       "\" style=\"display:inline;vertical-align:middle;\" /></a>"
      ],
      "text/plain": [
       "QCIRCUIT(VertExprArray(([GATE]{operation:H}, [GATE]{operation:I}),  \\\\ ([MULTI_QUBIT_ELEM]{element:CONTROL, targets:{2}}, [GATE]{operation:X}))) . [INPUT]{state:(|0〉 otimes |0〉)}"
      ]
     },
     "metadata": {},
     "output_type": "display_data"
    }
   ],
   "source": [
    "Qmult(qc,Input(TensorProd(ket0,ket0)))"
   ]
  },
  {
   "cell_type": "code",
   "execution_count": 66,
   "metadata": {},
   "outputs": [
    {
     "data": {
      "text/html": [
       "<strong id=\"ket_psii\">ket_psii:</strong> <a class=\"ProveItLink\" href=\"__pv_it/demonstrations/22c6dc2c4886fdd503d986ebeea57c628604cd5a0/expr.ipynb\"><img src=\"data:image/png;base64,iVBORw0KGgoAAAANSUhEUgAAAEoAAAAaBAMAAADicNe1AAAAMFBMVEX///8AAAAAAAAAAAAAAAAA\n",
       "AAAAAAAAAAAAAAAAAAAAAAAAAAAAAAAAAAAAAAAAAAAv3aB7AAAAD3RSTlMAMhCJRHYiZpndVO+7\n",
       "q831YeIIAAAACXBIWXMAAA7EAAAOxAGVKw4bAAABeklEQVQoz2NgIAgsTigQVsScwPuAsCrOBMZv\n",
       "RKhyYPvCIATjceFUx/WJwQTMYGRg4HXAaVoAVBUzUOEFDOm4eb/3NAA9yYBQxTAJXZHgLwaNrxcY\n",
       "2BtgqtKBOBxNETtvAAND/QUGZwZHqKoyINaDyrKenDkPRBdyA0OT9wLjq1WHoKoMgJgnAeKRp9Cg\n",
       "bsgBEmwB3P//fwCqYooIYDBgncDAZQCW1IMqYroggbDdhIGZawPbAtZPDAwTwALXoBKMBq7IqrI4\n",
       "JrArMGxgYGgBCxyAqWpAUaXAHQAMCKB3ZcGSO2fOBLue6YAwsioG/wRmBiagrxeD+Gwwsxge8aKo\n",
       "smSQYmAGuvkYWGADTKaCB0QqwFT1MAQxLIGb0gpTxRMCNJ/lAcJGA3ZgVDMvgMTtApiyvsMKWmfg\n",
       "ZnGdOB4GkoaG0x0nmC/79s8QgLuLgRGs3QMqyWIDiSFkAFLFCjb2Ip4EawJNNwxMDwioYgUnlAA8\n",
       "qgLhHici1+EHAL4eS8JoPr8cAAAAAElFTkSuQmCC\n",
       "\" style=\"display:inline;vertical-align:middle;\" /></a><br>"
      ],
      "text/plain": [
       "<IPython.core.display.HTML object>"
      ]
     },
     "metadata": {},
     "output_type": "display_data"
    }
   ],
   "source": [
    "ket_psii=InSet(ket_psi,QubitSpace)"
   ]
  },
  {
   "cell_type": "code",
   "execution_count": 62,
   "metadata": {},
   "outputs": [
    {
     "data": {
      "text/html": [
       "<strong id=\"bra_psi\">bra_psi:</strong> <a class=\"ProveItLink\" href=\"__pv_it/demonstrations/4b52d73d296de076e6b6549885b45be1ccc008a60/expr.ipynb\"><img src=\"data:image/png;base64,iVBORw0KGgoAAAANSUhEUgAAAEoAAAAaBAMAAADicNe1AAAAMFBMVEX///8AAAAAAAAAAAAAAAAA\n",
       "AAAAAAAAAAAAAAAAAAAAAAAAAAAAAAAAAAAAAAAAAAAv3aB7AAAAD3RSTlMAZjKrmUTdVIm7Is12\n",
       "EO9EeINyAAAACXBIWXMAAA7EAAAOxAGVKw4bAAABe0lEQVQoz2NgIAhaplwgrIhjAfMGwqrYFjD9\n",
       "IkJVANdXICUA4+viUMf+l4GByQDEYgLiVlymHWBgYAkAuxGbqtPZ/146AD0JUsmAS5XSd4YrfwwY\n",
       "GIEKGSrAIgsxVTEyA22SN2CIYAhiYJgFFpJCqOKZlpYNooX4gKHJbMC0vXwuAxckyBrgqpj2QIPa\n",
       "YSWQ4DrA9///BwYOAQbeIwcYGngSoKpuQxXxGqggeRPocvYHXAU8f6GqrKASTA0xCFUhDAzLWRIY\n",
       "LzA8gKqaAFPlgKTKlYHhAt8BYEA4QFQxPUtLA7ued4IGQtVBII5fwMHAewCiigtmFsNeZoSq20Dc\n",
       "xqDOwHEBauMDmIwIJ4iE+IVzAQODJ8NZhlJYSPjAVHEeBYYqKySg2BtANjYwBsBUsRXAlHnPuHB9\n",
       "JjRcEoAqp0w8BQ9VXstYmC+936coIDzJwATWD40h1k5IDKEAUDzwXGDAk75AgPsCJN3gV8UI9AkP\n",
       "QVW88Hx0iIEyAADwh1pkKiFVzQAAAABJRU5ErkJggg==\n",
       "\" style=\"display:inline;vertical-align:middle;\" /></a><br>"
      ],
      "text/plain": [
       "<IPython.core.display.HTML object>"
      ]
     },
     "metadata": {},
     "output_type": "display_data"
    }
   ],
   "source": [
    "bra_psi=InSet(Bra(psi),QubitSpace)"
   ]
  },
  {
   "cell_type": "code",
   "execution_count": 67,
   "metadata": {},
   "outputs": [
    {
     "data": {
      "text/html": [
       "<strong id=\"x\">x:</strong> <a class=\"ProveItLink\" href=\"__pv_it/demonstrations/b76a17a1f5a0c8eb73e169df209c8014ecd9b1f60/expr.ipynb\"><img src=\"data:image/png;base64,iVBORw0KGgoAAAANSUhEUgAAAE0AAAAWBAMAAAB3bgy3AAAAMFBMVEX///8AAAAAAAAAAAAAAAAA\n",
       "AAAAAAAAAAAAAAAAAAAAAAAAAAAAAAAAAAAAAAAAAAAv3aB7AAAAD3RSTlMAZjKrmUTdVIm7Is12\n",
       "EO9EeINyAAAACXBIWXMAAA7EAAAOxAGVKw4bAAABaElEQVQoz42SMUvDQBTH/4lpc8akdHGRCgWH\n",
       "ToKLexeFgkMHdzM5ZxF0kSzqJCg4CUKcipsfIYo4CMXb7dAP4CdQBN/de5fGiuDBLxfe/bj38l4A\n",
       "tMHYtc6br10gE+BvMPQkTvhUDe3WBTbBIBgydPjLy4E1MGgKf3hNzeBQAG7nvYjKjgVcC8DKvOcV\n",
       "QHLPRAJn+emZQtw9qm1JnkrkcVrzJjvkPVd1yWeocBpl8VfNy48xwqt2wi4soyD1NKYzL8q2sYpW\n",
       "1bctihK6VVI1/ZmX4J0KDqo5PFDUsFcoJGUtb+ODvAkQ5pY3ihpO0YPSNU+lfoZzYLGwyIYBxjio\n",
       "9yW4iHVItd3BItdS3twbGi/5dHkVlun1TEiZ8Oryhfu8r7nPR4NOMTt3Hwzf/mXkhYXMo2cCjT7j\n",
       "8iPW4ik3t7EJLHQZLGnGDtN4E+eZeVf9gFcysfPazitNoCNUPw6vR97irgvcCP9c32NeY7ougNtS\n",
       "AAAAAElFTkSuQmCC\n",
       "\" style=\"display:inline;vertical-align:middle;\" /></a><br>"
      ],
      "text/plain": [
       "<IPython.core.display.HTML object>"
      ]
     },
     "metadata": {},
     "output_type": "display_data"
    }
   ],
   "source": [
    "x=InnerProd(bra_psi.lhs,ket_psii.lhs)"
   ]
  },
  {
   "cell_type": "code",
   "execution_count": 68,
   "metadata": {},
   "outputs": [
    {
     "data": {
      "text/html": [
       "<a class=\"ProveItLink\" href=\"__pv_it/demonstrations/7700d5e013a43f10c4fecc51832bcfc3a0d2c7130/expr.ipynb\"><img src=\"data:image/png;base64,iVBORw0KGgoAAAANSUhEUgAAANgAAAAcBAMAAADxd2x8AAAAMFBMVEX///8AAAAAAAAAAAAAAAAA\n",
       "AAAAAAAAAAAAAAAAAAAAAAAAAAAAAAAAAAAAAAAAAAAv3aB7AAAAD3RSTlMAMkS7zRCZdiKJ71Rm\n",
       "q90icBAQAAAACXBIWXMAAA7EAAAOxAGVKw4bAAADWUlEQVRIx6VWTWgTQRT+dpvd/G6IWgqtSCIo\n",
       "0oM0WFr1UgJaCoq6YLEHKUZaKV40+HcoqIEePHhoQFoEPQRFBAUbLAjag1GwxYK4qKAgQpVaBSWo\n",
       "ECwWjW9nf7pxp3G1A9l9mfm+eW++efN2AE8t2HcIy2ij7eo/oC/ixTJ8BbNKyjRXeoB/RDzr544I\n",
       "ib+zo1lhHhmGTnpw9g7DCVHjjazywI4mAt+wUbd8KgRb0cKShPsqLvP6Oz2xw2UEi/QeIE0NKWLA\n",
       "syXhHyhAzi7LGU/sKIn4HgiUbWc5YI0L5t+950Y7QdJkpt2zDKs12Tgx++Mq0UbJPGXMsgh3BS/E\n",
       "C9LR08Ak2YEvnKSuycaKBez7riGihzkMhAoWPECi+ot/oIsvgchPiDmRZPrsdnazJjuikHxPNTRj\n",
       "LYVSRFy14JEsIJnnwd9RmmV9sWv0fIP6iXHC9bkTv8xj43ipxMwHIWIpmrBzoo22N4lpWPCg/thi\n",
       "zNFlCiIH9INxDmOVCr0HXc4ieQ4b9SfN4fSQvuZMqFKhHfDn0W846xkg+BngLgN1W+L3Cs6kaHHt\n",
       "iZzisKVOc1TSGhxYsYxWw1nuHs7jrIoo639lARrFjAMej7E1bGeNRVGX5LCVrCVyboNT8q/YxZwF\n",
       "CkfwCCEKlWliF5WGKmfDrtLk0zjsOnv6tNMZVZE55kzCdcpdmcb1miTcKpWMBNkr5JzOXCUimnaz\n",
       "0URsliBSstHpbMFcGcR5gvdQXdEnD9gr86mah5VVszG0WMuU6pWZzoIzQgEjJAHTO29nW1r3K1l7\n",
       "xgaDJdY0h7Nqdsief5IpaqYVVf7nhjM56VfDCSuqARu+WVd93ZLZqCQ5bNne57pjZIopOxsHLRmD\n",
       "eEjmJWMr7M2Rt41I423mn2l35cxz2Phkj/dvVfe3qvaZbDEryHjflK7BjHFAnq+383HHr4OW7a4g\n",
       "YpnDRu8mSwKhf2wuZsWdRChh1oDVjGyeYfGCkY3VrcvddYXHRnNHKeWC+jKQcyaclRglVuODK5Xd\n",
       "fYc9s3GAvtJWdWNZ210LHeHcC5o8s/GEfq9NOEuhqZpXCU7gSsErG2+NcPz2LG210I950qa8siP6\n",
       "4sNpj7e/APcadsfr5dE4g7c9omXurTac8Ehf1pX6P9pvIgfdKQEm2U8AAAAASUVORK5CYII=\n",
       "\" style=\"display:inline;vertical-align:middle;\" /></a>"
      ],
      "text/plain": [
       "(|psi〉 in Complex^{2}) = (|psi〉 in Complex^{2})"
      ]
     },
     "metadata": {},
     "output_type": "display_data"
    }
   ],
   "source": [
    "Equals(ket_psii,ket_psii)"
   ]
  },
  {
   "cell_type": "code",
   "execution_count": 80,
   "metadata": {},
   "outputs": [
    {
     "ename": "EvaluationError",
     "evalue": "Evaluation of 〈psi| . |psi〉 under assumptions {|psi〉 in Complex^{2}} is not known",
     "output_type": "error",
     "traceback": [
      "\u001b[0;31m---------------------------------------------------------------------------\u001b[0m",
      "\u001b[0;31mUnsatisfiedPrerequisites\u001b[0m                  Traceback (most recent call last)",
      "File \u001b[0;32m~/Documents/Prove-It/packages/proveit/_core_/expression/operation/operation.py:688\u001b[0m, in \u001b[0;36mOperation.evaluation\u001b[0;34m(self, **defaults_config)\u001b[0m\n\u001b[1;32m    684\u001b[0m \u001b[38;5;28;01mif\u001b[39;00m reduction\u001b[38;5;241m.\u001b[39mlhs \u001b[38;5;241m==\u001b[39m reduction\u001b[38;5;241m.\u001b[39mrhs:\n\u001b[1;32m    685\u001b[0m     \u001b[38;5;66;03m# _no_eval_check is a directive to the @equality_prover wrapper \u001b[39;00m\n\u001b[1;32m    686\u001b[0m     \u001b[38;5;66;03m# to tell it not to check for an existing evaluation if we have\u001b[39;00m\n\u001b[1;32m    687\u001b[0m     \u001b[38;5;66;03m# already checked.\u001b[39;00m\n\u001b[0;32m--> 688\u001b[0m     \u001b[38;5;28;01mreturn\u001b[39;00m \u001b[38;5;28;43mself\u001b[39;49m\u001b[38;5;241;43m.\u001b[39;49m\u001b[43mshallow_simplification\u001b[49m\u001b[43m(\u001b[49m\n\u001b[1;32m    689\u001b[0m \u001b[43m        \u001b[49m\u001b[43mmust_evaluate\u001b[49m\u001b[38;5;241;43m=\u001b[39;49m\u001b[38;5;28;43;01mTrue\u001b[39;49;00m\u001b[43m,\u001b[49m\u001b[43m \u001b[49m\u001b[43m_no_eval_check\u001b[49m\u001b[38;5;241;43m=\u001b[39;49m\u001b[38;5;28;43;01mTrue\u001b[39;49;00m\u001b[43m)\u001b[49m\n\u001b[1;32m    690\u001b[0m evaluation \u001b[38;5;241m=\u001b[39m reduction\u001b[38;5;241m.\u001b[39mrhs\u001b[38;5;241m.\u001b[39mshallow_simplification(\n\u001b[1;32m    691\u001b[0m         must_evaluate\u001b[38;5;241m=\u001b[39m\u001b[38;5;28;01mTrue\u001b[39;00m)\n",
      "File \u001b[0;32m~/Documents/Prove-It/packages/proveit/decorators.py:474\u001b[0m, in \u001b[0;36mequality_prover.<locals>.wrapper_maker.<locals>.wrapper\u001b[0;34m(*args, **kwargs)\u001b[0m\n\u001b[1;32m    473\u001b[0m \u001b[38;5;28;01mif\u001b[39;00m proven_truth \u001b[38;5;129;01mis\u001b[39;00m \u001b[38;5;28;01mNone\u001b[39;00m:\n\u001b[0;32m--> 474\u001b[0m     proven_truth \u001b[38;5;241m=\u001b[39m \u001b[43mdecorated_relation_prover\u001b[49m\u001b[43m(\u001b[49m\u001b[38;5;241;43m*\u001b[39;49m\u001b[43margs\u001b[49m\u001b[43m,\u001b[49m\u001b[43m \u001b[49m\u001b[38;5;241;43m*\u001b[39;49m\u001b[38;5;241;43m*\u001b[39;49m\u001b[43mkwargs\u001b[49m\u001b[43m)\u001b[49m\n\u001b[1;32m    475\u001b[0m proven_expr \u001b[38;5;241m=\u001b[39m proven_truth\u001b[38;5;241m.\u001b[39mexpr\n",
      "File \u001b[0;32m~/Documents/Prove-It/packages/proveit/decorators.py:281\u001b[0m, in \u001b[0;36m_make_decorated_relation_prover.<locals>.decorated_relation_prover\u001b[0;34m(*args, **kwargs)\u001b[0m\n\u001b[1;32m    280\u001b[0m \u001b[38;5;66;03m# Use the regular @prover wrapper.\u001b[39;00m\n\u001b[0;32m--> 281\u001b[0m proven_truth \u001b[38;5;241m=\u001b[39m \u001b[43mdecorated_prover\u001b[49m\u001b[43m(\u001b[49m\u001b[38;5;241;43m*\u001b[39;49m\u001b[43margs\u001b[49m\u001b[43m,\u001b[49m\u001b[43m \u001b[49m\u001b[38;5;241;43m*\u001b[39;49m\u001b[38;5;241;43m*\u001b[39;49m\u001b[43mkwargs\u001b[49m\u001b[43m)\u001b[49m\n\u001b[1;32m    283\u001b[0m \u001b[38;5;66;03m# Check that the result is of the expected form.\u001b[39;00m\n",
      "File \u001b[0;32m~/Documents/Prove-It/packages/proveit/decorators.py:161\u001b[0m, in \u001b[0;36m_make_decorated_prover.<locals>.decorated_prover\u001b[0;34m(*args, **kwargs)\u001b[0m\n\u001b[1;32m    160\u001b[0m     \u001b[38;5;66;03m# Now call the prover function.\u001b[39;00m\n\u001b[0;32m--> 161\u001b[0m     proven_truth \u001b[38;5;241m=\u001b[39m checked_truth(\u001b[43mfunc\u001b[49m\u001b[43m(\u001b[49m\u001b[38;5;241;43m*\u001b[39;49m\u001b[43margs\u001b[49m\u001b[43m,\u001b[49m\u001b[43m \u001b[49m\u001b[38;5;241;43m*\u001b[39;49m\u001b[38;5;241;43m*\u001b[39;49m\u001b[43minternal_kwargs\u001b[49m\u001b[43m)\u001b[49m)\n\u001b[1;32m    163\u001b[0m \u001b[38;5;28;01mif\u001b[39;00m automatic \u001b[38;5;129;01mand\u001b[39;00m \u001b[38;5;129;01mnot\u001b[39;00m defaults\u001b[38;5;241m.\u001b[39mpreserve_all:\n\u001b[1;32m    164\u001b[0m     \u001b[38;5;66;03m# Temporarily reconfigure defaults\u001b[39;00m\n",
      "File \u001b[0;32m~/Documents/Prove-It/packages/proveit/physics/quantum/algebra/qmult.py:149\u001b[0m, in \u001b[0;36mQmult.shallow_simplification\u001b[0;34m(self, must_evaluate, **defaults_config)\u001b[0m\n\u001b[1;32m    147\u001b[0m \u001b[38;5;28;01mif\u001b[39;00m Qmult\u001b[38;5;241m.\u001b[39m_simplification_directives_\u001b[38;5;241m.\u001b[39mfactor_scalars:\n\u001b[1;32m    148\u001b[0m     \u001b[38;5;66;03m# Next, pull out scalar factors\u001b[39;00m\n\u001b[0;32m--> 149\u001b[0m     expr \u001b[38;5;241m=\u001b[39m eq\u001b[38;5;241m.\u001b[39mupdate(\u001b[43mexpr\u001b[49m\u001b[38;5;241;43m.\u001b[39;49m\u001b[43mfactorization_of_scalars\u001b[49m\u001b[43m(\u001b[49m\u001b[43m)\u001b[49m)\n\u001b[1;32m    151\u001b[0m \u001b[38;5;28;01mif\u001b[39;00m Qmult\u001b[38;5;241m.\u001b[39m_simplification_directives_\u001b[38;5;241m.\u001b[39muse_scalar_mult:\n\u001b[1;32m    152\u001b[0m     \u001b[38;5;66;03m# Finally, use ScalarMult for any scalar operands.\u001b[39;00m\n",
      "File \u001b[0;32m~/Documents/Prove-It/packages/proveit/decorators.py:474\u001b[0m, in \u001b[0;36mequality_prover.<locals>.wrapper_maker.<locals>.wrapper\u001b[0;34m(*args, **kwargs)\u001b[0m\n\u001b[1;32m    473\u001b[0m \u001b[38;5;28;01mif\u001b[39;00m proven_truth \u001b[38;5;129;01mis\u001b[39;00m \u001b[38;5;28;01mNone\u001b[39;00m:\n\u001b[0;32m--> 474\u001b[0m     proven_truth \u001b[38;5;241m=\u001b[39m \u001b[43mdecorated_relation_prover\u001b[49m\u001b[43m(\u001b[49m\u001b[38;5;241;43m*\u001b[39;49m\u001b[43margs\u001b[49m\u001b[43m,\u001b[49m\u001b[43m \u001b[49m\u001b[38;5;241;43m*\u001b[39;49m\u001b[38;5;241;43m*\u001b[39;49m\u001b[43mkwargs\u001b[49m\u001b[43m)\u001b[49m\n\u001b[1;32m    475\u001b[0m proven_expr \u001b[38;5;241m=\u001b[39m proven_truth\u001b[38;5;241m.\u001b[39mexpr\n",
      "File \u001b[0;32m~/Documents/Prove-It/packages/proveit/decorators.py:281\u001b[0m, in \u001b[0;36m_make_decorated_relation_prover.<locals>.decorated_relation_prover\u001b[0;34m(*args, **kwargs)\u001b[0m\n\u001b[1;32m    280\u001b[0m \u001b[38;5;66;03m# Use the regular @prover wrapper.\u001b[39;00m\n\u001b[0;32m--> 281\u001b[0m proven_truth \u001b[38;5;241m=\u001b[39m \u001b[43mdecorated_prover\u001b[49m\u001b[43m(\u001b[49m\u001b[38;5;241;43m*\u001b[39;49m\u001b[43margs\u001b[49m\u001b[43m,\u001b[49m\u001b[43m \u001b[49m\u001b[38;5;241;43m*\u001b[39;49m\u001b[38;5;241;43m*\u001b[39;49m\u001b[43mkwargs\u001b[49m\u001b[43m)\u001b[49m\n\u001b[1;32m    283\u001b[0m \u001b[38;5;66;03m# Check that the result is of the expected form.\u001b[39;00m\n",
      "File \u001b[0;32m~/Documents/Prove-It/packages/proveit/decorators.py:161\u001b[0m, in \u001b[0;36m_make_decorated_prover.<locals>.decorated_prover\u001b[0;34m(*args, **kwargs)\u001b[0m\n\u001b[1;32m    160\u001b[0m     \u001b[38;5;66;03m# Now call the prover function.\u001b[39;00m\n\u001b[0;32m--> 161\u001b[0m     proven_truth \u001b[38;5;241m=\u001b[39m checked_truth(\u001b[43mfunc\u001b[49m\u001b[43m(\u001b[49m\u001b[38;5;241;43m*\u001b[39;49m\u001b[43margs\u001b[49m\u001b[43m,\u001b[49m\u001b[43m \u001b[49m\u001b[38;5;241;43m*\u001b[39;49m\u001b[38;5;241;43m*\u001b[39;49m\u001b[43minternal_kwargs\u001b[49m\u001b[43m)\u001b[49m)\n\u001b[1;32m    163\u001b[0m \u001b[38;5;28;01mif\u001b[39;00m automatic \u001b[38;5;129;01mand\u001b[39;00m \u001b[38;5;129;01mnot\u001b[39;00m defaults\u001b[38;5;241m.\u001b[39mpreserve_all:\n\u001b[1;32m    164\u001b[0m     \u001b[38;5;66;03m# Temporarily reconfigure defaults\u001b[39;00m\n",
      "File \u001b[0;32m~/Documents/Prove-It/packages/proveit/physics/quantum/algebra/qmult.py:289\u001b[0m, in \u001b[0;36mQmult.factorization_of_scalars\u001b[0;34m(self, **defaults_config)\u001b[0m\n\u001b[1;32m    288\u001b[0m \u001b[38;5;28;01mif\u001b[39;00m \u001b[38;5;129;01mnot\u001b[39;00m InClass(\u001b[38;5;28mself\u001b[39m, QmultCodomain)\u001b[38;5;241m.\u001b[39mproven():\n\u001b[0;32m--> 289\u001b[0m     \u001b[43mQmultCodomain\u001b[49m\u001b[38;5;241;43m.\u001b[39;49m\u001b[43mmembership_object\u001b[49m\u001b[43m(\u001b[49m\u001b[38;5;28;43mself\u001b[39;49m\u001b[43m)\u001b[49m\u001b[38;5;241;43m.\u001b[39;49m\u001b[43mconclude\u001b[49m\u001b[43m(\u001b[49m\u001b[43m)\u001b[49m\n\u001b[1;32m    291\u001b[0m \u001b[38;5;66;03m# Go through the operands in reverse order so the complex\u001b[39;00m\n\u001b[1;32m    292\u001b[0m \u001b[38;5;66;03m# factors will be in the original order out front in the end.\u001b[39;00m\n",
      "File \u001b[0;32m~/Documents/Prove-It/packages/proveit/decorators.py:153\u001b[0m, in \u001b[0;36m_make_decorated_prover.<locals>.decorated_prover\u001b[0;34m(*args, **kwargs)\u001b[0m\n\u001b[1;32m    152\u001b[0m         \u001b[38;5;66;03m# Now call the prover function.\u001b[39;00m\n\u001b[0;32m--> 153\u001b[0m         proven_truth \u001b[38;5;241m=\u001b[39m checked_truth(\u001b[43mfunc\u001b[49m\u001b[43m(\u001b[49m\u001b[38;5;241;43m*\u001b[39;49m\u001b[43margs\u001b[49m\u001b[43m,\u001b[49m\u001b[43m \u001b[49m\u001b[38;5;241;43m*\u001b[39;49m\u001b[38;5;241;43m*\u001b[39;49m\u001b[43minternal_kwargs\u001b[49m\u001b[43m)\u001b[49m)\n\u001b[1;32m    154\u001b[0m \u001b[38;5;28;01melse\u001b[39;00m:\n\u001b[1;32m    155\u001b[0m     \u001b[38;5;66;03m# No defaults reconfiguration.\u001b[39;00m\n",
      "File \u001b[0;32m~/Documents/Prove-It/packages/proveit/physics/quantum/algebra/qmult.py:755\u001b[0m, in \u001b[0;36mQmultCodomainMembership.conclude\u001b[0;34m(self, **defaults_config)\u001b[0m\n\u001b[1;32m    752\u001b[0m         \u001b[38;5;28;01mreturn\u001b[39;00m thm\u001b[38;5;241m.\u001b[39minstantiate(\n\u001b[1;32m    753\u001b[0m                 {Hspace:_Hspace, X:_X, Y:_Y, A:op1, B:op2})    \n\u001b[0;32m--> 755\u001b[0m     \u001b[38;5;28;01mraise\u001b[39;00m UnsatisfiedPrerequisites(\n\u001b[1;32m    756\u001b[0m             \u001b[38;5;124m\"\u001b[39m\u001b[38;5;124mBinary Qmult operand membership is not known \u001b[39m\u001b[38;5;124m\"\u001b[39m\n\u001b[1;32m    757\u001b[0m             \u001b[38;5;124m\"\u001b[39m\u001b[38;5;124mto produce a well-formed Qmult: \u001b[39m\u001b[38;5;132;01m%s\u001b[39;00m\u001b[38;5;124m\"\u001b[39m\u001b[38;5;241m%\u001b[39melement)\n\u001b[1;32m    759\u001b[0m \u001b[38;5;28;01melse\u001b[39;00m:\n\u001b[1;32m    760\u001b[0m     \u001b[38;5;66;03m# n-ary Qmult closure\u001b[39;00m\n\u001b[1;32m    761\u001b[0m     \u001b[38;5;66;03m# Decompose an n-ary operation to a binary operation.\u001b[39;00m\n",
      "\u001b[0;31mUnsatisfiedPrerequisites\u001b[0m: Prerequisites not met while assuming (|psi〉 in Complex^{2},): Binary Qmult operand membership is not known to produce a well-formed Qmult: 〈psi| . |psi〉",
      "\nDuring handling of the above exception, another exception occurred:\n",
      "\u001b[0;31mEvaluationError\u001b[0m                           Traceback (most recent call last)",
      "Cell \u001b[0;32mIn[80], line 1\u001b[0m\n\u001b[0;32m----> 1\u001b[0m _ \u001b[38;5;241m=\u001b[39m \u001b[43mQmult\u001b[49m\u001b[43m(\u001b[49m\u001b[43mbra_psi\u001b[49m\u001b[38;5;241;43m.\u001b[39;49m\u001b[43mlhs\u001b[49m\u001b[43m,\u001b[49m\u001b[43mket_psii\u001b[49m\u001b[38;5;241;43m.\u001b[39;49m\u001b[43mlhs\u001b[49m\u001b[43m)\u001b[49m\u001b[38;5;241;43m.\u001b[39;49m\u001b[43mevaluation\u001b[49m\u001b[43m(\u001b[49m\u001b[43massumptions\u001b[49m\u001b[38;5;241;43m=\u001b[39;49m\u001b[43m[\u001b[49m\u001b[43mket_psii\u001b[49m\u001b[43m]\u001b[49m\u001b[43m)\u001b[49m\n\u001b[1;32m      2\u001b[0m proveit\u001b[38;5;241m.\u001b[39mmagics\u001b[38;5;241m.\u001b[39mdisplay_assignments([\u001b[38;5;124m'\u001b[39m\u001b[38;5;124m_\u001b[39m\u001b[38;5;124m'\u001b[39m], [_])\n",
      "File \u001b[0;32m~/Documents/Prove-It/packages/proveit/decorators.py:474\u001b[0m, in \u001b[0;36mequality_prover.<locals>.wrapper_maker.<locals>.wrapper\u001b[0;34m(*args, **kwargs)\u001b[0m\n\u001b[1;32m    472\u001b[0m     kwargs[\u001b[38;5;124m'\u001b[39m\u001b[38;5;124mpreserve_all\u001b[39m\u001b[38;5;124m'\u001b[39m] \u001b[38;5;241m=\u001b[39m \u001b[38;5;28;01mFalse\u001b[39;00m\n\u001b[1;32m    473\u001b[0m \u001b[38;5;28;01mif\u001b[39;00m proven_truth \u001b[38;5;129;01mis\u001b[39;00m \u001b[38;5;28;01mNone\u001b[39;00m:\n\u001b[0;32m--> 474\u001b[0m     proven_truth \u001b[38;5;241m=\u001b[39m \u001b[43mdecorated_relation_prover\u001b[49m\u001b[43m(\u001b[49m\u001b[38;5;241;43m*\u001b[39;49m\u001b[43margs\u001b[49m\u001b[43m,\u001b[49m\u001b[43m \u001b[49m\u001b[38;5;241;43m*\u001b[39;49m\u001b[38;5;241;43m*\u001b[39;49m\u001b[43mkwargs\u001b[49m\u001b[43m)\u001b[49m\n\u001b[1;32m    475\u001b[0m proven_expr \u001b[38;5;241m=\u001b[39m proven_truth\u001b[38;5;241m.\u001b[39mexpr\n\u001b[1;32m    476\u001b[0m \u001b[38;5;28;01mif\u001b[39;00m \u001b[38;5;129;01mnot\u001b[39;00m \u001b[38;5;28misinstance\u001b[39m(proven_expr, Equals):\n",
      "File \u001b[0;32m~/Documents/Prove-It/packages/proveit/decorators.py:281\u001b[0m, in \u001b[0;36m_make_decorated_relation_prover.<locals>.decorated_relation_prover\u001b[0;34m(*args, **kwargs)\u001b[0m\n\u001b[1;32m    278\u001b[0m             kwargs[\u001b[38;5;124m'\u001b[39m\u001b[38;5;124mpreserve_expr\u001b[39m\u001b[38;5;124m'\u001b[39m] \u001b[38;5;241m=\u001b[39m expr\n\u001b[1;32m    280\u001b[0m \u001b[38;5;66;03m# Use the regular @prover wrapper.\u001b[39;00m\n\u001b[0;32m--> 281\u001b[0m proven_truth \u001b[38;5;241m=\u001b[39m \u001b[43mdecorated_prover\u001b[49m\u001b[43m(\u001b[49m\u001b[38;5;241;43m*\u001b[39;49m\u001b[43margs\u001b[49m\u001b[43m,\u001b[49m\u001b[43m \u001b[49m\u001b[38;5;241;43m*\u001b[39;49m\u001b[38;5;241;43m*\u001b[39;49m\u001b[43mkwargs\u001b[49m\u001b[43m)\u001b[49m\n\u001b[1;32m    283\u001b[0m \u001b[38;5;66;03m# Check that the result is of the expected form.\u001b[39;00m\n\u001b[1;32m    284\u001b[0m proven_expr \u001b[38;5;241m=\u001b[39m proven_truth\u001b[38;5;241m.\u001b[39mexpr\n",
      "File \u001b[0;32m~/Documents/Prove-It/packages/proveit/decorators.py:153\u001b[0m, in \u001b[0;36m_make_decorated_prover.<locals>.decorated_prover\u001b[0;34m(*args, **kwargs)\u001b[0m\n\u001b[1;32m    151\u001b[0m         Assumption\u001b[38;5;241m.\u001b[39mmake_assumptions()\n\u001b[1;32m    152\u001b[0m         \u001b[38;5;66;03m# Now call the prover function.\u001b[39;00m\n\u001b[0;32m--> 153\u001b[0m         proven_truth \u001b[38;5;241m=\u001b[39m checked_truth(\u001b[43mfunc\u001b[49m\u001b[43m(\u001b[49m\u001b[38;5;241;43m*\u001b[39;49m\u001b[43margs\u001b[49m\u001b[43m,\u001b[49m\u001b[43m \u001b[49m\u001b[38;5;241;43m*\u001b[39;49m\u001b[38;5;241;43m*\u001b[39;49m\u001b[43minternal_kwargs\u001b[49m\u001b[43m)\u001b[49m)\n\u001b[1;32m    154\u001b[0m \u001b[38;5;28;01melse\u001b[39;00m:\n\u001b[1;32m    155\u001b[0m     \u001b[38;5;66;03m# No defaults reconfiguration.\u001b[39;00m\n\u001b[1;32m    156\u001b[0m     internal_kwargs \u001b[38;5;241m=\u001b[39m \u001b[38;5;28mdict\u001b[39m(kwargs)\n",
      "File \u001b[0;32m~/Documents/Prove-It/packages/proveit/_core_/expression/operation/operation.py:694\u001b[0m, in \u001b[0;36mOperation.evaluation\u001b[0;34m(self, **defaults_config)\u001b[0m\n\u001b[1;32m    690\u001b[0m     evaluation \u001b[38;5;241m=\u001b[39m reduction\u001b[38;5;241m.\u001b[39mrhs\u001b[38;5;241m.\u001b[39mshallow_simplification(\n\u001b[1;32m    691\u001b[0m             must_evaluate\u001b[38;5;241m=\u001b[39m\u001b[38;5;28;01mTrue\u001b[39;00m)\n\u001b[1;32m    692\u001b[0m \u001b[38;5;28;01mexcept\u001b[39;00m (SimplificationError, UnsatisfiedPrerequisites,\n\u001b[1;32m    693\u001b[0m         \u001b[38;5;167;01mNotImplementedError\u001b[39;00m, ProofFailure):\n\u001b[0;32m--> 694\u001b[0m     \u001b[38;5;28;01mraise\u001b[39;00m EvaluationError(\u001b[38;5;28mself\u001b[39m)\n\u001b[1;32m    695\u001b[0m \u001b[38;5;28;01mreturn\u001b[39;00m reduction\u001b[38;5;241m.\u001b[39mapply_transitivity(evaluation)\n",
      "\u001b[0;31mEvaluationError\u001b[0m: Evaluation of 〈psi| . |psi〉 under assumptions {|psi〉 in Complex^{2}} is not known"
     ]
    }
   ],
   "source": [
    "Qmult(bra_psi.lhs,ket_psii.lhs).evaluation(assumptions=[ket_psii])"
   ]
  },
  {
   "cell_type": "code",
   "execution_count": 70,
   "metadata": {},
   "outputs": [
    {
     "ename": "TypeError",
     "evalue": "Parameter must be a Variable, Indexed variable, or range (ExprRange) over Indexed variables.  |psi〉 in Complex^{2} fails to meet this requirement.",
     "output_type": "error",
     "traceback": [
      "\u001b[0;31m---------------------------------------------------------------------------\u001b[0m",
      "\u001b[0;31mTypeError\u001b[0m                                 Traceback (most recent call last)",
      "Cell \u001b[0;32mIn[70], line 1\u001b[0m\n\u001b[0;32m----> 1\u001b[0m inner_prod_same\u001b[38;5;241m=\u001b[39m\u001b[43mForall\u001b[49m\u001b[43m(\u001b[49m\u001b[43m(\u001b[49m\u001b[43mket_psii\u001b[49m\u001b[43m)\u001b[49m\u001b[43m,\u001b[49m\u001b[43mEquals\u001b[49m\u001b[43m(\u001b[49m\u001b[43mx\u001b[49m\u001b[43m,\u001b[49m\u001b[43mone\u001b[49m\u001b[43m)\u001b[49m\u001b[43m,\u001b[49m\u001b[43mcondition\u001b[49m\u001b[38;5;241;43m=\u001b[39;49m\u001b[43mEquals\u001b[49m\u001b[43m(\u001b[49m\u001b[43mket_psii\u001b[49m\u001b[43m,\u001b[49m\u001b[43m \u001b[49m\u001b[43mket_psii\u001b[49m\u001b[43m)\u001b[49m\u001b[43m)\u001b[49m\n\u001b[1;32m      2\u001b[0m proveit\u001b[38;5;241m.\u001b[39mmagics\u001b[38;5;241m.\u001b[39mdisplay_assignments([\u001b[38;5;124m'\u001b[39m\u001b[38;5;124minner_prod_same\u001b[39m\u001b[38;5;124m'\u001b[39m], [inner_prod_same])\n",
      "File \u001b[0;32m~/Documents/Prove-It/packages/proveit/logic/booleans/quantification/universality/forall.py:29\u001b[0m, in \u001b[0;36mForall.__init__\u001b[0;34m(self, instance_param_or_params, instance_expr, domain, domains, condition, conditions, styles, _lambda_map)\u001b[0m\n\u001b[1;32m     18\u001b[0m \u001b[38;5;28;01mdef\u001b[39;00m \u001b[38;5;21m__init__\u001b[39m(\u001b[38;5;28mself\u001b[39m, instance_param_or_params, instance_expr, \u001b[38;5;241m*\u001b[39m,\n\u001b[1;32m     19\u001b[0m              domain\u001b[38;5;241m=\u001b[39m\u001b[38;5;28;01mNone\u001b[39;00m, domains\u001b[38;5;241m=\u001b[39m\u001b[38;5;28;01mNone\u001b[39;00m, condition\u001b[38;5;241m=\u001b[39m\u001b[38;5;28;01mNone\u001b[39;00m,\n\u001b[1;32m     20\u001b[0m              conditions\u001b[38;5;241m=\u001b[39m\u001b[38;5;28;01mNone\u001b[39;00m, styles\u001b[38;5;241m=\u001b[39m\u001b[38;5;28;01mNone\u001b[39;00m, _lambda_map\u001b[38;5;241m=\u001b[39m\u001b[38;5;28;01mNone\u001b[39;00m):\n\u001b[1;32m     21\u001b[0m \u001b[38;5;250m    \u001b[39m\u001b[38;5;124;03m'''\u001b[39;00m\n\u001b[1;32m     22\u001b[0m \u001b[38;5;124;03m    Create a Forall expression:\u001b[39;00m\n\u001b[1;32m     23\u001b[0m \u001b[38;5;124;03m    forall_{instance_param_or_params | conditions} instance_expr.\u001b[39;00m\n\u001b[0;32m   (...)\u001b[0m\n\u001b[1;32m     27\u001b[0m \u001b[38;5;124;03m    may be singular or plural (iterable).\u001b[39;00m\n\u001b[1;32m     28\u001b[0m \u001b[38;5;124;03m    '''\u001b[39;00m\n\u001b[0;32m---> 29\u001b[0m     \u001b[43mOperationOverInstances\u001b[49m\u001b[38;5;241;43m.\u001b[39;49m\u001b[38;5;21;43m__init__\u001b[39;49m\u001b[43m(\u001b[49m\n\u001b[1;32m     30\u001b[0m \u001b[43m        \u001b[49m\u001b[38;5;28;43mself\u001b[39;49m\u001b[43m,\u001b[49m\u001b[43m \u001b[49m\u001b[43mForall\u001b[49m\u001b[38;5;241;43m.\u001b[39;49m\u001b[43m_operator_\u001b[49m\u001b[43m,\u001b[49m\u001b[43m \u001b[49m\u001b[43minstance_param_or_params\u001b[49m\u001b[43m,\u001b[49m\n\u001b[1;32m     31\u001b[0m \u001b[43m        \u001b[49m\u001b[43minstance_expr\u001b[49m\u001b[43m,\u001b[49m\u001b[43m \u001b[49m\u001b[43mdomain\u001b[49m\u001b[38;5;241;43m=\u001b[39;49m\u001b[43mdomain\u001b[49m\u001b[43m,\u001b[49m\u001b[43m \u001b[49m\u001b[43mdomains\u001b[49m\u001b[38;5;241;43m=\u001b[39;49m\u001b[43mdomains\u001b[49m\u001b[43m,\u001b[49m\n\u001b[1;32m     32\u001b[0m \u001b[43m        \u001b[49m\u001b[43mcondition\u001b[49m\u001b[38;5;241;43m=\u001b[39;49m\u001b[43mcondition\u001b[49m\u001b[43m,\u001b[49m\u001b[43m \u001b[49m\u001b[43mconditions\u001b[49m\u001b[38;5;241;43m=\u001b[39;49m\u001b[43mconditions\u001b[49m\u001b[43m,\u001b[49m\u001b[43m \u001b[49m\u001b[43mstyles\u001b[49m\u001b[38;5;241;43m=\u001b[39;49m\u001b[43mstyles\u001b[49m\u001b[43m,\u001b[49m\n\u001b[1;32m     33\u001b[0m \u001b[43m        \u001b[49m\u001b[43m_lambda_map\u001b[49m\u001b[38;5;241;43m=\u001b[39;49m\u001b[43m_lambda_map\u001b[49m\u001b[43m)\u001b[49m\n",
      "File \u001b[0;32m~/Documents/Prove-It/packages/proveit/_core_/expression/operation/operation_over_instances.py:229\u001b[0m, in \u001b[0;36mOperationOverInstances.__init__\u001b[0;34m(self, operator, instance_param_or_params, instance_expr, domain, domains, condition, conditions, styles, _lambda_map)\u001b[0m\n\u001b[1;32m    227\u001b[0m         instance_param_or_params \u001b[38;5;241m=\u001b[39m instance_params[\u001b[38;5;241m0\u001b[39m]\n\u001b[1;32m    228\u001b[0m     \u001b[38;5;66;03m# Generate the Lambda sub-expression.\u001b[39;00m\n\u001b[0;32m--> 229\u001b[0m     lambda_map \u001b[38;5;241m=\u001b[39m \u001b[43mOperationOverInstances\u001b[49m\u001b[38;5;241;43m.\u001b[39;49m\u001b[43m_createOperand\u001b[49m\u001b[43m(\u001b[49m\n\u001b[1;32m    230\u001b[0m \u001b[43m        \u001b[49m\u001b[43minstance_param_or_params\u001b[49m\u001b[43m,\u001b[49m\u001b[43m \u001b[49m\u001b[43minstance_expr\u001b[49m\u001b[43m,\u001b[49m\u001b[43m \u001b[49m\u001b[43mconditions\u001b[49m\u001b[43m)\u001b[49m\n\u001b[1;32m    232\u001b[0m \u001b[38;5;28mself\u001b[39m\u001b[38;5;241m.\u001b[39minstance_expr \u001b[38;5;241m=\u001b[39m instance_expr\n\u001b[1;32m    233\u001b[0m \u001b[38;5;250m\u001b[39m\u001b[38;5;124;03m'''Expression corresponding to each 'instance' in the OperationOverInstances'''\u001b[39;00m\n",
      "File \u001b[0;32m~/Documents/Prove-It/packages/proveit/_core_/expression/operation/operation_over_instances.py:327\u001b[0m, in \u001b[0;36mOperationOverInstances._createOperand\u001b[0;34m(instance_param_or_params, instance_expr, conditions)\u001b[0m\n\u001b[1;32m    325\u001b[0m \u001b[38;5;28;01melse\u001b[39;00m:\n\u001b[1;32m    326\u001b[0m     conditional \u001b[38;5;241m=\u001b[39m Conditional(instance_expr, conditions)\n\u001b[0;32m--> 327\u001b[0m     \u001b[38;5;28;01mreturn\u001b[39;00m \u001b[43mLambda\u001b[49m\u001b[43m(\u001b[49m\u001b[43minstance_param_or_params\u001b[49m\u001b[43m,\u001b[49m\u001b[43m \u001b[49m\u001b[43mconditional\u001b[49m\u001b[43m)\u001b[49m\n",
      "File \u001b[0;32m~/Documents/Prove-It/packages/proveit/_core_/expression/lambda_expr/lambda_expr.py:121\u001b[0m, in \u001b[0;36mLambda.__init__\u001b[0;34m(self, parameter_or_parameters, body, styles)\u001b[0m\n\u001b[1;32m    118\u001b[0m \u001b[38;5;28;01mfrom\u001b[39;00m \u001b[38;5;21;01mproveit\u001b[39;00m\u001b[38;5;21;01m.\u001b[39;00m\u001b[38;5;21;01m_core_\u001b[39;00m\u001b[38;5;21;01m.\u001b[39;00m\u001b[38;5;21;01mexpression\u001b[39;00m\u001b[38;5;21;01m.\u001b[39;00m\u001b[38;5;21;01mcomposite\u001b[39;00m \u001b[38;5;28;01mimport\u001b[39;00m (\n\u001b[1;32m    119\u001b[0m     composite_expression, single_or_composite_expression)\n\u001b[1;32m    120\u001b[0m \u001b[38;5;28mself\u001b[39m\u001b[38;5;241m.\u001b[39mparameters \u001b[38;5;241m=\u001b[39m composite_expression(parameter_or_parameters)\n\u001b[0;32m--> 121\u001b[0m parameter_vars \u001b[38;5;241m=\u001b[39m [get_param_var(parameter)\n\u001b[1;32m    122\u001b[0m                   \u001b[38;5;28;01mfor\u001b[39;00m parameter \u001b[38;5;129;01min\u001b[39;00m \u001b[38;5;28mself\u001b[39m\u001b[38;5;241m.\u001b[39mparameters]\n\u001b[1;32m    123\u001b[0m \u001b[38;5;28;01mif\u001b[39;00m is_single(\u001b[38;5;28mself\u001b[39m\u001b[38;5;241m.\u001b[39mparameters):\n\u001b[1;32m    124\u001b[0m     \u001b[38;5;66;03m# has a single parameter\u001b[39;00m\n\u001b[1;32m    125\u001b[0m     \u001b[38;5;28mself\u001b[39m\u001b[38;5;241m.\u001b[39mparameter \u001b[38;5;241m=\u001b[39m \u001b[38;5;28mself\u001b[39m\u001b[38;5;241m.\u001b[39mparameters[\u001b[38;5;241m0\u001b[39m]\n",
      "File \u001b[0;32m~/Documents/Prove-It/packages/proveit/_core_/expression/lambda_expr/lambda_expr.py:121\u001b[0m, in \u001b[0;36m<listcomp>\u001b[0;34m(.0)\u001b[0m\n\u001b[1;32m    118\u001b[0m \u001b[38;5;28;01mfrom\u001b[39;00m \u001b[38;5;21;01mproveit\u001b[39;00m\u001b[38;5;21;01m.\u001b[39;00m\u001b[38;5;21;01m_core_\u001b[39;00m\u001b[38;5;21;01m.\u001b[39;00m\u001b[38;5;21;01mexpression\u001b[39;00m\u001b[38;5;21;01m.\u001b[39;00m\u001b[38;5;21;01mcomposite\u001b[39;00m \u001b[38;5;28;01mimport\u001b[39;00m (\n\u001b[1;32m    119\u001b[0m     composite_expression, single_or_composite_expression)\n\u001b[1;32m    120\u001b[0m \u001b[38;5;28mself\u001b[39m\u001b[38;5;241m.\u001b[39mparameters \u001b[38;5;241m=\u001b[39m composite_expression(parameter_or_parameters)\n\u001b[0;32m--> 121\u001b[0m parameter_vars \u001b[38;5;241m=\u001b[39m [\u001b[43mget_param_var\u001b[49m\u001b[43m(\u001b[49m\u001b[43mparameter\u001b[49m\u001b[43m)\u001b[49m\n\u001b[1;32m    122\u001b[0m                   \u001b[38;5;28;01mfor\u001b[39;00m parameter \u001b[38;5;129;01min\u001b[39;00m \u001b[38;5;28mself\u001b[39m\u001b[38;5;241m.\u001b[39mparameters]\n\u001b[1;32m    123\u001b[0m \u001b[38;5;28;01mif\u001b[39;00m is_single(\u001b[38;5;28mself\u001b[39m\u001b[38;5;241m.\u001b[39mparameters):\n\u001b[1;32m    124\u001b[0m     \u001b[38;5;66;03m# has a single parameter\u001b[39;00m\n\u001b[1;32m    125\u001b[0m     \u001b[38;5;28mself\u001b[39m\u001b[38;5;241m.\u001b[39mparameter \u001b[38;5;241m=\u001b[39m \u001b[38;5;28mself\u001b[39m\u001b[38;5;241m.\u001b[39mparameters[\u001b[38;5;241m0\u001b[39m]\n",
      "File \u001b[0;32m~/Documents/Prove-It/packages/proveit/_core_/expression/lambda_expr/lambda_expr.py:71\u001b[0m, in \u001b[0;36mget_param_var\u001b[0;34m(parameter, _required_indices)\u001b[0m\n\u001b[1;32m     69\u001b[0m     \u001b[38;5;28;01mreturn\u001b[39;00m parameter\n\u001b[1;32m     70\u001b[0m \u001b[38;5;28;01melse\u001b[39;00m:\n\u001b[0;32m---> 71\u001b[0m     \u001b[38;5;28;01mraise\u001b[39;00m \u001b[38;5;167;01mTypeError\u001b[39;00m(\u001b[38;5;124m'\u001b[39m\u001b[38;5;124mParameter must be a Variable, Indexed variable, or \u001b[39m\u001b[38;5;124m'\u001b[39m\n\u001b[1;32m     72\u001b[0m                     \u001b[38;5;124m'\u001b[39m\u001b[38;5;124mrange (ExprRange) over Indexed variables.  \u001b[39m\u001b[38;5;132;01m%s\u001b[39;00m\u001b[38;5;124m fails \u001b[39m\u001b[38;5;124m'\u001b[39m\n\u001b[1;32m     73\u001b[0m                     \u001b[38;5;124m'\u001b[39m\u001b[38;5;124mto meet this requirement.\u001b[39m\u001b[38;5;124m'\u001b[39m \u001b[38;5;241m%\u001b[39m parameter)\n",
      "\u001b[0;31mTypeError\u001b[0m: Parameter must be a Variable, Indexed variable, or range (ExprRange) over Indexed variables.  |psi〉 in Complex^{2} fails to meet this requirement."
     ]
    }
   ],
   "source": [
    "inner_prod_same=Forall((ket_psii),Equals(x,one),condition=Equals(ket_psii, ket_psii))"
   ]
  },
  {
   "cell_type": "code",
   "execution_count": 7,
   "metadata": {},
   "outputs": [],
   "source": [
    "%end demonstrations"
   ]
  },
  {
   "cell_type": "code",
   "execution_count": 2,
   "metadata": {},
   "outputs": [],
   "source": [
    "import proveit\n",
    "# Prepare this notebook for defining the axioms of a theory:\n",
    "%axioms_notebook # Keep this at the top following 'import proveit'.\n",
    "from proveit import (Operation, Function, Lambda, Conditional,\n",
    "                     ExprArray, ExprTuple, Composition)\n",
    "from proveit import (a, b, c, f, k, m, n, v, x, y, alpha, \n",
    "                     A, B, M, U, V, W, fx, fy)\n",
    "from proveit.core_expr_types import A_1_to_m, B_1_to_m\n",
    "from proveit.linear_algebra import (\n",
    "    LinMap, VecSpaces, MatrixSpace, MatrixMult, TensorProd, ScalarMult)\n",
    "from proveit.logic import (Iff, And, Or, Forall, Exists, Equals, \n",
    "                           InSet, Set, Union, SetOfAll, InClass)\n",
    "from proveit.numbers import zero, one, two, frac, Integer, Natural, NaturalPos, Complex, Exp\n",
    "from proveit.numbers import Add, Exp, Mult, sqrt, subtract, greater\n",
    "from proveit.numbers.number_sets import Interval\n",
    "from proveit.physics.quantum import (\n",
    "    Ket, NumKet)\n",
    "from proveit.physics.quantum.circuits import (Gate, QcircuitEquiv, Qcircuit,\n",
    "                                              Input, Output,unitary_gate_operation)\n",
    "# from proveit.physics.quantum import Bra, Ket, RegisterBra, Meas, MultiWire, Circuit\n",
    "from proveit.physics.quantum import ket0, ket1, ket_plus, H, QubitSpace, RegisterSU, I, CONTROL\n",
    "from proveit.physics.quantum import I, X, Y, Z, RegisterSU\n",
    "from proveit.physics.quantum import QubitRegisterSpace\n",
    "from proveit.linear_algebra import (\n",
    "    LinMap, VecAdd, VecNeg, VecZero, MatrixSpace, MatrixMult, ScalarMult, \n",
    "    HilbertSpaces, Hspace, InnerProd, TensorProd)\n"
   ]
  },
  {
   "cell_type": "code",
   "execution_count": 9,
   "metadata": {},
   "outputs": [
    {
     "name": "stdout",
     "output_type": "stream",
     "text": [
      "Defining axioms for theory 'Prove-It'\n",
      "Subsequent end-of-cell assignments will define axioms\n",
      "%end_axioms will finalize the definitions\n"
     ]
    }
   ],
   "source": [
    "%begin axioms"
   ]
  },
  {
   "cell_type": "code",
   "execution_count": 10,
   "metadata": {},
   "outputs": [
    {
     "data": {
      "text/html": [
       "<strong id=\"Z_on_zero\">Z_on_zero:</strong> <a class=\"ProveItLink\" href=\"__pv_it/axioms/8438103f8cb802cf02a23f9bffe8d960621f5a110/axiom_expr.ipynb\"><img src=\"data:image/png;base64,iVBORw0KGgoAAAANSUhEUgAAAGsAAAAWBAMAAAA1LX8gAAAAMFBMVEX///8AAAAAAAAAAAAAAAAA\n",
       "AAAAAAAAAAAAAAAAAAAAAAAAAAAAAAAAAAAAAAAAAAAv3aB7AAAAD3RSTlMAIma7zZnddlTvRImr\n",
       "EDIioekeAAAACXBIWXMAAA7EAAAOxAGVKw4bAAABnklEQVQ4y52Uv0vDQBTHv03TtMamBITOdSri\n",
       "ILWOSivqIDhkcBBcdBEFBxc3h+wOxcVBUDu52qFaN53FIYMIbvkDhIpQf6CD7+7SS0wuiw+O9L1P\n",
       "vty3794FiEbJE08XqvhDM5UQjLbF857WeEIWpRijNfK18tBocmCtT/p4oVrRVsgkxTytSxfWjseB\n",
       "7lqbMOi31VTIJNUcKqwB+pEAE0AXeWa8p5BJajAvd0DDF2AWaHl8p2eFTNIyK/gofgbgh1uuUaK3\n",
       "kzJJ90XptiKANSCwh0OWOAlZSKd5Jf8RgMw30O/AoETjPekusliK023+fssZygYc5MhgYSOxW0hP\n",
       "WMEkz3bURomaVHpNM0mUy/rkx5F/uuWi0FHKQspMZo49mBUB6sCUhyztbXKT11ssdhGjrCVPp+BH\n",
       "Hxzoqpg4rak8bkGvKF+2UVoIgOFaZ8ANJblOUibpBQ3te33m/G04rL0DmhfmT/cVozykhq24Gibr\n",
       "Tznt4jCqOQpQ9FNGOaQ1BXhEysWRlDctDqq0snaarBr/KOSDLswpPwpR+r/4BSBli43EHND0AAAA\n",
       "AElFTkSuQmCC\n",
       "\" style=\"display:inline;vertical-align:middle;\" /></a><br>"
      ],
      "text/plain": [
       "<IPython.core.display.HTML object>"
      ]
     },
     "metadata": {},
     "output_type": "display_data"
    }
   ],
   "source": [
    "Z_on_zero=Equals(MatrixMult(Z, ket0), ket0)"
   ]
  },
  {
   "cell_type": "code",
   "execution_count": 11,
   "metadata": {},
   "outputs": [
    {
     "data": {
      "text/html": [
       "<strong id=\"Z_on_one\">Z_on_one:</strong> <a class=\"ProveItLink\" href=\"__pv_it/axioms/6d1932aa8e2aba0e66e8b90e4dd480c8d14c23220/axiom_expr.ipynb\"><img src=\"data:image/png;base64,iVBORw0KGgoAAAANSUhEUgAAAIsAAAAWBAMAAAACz3JRAAAAMFBMVEX///8AAAAAAAAAAAAAAAAA\n",
       "AAAAAAAAAAAAAAAAAAAAAAAAAAAAAAAAAAAAAAAAAAAv3aB7AAAAD3RSTlMAIma7zZnddlTvRImr\n",
       "EDIioekeAAAACXBIWXMAAA7EAAAOxAGVKw4bAAABsElEQVQ4y2NgQAZ8FyB0AwMhgKGSUQEhyb0A\n",
       "Qp8CYkUsmoVwqxQGYs6fPmfsHRCSb4CYRwDDFEYDDGPgKh2BeH0DA2/mBYgkx1wGBjYgm9cBwxgW\n",
       "ARRjkFUyBQAFI4BKJkIk78T8ZWBgB3l0O4YxqijeR1HJBrLhAAOD/QOoHex/oS65iWFMImooIqsU\n",
       "Awk+YOD5gSzJYAjywgL0oEnANAamshQivF8BRbIbxAlAM4Y9AIsxUJVGEBXfUSXZgJgJHMZbXEDA\n",
       "FcRkVsBiDFRlBli0PwBVkhUUEQlormFrwGIMVOUskCDXHwYGAWRJPmCg831AM4YTKHslDQT8MFSC\n",
       "jXkPdH8AsjEcG3AYg+EaqEqQpxinXWDgUkCWZAa6jQvsqW1g63NwegqqEhTE16DJESEpDA9iJIA1\n",
       "iKEqtwIpTwEGPmcUyR2gwNuAZgw3tgiHqlwGzFrfjE3mf4JKsp78coiBAeQflgdoxnChJj8UlWzI\n",
       "GRmWb7lA9ooRygzIKpkCsBjD84CIrImq0hCLMVcYsBYUzAK4VQpjMUYdVQ+eYguuErkQZYeGqi3B\n",
       "QpSQSvIAAO1NjdulcUb9AAAAAElFTkSuQmCC\n",
       "\" style=\"display:inline;vertical-align:middle;\" /></a><br>"
      ],
      "text/plain": [
       "<IPython.core.display.HTML object>"
      ]
     },
     "metadata": {},
     "output_type": "display_data"
    }
   ],
   "source": [
    "Z_on_one=Equals(MatrixMult(Z, ket1), VecNeg(ket1))"
   ]
  },
  {
   "cell_type": "code",
   "execution_count": 71,
   "metadata": {},
   "outputs": [
    {
     "data": {
      "text/html": [
       "<strong id=\"X_on_zero\">X_on_zero:</strong> <a class=\"ProveItLink\" href=\"__pv_it/demonstrations/25ed59bf262b99d3d7ab9b3a6f1d5c2d50fabdd40/expr.ipynb\"><img src=\"data:image/png;base64,iVBORw0KGgoAAAANSUhEUgAAAG8AAAAWBAMAAAA8xt9aAAAAMFBMVEX///8AAAAAAAAAAAAAAAAA\n",
       "AAAAAAAAAAAAAAAAAAAAAAAAAAAAAAAAAAAAAAAAAAAv3aB7AAAAD3RSTlMAIma7zZnddlTvRIkQ\n",
       "qzLsm4+cAAAACXBIWXMAAA7EAAAOxAGVKw4bAAABpklEQVQ4y52UsUvDQBSHf61tUmtSCkI3Qaci\n",
       "IlpdFSvo3ApuIugiLkIXRyG7Q3cR6SCudlArThlcHIQqOOhi/gGp2lYpVuq7u8Qm5M7BB5dw7+Pj\n",
       "3r1cDghGyhZvC7II0MioHw1VxPuJxlhI9FMM04gufJSMQtPiyFibcPBCWTOtEhnFInuY78CkLVDM\n",
       "Mjah0cTIy8TEITiNFnnxLaTqLhoHzqCzDdQk4u16F5xqop6CM+KheaBs89VuZCvqXVFLRqTKd3UP\n",
       "fQOnFnI0iVUUIqO7IjXYtF1ktEksYZ9NiiqR6Iyb+vRQ5AtoVKGxZvPunC2xWA6IRLeFYHZ+xTYX\n",
       "46yBG6oViR6I1MqzFSyVNTn1qhKJCjHuNKZ9zSlbSFT/EomKUq+gvXloFpiyMUCfKclLvdhisRMQ\n",
       "ifLm6BVE2+gfgFX3JOZVKxI9Z4kHGj3bRZplHAGXbANVlUj0hLZS6Dg47nnFGLU9B2BVxpywGH9s\n",
       "3XOqpaXnP8m+fUb1dzAaLUqR6SgOeZ/mpOgaqt/Ko7x9YZQVPVeI2fDVobv9mJNeHX763/gBzReJ\n",
       "E2xan+8AAAAASUVORK5CYII=\n",
       "\" style=\"display:inline;vertical-align:middle;\" /></a><br>"
      ],
      "text/plain": [
       "<IPython.core.display.HTML object>"
      ]
     },
     "metadata": {},
     "output_type": "display_data"
    }
   ],
   "source": [
    "X_on_zero=Equals(MatrixMult(X, ket0), ket1)"
   ]
  },
  {
   "cell_type": "code",
   "execution_count": 72,
   "metadata": {},
   "outputs": [
    {
     "data": {
      "text/html": [
       "<strong id=\"X_on_one\">X_on_one:</strong> <a class=\"ProveItLink\" href=\"__pv_it/demonstrations/f5ee10b8100d5d1e34f1f8094d8fbfe489beecd60/expr.ipynb\"><img src=\"data:image/png;base64,iVBORw0KGgoAAAANSUhEUgAAAG8AAAAWBAMAAAA8xt9aAAAAMFBMVEX///8AAAAAAAAAAAAAAAAA\n",
       "AAAAAAAAAAAAAAAAAAAAAAAAAAAAAAAAAAAAAAAAAAAv3aB7AAAAD3RSTlMAIma7zZnddlTvRIkQ\n",
       "qzLsm4+cAAAACXBIWXMAAA7EAAAOxAGVKw4bAAABpUlEQVQ4y52UsUvDQBSHf41tUmtSCoVugk4i\n",
       "IlpdFRV0bgU3EXQRF6GLo5DdobuIdBBXO7RWnDK4OAhVcNDF/ANSta1SrNR7d7HtNZfFg5eQ9/El\n",
       "797dBZBH3BF3G6oh0dBYPxopiPszi3Gf2E+RZKEtfebMTN3uoVcWVkIhmptTLqdYoYv1AUw73juj\n",
       "J4DOHsxlhRi2zR1OtSwvvoF41UN3W23AoAlUFOIkUOJUF/Vk3NHuLIy297VbhbgI5B2iKZHK31cl\n",
       "EWkW4YJf/AEubKIHIjVcd2TxiB6yPtFsMjFHdM5LfUEWdWo2705plcaaoKFvoFYkuicEqzUgRqi9\n",
       "274vhppcZPRYpNZfbFmkJsffgkplVIgRtzYri9GiUqTm5G2iotRr6O+yOMSWKcZLvdylse/ReWDG\n",
       "IcqbYxSgNWUx2W2ObwNscFqmxCOLjiOJVzSBol/UbfOU03M2lUzLxVnnr5jIU+MBoCrDrmKTVw5d\n",
       "TvWE8uDEaO1TQceKqJZVIssN2OQ9mlaiGwQcqy7l7fOjCW9FEEgHfh2G148F5a+jn/53/ALh1okT\n",
       "arlf6AAAAABJRU5ErkJggg==\n",
       "\" style=\"display:inline;vertical-align:middle;\" /></a><br>"
      ],
      "text/plain": [
       "<IPython.core.display.HTML object>"
      ]
     },
     "metadata": {},
     "output_type": "display_data"
    }
   ],
   "source": [
    "X_on_one=Equals(MatrixMult(X, ket1), ket0)"
   ]
  },
  {
   "cell_type": "code",
   "execution_count": 12,
   "metadata": {},
   "outputs": [
    {
     "name": "stdout",
     "output_type": "stream",
     "text": [
      "Adding axiom Z_on_one to Prove-It theory\n",
      "Z_on_one expression notebook is being updated\n",
      "These axioms may now be imported from the theory package: Prove-It\n"
     ]
    }
   ],
   "source": [
    "%end axioms"
   ]
  },
  {
   "cell_type": "code",
   "execution_count": null,
   "metadata": {},
   "outputs": [],
   "source": []
  },
  {
   "cell_type": "code",
   "execution_count": 13,
   "metadata": {},
   "outputs": [],
   "source": [
    "%begin demonstrations"
   ]
  },
  {
   "cell_type": "code",
   "execution_count": 1,
   "metadata": {},
   "outputs": [
    {
     "ename": "NameError",
     "evalue": "name 'Z_on_zero' is not defined",
     "output_type": "error",
     "traceback": [
      "\u001b[0;31m---------------------------------------------------------------------------\u001b[0m",
      "\u001b[0;31mNameError\u001b[0m                                 Traceback (most recent call last)",
      "\u001b[0;32m<ipython-input-1-bbe12bfffed9>\u001b[0m in \u001b[0;36m<module>\u001b[0;34m\u001b[0m\n\u001b[0;32m----> 1\u001b[0;31m \u001b[0mZ_on_zero\u001b[0m\u001b[0;34m.\u001b[0m\u001b[0mevaluation\u001b[0m\u001b[0;34m(\u001b[0m\u001b[0;34m)\u001b[0m\u001b[0;34m\u001b[0m\u001b[0;34m\u001b[0m\u001b[0m\n\u001b[0m",
      "\u001b[0;31mNameError\u001b[0m: name 'Z_on_zero' is not defined"
     ]
    }
   ],
   "source": [
    "Z_on_zero.evaluation()"
   ]
  },
  {
   "cell_type": "code",
   "execution_count": 15,
   "metadata": {},
   "outputs": [
    {
     "data": {
      "text/html": [
       "<span style=\"font-size:20px;\"> <a class=\"ProveItLink\" href=\"__pv_it/demonstrations/cc2d62fe792cff5ef498ec241ad298e1a2a8b40c0/proof.ipynb\" style=\"text-decoration: none\">&nbsp;&#x22A2;&nbsp;&nbsp;</a><a class=\"ProveItLink\" href=\"__pv_it/demonstrations/ecbadd09c171a8787c649b03621accdfc84c51190/expr.ipynb\"><img src=\"data:image/png;base64,iVBORw0KGgoAAAANSUhEUgAAAMgAAAAWBAMAAAB3Qs7yAAAAMFBMVEX///8AAAAAAAAAAAAAAAAA\n",
       "AAAAAAAAAAAAAAAAAAAAAAAAAAAAAAAAAAAAAAAAAAAv3aB7AAAAD3RSTlMAIma7zZnddlTvRImr\n",
       "EDIioekeAAAACXBIWXMAAA7EAAAOxAGVKw4bAAACB0lEQVRIx71VO0sDQRCevJPLg8OAdQTF1qit\n",
       "GFELRcJVImgREUTBwsY+lRYWamMhiMEirSmM2vnoFIsUQRAs7gcIEREfYMDd7GZzO7ebpHLgy92R\n",
       "77tvZ2ZvFgBHosKueegU3TPBk2JoRrTArg8EfQp+j5bpNbUmSY7Iz9zjeKYlfSWIuWWeIZeJYN5i\n",
       "8vwqjRWACWA4y0N8vcKk4WOAILmPZ1wmflMykZhVRQ479MdrMcACecEBk74s1QFCtISXLtGAVFiZ\n",
       "Gd3UmARNBrgBGLf5+kJ1vrZnl2hZ7p7EjO9rTHo5wIbYt1MKaVqcAm5Jzm3SYs5qTLY4SFynJOku\n",
       "fbCQJmQpTASzrDEZ5iD8L1kapB1rdP58isY0vfWlFCaC2Y/YTZM1DoA9S5YG6ObJoYUF8woTwdzW\n",
       "ZHLEAcYvgOmUJshWSLwhTYT8W23s/qyCWetkUiP5Wk6TcElj4spEMHUmzXJ5DitgpJxSH8nLaJTr\n",
       "orH0DW25BLOI2LjxT/zTbUmTovGOUDY+KTVekUmZY8aExKQkvaItLSFNVLWFBXNRY1JkiH2OjJ68\n",
       "c2ng/uMOgObvt5HGkD9GxMy6TU6lsYJnq2E1Z0G7sSIxPTnNpBcDEktjdhcDUmaqBiSLNAeW0rmt\n",
       "GPU+U8+sdjy0sHRQfmObQ0sw010fvyHe67GOxy9mtjl+/yH+AIsLrJnfhnh1AAAAAElFTkSuQmCC\n",
       "\" style=\"display:inline;vertical-align:middle;\" /></a></span>"
      ],
      "text/plain": [
       "|- ((Z . |1〉) = (-|1〉)) = TRUE"
      ]
     },
     "metadata": {},
     "output_type": "display_data"
    }
   ],
   "source": [
    "Z_on_one.evaluation()"
   ]
  },
  {
   "cell_type": "code",
   "execution_count": 14,
   "metadata": {},
   "outputs": [
    {
     "data": {
      "text/html": [
       "<span style=\"font-size:20px;\"> <a class=\"ProveItLink\" href=\"__pv_it/demonstrations/89cf7c779f257c3047c0a49a11d327192f5228bc0/proof.ipynb\" style=\"text-decoration: none\">&nbsp;&#x22A2;&nbsp;&nbsp;</a><a class=\"ProveItLink\" href=\"__pv_it/demonstrations/14a91ac912c204c30d18e32f753877e9ccc4879f0/expr.ipynb\"><img src=\"data:image/png;base64,iVBORw0KGgoAAAANSUhEUgAAAJsAAAAWBAMAAAAlYfO5AAAAMFBMVEX///8AAAAAAAAAAAAAAAAA\n",
       "AAAAAAAAAAAAAAAAAAAAAAAAAAAAAAAAAAAAAAAAAAAv3aB7AAAAD3RSTlMAIma7zZnddlTvRIky\n",
       "EKtZsEGBAAAACXBIWXMAAA7EAAAOxAGVKw4bAAAB90lEQVQ4y62Uv0vDQBTHv01VQtNoQXC1gos4\n",
       "2OouFRxERDo4KYgu4iIUQVxEMwnioLMIutjVIhZBHPoPqB38gThYBzdBB0VBFN+7S2N6ydWlX0g4\n",
       "8h6fey/v7guQziFkogGKJHEqV637odFaddFjJPS4djDu+ugM8Upo1JM91VtCK6Me1bTmOaEUMCRw\n",
       "I7hJYCGIoyg2ynLd5NizsDO0ugopy8zx28gyztiGlcFiIIei9tOLi+sBjoETWlk5Ha4lwbhoBeZ3\n",
       "yKYcxZqLGwS2yrjjtrd1uA4wrq2C2CeigV/MUQ/3Axw6aOKBjepwSwL3kEXsA2ZBzVny4ex3wuVg\n",
       "0d9BUYfrF7jOAuJfwAx/sYaFstVoFRehhMsCDJ5Ft5pYxc1LXFbgJtUt5/24d4Ezec91XXU7vmZx\n",
       "oebsBJuNv9L6sj6ORmF+Apv1cDyKLecfnGw2moLxDaTFL5EnvKI2iwGgr4wYN5tXE2tHQce4OYNI\n",
       "St3SPwo+xhPwjSKsuqLAURl3JViOmlN0cfYbn2nH3qXryadpSofLS9z98jPlB3I4Or03nsQcVWif\n",
       "rJbo5tKDsSAulvy7ZFIH4ZdM7J3wX5TIjM6fpAVIPYdGhSzvk84CXKU9nPCeYFTo1jM9nUHV2Kco\n",
       "Jae3T8+UhU2k65r7iptZboC5N1S/+/aP4woEq10AAAAASUVORK5CYII=\n",
       "\" style=\"display:inline;vertical-align:middle;\" /></a></span>"
      ],
      "text/plain": [
       "|- (|0〉 = (1, 0)) = TRUE"
      ]
     },
     "metadata": {},
     "output_type": "display_data"
    }
   ],
   "source": [
    "ket_zero_def.evaluation()"
   ]
  },
  {
   "cell_type": "code",
   "execution_count": 86,
   "metadata": {},
   "outputs": [
    {
     "data": {
      "text/html": [
       "<a class=\"ProveItLink\" href=\"packages/proveit/physics/quantum/__pv_it/common/133ac00fe58669eb9caf707029e78ad2443dad960/expr.ipynb\"><img src=\"data:image/png;base64,iVBORw0KGgoAAAANSUhEUgAAABQAAAAWBAMAAAAyb6E1AAAAMFBMVEX///8AAAAAAAAAAAAAAAAA\n",
       "AAAAAAAAAAAAAAAAAAAAAAAAAAAAAAAAAAAAAAAAAAAv3aB7AAAAD3RSTlMAMhCJRHaZZs1U3SLv\n",
       "u6tsAoCUAAAACXBIWXMAAA7EAAAOxAGVKw4bAAAAnklEQVQI12MQYgADTiA2gTD5HMBMNXNDBsYH\n",
       "YGYng9YGhkUgJvsBBuYGhnAQk/cBA+cnBg0Qk/8BA8tPBt4NQKZ+AgPLVwZOAyBzvwED42cGhgUg\n",
       "ZgKYmQJXwCAH0cb5k4FhMsiwCwzsnxgYbkOsYGtg4L4Asnglg44AA/MEEFM59CEDAxfckQxuCOZD\n",
       "OJOpAc5kD2BgCIQweRUYkAAAbkUjK24wxu4AAAAASUVORK5CYII=\n",
       "\" style=\"display:inline;vertical-align:middle;\" /></a>"
      ],
      "text/plain": [
       "|0〉"
      ]
     },
     "metadata": {},
     "output_type": "display_data"
    }
   ],
   "source": [
    "Z_on_zero.rhs"
   ]
  },
  {
   "cell_type": "code",
   "execution_count": 87,
   "metadata": {},
   "outputs": [
    {
     "data": {
      "text/html": [
       "<a class=\"ProveItLink\" href=\"packages/proveit/physics/quantum/__pv_it/common/133ac00fe58669eb9caf707029e78ad2443dad960/expr.ipynb\"><img src=\"data:image/png;base64,iVBORw0KGgoAAAANSUhEUgAAABQAAAAWBAMAAAAyb6E1AAAAMFBMVEX///8AAAAAAAAAAAAAAAAA\n",
       "AAAAAAAAAAAAAAAAAAAAAAAAAAAAAAAAAAAAAAAAAAAv3aB7AAAAD3RSTlMAMhCJRHaZZs1U3SLv\n",
       "u6tsAoCUAAAACXBIWXMAAA7EAAAOxAGVKw4bAAAAnklEQVQI12MQYgADTiA2gTD5HMBMNXNDBsYH\n",
       "YGYng9YGhkUgJvsBBuYGhnAQk/cBA+cnBg0Qk/8BA8tPBt4NQKZ+AgPLVwZOAyBzvwED42cGhgUg\n",
       "ZgKYmQJXwCAH0cb5k4FhMsiwCwzsnxgYbkOsYGtg4L4Asnglg44AA/MEEFM59CEDAxfckQxuCOZD\n",
       "OJOpAc5kD2BgCIQweRUYkAAAbkUjK24wxu4AAAAASUVORK5CYII=\n",
       "\" style=\"display:inline;vertical-align:middle;\" /></a>"
      ],
      "text/plain": [
       "|0〉"
      ]
     },
     "metadata": {},
     "output_type": "display_data"
    }
   ],
   "source": [
    "ket_zero_def.lhs"
   ]
  },
  {
   "cell_type": "code",
   "execution_count": 18,
   "metadata": {},
   "outputs": [
    {
     "ename": "ProofFailure",
     "evalue": "Unable to prove |0〉 = |0〉 without automation:\nNo pre-existing proof",
     "output_type": "error",
     "traceback": [
      "\u001b[0;31m---------------------------------------------------------------------------\u001b[0m",
      "\u001b[0;31mProofFailure\u001b[0m                              Traceback (most recent call last)",
      "Cell \u001b[0;32mIn[18], line 1\u001b[0m\n\u001b[0;32m----> 1\u001b[0m _ \u001b[38;5;241m=\u001b[39m \u001b[43mEquals\u001b[49m\u001b[43m(\u001b[49m\u001b[43mZ_on_zero\u001b[49m\u001b[38;5;241;43m.\u001b[39;49m\u001b[43mrhs\u001b[49m\u001b[43m,\u001b[49m\u001b[43mket_zero_def\u001b[49m\u001b[38;5;241;43m.\u001b[39;49m\u001b[43mlhs\u001b[49m\u001b[43m)\u001b[49m\u001b[38;5;241;43m.\u001b[39;49m\u001b[43mprove\u001b[49m\u001b[43m(\u001b[49m\u001b[43m)\u001b[49m\n\u001b[1;32m      2\u001b[0m proveit\u001b[38;5;241m.\u001b[39mmagics\u001b[38;5;241m.\u001b[39mdisplay_assignments([\u001b[38;5;124m'\u001b[39m\u001b[38;5;124m_\u001b[39m\u001b[38;5;124m'\u001b[39m], [_])\n",
      "File \u001b[0;32m~/Documents/Prove-It/packages/proveit/decorators.py:161\u001b[0m, in \u001b[0;36m_make_decorated_prover.<locals>.decorated_prover\u001b[0;34m(*args, **kwargs)\u001b[0m\n\u001b[1;32m    159\u001b[0m     Assumption\u001b[38;5;241m.\u001b[39mmake_assumptions()\n\u001b[1;32m    160\u001b[0m     \u001b[38;5;66;03m# Now call the prover function.\u001b[39;00m\n\u001b[0;32m--> 161\u001b[0m     proven_truth \u001b[38;5;241m=\u001b[39m checked_truth(\u001b[43mfunc\u001b[49m\u001b[43m(\u001b[49m\u001b[38;5;241;43m*\u001b[39;49m\u001b[43margs\u001b[49m\u001b[43m,\u001b[49m\u001b[43m \u001b[49m\u001b[38;5;241;43m*\u001b[39;49m\u001b[38;5;241;43m*\u001b[39;49m\u001b[43minternal_kwargs\u001b[49m\u001b[43m)\u001b[49m)\n\u001b[1;32m    163\u001b[0m \u001b[38;5;28;01mif\u001b[39;00m automatic \u001b[38;5;129;01mand\u001b[39;00m \u001b[38;5;129;01mnot\u001b[39;00m defaults\u001b[38;5;241m.\u001b[39mpreserve_all:\n\u001b[1;32m    164\u001b[0m     \u001b[38;5;66;03m# Temporarily reconfigure defaults\u001b[39;00m\n\u001b[1;32m    165\u001b[0m     \u001b[38;5;28;01mwith\u001b[39;00m defaults\u001b[38;5;241m.\u001b[39mtemporary() \u001b[38;5;28;01mas\u001b[39;00m temp_defaults:\n",
      "File \u001b[0;32m~/Documents/Prove-It/packages/proveit/_core_/expression/expr.py:914\u001b[0m, in \u001b[0;36mExpression.prove\u001b[0;34m(self, **defaults_config)\u001b[0m\n\u001b[1;32m    911\u001b[0m     \u001b[38;5;28;01mreturn\u001b[39;00m Assumption\u001b[38;5;241m.\u001b[39mmake_assumption(\u001b[38;5;28mself\u001b[39m)\u001b[38;5;241m.\u001b[39mproven_truth\n\u001b[1;32m    913\u001b[0m \u001b[38;5;28;01mif\u001b[39;00m \u001b[38;5;129;01mnot\u001b[39;00m automation:\n\u001b[0;32m--> 914\u001b[0m     \u001b[38;5;28;01mraise\u001b[39;00m ProofFailure(\u001b[38;5;28mself\u001b[39m, assumptions, \u001b[38;5;124m\"\u001b[39m\u001b[38;5;124mNo pre-existing proof\u001b[39m\u001b[38;5;124m\"\u001b[39m)\n\u001b[1;32m    916\u001b[0m \u001b[38;5;28;01mif\u001b[39;00m \u001b[38;5;129;01mnot\u001b[39;00m \u001b[38;5;28mself\u001b[39m\u001b[38;5;241m.\u001b[39m_readily_provable():\n\u001b[1;32m    917\u001b[0m     \u001b[38;5;66;03m# Maybe this Expression isn't readily provable by\u001b[39;00m\n\u001b[1;32m    918\u001b[0m     \u001b[38;5;66;03m# expression-specific means (note that '_readily_provable'\u001b[39;00m\n\u001b[0;32m   (...)\u001b[0m\n\u001b[1;32m    923\u001b[0m     \u001b[38;5;66;03m# should use its 'conclude' method instead to derive\u001b[39;00m\n\u001b[1;32m    924\u001b[0m     \u001b[38;5;66;03m# the relation more directly.\u001b[39;00m\n\u001b[1;32m    925\u001b[0m     canonical_form \u001b[38;5;241m=\u001b[39m \u001b[38;5;28mself\u001b[39m\u001b[38;5;241m.\u001b[39mcanonical_form()\n",
      "\u001b[0;31mProofFailure\u001b[0m: Unable to prove |0〉 = |0〉 without automation:\nNo pre-existing proof"
     ]
    }
   ],
   "source": [
    "Equals(Z_on_zero.rhs,ket_zero_def.lhs).prove()"
   ]
  },
  {
   "cell_type": "code",
   "execution_count": null,
   "metadata": {},
   "outputs": [],
   "source": []
  },
  {
   "cell_type": "code",
   "execution_count": null,
   "metadata": {},
   "outputs": [],
   "source": []
  }
 ],
 "metadata": {
  "kernelspec": {
   "display_name": "Python 3",
   "language": "python",
   "name": "python3"
  },
  "language_info": {
   "codemirror_mode": {
    "name": "ipython",
    "version": 3
   },
   "file_extension": ".py",
   "mimetype": "text/x-python",
   "name": "python",
   "nbconvert_exporter": "python",
   "pygments_lexer": "ipython3",
   "version": "3.7.3"
  }
 },
 "nbformat": 4,
 "nbformat_minor": 5
}
