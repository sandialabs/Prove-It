{
 "cells": [
  {
   "cell_type": "markdown",
   "metadata": {},
   "source": [
    "Proof of <a class=\"ProveItLink\" href=\"../../../../../_theory_nbs_/theory.ipynb\">proveit</a>.<a class=\"ProveItLink\" href=\"../../../../_theory_nbs_/theory.ipynb\">physics</a>.<a class=\"ProveItLink\" href=\"../../theory.ipynb\">quantum</a>.<a class=\"ProveItLink\" href=\"../../theorems.ipynb#scaled_qubit_state_in_qubit_space\">scaled_qubit_state_in_qubit_space</a> theorem\n",
    "========"
   ]
  },
  {
   "cell_type": "code",
   "execution_count": 1,
   "metadata": {},
   "outputs": [],
   "source": [
    "import proveit\n",
    "theory = proveit.Theory() # the theorem's theory"
   ]
  },
  {
   "cell_type": "code",
   "execution_count": 2,
   "metadata": {},
   "outputs": [
    {
     "data": {
      "text/html": [
       "With these <a href=\"allowed_presumptions.txt\">allowed</a>/<a href=\"disallowed_presumptions.txt\">disallowed</a> theorem/theory presumptions (e.g., to avoid circular dependencies), we begin our proof of<br><strong id=\"scaled_qubit_state_in_qubit_space\">scaled_qubit_state_in_qubit_space:</strong> <a class=\"ProveItLink\" href=\"../../../__pv_it/theorems/21c6465a160a000b9f1f7c42f04e9c8744c254250/expr.ipynb\"><img src=\"data:image/png;base64,iVBORw0KGgoAAAANSUhEUgAAAQAAAAAaBAMAAACqZp8cAAAAMFBMVEX///8AAAAAAAAAAAAAAAAA\n",
       "AAAAAAAAAAAAAAAAAAAAAAAAAAAAAAAAAAAAAAAAAAAv3aB7AAAAD3RSTlMAq1RmmUTNIjK7EInv\n",
       "3XZ/CtNrAAAACXBIWXMAAA7EAAAOxAGVKw4bAAAEBUlEQVRIx8VXa0gUURQ+uzPuvNbNfpVRslAk\n",
       "UdmGIWkQG2aJRS3Vj4gooSQMkjGiEk02KIieFkqNUSwZkQS52gN8YEZEUFQSZg9aWHsQGoh/TBPC\n",
       "zr0zszuTO7NWQgMzd+45d+Z+c853vnsH4D8cYvv00ORHz4nI9gOYwJ8CYIHtBj/eeCKvko8uTjZg\n",
       "3h9HYFqAG4UKepv97wBEMoBL6OKsYhZCAEx0igAIPrx8TOhKiU5A29pbdjgMIHUDvFcBpJFmri0A\n",
       "B2mcPgt/FXGGE/s+/W7oewTXf2D2zyAJ+1QABaTZYwuAJSxzWVFxHZ43LHyu38jOfkGkuX7g6rHT\n",
       "FKIAjpJc1dgC4EmUKqz8w3jmWyXbb+4fE3BShx8OwCFE56MACEjJa8+Bvdi0WLj5Mbx0WT38VG08\n",
       "VyK9pJ0lEB74uEsnijAcNRQAgzhcSUiYbcNFD9LJaUnUXSoZy7RU1BygjXt8fAif7FKr4Hkk8iwJ\n",
       "AHck8sGCZuBAP0ud7c3BuPl23812jGsz7RzU5ufSThlrZEwFUAhQP6F+sgqMANggCFbaKdRo2TwS\n",
       "EJ9wsVz6PRmodpADRo7z4c3G5I2qAMoRmCmmtRnVbmgyAsAB5eZp+1d91WrchQ+nknlfANR6dJiM\n",
       "zIw5ENYik5Rw/h1GmRpWAQghSRdzvk8JiOdl52UOTpuEqB7uxfpn0+ugcQYs0HKSikR34wtYzOoa\n",
       "iXDsO3kTsHTWc/S1mOXIO8qBSqMoaQCc0RgHV2MSpdsAKwDqTACy4hxkMWXQFgUmHI8AAeDGVHS0\n",
       "EUuPSjQaoe10pliV1wvGCGgpgOKVeBlc+1n2kFQ2HCcazgZNAFxUuO98gxAVN3E5ziibU9CEIx4Y\n",
       "ynmnLGI+FtP7bt24hVJJCzg/ogFowTL3yOkubyMxZ2aSa5vHBECajw+mBh3RMP0a5/64LDrQIODk\n",
       "0/DsiFkbA7OB5COX9gbjSohw2WJzFUAVGhm4ygOlaF4e+azxnyYA3EO8rAKmJJBCosQ0xGuCVLOU\n",
       "RmWF2cjr1iUn18MmTafxdbHI9O+Wr/XoRNV0ABw03BiPHEVRvCe2JloNZ+L5GFKeAVOqKBf440FT\n",
       "NfMkxu3ZA2ynbr0+6Mwns75W6Za+LbYavuzRo8emGZdjvosDqhKEhGLC5XiEyC5PuYckBD0Ij/F8\n",
       "ayESnJb9lFZVis0rlc8AoEoqZlWx4e7K0JkQQAlIQyFVtCrXghQ1rIbLrPZePhuJ1VZDnR2dA8Bd\n",
       "Ire3SmuDCQGUf/Rt8EIFcYr3lULdTBRDsFirK+w0funEHdEtRQkk2xGJrUqdeTHwGivdfFy0A/Bm\n",
       "KveE1YlXSrv99JTtCWHh3/0cTHpXvG/q/wvoUUT/Cx79AhuM/jkP0v4lAAAAAElFTkSuQmCC\n",
       "\" style=\"display:inline;vertical-align:middle;\" /></a><br>(see <a class=\"ProveItLink\" href=\"../../../__pv_it/theorems/2db250f46f7e1f57f159f42e3a0408acddc115160/dependencies.ipynb\">dependencies</a>)<br>"
      ],
      "text/plain": [
       "<IPython.core.display.HTML object>"
      ]
     },
     "metadata": {},
     "output_type": "display_data"
    }
   ],
   "source": [
    "%proving scaled_qubit_state_in_qubit_space"
   ]
  },
  {
   "cell_type": "code",
   "execution_count": null,
   "metadata": {},
   "outputs": [],
   "source": []
  }
 ],
 "metadata": {
  "kernelspec": {
   "display_name": "Python 3",
   "language": "python",
   "name": "python3"
  }
 },
 "nbformat": 4,
 "nbformat_minor": 0
}