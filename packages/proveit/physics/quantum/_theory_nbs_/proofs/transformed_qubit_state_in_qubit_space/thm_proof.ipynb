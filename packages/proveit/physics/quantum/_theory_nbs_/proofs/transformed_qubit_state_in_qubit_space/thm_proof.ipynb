{
 "cells": [
  {
   "cell_type": "markdown",
   "metadata": {},
   "source": [
    "Proof of <a class=\"ProveItLink\" href=\"../../../../../_theory_nbs_/theory.ipynb\">proveit</a>.<a class=\"ProveItLink\" href=\"../../../../_theory_nbs_/theory.ipynb\">physics</a>.<a class=\"ProveItLink\" href=\"../../theory.ipynb\">quantum</a>.<a class=\"ProveItLink\" href=\"../../theorems.ipynb#transformed_qubit_state_in_qubit_space\">transformed_qubit_state_in_qubit_space</a> theorem\n",
    "========"
   ]
  },
  {
   "cell_type": "code",
   "execution_count": 1,
   "metadata": {},
   "outputs": [],
   "source": [
    "import proveit\n",
    "theory = proveit.Theory() # the theorem's theory"
   ]
  },
  {
   "cell_type": "code",
   "execution_count": 2,
   "metadata": {},
   "outputs": [
    {
     "data": {
      "text/html": [
       "With these <a href=\"allowed_presumptions.txt\">allowed</a>/<a href=\"disallowed_presumptions.txt\">disallowed</a> theorem/theory presumptions (e.g., to avoid circular dependencies), we begin our proof of<br><strong id=\"transformed_qubit_state_in_qubit_space\">transformed_qubit_state_in_qubit_space:</strong> <a class=\"ProveItLink\" href=\"../../../__pv_it/theorems/f413958e75f98aed554b68bb05af0afe2b388d8f0/expr.ipynb\"><img src=\"data:image/png;base64,iVBORw0KGgoAAAANSUhEUgAAAREAAAAaBAMAAABiCnXKAAAAMFBMVEX///8AAAAAAAAAAAAAAAAA\n",
       "AAAAAAAAAAAAAAAAAAAAAAAAAAAAAAAAAAAAAAAAAAAv3aB7AAAAD3RSTlMAq1RmmUTNIjK7EInv\n",
       "3XZ/CtNrAAAACXBIWXMAAA7EAAAOxAGVKw4bAAAEdUlEQVRIx8VXa4gbVRQ+SSaZRzZpREFbRSIW\n",
       "+0PoxjdW0Ij2QYsS8IFSlKUIUn9oFoq6WEsEhUqrROmCs1IZtQi60B2KgttKN6X4S9S1lLZoB7M+\n",
       "kBYs9UfttqDrd86dmUx20mwiKw7cedy598x3z/nOd+4Q/Z+HdeAyp/fRCe94H7ZTlX6QaKRNUxk3\n",
       "v3vFhUdn+lrl8r5GL6noszQiKygtMhJrCCc91l29lAcdIEk1/wskJhv8Kdb9ZBzy5LFnX3SJstNE\n",
       "3yskBe6/viuSBF+SpV6QbOWRLg3/+F2RrvmzGXTnY5NnDtOeC2DIG2DsjEKymvuf7opEYxZmqr0g\n",
       "2YD2EdoUpuTdVv8z86n6K17eWSZ9DA8TjiB5hQNb74rEYL+N9BSdc2j3oT3HX4sk6K3zxr1q4mWi\n",
       "TFvoBXyhJEgy6MoWu/OEV7SvFyDGRZwaaBc4/SMvBnxUpzyPOU3LTOZKSX9n+3pArgsSJm1mAcbe\n",
       "gstQL0jy4F8SI9N/42E8akQR5dHT/nN9iwI4N3cWsxoqd772vK8WQDLgeSfdnlQQKDTOiFk83CY5\n",
       "cmbZDrgzK4mhB3TRCzsis9IXFZJ1RGPzLaZXro4i0WpkdlTlpNA430riulp+jiNUVio603wAHxKX\n",
       "hqw33IeiMZ1VSIaBsM3Du67dNkATUSQYMAyW/VHSdyvXWF/84GiHali2VI5yOBaWciDdBFsUq3fQ\n",
       "Pc7lgNxokya9HFUY/ZxCYjrZoFYYM3bFequafFennW3KNkafwRpC+gge3lw6SmaB12wVVOXYGIzN\n",
       "AdMArA3Cri5qUqM1Yvksn3d6OCRP6y9FVc5HkmyGUO+vIaJ7ie4iGm1DspIJq6HBuraOwwAkLguN\n",
       "VI6ME/EJI5liQ34ovpFwi08+Do2OmVGf+NGhobtxOrP2l6oo4YevceEAM6JIMlwbci5/nX6mEEnO\n",
       "rxyhCgTRmWolcfo8fYLlTovLQqMPC+/8WBjnfST7wOh8dWmmKJBXrODz/nwbkuwNmDhRYZ9Y9RaS\n",
       "5/kWlSMZECWBlyZAD2L4leL40USD4adkVr7Z0tiCcnI0d2grOlP0nkHC51Wr+Otzf7Uh0Q/hNIg5\n",
       "NUqXWkge51tUjnSg0awMnLCZMg2LV5OzexrpokptHJtCq6eeqn5wNKjIvp5QQubAQ7fbtl3c/lin\n",
       "WnwV2hrJ19Rm235bFu/SdQwSEmDUI8pgcCAmr1DLtx5sLr+Z46IC8f6oE9bib48GOa0VorsCo6GT\n",
       "qA0z1uq4K7iXaC9LQSCmLr2OO64cYXToS7QTHYTnZf+6cbcXF2u/7vjVPDukKfXSP63SwY5IniDL\n",
       "pUAGj1C+xgyUytGK/4YO1Y78qnjJw6/FAYMOnoZVvh3fvKvWEUnyakmbEXk7fuBzsKWqKocZ7hhY\n",
       "hsz4/qFrsaeb4nu2cduuLLhnsybtQGzSfjFq6UQC7LTinzW7bm6OL8LucW3bJdjHbouN+63r78Bi\n",
       "7GOzzvw/ixv7/+npfW/f7X9HkFj/+n9HjvX8v3Oy9A/3iRFQyp9DgwAAAABJRU5ErkJggg==\n",
       "\" style=\"display:inline;vertical-align:middle;\" /></a><br>(see <a class=\"ProveItLink\" href=\"../../../__pv_it/theorems/f4620ff69692bdf6831757a2f0550829e352990d0/dependencies.ipynb\">dependencies</a>)<br>"
      ],
      "text/plain": [
       "<IPython.core.display.HTML object>"
      ]
     },
     "metadata": {},
     "output_type": "display_data"
    }
   ],
   "source": [
    "%proving transformed_qubit_state_in_qubit_space"
   ]
  },
  {
   "cell_type": "code",
   "execution_count": null,
   "metadata": {},
   "outputs": [],
   "source": []
  }
 ],
 "metadata": {
  "kernelspec": {
   "display_name": "Python 3",
   "language": "python",
   "name": "python3"
  }
 },
 "nbformat": 4,
 "nbformat_minor": 0
}