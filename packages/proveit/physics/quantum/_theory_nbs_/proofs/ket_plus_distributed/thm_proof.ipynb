{
 "cells": [
  {
   "cell_type": "markdown",
   "metadata": {},
   "source": [
    "Proof of <a class=\"ProveItLink\" href=\"../../../../../_theory_nbs_/theory.ipynb\">proveit</a>.<a class=\"ProveItLink\" href=\"../../../../_theory_nbs_/theory.ipynb\">physics</a>.<a class=\"ProveItLink\" href=\"../../theory.ipynb\">quantum</a>.<a class=\"ProveItLink\" href=\"../../theorems.ipynb#ket_plus_distributed\">ket_plus_distributed</a> theorem\n",
    "========"
   ]
  },
  {
   "cell_type": "code",
   "execution_count": 1,
   "metadata": {},
   "outputs": [],
   "source": [
    "import proveit\n",
    "theory = proveit.Theory() # the theorem's theory"
   ]
  },
  {
   "cell_type": "code",
   "execution_count": 2,
   "metadata": {},
   "outputs": [
    {
     "data": {
      "text/html": [
       "With these <a href=\"allowed_presumptions.txt\">allowed</a>/<a href=\"disallowed_presumptions.txt\">disallowed</a> theorem/theory presumptions (e.g., to avoid circular dependencies), we begin our proof of<br><strong id=\"ket_plus_distributed\">ket_plus_distributed:</strong> <a class=\"ProveItLink\" href=\"../../../__pv_it/theorems/fb72dffd6bf0640c789450257291b1bda2cdfb060/expr.ipynb\"><img src=\"data:image/png;base64,iVBORw0KGgoAAAANSUhEUgAAATgAAAAyBAMAAAA6vdqLAAAAMFBMVEX///8AAAAAAAAAAAAAAAAA\n",
       "AAAAAAAAAAAAAAAAAAAAAAAAAAAAAAAAAAAAAAAAAAAv3aB7AAAAD3RSTlMAIolEdjJmVJnd76u7\n",
       "zRDVRUmUAAAACXBIWXMAAA7EAAAOxAGVKw4bAAAEv0lEQVRYw6VZS0hUURj+5+XMpE6zLQyloBYG\n",
       "umrrbIqowNlWyLhoUxAO0qKdUhuNxIIWjZFa0CLNshaBbrSFizJibFNExNAuInrZA9SxM/f8d+ae\n",
       "1z2PzqK/Ofd+n98993+dcwG0Y4Walrz+Vsi8Ul6ywofwMKO5n9qnRnefrKiu2OHVPMx4gho7/InE\n",
       "ZMjdyWuqZ7TDK3mY0VSm9rw/8XmsGnZ/p2LeFt9pIm531jORO/WZeCh5ul86bY1X8LDjBt6bMyRP\n",
       "PpT/TVu8god9q9PUngNDcngrnbXHv9WL24F+fNeYvCcrm7XHy3mY0VsRCDXkrfOSSQe8lIcdt9Bl\n",
       "5o3Jk7LLDvhkVact8YvaQt6YPLMumXTAS3nY1InxsAjG5PBcMueCf66NB3wdsxbkAxJPdsEP6CKi\n",
       "QFNh4rcF+VcxfTrhiW3IS8iClV6Ofw/MRb/z2R9tnl3toB4XPLH7QnuaF3hpOuCGi1tcgxHtZnsr\n",
       "sWY74YltiEsOi+Ie4EMsh72HGvneo1m4iD+/ia6rxddaFQ5PbEMciE+c+Yuvf1hD3lrMXIc0Vryf\n",
       "ohvp8F6rwuGJ9cTFPB88IDoy5ppCTkN+FuAgRIsMCOBQPa50eC9KODyxnrikB24Ts/UfaoeKGvJV\n",
       "ck8lsswsN8AF/z9avCeOwxMbENcqJJYmLBADeQ054SsUYY3+3hDEafE0v3D4jaC4ZIcqBfRmw8lr\n",
       "D0tS4iD9vSmI0+FRHIffDIqjETFaqg1a8KOYL7sq4eSRH55foUfPCeJ0eBTH4ecYcZd5WArFjZuI\n",
       "64AUTVglQdy4mTgOXyLiUqXSxP1SieTl00Ldx5SzRM02M7wcUaavlYjryUGC5vYJwDcw478BHR7F\n",
       "MfiaDa7coEacpE8brgcEiUh02glh5bR4Ko7Ds+LWeJ8zfa3wkkRkxQ9359fK4UtBcRGhyPg1uksX\n",
       "bWT/MlZPlJKAMIvWtpCAiAqpMo55rpfNU4W6z/jk6WLmXr3EzIqpRIeny8DhZ4Pi0mCYhFeEJ89c\n",
       "Op6vF+e/uiQs4mmrwuGZCnFRLF9Yg4e6mYq7LG95sK2phS5fvlzwxAYK/zNlB1tgmtvmbjl5S1ZZ\n",
       "+F3wfuGnSsuir+IK72Ranj0QGXmfF8m/sN1CYDjhiW2Ii0uOTm5jOmJ0XyZhFf0pkh+R9OT/gSf2\n",
       "cGO11Vu65ulgB1qGxwAzgZjGVZhnM7dkh2mFl/Bw2zSaPZuCG6ZUER5VYEmZuiQ9uRM+vLcHr0nz\n",
       "fDPoRp8AFkhFUrZo7WLb64Rvzzlsqvd7/045b6pN8dpNdQqd5QoGULff9SXUJxkLkjkX/ILuOCKG\n",
       "QdVDA+oYibp4jj824obsz7rgtQc5cDPQ2kDi4y+/yF1Vn4VWVa2RHb5JewTGhWuG7D3OeL/VDy5d\n",
       "Ewd8Wn94yB27jmdhkralkazLsasF3uDY1V9cXMH2Ya9bTXRAXNU/roa9AQv8qv7AGl7jCS1dwZZq\n",
       "a41018jIqCqE5K5ijY9VDcSdwlaBfuSIrXt91dT29pbKZeSbe2t8umggLo5F5AQ179Y096s+C9ni\n",
       "jT4vcR/mhjQxFCurTpft8Eoezltwfd+A/DyFHX3KfZYdvq9iJM7uY/AH5SUrPLX/ABrN3DkTrh2s\n",
       "AAAAAElFTkSuQmCC\n",
       "\" style=\"display:inline;vertical-align:middle;\" /></a><br>(see <a class=\"ProveItLink\" href=\"../../../__pv_it/theorems/159a68c0440e713dc6d9d7deda5ebe6b0048db330/dependencies.ipynb\">dependencies</a>)<br>"
      ],
      "text/plain": [
       "<IPython.core.display.HTML object>"
      ]
     },
     "metadata": {},
     "output_type": "display_data"
    }
   ],
   "source": [
    "%proving ket_plus_distributed"
   ]
  },
  {
   "cell_type": "code",
   "execution_count": null,
   "metadata": {},
   "outputs": [],
   "source": []
  }
 ],
 "metadata": {
  "kernelspec": {
   "display_name": "Python 3",
   "language": "python",
   "name": "python3"
  }
 },
 "nbformat": 4,
 "nbformat_minor": 0
}