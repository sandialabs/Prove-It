{
 "cells": [
  {
   "cell_type": "markdown",
   "metadata": {},
   "source": [
    "Theorems (or conjectures) for the theory of <a class=\"ProveItLink\" href=\"theory.ipynb\">proveit.physics.quantum</a>\n",
    "========"
   ]
  },
  {
   "cell_type": "code",
   "execution_count": 1,
   "metadata": {},
   "outputs": [],
   "source": [
    "import proveit\n",
    "# Prepare this notebook for defining the theorems of a theory:\n",
    "%theorems_notebook # Keep this at the top following 'import proveit'.\n",
    "from proveit import (Operation, Function, IndexedVar, \n",
    "                     ExprTuple, ExprRange, var_range, ExprArray)\n",
    "from proveit import (a, b, c, d, f, g, h, i, j, k, l, m, n, p, \n",
    "                     t, u, x, y, z, alpha, \n",
    "                     A, B, C, D, E, F, G, P, Q, R, S, U, V, W, X, Y, \n",
    "                     Psi, Px, Py)\n",
    "from proveit.core_expr_types import (\n",
    "    x_1_to_n, b_1_to_j, A_1_to_l, A_1_to_m, B_1_to_i, \n",
    "    B_1_to_m, C_1_to_n)\n",
    "from proveit.core_expr_types.expr_arrays import Aij, Bij, Cij, Dij, Eij, Pij, Qij, Rij, Sij, B11_to_Bmn, D11_to_Dmn, S11_to_Smn\n",
    "from proveit.linear_algebra import VecAdd, VecSum, LinMap, TensorProd\n",
    "from proveit.logic import (Implies, Iff, And, Equals, Forall, \n",
    "                           Set, InSet, Union, InClass)\n",
    "from proveit.numbers import (zero, one, two, three, subtract, \n",
    "                             Abs, Add, Complex, Exp, Mult, \n",
    "                             Natural, NaturalPos, Sum)\n",
    "from proveit.numbers.number_sets import Interval \n",
    "from proveit.physics.quantum import (\n",
    "    Ket, Meas, QubitRegisterSpace, \n",
    "    NumKet, NumBra, Qmult)\n",
    "from proveit.physics.quantum import (\n",
    "        H, inv_root2, ket0, ket1, ket_plus, QubitSpace, SPACE, CONTROL, I)#, pregated_controlled_ngate, \n",
    "        #pregated_controlled_ngate_with_merge)\n",
    "from proveit.statistics import Prob\n",
    "\n",
    "# from proveit.physics.quantum.common import I, H, Hgate, CTRL_DN, WIRE_DN, WIRE_LINK, PASS, \\\n",
    "#     , QubitRegisterSpace, RegisterSU \n",
    "from proveit.linear_algebra import MatrixMult, ScalarMult, Unitary"
   ]
  },
  {
   "cell_type": "code",
   "execution_count": 2,
   "metadata": {},
   "outputs": [
    {
     "name": "stdout",
     "output_type": "stream",
     "text": [
      "Defining theorems for theory 'proveit.physics.quantum'\n",
      "Subsequent end-of-cell assignments will define theorems\n",
      "'%end theorems' will finalize the definitions\n"
     ]
    }
   ],
   "source": [
    "%begin theorems"
   ]
  },
  {
   "cell_type": "markdown",
   "metadata": {},
   "source": [
    "### *The following 3 cells require updates to Circuit class before they can proceed.<br/>These then affect a handful of theorems/expressions below that refer to the Circuits.*"
   ]
  },
  {
   "cell_type": "code",
   "execution_count": 3,
   "metadata": {},
   "outputs": [],
   "source": [
    "def controlled_ngate(a, b, x, y):\n",
    "    return Circuit(ExprArray(ExprTuple(Input(a), I, MultiQubitGate(CONTROL, Set(one, two)), Output(b)),\n",
    "                    ExprTuple(Input(x), MultiWire(n), MultiQubitGate(U, Set(one, two)), Output(y))))"
   ]
  },
  {
   "cell_type": "code",
   "execution_count": 4,
   "metadata": {},
   "outputs": [
    {
     "data": {
      "text/html": [
       "<strong id=\"ket_plus_distributed\"><a class=\"ProveItLink\" href=\"proofs/ket_plus_distributed/thm_proof.ipynb\">ket_plus_distributed</a> (conjecture without proof):<br></strong> <a class=\"ProveItLink\" href=\"../__pv_it/theorems/159a68c0440e713dc6d9d7deda5ebe6b0048db330/theorem_expr.ipynb\"><img src=\"data:image/png;base64,iVBORw0KGgoAAAANSUhEUgAAATgAAAAyBAMAAAA6vdqLAAAAMFBMVEX///8AAAAAAAAAAAAAAAAA\n",
       "AAAAAAAAAAAAAAAAAAAAAAAAAAAAAAAAAAAAAAAAAAAv3aB7AAAAD3RSTlMAIolEdjJmVJnd76u7\n",
       "zRDVRUmUAAAACXBIWXMAAA7EAAAOxAGVKw4bAAAEv0lEQVRYw6VZS0hUURj+5+XMpE6zLQyloBYG\n",
       "umrrbIqowNlWyLhoUxAO0qKdUhuNxIIWjZFa0CLNshaBbrSFizJibFNExNAuInrZA9SxM/f8d+ae\n",
       "1z2PzqK/Ofd+n98993+dcwG0Y4Walrz+Vsi8Ul6ywofwMKO5n9qnRnefrKiu2OHVPMx4gho7/InE\n",
       "ZMjdyWuqZ7TDK3mY0VSm9rw/8XmsGnZ/p2LeFt9pIm531jORO/WZeCh5ul86bY1X8LDjBt6bMyRP\n",
       "PpT/TVu8god9q9PUngNDcngrnbXHv9WL24F+fNeYvCcrm7XHy3mY0VsRCDXkrfOSSQe8lIcdt9Bl\n",
       "5o3Jk7LLDvhkVact8YvaQt6YPLMumXTAS3nY1InxsAjG5PBcMueCf66NB3wdsxbkAxJPdsEP6CKi\n",
       "QFNh4rcF+VcxfTrhiW3IS8iClV6Ofw/MRb/z2R9tnl3toB4XPLH7QnuaF3hpOuCGi1tcgxHtZnsr\n",
       "sWY74YltiEsOi+Ie4EMsh72HGvneo1m4iD+/ia6rxddaFQ5PbEMciE+c+Yuvf1hD3lrMXIc0Vryf\n",
       "ohvp8F6rwuGJ9cTFPB88IDoy5ppCTkN+FuAgRIsMCOBQPa50eC9KODyxnrikB24Ts/UfaoeKGvJV\n",
       "ck8lsswsN8AF/z9avCeOwxMbENcqJJYmLBADeQ054SsUYY3+3hDEafE0v3D4jaC4ZIcqBfRmw8lr\n",
       "D0tS4iD9vSmI0+FRHIffDIqjETFaqg1a8KOYL7sq4eSRH55foUfPCeJ0eBTH4ecYcZd5WArFjZuI\n",
       "64AUTVglQdy4mTgOXyLiUqXSxP1SieTl00Ldx5SzRM02M7wcUaavlYjryUGC5vYJwDcw478BHR7F\n",
       "MfiaDa7coEacpE8brgcEiUh02glh5bR4Ko7Ds+LWeJ8zfa3wkkRkxQ9359fK4UtBcRGhyPg1uksX\n",
       "bWT/MlZPlJKAMIvWtpCAiAqpMo55rpfNU4W6z/jk6WLmXr3EzIqpRIeny8DhZ4Pi0mCYhFeEJ89c\n",
       "Op6vF+e/uiQs4mmrwuGZCnFRLF9Yg4e6mYq7LG95sK2phS5fvlzwxAYK/zNlB1tgmtvmbjl5S1ZZ\n",
       "+F3wfuGnSsuir+IK72Ranj0QGXmfF8m/sN1CYDjhiW2Ii0uOTm5jOmJ0XyZhFf0pkh+R9OT/gSf2\n",
       "cGO11Vu65ulgB1qGxwAzgZjGVZhnM7dkh2mFl/Bw2zSaPZuCG6ZUER5VYEmZuiQ9uRM+vLcHr0nz\n",
       "fDPoRp8AFkhFUrZo7WLb64Rvzzlsqvd7/045b6pN8dpNdQqd5QoGULff9SXUJxkLkjkX/ILuOCKG\n",
       "QdVDA+oYibp4jj824obsz7rgtQc5cDPQ2kDi4y+/yF1Vn4VWVa2RHb5JewTGhWuG7D3OeL/VDy5d\n",
       "Ewd8Wn94yB27jmdhkralkazLsasF3uDY1V9cXMH2Ya9bTXRAXNU/roa9AQv8qv7AGl7jCS1dwZZq\n",
       "a41018jIqCqE5K5ijY9VDcSdwlaBfuSIrXt91dT29pbKZeSbe2t8umggLo5F5AQ179Y096s+C9ni\n",
       "jT4vcR/mhjQxFCurTpft8Eoezltwfd+A/DyFHX3KfZYdvq9iJM7uY/AH5SUrPLX/ABrN3DkTrh2s\n",
       "AAAAAElFTkSuQmCC\n",
       "\" style=\"display:inline;vertical-align:middle;\" /></a><br>"
      ],
      "text/plain": [
       "<IPython.core.display.HTML object>"
      ]
     },
     "metadata": {},
     "output_type": "display_data"
    }
   ],
   "source": [
    "ket_plus_distributed = Equals(\n",
    "    ket_plus, Add(ScalarMult(inv_root2, ket0), \n",
    "                  ScalarMult(inv_root2, ket1)))"
   ]
  },
  {
   "cell_type": "code",
   "execution_count": 5,
   "metadata": {},
   "outputs": [
    {
     "data": {
      "text/html": [
       "<strong id=\"scaled_qubit_state_in_qubit_space\"><a class=\"ProveItLink\" href=\"proofs/scaled_qubit_state_in_qubit_space/thm_proof.ipynb\">scaled_qubit_state_in_qubit_space</a> (conjecture without proof):<br></strong> <a class=\"ProveItLink\" href=\"../__pv_it/theorems/2db250f46f7e1f57f159f42e3a0408acddc115160/theorem_expr.ipynb\"><img src=\"data:image/png;base64,iVBORw0KGgoAAAANSUhEUgAAAQAAAAAaBAMAAACqZp8cAAAAMFBMVEX///8AAAAAAAAAAAAAAAAA\n",
       "AAAAAAAAAAAAAAAAAAAAAAAAAAAAAAAAAAAAAAAAAAAv3aB7AAAAD3RSTlMAq1RmmUTNIjK7EInv\n",
       "3XZ/CtNrAAAACXBIWXMAAA7EAAAOxAGVKw4bAAAEBUlEQVRIx8VXa0gUURQ+uzPuvNbNfpVRslAk\n",
       "UdmGIWkQG2aJRS3Vj4gooSQMkjGiEk02KIieFkqNUSwZkQS52gN8YEZEUFQSZg9aWHsQGoh/TBPC\n",
       "zr0zszuTO7NWQgMzd+45d+Z+c853vnsH4D8cYvv00ORHz4nI9gOYwJ8CYIHtBj/eeCKvko8uTjZg\n",
       "3h9HYFqAG4UKepv97wBEMoBL6OKsYhZCAEx0igAIPrx8TOhKiU5A29pbdjgMIHUDvFcBpJFmri0A\n",
       "B2mcPgt/FXGGE/s+/W7oewTXf2D2zyAJ+1QABaTZYwuAJSxzWVFxHZ43LHyu38jOfkGkuX7g6rHT\n",
       "FKIAjpJc1dgC4EmUKqz8w3jmWyXbb+4fE3BShx8OwCFE56MACEjJa8+Bvdi0WLj5Mbx0WT38VG08\n",
       "VyK9pJ0lEB74uEsnijAcNRQAgzhcSUiYbcNFD9LJaUnUXSoZy7RU1BygjXt8fAif7FKr4Hkk8iwJ\n",
       "AHck8sGCZuBAP0ud7c3BuPl23812jGsz7RzU5ufSThlrZEwFUAhQP6F+sgqMANggCFbaKdRo2TwS\n",
       "EJ9wsVz6PRmodpADRo7z4c3G5I2qAMoRmCmmtRnVbmgyAsAB5eZp+1d91WrchQ+nknlfANR6dJiM\n",
       "zIw5ENYik5Rw/h1GmRpWAQghSRdzvk8JiOdl52UOTpuEqB7uxfpn0+ugcQYs0HKSikR34wtYzOoa\n",
       "iXDsO3kTsHTWc/S1mOXIO8qBSqMoaQCc0RgHV2MSpdsAKwDqTACy4hxkMWXQFgUmHI8AAeDGVHS0\n",
       "EUuPSjQaoe10pliV1wvGCGgpgOKVeBlc+1n2kFQ2HCcazgZNAFxUuO98gxAVN3E5ziibU9CEIx4Y\n",
       "ynmnLGI+FtP7bt24hVJJCzg/ogFowTL3yOkubyMxZ2aSa5vHBECajw+mBh3RMP0a5/64LDrQIODk\n",
       "0/DsiFkbA7OB5COX9gbjSohw2WJzFUAVGhm4ygOlaF4e+azxnyYA3EO8rAKmJJBCosQ0xGuCVLOU\n",
       "RmWF2cjr1iUn18MmTafxdbHI9O+Wr/XoRNV0ABw03BiPHEVRvCe2JloNZ+L5GFKeAVOqKBf440FT\n",
       "NfMkxu3ZA2ynbr0+6Mwns75W6Za+LbYavuzRo8emGZdjvosDqhKEhGLC5XiEyC5PuYckBD0Ij/F8\n",
       "ayESnJb9lFZVis0rlc8AoEoqZlWx4e7K0JkQQAlIQyFVtCrXghQ1rIbLrPZePhuJ1VZDnR2dA8Bd\n",
       "Ire3SmuDCQGUf/Rt8EIFcYr3lULdTBRDsFirK+w0funEHdEtRQkk2xGJrUqdeTHwGivdfFy0A/Bm\n",
       "KveE1YlXSrv99JTtCWHh3/0cTHpXvG/q/wvoUUT/Cx79AhuM/jkP0v4lAAAAAElFTkSuQmCC\n",
       "\" style=\"display:inline;vertical-align:middle;\" /></a><br>"
      ],
      "text/plain": [
       "<IPython.core.display.HTML object>"
      ]
     },
     "metadata": {},
     "output_type": "display_data"
    }
   ],
   "source": [
    "scaled_qubit_state_in_qubit_space = Forall(\n",
    "        x,\n",
    "        Forall(alpha,\n",
    "               InSet(ScalarMult(alpha, x), QubitSpace),\n",
    "               domain=Complex),\n",
    "        domain=QubitSpace)"
   ]
  },
  {
   "cell_type": "code",
   "execution_count": 6,
   "metadata": {},
   "outputs": [
    {
     "data": {
      "text/html": [
       "<strong id=\"transformed_qubit_state_in_qubit_space\"><a class=\"ProveItLink\" href=\"proofs/transformed_qubit_state_in_qubit_space/thm_proof.ipynb\">transformed_qubit_state_in_qubit_space</a> (conjecture without proof):<br></strong> <a class=\"ProveItLink\" href=\"../__pv_it/theorems/f4620ff69692bdf6831757a2f0550829e352990d0/theorem_expr.ipynb\"><img src=\"data:image/png;base64,iVBORw0KGgoAAAANSUhEUgAAAREAAAAaBAMAAABiCnXKAAAAMFBMVEX///8AAAAAAAAAAAAAAAAA\n",
       "AAAAAAAAAAAAAAAAAAAAAAAAAAAAAAAAAAAAAAAAAAAv3aB7AAAAD3RSTlMAq1RmmUTNIjK7EInv\n",
       "3XZ/CtNrAAAACXBIWXMAAA7EAAAOxAGVKw4bAAAEdUlEQVRIx8VXa4gbVRQ+SSaZRzZpREFbRSIW\n",
       "+0PoxjdW0Ij2QYsS8IFSlKUIUn9oFoq6WEsEhUqrROmCs1IZtQi60B2KgttKN6X4S9S1lLZoB7M+\n",
       "kBYs9UfttqDrd86dmUx20mwiKw7cedy598x3z/nOd+4Q/Z+HdeAyp/fRCe94H7ZTlX6QaKRNUxk3\n",
       "v3vFhUdn+lrl8r5GL6noszQiKygtMhJrCCc91l29lAcdIEk1/wskJhv8Kdb9ZBzy5LFnX3SJstNE\n",
       "3yskBe6/viuSBF+SpV6QbOWRLg3/+F2RrvmzGXTnY5NnDtOeC2DIG2DsjEKymvuf7opEYxZmqr0g\n",
       "2YD2EdoUpuTdVv8z86n6K17eWSZ9DA8TjiB5hQNb74rEYL+N9BSdc2j3oT3HX4sk6K3zxr1q4mWi\n",
       "TFvoBXyhJEgy6MoWu/OEV7SvFyDGRZwaaBc4/SMvBnxUpzyPOU3LTOZKSX9n+3pArgsSJm1mAcbe\n",
       "gstQL0jy4F8SI9N/42E8akQR5dHT/nN9iwI4N3cWsxoqd772vK8WQDLgeSfdnlQQKDTOiFk83CY5\n",
       "cmbZDrgzK4mhB3TRCzsis9IXFZJ1RGPzLaZXro4i0WpkdlTlpNA430riulp+jiNUVio603wAHxKX\n",
       "hqw33IeiMZ1VSIaBsM3Du67dNkATUSQYMAyW/VHSdyvXWF/84GiHali2VI5yOBaWciDdBFsUq3fQ\n",
       "Pc7lgNxokya9HFUY/ZxCYjrZoFYYM3bFequafFennW3KNkafwRpC+gge3lw6SmaB12wVVOXYGIzN\n",
       "AdMArA3Cri5qUqM1Yvksn3d6OCRP6y9FVc5HkmyGUO+vIaJ7ie4iGm1DspIJq6HBuraOwwAkLguN\n",
       "VI6ME/EJI5liQ34ovpFwi08+Do2OmVGf+NGhobtxOrP2l6oo4YevceEAM6JIMlwbci5/nX6mEEnO\n",
       "rxyhCgTRmWolcfo8fYLlTovLQqMPC+/8WBjnfST7wOh8dWmmKJBXrODz/nwbkuwNmDhRYZ9Y9RaS\n",
       "5/kWlSMZECWBlyZAD2L4leL40USD4adkVr7Z0tiCcnI0d2grOlP0nkHC51Wr+Otzf7Uh0Q/hNIg5\n",
       "NUqXWkge51tUjnSg0awMnLCZMg2LV5OzexrpokptHJtCq6eeqn5wNKjIvp5QQubAQ7fbtl3c/lin\n",
       "WnwV2hrJ19Rm235bFu/SdQwSEmDUI8pgcCAmr1DLtx5sLr+Z46IC8f6oE9bib48GOa0VorsCo6GT\n",
       "qA0z1uq4K7iXaC9LQSCmLr2OO64cYXToS7QTHYTnZf+6cbcXF2u/7vjVPDukKfXSP63SwY5IniDL\n",
       "pUAGj1C+xgyUytGK/4YO1Y78qnjJw6/FAYMOnoZVvh3fvKvWEUnyakmbEXk7fuBzsKWqKocZ7hhY\n",
       "hsz4/qFrsaeb4nu2cduuLLhnsybtQGzSfjFq6UQC7LTinzW7bm6OL8LucW3bJdjHbouN+63r78Bi\n",
       "7GOzzvw/ixv7/+npfW/f7X9HkFj/+n9HjvX8v3Oy9A/3iRFQyp9DgwAAAABJRU5ErkJggg==\n",
       "\" style=\"display:inline;vertical-align:middle;\" /></a><br>"
      ],
      "text/plain": [
       "<IPython.core.display.HTML object>"
      ]
     },
     "metadata": {},
     "output_type": "display_data"
    }
   ],
   "source": [
    "transformed_qubit_state_in_qubit_space = Forall(\n",
    "        x,\n",
    "        Forall(U,\n",
    "               InSet(Qmult(U, x), QubitSpace),\n",
    "               domain=Unitary(two)),\n",
    "        domain=QubitSpace)"
   ]
  },
  {
   "cell_type": "code",
   "execution_count": 7,
   "metadata": {},
   "outputs": [],
   "source": [
    "# See prepend_num_ket_with_one_ket in quantum.algebra\n",
    "# multi_tensor_prod_induct_1 = Forall(t,\n",
    "#        Forall(k,\n",
    "#               Equals(TensorProd(Ket(one), NumKet(k, t)),\n",
    "#                      NumKet(Add(Exp(two, t), k), Add(t, one))),\n",
    "#               domain=Interval(zero, subtract(Exp(two, t), one))),\n",
    "#        domain=NaturalPos)"
   ]
  },
  {
   "cell_type": "code",
   "execution_count": 8,
   "metadata": {},
   "outputs": [],
   "source": [
    "# See prepend_num_ket_with_zero_ket in quantum.algebra\n",
    "# multi_tensor_prod_induct_0 = Forall(t,\n",
    "#        Forall(k,\n",
    "#               Equals(TensorProd(Ket(zero), NumKet(k, t)),\n",
    "#                      NumKet(k, Add(t, one))),\n",
    "#               domain=Interval(zero, subtract(Exp(two, t), one))),\n",
    "#        domain=NaturalPos)"
   ]
  },
  {
   "cell_type": "code",
   "execution_count": 9,
   "metadata": {},
   "outputs": [],
   "source": [
    "# single_time_equiv = Forall ((h, k, m), Forall((var_range(A, [one, one], [m, k]), var_range(B, one, m), \n",
    "#                                                 var_range(C, [one, one], [m, h]), var_range(D, one, m), \n",
    "#                                                 var_range(S, one, m), var_range(R, [one, one], [m, k]), \n",
    "#                                                 var_range(Q, [one, one], [m, h])), \n",
    "#         Implies(\n",
    "#             CircuitEquiv(\n",
    "#                         Circuit(ExprArray(ExprRange(i, ExprTuple(MultiQubitGate(IndexedVar(B, i), IndexedVar(S, i))), one, m))),\n",
    "#                         Circuit(ExprArray(ExprRange(i, ExprTuple(MultiQubitGate(IndexedVar(D, i), IndexedVar(S, i))), one, m)))\n",
    "#             ),\n",
    "#             CircuitEquiv(\n",
    "#                         Circuit(ExprArray(ExprRange(i, ExprTuple(ExprRange(j, MultiQubitGate(Aij, Rij), one, k), \n",
    "#                                             MultiQubitGate(IndexedVar(B, i), IndexedVar(S, i)),\n",
    "#                                             ExprRange(j, MultiQubitGate(Cij, Qij), one, h)), \n",
    "#                                     one, m))),\n",
    "#                         Circuit(ExprArray(ExprRange(i, ExprTuple(ExprRange(j, MultiQubitGate(Aij, Rij), one, k), \n",
    "#                                             MultiQubitGate(IndexedVar(D, i), IndexedVar(S, i)),\n",
    "#                                             ExprRange(j, MultiQubitGate(Cij, Qij), one, h)), \n",
    "#                                     one, m)))\n",
    "#             )\n",
    "#         ).with_wrapping_at(2)\n",
    "#     ).wrap_params(), domain=NaturalPos)"
   ]
  },
  {
   "cell_type": "code",
   "execution_count": 10,
   "metadata": {},
   "outputs": [],
   "source": [
    "# single_time_equiv_judgement = Forall ((h, k, m), Forall((var_range(A, [one, one], [m, k]), var_range(B, one, m), \n",
    "#                                                 var_range(C, [one, one], [m, h]), var_range(D, one, m), \n",
    "#                                                 var_range(S, one, m), var_range(R, [one, one], [m, k]), \n",
    "#                                                 var_range(Q, [one, one], [m, h])), \n",
    "#         Implies(And(\n",
    "#             CircuitEquiv(\n",
    "#                         Circuit(ExprArray(ExprRange(i, ExprTuple(MultiQubitGate(IndexedVar(B, i), IndexedVar(S, i))), one, m))),\n",
    "#                         Circuit(ExprArray(ExprRange(i, ExprTuple(MultiQubitGate(IndexedVar(D, i), IndexedVar(S, i))), one, m)))\n",
    "#             ), Circuit(ExprArray( ExprRange(i, ExprTuple(ExprRange(j, MultiQubitGate(Aij, Rij), one, k), \n",
    "#                                             MultiQubitGate(IndexedVar(B, i), IndexedVar(S, i)),\n",
    "#                                             ExprRange(j, MultiQubitGate(Cij, Qij), one, h)), \n",
    "#                                     one, m)))),\n",
    "            \n",
    "#                         Circuit(ExprArray(ExprRange(i, ExprTuple(ExprRange(j, MultiQubitGate(Aij, Rij), one, k), \n",
    "#                                             MultiQubitGate(IndexedVar(D, i), IndexedVar(S, i)),\n",
    "#                                             ExprRange(j, MultiQubitGate(Cij, Qij), one, h)), \n",
    "#                                     one, m))\n",
    "#             )\n",
    "#         ).with_wrapping_at(2)\n",
    "#     ).wrap_params(), domain=NaturalPos)"
   ]
  },
  {
   "cell_type": "code",
   "execution_count": 11,
   "metadata": {},
   "outputs": [],
   "source": [
    "# temporal_circuit_substitution = Forall ((g, h, k, m, n), \n",
    "#                                         Forall((var_range(A, [one, one], [m, g]), var_range(B, [one, one], [m, h]), \n",
    "#                                                 var_range(C, [one, one], [m, k]), D11_to_Dmn,\n",
    "                                                                 \n",
    "#                                                 var_range(P, [one, one], [m, g]), var_range(Q, [one, one], [m, h]), \n",
    "#                                                 var_range(R, [one, one], [m, k]), S11_to_Smn), \n",
    "#         Implies(\n",
    "#             And(CircuitEquiv(\n",
    "#                         Circuit(ExprArray(ExprRange(i, ExprTuple(ExprRange(j, MultiQubitGate(Bij, Qij), one, h)), one, m))),\n",
    "#                         Circuit(ExprArray(ExprRange(i, ExprTuple(ExprRange(j, MultiQubitGate(Dij, Sij), one, n)), one, m)))\n",
    "#                             ),\n",
    "#                 Circuit(ExprArray(ExprRange(i, ExprTuple(ExprRange(j, MultiQubitGate(Aij, Pij), one, g), \n",
    "#                                   ExprRange(j, MultiQubitGate(Bij, Qij), one, h),\n",
    "#                                   ExprRange(j, MultiQubitGate(Cij, Rij), one, k)), \n",
    "#                                             one, m)))),\n",
    "        \n",
    "#             Circuit(ExprArray(ExprRange(i, ExprTuple(ExprRange(j, MultiQubitGate(Aij, Pij), one, g), \n",
    "#                                 ExprRange(j, MultiQubitGate(Dij, Sij), one, n),\n",
    "#                                 ExprRange(j, MultiQubitGate(Cij, Rij), one, k)), \n",
    "#                         one, m)))\n",
    "            \n",
    "#         ).with_wrapping_at(2)\n",
    "#     ).wrap_params(), domain=NaturalPos)"
   ]
  },
  {
   "cell_type": "code",
   "execution_count": null,
   "metadata": {},
   "outputs": [],
   "source": []
  },
  {
   "cell_type": "code",
   "execution_count": 12,
   "metadata": {},
   "outputs": [],
   "source": [
    "# temporal_circuit_equiv = Forall ((h, k, m, n), Forall((var_range(A, [one, one], [m, k]), B11_to_Bmn, \n",
    "#                                                 var_range(C, [one, one], [m, h]), D11_to_Dmn, \n",
    "#                                                 S11_to_Smn, var_range(R, [one, one], [m, k]), \n",
    "#                                                 var_range(Q, [one, one], [m, h])), \n",
    "#         Implies(\n",
    "#             CircuitEquiv(\n",
    "#                         Circuit(ExprArray(ExprRange(i, ExprTuple(ExprRange(j, MultiQubitGate(Bij, Sij), one, n)), one, m))),\n",
    "#                         Circuit(ExprArray(ExprRange(i, ExprTuple(ExprRange(j, MultiQubitGate(Dij, Sij), one, n)), one, m)))\n",
    "#             ),\n",
    "#             CircuitEquiv(\n",
    "#                         Circuit(ExprArray(ExprRange(i, ExprTuple(ExprRange(j, MultiQubitGate(Aij, Rij), one, k), \n",
    "#                                             ExprRange(j, MultiQubitGate(Bij, Sij), one, n),\n",
    "#                                             ExprRange(j, MultiQubitGate(Cij, Qij), one, h)), \n",
    "#                                     one, m))),\n",
    "#                         Circuit(ExprArray(ExprRange(i, ExprTuple(ExprRange(j, MultiQubitGate(Aij, Rij), one, k), \n",
    "#                                             ExprRange(j, MultiQubitGate(Dij, Sij), one, n),\n",
    "#                                             ExprRange(j, MultiQubitGate(Cij, Qij), one, h)), \n",
    "#                                     one, m)))\n",
    "#             )\n",
    "#         ).with_wrapping_at(2)\n",
    "#     ).wrap_params(), domain=NaturalPos)"
   ]
  },
  {
   "cell_type": "code",
   "execution_count": 13,
   "metadata": {},
   "outputs": [],
   "source": [
    "# single_space_equiv = Forall((k, m, n), Forall((var_range(A, [one, one], [m, n]), var_range(B, one, n),\n",
    "#                                               var_range(C, [one, one], [k, n]), var_range(D, one, n),\n",
    "#                                               S11_to_Smn, var_range(Q, one, n), \n",
    "#                                               var_range(R, [one, one], [k, n])),\n",
    "#         Implies(\n",
    "#             CircuitEquiv(\n",
    "#                     Circuit(ExprArray(ExprTuple(ExprRange(j, Gate(IndexedVar(B, j)), one, n)))),\n",
    "#                     Circuit(ExprArray(ExprTuple(ExprRange(j, Gate(IndexedVar(D, j)), one, n))))\n",
    "#             ),\n",
    "#             CircuitEquiv(\n",
    "#                     Circuit(ExprArray(ExprRange(i, ExprTuple(ExprRange(j, MultiQubitGate(Aij, Sij), one, n)), one, m),\n",
    "#                             ExprTuple(ExprRange(j, Gate(IndexedVar(B, j)), one, n)),\n",
    "#                             ExprRange(i, ExprTuple(ExprRange(j, MultiQubitGate(Cij, Rij), one, n)), one, k))),\n",
    "#                     Circuit(ExprArray(ExprRange(i, ExprTuple(ExprRange(j, MultiQubitGate(Aij, Sij), one, n)), one, m),\n",
    "#                             ExprTuple(ExprRange(j, Gate(IndexedVar(D, j)), one, n)),\n",
    "#                             ExprRange(i, ExprTuple(ExprRange(j, MultiQubitGate(Cij, Rij), one, n)), one, k)))\n",
    "#             )\n",
    "#         ).with_wrapping_at(2)\n",
    "#     ).wrap_params(), domain=NaturalPos)"
   ]
  },
  {
   "cell_type": "code",
   "execution_count": 14,
   "metadata": {},
   "outputs": [],
   "source": [
    "# double_space_equiv = Forall((h, k, m, n), Forall((var_range(A, [one, one], [m, n]), var_range(B, one, n),\n",
    "#                                               var_range(C, [one, one], [k, n]), var_range(D, one, n), \n",
    "#                                               var_range(E, [one, one], [h, n]), var_range(F, one, n), \n",
    "#                                               var_range(G, one, n), \n",
    "#                                               S11_to_Smn, var_range(Q, [one, one], [h, n]), \n",
    "#                                               var_range(R, [one, one], [k, n])),\n",
    "#         Implies(\n",
    "#             CircuitEquiv(\n",
    "#                     Circuit(ExprArray(ExprTuple(ExprRange(j, MultiQubitGate(IndexedVar(B, j), Set(Add(m, one), Add(m, k, two))), one, n)),\n",
    "#                             ExprTuple(ExprRange(j, MultiQubitGate(IndexedVar(D, j), Set(Add(m, one), Add(m, k, two))), one, n)))),\n",
    "#                     Circuit(ExprArray(ExprTuple(ExprRange(j, MultiQubitGate(IndexedVar(F, j), Set(Add(m, one), Add(m, k, two))), one, n)),\n",
    "#                             ExprTuple(ExprRange(j, MultiQubitGate(IndexedVar(G, j), Set(Add(m, one), Add(m, k, two))), one, n))))\n",
    "#             ),\n",
    "#             CircuitEquiv(\n",
    "#                     Circuit(ExprArray(ExprRange(i, ExprTuple(ExprRange(j, MultiQubitGate(Aij, Sij), one, n)), one, m),\n",
    "#                             ExprTuple(ExprRange(j, MultiQubitGate(IndexedVar(B, j), Set(Add(m, one), Add(m, k, two))), one, n)),\n",
    "#                             ExprRange(i, ExprTuple(ExprRange(j, MultiQubitGate(Cij, Rij), one, n)), one, k),\n",
    "#                             ExprTuple(ExprRange(j, MultiQubitGate(IndexedVar(D, j), Set(Add(m, one), Add(m, k, two))), one, n)),\n",
    "#                             ExprRange(i, ExprTuple(ExprRange(j, MultiQubitGate(Eij, Qij), one, n)), one, h))),\n",
    "#                     Circuit(ExprArray(ExprRange(i, ExprTuple(ExprRange(j, MultiQubitGate(Aij, Sij), one, n)), one, m),\n",
    "#                             ExprTuple(ExprRange(j, MultiQubitGate(IndexedVar(F, j), Set(Add(m, one), Add(m, k, two))), one, n)),\n",
    "#                             ExprRange(i, ExprTuple(ExprRange(j, MultiQubitGate(Cij, Rij), one, n)), one, k),\n",
    "#                             ExprTuple(ExprRange(j, MultiQubitGate(IndexedVar(G, j), Set(Add(m, one), Add(m, k, two))), one, n)),\n",
    "#                             ExprRange(i, ExprTuple(ExprRange(j, MultiQubitGate(Eij, Qij), one, n)), one, h))))\n",
    "#             ).with_wrapping_at(2)\n",
    "#     ).wrap_params(), domain=NaturalPos)"
   ]
  },
  {
   "cell_type": "code",
   "execution_count": 15,
   "metadata": {},
   "outputs": [],
   "source": [
    "# # need to form an Iter to replace x_etc here\n",
    "# # summed_qubit_state_in_qubit_space = Forall(x_etc, InSet(Add(x_etc), QubitSpace), domain=QubitSpace)\n",
    "# summed_qubit_state_in_qubit_space = Forall(\n",
    "#     n,\n",
    "#     Forall(\n",
    "#         x_1_to_n,\n",
    "#         InSet(Add(x_1_to_n), QubitSpace),\n",
    "#         domain=QubitSpace),\n",
    "#     domain=NaturalPos)"
   ]
  },
  {
   "cell_type": "code",
   "execution_count": 16,
   "metadata": {},
   "outputs": [],
   "source": [
    "# scaled_qubit_register_state_in_qubit_register_space = Forall(\n",
    "#         n,\n",
    "#         Forall(x,\n",
    "#                Forall(alpha, InSet(ScalarMult(alpha, x), QubitRegisterSpace(n)),\n",
    "#                       domain=Complex),\n",
    "#                domain=QubitRegisterSpace(n)),\n",
    "#         domain=NaturalPos)"
   ]
  },
  {
   "cell_type": "code",
   "execution_count": 17,
   "metadata": {},
   "outputs": [],
   "source": [
    "# register_ket_in_qubit_register_space = Forall(\n",
    "#         n,\n",
    "#         Forall(k, InSet(NumKet(k, n), QubitRegisterSpace(n)),\n",
    "#                domain = Interval(zero, subtract(Exp(two, n), one))),\n",
    "#         domain=NaturalPos)"
   ]
  },
  {
   "cell_type": "code",
   "execution_count": 18,
   "metadata": {},
   "outputs": [],
   "source": [
    "# register_qubit_complex_amplitude = Forall(\n",
    "#        n,\n",
    "#        Forall(k,\n",
    "#               Forall(Psi,\n",
    "#                      InSet(Qmult(NumBra(k, n), Ket(Psi)), Complex),\n",
    "#                      conditions = [InSet(Ket(Psi), QubitRegisterSpace(n))]),\n",
    "#               domain=Interval(zero, subtract(Exp(two, n),one))),\n",
    "#        domain=NaturalPos)"
   ]
  },
  {
   "cell_type": "code",
   "execution_count": 19,
   "metadata": {},
   "outputs": [],
   "source": [
    "# register_qubit_born_rule = Forall(\n",
    "#        n,\n",
    "#        Forall(k,\n",
    "#               Forall((Psi, m),\n",
    "#                      Equals(Prob(Equals(m, k), m),\n",
    "#                             Exp(Abs(Qmult(NumBra(k, n), Ket(Psi))), two)),\n",
    "#                      conditions = [InSet(Ket(Psi), QubitRegisterSpace(n)), Equals(m, Meas(Ket(Psi)))]),\n",
    "#               domain=Interval(zero, subtract(Exp(two, n), one))),\n",
    "#         domain=NaturalPos)"
   ]
  },
  {
   "cell_type": "code",
   "execution_count": 20,
   "metadata": {},
   "outputs": [],
   "source": [
    "# register_qubit_all_probs = Forall(\n",
    "#         n,\n",
    "#         Forall((Psi, m),\n",
    "#                Equals(Sum(k, Prob(Equals(m, k), m),\n",
    "#                                 domain=Interval(zero, subtract(Exp(two, n), one))),\n",
    "#                       one),\n",
    "#                conditions = [InSet(Ket(Psi), QubitRegisterSpace(n)), Equals(m, Meas(Ket(Psi)))]),\n",
    "#         domain=NaturalPos)"
   ]
  },
  {
   "cell_type": "code",
   "execution_count": 21,
   "metadata": {},
   "outputs": [],
   "source": [
    "# ## This one requires pregated_controlled_ngate, defined at the top of this page,\n",
    "# ## but that pregated_controlled_ngate requires the Circuit class\n",
    "# pregated_controlled_ngate_equiv = Forall(\n",
    "#         n,\n",
    "#         Forall(U,\n",
    "#                Forall(u,\n",
    "#                       Forall((a, b),\n",
    "#                              Forall((x, y),\n",
    "#                                     Equals(pregated_controlled_ngate,\n",
    "#                                            controlled_ngate(\n",
    "#                                                Qmult(u, a), b, x, y)),\n",
    "#                                     domain=QubitRegisterSpace(n)),\n",
    "#                              domain=QubitSpace),\n",
    "#                       domain=SU(two)),\n",
    "#                domain=RegisterSU(n)),\n",
    "#         domain=NaturalPos)"
   ]
  },
  {
   "cell_type": "code",
   "execution_count": 22,
   "metadata": {},
   "outputs": [],
   "source": [
    "# ## This one requires controlled_ngate, defined at the top of this page,\n",
    "# ## but that controlled_ngate requires the Circuit class\n",
    "# controlled_ngate_equiv = Forall(\n",
    "#         n,\n",
    "#         Forall(U,\n",
    "#                Forall((a, b, c),\n",
    "#                       Forall((x, y, z),\n",
    "#                              Iff(Equals(controlled_ngate(a, b, x, y),\n",
    "#                                         controlled_ngate(a, c, x, z)),\n",
    "#                                  Equals(TensorProd(b, y), TensorProd(c, z))),\n",
    "#                              domain=QubitRegisterSpace(n)),\n",
    "#                       domain=QubitSpace),\n",
    "#                domain=RegisterSU(n)),\n",
    "#         domain=NaturalPos)"
   ]
  },
  {
   "cell_type": "code",
   "execution_count": 23,
   "metadata": {},
   "outputs": [],
   "source": [
    "# ## This one requires controlled_ngate, defined at the top of this page,\n",
    "# ## but that controlled_ngate requires the Circuit class\n",
    "# superposition_controlled_ngate = Forall(\n",
    "#         n,\n",
    "#         Forall(U,\n",
    "#                Forall((a, b, c, d),\n",
    "#                       Forall((x, y),\n",
    "#                              Implies(And(controlled_ngate(a, c, x, y),\n",
    "#                                          controlled_ngate(b, d, x, y)),\n",
    "#                                      controlled_ngate(Add(a, b), Add(c, d), x, y)),\n",
    "#                              domain=QubitRegisterSpace(n)),\n",
    "#                       domain=QubitSpace),\n",
    "#                domain=RegisterSU(n)),\n",
    "#         domain=NaturalPos)"
   ]
  },
  {
   "cell_type": "code",
   "execution_count": 24,
   "metadata": {},
   "outputs": [],
   "source": [
    "# ## This one requires pregated_controlled_ngate, defined at the top of this page,\n",
    "# ## but that pregated_controlled_ngate requires the Circuit class\n",
    "# pregated_controlled_ngate_merger = Forall(\n",
    "#     (n, k),\n",
    "#     Forall(U,\n",
    "#            Forall(u,\n",
    "#                   Forall((a, b),\n",
    "#                          Forall(c,\n",
    "#                                 Forall(d,\n",
    "#                                        Forall((x, y),\n",
    "#                                               Implies(pregated_controlled_ngate,\n",
    "#                                                       Implies(pregated_controlled_ngate_with_merge,\n",
    "#                                                               Equals(d, TensorProd(c, b)))),\n",
    "#                                               domain=QubitRegisterSpace(n)),\n",
    "#                                        domain=QubitRegisterSpace(Add(k, one))),\n",
    "#                                 domain=QubitRegisterSpace(k)),\n",
    "#                          domain=QubitSpace),\n",
    "#                   domain=SU(two)),\n",
    "#            domain=RegisterSU(n)),\n",
    "#     domain=NaturalPos)"
   ]
  },
  {
   "cell_type": "code",
   "execution_count": 25,
   "metadata": {},
   "outputs": [],
   "source": [
    "# TOOK REALLY LONG TO RUN... MORE TESTING NEEDED\n",
    "#register_bra_over_summed_ket = Forall(\n",
    " #   n,\n",
    "  #  Forall(U,\n",
    "   #        Forall(l,\n",
    "    #              Forall(f,\n",
    "     #                    Equals(MatrixProd(RegisterBra(l, n),\n",
    "      #                                     MatrixProd(U, Sum(k, ScalarProd(Operation(f, k), RegisterKet(k, n)),\n",
    "       #                                                      domain=Interval(zero, subtract(Exp(two, n), one))))),\n",
    "        #                        Sum(k, Mult(Operation(f, k),\n",
    "         #                                   MatrixProd(RegisterBra(l, n), U, RegisterKet(k, n))),\n",
    "          #                          domain=Interval(zero, subtract(Exp(two, n), one))))),\n",
    "           #       domain=Interval(zero, subtract(Exp(two, n), one))),\n",
    "           #domain=SU(Exp(two, n))),\n",
    "    #domain=NaturalPos)"
   ]
  },
  {
   "cell_type": "code",
   "execution_count": 26,
   "metadata": {},
   "outputs": [
    {
     "name": "stdout",
     "output_type": "stream",
     "text": [
      "These theorems may now be imported from the theory package: proveit.physics.quantum\n"
     ]
    }
   ],
   "source": [
    "%end theorems"
   ]
  },
  {
   "cell_type": "code",
   "execution_count": null,
   "metadata": {},
   "outputs": [],
   "source": []
  }
 ],
 "metadata": {
  "kernelspec": {
   "display_name": "Python 3",
   "language": "python",
   "name": "python3"
  }
 },
 "nbformat": 4,
 "nbformat_minor": 0
}