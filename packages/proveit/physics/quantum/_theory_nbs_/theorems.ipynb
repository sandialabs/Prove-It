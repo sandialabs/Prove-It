{
 "cells": [
  {
   "cell_type": "markdown",
   "metadata": {},
   "source": [
    "Theorems (or conjectures) for the theory of <a class=\"ProveItLink\" href=\"theory.ipynb\">proveit.physics.quantum</a>\n",
    "========"
   ]
  },
  {
   "cell_type": "code",
   "execution_count": null,
   "metadata": {},
   "outputs": [],
   "source": [
    "import proveit\n",
    "# Prepare this notebook for defining the theorems of a theory:\n",
    "%theorems_notebook # Keep this at the top following 'import proveit'.\n",
    "from proveit import Operation, IndexedVar, ExprTuple, ExprRange, var_range, ExprArray\n",
    "from proveit import (alpha, A, B, C, D, E, F, G, P, Q, R, S, X, Y, a, b, c, d, f, g, h, i,\n",
    "                     j, k, l, m, n, p, t, u, x, y, z, Psi, U, Px, Py)\n",
    "from proveit.core_expr_types import x_1_to_n\n",
    "from proveit.core_expr_types.expr_arrays import Aij, Bij, Cij, Dij, Eij, Pij, Qij, Rij, Sij, B11_to_Bmn, D11_to_Dmn, S11_to_Smn\n",
    "from proveit.linear_algebra import TensorProd\n",
    "from proveit.logic.sets import Set\n",
    "from proveit.logic import And, Equals, Forall, InSet, Implies, Iff\n",
    "from proveit.numbers import zero, one, two, three, subtract, Abs, Add, Complex, Exp, Mult, NaturalPos, Sum\n",
    "from proveit.numbers.number_sets import Interval \n",
    "from proveit.physics.quantum import Ket, Meas, QubitRegisterSpace, RegisterBra, RegisterKet, RegisterBra, RegisterSU \n",
    "from proveit.physics.quantum import (\n",
    "        H, inv_root2, ket0, ket1, ket_plus, QubitSpace, SPACE, CONTROL, I, pregated_controlled_ngate, \n",
    "        pregated_controlled_ngate_with_merge)\n",
    "from proveit.physics.quantum.circuit import MultiQubitGate, Gate, Circuit, CircuitEquiv, Input, Output, MultiWire\n",
    "from proveit.statistics import Prob\n",
    "\n",
    "# from proveit.physics.quantum.common import I, H, Hgate, CTRL_DN, WIRE_DN, WIRE_LINK, PASS, \\\n",
    "#     , QubitRegisterSpace, RegisterSU \n",
    "from proveit.linear_algebra import MatrixProd, ScalarProd, SU"
   ]
  },
  {
   "cell_type": "code",
   "execution_count": null,
   "metadata": {},
   "outputs": [],
   "source": [
    "%begin theorems"
   ]
  },
  {
   "cell_type": "markdown",
   "metadata": {},
   "source": [
    "### *The following 3 cells require updates to Circuit class before they can proceed.<br/>These then affect a handful of theorems/expressions below that refer to the Circuits.*"
   ]
  },
  {
   "cell_type": "code",
   "execution_count": null,
   "metadata": {},
   "outputs": [],
   "source": [
    "def controlled_ngate(a, b, x, y):\n",
    "    return Circuit(ExprArray(ExprTuple(Input(a), I, MultiQubitGate(CONTROL, Set(one, two)), Output(b)),\n",
    "                    ExprTuple(Input(x), MultiWire(n), MultiQubitGate(U, Set(one, two)), Output(y))))"
   ]
  },
  {
   "cell_type": "code",
   "execution_count": null,
   "metadata": {},
   "outputs": [],
   "source": [
    "ket_plus_distributed = Equals(ket_plus, Add(ScalarProd(inv_root2, ket0), ScalarProd(inv_root2, ket1)))"
   ]
  },
  {
   "cell_type": "code",
   "execution_count": null,
   "metadata": {},
   "outputs": [],
   "source": [
    "scaled_qubit_state_in_qubit_space = Forall(\n",
    "        x,\n",
    "        Forall(alpha,\n",
    "               InSet(ScalarProd(alpha, x), QubitSpace),\n",
    "               domain=Complex),\n",
    "        domain=QubitSpace)"
   ]
  },
  {
   "cell_type": "code",
   "execution_count": null,
   "metadata": {},
   "outputs": [],
   "source": [
    "transformed_qubit_state_in_qubit_space = Forall(\n",
    "        x,\n",
    "        Forall(U,\n",
    "               InSet(MatrixProd(U, x), QubitSpace),\n",
    "               domain=SU(two)),\n",
    "        domain=QubitSpace)"
   ]
  },
  {
   "cell_type": "code",
   "execution_count": null,
   "metadata": {},
   "outputs": [],
   "source": [
    "multi_tensor_prod_induct_1 = Forall(t,\n",
    "       Forall(k,\n",
    "              Equals(TensorProd(Ket(one), RegisterKet(k, t)),\n",
    "                    RegisterKet(Add(Exp(two, t), k), Add(t, one))),\n",
    "              domain=Interval(zero, subtract(Exp(two, t), one))),\n",
    "       domain=NaturalPos)"
   ]
  },
  {
   "cell_type": "code",
   "execution_count": null,
   "metadata": {},
   "outputs": [],
   "source": [
    "multi_tensor_prod_induct_0 = Forall(t,\n",
    "       Forall(k,\n",
    "              Equals(TensorProd(Ket(zero), RegisterKet(k, t)),\n",
    "                    RegisterKet(k, Add(t, one))),\n",
    "              domain=Interval(zero, subtract(Exp(two, t), one))),\n",
    "       domain=NaturalPos)"
   ]
  },
  {
   "cell_type": "code",
   "execution_count": null,
   "metadata": {},
   "outputs": [],
   "source": [
    "# for use in reducing a MultiQubitGate to a gate within a Circuit.\n",
    "unary_multi_qubit_gate_reduction = Forall(U, Forall(A, Equals(MultiQubitGate(U, Set(A)), Gate(U)), domain=NaturalPos))"
   ]
  },
  {
   "cell_type": "code",
   "execution_count": null,
   "metadata": {},
   "outputs": [],
   "source": [
    "empty_multi_qubit_gate_reduction = Forall(U, Equals(MultiQubitGate(U, Set()), SPACE))"
   ]
  },
  {
   "cell_type": "code",
   "execution_count": null,
   "metadata": {},
   "outputs": [],
   "source": [
    "input_gate_to_ket = Forall(U, Equals(Gate(Input(U)), Input(U)))"
   ]
  },
  {
   "cell_type": "code",
   "execution_count": null,
   "metadata": {},
   "outputs": [],
   "source": [
    "output_gate_to_ket = Forall(U, Equals(Gate(Output(U)), Output(U)))"
   ]
  },
  {
   "cell_type": "code",
   "execution_count": null,
   "metadata": {},
   "outputs": [],
   "source": [
    "single_time_equiv = Forall ((h, k, m), Forall((var_range(A, [one, one], [m, k]), var_range(B, one, m), \n",
    "                                                var_range(C, [one, one], [m, h]), var_range(D, one, m), \n",
    "                                                var_range(S, one, m), var_range(R, [one, one], [m, k]), \n",
    "                                                var_range(Q, [one, one], [m, h])), \n",
    "        Implies(\n",
    "            CircuitEquiv(\n",
    "                        Circuit(ExprArray(ExprRange(i, ExprTuple(MultiQubitGate(IndexedVar(B, i), IndexedVar(S, i))), one, m))),\n",
    "                        Circuit(ExprArray(ExprRange(i, ExprTuple(MultiQubitGate(IndexedVar(D, i), IndexedVar(S, i))), one, m)))\n",
    "            ),\n",
    "            CircuitEquiv(\n",
    "                        Circuit(ExprArray(ExprRange(i, ExprTuple(ExprRange(j, MultiQubitGate(Aij, Rij), one, k), \n",
    "                                            MultiQubitGate(IndexedVar(B, i), IndexedVar(S, i)),\n",
    "                                            ExprRange(j, MultiQubitGate(Cij, Qij), one, h)), \n",
    "                                    one, m))),\n",
    "                        Circuit(ExprArray(ExprRange(i, ExprTuple(ExprRange(j, MultiQubitGate(Aij, Rij), one, k), \n",
    "                                            MultiQubitGate(IndexedVar(D, i), IndexedVar(S, i)),\n",
    "                                            ExprRange(j, MultiQubitGate(Cij, Qij), one, h)), \n",
    "                                    one, m)))\n",
    "            )\n",
    "        ).with_wrapping_at(2)\n",
    "    ).wrap_params(), domain=NaturalPos)"
   ]
  },
  {
   "cell_type": "code",
   "execution_count": null,
   "metadata": {},
   "outputs": [],
   "source": [
    "single_time_equiv_judgement = Forall ((h, k, m), Forall((var_range(A, [one, one], [m, k]), var_range(B, one, m), \n",
    "                                                var_range(C, [one, one], [m, h]), var_range(D, one, m), \n",
    "                                                var_range(S, one, m), var_range(R, [one, one], [m, k]), \n",
    "                                                var_range(Q, [one, one], [m, h])), \n",
    "        Implies(And(\n",
    "            CircuitEquiv(\n",
    "                        Circuit(ExprArray(ExprRange(i, ExprTuple(MultiQubitGate(IndexedVar(B, i), IndexedVar(S, i))), one, m))),\n",
    "                        Circuit(ExprArray(ExprRange(i, ExprTuple(MultiQubitGate(IndexedVar(D, i), IndexedVar(S, i))), one, m)))\n",
    "            ), Circuit(ExprArray( ExprRange(i, ExprTuple(ExprRange(j, MultiQubitGate(Aij, Rij), one, k), \n",
    "                                            MultiQubitGate(IndexedVar(B, i), IndexedVar(S, i)),\n",
    "                                            ExprRange(j, MultiQubitGate(Cij, Qij), one, h)), \n",
    "                                    one, m)))),\n",
    "            \n",
    "                        Circuit(ExprArray(ExprRange(i, ExprTuple(ExprRange(j, MultiQubitGate(Aij, Rij), one, k), \n",
    "                                            MultiQubitGate(IndexedVar(D, i), IndexedVar(S, i)),\n",
    "                                            ExprRange(j, MultiQubitGate(Cij, Qij), one, h)), \n",
    "                                    one, m))\n",
    "            )\n",
    "        ).with_wrapping_at(2)\n",
    "    ).wrap_params(), domain=NaturalPos)"
   ]
  },
  {
   "cell_type": "code",
   "execution_count": null,
   "metadata": {},
   "outputs": [],
   "source": [
    "temporal_circuit_substitution = Forall ((g, h, k, m, n), \n",
    "                                        Forall((var_range(A, [one, one], [m, g]), var_range(B, [one, one], [m, h]), \n",
    "                                                var_range(C, [one, one], [m, k]), D11_to_Dmn,\n",
    "                                                                 \n",
    "                                                var_range(P, [one, one], [m, g]), var_range(Q, [one, one], [m, h]), \n",
    "                                                var_range(R, [one, one], [m, k]), S11_to_Smn), \n",
    "        Implies(\n",
    "            And(CircuitEquiv(\n",
    "                        Circuit(ExprArray(ExprRange(i, ExprTuple(ExprRange(j, MultiQubitGate(Bij, Qij), one, h)), one, m))),\n",
    "                        Circuit(ExprArray(ExprRange(i, ExprTuple(ExprRange(j, MultiQubitGate(Dij, Sij), one, n)), one, m)))\n",
    "                            ),\n",
    "                Circuit(ExprArray(ExprRange(i, ExprTuple(ExprRange(j, MultiQubitGate(Aij, Pij), one, g), \n",
    "                                  ExprRange(j, MultiQubitGate(Bij, Qij), one, h),\n",
    "                                  ExprRange(j, MultiQubitGate(Cij, Rij), one, k)), \n",
    "                                            one, m)))),\n",
    "        \n",
    "            Circuit(ExprArray(ExprRange(i, ExprTuple(ExprRange(j, MultiQubitGate(Aij, Pij), one, g), \n",
    "                                ExprRange(j, MultiQubitGate(Dij, Sij), one, n),\n",
    "                                ExprRange(j, MultiQubitGate(Cij, Rij), one, k)), \n",
    "                        one, m)))\n",
    "            \n",
    "        ).with_wrapping_at(2)\n",
    "    ).wrap_params(), domain=NaturalPos)"
   ]
  },
  {
   "cell_type": "code",
   "execution_count": null,
   "metadata": {},
   "outputs": [],
   "source": []
  },
  {
   "cell_type": "code",
   "execution_count": null,
   "metadata": {},
   "outputs": [],
   "source": [
    "temporal_circuit_equiv = Forall ((h, k, m, n), Forall((var_range(A, [one, one], [m, k]), B11_to_Bmn, \n",
    "                                                var_range(C, [one, one], [m, h]), D11_to_Dmn, \n",
    "                                                S11_to_Smn, var_range(R, [one, one], [m, k]), \n",
    "                                                var_range(Q, [one, one], [m, h])), \n",
    "        Implies(\n",
    "            CircuitEquiv(\n",
    "                        Circuit(ExprArray(ExprRange(i, ExprTuple(ExprRange(j, MultiQubitGate(Bij, Sij), one, n)), one, m))),\n",
    "                        Circuit(ExprArray(ExprRange(i, ExprTuple(ExprRange(j, MultiQubitGate(Dij, Sij), one, n)), one, m)))\n",
    "            ),\n",
    "            CircuitEquiv(\n",
    "                        Circuit(ExprArray(ExprRange(i, ExprTuple(ExprRange(j, MultiQubitGate(Aij, Rij), one, k), \n",
    "                                            ExprRange(j, MultiQubitGate(Bij, Sij), one, n),\n",
    "                                            ExprRange(j, MultiQubitGate(Cij, Qij), one, h)), \n",
    "                                    one, m))),\n",
    "                        Circuit(ExprArray(ExprRange(i, ExprTuple(ExprRange(j, MultiQubitGate(Aij, Rij), one, k), \n",
    "                                            ExprRange(j, MultiQubitGate(Dij, Sij), one, n),\n",
    "                                            ExprRange(j, MultiQubitGate(Cij, Qij), one, h)), \n",
    "                                    one, m)))\n",
    "            )\n",
    "        ).with_wrapping_at(2)\n",
    "    ).wrap_params(), domain=NaturalPos)"
   ]
  },
  {
   "cell_type": "code",
   "execution_count": null,
   "metadata": {},
   "outputs": [],
   "source": [
    "single_space_equiv = Forall((k, m, n), Forall((var_range(A, [one, one], [m, n]), var_range(B, one, n),\n",
    "                                              var_range(C, [one, one], [k, n]), var_range(D, one, n),\n",
    "                                              S11_to_Smn, var_range(Q, one, n), \n",
    "                                              var_range(R, [one, one], [k, n])),\n",
    "        Implies(\n",
    "            CircuitEquiv(\n",
    "                    Circuit(ExprArray(ExprTuple(ExprRange(j, Gate(IndexedVar(B, j)), one, n)))),\n",
    "                    Circuit(ExprArray(ExprTuple(ExprRange(j, Gate(IndexedVar(D, j)), one, n))))\n",
    "            ),\n",
    "            CircuitEquiv(\n",
    "                    Circuit(ExprArray(ExprRange(i, ExprTuple(ExprRange(j, MultiQubitGate(Aij, Sij), one, n)), one, m),\n",
    "                            ExprTuple(ExprRange(j, Gate(IndexedVar(B, j)), one, n)),\n",
    "                            ExprRange(i, ExprTuple(ExprRange(j, MultiQubitGate(Cij, Rij), one, n)), one, k))),\n",
    "                    Circuit(ExprArray(ExprRange(i, ExprTuple(ExprRange(j, MultiQubitGate(Aij, Sij), one, n)), one, m),\n",
    "                            ExprTuple(ExprRange(j, Gate(IndexedVar(D, j)), one, n)),\n",
    "                            ExprRange(i, ExprTuple(ExprRange(j, MultiQubitGate(Cij, Rij), one, n)), one, k)))\n",
    "            )\n",
    "        ).with_wrapping_at(2)\n",
    "    ).wrap_params(), domain=NaturalPos)"
   ]
  },
  {
   "cell_type": "code",
   "execution_count": null,
   "metadata": {},
   "outputs": [],
   "source": [
    "double_space_equiv = Forall((h, k, m, n), Forall((var_range(A, [one, one], [m, n]), var_range(B, one, n),\n",
    "                                              var_range(C, [one, one], [k, n]), var_range(D, one, n), \n",
    "                                              var_range(E, [one, one], [h, n]), var_range(F, one, n), \n",
    "                                              var_range(G, one, n), \n",
    "                                              S11_to_Smn, var_range(Q, [one, one], [h, n]), \n",
    "                                              var_range(R, [one, one], [k, n])),\n",
    "        Implies(\n",
    "            CircuitEquiv(\n",
    "                    Circuit(ExprArray(ExprTuple(ExprRange(j, MultiQubitGate(IndexedVar(B, j), Set(Add(m, one), Add(m, k, two))), one, n)),\n",
    "                            ExprTuple(ExprRange(j, MultiQubitGate(IndexedVar(D, j), Set(Add(m, one), Add(m, k, two))), one, n)))),\n",
    "                    Circuit(ExprArray(ExprTuple(ExprRange(j, MultiQubitGate(IndexedVar(F, j), Set(Add(m, one), Add(m, k, two))), one, n)),\n",
    "                            ExprTuple(ExprRange(j, MultiQubitGate(IndexedVar(G, j), Set(Add(m, one), Add(m, k, two))), one, n))))\n",
    "            ),\n",
    "            CircuitEquiv(\n",
    "                    Circuit(ExprArray(ExprRange(i, ExprTuple(ExprRange(j, MultiQubitGate(Aij, Sij), one, n)), one, m),\n",
    "                            ExprTuple(ExprRange(j, MultiQubitGate(IndexedVar(B, j), Set(Add(m, one), Add(m, k, two))), one, n)),\n",
    "                            ExprRange(i, ExprTuple(ExprRange(j, MultiQubitGate(Cij, Rij), one, n)), one, k),\n",
    "                            ExprTuple(ExprRange(j, MultiQubitGate(IndexedVar(D, j), Set(Add(m, one), Add(m, k, two))), one, n)),\n",
    "                            ExprRange(i, ExprTuple(ExprRange(j, MultiQubitGate(Eij, Qij), one, n)), one, h))),\n",
    "                    Circuit(ExprArray(ExprRange(i, ExprTuple(ExprRange(j, MultiQubitGate(Aij, Sij), one, n)), one, m),\n",
    "                            ExprTuple(ExprRange(j, MultiQubitGate(IndexedVar(F, j), Set(Add(m, one), Add(m, k, two))), one, n)),\n",
    "                            ExprRange(i, ExprTuple(ExprRange(j, MultiQubitGate(Cij, Rij), one, n)), one, k),\n",
    "                            ExprTuple(ExprRange(j, MultiQubitGate(IndexedVar(G, j), Set(Add(m, one), Add(m, k, two))), one, n)),\n",
    "                            ExprRange(i, ExprTuple(ExprRange(j, MultiQubitGate(Eij, Qij), one, n)), one, h))))\n",
    "            ).with_wrapping_at(2)\n",
    "    ).wrap_params(), domain=NaturalPos)"
   ]
  },
  {
   "cell_type": "code",
   "execution_count": null,
   "metadata": {},
   "outputs": [],
   "source": [
    "# need to form an Iter to replace x_etc here\n",
    "# summed_qubit_state_in_qubit_space = Forall(x_etc, InSet(Add(x_etc), QubitSpace), domain=QubitSpace)\n",
    "summed_qubit_state_in_qubit_space = Forall(\n",
    "    n,\n",
    "    Forall(\n",
    "        x_1_to_n,\n",
    "        InSet(Add(x_1_to_n), QubitSpace),\n",
    "        domain=QubitSpace),\n",
    "    domain=NaturalPos)"
   ]
  },
  {
   "cell_type": "code",
   "execution_count": null,
   "metadata": {},
   "outputs": [],
   "source": [
    "scaled_qubit_register_state_in_qubit_register_space = Forall(\n",
    "        n,\n",
    "        Forall(x,\n",
    "               Forall(alpha, InSet(ScalarProd(alpha, x), QubitRegisterSpace(n)),\n",
    "                      domain=Complex),\n",
    "               domain=QubitRegisterSpace(n)),\n",
    "        domain=NaturalPos)"
   ]
  },
  {
   "cell_type": "code",
   "execution_count": null,
   "metadata": {},
   "outputs": [],
   "source": [
    "register_ket_in_qubit_register_space = Forall(\n",
    "        n,\n",
    "        Forall(k, InSet(RegisterKet(k, n), QubitRegisterSpace(n)),\n",
    "               domain = Interval(zero, subtract(Exp(two, n), one))),\n",
    "        domain=NaturalPos)"
   ]
  },
  {
   "cell_type": "code",
   "execution_count": null,
   "metadata": {},
   "outputs": [],
   "source": [
    "register_qubit_complex_amplitude = Forall(\n",
    "       n,\n",
    "       Forall(k,\n",
    "              Forall(Psi,\n",
    "                     InSet(MatrixProd(RegisterBra(k, n), Ket(Psi)), Complex),\n",
    "                     conditions = [InSet(Ket(Psi), QubitRegisterSpace(n))]),\n",
    "              domain=Interval(zero, subtract(Exp(two, n),one))),\n",
    "       domain=NaturalPos)"
   ]
  },
  {
   "cell_type": "code",
   "execution_count": null,
   "metadata": {},
   "outputs": [],
   "source": [
    "# TOOK REALLY LONG TO RUN... MORE TESTING NEEDED\n",
    "# register_qubit_born_rule = Forall(\n",
    "  #      n,\n",
    "   #     Forall(k,\n",
    "    #           Forall((Psi, m),\n",
    "     #                 Equals(Prob(Equals(m, k), m),\n",
    "      #                       Exp(Abs(MatrixProd(RegisterBra(k, n), Ket(Psi))), two)),\n",
    "       #               conditions = [InSet(Ket(Psi), QubitRegisterSpace(n)), Equals(m, Meas(Ket(Psi)))]),\n",
    "        #       domain=Interval(zero, subtract(Exp(two, n), one))),\n",
    "        #domain=NaturalPos)"
   ]
  },
  {
   "cell_type": "code",
   "execution_count": null,
   "metadata": {},
   "outputs": [],
   "source": [
    "register_qubit_all_probs = Forall(\n",
    "        n,\n",
    "        Forall((Psi, m),\n",
    "               Equals(Sum(k, Prob(Equals(m, k), m),\n",
    "                                domain=Interval(zero, subtract(Exp(two, n), one))),\n",
    "                      one),\n",
    "               conditions = [InSet(Ket(Psi), QubitRegisterSpace(n)), Equals(m, Meas(Ket(Psi)))]),\n",
    "        domain=NaturalPos)"
   ]
  },
  {
   "cell_type": "code",
   "execution_count": null,
   "metadata": {},
   "outputs": [],
   "source": [
    "## This one requires pregated_controlled_ngate, defined at the top of this page,\n",
    "## but that pregated_controlled_ngate requires the Circuit class\n",
    "pregated_controlled_ngate_equiv = Forall(\n",
    "        n,\n",
    "        Forall(U,\n",
    "               Forall(u,\n",
    "                      Forall((a, b),\n",
    "                             Forall((x, y),\n",
    "                                    Equals(pregated_controlled_ngate,\n",
    "                                           controlled_ngate(MatrixProd(u, a), b, x, y)),\n",
    "                                    domain=QubitRegisterSpace(n)),\n",
    "                             domain=QubitSpace),\n",
    "                      domain=SU(two)),\n",
    "               domain=RegisterSU(n)),\n",
    "        domain=NaturalPos)"
   ]
  },
  {
   "cell_type": "code",
   "execution_count": null,
   "metadata": {},
   "outputs": [],
   "source": [
    "## This one requires controlled_ngate, defined at the top of this page,\n",
    "## but that controlled_ngate requires the Circuit class\n",
    "controlled_ngate_equiv = Forall(\n",
    "        n,\n",
    "        Forall(U,\n",
    "               Forall((a, b, c),\n",
    "                      Forall((x, y, z),\n",
    "                             Iff(Equals(controlled_ngate(a, b, x, y),\n",
    "                                        controlled_ngate(a, c, x, z)),\n",
    "                                 Equals(TensorProd(b, y), TensorProd(c, z))),\n",
    "                             domain=QubitRegisterSpace(n)),\n",
    "                      domain=QubitSpace),\n",
    "               domain=RegisterSU(n)),\n",
    "        domain=NaturalPos)"
   ]
  },
  {
   "cell_type": "code",
   "execution_count": null,
   "metadata": {},
   "outputs": [],
   "source": [
    "## This one requires controlled_ngate, defined at the top of this page,\n",
    "## but that controlled_ngate requires the Circuit class\n",
    "superposition_controlled_ngate = Forall(\n",
    "        n,\n",
    "        Forall(U,\n",
    "               Forall((a, b, c, d),\n",
    "                      Forall((x, y),\n",
    "                             Implies(And(controlled_ngate(a, c, x, y),\n",
    "                                         controlled_ngate(b, d, x, y)),\n",
    "                                     controlled_ngate(Add(a, b), Add(c, d), x, y)),\n",
    "                             domain=QubitRegisterSpace(n)),\n",
    "                      domain=QubitSpace),\n",
    "               domain=RegisterSU(n)),\n",
    "        domain=NaturalPos)"
   ]
  },
  {
   "cell_type": "code",
   "execution_count": null,
   "metadata": {},
   "outputs": [],
   "source": [
    "## This one requires pregated_controlled_ngate, defined at the top of this page,\n",
    "## but that pregated_controlled_ngate requires the Circuit class\n",
    "pregated_controlled_ngate_merger = Forall(\n",
    "    (n, k),\n",
    "    Forall(U,\n",
    "           Forall(u,\n",
    "                  Forall((a, b),\n",
    "                         Forall(c,\n",
    "                                Forall(d,\n",
    "                                       Forall((x, y),\n",
    "                                              Implies(pregated_controlled_ngate,\n",
    "                                                      Implies(pregated_controlled_ngate_with_merge,\n",
    "                                                              Equals(d, TensorProd(c, b)))),\n",
    "                                              domain=QubitRegisterSpace(n)),\n",
    "                                       domain=QubitRegisterSpace(Add(k, one))),\n",
    "                                domain=QubitRegisterSpace(k)),\n",
    "                         domain=QubitSpace),\n",
    "                  domain=SU(two)),\n",
    "           domain=RegisterSU(n)),\n",
    "    domain=NaturalPos)"
   ]
  },
  {
   "cell_type": "code",
   "execution_count": null,
   "metadata": {},
   "outputs": [],
   "source": [
    "# TOOK REALLY LONG TO RUN... MORE TESTING NEEDED\n",
    "#register_bra_over_summed_ket = Forall(\n",
    " #   n,\n",
    "  #  Forall(U,\n",
    "   #        Forall(l,\n",
    "    #              Forall(f,\n",
    "     #                    Equals(MatrixProd(RegisterBra(l, n),\n",
    "      #                                     MatrixProd(U, Sum(k, ScalarProd(Operation(f, k), RegisterKet(k, n)),\n",
    "       #                                                      domain=Interval(zero, subtract(Exp(two, n), one))))),\n",
    "        #                        Sum(k, Mult(Operation(f, k),\n",
    "         #                                   MatrixProd(RegisterBra(l, n), U, RegisterKet(k, n))),\n",
    "          #                          domain=Interval(zero, subtract(Exp(two, n), one))))),\n",
    "           #       domain=Interval(zero, subtract(Exp(two, n), one))),\n",
    "           #domain=SU(Exp(two, n))),\n",
    "    #domain=NaturalPos)"
   ]
  },
  {
   "cell_type": "code",
   "execution_count": null,
   "metadata": {},
   "outputs": [],
   "source": [
    "%end theorems"
   ]
  },
  {
   "cell_type": "code",
   "execution_count": null,
   "metadata": {},
   "outputs": [],
   "source": []
  }
 ],
 "metadata": {
  "kernelspec": {
   "display_name": "Python 3",
   "language": "python",
   "name": "python3"
  }
 },
 "nbformat": 4,
 "nbformat_minor": 0
}
