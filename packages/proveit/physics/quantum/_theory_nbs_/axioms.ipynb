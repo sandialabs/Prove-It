{
 "cells": [
  {
   "cell_type": "markdown",
   "metadata": {},
   "source": [
    "Axioms for the theory of <a class=\"ProveItLink\" href=\"theory.ipynb\">proveit.physics.quantum</a>\n",
    "========"
   ]
  },
  {
   "cell_type": "code",
   "execution_count": 1,
   "metadata": {},
   "outputs": [],
   "source": [
    "import proveit\n",
    "# Prepare this notebook for defining the axioms of a theory:\n",
    "%axioms_notebook # Keep this at the top following 'import proveit'.\n",
    "from proveit import (Operation, Function, Lambda, Conditional,\n",
    "                     ExprArray, ExprTuple, Composition)\n",
    "from proveit import (a, b, c, f, k, m, n, v, x, y, alpha, \n",
    "                     A, B, M, U, V, W, X, Y, Z, fx, fy)\n",
    "from proveit.core_expr_types import A_1_to_m, B_1_to_m\n",
    "from proveit.linear_algebra import (\n",
    "    LinMap, VecSpaces, MatrixSpace, MatrixMult, TensorProd, ScalarMult)\n",
    "from proveit.logic import (Iff, And, Or, Forall, Exists, Equals, \n",
    "                           InSet, Set, Union, SetOfAll, InClass)\n",
    "from proveit.numbers import zero, one, two, frac, Integer, Natural, NaturalPos, Complex, Exp\n",
    "from proveit.numbers import Add, Exp, Mult, sqrt, subtract, greater\n",
    "from proveit.numbers.number_sets import Interval\n",
    "from proveit.physics.quantum import (\n",
    "    Ket, NumKet)\n",
    "from proveit.physics.quantum.circuits import (Gate, QcircuitEquiv, Qcircuit,\n",
    "                                              Input, Output)\n",
    "# from proveit.physics.quantum import Bra, Ket, RegisterBra, Meas, MultiWire, Circuit\n",
    "from proveit.physics.quantum import ket0, ket1, ket_plus, H, QubitSpace, RegisterSU, I, CONTROL\n",
    "# from proveit.physics.quantum import I, X, Y, Z, RegisterSU\n",
    "from proveit.physics.quantum import QubitRegisterSpace"
   ]
  },
  {
   "cell_type": "code",
   "execution_count": 2,
   "metadata": {},
   "outputs": [
    {
     "name": "stdout",
     "output_type": "stream",
     "text": [
      "Defining axioms for theory 'proveit.physics.quantum'\n",
      "Subsequent end-of-cell assignments will define axioms\n",
      "%end_axioms will finalize the definitions\n"
     ]
    }
   ],
   "source": [
    "%begin axioms"
   ]
  },
  {
   "cell_type": "code",
   "execution_count": 3,
   "metadata": {},
   "outputs": [],
   "source": [
    "# scalar_id_for_ket = Forall(k,\n",
    "#                            Equals(Mult(one, Ket(k)), Ket(k)),\n",
    "#                            domain=Natural)"
   ]
  },
  {
   "cell_type": "code",
   "execution_count": 4,
   "metadata": {},
   "outputs": [
    {
     "data": {
      "text/html": [
       "<strong id=\"hadamard_on_zero\">hadamard_on_zero:</strong> <a class=\"ProveItLink\" href=\"../__pv_it/axioms/2c6f8a2cfe29cb78a1272ca294f48fc07bc8258e0/axiom_expr.ipynb\"><img src=\"data:image/png;base64,iVBORw0KGgoAAAANSUhEUgAAAHQAAAAVBAMAAABlHNfrAAAAMFBMVEX///8AAAAAAAAAAAAAAAAA\n",
       "AAAAAAAAAAAAAAAAAAAAAAAAAAAAAAAAAAAAAAAAAAAv3aB7AAAAD3RSTlMAInZUiRDNmWbv3US7\n",
       "qzJazP2FAAAACXBIWXMAAA7EAAAOxAGVKw4bAAABv0lEQVQ4y31UPU9CQRAceAgIivwAEiltVAoi\n",
       "0YpoaYx0RqMRY2MnJnY2VFaa2NhgIQmVGn+AlWhP8A+o1CZGI6Im4sfs3Sngw7vksrdvZm73du8e\n",
       "gCjahnEinB64RosqBHgT7eC0Nn01IBx3Sad/V0JAknP4q4Ldw0pGgb7JDTg5fh2ySIXQk5XVC2fB\n",
       "gKtYiKLItT/zv1QIgbxk/syjvWowWISvjCmug7mu0rAohNAr1vdOYl2DfVdwGoiJs99V6qgakDAm\n",
       "1v/Igzc0OJBDpA6/FHPNIiVhU+xAmeGLGlym9A1Oms6MRUqC2vn89Pr6NqfBwTQiT6oM2JYvgWM1\n",
       "rv5ISSiJmWWXRhMtKau2RWfcEpWEAzHrnNWMSTiNMKPe03lwS5nDUUHlcK+lTdNaUyanrm/KmS1q\n",
       "UiUsUSRJ3Zwygiz2Cp0J21lXcClt/eRVfjfS4B4CWXhYc+xYopIgDQhJWx9/wBLma/BJ0TYtUhLu\n",
       "gKXqRzxQbcYNODd5w93EObFISQjVul7wlORUtEhTrjv+I72AeRn/Xf8LM11S9RRjlveqCIvdQG/e\n",
       "tWmnVBE8Hf+REW36BY26pCO/KxK+AbTadIU/jKMKAAAAAElFTkSuQmCC\n",
       "\" style=\"display:inline;vertical-align:middle;\" /></a><br>"
      ],
      "text/plain": [
       "<IPython.core.display.HTML object>"
      ]
     },
     "metadata": {},
     "output_type": "display_data"
    }
   ],
   "source": [
    "hadamard_on_zero = Equals(MatrixMult(H, ket0), ket_plus)"
   ]
  },
  {
   "cell_type": "code",
   "execution_count": 5,
   "metadata": {},
   "outputs": [
    {
     "data": {
      "text/html": [
       "<strong id=\"substitution\">substitution:</strong> <a class=\"ProveItLink\" href=\"../__pv_it/axioms/182d4fd191141053eca6287b18858dab9e7a48730/axiom_expr.ipynb\"><img src=\"data:image/png;base64,iVBORw0KGgoAAAANSUhEUgAAAO8AAAAXBAMAAAARnwX+AAAAMFBMVEX///8AAAAAAAAAAAAAAAAA\n",
       "AAAAAAAAAAAAAAAAAAAAAAAAAAAAAAAAAAAAAAAAAAAv3aB7AAAAD3RSTlMAq1RmmUTNIjK7EInv\n",
       "3XZ/CtNrAAAACXBIWXMAAA7EAAAOxAGVKw4bAAADWElEQVRIx7VWTUhUURQ+M/Pe/DvOIkJJZCRr\n",
       "U+IEJcxmGtGyMGhoEQTVPGoRtHotC0OrXRgpLSIDeYJJEsjookWiiFBEoVggFGGMZEQtxE0YLqpz\n",
       "z/15b3w6NQMe+O49c8/37jn33HvuHYCKxXTrgf/gm5s+LVtiCbeuF/7NvygQZz/2VuD4ALXapKV0\n",
       "lC+8G5pjXmQUnS/AwYklOY6xH1fK9xs2qBvvTSgdxW9R9/nOJ7kmgEjNLDg5Vzlusa3pK9+xlqRu\n",
       "9pyldBRfRixqJA7BDB+L7hsAJ+cwB4sxkijfcZRv6oatk7xhjQexu+eCOEI5q5gTtQg+jMRfwRbv\n",
       "52lcsHWSyzTKVv3npRiagmKOP8kxt7T0tgLHnZTZuncZoY8tP53ExI3bh0D0h+Z2CX54JQlDGFac\n",
       "4wTAwHazZ7Z3TEuD6oLUM7F6DZff4mb+lvyIdwaOYrQGxzUIsOMXbk+6vylx6N5T290jdJ/p2/Dg\n",
       "DAfp4C2R8FMd+CX5tzGyWgB0TwhZkSwaQkd6SjmOvMI8OkPjO9gs9SBoVC/3XXN41yTHihZgHqlr\n",
       "HN4Cna1qC0o5bnzyGCDvcjxl61HK+nnXHPz8ESdnBXH5+gwHGGkWV90EM692rGAR6MtUEdIxG8yA\n",
       "VjOcVQaZ6n5bz5lhjL3J5TgUV5zjEGNpXuCACXaVQIoq36z1Y0rHqq1e2zENYpZb5m0DwCC181If\n",
       "zdZRFaVce8wzQfx+isLXxwFdRGin8oDBIHY3muC77ZgGTz5CSSqDqJvAT6k33z0FZ2SVFUl3VvFb\n",
       "IYcL0PIc4KFT9YDT1qndA/XOPV5Xs0gDwD3HwUF9eNXbxu6/RZfjZps/NH0aN7IqyyHkNbXBGXpS\n",
       "F8XPPueg04CfsnC1uK3z2llwOW518OE54qaAuGfw0n0GXRFDww4+6Gu2YxrkqVYG/hw0+BOOpwGK\n",
       "ngJZTPFLih8xwuydahMAsSqA3oT2dfoHdtCYMmzHNCirKqVet4cAH0dsncv1zeutGjAUp6rgyfOn\n",
       "0PEcUtDikUqEzVByy5tLGVBGAdIdtr4pAjXviqk43jR7/EMmhyi2BtwCnd8huuUpnN36ylQGtp2O\n",
       "vzlSj5X4MyU53wTE9bJKdcODBD2d39qxMuy0mDs39V/GaeT5yy4pDAAAAABJRU5ErkJggg==\n",
       "\" style=\"display:inline;vertical-align:middle;\" /></a><br>"
      ],
      "text/plain": [
       "<IPython.core.display.HTML object>"
      ]
     },
     "metadata": {},
     "output_type": "display_data"
    }
   ],
   "source": [
    "substitution = Forall((f, x, y), QcircuitEquiv(fx, fy), conditions=QcircuitEquiv(x, y))"
   ]
  },
  {
   "cell_type": "markdown",
   "metadata": {},
   "source": [
    "And then we have several axioms involving the Circuit class, which class itself still needs updating<br/>(in particular, the Circuit class needs an appropriate substitute for the ExpressionTensor class -- perhaps ExprArray)."
   ]
  },
  {
   "cell_type": "code",
   "execution_count": 6,
   "metadata": {},
   "outputs": [],
   "source": [
    "# circuit_gate_application = Forall(\n",
    "#     U, \n",
    "#     Forall((x, y),\n",
    "#            Iff(Circuit(ExprArray(ExprTuple(Input(x), Gate(U), Output(y)))),\n",
    "#                Equals(y, MatrixMult(U, x))),\n",
    "#            domain=QubitSpace),\n",
    "#     domain=SU(two))"
   ]
  },
  {
   "cell_type": "code",
   "execution_count": 7,
   "metadata": {},
   "outputs": [],
   "source": [
    "# circuit_multi_gate_application = Forall(\n",
    "#     n,\n",
    "#     Forall(U,\n",
    "#            Forall((x, y),\n",
    "#                   Iff(Circuit(ExprArray(ExprTuple(Input(x), MultiWire(n), Gate(U), Output(y)))),\n",
    "#                       Equals(y, MatrixMult(U, x))),\n",
    "#                   domain=QubitRegisterSpace(n)),\n",
    "#            domain=RegisterSU(n)),\n",
    "#     domain=NaturalPos)"
   ]
  },
  {
   "cell_type": "code",
   "execution_count": 8,
   "metadata": {},
   "outputs": [],
   "source": [
    "# zero_controlled_ngate = Forall(\n",
    "#     n,\n",
    "#     Forall(U,\n",
    "#            Forall(x,\n",
    "#                   Forall(alpha,\n",
    "#                          Circuit(ExprArray(ExprTuple(Input(ScalarMult(alpha, ket0)),\n",
    "#                                    I,\n",
    "#                                    MultiQubitGate(CONTROL, Set(one, two)),\n",
    "#                                    Output(ScalarMult(alpha, ket0))),\n",
    "#                                   ExprTuple(Input(x), MultiWire(n), MultiQubitGate(U, Set(one, two)), Output(x)))),\n",
    "#                          domain=Complex),\n",
    "#                   domain=QubitRegisterSpace(n)),\n",
    "#            domain=SU(Exp(two, n))),\n",
    "#     domain=NaturalPos)"
   ]
  },
  {
   "cell_type": "code",
   "execution_count": 9,
   "metadata": {},
   "outputs": [],
   "source": [
    "# one_controlled_ngate = Forall(\n",
    "#     n,\n",
    "#     Forall(U,\n",
    "#            Forall(x,\n",
    "#                   Forall(alpha,\n",
    "#                          Circuit(ExprArray(ExprTuple(Input(ScalarMult(alpha, ket1)),\n",
    "#                                    I,\n",
    "#                                    MultiQubitGate(CONTROL, Set(one, two)),\n",
    "#                                    Output(ScalarMult(alpha, ket1))),\n",
    "#                                   ExprTuple(Input(x), MultiWire(n), MultiQubitGate(U, Set(one, two)), Output(MatrixMult(U, x))))),\n",
    "#                          domain=Complex),\n",
    "#                   domain=QubitRegisterSpace(n)),\n",
    "#            domain=SU(Exp(two, n))),\n",
    "#     domain=NaturalPos)"
   ]
  },
  {
   "cell_type": "code",
   "execution_count": 10,
   "metadata": {},
   "outputs": [
    {
     "name": "stdout",
     "output_type": "stream",
     "text": [
      "These axioms may now be imported from the theory package: proveit.physics.quantum\n"
     ]
    }
   ],
   "source": [
    "%end axioms"
   ]
  }
 ],
 "metadata": {
  "kernelspec": {
   "display_name": "Python 3",
   "language": "python",
   "name": "python3"
  }
 },
 "nbformat": 4,
 "nbformat_minor": 0
}