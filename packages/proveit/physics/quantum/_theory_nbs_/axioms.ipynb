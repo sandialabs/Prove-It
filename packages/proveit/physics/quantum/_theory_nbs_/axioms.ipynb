{
 "cells": [
  {
   "cell_type": "markdown",
   "metadata": {},
   "source": [
    "Axioms for the theory of <a class=\"ProveItLink\" href=\"theory.ipynb\">proveit.physics.quantum</a>\n",
    "========"
   ]
  },
  {
   "cell_type": "code",
   "execution_count": null,
   "metadata": {},
   "outputs": [],
   "source": [
    "import proveit\n",
    "# Prepare this notebook for defining the axioms of a theory:\n",
    "%axioms_notebook # Keep this at the top following 'import proveit'.\n",
    "from proveit import (Operation, Function, Lambda, Conditional,\n",
    "                     ExprArray, ExprTuple, Composition)\n",
    "from proveit import (a, b, c, f, k, m, n, v, x, y, alpha, \n",
    "                     A, B, M, U, V, W, X, Y, Z, fx, fy)\n",
    "from proveit.core_expr_types import A_1_to_m, B_1_to_m\n",
    "from proveit.linear_algebra import (\n",
    "    LinMap, VecSpaces, MatrixSpace, MatrixMult, TensorProd, ScalarMult)\n",
    "from proveit.logic import (Iff, And, Or, Forall, Exists, Equals, \n",
    "                           InSet, Set, Union, SetOfAll, InClass)\n",
    "from proveit.numbers import zero, one, two, frac, Integer, Natural, NaturalPos, Complex, Exp\n",
    "from proveit.numbers import Add, Exp, Mult, sqrt, subtract, greater\n",
    "from proveit.numbers.number_sets import Interval\n",
    "from proveit.physics.quantum import (\n",
    "    Ket, NumKet)\n",
    "from proveit.physics.quantum.circuits import (Gate, QcircuitEquiv, Qcircuit,\n",
    "                                              Input, Output)\n",
    "# from proveit.physics.quantum import Bra, Ket, RegisterBra, Meas, MultiWire, Circuit\n",
    "from proveit.physics.quantum import ket0, ket1, ket_plus, H, QubitSpace, RegisterSU, I, CONTROL\n",
    "# from proveit.physics.quantum import I, X, Y, Z, RegisterSU\n",
    "from proveit.physics.quantum import QubitRegisterSpace"
   ]
  },
  {
   "cell_type": "code",
   "execution_count": null,
   "metadata": {},
   "outputs": [],
   "source": [
    "%begin axioms"
   ]
  },
  {
   "cell_type": "code",
   "execution_count": null,
   "metadata": {},
   "outputs": [],
   "source": [
    "# scalar_id_for_ket = Forall(k,\n",
    "#                            Equals(Mult(one, Ket(k)), Ket(k)),\n",
    "#                            domain=Natural)"
   ]
  },
  {
   "cell_type": "code",
   "execution_count": null,
   "metadata": {},
   "outputs": [],
   "source": [
    "hadamard_on_zero = Equals(MatrixMult(H, ket0), ket_plus)"
   ]
  },
  {
   "cell_type": "code",
   "execution_count": null,
   "metadata": {},
   "outputs": [],
   "source": [
    "substitution = Forall((f, x, y), QcircuitEquiv(fx, fy), conditions=QcircuitEquiv(x, y))"
   ]
  },
  {
   "cell_type": "markdown",
   "metadata": {},
   "source": [
    "And then we have several axioms involving the Circuit class, which class itself still needs updating<br/>(in particular, the Circuit class needs an appropriate substitute for the ExpressionTensor class -- perhaps ExprArray)."
   ]
  },
  {
   "cell_type": "code",
   "execution_count": null,
   "metadata": {},
   "outputs": [],
   "source": [
    "# circuit_gate_application = Forall(\n",
    "#     U, \n",
    "#     Forall((x, y),\n",
    "#            Iff(Circuit(ExprArray(ExprTuple(Input(x), Gate(U), Output(y)))),\n",
    "#                Equals(y, MatrixMult(U, x))),\n",
    "#            domain=QubitSpace),\n",
    "#     domain=SU(two))"
   ]
  },
  {
   "cell_type": "code",
   "execution_count": null,
   "metadata": {},
   "outputs": [],
   "source": [
    "# circuit_multi_gate_application = Forall(\n",
    "#     n,\n",
    "#     Forall(U,\n",
    "#            Forall((x, y),\n",
    "#                   Iff(Circuit(ExprArray(ExprTuple(Input(x), MultiWire(n), Gate(U), Output(y)))),\n",
    "#                       Equals(y, MatrixMult(U, x))),\n",
    "#                   domain=QubitRegisterSpace(n)),\n",
    "#            domain=RegisterSU(n)),\n",
    "#     domain=NaturalPos)"
   ]
  },
  {
   "cell_type": "code",
   "execution_count": null,
   "metadata": {},
   "outputs": [],
   "source": [
    "# zero_controlled_ngate = Forall(\n",
    "#     n,\n",
    "#     Forall(U,\n",
    "#            Forall(x,\n",
    "#                   Forall(alpha,\n",
    "#                          Circuit(ExprArray(ExprTuple(Input(ScalarMult(alpha, ket0)),\n",
    "#                                    I,\n",
    "#                                    MultiQubitGate(CONTROL, Set(one, two)),\n",
    "#                                    Output(ScalarMult(alpha, ket0))),\n",
    "#                                   ExprTuple(Input(x), MultiWire(n), MultiQubitGate(U, Set(one, two)), Output(x)))),\n",
    "#                          domain=Complex),\n",
    "#                   domain=QubitRegisterSpace(n)),\n",
    "#            domain=SU(Exp(two, n))),\n",
    "#     domain=NaturalPos)"
   ]
  },
  {
   "cell_type": "code",
   "execution_count": null,
   "metadata": {},
   "outputs": [],
   "source": [
    "# one_controlled_ngate = Forall(\n",
    "#     n,\n",
    "#     Forall(U,\n",
    "#            Forall(x,\n",
    "#                   Forall(alpha,\n",
    "#                          Circuit(ExprArray(ExprTuple(Input(ScalarMult(alpha, ket1)),\n",
    "#                                    I,\n",
    "#                                    MultiQubitGate(CONTROL, Set(one, two)),\n",
    "#                                    Output(ScalarMult(alpha, ket1))),\n",
    "#                                   ExprTuple(Input(x), MultiWire(n), MultiQubitGate(U, Set(one, two)), Output(MatrixMult(U, x))))),\n",
    "#                          domain=Complex),\n",
    "#                   domain=QubitRegisterSpace(n)),\n",
    "#            domain=SU(Exp(two, n))),\n",
    "#     domain=NaturalPos)"
   ]
  },
  {
   "cell_type": "code",
   "execution_count": null,
   "metadata": {},
   "outputs": [],
   "source": [
    "%end axioms"
   ]
  }
 ],
 "metadata": {
  "kernelspec": {
   "display_name": "Python 3",
   "language": "python",
   "name": "python3"
  }
 },
 "nbformat": 4,
 "nbformat_minor": 0
}
