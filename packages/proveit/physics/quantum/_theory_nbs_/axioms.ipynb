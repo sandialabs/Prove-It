{
 "cells": [
  {
   "cell_type": "markdown",
   "metadata": {},
   "source": [
    "Axioms for the theory of <a class=\"ProveItLink\" href=\"theory.ipynb\">proveit.physics.quantum</a>\n",
    "========"
   ]
  },
  {
   "cell_type": "code",
   "execution_count": null,
   "metadata": {},
   "outputs": [],
   "source": [
    "import proveit\n",
    "# Prepare this notebook for defining the axioms of a theory:\n",
    "%axioms_notebook # Keep this at the top following 'import proveit'.\n",
    "from proveit import Function, Lambda, ExprArray, ExprTuple, Composition\n",
    "from proveit import c, f, k, m, n, x, y, alpha, B, M, U, V, W, fx, fy\n",
    "from proveit.core_expr_types import A_1_to_m\n",
    "from proveit.linear_algebra import (\n",
    "    LinMap, MatrixSpace, MatrixMult, TensorProd, SU, ScalarProd)\n",
    "from proveit.logic import Equals, Forall, Iff, InSet, Set\n",
    "from proveit.numbers import zero, one, two, frac, Integer, Natural, NaturalPos, Complex, Exp\n",
    "from proveit.numbers import Add, Exp, Mult, sqrt, subtract, greater\n",
    "from proveit.numbers.number_sets import Interval\n",
    "from proveit.physics.quantum import (\n",
    "    QuantumOpMult, Qmap, Qmaps_A_1_to_m, \n",
    "    Ket, Input, Output, RegisterKet)\n",
    "from proveit.physics.quantum.circuit import Gate, MultiQubitGate, CircuitEquiv, Circuit, MultiWire\n",
    "# from proveit.physics.quantum import Bra, Ket, RegisterBra, Meas, MultiWire, Circuit\n",
    "from proveit.physics.quantum import ket0, ket1, ket_plus, H, QubitSpace, RegisterSU, I, CONTROL\n",
    "# from proveit.physics.quantum import I, X, Y, Z, RegisterSU\n",
    "from proveit.physics.quantum import QubitRegisterSpace"
   ]
  },
  {
   "cell_type": "code",
   "execution_count": null,
   "metadata": {},
   "outputs": [],
   "source": [
    "%begin axioms"
   ]
  },
  {
   "cell_type": "code",
   "execution_count": null,
   "metadata": {},
   "outputs": [],
   "source": [
    "ket_zero_in_qubit_space = InSet(ket0, QubitSpace)"
   ]
  },
  {
   "cell_type": "code",
   "execution_count": null,
   "metadata": {},
   "outputs": [],
   "source": [
    "ket_one_in_qubit_space = InSet(ket1, QubitSpace)"
   ]
  },
  {
   "cell_type": "code",
   "execution_count": null,
   "metadata": {},
   "outputs": [],
   "source": [
    "single_qubit_register_ket = Forall(\n",
    "        x,\n",
    "        Equals(RegisterKet(x, one), Ket(x)))"
   ]
  },
  {
   "cell_type": "code",
   "execution_count": null,
   "metadata": {},
   "outputs": [],
   "source": [
    "single_qubit_register_zero = Equals(RegisterKet(zero, one), ket0)"
   ]
  },
  {
   "cell_type": "code",
   "execution_count": null,
   "metadata": {},
   "outputs": [],
   "source": [
    "single_qubit_register_one = Equals(RegisterKet(one, one), ket1)"
   ]
  },
  {
   "cell_type": "markdown",
   "metadata": {},
   "source": [
    "Quantum operations can \"multiply\" to form a new quantum operation via the composition of linear maps.  We'll just check that the last operand is a linear map to distinguish it from quantum operation application."
   ]
  },
  {
   "cell_type": "code",
   "execution_count": null,
   "metadata": {},
   "outputs": [],
   "source": [
    "quantum_op_mult_def = Forall(\n",
    "    m, Forall((V, W), Forall(\n",
    "        (A_1_to_m, B), Equals(QuantumOpMult(A_1_to_m, B),\n",
    "                              Composition(Qmaps_A_1_to_m, \n",
    "                                          Qmap(B))),\n",
    "        condition=InSet(Qmap(B), LinMap(V, W))),\n",
    "    domain=Natural))"
   ]
  },
  {
   "cell_type": "markdown",
   "metadata": {},
   "source": [
    "Quantum operations can \"multiply\" along with a ket vector to apply the operations to the vector.  We'll just check that the last two operands are consistent with a linear map application to distinguish it from the \"multiplication\" of only quantum operators.  "
   ]
  },
  {
   "cell_type": "code",
   "execution_count": null,
   "metadata": {},
   "outputs": [],
   "source": [
    "quantum_op_app_def = Forall(\n",
    "    m, Forall((V, W), Forall(\n",
    "        (A_1_to_m, B), Forall(\n",
    "            x, Equals(QuantumOpMult(A_1_to_m, B, x),\n",
    "                      Function(Composition(Qmaps_A_1_to_m,\n",
    "                                           Qmap(B)),\n",
    "                               x)),\n",
    "            domain=V),\n",
    "        condition=InSet(Qmap(B), LinMap(V, W)))),\n",
    "    domain=Natural)"
   ]
  },
  {
   "cell_type": "markdown",
   "metadata": {},
   "source": [
    "Quantum map of c-numbers and matrices are defined via multiplication."
   ]
  },
  {
   "cell_type": "code",
   "execution_count": null,
   "metadata": {},
   "outputs": [],
   "source": [
    "qmap_of_cnumber = Forall(c, Equals(Qmap(c), Lambda(x, Mult(c, x))),\n",
    "                         domain=Complex)"
   ]
  },
  {
   "cell_type": "markdown",
   "metadata": {},
   "source": [
    "Don't regard trivial 1-column matrics (which could be regarded as the same as a column-vector) as quantum operators."
   ]
  },
  {
   "cell_type": "code",
   "execution_count": null,
   "metadata": {},
   "outputs": [],
   "source": [
    "qmap_of_matrix = Forall(\n",
    "    (m, n), Forall(M, Equals(Qmap(M), Lambda(x, MatrixMult(M, x))),\n",
    "                   domain=MatrixSpace(Complex, m, n)),\n",
    "    domain=NaturalPos, condition=greater(n, one))"
   ]
  },
  {
   "cell_type": "code",
   "execution_count": null,
   "metadata": {},
   "outputs": [],
   "source": [
    "scalar_id_for_ket = Forall(k,\n",
    "                           Equals(Mult(one, Ket(k)), Ket(k)),\n",
    "                           domain=Natural)"
   ]
  },
  {
   "cell_type": "code",
   "execution_count": null,
   "metadata": {},
   "outputs": [],
   "source": [
    "expand_register_with_zero_ket = Forall(\n",
    "        n,\n",
    "        Forall(k,\n",
    "               Equals(RegisterKet(k, Add(n, one)),\n",
    "                      TensorProd(ket0, RegisterKet(k, n))),\n",
    "               domain=Interval(zero, subtract(Exp(two, n), one))),\n",
    "        domain=NaturalPos)"
   ]
  },
  {
   "cell_type": "code",
   "execution_count": null,
   "metadata": {},
   "outputs": [],
   "source": [
    "expand_register_with_one_ket = Forall(\n",
    "        n, \n",
    "        Forall(k, Equals(RegisterKet(Add(k, Exp(two, n)), Add(n, one)),\n",
    "                         TensorProd(ket1, RegisterKet(k, n))),\n",
    "               domain=Interval(zero, subtract(Exp(two, n), one))),\n",
    "        domain=NaturalPos)"
   ]
  },
  {
   "cell_type": "code",
   "execution_count": null,
   "metadata": {},
   "outputs": [],
   "source": [
    "ket_plus_def = Equals(ket_plus, frac(Add(ket0, ket1), sqrt(two)))"
   ]
  },
  {
   "cell_type": "code",
   "execution_count": null,
   "metadata": {},
   "outputs": [],
   "source": [
    "hadamard_on_zero = Equals(MatrixMult(H, ket0), ket_plus)"
   ]
  },
  {
   "cell_type": "code",
   "execution_count": null,
   "metadata": {},
   "outputs": [],
   "source": [
    "empty_gate = Equals(Gate(), I.with_styles(representation=\"explicit\")) # base case"
   ]
  },
  {
   "cell_type": "code",
   "execution_count": null,
   "metadata": {},
   "outputs": [],
   "source": [
    "substitution = Forall((f, x, y), CircuitEquiv(fx, fy), conditions=CircuitEquiv(x, y))"
   ]
  },
  {
   "cell_type": "markdown",
   "metadata": {},
   "source": [
    "And then we have several axioms involving the Circuit class, which class itself still needs updating<br/>(in particular, the Circuit class needs an appropriate substitute for the ExpressionTensor class -- perhaps ExprArray)."
   ]
  },
  {
   "cell_type": "code",
   "execution_count": null,
   "metadata": {},
   "outputs": [],
   "source": [
    "circuit_gate_application = Forall(\n",
    "    U, \n",
    "    Forall((x, y),\n",
    "           Iff(Circuit(ExprArray(ExprTuple(Input(x), Gate(U), Output(y)))),\n",
    "               Equals(y, MatrixMult(U, x))),\n",
    "           domain=QubitSpace),\n",
    "    domain=SU(two))"
   ]
  },
  {
   "cell_type": "code",
   "execution_count": null,
   "metadata": {},
   "outputs": [],
   "source": [
    "circuit_multi_gate_application = Forall(\n",
    "    n,\n",
    "    Forall(U,\n",
    "           Forall((x, y),\n",
    "                  Iff(Circuit(ExprArray(ExprTuple(Input(x), MultiWire(n), Gate(U), Output(y)))),\n",
    "                      Equals(y, MatrixMult(U, x))),\n",
    "                  domain=QubitRegisterSpace(n)),\n",
    "           domain=RegisterSU(n)),\n",
    "    domain=NaturalPos)"
   ]
  },
  {
   "cell_type": "code",
   "execution_count": null,
   "metadata": {},
   "outputs": [],
   "source": [
    "zero_controlled_ngate = Forall(\n",
    "    n,\n",
    "    Forall(U,\n",
    "           Forall(x,\n",
    "                  Forall(alpha,\n",
    "                         Circuit(ExprArray(ExprTuple(Input(ScalarProd(alpha, ket0)),\n",
    "                                   I,\n",
    "                                   MultiQubitGate(CONTROL, Set(one, two)),\n",
    "                                   Output(ScalarProd(alpha, ket0))),\n",
    "                                  ExprTuple(Input(x), MultiWire(n), MultiQubitGate(U, Set(one, two)), Output(x)))),\n",
    "                         domain=Complex),\n",
    "                  domain=QubitRegisterSpace(n)),\n",
    "           domain=SU(Exp(two, n))),\n",
    "    domain=NaturalPos)"
   ]
  },
  {
   "cell_type": "code",
   "execution_count": null,
   "metadata": {},
   "outputs": [],
   "source": [
    "one_controlled_ngate = Forall(\n",
    "    n,\n",
    "    Forall(U,\n",
    "           Forall(x,\n",
    "                  Forall(alpha,\n",
    "                         Circuit(ExprArray(ExprTuple(Input(ScalarProd(alpha, ket1)),\n",
    "                                   I,\n",
    "                                   MultiQubitGate(CONTROL, Set(one, two)),\n",
    "                                   Output(ScalarProd(alpha, ket1))),\n",
    "                                  ExprTuple(Input(x), MultiWire(n), MultiQubitGate(U, Set(one, two)), Output(MatrixMult(U, x))))),\n",
    "                         domain=Complex),\n",
    "                  domain=QubitRegisterSpace(n)),\n",
    "           domain=SU(Exp(two, n))),\n",
    "    domain=NaturalPos)"
   ]
  },
  {
   "cell_type": "code",
   "execution_count": null,
   "metadata": {},
   "outputs": [],
   "source": [
    "%end axioms"
   ]
  }
 ],
 "metadata": {
  "kernelspec": {
   "display_name": "Python 3",
   "language": "python",
   "name": "python3"
  }
 },
 "nbformat": 4,
 "nbformat_minor": 0
}
