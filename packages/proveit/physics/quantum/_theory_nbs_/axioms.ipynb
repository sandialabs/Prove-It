{
 "cells": [
  {
   "cell_type": "markdown",
   "metadata": {},
   "source": [
    "Axioms for the theory of <a class=\"ProveItLink\" href=\"theory.ipynb\">proveit.physics.quantum</a>\n",
    "========"
   ]
  },
  {
   "cell_type": "code",
   "execution_count": null,
   "metadata": {},
   "outputs": [],
   "source": [
    "import proveit\n",
    "# Prepare this notebook for defining the axioms of a theory:\n",
    "%axioms_notebook # Keep this at the top following 'import proveit'.\n",
    "from proveit import (Operation, Function, Lambda, Conditional,\n",
    "                     ExprArray, ExprTuple, Composition)\n",
    "from proveit import (a, b, c, f, k, m, n, v, x, y, alpha, \n",
    "                     A, B, M, U, V, W, X, Y, Z, fx, fy)\n",
    "from proveit.core_expr_types import A_1_to_m, B_1_to_m\n",
    "from proveit.linear_algebra import (\n",
    "    LinMap, VecSpaces, MatrixSpace, MatrixMult, TensorProd, SU, ScalarMult)\n",
    "from proveit.logic import (Iff, And, Or, Forall, Exists, Equals, \n",
    "                           InSet, Set, Union, SetOfAll, InClass)\n",
    "from proveit.numbers import zero, one, two, frac, Integer, Natural, NaturalPos, Complex, Exp\n",
    "from proveit.numbers import Add, Exp, Mult, sqrt, subtract, greater\n",
    "from proveit.numbers.number_sets import Interval\n",
    "from proveit.physics.quantum import (\n",
    "    QmultCodomain, Hspace, QuantumMult,\n",
    "    Ket, Input, Output, RegisterKet)\n",
    "from proveit.physics.quantum.circuit import Gate, MultiQubitGate, CircuitEquiv, Circuit, MultiWire\n",
    "# from proveit.physics.quantum import Bra, Ket, RegisterBra, Meas, MultiWire, Circuit\n",
    "from proveit.physics.quantum import ket0, ket1, ket_plus, H, QubitSpace, RegisterSU, I, CONTROL\n",
    "# from proveit.physics.quantum import I, X, Y, Z, RegisterSU\n",
    "from proveit.physics.quantum import QubitRegisterSpace"
   ]
  },
  {
   "cell_type": "code",
   "execution_count": null,
   "metadata": {},
   "outputs": [],
   "source": [
    "%begin axioms"
   ]
  },
  {
   "cell_type": "code",
   "execution_count": null,
   "metadata": {},
   "outputs": [],
   "source": [
    "ket_zero_in_qubit_space = InSet(ket0, QubitSpace)"
   ]
  },
  {
   "cell_type": "code",
   "execution_count": null,
   "metadata": {},
   "outputs": [],
   "source": [
    "ket_one_in_qubit_space = InSet(ket1, QubitSpace)"
   ]
  },
  {
   "cell_type": "code",
   "execution_count": null,
   "metadata": {},
   "outputs": [],
   "source": [
    "single_qubit_register_ket = Forall(\n",
    "        x,\n",
    "        Equals(RegisterKet(x, one), Ket(x)))"
   ]
  },
  {
   "cell_type": "code",
   "execution_count": null,
   "metadata": {},
   "outputs": [],
   "source": [
    "single_qubit_register_zero = Equals(RegisterKet(zero, one), ket0)"
   ]
  },
  {
   "cell_type": "code",
   "execution_count": null,
   "metadata": {},
   "outputs": [],
   "source": [
    "single_qubit_register_one = Equals(RegisterKet(one, one), ket1)"
   ]
  },
  {
   "cell_type": "code",
   "execution_count": null,
   "metadata": {},
   "outputs": [],
   "source": []
  },
  {
   "cell_type": "markdown",
   "metadata": {},
   "source": [
    "### QuantumMult and QuantumMultCodomain"
   ]
  },
  {
   "cell_type": "markdown",
   "metadata": {},
   "source": [
    "A QuantumMult Operation can string together a sequences of quantum operators and/or kets.  Properly defined, a ket is a vector in a Hilbert space and a quantum operator acts (under QuantumMult) as a linear map from a Hilbert space to a Hilbert space or a complex number.  The latter is called a bra.\n",
    "\n",
    "The result of a QuantumMult Operation, if and only if the they are in a valid sequency, will be in the QmultCodomain class which includes all vectors in any vector space over complex numbers or linear maps between vectors of vector spaces over complex numbers:"
   ]
  },
  {
   "cell_type": "code",
   "execution_count": null,
   "metadata": {},
   "outputs": [],
   "source": [
    "Forall(x, Equals(InClass(x, QmultCodomain),\n",
    "                 Or(Exists(Hspace, InSet(x, Hspace),\n",
    "                           domain=VecSpaces(Complex)),\n",
    "                    Exists((Hspace, X), InSet(x, LinMap(Hspace, X)),\n",
    "                           domain=VecSpaces(Complex)))\n",
    "                .with_wrap_after_operator()))"
   ]
  },
  {
   "cell_type": "markdown",
   "metadata": {},
   "source": [
    "When a QuantumMult has a single quantum operator or bra operand, it represents the corresponding linear mapping of the operand and we format it as the operand wrapped in square brackets."
   ]
  },
  {
   "cell_type": "markdown",
   "metadata": {},
   "source": [
    "The corresponding linear map for the matrix performs the matrix multiplication:"
   ]
  },
  {
   "cell_type": "code",
   "execution_count": null,
   "metadata": {},
   "outputs": [],
   "source": [
    "qmult_of_matrix = Forall(\n",
    "    (m), Forall(M, Equals(QuantumMult(M), \n",
    "                             Lambda(x, MatrixMult(M, x))),\n",
    "                   domain=MatrixSpace(Complex, m, m)),\n",
    "    domain=NaturalPos)"
   ]
  },
  {
   "cell_type": "markdown",
   "metadata": {},
   "source": [
    "The corresponding linear map for a linear map is the linear map itself:"
   ]
  },
  {
   "cell_type": "code",
   "execution_count": null,
   "metadata": {},
   "outputs": [],
   "source": [
    "qmult_of_linmap = Forall(\n",
    "    (Hspace, X), Forall(A, Equals(QuantumMult(A), A),\n",
    "                        domain=LinMap(Hspace, X)),\n",
    "    domain=VecSpaces(Complex))"
   ]
  },
  {
   "cell_type": "markdown",
   "metadata": {},
   "source": [
    "A QuantumMult of a bra or operator applied to a ket is the application of the corresponding mapping (from Hilbert space to a c-number or Hilbert space to Hilbert space):"
   ]
  },
  {
   "cell_type": "code",
   "execution_count": null,
   "metadata": {},
   "outputs": [],
   "source": [
    "qmult_op_ket = Forall(\n",
    "    (Hspace, X), Forall(\n",
    "        A, Forall(k, Equals(QuantumMult(A, k),\n",
    "                            Function(QuantumMult(A), k)),\n",
    "                  domain=Hspace),\n",
    "        condition=InSet(QuantumMult(A),\n",
    "                        LinMap(Hspace, X))),\n",
    "    domain=VecSpaces(Complex))"
   ]
  },
  {
   "cell_type": "markdown",
   "metadata": {},
   "source": [
    "We define the QuantumMult of two operators as the composition of the operators:"
   ]
  },
  {
   "cell_type": "code",
   "execution_count": null,
   "metadata": {},
   "outputs": [],
   "source": [
    "qmult_op_op = Forall(\n",
    "    (Hspace, X, Y), Forall(\n",
    "        (A, B), Equals(QuantumMult(A, B),\n",
    "                       Composition(QuantumMult(A),\n",
    "                                   QuantumMult(B))),\n",
    "        conditions=[InSet(QuantumMult(A), LinMap(X, Y)),\n",
    "                    InSet(QuantumMult(B), LinMap(Hspace, X))]),\n",
    "    domain=VecSpaces(Complex))"
   ]
  },
  {
   "cell_type": "markdown",
   "metadata": {},
   "source": [
    "We define the QuantumMult of ket followed by a bra as the outer product mapping which is consistent with QuantumMult associativity:"
   ]
  },
  {
   "cell_type": "code",
   "execution_count": null,
   "metadata": {},
   "outputs": [],
   "source": [
    "qmult_ket_bra = Forall(\n",
    "    (Hspace, X), Forall(\n",
    "        k, Forall(\n",
    "            A, Equals(QuantumMult(k, A),\n",
    "                      Lambda(v, Conditional(\n",
    "                          ScalarMult(QuantumMult(A, v), k),\n",
    "                          InSet(v, Hspace)))),\n",
    "            condition=InSet(QuantumMult(A), \n",
    "                            LinMap(Hspace, Complex))),\n",
    "        domain=X))"
   ]
  },
  {
   "cell_type": "markdown",
   "metadata": {},
   "source": [
    "We define the QuantumMult of a c-number with anything, with the c-number on either side, as the scalar multiplication of the c number with the other operand:"
   ]
  },
  {
   "cell_type": "code",
   "execution_count": null,
   "metadata": {},
   "outputs": [],
   "source": [
    "Forall((a, b), Equals(QuantumMult(a, b),\n",
    "                      Mult(a, b)),\n",
    "       domain=Complex)"
   ]
  },
  {
   "cell_type": "code",
   "execution_count": null,
   "metadata": {},
   "outputs": [],
   "source": [
    "Forall(c, Forall(X, Equals(QuantumMult(c, X),\n",
    "                           ScalarMult(c, X)),\n",
    "                 domain=QmultCodomain),\n",
    "       domain=Complex)"
   ]
  },
  {
   "cell_type": "code",
   "execution_count": null,
   "metadata": {},
   "outputs": [],
   "source": [
    "Forall(c, Forall(X, Equals(QuantumMult(X, c),\n",
    "                           ScalarMult(c, X)),\n",
    "                 domain=QmultCodomain),\n",
    "       domain=Complex)"
   ]
  },
  {
   "cell_type": "markdown",
   "metadata": {},
   "source": [
    "By the following axiom, we can know that a QuantumMult only results in an element of its codomain if the operands are in a valid sequence (op-ket, op-op, ket-bra, complex-any, or any-complex):"
   ]
  },
  {
   "cell_type": "code",
   "execution_count": null,
   "metadata": {},
   "outputs": [],
   "source": [
    "qmult_in_codomain_only_if_valid = Forall(\n",
    "        (A, B), Exists(\n",
    "            (Hspace, X, Y),\n",
    "            InSet(ExprTuple(QuantumMult(A), QuantumMult(B)),\n",
    "                  Set(ExprTuple(LinMap(Hspace, X), Hspace),\n",
    "                      ExprTuple(X, LinMap(Hspace, Complex)),\n",
    "                      ExprTuple(LinMap(X, Y), LinMap(Hspace, X)),\n",
    "                      ExprTuple(Complex, QmultCodomain),\n",
    "                      ExprTuple(QmultCodomain, Complex))),\n",
    "            domain=VecSpaces(Complex)),\n",
    "        condition=InClass(QuantumMult(A, B),\n",
    "                          QmultCodomain))"
   ]
  },
  {
   "cell_type": "code",
   "execution_count": null,
   "metadata": {},
   "outputs": [],
   "source": [
    "multi_quantum_mult_def = \\\n",
    "    Forall(m, Forall((A_1_to_m, B), \n",
    "                     Equals(QuantumMult(A_1_to_m, B), \n",
    "                            QuantumMult(QuantumMult(A_1_to_m), B))\n",
    "                     .with_wrap_after_operator()),\n",
    "           domain=Natural)"
   ]
  },
  {
   "cell_type": "markdown",
   "metadata": {},
   "source": [
    "By definition, a bra or quantum operator transforms to the corresponding linear map when wrapped in QuantumOpMult."
   ]
  },
  {
   "cell_type": "code",
   "execution_count": null,
   "metadata": {},
   "outputs": [],
   "source": []
  },
  {
   "cell_type": "markdown",
   "metadata": {},
   "source": [
    "Don't regard trivial 1-column matrics (which could be regarded as the same as a column-vector) as quantum operators."
   ]
  },
  {
   "cell_type": "code",
   "execution_count": null,
   "metadata": {},
   "outputs": [],
   "source": [
    "scalar_id_for_ket = Forall(k,\n",
    "                           Equals(Mult(one, Ket(k)), Ket(k)),\n",
    "                           domain=Natural)"
   ]
  },
  {
   "cell_type": "code",
   "execution_count": null,
   "metadata": {},
   "outputs": [],
   "source": [
    "expand_register_with_zero_ket = Forall(\n",
    "        n,\n",
    "        Forall(k,\n",
    "               Equals(RegisterKet(k, Add(n, one)),\n",
    "                      TensorProd(ket0, RegisterKet(k, n))),\n",
    "               domain=Interval(zero, subtract(Exp(two, n), one))),\n",
    "        domain=NaturalPos)"
   ]
  },
  {
   "cell_type": "code",
   "execution_count": null,
   "metadata": {},
   "outputs": [],
   "source": [
    "expand_register_with_one_ket = Forall(\n",
    "        n, \n",
    "        Forall(k, Equals(RegisterKet(Add(k, Exp(two, n)), Add(n, one)),\n",
    "                         TensorProd(ket1, RegisterKet(k, n))),\n",
    "               domain=Interval(zero, subtract(Exp(two, n), one))),\n",
    "        domain=NaturalPos)"
   ]
  },
  {
   "cell_type": "code",
   "execution_count": null,
   "metadata": {},
   "outputs": [],
   "source": [
    "ket_plus_def = Equals(ket_plus, frac(Add(ket0, ket1), sqrt(two)))"
   ]
  },
  {
   "cell_type": "code",
   "execution_count": null,
   "metadata": {},
   "outputs": [],
   "source": [
    "hadamard_on_zero = Equals(MatrixMult(H, ket0), ket_plus)"
   ]
  },
  {
   "cell_type": "code",
   "execution_count": null,
   "metadata": {},
   "outputs": [],
   "source": [
    "empty_gate = Equals(Gate(), I.with_styles(representation=\"explicit\")) # base case"
   ]
  },
  {
   "cell_type": "code",
   "execution_count": null,
   "metadata": {},
   "outputs": [],
   "source": [
    "substitution = Forall((f, x, y), CircuitEquiv(fx, fy), conditions=CircuitEquiv(x, y))"
   ]
  },
  {
   "cell_type": "markdown",
   "metadata": {},
   "source": [
    "And then we have several axioms involving the Circuit class, which class itself still needs updating<br/>(in particular, the Circuit class needs an appropriate substitute for the ExpressionTensor class -- perhaps ExprArray)."
   ]
  },
  {
   "cell_type": "code",
   "execution_count": null,
   "metadata": {},
   "outputs": [],
   "source": [
    "circuit_gate_application = Forall(\n",
    "    U, \n",
    "    Forall((x, y),\n",
    "           Iff(Circuit(ExprArray(ExprTuple(Input(x), Gate(U), Output(y)))),\n",
    "               Equals(y, MatrixMult(U, x))),\n",
    "           domain=QubitSpace),\n",
    "    domain=SU(two))"
   ]
  },
  {
   "cell_type": "code",
   "execution_count": null,
   "metadata": {},
   "outputs": [],
   "source": [
    "circuit_multi_gate_application = Forall(\n",
    "    n,\n",
    "    Forall(U,\n",
    "           Forall((x, y),\n",
    "                  Iff(Circuit(ExprArray(ExprTuple(Input(x), MultiWire(n), Gate(U), Output(y)))),\n",
    "                      Equals(y, MatrixMult(U, x))),\n",
    "                  domain=QubitRegisterSpace(n)),\n",
    "           domain=RegisterSU(n)),\n",
    "    domain=NaturalPos)"
   ]
  },
  {
   "cell_type": "code",
   "execution_count": null,
   "metadata": {},
   "outputs": [],
   "source": [
    "zero_controlled_ngate = Forall(\n",
    "    n,\n",
    "    Forall(U,\n",
    "           Forall(x,\n",
    "                  Forall(alpha,\n",
    "                         Circuit(ExprArray(ExprTuple(Input(ScalarMult(alpha, ket0)),\n",
    "                                   I,\n",
    "                                   MultiQubitGate(CONTROL, Set(one, two)),\n",
    "                                   Output(ScalarMult(alpha, ket0))),\n",
    "                                  ExprTuple(Input(x), MultiWire(n), MultiQubitGate(U, Set(one, two)), Output(x)))),\n",
    "                         domain=Complex),\n",
    "                  domain=QubitRegisterSpace(n)),\n",
    "           domain=SU(Exp(two, n))),\n",
    "    domain=NaturalPos)"
   ]
  },
  {
   "cell_type": "code",
   "execution_count": null,
   "metadata": {},
   "outputs": [],
   "source": [
    "one_controlled_ngate = Forall(\n",
    "    n,\n",
    "    Forall(U,\n",
    "           Forall(x,\n",
    "                  Forall(alpha,\n",
    "                         Circuit(ExprArray(ExprTuple(Input(ScalarMult(alpha, ket1)),\n",
    "                                   I,\n",
    "                                   MultiQubitGate(CONTROL, Set(one, two)),\n",
    "                                   Output(ScalarMult(alpha, ket1))),\n",
    "                                  ExprTuple(Input(x), MultiWire(n), MultiQubitGate(U, Set(one, two)), Output(MatrixMult(U, x))))),\n",
    "                         domain=Complex),\n",
    "                  domain=QubitRegisterSpace(n)),\n",
    "           domain=SU(Exp(two, n))),\n",
    "    domain=NaturalPos)"
   ]
  },
  {
   "cell_type": "code",
   "execution_count": null,
   "metadata": {},
   "outputs": [],
   "source": [
    "%end axioms"
   ]
  }
 ],
 "metadata": {
  "kernelspec": {
   "display_name": "Python 3",
   "language": "python",
   "name": "python3"
  }
 },
 "nbformat": 4,
 "nbformat_minor": 0
}
