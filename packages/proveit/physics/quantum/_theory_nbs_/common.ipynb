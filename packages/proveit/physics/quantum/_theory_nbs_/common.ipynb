{
 "cells": [
  {
   "cell_type": "markdown",
   "metadata": {},
   "source": [
    "Common expressions for the theory of <a class=\"ProveItLink\" href=\"theory.ipynb\">proveit.physics.quantum</a>\n",
    "========"
   ]
  },
  {
   "cell_type": "code",
   "execution_count": 1,
   "metadata": {},
   "outputs": [],
   "source": [
    "import proveit\n",
    "# Automation is not needed when building common expressions:\n",
    "%common_expressions_notebook # Keep this at the top following 'import proveit'.\n",
    "from proveit import IndexedVar, Lambda, Function\n",
    "from proveit import a, b, c, d, k, l, m, n, u, x, y, A, B, C, D, P, Q, U, V\n",
    "from proveit import Variable, Literal, ExprRange, ExprArray, ExprTuple\n",
    "# from proveit.multi_expression import Block\n",
    "from proveit.core_expr_types import A_1_to_m, b_1_to_j, n_k\n",
    "from proveit.logic import Equals, Set, InSet, CartExp\n",
    "from proveit.numbers import sqrt, Add, subtract, frac, Exp\n",
    "from proveit.numbers import zero, one, two, three, Interval\n",
    "from proveit.numbers import Complex\n",
    "from proveit.linear_algebra import VecSum, LinMap, SU, TensorExp, Norm\n",
    "from proveit.physics.quantum import Ket, Bra"
   ]
  },
  {
   "cell_type": "code",
   "execution_count": 2,
   "metadata": {},
   "outputs": [
    {
     "name": "stdout",
     "output_type": "stream",
     "text": [
      "Defining common sub-expressions for theory 'proveit.physics.quantum'\n",
      "Subsequent end-of-cell assignments will define common sub-expressions\n",
      "%end_common will finalize the definitions\n"
     ]
    }
   ],
   "source": [
    "%begin common"
   ]
  },
  {
   "cell_type": "code",
   "execution_count": 3,
   "metadata": {},
   "outputs": [
    {
     "data": {
      "text/html": [
       "<strong id=\"PLUS\">PLUS:</strong> <a class=\"ProveItLink\" href=\"../__pv_it/common/af7474ecb679aafadbff60eb0f517b3d905ff7830/common_expr.ipynb\"><img src=\"data:image/png;base64,iVBORw0KGgoAAAANSUhEUgAAAA4AAAAOBAMAAADtZjDiAAAAHlBMVEX///8AAAAAAAAAAAAAAAAA\n",
       "AAAAAAAAAAAAAAAAAACGjDitAAAACXRSTlMARGZUdpnd76sKo+zpAAAACXBIWXMAAA7EAAAOxAGV\n",
       "Kw4bAAAAH0lEQVQI12NgYGAQYoAAE2LosLS08rS0DKLVI9EgewAshQUueejZFAAAAABJRU5ErkJg\n",
       "gg==\n",
       "\" style=\"display:inline;vertical-align:middle;\" /></a><br>"
      ],
      "text/plain": [
       "<IPython.core.display.HTML object>"
      ]
     },
     "metadata": {},
     "output_type": "display_data"
    }
   ],
   "source": [
    "# For positive X eigenstate\n",
    "PLUS = Literal(string_format='+', latex_format='+')"
   ]
  },
  {
   "cell_type": "code",
   "execution_count": 4,
   "metadata": {},
   "outputs": [
    {
     "data": {
      "text/html": [
       "<strong id=\"MINUS\">MINUS:</strong> <a class=\"ProveItLink\" href=\"../__pv_it/common/445fd3ac93cf9771d50d0b8d320bed4cbe73a7f80/common_expr.ipynb\"><img src=\"data:image/png;base64,iVBORw0KGgoAAAANSUhEUgAAAA4AAAABBAMAAAAcMII3AAAAElBMVEX///8AAAAAAAAAAAAAAAAA\n",
       "AABknMCaAAAABXRSTlMAEM3dMvdEvu8AAAAJcEhZcwAADsQAAA7EAZUrDhsAAAANSURBVAjXYxAy\n",
       "BgETAAS2AUbzwGpmAAAAAElFTkSuQmCC\n",
       "\" style=\"display:inline;vertical-align:middle;\" /></a><br>"
      ],
      "text/plain": [
       "<IPython.core.display.HTML object>"
      ]
     },
     "metadata": {},
     "output_type": "display_data"
    }
   ],
   "source": [
    "# For negative X eigenstate\n",
    "MINUS = Literal(string_format='-', latex_format='-') "
   ]
  },
  {
   "cell_type": "code",
   "execution_count": 5,
   "metadata": {},
   "outputs": [
    {
     "data": {
      "text/html": [
       "<strong id=\"ket0\">ket0:</strong> <a class=\"ProveItLink\" href=\"../__pv_it/common/133ac00fe58669eb9caf707029e78ad2443dad960/common_expr.ipynb\"><img src=\"data:image/png;base64,iVBORw0KGgoAAAANSUhEUgAAABQAAAAVBAMAAAC0+9ObAAAAMFBMVEX///8AAAAAAAAAAAAAAAAA\n",
       "AAAAAAAAAAAAAAAAAAAAAAAAAAAAAAAAAAAAAAAAAAAv3aB7AAAAD3RSTlMAIolEdjKZzVQQ3Wa7\n",
       "q+/tGue1AAAACXBIWXMAAA7EAAAOxAGVKw4bAAAAn0lEQVQI10XOOwrCQBCA4d9odDURcwDBBVN4\n",
       "EftcQIh4gdhZBguPYGGhKS09wnoDG3vPIBYJNu5kYR0Y+BjmRUIboc25Y5y1DNI1Km+545RQCaOK\n",
       "wLAQxg9Uw1Q4yQlrBonlxfKL0pYzTfjBzjm+YSMNmq6trtyYqmEvywxRA1s58aJf0DFy+Mo5IyiF\n",
       "x/QJI/8khz/vnsPCs3eDpeMYfnaPH0PUtAhiAAAAAElFTkSuQmCC\n",
       "\" style=\"display:inline;vertical-align:middle;\" /></a><br>"
      ],
      "text/plain": [
       "<IPython.core.display.HTML object>"
      ]
     },
     "metadata": {},
     "output_type": "display_data"
    },
    {
     "data": {
      "text/html": [
       "<strong id=\"ket1\">ket1:</strong> <a class=\"ProveItLink\" href=\"../__pv_it/common/57cbcececeb3a772f3462a38bcf9836042f3091f0/common_expr.ipynb\"><img src=\"data:image/png;base64,iVBORw0KGgoAAAANSUhEUgAAABQAAAAVBAMAAAC0+9ObAAAAMFBMVEX///8AAAAAAAAAAAAAAAAA\n",
       "AAAAAAAAAAAAAAAAAAAAAAAAAAAAAAAAAAAAAAAAAAAv3aB7AAAAD3RSTlMAIolEdjLdEKuZze9m\n",
       "u1Q7ZGlWAAAACXBIWXMAAA7EAAAOxAGVKw4bAAAAbElEQVQI12MQYAADViBWhjB5AyDMsAIGvgkg\n",
       "Jnvn+gIGhgSIqD+QqYdgyiKYXAJwJp8CnAnUB2dORjAjEMxHCOZCOJPxApipD3Qe0wMQs2P/igMM\n",
       "bHBHMrxEMC/CmewL4EyWAwwMrhAmBwMDADNwGW/bLeB9AAAAAElFTkSuQmCC\n",
       "\" style=\"display:inline;vertical-align:middle;\" /></a><br>"
      ],
      "text/plain": [
       "<IPython.core.display.HTML object>"
      ]
     },
     "metadata": {},
     "output_type": "display_data"
    },
    {
     "data": {
      "text/html": [
       "<strong id=\"ket_plus\">ket_plus:</strong> <a class=\"ProveItLink\" href=\"../__pv_it/common/b9907a4ca6602d038bf27bdfa2858604717503d70/common_expr.ipynb\"><img src=\"data:image/png;base64,iVBORw0KGgoAAAANSUhEUgAAABoAAAAVBAMAAACqMuMoAAAAMFBMVEX///8AAAAAAAAAAAAAAAAA\n",
       "AAAAAAAAAAAAAAAAAAAAAAAAAAAAAAAAAAAAAAAAAAAv3aB7AAAAD3RSTlMAIolEdjJmVJnd76u7\n",
       "zRDVRUmUAAAACXBIWXMAAA7EAAAOxAGVKw4bAAAAa0lEQVQY02MQYIABViBWhvN4ApB57A3IPIYJ\n",
       "UB5zAohUh/LYHUCkDAqPVwCZx66AzAMag8xrBvI4Zs6ctXLmzA0MDNEockUovIvIPMYDyDymAmQe\n",
       "J4pbKlBcfRDZR3wXkHksQAWucB43AwMAYRcTkyvuhI4AAAAASUVORK5CYII=\n",
       "\" style=\"display:inline;vertical-align:middle;\" /></a><br>"
      ],
      "text/plain": [
       "<IPython.core.display.HTML object>"
      ]
     },
     "metadata": {},
     "output_type": "display_data"
    },
    {
     "data": {
      "text/html": [
       "<strong id=\"ket_minus\">ket_minus:</strong> <a class=\"ProveItLink\" href=\"../__pv_it/common/68ee2ecb41bb76234ba6cd21c2e5d43a181725840/common_expr.ipynb\"><img src=\"data:image/png;base64,iVBORw0KGgoAAAANSUhEUgAAABoAAAAVBAMAAACqMuMoAAAALVBMVEX///8AAAAAAAAAAAAAAAAA\n",
       "AAAAAAAAAAAAAAAAAAAAAAAAAAAAAAAAAAAAAADAOrOgAAAADnRSTlMAIolEdjIQzd27VJmrZl7s\n",
       "8S8AAAAJcEhZcwAADsQAAA7EAZUrDhsAAABgSURBVBjTYxBggAFWIFaG8zgDkHlcG5B5DA0oPC0U\n",
       "niQKj10AmcelgMwDGoPM2wzksVV0gADQ7hgUuUUovEJkHuMEZB7TAmQeB4pbVqPwJiLz2AqQeSwX\n",
       "GBhc4TweBgYA398O8BMsC7YAAAAASUVORK5CYII=\n",
       "\" style=\"display:inline;vertical-align:middle;\" /></a><br>"
      ],
      "text/plain": [
       "<IPython.core.display.HTML object>"
      ]
     },
     "metadata": {},
     "output_type": "display_data"
    }
   ],
   "source": [
    "ket0, ket1, ket_plus, ket_minus = Ket(zero), Ket(one), Ket(PLUS), Ket(MINUS)"
   ]
  },
  {
   "cell_type": "code",
   "execution_count": 6,
   "metadata": {},
   "outputs": [
    {
     "data": {
      "text/html": [
       "<strong id=\"bra0\">bra0:</strong> <a class=\"ProveItLink\" href=\"../__pv_it/common/4e775bbcb40e288b4021a75799def8b8dab075190/common_expr.ipynb\"><img src=\"data:image/png;base64,iVBORw0KGgoAAAANSUhEUgAAABQAAAAVBAMAAAC0+9ObAAAAMFBMVEX///8AAAAAAAAAAAAAAAAA\n",
       "AAAAAAAAAAAAAAAAAAAAAAAAAAAAAAAAAAAAAAAAAAAv3aB7AAAAD3RSTlMAMiK7iVTdmRDNdmZE\n",
       "q+96N/emAAAACXBIWXMAAA7EAAAOxAGVKw4bAAAAoUlEQVQI10XOKw7CUBCF4b/0ltcloUtowgK4\n",
       "7KAG0yBw2Bo8QSOqIBhagweNYSMkZQcsAhIChpk2KaO+THJmDhBSTQQtV3MGZo5J1hXbcGQbKRfY\n",
       "FOOUE/yS4C3sFgxXeC9h/0ou/AolNY7xPsJbzadwA3nMQLcXNBZobA++w+oxP8I+6BTCIIYlh1C/\n",
       "pbBL7lWdKU3J0Z+9rKE9NaSsef4BcXUh5hQPB5YAAAAASUVORK5CYII=\n",
       "\" style=\"display:inline;vertical-align:middle;\" /></a><br>"
      ],
      "text/plain": [
       "<IPython.core.display.HTML object>"
      ]
     },
     "metadata": {},
     "output_type": "display_data"
    },
    {
     "data": {
      "text/html": [
       "<strong id=\"bra1\">bra1:</strong> <a class=\"ProveItLink\" href=\"../__pv_it/common/a2a7f16dc42c6fac790b18ab4f67e997aca92e5e0/common_expr.ipynb\"><img src=\"data:image/png;base64,iVBORw0KGgoAAAANSUhEUgAAABQAAAAVBAMAAAC0+9ObAAAAMFBMVEX///8AAAAAAAAAAAAAAAAA\n",
       "AAAAAAAAAAAAAAAAAAAAAAAAAAAAAAAAAAAAAAAAAAAv3aB7AAAAD3RSTlMAMiK7iVTdmRDNdmZE\n",
       "q+96N/emAAAACXBIWXMAAA7EAAAOxAGVKw4bAAAAbklEQVQI12NgYBBgAAMFBgYmAwjTh4GBJYCB\n",
       "QawBzGRj4Lg+H8IMB0quhzAN4UyOCXAm1wY4k40BzjyLYNYgmKsRzE4Ek1kBzmR1ADL9FcC2JTAw\n",
       "3H0/dwOI6coAd6QygsnZAGdyL4AzGS5AmAsBr4cghS7bboMAAAAASUVORK5CYII=\n",
       "\" style=\"display:inline;vertical-align:middle;\" /></a><br>"
      ],
      "text/plain": [
       "<IPython.core.display.HTML object>"
      ]
     },
     "metadata": {},
     "output_type": "display_data"
    },
    {
     "data": {
      "text/html": [
       "<strong id=\"bra_plus\">bra_plus:</strong> <a class=\"ProveItLink\" href=\"../__pv_it/common/e6a3b9c5e2d18d40d224efce4de6105b8d20b5f20/common_expr.ipynb\"><img src=\"data:image/png;base64,iVBORw0KGgoAAAANSUhEUgAAABoAAAAVBAMAAACqMuMoAAAAMFBMVEX///8AAAAAAAAAAAAAAAAA\n",
       "AAAAAAAAAAAAAAAAAAAAAAAAAAAAAAAAAAAAAAAAAAAv3aB7AAAAD3RSTlMAMiK7iVTdmRDNdmZE\n",
       "q+96N/emAAAACXBIWXMAAA7EAAAOxAGVKw4bAAAAbklEQVQY02NgYBBggAEFBgYmAzjPh4GBJQCZ\n",
       "x8aAzAsH0TwboDxDEM26AMLjmIDM49qAzIMYAuOdReHVMDCwp6XlPUtLuwDkrUaR60ThMSsg81gd\n",
       "kHkMCSg8VxSeMoqrORuQfcS9AJnHcAHOWwgAMhsa5cQgfUkAAAAASUVORK5CYII=\n",
       "\" style=\"display:inline;vertical-align:middle;\" /></a><br>"
      ],
      "text/plain": [
       "<IPython.core.display.HTML object>"
      ]
     },
     "metadata": {},
     "output_type": "display_data"
    },
    {
     "data": {
      "text/html": [
       "<strong id=\"bra_minus\">bra_minus:</strong> <a class=\"ProveItLink\" href=\"../__pv_it/common/9ba313123051d5c84ddd959c5d4485ff23dea80e0/common_expr.ipynb\"><img src=\"data:image/png;base64,iVBORw0KGgoAAAANSUhEUgAAABoAAAAVBAMAAACqMuMoAAAALVBMVEX///8AAAAAAAAAAAAAAAAA\n",
       "AAAAAAAAAAAAAAAAAAAAAAAAAAAAAAAAAAAAAADAOrOgAAAADnRSTlMAMiK7iVTdmRDNdmZEq1LH\n",
       "fkIAAAAJcEhZcwAADsQAAA7EAZUrDhsAAABjSURBVBjTY2BgEGCAAQUGBiYDOM+HgYElAJnHxoDM\n",
       "C0fhGSLzOCYg87g2IPOQDAHyzqLwahgYOKalgYAAkLcaRa4ThcesgMxjdUBxSwIKzxWFp4zC42xA\n",
       "5nEvQOYxXIDzFgIA8/4RP4capPwAAAAASUVORK5CYII=\n",
       "\" style=\"display:inline;vertical-align:middle;\" /></a><br>"
      ],
      "text/plain": [
       "<IPython.core.display.HTML object>"
      ]
     },
     "metadata": {},
     "output_type": "display_data"
    }
   ],
   "source": [
    "bra0, bra1, bra_plus, bra_minus = Bra(zero), Bra(one), Bra(PLUS), Bra(MINUS)"
   ]
  },
  {
   "cell_type": "code",
   "execution_count": 7,
   "metadata": {},
   "outputs": [
    {
     "data": {
      "text/html": [
       "<strong id=\"psi\">psi:</strong> <a class=\"ProveItLink\" href=\"../__pv_it/common/0792d8e8646ae7654862bb6a66054cc6abdbdd200/common_expr.ipynb\"><img src=\"data:image/png;base64,iVBORw0KGgoAAAANSUhEUgAAAA4AAAASBAMAAACZcvICAAAAMFBMVEX///8AAAAAAAAAAAAAAAAA\n",
       "AAAAAAAAAAAAAAAAAAAAAAAAAAAAAAAAAAAAAAAAAAAv3aB7AAAAD3RSTlMAdokQVDKZZt3vIs27\n",
       "RKvEBDhDAAAACXBIWXMAAA7EAAAOxAGVKw4bAAAAaUlEQVQI12NgAAJGBghggtKGUNoVSisAMbNY\n",
       "AYMCYwMDE8sE5gLGzwwhbA3sCxgmMBhwCgC1JTAw+BswMTALMDBkMyxhYDRgYMhhKGa4C9R4c4EC\n",
       "+wUgzfrooBTYNFYHiKkgRci2gl0BANEIDrgRaQNvAAAAAElFTkSuQmCC\n",
       "\" style=\"display:inline;vertical-align:middle;\" /></a><br>"
      ],
      "text/plain": [
       "<IPython.core.display.HTML object>"
      ]
     },
     "metadata": {},
     "output_type": "display_data"
    }
   ],
   "source": [
    "psi = Variable('psi', r'\\psi')"
   ]
  },
  {
   "cell_type": "code",
   "execution_count": 8,
   "metadata": {},
   "outputs": [
    {
     "data": {
      "text/html": [
       "<strong id=\"varphi\">varphi:</strong> <a class=\"ProveItLink\" href=\"../__pv_it/common/eff3454ef41960bf5bb736e8ee0e81bb07107e080/common_expr.ipynb\"><img src=\"data:image/png;base64,iVBORw0KGgoAAAANSUhEUgAAAAwAAAAOBAMAAADpk+DfAAAAMFBMVEX///8AAAAAAAAAAAAAAAAA\n",
       "AAAAAAAAAAAAAAAAAAAAAAAAAAAAAAAAAAAAAAAAAAAv3aB7AAAAD3RSTlMAMkTNuxCZZquJVHbd\n",
       "7yKDlRhzAAAACXBIWXMAAA7EAAAOxAGVKw4bAAAAV0lEQVQI12NgFGBgsndlYGNgEC7qZFjIwNDA\n",
       "wMIwgYE9ACi0gYGbgSGaIYFBkYEhlSEdyIgQYGC2Niw7xMDAUPP/JJBkYCsAkQy8AmBKHkwy7IFQ\n",
       "D0EEALcGDSMwA/OWAAAAAElFTkSuQmCC\n",
       "\" style=\"display:inline;vertical-align:middle;\" /></a><br>"
      ],
      "text/plain": [
       "<IPython.core.display.HTML object>"
      ]
     },
     "metadata": {},
     "output_type": "display_data"
    }
   ],
   "source": [
    "varphi = Variable('varphi', r'\\varphi')"
   ]
  },
  {
   "cell_type": "code",
   "execution_count": 9,
   "metadata": {},
   "outputs": [
    {
     "data": {
      "text/html": [
       "<strong id=\"ket_psi\">ket_psi:</strong> <a class=\"ProveItLink\" href=\"../__pv_it/common/85db9cb8edfd9bae55ae16b1acc577987cc735250/common_expr.ipynb\"><img src=\"data:image/png;base64,iVBORw0KGgoAAAANSUhEUgAAABgAAAAVBAMAAACuxzMVAAAAMFBMVEX///8AAAAAAAAAAAAAAAAA\n",
       "AAAAAAAAAAAAAAAAAAAAAAAAAAAAAAAAAAAAAAAAAAAv3aB7AAAAD3RSTlMAIolEdjIQVJlm3e/N\n",
       "u6uczJRnAAAACXBIWXMAAA7EAAAOxAGVKw4bAAAAtElEQVQY0zXPPQrCQBCG4dew2Rj/SGclBFLY\n",
       "CpY2sRAs7ewkhQcIgmCnYKuQyjpHyBH0BgqewENYO2OyC1/xMOz8ENE8X5I49FcOBoKTgycpHbaS\n",
       "scNeMnKIJb1IYJcFsSkJYoEXVLYwX+2QsG6XYUQFZ0HWTaWzTNlog2PmYVPYKS4MMRk8FFduTKH1\n",
       "VMyiOJzISrnC/7znMrRTb+DnusWhhv6GVw09AHtvKv/7Cli4swfwA/3bGpMQV6zUAAAAAElFTkSu\n",
       "QmCC\n",
       "\" style=\"display:inline;vertical-align:middle;\" /></a><br>"
      ],
      "text/plain": [
       "<IPython.core.display.HTML object>"
      ]
     },
     "metadata": {},
     "output_type": "display_data"
    }
   ],
   "source": [
    "ket_psi = Ket(psi)"
   ]
  },
  {
   "cell_type": "code",
   "execution_count": 10,
   "metadata": {},
   "outputs": [
    {
     "data": {
      "text/html": [
       "<strong id=\"bra_psi\">bra_psi:</strong> <a class=\"ProveItLink\" href=\"../__pv_it/common/63c6563714e79390c97c131842aefc3b0c5e915a0/common_expr.ipynb\"><img src=\"data:image/png;base64,iVBORw0KGgoAAAANSUhEUgAAABgAAAAVBAMAAACuxzMVAAAAMFBMVEX///8AAAAAAAAAAAAAAAAA\n",
       "AAAAAAAAAAAAAAAAAAAAAAAAAAAAAAAAAAAAAAAAAAAv3aB7AAAAD3RSTlMAMiK7iVTdmRDNdmZE\n",
       "q+96N/emAAAACXBIWXMAAA7EAAAOxAGVKw4bAAAAtElEQVQY0zXPLw7CMBgF8DfooHQJweCXEDxY\n",
       "VA0OMRSSHYEERYKoBcURBgaBmURyACAIDrBjIHn9utW0vybfnwdggPqkQGvSYAGozD9MQEd+VcBK\n",
       "cAyYCpYCfRJYgSmhryWsyQnWq7jSpfkRL2DYzZMUFbEHXL9g5w1xY+XaKeiCOBA7jGEc0eZ6W9zx\n",
       "9K1jTninNnnIBjkQfWeXsM6cV5TVEUY+gKvRcyGAIClCNAE+TezzH+NRIM5mZys1AAAAAElFTkSu\n",
       "QmCC\n",
       "\" style=\"display:inline;vertical-align:middle;\" /></a><br>"
      ],
      "text/plain": [
       "<IPython.core.display.HTML object>"
      ]
     },
     "metadata": {},
     "output_type": "display_data"
    }
   ],
   "source": [
    "bra_psi = Bra(psi)"
   ]
  },
  {
   "cell_type": "code",
   "execution_count": 11,
   "metadata": {},
   "outputs": [
    {
     "data": {
      "text/html": [
       "<strong id=\"ket_varphi\">ket_varphi:</strong> <a class=\"ProveItLink\" href=\"../__pv_it/common/c9a1043629ff97823c162335c02491b28faa23df0/common_expr.ipynb\"><img src=\"data:image/png;base64,iVBORw0KGgoAAAANSUhEUgAAABgAAAAVBAMAAACuxzMVAAAAMFBMVEX///8AAAAAAAAAAAAAAAAA\n",
       "AAAAAAAAAAAAAAAAAAAAAAAAAAAAAAAAAAAAAAAAAAAv3aB7AAAAD3RSTlMAIolEdjLNuxCZZqtU\n",
       "3e8Ziz2RAAAACXBIWXMAAA7EAAAOxAGVKw4bAAAAq0lEQVQY003OoQrCUBTG8b9z012dsGYdrBpM\n",
       "FsuK5lssWrQYTPMN9ggDmyAs+gJ2sdn2Bia7zSR4z53CPXDg/Djw8RHzm8Bs+kdXO4hKB9QuRi6G\n",
       "LjqxYAGTd0GUCEqC3TSRhJRI04ccDgYenOXNysCHjDCDm4GirVEFbASVIrxAK5e07Xx5GoN3FfQe\n",
       "HxPMoGlwtA3uDZ4We4vgJXe4tvBrgV/BzGRqgan0BQQUG22ddL9/AAAAAElFTkSuQmCC\n",
       "\" style=\"display:inline;vertical-align:middle;\" /></a><br>"
      ],
      "text/plain": [
       "<IPython.core.display.HTML object>"
      ]
     },
     "metadata": {},
     "output_type": "display_data"
    }
   ],
   "source": [
    "ket_varphi = Ket(varphi)"
   ]
  },
  {
   "cell_type": "code",
   "execution_count": 12,
   "metadata": {},
   "outputs": [
    {
     "data": {
      "text/html": [
       "<strong id=\"bra_varphi\">bra_varphi:</strong> <a class=\"ProveItLink\" href=\"../__pv_it/common/1c3613f29e51fee59dc4396d8f9530ed1869cf290/common_expr.ipynb\"><img src=\"data:image/png;base64,iVBORw0KGgoAAAANSUhEUgAAABgAAAAVBAMAAACuxzMVAAAAMFBMVEX///8AAAAAAAAAAAAAAAAA\n",
       "AAAAAAAAAAAAAAAAAAAAAAAAAAAAAAAAAAAAAAAAAAAv3aB7AAAAD3RSTlMAMiK7iVTdmRDNdmZE\n",
       "q+96N/emAAAACXBIWXMAAA7EAAAOxAGVKw4bAAAAq0lEQVQY003QIQ7CQBCF4b+FsqWFpGhMEy5Q\n",
       "blCDq8BhewNQGCpqcViCKZJgKpFYRBM4AjcgIUEzS9lk10y+TGbmZYGI/4vBTQwy6M4t9LCwsDG1\n",
       "4O8sBDWM4PYuBXp+hXNoUkEDXsQQEkEhl+Ci2xlnCKDCrwRbUAwilF7QiVG1wn/o1V4K+9N4ff0l\n",
       "yCFcftI2zkzKxmSbSHka9Eucl0FYEeQG3HHbbzh+AdD+Hxa/wNICAAAAAElFTkSuQmCC\n",
       "\" style=\"display:inline;vertical-align:middle;\" /></a><br>"
      ],
      "text/plain": [
       "<IPython.core.display.HTML object>"
      ]
     },
     "metadata": {},
     "output_type": "display_data"
    }
   ],
   "source": [
    "bra_varphi = Bra(varphi)"
   ]
  },
  {
   "cell_type": "markdown",
   "metadata": {},
   "source": [
    "These `Variable` version of $\\lvert \\psi \\rangle$ and $\\lvert v \\rangle$ are useful in theorems applicable to any ket where there is no reference to the complementary $\\langle \\psi \\rvert$ or $\\langle v \\rvert$:"
   ]
  },
  {
   "cell_type": "code",
   "execution_count": 13,
   "metadata": {},
   "outputs": [
    {
     "data": {
      "text/html": [
       "<strong id=\"var_ket_psi\">var_ket_psi:</strong> <a class=\"ProveItLink\" href=\"../__pv_it/common/798a4b85c58eead0b86ebff17277cd7c4a79a3160/common_expr.ipynb\"><img src=\"data:image/png;base64,iVBORw0KGgoAAAANSUhEUgAAABgAAAAVBAMAAACuxzMVAAAAMFBMVEX///8AAAAAAAAAAAAAAAAA\n",
       "AAAAAAAAAAAAAAAAAAAAAAAAAAAAAAAAAAAAAAAAAAAv3aB7AAAAD3RSTlMAIolEdjIQVJlm3e/N\n",
       "u6uczJRnAAAACXBIWXMAAA7EAAAOxAGVKw4bAAAAtElEQVQY0zXPPQrCQBCG4dew2Rj/SGclBFLY\n",
       "CpY2sRAs7ewkhQcIgmCnYKuQyjpHyBH0BgqewENYO2OyC1/xMOz8ENE8X5I49FcOBoKTgycpHbaS\n",
       "scNeMnKIJb1IYJcFsSkJYoEXVLYwX+2QsG6XYUQFZ0HWTaWzTNlog2PmYVPYKS4MMRk8FFduTKH1\n",
       "VMyiOJzISrnC/7znMrRTb+DnusWhhv6GVw09AHtvKv/7Cli4swfwA/3bGpMQV6zUAAAAAElFTkSu\n",
       "QmCC\n",
       "\" style=\"display:inline;vertical-align:middle;\" /></a><br>"
      ],
      "text/plain": [
       "<IPython.core.display.HTML object>"
      ]
     },
     "metadata": {},
     "output_type": "display_data"
    }
   ],
   "source": [
    "var_ket_psi = Variable('|psi>', r'\\lvert \\psi \\rangle')"
   ]
  },
  {
   "cell_type": "code",
   "execution_count": 14,
   "metadata": {},
   "outputs": [
    {
     "data": {
      "text/html": [
       "<strong id=\"var_ket_varphi\">var_ket_varphi:</strong> <a class=\"ProveItLink\" href=\"../__pv_it/common/3a74b8e7a8fbbea72812f4b9d52e4035ccf1039e0/common_expr.ipynb\"><img src=\"data:image/png;base64,iVBORw0KGgoAAAANSUhEUgAAABgAAAAVBAMAAACuxzMVAAAAMFBMVEX///8AAAAAAAAAAAAAAAAA\n",
       "AAAAAAAAAAAAAAAAAAAAAAAAAAAAAAAAAAAAAAAAAAAv3aB7AAAAD3RSTlMAIolEdjLNuxCZZqtU\n",
       "3e8Ziz2RAAAACXBIWXMAAA7EAAAOxAGVKw4bAAAAq0lEQVQY003OoQrCUBTG8b9z012dsGYdrBpM\n",
       "FsuK5lssWrQYTPMN9ggDmyAs+gJ2sdn2Bia7zSR4z53CPXDg/Djw8RHzm8Bs+kdXO4hKB9QuRi6G\n",
       "LjqxYAGTd0GUCEqC3TSRhJRI04ccDgYenOXNysCHjDCDm4GirVEFbASVIrxAK5e07Xx5GoN3FfQe\n",
       "HxPMoGlwtA3uDZ4We4vgJXe4tvBrgV/BzGRqgan0BQQUG22ddL9/AAAAAElFTkSuQmCC\n",
       "\" style=\"display:inline;vertical-align:middle;\" /></a><br>"
      ],
      "text/plain": [
       "<IPython.core.display.HTML object>"
      ]
     },
     "metadata": {},
     "output_type": "display_data"
    }
   ],
   "source": [
    "var_ket_varphi = Variable('|varphi>', r'\\lvert \\varphi \\rangle')"
   ]
  },
  {
   "cell_type": "code",
   "execution_count": 15,
   "metadata": {},
   "outputs": [
    {
     "data": {
      "text/html": [
       "<strong id=\"var_ket_v\">var_ket_v:</strong> <a class=\"ProveItLink\" href=\"../__pv_it/common/4a4e4b6201c337502c2aae379d189f8e94b5ef7a0/common_expr.ipynb\"><img src=\"data:image/png;base64,iVBORw0KGgoAAAANSUhEUgAAABUAAAAVBAMAAABbObilAAAAMFBMVEX///8AAAAAAAAAAAAAAAAA\n",
       "AAAAAAAAAAAAAAAAAAAAAAAAAAAAAAAAAAAAAAAAAAAv3aB7AAAAD3RSTlMAIolEdjIQZt1U76uZ\n",
       "zbtiIltfAAAACXBIWXMAAA7EAAAOxAGVKw4bAAAAjElEQVQI12MQYICAACBWhrKfIrHnILE5kNhM\n",
       "ExBsxgcINsNFEJvNqYChk4FhEojNxLmAYTVYszJDJM8FkCCPAZCdwOXAEMnAwLoBpHd+AoMDAwOn\n",
       "Aoh9goFBgYGBVwDEfs3ACXShHNh8XQYRoPmaYDbP9gIguwFhL+cBBJtPAMHORXKzOxC7QtkbGBgA\n",
       "xL4V7wIuxd4AAAAASUVORK5CYII=\n",
       "\" style=\"display:inline;vertical-align:middle;\" /></a><br>"
      ],
      "text/plain": [
       "<IPython.core.display.HTML object>"
      ]
     },
     "metadata": {},
     "output_type": "display_data"
    }
   ],
   "source": [
    "var_ket_v = Variable('|v>', r'\\lvert v \\rangle')"
   ]
  },
  {
   "cell_type": "code",
   "execution_count": 16,
   "metadata": {},
   "outputs": [
    {
     "data": {
      "text/html": [
       "<strong id=\"var_ket_u\">var_ket_u:</strong> <a class=\"ProveItLink\" href=\"../__pv_it/common/e9ccc523355dd5c57db74023629fa3172587db260/common_expr.ipynb\"><img src=\"data:image/png;base64,iVBORw0KGgoAAAANSUhEUgAAABYAAAAVBAMAAACwDgOmAAAAMFBMVEX///8AAAAAAAAAAAAAAAAA\n",
       "AAAAAAAAAAAAAAAAAAAAAAAAAAAAAAAAAAAAAAAAAAAv3aB7AAAAD3RSTlMAIolEdjIQmWarVO/d\n",
       "zbuGLT5cAAAACXBIWXMAAA7EAAAOxAGVKw4bAAAAkElEQVQI12MQYIAAViBWhrL5AhBsrgIEm+EA\n",
       "ElsLiS2HxOYVALLZ3BsYOBMYuBSAbCauDQz9YM3KDFHsBxjmAtnFQHYCtwPDFiA7EqTXPoHxK5C9\n",
       "CMSuYWD5AGRfBLFfMvA9aGNgfABiVzJEKygwMC0AsTNVFk4JYOBBsnc5Evshgs12AcFmaWBgcIWy\n",
       "ORkYAIaEGrrYA0k1AAAAAElFTkSuQmCC\n",
       "\" style=\"display:inline;vertical-align:middle;\" /></a><br>"
      ],
      "text/plain": [
       "<IPython.core.display.HTML object>"
      ]
     },
     "metadata": {},
     "output_type": "display_data"
    }
   ],
   "source": [
    "var_ket_u = Variable('|u>', r'\\lvert u \\rangle')"
   ]
  },
  {
   "cell_type": "code",
   "execution_count": 17,
   "metadata": {},
   "outputs": [
    {
     "data": {
      "text/html": [
       "<strong id=\"var_ket_utilde\">var_ket_utilde:</strong> <a class=\"ProveItLink\" href=\"../__pv_it/common/5aa2c87cda82ffd5249982ad47996f47f760d0430/common_expr.ipynb\"><img src=\"data:image/png;base64,iVBORw0KGgoAAAANSUhEUgAAAAwAAAAOBAMAAADpk+DfAAAAMFBMVEX///8AAAAAAAAAAAAAAAAA\n",
       "AAAAAAAAAAAAAAAAAAAAAAAAAAAAAAAAAAAAAAAAAAAv3aB7AAAAD3RSTlMAMt3NVBBmRHYiq5mJ\n",
       "77tJbReRAAAACXBIWXMAAA7EAAAOxAGVKw4bAAAAU0lEQVQI12NgYFR2TWdgYIiIXJTAgB2wdicw\n",
       "cAUw8LBcYMhnYBDhVmBYzMAQwNvAcAMoWR/A+RFIbWLg+ACkXjHwPUhlYNjFIHvgAAND1AnPFQIA\n",
       "f70R3sKv+3oAAAAASUVORK5CYII=\n",
       "\" style=\"display:inline;vertical-align:middle;\" /></a><br>"
      ],
      "text/plain": [
       "<IPython.core.display.HTML object>"
      ]
     },
     "metadata": {},
     "output_type": "display_data"
    }
   ],
   "source": [
    "var_ket_utilde = Variable('|~u~>', r'\\tilde{u}')"
   ]
  },
  {
   "cell_type": "code",
   "execution_count": 18,
   "metadata": {},
   "outputs": [
    {
     "data": {
      "text/html": [
       "<strong id=\"l_ket_domain\">l_ket_domain:</strong> <a class=\"ProveItLink\" href=\"../__pv_it/common/b1443c33c5077ebb1192b95829e24b79918efe550/common_expr.ipynb\"><img src=\"data:image/png;base64,iVBORw0KGgoAAAANSUhEUgAAABsAAAAXBAMAAAAIOCkdAAAAMFBMVEX///8AAAAAAAAAAAAAAAAA\n",
       "AAAAAAAAAAAAAAAAAAAAAAAAAAAAAAAAAAAAAAAAAAAv3aB7AAAAD3RSTlMAEIm73c12IjKr72aZ\n",
       "RFTgyeMAAAAACXBIWXMAAA7EAAAOxAGVKw4bAAAAqklEQVQY02NgQAKlD5B5DMwFKFwuFB5DMYIp\n",
       "pDmRYROCe4DhCMNZBPcvQ32DI8LkjUCuGshkIZPQ9CYgrQIWZpu1gfG8DQMDhyOYe+wSAwM3kFss\n",
       "AOJxHDAEknMY2A+wg3RyChgASWmG4o4ekDQz+wGwnvX//4OoSg4FZHc28W5A5tbwJqD4kR1FMTPY\n",
       "ZDjgBdvLC+cfuwkkjsK5bKbHGZ8cQAoHqy/HYWwAcuAlv6I+F38AAAAASUVORK5CYII=\n",
       "\" style=\"display:inline;vertical-align:middle;\" /></a><br>"
      ],
      "text/plain": [
       "<IPython.core.display.HTML object>"
      ]
     },
     "metadata": {},
     "output_type": "display_data"
    }
   ],
   "source": [
    "l_ket_domain = CartExp(Complex, Exp(two, l))"
   ]
  },
  {
   "cell_type": "code",
   "execution_count": 19,
   "metadata": {},
   "outputs": [
    {
     "data": {
      "text/html": [
       "<strong id=\"m_ket_domain\">m_ket_domain:</strong> <a class=\"ProveItLink\" href=\"../__pv_it/common/9fee07e90eb989b12a953b9e90059fbd9aaf0dc90/common_expr.ipynb\"><img src=\"data:image/png;base64,iVBORw0KGgoAAAANSUhEUgAAACMAAAAUBAMAAAD1iJl/AAAAMFBMVEX///8AAAAAAAAAAAAAAAAA\n",
       "AAAAAAAAAAAAAAAAAAAAAAAAAAAAAAAAAAAAAAAAAAAv3aB7AAAAD3RSTlMAEIm73c12IjKr72aZ\n",
       "RFTgyeMAAAAACXBIWXMAAA7EAAAOxAGVKw4bAAAAuElEQVQY02NgQAJ7Xu+5p4HgCmlOZHhmwHXh\n",
       "EULoAMMRBuYGUYZzCKG/DPUNLAyPGBw2wIU2AoUkGXIZphWATDEJTW8C0ipwabZZGxjP2zAwcDjC\n",
       "hY5dYmDgBgoVC8BEOA4YAsk5DOwH2AugQpwCBkBSmqG4owemjJn9AJhe//8/TGMlhwIDGmji3YAu\n",
       "VMObgC7EzI6hkRlsIwrgBbuLF0Xs2E0gcRRFiM30OOOTA6hahay+HEfmAwAKMCtH0xE9pgAAAABJ\n",
       "RU5ErkJggg==\n",
       "\" style=\"display:inline;vertical-align:middle;\" /></a><br>"
      ],
      "text/plain": [
       "<IPython.core.display.HTML object>"
      ]
     },
     "metadata": {},
     "output_type": "display_data"
    }
   ],
   "source": [
    "m_ket_domain = CartExp(Complex, Exp(two, m))"
   ]
  },
  {
   "cell_type": "code",
   "execution_count": 20,
   "metadata": {},
   "outputs": [
    {
     "data": {
      "text/html": [
       "<strong id=\"nk_ket_domain\">nk_ket_domain:</strong> <a class=\"ProveItLink\" href=\"../__pv_it/common/bf35da959ffa6268aab29fb2714453e7d8ba4d690/common_expr.ipynb\"><img src=\"data:image/png;base64,iVBORw0KGgoAAAANSUhEUgAAACcAAAAUBAMAAAD8YzkFAAAAMFBMVEX///8AAAAAAAAAAAAAAAAA\n",
       "AAAAAAAAAAAAAAAAAAAAAAAAAAAAAAAAAAAAAAAAAAAv3aB7AAAAD3RSTlMAEIm73c12IjKr72aZ\n",
       "RFTgyeMAAAAACXBIWXMAAA7EAAAOxAGVKw4bAAAAz0lEQVQY02NgQAJ7bj9iYDiMJCCkOZHhmQEL\n",
       "A8MbJMEDDEcYOBtKGRhOIwn+ZahvYGHIvsgQXpYAF9wIFJRkeLSB4ftDA5BpJqHpTUBaBSzJ8VMA\n",
       "SLLN2sB43gbIcwQLsqk7FjAwHLvEwMANFCwWAAvyFGg/YOA4YAhkzmFgP8BeALeAUwBkrjRDcUeP\n",
       "AFyQmf0AmF7//z/CfZUcCgwYoIl3A6ZgDW8CpiAzOxbtzGDb0QAv2J28aKLHbgKJo2iCbKbHGZ8c\n",
       "QDdAyOrLcVQRAGcWMOVLEV4WAAAAAElFTkSuQmCC\n",
       "\" style=\"display:inline;vertical-align:middle;\" /></a><br>"
      ],
      "text/plain": [
       "<IPython.core.display.HTML object>"
      ]
     },
     "metadata": {},
     "output_type": "display_data"
    }
   ],
   "source": [
    "nk_ket_domain = CartExp(Complex, Exp(two, n_k))"
   ]
  },
  {
   "cell_type": "code",
   "execution_count": 21,
   "metadata": {},
   "outputs": [
    {
     "data": {
      "text/html": [
       "<strong id=\"normalized_var_ket_psi\">normalized_var_ket_psi:</strong> <a class=\"ProveItLink\" href=\"../__pv_it/common/87287c19357fd766ec8702a52412598cb6a0bc950/common_expr.ipynb\"><img src=\"data:image/png;base64,iVBORw0KGgoAAAANSUhEUgAAAFQAAAAVBAMAAAAqQdQ7AAAAMFBMVEX///8AAAAAAAAAAAAAAAAA\n",
       "AAAAAAAAAAAAAAAAAAAAAAAAAAAAAAAAAAAAAAAAAAAv3aB7AAAAD3RSTlMAIkSJMpl2EFRm3e/N\n",
       "u6sQQchiAAAACXBIWXMAAA7EAAAOxAGVKw4bAAAA+0lEQVQoz2NgZGBkACEocAARAkCIBSgzuDIw\n",
       "MCvAuFeAmMmAJYCQ0gQGhlYcSlmWoyo1YGDgwq60LuY7ilJ2oKnMDdhNZUNVygH0E+MFopQyg4iD\n",
       "hJWWRQKVZjEwNBNWatDNUMmQXwDyF0xp1CoQWIeulKUhimEiAzcDA6sCIVPZGbYBw4oVGIAPCDqA\n",
       "4ztQaRkwGAwIKmU9wNjAkM7AwCNAyK0MrBc4C5iAYSZLOASYNjIzTAKKWWBXyvwRKQr8bNNASW8B\n",
       "VqV8r/+8RIotD3DkBhCTCNNBXF4BYpQagLg1RCXtBBA3E49SNwZhYFA4wLgPQCk+gdEAi0oAqZRG\n",
       "l36xJIUAAAAASUVORK5CYII=\n",
       "\" style=\"display:inline;vertical-align:middle;\" /></a><br>"
      ],
      "text/plain": [
       "<IPython.core.display.HTML object>"
      ]
     },
     "metadata": {},
     "output_type": "display_data"
    }
   ],
   "source": [
    "normalized_var_ket_psi = Equals(Norm(var_ket_psi), one)"
   ]
  },
  {
   "cell_type": "code",
   "execution_count": 22,
   "metadata": {},
   "outputs": [
    {
     "data": {
      "text/html": [
       "<strong id=\"normalized_var_ket_u\">normalized_var_ket_u:</strong> <a class=\"ProveItLink\" href=\"../__pv_it/common/2bb25afe386e5968b6733397d5e6c04559a758e20/common_expr.ipynb\"><img src=\"data:image/png;base64,iVBORw0KGgoAAAANSUhEUgAAAFIAAAAVBAMAAAAnX6R8AAAAMFBMVEX///8AAAAAAAAAAAAAAAAA\n",
       "AAAAAAAAAAAAAAAAAAAAAAAAAAAAAAAAAAAAAAAAAAAv3aB7AAAAD3RSTlMAIkSJMpl2EGarVO/d\n",
       "zbtGyc70AAAACXBIWXMAAA7EAAAOxAGVKw4bAAAA30lEQVQoz2NgZGBkACEIcAARAkCIBSgzuDIw\n",
       "MCtAeU+AmMmAJYCwyqU4VLIcR1fJg11lZex3dJXMC7CbyYahkvEBsSoZLhJWWRbBwDCdgWExYZUG\n",
       "qxk4PoC9BFMZcwYETqKrZFkQw8B5gYGBVYGQmewM2xi4E4ABN4Gg7UzfGeSBccllQFAl6wGGfKAQ\n",
       "rwAhdzLwTWB4x1HAIEfY76wTWDYzMzBYYVfJ/BGhkn1ylmQKA8MBrCo5Z/+dgRZHXAHEpjo+AWJV\n",
       "1hKdkjPwqHRjEAYGggOUNwGUvhMYDbAoBAArJUYL2YmStgAAAABJRU5ErkJggg==\n",
       "\" style=\"display:inline;vertical-align:middle;\" /></a><br>"
      ],
      "text/plain": [
       "<IPython.core.display.HTML object>"
      ]
     },
     "metadata": {},
     "output_type": "display_data"
    }
   ],
   "source": [
    "normalized_var_ket_u = Equals(Norm(var_ket_u), one)"
   ]
  },
  {
   "cell_type": "code",
   "execution_count": 23,
   "metadata": {},
   "outputs": [
    {
     "data": {
      "text/html": [
       "<strong id=\"m_bit_interval\">m_bit_interval:</strong> <a class=\"ProveItLink\" href=\"../__pv_it/common/74557729fd5cd70d9984171c74bfdadff37d6b150/common_expr.ipynb\"><img src=\"data:image/png;base64,iVBORw0KGgoAAAANSUhEUgAAAHsAAAAVBAMAAACUF4xmAAAAMFBMVEX///8AAAAAAAAAAAAAAAAA\n",
       "AAAAAAAAAAAAAAAAAAAAAAAAAAAAAAAAAAAAAAAAAAAv3aB7AAAAD3RSTlMAEER2zVSJ3Zki72ar\n",
       "MruaaVGaAAAACXBIWXMAAA7EAAAOxAGVKw4bAAABeklEQVQ4y2NgYGBUYsANuLsv2zDvu4BFhjMS\n",
       "Qpso4tEurbWB6wDzAWxSdx6CSNaPQCLNYgKm/IyWtwwTTRj4L3AkoEtdFwASb0AstgIGBpYAxkpM\n",
       "1z1gyFdgOMxwi4E9AFWG8YQ/SHs6TPt2BoY8DO08Exi4FjCsZbBjmM+LLmePoh3ojHgBdCVcHxl4\n",
       "fnJ+ANq/jwO/9h8MDPcDMGwvYOD5y3SAwZNhjiFe7Ywg7RuwBC77BxwRgtDO4cDA+Q2o3QCLKqyC\n",
       "cO1WINasDRDtCVhU1TDg0z4f6N85TsCIAGrXx2IRxwNknkg5CNQitDMeCWDg7RMAB118AKb2PQx4\n",
       "bWcD2szAB0yR7xgY9mNEHANrAsNMfNrBcQ2KuF0MDC2Yaq4xMBji054Fi3f2AMa1YGF5B6CXvkAT\n",
       "bUVHRwEO7fkTkJMNY5sNJE+yNwCJCmik////3wG77jPrfTYgaScPUEM78wJytYNDm/MrmboZV0MK\n",
       "laNk6ebMASY0AG2LYC7vuTbhAAAAAElFTkSuQmCC\n",
       "\" style=\"display:inline;vertical-align:middle;\" /></a><br>"
      ],
      "text/plain": [
       "<IPython.core.display.HTML object>"
      ]
     },
     "metadata": {},
     "output_type": "display_data"
    }
   ],
   "source": [
    "m_bit_interval = Interval(zero, subtract(Exp(two, m), one))"
   ]
  },
  {
   "cell_type": "code",
   "execution_count": 24,
   "metadata": {},
   "outputs": [
    {
     "data": {
      "text/html": [
       "<strong id=\"I\">I:</strong> <a class=\"ProveItLink\" href=\"../__pv_it/common/51b66f0810ce0726813ca9e4eb1f8747515d0d020/common_expr.ipynb\"><img src=\"data:image/png;base64,iVBORw0KGgoAAAANSUhEUgAAAAsAAAAOBAMAAAALT/umAAAAIVBMVEX///8AAAAAAAAAAAAAAAAA\n",
       "AAAAAAAAAAAAAAAAAAAAAADdcGRXAAAACnRSTlMAiburEN0ydkTNfktKrgAAAAlwSFlzAAAOxAAA\n",
       "DsQBlSsOGwAAAEJJREFUCNdjYGAQWqXswAAES0EEA9tCMMW+AkwxLQBTXBPAVFcBmJJKAFOzwCTD\n",
       "IjDJsRxMMS4DU6xgbc5aiwUYGADydQoiew/uIgAAAABJRU5ErkJggg==\n",
       "\" style=\"display:inline;vertical-align:middle;\" /></a><br>"
      ],
      "text/plain": [
       "<IPython.core.display.HTML object>"
      ]
     },
     "metadata": {},
     "output_type": "display_data"
    }
   ],
   "source": [
    "# Identity operation\n",
    "I = Literal('I')"
   ]
  },
  {
   "cell_type": "code",
   "execution_count": 25,
   "metadata": {},
   "outputs": [
    {
     "data": {
      "text/html": [
       "<strong id=\"X\">X:</strong> <a class=\"ProveItLink\" href=\"../__pv_it/common/d428480ac9882b1412f7ede37b71e3a30f3c2e9e0/common_expr.ipynb\"><img src=\"data:image/png;base64,iVBORw0KGgoAAAANSUhEUgAAABIAAAAOBAMAAADQ9FGEAAAAMFBMVEX///8AAAAAAAAAAAAAAAAA\n",
       "AAAAAAAAAAAAAAAAAAAAAAAAAAAAAAAAAAAAAAAAAAAv3aB7AAAAD3RSTlMAZrvvdhDdzVSrIjKZ\n",
       "iUQw4UTKAAAACXBIWXMAAA7EAAAOxAGVKw4bAAAAYklEQVQI12NgYBD6b8IQ9rmCAQjmNzBwaIEY\n",
       "DPsVGNaAGQzsv1gnQFiMfyIZoMB+Kox13wHGmp8AZfCs/Adlneb+BGHwbmDIXwBm+TEwyF8AMYKA\n",
       "JP9XIGOTvTUDd/23AwwAIdkX15Iso/wAAAAASUVORK5CYII=\n",
       "\" style=\"display:inline;vertical-align:middle;\" /></a><br>"
      ],
      "text/plain": [
       "<IPython.core.display.HTML object>"
      ]
     },
     "metadata": {},
     "output_type": "display_data"
    },
    {
     "data": {
      "text/html": [
       "<strong id=\"Y\">Y:</strong> <a class=\"ProveItLink\" href=\"../__pv_it/common/863ddb89daa26b425e81508eb744e2de573298830/common_expr.ipynb\"><img src=\"data:image/png;base64,iVBORw0KGgoAAAANSUhEUgAAABAAAAAOBAMAAADUAYG5AAAALVBMVEX///8AAAAAAAAAAAAAAAAA\n",
       "AAAAAAAAAAAAAAAAAAAAAAAAAAAAAAAAAAAAAADAOrOgAAAADnRSTlMAEKvd7yJUdkTNu2aJmYeN\n",
       "iygAAAAJcEhZcwAADsQAAA7EAZUrDhsAAABYSURBVAjXYxCycwpgYPNzZ2Dom8DAwLAaiJmfMjCw\n",
       "NwAZ7G8YGNKANAPjEwaOAhCDYV1DDJhmyFO8AGGwPILQDFwPoQyWCVBG3AEoY18DlLEOSt96pw6i\n",
       "AK7BEbPyHx5DAAAAAElFTkSuQmCC\n",
       "\" style=\"display:inline;vertical-align:middle;\" /></a><br>"
      ],
      "text/plain": [
       "<IPython.core.display.HTML object>"
      ]
     },
     "metadata": {},
     "output_type": "display_data"
    },
    {
     "data": {
      "text/html": [
       "<strong id=\"Z\">Z:</strong> <a class=\"ProveItLink\" href=\"../__pv_it/common/2c528f33b8384666a054a8146aa84d2f45cc85490/common_expr.ipynb\"><img src=\"data:image/png;base64,iVBORw0KGgoAAAANSUhEUgAAAA4AAAAOBAMAAADtZjDiAAAAMFBMVEX///8AAAAAAAAAAAAAAAAA\n",
       "AAAAAAAAAAAAAAAAAAAAAAAAAAAAAAAAAAAAAAAAAAAv3aB7AAAAD3RSTlMA782r3URmEJlUIrsy\n",
       "iXbFnxI6AAAACXBIWXMAAA7EAAAOxAGVKw4bAAAAaElEQVQI12NgYJAXMjb6wsDA+o2BoUScgYFj\n",
       "AgOD4gIGBmYGBu4/DAwMPAwM/QEMIMD7DUwx5D8AU5w/INx4A5AaBp7fQL1AeqECA0MYAwO7SwED\n",
       "gzsDA5MUA8OhDQwM9t67Ff8nMAAAp+MRyCYl7toAAAAASUVORK5CYII=\n",
       "\" style=\"display:inline;vertical-align:middle;\" /></a><br>"
      ],
      "text/plain": [
       "<IPython.core.display.HTML object>"
      ]
     },
     "metadata": {},
     "output_type": "display_data"
    }
   ],
   "source": [
    "# Pauli's X, Y, Z\n",
    "X, Y, Z = Literal('X'), Literal('Y'), Literal('Z')"
   ]
  },
  {
   "cell_type": "code",
   "execution_count": 26,
   "metadata": {},
   "outputs": [
    {
     "data": {
      "text/html": [
       "<strong id=\"H\">H:</strong> <a class=\"ProveItLink\" href=\"../__pv_it/common/e874333991a6db337cd004ff6daee55a9e80aa5b0/common_expr.ipynb\"><img src=\"data:image/png;base64,iVBORw0KGgoAAAANSUhEUgAAABMAAAAOBAMAAAA/Njq6AAAAMFBMVEX///8AAAAAAAAAAAAAAAAA\n",
       "AAAAAAAAAAAAAAAAAAAAAAAAAAAAAAAAAAAAAAAAAAAv3aB7AAAAD3RSTlMAdqu7Zu8Qzd0yiSKZ\n",
       "RFTI+uAaAAAACXBIWXMAAA7EAAAOxAGVKw4bAAAAdUlEQVQI12NgYBD6b8TgFG+UwAAE34E4AsRg\n",
       "4PzFwMD9B8zk+svAwPIPzGT/wMDA/A3M5DdgYGBtADPvNykp6R8AM9dPYGCQfwBm1gOxPdhUhs9Q\n",
       "oxkYeD9CjAYZ+5OBgfEvmMkBMvYDiJVk/0mAx/6zAAMDAPA5G0WJzUceAAAAAElFTkSuQmCC\n",
       "\" style=\"display:inline;vertical-align:middle;\" /></a><br>"
      ],
      "text/plain": [
       "<IPython.core.display.HTML object>"
      ]
     },
     "metadata": {},
     "output_type": "display_data"
    }
   ],
   "source": [
    "# Hadamard\n",
    "H = Literal('H')"
   ]
  },
  {
   "cell_type": "code",
   "execution_count": 27,
   "metadata": {},
   "outputs": [
    {
     "data": {
      "text/html": [
       "<strong id=\"MEAS\">MEAS:</strong> <a class=\"ProveItLink\" href=\"../__pv_it/common/f979aba16bdc989b94eb839b931688f10a3892ba0/common_expr.ipynb\"><img src=\"data:image/png;base64,iVBORw0KGgoAAAANSUhEUgAAAEQAAAAPBAMAAACvonQuAAAAMFBMVEX///8AAAAAAAAAAAAAAAAA\n",
       "AAAAAAAAAAAAAAAAAAAAAAAAAAAAAAAAAAAAAAAAAAAv3aB7AAAAD3RSTlMAZrtUdu+rMkQimc0Q\n",
       "3YlDvTL1AAAACXBIWXMAAA7EAAAOxAGVKw4bAAABbUlEQVQoz3VQPUvDUBQ9MbFJnmkbBEWndnIQ\n",
       "RGcXQ/9AiyCIi1Kxg0s6uRZRXI2DInRo5w5SnYWGVh2cnDraTIpTq639oGK8N3FwMZBzzrvvvnM/\n",
       "gH++4t/DtL9CqHzuAqmNhdzSehCtBbh65c0x2xbBwZDlmP4UC9lnnLBQ7xDrM2XCWZbaN8EjXwrb\n",
       "IawAUpVYKhJK90mSMba645S3dp5wQK+4hBAZ4LLEcqoDBSo7W2lqUHsHVE4VCtWwEizjSRwGbQqs\n",
       "mYDhv4YTnckjyK7N8rSZHQWxIxQ8ooTf55Ywr3bRQDBqO68/BSlllHaIjJSfCY89WHrvdxkeXFrS\n",
       "YsVOhhWHYcqW7EgDlh+AY1jBUHGy43a6FFZN3DQQYUONrRSXXyGagUG19C8OOdizMMmlY2x1Qalm\n",
       "ML9MRoK7jgJpBwWTJU2vbQLnvPsRxDPwQjLSusYxTlpNFw+1fi67XUXdv4W8PPaEtp+jBf4AIWdm\n",
       "t8J/bycAAAAASUVORK5CYII=\n",
       "\" style=\"display:inline;vertical-align:middle;\" /></a><br>"
      ],
      "text/plain": [
       "<IPython.core.display.HTML object>"
      ]
     },
     "metadata": {},
     "output_type": "display_data"
    }
   ],
   "source": [
    "# Measurement Gate\n",
    "MEAS = Literal('MEAS')"
   ]
  },
  {
   "cell_type": "code",
   "execution_count": 28,
   "metadata": {},
   "outputs": [
    {
     "data": {
      "text/html": [
       "<strong id=\"SWAP\">SWAP:</strong> <a class=\"ProveItLink\" href=\"../__pv_it/common/902f20c460094c8657e9ffd918d3504c42ee83b10/common_expr.ipynb\"><img src=\"data:image/png;base64,iVBORw0KGgoAAAANSUhEUgAAAEMAAAAPBAMAAABNfm9XAAAAMFBMVEX///8AAAAAAAAAAAAAAAAA\n",
       "AAAAAAAAAAAAAAAAAAAAAAAAAAAAAAAAAAAAAAAAAAAv3aB7AAAAD3RSTlMAVJmJZkS7dhDNMqsi\n",
       "791pxlESAAAACXBIWXMAAA7EAAAOxAGVKw4bAAABXUlEQVQoz21RPUsDQRB9yd2ZMxwklUWKGCKI\n",
       "cGAC0cLGj04rAyoWFtpIsNBLIba5LoVFBH+AqW3UTlAhYJFSf0H+gRBNjJwxOd/sXiO4MDs3M29n\n",
       "3rwD/j3OxZ8wli+Z5aXRIZ7G98iOViU32eWV8AYPR3MSVmB7sHqA8QlYt+rZtECQYq9jH4jngA04\n",
       "Hxpi6M7uj9w3VYJpqSawC3vI7n1gRyGM529xNZZqRWCfw6+BADj9AooK0k68i/PECGv0mhJ24GR6\n",
       "MFsKkov1xQ2AJJ/BDMNHujcY5FNXCCudJHspO8tpSdS9Ee8rZOxBNCcOZyhLD0sL5UiZAj88v4rA\n",
       "0pmzvMsZmOjqsklrsFuh7aOjV7a55ziSRc457YXyrKyRz3o0R6hRFj0WWdqMaHBAPkp8bCtqTEVE\n",
       "5oswRPRNrnuif+GryNHSMCXBnnsnfou2qJh4gY+p8BKzYUUhfgEDyVojWLMfTwAAAABJRU5ErkJg\n",
       "gg==\n",
       "\" style=\"display:inline;vertical-align:middle;\" /></a><br>"
      ],
      "text/plain": [
       "<IPython.core.display.HTML object>"
      ]
     },
     "metadata": {},
     "output_type": "display_data"
    }
   ],
   "source": [
    "# Swap Gate - for use in a MultiQubitGate that connects to the second swap gate. \n",
    "SWAP = Literal('SWAP')"
   ]
  },
  {
   "cell_type": "code",
   "execution_count": 29,
   "metadata": {},
   "outputs": [
    {
     "data": {
      "text/html": [
       "<strong id=\"SPACE\">SPACE:</strong> <a class=\"ProveItLink\" href=\"../__pv_it/common/da64fd011a176dba524c15edb4c0c73d9ce4b38f0/common_expr.ipynb\"><img src=\"data:image/png;base64,iVBORw0KGgoAAAANSUhEUgAAAE0AAAAPBAMAAABTt1/kAAAAMFBMVEX///8AAAAAAAAAAAAAAAAA\n",
       "AAAAAAAAAAAAAAAAAAAAAAAAAAAAAAAAAAAAAAAAAAAv3aB7AAAAD3RSTlMAVJmJZkS7dhDNMqsi\n",
       "791pxlESAAAACXBIWXMAAA7EAAAOxAGVKw4bAAABhElEQVQoz21RPUjDUBi8/sREiW1xdLClYhEE\n",
       "DdTBQWxWtzg5iLS4FJGajG7tpINDHd3s7NK6CBKhBScHbSd1dHAVC0JLtTbee4lODbz33d279/Nd\n",
       "gDHf/TgRoXQ2akG1e+7+oq9cyPnkwDXvoJae3Ov3AnkRms0SPwNKFbnRE7P6XMHMm6+r9IVTwCb1\n",
       "ugMkHeEIN1uAdlgjGgJ5g4SeOPk2V8usZUP41nOEky9ESgfIWfRxf94ELqmJu20aoDvlBJc5MJWS\n",
       "j3VAvfpZk8/uUe7La5E0oY8E1GpCV0yBo553C+nRN8QZ2ELdQKQfpKGMXLvl92//iPa+s6uW5Cm0\n",
       "G4gNA1/kC49/Ca7QMNENiLqXbhYwLanGfrqIiBolrSb8mPzjiV8Rk75Z4gJ0oZ2Sthlv3Qh8bDHW\n",
       "kckB1PIi0iNgjmVexGcF7zblXbroI8L9Iku9ASyzt8b/PwUeOCZ4GLNR1og/OHZ5Rmpn6Yow4xWl\n",
       "7dg7R8geGNAy7gIbufFctzQAfgH/tWWYLucoIAAAAABJRU5ErkJggg==\n",
       "\" style=\"display:inline;vertical-align:middle;\" /></a><br>"
      ],
      "text/plain": [
       "<IPython.core.display.HTML object>"
      ]
     },
     "metadata": {},
     "output_type": "display_data"
    }
   ],
   "source": [
    "# SPACE: is used as a blank space holder in situations like classically controlled circuits \n",
    "SPACE = Literal('SPACE')"
   ]
  },
  {
   "cell_type": "code",
   "execution_count": 30,
   "metadata": {},
   "outputs": [
    {
     "data": {
      "text/html": [
       "<strong id=\"WIRE\">WIRE:</strong> <a class=\"ProveItLink\" href=\"../__pv_it/common/fa3620a78c6fa47e0d3a903554945016a208e3f20/common_expr.ipynb\"><img src=\"data:image/png;base64,iVBORw0KGgoAAAANSUhEUgAAAEAAAAAOBAMAAABtFQfxAAAAMFBMVEX///8AAAAAAAAAAAAAAAAA\n",
       "AAAAAAAAAAAAAAAAAAAAAAAAAAAAAAAAAAAAAAAAAAAv3aB7AAAAD3RSTlMAic3vu0Sr3RBUZiKZ\n",
       "djLVooVUAAAACXBIWXMAAA7EAAAOxAGVKw4bAAABSUlEQVQY0zVQPU8CURCcI168eHyaWGNibSjU\n",
       "UEqhEAtzWFhoA8YLobAwMaGVykpiaYdXagUJiZ3Rf+CZWNnAP1DgROMJOPseXvJm376d2Z09LA63\n",
       "cfxVxfXQg+EEVeB1mt/aAeNavlJYh9kHjE/ALPMtcUpAADxKNhAW7F9NMKT0niTEx8BcCCXFJawR\n",
       "EPkB9oXQLRJiE76EWoaGavRGjWjhCEQ+2CqnYgxxIAu72cdCG7OpSORg13Q8lPwMBn005GqOBUu7\n",
       "Lyc9iTU3lDyDphXoCcZEMN223LrEnq2Wcuo+Bmbxfzqwwu5JpaSMzOeHOrJqSZnKj2tdlfXvaFs+\n",
       "O93Rx60ilHwxwp1vnmaGYuzQpSzjKUJavEW/efHj2tA9T4sLFlQd5wIdElr+AeZpyNzgwx7PklQs\n",
       "d3rETVIpD9FV7yIzqriby/gD2epgPKmJiSAAAAAASUVORK5CYII=\n",
       "\" style=\"display:inline;vertical-align:middle;\" /></a><br>"
      ],
      "text/plain": [
       "<IPython.core.display.HTML object>"
      ]
     },
     "metadata": {},
     "output_type": "display_data"
    }
   ],
   "source": [
    "# WIRE: is used to explicitly denote a classical wire.  The classical version of 'I'\n",
    "WIRE = Literal('WIRE')"
   ]
  },
  {
   "cell_type": "code",
   "execution_count": null,
   "metadata": {},
   "outputs": [],
   "source": []
  },
  {
   "cell_type": "code",
   "execution_count": 31,
   "metadata": {},
   "outputs": [
    {
     "data": {
      "text/html": [
       "<strong id=\"CONTROL\">CONTROL:</strong> <a class=\"ProveItLink\" href=\"../__pv_it/common/f3dc5d2a12aa7d8cdfd8981d2c35970c615f6b8e0/common_expr.ipynb\"><img src=\"data:image/png;base64,iVBORw0KGgoAAAANSUhEUgAAAHAAAAAOBAMAAAAF5oXJAAAAMFBMVEX///8AAAAAAAAAAAAAAAAA\n",
       "AAAAAAAAAAAAAAAAAAAAAAAAAAAAAAAAAAAAAAAAAAAv3aB7AAAAD3RSTlMAEHa7q2Yiie9Umd0y\n",
       "zUTye3nKAAAACXBIWXMAAA7EAAAOxAGVKw4bAAACFElEQVQozz2STWgTYRCGn43pbvO3WawHsf6k\n",
       "tGDpxaC5eJAETS+B0j15TY7iJREKAUFS8GChQgXvmltAwRb1ICh0D568VFREUUhu2lNMk0artXHm\n",
       "W3VhZ77Zed/53plZwJouzts18XP1eeSZHgW47Zve5JPi89zCY/2QO3deM4dbS764mdE7dcxOEXso\n",
       "pxsB0df6IV+AhMeMxyporT5U5ZvzGRYU8EsNEy/ErFc4kRV/S1737lBAUMD+CfcguQOHhlhvJTku\n",
       "0pLfDfGDJ+YrfNJgUV7npCS2sX3G9mAKIvuQGpLakGT0m8QHCnX21L7CMVEjgDjP4BquoHrQEZKA\n",
       "t7I0OgrfD2MRr3U4TtW0t95RYtmnqdG4yZHOYj/F/q3nuNRPG2gjY5J//WZFVaY3qJmihk737OlS\n",
       "gLOj54T03639g/731g9UZfzAVVmU74Q1K9Ylz1Dg1DKhZtZMzmOkLqLzamL3Hc+MygvHJ+pqpE1n\n",
       "Z+S2tl7BpoaxIPRHpZ6qzF81jNVQzEAuKpBQorUiRpu9rBs0WzPVF2WorujrtpSga9S97sL9phkx\n",
       "URmqq80WqGZMW2zJv2NWoioTZjdjZlPEezq6ZHKXsD3dSMQnJvEXwUZuY13Q2yeVYvpJ9Qzxirhy\n",
       "ZpvZgIn3OlhJNoRxLFcyU3rZeqD+yNpHsfr7LeX7F1VBve4Tf+OTLF1/pID2oNge8AdybZrtNXIM\n",
       "kAAAAABJRU5ErkJggg==\n",
       "\" style=\"display:inline;vertical-align:middle;\" /></a><br>"
      ],
      "text/plain": [
       "<IPython.core.display.HTML object>"
      ]
     },
     "metadata": {},
     "output_type": "display_data"
    }
   ],
   "source": [
    "# CONTROL: indicates a controlled MultiQubitGate\n",
    "CONTROL = Literal('CONTROL')"
   ]
  },
  {
   "cell_type": "code",
   "execution_count": 32,
   "metadata": {},
   "outputs": [
    {
     "data": {
      "text/html": [
       "<strong id=\"CLASSICAL_CONTROL\">CLASSICAL_CONTROL:</strong> <a class=\"ProveItLink\" href=\"../__pv_it/common/a2476a354616e7dd3d0a3ab483bda8f7bd0ec7210/common_expr.ipynb\"><img src=\"data:image/png;base64,iVBORw0KGgoAAAANSUhEUgAAAPoAAAAPBAMAAAA/nc+kAAAAMFBMVEX///8AAAAAAAAAAAAAAAAA\n",
       "AAAAAAAAAAAAAAAAAAAAAAAAAAAAAAAAAAAAAAAAAAAv3aB7AAAAD3RSTlMAEHa7q2Yiie9Umd0y\n",
       "zUTye3nKAAAACXBIWXMAAA7EAAAOxAGVKw4bAAADiUlEQVQ4y61UTUhUURT+3uS8pzPOm0e5qkhF\n",
       "I3dKuakWb8qpSBicVbtQ2ihBzAiR0GasNoGLBtpV5ECCoFDRDwQFzToC+6MfCJQoypXp6JTV+Drn\n",
       "3HffvGjRpgfeM97zne/ce853LvD3Zz7DP79T+E+f0ZE+ZOYRGagdUhuJr7w2zYxFF7Sx3MoB2tvc\n",
       "m84OC2ael07vVfZPEoJMn+a9Dq8Me/6Cs+1u+mFv5g5v9O7ZizpAx3a1o2mWfiVv+0yTkn03DLdu\n",
       "xBk57+DKfTmaJ8ifwRU0ifUeyPCGmwLiDjodTAB8rQqQS4UAKnbLI1puDQFzeZ9pqkpLrAQcD4w4\n",
       "jf1l2mAnYgMUgOZvOrkmMV6SbSSsfZlwFpCC+QO4TtgVYFO1DvBj3zq0fKG/7gXFZA3/4stSpg+B\n",
       "EWfiHP2wxxlzplDmWmzo7JokwSVqoNpZO4h9EWYW0XWgnbBEmqjWASrWWuf1iW4lfScivLVEZXwa\n",
       "GHD1C0W+b4l12dZdDAQSJinwDSxKFMMDYBQ2pVoGFhR2rqcOULE56fZ2+qv5VKWmNVpbv/HttGGn\n",
       "KZ0y+P8YJlkyST0cmsQUjtgGIwaz4IOiUckp2QPzXgigYgttPoPtN9EuSkuinne4bmzqmrUSaGxR\n",
       "iWRJK0WTKEi8ygjSqbhzcgYs7d7VXw4BVOzjIV09v4kxmKsyGe73uuFaxatB9pLIV5UxTKIgreNc\n",
       "9NiGLe7BojrgkNHnhAAq9pL4HL8RZDtmpiqK69ZCYNjZKJ0yWG37ZgZ6fKUYYZKkQLrzfD6zYrEU\n",
       "MeAoXVKx8yGAin0s41tWjYjSzLTJKEb5iEVtuGuIS+Q1roc//9zEY3J3n0QgxkVaiN89KWkn1FWo\n",
       "nq2pEEDF8qTzYGKJ0jZw4cFybeGOOdqIU016XgqP+LgSA1LwnwsmYX2j4ReLh2Km5dn+odRESp4s\n",
       "hQAqNseCGeXG0P13Ap9URa+SmQ6MOE0O4GraWdUKFkNEnktN0rzmq4FhcRFSdF2paZm12VwHqFge\n",
       "r8+Oqp61DJMfE3cIs3lYdC3fqNLSlNl8zhHIsyVlLEhXA5KuMra8JruN80qnEsuSfYTMYNtiANCx\n",
       "W3v76SxGxktnvJTh1hxc9t6g9HHqKNdYjNHnHeF+3Ujf5FfVe44mt5ZvmV9Nz68i6XmeT0KX7z/L\n",
       "kJZL72hlYZ52Kwe5ZGNjWcReZAOAiv0NREZLu+h/LkAAAAAASUVORK5CYII=\n",
       "\" style=\"display:inline;vertical-align:middle;\" /></a><br>"
      ],
      "text/plain": [
       "<IPython.core.display.HTML object>"
      ]
     },
     "metadata": {},
     "output_type": "display_data"
    }
   ],
   "source": [
    "# CLASSICAL_CONTROL: indicates a classically controlled MultiQubitGate\n",
    "CLASSICAL_CONTROL = Literal('CLASSICAL\\_CONTROL')"
   ]
  },
  {
   "cell_type": "code",
   "execution_count": 33,
   "metadata": {},
   "outputs": [],
   "source": [
    "# LEGACY\n",
    "# CTRL_UP, CTRL_DN, CTRL_UPDN = (\n",
    "#     Literal('CTRL\\_UP'),\n",
    "#     Literal('CTRL\\_DN'),\n",
    "#     Literal('CTRL\\_UPDN'))"
   ]
  },
  {
   "cell_type": "code",
   "execution_count": 34,
   "metadata": {},
   "outputs": [],
   "source": [
    "# LEGACY\n",
    "# # WIRE_UP: wire goes up to link with another wire\n",
    "# # WIRE_DN: wire goes down to link with another wire\n",
    "# # WIRE_LINK: link destination for WIRE_UP or WIRE_DN\n",
    "# WIRE_UP, WIRE_DN, WIRE_LINK = (Literal('WIRE\\_UP'),\n",
    "#                                Literal('WIRE\\_DN'),\n",
    "#                                Literal('WIRE\\_LINK'))"
   ]
  },
  {
   "cell_type": "code",
   "execution_count": 35,
   "metadata": {},
   "outputs": [
    {
     "data": {
      "text/html": [
       "<strong id=\"QubitSpace\">QubitSpace:</strong> <a class=\"ProveItLink\" href=\"../__pv_it/common/b194ab1c4258bed32fef631c442d91ad648bd1580/common_expr.ipynb\"><img src=\"data:image/png;base64,iVBORw0KGgoAAAANSUhEUgAAABcAAAATBAMAAACJlYuFAAAAMFBMVEX///8AAAAAAAAAAAAAAAAA\n",
       "AAAAAAAAAAAAAAAAAAAAAAAAAAAAAAAAAAAAAAAAAAAv3aB7AAAAD3RSTlMAEIm73c12IjKr72aZ\n",
       "RFTgyeMAAAAACXBIWXMAAA7EAAAOxAGVKw4bAAAAkklEQVQI12NggAIhzYkMcHCA4QiC85ehvgHO\n",
       "2QjhCJmEpjcBaRUgZpu1gfG8DQMDhyOQc+wSAwM3kFMsABQ4YAgUmcPAfoC9gIFTwADIkWYo7ugR\n",
       "YGBmPwA2bf3//wwMlRwKCMuaeDcgODW8CQgOMzuSMmawaVDAC7aHF8o7dhNIHIVy2EyPMz45APej\n",
       "1ZfjEBYA64QgROuz/pIAAAAASUVORK5CYII=\n",
       "\" style=\"display:inline;vertical-align:middle;\" /></a><br>"
      ],
      "text/plain": [
       "<IPython.core.display.HTML object>"
      ]
     },
     "metadata": {},
     "output_type": "display_data"
    }
   ],
   "source": [
    "QubitSpace = CartExp(Complex, two)"
   ]
  },
  {
   "cell_type": "code",
   "execution_count": 36,
   "metadata": {},
   "outputs": [],
   "source": [
    "# These eventually moved to separate definitions inside the quantum/quantum_ops.py file\n",
    "# QubitRegisterSpace = lambda n : TensorExp(Exp(Complex, two), n) \n",
    "# RegisterSU = lambda n : SU(Exp(two, n))"
   ]
  },
  {
   "cell_type": "code",
   "execution_count": 37,
   "metadata": {},
   "outputs": [
    {
     "data": {
      "text/html": [
       "<strong id=\"inv_root2\">inv_root2:</strong> <a class=\"ProveItLink\" href=\"../__pv_it/common/c8b5993df7cd8527652affb78bd7910edc3167040/common_expr.ipynb\"><img src=\"data:image/png;base64,iVBORw0KGgoAAAANSUhEUgAAABwAAAAwBAMAAADwTQfqAAAAMFBMVEX///8AAAAAAAAAAAAAAAAA\n",
       "AAAAAAAAAAAAAAAAAAAAAAAAAAAAAAAAAAAAAAAAAAAv3aB7AAAAD3RSTlMAMt0Qq5nNdoki72a7\n",
       "RFSRpcO+AAAACXBIWXMAAA7EAAAOxAGVKw4bAAAAyUlEQVQoz2NgAANGZQYkYBL2GZnLwD4ouRw/\n",
       "kXksXt+8GQYU/EcBVDFSHtWogyiSjAdQuCwXULjTGDhDcwTg3FiGOQwcf2E85gQGTwaGVTAu6wOG\n",
       "9QYM/hOgXCMGBicGBn+Y5m4wqQ/EfCArFMB2fwcSVQnAOCkAcZkcgEIWH4EMsNoYsB1fGBi2gxjc\n",
       "DmDB+AkM4ET2goETZNH8AL4GkEENDOwGQJrnMxuImhQaGgRSxPv9KdjS//+/gTVnZaJ47r0DCpdt\n",
       "ApwJAGHMQoWAUSKcAAAAAElFTkSuQmCC\n",
       "\" style=\"display:inline;vertical-align:middle;\" /></a><br>"
      ],
      "text/plain": [
       "<IPython.core.display.HTML object>"
      ]
     },
     "metadata": {},
     "output_type": "display_data"
    }
   ],
   "source": [
    "inv_root2 = frac(one, sqrt(two))"
   ]
  },
  {
   "cell_type": "code",
   "execution_count": 38,
   "metadata": {},
   "outputs": [
    {
     "data": {
      "text/html": [
       "<strong id=\"B1\">B1:</strong> <a class=\"ProveItLink\" href=\"../__pv_it/common/0508ae9f5ee15a29deda7d70a7656dedf15e79310/common_expr.ipynb\"><img src=\"data:image/png;base64,iVBORw0KGgoAAAANSUhEUgAAABoAAAAOBAMAAADDIxFwAAAAMFBMVEX///8AAAAAAAAAAAAAAAAA\n",
       "AAAAAAAAAAAAAAAAAAAAAAAAAAAAAAAAAAAAAAAAAAAv3aB7AAAAD3RSTlMAZrurzTLvInZEmRDd\n",
       "VIkafcLnAAAACXBIWXMAAA7EAAAOxAGVKw4bAAAAg0lEQVQI12NgYBD6b2zsFMDAwHqaAQSSGBiY\n",
       "vzJsXvIbxGH/wcDA+YuBgQPMY/wKxD9gPOYPDAws6TAemwIDt00AjBev0WEiwADj9Rcw8CbCeWpA\n",
       "/B6u8jMQyzdAeawfgYT9BCiP4ztQ5AtMH0sCA8M0byCDDyjMrP/Z2EQX5AizL4YAf/UlhVDMszoA\n",
       "AAAASUVORK5CYII=\n",
       "\" style=\"display:inline;vertical-align:middle;\" /></a><br>"
      ],
      "text/plain": [
       "<IPython.core.display.HTML object>"
      ]
     },
     "metadata": {},
     "output_type": "display_data"
    },
    {
     "data": {
      "text/html": [
       "<strong id=\"B2\">B2:</strong> <a class=\"ProveItLink\" href=\"../__pv_it/common/4e809df56addb29b8cd788f8095b21eb392291210/common_expr.ipynb\"><img src=\"data:image/png;base64,iVBORw0KGgoAAAANSUhEUgAAABsAAAAOBAMAAAAs4XpOAAAAMFBMVEX///8AAAAAAAAAAAAAAAAA\n",
       "AAAAAAAAAAAAAAAAAAAAAAAAAAAAAAAAAAAAAAAAAAAv3aB7AAAAD3RSTlMAZrurzTLvInZEmRDd\n",
       "VIkafcLnAAAACXBIWXMAAA7EAAAOxAGVKw4bAAAArklEQVQI12NgYBD6b2zsFMDAvgpIgEASAwPz\n",
       "V4YiBr6fIB77DwYGzl8M5gwMaSAu41cg/sGQv4HBvgDIZf7AwMCSzmDDwGAP0symwMBtAzblPIiI\n",
       "1+gwEQAxWH+AyP4CBt5EEIPHAESqAfF7kOJFYGs/A7F8A9B0sCTrRyBhP4GB4R4DO9Aiju9AoS9A\n",
       "/ICBYwPQygQGhmneDAw1q1atATpC/7OxiS7I0v//vzAAAAJ2J94iDNgWAAAAAElFTkSuQmCC\n",
       "\" style=\"display:inline;vertical-align:middle;\" /></a><br>"
      ],
      "text/plain": [
       "<IPython.core.display.HTML object>"
      ]
     },
     "metadata": {},
     "output_type": "display_data"
    },
    {
     "data": {
      "text/html": [
       "<strong id=\"B3\">B3:</strong> <a class=\"ProveItLink\" href=\"../__pv_it/common/7d8ac3002bb0e82f0eee2f57c8bddac912b8e09f0/common_expr.ipynb\"><img src=\"data:image/png;base64,iVBORw0KGgoAAAANSUhEUgAAABsAAAAOBAMAAAAs4XpOAAAAMFBMVEX///8AAAAAAAAAAAAAAAAA\n",
       "AAAAAAAAAAAAAAAAAAAAAAAAAAAAAAAAAAAAAAAAAAAv3aB7AAAAD3RSTlMAZrurzTLvInZEmRDd\n",
       "VIkafcLnAAAACXBIWXMAAA7EAAAOxAGVKw4bAAAAqUlEQVQI12NgYBD6b2zsFMDA/m7RBAYQSGJg\n",
       "YP7KsIuB9y+Ix/6DgYHzF0P/Be4vIC7jVyD+wTBtAgOYy/yBgYElHcjg/QjisikwcNsEABlzBEDc\n",
       "eI0OExAjwhgkxtBfwMCbCGJATFYD4vdgifwNQOIzEMs3MIQyMOhfYGBgBZlnP4Hh/wYwl+M7UAho\n",
       "YzJEMUsCA8M0bwYGQbC9zPqfjU10geo5VwG9AAAL6itrOS9tbAAAAABJRU5ErkJggg==\n",
       "\" style=\"display:inline;vertical-align:middle;\" /></a><br>"
      ],
      "text/plain": [
       "<IPython.core.display.HTML object>"
      ]
     },
     "metadata": {},
     "output_type": "display_data"
    }
   ],
   "source": [
    "B1, B2, B3 = Variable('B1'), Variable('B2'), Variable('B3')"
   ]
  },
  {
   "cell_type": "code",
   "execution_count": 39,
   "metadata": {},
   "outputs": [
    {
     "data": {
      "text/html": [
       "<strong id=\"C1\">C1:</strong> <a class=\"ProveItLink\" href=\"../__pv_it/common/a909fb79b8e180eb74b5fa189a326aa15be89a020/common_expr.ipynb\"><img src=\"data:image/png;base64,iVBORw0KGgoAAAANSUhEUgAAABkAAAAOBAMAAAAoFKpzAAAAMFBMVEX///8AAAAAAAAAAAAAAAAA\n",
       "AAAAAAAAAAAAAAAAAAAAAAAAAAAAAAAAAAAAAAAAAAAv3aB7AAAAD3RSTlMAEHa7q2Yiie9Umd0y\n",
       "zUTye3nKAAAACXBIWXMAAA7EAAAOxAGVKw4bAAAAd0lEQVQI12NgYGBUdnFlK2BgOC3AAAQaigyc\n",
       "qwMYve6DeMJ7gMT6BAYGfRDvBoh4wQDhsf8EqT4F5eVvAPFkoLx6BQYoAPH2JyDz+sEsAZgciMN5\n",
       "AMoD2cTADlOZDzKlEMbj/MrA8BzswnqQKikTrwcgjkv/lQAA2p0Z7cRIy1gAAAAASUVORK5CYII=\n",
       "\" style=\"display:inline;vertical-align:middle;\" /></a><br>"
      ],
      "text/plain": [
       "<IPython.core.display.HTML object>"
      ]
     },
     "metadata": {},
     "output_type": "display_data"
    },
    {
     "data": {
      "text/html": [
       "<strong id=\"C2\">C2:</strong> <a class=\"ProveItLink\" href=\"../__pv_it/common/5663a9e3666848eb65cb77624cc33e2b4cee4dda0/common_expr.ipynb\"><img src=\"data:image/png;base64,iVBORw0KGgoAAAANSUhEUgAAABoAAAAOBAMAAADDIxFwAAAAMFBMVEX///8AAAAAAAAAAAAAAAAA\n",
       "AAAAAAAAAAAAAAAAAAAAAAAAAAAAAAAAAAAAAAAAAAAv3aB7AAAAD3RSTlMAEHa7q2Yiie9Umd0y\n",
       "zUTye3nKAAAACXBIWXMAAA7EAAAOxAGVKw4bAAAAoElEQVQI12NgYGBUdnFlK2DIWmvDAAQaigyc\n",
       "qwPYDBjqHzAwCO8BiqxPYElg4GhgYLghAOS9YOD4yMDyjYH9J0j1KQaWDQwsfxjyN4B4MiCC+wND\n",
       "vQIDDJxXYNifAOdtYWDoBzNAJnEZMDDsB3E4DwCJELBNQIIdJFLAkMaQDzKlEIiPMzAAHfWVgeE5\n",
       "UBvbrlWrgJZJmXg9AFn2////CwCZ5iWWsdm6hQAAAABJRU5ErkJggg==\n",
       "\" style=\"display:inline;vertical-align:middle;\" /></a><br>"
      ],
      "text/plain": [
       "<IPython.core.display.HTML object>"
      ]
     },
     "metadata": {},
     "output_type": "display_data"
    },
    {
     "data": {
      "text/html": [
       "<strong id=\"C3\">C3:</strong> <a class=\"ProveItLink\" href=\"../__pv_it/common/ea7b5d87fa5f2cd0c6d1bf8e947035d8048618910/common_expr.ipynb\"><img src=\"data:image/png;base64,iVBORw0KGgoAAAANSUhEUgAAABoAAAAOBAMAAADDIxFwAAAAMFBMVEX///8AAAAAAAAAAAAAAAAA\n",
       "AAAAAAAAAAAAAAAAAAAAAAAAAAAAAAAAAAAAAAAAAAAv3aB7AAAAD3RSTlMAEHa7q2Yiie9Umd0y\n",
       "zUTye3nKAAAACXBIWXMAAA7EAAAOxAGVKw4bAAAAoklEQVQI12NgYGBUdnFlK2BIr7JjAAINRQbO\n",
       "1QGMCxjmT2BgEN4DFFmfwPSTQf4CA8MNASDvBQNfHwP/BQb2nyDVp0DE/ACG/A0ghgwQ821lYKhX\n",
       "YIAAHhUfBob9CQwwADSzH8wAmcTA8ZFhP4jmPMDAc4CB+SfQJiCPnYGB/yOIlw8ypRCozAGkkvMr\n",
       "A8NzoDbWAJB9DFImXg9Ael+tsmMAAB0uJVHLBIn5AAAAAElFTkSuQmCC\n",
       "\" style=\"display:inline;vertical-align:middle;\" /></a><br>"
      ],
      "text/plain": [
       "<IPython.core.display.HTML object>"
      ]
     },
     "metadata": {},
     "output_type": "display_data"
    }
   ],
   "source": [
    "C1, C2, C3 = Variable('C1'), Variable('C2'), Variable('C3')"
   ]
  },
  {
   "cell_type": "code",
   "execution_count": 40,
   "metadata": {},
   "outputs": [],
   "source": [
    "# Duplicate of I??\n",
    "#I, IB, IC = Variable('I'), Variable('IB'), Variable('IC')"
   ]
  },
  {
   "cell_type": "code",
   "execution_count": 41,
   "metadata": {},
   "outputs": [],
   "source": [
    "# pregated_controlled_ngate = Circuit(ExprArray(ExprTuple(Input(a), Gate(u), MultiQubitGate(CONTROL, Set(one, two)), Output(b)),\n",
    "#                                    ExprTuple(Input(x), MultiWire(n), MultiQubitGate(U, Set(one, two)), Output(y))))"
   ]
  },
  {
   "cell_type": "code",
   "execution_count": 42,
   "metadata": {},
   "outputs": [],
   "source": [
    "# pregated_controlled_ngate_with_merge = Circuit(ExprArray(ExprTuple(Input(c), MultiWire(k), MultiWire(k).with_implicit_style(), MultiQubitGate(MultiWire(k).with_implicit_style(), Set(one, two)), SPACE, SPACE),\n",
    "#                                              ExprTuple(Input(a), Gate(u), MultiQubitGate(CONTROL, Set(two, three)), MultiQubitGate(I, Set(one, two)), MultiWire(Add(k, one)), Output(d)),\n",
    "#                                              ExprTuple(Input(x), MultiWire(n), MultiQubitGate(U, Set(two, three)), Output(y), SPACE, SPACE)))"
   ]
  },
  {
   "cell_type": "code",
   "execution_count": 43,
   "metadata": {},
   "outputs": [
    {
     "name": "stdout",
     "output_type": "stream",
     "text": [
      "These common expressions may now be imported from the theory package: proveit.physics.quantum\n"
     ]
    }
   ],
   "source": [
    "%end common"
   ]
  },
  {
   "cell_type": "code",
   "execution_count": null,
   "metadata": {},
   "outputs": [],
   "source": []
  }
 ],
 "metadata": {
  "kernelspec": {
   "display_name": "Python 3",
   "language": "python",
   "name": "python3"
  }
 },
 "nbformat": 4,
 "nbformat_minor": 0
}