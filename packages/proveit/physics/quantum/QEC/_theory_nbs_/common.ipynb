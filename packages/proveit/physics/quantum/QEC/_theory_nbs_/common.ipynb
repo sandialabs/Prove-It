{
 "cells": [
  {
   "cell_type": "markdown",
   "metadata": {},
   "source": [
    "Common expressions for the theory of <a class=\"ProveItLink\" href=\"theory.ipynb\">proveit.physics.quantum.QEC</a>\n",
    "========"
   ]
  },
  {
   "cell_type": "code",
   "execution_count": null,
   "metadata": {},
   "outputs": [],
   "source": [
    "import proveit\n",
    "# Prepare this notebook for defining the common expressions of a theory:\n",
    "%common_expressions_notebook # Keep this at the top following 'import proveit'.\n",
    "from proveit import i, j, k, m, ExprTuple, Literal, Variable\n",
    "from proveit.logic.sets import SetOfAll, Union\n",
    "from proveit.numbers import zero, one, Interval, subtract\n"
   ]
  },
  {
   "cell_type": "code",
   "execution_count": null,
   "metadata": {},
   "outputs": [],
   "source": [
    "%begin common"
   ]
  },
  {
   "cell_type": "code",
   "execution_count": null,
   "metadata": {},
   "outputs": [],
   "source": [
    "########## COMMENTS ####################################################"
   ]
  },
  {
   "cell_type": "code",
   "execution_count": null,
   "metadata": {},
   "outputs": [],
   "source": []
  },
  {
   "cell_type": "code",
   "execution_count": null,
   "metadata": {},
   "outputs": [],
   "source": [
    "SC = Variable('SC', r'SC', fence_when_forced=True)"
   ]
  },
  {
   "cell_type": "markdown",
   "metadata": {},
   "source": [
    "Some useful variables $\\ell$ for indexing:"
   ]
  },
  {
   "cell_type": "code",
   "execution_count": null,
   "metadata": {},
   "outputs": [],
   "source": [
    "j_prime = Variable(\"j'\", r\"j'\", fence_when_forced=True)"
   ]
  },
  {
   "cell_type": "code",
   "execution_count": null,
   "metadata": {},
   "outputs": [],
   "source": [
    "k_prime = Variable(\"k'\", r\"k'\", fence_when_forced=True)"
   ]
  },
  {
   "cell_type": "code",
   "execution_count": null,
   "metadata": {},
   "outputs": [],
   "source": [
    "ell = Variable('ell', r'\\ell')"
   ]
  },
  {
   "cell_type": "code",
   "execution_count": null,
   "metadata": {},
   "outputs": [],
   "source": [
    "ell_prime = Variable(\"ell'\", r\"\\ell'\", fence_when_forced=True)"
   ]
  },
  {
   "cell_type": "markdown",
   "metadata": {},
   "source": [
    "$n$ (named '_n' in code) represents the number of qubits along one “side” of an $n \\times n$ Kitaev-style planar surface code."
   ]
  },
  {
   "cell_type": "code",
   "execution_count": null,
   "metadata": {},
   "outputs": [],
   "source": [
    "m_prime = Variable(\"m'\", r\"m'\", fence_when_forced=True)"
   ]
  },
  {
   "cell_type": "code",
   "execution_count": null,
   "metadata": {},
   "outputs": [],
   "source": []
  },
  {
   "cell_type": "code",
   "execution_count": null,
   "metadata": {},
   "outputs": [],
   "source": [
    "_n = Literal('n')"
   ]
  },
  {
   "cell_type": "markdown",
   "metadata": {},
   "source": [
    "Some convenient expressions for referring to the sets of points marking the rough/smooth boundaries of the surface code.</br>\n",
    "The rough boundary points, abbreviate with the 'rb' notation, consists of two discontiguous sets $A$ and $B$, each of which is partitioned into two subsets for purposes of indexing in a set comprehension expression."
   ]
  },
  {
   "cell_type": "markdown",
   "metadata": {},
   "source": [
    "First, the rough boundary $A$ set, as the union of two separately-indexed sets. These specifications for rough boundary $A$ work for $i \\in \\{1, 2, \\ldots, n-1\\}$ (when $i = n - 1$, we have a single point along the East in the `_rba2` set)."
   ]
  },
  {
   "cell_type": "code",
   "execution_count": null,
   "metadata": {},
   "outputs": [],
   "source": [
    "# East\n",
    "_rba1 = SetOfAll(j, ExprTuple(_n, j), domain = Interval(i, subtract(_n, one)))"
   ]
  },
  {
   "cell_type": "code",
   "execution_count": null,
   "metadata": {},
   "outputs": [],
   "source": [
    "# North\n",
    "_rba2 = SetOfAll(k, ExprTuple(k, _n), domain = Interval(subtract(_n, i), subtract(_n, one)))"
   ]
  },
  {
   "cell_type": "code",
   "execution_count": null,
   "metadata": {},
   "outputs": [],
   "source": [
    "# North & East\n",
    "_rba = Union(_rba1, _rba2)"
   ]
  },
  {
   "cell_type": "markdown",
   "metadata": {},
   "source": [
    "Then the rough boundary $B$ set, again as the union of two separately-indexed sets. Unlike the case for rough boundary $A$, these specifications for rough boundary $B$ work correctly only for $i \\in \\{1, 2, \\ldots, n-2\\}$, with the $i=n-1$ case needing a separate specification:"
   ]
  },
  {
   "cell_type": "code",
   "execution_count": null,
   "metadata": {},
   "outputs": [],
   "source": [
    "# West\n",
    "from proveit.numbers import Add, Neg\n",
    "_rbb1 = SetOfAll(ell, ExprTuple(zero, ell), domain = Interval(one, Add(_n, Neg(one), Neg(i))))"
   ]
  },
  {
   "cell_type": "code",
   "execution_count": null,
   "metadata": {},
   "outputs": [],
   "source": [
    "# South\n",
    "_rbb2 = SetOfAll(m, ExprTuple(m, zero), domain = Interval(one, i))"
   ]
  },
  {
   "cell_type": "code",
   "execution_count": null,
   "metadata": {},
   "outputs": [],
   "source": [
    "# South & West\n",
    "_rbb = Union(_rbb1, _rbb2)"
   ]
  },
  {
   "cell_type": "markdown",
   "metadata": {},
   "source": [
    "For the rough boundary $B$ set at step $i=n-1$, we have only the south points:"
   ]
  },
  {
   "cell_type": "code",
   "execution_count": null,
   "metadata": {},
   "outputs": [],
   "source": [
    "# South points for i = n - 1\n",
    "_rbb_n_minus_1 = SetOfAll(m, ExprTuple(m, zero), domain = Interval(zero, subtract(_n, one)))"
   ]
  },
  {
   "cell_type": "markdown",
   "metadata": {},
   "source": [
    "#### Smooth Boundary Points"
   ]
  },
  {
   "cell_type": "markdown",
   "metadata": {},
   "source": [
    "The smooth boundary points, abbreviate with the 'sb' notation, consist of two discontiguous sets $A$ (North & West) and $B$ (South & East), each of which is partitioned into two subsets for purposes of indexing in a set comprehension expression.\n",
    "\n",
    "These specifications for smooth boundaries each work for $i \\in \\{1, 2, \\ldots, n-1\\}$."
   ]
  },
  {
   "cell_type": "code",
   "execution_count": null,
   "metadata": {},
   "outputs": [],
   "source": [
    "# North subset of Smooth A\n",
    "# _sba1 = SetOfAll(j, ExprTuple(j, _n), domain = Interval(one, subtract(_n, i)))"
   ]
  },
  {
   "cell_type": "code",
   "execution_count": null,
   "metadata": {},
   "outputs": [],
   "source": [
    "# North subset of Smooth A\n",
    "_smooth_boundary_pts_north = SetOfAll(j, ExprTuple(j, _n), domain = Interval(one, subtract(_n, i)))"
   ]
  },
  {
   "cell_type": "code",
   "execution_count": null,
   "metadata": {},
   "outputs": [],
   "source": [
    "# West subset of Smooth A\n",
    "# _sba2 = SetOfAll(k, ExprTuple(zero, k), domain = Interval(subtract(_n, i), subtract(_n, one)))"
   ]
  },
  {
   "cell_type": "code",
   "execution_count": null,
   "metadata": {},
   "outputs": [],
   "source": [
    "# West subset of Smooth A\n",
    "_smooth_boundary_pts_west = SetOfAll(k, ExprTuple(zero, k), domain = Interval(subtract(_n, i), subtract(_n, one)))"
   ]
  },
  {
   "cell_type": "code",
   "execution_count": null,
   "metadata": {},
   "outputs": [],
   "source": [
    "# North-West points of Smooth A\n",
    "# _sba = Union(_sba1, _sba2)"
   ]
  },
  {
   "cell_type": "code",
   "execution_count": null,
   "metadata": {},
   "outputs": [],
   "source": [
    "# North-West points of Smooth A\n",
    "_smooth_boundary_pts_north_west = Union(_smooth_boundary_pts_north, _smooth_boundary_pts_west)"
   ]
  },
  {
   "cell_type": "code",
   "execution_count": null,
   "metadata": {},
   "outputs": [],
   "source": [
    "# South subset of Smooth B\n",
    "# _sbb1 = SetOfAll(ell, ExprTuple(ell, zero), domain = Interval(Add(i, one), subtract(_n, one)))"
   ]
  },
  {
   "cell_type": "code",
   "execution_count": null,
   "metadata": {},
   "outputs": [],
   "source": [
    "# South subset of Smooth B\n",
    "_smooth_boundary_pts_south = SetOfAll(ell, ExprTuple(ell, zero), domain = Interval(Add(i, one), subtract(_n, one)))"
   ]
  },
  {
   "cell_type": "code",
   "execution_count": null,
   "metadata": {},
   "outputs": [],
   "source": [
    "# East subset of Smooth B\n",
    "# _sbb2 = SetOfAll(m, ExprTuple(_n, m), domain = Interval(one, i))"
   ]
  },
  {
   "cell_type": "code",
   "execution_count": null,
   "metadata": {},
   "outputs": [],
   "source": [
    "# East subset of Smooth B\n",
    "_smooth_boundary_pts_east = SetOfAll(m, ExprTuple(_n, m), domain = Interval(one, i))"
   ]
  },
  {
   "cell_type": "code",
   "execution_count": null,
   "metadata": {},
   "outputs": [],
   "source": [
    "# South-East points of Smooth B\n",
    "# _sbb = Union(_sbb1, _sbb2)"
   ]
  },
  {
   "cell_type": "code",
   "execution_count": null,
   "metadata": {},
   "outputs": [],
   "source": [
    "# South-East points of Smooth B\n",
    "_smooth_boundary_pts_south_east = Union(_smooth_boundary_pts_south, _smooth_boundary_pts_east)"
   ]
  },
  {
   "cell_type": "code",
   "execution_count": null,
   "metadata": {},
   "outputs": [],
   "source": [
    "%end common"
   ]
  }
 ],
 "metadata": {
  "kernelspec": {
   "display_name": "Python 3",
   "language": "python",
   "name": "python3"
  }
 },
 "nbformat": 4,
 "nbformat_minor": 0
}
