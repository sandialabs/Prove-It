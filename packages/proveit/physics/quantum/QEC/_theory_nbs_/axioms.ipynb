{
 "cells": [
  {
   "cell_type": "markdown",
   "metadata": {},
   "source": [
    "Axioms for the theory of <a class=\"ProveItLink\" href=\"theory.ipynb\">proveit.physics.quantum.QEC</a>\n",
    "========"
   ]
  },
  {
   "cell_type": "code",
   "execution_count": null,
   "metadata": {},
   "outputs": [],
   "source": [
    "import proveit\n",
    "# Prepare this notebook for defining the axioms of a theory:\n",
    "%axioms_notebook # Keep this at the top following 'import proveit'.\n",
    "from proveit.logic.sets import InSet\n",
    "from proveit.numbers import two, greater_eq, Integer\n",
    "from proveit.physics.quantum.QEC import _n\n"
   ]
  },
  {
   "cell_type": "code",
   "execution_count": null,
   "metadata": {},
   "outputs": [],
   "source": [
    "%begin axioms"
   ]
  },
  {
   "cell_type": "markdown",
   "metadata": {},
   "source": [
    "The smallest $n \\times n$ Kitaev-style planar surface code is $2 \\times 2$, so $n$ needs to be an integer with $n \\ge 2$. Unfortunately, when $n = 2$ we run into a conflict because the $n-1$st step (which needs its own treatment) and the 1st step are the same step. So we up the value of $n$ so that $n \\ge 3$."
   ]
  },
  {
   "cell_type": "code",
   "execution_count": null,
   "metadata": {},
   "outputs": [],
   "source": [
    "_n_in_integer = InSet(_n, Integer)"
   ]
  },
  {
   "cell_type": "code",
   "execution_count": null,
   "metadata": {},
   "outputs": [],
   "source": [
    "from proveit.numbers import three\n",
    "_n_ge_three = greater_eq(_n, three)"
   ]
  },
  {
   "cell_type": "markdown",
   "metadata": {},
   "source": [
    "The Manhattan distance (or taxi distance or L1 distance) between two points $(x_1, y_1)$ and $(x_2, y_2)$ is the rectilinear distance between the two points, $d_{M}((x_1, y_1), (x_2, y_2)) = |x_2 - x_1| + |y_2 - y_1|$:"
   ]
  },
  {
   "cell_type": "code",
   "execution_count": null,
   "metadata": {},
   "outputs": [],
   "source": [
    "from proveit import a, b, c, d\n",
    "from proveit.logic import Equals, Forall\n",
    "from proveit.numbers import Abs, Add, subtract, Integer\n",
    "from proveit.physics.quantum.QEC import ManhattanDistance\n",
    "manhattan_distance_def = (\n",
    "        Forall((a, b, c, d),\n",
    "               Equals(ManhattanDistance((a, b), (c, d)),\n",
    "                      Add(Abs(subtract(c, a)), Abs(subtract(d, b)))\n",
    "               ),\n",
    "               domain = Integer\n",
    "        ))"
   ]
  },
  {
   "cell_type": "code",
   "execution_count": null,
   "metadata": {},
   "outputs": [],
   "source": [
    "%end axioms"
   ]
  }
 ],
 "metadata": {
  "kernelspec": {
   "display_name": "Python 3",
   "language": "python",
   "name": "python3"
  }
 },
 "nbformat": 4,
 "nbformat_minor": 0
}
