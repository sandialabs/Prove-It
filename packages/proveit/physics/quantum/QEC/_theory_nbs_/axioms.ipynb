{
 "cells": [
  {
   "cell_type": "markdown",
   "metadata": {},
   "source": [
    "Axioms for the theory of <a class=\"ProveItLink\" href=\"theory.ipynb\">proveit.physics.quantum.QEC</a>\n",
    "========"
   ]
  },
  {
   "cell_type": "code",
   "execution_count": null,
   "metadata": {},
   "outputs": [],
   "source": [
    "import proveit\n",
    "# Prepare this notebook for defining the axioms of a theory:\n",
    "%axioms_notebook # Keep this at the top following 'import proveit'.\n",
    "from proveit import a, b, c, d, n, k, d, E, K, X\n",
    "from proveit.logic import Equals, Forall, InClass\n",
    "from proveit.logic.sets import InSet\n",
    "from proveit.numbers import two, Abs, Add, greater_eq, Integer, Natural, subtract\n",
    "from proveit.graphs import Graphs\n",
    "from proveit.physics.quantum.QEC import (\n",
    "        _n, GraphOf, KitaevPlanarSC, ManhattanDistance, MergedBoundsGraphOfSurfaceCode,\n",
    "       MergedBoundsGraphOfZError, ZErrorChains)\n"
   ]
  },
  {
   "cell_type": "code",
   "execution_count": null,
   "metadata": {},
   "outputs": [],
   "source": [
    "%begin axioms"
   ]
  },
  {
   "cell_type": "markdown",
   "metadata": {},
   "source": [
    "The smallest $n \\times n$ Kitaev-style planar surface code is $2 \\times 2$, so $n$ needs to be an integer with $n \\ge 2$. Unfortunately, when $n = 2$ we run into a conflict because in the Hadamard steps the $n-1$st step (which needs its own treatment) and the 1st step are the same step. So we up the value of $n$ so that $n \\ge 3$."
   ]
  },
  {
   "cell_type": "code",
   "execution_count": null,
   "metadata": {},
   "outputs": [],
   "source": [
    "_n_in_integer = InSet(_n, Integer)"
   ]
  },
  {
   "cell_type": "code",
   "execution_count": null,
   "metadata": {},
   "outputs": [],
   "source": [
    "from proveit.numbers import three\n",
    "_n_ge_three = greater_eq(_n, three)"
   ]
  },
  {
   "cell_type": "markdown",
   "metadata": {},
   "source": [
    "For any error $E$ and surface code $S$, $\\texttt{graph\\_of}(E, S)$ is an element of the class of all (finite) graphs:"
   ]
  },
  {
   "cell_type": "markdown",
   "metadata": {},
   "source": [
    "The various `...GraphOf()...` operations produce _graphs_, that is, elements of the class of `Graphs`. Eventually we'll probably remove the generic `GraphOf()` operation in favor of the selection of more specific functions such as `MergedBoundsGraphOfZError()`, etc."
   ]
  },
  {
   "cell_type": "code",
   "execution_count": null,
   "metadata": {},
   "outputs": [],
   "source": [
    "graph_of_z_error_chain_is_graph = (\n",
    "Forall((n, k, d),\n",
    "    Forall(K,\n",
    "        Forall(E, InClass(GraphOf(E, K), Graphs),\n",
    "        domain = ZErrorChains(K)),\n",
    "    domain = KitaevPlanarSC(n, k, d)),\n",
    "domain = Natural)\n",
    ")"
   ]
  },
  {
   "cell_type": "code",
   "execution_count": null,
   "metadata": {},
   "outputs": [],
   "source": [
    "merged_bounds_graph_of_surface_code_is_graph = (\n",
    "Forall((n, k, d),\n",
    "    Forall(K,\n",
    "        InClass(MergedBoundsGraphOfSurfaceCode(K), Graphs),\n",
    "    domain = KitaevPlanarSC(n, k, d)),\n",
    "domain = Natural)\n",
    ")"
   ]
  },
  {
   "cell_type": "code",
   "execution_count": null,
   "metadata": {},
   "outputs": [],
   "source": [
    "merged_bounds_graph_of_z_error_chain_is_graph = (\n",
    "Forall((n, k, d),\n",
    "    Forall(K,\n",
    "        Forall(E, InClass(MergedBoundsGraphOfZError(E, K), Graphs),\n",
    "        domain = ZErrorChains(K)),\n",
    "    domain = KitaevPlanarSC(n, k, d)),\n",
    "domain = Natural)\n",
    ")"
   ]
  },
  {
   "cell_type": "markdown",
   "metadata": {},
   "source": [
    "The Manhattan distance (or taxi distance or L1 distance) between two points $(x_1, y_1)$ and $(x_2, y_2)$ is the rectilinear distance between the two points, $d_{M}((x_1, y_1), (x_2, y_2)) = |x_2 - x_1| + |y_2 - y_1|$:"
   ]
  },
  {
   "cell_type": "code",
   "execution_count": null,
   "metadata": {},
   "outputs": [],
   "source": [
    "manhattan_distance_def = (\n",
    "        Forall((a, b, c, d),\n",
    "               Equals(ManhattanDistance((a, b), (c, d)),\n",
    "                      Add(Abs(subtract(c, a)), Abs(subtract(d, b)))\n",
    "               ),\n",
    "               domain = Integer\n",
    "        ))"
   ]
  },
  {
   "cell_type": "code",
   "execution_count": null,
   "metadata": {},
   "outputs": [],
   "source": [
    "%end axioms"
   ]
  }
 ],
 "metadata": {
  "kernelspec": {
   "display_name": "Python 3",
   "language": "python",
   "name": "python3"
  }
 },
 "nbformat": 4,
 "nbformat_minor": 0
}
