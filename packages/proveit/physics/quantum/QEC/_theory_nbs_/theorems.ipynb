{
 "cells": [
  {
   "cell_type": "markdown",
   "metadata": {},
   "source": [
    "Theorems (or conjectures) for the theory of <a class=\"ProveItLink\" href=\"theory.ipynb\">proveit.physics.quantum.QEC</a>\n",
    "========"
   ]
  },
  {
   "cell_type": "code",
   "execution_count": null,
   "metadata": {},
   "outputs": [],
   "source": [
    "import proveit\n",
    "# Prepare this notebook for defining the theorems of a theory:\n",
    "%theorems_notebook # Keep this at the top following 'import proveit'.\n",
    "from proveit import a, b, i, p, q\n",
    "from proveit.logic import Equals, Forall\n",
    "from proveit.logic.sets import SetOfAll\n",
    "from proveit.numbers import one, two, greater_eq, Interval, subtract\n",
    "from proveit.physics.quantum.QEC import (\n",
    "        _n, LogicalHadamard, ManhattanDistance, RoughBoundaryA, RoughBoundaryB,\n",
    "        SmoothBoundaryA, SmoothBoundaryB, SurfaceCode)\n"
   ]
  },
  {
   "cell_type": "code",
   "execution_count": null,
   "metadata": {},
   "outputs": [],
   "source": [
    "%begin theorems"
   ]
  },
  {
   "cell_type": "code",
   "execution_count": null,
   "metadata": {},
   "outputs": [],
   "source": [
    "########## COMMENTS ####################################################\n",
    "########## CODE     ###########################################################"
   ]
  },
  {
   "cell_type": "code",
   "execution_count": null,
   "metadata": {},
   "outputs": [],
   "source": [
    "SurfaceCode(_n)"
   ]
  },
  {
   "cell_type": "code",
   "execution_count": null,
   "metadata": {},
   "outputs": [],
   "source": [
    "LogicalHadamard(i, SurfaceCode(_n))"
   ]
  },
  {
   "cell_type": "code",
   "execution_count": null,
   "metadata": {},
   "outputs": [],
   "source": [
    "RoughBoundaryA(LogicalHadamard(i, SurfaceCode(_n)))"
   ]
  },
  {
   "cell_type": "code",
   "execution_count": null,
   "metadata": {},
   "outputs": [],
   "source": [
    "RoughBoundaryB(LogicalHadamard(i, SurfaceCode(_n)))"
   ]
  },
  {
   "cell_type": "code",
   "execution_count": null,
   "metadata": {},
   "outputs": [],
   "source": [
    "ManhattanDistance(p, q)"
   ]
  },
  {
   "cell_type": "code",
   "execution_count": null,
   "metadata": {},
   "outputs": [],
   "source": [
    "from proveit.physics.quantum.QEC import _rba, _rbb"
   ]
  },
  {
   "cell_type": "markdown",
   "metadata": {},
   "source": [
    "### Defining the Rough and Smooth Boundary Points\n",
    "\n",
    "Naming conventions are still in flux."
   ]
  },
  {
   "cell_type": "code",
   "execution_count": null,
   "metadata": {},
   "outputs": [],
   "source": [
    "rough_boundary_pts_A_i_1_to_n_minus_1 = (\n",
    "        Forall(i, Equals(RoughBoundaryA(LogicalHadamard(i, SurfaceCode(_n))),\n",
    "                  _rba\n",
    "        ), domain = Interval(one, subtract(_n, one))\n",
    "        )\n",
    ")"
   ]
  },
  {
   "cell_type": "code",
   "execution_count": null,
   "metadata": {},
   "outputs": [],
   "source": [
    "rough_boundary_pts_B_i_1_to_n_minus_2 = (\n",
    "        Forall(i, Equals(RoughBoundaryB(LogicalHadamard(i, SurfaceCode(_n))),\n",
    "                  _rbb\n",
    "        ), domain = Interval(one, subtract(_n, two))\n",
    "        )\n",
    ")"
   ]
  },
  {
   "cell_type": "code",
   "execution_count": null,
   "metadata": {},
   "outputs": [],
   "source": [
    "from proveit.physics.quantum.QEC import _rbb_n_minus_1\n",
    "rough_boundary_pts_B_i_n_minus_1 = (\n",
    "        Forall(i, Equals(RoughBoundaryB(LogicalHadamard(i, SurfaceCode(_n))),\n",
    "                  _rbb_n_minus_1\n",
    "        ), domain = Interval(subtract(_n, one), subtract(_n, one))\n",
    "        )\n",
    ")"
   ]
  },
  {
   "cell_type": "code",
   "execution_count": null,
   "metadata": {},
   "outputs": [],
   "source": [
    "from proveit.physics.quantum.QEC import _smooth_boundary_pts_north_west\n",
    "smooth_boundary_pts_north_west = (\n",
    "        Forall(i, Equals(SmoothBoundaryA(LogicalHadamard(i, SurfaceCode(_n))),\n",
    "                  _smooth_boundary_pts_north_west\n",
    "        ), domain = Interval(one, subtract(_n, one))\n",
    "        )\n",
    ")"
   ]
  },
  {
   "cell_type": "code",
   "execution_count": null,
   "metadata": {},
   "outputs": [],
   "source": [
    "from proveit.physics.quantum.QEC import _smooth_boundary_pts_south_east\n",
    "smooth_boundary_pts_south_east = (\n",
    "        Forall(i, Equals(SmoothBoundaryB(LogicalHadamard(i, SurfaceCode(_n))),\n",
    "                  _smooth_boundary_pts_south_east\n",
    "        ), domain = Interval(one, subtract(_n, one))\n",
    "        )\n",
    ")"
   ]
  },
  {
   "cell_type": "markdown",
   "metadata": {},
   "source": [
    "### Distances Between Rough Boundaries\n",
    "\n",
    "The Rough Boundaries consist of one set of points along the North & East, and another set of points along the South & West.\n",
    "\n",
    "The North & East subsets are most easily parameterized separately from each other, and the South & West subsets similarly. The $i = (n-1)$st step for the rough boundaries has a slightly different layout than the rough boundaries for steps $i \\in \\{1, 2, \\ldots, n-2\\}$, so we deal with the $(n-1)$st step separately.\n",
    "\n",
    "We proceed then to prove 4 separate distance bounds (distances from East to West, from North to South, from East to South, and from North to West) to determine the overall distance bound from one rough boundary to the other rough boundary, for Hadamard steps $i \\in \\{1, 2, \\ldots, n-2\\}$.\n",
    "\n",
    "At step $i = (n-1)$, we no longer have a West subset for rough boundary $B$ and the South subset for rough boundary $B$ requires a new parameterization. The analysis then proceeds with 2 separate proofs of distance bounds (distances from North to South and distances from East to South)."
   ]
  },
  {
   "cell_type": "markdown",
   "metadata": {},
   "source": [
    "#### Rough Boundaries: East–West Distance for Hadamard step $i \\in \\{1, 2, \\ldots, n-2\\}$"
   ]
  },
  {
   "cell_type": "code",
   "execution_count": null,
   "metadata": {},
   "outputs": [],
   "source": [
    "from proveit.physics.quantum.QEC import _rba1, _rbb1\n",
    "d_ge_n_east_west_n_minus_2 = (\n",
    "    Forall(i,\n",
    "           Forall((a, b),\n",
    "                  greater_eq(ManhattanDistance(a, b), _n),\n",
    "                  domains = [_rba1, _rbb1]),\n",
    "           domain = Interval(one, subtract(_n, two)))\n",
    ")"
   ]
  },
  {
   "cell_type": "markdown",
   "metadata": {},
   "source": [
    "#### Rough Boundaries: North-South Distance for Hadamard step $i \\in \\{1, 2, \\ldots, n-2\\}$"
   ]
  },
  {
   "cell_type": "code",
   "execution_count": null,
   "metadata": {},
   "outputs": [],
   "source": [
    "from proveit.physics.quantum.QEC import _rba2, _rbb2\n",
    "d_ge_n_north_south_n_minus_2 = (\n",
    "    Forall(i,\n",
    "           Forall((a, b),\n",
    "                  greater_eq(ManhattanDistance(a, b), _n),\n",
    "                  domains = [_rba2, _rbb2]),\n",
    "           domain = Interval(one, subtract(_n, two)))\n",
    ")"
   ]
  },
  {
   "cell_type": "markdown",
   "metadata": {},
   "source": [
    "#### Rough Boundaries: East-South Distance for Hadamard step $i \\in \\{1, 2, \\ldots, n-2\\}$"
   ]
  },
  {
   "cell_type": "code",
   "execution_count": null,
   "metadata": {},
   "outputs": [],
   "source": [
    "d_ge_n_east_south_n_minus_2 = (\n",
    "    Forall(i,\n",
    "           Forall((a, b),\n",
    "                  greater_eq(ManhattanDistance(a, b), _n),\n",
    "                  domains = [_rba1, _rbb2]),\n",
    "           domain = Interval(one, subtract(_n, two)))\n",
    ")"
   ]
  },
  {
   "cell_type": "markdown",
   "metadata": {},
   "source": [
    "#### Rough Boundaries: North-West Distance for Hadamard step $i \\in \\{1, 2, \\ldots, n-2\\}$"
   ]
  },
  {
   "cell_type": "code",
   "execution_count": null,
   "metadata": {},
   "outputs": [],
   "source": [
    "d_ge_n_north_west_n_minus_2 = (\n",
    "    Forall(i,\n",
    "           Forall((a, b),\n",
    "                  greater_eq(ManhattanDistance(a, b), _n),\n",
    "                  domains = [_rba2, _rbb1]),\n",
    "           domain = Interval(one, subtract(_n, two)))\n",
    ")"
   ]
  },
  {
   "cell_type": "markdown",
   "metadata": {},
   "source": [
    "#### Rough Boundaries: North–South Distance for Hadamard step $i = n-1$"
   ]
  },
  {
   "cell_type": "code",
   "execution_count": null,
   "metadata": {},
   "outputs": [],
   "source": [
    "from proveit.physics.quantum.QEC import _rba2, _rbb_n_minus_1\n",
    "d_ge_n_north_south_n_minus_1 =(\n",
    "    Forall(i,\n",
    "           Forall((a, b),\n",
    "                  greater_eq(ManhattanDistance(a, b), _n),\n",
    "                  domains = [_rba2, _rbb_n_minus_1]),\n",
    "           domain = Interval(subtract(_n, one), subtract(_n, one)))\n",
    ")"
   ]
  },
  {
   "cell_type": "markdown",
   "metadata": {},
   "source": [
    "#### Rough Boundaries: East–South Distance for Hadamard step $i = n-1$"
   ]
  },
  {
   "cell_type": "code",
   "execution_count": null,
   "metadata": {},
   "outputs": [],
   "source": [
    "from proveit.physics.quantum.QEC import _rba1, _rbb_n_minus_1\n",
    "d_ge_n_east_south_n_minus_1 = (\n",
    "    Forall(i,\n",
    "           Forall((a, b),\n",
    "                  greater_eq(ManhattanDistance(a, b), _n),\n",
    "                  domains = [_rba1, _rbb_n_minus_1]),\n",
    "           domain = Interval(subtract(_n, one), subtract(_n, one)))\n",
    ")"
   ]
  },
  {
   "cell_type": "markdown",
   "metadata": {},
   "source": [
    "#### Rough Boundaries: Overall Rough Boundary Distances for Hadamard steps $i \\in \\{1, 2, \\ldots, n-2\\}$"
   ]
  },
  {
   "cell_type": "code",
   "execution_count": null,
   "metadata": {},
   "outputs": [],
   "source": [
    "min_rb_distance_n_minus_2 = (\n",
    "Forall(\n",
    "    i,\n",
    "    Forall(\n",
    "        (a, b),\n",
    "        greater_eq(ManhattanDistance(a, b), _n),\n",
    "        domains = [RoughBoundaryA(LogicalHadamard(i, SurfaceCode(_n))), RoughBoundaryB(LogicalHadamard(i, SurfaceCode(_n)))]\n",
    "    ),\n",
    "    domain = Interval(one, subtract(_n, two))\n",
    "))"
   ]
  },
  {
   "cell_type": "markdown",
   "metadata": {},
   "source": [
    "#### Rough Boundaries: Overall Rough Boundary Distances for Hadamard step $i = n-1$."
   ]
  },
  {
   "cell_type": "code",
   "execution_count": null,
   "metadata": {},
   "outputs": [],
   "source": [
    "min_rb_distance_i_eq_n_minus_1 = (\n",
    "Forall(\n",
    "    i,\n",
    "    Forall(\n",
    "        (a, b),\n",
    "        greater_eq(ManhattanDistance(a, b), _n),\n",
    "        domains = [RoughBoundaryA(LogicalHadamard(i, SurfaceCode(_n))), RoughBoundaryB(LogicalHadamard(i, SurfaceCode(_n)))]\n",
    "    ),\n",
    "    domain = Interval(subtract(_n, one), subtract(_n, one))\n",
    "))"
   ]
  },
  {
   "cell_type": "markdown",
   "metadata": {},
   "source": [
    "#### Rough Boundaries: Overall Rough Boundary Distances for Hadamard step $i \\in \\{1, \\ldots, n-1\\}$."
   ]
  },
  {
   "cell_type": "code",
   "execution_count": null,
   "metadata": {},
   "outputs": [],
   "source": [
    "min_rb_distance = (\n",
    "Forall(\n",
    "    i,\n",
    "    Forall(\n",
    "        (a, b),\n",
    "        greater_eq(ManhattanDistance(a, b), _n),\n",
    "        domains = [RoughBoundaryA(LogicalHadamard(i, SurfaceCode(_n))), RoughBoundaryB(LogicalHadamard(i, SurfaceCode(_n)))]\n",
    "    ),\n",
    "    domain = Interval(one, subtract(_n, one))\n",
    "))"
   ]
  },
  {
   "cell_type": "markdown",
   "metadata": {},
   "source": [
    "### Distances Between Smooth Boundaries\n",
    "\n",
    "The Smooth Boundaries are represented by one set of points $A$ along the North & West, and another set of points $B$ along the South & East.\n",
    "\n",
    "The North & West subsets are most easily parameterized separately from each other, and the South & East subsets similarly. These paramterizations hold for Hadamard steps $i \\in \\{1, 2, \\ldots, n-1\\}$ (and thus, in contrast to our analysis for the Rough Boundaries, we <u>don't</u> need a special treatment of the case for $i=n-1$).\n",
    "\n",
    "We proceed then to prove 4 separate distance bounds (distances from West to East, from North to South, from West to South, and from North to East) to determine the overall distance bound from one smooth boundary to the other smooth boundary, for Hadamard steps $i \\in \\{1, 2, \\ldots, n-1\\}$.\n",
    "\n",
    "We then combine the results of those four separate sub-theorems into a single smooth boundary theorem."
   ]
  },
  {
   "cell_type": "markdown",
   "metadata": {},
   "source": [
    "#### Smooth Boundaries: North-South Distance for Hadamard step $i \\in \\{1, 2, \\ldots, n-1\\}$"
   ]
  },
  {
   "cell_type": "code",
   "execution_count": null,
   "metadata": {},
   "outputs": [],
   "source": [
    "from proveit.physics.quantum.QEC import _smooth_boundary_pts_north, _smooth_boundary_pts_south\n",
    "d_ge_n_smooth_north_south_i_1_to_n_minus_1 = (\n",
    "    Forall(i,\n",
    "           Forall((a, b),\n",
    "                  greater_eq(ManhattanDistance(a, b), _n),\n",
    "                  domains = [_smooth_boundary_pts_north, _smooth_boundary_pts_south]),\n",
    "           domain = Interval(one, subtract(_n, one)))\n",
    ")"
   ]
  },
  {
   "cell_type": "markdown",
   "metadata": {},
   "source": [
    "#### Smooth Boundaries: West-East Distance for Hadamard step $i \\in \\{1, 2, \\ldots, n-1\\}$"
   ]
  },
  {
   "cell_type": "code",
   "execution_count": null,
   "metadata": {},
   "outputs": [],
   "source": [
    "from proveit.physics.quantum.QEC import _smooth_boundary_pts_west, _smooth_boundary_pts_east\n",
    "d_ge_n_smooth_west_east_i_1_to_n_minus_1 = (\n",
    "    Forall(i,\n",
    "           Forall((a, b),\n",
    "                  greater_eq(ManhattanDistance(a, b), _n),\n",
    "                  domains = [_smooth_boundary_pts_west, _smooth_boundary_pts_east]),\n",
    "           domain = Interval(one, subtract(_n, one)))\n",
    ")"
   ]
  },
  {
   "cell_type": "markdown",
   "metadata": {},
   "source": [
    "#### Smooth Boundaries: North-East Distance for Hadamard step $i \\in \\{1, 2, \\ldots, n-1\\}$"
   ]
  },
  {
   "cell_type": "code",
   "execution_count": null,
   "metadata": {},
   "outputs": [],
   "source": [
    "from proveit.physics.quantum.QEC import _smooth_boundary_pts_north, _smooth_boundary_pts_east\n",
    "d_ge_n_smooth_north_east_i_1_to_n_minus_1 = (\n",
    "    Forall(i,\n",
    "           Forall((a, b),\n",
    "                  greater_eq(ManhattanDistance(a, b), _n),\n",
    "                  domains = [_smooth_boundary_pts_north, _smooth_boundary_pts_east]),\n",
    "           domain = Interval(one, subtract(_n, one)))\n",
    ")"
   ]
  },
  {
   "cell_type": "markdown",
   "metadata": {},
   "source": [
    "#### Smooth Boundaries: West-South Distance for Hadamard step $i \\in \\{1, 2, \\ldots, n-1\\}$"
   ]
  },
  {
   "cell_type": "code",
   "execution_count": null,
   "metadata": {},
   "outputs": [],
   "source": [
    "from proveit.physics.quantum.QEC import _smooth_boundary_pts_west, _smooth_boundary_pts_south\n",
    "d_ge_n_smooth_west_south_i_1_to_n_minus_1 = (\n",
    "    Forall(i,\n",
    "           Forall((a, b),\n",
    "                  greater_eq(ManhattanDistance(a, b), _n),\n",
    "                  domains = [_smooth_boundary_pts_west, _smooth_boundary_pts_south]),\n",
    "           domain = Interval(one, subtract(_n, one)))\n",
    ")"
   ]
  },
  {
   "cell_type": "markdown",
   "metadata": {},
   "source": [
    "#### Smooth Boundaries: Overall Smooth Boundary Distances for Hadamard steps $i \\in \\{1, 2, \\ldots, n-1\\}$"
   ]
  },
  {
   "cell_type": "code",
   "execution_count": null,
   "metadata": {},
   "outputs": [],
   "source": [
    "min_sb_distance = (\n",
    "Forall(\n",
    "    i,\n",
    "    Forall(\n",
    "        (a, b),\n",
    "        greater_eq(ManhattanDistance(a, b), _n),\n",
    "        domains = [SmoothBoundaryA(LogicalHadamard(i, SurfaceCode(_n))), SmoothBoundaryB(LogicalHadamard(i, SurfaceCode(_n)))]\n",
    "    ),\n",
    "    domain = Interval(one, subtract(_n, one))\n",
    "))"
   ]
  },
  {
   "cell_type": "code",
   "execution_count": null,
   "metadata": {},
   "outputs": [],
   "source": []
  },
  {
   "cell_type": "code",
   "execution_count": null,
   "metadata": {},
   "outputs": [],
   "source": [
    "%end theorems"
   ]
  }
 ],
 "metadata": {
  "kernelspec": {
   "display_name": "Python 3",
   "language": "python",
   "name": "python3"
  }
 },
 "nbformat": 4,
 "nbformat_minor": 0
}
