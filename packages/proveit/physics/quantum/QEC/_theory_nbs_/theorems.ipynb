{
 "cells": [
  {
   "cell_type": "markdown",
   "metadata": {},
   "source": [
    "Theorems (or conjectures) for the theory of <a class=\"ProveItLink\" href=\"theory.ipynb\">proveit.physics.quantum.QEC</a>\n",
    "========"
   ]
  },
  {
   "cell_type": "code",
   "execution_count": null,
   "metadata": {},
   "outputs": [],
   "source": [
    "import proveit\n",
    "# Prepare this notebook for defining the theorems of a theory:\n",
    "%theorems_notebook # Keep this at the top following 'import proveit'.\n",
    "from proveit import a, b, i, p, q\n",
    "from proveit.logic import Equals, Forall\n",
    "from proveit.logic.sets import SetOfAll\n",
    "from proveit.numbers import one, two, greater_eq, Interval, subtract\n",
    "from proveit.physics.quantum.QEC import (\n",
    "        _n, LogicalHadamard, ManhattanDistance, RoughBoundaryA, RoughBoundaryB,\n",
    "        SmoothBoundaryA, SmoothBoundaryB, SurfaceCode)\n",
    "# and some convenient pre-defined expressions in common.ipynb notebook:\n",
    "from proveit.physics.quantum.QEC import ell_prime, j_prime, _rba1, _rbb1, _rba2, _rbb2"
   ]
  },
  {
   "cell_type": "code",
   "execution_count": null,
   "metadata": {},
   "outputs": [],
   "source": [
    "%begin theorems"
   ]
  },
  {
   "cell_type": "code",
   "execution_count": null,
   "metadata": {},
   "outputs": [],
   "source": [
    "########## COMMENTS ####################################################\n",
    "########## CODE     ###########################################################"
   ]
  },
  {
   "cell_type": "code",
   "execution_count": null,
   "metadata": {},
   "outputs": [],
   "source": [
    "SurfaceCode(_n)"
   ]
  },
  {
   "cell_type": "code",
   "execution_count": null,
   "metadata": {},
   "outputs": [],
   "source": [
    "LogicalHadamard(i, SurfaceCode(_n))"
   ]
  },
  {
   "cell_type": "code",
   "execution_count": null,
   "metadata": {},
   "outputs": [],
   "source": [
    "RoughBoundaryA(LogicalHadamard(i, SurfaceCode(_n)))"
   ]
  },
  {
   "cell_type": "code",
   "execution_count": null,
   "metadata": {},
   "outputs": [],
   "source": [
    "RoughBoundaryB(LogicalHadamard(i, SurfaceCode(_n)))"
   ]
  },
  {
   "cell_type": "code",
   "execution_count": null,
   "metadata": {},
   "outputs": [],
   "source": [
    "ManhattanDistance(p, q)"
   ]
  },
  {
   "cell_type": "code",
   "execution_count": null,
   "metadata": {},
   "outputs": [],
   "source": [
    "from proveit.physics.quantum.QEC import _rba, _rbb"
   ]
  },
  {
   "cell_type": "markdown",
   "metadata": {},
   "source": [
    "### Defining the Rough and Smooth Boundary Points\n",
    "\n",
    "Naming conventions are still in flux."
   ]
  },
  {
   "cell_type": "code",
   "execution_count": null,
   "metadata": {},
   "outputs": [],
   "source": [
    "rough_boundary_pts_A_i_1_to_n_minus_1 = (\n",
    "        Forall(i, Equals(RoughBoundaryA(LogicalHadamard(i, SurfaceCode(_n))),\n",
    "                  _rba\n",
    "        ), domain = Interval(one, subtract(_n, one))\n",
    "        )\n",
    ")"
   ]
  },
  {
   "cell_type": "code",
   "execution_count": null,
   "metadata": {},
   "outputs": [],
   "source": [
    "rough_boundary_pts_B_i_1_to_n_minus_2 = (\n",
    "        Forall(i, Equals(RoughBoundaryB(LogicalHadamard(i, SurfaceCode(_n))),\n",
    "                  _rbb\n",
    "        ), domain = Interval(one, subtract(_n, two))\n",
    "        )\n",
    ")"
   ]
  },
  {
   "cell_type": "code",
   "execution_count": null,
   "metadata": {},
   "outputs": [],
   "source": [
    "from proveit.physics.quantum.QEC import _rbb_n_minus_1\n",
    "rough_boundary_pts_B_i_n_minus_1 = (\n",
    "        Forall(i, Equals(RoughBoundaryB(LogicalHadamard(i, SurfaceCode(_n))),\n",
    "                  _rbb_n_minus_1\n",
    "        ), domain = Interval(subtract(_n, one), subtract(_n, one))\n",
    "        )\n",
    ")"
   ]
  },
  {
   "cell_type": "code",
   "execution_count": null,
   "metadata": {},
   "outputs": [],
   "source": [
    "from proveit.physics.quantum.QEC import _smooth_boundary_pts_north_west\n",
    "smooth_boundary_pts_north_west = (\n",
    "        Forall(i, Equals(SmoothBoundaryA(LogicalHadamard(i, SurfaceCode(_n))),\n",
    "                  _smooth_boundary_pts_north_west\n",
    "        ), domain = Interval(one, subtract(_n, one))\n",
    "        )\n",
    ")"
   ]
  },
  {
   "cell_type": "code",
   "execution_count": null,
   "metadata": {},
   "outputs": [],
   "source": [
    "from proveit.physics.quantum.QEC import _smooth_boundary_pts_south_east\n",
    "smooth_boundary_pts_south_east = (\n",
    "        Forall(i, Equals(SmoothBoundaryB(LogicalHadamard(i, SurfaceCode(_n))),\n",
    "                  _smooth_boundary_pts_south_east\n",
    "        ), domain = Interval(one, subtract(_n, one))\n",
    "        )\n",
    ")"
   ]
  },
  {
   "cell_type": "markdown",
   "metadata": {},
   "source": [
    "### Distances Between Rough Boundaries\n",
    "\n",
    "The Rough Boundaries consist of one set of points along the North & East, and another set of points along the South & West.\n",
    "\n",
    "The North & East subsets are most easily parameterized separately from each other, and the South & West subsets similarly. The $i = (n-1)$st step for the rough boundaries has a slightly different layout than the rough boundaries for steps $i \\in \\{1, 2, \\ldots, n-2\\}$, so we deal with the $(n-1)$st step separately.\n",
    "\n",
    "We proceed then to prove 4 separate distance bounds (distances from East to West, from North to South, from East to South, and from North to West) to determine the overall distance bound from one rough boundary to the other rough boundary, for Hadamard steps $i \\in \\{1, 2, \\ldots, n-2\\}$.\n",
    "\n",
    "At step $i = (n-1)$, we no longer have a West subset for rough boundary $B$ and the South subset for rough boundary $B$ requires a new parameterization. The analysis then proceeds with 2 separate proofs of distance bounds (distances from North to South and distances from East to South)."
   ]
  },
  {
   "cell_type": "markdown",
   "metadata": {},
   "source": [
    "#### Rough Boundaries: East–West Distance for Hadamard step $i \\in \\{1, 2, \\ldots, n-2\\}$"
   ]
  },
  {
   "cell_type": "code",
   "execution_count": null,
   "metadata": {},
   "outputs": [],
   "source": [
    "d_ge_n_east_west_n_minus_2 = (\n",
    "    Forall(i,\n",
    "           Forall((a, b),\n",
    "                  greater_eq(ManhattanDistance(a, b), _n),\n",
    "                  domains = [_rba1, _rbb1]),\n",
    "           domain = Interval(one, subtract(_n, two)))\n",
    ")"
   ]
  },
  {
   "cell_type": "markdown",
   "metadata": {},
   "source": [
    "#### Rough Boundaries: North-South Distance for Hadamard step $i \\in \\{1, 2, \\ldots, n-2\\}$"
   ]
  },
  {
   "cell_type": "code",
   "execution_count": null,
   "metadata": {},
   "outputs": [],
   "source": [
    "d_ge_n_north_south_n_minus_2 = (\n",
    "    Forall(i,\n",
    "           Forall((a, b),\n",
    "                  greater_eq(ManhattanDistance(a, b), _n),\n",
    "                  domains = [_rba2, _rbb2]),\n",
    "           domain = Interval(one, subtract(_n, two)))\n",
    ")"
   ]
  },
  {
   "cell_type": "markdown",
   "metadata": {},
   "source": [
    "#### Rough Boundaries: East-South Distance for Hadamard step $i \\in \\{1, 2, \\ldots, n-2\\}$"
   ]
  },
  {
   "cell_type": "code",
   "execution_count": null,
   "metadata": {},
   "outputs": [],
   "source": [
    "d_ge_n_east_south_n_minus_2 = (\n",
    "    Forall(i,\n",
    "           Forall((a, b),\n",
    "                  greater_eq(ManhattanDistance(a, b), _n),\n",
    "                  domains = [_rba1, _rbb2]),\n",
    "           domain = Interval(one, subtract(_n, two)))\n",
    ")"
   ]
  },
  {
   "cell_type": "markdown",
   "metadata": {},
   "source": [
    "#### Rough Boundaries: North-West Distance for Hadamard step $i \\in \\{1, 2, \\ldots, n-2\\}$"
   ]
  },
  {
   "cell_type": "code",
   "execution_count": null,
   "metadata": {},
   "outputs": [],
   "source": [
    "d_ge_n_north_west_n_minus_2 = (\n",
    "    Forall(i,\n",
    "           Forall((a, b),\n",
    "                  greater_eq(ManhattanDistance(a, b), _n),\n",
    "                  domains = [_rba2, _rbb1]),\n",
    "           domain = Interval(one, subtract(_n, two)))\n",
    ")"
   ]
  },
  {
   "cell_type": "markdown",
   "metadata": {},
   "source": [
    "#### Rough Boundaries: North–South Distance for Hadamard step $i = n-1$"
   ]
  },
  {
   "cell_type": "code",
   "execution_count": null,
   "metadata": {},
   "outputs": [],
   "source": [
    "from proveit.physics.quantum.QEC import _rba2, _rbb_n_minus_1\n",
    "d_ge_n_north_south_n_minus_1 =(\n",
    "    Forall(i,\n",
    "           Forall((a, b),\n",
    "                  greater_eq(ManhattanDistance(a, b), _n),\n",
    "                  domains = [_rba2, _rbb_n_minus_1]),\n",
    "           domain = Interval(subtract(_n, one), subtract(_n, one)))\n",
    ")"
   ]
  },
  {
   "cell_type": "markdown",
   "metadata": {},
   "source": [
    "#### Rough Boundaries: East–South Distance for Hadamard step $i = n-1$"
   ]
  },
  {
   "cell_type": "code",
   "execution_count": null,
   "metadata": {},
   "outputs": [],
   "source": [
    "from proveit.physics.quantum.QEC import _rba1, _rbb_n_minus_1\n",
    "d_ge_n_east_south_n_minus_1 = (\n",
    "    Forall(i,\n",
    "           Forall((a, b),\n",
    "                  greater_eq(ManhattanDistance(a, b), _n),\n",
    "                  domains = [_rba1, _rbb_n_minus_1]),\n",
    "           domain = Interval(subtract(_n, one), subtract(_n, one)))\n",
    ")"
   ]
  },
  {
   "cell_type": "markdown",
   "metadata": {},
   "source": [
    "#### Rough Boundaries: Overall Rough Boundary Distances for Hadamard steps $i \\in \\{1, 2, \\ldots, n-2\\}$"
   ]
  },
  {
   "cell_type": "code",
   "execution_count": null,
   "metadata": {},
   "outputs": [],
   "source": [
    "min_rb_distance_n_minus_2 = (\n",
    "Forall(\n",
    "    i,\n",
    "    Forall(\n",
    "        (a, b),\n",
    "        greater_eq(ManhattanDistance(a, b), _n),\n",
    "        domains = [RoughBoundaryA(LogicalHadamard(i, SurfaceCode(_n))), RoughBoundaryB(LogicalHadamard(i, SurfaceCode(_n)))]\n",
    "    ),\n",
    "    domain = Interval(one, subtract(_n, two))\n",
    "))"
   ]
  },
  {
   "cell_type": "markdown",
   "metadata": {},
   "source": [
    "#### Rough Boundaries: Overall Rough Boundary Distances for Hadamard step $i = n-1$."
   ]
  },
  {
   "cell_type": "code",
   "execution_count": null,
   "metadata": {},
   "outputs": [],
   "source": [
    "min_rb_distance_i_eq_n_minus_1 = (\n",
    "Forall(\n",
    "    i,\n",
    "    Forall(\n",
    "        (a, b),\n",
    "        greater_eq(ManhattanDistance(a, b), _n),\n",
    "        domains = [RoughBoundaryA(LogicalHadamard(i, SurfaceCode(_n))), RoughBoundaryB(LogicalHadamard(i, SurfaceCode(_n)))]\n",
    "    ),\n",
    "    domain = Interval(subtract(_n, one), subtract(_n, one))\n",
    "))"
   ]
  },
  {
   "cell_type": "markdown",
   "metadata": {},
   "source": [
    "#### Rough Boundaries: Overall Rough Boundary Distances for Hadamard step $i \\in \\{1, \\ldots, n-1\\}$."
   ]
  },
  {
   "cell_type": "code",
   "execution_count": null,
   "metadata": {},
   "outputs": [],
   "source": [
    "min_rb_distance = (\n",
    "Forall(\n",
    "    i,\n",
    "    Forall(\n",
    "        (a, b),\n",
    "        greater_eq(ManhattanDistance(a, b), _n),\n",
    "        domains = [RoughBoundaryA(LogicalHadamard(i, SurfaceCode(_n))), RoughBoundaryB(LogicalHadamard(i, SurfaceCode(_n)))]\n",
    "    ),\n",
    "    domain = Interval(one, subtract(_n, one))\n",
    "))"
   ]
  },
  {
   "cell_type": "markdown",
   "metadata": {},
   "source": [
    "### Distances Between Smooth Boundaries\n",
    "\n",
    "The Smooth Boundaries are represented by one set of points $A$ along the North & West, and another set of points $B$ along the South & East.\n",
    "\n",
    "The North & West subsets are most easily parameterized separately from each other, and the South & East subsets similarly. These paramterizations hold for Hadamard steps $i \\in \\{1, 2, \\ldots, n-1\\}$ (and thus, in contrast to our analysis for the Rough Boundaries, we <u>don't</u> need a special treatment of the case for $i=n-1$).\n",
    "\n",
    "We proceed then to prove 4 separate distance bounds (distances from West to East, from North to South, from West to South, and from North to East) to determine the overall distance bound from one smooth boundary to the other smooth boundary, for Hadamard steps $i \\in \\{1, 2, \\ldots, n-1\\}$.\n",
    "\n",
    "We then combine the results of those four separate sub-theorems into a single smooth boundary theorem."
   ]
  },
  {
   "cell_type": "markdown",
   "metadata": {},
   "source": [
    "#### Smooth Boundaries: North-South Distance for Hadamard step $i \\in \\{1, 2, \\ldots, n-1\\}$"
   ]
  },
  {
   "cell_type": "code",
   "execution_count": null,
   "metadata": {},
   "outputs": [],
   "source": [
    "from proveit.physics.quantum.QEC import _smooth_boundary_pts_north, _smooth_boundary_pts_south\n",
    "d_ge_n_smooth_north_south_i_1_to_n_minus_1 = (\n",
    "    Forall(i,\n",
    "           Forall((a, b),\n",
    "                  greater_eq(ManhattanDistance(a, b), _n),\n",
    "                  domains = [_smooth_boundary_pts_north, _smooth_boundary_pts_south]),\n",
    "           domain = Interval(one, subtract(_n, one)))\n",
    ")"
   ]
  },
  {
   "cell_type": "markdown",
   "metadata": {},
   "source": [
    "#### Smooth Boundaries: West-East Distance for Hadamard step $i \\in \\{1, 2, \\ldots, n-1\\}$"
   ]
  },
  {
   "cell_type": "code",
   "execution_count": null,
   "metadata": {},
   "outputs": [],
   "source": [
    "from proveit.physics.quantum.QEC import _smooth_boundary_pts_west, _smooth_boundary_pts_east\n",
    "d_ge_n_smooth_west_east_i_1_to_n_minus_1 = (\n",
    "    Forall(i,\n",
    "           Forall((a, b),\n",
    "                  greater_eq(ManhattanDistance(a, b), _n),\n",
    "                  domains = [_smooth_boundary_pts_west, _smooth_boundary_pts_east]),\n",
    "           domain = Interval(one, subtract(_n, one)))\n",
    ")"
   ]
  },
  {
   "cell_type": "markdown",
   "metadata": {},
   "source": [
    "#### Smooth Boundaries: North-East Distance for Hadamard step $i \\in \\{1, 2, \\ldots, n-1\\}$"
   ]
  },
  {
   "cell_type": "code",
   "execution_count": null,
   "metadata": {},
   "outputs": [],
   "source": [
    "from proveit.physics.quantum.QEC import _smooth_boundary_pts_north, _smooth_boundary_pts_east\n",
    "d_ge_n_smooth_north_east_i_1_to_n_minus_1 = (\n",
    "    Forall(i,\n",
    "           Forall((a, b),\n",
    "                  greater_eq(ManhattanDistance(a, b), _n),\n",
    "                  domains = [_smooth_boundary_pts_north, _smooth_boundary_pts_east]),\n",
    "           domain = Interval(one, subtract(_n, one)))\n",
    ")"
   ]
  },
  {
   "cell_type": "markdown",
   "metadata": {},
   "source": [
    "#### Smooth Boundaries: West-South Distance for Hadamard step $i \\in \\{1, 2, \\ldots, n-1\\}$"
   ]
  },
  {
   "cell_type": "code",
   "execution_count": null,
   "metadata": {},
   "outputs": [],
   "source": [
    "from proveit.physics.quantum.QEC import _smooth_boundary_pts_west, _smooth_boundary_pts_south\n",
    "d_ge_n_smooth_west_south_i_1_to_n_minus_1 = (\n",
    "    Forall(i,\n",
    "           Forall((a, b),\n",
    "                  greater_eq(ManhattanDistance(a, b), _n),\n",
    "                  domains = [_smooth_boundary_pts_west, _smooth_boundary_pts_south]),\n",
    "           domain = Interval(one, subtract(_n, one)))\n",
    ")"
   ]
  },
  {
   "cell_type": "markdown",
   "metadata": {},
   "source": [
    "#### Smooth Boundaries: Overall Smooth Boundary Distances for Hadamard steps $i \\in \\{1, 2, \\ldots, n-1\\}$"
   ]
  },
  {
   "cell_type": "code",
   "execution_count": null,
   "metadata": {},
   "outputs": [],
   "source": [
    "min_sb_distance = (\n",
    "Forall(\n",
    "    i,\n",
    "    Forall(\n",
    "        (a, b),\n",
    "        greater_eq(ManhattanDistance(a, b), _n),\n",
    "        domains = [SmoothBoundaryA(LogicalHadamard(i, SurfaceCode(_n))), SmoothBoundaryB(LogicalHadamard(i, SurfaceCode(_n)))]\n",
    "    ),\n",
    "    domain = Interval(one, subtract(_n, one))\n",
    "))"
   ]
  },
  {
   "cell_type": "code",
   "execution_count": null,
   "metadata": {},
   "outputs": [],
   "source": []
  },
  {
   "cell_type": "markdown",
   "metadata": {},
   "source": [
    "#### Z Error Chains and Associated Syndromes\n",
    "\n",
    "X-Error chains will be analogous, but are postponed for now."
   ]
  },
  {
   "cell_type": "code",
   "execution_count": null,
   "metadata": {},
   "outputs": [],
   "source": [
    "from proveit import d, i, k, n, v, E, G, K, S, X, Variable\n",
    "from proveit.logic import And, EmptySet, Equals, Iff, Implies, InSet, NotInSet\n",
    "from proveit.logic.sets import Disjoint, Partitions, Set, Union\n",
    "from proveit.numbers import three, NaturalPos, IntegerEven, IntegerOdd\n",
    "from proveit.graphs import Degree, Vertices\n",
    "from proveit.physics.quantum.QEC import (\n",
    "        BoundaryVertices, GraphOf, Errors, InteriorVertices, KitaevPlanarSC, _n, SC, SiteSyndrome,\n",
    "        Stabilizer, SurfaceCode, ZErrorChains)"
   ]
  },
  {
   "cell_type": "markdown",
   "metadata": {},
   "source": [
    "In general, the set of a vertices of a graph $G$ is partitioned into `InteriorVertices(G)` and `BoundaryVertices(G)`. In the context of a surface code $S$ with a $Z$-error chain $E$, we know that every vertex of $\\texttt{Graph}(E, S)$, the graph of $E$ in the context $S$, will be either an interior or a boundary vertex (but not both). In fact, the type of error doesn't actually matter, so we can generalize this to any element $E \\in \\texttt{Errors}(S)$. Because the set of boundary vertices might actually be empty for a particular error, we can't literally use the concept of a partition, but we can simply make the disjunction claim.\n",
    "\n",
    "Question: Since the “rotation” process of the Hadamard transformation ends up constraining $n \\ge 3$ for the number of data qubits, should these theorems also be constrained to use $n \\ge 3$?"
   ]
  },
  {
   "cell_type": "code",
   "execution_count": null,
   "metadata": {},
   "outputs": [],
   "source": [
    "from proveit.logic.booleans import XOr"
   ]
  },
  {
   "cell_type": "code",
   "execution_count": null,
   "metadata": {},
   "outputs": [],
   "source": [
    "error_vertex_is_interior_xor_boundary = (\n",
    "Forall((n, k, d),\n",
    "Forall(K,\n",
    "Forall(E,\n",
    "Forall(v,\n",
    "       XOr(InSet(v, InteriorVertices(E, K)), InSet(v, BoundaryVertices(E, K))),\n",
    "domain = Vertices(GraphOf(E, K))),\n",
    "domain = Errors(K)),\n",
    "domain = KitaevPlanarSC(n, k, d)),\n",
    "domain = NaturalPos)\n",
    ")"
   ]
  },
  {
   "cell_type": "code",
   "execution_count": null,
   "metadata": {},
   "outputs": [],
   "source": [
    "# this one can probably be proven from the XOr theorem above; might not be needed\n",
    "vertices_as_disjoint_interior_and_boundary_sets = Forall((n, k, d),\n",
    "Forall((K, E), \n",
    "           And(Disjoint(InteriorVertices(E, K), BoundaryVertices(E, K)),\n",
    "               Equals(Union(InteriorVertices(E, K), BoundaryVertices(E, K)), Vertices(GraphOf(E, K)))),\n",
    "domains = [KitaevPlanarSC(n, k, d), Errors(K)]),\n",
    "domain = NaturalPos)"
   ]
  },
  {
   "cell_type": "code",
   "execution_count": null,
   "metadata": {},
   "outputs": [],
   "source": [
    "empty_site_syndrome_iff_all_even_interior_vertices = (\n",
    "Forall((n, k, d),\n",
    "Forall((K, E), \n",
    "           Iff(Equals(SiteSyndrome(E, K), EmptySet),\n",
    "           Forall(v, InSet(Degree(v, GraphOf(E, K)), IntegerEven), domain = InteriorVertices(E, K))),\n",
    "domains = [KitaevPlanarSC(n, k, d), ZErrorChains(K)]),\n",
    "domain = NaturalPos)\n",
    ")"
   ]
  },
  {
   "cell_type": "code",
   "execution_count": null,
   "metadata": {},
   "outputs": [],
   "source": [
    "all_even_vertices_implies_stabilizer = (\n",
    "Forall((n, k, d),\n",
    "Forall((K, E), \n",
    "           Implies(Forall(v, \n",
    "       InSet(Degree(v, GraphOf(E, K)), IntegerEven),\n",
    "       domain = Vertices(GraphOf(E, K))\n",
    "), InSet(E, Stabilizer(K))),\n",
    "domains = [KitaevPlanarSC(n, k, d), ZErrorChains(K)]),\n",
    "domain = NaturalPos)\n",
    ")"
   ]
  },
  {
   "cell_type": "code",
   "execution_count": null,
   "metadata": {},
   "outputs": [],
   "source": [
    "empty_syndrome_non_stabilizer_iff_odd_boundary_vertices = (\n",
    "Forall((n, k, d),\n",
    "Forall((K, E), \n",
    "       Iff(And(Equals(SiteSyndrome(E, K), EmptySet), NotInSet(E, Stabilizer(K))),\n",
    "           Forall(v,\n",
    "                  InSet(Degree(v, GraphOf(E, K)), IntegerOdd),\n",
    "                  domain = BoundaryVertices(E, K))),\n",
    "domains = [KitaevPlanarSC(n, k, d), ZErrorChains(K)]),\n",
    "domain = NaturalPos)\n",
    ")"
   ]
  },
  {
   "cell_type": "code",
   "execution_count": null,
   "metadata": {},
   "outputs": [],
   "source": []
  },
  {
   "cell_type": "markdown",
   "metadata": {},
   "source": [
    "Some misc and not-well-organized contemporaneous notes from project meeting w/WW (~ 8/25/25)\n",
    "\n",
    "Hadamard(i, SC(m, n)) is a member of class/set of “surface codes”? WW doesn't like this approach or way of thinking about, in part because we're trying to anticipate our desire to generalize beyond the code capacity model to the circuit model.\n",
    "\n",
    "or a more generalized notion of surface code, perhaps a sense of a set surface codes?\n",
    "\n",
    "what is it about the surface code, what is the structure of a surface code, that allows these theorems to be true.\n",
    "\n",
    "Invariants?\n",
    "\n",
    "(1) number of data qubits\n",
    "(2) number of measurement op qubits\n",
    "(3) under empty site-syndrome, interior vertices are even\n",
    "\n",
    "\n",
    "def of a stabilizer code? [[n, k ,d]] n = physic qbits, k = logical qbits, d = distance\n",
    "\n",
    "(1) defined by a set of stabilizer generators (e.g. sets of site and plaquette operators, imply locations of data qubits\n",
    "    X_{1}X_{2}X_{3}X_{4} => implies four data qubits 1, 2, 3, 4)\n",
    "(2) logical operators\n",
    "\n",
    "with those typically defined without reference to time or transformations.\n",
    "\n",
    "What we want to eventually talk about is: more generally in the circuit model a detector is a change in the measurement outcome. A specific error E induces a set of measurements to change\n",
    "\n",
    "model for this more general error? Is this possible? Union(a Pauli group operator on the data qubits, a Pauli group operator on the measurement qubits)\n",
    "\n",
    "in full generality, a surface code doesn't have to represent just a single logical qubit\n",
    "[[n, 1, d]]\n",
    "\n",
    "Codes(n, k, d)\n",
    "\n",
    "C in Codes(n, 1, d)\n",
    "\n",
    "What is this: Hadamard(i, C) is that also Codes(n, 1, d)?\n",
    "\n",
    "Kitaev-style planar code: smooth vs. rough boundaries\n",
    "define a set of Kitaev-style planar codes, codes(n, k, d)?\n",
    "will have the smooth and rough boundaries …\n",
    "holes? algo’m for Hadamard\n",
    "\n",
    "so what we should define would be a set of class like $\\texttt{Kitaev}(n, k, d)$ and quantify over K in that set/class, like this:\n",
    "\n",
    "$\\forall_{n, k, d \\in \\mathbb{N}}\\forall_{K \\in \\texttt{Kitaev}(n, k, d)}\\big(X\\big)$\n",
    "\n",
    "and more carefully ith something like this:\n",
    "\n",
    "$\\forall_{n, k, d \\in \\mathbb{N}}\\forall_{K \\in \\texttt{Kitaev}(n, k, d)}\\forall_{E \\in Errors(K)}$\n",
    "\n",
    "ignoring circuit model: we also define a set E of errors in/on K, but continue to consider some more general sense of errors that might allow us to generalize to the Circuit model instead of just code capacity model.\n",
    "\n",
    "thinking about generalizing to the circuit model: could maybe generalize to a space-time volume model, and talk about the errors of a sequence of codes like that (kind of like the space-time volumes used in Bombín?);\n",
    "\n",
    "WW: we don't have to specify the whole circuit but rather specify a detector model (which might be agnostic to specific circuit implementation).\n"
   ]
  },
  {
   "cell_type": "code",
   "execution_count": null,
   "metadata": {},
   "outputs": [],
   "source": [
    "%end theorems"
   ]
  }
 ],
 "metadata": {
  "kernelspec": {
   "display_name": "Python 3",
   "language": "python",
   "name": "python3"
  }
 },
 "nbformat": 4,
 "nbformat_minor": 0
}
