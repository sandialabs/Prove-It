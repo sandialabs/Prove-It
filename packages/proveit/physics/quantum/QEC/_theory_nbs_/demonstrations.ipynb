{
 "cells": [
  {
   "cell_type": "markdown",
   "metadata": {},
   "source": [
    "Demonstrations for the theory of <a class=\"ProveItLink\" href=\"theory.ipynb\">proveit.physics.quantum.QEC</a>\n",
    "========"
   ]
  },
  {
   "cell_type": "code",
   "execution_count": null,
   "metadata": {},
   "outputs": [],
   "source": [
    "import proveit\n",
    "from proveit import d, k, n, C, E, K, S, Variable\n",
    "from proveit.logic.sets import InSet\n",
    "from proveit.physics.quantum.QEC import (\n",
    "        BoundaryVertices, Errors, GraphOf, InteriorVertices, KitaevPlanarSC,\n",
    "        MergedBoundsGraphOfSurfaceCode, MergedBoundsGraphOfZError, SiteSyndrome,\n",
    "        Stabilizer, ZErrorChains)\n",
    "%begin demonstrations"
   ]
  },
  {
   "cell_type": "code",
   "execution_count": null,
   "metadata": {},
   "outputs": [],
   "source": []
  },
  {
   "cell_type": "markdown",
   "metadata": {},
   "source": [
    "### Miscellaneous Testing\n",
    "Testing various classes and methods related to walks surface codes (SC) and quantum error correction (QEC). Some of this material could eventually be integrated into the `_demonstrations_` page and/or deleted as development continues."
   ]
  },
  {
   "cell_type": "markdown",
   "metadata": {},
   "source": [
    "#### Basic Constructions"
   ]
  },
  {
   "cell_type": "markdown",
   "metadata": {},
   "source": [
    "The set of all Kitaev-style planar surface codes utilizing $n$ data qubits to encode $k$ logical qubits with a resulting code distance $d$."
   ]
  },
  {
   "cell_type": "code",
   "execution_count": null,
   "metadata": {},
   "outputs": [],
   "source": [
    "KitaevPlanarSC(n, k, d)"
   ]
  },
  {
   "cell_type": "code",
   "execution_count": null,
   "metadata": {},
   "outputs": [],
   "source": [
    "InSet(S, KitaevPlanarSC(n, k, d))"
   ]
  },
  {
   "cell_type": "markdown",
   "metadata": {},
   "source": [
    "The set of possible errors on the surface code $S$:"
   ]
  },
  {
   "cell_type": "code",
   "execution_count": null,
   "metadata": {},
   "outputs": [],
   "source": [
    "Errors(S)"
   ]
  },
  {
   "cell_type": "code",
   "execution_count": null,
   "metadata": {},
   "outputs": [],
   "source": [
    "InSet(E, Errors(S))"
   ]
  },
  {
   "cell_type": "markdown",
   "metadata": {},
   "source": [
    "The set of possible Z-error chains on the surface code $S$:"
   ]
  },
  {
   "cell_type": "code",
   "execution_count": null,
   "metadata": {},
   "outputs": [],
   "source": [
    "ZErrorChains(S)"
   ]
  },
  {
   "cell_type": "code",
   "execution_count": null,
   "metadata": {},
   "outputs": [],
   "source": [
    "InSet(E, ZErrorChains(S))"
   ]
  },
  {
   "cell_type": "markdown",
   "metadata": {},
   "source": [
    "Given some Kitaev-style planar surface code $S$, `MergedBoundsGraphOfSurfaceCode(S)` represents the merged-boundary-points graph of $S$:"
   ]
  },
  {
   "cell_type": "code",
   "execution_count": null,
   "metadata": {},
   "outputs": [],
   "source": [
    "MergedBoundsGraphOfSurfaceCode(S)"
   ]
  },
  {
   "cell_type": "markdown",
   "metadata": {},
   "source": [
    "Given some Z-error chain $E$ in the context of a Kitaev-style planar surface code $S$, `MergedBoundsGraphOfZError(E, S)` represents the merged-boundary-points (sub-)graph of the $Z$-error chain in the context of the merged-boundary-points graph of $S$:"
   ]
  },
  {
   "cell_type": "code",
   "execution_count": null,
   "metadata": {},
   "outputs": [],
   "source": [
    "MergedBoundsGraphOfZError(E, S)"
   ]
  },
  {
   "cell_type": "code",
   "execution_count": null,
   "metadata": {},
   "outputs": [],
   "source": [
    "Stabilizer(S)"
   ]
  },
  {
   "cell_type": "markdown",
   "metadata": {},
   "source": [
    "Given a surface code configuration $S$ consisting of data qubits, measurement qubits, and their interconnections,  and some error $E$ acting on that surface code, $\\texttt{graph\\_of}(E, S)$ denotes a generic _graphical_ representation of the error $E$ in the context of the graphical representation of $S$, made up now of edges and vertices. The generic `GraphOf` function will usually be replaced with a more specific graphical interpretation function such as `MergedBoundsGraphOfZError()`, etc. "
   ]
  },
  {
   "cell_type": "code",
   "execution_count": null,
   "metadata": {},
   "outputs": [],
   "source": [
    "GraphOf(E, S)"
   ]
  },
  {
   "cell_type": "markdown",
   "metadata": {},
   "source": [
    "Given a surface code configuration $S$ consisting of data qubits, measurement qubits, and their interconnections, $\\texttt{SiteSyndrome}(E, S)$ denotes the set of $X$ checks or site operators that signal one or more errors in the surface code in response (_i.e._, the set of $X$ site checks that “flip state” as a result of the given error $E$). Recall that such a site syndrome may be empty even in the presence of an error chain, such as in the case of a logical error, a logical $Z$, or any $X$-error chain."
   ]
  },
  {
   "cell_type": "code",
   "execution_count": null,
   "metadata": {},
   "outputs": [],
   "source": [
    "SiteSyndrome(E, S)"
   ]
  },
  {
   "cell_type": "markdown",
   "metadata": {},
   "source": [
    "Given a surface code configuration $S$ consisting of data qubits, measurement qubits, and their interconnections, $\\texttt{InteriorVertices}(GraphOf(E, S))$ denotes the set of interior vertices (_i.e._, non-boundary vertices) in the subgraph associated with component $E$, and $\\texttt{BoundaryVertices}(GraphOf(E, S))$ denotes the set of boundary (non-interior) vertices, where “GraphOf” is some function producing a graphical representation of $E$ in the context of the graphical representation of $S$.."
   ]
  },
  {
   "cell_type": "code",
   "execution_count": null,
   "metadata": {},
   "outputs": [],
   "source": [
    "InteriorVertices(MergedBoundsGraphOfZError(E, S))"
   ]
  },
  {
   "cell_type": "code",
   "execution_count": null,
   "metadata": {},
   "outputs": [],
   "source": [
    "BoundaryVertices(MergedBoundsGraphOfZError(E, S))"
   ]
  },
  {
   "cell_type": "markdown",
   "metadata": {},
   "source": [
    "For a site operator s in surface code S, we have the corresponding vertex v in the (merged-bounds) graph of S:"
   ]
  },
  {
   "cell_type": "code",
   "execution_count": null,
   "metadata": {},
   "outputs": [],
   "source": [
    "from proveit import s\n",
    "# from proveit.physics.quantum.QEC import MergedBoundsGraphOfSiteOp\n",
    "# MergedBoundsGraphOfSiteOp(s, S)"
   ]
  },
  {
   "cell_type": "markdown",
   "metadata": {},
   "source": [
    "For a surface code $S$, we have the set of X site operators of $S$ (the set of operators measuring $Z$-error parities among their neighboring data qubits):"
   ]
  },
  {
   "cell_type": "code",
   "execution_count": null,
   "metadata": {},
   "outputs": [],
   "source": [
    "from proveit.physics.quantum.QEC import SurfaceCodeSiteOps\n",
    "SurfaceCodeSiteOps(S)"
   ]
  },
  {
   "cell_type": "markdown",
   "metadata": {},
   "source": [
    "Similarly, for a `ZErrorChain` over a surface code $S$, we have the set of $X$ site operators:"
   ]
  },
  {
   "cell_type": "code",
   "execution_count": null,
   "metadata": {},
   "outputs": [],
   "source": [
    "from proveit.physics.quantum.QEC import ZErrorChainSiteOps\n",
    "ZErrorChainSiteOps(E, S)"
   ]
  },
  {
   "cell_type": "markdown",
   "metadata": {},
   "source": [
    "#### Membership Constructions and Related Methods"
   ]
  },
  {
   "cell_type": "code",
   "execution_count": null,
   "metadata": {},
   "outputs": [],
   "source": [
    "from proveit import v\n",
    "from proveit.numbers import Natural\n",
    "from proveit.physics.quantum.QEC import merged_bounds_graph_of_z_error_chain_is_graph"
   ]
  },
  {
   "cell_type": "markdown",
   "metadata": {},
   "source": [
    "Notice that the following works, if we go “whole hog” and explicitly assume that $\\mathcal{G}_{mb}(E, K) \\in \\texttt{Graphs}$:"
   ]
  },
  {
   "cell_type": "code",
   "execution_count": null,
   "metadata": {},
   "outputs": [],
   "source": [
    "from proveit.logic import InClass\n",
    "from proveit.graphs import Graphs\n",
    "InSet(v, InteriorVertices(MergedBoundsGraphOfZError(E, K))).deduce_in_bool(\n",
    "        assumptions = [InClass(MergedBoundsGraphOfZError(E, K), Graphs)]\n",
    ")"
   ]
  },
  {
   "cell_type": "markdown",
   "metadata": {},
   "source": [
    "We should also be able to  achieve this more indirectly, via the following route. First, we import and instantiate our theorem about $\\mathcal{G}_{mb}(E, K) \\in \\texttt{Graphs}$:"
   ]
  },
  {
   "cell_type": "code",
   "execution_count": null,
   "metadata": {},
   "outputs": [],
   "source": [
    "from proveit.physics.quantum.QEC import merged_bounds_graph_of_z_error_chain_is_graph\n",
    "merged_bounds_graph_of_z_error_chain_is_graph"
   ]
  },
  {
   "cell_type": "code",
   "execution_count": null,
   "metadata": {},
   "outputs": [],
   "source": [
    "graphs_judgment = merged_bounds_graph_of_z_error_chain_is_graph.instantiate(\n",
    "        assumptions = [InSet(n, Natural), InSet(k, Natural), InSet(d, Natural)]).instantiate(\n",
    "        assumptions = [InSet(K, KitaevPlanarSC(n, k, d))]).instantiate({E:E},\n",
    "        assumptions = [InSet(E, ZErrorChains(K))]    )"
   ]
  },
  {
   "cell_type": "markdown",
   "metadata": {},
   "source": [
    "So, given those assumptions, we should be able to derive that $\\mathcal{G}_{mb}(E, K) \\in \\texttt{Graphs}$."
   ]
  },
  {
   "cell_type": "code",
   "execution_count": null,
   "metadata": {},
   "outputs": [],
   "source": [
    "assumptions = [InSet(n, Natural), InSet(k, Natural), InSet(d, Natural),\n",
    "                       InSet(K, KitaevPlanarSC(n, k, d)), InSet(E, ZErrorChains(K))]"
   ]
  },
  {
   "cell_type": "code",
   "execution_count": null,
   "metadata": {},
   "outputs": [],
   "source": [
    "InClass(MergedBoundsGraphOfZError(E, K), Graphs).prove(assumptions = assumptions)"
   ]
  },
  {
   "cell_type": "markdown",
   "metadata": {},
   "source": [
    "And thus the `deduce_in_bool` method should work from the more basic assumptions:"
   ]
  },
  {
   "cell_type": "code",
   "execution_count": null,
   "metadata": {},
   "outputs": [],
   "source": [
    "InSet(v, InteriorVertices(MergedBoundsGraphOfZError(E, K))).deduce_in_bool(\n",
    "        assumptions = assumptions\n",
    ")"
   ]
  },
  {
   "cell_type": "code",
   "execution_count": null,
   "metadata": {},
   "outputs": [],
   "source": []
  },
  {
   "cell_type": "code",
   "execution_count": null,
   "metadata": {},
   "outputs": [],
   "source": [
    "%end demonstrations"
   ]
  }
 ],
 "metadata": {
  "kernelspec": {
   "display_name": "Python 3",
   "language": "python",
   "name": "python3"
  }
 },
 "nbformat": 4,
 "nbformat_minor": 0
}
