{
 "cells": [
  {
   "cell_type": "markdown",
   "metadata": {},
   "source": [
    "Demonstrations for the theory of <a class=\"ProveItLink\" href=\"theory.ipynb\">proveit.physics.quantum.QEC</a>\n",
    "========"
   ]
  },
  {
   "cell_type": "code",
   "execution_count": null,
   "metadata": {},
   "outputs": [],
   "source": [
    "import proveit\n",
    "from proveit import C, E, Variable\n",
    "from proveit.physics.quantum.QEC import BoundaryVertices, GraphOf, InteriorVertices, SiteSyndrome, Stabilizer\n",
    "%begin demonstrations"
   ]
  },
  {
   "cell_type": "code",
   "execution_count": null,
   "metadata": {},
   "outputs": [],
   "source": []
  },
  {
   "cell_type": "code",
   "execution_count": null,
   "metadata": {},
   "outputs": [],
   "source": []
  },
  {
   "cell_type": "markdown",
   "metadata": {},
   "source": [
    "### Miscellaneous Testing\n",
    "Testing various classes and methods related to walks surface codes (SC) and quantum error correction (QEC). Some of this material could eventually be integrated into the `_demonstrations_` page and/or deleted as development continues."
   ]
  },
  {
   "cell_type": "markdown",
   "metadata": {},
   "source": [
    "#### Basic Constructions"
   ]
  },
  {
   "cell_type": "code",
   "execution_count": null,
   "metadata": {},
   "outputs": [],
   "source": [
    "# a variable to represent a surface code (SC)\n",
    "SC = Variable('SC', r'SC')"
   ]
  },
  {
   "cell_type": "code",
   "execution_count": null,
   "metadata": {},
   "outputs": [],
   "source": [
    "Stabilizer(SC)"
   ]
  },
  {
   "cell_type": "markdown",
   "metadata": {},
   "source": [
    "Given a surface code configuration $SC$ consisting of data qubits, measurement qubits, and their interconnections, $\\texttt{graph\\_of}(C, SC)$ denotes the _graphical_ representation of C, made up now of vertices and edges. "
   ]
  },
  {
   "cell_type": "code",
   "execution_count": null,
   "metadata": {},
   "outputs": [],
   "source": [
    "GraphOf(C, SC)"
   ]
  },
  {
   "cell_type": "markdown",
   "metadata": {},
   "source": [
    "Given a surface code configuration $SC$ consisting of data qubits, measurement qubits, and their interconnections, $\\texttt{SiteSyndrome}(E, SC)$, abbreviated as $\\mathrm{ss}(E, SC)$ in outputs, denotes the set of $X$ checks or site operators that signal one or more errors in the surface code in response (i.e., the set of $X$ site checks that “flip state” as a result of the given error $E$)."
   ]
  },
  {
   "cell_type": "code",
   "execution_count": null,
   "metadata": {},
   "outputs": [],
   "source": [
    "SiteSyndrome(E, SC)"
   ]
  },
  {
   "cell_type": "markdown",
   "metadata": {},
   "source": [
    "Given a surface code configuration $SC$ consisting of data qubits, measurement qubits, and their interconnections, $\\texttt{InteriorVertices}(E, SC)$ denotes the set of interior vertices (_i.e._, non-boundary vertices) in the subgraph associated with component $E$, and $\\texttt{BoundaryVertices}(E, SC)$ denotes the set of boundary (non-interior) vertices."
   ]
  },
  {
   "cell_type": "code",
   "execution_count": null,
   "metadata": {},
   "outputs": [],
   "source": [
    "InteriorVertices(E, SC)"
   ]
  },
  {
   "cell_type": "code",
   "execution_count": null,
   "metadata": {},
   "outputs": [],
   "source": [
    "BoundaryVertices(E, SC)"
   ]
  },
  {
   "cell_type": "code",
   "execution_count": null,
   "metadata": {},
   "outputs": [],
   "source": [
    "%end demonstrations"
   ]
  }
 ],
 "metadata": {
  "kernelspec": {
   "display_name": "Python 3",
   "language": "python",
   "name": "python3"
  }
 },
 "nbformat": 4,
 "nbformat_minor": 0
}
