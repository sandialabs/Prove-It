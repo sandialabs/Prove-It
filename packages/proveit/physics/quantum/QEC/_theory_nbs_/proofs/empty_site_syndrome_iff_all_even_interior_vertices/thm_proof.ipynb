{
 "cells": [
  {
   "cell_type": "markdown",
   "metadata": {},
   "source": [
    "Proof of <a class=\"ProveItLink\" href=\"../../../../../../_theory_nbs_/theory.ipynb\">proveit</a>.<a class=\"ProveItLink\" href=\"../../../../../_theory_nbs_/theory.ipynb\">physics</a>.<a class=\"ProveItLink\" href=\"../../../../_theory_nbs_/theory.ipynb\">quantum</a>.<a class=\"ProveItLink\" href=\"../../theory.ipynb\">QEC</a>.<a class=\"ProveItLink\" href=\"../../theorems.ipynb#empty_site_syndrome_iff_all_even_interior_vertices\">empty_site_syndrome_iff_all_even_interior_vertices</a> theorem\n",
    "========"
   ]
  },
  {
   "cell_type": "code",
   "execution_count": null,
   "metadata": {},
   "outputs": [],
   "source": [
    "import proveit\n",
    "from proveit import s, v, K, E, defaults\n",
    "from proveit.logic import Implies, InSet\n",
    "from proveit.physics.quantum.QEC import (\n",
    "        empty_site_syndrome_iff_all_even_z_err_counts,\n",
    "        graph_of_site_op_is_site_op, site_ops_eq_interior_vertices,\n",
    "        z_err_count_s_eqs_deg_of_graph_s, ZErrorChainSiteOps)\n",
    "\n",
    "theory = proveit.Theory() # the theorem's theory"
   ]
  },
  {
   "cell_type": "code",
   "execution_count": null,
   "metadata": {},
   "outputs": [],
   "source": [
    "%proving empty_site_syndrome_iff_all_even_interior_vertices"
   ]
  },
  {
   "cell_type": "markdown",
   "metadata": {},
   "source": [
    "### Proof Outline: I Forward Direction $\\Rightarrow$\n",
    "\n",
    "<table>\n",
    "  <thead>\n",
    "    <tr><th>Step #</th><th>Step</th><th>Comments/Justification</th></tr>\n",
    "  </thead>\n",
    "  <tbody>\n",
    "    <tr>\n",
    "      <td>1</td>\n",
    "      <td>$\\texttt{site\\_synd}(E, K) = \\emptyset$</td>\n",
    "      <td>ASSUMPTION</td>\n",
    "    </tr>\n",
    "    <tr>\n",
    "      <td>2</td>\n",
    "      <td>$\\big(\\texttt{site\\_synd}(E, K) = \\emptyset\\big) \\Leftrightarrow\n",
    "           \\big(\\forall_{s \\in \\texttt{site\\_ops}(E, K)}\\big(\\texttt{ZErrCount}(s, E, K) \\in \\mathbb{E}\\big)\\big)$</td>\n",
    "      <td>THEOREM</td>\n",
    "    </tr>\n",
    "    <tr>\n",
    "      <td>3</td>\n",
    "      <td>$\\big(\\forall_{s \\in \\texttt{site\\_ops}(E, K)}\\big(\\texttt{ZErrCount}(s, E, K) \\in \\mathbb{E}\\big)\\big)$</td>\n",
    "      <td>MODUS PONENS (1, 2) (more technically, we derive an implication from (2) and then use modus ponens)</td>\n",
    "    </tr>\n",
    "    <tr>\n",
    "      <td>4</td>\n",
    "      <td>$\\forall_{s \\in \\texttt{site\\_ops}(E, K)}\n",
    "          \\big(\\texttt{ZErrCount}(s, E, K) = \\texttt{deg}(\\mathcal{G}_{\\texttt{mb}}(s, E, K), \\mathcal{G}_{\\texttt{mb}}(E, K))\\big)$</td>\n",
    "      <td>THEOREM. A consequence of the isomorphism $\\mathcal{G}$ between surface code error $E$ and its\n",
    "          merged-bounds graph $\\mathcal{G}_{\\texttt{mb}}(E, K)$.\n",
    "          In this notation, $\\mathcal{G}_{\\texttt{mb}}(s, E, K)$ denotes the vertex in the error graph\n",
    "          that corresponds to site operator $s$.</td>\n",
    "    </tr>\n",
    "    <tr>\n",
    "      <td>5</td>\n",
    "      <td>$\\forall_{s \\in \\texttt{site\\_ops}(E, K)}\n",
    "          \\big(\\texttt{deg}(\\mathcal{G}_{\\texttt{mb}}(s, E, K), \\mathcal{G}_{\\texttt{mb}}(E, K)) \\in \\mathbb{E}\\big)$</td>\n",
    "      <td>SUBSTITUTION (3, 4).<br/> Each site operator is mapped to a vertex of even degree in the error subgraph. </td>\n",
    "    </tr>\n",
    "    <tr style=\"vertical-align: top;\">\n",
    "      <td style=\"vertical-align: top;\">6</td>\n",
    "      <td style=\"vertical-align: top;\">\n",
    "          $\\forall_{s \\in \\texttt{site\\_ops}(E, K)} \\big( \\mathcal{G}_{mb}(s, E, K) = s \\big)$\n",
    "      </td>\n",
    "      <td style=\"vertical-align: top;\">\n",
    "          THEOREM. We take site operators to <i>be</i> vertices in the graph.<br/>\n",
    "      </td>\n",
    "    </tr>\n",
    "    <tr>\n",
    "      <td>7</td>\n",
    "      <td>$\\forall_{s \\in \\texttt{site\\_ops}(E, K)}\n",
    "          \\big(\\texttt{deg}(s, \\mathcal{G}_{\\texttt{mb}}(E, K)) \\in \\mathbb{E}\\big)$</td>\n",
    "      <td>SUBSTITUTION (4, 5)</td>\n",
    "    </tr>\n",
    "    <tr>\n",
    "      <td>8</td>\n",
    "      <td>$\\texttt{site\\_ops}(E, K) = \\texttt{int\\_verts}(\\mathcal{G}_{mb}(E, K))$</td>\n",
    "      <td>THEOREM. The site operators <i>are</i> the interior vertices of the error graph.</td>\n",
    "    </tr>\n",
    "    <tr>\n",
    "      <td>9</td>\n",
    "      <td>$\\forall_{s \\in \\texttt{int\\_verts}(\\mathcal{G}_{mb}(E, K))}\n",
    "          \\big(\\texttt{deg}(s, \\mathcal{G}_{\\texttt{mb}}(E, K)) \\in \\mathbb{E}\\big)$</td>\n",
    "      <td>SUBSTITUTION (7, 8)</td>\n",
    "    </tr>\n",
    "  </tbody>\n",
    "</table>"
   ]
  },
  {
   "cell_type": "markdown",
   "metadata": {},
   "source": [
    "### Proof Outline: II. Converse Direction $\\Leftarrow$\n",
    "\n",
    "<table>\n",
    "  <thead>\n",
    "    <tr><th>Step #</th><th>Step</th><th>Comments/Justification</th></tr>\n",
    "  </thead>\n",
    "  <tbody>\n",
    "    <tr>\n",
    "      <td>1</td>\n",
    "      <td>$\\forall_{v \\in \\texttt{int\\_verts}(\\mathcal{G}_{mb}(E, K))}\n",
    "          \\big(\\texttt{deg}(v, \\mathcal{G}_{mb}(E, K)) \\in \\mathbb{E}\\big)$</td>\n",
    "      <td>ASSUMPTION</td>\n",
    "    </tr>\n",
    "    <tr>\n",
    "      <td>2</td>\n",
    "      <td>$v \\in \\texttt{int\\_verts}(\\mathcal{G}_{mb}(E, K))\n",
    "          \\vdash\n",
    "          \\big(\\texttt{deg}(v, \\mathcal{G}_{mb}(E, K)) \\in \\mathbb{E}\\big)$</td>\n",
    "      <td>INSTANTIATION (1)</td>\n",
    "    </tr>\n",
    "    <tr>\n",
    "      <td>3</td>\n",
    "      <td>$\\texttt{site\\_ops}(E, K) = \\texttt{int\\_verts}(\\mathcal{G}_{mb}(E, K))$</td>\n",
    "      <td>THEOREM. The site operators <i>are</i> the interior vertices of the error graph.</td>\n",
    "    </tr>\n",
    "    <tr>\n",
    "      <td>4</td>\n",
    "      <td>$v \\in \\texttt{site\\_ops}(E, K)\n",
    "          \\vdash\n",
    "          \\big(\\texttt{deg}(v, \\mathcal{G}_{mb}(E, K)) \\in \\mathbb{E}\\big)$</td>\n",
    "      <td>SUBSTITUTION (2, 3)</td>\n",
    "    </tr>\n",
    "    <tr style=\"vertical-align: top;\">\n",
    "      <td style=\"vertical-align: top;\">5</td>\n",
    "      <td style=\"vertical-align: top;\">\n",
    "          $\\forall_{s \\in \\texttt{site\\_ops}(E, K)} \\big( \\mathcal{G}_{mb}(s, E, K) = s \\big)$\n",
    "      </td>\n",
    "      <td style=\"vertical-align: top;\">\n",
    "          THEOREM. We take site operators to <i>be</i> vertices in the graph.<br/>\n",
    "      </td>\n",
    "    </tr>\n",
    "    <tr style=\"vertical-align: top;\">\n",
    "      <td style=\"vertical-align: top;\">6</td>\n",
    "      <td style=\"vertical-align: top;\">\n",
    "          $v \\in \\texttt{site\\_ops}(E, K)  \\vdash \\mathcal{G}_{mb}(v, E, K) = v$\n",
    "      </td>\n",
    "      <td style=\"vertical-align: top;\">\n",
    "          INSTANTIATION (5, using {s:v}).<br/>\n",
    "      </td>\n",
    "    </tr>\n",
    "    <tr>\n",
    "      <td>7</td>\n",
    "      <td>$v \\in \\texttt{site\\_ops}(E, K)\n",
    "          \\vdash\n",
    "          \\big(\\texttt{deg}(\\mathcal{G}_{mb}(v, E, K), \\mathcal{G}_{mb}(E, K)) \\in \\mathbb{E}\\big)$</td>\n",
    "      <td>SUBSTITUTION (4, 6)</td>\n",
    "    </tr>\n",
    "    <tr>\n",
    "      <td>8</td>\n",
    "      <td>$\\forall_{s \\in \\texttt{site\\_ops}(E, K)}\n",
    "          \\big(\\texttt{ZErrCount}(s, E, K) = \\texttt{deg}(\\mathcal{G}_{\\texttt{mb}}(s, E, K), \\mathcal{G}_{\\texttt{mb}}(E, K))\\big)$</td>\n",
    "      <td>THEOREM. A consequence of the isomorphism $\\mathcal{G}$ between surface code error $E$ and its\n",
    "          merged-bounds graph $\\mathcal{G}_{\\texttt{mb}}(E, K)$.\n",
    "          In this notation, $\\mathcal{G}_{\\texttt{mb}}(s, E, K)$ denotes the vertex in the error graph\n",
    "          that corresponds to site operator $s$.</td>\n",
    "    </tr>\n",
    "    <tr>\n",
    "      <td>9</td>\n",
    "      <td>$v \\in \\texttt{site\\_ops}(E, K) \\vdash\n",
    "          \\big(\\texttt{ZErrCount}(v, E, K) = \\texttt{deg}(\\mathcal{G}_{\\texttt{mb}}(v, E, K), \\mathcal{G}_{\\texttt{mb}}(E, K))\\big)$</td>\n",
    "      <td>INSTANTIATION (8, using $\\{s:v\\}$).</td>\n",
    "    </tr>\n",
    "    <tr>\n",
    "      <td>10</td>\n",
    "      <td>$v \\in \\texttt{site\\_ops}(E, K)\n",
    "          \\vdash\n",
    "          \\big(\\texttt{ZErrCount}(v, E, K) \\in \\mathbb{E}\\big)$</td>\n",
    "      <td>SUBSTITUTION (7, 9)</td>\n",
    "    </tr>\n",
    "    <tr>\n",
    "      <td>11</td>\n",
    "      <td>$\\vdash \\forall_{v \\in \\texttt{site\\_ops}(E, K)}\n",
    "          \\big(\\texttt{ZErrCount}(v, E, K) \\in \\mathbb{E}\\big)$</td>\n",
    "      <td>GENERALIZE (10)</td>\n",
    "    </tr>\n",
    "    <tr>\n",
    "      <td>12</td>\n",
    "      <td>$\\big(\\texttt{site\\_synd}(E, K) = \\emptyset\\big) \\Leftrightarrow\n",
    "           \\big(\\forall_{s \\in \\texttt{site\\_ops}(E, K)}\\big(\\texttt{ZErrCount}(s, E, K) \\in \\mathbb{E}\\big)\\big)$</td>\n",
    "      <td>THEOREM</td>\n",
    "    </tr>\n",
    "    <tr>\n",
    "      <td>13</td>\n",
    "      <td>$\\big(\\forall_{s \\in \\texttt{site\\_ops}(E, K)}\\big(\\texttt{ZErrCount}(s, E, K) \\in \\mathbb{E}\\big)\\big)\n",
    "          \\Rightarrow \\big(\\texttt{site\\_synd}(E, K) = \\emptyset\\big)$</td>\n",
    "      <td>DERIVE IMPLICATION (12)</td>\n",
    "    </tr>\n",
    "    <tr>\n",
    "      <td>14</td>\n",
    "      <td>$\\big(\\texttt{site\\_synd}(E, K) = \\emptyset\\big)$</td>\n",
    "      <td>MODUS PONENS (11, 13)</td>\n",
    "    </tr>\n",
    "  </tbody>\n",
    "</table>"
   ]
  },
  {
   "cell_type": "code",
   "execution_count": null,
   "metadata": {},
   "outputs": [],
   "source": [
    "defaults.assumptions = empty_site_syndrome_iff_all_even_interior_vertices.all_conditions()"
   ]
  },
  {
   "cell_type": "markdown",
   "metadata": {},
   "source": [
    "### I. Proof of the Forward ($\\Rightarrow$) Direction:\n",
    "An empty site-syndrome means all interior vertices of the error graph have even degree.\n",
    "\n",
    "$\\big(\\texttt{site\\_syndrome}(E, K) = \\emptyset\\big) \\Rightarrow\n",
    " \\big[\\forall_{v \\in \\texttt{int\\_verts}(\\mathcal{G}_{mb}(E, K))}(\\texttt{deg}(v, \\mathcal{G}_{mb}(E, K))) \\in \\mathbb{E}\\big]$"
   ]
  },
  {
   "cell_type": "markdown",
   "metadata": {},
   "source": [
    "In addition to the standard assumptions, we want assume the antecedent $\\texttt{site\\_syndrome}(E, K) = \\emptyset$, and so we add that to the default assumptions:"
   ]
  },
  {
   "cell_type": "code",
   "execution_count": null,
   "metadata": {},
   "outputs": [],
   "source": [
    "defaults.assumptions = defaults.assumptions + [empty_site_syndrome_iff_all_even_interior_vertices.instance_expr.instance_expr.lhs]"
   ]
  },
  {
   "cell_type": "code",
   "execution_count": null,
   "metadata": {},
   "outputs": [],
   "source": [
    "empty_site_syndrome_iff_all_even_z_err_counts"
   ]
  },
  {
   "cell_type": "code",
   "execution_count": null,
   "metadata": {},
   "outputs": [],
   "source": [
    "empty_site_syndrome_iff_all_even_z_err_counts_inst = (\n",
    "    empty_site_syndrome_iff_all_even_z_err_counts.instantiate(num_forall_eliminations=3)\n",
    ")"
   ]
  },
  {
   "cell_type": "code",
   "execution_count": null,
   "metadata": {},
   "outputs": [],
   "source": [
    "all_site_ops_have_even_z_err_count = (\n",
    "    empty_site_syndrome_iff_all_even_z_err_counts_inst.derive_right_implication().derive_consequent()\n",
    ")"
   ]
  },
  {
   "cell_type": "code",
   "execution_count": null,
   "metadata": {},
   "outputs": [],
   "source": [
    "# for convenience, we name the 's in SiteOps' condition\n",
    "s_in_site_ops = all_site_ops_have_even_z_err_count.all_conditions()[0]"
   ]
  },
  {
   "cell_type": "markdown",
   "metadata": {},
   "source": [
    "Then we convert from even $Z$-error counts in the surface code to even degree vertices in the error graph:"
   ]
  },
  {
   "cell_type": "code",
   "execution_count": null,
   "metadata": {},
   "outputs": [],
   "source": [
    "from proveit.physics.quantum.QEC import z_err_count_s_is_deg_s\n",
    "z_err_count_s_is_deg_s"
   ]
  },
  {
   "cell_type": "code",
   "execution_count": null,
   "metadata": {},
   "outputs": [],
   "source": [
    "z_err_count_s_is_deg_s_inst = (\n",
    "    z_err_count_s_is_deg_s.instantiate(num_forall_eliminations=4, assumptions = defaults.assumptions + [s_in_site_ops]\n",
    "    )\n",
    ")"
   ]
  },
  {
   "cell_type": "code",
   "execution_count": null,
   "metadata": {},
   "outputs": [],
   "source": [
    "z_err_count_s_is_deg_s_inst = (\n",
    "    z_err_count_s_is_deg_s.instantiate().instantiate().instantiate().instantiate(\n",
    "        assumptions = defaults.assumptions + [s_in_site_ops]\n",
    "    )\n",
    ")"
   ]
  },
  {
   "cell_type": "code",
   "execution_count": null,
   "metadata": {},
   "outputs": [],
   "source": [
    "all_site_ops_are_even_deg_verts = (\n",
    "    all_site_ops_have_even_z_err_count.inner_expr().instance_expr.element.substitute(\n",
    "        z_err_count_s_is_deg_s_inst)\n",
    ")"
   ]
  },
  {
   "cell_type": "markdown",
   "metadata": {},
   "source": [
    "Finally, we want to replace $\\texttt{SiteOps}(E, K)$ with $\\texttt{int\\_verts}(\\mathcal{G}_{mb}(E, K))$. This first requires that we shift the $\\texttt{site\\_syndrome}(E,K)=\\emptyset$ to the right of the turnstile and out of the assumptions (because the theorem we want to apply doesn't include $\\texttt{site\\_syndrome}(E,K)=\\emptyset$ as an assumption)."
   ]
  },
  {
   "cell_type": "code",
   "execution_count": null,
   "metadata": {},
   "outputs": [],
   "source": [
    "# for convenience, we label the 'site_syndrome = emptyset' expression\n",
    "site_syndrome_is_emptyset = (\n",
    "    empty_site_syndrome_iff_all_even_interior_vertices.instance_expr.instance_expr.lhs\n",
    ")"
   ]
  },
  {
   "cell_type": "code",
   "execution_count": null,
   "metadata": {},
   "outputs": [],
   "source": [
    "all_site_ops_are_even_deg_verts_as_impl_from_empty_syndrome = (\n",
    "    all_site_ops_are_even_deg_verts.as_implication(site_syndrome_is_emptyset)\n",
    ")"
   ]
  },
  {
   "cell_type": "markdown",
   "metadata": {},
   "source": [
    "Now we instantiate the desired theorem relating $\\texttt{SiteOps}$ with $\\texttt{int\\_verts}$ and perform the replacement (using $\\texttt{substitute()}$)."
   ]
  },
  {
   "cell_type": "code",
   "execution_count": null,
   "metadata": {},
   "outputs": [],
   "source": [
    "site_ops_eq_interior_vertices"
   ]
  },
  {
   "cell_type": "code",
   "execution_count": null,
   "metadata": {},
   "outputs": [],
   "source": [
    "site_ops_eq_interior_vertices_inst = site_ops_eq_interior_vertices.instantiate(num_forall_eliminations=3)"
   ]
  },
  {
   "cell_type": "code",
   "execution_count": null,
   "metadata": {},
   "outputs": [],
   "source": [
    "(all_site_ops_are_even_deg_verts_as_impl_from_empty_syndrome.inner_expr().\n",
    "     consequent.condition.domain.substitute(site_ops_eq_interior_vertices_inst))"
   ]
  },
  {
   "cell_type": "markdown",
   "metadata": {},
   "source": [
    "### II. Proof of the Converse ($\\Leftarrow$) Direction:\n",
    "When all interior vertices of the error graph have even degree, we have an empty site-syndrome:\n",
    "\n",
    "$\\big[\\forall_{v \\in \\texttt{int\\_verts}(\\mathcal{G}_{mb}(E, K))}(\\texttt{deg}(v, \\mathcal{G}_{mb}(E, K))) \\in \\mathbb{E}\\big]\n",
    " \\Rightarrow \\big(\\texttt{site\\_syndrome}(E, K) = \\emptyset\\big)$"
   ]
  },
  {
   "cell_type": "markdown",
   "metadata": {},
   "source": [
    "First, we reset the default assumptions:"
   ]
  },
  {
   "cell_type": "code",
   "execution_count": null,
   "metadata": {},
   "outputs": [],
   "source": [
    "defaults.assumptions = empty_site_syndrome_iff_all_even_interior_vertices.all_conditions()"
   ]
  },
  {
   "cell_type": "markdown",
   "metadata": {},
   "source": [
    "We define some convenient expressions to have on hand:"
   ]
  },
  {
   "cell_type": "code",
   "execution_count": null,
   "metadata": {},
   "outputs": [],
   "source": [
    "# for convenience, we label this expression\n",
    "antecedent_expr = empty_site_syndrome_iff_all_even_interior_vertices.instance_expr.instance_expr.rhs"
   ]
  },
  {
   "cell_type": "code",
   "execution_count": null,
   "metadata": {},
   "outputs": [],
   "source": [
    "# for convenience, we label this expression\n",
    "v_in_verts_expr = antecedent_expr.all_conditions()[0]"
   ]
  },
  {
   "cell_type": "markdown",
   "metadata": {},
   "source": [
    "Then we add our new antecedent to the default assumptions:"
   ]
  },
  {
   "cell_type": "code",
   "execution_count": null,
   "metadata": {},
   "outputs": [],
   "source": [
    "defaults.assumptions = defaults.assumptions + [antecedent_expr]"
   ]
  },
  {
   "cell_type": "code",
   "execution_count": null,
   "metadata": {},
   "outputs": [],
   "source": [
    "deg_v_is_even_impl_degree_v_is_even = Implies(antecedent_expr, antecedent_expr).prove()"
   ]
  },
  {
   "cell_type": "markdown",
   "metadata": {},
   "source": [
    "We need to temporarily convert $\\texttt{int\\_verts}(\\mathcal{G}_{mb}(E, K))$ into its equivalent $\\texttt{SiteOps}(E, K)$ so we can apply some of our theorems."
   ]
  },
  {
   "cell_type": "code",
   "execution_count": null,
   "metadata": {},
   "outputs": [],
   "source": [
    "site_ops_eq_interior_vertices_inst"
   ]
  },
  {
   "cell_type": "code",
   "execution_count": null,
   "metadata": {},
   "outputs": [],
   "source": [
    "site_ops_eq_interior_vertices_inst_rev = site_ops_eq_interior_vertices_inst.reversed().prove()"
   ]
  },
  {
   "cell_type": "code",
   "execution_count": null,
   "metadata": {},
   "outputs": [],
   "source": [
    "deg_v_is_even_impl_degree_v_is_even_in_site_ops = (\n",
    "    deg_v_is_even_impl_degree_v_is_even.inner_expr().consequent.condition.\n",
    "    domain.substitute(site_ops_eq_interior_vertices_inst_rev))"
   ]
  },
  {
   "cell_type": "markdown",
   "metadata": {},
   "source": [
    "And then work to replace $\\texttt{deg}(v, \\mathcal{G}_{mb}(E, K))$ with $\\texttt{ZErrCounts}(v, E, K)$."
   ]
  },
  {
   "cell_type": "markdown",
   "metadata": {},
   "source": [
    "Next we convert from graph vertex degree to surface code site-operator parities (which, by the way, also needs that “SiteOps”-based assumption):"
   ]
  },
  {
   "cell_type": "code",
   "execution_count": null,
   "metadata": {},
   "outputs": [],
   "source": [
    "# a reminder of this theorem relating Z-errors to deg\n",
    "z_err_count_s_is_deg_s"
   ]
  },
  {
   "cell_type": "code",
   "execution_count": null,
   "metadata": {},
   "outputs": [],
   "source": [
    "# then instantiate that using v\n",
    "z_err_count_s_is_deg_s_inst = z_err_count_s_is_deg_s.instantiate({s:v}, num_forall_eliminations=4,\n",
    "            assumptions = defaults.assumptions + [InSet(v, ZErrorChainSiteOps(E, K))]).derive_reversed()"
   ]
  },
  {
   "cell_type": "code",
   "execution_count": null,
   "metadata": {},
   "outputs": [],
   "source": [
    "# and perform the substitution\n",
    "deg_v_is_even_impl_degree_v_is_even_in_site_ops.inner_expr().consequent.instance_expr.element.substitute(\n",
    "        z_err_count_s_is_deg_s_inst\n",
    ")"
   ]
  },
  {
   "cell_type": "markdown",
   "metadata": {},
   "source": [
    "Next we want to convert the $\\texttt{ZErrCount}(v, E, K)$ to a claim about $\\texttt{site\\_syndrome}(E, K) = \\emptyset$."
   ]
  },
  {
   "cell_type": "code",
   "execution_count": null,
   "metadata": {},
   "outputs": [],
   "source": [
    "# a reminder of this theorem, which we then re-instantiate using v instead of s:\n",
    "empty_site_syndrome_iff_all_even_z_err_counts"
   ]
  },
  {
   "cell_type": "code",
   "execution_count": null,
   "metadata": {},
   "outputs": [],
   "source": [
    "# once the logical connection is made explicit, Prove-It recognizes that the proof is complete\n",
    "empty_site_syndrome_iff_all_even_z_err_counts.instantiate(num_forall_eliminations=3).derive_left_implication().instantiate(\n",
    "    {s:v})"
   ]
  },
  {
   "cell_type": "code",
   "execution_count": null,
   "metadata": {},
   "outputs": [],
   "source": [
    "%qed"
   ]
  },
  {
   "cell_type": "code",
   "execution_count": null,
   "metadata": {},
   "outputs": [],
   "source": []
  }
 ],
 "metadata": {
  "kernelspec": {
   "display_name": "Python 3",
   "language": "python",
   "name": "python3"
  }
 },
 "nbformat": 4,
 "nbformat_minor": 0
}
