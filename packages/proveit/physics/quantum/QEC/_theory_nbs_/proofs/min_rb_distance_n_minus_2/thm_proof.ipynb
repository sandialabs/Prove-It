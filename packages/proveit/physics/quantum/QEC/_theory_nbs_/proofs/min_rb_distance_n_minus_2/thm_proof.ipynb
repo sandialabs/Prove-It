{
 "cells": [
  {
   "cell_type": "markdown",
   "metadata": {},
   "source": [
    "Proof of <a class=\"ProveItLink\" href=\"../../../../../../_theory_nbs_/theory.ipynb\">proveit</a>.<a class=\"ProveItLink\" href=\"../../../../../_theory_nbs_/theory.ipynb\">physics</a>.<a class=\"ProveItLink\" href=\"../../../../_theory_nbs_/theory.ipynb\">quantum</a>.<a class=\"ProveItLink\" href=\"../../theory.ipynb\">QEC</a>.<a class=\"ProveItLink\" href=\"../../theorems.ipynb#min_rb_distance_n_minus_2\">min_rb_distance_n_minus_2</a> theorem\n",
    "========"
   ]
  },
  {
   "cell_type": "code",
   "execution_count": null,
   "metadata": {},
   "outputs": [],
   "source": [
    "import proveit\n",
    "theory = proveit.Theory() # the theorem's theory\n",
    "from proveit import a, b, i, defaults\n",
    "from proveit.logic import InSet, Or\n",
    "from proveit.physics.quantum.QEC import (\n",
    "        _rba1, _rbb1, _rba2, _rbb2,\n",
    "        d_ge_n_east_west_n_minus_2, d_ge_n_north_south_n_minus_2,\n",
    "        d_ge_n_east_south_n_minus_2, d_ge_n_north_west_n_minus_2,\n",
    "        rough_boundary_pts_A_i_1_to_n_minus_1, rough_boundary_pts_B_i_1_to_n_minus_2)"
   ]
  },
  {
   "cell_type": "code",
   "execution_count": null,
   "metadata": {},
   "outputs": [],
   "source": [
    "%proving min_rb_distance_n_minus_2"
   ]
  },
  {
   "cell_type": "code",
   "execution_count": null,
   "metadata": {},
   "outputs": [],
   "source": [
    "defaults.assumptions = min_rb_distance_n_minus_2.all_conditions()"
   ]
  },
  {
   "cell_type": "markdown",
   "metadata": {},
   "source": [
    "#### Miscellaneous info about $n$"
   ]
  },
  {
   "cell_type": "code",
   "execution_count": null,
   "metadata": {},
   "outputs": [],
   "source": [
    "from proveit.physics.quantum.QEC import _n_in_integer, _n_ge_three\n",
    "display(_n_in_integer)\n",
    "display(_n_ge_three)"
   ]
  },
  {
   "cell_type": "markdown",
   "metadata": {},
   "source": [
    "#### Definitions (theorems) of the two rough boundary point sets\n",
    "Definitions (theorems) of the two rough boundary point sets, plus some routine derivations related to these sets. We imported these at the top of the notebok, so we now display and instantiate them. Notice that the definition for rough boundary points $A$ holds for $i \\in \\{1, \\ldots, n-1\\}$, while the definition for rough boundary points $B$ holds for $i \\in \\{1, \\ldots, n-2\\}$:"
   ]
  },
  {
   "cell_type": "code",
   "execution_count": null,
   "metadata": {},
   "outputs": [],
   "source": [
    "display(rough_boundary_pts_A_i_1_to_n_minus_1)\n",
    "display(rough_boundary_pts_B_i_1_to_n_minus_2)"
   ]
  },
  {
   "cell_type": "code",
   "execution_count": null,
   "metadata": {},
   "outputs": [],
   "source": [
    "rough_boundary_pts_A_i_1_to_n_minus_1_inst = rough_boundary_pts_A_i_1_to_n_minus_1.instantiate()"
   ]
  },
  {
   "cell_type": "code",
   "execution_count": null,
   "metadata": {},
   "outputs": [],
   "source": [
    "rough_boundary_pts_B_i_1_to_n_minus_2_inst = rough_boundary_pts_B_i_1_to_n_minus_2.instantiate()"
   ]
  },
  {
   "cell_type": "markdown",
   "metadata": {},
   "source": [
    "Then connecting the corresponding UnionMemberships to the disjunction of separate SetOfAllMemberships:"
   ]
  },
  {
   "cell_type": "code",
   "execution_count": null,
   "metadata": {},
   "outputs": [],
   "source": [
    "a_in_union_def = InSet(a, rough_boundary_pts_A_i_1_to_n_minus_1_inst.rhs).definition()"
   ]
  },
  {
   "cell_type": "code",
   "execution_count": null,
   "metadata": {},
   "outputs": [],
   "source": [
    "b_in_union_def = InSet(b, rough_boundary_pts_B_i_1_to_n_minus_2_inst.rhs).definition()"
   ]
  },
  {
   "cell_type": "markdown",
   "metadata": {},
   "source": [
    "Then a little more manual work to connect things up:"
   ]
  },
  {
   "cell_type": "code",
   "execution_count": null,
   "metadata": {},
   "outputs": [],
   "source": [
    "a_in_union_def.lhs.prove()"
   ]
  },
  {
   "cell_type": "code",
   "execution_count": null,
   "metadata": {},
   "outputs": [],
   "source": [
    "b_in_union_def.lhs.prove()"
   ]
  },
  {
   "cell_type": "markdown",
   "metadata": {},
   "source": [
    "#### Individual Contributing Sub-Theorems.\n",
    "We imported the individual contributing pieces (sub-theorems) at the top of the notebook, so we display them here in preparation for instantiating and using them:"
   ]
  },
  {
   "cell_type": "code",
   "execution_count": null,
   "metadata": {},
   "outputs": [],
   "source": [
    "print(f\"East-West distances:\", end='')\n",
    "display(d_ge_n_east_west_n_minus_2)\n",
    "print(f\"North-South distances:\", end='')\n",
    "display(d_ge_n_north_south_n_minus_2)\n",
    "print(f\"East-South distances:\", end='')\n",
    "display(d_ge_n_east_south_n_minus_2)\n",
    "print(f\"North-West distances:\", end='')\n",
    "display(d_ge_n_north_west_n_minus_2)"
   ]
  },
  {
   "cell_type": "markdown",
   "metadata": {},
   "source": [
    "#### Combining East-West and North-West results.\n",
    "\n",
    "We instantiate the East-West and North-West sub-theorems and then use the `Or.derive_via_singlar_dilemma()` method on the disjunction of the East and North points."
   ]
  },
  {
   "cell_type": "code",
   "execution_count": null,
   "metadata": {},
   "outputs": [],
   "source": [
    "east_west_inst = d_ge_n_east_west_n_minus_2.instantiate({a:a, b:b, i:i},\n",
    "                 assumptions = defaults.assumptions + [InSet(a, _rba1), InSet(b, _rbb1)])"
   ]
  },
  {
   "cell_type": "code",
   "execution_count": null,
   "metadata": {},
   "outputs": [],
   "source": [
    "north_west_inst = d_ge_n_north_west_n_minus_2.instantiate({a:a, b:b, i:i},\n",
    "                  assumptions = defaults.assumptions + [InSet(a, _rba2), InSet(b, _rbb1)])"
   ]
  },
  {
   "cell_type": "markdown",
   "metadata": {},
   "source": [
    "In calling the `Or.derive_via_singular_dilemma()` method, we need the specific assumption about $b \\in \\text{\\_rbb1}$, because $b \\in RBB$ doesn't actually imply that specific subset membership:"
   ]
  },
  {
   "cell_type": "code",
   "execution_count": null,
   "metadata": {},
   "outputs": [],
   "source": [
    "east_or_north_to_west = Or(InSet(a, _rba1), InSet(a, _rba2)).derive_via_singular_dilemma(north_west_inst.expr,\n",
    "            assumptions=defaults.assumptions + [InSet(b, _rbb1)])"
   ]
  },
  {
   "cell_type": "markdown",
   "metadata": {},
   "source": [
    "#### Combining East-South and North-South results.\n",
    "\n",
    "Similarly, we combine East-South and North-South results, by first instantiating the East-South and North-South sub-theorems and then using the `Or.derive_via_singlar_dilemma()` method on the disjunction of the East and North points."
   ]
  },
  {
   "cell_type": "code",
   "execution_count": null,
   "metadata": {},
   "outputs": [],
   "source": [
    "east_south_inst = d_ge_n_east_south_n_minus_2.instantiate({a:a, b:b, i:i},\n",
    "                 assumptions = defaults.assumptions + [InSet(a, _rba1), InSet(b, _rbb2)])"
   ]
  },
  {
   "cell_type": "code",
   "execution_count": null,
   "metadata": {},
   "outputs": [],
   "source": [
    "north_south_inst = d_ge_n_north_south_n_minus_2.instantiate({a:a, b:b, i:i},\n",
    "                 assumptions = defaults.assumptions + [InSet(a, _rba2), InSet(b, _rbb2)])"
   ]
  },
  {
   "cell_type": "code",
   "execution_count": null,
   "metadata": {},
   "outputs": [],
   "source": [
    "east_or_north_to_south = Or(InSet(a, _rba1), InSet(a, _rba2)).derive_via_singular_dilemma(east_south_inst.expr,\n",
    "assumptions = defaults.assumptions + [InSet(b, _rbb2)])"
   ]
  },
  {
   "cell_type": "markdown",
   "metadata": {},
   "source": [
    "#### Combining (East $\\lor$ North)-to-West with the (East $\\lor$ North)-to-South results"
   ]
  },
  {
   "cell_type": "markdown",
   "metadata": {},
   "source": [
    "Now, we combine the two main results, combining the (East $\\lor$ North)-to-West results with the (East $\\lor$ North)-to-South results. This is now possible using just the default assumptions:"
   ]
  },
  {
   "cell_type": "code",
   "execution_count": null,
   "metadata": {},
   "outputs": [],
   "source": [
    "east_or_north_to_west_or_south = Or(InSet(b, _rbb1), InSet(b, _rbb2)).derive_via_singular_dilemma(east_or_north_to_south.expr)"
   ]
  },
  {
   "cell_type": "code",
   "execution_count": null,
   "metadata": {},
   "outputs": [],
   "source": [
    "%qed"
   ]
  },
  {
   "cell_type": "code",
   "execution_count": null,
   "metadata": {},
   "outputs": [],
   "source": []
  }
 ],
 "metadata": {
  "kernelspec": {
   "display_name": "Python 3",
   "language": "python",
   "name": "python3"
  }
 },
 "nbformat": 4,
 "nbformat_minor": 0
}
