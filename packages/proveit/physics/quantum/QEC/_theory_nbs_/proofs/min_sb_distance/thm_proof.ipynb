{
 "cells": [
  {
   "cell_type": "markdown",
   "metadata": {},
   "source": [
    "Proof of <a class=\"ProveItLink\" href=\"../../../../../../_theory_nbs_/theory.ipynb\">proveit</a>.<a class=\"ProveItLink\" href=\"../../../../../_theory_nbs_/theory.ipynb\">physics</a>.<a class=\"ProveItLink\" href=\"../../../../_theory_nbs_/theory.ipynb\">quantum</a>.<a class=\"ProveItLink\" href=\"../../theory.ipynb\">QEC</a>.<a class=\"ProveItLink\" href=\"../../theorems.ipynb#min_sb_distance\">min_sb_distance</a> theorem\n",
    "========"
   ]
  },
  {
   "cell_type": "code",
   "execution_count": null,
   "metadata": {},
   "outputs": [],
   "source": [
    "import proveit\n",
    "from proveit import defaults\n",
    "from proveit.physics.quantum.QEC import (\n",
    "        d_ge_n_smooth_north_south_i_1_to_n_minus_1, d_ge_n_smooth_west_east_i_1_to_n_minus_1,\n",
    "        d_ge_n_smooth_north_east_i_1_to_n_minus_1, d_ge_n_smooth_west_south_i_1_to_n_minus_1,\n",
    "        smooth_boundary_pts_north_west, smooth_boundary_pts_south_east)\n",
    "theory = proveit.Theory() # the theorem's theory"
   ]
  },
  {
   "cell_type": "code",
   "execution_count": null,
   "metadata": {},
   "outputs": [],
   "source": [
    "%proving min_sb_distance"
   ]
  },
  {
   "cell_type": "code",
   "execution_count": null,
   "metadata": {},
   "outputs": [],
   "source": [
    "defaults.assumptions = min_sb_distance.all_conditions()"
   ]
  },
  {
   "cell_type": "markdown",
   "metadata": {},
   "source": [
    "#### Miscellaneous info about $n$"
   ]
  },
  {
   "cell_type": "code",
   "execution_count": null,
   "metadata": {},
   "outputs": [],
   "source": [
    "from proveit.physics.quantum.QEC import _n_in_integer, _n_ge_three\n",
    "display(_n_in_integer)\n",
    "display(_n_ge_three)"
   ]
  },
  {
   "cell_type": "markdown",
   "metadata": {},
   "source": [
    "#### Definitions (theorems) of the two smooth boundary point sets\n",
    "Definitions (theorems) of the two smooth boundary point sets, plus some routine derivations related to these sets. We imported these at the top of the notebok, so we now display and instantiate them. Notice that the definition for smooth boundary points $A$ (North & West) and $B$ (South & East) both hold for $i \\in \\{1, \\ldots, n-1\\}$:"
   ]
  },
  {
   "cell_type": "code",
   "execution_count": null,
   "metadata": {},
   "outputs": [],
   "source": [
    "display(smooth_boundary_pts_north_west)\n",
    "display(smooth_boundary_pts_south_east)"
   ]
  },
  {
   "cell_type": "code",
   "execution_count": null,
   "metadata": {},
   "outputs": [],
   "source": [
    "smooth_boundary_pts_north_west_inst = smooth_boundary_pts_north_west.instantiate()"
   ]
  },
  {
   "cell_type": "code",
   "execution_count": null,
   "metadata": {},
   "outputs": [],
   "source": [
    "smooth_boundary_pts_south_east_inst = smooth_boundary_pts_south_east.instantiate()"
   ]
  },
  {
   "cell_type": "markdown",
   "metadata": {},
   "source": [
    "Then connecting the corresponding UnionMemberships to the disjunction of separate SetOfAllMemberships:"
   ]
  },
  {
   "cell_type": "code",
   "execution_count": null,
   "metadata": {},
   "outputs": [],
   "source": [
    "from proveit import a\n",
    "from proveit.logic import InSet\n",
    "a_in_union_def = InSet(a, smooth_boundary_pts_north_west_inst.rhs).definition()"
   ]
  },
  {
   "cell_type": "code",
   "execution_count": null,
   "metadata": {},
   "outputs": [],
   "source": [
    "from proveit import b\n",
    "b_in_union_def = InSet(b, smooth_boundary_pts_south_east_inst.rhs).definition()"
   ]
  },
  {
   "cell_type": "markdown",
   "metadata": {},
   "source": [
    "Then a little more manual work to connect things up:"
   ]
  },
  {
   "cell_type": "code",
   "execution_count": null,
   "metadata": {},
   "outputs": [],
   "source": [
    "a_in_union_def.lhs.prove()"
   ]
  },
  {
   "cell_type": "code",
   "execution_count": null,
   "metadata": {},
   "outputs": [],
   "source": [
    "b_in_union_def.lhs.prove()"
   ]
  },
  {
   "cell_type": "markdown",
   "metadata": {},
   "source": [
    "#### Individual Contributing Sub-Theorems.\n",
    "We imported the individual contributing pieces (sub-theorems) at the top of the notebook, so we display them here in preparation for instantiating and using them:"
   ]
  },
  {
   "cell_type": "code",
   "execution_count": null,
   "metadata": {},
   "outputs": [],
   "source": [
    "print(f\"North-South distances:\", end='')\n",
    "display(d_ge_n_smooth_north_south_i_1_to_n_minus_1)\n",
    "print(f\"West-East distances:\", end='')\n",
    "display(d_ge_n_smooth_west_east_i_1_to_n_minus_1)\n",
    "print(f\"North-East distances:\", end='')\n",
    "display(d_ge_n_smooth_north_east_i_1_to_n_minus_1)\n",
    "print(f\"West-South distances:\", end='')\n",
    "display(d_ge_n_smooth_west_south_i_1_to_n_minus_1)"
   ]
  },
  {
   "cell_type": "markdown",
   "metadata": {},
   "source": [
    "#### Combining North-East and West-East results.\n",
    "\n",
    "We instantiate the North-East and West-East sub-theorems and then use the `Or.derive_via_singlar_dilemma()` method on the disjunction of the North and West set memberships."
   ]
  },
  {
   "cell_type": "code",
   "execution_count": null,
   "metadata": {},
   "outputs": [],
   "source": [
    "from proveit import a, b, i\n",
    "from proveit.physics.quantum.QEC import _smooth_boundary_pts_north, _smooth_boundary_pts_east\n",
    "north_east_inst = d_ge_n_smooth_north_east_i_1_to_n_minus_1.instantiate({a:a, b:b, i:i},\n",
    "                 assumptions = defaults.assumptions + [InSet(a, _smooth_boundary_pts_north), InSet(b, _smooth_boundary_pts_east)])"
   ]
  },
  {
   "cell_type": "code",
   "execution_count": null,
   "metadata": {},
   "outputs": [],
   "source": [
    "from proveit import a, b, i\n",
    "from proveit.physics.quantum.QEC import _smooth_boundary_pts_west, _smooth_boundary_pts_east\n",
    "west_east_inst = d_ge_n_smooth_west_east_i_1_to_n_minus_1.instantiate({a:a, b:b, i:i},\n",
    "                 assumptions = defaults.assumptions + [InSet(a, _smooth_boundary_pts_west), InSet(b, _smooth_boundary_pts_east)])"
   ]
  },
  {
   "cell_type": "markdown",
   "metadata": {},
   "source": [
    "In calling the `Or.derive_via_singular_dilemma()` method, we need the specific assumption about $b \\in \\text{\\_smooth\\_boundary\\_pts\\_east}$, because $b \\in SB_{B}$ doesn't actually imply that specific subset membership:"
   ]
  },
  {
   "cell_type": "code",
   "execution_count": null,
   "metadata": {},
   "outputs": [],
   "source": [
    "from proveit.logic import Or\n",
    "north_or_west_to_east = (\n",
    "    Or(InSet(a, _smooth_boundary_pts_north), InSet(a, _smooth_boundary_pts_west) ).derive_via_singular_dilemma(\n",
    "        west_east_inst.expr, assumptions = defaults.assumptions + [InSet(b, _smooth_boundary_pts_east)]))"
   ]
  },
  {
   "cell_type": "markdown",
   "metadata": {},
   "source": [
    "#### Combining North-South and West-South results.\n",
    "\n",
    "Similarly, we combine North-South and West-South results, by first instantiating the North-South and West-South sub-theorems and then using the `Or.derive_via_singlar_dilemma()` method on the disjunction of the North and West set memberships."
   ]
  },
  {
   "cell_type": "code",
   "execution_count": null,
   "metadata": {},
   "outputs": [],
   "source": [
    "from proveit import a, b, i\n",
    "from proveit.physics.quantum.QEC import _smooth_boundary_pts_north, _smooth_boundary_pts_south\n",
    "north_south_inst = d_ge_n_smooth_north_south_i_1_to_n_minus_1.instantiate({a:a, b:b, i:i},\n",
    "                 assumptions = defaults.assumptions + [InSet(a, _smooth_boundary_pts_north), InSet(b, _smooth_boundary_pts_south)])"
   ]
  },
  {
   "cell_type": "code",
   "execution_count": null,
   "metadata": {},
   "outputs": [],
   "source": [
    "from proveit import a, b, i\n",
    "from proveit.physics.quantum.QEC import _smooth_boundary_pts_west, _smooth_boundary_pts_south\n",
    "west_south_inst = d_ge_n_smooth_west_south_i_1_to_n_minus_1.instantiate({a:a, b:b, i:i},\n",
    "                 assumptions = defaults.assumptions + [InSet(a, _smooth_boundary_pts_west), InSet(b, _smooth_boundary_pts_south)])"
   ]
  },
  {
   "cell_type": "markdown",
   "metadata": {},
   "source": [
    "In calling the `Or.derive_via_singular_dilemma()` method, we need the specific assumption about $b \\in \\text{\\_smooth\\_boundary\\_pts\\_south}$, because $b \\in SB_{B}$ doesn't actually imply that specific subset membership:"
   ]
  },
  {
   "cell_type": "code",
   "execution_count": null,
   "metadata": {},
   "outputs": [],
   "source": [
    "from proveit.logic import Or\n",
    "north_or_west_to_south = (\n",
    "    Or(InSet(a, _smooth_boundary_pts_north), InSet(a, _smooth_boundary_pts_west) ).derive_via_singular_dilemma(\n",
    "        north_south_inst.expr, assumptions = defaults.assumptions + [InSet(b, _smooth_boundary_pts_south)]))"
   ]
  },
  {
   "cell_type": "markdown",
   "metadata": {},
   "source": [
    "#### Combining (North $\\lor$ West)-to-East with the (North $\\lor$ West)-to-South results"
   ]
  },
  {
   "cell_type": "markdown",
   "metadata": {},
   "source": [
    "Now, we combine the two main results, combining the (North $\\lor$ West)-to-East results with the (North $\\lor$ West)-to-South results. This is now possible using just the default assumptions:"
   ]
  },
  {
   "cell_type": "code",
   "execution_count": null,
   "metadata": {},
   "outputs": [],
   "source": [
    "north_or_west_to_east_or_south = (\n",
    "    Or(InSet(b, _smooth_boundary_pts_south), InSet(b, _smooth_boundary_pts_east)).derive_via_singular_dilemma(\n",
    "        north_or_west_to_south.expr))"
   ]
  },
  {
   "cell_type": "code",
   "execution_count": null,
   "metadata": {},
   "outputs": [],
   "source": [
    "%qed"
   ]
  },
  {
   "cell_type": "code",
   "execution_count": null,
   "metadata": {},
   "outputs": [],
   "source": []
  }
 ],
 "metadata": {
  "kernelspec": {
   "display_name": "Python 3",
   "language": "python",
   "name": "python3"
  }
 },
 "nbformat": 4,
 "nbformat_minor": 0
}
