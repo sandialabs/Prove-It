{
 "cells": [
  {
   "cell_type": "markdown",
   "metadata": {},
   "source": [
    "Proof of <a class=\"ProveItLink\" href=\"../../../../../../_theory_nbs_/theory.ipynb\">proveit</a>.<a class=\"ProveItLink\" href=\"../../../../../_theory_nbs_/theory.ipynb\">physics</a>.<a class=\"ProveItLink\" href=\"../../../../_theory_nbs_/theory.ipynb\">quantum</a>.<a class=\"ProveItLink\" href=\"../../theory.ipynb\">QEC</a>.<a class=\"ProveItLink\" href=\"../../theorems.ipynb#empty_syndrome_non_stabilizer_iff_odd_boundary_vertices\">empty_syndrome_non_stabilizer_iff_odd_boundary_vertices</a> theorem\n",
    "========"
   ]
  },
  {
   "cell_type": "code",
   "execution_count": null,
   "metadata": {},
   "outputs": [],
   "source": [
    "import proveit\n",
    "from proveit import defaults\n",
    "theory = proveit.Theory() # the theorem's theory"
   ]
  },
  {
   "cell_type": "code",
   "execution_count": null,
   "metadata": {},
   "outputs": [],
   "source": [
    "%proving empty_syndrome_non_stabilizer_iff_odd_boundary_vertices"
   ]
  },
  {
   "cell_type": "markdown",
   "metadata": {},
   "source": [
    "##### Proof Outline"
   ]
  },
  {
   "cell_type": "markdown",
   "metadata": {},
   "source": [
    "The proof of this theorem is based on two other contributing theorems, specifically:\n",
    "\n",
    "- `empty_site_syndrome_iff_all_even_interior_vertices`: a Z-error chain produces an empty site syndrome if and only if the graph of that Z-error chain has all even interior vertices (it might or might not have boundary vertices).\n",
    "- `all_even_vertices_implies_stabilizer`: if the graph of a Z-error chain has all even vertices, then the chain corresponds to a code stabilizer.\n",
    "\n",
    "OUTLINE for $\\Rightarrow$ direction:\n",
    "\n",
    "(1) Assume $\\Big(\\big(\\texttt{site-syndrome}(E, K) = \\emptyset\\big) \\land \\big(E \\notin \\texttt{stabilizer}(K)\\big)\\Big)$\n",
    "\n",
    "(2) $(\\big(\\texttt{site-syndrome}(E, K) = \\emptyset\\big)$ (SUBTRACTION, using (1))\n",
    "\n",
    "(3) $\\big(\\texttt{site-syndrome}(E, K) = \\emptyset\\big) \\Rightarrow\n",
    "     \\big(\\forall_{v \\in \\texttt{InteriorVertices}(\\texttt{graph\\_of}(E, K))}[\\texttt{deg}(v, \\texttt{graph\\_of}(E, K)) \\in \\mathbb{E}]\\big)$ (THEOREM)\n",
    "\n",
    "(4) $\\big(\\forall_{v \\in \\texttt{InteriorVertices}(\\texttt{graph\\_of}(E, K))}[\\texttt{deg}(v, \\texttt{graph\\_of}(E, K)) \\in \\mathbb{E}]\\big)$ (MODUS PONENS, using (2) and (3))\n",
    "\n",
    "(5) $\\big(\\forall_{v \\in \\texttt{InteriorVertices}(\\texttt{graph\\_of}(E, SC))}[\\texttt{deg}(v, \\texttt{graph\\_of}(E, SC)) \\notin \\mathbb{O}]\\big)$ (FROM (4), using the fact that a vertex is either odd XOR even)\n",
    "\n",
    "(6) $\\big(\\forall_{v \\in \\texttt{Vertices}(\\texttt{graph\\_of}(E, K))}[\\texttt{deg}(v, \\texttt{graph\\_of}(E, K)) \\in \\mathbb{E}]\\big)\n",
    "\\Rightarrow \\big(E \\in \\texttt{stabilizer}(K)\\big)$ (THEOREM)\n",
    "\n",
    "(7) $\\big(E \\notin \\texttt{stabilizer}(K)\\big)\n",
    "\\Rightarrow \\big(\\lnot \\big(\\forall_{v \\in \\texttt{Vertices}(\\texttt{graph\\_of}(E, K))}[\\texttt{deg}(v, \\texttt{graph\\_of}(E, K)) \\in \\mathbb{E}]\\big) \\big)$\n",
    "\n",
    "(8) $\\big(E \\notin \\texttt{stabilizer}(K)\\big)$ (SUBTRACTION, using (1))\n",
    "\n",
    "(9) $\\big(\\lnot \\big(\\forall_{v \\in \\texttt{Vertices}(\\texttt{graph\\_of}(E, K))}[\\texttt{deg}(v, \\texttt{graph\\_of}(E, K)) \\in \\mathbb{E}]\\big) \\big)$ (MODUS PONENS, using (7) and (8))\n",
    "\n",
    "(10) $\\exists_{v \\in \\texttt{Vertices}(\\texttt{graph\\_of}(E, K))}\\big(\\texttt{deg}(v, \\texttt{graph\\_of}(E, K) \\in \\mathbb{O})\\big)$ (Def $\\lnot\\forall$, using (9); this will take multiple steps)\n",
    "\n",
    "(11) $\\exists_{v \\in \\texttt{bound\\_verts}(\\texttt{graph\\_of}(E, K))}\\big(\\texttt{deg}(v, \\texttt{graph\\_of}(E, K) \\in \\mathbb{O})\\big)$ (using (4) and (10); this will take multiple steps)\n",
    "\n",
    "(12) A graph always has an even number of odd vertices. (THEOREM from graph theory)\n",
    "\n",
    "==================== even more sketchy from here ====================\n",
    "\n",
    "(13) We have only TWO boundary vertices. (Something axiomatic here about `graph_of()`?)\n",
    "\n",
    "(14) Both boundary points are contained in the $\\texttt{graph\\_of}(E, K)$ (using (11), (12), (13)) and both boundary points are ODD."
   ]
  },
  {
   "cell_type": "markdown",
   "metadata": {},
   "source": [
    "##### Establish the default assumptions, corresponding to the conditions in the theorem:"
   ]
  },
  {
   "cell_type": "code",
   "execution_count": null,
   "metadata": {},
   "outputs": [],
   "source": [
    "defaults.assumptions = empty_syndrome_non_stabilizer_iff_odd_boundary_vertices.all_conditions()"
   ]
  },
  {
   "cell_type": "markdown",
   "metadata": {},
   "source": [
    "##### Pull in our two contributing theorems, instantiating each one:"
   ]
  },
  {
   "cell_type": "code",
   "execution_count": null,
   "metadata": {},
   "outputs": [],
   "source": [
    "# Theorem (1)\n",
    "from proveit.physics.quantum.QEC import empty_site_syndrome_iff_all_even_interior_vertices\n",
    "empty_site_syndrome_iff_all_even_interior_vertices"
   ]
  },
  {
   "cell_type": "code",
   "execution_count": null,
   "metadata": {},
   "outputs": [],
   "source": [
    "empty_site_syndrome_iff_all_even_interior_vertices_inst = empty_site_syndrome_iff_all_even_interior_vertices.instantiate().instantiate()"
   ]
  },
  {
   "cell_type": "code",
   "execution_count": null,
   "metadata": {},
   "outputs": [],
   "source": [
    "# Theorem (2)\n",
    "from proveit.physics.quantum.QEC import all_even_vertices_implies_stabilizer\n",
    "all_even_vertices_implies_stabilizer"
   ]
  },
  {
   "cell_type": "code",
   "execution_count": null,
   "metadata": {},
   "outputs": [],
   "source": [
    "all_even_vertices_implies_stabilizer_inst = (\n",
    "    all_even_vertices_implies_stabilizer.instantiate().instantiate())"
   ]
  },
  {
   "cell_type": "markdown",
   "metadata": {},
   "source": [
    "#### Part I: Proof of $\\Rightarrow$ Direction"
   ]
  },
  {
   "cell_type": "markdown",
   "metadata": {},
   "source": [
    "##### (1) Add LHS to our assumptions."
   ]
  },
  {
   "cell_type": "code",
   "execution_count": null,
   "metadata": {},
   "outputs": [],
   "source": [
    "thm_lhs = empty_syndrome_non_stabilizer_iff_odd_boundary_vertices.instance_expr.instance_expr.lhs"
   ]
  },
  {
   "cell_type": "code",
   "execution_count": null,
   "metadata": {},
   "outputs": [],
   "source": [
    "defaults.assumptions = defaults.assumptions + [thm_lhs]"
   ]
  },
  {
   "cell_type": "markdown",
   "metadata": {},
   "source": [
    "##### (2) Derive empty site-syndrome from the assumed conjunction."
   ]
  },
  {
   "cell_type": "code",
   "execution_count": null,
   "metadata": {},
   "outputs": [],
   "source": [
    "thm_lhs.operands[0].prove()"
   ]
  },
  {
   "cell_type": "markdown",
   "metadata": {},
   "source": [
    "##### (3) & (4) Having an empty site syndrome and one of our contributing theorems, derive (via _modus ponens_) all even interior vertices."
   ]
  },
  {
   "cell_type": "code",
   "execution_count": null,
   "metadata": {},
   "outputs": [],
   "source": [
    "all_int_verts_are_even = empty_site_syndrome_iff_all_even_interior_vertices_inst.derive_right()"
   ]
  },
  {
   "cell_type": "code",
   "execution_count": null,
   "metadata": {},
   "outputs": [],
   "source": [
    "from proveit import v, E, K\n",
    "from proveit.logic import InSet\n",
    "from proveit.physics.quantum.QEC import InteriorVertices, MergedBoundsGraphOfZError\n",
    "all_int_verts_are_even_inst = all_int_verts_are_even.instantiate(assumptions = [InSet(v, InteriorVertices(MergedBoundsGraphOfZError(E, K)))])"
   ]
  },
  {
   "cell_type": "markdown",
   "metadata": {},
   "source": [
    "##### (5) Derive that no interior vertex is odd."
   ]
  },
  {
   "cell_type": "markdown",
   "metadata": {},
   "source": [
    "One way to proceed here would be to have a theorem that would allow us to convert $\\texttt{deg}(v)\\in \\mathbb{E}$ to $\\texttt{deg}(v) \\notin \\mathbb{O}$. This might eventually be best developed in the graphs sub-theory pkg. but the evens/odds concepts are developed in a separate branch, with graphs and evens/odds only coming together right now here in the QEC package."
   ]
  },
  {
   "cell_type": "code",
   "execution_count": null,
   "metadata": {},
   "outputs": [],
   "source": [
    "from proveit import E, K, G\n",
    "from proveit.physics.quantum.QEC import deg_is_odd_xor_even, MergedBoundsGraphOfZError"
   ]
  },
  {
   "cell_type": "markdown",
   "metadata": {},
   "source": [
    "We begin with our graph theory theorem that any graph vertex is either even or odd:"
   ]
  },
  {
   "cell_type": "code",
   "execution_count": null,
   "metadata": {},
   "outputs": [],
   "source": [
    "deg_is_odd_xor_even"
   ]
  },
  {
   "cell_type": "markdown",
   "metadata": {},
   "source": [
    "And we know that the graph of a Z-error chain is in fact a graph, so we can instantiate the more general degree theorem for our merged-boundary-points graph:"
   ]
  },
  {
   "cell_type": "code",
   "execution_count": null,
   "metadata": {},
   "outputs": [],
   "source": [
    "from proveit.physics.quantum.QEC import merged_bounds_graph_of_z_error_chain_is_graph\n",
    "merged_bounds_graph_of_z_error_chain_is_graph"
   ]
  },
  {
   "cell_type": "code",
   "execution_count": null,
   "metadata": {},
   "outputs": [],
   "source": [
    "merged_bounds_graph_of_z_error_chain_is_graph.instantiate().instantiate().instantiate()"
   ]
  },
  {
   "cell_type": "code",
   "execution_count": null,
   "metadata": {},
   "outputs": [],
   "source": [
    "deg_is_odd_xor_even_inst = deg_is_odd_xor_even.instantiate({G:MergedBoundsGraphOfZError(E, K)}).instantiate({})"
   ]
  },
  {
   "cell_type": "markdown",
   "metadata": {},
   "source": [
    "Then we know that _interior_ vertices constitute a subset of all vertices:"
   ]
  },
  {
   "cell_type": "code",
   "execution_count": null,
   "metadata": {},
   "outputs": [],
   "source": [
    "from proveit.physics.quantum.QEC import interior_vertices_subset_eq_of_all_vertices\n",
    "interior_vertices_subset_eq_of_all_vertices"
   ]
  },
  {
   "cell_type": "code",
   "execution_count": null,
   "metadata": {},
   "outputs": [],
   "source": [
    "interior_vertices_subset_eq_of_all_vertices_inst = (\n",
    "    interior_vertices_subset_eq_of_all_vertices.instantiate().instantiate().instantiate())"
   ]
  },
  {
   "cell_type": "markdown",
   "metadata": {},
   "source": [
    "Then we construct the desired “For all” over the interior vertices, and prove it using the fact that the interior vertices constitute a subset of all vertices:"
   ]
  },
  {
   "cell_type": "code",
   "execution_count": null,
   "metadata": {},
   "outputs": [],
   "source": [
    "from proveit import v, X\n",
    "from proveit.logic import Forall, InSet, XOr\n",
    "from proveit.numbers import IntegerEven, IntegerOdd\n",
    "from proveit.graphs import Degree, Vertices\n",
    "from proveit.physics.quantum.QEC import GraphOf, InteriorVertices, MergedBoundsGraphOfZError"
   ]
  },
  {
   "cell_type": "code",
   "execution_count": null,
   "metadata": {},
   "outputs": [],
   "source": [
    "deg_is_odd_xor_even_for_interior_vertices = Forall(v,\n",
    "       XOr(InSet(Degree(v, MergedBoundsGraphOfZError(E, K)), IntegerEven),\n",
    "           InSet(Degree(v, MergedBoundsGraphOfZError(E, K)), IntegerOdd)),\n",
    "domain = InteriorVertices(MergedBoundsGraphOfZError(E, K)))"
   ]
  },
  {
   "cell_type": "code",
   "execution_count": null,
   "metadata": {},
   "outputs": [],
   "source": [
    "int_verts_even_or_odd = deg_is_odd_xor_even_for_interior_vertices.conclude_via_domain_inclusion(Vertices(MergedBoundsGraphOfZError(E, K)))"
   ]
  },
  {
   "cell_type": "code",
   "execution_count": null,
   "metadata": {},
   "outputs": [],
   "source": [
    "int_verts_even_or_odd_inst = int_verts_even_or_odd.instantiate(assumptions = [InSet(v, InteriorVertices(MergedBoundsGraphOfZError(E, K)))])"
   ]
  },
  {
   "cell_type": "code",
   "execution_count": null,
   "metadata": {},
   "outputs": [],
   "source": [
    "no_int_vert_is_odd = int_verts_even_or_odd_inst.derive_not_right_if_left()"
   ]
  },
  {
   "cell_type": "code",
   "execution_count": null,
   "metadata": {},
   "outputs": [],
   "source": [
    "from proveit.logic import NotInSet\n",
    "int_vert_not_in_odd = NotInSet(Degree(v, MergedBoundsGraphOfZError(E, K)), IntegerOdd).prove(\n",
    "    assumptions = defaults.assumptions + [InSet(v, InteriorVertices(MergedBoundsGraphOfZError(E, K)))])"
   ]
  },
  {
   "cell_type": "code",
   "execution_count": null,
   "metadata": {},
   "outputs": [],
   "source": [
    "int_vert_not_in_odd.generalize(v, domain = InteriorVertices(MergedBoundsGraphOfZError(E, K)))"
   ]
  },
  {
   "cell_type": "markdown",
   "metadata": {},
   "source": [
    "#### (6), (7), (8), & (9) Derive that a non-stabilizer error means not all vertices are even."
   ]
  },
  {
   "cell_type": "code",
   "execution_count": null,
   "metadata": {},
   "outputs": [],
   "source": [
    "all_even_vertices_implies_stabilizer_inst"
   ]
  },
  {
   "cell_type": "code",
   "execution_count": null,
   "metadata": {},
   "outputs": [],
   "source": [
    "not_all_verts_even_for_non_stabilizer = all_even_vertices_implies_stabilizer_inst.deny_antecedent()"
   ]
  },
  {
   "cell_type": "markdown",
   "metadata": {},
   "source": [
    "#### (10) Derive that there exist odd vertices: $\\exists_{v \\in \\texttt{Vertices}(\\texttt{graph\\_of}(E, K))}\\big(\\texttt{deg}(v, \\texttt{graph\\_of}(E, K) \\in \\mathbb{O})\\big)$\n",
    "\n",
    "Difficulty here is that we don't have a straightforward and convenient way to go from $\\lnot\\big(\\forall_{x}P(x)\\big)$ to $\\exists_{x}\\big(\\lnot P(x)\\big)$. Instead, we have a way to go from $\\lnot\\big(\\forall_{x}(P(x) \\ne \\top)\\big)$ to $\\exists_{x}P(x)$, which is confusing. We can even achieve the following: $\\texttt{deg}(v, \\mathcal{G}_{mb}(E, K)) \\in \\mathbb{E} \\vdash (\\texttt{deg}(v, \\mathcal{G}_{mb}(E, K)) \\notin \\mathbb{E}) \\ne \\top$, but since that's essentially an implication and not an equality, it too is difficult to use to move forward."
   ]
  },
  {
   "cell_type": "code",
   "execution_count": null,
   "metadata": {},
   "outputs": [],
   "source": [
    "from proveit.logic import Exists, Not"
   ]
  },
  {
   "cell_type": "code",
   "execution_count": null,
   "metadata": {},
   "outputs": [],
   "source": [
    "exists_non_even_eq_not_forall_even = Exists(v, Not(InSet(Degree(v, MergedBoundsGraphOfZError(E, K)), IntegerEven)),\n",
    "       domain = Vertices(MergedBoundsGraphOfZError(E, K))).definition()"
   ]
  },
  {
   "cell_type": "code",
   "execution_count": null,
   "metadata": {},
   "outputs": [],
   "source": [
    "exists_v_non_even = exists_non_even_eq_not_forall_even.sub_left_side_into(not_all_verts_even_for_non_stabilizer)"
   ]
  },
  {
   "cell_type": "code",
   "execution_count": null,
   "metadata": {},
   "outputs": [],
   "source": [
    "from proveit.physics.quantum.QEC import v_prime\n",
    "exists_v_non_even.choose(v_prime)"
   ]
  },
  {
   "cell_type": "code",
   "execution_count": null,
   "metadata": {},
   "outputs": [],
   "source": [
    "from proveit.physics.quantum.QEC import deg_is_odd_xor_even\n",
    "deg_is_odd_xor_even"
   ]
  },
  {
   "cell_type": "code",
   "execution_count": null,
   "metadata": {},
   "outputs": [],
   "source": [
    "from proveit import v, G\n",
    "v_prime_is_even_or_odd = deg_is_odd_xor_even.instantiate({G: MergedBoundsGraphOfZError(E, K), v:v_prime})"
   ]
  },
  {
   "cell_type": "code",
   "execution_count": null,
   "metadata": {},
   "outputs": [],
   "source": [
    "v_prime_is_odd = v_prime_is_even_or_odd.derive_right_if_not_left()"
   ]
  },
  {
   "cell_type": "markdown",
   "metadata": {},
   "source": [
    "We can now use that as an example for proving (by example) the existential we want!"
   ]
  },
  {
   "cell_type": "code",
   "execution_count": null,
   "metadata": {},
   "outputs": [],
   "source": [
    "odd_vertex_exists = Exists(v, InSet(Degree(v, MergedBoundsGraphOfZError(E, K)), IntegerOdd),\n",
    "       domain = Vertices(MergedBoundsGraphOfZError(E, K))).conclude_via_example(v_prime)"
   ]
  },
  {
   "cell_type": "code",
   "execution_count": null,
   "metadata": {},
   "outputs": [],
   "source": [
    "odd_vertex_exists.eliminate(v_prime)"
   ]
  },
  {
   "cell_type": "code",
   "execution_count": null,
   "metadata": {},
   "outputs": [],
   "source": []
  },
  {
   "cell_type": "markdown",
   "metadata": {},
   "source": [
    "We are here!"
   ]
  },
  {
   "cell_type": "markdown",
   "metadata": {},
   "source": [
    "#### (11) Derive that there must exist an odd _boundary_ vertex:\n",
    "\n",
    "#### $\\exists_{v \\in \\texttt{bound\\_verts}(\\mathcal{G}_{mb}(E, K))}\\big(\\texttt{deg}(v, \\mathcal{G}_{mb}(E, K) \\in \\mathbb{O})\\big)$ (using (4) and (10); this will take multiple steps)"
   ]
  },
  {
   "cell_type": "markdown",
   "metadata": {},
   "source": [
    "Recall from Step (4) we have:"
   ]
  },
  {
   "cell_type": "code",
   "execution_count": null,
   "metadata": {},
   "outputs": [],
   "source": [
    "all_int_verts_are_even_inst"
   ]
  },
  {
   "cell_type": "code",
   "execution_count": null,
   "metadata": {},
   "outputs": [],
   "source": [
    "all_int_verts_are_even_inst_as_impl = all_int_verts_are_even_inst.as_implication(InSet(v, InteriorVertices(MergedBoundsGraphOfZError(E, K))))"
   ]
  },
  {
   "cell_type": "code",
   "execution_count": null,
   "metadata": {},
   "outputs": [],
   "source": []
  },
  {
   "cell_type": "code",
   "execution_count": null,
   "metadata": {},
   "outputs": [],
   "source": [
    "all_int_verts_are_even_inst_as_impl.contrapose()"
   ]
  },
  {
   "cell_type": "code",
   "execution_count": null,
   "metadata": {},
   "outputs": [],
   "source": []
  },
  {
   "cell_type": "code",
   "execution_count": null,
   "metadata": {},
   "outputs": [],
   "source": [
    "assert False"
   ]
  },
  {
   "cell_type": "code",
   "execution_count": null,
   "metadata": {},
   "outputs": [],
   "source": [
    "exists_v_non_even.expr.instance_expr"
   ]
  },
  {
   "cell_type": "code",
   "execution_count": null,
   "metadata": {},
   "outputs": [],
   "source": [
    "v_not_even = Not(InSet(Degree(v, MergedBoundsGraphOfZError(E, K)), IntegerEven))"
   ]
  },
  {
   "cell_type": "code",
   "execution_count": null,
   "metadata": {},
   "outputs": [],
   "source": [
    "v_is_odd = InSet(Degree(v, MergedBoundsGraphOfZError(E, K)), IntegerOdd)"
   ]
  },
  {
   "cell_type": "code",
   "execution_count": null,
   "metadata": {},
   "outputs": [],
   "source": [
    "v_prime_not_even_expr = Not(InSet(Degree(v_prime, MergedBoundsGraphOfZError(E, K)), IntegerEven))"
   ]
  },
  {
   "cell_type": "code",
   "execution_count": null,
   "metadata": {},
   "outputs": [],
   "source": [
    "v_prime_is_odd_expr = InSet(Degree(v_prime, MergedBoundsGraphOfZError(E, K)), IntegerOdd)"
   ]
  },
  {
   "cell_type": "code",
   "execution_count": null,
   "metadata": {},
   "outputs": [],
   "source": [
    "from proveit.logic import Implies"
   ]
  },
  {
   "cell_type": "code",
   "execution_count": null,
   "metadata": {},
   "outputs": [],
   "source": [
    "Implies(v_prime_not_even_expr, v_prime_is_odd_expr).prove()"
   ]
  },
  {
   "cell_type": "code",
   "execution_count": null,
   "metadata": {},
   "outputs": [],
   "source": [
    "# not tried yet\n",
    "# v_prime_is_odd.as_implication(Not(InSet(Degree(v_prime, MergedBoundsGraphOfZError(E, K)), IntegerEven)))"
   ]
  },
  {
   "cell_type": "code",
   "execution_count": null,
   "metadata": {},
   "outputs": [],
   "source": [
    "# Implies(v_not_even, v_is_odd).prove(assumptions = [InSet(v, MergedBoundsGraphOfZError(E, K))])"
   ]
  },
  {
   "cell_type": "code",
   "execution_count": null,
   "metadata": {},
   "outputs": [],
   "source": [
    "# from proveit.logic import Implies\n",
    "# Forall(v, Implies(v_not_even, v_is_odd), domain = Vertices(MergedBoundsGraphOfZError(E, K))).prove()"
   ]
  },
  {
   "cell_type": "code",
   "execution_count": null,
   "metadata": {},
   "outputs": [],
   "source": [
    "v_prime_is_odd.eliminate(v_prime)"
   ]
  },
  {
   "cell_type": "code",
   "execution_count": null,
   "metadata": {},
   "outputs": [],
   "source": [
    "# Exists.eliminate(v_prime, v_prime_is_odd)"
   ]
  },
  {
   "cell_type": "code",
   "execution_count": null,
   "metadata": {},
   "outputs": [],
   "source": []
  },
  {
   "cell_type": "code",
   "execution_count": null,
   "metadata": {},
   "outputs": [],
   "source": [
    "assert False"
   ]
  },
  {
   "cell_type": "code",
   "execution_count": null,
   "metadata": {},
   "outputs": [],
   "source": []
  },
  {
   "cell_type": "code",
   "execution_count": null,
   "metadata": {},
   "outputs": [],
   "source": []
  },
  {
   "cell_type": "markdown",
   "metadata": {},
   "source": [
    "#### EXPERIMENTING"
   ]
  },
  {
   "cell_type": "code",
   "execution_count": null,
   "metadata": {},
   "outputs": [],
   "source": [
    "from proveit.logic import Boolean, Equals, FALSE, NotEquals, NotInSet, TRUE"
   ]
  },
  {
   "cell_type": "code",
   "execution_count": null,
   "metadata": {},
   "outputs": [],
   "source": [
    "deg_even = InSet(Degree(v, MergedBoundsGraphOfZError(E, K)), IntegerEven)"
   ]
  },
  {
   "cell_type": "code",
   "execution_count": null,
   "metadata": {},
   "outputs": [],
   "source": [
    "deg_not_even_not_true = NotEquals(NotInSet(Degree(v, MergedBoundsGraphOfZError(E, K)), IntegerEven), TRUE)"
   ]
  },
  {
   "cell_type": "code",
   "execution_count": null,
   "metadata": {},
   "outputs": [],
   "source": [
    "deg_not_even_not_true.prove(assumptions = [deg_even])"
   ]
  },
  {
   "cell_type": "code",
   "execution_count": null,
   "metadata": {},
   "outputs": [],
   "source": [
    "from proveit.logic import Exists, Not\n",
    "exists_non_even_deg_vert = Exists(v, Not(InSet(Degree(v, MergedBoundsGraphOfZError(E, K)), IntegerEven)), domain = InteriorVertices(MergedBoundsGraphOfZError(E, K)))"
   ]
  },
  {
   "cell_type": "markdown",
   "metadata": {},
   "source": [
    "#### END EXPERIMENTING"
   ]
  },
  {
   "cell_type": "markdown",
   "metadata": {},
   "source": [
    "#### Part II: Proof of $\\Leftarrow$ Direction"
   ]
  },
  {
   "cell_type": "code",
   "execution_count": null,
   "metadata": {},
   "outputs": [],
   "source": []
  },
  {
   "cell_type": "code",
   "execution_count": null,
   "metadata": {},
   "outputs": [],
   "source": []
  },
  {
   "cell_type": "code",
   "execution_count": null,
   "metadata": {},
   "outputs": [],
   "source": []
  }
 ],
 "metadata": {
  "kernelspec": {
   "display_name": "Python 3",
   "language": "python",
   "name": "python3"
  }
 },
 "nbformat": 4,
 "nbformat_minor": 0
}
