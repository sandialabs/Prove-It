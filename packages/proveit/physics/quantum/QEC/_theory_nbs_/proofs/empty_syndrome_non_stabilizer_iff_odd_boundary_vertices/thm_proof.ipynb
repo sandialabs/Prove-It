{
 "cells": [
  {
   "cell_type": "markdown",
   "metadata": {},
   "source": [
    "Proof of <a class=\"ProveItLink\" href=\"../../../../../../_theory_nbs_/theory.ipynb\">proveit</a>.<a class=\"ProveItLink\" href=\"../../../../../_theory_nbs_/theory.ipynb\">physics</a>.<a class=\"ProveItLink\" href=\"../../../../_theory_nbs_/theory.ipynb\">quantum</a>.<a class=\"ProveItLink\" href=\"../../theory.ipynb\">QEC</a>.<a class=\"ProveItLink\" href=\"../../theorems.ipynb#empty_syndrome_non_stabilizer_iff_odd_boundary_vertices\">empty_syndrome_non_stabilizer_iff_odd_boundary_vertices</a> theorem\n",
    "========"
   ]
  },
  {
   "cell_type": "code",
   "execution_count": null,
   "metadata": {},
   "outputs": [],
   "source": [
    "import proveit\n",
    "from proveit import defaults\n",
    "theory = proveit.Theory() # the theorem's theory"
   ]
  },
  {
   "cell_type": "code",
   "execution_count": null,
   "metadata": {},
   "outputs": [],
   "source": [
    "%proving empty_syndrome_non_stabilizer_iff_odd_boundary_vertices"
   ]
  },
  {
   "cell_type": "markdown",
   "metadata": {},
   "source": [
    "##### Proof Outline"
   ]
  },
  {
   "cell_type": "markdown",
   "metadata": {},
   "source": [
    "The proof of this theorem is based on two other contributing theorems, specifically:\n",
    "\n",
    "- `empty_site_syndrome_iff_all_even_interior_vertices`: a Z-error chain produces an empty site syndrome if and only if the graph of that Z-error chain has all even interior vertices (it might or might not have boundary vertices).\n",
    "- `all_even_vertices_implies_stabilizer`: if the graph of a Z-error chain has all even vertices, then the chain corresponds to a code stabilizer.\n",
    "\n",
    "OUTLINE for $\\Rightarrow$ direction:\n",
    "\n",
    "(1) Assume $\\Big(\\big(\\texttt{site-syndrome}(E, K) = \\emptyset\\big) \\land \\big(E \\notin \\texttt{stabilizer}(K)\\big)\\Big)$\n",
    "\n",
    "(2) $(\\big(\\texttt{site-syndrome}(E, K) = \\emptyset\\big)$ (SUBTRACTION, using (1))\n",
    "\n",
    "(3) $\\big(\\texttt{site-syndrome}(E, K) = \\emptyset\\big) \\Rightarrow\n",
    "     \\big(\\forall_{v \\in \\texttt{InteriorVertices}(\\texttt{graph\\_of}(E, K))}[\\texttt{deg}(v, \\texttt{graph\\_of}(E, K)) \\in \\mathbb{E}]\\big)$ (THEOREM)\n",
    "\n",
    "(4) $\\big(\\forall_{v \\in \\texttt{InteriorVertices}(\\texttt{graph\\_of}(E, K))}[\\texttt{deg}(v, \\texttt{graph\\_of}(E, K)) \\in \\mathbb{E}]\\big)$ (MODUS PONENS, using (2) and (3))\n",
    "\n",
    "(5) $\\big(\\forall_{v \\in \\texttt{InteriorVertices}(\\texttt{graph\\_of}(E, SC))}[\\texttt{deg}(v, \\texttt{graph\\_of}(E, SC)) \\notin \\mathbb{O}]\\big)$ (FROM (4), using the fact that a vertex is either odd XOR even)\n",
    "\n",
    "(6) $\\big(\\forall_{v \\in \\texttt{Vertices}(\\texttt{graph\\_of}(E, K))}[\\texttt{deg}(v, \\texttt{graph\\_of}(E, K)) \\in \\mathbb{E}]\\big)\n",
    "\\Rightarrow \\big(E \\in \\texttt{stabilizer}(K)\\big)$ (THEOREM)\n",
    "\n",
    "(7) $\\big(E \\notin \\texttt{stabilizer}(K)\\big)\n",
    "\\Rightarrow \\big(\\lnot \\big(\\forall_{v \\in \\texttt{Vertices}(\\texttt{graph\\_of}(E, K))}[\\texttt{deg}(v, \\texttt{graph\\_of}(E, K)) \\in \\mathbb{E}]\\big) \\big)$\n",
    "\n",
    "(8) $\\big(E \\notin \\texttt{stabilizer}(K)\\big)$ (SUBTRACTION, using (1))\n",
    "\n",
    "(9) $\\big(\\lnot \\big(\\forall_{v \\in \\texttt{Vertices}(\\texttt{graph\\_of}(E, K))}[\\texttt{deg}(v, \\texttt{graph\\_of}(E, K)) \\in \\mathbb{E}]\\big) \\big)$ (MODUS PONENS, using (7) and (8))\n",
    "\n",
    "(10) $\\exists_{v \\in \\texttt{Vertices}(\\texttt{graph\\_of}(E, K))}\\big(\\texttt{deg}(v, \\texttt{graph\\_of}(E, K) \\in \\mathbb{O})\\big)$ (Def $\\lnot\\forall$, using (9); this will take multiple steps)\n",
    "\n",
    "(11) $\\exists_{v \\in \\texttt{bound\\_verts}(\\texttt{graph\\_of}(E, K))}\\big(\\texttt{deg}(v, \\texttt{graph\\_of}(E, K) \\in \\mathbb{O})\\big)$ (using (4) and (10); this will take multiple steps)\n",
    "\n",
    "(12) A graph always has an even number of odd vertices. (THEOREM from graph theory)\n",
    "\n",
    "==================== even more sketchy from here ====================\n",
    "\n",
    "(13) We have only TWO boundary vertices. (Something axiomatic here about `graph_of()`?)\n",
    "\n",
    "(14) Both boundary points are contained in the $\\texttt{graph\\_of}(E, K)$ (using (11), (12), (13)) and both boundary points are ODD."
   ]
  },
  {
   "cell_type": "markdown",
   "metadata": {},
   "source": [
    "##### Establish the default assumptions, corresponding to the conditions in the theorem:"
   ]
  },
  {
   "cell_type": "code",
   "execution_count": null,
   "metadata": {},
   "outputs": [],
   "source": [
    "defaults.assumptions = empty_syndrome_non_stabilizer_iff_odd_boundary_vertices.all_conditions()"
   ]
  },
  {
   "cell_type": "markdown",
   "metadata": {},
   "source": [
    "##### Pull in our two contributing theorems, instantiating each one:"
   ]
  },
  {
   "cell_type": "code",
   "execution_count": null,
   "metadata": {},
   "outputs": [],
   "source": [
    "# Theorem (1)\n",
    "from proveit.physics.quantum.QEC import empty_site_syndrome_iff_all_even_interior_vertices\n",
    "empty_site_syndrome_iff_all_even_interior_vertices"
   ]
  },
  {
   "cell_type": "code",
   "execution_count": null,
   "metadata": {},
   "outputs": [],
   "source": [
    "empty_site_syndrome_iff_all_even_interior_vertices_inst = empty_site_syndrome_iff_all_even_interior_vertices.instantiate().instantiate()"
   ]
  },
  {
   "cell_type": "code",
   "execution_count": null,
   "metadata": {},
   "outputs": [],
   "source": [
    "# Theorem (2)\n",
    "from proveit.physics.quantum.QEC import all_even_vertices_implies_stabilizer\n",
    "all_even_vertices_implies_stabilizer"
   ]
  },
  {
   "cell_type": "code",
   "execution_count": null,
   "metadata": {},
   "outputs": [],
   "source": [
    "all_even_vertices_implies_stabilizer_inst = (\n",
    "    all_even_vertices_implies_stabilizer.instantiate().instantiate())"
   ]
  },
  {
   "cell_type": "markdown",
   "metadata": {},
   "source": [
    "#### Part I: Proof of $\\Rightarrow$ Direction"
   ]
  },
  {
   "cell_type": "markdown",
   "metadata": {},
   "source": [
    "##### (1) Add LHS to our assumptions."
   ]
  },
  {
   "cell_type": "code",
   "execution_count": null,
   "metadata": {},
   "outputs": [],
   "source": [
    "thm_lhs = empty_syndrome_non_stabilizer_iff_odd_boundary_vertices.instance_expr.instance_expr.lhs"
   ]
  },
  {
   "cell_type": "code",
   "execution_count": null,
   "metadata": {},
   "outputs": [],
   "source": [
    "defaults.assumptions = defaults.assumptions + [thm_lhs]"
   ]
  },
  {
   "cell_type": "markdown",
   "metadata": {},
   "source": [
    "##### (2) Derive empty site-syndrome from the assumed conjunction."
   ]
  },
  {
   "cell_type": "code",
   "execution_count": null,
   "metadata": {},
   "outputs": [],
   "source": [
    "thm_lhs.operands[0].prove()"
   ]
  },
  {
   "cell_type": "markdown",
   "metadata": {},
   "source": [
    "##### (3) & (4) Having an empty site syndrome and one of our contributing theorems, derive (via _modus ponens_) all even interior vertices."
   ]
  },
  {
   "cell_type": "code",
   "execution_count": null,
   "metadata": {},
   "outputs": [],
   "source": [
    "empty_site_syndrome_iff_all_even_interior_vertices_inst.derive_right()"
   ]
  },
  {
   "cell_type": "markdown",
   "metadata": {},
   "source": [
    "##### (5) Derive that no interior vertex is odd."
   ]
  },
  {
   "cell_type": "markdown",
   "metadata": {},
   "source": [
    "One way to proceed here would be to have a theorem that would allow us to convert $\\texttt{deg}(v)\\in \\mathbb{E}$ to $\\texttt{deg}(v) \\notin \\mathbb{O}$. This might be best developed in the graphs sub-theory pkg."
   ]
  },
  {
   "cell_type": "markdown",
   "metadata": {},
   "source": [
    "Then need an additional theorem in the `Evens` and `Odds`: the `Evens` and `Odds` partition Integers and the Naturals, and the positive NaturalPos, etc."
   ]
  },
  {
   "cell_type": "code",
   "execution_count": null,
   "metadata": {},
   "outputs": [],
   "source": []
  },
  {
   "cell_type": "markdown",
   "metadata": {},
   "source": [
    "#### Part II: Proof of $\\Leftarrow$ Direction"
   ]
  },
  {
   "cell_type": "code",
   "execution_count": null,
   "metadata": {},
   "outputs": [],
   "source": []
  },
  {
   "cell_type": "code",
   "execution_count": null,
   "metadata": {},
   "outputs": [],
   "source": []
  },
  {
   "cell_type": "code",
   "execution_count": null,
   "metadata": {},
   "outputs": [],
   "source": []
  }
 ],
 "metadata": {
  "kernelspec": {
   "display_name": "Python 3",
   "language": "python",
   "name": "python3"
  }
 },
 "nbformat": 4,
 "nbformat_minor": 0
}
