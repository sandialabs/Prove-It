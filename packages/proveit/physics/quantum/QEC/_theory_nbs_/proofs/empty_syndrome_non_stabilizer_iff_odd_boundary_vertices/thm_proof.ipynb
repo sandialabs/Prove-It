{
 "cells": [
  {
   "cell_type": "markdown",
   "metadata": {},
   "source": [
    "Proof of <a class=\"ProveItLink\" href=\"../../../../../../_theory_nbs_/theory.ipynb\">proveit</a>.<a class=\"ProveItLink\" href=\"../../../../../_theory_nbs_/theory.ipynb\">physics</a>.<a class=\"ProveItLink\" href=\"../../../../_theory_nbs_/theory.ipynb\">quantum</a>.<a class=\"ProveItLink\" href=\"../../theory.ipynb\">QEC</a>.<a class=\"ProveItLink\" href=\"../../theorems.ipynb#empty_syndrome_non_stabilizer_iff_odd_boundary_vertices\">empty_syndrome_non_stabilizer_iff_odd_boundary_vertices</a> theorem\n",
    "========"
   ]
  },
  {
   "cell_type": "code",
   "execution_count": null,
   "metadata": {},
   "outputs": [],
   "source": [
    "import proveit\n",
    "from proveit import defaults\n",
    "theory = proveit.Theory() # the theorem's theory"
   ]
  },
  {
   "cell_type": "code",
   "execution_count": null,
   "metadata": {},
   "outputs": [],
   "source": [
    "%proving empty_syndrome_non_stabilizer_iff_odd_boundary_vertices"
   ]
  },
  {
   "cell_type": "code",
   "execution_count": null,
   "metadata": {},
   "outputs": [],
   "source": [
    "defaults.assumptions = empty_syndrome_non_stabilizer_iff_odd_boundary_vertices.all_conditions()"
   ]
  },
  {
   "cell_type": "code",
   "execution_count": null,
   "metadata": {},
   "outputs": [],
   "source": [
    "from proveit.physics.quantum.QEC import empty_site_syndrome_iff_all_even_interior_vertices\n",
    "empty_site_syndrome_iff_all_even_interior_vertices"
   ]
  },
  {
   "cell_type": "code",
   "execution_count": null,
   "metadata": {},
   "outputs": [],
   "source": [
    "empty_site_syndrome_iff_all_even_interior_vertices_inst = empty_site_syndrome_iff_all_even_interior_vertices.instantiate().instantiate()"
   ]
  },
  {
   "cell_type": "markdown",
   "metadata": {},
   "source": [
    "#### Part (1): $\\Rightarrow$ Direction\n",
    "\n",
    "$\\Big(\\big(\\texttt{site-syndrome}(E, SC) = \\emptyset\\big) \\land \\big(E \\notin \\texttt{stabilizer}(SC)\\big)\\Big)\n",
    "\\Rightarrow\n",
    "\\Big( \\forall_{v \\in \\texttt{BoundaryVertices}(E, SC)}\\big(\\texttt{deg}(v, \\texttt{graph\\_of}(E, SC)) \\in \\mathbb(O)\\big) \\Big)$\n",
    "\n",
    "Proof outline:\n",
    "\n",
    "(1) $\\Big(\\big(\\texttt{site-syndrome}(E, SC) = \\emptyset\\big) \\land \\big(E \\notin \\texttt{stabilizer}(SC)\\big)\\Big)\n",
    "\\Rightarrow (\\big(\\texttt{site-syndrome}(E, SC) = \\emptyset\\big)$\n",
    "\n",
    "(2) $\\big(\\texttt{site-syndrome}(E, SC) = \\emptyset\\big) \\Rightarrow\n",
    "     \\big(\\forall_{v \\in \\texttt{InteriorVertices}(\\texttt{graph\\_of}(E, SC))}[\\texttt{deg}(v, \\texttt{graph\\_of}(E, SC)) \\in \\mathbb{E}]\\big)$\n",
    "\n",
    "(3) $\\big(\\forall_{v \\in \\texttt{InteriorVertices}(\\texttt{graph\\_of}(E, SC))}[\\texttt{deg}(v, \\texttt{graph\\_of}(E, SC)) \\in \\mathbb{E}]\\big) \\Rightarrow \\big(\\forall_{v \\in \\texttt{InteriorVertices}(\\texttt{graph\\_of}(E, SC))}[\\texttt{deg}(v, \\texttt{graph\\_of}(E, SC)) \\notin \\mathbb{O}]\\big)$\n",
    "\n",
    "(4) $\\ldots$"
   ]
  },
  {
   "cell_type": "code",
   "execution_count": null,
   "metadata": {},
   "outputs": [],
   "source": [
    "thm_lhs = empty_syndrome_non_stabilizer_iff_odd_boundary_vertices.instance_expr.instance_expr.lhs"
   ]
  },
  {
   "cell_type": "code",
   "execution_count": null,
   "metadata": {},
   "outputs": [],
   "source": [
    "defaults.assumptions = defaults.assumptions + [thm_lhs]"
   ]
  },
  {
   "cell_type": "code",
   "execution_count": null,
   "metadata": {},
   "outputs": [],
   "source": [
    "thm_lhs.operands[0].prove()"
   ]
  },
  {
   "cell_type": "code",
   "execution_count": null,
   "metadata": {},
   "outputs": [],
   "source": [
    "empty_site_syndrome_iff_all_even_interior_vertices_inst.derive_right()"
   ]
  },
  {
   "cell_type": "markdown",
   "metadata": {},
   "source": [
    "Then need an additional theorem in the `Evens` and `Odds`: the `Evens` and `Odds` partition Integers and the Naturals, and the positive NaturalPos, etc."
   ]
  },
  {
   "cell_type": "code",
   "execution_count": null,
   "metadata": {},
   "outputs": [],
   "source": []
  },
  {
   "cell_type": "markdown",
   "metadata": {},
   "source": [
    "#### Part (2): $\\Leftarrow$ Direction"
   ]
  },
  {
   "cell_type": "code",
   "execution_count": null,
   "metadata": {},
   "outputs": [],
   "source": []
  },
  {
   "cell_type": "code",
   "execution_count": null,
   "metadata": {},
   "outputs": [],
   "source": []
  },
  {
   "cell_type": "code",
   "execution_count": null,
   "metadata": {},
   "outputs": [],
   "source": []
  }
 ],
 "metadata": {
  "kernelspec": {
   "display_name": "Python 3",
   "language": "python",
   "name": "python3"
  }
 },
 "nbformat": 4,
 "nbformat_minor": 0
}
