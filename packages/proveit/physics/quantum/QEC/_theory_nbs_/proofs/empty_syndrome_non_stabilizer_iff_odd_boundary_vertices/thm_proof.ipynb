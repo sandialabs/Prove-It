{
 "cells": [
  {
   "cell_type": "markdown",
   "metadata": {},
   "source": [
    "Proof of <a class=\"ProveItLink\" href=\"../../../../../../_theory_nbs_/theory.ipynb\">proveit</a>.<a class=\"ProveItLink\" href=\"../../../../../_theory_nbs_/theory.ipynb\">physics</a>.<a class=\"ProveItLink\" href=\"../../../../_theory_nbs_/theory.ipynb\">quantum</a>.<a class=\"ProveItLink\" href=\"../../theory.ipynb\">QEC</a>.<a class=\"ProveItLink\" href=\"../../theorems.ipynb#empty_syndrome_non_stabilizer_iff_odd_boundary_vertices\">empty_syndrome_non_stabilizer_iff_odd_boundary_vertices</a> theorem\n",
    "========"
   ]
  },
  {
   "cell_type": "code",
   "execution_count": null,
   "metadata": {},
   "outputs": [],
   "source": [
    "import proveit\n",
    "from proveit import defaults\n",
    "theory = proveit.Theory() # the theorem's theory"
   ]
  },
  {
   "cell_type": "code",
   "execution_count": null,
   "metadata": {},
   "outputs": [],
   "source": [
    "%proving empty_syndrome_non_stabilizer_iff_odd_boundary_vertices"
   ]
  },
  {
   "cell_type": "markdown",
   "metadata": {},
   "source": [
    "Probably need to update the thm statement:\n",
    "Given an empty site syndrome, then non-stabilizer iff all boundary vertices are odd\n",
    "and likely will only need the forward direction!"
   ]
  },
  {
   "cell_type": "markdown",
   "metadata": {},
   "source": [
    "##### Proof Outline"
   ]
  },
  {
   "cell_type": "markdown",
   "metadata": {},
   "source": [
    "The proof of this theorem is based on two other contributing theorems, specifically:\n",
    "\n",
    "- `empty_site_syndrome_iff_all_even_interior_vertices`: a Z-error chain produces an empty site syndrome if and only if the graph of that Z-error chain has all even interior vertices (it might or might not have boundary vertices).\n",
    "- `all_even_vertices_implies_stabilizer`: if the graph of a Z-error chain has all even vertices, then the chain corresponds to a code stabilizer.\n",
    "\n",
    "OUTLINE for $\\Rightarrow$ direction:\n",
    "\n",
    "(1) Assume $\\Big(\\big(\\texttt{site-syndrome}(E, K) = \\emptyset\\big) \\land \\big(E \\notin \\texttt{stabilizer}(K)\\big)\\Big)$\n",
    "\n",
    "(2) $(\\big(\\texttt{site-syndrome}(E, K) = \\emptyset\\big)$ (SUBTRACTION, using (1))\n",
    "\n",
    "(3) $\\big(\\texttt{site-syndrome}(E, K) = \\emptyset\\big) \\Rightarrow\n",
    "     \\big(\\forall_{v \\in \\texttt{InteriorVertices}(\\texttt{graph\\_of}(E, K))}[\\texttt{deg}(v, \\texttt{graph\\_of}(E, K)) \\in \\mathbb{E}]\\big)$ (THEOREM)\n",
    "\n",
    "(4) $\\big(\\forall_{v \\in \\texttt{InteriorVertices}(\\texttt{graph\\_of}(E, K))}[\\texttt{deg}(v, \\texttt{graph\\_of}(E, K)) \\in \\mathbb{E}]\\big)$ (MODUS PONENS, using (2) and (3))\n",
    "\n",
    "(5) $\\big(\\forall_{v \\in \\texttt{InteriorVertices}(\\texttt{graph\\_of}(E, SC))}[\\texttt{deg}(v, \\texttt{graph\\_of}(E, SC)) \\notin \\mathbb{O}]\\big)$ (FROM (4), using the fact that a vertex is either odd XOR even)\n",
    "\n",
    "(6) $\\big(\\forall_{v \\in \\texttt{Vertices}(\\texttt{graph\\_of}(E, K))}[\\texttt{deg}(v, \\texttt{graph\\_of}(E, K)) \\in \\mathbb{E}]\\big)\n",
    "\\Rightarrow \\big(E \\in \\texttt{stabilizer}(K)\\big)$ (THEOREM)\n",
    "\n",
    "(7) $\\big(E \\notin \\texttt{stabilizer}(K)\\big)\n",
    "\\Rightarrow \\big(\\lnot \\big(\\forall_{v \\in \\texttt{Vertices}(\\texttt{graph\\_of}(E, K))}[\\texttt{deg}(v, \\texttt{graph\\_of}(E, K)) \\in \\mathbb{E}]\\big) \\big)$\n",
    "\n",
    "(8) $\\big(E \\notin \\texttt{stabilizer}(K)\\big)$ (SUBTRACTION, using (1))\n",
    "\n",
    "(9) $\\big(\\lnot \\big(\\forall_{v \\in \\texttt{Vertices}(\\texttt{graph\\_of}(E, K))}[\\texttt{deg}(v, \\texttt{graph\\_of}(E, K)) \\in \\mathbb{E}]\\big) \\big)$ (MODUS PONENS, using (7) and (8))\n",
    "\n",
    "(10) $\\exists_{v \\in \\texttt{Vertices}(\\texttt{graph\\_of}(E, K))}\\big(\\texttt{deg}(v, \\texttt{graph\\_of}(E, K) \\in \\mathbb{O})\\big)$ (Def $\\lnot\\forall$, using (9); this will take multiple steps)\n",
    "\n",
    "(11) $\\exists_{v \\in \\texttt{bound\\_verts}(\\texttt{graph\\_of}(E, K))}\\big(\\texttt{deg}(v, \\texttt{graph\\_of}(E, K) \\in \\mathbb{O})\\big)$ (using (4) and (10), plus the fact/thm that every vertex is either an interior vertex or a boundary vertex; this will take multiple steps).\n",
    "\n",
    "- 11(a) From (10) we have $\\exists_{v \\in \\texttt{Vertices}(\\mathcal{G}_{mb}(E, K))}\\big(\\texttt{deg}(v, \\mathcal{G}_{mb}(E, K) \\in \\mathbb{O})\\big)$\n",
    "- 11(b) We can Skolemize, calling such a vertex $v'$, so that we now have in our assumptions that $v' \\in \\texttt{Vertices}(\\mathcal{G}_{mb}(E, K))$ and $\\texttt{deg}(v', \\mathcal{G}_{mb}(E, K) \\in \\mathbb{O})$.\n",
    "- 11(c) From (4), we have $\\big(\\forall_{v \\in \\texttt{InteriorVertices}(\\mathcal{G}_{mb}(E, K))}[\\texttt{deg}(v, \\mathcal{G}_{mb}(E, K)) \\in \\mathbb{E}]\\big)$.\n",
    "- 11(d) From 11(c), derive the implication: $\\big(v \\in \\texttt{InteriorVertices}\\big) \\Rightarrow [\\texttt{deg}(v, \\mathcal{G}_{mb}(E, K)) \\in \\mathbb{E}]$\n",
    "- 11(e) From 11(d), derive the contrapositive: $\\lnot[\\texttt{deg}(v, \\mathcal{G}_{mb}(E, K)) \\in \\mathbb{E}] \\Rightarrow \\lnot\\big(v \\in \\texttt{InteriorVertices}\\big)$. Here we see that we might be wasting some steps/time shifting back and forth between the notion of “odd degree” and “not even degree.” In Step (10) we already have an intermediate step where we know that $v'$ is not even.\n",
    "- Ignoring the redundancy for now, from 11(e) we can do a substitution to obtain $[\\texttt{deg}(v, \\mathcal{G}_{mb}(E, K)) \\in \\mathbb{O}] \\Rightarrow \\lnot\\big(v \\in \\texttt{InteriorVertices}\\big)$. This can done using the theorem $\\forall_{G \\in \\texttt{Graphs}} \\forall_{v \\in \\texttt{Vertices}(G)}\\big(\\lnot(\\texttt{deg}(v, G) \\in \\mathbb{E}) = (\\texttt{deg}(v, G) \\in \\mathbb{O})\\big)$\n",
    "\n",
    "(12) A graph always has an even number of odd vertices. (THEOREM from graph theory)\n",
    "\n",
    "==================== even more sketchy from here ====================\n",
    "\n",
    "(13) We have only TWO boundary vertices. (Something axiomatic here about `graph_of()`?)\n",
    "\n",
    "(14) Both boundary points are contained in the $\\texttt{graph\\_of}(E, K)$ (using (11), (12), (13)) and both boundary points are ODD."
   ]
  },
  {
   "cell_type": "markdown",
   "metadata": {},
   "source": [
    "##### Establish the default assumptions, corresponding to the conditions in the theorem:"
   ]
  },
  {
   "cell_type": "code",
   "execution_count": null,
   "metadata": {},
   "outputs": [],
   "source": [
    "defaults.assumptions = empty_syndrome_non_stabilizer_iff_odd_boundary_vertices.all_conditions()"
   ]
  },
  {
   "cell_type": "markdown",
   "metadata": {},
   "source": [
    "##### Pull in our two contributing theorems, instantiating each one:"
   ]
  },
  {
   "cell_type": "code",
   "execution_count": null,
   "metadata": {},
   "outputs": [],
   "source": [
    "# Theorem (1)\n",
    "from proveit.physics.quantum.QEC import empty_site_syndrome_iff_all_even_interior_vertices\n",
    "empty_site_syndrome_iff_all_even_interior_vertices"
   ]
  },
  {
   "cell_type": "code",
   "execution_count": null,
   "metadata": {},
   "outputs": [],
   "source": [
    "empty_site_syndrome_iff_all_even_interior_vertices_inst = empty_site_syndrome_iff_all_even_interior_vertices.instantiate().instantiate()"
   ]
  },
  {
   "cell_type": "code",
   "execution_count": null,
   "metadata": {},
   "outputs": [],
   "source": [
    "# Theorem (2)\n",
    "from proveit.physics.quantum.QEC import all_even_vertices_implies_stabilizer\n",
    "all_even_vertices_implies_stabilizer"
   ]
  },
  {
   "cell_type": "code",
   "execution_count": null,
   "metadata": {},
   "outputs": [],
   "source": [
    "all_even_vertices_implies_stabilizer_inst = (\n",
    "    all_even_vertices_implies_stabilizer.instantiate().instantiate())"
   ]
  },
  {
   "cell_type": "markdown",
   "metadata": {},
   "source": [
    "#### Part I: Proof of $\\Rightarrow$ Direction"
   ]
  },
  {
   "cell_type": "markdown",
   "metadata": {},
   "source": [
    "##### (1) Add LHS to our assumptions."
   ]
  },
  {
   "cell_type": "code",
   "execution_count": null,
   "metadata": {},
   "outputs": [],
   "source": [
    "thm_lhs = empty_syndrome_non_stabilizer_iff_odd_boundary_vertices.instance_expr.instance_expr.lhs"
   ]
  },
  {
   "cell_type": "code",
   "execution_count": null,
   "metadata": {},
   "outputs": [],
   "source": [
    "defaults.assumptions = defaults.assumptions + [thm_lhs]"
   ]
  },
  {
   "cell_type": "markdown",
   "metadata": {},
   "source": [
    "##### (2) Derive empty site-syndrome from the assumed conjunction."
   ]
  },
  {
   "cell_type": "code",
   "execution_count": null,
   "metadata": {},
   "outputs": [],
   "source": [
    "thm_lhs.operands[0].prove()"
   ]
  },
  {
   "cell_type": "markdown",
   "metadata": {},
   "source": [
    "##### (3) & (4) Having an empty site syndrome and one of our contributing theorems, derive (via _modus ponens_) all even interior vertices."
   ]
  },
  {
   "cell_type": "code",
   "execution_count": null,
   "metadata": {},
   "outputs": [],
   "source": [
    "all_int_verts_are_even = empty_site_syndrome_iff_all_even_interior_vertices_inst.derive_right()"
   ]
  },
  {
   "cell_type": "code",
   "execution_count": null,
   "metadata": {},
   "outputs": [],
   "source": [
    "from proveit import v, E, K\n",
    "from proveit.logic import InSet\n",
    "from proveit.physics.quantum.QEC import InteriorVertices, MergedBoundsGraphOfZError\n",
    "all_int_verts_are_even_inst = all_int_verts_are_even.instantiate(assumptions = [InSet(v, InteriorVertices(MergedBoundsGraphOfZError(E, K)))])"
   ]
  },
  {
   "cell_type": "markdown",
   "metadata": {},
   "source": [
    "##### (5) Derive that no interior vertex is odd."
   ]
  },
  {
   "cell_type": "markdown",
   "metadata": {},
   "source": [
    "One way to proceed here would be to have a theorem that would allow us to convert $\\texttt{deg}(v)\\in \\mathbb{E}$ to $\\texttt{deg}(v) \\notin \\mathbb{O}$. This might eventually be best developed in the graphs sub-theory pkg. but the evens/odds concepts are developed in a separate branch, with graphs and evens/odds only coming together right now here in the QEC package."
   ]
  },
  {
   "cell_type": "code",
   "execution_count": null,
   "metadata": {},
   "outputs": [],
   "source": [
    "from proveit import E, K, G\n",
    "from proveit.graphs import deg_is_odd_xor_even\n",
    "from proveit.physics.quantum.QEC import MergedBoundsGraphOfZError"
   ]
  },
  {
   "cell_type": "markdown",
   "metadata": {},
   "source": [
    "We begin with our graph theory theorem that any graph vertex is either even or odd:"
   ]
  },
  {
   "cell_type": "code",
   "execution_count": null,
   "metadata": {},
   "outputs": [],
   "source": [
    "deg_is_odd_xor_even"
   ]
  },
  {
   "cell_type": "markdown",
   "metadata": {},
   "source": [
    "And we know that the graph of a Z-error chain is in fact a graph, so we can instantiate the more general degree theorem for our merged-boundary-points graph:"
   ]
  },
  {
   "cell_type": "code",
   "execution_count": null,
   "metadata": {},
   "outputs": [],
   "source": [
    "from proveit.physics.quantum.QEC import merged_bounds_graph_of_z_error_chain_is_graph\n",
    "merged_bounds_graph_of_z_error_chain_is_graph"
   ]
  },
  {
   "cell_type": "code",
   "execution_count": null,
   "metadata": {},
   "outputs": [],
   "source": [
    "merged_bounds_graph_of_z_error_chain_is_graph.instantiate().instantiate().instantiate()"
   ]
  },
  {
   "cell_type": "code",
   "execution_count": null,
   "metadata": {},
   "outputs": [],
   "source": [
    "deg_is_odd_xor_even_inst = deg_is_odd_xor_even.instantiate({G:MergedBoundsGraphOfZError(E, K)}).instantiate({})"
   ]
  },
  {
   "cell_type": "markdown",
   "metadata": {},
   "source": [
    "Then we know that _interior_ vertices constitute a subset of all vertices:"
   ]
  },
  {
   "cell_type": "code",
   "execution_count": null,
   "metadata": {},
   "outputs": [],
   "source": [
    "from proveit.physics.quantum.QEC import interior_vertices_subset_eq_of_all_vertices\n",
    "interior_vertices_subset_eq_of_all_vertices"
   ]
  },
  {
   "cell_type": "code",
   "execution_count": null,
   "metadata": {},
   "outputs": [],
   "source": [
    "interior_vertices_subset_eq_of_all_vertices_inst = (\n",
    "    interior_vertices_subset_eq_of_all_vertices.instantiate().instantiate().instantiate())"
   ]
  },
  {
   "cell_type": "markdown",
   "metadata": {},
   "source": [
    "Then we construct the desired “For all” over the interior vertices, and prove it using the fact that the interior vertices constitute a subset of all vertices:"
   ]
  },
  {
   "cell_type": "code",
   "execution_count": null,
   "metadata": {},
   "outputs": [],
   "source": [
    "from proveit import v, X\n",
    "from proveit.logic import Forall, InSet, XOr\n",
    "from proveit.numbers import IntegerEven, IntegerOdd\n",
    "from proveit.graphs import Degree, Vertices\n",
    "from proveit.physics.quantum.QEC import GraphOf, InteriorVertices, MergedBoundsGraphOfZError"
   ]
  },
  {
   "cell_type": "code",
   "execution_count": null,
   "metadata": {},
   "outputs": [],
   "source": [
    "deg_is_odd_xor_even_for_interior_vertices = Forall(v,\n",
    "       XOr(InSet(Degree(v, MergedBoundsGraphOfZError(E, K)), IntegerEven),\n",
    "           InSet(Degree(v, MergedBoundsGraphOfZError(E, K)), IntegerOdd)),\n",
    "domain = InteriorVertices(MergedBoundsGraphOfZError(E, K)))"
   ]
  },
  {
   "cell_type": "code",
   "execution_count": null,
   "metadata": {},
   "outputs": [],
   "source": [
    "int_verts_even_or_odd = deg_is_odd_xor_even_for_interior_vertices.conclude_via_domain_inclusion(Vertices(MergedBoundsGraphOfZError(E, K)))"
   ]
  },
  {
   "cell_type": "code",
   "execution_count": null,
   "metadata": {},
   "outputs": [],
   "source": [
    "int_verts_even_or_odd_inst = int_verts_even_or_odd.instantiate(assumptions = [InSet(v, InteriorVertices(MergedBoundsGraphOfZError(E, K)))])"
   ]
  },
  {
   "cell_type": "code",
   "execution_count": null,
   "metadata": {},
   "outputs": [],
   "source": [
    "no_int_vert_is_odd = int_verts_even_or_odd_inst.derive_not_right_if_left()"
   ]
  },
  {
   "cell_type": "code",
   "execution_count": null,
   "metadata": {},
   "outputs": [],
   "source": [
    "from proveit.logic import NotInSet\n",
    "int_vert_not_in_odd = NotInSet(Degree(v, MergedBoundsGraphOfZError(E, K)), IntegerOdd).prove(\n",
    "    assumptions = defaults.assumptions + [InSet(v, InteriorVertices(MergedBoundsGraphOfZError(E, K)))])"
   ]
  },
  {
   "cell_type": "code",
   "execution_count": null,
   "metadata": {},
   "outputs": [],
   "source": [
    "int_vert_not_in_odd.generalize(v, domain = InteriorVertices(MergedBoundsGraphOfZError(E, K)))"
   ]
  },
  {
   "cell_type": "markdown",
   "metadata": {},
   "source": [
    "#### (6), (7), (8), & (9) Derive that a non-stabilizer error means not all vertices are even."
   ]
  },
  {
   "cell_type": "code",
   "execution_count": null,
   "metadata": {},
   "outputs": [],
   "source": [
    "all_even_vertices_implies_stabilizer_inst"
   ]
  },
  {
   "cell_type": "code",
   "execution_count": null,
   "metadata": {},
   "outputs": [],
   "source": [
    "not_all_verts_even_for_non_stabilizer = all_even_vertices_implies_stabilizer_inst.deny_antecedent()"
   ]
  },
  {
   "cell_type": "markdown",
   "metadata": {},
   "source": [
    "#### (10) Derive that there exist odd vertices: $\\exists_{v \\in \\texttt{Vertices}(\\texttt{graph\\_of}(E, K))}\\big(\\texttt{deg}(v, \\texttt{graph\\_of}(E, K) \\in \\mathbb{O})\\big)$\n",
    "\n",
    "Turns out to be more convenient for this and next couple of steps/substeps to simple show that there exist non-even vertices and postpone the odd parity conclusion for a little later."
   ]
  },
  {
   "cell_type": "code",
   "execution_count": null,
   "metadata": {},
   "outputs": [],
   "source": [
    "from proveit.logic import Exists, Not"
   ]
  },
  {
   "cell_type": "code",
   "execution_count": null,
   "metadata": {},
   "outputs": [],
   "source": [
    "exists_non_even_eq_not_forall_even = Exists(v, Not(InSet(Degree(v, MergedBoundsGraphOfZError(E, K)), IntegerEven)),\n",
    "       domain = Vertices(MergedBoundsGraphOfZError(E, K))).definition()"
   ]
  },
  {
   "cell_type": "code",
   "execution_count": null,
   "metadata": {},
   "outputs": [],
   "source": [
    "exists_v_non_even = exists_non_even_eq_not_forall_even.sub_left_side_into(not_all_verts_even_for_non_stabilizer)"
   ]
  },
  {
   "cell_type": "code",
   "execution_count": null,
   "metadata": {},
   "outputs": [],
   "source": [
    "from proveit.physics.quantum.QEC import v_prime\n",
    "exists_v_non_even.choose(v_prime)"
   ]
  },
  {
   "cell_type": "markdown",
   "metadata": {},
   "source": [
    "#### (11) Derive that there must exist a vertex that is both _odd_ AND a _boundary_ vertex:\n",
    "\n",
    "#### $\\exists_{v \\in \\texttt{bound\\_verts}(\\mathcal{G}_{mb}(E, K))}\\big(\\texttt{deg}(v, \\mathcal{G}_{mb}(E, K) \\in \\mathbb{O})\\big)$ (using (4) and (10); this will take multiple steps)"
   ]
  },
  {
   "cell_type": "markdown",
   "metadata": {},
   "source": [
    "Recall from Step (4) we have:"
   ]
  },
  {
   "cell_type": "code",
   "execution_count": null,
   "metadata": {},
   "outputs": [],
   "source": [
    "all_int_verts_are_even"
   ]
  },
  {
   "cell_type": "code",
   "execution_count": null,
   "metadata": {},
   "outputs": [],
   "source": [
    "# all_int_verts_are_even_inst"
   ]
  },
  {
   "cell_type": "code",
   "execution_count": null,
   "metadata": {},
   "outputs": [],
   "source": [
    "all_int_verts_are_even_inst_v_prime = all_int_verts_are_even.instantiate({v:v_prime},\n",
    "        assumptions = defaults.assumptions + [InSet(v_prime, InteriorVertices(MergedBoundsGraphOfZError(E, K)))])"
   ]
  },
  {
   "cell_type": "code",
   "execution_count": null,
   "metadata": {},
   "outputs": [],
   "source": [
    "all_int_verts_are_even_inst_v_prime_as_impl = all_int_verts_are_even_inst_v_prime.as_implication(\n",
    "    InSet(v_prime, InteriorVertices(MergedBoundsGraphOfZError(E, K))))"
   ]
  },
  {
   "cell_type": "code",
   "execution_count": null,
   "metadata": {},
   "outputs": [],
   "source": [
    "# all_int_verts_are_even_inst_as_impl = all_int_verts_are_even_inst.as_implication(InSet(v, InteriorVertices(MergedBoundsGraphOfZError(E, K))))"
   ]
  },
  {
   "cell_type": "code",
   "execution_count": null,
   "metadata": {},
   "outputs": [],
   "source": [
    "non_even_verts_are_not_int_verts = all_int_verts_are_even_inst_v_prime_as_impl.contrapose(auto_simplify = False)"
   ]
  },
  {
   "cell_type": "code",
   "execution_count": null,
   "metadata": {},
   "outputs": [],
   "source": [
    "# assert False"
   ]
  },
  {
   "cell_type": "code",
   "execution_count": null,
   "metadata": {},
   "outputs": [],
   "source": [
    "non_even_verts_are_not_int_verts.derive_consequent()"
   ]
  },
  {
   "cell_type": "code",
   "execution_count": null,
   "metadata": {},
   "outputs": [],
   "source": [
    "from proveit.physics.quantum.QEC import error_vertex_is_interior_xor_boundary\n",
    "error_vertex_is_interior_xor_boundary"
   ]
  },
  {
   "cell_type": "code",
   "execution_count": null,
   "metadata": {},
   "outputs": [],
   "source": [
    "from proveit.physics.quantum.QEC import z_errs_subseteq_errs\n",
    "z_errs_subseteq_errs.instantiate()"
   ]
  },
  {
   "cell_type": "code",
   "execution_count": null,
   "metadata": {},
   "outputs": [],
   "source": [
    "error_vertex_is_interior_xor_boundary_inst = error_vertex_is_interior_xor_boundary.instantiate({v:v_prime})"
   ]
  },
  {
   "cell_type": "code",
   "execution_count": null,
   "metadata": {},
   "outputs": [],
   "source": [
    "# v' must be a boundary point\n",
    "error_vertex_is_interior_xor_boundary_inst.derive_right_if_not_left()"
   ]
  },
  {
   "cell_type": "code",
   "execution_count": null,
   "metadata": {},
   "outputs": [],
   "source": [
    "from proveit.graphs import deg_is_odd_xor_even\n",
    "deg_is_odd_xor_even"
   ]
  },
  {
   "cell_type": "code",
   "execution_count": null,
   "metadata": {},
   "outputs": [],
   "source": [
    "deg_is_odd_xor_even_inst = deg_is_odd_xor_even.instantiate({G: MergedBoundsGraphOfZError(E, K), v:v_prime})"
   ]
  },
  {
   "cell_type": "code",
   "execution_count": null,
   "metadata": {},
   "outputs": [],
   "source": [
    "v_prime_is_odd = deg_is_odd_xor_even_inst.derive_right_if_not_left()"
   ]
  },
  {
   "cell_type": "code",
   "execution_count": null,
   "metadata": {},
   "outputs": [],
   "source": [
    "from proveit.logic import Exists\n",
    "from proveit.physics.quantum.QEC import BoundaryVertices\n",
    "exists_odd_boundary_vert = Exists(v, InSet(Degree(v, MergedBoundsGraphOfZError(E, K)), IntegerOdd),\n",
    "       domain = BoundaryVertices(MergedBoundsGraphOfZError(E, K))).conclude_via_example(v_prime)"
   ]
  },
  {
   "cell_type": "code",
   "execution_count": null,
   "metadata": {},
   "outputs": [],
   "source": [
    "exists_odd_boundary_vert = exists_odd_boundary_vert.eliminate(v_prime)"
   ]
  },
  {
   "cell_type": "markdown",
   "metadata": {},
   "source": [
    "#### (12) A graph must have an even number of odd vertices (general theorem from graphs package)"
   ]
  },
  {
   "cell_type": "code",
   "execution_count": null,
   "metadata": {},
   "outputs": [],
   "source": [
    "from proveit.graphs import even_number_of_odd_vertices\n",
    "even_number_of_odd_vertices"
   ]
  },
  {
   "cell_type": "code",
   "execution_count": null,
   "metadata": {},
   "outputs": [],
   "source": [
    "even_number_of_odd_vertices_inst = even_number_of_odd_vertices.instantiate({G:MergedBoundsGraphOfZError(E, K)})"
   ]
  },
  {
   "cell_type": "markdown",
   "metadata": {},
   "source": [
    "We can change the Vertices above to BoundaryVertices, using a theorem along the following lines:\n",
    "\n",
    "__Useful Thm (1)__: $\\forall_{A, P, S} \\Big(\\forall_{x \\in A} \\big(\\lnot P(x)\\big) \\Rightarrow \\{x | P(x)\\}_{x \\in S} = \\{x | P(x)\\}_{x \\in (S - A)}\\Big)$\n",
    "\n",
    "where we take  $S$ to be the set of all vertices, $A$ to be the set of interior vertices (which in these circumstances, are all even), $B = S - A$ to be the set of boundary vertices, and $P(x)$ to be “$x$ is odd.” We would then have the result:\n",
    "\n",
    "$\\left| \\{ v \\,|\\, \\texttt{deg}(v, \\mathcal{G}_{mb}(E, K)) \\in \\mathbb{O}\\}_{v \\in \\texttt{bound\\_verts}(\\mathbb{G}_{mb}(E, K))} \\right| \\in \\mathbb{E}$."
   ]
  },
  {
   "cell_type": "markdown",
   "metadata": {},
   "source": [
    "Let $B_{\\mathbb{O}}$ denote the set of odd boundary vertices.\n",
    "\n",
    "We know that $\\exists_{v \\in \\texttt{bound\\_verts}(\\mathcal{G}_{mb}(E, K))}\\big(\\texttt{deg}(v, \\mathcal{G}_{mb}(E, K)) \\in \\mathbb{O}\\big)$, and thus $|B_{\\mathbb{O}}| \\ge 1$. In fact, it would be useful to have the following theorem if it doesn't already exist:\n",
    "\n",
    "__Useful Thm (2)__: $\\forall_{S}\\big(\\exists_{x}(x \\in S) \\Rightarrow |S| \\ge 1\\big)$."
   ]
  },
  {
   "cell_type": "markdown",
   "metadata": {},
   "source": [
    "We then need a theorem along the following lines:\n",
    "\n",
    "__Useful Thm (3)__: $\\forall_{n, k, d \\in \\mathbb{N}^{+}}\\forall_{K \\in \\mathcal{K}(n, k, d)} \\big(\\left|\\texttt{bound\\_verts}(\\mathcal{G}_{mb}(K))\\right| = 2\\big)$\n",
    "\n",
    "But notice that (3) is not about the error graphs, but about the graph of the entire surface code $K$. That means that we should be able to eventually claim that:\n",
    "\n",
    "__Useful Thm (4)__: $\\forall_{n, k, d \\in \\mathbb{N}^{+}}\\forall_{K \\in \\mathcal{K}(n, k, d)}\\forall_{E \\in \\texttt{errs}(K)} \\big(\\left|\\texttt{bound\\_verts}(\\mathcal{G}_{mb}(E, K))\\right| \\le 2\\big)$,\n",
    "\n",
    "since each error graph $\\mathcal{G}_{mb}(E, K)$ is a subgraph of $\\mathcal{G}_{mb}(K)$. This may take some work since we have not yet established such sub-graph relationships, and in the graphs theory package we may need additional basic theorems about subgraphs corresponding to vertex and edge subsets."
   ]
  },
  {
   "cell_type": "markdown",
   "metadata": {},
   "source": [
    "We should also be able to readily derive that $B_{\\mathbb{O}} \\subseteq B = \\texttt{bound\\_verts}(\\mathcal{G}_{mb}(E, S))$, and then use a theorem like this:\n",
    "\n",
    "__Useful Thm (5)__: $\\forall_{S, T \\,|\\, |S|\\in\\mathbb{N},|T|\\in\\mathbb{N}}\\big(S \\subseteq T \\Rightarrow |S| \\le |T| \\big)$\n",
    "\n",
    "to derive that $|B_{\\mathbb{O}}| \\le |B| \\le 2$. Combined with the earlier lower bound, we will then have $1 \\le |B_{\\mathbb{O}}| \\le 2$."
   ]
  },
  {
   "cell_type": "markdown",
   "metadata": {},
   "source": [
    "We also know from graph theory generally, that any graph must have an even number of odd vertices, and thus:\n",
    "\n",
    "$|B_{\\mathbb{O}}| \\in \\mathbb{E}$."
   ]
  },
  {
   "cell_type": "markdown",
   "metadata": {},
   "source": [
    "A couple of useful theorems (to be established in numbers/numbersets/integer) would look like this:\n",
    "\n",
    "__Useful Thm 6(a)__: $\\forall_{a, n \\in \\mathbb{E}} \\big((a \\le n \\le a+1) \\Rightarrow (n = a)\\big)$\n",
    "\n",
    "and\n",
    "\n",
    "__Useful Thm 6(b)__: $\\forall_{a, n \\in \\mathbb{E}} \\big((a-1 \\le n \\le a) \\Rightarrow (n = a)\\big)$\n",
    "\n",
    "Instantiating the 2nd of those with $a = 2$ and $n = |B_{\\mathbb{O}}|$, we get: $|B_{\\mathbb{O}}| = 2$.\n",
    "\n"
   ]
  },
  {
   "cell_type": "markdown",
   "metadata": {},
   "source": [
    "Another useful theorem could then be used, something along the lines of this:\n",
    "\n",
    "__Useful Thm (7)__: $\\forall_{A \\subset B \\,|\\, |A| = |B|} (A = B)$\n",
    "\n",
    "Instantiating that with $A:B_{\\mathbb{O}}$ and $B:B$, we arrive at $B_{\\mathbb{O}} = B$.\n",
    "\n",
    "That should then allow us to get to the claim that $\\forall_{v \\in \\texttt{bound\\_verts}(\\mathcal{G}_{mb}(E, K))}\\big((\\texttt{deg}(v, \\mathcal{G}_{mb}(E, K))) \\in \\mathbb{O}\\big)$"
   ]
  },
  {
   "cell_type": "markdown",
   "metadata": {},
   "source": [
    "#### WORKING HERE"
   ]
  },
  {
   "cell_type": "code",
   "execution_count": null,
   "metadata": {},
   "outputs": [],
   "source": [
    "# assert False"
   ]
  },
  {
   "cell_type": "markdown",
   "metadata": {},
   "source": [
    "We'll need to prove the connection between a path in the merged-bound graph to a path in the “regular” graph, perhaps showing an homomorphism from the paths in the merged-bounds graph to the paths in the regular graph.\n",
    "\n",
    "Essentially we'll need eventually to be able to say:\n",
    "\n",
    "$\\forall_{P \\in \\texttt{Paths}(G, a, b)} |E| \\ge |P| \\ge d_{m}(a, b)$\n",
    "\n",
    "where $|E|$ is the weight of the error $E$."
   ]
  },
  {
   "cell_type": "markdown",
   "metadata": {},
   "source": [
    "#### Part II: Proof of $\\Leftarrow$ Direction"
   ]
  },
  {
   "cell_type": "code",
   "execution_count": null,
   "metadata": {},
   "outputs": [],
   "source": []
  },
  {
   "cell_type": "markdown",
   "metadata": {},
   "source": []
  },
  {
   "cell_type": "code",
   "execution_count": null,
   "metadata": {},
   "outputs": [],
   "source": []
  }
 ],
 "metadata": {
  "kernelspec": {
   "display_name": "Python 3",
   "language": "python",
   "name": "python3"
  }
 },
 "nbformat": 4,
 "nbformat_minor": 0
}
