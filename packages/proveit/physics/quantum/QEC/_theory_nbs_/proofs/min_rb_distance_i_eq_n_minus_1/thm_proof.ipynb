{
 "cells": [
  {
   "cell_type": "markdown",
   "metadata": {},
   "source": [
    "Proof of <a class=\"ProveItLink\" href=\"../../../../../../_theory_nbs_/theory.ipynb\">proveit</a>.<a class=\"ProveItLink\" href=\"../../../../../_theory_nbs_/theory.ipynb\">physics</a>.<a class=\"ProveItLink\" href=\"../../../../_theory_nbs_/theory.ipynb\">quantum</a>.<a class=\"ProveItLink\" href=\"../../theory.ipynb\">QEC</a>.<a class=\"ProveItLink\" href=\"../../theorems.ipynb#min_rb_distance_i_eq_n_minus_1\">min_rb_distance_i_eq_n_minus_1</a> theorem\n",
    "========"
   ]
  },
  {
   "cell_type": "code",
   "execution_count": null,
   "metadata": {},
   "outputs": [],
   "source": [
    "import proveit\n",
    "from proveit import defaults\n",
    "from proveit.physics.quantum.QEC import (\n",
    "        d_ge_n_north_south_n_minus_1, d_ge_n_east_south_n_minus_1,\n",
    "        rough_boundary_pts_A_i_1_to_n_minus_1, rough_boundary_pts_B_i_n_minus_1)\n",
    "theory = proveit.Theory() # the theorem's theory"
   ]
  },
  {
   "cell_type": "code",
   "execution_count": null,
   "metadata": {},
   "outputs": [],
   "source": [
    "%proving min_rb_distance_i_eq_n_minus_1"
   ]
  },
  {
   "cell_type": "code",
   "execution_count": null,
   "metadata": {},
   "outputs": [],
   "source": [
    "defaults.assumptions = min_rb_distance_i_eq_n_minus_1.all_conditions()"
   ]
  },
  {
   "cell_type": "markdown",
   "metadata": {},
   "source": [
    "#### Miscellaneous Info About $n$"
   ]
  },
  {
   "cell_type": "code",
   "execution_count": null,
   "metadata": {},
   "outputs": [],
   "source": [
    "from proveit.physics.quantum.QEC import _n_in_integer, _n_ge_three\n",
    "display(_n_in_integer)\n",
    "display(_n_ge_three)"
   ]
  },
  {
   "cell_type": "markdown",
   "metadata": {},
   "source": [
    "#### Definitions (theorems) of the two rough boundary point sets\n",
    "Definitions (theorems) for the two rough boundary point sets, plus some routine derivations related to these sets. We import these at the top of the notebok, and here we display and instantiate them. Notice that the definition for rough boundary points $A$ holds for $i \\in \\{1, \\ldots, n-1\\}$, while the definition for rough boundary points $B$ in this case holds only for $i = n-1$:"
   ]
  },
  {
   "cell_type": "code",
   "execution_count": null,
   "metadata": {},
   "outputs": [],
   "source": [
    "display(rough_boundary_pts_A_i_1_to_n_minus_1) # for North and East points\n",
    "display(rough_boundary_pts_B_i_n_minus_1)      # for South points"
   ]
  },
  {
   "cell_type": "code",
   "execution_count": null,
   "metadata": {},
   "outputs": [],
   "source": [
    "rough_boundary_pts_A_i_1_to_n_minus_1_inst = rough_boundary_pts_A_i_1_to_n_minus_1.instantiate()"
   ]
  },
  {
   "cell_type": "code",
   "execution_count": null,
   "metadata": {},
   "outputs": [],
   "source": [
    "rough_boundary_pts_B_i_n_minus_1_inst = rough_boundary_pts_B_i_n_minus_1.instantiate()"
   ]
  },
  {
   "cell_type": "markdown",
   "metadata": {},
   "source": [
    "Then connect the corresponding union membership to the disjunction of separate set memberships (we only need this for the rough boundary points set A; rough boundary points set B is not a union when $i=n-1$):"
   ]
  },
  {
   "cell_type": "code",
   "execution_count": null,
   "metadata": {},
   "outputs": [],
   "source": [
    "from proveit import a\n",
    "from proveit.logic import InSet\n",
    "a_in_union_def = InSet(a, rough_boundary_pts_A_i_1_to_n_minus_1_inst.rhs).definition()"
   ]
  },
  {
   "cell_type": "markdown",
   "metadata": {},
   "source": [
    "Then a little more manual work to connect things up: prove that an element of the abstract set is also an element of the equivalent set of points:"
   ]
  },
  {
   "cell_type": "code",
   "execution_count": null,
   "metadata": {},
   "outputs": [],
   "source": [
    "a_in_union_def.lhs.prove()"
   ]
  },
  {
   "cell_type": "code",
   "execution_count": null,
   "metadata": {},
   "outputs": [],
   "source": [
    "from proveit import b\n",
    "InSet(b, rough_boundary_pts_B_i_n_minus_1_inst.rhs).prove()"
   ]
  },
  {
   "cell_type": "markdown",
   "metadata": {},
   "source": [
    "#### Individual Contributing Sub-Theorems.\n",
    "We import the individual contributing sub-theorems at the top of the notebook, so we display them here in preparation for instantiating and using them:"
   ]
  },
  {
   "cell_type": "code",
   "execution_count": null,
   "metadata": {},
   "outputs": [],
   "source": [
    "print(f\"North-South distances:\", end='')\n",
    "display(d_ge_n_north_south_n_minus_1)\n",
    "print(f\"East-South distances:\", end='')\n",
    "display(d_ge_n_east_south_n_minus_1)"
   ]
  },
  {
   "cell_type": "markdown",
   "metadata": {},
   "source": [
    "#### Combining East-South and North-South results.\n",
    "\n",
    "We combine East-South and North-South results, by first instantiating the East-South and North-South sub-theorems and then using the `Or.derive_via_singlar_dilemma()` method on the disjunction of the East and North points."
   ]
  },
  {
   "cell_type": "code",
   "execution_count": null,
   "metadata": {},
   "outputs": [],
   "source": [
    "from proveit import i\n",
    "from proveit.physics.quantum.QEC import _rba1, _rbb_n_minus_1\n",
    "east_south_inst = d_ge_n_east_south_n_minus_1.instantiate({i:i, a:a, b:b},\n",
    "                 assumptions = defaults.assumptions + [InSet(a, _rba1)])"
   ]
  },
  {
   "cell_type": "code",
   "execution_count": null,
   "metadata": {},
   "outputs": [],
   "source": [
    "from proveit.physics.quantum.QEC import _rba2\n",
    "north_south_inst = d_ge_n_north_south_n_minus_1.instantiate({i:i, a:a, b:b},\n",
    "                 assumptions = defaults.assumptions + [InSet(a, _rba2)])"
   ]
  },
  {
   "cell_type": "code",
   "execution_count": null,
   "metadata": {},
   "outputs": [],
   "source": [
    "from proveit.logic import Or\n",
    "east_or_north_to_south = Or(InSet(a, _rba1), InSet(a, _rba2)).derive_via_singular_dilemma(east_south_inst.expr)"
   ]
  },
  {
   "cell_type": "code",
   "execution_count": null,
   "metadata": {},
   "outputs": [],
   "source": [
    "%qed"
   ]
  },
  {
   "cell_type": "code",
   "execution_count": null,
   "metadata": {},
   "outputs": [],
   "source": []
  }
 ],
 "metadata": {
  "kernelspec": {
   "display_name": "Python 3",
   "language": "python",
   "name": "python3"
  }
 },
 "nbformat": 4,
 "nbformat_minor": 0
}
