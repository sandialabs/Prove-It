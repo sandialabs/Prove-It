{
 "cells": [
  {
   "cell_type": "markdown",
   "metadata": {},
   "source": [
    "Proof of <a class=\"ProveItLink\" href=\"../../../../../../_theory_nbs_/theory.ipynb\">proveit</a>.<a class=\"ProveItLink\" href=\"../../../../../_theory_nbs_/theory.ipynb\">physics</a>.<a class=\"ProveItLink\" href=\"../../../../_theory_nbs_/theory.ipynb\">quantum</a>.<a class=\"ProveItLink\" href=\"../../theory.ipynb\">QEC</a>.<a class=\"ProveItLink\" href=\"../../theorems.ipynb#min_rb_distance\">min_rb_distance</a> theorem\n",
    "========"
   ]
  },
  {
   "cell_type": "code",
   "execution_count": null,
   "metadata": {},
   "outputs": [],
   "source": [
    "import proveit\n",
    "from proveit import defaults\n",
    "from proveit.physics.quantum.QEC import (min_rb_distance_n_minus_2, min_rb_distance_i_eq_n_minus_1)\n",
    "theory = proveit.Theory() # the theorem's theory"
   ]
  },
  {
   "cell_type": "code",
   "execution_count": null,
   "metadata": {},
   "outputs": [],
   "source": [
    "%proving min_rb_distance"
   ]
  },
  {
   "cell_type": "code",
   "execution_count": null,
   "metadata": {},
   "outputs": [],
   "source": [
    "defaults.assumptions = min_rb_distance.all_conditions()"
   ]
  },
  {
   "cell_type": "markdown",
   "metadata": {},
   "source": [
    "#### Miscellaneous Info About $n$"
   ]
  },
  {
   "cell_type": "code",
   "execution_count": null,
   "metadata": {},
   "outputs": [],
   "source": [
    "from proveit.physics.quantum.QEC import _n_in_integer, _n_ge_three\n",
    "display(_n_in_integer)\n",
    "display(_n_ge_three)"
   ]
  },
  {
   "cell_type": "markdown",
   "metadata": {},
   "source": [
    "#### Properties of the Interval $\\{1, 2, \\ldots, n-1\\}$"
   ]
  },
  {
   "cell_type": "code",
   "execution_count": null,
   "metadata": {},
   "outputs": [],
   "source": [
    "from proveit.numbers import one, two, Interval, subtract\n",
    "from proveit.physics.quantum.QEC import _n\n",
    "interval_1_to_n_minus_1 = Interval(one, subtract(_n, one))\n",
    "interval_1_to_n_minus_2 = Interval(one, subtract(_n, two))\n",
    "interval_n_minus_1_to_n_minus_1 = Interval(subtract(_n, one), subtract(_n, one))\n",
    "display(interval_1_to_n_minus_1)\n",
    "display(interval_1_to_n_minus_2)\n",
    "display(interval_n_minus_1_to_n_minus_1)"
   ]
  },
  {
   "cell_type": "code",
   "execution_count": null,
   "metadata": {},
   "outputs": [],
   "source": [
    "from proveit.numbers import two, subtract\n",
    "interval_as_union_over_partition = interval_1_to_n_minus_1.union_partition(subtract(_n, two)).simplify()"
   ]
  },
  {
   "cell_type": "code",
   "execution_count": null,
   "metadata": {},
   "outputs": [],
   "source": [
    "from proveit import i\n",
    "from proveit.logic import Equals, InSet\n",
    "Equals(InSet(i, interval_as_union_over_partition.lhs),\n",
    "       InSet(i, interval_as_union_over_partition.rhs)).prove()"
   ]
  },
  {
   "cell_type": "code",
   "execution_count": null,
   "metadata": {},
   "outputs": [],
   "source": [
    "from proveit import i\n",
    "from proveit.logic.sets import Union\n",
    "InSet(i, Union(interval_1_to_n_minus_2, interval_n_minus_1_to_n_minus_1)).definition()"
   ]
  },
  {
   "cell_type": "markdown",
   "metadata": {},
   "source": [
    "#### Individual Contributing Sub-Theorems.\n",
    "We import the individual contributing sub-theorems at the top of the notebook, so we display them here in preparation for instantiating and using them, one for $i \\in \\{1, \\ldots, n-2\\}$ and one for the special case $i = n-1$:"
   ]
  },
  {
   "cell_type": "code",
   "execution_count": null,
   "metadata": {},
   "outputs": [],
   "source": [
    "display(min_rb_distance_n_minus_2)      # for i = 1, ..., n-2\n",
    "display(min_rb_distance_i_eq_n_minus_1) # for i = n-1"
   ]
  },
  {
   "cell_type": "code",
   "execution_count": null,
   "metadata": {},
   "outputs": [],
   "source": [
    "i_in_1_to_n_minus_2 = min_rb_distance_n_minus_2.condition"
   ]
  },
  {
   "cell_type": "code",
   "execution_count": null,
   "metadata": {},
   "outputs": [],
   "source": [
    "i_in_n_minus_1_to_n_minus_1 = min_rb_distance_i_eq_n_minus_1.condition"
   ]
  },
  {
   "cell_type": "code",
   "execution_count": null,
   "metadata": {},
   "outputs": [],
   "source": [
    "from proveit import a, b, i\n",
    "min_rb_distance_n_minus_2_inst = min_rb_distance_n_minus_2.instantiate({i:i, a:a, b:b},\n",
    "        assumptions = defaults.assumptions + [i_in_1_to_n_minus_2])"
   ]
  },
  {
   "cell_type": "code",
   "execution_count": null,
   "metadata": {},
   "outputs": [],
   "source": [
    "min_rb_distance_i_eq_n_minus_1_inst = min_rb_distance_i_eq_n_minus_1.instantiate({i:i, a:a, b:b},\n",
    "        assumptions = defaults.assumptions + [i_in_n_minus_1_to_n_minus_1])"
   ]
  },
  {
   "cell_type": "markdown",
   "metadata": {},
   "source": [
    "#### Combine the two theorems into a single theorem using `.derive_via_singula_dilemma()`"
   ]
  },
  {
   "cell_type": "code",
   "execution_count": null,
   "metadata": {},
   "outputs": [],
   "source": [
    "from proveit.logic import Or\n",
    "Or(i_in_1_to_n_minus_2, i_in_n_minus_1_to_n_minus_1).derive_via_singular_dilemma(min_rb_distance_n_minus_2_inst.expr)"
   ]
  },
  {
   "cell_type": "code",
   "execution_count": null,
   "metadata": {},
   "outputs": [],
   "source": [
    "%qed"
   ]
  },
  {
   "cell_type": "code",
   "execution_count": null,
   "metadata": {},
   "outputs": [],
   "source": []
  }
 ],
 "metadata": {
  "kernelspec": {
   "display_name": "Python 3",
   "language": "python",
   "name": "python3"
  }
 },
 "nbformat": 4,
 "nbformat_minor": 0
}
