{
 "cells": [
  {
   "cell_type": "markdown",
   "metadata": {},
   "source": [
    "Proof of <a class=\"ProveItLink\" href=\"../../../../../../_theory_nbs_/theory.ipynb\">proveit</a>.<a class=\"ProveItLink\" href=\"../../../../../_theory_nbs_/theory.ipynb\">physics</a>.<a class=\"ProveItLink\" href=\"../../../../_theory_nbs_/theory.ipynb\">quantum</a>.<a class=\"ProveItLink\" href=\"../../theory.ipynb\">QEC</a>.<a class=\"ProveItLink\" href=\"../../theorems.ipynb#empty_syndrome_non_stabilizer_imp_odd_boundary_vertices\">empty_syndrome_non_stabilizer_imp_odd_boundary_vertices</a> theorem\n",
    "========"
   ]
  },
  {
   "cell_type": "code",
   "execution_count": null,
   "metadata": {},
   "outputs": [],
   "source": [
    "import proveit\n",
    "from proveit import defaults\n",
    "theory = proveit.Theory() # the theorem's theory"
   ]
  },
  {
   "cell_type": "code",
   "execution_count": null,
   "metadata": {},
   "outputs": [],
   "source": [
    "%proving empty_syndrome_non_stabilizer_imp_odd_boundary_vertices"
   ]
  },
  {
   "cell_type": "code",
   "execution_count": null,
   "metadata": {},
   "outputs": [],
   "source": [
    "defaults.assumptions = empty_syndrome_non_stabilizer_imp_odd_boundary_vertices.all_conditions()"
   ]
  },
  {
   "cell_type": "markdown",
   "metadata": {},
   "source": [
    "##### Pull in our two contributing theorems, instantiating each one:"
   ]
  },
  {
   "cell_type": "code",
   "execution_count": null,
   "metadata": {},
   "outputs": [],
   "source": [
    "# Theorem (1)\n",
    "from proveit.physics.quantum.QEC import empty_site_syndrome_iff_all_even_interior_vertices\n",
    "empty_site_syndrome_iff_all_even_interior_vertices"
   ]
  },
  {
   "cell_type": "code",
   "execution_count": null,
   "metadata": {},
   "outputs": [],
   "source": [
    "empty_site_syndrome_iff_all_even_interior_vertices_inst = (\n",
    "    empty_site_syndrome_iff_all_even_interior_vertices.instantiate().instantiate()\n",
    ")"
   ]
  },
  {
   "cell_type": "code",
   "execution_count": null,
   "metadata": {},
   "outputs": [],
   "source": [
    "# Theorem (2)\n",
    "from proveit.physics.quantum.QEC import all_even_vertices_implies_stabilizer\n",
    "all_even_vertices_implies_stabilizer"
   ]
  },
  {
   "cell_type": "code",
   "execution_count": null,
   "metadata": {},
   "outputs": [],
   "source": [
    "all_even_vertices_implies_stabilizer_inst = (\n",
    "    all_even_vertices_implies_stabilizer.instantiate().instantiate())"
   ]
  },
  {
   "cell_type": "markdown",
   "metadata": {},
   "source": [
    "##### (1) Add LHS to our assumptions."
   ]
  },
  {
   "cell_type": "code",
   "execution_count": null,
   "metadata": {},
   "outputs": [],
   "source": [
    "thm_lhs = empty_syndrome_non_stabilizer_imp_odd_boundary_vertices.instance_expr.instance_expr.lhs"
   ]
  },
  {
   "cell_type": "code",
   "execution_count": null,
   "metadata": {},
   "outputs": [],
   "source": [
    "defaults.assumptions = defaults.assumptions + [thm_lhs]"
   ]
  },
  {
   "cell_type": "markdown",
   "metadata": {},
   "source": [
    "##### (2) Derive empty site-syndrome from the assumed conjunction."
   ]
  },
  {
   "cell_type": "code",
   "execution_count": null,
   "metadata": {},
   "outputs": [],
   "source": [
    "thm_lhs.operands[0].prove()"
   ]
  },
  {
   "cell_type": "markdown",
   "metadata": {},
   "source": [
    "##### (3) & (4) Having an empty site syndrome and one of our contributing theorems, derive (via _modus ponens_) all even interior vertices."
   ]
  },
  {
   "cell_type": "code",
   "execution_count": null,
   "metadata": {},
   "outputs": [],
   "source": [
    "all_int_verts_are_even = empty_site_syndrome_iff_all_even_interior_vertices_inst.derive_right()"
   ]
  },
  {
   "cell_type": "code",
   "execution_count": null,
   "metadata": {},
   "outputs": [],
   "source": [
    "from proveit import v, E, K\n",
    "from proveit.logic import InSet\n",
    "from proveit.physics.quantum.QEC import InteriorVertices, MergedBoundsGraphOfZError\n",
    "all_int_verts_are_even_inst = all_int_verts_are_even.instantiate(\n",
    "    assumptions = [InSet(v, InteriorVertices(MergedBoundsGraphOfZError(E, K)))])"
   ]
  },
  {
   "cell_type": "markdown",
   "metadata": {},
   "source": [
    "#### (5) Derive that no interior vertex is odd."
   ]
  },
  {
   "cell_type": "markdown",
   "metadata": {},
   "source": [
    "One way to proceed here would be to have a theorem that would allow us to convert $\\texttt{deg}(v)\\in \\mathbb{E}$ to $\\texttt{deg}(v) \\notin \\mathbb{O}$. This might eventually be best developed in the graphs sub-theory pkg. but the evens/odds concepts are developed in a separate branch, with graphs and evens/odds only coming together right now here in the QEC package."
   ]
  },
  {
   "cell_type": "code",
   "execution_count": null,
   "metadata": {},
   "outputs": [],
   "source": [
    "from proveit import E, K, G\n",
    "from proveit.graphs import deg_is_odd_xor_even\n",
    "from proveit.physics.quantum.QEC import MergedBoundsGraphOfZError"
   ]
  },
  {
   "cell_type": "markdown",
   "metadata": {},
   "source": [
    "We begin with our graph theory theorem that any graph vertex is either even or odd:"
   ]
  },
  {
   "cell_type": "code",
   "execution_count": null,
   "metadata": {},
   "outputs": [],
   "source": [
    "deg_is_odd_xor_even"
   ]
  },
  {
   "cell_type": "markdown",
   "metadata": {},
   "source": [
    "And we know that the graph of a Z-error chain is in fact a graph, so we can instantiate the more general degree theorem for our merged-boundary-points graph:"
   ]
  },
  {
   "cell_type": "code",
   "execution_count": null,
   "metadata": {},
   "outputs": [],
   "source": [
    "from proveit.physics.quantum.QEC import merged_bounds_graph_of_z_error_chain_is_graph\n",
    "merged_bounds_graph_of_z_error_chain_is_graph"
   ]
  },
  {
   "cell_type": "code",
   "execution_count": null,
   "metadata": {},
   "outputs": [],
   "source": [
    "merged_bounds_graph_of_z_error_chain_is_graph.instantiate().instantiate().instantiate()"
   ]
  },
  {
   "cell_type": "code",
   "execution_count": null,
   "metadata": {},
   "outputs": [],
   "source": [
    "deg_is_odd_xor_even_inst = deg_is_odd_xor_even.instantiate(\n",
    "        {G:MergedBoundsGraphOfZError(E, K)}).instantiate({})"
   ]
  },
  {
   "cell_type": "markdown",
   "metadata": {},
   "source": [
    "Then we know that _interior_ vertices constitute a subset of all vertices:"
   ]
  },
  {
   "cell_type": "code",
   "execution_count": null,
   "metadata": {},
   "outputs": [],
   "source": [
    "from proveit.physics.quantum.QEC import interior_vertices_subset_eq_of_all_vertices\n",
    "interior_vertices_subset_eq_of_all_vertices"
   ]
  },
  {
   "cell_type": "code",
   "execution_count": null,
   "metadata": {},
   "outputs": [],
   "source": [
    "interior_vertices_subset_eq_of_all_vertices_inst = (\n",
    "    interior_vertices_subset_eq_of_all_vertices.instantiate().instantiate().instantiate())"
   ]
  },
  {
   "cell_type": "markdown",
   "metadata": {},
   "source": [
    "Then we construct the desired “For all” over the interior vertices, and prove it using the fact that the interior vertices constitute a subset of all vertices:"
   ]
  },
  {
   "cell_type": "code",
   "execution_count": null,
   "metadata": {},
   "outputs": [],
   "source": [
    "from proveit import v, X\n",
    "from proveit.logic import Forall, InSet, XOr\n",
    "from proveit.numbers import IntegerEven, IntegerOdd\n",
    "from proveit.graphs import Degree, Vertices\n",
    "from proveit.physics.quantum.QEC import GraphOf, InteriorVertices, MergedBoundsGraphOfZError"
   ]
  },
  {
   "cell_type": "code",
   "execution_count": null,
   "metadata": {},
   "outputs": [],
   "source": [
    "deg_is_odd_xor_even_for_interior_vertices = Forall(v,\n",
    "       XOr(InSet(Degree(v, MergedBoundsGraphOfZError(E, K)), IntegerEven),\n",
    "           InSet(Degree(v, MergedBoundsGraphOfZError(E, K)), IntegerOdd)),\n",
    "domain = InteriorVertices(MergedBoundsGraphOfZError(E, K)))"
   ]
  },
  {
   "cell_type": "code",
   "execution_count": null,
   "metadata": {},
   "outputs": [],
   "source": [
    "int_verts_even_or_odd = deg_is_odd_xor_even_for_interior_vertices.conclude_via_domain_inclusion(\n",
    "    Vertices(MergedBoundsGraphOfZError(E, K)))"
   ]
  },
  {
   "cell_type": "code",
   "execution_count": null,
   "metadata": {},
   "outputs": [],
   "source": [
    "int_verts_even_or_odd_inst = int_verts_even_or_odd.instantiate(\n",
    "    assumptions = [InSet(v, InteriorVertices(MergedBoundsGraphOfZError(E, K)))])"
   ]
  },
  {
   "cell_type": "code",
   "execution_count": null,
   "metadata": {},
   "outputs": [],
   "source": [
    "no_int_vert_is_odd = int_verts_even_or_odd_inst.derive_not_right_if_left()"
   ]
  },
  {
   "cell_type": "code",
   "execution_count": null,
   "metadata": {},
   "outputs": [],
   "source": [
    "from proveit.logic import NotInSet\n",
    "int_vert_not_in_odd = NotInSet(Degree(v, MergedBoundsGraphOfZError(E, K)), IntegerOdd).prove(\n",
    "    assumptions = defaults.assumptions + [InSet(v, InteriorVertices(MergedBoundsGraphOfZError(E, K)))])"
   ]
  },
  {
   "cell_type": "code",
   "execution_count": null,
   "metadata": {},
   "outputs": [],
   "source": [
    "int_vert_not_in_odd.generalize(v, domain = InteriorVertices(MergedBoundsGraphOfZError(E, K)))"
   ]
  },
  {
   "cell_type": "markdown",
   "metadata": {},
   "source": [
    "#### (6), (7), (8), & (9) Derive that a non-stabilizer error means not all vertices are even."
   ]
  },
  {
   "cell_type": "code",
   "execution_count": null,
   "metadata": {},
   "outputs": [],
   "source": [
    "all_even_vertices_implies_stabilizer_inst"
   ]
  },
  {
   "cell_type": "code",
   "execution_count": null,
   "metadata": {},
   "outputs": [],
   "source": [
    "not_all_verts_even_for_non_stabilizer = all_even_vertices_implies_stabilizer_inst.deny_antecedent()"
   ]
  },
  {
   "cell_type": "markdown",
   "metadata": {},
   "source": [
    "#### (10) Derive that there exist odd vertices: $\\exists_{v \\in \\texttt{Vertices}(\\texttt{graph\\_of}(E, K))}\\big(\\texttt{deg}(v, \\texttt{graph\\_of}(E, K) \\in \\mathbb{O})\\big)$\n",
    "\n",
    "Turns out to be more convenient for this and next couple of steps/substeps to simple show that there exist non-even vertices and postpone the odd parity conclusion for a little later."
   ]
  },
  {
   "cell_type": "code",
   "execution_count": null,
   "metadata": {},
   "outputs": [],
   "source": [
    "from proveit.logic import Exists, Not"
   ]
  },
  {
   "cell_type": "code",
   "execution_count": null,
   "metadata": {},
   "outputs": [],
   "source": [
    "exists_non_even_eq_not_forall_even = Exists(v, Not(InSet(Degree(v, MergedBoundsGraphOfZError(E, K)), IntegerEven)),\n",
    "       domain = Vertices(MergedBoundsGraphOfZError(E, K))).definition()"
   ]
  },
  {
   "cell_type": "code",
   "execution_count": null,
   "metadata": {},
   "outputs": [],
   "source": [
    "exists_v_non_even = exists_non_even_eq_not_forall_even.sub_left_side_into(not_all_verts_even_for_non_stabilizer)"
   ]
  },
  {
   "cell_type": "code",
   "execution_count": null,
   "metadata": {},
   "outputs": [],
   "source": [
    "from proveit.physics.quantum.QEC import v_prime\n",
    "exists_v_non_even.choose(v_prime)"
   ]
  },
  {
   "cell_type": "markdown",
   "metadata": {},
   "source": [
    "#### (11) Derive that there must exist a vertex that is both _odd_ AND a _boundary_ vertex:\n",
    "\n",
    "#### $\\exists_{v \\in \\texttt{bound\\_verts}(\\mathcal{G}_{mb}(E, K))}\\big(\\texttt{deg}(v, \\mathcal{G}_{mb}(E, K) \\in \\mathbb{O})\\big)$ (using (4) and (10); this will take multiple steps)"
   ]
  },
  {
   "cell_type": "markdown",
   "metadata": {},
   "source": [
    "Recall from Step (4) we have:"
   ]
  },
  {
   "cell_type": "code",
   "execution_count": null,
   "metadata": {},
   "outputs": [],
   "source": [
    "all_int_verts_are_even"
   ]
  },
  {
   "cell_type": "code",
   "execution_count": null,
   "metadata": {},
   "outputs": [],
   "source": [
    "all_int_verts_are_even_inst_v_prime = all_int_verts_are_even.instantiate({v:v_prime},\n",
    "        assumptions = defaults.assumptions + [InSet(v_prime, InteriorVertices(MergedBoundsGraphOfZError(E, K)))])"
   ]
  },
  {
   "cell_type": "code",
   "execution_count": null,
   "metadata": {},
   "outputs": [],
   "source": [
    "all_int_verts_are_even_inst_v_prime_as_impl = all_int_verts_are_even_inst_v_prime.as_implication(\n",
    "    InSet(v_prime, InteriorVertices(MergedBoundsGraphOfZError(E, K))))"
   ]
  },
  {
   "cell_type": "code",
   "execution_count": null,
   "metadata": {},
   "outputs": [],
   "source": [
    "non_even_verts_are_not_int_verts = all_int_verts_are_even_inst_v_prime_as_impl.contrapose(auto_simplify = False)"
   ]
  },
  {
   "cell_type": "code",
   "execution_count": null,
   "metadata": {},
   "outputs": [],
   "source": [
    "non_even_verts_are_not_int_verts.derive_consequent()"
   ]
  },
  {
   "cell_type": "code",
   "execution_count": null,
   "metadata": {},
   "outputs": [],
   "source": [
    "from proveit.physics.quantum.QEC import error_vertex_is_interior_xor_boundary\n",
    "error_vertex_is_interior_xor_boundary"
   ]
  },
  {
   "cell_type": "code",
   "execution_count": null,
   "metadata": {},
   "outputs": [],
   "source": [
    "from proveit.physics.quantum.QEC import z_errs_subseteq_errs\n",
    "z_errs_subseteq_errs.instantiate().instantiate()"
   ]
  },
  {
   "cell_type": "code",
   "execution_count": null,
   "metadata": {},
   "outputs": [],
   "source": [
    "error_vertex_is_interior_xor_boundary_inst = error_vertex_is_interior_xor_boundary.instantiate({v:v_prime})"
   ]
  },
  {
   "cell_type": "code",
   "execution_count": null,
   "metadata": {},
   "outputs": [],
   "source": [
    "# v' must be a boundary point\n",
    "v_prime_is_boundary_pt = error_vertex_is_interior_xor_boundary_inst.derive_right_if_not_left()"
   ]
  },
  {
   "cell_type": "code",
   "execution_count": null,
   "metadata": {},
   "outputs": [],
   "source": [
    "from proveit.graphs import deg_is_odd_xor_even\n",
    "deg_is_odd_xor_even"
   ]
  },
  {
   "cell_type": "code",
   "execution_count": null,
   "metadata": {},
   "outputs": [],
   "source": [
    "deg_is_odd_xor_even_inst = deg_is_odd_xor_even.instantiate({G: MergedBoundsGraphOfZError(E, K), v:v_prime})"
   ]
  },
  {
   "cell_type": "code",
   "execution_count": null,
   "metadata": {},
   "outputs": [],
   "source": [
    "v_prime_is_odd = deg_is_odd_xor_even_inst.derive_right_if_not_left()"
   ]
  },
  {
   "cell_type": "code",
   "execution_count": null,
   "metadata": {},
   "outputs": [],
   "source": [
    "from proveit.logic.sets.comprehension import basic_comprehension\n",
    "basic_comprehension"
   ]
  },
  {
   "cell_type": "code",
   "execution_count": null,
   "metadata": {},
   "outputs": [],
   "source": [
    "from proveit import x, Q, S, Lambda\n",
    "from proveit.physics.quantum.QEC import BoundaryVertices\n",
    "basic_comprehension_inst = basic_comprehension.instantiate(\n",
    "        {S: BoundaryVertices(MergedBoundsGraphOfZError(E, K)), Q:Lambda(v_prime, v_prime_is_odd.expr), x: v_prime }\n",
    ")"
   ]
  },
  {
   "cell_type": "code",
   "execution_count": null,
   "metadata": {},
   "outputs": [],
   "source": [
    "v_prime_in_setofall_odd_bound_verts = basic_comprehension_inst.derive_left_via_equality()"
   ]
  },
  {
   "cell_type": "code",
   "execution_count": null,
   "metadata": {},
   "outputs": [],
   "source": [
    "exists_v_in_setofall_odd_bound_verts = (\n",
    "    Exists(v, InSet(v, v_prime_in_setofall_odd_bound_verts.expr.domain)).conclude_via_example(v_prime)\n",
    ")"
   ]
  },
  {
   "cell_type": "code",
   "execution_count": null,
   "metadata": {},
   "outputs": [],
   "source": [
    "# might not need this anymore\n",
    "# from proveit.logic import Exists\n",
    "# from proveit.physics.quantum.QEC import BoundaryVertices\n",
    "# exists_odd_boundary_vert = Exists(v, InSet(Degree(v, MergedBoundsGraphOfZError(E, K)), IntegerOdd),\n",
    "#        domain = BoundaryVertices(MergedBoundsGraphOfZError(E, K))).conclude_via_example(v_prime)"
   ]
  },
  {
   "cell_type": "code",
   "execution_count": null,
   "metadata": {},
   "outputs": [],
   "source": [
    "# might not need this anymore\n",
    "# exists_odd_boundary_vert = exists_odd_boundary_vert.eliminate(v_prime)"
   ]
  },
  {
   "cell_type": "markdown",
   "metadata": {},
   "source": [
    "#### (12) A graph must have an even number of odd vertices (general theorem from graphs package)"
   ]
  },
  {
   "cell_type": "code",
   "execution_count": null,
   "metadata": {},
   "outputs": [],
   "source": [
    "from proveit.graphs import even_number_of_odd_vertices\n",
    "even_number_of_odd_vertices"
   ]
  },
  {
   "cell_type": "code",
   "execution_count": null,
   "metadata": {},
   "outputs": [],
   "source": [
    "even_number_of_odd_vertices_inst = even_number_of_odd_vertices.instantiate(\n",
    "        {G:MergedBoundsGraphOfZError(E, K)})"
   ]
  },
  {
   "cell_type": "code",
   "execution_count": null,
   "metadata": {},
   "outputs": [],
   "source": [
    "even_number_of_odd_vertices_inst_reduction_eq = (\n",
    "        even_number_of_odd_vertices_inst.expr.element.operand.superset_reduction(\n",
    "                InteriorVertices(MergedBoundsGraphOfZError(E, K))))"
   ]
  },
  {
   "cell_type": "code",
   "execution_count": null,
   "metadata": {},
   "outputs": [],
   "source": [
    "even_number_of_odd_vertices_in_verts_minus_int_verts = (\n",
    "    even_number_of_odd_vertices_inst_reduction_eq.sub_right_side_into(even_number_of_odd_vertices_inst))"
   ]
  },
  {
   "cell_type": "markdown",
   "metadata": {},
   "source": [
    "And now want to simplify the set difference $\\texttt{Vertices} - \\texttt{int\\_verts}$ to $\\texttt{bound\\_verts}$."
   ]
  },
  {
   "cell_type": "code",
   "execution_count": null,
   "metadata": {},
   "outputs": [],
   "source": [
    "from proveit.logic.sets import bipartition_membership_eq_set_differences\n",
    "bipartition_membership_eq_set_differences"
   ]
  },
  {
   "cell_type": "markdown",
   "metadata": {},
   "source": [
    "Earlier in this process we imported and instantiated the interior_vertices_subset_eq_of_all_vertices theorem, so we already know (by theorem) that\n",
    "\n",
    "$A = \\texttt{int\\_verts}(\\mathcal{G}_{mb}(E, K)) \\subseteq \\texttt{Vertices}(\\mathcal{G}_{mb}(E, K)) = S$,\n",
    "\n",
    "but we also now need to know the analogous fact about the boundary vertices:"
   ]
  },
  {
   "cell_type": "code",
   "execution_count": null,
   "metadata": {},
   "outputs": [],
   "source": [
    "from proveit.physics.quantum.QEC import boundary_vertices_subset_eq_of_all_vertices\n",
    "boundary_vertices_subset_eq_of_all_vertices"
   ]
  },
  {
   "cell_type": "code",
   "execution_count": null,
   "metadata": {},
   "outputs": [],
   "source": [
    "boundary_vertices_subset_eq_of_all_vertices.instantiate().instantiate().instantiate()"
   ]
  },
  {
   "cell_type": "markdown",
   "metadata": {},
   "source": [
    "And we need a generic instantiation of the XOr claim:"
   ]
  },
  {
   "cell_type": "code",
   "execution_count": null,
   "metadata": {},
   "outputs": [],
   "source": [
    "error_vertex_is_interior_xor_boundary"
   ]
  },
  {
   "cell_type": "code",
   "execution_count": null,
   "metadata": {},
   "outputs": [],
   "source": [
    "error_vertex_is_interior_xor_boundary.instantiate().instantiate().instantiate()"
   ]
  },
  {
   "cell_type": "code",
   "execution_count": null,
   "metadata": {},
   "outputs": [],
   "source": [
    "from proveit import A, B, S\n",
    "bipartition_membership_eq_set_differences_inst = bipartition_membership_eq_set_differences.instantiate(\n",
    "        {A: InteriorVertices(MergedBoundsGraphOfZError(E,K)), B: BoundaryVertices(MergedBoundsGraphOfZError(E, K)),\n",
    "        S: Vertices(MergedBoundsGraphOfZError(E, K))}\n",
    ").derive_right()"
   ]
  },
  {
   "cell_type": "code",
   "execution_count": null,
   "metadata": {},
   "outputs": [],
   "source": [
    "verts_minus_int_verts_leaves_bound_verts = bipartition_membership_eq_set_differences_inst.derive_left()"
   ]
  },
  {
   "cell_type": "code",
   "execution_count": null,
   "metadata": {},
   "outputs": [],
   "source": [
    "even_number_of_odd_boundary_verts = verts_minus_int_verts_leaves_bound_verts.sub_right_side_into(\n",
    "    even_number_of_odd_vertices_in_verts_minus_int_verts)"
   ]
  },
  {
   "cell_type": "markdown",
   "metadata": {},
   "source": [
    "#### So, to summarize so far: we have proven that\n",
    "\n",
    "- __(1) there exists at least one odd boundary vertex__;\n",
    "- __(2) and there exists an even number of odd boundary vertices.__"
   ]
  },
  {
   "cell_type": "markdown",
   "metadata": {},
   "source": [
    "#### (13) Let $B_{\\mathbb{O}}$ denote the set of odd boundary vertices. We next show that $|B_{\\mathbb{O}}| \\ge 1$"
   ]
  },
  {
   "cell_type": "code",
   "execution_count": null,
   "metadata": {},
   "outputs": [],
   "source": [
    "# convenient definition\n",
    "set_of_odd_boundary_verts = even_number_of_odd_boundary_verts.expr.element.operand"
   ]
  },
  {
   "cell_type": "markdown",
   "metadata": {},
   "source": [
    "##### We previously showed that there exists at least one odd boundary vertex:"
   ]
  },
  {
   "cell_type": "code",
   "execution_count": null,
   "metadata": {},
   "outputs": [],
   "source": [
    "exists_v_in_setofall_odd_bound_verts"
   ]
  },
  {
   "cell_type": "code",
   "execution_count": null,
   "metadata": {},
   "outputs": [],
   "source": [
    "from proveit.logic.sets import element_implies_non_zero_card\n",
    "element_implies_non_zero_card"
   ]
  },
  {
   "cell_type": "code",
   "execution_count": null,
   "metadata": {},
   "outputs": [],
   "source": [
    "card_odd_bound_verts_ge_1 = element_implies_non_zero_card.instantiate(\n",
    "    {S: exists_v_in_setofall_odd_bound_verts.expr.instance_expr.domain}\n",
    ")"
   ]
  },
  {
   "cell_type": "markdown",
   "metadata": {},
   "source": [
    "#### (14) Show that $|B_{\\mathbb{O}}| \\le 2$."
   ]
  },
  {
   "cell_type": "markdown",
   "metadata": {},
   "source": [
    "We know that the set comprehension\n",
    "$\\{y | \\texttt{deg}(y, \\mathcal{G}(E, K)) \\in \\mathbb{O}\\}_{y \\in \\texttt{boundVerts(G(E, K))}}$ is a subset of its superset\n",
    "$\\texttt{boundVerts(G(E, K))}$:"
   ]
  },
  {
   "cell_type": "code",
   "execution_count": null,
   "metadata": {},
   "outputs": [],
   "source": [
    "from proveit.logic.sets.comprehension import comprehension_is_subset\n",
    "comprehension_is_subset"
   ]
  },
  {
   "cell_type": "code",
   "execution_count": null,
   "metadata": {},
   "outputs": [],
   "source": [
    "from proveit import Lambda\n",
    "comprehension_is_subset_inst = comprehension_is_subset.instantiate(\n",
    "        {S: set_of_odd_boundary_verts.domain,\n",
    "         Q:Lambda(set_of_odd_boundary_verts.instance_param, set_of_odd_boundary_verts.non_domain_condition())}\n",
    ")"
   ]
  },
  {
   "cell_type": "markdown",
   "metadata": {},
   "source": [
    "And we know there are no more than 2 boundary vertices in the graph of an error $E$:"
   ]
  },
  {
   "cell_type": "code",
   "execution_count": null,
   "metadata": {},
   "outputs": [],
   "source": [
    "from proveit.physics.quantum.QEC import mb_graph_of_Zerror_has_le_2_bound_verts\n",
    "mb_graph_of_Zerror_has_le_2_bound_verts"
   ]
  },
  {
   "cell_type": "code",
   "execution_count": null,
   "metadata": {},
   "outputs": [],
   "source": [
    "mb_graph_of_Zerror_has_le_2_bound_verts.instantiate().instantiate().instantiate()"
   ]
  },
  {
   "cell_type": "markdown",
   "metadata": {},
   "source": [
    "So we can eventually deduce that there are no more than 2 odd boundary vertices:"
   ]
  },
  {
   "cell_type": "code",
   "execution_count": null,
   "metadata": {},
   "outputs": [],
   "source": [
    "from proveit.logic.sets import card_finite_subset_lesseq_card_superset\n",
    "card_finite_subset_lesseq_card_superset"
   ]
  },
  {
   "cell_type": "code",
   "execution_count": null,
   "metadata": {},
   "outputs": [],
   "source": [
    "card_finite_subset_lesseq_card_superset_inst = card_finite_subset_lesseq_card_superset.instantiate(\n",
    "        {A: set_of_odd_boundary_verts, B: BoundaryVertices(MergedBoundsGraphOfZError(E, K))}\n",
    ")"
   ]
  },
  {
   "cell_type": "code",
   "execution_count": null,
   "metadata": {},
   "outputs": [],
   "source": [
    "from proveit.numbers import two, LessEq\n",
    "LessEq(card_finite_subset_lesseq_card_superset_inst.expr.lhs, two)"
   ]
  },
  {
   "cell_type": "code",
   "execution_count": null,
   "metadata": {},
   "outputs": [],
   "source": [
    "from proveit.numbers import two, LessEq\n",
    "card_odd_bound_verts_le_2 = LessEq(card_finite_subset_lesseq_card_superset_inst.expr.lhs, two).prove()"
   ]
  },
  {
   "cell_type": "markdown",
   "metadata": {},
   "source": [
    "#### (15) Show that $|B_{\\mathbb{O}}| = 2$ (_i.e._, $|B_{\\mathbb{O}}|$ saturates the inequality previously established)."
   ]
  },
  {
   "cell_type": "code",
   "execution_count": null,
   "metadata": {},
   "outputs": [],
   "source": [
    "from proveit.numbers.number_sets.integers import even_between_adj_ints_right\n",
    "even_between_adj_ints_right"
   ]
  },
  {
   "cell_type": "code",
   "execution_count": null,
   "metadata": {},
   "outputs": [],
   "source": [
    "from proveit import a, n\n",
    "even_between_adj_ints_right.instantiate(\n",
    "        {a:two, n: card_odd_bound_verts_le_2.lhs}).derive_consequent()"
   ]
  },
  {
   "cell_type": "markdown",
   "metadata": {},
   "source": [
    "#### (16) Show that $|B_{\\mathbb{O}}| = 2$ means _all_ the boundary vertices are odd."
   ]
  },
  {
   "cell_type": "code",
   "execution_count": null,
   "metadata": {},
   "outputs": [],
   "source": [
    "from proveit.logic.sets import maximal_size_subset_is_superset\n",
    "maximal_size_subset_is_superset"
   ]
  },
  {
   "cell_type": "code",
   "execution_count": null,
   "metadata": {},
   "outputs": [],
   "source": [
    "maximal_size_subset_is_superset_inst = maximal_size_subset_is_superset.instantiate(\n",
    "        {n: two, A: set_of_odd_boundary_verts, B: BoundaryVertices(MergedBoundsGraphOfZError(E, K))}\n",
    ")"
   ]
  },
  {
   "cell_type": "code",
   "execution_count": null,
   "metadata": {},
   "outputs": [],
   "source": [
    "from proveit.logic.sets.comprehension import comprehension_eq_domain_iff_all_elems_satisfy_condition\n",
    "comprehension_eq_domain_iff_all_elems_satisfy_condition"
   ]
  },
  {
   "cell_type": "code",
   "execution_count": null,
   "metadata": {},
   "outputs": [],
   "source": [
    "comprehension_eq_domain_iff_all_elems_satisfy_condition_inst = (\n",
    "        comprehension_eq_domain_iff_all_elems_satisfy_condition.instantiate(\n",
    "        {S: BoundaryVertices(MergedBoundsGraphOfZError(E, K)),\n",
    "         Q:Lambda(v, InSet(Degree(v, MergedBoundsGraphOfZError(E, K)), IntegerOdd))}\n",
    "))"
   ]
  },
  {
   "cell_type": "code",
   "execution_count": null,
   "metadata": {},
   "outputs": [],
   "source": [
    "all_bound_verts_are_odd = comprehension_eq_domain_iff_all_elems_satisfy_condition_inst.derive_right()"
   ]
  },
  {
   "cell_type": "code",
   "execution_count": null,
   "metadata": {},
   "outputs": [],
   "source": [
    "all_bound_verts_are_odd.eliminate(v_prime)"
   ]
  },
  {
   "cell_type": "code",
   "execution_count": null,
   "metadata": {},
   "outputs": [],
   "source": [
    "%qed"
   ]
  },
  {
   "cell_type": "code",
   "execution_count": null,
   "metadata": {},
   "outputs": [],
   "source": []
  }
 ],
 "metadata": {
  "kernelspec": {
   "display_name": "Python 3",
   "language": "python",
   "name": "python3"
  }
 },
 "nbformat": 4,
 "nbformat_minor": 0
}
