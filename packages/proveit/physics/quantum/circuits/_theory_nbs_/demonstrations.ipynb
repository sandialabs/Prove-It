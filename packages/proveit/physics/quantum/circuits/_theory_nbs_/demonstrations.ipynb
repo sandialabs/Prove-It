{
 "cells": [
  {
   "cell_type": "markdown",
   "metadata": {},
   "source": [
    "Demonstrations for the theory of <a class=\"ProveItLink\" href=\"theory.ipynb\">proveit.physics.quantum.circuits</a>\n",
    "========"
   ]
  },
  {
   "cell_type": "code",
   "execution_count": null,
   "metadata": {},
   "outputs": [],
   "source": [
    "import proveit\n",
    "from proveit import Function, IndexedVar, ExprRange, ExprTuple, VertExprArray\n",
    "from proveit import i, j, k, l, m, n, A, B, P, Q, R, S\n",
    "from proveit.logic import Set\n",
    "from proveit.numbers import one, two, three\n",
    "from proveit.core_expr_types import a_i, b_i, c_i\n",
    "from proveit.core_expr_types.expr_arrays import Aij, Bij, Cij, Dij, Eij, Pij, Qij, Rij, Sij, Tij, Uij, Vij, B11_to_Bmn, D11_to_Dmn, S11_to_Smn\n",
    "from proveit.physics.quantum import I, X, Y, Z, H, CONTROL\n",
    "from proveit.physics.quantum.circuits import Qcircuit, Input, Output, MultiQuditGate, Gate\n",
    "%begin demonstrations"
   ]
  },
  {
   "cell_type": "code",
   "execution_count": null,
   "metadata": {},
   "outputs": [],
   "source": [
    "Qcircuit([Gate(I), Gate(X)], [Gate(Y), Gate(H)])"
   ]
  },
  {
   "cell_type": "code",
   "execution_count": null,
   "metadata": {},
   "outputs": [],
   "source": [
    "Qcircuit([MultiQuditGate(CONTROL, Set(one, two)), target], [Gate(Y), Gate(H)])"
   ]
  },
  {
   "cell_type": "code",
   "execution_count": null,
   "metadata": {},
   "outputs": [],
   "source": [
    "Qcircuit([MultiQuditGate(CONTROL, Set(one, two)), target, Gate(I)], \n",
    "         [Gate(I), target, MultiQuditGate(CONTROL, Set(two, three))])"
   ]
  },
  {
   "cell_type": "code",
   "execution_count": null,
   "metadata": {},
   "outputs": [],
   "source": [
    "%end demonstrations"
   ]
  }
 ],
 "metadata": {
  "kernelspec": {
   "display_name": "Python 3",
   "language": "python",
   "name": "python3"
  }
 },
 "nbformat": 4,
 "nbformat_minor": 0
}
