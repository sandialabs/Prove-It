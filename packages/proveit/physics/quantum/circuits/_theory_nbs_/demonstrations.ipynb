{
 "cells": [
  {
   "cell_type": "markdown",
   "metadata": {},
   "source": [
    "Demonstrations for the theory of <a class=\"ProveItLink\" href=\"theory.ipynb\">proveit.physics.quantum.circuits</a>\n",
    "========"
   ]
  },
  {
   "cell_type": "code",
   "execution_count": 1,
   "metadata": {},
   "outputs": [],
   "source": [
    "import proveit\n",
    "from proveit import Function, IndexedVar, ExprRange, ExprTuple, VertExprArray\n",
    "from proveit import i, j, k, l, m, n, A, B, P, Q, R, S\n",
    "from proveit.logic import Set\n",
    "from proveit.numbers import one, two, three\n",
    "from proveit.core_expr_types import a_i, b_i, c_i\n",
    "from proveit.core_expr_types.expr_arrays import Aij, Bij, Cij, Dij, Eij, Pij, Qij, Rij, Sij, Tij, Uij, Vij, B11_to_Bmn, D11_to_Dmn, S11_to_Smn\n",
    "from proveit.physics.quantum import I, X, Y, Z, H, CONTROL\n",
    "from proveit.physics.quantum.circuits import Qcircuit, Input, Output, MultiQubitElem, Gate, target\n",
    "%begin demonstrations"
   ]
  },
  {
   "cell_type": "code",
   "execution_count": 2,
   "metadata": {},
   "outputs": [
    {
     "data": {
      "text/html": [
       "<a class=\"ProveItLink\" href=\"../__pv_it/demonstrations/e6a7c15b15a0b3d6104d92c832c1e45b17b71cdd0/expr.ipynb\"><img src=\"data:image/png;base64,iVBORw0KGgoAAAANSUhEUgAAAH0AAABFBAMAAACVh/TWAAAAMFBMVEX///8AAAAAAAAAAAAAAAAA\n",
       "AAAAAAAAAAAAAAAAAAAAAAAAAAAAAAAAAAAAAAAAAAAv3aB7AAAAD3RSTlMAEKvd7yJUdkTNu2aJ\n",
       "mTIv55t8AAAACXBIWXMAAA7EAAAOxAGVKw4bAAABcklEQVRYw2NgIAb8RwUMpIIPKDz+Uf301y9k\n",
       "7xTAwObvTrb9/ROAxGry3c/8lYGBvYF8/ex/GBjSKAg/xi8MHAWUhP/6hhiK4i9f8QIW/f+JAWD9\n",
       "LJ9g8Y8mQaT9XB8pS38sEyjTH3+AMv37GyjTv56y/Hfrv/po+TNE9VNaf42CUTAKCAB+bJUWARl8\n",
       "2foDETKj+qmsn3v9lwJGe88ETP3s+r8UuFV+KRKwn+kbA0NWADb7+YHtBxYDQu7n+8XAegGr+98D\n",
       "2w/xFwj6f36AEHb/nwe2H/YnENS//6ICdv3zQW0IAYL6WT4JYNf/C4idCccfz3fs8cfxWUlJ6S+G\n",
       "foxqjekzdhmef8A4/IYm8wHT/qv6DVjt5/wAb0Licz/vg/cLsOrnXwBJAgT0nwN3FLDo7y+AJAH8\n",
       "+oE9DO4/WPWff8DAUN9AQD/jGlDwCGDTb49oQuLUz7fkywOGl/9tMfUzagGbj7f+Lx8tfwavfnLq\n",
       "LwCNPEMof88qLQAAAABJRU5ErkJggg==\n",
       "\" style=\"display:inline;vertical-align:middle;\" /></a>"
      ],
      "text/plain": [
       "QCIRCUIT(VertExprArray(([GATE]{operation:I}, [GATE]{operation:X}),  \\\\ ([GATE]{operation:Y}, [GATE]{operation:H})))"
      ]
     },
     "metadata": {},
     "output_type": "display_data"
    }
   ],
   "source": [
    "Qcircuit(VertExprArray([Gate(I), Gate(X)], [Gate(Y), Gate(H)]))"
   ]
  },
  {
   "cell_type": "code",
   "execution_count": 3,
   "metadata": {},
   "outputs": [
    {
     "data": {
      "text/html": [
       "<a class=\"ProveItLink\" href=\"../__pv_it/demonstrations/34b5a49db2e0322fc5d69893ff446e367bcfd9680/expr.ipynb\"><img src=\"data:image/png;base64,iVBORw0KGgoAAAANSUhEUgAAAG8AAABFBAMAAAC23KUDAAAAMFBMVEX///8AAAAAAAAAAAAAAAAA\n",
       "AAAAAAAAAAAAAAAAAAAAAAAAAAAAAAAAAAAAAAAAAAAv3aB7AAAAD3RSTlMAmd3vuyIyic0Qq1R2\n",
       "RGZOcM1YAAAACXBIWXMAAA7EAAAOxAGVKw4bAAABfklEQVRIx+3WTUrDQBQA4FcjtMXU10UPUPAA\n",
       "AZci6EZXYt25rDfQG7Q30LUrQTcNgu5d2BuYG/QIHTUqrYvxxaCS+c/QTSVDWwjNx/y9eW8AjI0X\n",
       "Gzg3VnjCCi4KXkZbR7C2s12+x8mQfg49hrryBhAmZljb2JNh+AHwYJljxPmJBJuv0BqbYZ3CsSuv\n",
       "ai85tqxqg+BMho+jtgJyY/uGwfxnH4U/bENdnVkDQLk4EAytsBbtK0Kuf2YPOVTF6jTxhD3wgx1+\n",
       "69kjQAUXCp1LQImsUsEK/guIqorgAhmYn5cSCtN3hSjmFVfIs6Ey8cXwLr1av05Heoj5h4k9IBXW\n",
       "oGvokeWLI8FTKqz9th2iCAdUWKf3eoiggedZcb3wgCl9N8EBsiJsvcRx/CxB+/2o/k5b8im8zByG\n",
       "2mC/d6Ryc8TdfCtLb8dknG+lFXIBDuiW9pSYIKojJ/q7I+kgyyAvjqF5Q/ejDj8wHyuGxRPpfJBR\n",
       "SGTuGQB8U8fyQq4vAV9zujXsSdrM5gAAAABJRU5ErkJggg==\n",
       "\" style=\"display:inline;vertical-align:middle;\" /></a>"
      ],
      "text/plain": [
       "QCIRCUIT(VertExprArray(([MULTI_QUBIT_ELEM]{element:CONTROL, targets:{2}}, [GATE]{operation:X}),  \\\\ ([GATE]{operation:Y}, [GATE]{operation:H})))"
      ]
     },
     "metadata": {},
     "output_type": "display_data"
    }
   ],
   "source": [
    "Qcircuit(VertExprArray([MultiQubitElem(CONTROL, Set(two)), target], [Gate(Y), Gate(H)]))"
   ]
  },
  {
   "cell_type": "code",
   "execution_count": 4,
   "metadata": {},
   "outputs": [
    {
     "data": {
      "text/html": [
       "<a class=\"ProveItLink\" href=\"../__pv_it/demonstrations/5001f64e8863ae78744d3a0352cf8344569c86890/expr.ipynb\"><img src=\"data:image/png;base64,iVBORw0KGgoAAAANSUhEUgAAAGAAAABGBAMAAADBQ4wgAAAAIVBMVEX///8AAAAAAAAAAAAAAAAA\n",
       "AAAAAAAAAAAAAAAAAAAAAADdcGRXAAAACnRSTlMAmd3vuyIyic0QYU9vrgAAAAlwSFlzAAAOxAAA\n",
       "DsQBlSsOGwAAAPVJREFUSMftlj0OwjAMhVMWkMeeAImNmSvAzBE4B0dg4ggWICTeKQmgVkrS/Dy1\n",
       "wBKrHerki+3EdmNMRgRqGIGqMISdrEYIQN8Pyg18mLiJZrUdBKJRrIGD51H/DskcwDIHgBTHwsIq\n",
       "HpO7NCpo01x33Lb6S2UPLrCdTQ1lk0/Z9Fa2gLRIVYEK/B8Q2zU0VKXWV78cB1ROyavnAl7f0ZLT\n",
       "oEWIprqGhF0r3WbiQGSnuhGUtspuRL72fyi0MAJAOIokQJ8DfdJ8LtHZytdDaRFWoAI/Adrbnpo/\n",
       "A+4UcAQuFHCyBXR2m8uYm/EULtFBm3bj3JXNE4Zd5i3IMKe2AAAAAElFTkSuQmCC\n",
       "\" style=\"display:inline;vertical-align:middle;\" /></a>"
      ],
      "text/plain": [
       "QCIRCUIT(VertExprArray(([MULTI_QUBIT_ELEM]{element:CONTROL, targets:{2}}, [GATE]{operation:X}, [GATE]{operation:I}),  \\\\ ([GATE]{operation:X}, [GATE]{operation:X}, [MULTI_QUBIT_ELEM]{element:CONTROL, targets:{1, 2}})))"
      ]
     },
     "metadata": {},
     "output_type": "display_data"
    }
   ],
   "source": [
    "Qcircuit(VertExprArray([MultiQubitElem(CONTROL, Set(two)), target, Gate(I)], \n",
    "         [target, target, MultiQubitElem(CONTROL, Set(one, two))]))"
   ]
  },
  {
   "cell_type": "code",
   "execution_count": 5,
   "metadata": {},
   "outputs": [],
   "source": [
    "%end demonstrations"
   ]
  },
  {
   "cell_type": "code",
   "execution_count": null,
   "metadata": {},
   "outputs": [],
   "source": []
  }
 ],
 "metadata": {
  "kernelspec": {
   "display_name": "Python 3",
   "language": "python",
   "name": "python3"
  }
 },
 "nbformat": 4,
 "nbformat_minor": 0
}