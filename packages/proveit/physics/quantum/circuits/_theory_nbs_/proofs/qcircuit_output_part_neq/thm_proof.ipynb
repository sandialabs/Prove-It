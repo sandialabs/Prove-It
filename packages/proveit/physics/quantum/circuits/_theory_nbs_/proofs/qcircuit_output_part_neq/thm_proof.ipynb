{
 "cells": [
  {
   "cell_type": "markdown",
   "metadata": {},
   "source": [
    "Proof of <a class=\"ProveItLink\" href=\"../../../../../../_theory_nbs_/theory.ipynb\">proveit</a>.<a class=\"ProveItLink\" href=\"../../../../../_theory_nbs_/theory.ipynb\">physics</a>.<a class=\"ProveItLink\" href=\"../../../../_theory_nbs_/theory.ipynb\">quantum</a>.<a class=\"ProveItLink\" href=\"../../theory.ipynb\">circuits</a>.<a class=\"ProveItLink\" href=\"../../theorems.ipynb#qcircuit_output_part_neq\">qcircuit_output_part_neq</a> theorem\n",
    "========"
   ]
  },
  {
   "cell_type": "code",
   "execution_count": 1,
   "metadata": {},
   "outputs": [],
   "source": [
    "import proveit\n",
    "theory = proveit.Theory() # the theorem's theory"
   ]
  },
  {
   "cell_type": "code",
   "execution_count": 2,
   "metadata": {},
   "outputs": [
    {
     "data": {
      "text/html": [
       "With these <a href=\"allowed_presumptions.txt\">allowed</a>/<a href=\"disallowed_presumptions.txt\">disallowed</a> theorem/theory presumptions (e.g., to avoid circular dependencies), we begin our proof of<br><strong id=\"qcircuit_output_part_neq\">qcircuit_output_part_neq:</strong> <a class=\"ProveItLink\" href=\"../../../__pv_it/theorems/ef266fb7a3e103e6b2b42696d24dd48f9f06bc510/expr.ipynb\"><img src=\"data:image/png;base64,iVBORw0KGgoAAAANSUhEUgAAApwAAAAmCAMAAABeW7utAAAARVBMVEX///8AAAAAAAAAAAAAAAAA\n",
       "AAAAAAAAAAAAAAAAAAAAAAAAAAAAAAAAAAAAAAAAAAAAAAAAAAAAAAAAAAAAAAAAAAAAAAAeYafp\n",
       "AAAAFnRSTlMAq1RmmUTNIjK7EInv3Xbt5cnn9enzas/lfgAAAAlwSFlzAAAOxAAADsQBlSsOGwAA\n",
       "BqRJREFUeNrtXImWrCgMlX3nzcr/f+qwKIJapTXS5fLMOb3ZZTTkktwEtOtaCHReUHcWwbB75HIi\n",
       "qRw9GAAl2+iF4ExWYvB4+orCTQVHfUdwIvr4+ZqCwN3ByVsZ9cjXRcCbg5Oqx8mXpZ0lIG8ITuie\n",
       "wHldKcuFG4LTPIHzwsIcuzE4+RM4r8061Y3BCcTj4EsX7PrG4Gy4FMDO2pLCN04OzMECnCOsINoJ\n",
       "ziaq9mZ11q7sdzvKTqHNp2OIsVIdIus2tkoOSDgHvFDBz2OnwQU4cf4UZTvB2UTVzvF2zVRB95Gu\n",
       "aR1G8Ydky0Zfb7jm/4fSTHTCOXD8NHZiWoCTD/GO7ZiQCZxNVO2knO1SMQafRGE29ZH7bH0fp/M3\n",
       "rG7xdhSKORt/EodPY6d1JeccltsV3AvOJqp2hoJmnlNMfRBPOjtxGvmwa9Bfi9j10NMuK6H+qsjZ\n",
       "09gJ86gHcKKeH+6JOT04W6jaWQ+16nIy6+fw9jnGp7FH6Y8uR/pCjq/OB9Kw9gR9lKKancZOnkc9\n",
       "VuvaBNFqPzhbqDpJsY7DHC6UEaoVwhikQ8hapWQ8aqGiDAJnACixTP2IQFXU1RJbG0g5pxoza0Ed\n",
       "OqRzalucbknnE+WUwPDz2CnzqEdw4vhpIRuAs4GqVo2IfUJgmMPVJNPaD7mMxSQMkSYxd40hC8Np\n",
       "8GyIIWQ6w5sbNlQDBsB5WwGFDYzgDfBwnPfmr7/D9zbRkzthPXxoPaEPtrPLFCOCk4Hh2+e12gSc\n",
       "c1Xy44A1nUlv/nqTE/YHTo/0akwoSJSI9E4jcdiNSTc1cRp0zOObj2EuraryQKiEXorx0grn9FcD\n",
       "p03AgRqdyc4cElITPkQ6ldpAyEyYKjM4/Av1lQZ+D85SVboVzcsGncNK4bIVQpS1yI4HZmV+pWBQ\n",
       "vaBooDSkjdsE9qnNiXnPRPakSxIVnUbBtD2XxkkjvjRrwsgLUQWI8qzV2ye4HTZ79PhRrSq/o+3M\n",
       "rDaBE9qxhtHDadwCIUjEXWAdPatYA2epKtldhjIUG7Z2nDfh496g7jU4KwU5Js8UfRg53ZKUszt9\n",
       "yiw09CJiJQYQJqfhRacZijGvIgzJZy84DQ1JEjYNnCtmDpmhLtaPtnMCTg8nZAfSlvtR/TWh/xfO\n",
       "+XwNnIWqONG5Lu8N4DQWI79Jh1+Ds1aQucpMUdu0PjhCv4icMEzhxKaG3aMGl5wnjD4p41GOKHjJ\n",
       "aXJgRW/6MpFz/vNvYp5NOCcfMi6oAtnBdk44Z+hLDh1KJDpm/cVtZgqQQ8JsuCHlU53xX+QdOEdV\n",
       "MbbldJAuF+5cGjQprtlrcFYKiHqpKBdELap1MnTE3BIX4/3k9lyMs+w0WjkN+dEPjhsdo3GmHXOn\n",
       "wT5E47U2B21ZavaU0wOKnsnOulr3Ps29a2AZlJrJESSQ+7QOydbIyco2uC1Xo+KCBEIY8HJ8nKjg\n",
       "JKbYTAqwCPLLf6FlRXkm2/1OY0PAFFWlGZuBMhL+6DTrOGQ5zSlaOi0sVEnv3vEIj9w5upjOnIZT\n",
       "GaHWAiJsyTi9QWkq6hryB9vJ6j5nuEjuyttQ/ufYkcDpIWnFRnB2BWQIr3lhZIoSlDokxFVNLCZJ\n",
       "vVQwRvMFRdXE3SPSF5PRWzD8osqIgqwFMW1wYKGVylgCnO7bfgCo0cfxWRiLbeF15ku4cDYPp3Cv\n",
       "vJjFuCMA1/3DHw+cIO/6mFz2YDt55hjTLXPMJa6JaAxV4doBnFINVc46OEuapPx9FvQioYmNDEem\n",
       "FPASnJWCIprPFI0j+3Or+hR3Bwv8yuLGwXaOj9lMwekpJzGeA3JVRc6OQLupzznNyQFBvKacBYEm\n",
       "8e9ql4hYVhDS+h9/iiGtTxWVrY0bg5PK3wCcKrdIpuAEtuMmIHBc5Ekb7+x7OrQEzp4aBAoh1Vij\n",
       "pbWHeCQ9zVQtF4hlBV21GadUNBH0c09pmKM3VKPvrAofbKcAr8AZdryA0FZlQ4Obm9Ra+xicOHIN\n",
       "iR0lniXDQBWcCp1zmHgzDIudYd8pe1EQlQq6arqUimYV0Q9tiIqsix3qNvONwHm4nWO/5fVjGlKF\n",
       "JLp1vWX1MQ244chSK2n8+MYyXByefH9MePcbCBk7JN96hojI9SPvwbl1Fx7S3SMXFjU6+lvgRBuO\n",
       "vAUn3BrDZaPV9UeOEQ2/Ds7NwlpOvUcuJ2Vb/I7vStL88fEdAuctwfm8AfHCgbP03S3fz0nR4+Vr\n",
       "CqueZbolOKVhj5+vKNJU/cVm4DzVO+EZfV7mdUUpNqi1fCf82dLDUxNdMXDOmoD/AQJBSafj0thS\n",
       "AAAAAElFTkSuQmCC\n",
       "\" style=\"display:inline;vertical-align:middle;\" /></a><br>(see <a class=\"ProveItLink\" href=\"../../../__pv_it/theorems/882397ee5aebc392e6787a107769597dc38480f90/dependencies.ipynb\">dependencies</a>)<br>"
      ],
      "text/plain": [
       "<IPython.core.display.HTML object>"
      ]
     },
     "metadata": {},
     "output_type": "display_data"
    },
    {
     "name": "stdout",
     "output_type": "stream",
     "text": [
      "qcircuit_output_part_neq may now be readily provable (assuming required theorems are usable).  Simply execute \"%qed\".\n"
     ]
    }
   ],
   "source": [
    "%proving qcircuit_output_part_neq"
   ]
  },
  {
   "cell_type": "code",
   "execution_count": null,
   "metadata": {},
   "outputs": [],
   "source": []
  }
 ],
 "metadata": {
  "kernelspec": {
   "display_name": "Python 3",
   "language": "python",
   "name": "python3"
  }
 },
 "nbformat": 4,
 "nbformat_minor": 0
}