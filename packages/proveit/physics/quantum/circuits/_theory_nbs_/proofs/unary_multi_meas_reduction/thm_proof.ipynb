{
 "cells": [
  {
   "cell_type": "markdown",
   "metadata": {},
   "source": [
    "Proof of <a class=\"ProveItLink\" href=\"../../../../../../_theory_nbs_/theory.ipynb\">proveit</a>.<a class=\"ProveItLink\" href=\"../../../../../_theory_nbs_/theory.ipynb\">physics</a>.<a class=\"ProveItLink\" href=\"../../../../_theory_nbs_/theory.ipynb\">quantum</a>.<a class=\"ProveItLink\" href=\"../../theory.ipynb\">circuits</a>.<a class=\"ProveItLink\" href=\"../../theorems.ipynb#unary_multi_meas_reduction\">unary_multi_meas_reduction</a> theorem\n",
    "========"
   ]
  },
  {
   "cell_type": "code",
   "execution_count": 1,
   "metadata": {},
   "outputs": [],
   "source": [
    "import proveit\n",
    "theory = proveit.Theory() # the theorem's theory"
   ]
  },
  {
   "cell_type": "code",
   "execution_count": 2,
   "metadata": {},
   "outputs": [
    {
     "data": {
      "text/html": [
       "With these <a href=\"allowed_presumptions.txt\">allowed</a>/<a href=\"disallowed_presumptions.txt\">disallowed</a> theorem/theory presumptions (e.g., to avoid circular dependencies), we begin our proof of<br><strong id=\"unary_multi_meas_reduction\">unary_multi_meas_reduction:</strong> <a class=\"ProveItLink\" href=\"../../../__pv_it/theorems/e5606bf51d4b3e8079454c8311625b5c06ebc65d0/expr.ipynb\"><img src=\"data:image/png;base64,iVBORw0KGgoAAAANSUhEUgAAAg8AAAAmCAMAAAB0x4hHAAAARVBMVEX///8AAAAAAAAAAAAAAAAA\n",
       "AAAAAAAAAAAAAAAAAAAAAAAAAAAAAAAAAAAAAAAAAAAAAAAAAAAAAAAAAAAAAAAAAAAAAAAeYafp\n",
       "AAAAFnRSTlMAq1RmmUTNIjK7EInv3XbXYKEg1ZOFPoJzrwAAAAlwSFlzAAAOxAAADsQBlSsOGwAA\n",
       "BsZJREFUeNrtnImS3CgMhs0lbrJbyfL+j7oGH2Aa2/TQHnenhqpUUmn5gg/pl8AehtaG/djI8LpG\n",
       "8fDT7m0KVBqOML6q/ViMXnsvtPt8iiCw4D+mWSspey8ghN0QYO7jgUDnCTCAE+rD5iPTFvF3uiOC\n",
       "3oMHYfqGUgD9MBbSnaN3unOJ34IH0F2HO8mHj23MvlHUUDkDt/GAfdccQfTDZRz5pithKmWQLoA0\n",
       "a9Bxt/Fgu9zDr38+Xdj/K7/hIhyBFrMf5Yzu9Dn3/HYeRJd7QH9Boqr19ZeAwiUQW+04qW/nAfVM\n",
       "D6dvHEfFOmI/x7yu4664UakPhz7DxNzOQ09dS9kbcXDAejybQFJ9z2Pw31Xe/shawMAZD2mUMTnn\n",
       "odn6JFx0ZAdrWZOMSgmNDaTouBX7zPguMlhJY9snam4r1x50V2pKZXd62FWUuKUZD6liBvych2br\n",
       "4yKI79HmmRyeaEe+HYiNw1SIwlNKRq8jC09kOLltOsNwpYPYXwuoTB4KGQ9iAZbLhnjRbH0sHzpq\n",
       "k4Rkjs5N+bxvHhxeWrov8uCfCP+5bcbDhbVrnjq49KKVgXM+1w/LkobGLfqh1fqwmQ4pIlXmZsT8\n",
       "t2uO/y/igT1x2MY244FdV0TZoFZ4USQeo6DIeFgm3NmcnXhotT6eMB0ZQnZhNHMNpjV2Cf8iHrR5\n",
       "4iBT9TBXBgy7kYtbL4r1Y6/gPL8wNjSjm3hotb4qveCoBF8hm4hnYDShFE0XIM5preL/OqyBY+Qt\n",
       "2lYvCh4UdS5MLgGGcueQ2+EBUOjYtiWUjW3OA1yFwyYmlF5UPVxWreMReaCi8MOHPDRaV9RbLcF5\n",
       "ujGdYS3dOGRF7dcYFuR1mAs4+I1JLBmKeXhqe+wfRJTlMnScDdyUidCivEIPYsxNC9dbW2eqoW8+\n",
       "vc1aR0xleb8/eNFHt7TG28hDnHLLvBPSU61pRYXOPGysT+PYjtf+Og/YZUMZHxBvRwXQFBLZzAOL\n",
       "VnbsBDWc8jCVdEWYUdI8erIVAOw5w6MTaYlTW9t8LlBxkX/AfjjwouB34/dUjwqcrssdxJYYF/Wo\n",
       "zJrYUshxS8NvZFaMdEdgtSnr+q6SNL3me9SbdHNK7tQcLBXTkQdAZapd42EBNfSPlJuZEyfBWgCm\n",
       "hjSPZWGrECxE+JcM/nEnVbwof+SBbngIc24NKtPSYaVCsPCQW5t1YIVDUrJoFSL2HC0v9Q8eDZX0\n",
       "Yk72vYxqAGE88UBbeMAzqOHgRx4GQRcPb4E2T+7CNltVuMw/KD8ceNFTHsbhJetzGxzLW2SXh8w6\n",
       "nXl9ZDz+RqNw0JRSO/5hL+UhhUax+HK0cTeZf8AB10kCLNstLC1ETd0/0CoPa3VRjXassQhW2OYL\n",
       "/Zfph2zSVLwonOiHUExY91WO2QkhFIlhn4dkTeTA4+pSqr1igRl3S5/THT35ivxiBn8cRKjpBzFj\n",
       "P+oHwVce4JCHUXau8azKw5wdkPGgMM4tZY/CNk8+L8svcj356EXtfr4388BTgSjKB1Xbb7LykKyR\n",
       "41iNok2l/AaLMV5gdsiDaq8fHdQfYOpZZmAzzaKMVlEYRh6cF5ivcUJDwYPeZBDCiMWZwAEPob6q\n",
       "RuJ0/kxQ/COrxWa231J/yPLNiheF/XxvWd9M/mAigVcUX1rfXK3HrH684jgmJOdhpMDJIx7madhV\n",
       "n0RrGRaX2T4Z5VO8fYEcdkpbx5A3c9kBIZ3hg5DxgEhez9Y6HCzCEQJLvy2lzqMZr+mo26QmdKhK\n",
       "lML2e+qTdtj3orV6FCt4yIYKTx5THPCQuJplAwEZG554UHphcKdqBR2LH2fLgnDlVjptX3iGC9cv\n",
       "smXHBy9aq1erPR54/EnZo3iRQqMcmB1G/oTe+IeBYXeSgnVoZ/hbeLhwfXNZz6p4UQ4H91TyQMDr\n",
       "UI3CQwsPyA3CRh+QlDKJZDp0qrG+zv5xcmLRhTw40z1zodXR9V3mmfXutCejb39U2POOYrGFL1cR\n",
       "dqrDodMc7BoHEZXCdVvxeyrt082vZYBr90c9tR8mpXsv2y+ndNAPzQFR9jj1O/dPctqzmZfrdPTF\n",
       "+yd39sv9V1FuLKVYd+2fJF1+V/7sr27wELW9s6h2VZ0c7l08KN+lrX9//PsXf77h/YvW/fYG385D\n",
       "zuRXGtIfTYOS7jsuE9/HmUc4vo+jzjTyfe9vmr61HP3z/mYTeJjK+EEE2P/SQOYebuSh93V/9rnv\n",
       "d8u3euPf5QNx4/cful9pDd9/+DQnoYSG9/r+A9/sPb2Rh90M+YlTfNz3YeDdvpGkthLzKR5e/P0o\n",
       "Dh/q8P+mJtOAPvv9qNe7KvEzHne7hweR+T86tV7y46NE7gAAAABJRU5ErkJggg==\n",
       "\" style=\"display:inline;vertical-align:middle;\" /></a><br>(see <a class=\"ProveItLink\" href=\"../../../__pv_it/theorems/2906393fcda3256c043b6304a8bc5567199bc6b30/dependencies.ipynb\">dependencies</a>)<br>"
      ],
      "text/plain": [
       "<IPython.core.display.HTML object>"
      ]
     },
     "metadata": {},
     "output_type": "display_data"
    }
   ],
   "source": [
    "%proving unary_multi_meas_reduction"
   ]
  },
  {
   "cell_type": "code",
   "execution_count": null,
   "metadata": {},
   "outputs": [],
   "source": []
  }
 ],
 "metadata": {
  "kernelspec": {
   "display_name": "Python 3",
   "language": "python",
   "name": "python3"
  }
 },
 "nbformat": 4,
 "nbformat_minor": 0
}