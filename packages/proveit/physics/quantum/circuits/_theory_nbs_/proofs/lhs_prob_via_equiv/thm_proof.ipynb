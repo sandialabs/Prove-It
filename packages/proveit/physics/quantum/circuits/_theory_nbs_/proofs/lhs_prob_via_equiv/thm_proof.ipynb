{
 "cells": [
  {
   "cell_type": "markdown",
   "metadata": {},
   "source": [
    "Proof of <a class=\"ProveItLink\" href=\"../../../../../../_theory_nbs_/theory.ipynb\">proveit</a>.<a class=\"ProveItLink\" href=\"../../../../../_theory_nbs_/theory.ipynb\">physics</a>.<a class=\"ProveItLink\" href=\"../../../../_theory_nbs_/theory.ipynb\">quantum</a>.<a class=\"ProveItLink\" href=\"../../theory.ipynb\">circuits</a>.<a class=\"ProveItLink\" href=\"../../theorems.ipynb#lhs_prob_via_equiv\">lhs_prob_via_equiv</a> theorem\n",
    "========"
   ]
  },
  {
   "cell_type": "code",
   "execution_count": 1,
   "metadata": {},
   "outputs": [],
   "source": [
    "import proveit\n",
    "theory = proveit.Theory() # the theorem's theory"
   ]
  },
  {
   "cell_type": "code",
   "execution_count": 2,
   "metadata": {},
   "outputs": [
    {
     "data": {
      "text/html": [
       "With these <a href=\"allowed_presumptions.txt\">allowed</a>/<a href=\"disallowed_presumptions.txt\">disallowed</a> theorem/theory presumptions (e.g., to avoid circular dependencies), we begin our proof of<br><strong id=\"lhs_prob_via_equiv\">lhs_prob_via_equiv:</strong> <a class=\"ProveItLink\" href=\"../../../__pv_it/theorems/32883d08b3babf67dc1d1242b07d66689b54d2200/expr.ipynb\"><img src=\"data:image/png;base64,iVBORw0KGgoAAAANSUhEUgAAAUYAAAAZBAMAAAC/VppVAAAAMFBMVEX///8AAAAAAAAAAAAAAAAA\n",
       "AAAAAAAAAAAAAAAAAAAAAAAAAAAAAAAAAAAAAAAAAAAv3aB7AAAAD3RSTlMAq1RmmUTNIjK7EInv\n",
       "3XZ/CtNrAAAACXBIWXMAAA7EAAAOxAGVKw4bAAAEvklEQVRYw82XXYgbVRSAT34mM5lJQhZFVmTd\n",
       "FEvBh2ogu0UEbdat6GKhAX2pD7rVh0K1dBalIK1N+rhQcNEHtX3YEeq+aCGWtS+pbbqK+1CUoBZ8\n",
       "2GioggqlrKtu6651PT93kptkUgQN7XDP3JMz99757rnnntwBCLiG6i7cLleq/lWgfRJupyt3ixnN\n",
       "3gZXyS1nvBxsMJHgORBBxjRV93UyhqgKZ/vlvfnKHayEy+bQxsDdbzWfhMtcxZYxELMiyPg42fZ2\n",
       "MkYL1LJfO+dMCUK8VnMA1q8Ah5sLNyfVg8gI+5Tk4CjNa6aT0SL3vtYnxDl63WekjeO7kTGy7j8a\n",
       "l2rsGt5GlOQg5gE4ma54pAmc7hPjfroN060qjNYN/1GV786h63hPeCI5iOCSx7r3TK5/WydKAHC+\n",
       "hNE3KYzGqh+O8sojqRUKtawIonxRr1/sZkzU60vl/jAWObJ2YcRHy8LorBgvXz7jigGvfPg38mZa\n",
       "BBmfBDjezRgtQdwj3e54ltd/hN0AvcFFLjuAcRdH1gFXvISM9pUsJB4rKrehWzMWBWhkUgQZp8Ck\n",
       "DZI696OrMaJtivUPS3S3Zp+af4d/q+0lzUftsxfnJY3AKMD075WJEkSBCmi920f4nuZu/4W3JNKa\n",
       "NyrnsErWbGWg3uRcCFdFkDHuOeh2Yy+Yi3oOPw4fs35e9tMjAFc0RmlupyGUhhi7FnWI1CBVBaNM\n",
       "Bfzezuc4QlYbgeggQquZwBebf0pG5DxNBoBfdoyR0VoWQcZwg7bMVpQJnfEB2TLGMVm3OwG2a4zS\n",
       "HLMoMqaWefI4fCgPkWXOCftkIOq9+f0TAGVthDo7eLKDMd9ktPGNtNGNqghv30exJe217TpjLMJw\n",
       "KZkgLID9dYtRNU8CMTrVgy/sIB0SGTiV5Zyl0hb1zkN08GRBG2EYAw52uv5aK0b2PK81BcoSrXVN\n",
       "hBhP46Q57Z/VGZ0tvGUaUXan+XdurNRiVM0PEqO9tWQsHCIdij+MDGK1mYvfG6G3famP8EbmoVcc\n",
       "jqt4o4ORDPA07SgKhxkRYjyMnkpQkz06o3mBF6uU4rSKkfZevsWomu9Gxu+uFsBaA9Ix5GxcUVJ3\n",
       "Q7P3xLt4ZbURUosNZ4AdQJnFktyYzPsGk144qxIRCTGGcHoJnK11re3cM8hRVvlojR2XB/MPjVGa\n",
       "b8IH9NvCYTdJ0BZxVae5aL3bR4CjJz4pAPnUqoF518Y9NJvhCxkx2LOrHty/8RJiF0T8s1k8b3jJ\n",
       "bPfZrCGhR5FmXG8xqubTPmNNqBYAni9pa+33bh+B+hdSnOi+7cyduuF1JT6jufjwzy92nx8NxF6B\n",
       "D9A9HpzS1lo1T2p+RN1cA/sb/HmVil1WvdVat0YgxvQWrkc6GXXDuJLmGffVewc8t4txZxpOrhaO\n",
       "ZSIHKvNvgpZ7pHncxRyOkTW1TjpsW69M0Iq9TcVaUL2lmzYCBcGGuDTeefrTDHQY4wOZdg5/xm70\n",
       "Oofrx6IZrbmh/aO3dHuGCoRv8pdtLWX8pu2XZiBcRtYYi0NeD0bDC2Dk5k9oD5p61KUCz/6b88WR\n",
       "3oaflOiMsUu9vmciEMDIzR2NvqmPcoH/7UMj+Jtr/02+r9ufeAG6127+z9/Xn/4DfbtZTsdFcJ8A\n",
       "AAAASUVORK5CYII=\n",
       "\" style=\"display:inline;vertical-align:middle;\" /></a><br>(see <a class=\"ProveItLink\" href=\"../../../__pv_it/theorems/23aaffc17f58026dbabc948485df64e100ac01f10/dependencies.ipynb\">dependencies</a>)<br>"
      ],
      "text/plain": [
       "<IPython.core.display.HTML object>"
      ]
     },
     "metadata": {},
     "output_type": "display_data"
    }
   ],
   "source": [
    "%proving lhs_prob_via_equiv"
   ]
  },
  {
   "cell_type": "code",
   "execution_count": null,
   "metadata": {},
   "outputs": [],
   "source": []
  }
 ],
 "metadata": {
  "kernelspec": {
   "display_name": "Python 3",
   "language": "python",
   "name": "python3"
  }
 },
 "nbformat": 4,
 "nbformat_minor": 0
}