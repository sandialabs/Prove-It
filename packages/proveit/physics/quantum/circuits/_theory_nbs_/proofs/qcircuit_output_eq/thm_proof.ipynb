{
 "cells": [
  {
   "cell_type": "markdown",
   "metadata": {},
   "source": [
    "Proof of <a class=\"ProveItLink\" href=\"../../../../../../_theory_nbs_/theory.ipynb\">proveit</a>.<a class=\"ProveItLink\" href=\"../../../../../_theory_nbs_/theory.ipynb\">physics</a>.<a class=\"ProveItLink\" href=\"../../../../_theory_nbs_/theory.ipynb\">quantum</a>.<a class=\"ProveItLink\" href=\"../../theory.ipynb\">circuits</a>.<a class=\"ProveItLink\" href=\"../../theorems.ipynb#qcircuit_output_eq\">qcircuit_output_eq</a> theorem\n",
    "========"
   ]
  },
  {
   "cell_type": "code",
   "execution_count": 1,
   "metadata": {},
   "outputs": [],
   "source": [
    "import proveit\n",
    "theory = proveit.Theory() # the theorem's theory"
   ]
  },
  {
   "cell_type": "code",
   "execution_count": 2,
   "metadata": {},
   "outputs": [
    {
     "data": {
      "text/html": [
       "With these <a href=\"allowed_presumptions.txt\">allowed</a>/<a href=\"disallowed_presumptions.txt\">disallowed</a> theorem/theory presumptions (e.g., to avoid circular dependencies), we begin our proof of<br><strong id=\"qcircuit_output_eq\">qcircuit_output_eq:</strong> <a class=\"ProveItLink\" href=\"../../../__pv_it/theorems/1d96d6e0f6867b23315215ad9750de064b9baa010/expr.ipynb\"><img src=\"data:image/png;base64,iVBORw0KGgoAAAANSUhEUgAAAVEAAAAZBAMAAAB6JADEAAAAMFBMVEX///8AAAAAAAAAAAAAAAAA\n",
       "AAAAAAAAAAAAAAAAAAAAAAAAAAAAAAAAAAAAAAAAAAAv3aB7AAAAD3RSTlMAq1RmmUTNIjK7EInv\n",
       "3XZ/CtNrAAAACXBIWXMAAA7EAAAOxAGVKw4bAAACzElEQVRYw81XT2jTYBR/TZom/Vq7VkbRg6zg\n",
       "yZMFnSA4l4KKZYIDL0OEVUTEeVg9O+w8CsKGXpyIjSCeHFbZrQfnPKiIIrijhYAnwT+bztp1uPry\n",
       "JU2+VF3TrxJ9kJJ8fe/L73vv9/4EgF/6wS8JdmcuqL4hlae7Mr8L/sn+rqyv+Yh0kwYQN26280Rk\n",
       "3kekMYR50Lg5w8Pykpfj5P4OUlIHuMRL2J5hD0qhJT5kexuJxNlJZuEU7oUMiKQ4NpvSPCjt5EQK\n",
       "zwECNeY5CyCmES3PXh+9KGW+c5aldQBphVn4gNfLSuUFz2ZJDzqRCzU+pCLaievMwihG8DDADfqg\n",
       "/aEvkN9vNuPhhRdjX1xbVqjE2xsGkDWhpyzXkLTnQaam5BldurxSzlIqh5tK92xmK8WhuevNh5Me\n",
       "kKrCVz6fRqeBbGMzqoD5G9YiNIsj5vHF1xCbdyF95OTbgEkYKou/7t+wxUwkKaWseSwkjqnpwluf\n",
       "kmlW4T5iFHQzoUZemX5XQVxikUpXdFu/F2CwA58GQV7m8+nnPAhP2IWC4eCc2VR189XRFMymWaSx\n",
       "kMOrBSBvOkD6/kBmlY+nN41YstGfyuPPwzEKCA6Z4N/t3gIsUj2Yg+wMShprx66Mbb61fWPBYPzg\n",
       "86kRikG9Jfdhgp5xxGLgAJBeFqk0GbMbPHL4tspWuPZT5VsuoIqRiH1sE9xHmUndNFTu0ywqFoYZ\n",
       "pMHyg7pdO1SQv7lOuaEcw2ucbyDBhqFUXS3E+c8iLVIRRtkqpYNca0YfOSzZpTzaru/TYauY50Ea\n",
       "QtMTY+Du+875e1KkBHIdyCITfQmzy67eBQ1mVa+zFClWNdjROMcBNFBcTiSvts5S1msfAzl6WlmA\n",
       "PWvlbIpBeiQOd6qW98Tx8pxjr/g5n4qt9UJg7sPtrDf7OfO3kuh4J0j/6XdUuhOkQsk3oBuP+vL/\n",
       "9L2PFfEn5kC6EoJvH6gAAAAASUVORK5CYII=\n",
       "\" style=\"display:inline;vertical-align:middle;\" /></a><br>(see <a class=\"ProveItLink\" href=\"../../../__pv_it/theorems/23650686b97a1e6ce8f90535bd97f71f751a127b0/dependencies.ipynb\">dependencies</a>)<br>"
      ],
      "text/plain": [
       "<IPython.core.display.HTML object>"
      ]
     },
     "metadata": {},
     "output_type": "display_data"
    },
    {
     "name": "stdout",
     "output_type": "stream",
     "text": [
      "qcircuit_output_eq may now be readily provable (assuming required theorems are usable).  Simply execute \"%qed\".\n"
     ]
    }
   ],
   "source": [
    "%proving qcircuit_output_eq"
   ]
  },
  {
   "cell_type": "code",
   "execution_count": null,
   "metadata": {},
   "outputs": [],
   "source": []
  }
 ],
 "metadata": {
  "kernelspec": {
   "display_name": "Python 3",
   "language": "python",
   "name": "python3"
  }
 },
 "nbformat": 4,
 "nbformat_minor": 0
}