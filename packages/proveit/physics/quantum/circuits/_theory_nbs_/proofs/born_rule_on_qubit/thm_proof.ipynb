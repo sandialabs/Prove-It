{
 "cells": [
  {
   "cell_type": "markdown",
   "metadata": {},
   "source": [
    "Proof of <a class=\"ProveItLink\" href=\"../../../../../../_theory_nbs_/theory.ipynb\">proveit</a>.<a class=\"ProveItLink\" href=\"../../../../../_theory_nbs_/theory.ipynb\">physics</a>.<a class=\"ProveItLink\" href=\"../../../../_theory_nbs_/theory.ipynb\">quantum</a>.<a class=\"ProveItLink\" href=\"../../theory.ipynb\">circuits</a>.<a class=\"ProveItLink\" href=\"../../theorems.ipynb#born_rule_on_qubit\">born_rule_on_qubit</a> theorem\n",
    "========"
   ]
  },
  {
   "cell_type": "code",
   "execution_count": 1,
   "metadata": {},
   "outputs": [],
   "source": [
    "import proveit\n",
    "theory = proveit.Theory() # the theorem's theory"
   ]
  },
  {
   "cell_type": "code",
   "execution_count": 2,
   "metadata": {},
   "outputs": [
    {
     "data": {
      "text/html": [
       "With these <a href=\"allowed_presumptions.txt\">allowed</a>/<a href=\"disallowed_presumptions.txt\">disallowed</a> theorem/theory presumptions (e.g., to avoid circular dependencies), we begin our proof of<br><strong id=\"born_rule_on_qubit\">born_rule_on_qubit:</strong> <a class=\"ProveItLink\" href=\"../../../__pv_it/theorems/217a3854ce0b8bacc746805e0d1bea62e7aaeaf90/expr.ipynb\"><img src=\"data:image/png;base64,iVBORw0KGgoAAAANSUhEUgAAAjgAAAAmCAMAAAD+6BEGAAAAS1BMVEX///8AAAAAAAAAAAAAAAAA\n",
       "AAAAAAAAAAAAAAAAAAAAAAAAAAAAAAAAAAAAAAAAAAAAAAAAAAAAAAAAAAAAAAAAAAAAAAAAAAAA\n",
       "AADXrLZzAAAAGHRSTlMAq1RmmUTNIjK7EInv3Xbj4YVQXjBM29cAO2kNAAAACXBIWXMAAA7EAAAO\n",
       "xAGVKw4bAAAHbklEQVR42uWcidKjKBCARUAuZY6tneX9n3QRlEvENrFMJqFqpv7EDs3x0XQ3JF33\n",
       "BYX010m9U5GD/AKVL+QGXSf1XoVP8gtUvqrg4Tqpt+sb+gaVL1qVo7xM6v2K6L9B5UvKoK6TAhYD\n",
       "Ktf4HDcBL5VCSN6q8sWlN/IyKTA4lwm9jWtG5n/T3+sNni+Tuk7qHcFhht0xjIbOqvidKl/s4YBM\n",
       "Cb/U4NwKTifUHeOIZQTnJpWvLUg8J1VZW/wpJiSDgMPgGvEIsUv1uhikm+GZms6o/MuLwc9JKbpd\n",
       "4vwZcMKnm+DkapsamQFEOaE+Jqpvt7q5PosZHKcyOjo9/jxu+LIdMzQZgxASAjekjmZQ+3EiT4BD\n",
       "UQcGR4pxAmicyAlwVJ/UuwNO0c3lGRMyU0nCR4YPdHmwiXC4KWPj0JJqg7Ns7dMT4MRBhlicgQA0\n",
       "kuEEOFNWbx2copv+GbMfYSxRyVHViH2KizNEi44WSFRDqgmO1HHVPggOVt0ZcNZdqKlRGzg4ixkJ\n",
       "9VJAN90zJjjnRKYq11Mr9YkJwRGV4HAzNaSa4PQcuMR2Z1L+kGfAoWuw19TYGw4Gxzsuod4qOGU3\n",
       "3bMxy1k6lXjZ9YcP5KaL5mUFh5qhIdUER0E39V0mfv7qzoATwpimRg7wjpduyCEPj6rglN2sOM5e\n",
       "5TjNZfzI2DyGSys4yvaZDqPuVeJu4AMvVRPsR1S7Ie/VY+D8HrtT4AxIa9QfaZSAyHGZfO0lQ705\n",
       "ODvdrIDjVRJnmsQnHkAkoaoHR+rRjd1IehbGuxXQulFTXW+nXOJ5c5cA93iPifGfU+BIY90I6SO+\n",
       "lkajE095SgoqwZmWaV/rzcHZ6WYFHK+SofU/fySROuyN5tJeE3oQ06i9tcAVkbua7N+aNVoTngOi\n",
       "8QScSSmll9eTHRMJsfXzqPHeHdPgWae3GQcd32Hi18/uFDj+AG3URxqNAlqcJRcQ683A2etmFRy1\n",
       "GpvlaXTC3JTjyohqQZBmeq5bxs7zYeu/ca/eTlfsmVzvvajcIRX534o1WhOeZ9azdqGGGhrBSVUM\n",
       "qC5VHXG5jHKEl6NHwPnx7zlwfJzt56il0RAgOAt9sd4MnL1uVsFxAr0OrrEoskDhNddIiLl2geyc\n",
       "9ULNmWie7NlIFZJWylWKbU1UhId6Mbr9cAacrDU1cGLFuxYnA4cAvUs/am6NqhiqRpfj8MbE7k2K\n",
       "5gedWnfySs2hkwMGZ3FxYr2Fc1zv5j44lhqsi/ljfizJMkGELDGa8nX6fIRIqhx5Ibmy4R7E1Gz/\n",
       "CDh5a6oWJ1QMA0edAmdeo64NWkLCKpPSEUziH5S+BFgc1yzi3Y2WRrCPswRVsd4CnHo3d32cOYWz\n",
       "JnPmwaUaudPQift8YUR13hD4koAOXvU6+NZRl4nkygbzG2r/KDiV1sDBYWlUtQsOO4qqOiL8+TCl\n",
       "oESOCdikWcY/LCMJAA6fb03hQ43wqEq4YYv1luBUu1kFx6tkIQMmnJmyc62XK4LuszI0u2d9PCyV\n",
       "XURdT/YVSSS75Rqvv7Ew4XJ+6QQCp9Ka9TkRa8F74Mi4GHmWv8nOd2S6ZOte5chmE44pLFdqtth0\n",
       "/D+VG6FjcJDtlyCHGhk8j+P3nlhvAU69mxVwgkrE45wxOU+BHUo8v+lOPmmYdizxGowMdgTiXM2T\n",
       "Z0GhCfx84AGcUW8Mw6AlAJxKa05YHBt2Lz1FtrnBDaPIjKjfSu2POEdK6BDKHR1WmQ02WdLYPwKE\n",
       "40gRfKyRGwrOHLt6Yr1lArDazWoCsHzPzR/Sbqfz3rxypsOv7L7jnNbz27MnQ1AiaRvh7qj6rcps\n",
       "tiq7V2mQj7NpzRlwBtABXEMqjBqPoB0ej5stN12WmTDdqWsVbY2Qa6+qbiu3meNKNyvgbFW6EZzo\n",
       "vNMxHPxRHj2CxTnuZGWRWUeGp76DRg3nmI1A53jTmhNbVUdAV44aUmHUEvso2CE4G27ksEHrBDhN\n",
       "jWrqwOAUvtIWnEo3K+BsVa5r3K5ylXg3Ma3MlJs8lVgLOUtaFweLIgHt/V+tfeZJqseiqkpr4BYH\n",
       "g+6ENqTi0O4xAMvjIApNL1cmq61RIDg4Xf5FzC04lW7WLnmhKjiSELFYVr361zxiYnejNJ7q+Bwy\n",
       "caJ1IbmyoZSe08ROjKnBeOjA4GxbUwMnVlx4x5Az/4ZUXIrRkOLz4HDRPQFOWyPkkmOoD+sDi7NV\n",
       "WgFnq1JkeZM4n1LNW8KeE5YOeyJZsJGJncnjlK2pW5yd5Uiek9Jbl+54gW+ZkOwcOLnapkYK+c5B\n",
       "rA9V3251c/usolKswdMioSHDTncMfRFx52InwClbcwYc2L3qi29f3/otB3X/fZiKSpEbLAQ6Mt81\n",
       "lVnclIvxoQeDU7bmDDgSEKtCpd4TnPH+C3gVlcV8PHvVgu91ivGGYrYq3mkNO9Mw2IK8dtneCY6+\n",
       "/6sq+gu+HdPFQ7QrpN4QnPcwOJ9YXvArJzf+6IC+38PRQ/cdZcDXSb1bYSP7ApUvKnJil0m9Xdf6\n",
       "L1D5umUJ+t069hf+up3A36DyheTw66TeyuDQ16n8H/lMWRokjGOsAAAAAElFTkSuQmCC\n",
       "\" style=\"display:inline;vertical-align:middle;\" /></a><br>(see <a class=\"ProveItLink\" href=\"../../../__pv_it/theorems/874e27eb6c791e7595c0bf280da7dea6a739a32c0/dependencies.ipynb\">dependencies</a>)<br>"
      ],
      "text/plain": [
       "<IPython.core.display.HTML object>"
      ]
     },
     "metadata": {},
     "output_type": "display_data"
    }
   ],
   "source": [
    "%proving born_rule_on_qubit"
   ]
  },
  {
   "cell_type": "code",
   "execution_count": null,
   "metadata": {},
   "outputs": [],
   "source": []
  }
 ],
 "metadata": {
  "kernelspec": {
   "display_name": "Python 3",
   "language": "python",
   "name": "python3"
  }
 },
 "nbformat": 4,
 "nbformat_minor": 0
}