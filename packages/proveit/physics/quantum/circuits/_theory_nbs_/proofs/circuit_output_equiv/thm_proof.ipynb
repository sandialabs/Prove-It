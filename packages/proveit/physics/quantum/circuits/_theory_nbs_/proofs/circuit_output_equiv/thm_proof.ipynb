{
 "cells": [
  {
   "cell_type": "markdown",
   "metadata": {},
   "source": [
    "Proof of <a class=\"ProveItLink\" href=\"../../../../../../_theory_nbs_/theory.ipynb\">proveit</a>.<a class=\"ProveItLink\" href=\"../../../../../_theory_nbs_/theory.ipynb\">physics</a>.<a class=\"ProveItLink\" href=\"../../../../_theory_nbs_/theory.ipynb\">quantum</a>.<a class=\"ProveItLink\" href=\"../../theory.ipynb\">circuits</a>.<a class=\"ProveItLink\" href=\"../../theorems.ipynb#circuit_output_equiv\">circuit_output_equiv</a> theorem\n",
    "========"
   ]
  },
  {
   "cell_type": "code",
   "execution_count": 1,
   "metadata": {},
   "outputs": [],
   "source": [
    "import proveit\n",
    "theory = proveit.Theory() # the theorem's theory"
   ]
  },
  {
   "cell_type": "code",
   "execution_count": 2,
   "metadata": {},
   "outputs": [
    {
     "data": {
      "text/html": [
       "With these <a href=\"allowed_presumptions.txt\">allowed</a>/<a href=\"disallowed_presumptions.txt\">disallowed</a> theorem/theory presumptions (e.g., to avoid circular dependencies), we begin our proof of<br><strong id=\"circuit_output_equiv\">circuit_output_equiv:</strong> <a class=\"ProveItLink\" href=\"../../../__pv_it/theorems/b21dd09822515be154da35b8c5bf6fa64e2740150/expr.ipynb\"><img src=\"data:image/png;base64,iVBORw0KGgoAAAANSUhEUgAABScAAABYCAMAAAAwXrJRAAAAQlBMVEX///8AAAAAAAAAAAAAAAAA\n",
       "AAAAAAAAAAAAAAAAAAAAAAAAAAAAAAAAAAAAAAAAAAAAAAAAAAAAAAAAAAAAAAAAAACGKEuzAAAA\n",
       "FXRSTlMAq1RmmUTNIjK7EInv3XYgpbnDMEDI1t8AAAAACXBIWXMAAA7EAAAOxAGVKw4bAAAQlklE\n",
       "QVR42u2di5aEqK6GRVARldlnzub9X3WrdenSKAhEpYq41vT0ZKoSmp98ctWiOOuSZr5YkfRVV27L\n",
       "scsEX6d7M6l42/97XVczKFL6aqWLc5WO1zTugvGhZQhvsoc52fHxqpLGpGBuy9HsKTC/iOotXGZc\n",
       "bzHf7xgpfbXSsVKbkzWNvWB8YJkQxtm5nGyK1K+yV04LZU8SnCx6Tkr/GCcjNY2/YPzNEvHMOalA\n",
       "rahw5YiT51ZUFdOeSOkkOVndzAgYf7NEuXOS1W4LZU8inCxYS0r/GCejNEUhQHukRJlzUprKaaHs\n",
       "SYaTjSlJ6R/jZISmKBeMv1WizDlZ124LZU8ynCzagZT+MU5GaIpzwfgbJcqbkyXoUpQRnQzi5OkV\n",
       "JY0mpX+Mk8GaolFKu0uUNyfrwW2h7EmIk0Xbk9I/xslgTdE6lL3bkjUnD91JKHtS4mQZNptFSifM\n",
       "yfLmGUoYH1qy5iQzymnBahRKI7ZQqzPv7MH15nQYl3ymJqUvVNohFY7Spr6XAzA+sOTMSWVapwUt\n",
       "e3SN2EKtzryzB9eb02EcJ5mRpPR1SjukwlE6SFPU/pJ0WXLmJN/oXZcnZY/qba49W6jdmW/24Hpz\n",
       "O4zjZGU6Uvo6pe1SISkdpCniBeMDS86cbMHQq40ajNnae8uZ5ZkLfi3U4cwze3C9HXAYx8nC9KT0\n",
       "dUrbh/FYSpubV3Jg/LUlY04qMzgtONmjdC2lUIxJhBbqdOaVPbjeDjmM5GTrP0gjpYO92bCLp3R7\n",
       "88Abxl9bMuYkB71tHtn/36vLko91IcZ/OoQW6nTmlT243g45jOSk9heJlA72ZpEKUWl988Abxl9b\n",
       "MuYkAxuNmalOyZ65LgTizJDVmfdIGdeb02EkJ6X/6igpHezNIRWS0vLmFW8Yf23JmJO9cVsoe5Lj\n",
       "ZGG8pxZJ6cQ5GaAp7gXjryz5chJ/0oo4eQkna9++ICmdPCdrc+/DvGH8lSVfTpZgB11pWsqe9Dkp\n",
       "fE/SkNLJc1LcfMYbxl9Z8uWkAHO3InY2mTh5BSe5L+RI6eQ5yc29T6GE8VeWfDlZgy2ydew5U+Lk\n",
       "FZyUvrvtSOnkOSlv3kEJ468s+XKyB3um+thdXMTJKzipfN99R0onz0l16vsMQ+KvLPly0rnERdmT\n",
       "JidHnSQp/Vuc9NYUnwbSasmWkw24gzTmzMeFESfRODn4jZpJ6S/g5HDzs9Vg/KUlW06WYGtIGbtZ\n",
       "hDh5DSdrv8VRUvoLOFnfvOAN4y8t2XJSgy34OvpQAHHyEk4yv9VqUvoLOMluPrkI4y8t2XKyAzsB\n",
       "uui9Cba6bDrEFmp15p09uN6cDqM5KQwjpS9S2iEVmtKemqJfMP7Ski0nGagYFi0Vvffh7Ip6Yq4m\n",
       "pS9S+or3PgRoekK3qbZasuVka4TTQtmTKCcHUvrnOHnv22lh/KUlW07WIFdqyp7v4KT225RMSn8B\n",
       "J/XNG81h/KUlW04OYOJ2iJ5KJk5ewknut62HlP4CTvKbN5rD+EtLtpzsQa70lD0/yUlS+sc4yaOf\n",
       "LSSIk8ezRzstlD1JcrL05SQpnRon+aCDNS2DJ03eUZvW3aZK4uQjV7jTQtnzG5wkpVPi5MyEvgrV\n",
       "VIUtjC+jch3Ayb9NEmVs+9nk5Gn+owQEuWJOyJ6GDWZg0wEo1ptaR7bQCG+nc/Jg2TCSr/LjJCmN\n",
       "y8lYpWs1nRwN1rQN024VdVCu+BXgpHizvcbt/z05eZr/OE6WTgtGQ+tez0XWHcKdPNjbBf3JQ2XD\n",
       "4KT0e4wFKY3dn4xSWk7dJt4WzeLLQFPF+uGl0ieLm7B18XVUzVxtammZOClf32mQH5b5z3/+eZfx\n",
       "DP8x1//9+/9OC0ZDq19GoRBaaLC3Czh5qGzu0qi2d2yl++fff0npOzkZpfTca2K6KVXfWDQdtOTD\n",
       "k6SfTBNdUKtZR1UrLMI2tbT89z/PPul8n0B+ZsdrfvIs/9/Qn3wfkWMYLTTY2wWcPFS2I6WpRWh/\n",
       "slWk9AWcjFJ6xlmvRwWkRVM9ja5VPQdYHCLffZGOvdWAqDX37k8W/Pkd7KNDL06e5f8LOFm9llYV\n",
       "xqnfcG/nc/JY2Y6UxqXDPidlS0qfz8kopefV6sYIIa2aPgnMallUQ/P5ORXSamBU0fpzsuiH6eqx\n",
       "H9nxXu8+yf+1nGxYpxvt2dC619M+rZu+zOnezufksbIdKE3lmn20zE/yjpQ+nZNRSrPpu7wd6Vc0\n",
       "Fk1fOmpjFkvjeghqNTCq7gM4+cBsi/0O3TcnT/J/KSeraWKjtaqx0aaGlxwoT7QK93Y+J4+V7UBp\n",
       "usHZrBYqiOHj2jiRSEojczJG6ceuHqYLORTdoXvf0szqkFazEXXF1WOcbNjrR9jVOTi561/Wf91f\n",
       "KQzj02LPsHS3Z98OefTDvtmjej7npF9DU+8n08z/VryOaaFLb6rrGFOpcHL1l0ZwsmZaszKsPzmO\n",
       "sOqSlD6Vk1FKPzYutiMXGLfNTy5ufh9x2jak1WxElcsXPRzj5NzV6x79W7BVfnNkMojp47xnthvL\n",
       "3z7zD/+rDvEHzspHWar15/bs23ly8MO+2SNmv4PnA/zK1069eRgn9c6wwYR4E3vZbA4293r9m9p6\n",
       "uNXBXFyWLYKTYyHU+KMJ5OTYd1jtYSalI5R2ls1T6VqFaPqJw5BWsxG1WS4IHeRkqf9WWXobYqRm\n",
       "bTt+oGRFp94bA5yc/PS/uPoPqovHJ0Dt79m3W/nBD/tmT9/OalR/n9649qdyukdNlDvZE+JtKkuz\n",
       "9fqlY86KQYDfBhHsbf2XOip/32c5N89eB3KyqdcFIKVjlDbnKR3CyUHsdY8+W82BqCqIkyPEXkd5\n",
       "GtvN/r1gVI4fF+8Bt5OTH/5Vx/W7hqUZe8uv4jxv4eBGvmffrsiDH/bMHjWv8TlOeW61qeUQpYzq\n",
       "ZSy9cbWXPXeMu1dlE3zsUrFC81Z6luZxo7M9qcI2PznAowykNO64O0bp3Z2Bsf1Ja6vZitoEjbtH\n",
       "V6++6edW+XUl6Pemo1KW1djvHj/XCSGG8Z/Kysm3fzU0H3Y9qEKLJeF1sU3+Q/3Jwx/2zp7yMYtc\n",
       "Nn6jscdfzRqM7Fl725m9voWTi7IpXk2TfNOsjGaepZlvdJVNC0tOVS0pfTYnY5Qejmq6Nz+5x0lr\n",
       "qxnsfTgfTjb9e3L2Y9P6qhLUXyss5TjuLqvD/cm3fzF+Vr7X5KfDmq8Z79fMotyZcTz0gt/DH/Yd\n",
       "jbV6avui8HxJ1Lz7tWGv4sRlz9pbIYdk1nEWZWuUnkSdbtmb5ydspZlVELbexT4nm5qUPn+9O1zp\n",
       "SoTNOf9drPVvNZtRg9a7i+cOo3l65m/T+roSKv7JybEh6fYoJ9/+p9nPvzvPND0pGJxZbD72EH3Y\n",
       "q1KLCmV60n8VlOlONkxLz4bWtUz8lSYye1bemu2dVned7/4sG9PP2+FQ+nJSvpac/XNqe+hHSuNy\n",
       "MlxpJmM5qXv/VrMZlYfsn1yM2z+3yi8rgdftfJUPTqrutTZzgJPvUc20N40r9VeN/bN+H7xU83Jh\n",
       "+XH7/LD3kwM7J/8+jMvJ4Ia27O5GZs9SqrHamyYZTi6u6QY43UUbU0i/70/bulrrzjxLf5KUvvy5\n",
       "aj5KDyFzKbZu4KFWM+yDIpyTy63yy0qQ3aI/OXXvnjeYw5ws+ml6suLqcehpxOEY8PF7Nf09r6NQ\n",
       "D06u7c1rzD7/59aPjw9zUXIuqrKT29lTOS1pZ0/TSim3nkSQACfnxcDpJjuqK/y+r1gn7I/O8n5e\n",
       "ECl9Hid9lOY6XtOd3TiWVrMdNeR89wLMz03rM2vWlfDX+38cWdLM0aCbjckCXuqOT8CbxvdCz/3H\n",
       "uU9Zsu69UPTgJLQXbfX+H7Jvlj+WHy4nwI/VWnap9DKarjadxmqh/d4eiwQ4WU0NY1p6HsevCrM0\n",
       "QZwkpc/jpI/StYrXVHgfft6Mun5ekDcnX5vWZ+qsK6F5TQDJ5/4Lf05+3nJ3fv/jJLS/5wRKh8PH\n",
       "bNV0YEmU6YzGUEc8uCPla7whcdIrGCl9R9ng122PVTysqfR9/uR2VM5c8eXR9z5stSXVTfOT1eEG\n",
       "beNkpbZ//+Tk2t6p5xJNpewOn/MSU19yKPjmPZreBvClnKzovQ9fyUnbYxWPa8o873HbUYfGFb86\n",
       "yMkq/qkVdk7ynd+nL+r+8eet7PU4/Bi2vrBlU9N2pmre6ETZQ5wkpe/mJEPR1Pf9OJtRwZxlOCcR\n",
       "XmWT9vu7udNC2fMLnCSlE+EkkqZl/OMZ4Vg8nJMIV8qcrMG7SWt6W+l3cLI0PSn9Y5z00RTh/d3K\n",
       "HX9pyZaTLTgL2pqOsucbOMnNQEr/GCc9NUW/YPylJVtOMvBEV2YEZc83cFKbmpT+MU56aop+wfhL\n",
       "S7acFIY5LZQ9SXKyMy0p/WOc9NQU/YLxl5ZsOemqGOxG0XSILbTpMLMH15vTYXTyCb/uICkd4c0h\n",
       "FZrSIrqLXyC3qaUlW05y0NHm0V1/W11KgdhCJepbUyT2O1ikQMqe7av1W4YhpSO8OaRCU7qNXlor\n",
       "kNvU0pItJyuwwFWZnrLnGzhZ+x2nIaW/gJN19BGpArlNLS3ZcrIxxmmh7EmSk72RpPSPcdJTU/QL\n",
       "xl9asuVkYUDhTGxxiZOXcNLvMRik9Ddw0ldTfBooqyVfTg7g4VpD7OO2iJNXcLLxHTWT0slzsome\n",
       "CYkdXfZ2S76cZODwGos9zkacvIKTle8qDCmdPCerm7dPwvgrS76c1GAngI7dm0CcvIKT2vc0DSmd\n",
       "PCe16W6GQWe35MtJ5y2EsidNTjLfpVFSOnlOspuXu2H8lSVfTiqw6KmMoexJn5OD75Q/KZ08J4eb\n",
       "l3Fg/JUlX06ONdE4LZQ9yXFS+U/5k9KJc1LdvIwD468tGXOyA5P5XeT0PnHyAk6W/oezSenEOVlG\n",
       "H7iPu2D8tSVjTlagcqpIufbqsuSPFiU7hBbqdOaVPbjeDjmM5GTAVBYpHezNIhWi0slPT+bMyaI3\n",
       "bgtK9qiursYWxXZf8+7TQp3OvLIH19shh5GcDNGIlA71ZpEKUenepE6CnDkpwFklEXd6ytKmai1Y\n",
       "hTTicTjzJBuutwMO4zgpQ3qCpHSoN/ur1pGUljcPu2F8YMmZkxXYNFXFbeOydbN629DC905udebd\n",
       "A0T15nYYx0kdMkQjpUO9OW6JOErrm4fdMD6w5MzJou/dFqTsKfSA2EKtzrzJhuvN6TCOk3VPSl+o\n",
       "tEMqHKXre1e7N+IDS9ac1OCYr446+Gt9RKpGbKFWZ/5Pb0X15nQYxUkZ1g8kpQO9uZ7Ti6G0vPkw\n",
       "DowPLVlzsoDzIlEzJfTeh7MrqmCBG5JJ6avLdvzr7OZN5jA+tOTNyQ7URxejGXHy7IpSoXQjpZPl\n",
       "pLp5FQfG3yhR3pxUoH+tYsYAxMmzK0qHtihSOllO6pspAeNvlChvTo41opwWyp50ONkLUvrXONnf\n",
       "+waxjfgbJcqck8XQuS2UPalwMgZtpHSanNQ3z04eu4HmzskSFLEMLzRx8tyKUjGnsknpJDmpYh+Z\n",
       "HHnB+Jslyp2ThWjdFsqeNDjJWlL61zjJ2nvzH8bfLFH2nCwG7rZQ9qTAyapXpPSPcTJW09gLxt8u\n",
       "0cmcnK97l/2dhQT1IkO1I06eWlFDRUr/GidjNY3uJVVOy/Cg2Jljfz5fN1eF85bSuC0HG0Xwdbo3\n",
       "k4q38EanKlL6cqWLc5VWN7MBxoeWB8R48T8ux6rjza76xgAAAABJRU5ErkJggg==\n",
       "\" style=\"display:inline;vertical-align:middle;\" /></a><br>(see <a class=\"ProveItLink\" href=\"../../../__pv_it/theorems/627fd7b32b5612f3b1d5b5d68fe3b4146818bdce0/dependencies.ipynb\">dependencies</a>)<br>"
      ],
      "text/plain": [
       "<IPython.core.display.HTML object>"
      ]
     },
     "metadata": {},
     "output_type": "display_data"
    }
   ],
   "source": [
    "%proving circuit_output_equiv"
   ]
  },
  {
   "cell_type": "code",
   "execution_count": null,
   "metadata": {},
   "outputs": [],
   "source": []
  }
 ],
 "metadata": {
  "kernelspec": {
   "display_name": "Python 3",
   "language": "python",
   "name": "python3"
  }
 },
 "nbformat": 4,
 "nbformat_minor": 0
}