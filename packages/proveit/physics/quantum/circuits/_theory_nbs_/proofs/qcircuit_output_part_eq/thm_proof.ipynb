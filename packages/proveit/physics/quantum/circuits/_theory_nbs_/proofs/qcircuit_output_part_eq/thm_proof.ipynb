{
 "cells": [
  {
   "cell_type": "markdown",
   "metadata": {},
   "source": [
    "Proof of <a class=\"ProveItLink\" href=\"../../../../../../_theory_nbs_/theory.ipynb\">proveit</a>.<a class=\"ProveItLink\" href=\"../../../../../_theory_nbs_/theory.ipynb\">physics</a>.<a class=\"ProveItLink\" href=\"../../../../_theory_nbs_/theory.ipynb\">quantum</a>.<a class=\"ProveItLink\" href=\"../../theory.ipynb\">circuits</a>.<a class=\"ProveItLink\" href=\"../../theorems.ipynb#qcircuit_output_part_eq\">qcircuit_output_part_eq</a> theorem\n",
    "========"
   ]
  },
  {
   "cell_type": "code",
   "execution_count": 1,
   "metadata": {},
   "outputs": [],
   "source": [
    "import proveit\n",
    "theory = proveit.Theory() # the theorem's theory"
   ]
  },
  {
   "cell_type": "code",
   "execution_count": 2,
   "metadata": {},
   "outputs": [
    {
     "data": {
      "text/html": [
       "With these <a href=\"allowed_presumptions.txt\">allowed</a>/<a href=\"disallowed_presumptions.txt\">disallowed</a> theorem/theory presumptions (e.g., to avoid circular dependencies), we begin our proof of<br><strong id=\"qcircuit_output_part_eq\">qcircuit_output_part_eq:</strong> <a class=\"ProveItLink\" href=\"../../../__pv_it/theorems/7629d91f8157fb60196fd749d0d7304947ec9ff60/expr.ipynb\"><img src=\"data:image/png;base64,iVBORw0KGgoAAAANSUhEUgAAApwAAAAmBAMAAACbq1asAAAAMFBMVEX///8AAAAAAAAAAAAAAAAA\n",
       "AAAAAAAAAAAAAAAAAAAAAAAAAAAAAAAAAAAAAAAAAAAv3aB7AAAAD3RSTlMAq1RmmUTNIjK7EInv\n",
       "3XZ/CtNrAAAACXBIWXMAAA7EAAAOxAGVKw4bAAAGRklEQVRo3t2afWwTZRjAn/Z6vetd13Z8Cf/Y\n",
       "E6NigmwGJZgI3MgwIxtZ1X9IiFKDxowsoRA1YhZaEoOaTDtREkeMKwRNCAwqDog2hI2gIgYCuqBR\n",
       "lxTQP0Qz5thY2cjq+3F37Wy7HtfLEe9Nurte3/ee9/m9z/t83A6gbHNms7VgQlsJtm2fJfDf5uy4\n",
       "jr7OgCkiXQH74uR/ocez1uFcAjZuj1qNkz9rZ5weyWKc7qSdcQpnLcZZk7AzTqizGOevtqYJ0Yil\n",
       "OPlxe+P0JC3F6eiwN06m11Kcfl2VwGv/W5zcMMVJWN1fBqeDHCupjeIRPb02Tfvr/nOlZlifYkKG\n",
       "bKrrn+o5H5kis5/iXIUPL5fB6cID3ZEKcK7Q08mZLX5dzbFeLDHuExC6jE3Li3xQMGaGzKcozu3Y\n",
       "UjvK4OSxDW+tZDPM0VWHBouuGCcrJ8MlhsmGa65oGmC9bIbM6xSnG+WDolTOd25ExyOV4OzT0+n4\n",
       "yaKG4lNUY0tkB3406nmDmwYNXZE2Q2ZNjOBkkEd0lw1Fi9ExXAnOCT3uPH296LrGFdXE3uLj1iMV\n",
       "3jY2rSD6tEbMkBmXaGQ/NzDwfVmc3oGB3yqqEm/o2etQQ6Id2/pF/UwUJwZTCbb1yrEtwYszaJ0a\n",
       "cPaQ2mrf4CrYcXrbZcWsDk/EjE7rO4A9P5si83AtxdkAsLssTlcMPJVUidywjk7PQJwumfdr6JZh\n",
       "YcQVBu/KaG2VrM54fhueNP8TeNJwUeLHlPiczd4z5UZrBnC7qKO4uDV4eQOYItOfpjg3AxcoHdgU\n",
       "nKjLZlrrl5iY5s6LQ+f14JQhGlBMApyjSDV2DKouCKCqVvOqtANvzKok8Bn4OGfyh7puG1tlH4Kz\n",
       "sNYUmf4kxelJiCgNWqYYMdd/FJ4M5OFR0vjdcJR8OUhsnO9q7KHp2rrB5eSKmhsIZ7Rx74ykVqs7\n",
       "gh3VoduH9UF6G7cMwgi617oxrKWmWtPSnJuagE6ASW1ss6G0EzzIM4oZU2T6ZYrTmcaRyIt/e2/e\n",
       "LrhPTLgShTgXKZHoJA0WywD+Jr+lIQ75OMWcGTIXwNc7jXX6s1qj640uXVBVg1sg1M0fI6eqapfq\n",
       "6erUhPDPmmoM3pOSPn45kUNkCkg1ZtIUmSpOCC/HCRgOBQ24QErLIhTidDPEfNl2asWzlMTcC7Ri\n",
       "0nCuPZ8r02Vghu5gs2MlevMsZWEIOSr8mLSKzAiEYTajWcpITrU9ePoJQ74zjja6Y9QUmarvhCM4\n",
       "qXyC+wuu4ssLHtgmQk99f31oCk7xQTLY56be7RQIPyqlODcFZ/qFXMUhQbdal3LlIzuLM7YhzY9l\n",
       "0OzZsbewam6qGjMuDPvIjWXsPDTVHkGfRmO+8zpyi/GwKTL9SmSHNkzo3i0H3yBIFoh71xWxTo7m\n",
       "4WkXEc5NLq4jm8CX/QDycfpQseXqRA1djl59bK56D2GyrGpt2JfRuOn+FrqTSDVf5iG86cQwUc0R\n",
       "FjLkhD+DDahFVW1NEkSDT2la0Sp+kzBFZlTJO8GBwZyXeJaY0gKQ/yyCEwgZNka9IXKLe2iPvc2B\n",
       "fJxrqUtV/KswS/tyupxm+7Mbwdl1k2QU7pmDswG2X7l24o9gH5pm9Vckbkjw+zXS95XUbNh+e+7D\n",
       "t4ls+em6GcZozstWV7coHrBSmfFQ3gM6bqQBmJbOzp0I5wF3MZw00U59Pq64RW6UpkXsUD7OxlRQ\n",
       "8yiIZVTzGC13oqZbtv4JW6UyyT9vVJxMx3Mcn6TWyS4qzDtVzwhcRnGLxEWzkvr4pEPZ6xCNqZv9\n",
       "FCrFtNKhye44T+Q/Pnak3xVpcfQ4wOVSj4+xOxiGAySooRLiAH4VwRHJw/kscslq+sCNg9Cfe9Zw\n",
       "JzVV1V14w6FSme/n4/REHEthK7Il/lJESX2K4GwKwL6boXaJ2ZTq2QnQLrnebDyeF4pcfSA0v6R0\n",
       "XjKRWp3LzPQmhmTVgn0Rq2lWLPNGPk4afr/s3FWiZp/SpIKTXKJUsv64C/vX0uUYK8A5zSOQKSMT\n",
       "/z3RgZPptTdOMWwUJ1NwogOnMGpvnF7JKM6irazjOWZvnDTdtu4tEG/M1jhPWYyTCduZpi9sMU7Y\n",
       "YGecbRGrcXZH7EtT+AH04zTn3Xhuo31xegggfe/Gm9Vety/OT9WTfwHMfh86r0K9UwAAAABJRU5E\n",
       "rkJggg==\n",
       "\" style=\"display:inline;vertical-align:middle;\" /></a><br>(see <a class=\"ProveItLink\" href=\"../../../__pv_it/theorems/e19defb827c04ede8ebaec0e64f5af71ea3423ec0/dependencies.ipynb\">dependencies</a>)<br>"
      ],
      "text/plain": [
       "<IPython.core.display.HTML object>"
      ]
     },
     "metadata": {},
     "output_type": "display_data"
    },
    {
     "name": "stdout",
     "output_type": "stream",
     "text": [
      "qcircuit_output_part_eq may now be readily provable (assuming required theorems are usable).  Simply execute \"%qed\".\n"
     ]
    }
   ],
   "source": [
    "%proving qcircuit_output_part_eq"
   ]
  },
  {
   "cell_type": "code",
   "execution_count": null,
   "metadata": {},
   "outputs": [],
   "source": []
  }
 ],
 "metadata": {
  "kernelspec": {
   "display_name": "Python 3",
   "language": "python",
   "name": "python3"
  }
 },
 "nbformat": 4,
 "nbformat_minor": 0
}