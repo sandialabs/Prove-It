{
 "cells": [
  {
   "cell_type": "markdown",
   "metadata": {},
   "source": [
    "Proof of <a class=\"ProveItLink\" href=\"../../../../../../_theory_nbs_/theory.ipynb\">proveit</a>.<a class=\"ProveItLink\" href=\"../../../../../_theory_nbs_/theory.ipynb\">physics</a>.<a class=\"ProveItLink\" href=\"../../../../_theory_nbs_/theory.ipynb\">quantum</a>.<a class=\"ProveItLink\" href=\"../../theory.ipynb\">circuits</a>.<a class=\"ProveItLink\" href=\"../../theorems.ipynb#qcircuit_input_part_eq\">qcircuit_input_part_eq</a> theorem\n",
    "========"
   ]
  },
  {
   "cell_type": "code",
   "execution_count": 1,
   "metadata": {},
   "outputs": [],
   "source": [
    "import proveit\n",
    "theory = proveit.Theory() # the theorem's theory"
   ]
  },
  {
   "cell_type": "code",
   "execution_count": 2,
   "metadata": {},
   "outputs": [
    {
     "data": {
      "text/html": [
       "With these <a href=\"allowed_presumptions.txt\">allowed</a>/<a href=\"disallowed_presumptions.txt\">disallowed</a> theorem/theory presumptions (e.g., to avoid circular dependencies), we begin our proof of<br><strong id=\"qcircuit_input_part_eq\">qcircuit_input_part_eq:</strong> <a class=\"ProveItLink\" href=\"../../../__pv_it/theorems/28bc124daa067af1d8b6d0881a09ee79dc4297bf0/expr.ipynb\"><img src=\"data:image/png;base64,iVBORw0KGgoAAAANSUhEUgAAApwAAAAmBAMAAACbq1asAAAAMFBMVEX///8AAAAAAAAAAAAAAAAA\n",
       "AAAAAAAAAAAAAAAAAAAAAAAAAAAAAAAAAAAAAAAAAAAv3aB7AAAAD3RSTlMAq1RmmUTNIjK7EInv\n",
       "3XZ/CtNrAAAACXBIWXMAAA7EAAAOxAGVKw4bAAAGj0lEQVRo3t2af2jUZhjHn94ll1zuvLuK6xxj\n",
       "GnGbimAd/mDCbK+jbro6PSeI4EYrc0hVMA7/0E1slDEY1PXmEFYRexMdjCo9Rd2Pbli1Q6eb6FY2\n",
       "mHac6D/iqLU/bK21t/dHkkttcgm544S8cJc3eZM8eT953u/zvO8dgGXxpNOzIQ/ldXBt+SaBv5en\n",
       "h2yc64nkxSQTcS9O/h+6vVQ4nPPBxeWVQuPkL7kZp18sME5f0s04hUsFxlmacDNOqCgwzuuupgl1\n",
       "UkFx8kPuxulPFhRnUdzdOL1tBcUZNp8JcDUuwMn1UJyE1VQLnEVkm8vcqEEyj/ndWWPmgasmLS9W\n",
       "Jec5epYF6eLiWjnPNjsozkV4s94CJxPD3ZZywFmeJeYb4wyotKMmapWCb7udPcyvSHwG82zzDYpz\n",
       "F/bUuAVOHvvw9lwGQ0mWHGPA8PBWVSZE48sqkWA5kwluBIDty7PNexSnD+WDAdFKOzeg7YlccJ41\n",
       "bQl8bOgocFvZVpskrOgqNuUsbKBLvSN5tlkqE5xepIg+y1A0B21zihiPTFt2hnoMMyvVfX4yvozt\n",
       "RefIzrIMNF59F/Jss0Gkkf33zs7LljiDnZ03cpol9pq2RD20bdXluRXo1Zbd/RFWXZm5fsrjYjpm\n",
       "1sLMt0h8WHY7xm96s2uSEi7S3zt9lmAchBdkOzbhcNci+LR9582Upc2W2RTnYoD9ljgZGfy5zBK5\n",
       "HrMWVuQVz/0tJnSA5wIW9fZpvTRUoi70eqadx5U9EhyEceO1HKE8fd8sNr7dics10yzjYFfJbFs2\n",
       "+b9x9Lkm8gOWNsMpinMLcAaJZXI0TnTKFmrJzMfUijF03hQnA9x9UFwCSmOoa9USdKLbKF3zDLzD\n",
       "r1dmqQ2yv03LYIU76TZn7/aeBJ7ztmyOSwI/CAe0wZXFZjhJcfoTAZQGLVQUlus4Ba9FdHiUNH4/\n",
       "nCI7R8kg4ZuqTn5F9td0lZEjam4gXNSu+6yvdYkqNGy/Wd/uVFY8pLV1aMQgs0fOSLiXateY87L2\n",
       "QsJJf5y6AW3qd4YT4YEzsg2bRBAfQSPAiKXNcJTi9KRwJArizPLz5/bBlECCSYzFOUuJRGeouCwE\n",
       "+I+0paAB9DgDGTf0XoVQm5V3CgjOYw1nOA6Hx5dKuKp2bdy6xfQp+nFzBifyUYHcNK0Vu1koHg3l\n",
       "KRs2kecCPMzg1GyGM0afxAk1ZXhFBJPHN5maigZgLE6fl9hn6+ljTFAS8yDQGZOGc/WVTACNgrfb\n",
       "CieDPjd03un5BYvjRtI1IjgtYrWseWdUwylgBRpypJ08HrmTYzZsEu/s03BmtalqJ5zASeUC7i7c\n",
       "woenv7QzACcrOypjo3AGXiaiGPJRnT0Hwp/KVJwbhTO1NhNARTimzks5s8i+En02Z3RMRi+5epu0\n",
       "kfSUdK080SISgO0oHYxpOD1oGsg4yzVCKK7wD2zZDEaxTKk4s9oMK5EddmBCkz48+hFBMj1waI2B\n",
       "d3I0D08xNXReMaeCvL9Q+kvQ4wyhGMk0ooIO192aO1Eb0yMmER+rQRONlpsk4ToeM/d2S3jQnaZd\n",
       "K4EWmVTqZeRAPhUngyLTcWfS6UM2390AdmzyF/GvCLUKzqw265S8E4owmCsizxJXmg7ROwY4gZBh\n",
       "ZaqGSBa/pmccWh7R41xNJVXRV2GCttNurJxNDxIwI72RekrZzRjwk2Y1/7tieDx6rOfJeNgLoWWk\n",
       "wlUdj/GTz+5uIi+WYScUi86S+Kb7xSV7lR0Lm7C19RnYNTxxxnDEymZDTLdAx/UtBm9tY+NehLPZ\n",
       "Z4STKl3r8SFFFrl+mhax3XqcVa2TtUwJsazTFKPWup/rnsK6Wv5skh9vVJze+Hscn6Teyc4am3eq\n",
       "ygjcoCKL7CDJwdXlk7gy1qFOVgf7OSR22oxsqdtx/qxfPi5K7QnQydE8gJtmy8dYDnqgGTFLwLEo\n",
       "qjARKJJ0OFfqFmNQDBQ6Mgt01nOqa08BZ/5sfqHH6ZeKXoXtyJf4vyQl9THAuTQChx/E6kXv5taT\n",
       "SH3qReaTqu90oYg5C8LyD5ST5z9qXZJRmhZLoVsx/GzBaebRZq8eJw0MPzTuM5mzjyrimEomUTIr\n",
       "/ii4urADY3BmWQIZdWXiyYoNnN42d+MM1DjF6R1TsYFT6Hc3zqDoFKdhsfwd6bS7cdJ0u3D/AgnK\n",
       "rsZ5rsA4vTVuphmqKTBOeN/NOHdIhcZ5THIvTeEPsI8zP/+N5za4F6efALL33/h8lW3uxXlErfwP\n",
       "iHowODa06kQAAAAASUVORK5CYII=\n",
       "\" style=\"display:inline;vertical-align:middle;\" /></a><br>(see <a class=\"ProveItLink\" href=\"../../../__pv_it/theorems/02e5424b5a02d068158ce398acb010855650ba230/dependencies.ipynb\">dependencies</a>)<br>"
      ],
      "text/plain": [
       "<IPython.core.display.HTML object>"
      ]
     },
     "metadata": {},
     "output_type": "display_data"
    },
    {
     "name": "stdout",
     "output_type": "stream",
     "text": [
      "qcircuit_input_part_eq may now be readily provable (assuming required theorems are usable).  Simply execute \"%qed\".\n"
     ]
    }
   ],
   "source": [
    "%proving qcircuit_input_part_eq"
   ]
  },
  {
   "cell_type": "code",
   "execution_count": null,
   "metadata": {},
   "outputs": [],
   "source": []
  }
 ],
 "metadata": {
  "kernelspec": {
   "display_name": "Python 3",
   "language": "python",
   "name": "python3"
  }
 },
 "nbformat": 4,
 "nbformat_minor": 0
}