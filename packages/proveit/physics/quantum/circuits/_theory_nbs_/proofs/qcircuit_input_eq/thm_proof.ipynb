{
 "cells": [
  {
   "cell_type": "markdown",
   "metadata": {},
   "source": [
    "Proof of <a class=\"ProveItLink\" href=\"../../../../../../_theory_nbs_/theory.ipynb\">proveit</a>.<a class=\"ProveItLink\" href=\"../../../../../_theory_nbs_/theory.ipynb\">physics</a>.<a class=\"ProveItLink\" href=\"../../../../_theory_nbs_/theory.ipynb\">quantum</a>.<a class=\"ProveItLink\" href=\"../../theory.ipynb\">circuits</a>.<a class=\"ProveItLink\" href=\"../../theorems.ipynb#qcircuit_input_eq\">qcircuit_input_eq</a> theorem\n",
    "========"
   ]
  },
  {
   "cell_type": "code",
   "execution_count": 1,
   "metadata": {},
   "outputs": [],
   "source": [
    "import proveit\n",
    "theory = proveit.Theory() # the theorem's theory"
   ]
  },
  {
   "cell_type": "code",
   "execution_count": 2,
   "metadata": {},
   "outputs": [
    {
     "data": {
      "text/html": [
       "With these <a href=\"allowed_presumptions.txt\">allowed</a>/<a href=\"disallowed_presumptions.txt\">disallowed</a> theorem/theory presumptions (e.g., to avoid circular dependencies), we begin our proof of<br><strong id=\"qcircuit_input_eq\">qcircuit_input_eq:</strong> <a class=\"ProveItLink\" href=\"../../../__pv_it/theorems/71360705566c58c8e762a0afbf0ed1cf612eca0f0/expr.ipynb\"><img src=\"data:image/png;base64,iVBORw0KGgoAAAANSUhEUgAAAVEAAAAZBAMAAAB6JADEAAAAMFBMVEX///8AAAAAAAAAAAAAAAAA\n",
       "AAAAAAAAAAAAAAAAAAAAAAAAAAAAAAAAAAAAAAAAAAAv3aB7AAAAD3RSTlMAq1RmmUTNIjK7EInv\n",
       "3XZ/CtNrAAAACXBIWXMAAA7EAAAOxAGVKw4bAAAC0UlEQVRYw81Xz2sTURD+spt0k026TaQEPUgC\n",
       "/gEG/AGCtSmoGCpY9FJEaEVEzKX14qmQeBSEBPVgRUwEEQSrUQoecmitBxVRCvYaWPCqNq01LREa\n",
       "377dbLb1vca+yOrAht3MzrzvzXxvZhYQlwNwS7ydmUtJ15Aq+Y7MH8E9OdKR9S0XkXYXgbBxs0ck\n",
       "I7MuItUIzGPGzSURlpe4qqt/HalaB66JErZniKsaE8RzqBGJXM4yVReALsKAYFzAba7ILQoN0dC9\n",
       "AzxrTE0KkBMErYjXr3xexMYFi9E64Fthqr6Q60Ol8l7EbZSreTmTFUMqk3jK60zVCMngCeAufShy\n",
       "+oLKdjvJjYy+yGGTt0IlzLP0VEl+37C5RjZ/BQo1Vd/Sv66vlFM0JIHmS0/sCPkLg9N3mg/n+a1v\n",
       "b0IspqE81N3sfGTI+Q0Ug/QUB5fNDMxDm92AdKYVoT6TMFQWeOudRo4WsIYt1T89pPe/Rekme1q2\n",
       "luoZwSjp5oEa/mhmIAm56kTqu6HbrnqB/rYxTSITFovp4jik12xVxgj1qNlUdXPpUBxTCSdSrau1\n",
       "7hzUT+2QarePxvJiPL1nZJCd/ZxRTl6k6QI4boL/vH8nnEh17yhSk0QSpIrsG7Ad7eIs95Qkb14s\n",
       "pkvk6te5Zx8TdI/DFgP7oPY6kfqymt3gCYcfJJ0Vjp18dIuNBP7v5CfGbn2HKTNpmAbLsaJFxcyQ\n",
       "A6m3/LxuV5EklB8bdvm7+IxOUhVCqq0StDW2bqD1lkVaQkWMOKuUDmWtmX3CYZ/d7ELszU8YpqtC\n",
       "SLtIKs6lwev7lpwh7IqrJSh1qAuO7BshWrYPYBFTya1nqceNNKRCrSQA1FNYikRv8mcpa9lXUE9d\n",
       "9M/h4M9yKu5AejKMhzUrevJYebrlye/mfCpvrheS4z7QznqHmzP/5pnn7HaQ/tPvqMR2kEol14Bu\n",
       "Peor/9P3PqmIvwAL+LjIyqh0OwAAAABJRU5ErkJggg==\n",
       "\" style=\"display:inline;vertical-align:middle;\" /></a><br>(see <a class=\"ProveItLink\" href=\"../../../__pv_it/theorems/359b19c1ffc2014a371bc1bd498e9badb49474df0/dependencies.ipynb\">dependencies</a>)<br>"
      ],
      "text/plain": [
       "<IPython.core.display.HTML object>"
      ]
     },
     "metadata": {},
     "output_type": "display_data"
    },
    {
     "name": "stdout",
     "output_type": "stream",
     "text": [
      "qcircuit_input_eq may now be readily provable (assuming required theorems are usable).  Simply execute \"%qed\".\n"
     ]
    }
   ],
   "source": [
    "%proving qcircuit_input_eq"
   ]
  },
  {
   "cell_type": "code",
   "execution_count": null,
   "metadata": {},
   "outputs": [],
   "source": []
  }
 ],
 "metadata": {
  "kernelspec": {
   "display_name": "Python 3",
   "language": "python",
   "name": "python3"
  }
 },
 "nbformat": 4,
 "nbformat_minor": 0
}