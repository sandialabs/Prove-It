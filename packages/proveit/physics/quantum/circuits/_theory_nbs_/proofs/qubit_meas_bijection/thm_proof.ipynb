{
 "cells": [
  {
   "cell_type": "markdown",
   "metadata": {},
   "source": [
    "Proof of <a class=\"ProveItLink\" href=\"../../../../../../_theory_nbs_/theory.ipynb\">proveit</a>.<a class=\"ProveItLink\" href=\"../../../../../_theory_nbs_/theory.ipynb\">physics</a>.<a class=\"ProveItLink\" href=\"../../../../_theory_nbs_/theory.ipynb\">quantum</a>.<a class=\"ProveItLink\" href=\"../../theory.ipynb\">circuits</a>.<a class=\"ProveItLink\" href=\"../../theorems.ipynb#qubit_meas_bijection\">qubit_meas_bijection</a> theorem\n",
    "========"
   ]
  },
  {
   "cell_type": "code",
   "execution_count": 1,
   "metadata": {},
   "outputs": [],
   "source": [
    "import proveit\n",
    "theory = proveit.Theory() # the theorem's theory"
   ]
  },
  {
   "cell_type": "code",
   "execution_count": 2,
   "metadata": {},
   "outputs": [
    {
     "data": {
      "text/html": [
       "With these <a href=\"allowed_presumptions.txt\">allowed</a>/<a href=\"disallowed_presumptions.txt\">disallowed</a> theorem/theory presumptions (e.g., to avoid circular dependencies), we begin our proof of<br><strong id=\"qubit_meas_bijection\">qubit_meas_bijection:</strong> <a class=\"ProveItLink\" href=\"../../../__pv_it/theorems/57db9e3b87a9db5d813c8b7f8fddbbc8bbc526960/expr.ipynb\"><img src=\"data:image/png;base64,iVBORw0KGgoAAAANSUhEUgAAAnYAAABYCAMAAABPs0qkAAAAeFBMVEX///8AAAAAAAAAAAAAAAAA\n",
       "AAAAAAAAAAAAAAAAAAAAAAAAAAAAAAAAAAAAAAAAAAAAAAAAAAAAAAAAAAAAAAAAAAAAAAAAAAAA\n",
       "AAAAAAAAAAAAAAAAAAAAAAAAAAAAAAAAAAAAAAAAAAAAAAAAAAAAAAAAAAAAAAC2Ur7sAAAAJ3RS\n",
       "TlMAq1RmmUTNIjK7EInv3Xa5wzDz6eHX2+Mg51Behfn75XzZ0dXBcI0I2m+nAAAACXBIWXMAAA7E\n",
       "AAAOxAGVKw4bAAANYklEQVR42u2de9usphHARUBuStPmJE/atEnT9inf/xvWK4IXHFzX1zld/jh5\n",
       "s+sCys9hZoCZokBUKr77VenaQk/UycoCWdGVnnvf3bZG0W3R6AJlYWT/u5JcX+dTi4wHsEYynIag\n",
       "pK5MPd+T2NEK45OgBCN2RU0RPmud7PU57GSNU/CrEiN23Al8j5okBdM57CpzYQcdqFz0CmqE2BVE\n",
       "4VNoHL8cu/JSbdxddlGeSooHO+HQ2W9VWgs7hV1zpbC7FTsRzFeIFAXVYLMn0sLuFHbyWtfDndgV\n",
       "ymDETjqLTNgdvCdnsNtXNTZUX/kSUVqAsBPgJmmNEbtC1cg0O3s9dvvuZbMWrUq+gp3/dRq7uN1U\n",
       "k4GahAm7Epd2R47mwxE7reoGjrIADf8AfMlewI6TAo6dv4dkkw3DiF3hMDlKtTsyvb20qxi0Uupg\n",
       "UmfUopoXsKtEBnbzPaSaZBVK7IiTeDpLD2Wzxw4uxROOwBA7PU7vpjyNHTVFFnbTPaSatA4ldtwZ\n",
       "PJ1VhzbnhB3fv9Iu5tSagLArx9dTqNPYfftzFnb+HlJNll5srLCzqmnLQ2czh8eo0O5whpuwM9GV\n",
       "0YAsVaXEexdiZ9YzZSZ25ieZhd18D4kmpRfrC+x4ZfWjJQiaWZYeS+YJu4pYS/zcFNPaQA3ZUbW3\n",
       "jA7Y2f6XpTmHnf6ZFFnYzfeQaFL77sfYierZc67FM8uSA19xYMm69qlrb6LGoJVqxwWxPfymKNsJ\n",
       "QdPuUWmAUbFHFPlZZGEX3kOiSe9SirGrHr7cLvHYsvWxb3/Eblhlre22fLNKb81S28Mvy4K1v6fd\n",
       "MA76CONnsJM/mSILu/AeEk16qbHA7vEuFCTbUiGq3YTd4FbwI/KXH5uouEBs8oQI7YZfD0PfVzVo\n",
       "hZKcwe6Xv+o87MJ7SDTp2BZ2sp7u9am7ParjqesZpXQKil2/uM+9HFvgysNd8UfSbhQ7ZvahzJrW\n",
       "8Z4myOfrK/p2w3tIKHfb2OnH7y1iWNZlGUALHbHrB4t5MR5jJyNt+xi7TuyI7qLRNDxQm1zIlv/7\n",
       "b3X0vwBpF95Doskd3e7xezyoQ7LrrgK4gCfsZLQNOR6DeAzFkSVbsPb50HZM+SAjjxx3zkMX6aW/\n",
       "Rp9BsJvvIdXkjiVrny5LJBbPXQ1w9YzYkXYs1Oyfi7SIhd9OJ4T96LatRTfH0rGWo2UKtwFd8fdv\n",
       "MYwA7IJ7SDQp9vx21cMX27VzOLCD2D6TA4UYtifEzALemh1g1yr0RlkrgNOX28JquUABcaDM99Ck\n",
       "hAbfxk4TxfWzhxOFw1hAXo8TG58qdYRd70XZEZbb2C17aujBBTvtHjc5b8hfLY5xo567ONa+Szg2\n",
       "P5UA/8kZ7Fh9PPzBOpMSh9it3g9dLcHMwi7V5LyChu30W4XDlLUQv/YJ7Oj+3O2H3+wRlLRkfSEc\n",
       "cNEudskmFcGKHcGxPGYgFvcJ7PS+sJ+l3Qw/zcdOquIV7JJNznY4NuyYIzjeDvIW7EKTdylg10rv\n",
       "cf1rorTIxC5uN9VkcNQZG3YGx6qscuw92NFrHUi3nhwz89Dhww7FscXqXdjpa1cHb8WuLtFiZ3H4\n",
       "ixuICnrqeLapsGJng5HDhh3F4S+u34ZdUUuk2AXC7oPdu7Cz78Lu0jhjN4besWG/sWFXYsGOvgu7\n",
       "osIYcq0QtcCO3Txc5UOHwL0RO90gDLmmm8jhiA073mE3b5t+6i58B1nDOxu7+OknXraKmu8TUexi\n",
       "X2TXY79tWjx1992ffvgzRAT05QR3Eht1+pmbwsED8MsPP3RCbrzUPHVfAEjaFU333rPiU75MBncD\n",
       "ABFdvbQr6CiyH7tiAcSOf0b+ywuFY1cMZ41q88HuU27EjvXajdIf7D7lRuwEmf6ZDoTOhlLKDi5t\n",
       "fHiYxX/3m8GXFbDF9x/s/m+x6wXduNNr/lmv8dGNAbeKEStsd1JeR+5mFf9txLo+X+H0fWwLbS8a\n",
       "fLD7PrErrTco5p/Z+P+lJUp1Z+UVEV00EdPF2ZU1HDsbXbSFnbS2QY6dbSRGWBr6Fdi1zFG7QEcM\n",
       "Q81GNhgbn6cZTsgPgQIVB2M31jdVuCntihI3dqKpBEohxZuLnOZ52Jlyarb7GbekP5bcvbliUMb8\n",
       "9mpN5XhW2dsih9iF9U0VPhW7eJ5nh1dE1NU4c7l1N9U0X4Dd/MBUH/Cj/diOia36eubAGqUoPS1G\n",
       "FxaAXVzfeNX4PVNToY/AbjHPN4dXhIV8QZqLqzZScUfvx64gcsZF6G70W0xo92G/P4D7PlFNp2db\n",
       "ORfvTt7BLq5v3HDw2Ek27IKtj66Ie3Ctw93duJEqeVb9fdjF6BDbq2JDpKvuX1oNIqkspOS7SvOu\n",
       "bhfWN1SIAjtOnGkleqthWKMB2F08x94q7S7q/EvYtSPYyjRBvQkg5xWM0aQodAZ2YX2jTZE3yfKv\n",
       "kXaDod7b780HuzukXSufTKDVzUsYwvTcGJsn7ab6fIUYJtkeO9kPrLIf7N6NnWZMjcE77BRjy0+t\n",
       "2rQzLpM5k2xQ31ThFnbCVG4L53zsND9kMDCN1th1mynMiN1wqpGw8bNz2J3JYZYECpbDDJ7C7Gbs\n",
       "dtCZvGweJW26mTA9mAm/na8v5S7efSIgKyvAzlaAkEeSbK5CL6SdpoO0q16TdmdymCWBguUwg6cw\n",
       "uxM7vovdZK7ynCApCey8+cvt+7HzsZCMsWzViGymvihygJ12rQnVx4sTwcbxl7ED5jBLAQXMYZaR\n",
       "wuwR2E20EX0Ndp5eovOxazKxm2IhdbwszkpowiqvWJg1P4t53jDT67EBvXuaQAZ2wBxmKaCAOcwy\n",
       "Uph9LXYLFLL8nyL+W28pNXrxPaTAAlOtsKP9f8zyQdgUdu/Sys/kMNsHSv8TmMMsI4XZjdiVOKIC\n",
       "KFBgqhV2wxxaLq2mq7Bb79u6OIfZPlDqd52DHSiF2Y3YURwxUAjoiMQKu+FXq3jsV2G31pQcDDto\n",
       "DrNdoPgftMjBDpTC7JolFhB2FkfEJ1g8tCV2esKOvmmSbVZ+gWtzmO0C9a9/F1nYgVKYmUsWlEHY\n",
       "GRwZAmDdnLEbstiIMY3NUjGcsbOvqRjloldVdTD+mTnM9oCif/As7IApzC7J2gPCjuE44EdBQtlj\n",
       "J8aUDhN2Zg878WLo5iiDmVapLWtncpjtAKV//E+RhR0whZmuLjhNA8JO4YhdzEGWz4idIGOCJz3w\n",
       "xvelXaFJkMNBV935uW//+K0rv/d//u5zlX37qfv3L7/5L5cZzHhjj8Y/lcMMsrdk/PTbf8XGp4lc\n",
       "UsAUZt3rLW/BrsIRqR2UIMBLO8nGt3YQ5eW+SVGY6qV13DCDmaiYPlSy9nOYHUm7GaYlkMfSDpjC\n",
       "rCgbe4+0q5EkMnZOwLHzqw9KDa/wrgOlfE2LjjOYFSYVK+9MDjMXMBeM2a8FPIdZTgozc0WsPxB2\n",
       "WIK2NJCdT2t3ce3tC71tyb5mUiyHkNSH2GXlMHMb0PlcUrAcZhkpzPglAXUh2AksOccIZHVsvTjW\n",
       "hePS3TusQ5vEeNF5sd9OXJzDbDOF2ZxLCpLDLCOFmbrEhQvBjmNJn20hFvcaO82MHXbrN375n5Da\n",
       "VYRegJ1ZzUnHqxRZOczcGrool5RzMOxgKcxqdRd2Fkc2FOD7scYuFE1b2sRXrMlm5DDbyFC2ziWV\n",
       "s/Ep2eJ92BEchiwwFWQSu8336yuwy8hhtpGgbJlLyuVhl2rxvjXZBk0YyAZgys7YrVcf9KbWxcA6\n",
       "BrsMu4wcZqBcUjnYJVu8DTuNxaLozACagd169WGTuiDJ9mHd10m7uU80G7uNXFI52CVbvA270qE5\n",
       "xM4BXQ02tQtGDtUHYQhYxQAu3iZG7kwOswuO8MBTmB1gR80ustIEjnIAdmhUu+6huBzsXrac+4Ox\n",
       "WjWy7OJo7JyXfZPAuBK7M4qp3MjuPIVYMsYGWsIUlcOQHOxqh4a6gh2vp1yH3XQwtp+su1Xb7fOy\n",
       "3yl2BZnImoJ8tRPjAFgXn4kr/+0UlaOsMrCTDlGgGH7s67kMO38wVnQmV3dAdvu87PeK3bRIxuZT\n",
       "qSNY/TezdVeewc4immPbO65vw246GNtiV/RHy+PzsokeqO8BO+msJTo2QMpxB2O/g6p8CbuqRkRd\n",
       "+5Lwu7DzB2ND7DbOy66f6MWLPneG3tF+Icg2urAsCPJVTKnZZI/dHIJxwo43cOwkliWKaQzIXdj5\n",
       "g7E9dt2sun1edsPNgzOoYtz3LhpNixkPhJ2s5IxdbZfYte+ihmJHkKUMOtzrf6ElOxyM1d3RIVp3\n",
       "m+o2zstuSYx56RdbCTSuToFjJAjyVUgynG4eJlm3mmTbWdYCsdMOWeRJfSSdHxBEVqsaZcJG2QQh\n",
       "l92gv8nwcVuSMilEDZ5kLboJwR6Iu0eEzC4JxpDZMnx0rcTu4QlPVoxGg7VDGAxtzpoUNb7sXI15\n",
       "PnbfQZHM9lNmEOTLg9UFldGdiVWGUTng2FmHTwsp0wL6g93VKsMc5Ktc2uiR7w2MnXYYdRCmPth9\n",
       "TeGLxZk4jhsYO6JQ3n0ya8cHuzeWhbsyGgcZnPpMYsdrnIa+TPW7oefSGH8K6NHvLmn5NNDd47fq\n",
       "exQMPKHdfdIYf3E5SmMcJf3+H50I27dYSasuAAAAAElFTkSuQmCC\n",
       "\" style=\"display:inline;vertical-align:middle;\" /></a><br>(see <a class=\"ProveItLink\" href=\"../../../__pv_it/theorems/b07d5189c85af8888f35b494db19d1f38c9c80aa0/dependencies.ipynb\">dependencies</a>)<br>"
      ],
      "text/plain": [
       "<IPython.core.display.HTML object>"
      ]
     },
     "metadata": {},
     "output_type": "display_data"
    }
   ],
   "source": [
    "%proving qubit_meas_bijection"
   ]
  },
  {
   "cell_type": "code",
   "execution_count": null,
   "metadata": {},
   "outputs": [],
   "source": []
  }
 ],
 "metadata": {
  "kernelspec": {
   "display_name": "Python 3",
   "language": "python",
   "name": "python3"
  }
 },
 "nbformat": 4,
 "nbformat_minor": 0
}