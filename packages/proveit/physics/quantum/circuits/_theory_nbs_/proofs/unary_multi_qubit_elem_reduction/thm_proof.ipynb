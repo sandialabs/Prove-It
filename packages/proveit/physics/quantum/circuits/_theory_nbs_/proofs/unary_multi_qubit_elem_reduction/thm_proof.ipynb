{
 "cells": [
  {
   "cell_type": "markdown",
   "metadata": {},
   "source": [
    "Proof of <a class=\"ProveItLink\" href=\"../../../../../../_theory_nbs_/theory.ipynb\">proveit</a>.<a class=\"ProveItLink\" href=\"../../../../../_theory_nbs_/theory.ipynb\">physics</a>.<a class=\"ProveItLink\" href=\"../../../../_theory_nbs_/theory.ipynb\">quantum</a>.<a class=\"ProveItLink\" href=\"../../theory.ipynb\">circuits</a>.<a class=\"ProveItLink\" href=\"../../theorems.ipynb#unary_multi_qubit_elem_reduction\">unary_multi_qubit_elem_reduction</a> theorem\n",
    "========"
   ]
  },
  {
   "cell_type": "code",
   "execution_count": 1,
   "metadata": {},
   "outputs": [],
   "source": [
    "import proveit\n",
    "theory = proveit.Theory() # the theorem's theory"
   ]
  },
  {
   "cell_type": "code",
   "execution_count": 2,
   "metadata": {},
   "outputs": [
    {
     "data": {
      "text/html": [
       "With these <a href=\"allowed_presumptions.txt\">allowed</a>/<a href=\"disallowed_presumptions.txt\">disallowed</a> theorem/theory presumptions (e.g., to avoid circular dependencies), we begin our proof of<br><strong id=\"unary_multi_qubit_elem_reduction\">unary_multi_qubit_elem_reduction:</strong> <a class=\"ProveItLink\" href=\"../../../__pv_it/theorems/5c02237f76c09ac1910c8bf2804ba1aac307e4f30/expr.ipynb\"><img src=\"data:image/png;base64,iVBORw0KGgoAAAANSUhEUgAAAQoAAAAmBAMAAADO/MgDAAAAMFBMVEX///8AAAAAAAAAAAAAAAAA\n",
       "AAAAAAAAAAAAAAAAAAAAAAAAAAAAAAAAAAAAAAAAAAAv3aB7AAAAD3RSTlMAq1RmmUTNIjK7EInv\n",
       "3XZ/CtNrAAAACXBIWXMAAA7EAAAOxAGVKw4bAAAC/ElEQVRYw72Yz2sTQRTHv91dk022aXtRighZ\n",
       "8NRTPYkF0SAUC3roHyAY7EGaQ02hBwWxyUXwUFL0EPwBrtCLYE0Q8dAK/goYFG3Eg6AEI1WPtqQt\n",
       "bWNt3d1kd9ahk50QnHcaZmZ3Pt837828XYBhJyDGwokmg0qPIApMGeyxw6IgILP1qm+aPLfDZ7wY\n",
       "15kjgXyTx5a5Xt7NS/GAuSX9hjgKdgh+gTiK4DorLGoCKXCb0d8xLZLiKOsNh9qjSLVEManDDo2D\n",
       "VH8m2Q6FdKTEQTGw8x6zW+fMViSGQavnPDXjONqgULMzPTy+iOqQsnaSxJG2opQOg33+FEQKbRFD\n",
       "KfJQZKYxYTe6lhEwTwZNpya84PCFK4W2PkQGeCgC6+H6SSFtQDYDMUBP+M1B4Uqh7RQuTfJQyKv3\n",
       "GltYBd6Vy2/pCSscFK4U2j5iMZfkyZGF/Y3L3VxuCLhFn2ZVDgpXCm2vkMgN70qhlG1z4J9VGo1t\n",
       "YBxBs1u6m8WBXhAX+eeIIwWY+TWIq4Ur3+pvraLUrfP4IloiARAyNJMcnTGcdIb3rO1ykJEre5mS\n",
       "on5CqIIPulq/EKpS3qbwu+OVcWeZVdMLFTs4u2qae4/y+cKVEslD3cAdJ5xWlGHGjvxrQ+omoUD8\n",
       "mN0szKElCiIlo1tOvWnvrxUXEUxyxIWWwtekGxd4VK8/l1IkOnlyhEjpN9fcJBRjaWQMf1/8MI/o\n",
       "PEnJy3W2pzFSF2/7U3ikWL5YJRSPF3HG/7y4bxJ010hKdthO0B56aoqCP4VHihnYZjy7FFMJzPtS\n",
       "XFsoQr3wx1aukmSY8y496kvhkQK1aNWpow6FUgp/bulml1z9ioElUmue9qPwSgEm5vcivdXbt2Xv\n",
       "rTz23WiJQnOSbaZshKMj5GY32rjZtWSLtVaIUf7mdJEVH6uyC8VEUpxlVHbyc5EUT1gf0msiKV62\n",
       "ivc/KLqYju9Mifta7mSmghwX9ucAP9lDI8Iggq/ZY7NJURSzTc6mYEIUxY1mgxdF/V2zys2/C6FI\n",
       "LBujdWEAAAAASUVORK5CYII=\n",
       "\" style=\"display:inline;vertical-align:middle;\" /></a><br>(see <a class=\"ProveItLink\" href=\"../../../__pv_it/theorems/abf8178e5b69d2a1b8cc4e1adef03600224d2ee30/dependencies.ipynb\">dependencies</a>)<br>"
      ],
      "text/plain": [
       "<IPython.core.display.HTML object>"
      ]
     },
     "metadata": {},
     "output_type": "display_data"
    }
   ],
   "source": [
    "%proving unary_multi_qubit_elem_reduction"
   ]
  },
  {
   "cell_type": "code",
   "execution_count": null,
   "metadata": {},
   "outputs": [],
   "source": []
  }
 ],
 "metadata": {
  "kernelspec": {
   "display_name": "Python 3",
   "language": "python",
   "name": "python3"
  }
 },
 "nbformat": 4,
 "nbformat_minor": 0
}