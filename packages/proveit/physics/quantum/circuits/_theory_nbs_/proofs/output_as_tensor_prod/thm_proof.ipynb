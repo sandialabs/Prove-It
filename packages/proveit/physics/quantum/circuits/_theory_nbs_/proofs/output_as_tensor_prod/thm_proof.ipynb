{
 "cells": [
  {
   "cell_type": "markdown",
   "metadata": {},
   "source": [
    "Proof of <a class=\"ProveItLink\" href=\"../../../../../../_theory_nbs_/theory.ipynb\">proveit</a>.<a class=\"ProveItLink\" href=\"../../../../../_theory_nbs_/theory.ipynb\">physics</a>.<a class=\"ProveItLink\" href=\"../../../../_theory_nbs_/theory.ipynb\">quantum</a>.<a class=\"ProveItLink\" href=\"../../theory.ipynb\">circuits</a>.<a class=\"ProveItLink\" href=\"../../theorems.ipynb#output_as_tensor_prod\">output_as_tensor_prod</a> theorem\n",
    "========"
   ]
  },
  {
   "cell_type": "code",
   "execution_count": 1,
   "metadata": {},
   "outputs": [],
   "source": [
    "import proveit\n",
    "theory = proveit.Theory() # the theorem's theory"
   ]
  },
  {
   "cell_type": "code",
   "execution_count": 2,
   "metadata": {},
   "outputs": [
    {
     "data": {
      "text/html": [
       "With these <a href=\"allowed_presumptions.txt\">allowed</a>/<a href=\"disallowed_presumptions.txt\">disallowed</a> theorem/theory presumptions (e.g., to avoid circular dependencies), we begin our proof of<br><strong id=\"output_as_tensor_prod\">output_as_tensor_prod:</strong> <a class=\"ProveItLink\" href=\"../../../__pv_it/theorems/1c60e00776424dab6e39966adfbcb7e0eb67da300/expr.ipynb\"><img src=\"data:image/png;base64,iVBORw0KGgoAAAANSUhEUgAAAycAAACuCAMAAAAbIIIWAAAAQlBMVEX///8AAAAAAAAAAAAAAAAA\n",
       "AAAAAAAAAAAAAAAAAAAAAAAAAAAAAAAAAAAAAAAAAAAAAAAAAAAAAAAAAAAAAAAAAACGKEuzAAAA\n",
       "FXRSTlMAq1RmmUTNIjK7EInv3XZAMGxgr3zKxjj6AAAACXBIWXMAAA7EAAAOxAGVKw4bAAAQGklE\n",
       "QVR42u2dDZejqrKGRUARlX3u3Yf//1ePn4mIUmibDD28tdZMuksklZIHqoDQRfGYKDsJK5KVStKa\n",
       "NOx6RupekxpI0D393KiffBNlWz6ITNYLgtGaNOx6SlpGayAh94wtmrOHOamT9kHZaVKThl3PScdp\n",
       "DYRyD8+JE+25QCfRZj5qhfSeiUy8N/vDcuierDhhFa1Jw65Ha29oDYRwT06cKCtJTRp2kcIba9kg\n",
       "VaPozNSWpAZCuCcnTqqK1qRhV0wUPXd6zNKgND2tgYTdkxEnpddtl0kMJ7esqK1ZgmkR8VQMqYGE\n",
       "3ZMRJ1VPa9KwKybwWsYRHtPim47WQILuyYeTVHvVe1as8/lVF+Hx0gu4S2Qo1xyWDyfMalKThl3x\n",
       "6YlmvYopbStaAwm5JxtOtG1ITRp2xTm6McawiseyqEgNJOSebDjhB0NpmaRdMWJmR5fzAqXmxOgg\n",
       "bUtqICH3ZMNJ44U3TRJh15EV9kT8RLMd+z1lDDUVYDtaAwm4JxdOtO1JTRp2xT1Gtj6+aRKg7Eka\n",
       "FamBBNyTCyfcizN4EpHHPSuU5WscLaM4Md7bGAReVxyWCyfMW8xjSSwy3rNiSU8Gf8+JCcmJ8iZw\n",
       "FGa8rjgsF046S2vSsCtGqjl6ll2l4zgZUh5NaiDn7smEk78qPWGvTZDrVBnNSeWNW5WVoCHaYZlw\n",
       "UnqrFGUSqycPWUFzIrxVf4E9XhcclgknwstaRRJ57ENW0JxwD0hu8S2UeIdlwknlreZVSawyPmJF\n",
       "3Va2NdST6UgN5Nw9mXDSeasFXRLrB1+zQnsHhmhrQUO0wzLhJNXpnu9ZYT0iLVYa4x2WBye113fW\n",
       "SfSmX7Si9yK8Hnvr4x2WByelN/1aJjEt/EUrKm96q8KEV7zD8uDEeIvPJonl6C9awbyZNYadK/EO\n",
       "y4OT1psDbZOYFf2iFcI7zVZYHAwZ7bA8OGFek2BJNJIvWtF6Q1eLHV7xDsuDk8Y7laSJOKfkT9j1\n",
       "wcfekxrIqXvy4KTy2mOVBCdftMJ4y4oGC43xDsuDk95LWfskktgvWsG9KWiOhcZ4h+XBSee1xy4J\n",
       "TjpwAk6S4sSQmjTs+piUHhUlOIl3WC6ccFKThl3gBJz8ObFee7RJcPJFK6RHhQQn8Q57lpN/7H8S\n",
       "5eT/SE0adn1M/vG2XP6Db/7GO+y/mXDy/6QmDbvASQ6cpBt3laQmDbs+JsqjQoGTeIdxcAJOIOAE\n",
       "nIATcAJOwAk4ASfgBJyAE3ACTsAJOAEn4AScgBNwAk7ACTgBJ+Dkj3KC/V0/tetjgn0rP3IY9q38\n",
       "yvGEv/60g4p+NBhPEHflF3fNf0A+/u9bgxNwkiEn9fJNSBl7EgU4AScZcsKXcYTHfnMYnICTDDlh\n",
       "y3OruhqcgBNwEkxPNOuRx4MTcHLu6MYYwyp+87GDE3CSAyfLH5AvuxEU3baMaXACTjLjxJ7Iu0Sz\n",
       "nOnZjun8OOMlenACTjCe7G9k6+Mzwy9ynCdW4AScgJOdn5fEhI2McA1OwAk4OU1PBn+vf6OjRdz1\n",
       "izjRPE3Pi39rUpOGXXFSzemJ7KrF36qnHK///ZfUQE7dU/NnGcR48vnxhL02Qa53142mHw3GE8Rd\n",
       "ueXxrtRi+FeDE3ACTkKYNEopocEJOAEnAel2iyvgBJyAk0ceOzgBJ+AEnIATcAJOwAk4ASfgBJyA\n",
       "E3ACTsAJOAEn4AScPCQ45+6ndn1McM7djxyGc+7eXYZ86N3ED+zCeIK4K21OSvHUu9UNOAEnfykn\n",
       "unru7bj5Gzm58WjrX8BDfWIrODnUNE9+waDXfx8nZmtqXV2+JVWRxn0954S9Yw/+DCfP1fgtTuru\n",
       "yfcz7K/jpGy3v1X2wi3Rh4ZfP108doAPVWy4+3rKiXglsFX9DCfP1fgtTkR7Z8g+61W10wI16/r1\n",
       "3cwv5cQNS0trL90SfWj41dPFoyVU8fql0EqHOVHscgJKcPJcjd/ixN6Z7DrvVZ0D6HqjeL9wyH4p\n",
       "J8LpbAWLCLDft5weGm7aQczbiuiC1Hi+Lx48tpwL9/U0P1lBasuHOHmuxi9xou5M/QR6VdHsxnVd\n",
       "TYQokTgnyxig9oGjE5a2dRvR4XebRnZ4aLiaW7I28nLB8Ef1i4ePLe+0+3rGCeeOkx7g5LEav8SJ\n",
       "6W/UGuhVzaZdLU2OVaqQfZ02J68YfRfIl9sHWZvC0IZvbjk+NFw1y2+6kVcLBj/pQfHwseXr6O9E\n",
       "AUfzXV0/Stc+xsljNX6JE3YD6FCvKjc+Xn1grO1k2nm8at7JhT5N38Q4lJLzM5tbjg8NF4MHJ/3w\n",
       "g75YMPjGB8XDx5a3zH095URMtzf6OU78GnXKnDTX86hgr6oOCdKJz3epbu7epi7OAWXb08pyvPdN\n",
       "geg3wg5uOT403NTF1KCH5lzo9lrBYG5yUJw4tpxX7uspJzVb/4vvTcOceDXqTm37LSvaVhzM0p1f\n",
       "ORxhIwuTnFTscsML9qr1Zl7gpB2lx4lxOkrVbGzrS+eDD5+PdNj7FufQ8EIvrXGqoFW1eMemx6eL\n",
       "HxQMyVFx1wI/ROzc11NOpo6/DQd/dS/GErxjL2/5Heb7nLt9ja3TJHi/j+LpK8X9wuQ5d73wOAqe\n",
       "g+33qjtHxM2fffG0PfKcO93t2uBWsQkYTSPEkJmRA/D7FufQcGWWXLBdcrzNL8enix8UpDtwt7hT\n",
       "8VEf4r4euGc556405zm3MqwZM6KSTfHecgCOCI8n+xql6rYzDUxsIHW7g9Mrxf3CHxhPwr1qHbcA\n",
       "kNR4UjOnEdZVe9To9fwYbR/PiXNo+NAy+ncDqttWvVvT8eniBwWpB7MvvrPAyyY79/V8PBma9Nmm\n",
       "JCGWR14OJcQLUYqTXY3GbYrd2D50fzAMnl8p7hd+nhOiV43cwJNYfsK3EaKT8r6DqOW59x0VV75u\n",
       "cQ8Ndziph8Y0zd4Kv+DrdHG/IN2BucV3FQs+DGqsMHwN2BeLXq8BTtpyydv2tbxX80tVyiF5HUxo\n",
       "hzbSD/9kqHm8apwxKUS17W4N54Kpo4747Erxg8L0fNfFPJ7qVbfzXb8mP3FW2tyNFM3a5cl1CpUc\n",
       "w1+37A8NX1qjKgs19blDg5blUcHldHG/YPiD+sWdijWXY5oyBpXr9iLeuK8BTuolGN3Xot+3lmqI\n",
       "u0oZO57Um/BWKjeLmPIKPUdN7tm4myuyNELS6clSzc84MRe3d/m96s6yuPqSWz9hq8N3nl9nTF/b\n",
       "4BpywHxNsu4PDV97bbM2JbNsBDs7XdwrOOZ/1dkPB8WdimttxpLTSNW6U9jO7PfJfuGlV97XIvmW\n",
       "k6F9mCaSk2LTz4u2bdnmbRdCxlFQlc7m2s2VbvzwEelJTefMJCfy2no82asK9js5Wfdk7fcbqalt\n",
       "68baqQ2X4w9ESj3fcnBo+Cu6ea0HztNa56eLuwXdiRf/h31xr2JmxinwTWjYS/c1xMm78Tm18KqZ\n",
       "pJw50e2anNOcbJOTXWo75RVD45w0DiebK/ViB5GezIW5KIcQTJatusVJ0V3Z30X3qpF/YDS9fSvr\n",
       "59lf6a9vTDy75Z0FcDNNgJ34anO6eLigP5qHi48rFGN3X9tCzTO564xucYETtxbVOuPJGAwV5xN0\n",
       "x5wsve/YJuaFn3qyQC89wMzJ0ZVinGabLhz95xQuR5OHxl629zi5sF84olfVkcPT79kHya9/2/Ps\n",
       "lk22rEtjyhMjnNPFQwWP/B8qXttlNBjSkcnEdcOmu9eT4GRfyzt7mL8/HvxqxSEnYkpUtLCVHAaI\n",
       "chyjbDsuD66j3vQOR1emmbbpgupq9z+vcKOmoEGU9zhRj37/hP993z9prq/0HN5St8Nji/m+Z9Tp\n",
       "4ndEsmWaombThsk1xtzFmgQnfi1qjTfnKZDLnOx6E3981idXWj1HbGVMNf38vaC+4Lc4KdiTLbav\n",
       "/zpO9PWdPTqNL1XE4rzD+ur3fnU75ieRO5pJTqS39c508+Z770o1dCf90YUjnWbzjDkz9T1O8P14\n",
       "Kikzl9/zxi3fl7XB7BvOn/1+PL9+hV+q5t58V1GcZDZ3BOet/A2Cc+6ONQ+e36Xv2/UxwTl3P3IY\n",
       "zrlLyy6MJzmMJ+AEnIATcAJOwAk4AScQcAJOwAk4ASfgBJyAE3ACTsDJXXl/6QKcgBNwciq9ACfg\n",
       "JFdOLCmIu8AJOEF+Ak7ACTjJnpPNOXdJCXnOXTJ2fUzIc+4gIffU/FkGMZ5gPMF4Ak7ACTgBJ7+N\n",
       "E6yfgBNwEiFYPwEn4ARxFzgBJ+AEnIATcAJOwAk4ASfgBJxAwAk4ASfgBJyAk+Q5+dXn3CVh1zW5\n",
       "sM6Ic+4ut2Wcc4d1RowniLsQd4ETcAJOwAk4ASfgBJyAE3ACTsAJOAEn4AScgBNwAk4g4AScgBNw\n",
       "Ak7ACTgBJ+AEnIATcAJOUuFEkpo07AIn4ATjCcYTcAJOUueE1EBO3ZMHJ53lpCYNuz4m0qNCgpN4\n",
       "h4ETcAIBJ7P0Xnvsk+CkByfgJCGprCE1adj1MSltR2ogp+7Jg5PGtqQmDbs+Jtz2pAZy6p48OGFW\n",
       "kJo07PqYGO/ICRN/CEWO4ronD06EZaQmDbs+Jq1tSA3k1D15cJJqI/miFcIbukQSQ2qy4ronD064\n",
       "F2LwJIKOL1rReFMGTRJTGcmK6548OJHe1I5MYrLni1ZU3tJ/lcSWhGTFdU8enNTeUkGdxOLBF63o\n",
       "rCI1kFP35MFJYT3DbBKmfs8Kf9MjtkFecFgmnPTeBvY+iY31X7Oi9iK8GsuMFxyWCSfM2yDCkti4\n",
       "cssK3ljLBqma+MBJejMGEssnFxyWCSfGmwM1ScyK3rSiaxbKVPwbtaQGcu6eTDhJtTu9Z0W9TFnK\n",
       "eMqYN7nFMN11wWGZcKK9iSWdxITXPSv4Mo7w+BWQ3kvae6TxFxyWCSfDx65JTRp2RfV182vV1dE8\n",
       "dqQGEnBPLpy0XsLcJpHI37JiTk8066PTk9LbSFYmscEtWdm7JxdOpNcsZBIN5Y4VyjbGGFZdIAzp\n",
       "yc/Sk2w4KTpLa9KwixQze7ns+K//9MVvaS7ZcCK8OVSRxL6NIyvskbwvN90as6no58JIDSTknmw4\n",
       "kd5ygUxiAeGGFeszjJ/uMl6QZRB2XXJYNpwUXUdr0rCLdDJfY2g5PEDB1ZCsFIYHVuerjtZAQu7J\n",
       "hxPjbaUySWzxumzFkp4Mzq6KQnM5pindMMQYdv5YWlIDCbonH04KPyJPI0a/asXS18mu0kVRazOu\n",
       "6I+Zijht+sxbUmRYZAyJ756MOGm9D98m0VquWcFemyCXCJoNSYoa0enPMg7tkaiRxYfkwD0ZcaK9\n",
       "wVQnEX380IpuGEpMM276KlQ4UAtpIGH3ZMTJ8PE1qUnDrgtS22VM4U1xsiuyE7QGEnZPTpwUfUtr\n",
       "0rArXuQYIlSD22tm9K/qHn5Rf5oZJ6VnXpmEwR+1Qns7yHQSO9sSjs8P3JMVJ4VoaE0adj0nrKE1\n",
       "EMo9eXFS9JzWpGHXUyI7TWogpHue5mSSdCcdlecElUSr+ZwVvaQ1kJB7+v3+ugdCOz5Jwg9C1rQm\n",
       "DbseeiKS1kCC7pnbNC/+B1j3PGiVCFwrAAAAAElFTkSuQmCC\n",
       "\" style=\"display:inline;vertical-align:middle;\" /></a><br>(see <a class=\"ProveItLink\" href=\"../../../__pv_it/theorems/db779d6b8c831aab4691603f53b77ab8d9eae9720/dependencies.ipynb\">dependencies</a>)<br>"
      ],
      "text/plain": [
       "<IPython.core.display.HTML object>"
      ]
     },
     "metadata": {},
     "output_type": "display_data"
    }
   ],
   "source": [
    "%proving output_as_tensor_prod"
   ]
  },
  {
   "cell_type": "code",
   "execution_count": null,
   "metadata": {},
   "outputs": [],
   "source": []
  }
 ],
 "metadata": {
  "kernelspec": {
   "display_name": "Python 3",
   "language": "python",
   "name": "python3"
  }
 },
 "nbformat": 4,
 "nbformat_minor": 0
}