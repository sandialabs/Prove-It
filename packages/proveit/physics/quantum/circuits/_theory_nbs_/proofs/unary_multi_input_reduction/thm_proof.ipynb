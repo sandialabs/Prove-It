{
 "cells": [
  {
   "cell_type": "markdown",
   "metadata": {},
   "source": [
    "Proof of <a class=\"ProveItLink\" href=\"../../../../../../_theory_nbs_/theory.ipynb\">proveit</a>.<a class=\"ProveItLink\" href=\"../../../../../_theory_nbs_/theory.ipynb\">physics</a>.<a class=\"ProveItLink\" href=\"../../../../_theory_nbs_/theory.ipynb\">quantum</a>.<a class=\"ProveItLink\" href=\"../../theory.ipynb\">circuits</a>.<a class=\"ProveItLink\" href=\"../../theorems.ipynb#unary_multi_input_reduction\">unary_multi_input_reduction</a> theorem\n",
    "========"
   ]
  },
  {
   "cell_type": "code",
   "execution_count": 1,
   "metadata": {},
   "outputs": [],
   "source": [
    "import proveit\n",
    "theory = proveit.Theory() # the theorem's theory"
   ]
  },
  {
   "cell_type": "code",
   "execution_count": 2,
   "metadata": {},
   "outputs": [
    {
     "data": {
      "text/html": [
       "With these <a href=\"allowed_presumptions.txt\">allowed</a>/<a href=\"disallowed_presumptions.txt\">disallowed</a> theorem/theory presumptions (e.g., to avoid circular dependencies), we begin our proof of<br><strong id=\"unary_multi_input_reduction\">unary_multi_input_reduction:</strong> <a class=\"ProveItLink\" href=\"../../../__pv_it/theorems/4da431d387d246f9a7a1a75a8a3f1ee7afce024f0/expr.ipynb\"><img src=\"data:image/png;base64,iVBORw0KGgoAAAANSUhEUgAAAjAAAAAmBAMAAAAoz7zzAAAAMFBMVEX///8AAAAAAAAAAAAAAAAA\n",
       "AAAAAAAAAAAAAAAAAAAAAAAAAAAAAAAAAAAAAAAAAAAv3aB7AAAAD3RSTlMAq1RmmUTNIjK7EInv\n",
       "3XZ/CtNrAAAACXBIWXMAAA7EAAAOxAGVKw4bAAAGEElEQVRo3t2af2gcRRTH3+1dbje7l80ZQSmV\n",
       "eMVKhYi5P7TWUmOK6W9at5VWEPWuEgmY/rENRZRWcsm/NnSJgp6VuvUXlMbeWjBgKHixlYjVECGg\n",
       "WCJbjFVabEOSNhKrcWZ2bu82t7O53N0fsgOXXd6bm5397Js33305AFZrXpiBUlooBv5p4svk8NTC\n",
       "PLvPqhLH2gh+an26dfy2YjDBpK/ABKPVAnNU9xUY6K8WmE5/cYEBvTpguHmfgQlFqwOmzvAZGH6u\n",
       "OmCO+SzFAByvDpgVDO72WapMQbHX092llnnb9vcEVo8N1QHDEIGSkjt7p7wbuPKsp1tYUWakfp47\n",
       "qWU9se6YBYbkmvvcwTB9+QnOeYIxAVZ7T1T4mZnTxffG3ELJstZGKwEjoyu0srJmqwVmEz50uINh\n",
       "+vJ6aMoTDMrMdYwO1uHkZvddTcJ3H3adu2WVxioBg6/OGiCUtMD04IyguYNh+uwWSHqBEVHESO6v\n",
       "UofoUfYAU+/6VctaGZgz6HOW0UOessCEdcbkERimz26RqBcYLsUEO1kCmIRrHrGslYF5AH1eYymz\n",
       "vywwwTgCwEi+TF/+8RleYCTmUhRmSwBzztV1DioHg2cdZmxswjTdlb6fmLjI2pVYvjyYOBPMmScR\n",
       "mD8Bmohh38WHN6K+LdeGYN9oU8eqf+6IOcCIuyYV4cCW640FYPZD0/bioS1r+WDEyTgY8hhwjGcq\n",
       "zlAwWwHeBaB5LuQEY/kYiTO/t7mCMR6ED+GGnsu+3yniOHAjsBngwpoZGF8UMX0qnIC6Bjim2hlQ\n",
       "nOHWnHeZN7HKWVbunCAtygQjcVkxji/LQvsvBXMQeDQKyQRxCMYcYCxf0bULhC8TjBDbCY9CBPVW\n",
       "6IOGZgWBSagwAXoRmEtorFRtNheCR9CBm9sjFK9DauWny42Y3tBYUIUs3XNd2t8UTK2OE4JGZYfm\n",
       "AGP5Hjep6fUdSnDYASahsMCIMIqWMuoqWGjbATIoLD/+UsWMFoPBC7veqNWgnlzr4EuY/3k3DZaz\n",
       "nnwR/12w21SpYPSIKZEV0sMYYJaC4UycXzEQHj3+LQ4wli+C7164nFa46BBsLzFisEYz8L5I1zIC\n",
       "U6/BRw3NKj5dDIa7id02GGEb2nrq2re66S9qHVTKTb7NukSERBOjSw4MJFsImBeiQf0nW1/QVwLi\n",
       "68ZnbehBcS0hMKS2nW2bSgATSiLQV+3sTyKG+xonkU4CxiiKmFYbDBG2mVjCJWSolVnuWDLHoCzX\n",
       "BbLOVq65HANncQFYE815Gfqh1gmG+B7jr4GM1z7X+4xpOCKmm70rhbSgXqPYegHnmFR9KyReVTsJ\n",
       "JwcYuICXZR4M3nSe0DMxs2hkapWyZW/X22A97PVQrrldCY5guhr/wZgM64CLO8AQX2PXgHrKEmxD\n",
       "9zvBZEwmmJoRCR7JK8wDqngJBQXc6FXxMhqkYCT6snU0hQIp7ABzF2RSpJN4C1+JamxqrUDHPKca\n",
       "QYWtXPmcjoFAiiylgNmFJisYDjDENxoT4GkLTEjWHGAirWyB1/PFdTX/TrK/5bICQuNDp3/ZfbsB\n",
       "DbySCNjAPbfutKaz4zNFuHe49/1hG0w/yLss7Ttuv9vZ1grACCtP/A7MlzgQbjrKDhrUKev5OITU\n",
       "orIDP4vS3dp0Oh3jUqKRdOiYsOahfHsJTHpD7cua/5L3XYnyFUisrPYs1haACZjmYYBTxfWYoPY8\n",
       "D2/Qd589zrUTynqAuUrSqPq/AyOTOHzbc+QCMGLbcZRffisGEzD7JKRoMCIFZGe6D857gCGr8hNq\n",
       "+WFZ85eXyq2hZPlgSMSLrAGsSk8BGCJjFgk8q6caWAc8rsT1ddDiVV6gT3uAIcH1q2XYffvuZZWk\n",
       "lxK2A/EKIoagj3u+/hWCCaKgqDFZpc3T6bSbpHqL8cRtBVJmpe1Qg6f7cEOZNd8/7HXA6pFQF4PB\n",
       "IAP6Mmu+G8BvbdBZDKcpUlxuMTyj+A3MV04w7vWYEraPpM+40LRf+f+uv/EZmEisSmDW+gzMFagS\n",
       "mHDcV1z4kWqBEX/0FZhPY0uCKfU3eK/ofgLzJvnr+Ru8koMv5SMuoq0+/gOvxc6uCqmbQwAAAABJ\n",
       "RU5ErkJggg==\n",
       "\" style=\"display:inline;vertical-align:middle;\" /></a><br>(see <a class=\"ProveItLink\" href=\"../../../__pv_it/theorems/69d0a4882dab727f32db291b43147f3c129e3a820/dependencies.ipynb\">dependencies</a>)<br>"
      ],
      "text/plain": [
       "<IPython.core.display.HTML object>"
      ]
     },
     "metadata": {},
     "output_type": "display_data"
    }
   ],
   "source": [
    "%proving unary_multi_input_reduction"
   ]
  },
  {
   "cell_type": "code",
   "execution_count": null,
   "metadata": {},
   "outputs": [],
   "source": []
  }
 ],
 "metadata": {
  "kernelspec": {
   "display_name": "Python 3",
   "language": "python",
   "name": "python3"
  }
 },
 "nbformat": 4,
 "nbformat_minor": 0
}