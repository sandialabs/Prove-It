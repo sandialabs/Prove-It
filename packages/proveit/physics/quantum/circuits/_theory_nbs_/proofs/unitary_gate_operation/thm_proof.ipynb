{
 "cells": [
  {
   "cell_type": "markdown",
   "metadata": {},
   "source": [
    "Proof of <a class=\"ProveItLink\" href=\"../../../../../../_theory_nbs_/theory.ipynb\">proveit</a>.<a class=\"ProveItLink\" href=\"../../../../../_theory_nbs_/theory.ipynb\">physics</a>.<a class=\"ProveItLink\" href=\"../../../../_theory_nbs_/theory.ipynb\">quantum</a>.<a class=\"ProveItLink\" href=\"../../theory.ipynb\">circuits</a>.<a class=\"ProveItLink\" href=\"../../theorems.ipynb#unitary_gate_operation\">unitary_gate_operation</a> theorem\n",
    "========"
   ]
  },
  {
   "cell_type": "code",
   "execution_count": 1,
   "metadata": {},
   "outputs": [],
   "source": [
    "import proveit\n",
    "theory = proveit.Theory() # the theorem's theory"
   ]
  },
  {
   "cell_type": "code",
   "execution_count": 2,
   "metadata": {},
   "outputs": [
    {
     "data": {
      "text/html": [
       "With these <a href=\"allowed_presumptions.txt\">allowed</a>/<a href=\"disallowed_presumptions.txt\">disallowed</a> theorem/theory presumptions (e.g., to avoid circular dependencies), we begin our proof of<br><strong id=\"unitary_gate_operation\">unitary_gate_operation:</strong> <a class=\"ProveItLink\" href=\"../../../__pv_it/theorems/331c374f66175a5b20978f1d97bd38b42d2827bf0/expr.ipynb\"><img src=\"data:image/png;base64,iVBORw0KGgoAAAANSUhEUgAAAi4AAAAmBAMAAAARqA2oAAAAMFBMVEX///8AAAAAAAAAAAAAAAAA\n",
       "AAAAAAAAAAAAAAAAAAAAAAAAAAAAAAAAAAAAAAAAAAAv3aB7AAAAD3RSTlMAq1RmmUTNIjK7EInv\n",
       "3XZ/CtNrAAAACXBIWXMAAA7EAAAOxAGVKw4bAAAHYElEQVRo3s2aa4wTVRSAz860O+1MO1sf4Q02\n",
       "AV8hgUaQACG44PJQQScYYowIm2hCQCNdfhhX0C0EE408FpBAJZpBEhOy4o4koCxRitFI1hDKL42y\n",
       "cVDk4SvLLrvIEljvYzvtzL0zU5aWepNtd+bcnrn3u+eec+5pAYppQn9/AsrTZrO3AnEob5NXegue\n",
       "6u8rTpEQK9cQAxzNs6DcbZPuI2ivNJcp7C2xvuxcxJiPoNJcQpwBbNTLzgW2+QgqzaXaYO+9VH4s\n",
       "8InuLag0l4ns+ITifF6/vZXArRUKKs3lZ/ZW1Cjqk522q5qbfK50xVtQYS4hjm1s0W8DF9jtLagw\n",
       "l6pm9t7wwoukRXCQXNwUzHD7wIz/A5caTrbYXXhxMPdPODU4Lm4KmtxyRypoBzLjsf5cqsh7ibPe\n",
       "LWg5pdH9dwzfnt9aV9hpqejJtTfBRRp9/U6oOvmKh4JoLbupf8oL2mEOflvuzyWg4bCaLC2XR8h4\n",
       "LgGstXI5sZPloqC/7M3Yi9KDXv70UhBgksc9c/vygnZYh/k2+3MJYcNqLPE+GkJWF3ERr1kup57l\n",
       "8in6O8Dh0vDLqTiM6jUZLtVY+riXArWTGYzalxe0QzVy/0q8CP+ykjO4W23HclxC13O3IjGWywOc\n",
       "JSHDP4qMWDVYe6nBCx3zUiD868KFCtpBRC6juhi/Owm9l/rkci3HJdhrTclguRicLUy4rMKGr7Nc\n",
       "liETkg0vBaEuFy5UgOLRiY6O74vhEunoOG2UmEt3jovSFXz510NJJkQdBPlsAgw1C4LB4XIVbzyO\n",
       "fzmKgo+oeSmQu124UAHiMh/gfe6gFTuXQArCt3yiE2dPmjPeiphS1wAX+a8ERGY3JZgAehAUISMn\n",
       "8JCzLJfgDfTSwuFyGtuRt4Ib5HVhB26nCrhQAeLSABI/OwnYuaBeDdx+9xdemOQ1FwTtwXDRWU24\n",
       "CN/mF47arHT9yFcIRjQrk9Dt4LI+kBWTkAEaOO1cFOwLHma5yJdyduSu4JqLvVAB4hLWFc3e4Y0n\n",
       "NPEYwwVZFdqsGy4lpA/oxFpOtMGCYdheWz4bYYdJ4hta/YcsDRdnnTczcifskuvz5bhgD+FylcYQ\n",
       "ujrLNDsXPWIqBPA6+2kRc4lmcuxrbAIB74U3uQqsdtmNy+UBLoJZ6HZDZ9KaEGvDQc7JZQJ2uwJ6\n",
       "7GLaDbaSPnvwQxfC5LGTF32BpmpYXJDphPH75uE7YN9QeNBIhjKQFYyo6LCXAS7UuJz2go7cCshI\n",
       "13jWXlpjubBjtxdiR597K/DlAvUzC4R1aPMLMwNgKHUL6+bYuFSLJk17TNoNc1GIefZAU2pCc0TD\n",
       "T16Z4yKhCQaQJw0gBwZtJogGhDU5pmpV5/lcDD6XubAaVJ3JPTGXicgkJZPDpTPHy12Br3+BA2gq\n",
       "4qObz6jTUqBi1yesf8Y0WHtR7tNpFcCg3Qa4IHc2HXEJpz4mNewDlMvSmKj/CBKygd/whp+q4SPc\n",
       "fOehvpvl0uSIR/AYUr+YzT07B8KOkmS54BJOVdJbgVs8glw8grVo0nuXJCIxNQb7iNpU270cLhLO\n",
       "wlo1bC+kG+UikZzmS4giO82iOY0jXGSzT8U1wWaQ8XCE1XiUim7aRyKTtQn1Fp5YWk0HlyVJA4dc\n",
       "Z+5JuFju1RGPXgRpmLcCic1flCt5AeZShai/fg5qUgEDnqZcAmozywXwoyYiF5Ki3SiXYDM9cu2B\n",
       "32EMmv2zhIv0UVaFqfhAGsTrL+7FEX5Vv/OQ8w0eyJD+kdgH33OMDDxS6+ASGvkh3nhRTr6Lq31D\n",
       "ueejrU/6KAj1MDWPUb13WQKrzjAGNkI0DlPS6XRcSMlGPZO/0DaXHE5JN1wpUaioMZ/YvEP3UZW5\n",
       "GmeZ74K4Ip3eFnorxQ3xKzgV32ZnvhsivMZxuCBX3ZDyrzPwFLhWS6nA4nIcLkJTCM2D2AssMl3q\n",
       "L7PIIYx0g78xlxCah1QrWUk23UcQ1aZLyFLmQYi4DeR3gZMULuBkTRnntFTywZ2889Hhu80i6i88\n",
       "BUrW5QNUkOMidSKLmRagGS3ajWrMhcvz5NxBE19kXxeI3218e4M16X9wAortxVwDxLmQZHrNPFBM\n",
       "Tp2BZSX2OadF7FauH3xdiqcg7FZpo4Icl2AMhbGGP0DahS42Lc9FOZaLMBLHF9IN5CNHUmQdThbU\n",
       "43fCxjh2t3W7kbmoyN81YkuXD6XncwbRyh7k5S5muUmwSAyeC09BTcKzhMjUMVvSaa2IOmZBt+fs\n",
       "00IWgrmQ9IXkdfLh9A63UYfZqhm8V3hxwfKKg6zvuilY5lZho4IS1HcDScdVUMdcRLxFlvodIzNu\n",
       "hedyfx9wyFtQirp3W+EFOsWJJN8lxjvCR6/cw9lb2u3g8rW3oBRc5MIL3fbthD6IZVOKK37d2veN\n",
       "asZbUOnvGyOcvOY4lL9F4t6CSnMROcYx5TZwOecjqPjvX17gZLyJsmORvvMRVJzLfjZeyj+Uncv+\n",
       "uI+gWC5l+32dxPmp26t6ubls9xYU/fu6MrbXOKxSZX6mrPkK/gPExlt0jgqadQAAAABJRU5ErkJg\n",
       "gg==\n",
       "\" style=\"display:inline;vertical-align:middle;\" /></a><br>(see <a class=\"ProveItLink\" href=\"../../../__pv_it/theorems/f628798af2826f7f020e4424383e99919e1801750/dependencies.ipynb\">dependencies</a>)<br>"
      ],
      "text/plain": [
       "<IPython.core.display.HTML object>"
      ]
     },
     "metadata": {},
     "output_type": "display_data"
    }
   ],
   "source": [
    "%proving unitary_gate_operation"
   ]
  },
  {
   "cell_type": "code",
   "execution_count": null,
   "metadata": {},
   "outputs": [],
   "source": []
  }
 ],
 "metadata": {
  "kernelspec": {
   "display_name": "Python 3",
   "language": "python",
   "name": "python3"
  }
 },
 "nbformat": 4,
 "nbformat_minor": 0
}