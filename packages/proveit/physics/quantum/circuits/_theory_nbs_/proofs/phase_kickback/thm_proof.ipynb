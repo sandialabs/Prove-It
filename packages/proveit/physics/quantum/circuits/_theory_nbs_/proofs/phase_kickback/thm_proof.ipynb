{
 "cells": [
  {
   "cell_type": "markdown",
   "metadata": {},
   "source": [
    "Proof of <a class=\"ProveItLink\" href=\"../../../../../../_theory_nbs_/theory.ipynb\">proveit</a>.<a class=\"ProveItLink\" href=\"../../../../../_theory_nbs_/theory.ipynb\">physics</a>.<a class=\"ProveItLink\" href=\"../../../../_theory_nbs_/theory.ipynb\">quantum</a>.<a class=\"ProveItLink\" href=\"../../theory.ipynb\">circuits</a>.<a class=\"ProveItLink\" href=\"../../theorems.ipynb#phase_kickback\">phase_kickback</a> theorem\n",
    "========"
   ]
  },
  {
   "cell_type": "code",
   "execution_count": 1,
   "metadata": {},
   "outputs": [],
   "source": [
    "import proveit\n",
    "theory = proveit.Theory() # the theorem's theory"
   ]
  },
  {
   "cell_type": "code",
   "execution_count": 2,
   "metadata": {},
   "outputs": [
    {
     "data": {
      "text/html": [
       "With these <a href=\"allowed_presumptions.txt\">allowed</a>/<a href=\"disallowed_presumptions.txt\">disallowed</a> theorem/theory presumptions (e.g., to avoid circular dependencies), we begin our proof of<br><strong id=\"phase_kickback\">phase_kickback:</strong> <a class=\"ProveItLink\" href=\"../../../__pv_it/theorems/f95dd2019b4b4ccae48d1c0924b3ec7a694628db0/expr.ipynb\"><img src=\"data:image/png;base64,iVBORw0KGgoAAAANSUhEUgAABGEAAABYCAMAAABidBp2AAAAQlBMVEX///8AAAAAAAAAAAAAAAAA\n",
       "AAAAAAAAAAAAAAAAAAAAAAAAAAAAAAAAAAAAAAAAAAAAAAAAAAAAAAAAAAAAAAAAAACGKEuzAAAA\n",
       "FXRSTlMAq1RmmUTNIjK7EInv3XYgpbnDMEDI1t8AAAAACXBIWXMAAA7EAAAOxAGVKw4bAAARk0lE\n",
       "QVR42u2di7qkKA6ABUUUkJntXd//VVfwhoIIFHI8Xcl8011VnQgi+Q33qsom3agFVSWkaGJfnOdo\n",
       "ackzuiDZhA4sk9kw1+iAb5kciNeTkELeWjCxL85zrDToGV2QjMJRJjNVnWs0BnzL5EC0pLfSX/dg\n",
       "f2OeIwUL9oguSFYRdUazegz9BoSBPH8oLKLqssRqDvK5kLSa6DYDwgBhiglqn9EFyf2g+nxmQBgg\n",
       "TLkbJI/oFgrA6rcwr+6eToGOOJsZEAYIU0ra9hndMk9HyiHE+9PBeDBlnCN00RElePptNNYHp/RD\n",
       "0tVdZkAYIEwhwRFhCR7fN6SGA7wOa8c9PcewkAM3ZxI0wwe5vcgD7c8fLuqiTKvCEggDhPmxEGZ4\n",
       "RvdFhGFz5MWPeOxDEMOOQZsiLB0/aA5d5aGW5w/uaESkBTECCAOE+bHbkxl0nUXUFbmBAML0tend\n",
       "nMuGWtGJ33TzPWYQhi7T05abbzdV9aFrnaNuK2G6eSLcnodtYpx3Yh1O64lxmAFhgDBlBI0sgy53\n",
       "tZ767h2EocLMZDs5GxvUMw0IyKgjZuCLHWsYrau982UjDJkuThHt2quCYqhpl6Lc8iDR+YNTxrSO\n",
       "MNsMCAOEKSJs7HPoOgkTFCQUIEzDjUzWWp2rO+HnFzupr0zN+qCCDDb9Pv0lKdMK+k9FGP1BBXp8\n",
       "+f+qoORCmC0PbKU38yIfpTXRbDMgDBCmiNQRYbdH10mYangHYdbuaZ3JHs3NBuboVcXyytSIanoF\n",
       "gE7oStFXnaao/qoIoz9MV6F4Ic0dYfY8bCFQ65vTSMakESvbDAgDhCkifUQjyaNrEMYIBDh+A2G6\n",
       "Nds6k+OMBA3Llt4QZjNlSAzzeNT0J6UbbSqC7FYSmuGCcQBh9jw0/fmDG5dpfb2WGRAGCFOmkTRk\n",
       "0TUIY7gp7R+/Acrbkfv7qrcJMyqTbCWMwgHmN4RZTZkYcC2QuqOu65oVtI2siLAJU6MOTcENr0II\n",
       "s+VBivOHC8wnNZMsMyAMEKZMI4ln0XUTxgoSfkS2hQ5cDzXz+aFKRzPOIsxqipQinaAgDnsbtMwc\n",
       "+tlbN7gdRU+qIMJseSDrL8QbVsq0ZpJlBoQBwhTxvogpdD7dC8LgGG9oBtE/UdR97yKM/qshfsKs\n",
       "pjriOY9c+2As7wpqJ8yah26NMjpvlNKljSZZZkAYIEwJEWMe3QvCxPT1zpNLMg1wM8OhWnRoJfE5\n",
       "TtC57NBGNyVC6L/Q2XTZhCw8eujxVWZswqx5oCvAqZ/645i0fcbZDAgDhPlF3TCXhGmCQyQ+O/EQ\n",
       "7jEu2XnV2B+Nnt5lCtopxrJimMW0GzFVEuzap1lzRmZswqx5YCtYmJ8wbdrKjbMZEAYIU0BwxGwY\n",
       "r652HEcg0KFwD5gl//5WhxhmafjUczqnfiKLMKtp2nKgsFbSmod9qrA/kGvSMnM2A8IAYQpIE9Ft\n",
       "6NW9imGMIGHMIjcBzT1haj1S0+h2y3ms65IwzbyxH32AMFsetnp2U+HqMWmE7mwGhAHCFJA2Yr6d\n",
       "V/eKMOGDSbGtpINHeLtgUX/I5KBWDQgdJpzn69hjSYspG0RN5CDzEYavtWrLQ+BY0lQfRVo1FkAY\n",
       "IExpERE9q17dC8LETIj5oKfXn8o2v2TOJGu4RHMyZ5zZ82E2r2yGsc3RVJrzgJAYW1Qf8lCL8we3\n",
       "sLSTAM5mQBggTAGJ6fbw6l4QJmpSbzOKtLWSEnt3hiKHOb0mUJo7wpDs3ULXedjOcLg7zCERwycz\n",
       "IAwQ5nmhEa9Dv+4FYeLaPKn1ur/ZGUoQt3dbs2/slY+CPEyYPQ9h65J0sJe0GONkBoQBwjwvOKLb\n",
       "w6/rJkzk4urEej2FMP6doQ5rq412Q8DUtYY/S5g9D4FrqxWB0gaTTmZAGCDM8yIj5of6dd0rHyOn\n",
       "6KbVa6Z6YQ47Q1lPUDi9WwZM0e3Es4TZ81Cj84crQWnrBk5mQBggzPPCIwY+/brO3RtY5Pz2yHpN\n",
       "62PS/DLIQnP7QB4JFDRVB2VeHn6Zh4GeP1zGVWknHJ/MgDBAmOcFRdRVv66TMLJ+kjCE6+YE2+aT\n",
       "XG8/ydJPSGCFDlcI3Kd3Zn1Snk5mQBggzPPSj00mXelqoMS+amPrdavC/madCdt7ui9wencK5iWe\n",
       "ROBZAwsqkiYNncyAMECY56WNIEyMbqLE1mu1Ud0awhx2hnKECJnOS3pK9i1n7ofHZdqUu5MZEAYI\n",
       "87wMEX2Gw/j4yzy6Xg98DWGOO0P93VKnTbk7mQFhgDDPi4ighnghYbBYV1YKz6IlIAwQBgjzU4SR\n",
       "j+iWIkw1iL/8xF9343DMYAaEAcKUIEz9iG4xwmBUfZ+UIcxesrjO40D5rnifWJG0vjnPoS5tUIOi\n",
       "YRwRQv3FXpHjGwnzlUICCXMavidxhNn3Dvt0s+WVMPmueJ9YkbS+Oc/BhMGHG9UUpaK91wXC/GSF\n",
       "DFiPaRwr6Ta7I8y2d9jHB0b88+8/cwayXfE+sSJpfXOeA+U/f/5rfKPLnDr3mQJHXSDMD1bIP3+C\n",
       "9OSRMCez//17861dV6R/+mbZuhmyXTEgsRJpfXOek2KYlTCdc0YXxDC/KoaxCRMZw2zberW5HCjf\n",
       "FQMSK5HWN+f5I8IQ56x0IMyXEaaa91sWPBthsl0xJLECaX1znj8iDJ9+Ja2QmJs9TkCYbyPMPJmx\n",
       "Z/kIk+uKIYkVSOub8/wBYZgUOlgTDabm8BEQ5q2EmY94WATlIwxF6x/Bwv2Eib8ivhxVkTfempB7\n",
       "owAaXNcNwbwrShh/npvbkmlc3+RNwRIs3WcOdW1IPrypWIQZOOdy+WkYJtpAK+mLYxj9MuX+VVl0\n",
       "aJSGPtPbqnwWYYwrds2o9imm/XCgEuNi4Ewd7qC3UtZrwi52SG1uAiYj902A4cHdsOz1/oanZa/N\n",
       "8bOkl9de/zUyyPOW+GGESZWMVYan0yTw9f0ai+2E2vQspv6Fp2ITxrRtEfTDfDlh1G6FV72OnUS9\n",
       "Opobo0oTgQURxrgintMg5Hi9qjdYxdD6Ue2QegosyE3AZKTl9olDWfUNklRu7tZ3et+OBl/61vSZ\n",
       "08trr/96EFa3VXCe/Z49l8ypDM874i9fHQXFDOemxj5rpBXTf8tT3AbN2XRTeDubOTyVO8I0QJgv\n",
       "J8xU2a92q2nWTTPwpNFszaM7whhXnE+sWqPr7XorYYxjxdcdUs+BRcv8ie1p9ReuumKN9YgqJ+Kb\n",
       "uw3zth1DVccRZv3qIkwn5XBDGE+JH1OaS+ZYhlZeGnpVUKdmkUa7UiZTufOVO5ow6tepDLq6ojg2\n",
       "lTvCcCDMd/fDqIkZS7Wpm3ryD1TJej4NYt9bDHeYTO/+qbLwpmmG6X/iI8x2xWqJ7Oc/jb3KTMLM\n",
       "DrntkHoKLJzTRozE9rQufGLDGmfaSWu+upt6x8vpb3Rs6gQQZrm2M4ap8C1h9jzXuidE1O7UB7sM\n",
       "Fw0iVQHOc2ebq4Ia5kBGtLoAdDHQ+Tc+J6O+KcLoX+UMGRKbChAGYpibb3TpXmE1UVVdfdM1i+0V\n",
       "BXeTf2ISGsOsV9wO59aubVzPJAzdGwx6h9RTYOHcZ95IbEvrwic2rLF68R5a7Tua3UURJmHsa6cS\n",
       "ZsszUUEEomZvq5H6XDKHMlw0JlZOj3lp9iwWqqCafpV6NZ88nAyar/sVONnPXN9aSbxjddXxgFRu\n",
       "CNMd5sEM0Er65YThxyW7CYSplpPrKJOqaqg4Qh++YGz2jtVvlewDCbNecetC0F/NU2QMwpC9OaOq\n",
       "/TmwIP1NYqjz+cSONUz3kRXT3UIJ4/C35V8Pfh1CmC3PcikD7kx9vvVDGS4alKlEluexrKC0Ckr/\n",
       "QMScXGuetKp6XCzCVHIYejlHOBGpnKlB0ZQUWm+IoFEcN8EGwvwuwhjHSqYTZr+aXDsoVC2o29lt\n",
       "8EyYqeK1oYTZWhNmF4JxvfUgX1UR8b5Qx9nl0ocm5vSJHWs1q9frt96DjS8I4/C31BhmD0CrueND\n",
       "OlOfS+bcDTNrqEeF5t+WuMMqKG0uR9WqDtvAcXkQnaARqcRSAwjz22IYv1kcYdQ538qF6Fh1lREx\n",
       "a8KoMd7q2CNwTxhdadmhji7vy+1KnX+H1LtWUuX3vB1rXUfC5r1c9sNY/vYxYdBMDoydqc8lcyjD\n",
       "TUMdIii6zugUslpJ2hxHLE4YrFJwp+KgBokgDAHCfCth6Li4Ud3rOGWPKeaJFRJ5E3Y4ve4BYCtZ\n",
       "zBhFR0nzzvLDEsG4d0iVMoowZ58wsLb09FYslTCWvyW3krZyRR2qusOBgFZP77EMt7xQdRiyNNqB\n",
       "dkFp80H6ZjTelEJIKhDDAGFCCUMUQVrd+SjZ7PRrB0l72j0p0OmnSJ3vI0jUOLCc8Unmr/OJflc7\n",
       "pDrP+/MQ5uwTO9Yo11zgMpkw1rU/jWGmEGMUPblMnVpluGrgRmKk+qt0p5W7oPQvDAmBWCJhQlIB\n",
       "wvxewmQw+2wXTcbVi5kEJnz/onRfj/jWALK+iiKM5RMG1hifmkxNV6USxrq2izCUtyMPjrvsiTH9\n",
       "bcm45+Y4Cop8srgyOJXqL9hF8yuFpBGG/MJ9ehsa+2/XhLG/xmDSTxhLxR3DRBVQj3134bz7Y16I\n",
       "vFZtaC7C+FIBwgBhXk4YvSLBLRfHWAUQhsgcvuUmDJHZCGMdYdrflsxRY2kBuQuKs0yE8aZSDRHU\n",
       "GIAwQJjihLnufGVVKmEQe44wiGUjjCX0tgCoS4FFFmxkPvyptBEnlLRvPM3kKwWnnfmIv/fMR/qA\n",
       "b9HlQu5r05hk/upzq/kjukCYJ6VOO7e6hnOrXyp/MWFQxFnU6Ilzq0evAEycIsc2gxkQBgjzvDQj\n",
       "ekQ3T9QChHELH/sMZkAYIMy76mpivQbCPPBeaDKYAWGAMCVa9G02XauQQpZ6vJwwSff0uPRpfe4n\n",
       "MyAMEOZ5IRGjEne61vaifYA7vpwwSff0uLRps6tPZkAYIEyBd3REb+qdruWNOCCW/22Ewc0LnpoY\n",
       "uwxmQBggTAEZI+7tRtfeIj1gTPW3EaYaXvHQWAYzIAwQpoAMEVsy3Oja3hhw/O66WyMaxkFveKW2\n",
       "TZIvJswLjhSmaRPuzmZAGCBMAUERSwFudG1vpPeDT1tN5iu+JH91DEP7H88USZsOczYDwgBhCoiM\n",
       "GPi80XUcJNXeFtxWk9v1k7HT0BsJE3BPzz8znsMMCAOEedn78EZXeyOTjQ505gVg+NYVtpq8TbZB\n",
       "1dsIE3tPz8edOIcZEAYIU0BYxGDSja72Rl5hYdTQ237RcaPX0vli7gn4EsLE3tPTMqR19J7NgDBA\n",
       "mDLVlWbSVd7YYX38Z4XWredJIGH4OpJqbjPxDsJE39PjLwWRxQwIA4Qp4kMRXb1+XeWN01tSqGBE\n",
       "LBFJhwIJM6zVv6neRpjoe3pYcNr6MMsMCAOEKSEkor76dedeUTKuR4AeOy38y6fZdmUzhfHHJOye\n",
       "fnU3DBAGCFNGxJhJd/ZG3aCQq97twMu4vmCX6IjK18Uw0ff0ogfmMwPCAGGKSBMxBd2rO3ujPhO0\n",
       "7/Vp5gGTR8ZTN8xh58G3ECbynp6ujSiPGRAGCFOomcTz6C7ve6TOnuTz4X/3E2A3wjgaSe+JYeLu\n",
       "6VmRaY0k2wwIA4QpFHWLPLqzNzLEJabIPLIvqJU0j6Qi+kbCRN7Ts9KKTGZAGCBMqZciyaJrz38N\n",
       "WIi8dW4oVYq66o2Eibynhysjz2QGhAHCFJKYhr1H1/bG/r7c9lGbHjXy6h9fRJj+h+sCSptu5zAD\n",
       "wgBhSrlRRKX16FreyAIWJPy23RtY+7MZYmn9vC4zIAwQplit5Tl0LW+UAXP5fhthZP2zGZJpddFl\n",
       "BoQBwpSrtiyDrjyPZIe8bV9OmKR7elJEk80MCAOEKSYDf0b31xPmN78L7syAMECYYoIj7hBnLQ0g\n",
       "TFx7ts5nBoQBwpSTpn9GFwiTVVCf0QwIA4Qp2U6qn9G9JQwcKhsuRLCMZiUJowUV8taCiX1xnqPv\n",
       "MaLydmkVHeTj1wDJZDYcCO77lqdxV2sps69O0cS+OM/xLzr6jC5IvnpIcpnNFbr2fvs/dQABp4ZO\n",
       "LikAAAAASUVORK5CYII=\n",
       "\" style=\"display:inline;vertical-align:middle;\" /></a><br>(see <a class=\"ProveItLink\" href=\"../../../__pv_it/theorems/15aff9934a18a6467cdd09acb1bf274711f3728f0/dependencies.ipynb\">dependencies</a>)<br>"
      ],
      "text/plain": [
       "<IPython.core.display.HTML object>"
      ]
     },
     "metadata": {},
     "output_type": "display_data"
    }
   ],
   "source": [
    "%proving phase_kickback"
   ]
  },
  {
   "cell_type": "code",
   "execution_count": null,
   "metadata": {},
   "outputs": [],
   "source": []
  }
 ],
 "metadata": {
  "kernelspec": {
   "display_name": "Python 3",
   "language": "python",
   "name": "python3"
  }
 },
 "nbformat": 4,
 "nbformat_minor": 0
}