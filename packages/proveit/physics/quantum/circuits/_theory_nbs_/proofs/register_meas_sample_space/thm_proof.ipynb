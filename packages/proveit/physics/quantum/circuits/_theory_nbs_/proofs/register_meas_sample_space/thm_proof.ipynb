{
 "cells": [
  {
   "cell_type": "markdown",
   "metadata": {},
   "source": [
    "Proof of <a class=\"ProveItLink\" href=\"../../../../../../_theory_nbs_/theory.ipynb\">proveit</a>.<a class=\"ProveItLink\" href=\"../../../../../_theory_nbs_/theory.ipynb\">physics</a>.<a class=\"ProveItLink\" href=\"../../../../_theory_nbs_/theory.ipynb\">quantum</a>.<a class=\"ProveItLink\" href=\"../../theory.ipynb\">circuits</a>.<a class=\"ProveItLink\" href=\"../../theorems.ipynb#register_meas_sample_space\">register_meas_sample_space</a> theorem\n",
    "========"
   ]
  },
  {
   "cell_type": "code",
   "execution_count": 1,
   "metadata": {},
   "outputs": [],
   "source": [
    "import proveit\n",
    "theory = proveit.Theory() # the theorem's theory"
   ]
  },
  {
   "cell_type": "code",
   "execution_count": 2,
   "metadata": {},
   "outputs": [
    {
     "data": {
      "text/html": [
       "With these <a href=\"allowed_presumptions.txt\">allowed</a>/<a href=\"disallowed_presumptions.txt\">disallowed</a> theorem/theory presumptions (e.g., to avoid circular dependencies), we begin our proof of<br><strong id=\"register_meas_sample_space\">register_meas_sample_space:</strong> <a class=\"ProveItLink\" href=\"../../../__pv_it/theorems/f227c456a9c4f1d62f600dea086e01acc408b4540/expr.ipynb\"><img src=\"data:image/png;base64,iVBORw0KGgoAAAANSUhEUgAAA1MAAADjCAMAAABXRL5GAAAAflBMVEX///8AAAAAAAAAAAAAAAAA\n",
       "AAAAAAAAAAAAAAAAAAAAAAAAAAAAAAAAAAAAAAAAAAAAAAAAAAAAAAAAAAAAAAAAAAAAAAAAAAAA\n",
       "AAAAAAAAAAAAAAAAAAAAAAAAAAAAAAAAAAAAAAAAAAAAAAAAAAAAAAAAAAAAAAAAAAAAAADfZImk\n",
       "AAAAKXRSTlMAq1RmmUTNIjK7EInv3Xa5wzBsr4Wl4dfb4yDnUF5godWTQMHp0dnlcCoevRwAAAAJ\n",
       "cEhZcwAADsQAAA7EAZUrDhsAABTOSURBVHja7Z2JFpu2EobRhoQEum2TJjntXXtX3v8FL6vNIgwY\n",
       "sVn/nNM0sUFmxHyaRUJEUUASiwgC2UFkpsNUnBPcfMg+YsK0LZpq3HvITpKyAJXWl9M6XyQw11uI\n",
       "yGV4SpP4aleUezsIcgH7SoJTWeUCTEH2E5nT0FSOx25KUzC1zmxQN30hSRaYwnTsplienGtdr3DR\n",
       "0iNTvgYPkSco87yIhGxgbmo0iPCcnGxdr3BJlD+mtgweQ7UzCXgm71ka+BhitxmaD+t6gYsg/mK/\n",
       "TYPHWG2wMx0LBZVRkVwPjSPXZ1vXC1xi6Y0pm/ssSPkE9OMkjwNSVo/sKsvN6dY1jQsz3moUmweP\n",
       "YU/mCvBMjtwB9Q0bemUPlrbduqZx+fazN6a2Dx6DpAGO6sX4ZcJRNhkSRDy46c3WNYmL+a58MeXZ\n",
       "TZXDU47a3+QdDadKoUe5T5bz861rChf9g0S+mCK+Y3yB4O/VMBtM37CRT849zCVstq4pXMgP6Y0p\n",
       "H4PHMOSlgGdCbDjBHxlN+PpgarN1TeCivpvIG1O594nIPGeAZ0JUOJW/NN/FMLY2MoHLb79rMHXX\n",
       "hCqUZHOcTvliaqNMNubzRxiYOk7iPJAlkXQ863kxP9XF6M9p75/51QgAUy+Eh7Lmj48zx0sx1XdM\n",
       "6V/qz8DUDYXlgTxFFY9rCRdiahADfv32aB1M3bBIEcgMVTqueV+HqeHD8d0lFDmYul3qHsgzpI5i\n",
       "zGWYGt4Cw3o/AKZuZ2tBzPpKx9iR51999N/XrUwNr0zHc0ccfI1HtPhJkoUxI04dT2V4YupXLzWK\n",
       "jhCx4KAjrxFMrc3dgyj8WcfktqfY76tnplQSeWfKv59C7DctJIzVScZR37zoOgot/TOFfOpICeSZ\n",
       "TeJQ88prk8DUrQfwIFb8JY6l2WAKTO3EVBAbdsRgCkwdl7wHMenrenr8yxcP0whbGzmCKS+K7tzi\n",
       "JwkLY9I3dTB1DT91wDsI4KfA1C5M2WsydYSAqWOFhsIUA1NgCkztbARgCkztIiIUpiiYAlPHiArj\n",
       "6fk//fSzwzAusIb2GKawhvZI+e2nn+Cn4Kfgp+CnwBSYAlNgCkyBKTAFpsAUmAJTYApMnckU6n4f\n",
       "rDWYgp+CnwJTYApMQcDU9ZjC81NgCkx5ZgrPeoApMAU/BabAVGkEvzg+u8aemQcwhbrfkfIH/NRl\n",
       "/dRjVzL4KfgpMOWFqUSBKTAFpjwyJQjyKTAFpnwyFUswBabAlEemmInAFJgCUx6Z6r7YDUyBqVsw\n",
       "de09M8135Ysp7JkJpuCnokj/IJEvpuCnwBSYiiLyQ4IpMAWm/DGlvpsITIEpMOWPqd9+12AKTIXK\n",
       "1EZxN/ftq9cfAVNgyrvwL443el5tDe0TsQFtWEN7K9FfvoSg5vVjvx5E6V96HyD2g58CU2uZ6geB\n",
       "X7+1n4IpMAWm3mJqkFY9l1DUX4ApMAWmVjE1LFQY1m0fTIEpMLWSqSFSOh4dAabA1E2Yukbdb0gM\n",
       "Ed6ZQt0PTAVXo+jekWTBQfBTYApMLWZKSzAFpsCUT6bePQhMgSkwBabAFJgCU2AKTD2MAHtmeu1O\n",
       "1P2mBXtmwk/BT8FPfRRTeAcBmAJTt7MuMAWmwBSYAlNgCkxBwBSYAlNgyjNTl9gz8wjBnplgCn4K\n",
       "fgpMgSkwBQFTYApMgSkwBabAFJgCU2DqQ+Wye2YewxTW0B4p2DMTfgp+Cn4KTIEpMBUwU5qROMt3\n",
       "kyzhAkyBqYCYonFs1a4drIXJiARTYCoMplTMD+lcFRMNpsDUFZjaue5nE3mUfiIT712jf60h8FO7\n",
       "jdiEH6igjhn8FJj6cKa+//VYFf+WgCkw9dFMEXq0jsaAKTD1wUxZc7ySCQVTYOpjmdLZCUpO/SiY\n",
       "AlO7MPXLXkw5K2CcnqGlZWuuEUztJNgzcw/rGryW7TDJ4Kfgpz6UKXaSybnXKYEpMHUVphwztmpZ\n",
       "I8lJfSr4PAFyVqcl3WmBDpgaMaVdnPXEjEf9RC1iKj5Lz2yeqZFWiXqjOw3Qec0UefyTsmCYKjRX\n",
       "K5iqB2bKlzAlyVl6xm8wRdev98hycs37rHkhNFqukYpTsq2FCaaeYXgsg2GKzW7t37M+43YEzpqa\n",
       "OG0Udwad/Wsce9/1dX+ex9dEKiuHSZqtubqYbG3ByZRqm5VJOLEfmR1ru9anmwTC0AV+im7JNrIt\n",
       "QyRX6/3USKf7Zgym7ju2hoiEbG3B3Tuxfrd3b8tUkU6JFUxR5R51nExtMTi9yQVI17uq5ph6YyTN\n",
       "rlGksElWyLPD4iZASN5m6p0W3Ey1td84CoYpM58SdK3PTETHbqY2xS8bNV3P1BsRv8iz82+qiO2g\n",
       "s5K01oS9zdQ7LUx48bTkPUtNMEzJPNWLmNKWs5opW5kRNTszFR3BlLBES2OTpvKy/r6b8yt/Mh7d\n",
       "QZrnzyGDWWuMrsoQXNpSV1H8KUoWU8M4J6zDlOS2Cvs6LfQPa1srqxjGVAFde46yxZfxiKk6Dj90\n",
       "WoVxyhgX1KgTmNJZOj82V51rIpqWu0oUTNUhXfYJTJnClGwZaMo3qxRFOipOZsrlXW25R0dcXRkt\n",
       "7zCvTD0rHxJQOSs+Z2n5QZqK0gb4gylVHlxx0Wmhe9izNZkWjYlUPc7RyaALG6aq6u+6EnBvnBrm\n",
       "1a/ybEFtWWiktriW4qIHgyTv/93KF623369mSmdLho/S+hSNeNFdrPyZtP5RcX+mhIiypPLWyqHT\n",
       "wlwmPzn5diYqmpG01reiQFSDRlLduTyp7L3UuK710WpYqJiq8ao0erbQPezZWhw3jbfniCriseMK\n",
       "Tmlj5nXPyoybinQyxuaZ0jWekroSSk6stKVp6vLOJ6paFzdYbpr0/27ki9bb7we96ujswZ6ZLF/i\n",
       "HEtti25JbTOA1Bqr3sjjfGvMxZjqX2Otla7siTbVFPXOdFNybvat6nylkGT0TdMJWpiaqeqIKlpt\n",
       "mOJ1OYg3TKmGIdNvoXtY25pug97nOVme9Ib2ds/Msvw71UfKkqSMQymJyoiy2bdkgik7+KA9WSfl\n",
       "7j40MeXiGJXW3rL0UVk/H3zNVL91F1PK2mw+9jNLFqzVY0xldyZ6lNP7ftW7n9Ibp34W1ihodRxp\n",
       "fuuNhEpm2bnldO0ozbG2glJlwpxQ2mXKDpiqPVfJFM05K0X1W+ge1ram2orn8xxtsjznYz9VAMUm\n",
       "yqO8nfSgxRH8EfS5mZKN7XI5ONnUJsmqsyvICl1s8X/SD99eMjVo3emnIrqAqYgvgKq2vjKIrn63\n",
       "KTL1w3j/sV/Gj2Cqpqn4Qj90YpwVAxKJLFuwWkmm6dkzVI7b3BpKCQ4tkyH1iqmun6KOFrqHPVpr\n",
       "vdbzHKkHkc+DKUObMsqwa58P5VBFRRG7mXJmjPOs+E90lRHFSRHTUTUTLetffpysmaoPltHEzOQM\n",
       "U67WNzBVOGyxkKmk+t0yB6muP/mEGkVUlXhLF2xanTQTaXFcGdnb+VAwO71EEdmxD2h2j5JlJ1S2\n",
       "X2RASjqYahIl1eZTTT4jei10D3u2Fte+nT7OqWf4CRszJZtDhl3bcbFUFd6Gigk/VfihoinbPsKd\n",
       "9P0zlfRh/UZHdi1Trtbb73nSClvOlMjTZUyJIh0tVGaNDQ2mxW/KVF2csEVwolqdpK7qXuUXfDYU\n",
       "NFdYnBSPkvas+qjeQ6qiwOaqsLu4y1QV1JUVB52ZTt2vqobKXgvdw56tyZTVh7bn0Mpjd/ade64y\n",
       "IarxZP2uFazLVEGSTdxMSV0ac3Hd1W2qV+M+T2aatbFCXG5JvJYpV+ub/FSUzkZ/Tc1GEZPYR4Ca\n",
       "RZ/AlKjU0KSu9jQ6ldX1OtOdq+gtWIRyREZFEtEPQEkkuCFE1LfNUlukOlaRPCWKJsWfkYnzEpGY\n",
       "sCIUE9VRaVom+pJzW9pSt4XOYc/WqlW2tTk05whjre3W9xwrt/pdy+LaBdCaKW3aUsY4nypOLBOP\n",
       "epBTpneyUmLZPNRkPjVufRtT8+tAH/2knicPF3E719BejqnXa2hbnVIVVSNmEfjM3Cs27+QPEWGS\n",
       "3tqkxR6O+zxsVNMbM9XvWmV6fqoNHwfzU0kTzRbOSLJnGaFzclOjmF16M8nUuPVNsV8R/M0ty3tY\n",
       "X2cJzHBr2bvmU70ul88cohxQWTL3qEOS33ux9dFMDbv2OTtapxSDBFabrp8qfInpVjqfJ0tTcWDs\n",
       "u0y5Wt/ip9Rs/PKwvufIMNpo4gOYanUSpKkASmJnRpv05s8kZsTnYfNMDbtWtpVVldVl5P4PqXKp\n",
       "RlOR4Dwxze2zbZVMPeErAkE+GwBOMuVo3cWULELmMbju53zZUj/1rDWxz2PKrl8veu9n50WZYElf\n",
       "hy2K/UbGZ8qwanpMp08SJB2iMXfycqYcrbv9lNsI3tiPwo4HABLdnqmRVm8MxtjjZSNTczjrp5E/\n",
       "anvi7XHsBVOj1ndm6m3rmmDq7WeopU+mvIALpnZlinVIeJBE9A5MjVpfw9SRe2a6mbJvrzldM0Ll\n",
       "C68RTO0mnvbMHFq29tKSbBqaal0u/qEL+Kn1a+qkMbwOm1ekPPBTH+CnbiHnM7V+a1pdPyNXXXis\n",
       "wZTTfC0zYCpUpvjqH6seUGqWqTMOplzWS7btHAGmbs3U+oUHolpP1qz2WLwKPCimEnVFYwNTxzBF\n",
       "31xzSpv2O68WbedM3NsdBcVU+QiXBlNXYmqvd2Q77LpZ6v3cW0UZs2DaTmSN8ZrnLJKsHndp/7eI\n",
       "qU99R7YwjDEwFaifavzMY28VVu1xMJuBk+Zpgd4mjhVNE0ih7gemQmGqfnziubdKOePEFqy3aOp+\n",
       "ff4KnqaQAlNgKhSmqnrDYG8V/vA9Os6e0oclre+P6rUpsymkwBSYuj9TLpliqt1bpaZpZotSVe+5\n",
       "WF+5SJcy5RIwBaY+NfZr91apHscud4vTL5vWT6Z6D7Ag9gNTYCpqdlGufVMdABZ4yVdXUG8Q0sR+\n",
       "LEGNAkxdSgZ7Zlbi3O5yrSzdM7Ophdd7q9TFicREL4O/qkrczk91tl1ZXUv3oujOLX6StHtmwk/t\n",
       "66dUHbvVe6vYaqWR4DMbUwvOeTuHlT3nstryuozhp+CnAmYqyjaN7HLxWwLAFJgKhSm2aXvZ5Stw\n",
       "wRSYCoWp0Y5Lq9zU8sXXYApMBcOU3vBQwgoewRSYOpOpA9fQls7m7T067AoXF9QaWjAVtp86SlP4\n",
       "KTAFpsAUmAJTYApMgSkwBabAFJgCU2Dq0ky59sw8tu53IlOo+x0pf8BPwU/BT8FPgSkwBabAFJgC\n",
       "U2AKTIEpMAWmwBSYOpepS9b9Mu6fKdT9wFTAfqp56QD8FJgCU7781MbbAabAFJhCPgWmwBSYAlNg\n",
       "CkyBKTDl2wgOXe93WpdK1P3OF6z322HEpvb9BrfV/bg6xKvAT8FPHcyU2PLe5k3zU4kGU2DqE5mS\n",
       "5Cw94whMgalPZCqKz9IzA1Ng6jOZSk7qU8HBFJj6TKbsSSbHBZgCUycytd+7ciJ9UvCXrbhG/1pD\n",
       "4Kf281MRp2doOeEe4afA1AcwdYqj0lkEpsDUpzIVWXO8kgkFU2Dqc5maNPD9xJgITIGpD2Yq+vtf\n",
       "j1XxH0kEpsDUceJ6R/Z+a2hrIUeGfzqx71yjf60heEf2jiO22fJqxHUiMnGkV4Gfgp86h6lIxPyQ\n",
       "zlUJkRGYAlMBMBVFNI7tvs5KKxMTeTABYApMncZUYfOMxFm+m2Tx/PQymAJTH8XUJZQHU2DqIKb2\n",
       "rftdSHnU/cAU/BT8FJgCU2AKAqbAFJgCU2AKTIEpMAWmwFRATKHu98Fag6ndzUrAT8FPgSnEfmAK\n",
       "TIEpMAUpmApBzdRhBGAKTO0iAkyBKTAFptZLdlWmlq0+B1Ng6nIS5+NHy3fcM3OFdXo7aL9rPKLF\n",
       "TxKapyGomeTmon7qAKbgp44VlmchqElyDqbA1DFi8zgENXlO7seUlmDqjmLyJFQ1L89UosDUPQdw\n",
       "HoKazOGOPTH1dS+mBPEW+30FU4cm7zYENYWjFONpDe2vezEVS29M/eqdKayhfXHjchqCmtIxZXDx\n",
       "2I8Z1CjuKWkexkxDnsubMfXtZzB1V1vTQeiZjR/2uDZT5rsCUzeNidIwFCVjK7g0U/oHicDUTXP3\n",
       "OAxF7bi+eWmmyA8Jpu5qaiYMRR2Dx5WZ+iMzEZi6a0hEw1BUjwt/V2bqn//SYOq2qbsORlO5D1Mb\n",
       "ZbItnz8Cpo4cvdNQVDUjM/BhGDrf6OjzLjiPv//7771/b/ZTFkwdJtSxtPRjEyqyg6nJPPfz/FTP\n",
       "L7H/iB5lG5nKfK8/2zySIJ36DEnzHUyNbZ3fy8dERdF//9knLd96lz0XdzePJEHZ2QcLH9qBD1Mj\n",
       "Wx197kDK/E92nOl2poTviX2WB5OGrxYVTuhXWpbxbmratRfnWqaGFUkd9yPUzUwVHtlvQrVoJGHG\n",
       "c86lDL8ByTaosDhNvZvaZjcVOYghYu6I9cNJ6tMaF40kqultY+yrKVBtDCEzF6dZM8qYG7iAOA0I\n",
       "qWIEEZ5NTWzfeGCMi0oWHLRSjNeA5MVIoixJkqqbac0BK4Yt8eKx1zKl5UUvMk4Z44Ia5WjTNt1M\n",
       "r7/oR4WyiKI1TeLX1AompX+mtPTPlHM/jh1GEs4fSDT2n5Yf5NPdVI5zssh0qS3AS0VEXSZJ78MU\n",
       "CSzTNCN9N5mayJPt/XfEHi+1kybekOqPJIyzwpNU/Wg7GVRt/7Lq8nQ6xWC6ZqrcKKBMJDm9NVM6\n",
       "pApFrbDxaWrSRzJ6FFN+rtYxkmgm0gKlkjPdjfHqHEhVTGWvqxWmRKb4r/RRWcSmmRKX3+PL5jIs\n",
       "pgqN9V6mdnmmfMmww6S2JT1lz4oODipWT6bSl7UglRXH6GJss0UcSKycZiqK7cUjq5RHoUl2uQTy\n",
       "dkw5UoiyDJFWrimppKBONcW8OvZ7WV6WjghaJa3IHlM0vvbuKTbAeTt6Odf8AUyVZQjOIxWp7ohl\n",
       "yaIaRSSLkV3O3JWWKXnxOrUOchkkv9puhke8g2DnYLC8ukzRss6ghzWKyNrupmqRNu0fDy+llJqb\n",
       "y71LjYIkUYiSYUG1Z6mIsdWiCZmoIVPlnG8HGVXWMlSncJjOjxnSxLmxN2BKpGGu2FIpVqrtGPyY\n",
       "MgcSe9n/xZnKRKC3XUiY/iH9nIXGlBa465BdxX+JTsV4agsStCjPBMg7PbP1f++0yB0vjQwZAAAA\n",
       "AElFTkSuQmCC\n",
       "\" style=\"display:inline;vertical-align:middle;\" /></a><br>(see <a class=\"ProveItLink\" href=\"../../../__pv_it/theorems/1854a0f6c51e19046510f169d97a9c04c4aad4dc0/dependencies.ipynb\">dependencies</a>)<br>"
      ],
      "text/plain": [
       "<IPython.core.display.HTML object>"
      ]
     },
     "metadata": {},
     "output_type": "display_data"
    }
   ],
   "source": [
    "%proving register_meas_sample_space"
   ]
  },
  {
   "cell_type": "code",
   "execution_count": null,
   "metadata": {},
   "outputs": [],
   "source": []
  }
 ],
 "metadata": {
  "kernelspec": {
   "display_name": "Python 3",
   "language": "python",
   "name": "python3"
  }
 },
 "nbformat": 4,
 "nbformat_minor": 0
}