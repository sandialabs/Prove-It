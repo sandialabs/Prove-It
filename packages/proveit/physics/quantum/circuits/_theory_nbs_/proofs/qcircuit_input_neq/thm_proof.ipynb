{
 "cells": [
  {
   "cell_type": "markdown",
   "metadata": {},
   "source": [
    "Proof of <a class=\"ProveItLink\" href=\"../../../../../../_theory_nbs_/theory.ipynb\">proveit</a>.<a class=\"ProveItLink\" href=\"../../../../../_theory_nbs_/theory.ipynb\">physics</a>.<a class=\"ProveItLink\" href=\"../../../../_theory_nbs_/theory.ipynb\">quantum</a>.<a class=\"ProveItLink\" href=\"../../theory.ipynb\">circuits</a>.<a class=\"ProveItLink\" href=\"../../theorems.ipynb#qcircuit_input_neq\">qcircuit_input_neq</a> theorem\n",
    "========"
   ]
  },
  {
   "cell_type": "code",
   "execution_count": 1,
   "metadata": {},
   "outputs": [],
   "source": [
    "import proveit\n",
    "theory = proveit.Theory() # the theorem's theory"
   ]
  },
  {
   "cell_type": "code",
   "execution_count": 2,
   "metadata": {},
   "outputs": [
    {
     "data": {
      "text/html": [
       "With these <a href=\"allowed_presumptions.txt\">allowed</a>/<a href=\"disallowed_presumptions.txt\">disallowed</a> theorem/theory presumptions (e.g., to avoid circular dependencies), we begin our proof of<br><strong id=\"qcircuit_input_neq\">qcircuit_input_neq:</strong> <a class=\"ProveItLink\" href=\"../../../__pv_it/theorems/c95b05b88c73cc8a7fc75cef0cf7458b7b52711f0/expr.ipynb\"><img src=\"data:image/png;base64,iVBORw0KGgoAAAANSUhEUgAAAVEAAAAZCAMAAAC/1O3FAAAARVBMVEX///8AAAAAAAAAAAAAAAAA\n",
       "AAAAAAAAAAAAAAAAAAAAAAAAAAAAAAAAAAAAAAAAAAAAAAAAAAAAAAAAAAAAAAAAAAAAAAAeYafp\n",
       "AAAAFnRSTlMAq1RmmUTNIjK7EInv3Xbt5cnn9enzas/lfgAAAAlwSFlzAAAOxAAADsQBlSsOGwAA\n",
       "AtNJREFUaN7dWenO4jAMbO6z2dvv/6jbHC3JB2GxtQoSkUDwY5p2PB7b6ba9ZQm1fd6Sb9ybyw8k\n",
       "dDPubVt7vX3kEuldOzuxOB39oo32vBG7peKq5zRxLaF2WTamzKa8aoQ2qyQTKGGgO4Wzy+wMDpFa\n",
       "ttxXgVLoNZAlykie6ADYsTQqHjrnuW4mE/iqJASCrXEgM+qIuRerxBggKJUZI5p9Lqu/aac4BQMi\n",
       "MYrRcAZq5VaAaPVSKRFxzyuGVYwyQuyCCUB0Q2p5EG1DAYieSJX8kwXpulT02NnAP/l3n4V4wzZp\n",
       "S4B0JVmEsv/8lb8JOmXNZnREhMSWMBh2fp2MRNu3HiBDkL0/3zEyALagZsB2i/jHk9lIxVKJNhv1\n",
       "bLcoq1CnPENXf8MgB7HfDGLC6AC4YnMPbG0wegRVPEf/ZkvwaE2g1HnXgkspMd3F8YVtfWWUp6Eu\n",
       "KRt752Cyusmc0RHAzBRI1ags0WdLJZpqJeQRlRqmma8eJtI0PnPM+vO7mDM6AFSYA4mMJiflUesd\n",
       "wUd//6luio+Gi2f+WZSyTWtFte/42aQemgghJOsv674SWgHS5fXt+IgJsGkXSY2v0QZK06XJE/2Z\n",
       "EqhS32p9HrQ7jdnR+4obeianjI6AJJ4A+54Nl/PZfgmnAfRTQ3sWQoaa8MR5k52SjvocWDfVVEpM\n",
       "f133ZUrvAN49A45xfDXsgj6G0iXabPRgFtU9y3t7Sb2/Xm54sDDrnm6AnPXff7gz6x8Az0tion4d\n",
       "VDn80MTpU4uu26qIC4oWE0HkbsiHypUv9WWW9R1gPJR4BMSfPXkHUJ6J5x9hlUTZdUyCGyv8XfrJ\n",
       "YqheglabzSITGkJu04cLu8eAYfB6CDw9atH5qFg2WF87/qOnmMVnWqv5i2WRrTnm2v1qRvfnxqQ8\n",
       "ltFXTXzReya7XKL/UNR0WJgxyl+uOHx5Pq5Y9DP7//D25DPf15ek/gv3wRsg1Y2e8wAAAABJRU5E\n",
       "rkJggg==\n",
       "\" style=\"display:inline;vertical-align:middle;\" /></a><br>(see <a class=\"ProveItLink\" href=\"../../../__pv_it/theorems/e18ee79f07334f9a2fd213931e76d19e3796d6050/dependencies.ipynb\">dependencies</a>)<br>"
      ],
      "text/plain": [
       "<IPython.core.display.HTML object>"
      ]
     },
     "metadata": {},
     "output_type": "display_data"
    },
    {
     "name": "stdout",
     "output_type": "stream",
     "text": [
      "qcircuit_input_neq may now be readily provable (assuming required theorems are usable).  Simply execute \"%qed\".\n"
     ]
    }
   ],
   "source": [
    "%proving qcircuit_input_neq"
   ]
  },
  {
   "cell_type": "code",
   "execution_count": null,
   "metadata": {},
   "outputs": [],
   "source": []
  }
 ],
 "metadata": {
  "kernelspec": {
   "display_name": "Python 3",
   "language": "python",
   "name": "python3"
  }
 },
 "nbformat": 4,
 "nbformat_minor": 0
}