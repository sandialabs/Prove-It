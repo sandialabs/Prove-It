{
 "cells": [
  {
   "cell_type": "markdown",
   "metadata": {},
   "source": [
    "Proof of <a class=\"ProveItLink\" href=\"../../../../../../_theory_nbs_/theory.ipynb\">proveit</a>.<a class=\"ProveItLink\" href=\"../../../../../_theory_nbs_/theory.ipynb\">physics</a>.<a class=\"ProveItLink\" href=\"../../../../_theory_nbs_/theory.ipynb\">quantum</a>.<a class=\"ProveItLink\" href=\"../../theory.ipynb\">circuits</a>.<a class=\"ProveItLink\" href=\"../../theorems.ipynb#unary_multi_gate_reduction\">unary_multi_gate_reduction</a> theorem\n",
    "========"
   ]
  },
  {
   "cell_type": "code",
   "execution_count": 1,
   "metadata": {},
   "outputs": [],
   "source": [
    "import proveit\n",
    "theory = proveit.Theory() # the theorem's theory"
   ]
  },
  {
   "cell_type": "code",
   "execution_count": 2,
   "metadata": {},
   "outputs": [
    {
     "data": {
      "text/html": [
       "With these <a href=\"allowed_presumptions.txt\">allowed</a>/<a href=\"disallowed_presumptions.txt\">disallowed</a> theorem/theory presumptions (e.g., to avoid circular dependencies), we begin our proof of<br><strong id=\"unary_multi_gate_reduction\">unary_multi_gate_reduction:</strong> <a class=\"ProveItLink\" href=\"../../../__pv_it/theorems/4572d708fcaae0d4b6843f5430298a492a9d70c30/expr.ipynb\"><img src=\"data:image/png;base64,iVBORw0KGgoAAAANSUhEUgAAAjUAAAAmBAMAAADO5ne3AAAAMFBMVEX///8AAAAAAAAAAAAAAAAA\n",
       "AAAAAAAAAAAAAAAAAAAAAAAAAAAAAAAAAAAAAAAAAAAv3aB7AAAAD3RSTlMAq1RmmUTNIjK7EInv\n",
       "3XZ/CtNrAAAACXBIWXMAAA7EAAAOxAGVKw4bAAAFuUlEQVRo3t2af2gTVxzAv02uuetdmmaVbZYN\n",
       "myKbdUJT2A8YlC6FKm6DLSoT2f5IOipFHewcIhNLG/fH/trW0imjTug53B9DtwSZlU3BOpUW3KRC\n",
       "mLAZSbfhkI3ZpbWtbV32flxi7vJyuXiJkDwIyX3fy/u+97nvfb/f900AGM2bnAEzjfNA5TVxJ9la\n",
       "Mqkwu5tMTtORu6su+TBaSeB8TKE4LbGxBw3YPIxbXBoldncR2HykVCQbGCoCm11QmWxOKJbZ2BbL\n",
       "lI3OF05nhRi3ZTa1kXJlo73MYsPPW2YzoFQoG/jcMpuGEroC8Q3D7vfkkrJps8xmxox+PvhAy7/5\n",
       "pmG30KCUkk2/h7Ihfme1nk0VcbathuubN6PfMW28yV9yunnxyCTLoKi0xl1KNrU+ymY9vujRs+H8\n",
       "eF+yYYo0bUa/lz1Kom9HN7BjnYQBOHysLiolAyyz2ZuDDRekbA5gwx/UsxHwfdlnqKEqaEZ/B9u6\n",
       "9qjvLgM2dczTGpUWh827Odi4pikbB3pyJU+Wv8EHrpOGGpxuE/ql/QvM7j9MsAkwnSGVFoWNLZmD\n",
       "jW2BsrEjp+LI9sXPojdjN1oXMaG/z5VguplZE2zOMrvOQtHYcI0ym42QUOPUT7HY5Ww2zljsesRY\n",
       "Q6sJ/T4bjWZbLz/Xgca3//U9bL2yrqfp3iMeDZtj/6yHDy/2TcUz2HTBuleyJ6bSorA5fS7EZiPO\n",
       "qGw2AhwmEiWTDReCGoZNR3SBLo/+ao+wRK9/9ItRsI3DBoCLa2YgqrUb4RrUxOGqJxX7sDMUZ2xr\n",
       "LjCWTaSusRxsuBhpZp53Pn7bw2YD/6lsdgNPZhInMtkg2W7GtBmhY8AEGw74f1O3G7x+xCYgQwzd\n",
       "BR0bdPwQFuBIOmfqRTZmm98s9GS7AirlE9bthgNvaw42SyqbGkXyEztOaHK/w3AKxekbqRQuegra\n",
       "3Bo2AX/2nPqy063Ojru0pxsgjL785TkZY9KzwZyXYJjeMHS7tuOlXwgx9pWSHn1be2gs6IRJBZth\n",
       "IKJddJrSrMrGFqeueNsVDZsW4oov4ctPGg5Bk6RwSqF2IyL3cS/Npm4QjtV7ZfxRz8aLON+9z0Z4\n",
       "Gamq7d7IOuCq0lG/ZbvxQb87h92k2ECwnVzHuzRsHHa0MR5/j8OrWR33SfBtZ7TTXwAbDr2uZ9iN\n",
       "7RIMyKTsE1U9V4bdzN5nQ9LesCfAMBxVSusjlvyN62Bn42AefwMnSfHYhd1kBhvpadRnH+yLwO9Y\n",
       "1PxUn6T1N/3549SWdH5F/E2ozgeB9+VdBJWGjdMH1Xcy2OAw9JIS9sSz5lWl0phlf/MN+jCZg00q\n",
       "TkEvgbwN/taw4c/j3PfPZ8ZFArdZ+uItLZtwPJ9+Hm9ghB483pHFXwGxuf2BjJ+nUZWNRAOTMAGO\n",
       "COzQsHkMwiEySJzD2tRkS5UWIYajrdSOsdnwqfwGqojpvnqmUdGcw1fi/t8gVE3soxl8t7RsnL48\n",
       "+sWROQXWJmnltKt9yg/CqpbjNzYt1yOdTxBlVU/OraBniDOPwoHllWuX3Wk2Q+B6ja4omjr+QVpq\n",
       "nQ3eFj0IM3K/O5oahQs9JKGsGkV/ZwjsO4aHhxCb4w5tfuMYLKR+013Q6qVJUwOssOnFbm0+x5lh\n",
       "UcNmS+bZLs3mxepJWYhQu6lu0Xm9sXJm81VyJ9hG5iJMNmT2NBvuPIivb89is0qYjNCs+XmAKV2N\n",
       "YrEQNlcLWr1rLM8AUkUoWf2GVIfy1f0+gxUh2IeeNeFnmda7MrL3RAH6Ny0/Xsjq+USeASdaS8mG\n",
       "HBVN1UTF74YPsUYdLGG9eE+9Yff++pLWiwOy1XpxWwnZPNAmi8ZmFKyyCfsrlc0PltlIwXJlk+d3\n",
       "TRoJrP0ePlGmbPI1p8c6mxcqlM1NsM7G0Wrabsvpv0n8eBHYiNegEtvXHiM2Zv/vt1epRDafksQ7\n",
       "1//9TFtfqALRiOnU5H8ukbHnwQPuTQAAAABJRU5ErkJggg==\n",
       "\" style=\"display:inline;vertical-align:middle;\" /></a><br>(see <a class=\"ProveItLink\" href=\"../../../__pv_it/theorems/69e1ba6955a39125a65e17d43ee2de6220a3118b0/dependencies.ipynb\">dependencies</a>)<br>"
      ],
      "text/plain": [
       "<IPython.core.display.HTML object>"
      ]
     },
     "metadata": {},
     "output_type": "display_data"
    }
   ],
   "source": [
    "%proving unary_multi_gate_reduction"
   ]
  },
  {
   "cell_type": "code",
   "execution_count": null,
   "metadata": {},
   "outputs": [],
   "source": []
  }
 ],
 "metadata": {
  "kernelspec": {
   "display_name": "Python 3",
   "language": "python",
   "name": "python3"
  }
 },
 "nbformat": 4,
 "nbformat_minor": 0
}