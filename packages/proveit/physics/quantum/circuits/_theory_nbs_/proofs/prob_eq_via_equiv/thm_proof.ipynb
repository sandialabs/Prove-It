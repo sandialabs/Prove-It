{
 "cells": [
  {
   "cell_type": "markdown",
   "metadata": {},
   "source": [
    "Proof of <a class=\"ProveItLink\" href=\"../../../../../../_theory_nbs_/theory.ipynb\">proveit</a>.<a class=\"ProveItLink\" href=\"../../../../../_theory_nbs_/theory.ipynb\">physics</a>.<a class=\"ProveItLink\" href=\"../../../../_theory_nbs_/theory.ipynb\">quantum</a>.<a class=\"ProveItLink\" href=\"../../theory.ipynb\">circuits</a>.<a class=\"ProveItLink\" href=\"../../theorems.ipynb#prob_eq_via_equiv\">prob_eq_via_equiv</a> theorem\n",
    "========"
   ]
  },
  {
   "cell_type": "code",
   "execution_count": 1,
   "metadata": {},
   "outputs": [],
   "source": [
    "import proveit\n",
    "theory = proveit.Theory() # the theorem's theory"
   ]
  },
  {
   "cell_type": "code",
   "execution_count": 2,
   "metadata": {},
   "outputs": [
    {
     "data": {
      "text/html": [
       "With these <a href=\"allowed_presumptions.txt\">allowed</a>/<a href=\"disallowed_presumptions.txt\">disallowed</a> theorem/theory presumptions (e.g., to avoid circular dependencies), we begin our proof of<br><strong id=\"prob_eq_via_equiv\">prob_eq_via_equiv:</strong> <a class=\"ProveItLink\" href=\"../../../__pv_it/theorems/44671c7334019a1984822ff4fe422f0ccbdc4a2b0/expr.ipynb\"><img src=\"data:image/png;base64,iVBORw0KGgoAAAANSUhEUgAAAQ0AAAAXBAMAAADjBgdyAAAAMFBMVEX///8AAAAAAAAAAAAAAAAA\n",
       "AAAAAAAAAAAAAAAAAAAAAAAAAAAAAAAAAAAAAAAAAAAv3aB7AAAAD3RSTlMAq1RmmUTNIjK7EInv\n",
       "3XZ/CtNrAAAACXBIWXMAAA7EAAAOxAGVKw4bAAADtUlEQVRIx71WXUgUURQ+7u4466y77UaIEeJA\n",
       "UYQP7YMIPZRrfyQWbQQhEbVREVng+pzp9hgUSj6EFboPFgQVaw+9LORfWRHJFj4EtTTYQwRSuomZ\n",
       "pnbOvTOzd8fVxQ08cO7MfOe7c7977rl3BiBvk5cHwrn6hjPuwvA/NpYdkEMAp3J09ajm7SndvfSw\n",
       "OQ8Ztphctujb2CEA7FI4geP4LeSmL5O+zjRYgb5z0ee7GGFU8v2EX8hDxwMA5yRAc0gAyHagDmiw\n",
       "stu8IA8bDwrr8wagYIZT0a9RKtvz0LEX+6EO+5wAkNX8xqbSym7FvFfH9AcHZUZeAJCmOBW9MArg\n",
       "UvPQ0c91OOcFAM11BecIxdEsOtoS+kMxNXbk2Rc4Fd2O2grzKY8Q1yFNCwBaiydFReLPouO0sYRb\n",
       "qSnA9St8xank75LJt3nocMS4DldKujz2LMwBtIDtF2XFm0VHn3p8pIJKsY4lpR2Usginkh8EuMOo\n",
       "llQ6zKrKqoOmgDqUcT8U72n1GymQVCcVjJ1N/XCS7L2u48kQwIttpPIsq9yuHyV+nUreBDITr7xm\n",
       "778+Fa+N0E2RMeKjiDm4GQRwY03J8/HneHEnFB0g9ZQksPVb8/EpTsdLks32AyE/w2Ab0qnkRVFX\n",
       "kBVYinWwJ8DTn6GjTwXXMA7iF4KYVuwk/+Gp8RoAwPd9NQQ6J6w6+JY8w9qX1NyjV0c4ldym8TKt\n",
       "H2GXggDYJ0Qd0g0Ntty/CxATgpk6AqYORQOgDST1Z9dxLq2D0latcSqjh3azoMa1Fqvw2C/q8OB0\n",
       "A+Ao7QkKQX1ddB0xA2BF9ZmSnbDWB9dxibW0Lk4qlPIgpzL6U3b4eeAAF/61shREHZojREtSNSIG\n",
       "MaxZdBAAx9AbaXXbs+eD6+ii8fC4c07rVEZvZstbD+OMswuUDaIOKYIV4ehE6xCCfKs5+dnhDhiA\n",
       "TPntTm9i4VznZ8coa3tJPFJPNugHAKMXsB1QFy9nGxfHaQ0KOhzx3lnzbWYQNSRALlncRErLB1QO\n",
       "KN3TUdi+iJN2By3fucZJGuro3/X0dBMH7Z70ldxiswiKdA+OwPQM4rkn7lsN5BnzdWYQ7aP1RBGB\n",
       "qyuege6IhZqm48KuU5UYyLOgjArrImFppIx1SQezfcoqMz+CK5g9YKGadMcAKEfOOwehai5eqwo6\n",
       "DnmhZ9rIWjpIcetflADk+oDfhgzqErpNfG2OD4zSvjxQlONP72Gm+iX0E6vQAS3LA99y/dpqGdQl\n",
       "dP9qdKyRyWs62j+9RQs1IGZzkgAAAABJRU5ErkJggg==\n",
       "\" style=\"display:inline;vertical-align:middle;\" /></a><br>(see <a class=\"ProveItLink\" href=\"../../../__pv_it/theorems/87c4aa7919d7e71b7581a9adcec2276374165d2a0/dependencies.ipynb\">dependencies</a>)<br>"
      ],
      "text/plain": [
       "<IPython.core.display.HTML object>"
      ]
     },
     "metadata": {},
     "output_type": "display_data"
    }
   ],
   "source": [
    "%proving prob_eq_via_equiv"
   ]
  },
  {
   "cell_type": "code",
   "execution_count": null,
   "metadata": {},
   "outputs": [],
   "source": []
  }
 ],
 "metadata": {
  "kernelspec": {
   "display_name": "Python 3",
   "language": "python",
   "name": "python3"
  }
 },
 "nbformat": 4,
 "nbformat_minor": 0
}