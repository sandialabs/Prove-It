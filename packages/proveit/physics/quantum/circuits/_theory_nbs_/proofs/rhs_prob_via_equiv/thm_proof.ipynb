{
 "cells": [
  {
   "cell_type": "markdown",
   "metadata": {},
   "source": [
    "Proof of <a class=\"ProveItLink\" href=\"../../../../../../_theory_nbs_/theory.ipynb\">proveit</a>.<a class=\"ProveItLink\" href=\"../../../../../_theory_nbs_/theory.ipynb\">physics</a>.<a class=\"ProveItLink\" href=\"../../../../_theory_nbs_/theory.ipynb\">quantum</a>.<a class=\"ProveItLink\" href=\"../../theory.ipynb\">circuits</a>.<a class=\"ProveItLink\" href=\"../../theorems.ipynb#rhs_prob_via_equiv\">rhs_prob_via_equiv</a> theorem\n",
    "========"
   ]
  },
  {
   "cell_type": "code",
   "execution_count": 1,
   "metadata": {},
   "outputs": [],
   "source": [
    "import proveit\n",
    "theory = proveit.Theory() # the theorem's theory"
   ]
  },
  {
   "cell_type": "code",
   "execution_count": 2,
   "metadata": {},
   "outputs": [
    {
     "data": {
      "text/html": [
       "With these <a href=\"allowed_presumptions.txt\">allowed</a>/<a href=\"disallowed_presumptions.txt\">disallowed</a> theorem/theory presumptions (e.g., to avoid circular dependencies), we begin our proof of<br><strong id=\"rhs_prob_via_equiv\">rhs_prob_via_equiv:</strong> <a class=\"ProveItLink\" href=\"../../../__pv_it/theorems/cc90ca6a07e0ca714e1d1ffb28c8d07938967fc30/expr.ipynb\"><img src=\"data:image/png;base64,iVBORw0KGgoAAAANSUhEUgAAAUYAAAAZBAMAAAC/VppVAAAAMFBMVEX///8AAAAAAAAAAAAAAAAA\n",
       "AAAAAAAAAAAAAAAAAAAAAAAAAAAAAAAAAAAAAAAAAAAv3aB7AAAAD3RSTlMAq1RmmUTNIjK7EInv\n",
       "3XZ/CtNrAAAACXBIWXMAAA7EAAAOxAGVKw4bAAAE7UlEQVRYw82XXWhcRRSAz+79zd0fd7UEFWK3\n",
       "KPUhVBa2LShotvgbI2S1Ig2K9keJVUs3IAWpuuuTRFISK1JbpL2CL0WrmxCfNtg00UYplqW2T7q6\n",
       "qFAfSkxi/2yl9Zwzc+9O7mZFkKW97Jk798zZud/MOWdmLsASV0c1D9fLFa+eWFK/Ea6nK3ONGfPN\n",
       "FXnv6RozxlPNFc9KQcYE3W4PMoboFk63CG1nz6jouhMGfp5P7q2/pxPl7qvJ5NYixFFLgowPUlN/\n",
       "kFHP4c1sUeZEXgRop4qDDhtOgHXUa3HYg98ChC4CvARCMvAWltZIkNGm6X2tNYjOViyiWSx0nKYC\n",
       "vqmrJJtIAdYVAOMswGoQkgHTxYGlGuKRBjDWGkazgkVojkBBMA5XZBMpQMM51JAz6grJgIboZmPO\n",
       "ZFqXOr1F8jeCwErJ+Jz3JlIwvjmDkhaCKN9Vq8caGaPV6o+lliBaf7FXz2HRIxkPp5463tkvFRAd\n",
       "AacDxxFJCEHGRwD2NTLqRWhzOXoCbVn1IZwP1NG6hunoK91GRn2BHX4Biy2C8bNpgK/u/FMqYHj/\n",
       "bDvFpbZRCDIOgEUJEv/yt7zCiLoBrn9KngH7QM/4B/ws00uYr3Emjo3fJDRrpLWuDMT5xkcbPFvu\n",
       "5q5il6j8fBIL2uUKP5R/wVuVh8Pb3h95CE/ToCeFIGObG8GFxugHa0Zdw/fBF1w/LPLpXoAzCqMw\n",
       "dxIQSoDJRE5CWhsYIk97qwzO2cRmnA78VSBOXHADl100U18To+hwE5ekgA+pHxyOPScEGcM1SplV\n",
       "KN0q410iZYyhGquWYbcKozDHVRQZ43PswpxnjUuCKX284TiEH+0rQQQzIQsaG8YoiZ2jsJjx+Trj\n",
       "PA0B+zEmhXD63oeupTTrUhlNjeHiJs8PTIHzfZ1RmseAGCOTOzY/QHVpPVZfzGqbyPXr3sGNIpqC\n",
       "Q2mZtk+Azj47UWd8GTyFTYG5HEccrgghxjEceIiwJlTGyEqei5rO02ldyawr1hml+Q5idFYVjamd\n",
       "VJfWd2DXIiDj8BC7+RUcbuHX1Tez0l7Q3k5PcOzvDzKSIo7ZZJ+nnBkRQoyv49ijJT8mJKN1hF1d\n",
       "FEGE0fRRts4ozfuQ8afZHNiYBn2+NdYM8eINGMP6Xrzeo4B2lonez7wJo7dybZSyWKyNJ32FiV08\n",
       "Q1uIXhJCjCGcoCi6wb6w6NzDo9bLo5yGGE3WOYVRmK/ABnq2sdsVvvUgKgRjT3m5v/ggYCEnJvKW\n",
       "8imwqbYLV5Xt8zTex/++USpCB+aT7bs5cHNCvLNZW9ZwY+nGs1lNhB5Fk3GxzijNBz3GCpNJa9/X\n",
       "uEwWil5PU7id+A/vw2mmKAbWzkWKN6R4jNbMPb9vaTw/Goi9AJ/gu1w4pPhamseUeYx51jCLdDX6\n",
       "03pcaFLS19YlcE76L3g3zK/QsgHGRYr7pfhn3FdvS7r5BsbHEvDx+dxQStteHt8NytojzNvyuIaj\n",
       "NwcuU11awx6gh6GUfgSc3hdkT2svl7vrJ5feq2LC9gQ3IUVBhzE+kCnn8CedWrNzuHosGlHMDWVH\n",
       "9+sOWhwM/Cl47ZoS94PBBkWB42RRGQsdbhNGw12Ckc0fVhq8up7nuuH+l/NFrbnitBSV0TzV7HtG\n",
       "gyUY2TyigHh13Le1XOBPLfgu3PYv39eLW9zGutt4Vvp/39fT/wDJdVsEjyP1dgAAAABJRU5ErkJg\n",
       "gg==\n",
       "\" style=\"display:inline;vertical-align:middle;\" /></a><br>(see <a class=\"ProveItLink\" href=\"../../../__pv_it/theorems/88c8469aef539e33b15dd16657028559b03ef6460/dependencies.ipynb\">dependencies</a>)<br>"
      ],
      "text/plain": [
       "<IPython.core.display.HTML object>"
      ]
     },
     "metadata": {},
     "output_type": "display_data"
    }
   ],
   "source": [
    "%proving rhs_prob_via_equiv"
   ]
  },
  {
   "cell_type": "code",
   "execution_count": null,
   "metadata": {},
   "outputs": [],
   "source": []
  }
 ],
 "metadata": {
  "kernelspec": {
   "display_name": "Python 3",
   "language": "python",
   "name": "python3"
  }
 },
 "nbformat": 4,
 "nbformat_minor": 0
}