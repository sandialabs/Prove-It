{
 "cells": [
  {
   "cell_type": "markdown",
   "metadata": {},
   "source": [
    "Proof of <a class=\"ProveItLink\" href=\"../../../../../../_theory_nbs_/theory.ipynb\">proveit</a>.<a class=\"ProveItLink\" href=\"../../../../../_theory_nbs_/theory.ipynb\">physics</a>.<a class=\"ProveItLink\" href=\"../../../../_theory_nbs_/theory.ipynb\">quantum</a>.<a class=\"ProveItLink\" href=\"../../theory.ipynb\">circuits</a>.<a class=\"ProveItLink\" href=\"../../theorems.ipynb#equiv_symmetry\">equiv_symmetry</a> theorem\n",
    "========"
   ]
  },
  {
   "cell_type": "code",
   "execution_count": 1,
   "metadata": {},
   "outputs": [],
   "source": [
    "import proveit\n",
    "theory = proveit.Theory() # the theorem's theory"
   ]
  },
  {
   "cell_type": "code",
   "execution_count": 2,
   "metadata": {},
   "outputs": [
    {
     "data": {
      "text/html": [
       "With these <a href=\"allowed_presumptions.txt\">allowed</a>/<a href=\"disallowed_presumptions.txt\">disallowed</a> theorem/theory presumptions (e.g., to avoid circular dependencies), we begin our proof of<br><strong id=\"equiv_symmetry\">equiv_symmetry:</strong> <a class=\"ProveItLink\" href=\"../../../__pv_it/theorems/e6b697570b8f78738dac27b7a2263e750c71a7880/expr.ipynb\"><img src=\"data:image/png;base64,iVBORw0KGgoAAAANSUhEUgAAAPgAAAAWBAMAAAAfsUzKAAAAMFBMVEX///8AAAAAAAAAAAAAAAAA\n",
       "AAAAAAAAAAAAAAAAAAAAAAAAAAAAAAAAAAAAAAAAAAAv3aB7AAAAD3RSTlMAq1RmmUTNIjK7EInv\n",
       "3XZ/CtNrAAAACXBIWXMAAA7EAAAOxAGVKw4bAAADlklEQVRIx71VTWgTQRR++d9umjQFKQpKAoIg\n",
       "Ks2hFHqoTWkVSxGLXopUbRFRY8F4EcTaRPTiQRJEUESa9FLoQalePPTQWPGfShTFgkaiPagg/dHa\n",
       "WqvG92Z2YzI77fbkwOzMvnnf+38zAMsNF30iYM6zAlrxiKyABz7g9AaWYTgJ4MjJcSi+cynYfuA4\n",
       "H/2sl/NYh/CzCWddvrLyaIxI/WNkS0HfcZwTchyAc5ot6toX5APb25IzlVVXwRvkuG1EOyxXPkBQ\n",
       "Zv5jAMsP2rw79wY0i0lLnnSkZDgc1Vy551M9GmPhtPIEgD8GYY47S/FJyJU34bSTka4/GKZZsj8I\n",
       "Az5QQhqD3Y/Zs4VkOByN82yZALUL4DynRTFoB0JQAwxHdruXSGuaTGXRQq9taACzvyq2T6/BOyOU\n",
       "iycyHEo9zWJFYbIccbzmRw0IaMhBeYrhbOiZc4mUU8Q30M6CAXQ+JIHkff6+XtS5KTL7oAwH0Ov9\n",
       "ylYqgKlfbfzMj7M7As4gx41ls0/lyu0Ea9Uypa6L6XS1wADVJOSWDAcQsn77R9PrAounfxyd8HHc\n",
       "DoBrJeeFoZsHEO+brAoardsNcdJTS/udWRrPCzhwBJRFA0JZmHxPEm2dHHcCXKx41Ufs+MLscIvm\n",
       "o4diSm0CUxGw3mNOMRVZrdpDEKXdZkEDw2FYXDMgmAVerMHNaJs1zXFlKTfLh5tnyJYBb1prC6Kz\n",
       "/F7HORIT3fBebvZTn8QFOsPB5+bGBYPnZSjajXWoTHOcNcfrrf0ZWywhsE2LysmFBsNNdhOgIoNr\n",
       "h0y5iuy/DcorfLxtHGkN17mV0XNdHBmAG0Eh7ApVjr9NlIT97SEhW4TgMpwd51uD8jiKtnxHjzMa\n",
       "7naYxRC281tgoma1HiPytU/LlDIn5twR1G7QOjG2hNujXb6lOcfigTgWmy2h4XqYqHb4wo7rQV2l\n",
       "CdH7AZzoX0dY9KKH9Mzr3Vg0COeikCQND2I32vwgVdTFFlZJrcN+1muoOaoFWKHYXEQGeg0uiXIG\n",
       "82GwJudQyiuxnzKgJudSsDF/TDhZQw8UJcVDKgo4fHSizIhRvHv1uh4ntpjZu+vKiJRxMwicKcFh\n",
       "iioC6hC4foL6Uidq17/JsBuunxpT5U3FOPtdUHcdUkahdnG4pfDMlFHOrpgJOmXs5ohZsBISnLX0\n",
       "VyWeQTPlRuvUhAlE6tVe4b+XPV3LC/JK3Ow1Uf5RhgvCfx1/ATaa+Cg0tP60AAAAAElFTkSuQmCC\n",
       "\" style=\"display:inline;vertical-align:middle;\" /></a><br>(see <a class=\"ProveItLink\" href=\"../../../__pv_it/theorems/7d522a0da74ffc221e27826843ef9bda885fc77b0/dependencies.ipynb\">dependencies</a>)<br>"
      ],
      "text/plain": [
       "<IPython.core.display.HTML object>"
      ]
     },
     "metadata": {},
     "output_type": "display_data"
    },
    {
     "name": "stdout",
     "output_type": "stream",
     "text": [
      "equiv_symmetry may now be readily provable (assuming required theorems are usable).  Simply execute \"%qed\".\n"
     ]
    }
   ],
   "source": [
    "%proving equiv_symmetry"
   ]
  },
  {
   "cell_type": "code",
   "execution_count": null,
   "metadata": {},
   "outputs": [],
   "source": []
  }
 ],
 "metadata": {
  "kernelspec": {
   "display_name": "Python 3",
   "language": "python",
   "name": "python3"
  }
 },
 "nbformat": 4,
 "nbformat_minor": 0
}