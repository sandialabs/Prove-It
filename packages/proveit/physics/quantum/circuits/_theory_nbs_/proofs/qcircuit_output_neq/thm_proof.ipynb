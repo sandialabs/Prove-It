{
 "cells": [
  {
   "cell_type": "markdown",
   "metadata": {},
   "source": [
    "Proof of <a class=\"ProveItLink\" href=\"../../../../../../_theory_nbs_/theory.ipynb\">proveit</a>.<a class=\"ProveItLink\" href=\"../../../../../_theory_nbs_/theory.ipynb\">physics</a>.<a class=\"ProveItLink\" href=\"../../../../_theory_nbs_/theory.ipynb\">quantum</a>.<a class=\"ProveItLink\" href=\"../../theory.ipynb\">circuits</a>.<a class=\"ProveItLink\" href=\"../../theorems.ipynb#qcircuit_output_neq\">qcircuit_output_neq</a> theorem\n",
    "========"
   ]
  },
  {
   "cell_type": "code",
   "execution_count": 1,
   "metadata": {},
   "outputs": [],
   "source": [
    "import proveit\n",
    "theory = proveit.Theory() # the theorem's theory"
   ]
  },
  {
   "cell_type": "code",
   "execution_count": 2,
   "metadata": {},
   "outputs": [
    {
     "data": {
      "text/html": [
       "With these <a href=\"allowed_presumptions.txt\">allowed</a>/<a href=\"disallowed_presumptions.txt\">disallowed</a> theorem/theory presumptions (e.g., to avoid circular dependencies), we begin our proof of<br><strong id=\"qcircuit_output_neq\">qcircuit_output_neq:</strong> <a class=\"ProveItLink\" href=\"../../../__pv_it/theorems/d9fce66d781a7045d00e0702966f64241f7177fa0/expr.ipynb\"><img src=\"data:image/png;base64,iVBORw0KGgoAAAANSUhEUgAAAVEAAAAZCAMAAAC/1O3FAAAARVBMVEX///8AAAAAAAAAAAAAAAAA\n",
       "AAAAAAAAAAAAAAAAAAAAAAAAAAAAAAAAAAAAAAAAAAAAAAAAAAAAAAAAAAAAAAAAAAAAAAAeYafp\n",
       "AAAAFnRSTlMAq1RmmUTNIjK7EInv3Xbt5cnn9enzas/lfgAAAAlwSFlzAAAOxAAADsQBlSsOGwAA\n",
       "AtxJREFUaN7dWYtu4yAQNO+n6V17t///qWcwdqDJ2s51RaQgNUrVDphhdnYXT9NLhlDT+w35wrW5\n",
       "fENCJ+NetrTX01sOkV61shODw9EPWmjOC7FbKI7ap4ljCbXDojFlNuWeI7QZJZlAdjaX7MPZYXYG\n",
       "i0gtG+6rQJboNVyRKCPzSQfAlqHRM9I5znU1mcBHBSFQ2RqHK4w6wtiLq+wYIJTK/HdR7XNY/k0z\n",
       "mX0wOGdLMbpHN7BmcwVI+ZdKiohzHjGMYpRRnV0wAc4tkjI9iLqeAKROUiX+ZPkv14Sif7Y38Ae/\n",
       "3UchkWGbNCXArUoWocyfX/mTSKesuoyOBnO0TKZh28fGSLRt6QEyBNl68R0jHWAKCgPWxyHansxG\n",
       "KkZKtNqoZ7NFbUFt8gxN/g3dyYv5ZhAIox1gP5t7YC2DL7Wg8Gh0AcazJM68Sj3V754sasGllJgW\n",
       "B+VT4ZGnLi8pG1uXYHJ1DpzRHsAMCiTVqCySYCMlmtZEyKPAU5etab7tSFO/55j152eBM9oBVMCB\n",
       "lIwmJ+WS692xj/75u7opzSG6uMWkRStDU0tR7Rt+Jqm7gkEIydop3HdCV4B0eXwsPwIBVu1SZCa/\n",
       "SgBOKjFN2tFvEYGm+prrc6PdaMz23lfc0DOJMtoDkjgAtjUbQcxnTz6ei/bW0G55kKFdn9iep1HS\n",
       "kp8Da7qalRLTzuG+dekNwLsjYH+OPxlKXGpDaSVabXRhVuM9xz2q9dfdDRcWsOrpBshR/+u326L+\n",
       "AXCb8sd9/X575Q6bJk7bteh1VRXxg7ovA+rZ52rIh5UrX/ILFvUNoL+UeAQkunvyDqBsiucvYZBE\n",
       "2X5Nwo/vnvq9FkP1ErSabBaZ0BBymd5N4h4DusbrIXDzo0H3o2JYY72veFJTYGeB5mp+8a0AG3PN\n",
       "NfvRjM7H1a/yzzJ69Qpk0HsmO1yiJ4pCGwOMUX454/Dh8Thi/P+dPUFj957v60tQ/wPathsg6WNF\n",
       "mAAAAABJRU5ErkJggg==\n",
       "\" style=\"display:inline;vertical-align:middle;\" /></a><br>(see <a class=\"ProveItLink\" href=\"../../../__pv_it/theorems/03307f228209df915ec93658c635c0e847180a860/dependencies.ipynb\">dependencies</a>)<br>"
      ],
      "text/plain": [
       "<IPython.core.display.HTML object>"
      ]
     },
     "metadata": {},
     "output_type": "display_data"
    },
    {
     "name": "stdout",
     "output_type": "stream",
     "text": [
      "qcircuit_output_neq may now be readily provable (assuming required theorems are usable).  Simply execute \"%qed\".\n"
     ]
    }
   ],
   "source": [
    "%proving qcircuit_output_neq"
   ]
  },
  {
   "cell_type": "code",
   "execution_count": null,
   "metadata": {},
   "outputs": [],
   "source": []
  }
 ],
 "metadata": {
  "kernelspec": {
   "display_name": "Python 3",
   "language": "python",
   "name": "python3"
  }
 },
 "nbformat": 4,
 "nbformat_minor": 0
}