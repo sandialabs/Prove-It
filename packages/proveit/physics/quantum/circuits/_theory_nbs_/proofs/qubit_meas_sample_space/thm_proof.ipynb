{
 "cells": [
  {
   "cell_type": "markdown",
   "metadata": {},
   "source": [
    "Proof of <a class=\"ProveItLink\" href=\"../../../../../../_theory_nbs_/theory.ipynb\">proveit</a>.<a class=\"ProveItLink\" href=\"../../../../../_theory_nbs_/theory.ipynb\">physics</a>.<a class=\"ProveItLink\" href=\"../../../../_theory_nbs_/theory.ipynb\">quantum</a>.<a class=\"ProveItLink\" href=\"../../theory.ipynb\">circuits</a>.<a class=\"ProveItLink\" href=\"../../theorems.ipynb#qubit_meas_sample_space\">qubit_meas_sample_space</a> theorem\n",
    "========"
   ]
  },
  {
   "cell_type": "code",
   "execution_count": 1,
   "metadata": {},
   "outputs": [],
   "source": [
    "import proveit\n",
    "theory = proveit.Theory() # the theorem's theory"
   ]
  },
  {
   "cell_type": "code",
   "execution_count": 2,
   "metadata": {},
   "outputs": [
    {
     "data": {
      "text/html": [
       "With these <a href=\"allowed_presumptions.txt\">allowed</a>/<a href=\"disallowed_presumptions.txt\">disallowed</a> theorem/theory presumptions (e.g., to avoid circular dependencies), we begin our proof of<br><strong id=\"qubit_meas_sample_space\">qubit_meas_sample_space:</strong> <a class=\"ProveItLink\" href=\"../../../__pv_it/theorems/cbb2a9ca8094756a4b9a4c13a8fbd57f199287780/expr.ipynb\"><img src=\"data:image/png;base64,iVBORw0KGgoAAAANSUhEUgAAAlMAAAAyCAMAAABPqK4MAAAAS1BMVEX///8AAAAAAAAAAAAAAAAA\n",
       "AAAAAAAAAAAAAAAAAAAAAAAAAAAAAAAAAAAAAAAAAAAAAAAAAAAAAAAAAAAAAAAAAAAAAAAAAAAA\n",
       "AADXrLZzAAAAGHRSTlMAq1RmmUTNIjK7EInv3Xbj4YVQXjBM29cAO2kNAAAACXBIWXMAAA7EAAAO\n",
       "xAGVKw4bAAAIzklEQVR42u2d6ZakKBBGZZOd7p450+P7P+mwyqLpVnaPZKc/6mRVYoBwjfgI0BqG\n",
       "Xg7Ohs/x3ENw0V2bAfqM26MPpnuDCsjPqD38gLqv9qLxM2aPPyToqbVU0c+QPf/QPekTbT4D1kP0\n",
       "U/1IKqQ+49XFMeJumqpagW50j4kFpN997kqmXjSKmWqXSvXYp7wiehTvDdXYi0zXoBHsoNcuF1q/\n",
       "N1Nw6uOmYVMd6MC97Z4OHbcFh/cOf2LqYzYFGoWu781VTbcVOiQN8VszNfA+HHEb6m4Ofb+ZKfDe\n",
       "TKEuVDprw8WHqUcHvx6Cu2nJ/41MCfph6h0vkKvDrV5xu+xLTM37azaZoidqfHumuhBUih8eFkle\n",
       "U3GFKQIOxb662u0a354pabsqXyN8ZCQUE77GVJjUQvwFpnJqdZ8pwZU+UOMvZUpge8Dh+NSSjU17\n",
       "TltYEelkwGTZg8+S6OYaU3E9R19nCsnhOFN5sUv/X0wJv2IFT+Va6sT3FQsr48WSUcof6UvhBC8x\n",
       "JSKKEl5lSnwTp5hKDd2s8VcyJQPUp/aacfBVC2txJS1B7Xb+/5XwYJeYguzgrfISl+8/hjNMkZTe\n",
       "36zxTqYM1/bI4z9Gv8ovM3XFwqI/rUUUZdRDd1IuUgm+0ftMyaMh/RUuf6nhFFNSH6nxvkUAMhrR\n",
       "zpBDxegyU1csLPrTAakc7Vo9dMO3bFf32OusWhDLBqPAlPGjDOU1ptTf55gagTEA7tUo71qspMst\n",
       "DnCa8l2FjJFSeBmOqTHcDMT+JI5FJRHG8ZmRwBTFxoe9wkJdLFlzKl5KH9LSOczYL4s7RbnP2EeJ\n",
       "8ChNI/i39D+BBpNXhe1nQ1cM4Ob7/QO3gzCO24MrB2g9jEDzHhl9iakf34dTTInJDrIITnWrRn2T\n",
       "bF1zhsatdo9+UKDzONh3lXak2zuRpM2NShEnx/HMFHOFPReFhbJYtkaVNUYUm88RvLliv/WCgvSj\n",
       "DKSeTwTXojgGhprBDVzV1bz+LOnS3mwwfV/LuzVtCOrhFHxjC5IbXGZnwvaqkLMeohcmV5j69s85\n",
       "psIuD2X2ahTjPQ/Crd5ZAgE1eT/uKQhb5ELS2IeksMUjzPXgRBJTAS8/x8gWymLZmr+j3a/pHOL3\n",
       "Cxdzc62Si4oujzfpnfl3ZgB3nlNwYC1DLl32mKnjTJmq0BpTzBi9xxTZ3JnuLkKEgZXZK7Kcudzd\n",
       "xlL8mb34+/JE33fBJ0yyrvHYrOPKlD0oFnvwxTexYYLIwBSfWxaZwjnx55iKaiIJ9GShLJasiUlW\n",
       "CsSeoydehZzAFDQz9nMDaXAoOJbGOPaDDHP0kLrh5DBT0V4yuOqnVp8Qq2MfHbHYEzbeY8icTtgR\n",
       "VFMFTrrhf4KKtn0/paWf++0KKnuRd2wxEishNOpM4h2QwADCkinTMBU8l2MKThi5g9UWymLJ2pwt\n",
       "zOcIqacyLx23HY5Wg2UuiHGzQTG4/BcNhQ2anSsLHNFZiO0yVdpLBo8zJZt5n1RshynnMTzCcV60\n",
       "M/GbMlGFd/xJ/Z+OM+VpijfAVo1b7T9zrHRVGgAHDnRiiG0xVfopuGKhLDZbm1c15nOoaFyvGmNq\n",
       "KokU7u9u2zO2BRymWvJNASmc+0uKwRxgqrYXS8XvMU8HesWUaSMFUHtMcY/wQMihBNW0JGpg/8oE\n",
       "2mGmbDOFQns1BhdwR45l6e10vGDXWD/2VgExusJUFEos6amYNCOVhbJYthZnSHA+B/p2FG8eiF/k\n",
       "Hd7cgeeG1pZEPk/vCpP5DCRQij2jHQZ9gKnaXlxVPO6nFuqDvt6eGpOPVkFaJBA5lsudhsojtSn0\n",
       "8M0+U65XOd6t8b5l+xEuc19eZY8oMWXvR+sCxpIpH9Sc4hZaFvM+P2GmlYWyWLZG/W1ji6ZzwjN9\n",
       "PA9m8mSAlVwA42NHkJvS5+qDM4EDY+Sl636pp0p7weAJpuDixt7NozMguZl1494gTguirCFUyvNj\n",
       "uQQgMdqvUd22AiYAJ7W2BAPBEgAS+sBAY6WOYWBSgEFufw5ynBwiI0DG+GIMKOXmXBRj48ajtFAU\n",
       "y9b8KnPo23gOkcaYItk8q/iaC+sBrTeiaNbULBeLGn0QJ5gq7UWRfjz2LVOcB9ZmWL6HdzcmTEti\n",
       "xLhX4mX6fq9GdeOqKpG8Wps57OHwncUW42XWuLB+xXoWWSipnFKh0kMhzTk/lezNBg/7qeHKXpdi\n",
       "1YLTXaYWwAByNNm+xtRmjU/YP/VLmVqu+QdJjjGP3t8knTtHPCFtIMTsTOwr7CWDa0xR65pXWF3c\n",
       "iAeYkq9czqGcJ+PDF5jarvEJTGlwZ7HFnIquc0HbyaWQLkBtT1k28lOzva2c54sDqAt+Kl8iOs+U\n",
       "oF9harvGbaaQfHkyk/ielULiBBa9q9hOjroY8jS5I2fScxtMzZNFYk4zhdoFv9fDYpbuc/9e+/pz\n",
       "M3W12zXOjWcjX0mOR0ilKTxtWrHq4/VOS8HI6/sciHuYmtEE4jRTrA3Qb/Is1vzmv7TsZbVIoMcl\n",
       "oAmfv00rVrCH97qtZHqacT7lbWn9WazYmw3SE7bf9JnRlE/HWZxGavw3WZbAnpjq45nRAat3ZMrO\n",
       "uY3z2qX8CtTQsMMBdskU6OPZ9nY5Q9+7cf63voMjM2W0GAyu14KDcmKeqfyuqsQUWQwXM+hpOyk7\n",
       "eQdH3KqT8yYdvy82P1nmsryWIVK4KTayzJQyLVNDu1nYbal52IMpqJN3BbUNlVO/L4zNbXeiCYNi\n",
       "2csiEmYwIfZNi9hng1/tBB74Xwh0N4/E1nvlhda9vm3OZFKmoJlYeWkGbGl02ibqXDc8qyf6efdi\n",
       "66gEV12+GYzp4jWkFgjkN8WJVqP7bSzusXohtzU6kQg9qyN4R0/uj40UhaDHd8Sycq7BcNgBVSx7\n",
       "zdRIaVzSnLm5X16xev68j0wdBRD2xu/cL5a9FtRU2d7nM6VhTx1v+PAHHG22oN4f9XimZGfvrPkz\n",
       "/odRM7GrxBIbH+4FSHc5nhH+CVCxl1dJn64gWYfvfv/8T8hny8KM1H+0e2Iet1PxIAAAAABJRU5E\n",
       "rkJggg==\n",
       "\" style=\"display:inline;vertical-align:middle;\" /></a><br>(see <a class=\"ProveItLink\" href=\"../../../__pv_it/theorems/0b26348e3bb1f12125dea7b5c8c2a055669480b00/dependencies.ipynb\">dependencies</a>)<br>"
      ],
      "text/plain": [
       "<IPython.core.display.HTML object>"
      ]
     },
     "metadata": {},
     "output_type": "display_data"
    }
   ],
   "source": [
    "%proving qubit_meas_sample_space"
   ]
  },
  {
   "cell_type": "code",
   "execution_count": null,
   "metadata": {},
   "outputs": [],
   "source": []
  }
 ],
 "metadata": {
  "kernelspec": {
   "display_name": "Python 3",
   "language": "python",
   "name": "python3"
  }
 },
 "nbformat": 4,
 "nbformat_minor": 0
}