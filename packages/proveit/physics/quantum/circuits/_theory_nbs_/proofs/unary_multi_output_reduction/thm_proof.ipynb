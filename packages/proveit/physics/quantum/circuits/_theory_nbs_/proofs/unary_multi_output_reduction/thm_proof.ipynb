{
 "cells": [
  {
   "cell_type": "markdown",
   "metadata": {},
   "source": [
    "Proof of <a class=\"ProveItLink\" href=\"../../../../../../_theory_nbs_/theory.ipynb\">proveit</a>.<a class=\"ProveItLink\" href=\"../../../../../_theory_nbs_/theory.ipynb\">physics</a>.<a class=\"ProveItLink\" href=\"../../../../_theory_nbs_/theory.ipynb\">quantum</a>.<a class=\"ProveItLink\" href=\"../../theory.ipynb\">circuits</a>.<a class=\"ProveItLink\" href=\"../../theorems.ipynb#unary_multi_output_reduction\">unary_multi_output_reduction</a> theorem\n",
    "========"
   ]
  },
  {
   "cell_type": "code",
   "execution_count": 1,
   "metadata": {},
   "outputs": [],
   "source": [
    "import proveit\n",
    "theory = proveit.Theory() # the theorem's theory"
   ]
  },
  {
   "cell_type": "code",
   "execution_count": 2,
   "metadata": {},
   "outputs": [
    {
     "data": {
      "text/html": [
       "With these <a href=\"allowed_presumptions.txt\">allowed</a>/<a href=\"disallowed_presumptions.txt\">disallowed</a> theorem/theory presumptions (e.g., to avoid circular dependencies), we begin our proof of<br><strong id=\"unary_multi_output_reduction\">unary_multi_output_reduction:</strong> <a class=\"ProveItLink\" href=\"../../../__pv_it/theorems/8f7c3cf5bd07e228cce81f7f58238cc216f9db360/expr.ipynb\"><img src=\"data:image/png;base64,iVBORw0KGgoAAAANSUhEUgAAAjAAAAAmBAMAAAAoz7zzAAAAMFBMVEX///8AAAAAAAAAAAAAAAAA\n",
       "AAAAAAAAAAAAAAAAAAAAAAAAAAAAAAAAAAAAAAAAAAAv3aB7AAAAD3RSTlMAq1RmmUTNIjK7EInv\n",
       "3XZ/CtNrAAAACXBIWXMAAA7EAAAOxAGVKw4bAAAFxklEQVRo3t2abYgbRRjHn2xeNtlN9tJWCyL0\n",
       "YlUqWGg+lbPUkpPrVa0vQZF+8KURWgr2wHioIFYud4h+sEdjFTQW6iL4odjz0mr74exhzioVpRpB\n",
       "VJCDtVxVajnL9WrOEzxnZmf3MvtymWz2g+wDmw3zDJv//uaZZ54ZAuBmm5auAo9FMhAck54itweX\n",
       "Ft373MT5rF4Iko2q+v2rjsGEC4ECE077BeagGigwcNgvMPuDxQWOq/6AERYDBiaS9gdMqhowMGLD\n",
       "HzCHApZiAI74A+aGlj2Kxpe4R6Xv51cc4Q0eH+uma6s/YFoXgaeML4mSpxdQ9q4clMPveAPjpmso\n",
       "o4MhueZmZzCuPtPiDU4BCsrTOb7aylqBo+Zj5508tPX1TsDYdaVyOpjt+LbPGYyrb7keusIpQEZX\n",
       "3bmDnr6l6552BjOJP/Y4uvYsd/AKxq4rUtDBDON5WnYG4+ozLVTgFPAhuk46JwljwP5cAcyco2uu\n",
       "czB2XcoVHUwMyZEzzmBcfaYl05wCbkPXC845hANM1LFaoq0dgbHrEhZ0MOEsAuCSfF19pnVVOQXg\n",
       "frGi44LPAUauOXloa0dg7Lric3RVOj89/bXbquTmWwaT5RAgzWShqtRBIBSjAx/1rUHQZz9RowMX\n",
       "Tg92f7eaASM9MJOPD+yYXdcEJpYWPrZjo62ewbC6zJOHqxTM3QBowaPDFmHB6D7bSFnXthYCZKEm\n",
       "ZZVFI8slv4CxHGwsoiyXvGsom7JEzGgRjkJqNRyi49iPrvHs+gP2IaCtl9ncOU0s3b4uw/6lYJ4B\n",
       "ET2FpNgshDMMGN1n2040zQMeMCORergINbrKoYEG4RoCE21Aqi6BFczP6KmlRM0IRvEsXrKfy7xi\n",
       "n4e0lWNwuHQZ9g8Fk1DlPAWj0bsJRvfdqdGml3bmw1MMmN0OVWnXkmm6ADWpySQmh3UwOZDmUcg+\n",
       "2sCMrGDwFO+qJsrQRX5VXIt/4b4ep1ejrdJaPjKtdBk2T8EIGs6vGIiIfmAHA0b3JbG2+C+VvJCe\n",
       "gHvbjxhUo8kgofe83QADf4PUu75BvlrAoGCCrrIJBl7Gc/mHPqeqmbbKe70mX1aXFQwUthEwT6TD\n",
       "6k/wLLslIL4h/A2LELZFoCr33d+3vT0w/TAIimrUinrEbMyjqjlWxWBkW8TklsHgwlaaiy7YH2y0\n",
       "blI95hiLLmuOgZP4ALgsaYsKHIYEC4b47hD/AAXPeGFkl1ZlImaIZ1WCe2ALPGLWijjHLKBxiTZe\n",
       "xWBiLBj4HE/QJjBo0QkvSnOKveqmrWc8L9esLmb7h8EcwHTL4nt1BXpAyDJgiG/d4PHiMRLmpYlb\n",
       "WTDjGo+Ax4rVcN6sFWPnYKyKwCgLG/A0kgsUzKd6ej1Ygv0QY8CECtKC3mkcVdrSX0bVrbd6r2NY\n",
       "XUYlbtQxECqRqRTSBlG5E68yYIjvm0wcHtbBRJQyAyaZ4xEQv/Hob3h7RsuPNbPXo4R34dLkxe4p\n",
       "pGnVBGle9e2TZFDEnSfy8e6pkXenTDCJDMxcWt7hfU93xbTVOxhWl1HgXWOOHcqQym8RsxAp2o4d\n",
       "xHlUzmyuVCoZoSRVC0wdEytzVZhxMia3gJl827DJjjtw6mIOa5vAhDTtRbSVt5/HhMuPi/CaHjHw\n",
       "EDt3IjUuAQpJH2/978AwuozytW4BI/UdQaF80Q4mpI3KqKLBiPKgpC0JkEsAiTGJ7sRT6bZe4HKr\n",
       "Dv3ewTC6jHOrtAUMKWMsBZ7esxjqAfFtXK3vo4dXTUsm38iQbbSe16PdU8V2XqBVYSud7SBimnSx\n",
       "279mMGEUFFHN7Wjzg0rF6ez1zZYCfjcjz9sLiL0rkhFPeNsRuOraXbSCwfhCaptnvlshaHaaPQyn\n",
       "0S21exg+ng8amM9YMM7nMa1NLgSMi1LzBwx8GTAwyYxPYDYHDMyv4BOYWDZQXMRzfoGRfgwUmLFM\n",
       "SzC8/8F7Xg0SmDfI54r/weMOvlKAuEhm9fEf+NfO2wkT2uYAAAAASUVORK5CYII=\n",
       "\" style=\"display:inline;vertical-align:middle;\" /></a><br>(see <a class=\"ProveItLink\" href=\"../../../__pv_it/theorems/a6e6e9f67ded206cf22711ed4ebb2f41c906b2ef0/dependencies.ipynb\">dependencies</a>)<br>"
      ],
      "text/plain": [
       "<IPython.core.display.HTML object>"
      ]
     },
     "metadata": {},
     "output_type": "display_data"
    }
   ],
   "source": [
    "%proving unary_multi_output_reduction"
   ]
  },
  {
   "cell_type": "code",
   "execution_count": null,
   "metadata": {},
   "outputs": [],
   "source": []
  }
 ],
 "metadata": {
  "kernelspec": {
   "display_name": "Python 3",
   "language": "python",
   "name": "python3"
  }
 },
 "nbformat": 4,
 "nbformat_minor": 0
}