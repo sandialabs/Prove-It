{
 "cells": [
  {
   "cell_type": "markdown",
   "metadata": {},
   "source": [
    "Proof of <a class=\"ProveItLink\" href=\"../../../../../../_theory_nbs_/theory.ipynb\">proveit</a>.<a class=\"ProveItLink\" href=\"../../../../../_theory_nbs_/theory.ipynb\">physics</a>.<a class=\"ProveItLink\" href=\"../../../../_theory_nbs_/theory.ipynb\">quantum</a>.<a class=\"ProveItLink\" href=\"../../theory.ipynb\">circuits</a>.<a class=\"ProveItLink\" href=\"../../theorems.ipynb#equiv_reversal\">equiv_reversal</a> theorem\n",
    "========"
   ]
  },
  {
   "cell_type": "code",
   "execution_count": 1,
   "metadata": {},
   "outputs": [],
   "source": [
    "import proveit\n",
    "theory = proveit.Theory() # the theorem's theory"
   ]
  },
  {
   "cell_type": "code",
   "execution_count": 2,
   "metadata": {},
   "outputs": [
    {
     "data": {
      "text/html": [
       "With these <a href=\"allowed_presumptions.txt\">allowed</a>/<a href=\"disallowed_presumptions.txt\">disallowed</a> theorem/theory presumptions (e.g., to avoid circular dependencies), we begin our proof of<br><strong id=\"equiv_reversal\">equiv_reversal:</strong> <a class=\"ProveItLink\" href=\"../../../__pv_it/theorems/34ee42807e9c2f89e4d2876690363722d118b5f50/expr.ipynb\"><img src=\"data:image/png;base64,iVBORw0KGgoAAAANSUhEUgAAALoAAAAXBAMAAABOokjyAAAAMFBMVEX///8AAAAAAAAAAAAAAAAA\n",
       "AAAAAAAAAAAAAAAAAAAAAAAAAAAAAAAAAAAAAAAAAAAv3aB7AAAAD3RSTlMAq1RmmUTNIjK7EInv\n",
       "3XZ/CtNrAAAACXBIWXMAAA7EAAAOxAGVKw4bAAACx0lEQVRIx61VTWgTURD+0vxsstvGBEqppyzo\n",
       "sWLAEvBQG/EHSwSDXoooRoqIpdB4EYRiIp4EIUUFqx6SQi0IVlIpeMihNWDxh0pAhYJEVnstVotW\n",
       "rdA487Ibthtp6NYHb3b2zZvvzXwzbxewPaQt2jcenzcyXgLcGhBgfYcN8KY84Mx+C7aNiNfROZWk\n",
       "ZlgHaS4Ah1g/bwN9nEXzMBBKs/bx2gfosfLRFRKeHK4yQ8M20A+wSFGwZ6Kk+MMYD8Ab1Y2uUJIy\n",
       "i/IBUFQb6DMsuinubqbDQbMtfTqpG59Oc0Kv4AxTCnZoT7AM0RxgSIXjrzw32kVb4oD7gLly+bUN\n",
       "dFee5Usq53xtTa4ZsZuCxiRwBLgnlnIW9zqfdcPD7t7fXz71/cN4HBk+PAJchCQqLb8QhuvfCz2i\n",
       "CXzG1kdpQ/NmY1Mjut7Cqft/Ah1hEUtZDL1nokix1kEoOSXOK8qyMDhL8M+sQ59WocwSFqF0AYv6\n",
       "ajM7+Win8qsudP/tgyFuwwyVR6sWtfeNeDiicH41o7tvaNj54D5AubZSh5jRt1GEzrU69MdkKdHz\n",
       "FM3EPrGkna16qZgIm9H9ngBl6mofI7gi5LdmZjK00/GjDp26voXz30XzSb8AwWFhSS10tsOMrrkS\n",
       "TEqEUpPW9uw3iuDjLl+iZswkrLy7uck5/700h8RSr85oF+RWM7o7TWVw3aVxi2syatxGhb0GyD6b\n",
       "s4Y+xN5Ub8SYaRFOrBAS2wg6FTehuwqTq4Yb1UQyePASsdsrweCFunv+sNKPpuwKlel9rcwEKk4p\n",
       "0ofD3JEapFpTUE3ctZf5xj+AkqGdoDKrch7SKuR3JmaYw2WDmVQOEwYz6Gx8ncOG8gzysXPeIiJ/\n",
       "Cj2qCf1oAGMr8eom52Bh6mbN15dshH7Z+mky6b4GvnLDz/Ydy/vJTaDjSgO735pceDPoWxrSf8D4\n",
       "CwNbqXOorpZcAAAAAElFTkSuQmCC\n",
       "\" style=\"display:inline;vertical-align:middle;\" /></a><br>(see <a class=\"ProveItLink\" href=\"../../../__pv_it/theorems/b83e82f3fdff4b3991e78773ff796299fb803bbb0/dependencies.ipynb\">dependencies</a>)<br>"
      ],
      "text/plain": [
       "<IPython.core.display.HTML object>"
      ]
     },
     "metadata": {},
     "output_type": "display_data"
    }
   ],
   "source": [
    "%proving equiv_reversal"
   ]
  },
  {
   "cell_type": "code",
   "execution_count": null,
   "metadata": {},
   "outputs": [],
   "source": []
  }
 ],
 "metadata": {
  "kernelspec": {
   "display_name": "Python 3",
   "language": "python",
   "name": "python3"
  }
 },
 "nbformat": 4,
 "nbformat_minor": 0
}