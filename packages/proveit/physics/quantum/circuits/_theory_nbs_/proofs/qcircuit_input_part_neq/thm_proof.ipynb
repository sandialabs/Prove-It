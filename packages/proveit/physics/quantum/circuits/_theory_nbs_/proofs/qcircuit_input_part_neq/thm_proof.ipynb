{
 "cells": [
  {
   "cell_type": "markdown",
   "metadata": {},
   "source": [
    "Proof of <a class=\"ProveItLink\" href=\"../../../../../../_theory_nbs_/theory.ipynb\">proveit</a>.<a class=\"ProveItLink\" href=\"../../../../../_theory_nbs_/theory.ipynb\">physics</a>.<a class=\"ProveItLink\" href=\"../../../../_theory_nbs_/theory.ipynb\">quantum</a>.<a class=\"ProveItLink\" href=\"../../theory.ipynb\">circuits</a>.<a class=\"ProveItLink\" href=\"../../theorems.ipynb#qcircuit_input_part_neq\">qcircuit_input_part_neq</a> theorem\n",
    "========"
   ]
  },
  {
   "cell_type": "code",
   "execution_count": 1,
   "metadata": {},
   "outputs": [],
   "source": [
    "import proveit\n",
    "theory = proveit.Theory() # the theorem's theory"
   ]
  },
  {
   "cell_type": "code",
   "execution_count": 2,
   "metadata": {},
   "outputs": [
    {
     "data": {
      "text/html": [
       "With these <a href=\"allowed_presumptions.txt\">allowed</a>/<a href=\"disallowed_presumptions.txt\">disallowed</a> theorem/theory presumptions (e.g., to avoid circular dependencies), we begin our proof of<br><strong id=\"qcircuit_input_part_neq\">qcircuit_input_part_neq:</strong> <a class=\"ProveItLink\" href=\"../../../__pv_it/theorems/3ece7adb1371217b5cc8991f6d74db5439e27c300/expr.ipynb\"><img src=\"data:image/png;base64,iVBORw0KGgoAAAANSUhEUgAAApwAAAAmCAMAAABeW7utAAAARVBMVEX///8AAAAAAAAAAAAAAAAA\n",
       "AAAAAAAAAAAAAAAAAAAAAAAAAAAAAAAAAAAAAAAAAAAAAAAAAAAAAAAAAAAAAAAAAAAAAAAeYafp\n",
       "AAAAFnRSTlMAq1RmmUTNIjK7EInv3Xbt5cnn9enzas/lfgAAAAlwSFlzAAAOxAAADsQBlSsOGwAA\n",
       "BshJREFUeNrtXImyrCgMlX3nzcr/f+qwKILatqJzS32m6m72NRpySE4C2nVnCHReUHcVwbB75XYi\n",
       "qRw9GAAlz9ELwZWsxOD19B2FmwqO+ongRPT18z0FgaeDk59l1Cs/LgI+HJxUvU6+Le0sAflAcEL3\n",
       "Bs77SlkuPBCc5g2cNxbm2IPByd/AeW/WqR4MTiBeB9+6YNcPBmfbUgC7VfcJPzg5MAcLcI6wgugg\n",
       "OE9RdTSrs6YK3x2oMIU2e4cLY6U6RBptbEgOSDgHvFDBL26nwQU4cT6VsoPgPEXVwazQhDLodp02\n",
       "Lbko3smrbPR164Row5dOkAaOX9tOTAtw8iHesQNsLYHzFFUHKWdTfsZgT8BlUx+5fUv5OJ3fupDF\n",
       "mygUczb+JA5f207rSs45LLcreBScp6g6JrrFc4qpHfGksxOnkZ0Ngv5axDYGzqashPqrImevbSfM\n",
       "rgjgRD0/PFIT9OA8Q9XBeqihy8msn67bpxOfxh6ld12O9DUbb2N/pK32BH1Aoppd206eXRGrdW2C\n",
       "aHUcnGeo+vliHYfpWpxHqFYIY5AOIWuVkvGohYoyCJwBoMQy9cZDVZTQElsb+DenGjNrQR06pHOK\n",
       "t1vYSOcT5ZTA8PPsXDe00U6ZXRHBiaMKIU8A5wmqzmpEbJ/hMEzXaj5p7UdcxroRhkiTSLrGkIWR\n",
       "M3g2mhAyneHNDRuqAQPgvIOAwl5FsBdjOM5789ff4fvu6MmdsB49tJ67x+z8ZmibnV3mHRGcDAzf\n",
       "9hdwE3DOVcndUWw6k1b+WskJ+y7JXGU+BYn9kN5pJI66Men6E6dBxzy++RjR0gIqD9xJ6KVwLq1w\n",
       "Tv9o4LQJN1Cj8+z8amibnTlOpCZ8iHQqtYGQmdBXZnD4CPWVBl4HZ6kq3Z/mZYPOYaVw2Qohylpk\n",
       "xwOzMr9SMKheUDTwnN29QyuwT21OzHsmsiddkqjoNAqmnbg0JBrxpQkSBlmIKhaUZ7mmLifBbZgW\n",
       "PUbqyu+QndsM3W9nproJnNCONYwedHELhCARd4GK9FTjGzhLVWkwylCGYhfXjpMp/Ls3svsMzkpB\n",
       "jskzRc2RU6bxdGahoRcRKzGAMDkNLzrNUIx5FWFIPnvBZ2hIkvlO3ZKcGzi7ITPUxfohO78YOrdz\n",
       "o6ETcHo4ITuQttyk6m8E+o9wzuffwFmoihOd63IwAE4DNJKedPgzOGsFmcDMFDWDc3CE/hA5YZit\n",
       "iUwNG0UNLulNGH1SxqMcUPCSz+RAgPZuUImc859/E/Pcyzn5kHBBFcgO2bluaLOdE84Z+pJDhxKJ\n",
       "jll/RzazB8ghYTbcpfL5z/gvsgbOUVWMbTlHpMsFa6RBk+KafQZnpYCoj4pyQbSzWidD88stcTHe\n",
       "z2PPxTjLTqOV05Af/eC40S8aZ4YxByfsQzRu6mjQxlKzp5weT/Q8O1cNbbezrta9T3PvGlgGpWZy\n",
       "BAnkPq1DsjVysrINbsvVqLhKgRAGvBw0Jyo4iSk2kwIsgvzyX2hZUZ7e+zq+bAiYoio0YzNQRr4f\n",
       "nWYdhyynOUVLp4U1KendOx7hkSZHF9MZOHGqIlRTtxI2Mk5vUJqKukb3MTtXDW22k9V9znDl3JW3\n",
       "oSWQA0oCp4ekFRvB2RWQIbzmhZEpSlDqkBBXhbKYJPVSwRjNFxRVk3kr3/TFZPQWDL+oMqIga0HM\n",
       "EBxYaKUylgCn+7YfAGr0cXzsxWJbeJ35ai2czcMp3CsvJizuCMB1//B/D5wg7/qYXPagnWuGNtvJ\n",
       "M/GYbpljLnFNRGOoCjcUwCnVUOV8B2dJk5S/94JzJDSxkfbIlBY+grNSUETzmaJxuE9Z1ae4u6LA\n",
       "sxc3rmjn+JjNFJyechLjOSBXVeTsCLSb+pzTnBwQxGvKWbBqEv+udomIZQUhrf/xpxjS+lRR2e94\n",
       "MDip/A3AqXLfZApOYDtuAgLHRZ60G8+uc4clcPbUIFAIqcbCLS1IxCPpaaZqDUEsK+iqzTiloomg\n",
       "U57SMJd8KwM6fVX4inYK8AmcYccLCL1WNjS4uUmttd3gxJF/SOwo8cwZBqrgVOicw8SlYVjsDJtR\n",
       "2YeCqFTQVdOlVDSriI5viIqsi13PbebkwHlNO8d+y+fHNKQKSXRrd//rYxpww5GlVtL47xvLcHHN\n",
       "jHyG8O43EDK2TX7qGSIivx9ZB+fWXXhId6/cWNTo6J8CJ9pwZBWccGsMl468Hr6xaPjj4Nws7Myp\n",
       "98rtpGyLP/FdSZq/Pn5C4HwkON83IN44cJa+e+T7OSl6vXxPYdUDTo8EpzTs9fMdRZqqv3gaOC/1\n",
       "TnhG35d53VGKDWpnvhP+aunhrYnuGDhnTcD/AAk/Saf4yA0VAAAAAElFTkSuQmCC\n",
       "\" style=\"display:inline;vertical-align:middle;\" /></a><br>(see <a class=\"ProveItLink\" href=\"../../../__pv_it/theorems/042c6cfdc47790907d5f0f5437733b2835dfad730/dependencies.ipynb\">dependencies</a>)<br>"
      ],
      "text/plain": [
       "<IPython.core.display.HTML object>"
      ]
     },
     "metadata": {},
     "output_type": "display_data"
    },
    {
     "name": "stdout",
     "output_type": "stream",
     "text": [
      "qcircuit_input_part_neq may now be readily provable (assuming required theorems are usable).  Simply execute \"%qed\".\n"
     ]
    }
   ],
   "source": [
    "%proving qcircuit_input_part_neq"
   ]
  },
  {
   "cell_type": "code",
   "execution_count": null,
   "metadata": {},
   "outputs": [],
   "source": []
  }
 ],
 "metadata": {
  "kernelspec": {
   "display_name": "Python 3",
   "language": "python",
   "name": "python3"
  }
 },
 "nbformat": 4,
 "nbformat_minor": 0
}