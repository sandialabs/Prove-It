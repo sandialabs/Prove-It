{
 "cells": [
  {
   "cell_type": "markdown",
   "metadata": {},
   "source": [
    "Axioms for the theory of <a class=\"ProveItLink\" href=\"theory.ipynb\">proveit.physics.quantum.circuits</a>\n",
    "========"
   ]
  },
  {
   "cell_type": "code",
   "execution_count": null,
   "metadata": {},
   "outputs": [],
   "source": [
    "import proveit\n",
    "# Prepare this notebook for defining the axioms of a theory:\n",
    "%axioms_notebook # Keep this at the top following 'import proveit'.\n",
    "\n",
    "from proveit import k, l, A, B, S\n",
    "from proveit.logic import Forall, Equals\n",
    "from proveit.numbers import one, NaturalPos\n",
    "from proveit.core_expr_types.expr_arrays import (\n",
    "    A11_to_Akl, B11_to_Bkl, A11_to_Akl_varray, B11_to_Bkl_varray)\n",
    "from proveit.physics.quantum.circuits import (\n",
    "    Input, Output, Measure, Gate, MultiQubitElem)\n",
    "from proveit.physics.quantum.circuits import circuit_Akl, circuit_Bkl "
   ]
  },
  {
   "cell_type": "code",
   "execution_count": null,
   "metadata": {},
   "outputs": [],
   "source": [
    "%begin axioms"
   ]
  },
  {
   "cell_type": "markdown",
   "metadata": {},
   "source": [
    "Quantum circuits of the same dimension are equal if and only if their contents are equal."
   ]
  },
  {
   "cell_type": "code",
   "execution_count": null,
   "metadata": {},
   "outputs": [],
   "source": [
    "qcircuit_eq_def = Forall(\n",
    "    (k, l), Forall(\n",
    "        (A11_to_Akl, B11_to_Bkl),\n",
    "        Equals(Equals(circuit_Akl, circuit_Bkl),\n",
    "               Equals(A11_to_Akl_varray, B11_to_Bkl_varray))\n",
    "        .with_wrap_after_operator()).with_wrapping(),\n",
    "    domain=NaturalPos)"
   ]
  },
  {
   "cell_type": "markdown",
   "metadata": {},
   "source": [
    "Quantum circuit inputs/outputs are equal only when their output states are equal"
   ]
  },
  {
   "cell_type": "code",
   "execution_count": null,
   "metadata": {},
   "outputs": [],
   "source": [
    "qcircuit_input_eq_def = Forall(\n",
    "    (A, B), Equals(Equals(Input(A), Input(B)),\n",
    "                   Equals(A, B)))"
   ]
  },
  {
   "cell_type": "code",
   "execution_count": null,
   "metadata": {},
   "outputs": [],
   "source": [
    "qcircuit_output_eq_def = Forall(\n",
    "    (A, B), Equals(Equals(Output(A), Output(B)),\n",
    "                   Equals(A, B)))"
   ]
  },
  {
   "cell_type": "code",
   "execution_count": null,
   "metadata": {},
   "outputs": [],
   "source": [
    "qcircuit_input_part_eq_def = Forall(\n",
    "    k, Forall(\n",
    "        (A, B, S), Equals(Equals(MultiQubitElem(Input(A, part=k),\n",
    "                                                targets=S),\n",
    "                                 MultiQubitElem(Input(B, part=k),\n",
    "                                                targets=S)),\n",
    "                          Equals(A, B))),\n",
    "    domain=NaturalPos)"
   ]
  },
  {
   "cell_type": "code",
   "execution_count": null,
   "metadata": {},
   "outputs": [],
   "source": [
    "qcircuit_output_part_eq_def = Forall(\n",
    "    k, Forall(\n",
    "        (A, B, S), Equals(Equals(MultiQubitElem(Output(A, part=k),\n",
    "                                                targets=S),\n",
    "                                 MultiQubitElem(Output(B, part=k),\n",
    "                                                targets=S)),\n",
    "                          Equals(A, B))),\n",
    "    domain=NaturalPos)"
   ]
  },
  {
   "cell_type": "code",
   "execution_count": null,
   "metadata": {},
   "outputs": [],
   "source": [
    "%end axioms"
   ]
  },
  {
   "cell_type": "code",
   "execution_count": null,
   "metadata": {},
   "outputs": [],
   "source": []
  }
 ],
 "metadata": {
  "kernelspec": {
   "display_name": "Python 3",
   "language": "python",
   "name": "python3"
  }
 },
 "nbformat": 4,
 "nbformat_minor": 0
}
