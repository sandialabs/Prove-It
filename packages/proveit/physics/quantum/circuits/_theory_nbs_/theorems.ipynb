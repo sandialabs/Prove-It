{
 "cells": [
  {
   "cell_type": "markdown",
   "metadata": {},
   "source": [
    "Theorems (or conjectures) for the theory of <a class=\"ProveItLink\" href=\"theory.ipynb\">proveit.physics.quantum.circuits</a>\n",
    "========"
   ]
  },
  {
   "cell_type": "code",
   "execution_count": null,
   "metadata": {},
   "outputs": [],
   "source": [
    "import proveit\n",
    "# Prepare this notebook for defining the theorems of a theory:\n",
    "%theorems_notebook # Keep this at the top following 'import proveit'.\n",
    "\n",
    "from proveit import k, l, m, n, A, P, Q, U\n",
    "from proveit.core_expr_types import a_1_to_k, b_1_to_k, c_1_to_k\n",
    "from proveit.core_expr_types.expr_arrays import (\n",
    "    A11_to_Akl, A11_to_Akm, B11_to_Bkm, B11_to_Bkn, C11_to_Ckn, D11_to_Dkm,\n",
    "    R11_to_Rkm, S11_to_Skm, S11_to_Skn, U11_to_Ukm, V11_to_Vkm)\n",
    "from proveit.logic import And, Implies, Forall, Equals\n",
    "from proveit.numbers import NaturalPos\n",
    "from proveit.physics.quantum import SPACE, var_ket_psi\n",
    "from proveit.physics.quantum.circuits import Gate, MultiQuditGate, Input, Output\n",
    "#from proveit.physics.quantum.circuit import CircuitEquiv\n",
    "#from proveit.physics.quantum.circuits import (\n",
    "#    circuit_aUVc, circuit_aUb, circuit_bVc, \n",
    "#    circuit_A_detailed, circuit_B_detailed, permuted_circuit_A, permuted_circuit_B,\n",
    "#    circuit_B, circuit_D, circuit_ABCvert, circuit_ADCvert\n",
    "#)"
   ]
  },
  {
   "cell_type": "code",
   "execution_count": null,
   "metadata": {},
   "outputs": [],
   "source": [
    "%begin theorems"
   ]
  },
  {
   "cell_type": "code",
   "execution_count": null,
   "metadata": {},
   "outputs": [],
   "source": [
    "# for use in reducing a MultiQuditGate to a gate within a Circuit.\n",
    "empty_multi_qubit_gate_reduction = Forall(U, Equals(MultiQuditGate(U, []), SPACE))"
   ]
  },
  {
   "cell_type": "code",
   "execution_count": null,
   "metadata": {},
   "outputs": [],
   "source": [
    "# for use in reducing a MultiQuditGate to a gate within a Circuit.\n",
    "unary_multi_qudit_gate_reduction = Forall(\n",
    "    U, Forall(A, Equals(MultiQuditGate(U, [A]), \n",
    "                        Gate(U)), \n",
    "              domain=NaturalPos))"
   ]
  },
  {
   "cell_type": "code",
   "execution_count": null,
   "metadata": {},
   "outputs": [],
   "source": [
    "input_gate_to_ket = Forall(var_ket_psi, Equals(Gate(Input(var_ket_psi)), Input(var_ket_psi)))"
   ]
  },
  {
   "cell_type": "code",
   "execution_count": null,
   "metadata": {},
   "outputs": [],
   "source": [
    "output_gate_to_ket = Forall(var_ket_psi, Equals(Gate(Output(var_ket_psi)), Output(var_ket_psi)))"
   ]
  },
  {
   "cell_type": "code",
   "execution_count": null,
   "metadata": {},
   "outputs": [],
   "source": [
    "%end theorems"
   ]
  },
  {
   "cell_type": "code",
   "execution_count": null,
   "metadata": {},
   "outputs": [],
   "source": [
    "# sub_circuit_inputs = Forall(\n",
    "#     (k, m, n),\n",
    "#     Forall(\n",
    "#         (a_1_to_k, b_1_to_k, c_1_to_k, U11_to_Ukm, V11_to_Vkm, R11_to_Rkm, S11_to_Skm),\n",
    "#         Implies(And(circuit_aUVc, circuit_aUb),\n",
    "#                circuit_bVc).with_wrap_after_operator()),\n",
    "#     domain=NaturalPos)"
   ]
  },
  {
   "cell_type": "code",
   "execution_count": null,
   "metadata": {},
   "outputs": [],
   "source": [
    "# sub_circuit_inputs.instance_expr.instance_expr"
   ]
  },
  {
   "cell_type": "code",
   "execution_count": null,
   "metadata": {},
   "outputs": [],
   "source": [
    "# qubit_permutation = Forall(\n",
    "#     (P, Q), Forall(\n",
    "#         (k, m, n),\n",
    "#         Forall(\n",
    "#             (A11_to_Akm, R11_to_Rkm, B11_to_Bkn, S11_to_Skn),\n",
    "#             Implies(CircuitEquiv(circuit_A_detailed, circuit_B_detailed),\n",
    "#                     CircuitEquiv(permuted_circuit_A, permuted_circuit_B)).with_wrap_after_operator()),\n",
    "#         domain=NaturalPos))"
   ]
  },
  {
   "cell_type": "code",
   "execution_count": null,
   "metadata": {},
   "outputs": [],
   "source": [
    "# qubit_permutation.instance_expr.instance_expr.instance_expr"
   ]
  },
  {
   "cell_type": "code",
   "execution_count": null,
   "metadata": {},
   "outputs": [],
   "source": [
    "# qubit_range_circuit_substitution = Forall(\n",
    "#     (k, l, m, n), Forall(\n",
    "#         (A11_to_Akl, B11_to_Bkm, C11_to_Ckn, D11_to_Dkm),\n",
    "#         Implies(CircuitEquiv(circuit_B, circuit_D),\n",
    "#                 CircuitEquiv(circuit_ABCvert, circuit_ADCvert)).with_wrap_after_operator()),\n",
    "#     domain=NaturalPos)"
   ]
  },
  {
   "cell_type": "code",
   "execution_count": null,
   "metadata": {},
   "outputs": [],
   "source": [
    "# qubit_range_circuit_substitution.instance_expr.instance_expr"
   ]
  },
  {
   "cell_type": "code",
   "execution_count": null,
   "metadata": {},
   "outputs": [],
   "source": [
    "# %end theorems"
   ]
  }
 ],
 "metadata": {
  "kernelspec": {
   "display_name": "Python 3",
   "language": "python",
   "name": "python3"
  }
 },
 "nbformat": 4,
 "nbformat_minor": 0
}
