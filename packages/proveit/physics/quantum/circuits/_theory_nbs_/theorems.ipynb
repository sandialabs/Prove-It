{
 "cells": [
  {
   "cell_type": "markdown",
   "metadata": {},
   "source": [
    "Theorems (or conjectures) for the theory of <a class=\"ProveItLink\" href=\"theory.ipynb\">proveit.physics.quantum.circuits</a>\n",
    "========"
   ]
  },
  {
   "cell_type": "code",
   "execution_count": null,
   "metadata": {},
   "outputs": [],
   "source": [
    "import proveit\n",
    "# Prepare this notebook for defining the theorems of a theory:\n",
    "%theorems_notebook # Keep this at the top following 'import proveit'.\n",
    "from proveit import defaults\n",
    "#defaults.automation = True # Hack for ExprRange simplification to go through\n",
    "\n",
    "from proveit import a, b, i, j, k, l, m, n, p, t, A, B, C, N, P, Q, S, U, X\n",
    "from proveit import Function, Lambda, ExprRange, var_range, IndexedVar, VertExprArray\n",
    "from proveit.core_expr_types import (\n",
    "    a_1_to_k, b_1_to_k, c_1_to_k, i_1_to_m, j_1_to_m, n_1_to_m,\n",
    "    A_1_to_j, A_1_to_m, B_1_to_k, B_1_to_m, B_1_to_n, C_1_to_l, \n",
    "    D_1_to_m, U_1_to_i, U_1_to_m, V_1_to_j)\n",
    "from proveit.core_expr_types.expr_arrays import (\n",
    "    A11_to_Akl, A11_to_Akm, B11_to_Bkl, B11_to_Bkm, B11_to_Bkn, \n",
    "    C11_to_Clm, C11_to_Ckm, D11_to_Dkn,\n",
    "    R11_to_Rkm, S11_to_Skm, S11_to_Skn, T11_to_Tlm, T11_to_Tkm, U11_to_Ukn, V11_to_Vkm,\n",
    "    A11_to_Akl_varray, B11_to_Bkl_varray)\n",
    "from proveit.logic import (And, Implies, Iff, Forall, Equals, NotEquals,\n",
    "                           Set, InSet, SetOfAll, EmptySet, InClass,\n",
    "                           Bijections)\n",
    "from proveit.numbers import (\n",
    "    Natural, NaturalPos, Interval, Abs, Mult, Exp, sqrd, zero, one, two, exp2pi_i)\n",
    "from proveit.linear_algebra import ScalarMult, MatrixMult, TensorProd, Unitary\n",
    "from proveit.statistics import Prob, ProbOfAll, prob_domain, SampleSpaces\n",
    "from proveit.physics.quantum import (\n",
    "    QubitSpace,SPACE, var_ket_psi, varphi, nk_ket_domain, m_ket_domain, var_ket_u, \n",
    "    normalized_var_ket_u, var_ket_v, Z, m_bit_interval, \n",
    "    var_ket_psi, l_ket_domain, m_ket_domain, normalized_var_ket_psi,\n",
    "    RegisterU)\n",
    "from proveit.physics.quantum import (\n",
    "    Qmult, Ket, Bra, NumKet, NumBra)\n",
    "from proveit.physics.quantum.circuits import (\n",
    "    Qcircuit, QcircuitEquiv, Gate, MultiQubitElem, Input, Output, Measure,\n",
    "    multi_input_entries, multi_output_entries)\n",
    "from proveit.physics.quantum.circuits import (\n",
    "    unitary_gate_op, qubit_meas, register_meas,\n",
    "    circuit_Am, circuit_Bn, circuit_Bk, circuit_Dm,\n",
    "    circuit_AjBkCl, circuit_AjDmCl,\n",
    "    circuit_aUb, circuit_aU, circuit_Ua, circuit_Ub, circuit_b,\n",
    "    circuit_Akl, circuit_Bkl,\n",
    "    circuit_Akm, circuit_Bkm, circuit_Bkn, circuit_Ckm, circuit_Dkn,\n",
    "    circuit_permuted_Akm, circuit_permuted_Bkn,\n",
    "    circuit_AkClm, circuit_BkClm, no_1tok_in_Ts,\n",
    "    circuit_compressed_inputAm, circuit_compressed_outputAm,\n",
    "    circuit_expanded_inputBm, circuit_expanded_outputBm,\n",
    "    input_Ak_nk, output_Ak_nk, N_0_to_m, N_m, each_Nk_is_partial_sum,\n",
    "    consolidated_input_A_1_to_m, consolidated_output_A_1_to_m,\n",
    "    circuit_Ui_psi_m, circuit_psi_m_Vj, circuit_Ui_Vj,\n",
    "    circuit__u_Akl_v, circuit__psi_m__u_Akl_v, circuit__u_Akl_v__psi_m,\n",
    "    phase_kickback_circuit, phase_kickback_on_register_circuit\n",
    "    )\n",
    "#from proveit.physics.quantum.circuit import CircuitEquiv\n",
    "#from proveit.physics.quantum.circuits import (\n",
    "#    circuit_aUVc, circuit_aUb, circuit_bVc, \n",
    "#    circuit_A_detailed, circuit_B_detailed, permuted_circuit_A, permuted_circuit_B,\n",
    "#    circuit_B, circuit_D, circuit_ABCvert, circuit_ADCvert\n",
    "#)"
   ]
  },
  {
   "cell_type": "code",
   "execution_count": null,
   "metadata": {},
   "outputs": [],
   "source": [
    "#defaults.automation = False # Hack for ExprRange simplification to go through\n",
    "%begin theorems\n",
    "#defaults.automation = True # Hack for ExprRange simplification to go through\n",
    "#print(\"We need automation to simplify ExprRanges in Qcircuits\")"
   ]
  },
  {
   "cell_type": "markdown",
   "metadata": {},
   "source": [
    "### MultiQubitElem unary reduction"
   ]
  },
  {
   "cell_type": "code",
   "execution_count": null,
   "metadata": {},
   "outputs": [],
   "source": [
    "# for use in reducing a MultiQubitElem to a gate within a Circuit.\n",
    "unary_multi_qubit_elem_reduction = Forall(\n",
    "    X, Equals(MultiQubitElem(X, EmptySet), X))"
   ]
  },
  {
   "cell_type": "code",
   "execution_count": null,
   "metadata": {},
   "outputs": [],
   "source": [
    "unary_multi_gate_reduction = Forall(\n",
    "    A, Forall(\n",
    "        k, Equals(MultiQubitElem(Gate(A, part=one), \n",
    "                                 Interval(k, k)),                   \n",
    "                  Gate(A)),\n",
    "        domain=NaturalPos))"
   ]
  },
  {
   "cell_type": "code",
   "execution_count": null,
   "metadata": {},
   "outputs": [],
   "source": [
    "unary_multi_input_reduction = Forall(\n",
    "    var_ket_psi, Forall(\n",
    "        k, Equals(MultiQubitElem(Input(var_ket_psi, part=one), \n",
    "                                 Interval(k, k)),                   \n",
    "                  Input(var_ket_psi)),\n",
    "        domain=NaturalPos))"
   ]
  },
  {
   "cell_type": "code",
   "execution_count": null,
   "metadata": {},
   "outputs": [],
   "source": [
    "unary_multi_output_reduction = Forall(\n",
    "    var_ket_psi, Forall(\n",
    "        k, Equals(MultiQubitElem(Output(var_ket_psi, part=one), \n",
    "                                 Interval(k, k)),                   \n",
    "                  Output(var_ket_psi)),\n",
    "        domain=NaturalPos))"
   ]
  },
  {
   "cell_type": "code",
   "execution_count": null,
   "metadata": {},
   "outputs": [],
   "source": [
    "unary_multi_meas_reduction = Forall(\n",
    "    B, Forall(\n",
    "        k, Equals(MultiQubitElem(Measure(B, part=one), \n",
    "                                 Interval(k, k)),                   \n",
    "                  Measure(B)),\n",
    "        domain=NaturalPos))"
   ]
  },
  {
   "cell_type": "markdown",
   "metadata": {},
   "source": [
    "### Unitary gate"
   ]
  },
  {
   "cell_type": "code",
   "execution_count": null,
   "metadata": {},
   "outputs": [],
   "source": [
    "unitary_gate_operation = Forall(m, Forall((U, var_ket_psi), Equals(Prob(unitary_gate_op), one),\n",
    "                                   domains=(RegisterU(m), m_ket_domain)),\n",
    "                                domain=NaturalPos)"
   ]
  },
  {
   "cell_type": "markdown",
   "metadata": {},
   "source": [
    "### Equality of quantum circuit elements"
   ]
  },
  {
   "cell_type": "code",
   "execution_count": null,
   "metadata": {},
   "outputs": [],
   "source": [
    "qcircuit_input_eq = Forall(\n",
    "    (A, B), Equals(Input(A), Input(B)), condition=Equals(A, B))"
   ]
  },
  {
   "cell_type": "code",
   "execution_count": null,
   "metadata": {},
   "outputs": [],
   "source": [
    "qcircuit_input_neq = Forall(\n",
    "    (A, B), NotEquals(Input(A), Input(B)), condition=NotEquals(A, B))"
   ]
  },
  {
   "cell_type": "code",
   "execution_count": null,
   "metadata": {},
   "outputs": [],
   "source": [
    "qcircuit_output_eq = Forall(\n",
    "    (A, B), Equals(Output(A), Output(B)), condition=Equals(A, B))"
   ]
  },
  {
   "cell_type": "code",
   "execution_count": null,
   "metadata": {},
   "outputs": [],
   "source": [
    "qcircuit_output_neq = Forall(\n",
    "    (A, B), NotEquals(Output(A), Output(B)), condition=NotEquals(A, B))"
   ]
  },
  {
   "cell_type": "code",
   "execution_count": null,
   "metadata": {},
   "outputs": [],
   "source": [
    "qcircuit_input_part_eq = Forall(\n",
    "    k, Forall(\n",
    "        (A, B, S), Equals(MultiQubitElem(Input(A, part=k), targets=S),\n",
    "                          MultiQubitElem(Input(B, part=k), targets=S)),\n",
    "        condition=Equals(A, B)),\n",
    "    domain=NaturalPos)"
   ]
  },
  {
   "cell_type": "code",
   "execution_count": null,
   "metadata": {},
   "outputs": [],
   "source": [
    "qcircuit_input_part_neq = Forall(\n",
    "    k, Forall(\n",
    "        (A, B, S), NotEquals(MultiQubitElem(Input(A, part=k), targets=S),\n",
    "                             MultiQubitElem(Input(B, part=k), targets=S)),\n",
    "        condition=NotEquals(A, B)),\n",
    "    domain=NaturalPos)"
   ]
  },
  {
   "cell_type": "code",
   "execution_count": null,
   "metadata": {},
   "outputs": [],
   "source": [
    "qcircuit_output_part_eq = Forall(\n",
    "    k, Forall(\n",
    "        (A, B, S), Equals(MultiQubitElem(Output(A, part=k), targets=S),\n",
    "                          MultiQubitElem(Output(B, part=k), targets=S)),\n",
    "        condition=Equals(A, B)),\n",
    "    domain=NaturalPos)"
   ]
  },
  {
   "cell_type": "code",
   "execution_count": null,
   "metadata": {},
   "outputs": [],
   "source": [
    "qcircuit_output_part_neq = Forall(\n",
    "    k, Forall(\n",
    "        (A, B, S), NotEquals(MultiQubitElem(Output(A, part=k), targets=S),\n",
    "                             MultiQubitElem(Output(B, part=k), targets=S)),\n",
    "        condition=NotEquals(A, B)),\n",
    "    domain=NaturalPos)"
   ]
  },
  {
   "cell_type": "code",
   "execution_count": null,
   "metadata": {},
   "outputs": [],
   "source": [
    "qcircuit_eq = Forall(\n",
    "    (k, l), Forall(\n",
    "        (A11_to_Akl, B11_to_Bkl),\n",
    "        Implies(Equals(A11_to_Akl_varray, B11_to_Bkl_varray),\n",
    "                Equals(circuit_Akl, circuit_Bkl))\n",
    "        .with_wrap_after_operator()).with_wrapping(),\n",
    "    domain=NaturalPos)"
   ]
  },
  {
   "cell_type": "code",
   "execution_count": null,
   "metadata": {},
   "outputs": [],
   "source": [
    "qcircuit_neq = Forall(\n",
    "    (k, l), Forall(\n",
    "        (A11_to_Akl, B11_to_Bkl),\n",
    "        Implies(NotEquals(A11_to_Akl_varray, B11_to_Bkl_varray),\n",
    "                NotEquals(circuit_Akl, circuit_Bkl))\n",
    "        .with_wrap_after_operator()).with_wrapping(),\n",
    "    domain=NaturalPos)"
   ]
  },
  {
   "cell_type": "markdown",
   "metadata": {},
   "source": [
    "### Quantum measurement probabilities and sample spaces \n",
    "(These may need to be promoted to axioms.)"
   ]
  },
  {
   "cell_type": "code",
   "execution_count": null,
   "metadata": {},
   "outputs": [],
   "source": [
    "born_rule_on_qubit = Forall(\n",
    "    (var_ket_psi, b), \n",
    "    Equals(Prob(qubit_meas),\n",
    "           sqrd(Abs(Qmult(Bra(b), var_ket_psi)))),\n",
    "    domains=(QubitSpace, Set(zero, one)),\n",
    "    condition=normalized_var_ket_psi)"
   ]
  },
  {
   "cell_type": "code",
   "execution_count": null,
   "metadata": {},
   "outputs": [],
   "source": [
    "born_rule_on_register = Forall(\n",
    "    m, Forall(\n",
    "        n, Forall(var_ket_psi, \n",
    "                  Equals(Prob(register_meas),\n",
    "                         sqrd(Abs(Qmult(NumBra(n, m), var_ket_psi)))),\n",
    "                  domain=m_ket_domain,\n",
    "                  condition=normalized_var_ket_psi),\n",
    "        domain=m_bit_interval),\n",
    "    domain=NaturalPos)"
   ]
  },
  {
   "cell_type": "code",
   "execution_count": null,
   "metadata": {},
   "outputs": [],
   "source": [
    "qubit_meas_sample_space = Forall(\n",
    "    var_ket_psi, InClass(SetOfAll(b, qubit_meas, domain=Set(zero, one)),\n",
    "                         SampleSpaces),\n",
    "    domain=QubitSpace, condition=normalized_var_ket_psi)"
   ]
  },
  {
   "cell_type": "code",
   "execution_count": null,
   "metadata": {},
   "outputs": [],
   "source": [
    "qubit_meas_bijection = Forall(\n",
    "    var_ket_psi, \n",
    "    InSet(Lambda(b, qubit_meas),\n",
    "          Bijections(Set(zero, one), \n",
    "                     SetOfAll(b, qubit_meas, domain=Set(zero, one))))\n",
    "    .with_wrap_after_operator(),\n",
    "    domain=QubitSpace, condition=normalized_var_ket_psi)"
   ]
  },
  {
   "cell_type": "code",
   "execution_count": null,
   "metadata": {},
   "outputs": [],
   "source": [
    "register_meas_sample_space = Forall(\n",
    "    (m, var_ket_psi), InClass(SetOfAll(n, register_meas, \n",
    "                                       domain=m_bit_interval),\n",
    "                              SampleSpaces),\n",
    "    domains=(NaturalPos, m_ket_domain),\n",
    "    condition=normalized_var_ket_psi)"
   ]
  },
  {
   "cell_type": "code",
   "execution_count": null,
   "metadata": {},
   "outputs": [],
   "source": [
    "register_meas_bijection = Forall(\n",
    "    (m, var_ket_psi), \n",
    "    InSet(Lambda(n, register_meas),\n",
    "          Bijections(m_bit_interval,\n",
    "                     SetOfAll(n, register_meas, domain=m_bit_interval)))\n",
    "    .with_wrap_after_operator(),\n",
    "    domains=(NaturalPos, m_ket_domain),\n",
    "    condition=normalized_var_ket_psi)"
   ]
  },
  {
   "cell_type": "markdown",
   "metadata": {},
   "source": [
    "### Circuit equivalences and uses\n",
    "\n",
    "Circuits are equivalent when the function in the same way -- they have the same output for any possible input."
   ]
  },
  {
   "cell_type": "code",
   "execution_count": null,
   "metadata": {},
   "outputs": [],
   "source": [
    "equiv_symmetry = Forall(\n",
    "    (A, B), Equals(QcircuitEquiv(B, A), QcircuitEquiv(A, B)))"
   ]
  },
  {
   "cell_type": "code",
   "execution_count": null,
   "metadata": {},
   "outputs": [],
   "source": [
    "equiv_reversal= Forall(\n",
    "    (A, B), QcircuitEquiv(B, A), condition=QcircuitEquiv(A, B))"
   ]
  },
  {
   "cell_type": "code",
   "execution_count": null,
   "metadata": {},
   "outputs": [],
   "source": [
    "equiv_transitivity = Forall(\n",
    "    (A, B, C), QcircuitEquiv(A, C), \n",
    "    conditions=[QcircuitEquiv(A, B), QcircuitEquiv(B, C)])"
   ]
  },
  {
   "cell_type": "markdown",
   "metadata": {},
   "source": [
    "Circuits are equivalent when they are the same except for a temporal section which is equivalent.  The up/down arrows denote entire columns which may be instantiated with `ExprTuple`s."
   ]
  },
  {
   "cell_type": "code",
   "execution_count": null,
   "metadata": {},
   "outputs": [],
   "source": [
    "circuit_equiv_temporal_sub = Forall(\n",
    "    (j, k, l, m), Forall(\n",
    "        (A_1_to_j, B_1_to_k, C_1_to_l, D_1_to_m),\n",
    "        Implies(QcircuitEquiv(circuit_Bk, circuit_Dm),\n",
    "                QcircuitEquiv(circuit_AjBkCl, circuit_AjDmCl).with_wrap_before_operator())\n",
    "        .with_wrap_after_operator()).with_wrapping(),\n",
    "    domain=Natural)"
   ]
  },
  {
   "cell_type": "markdown",
   "metadata": {},
   "source": [
    "If a quantum circuit is \"true\", meaning that its inputs and outputs have all been specified and are consistent, then an equivalent quantum circuit is also true.  Note that a circuit cannot be provably \"true\" if it has any non-specified inputs or outputs."
   ]
  },
  {
   "cell_type": "code",
   "execution_count": null,
   "metadata": {},
   "outputs": [],
   "source": [
    "prob_eq_via_equiv = Forall((A, B), Equals(Prob(A), Prob(B)), \n",
    "                           conditions=QcircuitEquiv(A, B))"
   ]
  },
  {
   "cell_type": "code",
   "execution_count": null,
   "metadata": {},
   "outputs": [],
   "source": [
    "rhs_prob_via_equiv = Forall(Q, Forall((A, B), Function(Q, Prob(B)), \n",
    "                                      conditions=(Function(Q, Prob(A)),\n",
    "                                                  QcircuitEquiv(A, B))))"
   ]
  },
  {
   "cell_type": "code",
   "execution_count": null,
   "metadata": {},
   "outputs": [],
   "source": [
    "lhs_prob_via_equiv = Forall(Q, Forall((A, B), Function(Q, Prob(A)), \n",
    "                                      conditions=(Function(Q, Prob(B)),\n",
    "                                                  QcircuitEquiv(A, B))))"
   ]
  },
  {
   "cell_type": "markdown",
   "metadata": {},
   "source": [
    "A quantum circuit applied to some input is equivalent to its output in the form of a circuit input.  That is, if a circuit produces some output, it is interchangable with that output when fed as an input in a broader circuit."
   ]
  },
  {
   "cell_type": "code",
   "execution_count": null,
   "metadata": {},
   "outputs": [],
   "source": [
    "circuit_output_equiv = Forall(\n",
    "    (k, m), Forall(\n",
    "        (a, b, U_1_to_m),\n",
    "        Implies(circuit_aUb, \n",
    "                QcircuitEquiv(circuit_aU, circuit_b))),\n",
    "    domain=NaturalPos)"
   ]
  },
  {
   "cell_type": "markdown",
   "metadata": {},
   "source": [
    "Circuit equivalence is preserved under the permutation of qubit row indices."
   ]
  },
  {
   "cell_type": "code",
   "execution_count": null,
   "metadata": {},
   "outputs": [],
   "source": [
    "from proveit import Literal, Function\n",
    "circuit_equiv_qubit_permutation = Forall(\n",
    "    (k, m, n),\n",
    "    Forall(p,\n",
    "           Forall((A11_to_Akm, R11_to_Rkm, B11_to_Bkn, S11_to_Skn),\n",
    "                  Equals(QcircuitEquiv(circuit_Akm, circuit_Bkn),\n",
    "                         QcircuitEquiv(circuit_permuted_Akm, circuit_permuted_Bkn))\n",
    "                  .with_wrap_after_operator()).with_wrapping(),\n",
    "           domain=Function(Literal('Perm', latex_format=r'\\textrm{Perm}'),\n",
    "                           Interval(one, k))), # TODO, ADD Perm\\n\",\n",
    "    domain=NaturalPos)"
   ]
  },
  {
   "cell_type": "code",
   "execution_count": null,
   "metadata": {},
   "outputs": [],
   "source": [
    "circuit_equiv_qubit_permutation.instance_expr.instance_expr.instance_expr.operands"
   ]
  },
  {
   "cell_type": "code",
   "execution_count": null,
   "metadata": {},
   "outputs": [],
   "source": [
    "%%latex\n",
    "$(x_1, ..., x_n) \\\\\n",
    "p^{\\leftarrow}((x_1, ..., x_n)) = (p^{-1}(x_1), ..., p^{-1}(x_n)) \\\\\n",
    "p^{\\leftarrow}(S) = \\{y~|~p(y) \\in S\\}\n",
    "$\n",
    "U on (3, 1, 2)"
   ]
  },
  {
   "cell_type": "markdown",
   "metadata": {},
   "source": [
    "Circuits are equivalent when they are the same except for a top section which is equivalent as long as there are no multi-gate that cross the top and bottom sections and there is no control or swap across the sections.  There could be a control in the top section with a target in the bottom section as long as circuit equivalence accounts for control on external targets as part of the output that must all be consistent for each possible input."
   ]
  },
  {
   "cell_type": "code",
   "execution_count": null,
   "metadata": {},
   "outputs": [],
   "source": [
    "circuit_equiv_top_sub= Forall(\n",
    "    (k, l, m),\n",
    "    Forall((A11_to_Akm, B11_to_Bkm, C11_to_Clm),\n",
    "           Forall((R11_to_Rkm, S11_to_Skm, T11_to_Tlm),\n",
    "                  Implies(QcircuitEquiv(circuit_Akm, circuit_Bkm),\n",
    "                          QcircuitEquiv(circuit_AkClm, circuit_BkClm))\n",
    "                  .with_wrap_after_operator(),\n",
    "                  conditions=no_1tok_in_Ts)\n",
    "           .with_wrap_before_condition().with_wrapping())\n",
    "    .with_wrapping(),\n",
    "    domain=NaturalPos)"
   ]
  },
  {
   "cell_type": "markdown",
   "metadata": {},
   "source": [
    "### Circuit inputs and outputs in different forms"
   ]
  },
  {
   "cell_type": "code",
   "execution_count": null,
   "metadata": {},
   "outputs": [],
   "source": [
    "input_as_tensor_prod = Forall(\n",
    "    m, Forall(\n",
    "        (A, B_1_to_m),\n",
    "        Iff(QcircuitEquiv(circuit_compressed_inputAm, circuit_expanded_inputBm),\n",
    "            Equals(A, TensorProd(B_1_to_m)))),\n",
    "    domain=NaturalPos)"
   ]
  },
  {
   "cell_type": "code",
   "execution_count": null,
   "metadata": {},
   "outputs": [],
   "source": [
    "output_as_tensor_prod = Forall(\n",
    "    m, Forall(\n",
    "        (A, B_1_to_m),\n",
    "        Iff(QcircuitEquiv(circuit_compressed_outputAm, circuit_expanded_outputBm),\n",
    "            Equals(A, TensorProd(B_1_to_m)))),\n",
    "    domain=NaturalPos)"
   ]
  },
  {
   "cell_type": "code",
   "execution_count": null,
   "metadata": {},
   "outputs": [],
   "source": [
    "consolidated_input_A_1_to_m"
   ]
  },
  {
   "cell_type": "code",
   "execution_count": null,
   "metadata": {},
   "outputs": [],
   "source": [
    "input_consolidation = Forall(\n",
    "    m, Forall(\n",
    "        n_1_to_m, Forall(\n",
    "            A_1_to_m,\n",
    "                Forall(N_0_to_m,\n",
    "                       QcircuitEquiv(\n",
    "                           Qcircuit(VertExprArray(\n",
    "                               [ExprRange(k, input_Ak_nk, one, m)])),\n",
    "                           Qcircuit(VertExprArray(\n",
    "                               [ExprRange(k, consolidated_input_A_1_to_m, one, m)]))),\n",
    "                       domain=Natural, condition=each_Nk_is_partial_sum).with_wrapping(),\n",
    "            domains=[ExprRange(k, nk_ket_domain, one, m)]).with_wrapping(),\n",
    "        domain=NaturalPos).with_wrapping(),\n",
    "    domain=NaturalPos)"
   ]
  },
  {
   "cell_type": "code",
   "execution_count": null,
   "metadata": {},
   "outputs": [],
   "source": [
    "output_consolidation = Forall(\n",
    "    m, Forall(\n",
    "        n_1_to_m, Forall(\n",
    "            A_1_to_m,\n",
    "                Forall(N_0_to_m,\n",
    "                       QcircuitEquiv(\n",
    "                           Qcircuit(VertExprArray(\n",
    "                               [ExprRange(k, output_Ak_nk, one, m)])),\n",
    "                           Qcircuit(VertExprArray(\n",
    "                               [ExprRange(k, consolidated_output_A_1_to_m,\n",
    "                                          one, m)]))),\n",
    "                       domain=Natural, condition=each_Nk_is_partial_sum).with_wrapping(),\n",
    "            domains=[ExprRange(k, nk_ket_domain, one, m)]).with_wrapping(),\n",
    "        domain=NaturalPos).with_wrapping(),\n",
    "    domain=NaturalPos)"
   ]
  },
  {
   "cell_type": "markdown",
   "metadata": {},
   "source": [
    "### Quantum circuit experiment extensions"
   ]
  },
  {
   "cell_type": "markdown",
   "metadata": {},
   "source": [
    "The probability for a particular experiment outcome is the product of the outcome probabilities for a first part of the experiment and a second part of the experiment given that the state at the end of the first part matches the state at the beginning of the second part so they can happen in succession.  If one of these is ideal (probability 1), there is no need to retain intermediate labels."
   ]
  },
  {
   "cell_type": "code",
   "execution_count": null,
   "metadata": {},
   "outputs": [],
   "source": [
    "concat_onto_ideal_expt = Forall(\n",
    "    (i, j, m), Forall(\n",
    "        var_ket_psi, \n",
    "        Forall(\n",
    "            (U_1_to_i, V_1_to_j),\n",
    "            Implies(Equals(Prob(circuit_Ui_psi_m), one),\n",
    "                    Equals(Prob(circuit_Ui_Vj),\n",
    "                           Prob(circuit_psi_m_Vj))\n",
    "                    .with_wrap_after_operator())\n",
    "            .with_wrap_after_operator()).with_wrapping(),\n",
    "        domain=m_ket_domain).with_wrapping(),\n",
    "    domain=NaturalPos).with_wrapping()"
   ]
  },
  {
   "cell_type": "code",
   "execution_count": null,
   "metadata": {},
   "outputs": [],
   "source": [
    "concat_ideal_expt = Forall(\n",
    "    (i, j, m), Forall(\n",
    "        var_ket_psi, \n",
    "        Forall(\n",
    "            (U_1_to_i, V_1_to_j),\n",
    "            Implies(Equals(Prob(circuit_psi_m_Vj), one),\n",
    "                    Equals(Prob(circuit_Ui_Vj),\n",
    "                           Prob(circuit_Ui_psi_m))\n",
    "                    .with_wrap_after_operator())\n",
    "            .with_wrap_after_operator()).with_wrapping(),\n",
    "        domain=m_ket_domain).with_wrapping(),\n",
    "    domain=NaturalPos).with_wrapping()"
   ]
  },
  {
   "cell_type": "markdown",
   "metadata": {},
   "source": [
    "If neither experiment is ideal (both have probability less than one), it may not be right to remove the intermediate input/output labels.  Let's revisit this later."
   ]
  },
  {
   "cell_type": "code",
   "execution_count": null,
   "metadata": {},
   "outputs": [],
   "source": [
    "# concatenation_prob = Forall(\n",
    "#     (i, j, m), Forall(\n",
    "#         n_1_to_m,\n",
    "#         Forall(\n",
    "#             A_1_to_m, \n",
    "#             Forall(\n",
    "#                 N_0_to_m, Forall(\n",
    "#                     (U_1_to_i, V_1_to_j),\n",
    "#                     Equals(Prob(circuit_Ui_Vj),\n",
    "#                            Mult(Prob(circuit_Ui_outAm), Prob(circuit_inAm_Vj)))\n",
    "#                     .with_wrap_after_operator()).with_wrapping(),\n",
    "#                 domain=Natural, condition=each_Nk_is_partial_sum).with_wrapping(),\n",
    "#             domains=[ExprRange(k, nk_ket_domain, one, m)]).with_wrapping(),\n",
    "#         domain=NaturalPos).with_wrapping(),\n",
    "#     domain=NaturalPos).with_wrapping()"
   ]
  },
  {
   "cell_type": "markdown",
   "metadata": {},
   "source": [
    "Adding idle qubits is a trivial way to expand a quantum circuit and doesn't affect outcome probabilities."
   ]
  },
  {
   "cell_type": "code",
   "execution_count": null,
   "metadata": {},
   "outputs": [],
   "source": [
    "trivial_expansion_above = Forall(\n",
    "    (k, l, m), Forall(\n",
    "        (var_ket_u, var_ket_v), Forall(\n",
    "            var_ket_psi, Forall(\n",
    "                A11_to_Akl, \n",
    "                Equals(Prob(circuit__u_Akl_v),\n",
    "                       Prob(circuit__psi_m__u_Akl_v))\n",
    "                .with_wrap_after_operator()).with_wrapping(),\n",
    "            domain=m_ket_domain),\n",
    "        domain=l_ket_domain),\n",
    "    domain=NaturalPos)"
   ]
  },
  {
   "cell_type": "code",
   "execution_count": null,
   "metadata": {},
   "outputs": [],
   "source": [
    "trivial_expansion_below = Forall(\n",
    "    (k, l, m), Forall(\n",
    "        (var_ket_u, var_ket_v), Forall(\n",
    "            var_ket_psi, Forall(\n",
    "                A11_to_Akl, \n",
    "                Equals(Prob(circuit__u_Akl_v),\n",
    "                       Prob(circuit__u_Akl_v__psi_m))\n",
    "                .with_wrap_after_operator()).with_wrapping(),\n",
    "            domain=m_ket_domain),\n",
    "        domain=l_ket_domain),\n",
    "    domain=NaturalPos)"
   ]
  },
  {
   "cell_type": "code",
   "execution_count": null,
   "metadata": {},
   "outputs": [],
   "source": [
    "# Whether this is valid depends upon what we regard as being in Q.C.\n",
    "# It might not be safe.\n",
    "# equate_outputs = Forall(\n",
    "#     (k, m), Forall(\n",
    "#         (a, b, U_1_to_m),\n",
    "#         Implies(And(InSet(circuit_Ua, QC), \n",
    "#                     InSet(circuit_Ub, QC))\n",
    "#                 .with_wrap_after_operator(),\n",
    "#                 Equals(a, b))),\n",
    "#     domain=NaturalPos)"
   ]
  },
  {
   "cell_type": "markdown",
   "metadata": {},
   "source": [
    "### Useful circuit truths"
   ]
  },
  {
   "cell_type": "code",
   "execution_count": null,
   "metadata": {},
   "outputs": [],
   "source": [
    "phase_kickback = Forall(\n",
    "    m, Forall(\n",
    "        U, Forall(\n",
    "            var_ket_u, Forall(\n",
    "                varphi, Equals(Prob(phase_kickback_circuit), one),\n",
    "                condition=Equals(Qmult(U, var_ket_u,),\n",
    "                                 ScalarMult(exp2pi_i(varphi), var_ket_u))),\n",
    "            domain=m_ket_domain, condition=normalized_var_ket_u),\n",
    "        domain=Unitary(Exp(two, m))),\n",
    "    domain=NaturalPos)"
   ]
  },
  {
   "cell_type": "code",
   "execution_count": null,
   "metadata": {},
   "outputs": [],
   "source": [
    "phase_kickbacks_on_register = Forall(\n",
    "    (m, t), Forall(\n",
    "        var_range(U, one, t), Forall(\n",
    "            var_ket_u, Forall(\n",
    "                var_range(varphi, one, t), \n",
    "                Equals(Prob(phase_kickback_on_register_circuit), one),\n",
    "                conditions=ExprRange(i, Equals(MatrixMult(IndexedVar(U, i), var_ket_u),\n",
    "                                               ScalarMult(exp2pi_i(IndexedVar(varphi, i)), \n",
    "                                                          var_ket_u)),\n",
    "                                     one, t)).with_wrapping(),\n",
    "            domain=m_ket_domain, condition=normalized_var_ket_u).with_wrapping(),\n",
    "        domain=Unitary(Exp(two, m))).with_wrapping(),\n",
    "    domain=NaturalPos).with_wrapping()"
   ]
  },
  {
   "cell_type": "code",
   "execution_count": null,
   "metadata": {},
   "outputs": [],
   "source": [
    "%end theorems"
   ]
  },
  {
   "cell_type": "code",
   "execution_count": null,
   "metadata": {},
   "outputs": [],
   "source": [
    "# sub_circuit_inputs = Forall(\n",
    "#     (k, m, n),\n",
    "#     Forall(\n",
    "#         (a_1_to_k, b_1_to_k, c_1_to_k, U11_to_Ukm, V11_to_Vkm, R11_to_Rkm, S11_to_Skm),\n",
    "#         Implies(And(circuit_aUVc, circuit_aUb),\n",
    "#                circuit_bVc).with_wrap_after_operator()),\n",
    "#     domain=NaturalPos)"
   ]
  },
  {
   "cell_type": "code",
   "execution_count": null,
   "metadata": {},
   "outputs": [],
   "source": [
    "# sub_circuit_inputs.instance_expr.instance_expr"
   ]
  },
  {
   "cell_type": "code",
   "execution_count": null,
   "metadata": {},
   "outputs": [],
   "source": [
    "# qubit_permutation = Forall(\n",
    "#     (P, Q), Forall(\n",
    "#         (k, m, n),\n",
    "#         Forall(\n",
    "#             (A11_to_Akm, R11_to_Rkm, B11_to_Bkn, S11_to_Skn),\n",
    "#             Implies(CircuitEquiv(circuit_A_detailed, circuit_B_detailed),\n",
    "#                     CircuitEquiv(permuted_circuit_A, permuted_circuit_B)).with_wrap_after_operator()),\n",
    "#         domain=NaturalPos))"
   ]
  },
  {
   "cell_type": "code",
   "execution_count": null,
   "metadata": {},
   "outputs": [],
   "source": [
    "# qubit_permutation.instance_expr.instance_expr.instance_expr"
   ]
  },
  {
   "cell_type": "code",
   "execution_count": null,
   "metadata": {},
   "outputs": [],
   "source": [
    "# qubit_range_circuit_substitution = Forall(\n",
    "#     (k, l, m, n), Forall(\n",
    "#         (A11_to_Akl, B11_to_Bkm, C11_to_Ckn, D11_to_Dkm),\n",
    "#         Implies(CircuitEquiv(circuit_B, circuit_D),\n",
    "#                 CircuitEquiv(circuit_ABCvert, circuit_ADCvert)).with_wrap_after_operator()),\n",
    "#     domain=NaturalPos)"
   ]
  },
  {
   "cell_type": "code",
   "execution_count": null,
   "metadata": {},
   "outputs": [],
   "source": [
    "# qubit_range_circuit_substitution.instance_expr.instance_expr"
   ]
  },
  {
   "cell_type": "code",
   "execution_count": null,
   "metadata": {},
   "outputs": [],
   "source": [
    "# %end theorems"
   ]
  },
  {
   "cell_type": "code",
   "execution_count": null,
   "metadata": {},
   "outputs": [],
   "source": []
  }
 ],
 "metadata": {
  "kernelspec": {
   "display_name": "Python 3",
   "language": "python",
   "name": "python3"
  }
 },
 "nbformat": 4,
 "nbformat_minor": 0
}
