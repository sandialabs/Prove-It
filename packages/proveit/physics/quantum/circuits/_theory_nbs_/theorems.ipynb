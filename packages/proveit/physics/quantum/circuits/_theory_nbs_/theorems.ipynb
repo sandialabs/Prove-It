{
 "cells": [
  {
   "cell_type": "markdown",
   "metadata": {},
   "source": [
    "Theorems (or conjectures) for the theory of <a class=\"ProveItLink\" href=\"theory.ipynb\">proveit.physics.quantum.circuits</a>\n",
    "========"
   ]
  },
  {
   "cell_type": "code",
   "execution_count": null,
   "metadata": {},
   "outputs": [],
   "source": [
    "import proveit\n",
    "# Prepare this notebook for defining the theorems of a theory:\n",
    "%theorems_notebook # Keep this at the top following 'import proveit'.\n",
    "from proveit import defaults\n",
    "defaults.automation = True # Hack for ExprRange simplification to go through\n",
    "\n",
    "from proveit import a, b, i, j, k, l, m, n, p, t, A, P, Q, U\n",
    "from proveit import ExprRange, var_range, IndexedVar\n",
    "from proveit.core_expr_types import (\n",
    "    a_1_to_k, b_1_to_k, c_1_to_k, A_1_to_j, A_1_to_m, B_1_to_k, B_1_to_n, C_1_to_l, D_1_to_m, U_1_to_m)\n",
    "from proveit.core_expr_types.expr_arrays import (\n",
    "    A11_to_Akl, A11_to_Akm, B11_to_Bkm, B11_to_Bkn, C11_to_Clm, C11_to_Ckm, D11_to_Dkn,\n",
    "    R11_to_Rkm, S11_to_Skm, S11_to_Skn, T11_to_Tlm, T11_to_Tkm, U11_to_Ukn, V11_to_Vkm)\n",
    "from proveit.logic import And, Implies, Forall, InSet, Equals\n",
    "from proveit.numbers import Natural, NaturalPos, Interval, Exp, one, two, exp2pi_i\n",
    "from proveit.linear_algebra import SU, ScalarMult\n",
    "from proveit.physics.quantum import SPACE, var_ket_psi, varphi, m_ket_domain, var_ket_u\n",
    "from proveit.physics.quantum import Qmult\n",
    "from proveit.physics.quantum.circuits import (\n",
    "    circuit_Am, circuit_Bn, circuit_Bk, circuit_Dm,\n",
    "    circuit_AjBkCl, circuit_AjDmCl,\n",
    "    circuit_aUb, circuit_aU, circuit_b,\n",
    "    circuit_Akm, circuit_Bkm, circuit_Bkn, circuit_Ckm, circuit_Dkn,\n",
    "    circuit_permuted_Akm, circuit_permuted_Bkn,\n",
    "    circuit_AkClm, circuit_BkClm, no_1tok_in_Ts)\n",
    "    #circuit_permuted_Akm, circuit_permuted_Bkn)\n",
    "from proveit.physics.quantum.circuits import (\n",
    "    QcircuitEquiv, Gate, MultiQubitElem, Input, Output,\n",
    "    phase_kickback_circuit, phase_kickback_on_register_circuit)\n",
    "#from proveit.physics.quantum.circuit import CircuitEquiv\n",
    "#from proveit.physics.quantum.circuits import (\n",
    "#    circuit_aUVc, circuit_aUb, circuit_bVc, \n",
    "#    circuit_A_detailed, circuit_B_detailed, permuted_circuit_A, permuted_circuit_B,\n",
    "#    circuit_B, circuit_D, circuit_ABCvert, circuit_ADCvert\n",
    "#)"
   ]
  },
  {
   "cell_type": "code",
   "execution_count": null,
   "metadata": {},
   "outputs": [],
   "source": [
    "defaults.automation = False # Hack for ExprRange simplification to go through\n",
    "%begin theorems\n",
    "defaults.automation = True # Hack for ExprRange simplification to go through\n",
    "print(\"We need automation to simplify ExprRanges in Qcircuits\")"
   ]
  },
  {
   "cell_type": "markdown",
   "metadata": {},
   "source": [
    "### MultiQubitElem reductions"
   ]
  },
  {
   "cell_type": "code",
   "execution_count": null,
   "metadata": {},
   "outputs": [],
   "source": [
    "# for use in reducing a MultiQubitElem to an empty space within a Circuit.\n",
    "empty_multi_qubit_gate_reduction = Equals(MultiQubitElem(SPACE, []), SPACE)"
   ]
  },
  {
   "cell_type": "code",
   "execution_count": null,
   "metadata": {},
   "outputs": [],
   "source": [
    "# for use in reducing a MultiQubitElem to a gate within a Circuit.\n",
    "unary_multi_qubit_gate_reduction = Forall(\n",
    "    U, Forall(m, Equals(MultiQubitElem(Gate(U), [m]), \n",
    "                        Gate(U)), \n",
    "              domain=NaturalPos))"
   ]
  },
  {
   "cell_type": "code",
   "execution_count": null,
   "metadata": {},
   "outputs": [],
   "source": [
    "# for use in reducing a MultiQubitElem to a Input within a Circuit.\n",
    "unary_multi_qubit_input_reduction = Forall(\n",
    "    var_ket_psi, Forall(m, Equals(MultiQubitElem(Input(var_ket_psi), [m]), \n",
    "                                  Input(var_ket_psi)), \n",
    "                        domain=NaturalPos))"
   ]
  },
  {
   "cell_type": "code",
   "execution_count": null,
   "metadata": {},
   "outputs": [],
   "source": [
    "# for use in reducing a MultiQubitElem to a Input within a Circuit.\n",
    "unary_multi_qubit_output_reduction = Forall(\n",
    "    var_ket_psi, Forall(m, Equals(MultiQubitElem(Output(var_ket_psi), [m]), \n",
    "                                  Output(var_ket_psi)), \n",
    "                        domain=NaturalPos))"
   ]
  },
  {
   "cell_type": "markdown",
   "metadata": {},
   "source": [
    "### Circuit equivalences and uses\n",
    "\n",
    "Circuits are equivalent when the function in the same way -- they have the same output for any possible input."
   ]
  },
  {
   "cell_type": "markdown",
   "metadata": {},
   "source": [
    "Circuits are equivalent when they are the same except for a temporal section which is equivalent.  The up/down arrows denote entire columns which may be instantiated with `ExprTuple`s."
   ]
  },
  {
   "cell_type": "code",
   "execution_count": null,
   "metadata": {},
   "outputs": [],
   "source": [
    "circuit_equiv_temporal_sub = Forall(\n",
    "    (j, k, l, m), Forall(\n",
    "        (A_1_to_j, B_1_to_k, C_1_to_l, D_1_to_m),\n",
    "        Implies(QcircuitEquiv(circuit_Bk, circuit_Dm),\n",
    "                QcircuitEquiv(circuit_AjBkCl, circuit_AjDmCl).with_wrap_before_operator())\n",
    "        .with_wrap_after_operator()),\n",
    "    domain=Natural)"
   ]
  },
  {
   "cell_type": "markdown",
   "metadata": {},
   "source": [
    "If a quantum circuit is \"true\", meaning that its inputs and outputs have all been specified and are consistent, then an equivalent quantum circuit is also true.  Note that a circuit cannot be provably \"true\" if it has any non-specified inputs or outputs."
   ]
  },
  {
   "cell_type": "code",
   "execution_count": null,
   "metadata": {},
   "outputs": [],
   "source": [
    "rhs_via_equiv = Forall(\n",
    "    (k, m, n), Forall(\n",
    "        (A_1_to_m, B_1_to_n),\n",
    "        Implies(And(circuit_Am, QcircuitEquiv(circuit_Am, circuit_Bn)),\n",
    "                circuit_Bn).with_wrap_before_operator()))"
   ]
  },
  {
   "cell_type": "code",
   "execution_count": null,
   "metadata": {},
   "outputs": [],
   "source": [
    "lhs_via_equiv = Forall(\n",
    "    (k, m, n), Forall(\n",
    "        (A_1_to_m, B_1_to_n),\n",
    "        Implies(And(circuit_Bn, QcircuitEquiv(circuit_Am, circuit_Bn)),\n",
    "                circuit_Am).with_wrap_before_operator()))"
   ]
  },
  {
   "cell_type": "markdown",
   "metadata": {},
   "source": [
    "A quantum circuit applied to some input is equivalent to its output in the form of a circuit input.  That is, if a circuit produces some output, it is interchangable with that output when fed as an input in a broader circuit."
   ]
  },
  {
   "cell_type": "code",
   "execution_count": null,
   "metadata": {},
   "outputs": [],
   "source": [
    "circuit_output_equiv = Forall(\n",
    "    (k, m), Forall(\n",
    "        (a, b, U_1_to_m),\n",
    "        Implies(circuit_aUb, \n",
    "                QcircuitEquiv(circuit_aU, circuit_b))),\n",
    "    domain=NaturalPos)"
   ]
  },
  {
   "cell_type": "markdown",
   "metadata": {},
   "source": [
    "Circuit equivalence is preserved under the permutation of qubit row indices."
   ]
  },
  {
   "cell_type": "code",
   "execution_count": null,
   "metadata": {},
   "outputs": [],
   "source": [
    "# This version allows you to prove any QcircuitEquiv from any other.\n",
    "# This is wrong, of course, but a useful placeholder while we work on the proper\n",
    "# version which may require some core changes w.r.t. instantiations parameter ranges.\n",
    "circuit_equiv_qubit_permutation_cheater = Forall(\n",
    "    (k, m, n),\n",
    "    Forall((A11_to_Akm, B11_to_Bkn, C11_to_Ckm, D11_to_Dkn),\n",
    "           Forall((R11_to_Rkm, S11_to_Skn, T11_to_Tkm, U11_to_Ukn),\n",
    "                  Equals(QcircuitEquiv(circuit_Akm, circuit_Bkn),\n",
    "                         QcircuitEquiv(circuit_Ckm, circuit_Dkn))\n",
    "                  .with_wrap_after_operator()).with_wrapping())\n",
    "    .with_wrapping(),\n",
    "    domain=NaturalPos)"
   ]
  },
  {
   "cell_type": "code",
   "execution_count": null,
   "metadata": {},
   "outputs": [],
   "source": [
    "from proveit import Literal, Function\n",
    "circuit_equiv_qubit_permutation = Forall(\n",
    "    (k, m, n),\n",
    "    Forall(p,\n",
    "           Forall((A11_to_Akm, R11_to_Rkm, B11_to_Bkn, S11_to_Skn),\n",
    "                  Equals(QcircuitEquiv(circuit_Akm, circuit_Bkn),\n",
    "                         QcircuitEquiv(circuit_permuted_Akm, circuit_permuted_Bkn))\n",
    "                  .with_wrap_after_operator()).with_wrapping(),\n",
    "           domain=Function(Literal('Perm', latex_format=r'\\\\textrm{Perm}'),\n",
    "                           Interval(one, k))), # TODO, ADD Perm\\n\",\n",
    "    domain=NaturalPos)"
   ]
  },
  {
   "cell_type": "code",
   "execution_count": null,
   "metadata": {},
   "outputs": [],
   "source": [
    "%%latex\n",
    "$(x_1, ..., x_n) \\\\\n",
    "p^{\\leftarrow}((x_1, ..., x_n)) = (p^{-1}(x_1), ..., p^{-1}(x_n)) \\\\\n",
    "p^{\\leftarrow}(S) = \\{y~|~p(y) \\in S\\}\n",
    "$\n",
    "U on (3, 1, 2)"
   ]
  },
  {
   "cell_type": "markdown",
   "metadata": {},
   "source": [
    "Circuits are equivalent when they are the same except for a top section which is equivalent as long as there are no multi-gate that cross the top and bottom sections and there is no control or swap across the sections.  There could be a control in the top section with a target in the bottom section as long as circuit equivalence accounts for control on external targets as part of the output that must all be consistent for each possible input."
   ]
  },
  {
   "cell_type": "code",
   "execution_count": null,
   "metadata": {},
   "outputs": [],
   "source": [
    "circuit_equiv_top_sub= Forall(\n",
    "    (k, l, m),\n",
    "    Forall((A11_to_Akm, B11_to_Bkm, C11_to_Clm),\n",
    "           Forall((R11_to_Rkm, S11_to_Skm, T11_to_Tlm),\n",
    "                  Implies(QcircuitEquiv(circuit_Akm, circuit_Bkm),\n",
    "                          QcircuitEquiv(circuit_AkClm, circuit_BkClm))\n",
    "                  .with_wrap_after_operator(),\n",
    "                  conditions=no_1tok_in_Ts)\n",
    "           .with_wrap_before_condition().with_wrapping())\n",
    "    .with_wrapping(),\n",
    "    domain=NaturalPos)"
   ]
  },
  {
   "cell_type": "markdown",
   "metadata": {},
   "source": [
    "### Useful circuit truths"
   ]
  },
  {
   "cell_type": "code",
   "execution_count": null,
   "metadata": {},
   "outputs": [],
   "source": [
    "defaults.assumptions = [InSet(m, NaturalPos)]\n",
    "phase_kickback = Forall(\n",
    "    m, Forall(\n",
    "        U, Forall(\n",
    "            var_ket_u, Forall(\n",
    "                varphi, phase_kickback_circuit,\n",
    "                condition=Equals(Qmult(U, var_ket_u,),\n",
    "                                 ScalarMult(exp2pi_i(varphi), var_ket_u))),\n",
    "            domain=m_ket_domain),\n",
    "        domain=SU(Exp(two, m))),\n",
    "    domain=NaturalPos)"
   ]
  },
  {
   "cell_type": "code",
   "execution_count": null,
   "metadata": {},
   "outputs": [],
   "source": [
    "from proveit.numbers import greater, subtract, zero\n",
    "defaults.assumptions = [InSet(t, NaturalPos), greater(t, two), greater(subtract(t, one), zero)]\n",
    "phase_kickbacks_on_register = Forall(\n",
    "    (m, t), Forall(\n",
    "        var_range(U, one, t), Forall(\n",
    "            var_ket_u, Forall(\n",
    "                var_range(varphi, one, t), phase_kickback_on_register_circuit,\n",
    "                conditions=ExprRange(i, Equals(Qmult(IndexedVar(U, i), var_ket_u),\n",
    "                                               ScalarMult(exp2pi_i(IndexedVar(varphi, i)), \n",
    "                                                          var_ket_u)),\n",
    "                                     one, t)).with_wrapping(),\n",
    "            domain=m_ket_domain),\n",
    "        domain=SU(Exp(two, m))),\n",
    "    domain=NaturalPos)"
   ]
  },
  {
   "cell_type": "code",
   "execution_count": null,
   "metadata": {},
   "outputs": [],
   "source": [
    "%end theorems"
   ]
  },
  {
   "cell_type": "code",
   "execution_count": null,
   "metadata": {},
   "outputs": [],
   "source": [
    "# sub_circuit_inputs = Forall(\n",
    "#     (k, m, n),\n",
    "#     Forall(\n",
    "#         (a_1_to_k, b_1_to_k, c_1_to_k, U11_to_Ukm, V11_to_Vkm, R11_to_Rkm, S11_to_Skm),\n",
    "#         Implies(And(circuit_aUVc, circuit_aUb),\n",
    "#                circuit_bVc).with_wrap_after_operator()),\n",
    "#     domain=NaturalPos)"
   ]
  },
  {
   "cell_type": "code",
   "execution_count": null,
   "metadata": {},
   "outputs": [],
   "source": [
    "# sub_circuit_inputs.instance_expr.instance_expr"
   ]
  },
  {
   "cell_type": "code",
   "execution_count": null,
   "metadata": {},
   "outputs": [],
   "source": [
    "# qubit_permutation = Forall(\n",
    "#     (P, Q), Forall(\n",
    "#         (k, m, n),\n",
    "#         Forall(\n",
    "#             (A11_to_Akm, R11_to_Rkm, B11_to_Bkn, S11_to_Skn),\n",
    "#             Implies(CircuitEquiv(circuit_A_detailed, circuit_B_detailed),\n",
    "#                     CircuitEquiv(permuted_circuit_A, permuted_circuit_B)).with_wrap_after_operator()),\n",
    "#         domain=NaturalPos))"
   ]
  },
  {
   "cell_type": "code",
   "execution_count": null,
   "metadata": {},
   "outputs": [],
   "source": [
    "# qubit_permutation.instance_expr.instance_expr.instance_expr"
   ]
  },
  {
   "cell_type": "code",
   "execution_count": null,
   "metadata": {},
   "outputs": [],
   "source": [
    "# qubit_range_circuit_substitution = Forall(\n",
    "#     (k, l, m, n), Forall(\n",
    "#         (A11_to_Akl, B11_to_Bkm, C11_to_Ckn, D11_to_Dkm),\n",
    "#         Implies(CircuitEquiv(circuit_B, circuit_D),\n",
    "#                 CircuitEquiv(circuit_ABCvert, circuit_ADCvert)).with_wrap_after_operator()),\n",
    "#     domain=NaturalPos)"
   ]
  },
  {
   "cell_type": "code",
   "execution_count": null,
   "metadata": {},
   "outputs": [],
   "source": [
    "# qubit_range_circuit_substitution.instance_expr.instance_expr"
   ]
  },
  {
   "cell_type": "code",
   "execution_count": null,
   "metadata": {},
   "outputs": [],
   "source": [
    "# %end theorems"
   ]
  }
 ],
 "metadata": {
  "kernelspec": {
   "display_name": "Python 3",
   "language": "python",
   "name": "python3"
  }
 },
 "nbformat": 4,
 "nbformat_minor": 0
}
