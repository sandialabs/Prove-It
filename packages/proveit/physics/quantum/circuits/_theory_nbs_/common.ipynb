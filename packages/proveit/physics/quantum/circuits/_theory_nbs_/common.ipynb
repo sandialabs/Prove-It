{
 "cells": [
  {
   "cell_type": "markdown",
   "metadata": {},
   "source": [
    "Common expressions for the theory of <a class=\"ProveItLink\" href=\"theory.ipynb\">proveit.physics.quantum.circuits</a>\n",
    "========"
   ]
  },
  {
   "cell_type": "code",
   "execution_count": null,
   "metadata": {},
   "outputs": [],
   "source": [
    "import proveit\n",
    "# Prepare this notebook for defining the common expressions of a theory:\n",
    "%common_expressions_notebook # Keep this at the top following 'import proveit'.\n",
    "from proveit import defaults\n",
    "defaults.automation = True # Hack for ExprRange simplification to go through\n",
    "\n",
    "from proveit import (Function, Variable, IndexedVar, Conditional, ConditionalSet,\n",
    "                     ExprRange, ExprTuple, VertExprArray)\n",
    "from proveit import a, b, i, j, k, l, m, n, p, t, A, B, C, D, P, Q, R, S, U, pi\n",
    "from proveit.core_expr_types import a_i, b_i, c_i, i_k, j_k, n_k, n_1_to_m, A_k, A_1_to_m\n",
    "from proveit.core_expr_types.expr_arrays import (\n",
    "    Aij, Bij, Cij, Dij, Eij, Pij, Qij, Rij, Sij, Tij, Uij, Vij, \n",
    "    B11_to_Bmn, D11_to_Dmn, S11_to_Smn)\n",
    "from proveit.logic import Equals, NotEquals, Set, InSet, CartExp, Disjoint\n",
    "from proveit.numbers import NaturalPos, Complex, Interval, zero, one, two, three\n",
    "from proveit.numbers import Add, Neg, subtract, frac, sqrt, Exp, exp2pi_i, greater\n",
    "from proveit.linear_algebra import VecAdd, ScalarMult, TensorProd\n",
    "from proveit.functions import InvImage\n",
    "from proveit.physics.quantum import I, X, Y, Z, H, varphi, ket_plus, ket0, ket1, var_ket_u, m_ket_domain\n",
    "from proveit.physics.quantum.circuits import (\n",
    "    Qcircuit, QcircuitSet, Gate, Input, Output, MultiQubitElem,\n",
    "    control_elem, multi_gate_entries, multi_input_entries, multi_output_entries)"
   ]
  },
  {
   "cell_type": "code",
   "execution_count": null,
   "metadata": {},
   "outputs": [],
   "source": [
    "defaults.automation = False # Hack for ExprRange simplification to go through\n",
    "%begin common\n",
    "defaults.automation = True # Hack for ExprRange simplification to go through\n",
    "print(\"We need automation to simplify ExprRanges in Qcircuits\")"
   ]
  },
  {
   "cell_type": "code",
   "execution_count": null,
   "metadata": {},
   "outputs": [],
   "source": [
    "QC = QcircuitSet() # Represents the set of consistent quantum circuits"
   ]
  },
  {
   "cell_type": "code",
   "execution_count": null,
   "metadata": {},
   "outputs": [],
   "source": [
    "Igate, Xgate, Ygate, Zgate, Hgate = Gate(I), Gate(X), Gate(Y), Gate(Z), Gate(H)"
   ]
  },
  {
   "cell_type": "code",
   "execution_count": null,
   "metadata": {},
   "outputs": [],
   "source": [
    "target = Gate(X).with_implicit_representation()"
   ]
  },
  {
   "cell_type": "code",
   "execution_count": null,
   "metadata": {},
   "outputs": [],
   "source": [
    "# defaults.assumptions = [InSet(m, NaturalPos), InSet(k, NaturalPos), InSet(l, NaturalPos)]"
   ]
  },
  {
   "cell_type": "code",
   "execution_count": null,
   "metadata": {},
   "outputs": [],
   "source": [
    "circuit_Am = Qcircuit(VertExprArray(\n",
    "    ExprRange(i, IndexedVar(A, i), one, m)))"
   ]
  },
  {
   "cell_type": "code",
   "execution_count": null,
   "metadata": {},
   "outputs": [],
   "source": [
    "circuit_Bn = Qcircuit(VertExprArray(\n",
    "    ExprRange(i, IndexedVar(B, i), one, n)))"
   ]
  },
  {
   "cell_type": "code",
   "execution_count": null,
   "metadata": {},
   "outputs": [],
   "source": [
    "circuit_Bk = Qcircuit(VertExprArray(\n",
    "    ExprRange(i, IndexedVar(B, i), one, k)))"
   ]
  },
  {
   "cell_type": "code",
   "execution_count": null,
   "metadata": {},
   "outputs": [],
   "source": [
    "circuit_Dm = Qcircuit(VertExprArray(\n",
    "    ExprRange(i, IndexedVar(D, i), one, m)))"
   ]
  },
  {
   "cell_type": "code",
   "execution_count": null,
   "metadata": {},
   "outputs": [],
   "source": [
    "circuit_AjBkCl = Qcircuit(VertExprArray(\n",
    "    ExprRange(i, IndexedVar(A, i), one, j),\n",
    "    ExprRange(i, IndexedVar(B, i), one, k),\n",
    "    ExprRange(i, IndexedVar(C, i), one, l)))"
   ]
  },
  {
   "cell_type": "code",
   "execution_count": null,
   "metadata": {},
   "outputs": [],
   "source": [
    "circuit_AjDmCl = Qcircuit(VertExprArray(\n",
    "    ExprRange(i, IndexedVar(A, i), one, j),\n",
    "    ExprRange(i, IndexedVar(D, i), one, m),\n",
    "    ExprRange(i, IndexedVar(C, i), one, l)))"
   ]
  },
  {
   "cell_type": "code",
   "execution_count": null,
   "metadata": {},
   "outputs": [],
   "source": [
    "circuit_aUb = Qcircuit(VertExprArray(\n",
    "    [*multi_input_entries(a, one, k, (one, k))],\n",
    "    ExprRange(m, IndexedVar(U, m), one, m),\n",
    "    [*multi_output_entries(b, one, k, (one, k))]))"
   ]
  },
  {
   "cell_type": "code",
   "execution_count": null,
   "metadata": {},
   "outputs": [],
   "source": [
    "circuit_aU = Qcircuit(VertExprArray(\n",
    "    [*multi_input_entries(a, one, k, (one, k))],\n",
    "    ExprRange(k, IndexedVar(U, k), one, m)))"
   ]
  },
  {
   "cell_type": "code",
   "execution_count": null,
   "metadata": {},
   "outputs": [],
   "source": [
    "circuit_Ua = Qcircuit(VertExprArray(\n",
    "    ExprRange(m, IndexedVar(U, m), one, m),\n",
    "    [*multi_output_entries(a, one, k, (one, k))]))"
   ]
  },
  {
   "cell_type": "code",
   "execution_count": null,
   "metadata": {},
   "outputs": [],
   "source": [
    "circuit_Ub = Qcircuit(VertExprArray(\n",
    "    ExprRange(m, IndexedVar(U, m), one, m),\n",
    "    [*multi_output_entries(b, one, k, (one, k))]))"
   ]
  },
  {
   "cell_type": "code",
   "execution_count": null,
   "metadata": {},
   "outputs": [],
   "source": [
    "circuit_b = Qcircuit(VertExprArray(\n",
    "    [*multi_input_entries(b, one, k, (one, k))]))"
   ]
  },
  {
   "cell_type": "code",
   "execution_count": null,
   "metadata": {},
   "outputs": [],
   "source": [
    "circuit_Akm = Qcircuit(VertExprArray(\n",
    "    ExprRange(i, [ExprRange(j, MultiQubitElem(Aij, Rij), one, k)], one, m)))"
   ]
  },
  {
   "cell_type": "code",
   "execution_count": null,
   "metadata": {},
   "outputs": [],
   "source": [
    "circuit_Bkm = Qcircuit(VertExprArray(\n",
    "    ExprRange(i, [ExprRange(j, MultiQubitElem(Bij, Sij), one, k)], one, m)))"
   ]
  },
  {
   "cell_type": "code",
   "execution_count": null,
   "metadata": {},
   "outputs": [],
   "source": [
    "circuit_Bkn = Qcircuit(VertExprArray(\n",
    "    ExprRange(i, [ExprRange(j, MultiQubitElem(Bij, Sij), one, k)], one, n)))"
   ]
  },
  {
   "cell_type": "code",
   "execution_count": null,
   "metadata": {},
   "outputs": [],
   "source": [
    "circuit_Ckm = Qcircuit(VertExprArray(\n",
    "    ExprRange(i, [ExprRange(j, MultiQubitElem(Cij, Tij), one, k)], one, m)))"
   ]
  },
  {
   "cell_type": "code",
   "execution_count": null,
   "metadata": {},
   "outputs": [],
   "source": [
    "circuit_Dkn = Qcircuit(VertExprArray(\n",
    "    ExprRange(i, [ExprRange(j, MultiQubitElem(Dij, Uij), one, k)], one, n)))"
   ]
  },
  {
   "cell_type": "code",
   "execution_count": null,
   "metadata": {},
   "outputs": [],
   "source": [
    "circuit_AkClm = Qcircuit(VertExprArray(\n",
    "    ExprRange(i, [ExprRange(j, MultiQubitElem(Aij, Rij), one, k),\n",
    "                  ExprRange(j, MultiQubitElem(Cij, Tij), one, l)],\n",
    "              one, m)))"
   ]
  },
  {
   "cell_type": "code",
   "execution_count": null,
   "metadata": {},
   "outputs": [],
   "source": [
    "circuit_BkClm = Qcircuit(VertExprArray(\n",
    "    ExprRange(i, [ExprRange(j, MultiQubitElem(Bij, Sij), one, k),\n",
    "                  ExprRange(j, MultiQubitElem(Cij, Tij), one, l)],\n",
    "              one, m)))"
   ]
  },
  {
   "cell_type": "code",
   "execution_count": null,
   "metadata": {},
   "outputs": [],
   "source": [
    "no_1tok_in_Ts = (ExprRange(i, ExprRange(j, Disjoint(Tij, Interval(one, k)), one, m), one, l)\n",
    "                 .with_wrapping_at(8, 16))"
   ]
  },
  {
   "cell_type": "code",
   "execution_count": null,
   "metadata": {},
   "outputs": [],
   "source": [
    "circuit_permuted_Akm = Qcircuit(VertExprArray(\n",
    "    ExprRange(i, [ExprRange(j, \n",
    "                            MultiQubitElem(IndexedVar(A, [pi, j]), \n",
    "                                           Function(InvImage(p), IndexedVar(R, [pi, j]))), \n",
    "                            one, k)], \n",
    "              one, m)))"
   ]
  },
  {
   "cell_type": "code",
   "execution_count": null,
   "metadata": {},
   "outputs": [],
   "source": [
    "circuit_permuted_Bkn = Qcircuit(VertExprArray(\n",
    "    ExprRange(i, [ExprRange(j, \n",
    "                            MultiQubitElem(IndexedVar(B, [pi, j]), \n",
    "                                           Function(InvImage(p), IndexedVar(S, [pi, j]))), \n",
    "                            one, k)], \n",
    "              one, n)))"
   ]
  },
  {
   "cell_type": "code",
   "execution_count": null,
   "metadata": {},
   "outputs": [],
   "source": [
    "circuit_compressed_inputAm = Qcircuit(\n",
    "    VertExprArray([*multi_input_entries(A, one, m, (one, m))]))"
   ]
  },
  {
   "cell_type": "code",
   "execution_count": null,
   "metadata": {},
   "outputs": [],
   "source": [
    "circuit_compressed_outputAm = Qcircuit(\n",
    "    VertExprArray([*multi_output_entries(A, one, m, (one, m))]))"
   ]
  },
  {
   "cell_type": "code",
   "execution_count": null,
   "metadata": {},
   "outputs": [],
   "source": [
    "circuit_expanded_inputBm = Qcircuit(\n",
    "    VertExprArray([ExprRange(k, Input(IndexedVar(B, k)), one, m)]))"
   ]
  },
  {
   "cell_type": "code",
   "execution_count": null,
   "metadata": {},
   "outputs": [],
   "source": [
    "circuit_expanded_outputBm = Qcircuit(\n",
    "    VertExprArray([ExprRange(k, Output(IndexedVar(B, k)), one, m)]))"
   ]
  },
  {
   "cell_type": "code",
   "execution_count": null,
   "metadata": {},
   "outputs": [],
   "source": [
    "n_i = IndexedVar(n, i)"
   ]
  },
  {
   "cell_type": "code",
   "execution_count": null,
   "metadata": {},
   "outputs": [],
   "source": [
    "kth_start = Add(ExprRange(i, n_i, one, subtract(k, one)), one)"
   ]
  },
  {
   "cell_type": "code",
   "execution_count": null,
   "metadata": {},
   "outputs": [],
   "source": [
    "kth_end = Add(ExprRange(i, n_i, one, k))"
   ]
  },
  {
   "cell_type": "code",
   "execution_count": null,
   "metadata": {},
   "outputs": [],
   "source": [
    "input_Ak_nk = (list(multi_input_entries(A_k, kth_start, kth_end, (one, n_k)))[0]\n",
    "               .with_wrapping_at(2, 6))"
   ]
  },
  {
   "cell_type": "code",
   "execution_count": null,
   "metadata": {},
   "outputs": [],
   "source": [
    "output_Ak_nk = (list(multi_output_entries(A_k, kth_start, kth_end, (one, n_k)))[0]\n",
    "                .with_wrapping_at(2, 6))"
   ]
  },
  {
   "cell_type": "code",
   "execution_count": null,
   "metadata": {},
   "outputs": [],
   "source": [
    "sum_n_1_to_m = Add(ExprRange(i, n_i, one, m))"
   ]
  },
  {
   "cell_type": "code",
   "execution_count": null,
   "metadata": {},
   "outputs": [],
   "source": [
    "phase_kickback_circuit = Qcircuit(VertExprArray(\n",
    "    [Input(ket_plus), *multi_input_entries(var_ket_u, two, Add(m, two), (one, Add(m, one)))],\n",
    "    [control_elem(two), *multi_gate_entries(U, two, Add(m, two), (one, Add(m, one)))],\n",
    "    [Output(ScalarMult(frac(one, sqrt(two)), VecAdd(ket0, ScalarMult(exp2pi_i(varphi), ket1)))),\n",
    "      *multi_output_entries(var_ket_u, two, Add(m, two), (one, Add(m, one)))]))"
   ]
  },
  {
   "cell_type": "code",
   "execution_count": null,
   "metadata": {},
   "outputs": [],
   "source": [
    "# We should improve the automation so we don't need these:"
   ]
  },
  {
   "cell_type": "code",
   "execution_count": null,
   "metadata": {},
   "outputs": [],
   "source": [
    "# from proveit.numbers import Neg\n",
    "# one_not_t = Equals(one, t).disprove()\n",
    "# Neg(Neg(one)).simplification().sub_left_side_into(one_not_t)"
   ]
  },
  {
   "cell_type": "code",
   "execution_count": null,
   "metadata": {},
   "outputs": [],
   "source": [
    "defaults.assumptions = [InSet(m, NaturalPos), InSet(k, NaturalPos), InSet(l, NaturalPos),\n",
    "                        InSet(t, NaturalPos), greater(t, two), greater(subtract(t, one), zero), greater(t, one)]"
   ]
  },
  {
   "cell_type": "code",
   "execution_count": null,
   "metadata": {},
   "outputs": [],
   "source": [
    "phase_kickback_on_register_circuit = Qcircuit(VertExprArray(\n",
    "    [ExprRange(i, Input(ket_plus), one, t), \n",
    "     *multi_input_entries(var_ket_u, Add(t, one), Add(t, m), (one, m))],\n",
    "    ExprRange(i,\n",
    "              [ExprRange(j, ConditionalSet(\n",
    "                  Conditional(control_elem(Add(t, one)),\n",
    "                              Equals(i, j)),\n",
    "                  Conditional(Gate(I), NotEquals(i, j))),\n",
    "                         one, t).with_simplification(),\n",
    "               *multi_gate_entries(IndexedVar(U, i), Add(t, one), Add(t, m), (one, m))], \n",
    "              one, t).with_simplification(),\n",
    "    [ExprRange(i, Output(ScalarMult(frac(one, sqrt(two)), \n",
    "                                    VecAdd(ket0, ScalarMult(exp2pi_i(IndexedVar(varphi, i)), ket1)))),\n",
    "               one, t),\n",
    "      *multi_output_entries(var_ket_u, Add(t, one), Add(t, m), (one, m))]))"
   ]
  },
  {
   "cell_type": "code",
   "execution_count": null,
   "metadata": {},
   "outputs": [],
   "source": [
    "%end common"
   ]
  },
  {
   "cell_type": "code",
   "execution_count": null,
   "metadata": {},
   "outputs": [],
   "source": [
    "# circuit_aUVc = Circuit(ExprArray(ExprRange(\n",
    "#         i, ExprTuple(Input(a_i), \n",
    "#                      ExprRange(j, MultiQubitGate(Uij, Rij), one, m),\n",
    "#                      ExprRange(j, MultiQubitGate(Vij, Sij), one, n),\n",
    "#                      Output(c_i)), \n",
    "#         one, k)))"
   ]
  },
  {
   "cell_type": "code",
   "execution_count": null,
   "metadata": {},
   "outputs": [],
   "source": [
    "# circuit_aUb = Circuit(ExprArray(ExprRange(\n",
    "#         i, ExprTuple(Input(a_i), \n",
    "#                      ExprRange(j, MultiQubitGate(Uij, Rij), one, m),\n",
    "#                      Output(b_i)), \n",
    "#         one, k)))"
   ]
  },
  {
   "cell_type": "code",
   "execution_count": null,
   "metadata": {},
   "outputs": [],
   "source": [
    "# print(circuit_aUb.latex())"
   ]
  },
  {
   "cell_type": "code",
   "execution_count": null,
   "metadata": {},
   "outputs": [],
   "source": [
    "# circuit_bVc = Circuit(ExprArray(ExprRange(\n",
    "#         i, ExprTuple(Input(b_i), \n",
    "#                      ExprRange(j, MultiQubitGate(Vij, Sij), one, n),\n",
    "#                      Output(c_i)), \n",
    "#         one, k)))"
   ]
  },
  {
   "cell_type": "code",
   "execution_count": null,
   "metadata": {},
   "outputs": [],
   "source": [
    "# from proveit import i, U"
   ]
  },
  {
   "cell_type": "code",
   "execution_count": null,
   "metadata": {},
   "outputs": [],
   "source": [
    "# U_j = IndexedVar(U, j)"
   ]
  },
  {
   "cell_type": "code",
   "execution_count": null,
   "metadata": {},
   "outputs": [],
   "source": [
    "# Circuit(ExprArray([ExprRange(i, Input(a_i), one, k)], \n",
    "#                    ExprRange(j, U_j, one, m)),\n",
    "#                   [ExprRange(i, Output(b_i), k)])"
   ]
  },
  {
   "cell_type": "code",
   "execution_count": null,
   "metadata": {},
   "outputs": [],
   "source": [
    "# circuit_B = Circuit(ExprArray(ExprRange(\n",
    "#         i, ExprTuple(ExprRange(j, Bij, one, m)), \n",
    "#         one, k)))"
   ]
  },
  {
   "cell_type": "code",
   "execution_count": null,
   "metadata": {},
   "outputs": [],
   "source": [
    "# print(circuit_B.latex())"
   ]
  },
  {
   "cell_type": "code",
   "execution_count": null,
   "metadata": {},
   "outputs": [],
   "source": [
    "# circuit_D = Circuit(ExprArray(ExprRange(\n",
    "#         i, ExprTuple(ExprRange(j, Dij, one, m)), \n",
    "#         one, k)))"
   ]
  },
  {
   "cell_type": "code",
   "execution_count": null,
   "metadata": {},
   "outputs": [],
   "source": [
    "# # THIS WILL BE CORRECT WHEN WE CHANGE TO COLUMN-MAJOR ORDER\n",
    "# circuit_ABCvert = Circuit(ExprArray(ExprRange(\n",
    "#         i, ExprTuple(ExprRange(j, Aij, one, l), ExprRange(j, Bij, one, m), ExprRange(j, Cij, one, n)), \n",
    "#         one, k)))"
   ]
  },
  {
   "cell_type": "code",
   "execution_count": null,
   "metadata": {},
   "outputs": [],
   "source": [
    "# # THIS WILL BE CORRECT WHEN WE CHANGE TO COLUMN-MAJOR ORDER\n",
    "# circuit_ADCvert = Circuit(ExprArray(ExprRange(\n",
    "#         i, ExprTuple(ExprRange(j, Aij, one, l), ExprRange(j, Dij, one, m), ExprRange(j, Cij, one, n)), \n",
    "#         one, k)))"
   ]
  },
  {
   "cell_type": "code",
   "execution_count": null,
   "metadata": {},
   "outputs": [],
   "source": [
    "# circuit_A_detailed = Circuit(ExprArray(ExprRange(\n",
    "#         i, ExprTuple(ExprRange(j, MultiQubitGate(Aij, Rij), one, m)), \n",
    "#         one, k)))"
   ]
  },
  {
   "cell_type": "code",
   "execution_count": null,
   "metadata": {},
   "outputs": [],
   "source": [
    "# circuit_B_detailed = Circuit(ExprArray(ExprRange(\n",
    "#         i, ExprTuple(ExprRange(j, MultiQubitGate(Bij, Sij), one, m)), \n",
    "#         one, k)))"
   ]
  },
  {
   "cell_type": "code",
   "execution_count": null,
   "metadata": {},
   "outputs": [],
   "source": [
    "# permuted_Aij = IndexedVar(A, [Function(P, i), j])"
   ]
  },
  {
   "cell_type": "code",
   "execution_count": null,
   "metadata": {},
   "outputs": [],
   "source": [
    "# permuted_Bij = IndexedVar(B, [Function(P, i), j])"
   ]
  },
  {
   "cell_type": "code",
   "execution_count": null,
   "metadata": {},
   "outputs": [],
   "source": [
    "# permuted_Rij = Function(Q, IndexedVar(R, [Function(P, i), j]))"
   ]
  },
  {
   "cell_type": "code",
   "execution_count": null,
   "metadata": {},
   "outputs": [],
   "source": [
    "# permuted_Sij = Function(Q, IndexedVar(S, [Function(P, i), j]))"
   ]
  },
  {
   "cell_type": "code",
   "execution_count": null,
   "metadata": {},
   "outputs": [],
   "source": [
    "# permuted_circuit_A = Circuit(ExprArray(ExprRange(\n",
    "#         i, ExprTuple(ExprRange(j, MultiQubitGate(permuted_Aij, permuted_Rij), one, m)), \n",
    "#         one, k)))"
   ]
  },
  {
   "cell_type": "code",
   "execution_count": null,
   "metadata": {},
   "outputs": [],
   "source": [
    "# permuted_circuit_B = Circuit(ExprArray(ExprRange(\n",
    "#         i, ExprTuple(ExprRange(j, MultiQubitGate(permuted_Bij, permuted_Sij), one, m)), \n",
    "#         one, k)))"
   ]
  },
  {
   "cell_type": "code",
   "execution_count": null,
   "metadata": {},
   "outputs": [],
   "source": [
    "# %end common"
   ]
  },
  {
   "cell_type": "code",
   "execution_count": null,
   "metadata": {},
   "outputs": [],
   "source": []
  }
 ],
 "metadata": {
  "kernelspec": {
   "display_name": "Python 3",
   "language": "python",
   "name": "python3"
  }
 },
 "nbformat": 4,
 "nbformat_minor": 0
}
