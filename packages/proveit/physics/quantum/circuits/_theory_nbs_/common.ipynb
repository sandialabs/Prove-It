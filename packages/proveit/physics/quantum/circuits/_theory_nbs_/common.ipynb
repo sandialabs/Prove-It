{
 "cells": [
  {
   "cell_type": "markdown",
   "metadata": {},
   "source": [
    "Common expressions for the theory of <a class=\"ProveItLink\" href=\"theory.ipynb\">proveit.physics.quantum.circuits</a>\n",
    "========"
   ]
  },
  {
   "cell_type": "code",
   "execution_count": null,
   "metadata": {},
   "outputs": [],
   "source": [
    "import proveit\n",
    "# Prepare this notebook for defining the common expressions of a theory:\n",
    "%common_expressions_notebook # Keep this at the top following 'import proveit'.\n",
    "\n",
    "from proveit import (Function, Variable, IndexedVar, Conditional, ConditionalSet,\n",
    "                     ExprRange, ExprTuple, VertExprArray, var_range)\n",
    "from proveit import a, b, i, j, k, l, m, n, p, t, A, B, C, D, N, P, Q, R, S, U, pi\n",
    "from proveit.core_expr_types import (\n",
    "    a_i, b_i, c_i, i_k, j_k, n_k, n_1_to_m, A_k, A_1_to_m,\n",
    "    U_1_to_m, U_1_to_i, V_1_to_j)\n",
    "from proveit.core_expr_types.expr_arrays import (\n",
    "    Aij, Bij, Cij, Dij, Eij, Pij, Qij, Rij, Sij, Tij, Uij, Vij, \n",
    "    A11_to_Akl, A11_to_Akl_varray, B11_to_Bmn, D11_to_Dmn, S11_to_Smn)\n",
    "from proveit.logic import And, Equals, NotEquals, Set, InSet, CartExp, Disjoint\n",
    "from proveit.numbers import NaturalPos, Complex, Interval, zero, one, two, three\n",
    "from proveit.numbers import Add, Neg, subtract, frac, sqrt, Exp, exp2pi_i, greater\n",
    "from proveit.linear_algebra import VecAdd, ScalarMult, TensorProd\n",
    "from proveit.functions import InvImage\n",
    "from proveit.physics.quantum import (\n",
    "    I, X, Y, Z, H, Ket, varphi, ket_plus, ket0, ket1, var_ket_u, var_ket_v, m_ket_domain, \n",
    "    var_ket_psi, NumKet, Qmult)\n",
    "from proveit.physics.quantum.circuits import (\n",
    "    Qcircuit, Gate, Input, Output, Measure, MultiQubitElem,\n",
    "    control_elem, multi_wire, multi_gate_entries, \n",
    "    multi_input_entries, multi_output_entries, multi_measure_entries)"
   ]
  },
  {
   "cell_type": "code",
   "execution_count": null,
   "metadata": {},
   "outputs": [],
   "source": [
    "%begin common"
   ]
  },
  {
   "cell_type": "code",
   "execution_count": null,
   "metadata": {},
   "outputs": [],
   "source": [
    "Igate, Xgate, Ygate, Zgate, Hgate = Gate(I), Gate(X), Gate(Y), Gate(Z), Gate(H)"
   ]
  },
  {
   "cell_type": "code",
   "execution_count": null,
   "metadata": {},
   "outputs": [],
   "source": [
    "target = Gate(X).with_implicit_representation()"
   ]
  },
  {
   "cell_type": "code",
   "execution_count": null,
   "metadata": {},
   "outputs": [],
   "source": [
    "unitary_gate_op = Qcircuit(\n",
    "    VertExprArray([*multi_input_entries(var_ket_psi, one, m, (one, m))], \n",
    "                  [*multi_gate_entries(U, one, m, (one, m))], \n",
    "                  [*multi_output_entries(Qmult(U, var_ket_psi), one, m, (one, m))]))"
   ]
  },
  {
   "cell_type": "code",
   "execution_count": null,
   "metadata": {},
   "outputs": [],
   "source": [
    "qubit_meas = Qcircuit(VertExprArray([Input(var_ket_psi)], [Measure(Z)], [Output(Ket(b))]))"
   ]
  },
  {
   "cell_type": "code",
   "execution_count": null,
   "metadata": {},
   "outputs": [],
   "source": [
    "register_meas = Qcircuit(VertExprArray(\n",
    "    [*multi_input_entries(var_ket_psi, one, m, (one, m))], \n",
    "    [ExprRange(k, Measure(Z), one, m)],\n",
    "    [*multi_output_entries(NumKet(n, m), one, m, (one, m))]))"
   ]
  },
  {
   "cell_type": "code",
   "execution_count": null,
   "metadata": {},
   "outputs": [],
   "source": [
    "circuit_Am = Qcircuit(VertExprArray(\n",
    "    ExprRange(i, IndexedVar(A, i), one, m)))"
   ]
  },
  {
   "cell_type": "code",
   "execution_count": null,
   "metadata": {},
   "outputs": [],
   "source": [
    "circuit_Bn = Qcircuit(VertExprArray(\n",
    "    ExprRange(i, IndexedVar(B, i), one, n)))"
   ]
  },
  {
   "cell_type": "code",
   "execution_count": null,
   "metadata": {},
   "outputs": [],
   "source": [
    "circuit_Bk = Qcircuit(VertExprArray(\n",
    "    ExprRange(i, IndexedVar(B, i), one, k)))"
   ]
  },
  {
   "cell_type": "code",
   "execution_count": null,
   "metadata": {},
   "outputs": [],
   "source": [
    "circuit_Dm = Qcircuit(VertExprArray(\n",
    "    ExprRange(i, IndexedVar(D, i), one, m)))"
   ]
  },
  {
   "cell_type": "code",
   "execution_count": null,
   "metadata": {},
   "outputs": [],
   "source": [
    "circuit_AjBkCl = Qcircuit(VertExprArray(\n",
    "    ExprRange(i, IndexedVar(A, i), one, j),\n",
    "    ExprRange(i, IndexedVar(B, i), one, k),\n",
    "    ExprRange(i, IndexedVar(C, i), one, l)))"
   ]
  },
  {
   "cell_type": "code",
   "execution_count": null,
   "metadata": {},
   "outputs": [],
   "source": [
    "circuit_AjDmCl = Qcircuit(VertExprArray(\n",
    "    ExprRange(i, IndexedVar(A, i), one, j),\n",
    "    ExprRange(i, IndexedVar(D, i), one, m),\n",
    "    ExprRange(i, IndexedVar(C, i), one, l)))"
   ]
  },
  {
   "cell_type": "code",
   "execution_count": null,
   "metadata": {},
   "outputs": [],
   "source": [
    "circuit_aUb = Qcircuit(VertExprArray(\n",
    "    [*multi_input_entries(a, one, k, (one, k))],\n",
    "    U_1_to_m,\n",
    "    [*multi_output_entries(b, one, k, (one, k))]))"
   ]
  },
  {
   "cell_type": "code",
   "execution_count": null,
   "metadata": {},
   "outputs": [],
   "source": [
    "circuit_aU = Qcircuit(VertExprArray(\n",
    "    [*multi_input_entries(a, one, k, (one, k))],\n",
    "    U_1_to_m))"
   ]
  },
  {
   "cell_type": "code",
   "execution_count": null,
   "metadata": {},
   "outputs": [],
   "source": [
    "circuit_Ua = Qcircuit(VertExprArray(\n",
    "    U_1_to_m,\n",
    "    [*multi_output_entries(a, one, k, (one, k))]))"
   ]
  },
  {
   "cell_type": "code",
   "execution_count": null,
   "metadata": {},
   "outputs": [],
   "source": [
    "circuit_Ub = Qcircuit(VertExprArray(\n",
    "    U_1_to_m,\n",
    "    [*multi_output_entries(b, one, k, (one, k))]))"
   ]
  },
  {
   "cell_type": "code",
   "execution_count": null,
   "metadata": {},
   "outputs": [],
   "source": [
    "circuit_b = Qcircuit(VertExprArray(\n",
    "    [*multi_input_entries(b, one, k, (one, k))]))"
   ]
  },
  {
   "cell_type": "code",
   "execution_count": null,
   "metadata": {},
   "outputs": [],
   "source": [
    "circuit_Akm = Qcircuit(VertExprArray(\n",
    "    ExprRange(i, [ExprRange(j, MultiQubitElem(Aij, Rij), one, k)], one, m)))"
   ]
  },
  {
   "cell_type": "code",
   "execution_count": null,
   "metadata": {},
   "outputs": [],
   "source": [
    "circuit_Bkm = Qcircuit(VertExprArray(\n",
    "    ExprRange(i, [ExprRange(j, MultiQubitElem(Bij, Sij), one, k)], one, m)))"
   ]
  },
  {
   "cell_type": "code",
   "execution_count": null,
   "metadata": {},
   "outputs": [],
   "source": [
    "circuit_Bkn = Qcircuit(VertExprArray(\n",
    "    ExprRange(i, [ExprRange(j, MultiQubitElem(Bij, Sij), one, k)], one, n)))"
   ]
  },
  {
   "cell_type": "code",
   "execution_count": null,
   "metadata": {},
   "outputs": [],
   "source": [
    "circuit_Ckm = Qcircuit(VertExprArray(\n",
    "    ExprRange(i, [ExprRange(j, MultiQubitElem(Cij, Tij), one, k)], one, m)))"
   ]
  },
  {
   "cell_type": "code",
   "execution_count": null,
   "metadata": {},
   "outputs": [],
   "source": [
    "circuit_Dkn = Qcircuit(VertExprArray(\n",
    "    ExprRange(i, [ExprRange(j, MultiQubitElem(Dij, Uij), one, k)], one, n)))"
   ]
  },
  {
   "cell_type": "code",
   "execution_count": null,
   "metadata": {},
   "outputs": [],
   "source": [
    "circuit_AkClm = Qcircuit(VertExprArray(\n",
    "    ExprRange(i, [ExprRange(j, MultiQubitElem(Aij, Rij), one, k),\n",
    "                  ExprRange(j, MultiQubitElem(Cij, Tij), one, l)],\n",
    "              one, m)))"
   ]
  },
  {
   "cell_type": "code",
   "execution_count": null,
   "metadata": {},
   "outputs": [],
   "source": [
    "circuit_BkClm = Qcircuit(VertExprArray(\n",
    "    ExprRange(i, [ExprRange(j, MultiQubitElem(Bij, Sij), one, k),\n",
    "                  ExprRange(j, MultiQubitElem(Cij, Tij), one, l)],\n",
    "              one, m)))"
   ]
  },
  {
   "cell_type": "code",
   "execution_count": null,
   "metadata": {},
   "outputs": [],
   "source": [
    "no_1tok_in_Ts = ExprRange(i, ExprRange(j, Disjoint(Tij, Interval(one, k)), one, m), one, l)"
   ]
  },
  {
   "cell_type": "code",
   "execution_count": null,
   "metadata": {},
   "outputs": [],
   "source": [
    "no_1tok_in_Ts.body"
   ]
  },
  {
   "cell_type": "code",
   "execution_count": null,
   "metadata": {},
   "outputs": [],
   "source": [
    "no_1tok_in_Ts = (ExprRange(i, ExprRange(j, Disjoint(Tij, Interval(one, k)), one, m), one, l)\n",
    "                 .with_wrapping_at(8, 16))"
   ]
  },
  {
   "cell_type": "code",
   "execution_count": null,
   "metadata": {},
   "outputs": [],
   "source": [
    "circuit_permuted_Akm = Qcircuit(VertExprArray(\n",
    "    ExprRange(i, [ExprRange(j, \n",
    "                            MultiQubitElem(IndexedVar(A, [pi, j]), \n",
    "                                           Function(InvImage(p), IndexedVar(R, [pi, j]))), \n",
    "                            one, k)], \n",
    "              one, m)))"
   ]
  },
  {
   "cell_type": "code",
   "execution_count": null,
   "metadata": {},
   "outputs": [],
   "source": [
    "circuit_permuted_Bkn = Qcircuit(VertExprArray(\n",
    "    ExprRange(i, [ExprRange(j, \n",
    "                            MultiQubitElem(IndexedVar(B, [pi, j]), \n",
    "                                           Function(InvImage(p), IndexedVar(S, [pi, j]))), \n",
    "                            one, k)], \n",
    "              one, n)))"
   ]
  },
  {
   "cell_type": "code",
   "execution_count": null,
   "metadata": {},
   "outputs": [],
   "source": [
    "circuit_compressed_inputAm = Qcircuit(\n",
    "    VertExprArray([*multi_input_entries(A, one, m, (one, m))]))"
   ]
  },
  {
   "cell_type": "code",
   "execution_count": null,
   "metadata": {},
   "outputs": [],
   "source": [
    "circuit_compressed_outputAm = Qcircuit(\n",
    "    VertExprArray([*multi_output_entries(A, one, m, (one, m))]))"
   ]
  },
  {
   "cell_type": "code",
   "execution_count": null,
   "metadata": {},
   "outputs": [],
   "source": [
    "circuit_expanded_inputBm = Qcircuit(\n",
    "    VertExprArray([ExprRange(k, Input(IndexedVar(B, k)), one, m)]))"
   ]
  },
  {
   "cell_type": "code",
   "execution_count": null,
   "metadata": {},
   "outputs": [],
   "source": [
    "circuit_expanded_outputBm = Qcircuit(\n",
    "    VertExprArray([ExprRange(k, Output(IndexedVar(B, k)), one, m)]))"
   ]
  },
  {
   "cell_type": "code",
   "execution_count": null,
   "metadata": {},
   "outputs": [],
   "source": [
    "N_0_to_m = var_range(N, zero, m)"
   ]
  },
  {
   "cell_type": "code",
   "execution_count": null,
   "metadata": {},
   "outputs": [],
   "source": [
    "N_0 = IndexedVar(N, zero)"
   ]
  },
  {
   "cell_type": "code",
   "execution_count": null,
   "metadata": {},
   "outputs": [],
   "source": [
    "N_m = IndexedVar(N, m)"
   ]
  },
  {
   "cell_type": "code",
   "execution_count": null,
   "metadata": {},
   "outputs": [],
   "source": [
    "N_km1 = IndexedVar(N, subtract(k, one))"
   ]
  },
  {
   "cell_type": "code",
   "execution_count": null,
   "metadata": {},
   "outputs": [],
   "source": [
    "kth_start = Add(N_km1, one)"
   ]
  },
  {
   "cell_type": "code",
   "execution_count": null,
   "metadata": {},
   "outputs": [],
   "source": [
    "kth_end = N_k = IndexedVar(N, k)"
   ]
  },
  {
   "cell_type": "code",
   "execution_count": null,
   "metadata": {},
   "outputs": [],
   "source": [
    "each_Nk_is_partial_sum = And(Equals(N_0, zero),\n",
    "                        ExprRange(k, Equals(N_k, Add(N_km1, n_k)), one, m))"
   ]
  },
  {
   "cell_type": "code",
   "execution_count": null,
   "metadata": {},
   "outputs": [],
   "source": [
    "input_Ak_nk = (list(multi_input_entries(A_k, kth_start, kth_end, (one, n_k),\n",
    "                                        check_part_index_span=True))[0]\n",
    "               .with_wrapping_at(2, 6))"
   ]
  },
  {
   "cell_type": "code",
   "execution_count": null,
   "metadata": {},
   "outputs": [],
   "source": [
    "output_Ak_nk = (list(multi_output_entries(A_k, kth_start, kth_end, (one, n_k),\n",
    "                                          check_part_index_span=True))[0]\n",
    "               .with_wrapping_at(2, 6))"
   ]
  },
  {
   "cell_type": "code",
   "execution_count": null,
   "metadata": {},
   "outputs": [],
   "source": [
    "consolidated_input_A_1_to_m = ExprRange(\n",
    "    i, MultiQubitElem(Input(TensorProd(A_1_to_m), part=i),\n",
    "                      targets=Interval(one, N_m)), kth_start, kth_end).with_wrapping_at(2, 6)"
   ]
  },
  {
   "cell_type": "code",
   "execution_count": null,
   "metadata": {},
   "outputs": [],
   "source": [
    "consolidated_output_A_1_to_m = ExprRange(\n",
    "    i, MultiQubitElem(Output(TensorProd(A_1_to_m), part=i),\n",
    "                      targets=Interval(one, N_m)), kth_start, kth_end).with_wrapping_at(2, 6)"
   ]
  },
  {
   "cell_type": "code",
   "execution_count": null,
   "metadata": {},
   "outputs": [],
   "source": [
    "circuit_Ui_psi_m = Qcircuit(\n",
    "    VertExprArray(U_1_to_i.with_front_expansion(1), \n",
    "                  [*multi_output_entries(var_ket_psi, one, m, (one, m))]))"
   ]
  },
  {
   "cell_type": "code",
   "execution_count": null,
   "metadata": {},
   "outputs": [],
   "source": [
    "circuit_psi_m_Vj = Qcircuit(\n",
    "    VertExprArray([*multi_input_entries(var_ket_psi, one, m, (one, m))], \n",
    "                  V_1_to_j.with_front_expansion(1)))"
   ]
  },
  {
   "cell_type": "code",
   "execution_count": null,
   "metadata": {},
   "outputs": [],
   "source": [
    "circuit_Ui_Vj = Qcircuit(VertExprArray(U_1_to_i, V_1_to_j))"
   ]
  },
  {
   "cell_type": "code",
   "execution_count": null,
   "metadata": {},
   "outputs": [],
   "source": [
    "circuit_Akl = Qcircuit(A11_to_Akl_varray)"
   ]
  },
  {
   "cell_type": "code",
   "execution_count": null,
   "metadata": {},
   "outputs": [],
   "source": [
    "circuit__u_Akl_v = Qcircuit(VertExprArray(\n",
    "    [*multi_input_entries(var_ket_u, one, l, (one, l))],\n",
    "    ExprRange(i, ExprTuple(ExprRange(j, Aij, one, l)),\n",
    "              one, k),\n",
    "    [*multi_output_entries(var_ket_v, one, l, (one, l))]))"
   ]
  },
  {
   "cell_type": "code",
   "execution_count": null,
   "metadata": {},
   "outputs": [],
   "source": [
    "m_wire = multi_wire(m)"
   ]
  },
  {
   "cell_type": "code",
   "execution_count": null,
   "metadata": {},
   "outputs": [],
   "source": [
    "n_wire = multi_wire(n)"
   ]
  },
  {
   "cell_type": "code",
   "execution_count": null,
   "metadata": {},
   "outputs": [],
   "source": [
    "circuit__psi_m__u_Akl_v = Qcircuit(VertExprArray(\n",
    "    [*multi_input_entries(var_ket_psi, one, m, (one, m)), \n",
    "     *multi_input_entries(var_ket_u, Add(m, one), Add(m, l), (one, l))],\n",
    "    ExprRange(i, ExprTuple(multi_wire(m), \n",
    "                           ExprRange(j, Aij, one, l)),\n",
    "              one, k),\n",
    "    [*multi_output_entries(var_ket_psi, one, m, (one, m)), \n",
    "     *multi_output_entries(var_ket_v, Add(m, one), Add(m, l), (one, l))]))"
   ]
  },
  {
   "cell_type": "code",
   "execution_count": null,
   "metadata": {},
   "outputs": [],
   "source": [
    "circuit__u_Akl_v__psi_m = Qcircuit(VertExprArray(\n",
    "    [*multi_input_entries(var_ket_u, one, l, (one, l)), \n",
    "     *multi_input_entries(var_ket_psi, Add(l, one), Add(l, m), (one, m))],\n",
    "    ExprRange(i, ExprTuple(ExprRange(j, Aij, one, l),\n",
    "                           multi_wire(m)),\n",
    "              one, k),\n",
    "    [*multi_output_entries(var_ket_v, one, l, (one, l)), \n",
    "     *multi_output_entries(var_ket_psi, Add(l, one), Add(l, m), (one, m))]))"
   ]
  },
  {
   "cell_type": "code",
   "execution_count": null,
   "metadata": {},
   "outputs": [],
   "source": [
    "phase_kickback_circuit = Qcircuit(VertExprArray(\n",
    "    [Input(ket_plus), *multi_input_entries(var_ket_u, two, Add(m, two), (one, Add(m, one)))],\n",
    "    [control_elem(two), *multi_gate_entries(U, two, Add(m, two), (one, Add(m, one)))],\n",
    "    [Output(ScalarMult(frac(one, sqrt(two)), VecAdd(ket0, ScalarMult(exp2pi_i(varphi), ket1)))),\n",
    "      *multi_output_entries(var_ket_u, two, Add(m, two), (one, Add(m, one)))]))"
   ]
  },
  {
   "cell_type": "code",
   "execution_count": null,
   "metadata": {},
   "outputs": [],
   "source": [
    "phase_kickback_on_register_circuit = Qcircuit(VertExprArray(\n",
    "    [ExprRange(i, Input(ket_plus), one, t), \n",
    "     *multi_input_entries(var_ket_u, Add(t, one), Add(t, m), (one, m))],\n",
    "    ExprRange(i,\n",
    "              [ExprRange(j, ConditionalSet(\n",
    "                  Conditional(control_elem(Add(t, one)),\n",
    "                              Equals(i, j)),\n",
    "                  Conditional(Gate(I), NotEquals(i, j))),\n",
    "                         one, t).with_case_simplification(),\n",
    "               *multi_gate_entries(IndexedVar(U, i), Add(t, one), Add(t, m), (one, m))], \n",
    "              one, t).with_case_simplification(),\n",
    "    [ExprRange(i, Output(ScalarMult(frac(one, sqrt(two)), \n",
    "                                    VecAdd(ket0, ScalarMult(exp2pi_i(IndexedVar(varphi, i)), ket1)))),\n",
    "               one, t),\n",
    "      *multi_output_entries(var_ket_u, Add(t, one), Add(t, m), (one, m))]))"
   ]
  },
  {
   "cell_type": "code",
   "execution_count": null,
   "metadata": {},
   "outputs": [],
   "source": [
    "%end common"
   ]
  },
  {
   "cell_type": "code",
   "execution_count": null,
   "metadata": {},
   "outputs": [],
   "source": []
  }
 ],
 "metadata": {
  "kernelspec": {
   "display_name": "Python 3",
   "language": "python",
   "name": "python3"
  }
 },
 "nbformat": 4,
 "nbformat_minor": 0
}
